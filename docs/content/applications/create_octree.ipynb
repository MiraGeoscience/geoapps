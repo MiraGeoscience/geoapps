{
 "cells": [
  {
   "cell_type": "markdown",
   "id": "dc4aeb18",
   "metadata": {},
   "source": [
    "# Octree Mesh Creation\n",
    "\n",
    " <img align=\"right\" width=\"400px\" src=\"./images/octree_mesh_creation.png\">\n",
    " \n",
    "This application lets users create `Octree` mesh objects with local refinements using the [SimPEG.discretize](http://discretize.simpeg.xyz/en/main/) package. The refinements can be performed on any number of objects.\n",
    "\n",
    "See the [Methodology](#Methodology) section to learn more about how the algorithm works.\n",
    "\n",
    "New user? Visit the [**Getting Started**](https://geoapps.readthedocs.io/en/latest/content/installation.html) page."
   ]
  },
  {
   "cell_type": "markdown",
   "id": "d7fd644e",
   "metadata": {},
   "source": [
    "## Application\n",
    "The following sections provide details on the different parameters controlling the application. Interactive widgets shown below are for demonstration purposes only."
   ]
  },
  {
   "cell_type": "code",
   "execution_count": 1,
   "id": "9e26de89",
   "metadata": {
    "scrolled": false
   },
   "outputs": [
    {
     "data": {
      "application/vnd.jupyter.widget-view+json": {
       "model_id": "95761ffeb8df4704839b084904822422",
       "version_major": 2,
       "version_minor": 0
      },
      "text/plain": [
       "VBox(children=(VBox(children=(VBox(children=(Label(value='Workspace', style=DescriptionStyle(description_width…"
      ]
     },
     "metadata": {},
     "output_type": "display_data"
    }
   ],
   "source": [
    "from geoapps.create.octree_mesh import OctreeMesh\n",
    "\n",
    "app = OctreeMesh(h5file=r\"../../../assets/FlinFlon.geoh5\")\n",
    "app()"
   ]
  },
  {
   "cell_type": "markdown",
   "id": "4b3a44cf",
   "metadata": {},
   "source": [
    "## Project Selection\n",
    "\n",
    "Select and connect to an existing **geoh5** project file containing objects with vertices. \n",
    "\n",
    "OR \n",
    "\n",
    "Select a `*.ui.json` input file to re-load parameters from. See the [Input ui.json](#Input-ui.json) section for details."
   ]
  },
  {
   "cell_type": "code",
   "execution_count": 2,
   "id": "87303784",
   "metadata": {},
   "outputs": [
    {
     "data": {
      "application/vnd.jupyter.widget-view+json": {
       "model_id": "f405ba4b8fd14cf7b08d99b74b3c8819",
       "version_major": 2,
       "version_minor": 0
      },
      "text/plain": [
       "VBox(children=(Label(value='Workspace', style=DescriptionStyle(description_width='initial')), HBox(children=(F…"
      ]
     },
     "metadata": {},
     "output_type": "display_data"
    }
   ],
   "source": [
    "app.project_panel"
   ]
  },
  {
   "cell_type": "markdown",
   "id": "590cb30c",
   "metadata": {},
   "source": [
    "See the [Project Panel](base_application.ipynb#Project-Panel) page for more details."
   ]
  },
  {
   "cell_type": "markdown",
   "id": "9047c969",
   "metadata": {},
   "source": [
    "## Core hull extent\n",
    "\n",
    "List of objects available to define the core region of the mesh. Padding parameters are added beyond the convex hull of the selected object. "
   ]
  },
  {
   "cell_type": "code",
   "execution_count": 3,
   "id": "401728c4",
   "metadata": {},
   "outputs": [
    {
     "data": {
      "application/vnd.jupyter.widget-view+json": {
       "model_id": "8b2b2135c11141118225b4361e86d4bf",
       "version_major": 2,
       "version_minor": 0
      },
      "text/plain": [
       "Dropdown(description='Core hull extent:', index=6, options=(['', None], ['Ore/39_Ore_Callinan', UUID('9c5a1a0e…"
      ]
     },
     "metadata": {},
     "output_type": "display_data"
    }
   ],
   "source": [
    "app.objects"
   ]
  },
  {
   "cell_type": "markdown",
   "id": "9f694f6f",
   "metadata": {},
   "source": [
    "## Mesh Parameters\n",
    "\n",
    " <img align=\"right\" width=\"40%\" src=\"./images/Octree_core_depth.png\">\n",
    " \n",
    "### Minimum depth\n",
    "\n",
    "Minimum thickness of the mesh below the [core hull extent](#Core-hull-extent). See the [Methodology](#Methodology) section for details."
   ]
  },
  {
   "cell_type": "code",
   "execution_count": 4,
   "id": "fbb3c3b4",
   "metadata": {},
   "outputs": [
    {
     "data": {
      "application/vnd.jupyter.widget-view+json": {
       "model_id": "8ae2ebefa8e44d299c805882b9e2bd31",
       "version_major": 2,
       "version_minor": 0
      },
      "text/plain": [
       "FloatText(value=500.0, description='Minimum depth (m)', style=DescriptionStyle(description_width='initial'))"
      ]
     },
     "metadata": {},
     "output_type": "display_data"
    }
   ],
   "source": [
    "app.depth_core"
   ]
  },
  {
   "cell_type": "markdown",
   "id": "1b9deadc",
   "metadata": {},
   "source": [
    "### Core cell sizes\n",
    "\n",
    "#### Easting\n",
    "\n",
    "Minimum cell size (m) along the x-axis\n"
   ]
  },
  {
   "cell_type": "code",
   "execution_count": 5,
   "id": "e3370941",
   "metadata": {},
   "outputs": [
    {
     "data": {
      "application/vnd.jupyter.widget-view+json": {
       "model_id": "c729f7de0e9f43bc85a2eb162fce2911",
       "version_major": 2,
       "version_minor": 0
      },
      "text/plain": [
       "FloatText(value=25.0, description='Easting', style=DescriptionStyle(description_width='initial'))"
      ]
     },
     "metadata": {},
     "output_type": "display_data"
    }
   ],
   "source": [
    "app.u_cell_size"
   ]
  },
  {
   "cell_type": "markdown",
   "id": "fe4af932",
   "metadata": {},
   "source": [
    "#### Northing\n",
    "\n",
    "Minimum cell dimension (m) along the y-axis"
   ]
  },
  {
   "cell_type": "code",
   "execution_count": 6,
   "id": "fa594eaf",
   "metadata": {},
   "outputs": [
    {
     "data": {
      "application/vnd.jupyter.widget-view+json": {
       "model_id": "19990c20be3648c298ff61ef0d882e52",
       "version_major": 2,
       "version_minor": 0
      },
      "text/plain": [
       "FloatText(value=25.0, description='Northing', style=DescriptionStyle(description_width='initial'))"
      ]
     },
     "metadata": {},
     "output_type": "display_data"
    }
   ],
   "source": [
    "app.v_cell_size"
   ]
  },
  {
   "cell_type": "markdown",
   "id": "a89ff302",
   "metadata": {},
   "source": [
    "#### Vertical\n",
    "\n",
    "Minimum cell dimension (m) along the z-axis"
   ]
  },
  {
   "cell_type": "code",
   "execution_count": 7,
   "id": "19bb9da7",
   "metadata": {},
   "outputs": [
    {
     "data": {
      "application/vnd.jupyter.widget-view+json": {
       "model_id": "da9c9e85a3144509bae1ad47837d2a46",
       "version_major": 2,
       "version_minor": 0
      },
      "text/plain": [
       "FloatText(value=25.0, description='Vertical', style=DescriptionStyle(description_width='initial'))"
      ]
     },
     "metadata": {},
     "output_type": "display_data"
    }
   ],
   "source": [
    "app.w_cell_size"
   ]
  },
  {
   "cell_type": "markdown",
   "id": "f862f0c7",
   "metadata": {},
   "source": [
    "### Padding distances\n",
    "\n",
    "Minimum padding distance (m) requested around the core region. \n",
    "\n",
    "\n",
    "#### Horizontal\n",
    "\n",
    "Padding distance added around the core region on the XY-plane."
   ]
  },
  {
   "cell_type": "code",
   "execution_count": 8,
   "id": "4078142c",
   "metadata": {},
   "outputs": [
    {
     "data": {
      "application/vnd.jupyter.widget-view+json": {
       "model_id": "f79f7a65fca041d485f195b7a9104055",
       "version_major": 2,
       "version_minor": 0
      },
      "text/plain": [
       "FloatText(value=1000.0, description='Horizontal (m)', style=DescriptionStyle(description_width='initial'))"
      ]
     },
     "metadata": {},
     "output_type": "display_data"
    }
   ],
   "source": [
    "app.horizontal_padding"
   ]
  },
  {
   "cell_type": "markdown",
   "id": "7192250c",
   "metadata": {},
   "source": [
    "#### Vertical\n",
    "\n",
    "Padding distance added above and below the core region."
   ]
  },
  {
   "cell_type": "code",
   "execution_count": 9,
   "id": "86455bf1",
   "metadata": {},
   "outputs": [
    {
     "data": {
      "application/vnd.jupyter.widget-view+json": {
       "model_id": "aa2f37c788a241e096634de8856956ca",
       "version_major": 2,
       "version_minor": 0
      },
      "text/plain": [
       "FloatText(value=1000.0, description='Vertical (m)', style=DescriptionStyle(description_width='initial'))"
      ]
     },
     "metadata": {},
     "output_type": "display_data"
    }
   ],
   "source": [
    "app.vertical_padding"
   ]
  },
  {
   "cell_type": "markdown",
   "id": "69ee7d6e",
   "metadata": {},
   "source": [
    "## Refinements\n",
    "\n",
    "Blocks of refinement parameters controling where small cells are required. Overlapping regions of refinement will default to the smaller cell size. Cells outside of the regions of refinement are allowed to increase in size (double) as quickly as possible to fill the remaining volume.\n",
    "\n",
    "**Note**: The application defaults to two blocks of refinement, labeled as A and B. [See notes below](#Input-ui.json) to learn how to add more blocks of refinement."
   ]
  },
  {
   "cell_type": "code",
   "execution_count": 10,
   "id": "d026014c",
   "metadata": {},
   "outputs": [
    {
     "data": {
      "application/vnd.jupyter.widget-view+json": {
       "model_id": "7c5c32e8310840fabe3329a8ae10cbdd",
       "version_major": 2,
       "version_minor": 0
      },
      "text/plain": [
       "VBox(children=(Label(value='Refinement A'), Dropdown(description='Object', index=6, options=(['', None], ['Ore…"
      ]
     },
     "metadata": {},
     "output_type": "display_data"
    }
   ],
   "source": [
    "app.refinement_list.children[0]"
   ]
  },
  {
   "cell_type": "markdown",
   "id": "ff562da5",
   "metadata": {},
   "source": [
    "### Object\n",
    "\n",
    "Reference object with 3D coordinates (`vertices` or `centroids`) used to refine the octree mesh. "
   ]
  },
  {
   "cell_type": "code",
   "execution_count": 11,
   "id": "7907a96a",
   "metadata": {},
   "outputs": [
    {
     "data": {
      "application/vnd.jupyter.widget-view+json": {
       "model_id": "9101b93f55d0419b859ef308b09bebd6",
       "version_major": 2,
       "version_minor": 0
      },
      "text/plain": [
       "Dropdown(description='Object', index=6, options=(['', None], ['Ore/39_Ore_Callinan', UUID('9c5a1a0e-506e-4b49-…"
      ]
     },
     "metadata": {},
     "output_type": "display_data"
    }
   ],
   "source": [
    "app.refinement_list.children[0].children[1]"
   ]
  },
  {
   "cell_type": "markdown",
   "id": "5dffda33",
   "metadata": {},
   "source": [
    "### Levels\n",
    "\n",
    "List of integers defining the minimum number of cells at each octree level [$N_{level 1}$, $N_{level 2}$, $N_{level 3}$, ...]. [See examples below](#Radial)"
   ]
  },
  {
   "cell_type": "code",
   "execution_count": 12,
   "id": "0910d382",
   "metadata": {},
   "outputs": [
    {
     "data": {
      "application/vnd.jupyter.widget-view+json": {
       "model_id": "b808e31432a34e71a6ee308963e9c174",
       "version_major": 2,
       "version_minor": 0
      },
      "text/plain": [
       "Text(value='4.0, 4.0, 4.0', description='Levels', style=DescriptionStyle(description_width='initial'))"
      ]
     },
     "metadata": {},
     "output_type": "display_data"
    }
   ],
   "source": [
    "app.refinement_list.children[0].children[2]"
   ]
  },
  {
   "cell_type": "markdown",
   "id": "31605751",
   "metadata": {},
   "source": [
    "### Type\n",
    "\n",
    "The type of refinement to be performed on the selected object vertices and number of cells per octree level."
   ]
  },
  {
   "cell_type": "code",
   "execution_count": 13,
   "id": "a275e459",
   "metadata": {},
   "outputs": [
    {
     "data": {
      "application/vnd.jupyter.widget-view+json": {
       "model_id": "f083ccc0a3204eb0920cc3545e73382a",
       "version_major": 2,
       "version_minor": 0
      },
      "text/plain": [
       "Dropdown(description='Type', index=1, options=('surface', 'radial'), style=DescriptionStyle(description_width=…"
      ]
     },
     "metadata": {},
     "output_type": "display_data"
    }
   ],
   "source": [
    "app.refinement_list.children[0].children[3]"
   ]
  },
  {
   "cell_type": "markdown",
   "id": "ba86595c",
   "metadata": {},
   "source": [
    "#### Radial\n",
    "\n",
    "Octree cells specified at each [Level](#Levels) are added as concentric shells around the selected `Object` `vertices`.\n",
    "\n",
    " <img align=\"center\" width=\"75%\" src=\"./images/Octree_radial.png\">\n",
    " \n",
    " \n",
    "#### Surface\n",
    "\n",
    "Octree cells specified at each [Level](#Levels) are added at depth as layers of cells. The layers of cells are defined by a 2D Delaunay triangulation based on the `Object` `vertices`. The [maximum distance](#Max-distance) parameter can be use to limit the horizontal extent of the refinement. \n",
    "\n",
    " <img align=\"center\" width=\"75%\" src=\"./images/Octree_surface.png\">"
   ]
  },
  {
   "cell_type": "markdown",
   "id": "8843d94f",
   "metadata": {},
   "source": [
    "### Max distance\n",
    "\n",
    "Maximum refinement distance away from the input vertices. Cell sizes are allowed to increase quickly beyond this distance. \n",
    "\n",
    "**Note**: This parameter is useful to avoid a fine refinement occuring between remote vertices as shown above."
   ]
  },
  {
   "cell_type": "code",
   "execution_count": 14,
   "id": "9a714088",
   "metadata": {},
   "outputs": [
    {
     "data": {
      "application/vnd.jupyter.widget-view+json": {
       "model_id": "e1970f1a8d2b4b678f78b490e9fa8dbf",
       "version_major": 2,
       "version_minor": 0
      },
      "text/plain": [
       "FloatText(value=1000.0, description='Distance', style=DescriptionStyle(description_width='initial'))"
      ]
     },
     "metadata": {},
     "output_type": "display_data"
    }
   ],
   "source": [
    "app.refinement_list.children[0].children[4]"
   ]
  },
  {
   "cell_type": "markdown",
   "id": "8dd8706f",
   "metadata": {},
   "source": [
    "## Output panel\n",
    "\n",
    "An octree mesh is created and exported directly to the target workspace by clicking on the export button."
   ]
  },
  {
   "cell_type": "code",
   "execution_count": 15,
   "id": "e9e13777",
   "metadata": {},
   "outputs": [
    {
     "data": {
      "application/vnd.jupyter.widget-view+json": {
       "model_id": "a7f1d19b5f5d483b9220878aaf64ed77",
       "version_major": 2,
       "version_minor": 0
      },
      "text/plain": [
       "VBox(children=(VBox(children=(Button(button_style='danger', description='Create', icon='check', style=ButtonSt…"
      ]
     },
     "metadata": {},
     "output_type": "display_data"
    }
   ],
   "source": [
    "app.output_panel"
   ]
  },
  {
   "cell_type": "markdown",
   "id": "2db353d2",
   "metadata": {},
   "source": [
    "### (Optional) Geoscience ANALYST Pro - Live link\n",
    "See [Output Panel](base_application.ipynb#Output-Panel) base applications."
   ]
  },
  {
   "cell_type": "code",
   "execution_count": 16,
   "id": "bd0114f9",
   "metadata": {
    "nbsphinx": "hidden"
   },
   "outputs": [],
   "source": [
    "import os\n",
    "app.params.write_input_file(name=\"Octree_Mesh.ui.json\", path='./')"
   ]
  },
  {
   "cell_type": "markdown",
   "id": "9a508a3c",
   "metadata": {},
   "source": [
    "## Methodology\n",
    "\n",
    "This section provides algorithmic details about the mesh creation. The entire process can be broken down into three main parts:\n",
    "\n",
    "### Step 1- Mesh creation\n",
    "\n",
    "\n",
    "The first stage relies on the [discretize.utils.mesh_builder_xyz](http://discretize.simpeg.xyz/en/main/api/generated/discretize.utils.mesh_builder_xyz.html?highlight=xyz#discretize-utils-mesh-builder-xyz)\n",
    "method to define the outer limits of the mesh. The horizontal and vertical extent are computed based on the selected entity [Core Hull Extent](#Core-hull-extent), [padding distances](#Padding-distances) and [Minimum Depth](#Minimum-depth) (vertical only). Limits are rounded up such that the number of core cells along each dimension is in power of 2 (i.e. 64, 128, ...), as required for octree discretization.\n",
    "\n",
    "The example below demonstrates this process with the default parameters:\n",
    "\n",
    " <img align=\"right\" width=\"75%\" src=\"./images/Octree_padding_distance.png\">\n",
    " \n",
    " \n",
    "**Horizontal extent (East-West):**\n",
    "   \n",
    "    Input: 5600 m (hull) + 2*1000 m (pad) = 7600 m \n",
    "\n",
    "    Round: 7600 m / 25 m/cell = 304 cells -> 512 cells\n",
    "\n",
    "    Final: 512 cells * 25 m/cell = 12800 m\n",
    "\n",
    "\n",
    "**Vertical extent:**\n",
    "\n",
    "    Input: 46 m (hull) + 2*1000 m (pad) + 500 (core) m = 2546 m \n",
    "\n",
    "    Round: 2546 m / 25 m/cell = 102 cells -> 128 cells\n",
    "\n",
    "    Final: 128 cells * 25 m/cell = 3,200 m\n",
    "\n",
    " \n",
    "### Step 2- Refinements \n",
    "\n",
    "Once the extent of the mesh has been defined, the program can proceed with the [Refinements](#Refinements) prescribed by the user. The routine makes use of the [discretize.utils.refine_tree_xyz](http://discretize.simpeg.xyz/en/main/api/generated/discretize.utils.refine_tree_xyz.html#discretize-utils-refine-tree-xyz) utility function. The order of refinements is not important as only the smallest cell octree found at a given position is used. \n",
    "\n",
    "### Step 3 - Finalization\n",
    "\n",
    "Once all the refinements have been added, the [TreeMesh.finalize()](http://discretize.simpeg.xyz/en/main/api/generated/discretize.TreeMesh.html?highlight=finalize#discretize.TreeMesh.finalize) routine is called for the final construction of the mesh. Cells in regions outside of the refinements are allowed to expand as quickly as possible. Et voila!\n"
   ]
  },
  {
   "cell_type": "markdown",
   "id": "08842649",
   "metadata": {},
   "source": [
    "## Input ui.json \n",
    "\n",
    "This application relies on a [structured json](./Octree_Mesh.ui.json) file to store and run the program.\n",
    "\n",
    "The same input `ui.json` file can be used to run the program from command line:\n",
    "\n",
    "```\n",
    "activate geoapps\n",
    "python -m geoapps.create.octree_mesh input.ui.json\n",
    "```\n",
    "\n",
    "or directly from [Geoscience ANALYST Pro](#Geoscience-ANALYST-Pro) v3.3.1 or higher.\n",
    "The `ui.json` can also be used to re-load the parameters from a previous run by selecting the `ui.json` file from the [Project Selection](#Project-Selection) widget, instead of a `geoh5` file. \n",
    "\n",
    "### Notes \n",
    "\n",
    " <img align=\"right\" width=\"50%\" src=\"./images/refinement_block.png\">\n",
    " \n",
    "- Additional refinements can be performed by adding new blocks of parameters to the default [input ui.json file](./Octree_Mesh.ui.json):\n",
    "    - For each additional refinement blocks, a unique name must be provided (C, D, etc) \n",
    "    - Each block must include all [refinement parameters](#Refinements).\n",
    "    - Changes made will be displayed after re-loading the ui.json from the [Project Selection](#Project-Selection) panel. \n",
    "\n",
    "\n",
    " \n",
    "\n"
   ]
  },
  {
   "cell_type": "markdown",
   "id": "45628d97",
   "metadata": {},
   "source": [
    "### Geoscience ANALYST Pro v3.4\n",
    "\n",
    "Users with an active Geoscience ANALYST Pro license (v3.4) can execute this application directly from an active session with a drag & drop of a `*.ui.json` file to the `Viewport`. \n",
    "\n",
    "![GAPro_Octree](images/GA_pro_octree.gif \"ga_pro\")"
   ]
  },
  {
   "cell_type": "markdown",
   "id": "a472ce3f",
   "metadata": {},
   "source": [
    "Need help? Contact us at support@mirageoscience.com"
   ]
  }
 ],
 "metadata": {
  "kernelspec": {
   "display_name": "Python 3 (ipykernel)",
   "language": "python",
   "name": "python3"
  },
  "language_info": {
   "codemirror_mode": {
    "name": "ipython",
    "version": 3
   },
   "file_extension": ".py",
   "mimetype": "text/x-python",
   "name": "python",
   "nbconvert_exporter": "python",
   "pygments_lexer": "ipython3",
   "version": "3.9.7"
  },
  "widgets": {
   "application/vnd.jupyter.widget-state+json": {
    "state": {
     "00371d0504bc45239e9053fb04b3beb9": {
      "model_module": "@jupyter-widgets/base",
      "model_module_version": "1.2.0",
      "model_name": "LayoutModel",
      "state": {
       "display": "none"
      }
     },
     "0065a9c583424831b5a6f9bcf0faaf94": {
      "model_module": "@jupyter-widgets/controls",
      "model_module_version": "1.5.0",
      "model_name": "VBoxModel",
      "state": {
       "children": [
        "IPY_MODEL_8b6dd342a8274a90b95d7928af9b170c",
        "IPY_MODEL_6263b32721934ea6a424dd5889f4b913"
       ],
       "layout": "IPY_MODEL_0391e341c2e24a38ac2fef3c6c63934d"
      }
     },
     "006bf3051f8949dfa2bee930e6531560": {
      "model_module": "@jupyter-widgets/controls",
      "model_module_version": "1.5.0",
      "model_name": "DescriptionStyleModel",
      "state": {
       "description_width": "initial"
      }
     },
     "00b7edc6654244a1aab246a56cb55407": {
      "model_module": "@jupyter-widgets/base",
      "model_module_version": "1.2.0",
      "model_name": "LayoutModel",
      "state": {}
     },
     "018bd6cc857e47419ce40b8e6c87a319": {
      "model_module": "@jupyter-widgets/controls",
      "model_module_version": "1.5.0",
      "model_name": "DescriptionStyleModel",
      "state": {
       "description_width": "initial"
      }
     },
     "01e39ca2208543828effe32b9c087995": {
      "model_module": "@jupyter-widgets/controls",
      "model_module_version": "1.5.0",
      "model_name": "HTMLModel",
      "state": {
       "layout": "IPY_MODEL_cb45e0634fa14fdd90a89410a7f5f585",
       "placeholder": "",
       "style": "IPY_MODEL_4da5db881ae6448caf019755d4299266",
       "value": "<span style=\"margin-left:10px; color:orange;\">C:\\Users\\dominiquef\\Documents\\GIT\\mira\\geoapps\\assets\\FlinFlon.geoh5</span>"
      }
     },
     "01e8eeecf2234b5e8daf743138609ea7": {
      "model_module": "@jupyter-widgets/controls",
      "model_module_version": "1.5.0",
      "model_name": "TextModel",
      "state": {
       "layout": "IPY_MODEL_bd54cbf8076d4f8ea41c115e1a805e93",
       "placeholder": "output filename",
       "style": "IPY_MODEL_c665c0687fc145bb9047eda45e87a219",
       "value": "FlinFlon.geoh5"
      }
     },
     "01fd44b88c254f24822a531686718932": {
      "model_module": "@jupyter-widgets/controls",
      "model_module_version": "1.5.0",
      "model_name": "DescriptionStyleModel",
      "state": {
       "description_width": "initial"
      }
     },
     "023df97f440a48eba111f07bd01421d3": {
      "model_module": "@jupyter-widgets/base",
      "model_module_version": "1.2.0",
      "model_name": "LayoutModel",
      "state": {}
     },
     "0252dce061064b87914b35546f0db7ad": {
      "model_module": "@jupyter-widgets/controls",
      "model_module_version": "1.5.0",
      "model_name": "DescriptionStyleModel",
      "state": {
       "description_width": ""
      }
     },
     "0274c474d5714715904c6c7a4fcb02fa": {
      "model_module": "@jupyter-widgets/controls",
      "model_module_version": "1.5.0",
      "model_name": "DescriptionStyleModel",
      "state": {
       "description_width": ""
      }
     },
     "02bf1871d08c417ba342d45f5d71d4c4": {
      "model_module": "@jupyter-widgets/controls",
      "model_module_version": "1.5.0",
      "model_name": "DescriptionStyleModel",
      "state": {
       "description_width": ""
      }
     },
     "02d2e309e3004b56810c13708634428e": {
      "model_module": "@jupyter-widgets/controls",
      "model_module_version": "1.5.0",
      "model_name": "DescriptionStyleModel",
      "state": {
       "description_width": "initial"
      }
     },
     "02f7e5c7b76d4bbfa3f91503fa1c085f": {
      "model_module": "@jupyter-widgets/base",
      "model_module_version": "1.2.0",
      "model_name": "LayoutModel",
      "state": {
       "width": "500px"
      }
     },
     "030082103d5242d2aecf40e366c45614": {
      "model_module": "@jupyter-widgets/base",
      "model_module_version": "1.2.0",
      "model_name": "LayoutModel",
      "state": {
       "width": "auto"
      }
     },
     "03255fcc1b3142d6a25872443861f68b": {
      "model_module": "@jupyter-widgets/controls",
      "model_module_version": "1.5.0",
      "model_name": "DescriptionStyleModel",
      "state": {
       "description_width": "initial"
      }
     },
     "03297720354540b29cedb0e8bd8d134b": {
      "model_module": "@jupyter-widgets/controls",
      "model_module_version": "1.5.0",
      "model_name": "DropdownModel",
      "state": {
       "_options_labels": [
        "",
        "--- Channels ---",
        "CPI56k",
        "CPI7200",
        "CPI900",
        "CPQ56k",
        "CPQ7200",
        "CPQ900",
        "DEM",
        "Line",
        "Z"
       ],
       "description": "Data: ",
       "index": 0,
       "layout": "IPY_MODEL_9da572ec6825442c9d2a5f31dd0d2621",
       "style": "IPY_MODEL_c7761fd6a108433d8433ee39ba23a3a8"
      }
     },
     "033a5f45ffb740adb4489ef52389c878": {
      "model_module": "@jupyter-widgets/base",
      "model_module_version": "1.2.0",
      "model_name": "LayoutModel",
      "state": {
       "grid_area": "dircontent",
       "width": "auto"
      }
     },
     "036417679a0e474d82b844232edda2f5": {
      "model_module": "@jupyter-widgets/controls",
      "model_module_version": "1.5.0",
      "model_name": "DescriptionStyleModel",
      "state": {
       "description_width": "initial"
      }
     },
     "037055e1c60b4c02be8472f51589a3b4": {
      "model_module": "@jupyter-widgets/controls",
      "model_module_version": "1.5.0",
      "model_name": "DescriptionStyleModel",
      "state": {
       "description_width": "initial"
      }
     },
     "037fa65085674b01abe7c7076bcbe0e4": {
      "model_module": "@jupyter-widgets/controls",
      "model_module_version": "1.5.0",
      "model_name": "DescriptionStyleModel",
      "state": {
       "description_width": "initial"
      }
     },
     "0391e341c2e24a38ac2fef3c6c63934d": {
      "model_module": "@jupyter-widgets/base",
      "model_module_version": "1.2.0",
      "model_name": "LayoutModel",
      "state": {}
     },
     "0395fcbe99bd4950bb6b96a638821b9c": {
      "model_module": "@jupyter-widgets/controls",
      "model_module_version": "1.5.0",
      "model_name": "ButtonStyleModel",
      "state": {}
     },
     "039e5b0d6e77487abce30d91db183287": {
      "model_module": "@jupyter-widgets/controls",
      "model_module_version": "1.5.0",
      "model_name": "DescriptionStyleModel",
      "state": {
       "description_width": ""
      }
     },
     "03d18e8ccb4a4237bea5c3fa99b71b98": {
      "model_module": "@jupyter-widgets/controls",
      "model_module_version": "1.5.0",
      "model_name": "ButtonModel",
      "state": {
       "button_style": "danger",
       "description": "Create",
       "icon": "check",
       "layout": "IPY_MODEL_1bda3dbdc68a4b7c8cb43a7a1482ab78",
       "style": "IPY_MODEL_ac054d5b6f7b4cd2a76e0fd9a9ee3eb0",
       "tooltip": "Run computation"
      }
     },
     "045975fea9c3470e9524e05800b8b1b9": {
      "model_module": "@jupyter-widgets/controls",
      "model_module_version": "1.5.0",
      "model_name": "DescriptionStyleModel",
      "state": {
       "description_width": "initial"
      }
     },
     "0475e926ef0041c9ab1dc6de39d1551f": {
      "model_module": "@jupyter-widgets/base",
      "model_module_version": "1.2.0",
      "model_name": "LayoutModel",
      "state": {
       "display": "none",
       "min_width": "6em",
       "width": "6em"
      }
     },
     "0477aa60c90141a38f06a79fb9da6ca4": {
      "model_module": "@jupyter-widgets/controls",
      "model_module_version": "1.5.0",
      "model_name": "GridBoxModel",
      "state": {
       "children": [
        "IPY_MODEL_5a43f4dfc77f4a0db830b5ff8efd2315",
        "IPY_MODEL_b697ff1653f648aea6251c2459d8a04f",
        "IPY_MODEL_37880e890c164851ac290c3f8b0bbb34"
       ],
       "layout": "IPY_MODEL_56177a59c887454fbcd04aebbca3e0c3"
      }
     },
     "04eb309e1b494367b0888f2a577e78ed": {
      "model_module": "@jupyter-widgets/controls",
      "model_module_version": "1.5.0",
      "model_name": "DescriptionStyleModel",
      "state": {
       "description_width": ""
      }
     },
     "050cc3c07a7a4922b26e303c6be4f687": {
      "model_module": "@jupyter-widgets/controls",
      "model_module_version": "1.5.0",
      "model_name": "TextModel",
      "state": {
       "layout": "IPY_MODEL_f88dc874b1214b8696e59e0db839ff1b",
       "placeholder": "output filename",
       "style": "IPY_MODEL_e1865cfd77b44fa58bf379a0208bf488",
       "value": "FlinFlon.geoh5"
      }
     },
     "0511b2f3529b4883b00930da635fe0db": {
      "model_module": "@jupyter-widgets/base",
      "model_module_version": "1.2.0",
      "model_name": "LayoutModel",
      "state": {
       "width": "auto"
      }
     },
     "05440e1e307d49069eeded99bc26dc98": {
      "model_module": "@jupyter-widgets/base",
      "model_module_version": "1.2.0",
      "model_name": "LayoutModel",
      "state": {}
     },
     "055b3735ea374ed1a69fa6f2b59c2459": {
      "model_module": "@jupyter-widgets/controls",
      "model_module_version": "1.5.0",
      "model_name": "DropdownModel",
      "state": {
       "_options_labels": [
        "",
        "--- Channels ---",
        "CPI56k",
        "CPI7200",
        "CPI900",
        "CPQ56k",
        "CPQ7200",
        "CPQ900",
        "DEM",
        "Line",
        "X",
        "Y",
        "Z"
       ],
       "description": "Data: ",
       "index": 0,
       "layout": "IPY_MODEL_09ef6be74ee74cfd88c3e6f16e2c898a",
       "style": "IPY_MODEL_11be6772008647708a1e6aac44d15380"
      }
     },
     "05806eecc5e648d2956b7b03f1dab638": {
      "model_module": "@jupyter-widgets/controls",
      "model_module_version": "1.5.0",
      "model_name": "FloatTextModel",
      "state": {
       "description": "Vertical",
       "layout": "IPY_MODEL_6b2addbeb6ec460e9cf51a1bf78227a0",
       "step": null,
       "style": "IPY_MODEL_65a42a6e216f4b05a9b7759c2325ac84",
       "value": 25
      }
     },
     "05f5b19601ad4bf38882d1dcbe0b5ce4": {
      "model_module": "@jupyter-widgets/controls",
      "model_module_version": "1.5.0",
      "model_name": "ButtonStyleModel",
      "state": {}
     },
     "0650ca9953d94279b287762c4db8c44e": {
      "model_module": "@jupyter-widgets/controls",
      "model_module_version": "1.5.0",
      "model_name": "DescriptionStyleModel",
      "state": {
       "description_width": "initial"
      }
     },
     "067378aab92e45f98c36fa112ebe8266": {
      "model_module": "@jupyter-widgets/controls",
      "model_module_version": "1.5.0",
      "model_name": "TextModel",
      "state": {
       "disabled": true,
       "layout": "IPY_MODEL_6663429591464d798f6d1ebfdc622fdd",
       "placeholder": "output filename",
       "style": "IPY_MODEL_9930472cdda447feb646370fb58a749a"
      }
     },
     "069d9dd0bd364cd19d8b91ebdc76a324": {
      "model_module": "@jupyter-widgets/controls",
      "model_module_version": "1.5.0",
      "model_name": "VBoxModel",
      "state": {
       "children": [
        "IPY_MODEL_f13d6ba50eb5469b87387c66a7ff995b",
        "IPY_MODEL_ec5b05f78cae4b1298b3b5e0d5fb03a6",
        "IPY_MODEL_8a8aadb7d69645d2b2d6abc5b8f07fa0",
        "IPY_MODEL_352ffd3edcd24f89be856c8ec140e548",
        "IPY_MODEL_90f67cb4aa49404bbada849dbdef4bc0"
       ],
       "layout": "IPY_MODEL_50e8698496144a2eb241fb060d3b326c"
      }
     },
     "0701bb5a01f1410aa888de151b3d134d": {
      "model_module": "@jupyter-widgets/controls",
      "model_module_version": "1.5.0",
      "model_name": "DescriptionStyleModel",
      "state": {
       "description_width": "initial"
      }
     },
     "0702700f33ba4b1e93ef43db235893ad": {
      "model_module": "@jupyter-widgets/base",
      "model_module_version": "1.2.0",
      "model_name": "LayoutModel",
      "state": {}
     },
     "072bfce0ec0a4623a377cc970390671c": {
      "model_module": "@jupyter-widgets/controls",
      "model_module_version": "1.5.0",
      "model_name": "DescriptionStyleModel",
      "state": {
       "description_width": "initial"
      }
     },
     "072fa5a5f79f4f919cf05b68c0b3a02f": {
      "model_module": "@jupyter-widgets/controls",
      "model_module_version": "1.5.0",
      "model_name": "GridBoxModel",
      "state": {
       "children": [
        "IPY_MODEL_79267685e89b4f4c83bc73148f4057a0",
        "IPY_MODEL_050cc3c07a7a4922b26e303c6be4f687",
        "IPY_MODEL_52f230c345044f7ba50229804b8f38b1"
       ],
       "layout": "IPY_MODEL_a1e1b998f05443348dc7d0d87583d52a"
      }
     },
     "07a64aaa13e34007a20467bb554b7a6c": {
      "model_module": "@jupyter-widgets/base",
      "model_module_version": "1.2.0",
      "model_name": "LayoutModel",
      "state": {}
     },
     "07af2653837849bd85301d78820c1fa3": {
      "model_module": "@jupyter-widgets/base",
      "model_module_version": "1.2.0",
      "model_name": "LayoutModel",
      "state": {}
     },
     "07eb6f86878f46dea693ae01ab5fb7cf": {
      "model_module": "@jupyter-widgets/controls",
      "model_module_version": "1.5.0",
      "model_name": "HTMLModel",
      "state": {
       "layout": "IPY_MODEL_44bc6ea9b7024fa3bb575c9baf097fc9",
       "style": "IPY_MODEL_89cea0f4a5b04fc6bd0c1a05d08854d3"
      }
     },
     "08b6c702d2174d8bb9901ea8dc245caf": {
      "model_module": "@jupyter-widgets/base",
      "model_module_version": "1.2.0",
      "model_name": "LayoutModel",
      "state": {}
     },
     "090dcaeeaca9443896f206548a36f2d0": {
      "model_module": "@jupyter-widgets/base",
      "model_module_version": "1.2.0",
      "model_name": "LayoutModel",
      "state": {
       "width": "auto"
      }
     },
     "09236b7450c44263b9755d5a780a2c51": {
      "model_module": "@jupyter-widgets/controls",
      "model_module_version": "1.5.0",
      "model_name": "DescriptionStyleModel",
      "state": {
       "description_width": "initial"
      }
     },
     "098119dc4f4044d5a3747bfcf70cc240": {
      "model_module": "@jupyter-widgets/controls",
      "model_module_version": "1.5.0",
      "model_name": "DescriptionStyleModel",
      "state": {
       "description_width": ""
      }
     },
     "0989717936784e618da72a0d7ff4dbd9": {
      "model_module": "@jupyter-widgets/base",
      "model_module_version": "1.2.0",
      "model_name": "LayoutModel",
      "state": {}
     },
     "09adac143c7a4742a81a6fc510a4dae7": {
      "model_module": "@jupyter-widgets/base",
      "model_module_version": "1.2.0",
      "model_name": "LayoutModel",
      "state": {}
     },
     "09ef6be74ee74cfd88c3e6f16e2c898a": {
      "model_module": "@jupyter-widgets/base",
      "model_module_version": "1.2.0",
      "model_name": "LayoutModel",
      "state": {}
     },
     "09f876b725dd4cab93fdc9948b5e1d42": {
      "model_module": "@jupyter-widgets/controls",
      "model_module_version": "1.5.0",
      "model_name": "FloatTextModel",
      "state": {
       "description": "Horizontal (m)",
       "layout": "IPY_MODEL_b30ea0de99c948be8cd3488a098337d9",
       "step": null,
       "style": "IPY_MODEL_3a0af4f84b214482bf11d059b7b62842",
       "value": 1000
      }
     },
     "09fc48994c24450392c76259c3615a59": {
      "model_module": "@jupyter-widgets/controls",
      "model_module_version": "1.5.0",
      "model_name": "DescriptionStyleModel",
      "state": {
       "description_width": "initial"
      }
     },
     "0a72fb6f280c4ebf9a1906221cf29547": {
      "model_module": "@jupyter-widgets/base",
      "model_module_version": "1.2.0",
      "model_name": "LayoutModel",
      "state": {
       "border": "solid"
      }
     },
     "0ab7557d0cb94b2580e6d8c22627acb6": {
      "model_module": "@jupyter-widgets/base",
      "model_module_version": "1.2.0",
      "model_name": "LayoutModel",
      "state": {}
     },
     "0ac9d43627274859939b4b5552836e9d": {
      "model_module": "@jupyter-widgets/base",
      "model_module_version": "1.2.0",
      "model_name": "LayoutModel",
      "state": {
       "margin": "0 0 0 1em"
      }
     },
     "0acb293f95c24c9c8b4cb316bf8524f2": {
      "model_module": "@jupyter-widgets/controls",
      "model_module_version": "1.5.0",
      "model_name": "DescriptionStyleModel",
      "state": {
       "description_width": "initial"
      }
     },
     "0b07c21ecaa84b589fd47a8cfdd55ba1": {
      "model_module": "@jupyter-widgets/controls",
      "model_module_version": "1.5.0",
      "model_name": "DescriptionStyleModel",
      "state": {
       "description_width": ""
      }
     },
     "0b0f69f6b5a8455f9ee995940c2e1bc7": {
      "model_module": "@jupyter-widgets/controls",
      "model_module_version": "1.5.0",
      "model_name": "FloatTextModel",
      "state": {
       "description": "Horizontal (m)",
       "layout": "IPY_MODEL_f0611e42943b44b19a22b932df0d1e6a",
       "step": null,
       "style": "IPY_MODEL_a1671cd8a4134be7b61eb14f265f292b",
       "value": 1000
      }
     },
     "0b13e6cb1ea543f29fea94a9b472e070": {
      "model_module": "@jupyter-widgets/controls",
      "model_module_version": "1.5.0",
      "model_name": "FloatTextModel",
      "state": {
       "description": "Distance",
       "layout": "IPY_MODEL_18017cbbaebd48b19939dbff0f754369",
       "step": null,
       "style": "IPY_MODEL_a22ec37f561c4ef48f39e4ffd4b55602",
       "value": 1000
      }
     },
     "0b217fca53144ff8851344b9d856a88b": {
      "model_module": "@jupyter-widgets/controls",
      "model_module_version": "1.5.0",
      "model_name": "ButtonStyleModel",
      "state": {}
     },
     "0bc16494ff984b558800e430b1254123": {
      "model_module": "@jupyter-widgets/controls",
      "model_module_version": "1.5.0",
      "model_name": "DescriptionStyleModel",
      "state": {
       "description_width": ""
      }
     },
     "0bd2540cabe7485b85e554b0c91dc099": {
      "model_module": "@jupyter-widgets/controls",
      "model_module_version": "1.5.0",
      "model_name": "DescriptionStyleModel",
      "state": {
       "description_width": ""
      }
     },
     "0c139f55e4d2414dbc49ada7686b4058": {
      "model_module": "@jupyter-widgets/controls",
      "model_module_version": "1.5.0",
      "model_name": "ButtonStyleModel",
      "state": {}
     },
     "0c45290aea0e47509008ed5bd67fcc59": {
      "model_module": "@jupyter-widgets/controls",
      "model_module_version": "1.5.0",
      "model_name": "BoxModel",
      "state": {
       "children": [
        "IPY_MODEL_f57e1a11b2644fe0a322c29a1595c5ad"
       ],
       "layout": "IPY_MODEL_437ac02863b5405b8e73f26d60f9830b"
      }
     },
     "0c60f4065ac940429c46672aef3af5b4": {
      "model_module": "@jupyter-widgets/controls",
      "model_module_version": "1.5.0",
      "model_name": "VBoxModel",
      "state": {
       "children": [
        "IPY_MODEL_07eb6f86878f46dea693ae01ab5fb7cf",
        "IPY_MODEL_62c3a4d1c7eb412fbebdc846baafbcb8",
        "IPY_MODEL_a840cf04a496439f86481fbe5ad242ed"
       ],
       "layout": "IPY_MODEL_65da8bf25b694b639aa7fdcde92f9b4b"
      }
     },
     "0cb3de1a04dc4a2492c7e79fc6752220": {
      "model_module": "@jupyter-widgets/base",
      "model_module_version": "1.2.0",
      "model_name": "LayoutModel",
      "state": {
       "display": "none",
       "grid_gap": "0px 0px",
       "grid_template_areas": "\n                    'pathlist pathlist'\n                    'dircontent dircontent'\n                    ",
       "grid_template_columns": "60% 40%",
       "grid_template_rows": "auto auto",
       "width": "500px"
      }
     },
     "0d2746252beb44cb99118e3e777e81b0": {
      "model_module": "@jupyter-widgets/controls",
      "model_module_version": "1.5.0",
      "model_name": "DropdownModel",
      "state": {
       "_options_labels": [
        "",
        "Data_TEM_pseudo3DEPSG_4326",
        "Iso_Iteration_7_model_2_50e-03",
        "Iso_Iteration_7_model_1_00e-02",
        "Iso_Iteration_7_model_1_50e-02",
        "Iso_Iteration_7_model_2_00e-02",
        "Iso_Iteration_7_model_2_00e-02",
        "Iso_Iteration_7_model_5_00e-03",
        "Iso_Iteration_7_model_2_50e-03",
        "Iso_Iteration_7_model_1_50e-02",
        "Iso_Iteration_7_model_1_00e-02",
        "Iso_Iteration_7_model_5_00e-03",
        "fault_splay1",
        "fault_Cliff_Lake",
        "fault_Other_FlinFlon",
        "fault_Club_Lake_splay",
        "fault_Catherine_splay2",
        "fault_Birch_View",
        "fault_Dion_Lake",
        "fault_FlinFlon_splay",
        "fault_West_Mandy_Road",
        "fault_Channing",
        "fault_Ross_Lake",
        "fault_Louis_Hidden",
        "fault_Lake_View_thrust",
        "contact_Schist_Lake",
        "fault_Burley_Lake",
        "fault_Dion_Lake_splay",
        "fault_Green_Lake",
        "fault_FlinFlon",
        "fault_Catherine_splay1",
        "fault_East_Mandy_Road",
        "fault_Other_FlinFlon_South",
        "fault_Catherine_splay4",
        "contact_Stitt_Island",
        "fault_Club_Lake",
        "fault_Tailing_Pond",
        "35_Hidden_Reservoir_Hr5",
        "29_Hidden_Reservoir_Hr1a",
        "60_BlueLagoon_Fb2",
        "20_FlinFlon_Undivided_Int_Dykes_D2f",
        "04_Boundary_Intrusive_S4h",
        "53_Millrock_Rhyolite_Fm4b",
        "19_FlinFlon_Undivided_Int_Dykes_D2b",
        "18_FlinFlon_Undivided_Int_Dykes_777_D2b",
        "06_Phantom_Lake_Intrusive_S3a",
        "21_FlinFlon_Undivided_Int_Dykes_D3a",
        "43_Millrock_CHLSH_South",
        "56_Millrock_Basalt_Fm1ba",
        "17_FlinFlon_Undivided_Int_Dykes_D2",
        "32_Hidden_Reservoir_Hr1b_SW",
        "11_Missi_M3_NE",
        "13_Missi_M1",
        "07_Annabel_Granitoid_S1",
        "45_Millrock_Gabbro_South",
        "01_Late_Intrusive_S5b",
        "31_Hidden_Reservoir_Hr1c_SW",
        "52_Millrock_Rhyolite_Fm4_West_check",
        "55_Millrock_Basalt_Fm1bf",
        "34_Hidden_Reservoir_Hr2b",
        "03_Boundary_Intrusive_S4b",
        "42_Millrock_CHLSH_North",
        "26_Louis_L3",
        "23_FlinFlon_Undivided_Int_Felsic_D4g",
        "30_Hidden_Reservoir_Hr1b",
        "59_BlueLagoon_Fb3",
        "49_Millrock_MVR_Fm5d",
        "44_Millrock_Gabbro_North",
        "27_Hidden_Carlisle_Hc4",
        "22_FlinFlon_Undivided_Int_Felsic_D4e",
        "02_Boundary_Intrusive_S4a",
        "61_BlueLagoon_Fb1_NW",
        "05_Boundary_Intrusive_S4g",
        "39_Ore_Callinan",
        "38_Ore_Dan_Owens",
        "40_Ore_FlinFlon",
        "Inversion_VTEM_Model",
        "CDI_VTEM_model",
        "Data_FEM_pseudo3D",
        "geochem",
        "Inversion_DIGHEM_Model",
        "Topography",
        "Data_TEM_pseudo3D",
        "Data_ZTEM",
        "Mesh"
       ],
       "description": "Object",
       "index": 78,
       "layout": "IPY_MODEL_32bd04dc37d3470593a8ef3068b83e85",
       "style": "IPY_MODEL_8b9703428b2a42d7a2f513ccf40b9ac8"
      }
     },
     "0d358ab644484892a4a1a83bfe034a32": {
      "model_module": "@jupyter-widgets/controls",
      "model_module_version": "1.5.0",
      "model_name": "DescriptionStyleModel",
      "state": {
       "description_width": "initial"
      }
     },
     "0d3c68f69bb7444d88c9f1accfc9507a": {
      "model_module": "@jupyter-widgets/base",
      "model_module_version": "1.2.0",
      "model_name": "LayoutModel",
      "state": {}
     },
     "0d7f38f015c2419da02d385b6a66239d": {
      "model_module": "@jupyter-widgets/base",
      "model_module_version": "1.2.0",
      "model_name": "LayoutModel",
      "state": {}
     },
     "0d8be26eb6364eb4868119f2b17e81b7": {
      "model_module": "@jupyter-widgets/controls",
      "model_module_version": "1.5.0",
      "model_name": "LabelModel",
      "state": {
       "layout": "IPY_MODEL_190f33905f324bc2b42b2691118fcd18",
       "style": "IPY_MODEL_d35d5cc1254c4c13a72d63984fa52963",
       "value": "Core cell size"
      }
     },
     "0d8dbb4d3996451fbad090183afdcbb5": {
      "model_module": "@jupyter-widgets/base",
      "model_module_version": "1.2.0",
      "model_name": "LayoutModel",
      "state": {
       "grid_area": "pathlist",
       "width": "auto"
      }
     },
     "0dd6b5649bce42f2884bbb113456b824": {
      "model_module": "@jupyter-widgets/base",
      "model_module_version": "1.2.0",
      "model_name": "LayoutModel",
      "state": {
       "border": "solid"
      }
     },
     "0ddc1dec3ec74d6a91b69677b915355a": {
      "model_module": "@jupyter-widgets/controls",
      "model_module_version": "1.5.0",
      "model_name": "VBoxModel",
      "state": {
       "children": [
        "IPY_MODEL_45c3bb02ecc84ebcb33733594ff9ff72",
        "IPY_MODEL_bb310cdeb094426f8921f5a7db7e9343",
        "IPY_MODEL_24c820d13a104ea2abecd0f882a8176f"
       ],
       "layout": "IPY_MODEL_61b05afa0b6a4e9093fd15395459cd8c"
      }
     },
     "0e163795b26d45c7987c995fb7a4c96a": {
      "model_module": "@jupyter-widgets/base",
      "model_module_version": "1.2.0",
      "model_name": "LayoutModel",
      "state": {
       "width": "auto"
      }
     },
     "0e473af57f66471a83a3602253ab92a2": {
      "model_module": "@jupyter-widgets/base",
      "model_module_version": "1.2.0",
      "model_name": "LayoutModel",
      "state": {}
     },
     "0e57486c797f43dbb8dcfe2e60d8429a": {
      "model_module": "@jupyter-widgets/base",
      "model_module_version": "1.2.0",
      "model_name": "LayoutModel",
      "state": {
       "display": "none"
      }
     },
     "0e77456f61924a64b3c25c725046dca5": {
      "model_module": "@jupyter-widgets/controls",
      "model_module_version": "1.5.0",
      "model_name": "DescriptionStyleModel",
      "state": {
       "description_width": "initial"
      }
     },
     "0eb41a70252a4f1e9861e5222a19cd06": {
      "model_module": "@jupyter-widgets/controls",
      "model_module_version": "1.5.0",
      "model_name": "DescriptionStyleModel",
      "state": {
       "description_width": "initial"
      }
     },
     "0ec22180fade42c0b87250783e4203ee": {
      "model_module": "@jupyter-widgets/controls",
      "model_module_version": "1.5.0",
      "model_name": "DescriptionStyleModel",
      "state": {
       "description_width": "initial"
      }
     },
     "0ed77630f16844d4b98b2b0bba83d68c": {
      "model_module": "@jupyter-widgets/controls",
      "model_module_version": "1.5.0",
      "model_name": "DescriptionStyleModel",
      "state": {
       "description_width": ""
      }
     },
     "0ee364fe80b24fe988d05ea178509338": {
      "model_module": "@jupyter-widgets/controls",
      "model_module_version": "1.5.0",
      "model_name": "TextModel",
      "state": {
       "description": "Levels",
       "layout": "IPY_MODEL_9f26b38ed26a4c70a9a9cb8b65f448aa",
       "style": "IPY_MODEL_13d78d465cdb4423bbd6d4afe73f3730",
       "value": "4.0, 4.0, 4.0"
      }
     },
     "0f3ab5e57d5144b1812c4e818ceff995": {
      "model_module": "@jupyter-widgets/controls",
      "model_module_version": "1.5.0",
      "model_name": "DescriptionStyleModel",
      "state": {
       "description_width": "initial"
      }
     },
     "0fd212353f7f4a5ebb3f9c526153a24f": {
      "model_module": "@jupyter-widgets/controls",
      "model_module_version": "1.5.0",
      "model_name": "FloatTextModel",
      "state": {
       "description": "Vertical",
       "layout": "IPY_MODEL_e9193432a88a47ddbd6ea040c78f8b93",
       "step": null,
       "style": "IPY_MODEL_4cb54bccd87941f498f1219f16e1f612",
       "value": 25
      }
     },
     "10385ce15eea4a68b7cb6ca12f34c60d": {
      "model_module": "@jupyter-widgets/controls",
      "model_module_version": "1.5.0",
      "model_name": "DescriptionStyleModel",
      "state": {
       "description_width": ""
      }
     },
     "1089f7b8912946348cc24aec327d0235": {
      "model_module": "@jupyter-widgets/base",
      "model_module_version": "1.2.0",
      "model_name": "LayoutModel",
      "state": {}
     },
     "10a1f55c2727450787b7179c25f2db3b": {
      "model_module": "@jupyter-widgets/controls",
      "model_module_version": "1.5.0",
      "model_name": "SelectModel",
      "state": {
       "_options_labels": [
        "📁 ..",
        "📁 SimPEG_PFInversion"
       ],
       "index": null,
       "layout": "IPY_MODEL_a1ffc800a5fa4428aa777ae3fbae10df",
       "rows": 8,
       "style": "IPY_MODEL_8f35c12e13f840f597c65d1469394f54"
      }
     },
     "10bc59bdc3494012957fb026a7507981": {
      "model_module": "@jupyter-widgets/controls",
      "model_module_version": "1.5.0",
      "model_name": "ButtonModel",
      "state": {
       "description": "Change",
       "layout": "IPY_MODEL_7e6b328cac8a4f8b8c23098de830c490",
       "style": "IPY_MODEL_d8c2c90f50ea472da181bb2cd43c2aa5"
      }
     },
     "1151dd5783fa4df08aee4e27c14e4273": {
      "model_module": "@jupyter-widgets/controls",
      "model_module_version": "1.5.0",
      "model_name": "DescriptionStyleModel",
      "state": {
       "description_width": "initial"
      }
     },
     "11acff54e55f4c8d893e0c3431fc166f": {
      "model_module": "@jupyter-widgets/controls",
      "model_module_version": "1.5.0",
      "model_name": "DescriptionStyleModel",
      "state": {
       "description_width": ""
      }
     },
     "11be6772008647708a1e6aac44d15380": {
      "model_module": "@jupyter-widgets/controls",
      "model_module_version": "1.5.0",
      "model_name": "DescriptionStyleModel",
      "state": {
       "description_width": "initial"
      }
     },
     "11cd357759a14d81a5d251f15931903b": {
      "model_module": "@jupyter-widgets/controls",
      "model_module_version": "1.5.0",
      "model_name": "LabelModel",
      "state": {
       "layout": "IPY_MODEL_b5c2f553fc204eb89795efced261464b",
       "style": "IPY_MODEL_cfa633cc67dc4f60b5a1c9eb4ff900f5",
       "value": "Refinement a "
      }
     },
     "121abd49935144ba8da5743a95b1b41a": {
      "model_module": "@jupyter-widgets/base",
      "model_module_version": "1.2.0",
      "model_name": "LayoutModel",
      "state": {}
     },
     "122ab45f595048849c2e44e2a80e6e9b": {
      "model_module": "@jupyter-widgets/controls",
      "model_module_version": "1.5.0",
      "model_name": "ButtonStyleModel",
      "state": {}
     },
     "1232968ac60441a28befbc235ab4f46a": {
      "model_module": "@jupyter-widgets/controls",
      "model_module_version": "1.5.0",
      "model_name": "LabelModel",
      "state": {
       "layout": "IPY_MODEL_9e8e5cd18dc94803a55b10e973b5e65d",
       "style": "IPY_MODEL_1dcca925b2244d3286aac7ae9fcb9e32",
       "value": "Core cell size"
      }
     },
     "12ecbdd6fa46489e9628fed68dcf34c2": {
      "model_module": "@jupyter-widgets/controls",
      "model_module_version": "1.5.0",
      "model_name": "DescriptionStyleModel",
      "state": {
       "description_width": "initial"
      }
     },
     "13956e3c5cfe4d30b3de111b85c169d8": {
      "model_module": "@jupyter-widgets/base",
      "model_module_version": "1.2.0",
      "model_name": "LayoutModel",
      "state": {}
     },
     "13b6bc825e4a486eb9d0c390574672d3": {
      "model_module": "@jupyter-widgets/base",
      "model_module_version": "1.2.0",
      "model_name": "LayoutModel",
      "state": {
       "grid_area": "dircontent",
       "width": "auto"
      }
     },
     "13b86df747dc4fd9bc56eb1feda04dc5": {
      "model_module": "@jupyter-widgets/controls",
      "model_module_version": "1.5.0",
      "model_name": "DescriptionStyleModel",
      "state": {
       "description_width": "initial"
      }
     },
     "13d78d465cdb4423bbd6d4afe73f3730": {
      "model_module": "@jupyter-widgets/controls",
      "model_module_version": "1.5.0",
      "model_name": "DescriptionStyleModel",
      "state": {
       "description_width": "initial"
      }
     },
     "13e9f79dd1bf443eb287e9341e15fe1d": {
      "model_module": "@jupyter-widgets/controls",
      "model_module_version": "1.5.0",
      "model_name": "DropdownModel",
      "state": {
       "_options_labels": [
        "C:\\Users\\dominiquef\\Documents\\GIT\\mira\\geoapps\\assets\\Temp",
        "C:\\Users\\dominiquef\\Documents\\GIT\\mira\\geoapps\\assets",
        "C:\\Users\\dominiquef\\Documents\\GIT\\mira\\geoapps",
        "C:\\Users\\dominiquef\\Documents\\GIT\\mira",
        "C:\\Users\\dominiquef\\Documents\\GIT",
        "C:\\Users\\dominiquef\\Documents",
        "C:\\Users\\dominiquef",
        "C:\\Users",
        "C:\\",
        "D:\\",
        "G:\\",
        "\\\\EgnyteDrive\\mirageoscience\\"
       ],
       "index": 0,
       "layout": "IPY_MODEL_b8de6c5201264d958a02411e2a7bcb39",
       "style": "IPY_MODEL_5af8b8e1049d41fc819de324cf90fd2d"
      }
     },
     "141a8652b0df461facfc67bea281200e": {
      "model_module": "@jupyter-widgets/controls",
      "model_module_version": "1.5.0",
      "model_name": "DescriptionStyleModel",
      "state": {
       "description_width": "initial"
      }
     },
     "14aa3696c9194111a796c69219b5d077": {
      "model_module": "@jupyter-widgets/controls",
      "model_module_version": "1.5.0",
      "model_name": "DescriptionStyleModel",
      "state": {
       "description_width": "initial"
      }
     },
     "14ba75f89de541d29b29465cae47e6b6": {
      "model_module": "@jupyter-widgets/controls",
      "model_module_version": "1.5.0",
      "model_name": "ButtonStyleModel",
      "state": {}
     },
     "14cc11239d6e4eb8a4e1313ee2dd324c": {
      "model_module": "@jupyter-widgets/controls",
      "model_module_version": "1.5.0",
      "model_name": "DescriptionStyleModel",
      "state": {
       "description_width": "initial"
      }
     },
     "14eae3d3f33744ed8c042d5c84ce1051": {
      "model_module": "@jupyter-widgets/controls",
      "model_module_version": "1.5.0",
      "model_name": "FloatTextModel",
      "state": {
       "description": "Northing",
       "layout": "IPY_MODEL_42ef745871bf404eaf3c415ddefe001c",
       "step": null,
       "style": "IPY_MODEL_6a0b4900c23a41b9898bbad021598a59",
       "value": 25
      }
     },
     "154db765602e4e4fa3f13ba3f8f9cd75": {
      "model_module": "@jupyter-widgets/controls",
      "model_module_version": "1.5.0",
      "model_name": "DescriptionStyleModel",
      "state": {
       "description_width": ""
      }
     },
     "1551a3ffb84d4e7db8ae4b0702b016ac": {
      "model_module": "@jupyter-widgets/controls",
      "model_module_version": "1.5.0",
      "model_name": "DescriptionStyleModel",
      "state": {
       "description_width": ""
      }
     },
     "15b3e9604baa45d5a527e81c1e6d7461": {
      "model_module": "@jupyter-widgets/controls",
      "model_module_version": "1.5.0",
      "model_name": "DescriptionStyleModel",
      "state": {
       "description_width": "initial"
      }
     },
     "15beb09130754d178d3288309f5086d2": {
      "model_module": "@jupyter-widgets/controls",
      "model_module_version": "1.5.0",
      "model_name": "DescriptionStyleModel",
      "state": {
       "description_width": ""
      }
     },
     "16106a74fd454c0dadf5359d3e2c9820": {
      "model_module": "@jupyter-widgets/base",
      "model_module_version": "1.2.0",
      "model_name": "LayoutModel",
      "state": {
       "display": "none",
       "grid_gap": "0px 0px",
       "grid_template_areas": "\n                    'pathlist pathlist'\n                    'dircontent dircontent'\n                    ",
       "grid_template_columns": "60% 40%",
       "grid_template_rows": "auto auto",
       "width": "500px"
      }
     },
     "16394789afdb4c6cb31d02d39e7ee417": {
      "model_module": "@jupyter-widgets/controls",
      "model_module_version": "1.5.0",
      "model_name": "VBoxModel",
      "state": {
       "children": [
        "IPY_MODEL_c7f9876eb6494013ac8f4287dd62a95b",
        "IPY_MODEL_b1f891debe5f4053ae5b9ce20e722c79"
       ],
       "layout": "IPY_MODEL_88057524de6c419baea00df7bf642ddb"
      }
     },
     "166417344a574773944d6f428ccee0ac": {
      "model_module": "@jupyter-widgets/controls",
      "model_module_version": "1.5.0",
      "model_name": "VBoxModel",
      "state": {
       "children": [
        "IPY_MODEL_d6166ea44be44fc1a3c5e9f004511e74",
        "IPY_MODEL_20913cb4a36a489aaf21f4c377e310f3"
       ],
       "layout": "IPY_MODEL_40543b66b6ed47c699f59981c621ece6"
      }
     },
     "1673d23e0f4943c399a75be6ccca605f": {
      "model_module": "@jupyter-widgets/controls",
      "model_module_version": "1.5.0",
      "model_name": "DescriptionStyleModel",
      "state": {
       "description_width": ""
      }
     },
     "169089ed128e48a0a010864143b625c0": {
      "model_module": "@jupyter-widgets/base",
      "model_module_version": "1.2.0",
      "model_name": "LayoutModel",
      "state": {}
     },
     "16d0516474274a6c831bb70646d36141": {
      "model_module": "@jupyter-widgets/controls",
      "model_module_version": "1.5.0",
      "model_name": "DescriptionStyleModel",
      "state": {
       "description_width": "initial"
      }
     },
     "1762f93a8d7e48df8cbc7fc538397313": {
      "model_module": "@jupyter-widgets/controls",
      "model_module_version": "1.5.0",
      "model_name": "DescriptionStyleModel",
      "state": {
       "description_width": ""
      }
     },
     "1784dfadae9f4e63aaad4a362e502f0e": {
      "model_module": "@jupyter-widgets/base",
      "model_module_version": "1.2.0",
      "model_name": "LayoutModel",
      "state": {}
     },
     "17bfbe6c967646bbaf5d405c589a0be2": {
      "model_module": "@jupyter-widgets/controls",
      "model_module_version": "1.5.0",
      "model_name": "DescriptionStyleModel",
      "state": {
       "description_width": ""
      }
     },
     "17c606e343e644638df6f5d4a6ce9587": {
      "model_module": "@jupyter-widgets/controls",
      "model_module_version": "1.5.0",
      "model_name": "LabelModel",
      "state": {
       "layout": "IPY_MODEL_3af33c3faa65461596aaddbcb572a4d7",
       "style": "IPY_MODEL_4cff4a0d6f5a4bf5bc82477969fe2430",
       "value": "Workspace"
      }
     },
     "18017cbbaebd48b19939dbff0f754369": {
      "model_module": "@jupyter-widgets/base",
      "model_module_version": "1.2.0",
      "model_name": "LayoutModel",
      "state": {}
     },
     "190f33905f324bc2b42b2691118fcd18": {
      "model_module": "@jupyter-widgets/base",
      "model_module_version": "1.2.0",
      "model_name": "LayoutModel",
      "state": {}
     },
     "1942c1edabfc49bb9cfd49e3249c9a56": {
      "model_module": "@jupyter-widgets/controls",
      "model_module_version": "1.5.0",
      "model_name": "DescriptionStyleModel",
      "state": {
       "description_width": "initial"
      }
     },
     "194775cbe3b44a558a2666b20b391710": {
      "model_module": "@jupyter-widgets/controls",
      "model_module_version": "1.5.0",
      "model_name": "DescriptionStyleModel",
      "state": {
       "description_width": "initial"
      }
     },
     "1989dde5949f43368db8865fb7e19255": {
      "model_module": "@jupyter-widgets/base",
      "model_module_version": "1.2.0",
      "model_name": "LayoutModel",
      "state": {}
     },
     "198dee6309574a048a94f0ff3fd9d3e7": {
      "model_module": "@jupyter-widgets/controls",
      "model_module_version": "1.5.0",
      "model_name": "DropdownModel",
      "state": {
       "_options_labels": [
        "",
        "--- Channels ---",
        "CPI56k",
        "CPI7200",
        "CPI900",
        "CPQ56k",
        "CPQ7200",
        "CPQ900",
        "DEM",
        "Line",
        "Z"
       ],
       "description": "Data: ",
       "index": 0,
       "layout": "IPY_MODEL_d21849d7be4249c68271aef48507ed8e",
       "style": "IPY_MODEL_be517786bcf24c4c828e29db6bce369f"
      }
     },
     "19990c20be3648c298ff61ef0d882e52": {
      "model_module": "@jupyter-widgets/controls",
      "model_module_version": "1.5.0",
      "model_name": "FloatTextModel",
      "state": {
       "description": "Northing",
       "layout": "IPY_MODEL_2b2c10c6556947c4a46a081a9284eb59",
       "step": null,
       "style": "IPY_MODEL_a4fe359dda3a4dd9addb5b1d82daea63",
       "value": 25
      }
     },
     "19b2d3cd9cd34f398010e681783a7471": {
      "model_module": "@jupyter-widgets/controls",
      "model_module_version": "1.5.0",
      "model_name": "DescriptionStyleModel",
      "state": {
       "description_width": "initial"
      }
     },
     "19b3ce1cee6843a08dd157983f34d172": {
      "model_module": "@jupyter-widgets/controls",
      "model_module_version": "1.5.0",
      "model_name": "HTMLModel",
      "state": {
       "layout": "IPY_MODEL_9c0bab3c30ac454d8ebe1d43dbfaeaad",
       "placeholder": "",
       "style": "IPY_MODEL_b047ebedbaa747179950dc645154c4b9",
       "value": "<span style=\"margin-left:10px; color:black;\">No file selected</span>"
      }
     },
     "1a09531fe8424e87a9552d6c45c63a8f": {
      "model_module": "@jupyter-widgets/controls",
      "model_module_version": "1.5.0",
      "model_name": "GridBoxModel",
      "state": {
       "children": [
        "IPY_MODEL_e2a4c4f0f716469281d38611b20f8abb",
        "IPY_MODEL_fd098ca3ba9144359930ddff87264ace",
        "IPY_MODEL_6be10ae7f1a34604941bb9e1d155f489"
       ],
       "layout": "IPY_MODEL_46f7fd45bf5a402ba5e0195cc911dd45"
      }
     },
     "1a133f886abb4e9896a9039f0ef0a804": {
      "model_module": "@jupyter-widgets/base",
      "model_module_version": "1.2.0",
      "model_name": "LayoutModel",
      "state": {}
     },
     "1a6af5a733bd48ea89652f8c0bd97929": {
      "model_module": "@jupyter-widgets/base",
      "model_module_version": "1.2.0",
      "model_name": "LayoutModel",
      "state": {
       "width": "auto"
      }
     },
     "1a895fb9cfbe45a180dec6d9ca293825": {
      "model_module": "@jupyter-widgets/base",
      "model_module_version": "1.2.0",
      "model_name": "LayoutModel",
      "state": {
       "display": "none",
       "width": "auto"
      }
     },
     "1a923deaf2ff45a4b5de70a363421589": {
      "model_module": "@jupyter-widgets/base",
      "model_module_version": "1.2.0",
      "model_name": "LayoutModel",
      "state": {
       "width": "auto"
      }
     },
     "1aa508d6320e42b1bdc9c0cfb749a8a4": {
      "model_module": "@jupyter-widgets/controls",
      "model_module_version": "1.5.0",
      "model_name": "VBoxModel",
      "state": {
       "children": [
        "IPY_MODEL_2995a9c875be475aaba5197332427831",
        "IPY_MODEL_2481da0b5acf42dbb817508f1b43f506"
       ],
       "layout": "IPY_MODEL_4d1f7f210af24be58d4cbe7ffccd83b3"
      }
     },
     "1ac7b5c4d1ea4dd2bed37d4c44e8e7a9": {
      "model_module": "@jupyter-widgets/controls",
      "model_module_version": "1.5.0",
      "model_name": "DescriptionStyleModel",
      "state": {
       "description_width": "initial"
      }
     },
     "1ae09ff6611845e8bbed147dd1800232": {
      "model_module": "@jupyter-widgets/base",
      "model_module_version": "1.2.0",
      "model_name": "LayoutModel",
      "state": {
       "border": "solid"
      }
     },
     "1b0b4413987043c886d93c6f0fee5309": {
      "model_module": "@jupyter-widgets/controls",
      "model_module_version": "1.5.0",
      "model_name": "DescriptionStyleModel",
      "state": {
       "description_width": "initial"
      }
     },
     "1b126156ec1f4dfbab6bed9e207b9e5a": {
      "model_module": "@jupyter-widgets/controls",
      "model_module_version": "1.5.0",
      "model_name": "HBoxModel",
      "state": {
       "children": [
        "IPY_MODEL_795fa2c1caa44398a9b0e292451e6d31",
        "IPY_MODEL_8eb76845db494cd585f21931ad04d384"
       ],
       "layout": "IPY_MODEL_72e9072c18244338ac9a36f02a86b4fe"
      }
     },
     "1b1c744af1ab4ea4977c40c4a23d4777": {
      "model_module": "@jupyter-widgets/controls",
      "model_module_version": "1.5.0",
      "model_name": "DescriptionStyleModel",
      "state": {
       "description_width": ""
      }
     },
     "1b29b4e09c2f40e091282d55518b9440": {
      "model_module": "@jupyter-widgets/base",
      "model_module_version": "1.2.0",
      "model_name": "LayoutModel",
      "state": {}
     },
     "1b31d89d90324383bb9dde983c0a8b51": {
      "model_module": "@jupyter-widgets/controls",
      "model_module_version": "1.5.0",
      "model_name": "DescriptionStyleModel",
      "state": {
       "description_width": ""
      }
     },
     "1b481256bb3d496c976efb9c29bac0c7": {
      "model_module": "@jupyter-widgets/controls",
      "model_module_version": "1.5.0",
      "model_name": "DropdownModel",
      "state": {
       "_options_labels": [
        "surface",
        "radial"
       ],
       "description": "Type",
       "index": 1,
       "layout": "IPY_MODEL_51d92854252f4a728f5940f23c7ccf8a",
       "style": "IPY_MODEL_8bb23973580a432d9907ca5fa04fbd1f"
      }
     },
     "1b8a3df7e78940028b93bc6406c5f525": {
      "model_module": "@jupyter-widgets/controls",
      "model_module_version": "1.5.0",
      "model_name": "SelectModel",
      "state": {
       "_options_labels": [
        "..",
        "dask-worker-space",
        "images"
       ],
       "index": null,
       "layout": "IPY_MODEL_1c9e409a35564372abb4190b481a8dab",
       "rows": 8,
       "style": "IPY_MODEL_4b92ae7d8e2f4557a8a017b0e25c4051"
      }
     },
     "1b92acdbf2614312a2c8559bd5be8521": {
      "model_module": "@jupyter-widgets/controls",
      "model_module_version": "1.5.0",
      "model_name": "HBoxModel",
      "state": {
       "children": [
        "IPY_MODEL_b6f6fd4e025f45909c9537c2d759685d",
        "IPY_MODEL_6f5ca08399cc4dbd9cc26e0ffbaf669d"
       ],
       "layout": "IPY_MODEL_83e3992d46ac47159d6d7c32798083b3"
      }
     },
     "1bc934110ef94b27950ce2c741682cdb": {
      "model_module": "@jupyter-widgets/controls",
      "model_module_version": "1.5.0",
      "model_name": "FloatTextModel",
      "state": {
       "description": "Distance",
       "layout": "IPY_MODEL_0702700f33ba4b1e93ef43db235893ad",
       "step": null,
       "style": "IPY_MODEL_0eb41a70252a4f1e9861e5222a19cd06",
       "value": 1000
      }
     },
     "1bda3dbdc68a4b7c8cb43a7a1482ab78": {
      "model_module": "@jupyter-widgets/base",
      "model_module_version": "1.2.0",
      "model_name": "LayoutModel",
      "state": {}
     },
     "1be868c5effb4172a553ece97c2b1695": {
      "model_module": "@jupyter-widgets/controls",
      "model_module_version": "1.5.0",
      "model_name": "DescriptionStyleModel",
      "state": {
       "description_width": ""
      }
     },
     "1c321579f7ca42c68d101b0b85762888": {
      "model_module": "@jupyter-widgets/base",
      "model_module_version": "1.2.0",
      "model_name": "LayoutModel",
      "state": {
       "display": "none",
       "width": "auto"
      }
     },
     "1c3495a7c0224e2e94b4d56c2b292cdf": {
      "model_module": "@jupyter-widgets/controls",
      "model_module_version": "1.5.0",
      "model_name": "DescriptionStyleModel",
      "state": {
       "description_width": "initial"
      }
     },
     "1c7c3957c53e44908c04e710a17175e9": {
      "model_module": "@jupyter-widgets/controls",
      "model_module_version": "1.5.0",
      "model_name": "DescriptionStyleModel",
      "state": {
       "description_width": ""
      }
     },
     "1c9e409a35564372abb4190b481a8dab": {
      "model_module": "@jupyter-widgets/base",
      "model_module_version": "1.2.0",
      "model_name": "LayoutModel",
      "state": {
       "grid_area": "dircontent",
       "width": "auto"
      }
     },
     "1ce186acf02a4d9e96896d68c4a06943": {
      "model_module": "@jupyter-widgets/controls",
      "model_module_version": "1.5.0",
      "model_name": "DescriptionStyleModel",
      "state": {
       "description_width": ""
      }
     },
     "1d284b25922244f4819c215805998997": {
      "model_module": "@jupyter-widgets/base",
      "model_module_version": "1.2.0",
      "model_name": "LayoutModel",
      "state": {}
     },
     "1dafccc2a3bf4ff0ade16d3764a28766": {
      "model_module": "@jupyter-widgets/controls",
      "model_module_version": "1.5.0",
      "model_name": "ButtonModel",
      "state": {
       "description": "Cancel",
       "layout": "IPY_MODEL_1a895fb9cfbe45a180dec6d9ca293825",
       "style": "IPY_MODEL_98d4300da770418ba7a1455bea3dc5f2"
      }
     },
     "1dc32b24461542d7a73c0105d82328f1": {
      "model_module": "@jupyter-widgets/controls",
      "model_module_version": "1.5.0",
      "model_name": "LabelModel",
      "state": {
       "layout": "IPY_MODEL_b5653d4e03f34a0681bcbfc16b30f5d6",
       "style": "IPY_MODEL_a371adc769234a7e8e16ef40858bb93a",
       "value": "Core cell size"
      }
     },
     "1dcca925b2244d3286aac7ae9fcb9e32": {
      "model_module": "@jupyter-widgets/controls",
      "model_module_version": "1.5.0",
      "model_name": "DescriptionStyleModel",
      "state": {
       "description_width": ""
      }
     },
     "1e32e47785dc427c9720052754b86085": {
      "model_module": "@jupyter-widgets/base",
      "model_module_version": "1.2.0",
      "model_name": "LayoutModel",
      "state": {
       "grid_area": "pathlist",
       "width": "auto"
      }
     },
     "1e3542519cb94b31bd1c3cbf0758f820": {
      "model_module": "@jupyter-widgets/controls",
      "model_module_version": "1.5.0",
      "model_name": "CheckboxModel",
      "state": {
       "description": "Geoscience ANALYST Pro - Live link",
       "disabled": false,
       "indent": false,
       "layout": "IPY_MODEL_d941535e0b814185bf58b425fb53610f",
       "style": "IPY_MODEL_c4a048216c7f4ddd8d04993b189b2857",
       "value": false
      }
     },
     "1e3fa923bcf843bfaf5b3a66c70fca29": {
      "model_module": "@jupyter-widgets/controls",
      "model_module_version": "1.5.0",
      "model_name": "DropdownModel",
      "state": {
       "_options_labels": [
        "C:\\Users\\dominiquef\\Documents\\GIT\\mira\\geoapps\\assets\\Temp",
        "C:\\Users\\dominiquef\\Documents\\GIT\\mira\\geoapps\\assets",
        "C:\\Users\\dominiquef\\Documents\\GIT\\mira\\geoapps",
        "C:\\Users\\dominiquef\\Documents\\GIT\\mira",
        "C:\\Users\\dominiquef\\Documents\\GIT",
        "C:\\Users\\dominiquef\\Documents",
        "C:\\Users\\dominiquef",
        "C:\\Users",
        "C:\\",
        "D:\\",
        "\\\\EgnyteDrive\\mirageoscience\\",
        "G:\\"
       ],
       "index": 0,
       "layout": "IPY_MODEL_c64c7537975445328e05167f0e635e54",
       "style": "IPY_MODEL_1b31d89d90324383bb9dde983c0a8b51"
      }
     },
     "1e44c277b05042d09a49cfbb03ed7556": {
      "model_module": "@jupyter-widgets/controls",
      "model_module_version": "1.5.0",
      "model_name": "ButtonStyleModel",
      "state": {}
     },
     "1e544a273a8e43989384bf980a07fabd": {
      "model_module": "@jupyter-widgets/base",
      "model_module_version": "1.2.0",
      "model_name": "LayoutModel",
      "state": {}
     },
     "1e6cc04c8a36431aad965eabb1e69b11": {
      "model_module": "@jupyter-widgets/controls",
      "model_module_version": "1.5.0",
      "model_name": "LabelModel",
      "state": {
       "layout": "IPY_MODEL_f0e3c82927e84aab918ee2d173e163e3",
       "style": "IPY_MODEL_28fe14e5114041afade76c1540bab14c",
       "value": "Monitoring folder"
      }
     },
     "1e949c515de449dbaea49395ccca4948": {
      "model_module": "@jupyter-widgets/base",
      "model_module_version": "1.2.0",
      "model_name": "LayoutModel",
      "state": {}
     },
     "1ec34672c31249afb4a9030f8eeb5ea4": {
      "model_module": "@jupyter-widgets/controls",
      "model_module_version": "1.5.0",
      "model_name": "LabelModel",
      "state": {
       "layout": "IPY_MODEL_51aea8df67bd4dc699eb5dc0264aaf27",
       "style": "IPY_MODEL_25b3e5b52f25497dbc1f80ae6f443300",
       "value": "Refinement a "
      }
     },
     "1ec684a55dde443b9dc12469ad0db713": {
      "model_module": "@jupyter-widgets/base",
      "model_module_version": "1.2.0",
      "model_name": "LayoutModel",
      "state": {}
     },
     "1f281f2b43b14d93bb36288335a148ce": {
      "model_module": "@jupyter-widgets/controls",
      "model_module_version": "1.5.0",
      "model_name": "DescriptionStyleModel",
      "state": {
       "description_width": ""
      }
     },
     "1f36883bd1bf4519a79cf42d6d412b36": {
      "model_module": "@jupyter-widgets/base",
      "model_module_version": "1.2.0",
      "model_name": "LayoutModel",
      "state": {}
     },
     "1f8b3c5cf3f1492f9349363ac2e84fca": {
      "model_module": "@jupyter-widgets/controls",
      "model_module_version": "1.5.0",
      "model_name": "DescriptionStyleModel",
      "state": {
       "description_width": "initial"
      }
     },
     "1ffc9a91a4404ebda3f5004e4b2e3791": {
      "model_module": "@jupyter-widgets/controls",
      "model_module_version": "1.5.0",
      "model_name": "DescriptionStyleModel",
      "state": {
       "description_width": ""
      }
     },
     "2001bf1a29bf41538966d5b28f18d24f": {
      "model_module": "@jupyter-widgets/controls",
      "model_module_version": "1.5.0",
      "model_name": "DropdownModel",
      "state": {
       "_options_labels": [
        "",
        "Data_TEM_pseudo3DEPSG_4326",
        "Iso_Iteration_7_model_2_50e-03",
        "Iso_Iteration_7_model_1_00e-02",
        "Iso_Iteration_7_model_1_50e-02",
        "Iso_Iteration_7_model_2_00e-02",
        "Iso_Iteration_7_model_2_00e-02",
        "Iso_Iteration_7_model_5_00e-03",
        "Iso_Iteration_7_model_2_50e-03",
        "Iso_Iteration_7_model_1_50e-02",
        "Iso_Iteration_7_model_1_00e-02",
        "Iso_Iteration_7_model_5_00e-03",
        "fault_splay1",
        "fault_Cliff_Lake",
        "fault_Other_FlinFlon",
        "fault_Club_Lake_splay",
        "fault_Catherine_splay2",
        "fault_Birch_View",
        "fault_Dion_Lake",
        "fault_FlinFlon_splay",
        "fault_West_Mandy_Road",
        "fault_Channing",
        "fault_Ross_Lake",
        "fault_Louis_Hidden",
        "fault_Lake_View_thrust",
        "contact_Schist_Lake",
        "fault_Burley_Lake",
        "fault_Dion_Lake_splay",
        "fault_Green_Lake",
        "fault_FlinFlon",
        "fault_Catherine_splay1",
        "fault_East_Mandy_Road",
        "fault_Other_FlinFlon_South",
        "fault_Catherine_splay4",
        "contact_Stitt_Island",
        "fault_Club_Lake",
        "fault_Tailing_Pond",
        "35_Hidden_Reservoir_Hr5",
        "29_Hidden_Reservoir_Hr1a",
        "60_BlueLagoon_Fb2",
        "20_FlinFlon_Undivided_Int_Dykes_D2f",
        "04_Boundary_Intrusive_S4h",
        "53_Millrock_Rhyolite_Fm4b",
        "19_FlinFlon_Undivided_Int_Dykes_D2b",
        "18_FlinFlon_Undivided_Int_Dykes_777_D2b",
        "06_Phantom_Lake_Intrusive_S3a",
        "21_FlinFlon_Undivided_Int_Dykes_D3a",
        "43_Millrock_CHLSH_South",
        "56_Millrock_Basalt_Fm1ba",
        "17_FlinFlon_Undivided_Int_Dykes_D2",
        "32_Hidden_Reservoir_Hr1b_SW",
        "11_Missi_M3_NE",
        "13_Missi_M1",
        "07_Annabel_Granitoid_S1",
        "45_Millrock_Gabbro_South",
        "01_Late_Intrusive_S5b",
        "31_Hidden_Reservoir_Hr1c_SW",
        "52_Millrock_Rhyolite_Fm4_West_check",
        "55_Millrock_Basalt_Fm1bf",
        "34_Hidden_Reservoir_Hr2b",
        "03_Boundary_Intrusive_S4b",
        "42_Millrock_CHLSH_North",
        "26_Louis_L3",
        "23_FlinFlon_Undivided_Int_Felsic_D4g",
        "30_Hidden_Reservoir_Hr1b",
        "59_BlueLagoon_Fb3",
        "49_Millrock_MVR_Fm5d",
        "44_Millrock_Gabbro_North",
        "27_Hidden_Carlisle_Hc4",
        "22_FlinFlon_Undivided_Int_Felsic_D4e",
        "02_Boundary_Intrusive_S4a",
        "61_BlueLagoon_Fb1_NW",
        "05_Boundary_Intrusive_S4g",
        "39_Ore_Callinan",
        "38_Ore_Dan_Owens",
        "40_Ore_FlinFlon",
        "Inversion_VTEM_Model",
        "CDI_VTEM_model",
        "Data_FEM_pseudo3D",
        "geochem",
        "Inversion_DIGHEM_Model",
        "Topography",
        "Data_TEM_pseudo3D",
        "Data_ZTEM",
        "Mesh"
       ],
       "description": "Core hull extent:",
       "index": 78,
       "layout": "IPY_MODEL_0e473af57f66471a83a3602253ab92a2",
       "style": "IPY_MODEL_3554c703de914b58bc78bef28ae6cfbb"
      }
     },
     "200b7457b7d44c8c87bbdec2ad9d4faa": {
      "model_module": "@jupyter-widgets/base",
      "model_module_version": "1.2.0",
      "model_name": "LayoutModel",
      "state": {}
     },
     "204b8129878845a49db3ae9114f90c7b": {
      "model_module": "@jupyter-widgets/controls",
      "model_module_version": "1.5.0",
      "model_name": "DescriptionStyleModel",
      "state": {
       "description_width": ""
      }
     },
     "20913cb4a36a489aaf21f4c377e310f3": {
      "model_module": "@jupyter-widgets/controls",
      "model_module_version": "1.5.0",
      "model_name": "VBoxModel",
      "state": {
       "children": [
        "IPY_MODEL_ae9591e5484240f8baa45638a65969cc"
       ],
       "layout": "IPY_MODEL_b9e5928ef1fd46cd9b1b3cc074db7143"
      }
     },
     "20b3e8307bb44d8dbb1149d002af61e0": {
      "model_module": "@jupyter-widgets/controls",
      "model_module_version": "1.5.0",
      "model_name": "DescriptionStyleModel",
      "state": {
       "description_width": "initial"
      }
     },
     "20b4f094b10347c39baff7c8f3f0a4e5": {
      "model_module": "@jupyter-widgets/controls",
      "model_module_version": "1.5.0",
      "model_name": "DescriptionStyleModel",
      "state": {
       "description_width": "initial"
      }
     },
     "2110a91264164d14a6d29f9bc8afd1d5": {
      "model_module": "@jupyter-widgets/controls",
      "model_module_version": "1.5.0",
      "model_name": "FloatTextModel",
      "state": {
       "description": "Vertical",
       "layout": "IPY_MODEL_9a75478c42bb48f48602cf03bb72023d",
       "step": null,
       "style": "IPY_MODEL_d3ba8225911b41e0bf56fab1cb7f3ccc",
       "value": 25
      }
     },
     "215a4f8f74714dd4a9a801e5b7be4dcb": {
      "model_module": "@jupyter-widgets/controls",
      "model_module_version": "1.5.0",
      "model_name": "DescriptionStyleModel",
      "state": {
       "description_width": "initial"
      }
     },
     "21987f2e3fcc4a9ea024f76eea875390": {
      "model_module": "@jupyter-widgets/controls",
      "model_module_version": "1.5.0",
      "model_name": "ButtonModel",
      "state": {
       "description": "Cancel",
       "layout": "IPY_MODEL_57d4c5dc9e734f18984c9c77487675c7",
       "style": "IPY_MODEL_91765d1b10f642dda7e339aabade8145"
      }
     },
     "219dfb90e7c1432ca4847ce19ab23099": {
      "model_module": "@jupyter-widgets/controls",
      "model_module_version": "1.5.0",
      "model_name": "DescriptionStyleModel",
      "state": {
       "description_width": "initial"
      }
     },
     "21d8bfb8b0e04b5e96a017880db38a85": {
      "model_module": "@jupyter-widgets/controls",
      "model_module_version": "1.5.0",
      "model_name": "DescriptionStyleModel",
      "state": {
       "description_width": "initial"
      }
     },
     "21e3daa473684454a4b9f6a97c45010a": {
      "model_module": "@jupyter-widgets/base",
      "model_module_version": "1.2.0",
      "model_name": "LayoutModel",
      "state": {}
     },
     "21f8edc93b2b4cbe893ca6468888d5b8": {
      "model_module": "@jupyter-widgets/controls",
      "model_module_version": "1.5.0",
      "model_name": "DescriptionStyleModel",
      "state": {
       "description_width": "initial"
      }
     },
     "221538eab205438d9b0c205475625aa1": {
      "model_module": "@jupyter-widgets/base",
      "model_module_version": "1.2.0",
      "model_name": "LayoutModel",
      "state": {}
     },
     "2231af3d285c41d682301ebef6f7d507": {
      "model_module": "@jupyter-widgets/base",
      "model_module_version": "1.2.0",
      "model_name": "LayoutModel",
      "state": {}
     },
     "2236b0c8014546188e055ffa56073997": {
      "model_module": "@jupyter-widgets/base",
      "model_module_version": "1.2.0",
      "model_name": "LayoutModel",
      "state": {}
     },
     "22553693b1584862ba55e91b1770527d": {
      "model_module": "@jupyter-widgets/controls",
      "model_module_version": "1.5.0",
      "model_name": "DescriptionStyleModel",
      "state": {
       "description_width": ""
      }
     },
     "22ad98b98a7a440a8b36078b30416706": {
      "model_module": "@jupyter-widgets/controls",
      "model_module_version": "1.5.0",
      "model_name": "DescriptionStyleModel",
      "state": {
       "description_width": ""
      }
     },
     "22cea33d87564bfebb205789261ef036": {
      "model_module": "@jupyter-widgets/base",
      "model_module_version": "1.2.0",
      "model_name": "LayoutModel",
      "state": {
       "display": "none",
       "grid_area": "filename",
       "width": "auto"
      }
     },
     "23233e60b8854eb997ea4199eb88e452": {
      "model_module": "@jupyter-widgets/controls",
      "model_module_version": "1.5.0",
      "model_name": "ButtonStyleModel",
      "state": {}
     },
     "2342ebda649a4634bacf15be5b5d268d": {
      "model_module": "@jupyter-widgets/controls",
      "model_module_version": "1.5.0",
      "model_name": "DescriptionStyleModel",
      "state": {
       "description_width": ""
      }
     },
     "234e3fc143fa43eda4e926e05aa91bff": {
      "model_module": "@jupyter-widgets/controls",
      "model_module_version": "1.5.0",
      "model_name": "DescriptionStyleModel",
      "state": {
       "description_width": "initial"
      }
     },
     "23858db77e19432a8f2ec3070d0d6eb2": {
      "model_module": "@jupyter-widgets/base",
      "model_module_version": "1.2.0",
      "model_name": "LayoutModel",
      "state": {}
     },
     "23b2f53358724bc5accb39b0f00d7f4c": {
      "model_module": "@jupyter-widgets/controls",
      "model_module_version": "1.5.0",
      "model_name": "DescriptionStyleModel",
      "state": {
       "description_width": ""
      }
     },
     "23d203b0447543079fc5606fbd2cc81a": {
      "model_module": "@jupyter-widgets/base",
      "model_module_version": "1.2.0",
      "model_name": "LayoutModel",
      "state": {
       "grid_area": "filename",
       "width": "auto"
      }
     },
     "23e685e476714069bb3341ee6a43911e": {
      "model_module": "@jupyter-widgets/controls",
      "model_module_version": "1.5.0",
      "model_name": "FloatTextModel",
      "state": {
       "description": "Easting",
       "layout": "IPY_MODEL_ef07ed581e154f97befd0998acc0f689",
       "step": null,
       "style": "IPY_MODEL_09236b7450c44263b9755d5a780a2c51",
       "value": 25
      }
     },
     "244cc74028324b9abe71fb5a89dad8ec": {
      "model_module": "@jupyter-widgets/controls",
      "model_module_version": "1.5.0",
      "model_name": "VBoxModel",
      "state": {
       "children": [
        "IPY_MODEL_5813160a186845dbab125e7204faef97",
        "IPY_MODEL_53b1cf4c08c54896bec8e254bf34d376"
       ],
       "layout": "IPY_MODEL_a00061edceaa44fda560058dc27c156c"
      }
     },
     "246eb65109304dd8b1c4f7cdad896a32": {
      "model_module": "@jupyter-widgets/base",
      "model_module_version": "1.2.0",
      "model_name": "LayoutModel",
      "state": {}
     },
     "247f0ef0387440a087b14320b1c7051b": {
      "model_module": "@jupyter-widgets/controls",
      "model_module_version": "1.5.0",
      "model_name": "DescriptionStyleModel",
      "state": {
       "description_width": ""
      }
     },
     "2481da0b5acf42dbb817508f1b43f506": {
      "model_module": "@jupyter-widgets/controls",
      "model_module_version": "1.5.0",
      "model_name": "VBoxModel",
      "state": {
       "children": [
        "IPY_MODEL_ef7d339fe1b5431b86ea6ffa5f26bae0",
        "IPY_MODEL_73752c1b377144b1912af29a8822f1fc",
        "IPY_MODEL_41eaa3a95bea4d1bbbbe9f1469469050",
        "IPY_MODEL_7b3d7c0f361d4c4283a6608b68dc9eb6",
        "IPY_MODEL_52baf4613f404919ab995abcb269f2c4",
        "IPY_MODEL_72d28b0216c04cb5b1ff25b6170f5919",
        "IPY_MODEL_05806eecc5e648d2956b7b03f1dab638",
        "IPY_MODEL_2ddc299ed191429db0196ca407a610c3",
        "IPY_MODEL_09f876b725dd4cab93fdc9948b5e1d42",
        "IPY_MODEL_f8b4af17f73c40e681d0ac33d7343bb3"
       ],
       "layout": "IPY_MODEL_758df548b33241cdb4d518bd27f6a3ce"
      }
     },
     "24c57fdb810642a9aaceb00a763f1f4b": {
      "model_module": "@jupyter-widgets/base",
      "model_module_version": "1.2.0",
      "model_name": "LayoutModel",
      "state": {}
     },
     "24c820d13a104ea2abecd0f882a8176f": {
      "model_module": "@jupyter-widgets/controls",
      "model_module_version": "1.5.0",
      "model_name": "HBoxModel",
      "state": {
       "children": [
        "IPY_MODEL_be01218abc8640258833bda348aefbc8",
        "IPY_MODEL_e70327760a4f49efa1e5064e76d7361e",
        "IPY_MODEL_27e1d3f5b704490aad041eb0a4878e58"
       ],
       "layout": "IPY_MODEL_3a445211dca84840a7404e570c33fcc7"
      }
     },
     "24dccbd7594f42848f5a1347a56e6f6d": {
      "model_module": "@jupyter-widgets/base",
      "model_module_version": "1.2.0",
      "model_name": "LayoutModel",
      "state": {
       "display": "none",
       "grid_gap": "0px 0px",
       "grid_template_areas": "\n                    'pathlist filename'\n                    'dircontent dircontent'\n                    ",
       "grid_template_columns": "60% 40%",
       "grid_template_rows": "auto auto",
       "width": "500px"
      }
     },
     "250b547c7cb04856931990d7c530f0e5": {
      "model_module": "@jupyter-widgets/controls",
      "model_module_version": "1.5.0",
      "model_name": "DescriptionStyleModel",
      "state": {
       "description_width": "initial"
      }
     },
     "25437eadac654c42aa6ffef1625d8a14": {
      "model_module": "@jupyter-widgets/controls",
      "model_module_version": "1.5.0",
      "model_name": "DescriptionStyleModel",
      "state": {
       "description_width": ""
      }
     },
     "25a100910f5f4541abac63a936cf0cc9": {
      "model_module": "@jupyter-widgets/controls",
      "model_module_version": "1.5.0",
      "model_name": "DropdownModel",
      "state": {
       "_options_labels": [
        "",
        "Data_TEM_pseudo3DEPSG_4326",
        "Iso_Iteration_7_model_2_50e-03",
        "Iso_Iteration_7_model_1_00e-02",
        "Iso_Iteration_7_model_1_50e-02",
        "Iso_Iteration_7_model_2_00e-02",
        "Iso_Iteration_7_model_2_00e-02",
        "Iso_Iteration_7_model_5_00e-03",
        "Iso_Iteration_7_model_2_50e-03",
        "Iso_Iteration_7_model_1_50e-02",
        "Iso_Iteration_7_model_1_00e-02",
        "Iso_Iteration_7_model_5_00e-03",
        "fault_splay1",
        "fault_Cliff_Lake",
        "fault_Other_FlinFlon",
        "fault_Club_Lake_splay",
        "fault_Catherine_splay2",
        "fault_Birch_View",
        "fault_Dion_Lake",
        "fault_FlinFlon_splay",
        "fault_West_Mandy_Road",
        "fault_Channing",
        "fault_Ross_Lake",
        "fault_Louis_Hidden",
        "fault_Lake_View_thrust",
        "contact_Schist_Lake",
        "fault_Burley_Lake",
        "fault_Dion_Lake_splay",
        "fault_Green_Lake",
        "fault_FlinFlon",
        "fault_Catherine_splay1",
        "fault_East_Mandy_Road",
        "fault_Other_FlinFlon_South",
        "fault_Catherine_splay4",
        "contact_Stitt_Island",
        "fault_Club_Lake",
        "fault_Tailing_Pond",
        "35_Hidden_Reservoir_Hr5",
        "29_Hidden_Reservoir_Hr1a",
        "60_BlueLagoon_Fb2",
        "20_FlinFlon_Undivided_Int_Dykes_D2f",
        "04_Boundary_Intrusive_S4h",
        "53_Millrock_Rhyolite_Fm4b",
        "19_FlinFlon_Undivided_Int_Dykes_D2b",
        "18_FlinFlon_Undivided_Int_Dykes_777_D2b",
        "06_Phantom_Lake_Intrusive_S3a",
        "21_FlinFlon_Undivided_Int_Dykes_D3a",
        "43_Millrock_CHLSH_South",
        "56_Millrock_Basalt_Fm1ba",
        "17_FlinFlon_Undivided_Int_Dykes_D2",
        "32_Hidden_Reservoir_Hr1b_SW",
        "11_Missi_M3_NE",
        "13_Missi_M1",
        "07_Annabel_Granitoid_S1",
        "45_Millrock_Gabbro_South",
        "01_Late_Intrusive_S5b",
        "31_Hidden_Reservoir_Hr1c_SW",
        "52_Millrock_Rhyolite_Fm4_West_check",
        "55_Millrock_Basalt_Fm1bf",
        "34_Hidden_Reservoir_Hr2b",
        "03_Boundary_Intrusive_S4b",
        "42_Millrock_CHLSH_North",
        "26_Louis_L3",
        "23_FlinFlon_Undivided_Int_Felsic_D4g",
        "30_Hidden_Reservoir_Hr1b",
        "59_BlueLagoon_Fb3",
        "49_Millrock_MVR_Fm5d",
        "44_Millrock_Gabbro_North",
        "27_Hidden_Carlisle_Hc4",
        "22_FlinFlon_Undivided_Int_Felsic_D4e",
        "02_Boundary_Intrusive_S4a",
        "61_BlueLagoon_Fb1_NW",
        "05_Boundary_Intrusive_S4g",
        "39_Ore_Callinan",
        "38_Ore_Dan_Owens",
        "40_Ore_FlinFlon",
        "Inversion_VTEM_Model",
        "CDI_VTEM_model",
        "Data_FEM_pseudo3D",
        "geochem",
        "Inversion_DIGHEM_Model",
        "Topography",
        "Data_TEM_pseudo3D",
        "Data_ZTEM",
        "Mesh"
       ],
       "description": "Object",
       "index": 0,
       "layout": "IPY_MODEL_606fb24278384c52977ef44cb2ea1232",
       "style": "IPY_MODEL_35081be9573d4e138e045a8ab193db56"
      }
     },
     "25b260a861174e7e8a1c57192177feed": {
      "model_module": "@jupyter-widgets/base",
      "model_module_version": "1.2.0",
      "model_name": "LayoutModel",
      "state": {}
     },
     "25b3e5b52f25497dbc1f80ae6f443300": {
      "model_module": "@jupyter-widgets/controls",
      "model_module_version": "1.5.0",
      "model_name": "DescriptionStyleModel",
      "state": {
       "description_width": ""
      }
     },
     "25d8fec6c79b483bb805ff622960bfc1": {
      "model_module": "@jupyter-widgets/base",
      "model_module_version": "1.2.0",
      "model_name": "LayoutModel",
      "state": {}
     },
     "25eae77980774681860da18c5da1caaf": {
      "model_module": "@jupyter-widgets/controls",
      "model_module_version": "1.5.0",
      "model_name": "ButtonModel",
      "state": {
       "description": "Change",
       "layout": "IPY_MODEL_8ef7a67161f64c25af218c3779eb2a15",
       "style": "IPY_MODEL_52081046b4dd455aa25c5e75c194b31e"
      }
     },
     "25ece8d4f9484e6d9845791efc32cad2": {
      "model_module": "@jupyter-widgets/controls",
      "model_module_version": "1.5.0",
      "model_name": "DescriptionStyleModel",
      "state": {
       "description_width": "initial"
      }
     },
     "2657ae59173642c08d971fb775f3668a": {
      "model_module": "@jupyter-widgets/base",
      "model_module_version": "1.2.0",
      "model_name": "LayoutModel",
      "state": {
       "border": "solid"
      }
     },
     "26634e1c65eb4a038cb2e010d8c34c29": {
      "model_module": "@jupyter-widgets/controls",
      "model_module_version": "1.5.0",
      "model_name": "DescriptionStyleModel",
      "state": {
       "description_width": "initial"
      }
     },
     "269c41798181425199ae5120e9ba7565": {
      "model_module": "@jupyter-widgets/controls",
      "model_module_version": "1.5.0",
      "model_name": "VBoxModel",
      "state": {
       "children": [
        "IPY_MODEL_698b4b5a69c3436689de22182444d8f6",
        "IPY_MODEL_4943d33b8c584e87bbd0f119f0cc9965"
       ],
       "layout": "IPY_MODEL_f11a9daa8fb547c58e0b7a2220aa09e3"
      }
     },
     "26a2e2deb6ec44f6ab00db801f41d92c": {
      "model_module": "@jupyter-widgets/controls",
      "model_module_version": "1.5.0",
      "model_name": "DescriptionStyleModel",
      "state": {
       "description_width": "initial"
      }
     },
     "26caa90bf0534a27b289cb2873779c93": {
      "model_module": "@jupyter-widgets/controls",
      "model_module_version": "1.5.0",
      "model_name": "DescriptionStyleModel",
      "state": {
       "description_width": "initial"
      }
     },
     "2775eccba47846108b78492790426f69": {
      "model_module": "@jupyter-widgets/controls",
      "model_module_version": "1.5.0",
      "model_name": "DescriptionStyleModel",
      "state": {
       "description_width": ""
      }
     },
     "27e1d3f5b704490aad041eb0a4878e58": {
      "model_module": "@jupyter-widgets/controls",
      "model_module_version": "1.5.0",
      "model_name": "HTMLModel",
      "state": {
       "layout": "IPY_MODEL_d2b147f1fe4e435989f4dd6068565dfb",
       "placeholder": "",
       "style": "IPY_MODEL_4a17a71cdb774cb8b678f8ae57f2e54c",
       "value": "<span style=\"margin-left:10px; color:orange;\">C:\\Users\\dominiquef\\Documents\\GIT\\mira\\geoapps\\assets\\FlinFlon.geoh5</span>"
      }
     },
     "281d3e522a534ce798f564e3c8aa1ac0": {
      "model_module": "@jupyter-widgets/controls",
      "model_module_version": "1.5.0",
      "model_name": "DropdownModel",
      "state": {
       "_options_labels": [
        "",
        "Data_TEM_pseudo3DEPSG_4326",
        "Iso_Iteration_7_model_2_50e-03",
        "Iso_Iteration_7_model_1_00e-02",
        "Iso_Iteration_7_model_1_50e-02",
        "Iso_Iteration_7_model_2_00e-02",
        "Iso_Iteration_7_model_2_00e-02",
        "Iso_Iteration_7_model_5_00e-03",
        "Iso_Iteration_7_model_2_50e-03",
        "Iso_Iteration_7_model_1_50e-02",
        "Iso_Iteration_7_model_1_00e-02",
        "Iso_Iteration_7_model_5_00e-03",
        "fault_splay1",
        "fault_Cliff_Lake",
        "fault_Other_FlinFlon",
        "fault_Club_Lake_splay",
        "fault_Catherine_splay2",
        "fault_Birch_View",
        "fault_Dion_Lake",
        "fault_FlinFlon_splay",
        "fault_West_Mandy_Road",
        "fault_Channing",
        "fault_Ross_Lake",
        "fault_Louis_Hidden",
        "fault_Lake_View_thrust",
        "contact_Schist_Lake",
        "fault_Burley_Lake",
        "fault_Dion_Lake_splay",
        "fault_Green_Lake",
        "fault_FlinFlon",
        "fault_Catherine_splay1",
        "fault_East_Mandy_Road",
        "fault_Other_FlinFlon_South",
        "fault_Catherine_splay4",
        "contact_Stitt_Island",
        "fault_Club_Lake",
        "fault_Tailing_Pond",
        "35_Hidden_Reservoir_Hr5",
        "29_Hidden_Reservoir_Hr1a",
        "60_BlueLagoon_Fb2",
        "20_FlinFlon_Undivided_Int_Dykes_D2f",
        "04_Boundary_Intrusive_S4h",
        "53_Millrock_Rhyolite_Fm4b",
        "19_FlinFlon_Undivided_Int_Dykes_D2b",
        "18_FlinFlon_Undivided_Int_Dykes_777_D2b",
        "06_Phantom_Lake_Intrusive_S3a",
        "21_FlinFlon_Undivided_Int_Dykes_D3a",
        "43_Millrock_CHLSH_South",
        "56_Millrock_Basalt_Fm1ba",
        "17_FlinFlon_Undivided_Int_Dykes_D2",
        "32_Hidden_Reservoir_Hr1b_SW",
        "11_Missi_M3_NE",
        "13_Missi_M1",
        "07_Annabel_Granitoid_S1",
        "45_Millrock_Gabbro_South",
        "01_Late_Intrusive_S5b",
        "31_Hidden_Reservoir_Hr1c_SW",
        "52_Millrock_Rhyolite_Fm4_West_check",
        "55_Millrock_Basalt_Fm1bf",
        "34_Hidden_Reservoir_Hr2b",
        "03_Boundary_Intrusive_S4b",
        "42_Millrock_CHLSH_North",
        "26_Louis_L3",
        "23_FlinFlon_Undivided_Int_Felsic_D4g",
        "30_Hidden_Reservoir_Hr1b",
        "59_BlueLagoon_Fb3",
        "49_Millrock_MVR_Fm5d",
        "44_Millrock_Gabbro_North",
        "27_Hidden_Carlisle_Hc4",
        "22_FlinFlon_Undivided_Int_Felsic_D4e",
        "02_Boundary_Intrusive_S4a",
        "61_BlueLagoon_Fb1_NW",
        "05_Boundary_Intrusive_S4g",
        "39_Ore_Callinan",
        "38_Ore_Dan_Owens",
        "40_Ore_FlinFlon",
        "Inversion_VTEM_Model",
        "CDI_VTEM_model",
        "Data_FEM_pseudo3D",
        "geochem",
        "Inversion_DIGHEM_Model",
        "Topography",
        "Data_TEM_pseudo3D",
        "Data_ZTEM",
        "Mesh"
       ],
       "description": "Object",
       "index": 0,
       "layout": "IPY_MODEL_857bc571b2ab4aa2af1f83c281c53804",
       "style": "IPY_MODEL_d4320c3328844ac5b2cabe409a368d36"
      }
     },
     "283709d9381841fc943844a4d99cea14": {
      "model_module": "@jupyter-widgets/base",
      "model_module_version": "1.2.0",
      "model_name": "LayoutModel",
      "state": {}
     },
     "2897b9fd61a5435ea6537fac0c4a7f86": {
      "model_module": "@jupyter-widgets/controls",
      "model_module_version": "1.5.0",
      "model_name": "DropdownModel",
      "state": {
       "_options_labels": [
        "surface",
        "radial"
       ],
       "description": "Type",
       "index": 1,
       "layout": "IPY_MODEL_07a64aaa13e34007a20467bb554b7a6c",
       "style": "IPY_MODEL_c8fb487927d24d13ae72322ac9dae943"
      }
     },
     "28a2474117034aa1b3e880b03529578f": {
      "model_module": "@jupyter-widgets/controls",
      "model_module_version": "1.5.0",
      "model_name": "DescriptionStyleModel",
      "state": {
       "description_width": "initial"
      }
     },
     "28be3fffd4844fdebf9a73fd9184539a": {
      "model_module": "@jupyter-widgets/controls",
      "model_module_version": "1.5.0",
      "model_name": "DescriptionStyleModel",
      "state": {
       "description_width": "initial"
      }
     },
     "28cf6c9797394717a0de6c370341566e": {
      "model_module": "@jupyter-widgets/base",
      "model_module_version": "1.2.0",
      "model_name": "LayoutModel",
      "state": {}
     },
     "28e044139db8465aa0b1c8e0513ded98": {
      "model_module": "@jupyter-widgets/controls",
      "model_module_version": "1.5.0",
      "model_name": "DescriptionStyleModel",
      "state": {
       "description_width": ""
      }
     },
     "28f9d89a90324b9aaaab13e515ae3106": {
      "model_module": "@jupyter-widgets/controls",
      "model_module_version": "1.5.0",
      "model_name": "TextModel",
      "state": {
       "description": "Levels",
       "layout": "IPY_MODEL_c7a5b243e5554c2f913a2d345ef25f95",
       "style": "IPY_MODEL_aeee0ed2cf3c4c96855c5ada112e367c",
       "value": "0.0, 0.0, 2.0"
      }
     },
     "28fe14e5114041afade76c1540bab14c": {
      "model_module": "@jupyter-widgets/controls",
      "model_module_version": "1.5.0",
      "model_name": "DescriptionStyleModel",
      "state": {
       "description_width": "initial"
      }
     },
     "2904bc1468124adca8330acc0a0b42a4": {
      "model_module": "@jupyter-widgets/controls",
      "model_module_version": "1.5.0",
      "model_name": "ButtonStyleModel",
      "state": {}
     },
     "2915e470ae9d4d0aae7b6e9fb171ad6c": {
      "model_module": "@jupyter-widgets/base",
      "model_module_version": "1.2.0",
      "model_name": "LayoutModel",
      "state": {
       "display": "none"
      }
     },
     "294c678fa25442d281487144fe20b247": {
      "model_module": "@jupyter-widgets/controls",
      "model_module_version": "1.5.0",
      "model_name": "DescriptionStyleModel",
      "state": {
       "description_width": ""
      }
     },
     "2955a1f9c0084fb58a294898f55c9f69": {
      "model_module": "@jupyter-widgets/base",
      "model_module_version": "1.2.0",
      "model_name": "LayoutModel",
      "state": {
       "width": "auto"
      }
     },
     "2977b17282934d9591600f82194f08ed": {
      "model_module": "@jupyter-widgets/controls",
      "model_module_version": "1.5.0",
      "model_name": "DescriptionStyleModel",
      "state": {
       "description_width": "initial"
      }
     },
     "2995a9c875be475aaba5197332427831": {
      "model_module": "@jupyter-widgets/controls",
      "model_module_version": "1.5.0",
      "model_name": "VBoxModel",
      "state": {
       "children": [
        "IPY_MODEL_bc90bf89b9d2439fac73e4dc0e1bdf20",
        "IPY_MODEL_d601247c5cd34aa6afe4b730f3593f4f"
       ],
       "layout": "IPY_MODEL_e31a7fa4bdc94d5a8b8c3a3c0961b7ea"
      }
     },
     "2999dfb545ae44efa9f72ec6943ac92f": {
      "model_module": "@jupyter-widgets/controls",
      "model_module_version": "1.5.0",
      "model_name": "DescriptionStyleModel",
      "state": {
       "description_width": ""
      }
     },
     "29a5c296344c40d6b04e3719aae7203e": {
      "model_module": "@jupyter-widgets/base",
      "model_module_version": "1.2.0",
      "model_name": "LayoutModel",
      "state": {}
     },
     "2a3f137c35924f4fa30859f7ef09f140": {
      "model_module": "@jupyter-widgets/controls",
      "model_module_version": "1.5.0",
      "model_name": "VBoxModel",
      "state": {
       "children": [
        "IPY_MODEL_63c5eeb32be44614972a9fd05f942b00",
        "IPY_MODEL_fe8b74d793824547acb1d74becc45cfd",
        "IPY_MODEL_68d2d71578624b2a8bec3ca140537f23",
        "IPY_MODEL_4ac74c8ea7074195a7ebdddeec5e544a",
        "IPY_MODEL_73e2c46fbaa8424895d7c2178f937c40"
       ],
       "layout": "IPY_MODEL_0dd6b5649bce42f2884bbb113456b824"
      }
     },
     "2a758454b6704e0a8de3ce3c9b250f1c": {
      "model_module": "@jupyter-widgets/controls",
      "model_module_version": "1.5.0",
      "model_name": "DescriptionStyleModel",
      "state": {
       "description_width": ""
      }
     },
     "2a7e852db9fe47d59ed954d59a37af7f": {
      "model_module": "@jupyter-widgets/controls",
      "model_module_version": "1.5.0",
      "model_name": "DropdownModel",
      "state": {
       "_options_labels": [
        "",
        "--- Channels ---",
        "CPI900",
        "CPQ56k",
        "CPQ7200",
        "CPQ900",
        "CPI7200",
        "Line",
        "DEM",
        "CPI56k",
        "X",
        "Y",
        "Z"
       ],
       "description": "Data: ",
       "index": 0,
       "layout": "IPY_MODEL_f6b9e040d3a74593992bfaf4cbbe2943",
       "style": "IPY_MODEL_769b0d91beb54803a4a4d944195eae0b"
      }
     },
     "2aa43ebcc83f40c4980fe2ebd71de899": {
      "model_module": "@jupyter-widgets/controls",
      "model_module_version": "1.5.0",
      "model_name": "HBoxModel",
      "state": {
       "children": [
        "IPY_MODEL_86c02b0cf5ff40d1b58bf321e7536cd4",
        "IPY_MODEL_cb181f7aa017467cbfe145d1efc360e1",
        "IPY_MODEL_748e617bc13c4a4f80cbd9cbdd84f5cb"
       ],
       "layout": "IPY_MODEL_88f773a4887f4d16b57fab25b4357fb1"
      }
     },
     "2addf0f0a6844b6a87c693a105c2979d": {
      "model_module": "@jupyter-widgets/controls",
      "model_module_version": "1.5.0",
      "model_name": "DescriptionStyleModel",
      "state": {
       "description_width": ""
      }
     },
     "2b2c10c6556947c4a46a081a9284eb59": {
      "model_module": "@jupyter-widgets/base",
      "model_module_version": "1.2.0",
      "model_name": "LayoutModel",
      "state": {}
     },
     "2b4d034bee1e4974b1bf97da398080d3": {
      "model_module": "@jupyter-widgets/controls",
      "model_module_version": "1.5.0",
      "model_name": "ButtonModel",
      "state": {
       "description": "Change",
       "layout": "IPY_MODEL_eecae4d2495a4bbf9c57e623d51abe6d",
       "style": "IPY_MODEL_c03680f2b30947678b697e03290c8304"
      }
     },
     "2bab0e10c6264fb1bccb759916f9ab0c": {
      "model_module": "@jupyter-widgets/base",
      "model_module_version": "1.2.0",
      "model_name": "LayoutModel",
      "state": {}
     },
     "2bc27852f4bf4e5d86826c23a1721d5f": {
      "model_module": "@jupyter-widgets/base",
      "model_module_version": "1.2.0",
      "model_name": "LayoutModel",
      "state": {}
     },
     "2c0a7f4fa62747a1b1c7bc3951c0708a": {
      "model_module": "@jupyter-widgets/base",
      "model_module_version": "1.2.0",
      "model_name": "LayoutModel",
      "state": {}
     },
     "2c1c306ac08145858307b9bb3c77219c": {
      "model_module": "@jupyter-widgets/base",
      "model_module_version": "1.2.0",
      "model_name": "LayoutModel",
      "state": {}
     },
     "2c2da5a417cb422b9f17cb57708947bd": {
      "model_module": "@jupyter-widgets/base",
      "model_module_version": "1.2.0",
      "model_name": "LayoutModel",
      "state": {
       "min_width": "6em",
       "width": "6em"
      }
     },
     "2d170e65f0fa4a98be48a36e7e8051b0": {
      "model_module": "@jupyter-widgets/controls",
      "model_module_version": "1.5.0",
      "model_name": "DescriptionStyleModel",
      "state": {
       "description_width": "initial"
      }
     },
     "2d1b34af9f494617acfafe2fd69ce458": {
      "model_module": "@jupyter-widgets/controls",
      "model_module_version": "1.5.0",
      "model_name": "ButtonStyleModel",
      "state": {}
     },
     "2d213e8d4eff494bb40c11826596cd0d": {
      "model_module": "@jupyter-widgets/base",
      "model_module_version": "1.2.0",
      "model_name": "LayoutModel",
      "state": {}
     },
     "2d586bbc1dbe4f279af6ddbb014e27e8": {
      "model_module": "@jupyter-widgets/base",
      "model_module_version": "1.2.0",
      "model_name": "LayoutModel",
      "state": {
       "margin": "0 0 0 1em"
      }
     },
     "2d76452d652a45db9457b034b6615d35": {
      "model_module": "@jupyter-widgets/base",
      "model_module_version": "1.2.0",
      "model_name": "LayoutModel",
      "state": {}
     },
     "2d9026cfd75b404682e3093554233470": {
      "model_module": "@jupyter-widgets/controls",
      "model_module_version": "1.5.0",
      "model_name": "LabelModel",
      "state": {
       "layout": "IPY_MODEL_a0caa9da94ad49f895505535e876cd08",
       "style": "IPY_MODEL_9c769d2979c348e6a830684e405b334a",
       "value": "Padding distance"
      }
     },
     "2dccd8d0769a438ea5e6b0114caad58b": {
      "model_module": "@jupyter-widgets/controls",
      "model_module_version": "1.5.0",
      "model_name": "DescriptionStyleModel",
      "state": {
       "description_width": ""
      }
     },
     "2dd7a35f89eb41f2998a939532243773": {
      "model_module": "@jupyter-widgets/controls",
      "model_module_version": "1.5.0",
      "model_name": "DescriptionStyleModel",
      "state": {
       "description_width": "initial"
      }
     },
     "2ddc299ed191429db0196ca407a610c3": {
      "model_module": "@jupyter-widgets/controls",
      "model_module_version": "1.5.0",
      "model_name": "LabelModel",
      "state": {
       "layout": "IPY_MODEL_5991bfc213704e80b16c2d909a1c70a9",
       "style": "IPY_MODEL_4c4ceb4e4b704947a74f053b92d55586",
       "value": "Padding distance"
      }
     },
     "2de29a9236d54020a659ca1a61f0b546": {
      "model_module": "@jupyter-widgets/controls",
      "model_module_version": "1.5.0",
      "model_name": "TextModel",
      "state": {
       "description": "Levels",
       "layout": "IPY_MODEL_0d3c68f69bb7444d88c9f1accfc9507a",
       "style": "IPY_MODEL_219dfb90e7c1432ca4847ce19ab23099",
       "value": "0.0, 0.0, 2.0"
      }
     },
     "2df814ccfba047119f5ca5978abc0c4f": {
      "model_module": "@jupyter-widgets/controls",
      "model_module_version": "1.5.0",
      "model_name": "ButtonModel",
      "state": {
       "description": "Create copy:",
       "layout": "IPY_MODEL_8095569a9e804ff2a50a29766dd662fb",
       "style": "IPY_MODEL_7f78f38bc65941c790dc7d67c51190ef"
      }
     },
     "2e009b3698e242488ce46ad5f4972a86": {
      "model_module": "@jupyter-widgets/controls",
      "model_module_version": "1.5.0",
      "model_name": "DescriptionStyleModel",
      "state": {
       "description_width": ""
      }
     },
     "2e61f5f3c5bc4a0cb5451fa9916168ee": {
      "model_module": "@jupyter-widgets/controls",
      "model_module_version": "1.5.0",
      "model_name": "DescriptionStyleModel",
      "state": {
       "description_width": "initial"
      }
     },
     "2ea2a83409f2453e98751fd5a72bca4e": {
      "model_module": "@jupyter-widgets/controls",
      "model_module_version": "1.5.0",
      "model_name": "DescriptionStyleModel",
      "state": {
       "description_width": "initial"
      }
     },
     "2ee3c50df128429b8fe37c3edb395480": {
      "model_module": "@jupyter-widgets/controls",
      "model_module_version": "1.5.0",
      "model_name": "ButtonStyleModel",
      "state": {}
     },
     "2eeee18a4e924cffabbb8aa5bddbe2aa": {
      "model_module": "@jupyter-widgets/controls",
      "model_module_version": "1.5.0",
      "model_name": "HBoxModel",
      "state": {
       "children": [
        "IPY_MODEL_46b6417b6ccc40b996e92ae6a98382ca",
        "IPY_MODEL_6dddbdcff68740bb8f982c0c6ee64bf4"
       ],
       "layout": "IPY_MODEL_df969fc28974412fb4d8500ed0baccd6"
      }
     },
     "2f0948e583784d5aa71260af1d838e9a": {
      "model_module": "@jupyter-widgets/controls",
      "model_module_version": "1.5.0",
      "model_name": "LabelModel",
      "state": {
       "layout": "IPY_MODEL_8dac5faf6c8a41fbaedec3e3d089a962",
       "style": "IPY_MODEL_c6967c80449b4dca85c188e457f67a68",
       "value": "Base Parameters"
      }
     },
     "2f4578132eb740baa88a55b3ba9d1646": {
      "model_module": "@jupyter-widgets/base",
      "model_module_version": "1.2.0",
      "model_name": "LayoutModel",
      "state": {
       "display": "none",
       "grid_area": "filename",
       "width": "auto"
      }
     },
     "2f5b389765824ab18a25bb9cc169dc40": {
      "model_module": "@jupyter-widgets/controls",
      "model_module_version": "1.5.0",
      "model_name": "VBoxModel",
      "state": {
       "children": [
        "IPY_MODEL_11cd357759a14d81a5d251f15931903b",
        "IPY_MODEL_a8a7582778da4303a447635eed2d69e4",
        "IPY_MODEL_0ee364fe80b24fe988d05ea178509338",
        "IPY_MODEL_5b3d207ebf66415bbf1db35052e24890",
        "IPY_MODEL_d47418fe040541e0a594f4279c279e25"
       ],
       "layout": "IPY_MODEL_9aae5e105e944a58bbb2d90a459607c3"
      }
     },
     "2f757d0ca6d04c45917bd5a0d5951919": {
      "model_module": "@jupyter-widgets/controls",
      "model_module_version": "1.5.0",
      "model_name": "DescriptionStyleModel",
      "state": {
       "description_width": "initial"
      }
     },
     "2f865ef82b31446c952f4d4734e3838e": {
      "model_module": "@jupyter-widgets/controls",
      "model_module_version": "1.5.0",
      "model_name": "DescriptionStyleModel",
      "state": {
       "description_width": "initial"
      }
     },
     "2fd1041c08f04b5e924d1987846a7cd5": {
      "model_module": "@jupyter-widgets/controls",
      "model_module_version": "1.5.0",
      "model_name": "DescriptionStyleModel",
      "state": {
       "description_width": "initial"
      }
     },
     "300bcbfaf2b547f897f1decee4c05697": {
      "model_module": "@jupyter-widgets/controls",
      "model_module_version": "1.5.0",
      "model_name": "DescriptionStyleModel",
      "state": {
       "description_width": "initial"
      }
     },
     "30304c6766e4420e8f43a7223d6029ff": {
      "model_module": "@jupyter-widgets/base",
      "model_module_version": "1.2.0",
      "model_name": "LayoutModel",
      "state": {}
     },
     "3063cb3f889441208b254c37161b8c17": {
      "model_module": "@jupyter-widgets/controls",
      "model_module_version": "1.5.0",
      "model_name": "DescriptionStyleModel",
      "state": {
       "description_width": ""
      }
     },
     "30c9e6ec906b4ea08410433aa7214470": {
      "model_module": "@jupyter-widgets/controls",
      "model_module_version": "1.5.0",
      "model_name": "TextModel",
      "state": {
       "layout": "IPY_MODEL_82113c243fcc44278b3097dd66fc051d",
       "placeholder": "output filename",
       "style": "IPY_MODEL_c4f5fe746ca94ff3ad74b6728baaf69a",
       "value": "FlinFlon.geoh5"
      }
     },
     "30da0de13b9446ddb56e6b46a3af2c06": {
      "model_module": "@jupyter-widgets/controls",
      "model_module_version": "1.5.0",
      "model_name": "DescriptionStyleModel",
      "state": {
       "description_width": "initial"
      }
     },
     "30ead4e765584d8f9527883842d2d32b": {
      "model_module": "@jupyter-widgets/controls",
      "model_module_version": "1.5.0",
      "model_name": "DescriptionStyleModel",
      "state": {
       "description_width": "initial"
      }
     },
     "311eb935c4104cebb2348ca501c97827": {
      "model_module": "@jupyter-widgets/controls",
      "model_module_version": "1.5.0",
      "model_name": "VBoxModel",
      "state": {
       "children": [
        "IPY_MODEL_85c3b4d099ae484ab3900a5a9a8eb198",
        "IPY_MODEL_0c60f4065ac940429c46672aef3af5b4"
       ],
       "layout": "IPY_MODEL_c443a353ffb2417fb0727e86d455624c"
      }
     },
     "311f456fc2584589ae7ea36a72fc6c86": {
      "model_module": "@jupyter-widgets/controls",
      "model_module_version": "1.5.0",
      "model_name": "DropdownModel",
      "state": {
       "_options_labels": [
        "surface",
        "radial"
       ],
       "description": "Type",
       "index": 1,
       "layout": "IPY_MODEL_fc3453ee633b43d7b87c08cc19c87600",
       "style": "IPY_MODEL_0650ca9953d94279b287762c4db8c44e"
      }
     },
     "316a6bfdcacc4efba482ed8923d3e6fd": {
      "model_module": "@jupyter-widgets/controls",
      "model_module_version": "1.5.0",
      "model_name": "ButtonStyleModel",
      "state": {}
     },
     "317cff691782439e850d2c0d0252418c": {
      "model_module": "@jupyter-widgets/base",
      "model_module_version": "1.2.0",
      "model_name": "LayoutModel",
      "state": {}
     },
     "318ffdfbf2104a439fcc1b1e1cf47d53": {
      "model_module": "@jupyter-widgets/base",
      "model_module_version": "1.2.0",
      "model_name": "LayoutModel",
      "state": {
       "margin": "0 0 0 1em"
      }
     },
     "31910868a23b436fb19504cfa2d29809": {
      "model_module": "@jupyter-widgets/base",
      "model_module_version": "1.2.0",
      "model_name": "LayoutModel",
      "state": {}
     },
     "31d079a8a7cd4e729bf7d4f72c32eddd": {
      "model_module": "@jupyter-widgets/controls",
      "model_module_version": "1.5.0",
      "model_name": "DescriptionStyleModel",
      "state": {
       "description_width": ""
      }
     },
     "32aae5f62b6c4a4db8dfba4d2edbc49d": {
      "model_module": "@jupyter-widgets/controls",
      "model_module_version": "1.5.0",
      "model_name": "TextModel",
      "state": {
       "continuous_update": false,
       "description": "Name:",
       "layout": "IPY_MODEL_658a1ee09eeb47cd93e21001aa9522b8",
       "style": "IPY_MODEL_83cff25ba7d245459192ecad54caae6e",
       "value": "Octree_Mesh"
      }
     },
     "32bd04dc37d3470593a8ef3068b83e85": {
      "model_module": "@jupyter-widgets/base",
      "model_module_version": "1.2.0",
      "model_name": "LayoutModel",
      "state": {}
     },
     "32fbc049b30f4c4690dae6bf8ae27ae2": {
      "model_module": "@jupyter-widgets/base",
      "model_module_version": "1.2.0",
      "model_name": "LayoutModel",
      "state": {}
     },
     "3301848290f2430ebd1e7b1c92aa070b": {
      "model_module": "@jupyter-widgets/base",
      "model_module_version": "1.2.0",
      "model_name": "LayoutModel",
      "state": {}
     },
     "337a172115ef4356a2d27f37587f5132": {
      "model_module": "@jupyter-widgets/controls",
      "model_module_version": "1.5.0",
      "model_name": "DescriptionStyleModel",
      "state": {
       "description_width": ""
      }
     },
     "33c63e5132d546e0b408587369dd74db": {
      "model_module": "@jupyter-widgets/base",
      "model_module_version": "1.2.0",
      "model_name": "LayoutModel",
      "state": {}
     },
     "341767ad1a004144a0e10f6d340c3f63": {
      "model_module": "@jupyter-widgets/base",
      "model_module_version": "1.2.0",
      "model_name": "LayoutModel",
      "state": {
       "display": "none",
       "width": "auto"
      }
     },
     "34566ced21de45a8afd928c6d9c6eeda": {
      "model_module": "@jupyter-widgets/controls",
      "model_module_version": "1.5.0",
      "model_name": "DescriptionStyleModel",
      "state": {
       "description_width": ""
      }
     },
     "347ff21bcf5d44e082de70469642853e": {
      "model_module": "@jupyter-widgets/controls",
      "model_module_version": "1.5.0",
      "model_name": "DescriptionStyleModel",
      "state": {
       "description_width": ""
      }
     },
     "349f8fbfec57484ca908c9aa6d97f513": {
      "model_module": "@jupyter-widgets/controls",
      "model_module_version": "1.5.0",
      "model_name": "DescriptionStyleModel",
      "state": {
       "description_width": "initial"
      }
     },
     "34a1eb89902c47fbb275898424e9886c": {
      "model_module": "@jupyter-widgets/controls",
      "model_module_version": "1.5.0",
      "model_name": "HTMLModel",
      "state": {
       "layout": "IPY_MODEL_edca707aed474fc3acd642a1bccd5e86",
       "style": "IPY_MODEL_b1ad7aa559c24d1db34a89cfdf577e6a"
      }
     },
     "34c9fbd7462548ec8ef7d330da89951b": {
      "model_module": "@jupyter-widgets/controls",
      "model_module_version": "1.5.0",
      "model_name": "DropdownModel",
      "state": {
       "_options_labels": [
        "surface",
        "radial"
       ],
       "description": "Type",
       "index": 0,
       "layout": "IPY_MODEL_5dcc79a28a344a758788a4a25a47a9b7",
       "style": "IPY_MODEL_4621d4bb7843460fbb418fa6742cd662"
      }
     },
     "35081be9573d4e138e045a8ab193db56": {
      "model_module": "@jupyter-widgets/controls",
      "model_module_version": "1.5.0",
      "model_name": "DescriptionStyleModel",
      "state": {
       "description_width": "initial"
      }
     },
     "352ffd3edcd24f89be856c8ec140e548": {
      "model_module": "@jupyter-widgets/controls",
      "model_module_version": "1.5.0",
      "model_name": "DropdownModel",
      "state": {
       "_options_labels": [
        "surface",
        "radial"
       ],
       "description": "Type",
       "index": 0,
       "layout": "IPY_MODEL_9f0940617cfb49c2bb435719ce3bae51",
       "style": "IPY_MODEL_e4078be67adb48c491b27eb6265b5bef"
      }
     },
     "3554c703de914b58bc78bef28ae6cfbb": {
      "model_module": "@jupyter-widgets/controls",
      "model_module_version": "1.5.0",
      "model_name": "DescriptionStyleModel",
      "state": {
       "description_width": "initial"
      }
     },
     "3585d50a704f428caade7009e767ecfc": {
      "model_module": "@jupyter-widgets/controls",
      "model_module_version": "1.5.0",
      "model_name": "ToggleButtonModel",
      "state": {
       "layout": "IPY_MODEL_7e6383dbb3b14c3faa390929e2616faf",
       "style": "IPY_MODEL_1ac7b5c4d1ea4dd2bed37d4c44e8e7a9",
       "value": true
      }
     },
     "35fdb651a7d648809e286f39e3ed1a17": {
      "model_module": "@jupyter-widgets/controls",
      "model_module_version": "1.5.0",
      "model_name": "DescriptionStyleModel",
      "state": {
       "description_width": ""
      }
     },
     "36354018db6a4943b648711c7d9f7fe7": {
      "model_module": "@jupyter-widgets/controls",
      "model_module_version": "1.5.0",
      "model_name": "DropdownModel",
      "state": {
       "_options_labels": [
        "",
        "Ore/39_Ore_Callinan",
        "Ore/38_Ore_Dan_Owens",
        "Ore/40_Ore_FlinFlon",
        "Workspace/Inversion_VTEM_Model",
        "Workspace/DC_Survey (currents)",
        "Workspace/CDI_VTEM_model",
        "Workspace/Data_FEM_pseudo3D",
        "Workspace/geochem",
        "Workspace/DC_Survey",
        "Workspace/Inversion_DIGHEM_Model",
        "Workspace/Topography",
        "Workspace/Data_TEM_pseudo3D",
        "Workspace/Data_ZTEM",
        "Workspace/Mesh"
       ],
       "description": "Core hull extent:",
       "index": 7,
       "layout": "IPY_MODEL_83d3a6bbcb4f4c89ae7e76ede91e9df8",
       "style": "IPY_MODEL_ebd3eb25593a43aca1d7a00823c7eb3d"
      }
     },
     "367687a62b5f406fa723f94a1fb32b23": {
      "model_module": "@jupyter-widgets/controls",
      "model_module_version": "1.5.0",
      "model_name": "HBoxModel",
      "state": {
       "children": [
        "IPY_MODEL_a1dda582182045708cf442f1662de39a",
        "IPY_MODEL_ab46ba4b4e6f4b8e9553da4d805f8929",
        "IPY_MODEL_01e39ca2208543828effe32b9c087995"
       ],
       "layout": "IPY_MODEL_f4d52b6ed60d4f18b6a874dcda5dd70f"
      }
     },
     "36d78fc42048476d8e5439eee0ed039f": {
      "model_module": "@jupyter-widgets/base",
      "model_module_version": "1.2.0",
      "model_name": "LayoutModel",
      "state": {}
     },
     "37016389fc0b44efbaed195604c8a3c3": {
      "model_module": "@jupyter-widgets/controls",
      "model_module_version": "1.5.0",
      "model_name": "DescriptionStyleModel",
      "state": {
       "description_width": "initial"
      }
     },
     "3748ea038e0b4e80bdd344b94d0c56c9": {
      "model_module": "@jupyter-widgets/base",
      "model_module_version": "1.2.0",
      "model_name": "LayoutModel",
      "state": {
       "display": "none",
       "grid_area": "filename",
       "width": "auto"
      }
     },
     "37880e890c164851ac290c3f8b0bbb34": {
      "model_module": "@jupyter-widgets/controls",
      "model_module_version": "1.5.0",
      "model_name": "SelectModel",
      "state": {
       "_options_labels": [
        "..",
        "SimPEG_PFInversion",
        "Temp",
        "dask-worker-space",
        "FlinFlon.geoh5",
        "HelloWorld.ui.json",
        "Inversion_.json",
        "Inversion_1.json",
        "Inversion_2.json",
        "MtDore_TMI.geoh5",
        "Octree_Mesh.ui.json",
        "Untitled.ipynb",
        "VTEM_model.mod",
        "Workspace.Gravity_Magnetics_drape60m_Airborne_Gxx.tif",
        "Workspace.Gravity_Magnetics_drape60m_Airborne_Gxx_Colorbar.png",
        "Workspace.Gravity_Magnetics_drape60m_Airborne_Gxx_RGB.txt",
        "Workspace.Gravity_Magnetics_drape60m_Airborne_TMI.tif",
        "Workspace.Gravity_Magnetics_drape60m_Airborne_TMI_Colorbar.png",
        "Workspace.Gravity_Magnetics_drape60m_Airborne_TMI_RGB.txt",
        "demo.ipynb",
        "input.ui.json",
        "options_tree.json",
        "tempui.ui.geoh5",
        "tempui.ui.json",
        "test.ui.geoh5",
        "test.ui.json",
        "testPoints.geoh5"
       ],
       "index": 4,
       "layout": "IPY_MODEL_c031d7bc421c4bcd9a803c63222bad47",
       "rows": 8,
       "style": "IPY_MODEL_c199761f78964ad5bc19c97badf43188"
      }
     },
     "379f38ae5c2a4144b1906cbc663be2ce": {
      "model_module": "@jupyter-widgets/controls",
      "model_module_version": "1.5.0",
      "model_name": "DescriptionStyleModel",
      "state": {
       "description_width": ""
      }
     },
     "37a93ea6383d43e6bd61d2139f64b379": {
      "model_module": "@jupyter-widgets/controls",
      "model_module_version": "1.5.0",
      "model_name": "DescriptionStyleModel",
      "state": {
       "description_width": "initial"
      }
     },
     "37c5b4cd2c0e433d9753568ff23f091c": {
      "model_module": "@jupyter-widgets/controls",
      "model_module_version": "1.5.0",
      "model_name": "VBoxModel",
      "state": {
       "children": [
        "IPY_MODEL_ec92aec7733943daa764690bf0a6e7ea",
        "IPY_MODEL_e06a0b91fe4742a685b5f676f1ca6097",
        "IPY_MODEL_28f9d89a90324b9aaaab13e515ae3106",
        "IPY_MODEL_5db5cc19be314fcabfe134e5870baac3",
        "IPY_MODEL_c326e647d35543f2a0117db29a3e80cc"
       ],
       "layout": "IPY_MODEL_64c302bdcdee4870bdff2305420f6c47"
      }
     },
     "382cb817d9774dd0b8b19e56e371638f": {
      "model_module": "@jupyter-widgets/controls",
      "model_module_version": "1.5.0",
      "model_name": "DescriptionStyleModel",
      "state": {
       "description_width": ""
      }
     },
     "3867c7d5c4e84085a7c0a655863adee4": {
      "model_module": "@jupyter-widgets/controls",
      "model_module_version": "1.5.0",
      "model_name": "DescriptionStyleModel",
      "state": {
       "description_width": "initial"
      }
     },
     "38a1965fe7044310b0296bab2d4a479d": {
      "model_module": "@jupyter-widgets/controls",
      "model_module_version": "1.5.0",
      "model_name": "FloatTextModel",
      "state": {
       "description": "Northing",
       "layout": "IPY_MODEL_fe60947853f54bdaa063d9170d712053",
       "step": null,
       "style": "IPY_MODEL_20b3e8307bb44d8dbb1149d002af61e0",
       "value": 25
      }
     },
     "38ae268308c248bb86b66fd9ead29fb8": {
      "model_module": "@jupyter-widgets/controls",
      "model_module_version": "1.5.0",
      "model_name": "ButtonStyleModel",
      "state": {}
     },
     "38df596d7d854005a21dedb585957dbd": {
      "model_module": "@jupyter-widgets/base",
      "model_module_version": "1.2.0",
      "model_name": "LayoutModel",
      "state": {
       "display": "none",
       "min_width": "6em",
       "width": "6em"
      }
     },
     "391e84767af6452e8f1e95a4a170ca39": {
      "model_module": "@jupyter-widgets/base",
      "model_module_version": "1.2.0",
      "model_name": "LayoutModel",
      "state": {}
     },
     "39243602d70d4b40ad2df713f29a5f34": {
      "model_module": "@jupyter-widgets/base",
      "model_module_version": "1.2.0",
      "model_name": "LayoutModel",
      "state": {}
     },
     "399180cf09784d5baa5ebf73bcbd3ce3": {
      "model_module": "@jupyter-widgets/controls",
      "model_module_version": "1.5.0",
      "model_name": "VBoxModel",
      "state": {
       "children": [
        "IPY_MODEL_72a9424202ba4863b418fd4aa67a9c82",
        "IPY_MODEL_ea0f5004283141138d89f23c713608a5"
       ],
       "layout": "IPY_MODEL_bfdd108175064ad6bedb9f67f03f53ed"
      }
     },
     "39be6ad869204640b4ef8bcef8689a54": {
      "model_module": "@jupyter-widgets/base",
      "model_module_version": "1.2.0",
      "model_name": "LayoutModel",
      "state": {
       "width": "auto"
      }
     },
     "39d71b705b9246888c9102fae955bb9a": {
      "model_module": "@jupyter-widgets/controls",
      "model_module_version": "1.5.0",
      "model_name": "DescriptionStyleModel",
      "state": {
       "description_width": "initial"
      }
     },
     "3a0af4f84b214482bf11d059b7b62842": {
      "model_module": "@jupyter-widgets/controls",
      "model_module_version": "1.5.0",
      "model_name": "DescriptionStyleModel",
      "state": {
       "description_width": "initial"
      }
     },
     "3a1426ba668b48e9bc3a9972677c98df": {
      "model_module": "@jupyter-widgets/base",
      "model_module_version": "1.2.0",
      "model_name": "LayoutModel",
      "state": {
       "grid_area": "pathlist",
       "width": "auto"
      }
     },
     "3a445211dca84840a7404e570c33fcc7": {
      "model_module": "@jupyter-widgets/base",
      "model_module_version": "1.2.0",
      "model_name": "LayoutModel",
      "state": {
       "width": "auto"
      }
     },
     "3a57312ef5804cda9774b6f6e9b13d73": {
      "model_module": "@jupyter-widgets/controls",
      "model_module_version": "1.5.0",
      "model_name": "DescriptionStyleModel",
      "state": {
       "description_width": ""
      }
     },
     "3a813728e0c74646bfeac24be1c85b87": {
      "model_module": "@jupyter-widgets/controls",
      "model_module_version": "1.5.0",
      "model_name": "DescriptionStyleModel",
      "state": {
       "description_width": "initial"
      }
     },
     "3a8e91f1cb364d5a8fc3a928dafeaf88": {
      "model_module": "@jupyter-widgets/controls",
      "model_module_version": "1.5.0",
      "model_name": "SelectModel",
      "state": {
       "_options_labels": [
        "..",
        "dask-worker-space",
        "images"
       ],
       "index": null,
       "layout": "IPY_MODEL_033a5f45ffb740adb4489ef52389c878",
       "rows": 8,
       "style": "IPY_MODEL_fc21fd705f2b4075aaffd4a81023dc69"
      }
     },
     "3aaff80396c8481aabdf58581a4a4504": {
      "model_module": "@jupyter-widgets/base",
      "model_module_version": "1.2.0",
      "model_name": "LayoutModel",
      "state": {}
     },
     "3ac8ae353cea46bda1988c7224317ef4": {
      "model_module": "@jupyter-widgets/base",
      "model_module_version": "1.2.0",
      "model_name": "LayoutModel",
      "state": {}
     },
     "3af33c3faa65461596aaddbcb572a4d7": {
      "model_module": "@jupyter-widgets/base",
      "model_module_version": "1.2.0",
      "model_name": "LayoutModel",
      "state": {}
     },
     "3b44286405a2497a8c9904bac8b4f70e": {
      "model_module": "@jupyter-widgets/base",
      "model_module_version": "1.2.0",
      "model_name": "LayoutModel",
      "state": {
       "display": "none",
       "grid_area": "filename",
       "width": "auto"
      }
     },
     "3b5ecd0fb51a4788a7a14b1a6bdd1439": {
      "model_module": "@jupyter-widgets/controls",
      "model_module_version": "1.5.0",
      "model_name": "DescriptionStyleModel",
      "state": {
       "description_width": ""
      }
     },
     "3b6a47f3314d422ab6b11ee6b9c8e029": {
      "model_module": "@jupyter-widgets/base",
      "model_module_version": "1.2.0",
      "model_name": "LayoutModel",
      "state": {
       "border": "solid"
      }
     },
     "3b6b77edb85e4143878618b44a8b8d56": {
      "model_module": "@jupyter-widgets/controls",
      "model_module_version": "1.5.0",
      "model_name": "TextModel",
      "state": {
       "continuous_update": false,
       "description": "Name:",
       "layout": "IPY_MODEL_d48d65a947dd472c991c3ef294d8f62a",
       "style": "IPY_MODEL_20b4f094b10347c39baff7c8f3f0a4e5",
       "value": "Octree_Mesh"
      }
     },
     "3b6b805a7d504370abbd99379e8ff446": {
      "model_module": "@jupyter-widgets/controls",
      "model_module_version": "1.5.0",
      "model_name": "GridBoxModel",
      "state": {
       "children": [
        "IPY_MODEL_668ddebebc40496b84fb82cc43890994",
        "IPY_MODEL_01e8eeecf2234b5e8daf743138609ea7",
        "IPY_MODEL_6507ae9a22af41c7a7d574c00d366636"
       ],
       "layout": "IPY_MODEL_e0989385276a47839b230ffe66b84524"
      }
     },
     "3bea49681b1843518f9a692713d236ac": {
      "model_module": "@jupyter-widgets/controls",
      "model_module_version": "1.5.0",
      "model_name": "DescriptionStyleModel",
      "state": {
       "description_width": "initial"
      }
     },
     "3bef5542ac5444448a3256ab20a9e87a": {
      "model_module": "@jupyter-widgets/controls",
      "model_module_version": "1.5.0",
      "model_name": "DescriptionStyleModel",
      "state": {
       "description_width": ""
      }
     },
     "3c303695eef54aa783e86125683b2893": {
      "model_module": "@jupyter-widgets/base",
      "model_module_version": "1.2.0",
      "model_name": "LayoutModel",
      "state": {}
     },
     "3c85a2362eb24b6c8719736bb29f1841": {
      "model_module": "@jupyter-widgets/controls",
      "model_module_version": "1.5.0",
      "model_name": "DescriptionStyleModel",
      "state": {
       "description_width": "initial"
      }
     },
     "3ca73c94cdf3403590cf7d9226644bf1": {
      "model_module": "@jupyter-widgets/controls",
      "model_module_version": "1.5.0",
      "model_name": "DropdownModel",
      "state": {
       "_options_labels": [
        "C:\\Users\\dominiquef\\Documents\\GIT\\mira\\geoapps\\assets",
        "C:\\Users\\dominiquef\\Documents\\GIT\\mira\\geoapps",
        "C:\\Users\\dominiquef\\Documents\\GIT\\mira",
        "C:\\Users\\dominiquef\\Documents\\GIT",
        "C:\\Users\\dominiquef\\Documents",
        "C:\\Users\\dominiquef",
        "C:\\Users",
        "C:\\",
        "D:\\",
        "Z:\\"
       ],
       "index": 0,
       "layout": "IPY_MODEL_97b0b87e8c8f4dd5a9abc042deab04d6",
       "style": "IPY_MODEL_9bf22dbb259641fd879b60738b3824a2"
      }
     },
     "3cafb807fdd046c5a11a0490180c6f88": {
      "model_module": "@jupyter-widgets/controls",
      "model_module_version": "1.5.0",
      "model_name": "DescriptionStyleModel",
      "state": {
       "description_width": "initial"
      }
     },
     "3ccdd33920ee4cd89f96296aaea2e956": {
      "model_module": "@jupyter-widgets/controls",
      "model_module_version": "1.5.0",
      "model_name": "LabelModel",
      "state": {
       "layout": "IPY_MODEL_df4cd88c942f4e87b4c6fa60e22a0d27",
       "style": "IPY_MODEL_11acff54e55f4c8d893e0c3431fc166f",
       "value": "Padding distance"
      }
     },
     "3cea8338bbc44385b28128b3ff9d33ca": {
      "model_module": "@jupyter-widgets/controls",
      "model_module_version": "1.5.0",
      "model_name": "DropdownModel",
      "state": {
       "_options_labels": [
        "",
        "Data_TEM_pseudo3DEPSG_4326",
        "Iso_Iteration_7_model_2_50e-03",
        "Iso_Iteration_7_model_1_00e-02",
        "Iso_Iteration_7_model_1_50e-02",
        "Iso_Iteration_7_model_2_00e-02",
        "Iso_Iteration_7_model_2_00e-02",
        "Iso_Iteration_7_model_5_00e-03",
        "Iso_Iteration_7_model_2_50e-03",
        "Iso_Iteration_7_model_1_50e-02",
        "Iso_Iteration_7_model_1_00e-02",
        "Iso_Iteration_7_model_5_00e-03",
        "fault_splay1",
        "fault_Cliff_Lake",
        "fault_Other_FlinFlon",
        "fault_Club_Lake_splay",
        "fault_Catherine_splay2",
        "fault_Birch_View",
        "fault_Dion_Lake",
        "fault_FlinFlon_splay",
        "fault_West_Mandy_Road",
        "fault_Channing",
        "fault_Ross_Lake",
        "fault_Louis_Hidden",
        "fault_Lake_View_thrust",
        "contact_Schist_Lake",
        "fault_Burley_Lake",
        "fault_Dion_Lake_splay",
        "fault_Green_Lake",
        "fault_FlinFlon",
        "fault_Catherine_splay1",
        "fault_East_Mandy_Road",
        "fault_Other_FlinFlon_South",
        "fault_Catherine_splay4",
        "contact_Stitt_Island",
        "fault_Club_Lake",
        "fault_Tailing_Pond",
        "35_Hidden_Reservoir_Hr5",
        "29_Hidden_Reservoir_Hr1a",
        "60_BlueLagoon_Fb2",
        "20_FlinFlon_Undivided_Int_Dykes_D2f",
        "04_Boundary_Intrusive_S4h",
        "53_Millrock_Rhyolite_Fm4b",
        "19_FlinFlon_Undivided_Int_Dykes_D2b",
        "18_FlinFlon_Undivided_Int_Dykes_777_D2b",
        "06_Phantom_Lake_Intrusive_S3a",
        "21_FlinFlon_Undivided_Int_Dykes_D3a",
        "43_Millrock_CHLSH_South",
        "56_Millrock_Basalt_Fm1ba",
        "17_FlinFlon_Undivided_Int_Dykes_D2",
        "32_Hidden_Reservoir_Hr1b_SW",
        "11_Missi_M3_NE",
        "13_Missi_M1",
        "07_Annabel_Granitoid_S1",
        "45_Millrock_Gabbro_South",
        "01_Late_Intrusive_S5b",
        "31_Hidden_Reservoir_Hr1c_SW",
        "52_Millrock_Rhyolite_Fm4_West_check",
        "55_Millrock_Basalt_Fm1bf",
        "34_Hidden_Reservoir_Hr2b",
        "03_Boundary_Intrusive_S4b",
        "42_Millrock_CHLSH_North",
        "26_Louis_L3",
        "23_FlinFlon_Undivided_Int_Felsic_D4g",
        "30_Hidden_Reservoir_Hr1b",
        "59_BlueLagoon_Fb3",
        "49_Millrock_MVR_Fm5d",
        "44_Millrock_Gabbro_North",
        "27_Hidden_Carlisle_Hc4",
        "22_FlinFlon_Undivided_Int_Felsic_D4e",
        "02_Boundary_Intrusive_S4a",
        "61_BlueLagoon_Fb1_NW",
        "05_Boundary_Intrusive_S4g",
        "39_Ore_Callinan",
        "38_Ore_Dan_Owens",
        "40_Ore_FlinFlon",
        "Inversion_VTEM_Model",
        "CDI_VTEM_model",
        "Data_FEM_pseudo3D",
        "geochem",
        "Inversion_DIGHEM_Model",
        "Topography",
        "Data_TEM_pseudo3D",
        "Data_ZTEM",
        "Mesh"
       ],
       "description": "Core hull extent:",
       "index": 78,
       "layout": "IPY_MODEL_317cff691782439e850d2c0d0252418c",
       "style": "IPY_MODEL_215a4f8f74714dd4a9a801e5b7be4dcb"
      }
     },
     "3cebd538b61a450ab378c4e0c36357f8": {
      "model_module": "@jupyter-widgets/base",
      "model_module_version": "1.2.0",
      "model_name": "LayoutModel",
      "state": {}
     },
     "3cf010d08c2d49a39f3aaedb94f566e5": {
      "model_module": "@jupyter-widgets/controls",
      "model_module_version": "1.5.0",
      "model_name": "DescriptionStyleModel",
      "state": {
       "description_width": ""
      }
     },
     "3cf61e77faba4a608a90305cd2f42fc4": {
      "model_module": "@jupyter-widgets/controls",
      "model_module_version": "1.5.0",
      "model_name": "VBoxModel",
      "state": {
       "children": [
        "IPY_MODEL_3dca9f1395f244c4a15e828fbcd5f33e",
        "IPY_MODEL_9a2694f451dd414186979517ec5105df",
        "IPY_MODEL_f025c5ec45414e7a90677b1c1d0e658d"
       ],
       "layout": "IPY_MODEL_e88833c93c294d768ef3cd69291f179a"
      }
     },
     "3d10b33cb40d4a09bef61b505b37aae2": {
      "model_module": "@jupyter-widgets/controls",
      "model_module_version": "1.5.0",
      "model_name": "VBoxModel",
      "state": {
       "children": [
        "IPY_MODEL_6b79539c6589499885e243817c28b597",
        "IPY_MODEL_523482f4d5ae41a2bdb1af7bf43bdc4f"
       ],
       "layout": "IPY_MODEL_8f6351a02f0a4272b67c38303e83e7b3"
      }
     },
     "3d7b33cb870c46dcbcefa6e9b9d920cb": {
      "model_module": "@jupyter-widgets/base",
      "model_module_version": "1.2.0",
      "model_name": "LayoutModel",
      "state": {
       "grid_area": "dircontent",
       "width": "auto"
      }
     },
     "3dca9f1395f244c4a15e828fbcd5f33e": {
      "model_module": "@jupyter-widgets/controls",
      "model_module_version": "1.5.0",
      "model_name": "HTMLModel",
      "state": {
       "layout": "IPY_MODEL_eecd6ce9e5464ecbac447465e4ee803b",
       "style": "IPY_MODEL_3e1a81647043458e90e3d599ae833f6a"
      }
     },
     "3e1a81647043458e90e3d599ae833f6a": {
      "model_module": "@jupyter-widgets/controls",
      "model_module_version": "1.5.0",
      "model_name": "DescriptionStyleModel",
      "state": {
       "description_width": ""
      }
     },
     "3e33fd82c7844f22aabe772146618483": {
      "model_module": "@jupyter-widgets/base",
      "model_module_version": "1.2.0",
      "model_name": "LayoutModel",
      "state": {
       "grid_area": "dircontent",
       "width": "auto"
      }
     },
     "3e376d0a747549be925da36a6135c9e2": {
      "model_module": "@jupyter-widgets/base",
      "model_module_version": "1.2.0",
      "model_name": "LayoutModel",
      "state": {}
     },
     "3e6138e4b2a045b3ac3f477af124e384": {
      "model_module": "@jupyter-widgets/controls",
      "model_module_version": "1.5.0",
      "model_name": "VBoxModel",
      "state": {
       "children": [
        "IPY_MODEL_a73ac5ef063445f1a4a63dbbb2bc06f2",
        "IPY_MODEL_42a150be09f64de3a9a8176c67bbe12a",
        "IPY_MODEL_b857ace1f95548aea74229dbc987b687"
       ],
       "layout": "IPY_MODEL_090dcaeeaca9443896f206548a36f2d0"
      }
     },
     "3e94f1cddeff441f8255affbefabf3e8": {
      "model_module": "@jupyter-widgets/controls",
      "model_module_version": "1.5.0",
      "model_name": "ButtonStyleModel",
      "state": {}
     },
     "3ed4de597c514e7192972688cde769d9": {
      "model_module": "@jupyter-widgets/controls",
      "model_module_version": "1.5.0",
      "model_name": "TextModel",
      "state": {
       "continuous_update": false,
       "description": "Name:",
       "layout": "IPY_MODEL_9e99171f1b6748bb9493917711fc7fbb",
       "style": "IPY_MODEL_64a0b6128fcb431cb72eb0f0c036eb4e",
       "value": "Octree_Mesh"
      }
     },
     "3ee98ae972d14a20ad2404eb7d7e362d": {
      "model_module": "@jupyter-widgets/controls",
      "model_module_version": "1.5.0",
      "model_name": "DescriptionStyleModel",
      "state": {
       "description_width": "initial"
      }
     },
     "3fd275e7b4a048f89798c72c91d33de4": {
      "model_module": "@jupyter-widgets/base",
      "model_module_version": "1.2.0",
      "model_name": "LayoutModel",
      "state": {}
     },
     "40543b66b6ed47c699f59981c621ece6": {
      "model_module": "@jupyter-widgets/base",
      "model_module_version": "1.2.0",
      "model_name": "LayoutModel",
      "state": {}
     },
     "407a9dbd72474d6383290208335d500b": {
      "model_module": "@jupyter-widgets/base",
      "model_module_version": "1.2.0",
      "model_name": "LayoutModel",
      "state": {}
     },
     "4100015e2b6046e9a3f6acd3fdf43869": {
      "model_module": "@jupyter-widgets/controls",
      "model_module_version": "1.5.0",
      "model_name": "ButtonStyleModel",
      "state": {}
     },
     "411fb9a85d29411ab5ae4d22d6048487": {
      "model_module": "@jupyter-widgets/controls",
      "model_module_version": "1.5.0",
      "model_name": "ButtonStyleModel",
      "state": {}
     },
     "4163fae918ce40a5b97d086b79c1f057": {
      "model_module": "@jupyter-widgets/controls",
      "model_module_version": "1.5.0",
      "model_name": "DescriptionStyleModel",
      "state": {
       "description_width": ""
      }
     },
     "41c2f72e140b47629711ade2b92a04e7": {
      "model_module": "@jupyter-widgets/controls",
      "model_module_version": "1.5.0",
      "model_name": "ButtonStyleModel",
      "state": {}
     },
     "41d4c00646ae4ba388666dc50c7633a0": {
      "model_module": "@jupyter-widgets/controls",
      "model_module_version": "1.5.0",
      "model_name": "DescriptionStyleModel",
      "state": {
       "description_width": ""
      }
     },
     "41eaa3a95bea4d1bbbbe9f1469469050": {
      "model_module": "@jupyter-widgets/controls",
      "model_module_version": "1.5.0",
      "model_name": "FloatTextModel",
      "state": {
       "description": "Minimum depth (m)",
       "layout": "IPY_MODEL_fd5bf5c2f00b4bf7bbb09df237d8f9d6",
       "step": null,
       "style": "IPY_MODEL_3c85a2362eb24b6c8719736bb29f1841",
       "value": 500
      }
     },
     "4261a8b8264942ef87e7a9a94b92372b": {
      "model_module": "@jupyter-widgets/controls",
      "model_module_version": "1.5.0",
      "model_name": "DescriptionStyleModel",
      "state": {
       "description_width": ""
      }
     },
     "4270b025b9de4bdb9ab75510649d1953": {
      "model_module": "@jupyter-widgets/controls",
      "model_module_version": "1.5.0",
      "model_name": "DescriptionStyleModel",
      "state": {
       "description_width": ""
      }
     },
     "42973911d52f4abc962d273913b72e9f": {
      "model_module": "@jupyter-widgets/controls",
      "model_module_version": "1.5.0",
      "model_name": "FloatTextModel",
      "state": {
       "description": "Minimum depth (m)",
       "layout": "IPY_MODEL_e9f75e4d9b204c13aeaa2cc2caf12716",
       "step": null,
       "style": "IPY_MODEL_02d2e309e3004b56810c13708634428e",
       "value": 500
      }
     },
     "42a150be09f64de3a9a8176c67bbe12a": {
      "model_module": "@jupyter-widgets/controls",
      "model_module_version": "1.5.0",
      "model_name": "GridBoxModel",
      "state": {
       "children": [
        "IPY_MODEL_dc8d69a7d9294c18a74dc8a8ee190c52",
        "IPY_MODEL_dffbfa3bb0f14286ae53cec16f0c79c4",
        "IPY_MODEL_3a8e91f1cb364d5a8fc3a928dafeaf88"
       ],
       "layout": "IPY_MODEL_90aa816e58574866808e97cf807a6dae"
      }
     },
     "42ef745871bf404eaf3c415ddefe001c": {
      "model_module": "@jupyter-widgets/base",
      "model_module_version": "1.2.0",
      "model_name": "LayoutModel",
      "state": {}
     },
     "42feb1bfa8784e37b7369743c62722e2": {
      "model_module": "@jupyter-widgets/controls",
      "model_module_version": "1.5.0",
      "model_name": "VBoxModel",
      "state": {
       "children": [
        "IPY_MODEL_c6199a7f3acd4fe48aa237789ceac5e1",
        "IPY_MODEL_54cc8b03439e49ca901e225ab097eb04",
        "IPY_MODEL_6fae75f5103640b299471cc54cf187f2"
       ],
       "layout": "IPY_MODEL_02f7e5c7b76d4bbfa3f91503fa1c085f"
      }
     },
     "437ac02863b5405b8e73f26d60f9830b": {
      "model_module": "@jupyter-widgets/base",
      "model_module_version": "1.2.0",
      "model_name": "LayoutModel",
      "state": {
       "overflow": "auto"
      }
     },
     "43846e96f70d4e6e8da088c9ec4208e8": {
      "model_module": "@jupyter-widgets/controls",
      "model_module_version": "1.5.0",
      "model_name": "VBoxModel",
      "state": {
       "children": [
        "IPY_MODEL_8085364085974640aed9d8319edfa0eb",
        "IPY_MODEL_25a100910f5f4541abac63a936cf0cc9",
        "IPY_MODEL_f4f7fe39d032476fb7c804de14e4759e",
        "IPY_MODEL_a3f702c6ce7b482a964847a6fa0bab42",
        "IPY_MODEL_1bc934110ef94b27950ce2c741682cdb"
       ],
       "layout": "IPY_MODEL_2657ae59173642c08d971fb775f3668a"
      }
     },
     "43d2f3c666aa4a89b872247fe2caf368": {
      "model_module": "@jupyter-widgets/controls",
      "model_module_version": "1.5.0",
      "model_name": "DescriptionStyleModel",
      "state": {
       "description_width": "initial"
      }
     },
     "441bc206724d4b00a8bd001dfb1f803a": {
      "model_module": "@jupyter-widgets/controls",
      "model_module_version": "1.5.0",
      "model_name": "DescriptionStyleModel",
      "state": {
       "description_width": "initial"
      }
     },
     "44412b73c434433cacb7bf3467b630eb": {
      "model_module": "@jupyter-widgets/controls",
      "model_module_version": "1.5.0",
      "model_name": "FloatTextModel",
      "state": {
       "description": "Vertical",
       "layout": "IPY_MODEL_70b4687ee72a40cf860e776c3280b376",
       "step": null,
       "style": "IPY_MODEL_01fd44b88c254f24822a531686718932",
       "value": 25
      }
     },
     "446df068988440dcb499c28ede55a103": {
      "model_module": "@jupyter-widgets/controls",
      "model_module_version": "1.5.0",
      "model_name": "ButtonModel",
      "state": {
       "description": "Change",
       "layout": "IPY_MODEL_7d6d260ac0a34dc8a2ab1ea78a7d2707",
       "style": "IPY_MODEL_05f5b19601ad4bf38882d1dcbe0b5ce4"
      }
     },
     "44a0523e470e4266a0ce2519b9327828": {
      "model_module": "@jupyter-widgets/controls",
      "model_module_version": "1.5.0",
      "model_name": "DescriptionStyleModel",
      "state": {
       "description_width": "initial"
      }
     },
     "44bc6ea9b7024fa3bb575c9baf097fc9": {
      "model_module": "@jupyter-widgets/base",
      "model_module_version": "1.2.0",
      "model_name": "LayoutModel",
      "state": {
       "display": "none"
      }
     },
     "44cdbee4f76c4b54ad1fa22b6b1a8554": {
      "model_module": "@jupyter-widgets/controls",
      "model_module_version": "1.5.0",
      "model_name": "ButtonStyleModel",
      "state": {}
     },
     "44e571436a3b4a5bb25b3a7bbdb71a48": {
      "model_module": "@jupyter-widgets/base",
      "model_module_version": "1.2.0",
      "model_name": "LayoutModel",
      "state": {}
     },
     "4513d4a241f141a98e3357654070bbd5": {
      "model_module": "@jupyter-widgets/controls",
      "model_module_version": "1.5.0",
      "model_name": "DescriptionStyleModel",
      "state": {
       "description_width": "initial"
      }
     },
     "4561ffbcf63942d29a94fab81d73fa6f": {
      "model_module": "@jupyter-widgets/controls",
      "model_module_version": "1.5.0",
      "model_name": "DescriptionStyleModel",
      "state": {
       "description_width": "initial"
      }
     },
     "45a54c647d694d7384625b55f648b915": {
      "model_module": "@jupyter-widgets/controls",
      "model_module_version": "1.5.0",
      "model_name": "ButtonModel",
      "state": {
       "button_style": "danger",
       "description": "Create",
       "icon": "check",
       "layout": "IPY_MODEL_f157aac339794f5e9b186634c2f7585a",
       "style": "IPY_MODEL_0395fcbe99bd4950bb6b96a638821b9c",
       "tooltip": "Run computation"
      }
     },
     "45c3bb02ecc84ebcb33733594ff9ff72": {
      "model_module": "@jupyter-widgets/controls",
      "model_module_version": "1.5.0",
      "model_name": "HTMLModel",
      "state": {
       "layout": "IPY_MODEL_4b29894ae76f4509bb45d86782d0d58f",
       "style": "IPY_MODEL_bf512241b6294874851f763e053cb14f"
      }
     },
     "45f27960c2c34f44807231872c43b472": {
      "model_module": "@jupyter-widgets/controls",
      "model_module_version": "1.5.0",
      "model_name": "DescriptionStyleModel",
      "state": {
       "description_width": "initial"
      }
     },
     "46157258e8ec4e06ac3de423f92604bb": {
      "model_module": "@jupyter-widgets/controls",
      "model_module_version": "1.5.0",
      "model_name": "DescriptionStyleModel",
      "state": {
       "description_width": "initial"
      }
     },
     "4621d4bb7843460fbb418fa6742cd662": {
      "model_module": "@jupyter-widgets/controls",
      "model_module_version": "1.5.0",
      "model_name": "DescriptionStyleModel",
      "state": {
       "description_width": "initial"
      }
     },
     "4650095da0d84132b051af3710d31866": {
      "model_module": "@jupyter-widgets/base",
      "model_module_version": "1.2.0",
      "model_name": "LayoutModel",
      "state": {
       "overflow": "auto"
      }
     },
     "46b2bd44e9724a9a9545cb2838a9ec52": {
      "model_module": "@jupyter-widgets/controls",
      "model_module_version": "1.5.0",
      "model_name": "DescriptionStyleModel",
      "state": {
       "description_width": "initial"
      }
     },
     "46b369e5c570451f94eb63a88cddb4e3": {
      "model_module": "@jupyter-widgets/base",
      "model_module_version": "1.2.0",
      "model_name": "LayoutModel",
      "state": {}
     },
     "46b6417b6ccc40b996e92ae6a98382ca": {
      "model_module": "@jupyter-widgets/controls",
      "model_module_version": "1.5.0",
      "model_name": "VBoxModel",
      "state": {
       "children": [
        "IPY_MODEL_b235f138194c467a8d354b1756d9f4e8",
        "IPY_MODEL_ff41a9bc0aa4481088940ad258c53097",
        "IPY_MODEL_c79ab79911424cbbbd2b2c97fc568b53"
       ],
       "layout": "IPY_MODEL_65393c27a42d458aa8be577b9493582b"
      }
     },
     "46f53e976bbc464b9400ea01a22c3204": {
      "model_module": "@jupyter-widgets/controls",
      "model_module_version": "1.5.0",
      "model_name": "ButtonStyleModel",
      "state": {}
     },
     "46f7fd45bf5a402ba5e0195cc911dd45": {
      "model_module": "@jupyter-widgets/base",
      "model_module_version": "1.2.0",
      "model_name": "LayoutModel",
      "state": {
       "display": "none",
       "grid_gap": "0px 0px",
       "grid_template_areas": "\n                    'pathlist filename'\n                    'dircontent dircontent'\n                    ",
       "grid_template_columns": "60% 40%",
       "grid_template_rows": "auto auto",
       "width": "auto"
      }
     },
     "4751bb36a1c041ccb680e98d0cb9920a": {
      "model_module": "@jupyter-widgets/controls",
      "model_module_version": "1.5.0",
      "model_name": "DescriptionStyleModel",
      "state": {
       "description_width": "initial"
      }
     },
     "47a3498f15d14818b9cbae234cd28409": {
      "model_module": "@jupyter-widgets/controls",
      "model_module_version": "1.5.0",
      "model_name": "DescriptionStyleModel",
      "state": {
       "description_width": ""
      }
     },
     "47a966b8db7e40329f3624a1cd991a40": {
      "model_module": "@jupyter-widgets/controls",
      "model_module_version": "1.5.0",
      "model_name": "DescriptionStyleModel",
      "state": {
       "description_width": ""
      }
     },
     "47ad8c762a9b497982a15192f0b3a8c9": {
      "model_module": "@jupyter-widgets/base",
      "model_module_version": "1.2.0",
      "model_name": "LayoutModel",
      "state": {}
     },
     "47b4e58d99bf45f9a59d1ed0db03baca": {
      "model_module": "@jupyter-widgets/base",
      "model_module_version": "1.2.0",
      "model_name": "LayoutModel",
      "state": {
       "display": "none",
       "width": "auto"
      }
     },
     "47bba4a37b404fa9938ae4237c22eafd": {
      "model_module": "@jupyter-widgets/controls",
      "model_module_version": "1.5.0",
      "model_name": "DescriptionStyleModel",
      "state": {
       "description_width": "initial"
      }
     },
     "48866bbbe63d46748e33e861bd6c3db7": {
      "model_module": "@jupyter-widgets/controls",
      "model_module_version": "1.5.0",
      "model_name": "DescriptionStyleModel",
      "state": {
       "description_width": ""
      }
     },
     "48a6f925dbc64f4fafb7849ff21c8912": {
      "model_module": "@jupyter-widgets/base",
      "model_module_version": "1.2.0",
      "model_name": "LayoutModel",
      "state": {}
     },
     "48aecef9577648fd9ba183e9001e6ef3": {
      "model_module": "@jupyter-widgets/controls",
      "model_module_version": "1.5.0",
      "model_name": "VBoxModel",
      "state": {
       "children": [
        "IPY_MODEL_2f5b389765824ab18a25bb9cc169dc40",
        "IPY_MODEL_43846e96f70d4e6e8da088c9ec4208e8"
       ],
       "layout": "IPY_MODEL_b04ce454c17e4873b851428cb73803a9"
      }
     },
     "48bf0d2ebd9644448cbc6a494f29fde4": {
      "model_module": "@jupyter-widgets/base",
      "model_module_version": "1.2.0",
      "model_name": "LayoutModel",
      "state": {
       "grid_area": "dircontent",
       "width": "auto"
      }
     },
     "492bfd2e0b1545ca814416553032f447": {
      "model_module": "@jupyter-widgets/controls",
      "model_module_version": "1.5.0",
      "model_name": "VBoxModel",
      "state": {
       "children": [
        "IPY_MODEL_6088482faedd48d5b348e32ddb082596",
        "IPY_MODEL_a82f61b106e74b91a0e51946255028dd"
       ],
       "layout": "IPY_MODEL_4a16ceb461834c518e744d36aefcce77"
      }
     },
     "492d153f839c4c2b9ca8dc22b6f44b95": {
      "model_module": "@jupyter-widgets/base",
      "model_module_version": "1.2.0",
      "model_name": "LayoutModel",
      "state": {}
     },
     "4943d33b8c584e87bbd0f119f0cc9965": {
      "model_module": "@jupyter-widgets/controls",
      "model_module_version": "1.5.0",
      "model_name": "VBoxModel",
      "state": {
       "children": [
        "IPY_MODEL_7496132110fa4959bd761c1a19c9bb10",
        "IPY_MODEL_e8e41c9103084abaa734b1fb90ceb9dc",
        "IPY_MODEL_2de29a9236d54020a659ca1a61f0b546",
        "IPY_MODEL_709bf62ebbcb4a179b42e48a77470271",
        "IPY_MODEL_e71752c4bb9241358dd4a0f26fce2956"
       ],
       "layout": "IPY_MODEL_b9b7829fd25642aea312a1011a2289b1"
      }
     },
     "4960d2db50ef4f6fb4defcdabb245ec8": {
      "model_module": "@jupyter-widgets/base",
      "model_module_version": "1.2.0",
      "model_name": "LayoutModel",
      "state": {}
     },
     "49a67360e25e4b339b1e15b311fd4869": {
      "model_module": "@jupyter-widgets/controls",
      "model_module_version": "1.5.0",
      "model_name": "ButtonStyleModel",
      "state": {}
     },
     "49d5ad16ef764dcc9625b0e7597a9948": {
      "model_module": "@jupyter-widgets/controls",
      "model_module_version": "1.5.0",
      "model_name": "DescriptionStyleModel",
      "state": {
       "description_width": "initial"
      }
     },
     "4a119888dbab43dbb0b470c69238c77d": {
      "model_module": "@jupyter-widgets/controls",
      "model_module_version": "1.5.0",
      "model_name": "DescriptionStyleModel",
      "state": {
       "description_width": "initial"
      }
     },
     "4a16ceb461834c518e744d36aefcce77": {
      "model_module": "@jupyter-widgets/base",
      "model_module_version": "1.2.0",
      "model_name": "LayoutModel",
      "state": {}
     },
     "4a17a71cdb774cb8b678f8ae57f2e54c": {
      "model_module": "@jupyter-widgets/controls",
      "model_module_version": "1.5.0",
      "model_name": "DescriptionStyleModel",
      "state": {
       "description_width": ""
      }
     },
     "4a414d078e974e848255eebafeffb8f1": {
      "model_module": "@jupyter-widgets/base",
      "model_module_version": "1.2.0",
      "model_name": "LayoutModel",
      "state": {}
     },
     "4abdb914849544c2a89bf832b031e545": {
      "model_module": "@jupyter-widgets/controls",
      "model_module_version": "1.5.0",
      "model_name": "DescriptionStyleModel",
      "state": {
       "description_width": "initial"
      }
     },
     "4ac74c8ea7074195a7ebdddeec5e544a": {
      "model_module": "@jupyter-widgets/controls",
      "model_module_version": "1.5.0",
      "model_name": "DropdownModel",
      "state": {
       "_options_labels": [
        "surface",
        "radial"
       ],
       "description": "Type",
       "index": 1,
       "layout": "IPY_MODEL_7909176b50194b5688c4f66a2e55e563",
       "style": "IPY_MODEL_95d8fafc2628493eb7ed4bc16f017728"
      }
     },
     "4ad8b48764ff4d17ae6b8481a93dea22": {
      "model_module": "@jupyter-widgets/controls",
      "model_module_version": "1.5.0",
      "model_name": "DescriptionStyleModel",
      "state": {
       "description_width": "initial"
      }
     },
     "4ade7121aad7461cb87f4a78d4ee883a": {
      "model_module": "@jupyter-widgets/controls",
      "model_module_version": "1.5.0",
      "model_name": "DescriptionStyleModel",
      "state": {
       "description_width": "initial"
      }
     },
     "4b17719b8fc34e648fc4daf973bbc236": {
      "model_module": "@jupyter-widgets/controls",
      "model_module_version": "1.5.0",
      "model_name": "DescriptionStyleModel",
      "state": {
       "description_width": "initial"
      }
     },
     "4b29894ae76f4509bb45d86782d0d58f": {
      "model_module": "@jupyter-widgets/base",
      "model_module_version": "1.2.0",
      "model_name": "LayoutModel",
      "state": {
       "display": "none"
      }
     },
     "4b92ae7d8e2f4557a8a017b0e25c4051": {
      "model_module": "@jupyter-widgets/controls",
      "model_module_version": "1.5.0",
      "model_name": "DescriptionStyleModel",
      "state": {
       "description_width": ""
      }
     },
     "4b9501830ee34bc4988b5a94cfa009c0": {
      "model_module": "@jupyter-widgets/controls",
      "model_module_version": "1.5.0",
      "model_name": "DropdownModel",
      "state": {
       "_options_labels": [
        "",
        "Data_TEM_pseudo3DEPSG_4326",
        "Iso_Iteration_7_model_2_50e-03",
        "Iso_Iteration_7_model_1_00e-02",
        "Iso_Iteration_7_model_1_50e-02",
        "Iso_Iteration_7_model_2_00e-02",
        "Iso_Iteration_7_model_2_00e-02",
        "Iso_Iteration_7_model_5_00e-03",
        "Iso_Iteration_7_model_2_50e-03",
        "Iso_Iteration_7_model_1_50e-02",
        "Iso_Iteration_7_model_1_00e-02",
        "Iso_Iteration_7_model_5_00e-03",
        "fault_splay1",
        "fault_Cliff_Lake",
        "fault_Other_FlinFlon",
        "fault_Club_Lake_splay",
        "fault_Catherine_splay2",
        "fault_Birch_View",
        "fault_Dion_Lake",
        "fault_FlinFlon_splay",
        "fault_West_Mandy_Road",
        "fault_Channing",
        "fault_Ross_Lake",
        "fault_Louis_Hidden",
        "fault_Lake_View_thrust",
        "contact_Schist_Lake",
        "fault_Burley_Lake",
        "fault_Dion_Lake_splay",
        "fault_Green_Lake",
        "fault_FlinFlon",
        "fault_Catherine_splay1",
        "fault_East_Mandy_Road",
        "fault_Other_FlinFlon_South",
        "fault_Catherine_splay4",
        "contact_Stitt_Island",
        "fault_Club_Lake",
        "fault_Tailing_Pond",
        "35_Hidden_Reservoir_Hr5",
        "29_Hidden_Reservoir_Hr1a",
        "60_BlueLagoon_Fb2",
        "20_FlinFlon_Undivided_Int_Dykes_D2f",
        "04_Boundary_Intrusive_S4h",
        "53_Millrock_Rhyolite_Fm4b",
        "19_FlinFlon_Undivided_Int_Dykes_D2b",
        "18_FlinFlon_Undivided_Int_Dykes_777_D2b",
        "06_Phantom_Lake_Intrusive_S3a",
        "21_FlinFlon_Undivided_Int_Dykes_D3a",
        "43_Millrock_CHLSH_South",
        "56_Millrock_Basalt_Fm1ba",
        "17_FlinFlon_Undivided_Int_Dykes_D2",
        "32_Hidden_Reservoir_Hr1b_SW",
        "11_Missi_M3_NE",
        "13_Missi_M1",
        "07_Annabel_Granitoid_S1",
        "45_Millrock_Gabbro_South",
        "01_Late_Intrusive_S5b",
        "31_Hidden_Reservoir_Hr1c_SW",
        "52_Millrock_Rhyolite_Fm4_West_check",
        "55_Millrock_Basalt_Fm1bf",
        "34_Hidden_Reservoir_Hr2b",
        "03_Boundary_Intrusive_S4b",
        "42_Millrock_CHLSH_North",
        "26_Louis_L3",
        "23_FlinFlon_Undivided_Int_Felsic_D4g",
        "30_Hidden_Reservoir_Hr1b",
        "59_BlueLagoon_Fb3",
        "49_Millrock_MVR_Fm5d",
        "44_Millrock_Gabbro_North",
        "27_Hidden_Carlisle_Hc4",
        "22_FlinFlon_Undivided_Int_Felsic_D4e",
        "02_Boundary_Intrusive_S4a",
        "61_BlueLagoon_Fb1_NW",
        "05_Boundary_Intrusive_S4g",
        "39_Ore_Callinan",
        "38_Ore_Dan_Owens",
        "40_Ore_FlinFlon",
        "Inversion_VTEM_Model",
        "CDI_VTEM_model",
        "Data_FEM_pseudo3D",
        "geochem",
        "Inversion_DIGHEM_Model",
        "Topography",
        "Data_TEM_pseudo3D",
        "Data_ZTEM",
        "Mesh"
       ],
       "description": "Core hull extent:",
       "index": 78,
       "layout": "IPY_MODEL_5f1e576686a741f3803e8f7b7c6777f5",
       "style": "IPY_MODEL_c3f2a8fbdd014c9ab1e8b6af6225937f"
      }
     },
     "4be9bca21eb241ab8c40decfe2e44878": {
      "model_module": "@jupyter-widgets/controls",
      "model_module_version": "1.5.0",
      "model_name": "ButtonStyleModel",
      "state": {}
     },
     "4bedc6986d7447fc9fd30595289afdf5": {
      "model_module": "@jupyter-widgets/controls",
      "model_module_version": "1.5.0",
      "model_name": "DescriptionStyleModel",
      "state": {
       "description_width": "initial"
      }
     },
     "4c158401fc4a4cc88a99ae43ef094b71": {
      "model_module": "@jupyter-widgets/controls",
      "model_module_version": "1.5.0",
      "model_name": "DescriptionStyleModel",
      "state": {
       "description_width": "initial"
      }
     },
     "4c18aaae47054ebe8e28bdb3792d176a": {
      "model_module": "@jupyter-widgets/base",
      "model_module_version": "1.2.0",
      "model_name": "LayoutModel",
      "state": {}
     },
     "4c4ceb4e4b704947a74f053b92d55586": {
      "model_module": "@jupyter-widgets/controls",
      "model_module_version": "1.5.0",
      "model_name": "DescriptionStyleModel",
      "state": {
       "description_width": ""
      }
     },
     "4c50addcf299454f97b4c9f430b41644": {
      "model_module": "@jupyter-widgets/base",
      "model_module_version": "1.2.0",
      "model_name": "LayoutModel",
      "state": {
       "display": "none"
      }
     },
     "4c9f8349c3474b33ab75c5f5e66cafa2": {
      "model_module": "@jupyter-widgets/base",
      "model_module_version": "1.2.0",
      "model_name": "LayoutModel",
      "state": {}
     },
     "4cb54bccd87941f498f1219f16e1f612": {
      "model_module": "@jupyter-widgets/controls",
      "model_module_version": "1.5.0",
      "model_name": "DescriptionStyleModel",
      "state": {
       "description_width": "initial"
      }
     },
     "4ce174e1aed64520bfba503ed8072cbb": {
      "model_module": "@jupyter-widgets/controls",
      "model_module_version": "1.5.0",
      "model_name": "DescriptionStyleModel",
      "state": {
       "description_width": "initial"
      }
     },
     "4cff4a0d6f5a4bf5bc82477969fe2430": {
      "model_module": "@jupyter-widgets/controls",
      "model_module_version": "1.5.0",
      "model_name": "DescriptionStyleModel",
      "state": {
       "description_width": "initial"
      }
     },
     "4d1615ef3fc3425aac650b21347d3937": {
      "model_module": "@jupyter-widgets/controls",
      "model_module_version": "1.5.0",
      "model_name": "DescriptionStyleModel",
      "state": {
       "description_width": "initial"
      }
     },
     "4d1f7f210af24be58d4cbe7ffccd83b3": {
      "model_module": "@jupyter-widgets/base",
      "model_module_version": "1.2.0",
      "model_name": "LayoutModel",
      "state": {}
     },
     "4d911b260e0843f38acab17ddcc4486e": {
      "model_module": "@jupyter-widgets/controls",
      "model_module_version": "1.5.0",
      "model_name": "ButtonStyleModel",
      "state": {}
     },
     "4da0b6b0bf474f41b875fb085cdf606d": {
      "model_module": "@jupyter-widgets/base",
      "model_module_version": "1.2.0",
      "model_name": "LayoutModel",
      "state": {}
     },
     "4da5db881ae6448caf019755d4299266": {
      "model_module": "@jupyter-widgets/controls",
      "model_module_version": "1.5.0",
      "model_name": "DescriptionStyleModel",
      "state": {
       "description_width": ""
      }
     },
     "4db139bfdb00437eb6b317d9b26e92d6": {
      "model_module": "@jupyter-widgets/controls",
      "model_module_version": "1.5.0",
      "model_name": "FloatTextModel",
      "state": {
       "description": "Vertical (m)",
       "layout": "IPY_MODEL_24c57fdb810642a9aaceb00a763f1f4b",
       "step": null,
       "style": "IPY_MODEL_26a2e2deb6ec44f6ab00db801f41d92c",
       "value": 1000
      }
     },
     "4e25fd596b35486aae274d26900035de": {
      "model_module": "@jupyter-widgets/controls",
      "model_module_version": "1.5.0",
      "model_name": "ButtonStyleModel",
      "state": {}
     },
     "4e44943408bf4d61a6579c1eb783ed93": {
      "model_module": "@jupyter-widgets/controls",
      "model_module_version": "1.5.0",
      "model_name": "VBoxModel",
      "state": {
       "children": [
        "IPY_MODEL_c4251a2ce88b4b18a39bc5b3881b7819",
        "IPY_MODEL_072fa5a5f79f4f919cf05b68c0b3a02f",
        "IPY_MODEL_a7c45e6450674e91b2920ebbecc422fe"
       ],
       "layout": "IPY_MODEL_02f7e5c7b76d4bbfa3f91503fa1c085f"
      }
     },
     "4e46942b2e654ec59039c6e8aac9e13c": {
      "model_module": "@jupyter-widgets/controls",
      "model_module_version": "1.5.0",
      "model_name": "ButtonModel",
      "state": {
       "description": "Cancel",
       "layout": "IPY_MODEL_619e7a041e6043dc9d244b08e144f879",
       "style": "IPY_MODEL_63cdfe81777b4c05b95fe47774810977"
      }
     },
     "4e4ee93465194b888dd49afce266de7e": {
      "model_module": "@jupyter-widgets/controls",
      "model_module_version": "1.5.0",
      "model_name": "SelectModel",
      "state": {
       "_options_labels": [
        "..",
        "dask-worker-space",
        "images"
       ],
       "index": null,
       "layout": "IPY_MODEL_e5f7a6c71b2743c693adda276caf82b1",
       "rows": 8,
       "style": "IPY_MODEL_3bef5542ac5444448a3256ab20a9e87a"
      }
     },
     "4eae5e868aa74ab08fe587065a311b79": {
      "model_module": "@jupyter-widgets/base",
      "model_module_version": "1.2.0",
      "model_name": "LayoutModel",
      "state": {}
     },
     "4ec3af01506c44b29429ed528c66896c": {
      "model_module": "@jupyter-widgets/controls",
      "model_module_version": "1.5.0",
      "model_name": "LabelModel",
      "state": {
       "layout": "IPY_MODEL_bb41b41f3f094a5181f9433ba1efa393",
       "style": "IPY_MODEL_85bf64d456e74dba903bcc1585fe9be2",
       "value": "Monitoring folder"
      }
     },
     "4ed62112aa0540468c5ec5b11e4a2685": {
      "model_module": "@jupyter-widgets/controls",
      "model_module_version": "1.5.0",
      "model_name": "DescriptionStyleModel",
      "state": {
       "description_width": "initial"
      }
     },
     "4eec9e6528bd4c8483e0b39e918f07a0": {
      "model_module": "@jupyter-widgets/controls",
      "model_module_version": "1.5.0",
      "model_name": "LabelModel",
      "state": {
       "layout": "IPY_MODEL_83aa2066c4e74f6eb02cfe82f194894b",
       "style": "IPY_MODEL_5dd2ea9f1f9c46de97fbbfb987c85e99",
       "value": "Workspace"
      }
     },
     "4f28b85512674e25b37356f712823fe1": {
      "model_module": "@jupyter-widgets/base",
      "model_module_version": "1.2.0",
      "model_name": "LayoutModel",
      "state": {
       "display": "none",
       "min_width": "6em",
       "width": "6em"
      }
     },
     "4f7a5b32fd924232b97bfff60c40e851": {
      "model_module": "@jupyter-widgets/controls",
      "model_module_version": "1.5.0",
      "model_name": "DescriptionStyleModel",
      "state": {
       "description_width": ""
      }
     },
     "500a76e135c24316b2538e702e937814": {
      "model_module": "@jupyter-widgets/base",
      "model_module_version": "1.2.0",
      "model_name": "LayoutModel",
      "state": {}
     },
     "5086260fc56948fea484330a079e87b1": {
      "model_module": "@jupyter-widgets/base",
      "model_module_version": "1.2.0",
      "model_name": "LayoutModel",
      "state": {
       "width": "auto"
      }
     },
     "5086b80969d6492f946374b3dd93d0df": {
      "model_module": "@jupyter-widgets/base",
      "model_module_version": "1.2.0",
      "model_name": "LayoutModel",
      "state": {}
     },
     "50d4030c70a44861820cb4fa00453729": {
      "model_module": "@jupyter-widgets/controls",
      "model_module_version": "1.5.0",
      "model_name": "DescriptionStyleModel",
      "state": {
       "description_width": "initial"
      }
     },
     "50e8698496144a2eb241fb060d3b326c": {
      "model_module": "@jupyter-widgets/base",
      "model_module_version": "1.2.0",
      "model_name": "LayoutModel",
      "state": {
       "border": "solid"
      }
     },
     "5108f75cefc144f7b8140064557623b3": {
      "model_module": "@jupyter-widgets/controls",
      "model_module_version": "1.5.0",
      "model_name": "ButtonStyleModel",
      "state": {}
     },
     "51aea8df67bd4dc699eb5dc0264aaf27": {
      "model_module": "@jupyter-widgets/base",
      "model_module_version": "1.2.0",
      "model_name": "LayoutModel",
      "state": {}
     },
     "51d92854252f4a728f5940f23c7ccf8a": {
      "model_module": "@jupyter-widgets/base",
      "model_module_version": "1.2.0",
      "model_name": "LayoutModel",
      "state": {}
     },
     "51e42a5eae414c9a8df37666468a3893": {
      "model_module": "@jupyter-widgets/controls",
      "model_module_version": "1.5.0",
      "model_name": "LabelModel",
      "state": {
       "layout": "IPY_MODEL_8312255502e042f0a204f271bad93f8d",
       "style": "IPY_MODEL_c76c01f301a64ae4ba996e2a616cc246",
       "value": "Padding distance"
      }
     },
     "52081046b4dd455aa25c5e75c194b31e": {
      "model_module": "@jupyter-widgets/controls",
      "model_module_version": "1.5.0",
      "model_name": "ButtonStyleModel",
      "state": {}
     },
     "5209b0e204a24e9383c73a5e39e8c914": {
      "model_module": "@jupyter-widgets/controls",
      "model_module_version": "1.5.0",
      "model_name": "DescriptionStyleModel",
      "state": {
       "description_width": ""
      }
     },
     "521b668bec504afc81464fb76a746d32": {
      "model_module": "@jupyter-widgets/controls",
      "model_module_version": "1.5.0",
      "model_name": "DescriptionStyleModel",
      "state": {
       "description_width": "initial"
      }
     },
     "522da882ba0c413e88545a7ab620fa0f": {
      "model_module": "@jupyter-widgets/controls",
      "model_module_version": "1.5.0",
      "model_name": "ButtonModel",
      "state": {
       "description": "Select",
       "layout": "IPY_MODEL_f3ab9ef14beb4b2d96dba81b05e5f450",
       "style": "IPY_MODEL_f63e7ff83311446f864de603d2bb3e52"
      }
     },
     "523482f4d5ae41a2bdb1af7bf43bdc4f": {
      "model_module": "@jupyter-widgets/controls",
      "model_module_version": "1.5.0",
      "model_name": "VBoxModel",
      "state": {
       "children": [
        "IPY_MODEL_d74300e3f30543358b0e86d779d17183"
       ],
       "layout": "IPY_MODEL_0d7f38f015c2419da02d385b6a66239d"
      }
     },
     "524712cabe1845a2a1189b26de4c5307": {
      "model_module": "@jupyter-widgets/controls",
      "model_module_version": "1.5.0",
      "model_name": "DescriptionStyleModel",
      "state": {
       "description_width": ""
      }
     },
     "524c98c10f5f49768ca249c2ccbb36aa": {
      "model_module": "@jupyter-widgets/base",
      "model_module_version": "1.2.0",
      "model_name": "LayoutModel",
      "state": {}
     },
     "52601808c8a847f18f9579cc2c7d057e": {
      "model_module": "@jupyter-widgets/controls",
      "model_module_version": "1.5.0",
      "model_name": "CheckboxModel",
      "state": {
       "description": "Geoscience ANALYST Pro - Live link",
       "disabled": false,
       "indent": false,
       "layout": "IPY_MODEL_2d76452d652a45db9457b034b6615d35",
       "style": "IPY_MODEL_eeb02e1aca304fa3a3b713e398dd132a",
       "value": false
      }
     },
     "52ad4d2c9d1f4f3e93dceed95790795f": {
      "model_module": "@jupyter-widgets/controls",
      "model_module_version": "1.5.0",
      "model_name": "ButtonStyleModel",
      "state": {}
     },
     "52baa052fa664d3c892b6f22599e8bf2": {
      "model_module": "@jupyter-widgets/controls",
      "model_module_version": "1.5.0",
      "model_name": "DescriptionStyleModel",
      "state": {
       "description_width": "initial"
      }
     },
     "52baf4613f404919ab995abcb269f2c4": {
      "model_module": "@jupyter-widgets/controls",
      "model_module_version": "1.5.0",
      "model_name": "FloatTextModel",
      "state": {
       "description": "Easting",
       "layout": "IPY_MODEL_6c332cf4c22b457e810a782ad21485d8",
       "step": null,
       "style": "IPY_MODEL_349f8fbfec57484ca908c9aa6d97f513",
       "value": 25
      }
     },
     "52bf68845b1a48ecaa7fc845b0bc8e4a": {
      "model_module": "@jupyter-widgets/controls",
      "model_module_version": "1.5.0",
      "model_name": "DescriptionStyleModel",
      "state": {
       "description_width": ""
      }
     },
     "52ec835271c1433b8915e37ce19af9e5": {
      "model_module": "@jupyter-widgets/controls",
      "model_module_version": "1.5.0",
      "model_name": "ButtonModel",
      "state": {
       "description": "Cancel",
       "layout": "IPY_MODEL_97a01364967e44a3a6fdad4486618bbe",
       "style": "IPY_MODEL_adf7fb4915034195aee290c03414472b"
      }
     },
     "52f230c345044f7ba50229804b8f38b1": {
      "model_module": "@jupyter-widgets/controls",
      "model_module_version": "1.5.0",
      "model_name": "SelectModel",
      "state": {
       "_options_labels": [
        "📁 ..",
        "📁 SimPEG_PFInversion",
        "📁 Temp",
        "📁 dask-worker-space",
        "DC_INV.ipynb",
        "DC_INV.py",
        "FlinFlon.geoh5",
        "FlinFlon_dcip.geoh5",
        "HelloWorld.ui.json",
        "MtDore_TMI.geoh5",
        "VTEM_model.mod",
        "input.ui.json",
        "options_tree.json"
       ],
       "index": 6,
       "layout": "IPY_MODEL_48bf0d2ebd9644448cbc6a494f29fde4",
       "rows": 8,
       "style": "IPY_MODEL_6711e6aeb7a646c8a1a478058e145882"
      }
     },
     "52ffc355067142bdacba0484bb7c9131": {
      "model_module": "@jupyter-widgets/controls",
      "model_module_version": "1.5.0",
      "model_name": "DescriptionStyleModel",
      "state": {
       "description_width": ""
      }
     },
     "530a6a20407046069a29093670894d47": {
      "model_module": "@jupyter-widgets/controls",
      "model_module_version": "1.5.0",
      "model_name": "DescriptionStyleModel",
      "state": {
       "description_width": ""
      }
     },
     "530cad20798242af96b35902b23e760e": {
      "model_module": "@jupyter-widgets/base",
      "model_module_version": "1.2.0",
      "model_name": "LayoutModel",
      "state": {
       "display": "none",
       "grid_gap": "0px 0px",
       "grid_template_areas": "\n                    'pathlist filename'\n                    'dircontent dircontent'\n                    ",
       "grid_template_columns": "60% 40%",
       "grid_template_rows": "auto auto",
       "width": "auto"
      }
     },
     "534d23f7252b49b1bfbcc03476f653c5": {
      "model_module": "@jupyter-widgets/controls",
      "model_module_version": "1.5.0",
      "model_name": "DescriptionStyleModel",
      "state": {
       "description_width": "initial"
      }
     },
     "53856b1181ad429eb83857322ec98f3d": {
      "model_module": "@jupyter-widgets/controls",
      "model_module_version": "1.5.0",
      "model_name": "DropdownModel",
      "state": {
       "_options_labels": [
        "C:\\Users\\dominiquef\\Documents\\GIT\\mira\\geoapps\\assets",
        "C:\\Users\\dominiquef\\Documents\\GIT\\mira\\geoapps",
        "C:\\Users\\dominiquef\\Documents\\GIT\\mira",
        "C:\\Users\\dominiquef\\Documents\\GIT",
        "C:\\Users\\dominiquef\\Documents",
        "C:\\Users\\dominiquef",
        "C:\\Users",
        "C:\\",
        "D:\\",
        "\\\\EgnyteDrive\\mirageoscience\\",
        "G:\\"
       ],
       "index": 0,
       "layout": "IPY_MODEL_a343382703f74f96b4592170813b8ea7",
       "style": "IPY_MODEL_7fe0bddceb2848b7bb2d0e1070f01cc3"
      }
     },
     "53b1cf4c08c54896bec8e254bf34d376": {
      "model_module": "@jupyter-widgets/controls",
      "model_module_version": "1.5.0",
      "model_name": "VBoxModel",
      "state": {
       "children": [
        "IPY_MODEL_b697ca189d824557aeb2681776785799",
        "IPY_MODEL_36354018db6a4943b648711c7d9f7fe7",
        "IPY_MODEL_42973911d52f4abc962d273913b72e9f",
        "IPY_MODEL_1dc32b24461542d7a73c0105d82328f1",
        "IPY_MODEL_62f9e9f817094c059e0ed38ebf50db6a",
        "IPY_MODEL_b9dfdc39529c4d6d87dc48d08091eebd",
        "IPY_MODEL_44412b73c434433cacb7bf3467b630eb",
        "IPY_MODEL_3ccdd33920ee4cd89f96296aaea2e956",
        "IPY_MODEL_a1522ebd5e0e428fbd86ad9b834972f5",
        "IPY_MODEL_d68984f7e69b4084ad08f46f69eaeda2"
       ],
       "layout": "IPY_MODEL_1ae09ff6611845e8bbed147dd1800232"
      }
     },
     "544a53eac2e74b008b6e431206988120": {
      "model_module": "@jupyter-widgets/base",
      "model_module_version": "1.2.0",
      "model_name": "LayoutModel",
      "state": {
       "display": "none",
       "grid_area": "filename",
       "width": "auto"
      }
     },
     "54636082256a4557be33a94cbfde772c": {
      "model_module": "@jupyter-widgets/base",
      "model_module_version": "1.2.0",
      "model_name": "LayoutModel",
      "state": {}
     },
     "54882ffb0be240fb8bbe733718b68671": {
      "model_module": "@jupyter-widgets/controls",
      "model_module_version": "1.5.0",
      "model_name": "DescriptionStyleModel",
      "state": {
       "description_width": ""
      }
     },
     "548858df69c1499cbb98ee2e118a2d7a": {
      "model_module": "@jupyter-widgets/base",
      "model_module_version": "1.2.0",
      "model_name": "LayoutModel",
      "state": {}
     },
     "5498dc7b7a904c9a919e921f9dfd9e01": {
      "model_module": "@jupyter-widgets/base",
      "model_module_version": "1.2.0",
      "model_name": "LayoutModel",
      "state": {}
     },
     "54cc8b03439e49ca901e225ab097eb04": {
      "model_module": "@jupyter-widgets/controls",
      "model_module_version": "1.5.0",
      "model_name": "GridBoxModel",
      "state": {
       "children": [
        "IPY_MODEL_13e9f79dd1bf443eb287e9341e15fe1d",
        "IPY_MODEL_86b04be854d14c38be33196c5629a804",
        "IPY_MODEL_97434400a8a84abe9318a8b6d67b7841"
       ],
       "layout": "IPY_MODEL_ab1df8199d0b4217bbbf5919672a9b7e"
      }
     },
     "55930795934943d38ebc3208dfa537cd": {
      "model_module": "@jupyter-widgets/controls",
      "model_module_version": "1.5.0",
      "model_name": "DescriptionStyleModel",
      "state": {
       "description_width": "initial"
      }
     },
     "559af9c6acc0418e8e8d2f760a9e6679": {
      "model_module": "@jupyter-widgets/base",
      "model_module_version": "1.2.0",
      "model_name": "LayoutModel",
      "state": {
       "width": "auto"
      }
     },
     "55f05fe7a95446beaa497feba31f41ee": {
      "model_module": "@jupyter-widgets/controls",
      "model_module_version": "1.5.0",
      "model_name": "DescriptionStyleModel",
      "state": {
       "description_width": ""
      }
     },
     "56177a59c887454fbcd04aebbca3e0c3": {
      "model_module": "@jupyter-widgets/base",
      "model_module_version": "1.2.0",
      "model_name": "LayoutModel",
      "state": {
       "display": "none",
       "grid_gap": "0px 0px",
       "grid_template_areas": "\n                    'pathlist filename'\n                    'dircontent dircontent'\n                    ",
       "grid_template_columns": "60% 40%",
       "grid_template_rows": "auto auto",
       "width": "500px"
      }
     },
     "563da30d77084868b7d8d1ceb901cdac": {
      "model_module": "@jupyter-widgets/controls",
      "model_module_version": "1.5.0",
      "model_name": "HTMLModel",
      "state": {
       "layout": "IPY_MODEL_dd57b26426cb4f02be1d27b3789d6e37",
       "style": "IPY_MODEL_927be5f58c9248ff89ead77f098edee5"
      }
     },
     "56499be88a7c4e0a85c72ae703bd23f3": {
      "model_module": "@jupyter-widgets/base",
      "model_module_version": "1.2.0",
      "model_name": "LayoutModel",
      "state": {}
     },
     "56908ba9b25744c1800988345fdf0e27": {
      "model_module": "@jupyter-widgets/controls",
      "model_module_version": "1.5.0",
      "model_name": "ToggleButtonModel",
      "state": {
       "layout": "IPY_MODEL_1a133f886abb4e9896a9039f0ef0a804",
       "style": "IPY_MODEL_86ae4c46f9ee4069b47a84a0cc6ee7ba"
      }
     },
     "56d255c6495b422e8cd8eab204ffccd6": {
      "model_module": "@jupyter-widgets/base",
      "model_module_version": "1.2.0",
      "model_name": "LayoutModel",
      "state": {
       "border": "solid"
      }
     },
     "56fa8be5490c4e879cd51a9a221c6eab": {
      "model_module": "@jupyter-widgets/controls",
      "model_module_version": "1.5.0",
      "model_name": "DescriptionStyleModel",
      "state": {
       "description_width": ""
      }
     },
     "5705aff5cf5d4e02a60fe0674baaee77": {
      "model_module": "@jupyter-widgets/controls",
      "model_module_version": "1.5.0",
      "model_name": "ButtonStyleModel",
      "state": {}
     },
     "575f3e9fc8834c5eb127e22d94d2e8b6": {
      "model_module": "@jupyter-widgets/controls",
      "model_module_version": "1.5.0",
      "model_name": "DescriptionStyleModel",
      "state": {
       "description_width": ""
      }
     },
     "579da6a193934150aab175c8e9f6f714": {
      "model_module": "@jupyter-widgets/base",
      "model_module_version": "1.2.0",
      "model_name": "LayoutModel",
      "state": {
       "display": "none",
       "width": "auto"
      }
     },
     "57b86818dd2b4476a21d333aa294031b": {
      "model_module": "@jupyter-widgets/controls",
      "model_module_version": "1.5.0",
      "model_name": "ButtonStyleModel",
      "state": {}
     },
     "57d4c5dc9e734f18984c9c77487675c7": {
      "model_module": "@jupyter-widgets/base",
      "model_module_version": "1.2.0",
      "model_name": "LayoutModel",
      "state": {
       "display": "none",
       "width": "auto"
      }
     },
     "5813160a186845dbab125e7204faef97": {
      "model_module": "@jupyter-widgets/controls",
      "model_module_version": "1.5.0",
      "model_name": "VBoxModel",
      "state": {
       "children": [
        "IPY_MODEL_65b5a7c60aa94c92b81c3bd35a8748d7",
        "IPY_MODEL_b84c99a6a6544254bce56c458bad80dc"
       ],
       "layout": "IPY_MODEL_840ad6de15c040c2bba413d5a1a8d219"
      }
     },
     "582702e0271b4660a205b0749279a45b": {
      "model_module": "@jupyter-widgets/base",
      "model_module_version": "1.2.0",
      "model_name": "LayoutModel",
      "state": {}
     },
     "5882c99c93fa4e8a93de903282430538": {
      "model_module": "@jupyter-widgets/controls",
      "model_module_version": "1.5.0",
      "model_name": "DescriptionStyleModel",
      "state": {
       "description_width": "initial"
      }
     },
     "58cd8f1d4d9b499db178c240ed08a04a": {
      "model_module": "@jupyter-widgets/controls",
      "model_module_version": "1.5.0",
      "model_name": "VBoxModel",
      "state": {
       "children": [
        "IPY_MODEL_34a1eb89902c47fbb275898424e9886c",
        "IPY_MODEL_d6ad09d8ff17477da5993cc95460772d",
        "IPY_MODEL_8fc48764dee8405f9bf550ae88fbeafb"
       ],
       "layout": "IPY_MODEL_78f5f40dbaf74481a0596a7376b9642b"
      }
     },
     "58eedcc96e4f4310883de74e77b69695": {
      "model_module": "@jupyter-widgets/base",
      "model_module_version": "1.2.0",
      "model_name": "LayoutModel",
      "state": {
       "grid_area": "filename",
       "width": "auto"
      }
     },
     "58ff80da7ac1413aa3b9ac1f2fc7a266": {
      "model_module": "@jupyter-widgets/controls",
      "model_module_version": "1.5.0",
      "model_name": "CheckboxModel",
      "state": {
       "description": "Geoscience ANALYST Pro - Live link",
       "disabled": false,
       "indent": false,
       "layout": "IPY_MODEL_1ec684a55dde443b9dc12469ad0db713",
       "style": "IPY_MODEL_e9ffe959b5a24e61832aacb77e72fdd4",
       "value": false
      }
     },
     "5991bfc213704e80b16c2d909a1c70a9": {
      "model_module": "@jupyter-widgets/base",
      "model_module_version": "1.2.0",
      "model_name": "LayoutModel",
      "state": {}
     },
     "59a4a155554c421891b1ac0dc8e13ef5": {
      "model_module": "@jupyter-widgets/controls",
      "model_module_version": "1.5.0",
      "model_name": "LabelModel",
      "state": {
       "layout": "IPY_MODEL_611236dd0b2b40118d73ebceea3adae9",
       "style": "IPY_MODEL_7d908c45c39e4127aef9af2154ad1359",
       "value": "Refinement a "
      }
     },
     "59caf06f4d4046fe8cec4230b8e615b2": {
      "model_module": "@jupyter-widgets/controls",
      "model_module_version": "1.5.0",
      "model_name": "TextModel",
      "state": {
       "description": "Levels",
       "layout": "IPY_MODEL_c0c1f7f47438477b99ab838fa1213485",
       "style": "IPY_MODEL_bbf892c0a3ab4f7cb5edcfd19b47a7f6",
       "value": "0.0, 0.0, 2.0"
      }
     },
     "5a43f4dfc77f4a0db830b5ff8efd2315": {
      "model_module": "@jupyter-widgets/controls",
      "model_module_version": "1.5.0",
      "model_name": "DropdownModel",
      "state": {
       "_options_labels": [
        "C:\\Users\\dominiquef\\Documents\\GIT\\mira\\geoapps\\assets",
        "C:\\Users\\dominiquef\\Documents\\GIT\\mira\\geoapps",
        "C:\\Users\\dominiquef\\Documents\\GIT\\mira",
        "C:\\Users\\dominiquef\\Documents\\GIT",
        "C:\\Users\\dominiquef\\Documents",
        "C:\\Users\\dominiquef",
        "C:\\Users",
        "C:\\",
        "D:\\",
        "Z:\\"
       ],
       "index": 0,
       "layout": "IPY_MODEL_fa7e6c87d7c743a89d0b8cb2a9036622",
       "style": "IPY_MODEL_92ffb379c0c64c03af2fec4497aa5195"
      }
     },
     "5a841fd528c749629310f22d8b878a22": {
      "model_module": "@jupyter-widgets/controls",
      "model_module_version": "1.5.0",
      "model_name": "LabelModel",
      "state": {
       "layout": "IPY_MODEL_f99d2e15eaea424592fc571b806e43ee",
       "style": "IPY_MODEL_ea5f0d3c874e4eda954314a5c268f368",
       "value": "Workspace"
      }
     },
     "5ae93bc1b24e4562a4525c5c75aa213b": {
      "model_module": "@jupyter-widgets/base",
      "model_module_version": "1.2.0",
      "model_name": "LayoutModel",
      "state": {
       "display": "none"
      }
     },
     "5af8b8e1049d41fc819de324cf90fd2d": {
      "model_module": "@jupyter-widgets/controls",
      "model_module_version": "1.5.0",
      "model_name": "DescriptionStyleModel",
      "state": {
       "description_width": ""
      }
     },
     "5b175ad78f394f57b6bed52f36738415": {
      "model_module": "@jupyter-widgets/controls",
      "model_module_version": "1.5.0",
      "model_name": "HTMLModel",
      "state": {
       "layout": "IPY_MODEL_00371d0504bc45239e9053fb04b3beb9",
       "style": "IPY_MODEL_7526a51f24ad4f239d406438ac54bfdb"
      }
     },
     "5b3c72f10d0045af8f98d7b5c977698c": {
      "model_module": "@jupyter-widgets/controls",
      "model_module_version": "1.5.0",
      "model_name": "DescriptionStyleModel",
      "state": {
       "description_width": ""
      }
     },
     "5b3d207ebf66415bbf1db35052e24890": {
      "model_module": "@jupyter-widgets/controls",
      "model_module_version": "1.5.0",
      "model_name": "DropdownModel",
      "state": {
       "_options_labels": [
        "surface",
        "radial"
       ],
       "description": "Type",
       "index": 1,
       "layout": "IPY_MODEL_74594d6878b049bf80690fe982e0b9b3",
       "style": "IPY_MODEL_4ed62112aa0540468c5ec5b11e4a2685"
      }
     },
     "5ba669292aba41ac84aac25881f94e68": {
      "model_module": "@jupyter-widgets/base",
      "model_module_version": "1.2.0",
      "model_name": "LayoutModel",
      "state": {
       "border": "solid"
      }
     },
     "5bfa0de0db2e4d6cb3d84455446d9a4a": {
      "model_module": "@jupyter-widgets/controls",
      "model_module_version": "1.5.0",
      "model_name": "DescriptionStyleModel",
      "state": {
       "description_width": ""
      }
     },
     "5bfd167f1dd04f4eab6a6f566c6f7bef": {
      "model_module": "@jupyter-widgets/controls",
      "model_module_version": "1.5.0",
      "model_name": "DescriptionStyleModel",
      "state": {
       "description_width": ""
      }
     },
     "5c673b3ac18a4fcca936b29fc0ade6d1": {
      "model_module": "@jupyter-widgets/base",
      "model_module_version": "1.2.0",
      "model_name": "LayoutModel",
      "state": {}
     },
     "5c851ab6e9a540998da625311209524b": {
      "model_module": "@jupyter-widgets/base",
      "model_module_version": "1.2.0",
      "model_name": "LayoutModel",
      "state": {}
     },
     "5c8e8fac460a491ba3e52f736907924b": {
      "model_module": "@jupyter-widgets/controls",
      "model_module_version": "1.5.0",
      "model_name": "DescriptionStyleModel",
      "state": {
       "description_width": "initial"
      }
     },
     "5c9d4eeb87d243188426b9dfe9b72d2b": {
      "model_module": "@jupyter-widgets/controls",
      "model_module_version": "1.5.0",
      "model_name": "DescriptionStyleModel",
      "state": {
       "description_width": "initial"
      }
     },
     "5d3693ad707e46efbd9972709527ca59": {
      "model_module": "@jupyter-widgets/controls",
      "model_module_version": "1.5.0",
      "model_name": "DescriptionStyleModel",
      "state": {
       "description_width": "initial"
      }
     },
     "5d43ab0b0980486ba6365e80577a06bc": {
      "model_module": "@jupyter-widgets/controls",
      "model_module_version": "1.5.0",
      "model_name": "DescriptionStyleModel",
      "state": {
       "description_width": ""
      }
     },
     "5d6874ea2d944d9ba61cf1f15ada9e01": {
      "model_module": "@jupyter-widgets/base",
      "model_module_version": "1.2.0",
      "model_name": "LayoutModel",
      "state": {}
     },
     "5d791d94bfcb4594a5797e47200507e3": {
      "model_module": "@jupyter-widgets/controls",
      "model_module_version": "1.5.0",
      "model_name": "DescriptionStyleModel",
      "state": {
       "description_width": "initial"
      }
     },
     "5db5cc19be314fcabfe134e5870baac3": {
      "model_module": "@jupyter-widgets/controls",
      "model_module_version": "1.5.0",
      "model_name": "DropdownModel",
      "state": {
       "_options_labels": [
        "surface",
        "radial"
       ],
       "description": "Type",
       "index": 0,
       "layout": "IPY_MODEL_a2f77554884c4f9c8ffb17d03f88366e",
       "style": "IPY_MODEL_0acb293f95c24c9c8b4cb316bf8524f2"
      }
     },
     "5db873bb11db4d5ebd1ce5db1bdc078a": {
      "model_module": "@jupyter-widgets/controls",
      "model_module_version": "1.5.0",
      "model_name": "DescriptionStyleModel",
      "state": {
       "description_width": ""
      }
     },
     "5dcc79a28a344a758788a4a25a47a9b7": {
      "model_module": "@jupyter-widgets/base",
      "model_module_version": "1.2.0",
      "model_name": "LayoutModel",
      "state": {}
     },
     "5dd2ea9f1f9c46de97fbbfb987c85e99": {
      "model_module": "@jupyter-widgets/controls",
      "model_module_version": "1.5.0",
      "model_name": "DescriptionStyleModel",
      "state": {
       "description_width": "initial"
      }
     },
     "5def68349d5a4ef289e278f7e5325804": {
      "model_module": "@jupyter-widgets/controls",
      "model_module_version": "1.5.0",
      "model_name": "TextModel",
      "state": {
       "description": "Levels",
       "layout": "IPY_MODEL_2d213e8d4eff494bb40c11826596cd0d",
       "style": "IPY_MODEL_e62f81f984294a53af909257e44bc7af",
       "value": "4.0, 4.0, 4.0"
      }
     },
     "5e2df17d086240158271c8971481da94": {
      "model_module": "@jupyter-widgets/controls",
      "model_module_version": "1.5.0",
      "model_name": "DescriptionStyleModel",
      "state": {
       "description_width": ""
      }
     },
     "5e8befdc9bfb4504aa8455bc59cbad56": {
      "model_module": "@jupyter-widgets/base",
      "model_module_version": "1.2.0",
      "model_name": "LayoutModel",
      "state": {}
     },
     "5e9b6daf1881412a9932e48965c973ed": {
      "model_module": "@jupyter-widgets/controls",
      "model_module_version": "1.5.0",
      "model_name": "DescriptionStyleModel",
      "state": {
       "description_width": ""
      }
     },
     "5eefa5d088a04f60a2c90564787b50ce": {
      "model_module": "@jupyter-widgets/controls",
      "model_module_version": "1.5.0",
      "model_name": "DropdownModel",
      "state": {
       "_options_labels": [
        "",
        "CoordinateTransformation/Data_TEM_pseudo3DEPSG_4326",
        "CoordinateTransformation/Data_TEM_pseudo3DEPSG_4326",
        "Faults_Dikes/fault_splay1",
        "Faults_Dikes/fault_Cliff_Lake",
        "Faults_Dikes/fault_Other_FlinFlon",
        "Faults_Dikes/fault_Club_Lake_splay",
        "Faults_Dikes/fault_Catherine_splay2",
        "Faults_Dikes/fault_Birch_View",
        "Faults_Dikes/fault_Dion_Lake",
        "Faults_Dikes/fault_FlinFlon_splay",
        "Faults_Dikes/fault_West_Mandy_Road",
        "Faults_Dikes/fault_Channing",
        "Faults_Dikes/fault_Ross_Lake",
        "Faults_Dikes/fault_Louis_Hidden",
        "Faults_Dikes/fault_Lake_View_thrust",
        "Faults_Dikes/contact_Schist_Lake",
        "Faults_Dikes/fault_Burley_Lake",
        "Faults_Dikes/fault_Dion_Lake_splay",
        "Faults_Dikes/fault_Green_Lake",
        "Faults_Dikes/fault_FlinFlon",
        "Faults_Dikes/fault_Catherine_splay1",
        "Faults_Dikes/fault_East_Mandy_Road",
        "Faults_Dikes/fault_Other_FlinFlon_South",
        "Faults_Dikes/fault_Catherine_splay4",
        "Faults_Dikes/contact_Stitt_Island",
        "Faults_Dikes/fault_Club_Lake",
        "Faults_Dikes/fault_Tailing_Pond",
        "Horizons/35_Hidden_Reservoir_Hr5",
        "Horizons/29_Hidden_Reservoir_Hr1a",
        "Horizons/60_BlueLagoon_Fb2",
        "Horizons/20_FlinFlon_Undivided_Int_Dykes_D2f",
        "Horizons/04_Boundary_Intrusive_S4h",
        "Horizons/53_Millrock_Rhyolite_Fm4b",
        "Horizons/19_FlinFlon_Undivided_Int_Dykes_D2b",
        "Horizons/18_FlinFlon_Undivided_Int_Dykes_777_D2b",
        "Horizons/06_Phantom_Lake_Intrusive_S3a",
        "Horizons/21_FlinFlon_Undivided_Int_Dykes_D3a",
        "Horizons/43_Millrock_CHLSH_South",
        "Horizons/56_Millrock_Basalt_Fm1ba",
        "Horizons/17_FlinFlon_Undivided_Int_Dykes_D2",
        "Horizons/32_Hidden_Reservoir_Hr1b_SW",
        "Horizons/11_Missi_M3_NE",
        "Horizons/13_Missi_M1",
        "Horizons/07_Annabel_Granitoid_S1",
        "Horizons/45_Millrock_Gabbro_South",
        "Horizons/01_Late_Intrusive_S5b",
        "Horizons/31_Hidden_Reservoir_Hr1c_SW",
        "Horizons/52_Millrock_Rhyolite_Fm4_West_check",
        "Horizons/55_Millrock_Basalt_Fm1bf",
        "Horizons/34_Hidden_Reservoir_Hr2b",
        "Horizons/03_Boundary_Intrusive_S4b",
        "Horizons/42_Millrock_CHLSH_North",
        "Horizons/26_Louis_L3",
        "Horizons/23_FlinFlon_Undivided_Int_Felsic_D4g",
        "Horizons/30_Hidden_Reservoir_Hr1b",
        "Horizons/59_BlueLagoon_Fb3",
        "Horizons/49_Millrock_MVR_Fm5d",
        "Horizons/44_Millrock_Gabbro_North",
        "Horizons/27_Hidden_Carlisle_Hc4",
        "Horizons/22_FlinFlon_Undivided_Int_Felsic_D4e",
        "Horizons/02_Boundary_Intrusive_S4a",
        "Horizons/61_BlueLagoon_Fb1_NW",
        "Horizons/05_Boundary_Intrusive_S4g",
        "Ore/39_Ore_Callinan",
        "Ore/38_Ore_Dan_Owens",
        "Ore/40_Ore_FlinFlon",
        "Workspace/Inversion_VTEM_Model",
        "Workspace/CDI_VTEM_model",
        "Workspace/Data_FEM_pseudo3D",
        "Workspace/geochem",
        "Workspace/Inversion_DIGHEM_Model",
        "Workspace/Topography",
        "Workspace/Data_TEM_pseudo3D",
        "Workspace/Data_ZTEM",
        "Workspace/Mesh"
       ],
       "description": "Object",
       "index": 0,
       "layout": "IPY_MODEL_c7b6a475eed542df949cae847b85c2f7",
       "style": "IPY_MODEL_ff2d92acf3764aacb0a9f23d12bf8542"
      }
     },
     "5ef3c6c7961d453581cebc5728a890f7": {
      "model_module": "@jupyter-widgets/controls",
      "model_module_version": "1.5.0",
      "model_name": "DescriptionStyleModel",
      "state": {
       "description_width": ""
      }
     },
     "5f1e576686a741f3803e8f7b7c6777f5": {
      "model_module": "@jupyter-widgets/base",
      "model_module_version": "1.2.0",
      "model_name": "LayoutModel",
      "state": {}
     },
     "5f7a34f39b014ac4b90a3a58bbdef570": {
      "model_module": "@jupyter-widgets/base",
      "model_module_version": "1.2.0",
      "model_name": "LayoutModel",
      "state": {}
     },
     "5fc84a52d81d48529fa5ab352772951e": {
      "model_module": "@jupyter-widgets/base",
      "model_module_version": "1.2.0",
      "model_name": "LayoutModel",
      "state": {}
     },
     "6000546c6507404f814c07e90772ca6f": {
      "model_module": "@jupyter-widgets/controls",
      "model_module_version": "1.5.0",
      "model_name": "DescriptionStyleModel",
      "state": {
       "description_width": ""
      }
     },
     "601142fbe05e4de0899319130a23a1eb": {
      "model_module": "@jupyter-widgets/base",
      "model_module_version": "1.2.0",
      "model_name": "LayoutModel",
      "state": {}
     },
     "602b03a603644d179c9bbfc53fc4deb1": {
      "model_module": "@jupyter-widgets/controls",
      "model_module_version": "1.5.0",
      "model_name": "ButtonModel",
      "state": {
       "description": "Select",
       "layout": "IPY_MODEL_1a6af5a733bd48ea89652f8c0bd97929",
       "style": "IPY_MODEL_2904bc1468124adca8330acc0a0b42a4"
      }
     },
     "604371d905994e8fb18a623c354a2a7d": {
      "model_module": "@jupyter-widgets/controls",
      "model_module_version": "1.5.0",
      "model_name": "FloatTextModel",
      "state": {
       "description": "Northing",
       "layout": "IPY_MODEL_e56db57430334e069c34e91db9758a59",
       "step": null,
       "style": "IPY_MODEL_76dfe139b6c14ffab56c2e4c47a35f00",
       "value": 25
      }
     },
     "6055a22ad4404660a127f683256d6178": {
      "model_module": "@jupyter-widgets/controls",
      "model_module_version": "1.5.0",
      "model_name": "DescriptionStyleModel",
      "state": {
       "description_width": "initial"
      }
     },
     "606fb24278384c52977ef44cb2ea1232": {
      "model_module": "@jupyter-widgets/base",
      "model_module_version": "1.2.0",
      "model_name": "LayoutModel",
      "state": {}
     },
     "6088482faedd48d5b348e32ddb082596": {
      "model_module": "@jupyter-widgets/controls",
      "model_module_version": "1.5.0",
      "model_name": "VBoxModel",
      "state": {
       "children": [
        "IPY_MODEL_a15ab6742deb40a6918647c51f7f946a",
        "IPY_MODEL_8b511d0d9d1c4b79b5cc3134ac1b0298",
        "IPY_MODEL_7ee8369a4c6c4372bd766ae141fa02f5",
        "IPY_MODEL_1b481256bb3d496c976efb9c29bac0c7",
        "IPY_MODEL_6ce2470f17b143d98f81af307d6b2700"
       ],
       "layout": "IPY_MODEL_0a72fb6f280c4ebf9a1906221cf29547"
      }
     },
     "60d1dd0fc3b8464f8e3926f159e3999f": {
      "model_module": "@jupyter-widgets/controls",
      "model_module_version": "1.5.0",
      "model_name": "DescriptionStyleModel",
      "state": {
       "description_width": "initial"
      }
     },
     "611236dd0b2b40118d73ebceea3adae9": {
      "model_module": "@jupyter-widgets/base",
      "model_module_version": "1.2.0",
      "model_name": "LayoutModel",
      "state": {}
     },
     "619e7a041e6043dc9d244b08e144f879": {
      "model_module": "@jupyter-widgets/base",
      "model_module_version": "1.2.0",
      "model_name": "LayoutModel",
      "state": {
       "display": "none",
       "width": "auto"
      }
     },
     "61b05afa0b6a4e9093fd15395459cd8c": {
      "model_module": "@jupyter-widgets/base",
      "model_module_version": "1.2.0",
      "model_name": "LayoutModel",
      "state": {
       "width": "auto"
      }
     },
     "6263b32721934ea6a424dd5889f4b913": {
      "model_module": "@jupyter-widgets/controls",
      "model_module_version": "1.5.0",
      "model_name": "VBoxModel",
      "state": {
       "children": [
        "IPY_MODEL_52601808c8a847f18f9579cc2c7d057e"
       ],
       "layout": "IPY_MODEL_1e544a273a8e43989384bf980a07fabd"
      }
     },
     "628c08759a6d47649a6e27f85bdaffd6": {
      "model_module": "@jupyter-widgets/controls",
      "model_module_version": "1.5.0",
      "model_name": "DescriptionStyleModel",
      "state": {
       "description_width": "initial"
      }
     },
     "62c3a4d1c7eb412fbebdc846baafbcb8": {
      "model_module": "@jupyter-widgets/controls",
      "model_module_version": "1.5.0",
      "model_name": "GridBoxModel",
      "state": {
       "children": [
        "IPY_MODEL_660dec76795e489c9aad0cbe9ac09534",
        "IPY_MODEL_928ebbcf6cf04b118ade1db3e16a8156",
        "IPY_MODEL_4e4ee93465194b888dd49afce266de7e"
       ],
       "layout": "IPY_MODEL_16106a74fd454c0dadf5359d3e2c9820"
      }
     },
     "62f9e9f817094c059e0ed38ebf50db6a": {
      "model_module": "@jupyter-widgets/controls",
      "model_module_version": "1.5.0",
      "model_name": "FloatTextModel",
      "state": {
       "description": "Easting",
       "layout": "IPY_MODEL_b4516db423154131874a99ef9a202942",
       "step": null,
       "style": "IPY_MODEL_4513d4a241f141a98e3357654070bbd5",
       "value": 25
      }
     },
     "632fe3d53f24486a9e2fff89604d9384": {
      "model_module": "@jupyter-widgets/base",
      "model_module_version": "1.2.0",
      "model_name": "LayoutModel",
      "state": {}
     },
     "63c5eeb32be44614972a9fd05f942b00": {
      "model_module": "@jupyter-widgets/controls",
      "model_module_version": "1.5.0",
      "model_name": "LabelModel",
      "state": {
       "layout": "IPY_MODEL_f6a46c3bace14d568f410376705948d1",
       "style": "IPY_MODEL_098119dc4f4044d5a3747bfcf70cc240",
       "value": "Refinement A"
      }
     },
     "63cdfe81777b4c05b95fe47774810977": {
      "model_module": "@jupyter-widgets/controls",
      "model_module_version": "1.5.0",
      "model_name": "ButtonStyleModel",
      "state": {}
     },
     "63dae16705d54eadb7a0ab269a187511": {
      "model_module": "@jupyter-widgets/controls",
      "model_module_version": "1.5.0",
      "model_name": "DescriptionStyleModel",
      "state": {
       "description_width": "initial"
      }
     },
     "640a82c082a34ca9b6273b60402179c0": {
      "model_module": "@jupyter-widgets/controls",
      "model_module_version": "1.5.0",
      "model_name": "DescriptionStyleModel",
      "state": {
       "description_width": "initial"
      }
     },
     "6417e67884404cf2a488be6b747830f3": {
      "model_module": "@jupyter-widgets/controls",
      "model_module_version": "1.5.0",
      "model_name": "DescriptionStyleModel",
      "state": {
       "description_width": ""
      }
     },
     "641b24eb75b84840917c38b89c23e3d3": {
      "model_module": "@jupyter-widgets/controls",
      "model_module_version": "1.5.0",
      "model_name": "LabelModel",
      "state": {
       "layout": "IPY_MODEL_bd40e939bf8a4f9fbabade3f108c8cb0",
       "style": "IPY_MODEL_b845294518c8489cb56ca19aef05285e",
       "value": "Monitoring folder"
      }
     },
     "643ee55f20c54094815a913db9e9ad3d": {
      "model_module": "@jupyter-widgets/controls",
      "model_module_version": "1.5.0",
      "model_name": "ButtonStyleModel",
      "state": {}
     },
     "64a0b6128fcb431cb72eb0f0c036eb4e": {
      "model_module": "@jupyter-widgets/controls",
      "model_module_version": "1.5.0",
      "model_name": "DescriptionStyleModel",
      "state": {
       "description_width": "initial"
      }
     },
     "64a767b13a9f40a1b236e3276364b7fc": {
      "model_module": "@jupyter-widgets/controls",
      "model_module_version": "1.5.0",
      "model_name": "FloatTextModel",
      "state": {
       "description": "Distance",
       "layout": "IPY_MODEL_39243602d70d4b40ad2df713f29a5f34",
       "step": null,
       "style": "IPY_MODEL_194775cbe3b44a558a2666b20b391710",
       "value": 1000
      }
     },
     "64b889826d804e2389276adec7795b02": {
      "model_module": "@jupyter-widgets/controls",
      "model_module_version": "1.5.0",
      "model_name": "VBoxModel",
      "state": {
       "children": [
        "IPY_MODEL_5a841fd528c749629310f22d8b878a22",
        "IPY_MODEL_1b126156ec1f4dfbab6bed9e207b9e5a"
       ],
       "layout": "IPY_MODEL_7b80df5c649e4ce79a40a8f6d6c18d7c"
      }
     },
     "64c302bdcdee4870bdff2305420f6c47": {
      "model_module": "@jupyter-widgets/base",
      "model_module_version": "1.2.0",
      "model_name": "LayoutModel",
      "state": {
       "border": "solid"
      }
     },
     "6507ae9a22af41c7a7d574c00d366636": {
      "model_module": "@jupyter-widgets/controls",
      "model_module_version": "1.5.0",
      "model_name": "SelectModel",
      "state": {
       "_options_labels": [
        "..",
        "SimPEG_PFInversion",
        "Temp",
        "dask-worker-space",
        "Crossplot.html",
        "FlinFlon.geoh5",
        "Gravity_Magnetics_drape60m_Airborne_Gxx.tif",
        "Gravity_Magnetics_drape60m_Airborne_Gxx_Colorbar.png",
        "Gravity_Magnetics_drape60m_Airborne_Gxx_RGB.txt",
        "Inversion_.json",
        "Inversion_2.json",
        "Inversion_L0L2.json",
        "Inversion_L1L2.json",
        "Inversion_MVI_susRef.json",
        "Inversion_MagSusc.json",
        "Inversion_MagSusc_noref.json",
        "Inversion_TMI.json",
        "Inversion_test.json",
        "MtDore.geoh5",
        "MtDore_TMI.geoh5",
        "Octree_Mesh.ui.geoh5",
        "Octree_Mesh.ui.json",
        "Octree_Mesh_2.ui.json",
        "Octree_Mesh_33.ui.json",
        "Octree_Mesh_44.ui.json",
        "Octree_Mesh_55.ui.json",
        "Octree_Mesh_done.ui.json",
        "Octree_Mesh_done2.ui.json",
        "Octree_Mesh_geochem.ui.json",
        "Octree_Mesh_max_dist.ui.json",
        "Octree_Mesh_max_dist_10m.ui.json",
        "Octree_Mesh_ore.ui.json",
        "Octree_Mesh_padded.ui.json",
        "Octree_Mesh_surf.ui.json",
        "Octree_Mesh_v2.ui.json",
        "Octree_Mesh_v3.ui.geoh5",
        "Octree_Mesh_v3.ui.json",
        "Octree_Mesh_v4.ui.geoh5",
        "Octree_Mesh_v4.ui.json",
        "Octree_Mesh_v5.ui.json",
        "Octree_Mesh_v6.ui.geoh5",
        "Octree_Mesh_v6.ui.json",
        "Octree_Mesh_v7.ui.json",
        "default_mvi.ui.geoh5",
        "default_mvi.ui.json",
        "demo.ipynb",
        "edge_tester.geoh5",
        "input.ui.json",
        "live_update_demo.ipynb",
        "live_update_demo.ipynb.zip",
        "options_tree.json",
        "project.geoh5",
        "testPoints.geoh5",
        "tester.ui.geoh5",
        "tester.ui.json"
       ],
       "index": 5,
       "layout": "IPY_MODEL_b810bf82dfd24bc9a037cf3698514324",
       "rows": 8,
       "style": "IPY_MODEL_5ef3c6c7961d453581cebc5728a890f7"
      }
     },
     "6509612dd7fd4f0cbd2c75a9581262f5": {
      "model_module": "@jupyter-widgets/controls",
      "model_module_version": "1.5.0",
      "model_name": "SelectModel",
      "state": {
       "_options_labels": [
        "📁 .."
       ],
       "index": null,
       "layout": "IPY_MODEL_f431f815a3a243cabdeade6e880de0f7",
       "rows": 8,
       "style": "IPY_MODEL_b9407263b6414ee9b20dd0503205dcb4"
      }
     },
     "65393c27a42d458aa8be577b9493582b": {
      "model_module": "@jupyter-widgets/base",
      "model_module_version": "1.2.0",
      "model_name": "LayoutModel",
      "state": {
       "width": "500px"
      }
     },
     "654e7dfb10b543c2b8c6f3fa16a275c1": {
      "model_module": "@jupyter-widgets/base",
      "model_module_version": "1.2.0",
      "model_name": "LayoutModel",
      "state": {}
     },
     "655bdec93e634ffc81301b4d7527ad5f": {
      "model_module": "@jupyter-widgets/base",
      "model_module_version": "1.2.0",
      "model_name": "LayoutModel",
      "state": {
       "grid_area": "pathlist",
       "width": "auto"
      }
     },
     "655c2dba0cc742c7aa646ceda35b8128": {
      "model_module": "@jupyter-widgets/base",
      "model_module_version": "1.2.0",
      "model_name": "LayoutModel",
      "state": {
       "display": "none",
       "min_width": "6em",
       "width": "6em"
      }
     },
     "658a1ee09eeb47cd93e21001aa9522b8": {
      "model_module": "@jupyter-widgets/base",
      "model_module_version": "1.2.0",
      "model_name": "LayoutModel",
      "state": {}
     },
     "6599e83d1b964515ab2b97c7f1e601dc": {
      "model_module": "@jupyter-widgets/controls",
      "model_module_version": "1.5.0",
      "model_name": "VBoxModel",
      "state": {
       "children": [
        "IPY_MODEL_03d18e8ccb4a4237bea5c3fa99b71b98",
        "IPY_MODEL_69fd6a76de134673bea7477eaa4e41a7"
       ],
       "layout": "IPY_MODEL_74964bb90505436b8983ab395ce1f5d2"
      }
     },
     "65a42a6e216f4b05a9b7759c2325ac84": {
      "model_module": "@jupyter-widgets/controls",
      "model_module_version": "1.5.0",
      "model_name": "DescriptionStyleModel",
      "state": {
       "description_width": "initial"
      }
     },
     "65b5a7c60aa94c92b81c3bd35a8748d7": {
      "model_module": "@jupyter-widgets/controls",
      "model_module_version": "1.5.0",
      "model_name": "LabelModel",
      "state": {
       "layout": "IPY_MODEL_729eacb035684f3c8427c763272c7cf7",
       "style": "IPY_MODEL_ad7b0363ae0745f680ce0b7f463e2d12",
       "value": "Workspace"
      }
     },
     "65d18b63a33741fc88907003d008e0a3": {
      "model_module": "@jupyter-widgets/controls",
      "model_module_version": "1.5.0",
      "model_name": "DescriptionStyleModel",
      "state": {
       "description_width": ""
      }
     },
     "65d1a2997ed543218223812c1be7dec4": {
      "model_module": "@jupyter-widgets/controls",
      "model_module_version": "1.5.0",
      "model_name": "DropdownModel",
      "state": {
       "_options_labels": [
        "",
        "--- Channels ---",
        "CPI900",
        "CPQ56k",
        "CPQ7200",
        "CPQ900",
        "CPI7200",
        "Line",
        "DEM",
        "CPI56k",
        "X",
        "Y",
        "Z"
       ],
       "description": "Data: ",
       "index": 0,
       "layout": "IPY_MODEL_8bc5f2a252ce4feb8ebe8c290f27d404",
       "style": "IPY_MODEL_84c40b655e054108976341739840847d"
      }
     },
     "65da8bf25b694b639aa7fdcde92f9b4b": {
      "model_module": "@jupyter-widgets/base",
      "model_module_version": "1.2.0",
      "model_name": "LayoutModel",
      "state": {
       "width": "auto"
      }
     },
     "65f1ccbfd0bf4934b5dc6eefcfb9b1bc": {
      "model_module": "@jupyter-widgets/controls",
      "model_module_version": "1.5.0",
      "model_name": "LabelModel",
      "state": {
       "layout": "IPY_MODEL_bf93259e689b41c1997c0c72ff5e20f0",
       "style": "IPY_MODEL_7cbb4a09d3134a6b88bedbc6ab2363d1",
       "value": "Refinement A"
      }
     },
     "660dec76795e489c9aad0cbe9ac09534": {
      "model_module": "@jupyter-widgets/controls",
      "model_module_version": "1.5.0",
      "model_name": "DropdownModel",
      "state": {
       "_options_labels": [
        "C:\\Users\\dominiquef\\Documents\\GIT\\mira\\geoapps\\docs\\content\\applications",
        "C:\\Users\\dominiquef\\Documents\\GIT\\mira\\geoapps\\docs\\content",
        "C:\\Users\\dominiquef\\Documents\\GIT\\mira\\geoapps\\docs",
        "C:\\Users\\dominiquef\\Documents\\GIT\\mira\\geoapps",
        "C:\\Users\\dominiquef\\Documents\\GIT\\mira",
        "C:\\Users\\dominiquef\\Documents\\GIT",
        "C:\\Users\\dominiquef\\Documents",
        "C:\\Users\\dominiquef",
        "C:\\Users",
        "C:\\",
        "D:\\",
        "Z:\\"
       ],
       "index": 0,
       "layout": "IPY_MODEL_99bc618466f24655a0260bc0a7f02c55",
       "style": "IPY_MODEL_039e5b0d6e77487abce30d91db183287"
      }
     },
     "661378f2f47b4194b7330629f769099e": {
      "model_module": "@jupyter-widgets/controls",
      "model_module_version": "1.5.0",
      "model_name": "DescriptionStyleModel",
      "state": {
       "description_width": ""
      }
     },
     "6663429591464d798f6d1ebfdc622fdd": {
      "model_module": "@jupyter-widgets/base",
      "model_module_version": "1.2.0",
      "model_name": "LayoutModel",
      "state": {
       "display": "none",
       "grid_area": "filename",
       "width": "auto"
      }
     },
     "66644eb6a1e74c96998ce622cf17489a": {
      "model_module": "@jupyter-widgets/base",
      "model_module_version": "1.2.0",
      "model_name": "LayoutModel",
      "state": {}
     },
     "666600064fd3406ab3aa01c711d13043": {
      "model_module": "@jupyter-widgets/controls",
      "model_module_version": "1.5.0",
      "model_name": "DescriptionStyleModel",
      "state": {
       "description_width": "initial"
      }
     },
     "668d879f56e34171881ee1af1976f053": {
      "model_module": "@jupyter-widgets/base",
      "model_module_version": "1.2.0",
      "model_name": "LayoutModel",
      "state": {
       "width": "auto"
      }
     },
     "668ddebebc40496b84fb82cc43890994": {
      "model_module": "@jupyter-widgets/controls",
      "model_module_version": "1.5.0",
      "model_name": "DropdownModel",
      "state": {
       "_options_labels": [
        "C:\\Users\\dominiquef\\Documents\\GIT\\mira\\geoapps\\assets",
        "C:\\Users\\dominiquef\\Documents\\GIT\\mira\\geoapps",
        "C:\\Users\\dominiquef\\Documents\\GIT\\mira",
        "C:\\Users\\dominiquef\\Documents\\GIT",
        "C:\\Users\\dominiquef\\Documents",
        "C:\\Users\\dominiquef",
        "C:\\Users",
        "C:\\",
        "D:\\",
        "Z:\\"
       ],
       "index": 0,
       "layout": "IPY_MODEL_3a1426ba668b48e9bc3a9972677c98df",
       "style": "IPY_MODEL_a5b53e7eaad447c196d809a0bacdfd1a"
      }
     },
     "668f58ef28e4465dbfdb5001090eefb3": {
      "model_module": "@jupyter-widgets/controls",
      "model_module_version": "1.5.0",
      "model_name": "DropdownModel",
      "state": {
       "_options_labels": [
        "",
        "Ore/39_Ore_Callinan",
        "Ore/38_Ore_Dan_Owens",
        "Ore/40_Ore_FlinFlon",
        "Workspace/Inversion_VTEM_Model",
        "Workspace/DC_Survey (currents)",
        "Workspace/CDI_VTEM_model",
        "Workspace/Data_FEM_pseudo3D",
        "Workspace/geochem",
        "Workspace/DC_Survey",
        "Workspace/Inversion_DIGHEM_Model",
        "Workspace/Topography",
        "Workspace/Data_TEM_pseudo3D",
        "Workspace/Data_ZTEM",
        "Workspace/Mesh"
       ],
       "description": "Core hull extent:",
       "index": 7,
       "layout": "IPY_MODEL_f313eeea34154baa9842ef4421b78b7a",
       "style": "IPY_MODEL_4751bb36a1c041ccb680e98d0cb9920a"
      }
     },
     "66c5e48434ec42839db9fc9dc75362c3": {
      "model_module": "@jupyter-widgets/controls",
      "model_module_version": "1.5.0",
      "model_name": "ButtonModel",
      "state": {
       "description": "Cancel",
       "layout": "IPY_MODEL_97f797fe41e5412182929af4cb7905ab",
       "style": "IPY_MODEL_dd1f13facb8e4d3db7a7f44e2c281a88"
      }
     },
     "66ee43430d9d4cca9988e5b79ad7529f": {
      "model_module": "@jupyter-widgets/controls",
      "model_module_version": "1.5.0",
      "model_name": "DescriptionStyleModel",
      "state": {
       "description_width": "initial"
      }
     },
     "66fd34e71d674211823094233c27124e": {
      "model_module": "@jupyter-widgets/controls",
      "model_module_version": "1.5.0",
      "model_name": "DescriptionStyleModel",
      "state": {
       "description_width": ""
      }
     },
     "6711e6aeb7a646c8a1a478058e145882": {
      "model_module": "@jupyter-widgets/controls",
      "model_module_version": "1.5.0",
      "model_name": "DescriptionStyleModel",
      "state": {
       "description_width": ""
      }
     },
     "677a351e22fe4156ad944d52b8b04e3b": {
      "model_module": "@jupyter-widgets/base",
      "model_module_version": "1.2.0",
      "model_name": "LayoutModel",
      "state": {}
     },
     "67dbe864e89c45d7825eff7572cae6ed": {
      "model_module": "@jupyter-widgets/base",
      "model_module_version": "1.2.0",
      "model_name": "LayoutModel",
      "state": {}
     },
     "68205fd075ce477686f499fc25fc10c7": {
      "model_module": "@jupyter-widgets/controls",
      "model_module_version": "1.5.0",
      "model_name": "ButtonModel",
      "state": {
       "description": "Change",
       "layout": "IPY_MODEL_e6e5ce12f87b4d72b97bc57aba861a79",
       "style": "IPY_MODEL_e505d418519e4315877564ee4b313897"
      }
     },
     "683edfabc56b4e99bcbe82de9ccac54b": {
      "model_module": "@jupyter-widgets/controls",
      "model_module_version": "1.5.0",
      "model_name": "VBoxModel",
      "state": {
       "children": [
        "IPY_MODEL_b90ae7faecac4432a5e3157cd50558aa",
        "IPY_MODEL_6a628c6307f44807ad03f455068e0666"
       ],
       "layout": "IPY_MODEL_ab28c5f0178b4effaa319b83e9b3ac41"
      }
     },
     "6864867bb1b8449a8c8dc0491da97fba": {
      "model_module": "@jupyter-widgets/controls",
      "model_module_version": "1.5.0",
      "model_name": "DescriptionStyleModel",
      "state": {
       "description_width": "initial"
      }
     },
     "686e42764c2549fda970d0bae16de7cf": {
      "model_module": "@jupyter-widgets/base",
      "model_module_version": "1.2.0",
      "model_name": "LayoutModel",
      "state": {}
     },
     "6892c808312c4e4da2c7493ff3fb4d4d": {
      "model_module": "@jupyter-widgets/controls",
      "model_module_version": "1.5.0",
      "model_name": "DescriptionStyleModel",
      "state": {
       "description_width": "initial"
      }
     },
     "68b0ab117a1741b6b99ce47677941741": {
      "model_module": "@jupyter-widgets/controls",
      "model_module_version": "1.5.0",
      "model_name": "DescriptionStyleModel",
      "state": {
       "description_width": ""
      }
     },
     "68d2d71578624b2a8bec3ca140537f23": {
      "model_module": "@jupyter-widgets/controls",
      "model_module_version": "1.5.0",
      "model_name": "TextModel",
      "state": {
       "description": "Levels",
       "layout": "IPY_MODEL_ecf5ce54a90149ca887e396a4a9dbc46",
       "style": "IPY_MODEL_fb589368166c4518867184788c0048ae",
       "value": "4.0, 4.0, 4.0"
      }
     },
     "696e9d631f934202a26c98f507734140": {
      "model_module": "@jupyter-widgets/controls",
      "model_module_version": "1.5.0",
      "model_name": "DescriptionStyleModel",
      "state": {
       "description_width": ""
      }
     },
     "698334f0159c43f0ada00d52f7119452": {
      "model_module": "@jupyter-widgets/controls",
      "model_module_version": "1.5.0",
      "model_name": "DescriptionStyleModel",
      "state": {
       "description_width": ""
      }
     },
     "698b4b5a69c3436689de22182444d8f6": {
      "model_module": "@jupyter-widgets/controls",
      "model_module_version": "1.5.0",
      "model_name": "VBoxModel",
      "state": {
       "children": [
        "IPY_MODEL_1ec34672c31249afb4a9030f8eeb5ea4",
        "IPY_MODEL_0d2746252beb44cb99118e3e777e81b0",
        "IPY_MODEL_5def68349d5a4ef289e278f7e5325804",
        "IPY_MODEL_f7b89e8a007e44ac8c1a9af325b336ff",
        "IPY_MODEL_db2166ac1ec0438383cea4363dae1106"
       ],
       "layout": "IPY_MODEL_56d255c6495b422e8cd8eab204ffccd6"
      }
     },
     "69959835a4f648d1a07a5d7abf167266": {
      "model_module": "@jupyter-widgets/controls",
      "model_module_version": "1.5.0",
      "model_name": "DescriptionStyleModel",
      "state": {
       "description_width": ""
      }
     },
     "69d733b69cf7410689e2a2ab151a5e39": {
      "model_module": "@jupyter-widgets/controls",
      "model_module_version": "1.5.0",
      "model_name": "DescriptionStyleModel",
      "state": {
       "description_width": ""
      }
     },
     "69fd6a76de134673bea7477eaa4e41a7": {
      "model_module": "@jupyter-widgets/controls",
      "model_module_version": "1.5.0",
      "model_name": "TextModel",
      "state": {
       "continuous_update": false,
       "description": "Name:",
       "layout": "IPY_MODEL_5f7a34f39b014ac4b90a3a58bbdef570",
       "style": "IPY_MODEL_cd06ddba5411447abac839008917fff5",
       "value": "Octree_Mesh"
      }
     },
     "6a0b4900c23a41b9898bbad021598a59": {
      "model_module": "@jupyter-widgets/controls",
      "model_module_version": "1.5.0",
      "model_name": "DescriptionStyleModel",
      "state": {
       "description_width": "initial"
      }
     },
     "6a628c6307f44807ad03f455068e0666": {
      "model_module": "@jupyter-widgets/controls",
      "model_module_version": "1.5.0",
      "model_name": "VBoxModel",
      "state": {
       "children": [
        "IPY_MODEL_768d83a8e3ad459ca90f598f87e60114",
        "IPY_MODEL_5eefa5d088a04f60a2c90564787b50ce",
        "IPY_MODEL_a1388cbd72a04be7b699006ccf6f9304",
        "IPY_MODEL_b09b2ba4dcfc4e7e95aabff9b211e3ba",
        "IPY_MODEL_a2efbdbed39e48cd80fcd2aa01cebd75"
       ],
       "layout": "IPY_MODEL_6e07eefe56c744ca8f84b516538730b2"
      }
     },
     "6a713c29cf644c9bac49497e571f73ca": {
      "model_module": "@jupyter-widgets/controls",
      "model_module_version": "1.5.0",
      "model_name": "BoxModel",
      "state": {
       "children": [
        "IPY_MODEL_f191966393a845b6b880c2efbeaafd20"
       ],
       "layout": "IPY_MODEL_e6437ab2d47047249cb1306d26fc9f82"
      }
     },
     "6b2addbeb6ec460e9cf51a1bf78227a0": {
      "model_module": "@jupyter-widgets/base",
      "model_module_version": "1.2.0",
      "model_name": "LayoutModel",
      "state": {}
     },
     "6b79539c6589499885e243817c28b597": {
      "model_module": "@jupyter-widgets/controls",
      "model_module_version": "1.5.0",
      "model_name": "VBoxModel",
      "state": {
       "children": [
        "IPY_MODEL_45a54c647d694d7384625b55f648b915",
        "IPY_MODEL_3ed4de597c514e7192972688cde769d9"
       ],
       "layout": "IPY_MODEL_821e4a53189143569fcfa6652cbf529b"
      }
     },
     "6bd90d158d794d108b60abfbdec1a526": {
      "model_module": "@jupyter-widgets/controls",
      "model_module_version": "1.5.0",
      "model_name": "DropdownModel",
      "state": {
       "_options_labels": [
        "C:\\Users\\dominiquef\\Documents\\GIT\\mira\\geoapps\\docs\\content\\applications",
        "C:\\Users\\dominiquef\\Documents\\GIT\\mira\\geoapps\\docs\\content",
        "C:\\Users\\dominiquef\\Documents\\GIT\\mira\\geoapps\\docs",
        "C:\\Users\\dominiquef\\Documents\\GIT\\mira\\geoapps",
        "C:\\Users\\dominiquef\\Documents\\GIT\\mira",
        "C:\\Users\\dominiquef\\Documents\\GIT",
        "C:\\Users\\dominiquef\\Documents",
        "C:\\Users\\dominiquef",
        "C:\\Users",
        "C:\\",
        "D:\\",
        "Z:\\"
       ],
       "index": 0,
       "layout": "IPY_MODEL_1e32e47785dc427c9720052754b86085",
       "style": "IPY_MODEL_34566ced21de45a8afd928c6d9c6eeda"
      }
     },
     "6be10ae7f1a34604941bb9e1d155f489": {
      "model_module": "@jupyter-widgets/controls",
      "model_module_version": "1.5.0",
      "model_name": "SelectModel",
      "state": {
       "_options_labels": [
        "📁 ..",
        "📁 SimPEG_PFInversion",
        "📁 Temp",
        "📁 dask-worker-space",
        "DC_INV.ipynb",
        "DC_INV.py",
        "FlinFlon.geoh5",
        "FlinFlon_dcip.geoh5",
        "HelloWorld.ui.json",
        "MtDore_TMI.geoh5",
        "PeakFinder.ui.json",
        "VTEM_model.mod",
        "input.ui.json",
        "options_tree.json"
       ],
       "index": 6,
       "layout": "IPY_MODEL_13b6bc825e4a486eb9d0c390574672d3",
       "rows": 8,
       "style": "IPY_MODEL_74e7a5ef67eb43b589b65cb2f1f8f650"
      }
     },
     "6c332cf4c22b457e810a782ad21485d8": {
      "model_module": "@jupyter-widgets/base",
      "model_module_version": "1.2.0",
      "model_name": "LayoutModel",
      "state": {}
     },
     "6c66a2cfe4a246d791d15f36c46a9be2": {
      "model_module": "@jupyter-widgets/controls",
      "model_module_version": "1.5.0",
      "model_name": "DescriptionStyleModel",
      "state": {
       "description_width": "initial"
      }
     },
     "6ca403c07f794d468ff74645d4e2af05": {
      "model_module": "@jupyter-widgets/controls",
      "model_module_version": "1.5.0",
      "model_name": "DescriptionStyleModel",
      "state": {
       "description_width": ""
      }
     },
     "6ce2470f17b143d98f81af307d6b2700": {
      "model_module": "@jupyter-widgets/controls",
      "model_module_version": "1.5.0",
      "model_name": "FloatTextModel",
      "state": {
       "description": "Distance",
       "layout": "IPY_MODEL_66644eb6a1e74c96998ce622cf17489a",
       "step": null,
       "style": "IPY_MODEL_d1a1b81ce5ce471284127a83610f34aa",
       "value": 1000
      }
     },
     "6ce823de23c84bf5b13f9c10de378265": {
      "model_module": "@jupyter-widgets/controls",
      "model_module_version": "1.5.0",
      "model_name": "DescriptionStyleModel",
      "state": {
       "description_width": "initial"
      }
     },
     "6cf8cd1827034bbfaf59f4aa4fec29a9": {
      "model_module": "@jupyter-widgets/controls",
      "model_module_version": "1.5.0",
      "model_name": "VBoxModel",
      "state": {
       "children": [
        "IPY_MODEL_2a3f137c35924f4fa30859f7ef09f140",
        "IPY_MODEL_069d9dd0bd364cd19d8b91ebdc76a324"
       ],
       "layout": "IPY_MODEL_21e3daa473684454a4b9f6a97c45010a"
      }
     },
     "6d25d9154b674052a56d75b00cf28898": {
      "model_module": "@jupyter-widgets/base",
      "model_module_version": "1.2.0",
      "model_name": "LayoutModel",
      "state": {
       "width": "auto"
      }
     },
     "6d4c9180ed034c928755aa0f0f11f95b": {
      "model_module": "@jupyter-widgets/base",
      "model_module_version": "1.2.0",
      "model_name": "LayoutModel",
      "state": {}
     },
     "6d7188ee18ac4674909b5b7f0742cc55": {
      "model_module": "@jupyter-widgets/controls",
      "model_module_version": "1.5.0",
      "model_name": "DescriptionStyleModel",
      "state": {
       "description_width": ""
      }
     },
     "6d9bf373797d44dc852a405560702059": {
      "model_module": "@jupyter-widgets/base",
      "model_module_version": "1.2.0",
      "model_name": "LayoutModel",
      "state": {
       "width": "auto"
      }
     },
     "6dddbdcff68740bb8f982c0c6ee64bf4": {
      "model_module": "@jupyter-widgets/controls",
      "model_module_version": "1.5.0",
      "model_name": "ButtonModel",
      "state": {
       "description": "Create copy:",
       "layout": "IPY_MODEL_cea62aa2117245d59e011c774bfa0613",
       "style": "IPY_MODEL_bf83d6af8d7b45b8aac312273d82ee2a"
      }
     },
     "6e07eefe56c744ca8f84b516538730b2": {
      "model_module": "@jupyter-widgets/base",
      "model_module_version": "1.2.0",
      "model_name": "LayoutModel",
      "state": {
       "border": "solid"
      }
     },
     "6e1dc833e97c439db504180cddba5340": {
      "model_module": "@jupyter-widgets/base",
      "model_module_version": "1.2.0",
      "model_name": "LayoutModel",
      "state": {
       "grid_area": "dircontent",
       "width": "auto"
      }
     },
     "6e7ed268ba58493babea755586cd815d": {
      "model_module": "@jupyter-widgets/controls",
      "model_module_version": "1.5.0",
      "model_name": "VBoxModel",
      "state": {
       "children": [
        "IPY_MODEL_aebe95d16edd46daa5bc11f2e5cc2fbf",
        "IPY_MODEL_87ef01821bdb4b1dab39295bf9010948",
        "IPY_MODEL_ae0adf3e443d4d6399394a66c9608238"
       ],
       "layout": "IPY_MODEL_65393c27a42d458aa8be577b9493582b"
      }
     },
     "6e88551537f1432b9d852e71e7cb0eb9": {
      "model_module": "@jupyter-widgets/controls",
      "model_module_version": "1.5.0",
      "model_name": "DescriptionStyleModel",
      "state": {
       "description_width": ""
      }
     },
     "6ec7a87f5dfc45528ae4381307e450b7": {
      "model_module": "@jupyter-widgets/controls",
      "model_module_version": "1.5.0",
      "model_name": "VBoxModel",
      "state": {
       "children": [
        "IPY_MODEL_73a5b556c64647ed925d6247b5f667a0",
        "IPY_MODEL_1a09531fe8424e87a9552d6c45c63a8f",
        "IPY_MODEL_99305026c639406e88f8b974973bcee1"
       ],
       "layout": "IPY_MODEL_78f5f40dbaf74481a0596a7376b9642b"
      }
     },
     "6eda371b4dc5422ea2f2f3fd5b665f45": {
      "model_module": "@jupyter-widgets/controls",
      "model_module_version": "1.5.0",
      "model_name": "FloatTextModel",
      "state": {
       "description": "Vertical",
       "layout": "IPY_MODEL_1989dde5949f43368db8865fb7e19255",
       "step": null,
       "style": "IPY_MODEL_4abdb914849544c2a89bf832b031e545",
       "value": 25
      }
     },
     "6f1a7e1e8ad84b0f861b0c8d0e1fef2c": {
      "model_module": "@jupyter-widgets/controls",
      "model_module_version": "1.5.0",
      "model_name": "BoxModel",
      "state": {
       "children": [
        "IPY_MODEL_a1a1604daed54e51b2c6032da03d48a9"
       ],
       "layout": "IPY_MODEL_912bbdf83e1c4be49d182977958ea656"
      }
     },
     "6f329f538462434dbdb4f497d5267ba5": {
      "model_module": "@jupyter-widgets/base",
      "model_module_version": "1.2.0",
      "model_name": "LayoutModel",
      "state": {}
     },
     "6f5ca08399cc4dbd9cc26e0ffbaf669d": {
      "model_module": "@jupyter-widgets/controls",
      "model_module_version": "1.5.0",
      "model_name": "ButtonModel",
      "state": {
       "description": "Create copy:",
       "layout": "IPY_MODEL_dd75e4b2cc584ba895e9cec1f4372b83",
       "style": "IPY_MODEL_798e21bf219b401a90752edd55e74e47"
      }
     },
     "6f8cd3009bd84ee2a1fe3c97b19a4ccd": {
      "model_module": "@jupyter-widgets/controls",
      "model_module_version": "1.5.0",
      "model_name": "DescriptionStyleModel",
      "state": {
       "description_width": ""
      }
     },
     "6fae75f5103640b299471cc54cf187f2": {
      "model_module": "@jupyter-widgets/controls",
      "model_module_version": "1.5.0",
      "model_name": "HBoxModel",
      "state": {
       "children": [
        "IPY_MODEL_2b4d034bee1e4974b1bf97da398080d3",
        "IPY_MODEL_66c5e48434ec42839db9fc9dc75362c3",
        "IPY_MODEL_aae49a1c3dd4482d8506764790e6fcd4"
       ],
       "layout": "IPY_MODEL_b8695f4ce899424faa68524b4d2f4d19"
      }
     },
     "6ffd93bc6eb24213a02dd17136016bb5": {
      "model_module": "@jupyter-widgets/controls",
      "model_module_version": "1.5.0",
      "model_name": "DescriptionStyleModel",
      "state": {
       "description_width": ""
      }
     },
     "6ffecac02d224599aa57b19e48390fac": {
      "model_module": "@jupyter-widgets/base",
      "model_module_version": "1.2.0",
      "model_name": "LayoutModel",
      "state": {
       "display": "none",
       "min_width": "6em",
       "width": "6em"
      }
     },
     "70183160131a4e429dadc5ab784cf56b": {
      "model_module": "@jupyter-widgets/controls",
      "model_module_version": "1.5.0",
      "model_name": "DescriptionStyleModel",
      "state": {
       "description_width": "initial"
      }
     },
     "702e2a52b1054a69b032bf3a63021e30": {
      "model_module": "@jupyter-widgets/controls",
      "model_module_version": "1.5.0",
      "model_name": "DescriptionStyleModel",
      "state": {
       "description_width": "initial"
      }
     },
     "707cb5cc8844407888262583cc8c63e8": {
      "model_module": "@jupyter-widgets/base",
      "model_module_version": "1.2.0",
      "model_name": "LayoutModel",
      "state": {}
     },
     "709bf62ebbcb4a179b42e48a77470271": {
      "model_module": "@jupyter-widgets/controls",
      "model_module_version": "1.5.0",
      "model_name": "DropdownModel",
      "state": {
       "_options_labels": [
        "surface",
        "radial"
       ],
       "description": "Type",
       "index": 0,
       "layout": "IPY_MODEL_dae47057c60b4631a19368ca446ef903",
       "style": "IPY_MODEL_045975fea9c3470e9524e05800b8b1b9"
      }
     },
     "70b4687ee72a40cf860e776c3280b376": {
      "model_module": "@jupyter-widgets/base",
      "model_module_version": "1.2.0",
      "model_name": "LayoutModel",
      "state": {}
     },
     "70ef41d4b55941c7bb6567810cd15ded": {
      "model_module": "@jupyter-widgets/controls",
      "model_module_version": "1.5.0",
      "model_name": "DescriptionStyleModel",
      "state": {
       "description_width": "initial"
      }
     },
     "715672c96e6b4be69398073d302ca609": {
      "model_module": "@jupyter-widgets/controls",
      "model_module_version": "1.5.0",
      "model_name": "DescriptionStyleModel",
      "state": {
       "description_width": "initial"
      }
     },
     "7166d23a17a6403dacd3dd022be6eb49": {
      "model_module": "@jupyter-widgets/controls",
      "model_module_version": "1.5.0",
      "model_name": "ButtonStyleModel",
      "state": {}
     },
     "72974d8a124f41f9bc27e4c11418e888": {
      "model_module": "@jupyter-widgets/controls",
      "model_module_version": "1.5.0",
      "model_name": "DescriptionStyleModel",
      "state": {
       "description_width": ""
      }
     },
     "729eacb035684f3c8427c763272c7cf7": {
      "model_module": "@jupyter-widgets/base",
      "model_module_version": "1.2.0",
      "model_name": "LayoutModel",
      "state": {}
     },
     "72a3f8713ade4d309fc2d21bd71d5f52": {
      "model_module": "@jupyter-widgets/controls",
      "model_module_version": "1.5.0",
      "model_name": "HTMLModel",
      "state": {
       "layout": "IPY_MODEL_5ae93bc1b24e4562a4525c5c75aa213b",
       "style": "IPY_MODEL_bf5124e047924b258e9057301f8dc30b"
      }
     },
     "72a9424202ba4863b418fd4aa67a9c82": {
      "model_module": "@jupyter-widgets/controls",
      "model_module_version": "1.5.0",
      "model_name": "LabelModel",
      "state": {
       "layout": "IPY_MODEL_3cebd538b61a450ab378c4e0c36357f8",
       "style": "IPY_MODEL_0e77456f61924a64b3c25c725046dca5",
       "value": "Monitoring folder"
      }
     },
     "72d28b0216c04cb5b1ff25b6170f5919": {
      "model_module": "@jupyter-widgets/controls",
      "model_module_version": "1.5.0",
      "model_name": "FloatTextModel",
      "state": {
       "description": "Northing",
       "layout": "IPY_MODEL_ec9ee09fc11c4674baa34be2f9535059",
       "step": null,
       "style": "IPY_MODEL_036417679a0e474d82b844232edda2f5",
       "value": 25
      }
     },
     "72e9072c18244338ac9a36f02a86b4fe": {
      "model_module": "@jupyter-widgets/base",
      "model_module_version": "1.2.0",
      "model_name": "LayoutModel",
      "state": {}
     },
     "732a0a6efdea40bb83efa7497da9e533": {
      "model_module": "@jupyter-widgets/controls",
      "model_module_version": "1.5.0",
      "model_name": "DescriptionStyleModel",
      "state": {
       "description_width": "initial"
      }
     },
     "73616c7a278c4cc7944b69921b0dc685": {
      "model_module": "@jupyter-widgets/base",
      "model_module_version": "1.2.0",
      "model_name": "LayoutModel",
      "state": {}
     },
     "736d3198e4b44df19165dd51ea26da35": {
      "model_module": "@jupyter-widgets/controls",
      "model_module_version": "1.5.0",
      "model_name": "DescriptionStyleModel",
      "state": {
       "description_width": "initial"
      }
     },
     "73752c1b377144b1912af29a8822f1fc": {
      "model_module": "@jupyter-widgets/controls",
      "model_module_version": "1.5.0",
      "model_name": "DropdownModel",
      "state": {
       "_options_labels": [
        "",
        "CoordinateTransformation/Data_TEM_pseudo3DEPSG_4326",
        "CoordinateTransformation/Data_TEM_pseudo3DEPSG_4326",
        "Faults_Dikes/fault_splay1",
        "Faults_Dikes/fault_Cliff_Lake",
        "Faults_Dikes/fault_Other_FlinFlon",
        "Faults_Dikes/fault_Club_Lake_splay",
        "Faults_Dikes/fault_Catherine_splay2",
        "Faults_Dikes/fault_Birch_View",
        "Faults_Dikes/fault_Dion_Lake",
        "Faults_Dikes/fault_FlinFlon_splay",
        "Faults_Dikes/fault_West_Mandy_Road",
        "Faults_Dikes/fault_Channing",
        "Faults_Dikes/fault_Ross_Lake",
        "Faults_Dikes/fault_Louis_Hidden",
        "Faults_Dikes/fault_Lake_View_thrust",
        "Faults_Dikes/contact_Schist_Lake",
        "Faults_Dikes/fault_Burley_Lake",
        "Faults_Dikes/fault_Dion_Lake_splay",
        "Faults_Dikes/fault_Green_Lake",
        "Faults_Dikes/fault_FlinFlon",
        "Faults_Dikes/fault_Catherine_splay1",
        "Faults_Dikes/fault_East_Mandy_Road",
        "Faults_Dikes/fault_Other_FlinFlon_South",
        "Faults_Dikes/fault_Catherine_splay4",
        "Faults_Dikes/contact_Stitt_Island",
        "Faults_Dikes/fault_Club_Lake",
        "Faults_Dikes/fault_Tailing_Pond",
        "Horizons/35_Hidden_Reservoir_Hr5",
        "Horizons/29_Hidden_Reservoir_Hr1a",
        "Horizons/60_BlueLagoon_Fb2",
        "Horizons/20_FlinFlon_Undivided_Int_Dykes_D2f",
        "Horizons/04_Boundary_Intrusive_S4h",
        "Horizons/53_Millrock_Rhyolite_Fm4b",
        "Horizons/19_FlinFlon_Undivided_Int_Dykes_D2b",
        "Horizons/18_FlinFlon_Undivided_Int_Dykes_777_D2b",
        "Horizons/06_Phantom_Lake_Intrusive_S3a",
        "Horizons/21_FlinFlon_Undivided_Int_Dykes_D3a",
        "Horizons/43_Millrock_CHLSH_South",
        "Horizons/56_Millrock_Basalt_Fm1ba",
        "Horizons/17_FlinFlon_Undivided_Int_Dykes_D2",
        "Horizons/32_Hidden_Reservoir_Hr1b_SW",
        "Horizons/11_Missi_M3_NE",
        "Horizons/13_Missi_M1",
        "Horizons/07_Annabel_Granitoid_S1",
        "Horizons/45_Millrock_Gabbro_South",
        "Horizons/01_Late_Intrusive_S5b",
        "Horizons/31_Hidden_Reservoir_Hr1c_SW",
        "Horizons/52_Millrock_Rhyolite_Fm4_West_check",
        "Horizons/55_Millrock_Basalt_Fm1bf",
        "Horizons/34_Hidden_Reservoir_Hr2b",
        "Horizons/03_Boundary_Intrusive_S4b",
        "Horizons/42_Millrock_CHLSH_North",
        "Horizons/26_Louis_L3",
        "Horizons/23_FlinFlon_Undivided_Int_Felsic_D4g",
        "Horizons/30_Hidden_Reservoir_Hr1b",
        "Horizons/59_BlueLagoon_Fb3",
        "Horizons/49_Millrock_MVR_Fm5d",
        "Horizons/44_Millrock_Gabbro_North",
        "Horizons/27_Hidden_Carlisle_Hc4",
        "Horizons/22_FlinFlon_Undivided_Int_Felsic_D4e",
        "Horizons/02_Boundary_Intrusive_S4a",
        "Horizons/61_BlueLagoon_Fb1_NW",
        "Horizons/05_Boundary_Intrusive_S4g",
        "Ore/39_Ore_Callinan",
        "Ore/38_Ore_Dan_Owens",
        "Ore/40_Ore_FlinFlon",
        "Workspace/Inversion_VTEM_Model",
        "Workspace/CDI_VTEM_model",
        "Workspace/Data_FEM_pseudo3D",
        "Workspace/geochem",
        "Workspace/Inversion_DIGHEM_Model",
        "Workspace/Topography",
        "Workspace/Data_TEM_pseudo3D",
        "Workspace/Data_ZTEM",
        "Workspace/Mesh"
       ],
       "description": "Core hull extent:",
       "index": 69,
       "layout": "IPY_MODEL_4c18aaae47054ebe8e28bdb3792d176a",
       "style": "IPY_MODEL_5c9d4eeb87d243188426b9dfe9b72d2b"
      }
     },
     "73a5b556c64647ed925d6247b5f667a0": {
      "model_module": "@jupyter-widgets/controls",
      "model_module_version": "1.5.0",
      "model_name": "HTMLModel",
      "state": {
       "layout": "IPY_MODEL_4c50addcf299454f97b4c9f430b41644",
       "style": "IPY_MODEL_a9d44dc95ebc417eb29ba4646593422f"
      }
     },
     "73e2c46fbaa8424895d7c2178f937c40": {
      "model_module": "@jupyter-widgets/controls",
      "model_module_version": "1.5.0",
      "model_name": "FloatTextModel",
      "state": {
       "description": "Distance",
       "layout": "IPY_MODEL_524c98c10f5f49768ca249c2ccbb36aa",
       "step": null,
       "style": "IPY_MODEL_3ee98ae972d14a20ad2404eb7d7e362d",
       "value": 1000
      }
     },
     "73fff0b480284c8e9dffe4549d2d0b3a": {
      "model_module": "@jupyter-widgets/controls",
      "model_module_version": "1.5.0",
      "model_name": "VBoxModel",
      "state": {
       "children": [
        "IPY_MODEL_64b889826d804e2389276adec7795b02",
        "IPY_MODEL_bb9879d1caae4bb396f2ca45b10a93e7"
       ],
       "layout": "IPY_MODEL_ac7b4c3e95144e1995c5544db2401ae7"
      }
     },
     "7425b8d060a24b2f9f62d05b25093cf1": {
      "model_module": "@jupyter-widgets/base",
      "model_module_version": "1.2.0",
      "model_name": "LayoutModel",
      "state": {}
     },
     "74385521514f48d4b2a1b13bc9eee27c": {
      "model_module": "@jupyter-widgets/controls",
      "model_module_version": "1.5.0",
      "model_name": "DescriptionStyleModel",
      "state": {
       "description_width": "initial"
      }
     },
     "74594d6878b049bf80690fe982e0b9b3": {
      "model_module": "@jupyter-widgets/base",
      "model_module_version": "1.2.0",
      "model_name": "LayoutModel",
      "state": {}
     },
     "746b21cb9d654012818eebc53655325d": {
      "model_module": "@jupyter-widgets/controls",
      "model_module_version": "1.5.0",
      "model_name": "DescriptionStyleModel",
      "state": {
       "description_width": "initial"
      }
     },
     "746b566d6927406282a348b9c043422f": {
      "model_module": "@jupyter-widgets/controls",
      "model_module_version": "1.5.0",
      "model_name": "ButtonModel",
      "state": {
       "button_style": "danger",
       "description": "Create",
       "icon": "check",
       "layout": "IPY_MODEL_632fe3d53f24486a9e2fff89604d9384",
       "style": "IPY_MODEL_cf0d987e5cdf429f85c2303473d85ee3",
       "tooltip": "Run computation"
      }
     },
     "748e617bc13c4a4f80cbd9cbdd84f5cb": {
      "model_module": "@jupyter-widgets/controls",
      "model_module_version": "1.5.0",
      "model_name": "HTMLModel",
      "state": {
       "layout": "IPY_MODEL_ecbd5df10cc14f438b4d9edf0fc89789",
       "placeholder": "",
       "style": "IPY_MODEL_e91b74e61014411da5f8bc6d9ab4617f",
       "value": "<span style=\"margin-left:10px; color:black;\">No file selected</span>"
      }
     },
     "7496132110fa4959bd761c1a19c9bb10": {
      "model_module": "@jupyter-widgets/controls",
      "model_module_version": "1.5.0",
      "model_name": "LabelModel",
      "state": {
       "layout": "IPY_MODEL_85091b2156af44edbf4071f4441ffad4",
       "style": "IPY_MODEL_204b8129878845a49db3ae9114f90c7b",
       "value": "Refinement b "
      }
     },
     "74964bb90505436b8983ab395ce1f5d2": {
      "model_module": "@jupyter-widgets/base",
      "model_module_version": "1.2.0",
      "model_name": "LayoutModel",
      "state": {}
     },
     "74e7a5ef67eb43b589b65cb2f1f8f650": {
      "model_module": "@jupyter-widgets/controls",
      "model_module_version": "1.5.0",
      "model_name": "DescriptionStyleModel",
      "state": {
       "description_width": ""
      }
     },
     "751871ebaeb44727ab75d1693532ed88": {
      "model_module": "@jupyter-widgets/base",
      "model_module_version": "1.2.0",
      "model_name": "LayoutModel",
      "state": {}
     },
     "7526a51f24ad4f239d406438ac54bfdb": {
      "model_module": "@jupyter-widgets/controls",
      "model_module_version": "1.5.0",
      "model_name": "DescriptionStyleModel",
      "state": {
       "description_width": ""
      }
     },
     "752cf725794a406f94ea47661b7c4e48": {
      "model_module": "@jupyter-widgets/controls",
      "model_module_version": "1.5.0",
      "model_name": "ButtonStyleModel",
      "state": {}
     },
     "755771fed430459e8a215928f9ff981a": {
      "model_module": "@jupyter-widgets/controls",
      "model_module_version": "1.5.0",
      "model_name": "VBoxModel",
      "state": {
       "children": [
        "IPY_MODEL_2f0948e583784d5aa71260af1d838e9a",
        "IPY_MODEL_2001bf1a29bf41538966d5b28f18d24f",
        "IPY_MODEL_773a1d62046e4f87a7af4dc46e5a0b62",
        "IPY_MODEL_bb999750cf2f44408a4db2f81346a200",
        "IPY_MODEL_c05902ff1a924423adad065cd741e72f",
        "IPY_MODEL_14eae3d3f33744ed8c042d5c84ce1051",
        "IPY_MODEL_85e0f589f3834aa28c49cccd61ce048c",
        "IPY_MODEL_e4ea6101ae1e4b3ab934643b0730cfad",
        "IPY_MODEL_0b0f69f6b5a8455f9ee995940c2e1bc7",
        "IPY_MODEL_4db139bfdb00437eb6b317d9b26e92d6"
       ],
       "layout": "IPY_MODEL_98913b9f4fe944938a09b486342fa9aa"
      }
     },
     "758df548b33241cdb4d518bd27f6a3ce": {
      "model_module": "@jupyter-widgets/base",
      "model_module_version": "1.2.0",
      "model_name": "LayoutModel",
      "state": {
       "border": "solid"
      }
     },
     "768d83a8e3ad459ca90f598f87e60114": {
      "model_module": "@jupyter-widgets/controls",
      "model_module_version": "1.5.0",
      "model_name": "LabelModel",
      "state": {
       "layout": "IPY_MODEL_08b6c702d2174d8bb9901ea8dc245caf",
       "style": "IPY_MODEL_9fc99f28aa7c42ae90608f2e477dc548",
       "value": "Refinement b "
      }
     },
     "769b0d91beb54803a4a4d944195eae0b": {
      "model_module": "@jupyter-widgets/controls",
      "model_module_version": "1.5.0",
      "model_name": "DescriptionStyleModel",
      "state": {
       "description_width": "initial"
      }
     },
     "76c1a73440fc4e548855731d4d3534aa": {
      "model_module": "@jupyter-widgets/base",
      "model_module_version": "1.2.0",
      "model_name": "LayoutModel",
      "state": {}
     },
     "76dfe139b6c14ffab56c2e4c47a35f00": {
      "model_module": "@jupyter-widgets/controls",
      "model_module_version": "1.5.0",
      "model_name": "DescriptionStyleModel",
      "state": {
       "description_width": "initial"
      }
     },
     "76fb34fa72e746439ee0d070dd703a36": {
      "model_module": "@jupyter-widgets/controls",
      "model_module_version": "1.5.0",
      "model_name": "ButtonStyleModel",
      "state": {}
     },
     "773a1d62046e4f87a7af4dc46e5a0b62": {
      "model_module": "@jupyter-widgets/controls",
      "model_module_version": "1.5.0",
      "model_name": "FloatTextModel",
      "state": {
       "description": "Minimum depth (m)",
       "layout": "IPY_MODEL_391e84767af6452e8f1e95a4a170ca39",
       "step": null,
       "style": "IPY_MODEL_746b21cb9d654012818eebc53655325d",
       "value": 500
      }
     },
     "77cb88170a1d455f88a97351ffdd3730": {
      "model_module": "@jupyter-widgets/base",
      "model_module_version": "1.2.0",
      "model_name": "LayoutModel",
      "state": {}
     },
     "78408ff3335a40ab864db632192fd1f5": {
      "model_module": "@jupyter-widgets/base",
      "model_module_version": "1.2.0",
      "model_name": "LayoutModel",
      "state": {}
     },
     "7882d3074f1c44d0ba61f60fc0d1d9c7": {
      "model_module": "@jupyter-widgets/controls",
      "model_module_version": "1.5.0",
      "model_name": "DescriptionStyleModel",
      "state": {
       "description_width": ""
      }
     },
     "788f933a70dc422785c0605bc0eb138e": {
      "model_module": "@jupyter-widgets/controls",
      "model_module_version": "1.5.0",
      "model_name": "DescriptionStyleModel",
      "state": {
       "description_width": ""
      }
     },
     "78f5f40dbaf74481a0596a7376b9642b": {
      "model_module": "@jupyter-widgets/base",
      "model_module_version": "1.2.0",
      "model_name": "LayoutModel",
      "state": {
       "width": "500px"
      }
     },
     "7909176b50194b5688c4f66a2e55e563": {
      "model_module": "@jupyter-widgets/base",
      "model_module_version": "1.2.0",
      "model_name": "LayoutModel",
      "state": {}
     },
     "79267685e89b4f4c83bc73148f4057a0": {
      "model_module": "@jupyter-widgets/controls",
      "model_module_version": "1.5.0",
      "model_name": "DropdownModel",
      "state": {
       "_options_labels": [
        "C:\\Users\\dominiquef\\Documents\\GIT\\mira\\geoapps\\assets",
        "C:\\Users\\dominiquef\\Documents\\GIT\\mira\\geoapps",
        "C:\\Users\\dominiquef\\Documents\\GIT\\mira",
        "C:\\Users\\dominiquef\\Documents\\GIT",
        "C:\\Users\\dominiquef\\Documents",
        "C:\\Users\\dominiquef",
        "C:\\Users",
        "C:\\",
        "D:\\",
        "G:\\",
        "\\\\EgnyteDrive\\mirageoscience\\"
       ],
       "index": 0,
       "layout": "IPY_MODEL_fba453113c5746c3ab9d142bf08c73aa",
       "style": "IPY_MODEL_47a966b8db7e40329f3624a1cd991a40"
      }
     },
     "795fa2c1caa44398a9b0e292451e6d31": {
      "model_module": "@jupyter-widgets/controls",
      "model_module_version": "1.5.0",
      "model_name": "VBoxModel",
      "state": {
       "children": [
        "IPY_MODEL_72a3f8713ade4d309fc2d21bd71d5f52",
        "IPY_MODEL_871e2a485e194b13a6658bb7c5a8e104",
        "IPY_MODEL_bdea35a1891a4c03ae4c4a3beead6f40"
       ],
       "layout": "IPY_MODEL_0e163795b26d45c7987c995fb7a4c96a"
      }
     },
     "798e21bf219b401a90752edd55e74e47": {
      "model_module": "@jupyter-widgets/controls",
      "model_module_version": "1.5.0",
      "model_name": "ButtonStyleModel",
      "state": {}
     },
     "79ca1af8feaf46daa3547ddaf97fb0d3": {
      "model_module": "@jupyter-widgets/controls",
      "model_module_version": "1.5.0",
      "model_name": "VBoxModel",
      "state": {
       "children": [
        "IPY_MODEL_f6dd8d4ed30448b2b7d7fc0d8ebb1b8e",
        "IPY_MODEL_3b6b77edb85e4143878618b44a8b8d56"
       ],
       "layout": "IPY_MODEL_73616c7a278c4cc7944b69921b0dc685"
      }
     },
     "7a6899c68c1c48d8a1f5342d0e9a4662": {
      "model_module": "@jupyter-widgets/controls",
      "model_module_version": "1.5.0",
      "model_name": "DescriptionStyleModel",
      "state": {
       "description_width": "initial"
      }
     },
     "7acbc250b36944d2951752199557c837": {
      "model_module": "@jupyter-widgets/base",
      "model_module_version": "1.2.0",
      "model_name": "LayoutModel",
      "state": {}
     },
     "7b0ba12f90cc4b43a89d4c1f791088dd": {
      "model_module": "@jupyter-widgets/controls",
      "model_module_version": "1.5.0",
      "model_name": "DescriptionStyleModel",
      "state": {
       "description_width": ""
      }
     },
     "7b22d58070394c01b3b7893d3579a01c": {
      "model_module": "@jupyter-widgets/base",
      "model_module_version": "1.2.0",
      "model_name": "LayoutModel",
      "state": {
       "grid_area": "pathlist",
       "width": "auto"
      }
     },
     "7b3d7c0f361d4c4283a6608b68dc9eb6": {
      "model_module": "@jupyter-widgets/controls",
      "model_module_version": "1.5.0",
      "model_name": "LabelModel",
      "state": {
       "layout": "IPY_MODEL_c7f93566e26448e1a7a6766e401c4e9b",
       "style": "IPY_MODEL_ed857db52cc2456da21bcad559a7e037",
       "value": "Core cell size"
      }
     },
     "7b4b95837da44bfcaa374103cb543a6a": {
      "model_module": "@jupyter-widgets/base",
      "model_module_version": "1.2.0",
      "model_name": "LayoutModel",
      "state": {
       "display": "none",
       "grid_gap": "0px 0px",
       "grid_template_areas": "\n                    'pathlist filename'\n                    'dircontent dircontent'\n                    ",
       "grid_template_columns": "60% 40%",
       "grid_template_rows": "auto auto",
       "width": "500px"
      }
     },
     "7b80df5c649e4ce79a40a8f6d6c18d7c": {
      "model_module": "@jupyter-widgets/base",
      "model_module_version": "1.2.0",
      "model_name": "LayoutModel",
      "state": {}
     },
     "7b92d1bf8705493bb04f62f47699201f": {
      "model_module": "@jupyter-widgets/controls",
      "model_module_version": "1.5.0",
      "model_name": "LabelModel",
      "state": {
       "layout": "IPY_MODEL_5498dc7b7a904c9a919e921f9dfd9e01",
       "style": "IPY_MODEL_a9cdada425a24c8da22850a6767eba3b",
       "value": "Base Parameters"
      }
     },
     "7ba7f5f7e5b2447f9d3fe57242a7bb10": {
      "model_module": "@jupyter-widgets/controls",
      "model_module_version": "1.5.0",
      "model_name": "ButtonModel",
      "state": {
       "description": "Cancel",
       "layout": "IPY_MODEL_4f28b85512674e25b37356f712823fe1",
       "style": "IPY_MODEL_4be9bca21eb241ab8c40decfe2e44878"
      }
     },
     "7c2367ed717a4a77b9ddb49a7570732a": {
      "model_module": "@jupyter-widgets/controls",
      "model_module_version": "1.5.0",
      "model_name": "DescriptionStyleModel",
      "state": {
       "description_width": ""
      }
     },
     "7c5b70e40b844e3792b446f4447a1644": {
      "model_module": "@jupyter-widgets/controls",
      "model_module_version": "1.5.0",
      "model_name": "DescriptionStyleModel",
      "state": {
       "description_width": "initial"
      }
     },
     "7c5c32e8310840fabe3329a8ae10cbdd": {
      "model_module": "@jupyter-widgets/controls",
      "model_module_version": "1.5.0",
      "model_name": "VBoxModel",
      "state": {
       "children": [
        "IPY_MODEL_65f1ccbfd0bf4934b5dc6eefcfb9b1bc",
        "IPY_MODEL_9101b93f55d0419b859ef308b09bebd6",
        "IPY_MODEL_b808e31432a34e71a6ee308963e9c174",
        "IPY_MODEL_f083ccc0a3204eb0920cc3545e73382a",
        "IPY_MODEL_e1970f1a8d2b4b678f78b490e9fa8dbf"
       ],
       "layout": "IPY_MODEL_3b6a47f3314d422ab6b11ee6b9c8e029"
      }
     },
     "7c9b026974a34907856d7031628946cb": {
      "model_module": "@jupyter-widgets/base",
      "model_module_version": "1.2.0",
      "model_name": "LayoutModel",
      "state": {}
     },
     "7ca4f1503be349bd8f17c37117eee528": {
      "model_module": "@jupyter-widgets/base",
      "model_module_version": "1.2.0",
      "model_name": "LayoutModel",
      "state": {
       "width": "auto"
      }
     },
     "7cbb4a09d3134a6b88bedbc6ab2363d1": {
      "model_module": "@jupyter-widgets/controls",
      "model_module_version": "1.5.0",
      "model_name": "DescriptionStyleModel",
      "state": {
       "description_width": ""
      }
     },
     "7cde37f026344dc8a07c81f0561f0bab": {
      "model_module": "@jupyter-widgets/controls",
      "model_module_version": "1.5.0",
      "model_name": "VBoxModel",
      "state": {
       "children": [
        "IPY_MODEL_79ca1af8feaf46daa3547ddaf97fb0d3",
        "IPY_MODEL_b14bc4b9bf6143fc95d0df95a303d9e7"
       ],
       "layout": "IPY_MODEL_751871ebaeb44727ab75d1693532ed88"
      }
     },
     "7d6d260ac0a34dc8a2ab1ea78a7d2707": {
      "model_module": "@jupyter-widgets/base",
      "model_module_version": "1.2.0",
      "model_name": "LayoutModel",
      "state": {
       "width": "auto"
      }
     },
     "7d908c45c39e4127aef9af2154ad1359": {
      "model_module": "@jupyter-widgets/controls",
      "model_module_version": "1.5.0",
      "model_name": "DescriptionStyleModel",
      "state": {
       "description_width": ""
      }
     },
     "7de8aee2c0a345b299ad3596ad0e3553": {
      "model_module": "@jupyter-widgets/base",
      "model_module_version": "1.2.0",
      "model_name": "LayoutModel",
      "state": {
       "border": "solid"
      }
     },
     "7e3b0e1d19d94b828ac5914b90fe81ba": {
      "model_module": "@jupyter-widgets/controls",
      "model_module_version": "1.5.0",
      "model_name": "DescriptionStyleModel",
      "state": {
       "description_width": ""
      }
     },
     "7e6383dbb3b14c3faa390929e2616faf": {
      "model_module": "@jupyter-widgets/base",
      "model_module_version": "1.2.0",
      "model_name": "LayoutModel",
      "state": {}
     },
     "7e6b328cac8a4f8b8c23098de830c490": {
      "model_module": "@jupyter-widgets/base",
      "model_module_version": "1.2.0",
      "model_name": "LayoutModel",
      "state": {
       "min_width": "6em",
       "width": "6em"
      }
     },
     "7ee8369a4c6c4372bd766ae141fa02f5": {
      "model_module": "@jupyter-widgets/controls",
      "model_module_version": "1.5.0",
      "model_name": "TextModel",
      "state": {
       "description": "Levels",
       "layout": "IPY_MODEL_d14e0eb8ae914568a6f5d286677df522",
       "style": "IPY_MODEL_55930795934943d38ebc3208dfa537cd",
       "value": "4.0, 4.0, 4.0"
      }
     },
     "7f78f38bc65941c790dc7d67c51190ef": {
      "model_module": "@jupyter-widgets/controls",
      "model_module_version": "1.5.0",
      "model_name": "ButtonStyleModel",
      "state": {}
     },
     "7f8a4474b70d43b6bd476a4712e4a995": {
      "model_module": "@jupyter-widgets/controls",
      "model_module_version": "1.5.0",
      "model_name": "DescriptionStyleModel",
      "state": {
       "description_width": ""
      }
     },
     "7fac22545aeb47ff9a9e053e587ad3e1": {
      "model_module": "@jupyter-widgets/controls",
      "model_module_version": "1.5.0",
      "model_name": "DescriptionStyleModel",
      "state": {
       "description_width": ""
      }
     },
     "7fe0bddceb2848b7bb2d0e1070f01cc3": {
      "model_module": "@jupyter-widgets/controls",
      "model_module_version": "1.5.0",
      "model_name": "DescriptionStyleModel",
      "state": {
       "description_width": ""
      }
     },
     "8052719fe3ce4b908c6cc617899f1a5e": {
      "model_module": "@jupyter-widgets/base",
      "model_module_version": "1.2.0",
      "model_name": "LayoutModel",
      "state": {}
     },
     "805f83ccc980483fa7b9d1ea44cf87af": {
      "model_module": "@jupyter-widgets/base",
      "model_module_version": "1.2.0",
      "model_name": "LayoutModel",
      "state": {}
     },
     "80613020f4494329aa33189667250cfd": {
      "model_module": "@jupyter-widgets/controls",
      "model_module_version": "1.5.0",
      "model_name": "DescriptionStyleModel",
      "state": {
       "description_width": "initial"
      }
     },
     "807be8dcc47d4c45825eb1cd3318599d": {
      "model_module": "@jupyter-widgets/base",
      "model_module_version": "1.2.0",
      "model_name": "LayoutModel",
      "state": {
       "border": "solid"
      }
     },
     "8085364085974640aed9d8319edfa0eb": {
      "model_module": "@jupyter-widgets/controls",
      "model_module_version": "1.5.0",
      "model_name": "LabelModel",
      "state": {
       "layout": "IPY_MODEL_7c9b026974a34907856d7031628946cb",
       "style": "IPY_MODEL_efc7aacfbe7e4e4ab4826a49362768ca",
       "value": "Refinement b "
      }
     },
     "8095569a9e804ff2a50a29766dd662fb": {
      "model_module": "@jupyter-widgets/base",
      "model_module_version": "1.2.0",
      "model_name": "LayoutModel",
      "state": {}
     },
     "80bd6fb3ce6348529fb44d6ad0d3ad2c": {
      "model_module": "@jupyter-widgets/controls",
      "model_module_version": "1.5.0",
      "model_name": "DescriptionStyleModel",
      "state": {
       "description_width": "initial"
      }
     },
     "80eec1b3444a4648a6baf212bcda234f": {
      "model_module": "@jupyter-widgets/controls",
      "model_module_version": "1.5.0",
      "model_name": "DescriptionStyleModel",
      "state": {
       "description_width": "initial"
      }
     },
     "814366b415bb4f0d890b905294cf2999": {
      "model_module": "@jupyter-widgets/controls",
      "model_module_version": "1.5.0",
      "model_name": "ButtonModel",
      "state": {
       "description": "Create copy:",
       "layout": "IPY_MODEL_707cb5cc8844407888262583cc8c63e8",
       "style": "IPY_MODEL_a788b46d44c54695b90ba6c59d541d4d"
      }
     },
     "8181274e984242c4b0c061e4c78511d6": {
      "model_module": "@jupyter-widgets/controls",
      "model_module_version": "1.5.0",
      "model_name": "LabelModel",
      "state": {
       "layout": "IPY_MODEL_1e949c515de449dbaea49395ccca4948",
       "style": "IPY_MODEL_ff07d59e56934aa3932ac11998c96f1d",
       "value": "Base Parameters"
      }
     },
     "81b8934526f04450a98383b93746c986": {
      "model_module": "@jupyter-widgets/controls",
      "model_module_version": "1.5.0",
      "model_name": "SelectModel",
      "state": {
       "_options_labels": [
        "..",
        "dask-worker-space",
        "images"
       ],
       "index": null,
       "layout": "IPY_MODEL_b2d9335666334ce1a3efa41b1c98fe33",
       "rows": 8,
       "style": "IPY_MODEL_dba3f5bc68984c07b4544994d3d6348d"
      }
     },
     "81d1adb1ee5b4d5e82b7c4ccb88bfce8": {
      "model_module": "@jupyter-widgets/controls",
      "model_module_version": "1.5.0",
      "model_name": "LabelModel",
      "state": {
       "layout": "IPY_MODEL_95e4e1161a724c3bb2b02383a718f8a0",
       "style": "IPY_MODEL_833d7458884441d2a1a0f0e84d4fe19f",
       "value": "Monitoring folder"
      }
     },
     "81e244bf0c4a4508bf6f33bbdf64c3fa": {
      "model_module": "@jupyter-widgets/base",
      "model_module_version": "1.2.0",
      "model_name": "LayoutModel",
      "state": {}
     },
     "82113c243fcc44278b3097dd66fc051d": {
      "model_module": "@jupyter-widgets/base",
      "model_module_version": "1.2.0",
      "model_name": "LayoutModel",
      "state": {
       "grid_area": "filename",
       "width": "auto"
      }
     },
     "821e4a53189143569fcfa6652cbf529b": {
      "model_module": "@jupyter-widgets/base",
      "model_module_version": "1.2.0",
      "model_name": "LayoutModel",
      "state": {}
     },
     "8225d4cba0ec4ffea0d79416e0da9a46": {
      "model_module": "@jupyter-widgets/base",
      "model_module_version": "1.2.0",
      "model_name": "LayoutModel",
      "state": {}
     },
     "8312255502e042f0a204f271bad93f8d": {
      "model_module": "@jupyter-widgets/base",
      "model_module_version": "1.2.0",
      "model_name": "LayoutModel",
      "state": {}
     },
     "8327d275bf06489e9df1c886e1945239": {
      "model_module": "@jupyter-widgets/base",
      "model_module_version": "1.2.0",
      "model_name": "LayoutModel",
      "state": {}
     },
     "8330e343fe4741a0ba4746131002beed": {
      "model_module": "@jupyter-widgets/controls",
      "model_module_version": "1.5.0",
      "model_name": "DescriptionStyleModel",
      "state": {
       "description_width": ""
      }
     },
     "833d7458884441d2a1a0f0e84d4fe19f": {
      "model_module": "@jupyter-widgets/controls",
      "model_module_version": "1.5.0",
      "model_name": "DescriptionStyleModel",
      "state": {
       "description_width": "initial"
      }
     },
     "8342a810847c4f75a03969cdbe56a0e5": {
      "model_module": "@jupyter-widgets/controls",
      "model_module_version": "1.5.0",
      "model_name": "DescriptionStyleModel",
      "state": {
       "description_width": ""
      }
     },
     "83aa2066c4e74f6eb02cfe82f194894b": {
      "model_module": "@jupyter-widgets/base",
      "model_module_version": "1.2.0",
      "model_name": "LayoutModel",
      "state": {}
     },
     "83b45d1edfac47c3b8375b153b295975": {
      "model_module": "@jupyter-widgets/controls",
      "model_module_version": "1.5.0",
      "model_name": "ButtonStyleModel",
      "state": {}
     },
     "83b9ac25db6c491a89d356978a6ff406": {
      "model_module": "@jupyter-widgets/controls",
      "model_module_version": "1.5.0",
      "model_name": "DropdownModel",
      "state": {
       "_options_labels": [
        "",
        "Data_TEM_pseudo3DEPSG_4326",
        "Iso_Iteration_7_model_2_50e-03",
        "Iso_Iteration_7_model_1_00e-02",
        "Iso_Iteration_7_model_1_50e-02",
        "Iso_Iteration_7_model_2_00e-02",
        "Iso_Iteration_7_model_2_00e-02",
        "Iso_Iteration_7_model_5_00e-03",
        "Iso_Iteration_7_model_2_50e-03",
        "Iso_Iteration_7_model_1_50e-02",
        "Iso_Iteration_7_model_1_00e-02",
        "Iso_Iteration_7_model_5_00e-03",
        "fault_splay1",
        "fault_Cliff_Lake",
        "fault_Other_FlinFlon",
        "fault_Club_Lake_splay",
        "fault_Catherine_splay2",
        "fault_Birch_View",
        "fault_Dion_Lake",
        "fault_FlinFlon_splay",
        "fault_West_Mandy_Road",
        "fault_Channing",
        "fault_Ross_Lake",
        "fault_Louis_Hidden",
        "fault_Lake_View_thrust",
        "contact_Schist_Lake",
        "fault_Burley_Lake",
        "fault_Dion_Lake_splay",
        "fault_Green_Lake",
        "fault_FlinFlon",
        "fault_Catherine_splay1",
        "fault_East_Mandy_Road",
        "fault_Other_FlinFlon_South",
        "fault_Catherine_splay4",
        "contact_Stitt_Island",
        "fault_Club_Lake",
        "fault_Tailing_Pond",
        "35_Hidden_Reservoir_Hr5",
        "29_Hidden_Reservoir_Hr1a",
        "60_BlueLagoon_Fb2",
        "20_FlinFlon_Undivided_Int_Dykes_D2f",
        "04_Boundary_Intrusive_S4h",
        "53_Millrock_Rhyolite_Fm4b",
        "19_FlinFlon_Undivided_Int_Dykes_D2b",
        "18_FlinFlon_Undivided_Int_Dykes_777_D2b",
        "06_Phantom_Lake_Intrusive_S3a",
        "21_FlinFlon_Undivided_Int_Dykes_D3a",
        "43_Millrock_CHLSH_South",
        "56_Millrock_Basalt_Fm1ba",
        "17_FlinFlon_Undivided_Int_Dykes_D2",
        "32_Hidden_Reservoir_Hr1b_SW",
        "11_Missi_M3_NE",
        "13_Missi_M1",
        "07_Annabel_Granitoid_S1",
        "45_Millrock_Gabbro_South",
        "01_Late_Intrusive_S5b",
        "31_Hidden_Reservoir_Hr1c_SW",
        "52_Millrock_Rhyolite_Fm4_West_check",
        "55_Millrock_Basalt_Fm1bf",
        "34_Hidden_Reservoir_Hr2b",
        "03_Boundary_Intrusive_S4b",
        "42_Millrock_CHLSH_North",
        "26_Louis_L3",
        "23_FlinFlon_Undivided_Int_Felsic_D4g",
        "30_Hidden_Reservoir_Hr1b",
        "59_BlueLagoon_Fb3",
        "49_Millrock_MVR_Fm5d",
        "44_Millrock_Gabbro_North",
        "27_Hidden_Carlisle_Hc4",
        "22_FlinFlon_Undivided_Int_Felsic_D4e",
        "02_Boundary_Intrusive_S4a",
        "61_BlueLagoon_Fb1_NW",
        "05_Boundary_Intrusive_S4g",
        "39_Ore_Callinan",
        "38_Ore_Dan_Owens",
        "40_Ore_FlinFlon",
        "Inversion_VTEM_Model",
        "CDI_VTEM_model",
        "Data_FEM_pseudo3D",
        "geochem",
        "Inversion_DIGHEM_Model",
        "Topography",
        "Data_TEM_pseudo3D",
        "Data_ZTEM",
        "Mesh"
       ],
       "description": "Object",
       "index": 78,
       "layout": "IPY_MODEL_46b369e5c570451f94eb63a88cddb4e3",
       "style": "IPY_MODEL_006bf3051f8949dfa2bee930e6531560"
      }
     },
     "83cff25ba7d245459192ecad54caae6e": {
      "model_module": "@jupyter-widgets/controls",
      "model_module_version": "1.5.0",
      "model_name": "DescriptionStyleModel",
      "state": {
       "description_width": "initial"
      }
     },
     "83d3a6bbcb4f4c89ae7e76ede91e9df8": {
      "model_module": "@jupyter-widgets/base",
      "model_module_version": "1.2.0",
      "model_name": "LayoutModel",
      "state": {}
     },
     "83e3992d46ac47159d6d7c32798083b3": {
      "model_module": "@jupyter-widgets/base",
      "model_module_version": "1.2.0",
      "model_name": "LayoutModel",
      "state": {}
     },
     "83e3a42b9ed84589a64d46e159606cf8": {
      "model_module": "@jupyter-widgets/base",
      "model_module_version": "1.2.0",
      "model_name": "LayoutModel",
      "state": {}
     },
     "840ad6de15c040c2bba413d5a1a8d219": {
      "model_module": "@jupyter-widgets/base",
      "model_module_version": "1.2.0",
      "model_name": "LayoutModel",
      "state": {}
     },
     "845bf9567e3343adb24a1e67c617bde1": {
      "model_module": "@jupyter-widgets/base",
      "model_module_version": "1.2.0",
      "model_name": "LayoutModel",
      "state": {}
     },
     "8477c15d11064503910f6ab03303c916": {
      "model_module": "@jupyter-widgets/controls",
      "model_module_version": "1.5.0",
      "model_name": "ButtonStyleModel",
      "state": {}
     },
     "84c40b655e054108976341739840847d": {
      "model_module": "@jupyter-widgets/controls",
      "model_module_version": "1.5.0",
      "model_name": "DescriptionStyleModel",
      "state": {
       "description_width": "initial"
      }
     },
     "85091b2156af44edbf4071f4441ffad4": {
      "model_module": "@jupyter-widgets/base",
      "model_module_version": "1.2.0",
      "model_name": "LayoutModel",
      "state": {}
     },
     "851f84ca29cd4e42bc8adb702b513757": {
      "model_module": "@jupyter-widgets/controls",
      "model_module_version": "1.5.0",
      "model_name": "DescriptionStyleModel",
      "state": {
       "description_width": ""
      }
     },
     "853941333cd3461e91ba8043d7d8dddb": {
      "model_module": "@jupyter-widgets/controls",
      "model_module_version": "1.5.0",
      "model_name": "ToggleButtonModel",
      "state": {
       "layout": "IPY_MODEL_c59e095513324f119505488e715f2197",
       "style": "IPY_MODEL_eeab90b2a3f74a48b853658c0230d6b2"
      }
     },
     "8547ba1bf2ab4924b1b65fc0986c8154": {
      "model_module": "@jupyter-widgets/controls",
      "model_module_version": "1.5.0",
      "model_name": "HTMLModel",
      "state": {
       "layout": "IPY_MODEL_246eb65109304dd8b1c4f7cdad896a32",
       "placeholder": "",
       "style": "IPY_MODEL_d4bb26dc4ac746378bd0efa2ea32f70b",
       "value": "<span style=\"margin-left:10px; color:black;\">No file selected</span>"
      }
     },
     "857bc571b2ab4aa2af1f83c281c53804": {
      "model_module": "@jupyter-widgets/base",
      "model_module_version": "1.2.0",
      "model_name": "LayoutModel",
      "state": {}
     },
     "85bf64d456e74dba903bcc1585fe9be2": {
      "model_module": "@jupyter-widgets/controls",
      "model_module_version": "1.5.0",
      "model_name": "DescriptionStyleModel",
      "state": {
       "description_width": "initial"
      }
     },
     "85c3b4d099ae484ab3900a5a9a8eb198": {
      "model_module": "@jupyter-widgets/controls",
      "model_module_version": "1.5.0",
      "model_name": "LabelModel",
      "state": {
       "layout": "IPY_MODEL_a58b158ad6fa4b49a031a587c29b9eb3",
       "style": "IPY_MODEL_37a93ea6383d43e6bd61d2139f64b379",
       "value": "Monitoring folder"
      }
     },
     "85e0f589f3834aa28c49cccd61ce048c": {
      "model_module": "@jupyter-widgets/controls",
      "model_module_version": "1.5.0",
      "model_name": "FloatTextModel",
      "state": {
       "description": "Vertical",
       "layout": "IPY_MODEL_fda310f98de246b4b1c64cd773ea8b48",
       "step": null,
       "style": "IPY_MODEL_21d8bfb8b0e04b5e96a017880db38a85",
       "value": 25
      }
     },
     "86ae4c46f9ee4069b47a84a0cc6ee7ba": {
      "model_module": "@jupyter-widgets/controls",
      "model_module_version": "1.5.0",
      "model_name": "DescriptionStyleModel",
      "state": {
       "description_width": "initial"
      }
     },
     "86b04be854d14c38be33196c5629a804": {
      "model_module": "@jupyter-widgets/controls",
      "model_module_version": "1.5.0",
      "model_name": "TextModel",
      "state": {
       "disabled": true,
       "layout": "IPY_MODEL_544a53eac2e74b008b6e431206988120",
       "placeholder": "output filename",
       "style": "IPY_MODEL_54882ffb0be240fb8bbe733718b68671"
      }
     },
     "86c02b0cf5ff40d1b58bf321e7536cd4": {
      "model_module": "@jupyter-widgets/controls",
      "model_module_version": "1.5.0",
      "model_name": "ButtonModel",
      "state": {
       "description": "Select",
       "layout": "IPY_MODEL_1a923deaf2ff45a4b5de70a363421589",
       "style": "IPY_MODEL_ff0ac10240e340929dd97213f76e9a31"
      }
     },
     "86da11aaa30942899875c7945c1d35c7": {
      "model_module": "@jupyter-widgets/base",
      "model_module_version": "1.2.0",
      "model_name": "LayoutModel",
      "state": {
       "margin": "0 0 0 1em"
      }
     },
     "870c03a0efda47ce9228a14d0c84c2c1": {
      "model_module": "@jupyter-widgets/controls",
      "model_module_version": "1.5.0",
      "model_name": "ButtonStyleModel",
      "state": {}
     },
     "871e2a485e194b13a6658bb7c5a8e104": {
      "model_module": "@jupyter-widgets/controls",
      "model_module_version": "1.5.0",
      "model_name": "GridBoxModel",
      "state": {
       "children": [
        "IPY_MODEL_3ca73c94cdf3403590cf7d9226644bf1",
        "IPY_MODEL_f0c112d25ac94ef5ba82a97d28aeebaf",
        "IPY_MODEL_a91c8374ffd3412ba07e5e8453568b65"
       ],
       "layout": "IPY_MODEL_24dccbd7594f42848f5a1347a56e6f6d"
      }
     },
     "87545b71477844658ca826b452e62a5e": {
      "model_module": "@jupyter-widgets/controls",
      "model_module_version": "1.5.0",
      "model_name": "LabelModel",
      "state": {
       "layout": "IPY_MODEL_500a76e135c24316b2538e702e937814",
       "style": "IPY_MODEL_97695c7ec6844188a8c5895b1d4205f8",
       "value": "Padding distance"
      }
     },
     "87c288e9e22e41eba0c226d305443a65": {
      "model_module": "@jupyter-widgets/controls",
      "model_module_version": "1.5.0",
      "model_name": "DescriptionStyleModel",
      "state": {
       "description_width": ""
      }
     },
     "87ef01821bdb4b1dab39295bf9010948": {
      "model_module": "@jupyter-widgets/controls",
      "model_module_version": "1.5.0",
      "model_name": "GridBoxModel",
      "state": {
       "children": [
        "IPY_MODEL_1e3fa923bcf843bfaf5b3a66c70fca29",
        "IPY_MODEL_a95c0d9d2f0d4efc90cbaaa06dd0dca0",
        "IPY_MODEL_6509612dd7fd4f0cbd2c75a9581262f5"
       ],
       "layout": "IPY_MODEL_fe5c6e746d9240a0b56377d685c23a2d"
      }
     },
     "88057524de6c419baea00df7bf642ddb": {
      "model_module": "@jupyter-widgets/base",
      "model_module_version": "1.2.0",
      "model_name": "LayoutModel",
      "state": {}
     },
     "889d740be4614db28a79ec1762db3e6b": {
      "model_module": "@jupyter-widgets/base",
      "model_module_version": "1.2.0",
      "model_name": "LayoutModel",
      "state": {
       "width": "auto"
      }
     },
     "88f773a4887f4d16b57fab25b4357fb1": {
      "model_module": "@jupyter-widgets/base",
      "model_module_version": "1.2.0",
      "model_name": "LayoutModel",
      "state": {
       "width": "auto"
      }
     },
     "894e9185d93742c49c99c3af7854fcf0": {
      "model_module": "@jupyter-widgets/controls",
      "model_module_version": "1.5.0",
      "model_name": "DescriptionStyleModel",
      "state": {
       "description_width": "initial"
      }
     },
     "89952387f4b74dd1bbf53f632bcf06d8": {
      "model_module": "@jupyter-widgets/base",
      "model_module_version": "1.2.0",
      "model_name": "LayoutModel",
      "state": {
       "width": "auto"
      }
     },
     "89cea0f4a5b04fc6bd0c1a05d08854d3": {
      "model_module": "@jupyter-widgets/controls",
      "model_module_version": "1.5.0",
      "model_name": "DescriptionStyleModel",
      "state": {
       "description_width": ""
      }
     },
     "89dec57e2384497bb4b64f63ed08e0cf": {
      "model_module": "@jupyter-widgets/controls",
      "model_module_version": "1.5.0",
      "model_name": "DescriptionStyleModel",
      "state": {
       "description_width": "initial"
      }
     },
     "8a58ff3605a54869ad81e32ba210110b": {
      "model_module": "@jupyter-widgets/controls",
      "model_module_version": "1.5.0",
      "model_name": "DescriptionStyleModel",
      "state": {
       "description_width": ""
      }
     },
     "8a8aadb7d69645d2b2d6abc5b8f07fa0": {
      "model_module": "@jupyter-widgets/controls",
      "model_module_version": "1.5.0",
      "model_name": "TextModel",
      "state": {
       "description": "Levels",
       "layout": "IPY_MODEL_ed0805c7b91245d79fc62df48d94653a",
       "style": "IPY_MODEL_dd28b3d66e9d4409beaca7a79f5e1c7d",
       "value": "0.0, 0.0, 2.0"
      }
     },
     "8a9d880035264bcc91342e55dd393c50": {
      "model_module": "@jupyter-widgets/controls",
      "model_module_version": "1.5.0",
      "model_name": "LabelModel",
      "state": {
       "layout": "IPY_MODEL_1f36883bd1bf4519a79cf42d6d412b36",
       "style": "IPY_MODEL_23b2f53358724bc5accb39b0f00d7f4c",
       "value": "Core cell size"
      }
     },
     "8abdc9e563d642479560c1ba0a5cf459": {
      "model_module": "@jupyter-widgets/controls",
      "model_module_version": "1.5.0",
      "model_name": "HTMLModel",
      "state": {
       "layout": "IPY_MODEL_b5a02601c53445be8f3075ec24d116e4",
       "style": "IPY_MODEL_99819bd7f2fa4b2dacde9dbda6c6584b"
      }
     },
     "8ae1c563eae84c1faf6f089911b57f71": {
      "model_module": "@jupyter-widgets/controls",
      "model_module_version": "1.5.0",
      "model_name": "VBoxModel",
      "state": {
       "children": [
        "IPY_MODEL_9339aded0d4947fc80b03f4e4437c204",
        "IPY_MODEL_f7f4c329d10443cfa51f41570222fb79"
       ],
       "layout": "IPY_MODEL_23858db77e19432a8f2ec3070d0d6eb2"
      }
     },
     "8ae2ebefa8e44d299c805882b9e2bd31": {
      "model_module": "@jupyter-widgets/controls",
      "model_module_version": "1.5.0",
      "model_name": "FloatTextModel",
      "state": {
       "description": "Minimum depth (m)",
       "layout": "IPY_MODEL_2bc27852f4bf4e5d86826c23a1721d5f",
       "step": null,
       "style": "IPY_MODEL_e1cd5d7b366245f591f3900895d2759b",
       "value": 500
      }
     },
     "8b2b2135c11141118225b4361e86d4bf": {
      "model_module": "@jupyter-widgets/controls",
      "model_module_version": "1.5.0",
      "model_name": "DropdownModel",
      "state": {
       "_options_labels": [
        "",
        "Ore/39_Ore_Callinan",
        "Ore/38_Ore_Dan_Owens",
        "Ore/40_Ore_FlinFlon",
        "Workspace/Inversion_VTEM_Model",
        "Workspace/CDI_VTEM_model",
        "Workspace/Data_FEM_pseudo3D",
        "Workspace/geochem",
        "Workspace/Inversion_DIGHEM_Model",
        "Workspace/Topography",
        "Workspace/Data_TEM_pseudo3D",
        "Workspace/Data_ZTEM",
        "Workspace/Mesh"
       ],
       "description": "Core hull extent:",
       "index": 6,
       "layout": "IPY_MODEL_25b260a861174e7e8a1c57192177feed",
       "style": "IPY_MODEL_072bfce0ec0a4623a377cc970390671c"
      }
     },
     "8b2bddf928f6474fbcd4c598504ad1be": {
      "model_module": "@jupyter-widgets/controls",
      "model_module_version": "1.5.0",
      "model_name": "DescriptionStyleModel",
      "state": {
       "description_width": "initial"
      }
     },
     "8b4e70d2466e41f8907327edaaae9b0a": {
      "model_module": "@jupyter-widgets/base",
      "model_module_version": "1.2.0",
      "model_name": "LayoutModel",
      "state": {
       "display": "none"
      }
     },
     "8b511d0d9d1c4b79b5cc3134ac1b0298": {
      "model_module": "@jupyter-widgets/controls",
      "model_module_version": "1.5.0",
      "model_name": "DropdownModel",
      "state": {
       "_options_labels": [
        "",
        "Ore/39_Ore_Callinan",
        "Ore/38_Ore_Dan_Owens",
        "Ore/40_Ore_FlinFlon",
        "Workspace/Inversion_VTEM_Model",
        "Workspace/DC_Survey (currents)",
        "Workspace/CDI_VTEM_model",
        "Workspace/Data_FEM_pseudo3D",
        "Workspace/geochem",
        "Workspace/DC_Survey",
        "Workspace/Inversion_DIGHEM_Model",
        "Workspace/Topography",
        "Workspace/Data_TEM_pseudo3D",
        "Workspace/Data_ZTEM",
        "Workspace/Mesh"
       ],
       "description": "Object",
       "index": 7,
       "layout": "IPY_MODEL_76c1a73440fc4e548855731d4d3534aa",
       "style": "IPY_MODEL_15b3e9604baa45d5a527e81c1e6d7461"
      }
     },
     "8b6035aed9a442de8292f76d7fd8abe4": {
      "model_module": "@jupyter-widgets/controls",
      "model_module_version": "1.5.0",
      "model_name": "LabelModel",
      "state": {
       "layout": "IPY_MODEL_36d78fc42048476d8e5439eee0ed039f",
       "style": "IPY_MODEL_575f3e9fc8834c5eb127e22d94d2e8b6",
       "value": "Refinement B"
      }
     },
     "8b6dd342a8274a90b95d7928af9b170c": {
      "model_module": "@jupyter-widgets/controls",
      "model_module_version": "1.5.0",
      "model_name": "VBoxModel",
      "state": {
       "children": [
        "IPY_MODEL_debfd068f7904e94b4497e0906f0734a",
        "IPY_MODEL_32aae5f62b6c4a4db8dfba4d2edbc49d"
       ],
       "layout": "IPY_MODEL_b099b7197e2643488c35793e5abb922f"
      }
     },
     "8b9703428b2a42d7a2f513ccf40b9ac8": {
      "model_module": "@jupyter-widgets/controls",
      "model_module_version": "1.5.0",
      "model_name": "DescriptionStyleModel",
      "state": {
       "description_width": "initial"
      }
     },
     "8bb23973580a432d9907ca5fa04fbd1f": {
      "model_module": "@jupyter-widgets/controls",
      "model_module_version": "1.5.0",
      "model_name": "DescriptionStyleModel",
      "state": {
       "description_width": "initial"
      }
     },
     "8bbd8ae554804582b80a50f4a3a9656f": {
      "model_module": "@jupyter-widgets/controls",
      "model_module_version": "1.5.0",
      "model_name": "DescriptionStyleModel",
      "state": {
       "description_width": ""
      }
     },
     "8bc5f2a252ce4feb8ebe8c290f27d404": {
      "model_module": "@jupyter-widgets/base",
      "model_module_version": "1.2.0",
      "model_name": "LayoutModel",
      "state": {}
     },
     "8c9233a2c0004884973dcb43598ebb66": {
      "model_module": "@jupyter-widgets/controls",
      "model_module_version": "1.5.0",
      "model_name": "ButtonStyleModel",
      "state": {}
     },
     "8cf94dfea0604d729cc756d6d1866563": {
      "model_module": "@jupyter-widgets/controls",
      "model_module_version": "1.5.0",
      "model_name": "DescriptionStyleModel",
      "state": {
       "description_width": "initial"
      }
     },
     "8d85ccbdf48c477a910fada288fedf14": {
      "model_module": "@jupyter-widgets/controls",
      "model_module_version": "1.5.0",
      "model_name": "DescriptionStyleModel",
      "state": {
       "description_width": "initial"
      }
     },
     "8dac5faf6c8a41fbaedec3e3d089a962": {
      "model_module": "@jupyter-widgets/base",
      "model_module_version": "1.2.0",
      "model_name": "LayoutModel",
      "state": {}
     },
     "8dcc369152614aaaac3fbec0aad38960": {
      "model_module": "@jupyter-widgets/controls",
      "model_module_version": "1.5.0",
      "model_name": "DescriptionStyleModel",
      "state": {
       "description_width": ""
      }
     },
     "8df281555f844b7c8d64f74666119fde": {
      "model_module": "@jupyter-widgets/base",
      "model_module_version": "1.2.0",
      "model_name": "LayoutModel",
      "state": {}
     },
     "8e950a868bd84e7f94277a5d86d96dcf": {
      "model_module": "@jupyter-widgets/controls",
      "model_module_version": "1.5.0",
      "model_name": "DescriptionStyleModel",
      "state": {
       "description_width": "initial"
      }
     },
     "8ea3dcdbf443466a99c58f11fc015f75": {
      "model_module": "@jupyter-widgets/base",
      "model_module_version": "1.2.0",
      "model_name": "LayoutModel",
      "state": {}
     },
     "8eb76845db494cd585f21931ad04d384": {
      "model_module": "@jupyter-widgets/controls",
      "model_module_version": "1.5.0",
      "model_name": "ButtonModel",
      "state": {
       "description": "Create copy:",
       "layout": "IPY_MODEL_00b7edc6654244a1aab246a56cb55407",
       "style": "IPY_MODEL_aa8ebcab26004851b6a342d5a2176db2"
      }
     },
     "8ed8c8ae0afc44519a25da1fa3f6210a": {
      "model_module": "@jupyter-widgets/controls",
      "model_module_version": "1.5.0",
      "model_name": "DescriptionStyleModel",
      "state": {
       "description_width": ""
      }
     },
     "8ef7a67161f64c25af218c3779eb2a15": {
      "model_module": "@jupyter-widgets/base",
      "model_module_version": "1.2.0",
      "model_name": "LayoutModel",
      "state": {
       "width": "auto"
      }
     },
     "8f0c175ea9c4457ab8b52511c6b91f43": {
      "model_module": "@jupyter-widgets/controls",
      "model_module_version": "1.5.0",
      "model_name": "TextModel",
      "state": {
       "continuous_update": false,
       "description": "Name:",
       "layout": "IPY_MODEL_9b3f54b11fda4a019cc04b48edcaefd0",
       "style": "IPY_MODEL_12ecbdd6fa46489e9628fed68dcf34c2",
       "value": "Octree_Mesh"
      }
     },
     "8f35c12e13f840f597c65d1469394f54": {
      "model_module": "@jupyter-widgets/controls",
      "model_module_version": "1.5.0",
      "model_name": "DescriptionStyleModel",
      "state": {
       "description_width": ""
      }
     },
     "8f6351a02f0a4272b67c38303e83e7b3": {
      "model_module": "@jupyter-widgets/base",
      "model_module_version": "1.2.0",
      "model_name": "LayoutModel",
      "state": {}
     },
     "8fb94632bf134e02b9d516e00524112b": {
      "model_module": "@jupyter-widgets/controls",
      "model_module_version": "1.5.0",
      "model_name": "VBoxModel",
      "state": {
       "children": [
        "IPY_MODEL_81d1adb1ee5b4d5e82b7c4ccb88bfce8",
        "IPY_MODEL_58cd8f1d4d9b499db178c240ed08a04a"
       ],
       "layout": "IPY_MODEL_e56a82a403484e1d8fb8af054062aff3"
      }
     },
     "8fc48764dee8405f9bf550ae88fbeafb": {
      "model_module": "@jupyter-widgets/controls",
      "model_module_version": "1.5.0",
      "model_name": "HBoxModel",
      "state": {
       "children": [
        "IPY_MODEL_68205fd075ce477686f499fc25fc10c7",
        "IPY_MODEL_dd99a3966a684569953717606044dca4",
        "IPY_MODEL_eabcf6590bd64d62bb5451d82840a9bb"
       ],
       "layout": "IPY_MODEL_5086260fc56948fea484330a079e87b1"
      }
     },
     "902164569b8f4ce1923b194efdfd7a0d": {
      "model_module": "@jupyter-widgets/controls",
      "model_module_version": "1.5.0",
      "model_name": "DescriptionStyleModel",
      "state": {
       "description_width": "initial"
      }
     },
     "9031778a03e0493ebed95a298c6233f2": {
      "model_module": "@jupyter-widgets/base",
      "model_module_version": "1.2.0",
      "model_name": "LayoutModel",
      "state": {}
     },
     "903cf0b7430e4564a0de5ea297af25a5": {
      "model_module": "@jupyter-widgets/controls",
      "model_module_version": "1.5.0",
      "model_name": "DescriptionStyleModel",
      "state": {
       "description_width": "initial"
      }
     },
     "90425fe821b8427ea7d330db69652eae": {
      "model_module": "@jupyter-widgets/controls",
      "model_module_version": "1.5.0",
      "model_name": "VBoxModel",
      "state": {
       "children": [
        "IPY_MODEL_7c5c32e8310840fabe3329a8ae10cbdd",
        "IPY_MODEL_37c5b4cd2c0e433d9753568ff23f091c"
       ],
       "layout": "IPY_MODEL_492d153f839c4c2b9ca8dc22b6f44b95"
      }
     },
     "90aa816e58574866808e97cf807a6dae": {
      "model_module": "@jupyter-widgets/base",
      "model_module_version": "1.2.0",
      "model_name": "LayoutModel",
      "state": {
       "display": "none",
       "grid_gap": "0px 0px",
       "grid_template_areas": "\n                    'pathlist pathlist'\n                    'dircontent dircontent'\n                    ",
       "grid_template_columns": "60% 40%",
       "grid_template_rows": "auto auto",
       "width": "500px"
      }
     },
     "90ba0b9384df418f9ba5368845b0ef99": {
      "model_module": "@jupyter-widgets/controls",
      "model_module_version": "1.5.0",
      "model_name": "ButtonModel",
      "state": {
       "description": "Change",
       "layout": "IPY_MODEL_ec74eeaa9340440588563d597cd05320",
       "style": "IPY_MODEL_2ee3c50df128429b8fe37c3edb395480"
      }
     },
     "90f67cb4aa49404bbada849dbdef4bc0": {
      "model_module": "@jupyter-widgets/controls",
      "model_module_version": "1.5.0",
      "model_name": "FloatTextModel",
      "state": {
       "description": "Distance",
       "layout": "IPY_MODEL_13956e3c5cfe4d30b3de111b85c169d8",
       "step": null,
       "style": "IPY_MODEL_037fa65085674b01abe7c7076bcbe0e4",
       "value": 1000
      }
     },
     "9101b93f55d0419b859ef308b09bebd6": {
      "model_module": "@jupyter-widgets/controls",
      "model_module_version": "1.5.0",
      "model_name": "DropdownModel",
      "state": {
       "_options_labels": [
        "",
        "Ore/39_Ore_Callinan",
        "Ore/38_Ore_Dan_Owens",
        "Ore/40_Ore_FlinFlon",
        "Workspace/Inversion_VTEM_Model",
        "Workspace/CDI_VTEM_model",
        "Workspace/Data_FEM_pseudo3D",
        "Workspace/geochem",
        "Workspace/Inversion_DIGHEM_Model",
        "Workspace/Topography",
        "Workspace/Data_TEM_pseudo3D",
        "Workspace/Data_ZTEM",
        "Workspace/Mesh"
       ],
       "description": "Object",
       "index": 6,
       "layout": "IPY_MODEL_0989717936784e618da72a0d7ff4dbd9",
       "style": "IPY_MODEL_44a0523e470e4266a0ce2519b9327828"
      }
     },
     "91056191b1cf474d9221009c7cca4c81": {
      "model_module": "@jupyter-widgets/controls",
      "model_module_version": "1.5.0",
      "model_name": "DescriptionStyleModel",
      "state": {
       "description_width": "initial"
      }
     },
     "912bbdf83e1c4be49d182977958ea656": {
      "model_module": "@jupyter-widgets/base",
      "model_module_version": "1.2.0",
      "model_name": "LayoutModel",
      "state": {
       "overflow": "auto"
      }
     },
     "913cc7e5cc88492e81c61571b2cd7abf": {
      "model_module": "@jupyter-widgets/controls",
      "model_module_version": "1.5.0",
      "model_name": "DescriptionStyleModel",
      "state": {
       "description_width": ""
      }
     },
     "91765d1b10f642dda7e339aabade8145": {
      "model_module": "@jupyter-widgets/controls",
      "model_module_version": "1.5.0",
      "model_name": "ButtonStyleModel",
      "state": {}
     },
     "91cfd3e65a7c4ce6af978cc065a88918": {
      "model_module": "@jupyter-widgets/controls",
      "model_module_version": "1.5.0",
      "model_name": "DescriptionStyleModel",
      "state": {
       "description_width": ""
      }
     },
     "927be5f58c9248ff89ead77f098edee5": {
      "model_module": "@jupyter-widgets/controls",
      "model_module_version": "1.5.0",
      "model_name": "DescriptionStyleModel",
      "state": {
       "description_width": ""
      }
     },
     "928ebbcf6cf04b118ade1db3e16a8156": {
      "model_module": "@jupyter-widgets/controls",
      "model_module_version": "1.5.0",
      "model_name": "TextModel",
      "state": {
       "disabled": true,
       "layout": "IPY_MODEL_22cea33d87564bfebb205789261ef036",
       "placeholder": "output filename",
       "style": "IPY_MODEL_47a3498f15d14818b9cbae234cd28409"
      }
     },
     "92b5a19b74ae4fae8a80b9e6d6ce366d": {
      "model_module": "@jupyter-widgets/controls",
      "model_module_version": "1.5.0",
      "model_name": "ButtonModel",
      "state": {
       "description": "Create copy:",
       "layout": "IPY_MODEL_4a414d078e974e848255eebafeffb8f1",
       "style": "IPY_MODEL_b8666dfa11784840ad7ef9f811defaa9"
      }
     },
     "92ffb379c0c64c03af2fec4497aa5195": {
      "model_module": "@jupyter-widgets/controls",
      "model_module_version": "1.5.0",
      "model_name": "DescriptionStyleModel",
      "state": {
       "description_width": ""
      }
     },
     "931d0f303db242b790ac9fc1d87b64bf": {
      "model_module": "@jupyter-widgets/base",
      "model_module_version": "1.2.0",
      "model_name": "LayoutModel",
      "state": {}
     },
     "9339aded0d4947fc80b03f4e4437c204": {
      "model_module": "@jupyter-widgets/controls",
      "model_module_version": "1.5.0",
      "model_name": "VBoxModel",
      "state": {
       "children": [
        "IPY_MODEL_59a4a155554c421891b1ac0dc8e13ef5",
        "IPY_MODEL_83b9ac25db6c491a89d356978a6ff406",
        "IPY_MODEL_d3da2f351afc4371b377e49e5c747234",
        "IPY_MODEL_311f456fc2584589ae7ea36a72fc6c86",
        "IPY_MODEL_d6bc59860d3047fc9722c5307abf3f49"
       ],
       "layout": "IPY_MODEL_5ba669292aba41ac84aac25881f94e68"
      }
     },
     "943042e130d84380b004e537fb9d35d6": {
      "model_module": "@jupyter-widgets/controls",
      "model_module_version": "1.5.0",
      "model_name": "DescriptionStyleModel",
      "state": {
       "description_width": ""
      }
     },
     "946f954fb5cb41be889b8660e00fc7ec": {
      "model_module": "@jupyter-widgets/controls",
      "model_module_version": "1.5.0",
      "model_name": "DescriptionStyleModel",
      "state": {
       "description_width": "initial"
      }
     },
     "94829f16d4264554a0e2731c068c9bb4": {
      "model_module": "@jupyter-widgets/base",
      "model_module_version": "1.2.0",
      "model_name": "LayoutModel",
      "state": {}
     },
     "948acfa6303343fcbf49bc218aa4f6db": {
      "model_module": "@jupyter-widgets/controls",
      "model_module_version": "1.5.0",
      "model_name": "HTMLModel",
      "state": {
       "layout": "IPY_MODEL_86da11aaa30942899875c7945c1d35c7",
       "placeholder": "",
       "style": "IPY_MODEL_c59080383e8e4c0c87af4ec33ba0a302",
       "value": "<span style=\"color:green;\">C:\\Users\\dominiquef\\Documents\\GIT\\mira\\geoapps\\assets\\Temp\\</span>"
      }
     },
     "948ecbf74d2842b88f69972a2326e765": {
      "model_module": "@jupyter-widgets/controls",
      "model_module_version": "1.5.0",
      "model_name": "ToggleButtonModel",
      "state": {
       "layout": "IPY_MODEL_ead21715cdf4472ea67e40347bdb08c2",
       "style": "IPY_MODEL_26caa90bf0534a27b289cb2873779c93",
       "value": true
      }
     },
     "9500d7f9da1743c889fa751640a2c3b0": {
      "model_module": "@jupyter-widgets/base",
      "model_module_version": "1.2.0",
      "model_name": "LayoutModel",
      "state": {}
     },
     "9560c341497b46b9a9cf468a8e1e9c7f": {
      "model_module": "@jupyter-widgets/controls",
      "model_module_version": "1.5.0",
      "model_name": "DescriptionStyleModel",
      "state": {
       "description_width": "initial"
      }
     },
     "95761ffeb8df4704839b084904822422": {
      "model_module": "@jupyter-widgets/controls",
      "model_module_version": "1.5.0",
      "model_name": "VBoxModel",
      "state": {
       "children": [
        "IPY_MODEL_f6ead7c9bcea4cc4a9415971463607bd",
        "IPY_MODEL_90425fe821b8427ea7d330db69652eae",
        "IPY_MODEL_a7f1d19b5f5d483b9220878aaf64ed77"
       ],
       "layout": "IPY_MODEL_05440e1e307d49069eeded99bc26dc98"
      }
     },
     "957b01e39cf740a59e37d6817d2792e5": {
      "model_module": "@jupyter-widgets/controls",
      "model_module_version": "1.5.0",
      "model_name": "HBoxModel",
      "state": {
       "children": [
        "IPY_MODEL_446df068988440dcb499c28ede55a103",
        "IPY_MODEL_1dafccc2a3bf4ff0ade16d3764a28766",
        "IPY_MODEL_d29711f740c840b69b15e61561499240"
       ],
       "layout": "IPY_MODEL_889d740be4614db28a79ec1762db3e6b"
      }
     },
     "95d4149f1a6b4f8aa124603a4420d56c": {
      "model_module": "@jupyter-widgets/controls",
      "model_module_version": "1.5.0",
      "model_name": "DescriptionStyleModel",
      "state": {
       "description_width": "initial"
      }
     },
     "95d8fafc2628493eb7ed4bc16f017728": {
      "model_module": "@jupyter-widgets/controls",
      "model_module_version": "1.5.0",
      "model_name": "DescriptionStyleModel",
      "state": {
       "description_width": "initial"
      }
     },
     "95e4e1161a724c3bb2b02383a718f8a0": {
      "model_module": "@jupyter-widgets/base",
      "model_module_version": "1.2.0",
      "model_name": "LayoutModel",
      "state": {}
     },
     "96147681affd48ea874aff9639e5cb5b": {
      "model_module": "@jupyter-widgets/controls",
      "model_module_version": "1.5.0",
      "model_name": "DescriptionStyleModel",
      "state": {
       "description_width": ""
      }
     },
     "9658ca5871944b82b2e5c4ee2a7dee53": {
      "model_module": "@jupyter-widgets/base",
      "model_module_version": "1.2.0",
      "model_name": "LayoutModel",
      "state": {}
     },
     "969d8a6bba0d4cca845070396851ae48": {
      "model_module": "@jupyter-widgets/base",
      "model_module_version": "1.2.0",
      "model_name": "LayoutModel",
      "state": {}
     },
     "96ca2d5666584c87b5daeaf154055247": {
      "model_module": "@jupyter-widgets/controls",
      "model_module_version": "1.5.0",
      "model_name": "DescriptionStyleModel",
      "state": {
       "description_width": ""
      }
     },
     "96ca6e12de044008b2ca09b981ff582e": {
      "model_module": "@jupyter-widgets/controls",
      "model_module_version": "1.5.0",
      "model_name": "DescriptionStyleModel",
      "state": {
       "description_width": "initial"
      }
     },
     "97434400a8a84abe9318a8b6d67b7841": {
      "model_module": "@jupyter-widgets/controls",
      "model_module_version": "1.5.0",
      "model_name": "SelectModel",
      "state": {
       "_options_labels": [
        "📁 ..",
        "📁 SimPEG_PFInversion"
       ],
       "index": null,
       "layout": "IPY_MODEL_b9f0791675cb4f3aba47d5e23b7e37c9",
       "rows": 8,
       "style": "IPY_MODEL_d8a03e3cc1f44fdfbf61b9ee1d7ad40e"
      }
     },
     "97666c856be64b4b80565f887b0821a4": {
      "model_module": "@jupyter-widgets/controls",
      "model_module_version": "1.5.0",
      "model_name": "DescriptionStyleModel",
      "state": {
       "description_width": ""
      }
     },
     "97695c7ec6844188a8c5895b1d4205f8": {
      "model_module": "@jupyter-widgets/controls",
      "model_module_version": "1.5.0",
      "model_name": "DescriptionStyleModel",
      "state": {
       "description_width": ""
      }
     },
     "97a01364967e44a3a6fdad4486618bbe": {
      "model_module": "@jupyter-widgets/base",
      "model_module_version": "1.2.0",
      "model_name": "LayoutModel",
      "state": {
       "display": "none",
       "width": "auto"
      }
     },
     "97a3b6c1d12f43b3b61130fd659a3342": {
      "model_module": "@jupyter-widgets/controls",
      "model_module_version": "1.5.0",
      "model_name": "VBoxModel",
      "state": {
       "children": [
        "IPY_MODEL_1aa508d6320e42b1bdc9c0cfb749a8a4",
        "IPY_MODEL_683edfabc56b4e99bcbe82de9ccac54b",
        "IPY_MODEL_0065a9c583424831b5a6f9bcf0faaf94"
       ],
       "layout": "IPY_MODEL_200b7457b7d44c8c87bbdec2ad9d4faa"
      }
     },
     "97b0b87e8c8f4dd5a9abc042deab04d6": {
      "model_module": "@jupyter-widgets/base",
      "model_module_version": "1.2.0",
      "model_name": "LayoutModel",
      "state": {
       "grid_area": "pathlist",
       "width": "auto"
      }
     },
     "97f797fe41e5412182929af4cb7905ab": {
      "model_module": "@jupyter-widgets/base",
      "model_module_version": "1.2.0",
      "model_name": "LayoutModel",
      "state": {
       "display": "none",
       "min_width": "6em",
       "width": "6em"
      }
     },
     "98913b9f4fe944938a09b486342fa9aa": {
      "model_module": "@jupyter-widgets/base",
      "model_module_version": "1.2.0",
      "model_name": "LayoutModel",
      "state": {
       "border": "solid"
      }
     },
     "98964ba2c6fb408eac048f7a1b07d507": {
      "model_module": "@jupyter-widgets/controls",
      "model_module_version": "1.5.0",
      "model_name": "DropdownModel",
      "state": {
       "_options_labels": [
        "C:\\Users\\dominiquef\\Documents\\GIT\\mira\\geoapps\\assets",
        "C:\\Users\\dominiquef\\Documents\\GIT\\mira\\geoapps",
        "C:\\Users\\dominiquef\\Documents\\GIT\\mira",
        "C:\\Users\\dominiquef\\Documents\\GIT",
        "C:\\Users\\dominiquef\\Documents",
        "C:\\Users\\dominiquef",
        "C:\\Users",
        "C:\\",
        "D:\\",
        "Z:\\"
       ],
       "index": 0,
       "layout": "IPY_MODEL_7b22d58070394c01b3b7893d3579a01c",
       "style": "IPY_MODEL_0b07c21ecaa84b589fd47a8cfdd55ba1"
      }
     },
     "98d4300da770418ba7a1455bea3dc5f2": {
      "model_module": "@jupyter-widgets/controls",
      "model_module_version": "1.5.0",
      "model_name": "ButtonStyleModel",
      "state": {}
     },
     "9921750d881f4db0a58757d4893e0dd2": {
      "model_module": "@jupyter-widgets/controls",
      "model_module_version": "1.5.0",
      "model_name": "DropdownModel",
      "state": {
       "_options_labels": [
        "C:\\Users\\dominiquef\\Documents\\GIT\\mira\\geoapps\\docs\\content\\applications",
        "C:\\Users\\dominiquef\\Documents\\GIT\\mira\\geoapps\\docs\\content",
        "C:\\Users\\dominiquef\\Documents\\GIT\\mira\\geoapps\\docs",
        "C:\\Users\\dominiquef\\Documents\\GIT\\mira\\geoapps",
        "C:\\Users\\dominiquef\\Documents\\GIT\\mira",
        "C:\\Users\\dominiquef\\Documents\\GIT",
        "C:\\Users\\dominiquef\\Documents",
        "C:\\Users\\dominiquef",
        "C:\\Users",
        "C:\\",
        "D:\\",
        "Z:\\"
       ],
       "index": 0,
       "layout": "IPY_MODEL_0d8dbb4d3996451fbad090183afdcbb5",
       "style": "IPY_MODEL_0bd2540cabe7485b85e554b0c91dc099"
      }
     },
     "9930472cdda447feb646370fb58a749a": {
      "model_module": "@jupyter-widgets/controls",
      "model_module_version": "1.5.0",
      "model_name": "DescriptionStyleModel",
      "state": {
       "description_width": ""
      }
     },
     "99305026c639406e88f8b974973bcee1": {
      "model_module": "@jupyter-widgets/controls",
      "model_module_version": "1.5.0",
      "model_name": "HBoxModel",
      "state": {
       "children": [
        "IPY_MODEL_f755dcf49c0542c5babdd0a94f247eb1",
        "IPY_MODEL_fbfe69c494cb4965bce325beb0cd1eca",
        "IPY_MODEL_6f1a7e1e8ad84b0f861b0c8d0e1fef2c"
       ],
       "layout": "IPY_MODEL_d67cd97fbcdc455abd2bfb648363ad0e"
      }
     },
     "995170db621e4f8bb880233f08c4eefb": {
      "model_module": "@jupyter-widgets/controls",
      "model_module_version": "1.5.0",
      "model_name": "DescriptionStyleModel",
      "state": {
       "description_width": ""
      }
     },
     "99819bd7f2fa4b2dacde9dbda6c6584b": {
      "model_module": "@jupyter-widgets/controls",
      "model_module_version": "1.5.0",
      "model_name": "DescriptionStyleModel",
      "state": {
       "description_width": ""
      }
     },
     "999e0726e8fb49228ad0285c4fa8e18b": {
      "model_module": "@jupyter-widgets/base",
      "model_module_version": "1.2.0",
      "model_name": "LayoutModel",
      "state": {}
     },
     "99a91cf4afd14595bb6eab675b2329f0": {
      "model_module": "@jupyter-widgets/controls",
      "model_module_version": "1.5.0",
      "model_name": "DescriptionStyleModel",
      "state": {
       "description_width": "initial"
      }
     },
     "99bc618466f24655a0260bc0a7f02c55": {
      "model_module": "@jupyter-widgets/base",
      "model_module_version": "1.2.0",
      "model_name": "LayoutModel",
      "state": {
       "grid_area": "pathlist",
       "width": "auto"
      }
     },
     "99e450f4ec6d437da5508631a34b7701": {
      "model_module": "@jupyter-widgets/controls",
      "model_module_version": "1.5.0",
      "model_name": "DescriptionStyleModel",
      "state": {
       "description_width": ""
      }
     },
     "99f267d60ace428f82e20697f3ed712e": {
      "model_module": "@jupyter-widgets/base",
      "model_module_version": "1.2.0",
      "model_name": "LayoutModel",
      "state": {}
     },
     "9a1d955764bd4365b9f37d107c87736f": {
      "model_module": "@jupyter-widgets/controls",
      "model_module_version": "1.5.0",
      "model_name": "DescriptionStyleModel",
      "state": {
       "description_width": "initial"
      }
     },
     "9a2694f451dd414186979517ec5105df": {
      "model_module": "@jupyter-widgets/controls",
      "model_module_version": "1.5.0",
      "model_name": "GridBoxModel",
      "state": {
       "children": [
        "IPY_MODEL_9921750d881f4db0a58757d4893e0dd2",
        "IPY_MODEL_bec65aacb5314d98be30b9af86f54260",
        "IPY_MODEL_1b8a3df7e78940028b93bc6406c5f525"
       ],
       "layout": "IPY_MODEL_0cb3de1a04dc4a2492c7e79fc6752220"
      }
     },
     "9a45ab89b77a48c18fb156e5f4ffda38": {
      "model_module": "@jupyter-widgets/controls",
      "model_module_version": "1.5.0",
      "model_name": "VBoxModel",
      "state": {
       "children": [
        "IPY_MODEL_8181274e984242c4b0c061e4c78511d6",
        "IPY_MODEL_8b2b2135c11141118225b4361e86d4bf",
        "IPY_MODEL_8ae2ebefa8e44d299c805882b9e2bd31",
        "IPY_MODEL_d87447d10126468aba635bea75c0176d",
        "IPY_MODEL_c729f7de0e9f43bc85a2eb162fce2911",
        "IPY_MODEL_19990c20be3648c298ff61ef0d882e52",
        "IPY_MODEL_da9c9e85a3144509bae1ad47837d2a46",
        "IPY_MODEL_a6dd59f9309a4f47b9f4ab6fed822ee6",
        "IPY_MODEL_f79f7a65fca041d485f195b7a9104055",
        "IPY_MODEL_aa2f37c788a241e096634de8856956ca"
       ],
       "layout": "IPY_MODEL_c35cff77dd8f4c1a8898ba4d7e392ec1"
      }
     },
     "9a4e14aa28f64576a3cd832b6e6e2ff9": {
      "model_module": "@jupyter-widgets/controls",
      "model_module_version": "1.5.0",
      "model_name": "DescriptionStyleModel",
      "state": {
       "description_width": ""
      }
     },
     "9a75478c42bb48f48602cf03bb72023d": {
      "model_module": "@jupyter-widgets/base",
      "model_module_version": "1.2.0",
      "model_name": "LayoutModel",
      "state": {}
     },
     "9a9a5399b5e745cc90afc7dbf0b03e50": {
      "model_module": "@jupyter-widgets/controls",
      "model_module_version": "1.5.0",
      "model_name": "DescriptionStyleModel",
      "state": {
       "description_width": "initial"
      }
     },
     "9aae5e105e944a58bbb2d90a459607c3": {
      "model_module": "@jupyter-widgets/base",
      "model_module_version": "1.2.0",
      "model_name": "LayoutModel",
      "state": {
       "border": "solid"
      }
     },
     "9abaa2eba37e489e81741c477636d567": {
      "model_module": "@jupyter-widgets/base",
      "model_module_version": "1.2.0",
      "model_name": "LayoutModel",
      "state": {
       "grid_area": "filename",
       "width": "auto"
      }
     },
     "9acfd13926434126ae8f914d3763dc54": {
      "model_module": "@jupyter-widgets/controls",
      "model_module_version": "1.5.0",
      "model_name": "DescriptionStyleModel",
      "state": {
       "description_width": ""
      }
     },
     "9b3f54b11fda4a019cc04b48edcaefd0": {
      "model_module": "@jupyter-widgets/base",
      "model_module_version": "1.2.0",
      "model_name": "LayoutModel",
      "state": {}
     },
     "9bc072b9837148f8aa6c9bb3712b11a3": {
      "model_module": "@jupyter-widgets/controls",
      "model_module_version": "1.5.0",
      "model_name": "LabelModel",
      "state": {
       "layout": "IPY_MODEL_8052719fe3ce4b908c6cc617899f1a5e",
       "style": "IPY_MODEL_1551a3ffb84d4e7db8ae4b0702b016ac",
       "value": "Base Parameters"
      }
     },
     "9bf22dbb259641fd879b60738b3824a2": {
      "model_module": "@jupyter-widgets/controls",
      "model_module_version": "1.5.0",
      "model_name": "DescriptionStyleModel",
      "state": {
       "description_width": ""
      }
     },
     "9c0bab3c30ac454d8ebe1d43dbfaeaad": {
      "model_module": "@jupyter-widgets/base",
      "model_module_version": "1.2.0",
      "model_name": "LayoutModel",
      "state": {}
     },
     "9c133272da094e55906f7b5a65b115ed": {
      "model_module": "@jupyter-widgets/controls",
      "model_module_version": "1.5.0",
      "model_name": "DescriptionStyleModel",
      "state": {
       "description_width": "initial"
      }
     },
     "9c529fa83c1642868059c29d00d0452d": {
      "model_module": "@jupyter-widgets/controls",
      "model_module_version": "1.5.0",
      "model_name": "DescriptionStyleModel",
      "state": {
       "description_width": "initial"
      }
     },
     "9c769d2979c348e6a830684e405b334a": {
      "model_module": "@jupyter-widgets/controls",
      "model_module_version": "1.5.0",
      "model_name": "DescriptionStyleModel",
      "state": {
       "description_width": ""
      }
     },
     "9da572ec6825442c9d2a5f31dd0d2621": {
      "model_module": "@jupyter-widgets/base",
      "model_module_version": "1.2.0",
      "model_name": "LayoutModel",
      "state": {}
     },
     "9e8e5cd18dc94803a55b10e973b5e65d": {
      "model_module": "@jupyter-widgets/base",
      "model_module_version": "1.2.0",
      "model_name": "LayoutModel",
      "state": {}
     },
     "9e99171f1b6748bb9493917711fc7fbb": {
      "model_module": "@jupyter-widgets/base",
      "model_module_version": "1.2.0",
      "model_name": "LayoutModel",
      "state": {}
     },
     "9ee4aad5640144d58aa26c79f18db235": {
      "model_module": "@jupyter-widgets/base",
      "model_module_version": "1.2.0",
      "model_name": "LayoutModel",
      "state": {}
     },
     "9f059175beed48acbef407d9dd9c3590": {
      "model_module": "@jupyter-widgets/base",
      "model_module_version": "1.2.0",
      "model_name": "LayoutModel",
      "state": {
       "display": "none"
      }
     },
     "9f0940617cfb49c2bb435719ce3bae51": {
      "model_module": "@jupyter-widgets/base",
      "model_module_version": "1.2.0",
      "model_name": "LayoutModel",
      "state": {}
     },
     "9f0d70c9be854fc4aa0829c44b3fe066": {
      "model_module": "@jupyter-widgets/controls",
      "model_module_version": "1.5.0",
      "model_name": "DescriptionStyleModel",
      "state": {
       "description_width": "initial"
      }
     },
     "9f26b38ed26a4c70a9a9cb8b65f448aa": {
      "model_module": "@jupyter-widgets/base",
      "model_module_version": "1.2.0",
      "model_name": "LayoutModel",
      "state": {}
     },
     "9f720fdd157747f695f230bd092c1004": {
      "model_module": "@jupyter-widgets/controls",
      "model_module_version": "1.5.0",
      "model_name": "DescriptionStyleModel",
      "state": {
       "description_width": "initial"
      }
     },
     "9fa127db0a454cb4ab03ee4787821deb": {
      "model_module": "@jupyter-widgets/controls",
      "model_module_version": "1.5.0",
      "model_name": "DescriptionStyleModel",
      "state": {
       "description_width": ""
      }
     },
     "9fc99f28aa7c42ae90608f2e477dc548": {
      "model_module": "@jupyter-widgets/controls",
      "model_module_version": "1.5.0",
      "model_name": "DescriptionStyleModel",
      "state": {
       "description_width": ""
      }
     },
     "a00061edceaa44fda560058dc27c156c": {
      "model_module": "@jupyter-widgets/base",
      "model_module_version": "1.2.0",
      "model_name": "LayoutModel",
      "state": {}
     },
     "a06348181359429b86b5d30692821805": {
      "model_module": "@jupyter-widgets/controls",
      "model_module_version": "1.5.0",
      "model_name": "ButtonStyleModel",
      "state": {}
     },
     "a08c3b8fa0e34f3c9d260d3093aa2109": {
      "model_module": "@jupyter-widgets/controls",
      "model_module_version": "1.5.0",
      "model_name": "DescriptionStyleModel",
      "state": {
       "description_width": "initial"
      }
     },
     "a0973cff8ad849fbbf1425fbb72da4e8": {
      "model_module": "@jupyter-widgets/controls",
      "model_module_version": "1.5.0",
      "model_name": "ButtonModel",
      "state": {
       "description": "Select",
       "layout": "IPY_MODEL_dfee65aba5f14eeba0cc5c482d248532",
       "style": "IPY_MODEL_76fb34fa72e746439ee0d070dd703a36"
      }
     },
     "a0caa9da94ad49f895505535e876cd08": {
      "model_module": "@jupyter-widgets/base",
      "model_module_version": "1.2.0",
      "model_name": "LayoutModel",
      "state": {}
     },
     "a10951c781524d88a7349087a340b711": {
      "model_module": "@jupyter-widgets/base",
      "model_module_version": "1.2.0",
      "model_name": "LayoutModel",
      "state": {
       "border": "solid"
      }
     },
     "a1388cbd72a04be7b699006ccf6f9304": {
      "model_module": "@jupyter-widgets/controls",
      "model_module_version": "1.5.0",
      "model_name": "TextModel",
      "state": {
       "description": "Levels",
       "layout": "IPY_MODEL_5086b80969d6492f946374b3dd93d0df",
       "style": "IPY_MODEL_14aa3696c9194111a796c69219b5d077",
       "value": "0.0, 0.0, 2.0"
      }
     },
     "a1522ebd5e0e428fbd86ad9b834972f5": {
      "model_module": "@jupyter-widgets/controls",
      "model_module_version": "1.5.0",
      "model_name": "FloatTextModel",
      "state": {
       "description": "Horizontal (m)",
       "layout": "IPY_MODEL_f2d4a72a26324cda8ed359cdc8184dbd",
       "step": null,
       "style": "IPY_MODEL_0701bb5a01f1410aa888de151b3d134d",
       "value": 1000
      }
     },
     "a15ab6742deb40a6918647c51f7f946a": {
      "model_module": "@jupyter-widgets/controls",
      "model_module_version": "1.5.0",
      "model_name": "LabelModel",
      "state": {
       "layout": "IPY_MODEL_b882ef2f8f6c4d1db489c5e2b3b2d9e6",
       "style": "IPY_MODEL_feed2ffccc2a4f4690fb4a1cba02112d",
       "value": "Refinement A"
      }
     },
     "a1671cd8a4134be7b61eb14f265f292b": {
      "model_module": "@jupyter-widgets/controls",
      "model_module_version": "1.5.0",
      "model_name": "DescriptionStyleModel",
      "state": {
       "description_width": "initial"
      }
     },
     "a1a1604daed54e51b2c6032da03d48a9": {
      "model_module": "@jupyter-widgets/controls",
      "model_module_version": "1.5.0",
      "model_name": "HTMLModel",
      "state": {
       "layout": "IPY_MODEL_d46e998099844931bbc46da4f2fb5367",
       "placeholder": "",
       "style": "IPY_MODEL_b920feda573141acae5ee29ac9313e02",
       "value": "<span style=\"color:orange;\">C:\\Users\\dominiquef\\Documents\\GIT\\mira\\geoapps\\assets\\FlinFlon.geoh5</span>"
      }
     },
     "a1dda582182045708cf442f1662de39a": {
      "model_module": "@jupyter-widgets/controls",
      "model_module_version": "1.5.0",
      "model_name": "ButtonModel",
      "state": {
       "description": "Change",
       "layout": "IPY_MODEL_6d25d9154b674052a56d75b00cf28898",
       "style": "IPY_MODEL_83b45d1edfac47c3b8375b153b295975"
      }
     },
     "a1e1b998f05443348dc7d0d87583d52a": {
      "model_module": "@jupyter-widgets/base",
      "model_module_version": "1.2.0",
      "model_name": "LayoutModel",
      "state": {
       "display": "none",
       "grid_gap": "0px 0px",
       "grid_template_areas": "\n                    'pathlist filename'\n                    'dircontent dircontent'\n                    ",
       "grid_template_columns": "60% 40%",
       "grid_template_rows": "auto auto",
       "width": "auto"
      }
     },
     "a1ffc800a5fa4428aa777ae3fbae10df": {
      "model_module": "@jupyter-widgets/base",
      "model_module_version": "1.2.0",
      "model_name": "LayoutModel",
      "state": {
       "grid_area": "dircontent",
       "width": "auto"
      }
     },
     "a21d2766f12746e98bac8e26c234328f": {
      "model_module": "@jupyter-widgets/controls",
      "model_module_version": "1.5.0",
      "model_name": "DescriptionStyleModel",
      "state": {
       "description_width": "initial"
      }
     },
     "a22ec37f561c4ef48f39e4ffd4b55602": {
      "model_module": "@jupyter-widgets/controls",
      "model_module_version": "1.5.0",
      "model_name": "DescriptionStyleModel",
      "state": {
       "description_width": "initial"
      }
     },
     "a2efbdbed39e48cd80fcd2aa01cebd75": {
      "model_module": "@jupyter-widgets/controls",
      "model_module_version": "1.5.0",
      "model_name": "FloatTextModel",
      "state": {
       "description": "Distance",
       "layout": "IPY_MODEL_8df281555f844b7c8d64f74666119fde",
       "step": null,
       "style": "IPY_MODEL_c52a614d7c2740fa805baf02c8981240",
       "value": 1000
      }
     },
     "a2f77554884c4f9c8ffb17d03f88366e": {
      "model_module": "@jupyter-widgets/base",
      "model_module_version": "1.2.0",
      "model_name": "LayoutModel",
      "state": {}
     },
     "a343382703f74f96b4592170813b8ea7": {
      "model_module": "@jupyter-widgets/base",
      "model_module_version": "1.2.0",
      "model_name": "LayoutModel",
      "state": {
       "grid_area": "pathlist",
       "width": "auto"
      }
     },
     "a371adc769234a7e8e16ef40858bb93a": {
      "model_module": "@jupyter-widgets/controls",
      "model_module_version": "1.5.0",
      "model_name": "DescriptionStyleModel",
      "state": {
       "description_width": ""
      }
     },
     "a3e971dc6a1643329eb51087c95b5af8": {
      "model_module": "@jupyter-widgets/base",
      "model_module_version": "1.2.0",
      "model_name": "LayoutModel",
      "state": {}
     },
     "a3f702c6ce7b482a964847a6fa0bab42": {
      "model_module": "@jupyter-widgets/controls",
      "model_module_version": "1.5.0",
      "model_name": "DropdownModel",
      "state": {
       "_options_labels": [
        "surface",
        "radial"
       ],
       "description": "Type",
       "index": 0,
       "layout": "IPY_MODEL_99f267d60ace428f82e20697f3ed712e",
       "style": "IPY_MODEL_b8156aaf13004db5bc97c4c13ca32594"
      }
     },
     "a43a5e573b134d0c8eeff9c9f7fb6f85": {
      "model_module": "@jupyter-widgets/base",
      "model_module_version": "1.2.0",
      "model_name": "LayoutModel",
      "state": {}
     },
     "a473a2b97fc04024b351c12f1fb6450b": {
      "model_module": "@jupyter-widgets/controls",
      "model_module_version": "1.5.0",
      "model_name": "DescriptionStyleModel",
      "state": {
       "description_width": "initial"
      }
     },
     "a48c506d69e745e7b14d2a4e3eedfae2": {
      "model_module": "@jupyter-widgets/controls",
      "model_module_version": "1.5.0",
      "model_name": "DescriptionStyleModel",
      "state": {
       "description_width": "initial"
      }
     },
     "a4a7d8475be84d9481db83716f48a615": {
      "model_module": "@jupyter-widgets/controls",
      "model_module_version": "1.5.0",
      "model_name": "DescriptionStyleModel",
      "state": {
       "description_width": "initial"
      }
     },
     "a4cc597368b642c590b98ca800210d47": {
      "model_module": "@jupyter-widgets/base",
      "model_module_version": "1.2.0",
      "model_name": "LayoutModel",
      "state": {}
     },
     "a4f3692c807f4cb59d1ccf16632de464": {
      "model_module": "@jupyter-widgets/controls",
      "model_module_version": "1.5.0",
      "model_name": "DescriptionStyleModel",
      "state": {
       "description_width": "initial"
      }
     },
     "a4fe359dda3a4dd9addb5b1d82daea63": {
      "model_module": "@jupyter-widgets/controls",
      "model_module_version": "1.5.0",
      "model_name": "DescriptionStyleModel",
      "state": {
       "description_width": "initial"
      }
     },
     "a58b158ad6fa4b49a031a587c29b9eb3": {
      "model_module": "@jupyter-widgets/base",
      "model_module_version": "1.2.0",
      "model_name": "LayoutModel",
      "state": {}
     },
     "a5b53e7eaad447c196d809a0bacdfd1a": {
      "model_module": "@jupyter-widgets/controls",
      "model_module_version": "1.5.0",
      "model_name": "DescriptionStyleModel",
      "state": {
       "description_width": ""
      }
     },
     "a5bb99b9633144869f033b726b40570e": {
      "model_module": "@jupyter-widgets/base",
      "model_module_version": "1.2.0",
      "model_name": "LayoutModel",
      "state": {}
     },
     "a5bc26a274694e5199716463083b0e47": {
      "model_module": "@jupyter-widgets/controls",
      "model_module_version": "1.5.0",
      "model_name": "TextModel",
      "state": {
       "description": "Levels",
       "layout": "IPY_MODEL_a5bb99b9633144869f033b726b40570e",
       "style": "IPY_MODEL_60d1dd0fc3b8464f8e3926f159e3999f",
       "value": "4.0, 4.0, 4.0"
      }
     },
     "a5e42d37442d4fb2905b612ee611fd33": {
      "model_module": "@jupyter-widgets/base",
      "model_module_version": "1.2.0",
      "model_name": "LayoutModel",
      "state": {
       "display": "none",
       "grid_area": "filename",
       "width": "auto"
      }
     },
     "a6447837bde44ff3bd06cfbd19bfbb7e": {
      "model_module": "@jupyter-widgets/base",
      "model_module_version": "1.2.0",
      "model_name": "LayoutModel",
      "state": {
       "overflow": "auto"
      }
     },
     "a653ce54c23c41898d0c30cb60787966": {
      "model_module": "@jupyter-widgets/controls",
      "model_module_version": "1.5.0",
      "model_name": "ButtonStyleModel",
      "state": {}
     },
     "a6615adf5fd2425d8bb8fdab55bb9f82": {
      "model_module": "@jupyter-widgets/controls",
      "model_module_version": "1.5.0",
      "model_name": "CheckboxModel",
      "state": {
       "description": "Geoscience ANALYST Pro - Live link",
       "disabled": false,
       "indent": false,
       "layout": "IPY_MODEL_4da0b6b0bf474f41b875fb085cdf606d",
       "style": "IPY_MODEL_ec172ae8a49646478c366c8dd4653383",
       "value": false
      }
     },
     "a6dd59f9309a4f47b9f4ab6fed822ee6": {
      "model_module": "@jupyter-widgets/controls",
      "model_module_version": "1.5.0",
      "model_name": "LabelModel",
      "state": {
       "layout": "IPY_MODEL_8327d275bf06489e9df1c886e1945239",
       "style": "IPY_MODEL_2addf0f0a6844b6a87c693a105c2979d",
       "value": "Padding distance"
      }
     },
     "a720268c5933489693eb3d9c63e454ab": {
      "model_module": "@jupyter-widgets/controls",
      "model_module_version": "1.5.0",
      "model_name": "DescriptionStyleModel",
      "state": {
       "description_width": ""
      }
     },
     "a72dc3f53a6b44a1acb0b12723e606ad": {
      "model_module": "@jupyter-widgets/controls",
      "model_module_version": "1.5.0",
      "model_name": "DescriptionStyleModel",
      "state": {
       "description_width": "initial"
      }
     },
     "a73ac5ef063445f1a4a63dbbb2bc06f2": {
      "model_module": "@jupyter-widgets/controls",
      "model_module_version": "1.5.0",
      "model_name": "HTMLModel",
      "state": {
       "layout": "IPY_MODEL_8b4e70d2466e41f8907327edaaae9b0a",
       "style": "IPY_MODEL_41d4c00646ae4ba388666dc50c7633a0"
      }
     },
     "a788b46d44c54695b90ba6c59d541d4d": {
      "model_module": "@jupyter-widgets/controls",
      "model_module_version": "1.5.0",
      "model_name": "ButtonStyleModel",
      "state": {}
     },
     "a7c45e6450674e91b2920ebbecc422fe": {
      "model_module": "@jupyter-widgets/controls",
      "model_module_version": "1.5.0",
      "model_name": "HBoxModel",
      "state": {
       "children": [
        "IPY_MODEL_f15c1afaa0994a65a1efdefa5a01501f",
        "IPY_MODEL_bbe8e230ff9f4fb2a8b76c8e1a55277b",
        "IPY_MODEL_aaff037f2730457a8d8a5d6b1249a295"
       ],
       "layout": "IPY_MODEL_89952387f4b74dd1bbf53f632bcf06d8"
      }
     },
     "a7f1d19b5f5d483b9220878aaf64ed77": {
      "model_module": "@jupyter-widgets/controls",
      "model_module_version": "1.5.0",
      "model_name": "VBoxModel",
      "state": {
       "children": [
        "IPY_MODEL_16394789afdb4c6cb31d02d39e7ee417",
        "IPY_MODEL_ef4d6a1561b94ff2afad2dcedc02b8e5"
       ],
       "layout": "IPY_MODEL_54636082256a4557be33a94cbfde772c"
      }
     },
     "a81a0f97608549eda465bc121e8fe537": {
      "model_module": "@jupyter-widgets/controls",
      "model_module_version": "1.5.0",
      "model_name": "ButtonStyleModel",
      "state": {}
     },
     "a82f61b106e74b91a0e51946255028dd": {
      "model_module": "@jupyter-widgets/controls",
      "model_module_version": "1.5.0",
      "model_name": "VBoxModel",
      "state": {
       "children": [
        "IPY_MODEL_8b6035aed9a442de8292f76d7fd8abe4",
        "IPY_MODEL_d1c534cae6bd407e838ea26fc4e459bc",
        "IPY_MODEL_59caf06f4d4046fe8cec4230b8e615b2",
        "IPY_MODEL_34c9fbd7462548ec8ef7d330da89951b",
        "IPY_MODEL_64a767b13a9f40a1b236e3276364b7fc"
       ],
       "layout": "IPY_MODEL_af02e1734db24bb8b59fca4f193dbd64"
      }
     },
     "a840cf04a496439f86481fbe5ad242ed": {
      "model_module": "@jupyter-widgets/controls",
      "model_module_version": "1.5.0",
      "model_name": "HBoxModel",
      "state": {
       "children": [
        "IPY_MODEL_a0973cff8ad849fbbf1425fbb72da4e8",
        "IPY_MODEL_4e46942b2e654ec59039c6e8aac9e13c",
        "IPY_MODEL_f1757497e4df4a7ba0f25e3b049e2e41"
       ],
       "layout": "IPY_MODEL_ecffa3a2f5be46c9a0ffafbc673c04f9"
      }
     },
     "a8a7582778da4303a447635eed2d69e4": {
      "model_module": "@jupyter-widgets/controls",
      "model_module_version": "1.5.0",
      "model_name": "DropdownModel",
      "state": {
       "_options_labels": [
        "",
        "Data_TEM_pseudo3DEPSG_4326",
        "Iso_Iteration_7_model_2_50e-03",
        "Iso_Iteration_7_model_1_00e-02",
        "Iso_Iteration_7_model_1_50e-02",
        "Iso_Iteration_7_model_2_00e-02",
        "Iso_Iteration_7_model_2_00e-02",
        "Iso_Iteration_7_model_5_00e-03",
        "Iso_Iteration_7_model_2_50e-03",
        "Iso_Iteration_7_model_1_50e-02",
        "Iso_Iteration_7_model_1_00e-02",
        "Iso_Iteration_7_model_5_00e-03",
        "fault_splay1",
        "fault_Cliff_Lake",
        "fault_Other_FlinFlon",
        "fault_Club_Lake_splay",
        "fault_Catherine_splay2",
        "fault_Birch_View",
        "fault_Dion_Lake",
        "fault_FlinFlon_splay",
        "fault_West_Mandy_Road",
        "fault_Channing",
        "fault_Ross_Lake",
        "fault_Louis_Hidden",
        "fault_Lake_View_thrust",
        "contact_Schist_Lake",
        "fault_Burley_Lake",
        "fault_Dion_Lake_splay",
        "fault_Green_Lake",
        "fault_FlinFlon",
        "fault_Catherine_splay1",
        "fault_East_Mandy_Road",
        "fault_Other_FlinFlon_South",
        "fault_Catherine_splay4",
        "contact_Stitt_Island",
        "fault_Club_Lake",
        "fault_Tailing_Pond",
        "35_Hidden_Reservoir_Hr5",
        "29_Hidden_Reservoir_Hr1a",
        "60_BlueLagoon_Fb2",
        "20_FlinFlon_Undivided_Int_Dykes_D2f",
        "04_Boundary_Intrusive_S4h",
        "53_Millrock_Rhyolite_Fm4b",
        "19_FlinFlon_Undivided_Int_Dykes_D2b",
        "18_FlinFlon_Undivided_Int_Dykes_777_D2b",
        "06_Phantom_Lake_Intrusive_S3a",
        "21_FlinFlon_Undivided_Int_Dykes_D3a",
        "43_Millrock_CHLSH_South",
        "56_Millrock_Basalt_Fm1ba",
        "17_FlinFlon_Undivided_Int_Dykes_D2",
        "32_Hidden_Reservoir_Hr1b_SW",
        "11_Missi_M3_NE",
        "13_Missi_M1",
        "07_Annabel_Granitoid_S1",
        "45_Millrock_Gabbro_South",
        "01_Late_Intrusive_S5b",
        "31_Hidden_Reservoir_Hr1c_SW",
        "52_Millrock_Rhyolite_Fm4_West_check",
        "55_Millrock_Basalt_Fm1bf",
        "34_Hidden_Reservoir_Hr2b",
        "03_Boundary_Intrusive_S4b",
        "42_Millrock_CHLSH_North",
        "26_Louis_L3",
        "23_FlinFlon_Undivided_Int_Felsic_D4g",
        "30_Hidden_Reservoir_Hr1b",
        "59_BlueLagoon_Fb3",
        "49_Millrock_MVR_Fm5d",
        "44_Millrock_Gabbro_North",
        "27_Hidden_Carlisle_Hc4",
        "22_FlinFlon_Undivided_Int_Felsic_D4e",
        "02_Boundary_Intrusive_S4a",
        "61_BlueLagoon_Fb1_NW",
        "05_Boundary_Intrusive_S4g",
        "39_Ore_Callinan",
        "38_Ore_Dan_Owens",
        "40_Ore_FlinFlon",
        "Inversion_VTEM_Model",
        "CDI_VTEM_model",
        "Data_FEM_pseudo3D",
        "geochem",
        "Inversion_DIGHEM_Model",
        "Topography",
        "Data_TEM_pseudo3D",
        "Data_ZTEM",
        "Mesh"
       ],
       "description": "Object",
       "index": 78,
       "layout": "IPY_MODEL_48a6f925dbc64f4fafb7849ff21c8912",
       "style": "IPY_MODEL_80613020f4494329aa33189667250cfd"
      }
     },
     "a8c3a0121a924206aca478a8939cd81a": {
      "model_module": "@jupyter-widgets/controls",
      "model_module_version": "1.5.0",
      "model_name": "DescriptionStyleModel",
      "state": {
       "description_width": ""
      }
     },
     "a91c8374ffd3412ba07e5e8453568b65": {
      "model_module": "@jupyter-widgets/controls",
      "model_module_version": "1.5.0",
      "model_name": "SelectModel",
      "state": {
       "_options_labels": [
        "..",
        "SimPEG_PFInversion",
        "Temp",
        "dask-worker-space",
        "Crossplot.html",
        "FlinFlon.geoh5",
        "Gravity_Magnetics_drape60m_Airborne_Gxx.tif",
        "Gravity_Magnetics_drape60m_Airborne_Gxx_Colorbar.png",
        "Gravity_Magnetics_drape60m_Airborne_Gxx_RGB.txt",
        "Inversion_.json",
        "Inversion_2.json",
        "Inversion_L0L2.json",
        "Inversion_L1L2.json",
        "Inversion_MVI_susRef.json",
        "Inversion_MagSusc.json",
        "Inversion_MagSusc_noref.json",
        "Inversion_TMI.json",
        "Inversion_test.json",
        "MtDore.geoh5",
        "MtDore_TMI.geoh5",
        "Octree_Mesh.ui.geoh5",
        "Octree_Mesh.ui.json",
        "Octree_Mesh_2.ui.json",
        "Octree_Mesh_33.ui.json",
        "Octree_Mesh_44.ui.json",
        "Octree_Mesh_55.ui.json",
        "Octree_Mesh_done.ui.json",
        "Octree_Mesh_done2.ui.json",
        "Octree_Mesh_geochem.ui.json",
        "Octree_Mesh_max_dist.ui.json",
        "Octree_Mesh_max_dist_10m.ui.json",
        "Octree_Mesh_ore.ui.json",
        "Octree_Mesh_padded.ui.json",
        "Octree_Mesh_surf.ui.json",
        "Octree_Mesh_v2.ui.json",
        "Octree_Mesh_v3.ui.geoh5",
        "Octree_Mesh_v3.ui.json",
        "Octree_Mesh_v4.ui.geoh5",
        "Octree_Mesh_v4.ui.json",
        "Octree_Mesh_v5.ui.json",
        "Octree_Mesh_v6.ui.geoh5",
        "Octree_Mesh_v6.ui.json",
        "Octree_Mesh_v7.ui.json",
        "default_mvi.ui.geoh5",
        "default_mvi.ui.json",
        "demo.ipynb",
        "edge_tester.geoh5",
        "input.ui.json",
        "live_update_demo.ipynb",
        "live_update_demo.ipynb.zip",
        "options_tree.json",
        "project.geoh5",
        "testPoints.geoh5",
        "tester.ui.geoh5",
        "tester.ui.json"
       ],
       "index": 5,
       "layout": "IPY_MODEL_3d7b33cb870c46dcbcefa6e9b9d920cb",
       "rows": 8,
       "style": "IPY_MODEL_66fd34e71d674211823094233c27124e"
      }
     },
     "a95c0d9d2f0d4efc90cbaaa06dd0dca0": {
      "model_module": "@jupyter-widgets/controls",
      "model_module_version": "1.5.0",
      "model_name": "TextModel",
      "state": {
       "disabled": true,
       "layout": "IPY_MODEL_2f4578132eb740baa88a55b3ba9d1646",
       "placeholder": "output filename",
       "style": "IPY_MODEL_6000546c6507404f814c07e90772ca6f"
      }
     },
     "a977440af44f48da88f93f6bc696097c": {
      "model_module": "@jupyter-widgets/base",
      "model_module_version": "1.2.0",
      "model_name": "LayoutModel",
      "state": {
       "min_width": "6em",
       "width": "6em"
      }
     },
     "a9cdada425a24c8da22850a6767eba3b": {
      "model_module": "@jupyter-widgets/controls",
      "model_module_version": "1.5.0",
      "model_name": "DescriptionStyleModel",
      "state": {
       "description_width": ""
      }
     },
     "a9d44dc95ebc417eb29ba4646593422f": {
      "model_module": "@jupyter-widgets/controls",
      "model_module_version": "1.5.0",
      "model_name": "DescriptionStyleModel",
      "state": {
       "description_width": ""
      }
     },
     "a9d7ddcbc25d43f9a7ed33bf38e64f32": {
      "model_module": "@jupyter-widgets/controls",
      "model_module_version": "1.5.0",
      "model_name": "DescriptionStyleModel",
      "state": {
       "description_width": ""
      }
     },
     "aa2f37c788a241e096634de8856956ca": {
      "model_module": "@jupyter-widgets/controls",
      "model_module_version": "1.5.0",
      "model_name": "FloatTextModel",
      "state": {
       "description": "Vertical (m)",
       "layout": "IPY_MODEL_ff15235d0973478d9cff4583b23f0a31",
       "step": null,
       "style": "IPY_MODEL_0ec22180fade42c0b87250783e4203ee",
       "value": 1000
      }
     },
     "aa8ebcab26004851b6a342d5a2176db2": {
      "model_module": "@jupyter-widgets/controls",
      "model_module_version": "1.5.0",
      "model_name": "ButtonStyleModel",
      "state": {}
     },
     "aab2034d48894a40a5ddf524ea46d716": {
      "model_module": "@jupyter-widgets/controls",
      "model_module_version": "1.5.0",
      "model_name": "DescriptionStyleModel",
      "state": {
       "description_width": ""
      }
     },
     "aac58b27fc0b4f07a1dbd79f0e80da42": {
      "model_module": "@jupyter-widgets/controls",
      "model_module_version": "1.5.0",
      "model_name": "LabelModel",
      "state": {
       "layout": "IPY_MODEL_67dbe864e89c45d7825eff7572cae6ed",
       "style": "IPY_MODEL_bd5a5483031640af8eef4c77afa28b45",
       "value": "Workspace"
      }
     },
     "aae49a1c3dd4482d8506764790e6fcd4": {
      "model_module": "@jupyter-widgets/controls",
      "model_module_version": "1.5.0",
      "model_name": "BoxModel",
      "state": {
       "children": [
        "IPY_MODEL_948acfa6303343fcbf49bc218aa4f6db"
       ],
       "layout": "IPY_MODEL_4650095da0d84132b051af3710d31866"
      }
     },
     "aaff037f2730457a8d8a5d6b1249a295": {
      "model_module": "@jupyter-widgets/controls",
      "model_module_version": "1.5.0",
      "model_name": "BoxModel",
      "state": {
       "children": [
        "IPY_MODEL_bab209534ae74938ad576f894011d9e7"
       ],
       "layout": "IPY_MODEL_c54fa70b3b7943b19ff81cf109eee15d"
      }
     },
     "aaffa29191dc45cfb9d7202ecba057a0": {
      "model_module": "@jupyter-widgets/controls",
      "model_module_version": "1.5.0",
      "model_name": "DescriptionStyleModel",
      "state": {
       "description_width": "initial"
      }
     },
     "ab07b273458846eb93dac5e283d5b81b": {
      "model_module": "@jupyter-widgets/controls",
      "model_module_version": "1.5.0",
      "model_name": "FloatTextModel",
      "state": {
       "description": "Minimum depth (m)",
       "layout": "IPY_MODEL_169089ed128e48a0a010864143b625c0",
       "step": null,
       "style": "IPY_MODEL_43d2f3c666aa4a89b872247fe2caf368",
       "value": 500
      }
     },
     "ab1df8199d0b4217bbbf5919672a9b7e": {
      "model_module": "@jupyter-widgets/base",
      "model_module_version": "1.2.0",
      "model_name": "LayoutModel",
      "state": {
       "display": "none",
       "grid_gap": "0px 0px",
       "grid_template_areas": "\n                    'pathlist pathlist'\n                    'dircontent dircontent'\n                    ",
       "grid_template_columns": "60% 40%",
       "grid_template_rows": "auto auto",
       "width": "auto"
      }
     },
     "ab23271a759e48fcbbf405541c03da71": {
      "model_module": "@jupyter-widgets/controls",
      "model_module_version": "1.5.0",
      "model_name": "ToggleButtonModel",
      "state": {
       "layout": "IPY_MODEL_6d4c9180ed034c928755aa0f0f11f95b",
       "style": "IPY_MODEL_f9279440f9a04256bf82f251d06c273e",
       "value": true
      }
     },
     "ab28c5f0178b4effaa319b83e9b3ac41": {
      "model_module": "@jupyter-widgets/base",
      "model_module_version": "1.2.0",
      "model_name": "LayoutModel",
      "state": {}
     },
     "ab46ba4b4e6f4b8e9553da4d805f8929": {
      "model_module": "@jupyter-widgets/controls",
      "model_module_version": "1.5.0",
      "model_name": "ButtonModel",
      "state": {
       "description": "Cancel",
       "layout": "IPY_MODEL_47b4e58d99bf45f9a59d1ed0db03baca",
       "style": "IPY_MODEL_7166d23a17a6403dacd3dd022be6eb49"
      }
     },
     "ab7eae24e8804613a535284e875e6b5b": {
      "model_module": "@jupyter-widgets/controls",
      "model_module_version": "1.5.0",
      "model_name": "ButtonStyleModel",
      "state": {}
     },
     "abbaaae79c24449eacf28d4572a60ce5": {
      "model_module": "@jupyter-widgets/base",
      "model_module_version": "1.2.0",
      "model_name": "LayoutModel",
      "state": {}
     },
     "abf898b1ceab4048bad7cc5575a51b44": {
      "model_module": "@jupyter-widgets/base",
      "model_module_version": "1.2.0",
      "model_name": "LayoutModel",
      "state": {}
     },
     "ac054d5b6f7b4cd2a76e0fd9a9ee3eb0": {
      "model_module": "@jupyter-widgets/controls",
      "model_module_version": "1.5.0",
      "model_name": "ButtonStyleModel",
      "state": {}
     },
     "ac7b4c3e95144e1995c5544db2401ae7": {
      "model_module": "@jupyter-widgets/base",
      "model_module_version": "1.2.0",
      "model_name": "LayoutModel",
      "state": {}
     },
     "acc4b556a029410783ce430b97762af5": {
      "model_module": "@jupyter-widgets/controls",
      "model_module_version": "1.5.0",
      "model_name": "FloatTextModel",
      "state": {
       "description": "Easting",
       "layout": "IPY_MODEL_8ea3dcdbf443466a99c58f11fc015f75",
       "step": null,
       "style": "IPY_MODEL_46b2bd44e9724a9a9545cb2838a9ec52",
       "value": 25
      }
     },
     "ad539220e9704f34b16eeb62863b6e67": {
      "model_module": "@jupyter-widgets/controls",
      "model_module_version": "1.5.0",
      "model_name": "DescriptionStyleModel",
      "state": {
       "description_width": "initial"
      }
     },
     "ad617305d8524dd1a2679810fe7c3f4a": {
      "model_module": "@jupyter-widgets/controls",
      "model_module_version": "1.5.0",
      "model_name": "DescriptionStyleModel",
      "state": {
       "description_width": "initial"
      }
     },
     "ad7b0363ae0745f680ce0b7f463e2d12": {
      "model_module": "@jupyter-widgets/controls",
      "model_module_version": "1.5.0",
      "model_name": "DescriptionStyleModel",
      "state": {
       "description_width": "initial"
      }
     },
     "adf7fb4915034195aee290c03414472b": {
      "model_module": "@jupyter-widgets/controls",
      "model_module_version": "1.5.0",
      "model_name": "ButtonStyleModel",
      "state": {}
     },
     "ae0adf3e443d4d6399394a66c9608238": {
      "model_module": "@jupyter-widgets/controls",
      "model_module_version": "1.5.0",
      "model_name": "HBoxModel",
      "state": {
       "children": [
        "IPY_MODEL_90ba0b9384df418f9ba5368845b0ef99",
        "IPY_MODEL_bf4ba7e4e8a342219e4fd26a6650c173",
        "IPY_MODEL_6a713c29cf644c9bac49497e571f73ca"
       ],
       "layout": "IPY_MODEL_030082103d5242d2aecf40e366c45614"
      }
     },
     "ae23d4616d4140b9899e79673464c2c7": {
      "model_module": "@jupyter-widgets/controls",
      "model_module_version": "1.5.0",
      "model_name": "DescriptionStyleModel",
      "state": {
       "description_width": "initial"
      }
     },
     "ae5ce80107f04f96909cc997f0e81f94": {
      "model_module": "@jupyter-widgets/base",
      "model_module_version": "1.2.0",
      "model_name": "LayoutModel",
      "state": {}
     },
     "ae9591e5484240f8baa45638a65969cc": {
      "model_module": "@jupyter-widgets/controls",
      "model_module_version": "1.5.0",
      "model_name": "CheckboxModel",
      "state": {
       "description": "Geoscience ANALYST Pro - Live link",
       "disabled": false,
       "indent": false,
       "layout": "IPY_MODEL_81e244bf0c4a4508bf6f33bbdf64c3fa",
       "style": "IPY_MODEL_1f8b3c5cf3f1492f9349363ac2e84fca",
       "value": false
      }
     },
     "aebe95d16edd46daa5bc11f2e5cc2fbf": {
      "model_module": "@jupyter-widgets/controls",
      "model_module_version": "1.5.0",
      "model_name": "HTMLModel",
      "state": {
       "layout": "IPY_MODEL_2915e470ae9d4d0aae7b6e9fb171ad6c",
       "style": "IPY_MODEL_524712cabe1845a2a1189b26de4c5307"
      }
     },
     "aeee0ed2cf3c4c96855c5ada112e367c": {
      "model_module": "@jupyter-widgets/controls",
      "model_module_version": "1.5.0",
      "model_name": "DescriptionStyleModel",
      "state": {
       "description_width": "initial"
      }
     },
     "af02e1734db24bb8b59fca4f193dbd64": {
      "model_module": "@jupyter-widgets/base",
      "model_module_version": "1.2.0",
      "model_name": "LayoutModel",
      "state": {
       "border": "solid"
      }
     },
     "af2f0209c13140e18806b2035bea6a76": {
      "model_module": "@jupyter-widgets/controls",
      "model_module_version": "1.5.0",
      "model_name": "DescriptionStyleModel",
      "state": {
       "description_width": ""
      }
     },
     "af4136ddbf7e44e197203793ec67dd47": {
      "model_module": "@jupyter-widgets/base",
      "model_module_version": "1.2.0",
      "model_name": "LayoutModel",
      "state": {}
     },
     "af423175a9134b09ad8b010df43bfdf9": {
      "model_module": "@jupyter-widgets/base",
      "model_module_version": "1.2.0",
      "model_name": "LayoutModel",
      "state": {}
     },
     "af8688146f2c46dd83881c59106a9cf9": {
      "model_module": "@jupyter-widgets/controls",
      "model_module_version": "1.5.0",
      "model_name": "DescriptionStyleModel",
      "state": {
       "description_width": "initial"
      }
     },
     "b047ebedbaa747179950dc645154c4b9": {
      "model_module": "@jupyter-widgets/controls",
      "model_module_version": "1.5.0",
      "model_name": "DescriptionStyleModel",
      "state": {
       "description_width": ""
      }
     },
     "b04ce454c17e4873b851428cb73803a9": {
      "model_module": "@jupyter-widgets/base",
      "model_module_version": "1.2.0",
      "model_name": "LayoutModel",
      "state": {}
     },
     "b098d6eeeb514c8b88ad93e0ac6f8db0": {
      "model_module": "@jupyter-widgets/controls",
      "model_module_version": "1.5.0",
      "model_name": "FloatTextModel",
      "state": {
       "description": "Minimum depth (m)",
       "layout": "IPY_MODEL_af423175a9134b09ad8b010df43bfdf9",
       "step": null,
       "style": "IPY_MODEL_70ef41d4b55941c7bb6567810cd15ded",
       "value": 500
      }
     },
     "b099b7197e2643488c35793e5abb922f": {
      "model_module": "@jupyter-widgets/base",
      "model_module_version": "1.2.0",
      "model_name": "LayoutModel",
      "state": {}
     },
     "b09b2ba4dcfc4e7e95aabff9b211e3ba": {
      "model_module": "@jupyter-widgets/controls",
      "model_module_version": "1.5.0",
      "model_name": "DropdownModel",
      "state": {
       "_options_labels": [
        "surface",
        "radial"
       ],
       "description": "Type",
       "index": 0,
       "layout": "IPY_MODEL_0ab7557d0cb94b2580e6d8c22627acb6",
       "style": "IPY_MODEL_89dec57e2384497bb4b64f63ed08e0cf"
      }
     },
     "b10a476a3796479b802289a370529740": {
      "model_module": "@jupyter-widgets/controls",
      "model_module_version": "1.5.0",
      "model_name": "LabelModel",
      "state": {
       "layout": "IPY_MODEL_e20d162817ed4bc68dc0ab5534493eea",
       "style": "IPY_MODEL_6e88551537f1432b9d852e71e7cb0eb9",
       "value": "Refinement b "
      }
     },
     "b14bc4b9bf6143fc95d0df95a303d9e7": {
      "model_module": "@jupyter-widgets/controls",
      "model_module_version": "1.5.0",
      "model_name": "VBoxModel",
      "state": {
       "children": [
        "IPY_MODEL_1e3542519cb94b31bd1c3cbf0758f820"
       ],
       "layout": "IPY_MODEL_6f329f538462434dbdb4f497d5267ba5"
      }
     },
     "b1ad7aa559c24d1db34a89cfdf577e6a": {
      "model_module": "@jupyter-widgets/controls",
      "model_module_version": "1.5.0",
      "model_name": "DescriptionStyleModel",
      "state": {
       "description_width": ""
      }
     },
     "b1f891debe5f4053ae5b9ce20e722c79": {
      "model_module": "@jupyter-widgets/controls",
      "model_module_version": "1.5.0",
      "model_name": "TextModel",
      "state": {
       "continuous_update": false,
       "description": "Name:",
       "layout": "IPY_MODEL_1784dfadae9f4e63aaad4a362e502f0e",
       "style": "IPY_MODEL_a48c506d69e745e7b14d2a4e3eedfae2",
       "value": "Octree_Mesh"
      }
     },
     "b2314b608c4c4dac816d605dfbfd7b91": {
      "model_module": "@jupyter-widgets/controls",
      "model_module_version": "1.5.0",
      "model_name": "DescriptionStyleModel",
      "state": {
       "description_width": "initial"
      }
     },
     "b235f138194c467a8d354b1756d9f4e8": {
      "model_module": "@jupyter-widgets/controls",
      "model_module_version": "1.5.0",
      "model_name": "HTMLModel",
      "state": {
       "layout": "IPY_MODEL_b725fcbdf5a9477c892e904eb8719abe",
       "style": "IPY_MODEL_cf4c8dd154ad4e0c92b2c8d5728ac1fa"
      }
     },
     "b254c2ae1e3d4249b592f38698993c5b": {
      "model_module": "@jupyter-widgets/controls",
      "model_module_version": "1.5.0",
      "model_name": "DropdownModel",
      "state": {
       "_options_labels": [
        "C:\\Users\\dominiquef\\Documents\\GIT\\mira\\geoapps\\assets\\Temp",
        "C:\\Users\\dominiquef\\Documents\\GIT\\mira\\geoapps\\assets",
        "C:\\Users\\dominiquef\\Documents\\GIT\\mira\\geoapps",
        "C:\\Users\\dominiquef\\Documents\\GIT\\mira",
        "C:\\Users\\dominiquef\\Documents\\GIT",
        "C:\\Users\\dominiquef\\Documents",
        "C:\\Users\\dominiquef",
        "C:\\Users",
        "C:\\",
        "\\\\EgnyteDrive\\mirageoscience\\",
        "D:\\",
        "G:\\"
       ],
       "index": 0,
       "layout": "IPY_MODEL_df7f7c0300a14f8280304c2d71bbfb48",
       "style": "IPY_MODEL_bbf860196b4d4f29894326f8077a7cfe"
      }
     },
     "b2760394b64a4205828e7b5160f75120": {
      "model_module": "@jupyter-widgets/controls",
      "model_module_version": "1.5.0",
      "model_name": "TextModel",
      "state": {
       "continuous_update": false,
       "description": "Name:",
       "layout": "IPY_MODEL_cb735a0547b845daa1d6ae76f7938d9b",
       "style": "IPY_MODEL_9c529fa83c1642868059c29d00d0452d",
       "value": "Octree_Mesh"
      }
     },
     "b2cc2be5cd7a401a8a5455642986ac1d": {
      "model_module": "@jupyter-widgets/controls",
      "model_module_version": "1.5.0",
      "model_name": "DescriptionStyleModel",
      "state": {
       "description_width": "initial"
      }
     },
     "b2d9335666334ce1a3efa41b1c98fe33": {
      "model_module": "@jupyter-widgets/base",
      "model_module_version": "1.2.0",
      "model_name": "LayoutModel",
      "state": {
       "grid_area": "dircontent",
       "width": "auto"
      }
     },
     "b2fcdf23be3a41d2b1adad8c701d8988": {
      "model_module": "@jupyter-widgets/controls",
      "model_module_version": "1.5.0",
      "model_name": "FloatTextModel",
      "state": {
       "description": "Horizontal (m)",
       "layout": "IPY_MODEL_5c673b3ac18a4fcca936b29fc0ade6d1",
       "step": null,
       "style": "IPY_MODEL_03255fcc1b3142d6a25872443861f68b",
       "value": 1000
      }
     },
     "b30ea0de99c948be8cd3488a098337d9": {
      "model_module": "@jupyter-widgets/base",
      "model_module_version": "1.2.0",
      "model_name": "LayoutModel",
      "state": {}
     },
     "b36fd34e37b54c148363cb8ff6302efc": {
      "model_module": "@jupyter-widgets/controls",
      "model_module_version": "1.5.0",
      "model_name": "DescriptionStyleModel",
      "state": {
       "description_width": ""
      }
     },
     "b3e96175a0a6472fb7fa1fa13dc25863": {
      "model_module": "@jupyter-widgets/controls",
      "model_module_version": "1.5.0",
      "model_name": "FloatTextModel",
      "state": {
       "description": "Vertical (m)",
       "layout": "IPY_MODEL_c8d22e797e2d496a8492f5fbdeeb37aa",
       "step": null,
       "style": "IPY_MODEL_4ade7121aad7461cb87f4a78d4ee883a",
       "value": 1000
      }
     },
     "b4516db423154131874a99ef9a202942": {
      "model_module": "@jupyter-widgets/base",
      "model_module_version": "1.2.0",
      "model_name": "LayoutModel",
      "state": {}
     },
     "b5653d4e03f34a0681bcbfc16b30f5d6": {
      "model_module": "@jupyter-widgets/base",
      "model_module_version": "1.2.0",
      "model_name": "LayoutModel",
      "state": {}
     },
     "b58b1034c67f4e12a13c4e9f82042306": {
      "model_module": "@jupyter-widgets/controls",
      "model_module_version": "1.5.0",
      "model_name": "VBoxModel",
      "state": {
       "children": [
        "IPY_MODEL_7b92d1bf8705493bb04f62f47699201f",
        "IPY_MODEL_668f58ef28e4465dbfdb5001090eefb3",
        "IPY_MODEL_cf76eee7be6a4ea3ac7d8a8895b85edd",
        "IPY_MODEL_1232968ac60441a28befbc235ab4f46a",
        "IPY_MODEL_23e685e476714069bb3341ee6a43911e",
        "IPY_MODEL_604371d905994e8fb18a623c354a2a7d",
        "IPY_MODEL_6eda371b4dc5422ea2f2f3fd5b665f45",
        "IPY_MODEL_2d9026cfd75b404682e3093554233470",
        "IPY_MODEL_f9c4689f61574e069c14577a0830c376",
        "IPY_MODEL_b3e96175a0a6472fb7fa1fa13dc25863"
       ],
       "layout": "IPY_MODEL_7de8aee2c0a345b299ad3596ad0e3553"
      }
     },
     "b5a02601c53445be8f3075ec24d116e4": {
      "model_module": "@jupyter-widgets/base",
      "model_module_version": "1.2.0",
      "model_name": "LayoutModel",
      "state": {
       "display": "none"
      }
     },
     "b5c2f553fc204eb89795efced261464b": {
      "model_module": "@jupyter-widgets/base",
      "model_module_version": "1.2.0",
      "model_name": "LayoutModel",
      "state": {}
     },
     "b607698d447140c1b5fbce07e8be27ef": {
      "model_module": "@jupyter-widgets/controls",
      "model_module_version": "1.5.0",
      "model_name": "DescriptionStyleModel",
      "state": {
       "description_width": ""
      }
     },
     "b697ca189d824557aeb2681776785799": {
      "model_module": "@jupyter-widgets/controls",
      "model_module_version": "1.5.0",
      "model_name": "LabelModel",
      "state": {
       "layout": "IPY_MODEL_5e8befdc9bfb4504aa8455bc59cbad56",
       "style": "IPY_MODEL_382cb817d9774dd0b8b19e56e371638f",
       "value": "Base Parameters"
      }
     },
     "b697ff1653f648aea6251c2459d8a04f": {
      "model_module": "@jupyter-widgets/controls",
      "model_module_version": "1.5.0",
      "model_name": "TextModel",
      "state": {
       "layout": "IPY_MODEL_58eedcc96e4f4310883de74e77b69695",
       "placeholder": "output filename",
       "style": "IPY_MODEL_10385ce15eea4a68b7cb6ca12f34c60d",
       "value": "FlinFlon.geoh5"
      }
     },
     "b6f6fd4e025f45909c9537c2d759685d": {
      "model_module": "@jupyter-widgets/controls",
      "model_module_version": "1.5.0",
      "model_name": "VBoxModel",
      "state": {
       "children": [
        "IPY_MODEL_563da30d77084868b7d8d1ceb901cdac",
        "IPY_MODEL_3b6b805a7d504370abbd99379e8ff446",
        "IPY_MODEL_957b01e39cf740a59e37d6817d2792e5"
       ],
       "layout": "IPY_MODEL_39be6ad869204640b4ef8bcef8689a54"
      }
     },
     "b725fcbdf5a9477c892e904eb8719abe": {
      "model_module": "@jupyter-widgets/base",
      "model_module_version": "1.2.0",
      "model_name": "LayoutModel",
      "state": {
       "display": "none"
      }
     },
     "b72782ee160145caa5dd85e20c40fc89": {
      "model_module": "@jupyter-widgets/controls",
      "model_module_version": "1.5.0",
      "model_name": "HBoxModel",
      "state": {
       "children": [
        "IPY_MODEL_6ec7a87f5dfc45528ae4381307e450b7",
        "IPY_MODEL_dd7544e21df04a4c866bf2f0bfe2c2a7"
       ],
       "layout": "IPY_MODEL_44e571436a3b4a5bb25b3a7bbdb71a48"
      }
     },
     "b74ee4c6ea494ae09ae9f2644ee5195e": {
      "model_module": "@jupyter-widgets/base",
      "model_module_version": "1.2.0",
      "model_name": "LayoutModel",
      "state": {}
     },
     "b788a517b38f4654ba3813b49761a645": {
      "model_module": "@jupyter-widgets/controls",
      "model_module_version": "1.5.0",
      "model_name": "DescriptionStyleModel",
      "state": {
       "description_width": ""
      }
     },
     "b808e31432a34e71a6ee308963e9c174": {
      "model_module": "@jupyter-widgets/controls",
      "model_module_version": "1.5.0",
      "model_name": "TextModel",
      "state": {
       "description": "Levels",
       "layout": "IPY_MODEL_1089f7b8912946348cc24aec327d0235",
       "style": "IPY_MODEL_ca5c13397e714f13a96e82c6203c36ff",
       "value": "4.0, 4.0, 4.0"
      }
     },
     "b810bf82dfd24bc9a037cf3698514324": {
      "model_module": "@jupyter-widgets/base",
      "model_module_version": "1.2.0",
      "model_name": "LayoutModel",
      "state": {
       "grid_area": "dircontent",
       "width": "auto"
      }
     },
     "b8156aaf13004db5bc97c4c13ca32594": {
      "model_module": "@jupyter-widgets/controls",
      "model_module_version": "1.5.0",
      "model_name": "DescriptionStyleModel",
      "state": {
       "description_width": "initial"
      }
     },
     "b845294518c8489cb56ca19aef05285e": {
      "model_module": "@jupyter-widgets/controls",
      "model_module_version": "1.5.0",
      "model_name": "DescriptionStyleModel",
      "state": {
       "description_width": "initial"
      }
     },
     "b84c99a6a6544254bce56c458bad80dc": {
      "model_module": "@jupyter-widgets/controls",
      "model_module_version": "1.5.0",
      "model_name": "HBoxModel",
      "state": {
       "children": [
        "IPY_MODEL_4e44943408bf4d61a6579c1eb783ed93",
        "IPY_MODEL_814366b415bb4f0d890b905294cf2999"
       ],
       "layout": "IPY_MODEL_bf62d4fedc8d40b5b4886bd6b63661e1"
      }
     },
     "b857ace1f95548aea74229dbc987b687": {
      "model_module": "@jupyter-widgets/controls",
      "model_module_version": "1.5.0",
      "model_name": "HBoxModel",
      "state": {
       "children": [
        "IPY_MODEL_602b03a603644d179c9bbfc53fc4deb1",
        "IPY_MODEL_52ec835271c1433b8915e37ce19af9e5",
        "IPY_MODEL_8547ba1bf2ab4924b1b65fc0986c8154"
       ],
       "layout": "IPY_MODEL_e7557fdfc49d48a799d4910d55a1d78d"
      }
     },
     "b8666dfa11784840ad7ef9f811defaa9": {
      "model_module": "@jupyter-widgets/controls",
      "model_module_version": "1.5.0",
      "model_name": "ButtonStyleModel",
      "state": {}
     },
     "b8695f4ce899424faa68524b4d2f4d19": {
      "model_module": "@jupyter-widgets/base",
      "model_module_version": "1.2.0",
      "model_name": "LayoutModel",
      "state": {
       "width": "auto"
      }
     },
     "b882ef2f8f6c4d1db489c5e2b3b2d9e6": {
      "model_module": "@jupyter-widgets/base",
      "model_module_version": "1.2.0",
      "model_name": "LayoutModel",
      "state": {}
     },
     "b8be4628e20a4fbfae797e69e9d91cea": {
      "model_module": "@jupyter-widgets/controls",
      "model_module_version": "1.5.0",
      "model_name": "SelectModel",
      "state": {
       "_options_labels": [
        "..",
        "SimPEG_PFInversion",
        "Temp",
        "dask-worker-space",
        "Crossplot.html",
        "FlinFlon.geoh5",
        "Gravity_Magnetics_drape60m_Airborne_Gxx.tif",
        "Gravity_Magnetics_drape60m_Airborne_Gxx_Colorbar.png",
        "Gravity_Magnetics_drape60m_Airborne_Gxx_RGB.txt",
        "Inversion_.json",
        "Inversion_2.json",
        "Inversion_L0L2.json",
        "Inversion_L1L2.json",
        "Inversion_MVI_susRef.json",
        "Inversion_MagSusc.json",
        "Inversion_MagSusc_noref.json",
        "Inversion_TMI.json",
        "Inversion_test.json",
        "MtDore.geoh5",
        "MtDore_TMI.geoh5",
        "Octree_Mesh.ui.geoh5",
        "Octree_Mesh.ui.json",
        "Octree_Mesh_2.ui.json",
        "Octree_Mesh_33.ui.json",
        "Octree_Mesh_44.ui.json",
        "Octree_Mesh_55.ui.json",
        "Octree_Mesh_done.ui.json",
        "Octree_Mesh_done2.ui.json",
        "Octree_Mesh_geochem.ui.json",
        "Octree_Mesh_max_dist.ui.json",
        "Octree_Mesh_max_dist_10m.ui.json",
        "Octree_Mesh_ore.ui.json",
        "Octree_Mesh_padded.ui.json",
        "Octree_Mesh_surf.ui.json",
        "Octree_Mesh_v2.ui.json",
        "Octree_Mesh_v3.ui.geoh5",
        "Octree_Mesh_v3.ui.json",
        "Octree_Mesh_v4.ui.geoh5",
        "Octree_Mesh_v4.ui.json",
        "Octree_Mesh_v5.ui.json",
        "Octree_Mesh_v6.ui.geoh5",
        "Octree_Mesh_v6.ui.json",
        "Octree_Mesh_v7.ui.json",
        "default_mvi.ui.geoh5",
        "default_mvi.ui.json",
        "demo.ipynb",
        "edge_tester.geoh5",
        "input.ui.json",
        "live_update_demo.ipynb",
        "live_update_demo.ipynb.zip",
        "options_tree.json",
        "project.geoh5",
        "testPoints.geoh5",
        "tester.ui.geoh5",
        "tester.ui.json"
       ],
       "index": 5,
       "layout": "IPY_MODEL_3e33fd82c7844f22aabe772146618483",
       "rows": 8,
       "style": "IPY_MODEL_8342a810847c4f75a03969cdbe56a0e5"
      }
     },
     "b8de6c5201264d958a02411e2a7bcb39": {
      "model_module": "@jupyter-widgets/base",
      "model_module_version": "1.2.0",
      "model_name": "LayoutModel",
      "state": {
       "grid_area": "pathlist",
       "width": "auto"
      }
     },
     "b8dedd68248e4796b4809f78680bd0cf": {
      "model_module": "@jupyter-widgets/controls",
      "model_module_version": "1.5.0",
      "model_name": "DescriptionStyleModel",
      "state": {
       "description_width": "initial"
      }
     },
     "b90ae7faecac4432a5e3157cd50558aa": {
      "model_module": "@jupyter-widgets/controls",
      "model_module_version": "1.5.0",
      "model_name": "VBoxModel",
      "state": {
       "children": [
        "IPY_MODEL_f7db5aea631c41018cffb8e1cd1a9f67",
        "IPY_MODEL_e2993b4f9a5e4949a45622e160d9979f",
        "IPY_MODEL_a5bc26a274694e5199716463083b0e47",
        "IPY_MODEL_2897b9fd61a5435ea6537fac0c4a7f86",
        "IPY_MODEL_0b13e6cb1ea543f29fea94a9b472e070"
       ],
       "layout": "IPY_MODEL_807be8dcc47d4c45825eb1cd3318599d"
      }
     },
     "b920feda573141acae5ee29ac9313e02": {
      "model_module": "@jupyter-widgets/controls",
      "model_module_version": "1.5.0",
      "model_name": "DescriptionStyleModel",
      "state": {
       "description_width": ""
      }
     },
     "b924a608336045629fe8c2bb20b06d21": {
      "model_module": "@jupyter-widgets/controls",
      "model_module_version": "1.5.0",
      "model_name": "DescriptionStyleModel",
      "state": {
       "description_width": "initial"
      }
     },
     "b9376d002f4042ceb5796d439bf700df": {
      "model_module": "@jupyter-widgets/controls",
      "model_module_version": "1.5.0",
      "model_name": "DescriptionStyleModel",
      "state": {
       "description_width": ""
      }
     },
     "b9407263b6414ee9b20dd0503205dcb4": {
      "model_module": "@jupyter-widgets/controls",
      "model_module_version": "1.5.0",
      "model_name": "DescriptionStyleModel",
      "state": {
       "description_width": ""
      }
     },
     "b9b7829fd25642aea312a1011a2289b1": {
      "model_module": "@jupyter-widgets/base",
      "model_module_version": "1.2.0",
      "model_name": "LayoutModel",
      "state": {
       "border": "solid"
      }
     },
     "b9bbb491afc341ce9cfd68cbb5ddcb8a": {
      "model_module": "@jupyter-widgets/controls",
      "model_module_version": "1.5.0",
      "model_name": "DescriptionStyleModel",
      "state": {
       "description_width": ""
      }
     },
     "b9dfdc39529c4d6d87dc48d08091eebd": {
      "model_module": "@jupyter-widgets/controls",
      "model_module_version": "1.5.0",
      "model_name": "FloatTextModel",
      "state": {
       "description": "Northing",
       "layout": "IPY_MODEL_8225d4cba0ec4ffea0d79416e0da9a46",
       "step": null,
       "style": "IPY_MODEL_4bedc6986d7447fc9fd30595289afdf5",
       "value": 25
      }
     },
     "b9e5928ef1fd46cd9b1b3cc074db7143": {
      "model_module": "@jupyter-widgets/base",
      "model_module_version": "1.2.0",
      "model_name": "LayoutModel",
      "state": {}
     },
     "b9f0791675cb4f3aba47d5e23b7e37c9": {
      "model_module": "@jupyter-widgets/base",
      "model_module_version": "1.2.0",
      "model_name": "LayoutModel",
      "state": {
       "grid_area": "dircontent",
       "width": "auto"
      }
     },
     "bab209534ae74938ad576f894011d9e7": {
      "model_module": "@jupyter-widgets/controls",
      "model_module_version": "1.5.0",
      "model_name": "HTMLModel",
      "state": {
       "layout": "IPY_MODEL_2d586bbc1dbe4f279af6ddbb014e27e8",
       "placeholder": "",
       "style": "IPY_MODEL_851f84ca29cd4e42bc8adb702b513757",
       "value": "<span style=\"color:orange;\">C:\\Users\\dominiquef\\Documents\\GIT\\mira\\geoapps\\assets\\FlinFlon.geoh5</span>"
      }
     },
     "bb256bc0865e4f7da74705c1a0b0437a": {
      "model_module": "@jupyter-widgets/controls",
      "model_module_version": "1.5.0",
      "model_name": "DescriptionStyleModel",
      "state": {
       "description_width": "initial"
      }
     },
     "bb310cdeb094426f8921f5a7db7e9343": {
      "model_module": "@jupyter-widgets/controls",
      "model_module_version": "1.5.0",
      "model_name": "GridBoxModel",
      "state": {
       "children": [
        "IPY_MODEL_98964ba2c6fb408eac048f7a1b07d507",
        "IPY_MODEL_e77d21e008d94308a38fbd7b4384087e",
        "IPY_MODEL_b8be4628e20a4fbfae797e69e9d91cea"
       ],
       "layout": "IPY_MODEL_7b4b95837da44bfcaa374103cb543a6a"
      }
     },
     "bb41b41f3f094a5181f9433ba1efa393": {
      "model_module": "@jupyter-widgets/base",
      "model_module_version": "1.2.0",
      "model_name": "LayoutModel",
      "state": {}
     },
     "bb9473a531804cb2b105bb871b7ce0a0": {
      "model_module": "@jupyter-widgets/controls",
      "model_module_version": "1.5.0",
      "model_name": "VBoxModel",
      "state": {
       "children": [
        "IPY_MODEL_df52530de8f94a1eaefcfcd2bb297805",
        "IPY_MODEL_269c41798181425199ae5120e9ba7565",
        "IPY_MODEL_166417344a574773944d6f428ccee0ac"
       ],
       "layout": "IPY_MODEL_a3e971dc6a1643329eb51087c95b5af8"
      }
     },
     "bb9879d1caae4bb396f2ca45b10a93e7": {
      "model_module": "@jupyter-widgets/controls",
      "model_module_version": "1.5.0",
      "model_name": "VBoxModel",
      "state": {
       "children": [
        "IPY_MODEL_9bc072b9837148f8aa6c9bb3712b11a3",
        "IPY_MODEL_3cea8338bbc44385b28128b3ff9d33ca",
        "IPY_MODEL_ab07b273458846eb93dac5e283d5b81b",
        "IPY_MODEL_0d8be26eb6364eb4868119f2b17e81b7",
        "IPY_MODEL_e658eadfec774847b3f027d1189e5791",
        "IPY_MODEL_38a1965fe7044310b0296bab2d4a479d",
        "IPY_MODEL_0fd212353f7f4a5ebb3f9c526153a24f",
        "IPY_MODEL_87545b71477844658ca826b452e62a5e",
        "IPY_MODEL_c5eb6e75ed3548a1846ee66d959b6141",
        "IPY_MODEL_d10e5b1b5ab94081a37e48e01cdcf16d"
       ],
       "layout": "IPY_MODEL_dc30a253a8c64142a06a99830b5fc68b"
      }
     },
     "bb999750cf2f44408a4db2f81346a200": {
      "model_module": "@jupyter-widgets/controls",
      "model_module_version": "1.5.0",
      "model_name": "LabelModel",
      "state": {
       "layout": "IPY_MODEL_29a5c296344c40d6b04e3719aae7203e",
       "style": "IPY_MODEL_dcaca62272214e0d9a2eaccf76cf4622",
       "value": "Core cell size"
      }
     },
     "bbe8e230ff9f4fb2a8b76c8e1a55277b": {
      "model_module": "@jupyter-widgets/controls",
      "model_module_version": "1.5.0",
      "model_name": "ButtonModel",
      "state": {
       "description": "Cancel",
       "layout": "IPY_MODEL_6ffecac02d224599aa57b19e48390fac",
       "style": "IPY_MODEL_44cdbee4f76c4b54ad1fa22b6b1a8554"
      }
     },
     "bbf860196b4d4f29894326f8077a7cfe": {
      "model_module": "@jupyter-widgets/controls",
      "model_module_version": "1.5.0",
      "model_name": "DescriptionStyleModel",
      "state": {
       "description_width": ""
      }
     },
     "bbf892c0a3ab4f7cb5edcfd19b47a7f6": {
      "model_module": "@jupyter-widgets/controls",
      "model_module_version": "1.5.0",
      "model_name": "DescriptionStyleModel",
      "state": {
       "description_width": "initial"
      }
     },
     "bc60b6b7d3f043f3b99aea6dbbf6e431": {
      "model_module": "@jupyter-widgets/controls",
      "model_module_version": "1.5.0",
      "model_name": "DescriptionStyleModel",
      "state": {
       "description_width": ""
      }
     },
     "bc90bf89b9d2439fac73e4dc0e1bdf20": {
      "model_module": "@jupyter-widgets/controls",
      "model_module_version": "1.5.0",
      "model_name": "LabelModel",
      "state": {
       "layout": "IPY_MODEL_ae5ce80107f04f96909cc997f0e81f94",
       "style": "IPY_MODEL_19b2d3cd9cd34f398010e681783a7471",
       "value": "Workspace"
      }
     },
     "bcf0eca41e85406391e82297e4934d19": {
      "model_module": "@jupyter-widgets/controls",
      "model_module_version": "1.5.0",
      "model_name": "DescriptionStyleModel",
      "state": {
       "description_width": "initial"
      }
     },
     "bd17dd7f730748708022cd4eab27d473": {
      "model_module": "@jupyter-widgets/controls",
      "model_module_version": "1.5.0",
      "model_name": "DescriptionStyleModel",
      "state": {
       "description_width": ""
      }
     },
     "bd40e939bf8a4f9fbabade3f108c8cb0": {
      "model_module": "@jupyter-widgets/base",
      "model_module_version": "1.2.0",
      "model_name": "LayoutModel",
      "state": {}
     },
     "bd54cbf8076d4f8ea41c115e1a805e93": {
      "model_module": "@jupyter-widgets/base",
      "model_module_version": "1.2.0",
      "model_name": "LayoutModel",
      "state": {
       "grid_area": "filename",
       "width": "auto"
      }
     },
     "bd5a5483031640af8eef4c77afa28b45": {
      "model_module": "@jupyter-widgets/controls",
      "model_module_version": "1.5.0",
      "model_name": "DescriptionStyleModel",
      "state": {
       "description_width": "initial"
      }
     },
     "bdea35a1891a4c03ae4c4a3beead6f40": {
      "model_module": "@jupyter-widgets/controls",
      "model_module_version": "1.5.0",
      "model_name": "HBoxModel",
      "state": {
       "children": [
        "IPY_MODEL_25eae77980774681860da18c5da1caaf",
        "IPY_MODEL_f3eed5988ec54ba9a556692f2845ac04",
        "IPY_MODEL_c24c78b0466f464591710dcbd0100da9"
       ],
       "layout": "IPY_MODEL_0511b2f3529b4883b00930da635fe0db"
      }
     },
     "bdf73fa080ea4240aedcf94ce1af2551": {
      "model_module": "@jupyter-widgets/controls",
      "model_module_version": "1.5.0",
      "model_name": "ButtonStyleModel",
      "state": {}
     },
     "be01218abc8640258833bda348aefbc8": {
      "model_module": "@jupyter-widgets/controls",
      "model_module_version": "1.5.0",
      "model_name": "ButtonModel",
      "state": {
       "description": "Change",
       "layout": "IPY_MODEL_7ca4f1503be349bd8f17c37117eee528",
       "style": "IPY_MODEL_cd18e08cc3ea4930948cf26124247cfa"
      }
     },
     "be23fd2cd5b44b46a325214b6d013cfe": {
      "model_module": "@jupyter-widgets/controls",
      "model_module_version": "1.5.0",
      "model_name": "DescriptionStyleModel",
      "state": {
       "description_width": "initial"
      }
     },
     "be517786bcf24c4c828e29db6bce369f": {
      "model_module": "@jupyter-widgets/controls",
      "model_module_version": "1.5.0",
      "model_name": "DescriptionStyleModel",
      "state": {
       "description_width": "initial"
      }
     },
     "bec65aacb5314d98be30b9af86f54260": {
      "model_module": "@jupyter-widgets/controls",
      "model_module_version": "1.5.0",
      "model_name": "TextModel",
      "state": {
       "disabled": true,
       "layout": "IPY_MODEL_a5e42d37442d4fb2905b612ee611fd33",
       "placeholder": "output filename",
       "style": "IPY_MODEL_2775eccba47846108b78492790426f69"
      }
     },
     "bf4ba7e4e8a342219e4fd26a6650c173": {
      "model_module": "@jupyter-widgets/controls",
      "model_module_version": "1.5.0",
      "model_name": "ButtonModel",
      "state": {
       "description": "Cancel",
       "layout": "IPY_MODEL_38df596d7d854005a21dedb585957dbd",
       "style": "IPY_MODEL_57b86818dd2b4476a21d333aa294031b"
      }
     },
     "bf4feae191c24f48b778e0fdcbe867cb": {
      "model_module": "@jupyter-widgets/base",
      "model_module_version": "1.2.0",
      "model_name": "LayoutModel",
      "state": {}
     },
     "bf512241b6294874851f763e053cb14f": {
      "model_module": "@jupyter-widgets/controls",
      "model_module_version": "1.5.0",
      "model_name": "DescriptionStyleModel",
      "state": {
       "description_width": ""
      }
     },
     "bf5124e047924b258e9057301f8dc30b": {
      "model_module": "@jupyter-widgets/controls",
      "model_module_version": "1.5.0",
      "model_name": "DescriptionStyleModel",
      "state": {
       "description_width": ""
      }
     },
     "bf62d4fedc8d40b5b4886bd6b63661e1": {
      "model_module": "@jupyter-widgets/base",
      "model_module_version": "1.2.0",
      "model_name": "LayoutModel",
      "state": {}
     },
     "bf83d6af8d7b45b8aac312273d82ee2a": {
      "model_module": "@jupyter-widgets/controls",
      "model_module_version": "1.5.0",
      "model_name": "ButtonStyleModel",
      "state": {}
     },
     "bf8d629760314c0d980065f7738f3fa9": {
      "model_module": "@jupyter-widgets/controls",
      "model_module_version": "1.5.0",
      "model_name": "DescriptionStyleModel",
      "state": {
       "description_width": "initial"
      }
     },
     "bf93259e689b41c1997c0c72ff5e20f0": {
      "model_module": "@jupyter-widgets/base",
      "model_module_version": "1.2.0",
      "model_name": "LayoutModel",
      "state": {}
     },
     "bfbeae74e20045c7b805760f103e0796": {
      "model_module": "@jupyter-widgets/controls",
      "model_module_version": "1.5.0",
      "model_name": "DescriptionStyleModel",
      "state": {
       "description_width": ""
      }
     },
     "bfdd108175064ad6bedb9f67f03f53ed": {
      "model_module": "@jupyter-widgets/base",
      "model_module_version": "1.2.0",
      "model_name": "LayoutModel",
      "state": {}
     },
     "c02f18df28704a14a49c3240e3981d3a": {
      "model_module": "@jupyter-widgets/controls",
      "model_module_version": "1.5.0",
      "model_name": "DescriptionStyleModel",
      "state": {
       "description_width": "initial"
      }
     },
     "c031d7bc421c4bcd9a803c63222bad47": {
      "model_module": "@jupyter-widgets/base",
      "model_module_version": "1.2.0",
      "model_name": "LayoutModel",
      "state": {
       "grid_area": "dircontent",
       "width": "auto"
      }
     },
     "c03680f2b30947678b697e03290c8304": {
      "model_module": "@jupyter-widgets/controls",
      "model_module_version": "1.5.0",
      "model_name": "ButtonStyleModel",
      "state": {}
     },
     "c0375fa2d7c248d3b7ec6b79578634d6": {
      "model_module": "@jupyter-widgets/controls",
      "model_module_version": "1.5.0",
      "model_name": "VBoxModel",
      "state": {
       "children": [
        "IPY_MODEL_1e6cc04c8a36431aad965eabb1e69b11",
        "IPY_MODEL_6e7ed268ba58493babea755586cd815d"
       ],
       "layout": "IPY_MODEL_407a9dbd72474d6383290208335d500b"
      }
     },
     "c05902ff1a924423adad065cd741e72f": {
      "model_module": "@jupyter-widgets/controls",
      "model_module_version": "1.5.0",
      "model_name": "FloatTextModel",
      "state": {
       "description": "Easting",
       "layout": "IPY_MODEL_32fbc049b30f4c4690dae6bf8ae27ae2",
       "step": null,
       "style": "IPY_MODEL_50d4030c70a44861820cb4fa00453729",
       "value": 25
      }
     },
     "c05d6ce8024d45e7bcff824817aff7d0": {
      "model_module": "@jupyter-widgets/controls",
      "model_module_version": "1.5.0",
      "model_name": "DescriptionStyleModel",
      "state": {
       "description_width": "initial"
      }
     },
     "c0c1f7f47438477b99ab838fa1213485": {
      "model_module": "@jupyter-widgets/base",
      "model_module_version": "1.2.0",
      "model_name": "LayoutModel",
      "state": {}
     },
     "c0c7cacc34c54081a79780419974d7df": {
      "model_module": "@jupyter-widgets/base",
      "model_module_version": "1.2.0",
      "model_name": "LayoutModel",
      "state": {}
     },
     "c199761f78964ad5bc19c97badf43188": {
      "model_module": "@jupyter-widgets/controls",
      "model_module_version": "1.5.0",
      "model_name": "DescriptionStyleModel",
      "state": {
       "description_width": ""
      }
     },
     "c24c78b0466f464591710dcbd0100da9": {
      "model_module": "@jupyter-widgets/controls",
      "model_module_version": "1.5.0",
      "model_name": "HTMLModel",
      "state": {
       "layout": "IPY_MODEL_c89255e72d394587ba73b5d6986c0c75",
       "placeholder": "",
       "style": "IPY_MODEL_0252dce061064b87914b35546f0db7ad",
       "value": "<span style=\"margin-left:10px; color:orange;\">C:\\Users\\dominiquef\\Documents\\GIT\\mira\\geoapps\\assets\\FlinFlon.geoh5</span>"
      }
     },
     "c326e647d35543f2a0117db29a3e80cc": {
      "model_module": "@jupyter-widgets/controls",
      "model_module_version": "1.5.0",
      "model_name": "FloatTextModel",
      "state": {
       "description": "Distance",
       "layout": "IPY_MODEL_30304c6766e4420e8f43a7223d6029ff",
       "step": null,
       "style": "IPY_MODEL_4ad8b48764ff4d17ae6b8481a93dea22",
       "value": 1000
      }
     },
     "c35cff77dd8f4c1a8898ba4d7e392ec1": {
      "model_module": "@jupyter-widgets/base",
      "model_module_version": "1.2.0",
      "model_name": "LayoutModel",
      "state": {
       "border": "solid"
      }
     },
     "c3f2a8fbdd014c9ab1e8b6af6225937f": {
      "model_module": "@jupyter-widgets/controls",
      "model_module_version": "1.5.0",
      "model_name": "DescriptionStyleModel",
      "state": {
       "description_width": "initial"
      }
     },
     "c405975f6294459cb48748f9f15a05d5": {
      "model_module": "@jupyter-widgets/controls",
      "model_module_version": "1.5.0",
      "model_name": "DropdownModel",
      "state": {
       "_options_labels": [
        "",
        "--- Channels ---",
        "CPI56k",
        "CPI7200",
        "CPI900",
        "CPQ56k",
        "CPQ7200",
        "CPQ900",
        "DEM",
        "Line",
        "Z"
       ],
       "description": "Data: ",
       "index": 0,
       "layout": "IPY_MODEL_a4cc597368b642c590b98ca800210d47",
       "style": "IPY_MODEL_b2314b608c4c4dac816d605dfbfd7b91"
      }
     },
     "c422b73a568a48788292cc062d24eb8e": {
      "model_module": "@jupyter-widgets/controls",
      "model_module_version": "1.5.0",
      "model_name": "DescriptionStyleModel",
      "state": {
       "description_width": "initial"
      }
     },
     "c4251a2ce88b4b18a39bc5b3881b7819": {
      "model_module": "@jupyter-widgets/controls",
      "model_module_version": "1.5.0",
      "model_name": "HTMLModel",
      "state": {
       "layout": "IPY_MODEL_0e57486c797f43dbb8dcfe2e60d8429a",
       "style": "IPY_MODEL_bc60b6b7d3f043f3b99aea6dbbf6e431"
      }
     },
     "c443a353ffb2417fb0727e86d455624c": {
      "model_module": "@jupyter-widgets/base",
      "model_module_version": "1.2.0",
      "model_name": "LayoutModel",
      "state": {}
     },
     "c45ef04583d64a229c67fca4624d8bdd": {
      "model_module": "@jupyter-widgets/controls",
      "model_module_version": "1.5.0",
      "model_name": "DescriptionStyleModel",
      "state": {
       "description_width": ""
      }
     },
     "c4a048216c7f4ddd8d04993b189b2857": {
      "model_module": "@jupyter-widgets/controls",
      "model_module_version": "1.5.0",
      "model_name": "DescriptionStyleModel",
      "state": {
       "description_width": "initial"
      }
     },
     "c4c52fb6ace142ebad2b3370499951dd": {
      "model_module": "@jupyter-widgets/controls",
      "model_module_version": "1.5.0",
      "model_name": "LabelModel",
      "state": {
       "layout": "IPY_MODEL_07af2653837849bd85301d78820c1fa3",
       "style": "IPY_MODEL_63dae16705d54eadb7a0ab269a187511",
       "value": "Workspace"
      }
     },
     "c4d3630ff0154ad69f1929723079a7da": {
      "model_module": "@jupyter-widgets/base",
      "model_module_version": "1.2.0",
      "model_name": "LayoutModel",
      "state": {
       "border": "solid"
      }
     },
     "c4f5fe746ca94ff3ad74b6728baaf69a": {
      "model_module": "@jupyter-widgets/controls",
      "model_module_version": "1.5.0",
      "model_name": "DescriptionStyleModel",
      "state": {
       "description_width": ""
      }
     },
     "c52a614d7c2740fa805baf02c8981240": {
      "model_module": "@jupyter-widgets/controls",
      "model_module_version": "1.5.0",
      "model_name": "DescriptionStyleModel",
      "state": {
       "description_width": "initial"
      }
     },
     "c53c8621d4a341ed8cf27719f07ee371": {
      "model_module": "@jupyter-widgets/base",
      "model_module_version": "1.2.0",
      "model_name": "LayoutModel",
      "state": {}
     },
     "c54fa70b3b7943b19ff81cf109eee15d": {
      "model_module": "@jupyter-widgets/base",
      "model_module_version": "1.2.0",
      "model_name": "LayoutModel",
      "state": {
       "overflow": "auto"
      }
     },
     "c58fb60349114a038b718bea34d23374": {
      "model_module": "@jupyter-widgets/controls",
      "model_module_version": "1.5.0",
      "model_name": "DescriptionStyleModel",
      "state": {
       "description_width": "initial"
      }
     },
     "c59080383e8e4c0c87af4ec33ba0a302": {
      "model_module": "@jupyter-widgets/controls",
      "model_module_version": "1.5.0",
      "model_name": "DescriptionStyleModel",
      "state": {
       "description_width": ""
      }
     },
     "c59e095513324f119505488e715f2197": {
      "model_module": "@jupyter-widgets/base",
      "model_module_version": "1.2.0",
      "model_name": "LayoutModel",
      "state": {}
     },
     "c59e4924463a45218748c4b927fe64c5": {
      "model_module": "@jupyter-widgets/controls",
      "model_module_version": "1.5.0",
      "model_name": "DescriptionStyleModel",
      "state": {
       "description_width": "initial"
      }
     },
     "c5d0f1e64d2341619cbef5ef15d5cf3c": {
      "model_module": "@jupyter-widgets/controls",
      "model_module_version": "1.5.0",
      "model_name": "DescriptionStyleModel",
      "state": {
       "description_width": ""
      }
     },
     "c5eb6e75ed3548a1846ee66d959b6141": {
      "model_module": "@jupyter-widgets/controls",
      "model_module_version": "1.5.0",
      "model_name": "FloatTextModel",
      "state": {
       "description": "Horizontal (m)",
       "layout": "IPY_MODEL_3c303695eef54aa783e86125683b2893",
       "step": null,
       "style": "IPY_MODEL_732a0a6efdea40bb83efa7497da9e533",
       "value": 1000
      }
     },
     "c6044b11105d433f80bc3b698ca67900": {
      "model_module": "@jupyter-widgets/controls",
      "model_module_version": "1.5.0",
      "model_name": "ButtonStyleModel",
      "state": {}
     },
     "c6199a7f3acd4fe48aa237789ceac5e1": {
      "model_module": "@jupyter-widgets/controls",
      "model_module_version": "1.5.0",
      "model_name": "HTMLModel",
      "state": {
       "layout": "IPY_MODEL_9f059175beed48acbef407d9dd9c3590",
       "style": "IPY_MODEL_b9bbb491afc341ce9cfd68cbb5ddcb8a"
      }
     },
     "c64c7537975445328e05167f0e635e54": {
      "model_module": "@jupyter-widgets/base",
      "model_module_version": "1.2.0",
      "model_name": "LayoutModel",
      "state": {
       "grid_area": "pathlist",
       "width": "auto"
      }
     },
     "c664e6e06863409a86bc9533f3f96ddb": {
      "model_module": "@jupyter-widgets/controls",
      "model_module_version": "1.5.0",
      "model_name": "VBoxModel",
      "state": {
       "children": [
        "IPY_MODEL_d3e0fc19fff94f73995771fe5bdfdc49"
       ],
       "layout": "IPY_MODEL_2bab0e10c6264fb1bccb759916f9ab0c"
      }
     },
     "c665c0687fc145bb9047eda45e87a219": {
      "model_module": "@jupyter-widgets/controls",
      "model_module_version": "1.5.0",
      "model_name": "DescriptionStyleModel",
      "state": {
       "description_width": ""
      }
     },
     "c66ff5d20c94435180cd0e9a20274484": {
      "model_module": "@jupyter-widgets/controls",
      "model_module_version": "1.5.0",
      "model_name": "VBoxModel",
      "state": {
       "children": [
        "IPY_MODEL_5b175ad78f394f57b6bed52f36738415",
        "IPY_MODEL_0477aa60c90141a38f06a79fb9da6ca4",
        "IPY_MODEL_367687a62b5f406fa723f94a1fb32b23"
       ],
       "layout": "IPY_MODEL_559af9c6acc0418e8e8d2f760a9e6679"
      }
     },
     "c683e1d0d61f49a2ae49512d473ce47d": {
      "model_module": "@jupyter-widgets/controls",
      "model_module_version": "1.5.0",
      "model_name": "DropdownModel",
      "state": {
       "_options_labels": [
        "surface",
        "radial"
       ],
       "description": "Type",
       "index": 0,
       "layout": "IPY_MODEL_abf898b1ceab4048bad7cc5575a51b44",
       "style": "IPY_MODEL_ce2ff5d93cef49eb9595f33b77ecefa7"
      }
     },
     "c6915c04287e4cf58ed9143023b20a9e": {
      "model_module": "@jupyter-widgets/controls",
      "model_module_version": "1.5.0",
      "model_name": "DescriptionStyleModel",
      "state": {
       "description_width": ""
      }
     },
     "c6967c80449b4dca85c188e457f67a68": {
      "model_module": "@jupyter-widgets/controls",
      "model_module_version": "1.5.0",
      "model_name": "DescriptionStyleModel",
      "state": {
       "description_width": ""
      }
     },
     "c6d42e6222cc4e1eb19f55f3f00b9bc5": {
      "model_module": "@jupyter-widgets/controls",
      "model_module_version": "1.5.0",
      "model_name": "VBoxModel",
      "state": {
       "children": [
        "IPY_MODEL_4eec9e6528bd4c8483e0b39e918f07a0",
        "IPY_MODEL_ecd6556283c842cc9b24bf3299416ff6"
       ],
       "layout": "IPY_MODEL_c98b973435264a7099b5ce42a4d12c11"
      }
     },
     "c6ed0d62fcbe4bd0b624ebe3e0eb4ae9": {
      "model_module": "@jupyter-widgets/controls",
      "model_module_version": "1.5.0",
      "model_name": "VBoxModel",
      "state": {
       "children": [
        "IPY_MODEL_aac58b27fc0b4f07a1dbd79f0e80da42",
        "IPY_MODEL_b72782ee160145caa5dd85e20c40fc89"
       ],
       "layout": "IPY_MODEL_3301848290f2430ebd1e7b1c92aa070b"
      }
     },
     "c71cfa5fbe654c138f48906af3748f62": {
      "model_module": "@jupyter-widgets/base",
      "model_module_version": "1.2.0",
      "model_name": "LayoutModel",
      "state": {
       "grid_area": "filename",
       "width": "auto"
      }
     },
     "c729f7de0e9f43bc85a2eb162fce2911": {
      "model_module": "@jupyter-widgets/controls",
      "model_module_version": "1.5.0",
      "model_name": "FloatTextModel",
      "state": {
       "description": "Easting",
       "layout": "IPY_MODEL_e7acef1c42034627b51c7ef3baf3c19b",
       "step": null,
       "style": "IPY_MODEL_39d71b705b9246888c9102fae955bb9a",
       "value": 25
      }
     },
     "c73d463a1f8d495a9f0c1b00a7734b21": {
      "model_module": "@jupyter-widgets/controls",
      "model_module_version": "1.5.0",
      "model_name": "DescriptionStyleModel",
      "state": {
       "description_width": "initial"
      }
     },
     "c76c01f301a64ae4ba996e2a616cc246": {
      "model_module": "@jupyter-widgets/controls",
      "model_module_version": "1.5.0",
      "model_name": "DescriptionStyleModel",
      "state": {
       "description_width": ""
      }
     },
     "c7761fd6a108433d8433ee39ba23a3a8": {
      "model_module": "@jupyter-widgets/controls",
      "model_module_version": "1.5.0",
      "model_name": "DescriptionStyleModel",
      "state": {
       "description_width": "initial"
      }
     },
     "c79ab79911424cbbbd2b2c97fc568b53": {
      "model_module": "@jupyter-widgets/controls",
      "model_module_version": "1.5.0",
      "model_name": "HBoxModel",
      "state": {
       "children": [
        "IPY_MODEL_10bc59bdc3494012957fb026a7507981",
        "IPY_MODEL_7ba7f5f7e5b2447f9d3fe57242a7bb10",
        "IPY_MODEL_0c45290aea0e47509008ed5bd67fcc59"
       ],
       "layout": "IPY_MODEL_668d879f56e34171881ee1af1976f053"
      }
     },
     "c7a5b243e5554c2f913a2d345ef25f95": {
      "model_module": "@jupyter-widgets/base",
      "model_module_version": "1.2.0",
      "model_name": "LayoutModel",
      "state": {}
     },
     "c7b6a475eed542df949cae847b85c2f7": {
      "model_module": "@jupyter-widgets/base",
      "model_module_version": "1.2.0",
      "model_name": "LayoutModel",
      "state": {}
     },
     "c7f93566e26448e1a7a6766e401c4e9b": {
      "model_module": "@jupyter-widgets/base",
      "model_module_version": "1.2.0",
      "model_name": "LayoutModel",
      "state": {}
     },
     "c7f9876eb6494013ac8f4287dd62a95b": {
      "model_module": "@jupyter-widgets/controls",
      "model_module_version": "1.5.0",
      "model_name": "ButtonModel",
      "state": {
       "button_style": "danger",
       "description": "Create",
       "icon": "check",
       "layout": "IPY_MODEL_686e42764c2549fda970d0bae16de7cf",
       "style": "IPY_MODEL_a653ce54c23c41898d0c30cb60787966",
       "tooltip": "Run computation"
      }
     },
     "c81b1317a6e84988ad9b85a614d7465e": {
      "model_module": "@jupyter-widgets/controls",
      "model_module_version": "1.5.0",
      "model_name": "DescriptionStyleModel",
      "state": {
       "description_width": ""
      }
     },
     "c8210e3008094689b99c593651dab936": {
      "model_module": "@jupyter-widgets/controls",
      "model_module_version": "1.5.0",
      "model_name": "DescriptionStyleModel",
      "state": {
       "description_width": ""
      }
     },
     "c89255e72d394587ba73b5d6986c0c75": {
      "model_module": "@jupyter-widgets/base",
      "model_module_version": "1.2.0",
      "model_name": "LayoutModel",
      "state": {}
     },
     "c8ad32c1d2e747cb9594a18825c6228c": {
      "model_module": "@jupyter-widgets/controls",
      "model_module_version": "1.5.0",
      "model_name": "DescriptionStyleModel",
      "state": {
       "description_width": "initial"
      }
     },
     "c8d22e797e2d496a8492f5fbdeeb37aa": {
      "model_module": "@jupyter-widgets/base",
      "model_module_version": "1.2.0",
      "model_name": "LayoutModel",
      "state": {}
     },
     "c8fb487927d24d13ae72322ac9dae943": {
      "model_module": "@jupyter-widgets/controls",
      "model_module_version": "1.5.0",
      "model_name": "DescriptionStyleModel",
      "state": {
       "description_width": "initial"
      }
     },
     "c93461afe6ae4b5a92ffbf5930896113": {
      "model_module": "@jupyter-widgets/controls",
      "model_module_version": "1.5.0",
      "model_name": "VBoxModel",
      "state": {
       "children": [
        "IPY_MODEL_73fff0b480284c8e9dffe4549d2d0b3a",
        "IPY_MODEL_48aecef9577648fd9ba183e9001e6ef3",
        "IPY_MODEL_7cde37f026344dc8a07c81f0561f0bab"
       ],
       "layout": "IPY_MODEL_601142fbe05e4de0899319130a23a1eb"
      }
     },
     "c9449aef88784421aadec0ccbeca65ad": {
      "model_module": "@jupyter-widgets/base",
      "model_module_version": "1.2.0",
      "model_name": "LayoutModel",
      "state": {}
     },
     "c95d4b4d1be848e08ef821e21e924df7": {
      "model_module": "@jupyter-widgets/controls",
      "model_module_version": "1.5.0",
      "model_name": "DescriptionStyleModel",
      "state": {
       "description_width": "initial"
      }
     },
     "c98b973435264a7099b5ce42a4d12c11": {
      "model_module": "@jupyter-widgets/base",
      "model_module_version": "1.2.0",
      "model_name": "LayoutModel",
      "state": {}
     },
     "c9d6fe4ceea94e8ba37fe2f0698cda3b": {
      "model_module": "@jupyter-widgets/controls",
      "model_module_version": "1.5.0",
      "model_name": "DescriptionStyleModel",
      "state": {
       "description_width": "initial"
      }
     },
     "c9ea1439c627457fbd8894bfb8873af8": {
      "model_module": "@jupyter-widgets/controls",
      "model_module_version": "1.5.0",
      "model_name": "DescriptionStyleModel",
      "state": {
       "description_width": "initial"
      }
     },
     "ca5c13397e714f13a96e82c6203c36ff": {
      "model_module": "@jupyter-widgets/controls",
      "model_module_version": "1.5.0",
      "model_name": "DescriptionStyleModel",
      "state": {
       "description_width": "initial"
      }
     },
     "caaabd86b0634f26a5b16412baf31ec7": {
      "model_module": "@jupyter-widgets/base",
      "model_module_version": "1.2.0",
      "model_name": "LayoutModel",
      "state": {}
     },
     "cab61c46ddb74580b4ac49d64af958fd": {
      "model_module": "@jupyter-widgets/controls",
      "model_module_version": "1.5.0",
      "model_name": "SelectModel",
      "state": {
       "_options_labels": [
        "📁 ..",
        "📁 Temp",
        "📁 uijson",
        "FlinFlon.geoh5",
        "FlinFlon_dcip.geoh5",
        "MtDore_TMI.geoh5"
       ],
       "index": 3,
       "layout": "IPY_MODEL_6e1dc833e97c439db504180cddba5340",
       "rows": 8,
       "style": "IPY_MODEL_ddd40f5e99a44eefba75fac86f13c2c4"
      }
     },
     "caf8c127131844c18104e3d3e9ccd98a": {
      "model_module": "@jupyter-widgets/controls",
      "model_module_version": "1.5.0",
      "model_name": "DescriptionStyleModel",
      "state": {
       "description_width": "initial"
      }
     },
     "cb181f7aa017467cbfe145d1efc360e1": {
      "model_module": "@jupyter-widgets/controls",
      "model_module_version": "1.5.0",
      "model_name": "ButtonModel",
      "state": {
       "description": "Cancel",
       "layout": "IPY_MODEL_579da6a193934150aab175c8e9f6f714",
       "style": "IPY_MODEL_ab7eae24e8804613a535284e875e6b5b"
      }
     },
     "cb45e0634fa14fdd90a89410a7f5f585": {
      "model_module": "@jupyter-widgets/base",
      "model_module_version": "1.2.0",
      "model_name": "LayoutModel",
      "state": {}
     },
     "cb70196439834dd3b730b2d2f826be56": {
      "model_module": "@jupyter-widgets/controls",
      "model_module_version": "1.5.0",
      "model_name": "ButtonStyleModel",
      "state": {}
     },
     "cb735a0547b845daa1d6ae76f7938d9b": {
      "model_module": "@jupyter-widgets/base",
      "model_module_version": "1.2.0",
      "model_name": "LayoutModel",
      "state": {}
     },
     "cc106530b5824b81b65705d67bed38fa": {
      "model_module": "@jupyter-widgets/controls",
      "model_module_version": "1.5.0",
      "model_name": "DescriptionStyleModel",
      "state": {
       "description_width": ""
      }
     },
     "cc1c7058e5274fbcb389185b1c994caf": {
      "model_module": "@jupyter-widgets/base",
      "model_module_version": "1.2.0",
      "model_name": "LayoutModel",
      "state": {}
     },
     "cc9b7d01cc234ff796bc21667c7321d4": {
      "model_module": "@jupyter-widgets/controls",
      "model_module_version": "1.5.0",
      "model_name": "DescriptionStyleModel",
      "state": {
       "description_width": "initial"
      }
     },
     "cd06ddba5411447abac839008917fff5": {
      "model_module": "@jupyter-widgets/controls",
      "model_module_version": "1.5.0",
      "model_name": "DescriptionStyleModel",
      "state": {
       "description_width": "initial"
      }
     },
     "cd18e08cc3ea4930948cf26124247cfa": {
      "model_module": "@jupyter-widgets/controls",
      "model_module_version": "1.5.0",
      "model_name": "ButtonStyleModel",
      "state": {}
     },
     "cd1cebe78bce4c979567e3dad944017d": {
      "model_module": "@jupyter-widgets/controls",
      "model_module_version": "1.5.0",
      "model_name": "DescriptionStyleModel",
      "state": {
       "description_width": ""
      }
     },
     "ce01c68ef3534e829f12ab80625ce93b": {
      "model_module": "@jupyter-widgets/controls",
      "model_module_version": "1.5.0",
      "model_name": "ButtonStyleModel",
      "state": {}
     },
     "ce109eb55a834d4b88cb46c53e68306b": {
      "model_module": "@jupyter-widgets/controls",
      "model_module_version": "1.5.0",
      "model_name": "FloatTextModel",
      "state": {
       "description": "Vertical (m)",
       "layout": "IPY_MODEL_c9449aef88784421aadec0ccbeca65ad",
       "step": null,
       "style": "IPY_MODEL_bcf0eca41e85406391e82297e4934d19",
       "value": 1000
      }
     },
     "ce2ff5d93cef49eb9595f33b77ecefa7": {
      "model_module": "@jupyter-widgets/controls",
      "model_module_version": "1.5.0",
      "model_name": "DescriptionStyleModel",
      "state": {
       "description_width": "initial"
      }
     },
     "ce9279138a514a8c97f966a93ac10bf6": {
      "model_module": "@jupyter-widgets/controls",
      "model_module_version": "1.5.0",
      "model_name": "ToggleButtonModel",
      "state": {
       "layout": "IPY_MODEL_548858df69c1499cbb98ee2e118a2d7a",
       "style": "IPY_MODEL_c73d463a1f8d495a9f0c1b00a7734b21",
       "value": true
      }
     },
     "cea0199f7c144a6a8c6a0a98e0876424": {
      "model_module": "@jupyter-widgets/controls",
      "model_module_version": "1.5.0",
      "model_name": "TextModel",
      "state": {
       "description": "Levels",
       "layout": "IPY_MODEL_4c9f8349c3474b33ab75c5f5e66cafa2",
       "style": "IPY_MODEL_c9d6fe4ceea94e8ba37fe2f0698cda3b",
       "value": "0.0, 0.0, 2.0"
      }
     },
     "cea11425fd64434599d9a253bbf45e43": {
      "model_module": "@jupyter-widgets/controls",
      "model_module_version": "1.5.0",
      "model_name": "DescriptionStyleModel",
      "state": {
       "description_width": "initial"
      }
     },
     "cea62aa2117245d59e011c774bfa0613": {
      "model_module": "@jupyter-widgets/base",
      "model_module_version": "1.2.0",
      "model_name": "LayoutModel",
      "state": {}
     },
     "cf0d987e5cdf429f85c2303473d85ee3": {
      "model_module": "@jupyter-widgets/controls",
      "model_module_version": "1.5.0",
      "model_name": "ButtonStyleModel",
      "state": {}
     },
     "cf4c8dd154ad4e0c92b2c8d5728ac1fa": {
      "model_module": "@jupyter-widgets/controls",
      "model_module_version": "1.5.0",
      "model_name": "DescriptionStyleModel",
      "state": {
       "description_width": ""
      }
     },
     "cf76eee7be6a4ea3ac7d8a8895b85edd": {
      "model_module": "@jupyter-widgets/controls",
      "model_module_version": "1.5.0",
      "model_name": "FloatTextModel",
      "state": {
       "description": "Minimum depth (m)",
       "layout": "IPY_MODEL_9031778a03e0493ebed95a298c6233f2",
       "step": null,
       "style": "IPY_MODEL_c59e4924463a45218748c4b927fe64c5",
       "value": 500
      }
     },
     "cf7f43448d124762ba854882ddfc2a71": {
      "model_module": "@jupyter-widgets/controls",
      "model_module_version": "1.5.0",
      "model_name": "DescriptionStyleModel",
      "state": {
       "description_width": "initial"
      }
     },
     "cfa633cc67dc4f60b5a1c9eb4ff900f5": {
      "model_module": "@jupyter-widgets/controls",
      "model_module_version": "1.5.0",
      "model_name": "DescriptionStyleModel",
      "state": {
       "description_width": ""
      }
     },
     "cfca807fe7d5412b9eebda9c549a0bcd": {
      "model_module": "@jupyter-widgets/controls",
      "model_module_version": "1.5.0",
      "model_name": "DescriptionStyleModel",
      "state": {
       "description_width": ""
      }
     },
     "cfdc3e5ebbe842438aa3ce442fd7ab77": {
      "model_module": "@jupyter-widgets/controls",
      "model_module_version": "1.5.0",
      "model_name": "DescriptionStyleModel",
      "state": {
       "description_width": ""
      }
     },
     "cffa9873a5bf4833ad477d3300d4435d": {
      "model_module": "@jupyter-widgets/controls",
      "model_module_version": "1.5.0",
      "model_name": "DescriptionStyleModel",
      "state": {
       "description_width": ""
      }
     },
     "d067014ea57f43a4886b05be35b0d7d6": {
      "model_module": "@jupyter-widgets/controls",
      "model_module_version": "1.5.0",
      "model_name": "DescriptionStyleModel",
      "state": {
       "description_width": "initial"
      }
     },
     "d06fba4cd9bc4cad96a668105fd91c38": {
      "model_module": "@jupyter-widgets/base",
      "model_module_version": "1.2.0",
      "model_name": "LayoutModel",
      "state": {}
     },
     "d10e5b1b5ab94081a37e48e01cdcf16d": {
      "model_module": "@jupyter-widgets/controls",
      "model_module_version": "1.5.0",
      "model_name": "FloatTextModel",
      "state": {
       "description": "Vertical (m)",
       "layout": "IPY_MODEL_e6634921a72a455b97767daedefbe37c",
       "step": null,
       "style": "IPY_MODEL_300bcbfaf2b547f897f1decee4c05697",
       "value": 1000
      }
     },
     "d1126d07c80b4156b553f1a3cd39dd6a": {
      "model_module": "@jupyter-widgets/controls",
      "model_module_version": "1.5.0",
      "model_name": "DescriptionStyleModel",
      "state": {
       "description_width": ""
      }
     },
     "d147a32dff8440189137fdc7f439692c": {
      "model_module": "@jupyter-widgets/controls",
      "model_module_version": "1.5.0",
      "model_name": "DescriptionStyleModel",
      "state": {
       "description_width": ""
      }
     },
     "d14e0eb8ae914568a6f5d286677df522": {
      "model_module": "@jupyter-widgets/base",
      "model_module_version": "1.2.0",
      "model_name": "LayoutModel",
      "state": {}
     },
     "d1a1b81ce5ce471284127a83610f34aa": {
      "model_module": "@jupyter-widgets/controls",
      "model_module_version": "1.5.0",
      "model_name": "DescriptionStyleModel",
      "state": {
       "description_width": "initial"
      }
     },
     "d1c534cae6bd407e838ea26fc4e459bc": {
      "model_module": "@jupyter-widgets/controls",
      "model_module_version": "1.5.0",
      "model_name": "DropdownModel",
      "state": {
       "_options_labels": [
        "",
        "Ore/39_Ore_Callinan",
        "Ore/38_Ore_Dan_Owens",
        "Ore/40_Ore_FlinFlon",
        "Workspace/Inversion_VTEM_Model",
        "Workspace/DC_Survey (currents)",
        "Workspace/CDI_VTEM_model",
        "Workspace/Data_FEM_pseudo3D",
        "Workspace/geochem",
        "Workspace/DC_Survey",
        "Workspace/Inversion_DIGHEM_Model",
        "Workspace/Topography",
        "Workspace/Data_TEM_pseudo3D",
        "Workspace/Data_ZTEM",
        "Workspace/Mesh"
       ],
       "description": "Object",
       "index": 0,
       "layout": "IPY_MODEL_78408ff3335a40ab864db632192fd1f5",
       "style": "IPY_MODEL_cea11425fd64434599d9a253bbf45e43"
      }
     },
     "d21849d7be4249c68271aef48507ed8e": {
      "model_module": "@jupyter-widgets/base",
      "model_module_version": "1.2.0",
      "model_name": "LayoutModel",
      "state": {}
     },
     "d22a1db395a641ce97a7645f6c0f35ce": {
      "model_module": "@jupyter-widgets/controls",
      "model_module_version": "1.5.0",
      "model_name": "DescriptionStyleModel",
      "state": {
       "description_width": "initial"
      }
     },
     "d294bb4064e0466bb0a82d3e3c2f3e03": {
      "model_module": "@jupyter-widgets/controls",
      "model_module_version": "1.5.0",
      "model_name": "ButtonStyleModel",
      "state": {}
     },
     "d29711f740c840b69b15e61561499240": {
      "model_module": "@jupyter-widgets/controls",
      "model_module_version": "1.5.0",
      "model_name": "HTMLModel",
      "state": {
       "layout": "IPY_MODEL_121abd49935144ba8da5743a95b1b41a",
       "placeholder": "",
       "style": "IPY_MODEL_5e2df17d086240158271c8971481da94",
       "value": "<span style=\"margin-left:10px; color:orange;\">C:\\Users\\dominiquef\\Documents\\GIT\\mira\\geoapps\\assets\\FlinFlon.geoh5</span>"
      }
     },
     "d2b147f1fe4e435989f4dd6068565dfb": {
      "model_module": "@jupyter-widgets/base",
      "model_module_version": "1.2.0",
      "model_name": "LayoutModel",
      "state": {}
     },
     "d35d5cc1254c4c13a72d63984fa52963": {
      "model_module": "@jupyter-widgets/controls",
      "model_module_version": "1.5.0",
      "model_name": "DescriptionStyleModel",
      "state": {
       "description_width": ""
      }
     },
     "d3ba8225911b41e0bf56fab1cb7f3ccc": {
      "model_module": "@jupyter-widgets/controls",
      "model_module_version": "1.5.0",
      "model_name": "DescriptionStyleModel",
      "state": {
       "description_width": "initial"
      }
     },
     "d3da2f351afc4371b377e49e5c747234": {
      "model_module": "@jupyter-widgets/controls",
      "model_module_version": "1.5.0",
      "model_name": "TextModel",
      "state": {
       "description": "Levels",
       "layout": "IPY_MODEL_e1d7c5eb6c54440ca7a9beac0fc193cd",
       "style": "IPY_MODEL_5d791d94bfcb4594a5797e47200507e3",
       "value": "4.0, 4.0, 4.0"
      }
     },
     "d3e0fc19fff94f73995771fe5bdfdc49": {
      "model_module": "@jupyter-widgets/controls",
      "model_module_version": "1.5.0",
      "model_name": "CheckboxModel",
      "state": {
       "description": "Geoscience ANALYST Pro - Live link",
       "disabled": false,
       "indent": false,
       "layout": "IPY_MODEL_023df97f440a48eba111f07bd01421d3",
       "style": "IPY_MODEL_80bd6fb3ce6348529fb44d6ad0d3ad2c",
       "value": false
      }
     },
     "d4320c3328844ac5b2cabe409a368d36": {
      "model_module": "@jupyter-widgets/controls",
      "model_module_version": "1.5.0",
      "model_name": "DescriptionStyleModel",
      "state": {
       "description_width": "initial"
      }
     },
     "d46e998099844931bbc46da4f2fb5367": {
      "model_module": "@jupyter-widgets/base",
      "model_module_version": "1.2.0",
      "model_name": "LayoutModel",
      "state": {
       "margin": "0 0 0 1em"
      }
     },
     "d47418fe040541e0a594f4279c279e25": {
      "model_module": "@jupyter-widgets/controls",
      "model_module_version": "1.5.0",
      "model_name": "FloatTextModel",
      "state": {
       "description": "Distance",
       "layout": "IPY_MODEL_77cb88170a1d455f88a97351ffdd3730",
       "step": null,
       "style": "IPY_MODEL_9560c341497b46b9a9cf468a8e1e9c7f",
       "value": 1000
      }
     },
     "d489aa58d8ef4deba908373c3d2e34bb": {
      "model_module": "@jupyter-widgets/controls",
      "model_module_version": "1.5.0",
      "model_name": "ButtonStyleModel",
      "state": {}
     },
     "d48d65a947dd472c991c3ef294d8f62a": {
      "model_module": "@jupyter-widgets/base",
      "model_module_version": "1.2.0",
      "model_name": "LayoutModel",
      "state": {}
     },
     "d4bb26dc4ac746378bd0efa2ea32f70b": {
      "model_module": "@jupyter-widgets/controls",
      "model_module_version": "1.5.0",
      "model_name": "DescriptionStyleModel",
      "state": {
       "description_width": ""
      }
     },
     "d4e5235cff7f428bac8fbf54d2a06025": {
      "model_module": "@jupyter-widgets/controls",
      "model_module_version": "1.5.0",
      "model_name": "VBoxModel",
      "state": {
       "children": [
        "IPY_MODEL_244cc74028324b9abe71fb5a89dad8ec",
        "IPY_MODEL_6cf8cd1827034bbfaf59f4aa4fec29a9",
        "IPY_MODEL_f9e905bc58b04b16beb77453f0a9d93e"
       ],
       "layout": "IPY_MODEL_677a351e22fe4156ad944d52b8b04e3b"
      }
     },
     "d4ee1eb6deef4124a1e7b9119a82cea9": {
      "model_module": "@jupyter-widgets/controls",
      "model_module_version": "1.5.0",
      "model_name": "DescriptionStyleModel",
      "state": {
       "description_width": ""
      }
     },
     "d538236b894b4374b6af257f02a2c30f": {
      "model_module": "@jupyter-widgets/controls",
      "model_module_version": "1.5.0",
      "model_name": "VBoxModel",
      "state": {
       "children": [
        "IPY_MODEL_ee56d83a01824b0fa98bdef7b9b28cb1",
        "IPY_MODEL_492bfd2e0b1545ca814416553032f447",
        "IPY_MODEL_3d10b33cb40d4a09bef61b505b37aae2"
       ],
       "layout": "IPY_MODEL_221538eab205438d9b0c205475625aa1"
      }
     },
     "d54777f47533433a8f20b9660c531a30": {
      "model_module": "@jupyter-widgets/controls",
      "model_module_version": "1.5.0",
      "model_name": "DescriptionStyleModel",
      "state": {
       "description_width": "initial"
      }
     },
     "d54894f739064f399f21faf5111879bc": {
      "model_module": "@jupyter-widgets/controls",
      "model_module_version": "1.5.0",
      "model_name": "ButtonStyleModel",
      "state": {}
     },
     "d58a88d29bd84108847b5b977543cd1a": {
      "model_module": "@jupyter-widgets/controls",
      "model_module_version": "1.5.0",
      "model_name": "DescriptionStyleModel",
      "state": {
       "description_width": "initial"
      }
     },
     "d5bff80f5a974e488e1661dc8fdbdd32": {
      "model_module": "@jupyter-widgets/controls",
      "model_module_version": "1.5.0",
      "model_name": "DescriptionStyleModel",
      "state": {
       "description_width": "initial"
      }
     },
     "d601247c5cd34aa6afe4b730f3593f4f": {
      "model_module": "@jupyter-widgets/controls",
      "model_module_version": "1.5.0",
      "model_name": "HBoxModel",
      "state": {
       "children": [
        "IPY_MODEL_c66ff5d20c94435180cd0e9a20274484",
        "IPY_MODEL_92b5a19b74ae4fae8a80b9e6d6ce366d"
       ],
       "layout": "IPY_MODEL_c0c7cacc34c54081a79780419974d7df"
      }
     },
     "d6166ea44be44fc1a3c5e9f004511e74": {
      "model_module": "@jupyter-widgets/controls",
      "model_module_version": "1.5.0",
      "model_name": "VBoxModel",
      "state": {
       "children": [
        "IPY_MODEL_746b566d6927406282a348b9c043422f",
        "IPY_MODEL_8f0c175ea9c4457ab8b52511c6b91f43"
       ],
       "layout": "IPY_MODEL_28cf6c9797394717a0de6c370341566e"
      }
     },
     "d631078e23a64ce89524b1259cfcbef8": {
      "model_module": "@jupyter-widgets/controls",
      "model_module_version": "1.5.0",
      "model_name": "DescriptionStyleModel",
      "state": {
       "description_width": "initial"
      }
     },
     "d67cd97fbcdc455abd2bfb648363ad0e": {
      "model_module": "@jupyter-widgets/base",
      "model_module_version": "1.2.0",
      "model_name": "LayoutModel",
      "state": {
       "width": "auto"
      }
     },
     "d68984f7e69b4084ad08f46f69eaeda2": {
      "model_module": "@jupyter-widgets/controls",
      "model_module_version": "1.5.0",
      "model_name": "FloatTextModel",
      "state": {
       "description": "Vertical (m)",
       "layout": "IPY_MODEL_1b29b4e09c2f40e091282d55518b9440",
       "step": null,
       "style": "IPY_MODEL_6892c808312c4e4da2c7493ff3fb4d4d",
       "value": 1000
      }
     },
     "d6ad09d8ff17477da5993cc95460772d": {
      "model_module": "@jupyter-widgets/controls",
      "model_module_version": "1.5.0",
      "model_name": "GridBoxModel",
      "state": {
       "children": [
        "IPY_MODEL_b254c2ae1e3d4249b592f38698993c5b",
        "IPY_MODEL_067378aab92e45f98c36fa112ebe8266",
        "IPY_MODEL_10a1f55c2727450787b7179c25f2db3b"
       ],
       "layout": "IPY_MODEL_f50e869948294ae8b34f7c94710674a3"
      }
     },
     "d6bc59860d3047fc9722c5307abf3f49": {
      "model_module": "@jupyter-widgets/controls",
      "model_module_version": "1.5.0",
      "model_name": "FloatTextModel",
      "state": {
       "description": "Distance",
       "layout": "IPY_MODEL_bf4feae191c24f48b778e0fdcbe867cb",
       "step": null,
       "style": "IPY_MODEL_a72dc3f53a6b44a1acb0b12723e606ad",
       "value": 1000
      }
     },
     "d6e2e5e7f59d4c6ea1f43101ea0697bb": {
      "model_module": "@jupyter-widgets/controls",
      "model_module_version": "1.5.0",
      "model_name": "DescriptionStyleModel",
      "state": {
       "description_width": "initial"
      }
     },
     "d72935300cfb4a5396d9ecff06223104": {
      "model_module": "@jupyter-widgets/controls",
      "model_module_version": "1.5.0",
      "model_name": "DescriptionStyleModel",
      "state": {
       "description_width": "initial"
      }
     },
     "d72ad85eb0fe4b1f9e3dfc18883168ed": {
      "model_module": "@jupyter-widgets/controls",
      "model_module_version": "1.5.0",
      "model_name": "DropdownModel",
      "state": {
       "_options_labels": [
        "",
        "--- Channels ---",
        "CPI900",
        "CPQ56k",
        "CPQ7200",
        "CPQ900",
        "CPI7200",
        "Line",
        "DEM",
        "CPI56k",
        "X",
        "Y",
        "Z"
       ],
       "description": "Data: ",
       "index": 0,
       "layout": "IPY_MODEL_7425b8d060a24b2f9f62d05b25093cf1",
       "style": "IPY_MODEL_441bc206724d4b00a8bd001dfb1f803a"
      }
     },
     "d74300e3f30543358b0e86d779d17183": {
      "model_module": "@jupyter-widgets/controls",
      "model_module_version": "1.5.0",
      "model_name": "CheckboxModel",
      "state": {
       "description": "Geoscience ANALYST Pro - Live link",
       "disabled": false,
       "indent": false,
       "layout": "IPY_MODEL_56499be88a7c4e0a85c72ae703bd23f3",
       "style": "IPY_MODEL_30da0de13b9446ddb56e6b46a3af2c06",
       "value": false
      }
     },
     "d7d4cf6793864691b8a0c0d1d3e84fae": {
      "model_module": "@jupyter-widgets/controls",
      "model_module_version": "1.5.0",
      "model_name": "DescriptionStyleModel",
      "state": {
       "description_width": "initial"
      }
     },
     "d87447d10126468aba635bea75c0176d": {
      "model_module": "@jupyter-widgets/controls",
      "model_module_version": "1.5.0",
      "model_name": "LabelModel",
      "state": {
       "layout": "IPY_MODEL_283709d9381841fc943844a4d99cea14",
       "style": "IPY_MODEL_4163fae918ce40a5b97d086b79c1f057",
       "value": "Core cell size"
      }
     },
     "d8a03e3cc1f44fdfbf61b9ee1d7ad40e": {
      "model_module": "@jupyter-widgets/controls",
      "model_module_version": "1.5.0",
      "model_name": "DescriptionStyleModel",
      "state": {
       "description_width": ""
      }
     },
     "d8c2c90f50ea472da181bb2cd43c2aa5": {
      "model_module": "@jupyter-widgets/controls",
      "model_module_version": "1.5.0",
      "model_name": "ButtonStyleModel",
      "state": {}
     },
     "d8cb22885c264d57afaba46e08fbea84": {
      "model_module": "@jupyter-widgets/controls",
      "model_module_version": "1.5.0",
      "model_name": "ToggleButtonModel",
      "state": {
       "layout": "IPY_MODEL_3fd275e7b4a048f89798c72c91d33de4",
       "style": "IPY_MODEL_c422b73a568a48788292cc062d24eb8e"
      }
     },
     "d8e22fbdbdb545398958d6671cfddef1": {
      "model_module": "@jupyter-widgets/controls",
      "model_module_version": "1.5.0",
      "model_name": "DescriptionStyleModel",
      "state": {
       "description_width": ""
      }
     },
     "d941535e0b814185bf58b425fb53610f": {
      "model_module": "@jupyter-widgets/base",
      "model_module_version": "1.2.0",
      "model_name": "LayoutModel",
      "state": {}
     },
     "da9c9e85a3144509bae1ad47837d2a46": {
      "model_module": "@jupyter-widgets/controls",
      "model_module_version": "1.5.0",
      "model_name": "FloatTextModel",
      "state": {
       "description": "Vertical",
       "layout": "IPY_MODEL_5c851ab6e9a540998da625311209524b",
       "step": null,
       "style": "IPY_MODEL_2ea2a83409f2453e98751fd5a72bca4e",
       "value": 25
      }
     },
     "dae47057c60b4631a19368ca446ef903": {
      "model_module": "@jupyter-widgets/base",
      "model_module_version": "1.2.0",
      "model_name": "LayoutModel",
      "state": {}
     },
     "db2166ac1ec0438383cea4363dae1106": {
      "model_module": "@jupyter-widgets/controls",
      "model_module_version": "1.5.0",
      "model_name": "FloatTextModel",
      "state": {
       "description": "Distance",
       "layout": "IPY_MODEL_9ee4aad5640144d58aa26c79f18db235",
       "step": null,
       "style": "IPY_MODEL_5d3693ad707e46efbd9972709527ca59",
       "value": 1000
      }
     },
     "db321262ca0240799b4566570aabac6d": {
      "model_module": "@jupyter-widgets/controls",
      "model_module_version": "1.5.0",
      "model_name": "GridBoxModel",
      "state": {
       "children": [
        "IPY_MODEL_6bd90d158d794d108b60abfbdec1a526",
        "IPY_MODEL_e9f9d978bf72431d8740d96c123ae340",
        "IPY_MODEL_81b8934526f04450a98383b93746c986"
       ],
       "layout": "IPY_MODEL_f0fe86ab80fd457498bcb22a08583ac7"
      }
     },
     "dba3f5bc68984c07b4544994d3d6348d": {
      "model_module": "@jupyter-widgets/controls",
      "model_module_version": "1.5.0",
      "model_name": "DescriptionStyleModel",
      "state": {
       "description_width": ""
      }
     },
     "dbe6f00bdbae4ef994c2190ef0326e64": {
      "model_module": "@jupyter-widgets/controls",
      "model_module_version": "1.5.0",
      "model_name": "VBoxModel",
      "state": {
       "children": [
        "IPY_MODEL_e6d6a42513a44696a04df36aaab2caa9",
        "IPY_MODEL_755771fed430459e8a215928f9ff981a"
       ],
       "layout": "IPY_MODEL_25d8fec6c79b483bb805ff622960bfc1"
      }
     },
     "dc30a253a8c64142a06a99830b5fc68b": {
      "model_module": "@jupyter-widgets/base",
      "model_module_version": "1.2.0",
      "model_name": "LayoutModel",
      "state": {
       "border": "solid"
      }
     },
     "dc8d69a7d9294c18a74dc8a8ee190c52": {
      "model_module": "@jupyter-widgets/controls",
      "model_module_version": "1.5.0",
      "model_name": "DropdownModel",
      "state": {
       "_options_labels": [
        "C:\\Users\\dominiquef\\Documents\\GIT\\mira\\geoapps\\docs\\content\\applications",
        "C:\\Users\\dominiquef\\Documents\\GIT\\mira\\geoapps\\docs\\content",
        "C:\\Users\\dominiquef\\Documents\\GIT\\mira\\geoapps\\docs",
        "C:\\Users\\dominiquef\\Documents\\GIT\\mira\\geoapps",
        "C:\\Users\\dominiquef\\Documents\\GIT\\mira",
        "C:\\Users\\dominiquef\\Documents\\GIT",
        "C:\\Users\\dominiquef\\Documents",
        "C:\\Users\\dominiquef",
        "C:\\Users",
        "C:\\",
        "D:\\",
        "Z:\\"
       ],
       "index": 0,
       "layout": "IPY_MODEL_655bdec93e634ffc81301b4d7527ad5f",
       "style": "IPY_MODEL_698334f0159c43f0ada00d52f7119452"
      }
     },
     "dcaca62272214e0d9a2eaccf76cf4622": {
      "model_module": "@jupyter-widgets/controls",
      "model_module_version": "1.5.0",
      "model_name": "DescriptionStyleModel",
      "state": {
       "description_width": ""
      }
     },
     "dcd6a2c9fdc648659f5eb2a18e9cc751": {
      "model_module": "@jupyter-widgets/controls",
      "model_module_version": "1.5.0",
      "model_name": "DescriptionStyleModel",
      "state": {
       "description_width": "initial"
      }
     },
     "dd1328289d1a40f7b677b650e7e557c0": {
      "model_module": "@jupyter-widgets/controls",
      "model_module_version": "1.5.0",
      "model_name": "VBoxModel",
      "state": {
       "children": [
        "IPY_MODEL_641b24eb75b84840917c38b89c23e3d3",
        "IPY_MODEL_3cf61e77faba4a608a90305cd2f42fc4"
       ],
       "layout": "IPY_MODEL_ecd83e616778436fa453d04818047c89"
      }
     },
     "dd1c19e789b3425c9ab158e6d47fd084": {
      "model_module": "@jupyter-widgets/controls",
      "model_module_version": "1.5.0",
      "model_name": "LabelModel",
      "state": {
       "layout": "IPY_MODEL_805f83ccc980483fa7b9d1ea44cf87af",
       "style": "IPY_MODEL_6d7188ee18ac4674909b5b7f0742cc55",
       "value": "Base Parameters"
      }
     },
     "dd1f13facb8e4d3db7a7f44e2c281a88": {
      "model_module": "@jupyter-widgets/controls",
      "model_module_version": "1.5.0",
      "model_name": "ButtonStyleModel",
      "state": {}
     },
     "dd28b3d66e9d4409beaca7a79f5e1c7d": {
      "model_module": "@jupyter-widgets/controls",
      "model_module_version": "1.5.0",
      "model_name": "DescriptionStyleModel",
      "state": {
       "description_width": "initial"
      }
     },
     "dd2e7fc1cb464a6ba4a5b36d548af2ab": {
      "model_module": "@jupyter-widgets/controls",
      "model_module_version": "1.5.0",
      "model_name": "DescriptionStyleModel",
      "state": {
       "description_width": ""
      }
     },
     "dd37097d6619409f9c8231eed4c546bb": {
      "model_module": "@jupyter-widgets/controls",
      "model_module_version": "1.5.0",
      "model_name": "DescriptionStyleModel",
      "state": {
       "description_width": ""
      }
     },
     "dd3b83de553045b6b1c6cf5906d6c430": {
      "model_module": "@jupyter-widgets/controls",
      "model_module_version": "1.5.0",
      "model_name": "DescriptionStyleModel",
      "state": {
       "description_width": "initial"
      }
     },
     "dd57b26426cb4f02be1d27b3789d6e37": {
      "model_module": "@jupyter-widgets/base",
      "model_module_version": "1.2.0",
      "model_name": "LayoutModel",
      "state": {
       "display": "none"
      }
     },
     "dd7544e21df04a4c866bf2f0bfe2c2a7": {
      "model_module": "@jupyter-widgets/controls",
      "model_module_version": "1.5.0",
      "model_name": "ButtonModel",
      "state": {
       "description": "Create copy:",
       "layout": "IPY_MODEL_e4dcc9c0781e4310af0d13dcaa0d7e30",
       "style": "IPY_MODEL_46f53e976bbc464b9400ea01a22c3204"
      }
     },
     "dd75e4b2cc584ba895e9cec1f4372b83": {
      "model_module": "@jupyter-widgets/base",
      "model_module_version": "1.2.0",
      "model_name": "LayoutModel",
      "state": {}
     },
     "dd99a3966a684569953717606044dca4": {
      "model_module": "@jupyter-widgets/controls",
      "model_module_version": "1.5.0",
      "model_name": "ButtonModel",
      "state": {
       "description": "Cancel",
       "layout": "IPY_MODEL_0475e926ef0041c9ab1dc6de39d1551f",
       "style": "IPY_MODEL_643ee55f20c54094815a913db9e9ad3d"
      }
     },
     "ddd40f5e99a44eefba75fac86f13c2c4": {
      "model_module": "@jupyter-widgets/controls",
      "model_module_version": "1.5.0",
      "model_name": "DescriptionStyleModel",
      "state": {
       "description_width": ""
      }
     },
     "de76ea1d04e349f9aa26c88a228a11bb": {
      "model_module": "@jupyter-widgets/controls",
      "model_module_version": "1.5.0",
      "model_name": "DescriptionStyleModel",
      "state": {
       "description_width": "initial"
      }
     },
     "debfd068f7904e94b4497e0906f0734a": {
      "model_module": "@jupyter-widgets/controls",
      "model_module_version": "1.5.0",
      "model_name": "ButtonModel",
      "state": {
       "button_style": "danger",
       "description": "Create",
       "icon": "check",
       "layout": "IPY_MODEL_a43a5e573b134d0c8eeff9c9f7fb6f85",
       "style": "IPY_MODEL_411fb9a85d29411ab5ae4d22d6048487",
       "tooltip": "Run computation"
      }
     },
     "df4cd88c942f4e87b4c6fa60e22a0d27": {
      "model_module": "@jupyter-widgets/base",
      "model_module_version": "1.2.0",
      "model_name": "LayoutModel",
      "state": {}
     },
     "df52530de8f94a1eaefcfcd2bb297805": {
      "model_module": "@jupyter-widgets/controls",
      "model_module_version": "1.5.0",
      "model_name": "VBoxModel",
      "state": {
       "children": [
        "IPY_MODEL_c6d42e6222cc4e1eb19f55f3f00b9bc5",
        "IPY_MODEL_e5318a47f1d0479c9084ee98e1e91740"
       ],
       "layout": "IPY_MODEL_33c63e5132d546e0b408587369dd74db"
      }
     },
     "df7f7c0300a14f8280304c2d71bbfb48": {
      "model_module": "@jupyter-widgets/base",
      "model_module_version": "1.2.0",
      "model_name": "LayoutModel",
      "state": {
       "grid_area": "pathlist",
       "width": "auto"
      }
     },
     "df969fc28974412fb4d8500ed0baccd6": {
      "model_module": "@jupyter-widgets/base",
      "model_module_version": "1.2.0",
      "model_name": "LayoutModel",
      "state": {}
     },
     "dfdedceee4f14619849119d193a235eb": {
      "model_module": "@jupyter-widgets/controls",
      "model_module_version": "1.5.0",
      "model_name": "DescriptionStyleModel",
      "state": {
       "description_width": ""
      }
     },
     "dfee65aba5f14eeba0cc5c482d248532": {
      "model_module": "@jupyter-widgets/base",
      "model_module_version": "1.2.0",
      "model_name": "LayoutModel",
      "state": {
       "width": "auto"
      }
     },
     "dffbfa3bb0f14286ae53cec16f0c79c4": {
      "model_module": "@jupyter-widgets/controls",
      "model_module_version": "1.5.0",
      "model_name": "TextModel",
      "state": {
       "disabled": true,
       "layout": "IPY_MODEL_3748ea038e0b4e80bdd344b94d0c56c9",
       "placeholder": "output filename",
       "style": "IPY_MODEL_4f7a5b32fd924232b97bfff60c40e851"
      }
     },
     "e0642a45ea1949048c4b8f0ab01e97a3": {
      "model_module": "@jupyter-widgets/controls",
      "model_module_version": "1.5.0",
      "model_name": "ButtonStyleModel",
      "state": {}
     },
     "e06a0b91fe4742a685b5f676f1ca6097": {
      "model_module": "@jupyter-widgets/controls",
      "model_module_version": "1.5.0",
      "model_name": "DropdownModel",
      "state": {
       "_options_labels": [
        "",
        "Ore/39_Ore_Callinan",
        "Ore/38_Ore_Dan_Owens",
        "Ore/40_Ore_FlinFlon",
        "Workspace/Inversion_VTEM_Model",
        "Workspace/CDI_VTEM_model",
        "Workspace/Data_FEM_pseudo3D",
        "Workspace/geochem",
        "Workspace/Inversion_DIGHEM_Model",
        "Workspace/Topography",
        "Workspace/Data_TEM_pseudo3D",
        "Workspace/Data_ZTEM",
        "Workspace/Mesh"
       ],
       "description": "Object",
       "index": 0,
       "layout": "IPY_MODEL_fcada985956b4ca0addef82e8308b4c9",
       "style": "IPY_MODEL_f3aa80ae3f64450eaf328d0f1bada8f7"
      }
     },
     "e0989385276a47839b230ffe66b84524": {
      "model_module": "@jupyter-widgets/base",
      "model_module_version": "1.2.0",
      "model_name": "LayoutModel",
      "state": {
       "display": "none",
       "grid_gap": "0px 0px",
       "grid_template_areas": "\n                    'pathlist filename'\n                    'dircontent dircontent'\n                    ",
       "grid_template_columns": "60% 40%",
       "grid_template_rows": "auto auto",
       "width": "500px"
      }
     },
     "e0999460fd834526852fad8bb501497a": {
      "model_module": "@jupyter-widgets/controls",
      "model_module_version": "1.5.0",
      "model_name": "DescriptionStyleModel",
      "state": {
       "description_width": "initial"
      }
     },
     "e1865cfd77b44fa58bf379a0208bf488": {
      "model_module": "@jupyter-widgets/controls",
      "model_module_version": "1.5.0",
      "model_name": "DescriptionStyleModel",
      "state": {
       "description_width": ""
      }
     },
     "e1970f1a8d2b4b678f78b490e9fa8dbf": {
      "model_module": "@jupyter-widgets/controls",
      "model_module_version": "1.5.0",
      "model_name": "FloatTextModel",
      "state": {
       "description": "Distance",
       "layout": "IPY_MODEL_31910868a23b436fb19504cfa2d29809",
       "step": null,
       "style": "IPY_MODEL_af8688146f2c46dd83881c59106a9cf9",
       "value": 1000
      }
     },
     "e1c5621c86a4447e99f214ffe18195c7": {
      "model_module": "@jupyter-widgets/controls",
      "model_module_version": "1.5.0",
      "model_name": "VBoxModel",
      "state": {
       "children": [
        "IPY_MODEL_a6615adf5fd2425d8bb8fdab55bb9f82"
       ],
       "layout": "IPY_MODEL_abbaaae79c24449eacf28d4572a60ce5"
      }
     },
     "e1cd5d7b366245f591f3900895d2759b": {
      "model_module": "@jupyter-widgets/controls",
      "model_module_version": "1.5.0",
      "model_name": "DescriptionStyleModel",
      "state": {
       "description_width": "initial"
      }
     },
     "e1d7c5eb6c54440ca7a9beac0fc193cd": {
      "model_module": "@jupyter-widgets/base",
      "model_module_version": "1.2.0",
      "model_name": "LayoutModel",
      "state": {}
     },
     "e20d162817ed4bc68dc0ab5534493eea": {
      "model_module": "@jupyter-widgets/base",
      "model_module_version": "1.2.0",
      "model_name": "LayoutModel",
      "state": {}
     },
     "e24190265a474be0bccc5c27e9937900": {
      "model_module": "@jupyter-widgets/controls",
      "model_module_version": "1.5.0",
      "model_name": "VBoxModel",
      "state": {
       "children": [
        "IPY_MODEL_f8ba04ea12e043c682e0a480a20db8b6",
        "IPY_MODEL_3e6138e4b2a045b3ac3f477af124e384"
       ],
       "layout": "IPY_MODEL_83e3a42b9ed84589a64d46e159606cf8"
      }
     },
     "e2784c679d0f4778b88ff5e8b4a1cd91": {
      "model_module": "@jupyter-widgets/controls",
      "model_module_version": "1.5.0",
      "model_name": "DescriptionStyleModel",
      "state": {
       "description_width": ""
      }
     },
     "e2993b4f9a5e4949a45622e160d9979f": {
      "model_module": "@jupyter-widgets/controls",
      "model_module_version": "1.5.0",
      "model_name": "DropdownModel",
      "state": {
       "_options_labels": [
        "",
        "CoordinateTransformation/Data_TEM_pseudo3DEPSG_4326",
        "CoordinateTransformation/Data_TEM_pseudo3DEPSG_4326",
        "Faults_Dikes/fault_splay1",
        "Faults_Dikes/fault_Cliff_Lake",
        "Faults_Dikes/fault_Other_FlinFlon",
        "Faults_Dikes/fault_Club_Lake_splay",
        "Faults_Dikes/fault_Catherine_splay2",
        "Faults_Dikes/fault_Birch_View",
        "Faults_Dikes/fault_Dion_Lake",
        "Faults_Dikes/fault_FlinFlon_splay",
        "Faults_Dikes/fault_West_Mandy_Road",
        "Faults_Dikes/fault_Channing",
        "Faults_Dikes/fault_Ross_Lake",
        "Faults_Dikes/fault_Louis_Hidden",
        "Faults_Dikes/fault_Lake_View_thrust",
        "Faults_Dikes/contact_Schist_Lake",
        "Faults_Dikes/fault_Burley_Lake",
        "Faults_Dikes/fault_Dion_Lake_splay",
        "Faults_Dikes/fault_Green_Lake",
        "Faults_Dikes/fault_FlinFlon",
        "Faults_Dikes/fault_Catherine_splay1",
        "Faults_Dikes/fault_East_Mandy_Road",
        "Faults_Dikes/fault_Other_FlinFlon_South",
        "Faults_Dikes/fault_Catherine_splay4",
        "Faults_Dikes/contact_Stitt_Island",
        "Faults_Dikes/fault_Club_Lake",
        "Faults_Dikes/fault_Tailing_Pond",
        "Horizons/35_Hidden_Reservoir_Hr5",
        "Horizons/29_Hidden_Reservoir_Hr1a",
        "Horizons/60_BlueLagoon_Fb2",
        "Horizons/20_FlinFlon_Undivided_Int_Dykes_D2f",
        "Horizons/04_Boundary_Intrusive_S4h",
        "Horizons/53_Millrock_Rhyolite_Fm4b",
        "Horizons/19_FlinFlon_Undivided_Int_Dykes_D2b",
        "Horizons/18_FlinFlon_Undivided_Int_Dykes_777_D2b",
        "Horizons/06_Phantom_Lake_Intrusive_S3a",
        "Horizons/21_FlinFlon_Undivided_Int_Dykes_D3a",
        "Horizons/43_Millrock_CHLSH_South",
        "Horizons/56_Millrock_Basalt_Fm1ba",
        "Horizons/17_FlinFlon_Undivided_Int_Dykes_D2",
        "Horizons/32_Hidden_Reservoir_Hr1b_SW",
        "Horizons/11_Missi_M3_NE",
        "Horizons/13_Missi_M1",
        "Horizons/07_Annabel_Granitoid_S1",
        "Horizons/45_Millrock_Gabbro_South",
        "Horizons/01_Late_Intrusive_S5b",
        "Horizons/31_Hidden_Reservoir_Hr1c_SW",
        "Horizons/52_Millrock_Rhyolite_Fm4_West_check",
        "Horizons/55_Millrock_Basalt_Fm1bf",
        "Horizons/34_Hidden_Reservoir_Hr2b",
        "Horizons/03_Boundary_Intrusive_S4b",
        "Horizons/42_Millrock_CHLSH_North",
        "Horizons/26_Louis_L3",
        "Horizons/23_FlinFlon_Undivided_Int_Felsic_D4g",
        "Horizons/30_Hidden_Reservoir_Hr1b",
        "Horizons/59_BlueLagoon_Fb3",
        "Horizons/49_Millrock_MVR_Fm5d",
        "Horizons/44_Millrock_Gabbro_North",
        "Horizons/27_Hidden_Carlisle_Hc4",
        "Horizons/22_FlinFlon_Undivided_Int_Felsic_D4e",
        "Horizons/02_Boundary_Intrusive_S4a",
        "Horizons/61_BlueLagoon_Fb1_NW",
        "Horizons/05_Boundary_Intrusive_S4g",
        "Ore/39_Ore_Callinan",
        "Ore/38_Ore_Dan_Owens",
        "Ore/40_Ore_FlinFlon",
        "Workspace/Inversion_VTEM_Model",
        "Workspace/CDI_VTEM_model",
        "Workspace/Data_FEM_pseudo3D",
        "Workspace/geochem",
        "Workspace/Inversion_DIGHEM_Model",
        "Workspace/Topography",
        "Workspace/Data_TEM_pseudo3D",
        "Workspace/Data_ZTEM",
        "Workspace/Mesh"
       ],
       "description": "Object",
       "index": 69,
       "layout": "IPY_MODEL_999e0726e8fb49228ad0285c4fa8e18b",
       "style": "IPY_MODEL_736d3198e4b44df19165dd51ea26da35"
      }
     },
     "e2a4c4f0f716469281d38611b20f8abb": {
      "model_module": "@jupyter-widgets/controls",
      "model_module_version": "1.5.0",
      "model_name": "DropdownModel",
      "state": {
       "_options_labels": [
        "C:\\Users\\dominiquef\\Documents\\GIT\\mira\\geoapps\\assets",
        "C:\\Users\\dominiquef\\Documents\\GIT\\mira\\geoapps",
        "C:\\Users\\dominiquef\\Documents\\GIT\\mira",
        "C:\\Users\\dominiquef\\Documents\\GIT",
        "C:\\Users\\dominiquef\\Documents",
        "C:\\Users\\dominiquef",
        "C:\\Users",
        "C:\\",
        "\\\\EgnyteDrive\\mirageoscience\\",
        "D:\\",
        "G:\\"
       ],
       "index": 0,
       "layout": "IPY_MODEL_e5fb3696272d43608062ee3fa7a8c300",
       "style": "IPY_MODEL_7fac22545aeb47ff9a9e053e587ad3e1"
      }
     },
     "e2f8a56eb93f4542978997429a23356f": {
      "model_module": "@jupyter-widgets/controls",
      "model_module_version": "1.5.0",
      "model_name": "DescriptionStyleModel",
      "state": {
       "description_width": "initial"
      }
     },
     "e31a7fa4bdc94d5a8b8c3a3c0961b7ea": {
      "model_module": "@jupyter-widgets/base",
      "model_module_version": "1.2.0",
      "model_name": "LayoutModel",
      "state": {}
     },
     "e3ca0229b6ad4be9b9a6c443dfc522e5": {
      "model_module": "@jupyter-widgets/controls",
      "model_module_version": "1.5.0",
      "model_name": "DescriptionStyleModel",
      "state": {
       "description_width": "initial"
      }
     },
     "e4078be67adb48c491b27eb6265b5bef": {
      "model_module": "@jupyter-widgets/controls",
      "model_module_version": "1.5.0",
      "model_name": "DescriptionStyleModel",
      "state": {
       "description_width": "initial"
      }
     },
     "e494ec6ab34a4f0a8ef17bf685fd3045": {
      "model_module": "@jupyter-widgets/controls",
      "model_module_version": "1.5.0",
      "model_name": "DescriptionStyleModel",
      "state": {
       "description_width": ""
      }
     },
     "e4dcc9c0781e4310af0d13dcaa0d7e30": {
      "model_module": "@jupyter-widgets/base",
      "model_module_version": "1.2.0",
      "model_name": "LayoutModel",
      "state": {}
     },
     "e4ea6101ae1e4b3ab934643b0730cfad": {
      "model_module": "@jupyter-widgets/controls",
      "model_module_version": "1.5.0",
      "model_name": "LabelModel",
      "state": {
       "layout": "IPY_MODEL_2c1c306ac08145858307b9bb3c77219c",
       "style": "IPY_MODEL_5d43ab0b0980486ba6365e80577a06bc",
       "value": "Padding distance"
      }
     },
     "e505d418519e4315877564ee4b313897": {
      "model_module": "@jupyter-widgets/controls",
      "model_module_version": "1.5.0",
      "model_name": "ButtonStyleModel",
      "state": {}
     },
     "e5318a47f1d0479c9084ee98e1e91740": {
      "model_module": "@jupyter-widgets/controls",
      "model_module_version": "1.5.0",
      "model_name": "VBoxModel",
      "state": {
       "children": [
        "IPY_MODEL_dd1c19e789b3425c9ab158e6d47fd084",
        "IPY_MODEL_4b9501830ee34bc4988b5a94cfa009c0",
        "IPY_MODEL_b098d6eeeb514c8b88ad93e0ac6f8db0",
        "IPY_MODEL_8a9d880035264bcc91342e55dd393c50",
        "IPY_MODEL_acc4b556a029410783ce430b97762af5",
        "IPY_MODEL_f1781afd06974cb18c601305ea65939b",
        "IPY_MODEL_2110a91264164d14a6d29f9bc8afd1d5",
        "IPY_MODEL_51e42a5eae414c9a8df37666468a3893",
        "IPY_MODEL_b2fcdf23be3a41d2b1adad8c701d8988",
        "IPY_MODEL_ce109eb55a834d4b88cb46c53e68306b"
       ],
       "layout": "IPY_MODEL_a10951c781524d88a7349087a340b711"
      }
     },
     "e5418e545e1245ecb759e88ffb257819": {
      "model_module": "@jupyter-widgets/controls",
      "model_module_version": "1.5.0",
      "model_name": "ButtonModel",
      "state": {
       "button_style": "danger",
       "description": "Create",
       "icon": "check",
       "layout": "IPY_MODEL_3ac8ae353cea46bda1988c7224317ef4",
       "style": "IPY_MODEL_4d911b260e0843f38acab17ddcc4486e",
       "tooltip": "Run computation"
      }
     },
     "e56a82a403484e1d8fb8af054062aff3": {
      "model_module": "@jupyter-widgets/base",
      "model_module_version": "1.2.0",
      "model_name": "LayoutModel",
      "state": {}
     },
     "e56db57430334e069c34e91db9758a59": {
      "model_module": "@jupyter-widgets/base",
      "model_module_version": "1.2.0",
      "model_name": "LayoutModel",
      "state": {}
     },
     "e5a504e723e94212a7efd85709943413": {
      "model_module": "@jupyter-widgets/controls",
      "model_module_version": "1.5.0",
      "model_name": "ButtonStyleModel",
      "state": {}
     },
     "e5d5d0f948704157a576eac4e0185dfd": {
      "model_module": "@jupyter-widgets/controls",
      "model_module_version": "1.5.0",
      "model_name": "DescriptionStyleModel",
      "state": {
       "description_width": ""
      }
     },
     "e5f7a6c71b2743c693adda276caf82b1": {
      "model_module": "@jupyter-widgets/base",
      "model_module_version": "1.2.0",
      "model_name": "LayoutModel",
      "state": {
       "grid_area": "dircontent",
       "width": "auto"
      }
     },
     "e5fb3696272d43608062ee3fa7a8c300": {
      "model_module": "@jupyter-widgets/base",
      "model_module_version": "1.2.0",
      "model_name": "LayoutModel",
      "state": {
       "grid_area": "pathlist",
       "width": "auto"
      }
     },
     "e605264ce3f0450bb371acb673c785ce": {
      "model_module": "@jupyter-widgets/controls",
      "model_module_version": "1.5.0",
      "model_name": "DescriptionStyleModel",
      "state": {
       "description_width": "initial"
      }
     },
     "e62f81f984294a53af909257e44bc7af": {
      "model_module": "@jupyter-widgets/controls",
      "model_module_version": "1.5.0",
      "model_name": "DescriptionStyleModel",
      "state": {
       "description_width": "initial"
      }
     },
     "e6437ab2d47047249cb1306d26fc9f82": {
      "model_module": "@jupyter-widgets/base",
      "model_module_version": "1.2.0",
      "model_name": "LayoutModel",
      "state": {
       "overflow": "auto"
      }
     },
     "e658eadfec774847b3f027d1189e5791": {
      "model_module": "@jupyter-widgets/controls",
      "model_module_version": "1.5.0",
      "model_name": "FloatTextModel",
      "state": {
       "description": "Easting",
       "layout": "IPY_MODEL_effef83024e74c01a8832ac90c427ea0",
       "step": null,
       "style": "IPY_MODEL_c95d4b4d1be848e08ef821e21e924df7",
       "value": 25
      }
     },
     "e6634921a72a455b97767daedefbe37c": {
      "model_module": "@jupyter-widgets/base",
      "model_module_version": "1.2.0",
      "model_name": "LayoutModel",
      "state": {}
     },
     "e68eb77d481a4a0f962cbd2d00e46071": {
      "model_module": "@jupyter-widgets/controls",
      "model_module_version": "1.5.0",
      "model_name": "DescriptionStyleModel",
      "state": {
       "description_width": ""
      }
     },
     "e6ccc9374f3d489fbf26456aad826fd8": {
      "model_module": "@jupyter-widgets/controls",
      "model_module_version": "1.5.0",
      "model_name": "DescriptionStyleModel",
      "state": {
       "description_width": ""
      }
     },
     "e6d6a42513a44696a04df36aaab2caa9": {
      "model_module": "@jupyter-widgets/controls",
      "model_module_version": "1.5.0",
      "model_name": "VBoxModel",
      "state": {
       "children": [
        "IPY_MODEL_17c606e343e644638df6f5d4a6ce9587",
        "IPY_MODEL_1b92acdbf2614312a2c8559bd5be8521"
       ],
       "layout": "IPY_MODEL_5d6874ea2d944d9ba61cf1f15ada9e01"
      }
     },
     "e6e5ce12f87b4d72b97bc57aba861a79": {
      "model_module": "@jupyter-widgets/base",
      "model_module_version": "1.2.0",
      "model_name": "LayoutModel",
      "state": {
       "min_width": "6em",
       "width": "6em"
      }
     },
     "e70327760a4f49efa1e5064e76d7361e": {
      "model_module": "@jupyter-widgets/controls",
      "model_module_version": "1.5.0",
      "model_name": "ButtonModel",
      "state": {
       "description": "Cancel",
       "layout": "IPY_MODEL_341767ad1a004144a0e10f6d340c3f63",
       "style": "IPY_MODEL_d294bb4064e0466bb0a82d3e3c2f3e03"
      }
     },
     "e71752c4bb9241358dd4a0f26fce2956": {
      "model_module": "@jupyter-widgets/controls",
      "model_module_version": "1.5.0",
      "model_name": "FloatTextModel",
      "state": {
       "description": "Distance",
       "layout": "IPY_MODEL_f2652af8a3f84d4193389ffa37b13a85",
       "step": null,
       "style": "IPY_MODEL_702e2a52b1054a69b032bf3a63021e30",
       "value": 1000
      }
     },
     "e7557fdfc49d48a799d4910d55a1d78d": {
      "model_module": "@jupyter-widgets/base",
      "model_module_version": "1.2.0",
      "model_name": "LayoutModel",
      "state": {
       "width": "auto"
      }
     },
     "e77d21e008d94308a38fbd7b4384087e": {
      "model_module": "@jupyter-widgets/controls",
      "model_module_version": "1.5.0",
      "model_name": "TextModel",
      "state": {
       "layout": "IPY_MODEL_23d203b0447543079fc5606fbd2cc81a",
       "placeholder": "output filename",
       "style": "IPY_MODEL_e68eb77d481a4a0f962cbd2d00e46071",
       "value": "FlinFlon.geoh5"
      }
     },
     "e7973867fdc94dceb48a2d2f0d8a1d6d": {
      "model_module": "@jupyter-widgets/controls",
      "model_module_version": "1.5.0",
      "model_name": "VBoxModel",
      "state": {
       "children": [
        "IPY_MODEL_f1d70e68176c43389a8b9ab6e4597b39",
        "IPY_MODEL_c664e6e06863409a86bc9533f3f96ddb"
       ],
       "layout": "IPY_MODEL_845bf9567e3343adb24a1e67c617bde1"
      }
     },
     "e7acef1c42034627b51c7ef3baf3c19b": {
      "model_module": "@jupyter-widgets/base",
      "model_module_version": "1.2.0",
      "model_name": "LayoutModel",
      "state": {}
     },
     "e88833c93c294d768ef3cd69291f179a": {
      "model_module": "@jupyter-widgets/base",
      "model_module_version": "1.2.0",
      "model_name": "LayoutModel",
      "state": {
       "width": "auto"
      }
     },
     "e8e41c9103084abaa734b1fb90ceb9dc": {
      "model_module": "@jupyter-widgets/controls",
      "model_module_version": "1.5.0",
      "model_name": "DropdownModel",
      "state": {
       "_options_labels": [
        "",
        "Data_TEM_pseudo3DEPSG_4326",
        "Iso_Iteration_7_model_2_50e-03",
        "Iso_Iteration_7_model_1_00e-02",
        "Iso_Iteration_7_model_1_50e-02",
        "Iso_Iteration_7_model_2_00e-02",
        "Iso_Iteration_7_model_2_00e-02",
        "Iso_Iteration_7_model_5_00e-03",
        "Iso_Iteration_7_model_2_50e-03",
        "Iso_Iteration_7_model_1_50e-02",
        "Iso_Iteration_7_model_1_00e-02",
        "Iso_Iteration_7_model_5_00e-03",
        "fault_splay1",
        "fault_Cliff_Lake",
        "fault_Other_FlinFlon",
        "fault_Club_Lake_splay",
        "fault_Catherine_splay2",
        "fault_Birch_View",
        "fault_Dion_Lake",
        "fault_FlinFlon_splay",
        "fault_West_Mandy_Road",
        "fault_Channing",
        "fault_Ross_Lake",
        "fault_Louis_Hidden",
        "fault_Lake_View_thrust",
        "contact_Schist_Lake",
        "fault_Burley_Lake",
        "fault_Dion_Lake_splay",
        "fault_Green_Lake",
        "fault_FlinFlon",
        "fault_Catherine_splay1",
        "fault_East_Mandy_Road",
        "fault_Other_FlinFlon_South",
        "fault_Catherine_splay4",
        "contact_Stitt_Island",
        "fault_Club_Lake",
        "fault_Tailing_Pond",
        "35_Hidden_Reservoir_Hr5",
        "29_Hidden_Reservoir_Hr1a",
        "60_BlueLagoon_Fb2",
        "20_FlinFlon_Undivided_Int_Dykes_D2f",
        "04_Boundary_Intrusive_S4h",
        "53_Millrock_Rhyolite_Fm4b",
        "19_FlinFlon_Undivided_Int_Dykes_D2b",
        "18_FlinFlon_Undivided_Int_Dykes_777_D2b",
        "06_Phantom_Lake_Intrusive_S3a",
        "21_FlinFlon_Undivided_Int_Dykes_D3a",
        "43_Millrock_CHLSH_South",
        "56_Millrock_Basalt_Fm1ba",
        "17_FlinFlon_Undivided_Int_Dykes_D2",
        "32_Hidden_Reservoir_Hr1b_SW",
        "11_Missi_M3_NE",
        "13_Missi_M1",
        "07_Annabel_Granitoid_S1",
        "45_Millrock_Gabbro_South",
        "01_Late_Intrusive_S5b",
        "31_Hidden_Reservoir_Hr1c_SW",
        "52_Millrock_Rhyolite_Fm4_West_check",
        "55_Millrock_Basalt_Fm1bf",
        "34_Hidden_Reservoir_Hr2b",
        "03_Boundary_Intrusive_S4b",
        "42_Millrock_CHLSH_North",
        "26_Louis_L3",
        "23_FlinFlon_Undivided_Int_Felsic_D4g",
        "30_Hidden_Reservoir_Hr1b",
        "59_BlueLagoon_Fb3",
        "49_Millrock_MVR_Fm5d",
        "44_Millrock_Gabbro_North",
        "27_Hidden_Carlisle_Hc4",
        "22_FlinFlon_Undivided_Int_Felsic_D4e",
        "02_Boundary_Intrusive_S4a",
        "61_BlueLagoon_Fb1_NW",
        "05_Boundary_Intrusive_S4g",
        "39_Ore_Callinan",
        "38_Ore_Dan_Owens",
        "40_Ore_FlinFlon",
        "Inversion_VTEM_Model",
        "CDI_VTEM_model",
        "Data_FEM_pseudo3D",
        "geochem",
        "Inversion_DIGHEM_Model",
        "Topography",
        "Data_TEM_pseudo3D",
        "Data_ZTEM",
        "Mesh"
       ],
       "description": "Object",
       "index": 0,
       "layout": "IPY_MODEL_cc1c7058e5274fbcb389185b1c994caf",
       "style": "IPY_MODEL_37016389fc0b44efbaed195604c8a3c3"
      }
     },
     "e908c54b02d340078e71f51cb8242117": {
      "model_module": "@jupyter-widgets/controls",
      "model_module_version": "1.5.0",
      "model_name": "DescriptionStyleModel",
      "state": {
       "description_width": "initial"
      }
     },
     "e9193432a88a47ddbd6ea040c78f8b93": {
      "model_module": "@jupyter-widgets/base",
      "model_module_version": "1.2.0",
      "model_name": "LayoutModel",
      "state": {}
     },
     "e91b74e61014411da5f8bc6d9ab4617f": {
      "model_module": "@jupyter-widgets/controls",
      "model_module_version": "1.5.0",
      "model_name": "DescriptionStyleModel",
      "state": {
       "description_width": ""
      }
     },
     "e91c791a1e7249398bf405ed4e9c1834": {
      "model_module": "@jupyter-widgets/controls",
      "model_module_version": "1.5.0",
      "model_name": "DescriptionStyleModel",
      "state": {
       "description_width": ""
      }
     },
     "e9f75e4d9b204c13aeaa2cc2caf12716": {
      "model_module": "@jupyter-widgets/base",
      "model_module_version": "1.2.0",
      "model_name": "LayoutModel",
      "state": {}
     },
     "e9f9d978bf72431d8740d96c123ae340": {
      "model_module": "@jupyter-widgets/controls",
      "model_module_version": "1.5.0",
      "model_name": "TextModel",
      "state": {
       "disabled": true,
       "layout": "IPY_MODEL_3b44286405a2497a8c9904bac8b4f70e",
       "placeholder": "output filename",
       "style": "IPY_MODEL_ed721e59783a4063a3ec4e02c6941042"
      }
     },
     "e9ffe959b5a24e61832aacb77e72fdd4": {
      "model_module": "@jupyter-widgets/controls",
      "model_module_version": "1.5.0",
      "model_name": "DescriptionStyleModel",
      "state": {
       "description_width": "initial"
      }
     },
     "ea0f5004283141138d89f23c713608a5": {
      "model_module": "@jupyter-widgets/controls",
      "model_module_version": "1.5.0",
      "model_name": "VBoxModel",
      "state": {
       "children": [
        "IPY_MODEL_8abdc9e563d642479560c1ba0a5cf459",
        "IPY_MODEL_db321262ca0240799b4566570aabac6d",
        "IPY_MODEL_2aa43ebcc83f40c4980fe2ebd71de899"
       ],
       "layout": "IPY_MODEL_2955a1f9c0084fb58a294898f55c9f69"
      }
     },
     "ea5f0d3c874e4eda954314a5c268f368": {
      "model_module": "@jupyter-widgets/controls",
      "model_module_version": "1.5.0",
      "model_name": "DescriptionStyleModel",
      "state": {
       "description_width": "initial"
      }
     },
     "eabcf6590bd64d62bb5451d82840a9bb": {
      "model_module": "@jupyter-widgets/controls",
      "model_module_version": "1.5.0",
      "model_name": "BoxModel",
      "state": {
       "children": [
        "IPY_MODEL_f7897aa7e7034d8492342c0a5a4b39bc"
       ],
       "layout": "IPY_MODEL_a6447837bde44ff3bd06cfbd19bfbb7e"
      }
     },
     "ead21715cdf4472ea67e40347bdb08c2": {
      "model_module": "@jupyter-widgets/base",
      "model_module_version": "1.2.0",
      "model_name": "LayoutModel",
      "state": {}
     },
     "eae365f79d3341fbb481122da9287a64": {
      "model_module": "@jupyter-widgets/controls",
      "model_module_version": "1.5.0",
      "model_name": "DescriptionStyleModel",
      "state": {
       "description_width": ""
      }
     },
     "eb14dbded445426aa00fc56bec3c95d1": {
      "model_module": "@jupyter-widgets/controls",
      "model_module_version": "1.5.0",
      "model_name": "DescriptionStyleModel",
      "state": {
       "description_width": ""
      }
     },
     "ebbc8e77c87043e6977af58967193b6b": {
      "model_module": "@jupyter-widgets/controls",
      "model_module_version": "1.5.0",
      "model_name": "FloatTextModel",
      "state": {
       "description": "Distance",
       "layout": "IPY_MODEL_2c0a7f4fa62747a1b1c7bc3951c0708a",
       "step": null,
       "style": "IPY_MODEL_a4f3692c807f4cb59d1ccf16632de464",
       "value": 1000
      }
     },
     "ebd3eb25593a43aca1d7a00823c7eb3d": {
      "model_module": "@jupyter-widgets/controls",
      "model_module_version": "1.5.0",
      "model_name": "DescriptionStyleModel",
      "state": {
       "description_width": "initial"
      }
     },
     "ebf40b47561d4a848394f022e2d0f880": {
      "model_module": "@jupyter-widgets/controls",
      "model_module_version": "1.5.0",
      "model_name": "DescriptionStyleModel",
      "state": {
       "description_width": ""
      }
     },
     "ec0c1e261dbb4c7bb49bcb4ccd2f2477": {
      "model_module": "@jupyter-widgets/controls",
      "model_module_version": "1.5.0",
      "model_name": "DescriptionStyleModel",
      "state": {
       "description_width": "initial"
      }
     },
     "ec172ae8a49646478c366c8dd4653383": {
      "model_module": "@jupyter-widgets/controls",
      "model_module_version": "1.5.0",
      "model_name": "DescriptionStyleModel",
      "state": {
       "description_width": "initial"
      }
     },
     "ec56c33d554c418782f12390f8e0d046": {
      "model_module": "@jupyter-widgets/controls",
      "model_module_version": "1.5.0",
      "model_name": "DescriptionStyleModel",
      "state": {
       "description_width": "initial"
      }
     },
     "ec5b05f78cae4b1298b3b5e0d5fb03a6": {
      "model_module": "@jupyter-widgets/controls",
      "model_module_version": "1.5.0",
      "model_name": "DropdownModel",
      "state": {
       "_options_labels": [
        "",
        "Ore/39_Ore_Callinan",
        "Ore/38_Ore_Dan_Owens",
        "Ore/40_Ore_FlinFlon",
        "Workspace/Inversion_VTEM_Model",
        "Workspace/DC_Survey (currents)",
        "Workspace/CDI_VTEM_model",
        "Workspace/Data_FEM_pseudo3D",
        "Workspace/geochem",
        "Workspace/DC_Survey",
        "Workspace/Inversion_DIGHEM_Model",
        "Workspace/Topography",
        "Workspace/Data_TEM_pseudo3D",
        "Workspace/Data_ZTEM",
        "Workspace/Mesh"
       ],
       "description": "Object",
       "index": 0,
       "layout": "IPY_MODEL_9500d7f9da1743c889fa751640a2c3b0",
       "style": "IPY_MODEL_28a2474117034aa1b3e880b03529578f"
      }
     },
     "ec74eeaa9340440588563d597cd05320": {
      "model_module": "@jupyter-widgets/base",
      "model_module_version": "1.2.0",
      "model_name": "LayoutModel",
      "state": {
       "min_width": "6em",
       "width": "6em"
      }
     },
     "ec8df3c48da04c2ca5daf299bbd430a4": {
      "model_module": "@jupyter-widgets/base",
      "model_module_version": "1.2.0",
      "model_name": "LayoutModel",
      "state": {}
     },
     "ec92aec7733943daa764690bf0a6e7ea": {
      "model_module": "@jupyter-widgets/controls",
      "model_module_version": "1.5.0",
      "model_name": "LabelModel",
      "state": {
       "layout": "IPY_MODEL_931d0f303db242b790ac9fc1d87b64bf",
       "style": "IPY_MODEL_d1126d07c80b4156b553f1a3cd39dd6a",
       "value": "Refinement B"
      }
     },
     "ec9ee09fc11c4674baa34be2f9535059": {
      "model_module": "@jupyter-widgets/base",
      "model_module_version": "1.2.0",
      "model_name": "LayoutModel",
      "state": {}
     },
     "ecbd5df10cc14f438b4d9edf0fc89789": {
      "model_module": "@jupyter-widgets/base",
      "model_module_version": "1.2.0",
      "model_name": "LayoutModel",
      "state": {}
     },
     "ecd6556283c842cc9b24bf3299416ff6": {
      "model_module": "@jupyter-widgets/controls",
      "model_module_version": "1.5.0",
      "model_name": "HBoxModel",
      "state": {
       "children": [
        "IPY_MODEL_0ddc1dec3ec74d6a91b69677b915355a",
        "IPY_MODEL_2df814ccfba047119f5ca5978abc0c4f"
       ],
       "layout": "IPY_MODEL_2236b0c8014546188e055ffa56073997"
      }
     },
     "ecd83e616778436fa453d04818047c89": {
      "model_module": "@jupyter-widgets/base",
      "model_module_version": "1.2.0",
      "model_name": "LayoutModel",
      "state": {}
     },
     "ecf5ce54a90149ca887e396a4a9dbc46": {
      "model_module": "@jupyter-widgets/base",
      "model_module_version": "1.2.0",
      "model_name": "LayoutModel",
      "state": {}
     },
     "ecffa3a2f5be46c9a0ffafbc673c04f9": {
      "model_module": "@jupyter-widgets/base",
      "model_module_version": "1.2.0",
      "model_name": "LayoutModel",
      "state": {
       "width": "auto"
      }
     },
     "ed0805c7b91245d79fc62df48d94653a": {
      "model_module": "@jupyter-widgets/base",
      "model_module_version": "1.2.0",
      "model_name": "LayoutModel",
      "state": {}
     },
     "ed2144557b384c9e87510678fe011f69": {
      "model_module": "@jupyter-widgets/controls",
      "model_module_version": "1.5.0",
      "model_name": "DescriptionStyleModel",
      "state": {
       "description_width": "initial"
      }
     },
     "ed6f653db7bd47a2b154a16af17fbb49": {
      "model_module": "@jupyter-widgets/controls",
      "model_module_version": "1.5.0",
      "model_name": "DescriptionStyleModel",
      "state": {
       "description_width": "initial"
      }
     },
     "ed721e59783a4063a3ec4e02c6941042": {
      "model_module": "@jupyter-widgets/controls",
      "model_module_version": "1.5.0",
      "model_name": "DescriptionStyleModel",
      "state": {
       "description_width": ""
      }
     },
     "ed857db52cc2456da21bcad559a7e037": {
      "model_module": "@jupyter-widgets/controls",
      "model_module_version": "1.5.0",
      "model_name": "DescriptionStyleModel",
      "state": {
       "description_width": ""
      }
     },
     "edca707aed474fc3acd642a1bccd5e86": {
      "model_module": "@jupyter-widgets/base",
      "model_module_version": "1.2.0",
      "model_name": "LayoutModel",
      "state": {
       "display": "none"
      }
     },
     "ee0cd08574634b4eb63e16d0953316dc": {
      "model_module": "@jupyter-widgets/controls",
      "model_module_version": "1.5.0",
      "model_name": "DescriptionStyleModel",
      "state": {
       "description_width": ""
      }
     },
     "ee56d83a01824b0fa98bdef7b9b28cb1": {
      "model_module": "@jupyter-widgets/controls",
      "model_module_version": "1.5.0",
      "model_name": "VBoxModel",
      "state": {
       "children": [
        "IPY_MODEL_c6ed0d62fcbe4bd0b624ebe3e0eb4ae9",
        "IPY_MODEL_b58b1034c67f4e12a13c4e9f82042306"
       ],
       "layout": "IPY_MODEL_582702e0271b4660a205b0749279a45b"
      }
     },
     "eeab90b2a3f74a48b853658c0230d6b2": {
      "model_module": "@jupyter-widgets/controls",
      "model_module_version": "1.5.0",
      "model_name": "DescriptionStyleModel",
      "state": {
       "description_width": "initial"
      }
     },
     "eeb02e1aca304fa3a3b713e398dd132a": {
      "model_module": "@jupyter-widgets/controls",
      "model_module_version": "1.5.0",
      "model_name": "DescriptionStyleModel",
      "state": {
       "description_width": "initial"
      }
     },
     "eecae4d2495a4bbf9c57e623d51abe6d": {
      "model_module": "@jupyter-widgets/base",
      "model_module_version": "1.2.0",
      "model_name": "LayoutModel",
      "state": {
       "min_width": "6em",
       "width": "6em"
      }
     },
     "eecd6ce9e5464ecbac447465e4ee803b": {
      "model_module": "@jupyter-widgets/base",
      "model_module_version": "1.2.0",
      "model_name": "LayoutModel",
      "state": {
       "display": "none"
      }
     },
     "eed0d0d9cbfa48119f4c1cf2ef7e355d": {
      "model_module": "@jupyter-widgets/controls",
      "model_module_version": "1.5.0",
      "model_name": "DescriptionStyleModel",
      "state": {
       "description_width": ""
      }
     },
     "eee99e8a5ddd4d46b23cbae188ae902d": {
      "model_module": "@jupyter-widgets/controls",
      "model_module_version": "1.5.0",
      "model_name": "DescriptionStyleModel",
      "state": {
       "description_width": "initial"
      }
     },
     "ef07ed581e154f97befd0998acc0f689": {
      "model_module": "@jupyter-widgets/base",
      "model_module_version": "1.2.0",
      "model_name": "LayoutModel",
      "state": {}
     },
     "ef4d6a1561b94ff2afad2dcedc02b8e5": {
      "model_module": "@jupyter-widgets/controls",
      "model_module_version": "1.5.0",
      "model_name": "VBoxModel",
      "state": {
       "children": [
        "IPY_MODEL_58ff80da7ac1413aa3b9ac1f2fc7a266"
       ],
       "layout": "IPY_MODEL_3e376d0a747549be925da36a6135c9e2"
      }
     },
     "ef72fa172ab94a40a95dfa4e74c9c7d5": {
      "model_module": "@jupyter-widgets/controls",
      "model_module_version": "1.5.0",
      "model_name": "DescriptionStyleModel",
      "state": {
       "description_width": "initial"
      }
     },
     "ef7d339fe1b5431b86ea6ffa5f26bae0": {
      "model_module": "@jupyter-widgets/controls",
      "model_module_version": "1.5.0",
      "model_name": "LabelModel",
      "state": {
       "layout": "IPY_MODEL_5fc84a52d81d48529fa5ab352772951e",
       "style": "IPY_MODEL_6417e67884404cf2a488be6b747830f3",
       "value": "Base Parameters"
      }
     },
     "ef89e5042afe4be58d149c00963bdb33": {
      "model_module": "@jupyter-widgets/controls",
      "model_module_version": "1.5.0",
      "model_name": "VBoxModel",
      "state": {
       "children": [
        "IPY_MODEL_4ec3af01506c44b29429ed528c66896c",
        "IPY_MODEL_42feb1bfa8784e37b7369743c62722e2"
       ],
       "layout": "IPY_MODEL_3aaff80396c8481aabdf58581a4a4504"
      }
     },
     "efc7aacfbe7e4e4ab4826a49362768ca": {
      "model_module": "@jupyter-widgets/controls",
      "model_module_version": "1.5.0",
      "model_name": "DescriptionStyleModel",
      "state": {
       "description_width": ""
      }
     },
     "efd871dab1d34e99beb4cad707f392c3": {
      "model_module": "@jupyter-widgets/controls",
      "model_module_version": "1.5.0",
      "model_name": "DescriptionStyleModel",
      "state": {
       "description_width": "initial"
      }
     },
     "effef83024e74c01a8832ac90c427ea0": {
      "model_module": "@jupyter-widgets/base",
      "model_module_version": "1.2.0",
      "model_name": "LayoutModel",
      "state": {}
     },
     "f025c5ec45414e7a90677b1c1d0e658d": {
      "model_module": "@jupyter-widgets/controls",
      "model_module_version": "1.5.0",
      "model_name": "HBoxModel",
      "state": {
       "children": [
        "IPY_MODEL_522da882ba0c413e88545a7ab620fa0f",
        "IPY_MODEL_21987f2e3fcc4a9ea024f76eea875390",
        "IPY_MODEL_19b3ce1cee6843a08dd157983f34d172"
       ],
       "layout": "IPY_MODEL_6d9bf373797d44dc852a405560702059"
      }
     },
     "f03ebf2268a746929bc18af07fd6fd68": {
      "model_module": "@jupyter-widgets/controls",
      "model_module_version": "1.5.0",
      "model_name": "DescriptionStyleModel",
      "state": {
       "description_width": ""
      }
     },
     "f0611e42943b44b19a22b932df0d1e6a": {
      "model_module": "@jupyter-widgets/base",
      "model_module_version": "1.2.0",
      "model_name": "LayoutModel",
      "state": {}
     },
     "f07ab4cc9f1245158b3c8efa09f2799f": {
      "model_module": "@jupyter-widgets/base",
      "model_module_version": "1.2.0",
      "model_name": "LayoutModel",
      "state": {
       "margin": "0 0 0 1em"
      }
     },
     "f083ccc0a3204eb0920cc3545e73382a": {
      "model_module": "@jupyter-widgets/controls",
      "model_module_version": "1.5.0",
      "model_name": "DropdownModel",
      "state": {
       "_options_labels": [
        "surface",
        "radial"
       ],
       "description": "Type",
       "index": 1,
       "layout": "IPY_MODEL_ffcfd51d822146ce8a0e77a2394c309b",
       "style": "IPY_MODEL_8b2bddf928f6474fbcd4c598504ad1be"
      }
     },
     "f0c112d25ac94ef5ba82a97d28aeebaf": {
      "model_module": "@jupyter-widgets/controls",
      "model_module_version": "1.5.0",
      "model_name": "TextModel",
      "state": {
       "layout": "IPY_MODEL_c71cfa5fbe654c138f48906af3748f62",
       "placeholder": "output filename",
       "style": "IPY_MODEL_52ffc355067142bdacba0484bb7c9131",
       "value": "FlinFlon.geoh5"
      }
     },
     "f0c91a8b33a74438806fa1e5a66c8a05": {
      "model_module": "@jupyter-widgets/controls",
      "model_module_version": "1.5.0",
      "model_name": "DescriptionStyleModel",
      "state": {
       "description_width": ""
      }
     },
     "f0e3c82927e84aab918ee2d173e163e3": {
      "model_module": "@jupyter-widgets/base",
      "model_module_version": "1.2.0",
      "model_name": "LayoutModel",
      "state": {}
     },
     "f0fe86ab80fd457498bcb22a08583ac7": {
      "model_module": "@jupyter-widgets/base",
      "model_module_version": "1.2.0",
      "model_name": "LayoutModel",
      "state": {
       "display": "none",
       "grid_gap": "0px 0px",
       "grid_template_areas": "\n                    'pathlist pathlist'\n                    'dircontent dircontent'\n                    ",
       "grid_template_columns": "60% 40%",
       "grid_template_rows": "auto auto",
       "width": "500px"
      }
     },
     "f11a9daa8fb547c58e0b7a2220aa09e3": {
      "model_module": "@jupyter-widgets/base",
      "model_module_version": "1.2.0",
      "model_name": "LayoutModel",
      "state": {}
     },
     "f13d6ba50eb5469b87387c66a7ff995b": {
      "model_module": "@jupyter-widgets/controls",
      "model_module_version": "1.5.0",
      "model_name": "LabelModel",
      "state": {
       "layout": "IPY_MODEL_969d8a6bba0d4cca845070396851ae48",
       "style": "IPY_MODEL_91cfd3e65a7c4ce6af978cc065a88918",
       "value": "Refinement B"
      }
     },
     "f141a65f4b1f4a38b837b3da687dd940": {
      "model_module": "@jupyter-widgets/controls",
      "model_module_version": "1.5.0",
      "model_name": "DescriptionStyleModel",
      "state": {
       "description_width": "initial"
      }
     },
     "f1463e9ca7ba4354a0c76bdbc9a951c7": {
      "model_module": "@jupyter-widgets/controls",
      "model_module_version": "1.5.0",
      "model_name": "DescriptionStyleModel",
      "state": {
       "description_width": ""
      }
     },
     "f157aac339794f5e9b186634c2f7585a": {
      "model_module": "@jupyter-widgets/base",
      "model_module_version": "1.2.0",
      "model_name": "LayoutModel",
      "state": {}
     },
     "f15c1afaa0994a65a1efdefa5a01501f": {
      "model_module": "@jupyter-widgets/controls",
      "model_module_version": "1.5.0",
      "model_name": "ButtonModel",
      "state": {
       "description": "Change",
       "layout": "IPY_MODEL_a977440af44f48da88f93f6bc696097c",
       "style": "IPY_MODEL_8477c15d11064503910f6ab03303c916"
      }
     },
     "f1757497e4df4a7ba0f25e3b049e2e41": {
      "model_module": "@jupyter-widgets/controls",
      "model_module_version": "1.5.0",
      "model_name": "HTMLModel",
      "state": {
       "layout": "IPY_MODEL_d06fba4cd9bc4cad96a668105fd91c38",
       "placeholder": "",
       "style": "IPY_MODEL_6f8cd3009bd84ee2a1fe3c97b19a4ccd",
       "value": "<span style=\"margin-left:10px; color:black;\">No file selected</span>"
      }
     },
     "f1781afd06974cb18c601305ea65939b": {
      "model_module": "@jupyter-widgets/controls",
      "model_module_version": "1.5.0",
      "model_name": "FloatTextModel",
      "state": {
       "description": "Northing",
       "layout": "IPY_MODEL_47ad8c762a9b497982a15192f0b3a8c9",
       "step": null,
       "style": "IPY_MODEL_ae23d4616d4140b9899e79673464c2c7",
       "value": 25
      }
     },
     "f191966393a845b6b880c2efbeaafd20": {
      "model_module": "@jupyter-widgets/controls",
      "model_module_version": "1.5.0",
      "model_name": "HTMLModel",
      "state": {
       "layout": "IPY_MODEL_0ac9d43627274859939b4b5552836e9d",
       "placeholder": "",
       "style": "IPY_MODEL_f1463e9ca7ba4354a0c76bdbc9a951c7",
       "value": "<span style=\"color:green;\">C:\\Users\\dominiquef\\Documents\\GIT\\mira\\geoapps\\assets\\Temp\\</span>"
      }
     },
     "f1d70e68176c43389a8b9ab6e4597b39": {
      "model_module": "@jupyter-widgets/controls",
      "model_module_version": "1.5.0",
      "model_name": "VBoxModel",
      "state": {
       "children": [
        "IPY_MODEL_e5418e545e1245ecb759e88ffb257819",
        "IPY_MODEL_b2760394b64a4205828e7b5160f75120"
       ],
       "layout": "IPY_MODEL_94829f16d4264554a0e2731c068c9bb4"
      }
     },
     "f2652af8a3f84d4193389ffa37b13a85": {
      "model_module": "@jupyter-widgets/base",
      "model_module_version": "1.2.0",
      "model_name": "LayoutModel",
      "state": {}
     },
     "f2a582ed95984f0788d3993ee31978aa": {
      "model_module": "@jupyter-widgets/controls",
      "model_module_version": "1.5.0",
      "model_name": "DescriptionStyleModel",
      "state": {
       "description_width": "initial"
      }
     },
     "f2d4a72a26324cda8ed359cdc8184dbd": {
      "model_module": "@jupyter-widgets/base",
      "model_module_version": "1.2.0",
      "model_name": "LayoutModel",
      "state": {}
     },
     "f313eeea34154baa9842ef4421b78b7a": {
      "model_module": "@jupyter-widgets/base",
      "model_module_version": "1.2.0",
      "model_name": "LayoutModel",
      "state": {}
     },
     "f3aa80ae3f64450eaf328d0f1bada8f7": {
      "model_module": "@jupyter-widgets/controls",
      "model_module_version": "1.5.0",
      "model_name": "DescriptionStyleModel",
      "state": {
       "description_width": "initial"
      }
     },
     "f3ab9ef14beb4b2d96dba81b05e5f450": {
      "model_module": "@jupyter-widgets/base",
      "model_module_version": "1.2.0",
      "model_name": "LayoutModel",
      "state": {
       "width": "auto"
      }
     },
     "f3c9743ae46c4937bcf3c7612082fc5a": {
      "model_module": "@jupyter-widgets/controls",
      "model_module_version": "1.5.0",
      "model_name": "DescriptionStyleModel",
      "state": {
       "description_width": "initial"
      }
     },
     "f3eed5988ec54ba9a556692f2845ac04": {
      "model_module": "@jupyter-widgets/controls",
      "model_module_version": "1.5.0",
      "model_name": "ButtonModel",
      "state": {
       "description": "Cancel",
       "layout": "IPY_MODEL_1c321579f7ca42c68d101b0b85762888",
       "style": "IPY_MODEL_cb70196439834dd3b730b2d2f826be56"
      }
     },
     "f3fd45a26759481fa83830bed04da527": {
      "model_module": "@jupyter-widgets/controls",
      "model_module_version": "1.5.0",
      "model_name": "DescriptionStyleModel",
      "state": {
       "description_width": "initial"
      }
     },
     "f405ba4b8fd14cf7b08d99b74b3c8819": {
      "model_module": "@jupyter-widgets/controls",
      "model_module_version": "1.5.0",
      "model_name": "VBoxModel",
      "state": {
       "children": [
        "IPY_MODEL_c4c52fb6ace142ebad2b3370499951dd",
        "IPY_MODEL_2eeee18a4e924cffabbb8aa5bddbe2aa"
       ],
       "layout": "IPY_MODEL_9658ca5871944b82b2e5c4ee2a7dee53"
      }
     },
     "f431f815a3a243cabdeade6e880de0f7": {
      "model_module": "@jupyter-widgets/base",
      "model_module_version": "1.2.0",
      "model_name": "LayoutModel",
      "state": {
       "grid_area": "dircontent",
       "width": "auto"
      }
     },
     "f4d52b6ed60d4f18b6a874dcda5dd70f": {
      "model_module": "@jupyter-widgets/base",
      "model_module_version": "1.2.0",
      "model_name": "LayoutModel",
      "state": {
       "width": "auto"
      }
     },
     "f4f7fe39d032476fb7c804de14e4759e": {
      "model_module": "@jupyter-widgets/controls",
      "model_module_version": "1.5.0",
      "model_name": "TextModel",
      "state": {
       "description": "Levels",
       "layout": "IPY_MODEL_ec8df3c48da04c2ca5daf299bbd430a4",
       "style": "IPY_MODEL_9f0d70c9be854fc4aa0829c44b3fe066",
       "value": "0.0, 0.0, 2.0"
      }
     },
     "f50e869948294ae8b34f7c94710674a3": {
      "model_module": "@jupyter-widgets/base",
      "model_module_version": "1.2.0",
      "model_name": "LayoutModel",
      "state": {
       "display": "none",
       "grid_gap": "0px 0px",
       "grid_template_areas": "\n                    'pathlist pathlist'\n                    'dircontent dircontent'\n                    ",
       "grid_template_columns": "60% 40%",
       "grid_template_rows": "auto auto",
       "width": "auto"
      }
     },
     "f52ad416346d4a3fa922223493e5c679": {
      "model_module": "@jupyter-widgets/controls",
      "model_module_version": "1.5.0",
      "model_name": "DescriptionStyleModel",
      "state": {
       "description_width": "initial"
      }
     },
     "f57e1a11b2644fe0a322c29a1595c5ad": {
      "model_module": "@jupyter-widgets/controls",
      "model_module_version": "1.5.0",
      "model_name": "HTMLModel",
      "state": {
       "layout": "IPY_MODEL_318ffdfbf2104a439fcc1b1e1cf47d53",
       "placeholder": "",
       "style": "IPY_MODEL_a9d7ddcbc25d43f9a7ed33bf38e64f32",
       "value": "<span style=\"color:orange;\">C:\\Users\\dominiquef\\Documents\\GIT\\mira\\geoapps\\assets\\FlinFlon.geoh5</span>"
      }
     },
     "f63e7ff83311446f864de603d2bb3e52": {
      "model_module": "@jupyter-widgets/controls",
      "model_module_version": "1.5.0",
      "model_name": "ButtonStyleModel",
      "state": {}
     },
     "f6557d7dd96c47378aaadb18489edf5b": {
      "model_module": "@jupyter-widgets/controls",
      "model_module_version": "1.5.0",
      "model_name": "DescriptionStyleModel",
      "state": {
       "description_width": "initial"
      }
     },
     "f6a46c3bace14d568f410376705948d1": {
      "model_module": "@jupyter-widgets/base",
      "model_module_version": "1.2.0",
      "model_name": "LayoutModel",
      "state": {}
     },
     "f6b9e040d3a74593992bfaf4cbbe2943": {
      "model_module": "@jupyter-widgets/base",
      "model_module_version": "1.2.0",
      "model_name": "LayoutModel",
      "state": {}
     },
     "f6dd8d4ed30448b2b7d7fc0d8ebb1b8e": {
      "model_module": "@jupyter-widgets/controls",
      "model_module_version": "1.5.0",
      "model_name": "ButtonModel",
      "state": {
       "button_style": "danger",
       "description": "Create",
       "icon": "check",
       "layout": "IPY_MODEL_09adac143c7a4742a81a6fc510a4dae7",
       "style": "IPY_MODEL_bdf73fa080ea4240aedcf94ce1af2551",
       "tooltip": "Run computation"
      }
     },
     "f6ead7c9bcea4cc4a9415971463607bd": {
      "model_module": "@jupyter-widgets/controls",
      "model_module_version": "1.5.0",
      "model_name": "VBoxModel",
      "state": {
       "children": [
        "IPY_MODEL_f405ba4b8fd14cf7b08d99b74b3c8819",
        "IPY_MODEL_9a45ab89b77a48c18fb156e5f4ffda38"
       ],
       "layout": "IPY_MODEL_7acbc250b36944d2951752199557c837"
      }
     },
     "f710447872784ca383f71cb44c8e0031": {
      "model_module": "@jupyter-widgets/controls",
      "model_module_version": "1.5.0",
      "model_name": "DescriptionStyleModel",
      "state": {
       "description_width": "initial"
      }
     },
     "f720c3a666664e29a8eb52ab3fca5046": {
      "model_module": "@jupyter-widgets/controls",
      "model_module_version": "1.5.0",
      "model_name": "DescriptionStyleModel",
      "state": {
       "description_width": "initial"
      }
     },
     "f755dcf49c0542c5babdd0a94f247eb1": {
      "model_module": "@jupyter-widgets/controls",
      "model_module_version": "1.5.0",
      "model_name": "ButtonModel",
      "state": {
       "description": "Change",
       "layout": "IPY_MODEL_2c2da5a417cb422b9f17cb57708947bd",
       "style": "IPY_MODEL_4100015e2b6046e9a3f6acd3fdf43869"
      }
     },
     "f77385b534134fb197b780e2d6276ce5": {
      "model_module": "@jupyter-widgets/controls",
      "model_module_version": "1.5.0",
      "model_name": "DescriptionStyleModel",
      "state": {
       "description_width": "initial"
      }
     },
     "f7897aa7e7034d8492342c0a5a4b39bc": {
      "model_module": "@jupyter-widgets/controls",
      "model_module_version": "1.5.0",
      "model_name": "HTMLModel",
      "state": {
       "layout": "IPY_MODEL_f07ab4cc9f1245158b3c8efa09f2799f",
       "placeholder": "",
       "style": "IPY_MODEL_8ed8c8ae0afc44519a25da1fa3f6210a",
       "value": "<span style=\"color:green;\">C:\\Users\\dominiquef\\Documents\\GIT\\mira\\geoapps\\assets\\Temp\\</span>"
      }
     },
     "f79f7a65fca041d485f195b7a9104055": {
      "model_module": "@jupyter-widgets/controls",
      "model_module_version": "1.5.0",
      "model_name": "FloatTextModel",
      "state": {
       "description": "Horizontal (m)",
       "layout": "IPY_MODEL_4eae5e868aa74ab08fe587065a311b79",
       "step": null,
       "style": "IPY_MODEL_74385521514f48d4b2a1b13bc9eee27c",
       "value": 1000
      }
     },
     "f7b89e8a007e44ac8c1a9af325b336ff": {
      "model_module": "@jupyter-widgets/controls",
      "model_module_version": "1.5.0",
      "model_name": "DropdownModel",
      "state": {
       "_options_labels": [
        "surface",
        "radial"
       ],
       "description": "Type",
       "index": 1,
       "layout": "IPY_MODEL_4960d2db50ef4f6fb4defcdabb245ec8",
       "style": "IPY_MODEL_cc9b7d01cc234ff796bc21667c7321d4"
      }
     },
     "f7c5205d9b394df79dd1ba303a14b13c": {
      "model_module": "@jupyter-widgets/controls",
      "model_module_version": "1.5.0",
      "model_name": "DescriptionStyleModel",
      "state": {
       "description_width": ""
      }
     },
     "f7db5aea631c41018cffb8e1cd1a9f67": {
      "model_module": "@jupyter-widgets/controls",
      "model_module_version": "1.5.0",
      "model_name": "LabelModel",
      "state": {
       "layout": "IPY_MODEL_1d284b25922244f4819c215805998997",
       "style": "IPY_MODEL_f7c5205d9b394df79dd1ba303a14b13c",
       "value": "Refinement a "
      }
     },
     "f7f4c329d10443cfa51f41570222fb79": {
      "model_module": "@jupyter-widgets/controls",
      "model_module_version": "1.5.0",
      "model_name": "VBoxModel",
      "state": {
       "children": [
        "IPY_MODEL_b10a476a3796479b802289a370529740",
        "IPY_MODEL_281d3e522a534ce798f564e3c8aa1ac0",
        "IPY_MODEL_cea0199f7c144a6a8c6a0a98e0876424",
        "IPY_MODEL_c683e1d0d61f49a2ae49512d473ce47d",
        "IPY_MODEL_ebbc8e77c87043e6977af58967193b6b"
       ],
       "layout": "IPY_MODEL_c4d3630ff0154ad69f1929723079a7da"
      }
     },
     "f88dc874b1214b8696e59e0db839ff1b": {
      "model_module": "@jupyter-widgets/base",
      "model_module_version": "1.2.0",
      "model_name": "LayoutModel",
      "state": {
       "grid_area": "filename",
       "width": "auto"
      }
     },
     "f89544dafb5a48d6a06cdb49f6d9d29a": {
      "model_module": "@jupyter-widgets/controls",
      "model_module_version": "1.5.0",
      "model_name": "DescriptionStyleModel",
      "state": {
       "description_width": ""
      }
     },
     "f8b4af17f73c40e681d0ac33d7343bb3": {
      "model_module": "@jupyter-widgets/controls",
      "model_module_version": "1.5.0",
      "model_name": "FloatTextModel",
      "state": {
       "description": "Vertical (m)",
       "layout": "IPY_MODEL_af4136ddbf7e44e197203793ec67dd47",
       "step": null,
       "style": "IPY_MODEL_037055e1c60b4c02be8472f51589a3b4",
       "value": 1000
      }
     },
     "f8ba04ea12e043c682e0a480a20db8b6": {
      "model_module": "@jupyter-widgets/controls",
      "model_module_version": "1.5.0",
      "model_name": "LabelModel",
      "state": {
       "layout": "IPY_MODEL_caaabd86b0634f26a5b16412baf31ec7",
       "style": "IPY_MODEL_caf8c127131844c18104e3d3e9ccd98a",
       "value": "Monitoring folder"
      }
     },
     "f8d12714a6334c448e5f466aad5c9d27": {
      "model_module": "@jupyter-widgets/controls",
      "model_module_version": "1.5.0",
      "model_name": "DescriptionStyleModel",
      "state": {
       "description_width": ""
      }
     },
     "f9279440f9a04256bf82f251d06c273e": {
      "model_module": "@jupyter-widgets/controls",
      "model_module_version": "1.5.0",
      "model_name": "DescriptionStyleModel",
      "state": {
       "description_width": "initial"
      }
     },
     "f99d2e15eaea424592fc571b806e43ee": {
      "model_module": "@jupyter-widgets/base",
      "model_module_version": "1.2.0",
      "model_name": "LayoutModel",
      "state": {}
     },
     "f9c4689f61574e069c14577a0830c376": {
      "model_module": "@jupyter-widgets/controls",
      "model_module_version": "1.5.0",
      "model_name": "FloatTextModel",
      "state": {
       "description": "Horizontal (m)",
       "layout": "IPY_MODEL_2231af3d285c41d682301ebef6f7d507",
       "step": null,
       "style": "IPY_MODEL_fb4304b78ec54bcf88050451af8db6c6",
       "value": 1000
      }
     },
     "f9d013ef904c4804bfc9b309dfe46e5d": {
      "model_module": "@jupyter-widgets/controls",
      "model_module_version": "1.5.0",
      "model_name": "DescriptionStyleModel",
      "state": {
       "description_width": "initial"
      }
     },
     "f9e905bc58b04b16beb77453f0a9d93e": {
      "model_module": "@jupyter-widgets/controls",
      "model_module_version": "1.5.0",
      "model_name": "VBoxModel",
      "state": {
       "children": [
        "IPY_MODEL_6599e83d1b964515ab2b97c7f1e601dc",
        "IPY_MODEL_e1c5621c86a4447e99f214ffe18195c7"
       ],
       "layout": "IPY_MODEL_654e7dfb10b543c2b8c6f3fa16a275c1"
      }
     },
     "fa251cd8e61644b8a2cad23afedea81a": {
      "model_module": "@jupyter-widgets/controls",
      "model_module_version": "1.5.0",
      "model_name": "DescriptionStyleModel",
      "state": {
       "description_width": "initial"
      }
     },
     "fa7e6c87d7c743a89d0b8cb2a9036622": {
      "model_module": "@jupyter-widgets/base",
      "model_module_version": "1.2.0",
      "model_name": "LayoutModel",
      "state": {
       "grid_area": "pathlist",
       "width": "auto"
      }
     },
     "fb4304b78ec54bcf88050451af8db6c6": {
      "model_module": "@jupyter-widgets/controls",
      "model_module_version": "1.5.0",
      "model_name": "DescriptionStyleModel",
      "state": {
       "description_width": "initial"
      }
     },
     "fb589368166c4518867184788c0048ae": {
      "model_module": "@jupyter-widgets/controls",
      "model_module_version": "1.5.0",
      "model_name": "DescriptionStyleModel",
      "state": {
       "description_width": "initial"
      }
     },
     "fba453113c5746c3ab9d142bf08c73aa": {
      "model_module": "@jupyter-widgets/base",
      "model_module_version": "1.2.0",
      "model_name": "LayoutModel",
      "state": {
       "grid_area": "pathlist",
       "width": "auto"
      }
     },
     "fbfe69c494cb4965bce325beb0cd1eca": {
      "model_module": "@jupyter-widgets/controls",
      "model_module_version": "1.5.0",
      "model_name": "ButtonModel",
      "state": {
       "description": "Cancel",
       "layout": "IPY_MODEL_655c2dba0cc742c7aa646ceda35b8128",
       "style": "IPY_MODEL_a81a0f97608549eda465bc121e8fe537"
      }
     },
     "fc21fd705f2b4075aaffd4a81023dc69": {
      "model_module": "@jupyter-widgets/controls",
      "model_module_version": "1.5.0",
      "model_name": "DescriptionStyleModel",
      "state": {
       "description_width": ""
      }
     },
     "fc3453ee633b43d7b87c08cc19c87600": {
      "model_module": "@jupyter-widgets/base",
      "model_module_version": "1.2.0",
      "model_name": "LayoutModel",
      "state": {}
     },
     "fcada985956b4ca0addef82e8308b4c9": {
      "model_module": "@jupyter-widgets/base",
      "model_module_version": "1.2.0",
      "model_name": "LayoutModel",
      "state": {}
     },
     "fd098ca3ba9144359930ddff87264ace": {
      "model_module": "@jupyter-widgets/controls",
      "model_module_version": "1.5.0",
      "model_name": "TextModel",
      "state": {
       "layout": "IPY_MODEL_9abaa2eba37e489e81741c477636d567",
       "placeholder": "output filename",
       "style": "IPY_MODEL_e494ec6ab34a4f0a8ef17bf685fd3045",
       "value": "FlinFlon.geoh5"
      }
     },
     "fd5bf5c2f00b4bf7bbb09df237d8f9d6": {
      "model_module": "@jupyter-widgets/base",
      "model_module_version": "1.2.0",
      "model_name": "LayoutModel",
      "state": {}
     },
     "fda310f98de246b4b1c64cd773ea8b48": {
      "model_module": "@jupyter-widgets/base",
      "model_module_version": "1.2.0",
      "model_name": "LayoutModel",
      "state": {}
     },
     "fe2e9147e0dc46739f1a22b6771a0274": {
      "model_module": "@jupyter-widgets/controls",
      "model_module_version": "1.5.0",
      "model_name": "DescriptionStyleModel",
      "state": {
       "description_width": ""
      }
     },
     "fe53316a5e644c69acf161314797a53e": {
      "model_module": "@jupyter-widgets/controls",
      "model_module_version": "1.5.0",
      "model_name": "ButtonStyleModel",
      "state": {}
     },
     "fe5c6e746d9240a0b56377d685c23a2d": {
      "model_module": "@jupyter-widgets/base",
      "model_module_version": "1.2.0",
      "model_name": "LayoutModel",
      "state": {
       "display": "none",
       "grid_gap": "0px 0px",
       "grid_template_areas": "\n                    'pathlist pathlist'\n                    'dircontent dircontent'\n                    ",
       "grid_template_columns": "60% 40%",
       "grid_template_rows": "auto auto",
       "width": "auto"
      }
     },
     "fe60947853f54bdaa063d9170d712053": {
      "model_module": "@jupyter-widgets/base",
      "model_module_version": "1.2.0",
      "model_name": "LayoutModel",
      "state": {}
     },
     "fe8b74d793824547acb1d74becc45cfd": {
      "model_module": "@jupyter-widgets/controls",
      "model_module_version": "1.5.0",
      "model_name": "DropdownModel",
      "state": {
       "_options_labels": [
        "",
        "Ore/39_Ore_Callinan",
        "Ore/38_Ore_Dan_Owens",
        "Ore/40_Ore_FlinFlon",
        "Workspace/Inversion_VTEM_Model",
        "Workspace/DC_Survey (currents)",
        "Workspace/CDI_VTEM_model",
        "Workspace/Data_FEM_pseudo3D",
        "Workspace/geochem",
        "Workspace/DC_Survey",
        "Workspace/Inversion_DIGHEM_Model",
        "Workspace/Topography",
        "Workspace/Data_TEM_pseudo3D",
        "Workspace/Data_ZTEM",
        "Workspace/Mesh"
       ],
       "description": "Object",
       "index": 7,
       "layout": "IPY_MODEL_b74ee4c6ea494ae09ae9f2644ee5195e",
       "style": "IPY_MODEL_f710447872784ca383f71cb44c8e0031"
      }
     },
     "fea05cdae7c5429cb47a6c44e66b0d8f": {
      "model_module": "@jupyter-widgets/controls",
      "model_module_version": "1.5.0",
      "model_name": "VBoxModel",
      "state": {
       "children": [
        "IPY_MODEL_dbe6f00bdbae4ef994c2190ef0326e64",
        "IPY_MODEL_8ae1c563eae84c1faf6f089911b57f71",
        "IPY_MODEL_e7973867fdc94dceb48a2d2f0d8a1d6d"
       ],
       "layout": "IPY_MODEL_c53c8621d4a341ed8cf27719f07ee371"
      }
     },
     "feed2ffccc2a4f4690fb4a1cba02112d": {
      "model_module": "@jupyter-widgets/controls",
      "model_module_version": "1.5.0",
      "model_name": "DescriptionStyleModel",
      "state": {
       "description_width": ""
      }
     },
     "ff07d59e56934aa3932ac11998c96f1d": {
      "model_module": "@jupyter-widgets/controls",
      "model_module_version": "1.5.0",
      "model_name": "DescriptionStyleModel",
      "state": {
       "description_width": ""
      }
     },
     "ff0ac10240e340929dd97213f76e9a31": {
      "model_module": "@jupyter-widgets/controls",
      "model_module_version": "1.5.0",
      "model_name": "ButtonStyleModel",
      "state": {}
     },
     "ff15235d0973478d9cff4583b23f0a31": {
      "model_module": "@jupyter-widgets/base",
      "model_module_version": "1.2.0",
      "model_name": "LayoutModel",
      "state": {}
     },
     "ff2d92acf3764aacb0a9f23d12bf8542": {
      "model_module": "@jupyter-widgets/controls",
      "model_module_version": "1.5.0",
      "model_name": "DescriptionStyleModel",
      "state": {
       "description_width": "initial"
      }
     },
     "ff41a9bc0aa4481088940ad258c53097": {
      "model_module": "@jupyter-widgets/controls",
      "model_module_version": "1.5.0",
      "model_name": "GridBoxModel",
      "state": {
       "children": [
        "IPY_MODEL_53856b1181ad429eb83857322ec98f3d",
        "IPY_MODEL_30c9e6ec906b4ea08410433aa7214470",
        "IPY_MODEL_cab61c46ddb74580b4ac49d64af958fd"
       ],
       "layout": "IPY_MODEL_530cad20798242af96b35902b23e760e"
      }
     },
     "ff555271fd194db39587943286e6dc44": {
      "model_module": "@jupyter-widgets/controls",
      "model_module_version": "1.5.0",
      "model_name": "DescriptionStyleModel",
      "state": {
       "description_width": "initial"
      }
     },
     "ffcfd51d822146ce8a0e77a2394c309b": {
      "model_module": "@jupyter-widgets/base",
      "model_module_version": "1.2.0",
      "model_name": "LayoutModel",
      "state": {}
     }
    },
    "version_major": 2,
    "version_minor": 0
   }
  }
 },
 "nbformat": 4,
 "nbformat_minor": 5
}

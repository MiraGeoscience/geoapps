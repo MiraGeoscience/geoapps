version https://git-lfs.github.com/spec/v1
oid sha256:99871d8aa9aada288ea2d63eac0b138db1d0bc57dc7d1da0e8d6170394c977bd
size 1058264

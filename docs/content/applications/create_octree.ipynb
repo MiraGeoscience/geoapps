{
 "cells": [
  {
   "cell_type": "markdown",
   "id": "dc4aeb18",
   "metadata": {},
   "source": [
    "# Octree Mesh Creation\n",
    "\n",
    " <img align=\"right\" width=\"400px\" src=\"./images/octree_mesh_creation.png\">\n",
    " \n",
    "This application lets users create `Octree` mesh objects with local refinements using the [SimPEG.discretize](http://discretize.simpeg.xyz/en/main/) package. The refinements can be performed on any number of objects.\n",
    "\n",
    "See the [Methodology](#Methodology) section to learn more about how the algorithm works.\n",
    "\n",
    "New user? Visit the [**Getting Started**](https://geoapps.readthedocs.io/en/latest/content/installation.html) page."
   ]
  },
  {
   "cell_type": "markdown",
   "id": "d7fd644e",
   "metadata": {},
   "source": [
    "## Application\n",
    "The following sections provide details on the different parameters controling the application. Interactive widgets shown below are for demonstration purposes only."
   ]
  },
  {
   "cell_type": "code",
   "execution_count": 1,
   "id": "9e26de89",
   "metadata": {
    "scrolled": false
   },
   "outputs": [
    {
     "data": {
      "application/vnd.jupyter.widget-view+json": {
       "model_id": "f8ee058f8d2c45519a0782dba7132762",
       "version_major": 2,
       "version_minor": 0
      },
      "text/plain": [
       "VBox(children=(VBox(children=(Label(value='Workspace', style=DescriptionStyle(description_width='initial')), H…"
      ]
     },
     "metadata": {},
     "output_type": "display_data"
    }
   ],
   "source": [
    "from geoapps.create.octree_mesh import OctreeMesh\n",
    "\n",
    "app = OctreeMesh(h5file=r\"../../../assets/FlinFlon.geoh5\")\n",
    "app.main"
   ]
  },
  {
   "cell_type": "markdown",
   "id": "4b3a44cf",
   "metadata": {},
   "source": [
    "## Project Selection\n",
    "\n",
    "Select and connect to an existing **geoh5** project file containing objects with vertices. \n",
    "\n",
    "OR \n",
    "\n",
    "Select a `*.ui.json` input file to re-load parameters from. See the [Input ui.json](#Input-ui.json) section for details."
   ]
  },
  {
   "cell_type": "code",
   "execution_count": 2,
   "id": "87303784",
   "metadata": {},
   "outputs": [
    {
     "data": {
      "application/vnd.jupyter.widget-view+json": {
       "model_id": "73418605370246648cc8fae76f6ea162",
       "version_major": 2,
       "version_minor": 0
      },
      "text/plain": [
       "VBox(children=(Label(value='Workspace', style=DescriptionStyle(description_width='initial')), HBox(children=(F…"
      ]
     },
     "metadata": {},
     "output_type": "display_data"
    }
   ],
   "source": [
    "app.project_panel"
   ]
  },
  {
   "cell_type": "markdown",
   "id": "590cb30c",
   "metadata": {},
   "source": [
    "See the [Project Panel](base_application.ipynb#Project-Panel) page for more details."
   ]
  },
  {
   "cell_type": "markdown",
   "id": "9047c969",
   "metadata": {},
   "source": [
    "## Core hull extent\n",
    "\n",
    "List of objects available to define the core region of the mesh. Padding parameters are added beyond the convex hull of the selected object. "
   ]
  },
  {
   "cell_type": "code",
   "execution_count": 3,
   "id": "401728c4",
   "metadata": {},
   "outputs": [
    {
     "data": {
      "application/vnd.jupyter.widget-view+json": {
       "model_id": "7dd56eaa450d4e3b80976db09b269391",
       "version_major": 2,
       "version_minor": 0
      },
      "text/plain": [
       "Dropdown(description='Core hull extent:', options=(['', None], ['fault_splay1', UUID('0febc8ad-25a4-457b-a403-…"
      ]
     },
     "metadata": {},
     "output_type": "display_data"
    }
   ],
   "source": [
    "app.objects"
   ]
  },
  {
   "cell_type": "markdown",
   "id": "9f694f6f",
   "metadata": {},
   "source": [
    "## Mesh Parameters\n",
    "\n",
    " <img align=\"right\" width=\"40%\" src=\"./images/Octree_core_depth.png\">\n",
    " \n",
    "### Minimum depth\n",
    "\n",
    "Minimum thickness of the mesh below the [core hull extent](#Core-hull-extent). See the [Methodology](#Methodology) section for details."
   ]
  },
  {
   "cell_type": "code",
   "execution_count": 4,
   "id": "fbb3c3b4",
   "metadata": {},
   "outputs": [
    {
     "data": {
      "application/vnd.jupyter.widget-view+json": {
       "model_id": "481f98cb4fe24bf4acc644ed6bd10e1d",
       "version_major": 2,
       "version_minor": 0
      },
      "text/plain": [
       "FloatText(value=500.0, description='Minimum depth (m)', style=DescriptionStyle(description_width='initial'))"
      ]
     },
     "metadata": {},
     "output_type": "display_data"
    }
   ],
   "source": [
    "app.depth_core"
   ]
  },
  {
   "cell_type": "markdown",
   "id": "1b9deadc",
   "metadata": {},
   "source": [
    "### Core cell sizes\n",
    "\n",
    "#### Easting\n",
    "\n",
    "Minimum cell size (m) along the x-axis\n"
   ]
  },
  {
   "cell_type": "code",
   "execution_count": 5,
   "id": "e3370941",
   "metadata": {},
   "outputs": [
    {
     "data": {
      "application/vnd.jupyter.widget-view+json": {
       "model_id": "814eeae0e2654bc7b6693cffc9ec72ff",
       "version_major": 2,
       "version_minor": 0
      },
      "text/plain": [
       "FloatText(value=25.0, description='Easting', style=DescriptionStyle(description_width='initial'))"
      ]
     },
     "metadata": {},
     "output_type": "display_data"
    }
   ],
   "source": [
    "app.u_cell_size"
   ]
  },
  {
   "cell_type": "markdown",
   "id": "fe4af932",
   "metadata": {},
   "source": [
    "#### Northing\n",
    "\n",
    "Minimum cell dimension (m) along the y-axis"
   ]
  },
  {
   "cell_type": "code",
   "execution_count": 6,
   "id": "fa594eaf",
   "metadata": {},
   "outputs": [
    {
     "data": {
      "application/vnd.jupyter.widget-view+json": {
       "model_id": "a9b181f50d6542a0981f3c2bb4ae89d7",
       "version_major": 2,
       "version_minor": 0
      },
      "text/plain": [
       "FloatText(value=25.0, description='Northing', style=DescriptionStyle(description_width='initial'))"
      ]
     },
     "metadata": {},
     "output_type": "display_data"
    }
   ],
   "source": [
    "app.v_cell_size"
   ]
  },
  {
   "cell_type": "markdown",
   "id": "a89ff302",
   "metadata": {},
   "source": [
    "#### Vertical\n",
    "\n",
    "Minimum cell dimension (m) along the z-axis"
   ]
  },
  {
   "cell_type": "code",
   "execution_count": 7,
   "id": "19bb9da7",
   "metadata": {},
   "outputs": [
    {
     "data": {
      "application/vnd.jupyter.widget-view+json": {
       "model_id": "3f29888f9b1f4fdb8f43c96d49a2d652",
       "version_major": 2,
       "version_minor": 0
      },
      "text/plain": [
       "FloatText(value=25.0, description='Vertical', style=DescriptionStyle(description_width='initial'))"
      ]
     },
     "metadata": {},
     "output_type": "display_data"
    }
   ],
   "source": [
    "app.w_cell_size"
   ]
  },
  {
   "cell_type": "markdown",
   "id": "f862f0c7",
   "metadata": {},
   "source": [
    "### Padding distances\n",
    "\n",
    "Minimum padding distance (m) requested around the core region. \n",
    "\n",
    "\n",
    "#### Horizontal\n",
    "\n",
    "Padding distance added around the core region on the XY-plane."
   ]
  },
  {
   "cell_type": "code",
   "execution_count": 8,
   "id": "4078142c",
   "metadata": {},
   "outputs": [
    {
     "data": {
      "application/vnd.jupyter.widget-view+json": {
       "model_id": "26c35f7fb41a47669c2584975dca0fb5",
       "version_major": 2,
       "version_minor": 0
      },
      "text/plain": [
       "FloatText(value=1000.0, description='Horizontal (m)', style=DescriptionStyle(description_width='initial'))"
      ]
     },
     "metadata": {},
     "output_type": "display_data"
    }
   ],
   "source": [
    "app.horizontal_padding"
   ]
  },
  {
   "cell_type": "markdown",
   "id": "7192250c",
   "metadata": {},
   "source": [
    "#### Vertical\n",
    "\n",
    "Padding distance added above and below the core region."
   ]
  },
  {
   "cell_type": "code",
   "execution_count": 9,
   "id": "86455bf1",
   "metadata": {},
   "outputs": [
    {
     "data": {
      "application/vnd.jupyter.widget-view+json": {
       "model_id": "fa6003651f374e039e3b900189ac4d88",
       "version_major": 2,
       "version_minor": 0
      },
      "text/plain": [
       "FloatText(value=1000.0, description='Vertical (m)', style=DescriptionStyle(description_width='initial'))"
      ]
     },
     "metadata": {},
     "output_type": "display_data"
    }
   ],
   "source": [
    "app.vertical_padding\n"
   ]
  },
  {
   "cell_type": "markdown",
   "id": "69ee7d6e",
   "metadata": {},
   "source": [
    "## Refinements\n",
    "\n",
    "Blocks of refinement parameters controling where small cells are required. Overlapping regions of refinement will default to the smaller cell size. Cells outside of the regions of refinement are allowed to increase in size (double) as quickly as possible to fill the remaining volume.\n",
    "\n",
    "**Note**: The application defaults to two blocks of refinement, labeled as A and B. [See notes below](#Input-ui.json) to learn how to add more blocks of refinement."
   ]
  },
  {
   "cell_type": "code",
   "execution_count": 10,
   "id": "d026014c",
   "metadata": {},
   "outputs": [
    {
     "data": {
      "application/vnd.jupyter.widget-view+json": {
       "model_id": "dc0ac654c0bd4fd98ec0e15d485c6e1b",
       "version_major": 2,
       "version_minor": 0
      },
      "text/plain": [
       "VBox(children=(Label(value='Refinement A'), Dropdown(description='Object', index=68, options=(['', None], ['fa…"
      ]
     },
     "metadata": {},
     "output_type": "display_data"
    }
   ],
   "source": [
    "app.refinement_list[0]\n"
   ]
  },
  {
   "cell_type": "markdown",
   "id": "ff562da5",
   "metadata": {},
   "source": [
    "### Object\n",
    "\n",
    "Reference object with 3D coordinates (`vertices` or `centroids`) used to refine the octree mesh. "
   ]
  },
  {
   "cell_type": "code",
   "execution_count": 11,
   "id": "7907a96a",
   "metadata": {},
   "outputs": [
    {
     "data": {
      "application/vnd.jupyter.widget-view+json": {
       "model_id": "7ecfcac269794a2d916cce9ad799c64f",
       "version_major": 2,
       "version_minor": 0
      },
      "text/plain": [
       "Dropdown(description='Object', index=68, options=(['', None], ['fault_splay1', UUID('0febc8ad-25a4-457b-a403-e…"
      ]
     },
     "metadata": {},
     "output_type": "display_data"
    }
   ],
   "source": [
    "app.refinement_list[0].children[1]"
   ]
  },
  {
   "cell_type": "markdown",
   "id": "5dffda33",
   "metadata": {},
   "source": [
    "### Levels\n",
    "\n",
    "List of integers defining the minimum number of cells at each octree level [$N_{level 1}$, $N_{level 2}$, $N_{level 3}$, ...]. [See examples below](#Radial)"
   ]
  },
  {
   "cell_type": "code",
   "execution_count": 12,
   "id": "0910d382",
   "metadata": {},
   "outputs": [
    {
     "data": {
      "application/vnd.jupyter.widget-view+json": {
       "model_id": "61adb45921854db6846542690f844b2b",
       "version_major": 2,
       "version_minor": 0
      },
      "text/plain": [
       "Text(value='4,4,4', description='Levels', style=DescriptionStyle(description_width='initial'))"
      ]
     },
     "metadata": {},
     "output_type": "display_data"
    }
   ],
   "source": [
    "app.refinement_list[0].children[2]"
   ]
  },
  {
   "cell_type": "markdown",
   "id": "31605751",
   "metadata": {},
   "source": [
    "### Type\n",
    "\n",
    "The type of refinement to be performed on the selected object vertices and number of cells per octree level."
   ]
  },
  {
   "cell_type": "code",
   "execution_count": 13,
   "id": "a275e459",
   "metadata": {},
   "outputs": [
    {
     "data": {
      "application/vnd.jupyter.widget-view+json": {
       "model_id": "afc749cdf8fc4f14989eac61ff13df0a",
       "version_major": 2,
       "version_minor": 0
      },
      "text/plain": [
       "Dropdown(description='Type', index=1, options=('surface', 'radial'), style=DescriptionStyle(description_width=…"
      ]
     },
     "metadata": {},
     "output_type": "display_data"
    }
   ],
   "source": [
    "app.refinement_list[0].children[3]"
   ]
  },
  {
   "cell_type": "markdown",
   "id": "ba86595c",
   "metadata": {},
   "source": [
    "#### Radial\n",
    "\n",
    "Octree cells specified at each [Level](#Levels) are added as concentric shells around the selected `Object` `vertices`.\n",
    "\n",
    " <img align=\"center\" width=\"75%\" src=\"./images/Octree_radial.png\">\n",
    " \n",
    " \n",
    "#### Surface\n",
    "\n",
    "Octree cells specified at each [Level](#Levels) are added at depth as layers of cells. The layers of cells are defined by a 2D Delaunay triangulation based on the `Object` `vertices`. The [maximum distance](#Max-distance) parameter can be use to limit the horizontal extent of the refinement. \n",
    "\n",
    " <img align=\"center\" width=\"75%\" src=\"./images/Octree_surface.png\">"
   ]
  },
  {
   "cell_type": "markdown",
   "id": "8843d94f",
   "metadata": {},
   "source": [
    "### Max distance\n",
    "\n",
    "Maximum refinement distance away from the input vertices. Cell sizes are allowed to increase quickly beyond this distance. \n",
    "\n",
    "**Note**: This parameter is useful to avoid a fine refinement occuring between remote vertices as shown above."
   ]
  },
  {
   "cell_type": "code",
   "execution_count": 14,
   "id": "9a714088",
   "metadata": {},
   "outputs": [
    {
     "data": {
      "application/vnd.jupyter.widget-view+json": {
       "model_id": "ba37a905aba04096a7beb8e59c303c58",
       "version_major": 2,
       "version_minor": 0
      },
      "text/plain": [
       "FloatText(value=1000.0, description='Max Distance', style=DescriptionStyle(description_width='initial'))"
      ]
     },
     "metadata": {},
     "output_type": "display_data"
    }
   ],
   "source": [
    "app.refinement_list[0].children[4]"
   ]
  },
  {
   "cell_type": "markdown",
   "id": "8dd8706f",
   "metadata": {},
   "source": [
    "## Output panel\n",
    "\n",
    "Octree mesh created and exported directly to the target workspace by clicking on the export button. This can yield two possible outcomes:\n",
    "\n",
    "- If no object is present with the given name, a new Octree object is created.\n",
    "- If an octree object is found with the same name, the mesh parameters are changed in place. This allows users to quickly experiment with different mesh parameters without having to delete previous trials."
   ]
  },
  {
   "cell_type": "code",
   "execution_count": 15,
   "id": "e9e13777",
   "metadata": {},
   "outputs": [
    {
     "data": {
      "application/vnd.jupyter.widget-view+json": {
       "model_id": "6d22e636dd344b07ae5cd4c4697d2d17",
       "version_major": 2,
       "version_minor": 0
      },
      "text/plain": [
       "VBox(children=(VBox(children=(Button(button_style='danger', description='Create', icon='check', style=ButtonSt…"
      ]
     },
     "metadata": {},
     "output_type": "display_data"
    }
   ],
   "source": [
    "app.output_panel"
   ]
  },
  {
   "cell_type": "markdown",
   "id": "2db353d2",
   "metadata": {},
   "source": [
    "### (Optional) GA Pro - Live link\n",
    "See [Output Panel](base_application.ipynb#Output-Panel) base applications."
   ]
  },
  {
   "cell_type": "code",
   "execution_count": 16,
   "id": "bd0114f9",
   "metadata": {
    "nbsphinx": "hidden"
   },
   "outputs": [],
   "source": [
    "import os\n",
    "app._working_directory = os.getcwd()\n",
    "out = app.save_json_params(app.ga_group_name.value, app.default_ui.copy())"
   ]
  },
  {
   "cell_type": "markdown",
   "id": "9a508a3c",
   "metadata": {},
   "source": [
    "## Methodology\n",
    "\n",
    "This section provides algorithmic details about the mesh creation. The entire process can be broken down into three main parts:\n",
    "\n",
    "### Step 1- Mesh creation\n",
    "\n",
    " <img align=\"right\" width=\"50%\" src=\"./images/Octree_padding_distance.png\">\n",
    " \n",
    "\n",
    "The first stage relies on the [discretize.utils.mesh_builder_xyz](http://discretize.simpeg.xyz/en/main/api/generated/discretize.utils.mesh_builder_xyz.html?highlight=xyz#discretize-utils-mesh-builder-xyz)\n",
    "method to define the outer limits of the mesh. The horizontal and vertical extent are computed based on the selected entity [Core Hull Extent](#Core-hull-extent), [padding distances](#Padding-distances) and [Minimum Depth](#Minimum-depth) (vertical only). Limits are rounded up such that the number of core cells along each dimension is in power of 2 (i.e. 64, 128, ...), as required for octree discretization.\n",
    "\n",
    "The example below demonstrates this process with the default parameters:\n",
    "\n",
    "**Horizontal extent (East-West):**\n",
    "   \n",
    "    Input: 5600 m (hull) + 2*1000 m (pad) = 7600 m \n",
    "\n",
    "    Round: 7600 m / 25 m/cell = 304 cells -> 512 cells\n",
    "\n",
    "    Final: 512 cells * 25 m/cell = 12800 m\n",
    "\n",
    "\n",
    "**Vertical extent:**\n",
    "\n",
    "    Input: 46 m (hull) + 2*1000 m (pad) + 500 (core) m = 2546 m \n",
    "\n",
    "    Round: 2546 m / 25 m/cell = 102 cells -> 128 cells\n",
    "\n",
    "    Final: 128 cells * 25 m/cell = 3,200 m\n",
    "\n",
    " \n",
    "### Step 2- Refinements \n",
    "\n",
    "Once the extent of the mesh has been defined, the program can proceed with the [Refinements](#Refinements) prescribed by the user. The routine makes use of the [discretize.utils.refine_tree_xyz](http://discretize.simpeg.xyz/en/main/api/generated/discretize.utils.refine_tree_xyz.html#discretize-utils-refine-tree-xyz) utility function. The order of refinements is not important as only the smallest cell octree found at a given position is used. \n",
    "\n",
    "### Step 3 - Finalization\n",
    "\n",
    "Once all the refinements have been added, the [TreeMesh.finalize()](http://discretize.simpeg.xyz/en/main/api/generated/discretize.TreeMesh.html?highlight=finalize#discretize.TreeMesh.finalize) routine is called for the final construction of the mesh. Cells in regions outside of the refinements are allowed to expand as quickly as possible. Et voila!\n"
   ]
  },
  {
   "cell_type": "markdown",
   "id": "08842649",
   "metadata": {},
   "source": [
    "## Input ui.json \n",
    "\n",
    "This application relies on a [structured json](./Octree_Mesh.ui.json) file to store and run the program.\n",
    "\n",
    "The same input `ui.json` file can be used to run the program from command line:\n",
    "\n",
    "```\n",
    "activate geoapps\n",
    "python -m geoapps.create.octree_mesh input.ui.json\n",
    "```\n",
    "\n",
    "or directly from [Geoscience ANALYST Pro](#Geoscience-ANALYST-Pro) v3.3.1 or higher.\n",
    "The `ui.json` can also be used to re-load the parameters from a previous run by selecting the `ui.json` file from the [Project Selection](#Project-Selection) widget, instead of a `geoh5` file. \n",
    "\n",
    "### Notes \n",
    "\n",
    " <img align=\"right\" width=\"50%\" src=\"./images/refinement_block.png\">\n",
    " \n",
    "- Additional refinements can be performed by adding new blocks of parameters to the default [input ui.json file](./Octree_Mesh.ui.json):\n",
    "    - For each additional refinement blocks, a unique name must be provided (C, D, etc) \n",
    "    - Each block must include all [refinement parameters](#Refinements).\n",
    "    - Changes made will be displayed after re-loading the ui.json from the [Project Selection](#Project-Selection) panel. \n",
    "\n",
    "\n",
    " \n",
    "\n"
   ]
  },
  {
   "cell_type": "markdown",
   "id": "45628d97",
   "metadata": {},
   "source": [
    "### Geoscience ANALYST Pro v3.3.1\n",
    "\n",
    "Users with an active Geoscience ANALYST Pro license (v3.3.1) can excecute this application directly from an active session with a drag & drop of a `*.ui.json`file to the `Viewport`. \n",
    "\n",
    "![GAPro_Octree](images/GA_pro_octree.gif \"ga_pro\")"
   ]
  },
  {
   "cell_type": "markdown",
   "id": "a472ce3f",
   "metadata": {},
   "source": [
    "Need help? Contact us at support@mirageoscience.com"
   ]
  }
 ],
 "metadata": {
  "kernelspec": {
   "display_name": "Python 3",
   "language": "python",
   "name": "python3"
  },
  "language_info": {
   "codemirror_mode": {
    "name": "ipython",
    "version": 3
   },
   "file_extension": ".py",
   "mimetype": "text/x-python",
   "name": "python",
   "nbconvert_exporter": "python",
   "pygments_lexer": "ipython3",
   "version": "3.9.4"
  },
  "widgets": {
   "application/vnd.jupyter.widget-state+json": {
    "state": {
     "00986698b04f4cc5a675d1f3a33511ba": {
      "model_module": "@jupyter-widgets/controls",
      "model_module_version": "1.5.0",
      "model_name": "DescriptionStyleModel",
      "state": {
       "description_width": ""
      }
     },
     "06b2cb2264ce49c89ea119a2943022a6": {
      "model_module": "@jupyter-widgets/controls",
      "model_module_version": "1.5.0",
      "model_name": "DropdownModel",
      "state": {
       "_options_labels": [
        "C:\\Users\\dominiquef\\Documents\\GIT\\mira\\geoapps\\docs\\assets",
        "C:\\Users\\dominiquef\\Documents\\GIT\\mira\\geoapps\\docs",
        "C:\\Users\\dominiquef\\Documents\\GIT\\mira\\geoapps",
        "C:\\Users\\dominiquef\\Documents\\GIT\\mira",
        "C:\\Users\\dominiquef\\Documents\\GIT",
        "C:\\Users\\dominiquef\\Documents",
        "C:\\Users\\dominiquef",
        "C:\\Users",
        "C:\\",
        "D:\\",
        "Z:\\"
       ],
       "index": 0,
       "layout": "IPY_MODEL_664ad134c3874addb87cd5187dd48bc5",
       "style": "IPY_MODEL_0e5313b7a7534cac937850e74f773fea"
      }
     },
     "079f6f69306241468f04aad89b352f77": {
      "model_module": "@jupyter-widgets/base",
      "model_module_version": "1.2.0",
      "model_name": "LayoutModel",
      "state": {}
     },
     "0a6363c011d04c69a0b43f3cd587f936": {
      "model_module": "@jupyter-widgets/base",
      "model_module_version": "1.2.0",
      "model_name": "LayoutModel",
      "state": {}
     },
     "0b85a723a7344ef1b649a37084e87a43": {
      "model_module": "@jupyter-widgets/controls",
      "model_module_version": "1.5.0",
      "model_name": "DropdownModel",
      "state": {
       "_options_labels": [
        "surface",
        "radial"
       ],
       "description": "Type",
       "index": 0,
       "layout": "IPY_MODEL_d0e7a13ae27748718204f9e5c1130309",
       "style": "IPY_MODEL_eb08a895f51349658239e16170c67374"
      }
     },
     "0b8cf06a10014088acba9570767ca943": {
      "model_module": "@jupyter-widgets/controls",
      "model_module_version": "1.5.0",
      "model_name": "DescriptionStyleModel",
      "state": {
       "description_width": ""
      }
     },
     "0e5313b7a7534cac937850e74f773fea": {
      "model_module": "@jupyter-widgets/controls",
      "model_module_version": "1.5.0",
      "model_name": "DescriptionStyleModel",
      "state": {
       "description_width": ""
      }
     },
     "0ec62913ba8a44f2b73da5389dcd59ee": {
      "model_module": "@jupyter-widgets/controls",
      "model_module_version": "1.5.0",
      "model_name": "LabelModel",
      "state": {
       "layout": "IPY_MODEL_878c4bc79cf14416a18ccc814e975dca",
       "style": "IPY_MODEL_f3cbed4a40804cb682d228dca8507ee5",
       "value": "Workspace"
      }
     },
     "0fe9ebc1c23b40ee820d3b9dcb76c5c6": {
      "model_module": "@jupyter-widgets/controls",
      "model_module_version": "1.5.0",
      "model_name": "ButtonModel",
      "state": {
       "description": "Cancel",
       "layout": "IPY_MODEL_8cde6404b88f4b21a103758d038e17fc",
       "style": "IPY_MODEL_44209171cfb443d7ba5e3b300202db36"
      }
     },
     "11b951ecba854f9eae75a29d43cf092f": {
      "model_module": "@jupyter-widgets/base",
      "model_module_version": "1.2.0",
      "model_name": "LayoutModel",
      "state": {}
     },
     "11df16c272e749d98795d0ac4663878e": {
      "model_module": "@jupyter-widgets/controls",
      "model_module_version": "1.5.0",
      "model_name": "DescriptionStyleModel",
      "state": {
       "description_width": "initial"
      }
     },
     "12c28ced11174799b04d0d9f80cc9636": {
      "model_module": "@jupyter-widgets/controls",
      "model_module_version": "1.5.0",
      "model_name": "DropdownModel",
      "state": {
       "description": "Data: ",
       "index": null,
       "layout": "IPY_MODEL_651856f20eb349a388fd2fd9e3d37ff3",
       "style": "IPY_MODEL_1c12e0d208e64d84acd3e67dd1e011aa"
      }
     },
     "130cc0d7b03645ba8a6a9d0a1f403d6a": {
      "model_module": "@jupyter-widgets/base",
      "model_module_version": "1.2.0",
      "model_name": "LayoutModel",
      "state": {}
     },
     "1355846fb11e46b8b0a45e699fa53989": {
      "model_module": "@jupyter-widgets/base",
      "model_module_version": "1.2.0",
      "model_name": "LayoutModel",
      "state": {
       "display": "none"
      }
     },
     "139441ba67aa47e0a479321e11c05404": {
      "model_module": "@jupyter-widgets/base",
      "model_module_version": "1.2.0",
      "model_name": "LayoutModel",
      "state": {}
     },
     "14f98bec2b1a46b9b1bd4c8de6cda635": {
      "model_module": "@jupyter-widgets/base",
      "model_module_version": "1.2.0",
      "model_name": "LayoutModel",
      "state": {}
     },
     "170836c6c6e0483fbe0e974c5de19933": {
      "model_module": "@jupyter-widgets/controls",
      "model_module_version": "1.5.0",
      "model_name": "LabelModel",
      "state": {
       "layout": "IPY_MODEL_9a1a1c5029b04f4aa6f31b2f8c48bee7",
       "style": "IPY_MODEL_ac66fdd12eaf4b89b7aa2da445c8d3d3",
       "value": "Padding distance"
      }
     },
     "1bb057e54ca848bbb67a45858ea968a0": {
      "model_module": "@jupyter-widgets/base",
      "model_module_version": "1.2.0",
      "model_name": "LayoutModel",
      "state": {}
     },
     "1c12e0d208e64d84acd3e67dd1e011aa": {
      "model_module": "@jupyter-widgets/controls",
      "model_module_version": "1.5.0",
      "model_name": "DescriptionStyleModel",
      "state": {
       "description_width": "initial"
      }
     },
     "1c59477dc63945a7a8685dad4212f605": {
      "model_module": "@jupyter-widgets/base",
      "model_module_version": "1.2.0",
      "model_name": "LayoutModel",
      "state": {}
     },
     "1c5ee5ba9b934b52a3d7413191a54e16": {
      "model_module": "@jupyter-widgets/controls",
      "model_module_version": "1.5.0",
      "model_name": "DescriptionStyleModel",
      "state": {
       "description_width": ""
      }
     },
     "1c7fe875ba5b46cb8a46a2d4ce796b27": {
      "model_module": "@jupyter-widgets/base",
      "model_module_version": "1.2.0",
      "model_name": "LayoutModel",
      "state": {}
     },
     "1e6ffd80d22849c5875865657ff71e5d": {
      "model_module": "@jupyter-widgets/controls",
      "model_module_version": "1.5.0",
      "model_name": "DescriptionStyleModel",
      "state": {
       "description_width": ""
      }
     },
     "1e8d8ad10363464eb043bf6347491265": {
      "model_module": "@jupyter-widgets/base",
      "model_module_version": "1.2.0",
      "model_name": "LayoutModel",
      "state": {}
     },
     "1eb486897f1b4ad1866f2c16bf07dacd": {
      "model_module": "@jupyter-widgets/controls",
      "model_module_version": "1.5.0",
      "model_name": "DescriptionStyleModel",
      "state": {
       "description_width": "initial"
      }
     },
     "1eea674fa9484805a3659e49a7a59b62": {
      "model_module": "@jupyter-widgets/base",
      "model_module_version": "1.2.0",
      "model_name": "LayoutModel",
      "state": {}
     },
     "1fa2db58cf074821bbe5e67efb928d2c": {
      "model_module": "@jupyter-widgets/controls",
      "model_module_version": "1.5.0",
      "model_name": "ButtonModel",
      "state": {
       "description": "Cancel",
       "layout": "IPY_MODEL_7d1de7fe9fed4c6698028411a6578411",
       "style": "IPY_MODEL_ecfe660ce5024a06a0a81c690591b156"
      }
     },
     "20991f2bd217456684311960169c41bd": {
      "model_module": "@jupyter-widgets/base",
      "model_module_version": "1.2.0",
      "model_name": "LayoutModel",
      "state": {}
     },
     "22054754f7974885b78922dd0492a4a1": {
      "model_module": "@jupyter-widgets/base",
      "model_module_version": "1.2.0",
      "model_name": "LayoutModel",
      "state": {
       "width": "auto"
      }
     },
     "22223d47399e43f0b34c39d6cab296c0": {
      "model_module": "@jupyter-widgets/controls",
      "model_module_version": "1.5.0",
      "model_name": "ButtonStyleModel",
      "state": {}
     },
     "22cead5eed5c48848279b97c1df06c6a": {
      "model_module": "@jupyter-widgets/controls",
      "model_module_version": "1.5.0",
      "model_name": "DescriptionStyleModel",
      "state": {
       "description_width": ""
      }
     },
     "235e0276f100499f86c0ea4081499ff2": {
      "model_module": "@jupyter-widgets/controls",
      "model_module_version": "1.5.0",
      "model_name": "DescriptionStyleModel",
      "state": {
       "description_width": ""
      }
     },
     "23a51d52b0004207826a8f080b0799bf": {
      "model_module": "@jupyter-widgets/controls",
      "model_module_version": "1.5.0",
      "model_name": "VBoxModel",
      "state": {
       "children": [
        "IPY_MODEL_3472ac4e22f445b88d0dd936a6fa5248"
       ],
       "layout": "IPY_MODEL_508ef925687542f8a4cdddd30b777093"
      }
     },
     "24bad82b2bff425f880b1943799a2056": {
      "model_module": "@jupyter-widgets/controls",
      "model_module_version": "1.5.0",
      "model_name": "TextModel",
      "state": {
       "disabled": true,
       "layout": "IPY_MODEL_7281911074a14ecc88769dc128cd6949",
       "placeholder": "output filename",
       "style": "IPY_MODEL_ceef5a0e2f094467b48a32c974bc5930"
      }
     },
     "26c35f7fb41a47669c2584975dca0fb5": {
      "model_module": "@jupyter-widgets/controls",
      "model_module_version": "1.5.0",
      "model_name": "FloatTextModel",
      "state": {
       "description": "Horizontal (m)",
       "layout": "IPY_MODEL_1bb057e54ca848bbb67a45858ea968a0",
       "step": null,
       "style": "IPY_MODEL_da1ec0767d9645b289ace85218d1a8fa",
       "value": 1000
      }
     },
     "28282e2ffc0d46a2ba68cbabda2659f7": {
      "model_module": "@jupyter-widgets/base",
      "model_module_version": "1.2.0",
      "model_name": "LayoutModel",
      "state": {}
     },
     "2a6dbd90f4534db3ae8798473b698e68": {
      "model_module": "@jupyter-widgets/base",
      "model_module_version": "1.2.0",
      "model_name": "LayoutModel",
      "state": {}
     },
     "2ba1d37178624162b17a5d3082a10318": {
      "model_module": "@jupyter-widgets/controls",
      "model_module_version": "1.5.0",
      "model_name": "DescriptionStyleModel",
      "state": {
       "description_width": ""
      }
     },
     "2bb761caeb8e4d6ba59c131a4e117f11": {
      "model_module": "@jupyter-widgets/controls",
      "model_module_version": "1.5.0",
      "model_name": "ToggleButtonModel",
      "state": {
       "layout": "IPY_MODEL_0a6363c011d04c69a0b43f3cd587f936",
       "style": "IPY_MODEL_dff1fa45248b4d42bf0ee635f9a5e4ef",
       "value": true
      }
     },
     "32d4c92560874a16ae2839050856d466": {
      "model_module": "@jupyter-widgets/controls",
      "model_module_version": "1.5.0",
      "model_name": "VBoxModel",
      "state": {
       "children": [
        "IPY_MODEL_7dd56eaa450d4e3b80976db09b269391",
        "IPY_MODEL_12c28ced11174799b04d0d9f80cc9636"
       ],
       "layout": "IPY_MODEL_cf0cb92304324911816c9f36df826ee0"
      }
     },
     "33927ad6e069454086fd8fdecf8f264f": {
      "model_module": "@jupyter-widgets/base",
      "model_module_version": "1.2.0",
      "model_name": "LayoutModel",
      "state": {}
     },
     "3472ac4e22f445b88d0dd936a6fa5248": {
      "model_module": "@jupyter-widgets/controls",
      "model_module_version": "1.5.0",
      "model_name": "CheckboxModel",
      "state": {
       "description": "GA Pro - Live link",
       "disabled": false,
       "indent": false,
       "layout": "IPY_MODEL_ec0ef8c466a746febec1399066ac30c0",
       "style": "IPY_MODEL_35551e943da343339bf5f15ca4d65c7d",
       "value": false
      }
     },
     "35551e943da343339bf5f15ca4d65c7d": {
      "model_module": "@jupyter-widgets/controls",
      "model_module_version": "1.5.0",
      "model_name": "DescriptionStyleModel",
      "state": {
       "description_width": "initial"
      }
     },
     "377c925abeac4697a2e7f6d3009798df": {
      "model_module": "@jupyter-widgets/base",
      "model_module_version": "1.2.0",
      "model_name": "LayoutModel",
      "state": {}
     },
     "3847f52335514637a99c069ba2f6916b": {
      "model_module": "@jupyter-widgets/base",
      "model_module_version": "1.2.0",
      "model_name": "LayoutModel",
      "state": {
       "border": "solid"
      }
     },
     "3af6fd71631e47d395e5e539cfbd917c": {
      "model_module": "@jupyter-widgets/base",
      "model_module_version": "1.2.0",
      "model_name": "LayoutModel",
      "state": {
       "display": "none",
       "grid_gap": "0px 0px",
       "grid_template_areas": "\n                    'pathlist pathlist'\n                    'dircontent dircontent'\n                    ",
       "grid_template_columns": "60% 40%",
       "grid_template_rows": "auto auto",
       "width": "500px"
      }
     },
     "3b45326d2f1649d79b7891872e2a72b4": {
      "model_module": "@jupyter-widgets/base",
      "model_module_version": "1.2.0",
      "model_name": "LayoutModel",
      "state": {
       "border": "solid"
      }
     },
     "3baebd805c864357ba19cfec7d9651cc": {
      "model_module": "@jupyter-widgets/controls",
      "model_module_version": "1.5.0",
      "model_name": "ButtonStyleModel",
      "state": {}
     },
     "3ece6bcf28d94bd5aafbb0bf47775c5b": {
      "model_module": "@jupyter-widgets/controls",
      "model_module_version": "1.5.0",
      "model_name": "DescriptionStyleModel",
      "state": {
       "description_width": "initial"
      }
     },
     "3f29888f9b1f4fdb8f43c96d49a2d652": {
      "model_module": "@jupyter-widgets/controls",
      "model_module_version": "1.5.0",
      "model_name": "FloatTextModel",
      "state": {
       "description": "Vertical",
       "layout": "IPY_MODEL_14f98bec2b1a46b9b1bd4c8de6cda635",
       "step": null,
       "style": "IPY_MODEL_f9a8f80052d841f1b5840fa8b2589814",
       "value": 25
      }
     },
     "44209171cfb443d7ba5e3b300202db36": {
      "model_module": "@jupyter-widgets/controls",
      "model_module_version": "1.5.0",
      "model_name": "ButtonStyleModel",
      "state": {}
     },
     "45f67449e6c14e0b8c818b8b08e9f7f0": {
      "model_module": "@jupyter-widgets/controls",
      "model_module_version": "1.5.0",
      "model_name": "DescriptionStyleModel",
      "state": {
       "description_width": ""
      }
     },
     "4772911cbf644b9dba519263f4ddb189": {
      "model_module": "@jupyter-widgets/base",
      "model_module_version": "1.2.0",
      "model_name": "LayoutModel",
      "state": {
       "grid_area": "dircontent",
       "width": "auto"
      }
     },
     "481f98cb4fe24bf4acc644ed6bd10e1d": {
      "model_module": "@jupyter-widgets/controls",
      "model_module_version": "1.5.0",
      "model_name": "FloatTextModel",
      "state": {
       "description": "Minimum depth (m)",
       "layout": "IPY_MODEL_377c925abeac4697a2e7f6d3009798df",
       "step": null,
       "style": "IPY_MODEL_54a3ff709258484facc5f02b39704d50",
       "value": 500
      }
     },
     "4a2467c7be1a4f0c9544a2c0e0e026af": {
      "model_module": "@jupyter-widgets/controls",
      "model_module_version": "1.5.0",
      "model_name": "DescriptionStyleModel",
      "state": {
       "description_width": ""
      }
     },
     "4c486f77ddff4477bfda22c35e48b283": {
      "model_module": "@jupyter-widgets/controls",
      "model_module_version": "1.5.0",
      "model_name": "HTMLModel",
      "state": {
       "layout": "IPY_MODEL_ae8a7dbd2601413baa60de40065029d2",
       "placeholder": "",
       "style": "IPY_MODEL_5794a6e08d8048a5b1f1b4cbba7e02c0",
       "value": "<span style=\"margin-left:10px; color:green;\">C:\\Users\\dominiquef\\Documents\\GIT\\mira\\geoapps\\docs\\assets\\FlinFlon.geoh5</span>"
      }
     },
     "508ef925687542f8a4cdddd30b777093": {
      "model_module": "@jupyter-widgets/base",
      "model_module_version": "1.2.0",
      "model_name": "LayoutModel",
      "state": {}
     },
     "50e73c6492c74c468f0cc521046bbf6f": {
      "model_module": "@jupyter-widgets/controls",
      "model_module_version": "1.5.0",
      "model_name": "DescriptionStyleModel",
      "state": {
       "description_width": ""
      }
     },
     "5135f53d592a4294a277938489d014c3": {
      "model_module": "@jupyter-widgets/controls",
      "model_module_version": "1.5.0",
      "model_name": "DescriptionStyleModel",
      "state": {
       "description_width": "initial"
      }
     },
     "53bfc8526158452ca5e26e761aa26e72": {
      "model_module": "@jupyter-widgets/controls",
      "model_module_version": "1.5.0",
      "model_name": "GridBoxModel",
      "state": {
       "children": [
        "IPY_MODEL_9fc8fc3d073c4889b15bbf869ccc81b4",
        "IPY_MODEL_24bad82b2bff425f880b1943799a2056",
        "IPY_MODEL_98ea12327df24c6f8fc3b4eae24fc255"
       ],
       "layout": "IPY_MODEL_3af6fd71631e47d395e5e539cfbd917c"
      }
     },
     "53db371f06c145acae98ed1f1131dad1": {
      "model_module": "@jupyter-widgets/controls",
      "model_module_version": "1.5.0",
      "model_name": "DescriptionStyleModel",
      "state": {
       "description_width": ""
      }
     },
     "54a3ff709258484facc5f02b39704d50": {
      "model_module": "@jupyter-widgets/controls",
      "model_module_version": "1.5.0",
      "model_name": "DescriptionStyleModel",
      "state": {
       "description_width": "initial"
      }
     },
     "5501dbed449d4e17b336b0b298992acd": {
      "model_module": "@jupyter-widgets/controls",
      "model_module_version": "1.5.0",
      "model_name": "DescriptionStyleModel",
      "state": {
       "description_width": ""
      }
     },
     "55cfdc5fde0240388f9fc30805f6b7e6": {
      "model_module": "@jupyter-widgets/controls",
      "model_module_version": "1.5.0",
      "model_name": "DescriptionStyleModel",
      "state": {
       "description_width": "initial"
      }
     },
     "55d6ef7ac4544decb99bab90e3e8d1ca": {
      "model_module": "@jupyter-widgets/controls",
      "model_module_version": "1.5.0",
      "model_name": "LabelModel",
      "state": {
       "layout": "IPY_MODEL_f64c722e7f42492fa98d789554ddda7f",
       "style": "IPY_MODEL_9f6c61918c97427f96a9fef06d84de82",
       "value": "Core cell size"
      }
     },
     "5794a6e08d8048a5b1f1b4cbba7e02c0": {
      "model_module": "@jupyter-widgets/controls",
      "model_module_version": "1.5.0",
      "model_name": "DescriptionStyleModel",
      "state": {
       "description_width": ""
      }
     },
     "5838614d8e1846df8fecc3d4e49f6b8b": {
      "model_module": "@jupyter-widgets/controls",
      "model_module_version": "1.5.0",
      "model_name": "DescriptionStyleModel",
      "state": {
       "description_width": "initial"
      }
     },
     "5a4cc6a5fe194a9592aef7d39859784b": {
      "model_module": "@jupyter-widgets/controls",
      "model_module_version": "1.5.0",
      "model_name": "VBoxModel",
      "state": {
       "children": [
        "IPY_MODEL_cdd5bf8e18454049a24255072e42ec1c",
        "IPY_MODEL_af43472d28374ca9be585f8aaaa93c44"
       ],
       "layout": "IPY_MODEL_f9c81c988d54441bbb79d5f536e98232"
      }
     },
     "5bce4cd4d05f42799ebedd052004c50e": {
      "model_module": "@jupyter-widgets/controls",
      "model_module_version": "1.5.0",
      "model_name": "DescriptionStyleModel",
      "state": {
       "description_width": "initial"
      }
     },
     "5cb6ad372d2c4ec6b286e7e9b7013ccb": {
      "model_module": "@jupyter-widgets/controls",
      "model_module_version": "1.5.0",
      "model_name": "DescriptionStyleModel",
      "state": {
       "description_width": ""
      }
     },
     "5cd905e152d44c329c512d4e4faff309": {
      "model_module": "@jupyter-widgets/controls",
      "model_module_version": "1.5.0",
      "model_name": "TextModel",
      "state": {
       "layout": "IPY_MODEL_d816e65b078546e596c4f7578578ea58",
       "placeholder": "output filename",
       "style": "IPY_MODEL_f059f8c8c04e4944a680c43d0c64834f",
       "value": "FlinFlon.geoh5"
      }
     },
     "5cfca5ce9e0e4ac5b57b966d643602e7": {
      "model_module": "@jupyter-widgets/controls",
      "model_module_version": "1.5.0",
      "model_name": "LabelModel",
      "state": {
       "layout": "IPY_MODEL_11b951ecba854f9eae75a29d43cf092f",
       "style": "IPY_MODEL_22cead5eed5c48848279b97c1df06c6a",
       "value": "Base Parameters"
      }
     },
     "5d4f9522c7734403924dc8f424b9b252": {
      "model_module": "@jupyter-widgets/controls",
      "model_module_version": "1.5.0",
      "model_name": "TextModel",
      "state": {
       "description": "Levels",
       "layout": "IPY_MODEL_1c7fe875ba5b46cb8a46a2d4ce796b27",
       "style": "IPY_MODEL_5135f53d592a4294a277938489d014c3",
       "value": "0,0,2"
      }
     },
     "5e22c17d69774aa9ad84e9ba5276ac29": {
      "model_module": "@jupyter-widgets/controls",
      "model_module_version": "1.5.0",
      "model_name": "LabelModel",
      "state": {
       "layout": "IPY_MODEL_28282e2ffc0d46a2ba68cbabda2659f7",
       "style": "IPY_MODEL_00986698b04f4cc5a675d1f3a33511ba",
       "value": "Refinement B"
      }
     },
     "5f043fc3ae2d4f87b92643f1802a62ba": {
      "model_module": "@jupyter-widgets/controls",
      "model_module_version": "1.5.0",
      "model_name": "ButtonStyleModel",
      "state": {}
     },
     "5f1fb7a5dc724facac47190d230154f0": {
      "model_module": "@jupyter-widgets/base",
      "model_module_version": "1.2.0",
      "model_name": "LayoutModel",
      "state": {
       "border": "solid"
      }
     },
     "60bdc65eb53a4f40b71c2f2bdbfd2329": {
      "model_module": "@jupyter-widgets/base",
      "model_module_version": "1.2.0",
      "model_name": "LayoutModel",
      "state": {}
     },
     "61adb45921854db6846542690f844b2b": {
      "model_module": "@jupyter-widgets/controls",
      "model_module_version": "1.5.0",
      "model_name": "TextModel",
      "state": {
       "description": "Levels",
       "layout": "IPY_MODEL_60bdc65eb53a4f40b71c2f2bdbfd2329",
       "style": "IPY_MODEL_64ab7a11a0554fa29ee50221406febac",
       "value": "4,4,4"
      }
     },
     "61bc753ac2cb4280ae39965e18a85ee6": {
      "model_module": "@jupyter-widgets/controls",
      "model_module_version": "1.5.0",
      "model_name": "ButtonStyleModel",
      "state": {}
     },
     "6213fbc9a8b8491bbbf738900048aabd": {
      "model_module": "@jupyter-widgets/controls",
      "model_module_version": "1.5.0",
      "model_name": "HTMLModel",
      "state": {
       "layout": "IPY_MODEL_e315690279a74b0badf2f3f549bf8d08",
       "style": "IPY_MODEL_c6626d1c27f0491d8b7fa40078903581"
      }
     },
     "640922c0bd1448fb88dd0705c401b743": {
      "model_module": "@jupyter-widgets/controls",
      "model_module_version": "1.5.0",
      "model_name": "HTMLModel",
      "state": {
       "layout": "IPY_MODEL_1355846fb11e46b8b0a45e699fa53989",
       "style": "IPY_MODEL_ac1c8ced3de643909a254a887e9e976e"
      }
     },
     "64ab7a11a0554fa29ee50221406febac": {
      "model_module": "@jupyter-widgets/controls",
      "model_module_version": "1.5.0",
      "model_name": "DescriptionStyleModel",
      "state": {
       "description_width": "initial"
      }
     },
     "651856f20eb349a388fd2fd9e3d37ff3": {
      "model_module": "@jupyter-widgets/base",
      "model_module_version": "1.2.0",
      "model_name": "LayoutModel",
      "state": {}
     },
     "654e5dfcd5d9431495fe28b79eaf787f": {
      "model_module": "@jupyter-widgets/controls",
      "model_module_version": "1.5.0",
      "model_name": "VBoxModel",
      "state": {
       "children": [
        "IPY_MODEL_6e1479d5d241495bb51123f3af9eca0f",
        "IPY_MODEL_77e8f0f47dee4a2ba841d95508cf94e6"
       ],
       "layout": "IPY_MODEL_f248edcfe31a4cc8bec7b23a77f8e6c8"
      }
     },
     "664ad134c3874addb87cd5187dd48bc5": {
      "model_module": "@jupyter-widgets/base",
      "model_module_version": "1.2.0",
      "model_name": "LayoutModel",
      "state": {
       "grid_area": "pathlist",
       "width": "auto"
      }
     },
     "6957ab1367234bf385d0b28f48570675": {
      "model_module": "@jupyter-widgets/controls",
      "model_module_version": "1.5.0",
      "model_name": "ButtonModel",
      "state": {
       "description": "Create copy:",
       "layout": "IPY_MODEL_bb03a28be8a741b38669d021611f772c",
       "style": "IPY_MODEL_61bc753ac2cb4280ae39965e18a85ee6"
      }
     },
     "69b9ac8b25e34da78d54d6b98e890b96": {
      "model_module": "@jupyter-widgets/base",
      "model_module_version": "1.2.0",
      "model_name": "LayoutModel",
      "state": {
       "width": "auto"
      }
     },
     "6a66619f49934332a906f55990d14c8a": {
      "model_module": "@jupyter-widgets/base",
      "model_module_version": "1.2.0",
      "model_name": "LayoutModel",
      "state": {}
     },
     "6d22e636dd344b07ae5cd4c4697d2d17": {
      "model_module": "@jupyter-widgets/controls",
      "model_module_version": "1.5.0",
      "model_name": "VBoxModel",
      "state": {
       "children": [
        "IPY_MODEL_654e5dfcd5d9431495fe28b79eaf787f",
        "IPY_MODEL_23a51d52b0004207826a8f080b0799bf"
       ],
       "layout": "IPY_MODEL_bf006843c58046d48b89e3d46999ddc3"
      }
     },
     "6e1479d5d241495bb51123f3af9eca0f": {
      "model_module": "@jupyter-widgets/controls",
      "model_module_version": "1.5.0",
      "model_name": "ButtonModel",
      "state": {
       "button_style": "danger",
       "description": "Create",
       "icon": "check",
       "layout": "IPY_MODEL_130cc0d7b03645ba8a6a9d0a1f403d6a",
       "style": "IPY_MODEL_3baebd805c864357ba19cfec7d9651cc",
       "tooltip": "Run computation"
      }
     },
     "7257107b99a04e47b3279e90cb874c08": {
      "model_module": "@jupyter-widgets/controls",
      "model_module_version": "1.5.0",
      "model_name": "DescriptionStyleModel",
      "state": {
       "description_width": ""
      }
     },
     "7281911074a14ecc88769dc128cd6949": {
      "model_module": "@jupyter-widgets/base",
      "model_module_version": "1.2.0",
      "model_name": "LayoutModel",
      "state": {
       "display": "none",
       "grid_area": "filename",
       "width": "auto"
      }
     },
     "73418605370246648cc8fae76f6ea162": {
      "model_module": "@jupyter-widgets/controls",
      "model_module_version": "1.5.0",
      "model_name": "VBoxModel",
      "state": {
       "children": [
        "IPY_MODEL_0ec62913ba8a44f2b73da5389dcd59ee",
        "IPY_MODEL_827c10d8c0a34dbcab3e7e1f57fd5310"
       ],
       "layout": "IPY_MODEL_1e8d8ad10363464eb043bf6347491265"
      }
     },
     "7432e4c935864e648fc31021de2d4580": {
      "model_module": "@jupyter-widgets/controls",
      "model_module_version": "1.5.0",
      "model_name": "DescriptionStyleModel",
      "state": {
       "description_width": "initial"
      }
     },
     "74f8121d789c49ee8c0edac97b1a9378": {
      "model_module": "@jupyter-widgets/controls",
      "model_module_version": "1.5.0",
      "model_name": "LabelModel",
      "state": {
       "layout": "IPY_MODEL_1eea674fa9484805a3659e49a7a59b62",
       "style": "IPY_MODEL_1c5ee5ba9b934b52a3d7413191a54e16",
       "value": "Refinement A"
      }
     },
     "77d9252b67954409a7690fe8310c3e14": {
      "model_module": "@jupyter-widgets/base",
      "model_module_version": "1.2.0",
      "model_name": "LayoutModel",
      "state": {}
     },
     "77e8f0f47dee4a2ba841d95508cf94e6": {
      "model_module": "@jupyter-widgets/controls",
      "model_module_version": "1.5.0",
      "model_name": "TextModel",
      "state": {
       "continuous_update": false,
       "description": "Name:",
       "layout": "IPY_MODEL_8ffa63b73494481a949a0f2e80b38f29",
       "style": "IPY_MODEL_b4c1e64829874079befacb24ed88efb3",
       "value": "Octree_Mesh"
      }
     },
     "79f82580d2024b19a04547c266e9293b": {
      "model_module": "@jupyter-widgets/controls",
      "model_module_version": "1.5.0",
      "model_name": "DescriptionStyleModel",
      "state": {
       "description_width": "initial"
      }
     },
     "7c3ca9b99e214b4dbd2566dcf8baf312": {
      "model_module": "@jupyter-widgets/controls",
      "model_module_version": "1.5.0",
      "model_name": "DescriptionStyleModel",
      "state": {
       "description_width": "initial"
      }
     },
     "7d1de7fe9fed4c6698028411a6578411": {
      "model_module": "@jupyter-widgets/base",
      "model_module_version": "1.2.0",
      "model_name": "LayoutModel",
      "state": {
       "display": "none",
       "width": "auto"
      }
     },
     "7dd56eaa450d4e3b80976db09b269391": {
      "model_module": "@jupyter-widgets/controls",
      "model_module_version": "1.5.0",
      "model_name": "DropdownModel",
      "state": {
       "_options_labels": [
        "",
        "fault_splay1",
        "fault_Cliff_Lake",
        "fault_Other_FlinFlon",
        "fault_Club_Lake_splay",
        "fault_Catherine_splay2",
        "fault_Birch_View",
        "fault_Dion_Lake",
        "fault_FlinFlon_splay",
        "fault_West_Mandy_Road",
        "fault_Channing",
        "fault_Ross_Lake",
        "fault_Louis_Hidden",
        "fault_Lake_View_thrust",
        "contact_Schist_Lake",
        "fault_Burley_Lake",
        "fault_Dion_Lake_splay",
        "fault_Green_Lake",
        "fault_FlinFlon",
        "fault_Catherine_splay1",
        "fault_East_Mandy_Road",
        "fault_Other_FlinFlon_South",
        "fault_Catherine_splay4",
        "contact_Stitt_Island",
        "fault_Club_Lake",
        "fault_Tailing_Pond",
        "35_Hidden_Reservoir_Hr5",
        "29_Hidden_Reservoir_Hr1a",
        "60_BlueLagoon_Fb2",
        "20_FlinFlon_Undivided_Int_Dykes_D2f",
        "04_Boundary_Intrusive_S4h",
        "53_Millrock_Rhyolite_Fm4b",
        "19_FlinFlon_Undivided_Int_Dykes_D2b",
        "18_FlinFlon_Undivided_Int_Dykes_777_D2b",
        "06_Phantom_Lake_Intrusive_S3a",
        "21_FlinFlon_Undivided_Int_Dykes_D3a",
        "43_Millrock_CHLSH_South",
        "56_Millrock_Basalt_Fm1ba",
        "17_FlinFlon_Undivided_Int_Dykes_D2",
        "32_Hidden_Reservoir_Hr1b_SW",
        "11_Missi_M3_NE",
        "13_Missi_M1",
        "07_Annabel_Granitoid_S1",
        "45_Millrock_Gabbro_South",
        "01_Late_Intrusive_S5b",
        "31_Hidden_Reservoir_Hr1c_SW",
        "52_Millrock_Rhyolite_Fm4_West_check",
        "55_Millrock_Basalt_Fm1bf",
        "34_Hidden_Reservoir_Hr2b",
        "03_Boundary_Intrusive_S4b",
        "42_Millrock_CHLSH_North",
        "26_Louis_L3",
        "23_FlinFlon_Undivided_Int_Felsic_D4g",
        "30_Hidden_Reservoir_Hr1b",
        "59_BlueLagoon_Fb3",
        "49_Millrock_MVR_Fm5d",
        "44_Millrock_Gabbro_North",
        "27_Hidden_Carlisle_Hc4",
        "22_FlinFlon_Undivided_Int_Felsic_D4e",
        "02_Boundary_Intrusive_S4a",
        "61_BlueLagoon_Fb1_NW",
        "05_Boundary_Intrusive_S4g",
        "39_Ore_Callinan",
        "38_Ore_Dan_Owens",
        "40_Ore_FlinFlon",
        "Inversion_VTEM_Model",
        "Gravity_Magnetics_drape60m",
        "CDI_VTEM_model",
        "Data_FEM_pseudo3D",
        "O2O_Interp_25m",
        "geochem",
        "Inversion_DIGHEM_Model",
        "Topography",
        "Data_TEM_pseudo3D",
        "Data_ZTEM"
       ],
       "description": "Core hull extent:",
       "index": 0,
       "layout": "IPY_MODEL_33927ad6e069454086fd8fdecf8f264f",
       "style": "IPY_MODEL_a39f7fd017e24f89a4d5d1f12aff7dc9"
      }
     },
     "7ecfcac269794a2d916cce9ad799c64f": {
      "model_module": "@jupyter-widgets/controls",
      "model_module_version": "1.5.0",
      "model_name": "DropdownModel",
      "state": {
       "_options_labels": [
        "",
        "fault_splay1",
        "fault_Cliff_Lake",
        "fault_Other_FlinFlon",
        "fault_Club_Lake_splay",
        "fault_Catherine_splay2",
        "fault_Birch_View",
        "fault_Dion_Lake",
        "fault_FlinFlon_splay",
        "fault_West_Mandy_Road",
        "fault_Channing",
        "fault_Ross_Lake",
        "fault_Louis_Hidden",
        "fault_Lake_View_thrust",
        "contact_Schist_Lake",
        "fault_Burley_Lake",
        "fault_Dion_Lake_splay",
        "fault_Green_Lake",
        "fault_FlinFlon",
        "fault_Catherine_splay1",
        "fault_East_Mandy_Road",
        "fault_Other_FlinFlon_South",
        "fault_Catherine_splay4",
        "contact_Stitt_Island",
        "fault_Club_Lake",
        "fault_Tailing_Pond",
        "35_Hidden_Reservoir_Hr5",
        "29_Hidden_Reservoir_Hr1a",
        "60_BlueLagoon_Fb2",
        "20_FlinFlon_Undivided_Int_Dykes_D2f",
        "04_Boundary_Intrusive_S4h",
        "53_Millrock_Rhyolite_Fm4b",
        "19_FlinFlon_Undivided_Int_Dykes_D2b",
        "18_FlinFlon_Undivided_Int_Dykes_777_D2b",
        "06_Phantom_Lake_Intrusive_S3a",
        "21_FlinFlon_Undivided_Int_Dykes_D3a",
        "43_Millrock_CHLSH_South",
        "56_Millrock_Basalt_Fm1ba",
        "17_FlinFlon_Undivided_Int_Dykes_D2",
        "32_Hidden_Reservoir_Hr1b_SW",
        "11_Missi_M3_NE",
        "13_Missi_M1",
        "07_Annabel_Granitoid_S1",
        "45_Millrock_Gabbro_South",
        "01_Late_Intrusive_S5b",
        "31_Hidden_Reservoir_Hr1c_SW",
        "52_Millrock_Rhyolite_Fm4_West_check",
        "55_Millrock_Basalt_Fm1bf",
        "34_Hidden_Reservoir_Hr2b",
        "03_Boundary_Intrusive_S4b",
        "42_Millrock_CHLSH_North",
        "26_Louis_L3",
        "23_FlinFlon_Undivided_Int_Felsic_D4g",
        "30_Hidden_Reservoir_Hr1b",
        "59_BlueLagoon_Fb3",
        "49_Millrock_MVR_Fm5d",
        "44_Millrock_Gabbro_North",
        "27_Hidden_Carlisle_Hc4",
        "22_FlinFlon_Undivided_Int_Felsic_D4e",
        "02_Boundary_Intrusive_S4a",
        "61_BlueLagoon_Fb1_NW",
        "05_Boundary_Intrusive_S4g",
        "39_Ore_Callinan",
        "38_Ore_Dan_Owens",
        "40_Ore_FlinFlon",
        "Inversion_VTEM_Model",
        "Gravity_Magnetics_drape60m",
        "CDI_VTEM_model",
        "Data_FEM_pseudo3D",
        "O2O_Interp_25m",
        "geochem",
        "Inversion_DIGHEM_Model",
        "Topography",
        "Data_TEM_pseudo3D",
        "Data_ZTEM"
       ],
       "description": "Object",
       "index": 68,
       "layout": "IPY_MODEL_079f6f69306241468f04aad89b352f77",
       "style": "IPY_MODEL_d3f6c961ccc1498b8319c441ea348b0b"
      }
     },
     "8038e75124db44fb9c02427b87dc658b": {
      "model_module": "@jupyter-widgets/controls",
      "model_module_version": "1.5.0",
      "model_name": "DescriptionStyleModel",
      "state": {
       "description_width": "initial"
      }
     },
     "8094b695fecd456ab3629b34d13f1eb4": {
      "model_module": "@jupyter-widgets/controls",
      "model_module_version": "1.5.0",
      "model_name": "DescriptionStyleModel",
      "state": {
       "description_width": ""
      }
     },
     "814eeae0e2654bc7b6693cffc9ec72ff": {
      "model_module": "@jupyter-widgets/controls",
      "model_module_version": "1.5.0",
      "model_name": "FloatTextModel",
      "state": {
       "description": "Easting",
       "layout": "IPY_MODEL_91eb2be20f1b40278c4347eb7bad7aff",
       "step": null,
       "style": "IPY_MODEL_dfcf17e1946d45848a533f6011abd816",
       "value": 25
      }
     },
     "827c10d8c0a34dbcab3e7e1f57fd5310": {
      "model_module": "@jupyter-widgets/controls",
      "model_module_version": "1.5.0",
      "model_name": "HBoxModel",
      "state": {
       "children": [
        "IPY_MODEL_f878e02fdf9544d59ad44d822d83e397",
        "IPY_MODEL_6957ab1367234bf385d0b28f48570675"
       ],
       "layout": "IPY_MODEL_c4d96f1dc34142dd858dcef55bc57933"
      }
     },
     "878c4bc79cf14416a18ccc814e975dca": {
      "model_module": "@jupyter-widgets/base",
      "model_module_version": "1.2.0",
      "model_name": "LayoutModel",
      "state": {}
     },
     "8b16b8e226b74f69b7f5287f4b55abf9": {
      "model_module": "@jupyter-widgets/controls",
      "model_module_version": "1.5.0",
      "model_name": "FloatTextModel",
      "state": {
       "description": "Max Distance",
       "layout": "IPY_MODEL_e641e55746854438ba1b8cbb1946d375",
       "step": null,
       "style": "IPY_MODEL_79f82580d2024b19a04547c266e9293b",
       "value": 1000
      }
     },
     "8cde6404b88f4b21a103758d038e17fc": {
      "model_module": "@jupyter-widgets/base",
      "model_module_version": "1.2.0",
      "model_name": "LayoutModel",
      "state": {
       "display": "none",
       "width": "auto"
      }
     },
     "8e3683f949d34e9aabb9ed719e71b206": {
      "model_module": "@jupyter-widgets/base",
      "model_module_version": "1.2.0",
      "model_name": "LayoutModel",
      "state": {
       "grid_area": "dircontent",
       "width": "auto"
      }
     },
     "8eed40b1f44e4edc9c6fff09d62d4ad4": {
      "model_module": "@jupyter-widgets/base",
      "model_module_version": "1.2.0",
      "model_name": "LayoutModel",
      "state": {
       "width": "auto"
      }
     },
     "8ffa63b73494481a949a0f2e80b38f29": {
      "model_module": "@jupyter-widgets/base",
      "model_module_version": "1.2.0",
      "model_name": "LayoutModel",
      "state": {}
     },
     "91eb2be20f1b40278c4347eb7bad7aff": {
      "model_module": "@jupyter-widgets/base",
      "model_module_version": "1.2.0",
      "model_name": "LayoutModel",
      "state": {}
     },
     "98ea12327df24c6f8fc3b4eae24fc255": {
      "model_module": "@jupyter-widgets/controls",
      "model_module_version": "1.5.0",
      "model_name": "SelectModel",
      "state": {
       "_options_labels": [
        "..",
        "dask-worker-space",
        "images"
       ],
       "index": null,
       "layout": "IPY_MODEL_4772911cbf644b9dba519263f4ddb189",
       "rows": 8,
       "style": "IPY_MODEL_5501dbed449d4e17b336b0b298992acd"
      }
     },
     "9a1a1c5029b04f4aa6f31b2f8c48bee7": {
      "model_module": "@jupyter-widgets/base",
      "model_module_version": "1.2.0",
      "model_name": "LayoutModel",
      "state": {}
     },
     "9bb163437cca4d4892939d9da68f49dd": {
      "model_module": "@jupyter-widgets/base",
      "model_module_version": "1.2.0",
      "model_name": "LayoutModel",
      "state": {
       "display": "none",
       "grid_gap": "0px 0px",
       "grid_template_areas": "\n                    'pathlist filename'\n                    'dircontent dircontent'\n                    ",
       "grid_template_columns": "60% 40%",
       "grid_template_rows": "auto auto",
       "width": "500px"
      }
     },
     "9ef67fe0b8c940d6b6392486a1d059a3": {
      "model_module": "@jupyter-widgets/controls",
      "model_module_version": "1.5.0",
      "model_name": "DescriptionStyleModel",
      "state": {
       "description_width": "initial"
      }
     },
     "9f6c61918c97427f96a9fef06d84de82": {
      "model_module": "@jupyter-widgets/controls",
      "model_module_version": "1.5.0",
      "model_name": "DescriptionStyleModel",
      "state": {
       "description_width": ""
      }
     },
     "9fc8fc3d073c4889b15bbf869ccc81b4": {
      "model_module": "@jupyter-widgets/controls",
      "model_module_version": "1.5.0",
      "model_name": "DropdownModel",
      "state": {
       "_options_labels": [
        "C:\\Users\\dominiquef\\Documents\\GIT\\mira\\geoapps\\docs\\content\\applications",
        "C:\\Users\\dominiquef\\Documents\\GIT\\mira\\geoapps\\docs\\content",
        "C:\\Users\\dominiquef\\Documents\\GIT\\mira\\geoapps\\docs",
        "C:\\Users\\dominiquef\\Documents\\GIT\\mira\\geoapps",
        "C:\\Users\\dominiquef\\Documents\\GIT\\mira",
        "C:\\Users\\dominiquef\\Documents\\GIT",
        "C:\\Users\\dominiquef\\Documents",
        "C:\\Users\\dominiquef",
        "C:\\Users",
        "C:\\",
        "D:\\",
        "Z:\\"
       ],
       "index": 0,
       "layout": "IPY_MODEL_f3daa57934714c0e8fce0fbebfee4ee8",
       "style": "IPY_MODEL_a2703ce4a2db465c84be533ce0c84da4"
      }
     },
     "a16bdd923f1d4010b6d1491b684aeff8": {
      "model_module": "@jupyter-widgets/controls",
      "model_module_version": "1.5.0",
      "model_name": "SelectModel",
      "state": {
       "index": null,
       "layout": "IPY_MODEL_8e3683f949d34e9aabb9ed719e71b206",
       "rows": 8,
       "style": "IPY_MODEL_4a2467c7be1a4f0c9544a2c0e0e026af"
      }
     },
     "a1b6d03f1a664d5f974d21d1932298a5": {
      "model_module": "@jupyter-widgets/controls",
      "model_module_version": "1.5.0",
      "model_name": "DescriptionStyleModel",
      "state": {
       "description_width": ""
      }
     },
     "a1ce5007fcb34a4894fdbb189f65f910": {
      "model_module": "@jupyter-widgets/controls",
      "model_module_version": "1.5.0",
      "model_name": "ButtonStyleModel",
      "state": {}
     },
     "a2703ce4a2db465c84be533ce0c84da4": {
      "model_module": "@jupyter-widgets/controls",
      "model_module_version": "1.5.0",
      "model_name": "DescriptionStyleModel",
      "state": {
       "description_width": ""
      }
     },
     "a381706713e94f2f8e32c88081b022d7": {
      "model_module": "@jupyter-widgets/controls",
      "model_module_version": "1.5.0",
      "model_name": "DropdownModel",
      "state": {
       "_options_labels": [
        "",
        "fault_splay1",
        "fault_Cliff_Lake",
        "fault_Other_FlinFlon",
        "fault_Club_Lake_splay",
        "fault_Catherine_splay2",
        "fault_Birch_View",
        "fault_Dion_Lake",
        "fault_FlinFlon_splay",
        "fault_West_Mandy_Road",
        "fault_Channing",
        "fault_Ross_Lake",
        "fault_Louis_Hidden",
        "fault_Lake_View_thrust",
        "contact_Schist_Lake",
        "fault_Burley_Lake",
        "fault_Dion_Lake_splay",
        "fault_Green_Lake",
        "fault_FlinFlon",
        "fault_Catherine_splay1",
        "fault_East_Mandy_Road",
        "fault_Other_FlinFlon_South",
        "fault_Catherine_splay4",
        "contact_Stitt_Island",
        "fault_Club_Lake",
        "fault_Tailing_Pond",
        "35_Hidden_Reservoir_Hr5",
        "29_Hidden_Reservoir_Hr1a",
        "60_BlueLagoon_Fb2",
        "20_FlinFlon_Undivided_Int_Dykes_D2f",
        "04_Boundary_Intrusive_S4h",
        "53_Millrock_Rhyolite_Fm4b",
        "19_FlinFlon_Undivided_Int_Dykes_D2b",
        "18_FlinFlon_Undivided_Int_Dykes_777_D2b",
        "06_Phantom_Lake_Intrusive_S3a",
        "21_FlinFlon_Undivided_Int_Dykes_D3a",
        "43_Millrock_CHLSH_South",
        "56_Millrock_Basalt_Fm1ba",
        "17_FlinFlon_Undivided_Int_Dykes_D2",
        "32_Hidden_Reservoir_Hr1b_SW",
        "11_Missi_M3_NE",
        "13_Missi_M1",
        "07_Annabel_Granitoid_S1",
        "45_Millrock_Gabbro_South",
        "01_Late_Intrusive_S5b",
        "31_Hidden_Reservoir_Hr1c_SW",
        "52_Millrock_Rhyolite_Fm4_West_check",
        "55_Millrock_Basalt_Fm1bf",
        "34_Hidden_Reservoir_Hr2b",
        "03_Boundary_Intrusive_S4b",
        "42_Millrock_CHLSH_North",
        "26_Louis_L3",
        "23_FlinFlon_Undivided_Int_Felsic_D4g",
        "30_Hidden_Reservoir_Hr1b",
        "59_BlueLagoon_Fb3",
        "49_Millrock_MVR_Fm5d",
        "44_Millrock_Gabbro_North",
        "27_Hidden_Carlisle_Hc4",
        "22_FlinFlon_Undivided_Int_Felsic_D4e",
        "02_Boundary_Intrusive_S4a",
        "61_BlueLagoon_Fb1_NW",
        "05_Boundary_Intrusive_S4g",
        "39_Ore_Callinan",
        "38_Ore_Dan_Owens",
        "40_Ore_FlinFlon",
        "Inversion_VTEM_Model",
        "Gravity_Magnetics_drape60m",
        "CDI_VTEM_model",
        "Data_FEM_pseudo3D",
        "O2O_Interp_25m",
        "geochem",
        "Inversion_DIGHEM_Model",
        "Topography",
        "Data_TEM_pseudo3D",
        "Data_ZTEM"
       ],
       "description": "Object",
       "index": 0,
       "layout": "IPY_MODEL_6a66619f49934332a906f55990d14c8a",
       "style": "IPY_MODEL_8038e75124db44fb9c02427b87dc658b"
      }
     },
     "a3949b80c28a4887b0988d471e189ae5": {
      "model_module": "@jupyter-widgets/controls",
      "model_module_version": "1.5.0",
      "model_name": "DescriptionStyleModel",
      "state": {
       "description_width": ""
      }
     },
     "a39f7fd017e24f89a4d5d1f12aff7dc9": {
      "model_module": "@jupyter-widgets/controls",
      "model_module_version": "1.5.0",
      "model_name": "DescriptionStyleModel",
      "state": {
       "description_width": "initial"
      }
     },
     "a3f00df782ed47ad80df12b5f969006f": {
      "model_module": "@jupyter-widgets/base",
      "model_module_version": "1.2.0",
      "model_name": "LayoutModel",
      "state": {}
     },
     "a8024daf04244d75949489a4e4469604": {
      "model_module": "@jupyter-widgets/controls",
      "model_module_version": "1.5.0",
      "model_name": "ButtonModel",
      "state": {
       "description": "Select",
       "layout": "IPY_MODEL_69b9ac8b25e34da78d54d6b98e890b96",
       "style": "IPY_MODEL_22223d47399e43f0b34c39d6cab296c0"
      }
     },
     "a9b181f50d6542a0981f3c2bb4ae89d7": {
      "model_module": "@jupyter-widgets/controls",
      "model_module_version": "1.5.0",
      "model_name": "FloatTextModel",
      "state": {
       "description": "Northing",
       "layout": "IPY_MODEL_77d9252b67954409a7690fe8310c3e14",
       "step": null,
       "style": "IPY_MODEL_9ef67fe0b8c940d6b6392486a1d059a3",
       "value": 25
      }
     },
     "ac1c8ced3de643909a254a887e9e976e": {
      "model_module": "@jupyter-widgets/controls",
      "model_module_version": "1.5.0",
      "model_name": "DescriptionStyleModel",
      "state": {
       "description_width": ""
      }
     },
     "ac66fdd12eaf4b89b7aa2da445c8d3d3": {
      "model_module": "@jupyter-widgets/controls",
      "model_module_version": "1.5.0",
      "model_name": "DescriptionStyleModel",
      "state": {
       "description_width": ""
      }
     },
     "ae8a7dbd2601413baa60de40065029d2": {
      "model_module": "@jupyter-widgets/base",
      "model_module_version": "1.2.0",
      "model_name": "LayoutModel",
      "state": {}
     },
     "af43472d28374ca9be585f8aaaa93c44": {
      "model_module": "@jupyter-widgets/controls",
      "model_module_version": "1.5.0",
      "model_name": "VBoxModel",
      "state": {
       "children": [
        "IPY_MODEL_6213fbc9a8b8491bbbf738900048aabd",
        "IPY_MODEL_53bfc8526158452ca5e26e761aa26e72",
        "IPY_MODEL_eac7628adce64a469b6f431fb5e21ec8"
       ],
       "layout": "IPY_MODEL_8eed40b1f44e4edc9c6fff09d62d4ad4"
      }
     },
     "afc749cdf8fc4f14989eac61ff13df0a": {
      "model_module": "@jupyter-widgets/controls",
      "model_module_version": "1.5.0",
      "model_name": "DropdownModel",
      "state": {
       "_options_labels": [
        "surface",
        "radial"
       ],
       "description": "Type",
       "index": 1,
       "layout": "IPY_MODEL_1c59477dc63945a7a8685dad4212f605",
       "style": "IPY_MODEL_7432e4c935864e648fc31021de2d4580"
      }
     },
     "b09d102888ed4c23ba78e0c54053e668": {
      "model_module": "@jupyter-widgets/controls",
      "model_module_version": "1.5.0",
      "model_name": "DescriptionStyleModel",
      "state": {
       "description_width": ""
      }
     },
     "b4c1e64829874079befacb24ed88efb3": {
      "model_module": "@jupyter-widgets/controls",
      "model_module_version": "1.5.0",
      "model_name": "DescriptionStyleModel",
      "state": {
       "description_width": "initial"
      }
     },
     "b62482742d494df2ae20535f44df1bd4": {
      "model_module": "@jupyter-widgets/controls",
      "model_module_version": "1.5.0",
      "model_name": "DescriptionStyleModel",
      "state": {
       "description_width": "initial"
      }
     },
     "b9e4a340167d4072bcea24d660eca495": {
      "model_module": "@jupyter-widgets/controls",
      "model_module_version": "1.5.0",
      "model_name": "ButtonStyleModel",
      "state": {}
     },
     "ba22f623e87a4d3ab29b413eafcea6ff": {
      "model_module": "@jupyter-widgets/controls",
      "model_module_version": "1.5.0",
      "model_name": "HTMLModel",
      "state": {
       "layout": "IPY_MODEL_a3f00df782ed47ad80df12b5f969006f",
       "placeholder": "",
       "style": "IPY_MODEL_53db371f06c145acae98ed1f1131dad1",
       "value": "<span style=\"margin-left:10px; color:black;\">No file selected</span>"
      }
     },
     "ba37a905aba04096a7beb8e59c303c58": {
      "model_module": "@jupyter-widgets/controls",
      "model_module_version": "1.5.0",
      "model_name": "FloatTextModel",
      "state": {
       "description": "Max Distance",
       "layout": "IPY_MODEL_2a6dbd90f4534db3ae8798473b698e68",
       "step": null,
       "style": "IPY_MODEL_1eb486897f1b4ad1866f2c16bf07dacd",
       "value": 1000
      }
     },
     "bb03a28be8a741b38669d021611f772c": {
      "model_module": "@jupyter-widgets/base",
      "model_module_version": "1.2.0",
      "model_name": "LayoutModel",
      "state": {}
     },
     "bc1a5e4755ee4cfa94219d7dab1e11b5": {
      "model_module": "@jupyter-widgets/base",
      "model_module_version": "1.2.0",
      "model_name": "LayoutModel",
      "state": {}
     },
     "becf2614f3bb42768a232504763035e8": {
      "model_module": "@jupyter-widgets/controls",
      "model_module_version": "1.5.0",
      "model_name": "DescriptionStyleModel",
      "state": {
       "description_width": "initial"
      }
     },
     "bf006843c58046d48b89e3d46999ddc3": {
      "model_module": "@jupyter-widgets/base",
      "model_module_version": "1.2.0",
      "model_name": "LayoutModel",
      "state": {}
     },
     "c2fab1251671465090d56c52e08f351c": {
      "model_module": "@jupyter-widgets/base",
      "model_module_version": "1.2.0",
      "model_name": "LayoutModel",
      "state": {
       "width": "auto"
      }
     },
     "c4d96f1dc34142dd858dcef55bc57933": {
      "model_module": "@jupyter-widgets/base",
      "model_module_version": "1.2.0",
      "model_name": "LayoutModel",
      "state": {}
     },
     "c6626d1c27f0491d8b7fa40078903581": {
      "model_module": "@jupyter-widgets/controls",
      "model_module_version": "1.5.0",
      "model_name": "DescriptionStyleModel",
      "state": {
       "description_width": ""
      }
     },
     "c72b1cb182c74504ba836fbca446ac1b": {
      "model_module": "@jupyter-widgets/base",
      "model_module_version": "1.2.0",
      "model_name": "LayoutModel",
      "state": {}
     },
     "cdd5bf8e18454049a24255072e42ec1c": {
      "model_module": "@jupyter-widgets/controls",
      "model_module_version": "1.5.0",
      "model_name": "LabelModel",
      "state": {
       "layout": "IPY_MODEL_139441ba67aa47e0a479321e11c05404",
       "style": "IPY_MODEL_7c3ca9b99e214b4dbd2566dcf8baf312",
       "value": "Monitoring folder"
      }
     },
     "ce017d1b99714fe48051200d81865a5d": {
      "model_module": "@jupyter-widgets/controls",
      "model_module_version": "1.5.0",
      "model_name": "VBoxModel",
      "state": {
       "children": [
        "IPY_MODEL_5cfca5ce9e0e4ac5b57b966d643602e7",
        "IPY_MODEL_7dd56eaa450d4e3b80976db09b269391",
        "IPY_MODEL_481f98cb4fe24bf4acc644ed6bd10e1d",
        "IPY_MODEL_55d6ef7ac4544decb99bab90e3e8d1ca",
        "IPY_MODEL_814eeae0e2654bc7b6693cffc9ec72ff",
        "IPY_MODEL_a9b181f50d6542a0981f3c2bb4ae89d7",
        "IPY_MODEL_3f29888f9b1f4fdb8f43c96d49a2d652",
        "IPY_MODEL_170836c6c6e0483fbe0e974c5de19933",
        "IPY_MODEL_26c35f7fb41a47669c2584975dca0fb5",
        "IPY_MODEL_fa6003651f374e039e3b900189ac4d88"
       ],
       "layout": "IPY_MODEL_3b45326d2f1649d79b7891872e2a72b4"
      }
     },
     "ceef5a0e2f094467b48a32c974bc5930": {
      "model_module": "@jupyter-widgets/controls",
      "model_module_version": "1.5.0",
      "model_name": "DescriptionStyleModel",
      "state": {
       "description_width": ""
      }
     },
     "cf0cb92304324911816c9f36df826ee0": {
      "model_module": "@jupyter-widgets/base",
      "model_module_version": "1.2.0",
      "model_name": "LayoutModel",
      "state": {}
     },
     "d01f8cb6ae2e45019edaa8ecac2ea9ca": {
      "model_module": "@jupyter-widgets/controls",
      "model_module_version": "1.5.0",
      "model_name": "VBoxModel",
      "state": {
       "children": [
        "IPY_MODEL_5e22c17d69774aa9ad84e9ba5276ac29",
        "IPY_MODEL_a381706713e94f2f8e32c88081b022d7",
        "IPY_MODEL_5d4f9522c7734403924dc8f424b9b252",
        "IPY_MODEL_0b85a723a7344ef1b649a37084e87a43",
        "IPY_MODEL_8b16b8e226b74f69b7f5287f4b55abf9"
       ],
       "layout": "IPY_MODEL_3847f52335514637a99c069ba2f6916b"
      }
     },
     "d0e7a13ae27748718204f9e5c1130309": {
      "model_module": "@jupyter-widgets/base",
      "model_module_version": "1.2.0",
      "model_name": "LayoutModel",
      "state": {}
     },
     "d3f6c961ccc1498b8319c441ea348b0b": {
      "model_module": "@jupyter-widgets/controls",
      "model_module_version": "1.5.0",
      "model_name": "DescriptionStyleModel",
      "state": {
       "description_width": "initial"
      }
     },
     "d816e65b078546e596c4f7578578ea58": {
      "model_module": "@jupyter-widgets/base",
      "model_module_version": "1.2.0",
      "model_name": "LayoutModel",
      "state": {
       "grid_area": "filename",
       "width": "auto"
      }
     },
     "da1ec0767d9645b289ace85218d1a8fa": {
      "model_module": "@jupyter-widgets/controls",
      "model_module_version": "1.5.0",
      "model_name": "DescriptionStyleModel",
      "state": {
       "description_width": "initial"
      }
     },
     "dc0ac654c0bd4fd98ec0e15d485c6e1b": {
      "model_module": "@jupyter-widgets/controls",
      "model_module_version": "1.5.0",
      "model_name": "VBoxModel",
      "state": {
       "children": [
        "IPY_MODEL_74f8121d789c49ee8c0edac97b1a9378",
        "IPY_MODEL_7ecfcac269794a2d916cce9ad799c64f",
        "IPY_MODEL_61adb45921854db6846542690f844b2b",
        "IPY_MODEL_afc749cdf8fc4f14989eac61ff13df0a",
        "IPY_MODEL_ba37a905aba04096a7beb8e59c303c58"
       ],
       "layout": "IPY_MODEL_5f1fb7a5dc724facac47190d230154f0"
      }
     },
     "dfcf17e1946d45848a533f6011abd816": {
      "model_module": "@jupyter-widgets/controls",
      "model_module_version": "1.5.0",
      "model_name": "DescriptionStyleModel",
      "state": {
       "description_width": "initial"
      }
     },
     "dff1fa45248b4d42bf0ee635f9a5e4ef": {
      "model_module": "@jupyter-widgets/controls",
      "model_module_version": "1.5.0",
      "model_name": "DescriptionStyleModel",
      "state": {
       "description_width": "initial"
      }
     },
     "e1e0d6482af646a2b8312736f665e847": {
      "model_module": "@jupyter-widgets/controls",
      "model_module_version": "1.5.0",
      "model_name": "VBoxModel",
      "state": {
       "children": [
        "IPY_MODEL_73418605370246648cc8fae76f6ea162",
        "IPY_MODEL_6d22e636dd344b07ae5cd4c4697d2d17"
       ],
       "layout": "IPY_MODEL_c72b1cb182c74504ba836fbca446ac1b"
      }
     },
     "e23411e625524470be7c4509fbbdd6e5": {
      "model_module": "@jupyter-widgets/controls",
      "model_module_version": "1.5.0",
      "model_name": "DescriptionStyleModel",
      "state": {
       "description_width": ""
      }
     },
     "e2f1086686b44ba78bc2f58c846755e5": {
      "model_module": "@jupyter-widgets/controls",
      "model_module_version": "1.5.0",
      "model_name": "DescriptionStyleModel",
      "state": {
       "description_width": "initial"
      }
     },
     "e315690279a74b0badf2f3f549bf8d08": {
      "model_module": "@jupyter-widgets/base",
      "model_module_version": "1.2.0",
      "model_name": "LayoutModel",
      "state": {
       "display": "none"
      }
     },
     "e4fc1322b8864b0985b3703fd221804a": {
      "model_module": "@jupyter-widgets/controls",
      "model_module_version": "1.5.0",
      "model_name": "HBoxModel",
      "state": {
       "children": [
        "IPY_MODEL_e87daeff9d82463db8082938bc322266",
        "IPY_MODEL_0fe9ebc1c23b40ee820d3b9dcb76c5c6",
        "IPY_MODEL_4c486f77ddff4477bfda22c35e48b283"
       ],
       "layout": "IPY_MODEL_22054754f7974885b78922dd0492a4a1"
      }
     },
     "e525bb3b18c3408fb0a9fa8db32056c5": {
      "model_module": "@jupyter-widgets/controls",
      "model_module_version": "1.5.0",
      "model_name": "DescriptionStyleModel",
      "state": {
       "description_width": ""
      }
     },
     "e641e55746854438ba1b8cbb1946d375": {
      "model_module": "@jupyter-widgets/base",
      "model_module_version": "1.2.0",
      "model_name": "LayoutModel",
      "state": {}
     },
     "e69e6ed7c72b4295b637fcf776a6605c": {
      "model_module": "@jupyter-widgets/controls",
      "model_module_version": "1.5.0",
      "model_name": "DescriptionStyleModel",
      "state": {
       "description_width": "initial"
      }
     },
     "e87daeff9d82463db8082938bc322266": {
      "model_module": "@jupyter-widgets/controls",
      "model_module_version": "1.5.0",
      "model_name": "ButtonModel",
      "state": {
       "description": "Change",
       "layout": "IPY_MODEL_e90e890ab69e4753b2614fbfff7addab",
       "style": "IPY_MODEL_a1ce5007fcb34a4894fdbb189f65f910"
      }
     },
     "e90e890ab69e4753b2614fbfff7addab": {
      "model_module": "@jupyter-widgets/base",
      "model_module_version": "1.2.0",
      "model_name": "LayoutModel",
      "state": {
       "width": "auto"
      }
     },
     "eac7628adce64a469b6f431fb5e21ec8": {
      "model_module": "@jupyter-widgets/controls",
      "model_module_version": "1.5.0",
      "model_name": "HBoxModel",
      "state": {
       "children": [
        "IPY_MODEL_a8024daf04244d75949489a4e4469604",
        "IPY_MODEL_1fa2db58cf074821bbe5e67efb928d2c",
        "IPY_MODEL_ba22f623e87a4d3ab29b413eafcea6ff"
       ],
       "layout": "IPY_MODEL_c2fab1251671465090d56c52e08f351c"
      }
     },
     "eb08a895f51349658239e16170c67374": {
      "model_module": "@jupyter-widgets/controls",
      "model_module_version": "1.5.0",
      "model_name": "DescriptionStyleModel",
      "state": {
       "description_width": "initial"
      }
     },
     "ec0ef8c466a746febec1399066ac30c0": {
      "model_module": "@jupyter-widgets/base",
      "model_module_version": "1.2.0",
      "model_name": "LayoutModel",
      "state": {}
     },
     "ec84c204b89e481ca97bbd7e060c8353": {
      "model_module": "@jupyter-widgets/controls",
      "model_module_version": "1.5.0",
      "model_name": "DescriptionStyleModel",
      "state": {
       "description_width": ""
      }
     },
     "eca6f1b8c14b4e56a8a352eb3bed6ea5": {
      "model_module": "@jupyter-widgets/controls",
      "model_module_version": "1.5.0",
      "model_name": "ButtonStyleModel",
      "state": {}
     },
     "ecfe660ce5024a06a0a81c690591b156": {
      "model_module": "@jupyter-widgets/controls",
      "model_module_version": "1.5.0",
      "model_name": "ButtonStyleModel",
      "state": {}
     },
     "f059f8c8c04e4944a680c43d0c64834f": {
      "model_module": "@jupyter-widgets/controls",
      "model_module_version": "1.5.0",
      "model_name": "DescriptionStyleModel",
      "state": {
       "description_width": ""
      }
     },
     "f1f382a589384facbfe70b077976469f": {
      "model_module": "@jupyter-widgets/controls",
      "model_module_version": "1.5.0",
      "model_name": "DescriptionStyleModel",
      "state": {
       "description_width": ""
      }
     },
     "f248edcfe31a4cc8bec7b23a77f8e6c8": {
      "model_module": "@jupyter-widgets/base",
      "model_module_version": "1.2.0",
      "model_name": "LayoutModel",
      "state": {}
     },
     "f3cbed4a40804cb682d228dca8507ee5": {
      "model_module": "@jupyter-widgets/controls",
      "model_module_version": "1.5.0",
      "model_name": "DescriptionStyleModel",
      "state": {
       "description_width": "initial"
      }
     },
     "f3daa57934714c0e8fce0fbebfee4ee8": {
      "model_module": "@jupyter-widgets/base",
      "model_module_version": "1.2.0",
      "model_name": "LayoutModel",
      "state": {
       "grid_area": "pathlist",
       "width": "auto"
      }
     },
     "f528854c77374c94b16ce064159ffd6e": {
      "model_module": "@jupyter-widgets/controls",
      "model_module_version": "1.5.0",
      "model_name": "DescriptionStyleModel",
      "state": {
       "description_width": "initial"
      }
     },
     "f64c722e7f42492fa98d789554ddda7f": {
      "model_module": "@jupyter-widgets/base",
      "model_module_version": "1.2.0",
      "model_name": "LayoutModel",
      "state": {}
     },
     "f64cac010b0544e39814d6a5185b193e": {
      "model_module": "@jupyter-widgets/controls",
      "model_module_version": "1.5.0",
      "model_name": "GridBoxModel",
      "state": {
       "children": [
        "IPY_MODEL_06b2cb2264ce49c89ea119a2943022a6",
        "IPY_MODEL_5cd905e152d44c329c512d4e4faff309",
        "IPY_MODEL_a16bdd923f1d4010b6d1491b684aeff8"
       ],
       "layout": "IPY_MODEL_9bb163437cca4d4892939d9da68f49dd"
      }
     },
     "f878e02fdf9544d59ad44d822d83e397": {
      "model_module": "@jupyter-widgets/controls",
      "model_module_version": "1.5.0",
      "model_name": "VBoxModel",
      "state": {
       "children": [
        "IPY_MODEL_640922c0bd1448fb88dd0705c401b743",
        "IPY_MODEL_f64cac010b0544e39814d6a5185b193e",
        "IPY_MODEL_e4fc1322b8864b0985b3703fd221804a"
       ],
       "layout": "IPY_MODEL_fec8dc0a5d164ae29c6d3ef523d729b8"
      }
     },
     "f8ee058f8d2c45519a0782dba7132762": {
      "model_module": "@jupyter-widgets/controls",
      "model_module_version": "1.5.0",
      "model_name": "VBoxModel",
      "state": {
       "children": [
        "IPY_MODEL_73418605370246648cc8fae76f6ea162",
        "IPY_MODEL_ce017d1b99714fe48051200d81865a5d",
        "IPY_MODEL_dc0ac654c0bd4fd98ec0e15d485c6e1b",
        "IPY_MODEL_d01f8cb6ae2e45019edaa8ecac2ea9ca",
        "IPY_MODEL_6d22e636dd344b07ae5cd4c4697d2d17"
       ],
       "layout": "IPY_MODEL_20991f2bd217456684311960169c41bd"
      }
     },
     "f989cdc0f7ae4d81a9672034955d5414": {
      "model_module": "@jupyter-widgets/controls",
      "model_module_version": "1.5.0",
      "model_name": "DescriptionStyleModel",
      "state": {
       "description_width": ""
      }
     },
     "f9a8f80052d841f1b5840fa8b2589814": {
      "model_module": "@jupyter-widgets/controls",
      "model_module_version": "1.5.0",
      "model_name": "DescriptionStyleModel",
      "state": {
       "description_width": "initial"
      }
     },
     "f9c81c988d54441bbb79d5f536e98232": {
      "model_module": "@jupyter-widgets/base",
      "model_module_version": "1.2.0",
      "model_name": "LayoutModel",
      "state": {}
     },
     "fa6003651f374e039e3b900189ac4d88": {
      "model_module": "@jupyter-widgets/controls",
      "model_module_version": "1.5.0",
      "model_name": "FloatTextModel",
      "state": {
       "description": "Vertical (m)",
       "layout": "IPY_MODEL_bc1a5e4755ee4cfa94219d7dab1e11b5",
       "step": null,
       "style": "IPY_MODEL_f528854c77374c94b16ce064159ffd6e",
       "value": 1000
      }
     },
     "fec8dc0a5d164ae29c6d3ef523d729b8": {
      "model_module": "@jupyter-widgets/base",
      "model_module_version": "1.2.0",
      "model_name": "LayoutModel",
      "state": {
       "width": "auto"
      }
     }
    },
    "version_major": 2,
    "version_minor": 0
   }
  }
 },
 "nbformat": 4,
 "nbformat_minor": 5
}

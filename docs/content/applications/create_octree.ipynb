{
 "cells": [
  {
   "cell_type": "markdown",
   "id": "dc4aeb18",
   "metadata": {},
   "source": [
    "# Octree Mesh Creation\n",
    "\n",
    " <img align=\"right\" width=\"400px\" src=\"./images/octree_mesh_creation.png\">\n",
    " \n",
    "This application lets users create `Octree` mesh objects with local refinements using the [SimPEG.discretize](http://discretize.simpeg.xyz/en/main/) package. The refinements can be performed on any number of objects.\n",
    "\n",
    "See the [Methodology](#Methodology) section to learn more about how the algorithm works.\n",
    "\n",
    "New user? Visit the [**Getting Started**](https://geoapps.readthedocs.io/en/latest/content/installation.html) page."
   ]
  },
  {
   "cell_type": "markdown",
   "id": "d7fd644e",
   "metadata": {},
   "source": [
    "## Application\n",
    "The following sections provide details on the different parameters controlling the application. Interactive widgets shown below are for demonstration purposes only."
   ]
  },
  {
   "cell_type": "code",
   "execution_count": 1,
   "id": "9e26de89",
   "metadata": {
    "scrolled": false
   },
   "outputs": [
    {
     "data": {
      "application/vnd.jupyter.widget-view+json": {
       "model_id": "fb78d90281994512a741bd25aad1094b",
       "version_major": 2,
       "version_minor": 0
      },
      "text/plain": [
       "VBox(children=(VBox(children=(VBox(children=(Label(value='Workspace', style=DescriptionStyle(description_width…"
      ]
     },
     "metadata": {},
     "output_type": "display_data"
    }
   ],
   "source": [
    "from geoapps.octree_creation.application import OctreeMesh\n",
    "\n",
    "app = OctreeMesh(geoh5=r\"../../../assets/FlinFlon.geoh5\")\n",
    "app()"
   ]
  },
  {
   "cell_type": "markdown",
   "id": "4b3a44cf",
   "metadata": {},
   "source": [
    "## Project Selection\n",
    "\n",
    "Select and connect to an existing **geoh5** project file containing objects with vertices. \n",
    "\n",
    "OR \n",
    "\n",
    "Select a `*.ui.json` input file to re-load parameters from. See the [Input ui.json](#Input-ui.json) section for details."
   ]
  },
  {
   "cell_type": "code",
   "execution_count": 2,
   "id": "87303784",
   "metadata": {},
   "outputs": [
    {
     "data": {
      "application/vnd.jupyter.widget-view+json": {
       "model_id": "4877b726fb5e417ca7a85e16ee4b0275",
       "version_major": 2,
       "version_minor": 0
      },
      "text/plain": [
       "VBox(children=(Label(value='Workspace', style=DescriptionStyle(description_width='initial')), HBox(children=(F…"
      ]
     },
     "metadata": {},
     "output_type": "display_data"
    }
   ],
   "source": [
    "app.project_panel"
   ]
  },
  {
   "cell_type": "markdown",
   "id": "590cb30c",
   "metadata": {},
   "source": [
    "See the [Project Panel](base_application.ipynb#Project-Panel) page for more details."
   ]
  },
  {
   "cell_type": "markdown",
   "id": "9047c969",
   "metadata": {},
   "source": [
    "## Core hull extent\n",
    "\n",
    "List of objects available to define the core region of the mesh. Padding parameters are added beyond the convex hull of the selected object. "
   ]
  },
  {
   "cell_type": "code",
   "execution_count": 3,
   "id": "401728c4",
   "metadata": {},
   "outputs": [
    {
     "data": {
      "application/vnd.jupyter.widget-view+json": {
       "model_id": "2261cf9b057e497ab11c3577723fc7f4",
       "version_major": 2,
       "version_minor": 0
      },
      "text/plain": [
       "Dropdown(description='Core hull extent:', index=6, options=(['', None], ['Ore/39_Ore_Callinan', UUID('9c5a1a0e…"
      ]
     },
     "metadata": {},
     "output_type": "display_data"
    }
   ],
   "source": [
    "app.objects"
   ]
  },
  {
   "cell_type": "markdown",
   "id": "9f694f6f",
   "metadata": {},
   "source": [
    "## Mesh Parameters\n",
    "\n",
    " <img align=\"right\" width=\"40%\" src=\"./images/Octree_core_depth.png\">\n",
    " \n",
    "### Minimum depth\n",
    "\n",
    "Minimum thickness of the mesh below the [core hull extent](#Core-hull-extent). See the [Methodology](#Methodology) section for details."
   ]
  },
  {
   "cell_type": "code",
   "execution_count": 4,
   "id": "fbb3c3b4",
   "metadata": {},
   "outputs": [
    {
     "data": {
      "application/vnd.jupyter.widget-view+json": {
       "model_id": "f0b44f012634437eb728aac385071e0a",
       "version_major": 2,
       "version_minor": 0
      },
      "text/plain": [
       "FloatText(value=500.0, description='Minimum depth (m)', style=DescriptionStyle(description_width='initial'))"
      ]
     },
     "metadata": {},
     "output_type": "display_data"
    }
   ],
   "source": [
    "app.depth_core"
   ]
  },
  {
   "cell_type": "markdown",
   "id": "1b9deadc",
   "metadata": {},
   "source": [
    "### Core cell sizes\n",
    "\n",
    "#### Easting\n",
    "\n",
    "Minimum cell size (m) along the x-axis\n"
   ]
  },
  {
   "cell_type": "code",
   "execution_count": 5,
   "id": "e3370941",
   "metadata": {},
   "outputs": [
    {
     "data": {
      "application/vnd.jupyter.widget-view+json": {
       "model_id": "0bc5f01c98674a71ac40cbc78765a96c",
       "version_major": 2,
       "version_minor": 0
      },
      "text/plain": [
       "FloatText(value=25.0, description='Easting', style=DescriptionStyle(description_width='initial'))"
      ]
     },
     "metadata": {},
     "output_type": "display_data"
    }
   ],
   "source": [
    "app.u_cell_size"
   ]
  },
  {
   "cell_type": "markdown",
   "id": "fe4af932",
   "metadata": {},
   "source": [
    "#### Northing\n",
    "\n",
    "Minimum cell dimension (m) along the y-axis"
   ]
  },
  {
   "cell_type": "code",
   "execution_count": 6,
   "id": "fa594eaf",
   "metadata": {},
   "outputs": [
    {
     "data": {
      "application/vnd.jupyter.widget-view+json": {
       "model_id": "8f879a56a5624af4a8b8304544750961",
       "version_major": 2,
       "version_minor": 0
      },
      "text/plain": [
       "FloatText(value=25.0, description='Northing', style=DescriptionStyle(description_width='initial'))"
      ]
     },
     "metadata": {},
     "output_type": "display_data"
    }
   ],
   "source": [
    "app.v_cell_size"
   ]
  },
  {
   "cell_type": "markdown",
   "id": "a89ff302",
   "metadata": {},
   "source": [
    "#### Vertical\n",
    "\n",
    "Minimum cell dimension (m) along the z-axis"
   ]
  },
  {
   "cell_type": "code",
   "execution_count": 7,
   "id": "19bb9da7",
   "metadata": {},
   "outputs": [
    {
     "data": {
      "application/vnd.jupyter.widget-view+json": {
       "model_id": "b62a048ae28f4930927518332f87107e",
       "version_major": 2,
       "version_minor": 0
      },
      "text/plain": [
       "FloatText(value=25.0, description='Vertical', style=DescriptionStyle(description_width='initial'))"
      ]
     },
     "metadata": {},
     "output_type": "display_data"
    }
   ],
   "source": [
    "app.w_cell_size"
   ]
  },
  {
   "cell_type": "markdown",
   "id": "f862f0c7",
   "metadata": {},
   "source": [
    "### Padding distances\n",
    "\n",
    "Minimum padding distance (m) requested around the core region. \n",
    "\n",
    "\n",
    "#### Horizontal\n",
    "\n",
    "Padding distance added around the core region on the XY-plane."
   ]
  },
  {
   "cell_type": "code",
   "execution_count": 8,
   "id": "4078142c",
   "metadata": {},
   "outputs": [
    {
     "data": {
      "application/vnd.jupyter.widget-view+json": {
       "model_id": "62fa9b7e87e248f1a39ed6eb9de2a086",
       "version_major": 2,
       "version_minor": 0
      },
      "text/plain": [
       "FloatText(value=1000.0, description='Horizontal (m)', style=DescriptionStyle(description_width='initial'))"
      ]
     },
     "metadata": {},
     "output_type": "display_data"
    }
   ],
   "source": [
    "app.horizontal_padding"
   ]
  },
  {
   "cell_type": "markdown",
   "id": "7192250c",
   "metadata": {},
   "source": [
    "#### Vertical\n",
    "\n",
    "Padding distance added above and below the core region."
   ]
  },
  {
   "cell_type": "code",
   "execution_count": 9,
   "id": "86455bf1",
   "metadata": {},
   "outputs": [
    {
     "data": {
      "application/vnd.jupyter.widget-view+json": {
       "model_id": "7829fc71a0b84531936d383f8059d3b4",
       "version_major": 2,
       "version_minor": 0
      },
      "text/plain": [
       "FloatText(value=1000.0, description='Vertical (m)', style=DescriptionStyle(description_width='initial'))"
      ]
     },
     "metadata": {},
     "output_type": "display_data"
    }
   ],
   "source": [
    "app.vertical_padding"
   ]
  },
  {
   "cell_type": "markdown",
   "id": "69ee7d6e",
   "metadata": {},
   "source": [
    "## Refinements\n",
    "\n",
    "Blocks of refinement parameters controlling where small cells are required. Overlapping regions of refinement will default to the smaller cell size. Cells outside of the regions of refinement are allowed to increase in size (double) as quickly as possible to fill the remaining volume.\n",
    "\n",
    "**Note**: The application defaults to two blocks of refinement, labeled as A and B. [See notes below](#Input-ui.json) to learn how to add more blocks of refinement."
   ]
  },
  {
   "cell_type": "code",
   "execution_count": 10,
   "id": "d026014c",
   "metadata": {},
   "outputs": [
    {
     "data": {
      "application/vnd.jupyter.widget-view+json": {
       "model_id": "2d39987bb37143068ab8e572302dee9c",
       "version_major": 2,
       "version_minor": 0
      },
      "text/plain": [
       "VBox(children=(Label(value='Refinement A'), Dropdown(description='Object', index=6, options=(['', None], ['Ore…"
      ]
     },
     "metadata": {},
     "output_type": "display_data"
    }
   ],
   "source": [
    "app.refinement_list.children[0]"
   ]
  },
  {
   "cell_type": "markdown",
   "id": "ff562da5",
   "metadata": {},
   "source": [
    "### Object\n",
    "\n",
    "Reference object with 3D coordinates (`vertices` or `centroids`) used to refine the octree mesh. "
   ]
  },
  {
   "cell_type": "code",
   "execution_count": 11,
   "id": "7907a96a",
   "metadata": {},
   "outputs": [
    {
     "data": {
      "application/vnd.jupyter.widget-view+json": {
       "model_id": "9eeb62a427104f099ecc7f663e43b9e5",
       "version_major": 2,
       "version_minor": 0
      },
      "text/plain": [
       "Dropdown(description='Object', index=6, options=(['', None], ['Ore/39_Ore_Callinan', UUID('9c5a1a0e-506e-4b49-…"
      ]
     },
     "metadata": {},
     "output_type": "display_data"
    }
   ],
   "source": [
    "app.refinement_list.children[0].children[1]"
   ]
  },
  {
   "cell_type": "markdown",
   "id": "5dffda33",
   "metadata": {},
   "source": [
    "### Levels\n",
    "\n",
    "List of integers defining the minimum number of cells at each octree level [$N_{level 1}$, $N_{level 2}$, $N_{level 3}$, ...]. [See examples below](#Radial)"
   ]
  },
  {
   "cell_type": "code",
   "execution_count": 12,
   "id": "0910d382",
   "metadata": {},
   "outputs": [
    {
     "data": {
      "application/vnd.jupyter.widget-view+json": {
       "model_id": "0c2ddbc06eaa4d1eb50a0d12f6f7a4a0",
       "version_major": 2,
       "version_minor": 0
      },
      "text/plain": [
       "Text(value='4, 4, 4', description='Levels', style=DescriptionStyle(description_width='initial'))"
      ]
     },
     "metadata": {},
     "output_type": "display_data"
    }
   ],
   "source": [
    "app.refinement_list.children[0].children[2]"
   ]
  },
  {
   "cell_type": "markdown",
   "id": "31605751",
   "metadata": {},
   "source": [
    "### Type\n",
    "\n",
    "The type of refinement to be performed on the selected object vertices and number of cells per octree level."
   ]
  },
  {
   "cell_type": "code",
   "execution_count": 13,
   "id": "a275e459",
   "metadata": {},
   "outputs": [
    {
     "data": {
      "application/vnd.jupyter.widget-view+json": {
       "model_id": "0846b71a096e46fba670b4fa521b1fe8",
       "version_major": 2,
       "version_minor": 0
      },
      "text/plain": [
       "Dropdown(description='Type', index=1, options=('surface', 'radial'), style=DescriptionStyle(description_width=…"
      ]
     },
     "metadata": {},
     "output_type": "display_data"
    }
   ],
   "source": [
    "app.refinement_list.children[0].children[3]"
   ]
  },
  {
   "cell_type": "markdown",
   "id": "ba86595c",
   "metadata": {},
   "source": [
    "#### Radial\n",
    "\n",
    "Octree cells specified at each [Level](#Levels) are added as concentric shells around the selected `Object` `vertices`.\n",
    "\n",
    " <img align=\"center\" width=\"75%\" src=\"./images/Octree_radial.png\">\n",
    " \n",
    " \n",
    "#### Surface\n",
    "\n",
    "Octree cells specified at each [Level](#Levels) are added at depth as layers of cells. The layers of cells are defined by a 2D Delaunay triangulation based on the `Object` `vertices`. The [maximum distance](#Max-distance) parameter can be use to limit the horizontal extent of the refinement. \n",
    "\n",
    " <img align=\"center\" width=\"75%\" src=\"./images/Octree_surface.png\">"
   ]
  },
  {
   "cell_type": "markdown",
   "id": "8843d94f",
   "metadata": {},
   "source": [
    "### Max distance\n",
    "\n",
    "Maximum refinement distance away from the input vertices. Cell sizes are allowed to increase quickly beyond this distance. \n",
    "\n",
    "**Note**: This parameter is useful to avoid a fine refinement occuring between remote vertices as shown above."
   ]
  },
  {
   "cell_type": "code",
   "execution_count": 14,
   "id": "9a714088",
   "metadata": {},
   "outputs": [
    {
     "data": {
      "application/vnd.jupyter.widget-view+json": {
       "model_id": "6e0ac9c1cf8f451e8ade3a816e34acb7",
       "version_major": 2,
       "version_minor": 0
      },
      "text/plain": [
       "FloatText(value=1000.0, description='Distance', style=DescriptionStyle(description_width='initial'))"
      ]
     },
     "metadata": {},
     "output_type": "display_data"
    }
   ],
   "source": [
    "app.refinement_list.children[0].children[4]"
   ]
  },
  {
   "cell_type": "markdown",
   "id": "8dd8706f",
   "metadata": {},
   "source": [
    "## Output panel\n",
    "\n",
    "An octree mesh is created and exported directly to the target workspace by clicking on the export button."
   ]
  },
  {
   "cell_type": "code",
   "execution_count": 15,
   "id": "e9e13777",
   "metadata": {},
   "outputs": [
    {
     "data": {
      "application/vnd.jupyter.widget-view+json": {
       "model_id": "3489d2edf8f742d1af3d08fe1e253790",
       "version_major": 2,
       "version_minor": 0
      },
      "text/plain": [
       "VBox(children=(VBox(children=(Button(button_style='danger', description='Create', icon='check', style=ButtonSt…"
      ]
     },
     "metadata": {},
     "output_type": "display_data"
    }
   ],
   "source": [
    "app.output_panel"
   ]
  },
  {
   "cell_type": "markdown",
   "id": "2db353d2",
   "metadata": {},
   "source": [
    "### (Optional) Geoscience ANALYST Pro - Live link\n",
    "See [Output Panel](base_application.ipynb#Output-Panel) base applications."
   ]
  },
  {
   "cell_type": "markdown",
   "id": "9a508a3c",
   "metadata": {},
   "source": [
    "## Methodology\n",
    "\n",
    "This section provides algorithmic details about the mesh creation. The entire process can be broken down into three main parts:\n",
    "\n",
    "### Step 1- Mesh creation\n",
    "\n",
    "\n",
    "The first stage relies on the [discretize.utils.mesh_builder_xyz](http://discretize.simpeg.xyz/en/main/api/generated/discretize.utils.mesh_builder_xyz.html?highlight=xyz#discretize-utils-mesh-builder-xyz)\n",
    "method to define the outer limits of the mesh. The horizontal and vertical extent are computed based on the selected entity [Core Hull Extent](#Core-hull-extent), [padding distances](#Padding-distances) and [Minimum Depth](#Minimum-depth) (vertical only). Limits are rounded up such that the number of core cells along each dimension is in power of 2 (i.e. 64, 128, ...), as required for octree discretization.\n",
    "\n",
    "The example below demonstrates this process with the default parameters:\n",
    "\n",
    " <img align=\"right\" width=\"75%\" src=\"./images/Octree_padding_distance.png\">\n",
    " \n",
    " \n",
    "**Horizontal extent (East-West):**\n",
    "   \n",
    "    Input: 5600 m (hull) + 2*1000 m (pad) = 7600 m \n",
    "\n",
    "    Round: 7600 m / 25 m/cell = 304 cells -> 512 cells\n",
    "\n",
    "    Final: 512 cells * 25 m/cell = 12800 m\n",
    "\n",
    "\n",
    "**Vertical extent:**\n",
    "\n",
    "    Input: 46 m (hull) + 2*1000 m (pad) + 500 (core) m = 2546 m \n",
    "\n",
    "    Round: 2546 m / 25 m/cell = 102 cells -> 128 cells\n",
    "\n",
    "    Final: 128 cells * 25 m/cell = 3,200 m\n",
    "\n",
    " \n",
    "### Step 2- Refinements \n",
    "\n",
    "Once the extent of the mesh has been defined, the program can proceed with the [Refinements](#Refinements) prescribed by the user. The routine makes use of the [discretize.utils.refine_tree_xyz](http://discretize.simpeg.xyz/en/main/api/generated/discretize.utils.refine_tree_xyz.html#discretize-utils-refine-tree-xyz) utility function. The order of refinements is not important as only the smallest cell octree found at a given position is used. \n",
    "\n",
    "### Step 3 - Finalization\n",
    "\n",
    "Once all the refinements have been added, the [TreeMesh.finalize()](http://discretize.simpeg.xyz/en/main/api/generated/discretize.TreeMesh.html?highlight=finalize#discretize.TreeMesh.finalize) routine is called for the final construction of the mesh. Cells in regions outside of the refinements are allowed to expand as quickly as possible. Et voila!\n"
   ]
  },
  {
   "cell_type": "markdown",
   "id": "08842649",
   "metadata": {},
   "source": [
    "## Input ui.json \n",
    "\n",
    "This application relies on a [structured json](https://github.com/MiraGeoscience/geoapps/tree/main/assets/uijson) file to store and run the program.\n",
    "\n",
    "The same input `ui.json` file can be used to run the program from command line:\n",
    "\n",
    "```\n",
    "activate geoapps\n",
    "python -m geoapps.octree_creation.application [YourInputName].ui.json\n",
    "```\n",
    "\n",
    "or directly from [Geoscience ANALYST Pro](#Geoscience-ANALYST-Pro) v3.3.1 or higher.\n",
    "The `ui.json` can also be used to re-load the parameters from a previous run by selecting the `ui.json` file from the [Project Selection](#Project-Selection) widget, instead of a `geoh5` file. \n",
    "\n",
    "### Notes \n",
    "\n",
    " <img align=\"right\" width=\"50%\" src=\"./images/refinement_block.png\">\n",
    " \n",
    "- Additional refinements can be performed by adding new blocks of parameters to the default [input ui.json file](https://raw.githubusercontent.com/MiraGeoscience/geoapps/main/assets/uijson/octree_mesh.ui.json):\n",
    "    - For each additional refinement blocks, a unique name must be provided (C, D, etc) \n",
    "    - Each block must include all [refinement parameters](#Refinements).\n",
    "    - Changes made will be displayed after re-loading the ui.json from the [Project Selection](#Project-Selection) panel. \n",
    "\n",
    "\n",
    " \n",
    "\n"
   ]
  },
  {
   "cell_type": "markdown",
   "id": "45628d97",
   "metadata": {},
   "source": [
    "### Geoscience ANALYST Pro v3.4\n",
    "\n",
    "Users with an active Geoscience ANALYST Pro license (v3.4) can execute this application directly from an active session with a drag & drop of a `*.ui.json` file to the `Viewport`. \n",
    "\n",
    "![GAPro_Octree](images/GA_pro_octree.gif \"ga_pro\")"
   ]
  },
  {
   "cell_type": "markdown",
   "id": "a472ce3f",
   "metadata": {},
   "source": [
    "Need help? Contact us at support@mirageoscience.com"
   ]
  }
 ],
 "metadata": {
  "kernelspec": {
   "display_name": "Python 3 (ipykernel)",
   "language": "python",
   "name": "python3"
  },
  "language_info": {
   "codemirror_mode": {
    "name": "ipython",
    "version": 3
   },
   "file_extension": ".py",
   "mimetype": "text/x-python",
   "name": "python",
   "nbconvert_exporter": "python",
   "pygments_lexer": "ipython3",
   "version": "3.9.13"
  },
  "widgets": {
   "application/vnd.jupyter.widget-state+json": {
    "state": {
     "002bb8926cd44fb9a843071e1f4342ff": {
      "model_module": "@jupyter-widgets/controls",
      "model_module_version": "1.5.0",
      "model_name": "DescriptionStyleModel",
      "state": {
       "description_width": "initial"
      }
     },
     "00371d0504bc45239e9053fb04b3beb9": {
      "model_module": "@jupyter-widgets/base",
      "model_module_version": "1.2.0",
      "model_name": "LayoutModel",
      "state": {
       "display": "none"
      }
     },
     "0065a9c583424831b5a6f9bcf0faaf94": {
      "model_module": "@jupyter-widgets/controls",
      "model_module_version": "1.5.0",
      "model_name": "VBoxModel",
      "state": {
       "children": [
        "IPY_MODEL_8b6dd342a8274a90b95d7928af9b170c",
        "IPY_MODEL_6263b32721934ea6a424dd5889f4b913"
       ],
       "layout": "IPY_MODEL_0391e341c2e24a38ac2fef3c6c63934d"
      }
     },
     "006bf3051f8949dfa2bee930e6531560": {
      "model_module": "@jupyter-widgets/controls",
      "model_module_version": "1.5.0",
      "model_name": "DescriptionStyleModel",
      "state": {
       "description_width": "initial"
      }
     },
     "0076a7b7b8cc4f949373789c2b8aef2b": {
      "model_module": "@jupyter-widgets/controls",
      "model_module_version": "1.5.0",
      "model_name": "DescriptionStyleModel",
      "state": {
       "description_width": ""
      }
     },
     "007aa2f884614b80a67f51a9d182c541": {
      "model_module": "@jupyter-widgets/controls",
      "model_module_version": "1.5.0",
      "model_name": "ButtonStyleModel",
      "state": {}
     },
     "009536cafe314df2ac4d922d7fac4b7b": {
      "model_module": "@jupyter-widgets/base",
      "model_module_version": "1.2.0",
      "model_name": "LayoutModel",
      "state": {}
     },
     "00ac363051d24fecb0a732c86148adc0": {
      "model_module": "@jupyter-widgets/controls",
      "model_module_version": "1.5.0",
      "model_name": "DescriptionStyleModel",
      "state": {
       "description_width": ""
      }
     },
     "00b1983df22b422f97011a1084e7beda": {
      "model_module": "@jupyter-widgets/controls",
      "model_module_version": "1.5.0",
      "model_name": "VBoxModel",
      "state": {
       "children": [
        "IPY_MODEL_e4f113b4e174457483293e57bfa5dc27",
        "IPY_MODEL_34dbbe979c524d33b065edbb1ea20f81",
        "IPY_MODEL_7a2f22dca1da442c979175351b7782f8",
        "IPY_MODEL_32caea7c89a748a28ddefcb47134ff69",
        "IPY_MODEL_1a39706ef4ef4be5b9f640d7bd97320e"
       ],
       "layout": "IPY_MODEL_a837c6a7323645da83c733b375b57a52"
      }
     },
     "00b7edc6654244a1aab246a56cb55407": {
      "model_module": "@jupyter-widgets/base",
      "model_module_version": "1.2.0",
      "model_name": "LayoutModel",
      "state": {}
     },
     "00ce75f6b3514aaf802c2fb59ce95907": {
      "model_module": "@jupyter-widgets/controls",
      "model_module_version": "1.5.0",
      "model_name": "ButtonStyleModel",
      "state": {}
     },
     "0127b1f12f1547f6b21d0c1bdb0de24a": {
      "model_module": "@jupyter-widgets/controls",
      "model_module_version": "1.5.0",
      "model_name": "ButtonModel",
      "state": {
       "description": "Cancel",
       "layout": "IPY_MODEL_725ad657d58b455786ffab957f6a16b5",
       "style": "IPY_MODEL_5679c9673a9447bdae9662f5fc6a6465"
      }
     },
     "0128860397104ecca5868079e050ef6f": {
      "model_module": "@jupyter-widgets/controls",
      "model_module_version": "1.5.0",
      "model_name": "LabelModel",
      "state": {
       "layout": "IPY_MODEL_903514b3cf9d45f89ec7635ce54221e0",
       "style": "IPY_MODEL_2d8188fee0864247b73a328c4e6023f3",
       "value": "Monitoring folder"
      }
     },
     "014b66e6e77a4d54a9d179944ec6dd29": {
      "model_module": "@jupyter-widgets/controls",
      "model_module_version": "1.5.0",
      "model_name": "ToggleButtonModel",
      "state": {
       "layout": "IPY_MODEL_68cd6d8233ed421d9d5260897d2e3462",
       "style": "IPY_MODEL_80f6e91f38244f6ba2eb87160ca37127"
      }
     },
     "018bd6cc857e47419ce40b8e6c87a319": {
      "model_module": "@jupyter-widgets/controls",
      "model_module_version": "1.5.0",
      "model_name": "DescriptionStyleModel",
      "state": {
       "description_width": "initial"
      }
     },
     "018e38cb43fd4a099dc5dd4828c49247": {
      "model_module": "@jupyter-widgets/controls",
      "model_module_version": "1.5.0",
      "model_name": "VBoxModel",
      "state": {
       "children": [
        "IPY_MODEL_c450ea60031e48d184df616b17d464e6",
        "IPY_MODEL_a79c3e3f551e46b68f3898dc48baa2ae",
        "IPY_MODEL_27cfc83234ed40e2b1837532d9e6bfbd",
        "IPY_MODEL_237cee65aa5244d1909fb9518a5faa91",
        "IPY_MODEL_985c17cc8352446092c1476aa95d1a84"
       ],
       "layout": "IPY_MODEL_1426e27f86cc4d718352b77c8a4f95a1"
      }
     },
     "01aa99b764414e24973b7daee8ab7fe7": {
      "model_module": "@jupyter-widgets/controls",
      "model_module_version": "1.5.0",
      "model_name": "DescriptionStyleModel",
      "state": {
       "description_width": ""
      }
     },
     "01d34087979c4a26b891678fb7bee249": {
      "model_module": "@jupyter-widgets/base",
      "model_module_version": "1.2.0",
      "model_name": "LayoutModel",
      "state": {}
     },
     "01e39ca2208543828effe32b9c087995": {
      "model_module": "@jupyter-widgets/controls",
      "model_module_version": "1.5.0",
      "model_name": "HTMLModel",
      "state": {
       "layout": "IPY_MODEL_cb45e0634fa14fdd90a89410a7f5f585",
       "placeholder": "",
       "style": "IPY_MODEL_4da5db881ae6448caf019755d4299266",
       "value": "<span style=\"margin-left:10px; color:orange;\">C:\\Users\\dominiquef\\Documents\\GIT\\mira\\geoapps\\assets\\FlinFlon.geoh5</span>"
      }
     },
     "01e8eeecf2234b5e8daf743138609ea7": {
      "model_module": "@jupyter-widgets/controls",
      "model_module_version": "1.5.0",
      "model_name": "TextModel",
      "state": {
       "layout": "IPY_MODEL_bd54cbf8076d4f8ea41c115e1a805e93",
       "placeholder": "output filename",
       "style": "IPY_MODEL_c665c0687fc145bb9047eda45e87a219",
       "value": "FlinFlon.geoh5"
      }
     },
     "01fd44b88c254f24822a531686718932": {
      "model_module": "@jupyter-widgets/controls",
      "model_module_version": "1.5.0",
      "model_name": "DescriptionStyleModel",
      "state": {
       "description_width": "initial"
      }
     },
     "01fded54a2ae482482234d52d6a53813": {
      "model_module": "@jupyter-widgets/base",
      "model_module_version": "1.2.0",
      "model_name": "LayoutModel",
      "state": {}
     },
     "0204a75e353b470f92c2ad08324b73a6": {
      "model_module": "@jupyter-widgets/controls",
      "model_module_version": "1.5.0",
      "model_name": "DescriptionStyleModel",
      "state": {
       "description_width": "initial"
      }
     },
     "02137f04c7814d9391b1691f471c172d": {
      "model_module": "@jupyter-widgets/controls",
      "model_module_version": "1.5.0",
      "model_name": "DescriptionStyleModel",
      "state": {
       "description_width": "initial"
      }
     },
     "021deffa3fab46f28650a1c35bddbf70": {
      "model_module": "@jupyter-widgets/base",
      "model_module_version": "1.2.0",
      "model_name": "LayoutModel",
      "state": {
       "display": "none",
       "min_width": "6em",
       "width": "6em"
      }
     },
     "0239dcf7a8ad4e0c8f87e5337509c1b1": {
      "model_module": "@jupyter-widgets/controls",
      "model_module_version": "1.5.0",
      "model_name": "HTMLModel",
      "state": {
       "layout": "IPY_MODEL_a4ac7fbb4eda4153a07a1c442e6315b6",
       "placeholder": "",
       "style": "IPY_MODEL_80c21b5fcd144816a77a118a748fe356",
       "value": "<span style=\"color:green;\">C:\\Users\\dominiquef\\Documents\\GIT\\mira\\geoapps\\assets\\Temp\\</span>"
      }
     },
     "023df97f440a48eba111f07bd01421d3": {
      "model_module": "@jupyter-widgets/base",
      "model_module_version": "1.2.0",
      "model_name": "LayoutModel",
      "state": {}
     },
     "02460499cb444460a189488bc5832ed4": {
      "model_module": "@jupyter-widgets/controls",
      "model_module_version": "1.5.0",
      "model_name": "DescriptionStyleModel",
      "state": {
       "description_width": "initial"
      }
     },
     "0252dce061064b87914b35546f0db7ad": {
      "model_module": "@jupyter-widgets/controls",
      "model_module_version": "1.5.0",
      "model_name": "DescriptionStyleModel",
      "state": {
       "description_width": ""
      }
     },
     "025637a91d77410daa70ac33b8d9a8af": {
      "model_module": "@jupyter-widgets/base",
      "model_module_version": "1.2.0",
      "model_name": "LayoutModel",
      "state": {
       "border": "solid"
      }
     },
     "02705e392d064216bef01c14a1a83172": {
      "model_module": "@jupyter-widgets/controls",
      "model_module_version": "1.5.0",
      "model_name": "FloatTextModel",
      "state": {
       "description": "Minimum depth (m)",
       "layout": "IPY_MODEL_72f24a5a855c48a6a9606d47c710e46e",
       "step": null,
       "style": "IPY_MODEL_4283a8e655e74548ad0239708cf2c9ea",
       "value": 500
      }
     },
     "0274c474d5714715904c6c7a4fcb02fa": {
      "model_module": "@jupyter-widgets/controls",
      "model_module_version": "1.5.0",
      "model_name": "DescriptionStyleModel",
      "state": {
       "description_width": ""
      }
     },
     "0274e930fc68432bbe7c3a99c0456e23": {
      "model_module": "@jupyter-widgets/controls",
      "model_module_version": "1.5.0",
      "model_name": "DescriptionStyleModel",
      "state": {
       "description_width": "initial"
      }
     },
     "02bf1871d08c417ba342d45f5d71d4c4": {
      "model_module": "@jupyter-widgets/controls",
      "model_module_version": "1.5.0",
      "model_name": "DescriptionStyleModel",
      "state": {
       "description_width": ""
      }
     },
     "02c07dac988042b482eecb4f32ed5615": {
      "model_module": "@jupyter-widgets/controls",
      "model_module_version": "1.5.0",
      "model_name": "DescriptionStyleModel",
      "state": {
       "description_width": ""
      }
     },
     "02ca7032705442efb20e72100059e5b9": {
      "model_module": "@jupyter-widgets/controls",
      "model_module_version": "1.5.0",
      "model_name": "DescriptionStyleModel",
      "state": {
       "description_width": "initial"
      }
     },
     "02d2e309e3004b56810c13708634428e": {
      "model_module": "@jupyter-widgets/controls",
      "model_module_version": "1.5.0",
      "model_name": "DescriptionStyleModel",
      "state": {
       "description_width": "initial"
      }
     },
     "02f1ed6a74b8427dbfb848b607e77ed7": {
      "model_module": "@jupyter-widgets/controls",
      "model_module_version": "1.5.0",
      "model_name": "ButtonStyleModel",
      "state": {}
     },
     "02f7e5c7b76d4bbfa3f91503fa1c085f": {
      "model_module": "@jupyter-widgets/base",
      "model_module_version": "1.2.0",
      "model_name": "LayoutModel",
      "state": {
       "width": "500px"
      }
     },
     "030082103d5242d2aecf40e366c45614": {
      "model_module": "@jupyter-widgets/base",
      "model_module_version": "1.2.0",
      "model_name": "LayoutModel",
      "state": {
       "width": "auto"
      }
     },
     "03255fcc1b3142d6a25872443861f68b": {
      "model_module": "@jupyter-widgets/controls",
      "model_module_version": "1.5.0",
      "model_name": "DescriptionStyleModel",
      "state": {
       "description_width": "initial"
      }
     },
     "0326913f4edb4cfab74e60f89819c15c": {
      "model_module": "@jupyter-widgets/controls",
      "model_module_version": "1.5.0",
      "model_name": "DescriptionStyleModel",
      "state": {
       "description_width": "initial"
      }
     },
     "03297720354540b29cedb0e8bd8d134b": {
      "model_module": "@jupyter-widgets/controls",
      "model_module_version": "1.5.0",
      "model_name": "DropdownModel",
      "state": {
       "_options_labels": [
        "",
        "--- Channels ---",
        "CPI56k",
        "CPI7200",
        "CPI900",
        "CPQ56k",
        "CPQ7200",
        "CPQ900",
        "DEM",
        "Line",
        "Z"
       ],
       "description": "Data: ",
       "index": 0,
       "layout": "IPY_MODEL_9da572ec6825442c9d2a5f31dd0d2621",
       "style": "IPY_MODEL_c7761fd6a108433d8433ee39ba23a3a8"
      }
     },
     "033a5f45ffb740adb4489ef52389c878": {
      "model_module": "@jupyter-widgets/base",
      "model_module_version": "1.2.0",
      "model_name": "LayoutModel",
      "state": {
       "grid_area": "dircontent",
       "width": "auto"
      }
     },
     "036417679a0e474d82b844232edda2f5": {
      "model_module": "@jupyter-widgets/controls",
      "model_module_version": "1.5.0",
      "model_name": "DescriptionStyleModel",
      "state": {
       "description_width": "initial"
      }
     },
     "037055e1c60b4c02be8472f51589a3b4": {
      "model_module": "@jupyter-widgets/controls",
      "model_module_version": "1.5.0",
      "model_name": "DescriptionStyleModel",
      "state": {
       "description_width": "initial"
      }
     },
     "0372323e017840288771e98b40533f85": {
      "model_module": "@jupyter-widgets/controls",
      "model_module_version": "1.5.0",
      "model_name": "DescriptionStyleModel",
      "state": {
       "description_width": ""
      }
     },
     "037fa65085674b01abe7c7076bcbe0e4": {
      "model_module": "@jupyter-widgets/controls",
      "model_module_version": "1.5.0",
      "model_name": "DescriptionStyleModel",
      "state": {
       "description_width": "initial"
      }
     },
     "0391e341c2e24a38ac2fef3c6c63934d": {
      "model_module": "@jupyter-widgets/base",
      "model_module_version": "1.2.0",
      "model_name": "LayoutModel",
      "state": {}
     },
     "0395fcbe99bd4950bb6b96a638821b9c": {
      "model_module": "@jupyter-widgets/controls",
      "model_module_version": "1.5.0",
      "model_name": "ButtonStyleModel",
      "state": {}
     },
     "039e5b0d6e77487abce30d91db183287": {
      "model_module": "@jupyter-widgets/controls",
      "model_module_version": "1.5.0",
      "model_name": "DescriptionStyleModel",
      "state": {
       "description_width": ""
      }
     },
     "03c75e91bcb542d18e8943c7a79da78d": {
      "model_module": "@jupyter-widgets/controls",
      "model_module_version": "1.5.0",
      "model_name": "DescriptionStyleModel",
      "state": {
       "description_width": "initial"
      }
     },
     "03d18e8ccb4a4237bea5c3fa99b71b98": {
      "model_module": "@jupyter-widgets/controls",
      "model_module_version": "1.5.0",
      "model_name": "ButtonModel",
      "state": {
       "button_style": "danger",
       "description": "Create",
       "icon": "check",
       "layout": "IPY_MODEL_1bda3dbdc68a4b7c8cb43a7a1482ab78",
       "style": "IPY_MODEL_ac054d5b6f7b4cd2a76e0fd9a9ee3eb0",
       "tooltip": "Run computation"
      }
     },
     "03f8a1250eb244dda4ca71470870be19": {
      "model_module": "@jupyter-widgets/controls",
      "model_module_version": "1.5.0",
      "model_name": "SelectModel",
      "state": {
       "_options_labels": [
        "📁 ..",
        "📁 SimPEG_PFInversion",
        "📁 Temp",
        "📁 uijson",
        "FlinFlon.geoh5",
        "FlinFlon_dcip.geoh5",
        "MtDore_TMI.geoh5",
        "tem.geoh5",
        "test_forward.ui.geoh5",
        "test_forward.ui.json"
       ],
       "index": 4,
       "layout": "IPY_MODEL_729c070bbb5f44b9afd8c45b6bafad72",
       "rows": 8,
       "style": "IPY_MODEL_a34cc0ea80ff4782ae38c409d885755f"
      }
     },
     "0437d94fc5c8472d9b1ac3f1182cea10": {
      "model_module": "@jupyter-widgets/controls",
      "model_module_version": "1.5.0",
      "model_name": "DescriptionStyleModel",
      "state": {
       "description_width": ""
      }
     },
     "045975fea9c3470e9524e05800b8b1b9": {
      "model_module": "@jupyter-widgets/controls",
      "model_module_version": "1.5.0",
      "model_name": "DescriptionStyleModel",
      "state": {
       "description_width": "initial"
      }
     },
     "046167f53e75431b8f4627034011d73f": {
      "model_module": "@jupyter-widgets/base",
      "model_module_version": "1.2.0",
      "model_name": "LayoutModel",
      "state": {}
     },
     "0475e926ef0041c9ab1dc6de39d1551f": {
      "model_module": "@jupyter-widgets/base",
      "model_module_version": "1.2.0",
      "model_name": "LayoutModel",
      "state": {
       "display": "none",
       "min_width": "6em",
       "width": "6em"
      }
     },
     "0477aa60c90141a38f06a79fb9da6ca4": {
      "model_module": "@jupyter-widgets/controls",
      "model_module_version": "1.5.0",
      "model_name": "GridBoxModel",
      "state": {
       "children": [
        "IPY_MODEL_5a43f4dfc77f4a0db830b5ff8efd2315",
        "IPY_MODEL_b697ff1653f648aea6251c2459d8a04f",
        "IPY_MODEL_37880e890c164851ac290c3f8b0bbb34"
       ],
       "layout": "IPY_MODEL_56177a59c887454fbcd04aebbca3e0c3"
      }
     },
     "0496f6967ab94b07983d5c7588befd55": {
      "model_module": "@jupyter-widgets/base",
      "model_module_version": "1.2.0",
      "model_name": "LayoutModel",
      "state": {}
     },
     "04dc881d03f945a589b869ec5bf955b4": {
      "model_module": "@jupyter-widgets/controls",
      "model_module_version": "1.5.0",
      "model_name": "TextModel",
      "state": {
       "continuous_update": false,
       "description": "Name:",
       "layout": "IPY_MODEL_fd67dbffa6fa487681c63a7e552aa680",
       "style": "IPY_MODEL_de55c2069606454b8df14bf96ae0c947",
       "value": "Octree_Mesh"
      }
     },
     "04dcd7043404422295dd3cb193b43d54": {
      "model_module": "@jupyter-widgets/base",
      "model_module_version": "1.2.0",
      "model_name": "LayoutModel",
      "state": {}
     },
     "04eb309e1b494367b0888f2a577e78ed": {
      "model_module": "@jupyter-widgets/controls",
      "model_module_version": "1.5.0",
      "model_name": "DescriptionStyleModel",
      "state": {
       "description_width": ""
      }
     },
     "04f37e00cab84df5bdf2ba68a9f7df8b": {
      "model_module": "@jupyter-widgets/base",
      "model_module_version": "1.2.0",
      "model_name": "LayoutModel",
      "state": {}
     },
     "050cc3c07a7a4922b26e303c6be4f687": {
      "model_module": "@jupyter-widgets/controls",
      "model_module_version": "1.5.0",
      "model_name": "TextModel",
      "state": {
       "layout": "IPY_MODEL_f88dc874b1214b8696e59e0db839ff1b",
       "placeholder": "output filename",
       "style": "IPY_MODEL_e1865cfd77b44fa58bf379a0208bf488",
       "value": "FlinFlon.geoh5"
      }
     },
     "0511b2f3529b4883b00930da635fe0db": {
      "model_module": "@jupyter-widgets/base",
      "model_module_version": "1.2.0",
      "model_name": "LayoutModel",
      "state": {
       "width": "auto"
      }
     },
     "0529a05bab8c41a78f185d5c9c2038be": {
      "model_module": "@jupyter-widgets/controls",
      "model_module_version": "1.5.0",
      "model_name": "ButtonStyleModel",
      "state": {}
     },
     "05401091d8534c9f95d730dc9db72097": {
      "model_module": "@jupyter-widgets/controls",
      "model_module_version": "1.5.0",
      "model_name": "ButtonStyleModel",
      "state": {}
     },
     "05440e1e307d49069eeded99bc26dc98": {
      "model_module": "@jupyter-widgets/base",
      "model_module_version": "1.2.0",
      "model_name": "LayoutModel",
      "state": {}
     },
     "05526a226138457bbf45463694cd1541": {
      "model_module": "@jupyter-widgets/controls",
      "model_module_version": "1.5.0",
      "model_name": "DescriptionStyleModel",
      "state": {
       "description_width": ""
      }
     },
     "055b3735ea374ed1a69fa6f2b59c2459": {
      "model_module": "@jupyter-widgets/controls",
      "model_module_version": "1.5.0",
      "model_name": "DropdownModel",
      "state": {
       "_options_labels": [
        "",
        "--- Channels ---",
        "CPI56k",
        "CPI7200",
        "CPI900",
        "CPQ56k",
        "CPQ7200",
        "CPQ900",
        "DEM",
        "Line",
        "X",
        "Y",
        "Z"
       ],
       "description": "Data: ",
       "index": 0,
       "layout": "IPY_MODEL_09ef6be74ee74cfd88c3e6f16e2c898a",
       "style": "IPY_MODEL_11be6772008647708a1e6aac44d15380"
      }
     },
     "05806eecc5e648d2956b7b03f1dab638": {
      "model_module": "@jupyter-widgets/controls",
      "model_module_version": "1.5.0",
      "model_name": "FloatTextModel",
      "state": {
       "description": "Vertical",
       "layout": "IPY_MODEL_6b2addbeb6ec460e9cf51a1bf78227a0",
       "step": null,
       "style": "IPY_MODEL_65a42a6e216f4b05a9b7759c2325ac84",
       "value": 25
      }
     },
     "05a20e6c38524d568b0c8824ee10d842": {
      "model_module": "@jupyter-widgets/controls",
      "model_module_version": "1.5.0",
      "model_name": "DescriptionStyleModel",
      "state": {
       "description_width": ""
      }
     },
     "05ad8002b3e94375a00d6dbe6cd1cf7a": {
      "model_module": "@jupyter-widgets/controls",
      "model_module_version": "1.5.0",
      "model_name": "DropdownModel",
      "state": {
       "_options_labels": [
        "C:\\Users\\dominiquef\\Documents\\GIT\\mira\\geoapps\\assets\\Temp",
        "C:\\Users\\dominiquef\\Documents\\GIT\\mira\\geoapps\\assets",
        "C:\\Users\\dominiquef\\Documents\\GIT\\mira\\geoapps",
        "C:\\Users\\dominiquef\\Documents\\GIT\\mira",
        "C:\\Users\\dominiquef\\Documents\\GIT",
        "C:\\Users\\dominiquef\\Documents",
        "C:\\Users\\dominiquef",
        "C:\\Users",
        "C:\\",
        "D:\\",
        "G:\\",
        "\\\\EgnyteDrive\\mirageoscience\\"
       ],
       "index": 0,
       "layout": "IPY_MODEL_22f50313724c48dd9be922af14a63888",
       "style": "IPY_MODEL_4557c63d75714040adfe97c30fdd38a7"
      }
     },
     "05f5b19601ad4bf38882d1dcbe0b5ce4": {
      "model_module": "@jupyter-widgets/controls",
      "model_module_version": "1.5.0",
      "model_name": "ButtonStyleModel",
      "state": {}
     },
     "06173dd1230f4848903fe66472bf2f88": {
      "model_module": "@jupyter-widgets/controls",
      "model_module_version": "1.5.0",
      "model_name": "DescriptionStyleModel",
      "state": {
       "description_width": ""
      }
     },
     "062943cbfe1848e9b799c06894cea0a1": {
      "model_module": "@jupyter-widgets/base",
      "model_module_version": "1.2.0",
      "model_name": "LayoutModel",
      "state": {}
     },
     "062d9e888a1545fd8ebeac0cf2062333": {
      "model_module": "@jupyter-widgets/controls",
      "model_module_version": "1.5.0",
      "model_name": "DropdownModel",
      "state": {
       "_options_labels": [
        "",
        "CoordinateTransformation/Data_TEM_pseudo3DEPSG_4326",
        "ISO/Iso_Iteration_7_model_5_00e-03",
        "ISO/Iso_Iteration_7_model_1_00e-02",
        "ISO/Iso_Iteration_7_model_1_50e-02",
        "ISO/Iso_Iteration_7_model_2_50e-03",
        "ISO/Iso_Iteration_7_model_2_00e-02",
        "Ore/39_Ore_Callinan",
        "Ore/38_Ore_Dan_Owens",
        "Ore/40_Ore_FlinFlon",
        "Workspace/Inversion_VTEM_Model",
        "Workspace/CDI_VTEM_model",
        "Workspace/Data_FEM_pseudo3D",
        "Workspace/geochem",
        "Workspace/Inversion_DIGHEM_Model",
        "Workspace/Topography",
        "Workspace/Data_TEM_pseudo3D",
        "Workspace/Data_ZTEM",
        "Workspace/Mesh"
       ],
       "description": "Core hull extent:",
       "index": 12,
       "layout": "IPY_MODEL_7b181671edf74e3fa7c9f126ad78d7e6",
       "style": "IPY_MODEL_4313321ef7544eb6b9e2abd42de38807"
      }
     },
     "0630a70abdb44f289d4cd379cb48b445": {
      "model_module": "@jupyter-widgets/controls",
      "model_module_version": "1.5.0",
      "model_name": "DescriptionStyleModel",
      "state": {
       "description_width": ""
      }
     },
     "063e91c48c8743a7b0d2449f2bead0ac": {
      "model_module": "@jupyter-widgets/controls",
      "model_module_version": "1.5.0",
      "model_name": "LabelModel",
      "state": {
       "layout": "IPY_MODEL_2ccd2eab997d4a22b9d9212e5a97d6e7",
       "style": "IPY_MODEL_22252a062681436485b73f9990a9bb66",
       "value": "Padding distance"
      }
     },
     "06469d94cc2241ad933c2ee28429fe33": {
      "model_module": "@jupyter-widgets/controls",
      "model_module_version": "1.5.0",
      "model_name": "DescriptionStyleModel",
      "state": {
       "description_width": ""
      }
     },
     "0650ca9953d94279b287762c4db8c44e": {
      "model_module": "@jupyter-widgets/controls",
      "model_module_version": "1.5.0",
      "model_name": "DescriptionStyleModel",
      "state": {
       "description_width": "initial"
      }
     },
     "06547ac7273446fb9078e5aab93c040f": {
      "model_module": "@jupyter-widgets/base",
      "model_module_version": "1.2.0",
      "model_name": "LayoutModel",
      "state": {}
     },
     "065f817d9863411d80318c4a512c72f5": {
      "model_module": "@jupyter-widgets/controls",
      "model_module_version": "1.5.0",
      "model_name": "DropdownModel",
      "state": {
       "_options_labels": [
        "C:\\Users\\dominiquef\\Documents\\GIT\\mira\\geoapps\\assets",
        "C:\\Users\\dominiquef\\Documents\\GIT\\mira\\geoapps",
        "C:\\Users\\dominiquef\\Documents\\GIT\\mira",
        "C:\\Users\\dominiquef\\Documents\\GIT",
        "C:\\Users\\dominiquef\\Documents",
        "C:\\Users\\dominiquef",
        "C:\\Users",
        "C:\\",
        "\\\\EgnyteDrive\\mirageoscience\\",
        "D:\\",
        "G:\\"
       ],
       "index": 0,
       "layout": "IPY_MODEL_70c7dc2db22942f28e5925cbf9b1fcbb",
       "style": "IPY_MODEL_05526a226138457bbf45463694cd1541"
      }
     },
     "067378aab92e45f98c36fa112ebe8266": {
      "model_module": "@jupyter-widgets/controls",
      "model_module_version": "1.5.0",
      "model_name": "TextModel",
      "state": {
       "disabled": true,
       "layout": "IPY_MODEL_6663429591464d798f6d1ebfdc622fdd",
       "placeholder": "output filename",
       "style": "IPY_MODEL_9930472cdda447feb646370fb58a749a"
      }
     },
     "0678188c373c48d5ada6751bf1afff3d": {
      "model_module": "@jupyter-widgets/base",
      "model_module_version": "1.2.0",
      "model_name": "LayoutModel",
      "state": {}
     },
     "06787df13bc942dea24b6db38e27a202": {
      "model_module": "@jupyter-widgets/base",
      "model_module_version": "1.2.0",
      "model_name": "LayoutModel",
      "state": {}
     },
     "068bc0773e3947b3b901937975650ed4": {
      "model_module": "@jupyter-widgets/base",
      "model_module_version": "1.2.0",
      "model_name": "LayoutModel",
      "state": {
       "display": "none",
       "grid_area": "filename",
       "width": "auto"
      }
     },
     "0696eff628184d2696507f6714a374d4": {
      "model_module": "@jupyter-widgets/controls",
      "model_module_version": "1.5.0",
      "model_name": "DescriptionStyleModel",
      "state": {
       "description_width": "initial"
      }
     },
     "069d9dd0bd364cd19d8b91ebdc76a324": {
      "model_module": "@jupyter-widgets/controls",
      "model_module_version": "1.5.0",
      "model_name": "VBoxModel",
      "state": {
       "children": [
        "IPY_MODEL_f13d6ba50eb5469b87387c66a7ff995b",
        "IPY_MODEL_ec5b05f78cae4b1298b3b5e0d5fb03a6",
        "IPY_MODEL_8a8aadb7d69645d2b2d6abc5b8f07fa0",
        "IPY_MODEL_352ffd3edcd24f89be856c8ec140e548",
        "IPY_MODEL_90f67cb4aa49404bbada849dbdef4bc0"
       ],
       "layout": "IPY_MODEL_50e8698496144a2eb241fb060d3b326c"
      }
     },
     "06b5c6cc40da4bfd82dd02686106acc4": {
      "model_module": "@jupyter-widgets/base",
      "model_module_version": "1.2.0",
      "model_name": "LayoutModel",
      "state": {
       "min_width": "6em",
       "width": "6em"
      }
     },
     "06bb2658d3f1425a96c6a2727aff93f3": {
      "model_module": "@jupyter-widgets/controls",
      "model_module_version": "1.5.0",
      "model_name": "DescriptionStyleModel",
      "state": {
       "description_width": ""
      }
     },
     "06ce29992c994a7b998194d4a9c61e20": {
      "model_module": "@jupyter-widgets/controls",
      "model_module_version": "1.5.0",
      "model_name": "VBoxModel",
      "state": {
       "children": [
        "IPY_MODEL_2cc61d1ddb924f488993aa24ec6b54d4",
        "IPY_MODEL_162b8be8dd284ec2bd46780c5f212385"
       ],
       "layout": "IPY_MODEL_775bd61079ac4ea9827c4ae73d409179"
      }
     },
     "0701bb5a01f1410aa888de151b3d134d": {
      "model_module": "@jupyter-widgets/controls",
      "model_module_version": "1.5.0",
      "model_name": "DescriptionStyleModel",
      "state": {
       "description_width": "initial"
      }
     },
     "0702700f33ba4b1e93ef43db235893ad": {
      "model_module": "@jupyter-widgets/base",
      "model_module_version": "1.2.0",
      "model_name": "LayoutModel",
      "state": {}
     },
     "0705050cb4244857910f261fb5f78388": {
      "model_module": "@jupyter-widgets/controls",
      "model_module_version": "1.5.0",
      "model_name": "DescriptionStyleModel",
      "state": {
       "description_width": ""
      }
     },
     "071de065d2fa4b4d87b82ed89a1b085c": {
      "model_module": "@jupyter-widgets/controls",
      "model_module_version": "1.5.0",
      "model_name": "TextModel",
      "state": {
       "continuous_update": false,
       "description": "Name:",
       "layout": "IPY_MODEL_081b1dabfcd34ceb82cc6eefede067f3",
       "style": "IPY_MODEL_5b9eefa0012e4be5a3d0bac7001f0be1",
       "value": "Octree_Mesh"
      }
     },
     "0729a92b1459484d909db83206c21917": {
      "model_module": "@jupyter-widgets/base",
      "model_module_version": "1.2.0",
      "model_name": "LayoutModel",
      "state": {}
     },
     "072bfce0ec0a4623a377cc970390671c": {
      "model_module": "@jupyter-widgets/controls",
      "model_module_version": "1.5.0",
      "model_name": "DescriptionStyleModel",
      "state": {
       "description_width": "initial"
      }
     },
     "072fa5a5f79f4f919cf05b68c0b3a02f": {
      "model_module": "@jupyter-widgets/controls",
      "model_module_version": "1.5.0",
      "model_name": "GridBoxModel",
      "state": {
       "children": [
        "IPY_MODEL_79267685e89b4f4c83bc73148f4057a0",
        "IPY_MODEL_050cc3c07a7a4922b26e303c6be4f687",
        "IPY_MODEL_52f230c345044f7ba50229804b8f38b1"
       ],
       "layout": "IPY_MODEL_a1e1b998f05443348dc7d0d87583d52a"
      }
     },
     "0733b1c57ecc4569aa803742caa99a8e": {
      "model_module": "@jupyter-widgets/controls",
      "model_module_version": "1.5.0",
      "model_name": "DescriptionStyleModel",
      "state": {
       "description_width": "initial"
      }
     },
     "07a64aaa13e34007a20467bb554b7a6c": {
      "model_module": "@jupyter-widgets/base",
      "model_module_version": "1.2.0",
      "model_name": "LayoutModel",
      "state": {}
     },
     "07aed5a1e9244163b40af834c42607cc": {
      "model_module": "@jupyter-widgets/controls",
      "model_module_version": "1.5.0",
      "model_name": "DescriptionStyleModel",
      "state": {
       "description_width": "initial"
      }
     },
     "07af2653837849bd85301d78820c1fa3": {
      "model_module": "@jupyter-widgets/base",
      "model_module_version": "1.2.0",
      "model_name": "LayoutModel",
      "state": {}
     },
     "07eb6f86878f46dea693ae01ab5fb7cf": {
      "model_module": "@jupyter-widgets/controls",
      "model_module_version": "1.5.0",
      "model_name": "HTMLModel",
      "state": {
       "layout": "IPY_MODEL_44bc6ea9b7024fa3bb575c9baf097fc9",
       "style": "IPY_MODEL_89cea0f4a5b04fc6bd0c1a05d08854d3"
      }
     },
     "080647a685c640a8ae7f2cab972e5121": {
      "model_module": "@jupyter-widgets/controls",
      "model_module_version": "1.5.0",
      "model_name": "DescriptionStyleModel",
      "state": {
       "description_width": "initial"
      }
     },
     "081b1dabfcd34ceb82cc6eefede067f3": {
      "model_module": "@jupyter-widgets/base",
      "model_module_version": "1.2.0",
      "model_name": "LayoutModel",
      "state": {}
     },
     "0846b71a096e46fba670b4fa521b1fe8": {
      "model_module": "@jupyter-widgets/controls",
      "model_module_version": "1.5.0",
      "model_name": "DropdownModel",
      "state": {
       "_options_labels": [
        "surface",
        "radial"
       ],
       "description": "Type",
       "index": 1,
       "layout": "IPY_MODEL_44449285388645d99d55e2d1d6aeff03",
       "style": "IPY_MODEL_e6d15ba46e0e4ab9a0528b3d74979f13"
      }
     },
     "086790b3596d47cabcbf6d47f513d95a": {
      "model_module": "@jupyter-widgets/base",
      "model_module_version": "1.2.0",
      "model_name": "LayoutModel",
      "state": {}
     },
     "088cfb2cef224431b193be7fa86c367c": {
      "model_module": "@jupyter-widgets/controls",
      "model_module_version": "1.5.0",
      "model_name": "DescriptionStyleModel",
      "state": {
       "description_width": "initial"
      }
     },
     "08b6c702d2174d8bb9901ea8dc245caf": {
      "model_module": "@jupyter-widgets/base",
      "model_module_version": "1.2.0",
      "model_name": "LayoutModel",
      "state": {}
     },
     "0908affa96b94816a3e9ad98276a6db9": {
      "model_module": "@jupyter-widgets/base",
      "model_module_version": "1.2.0",
      "model_name": "LayoutModel",
      "state": {}
     },
     "090dcaeeaca9443896f206548a36f2d0": {
      "model_module": "@jupyter-widgets/base",
      "model_module_version": "1.2.0",
      "model_name": "LayoutModel",
      "state": {
       "width": "auto"
      }
     },
     "09236b7450c44263b9755d5a780a2c51": {
      "model_module": "@jupyter-widgets/controls",
      "model_module_version": "1.5.0",
      "model_name": "DescriptionStyleModel",
      "state": {
       "description_width": "initial"
      }
     },
     "0926cb8eb70d4354afab8a1fed4441bb": {
      "model_module": "@jupyter-widgets/base",
      "model_module_version": "1.2.0",
      "model_name": "LayoutModel",
      "state": {
       "display": "none",
       "min_width": "6em",
       "width": "6em"
      }
     },
     "0953d178f5dc4798a39de932f9e5e286": {
      "model_module": "@jupyter-widgets/base",
      "model_module_version": "1.2.0",
      "model_name": "LayoutModel",
      "state": {}
     },
     "098119dc4f4044d5a3747bfcf70cc240": {
      "model_module": "@jupyter-widgets/controls",
      "model_module_version": "1.5.0",
      "model_name": "DescriptionStyleModel",
      "state": {
       "description_width": ""
      }
     },
     "0989717936784e618da72a0d7ff4dbd9": {
      "model_module": "@jupyter-widgets/base",
      "model_module_version": "1.2.0",
      "model_name": "LayoutModel",
      "state": {}
     },
     "09a7594283ff4aa397b6c0b255b5a04c": {
      "model_module": "@jupyter-widgets/controls",
      "model_module_version": "1.5.0",
      "model_name": "ButtonModel",
      "state": {
       "description": "Change",
       "layout": "IPY_MODEL_c4763ab288df48b89fd9996743e8e2cb",
       "style": "IPY_MODEL_ce5efd35870b4f68b53231c8a182d100"
      }
     },
     "09adac143c7a4742a81a6fc510a4dae7": {
      "model_module": "@jupyter-widgets/base",
      "model_module_version": "1.2.0",
      "model_name": "LayoutModel",
      "state": {}
     },
     "09b42f520cee42cb9c182cb75e74c091": {
      "model_module": "@jupyter-widgets/base",
      "model_module_version": "1.2.0",
      "model_name": "LayoutModel",
      "state": {}
     },
     "09bb0b4373a6417894e8dbe58cab7719": {
      "model_module": "@jupyter-widgets/base",
      "model_module_version": "1.2.0",
      "model_name": "LayoutModel",
      "state": {}
     },
     "09ef6be74ee74cfd88c3e6f16e2c898a": {
      "model_module": "@jupyter-widgets/base",
      "model_module_version": "1.2.0",
      "model_name": "LayoutModel",
      "state": {}
     },
     "09f876b725dd4cab93fdc9948b5e1d42": {
      "model_module": "@jupyter-widgets/controls",
      "model_module_version": "1.5.0",
      "model_name": "FloatTextModel",
      "state": {
       "description": "Horizontal (m)",
       "layout": "IPY_MODEL_b30ea0de99c948be8cd3488a098337d9",
       "step": null,
       "style": "IPY_MODEL_3a0af4f84b214482bf11d059b7b62842",
       "value": 1000
      }
     },
     "09fc48994c24450392c76259c3615a59": {
      "model_module": "@jupyter-widgets/controls",
      "model_module_version": "1.5.0",
      "model_name": "DescriptionStyleModel",
      "state": {
       "description_width": "initial"
      }
     },
     "0a1960f75d03445694292f0f4424e79f": {
      "model_module": "@jupyter-widgets/controls",
      "model_module_version": "1.5.0",
      "model_name": "DescriptionStyleModel",
      "state": {
       "description_width": "initial"
      }
     },
     "0a37ae214f6249a3923484699a0e3c05": {
      "model_module": "@jupyter-widgets/base",
      "model_module_version": "1.2.0",
      "model_name": "LayoutModel",
      "state": {
       "width": "auto"
      }
     },
     "0a40fa5df1ce4432b6e3d8c133913fc9": {
      "model_module": "@jupyter-widgets/controls",
      "model_module_version": "1.5.0",
      "model_name": "VBoxModel",
      "state": {
       "children": [
        "IPY_MODEL_d9cf4b2dddbf4de993d7f8f860115f02",
        "IPY_MODEL_b7c7287e91b343d6bea55958e2832be9",
        "IPY_MODEL_02705e392d064216bef01c14a1a83172",
        "IPY_MODEL_c2cec9f8dd8340468a23662384253b07",
        "IPY_MODEL_3e626b5acfa24606b24134b53a171860",
        "IPY_MODEL_e4ec3090fc8d42478bb9dcbc3c2edc9d",
        "IPY_MODEL_8560c2bf4aa641d2a2dcf49956008f8c",
        "IPY_MODEL_84d383e5bb3a41b4ae46ccdafed668ef",
        "IPY_MODEL_87531c66012b4dc7ae3058cd4ae74391",
        "IPY_MODEL_b568e5a65e4f46bb8c9638d3db23a4e7"
       ],
       "layout": "IPY_MODEL_c1e355616f024a0790952d542bb582d3"
      }
     },
     "0a72fb6f280c4ebf9a1906221cf29547": {
      "model_module": "@jupyter-widgets/base",
      "model_module_version": "1.2.0",
      "model_name": "LayoutModel",
      "state": {
       "border": "solid"
      }
     },
     "0a74db8865174b73bb7d590cd81f3aa6": {
      "model_module": "@jupyter-widgets/controls",
      "model_module_version": "1.5.0",
      "model_name": "DescriptionStyleModel",
      "state": {
       "description_width": "initial"
      }
     },
     "0a7fdea6f0e24089b4ae813ea368f7f1": {
      "model_module": "@jupyter-widgets/base",
      "model_module_version": "1.2.0",
      "model_name": "LayoutModel",
      "state": {}
     },
     "0a941d60f4a74d018187f80bc1ccc9a1": {
      "model_module": "@jupyter-widgets/controls",
      "model_module_version": "1.5.0",
      "model_name": "DescriptionStyleModel",
      "state": {
       "description_width": ""
      }
     },
     "0a96ceb7a57d49d6b6ee4bfb016e38e4": {
      "model_module": "@jupyter-widgets/controls",
      "model_module_version": "1.5.0",
      "model_name": "ButtonModel",
      "state": {
       "description": "Change",
       "layout": "IPY_MODEL_54731ef881d7439b8c6f213b49b15dce",
       "style": "IPY_MODEL_c3cf9bbf192647789d4afb9aadbe28b2"
      }
     },
     "0ab7557d0cb94b2580e6d8c22627acb6": {
      "model_module": "@jupyter-widgets/base",
      "model_module_version": "1.2.0",
      "model_name": "LayoutModel",
      "state": {}
     },
     "0ac9d43627274859939b4b5552836e9d": {
      "model_module": "@jupyter-widgets/base",
      "model_module_version": "1.2.0",
      "model_name": "LayoutModel",
      "state": {
       "margin": "0 0 0 1em"
      }
     },
     "0acb293f95c24c9c8b4cb316bf8524f2": {
      "model_module": "@jupyter-widgets/controls",
      "model_module_version": "1.5.0",
      "model_name": "DescriptionStyleModel",
      "state": {
       "description_width": "initial"
      }
     },
     "0ace7ec6da0f4f2da5dfc57789d695d4": {
      "model_module": "@jupyter-widgets/controls",
      "model_module_version": "1.5.0",
      "model_name": "DropdownModel",
      "state": {
       "_options_labels": [
        "surface",
        "radial"
       ],
       "description": "Type",
       "index": 1,
       "layout": "IPY_MODEL_ffef4ea8d2fc42e89728003f33e4db31",
       "style": "IPY_MODEL_02460499cb444460a189488bc5832ed4"
      }
     },
     "0af773e52607432d89d47b848248f1a1": {
      "model_module": "@jupyter-widgets/controls",
      "model_module_version": "1.5.0",
      "model_name": "DescriptionStyleModel",
      "state": {
       "description_width": ""
      }
     },
     "0b07c21ecaa84b589fd47a8cfdd55ba1": {
      "model_module": "@jupyter-widgets/controls",
      "model_module_version": "1.5.0",
      "model_name": "DescriptionStyleModel",
      "state": {
       "description_width": ""
      }
     },
     "0b0f69f6b5a8455f9ee995940c2e1bc7": {
      "model_module": "@jupyter-widgets/controls",
      "model_module_version": "1.5.0",
      "model_name": "FloatTextModel",
      "state": {
       "description": "Horizontal (m)",
       "layout": "IPY_MODEL_f0611e42943b44b19a22b932df0d1e6a",
       "step": null,
       "style": "IPY_MODEL_a1671cd8a4134be7b61eb14f265f292b",
       "value": 1000
      }
     },
     "0b13e6cb1ea543f29fea94a9b472e070": {
      "model_module": "@jupyter-widgets/controls",
      "model_module_version": "1.5.0",
      "model_name": "FloatTextModel",
      "state": {
       "description": "Distance",
       "layout": "IPY_MODEL_18017cbbaebd48b19939dbff0f754369",
       "step": null,
       "style": "IPY_MODEL_a22ec37f561c4ef48f39e4ffd4b55602",
       "value": 1000
      }
     },
     "0b217fca53144ff8851344b9d856a88b": {
      "model_module": "@jupyter-widgets/controls",
      "model_module_version": "1.5.0",
      "model_name": "ButtonStyleModel",
      "state": {}
     },
     "0b61413dc6f645c391ae0994c5e23f19": {
      "model_module": "@jupyter-widgets/controls",
      "model_module_version": "1.5.0",
      "model_name": "DescriptionStyleModel",
      "state": {
       "description_width": ""
      }
     },
     "0b6238283ed049f39e2cfc9987a612b9": {
      "model_module": "@jupyter-widgets/controls",
      "model_module_version": "1.5.0",
      "model_name": "ButtonStyleModel",
      "state": {}
     },
     "0bc16494ff984b558800e430b1254123": {
      "model_module": "@jupyter-widgets/controls",
      "model_module_version": "1.5.0",
      "model_name": "DescriptionStyleModel",
      "state": {
       "description_width": ""
      }
     },
     "0bc5f01c98674a71ac40cbc78765a96c": {
      "model_module": "@jupyter-widgets/controls",
      "model_module_version": "1.5.0",
      "model_name": "FloatTextModel",
      "state": {
       "description": "Easting",
       "layout": "IPY_MODEL_ab6c7de8226c49738492aea9a1928277",
       "step": null,
       "style": "IPY_MODEL_fc76647714aa47ada7ab2f7231426816",
       "value": 25
      }
     },
     "0bd2540cabe7485b85e554b0c91dc099": {
      "model_module": "@jupyter-widgets/controls",
      "model_module_version": "1.5.0",
      "model_name": "DescriptionStyleModel",
      "state": {
       "description_width": ""
      }
     },
     "0bed60bea9ec4545980249b58bfdac4f": {
      "model_module": "@jupyter-widgets/base",
      "model_module_version": "1.2.0",
      "model_name": "LayoutModel",
      "state": {
       "display": "none"
      }
     },
     "0c03c27d30f84341bc1b13490e141388": {
      "model_module": "@jupyter-widgets/controls",
      "model_module_version": "1.5.0",
      "model_name": "DescriptionStyleModel",
      "state": {
       "description_width": "initial"
      }
     },
     "0c139f55e4d2414dbc49ada7686b4058": {
      "model_module": "@jupyter-widgets/controls",
      "model_module_version": "1.5.0",
      "model_name": "ButtonStyleModel",
      "state": {}
     },
     "0c2ddbc06eaa4d1eb50a0d12f6f7a4a0": {
      "model_module": "@jupyter-widgets/controls",
      "model_module_version": "1.5.0",
      "model_name": "TextModel",
      "state": {
       "description": "Levels",
       "layout": "IPY_MODEL_009536cafe314df2ac4d922d7fac4b7b",
       "style": "IPY_MODEL_b277dea13a884601925cfeebd1f59265",
       "value": "4, 4, 4"
      }
     },
     "0c45290aea0e47509008ed5bd67fcc59": {
      "model_module": "@jupyter-widgets/controls",
      "model_module_version": "1.5.0",
      "model_name": "BoxModel",
      "state": {
       "children": [
        "IPY_MODEL_f57e1a11b2644fe0a322c29a1595c5ad"
       ],
       "layout": "IPY_MODEL_437ac02863b5405b8e73f26d60f9830b"
      }
     },
     "0c60f4065ac940429c46672aef3af5b4": {
      "model_module": "@jupyter-widgets/controls",
      "model_module_version": "1.5.0",
      "model_name": "VBoxModel",
      "state": {
       "children": [
        "IPY_MODEL_07eb6f86878f46dea693ae01ab5fb7cf",
        "IPY_MODEL_62c3a4d1c7eb412fbebdc846baafbcb8",
        "IPY_MODEL_a840cf04a496439f86481fbe5ad242ed"
       ],
       "layout": "IPY_MODEL_65da8bf25b694b639aa7fdcde92f9b4b"
      }
     },
     "0c658cf3e8844408999563d189a8241a": {
      "model_module": "@jupyter-widgets/controls",
      "model_module_version": "1.5.0",
      "model_name": "DescriptionStyleModel",
      "state": {
       "description_width": "initial"
      }
     },
     "0c78d28b551442e4ab450d7fddde2c2c": {
      "model_module": "@jupyter-widgets/controls",
      "model_module_version": "1.5.0",
      "model_name": "DescriptionStyleModel",
      "state": {
       "description_width": ""
      }
     },
     "0c858a80aba144748efaaaf314853770": {
      "model_module": "@jupyter-widgets/base",
      "model_module_version": "1.2.0",
      "model_name": "LayoutModel",
      "state": {
       "grid_area": "pathlist",
       "width": "auto"
      }
     },
     "0cb3de1a04dc4a2492c7e79fc6752220": {
      "model_module": "@jupyter-widgets/base",
      "model_module_version": "1.2.0",
      "model_name": "LayoutModel",
      "state": {
       "display": "none",
       "grid_gap": "0px 0px",
       "grid_template_areas": "\n                    'pathlist pathlist'\n                    'dircontent dircontent'\n                    ",
       "grid_template_columns": "60% 40%",
       "grid_template_rows": "auto auto",
       "width": "500px"
      }
     },
     "0cc81bfefd7f47598dbc30fb77a67958": {
      "model_module": "@jupyter-widgets/controls",
      "model_module_version": "1.5.0",
      "model_name": "DescriptionStyleModel",
      "state": {
       "description_width": "initial"
      }
     },
     "0d02256ad10a4bf9bbca87876ae1402e": {
      "model_module": "@jupyter-widgets/controls",
      "model_module_version": "1.5.0",
      "model_name": "DescriptionStyleModel",
      "state": {
       "description_width": "initial"
      }
     },
     "0d1f3e0236ef49f98f4fca4d219c911f": {
      "model_module": "@jupyter-widgets/controls",
      "model_module_version": "1.5.0",
      "model_name": "DescriptionStyleModel",
      "state": {
       "description_width": ""
      }
     },
     "0d2746252beb44cb99118e3e777e81b0": {
      "model_module": "@jupyter-widgets/controls",
      "model_module_version": "1.5.0",
      "model_name": "DropdownModel",
      "state": {
       "_options_labels": [
        "",
        "Data_TEM_pseudo3DEPSG_4326",
        "Iso_Iteration_7_model_2_50e-03",
        "Iso_Iteration_7_model_1_00e-02",
        "Iso_Iteration_7_model_1_50e-02",
        "Iso_Iteration_7_model_2_00e-02",
        "Iso_Iteration_7_model_2_00e-02",
        "Iso_Iteration_7_model_5_00e-03",
        "Iso_Iteration_7_model_2_50e-03",
        "Iso_Iteration_7_model_1_50e-02",
        "Iso_Iteration_7_model_1_00e-02",
        "Iso_Iteration_7_model_5_00e-03",
        "fault_splay1",
        "fault_Cliff_Lake",
        "fault_Other_FlinFlon",
        "fault_Club_Lake_splay",
        "fault_Catherine_splay2",
        "fault_Birch_View",
        "fault_Dion_Lake",
        "fault_FlinFlon_splay",
        "fault_West_Mandy_Road",
        "fault_Channing",
        "fault_Ross_Lake",
        "fault_Louis_Hidden",
        "fault_Lake_View_thrust",
        "contact_Schist_Lake",
        "fault_Burley_Lake",
        "fault_Dion_Lake_splay",
        "fault_Green_Lake",
        "fault_FlinFlon",
        "fault_Catherine_splay1",
        "fault_East_Mandy_Road",
        "fault_Other_FlinFlon_South",
        "fault_Catherine_splay4",
        "contact_Stitt_Island",
        "fault_Club_Lake",
        "fault_Tailing_Pond",
        "35_Hidden_Reservoir_Hr5",
        "29_Hidden_Reservoir_Hr1a",
        "60_BlueLagoon_Fb2",
        "20_FlinFlon_Undivided_Int_Dykes_D2f",
        "04_Boundary_Intrusive_S4h",
        "53_Millrock_Rhyolite_Fm4b",
        "19_FlinFlon_Undivided_Int_Dykes_D2b",
        "18_FlinFlon_Undivided_Int_Dykes_777_D2b",
        "06_Phantom_Lake_Intrusive_S3a",
        "21_FlinFlon_Undivided_Int_Dykes_D3a",
        "43_Millrock_CHLSH_South",
        "56_Millrock_Basalt_Fm1ba",
        "17_FlinFlon_Undivided_Int_Dykes_D2",
        "32_Hidden_Reservoir_Hr1b_SW",
        "11_Missi_M3_NE",
        "13_Missi_M1",
        "07_Annabel_Granitoid_S1",
        "45_Millrock_Gabbro_South",
        "01_Late_Intrusive_S5b",
        "31_Hidden_Reservoir_Hr1c_SW",
        "52_Millrock_Rhyolite_Fm4_West_check",
        "55_Millrock_Basalt_Fm1bf",
        "34_Hidden_Reservoir_Hr2b",
        "03_Boundary_Intrusive_S4b",
        "42_Millrock_CHLSH_North",
        "26_Louis_L3",
        "23_FlinFlon_Undivided_Int_Felsic_D4g",
        "30_Hidden_Reservoir_Hr1b",
        "59_BlueLagoon_Fb3",
        "49_Millrock_MVR_Fm5d",
        "44_Millrock_Gabbro_North",
        "27_Hidden_Carlisle_Hc4",
        "22_FlinFlon_Undivided_Int_Felsic_D4e",
        "02_Boundary_Intrusive_S4a",
        "61_BlueLagoon_Fb1_NW",
        "05_Boundary_Intrusive_S4g",
        "39_Ore_Callinan",
        "38_Ore_Dan_Owens",
        "40_Ore_FlinFlon",
        "Inversion_VTEM_Model",
        "CDI_VTEM_model",
        "Data_FEM_pseudo3D",
        "geochem",
        "Inversion_DIGHEM_Model",
        "Topography",
        "Data_TEM_pseudo3D",
        "Data_ZTEM",
        "Mesh"
       ],
       "description": "Object",
       "index": 78,
       "layout": "IPY_MODEL_32bd04dc37d3470593a8ef3068b83e85",
       "style": "IPY_MODEL_8b9703428b2a42d7a2f513ccf40b9ac8"
      }
     },
     "0d358ab644484892a4a1a83bfe034a32": {
      "model_module": "@jupyter-widgets/controls",
      "model_module_version": "1.5.0",
      "model_name": "DescriptionStyleModel",
      "state": {
       "description_width": "initial"
      }
     },
     "0d3b8d4bd84d4ea9873ed4deab46efa1": {
      "model_module": "@jupyter-widgets/base",
      "model_module_version": "1.2.0",
      "model_name": "LayoutModel",
      "state": {
       "border": "solid"
      }
     },
     "0d3c68f69bb7444d88c9f1accfc9507a": {
      "model_module": "@jupyter-widgets/base",
      "model_module_version": "1.2.0",
      "model_name": "LayoutModel",
      "state": {}
     },
     "0d4da03cf7a44c2e9db304058f5a63d3": {
      "model_module": "@jupyter-widgets/controls",
      "model_module_version": "1.5.0",
      "model_name": "DescriptionStyleModel",
      "state": {
       "description_width": ""
      }
     },
     "0d7f38f015c2419da02d385b6a66239d": {
      "model_module": "@jupyter-widgets/base",
      "model_module_version": "1.2.0",
      "model_name": "LayoutModel",
      "state": {}
     },
     "0d8be26eb6364eb4868119f2b17e81b7": {
      "model_module": "@jupyter-widgets/controls",
      "model_module_version": "1.5.0",
      "model_name": "LabelModel",
      "state": {
       "layout": "IPY_MODEL_190f33905f324bc2b42b2691118fcd18",
       "style": "IPY_MODEL_d35d5cc1254c4c13a72d63984fa52963",
       "value": "Core cell size"
      }
     },
     "0d8dbb4d3996451fbad090183afdcbb5": {
      "model_module": "@jupyter-widgets/base",
      "model_module_version": "1.2.0",
      "model_name": "LayoutModel",
      "state": {
       "grid_area": "pathlist",
       "width": "auto"
      }
     },
     "0dcf5a34fdf44a278b1d4bd3ebceb9fe": {
      "model_module": "@jupyter-widgets/controls",
      "model_module_version": "1.5.0",
      "model_name": "TextModel",
      "state": {
       "disabled": true,
       "layout": "IPY_MODEL_ed6abdeaf5d1487cbef191318490379c",
       "placeholder": "output filename",
       "style": "IPY_MODEL_ed2fecfd0e5d43d09c6a4125c6f1ec36"
      }
     },
     "0dd6b5649bce42f2884bbb113456b824": {
      "model_module": "@jupyter-widgets/base",
      "model_module_version": "1.2.0",
      "model_name": "LayoutModel",
      "state": {
       "border": "solid"
      }
     },
     "0ddc1dec3ec74d6a91b69677b915355a": {
      "model_module": "@jupyter-widgets/controls",
      "model_module_version": "1.5.0",
      "model_name": "VBoxModel",
      "state": {
       "children": [
        "IPY_MODEL_45c3bb02ecc84ebcb33733594ff9ff72",
        "IPY_MODEL_bb310cdeb094426f8921f5a7db7e9343",
        "IPY_MODEL_24c820d13a104ea2abecd0f882a8176f"
       ],
       "layout": "IPY_MODEL_61b05afa0b6a4e9093fd15395459cd8c"
      }
     },
     "0de0bd7c7ff54ff3ac64507a80207eff": {
      "model_module": "@jupyter-widgets/controls",
      "model_module_version": "1.5.0",
      "model_name": "DescriptionStyleModel",
      "state": {
       "description_width": ""
      }
     },
     "0e060c1c6d7047aab858426f9b858940": {
      "model_module": "@jupyter-widgets/controls",
      "model_module_version": "1.5.0",
      "model_name": "DescriptionStyleModel",
      "state": {
       "description_width": "initial"
      }
     },
     "0e163795b26d45c7987c995fb7a4c96a": {
      "model_module": "@jupyter-widgets/base",
      "model_module_version": "1.2.0",
      "model_name": "LayoutModel",
      "state": {
       "width": "auto"
      }
     },
     "0e2e068c154046579bde937c9d9d3b3c": {
      "model_module": "@jupyter-widgets/controls",
      "model_module_version": "1.5.0",
      "model_name": "DescriptionStyleModel",
      "state": {
       "description_width": "initial"
      }
     },
     "0e3733375fb84f4fb29cdee98155a5ce": {
      "model_module": "@jupyter-widgets/controls",
      "model_module_version": "1.5.0",
      "model_name": "DescriptionStyleModel",
      "state": {
       "description_width": ""
      }
     },
     "0e473af57f66471a83a3602253ab92a2": {
      "model_module": "@jupyter-widgets/base",
      "model_module_version": "1.2.0",
      "model_name": "LayoutModel",
      "state": {}
     },
     "0e57486c797f43dbb8dcfe2e60d8429a": {
      "model_module": "@jupyter-widgets/base",
      "model_module_version": "1.2.0",
      "model_name": "LayoutModel",
      "state": {
       "display": "none"
      }
     },
     "0e77456f61924a64b3c25c725046dca5": {
      "model_module": "@jupyter-widgets/controls",
      "model_module_version": "1.5.0",
      "model_name": "DescriptionStyleModel",
      "state": {
       "description_width": "initial"
      }
     },
     "0eb41a70252a4f1e9861e5222a19cd06": {
      "model_module": "@jupyter-widgets/controls",
      "model_module_version": "1.5.0",
      "model_name": "DescriptionStyleModel",
      "state": {
       "description_width": "initial"
      }
     },
     "0eb8b4f7ca0944008710e9dd478912ba": {
      "model_module": "@jupyter-widgets/controls",
      "model_module_version": "1.5.0",
      "model_name": "DescriptionStyleModel",
      "state": {
       "description_width": "initial"
      }
     },
     "0ec22180fade42c0b87250783e4203ee": {
      "model_module": "@jupyter-widgets/controls",
      "model_module_version": "1.5.0",
      "model_name": "DescriptionStyleModel",
      "state": {
       "description_width": "initial"
      }
     },
     "0ed77630f16844d4b98b2b0bba83d68c": {
      "model_module": "@jupyter-widgets/controls",
      "model_module_version": "1.5.0",
      "model_name": "DescriptionStyleModel",
      "state": {
       "description_width": ""
      }
     },
     "0ee364fe80b24fe988d05ea178509338": {
      "model_module": "@jupyter-widgets/controls",
      "model_module_version": "1.5.0",
      "model_name": "TextModel",
      "state": {
       "description": "Levels",
       "layout": "IPY_MODEL_9f26b38ed26a4c70a9a9cb8b65f448aa",
       "style": "IPY_MODEL_13d78d465cdb4423bbd6d4afe73f3730",
       "value": "4.0, 4.0, 4.0"
      }
     },
     "0efdc4c5676b44138c4c5d30162db29d": {
      "model_module": "@jupyter-widgets/base",
      "model_module_version": "1.2.0",
      "model_name": "LayoutModel",
      "state": {
       "min_width": "6em",
       "width": "6em"
      }
     },
     "0f17961e552b460b9dfb64fb9bb0e7cc": {
      "model_module": "@jupyter-widgets/controls",
      "model_module_version": "1.5.0",
      "model_name": "DescriptionStyleModel",
      "state": {
       "description_width": ""
      }
     },
     "0f28f08d81b04f48bbd3d8db884f1f49": {
      "model_module": "@jupyter-widgets/controls",
      "model_module_version": "1.5.0",
      "model_name": "DescriptionStyleModel",
      "state": {
       "description_width": ""
      }
     },
     "0f38bd12db38429fb17dacae87d07e79": {
      "model_module": "@jupyter-widgets/base",
      "model_module_version": "1.2.0",
      "model_name": "LayoutModel",
      "state": {}
     },
     "0f3ab5e57d5144b1812c4e818ceff995": {
      "model_module": "@jupyter-widgets/controls",
      "model_module_version": "1.5.0",
      "model_name": "DescriptionStyleModel",
      "state": {
       "description_width": "initial"
      }
     },
     "0f5697c4dc88443caa9b621fd4d16dea": {
      "model_module": "@jupyter-widgets/controls",
      "model_module_version": "1.5.0",
      "model_name": "ButtonStyleModel",
      "state": {}
     },
     "0f59d179412d41abb468a241c5d318c3": {
      "model_module": "@jupyter-widgets/controls",
      "model_module_version": "1.5.0",
      "model_name": "DescriptionStyleModel",
      "state": {
       "description_width": ""
      }
     },
     "0f9bf64e625b439eb621508613c06ba5": {
      "model_module": "@jupyter-widgets/controls",
      "model_module_version": "1.5.0",
      "model_name": "DescriptionStyleModel",
      "state": {
       "description_width": "initial"
      }
     },
     "0fd212353f7f4a5ebb3f9c526153a24f": {
      "model_module": "@jupyter-widgets/controls",
      "model_module_version": "1.5.0",
      "model_name": "FloatTextModel",
      "state": {
       "description": "Vertical",
       "layout": "IPY_MODEL_e9193432a88a47ddbd6ea040c78f8b93",
       "step": null,
       "style": "IPY_MODEL_4cb54bccd87941f498f1219f16e1f612",
       "value": 25
      }
     },
     "0ffacb458426411188c6877042200500": {
      "model_module": "@jupyter-widgets/controls",
      "model_module_version": "1.5.0",
      "model_name": "GridBoxModel",
      "state": {
       "children": [
        "IPY_MODEL_05ad8002b3e94375a00d6dbe6cd1cf7a",
        "IPY_MODEL_98ae621e3002443cad80f3827dd518e9",
        "IPY_MODEL_5706392197f24166bf5ea63ad30565b5"
       ],
       "layout": "IPY_MODEL_908600697ce0432ba222d3d2034b706d"
      }
     },
     "101b944714204dfa93e50566110a8d52": {
      "model_module": "@jupyter-widgets/controls",
      "model_module_version": "1.5.0",
      "model_name": "DescriptionStyleModel",
      "state": {
       "description_width": "initial"
      }
     },
     "1020b8d23274455d8a7bcb921989890d": {
      "model_module": "@jupyter-widgets/base",
      "model_module_version": "1.2.0",
      "model_name": "LayoutModel",
      "state": {
       "min_width": "6em",
       "width": "6em"
      }
     },
     "1024ed8e47194d41b1bc3f8d3ffedf88": {
      "model_module": "@jupyter-widgets/controls",
      "model_module_version": "1.5.0",
      "model_name": "DescriptionStyleModel",
      "state": {
       "description_width": ""
      }
     },
     "10385ce15eea4a68b7cb6ca12f34c60d": {
      "model_module": "@jupyter-widgets/controls",
      "model_module_version": "1.5.0",
      "model_name": "DescriptionStyleModel",
      "state": {
       "description_width": ""
      }
     },
     "10423178326b47b08d17e2e0dce891eb": {
      "model_module": "@jupyter-widgets/controls",
      "model_module_version": "1.5.0",
      "model_name": "HBoxModel",
      "state": {
       "children": [
        "IPY_MODEL_846a075d76f640dfa00b9b6abafa3d35",
        "IPY_MODEL_f994cadf2e304e19835634d9039e9172"
       ],
       "layout": "IPY_MODEL_c827e52c857e46ac9da4c1dbbb5dadfe"
      }
     },
     "10452161072840bbb24233c454563416": {
      "model_module": "@jupyter-widgets/controls",
      "model_module_version": "1.5.0",
      "model_name": "HBoxModel",
      "state": {
       "children": [
        "IPY_MODEL_708365c33957429c9c963ed2ee249bf2",
        "IPY_MODEL_b492cde0e1534bf8bf76bae994795cd4",
        "IPY_MODEL_a5527b1db30e477da5c30fcc58e59631"
       ],
       "layout": "IPY_MODEL_7fd0c2a5eed74c39ba64507b4629b0db"
      }
     },
     "105dbf37c773497996454cc46723af15": {
      "model_module": "@jupyter-widgets/controls",
      "model_module_version": "1.5.0",
      "model_name": "ButtonStyleModel",
      "state": {}
     },
     "1089f7b8912946348cc24aec327d0235": {
      "model_module": "@jupyter-widgets/base",
      "model_module_version": "1.2.0",
      "model_name": "LayoutModel",
      "state": {}
     },
     "10a1f55c2727450787b7179c25f2db3b": {
      "model_module": "@jupyter-widgets/controls",
      "model_module_version": "1.5.0",
      "model_name": "SelectModel",
      "state": {
       "_options_labels": [
        "📁 ..",
        "📁 SimPEG_PFInversion"
       ],
       "index": null,
       "layout": "IPY_MODEL_a1ffc800a5fa4428aa777ae3fbae10df",
       "rows": 8,
       "style": "IPY_MODEL_8f35c12e13f840f597c65d1469394f54"
      }
     },
     "10afe62128bd4660a2be248eb0c4c70a": {
      "model_module": "@jupyter-widgets/controls",
      "model_module_version": "1.5.0",
      "model_name": "HTMLModel",
      "state": {
       "layout": "IPY_MODEL_16ade7f9270c464d9956157b05576bcf",
       "placeholder": "",
       "style": "IPY_MODEL_ec61cba37b8244b5b3ada6ecd25085a4",
       "value": "<span style=\"color:orange;\">C:\\Users\\dominiquef\\Documents\\GIT\\mira\\geoapps\\assets\\FlinFlon.geoh5</span>"
      }
     },
     "10bc59bdc3494012957fb026a7507981": {
      "model_module": "@jupyter-widgets/controls",
      "model_module_version": "1.5.0",
      "model_name": "ButtonModel",
      "state": {
       "description": "Change",
       "layout": "IPY_MODEL_7e6b328cac8a4f8b8c23098de830c490",
       "style": "IPY_MODEL_d8c2c90f50ea472da181bb2cd43c2aa5"
      }
     },
     "10c20eccb5874c2abe032448b2372b10": {
      "model_module": "@jupyter-widgets/controls",
      "model_module_version": "1.5.0",
      "model_name": "DescriptionStyleModel",
      "state": {
       "description_width": ""
      }
     },
     "10d33da758bd45dcb7a07acd8b5d5b37": {
      "model_module": "@jupyter-widgets/controls",
      "model_module_version": "1.5.0",
      "model_name": "DescriptionStyleModel",
      "state": {
       "description_width": "initial"
      }
     },
     "1108816960744c549b9a6d92308cb65e": {
      "model_module": "@jupyter-widgets/controls",
      "model_module_version": "1.5.0",
      "model_name": "DescriptionStyleModel",
      "state": {
       "description_width": "initial"
      }
     },
     "11170fd63aa64f3ab8c53624ce57d40b": {
      "model_module": "@jupyter-widgets/controls",
      "model_module_version": "1.5.0",
      "model_name": "DescriptionStyleModel",
      "state": {
       "description_width": "initial"
      }
     },
     "111a5f4015df4ec0928b73de98da2072": {
      "model_module": "@jupyter-widgets/base",
      "model_module_version": "1.2.0",
      "model_name": "LayoutModel",
      "state": {}
     },
     "1151dd5783fa4df08aee4e27c14e4273": {
      "model_module": "@jupyter-widgets/controls",
      "model_module_version": "1.5.0",
      "model_name": "DescriptionStyleModel",
      "state": {
       "description_width": "initial"
      }
     },
     "11acff54e55f4c8d893e0c3431fc166f": {
      "model_module": "@jupyter-widgets/controls",
      "model_module_version": "1.5.0",
      "model_name": "DescriptionStyleModel",
      "state": {
       "description_width": ""
      }
     },
     "11bbe4b260724accb5901c06e4cae6af": {
      "model_module": "@jupyter-widgets/controls",
      "model_module_version": "1.5.0",
      "model_name": "HTMLModel",
      "state": {
       "layout": "IPY_MODEL_de12992291f4464f94bdef2686f12945",
       "style": "IPY_MODEL_05a20e6c38524d568b0c8824ee10d842"
      }
     },
     "11be6772008647708a1e6aac44d15380": {
      "model_module": "@jupyter-widgets/controls",
      "model_module_version": "1.5.0",
      "model_name": "DescriptionStyleModel",
      "state": {
       "description_width": "initial"
      }
     },
     "11bfe61d657c4f9bbc6fff9ea10d1f29": {
      "model_module": "@jupyter-widgets/controls",
      "model_module_version": "1.5.0",
      "model_name": "DescriptionStyleModel",
      "state": {
       "description_width": "initial"
      }
     },
     "11c50671557347f79c4d4f7718f3b5e4": {
      "model_module": "@jupyter-widgets/base",
      "model_module_version": "1.2.0",
      "model_name": "LayoutModel",
      "state": {}
     },
     "11cd357759a14d81a5d251f15931903b": {
      "model_module": "@jupyter-widgets/controls",
      "model_module_version": "1.5.0",
      "model_name": "LabelModel",
      "state": {
       "layout": "IPY_MODEL_b5c2f553fc204eb89795efced261464b",
       "style": "IPY_MODEL_cfa633cc67dc4f60b5a1c9eb4ff900f5",
       "value": "Refinement a "
      }
     },
     "11fb7a83a16142468004d47cc041ab78": {
      "model_module": "@jupyter-widgets/controls",
      "model_module_version": "1.5.0",
      "model_name": "ButtonModel",
      "state": {
       "button_style": "danger",
       "description": "Create",
       "icon": "check",
       "layout": "IPY_MODEL_b730a59da41b47d1b55a58645ce21d02",
       "style": "IPY_MODEL_bd850539cf9e4a0b84d51c7d326c14f6",
       "tooltip": "Run computation"
      }
     },
     "121abd49935144ba8da5743a95b1b41a": {
      "model_module": "@jupyter-widgets/base",
      "model_module_version": "1.2.0",
      "model_name": "LayoutModel",
      "state": {}
     },
     "122ab45f595048849c2e44e2a80e6e9b": {
      "model_module": "@jupyter-widgets/controls",
      "model_module_version": "1.5.0",
      "model_name": "ButtonStyleModel",
      "state": {}
     },
     "122c55037fe945e18fef2d7e70c5f777": {
      "model_module": "@jupyter-widgets/controls",
      "model_module_version": "1.5.0",
      "model_name": "DescriptionStyleModel",
      "state": {
       "description_width": ""
      }
     },
     "1232968ac60441a28befbc235ab4f46a": {
      "model_module": "@jupyter-widgets/controls",
      "model_module_version": "1.5.0",
      "model_name": "LabelModel",
      "state": {
       "layout": "IPY_MODEL_9e8e5cd18dc94803a55b10e973b5e65d",
       "style": "IPY_MODEL_1dcca925b2244d3286aac7ae9fcb9e32",
       "value": "Core cell size"
      }
     },
     "127056b2ca364faf8b1f48dcc7841321": {
      "model_module": "@jupyter-widgets/controls",
      "model_module_version": "1.5.0",
      "model_name": "FloatTextModel",
      "state": {
       "description": "Minimum depth (m)",
       "layout": "IPY_MODEL_3cc57dadefbc4a9ca35d1bf0ac0d3a07",
       "step": null,
       "style": "IPY_MODEL_30a59511531843d0a022eddc69fd5494",
       "value": 500
      }
     },
     "12ecbdd6fa46489e9628fed68dcf34c2": {
      "model_module": "@jupyter-widgets/controls",
      "model_module_version": "1.5.0",
      "model_name": "DescriptionStyleModel",
      "state": {
       "description_width": "initial"
      }
     },
     "12ef5a90bde44e66987ae31aa981a870": {
      "model_module": "@jupyter-widgets/controls",
      "model_module_version": "1.5.0",
      "model_name": "DescriptionStyleModel",
      "state": {
       "description_width": ""
      }
     },
     "12f71c2e23fc4e91a6eeed39d010ab5c": {
      "model_module": "@jupyter-widgets/controls",
      "model_module_version": "1.5.0",
      "model_name": "LabelModel",
      "state": {
       "layout": "IPY_MODEL_a0c0b288266742f1b3a5dd53912cd316",
       "style": "IPY_MODEL_439b2bdd2eb64997ab72a0857a5a4ca7",
       "value": "Monitoring folder"
      }
     },
     "133ba4c745ec48fda103674e2bdd658e": {
      "model_module": "@jupyter-widgets/controls",
      "model_module_version": "1.5.0",
      "model_name": "DescriptionStyleModel",
      "state": {
       "description_width": ""
      }
     },
     "136f1e1a4ad941eeac64324fa3d90927": {
      "model_module": "@jupyter-widgets/controls",
      "model_module_version": "1.5.0",
      "model_name": "DescriptionStyleModel",
      "state": {
       "description_width": ""
      }
     },
     "13956e3c5cfe4d30b3de111b85c169d8": {
      "model_module": "@jupyter-widgets/base",
      "model_module_version": "1.2.0",
      "model_name": "LayoutModel",
      "state": {}
     },
     "13a6902353d34c4ca71fcaea8220567c": {
      "model_module": "@jupyter-widgets/controls",
      "model_module_version": "1.5.0",
      "model_name": "DescriptionStyleModel",
      "state": {
       "description_width": ""
      }
     },
     "13b6bc825e4a486eb9d0c390574672d3": {
      "model_module": "@jupyter-widgets/base",
      "model_module_version": "1.2.0",
      "model_name": "LayoutModel",
      "state": {
       "grid_area": "dircontent",
       "width": "auto"
      }
     },
     "13b86df747dc4fd9bc56eb1feda04dc5": {
      "model_module": "@jupyter-widgets/controls",
      "model_module_version": "1.5.0",
      "model_name": "DescriptionStyleModel",
      "state": {
       "description_width": "initial"
      }
     },
     "13d78d465cdb4423bbd6d4afe73f3730": {
      "model_module": "@jupyter-widgets/controls",
      "model_module_version": "1.5.0",
      "model_name": "DescriptionStyleModel",
      "state": {
       "description_width": "initial"
      }
     },
     "13e2f943394b4357a43b2cc5aca222a3": {
      "model_module": "@jupyter-widgets/controls",
      "model_module_version": "1.5.0",
      "model_name": "LabelModel",
      "state": {
       "layout": "IPY_MODEL_6e361686aa1447dab337aedece93de84",
       "style": "IPY_MODEL_ab0b934db0f347daa0dc862ba526cf74",
       "value": "Base Parameters"
      }
     },
     "13e9f79dd1bf443eb287e9341e15fe1d": {
      "model_module": "@jupyter-widgets/controls",
      "model_module_version": "1.5.0",
      "model_name": "DropdownModel",
      "state": {
       "_options_labels": [
        "C:\\Users\\dominiquef\\Documents\\GIT\\mira\\geoapps\\assets\\Temp",
        "C:\\Users\\dominiquef\\Documents\\GIT\\mira\\geoapps\\assets",
        "C:\\Users\\dominiquef\\Documents\\GIT\\mira\\geoapps",
        "C:\\Users\\dominiquef\\Documents\\GIT\\mira",
        "C:\\Users\\dominiquef\\Documents\\GIT",
        "C:\\Users\\dominiquef\\Documents",
        "C:\\Users\\dominiquef",
        "C:\\Users",
        "C:\\",
        "D:\\",
        "G:\\",
        "\\\\EgnyteDrive\\mirageoscience\\"
       ],
       "index": 0,
       "layout": "IPY_MODEL_b8de6c5201264d958a02411e2a7bcb39",
       "style": "IPY_MODEL_5af8b8e1049d41fc819de324cf90fd2d"
      }
     },
     "140179808f6d4b17a78eee8fb71215f3": {
      "model_module": "@jupyter-widgets/base",
      "model_module_version": "1.2.0",
      "model_name": "LayoutModel",
      "state": {
       "width": "auto"
      }
     },
     "141a8652b0df461facfc67bea281200e": {
      "model_module": "@jupyter-widgets/controls",
      "model_module_version": "1.5.0",
      "model_name": "DescriptionStyleModel",
      "state": {
       "description_width": "initial"
      }
     },
     "1426e27f86cc4d718352b77c8a4f95a1": {
      "model_module": "@jupyter-widgets/base",
      "model_module_version": "1.2.0",
      "model_name": "LayoutModel",
      "state": {
       "border": "solid"
      }
     },
     "143f206d53994ca6a3919e071e01c8f8": {
      "model_module": "@jupyter-widgets/base",
      "model_module_version": "1.2.0",
      "model_name": "LayoutModel",
      "state": {}
     },
     "14aa3696c9194111a796c69219b5d077": {
      "model_module": "@jupyter-widgets/controls",
      "model_module_version": "1.5.0",
      "model_name": "DescriptionStyleModel",
      "state": {
       "description_width": "initial"
      }
     },
     "14ba75f89de541d29b29465cae47e6b6": {
      "model_module": "@jupyter-widgets/controls",
      "model_module_version": "1.5.0",
      "model_name": "ButtonStyleModel",
      "state": {}
     },
     "14cc11239d6e4eb8a4e1313ee2dd324c": {
      "model_module": "@jupyter-widgets/controls",
      "model_module_version": "1.5.0",
      "model_name": "DescriptionStyleModel",
      "state": {
       "description_width": "initial"
      }
     },
     "14cdde2355374bf48a6e7d103f06c416": {
      "model_module": "@jupyter-widgets/controls",
      "model_module_version": "1.5.0",
      "model_name": "DescriptionStyleModel",
      "state": {
       "description_width": "initial"
      }
     },
     "14e4d4e43be54718acc944079e683225": {
      "model_module": "@jupyter-widgets/controls",
      "model_module_version": "1.5.0",
      "model_name": "DescriptionStyleModel",
      "state": {
       "description_width": "initial"
      }
     },
     "14eae3d3f33744ed8c042d5c84ce1051": {
      "model_module": "@jupyter-widgets/controls",
      "model_module_version": "1.5.0",
      "model_name": "FloatTextModel",
      "state": {
       "description": "Northing",
       "layout": "IPY_MODEL_42ef745871bf404eaf3c415ddefe001c",
       "step": null,
       "style": "IPY_MODEL_6a0b4900c23a41b9898bbad021598a59",
       "value": 25
      }
     },
     "151a176d66e3472381c132db5032c0c3": {
      "model_module": "@jupyter-widgets/base",
      "model_module_version": "1.2.0",
      "model_name": "LayoutModel",
      "state": {
       "display": "none",
       "grid_gap": "0px 0px",
       "grid_template_areas": "\n                    'pathlist filename'\n                    'dircontent dircontent'\n                    ",
       "grid_template_columns": "60% 40%",
       "grid_template_rows": "auto auto",
       "width": "auto"
      }
     },
     "1548d0a2854c4bf2bd27a959a55c928c": {
      "model_module": "@jupyter-widgets/controls",
      "model_module_version": "1.5.0",
      "model_name": "DescriptionStyleModel",
      "state": {
       "description_width": "initial"
      }
     },
     "154db765602e4e4fa3f13ba3f8f9cd75": {
      "model_module": "@jupyter-widgets/controls",
      "model_module_version": "1.5.0",
      "model_name": "DescriptionStyleModel",
      "state": {
       "description_width": ""
      }
     },
     "1551a3ffb84d4e7db8ae4b0702b016ac": {
      "model_module": "@jupyter-widgets/controls",
      "model_module_version": "1.5.0",
      "model_name": "DescriptionStyleModel",
      "state": {
       "description_width": ""
      }
     },
     "158e1b5e70d9461aaa7d6ebf3daf6142": {
      "model_module": "@jupyter-widgets/base",
      "model_module_version": "1.2.0",
      "model_name": "LayoutModel",
      "state": {}
     },
     "15b3e9604baa45d5a527e81c1e6d7461": {
      "model_module": "@jupyter-widgets/controls",
      "model_module_version": "1.5.0",
      "model_name": "DescriptionStyleModel",
      "state": {
       "description_width": "initial"
      }
     },
     "15beb09130754d178d3288309f5086d2": {
      "model_module": "@jupyter-widgets/controls",
      "model_module_version": "1.5.0",
      "model_name": "DescriptionStyleModel",
      "state": {
       "description_width": ""
      }
     },
     "15c3113a5eb2441285b77a7fad51d7e5": {
      "model_module": "@jupyter-widgets/base",
      "model_module_version": "1.2.0",
      "model_name": "LayoutModel",
      "state": {}
     },
     "15f4c5450279487c8b5de9ab0e638021": {
      "model_module": "@jupyter-widgets/controls",
      "model_module_version": "1.5.0",
      "model_name": "DescriptionStyleModel",
      "state": {
       "description_width": "initial"
      }
     },
     "160f035f28c743b28249ec2d8634109e": {
      "model_module": "@jupyter-widgets/controls",
      "model_module_version": "1.5.0",
      "model_name": "VBoxModel",
      "state": {
       "children": [
        "IPY_MODEL_f72149081d624ed5a94a8b56ba944db1",
        "IPY_MODEL_8413eb315b9a4db3b178d06298f4bef4",
        "IPY_MODEL_80acefa479f94931be94721c7cc7163c",
        "IPY_MODEL_839219075ed54e55b122dab2dc09862a",
        "IPY_MODEL_5d691e4dac4d4b519d82b617ee100d4e"
       ],
       "layout": "IPY_MODEL_a32d2766795d40f49d1e9a21e3c621b8"
      }
     },
     "16106a74fd454c0dadf5359d3e2c9820": {
      "model_module": "@jupyter-widgets/base",
      "model_module_version": "1.2.0",
      "model_name": "LayoutModel",
      "state": {
       "display": "none",
       "grid_gap": "0px 0px",
       "grid_template_areas": "\n                    'pathlist pathlist'\n                    'dircontent dircontent'\n                    ",
       "grid_template_columns": "60% 40%",
       "grid_template_rows": "auto auto",
       "width": "500px"
      }
     },
     "1617f55f169c4b8fa5e8a9741499e700": {
      "model_module": "@jupyter-widgets/base",
      "model_module_version": "1.2.0",
      "model_name": "LayoutModel",
      "state": {}
     },
     "162439ef8ae6479c9c8d0f933eb740d1": {
      "model_module": "@jupyter-widgets/controls",
      "model_module_version": "1.5.0",
      "model_name": "DescriptionStyleModel",
      "state": {
       "description_width": ""
      }
     },
     "162b8be8dd284ec2bd46780c5f212385": {
      "model_module": "@jupyter-widgets/controls",
      "model_module_version": "1.5.0",
      "model_name": "VBoxModel",
      "state": {
       "children": [
        "IPY_MODEL_959c9fbfe60947c1965d90b4b75b6fb2",
        "IPY_MODEL_062d9e888a1545fd8ebeac0cf2062333",
        "IPY_MODEL_127056b2ca364faf8b1f48dcc7841321",
        "IPY_MODEL_c44b7820900a468da362adcc8229e286",
        "IPY_MODEL_c27d4cbad213439b903f960897ef0c3c",
        "IPY_MODEL_858a8844712d4e77b1bf0ed27af354d4",
        "IPY_MODEL_d8c9b24fc64a47c58704a93c650de1a9",
        "IPY_MODEL_1bbb5577651e428e8ac0596e06fdb335",
        "IPY_MODEL_580a90c51f324417b9cb769c2a63e3fd",
        "IPY_MODEL_f52f0eb3844846319ed0b329f5d2e8d9"
       ],
       "layout": "IPY_MODEL_4d5199bc6c3a4e3fb658aa2d0463f71d"
      }
     },
     "16394789afdb4c6cb31d02d39e7ee417": {
      "model_module": "@jupyter-widgets/controls",
      "model_module_version": "1.5.0",
      "model_name": "VBoxModel",
      "state": {
       "children": [
        "IPY_MODEL_c7f9876eb6494013ac8f4287dd62a95b",
        "IPY_MODEL_b1f891debe5f4053ae5b9ce20e722c79"
       ],
       "layout": "IPY_MODEL_88057524de6c419baea00df7bf642ddb"
      }
     },
     "166417344a574773944d6f428ccee0ac": {
      "model_module": "@jupyter-widgets/controls",
      "model_module_version": "1.5.0",
      "model_name": "VBoxModel",
      "state": {
       "children": [
        "IPY_MODEL_d6166ea44be44fc1a3c5e9f004511e74",
        "IPY_MODEL_20913cb4a36a489aaf21f4c377e310f3"
       ],
       "layout": "IPY_MODEL_40543b66b6ed47c699f59981c621ece6"
      }
     },
     "1673d23e0f4943c399a75be6ccca605f": {
      "model_module": "@jupyter-widgets/controls",
      "model_module_version": "1.5.0",
      "model_name": "DescriptionStyleModel",
      "state": {
       "description_width": ""
      }
     },
     "169089ed128e48a0a010864143b625c0": {
      "model_module": "@jupyter-widgets/base",
      "model_module_version": "1.2.0",
      "model_name": "LayoutModel",
      "state": {}
     },
     "1695d4b70454442091ced5035f110d7e": {
      "model_module": "@jupyter-widgets/controls",
      "model_module_version": "1.5.0",
      "model_name": "DescriptionStyleModel",
      "state": {
       "description_width": "initial"
      }
     },
     "16ade7f9270c464d9956157b05576bcf": {
      "model_module": "@jupyter-widgets/base",
      "model_module_version": "1.2.0",
      "model_name": "LayoutModel",
      "state": {
       "margin": "0 0 0 1em"
      }
     },
     "16d0516474274a6c831bb70646d36141": {
      "model_module": "@jupyter-widgets/controls",
      "model_module_version": "1.5.0",
      "model_name": "DescriptionStyleModel",
      "state": {
       "description_width": "initial"
      }
     },
     "16e4482a85434b71888e7b21aa298dde": {
      "model_module": "@jupyter-widgets/controls",
      "model_module_version": "1.5.0",
      "model_name": "DescriptionStyleModel",
      "state": {
       "description_width": ""
      }
     },
     "16f3839853904ef9b7f40cb1a192746d": {
      "model_module": "@jupyter-widgets/controls",
      "model_module_version": "1.5.0",
      "model_name": "HTMLModel",
      "state": {
       "layout": "IPY_MODEL_a73aec9b9a174772991199b23b641174",
       "placeholder": "",
       "style": "IPY_MODEL_fa1618ef5d7b4dbd8596f5a4ec5c205b",
       "value": "<span style=\"color:green;\">C:\\Users\\dominiquef\\Documents\\GIT\\mira\\geoapps\\assets\\Temp\\</span>"
      }
     },
     "173b71479e2947fc812af45be85281e3": {
      "model_module": "@jupyter-widgets/controls",
      "model_module_version": "1.5.0",
      "model_name": "DescriptionStyleModel",
      "state": {
       "description_width": "initial"
      }
     },
     "175f34f822b64d82a606d63064fad604": {
      "model_module": "@jupyter-widgets/controls",
      "model_module_version": "1.5.0",
      "model_name": "HTMLModel",
      "state": {
       "layout": "IPY_MODEL_6d3eab93fbef47e3b0e1cdf3ef20a530",
       "placeholder": "",
       "style": "IPY_MODEL_4bca13ccfd3e4f5985e6f2f0cb94ea81",
       "value": "<span style=\"color:orange;\">C:\\Users\\dominiquef\\Documents\\GIT\\mira\\geoapps\\assets\\FlinFlon.geoh5</span>"
      }
     },
     "1762f93a8d7e48df8cbc7fc538397313": {
      "model_module": "@jupyter-widgets/controls",
      "model_module_version": "1.5.0",
      "model_name": "DescriptionStyleModel",
      "state": {
       "description_width": ""
      }
     },
     "1768c65a09e04732acd7c25afa85abd3": {
      "model_module": "@jupyter-widgets/base",
      "model_module_version": "1.2.0",
      "model_name": "LayoutModel",
      "state": {}
     },
     "1784dfadae9f4e63aaad4a362e502f0e": {
      "model_module": "@jupyter-widgets/base",
      "model_module_version": "1.2.0",
      "model_name": "LayoutModel",
      "state": {}
     },
     "17904a923cbb467eafede9d71f25820c": {
      "model_module": "@jupyter-widgets/controls",
      "model_module_version": "1.5.0",
      "model_name": "DescriptionStyleModel",
      "state": {
       "description_width": ""
      }
     },
     "17bfbe6c967646bbaf5d405c589a0be2": {
      "model_module": "@jupyter-widgets/controls",
      "model_module_version": "1.5.0",
      "model_name": "DescriptionStyleModel",
      "state": {
       "description_width": ""
      }
     },
     "17c606e343e644638df6f5d4a6ce9587": {
      "model_module": "@jupyter-widgets/controls",
      "model_module_version": "1.5.0",
      "model_name": "LabelModel",
      "state": {
       "layout": "IPY_MODEL_3af33c3faa65461596aaddbcb572a4d7",
       "style": "IPY_MODEL_4cff4a0d6f5a4bf5bc82477969fe2430",
       "value": "Workspace"
      }
     },
     "17f1350946b6455185fb453f24b661e5": {
      "model_module": "@jupyter-widgets/base",
      "model_module_version": "1.2.0",
      "model_name": "LayoutModel",
      "state": {}
     },
     "18017cbbaebd48b19939dbff0f754369": {
      "model_module": "@jupyter-widgets/base",
      "model_module_version": "1.2.0",
      "model_name": "LayoutModel",
      "state": {}
     },
     "1858312261aa4a0ea44b619205c908a2": {
      "model_module": "@jupyter-widgets/base",
      "model_module_version": "1.2.0",
      "model_name": "LayoutModel",
      "state": {
       "overflow": "auto"
      }
     },
     "1874d0e6200e403294ccd0fa5c1f3217": {
      "model_module": "@jupyter-widgets/controls",
      "model_module_version": "1.5.0",
      "model_name": "DescriptionStyleModel",
      "state": {
       "description_width": ""
      }
     },
     "1888b4baab594589b0d36f57f653a597": {
      "model_module": "@jupyter-widgets/controls",
      "model_module_version": "1.5.0",
      "model_name": "DescriptionStyleModel",
      "state": {
       "description_width": ""
      }
     },
     "18bdd42396ee44ee84428ea87f4afdbc": {
      "model_module": "@jupyter-widgets/controls",
      "model_module_version": "1.5.0",
      "model_name": "ButtonModel",
      "state": {
       "description": "Change",
       "layout": "IPY_MODEL_a6e634144a4f45af961be1fd57c15c09",
       "style": "IPY_MODEL_3bd3a454799f49d68fb65474efbfc64f"
      }
     },
     "18d99342432145fd97cadefc02d2cdda": {
      "model_module": "@jupyter-widgets/controls",
      "model_module_version": "1.5.0",
      "model_name": "DescriptionStyleModel",
      "state": {
       "description_width": "initial"
      }
     },
     "18fcf599b95b4162ad938cf3543dc79b": {
      "model_module": "@jupyter-widgets/controls",
      "model_module_version": "1.5.0",
      "model_name": "VBoxModel",
      "state": {
       "children": [
        "IPY_MODEL_12f71c2e23fc4e91a6eeed39d010ab5c",
        "IPY_MODEL_727885aa0a5447eb8745dcf860e163e3"
       ],
       "layout": "IPY_MODEL_f271408e229f4126964e3c8b177e4042"
      }
     },
     "190f33905f324bc2b42b2691118fcd18": {
      "model_module": "@jupyter-widgets/base",
      "model_module_version": "1.2.0",
      "model_name": "LayoutModel",
      "state": {}
     },
     "1927c2703fad45bcb7e155c30b752a22": {
      "model_module": "@jupyter-widgets/controls",
      "model_module_version": "1.5.0",
      "model_name": "LabelModel",
      "state": {
       "layout": "IPY_MODEL_a7c1c06dc4304b639f9bf9571287d7f8",
       "style": "IPY_MODEL_267b5f37da304fc7b18933121b702978",
       "value": "Core cell size"
      }
     },
     "1942c1edabfc49bb9cfd49e3249c9a56": {
      "model_module": "@jupyter-widgets/controls",
      "model_module_version": "1.5.0",
      "model_name": "DescriptionStyleModel",
      "state": {
       "description_width": "initial"
      }
     },
     "194775cbe3b44a558a2666b20b391710": {
      "model_module": "@jupyter-widgets/controls",
      "model_module_version": "1.5.0",
      "model_name": "DescriptionStyleModel",
      "state": {
       "description_width": "initial"
      }
     },
     "1989dde5949f43368db8865fb7e19255": {
      "model_module": "@jupyter-widgets/base",
      "model_module_version": "1.2.0",
      "model_name": "LayoutModel",
      "state": {}
     },
     "198dee6309574a048a94f0ff3fd9d3e7": {
      "model_module": "@jupyter-widgets/controls",
      "model_module_version": "1.5.0",
      "model_name": "DropdownModel",
      "state": {
       "_options_labels": [
        "",
        "--- Channels ---",
        "CPI56k",
        "CPI7200",
        "CPI900",
        "CPQ56k",
        "CPQ7200",
        "CPQ900",
        "DEM",
        "Line",
        "Z"
       ],
       "description": "Data: ",
       "index": 0,
       "layout": "IPY_MODEL_d21849d7be4249c68271aef48507ed8e",
       "style": "IPY_MODEL_be517786bcf24c4c828e29db6bce369f"
      }
     },
     "19990c20be3648c298ff61ef0d882e52": {
      "model_module": "@jupyter-widgets/controls",
      "model_module_version": "1.5.0",
      "model_name": "FloatTextModel",
      "state": {
       "description": "Northing",
       "layout": "IPY_MODEL_2b2c10c6556947c4a46a081a9284eb59",
       "step": null,
       "style": "IPY_MODEL_a4fe359dda3a4dd9addb5b1d82daea63",
       "value": 25
      }
     },
     "19ac1d10b14e4952999388be5e61f301": {
      "model_module": "@jupyter-widgets/base",
      "model_module_version": "1.2.0",
      "model_name": "LayoutModel",
      "state": {
       "display": "none"
      }
     },
     "19b2d3cd9cd34f398010e681783a7471": {
      "model_module": "@jupyter-widgets/controls",
      "model_module_version": "1.5.0",
      "model_name": "DescriptionStyleModel",
      "state": {
       "description_width": "initial"
      }
     },
     "19b3ce1cee6843a08dd157983f34d172": {
      "model_module": "@jupyter-widgets/controls",
      "model_module_version": "1.5.0",
      "model_name": "HTMLModel",
      "state": {
       "layout": "IPY_MODEL_9c0bab3c30ac454d8ebe1d43dbfaeaad",
       "placeholder": "",
       "style": "IPY_MODEL_b047ebedbaa747179950dc645154c4b9",
       "value": "<span style=\"margin-left:10px; color:black;\">No file selected</span>"
      }
     },
     "19bfe02d151e41289afdd548709fc578": {
      "model_module": "@jupyter-widgets/controls",
      "model_module_version": "1.5.0",
      "model_name": "DescriptionStyleModel",
      "state": {
       "description_width": ""
      }
     },
     "19c03b01fa064d1baf83cd1c1499c1e8": {
      "model_module": "@jupyter-widgets/controls",
      "model_module_version": "1.5.0",
      "model_name": "DescriptionStyleModel",
      "state": {
       "description_width": ""
      }
     },
     "19d8491c714b44dc94042a0de541ecdd": {
      "model_module": "@jupyter-widgets/base",
      "model_module_version": "1.2.0",
      "model_name": "LayoutModel",
      "state": {}
     },
     "1a09531fe8424e87a9552d6c45c63a8f": {
      "model_module": "@jupyter-widgets/controls",
      "model_module_version": "1.5.0",
      "model_name": "GridBoxModel",
      "state": {
       "children": [
        "IPY_MODEL_e2a4c4f0f716469281d38611b20f8abb",
        "IPY_MODEL_fd098ca3ba9144359930ddff87264ace",
        "IPY_MODEL_6be10ae7f1a34604941bb9e1d155f489"
       ],
       "layout": "IPY_MODEL_46f7fd45bf5a402ba5e0195cc911dd45"
      }
     },
     "1a133f886abb4e9896a9039f0ef0a804": {
      "model_module": "@jupyter-widgets/base",
      "model_module_version": "1.2.0",
      "model_name": "LayoutModel",
      "state": {}
     },
     "1a2c36d39fb8483c91722540024e1c57": {
      "model_module": "@jupyter-widgets/controls",
      "model_module_version": "1.5.0",
      "model_name": "VBoxModel",
      "state": {
       "children": [
        "IPY_MODEL_ecaa0c1dbe614f52a83acd5c06fe54a8"
       ],
       "layout": "IPY_MODEL_0678188c373c48d5ada6751bf1afff3d"
      }
     },
     "1a39706ef4ef4be5b9f640d7bd97320e": {
      "model_module": "@jupyter-widgets/controls",
      "model_module_version": "1.5.0",
      "model_name": "FloatTextModel",
      "state": {
       "description": "Distance",
       "layout": "IPY_MODEL_2649dea7d1bf4355b6ee2f6e4ec707ba",
       "step": null,
       "style": "IPY_MODEL_d40642b06f11413a9a48a00127a44673",
       "value": 1200
      }
     },
     "1a3f3da866ac401fac53489d258a693f": {
      "model_module": "@jupyter-widgets/base",
      "model_module_version": "1.2.0",
      "model_name": "LayoutModel",
      "state": {}
     },
     "1a41f846a4234e82951a55bf0cea2911": {
      "model_module": "@jupyter-widgets/controls",
      "model_module_version": "1.5.0",
      "model_name": "ButtonModel",
      "state": {
       "description": "Cancel",
       "layout": "IPY_MODEL_4afe842725bf4f958f8d860235edd9bc",
       "style": "IPY_MODEL_b01eb4bed2c44acdb979c7adc8112c10"
      }
     },
     "1a6af5a733bd48ea89652f8c0bd97929": {
      "model_module": "@jupyter-widgets/base",
      "model_module_version": "1.2.0",
      "model_name": "LayoutModel",
      "state": {
       "width": "auto"
      }
     },
     "1a895fb9cfbe45a180dec6d9ca293825": {
      "model_module": "@jupyter-widgets/base",
      "model_module_version": "1.2.0",
      "model_name": "LayoutModel",
      "state": {
       "display": "none",
       "width": "auto"
      }
     },
     "1a923deaf2ff45a4b5de70a363421589": {
      "model_module": "@jupyter-widgets/base",
      "model_module_version": "1.2.0",
      "model_name": "LayoutModel",
      "state": {
       "width": "auto"
      }
     },
     "1a97ccce1bf44a29a76df0140b0c7eeb": {
      "model_module": "@jupyter-widgets/controls",
      "model_module_version": "1.5.0",
      "model_name": "DescriptionStyleModel",
      "state": {
       "description_width": "initial"
      }
     },
     "1a9ea9f10d514433934ef686a8c59bef": {
      "model_module": "@jupyter-widgets/controls",
      "model_module_version": "1.5.0",
      "model_name": "DescriptionStyleModel",
      "state": {
       "description_width": ""
      }
     },
     "1aa508d6320e42b1bdc9c0cfb749a8a4": {
      "model_module": "@jupyter-widgets/controls",
      "model_module_version": "1.5.0",
      "model_name": "VBoxModel",
      "state": {
       "children": [
        "IPY_MODEL_2995a9c875be475aaba5197332427831",
        "IPY_MODEL_2481da0b5acf42dbb817508f1b43f506"
       ],
       "layout": "IPY_MODEL_4d1f7f210af24be58d4cbe7ffccd83b3"
      }
     },
     "1ab73cb324e446d0bea98b8aec40ab1b": {
      "model_module": "@jupyter-widgets/controls",
      "model_module_version": "1.5.0",
      "model_name": "DescriptionStyleModel",
      "state": {
       "description_width": "initial"
      }
     },
     "1ac7b5c4d1ea4dd2bed37d4c44e8e7a9": {
      "model_module": "@jupyter-widgets/controls",
      "model_module_version": "1.5.0",
      "model_name": "DescriptionStyleModel",
      "state": {
       "description_width": "initial"
      }
     },
     "1acbdefd64444635827bc1807ce3c9ea": {
      "model_module": "@jupyter-widgets/controls",
      "model_module_version": "1.5.0",
      "model_name": "LabelModel",
      "state": {
       "layout": "IPY_MODEL_4a23534912904aafae7ac93adfba22e2",
       "style": "IPY_MODEL_4665f1d795414ed59367822afb0e2107",
       "value": "Workspace"
      }
     },
     "1adbf44d64f44fd18e7020063469e584": {
      "model_module": "@jupyter-widgets/base",
      "model_module_version": "1.2.0",
      "model_name": "LayoutModel",
      "state": {}
     },
     "1ae09ff6611845e8bbed147dd1800232": {
      "model_module": "@jupyter-widgets/base",
      "model_module_version": "1.2.0",
      "model_name": "LayoutModel",
      "state": {
       "border": "solid"
      }
     },
     "1b0b4413987043c886d93c6f0fee5309": {
      "model_module": "@jupyter-widgets/controls",
      "model_module_version": "1.5.0",
      "model_name": "DescriptionStyleModel",
      "state": {
       "description_width": "initial"
      }
     },
     "1b0f00d51ef940089f3f67b27ad2996e": {
      "model_module": "@jupyter-widgets/controls",
      "model_module_version": "1.5.0",
      "model_name": "DescriptionStyleModel",
      "state": {
       "description_width": "initial"
      }
     },
     "1b126156ec1f4dfbab6bed9e207b9e5a": {
      "model_module": "@jupyter-widgets/controls",
      "model_module_version": "1.5.0",
      "model_name": "HBoxModel",
      "state": {
       "children": [
        "IPY_MODEL_795fa2c1caa44398a9b0e292451e6d31",
        "IPY_MODEL_8eb76845db494cd585f21931ad04d384"
       ],
       "layout": "IPY_MODEL_72e9072c18244338ac9a36f02a86b4fe"
      }
     },
     "1b1979ee91854ad2a9b008957bae88de": {
      "model_module": "@jupyter-widgets/base",
      "model_module_version": "1.2.0",
      "model_name": "LayoutModel",
      "state": {}
     },
     "1b1c744af1ab4ea4977c40c4a23d4777": {
      "model_module": "@jupyter-widgets/controls",
      "model_module_version": "1.5.0",
      "model_name": "DescriptionStyleModel",
      "state": {
       "description_width": ""
      }
     },
     "1b29b4e09c2f40e091282d55518b9440": {
      "model_module": "@jupyter-widgets/base",
      "model_module_version": "1.2.0",
      "model_name": "LayoutModel",
      "state": {}
     },
     "1b31d89d90324383bb9dde983c0a8b51": {
      "model_module": "@jupyter-widgets/controls",
      "model_module_version": "1.5.0",
      "model_name": "DescriptionStyleModel",
      "state": {
       "description_width": ""
      }
     },
     "1b481256bb3d496c976efb9c29bac0c7": {
      "model_module": "@jupyter-widgets/controls",
      "model_module_version": "1.5.0",
      "model_name": "DropdownModel",
      "state": {
       "_options_labels": [
        "surface",
        "radial"
       ],
       "description": "Type",
       "index": 1,
       "layout": "IPY_MODEL_51d92854252f4a728f5940f23c7ccf8a",
       "style": "IPY_MODEL_8bb23973580a432d9907ca5fa04fbd1f"
      }
     },
     "1b53f63e13ca480d82df42fdf2a166bd": {
      "model_module": "@jupyter-widgets/controls",
      "model_module_version": "1.5.0",
      "model_name": "VBoxModel",
      "state": {
       "children": [
        "IPY_MODEL_13e2f943394b4357a43b2cc5aca222a3",
        "IPY_MODEL_64492c46439841fba4f018ad78c7e7c5",
        "IPY_MODEL_f0eb78df910d4130bb443b336b1534db",
        "IPY_MODEL_7c1c89fc0ab04aa69dddb07ebe40ad26",
        "IPY_MODEL_b40f922d4ff546d0a0001772324dde7e",
        "IPY_MODEL_dd4da673798d4c1b8b903e9fef41bfae",
        "IPY_MODEL_9391009324af43809c7f1e8e6f3ce33a",
        "IPY_MODEL_bad05c44fc144cec8f18a3b8fc700d38",
        "IPY_MODEL_e4074071425042d08f14d6b93be48bad",
        "IPY_MODEL_890c18a8c3604036bcace3ddd92ca301"
       ],
       "layout": "IPY_MODEL_bdeeb2362311475e8e549ec329af2c56"
      }
     },
     "1b75073070c54dac80e83b095b17ab74": {
      "model_module": "@jupyter-widgets/controls",
      "model_module_version": "1.5.0",
      "model_name": "DescriptionStyleModel",
      "state": {
       "description_width": ""
      }
     },
     "1b7d22b690414344b35a56b29dce4d3a": {
      "model_module": "@jupyter-widgets/base",
      "model_module_version": "1.2.0",
      "model_name": "LayoutModel",
      "state": {
       "display": "none"
      }
     },
     "1b8244ab5ec44f099116248fdc6ddec4": {
      "model_module": "@jupyter-widgets/base",
      "model_module_version": "1.2.0",
      "model_name": "LayoutModel",
      "state": {
       "border": "solid"
      }
     },
     "1b8a3df7e78940028b93bc6406c5f525": {
      "model_module": "@jupyter-widgets/controls",
      "model_module_version": "1.5.0",
      "model_name": "SelectModel",
      "state": {
       "_options_labels": [
        "..",
        "dask-worker-space",
        "images"
       ],
       "index": null,
       "layout": "IPY_MODEL_1c9e409a35564372abb4190b481a8dab",
       "rows": 8,
       "style": "IPY_MODEL_4b92ae7d8e2f4557a8a017b0e25c4051"
      }
     },
     "1b92acdbf2614312a2c8559bd5be8521": {
      "model_module": "@jupyter-widgets/controls",
      "model_module_version": "1.5.0",
      "model_name": "HBoxModel",
      "state": {
       "children": [
        "IPY_MODEL_b6f6fd4e025f45909c9537c2d759685d",
        "IPY_MODEL_6f5ca08399cc4dbd9cc26e0ffbaf669d"
       ],
       "layout": "IPY_MODEL_83e3992d46ac47159d6d7c32798083b3"
      }
     },
     "1ba10a0212c94357b54e403a297f41c8": {
      "model_module": "@jupyter-widgets/controls",
      "model_module_version": "1.5.0",
      "model_name": "LabelModel",
      "state": {
       "layout": "IPY_MODEL_d796632454104c1da52a54352e85c063",
       "style": "IPY_MODEL_0b61413dc6f645c391ae0994c5e23f19",
       "value": "Base Parameters"
      }
     },
     "1bbb5577651e428e8ac0596e06fdb335": {
      "model_module": "@jupyter-widgets/controls",
      "model_module_version": "1.5.0",
      "model_name": "LabelModel",
      "state": {
       "layout": "IPY_MODEL_3d8389d2c31d4a2db908ab5c1b0162c2",
       "style": "IPY_MODEL_fa663058a4924135ab8e3d9a45e39ef1",
       "value": "Padding distance"
      }
     },
     "1bc934110ef94b27950ce2c741682cdb": {
      "model_module": "@jupyter-widgets/controls",
      "model_module_version": "1.5.0",
      "model_name": "FloatTextModel",
      "state": {
       "description": "Distance",
       "layout": "IPY_MODEL_0702700f33ba4b1e93ef43db235893ad",
       "step": null,
       "style": "IPY_MODEL_0eb41a70252a4f1e9861e5222a19cd06",
       "value": 1000
      }
     },
     "1bda3dbdc68a4b7c8cb43a7a1482ab78": {
      "model_module": "@jupyter-widgets/base",
      "model_module_version": "1.2.0",
      "model_name": "LayoutModel",
      "state": {}
     },
     "1be868c5effb4172a553ece97c2b1695": {
      "model_module": "@jupyter-widgets/controls",
      "model_module_version": "1.5.0",
      "model_name": "DescriptionStyleModel",
      "state": {
       "description_width": ""
      }
     },
     "1bf4663c803644788ac43489606b5e62": {
      "model_module": "@jupyter-widgets/controls",
      "model_module_version": "1.5.0",
      "model_name": "DescriptionStyleModel",
      "state": {
       "description_width": "initial"
      }
     },
     "1c321579f7ca42c68d101b0b85762888": {
      "model_module": "@jupyter-widgets/base",
      "model_module_version": "1.2.0",
      "model_name": "LayoutModel",
      "state": {
       "display": "none",
       "width": "auto"
      }
     },
     "1c3495a7c0224e2e94b4d56c2b292cdf": {
      "model_module": "@jupyter-widgets/controls",
      "model_module_version": "1.5.0",
      "model_name": "DescriptionStyleModel",
      "state": {
       "description_width": "initial"
      }
     },
     "1c38c3edc16146d7a30a09b366ba4103": {
      "model_module": "@jupyter-widgets/controls",
      "model_module_version": "1.5.0",
      "model_name": "DescriptionStyleModel",
      "state": {
       "description_width": ""
      }
     },
     "1c6d71fa76e24c46a552acfff1f4ab42": {
      "model_module": "@jupyter-widgets/base",
      "model_module_version": "1.2.0",
      "model_name": "LayoutModel",
      "state": {}
     },
     "1c7c3957c53e44908c04e710a17175e9": {
      "model_module": "@jupyter-widgets/controls",
      "model_module_version": "1.5.0",
      "model_name": "DescriptionStyleModel",
      "state": {
       "description_width": ""
      }
     },
     "1c7d57015f2942c2a7c7b19d716f7a6c": {
      "model_module": "@jupyter-widgets/base",
      "model_module_version": "1.2.0",
      "model_name": "LayoutModel",
      "state": {}
     },
     "1c9e409a35564372abb4190b481a8dab": {
      "model_module": "@jupyter-widgets/base",
      "model_module_version": "1.2.0",
      "model_name": "LayoutModel",
      "state": {
       "grid_area": "dircontent",
       "width": "auto"
      }
     },
     "1ca2e7aef4624d188e833abdbb38bc9e": {
      "model_module": "@jupyter-widgets/controls",
      "model_module_version": "1.5.0",
      "model_name": "VBoxModel",
      "state": {
       "children": [
        "IPY_MODEL_0128860397104ecca5868079e050ef6f",
        "IPY_MODEL_c796bd326fd342b48c1bcbd206f05538"
       ],
       "layout": "IPY_MODEL_ac5d4e986f5048d9922fc794011fc0e4"
      }
     },
     "1ce186acf02a4d9e96896d68c4a06943": {
      "model_module": "@jupyter-widgets/controls",
      "model_module_version": "1.5.0",
      "model_name": "DescriptionStyleModel",
      "state": {
       "description_width": ""
      }
     },
     "1cfee73758704c0ab49cf04173efb04e": {
      "model_module": "@jupyter-widgets/base",
      "model_module_version": "1.2.0",
      "model_name": "LayoutModel",
      "state": {}
     },
     "1d284b25922244f4819c215805998997": {
      "model_module": "@jupyter-widgets/base",
      "model_module_version": "1.2.0",
      "model_name": "LayoutModel",
      "state": {}
     },
     "1dafccc2a3bf4ff0ade16d3764a28766": {
      "model_module": "@jupyter-widgets/controls",
      "model_module_version": "1.5.0",
      "model_name": "ButtonModel",
      "state": {
       "description": "Cancel",
       "layout": "IPY_MODEL_1a895fb9cfbe45a180dec6d9ca293825",
       "style": "IPY_MODEL_98d4300da770418ba7a1455bea3dc5f2"
      }
     },
     "1dc32b24461542d7a73c0105d82328f1": {
      "model_module": "@jupyter-widgets/controls",
      "model_module_version": "1.5.0",
      "model_name": "LabelModel",
      "state": {
       "layout": "IPY_MODEL_b5653d4e03f34a0681bcbfc16b30f5d6",
       "style": "IPY_MODEL_a371adc769234a7e8e16ef40858bb93a",
       "value": "Core cell size"
      }
     },
     "1dcca925b2244d3286aac7ae9fcb9e32": {
      "model_module": "@jupyter-widgets/controls",
      "model_module_version": "1.5.0",
      "model_name": "DescriptionStyleModel",
      "state": {
       "description_width": ""
      }
     },
     "1e18d8d229d24310b91880f364272870": {
      "model_module": "@jupyter-widgets/controls",
      "model_module_version": "1.5.0",
      "model_name": "HTMLModel",
      "state": {
       "layout": "IPY_MODEL_8f3cd48a81c54effaf643336166a21c7",
       "style": "IPY_MODEL_e8c6ee05e161494683ed3c88f65ad174"
      }
     },
     "1e32e47785dc427c9720052754b86085": {
      "model_module": "@jupyter-widgets/base",
      "model_module_version": "1.2.0",
      "model_name": "LayoutModel",
      "state": {
       "grid_area": "pathlist",
       "width": "auto"
      }
     },
     "1e3542519cb94b31bd1c3cbf0758f820": {
      "model_module": "@jupyter-widgets/controls",
      "model_module_version": "1.5.0",
      "model_name": "CheckboxModel",
      "state": {
       "description": "Geoscience ANALYST Pro - Live link",
       "disabled": false,
       "indent": false,
       "layout": "IPY_MODEL_d941535e0b814185bf58b425fb53610f",
       "style": "IPY_MODEL_c4a048216c7f4ddd8d04993b189b2857",
       "value": false
      }
     },
     "1e3fa923bcf843bfaf5b3a66c70fca29": {
      "model_module": "@jupyter-widgets/controls",
      "model_module_version": "1.5.0",
      "model_name": "DropdownModel",
      "state": {
       "_options_labels": [
        "C:\\Users\\dominiquef\\Documents\\GIT\\mira\\geoapps\\assets\\Temp",
        "C:\\Users\\dominiquef\\Documents\\GIT\\mira\\geoapps\\assets",
        "C:\\Users\\dominiquef\\Documents\\GIT\\mira\\geoapps",
        "C:\\Users\\dominiquef\\Documents\\GIT\\mira",
        "C:\\Users\\dominiquef\\Documents\\GIT",
        "C:\\Users\\dominiquef\\Documents",
        "C:\\Users\\dominiquef",
        "C:\\Users",
        "C:\\",
        "D:\\",
        "\\\\EgnyteDrive\\mirageoscience\\",
        "G:\\"
       ],
       "index": 0,
       "layout": "IPY_MODEL_c64c7537975445328e05167f0e635e54",
       "style": "IPY_MODEL_1b31d89d90324383bb9dde983c0a8b51"
      }
     },
     "1e44c277b05042d09a49cfbb03ed7556": {
      "model_module": "@jupyter-widgets/controls",
      "model_module_version": "1.5.0",
      "model_name": "ButtonStyleModel",
      "state": {}
     },
     "1e544a273a8e43989384bf980a07fabd": {
      "model_module": "@jupyter-widgets/base",
      "model_module_version": "1.2.0",
      "model_name": "LayoutModel",
      "state": {}
     },
     "1e6cc04c8a36431aad965eabb1e69b11": {
      "model_module": "@jupyter-widgets/controls",
      "model_module_version": "1.5.0",
      "model_name": "LabelModel",
      "state": {
       "layout": "IPY_MODEL_f0e3c82927e84aab918ee2d173e163e3",
       "style": "IPY_MODEL_28fe14e5114041afade76c1540bab14c",
       "value": "Monitoring folder"
      }
     },
     "1e76b9851660481ba927ddaba17cb172": {
      "model_module": "@jupyter-widgets/controls",
      "model_module_version": "1.5.0",
      "model_name": "DescriptionStyleModel",
      "state": {
       "description_width": ""
      }
     },
     "1e949c515de449dbaea49395ccca4948": {
      "model_module": "@jupyter-widgets/base",
      "model_module_version": "1.2.0",
      "model_name": "LayoutModel",
      "state": {}
     },
     "1eb9385ac10b49e8819a3849fccfda30": {
      "model_module": "@jupyter-widgets/controls",
      "model_module_version": "1.5.0",
      "model_name": "LabelModel",
      "state": {
       "layout": "IPY_MODEL_50c67818e28f4e7cb109365771e29a4a",
       "style": "IPY_MODEL_a44412f802f84301b50098bec1c56396",
       "value": "Workspace"
      }
     },
     "1ec34672c31249afb4a9030f8eeb5ea4": {
      "model_module": "@jupyter-widgets/controls",
      "model_module_version": "1.5.0",
      "model_name": "LabelModel",
      "state": {
       "layout": "IPY_MODEL_51aea8df67bd4dc699eb5dc0264aaf27",
       "style": "IPY_MODEL_25b3e5b52f25497dbc1f80ae6f443300",
       "value": "Refinement a "
      }
     },
     "1ec684a55dde443b9dc12469ad0db713": {
      "model_module": "@jupyter-widgets/base",
      "model_module_version": "1.2.0",
      "model_name": "LayoutModel",
      "state": {}
     },
     "1f0baa52c9f74c06b55bb99c54ec925f": {
      "model_module": "@jupyter-widgets/controls",
      "model_module_version": "1.5.0",
      "model_name": "DescriptionStyleModel",
      "state": {
       "description_width": "initial"
      }
     },
     "1f1cffda56bb45b094f5b2b770fddbcb": {
      "model_module": "@jupyter-widgets/controls",
      "model_module_version": "1.5.0",
      "model_name": "VBoxModel",
      "state": {
       "children": [
        "IPY_MODEL_27be4fc98de24882adb0537b9ea1f9db",
        "IPY_MODEL_d53a2287ef2f434abc1ecc90ce774eef",
        "IPY_MODEL_330719815b6d439f845c97d523402f5d"
       ],
       "layout": "IPY_MODEL_c0287c65f2b542768c1a0fb2977ce1fc"
      }
     },
     "1f281f2b43b14d93bb36288335a148ce": {
      "model_module": "@jupyter-widgets/controls",
      "model_module_version": "1.5.0",
      "model_name": "DescriptionStyleModel",
      "state": {
       "description_width": ""
      }
     },
     "1f30534056314bebbcdd6ac549f2c9a9": {
      "model_module": "@jupyter-widgets/controls",
      "model_module_version": "1.5.0",
      "model_name": "DescriptionStyleModel",
      "state": {
       "description_width": "initial"
      }
     },
     "1f33afead6884d2483fe5100d35beed7": {
      "model_module": "@jupyter-widgets/base",
      "model_module_version": "1.2.0",
      "model_name": "LayoutModel",
      "state": {
       "border": "solid"
      }
     },
     "1f36883bd1bf4519a79cf42d6d412b36": {
      "model_module": "@jupyter-widgets/base",
      "model_module_version": "1.2.0",
      "model_name": "LayoutModel",
      "state": {}
     },
     "1f56b3ee4b2b4e9cb032e4433b2de56c": {
      "model_module": "@jupyter-widgets/base",
      "model_module_version": "1.2.0",
      "model_name": "LayoutModel",
      "state": {
       "overflow": "auto"
      }
     },
     "1f8b3c5cf3f1492f9349363ac2e84fca": {
      "model_module": "@jupyter-widgets/controls",
      "model_module_version": "1.5.0",
      "model_name": "DescriptionStyleModel",
      "state": {
       "description_width": "initial"
      }
     },
     "1f99abf048bb4e9790bae12f8a60fe82": {
      "model_module": "@jupyter-widgets/controls",
      "model_module_version": "1.5.0",
      "model_name": "DescriptionStyleModel",
      "state": {
       "description_width": "initial"
      }
     },
     "1fa0a9935dd24a0c8827bffb972e7b3a": {
      "model_module": "@jupyter-widgets/controls",
      "model_module_version": "1.5.0",
      "model_name": "DescriptionStyleModel",
      "state": {
       "description_width": ""
      }
     },
     "1fbe4ec939794e4d880938ae03680d16": {
      "model_module": "@jupyter-widgets/base",
      "model_module_version": "1.2.0",
      "model_name": "LayoutModel",
      "state": {}
     },
     "1fdef3645bbb423c98689d21b0512bfb": {
      "model_module": "@jupyter-widgets/controls",
      "model_module_version": "1.5.0",
      "model_name": "CheckboxModel",
      "state": {
       "description": "Geoscience ANALYST Pro - Live link",
       "disabled": false,
       "indent": false,
       "layout": "IPY_MODEL_f6cd18b413f04da5820665f29e95c83d",
       "style": "IPY_MODEL_9a4bd8f4ada4422583901d6264044736",
       "value": false
      }
     },
     "1ffc9a91a4404ebda3f5004e4b2e3791": {
      "model_module": "@jupyter-widgets/controls",
      "model_module_version": "1.5.0",
      "model_name": "DescriptionStyleModel",
      "state": {
       "description_width": ""
      }
     },
     "2001bf1a29bf41538966d5b28f18d24f": {
      "model_module": "@jupyter-widgets/controls",
      "model_module_version": "1.5.0",
      "model_name": "DropdownModel",
      "state": {
       "_options_labels": [
        "",
        "Data_TEM_pseudo3DEPSG_4326",
        "Iso_Iteration_7_model_2_50e-03",
        "Iso_Iteration_7_model_1_00e-02",
        "Iso_Iteration_7_model_1_50e-02",
        "Iso_Iteration_7_model_2_00e-02",
        "Iso_Iteration_7_model_2_00e-02",
        "Iso_Iteration_7_model_5_00e-03",
        "Iso_Iteration_7_model_2_50e-03",
        "Iso_Iteration_7_model_1_50e-02",
        "Iso_Iteration_7_model_1_00e-02",
        "Iso_Iteration_7_model_5_00e-03",
        "fault_splay1",
        "fault_Cliff_Lake",
        "fault_Other_FlinFlon",
        "fault_Club_Lake_splay",
        "fault_Catherine_splay2",
        "fault_Birch_View",
        "fault_Dion_Lake",
        "fault_FlinFlon_splay",
        "fault_West_Mandy_Road",
        "fault_Channing",
        "fault_Ross_Lake",
        "fault_Louis_Hidden",
        "fault_Lake_View_thrust",
        "contact_Schist_Lake",
        "fault_Burley_Lake",
        "fault_Dion_Lake_splay",
        "fault_Green_Lake",
        "fault_FlinFlon",
        "fault_Catherine_splay1",
        "fault_East_Mandy_Road",
        "fault_Other_FlinFlon_South",
        "fault_Catherine_splay4",
        "contact_Stitt_Island",
        "fault_Club_Lake",
        "fault_Tailing_Pond",
        "35_Hidden_Reservoir_Hr5",
        "29_Hidden_Reservoir_Hr1a",
        "60_BlueLagoon_Fb2",
        "20_FlinFlon_Undivided_Int_Dykes_D2f",
        "04_Boundary_Intrusive_S4h",
        "53_Millrock_Rhyolite_Fm4b",
        "19_FlinFlon_Undivided_Int_Dykes_D2b",
        "18_FlinFlon_Undivided_Int_Dykes_777_D2b",
        "06_Phantom_Lake_Intrusive_S3a",
        "21_FlinFlon_Undivided_Int_Dykes_D3a",
        "43_Millrock_CHLSH_South",
        "56_Millrock_Basalt_Fm1ba",
        "17_FlinFlon_Undivided_Int_Dykes_D2",
        "32_Hidden_Reservoir_Hr1b_SW",
        "11_Missi_M3_NE",
        "13_Missi_M1",
        "07_Annabel_Granitoid_S1",
        "45_Millrock_Gabbro_South",
        "01_Late_Intrusive_S5b",
        "31_Hidden_Reservoir_Hr1c_SW",
        "52_Millrock_Rhyolite_Fm4_West_check",
        "55_Millrock_Basalt_Fm1bf",
        "34_Hidden_Reservoir_Hr2b",
        "03_Boundary_Intrusive_S4b",
        "42_Millrock_CHLSH_North",
        "26_Louis_L3",
        "23_FlinFlon_Undivided_Int_Felsic_D4g",
        "30_Hidden_Reservoir_Hr1b",
        "59_BlueLagoon_Fb3",
        "49_Millrock_MVR_Fm5d",
        "44_Millrock_Gabbro_North",
        "27_Hidden_Carlisle_Hc4",
        "22_FlinFlon_Undivided_Int_Felsic_D4e",
        "02_Boundary_Intrusive_S4a",
        "61_BlueLagoon_Fb1_NW",
        "05_Boundary_Intrusive_S4g",
        "39_Ore_Callinan",
        "38_Ore_Dan_Owens",
        "40_Ore_FlinFlon",
        "Inversion_VTEM_Model",
        "CDI_VTEM_model",
        "Data_FEM_pseudo3D",
        "geochem",
        "Inversion_DIGHEM_Model",
        "Topography",
        "Data_TEM_pseudo3D",
        "Data_ZTEM",
        "Mesh"
       ],
       "description": "Core hull extent:",
       "index": 78,
       "layout": "IPY_MODEL_0e473af57f66471a83a3602253ab92a2",
       "style": "IPY_MODEL_3554c703de914b58bc78bef28ae6cfbb"
      }
     },
     "200b7457b7d44c8c87bbdec2ad9d4faa": {
      "model_module": "@jupyter-widgets/base",
      "model_module_version": "1.2.0",
      "model_name": "LayoutModel",
      "state": {}
     },
     "201eb08a1c7848c4899a43bdc6baac01": {
      "model_module": "@jupyter-widgets/base",
      "model_module_version": "1.2.0",
      "model_name": "LayoutModel",
      "state": {}
     },
     "203204781a6b4e949bbbdc3b7b8d100d": {
      "model_module": "@jupyter-widgets/controls",
      "model_module_version": "1.5.0",
      "model_name": "FloatTextModel",
      "state": {
       "description": "Northing",
       "layout": "IPY_MODEL_2f7c7846d3e241948ff42bfb81a4b7d8",
       "step": null,
       "style": "IPY_MODEL_91025fdcd22e40528b082aa5aa05ce06",
       "value": 25
      }
     },
     "204b8129878845a49db3ae9114f90c7b": {
      "model_module": "@jupyter-widgets/controls",
      "model_module_version": "1.5.0",
      "model_name": "DescriptionStyleModel",
      "state": {
       "description_width": ""
      }
     },
     "20715b77fdb24f069f1ca63fc5438f8e": {
      "model_module": "@jupyter-widgets/controls",
      "model_module_version": "1.5.0",
      "model_name": "VBoxModel",
      "state": {
       "children": [
        "IPY_MODEL_85bc5eab76c5401696cae189331d4673",
        "IPY_MODEL_8cd123a56b08477798f7678b31b78765"
       ],
       "layout": "IPY_MODEL_c82ae8865a11415c851e6439b50b8ea8"
      }
     },
     "208cd920e6e34e3c8f6622db92ec046f": {
      "model_module": "@jupyter-widgets/controls",
      "model_module_version": "1.5.0",
      "model_name": "SelectModel",
      "state": {
       "_options_labels": [
        "📁 ..",
        "📁 SimPEG_PFInversion"
       ],
       "index": null,
       "layout": "IPY_MODEL_5e88929314384a279f8560519f730493",
       "rows": 8,
       "style": "IPY_MODEL_fb1abff81f894494bcf72480a88e1f61"
      }
     },
     "20913cb4a36a489aaf21f4c377e310f3": {
      "model_module": "@jupyter-widgets/controls",
      "model_module_version": "1.5.0",
      "model_name": "VBoxModel",
      "state": {
       "children": [
        "IPY_MODEL_ae9591e5484240f8baa45638a65969cc"
       ],
       "layout": "IPY_MODEL_b9e5928ef1fd46cd9b1b3cc074db7143"
      }
     },
     "20b3d8c9a0604a94aa13fee877fa411e": {
      "model_module": "@jupyter-widgets/controls",
      "model_module_version": "1.5.0",
      "model_name": "FloatTextModel",
      "state": {
       "description": "Distance",
       "layout": "IPY_MODEL_ad10cba754e440d09dd43b0ef995dbea",
       "step": null,
       "style": "IPY_MODEL_0c03c27d30f84341bc1b13490e141388",
       "value": 1000
      }
     },
     "20b3e8307bb44d8dbb1149d002af61e0": {
      "model_module": "@jupyter-widgets/controls",
      "model_module_version": "1.5.0",
      "model_name": "DescriptionStyleModel",
      "state": {
       "description_width": "initial"
      }
     },
     "20b4f094b10347c39baff7c8f3f0a4e5": {
      "model_module": "@jupyter-widgets/controls",
      "model_module_version": "1.5.0",
      "model_name": "DescriptionStyleModel",
      "state": {
       "description_width": "initial"
      }
     },
     "20ce67db9ab2486c862d86034f479354": {
      "model_module": "@jupyter-widgets/controls",
      "model_module_version": "1.5.0",
      "model_name": "DescriptionStyleModel",
      "state": {
       "description_width": "initial"
      }
     },
     "20d71384d8644ab294bbbfc4742fc17f": {
      "model_module": "@jupyter-widgets/controls",
      "model_module_version": "1.5.0",
      "model_name": "DescriptionStyleModel",
      "state": {
       "description_width": "initial"
      }
     },
     "20e00bcd6f264dcebe4c4ce125e5836b": {
      "model_module": "@jupyter-widgets/controls",
      "model_module_version": "1.5.0",
      "model_name": "DescriptionStyleModel",
      "state": {
       "description_width": "initial"
      }
     },
     "20f2adf94d5d4e578091aa07be8d823b": {
      "model_module": "@jupyter-widgets/controls",
      "model_module_version": "1.5.0",
      "model_name": "DescriptionStyleModel",
      "state": {
       "description_width": "initial"
      }
     },
     "2110a91264164d14a6d29f9bc8afd1d5": {
      "model_module": "@jupyter-widgets/controls",
      "model_module_version": "1.5.0",
      "model_name": "FloatTextModel",
      "state": {
       "description": "Vertical",
       "layout": "IPY_MODEL_9a75478c42bb48f48602cf03bb72023d",
       "step": null,
       "style": "IPY_MODEL_d3ba8225911b41e0bf56fab1cb7f3ccc",
       "value": 25
      }
     },
     "213edbb714514be4a3fedaa4a07ce894": {
      "model_module": "@jupyter-widgets/base",
      "model_module_version": "1.2.0",
      "model_name": "LayoutModel",
      "state": {}
     },
     "2146edde0d914e038964b3b98af45d8c": {
      "model_module": "@jupyter-widgets/base",
      "model_module_version": "1.2.0",
      "model_name": "LayoutModel",
      "state": {}
     },
     "214be3e0084546b990b5943acbd1ed5c": {
      "model_module": "@jupyter-widgets/controls",
      "model_module_version": "1.5.0",
      "model_name": "VBoxModel",
      "state": {
       "children": [
        "IPY_MODEL_2913b2d46a17467996932cd3d0a3c42e",
        "IPY_MODEL_1f1cffda56bb45b094f5b2b770fddbcb"
       ],
       "layout": "IPY_MODEL_2ce3f84cfa2f451b8a6f609b86265bae"
      }
     },
     "215a4f8f74714dd4a9a801e5b7be4dcb": {
      "model_module": "@jupyter-widgets/controls",
      "model_module_version": "1.5.0",
      "model_name": "DescriptionStyleModel",
      "state": {
       "description_width": "initial"
      }
     },
     "215e7a47899f48d6af4d351751c4b2b5": {
      "model_module": "@jupyter-widgets/controls",
      "model_module_version": "1.5.0",
      "model_name": "FloatTextModel",
      "state": {
       "description": "Vertical",
       "layout": "IPY_MODEL_b184459d136b40409cde62b610901945",
       "step": null,
       "style": "IPY_MODEL_088cfb2cef224431b193be7fa86c367c",
       "value": 25
      }
     },
     "21987f2e3fcc4a9ea024f76eea875390": {
      "model_module": "@jupyter-widgets/controls",
      "model_module_version": "1.5.0",
      "model_name": "ButtonModel",
      "state": {
       "description": "Cancel",
       "layout": "IPY_MODEL_57d4c5dc9e734f18984c9c77487675c7",
       "style": "IPY_MODEL_91765d1b10f642dda7e339aabade8145"
      }
     },
     "219dfb90e7c1432ca4847ce19ab23099": {
      "model_module": "@jupyter-widgets/controls",
      "model_module_version": "1.5.0",
      "model_name": "DescriptionStyleModel",
      "state": {
       "description_width": "initial"
      }
     },
     "21d8bfb8b0e04b5e96a017880db38a85": {
      "model_module": "@jupyter-widgets/controls",
      "model_module_version": "1.5.0",
      "model_name": "DescriptionStyleModel",
      "state": {
       "description_width": "initial"
      }
     },
     "21dfa724c8d047048950364c64ff52a0": {
      "model_module": "@jupyter-widgets/controls",
      "model_module_version": "1.5.0",
      "model_name": "VBoxModel",
      "state": {
       "children": [
        "IPY_MODEL_42d39d6f71c6465eb7ed5e4f645375b3",
        "IPY_MODEL_72b0c754f6044b99b94934bc8d73bec0",
        "IPY_MODEL_6af66b09a4e741cdb0b907db0477e9a4",
        "IPY_MODEL_aa1f56ead2264a4d81a9f3661258dc81",
        "IPY_MODEL_485d585c97db43f493b52907cf0c78d7"
       ],
       "layout": "IPY_MODEL_7eee3796298a4f66b5cfa9ec0d5f4766"
      }
     },
     "21e19acf5892470a874c158156bbaa8b": {
      "model_module": "@jupyter-widgets/controls",
      "model_module_version": "1.5.0",
      "model_name": "ButtonModel",
      "state": {
       "description": "Cancel",
       "layout": "IPY_MODEL_0926cb8eb70d4354afab8a1fed4441bb",
       "style": "IPY_MODEL_add4218eb4b7459dbf1c7d2ab0de525f"
      }
     },
     "21e3daa473684454a4b9f6a97c45010a": {
      "model_module": "@jupyter-widgets/base",
      "model_module_version": "1.2.0",
      "model_name": "LayoutModel",
      "state": {}
     },
     "21f8edc93b2b4cbe893ca6468888d5b8": {
      "model_module": "@jupyter-widgets/controls",
      "model_module_version": "1.5.0",
      "model_name": "DescriptionStyleModel",
      "state": {
       "description_width": "initial"
      }
     },
     "2207581833084b3db4fdebaccdec5679": {
      "model_module": "@jupyter-widgets/controls",
      "model_module_version": "1.5.0",
      "model_name": "ButtonStyleModel",
      "state": {}
     },
     "221538eab205438d9b0c205475625aa1": {
      "model_module": "@jupyter-widgets/base",
      "model_module_version": "1.2.0",
      "model_name": "LayoutModel",
      "state": {}
     },
     "22252a062681436485b73f9990a9bb66": {
      "model_module": "@jupyter-widgets/controls",
      "model_module_version": "1.5.0",
      "model_name": "DescriptionStyleModel",
      "state": {
       "description_width": ""
      }
     },
     "222cb8f70a5647289878711c0846546a": {
      "model_module": "@jupyter-widgets/controls",
      "model_module_version": "1.5.0",
      "model_name": "ButtonStyleModel",
      "state": {}
     },
     "2231af3d285c41d682301ebef6f7d507": {
      "model_module": "@jupyter-widgets/base",
      "model_module_version": "1.2.0",
      "model_name": "LayoutModel",
      "state": {}
     },
     "2236b0c8014546188e055ffa56073997": {
      "model_module": "@jupyter-widgets/base",
      "model_module_version": "1.2.0",
      "model_name": "LayoutModel",
      "state": {}
     },
     "22488892166e4e75bb8c782de343bf8f": {
      "model_module": "@jupyter-widgets/controls",
      "model_module_version": "1.5.0",
      "model_name": "VBoxModel",
      "state": {
       "children": [
        "IPY_MODEL_1e18d8d229d24310b91880f364272870",
        "IPY_MODEL_52535b11cf614cbdad56d3000ead0c09",
        "IPY_MODEL_c4371579eb4f4074baa063762f5fe193"
       ],
       "layout": "IPY_MODEL_cc537603beba464c86c9c58472321373"
      }
     },
     "22553693b1584862ba55e91b1770527d": {
      "model_module": "@jupyter-widgets/controls",
      "model_module_version": "1.5.0",
      "model_name": "DescriptionStyleModel",
      "state": {
       "description_width": ""
      }
     },
     "2261cf9b057e497ab11c3577723fc7f4": {
      "model_module": "@jupyter-widgets/controls",
      "model_module_version": "1.5.0",
      "model_name": "DropdownModel",
      "state": {
       "_options_labels": [
        "",
        "Ore/39_Ore_Callinan",
        "Ore/38_Ore_Dan_Owens",
        "Ore/40_Ore_FlinFlon",
        "Workspace/Inversion_VTEM_Model",
        "Workspace/CDI_VTEM_model",
        "Workspace/Data_FEM_pseudo3D",
        "Workspace/geochem",
        "Workspace/Inversion_DIGHEM_Model",
        "Workspace/Topography",
        "Workspace/Data_TEM_pseudo3D",
        "Workspace/Data_ZTEM",
        "Workspace/Mesh"
       ],
       "description": "Core hull extent:",
       "index": 6,
       "layout": "IPY_MODEL_ba27b0e3cf4f41f491448227d12cc0ee",
       "style": "IPY_MODEL_90463b1b0f0d4ce98dacecd01cf01352"
      }
     },
     "22674b57ad99472a9c1b9fceecf0b276": {
      "model_module": "@jupyter-widgets/controls",
      "model_module_version": "1.5.0",
      "model_name": "VBoxModel",
      "state": {
       "children": [
        "IPY_MODEL_1fdef3645bbb423c98689d21b0512bfb"
       ],
       "layout": "IPY_MODEL_1fbe4ec939794e4d880938ae03680d16"
      }
     },
     "226ccd99f40740c69b994530fad79dc2": {
      "model_module": "@jupyter-widgets/controls",
      "model_module_version": "1.5.0",
      "model_name": "DescriptionStyleModel",
      "state": {
       "description_width": "initial"
      }
     },
     "2274e36749104645bedc6a4e7ded2788": {
      "model_module": "@jupyter-widgets/controls",
      "model_module_version": "1.5.0",
      "model_name": "HTMLModel",
      "state": {
       "layout": "IPY_MODEL_bee8727d6b2f4804b63954a280a6b603",
       "style": "IPY_MODEL_00ac363051d24fecb0a732c86148adc0"
      }
     },
     "22ad98b98a7a440a8b36078b30416706": {
      "model_module": "@jupyter-widgets/controls",
      "model_module_version": "1.5.0",
      "model_name": "DescriptionStyleModel",
      "state": {
       "description_width": ""
      }
     },
     "22c2b2aa102b449bb3d450fe5464ea84": {
      "model_module": "@jupyter-widgets/base",
      "model_module_version": "1.2.0",
      "model_name": "LayoutModel",
      "state": {
       "display": "none",
       "grid_gap": "0px 0px",
       "grid_template_areas": "\n                    'pathlist pathlist'\n                    'dircontent dircontent'\n                    ",
       "grid_template_columns": "60% 40%",
       "grid_template_rows": "auto auto",
       "width": "auto"
      }
     },
     "22cea33d87564bfebb205789261ef036": {
      "model_module": "@jupyter-widgets/base",
      "model_module_version": "1.2.0",
      "model_name": "LayoutModel",
      "state": {
       "display": "none",
       "grid_area": "filename",
       "width": "auto"
      }
     },
     "22d0f9aa8973439eae4032fd4a8ad31a": {
      "model_module": "@jupyter-widgets/controls",
      "model_module_version": "1.5.0",
      "model_name": "ButtonModel",
      "state": {
       "description": "Change",
       "layout": "IPY_MODEL_06b5c6cc40da4bfd82dd02686106acc4",
       "style": "IPY_MODEL_6318681f78e44517aea14c881cd41103"
      }
     },
     "22f05fc4c79940318aa778fd7ce7bafa": {
      "model_module": "@jupyter-widgets/controls",
      "model_module_version": "1.5.0",
      "model_name": "DescriptionStyleModel",
      "state": {
       "description_width": "initial"
      }
     },
     "22f50313724c48dd9be922af14a63888": {
      "model_module": "@jupyter-widgets/base",
      "model_module_version": "1.2.0",
      "model_name": "LayoutModel",
      "state": {
       "grid_area": "pathlist",
       "width": "auto"
      }
     },
     "23233e60b8854eb997ea4199eb88e452": {
      "model_module": "@jupyter-widgets/controls",
      "model_module_version": "1.5.0",
      "model_name": "ButtonStyleModel",
      "state": {}
     },
     "2342ebda649a4634bacf15be5b5d268d": {
      "model_module": "@jupyter-widgets/controls",
      "model_module_version": "1.5.0",
      "model_name": "DescriptionStyleModel",
      "state": {
       "description_width": ""
      }
     },
     "23464d15c4e34f20a29d0f6b74e555ad": {
      "model_module": "@jupyter-widgets/controls",
      "model_module_version": "1.5.0",
      "model_name": "DropdownModel",
      "state": {
       "_options_labels": [
        "",
        "CoordinateTransformation/Data_TEM_pseudo3DEPSG_4326",
        "ISO/Iso_Iteration_7_model_2_00e-02",
        "ISO/Iso_Iteration_7_model_2_50e-03",
        "ISO/Iso_Iteration_7_model_5_00e-03",
        "ISO/Iso_Iteration_7_model_1_00e-02",
        "ISO/Iso_Iteration_7_model_1_50e-02",
        "Ore/39_Ore_Callinan",
        "Ore/38_Ore_Dan_Owens",
        "Ore/40_Ore_FlinFlon",
        "Workspace/Inversion_VTEM_Model",
        "Workspace/CDI_VTEM_model",
        "Workspace/Data_FEM_pseudo3D",
        "Workspace/geochem",
        "Workspace/Inversion_DIGHEM_Model",
        "Workspace/Topography",
        "Workspace/Data_TEM_pseudo3D",
        "Workspace/Data_ZTEM",
        "Workspace/Mesh"
       ],
       "description": "Object",
       "index": 15,
       "layout": "IPY_MODEL_cde0936ce2e6478781dded54f554e55f",
       "style": "IPY_MODEL_bc1e2238a668490ebfbeab78d73a82e0"
      }
     },
     "234e3fc143fa43eda4e926e05aa91bff": {
      "model_module": "@jupyter-widgets/controls",
      "model_module_version": "1.5.0",
      "model_name": "DescriptionStyleModel",
      "state": {
       "description_width": "initial"
      }
     },
     "236f252e912b4158ba8a3b1fb8ff09c2": {
      "model_module": "@jupyter-widgets/base",
      "model_module_version": "1.2.0",
      "model_name": "LayoutModel",
      "state": {}
     },
     "237cee65aa5244d1909fb9518a5faa91": {
      "model_module": "@jupyter-widgets/controls",
      "model_module_version": "1.5.0",
      "model_name": "DropdownModel",
      "state": {
       "_options_labels": [
        "surface",
        "radial"
       ],
       "description": "Type",
       "index": 1,
       "layout": "IPY_MODEL_49bb65d4146241c6ae6e41df582957f8",
       "style": "IPY_MODEL_772f37ac0be14902848a377fae2a7ea5"
      }
     },
     "23858db77e19432a8f2ec3070d0d6eb2": {
      "model_module": "@jupyter-widgets/base",
      "model_module_version": "1.2.0",
      "model_name": "LayoutModel",
      "state": {}
     },
     "23a286af33b8499aab99b74b48f9a5a7": {
      "model_module": "@jupyter-widgets/base",
      "model_module_version": "1.2.0",
      "model_name": "LayoutModel",
      "state": {}
     },
     "23b2f53358724bc5accb39b0f00d7f4c": {
      "model_module": "@jupyter-widgets/controls",
      "model_module_version": "1.5.0",
      "model_name": "DescriptionStyleModel",
      "state": {
       "description_width": ""
      }
     },
     "23d0d0d981b74daf87b2af2c705b44ef": {
      "model_module": "@jupyter-widgets/base",
      "model_module_version": "1.2.0",
      "model_name": "LayoutModel",
      "state": {
       "grid_area": "dircontent",
       "width": "auto"
      }
     },
     "23d203b0447543079fc5606fbd2cc81a": {
      "model_module": "@jupyter-widgets/base",
      "model_module_version": "1.2.0",
      "model_name": "LayoutModel",
      "state": {
       "grid_area": "filename",
       "width": "auto"
      }
     },
     "23da491a6a574b17aa4902133a3c8fe8": {
      "model_module": "@jupyter-widgets/base",
      "model_module_version": "1.2.0",
      "model_name": "LayoutModel",
      "state": {}
     },
     "23e685e476714069bb3341ee6a43911e": {
      "model_module": "@jupyter-widgets/controls",
      "model_module_version": "1.5.0",
      "model_name": "FloatTextModel",
      "state": {
       "description": "Easting",
       "layout": "IPY_MODEL_ef07ed581e154f97befd0998acc0f689",
       "step": null,
       "style": "IPY_MODEL_09236b7450c44263b9755d5a780a2c51",
       "value": 25
      }
     },
     "244cc74028324b9abe71fb5a89dad8ec": {
      "model_module": "@jupyter-widgets/controls",
      "model_module_version": "1.5.0",
      "model_name": "VBoxModel",
      "state": {
       "children": [
        "IPY_MODEL_5813160a186845dbab125e7204faef97",
        "IPY_MODEL_53b1cf4c08c54896bec8e254bf34d376"
       ],
       "layout": "IPY_MODEL_a00061edceaa44fda560058dc27c156c"
      }
     },
     "246eb65109304dd8b1c4f7cdad896a32": {
      "model_module": "@jupyter-widgets/base",
      "model_module_version": "1.2.0",
      "model_name": "LayoutModel",
      "state": {}
     },
     "247f0ef0387440a087b14320b1c7051b": {
      "model_module": "@jupyter-widgets/controls",
      "model_module_version": "1.5.0",
      "model_name": "DescriptionStyleModel",
      "state": {
       "description_width": ""
      }
     },
     "2481da0b5acf42dbb817508f1b43f506": {
      "model_module": "@jupyter-widgets/controls",
      "model_module_version": "1.5.0",
      "model_name": "VBoxModel",
      "state": {
       "children": [
        "IPY_MODEL_ef7d339fe1b5431b86ea6ffa5f26bae0",
        "IPY_MODEL_73752c1b377144b1912af29a8822f1fc",
        "IPY_MODEL_41eaa3a95bea4d1bbbbe9f1469469050",
        "IPY_MODEL_7b3d7c0f361d4c4283a6608b68dc9eb6",
        "IPY_MODEL_52baf4613f404919ab995abcb269f2c4",
        "IPY_MODEL_72d28b0216c04cb5b1ff25b6170f5919",
        "IPY_MODEL_05806eecc5e648d2956b7b03f1dab638",
        "IPY_MODEL_2ddc299ed191429db0196ca407a610c3",
        "IPY_MODEL_09f876b725dd4cab93fdc9948b5e1d42",
        "IPY_MODEL_f8b4af17f73c40e681d0ac33d7343bb3"
       ],
       "layout": "IPY_MODEL_758df548b33241cdb4d518bd27f6a3ce"
      }
     },
     "24a0866dc3eb4581942658bce3d12431": {
      "model_module": "@jupyter-widgets/base",
      "model_module_version": "1.2.0",
      "model_name": "LayoutModel",
      "state": {}
     },
     "24c57fdb810642a9aaceb00a763f1f4b": {
      "model_module": "@jupyter-widgets/base",
      "model_module_version": "1.2.0",
      "model_name": "LayoutModel",
      "state": {}
     },
     "24c820d13a104ea2abecd0f882a8176f": {
      "model_module": "@jupyter-widgets/controls",
      "model_module_version": "1.5.0",
      "model_name": "HBoxModel",
      "state": {
       "children": [
        "IPY_MODEL_be01218abc8640258833bda348aefbc8",
        "IPY_MODEL_e70327760a4f49efa1e5064e76d7361e",
        "IPY_MODEL_27e1d3f5b704490aad041eb0a4878e58"
       ],
       "layout": "IPY_MODEL_3a445211dca84840a7404e570c33fcc7"
      }
     },
     "24d9b6d40fdc4f59a44ac52b9018c110": {
      "model_module": "@jupyter-widgets/controls",
      "model_module_version": "1.5.0",
      "model_name": "DescriptionStyleModel",
      "state": {
       "description_width": "initial"
      }
     },
     "24dccbd7594f42848f5a1347a56e6f6d": {
      "model_module": "@jupyter-widgets/base",
      "model_module_version": "1.2.0",
      "model_name": "LayoutModel",
      "state": {
       "display": "none",
       "grid_gap": "0px 0px",
       "grid_template_areas": "\n                    'pathlist filename'\n                    'dircontent dircontent'\n                    ",
       "grid_template_columns": "60% 40%",
       "grid_template_rows": "auto auto",
       "width": "500px"
      }
     },
     "250b547c7cb04856931990d7c530f0e5": {
      "model_module": "@jupyter-widgets/controls",
      "model_module_version": "1.5.0",
      "model_name": "DescriptionStyleModel",
      "state": {
       "description_width": "initial"
      }
     },
     "25437eadac654c42aa6ffef1625d8a14": {
      "model_module": "@jupyter-widgets/controls",
      "model_module_version": "1.5.0",
      "model_name": "DescriptionStyleModel",
      "state": {
       "description_width": ""
      }
     },
     "2549b7ece76f4d069eecb66d6cfeac67": {
      "model_module": "@jupyter-widgets/controls",
      "model_module_version": "1.5.0",
      "model_name": "VBoxModel",
      "state": {
       "children": [
        "IPY_MODEL_d1a6ebf7733641a698e67edf4de11ed4",
        "IPY_MODEL_5006dbd4c43b4cb4a1e23c7f117fe7b0"
       ],
       "layout": "IPY_MODEL_489da34b1c9e4b8bb735901e89f40674"
      }
     },
     "254f1f812fcc46f3930b508463c65702": {
      "model_module": "@jupyter-widgets/controls",
      "model_module_version": "1.5.0",
      "model_name": "TextModel",
      "state": {
       "disabled": true,
       "layout": "IPY_MODEL_b4d4f02b3fc549768b54b0811f67bb01",
       "placeholder": "output filename",
       "style": "IPY_MODEL_ca0084dc1e414a388d18bd2398043425"
      }
     },
     "25a100910f5f4541abac63a936cf0cc9": {
      "model_module": "@jupyter-widgets/controls",
      "model_module_version": "1.5.0",
      "model_name": "DropdownModel",
      "state": {
       "_options_labels": [
        "",
        "Data_TEM_pseudo3DEPSG_4326",
        "Iso_Iteration_7_model_2_50e-03",
        "Iso_Iteration_7_model_1_00e-02",
        "Iso_Iteration_7_model_1_50e-02",
        "Iso_Iteration_7_model_2_00e-02",
        "Iso_Iteration_7_model_2_00e-02",
        "Iso_Iteration_7_model_5_00e-03",
        "Iso_Iteration_7_model_2_50e-03",
        "Iso_Iteration_7_model_1_50e-02",
        "Iso_Iteration_7_model_1_00e-02",
        "Iso_Iteration_7_model_5_00e-03",
        "fault_splay1",
        "fault_Cliff_Lake",
        "fault_Other_FlinFlon",
        "fault_Club_Lake_splay",
        "fault_Catherine_splay2",
        "fault_Birch_View",
        "fault_Dion_Lake",
        "fault_FlinFlon_splay",
        "fault_West_Mandy_Road",
        "fault_Channing",
        "fault_Ross_Lake",
        "fault_Louis_Hidden",
        "fault_Lake_View_thrust",
        "contact_Schist_Lake",
        "fault_Burley_Lake",
        "fault_Dion_Lake_splay",
        "fault_Green_Lake",
        "fault_FlinFlon",
        "fault_Catherine_splay1",
        "fault_East_Mandy_Road",
        "fault_Other_FlinFlon_South",
        "fault_Catherine_splay4",
        "contact_Stitt_Island",
        "fault_Club_Lake",
        "fault_Tailing_Pond",
        "35_Hidden_Reservoir_Hr5",
        "29_Hidden_Reservoir_Hr1a",
        "60_BlueLagoon_Fb2",
        "20_FlinFlon_Undivided_Int_Dykes_D2f",
        "04_Boundary_Intrusive_S4h",
        "53_Millrock_Rhyolite_Fm4b",
        "19_FlinFlon_Undivided_Int_Dykes_D2b",
        "18_FlinFlon_Undivided_Int_Dykes_777_D2b",
        "06_Phantom_Lake_Intrusive_S3a",
        "21_FlinFlon_Undivided_Int_Dykes_D3a",
        "43_Millrock_CHLSH_South",
        "56_Millrock_Basalt_Fm1ba",
        "17_FlinFlon_Undivided_Int_Dykes_D2",
        "32_Hidden_Reservoir_Hr1b_SW",
        "11_Missi_M3_NE",
        "13_Missi_M1",
        "07_Annabel_Granitoid_S1",
        "45_Millrock_Gabbro_South",
        "01_Late_Intrusive_S5b",
        "31_Hidden_Reservoir_Hr1c_SW",
        "52_Millrock_Rhyolite_Fm4_West_check",
        "55_Millrock_Basalt_Fm1bf",
        "34_Hidden_Reservoir_Hr2b",
        "03_Boundary_Intrusive_S4b",
        "42_Millrock_CHLSH_North",
        "26_Louis_L3",
        "23_FlinFlon_Undivided_Int_Felsic_D4g",
        "30_Hidden_Reservoir_Hr1b",
        "59_BlueLagoon_Fb3",
        "49_Millrock_MVR_Fm5d",
        "44_Millrock_Gabbro_North",
        "27_Hidden_Carlisle_Hc4",
        "22_FlinFlon_Undivided_Int_Felsic_D4e",
        "02_Boundary_Intrusive_S4a",
        "61_BlueLagoon_Fb1_NW",
        "05_Boundary_Intrusive_S4g",
        "39_Ore_Callinan",
        "38_Ore_Dan_Owens",
        "40_Ore_FlinFlon",
        "Inversion_VTEM_Model",
        "CDI_VTEM_model",
        "Data_FEM_pseudo3D",
        "geochem",
        "Inversion_DIGHEM_Model",
        "Topography",
        "Data_TEM_pseudo3D",
        "Data_ZTEM",
        "Mesh"
       ],
       "description": "Object",
       "index": 0,
       "layout": "IPY_MODEL_606fb24278384c52977ef44cb2ea1232",
       "style": "IPY_MODEL_35081be9573d4e138e045a8ab193db56"
      }
     },
     "25b260a861174e7e8a1c57192177feed": {
      "model_module": "@jupyter-widgets/base",
      "model_module_version": "1.2.0",
      "model_name": "LayoutModel",
      "state": {}
     },
     "25b3e5b52f25497dbc1f80ae6f443300": {
      "model_module": "@jupyter-widgets/controls",
      "model_module_version": "1.5.0",
      "model_name": "DescriptionStyleModel",
      "state": {
       "description_width": ""
      }
     },
     "25c074658dba44f39d0b4ef57b63be76": {
      "model_module": "@jupyter-widgets/base",
      "model_module_version": "1.2.0",
      "model_name": "LayoutModel",
      "state": {}
     },
     "25d8fec6c79b483bb805ff622960bfc1": {
      "model_module": "@jupyter-widgets/base",
      "model_module_version": "1.2.0",
      "model_name": "LayoutModel",
      "state": {}
     },
     "25eae77980774681860da18c5da1caaf": {
      "model_module": "@jupyter-widgets/controls",
      "model_module_version": "1.5.0",
      "model_name": "ButtonModel",
      "state": {
       "description": "Change",
       "layout": "IPY_MODEL_8ef7a67161f64c25af218c3779eb2a15",
       "style": "IPY_MODEL_52081046b4dd455aa25c5e75c194b31e"
      }
     },
     "25ece8d4f9484e6d9845791efc32cad2": {
      "model_module": "@jupyter-widgets/controls",
      "model_module_version": "1.5.0",
      "model_name": "DescriptionStyleModel",
      "state": {
       "description_width": "initial"
      }
     },
     "25fbb66c50e44db0a124bab5d9af2b0b": {
      "model_module": "@jupyter-widgets/controls",
      "model_module_version": "1.5.0",
      "model_name": "DescriptionStyleModel",
      "state": {
       "description_width": "initial"
      }
     },
     "26115c57b9c044fa969485f9f9b2ec85": {
      "model_module": "@jupyter-widgets/controls",
      "model_module_version": "1.5.0",
      "model_name": "DescriptionStyleModel",
      "state": {
       "description_width": "initial"
      }
     },
     "26151048cc9445829bfb4e0e6c6e2270": {
      "model_module": "@jupyter-widgets/controls",
      "model_module_version": "1.5.0",
      "model_name": "DescriptionStyleModel",
      "state": {
       "description_width": "initial"
      }
     },
     "262ec80ded2149d48ea9de9102561b95": {
      "model_module": "@jupyter-widgets/controls",
      "model_module_version": "1.5.0",
      "model_name": "DescriptionStyleModel",
      "state": {
       "description_width": "initial"
      }
     },
     "2649dea7d1bf4355b6ee2f6e4ec707ba": {
      "model_module": "@jupyter-widgets/base",
      "model_module_version": "1.2.0",
      "model_name": "LayoutModel",
      "state": {}
     },
     "2657ae59173642c08d971fb775f3668a": {
      "model_module": "@jupyter-widgets/base",
      "model_module_version": "1.2.0",
      "model_name": "LayoutModel",
      "state": {
       "border": "solid"
      }
     },
     "26634e1c65eb4a038cb2e010d8c34c29": {
      "model_module": "@jupyter-widgets/controls",
      "model_module_version": "1.5.0",
      "model_name": "DescriptionStyleModel",
      "state": {
       "description_width": "initial"
      }
     },
     "26642f42e25440588c84f1e0753ba43a": {
      "model_module": "@jupyter-widgets/controls",
      "model_module_version": "1.5.0",
      "model_name": "DescriptionStyleModel",
      "state": {
       "description_width": ""
      }
     },
     "266a891d61e24333ab68f38da34f7e91": {
      "model_module": "@jupyter-widgets/controls",
      "model_module_version": "1.5.0",
      "model_name": "DescriptionStyleModel",
      "state": {
       "description_width": ""
      }
     },
     "266c6a6a0b524fd4b823bf7a09ebcbcf": {
      "model_module": "@jupyter-widgets/controls",
      "model_module_version": "1.5.0",
      "model_name": "DescriptionStyleModel",
      "state": {
       "description_width": ""
      }
     },
     "267b5f37da304fc7b18933121b702978": {
      "model_module": "@jupyter-widgets/controls",
      "model_module_version": "1.5.0",
      "model_name": "DescriptionStyleModel",
      "state": {
       "description_width": ""
      }
     },
     "269c41798181425199ae5120e9ba7565": {
      "model_module": "@jupyter-widgets/controls",
      "model_module_version": "1.5.0",
      "model_name": "VBoxModel",
      "state": {
       "children": [
        "IPY_MODEL_698b4b5a69c3436689de22182444d8f6",
        "IPY_MODEL_4943d33b8c584e87bbd0f119f0cc9965"
       ],
       "layout": "IPY_MODEL_f11a9daa8fb547c58e0b7a2220aa09e3"
      }
     },
     "26a2e2deb6ec44f6ab00db801f41d92c": {
      "model_module": "@jupyter-widgets/controls",
      "model_module_version": "1.5.0",
      "model_name": "DescriptionStyleModel",
      "state": {
       "description_width": "initial"
      }
     },
     "26a4fc296298444fb9ff2875a4393fb8": {
      "model_module": "@jupyter-widgets/base",
      "model_module_version": "1.2.0",
      "model_name": "LayoutModel",
      "state": {
       "width": "auto"
      }
     },
     "26caa90bf0534a27b289cb2873779c93": {
      "model_module": "@jupyter-widgets/controls",
      "model_module_version": "1.5.0",
      "model_name": "DescriptionStyleModel",
      "state": {
       "description_width": "initial"
      }
     },
     "26cac6bab7f24ab1b1016bd00957fb20": {
      "model_module": "@jupyter-widgets/base",
      "model_module_version": "1.2.0",
      "model_name": "LayoutModel",
      "state": {
       "margin": "0 0 0 1em"
      }
     },
     "26d7d1737f21477e9b8b3c1ba46023cf": {
      "model_module": "@jupyter-widgets/controls",
      "model_module_version": "1.5.0",
      "model_name": "DescriptionStyleModel",
      "state": {
       "description_width": "initial"
      }
     },
     "26dcc1a5244b4754b4d13a8c4be82c1c": {
      "model_module": "@jupyter-widgets/controls",
      "model_module_version": "1.5.0",
      "model_name": "VBoxModel",
      "state": {
       "children": [
        "IPY_MODEL_dd8bdf77204f4c9ab99f8d0c96930ff4",
        "IPY_MODEL_0a40fa5df1ce4432b6e3d8c133913fc9"
       ],
       "layout": "IPY_MODEL_fb3ce30332dc4cf2bc4b310c75924faa"
      }
     },
     "273ad26c5a484d57a49a3a47c727cb93": {
      "model_module": "@jupyter-widgets/base",
      "model_module_version": "1.2.0",
      "model_name": "LayoutModel",
      "state": {}
     },
     "274c33b7cc174e9ba0128e3f4eba1fcf": {
      "model_module": "@jupyter-widgets/controls",
      "model_module_version": "1.5.0",
      "model_name": "DescriptionStyleModel",
      "state": {
       "description_width": ""
      }
     },
     "275cae1cfbda4fcba37010ebff370957": {
      "model_module": "@jupyter-widgets/controls",
      "model_module_version": "1.5.0",
      "model_name": "DescriptionStyleModel",
      "state": {
       "description_width": ""
      }
     },
     "2775eccba47846108b78492790426f69": {
      "model_module": "@jupyter-widgets/controls",
      "model_module_version": "1.5.0",
      "model_name": "DescriptionStyleModel",
      "state": {
       "description_width": ""
      }
     },
     "27779e16970b4ea0a2a1a291d3432d3e": {
      "model_module": "@jupyter-widgets/controls",
      "model_module_version": "1.5.0",
      "model_name": "DescriptionStyleModel",
      "state": {
       "description_width": ""
      }
     },
     "277f5991d731452086e42062255afb4a": {
      "model_module": "@jupyter-widgets/base",
      "model_module_version": "1.2.0",
      "model_name": "LayoutModel",
      "state": {}
     },
     "27be4fc98de24882adb0537b9ea1f9db": {
      "model_module": "@jupyter-widgets/controls",
      "model_module_version": "1.5.0",
      "model_name": "HTMLModel",
      "state": {
       "layout": "IPY_MODEL_ae6ad00e793e4c1aab34aea187df89f7",
       "style": "IPY_MODEL_41c873fdc61c42228778ed7ce29f2b60"
      }
     },
     "27cfc83234ed40e2b1837532d9e6bfbd": {
      "model_module": "@jupyter-widgets/controls",
      "model_module_version": "1.5.0",
      "model_name": "TextModel",
      "state": {
       "description": "Levels",
       "layout": "IPY_MODEL_6d601d49d7a943f1aabb0c5d2edcf5a7",
       "style": "IPY_MODEL_e3e74ee4478f4ee2afe9eda3d00ec197",
       "value": "4, 4, 4"
      }
     },
     "27e1d3f5b704490aad041eb0a4878e58": {
      "model_module": "@jupyter-widgets/controls",
      "model_module_version": "1.5.0",
      "model_name": "HTMLModel",
      "state": {
       "layout": "IPY_MODEL_d2b147f1fe4e435989f4dd6068565dfb",
       "placeholder": "",
       "style": "IPY_MODEL_4a17a71cdb774cb8b678f8ae57f2e54c",
       "value": "<span style=\"margin-left:10px; color:orange;\">C:\\Users\\dominiquef\\Documents\\GIT\\mira\\geoapps\\assets\\FlinFlon.geoh5</span>"
      }
     },
     "28172670f5ba420f91aac0e216e825ab": {
      "model_module": "@jupyter-widgets/controls",
      "model_module_version": "1.5.0",
      "model_name": "HTMLModel",
      "state": {
       "layout": "IPY_MODEL_fa74b8a171de4c8192c53948e3432b6c",
       "placeholder": "",
       "style": "IPY_MODEL_a48107f0e82a45d8b13ae3be455c5e79",
       "value": "<span style=\"color:green;\">C:\\Users\\dominiquef\\Documents\\GIT\\mira\\geoapps\\assets\\Temp\\</span>"
      }
     },
     "281d3e522a534ce798f564e3c8aa1ac0": {
      "model_module": "@jupyter-widgets/controls",
      "model_module_version": "1.5.0",
      "model_name": "DropdownModel",
      "state": {
       "_options_labels": [
        "",
        "Data_TEM_pseudo3DEPSG_4326",
        "Iso_Iteration_7_model_2_50e-03",
        "Iso_Iteration_7_model_1_00e-02",
        "Iso_Iteration_7_model_1_50e-02",
        "Iso_Iteration_7_model_2_00e-02",
        "Iso_Iteration_7_model_2_00e-02",
        "Iso_Iteration_7_model_5_00e-03",
        "Iso_Iteration_7_model_2_50e-03",
        "Iso_Iteration_7_model_1_50e-02",
        "Iso_Iteration_7_model_1_00e-02",
        "Iso_Iteration_7_model_5_00e-03",
        "fault_splay1",
        "fault_Cliff_Lake",
        "fault_Other_FlinFlon",
        "fault_Club_Lake_splay",
        "fault_Catherine_splay2",
        "fault_Birch_View",
        "fault_Dion_Lake",
        "fault_FlinFlon_splay",
        "fault_West_Mandy_Road",
        "fault_Channing",
        "fault_Ross_Lake",
        "fault_Louis_Hidden",
        "fault_Lake_View_thrust",
        "contact_Schist_Lake",
        "fault_Burley_Lake",
        "fault_Dion_Lake_splay",
        "fault_Green_Lake",
        "fault_FlinFlon",
        "fault_Catherine_splay1",
        "fault_East_Mandy_Road",
        "fault_Other_FlinFlon_South",
        "fault_Catherine_splay4",
        "contact_Stitt_Island",
        "fault_Club_Lake",
        "fault_Tailing_Pond",
        "35_Hidden_Reservoir_Hr5",
        "29_Hidden_Reservoir_Hr1a",
        "60_BlueLagoon_Fb2",
        "20_FlinFlon_Undivided_Int_Dykes_D2f",
        "04_Boundary_Intrusive_S4h",
        "53_Millrock_Rhyolite_Fm4b",
        "19_FlinFlon_Undivided_Int_Dykes_D2b",
        "18_FlinFlon_Undivided_Int_Dykes_777_D2b",
        "06_Phantom_Lake_Intrusive_S3a",
        "21_FlinFlon_Undivided_Int_Dykes_D3a",
        "43_Millrock_CHLSH_South",
        "56_Millrock_Basalt_Fm1ba",
        "17_FlinFlon_Undivided_Int_Dykes_D2",
        "32_Hidden_Reservoir_Hr1b_SW",
        "11_Missi_M3_NE",
        "13_Missi_M1",
        "07_Annabel_Granitoid_S1",
        "45_Millrock_Gabbro_South",
        "01_Late_Intrusive_S5b",
        "31_Hidden_Reservoir_Hr1c_SW",
        "52_Millrock_Rhyolite_Fm4_West_check",
        "55_Millrock_Basalt_Fm1bf",
        "34_Hidden_Reservoir_Hr2b",
        "03_Boundary_Intrusive_S4b",
        "42_Millrock_CHLSH_North",
        "26_Louis_L3",
        "23_FlinFlon_Undivided_Int_Felsic_D4g",
        "30_Hidden_Reservoir_Hr1b",
        "59_BlueLagoon_Fb3",
        "49_Millrock_MVR_Fm5d",
        "44_Millrock_Gabbro_North",
        "27_Hidden_Carlisle_Hc4",
        "22_FlinFlon_Undivided_Int_Felsic_D4e",
        "02_Boundary_Intrusive_S4a",
        "61_BlueLagoon_Fb1_NW",
        "05_Boundary_Intrusive_S4g",
        "39_Ore_Callinan",
        "38_Ore_Dan_Owens",
        "40_Ore_FlinFlon",
        "Inversion_VTEM_Model",
        "CDI_VTEM_model",
        "Data_FEM_pseudo3D",
        "geochem",
        "Inversion_DIGHEM_Model",
        "Topography",
        "Data_TEM_pseudo3D",
        "Data_ZTEM",
        "Mesh"
       ],
       "description": "Object",
       "index": 0,
       "layout": "IPY_MODEL_857bc571b2ab4aa2af1f83c281c53804",
       "style": "IPY_MODEL_d4320c3328844ac5b2cabe409a368d36"
      }
     },
     "283709d9381841fc943844a4d99cea14": {
      "model_module": "@jupyter-widgets/base",
      "model_module_version": "1.2.0",
      "model_name": "LayoutModel",
      "state": {}
     },
     "2851b64d104846ed9708f0e22710e93e": {
      "model_module": "@jupyter-widgets/controls",
      "model_module_version": "1.5.0",
      "model_name": "DescriptionStyleModel",
      "state": {
       "description_width": ""
      }
     },
     "2897b9fd61a5435ea6537fac0c4a7f86": {
      "model_module": "@jupyter-widgets/controls",
      "model_module_version": "1.5.0",
      "model_name": "DropdownModel",
      "state": {
       "_options_labels": [
        "surface",
        "radial"
       ],
       "description": "Type",
       "index": 1,
       "layout": "IPY_MODEL_07a64aaa13e34007a20467bb554b7a6c",
       "style": "IPY_MODEL_c8fb487927d24d13ae72322ac9dae943"
      }
     },
     "28a2474117034aa1b3e880b03529578f": {
      "model_module": "@jupyter-widgets/controls",
      "model_module_version": "1.5.0",
      "model_name": "DescriptionStyleModel",
      "state": {
       "description_width": "initial"
      }
     },
     "28b5335da455484eb3188e1b3b1b754f": {
      "model_module": "@jupyter-widgets/base",
      "model_module_version": "1.2.0",
      "model_name": "LayoutModel",
      "state": {}
     },
     "28be3fffd4844fdebf9a73fd9184539a": {
      "model_module": "@jupyter-widgets/controls",
      "model_module_version": "1.5.0",
      "model_name": "DescriptionStyleModel",
      "state": {
       "description_width": "initial"
      }
     },
     "28be61ea9bc441db8f176b394dffd8fa": {
      "model_module": "@jupyter-widgets/controls",
      "model_module_version": "1.5.0",
      "model_name": "VBoxModel",
      "state": {
       "children": [
        "IPY_MODEL_5edddb08ebdb43f696d31572bb345865",
        "IPY_MODEL_3de961ac37b946cba3a7d1688e65fd9b"
       ],
       "layout": "IPY_MODEL_4eec1deee69d42ec8f81cd4709b275df"
      }
     },
     "28cf6c9797394717a0de6c370341566e": {
      "model_module": "@jupyter-widgets/base",
      "model_module_version": "1.2.0",
      "model_name": "LayoutModel",
      "state": {}
     },
     "28d828cb35fe460ea8386d16f2a65801": {
      "model_module": "@jupyter-widgets/base",
      "model_module_version": "1.2.0",
      "model_name": "LayoutModel",
      "state": {
       "display": "none",
       "grid_area": "filename",
       "width": "auto"
      }
     },
     "28e044139db8465aa0b1c8e0513ded98": {
      "model_module": "@jupyter-widgets/controls",
      "model_module_version": "1.5.0",
      "model_name": "DescriptionStyleModel",
      "state": {
       "description_width": ""
      }
     },
     "28e1c71468ff4eed8b8e09168744ef85": {
      "model_module": "@jupyter-widgets/controls",
      "model_module_version": "1.5.0",
      "model_name": "VBoxModel",
      "state": {
       "children": [
        "IPY_MODEL_9574594be17a4e91b887a04ce10e7e35",
        "IPY_MODEL_e7abbfe4e8ea4d75ba42643f43ba381b"
       ],
       "layout": "IPY_MODEL_f901a497e0c449caa9aa4b11c2af6c11"
      }
     },
     "28eb87d3a06049f6a898536c479e0059": {
      "model_module": "@jupyter-widgets/controls",
      "model_module_version": "1.5.0",
      "model_name": "DescriptionStyleModel",
      "state": {
       "description_width": ""
      }
     },
     "28f5242bf4094da0a2543eddeb2fa8b7": {
      "model_module": "@jupyter-widgets/controls",
      "model_module_version": "1.5.0",
      "model_name": "DescriptionStyleModel",
      "state": {
       "description_width": ""
      }
     },
     "28f9d89a90324b9aaaab13e515ae3106": {
      "model_module": "@jupyter-widgets/controls",
      "model_module_version": "1.5.0",
      "model_name": "TextModel",
      "state": {
       "description": "Levels",
       "layout": "IPY_MODEL_c7a5b243e5554c2f913a2d345ef25f95",
       "style": "IPY_MODEL_aeee0ed2cf3c4c96855c5ada112e367c",
       "value": "0.0, 0.0, 2.0"
      }
     },
     "28fe14e5114041afade76c1540bab14c": {
      "model_module": "@jupyter-widgets/controls",
      "model_module_version": "1.5.0",
      "model_name": "DescriptionStyleModel",
      "state": {
       "description_width": "initial"
      }
     },
     "290058e1c1b64571a45a7e5be229126d": {
      "model_module": "@jupyter-widgets/base",
      "model_module_version": "1.2.0",
      "model_name": "LayoutModel",
      "state": {
       "overflow": "auto"
      }
     },
     "2904bc1468124adca8330acc0a0b42a4": {
      "model_module": "@jupyter-widgets/controls",
      "model_module_version": "1.5.0",
      "model_name": "ButtonStyleModel",
      "state": {}
     },
     "2913b2d46a17467996932cd3d0a3c42e": {
      "model_module": "@jupyter-widgets/controls",
      "model_module_version": "1.5.0",
      "model_name": "LabelModel",
      "state": {
       "layout": "IPY_MODEL_e01d2254ed844b0db5262952bbd8cb16",
       "style": "IPY_MODEL_d0fe0a3a16ac47fd96c1896a434168c8",
       "value": "Monitoring folder"
      }
     },
     "2915e470ae9d4d0aae7b6e9fb171ad6c": {
      "model_module": "@jupyter-widgets/base",
      "model_module_version": "1.2.0",
      "model_name": "LayoutModel",
      "state": {
       "display": "none"
      }
     },
     "294c678fa25442d281487144fe20b247": {
      "model_module": "@jupyter-widgets/controls",
      "model_module_version": "1.5.0",
      "model_name": "DescriptionStyleModel",
      "state": {
       "description_width": ""
      }
     },
     "2955a1f9c0084fb58a294898f55c9f69": {
      "model_module": "@jupyter-widgets/base",
      "model_module_version": "1.2.0",
      "model_name": "LayoutModel",
      "state": {
       "width": "auto"
      }
     },
     "295890c24bc242d4acc15c0df8195f72": {
      "model_module": "@jupyter-widgets/controls",
      "model_module_version": "1.5.0",
      "model_name": "VBoxModel",
      "state": {
       "children": [
        "IPY_MODEL_4a7cf98c06a746dd9e60ec3f6a70d8b7",
        "IPY_MODEL_c52dc24a32b3459a99edf033db57aca9",
        "IPY_MODEL_6448554a89934760914634f24788ad88"
       ],
       "layout": "IPY_MODEL_dd58ac58d96f46f090f1df9a3d438312"
      }
     },
     "2962a5ddeb1c4fe3a599554279f23a17": {
      "model_module": "@jupyter-widgets/controls",
      "model_module_version": "1.5.0",
      "model_name": "VBoxModel",
      "state": {
       "children": [
        "IPY_MODEL_eca710cac25647b2aeecac17a49e12d6",
        "IPY_MODEL_b3f649a162214891801870fb87391f08",
        "IPY_MODEL_371e504bb2d647d08b231773154583af"
       ],
       "layout": "IPY_MODEL_5f0bb18275714902b7eb4d29e8f2d521"
      }
     },
     "29653048a2da4f80b9f41a5d8ba9c7b2": {
      "model_module": "@jupyter-widgets/base",
      "model_module_version": "1.2.0",
      "model_name": "LayoutModel",
      "state": {}
     },
     "2977b17282934d9591600f82194f08ed": {
      "model_module": "@jupyter-widgets/controls",
      "model_module_version": "1.5.0",
      "model_name": "DescriptionStyleModel",
      "state": {
       "description_width": "initial"
      }
     },
     "297cb72e13ce48a083fda750b36e30d8": {
      "model_module": "@jupyter-widgets/base",
      "model_module_version": "1.2.0",
      "model_name": "LayoutModel",
      "state": {}
     },
     "2995a9c875be475aaba5197332427831": {
      "model_module": "@jupyter-widgets/controls",
      "model_module_version": "1.5.0",
      "model_name": "VBoxModel",
      "state": {
       "children": [
        "IPY_MODEL_bc90bf89b9d2439fac73e4dc0e1bdf20",
        "IPY_MODEL_d601247c5cd34aa6afe4b730f3593f4f"
       ],
       "layout": "IPY_MODEL_e31a7fa4bdc94d5a8b8c3a3c0961b7ea"
      }
     },
     "2999dfb545ae44efa9f72ec6943ac92f": {
      "model_module": "@jupyter-widgets/controls",
      "model_module_version": "1.5.0",
      "model_name": "DescriptionStyleModel",
      "state": {
       "description_width": ""
      }
     },
     "29a5c296344c40d6b04e3719aae7203e": {
      "model_module": "@jupyter-widgets/base",
      "model_module_version": "1.2.0",
      "model_name": "LayoutModel",
      "state": {}
     },
     "29bb942bb0014a2382ce00cc0e4c6bfa": {
      "model_module": "@jupyter-widgets/controls",
      "model_module_version": "1.5.0",
      "model_name": "DescriptionStyleModel",
      "state": {
       "description_width": "initial"
      }
     },
     "2a3f137c35924f4fa30859f7ef09f140": {
      "model_module": "@jupyter-widgets/controls",
      "model_module_version": "1.5.0",
      "model_name": "VBoxModel",
      "state": {
       "children": [
        "IPY_MODEL_63c5eeb32be44614972a9fd05f942b00",
        "IPY_MODEL_fe8b74d793824547acb1d74becc45cfd",
        "IPY_MODEL_68d2d71578624b2a8bec3ca140537f23",
        "IPY_MODEL_4ac74c8ea7074195a7ebdddeec5e544a",
        "IPY_MODEL_73e2c46fbaa8424895d7c2178f937c40"
       ],
       "layout": "IPY_MODEL_0dd6b5649bce42f2884bbb113456b824"
      }
     },
     "2a758454b6704e0a8de3ce3c9b250f1c": {
      "model_module": "@jupyter-widgets/controls",
      "model_module_version": "1.5.0",
      "model_name": "DescriptionStyleModel",
      "state": {
       "description_width": ""
      }
     },
     "2a7a506c10fc4d7983a9b42f340e456a": {
      "model_module": "@jupyter-widgets/controls",
      "model_module_version": "1.5.0",
      "model_name": "ButtonStyleModel",
      "state": {}
     },
     "2a7e852db9fe47d59ed954d59a37af7f": {
      "model_module": "@jupyter-widgets/controls",
      "model_module_version": "1.5.0",
      "model_name": "DropdownModel",
      "state": {
       "_options_labels": [
        "",
        "--- Channels ---",
        "CPI900",
        "CPQ56k",
        "CPQ7200",
        "CPQ900",
        "CPI7200",
        "Line",
        "DEM",
        "CPI56k",
        "X",
        "Y",
        "Z"
       ],
       "description": "Data: ",
       "index": 0,
       "layout": "IPY_MODEL_f6b9e040d3a74593992bfaf4cbbe2943",
       "style": "IPY_MODEL_769b0d91beb54803a4a4d944195eae0b"
      }
     },
     "2a81ae2b7b5d4516b5eeb652c0280779": {
      "model_module": "@jupyter-widgets/controls",
      "model_module_version": "1.5.0",
      "model_name": "ButtonStyleModel",
      "state": {}
     },
     "2a97ac38bdbe4a23af28cee6cfe5fcc9": {
      "model_module": "@jupyter-widgets/controls",
      "model_module_version": "1.5.0",
      "model_name": "DescriptionStyleModel",
      "state": {
       "description_width": ""
      }
     },
     "2aa43ebcc83f40c4980fe2ebd71de899": {
      "model_module": "@jupyter-widgets/controls",
      "model_module_version": "1.5.0",
      "model_name": "HBoxModel",
      "state": {
       "children": [
        "IPY_MODEL_86c02b0cf5ff40d1b58bf321e7536cd4",
        "IPY_MODEL_cb181f7aa017467cbfe145d1efc360e1",
        "IPY_MODEL_748e617bc13c4a4f80cbd9cbdd84f5cb"
       ],
       "layout": "IPY_MODEL_88f773a4887f4d16b57fab25b4357fb1"
      }
     },
     "2addf0f0a6844b6a87c693a105c2979d": {
      "model_module": "@jupyter-widgets/controls",
      "model_module_version": "1.5.0",
      "model_name": "DescriptionStyleModel",
      "state": {
       "description_width": ""
      }
     },
     "2ae2148f053048ea8811499b4f11e7b1": {
      "model_module": "@jupyter-widgets/controls",
      "model_module_version": "1.5.0",
      "model_name": "DescriptionStyleModel",
      "state": {
       "description_width": "initial"
      }
     },
     "2af31756dea4457baf3815aaa3ae9699": {
      "model_module": "@jupyter-widgets/controls",
      "model_module_version": "1.5.0",
      "model_name": "DescriptionStyleModel",
      "state": {
       "description_width": "initial"
      }
     },
     "2b1ac6c3f6e24fd3a2045d6ff13780f2": {
      "model_module": "@jupyter-widgets/controls",
      "model_module_version": "1.5.0",
      "model_name": "DropdownModel",
      "state": {
       "_options_labels": [
        "",
        "CoordinateTransformation/Data_TEM_pseudo3DEPSG_4326",
        "ISO/Iso_Iteration_7_model_2_00e-02",
        "ISO/Iso_Iteration_7_model_2_50e-03",
        "ISO/Iso_Iteration_7_model_5_00e-03",
        "ISO/Iso_Iteration_7_model_1_00e-02",
        "ISO/Iso_Iteration_7_model_1_50e-02",
        "Ore/39_Ore_Callinan",
        "Ore/38_Ore_Dan_Owens",
        "Ore/40_Ore_FlinFlon",
        "Workspace/Inversion_VTEM_Model",
        "Workspace/CDI_VTEM_model",
        "Workspace/Data_FEM_pseudo3D",
        "Workspace/geochem",
        "Workspace/Inversion_DIGHEM_Model",
        "Workspace/Topography",
        "Workspace/Data_TEM_pseudo3D",
        "Workspace/Data_ZTEM",
        "Workspace/Mesh"
       ],
       "description": "Object",
       "index": 12,
       "layout": "IPY_MODEL_52a8bffc59f7419884a5123570adce3a",
       "style": "IPY_MODEL_94e5b34f564c42ac8312f310fd491da0"
      }
     },
     "2b2c10c6556947c4a46a081a9284eb59": {
      "model_module": "@jupyter-widgets/base",
      "model_module_version": "1.2.0",
      "model_name": "LayoutModel",
      "state": {}
     },
     "2b2c1557e54f40b7997ff858adbe5236": {
      "model_module": "@jupyter-widgets/controls",
      "model_module_version": "1.5.0",
      "model_name": "LabelModel",
      "state": {
       "layout": "IPY_MODEL_39280f7f863e4ef8bf925ebe77d7d062",
       "style": "IPY_MODEL_162439ef8ae6479c9c8d0f933eb740d1",
       "value": "Padding distance"
      }
     },
     "2b2fc22e21cf4a91ac7ade8d3d3a789c": {
      "model_module": "@jupyter-widgets/base",
      "model_module_version": "1.2.0",
      "model_name": "LayoutModel",
      "state": {
       "overflow": "auto"
      }
     },
     "2b4d034bee1e4974b1bf97da398080d3": {
      "model_module": "@jupyter-widgets/controls",
      "model_module_version": "1.5.0",
      "model_name": "ButtonModel",
      "state": {
       "description": "Change",
       "layout": "IPY_MODEL_eecae4d2495a4bbf9c57e623d51abe6d",
       "style": "IPY_MODEL_c03680f2b30947678b697e03290c8304"
      }
     },
     "2b677560852f4b569a4ea7903dfae4eb": {
      "model_module": "@jupyter-widgets/controls",
      "model_module_version": "1.5.0",
      "model_name": "ButtonStyleModel",
      "state": {}
     },
     "2b684c8e8cb24a9a84621ea25f09c99f": {
      "model_module": "@jupyter-widgets/controls",
      "model_module_version": "1.5.0",
      "model_name": "DescriptionStyleModel",
      "state": {
       "description_width": ""
      }
     },
     "2ba7fd034c5f48569be1f3a35e323023": {
      "model_module": "@jupyter-widgets/base",
      "model_module_version": "1.2.0",
      "model_name": "LayoutModel",
      "state": {}
     },
     "2baae3b82b7444359b15c61c05ed3dfb": {
      "model_module": "@jupyter-widgets/controls",
      "model_module_version": "1.5.0",
      "model_name": "DescriptionStyleModel",
      "state": {
       "description_width": "initial"
      }
     },
     "2bab0e10c6264fb1bccb759916f9ab0c": {
      "model_module": "@jupyter-widgets/base",
      "model_module_version": "1.2.0",
      "model_name": "LayoutModel",
      "state": {}
     },
     "2bc27852f4bf4e5d86826c23a1721d5f": {
      "model_module": "@jupyter-widgets/base",
      "model_module_version": "1.2.0",
      "model_name": "LayoutModel",
      "state": {}
     },
     "2bdd77c9f0e143f18827e54d614deaa5": {
      "model_module": "@jupyter-widgets/controls",
      "model_module_version": "1.5.0",
      "model_name": "LabelModel",
      "state": {
       "layout": "IPY_MODEL_9b7fed3b71cb46318b05ec9bb43dcfd5",
       "style": "IPY_MODEL_a4305a19f45743e9b1b88abbc19dc4f3",
       "value": "Padding distance"
      }
     },
     "2be3a1665306482dafe4743b22a66cce": {
      "model_module": "@jupyter-widgets/controls",
      "model_module_version": "1.5.0",
      "model_name": "TextModel",
      "state": {
       "layout": "IPY_MODEL_a94bedb53917424dbb6d96d838912ac7",
       "placeholder": "output filename",
       "style": "IPY_MODEL_5a1d1244a0564320b1f4094231a3ce6b",
       "value": "FlinFlon.geoh5"
      }
     },
     "2c0a7f4fa62747a1b1c7bc3951c0708a": {
      "model_module": "@jupyter-widgets/base",
      "model_module_version": "1.2.0",
      "model_name": "LayoutModel",
      "state": {}
     },
     "2c1c306ac08145858307b9bb3c77219c": {
      "model_module": "@jupyter-widgets/base",
      "model_module_version": "1.2.0",
      "model_name": "LayoutModel",
      "state": {}
     },
     "2c2da5a417cb422b9f17cb57708947bd": {
      "model_module": "@jupyter-widgets/base",
      "model_module_version": "1.2.0",
      "model_name": "LayoutModel",
      "state": {
       "min_width": "6em",
       "width": "6em"
      }
     },
     "2c3a8dfb71874259937f520f8f7a66d9": {
      "model_module": "@jupyter-widgets/controls",
      "model_module_version": "1.5.0",
      "model_name": "GridBoxModel",
      "state": {
       "children": [
        "IPY_MODEL_b7579205463d48c28f4191a408d512da",
        "IPY_MODEL_d38c6beeb7c342089e962a55b7cd9dc5",
        "IPY_MODEL_aaf7f0b6e8b94a45b0975357402590e9"
       ],
       "layout": "IPY_MODEL_9986c0792f1243c98fa092fed6bb6b41"
      }
     },
     "2c3ada78e189439cb440534b3a30fcd2": {
      "model_module": "@jupyter-widgets/controls",
      "model_module_version": "1.5.0",
      "model_name": "DropdownModel",
      "state": {
       "_options_labels": [
        "surface",
        "radial"
       ],
       "description": "Type",
       "index": 0,
       "layout": "IPY_MODEL_68dce76c26614876971ec640a9169fc3",
       "style": "IPY_MODEL_a5380b8a84dc4719b547640d373403a3"
      }
     },
     "2cc61d1ddb924f488993aa24ec6b54d4": {
      "model_module": "@jupyter-widgets/controls",
      "model_module_version": "1.5.0",
      "model_name": "VBoxModel",
      "state": {
       "children": [
        "IPY_MODEL_741cc84d563e44c49df052bfc33f1e93",
        "IPY_MODEL_413e69aace0640a6853c9342e0a5d55a"
       ],
       "layout": "IPY_MODEL_4b4c4634b3264a3fa79a1b81f50cafc5"
      }
     },
     "2ccd2eab997d4a22b9d9212e5a97d6e7": {
      "model_module": "@jupyter-widgets/base",
      "model_module_version": "1.2.0",
      "model_name": "LayoutModel",
      "state": {}
     },
     "2ce3f84cfa2f451b8a6f609b86265bae": {
      "model_module": "@jupyter-widgets/base",
      "model_module_version": "1.2.0",
      "model_name": "LayoutModel",
      "state": {}
     },
     "2cfe7d85a21a476689abc2841eb66008": {
      "model_module": "@jupyter-widgets/controls",
      "model_module_version": "1.5.0",
      "model_name": "DescriptionStyleModel",
      "state": {
       "description_width": "initial"
      }
     },
     "2d065f5064a04813809ce31a06b44b36": {
      "model_module": "@jupyter-widgets/controls",
      "model_module_version": "1.5.0",
      "model_name": "LabelModel",
      "state": {
       "layout": "IPY_MODEL_b2fe87b1f5b64b3fad492dd26b92b619",
       "style": "IPY_MODEL_a6fb49fbfc3449f0b91878eb8f522b1d",
       "value": "Core cell size"
      }
     },
     "2d10265c653448aaa9c01a97a0724253": {
      "model_module": "@jupyter-widgets/controls",
      "model_module_version": "1.5.0",
      "model_name": "DescriptionStyleModel",
      "state": {
       "description_width": "initial"
      }
     },
     "2d170e65f0fa4a98be48a36e7e8051b0": {
      "model_module": "@jupyter-widgets/controls",
      "model_module_version": "1.5.0",
      "model_name": "DescriptionStyleModel",
      "state": {
       "description_width": "initial"
      }
     },
     "2d1b34af9f494617acfafe2fd69ce458": {
      "model_module": "@jupyter-widgets/controls",
      "model_module_version": "1.5.0",
      "model_name": "ButtonStyleModel",
      "state": {}
     },
     "2d213e8d4eff494bb40c11826596cd0d": {
      "model_module": "@jupyter-widgets/base",
      "model_module_version": "1.2.0",
      "model_name": "LayoutModel",
      "state": {}
     },
     "2d2dc191dd5f4b1ab1660a26fed3c423": {
      "model_module": "@jupyter-widgets/controls",
      "model_module_version": "1.5.0",
      "model_name": "ButtonStyleModel",
      "state": {}
     },
     "2d39987bb37143068ab8e572302dee9c": {
      "model_module": "@jupyter-widgets/controls",
      "model_module_version": "1.5.0",
      "model_name": "VBoxModel",
      "state": {
       "children": [
        "IPY_MODEL_d306c780c43846bdba9dabbca7758a50",
        "IPY_MODEL_9eeb62a427104f099ecc7f663e43b9e5",
        "IPY_MODEL_0c2ddbc06eaa4d1eb50a0d12f6f7a4a0",
        "IPY_MODEL_0846b71a096e46fba670b4fa521b1fe8",
        "IPY_MODEL_6e0ac9c1cf8f451e8ade3a816e34acb7"
       ],
       "layout": "IPY_MODEL_d4a786ed0cab494785be9a11e3b78b94"
      }
     },
     "2d3b6f474d184990900ec917098ba785": {
      "model_module": "@jupyter-widgets/controls",
      "model_module_version": "1.5.0",
      "model_name": "DescriptionStyleModel",
      "state": {
       "description_width": ""
      }
     },
     "2d586bbc1dbe4f279af6ddbb014e27e8": {
      "model_module": "@jupyter-widgets/base",
      "model_module_version": "1.2.0",
      "model_name": "LayoutModel",
      "state": {
       "margin": "0 0 0 1em"
      }
     },
     "2d76452d652a45db9457b034b6615d35": {
      "model_module": "@jupyter-widgets/base",
      "model_module_version": "1.2.0",
      "model_name": "LayoutModel",
      "state": {}
     },
     "2d8188fee0864247b73a328c4e6023f3": {
      "model_module": "@jupyter-widgets/controls",
      "model_module_version": "1.5.0",
      "model_name": "DescriptionStyleModel",
      "state": {
       "description_width": "initial"
      }
     },
     "2d9026cfd75b404682e3093554233470": {
      "model_module": "@jupyter-widgets/controls",
      "model_module_version": "1.5.0",
      "model_name": "LabelModel",
      "state": {
       "layout": "IPY_MODEL_a0caa9da94ad49f895505535e876cd08",
       "style": "IPY_MODEL_9c769d2979c348e6a830684e405b334a",
       "value": "Padding distance"
      }
     },
     "2d9a9b8cf5d94354bc310c6803cce4b3": {
      "model_module": "@jupyter-widgets/controls",
      "model_module_version": "1.5.0",
      "model_name": "ButtonStyleModel",
      "state": {}
     },
     "2dccd8d0769a438ea5e6b0114caad58b": {
      "model_module": "@jupyter-widgets/controls",
      "model_module_version": "1.5.0",
      "model_name": "DescriptionStyleModel",
      "state": {
       "description_width": ""
      }
     },
     "2dd7a35f89eb41f2998a939532243773": {
      "model_module": "@jupyter-widgets/controls",
      "model_module_version": "1.5.0",
      "model_name": "DescriptionStyleModel",
      "state": {
       "description_width": "initial"
      }
     },
     "2ddc299ed191429db0196ca407a610c3": {
      "model_module": "@jupyter-widgets/controls",
      "model_module_version": "1.5.0",
      "model_name": "LabelModel",
      "state": {
       "layout": "IPY_MODEL_5991bfc213704e80b16c2d909a1c70a9",
       "style": "IPY_MODEL_4c4ceb4e4b704947a74f053b92d55586",
       "value": "Padding distance"
      }
     },
     "2de29a9236d54020a659ca1a61f0b546": {
      "model_module": "@jupyter-widgets/controls",
      "model_module_version": "1.5.0",
      "model_name": "TextModel",
      "state": {
       "description": "Levels",
       "layout": "IPY_MODEL_0d3c68f69bb7444d88c9f1accfc9507a",
       "style": "IPY_MODEL_219dfb90e7c1432ca4847ce19ab23099",
       "value": "0.0, 0.0, 2.0"
      }
     },
     "2de89fe41dbb47f5abc1e7bc6abc47b3": {
      "model_module": "@jupyter-widgets/base",
      "model_module_version": "1.2.0",
      "model_name": "LayoutModel",
      "state": {}
     },
     "2df14cc99af142439d0cdca03448c5bd": {
      "model_module": "@jupyter-widgets/controls",
      "model_module_version": "1.5.0",
      "model_name": "DescriptionStyleModel",
      "state": {
       "description_width": ""
      }
     },
     "2df814ccfba047119f5ca5978abc0c4f": {
      "model_module": "@jupyter-widgets/controls",
      "model_module_version": "1.5.0",
      "model_name": "ButtonModel",
      "state": {
       "description": "Create copy:",
       "layout": "IPY_MODEL_8095569a9e804ff2a50a29766dd662fb",
       "style": "IPY_MODEL_7f78f38bc65941c790dc7d67c51190ef"
      }
     },
     "2e009b3698e242488ce46ad5f4972a86": {
      "model_module": "@jupyter-widgets/controls",
      "model_module_version": "1.5.0",
      "model_name": "DescriptionStyleModel",
      "state": {
       "description_width": ""
      }
     },
     "2e24c489f7f741729cfa2a12094b993f": {
      "model_module": "@jupyter-widgets/controls",
      "model_module_version": "1.5.0",
      "model_name": "DescriptionStyleModel",
      "state": {
       "description_width": ""
      }
     },
     "2e61f5f3c5bc4a0cb5451fa9916168ee": {
      "model_module": "@jupyter-widgets/controls",
      "model_module_version": "1.5.0",
      "model_name": "DescriptionStyleModel",
      "state": {
       "description_width": "initial"
      }
     },
     "2ea2a83409f2453e98751fd5a72bca4e": {
      "model_module": "@jupyter-widgets/controls",
      "model_module_version": "1.5.0",
      "model_name": "DescriptionStyleModel",
      "state": {
       "description_width": "initial"
      }
     },
     "2eafec1af6b943a78490765925113bb5": {
      "model_module": "@jupyter-widgets/controls",
      "model_module_version": "1.5.0",
      "model_name": "DescriptionStyleModel",
      "state": {
       "description_width": ""
      }
     },
     "2eb765f0d42b470e9794e4c6fd8e123c": {
      "model_module": "@jupyter-widgets/controls",
      "model_module_version": "1.5.0",
      "model_name": "DescriptionStyleModel",
      "state": {
       "description_width": ""
      }
     },
     "2ee3c50df128429b8fe37c3edb395480": {
      "model_module": "@jupyter-widgets/controls",
      "model_module_version": "1.5.0",
      "model_name": "ButtonStyleModel",
      "state": {}
     },
     "2eeee18a4e924cffabbb8aa5bddbe2aa": {
      "model_module": "@jupyter-widgets/controls",
      "model_module_version": "1.5.0",
      "model_name": "HBoxModel",
      "state": {
       "children": [
        "IPY_MODEL_46b6417b6ccc40b996e92ae6a98382ca",
        "IPY_MODEL_6dddbdcff68740bb8f982c0c6ee64bf4"
       ],
       "layout": "IPY_MODEL_df969fc28974412fb4d8500ed0baccd6"
      }
     },
     "2f0948e583784d5aa71260af1d838e9a": {
      "model_module": "@jupyter-widgets/controls",
      "model_module_version": "1.5.0",
      "model_name": "LabelModel",
      "state": {
       "layout": "IPY_MODEL_8dac5faf6c8a41fbaedec3e3d089a962",
       "style": "IPY_MODEL_c6967c80449b4dca85c188e457f67a68",
       "value": "Base Parameters"
      }
     },
     "2f42759d96134e1d8cbb99be980375a5": {
      "model_module": "@jupyter-widgets/controls",
      "model_module_version": "1.5.0",
      "model_name": "DescriptionStyleModel",
      "state": {
       "description_width": ""
      }
     },
     "2f42da2294a9495fb1682662e6cd117b": {
      "model_module": "@jupyter-widgets/controls",
      "model_module_version": "1.5.0",
      "model_name": "ButtonStyleModel",
      "state": {}
     },
     "2f4578132eb740baa88a55b3ba9d1646": {
      "model_module": "@jupyter-widgets/base",
      "model_module_version": "1.2.0",
      "model_name": "LayoutModel",
      "state": {
       "display": "none",
       "grid_area": "filename",
       "width": "auto"
      }
     },
     "2f4d53c8e6e843eb82737e668cdb6a86": {
      "model_module": "@jupyter-widgets/controls",
      "model_module_version": "1.5.0",
      "model_name": "DescriptionStyleModel",
      "state": {
       "description_width": ""
      }
     },
     "2f5b389765824ab18a25bb9cc169dc40": {
      "model_module": "@jupyter-widgets/controls",
      "model_module_version": "1.5.0",
      "model_name": "VBoxModel",
      "state": {
       "children": [
        "IPY_MODEL_11cd357759a14d81a5d251f15931903b",
        "IPY_MODEL_a8a7582778da4303a447635eed2d69e4",
        "IPY_MODEL_0ee364fe80b24fe988d05ea178509338",
        "IPY_MODEL_5b3d207ebf66415bbf1db35052e24890",
        "IPY_MODEL_d47418fe040541e0a594f4279c279e25"
       ],
       "layout": "IPY_MODEL_9aae5e105e944a58bbb2d90a459607c3"
      }
     },
     "2f5b4541cfa946408a67f255db79f406": {
      "model_module": "@jupyter-widgets/controls",
      "model_module_version": "1.5.0",
      "model_name": "DescriptionStyleModel",
      "state": {
       "description_width": ""
      }
     },
     "2f757d0ca6d04c45917bd5a0d5951919": {
      "model_module": "@jupyter-widgets/controls",
      "model_module_version": "1.5.0",
      "model_name": "DescriptionStyleModel",
      "state": {
       "description_width": "initial"
      }
     },
     "2f7c7846d3e241948ff42bfb81a4b7d8": {
      "model_module": "@jupyter-widgets/base",
      "model_module_version": "1.2.0",
      "model_name": "LayoutModel",
      "state": {}
     },
     "2f865ef82b31446c952f4d4734e3838e": {
      "model_module": "@jupyter-widgets/controls",
      "model_module_version": "1.5.0",
      "model_name": "DescriptionStyleModel",
      "state": {
       "description_width": "initial"
      }
     },
     "2fbdcb57ae554e5c83d50b2ed665bde6": {
      "model_module": "@jupyter-widgets/controls",
      "model_module_version": "1.5.0",
      "model_name": "SelectModel",
      "state": {
       "_options_labels": [
        "📁 ..",
        "📁 SimPEG_PFInversion",
        "📁 Temp",
        "📁 uijson",
        "FlinFlon.geoh5",
        "FlinFlon_dcip.geoh5",
        "MtDore_TMI.geoh5",
        "tem.geoh5",
        "test_forward.ui.geoh5",
        "test_forward.ui.json"
       ],
       "index": 4,
       "layout": "IPY_MODEL_b23b536b885a4f418a5ced086bdeb32c",
       "rows": 8,
       "style": "IPY_MODEL_8ecacfa63870479c81a4a9202c22bd97"
      }
     },
     "2fd1041c08f04b5e924d1987846a7cd5": {
      "model_module": "@jupyter-widgets/controls",
      "model_module_version": "1.5.0",
      "model_name": "DescriptionStyleModel",
      "state": {
       "description_width": "initial"
      }
     },
     "2fd760e835074056b2e251da58a0a8e4": {
      "model_module": "@jupyter-widgets/controls",
      "model_module_version": "1.5.0",
      "model_name": "DropdownModel",
      "state": {
       "_options_labels": [
        "surface",
        "radial"
       ],
       "description": "Type",
       "index": 0,
       "layout": "IPY_MODEL_a04b4540d4a54485aebf007c3e027b25",
       "style": "IPY_MODEL_b376fa76b53b4f3ba04afea0147e0302"
      }
     },
     "2ff1b6f01cab40d194588eb1e4703ded": {
      "model_module": "@jupyter-widgets/controls",
      "model_module_version": "1.5.0",
      "model_name": "DescriptionStyleModel",
      "state": {
       "description_width": ""
      }
     },
     "300bcbfaf2b547f897f1decee4c05697": {
      "model_module": "@jupyter-widgets/controls",
      "model_module_version": "1.5.0",
      "model_name": "DescriptionStyleModel",
      "state": {
       "description_width": "initial"
      }
     },
     "30120b76a2bf4c0d977033bc01cc2cc7": {
      "model_module": "@jupyter-widgets/controls",
      "model_module_version": "1.5.0",
      "model_name": "DescriptionStyleModel",
      "state": {
       "description_width": ""
      }
     },
     "3014b148336842b99a4501552a8e38de": {
      "model_module": "@jupyter-widgets/controls",
      "model_module_version": "1.5.0",
      "model_name": "VBoxModel",
      "state": {
       "children": [
        "IPY_MODEL_26dcc1a5244b4754b4d13a8c4be82c1c",
        "IPY_MODEL_28be61ea9bc441db8f176b394dffd8fa",
        "IPY_MODEL_28e1c71468ff4eed8b8e09168744ef85"
       ],
       "layout": "IPY_MODEL_a7097ecb237b44c386c5f156625fdfb8"
      }
     },
     "301c8aaed8c941f397a1694029a88d54": {
      "model_module": "@jupyter-widgets/controls",
      "model_module_version": "1.5.0",
      "model_name": "DescriptionStyleModel",
      "state": {
       "description_width": "initial"
      }
     },
     "3020969c591c490eb2bb951b780fb5b8": {
      "model_module": "@jupyter-widgets/controls",
      "model_module_version": "1.5.0",
      "model_name": "DescriptionStyleModel",
      "state": {
       "description_width": "initial"
      }
     },
     "302ac99a3c4a486b8ddb5685dd9c372a": {
      "model_module": "@jupyter-widgets/base",
      "model_module_version": "1.2.0",
      "model_name": "LayoutModel",
      "state": {
       "grid_area": "dircontent",
       "width": "auto"
      }
     },
     "30304c6766e4420e8f43a7223d6029ff": {
      "model_module": "@jupyter-widgets/base",
      "model_module_version": "1.2.0",
      "model_name": "LayoutModel",
      "state": {}
     },
     "3063cb3f889441208b254c37161b8c17": {
      "model_module": "@jupyter-widgets/controls",
      "model_module_version": "1.5.0",
      "model_name": "DescriptionStyleModel",
      "state": {
       "description_width": ""
      }
     },
     "307a662cfc3e4951989ddeac38ce55e6": {
      "model_module": "@jupyter-widgets/controls",
      "model_module_version": "1.5.0",
      "model_name": "DescriptionStyleModel",
      "state": {
       "description_width": ""
      }
     },
     "3083a2522d6740078aeb0bfa5373551f": {
      "model_module": "@jupyter-widgets/controls",
      "model_module_version": "1.5.0",
      "model_name": "ButtonStyleModel",
      "state": {}
     },
     "30a59511531843d0a022eddc69fd5494": {
      "model_module": "@jupyter-widgets/controls",
      "model_module_version": "1.5.0",
      "model_name": "DescriptionStyleModel",
      "state": {
       "description_width": "initial"
      }
     },
     "30aba7dd38724fe0bef363263ffa9e89": {
      "model_module": "@jupyter-widgets/controls",
      "model_module_version": "1.5.0",
      "model_name": "DescriptionStyleModel",
      "state": {
       "description_width": ""
      }
     },
     "30c9e6ec906b4ea08410433aa7214470": {
      "model_module": "@jupyter-widgets/controls",
      "model_module_version": "1.5.0",
      "model_name": "TextModel",
      "state": {
       "layout": "IPY_MODEL_82113c243fcc44278b3097dd66fc051d",
       "placeholder": "output filename",
       "style": "IPY_MODEL_c4f5fe746ca94ff3ad74b6728baaf69a",
       "value": "FlinFlon.geoh5"
      }
     },
     "30da0de13b9446ddb56e6b46a3af2c06": {
      "model_module": "@jupyter-widgets/controls",
      "model_module_version": "1.5.0",
      "model_name": "DescriptionStyleModel",
      "state": {
       "description_width": "initial"
      }
     },
     "30ead4e765584d8f9527883842d2d32b": {
      "model_module": "@jupyter-widgets/controls",
      "model_module_version": "1.5.0",
      "model_name": "DescriptionStyleModel",
      "state": {
       "description_width": "initial"
      }
     },
     "310c017d50d9486da4d5547f43702478": {
      "model_module": "@jupyter-widgets/controls",
      "model_module_version": "1.5.0",
      "model_name": "ButtonStyleModel",
      "state": {}
     },
     "311eb935c4104cebb2348ca501c97827": {
      "model_module": "@jupyter-widgets/controls",
      "model_module_version": "1.5.0",
      "model_name": "VBoxModel",
      "state": {
       "children": [
        "IPY_MODEL_85c3b4d099ae484ab3900a5a9a8eb198",
        "IPY_MODEL_0c60f4065ac940429c46672aef3af5b4"
       ],
       "layout": "IPY_MODEL_c443a353ffb2417fb0727e86d455624c"
      }
     },
     "311f456fc2584589ae7ea36a72fc6c86": {
      "model_module": "@jupyter-widgets/controls",
      "model_module_version": "1.5.0",
      "model_name": "DropdownModel",
      "state": {
       "_options_labels": [
        "surface",
        "radial"
       ],
       "description": "Type",
       "index": 1,
       "layout": "IPY_MODEL_fc3453ee633b43d7b87c08cc19c87600",
       "style": "IPY_MODEL_0650ca9953d94279b287762c4db8c44e"
      }
     },
     "315b01822d084772a5a98187595b94ef": {
      "model_module": "@jupyter-widgets/controls",
      "model_module_version": "1.5.0",
      "model_name": "DescriptionStyleModel",
      "state": {
       "description_width": "initial"
      }
     },
     "316a6bfdcacc4efba482ed8923d3e6fd": {
      "model_module": "@jupyter-widgets/controls",
      "model_module_version": "1.5.0",
      "model_name": "ButtonStyleModel",
      "state": {}
     },
     "31754222dec8471aac16c446a5b1992f": {
      "model_module": "@jupyter-widgets/base",
      "model_module_version": "1.2.0",
      "model_name": "LayoutModel",
      "state": {}
     },
     "317cff691782439e850d2c0d0252418c": {
      "model_module": "@jupyter-widgets/base",
      "model_module_version": "1.2.0",
      "model_name": "LayoutModel",
      "state": {}
     },
     "318ffdfbf2104a439fcc1b1e1cf47d53": {
      "model_module": "@jupyter-widgets/base",
      "model_module_version": "1.2.0",
      "model_name": "LayoutModel",
      "state": {
       "margin": "0 0 0 1em"
      }
     },
     "31910868a23b436fb19504cfa2d29809": {
      "model_module": "@jupyter-widgets/base",
      "model_module_version": "1.2.0",
      "model_name": "LayoutModel",
      "state": {}
     },
     "31a26714ec894ccbabd33af96b3e0c66": {
      "model_module": "@jupyter-widgets/base",
      "model_module_version": "1.2.0",
      "model_name": "LayoutModel",
      "state": {}
     },
     "31d079a8a7cd4e729bf7d4f72c32eddd": {
      "model_module": "@jupyter-widgets/controls",
      "model_module_version": "1.5.0",
      "model_name": "DescriptionStyleModel",
      "state": {
       "description_width": ""
      }
     },
     "31d16273253c4425886c7ec09c507cb5": {
      "model_module": "@jupyter-widgets/base",
      "model_module_version": "1.2.0",
      "model_name": "LayoutModel",
      "state": {}
     },
     "31db884742234e9ea13cdc9e155882f5": {
      "model_module": "@jupyter-widgets/controls",
      "model_module_version": "1.5.0",
      "model_name": "LabelModel",
      "state": {
       "layout": "IPY_MODEL_7b8a13268c10474f918938cb8218f43e",
       "style": "IPY_MODEL_dc2e0aedf0e14217ad1f78661daaa09d",
       "value": "Base Parameters"
      }
     },
     "31e3cdc76977406cbbd1a257cbfb7443": {
      "model_module": "@jupyter-widgets/controls",
      "model_module_version": "1.5.0",
      "model_name": "ButtonModel",
      "state": {
       "description": "Change",
       "layout": "IPY_MODEL_8c11c6d1334a4271b55ef865d08927db",
       "style": "IPY_MODEL_882bd4ae6e7044099580a69bb56600f6"
      }
     },
     "31f1760211b9434791d8e666b798df53": {
      "model_module": "@jupyter-widgets/controls",
      "model_module_version": "1.5.0",
      "model_name": "DescriptionStyleModel",
      "state": {
       "description_width": "initial"
      }
     },
     "31fa30e2b580491ca8ac6693e55a73ce": {
      "model_module": "@jupyter-widgets/controls",
      "model_module_version": "1.5.0",
      "model_name": "SelectModel",
      "state": {
       "_options_labels": [
        "📁 ..",
        "📁 SimPEG_PFInversion",
        "📁 Temp"
       ],
       "index": null,
       "layout": "IPY_MODEL_af3fb653eb6f4cb595c6bc1a63d0dee8",
       "rows": 8,
       "style": "IPY_MODEL_2eb765f0d42b470e9794e4c6fd8e123c"
      }
     },
     "3221f47ee0bc499b80e62543003bf317": {
      "model_module": "@jupyter-widgets/controls",
      "model_module_version": "1.5.0",
      "model_name": "ButtonStyleModel",
      "state": {}
     },
     "326c3150fa624606b61faa089b65714c": {
      "model_module": "@jupyter-widgets/base",
      "model_module_version": "1.2.0",
      "model_name": "LayoutModel",
      "state": {
       "width": "auto"
      }
     },
     "327f5fb850244644b7df42458f79d70e": {
      "model_module": "@jupyter-widgets/controls",
      "model_module_version": "1.5.0",
      "model_name": "DescriptionStyleModel",
      "state": {
       "description_width": "initial"
      }
     },
     "32836f9935d84b0881ce8cbe1a5678df": {
      "model_module": "@jupyter-widgets/controls",
      "model_module_version": "1.5.0",
      "model_name": "ToggleButtonModel",
      "state": {
       "layout": "IPY_MODEL_ed299ad0a34a4187bdc933b0976f370e",
       "style": "IPY_MODEL_9d1b47b6b23a4798baa016b3c0b1e693"
      }
     },
     "32aae5f62b6c4a4db8dfba4d2edbc49d": {
      "model_module": "@jupyter-widgets/controls",
      "model_module_version": "1.5.0",
      "model_name": "TextModel",
      "state": {
       "continuous_update": false,
       "description": "Name:",
       "layout": "IPY_MODEL_658a1ee09eeb47cd93e21001aa9522b8",
       "style": "IPY_MODEL_83cff25ba7d245459192ecad54caae6e",
       "value": "Octree_Mesh"
      }
     },
     "32bd04dc37d3470593a8ef3068b83e85": {
      "model_module": "@jupyter-widgets/base",
      "model_module_version": "1.2.0",
      "model_name": "LayoutModel",
      "state": {}
     },
     "32c93ee45cb148379be916fe4cfeb778": {
      "model_module": "@jupyter-widgets/controls",
      "model_module_version": "1.5.0",
      "model_name": "DescriptionStyleModel",
      "state": {
       "description_width": "initial"
      }
     },
     "32caea7c89a748a28ddefcb47134ff69": {
      "model_module": "@jupyter-widgets/controls",
      "model_module_version": "1.5.0",
      "model_name": "DropdownModel",
      "state": {
       "_options_labels": [
        "surface",
        "radial"
       ],
       "description": "Type",
       "index": 0,
       "layout": "IPY_MODEL_c22700968604437a871da59bb52f99d1",
       "style": "IPY_MODEL_8eac6fe3b38f4a9eb9535f4d62637243"
      }
     },
     "32fbc049b30f4c4690dae6bf8ae27ae2": {
      "model_module": "@jupyter-widgets/base",
      "model_module_version": "1.2.0",
      "model_name": "LayoutModel",
      "state": {}
     },
     "3301848290f2430ebd1e7b1c92aa070b": {
      "model_module": "@jupyter-widgets/base",
      "model_module_version": "1.2.0",
      "model_name": "LayoutModel",
      "state": {}
     },
     "330719815b6d439f845c97d523402f5d": {
      "model_module": "@jupyter-widgets/controls",
      "model_module_version": "1.5.0",
      "model_name": "HBoxModel",
      "state": {
       "children": [
        "IPY_MODEL_643a450aff984374ad6f64fd6e971350",
        "IPY_MODEL_6cd66e4416eb478a813ffac078c293f3",
        "IPY_MODEL_8febf5c3a72b44f2b4bf3515468c297f"
       ],
       "layout": "IPY_MODEL_525e5dc569344ac296204d8ed6b7a47c"
      }
     },
     "3335d94b8d6f4d239a3732ab4f47618b": {
      "model_module": "@jupyter-widgets/controls",
      "model_module_version": "1.5.0",
      "model_name": "DescriptionStyleModel",
      "state": {
       "description_width": "initial"
      }
     },
     "333dd8b6314e4193bf371cdb93966d89": {
      "model_module": "@jupyter-widgets/controls",
      "model_module_version": "1.5.0",
      "model_name": "FloatTextModel",
      "state": {
       "description": "Northing",
       "layout": "IPY_MODEL_bd90ff679199414aa1109cd5602eb072",
       "step": null,
       "style": "IPY_MODEL_8deab348cf7b4bdf8dbf36c1693b2caf",
       "value": 25
      }
     },
     "334b49958bbf4acfac96a8451b4bd931": {
      "model_module": "@jupyter-widgets/controls",
      "model_module_version": "1.5.0",
      "model_name": "VBoxModel",
      "state": {
       "children": [
        "IPY_MODEL_cae66f99e9da4a3e80a975c8ace48541",
        "IPY_MODEL_6d5630fb66754e519fcb5ea4564fb798"
       ],
       "layout": "IPY_MODEL_09b42f520cee42cb9c182cb75e74c091"
      }
     },
     "33695c7654f34f45ad97fd41cf5b4f4a": {
      "model_module": "@jupyter-widgets/controls",
      "model_module_version": "1.5.0",
      "model_name": "DescriptionStyleModel",
      "state": {
       "description_width": "initial"
      }
     },
     "337a172115ef4356a2d27f37587f5132": {
      "model_module": "@jupyter-widgets/controls",
      "model_module_version": "1.5.0",
      "model_name": "DescriptionStyleModel",
      "state": {
       "description_width": ""
      }
     },
     "33922d59eda74248b1f0188eed8548b0": {
      "model_module": "@jupyter-widgets/base",
      "model_module_version": "1.2.0",
      "model_name": "LayoutModel",
      "state": {
       "width": "auto"
      }
     },
     "3393ded6768c4e449169b903b70eda16": {
      "model_module": "@jupyter-widgets/controls",
      "model_module_version": "1.5.0",
      "model_name": "ButtonModel",
      "state": {
       "description": "Create copy:",
       "layout": "IPY_MODEL_33fc358d47fd4883b4f3811f6e7bc7b6",
       "style": "IPY_MODEL_e2b86a0753414ea6befe4d8ad1de234b"
      }
     },
     "3398cf460b054709bbb4694eab61aaa4": {
      "model_module": "@jupyter-widgets/controls",
      "model_module_version": "1.5.0",
      "model_name": "DescriptionStyleModel",
      "state": {
       "description_width": "initial"
      }
     },
     "33b877ce8900400799a7f28a43e20b09": {
      "model_module": "@jupyter-widgets/base",
      "model_module_version": "1.2.0",
      "model_name": "LayoutModel",
      "state": {}
     },
     "33c63e5132d546e0b408587369dd74db": {
      "model_module": "@jupyter-widgets/base",
      "model_module_version": "1.2.0",
      "model_name": "LayoutModel",
      "state": {}
     },
     "33f2d6dba48e4045ba558bd7c1abeac3": {
      "model_module": "@jupyter-widgets/controls",
      "model_module_version": "1.5.0",
      "model_name": "DescriptionStyleModel",
      "state": {
       "description_width": "initial"
      }
     },
     "33fc358d47fd4883b4f3811f6e7bc7b6": {
      "model_module": "@jupyter-widgets/base",
      "model_module_version": "1.2.0",
      "model_name": "LayoutModel",
      "state": {}
     },
     "34123469169d478aa15753e7f62aea5b": {
      "model_module": "@jupyter-widgets/controls",
      "model_module_version": "1.5.0",
      "model_name": "VBoxModel",
      "state": {
       "children": [
        "IPY_MODEL_9374cf2f5a6f44d3a4b844188e9f6cfc",
        "IPY_MODEL_499b1b19f309455c9ae39c284ffbbe45",
        "IPY_MODEL_10452161072840bbb24233c454563416"
       ],
       "layout": "IPY_MODEL_69e21a17b39c41e0911f420dab641137"
      }
     },
     "341767ad1a004144a0e10f6d340c3f63": {
      "model_module": "@jupyter-widgets/base",
      "model_module_version": "1.2.0",
      "model_name": "LayoutModel",
      "state": {
       "display": "none",
       "width": "auto"
      }
     },
     "34197021c4864771ae618bcad0d2c48b": {
      "model_module": "@jupyter-widgets/base",
      "model_module_version": "1.2.0",
      "model_name": "LayoutModel",
      "state": {}
     },
     "34246caf0a1747959a2191077912e60d": {
      "model_module": "@jupyter-widgets/controls",
      "model_module_version": "1.5.0",
      "model_name": "DescriptionStyleModel",
      "state": {
       "description_width": ""
      }
     },
     "343632be273e42ff9ab9fdc09e78f3f7": {
      "model_module": "@jupyter-widgets/base",
      "model_module_version": "1.2.0",
      "model_name": "LayoutModel",
      "state": {}
     },
     "343a9567d5a64549b2e6623204845b38": {
      "model_module": "@jupyter-widgets/controls",
      "model_module_version": "1.5.0",
      "model_name": "DescriptionStyleModel",
      "state": {
       "description_width": "initial"
      }
     },
     "34566ced21de45a8afd928c6d9c6eeda": {
      "model_module": "@jupyter-widgets/controls",
      "model_module_version": "1.5.0",
      "model_name": "DescriptionStyleModel",
      "state": {
       "description_width": ""
      }
     },
     "3469cbe6a1b946479e5f72cd3db2682c": {
      "model_module": "@jupyter-widgets/controls",
      "model_module_version": "1.5.0",
      "model_name": "DescriptionStyleModel",
      "state": {
       "description_width": ""
      }
     },
     "346db83ac47742648e50035f43d169dd": {
      "model_module": "@jupyter-widgets/controls",
      "model_module_version": "1.5.0",
      "model_name": "DropdownModel",
      "state": {
       "_options_labels": [
        "",
        "Ore/39_Ore_Callinan",
        "Ore/38_Ore_Dan_Owens",
        "Ore/40_Ore_FlinFlon",
        "Workspace/Inversion_VTEM_Model",
        "Workspace/CDI_VTEM_model",
        "Workspace/Data_FEM_pseudo3D",
        "Workspace/geochem",
        "Workspace/Inversion_DIGHEM_Model",
        "Workspace/Topography",
        "Workspace/Data_TEM_pseudo3D",
        "Workspace/Data_ZTEM",
        "Workspace/Mesh"
       ],
       "description": "Object",
       "index": 9,
       "layout": "IPY_MODEL_062943cbfe1848e9b799c06894cea0a1",
       "style": "IPY_MODEL_db3637ffa0cd43db8b1cf0f44b02a93b"
      }
     },
     "347ff21bcf5d44e082de70469642853e": {
      "model_module": "@jupyter-widgets/controls",
      "model_module_version": "1.5.0",
      "model_name": "DescriptionStyleModel",
      "state": {
       "description_width": ""
      }
     },
     "3481015da8e644cb81f2be1f0c462207": {
      "model_module": "@jupyter-widgets/controls",
      "model_module_version": "1.5.0",
      "model_name": "ButtonStyleModel",
      "state": {}
     },
     "3489d2edf8f742d1af3d08fe1e253790": {
      "model_module": "@jupyter-widgets/controls",
      "model_module_version": "1.5.0",
      "model_name": "VBoxModel",
      "state": {
       "children": [
        "IPY_MODEL_de6203cb396a4557b5d6d79c6f1b00bd",
        "IPY_MODEL_f8ab93442e2b4ababa4360093ade1dae"
       ],
       "layout": "IPY_MODEL_b7c44cee4ad542e5b08d5a590db5c746"
      }
     },
     "348dc907ff1e43b8b704bd6262fe4d46": {
      "model_module": "@jupyter-widgets/base",
      "model_module_version": "1.2.0",
      "model_name": "LayoutModel",
      "state": {
       "display": "none",
       "grid_area": "filename",
       "width": "auto"
      }
     },
     "349982d28391420d8ea1e1b9cbee5ad5": {
      "model_module": "@jupyter-widgets/controls",
      "model_module_version": "1.5.0",
      "model_name": "VBoxModel",
      "state": {
       "children": [
        "IPY_MODEL_afc7c081d9cf484f91c5839dc8d2cd33",
        "IPY_MODEL_7a1e22a94cf34fd6925261eb64f03355"
       ],
       "layout": "IPY_MODEL_e770213c7bf6424097b9ad06bddcd1c3"
      }
     },
     "349f8fbfec57484ca908c9aa6d97f513": {
      "model_module": "@jupyter-widgets/controls",
      "model_module_version": "1.5.0",
      "model_name": "DescriptionStyleModel",
      "state": {
       "description_width": "initial"
      }
     },
     "34a1eb89902c47fbb275898424e9886c": {
      "model_module": "@jupyter-widgets/controls",
      "model_module_version": "1.5.0",
      "model_name": "HTMLModel",
      "state": {
       "layout": "IPY_MODEL_edca707aed474fc3acd642a1bccd5e86",
       "style": "IPY_MODEL_b1ad7aa559c24d1db34a89cfdf577e6a"
      }
     },
     "34c9fbd7462548ec8ef7d330da89951b": {
      "model_module": "@jupyter-widgets/controls",
      "model_module_version": "1.5.0",
      "model_name": "DropdownModel",
      "state": {
       "_options_labels": [
        "surface",
        "radial"
       ],
       "description": "Type",
       "index": 0,
       "layout": "IPY_MODEL_5dcc79a28a344a758788a4a25a47a9b7",
       "style": "IPY_MODEL_4621d4bb7843460fbb418fa6742cd662"
      }
     },
     "34dbbe979c524d33b065edbb1ea20f81": {
      "model_module": "@jupyter-widgets/controls",
      "model_module_version": "1.5.0",
      "model_name": "DropdownModel",
      "state": {
       "_options_labels": [
        "",
        "CoordinateTransformation/Data_TEM_pseudo3DEPSG_4326",
        "ISO/Iso_Iteration_7_model_2_00e-02",
        "ISO/Iso_Iteration_7_model_2_50e-03",
        "ISO/Iso_Iteration_7_model_5_00e-03",
        "ISO/Iso_Iteration_7_model_1_00e-02",
        "ISO/Iso_Iteration_7_model_1_50e-02",
        "Ore/39_Ore_Callinan",
        "Ore/38_Ore_Dan_Owens",
        "Ore/40_Ore_FlinFlon",
        "Workspace/Inversion_VTEM_Model",
        "Workspace/CDI_VTEM_model",
        "Workspace/Data_FEM_pseudo3D",
        "Workspace/geochem",
        "Workspace/Inversion_DIGHEM_Model",
        "Workspace/Topography",
        "Workspace/Data_TEM_pseudo3D",
        "Workspace/Data_ZTEM",
        "Workspace/Mesh"
       ],
       "description": "Object",
       "index": 15,
       "layout": "IPY_MODEL_857701b658894802bca3e034bfd616d5",
       "style": "IPY_MODEL_b91b93ec0b284f80ae2b800751b4cf66"
      }
     },
     "35081be9573d4e138e045a8ab193db56": {
      "model_module": "@jupyter-widgets/controls",
      "model_module_version": "1.5.0",
      "model_name": "DescriptionStyleModel",
      "state": {
       "description_width": "initial"
      }
     },
     "352ffd3edcd24f89be856c8ec140e548": {
      "model_module": "@jupyter-widgets/controls",
      "model_module_version": "1.5.0",
      "model_name": "DropdownModel",
      "state": {
       "_options_labels": [
        "surface",
        "radial"
       ],
       "description": "Type",
       "index": 0,
       "layout": "IPY_MODEL_9f0940617cfb49c2bb435719ce3bae51",
       "style": "IPY_MODEL_e4078be67adb48c491b27eb6265b5bef"
      }
     },
     "3554c703de914b58bc78bef28ae6cfbb": {
      "model_module": "@jupyter-widgets/controls",
      "model_module_version": "1.5.0",
      "model_name": "DescriptionStyleModel",
      "state": {
       "description_width": "initial"
      }
     },
     "3585d50a704f428caade7009e767ecfc": {
      "model_module": "@jupyter-widgets/controls",
      "model_module_version": "1.5.0",
      "model_name": "ToggleButtonModel",
      "state": {
       "layout": "IPY_MODEL_7e6383dbb3b14c3faa390929e2616faf",
       "style": "IPY_MODEL_1ac7b5c4d1ea4dd2bed37d4c44e8e7a9",
       "value": true
      }
     },
     "35aacd1a6c3c439a88ff2862071bf26a": {
      "model_module": "@jupyter-widgets/base",
      "model_module_version": "1.2.0",
      "model_name": "LayoutModel",
      "state": {}
     },
     "35bb529bcb2848c58dc1a00747d06540": {
      "model_module": "@jupyter-widgets/controls",
      "model_module_version": "1.5.0",
      "model_name": "VBoxModel",
      "state": {
       "children": [
        "IPY_MODEL_9eb0d94d6b774248b12a15adf3d5b782",
        "IPY_MODEL_160f035f28c743b28249ec2d8634109e"
       ],
       "layout": "IPY_MODEL_b1a1fe55ba4d4a6282446f73fc9f65d6"
      }
     },
     "35cc541ba4494990aea4fcb617514ddb": {
      "model_module": "@jupyter-widgets/controls",
      "model_module_version": "1.5.0",
      "model_name": "ButtonStyleModel",
      "state": {}
     },
     "35cf0ab5b28e4610b07cd7f3de61218e": {
      "model_module": "@jupyter-widgets/base",
      "model_module_version": "1.2.0",
      "model_name": "LayoutModel",
      "state": {}
     },
     "35e6125dd25a4cef89fc918c56397d40": {
      "model_module": "@jupyter-widgets/controls",
      "model_module_version": "1.5.0",
      "model_name": "DescriptionStyleModel",
      "state": {
       "description_width": "initial"
      }
     },
     "35f8f5275a8742b7b77a65aab8fdc1a5": {
      "model_module": "@jupyter-widgets/controls",
      "model_module_version": "1.5.0",
      "model_name": "DescriptionStyleModel",
      "state": {
       "description_width": ""
      }
     },
     "35fd3b2ce1a7414ca705865d8110c627": {
      "model_module": "@jupyter-widgets/controls",
      "model_module_version": "1.5.0",
      "model_name": "DescriptionStyleModel",
      "state": {
       "description_width": ""
      }
     },
     "35fdb651a7d648809e286f39e3ed1a17": {
      "model_module": "@jupyter-widgets/controls",
      "model_module_version": "1.5.0",
      "model_name": "DescriptionStyleModel",
      "state": {
       "description_width": ""
      }
     },
     "3610fcba9b8c457999855d5937a890a7": {
      "model_module": "@jupyter-widgets/base",
      "model_module_version": "1.2.0",
      "model_name": "LayoutModel",
      "state": {}
     },
     "3622575ce4a24f92b08a17f410f3825f": {
      "model_module": "@jupyter-widgets/controls",
      "model_module_version": "1.5.0",
      "model_name": "VBoxModel",
      "state": {
       "children": [
        "IPY_MODEL_decbd60d2d1948e096aa45ad50653e0d",
        "IPY_MODEL_8a27b6ef5661472c86db013fbb12e9e2"
       ],
       "layout": "IPY_MODEL_5394ec5157084eee8265283d5c9af8d2"
      }
     },
     "36354018db6a4943b648711c7d9f7fe7": {
      "model_module": "@jupyter-widgets/controls",
      "model_module_version": "1.5.0",
      "model_name": "DropdownModel",
      "state": {
       "_options_labels": [
        "",
        "Ore/39_Ore_Callinan",
        "Ore/38_Ore_Dan_Owens",
        "Ore/40_Ore_FlinFlon",
        "Workspace/Inversion_VTEM_Model",
        "Workspace/DC_Survey (currents)",
        "Workspace/CDI_VTEM_model",
        "Workspace/Data_FEM_pseudo3D",
        "Workspace/geochem",
        "Workspace/DC_Survey",
        "Workspace/Inversion_DIGHEM_Model",
        "Workspace/Topography",
        "Workspace/Data_TEM_pseudo3D",
        "Workspace/Data_ZTEM",
        "Workspace/Mesh"
       ],
       "description": "Core hull extent:",
       "index": 7,
       "layout": "IPY_MODEL_83d3a6bbcb4f4c89ae7e76ede91e9df8",
       "style": "IPY_MODEL_ebd3eb25593a43aca1d7a00823c7eb3d"
      }
     },
     "365d115711ca4046b4bbcab594e5ede5": {
      "model_module": "@jupyter-widgets/controls",
      "model_module_version": "1.5.0",
      "model_name": "DescriptionStyleModel",
      "state": {
       "description_width": "initial"
      }
     },
     "367687a62b5f406fa723f94a1fb32b23": {
      "model_module": "@jupyter-widgets/controls",
      "model_module_version": "1.5.0",
      "model_name": "HBoxModel",
      "state": {
       "children": [
        "IPY_MODEL_a1dda582182045708cf442f1662de39a",
        "IPY_MODEL_ab46ba4b4e6f4b8e9553da4d805f8929",
        "IPY_MODEL_01e39ca2208543828effe32b9c087995"
       ],
       "layout": "IPY_MODEL_f4d52b6ed60d4f18b6a874dcda5dd70f"
      }
     },
     "36a59e6b2b484874909cf180b2adbf8f": {
      "model_module": "@jupyter-widgets/controls",
      "model_module_version": "1.5.0",
      "model_name": "DescriptionStyleModel",
      "state": {
       "description_width": ""
      }
     },
     "36a7f5d5fb264dde9a16573217f365d7": {
      "model_module": "@jupyter-widgets/controls",
      "model_module_version": "1.5.0",
      "model_name": "DropdownModel",
      "state": {
       "_options_labels": [
        "C:\\Users\\dominiquef\\Documents\\GIT\\mira\\geoapps\\assets\\Temp",
        "C:\\Users\\dominiquef\\Documents\\GIT\\mira\\geoapps\\assets",
        "C:\\Users\\dominiquef\\Documents\\GIT\\mira\\geoapps",
        "C:\\Users\\dominiquef\\Documents\\GIT\\mira",
        "C:\\Users\\dominiquef\\Documents\\GIT",
        "C:\\Users\\dominiquef\\Documents",
        "C:\\Users\\dominiquef",
        "C:\\Users",
        "C:\\",
        "\\\\EgnyteDrive\\mirageoscience\\",
        "D:\\",
        "G:\\"
       ],
       "index": 0,
       "layout": "IPY_MODEL_aeb4e7c950634e5198771ffcda5189b9",
       "style": "IPY_MODEL_62b510cde717443f9e71170cff7025f7"
      }
     },
     "36bfc93a05a443dd9b08d578cd8cbd71": {
      "model_module": "@jupyter-widgets/controls",
      "model_module_version": "1.5.0",
      "model_name": "DescriptionStyleModel",
      "state": {
       "description_width": "initial"
      }
     },
     "36d78fc42048476d8e5439eee0ed039f": {
      "model_module": "@jupyter-widgets/base",
      "model_module_version": "1.2.0",
      "model_name": "LayoutModel",
      "state": {}
     },
     "37016389fc0b44efbaed195604c8a3c3": {
      "model_module": "@jupyter-widgets/controls",
      "model_module_version": "1.5.0",
      "model_name": "DescriptionStyleModel",
      "state": {
       "description_width": "initial"
      }
     },
     "371e504bb2d647d08b231773154583af": {
      "model_module": "@jupyter-widgets/controls",
      "model_module_version": "1.5.0",
      "model_name": "HBoxModel",
      "state": {
       "children": [
        "IPY_MODEL_31e3cdc76977406cbbd1a257cbfb7443",
        "IPY_MODEL_826c43ff6a804c9e9fae97a52bee1fcd",
        "IPY_MODEL_e7e6bbda75b54115be465098ebabfd5a"
       ],
       "layout": "IPY_MODEL_6ff5dd9ce9704afd93a590456a08664b"
      }
     },
     "3748ea038e0b4e80bdd344b94d0c56c9": {
      "model_module": "@jupyter-widgets/base",
      "model_module_version": "1.2.0",
      "model_name": "LayoutModel",
      "state": {
       "display": "none",
       "grid_area": "filename",
       "width": "auto"
      }
     },
     "37880e890c164851ac290c3f8b0bbb34": {
      "model_module": "@jupyter-widgets/controls",
      "model_module_version": "1.5.0",
      "model_name": "SelectModel",
      "state": {
       "_options_labels": [
        "..",
        "SimPEG_PFInversion",
        "Temp",
        "dask-worker-space",
        "FlinFlon.geoh5",
        "HelloWorld.ui.json",
        "Inversion_.json",
        "Inversion_1.json",
        "Inversion_2.json",
        "MtDore_TMI.geoh5",
        "Octree_Mesh.ui.json",
        "Untitled.ipynb",
        "VTEM_model.mod",
        "Workspace.Gravity_Magnetics_drape60m_Airborne_Gxx.tif",
        "Workspace.Gravity_Magnetics_drape60m_Airborne_Gxx_Colorbar.png",
        "Workspace.Gravity_Magnetics_drape60m_Airborne_Gxx_RGB.txt",
        "Workspace.Gravity_Magnetics_drape60m_Airborne_TMI.tif",
        "Workspace.Gravity_Magnetics_drape60m_Airborne_TMI_Colorbar.png",
        "Workspace.Gravity_Magnetics_drape60m_Airborne_TMI_RGB.txt",
        "demo.ipynb",
        "input.ui.json",
        "options_tree.json",
        "tempui.ui.geoh5",
        "tempui.ui.json",
        "test.ui.geoh5",
        "test.ui.json",
        "testPoints.geoh5"
       ],
       "index": 4,
       "layout": "IPY_MODEL_c031d7bc421c4bcd9a803c63222bad47",
       "rows": 8,
       "style": "IPY_MODEL_c199761f78964ad5bc19c97badf43188"
      }
     },
     "379f38ae5c2a4144b1906cbc663be2ce": {
      "model_module": "@jupyter-widgets/controls",
      "model_module_version": "1.5.0",
      "model_name": "DescriptionStyleModel",
      "state": {
       "description_width": ""
      }
     },
     "37a93ea6383d43e6bd61d2139f64b379": {
      "model_module": "@jupyter-widgets/controls",
      "model_module_version": "1.5.0",
      "model_name": "DescriptionStyleModel",
      "state": {
       "description_width": "initial"
      }
     },
     "37c4c139bb91444c86a7ce72d92e6dc9": {
      "model_module": "@jupyter-widgets/controls",
      "model_module_version": "1.5.0",
      "model_name": "DescriptionStyleModel",
      "state": {
       "description_width": "initial"
      }
     },
     "37c5b4cd2c0e433d9753568ff23f091c": {
      "model_module": "@jupyter-widgets/controls",
      "model_module_version": "1.5.0",
      "model_name": "VBoxModel",
      "state": {
       "children": [
        "IPY_MODEL_ec92aec7733943daa764690bf0a6e7ea",
        "IPY_MODEL_e06a0b91fe4742a685b5f676f1ca6097",
        "IPY_MODEL_28f9d89a90324b9aaaab13e515ae3106",
        "IPY_MODEL_5db5cc19be314fcabfe134e5870baac3",
        "IPY_MODEL_c326e647d35543f2a0117db29a3e80cc"
       ],
       "layout": "IPY_MODEL_64c302bdcdee4870bdff2305420f6c47"
      }
     },
     "37d4f5cb7c54437fb176de91549de4ad": {
      "model_module": "@jupyter-widgets/controls",
      "model_module_version": "1.5.0",
      "model_name": "DescriptionStyleModel",
      "state": {
       "description_width": "initial"
      }
     },
     "37e8921a02ac486da10a2f9b87d0ac81": {
      "model_module": "@jupyter-widgets/controls",
      "model_module_version": "1.5.0",
      "model_name": "DescriptionStyleModel",
      "state": {
       "description_width": "initial"
      }
     },
     "37ed220b30cc49b48bd8e8fd2e6428a2": {
      "model_module": "@jupyter-widgets/base",
      "model_module_version": "1.2.0",
      "model_name": "LayoutModel",
      "state": {}
     },
     "382cb817d9774dd0b8b19e56e371638f": {
      "model_module": "@jupyter-widgets/controls",
      "model_module_version": "1.5.0",
      "model_name": "DescriptionStyleModel",
      "state": {
       "description_width": ""
      }
     },
     "3867c7d5c4e84085a7c0a655863adee4": {
      "model_module": "@jupyter-widgets/controls",
      "model_module_version": "1.5.0",
      "model_name": "DescriptionStyleModel",
      "state": {
       "description_width": "initial"
      }
     },
     "38737bf4e7e54f90be68554e98237f89": {
      "model_module": "@jupyter-widgets/base",
      "model_module_version": "1.2.0",
      "model_name": "LayoutModel",
      "state": {}
     },
     "3879828ed0714059add8e988ce7c94fb": {
      "model_module": "@jupyter-widgets/controls",
      "model_module_version": "1.5.0",
      "model_name": "DescriptionStyleModel",
      "state": {
       "description_width": "initial"
      }
     },
     "3891276044c947fdbc3e65d5a0ab3b71": {
      "model_module": "@jupyter-widgets/controls",
      "model_module_version": "1.5.0",
      "model_name": "VBoxModel",
      "state": {
       "children": [
        "IPY_MODEL_f81fe20481de4dd685b994a8ec308329",
        "IPY_MODEL_8eeb29e9ea3249298985c088a7c37020",
        "IPY_MODEL_a07a1cbdc04240e2a2a4bca25fc7a90b"
       ],
       "layout": "IPY_MODEL_5f0bb18275714902b7eb4d29e8f2d521"
      }
     },
     "38a1965fe7044310b0296bab2d4a479d": {
      "model_module": "@jupyter-widgets/controls",
      "model_module_version": "1.5.0",
      "model_name": "FloatTextModel",
      "state": {
       "description": "Northing",
       "layout": "IPY_MODEL_fe60947853f54bdaa063d9170d712053",
       "step": null,
       "style": "IPY_MODEL_20b3e8307bb44d8dbb1149d002af61e0",
       "value": 25
      }
     },
     "38ae268308c248bb86b66fd9ead29fb8": {
      "model_module": "@jupyter-widgets/controls",
      "model_module_version": "1.5.0",
      "model_name": "ButtonStyleModel",
      "state": {}
     },
     "38c7096e75334bffb1203c271243a7d4": {
      "model_module": "@jupyter-widgets/controls",
      "model_module_version": "1.5.0",
      "model_name": "FloatTextModel",
      "state": {
       "description": "Horizontal (m)",
       "layout": "IPY_MODEL_99398ea755544435a9473b69e115073a",
       "step": null,
       "style": "IPY_MODEL_440b7da572ad44eebf43b33087c93f72",
       "value": 1000
      }
     },
     "38df596d7d854005a21dedb585957dbd": {
      "model_module": "@jupyter-widgets/base",
      "model_module_version": "1.2.0",
      "model_name": "LayoutModel",
      "state": {
       "display": "none",
       "min_width": "6em",
       "width": "6em"
      }
     },
     "390d05d9a0cd48bdb65e3958cc16a5ea": {
      "model_module": "@jupyter-widgets/base",
      "model_module_version": "1.2.0",
      "model_name": "LayoutModel",
      "state": {}
     },
     "391e84767af6452e8f1e95a4a170ca39": {
      "model_module": "@jupyter-widgets/base",
      "model_module_version": "1.2.0",
      "model_name": "LayoutModel",
      "state": {}
     },
     "39243602d70d4b40ad2df713f29a5f34": {
      "model_module": "@jupyter-widgets/base",
      "model_module_version": "1.2.0",
      "model_name": "LayoutModel",
      "state": {}
     },
     "39280f7f863e4ef8bf925ebe77d7d062": {
      "model_module": "@jupyter-widgets/base",
      "model_module_version": "1.2.0",
      "model_name": "LayoutModel",
      "state": {}
     },
     "393394ad9cf040149f7eee6ff9d0b948": {
      "model_module": "@jupyter-widgets/base",
      "model_module_version": "1.2.0",
      "model_name": "LayoutModel",
      "state": {}
     },
     "3954ab3a8f354e01b5cc33558ec38db0": {
      "model_module": "@jupyter-widgets/controls",
      "model_module_version": "1.5.0",
      "model_name": "DescriptionStyleModel",
      "state": {
       "description_width": ""
      }
     },
     "3970824d727d4e3aacd67c230ecc8ec5": {
      "model_module": "@jupyter-widgets/base",
      "model_module_version": "1.2.0",
      "model_name": "LayoutModel",
      "state": {
       "overflow": "auto"
      }
     },
     "398595424d784a13ad3323e4f8c08ace": {
      "model_module": "@jupyter-widgets/controls",
      "model_module_version": "1.5.0",
      "model_name": "DescriptionStyleModel",
      "state": {
       "description_width": "initial"
      }
     },
     "398c0608c901453ca146d1485e7bc629": {
      "model_module": "@jupyter-widgets/controls",
      "model_module_version": "1.5.0",
      "model_name": "ButtonStyleModel",
      "state": {}
     },
     "399180cf09784d5baa5ebf73bcbd3ce3": {
      "model_module": "@jupyter-widgets/controls",
      "model_module_version": "1.5.0",
      "model_name": "VBoxModel",
      "state": {
       "children": [
        "IPY_MODEL_72a9424202ba4863b418fd4aa67a9c82",
        "IPY_MODEL_ea0f5004283141138d89f23c713608a5"
       ],
       "layout": "IPY_MODEL_bfdd108175064ad6bedb9f67f03f53ed"
      }
     },
     "39be6ad869204640b4ef8bcef8689a54": {
      "model_module": "@jupyter-widgets/base",
      "model_module_version": "1.2.0",
      "model_name": "LayoutModel",
      "state": {
       "width": "auto"
      }
     },
     "39d71b705b9246888c9102fae955bb9a": {
      "model_module": "@jupyter-widgets/controls",
      "model_module_version": "1.5.0",
      "model_name": "DescriptionStyleModel",
      "state": {
       "description_width": "initial"
      }
     },
     "39e09f90aefb49d0989ce4a54e865994": {
      "model_module": "@jupyter-widgets/base",
      "model_module_version": "1.2.0",
      "model_name": "LayoutModel",
      "state": {
       "display": "none",
       "min_width": "6em",
       "width": "6em"
      }
     },
     "3a0af4f84b214482bf11d059b7b62842": {
      "model_module": "@jupyter-widgets/controls",
      "model_module_version": "1.5.0",
      "model_name": "DescriptionStyleModel",
      "state": {
       "description_width": "initial"
      }
     },
     "3a1426ba668b48e9bc3a9972677c98df": {
      "model_module": "@jupyter-widgets/base",
      "model_module_version": "1.2.0",
      "model_name": "LayoutModel",
      "state": {
       "grid_area": "pathlist",
       "width": "auto"
      }
     },
     "3a445211dca84840a7404e570c33fcc7": {
      "model_module": "@jupyter-widgets/base",
      "model_module_version": "1.2.0",
      "model_name": "LayoutModel",
      "state": {
       "width": "auto"
      }
     },
     "3a57312ef5804cda9774b6f6e9b13d73": {
      "model_module": "@jupyter-widgets/controls",
      "model_module_version": "1.5.0",
      "model_name": "DescriptionStyleModel",
      "state": {
       "description_width": ""
      }
     },
     "3a622eb08a78409ca1b12be43025a8bc": {
      "model_module": "@jupyter-widgets/controls",
      "model_module_version": "1.5.0",
      "model_name": "DescriptionStyleModel",
      "state": {
       "description_width": ""
      }
     },
     "3a72aca53c7b4e718775ee6a658b2deb": {
      "model_module": "@jupyter-widgets/controls",
      "model_module_version": "1.5.0",
      "model_name": "DescriptionStyleModel",
      "state": {
       "description_width": ""
      }
     },
     "3a813728e0c74646bfeac24be1c85b87": {
      "model_module": "@jupyter-widgets/controls",
      "model_module_version": "1.5.0",
      "model_name": "DescriptionStyleModel",
      "state": {
       "description_width": "initial"
      }
     },
     "3a8e91f1cb364d5a8fc3a928dafeaf88": {
      "model_module": "@jupyter-widgets/controls",
      "model_module_version": "1.5.0",
      "model_name": "SelectModel",
      "state": {
       "_options_labels": [
        "..",
        "dask-worker-space",
        "images"
       ],
       "index": null,
       "layout": "IPY_MODEL_033a5f45ffb740adb4489ef52389c878",
       "rows": 8,
       "style": "IPY_MODEL_fc21fd705f2b4075aaffd4a81023dc69"
      }
     },
     "3aaff80396c8481aabdf58581a4a4504": {
      "model_module": "@jupyter-widgets/base",
      "model_module_version": "1.2.0",
      "model_name": "LayoutModel",
      "state": {}
     },
     "3ac3571c954648b49d09e77887ee3c0b": {
      "model_module": "@jupyter-widgets/controls",
      "model_module_version": "1.5.0",
      "model_name": "DescriptionStyleModel",
      "state": {
       "description_width": "initial"
      }
     },
     "3ac8ae353cea46bda1988c7224317ef4": {
      "model_module": "@jupyter-widgets/base",
      "model_module_version": "1.2.0",
      "model_name": "LayoutModel",
      "state": {}
     },
     "3aefe14f99334dbcbd17dc8391d6c762": {
      "model_module": "@jupyter-widgets/controls",
      "model_module_version": "1.5.0",
      "model_name": "DescriptionStyleModel",
      "state": {
       "description_width": "initial"
      }
     },
     "3af33c3faa65461596aaddbcb572a4d7": {
      "model_module": "@jupyter-widgets/base",
      "model_module_version": "1.2.0",
      "model_name": "LayoutModel",
      "state": {}
     },
     "3b0c7f5401904a9d997fbc1ee07cf7cb": {
      "model_module": "@jupyter-widgets/base",
      "model_module_version": "1.2.0",
      "model_name": "LayoutModel",
      "state": {
       "display": "none"
      }
     },
     "3b418043bd3c448dab5b3cc25d91b3d6": {
      "model_module": "@jupyter-widgets/controls",
      "model_module_version": "1.5.0",
      "model_name": "DescriptionStyleModel",
      "state": {
       "description_width": "initial"
      }
     },
     "3b44286405a2497a8c9904bac8b4f70e": {
      "model_module": "@jupyter-widgets/base",
      "model_module_version": "1.2.0",
      "model_name": "LayoutModel",
      "state": {
       "display": "none",
       "grid_area": "filename",
       "width": "auto"
      }
     },
     "3b5ecd0fb51a4788a7a14b1a6bdd1439": {
      "model_module": "@jupyter-widgets/controls",
      "model_module_version": "1.5.0",
      "model_name": "DescriptionStyleModel",
      "state": {
       "description_width": ""
      }
     },
     "3b6a47f3314d422ab6b11ee6b9c8e029": {
      "model_module": "@jupyter-widgets/base",
      "model_module_version": "1.2.0",
      "model_name": "LayoutModel",
      "state": {
       "border": "solid"
      }
     },
     "3b6b77edb85e4143878618b44a8b8d56": {
      "model_module": "@jupyter-widgets/controls",
      "model_module_version": "1.5.0",
      "model_name": "TextModel",
      "state": {
       "continuous_update": false,
       "description": "Name:",
       "layout": "IPY_MODEL_d48d65a947dd472c991c3ef294d8f62a",
       "style": "IPY_MODEL_20b4f094b10347c39baff7c8f3f0a4e5",
       "value": "Octree_Mesh"
      }
     },
     "3b6b805a7d504370abbd99379e8ff446": {
      "model_module": "@jupyter-widgets/controls",
      "model_module_version": "1.5.0",
      "model_name": "GridBoxModel",
      "state": {
       "children": [
        "IPY_MODEL_668ddebebc40496b84fb82cc43890994",
        "IPY_MODEL_01e8eeecf2234b5e8daf743138609ea7",
        "IPY_MODEL_6507ae9a22af41c7a7d574c00d366636"
       ],
       "layout": "IPY_MODEL_e0989385276a47839b230ffe66b84524"
      }
     },
     "3bcdf235489240c4ab26f37ada3b9c25": {
      "model_module": "@jupyter-widgets/controls",
      "model_module_version": "1.5.0",
      "model_name": "TextModel",
      "state": {
       "layout": "IPY_MODEL_dfd4104b73f049da9c0b0881abe1a6c9",
       "placeholder": "output filename",
       "style": "IPY_MODEL_9f51cccfee1e4f4680c4e7acc85e1a14",
       "value": "FlinFlon.geoh5"
      }
     },
     "3bd3a454799f49d68fb65474efbfc64f": {
      "model_module": "@jupyter-widgets/controls",
      "model_module_version": "1.5.0",
      "model_name": "ButtonStyleModel",
      "state": {}
     },
     "3bea49681b1843518f9a692713d236ac": {
      "model_module": "@jupyter-widgets/controls",
      "model_module_version": "1.5.0",
      "model_name": "DescriptionStyleModel",
      "state": {
       "description_width": "initial"
      }
     },
     "3bef5542ac5444448a3256ab20a9e87a": {
      "model_module": "@jupyter-widgets/controls",
      "model_module_version": "1.5.0",
      "model_name": "DescriptionStyleModel",
      "state": {
       "description_width": ""
      }
     },
     "3c2c0f680edd4294beb05dad3436dbfd": {
      "model_module": "@jupyter-widgets/controls",
      "model_module_version": "1.5.0",
      "model_name": "DescriptionStyleModel",
      "state": {
       "description_width": "initial"
      }
     },
     "3c303695eef54aa783e86125683b2893": {
      "model_module": "@jupyter-widgets/base",
      "model_module_version": "1.2.0",
      "model_name": "LayoutModel",
      "state": {}
     },
     "3c3952522c5a4726bc7a06f4b7312943": {
      "model_module": "@jupyter-widgets/controls",
      "model_module_version": "1.5.0",
      "model_name": "DropdownModel",
      "state": {
       "_options_labels": [
        "C:\\Users\\dominiquef\\Documents\\GIT\\mira\\geoapps\\assets",
        "C:\\Users\\dominiquef\\Documents\\GIT\\mira\\geoapps",
        "C:\\Users\\dominiquef\\Documents\\GIT\\mira",
        "C:\\Users\\dominiquef\\Documents\\GIT",
        "C:\\Users\\dominiquef\\Documents",
        "C:\\Users\\dominiquef",
        "C:\\Users",
        "C:\\",
        "D:\\",
        "G:\\",
        "\\\\EgnyteDrive\\mirageoscience\\"
       ],
       "index": 0,
       "layout": "IPY_MODEL_eb19a89aadef4e5c8a91c9e97236e54e",
       "style": "IPY_MODEL_b82d54f70dfc4e8faa7570518530c29b"
      }
     },
     "3c4841aaafa54e139015d859b613c07b": {
      "model_module": "@jupyter-widgets/controls",
      "model_module_version": "1.5.0",
      "model_name": "ButtonStyleModel",
      "state": {}
     },
     "3c85a2362eb24b6c8719736bb29f1841": {
      "model_module": "@jupyter-widgets/controls",
      "model_module_version": "1.5.0",
      "model_name": "DescriptionStyleModel",
      "state": {
       "description_width": "initial"
      }
     },
     "3c8f8774657141eea7a9fce3421a5a22": {
      "model_module": "@jupyter-widgets/controls",
      "model_module_version": "1.5.0",
      "model_name": "FloatTextModel",
      "state": {
       "description": "Easting",
       "layout": "IPY_MODEL_8bdc053ad2cb4f468dcea44501078a00",
       "step": null,
       "style": "IPY_MODEL_080647a685c640a8ae7f2cab972e5121",
       "value": 25
      }
     },
     "3ca73c94cdf3403590cf7d9226644bf1": {
      "model_module": "@jupyter-widgets/controls",
      "model_module_version": "1.5.0",
      "model_name": "DropdownModel",
      "state": {
       "_options_labels": [
        "C:\\Users\\dominiquef\\Documents\\GIT\\mira\\geoapps\\assets",
        "C:\\Users\\dominiquef\\Documents\\GIT\\mira\\geoapps",
        "C:\\Users\\dominiquef\\Documents\\GIT\\mira",
        "C:\\Users\\dominiquef\\Documents\\GIT",
        "C:\\Users\\dominiquef\\Documents",
        "C:\\Users\\dominiquef",
        "C:\\Users",
        "C:\\",
        "D:\\",
        "Z:\\"
       ],
       "index": 0,
       "layout": "IPY_MODEL_97b0b87e8c8f4dd5a9abc042deab04d6",
       "style": "IPY_MODEL_9bf22dbb259641fd879b60738b3824a2"
      }
     },
     "3cafb807fdd046c5a11a0490180c6f88": {
      "model_module": "@jupyter-widgets/controls",
      "model_module_version": "1.5.0",
      "model_name": "DescriptionStyleModel",
      "state": {
       "description_width": "initial"
      }
     },
     "3cc57dadefbc4a9ca35d1bf0ac0d3a07": {
      "model_module": "@jupyter-widgets/base",
      "model_module_version": "1.2.0",
      "model_name": "LayoutModel",
      "state": {}
     },
     "3cc94c0c3d2e42ba819a6e35aeae2e05": {
      "model_module": "@jupyter-widgets/controls",
      "model_module_version": "1.5.0",
      "model_name": "DescriptionStyleModel",
      "state": {
       "description_width": ""
      }
     },
     "3ccdd33920ee4cd89f96296aaea2e956": {
      "model_module": "@jupyter-widgets/controls",
      "model_module_version": "1.5.0",
      "model_name": "LabelModel",
      "state": {
       "layout": "IPY_MODEL_df4cd88c942f4e87b4c6fa60e22a0d27",
       "style": "IPY_MODEL_11acff54e55f4c8d893e0c3431fc166f",
       "value": "Padding distance"
      }
     },
     "3cea8338bbc44385b28128b3ff9d33ca": {
      "model_module": "@jupyter-widgets/controls",
      "model_module_version": "1.5.0",
      "model_name": "DropdownModel",
      "state": {
       "_options_labels": [
        "",
        "Data_TEM_pseudo3DEPSG_4326",
        "Iso_Iteration_7_model_2_50e-03",
        "Iso_Iteration_7_model_1_00e-02",
        "Iso_Iteration_7_model_1_50e-02",
        "Iso_Iteration_7_model_2_00e-02",
        "Iso_Iteration_7_model_2_00e-02",
        "Iso_Iteration_7_model_5_00e-03",
        "Iso_Iteration_7_model_2_50e-03",
        "Iso_Iteration_7_model_1_50e-02",
        "Iso_Iteration_7_model_1_00e-02",
        "Iso_Iteration_7_model_5_00e-03",
        "fault_splay1",
        "fault_Cliff_Lake",
        "fault_Other_FlinFlon",
        "fault_Club_Lake_splay",
        "fault_Catherine_splay2",
        "fault_Birch_View",
        "fault_Dion_Lake",
        "fault_FlinFlon_splay",
        "fault_West_Mandy_Road",
        "fault_Channing",
        "fault_Ross_Lake",
        "fault_Louis_Hidden",
        "fault_Lake_View_thrust",
        "contact_Schist_Lake",
        "fault_Burley_Lake",
        "fault_Dion_Lake_splay",
        "fault_Green_Lake",
        "fault_FlinFlon",
        "fault_Catherine_splay1",
        "fault_East_Mandy_Road",
        "fault_Other_FlinFlon_South",
        "fault_Catherine_splay4",
        "contact_Stitt_Island",
        "fault_Club_Lake",
        "fault_Tailing_Pond",
        "35_Hidden_Reservoir_Hr5",
        "29_Hidden_Reservoir_Hr1a",
        "60_BlueLagoon_Fb2",
        "20_FlinFlon_Undivided_Int_Dykes_D2f",
        "04_Boundary_Intrusive_S4h",
        "53_Millrock_Rhyolite_Fm4b",
        "19_FlinFlon_Undivided_Int_Dykes_D2b",
        "18_FlinFlon_Undivided_Int_Dykes_777_D2b",
        "06_Phantom_Lake_Intrusive_S3a",
        "21_FlinFlon_Undivided_Int_Dykes_D3a",
        "43_Millrock_CHLSH_South",
        "56_Millrock_Basalt_Fm1ba",
        "17_FlinFlon_Undivided_Int_Dykes_D2",
        "32_Hidden_Reservoir_Hr1b_SW",
        "11_Missi_M3_NE",
        "13_Missi_M1",
        "07_Annabel_Granitoid_S1",
        "45_Millrock_Gabbro_South",
        "01_Late_Intrusive_S5b",
        "31_Hidden_Reservoir_Hr1c_SW",
        "52_Millrock_Rhyolite_Fm4_West_check",
        "55_Millrock_Basalt_Fm1bf",
        "34_Hidden_Reservoir_Hr2b",
        "03_Boundary_Intrusive_S4b",
        "42_Millrock_CHLSH_North",
        "26_Louis_L3",
        "23_FlinFlon_Undivided_Int_Felsic_D4g",
        "30_Hidden_Reservoir_Hr1b",
        "59_BlueLagoon_Fb3",
        "49_Millrock_MVR_Fm5d",
        "44_Millrock_Gabbro_North",
        "27_Hidden_Carlisle_Hc4",
        "22_FlinFlon_Undivided_Int_Felsic_D4e",
        "02_Boundary_Intrusive_S4a",
        "61_BlueLagoon_Fb1_NW",
        "05_Boundary_Intrusive_S4g",
        "39_Ore_Callinan",
        "38_Ore_Dan_Owens",
        "40_Ore_FlinFlon",
        "Inversion_VTEM_Model",
        "CDI_VTEM_model",
        "Data_FEM_pseudo3D",
        "geochem",
        "Inversion_DIGHEM_Model",
        "Topography",
        "Data_TEM_pseudo3D",
        "Data_ZTEM",
        "Mesh"
       ],
       "description": "Core hull extent:",
       "index": 78,
       "layout": "IPY_MODEL_317cff691782439e850d2c0d0252418c",
       "style": "IPY_MODEL_215a4f8f74714dd4a9a801e5b7be4dcb"
      }
     },
     "3cebd538b61a450ab378c4e0c36357f8": {
      "model_module": "@jupyter-widgets/base",
      "model_module_version": "1.2.0",
      "model_name": "LayoutModel",
      "state": {}
     },
     "3cf010d08c2d49a39f3aaedb94f566e5": {
      "model_module": "@jupyter-widgets/controls",
      "model_module_version": "1.5.0",
      "model_name": "DescriptionStyleModel",
      "state": {
       "description_width": ""
      }
     },
     "3cf61e77faba4a608a90305cd2f42fc4": {
      "model_module": "@jupyter-widgets/controls",
      "model_module_version": "1.5.0",
      "model_name": "VBoxModel",
      "state": {
       "children": [
        "IPY_MODEL_3dca9f1395f244c4a15e828fbcd5f33e",
        "IPY_MODEL_9a2694f451dd414186979517ec5105df",
        "IPY_MODEL_f025c5ec45414e7a90677b1c1d0e658d"
       ],
       "layout": "IPY_MODEL_e88833c93c294d768ef3cd69291f179a"
      }
     },
     "3d065cebc5fd4b60afb89c8ddcc4fad6": {
      "model_module": "@jupyter-widgets/base",
      "model_module_version": "1.2.0",
      "model_name": "LayoutModel",
      "state": {
       "overflow": "auto"
      }
     },
     "3d10b33cb40d4a09bef61b505b37aae2": {
      "model_module": "@jupyter-widgets/controls",
      "model_module_version": "1.5.0",
      "model_name": "VBoxModel",
      "state": {
       "children": [
        "IPY_MODEL_6b79539c6589499885e243817c28b597",
        "IPY_MODEL_523482f4d5ae41a2bdb1af7bf43bdc4f"
       ],
       "layout": "IPY_MODEL_8f6351a02f0a4272b67c38303e83e7b3"
      }
     },
     "3d56c2eb6d9448d39d9ee17a2f1d6457": {
      "model_module": "@jupyter-widgets/controls",
      "model_module_version": "1.5.0",
      "model_name": "VBoxModel",
      "state": {
       "children": [
        "IPY_MODEL_2d39987bb37143068ab8e572302dee9c",
        "IPY_MODEL_d5fd1efa8c5c43a9ae1ea3959870c087"
       ],
       "layout": "IPY_MODEL_b65b7815cb644d8faf95b1073683fac3"
      }
     },
     "3d7b33cb870c46dcbcefa6e9b9d920cb": {
      "model_module": "@jupyter-widgets/base",
      "model_module_version": "1.2.0",
      "model_name": "LayoutModel",
      "state": {
       "grid_area": "dircontent",
       "width": "auto"
      }
     },
     "3d8389d2c31d4a2db908ab5c1b0162c2": {
      "model_module": "@jupyter-widgets/base",
      "model_module_version": "1.2.0",
      "model_name": "LayoutModel",
      "state": {}
     },
     "3d980eeee79845d1b365455b0a7b8dac": {
      "model_module": "@jupyter-widgets/controls",
      "model_module_version": "1.5.0",
      "model_name": "DescriptionStyleModel",
      "state": {
       "description_width": "initial"
      }
     },
     "3dc61dfc01cb4e2e8520824c2bc87b76": {
      "model_module": "@jupyter-widgets/controls",
      "model_module_version": "1.5.0",
      "model_name": "DescriptionStyleModel",
      "state": {
       "description_width": "initial"
      }
     },
     "3dca9f1395f244c4a15e828fbcd5f33e": {
      "model_module": "@jupyter-widgets/controls",
      "model_module_version": "1.5.0",
      "model_name": "HTMLModel",
      "state": {
       "layout": "IPY_MODEL_eecd6ce9e5464ecbac447465e4ee803b",
       "style": "IPY_MODEL_3e1a81647043458e90e3d599ae833f6a"
      }
     },
     "3de961ac37b946cba3a7d1688e65fd9b": {
      "model_module": "@jupyter-widgets/controls",
      "model_module_version": "1.5.0",
      "model_name": "VBoxModel",
      "state": {
       "children": [
        "IPY_MODEL_ced5fc903ab4443f8f85eacee94c9af5",
        "IPY_MODEL_346db83ac47742648e50035f43d169dd",
        "IPY_MODEL_3f0b0ca63684455a81e445b8947d7dd6",
        "IPY_MODEL_c42dc680892b40a3bcc1149068af44f7",
        "IPY_MODEL_9675e57dea2a4e18933530294e1010a6"
       ],
       "layout": "IPY_MODEL_6463821a4d464d79877f955f48472e7c"
      }
     },
     "3e1a81647043458e90e3d599ae833f6a": {
      "model_module": "@jupyter-widgets/controls",
      "model_module_version": "1.5.0",
      "model_name": "DescriptionStyleModel",
      "state": {
       "description_width": ""
      }
     },
     "3e2c687ec83b4589bfb1eb1e93c08731": {
      "model_module": "@jupyter-widgets/base",
      "model_module_version": "1.2.0",
      "model_name": "LayoutModel",
      "state": {
       "min_width": "6em",
       "width": "6em"
      }
     },
     "3e33fd82c7844f22aabe772146618483": {
      "model_module": "@jupyter-widgets/base",
      "model_module_version": "1.2.0",
      "model_name": "LayoutModel",
      "state": {
       "grid_area": "dircontent",
       "width": "auto"
      }
     },
     "3e376d0a747549be925da36a6135c9e2": {
      "model_module": "@jupyter-widgets/base",
      "model_module_version": "1.2.0",
      "model_name": "LayoutModel",
      "state": {}
     },
     "3e6138e4b2a045b3ac3f477af124e384": {
      "model_module": "@jupyter-widgets/controls",
      "model_module_version": "1.5.0",
      "model_name": "VBoxModel",
      "state": {
       "children": [
        "IPY_MODEL_a73ac5ef063445f1a4a63dbbb2bc06f2",
        "IPY_MODEL_42a150be09f64de3a9a8176c67bbe12a",
        "IPY_MODEL_b857ace1f95548aea74229dbc987b687"
       ],
       "layout": "IPY_MODEL_090dcaeeaca9443896f206548a36f2d0"
      }
     },
     "3e626b5acfa24606b24134b53a171860": {
      "model_module": "@jupyter-widgets/controls",
      "model_module_version": "1.5.0",
      "model_name": "FloatTextModel",
      "state": {
       "description": "Easting",
       "layout": "IPY_MODEL_ed481d22189a4c01aa70943041990ec2",
       "step": null,
       "style": "IPY_MODEL_4e9d014c4d5d4416b99dd920c467859c",
       "value": 25
      }
     },
     "3e68ebf92b794fdb84ea966283f25148": {
      "model_module": "@jupyter-widgets/controls",
      "model_module_version": "1.5.0",
      "model_name": "DescriptionStyleModel",
      "state": {
       "description_width": "initial"
      }
     },
     "3e94f1cddeff441f8255affbefabf3e8": {
      "model_module": "@jupyter-widgets/controls",
      "model_module_version": "1.5.0",
      "model_name": "ButtonStyleModel",
      "state": {}
     },
     "3eb4ef860f5c45ba85a62c7869523f14": {
      "model_module": "@jupyter-widgets/controls",
      "model_module_version": "1.5.0",
      "model_name": "DescriptionStyleModel",
      "state": {
       "description_width": ""
      }
     },
     "3eb94cf25c4d4eab94447f6649e0c31d": {
      "model_module": "@jupyter-widgets/controls",
      "model_module_version": "1.5.0",
      "model_name": "DescriptionStyleModel",
      "state": {
       "description_width": "initial"
      }
     },
     "3ed4de597c514e7192972688cde769d9": {
      "model_module": "@jupyter-widgets/controls",
      "model_module_version": "1.5.0",
      "model_name": "TextModel",
      "state": {
       "continuous_update": false,
       "description": "Name:",
       "layout": "IPY_MODEL_9e99171f1b6748bb9493917711fc7fbb",
       "style": "IPY_MODEL_64a0b6128fcb431cb72eb0f0c036eb4e",
       "value": "Octree_Mesh"
      }
     },
     "3ee98ae972d14a20ad2404eb7d7e362d": {
      "model_module": "@jupyter-widgets/controls",
      "model_module_version": "1.5.0",
      "model_name": "DescriptionStyleModel",
      "state": {
       "description_width": "initial"
      }
     },
     "3f0b0ca63684455a81e445b8947d7dd6": {
      "model_module": "@jupyter-widgets/controls",
      "model_module_version": "1.5.0",
      "model_name": "TextModel",
      "state": {
       "description": "Levels",
       "layout": "IPY_MODEL_201eb08a1c7848c4899a43bdc6baac01",
       "style": "IPY_MODEL_5184b9002f3e423eabde53999d9f3a43",
       "value": "0, 0, 4"
      }
     },
     "3f20e11557424e2b988f05c9492309b7": {
      "model_module": "@jupyter-widgets/base",
      "model_module_version": "1.2.0",
      "model_name": "LayoutModel",
      "state": {
       "display": "none",
       "grid_gap": "0px 0px",
       "grid_template_areas": "\n                    'pathlist filename'\n                    'dircontent dircontent'\n                    ",
       "grid_template_columns": "60% 40%",
       "grid_template_rows": "auto auto",
       "width": "auto"
      }
     },
     "3f8f45f24e854474b2829e6c29c0f09d": {
      "model_module": "@jupyter-widgets/controls",
      "model_module_version": "1.5.0",
      "model_name": "LabelModel",
      "state": {
       "layout": "IPY_MODEL_1617f55f169c4b8fa5e8a9741499e700",
       "style": "IPY_MODEL_861b46bcd3024e1ea5da42b7e99f3b9f",
       "value": "Workspace"
      }
     },
     "3fd275e7b4a048f89798c72c91d33de4": {
      "model_module": "@jupyter-widgets/base",
      "model_module_version": "1.2.0",
      "model_name": "LayoutModel",
      "state": {}
     },
     "3ff2272e73af4ffda535120ef080b743": {
      "model_module": "@jupyter-widgets/controls",
      "model_module_version": "1.5.0",
      "model_name": "TextModel",
      "state": {
       "layout": "IPY_MODEL_5e99004937a2417e852eccdd288e1142",
       "placeholder": "output filename",
       "style": "IPY_MODEL_96ef819d7c3e4831b06ba4f462517917",
       "value": "FlinFlon.geoh5"
      }
     },
     "40026bc70bde423c91d654b898fab2e5": {
      "model_module": "@jupyter-widgets/base",
      "model_module_version": "1.2.0",
      "model_name": "LayoutModel",
      "state": {}
     },
     "40543b66b6ed47c699f59981c621ece6": {
      "model_module": "@jupyter-widgets/base",
      "model_module_version": "1.2.0",
      "model_name": "LayoutModel",
      "state": {}
     },
     "407a9dbd72474d6383290208335d500b": {
      "model_module": "@jupyter-widgets/base",
      "model_module_version": "1.2.0",
      "model_name": "LayoutModel",
      "state": {}
     },
     "40aa2e1723d744bfb24ad9ec476a4ce8": {
      "model_module": "@jupyter-widgets/controls",
      "model_module_version": "1.5.0",
      "model_name": "DescriptionStyleModel",
      "state": {
       "description_width": "initial"
      }
     },
     "40fe79b4d91e429097858f51995370c1": {
      "model_module": "@jupyter-widgets/controls",
      "model_module_version": "1.5.0",
      "model_name": "DescriptionStyleModel",
      "state": {
       "description_width": "initial"
      }
     },
     "4100015e2b6046e9a3f6acd3fdf43869": {
      "model_module": "@jupyter-widgets/controls",
      "model_module_version": "1.5.0",
      "model_name": "ButtonStyleModel",
      "state": {}
     },
     "41026c8bdcab462fa7f91b0a029deab0": {
      "model_module": "@jupyter-widgets/controls",
      "model_module_version": "1.5.0",
      "model_name": "DescriptionStyleModel",
      "state": {
       "description_width": "initial"
      }
     },
     "411fb9a85d29411ab5ae4d22d6048487": {
      "model_module": "@jupyter-widgets/controls",
      "model_module_version": "1.5.0",
      "model_name": "ButtonStyleModel",
      "state": {}
     },
     "413e69aace0640a6853c9342e0a5d55a": {
      "model_module": "@jupyter-widgets/controls",
      "model_module_version": "1.5.0",
      "model_name": "HBoxModel",
      "state": {
       "children": [
        "IPY_MODEL_929fcf623ce24c20a33fffe74cca3883",
        "IPY_MODEL_b03b7dbe3e3243c4a082985d0a7468f9"
       ],
       "layout": "IPY_MODEL_34197021c4864771ae618bcad0d2c48b"
      }
     },
     "416267deb09b4f4ca538d82405362222": {
      "model_module": "@jupyter-widgets/controls",
      "model_module_version": "1.5.0",
      "model_name": "DescriptionStyleModel",
      "state": {
       "description_width": "initial"
      }
     },
     "4163fae918ce40a5b97d086b79c1f057": {
      "model_module": "@jupyter-widgets/controls",
      "model_module_version": "1.5.0",
      "model_name": "DescriptionStyleModel",
      "state": {
       "description_width": ""
      }
     },
     "41a8bf979d094dec8c4ae333856b4539": {
      "model_module": "@jupyter-widgets/controls",
      "model_module_version": "1.5.0",
      "model_name": "GridBoxModel",
      "state": {
       "children": [
        "IPY_MODEL_b3d36f33bea0412493be34c4096e1082",
        "IPY_MODEL_0dcf5a34fdf44a278b1d4bd3ebceb9fe",
        "IPY_MODEL_208cd920e6e34e3c8f6622db92ec046f"
       ],
       "layout": "IPY_MODEL_22c2b2aa102b449bb3d450fe5464ea84"
      }
     },
     "41b7f9a0048449bc9abb313b1e563833": {
      "model_module": "@jupyter-widgets/controls",
      "model_module_version": "1.5.0",
      "model_name": "DescriptionStyleModel",
      "state": {
       "description_width": ""
      }
     },
     "41c2f72e140b47629711ade2b92a04e7": {
      "model_module": "@jupyter-widgets/controls",
      "model_module_version": "1.5.0",
      "model_name": "ButtonStyleModel",
      "state": {}
     },
     "41c873fdc61c42228778ed7ce29f2b60": {
      "model_module": "@jupyter-widgets/controls",
      "model_module_version": "1.5.0",
      "model_name": "DescriptionStyleModel",
      "state": {
       "description_width": ""
      }
     },
     "41d4c00646ae4ba388666dc50c7633a0": {
      "model_module": "@jupyter-widgets/controls",
      "model_module_version": "1.5.0",
      "model_name": "DescriptionStyleModel",
      "state": {
       "description_width": ""
      }
     },
     "41e25d723e8d4125a2d5770c56dff6da": {
      "model_module": "@jupyter-widgets/controls",
      "model_module_version": "1.5.0",
      "model_name": "DescriptionStyleModel",
      "state": {
       "description_width": "initial"
      }
     },
     "41eaa3a95bea4d1bbbbe9f1469469050": {
      "model_module": "@jupyter-widgets/controls",
      "model_module_version": "1.5.0",
      "model_name": "FloatTextModel",
      "state": {
       "description": "Minimum depth (m)",
       "layout": "IPY_MODEL_fd5bf5c2f00b4bf7bbb09df237d8f9d6",
       "step": null,
       "style": "IPY_MODEL_3c85a2362eb24b6c8719736bb29f1841",
       "value": 500
      }
     },
     "420e83368d02450abbb9b37f7bcbebd6": {
      "model_module": "@jupyter-widgets/base",
      "model_module_version": "1.2.0",
      "model_name": "LayoutModel",
      "state": {
       "display": "none",
       "grid_gap": "0px 0px",
       "grid_template_areas": "\n                    'pathlist pathlist'\n                    'dircontent dircontent'\n                    ",
       "grid_template_columns": "60% 40%",
       "grid_template_rows": "auto auto",
       "width": "auto"
      }
     },
     "421f387003484f0e85b581a213031cde": {
      "model_module": "@jupyter-widgets/controls",
      "model_module_version": "1.5.0",
      "model_name": "DescriptionStyleModel",
      "state": {
       "description_width": "initial"
      }
     },
     "422ce300131b4e8da793943539449875": {
      "model_module": "@jupyter-widgets/controls",
      "model_module_version": "1.5.0",
      "model_name": "DescriptionStyleModel",
      "state": {
       "description_width": ""
      }
     },
     "424b5063559a4e5283103437a0ac050d": {
      "model_module": "@jupyter-widgets/controls",
      "model_module_version": "1.5.0",
      "model_name": "LabelModel",
      "state": {
       "layout": "IPY_MODEL_7ba36d5d99fe4674bea21bb67b84d79e",
       "style": "IPY_MODEL_b8e74dd70f49449dbb6efea252b47369",
       "value": "Refinement B"
      }
     },
     "4261a8b8264942ef87e7a9a94b92372b": {
      "model_module": "@jupyter-widgets/controls",
      "model_module_version": "1.5.0",
      "model_name": "DescriptionStyleModel",
      "state": {
       "description_width": ""
      }
     },
     "426824b1010947658b22d6f940af4662": {
      "model_module": "@jupyter-widgets/controls",
      "model_module_version": "1.5.0",
      "model_name": "DescriptionStyleModel",
      "state": {
       "description_width": "initial"
      }
     },
     "4270b025b9de4bdb9ab75510649d1953": {
      "model_module": "@jupyter-widgets/controls",
      "model_module_version": "1.5.0",
      "model_name": "DescriptionStyleModel",
      "state": {
       "description_width": ""
      }
     },
     "4283a8e655e74548ad0239708cf2c9ea": {
      "model_module": "@jupyter-widgets/controls",
      "model_module_version": "1.5.0",
      "model_name": "DescriptionStyleModel",
      "state": {
       "description_width": "initial"
      }
     },
     "428fd50add924d158e33d50281d8a111": {
      "model_module": "@jupyter-widgets/controls",
      "model_module_version": "1.5.0",
      "model_name": "LabelModel",
      "state": {
       "layout": "IPY_MODEL_81bfe3e7297647158ab45d2c8675ba08",
       "style": "IPY_MODEL_9539053397b64df18a27a54a5a4f2392",
       "value": "Core cell size"
      }
     },
     "4292933b9e0f47a0b138764576be837c": {
      "model_module": "@jupyter-widgets/controls",
      "model_module_version": "1.5.0",
      "model_name": "DescriptionStyleModel",
      "state": {
       "description_width": "initial"
      }
     },
     "42973911d52f4abc962d273913b72e9f": {
      "model_module": "@jupyter-widgets/controls",
      "model_module_version": "1.5.0",
      "model_name": "FloatTextModel",
      "state": {
       "description": "Minimum depth (m)",
       "layout": "IPY_MODEL_e9f75e4d9b204c13aeaa2cc2caf12716",
       "step": null,
       "style": "IPY_MODEL_02d2e309e3004b56810c13708634428e",
       "value": 500
      }
     },
     "42a150be09f64de3a9a8176c67bbe12a": {
      "model_module": "@jupyter-widgets/controls",
      "model_module_version": "1.5.0",
      "model_name": "GridBoxModel",
      "state": {
       "children": [
        "IPY_MODEL_dc8d69a7d9294c18a74dc8a8ee190c52",
        "IPY_MODEL_dffbfa3bb0f14286ae53cec16f0c79c4",
        "IPY_MODEL_3a8e91f1cb364d5a8fc3a928dafeaf88"
       ],
       "layout": "IPY_MODEL_90aa816e58574866808e97cf807a6dae"
      }
     },
     "42b20e344b6e4012a2d6b3674866dc71": {
      "model_module": "@jupyter-widgets/controls",
      "model_module_version": "1.5.0",
      "model_name": "TextModel",
      "state": {
       "layout": "IPY_MODEL_57c6571c75e54eddb878b7eb6d74797b",
       "placeholder": "output filename",
       "style": "IPY_MODEL_c1ffc2cee73c44cc90ccaeb6d8fecc69",
       "value": "FlinFlon.geoh5"
      }
     },
     "42b48802479b45f0a24107098e66e2fb": {
      "model_module": "@jupyter-widgets/controls",
      "model_module_version": "1.5.0",
      "model_name": "ButtonModel",
      "state": {
       "description": "Change",
       "layout": "IPY_MODEL_7efff3acdd604763b0e649115d89659e",
       "style": "IPY_MODEL_978f9e23d66842f5a1a07a4a1c0afd3f"
      }
     },
     "42d39d6f71c6465eb7ed5e4f645375b3": {
      "model_module": "@jupyter-widgets/controls",
      "model_module_version": "1.5.0",
      "model_name": "LabelModel",
      "state": {
       "layout": "IPY_MODEL_b699ddb0377d42f093f5c820dc5504d1",
       "style": "IPY_MODEL_ebabf569881e4a67973efc131c44a59c",
       "value": "Refinement A"
      }
     },
     "42d8533e9887446896987d3776255295": {
      "model_module": "@jupyter-widgets/base",
      "model_module_version": "1.2.0",
      "model_name": "LayoutModel",
      "state": {
       "margin": "0 0 0 1em"
      }
     },
     "42ef745871bf404eaf3c415ddefe001c": {
      "model_module": "@jupyter-widgets/base",
      "model_module_version": "1.2.0",
      "model_name": "LayoutModel",
      "state": {}
     },
     "42feb1bfa8784e37b7369743c62722e2": {
      "model_module": "@jupyter-widgets/controls",
      "model_module_version": "1.5.0",
      "model_name": "VBoxModel",
      "state": {
       "children": [
        "IPY_MODEL_c6199a7f3acd4fe48aa237789ceac5e1",
        "IPY_MODEL_54cc8b03439e49ca901e225ab097eb04",
        "IPY_MODEL_6fae75f5103640b299471cc54cf187f2"
       ],
       "layout": "IPY_MODEL_02f7e5c7b76d4bbfa3f91503fa1c085f"
      }
     },
     "4302da568c804480b344067f3c2d3221": {
      "model_module": "@jupyter-widgets/controls",
      "model_module_version": "1.5.0",
      "model_name": "DescriptionStyleModel",
      "state": {
       "description_width": "initial"
      }
     },
     "4313321ef7544eb6b9e2abd42de38807": {
      "model_module": "@jupyter-widgets/controls",
      "model_module_version": "1.5.0",
      "model_name": "DescriptionStyleModel",
      "state": {
       "description_width": "initial"
      }
     },
     "43483102383f4491a7a29e7de79610dc": {
      "model_module": "@jupyter-widgets/controls",
      "model_module_version": "1.5.0",
      "model_name": "VBoxModel",
      "state": {
       "children": [
        "IPY_MODEL_20715b77fdb24f069f1ca63fc5438f8e",
        "IPY_MODEL_1a2c36d39fb8483c91722540024e1c57"
       ],
       "layout": "IPY_MODEL_7306c76b10414292babc1caf57528bac"
      }
     },
     "435729d1072742d5b08377453db36aa9": {
      "model_module": "@jupyter-widgets/controls",
      "model_module_version": "1.5.0",
      "model_name": "DescriptionStyleModel",
      "state": {
       "description_width": "initial"
      }
     },
     "437ac02863b5405b8e73f26d60f9830b": {
      "model_module": "@jupyter-widgets/base",
      "model_module_version": "1.2.0",
      "model_name": "LayoutModel",
      "state": {
       "overflow": "auto"
      }
     },
     "43846e96f70d4e6e8da088c9ec4208e8": {
      "model_module": "@jupyter-widgets/controls",
      "model_module_version": "1.5.0",
      "model_name": "VBoxModel",
      "state": {
       "children": [
        "IPY_MODEL_8085364085974640aed9d8319edfa0eb",
        "IPY_MODEL_25a100910f5f4541abac63a936cf0cc9",
        "IPY_MODEL_f4f7fe39d032476fb7c804de14e4759e",
        "IPY_MODEL_a3f702c6ce7b482a964847a6fa0bab42",
        "IPY_MODEL_1bc934110ef94b27950ce2c741682cdb"
       ],
       "layout": "IPY_MODEL_2657ae59173642c08d971fb775f3668a"
      }
     },
     "43961a61d71a47e688dd6c9eec82f853": {
      "model_module": "@jupyter-widgets/base",
      "model_module_version": "1.2.0",
      "model_name": "LayoutModel",
      "state": {
       "min_width": "6em",
       "width": "6em"
      }
     },
     "439b2bdd2eb64997ab72a0857a5a4ca7": {
      "model_module": "@jupyter-widgets/controls",
      "model_module_version": "1.5.0",
      "model_name": "DescriptionStyleModel",
      "state": {
       "description_width": "initial"
      }
     },
     "43d2f3c666aa4a89b872247fe2caf368": {
      "model_module": "@jupyter-widgets/controls",
      "model_module_version": "1.5.0",
      "model_name": "DescriptionStyleModel",
      "state": {
       "description_width": "initial"
      }
     },
     "43eb9e51efa14e3285e02a902d32513b": {
      "model_module": "@jupyter-widgets/controls",
      "model_module_version": "1.5.0",
      "model_name": "ButtonStyleModel",
      "state": {}
     },
     "440b7da572ad44eebf43b33087c93f72": {
      "model_module": "@jupyter-widgets/controls",
      "model_module_version": "1.5.0",
      "model_name": "DescriptionStyleModel",
      "state": {
       "description_width": "initial"
      }
     },
     "441bc206724d4b00a8bd001dfb1f803a": {
      "model_module": "@jupyter-widgets/controls",
      "model_module_version": "1.5.0",
      "model_name": "DescriptionStyleModel",
      "state": {
       "description_width": "initial"
      }
     },
     "4429397bc05c419495fbbb08bfcd07c1": {
      "model_module": "@jupyter-widgets/controls",
      "model_module_version": "1.5.0",
      "model_name": "HTMLModel",
      "state": {
       "layout": "IPY_MODEL_46b7a96e664b4cf39fb58b9bac53000f",
       "style": "IPY_MODEL_f690e81e322f4423bd77cb09aa747e66"
      }
     },
     "442ae39b1b3a41f3922115576a4aedc7": {
      "model_module": "@jupyter-widgets/base",
      "model_module_version": "1.2.0",
      "model_name": "LayoutModel",
      "state": {
       "display": "none"
      }
     },
     "44345a8f2ded4e128c377e760cfc5061": {
      "model_module": "@jupyter-widgets/controls",
      "model_module_version": "1.5.0",
      "model_name": "TextModel",
      "state": {
       "description": "Levels",
       "layout": "IPY_MODEL_dbdfff51cf114cbda7c73160cae304cf",
       "style": "IPY_MODEL_dc375d0a55ed4071b24502219708d8e2",
       "value": "0, 0, 4"
      }
     },
     "44412b73c434433cacb7bf3467b630eb": {
      "model_module": "@jupyter-widgets/controls",
      "model_module_version": "1.5.0",
      "model_name": "FloatTextModel",
      "state": {
       "description": "Vertical",
       "layout": "IPY_MODEL_70b4687ee72a40cf860e776c3280b376",
       "step": null,
       "style": "IPY_MODEL_01fd44b88c254f24822a531686718932",
       "value": 25
      }
     },
     "4444170e99bf4d8c8131815b7818fe01": {
      "model_module": "@jupyter-widgets/controls",
      "model_module_version": "1.5.0",
      "model_name": "DescriptionStyleModel",
      "state": {
       "description_width": "initial"
      }
     },
     "44449285388645d99d55e2d1d6aeff03": {
      "model_module": "@jupyter-widgets/base",
      "model_module_version": "1.2.0",
      "model_name": "LayoutModel",
      "state": {}
     },
     "444d2169698c4d62b646805268f1c620": {
      "model_module": "@jupyter-widgets/controls",
      "model_module_version": "1.5.0",
      "model_name": "TextModel",
      "state": {
       "description": "Levels",
       "layout": "IPY_MODEL_a75ae52cb4394761b32a16391451fec6",
       "style": "IPY_MODEL_3879828ed0714059add8e988ce7c94fb",
       "value": "0, 0, 4"
      }
     },
     "446df068988440dcb499c28ede55a103": {
      "model_module": "@jupyter-widgets/controls",
      "model_module_version": "1.5.0",
      "model_name": "ButtonModel",
      "state": {
       "description": "Change",
       "layout": "IPY_MODEL_7d6d260ac0a34dc8a2ab1ea78a7d2707",
       "style": "IPY_MODEL_05f5b19601ad4bf38882d1dcbe0b5ce4"
      }
     },
     "448035fee2f14a4d9389eb0b0efc9c66": {
      "model_module": "@jupyter-widgets/controls",
      "model_module_version": "1.5.0",
      "model_name": "LabelModel",
      "state": {
       "layout": "IPY_MODEL_111a5f4015df4ec0928b73de98da2072",
       "style": "IPY_MODEL_d64122045f9346cb941da95fb34e09ce",
       "value": "Base Parameters"
      }
     },
     "44a0523e470e4266a0ce2519b9327828": {
      "model_module": "@jupyter-widgets/controls",
      "model_module_version": "1.5.0",
      "model_name": "DescriptionStyleModel",
      "state": {
       "description_width": "initial"
      }
     },
     "44b2e37edb4841818268d403bc70f6d7": {
      "model_module": "@jupyter-widgets/base",
      "model_module_version": "1.2.0",
      "model_name": "LayoutModel",
      "state": {
       "width": "auto"
      }
     },
     "44bc6ea9b7024fa3bb575c9baf097fc9": {
      "model_module": "@jupyter-widgets/base",
      "model_module_version": "1.2.0",
      "model_name": "LayoutModel",
      "state": {
       "display": "none"
      }
     },
     "44cdbee4f76c4b54ad1fa22b6b1a8554": {
      "model_module": "@jupyter-widgets/controls",
      "model_module_version": "1.5.0",
      "model_name": "ButtonStyleModel",
      "state": {}
     },
     "44e571436a3b4a5bb25b3a7bbdb71a48": {
      "model_module": "@jupyter-widgets/base",
      "model_module_version": "1.2.0",
      "model_name": "LayoutModel",
      "state": {}
     },
     "44f1454fcd104a9d96a19de42d862057": {
      "model_module": "@jupyter-widgets/base",
      "model_module_version": "1.2.0",
      "model_name": "LayoutModel",
      "state": {}
     },
     "4513d4a241f141a98e3357654070bbd5": {
      "model_module": "@jupyter-widgets/controls",
      "model_module_version": "1.5.0",
      "model_name": "DescriptionStyleModel",
      "state": {
       "description_width": "initial"
      }
     },
     "4523aa4af67a4f7ab18fbea15d6c4bfb": {
      "model_module": "@jupyter-widgets/controls",
      "model_module_version": "1.5.0",
      "model_name": "TextModel",
      "state": {
       "description": "Levels",
       "layout": "IPY_MODEL_0496f6967ab94b07983d5c7588befd55",
       "style": "IPY_MODEL_bfbdc37508014f28b2580a0950ec19f8",
       "value": "0, 0, 4"
      }
     },
     "45268a32371d404cadcb3f1264fdfb6d": {
      "model_module": "@jupyter-widgets/controls",
      "model_module_version": "1.5.0",
      "model_name": "DescriptionStyleModel",
      "state": {
       "description_width": "initial"
      }
     },
     "452bb65ea63d46d9bbce20f38437c5f3": {
      "model_module": "@jupyter-widgets/controls",
      "model_module_version": "1.5.0",
      "model_name": "DescriptionStyleModel",
      "state": {
       "description_width": "initial"
      }
     },
     "4536e97f33d54e3aab99441bc6a6ad7f": {
      "model_module": "@jupyter-widgets/controls",
      "model_module_version": "1.5.0",
      "model_name": "ButtonModel",
      "state": {
       "description": "Cancel",
       "layout": "IPY_MODEL_6386946642634bc8863cc84ae5a2bca3",
       "style": "IPY_MODEL_ef2823f34f594b7cbf208606e2f1c68e"
      }
     },
     "453e87a413a5428b8a1972ce0209f03b": {
      "model_module": "@jupyter-widgets/base",
      "model_module_version": "1.2.0",
      "model_name": "LayoutModel",
      "state": {
       "display": "none"
      }
     },
     "4557c63d75714040adfe97c30fdd38a7": {
      "model_module": "@jupyter-widgets/controls",
      "model_module_version": "1.5.0",
      "model_name": "DescriptionStyleModel",
      "state": {
       "description_width": ""
      }
     },
     "4561ffbcf63942d29a94fab81d73fa6f": {
      "model_module": "@jupyter-widgets/controls",
      "model_module_version": "1.5.0",
      "model_name": "DescriptionStyleModel",
      "state": {
       "description_width": "initial"
      }
     },
     "45a54c647d694d7384625b55f648b915": {
      "model_module": "@jupyter-widgets/controls",
      "model_module_version": "1.5.0",
      "model_name": "ButtonModel",
      "state": {
       "button_style": "danger",
       "description": "Create",
       "icon": "check",
       "layout": "IPY_MODEL_f157aac339794f5e9b186634c2f7585a",
       "style": "IPY_MODEL_0395fcbe99bd4950bb6b96a638821b9c",
       "tooltip": "Run computation"
      }
     },
     "45c3bb02ecc84ebcb33733594ff9ff72": {
      "model_module": "@jupyter-widgets/controls",
      "model_module_version": "1.5.0",
      "model_name": "HTMLModel",
      "state": {
       "layout": "IPY_MODEL_4b29894ae76f4509bb45d86782d0d58f",
       "style": "IPY_MODEL_bf512241b6294874851f763e053cb14f"
      }
     },
     "45ed359948fd4c19b1914e8106a15e62": {
      "model_module": "@jupyter-widgets/controls",
      "model_module_version": "1.5.0",
      "model_name": "FloatTextModel",
      "state": {
       "description": "Minimum depth (m)",
       "layout": "IPY_MODEL_56ff5265ac92411fa3db88d2db50d84b",
       "step": null,
       "style": "IPY_MODEL_de97ad21e44249f1a84beca598ed20df",
       "value": 500
      }
     },
     "45f27960c2c34f44807231872c43b472": {
      "model_module": "@jupyter-widgets/controls",
      "model_module_version": "1.5.0",
      "model_name": "DescriptionStyleModel",
      "state": {
       "description_width": "initial"
      }
     },
     "46157258e8ec4e06ac3de423f92604bb": {
      "model_module": "@jupyter-widgets/controls",
      "model_module_version": "1.5.0",
      "model_name": "DescriptionStyleModel",
      "state": {
       "description_width": "initial"
      }
     },
     "461b2d36f80c40389c0b98fc7e327a15": {
      "model_module": "@jupyter-widgets/controls",
      "model_module_version": "1.5.0",
      "model_name": "DescriptionStyleModel",
      "state": {
       "description_width": ""
      }
     },
     "461fbde7f3c94683894d79f8f4d99672": {
      "model_module": "@jupyter-widgets/controls",
      "model_module_version": "1.5.0",
      "model_name": "VBoxModel",
      "state": {
       "children": [
        "IPY_MODEL_de3c703df0a84855b529e1b19f62c806"
       ],
       "layout": "IPY_MODEL_f52e4eb230c54bc0b34bf207be2f1d15"
      }
     },
     "4621d4bb7843460fbb418fa6742cd662": {
      "model_module": "@jupyter-widgets/controls",
      "model_module_version": "1.5.0",
      "model_name": "DescriptionStyleModel",
      "state": {
       "description_width": "initial"
      }
     },
     "46298655bcd249909834fe8a76559890": {
      "model_module": "@jupyter-widgets/controls",
      "model_module_version": "1.5.0",
      "model_name": "BoxModel",
      "state": {
       "children": [
        "IPY_MODEL_99bb7683e739451f839313da4bad1aea"
       ],
       "layout": "IPY_MODEL_6284193f15c8469cba71066656c13645"
      }
     },
     "4650095da0d84132b051af3710d31866": {
      "model_module": "@jupyter-widgets/base",
      "model_module_version": "1.2.0",
      "model_name": "LayoutModel",
      "state": {
       "overflow": "auto"
      }
     },
     "4665f1d795414ed59367822afb0e2107": {
      "model_module": "@jupyter-widgets/controls",
      "model_module_version": "1.5.0",
      "model_name": "DescriptionStyleModel",
      "state": {
       "description_width": "initial"
      }
     },
     "46846a656842460289ac3bf002b7b654": {
      "model_module": "@jupyter-widgets/controls",
      "model_module_version": "1.5.0",
      "model_name": "DescriptionStyleModel",
      "state": {
       "description_width": ""
      }
     },
     "46a3c9199a3242a38abfa2b43258a31c": {
      "model_module": "@jupyter-widgets/base",
      "model_module_version": "1.2.0",
      "model_name": "LayoutModel",
      "state": {
       "margin": "0 0 0 1em"
      }
     },
     "46b187e730ae4b0b8a99af2911be5695": {
      "model_module": "@jupyter-widgets/base",
      "model_module_version": "1.2.0",
      "model_name": "LayoutModel",
      "state": {
       "min_width": "6em",
       "width": "6em"
      }
     },
     "46b2bd44e9724a9a9545cb2838a9ec52": {
      "model_module": "@jupyter-widgets/controls",
      "model_module_version": "1.5.0",
      "model_name": "DescriptionStyleModel",
      "state": {
       "description_width": "initial"
      }
     },
     "46b369e5c570451f94eb63a88cddb4e3": {
      "model_module": "@jupyter-widgets/base",
      "model_module_version": "1.2.0",
      "model_name": "LayoutModel",
      "state": {}
     },
     "46b4d113db9c488199df8006fc9496e8": {
      "model_module": "@jupyter-widgets/base",
      "model_module_version": "1.2.0",
      "model_name": "LayoutModel",
      "state": {
       "display": "none",
       "min_width": "6em",
       "width": "6em"
      }
     },
     "46b6417b6ccc40b996e92ae6a98382ca": {
      "model_module": "@jupyter-widgets/controls",
      "model_module_version": "1.5.0",
      "model_name": "VBoxModel",
      "state": {
       "children": [
        "IPY_MODEL_b235f138194c467a8d354b1756d9f4e8",
        "IPY_MODEL_ff41a9bc0aa4481088940ad258c53097",
        "IPY_MODEL_c79ab79911424cbbbd2b2c97fc568b53"
       ],
       "layout": "IPY_MODEL_65393c27a42d458aa8be577b9493582b"
      }
     },
     "46b7a96e664b4cf39fb58b9bac53000f": {
      "model_module": "@jupyter-widgets/base",
      "model_module_version": "1.2.0",
      "model_name": "LayoutModel",
      "state": {
       "display": "none"
      }
     },
     "46e4d3706763490d83abbd595317b179": {
      "model_module": "@jupyter-widgets/controls",
      "model_module_version": "1.5.0",
      "model_name": "DescriptionStyleModel",
      "state": {
       "description_width": "initial"
      }
     },
     "46f28c9c88134e999c6492e778328ccf": {
      "model_module": "@jupyter-widgets/controls",
      "model_module_version": "1.5.0",
      "model_name": "DescriptionStyleModel",
      "state": {
       "description_width": "initial"
      }
     },
     "46f53e976bbc464b9400ea01a22c3204": {
      "model_module": "@jupyter-widgets/controls",
      "model_module_version": "1.5.0",
      "model_name": "ButtonStyleModel",
      "state": {}
     },
     "46f7fd45bf5a402ba5e0195cc911dd45": {
      "model_module": "@jupyter-widgets/base",
      "model_module_version": "1.2.0",
      "model_name": "LayoutModel",
      "state": {
       "display": "none",
       "grid_gap": "0px 0px",
       "grid_template_areas": "\n                    'pathlist filename'\n                    'dircontent dircontent'\n                    ",
       "grid_template_columns": "60% 40%",
       "grid_template_rows": "auto auto",
       "width": "auto"
      }
     },
     "472664c92fe9435589006474003a4fc2": {
      "model_module": "@jupyter-widgets/controls",
      "model_module_version": "1.5.0",
      "model_name": "DescriptionStyleModel",
      "state": {
       "description_width": ""
      }
     },
     "472fca8dde4c42dd8d9e4cb6a98ab853": {
      "model_module": "@jupyter-widgets/base",
      "model_module_version": "1.2.0",
      "model_name": "LayoutModel",
      "state": {}
     },
     "474e82435de649db9884daf3c6ccc904": {
      "model_module": "@jupyter-widgets/controls",
      "model_module_version": "1.5.0",
      "model_name": "DescriptionStyleModel",
      "state": {
       "description_width": "initial"
      }
     },
     "4751bb36a1c041ccb680e98d0cb9920a": {
      "model_module": "@jupyter-widgets/controls",
      "model_module_version": "1.5.0",
      "model_name": "DescriptionStyleModel",
      "state": {
       "description_width": "initial"
      }
     },
     "475d99e0fc594a8bb1e6aed40adbfa43": {
      "model_module": "@jupyter-widgets/base",
      "model_module_version": "1.2.0",
      "model_name": "LayoutModel",
      "state": {}
     },
     "4773b04607364c2a9d3a157b131403a9": {
      "model_module": "@jupyter-widgets/base",
      "model_module_version": "1.2.0",
      "model_name": "LayoutModel",
      "state": {}
     },
     "47901af900ff454fa8f073ed1a891c5b": {
      "model_module": "@jupyter-widgets/controls",
      "model_module_version": "1.5.0",
      "model_name": "DescriptionStyleModel",
      "state": {
       "description_width": ""
      }
     },
     "47a272b436664f1981044152c8051b5f": {
      "model_module": "@jupyter-widgets/base",
      "model_module_version": "1.2.0",
      "model_name": "LayoutModel",
      "state": {}
     },
     "47a3498f15d14818b9cbae234cd28409": {
      "model_module": "@jupyter-widgets/controls",
      "model_module_version": "1.5.0",
      "model_name": "DescriptionStyleModel",
      "state": {
       "description_width": ""
      }
     },
     "47a966b8db7e40329f3624a1cd991a40": {
      "model_module": "@jupyter-widgets/controls",
      "model_module_version": "1.5.0",
      "model_name": "DescriptionStyleModel",
      "state": {
       "description_width": ""
      }
     },
     "47ad8c762a9b497982a15192f0b3a8c9": {
      "model_module": "@jupyter-widgets/base",
      "model_module_version": "1.2.0",
      "model_name": "LayoutModel",
      "state": {}
     },
     "47b4e58d99bf45f9a59d1ed0db03baca": {
      "model_module": "@jupyter-widgets/base",
      "model_module_version": "1.2.0",
      "model_name": "LayoutModel",
      "state": {
       "display": "none",
       "width": "auto"
      }
     },
     "47bba4a37b404fa9938ae4237c22eafd": {
      "model_module": "@jupyter-widgets/controls",
      "model_module_version": "1.5.0",
      "model_name": "DescriptionStyleModel",
      "state": {
       "description_width": "initial"
      }
     },
     "47d32652b923447f926dd91da66ca292": {
      "model_module": "@jupyter-widgets/controls",
      "model_module_version": "1.5.0",
      "model_name": "DescriptionStyleModel",
      "state": {
       "description_width": ""
      }
     },
     "485d585c97db43f493b52907cf0c78d7": {
      "model_module": "@jupyter-widgets/controls",
      "model_module_version": "1.5.0",
      "model_name": "FloatTextModel",
      "state": {
       "description": "Distance",
       "layout": "IPY_MODEL_fbeb95125b664da6be0b4ffbd25e81d9",
       "step": null,
       "style": "IPY_MODEL_74ec7d386fd74c1a8b8d9f2ebf3bca1a",
       "value": 1000
      }
     },
     "4877b726fb5e417ca7a85e16ee4b0275": {
      "model_module": "@jupyter-widgets/controls",
      "model_module_version": "1.5.0",
      "model_name": "VBoxModel",
      "state": {
       "children": [
        "IPY_MODEL_1acbdefd64444635827bc1807ce3c9ea",
        "IPY_MODEL_6cfe2f362f314f9ea5eddc66d35fc144"
       ],
       "layout": "IPY_MODEL_9e84ed4d7bd24d85921413908ab363b1"
      }
     },
     "48866bbbe63d46748e33e861bd6c3db7": {
      "model_module": "@jupyter-widgets/controls",
      "model_module_version": "1.5.0",
      "model_name": "DescriptionStyleModel",
      "state": {
       "description_width": ""
      }
     },
     "489773d34c65456f9e7d265a8c644299": {
      "model_module": "@jupyter-widgets/controls",
      "model_module_version": "1.5.0",
      "model_name": "VBoxModel",
      "state": {
       "children": [
        "IPY_MODEL_bfc17322694e42e7bc863d3b3f535971",
        "IPY_MODEL_7a8985871e46462eae34c4bac806f96f",
        "IPY_MODEL_d6683fe522254181ba18d7e0ca95c240"
       ],
       "layout": "IPY_MODEL_578bdee24219426588913f1cf2f0434b"
      }
     },
     "489da34b1c9e4b8bb735901e89f40674": {
      "model_module": "@jupyter-widgets/base",
      "model_module_version": "1.2.0",
      "model_name": "LayoutModel",
      "state": {}
     },
     "48a6f925dbc64f4fafb7849ff21c8912": {
      "model_module": "@jupyter-widgets/base",
      "model_module_version": "1.2.0",
      "model_name": "LayoutModel",
      "state": {}
     },
     "48aecef9577648fd9ba183e9001e6ef3": {
      "model_module": "@jupyter-widgets/controls",
      "model_module_version": "1.5.0",
      "model_name": "VBoxModel",
      "state": {
       "children": [
        "IPY_MODEL_2f5b389765824ab18a25bb9cc169dc40",
        "IPY_MODEL_43846e96f70d4e6e8da088c9ec4208e8"
       ],
       "layout": "IPY_MODEL_b04ce454c17e4873b851428cb73803a9"
      }
     },
     "48bd364ecf0f47fea594de7b9ccf7bf2": {
      "model_module": "@jupyter-widgets/controls",
      "model_module_version": "1.5.0",
      "model_name": "ButtonStyleModel",
      "state": {}
     },
     "48bf0d2ebd9644448cbc6a494f29fde4": {
      "model_module": "@jupyter-widgets/base",
      "model_module_version": "1.2.0",
      "model_name": "LayoutModel",
      "state": {
       "grid_area": "dircontent",
       "width": "auto"
      }
     },
     "49058c22e04943e1b0963132c07a4487": {
      "model_module": "@jupyter-widgets/controls",
      "model_module_version": "1.5.0",
      "model_name": "DescriptionStyleModel",
      "state": {
       "description_width": ""
      }
     },
     "492bfd2e0b1545ca814416553032f447": {
      "model_module": "@jupyter-widgets/controls",
      "model_module_version": "1.5.0",
      "model_name": "VBoxModel",
      "state": {
       "children": [
        "IPY_MODEL_6088482faedd48d5b348e32ddb082596",
        "IPY_MODEL_a82f61b106e74b91a0e51946255028dd"
       ],
       "layout": "IPY_MODEL_4a16ceb461834c518e744d36aefcce77"
      }
     },
     "492d153f839c4c2b9ca8dc22b6f44b95": {
      "model_module": "@jupyter-widgets/base",
      "model_module_version": "1.2.0",
      "model_name": "LayoutModel",
      "state": {}
     },
     "49437ca573e946d7982f7356c8468e25": {
      "model_module": "@jupyter-widgets/controls",
      "model_module_version": "1.5.0",
      "model_name": "DescriptionStyleModel",
      "state": {
       "description_width": ""
      }
     },
     "4943d33b8c584e87bbd0f119f0cc9965": {
      "model_module": "@jupyter-widgets/controls",
      "model_module_version": "1.5.0",
      "model_name": "VBoxModel",
      "state": {
       "children": [
        "IPY_MODEL_7496132110fa4959bd761c1a19c9bb10",
        "IPY_MODEL_e8e41c9103084abaa734b1fb90ceb9dc",
        "IPY_MODEL_2de29a9236d54020a659ca1a61f0b546",
        "IPY_MODEL_709bf62ebbcb4a179b42e48a77470271",
        "IPY_MODEL_e71752c4bb9241358dd4a0f26fce2956"
       ],
       "layout": "IPY_MODEL_b9b7829fd25642aea312a1011a2289b1"
      }
     },
     "495fbad1555c4d5a87291b37603f52d4": {
      "model_module": "@jupyter-widgets/base",
      "model_module_version": "1.2.0",
      "model_name": "LayoutModel",
      "state": {
       "grid_area": "pathlist",
       "width": "auto"
      }
     },
     "4960d2db50ef4f6fb4defcdabb245ec8": {
      "model_module": "@jupyter-widgets/base",
      "model_module_version": "1.2.0",
      "model_name": "LayoutModel",
      "state": {}
     },
     "499b1b19f309455c9ae39c284ffbbe45": {
      "model_module": "@jupyter-widgets/controls",
      "model_module_version": "1.5.0",
      "model_name": "GridBoxModel",
      "state": {
       "children": [
        "IPY_MODEL_89d9262e351f4fedaef694a089ff90f8",
        "IPY_MODEL_ea10650b433d4458b0b3365388289bfc",
        "IPY_MODEL_b44c035cc4a745288add3790ee5247a4"
       ],
       "layout": "IPY_MODEL_e16be1815f49416b9a4c1166476bb9d0"
      }
     },
     "49a67360e25e4b339b1e15b311fd4869": {
      "model_module": "@jupyter-widgets/controls",
      "model_module_version": "1.5.0",
      "model_name": "ButtonStyleModel",
      "state": {}
     },
     "49bb65d4146241c6ae6e41df582957f8": {
      "model_module": "@jupyter-widgets/base",
      "model_module_version": "1.2.0",
      "model_name": "LayoutModel",
      "state": {}
     },
     "49d5ad16ef764dcc9625b0e7597a9948": {
      "model_module": "@jupyter-widgets/controls",
      "model_module_version": "1.5.0",
      "model_name": "DescriptionStyleModel",
      "state": {
       "description_width": "initial"
      }
     },
     "4a119888dbab43dbb0b470c69238c77d": {
      "model_module": "@jupyter-widgets/controls",
      "model_module_version": "1.5.0",
      "model_name": "DescriptionStyleModel",
      "state": {
       "description_width": "initial"
      }
     },
     "4a16ceb461834c518e744d36aefcce77": {
      "model_module": "@jupyter-widgets/base",
      "model_module_version": "1.2.0",
      "model_name": "LayoutModel",
      "state": {}
     },
     "4a17a71cdb774cb8b678f8ae57f2e54c": {
      "model_module": "@jupyter-widgets/controls",
      "model_module_version": "1.5.0",
      "model_name": "DescriptionStyleModel",
      "state": {
       "description_width": ""
      }
     },
     "4a23534912904aafae7ac93adfba22e2": {
      "model_module": "@jupyter-widgets/base",
      "model_module_version": "1.2.0",
      "model_name": "LayoutModel",
      "state": {}
     },
     "4a3277de1a5049da80165b4be1ec7848": {
      "model_module": "@jupyter-widgets/controls",
      "model_module_version": "1.5.0",
      "model_name": "DropdownModel",
      "state": {
       "_options_labels": [
        "",
        "Ore/39_Ore_Callinan",
        "Ore/38_Ore_Dan_Owens",
        "Ore/40_Ore_FlinFlon",
        "Workspace/Inversion_VTEM_Model",
        "Workspace/CDI_VTEM_model",
        "Workspace/Data_FEM_pseudo3D",
        "Workspace/geochem",
        "Workspace/Inversion_DIGHEM_Model",
        "Workspace/Topography",
        "Workspace/Data_TEM_pseudo3D",
        "Workspace/Data_ZTEM",
        "Workspace/Mesh"
       ],
       "description": "Object",
       "index": 6,
       "layout": "IPY_MODEL_e82f783006174028af454acc033935e9",
       "style": "IPY_MODEL_4b419ce88bb7490fa9d43d8d54f713bb"
      }
     },
     "4a414d078e974e848255eebafeffb8f1": {
      "model_module": "@jupyter-widgets/base",
      "model_module_version": "1.2.0",
      "model_name": "LayoutModel",
      "state": {}
     },
     "4a6cdedfc1294309b9329d4c4831ccca": {
      "model_module": "@jupyter-widgets/controls",
      "model_module_version": "1.5.0",
      "model_name": "DescriptionStyleModel",
      "state": {
       "description_width": "initial"
      }
     },
     "4a71ac1f2b6c4bcaab05b6ae4d777263": {
      "model_module": "@jupyter-widgets/controls",
      "model_module_version": "1.5.0",
      "model_name": "VBoxModel",
      "state": {
       "children": [
        "IPY_MODEL_dc5b2c0800874e49a614d6eb9de8aaec",
        "IPY_MODEL_2b1ac6c3f6e24fd3a2045d6ff13780f2",
        "IPY_MODEL_863d8c967283407e8fe622f7f7a5bd32",
        "IPY_MODEL_5e4c1d576ea24007b9ef7def2faaf36b",
        "IPY_MODEL_4d9b4ed2ccfe4536b7f3eba5b05fe005"
       ],
       "layout": "IPY_MODEL_1f33afead6884d2483fe5100d35beed7"
      }
     },
     "4a75a0da8de84915a14852a42898edb8": {
      "model_module": "@jupyter-widgets/controls",
      "model_module_version": "1.5.0",
      "model_name": "DescriptionStyleModel",
      "state": {
       "description_width": "initial"
      }
     },
     "4a7cf98c06a746dd9e60ec3f6a70d8b7": {
      "model_module": "@jupyter-widgets/controls",
      "model_module_version": "1.5.0",
      "model_name": "VBoxModel",
      "state": {
       "children": [
        "IPY_MODEL_f8b51302f8cc4341ae6344a29c9dda3d",
        "IPY_MODEL_1b53f63e13ca480d82df42fdf2a166bd"
       ],
       "layout": "IPY_MODEL_04dcd7043404422295dd3cb193b43d54"
      }
     },
     "4abdb914849544c2a89bf832b031e545": {
      "model_module": "@jupyter-widgets/controls",
      "model_module_version": "1.5.0",
      "model_name": "DescriptionStyleModel",
      "state": {
       "description_width": "initial"
      }
     },
     "4ac40f6eb4df4d61b4e62520f9050e4c": {
      "model_module": "@jupyter-widgets/controls",
      "model_module_version": "1.5.0",
      "model_name": "DescriptionStyleModel",
      "state": {
       "description_width": "initial"
      }
     },
     "4ac74c8ea7074195a7ebdddeec5e544a": {
      "model_module": "@jupyter-widgets/controls",
      "model_module_version": "1.5.0",
      "model_name": "DropdownModel",
      "state": {
       "_options_labels": [
        "surface",
        "radial"
       ],
       "description": "Type",
       "index": 1,
       "layout": "IPY_MODEL_7909176b50194b5688c4f66a2e55e563",
       "style": "IPY_MODEL_95d8fafc2628493eb7ed4bc16f017728"
      }
     },
     "4ac97f6306ac497f84fe6cecc8d0ad4b": {
      "model_module": "@jupyter-widgets/controls",
      "model_module_version": "1.5.0",
      "model_name": "SelectModel",
      "state": {
       "_options_labels": [
        "📁 ..",
        "📁 Temp",
        "📁 uijson",
        "FlinFlon.geoh5",
        "FlinFlon_dcip.geoh5",
        "FlinFlon_dcip_v4.geoh5",
        "FlinFlon_natural_sources.geoh5",
        "FlinFlon_natural_sources_v4.geoh5",
        "MtDore_TMI.geoh5"
       ],
       "index": 3,
       "layout": "IPY_MODEL_64f16dbb0fd84848a98f650f959b51c5",
       "rows": 8,
       "style": "IPY_MODEL_4f0ebc63266340978b8c307d0c8b79f9"
      }
     },
     "4ad8b48764ff4d17ae6b8481a93dea22": {
      "model_module": "@jupyter-widgets/controls",
      "model_module_version": "1.5.0",
      "model_name": "DescriptionStyleModel",
      "state": {
       "description_width": "initial"
      }
     },
     "4ade7121aad7461cb87f4a78d4ee883a": {
      "model_module": "@jupyter-widgets/controls",
      "model_module_version": "1.5.0",
      "model_name": "DescriptionStyleModel",
      "state": {
       "description_width": "initial"
      }
     },
     "4aebb456fbe74ab0b4a5d2ec18db5ee2": {
      "model_module": "@jupyter-widgets/controls",
      "model_module_version": "1.5.0",
      "model_name": "GridBoxModel",
      "state": {
       "children": [
        "IPY_MODEL_36a7f5d5fb264dde9a16573217f365d7",
        "IPY_MODEL_254f1f812fcc46f3930b508463c65702",
        "IPY_MODEL_bb99d81a3510418698411eaa4a262278"
       ],
       "layout": "IPY_MODEL_d3c00e508cce44b4a74f9993e11381e5"
      }
     },
     "4afe842725bf4f958f8d860235edd9bc": {
      "model_module": "@jupyter-widgets/base",
      "model_module_version": "1.2.0",
      "model_name": "LayoutModel",
      "state": {
       "display": "none",
       "min_width": "6em",
       "width": "6em"
      }
     },
     "4b17719b8fc34e648fc4daf973bbc236": {
      "model_module": "@jupyter-widgets/controls",
      "model_module_version": "1.5.0",
      "model_name": "DescriptionStyleModel",
      "state": {
       "description_width": "initial"
      }
     },
     "4b29894ae76f4509bb45d86782d0d58f": {
      "model_module": "@jupyter-widgets/base",
      "model_module_version": "1.2.0",
      "model_name": "LayoutModel",
      "state": {
       "display": "none"
      }
     },
     "4b2a4bf9db6c40b6890f2c9f7507d39c": {
      "model_module": "@jupyter-widgets/base",
      "model_module_version": "1.2.0",
      "model_name": "LayoutModel",
      "state": {}
     },
     "4b419ce88bb7490fa9d43d8d54f713bb": {
      "model_module": "@jupyter-widgets/controls",
      "model_module_version": "1.5.0",
      "model_name": "DescriptionStyleModel",
      "state": {
       "description_width": "initial"
      }
     },
     "4b4c4634b3264a3fa79a1b81f50cafc5": {
      "model_module": "@jupyter-widgets/base",
      "model_module_version": "1.2.0",
      "model_name": "LayoutModel",
      "state": {}
     },
     "4b92ae7d8e2f4557a8a017b0e25c4051": {
      "model_module": "@jupyter-widgets/controls",
      "model_module_version": "1.5.0",
      "model_name": "DescriptionStyleModel",
      "state": {
       "description_width": ""
      }
     },
     "4b9501830ee34bc4988b5a94cfa009c0": {
      "model_module": "@jupyter-widgets/controls",
      "model_module_version": "1.5.0",
      "model_name": "DropdownModel",
      "state": {
       "_options_labels": [
        "",
        "Data_TEM_pseudo3DEPSG_4326",
        "Iso_Iteration_7_model_2_50e-03",
        "Iso_Iteration_7_model_1_00e-02",
        "Iso_Iteration_7_model_1_50e-02",
        "Iso_Iteration_7_model_2_00e-02",
        "Iso_Iteration_7_model_2_00e-02",
        "Iso_Iteration_7_model_5_00e-03",
        "Iso_Iteration_7_model_2_50e-03",
        "Iso_Iteration_7_model_1_50e-02",
        "Iso_Iteration_7_model_1_00e-02",
        "Iso_Iteration_7_model_5_00e-03",
        "fault_splay1",
        "fault_Cliff_Lake",
        "fault_Other_FlinFlon",
        "fault_Club_Lake_splay",
        "fault_Catherine_splay2",
        "fault_Birch_View",
        "fault_Dion_Lake",
        "fault_FlinFlon_splay",
        "fault_West_Mandy_Road",
        "fault_Channing",
        "fault_Ross_Lake",
        "fault_Louis_Hidden",
        "fault_Lake_View_thrust",
        "contact_Schist_Lake",
        "fault_Burley_Lake",
        "fault_Dion_Lake_splay",
        "fault_Green_Lake",
        "fault_FlinFlon",
        "fault_Catherine_splay1",
        "fault_East_Mandy_Road",
        "fault_Other_FlinFlon_South",
        "fault_Catherine_splay4",
        "contact_Stitt_Island",
        "fault_Club_Lake",
        "fault_Tailing_Pond",
        "35_Hidden_Reservoir_Hr5",
        "29_Hidden_Reservoir_Hr1a",
        "60_BlueLagoon_Fb2",
        "20_FlinFlon_Undivided_Int_Dykes_D2f",
        "04_Boundary_Intrusive_S4h",
        "53_Millrock_Rhyolite_Fm4b",
        "19_FlinFlon_Undivided_Int_Dykes_D2b",
        "18_FlinFlon_Undivided_Int_Dykes_777_D2b",
        "06_Phantom_Lake_Intrusive_S3a",
        "21_FlinFlon_Undivided_Int_Dykes_D3a",
        "43_Millrock_CHLSH_South",
        "56_Millrock_Basalt_Fm1ba",
        "17_FlinFlon_Undivided_Int_Dykes_D2",
        "32_Hidden_Reservoir_Hr1b_SW",
        "11_Missi_M3_NE",
        "13_Missi_M1",
        "07_Annabel_Granitoid_S1",
        "45_Millrock_Gabbro_South",
        "01_Late_Intrusive_S5b",
        "31_Hidden_Reservoir_Hr1c_SW",
        "52_Millrock_Rhyolite_Fm4_West_check",
        "55_Millrock_Basalt_Fm1bf",
        "34_Hidden_Reservoir_Hr2b",
        "03_Boundary_Intrusive_S4b",
        "42_Millrock_CHLSH_North",
        "26_Louis_L3",
        "23_FlinFlon_Undivided_Int_Felsic_D4g",
        "30_Hidden_Reservoir_Hr1b",
        "59_BlueLagoon_Fb3",
        "49_Millrock_MVR_Fm5d",
        "44_Millrock_Gabbro_North",
        "27_Hidden_Carlisle_Hc4",
        "22_FlinFlon_Undivided_Int_Felsic_D4e",
        "02_Boundary_Intrusive_S4a",
        "61_BlueLagoon_Fb1_NW",
        "05_Boundary_Intrusive_S4g",
        "39_Ore_Callinan",
        "38_Ore_Dan_Owens",
        "40_Ore_FlinFlon",
        "Inversion_VTEM_Model",
        "CDI_VTEM_model",
        "Data_FEM_pseudo3D",
        "geochem",
        "Inversion_DIGHEM_Model",
        "Topography",
        "Data_TEM_pseudo3D",
        "Data_ZTEM",
        "Mesh"
       ],
       "description": "Core hull extent:",
       "index": 78,
       "layout": "IPY_MODEL_5f1e576686a741f3803e8f7b7c6777f5",
       "style": "IPY_MODEL_c3f2a8fbdd014c9ab1e8b6af6225937f"
      }
     },
     "4bbe2d9ce22f4c6581b3ddb9442e1258": {
      "model_module": "@jupyter-widgets/controls",
      "model_module_version": "1.5.0",
      "model_name": "DescriptionStyleModel",
      "state": {
       "description_width": "initial"
      }
     },
     "4bca13ccfd3e4f5985e6f2f0cb94ea81": {
      "model_module": "@jupyter-widgets/controls",
      "model_module_version": "1.5.0",
      "model_name": "DescriptionStyleModel",
      "state": {
       "description_width": ""
      }
     },
     "4bd2ddf4eb7849f09e59a5a8184b29e0": {
      "model_module": "@jupyter-widgets/controls",
      "model_module_version": "1.5.0",
      "model_name": "VBoxModel",
      "state": {
       "children": [
        "IPY_MODEL_448035fee2f14a4d9389eb0b0efc9c66",
        "IPY_MODEL_2261cf9b057e497ab11c3577723fc7f4",
        "IPY_MODEL_f0b44f012634437eb728aac385071e0a",
        "IPY_MODEL_aa8baa638f8d4c27a6d9fecdf4bf5f4d",
        "IPY_MODEL_0bc5f01c98674a71ac40cbc78765a96c",
        "IPY_MODEL_8f879a56a5624af4a8b8304544750961",
        "IPY_MODEL_b62a048ae28f4930927518332f87107e",
        "IPY_MODEL_b7b859b3c6164077a45aa815aeaa1b20",
        "IPY_MODEL_62fa9b7e87e248f1a39ed6eb9de2a086",
        "IPY_MODEL_7829fc71a0b84531936d383f8059d3b4"
       ],
       "layout": "IPY_MODEL_ccf0fad6e2f44edebf5476882f0dc296"
      }
     },
     "4be9bca21eb241ab8c40decfe2e44878": {
      "model_module": "@jupyter-widgets/controls",
      "model_module_version": "1.5.0",
      "model_name": "ButtonStyleModel",
      "state": {}
     },
     "4bedc6986d7447fc9fd30595289afdf5": {
      "model_module": "@jupyter-widgets/controls",
      "model_module_version": "1.5.0",
      "model_name": "DescriptionStyleModel",
      "state": {
       "description_width": "initial"
      }
     },
     "4c0d2ec218634a7c9a2a22c957fdf64c": {
      "model_module": "@jupyter-widgets/controls",
      "model_module_version": "1.5.0",
      "model_name": "VBoxModel",
      "state": {
       "children": [
        "IPY_MODEL_4429397bc05c419495fbbb08bfcd07c1",
        "IPY_MODEL_dcbf80854f014d8ca5895fa13a495858",
        "IPY_MODEL_af06ed39840d4d2c9c28adcd18167b06"
       ],
       "layout": "IPY_MODEL_cc537603beba464c86c9c58472321373"
      }
     },
     "4c158401fc4a4cc88a99ae43ef094b71": {
      "model_module": "@jupyter-widgets/controls",
      "model_module_version": "1.5.0",
      "model_name": "DescriptionStyleModel",
      "state": {
       "description_width": "initial"
      }
     },
     "4c18aaae47054ebe8e28bdb3792d176a": {
      "model_module": "@jupyter-widgets/base",
      "model_module_version": "1.2.0",
      "model_name": "LayoutModel",
      "state": {}
     },
     "4c4ceb4e4b704947a74f053b92d55586": {
      "model_module": "@jupyter-widgets/controls",
      "model_module_version": "1.5.0",
      "model_name": "DescriptionStyleModel",
      "state": {
       "description_width": ""
      }
     },
     "4c50addcf299454f97b4c9f430b41644": {
      "model_module": "@jupyter-widgets/base",
      "model_module_version": "1.2.0",
      "model_name": "LayoutModel",
      "state": {
       "display": "none"
      }
     },
     "4c9f8349c3474b33ab75c5f5e66cafa2": {
      "model_module": "@jupyter-widgets/base",
      "model_module_version": "1.2.0",
      "model_name": "LayoutModel",
      "state": {}
     },
     "4cb54bccd87941f498f1219f16e1f612": {
      "model_module": "@jupyter-widgets/controls",
      "model_module_version": "1.5.0",
      "model_name": "DescriptionStyleModel",
      "state": {
       "description_width": "initial"
      }
     },
     "4cda7cff7e244804a494f2af983bf068": {
      "model_module": "@jupyter-widgets/base",
      "model_module_version": "1.2.0",
      "model_name": "LayoutModel",
      "state": {}
     },
     "4ce174e1aed64520bfba503ed8072cbb": {
      "model_module": "@jupyter-widgets/controls",
      "model_module_version": "1.5.0",
      "model_name": "DescriptionStyleModel",
      "state": {
       "description_width": "initial"
      }
     },
     "4ce8891aad7c49b0856fd308bd8b5833": {
      "model_module": "@jupyter-widgets/base",
      "model_module_version": "1.2.0",
      "model_name": "LayoutModel",
      "state": {}
     },
     "4cff4a0d6f5a4bf5bc82477969fe2430": {
      "model_module": "@jupyter-widgets/controls",
      "model_module_version": "1.5.0",
      "model_name": "DescriptionStyleModel",
      "state": {
       "description_width": "initial"
      }
     },
     "4d1615ef3fc3425aac650b21347d3937": {
      "model_module": "@jupyter-widgets/controls",
      "model_module_version": "1.5.0",
      "model_name": "DescriptionStyleModel",
      "state": {
       "description_width": "initial"
      }
     },
     "4d1f7f210af24be58d4cbe7ffccd83b3": {
      "model_module": "@jupyter-widgets/base",
      "model_module_version": "1.2.0",
      "model_name": "LayoutModel",
      "state": {}
     },
     "4d278ae95a0d4d978cfc0fe9cc616e91": {
      "model_module": "@jupyter-widgets/controls",
      "model_module_version": "1.5.0",
      "model_name": "FloatTextModel",
      "state": {
       "description": "Distance",
       "layout": "IPY_MODEL_9cef97dd828542ffb2c25076990955fa",
       "step": null,
       "style": "IPY_MODEL_e189f7a2c7ea41a2a6aa45bd4f383f66",
       "value": 1000
      }
     },
     "4d5199bc6c3a4e3fb658aa2d0463f71d": {
      "model_module": "@jupyter-widgets/base",
      "model_module_version": "1.2.0",
      "model_name": "LayoutModel",
      "state": {
       "border": "solid"
      }
     },
     "4d5d9d18f7514c7488a9a67e858b9631": {
      "model_module": "@jupyter-widgets/controls",
      "model_module_version": "1.5.0",
      "model_name": "DescriptionStyleModel",
      "state": {
       "description_width": ""
      }
     },
     "4d911b260e0843f38acab17ddcc4486e": {
      "model_module": "@jupyter-widgets/controls",
      "model_module_version": "1.5.0",
      "model_name": "ButtonStyleModel",
      "state": {}
     },
     "4d9b4ed2ccfe4536b7f3eba5b05fe005": {
      "model_module": "@jupyter-widgets/controls",
      "model_module_version": "1.5.0",
      "model_name": "FloatTextModel",
      "state": {
       "description": "Distance",
       "layout": "IPY_MODEL_23da491a6a574b17aa4902133a3c8fe8",
       "step": null,
       "style": "IPY_MODEL_cbc6cff0051746f98d084e7d9e726a02",
       "value": 1000
      }
     },
     "4da0b6b0bf474f41b875fb085cdf606d": {
      "model_module": "@jupyter-widgets/base",
      "model_module_version": "1.2.0",
      "model_name": "LayoutModel",
      "state": {}
     },
     "4da5db881ae6448caf019755d4299266": {
      "model_module": "@jupyter-widgets/controls",
      "model_module_version": "1.5.0",
      "model_name": "DescriptionStyleModel",
      "state": {
       "description_width": ""
      }
     },
     "4db139bfdb00437eb6b317d9b26e92d6": {
      "model_module": "@jupyter-widgets/controls",
      "model_module_version": "1.5.0",
      "model_name": "FloatTextModel",
      "state": {
       "description": "Vertical (m)",
       "layout": "IPY_MODEL_24c57fdb810642a9aaceb00a763f1f4b",
       "step": null,
       "style": "IPY_MODEL_26a2e2deb6ec44f6ab00db801f41d92c",
       "value": 1000
      }
     },
     "4dffa2a822014a5a8d65719a33cf6290": {
      "model_module": "@jupyter-widgets/base",
      "model_module_version": "1.2.0",
      "model_name": "LayoutModel",
      "state": {}
     },
     "4e25fd596b35486aae274d26900035de": {
      "model_module": "@jupyter-widgets/controls",
      "model_module_version": "1.5.0",
      "model_name": "ButtonStyleModel",
      "state": {}
     },
     "4e44943408bf4d61a6579c1eb783ed93": {
      "model_module": "@jupyter-widgets/controls",
      "model_module_version": "1.5.0",
      "model_name": "VBoxModel",
      "state": {
       "children": [
        "IPY_MODEL_c4251a2ce88b4b18a39bc5b3881b7819",
        "IPY_MODEL_072fa5a5f79f4f919cf05b68c0b3a02f",
        "IPY_MODEL_a7c45e6450674e91b2920ebbecc422fe"
       ],
       "layout": "IPY_MODEL_02f7e5c7b76d4bbfa3f91503fa1c085f"
      }
     },
     "4e46942b2e654ec59039c6e8aac9e13c": {
      "model_module": "@jupyter-widgets/controls",
      "model_module_version": "1.5.0",
      "model_name": "ButtonModel",
      "state": {
       "description": "Cancel",
       "layout": "IPY_MODEL_619e7a041e6043dc9d244b08e144f879",
       "style": "IPY_MODEL_63cdfe81777b4c05b95fe47774810977"
      }
     },
     "4e46d2a3850648cdad3792d317b819bf": {
      "model_module": "@jupyter-widgets/controls",
      "model_module_version": "1.5.0",
      "model_name": "DescriptionStyleModel",
      "state": {
       "description_width": "initial"
      }
     },
     "4e4ee93465194b888dd49afce266de7e": {
      "model_module": "@jupyter-widgets/controls",
      "model_module_version": "1.5.0",
      "model_name": "SelectModel",
      "state": {
       "_options_labels": [
        "..",
        "dask-worker-space",
        "images"
       ],
       "index": null,
       "layout": "IPY_MODEL_e5f7a6c71b2743c693adda276caf82b1",
       "rows": 8,
       "style": "IPY_MODEL_3bef5542ac5444448a3256ab20a9e87a"
      }
     },
     "4e5569aa8d6f4559abd84793412ee49b": {
      "model_module": "@jupyter-widgets/controls",
      "model_module_version": "1.5.0",
      "model_name": "VBoxModel",
      "state": {
       "children": [
        "IPY_MODEL_ac8c371f32a248e6896af5d10c0784c7",
        "IPY_MODEL_9e4d22932c1446aa8e53c21be4801c26"
       ],
       "layout": "IPY_MODEL_06547ac7273446fb9078e5aab93c040f"
      }
     },
     "4e9d014c4d5d4416b99dd920c467859c": {
      "model_module": "@jupyter-widgets/controls",
      "model_module_version": "1.5.0",
      "model_name": "DescriptionStyleModel",
      "state": {
       "description_width": "initial"
      }
     },
     "4eae5e868aa74ab08fe587065a311b79": {
      "model_module": "@jupyter-widgets/base",
      "model_module_version": "1.2.0",
      "model_name": "LayoutModel",
      "state": {}
     },
     "4ec3af01506c44b29429ed528c66896c": {
      "model_module": "@jupyter-widgets/controls",
      "model_module_version": "1.5.0",
      "model_name": "LabelModel",
      "state": {
       "layout": "IPY_MODEL_bb41b41f3f094a5181f9433ba1efa393",
       "style": "IPY_MODEL_85bf64d456e74dba903bcc1585fe9be2",
       "value": "Monitoring folder"
      }
     },
     "4ec8e1392b274a3e9bc9d9f83202bcf6": {
      "model_module": "@jupyter-widgets/controls",
      "model_module_version": "1.5.0",
      "model_name": "DropdownModel",
      "state": {
       "_options_labels": [
        "",
        "Ore/39_Ore_Callinan",
        "Ore/38_Ore_Dan_Owens",
        "Ore/40_Ore_FlinFlon",
        "Workspace/Inversion_VTEM_Model",
        "Workspace/CDI_VTEM_model",
        "Workspace/Data_FEM_pseudo3D",
        "Workspace/geochem",
        "Workspace/Inversion_DIGHEM_Model",
        "Workspace/Topography",
        "Workspace/Data_TEM_pseudo3D",
        "Workspace/Data_ZTEM",
        "Workspace/Mesh"
       ],
       "description": "Object",
       "index": 6,
       "layout": "IPY_MODEL_a6e0654e963e4b41a5593eaa73b756ab",
       "style": "IPY_MODEL_a97247263e964a0e814836a370b14df8"
      }
     },
     "4ed3dd98fd824e92be2b4e185a38eab9": {
      "model_module": "@jupyter-widgets/controls",
      "model_module_version": "1.5.0",
      "model_name": "ButtonStyleModel",
      "state": {}
     },
     "4ed62112aa0540468c5ec5b11e4a2685": {
      "model_module": "@jupyter-widgets/controls",
      "model_module_version": "1.5.0",
      "model_name": "DescriptionStyleModel",
      "state": {
       "description_width": "initial"
      }
     },
     "4eec1deee69d42ec8f81cd4709b275df": {
      "model_module": "@jupyter-widgets/base",
      "model_module_version": "1.2.0",
      "model_name": "LayoutModel",
      "state": {}
     },
     "4eec9e6528bd4c8483e0b39e918f07a0": {
      "model_module": "@jupyter-widgets/controls",
      "model_module_version": "1.5.0",
      "model_name": "LabelModel",
      "state": {
       "layout": "IPY_MODEL_83aa2066c4e74f6eb02cfe82f194894b",
       "style": "IPY_MODEL_5dd2ea9f1f9c46de97fbbfb987c85e99",
       "value": "Workspace"
      }
     },
     "4f0ebc63266340978b8c307d0c8b79f9": {
      "model_module": "@jupyter-widgets/controls",
      "model_module_version": "1.5.0",
      "model_name": "DescriptionStyleModel",
      "state": {
       "description_width": ""
      }
     },
     "4f28b85512674e25b37356f712823fe1": {
      "model_module": "@jupyter-widgets/base",
      "model_module_version": "1.2.0",
      "model_name": "LayoutModel",
      "state": {
       "display": "none",
       "min_width": "6em",
       "width": "6em"
      }
     },
     "4f7a5b32fd924232b97bfff60c40e851": {
      "model_module": "@jupyter-widgets/controls",
      "model_module_version": "1.5.0",
      "model_name": "DescriptionStyleModel",
      "state": {
       "description_width": ""
      }
     },
     "5006dbd4c43b4cb4a1e23c7f117fe7b0": {
      "model_module": "@jupyter-widgets/controls",
      "model_module_version": "1.5.0",
      "model_name": "VBoxModel",
      "state": {
       "children": [
        "IPY_MODEL_11bbe4b260724accb5901c06e4cae6af",
        "IPY_MODEL_2c3a8dfb71874259937f520f8f7a66d9",
        "IPY_MODEL_8e825443551c420db62efb51b3164783"
       ],
       "layout": "IPY_MODEL_578bdee24219426588913f1cf2f0434b"
      }
     },
     "500a76e135c24316b2538e702e937814": {
      "model_module": "@jupyter-widgets/base",
      "model_module_version": "1.2.0",
      "model_name": "LayoutModel",
      "state": {}
     },
     "5086260fc56948fea484330a079e87b1": {
      "model_module": "@jupyter-widgets/base",
      "model_module_version": "1.2.0",
      "model_name": "LayoutModel",
      "state": {
       "width": "auto"
      }
     },
     "5086b80969d6492f946374b3dd93d0df": {
      "model_module": "@jupyter-widgets/base",
      "model_module_version": "1.2.0",
      "model_name": "LayoutModel",
      "state": {}
     },
     "50a8c57cb59f4d5c94341a6725bbc31a": {
      "model_module": "@jupyter-widgets/controls",
      "model_module_version": "1.5.0",
      "model_name": "DescriptionStyleModel",
      "state": {
       "description_width": "initial"
      }
     },
     "50c14b8faaac4ebf9ccbd84edc53f9c6": {
      "model_module": "@jupyter-widgets/base",
      "model_module_version": "1.2.0",
      "model_name": "LayoutModel",
      "state": {}
     },
     "50c67818e28f4e7cb109365771e29a4a": {
      "model_module": "@jupyter-widgets/base",
      "model_module_version": "1.2.0",
      "model_name": "LayoutModel",
      "state": {}
     },
     "50d4030c70a44861820cb4fa00453729": {
      "model_module": "@jupyter-widgets/controls",
      "model_module_version": "1.5.0",
      "model_name": "DescriptionStyleModel",
      "state": {
       "description_width": "initial"
      }
     },
     "50e8698496144a2eb241fb060d3b326c": {
      "model_module": "@jupyter-widgets/base",
      "model_module_version": "1.2.0",
      "model_name": "LayoutModel",
      "state": {
       "border": "solid"
      }
     },
     "5108f75cefc144f7b8140064557623b3": {
      "model_module": "@jupyter-widgets/controls",
      "model_module_version": "1.5.0",
      "model_name": "ButtonStyleModel",
      "state": {}
     },
     "5111dd4f75c24fabb825e6ea1987e857": {
      "model_module": "@jupyter-widgets/controls",
      "model_module_version": "1.5.0",
      "model_name": "DescriptionStyleModel",
      "state": {
       "description_width": ""
      }
     },
     "517b1785893d44e3b78e4ea795464104": {
      "model_module": "@jupyter-widgets/base",
      "model_module_version": "1.2.0",
      "model_name": "LayoutModel",
      "state": {}
     },
     "5184b9002f3e423eabde53999d9f3a43": {
      "model_module": "@jupyter-widgets/controls",
      "model_module_version": "1.5.0",
      "model_name": "DescriptionStyleModel",
      "state": {
       "description_width": "initial"
      }
     },
     "51aea8df67bd4dc699eb5dc0264aaf27": {
      "model_module": "@jupyter-widgets/base",
      "model_module_version": "1.2.0",
      "model_name": "LayoutModel",
      "state": {}
     },
     "51c330067d6c4cbc92d2e5987e716102": {
      "model_module": "@jupyter-widgets/controls",
      "model_module_version": "1.5.0",
      "model_name": "HBoxModel",
      "state": {
       "children": [
        "IPY_MODEL_9512b0052fc34d0c8b61fe163e0ee65d",
        "IPY_MODEL_771196c0896b4b028451fbc403e20213",
        "IPY_MODEL_d70a0f088bf041118ba3c5c458d0e6fd"
       ],
       "layout": "IPY_MODEL_891b339992e741ce80d92bb15f44aff3"
      }
     },
     "51c3d478b9934de79f07ca2f6af46d6a": {
      "model_module": "@jupyter-widgets/controls",
      "model_module_version": "1.5.0",
      "model_name": "DropdownModel",
      "state": {
       "_options_labels": [
        "",
        "CoordinateTransformation/Data_TEM_pseudo3DEPSG_4326",
        "ISO/Iso_Iteration_7_model_2_00e-02",
        "ISO/Iso_Iteration_7_model_2_50e-03",
        "ISO/Iso_Iteration_7_model_5_00e-03",
        "ISO/Iso_Iteration_7_model_1_00e-02",
        "ISO/Iso_Iteration_7_model_1_50e-02",
        "Ore/39_Ore_Callinan",
        "Ore/38_Ore_Dan_Owens",
        "Ore/40_Ore_FlinFlon",
        "Workspace/Inversion_VTEM_Model",
        "Workspace/CDI_VTEM_model",
        "Workspace/Data_FEM_pseudo3D",
        "Workspace/geochem",
        "Workspace/Inversion_DIGHEM_Model",
        "Workspace/Topography",
        "Workspace/Data_TEM_pseudo3D",
        "Workspace/Data_ZTEM",
        "Workspace/Mesh"
       ],
       "description": "Core hull extent:",
       "index": 12,
       "layout": "IPY_MODEL_9ad8292d111d4db3bf941a1cca99e02f",
       "style": "IPY_MODEL_d96ec4c77e1247f98950d6a1a015cd75"
      }
     },
     "51cb7da03db04df18de14314278530be": {
      "model_module": "@jupyter-widgets/controls",
      "model_module_version": "1.5.0",
      "model_name": "DescriptionStyleModel",
      "state": {
       "description_width": "initial"
      }
     },
     "51d92854252f4a728f5940f23c7ccf8a": {
      "model_module": "@jupyter-widgets/base",
      "model_module_version": "1.2.0",
      "model_name": "LayoutModel",
      "state": {}
     },
     "51e42a5eae414c9a8df37666468a3893": {
      "model_module": "@jupyter-widgets/controls",
      "model_module_version": "1.5.0",
      "model_name": "LabelModel",
      "state": {
       "layout": "IPY_MODEL_8312255502e042f0a204f271bad93f8d",
       "style": "IPY_MODEL_c76c01f301a64ae4ba996e2a616cc246",
       "value": "Padding distance"
      }
     },
     "52081046b4dd455aa25c5e75c194b31e": {
      "model_module": "@jupyter-widgets/controls",
      "model_module_version": "1.5.0",
      "model_name": "ButtonStyleModel",
      "state": {}
     },
     "5209b0e204a24e9383c73a5e39e8c914": {
      "model_module": "@jupyter-widgets/controls",
      "model_module_version": "1.5.0",
      "model_name": "DescriptionStyleModel",
      "state": {
       "description_width": ""
      }
     },
     "521b668bec504afc81464fb76a746d32": {
      "model_module": "@jupyter-widgets/controls",
      "model_module_version": "1.5.0",
      "model_name": "DescriptionStyleModel",
      "state": {
       "description_width": "initial"
      }
     },
     "522da882ba0c413e88545a7ab620fa0f": {
      "model_module": "@jupyter-widgets/controls",
      "model_module_version": "1.5.0",
      "model_name": "ButtonModel",
      "state": {
       "description": "Select",
       "layout": "IPY_MODEL_f3ab9ef14beb4b2d96dba81b05e5f450",
       "style": "IPY_MODEL_f63e7ff83311446f864de603d2bb3e52"
      }
     },
     "523482f4d5ae41a2bdb1af7bf43bdc4f": {
      "model_module": "@jupyter-widgets/controls",
      "model_module_version": "1.5.0",
      "model_name": "VBoxModel",
      "state": {
       "children": [
        "IPY_MODEL_d74300e3f30543358b0e86d779d17183"
       ],
       "layout": "IPY_MODEL_0d7f38f015c2419da02d385b6a66239d"
      }
     },
     "523a4261f1af438796521f79aa9541f0": {
      "model_module": "@jupyter-widgets/controls",
      "model_module_version": "1.5.0",
      "model_name": "DescriptionStyleModel",
      "state": {
       "description_width": ""
      }
     },
     "5240af3294af444589beb59ef3a79238": {
      "model_module": "@jupyter-widgets/controls",
      "model_module_version": "1.5.0",
      "model_name": "DescriptionStyleModel",
      "state": {
       "description_width": "initial"
      }
     },
     "524712cabe1845a2a1189b26de4c5307": {
      "model_module": "@jupyter-widgets/controls",
      "model_module_version": "1.5.0",
      "model_name": "DescriptionStyleModel",
      "state": {
       "description_width": ""
      }
     },
     "5249ca2ce4ff43f984d28cb45d28f177": {
      "model_module": "@jupyter-widgets/controls",
      "model_module_version": "1.5.0",
      "model_name": "FloatTextModel",
      "state": {
       "description": "Vertical",
       "layout": "IPY_MODEL_b1271072f0174f34880647ee92f7930c",
       "step": null,
       "style": "IPY_MODEL_8b6c009e6b0d49178e572aec0da46c27",
       "value": 25
      }
     },
     "524c98c10f5f49768ca249c2ccbb36aa": {
      "model_module": "@jupyter-widgets/base",
      "model_module_version": "1.2.0",
      "model_name": "LayoutModel",
      "state": {}
     },
     "525286992a9c4eba91b9a4bd32b02f96": {
      "model_module": "@jupyter-widgets/controls",
      "model_module_version": "1.5.0",
      "model_name": "GridBoxModel",
      "state": {
       "children": [
        "IPY_MODEL_66fff87a005b47f287cec11c22ff8aaf",
        "IPY_MODEL_d7a9b4577bdd4434815610f4ee8c6197",
        "IPY_MODEL_31fa30e2b580491ca8ac6693e55a73ce"
       ],
       "layout": "IPY_MODEL_420e83368d02450abbb9b37f7bcbebd6"
      }
     },
     "52535b11cf614cbdad56d3000ead0c09": {
      "model_module": "@jupyter-widgets/controls",
      "model_module_version": "1.5.0",
      "model_name": "GridBoxModel",
      "state": {
       "children": [
        "IPY_MODEL_5f5b7f14765d484792c0e7204b1f879d",
        "IPY_MODEL_8d26a28c39bd45d28a58fbf5ed0aecad",
        "IPY_MODEL_4ac97f6306ac497f84fe6cecc8d0ad4b"
       ],
       "layout": "IPY_MODEL_775d57196d734fbd92126c781f6de9bb"
      }
     },
     "525e5dc569344ac296204d8ed6b7a47c": {
      "model_module": "@jupyter-widgets/base",
      "model_module_version": "1.2.0",
      "model_name": "LayoutModel",
      "state": {
       "width": "auto"
      }
     },
     "525f265374c44e488b410bef22efc521": {
      "model_module": "@jupyter-widgets/base",
      "model_module_version": "1.2.0",
      "model_name": "LayoutModel",
      "state": {}
     },
     "52601808c8a847f18f9579cc2c7d057e": {
      "model_module": "@jupyter-widgets/controls",
      "model_module_version": "1.5.0",
      "model_name": "CheckboxModel",
      "state": {
       "description": "Geoscience ANALYST Pro - Live link",
       "disabled": false,
       "indent": false,
       "layout": "IPY_MODEL_2d76452d652a45db9457b034b6615d35",
       "style": "IPY_MODEL_eeb02e1aca304fa3a3b713e398dd132a",
       "value": false
      }
     },
     "527cd61d52de4e02b4c4017ae9ff2ce0": {
      "model_module": "@jupyter-widgets/controls",
      "model_module_version": "1.5.0",
      "model_name": "DescriptionStyleModel",
      "state": {
       "description_width": ""
      }
     },
     "52a8bffc59f7419884a5123570adce3a": {
      "model_module": "@jupyter-widgets/base",
      "model_module_version": "1.2.0",
      "model_name": "LayoutModel",
      "state": {}
     },
     "52ad4d2c9d1f4f3e93dceed95790795f": {
      "model_module": "@jupyter-widgets/controls",
      "model_module_version": "1.5.0",
      "model_name": "ButtonStyleModel",
      "state": {}
     },
     "52b4687fedf946f5b519e1dc988fa45d": {
      "model_module": "@jupyter-widgets/controls",
      "model_module_version": "1.5.0",
      "model_name": "CheckboxModel",
      "state": {
       "description": "Geoscience ANALYST Pro - Live link",
       "disabled": false,
       "indent": false,
       "layout": "IPY_MODEL_569c0d0108bd49d88de473416e9d226e",
       "style": "IPY_MODEL_fc3ae2b61a1a432793bc03a5d3fca695",
       "value": false
      }
     },
     "52baa052fa664d3c892b6f22599e8bf2": {
      "model_module": "@jupyter-widgets/controls",
      "model_module_version": "1.5.0",
      "model_name": "DescriptionStyleModel",
      "state": {
       "description_width": "initial"
      }
     },
     "52baf4613f404919ab995abcb269f2c4": {
      "model_module": "@jupyter-widgets/controls",
      "model_module_version": "1.5.0",
      "model_name": "FloatTextModel",
      "state": {
       "description": "Easting",
       "layout": "IPY_MODEL_6c332cf4c22b457e810a782ad21485d8",
       "step": null,
       "style": "IPY_MODEL_349f8fbfec57484ca908c9aa6d97f513",
       "value": 25
      }
     },
     "52bf68845b1a48ecaa7fc845b0bc8e4a": {
      "model_module": "@jupyter-widgets/controls",
      "model_module_version": "1.5.0",
      "model_name": "DescriptionStyleModel",
      "state": {
       "description_width": ""
      }
     },
     "52e6252611f74d0d9db7aee21e2158c2": {
      "model_module": "@jupyter-widgets/controls",
      "model_module_version": "1.5.0",
      "model_name": "DescriptionStyleModel",
      "state": {
       "description_width": ""
      }
     },
     "52ea2d88e0e04bd990db5f297c2f8859": {
      "model_module": "@jupyter-widgets/controls",
      "model_module_version": "1.5.0",
      "model_name": "DescriptionStyleModel",
      "state": {
       "description_width": ""
      }
     },
     "52ec835271c1433b8915e37ce19af9e5": {
      "model_module": "@jupyter-widgets/controls",
      "model_module_version": "1.5.0",
      "model_name": "ButtonModel",
      "state": {
       "description": "Cancel",
       "layout": "IPY_MODEL_97a01364967e44a3a6fdad4486618bbe",
       "style": "IPY_MODEL_adf7fb4915034195aee290c03414472b"
      }
     },
     "52eccf98bdc94d0aa2fb8ed9ff2878f0": {
      "model_module": "@jupyter-widgets/controls",
      "model_module_version": "1.5.0",
      "model_name": "DescriptionStyleModel",
      "state": {
       "description_width": "initial"
      }
     },
     "52f230c345044f7ba50229804b8f38b1": {
      "model_module": "@jupyter-widgets/controls",
      "model_module_version": "1.5.0",
      "model_name": "SelectModel",
      "state": {
       "_options_labels": [
        "📁 ..",
        "📁 SimPEG_PFInversion",
        "📁 Temp",
        "📁 dask-worker-space",
        "DC_INV.ipynb",
        "DC_INV.py",
        "FlinFlon.geoh5",
        "FlinFlon_dcip.geoh5",
        "HelloWorld.ui.json",
        "MtDore_TMI.geoh5",
        "VTEM_model.mod",
        "input.ui.json",
        "options_tree.json"
       ],
       "index": 6,
       "layout": "IPY_MODEL_48bf0d2ebd9644448cbc6a494f29fde4",
       "rows": 8,
       "style": "IPY_MODEL_6711e6aeb7a646c8a1a478058e145882"
      }
     },
     "52ffc355067142bdacba0484bb7c9131": {
      "model_module": "@jupyter-widgets/controls",
      "model_module_version": "1.5.0",
      "model_name": "DescriptionStyleModel",
      "state": {
       "description_width": ""
      }
     },
     "530a6a20407046069a29093670894d47": {
      "model_module": "@jupyter-widgets/controls",
      "model_module_version": "1.5.0",
      "model_name": "DescriptionStyleModel",
      "state": {
       "description_width": ""
      }
     },
     "530cad20798242af96b35902b23e760e": {
      "model_module": "@jupyter-widgets/base",
      "model_module_version": "1.2.0",
      "model_name": "LayoutModel",
      "state": {
       "display": "none",
       "grid_gap": "0px 0px",
       "grid_template_areas": "\n                    'pathlist filename'\n                    'dircontent dircontent'\n                    ",
       "grid_template_columns": "60% 40%",
       "grid_template_rows": "auto auto",
       "width": "auto"
      }
     },
     "53348eb8431f4ca79bf18de1d3d5ed05": {
      "model_module": "@jupyter-widgets/controls",
      "model_module_version": "1.5.0",
      "model_name": "DescriptionStyleModel",
      "state": {
       "description_width": "initial"
      }
     },
     "534d23f7252b49b1bfbcc03476f653c5": {
      "model_module": "@jupyter-widgets/controls",
      "model_module_version": "1.5.0",
      "model_name": "DescriptionStyleModel",
      "state": {
       "description_width": "initial"
      }
     },
     "53856b1181ad429eb83857322ec98f3d": {
      "model_module": "@jupyter-widgets/controls",
      "model_module_version": "1.5.0",
      "model_name": "DropdownModel",
      "state": {
       "_options_labels": [
        "C:\\Users\\dominiquef\\Documents\\GIT\\mira\\geoapps\\assets",
        "C:\\Users\\dominiquef\\Documents\\GIT\\mira\\geoapps",
        "C:\\Users\\dominiquef\\Documents\\GIT\\mira",
        "C:\\Users\\dominiquef\\Documents\\GIT",
        "C:\\Users\\dominiquef\\Documents",
        "C:\\Users\\dominiquef",
        "C:\\Users",
        "C:\\",
        "D:\\",
        "\\\\EgnyteDrive\\mirageoscience\\",
        "G:\\"
       ],
       "index": 0,
       "layout": "IPY_MODEL_a343382703f74f96b4592170813b8ea7",
       "style": "IPY_MODEL_7fe0bddceb2848b7bb2d0e1070f01cc3"
      }
     },
     "538dee2bcbc34b7f9f9b6730a8923887": {
      "model_module": "@jupyter-widgets/controls",
      "model_module_version": "1.5.0",
      "model_name": "DescriptionStyleModel",
      "state": {
       "description_width": ""
      }
     },
     "53943558bc2246cdb8fd1f2e4f5e1bf0": {
      "model_module": "@jupyter-widgets/controls",
      "model_module_version": "1.5.0",
      "model_name": "ToggleButtonModel",
      "state": {
       "layout": "IPY_MODEL_19d8491c714b44dc94042a0de541ecdd",
       "style": "IPY_MODEL_11170fd63aa64f3ab8c53624ce57d40b"
      }
     },
     "5394497f77cd46d9882c9873466c1989": {
      "model_module": "@jupyter-widgets/controls",
      "model_module_version": "1.5.0",
      "model_name": "HBoxModel",
      "state": {
       "children": [
        "IPY_MODEL_18bdd42396ee44ee84428ea87f4afdbc",
        "IPY_MODEL_81f67db7714446a3a0e2ae2f7782dcb2",
        "IPY_MODEL_ae9d5d4cc7684548bb57e73f34695e54"
       ],
       "layout": "IPY_MODEL_a301f1477e5244c98b8fedaf986bb775"
      }
     },
     "5394ec5157084eee8265283d5c9af8d2": {
      "model_module": "@jupyter-widgets/base",
      "model_module_version": "1.2.0",
      "model_name": "LayoutModel",
      "state": {}
     },
     "53b1cf4c08c54896bec8e254bf34d376": {
      "model_module": "@jupyter-widgets/controls",
      "model_module_version": "1.5.0",
      "model_name": "VBoxModel",
      "state": {
       "children": [
        "IPY_MODEL_b697ca189d824557aeb2681776785799",
        "IPY_MODEL_36354018db6a4943b648711c7d9f7fe7",
        "IPY_MODEL_42973911d52f4abc962d273913b72e9f",
        "IPY_MODEL_1dc32b24461542d7a73c0105d82328f1",
        "IPY_MODEL_62f9e9f817094c059e0ed38ebf50db6a",
        "IPY_MODEL_b9dfdc39529c4d6d87dc48d08091eebd",
        "IPY_MODEL_44412b73c434433cacb7bf3467b630eb",
        "IPY_MODEL_3ccdd33920ee4cd89f96296aaea2e956",
        "IPY_MODEL_a1522ebd5e0e428fbd86ad9b834972f5",
        "IPY_MODEL_d68984f7e69b4084ad08f46f69eaeda2"
       ],
       "layout": "IPY_MODEL_1ae09ff6611845e8bbed147dd1800232"
      }
     },
     "53d318fc03e54ad0ab6fdd25fc76c0d2": {
      "model_module": "@jupyter-widgets/controls",
      "model_module_version": "1.5.0",
      "model_name": "DescriptionStyleModel",
      "state": {
       "description_width": "initial"
      }
     },
     "53f6279768c647108bf7cbb810794661": {
      "model_module": "@jupyter-widgets/controls",
      "model_module_version": "1.5.0",
      "model_name": "VBoxModel",
      "state": {
       "children": [
        "IPY_MODEL_424b5063559a4e5283103437a0ac050d",
        "IPY_MODEL_23464d15c4e34f20a29d0f6b74e555ad",
        "IPY_MODEL_616fa18436af4e0a982cc5bad4116858",
        "IPY_MODEL_2c3ada78e189439cb440534b3a30fcd2",
        "IPY_MODEL_9c74346a54a34069a1d8d0c68a2739cc"
       ],
       "layout": "IPY_MODEL_cafc9c48cf944311bfbbebdb05cff69b"
      }
     },
     "544a53eac2e74b008b6e431206988120": {
      "model_module": "@jupyter-widgets/base",
      "model_module_version": "1.2.0",
      "model_name": "LayoutModel",
      "state": {
       "display": "none",
       "grid_area": "filename",
       "width": "auto"
      }
     },
     "54636082256a4557be33a94cbfde772c": {
      "model_module": "@jupyter-widgets/base",
      "model_module_version": "1.2.0",
      "model_name": "LayoutModel",
      "state": {}
     },
     "54731ef881d7439b8c6f213b49b15dce": {
      "model_module": "@jupyter-widgets/base",
      "model_module_version": "1.2.0",
      "model_name": "LayoutModel",
      "state": {
       "min_width": "6em",
       "width": "6em"
      }
     },
     "54882ffb0be240fb8bbe733718b68671": {
      "model_module": "@jupyter-widgets/controls",
      "model_module_version": "1.5.0",
      "model_name": "DescriptionStyleModel",
      "state": {
       "description_width": ""
      }
     },
     "548858df69c1499cbb98ee2e118a2d7a": {
      "model_module": "@jupyter-widgets/base",
      "model_module_version": "1.2.0",
      "model_name": "LayoutModel",
      "state": {}
     },
     "5498dc7b7a904c9a919e921f9dfd9e01": {
      "model_module": "@jupyter-widgets/base",
      "model_module_version": "1.2.0",
      "model_name": "LayoutModel",
      "state": {}
     },
     "54bc0d2c4f914e3191dcf8dc699cdf32": {
      "model_module": "@jupyter-widgets/controls",
      "model_module_version": "1.5.0",
      "model_name": "DescriptionStyleModel",
      "state": {
       "description_width": "initial"
      }
     },
     "54cc8b03439e49ca901e225ab097eb04": {
      "model_module": "@jupyter-widgets/controls",
      "model_module_version": "1.5.0",
      "model_name": "GridBoxModel",
      "state": {
       "children": [
        "IPY_MODEL_13e9f79dd1bf443eb287e9341e15fe1d",
        "IPY_MODEL_86b04be854d14c38be33196c5629a804",
        "IPY_MODEL_97434400a8a84abe9318a8b6d67b7841"
       ],
       "layout": "IPY_MODEL_ab1df8199d0b4217bbbf5919672a9b7e"
      }
     },
     "554ed0290ccc416aa313dc0f74be5563": {
      "model_module": "@jupyter-widgets/controls",
      "model_module_version": "1.5.0",
      "model_name": "DescriptionStyleModel",
      "state": {
       "description_width": "initial"
      }
     },
     "55930795934943d38ebc3208dfa537cd": {
      "model_module": "@jupyter-widgets/controls",
      "model_module_version": "1.5.0",
      "model_name": "DescriptionStyleModel",
      "state": {
       "description_width": "initial"
      }
     },
     "559af9c6acc0418e8e8d2f760a9e6679": {
      "model_module": "@jupyter-widgets/base",
      "model_module_version": "1.2.0",
      "model_name": "LayoutModel",
      "state": {
       "width": "auto"
      }
     },
     "55f05fe7a95446beaa497feba31f41ee": {
      "model_module": "@jupyter-widgets/controls",
      "model_module_version": "1.5.0",
      "model_name": "DescriptionStyleModel",
      "state": {
       "description_width": ""
      }
     },
     "55f9884864a04cd9bfc2370068461bd1": {
      "model_module": "@jupyter-widgets/controls",
      "model_module_version": "1.5.0",
      "model_name": "DescriptionStyleModel",
      "state": {
       "description_width": "initial"
      }
     },
     "56177a59c887454fbcd04aebbca3e0c3": {
      "model_module": "@jupyter-widgets/base",
      "model_module_version": "1.2.0",
      "model_name": "LayoutModel",
      "state": {
       "display": "none",
       "grid_gap": "0px 0px",
       "grid_template_areas": "\n                    'pathlist filename'\n                    'dircontent dircontent'\n                    ",
       "grid_template_columns": "60% 40%",
       "grid_template_rows": "auto auto",
       "width": "500px"
      }
     },
     "562d1deec52240c884c04ea7c53b194e": {
      "model_module": "@jupyter-widgets/base",
      "model_module_version": "1.2.0",
      "model_name": "LayoutModel",
      "state": {}
     },
     "563d0a6cd0844bed83a96e822eeb569e": {
      "model_module": "@jupyter-widgets/controls",
      "model_module_version": "1.5.0",
      "model_name": "DescriptionStyleModel",
      "state": {
       "description_width": ""
      }
     },
     "563da30d77084868b7d8d1ceb901cdac": {
      "model_module": "@jupyter-widgets/controls",
      "model_module_version": "1.5.0",
      "model_name": "HTMLModel",
      "state": {
       "layout": "IPY_MODEL_dd57b26426cb4f02be1d27b3789d6e37",
       "style": "IPY_MODEL_927be5f58c9248ff89ead77f098edee5"
      }
     },
     "56410fa8f2194879bcd792e8e7ef3428": {
      "model_module": "@jupyter-widgets/controls",
      "model_module_version": "1.5.0",
      "model_name": "ToggleButtonModel",
      "state": {
       "layout": "IPY_MODEL_086790b3596d47cabcbf6d47f513d95a",
       "style": "IPY_MODEL_e4a4327df065484f9c4b197103283fee"
      }
     },
     "56499be88a7c4e0a85c72ae703bd23f3": {
      "model_module": "@jupyter-widgets/base",
      "model_module_version": "1.2.0",
      "model_name": "LayoutModel",
      "state": {}
     },
     "5679c9673a9447bdae9662f5fc6a6465": {
      "model_module": "@jupyter-widgets/controls",
      "model_module_version": "1.5.0",
      "model_name": "ButtonStyleModel",
      "state": {}
     },
     "568a4ff68c454e71a187c88d3b1a1a5b": {
      "model_module": "@jupyter-widgets/controls",
      "model_module_version": "1.5.0",
      "model_name": "DropdownModel",
      "state": {
       "_options_labels": [
        "surface",
        "radial"
       ],
       "description": "Type",
       "index": 1,
       "layout": "IPY_MODEL_63998eaec2c342c0bc74c35cac7844f7",
       "style": "IPY_MODEL_c2012b20991e4f25b956e00ff53a43ab"
      }
     },
     "568d616bda3247e49d99da972a7c3b23": {
      "model_module": "@jupyter-widgets/controls",
      "model_module_version": "1.5.0",
      "model_name": "DescriptionStyleModel",
      "state": {
       "description_width": "initial"
      }
     },
     "56908ba9b25744c1800988345fdf0e27": {
      "model_module": "@jupyter-widgets/controls",
      "model_module_version": "1.5.0",
      "model_name": "ToggleButtonModel",
      "state": {
       "layout": "IPY_MODEL_1a133f886abb4e9896a9039f0ef0a804",
       "style": "IPY_MODEL_86ae4c46f9ee4069b47a84a0cc6ee7ba"
      }
     },
     "569c0d0108bd49d88de473416e9d226e": {
      "model_module": "@jupyter-widgets/base",
      "model_module_version": "1.2.0",
      "model_name": "LayoutModel",
      "state": {}
     },
     "56b6e2053a494f019f6211d46944e782": {
      "model_module": "@jupyter-widgets/controls",
      "model_module_version": "1.5.0",
      "model_name": "ToggleButtonModel",
      "state": {
       "layout": "IPY_MODEL_1b1979ee91854ad2a9b008957bae88de",
       "style": "IPY_MODEL_1f30534056314bebbcdd6ac549f2c9a9"
      }
     },
     "56d255c6495b422e8cd8eab204ffccd6": {
      "model_module": "@jupyter-widgets/base",
      "model_module_version": "1.2.0",
      "model_name": "LayoutModel",
      "state": {
       "border": "solid"
      }
     },
     "56dbd222d7014d5295ce35e2f6f42615": {
      "model_module": "@jupyter-widgets/controls",
      "model_module_version": "1.5.0",
      "model_name": "DescriptionStyleModel",
      "state": {
       "description_width": "initial"
      }
     },
     "56fa8be5490c4e879cd51a9a221c6eab": {
      "model_module": "@jupyter-widgets/controls",
      "model_module_version": "1.5.0",
      "model_name": "DescriptionStyleModel",
      "state": {
       "description_width": ""
      }
     },
     "56fdc1c25af3450186f5e91d1e5934fa": {
      "model_module": "@jupyter-widgets/controls",
      "model_module_version": "1.5.0",
      "model_name": "DescriptionStyleModel",
      "state": {
       "description_width": "initial"
      }
     },
     "56ff5265ac92411fa3db88d2db50d84b": {
      "model_module": "@jupyter-widgets/base",
      "model_module_version": "1.2.0",
      "model_name": "LayoutModel",
      "state": {}
     },
     "5705aff5cf5d4e02a60fe0674baaee77": {
      "model_module": "@jupyter-widgets/controls",
      "model_module_version": "1.5.0",
      "model_name": "ButtonStyleModel",
      "state": {}
     },
     "5706392197f24166bf5ea63ad30565b5": {
      "model_module": "@jupyter-widgets/controls",
      "model_module_version": "1.5.0",
      "model_name": "SelectModel",
      "state": {
       "_options_labels": [
        "📁 ..",
        "📁 SimPEG_PFInversion"
       ],
       "index": null,
       "layout": "IPY_MODEL_bbab74074451401b97eea53438b9baf1",
       "rows": 8,
       "style": "IPY_MODEL_5e7f51784c73487f90fdca6c84cdbcbe"
      }
     },
     "570a60758f1442fa97de2ffc4dd14149": {
      "model_module": "@jupyter-widgets/controls",
      "model_module_version": "1.5.0",
      "model_name": "DescriptionStyleModel",
      "state": {
       "description_width": "initial"
      }
     },
     "57454493dd584333b6e21a4e48f568ad": {
      "model_module": "@jupyter-widgets/controls",
      "model_module_version": "1.5.0",
      "model_name": "DropdownModel",
      "state": {
       "_options_labels": [
        "C:\\Users\\dominiquef\\Documents\\GIT\\mira\\geoapps\\assets",
        "C:\\Users\\dominiquef\\Documents\\GIT\\mira\\geoapps",
        "C:\\Users\\dominiquef\\Documents\\GIT\\mira",
        "C:\\Users\\dominiquef\\Documents\\GIT",
        "C:\\Users\\dominiquef\\Documents",
        "C:\\Users\\dominiquef",
        "C:\\Users",
        "C:\\",
        "D:\\",
        "G:\\",
        "\\\\EgnyteDrive\\mirageoscience\\"
       ],
       "index": 0,
       "layout": "IPY_MODEL_a5b67adfebe343b2b3fd807ed734bbcb",
       "style": "IPY_MODEL_81270a0a27044ee5b6dae11f4aee79c3"
      }
     },
     "575f3e9fc8834c5eb127e22d94d2e8b6": {
      "model_module": "@jupyter-widgets/controls",
      "model_module_version": "1.5.0",
      "model_name": "DescriptionStyleModel",
      "state": {
       "description_width": ""
      }
     },
     "578bdee24219426588913f1cf2f0434b": {
      "model_module": "@jupyter-widgets/base",
      "model_module_version": "1.2.0",
      "model_name": "LayoutModel",
      "state": {
       "width": "500px"
      }
     },
     "579da6a193934150aab175c8e9f6f714": {
      "model_module": "@jupyter-widgets/base",
      "model_module_version": "1.2.0",
      "model_name": "LayoutModel",
      "state": {
       "display": "none",
       "width": "auto"
      }
     },
     "57b86818dd2b4476a21d333aa294031b": {
      "model_module": "@jupyter-widgets/controls",
      "model_module_version": "1.5.0",
      "model_name": "ButtonStyleModel",
      "state": {}
     },
     "57c6571c75e54eddb878b7eb6d74797b": {
      "model_module": "@jupyter-widgets/base",
      "model_module_version": "1.2.0",
      "model_name": "LayoutModel",
      "state": {
       "grid_area": "filename",
       "width": "auto"
      }
     },
     "57d4c5dc9e734f18984c9c77487675c7": {
      "model_module": "@jupyter-widgets/base",
      "model_module_version": "1.2.0",
      "model_name": "LayoutModel",
      "state": {
       "display": "none",
       "width": "auto"
      }
     },
     "57dbd79228034729856be9bbc371bf3e": {
      "model_module": "@jupyter-widgets/controls",
      "model_module_version": "1.5.0",
      "model_name": "ButtonModel",
      "state": {
       "description": "Create copy:",
       "layout": "IPY_MODEL_fc53c65f87894bc7a3a09fb33ff584e9",
       "style": "IPY_MODEL_398c0608c901453ca146d1485e7bc629"
      }
     },
     "580a90c51f324417b9cb769c2a63e3fd": {
      "model_module": "@jupyter-widgets/controls",
      "model_module_version": "1.5.0",
      "model_name": "FloatTextModel",
      "state": {
       "description": "Horizontal (m)",
       "layout": "IPY_MODEL_475d99e0fc594a8bb1e6aed40adbfa43",
       "step": null,
       "style": "IPY_MODEL_d162734d38c54b47bb81af10625ec9fa",
       "value": 1000
      }
     },
     "5813160a186845dbab125e7204faef97": {
      "model_module": "@jupyter-widgets/controls",
      "model_module_version": "1.5.0",
      "model_name": "VBoxModel",
      "state": {
       "children": [
        "IPY_MODEL_65b5a7c60aa94c92b81c3bd35a8748d7",
        "IPY_MODEL_b84c99a6a6544254bce56c458bad80dc"
       ],
       "layout": "IPY_MODEL_840ad6de15c040c2bba413d5a1a8d219"
      }
     },
     "582345a9540a47a29472e3161ef25754": {
      "model_module": "@jupyter-widgets/controls",
      "model_module_version": "1.5.0",
      "model_name": "DescriptionStyleModel",
      "state": {
       "description_width": ""
      }
     },
     "582702e0271b4660a205b0749279a45b": {
      "model_module": "@jupyter-widgets/base",
      "model_module_version": "1.2.0",
      "model_name": "LayoutModel",
      "state": {}
     },
     "587a6ba8aff647fea76edd3c40eeaa01": {
      "model_module": "@jupyter-widgets/controls",
      "model_module_version": "1.5.0",
      "model_name": "DescriptionStyleModel",
      "state": {
       "description_width": "initial"
      }
     },
     "5882c99c93fa4e8a93de903282430538": {
      "model_module": "@jupyter-widgets/controls",
      "model_module_version": "1.5.0",
      "model_name": "DescriptionStyleModel",
      "state": {
       "description_width": "initial"
      }
     },
     "58cd8f1d4d9b499db178c240ed08a04a": {
      "model_module": "@jupyter-widgets/controls",
      "model_module_version": "1.5.0",
      "model_name": "VBoxModel",
      "state": {
       "children": [
        "IPY_MODEL_34a1eb89902c47fbb275898424e9886c",
        "IPY_MODEL_d6ad09d8ff17477da5993cc95460772d",
        "IPY_MODEL_8fc48764dee8405f9bf550ae88fbeafb"
       ],
       "layout": "IPY_MODEL_78f5f40dbaf74481a0596a7376b9642b"
      }
     },
     "58eedcc96e4f4310883de74e77b69695": {
      "model_module": "@jupyter-widgets/base",
      "model_module_version": "1.2.0",
      "model_name": "LayoutModel",
      "state": {
       "grid_area": "filename",
       "width": "auto"
      }
     },
     "58ff80da7ac1413aa3b9ac1f2fc7a266": {
      "model_module": "@jupyter-widgets/controls",
      "model_module_version": "1.5.0",
      "model_name": "CheckboxModel",
      "state": {
       "description": "Geoscience ANALYST Pro - Live link",
       "disabled": false,
       "indent": false,
       "layout": "IPY_MODEL_1ec684a55dde443b9dc12469ad0db713",
       "style": "IPY_MODEL_e9ffe959b5a24e61832aacb77e72fdd4",
       "value": false
      }
     },
     "592ace7e5dd645a988eeadbf1a643257": {
      "model_module": "@jupyter-widgets/controls",
      "model_module_version": "1.5.0",
      "model_name": "BoxModel",
      "state": {
       "children": [
        "IPY_MODEL_28172670f5ba420f91aac0e216e825ab"
       ],
       "layout": "IPY_MODEL_c31c07f25afc4cd6b0298f0ca6072d15"
      }
     },
     "597243b44cf24db2a774a867bc3ecc6e": {
      "model_module": "@jupyter-widgets/controls",
      "model_module_version": "1.5.0",
      "model_name": "DescriptionStyleModel",
      "state": {
       "description_width": "initial"
      }
     },
     "5973947e3005451c936a587331abf4b3": {
      "model_module": "@jupyter-widgets/controls",
      "model_module_version": "1.5.0",
      "model_name": "FloatTextModel",
      "state": {
       "description": "Easting",
       "layout": "IPY_MODEL_790c60e35b554919934500caf228372a",
       "step": null,
       "style": "IPY_MODEL_68b011cf95e548ffa998458019f9527d",
       "value": 25
      }
     },
     "5991bfc213704e80b16c2d909a1c70a9": {
      "model_module": "@jupyter-widgets/base",
      "model_module_version": "1.2.0",
      "model_name": "LayoutModel",
      "state": {}
     },
     "59a4a155554c421891b1ac0dc8e13ef5": {
      "model_module": "@jupyter-widgets/controls",
      "model_module_version": "1.5.0",
      "model_name": "LabelModel",
      "state": {
       "layout": "IPY_MODEL_611236dd0b2b40118d73ebceea3adae9",
       "style": "IPY_MODEL_7d908c45c39e4127aef9af2154ad1359",
       "value": "Refinement a "
      }
     },
     "59caf06f4d4046fe8cec4230b8e615b2": {
      "model_module": "@jupyter-widgets/controls",
      "model_module_version": "1.5.0",
      "model_name": "TextModel",
      "state": {
       "description": "Levels",
       "layout": "IPY_MODEL_c0c1f7f47438477b99ab838fa1213485",
       "style": "IPY_MODEL_bbf892c0a3ab4f7cb5edcfd19b47a7f6",
       "value": "0.0, 0.0, 2.0"
      }
     },
     "59fc727fd1dc483283b0b09c5b5eb712": {
      "model_module": "@jupyter-widgets/controls",
      "model_module_version": "1.5.0",
      "model_name": "DescriptionStyleModel",
      "state": {
       "description_width": "initial"
      }
     },
     "5a1d1244a0564320b1f4094231a3ce6b": {
      "model_module": "@jupyter-widgets/controls",
      "model_module_version": "1.5.0",
      "model_name": "DescriptionStyleModel",
      "state": {
       "description_width": ""
      }
     },
     "5a43f4dfc77f4a0db830b5ff8efd2315": {
      "model_module": "@jupyter-widgets/controls",
      "model_module_version": "1.5.0",
      "model_name": "DropdownModel",
      "state": {
       "_options_labels": [
        "C:\\Users\\dominiquef\\Documents\\GIT\\mira\\geoapps\\assets",
        "C:\\Users\\dominiquef\\Documents\\GIT\\mira\\geoapps",
        "C:\\Users\\dominiquef\\Documents\\GIT\\mira",
        "C:\\Users\\dominiquef\\Documents\\GIT",
        "C:\\Users\\dominiquef\\Documents",
        "C:\\Users\\dominiquef",
        "C:\\Users",
        "C:\\",
        "D:\\",
        "Z:\\"
       ],
       "index": 0,
       "layout": "IPY_MODEL_fa7e6c87d7c743a89d0b8cb2a9036622",
       "style": "IPY_MODEL_92ffb379c0c64c03af2fec4497aa5195"
      }
     },
     "5a49f769ee49438a9a54e6efc76a9870": {
      "model_module": "@jupyter-widgets/base",
      "model_module_version": "1.2.0",
      "model_name": "LayoutModel",
      "state": {}
     },
     "5a5dd272172b4cb48c620f09a0c4e9ec": {
      "model_module": "@jupyter-widgets/controls",
      "model_module_version": "1.5.0",
      "model_name": "DescriptionStyleModel",
      "state": {
       "description_width": ""
      }
     },
     "5a841fd528c749629310f22d8b878a22": {
      "model_module": "@jupyter-widgets/controls",
      "model_module_version": "1.5.0",
      "model_name": "LabelModel",
      "state": {
       "layout": "IPY_MODEL_f99d2e15eaea424592fc571b806e43ee",
       "style": "IPY_MODEL_ea5f0d3c874e4eda954314a5c268f368",
       "value": "Workspace"
      }
     },
     "5a9a0d6c81034505b28ba551d2ccb447": {
      "model_module": "@jupyter-widgets/base",
      "model_module_version": "1.2.0",
      "model_name": "LayoutModel",
      "state": {}
     },
     "5ac052ad94ae4bad9f4eab243bde796e": {
      "model_module": "@jupyter-widgets/controls",
      "model_module_version": "1.5.0",
      "model_name": "DescriptionStyleModel",
      "state": {
       "description_width": ""
      }
     },
     "5adf89f504c64be3950621839f2b53cd": {
      "model_module": "@jupyter-widgets/controls",
      "model_module_version": "1.5.0",
      "model_name": "HBoxModel",
      "state": {
       "children": [
        "IPY_MODEL_09a7594283ff4aa397b6c0b255b5a04c",
        "IPY_MODEL_998c0b62ab77428580b9fbe3a1c03b33",
        "IPY_MODEL_c4061299ab9544a196d5f6035b77938a"
       ],
       "layout": "IPY_MODEL_140179808f6d4b17a78eee8fb71215f3"
      }
     },
     "5adfa937e66549d18be713a45e116c3d": {
      "model_module": "@jupyter-widgets/controls",
      "model_module_version": "1.5.0",
      "model_name": "DescriptionStyleModel",
      "state": {
       "description_width": "initial"
      }
     },
     "5ae93bc1b24e4562a4525c5c75aa213b": {
      "model_module": "@jupyter-widgets/base",
      "model_module_version": "1.2.0",
      "model_name": "LayoutModel",
      "state": {
       "display": "none"
      }
     },
     "5af8b8e1049d41fc819de324cf90fd2d": {
      "model_module": "@jupyter-widgets/controls",
      "model_module_version": "1.5.0",
      "model_name": "DescriptionStyleModel",
      "state": {
       "description_width": ""
      }
     },
     "5b175ad78f394f57b6bed52f36738415": {
      "model_module": "@jupyter-widgets/controls",
      "model_module_version": "1.5.0",
      "model_name": "HTMLModel",
      "state": {
       "layout": "IPY_MODEL_00371d0504bc45239e9053fb04b3beb9",
       "style": "IPY_MODEL_7526a51f24ad4f239d406438ac54bfdb"
      }
     },
     "5b2c00103be74abb8cb98478973e6810": {
      "model_module": "@jupyter-widgets/base",
      "model_module_version": "1.2.0",
      "model_name": "LayoutModel",
      "state": {
       "grid_area": "dircontent",
       "width": "auto"
      }
     },
     "5b3c72f10d0045af8f98d7b5c977698c": {
      "model_module": "@jupyter-widgets/controls",
      "model_module_version": "1.5.0",
      "model_name": "DescriptionStyleModel",
      "state": {
       "description_width": ""
      }
     },
     "5b3d207ebf66415bbf1db35052e24890": {
      "model_module": "@jupyter-widgets/controls",
      "model_module_version": "1.5.0",
      "model_name": "DropdownModel",
      "state": {
       "_options_labels": [
        "surface",
        "radial"
       ],
       "description": "Type",
       "index": 1,
       "layout": "IPY_MODEL_74594d6878b049bf80690fe982e0b9b3",
       "style": "IPY_MODEL_4ed62112aa0540468c5ec5b11e4a2685"
      }
     },
     "5b73f86bd9e9493bb13740f0fdaf6677": {
      "model_module": "@jupyter-widgets/controls",
      "model_module_version": "1.5.0",
      "model_name": "DescriptionStyleModel",
      "state": {
       "description_width": ""
      }
     },
     "5b7e56d01db74d368d7c3eb8f4f9843c": {
      "model_module": "@jupyter-widgets/controls",
      "model_module_version": "1.5.0",
      "model_name": "SelectModel",
      "state": {
       "_options_labels": [
        "📁 .."
       ],
       "index": null,
       "layout": "IPY_MODEL_eeacbf56c32c4b81a650a4be8172b625",
       "rows": 8,
       "style": "IPY_MODEL_17904a923cbb467eafede9d71f25820c"
      }
     },
     "5b94e38de8a44ef9babe336abe8701a2": {
      "model_module": "@jupyter-widgets/base",
      "model_module_version": "1.2.0",
      "model_name": "LayoutModel",
      "state": {}
     },
     "5b9eefa0012e4be5a3d0bac7001f0be1": {
      "model_module": "@jupyter-widgets/controls",
      "model_module_version": "1.5.0",
      "model_name": "DescriptionStyleModel",
      "state": {
       "description_width": "initial"
      }
     },
     "5ba669292aba41ac84aac25881f94e68": {
      "model_module": "@jupyter-widgets/base",
      "model_module_version": "1.2.0",
      "model_name": "LayoutModel",
      "state": {
       "border": "solid"
      }
     },
     "5bd2dcb5904e41bb8f6e6256362f0a5d": {
      "model_module": "@jupyter-widgets/controls",
      "model_module_version": "1.5.0",
      "model_name": "DescriptionStyleModel",
      "state": {
       "description_width": "initial"
      }
     },
     "5bebf36abc89436c845781f3f0ec350b": {
      "model_module": "@jupyter-widgets/controls",
      "model_module_version": "1.5.0",
      "model_name": "VBoxModel",
      "state": {
       "children": [
        "IPY_MODEL_9830fde21d7c472394020d24db648811",
        "IPY_MODEL_db6e122a848c4827b864d63efa4ed309"
       ],
       "layout": "IPY_MODEL_75b402448e6b41549f2f8360fb90e999"
      }
     },
     "5bfa0de0db2e4d6cb3d84455446d9a4a": {
      "model_module": "@jupyter-widgets/controls",
      "model_module_version": "1.5.0",
      "model_name": "DescriptionStyleModel",
      "state": {
       "description_width": ""
      }
     },
     "5bfd167f1dd04f4eab6a6f566c6f7bef": {
      "model_module": "@jupyter-widgets/controls",
      "model_module_version": "1.5.0",
      "model_name": "DescriptionStyleModel",
      "state": {
       "description_width": ""
      }
     },
     "5c086564ac7942d3b086d616c13a1211": {
      "model_module": "@jupyter-widgets/base",
      "model_module_version": "1.2.0",
      "model_name": "LayoutModel",
      "state": {
       "margin": "0 0 0 1em"
      }
     },
     "5c0a0930f0924e648e6b6df7d008da42": {
      "model_module": "@jupyter-widgets/controls",
      "model_module_version": "1.5.0",
      "model_name": "DescriptionStyleModel",
      "state": {
       "description_width": ""
      }
     },
     "5c21e62466bf4db1932bf83d6787300c": {
      "model_module": "@jupyter-widgets/controls",
      "model_module_version": "1.5.0",
      "model_name": "HTMLModel",
      "state": {
       "layout": "IPY_MODEL_26cac6bab7f24ab1b1016bd00957fb20",
       "placeholder": "",
       "style": "IPY_MODEL_3469cbe6a1b946479e5f72cd3db2682c",
       "value": "<span style=\"color:orange;\">C:\\Users\\dominiquef\\Documents\\GIT\\mira\\geoapps\\assets\\FlinFlon.geoh5</span>"
      }
     },
     "5c5d723601a74777a44a5b68de3308be": {
      "model_module": "@jupyter-widgets/base",
      "model_module_version": "1.2.0",
      "model_name": "LayoutModel",
      "state": {}
     },
     "5c5e3cb769eb463693c615af01f905a4": {
      "model_module": "@jupyter-widgets/controls",
      "model_module_version": "1.5.0",
      "model_name": "DescriptionStyleModel",
      "state": {
       "description_width": ""
      }
     },
     "5c66afc1ee304338a95a732cfedbacfc": {
      "model_module": "@jupyter-widgets/controls",
      "model_module_version": "1.5.0",
      "model_name": "DescriptionStyleModel",
      "state": {
       "description_width": ""
      }
     },
     "5c673b3ac18a4fcca936b29fc0ade6d1": {
      "model_module": "@jupyter-widgets/base",
      "model_module_version": "1.2.0",
      "model_name": "LayoutModel",
      "state": {}
     },
     "5c851ab6e9a540998da625311209524b": {
      "model_module": "@jupyter-widgets/base",
      "model_module_version": "1.2.0",
      "model_name": "LayoutModel",
      "state": {}
     },
     "5c8e8fac460a491ba3e52f736907924b": {
      "model_module": "@jupyter-widgets/controls",
      "model_module_version": "1.5.0",
      "model_name": "DescriptionStyleModel",
      "state": {
       "description_width": "initial"
      }
     },
     "5c9d4eeb87d243188426b9dfe9b72d2b": {
      "model_module": "@jupyter-widgets/controls",
      "model_module_version": "1.5.0",
      "model_name": "DescriptionStyleModel",
      "state": {
       "description_width": "initial"
      }
     },
     "5c9e6f94d8cd40bd8e4eaff68c99846d": {
      "model_module": "@jupyter-widgets/controls",
      "model_module_version": "1.5.0",
      "model_name": "DescriptionStyleModel",
      "state": {
       "description_width": "initial"
      }
     },
     "5d250c51c61343e7bcba56605c1d850a": {
      "model_module": "@jupyter-widgets/controls",
      "model_module_version": "1.5.0",
      "model_name": "VBoxModel",
      "state": {
       "children": [
        "IPY_MODEL_c6fe38b06f9f4feb867b6636700f1c39",
        "IPY_MODEL_86801c5574a34583bc58ba90dd50f36f",
        "IPY_MODEL_4523aa4af67a4f7ab18fbea15d6c4bfb",
        "IPY_MODEL_67f069a3b5634ee7979d525323f1dbff",
        "IPY_MODEL_6afa2a8be8434bc98095232e4432e8e4"
       ],
       "layout": "IPY_MODEL_a2208e31fc6c4944a42d1c8074c549d2"
      }
     },
     "5d3693ad707e46efbd9972709527ca59": {
      "model_module": "@jupyter-widgets/controls",
      "model_module_version": "1.5.0",
      "model_name": "DescriptionStyleModel",
      "state": {
       "description_width": "initial"
      }
     },
     "5d43ab0b0980486ba6365e80577a06bc": {
      "model_module": "@jupyter-widgets/controls",
      "model_module_version": "1.5.0",
      "model_name": "DescriptionStyleModel",
      "state": {
       "description_width": ""
      }
     },
     "5d6874ea2d944d9ba61cf1f15ada9e01": {
      "model_module": "@jupyter-widgets/base",
      "model_module_version": "1.2.0",
      "model_name": "LayoutModel",
      "state": {}
     },
     "5d691e4dac4d4b519d82b617ee100d4e": {
      "model_module": "@jupyter-widgets/controls",
      "model_module_version": "1.5.0",
      "model_name": "FloatTextModel",
      "state": {
       "description": "Distance",
       "layout": "IPY_MODEL_6c54f8d10ee041c09a2aa8b6f526233e",
       "step": null,
       "style": "IPY_MODEL_8afad8daf81a4f3795df25eb217a9c7d",
       "value": 1200
      }
     },
     "5d791d94bfcb4594a5797e47200507e3": {
      "model_module": "@jupyter-widgets/controls",
      "model_module_version": "1.5.0",
      "model_name": "DescriptionStyleModel",
      "state": {
       "description_width": "initial"
      }
     },
     "5dafcfcae1eb41758baf3f95526b8fde": {
      "model_module": "@jupyter-widgets/controls",
      "model_module_version": "1.5.0",
      "model_name": "DescriptionStyleModel",
      "state": {
       "description_width": ""
      }
     },
     "5db324767b034c189aec756b3605533b": {
      "model_module": "@jupyter-widgets/controls",
      "model_module_version": "1.5.0",
      "model_name": "DescriptionStyleModel",
      "state": {
       "description_width": "initial"
      }
     },
     "5db5cc19be314fcabfe134e5870baac3": {
      "model_module": "@jupyter-widgets/controls",
      "model_module_version": "1.5.0",
      "model_name": "DropdownModel",
      "state": {
       "_options_labels": [
        "surface",
        "radial"
       ],
       "description": "Type",
       "index": 0,
       "layout": "IPY_MODEL_a2f77554884c4f9c8ffb17d03f88366e",
       "style": "IPY_MODEL_0acb293f95c24c9c8b4cb316bf8524f2"
      }
     },
     "5db873bb11db4d5ebd1ce5db1bdc078a": {
      "model_module": "@jupyter-widgets/controls",
      "model_module_version": "1.5.0",
      "model_name": "DescriptionStyleModel",
      "state": {
       "description_width": ""
      }
     },
     "5dc8f83007314d5581ae15cfb612ea50": {
      "model_module": "@jupyter-widgets/controls",
      "model_module_version": "1.5.0",
      "model_name": "DescriptionStyleModel",
      "state": {
       "description_width": ""
      }
     },
     "5dcc79a28a344a758788a4a25a47a9b7": {
      "model_module": "@jupyter-widgets/base",
      "model_module_version": "1.2.0",
      "model_name": "LayoutModel",
      "state": {}
     },
     "5dce4ee89df74f97bc387f3bf2785021": {
      "model_module": "@jupyter-widgets/base",
      "model_module_version": "1.2.0",
      "model_name": "LayoutModel",
      "state": {}
     },
     "5dd2ea9f1f9c46de97fbbfb987c85e99": {
      "model_module": "@jupyter-widgets/controls",
      "model_module_version": "1.5.0",
      "model_name": "DescriptionStyleModel",
      "state": {
       "description_width": "initial"
      }
     },
     "5ddea8b4e55e4c49ab35aef18f3bee81": {
      "model_module": "@jupyter-widgets/controls",
      "model_module_version": "1.5.0",
      "model_name": "DescriptionStyleModel",
      "state": {
       "description_width": "initial"
      }
     },
     "5def68349d5a4ef289e278f7e5325804": {
      "model_module": "@jupyter-widgets/controls",
      "model_module_version": "1.5.0",
      "model_name": "TextModel",
      "state": {
       "description": "Levels",
       "layout": "IPY_MODEL_2d213e8d4eff494bb40c11826596cd0d",
       "style": "IPY_MODEL_e62f81f984294a53af909257e44bc7af",
       "value": "4.0, 4.0, 4.0"
      }
     },
     "5e05925a217545eda18f1864ef73550b": {
      "model_module": "@jupyter-widgets/controls",
      "model_module_version": "1.5.0",
      "model_name": "DescriptionStyleModel",
      "state": {
       "description_width": "initial"
      }
     },
     "5e260dfbf367449ebb138fb723b4dd2d": {
      "model_module": "@jupyter-widgets/base",
      "model_module_version": "1.2.0",
      "model_name": "LayoutModel",
      "state": {}
     },
     "5e2df17d086240158271c8971481da94": {
      "model_module": "@jupyter-widgets/controls",
      "model_module_version": "1.5.0",
      "model_name": "DescriptionStyleModel",
      "state": {
       "description_width": ""
      }
     },
     "5e3031d31b824ff3afce38c27765dad8": {
      "model_module": "@jupyter-widgets/controls",
      "model_module_version": "1.5.0",
      "model_name": "DropdownModel",
      "state": {
       "_options_labels": [
        "C:\\Users\\dominiquef\\Documents\\GIT\\mira\\geoapps\\assets",
        "C:\\Users\\dominiquef\\Documents\\GIT\\mira\\geoapps",
        "C:\\Users\\dominiquef\\Documents\\GIT\\mira",
        "C:\\Users\\dominiquef\\Documents\\GIT",
        "C:\\Users\\dominiquef\\Documents",
        "C:\\Users\\dominiquef",
        "C:\\Users",
        "C:\\",
        "G:\\",
        "D:\\",
        "\\\\EgnyteDrive\\mirageoscience\\"
       ],
       "index": 0,
       "layout": "IPY_MODEL_de36e9e6c7e842ec841bd518f1441052",
       "style": "IPY_MODEL_b184dc4062c846d4ac963cb454936a90"
      }
     },
     "5e4c1d576ea24007b9ef7def2faaf36b": {
      "model_module": "@jupyter-widgets/controls",
      "model_module_version": "1.5.0",
      "model_name": "DropdownModel",
      "state": {
       "_options_labels": [
        "surface",
        "radial"
       ],
       "description": "Type",
       "index": 1,
       "layout": "IPY_MODEL_38737bf4e7e54f90be68554e98237f89",
       "style": "IPY_MODEL_ace4db370d604ea2a71b45a3c6fd7773"
      }
     },
     "5e7f51784c73487f90fdca6c84cdbcbe": {
      "model_module": "@jupyter-widgets/controls",
      "model_module_version": "1.5.0",
      "model_name": "DescriptionStyleModel",
      "state": {
       "description_width": ""
      }
     },
     "5e88929314384a279f8560519f730493": {
      "model_module": "@jupyter-widgets/base",
      "model_module_version": "1.2.0",
      "model_name": "LayoutModel",
      "state": {
       "grid_area": "dircontent",
       "width": "auto"
      }
     },
     "5e8befdc9bfb4504aa8455bc59cbad56": {
      "model_module": "@jupyter-widgets/base",
      "model_module_version": "1.2.0",
      "model_name": "LayoutModel",
      "state": {}
     },
     "5e99004937a2417e852eccdd288e1142": {
      "model_module": "@jupyter-widgets/base",
      "model_module_version": "1.2.0",
      "model_name": "LayoutModel",
      "state": {
       "grid_area": "filename",
       "width": "auto"
      }
     },
     "5e9b6daf1881412a9932e48965c973ed": {
      "model_module": "@jupyter-widgets/controls",
      "model_module_version": "1.5.0",
      "model_name": "DescriptionStyleModel",
      "state": {
       "description_width": ""
      }
     },
     "5ed23fbbcade4c8c840f3ba7800a2364": {
      "model_module": "@jupyter-widgets/controls",
      "model_module_version": "1.5.0",
      "model_name": "ButtonStyleModel",
      "state": {}
     },
     "5edddb08ebdb43f696d31572bb345865": {
      "model_module": "@jupyter-widgets/controls",
      "model_module_version": "1.5.0",
      "model_name": "VBoxModel",
      "state": {
       "children": [
        "IPY_MODEL_73296762f21f42b6b5b69fa55a8076e2",
        "IPY_MODEL_4ec8e1392b274a3e9bc9d9f83202bcf6",
        "IPY_MODEL_6261c57ddebc4789863f6d5644faab0d",
        "IPY_MODEL_6055699e5f1b4d31ad18e95f4f8c5411",
        "IPY_MODEL_b3047646175a48b593cc554fc68e0ba7"
       ],
       "layout": "IPY_MODEL_c96a3e68dad64dabbe84e667277fc0a7"
      }
     },
     "5eefa5d088a04f60a2c90564787b50ce": {
      "model_module": "@jupyter-widgets/controls",
      "model_module_version": "1.5.0",
      "model_name": "DropdownModel",
      "state": {
       "_options_labels": [
        "",
        "CoordinateTransformation/Data_TEM_pseudo3DEPSG_4326",
        "CoordinateTransformation/Data_TEM_pseudo3DEPSG_4326",
        "Faults_Dikes/fault_splay1",
        "Faults_Dikes/fault_Cliff_Lake",
        "Faults_Dikes/fault_Other_FlinFlon",
        "Faults_Dikes/fault_Club_Lake_splay",
        "Faults_Dikes/fault_Catherine_splay2",
        "Faults_Dikes/fault_Birch_View",
        "Faults_Dikes/fault_Dion_Lake",
        "Faults_Dikes/fault_FlinFlon_splay",
        "Faults_Dikes/fault_West_Mandy_Road",
        "Faults_Dikes/fault_Channing",
        "Faults_Dikes/fault_Ross_Lake",
        "Faults_Dikes/fault_Louis_Hidden",
        "Faults_Dikes/fault_Lake_View_thrust",
        "Faults_Dikes/contact_Schist_Lake",
        "Faults_Dikes/fault_Burley_Lake",
        "Faults_Dikes/fault_Dion_Lake_splay",
        "Faults_Dikes/fault_Green_Lake",
        "Faults_Dikes/fault_FlinFlon",
        "Faults_Dikes/fault_Catherine_splay1",
        "Faults_Dikes/fault_East_Mandy_Road",
        "Faults_Dikes/fault_Other_FlinFlon_South",
        "Faults_Dikes/fault_Catherine_splay4",
        "Faults_Dikes/contact_Stitt_Island",
        "Faults_Dikes/fault_Club_Lake",
        "Faults_Dikes/fault_Tailing_Pond",
        "Horizons/35_Hidden_Reservoir_Hr5",
        "Horizons/29_Hidden_Reservoir_Hr1a",
        "Horizons/60_BlueLagoon_Fb2",
        "Horizons/20_FlinFlon_Undivided_Int_Dykes_D2f",
        "Horizons/04_Boundary_Intrusive_S4h",
        "Horizons/53_Millrock_Rhyolite_Fm4b",
        "Horizons/19_FlinFlon_Undivided_Int_Dykes_D2b",
        "Horizons/18_FlinFlon_Undivided_Int_Dykes_777_D2b",
        "Horizons/06_Phantom_Lake_Intrusive_S3a",
        "Horizons/21_FlinFlon_Undivided_Int_Dykes_D3a",
        "Horizons/43_Millrock_CHLSH_South",
        "Horizons/56_Millrock_Basalt_Fm1ba",
        "Horizons/17_FlinFlon_Undivided_Int_Dykes_D2",
        "Horizons/32_Hidden_Reservoir_Hr1b_SW",
        "Horizons/11_Missi_M3_NE",
        "Horizons/13_Missi_M1",
        "Horizons/07_Annabel_Granitoid_S1",
        "Horizons/45_Millrock_Gabbro_South",
        "Horizons/01_Late_Intrusive_S5b",
        "Horizons/31_Hidden_Reservoir_Hr1c_SW",
        "Horizons/52_Millrock_Rhyolite_Fm4_West_check",
        "Horizons/55_Millrock_Basalt_Fm1bf",
        "Horizons/34_Hidden_Reservoir_Hr2b",
        "Horizons/03_Boundary_Intrusive_S4b",
        "Horizons/42_Millrock_CHLSH_North",
        "Horizons/26_Louis_L3",
        "Horizons/23_FlinFlon_Undivided_Int_Felsic_D4g",
        "Horizons/30_Hidden_Reservoir_Hr1b",
        "Horizons/59_BlueLagoon_Fb3",
        "Horizons/49_Millrock_MVR_Fm5d",
        "Horizons/44_Millrock_Gabbro_North",
        "Horizons/27_Hidden_Carlisle_Hc4",
        "Horizons/22_FlinFlon_Undivided_Int_Felsic_D4e",
        "Horizons/02_Boundary_Intrusive_S4a",
        "Horizons/61_BlueLagoon_Fb1_NW",
        "Horizons/05_Boundary_Intrusive_S4g",
        "Ore/39_Ore_Callinan",
        "Ore/38_Ore_Dan_Owens",
        "Ore/40_Ore_FlinFlon",
        "Workspace/Inversion_VTEM_Model",
        "Workspace/CDI_VTEM_model",
        "Workspace/Data_FEM_pseudo3D",
        "Workspace/geochem",
        "Workspace/Inversion_DIGHEM_Model",
        "Workspace/Topography",
        "Workspace/Data_TEM_pseudo3D",
        "Workspace/Data_ZTEM",
        "Workspace/Mesh"
       ],
       "description": "Object",
       "index": 0,
       "layout": "IPY_MODEL_c7b6a475eed542df949cae847b85c2f7",
       "style": "IPY_MODEL_ff2d92acf3764aacb0a9f23d12bf8542"
      }
     },
     "5ef3c6c7961d453581cebc5728a890f7": {
      "model_module": "@jupyter-widgets/controls",
      "model_module_version": "1.5.0",
      "model_name": "DescriptionStyleModel",
      "state": {
       "description_width": ""
      }
     },
     "5f0bb18275714902b7eb4d29e8f2d521": {
      "model_module": "@jupyter-widgets/base",
      "model_module_version": "1.2.0",
      "model_name": "LayoutModel",
      "state": {
       "width": "500px"
      }
     },
     "5f1e576686a741f3803e8f7b7c6777f5": {
      "model_module": "@jupyter-widgets/base",
      "model_module_version": "1.2.0",
      "model_name": "LayoutModel",
      "state": {}
     },
     "5f5b7f14765d484792c0e7204b1f879d": {
      "model_module": "@jupyter-widgets/controls",
      "model_module_version": "1.5.0",
      "model_name": "DropdownModel",
      "state": {
       "_options_labels": [
        "C:\\Users\\dominiquef\\Documents\\GIT\\mira\\geoapps\\assets",
        "C:\\Users\\dominiquef\\Documents\\GIT\\mira\\geoapps",
        "C:\\Users\\dominiquef\\Documents\\GIT\\mira",
        "C:\\Users\\dominiquef\\Documents\\GIT",
        "C:\\Users\\dominiquef\\Documents",
        "C:\\Users\\dominiquef",
        "C:\\Users",
        "C:\\",
        "G:\\",
        "\\\\EgnyteDrive\\mirageoscience\\",
        "D:\\"
       ],
       "index": 0,
       "layout": "IPY_MODEL_ee3b8fb6e7de4852b976bb92ba2ee22e",
       "style": "IPY_MODEL_3a72aca53c7b4e718775ee6a658b2deb"
      }
     },
     "5f7a34f39b014ac4b90a3a58bbdef570": {
      "model_module": "@jupyter-widgets/base",
      "model_module_version": "1.2.0",
      "model_name": "LayoutModel",
      "state": {}
     },
     "5f88722ad69946c696d665177e796a71": {
      "model_module": "@jupyter-widgets/base",
      "model_module_version": "1.2.0",
      "model_name": "LayoutModel",
      "state": {}
     },
     "5fc84a52d81d48529fa5ab352772951e": {
      "model_module": "@jupyter-widgets/base",
      "model_module_version": "1.2.0",
      "model_name": "LayoutModel",
      "state": {}
     },
     "5fe7583c7c3c486cbcee9aeeae248782": {
      "model_module": "@jupyter-widgets/base",
      "model_module_version": "1.2.0",
      "model_name": "LayoutModel",
      "state": {}
     },
     "6000546c6507404f814c07e90772ca6f": {
      "model_module": "@jupyter-widgets/controls",
      "model_module_version": "1.5.0",
      "model_name": "DescriptionStyleModel",
      "state": {
       "description_width": ""
      }
     },
     "6002fe764ae143cbbfa3d77796464a80": {
      "model_module": "@jupyter-widgets/base",
      "model_module_version": "1.2.0",
      "model_name": "LayoutModel",
      "state": {}
     },
     "6009c65e4f8f4632b4614004907db377": {
      "model_module": "@jupyter-widgets/controls",
      "model_module_version": "1.5.0",
      "model_name": "DescriptionStyleModel",
      "state": {
       "description_width": "initial"
      }
     },
     "601142fbe05e4de0899319130a23a1eb": {
      "model_module": "@jupyter-widgets/base",
      "model_module_version": "1.2.0",
      "model_name": "LayoutModel",
      "state": {}
     },
     "601d01a0f4144314b1eba7af8cc2b3e1": {
      "model_module": "@jupyter-widgets/controls",
      "model_module_version": "1.5.0",
      "model_name": "DescriptionStyleModel",
      "state": {
       "description_width": ""
      }
     },
     "601d900c369745849d55404ddf031f3e": {
      "model_module": "@jupyter-widgets/controls",
      "model_module_version": "1.5.0",
      "model_name": "FloatTextModel",
      "state": {
       "description": "Vertical",
       "layout": "IPY_MODEL_6e9f1dcf772c4bf58ffd7e95f291d21f",
       "step": null,
       "style": "IPY_MODEL_20e00bcd6f264dcebe4c4ce125e5836b",
       "value": 25
      }
     },
     "602b03a603644d179c9bbfc53fc4deb1": {
      "model_module": "@jupyter-widgets/controls",
      "model_module_version": "1.5.0",
      "model_name": "ButtonModel",
      "state": {
       "description": "Select",
       "layout": "IPY_MODEL_1a6af5a733bd48ea89652f8c0bd97929",
       "style": "IPY_MODEL_2904bc1468124adca8330acc0a0b42a4"
      }
     },
     "604371d905994e8fb18a623c354a2a7d": {
      "model_module": "@jupyter-widgets/controls",
      "model_module_version": "1.5.0",
      "model_name": "FloatTextModel",
      "state": {
       "description": "Northing",
       "layout": "IPY_MODEL_e56db57430334e069c34e91db9758a59",
       "step": null,
       "style": "IPY_MODEL_76dfe139b6c14ffab56c2e4c47a35f00",
       "value": 25
      }
     },
     "6055699e5f1b4d31ad18e95f4f8c5411": {
      "model_module": "@jupyter-widgets/controls",
      "model_module_version": "1.5.0",
      "model_name": "DropdownModel",
      "state": {
       "_options_labels": [
        "surface",
        "radial"
       ],
       "description": "Type",
       "index": 1,
       "layout": "IPY_MODEL_80878983c0974b6db927dccfa0cc190d",
       "style": "IPY_MODEL_ef117eedfeb142688512dc7259ae671a"
      }
     },
     "6055a22ad4404660a127f683256d6178": {
      "model_module": "@jupyter-widgets/controls",
      "model_module_version": "1.5.0",
      "model_name": "DescriptionStyleModel",
      "state": {
       "description_width": "initial"
      }
     },
     "6067f63ba4064c2fb1f929f0ea4eb367": {
      "model_module": "@jupyter-widgets/controls",
      "model_module_version": "1.5.0",
      "model_name": "DescriptionStyleModel",
      "state": {
       "description_width": "initial"
      }
     },
     "606fb24278384c52977ef44cb2ea1232": {
      "model_module": "@jupyter-widgets/base",
      "model_module_version": "1.2.0",
      "model_name": "LayoutModel",
      "state": {}
     },
     "607b1a836a6e4a498d340b4324fd3be6": {
      "model_module": "@jupyter-widgets/base",
      "model_module_version": "1.2.0",
      "model_name": "LayoutModel",
      "state": {
       "overflow": "auto"
      }
     },
     "60879f14c5184c99b343a8cb5af0b8d1": {
      "model_module": "@jupyter-widgets/controls",
      "model_module_version": "1.5.0",
      "model_name": "DescriptionStyleModel",
      "state": {
       "description_width": "initial"
      }
     },
     "6088482faedd48d5b348e32ddb082596": {
      "model_module": "@jupyter-widgets/controls",
      "model_module_version": "1.5.0",
      "model_name": "VBoxModel",
      "state": {
       "children": [
        "IPY_MODEL_a15ab6742deb40a6918647c51f7f946a",
        "IPY_MODEL_8b511d0d9d1c4b79b5cc3134ac1b0298",
        "IPY_MODEL_7ee8369a4c6c4372bd766ae141fa02f5",
        "IPY_MODEL_1b481256bb3d496c976efb9c29bac0c7",
        "IPY_MODEL_6ce2470f17b143d98f81af307d6b2700"
       ],
       "layout": "IPY_MODEL_0a72fb6f280c4ebf9a1906221cf29547"
      }
     },
     "609e7ad6d35f49f0b655b1d62ad3eb4f": {
      "model_module": "@jupyter-widgets/controls",
      "model_module_version": "1.5.0",
      "model_name": "DescriptionStyleModel",
      "state": {
       "description_width": "initial"
      }
     },
     "60cc7d3cf142459c981a317823aff48d": {
      "model_module": "@jupyter-widgets/controls",
      "model_module_version": "1.5.0",
      "model_name": "SelectModel",
      "state": {
       "_options_labels": [
        "📁 ..",
        "📁 SimPEG_PFInversion",
        "📁 Temp"
       ],
       "index": null,
       "layout": "IPY_MODEL_5b2c00103be74abb8cb98478973e6810",
       "rows": 8,
       "style": "IPY_MODEL_be51cb38b67949c19c09d14be4b55e08"
      }
     },
     "60d1dd0fc3b8464f8e3926f159e3999f": {
      "model_module": "@jupyter-widgets/controls",
      "model_module_version": "1.5.0",
      "model_name": "DescriptionStyleModel",
      "state": {
       "description_width": "initial"
      }
     },
     "60fb52d9a8da44ec9fb9cacc948a8118": {
      "model_module": "@jupyter-widgets/base",
      "model_module_version": "1.2.0",
      "model_name": "LayoutModel",
      "state": {
       "min_width": "6em",
       "width": "6em"
      }
     },
     "611236dd0b2b40118d73ebceea3adae9": {
      "model_module": "@jupyter-widgets/base",
      "model_module_version": "1.2.0",
      "model_name": "LayoutModel",
      "state": {}
     },
     "6165c1bf909f47d59f4ef0216557a8cf": {
      "model_module": "@jupyter-widgets/controls",
      "model_module_version": "1.5.0",
      "model_name": "DescriptionStyleModel",
      "state": {
       "description_width": "initial"
      }
     },
     "6165ec3f910a40adb74b118e23191c29": {
      "model_module": "@jupyter-widgets/controls",
      "model_module_version": "1.5.0",
      "model_name": "DescriptionStyleModel",
      "state": {
       "description_width": "initial"
      }
     },
     "616fa18436af4e0a982cc5bad4116858": {
      "model_module": "@jupyter-widgets/controls",
      "model_module_version": "1.5.0",
      "model_name": "TextModel",
      "state": {
       "description": "Levels",
       "layout": "IPY_MODEL_1c6d71fa76e24c46a552acfff1f4ab42",
       "style": "IPY_MODEL_85447453b88940c3870515c0d06271b7",
       "value": "0, 0, 4"
      }
     },
     "619e7a041e6043dc9d244b08e144f879": {
      "model_module": "@jupyter-widgets/base",
      "model_module_version": "1.2.0",
      "model_name": "LayoutModel",
      "state": {
       "display": "none",
       "width": "auto"
      }
     },
     "61b05afa0b6a4e9093fd15395459cd8c": {
      "model_module": "@jupyter-widgets/base",
      "model_module_version": "1.2.0",
      "model_name": "LayoutModel",
      "state": {
       "width": "auto"
      }
     },
     "62233a961c1a4f88a2811268da2b4604": {
      "model_module": "@jupyter-widgets/controls",
      "model_module_version": "1.5.0",
      "model_name": "DescriptionStyleModel",
      "state": {
       "description_width": ""
      }
     },
     "6261c57ddebc4789863f6d5644faab0d": {
      "model_module": "@jupyter-widgets/controls",
      "model_module_version": "1.5.0",
      "model_name": "TextModel",
      "state": {
       "description": "Levels",
       "layout": "IPY_MODEL_8fca373e94504227981e31b39c0c970b",
       "style": "IPY_MODEL_4ac40f6eb4df4d61b4e62520f9050e4c",
       "value": "4, 4, 4"
      }
     },
     "6263b32721934ea6a424dd5889f4b913": {
      "model_module": "@jupyter-widgets/controls",
      "model_module_version": "1.5.0",
      "model_name": "VBoxModel",
      "state": {
       "children": [
        "IPY_MODEL_52601808c8a847f18f9579cc2c7d057e"
       ],
       "layout": "IPY_MODEL_1e544a273a8e43989384bf980a07fabd"
      }
     },
     "6266b2d0a4bb46589ffc635c369ee394": {
      "model_module": "@jupyter-widgets/controls",
      "model_module_version": "1.5.0",
      "model_name": "DescriptionStyleModel",
      "state": {
       "description_width": ""
      }
     },
     "6284193f15c8469cba71066656c13645": {
      "model_module": "@jupyter-widgets/base",
      "model_module_version": "1.2.0",
      "model_name": "LayoutModel",
      "state": {
       "overflow": "auto"
      }
     },
     "628c08759a6d47649a6e27f85bdaffd6": {
      "model_module": "@jupyter-widgets/controls",
      "model_module_version": "1.5.0",
      "model_name": "DescriptionStyleModel",
      "state": {
       "description_width": "initial"
      }
     },
     "6292eb488aec499a8e65327c0afa6762": {
      "model_module": "@jupyter-widgets/controls",
      "model_module_version": "1.5.0",
      "model_name": "DescriptionStyleModel",
      "state": {
       "description_width": ""
      }
     },
     "62b510cde717443f9e71170cff7025f7": {
      "model_module": "@jupyter-widgets/controls",
      "model_module_version": "1.5.0",
      "model_name": "DescriptionStyleModel",
      "state": {
       "description_width": ""
      }
     },
     "62bf924565d0413ba009b7c9f4072287": {
      "model_module": "@jupyter-widgets/base",
      "model_module_version": "1.2.0",
      "model_name": "LayoutModel",
      "state": {}
     },
     "62c3a4d1c7eb412fbebdc846baafbcb8": {
      "model_module": "@jupyter-widgets/controls",
      "model_module_version": "1.5.0",
      "model_name": "GridBoxModel",
      "state": {
       "children": [
        "IPY_MODEL_660dec76795e489c9aad0cbe9ac09534",
        "IPY_MODEL_928ebbcf6cf04b118ade1db3e16a8156",
        "IPY_MODEL_4e4ee93465194b888dd49afce266de7e"
       ],
       "layout": "IPY_MODEL_16106a74fd454c0dadf5359d3e2c9820"
      }
     },
     "62c9535235914be583018f202b7e1ee3": {
      "model_module": "@jupyter-widgets/controls",
      "model_module_version": "1.5.0",
      "model_name": "DescriptionStyleModel",
      "state": {
       "description_width": "initial"
      }
     },
     "62f9e9f817094c059e0ed38ebf50db6a": {
      "model_module": "@jupyter-widgets/controls",
      "model_module_version": "1.5.0",
      "model_name": "FloatTextModel",
      "state": {
       "description": "Easting",
       "layout": "IPY_MODEL_b4516db423154131874a99ef9a202942",
       "step": null,
       "style": "IPY_MODEL_4513d4a241f141a98e3357654070bbd5",
       "value": 25
      }
     },
     "62fa9b7e87e248f1a39ed6eb9de2a086": {
      "model_module": "@jupyter-widgets/controls",
      "model_module_version": "1.5.0",
      "model_name": "FloatTextModel",
      "state": {
       "description": "Horizontal (m)",
       "layout": "IPY_MODEL_5c5d723601a74777a44a5b68de3308be",
       "step": null,
       "style": "IPY_MODEL_9b4479c8b1454d2685c26ca6dcdbb67f",
       "value": 1000
      }
     },
     "6318681f78e44517aea14c881cd41103": {
      "model_module": "@jupyter-widgets/controls",
      "model_module_version": "1.5.0",
      "model_name": "ButtonStyleModel",
      "state": {}
     },
     "632fe3d53f24486a9e2fff89604d9384": {
      "model_module": "@jupyter-widgets/base",
      "model_module_version": "1.2.0",
      "model_name": "LayoutModel",
      "state": {}
     },
     "6381458d34434c94a81305ee931f4be0": {
      "model_module": "@jupyter-widgets/controls",
      "model_module_version": "1.5.0",
      "model_name": "DescriptionStyleModel",
      "state": {
       "description_width": "initial"
      }
     },
     "6386946642634bc8863cc84ae5a2bca3": {
      "model_module": "@jupyter-widgets/base",
      "model_module_version": "1.2.0",
      "model_name": "LayoutModel",
      "state": {
       "display": "none",
       "min_width": "6em",
       "width": "6em"
      }
     },
     "63998eaec2c342c0bc74c35cac7844f7": {
      "model_module": "@jupyter-widgets/base",
      "model_module_version": "1.2.0",
      "model_name": "LayoutModel",
      "state": {}
     },
     "63c5eeb32be44614972a9fd05f942b00": {
      "model_module": "@jupyter-widgets/controls",
      "model_module_version": "1.5.0",
      "model_name": "LabelModel",
      "state": {
       "layout": "IPY_MODEL_f6a46c3bace14d568f410376705948d1",
       "style": "IPY_MODEL_098119dc4f4044d5a3747bfcf70cc240",
       "value": "Refinement A"
      }
     },
     "63cb3915be5c4a709aa03e60942dbc62": {
      "model_module": "@jupyter-widgets/controls",
      "model_module_version": "1.5.0",
      "model_name": "DescriptionStyleModel",
      "state": {
       "description_width": "initial"
      }
     },
     "63cdfe81777b4c05b95fe47774810977": {
      "model_module": "@jupyter-widgets/controls",
      "model_module_version": "1.5.0",
      "model_name": "ButtonStyleModel",
      "state": {}
     },
     "63dae16705d54eadb7a0ab269a187511": {
      "model_module": "@jupyter-widgets/controls",
      "model_module_version": "1.5.0",
      "model_name": "DescriptionStyleModel",
      "state": {
       "description_width": "initial"
      }
     },
     "63db9a0d4ebd4cd4b7d37543e26676b9": {
      "model_module": "@jupyter-widgets/controls",
      "model_module_version": "1.5.0",
      "model_name": "DropdownModel",
      "state": {
       "_options_labels": [
        "surface",
        "radial"
       ],
       "description": "Type",
       "index": 0,
       "layout": "IPY_MODEL_5fe7583c7c3c486cbcee9aeeae248782",
       "style": "IPY_MODEL_a846a5228c7c44878e65f6bef57a2c9b"
      }
     },
     "63eec6ff045c4a30a7979609fe9971dc": {
      "model_module": "@jupyter-widgets/controls",
      "model_module_version": "1.5.0",
      "model_name": "DescriptionStyleModel",
      "state": {
       "description_width": "initial"
      }
     },
     "640a82c082a34ca9b6273b60402179c0": {
      "model_module": "@jupyter-widgets/controls",
      "model_module_version": "1.5.0",
      "model_name": "DescriptionStyleModel",
      "state": {
       "description_width": "initial"
      }
     },
     "640ae5cbaaac4c339ed99e002f24af36": {
      "model_module": "@jupyter-widgets/controls",
      "model_module_version": "1.5.0",
      "model_name": "ButtonStyleModel",
      "state": {}
     },
     "6417e67884404cf2a488be6b747830f3": {
      "model_module": "@jupyter-widgets/controls",
      "model_module_version": "1.5.0",
      "model_name": "DescriptionStyleModel",
      "state": {
       "description_width": ""
      }
     },
     "641b24eb75b84840917c38b89c23e3d3": {
      "model_module": "@jupyter-widgets/controls",
      "model_module_version": "1.5.0",
      "model_name": "LabelModel",
      "state": {
       "layout": "IPY_MODEL_bd40e939bf8a4f9fbabade3f108c8cb0",
       "style": "IPY_MODEL_b845294518c8489cb56ca19aef05285e",
       "value": "Monitoring folder"
      }
     },
     "641e5f8140a242dca071a1442eb3e980": {
      "model_module": "@jupyter-widgets/base",
      "model_module_version": "1.2.0",
      "model_name": "LayoutModel",
      "state": {}
     },
     "642a1fc6439443f1abe93b35f4fbdb18": {
      "model_module": "@jupyter-widgets/controls",
      "model_module_version": "1.5.0",
      "model_name": "DescriptionStyleModel",
      "state": {
       "description_width": "initial"
      }
     },
     "643a450aff984374ad6f64fd6e971350": {
      "model_module": "@jupyter-widgets/controls",
      "model_module_version": "1.5.0",
      "model_name": "ButtonModel",
      "state": {
       "description": "Change",
       "layout": "IPY_MODEL_1020b8d23274455d8a7bcb921989890d",
       "style": "IPY_MODEL_02f1ed6a74b8427dbfb848b607e77ed7"
      }
     },
     "643ee55f20c54094815a913db9e9ad3d": {
      "model_module": "@jupyter-widgets/controls",
      "model_module_version": "1.5.0",
      "model_name": "ButtonStyleModel",
      "state": {}
     },
     "6446692038554e388c86e284f9565f2b": {
      "model_module": "@jupyter-widgets/controls",
      "model_module_version": "1.5.0",
      "model_name": "DescriptionStyleModel",
      "state": {
       "description_width": "initial"
      }
     },
     "6448554a89934760914634f24788ad88": {
      "model_module": "@jupyter-widgets/controls",
      "model_module_version": "1.5.0",
      "model_name": "VBoxModel",
      "state": {
       "children": [
        "IPY_MODEL_908a679ed1164be49a0e16b9705be092",
        "IPY_MODEL_461fbde7f3c94683894d79f8f4d99672"
       ],
       "layout": "IPY_MODEL_24a0866dc3eb4581942658bce3d12431"
      }
     },
     "64492c46439841fba4f018ad78c7e7c5": {
      "model_module": "@jupyter-widgets/controls",
      "model_module_version": "1.5.0",
      "model_name": "DropdownModel",
      "state": {
       "_options_labels": [
        "",
        "Ore/39_Ore_Callinan",
        "Ore/38_Ore_Dan_Owens",
        "Ore/40_Ore_FlinFlon",
        "Workspace/Inversion_VTEM_Model",
        "Workspace/CDI_VTEM_model",
        "Workspace/Data_FEM_pseudo3D",
        "Workspace/geochem",
        "Workspace/Inversion_DIGHEM_Model",
        "Workspace/Topography",
        "Workspace/Data_TEM_pseudo3D",
        "Workspace/Data_ZTEM",
        "Workspace/Mesh"
       ],
       "description": "Core hull extent:",
       "index": 6,
       "layout": "IPY_MODEL_7eb493f46358479a8977dddcb331ec5d",
       "style": "IPY_MODEL_54bc0d2c4f914e3191dcf8dc699cdf32"
      }
     },
     "6463821a4d464d79877f955f48472e7c": {
      "model_module": "@jupyter-widgets/base",
      "model_module_version": "1.2.0",
      "model_name": "LayoutModel",
      "state": {
       "border": "solid"
      }
     },
     "6484569a2cfe4331aabf598a7e3175e7": {
      "model_module": "@jupyter-widgets/base",
      "model_module_version": "1.2.0",
      "model_name": "LayoutModel",
      "state": {
       "display": "none",
       "grid_gap": "0px 0px",
       "grid_template_areas": "\n                    'pathlist filename'\n                    'dircontent dircontent'\n                    ",
       "grid_template_columns": "60% 40%",
       "grid_template_rows": "auto auto",
       "width": "auto"
      }
     },
     "64a0b6128fcb431cb72eb0f0c036eb4e": {
      "model_module": "@jupyter-widgets/controls",
      "model_module_version": "1.5.0",
      "model_name": "DescriptionStyleModel",
      "state": {
       "description_width": "initial"
      }
     },
     "64a767b13a9f40a1b236e3276364b7fc": {
      "model_module": "@jupyter-widgets/controls",
      "model_module_version": "1.5.0",
      "model_name": "FloatTextModel",
      "state": {
       "description": "Distance",
       "layout": "IPY_MODEL_39243602d70d4b40ad2df713f29a5f34",
       "step": null,
       "style": "IPY_MODEL_194775cbe3b44a558a2666b20b391710",
       "value": 1000
      }
     },
     "64b889826d804e2389276adec7795b02": {
      "model_module": "@jupyter-widgets/controls",
      "model_module_version": "1.5.0",
      "model_name": "VBoxModel",
      "state": {
       "children": [
        "IPY_MODEL_5a841fd528c749629310f22d8b878a22",
        "IPY_MODEL_1b126156ec1f4dfbab6bed9e207b9e5a"
       ],
       "layout": "IPY_MODEL_7b80df5c649e4ce79a40a8f6d6c18d7c"
      }
     },
     "64c302bdcdee4870bdff2305420f6c47": {
      "model_module": "@jupyter-widgets/base",
      "model_module_version": "1.2.0",
      "model_name": "LayoutModel",
      "state": {
       "border": "solid"
      }
     },
     "64c86bbba8d242d5a7a04c1bbdfa27b4": {
      "model_module": "@jupyter-widgets/base",
      "model_module_version": "1.2.0",
      "model_name": "LayoutModel",
      "state": {
       "border": "solid"
      }
     },
     "64f16dbb0fd84848a98f650f959b51c5": {
      "model_module": "@jupyter-widgets/base",
      "model_module_version": "1.2.0",
      "model_name": "LayoutModel",
      "state": {
       "grid_area": "dircontent",
       "width": "auto"
      }
     },
     "64feb5a3eae34a98ae6fac533e64cd92": {
      "model_module": "@jupyter-widgets/controls",
      "model_module_version": "1.5.0",
      "model_name": "DescriptionStyleModel",
      "state": {
       "description_width": "initial"
      }
     },
     "6507ae9a22af41c7a7d574c00d366636": {
      "model_module": "@jupyter-widgets/controls",
      "model_module_version": "1.5.0",
      "model_name": "SelectModel",
      "state": {
       "_options_labels": [
        "..",
        "SimPEG_PFInversion",
        "Temp",
        "dask-worker-space",
        "Crossplot.html",
        "FlinFlon.geoh5",
        "Gravity_Magnetics_drape60m_Airborne_Gxx.tif",
        "Gravity_Magnetics_drape60m_Airborne_Gxx_Colorbar.png",
        "Gravity_Magnetics_drape60m_Airborne_Gxx_RGB.txt",
        "Inversion_.json",
        "Inversion_2.json",
        "Inversion_L0L2.json",
        "Inversion_L1L2.json",
        "Inversion_MVI_susRef.json",
        "Inversion_MagSusc.json",
        "Inversion_MagSusc_noref.json",
        "Inversion_TMI.json",
        "Inversion_test.json",
        "MtDore.geoh5",
        "MtDore_TMI.geoh5",
        "Octree_Mesh.ui.geoh5",
        "Octree_Mesh.ui.json",
        "Octree_Mesh_2.ui.json",
        "Octree_Mesh_33.ui.json",
        "Octree_Mesh_44.ui.json",
        "Octree_Mesh_55.ui.json",
        "Octree_Mesh_done.ui.json",
        "Octree_Mesh_done2.ui.json",
        "Octree_Mesh_geochem.ui.json",
        "Octree_Mesh_max_dist.ui.json",
        "Octree_Mesh_max_dist_10m.ui.json",
        "Octree_Mesh_ore.ui.json",
        "Octree_Mesh_padded.ui.json",
        "Octree_Mesh_surf.ui.json",
        "Octree_Mesh_v2.ui.json",
        "Octree_Mesh_v3.ui.geoh5",
        "Octree_Mesh_v3.ui.json",
        "Octree_Mesh_v4.ui.geoh5",
        "Octree_Mesh_v4.ui.json",
        "Octree_Mesh_v5.ui.json",
        "Octree_Mesh_v6.ui.geoh5",
        "Octree_Mesh_v6.ui.json",
        "Octree_Mesh_v7.ui.json",
        "default_mvi.ui.geoh5",
        "default_mvi.ui.json",
        "demo.ipynb",
        "edge_tester.geoh5",
        "input.ui.json",
        "live_update_demo.ipynb",
        "live_update_demo.ipynb.zip",
        "options_tree.json",
        "project.geoh5",
        "testPoints.geoh5",
        "tester.ui.geoh5",
        "tester.ui.json"
       ],
       "index": 5,
       "layout": "IPY_MODEL_b810bf82dfd24bc9a037cf3698514324",
       "rows": 8,
       "style": "IPY_MODEL_5ef3c6c7961d453581cebc5728a890f7"
      }
     },
     "6509612dd7fd4f0cbd2c75a9581262f5": {
      "model_module": "@jupyter-widgets/controls",
      "model_module_version": "1.5.0",
      "model_name": "SelectModel",
      "state": {
       "_options_labels": [
        "📁 .."
       ],
       "index": null,
       "layout": "IPY_MODEL_f431f815a3a243cabdeade6e880de0f7",
       "rows": 8,
       "style": "IPY_MODEL_b9407263b6414ee9b20dd0503205dcb4"
      }
     },
     "65184e1cbde346e89303e7976dd655c3": {
      "model_module": "@jupyter-widgets/controls",
      "model_module_version": "1.5.0",
      "model_name": "DescriptionStyleModel",
      "state": {
       "description_width": ""
      }
     },
     "6526c7bd9f994656a0e16b111ec8ee90": {
      "model_module": "@jupyter-widgets/controls",
      "model_module_version": "1.5.0",
      "model_name": "VBoxModel",
      "state": {
       "children": [
        "IPY_MODEL_90d4f09f08cb48afbfbb03fcc8e6d918",
        "IPY_MODEL_525286992a9c4eba91b9a4bd32b02f96",
        "IPY_MODEL_dd00690dd7764d3a88ce4d634f7dd14a"
       ],
       "layout": "IPY_MODEL_a4ddc9d6e27c4a5caeb4d62474cf6e3d"
      }
     },
     "653550b482784678a4c8faa8a4147b87": {
      "model_module": "@jupyter-widgets/base",
      "model_module_version": "1.2.0",
      "model_name": "LayoutModel",
      "state": {}
     },
     "65393c27a42d458aa8be577b9493582b": {
      "model_module": "@jupyter-widgets/base",
      "model_module_version": "1.2.0",
      "model_name": "LayoutModel",
      "state": {
       "width": "500px"
      }
     },
     "654e7dfb10b543c2b8c6f3fa16a275c1": {
      "model_module": "@jupyter-widgets/base",
      "model_module_version": "1.2.0",
      "model_name": "LayoutModel",
      "state": {}
     },
     "65516b03aeb1412d95d2fc4b093e1c1b": {
      "model_module": "@jupyter-widgets/base",
      "model_module_version": "1.2.0",
      "model_name": "LayoutModel",
      "state": {}
     },
     "655bdec93e634ffc81301b4d7527ad5f": {
      "model_module": "@jupyter-widgets/base",
      "model_module_version": "1.2.0",
      "model_name": "LayoutModel",
      "state": {
       "grid_area": "pathlist",
       "width": "auto"
      }
     },
     "655c2dba0cc742c7aa646ceda35b8128": {
      "model_module": "@jupyter-widgets/base",
      "model_module_version": "1.2.0",
      "model_name": "LayoutModel",
      "state": {
       "display": "none",
       "min_width": "6em",
       "width": "6em"
      }
     },
     "6588912c3ba5410c9ea2406438ecb801": {
      "model_module": "@jupyter-widgets/base",
      "model_module_version": "1.2.0",
      "model_name": "LayoutModel",
      "state": {
       "grid_area": "pathlist",
       "width": "auto"
      }
     },
     "658a1ee09eeb47cd93e21001aa9522b8": {
      "model_module": "@jupyter-widgets/base",
      "model_module_version": "1.2.0",
      "model_name": "LayoutModel",
      "state": {}
     },
     "6599e83d1b964515ab2b97c7f1e601dc": {
      "model_module": "@jupyter-widgets/controls",
      "model_module_version": "1.5.0",
      "model_name": "VBoxModel",
      "state": {
       "children": [
        "IPY_MODEL_03d18e8ccb4a4237bea5c3fa99b71b98",
        "IPY_MODEL_69fd6a76de134673bea7477eaa4e41a7"
       ],
       "layout": "IPY_MODEL_74964bb90505436b8983ab395ce1f5d2"
      }
     },
     "65a42a6e216f4b05a9b7759c2325ac84": {
      "model_module": "@jupyter-widgets/controls",
      "model_module_version": "1.5.0",
      "model_name": "DescriptionStyleModel",
      "state": {
       "description_width": "initial"
      }
     },
     "65b5a7c60aa94c92b81c3bd35a8748d7": {
      "model_module": "@jupyter-widgets/controls",
      "model_module_version": "1.5.0",
      "model_name": "LabelModel",
      "state": {
       "layout": "IPY_MODEL_729eacb035684f3c8427c763272c7cf7",
       "style": "IPY_MODEL_ad7b0363ae0745f680ce0b7f463e2d12",
       "value": "Workspace"
      }
     },
     "65d18b63a33741fc88907003d008e0a3": {
      "model_module": "@jupyter-widgets/controls",
      "model_module_version": "1.5.0",
      "model_name": "DescriptionStyleModel",
      "state": {
       "description_width": ""
      }
     },
     "65d1a2997ed543218223812c1be7dec4": {
      "model_module": "@jupyter-widgets/controls",
      "model_module_version": "1.5.0",
      "model_name": "DropdownModel",
      "state": {
       "_options_labels": [
        "",
        "--- Channels ---",
        "CPI900",
        "CPQ56k",
        "CPQ7200",
        "CPQ900",
        "CPI7200",
        "Line",
        "DEM",
        "CPI56k",
        "X",
        "Y",
        "Z"
       ],
       "description": "Data: ",
       "index": 0,
       "layout": "IPY_MODEL_8bc5f2a252ce4feb8ebe8c290f27d404",
       "style": "IPY_MODEL_84c40b655e054108976341739840847d"
      }
     },
     "65da8bf25b694b639aa7fdcde92f9b4b": {
      "model_module": "@jupyter-widgets/base",
      "model_module_version": "1.2.0",
      "model_name": "LayoutModel",
      "state": {
       "width": "auto"
      }
     },
     "65f1ccbfd0bf4934b5dc6eefcfb9b1bc": {
      "model_module": "@jupyter-widgets/controls",
      "model_module_version": "1.5.0",
      "model_name": "LabelModel",
      "state": {
       "layout": "IPY_MODEL_bf93259e689b41c1997c0c72ff5e20f0",
       "style": "IPY_MODEL_7cbb4a09d3134a6b88bedbc6ab2363d1",
       "value": "Refinement A"
      }
     },
     "65f695db1bda4e3fada4522a5bc8fa88": {
      "model_module": "@jupyter-widgets/controls",
      "model_module_version": "1.5.0",
      "model_name": "DropdownModel",
      "state": {
       "_options_labels": [
        "",
        "Ore/39_Ore_Callinan",
        "Ore/38_Ore_Dan_Owens",
        "Ore/40_Ore_FlinFlon",
        "Workspace/Inversion_VTEM_Model",
        "Workspace/CDI_VTEM_model",
        "Workspace/Data_FEM_pseudo3D",
        "Workspace/geochem",
        "Workspace/Inversion_DIGHEM_Model",
        "Workspace/Topography",
        "Workspace/Data_TEM_pseudo3D",
        "Workspace/Data_ZTEM",
        "Workspace/Mesh"
       ],
       "description": "Object",
       "index": 9,
       "layout": "IPY_MODEL_c1fbc5dd3fbb4a3d913b27284b8df209",
       "style": "IPY_MODEL_5adfa937e66549d18be713a45e116c3d"
      }
     },
     "65f695f22386468488bd89351b83fa11": {
      "model_module": "@jupyter-widgets/controls",
      "model_module_version": "1.5.0",
      "model_name": "DescriptionStyleModel",
      "state": {
       "description_width": ""
      }
     },
     "660dec76795e489c9aad0cbe9ac09534": {
      "model_module": "@jupyter-widgets/controls",
      "model_module_version": "1.5.0",
      "model_name": "DropdownModel",
      "state": {
       "_options_labels": [
        "C:\\Users\\dominiquef\\Documents\\GIT\\mira\\geoapps\\docs\\content\\applications",
        "C:\\Users\\dominiquef\\Documents\\GIT\\mira\\geoapps\\docs\\content",
        "C:\\Users\\dominiquef\\Documents\\GIT\\mira\\geoapps\\docs",
        "C:\\Users\\dominiquef\\Documents\\GIT\\mira\\geoapps",
        "C:\\Users\\dominiquef\\Documents\\GIT\\mira",
        "C:\\Users\\dominiquef\\Documents\\GIT",
        "C:\\Users\\dominiquef\\Documents",
        "C:\\Users\\dominiquef",
        "C:\\Users",
        "C:\\",
        "D:\\",
        "Z:\\"
       ],
       "index": 0,
       "layout": "IPY_MODEL_99bc618466f24655a0260bc0a7f02c55",
       "style": "IPY_MODEL_039e5b0d6e77487abce30d91db183287"
      }
     },
     "6610c6cf206f4e9c95db75de1dcc9679": {
      "model_module": "@jupyter-widgets/controls",
      "model_module_version": "1.5.0",
      "model_name": "DescriptionStyleModel",
      "state": {
       "description_width": "initial"
      }
     },
     "661378f2f47b4194b7330629f769099e": {
      "model_module": "@jupyter-widgets/controls",
      "model_module_version": "1.5.0",
      "model_name": "DescriptionStyleModel",
      "state": {
       "description_width": ""
      }
     },
     "664b9cc880f04555bf7cf0a1f4065f6b": {
      "model_module": "@jupyter-widgets/controls",
      "model_module_version": "1.5.0",
      "model_name": "DescriptionStyleModel",
      "state": {
       "description_width": "initial"
      }
     },
     "6663429591464d798f6d1ebfdc622fdd": {
      "model_module": "@jupyter-widgets/base",
      "model_module_version": "1.2.0",
      "model_name": "LayoutModel",
      "state": {
       "display": "none",
       "grid_area": "filename",
       "width": "auto"
      }
     },
     "66644eb6a1e74c96998ce622cf17489a": {
      "model_module": "@jupyter-widgets/base",
      "model_module_version": "1.2.0",
      "model_name": "LayoutModel",
      "state": {}
     },
     "666600064fd3406ab3aa01c711d13043": {
      "model_module": "@jupyter-widgets/controls",
      "model_module_version": "1.5.0",
      "model_name": "DescriptionStyleModel",
      "state": {
       "description_width": "initial"
      }
     },
     "666c99dc1c144e78ab67bdb63ccd29f0": {
      "model_module": "@jupyter-widgets/controls",
      "model_module_version": "1.5.0",
      "model_name": "DescriptionStyleModel",
      "state": {
       "description_width": "initial"
      }
     },
     "668d879f56e34171881ee1af1976f053": {
      "model_module": "@jupyter-widgets/base",
      "model_module_version": "1.2.0",
      "model_name": "LayoutModel",
      "state": {
       "width": "auto"
      }
     },
     "668ddebebc40496b84fb82cc43890994": {
      "model_module": "@jupyter-widgets/controls",
      "model_module_version": "1.5.0",
      "model_name": "DropdownModel",
      "state": {
       "_options_labels": [
        "C:\\Users\\dominiquef\\Documents\\GIT\\mira\\geoapps\\assets",
        "C:\\Users\\dominiquef\\Documents\\GIT\\mira\\geoapps",
        "C:\\Users\\dominiquef\\Documents\\GIT\\mira",
        "C:\\Users\\dominiquef\\Documents\\GIT",
        "C:\\Users\\dominiquef\\Documents",
        "C:\\Users\\dominiquef",
        "C:\\Users",
        "C:\\",
        "D:\\",
        "Z:\\"
       ],
       "index": 0,
       "layout": "IPY_MODEL_3a1426ba668b48e9bc3a9972677c98df",
       "style": "IPY_MODEL_a5b53e7eaad447c196d809a0bacdfd1a"
      }
     },
     "668f58ef28e4465dbfdb5001090eefb3": {
      "model_module": "@jupyter-widgets/controls",
      "model_module_version": "1.5.0",
      "model_name": "DropdownModel",
      "state": {
       "_options_labels": [
        "",
        "Ore/39_Ore_Callinan",
        "Ore/38_Ore_Dan_Owens",
        "Ore/40_Ore_FlinFlon",
        "Workspace/Inversion_VTEM_Model",
        "Workspace/DC_Survey (currents)",
        "Workspace/CDI_VTEM_model",
        "Workspace/Data_FEM_pseudo3D",
        "Workspace/geochem",
        "Workspace/DC_Survey",
        "Workspace/Inversion_DIGHEM_Model",
        "Workspace/Topography",
        "Workspace/Data_TEM_pseudo3D",
        "Workspace/Data_ZTEM",
        "Workspace/Mesh"
       ],
       "description": "Core hull extent:",
       "index": 7,
       "layout": "IPY_MODEL_f313eeea34154baa9842ef4421b78b7a",
       "style": "IPY_MODEL_4751bb36a1c041ccb680e98d0cb9920a"
      }
     },
     "66b225151c5944328a78447ad1aae638": {
      "model_module": "@jupyter-widgets/controls",
      "model_module_version": "1.5.0",
      "model_name": "DescriptionStyleModel",
      "state": {
       "description_width": "initial"
      }
     },
     "66b8605bdf7c49db8f7b8665001b0d6f": {
      "model_module": "@jupyter-widgets/base",
      "model_module_version": "1.2.0",
      "model_name": "LayoutModel",
      "state": {}
     },
     "66c5e48434ec42839db9fc9dc75362c3": {
      "model_module": "@jupyter-widgets/controls",
      "model_module_version": "1.5.0",
      "model_name": "ButtonModel",
      "state": {
       "description": "Cancel",
       "layout": "IPY_MODEL_97f797fe41e5412182929af4cb7905ab",
       "style": "IPY_MODEL_dd1f13facb8e4d3db7a7f44e2c281a88"
      }
     },
     "66ee43430d9d4cca9988e5b79ad7529f": {
      "model_module": "@jupyter-widgets/controls",
      "model_module_version": "1.5.0",
      "model_name": "DescriptionStyleModel",
      "state": {
       "description_width": "initial"
      }
     },
     "66f1d66adba34db8a985c0eed7dc6ed5": {
      "model_module": "@jupyter-widgets/controls",
      "model_module_version": "1.5.0",
      "model_name": "LabelModel",
      "state": {
       "layout": "IPY_MODEL_ae7a37a341c341948922a0ab2f21cdcd",
       "style": "IPY_MODEL_a0405837559f4cd889d14e6e880928e6",
       "value": "Workspace"
      }
     },
     "66fd34e71d674211823094233c27124e": {
      "model_module": "@jupyter-widgets/controls",
      "model_module_version": "1.5.0",
      "model_name": "DescriptionStyleModel",
      "state": {
       "description_width": ""
      }
     },
     "66fff87a005b47f287cec11c22ff8aaf": {
      "model_module": "@jupyter-widgets/controls",
      "model_module_version": "1.5.0",
      "model_name": "DropdownModel",
      "state": {
       "_options_labels": [
        "C:\\Users\\dominiquef\\Documents\\GIT\\mira\\geoapps\\assets\\Temp",
        "C:\\Users\\dominiquef\\Documents\\GIT\\mira\\geoapps\\assets",
        "C:\\Users\\dominiquef\\Documents\\GIT\\mira\\geoapps",
        "C:\\Users\\dominiquef\\Documents\\GIT\\mira",
        "C:\\Users\\dominiquef\\Documents\\GIT",
        "C:\\Users\\dominiquef\\Documents",
        "C:\\Users\\dominiquef",
        "C:\\Users",
        "C:\\",
        "D:\\",
        "G:\\",
        "\\\\EgnyteDrive\\mirageoscience\\"
       ],
       "index": 0,
       "layout": "IPY_MODEL_495fbad1555c4d5a87291b37603f52d4",
       "style": "IPY_MODEL_1a9ea9f10d514433934ef686a8c59bef"
      }
     },
     "6703f4fb1ab54f289b4fbefc0c1d75dd": {
      "model_module": "@jupyter-widgets/controls",
      "model_module_version": "1.5.0",
      "model_name": "VBoxModel",
      "state": {
       "children": [
        "IPY_MODEL_ff5116f88bff41b08ea2d77745a2b924",
        "IPY_MODEL_22674b57ad99472a9c1b9fceecf0b276"
       ],
       "layout": "IPY_MODEL_0953d178f5dc4798a39de932f9e5e286"
      }
     },
     "6711e6aeb7a646c8a1a478058e145882": {
      "model_module": "@jupyter-widgets/controls",
      "model_module_version": "1.5.0",
      "model_name": "DescriptionStyleModel",
      "state": {
       "description_width": ""
      }
     },
     "674e5e0a6ebf459c8d454ead3a2ee5ab": {
      "model_module": "@jupyter-widgets/base",
      "model_module_version": "1.2.0",
      "model_name": "LayoutModel",
      "state": {
       "margin": "0 0 0 1em"
      }
     },
     "677a351e22fe4156ad944d52b8b04e3b": {
      "model_module": "@jupyter-widgets/base",
      "model_module_version": "1.2.0",
      "model_name": "LayoutModel",
      "state": {}
     },
     "678fa79642c246f386992e7794bd0ce6": {
      "model_module": "@jupyter-widgets/controls",
      "model_module_version": "1.5.0",
      "model_name": "DescriptionStyleModel",
      "state": {
       "description_width": "initial"
      }
     },
     "67dbe864e89c45d7825eff7572cae6ed": {
      "model_module": "@jupyter-widgets/base",
      "model_module_version": "1.2.0",
      "model_name": "LayoutModel",
      "state": {}
     },
     "67f069a3b5634ee7979d525323f1dbff": {
      "model_module": "@jupyter-widgets/controls",
      "model_module_version": "1.5.0",
      "model_name": "DropdownModel",
      "state": {
       "_options_labels": [
        "surface",
        "radial"
       ],
       "description": "Type",
       "index": 0,
       "layout": "IPY_MODEL_875818c06562401590047f9c84273f62",
       "style": "IPY_MODEL_728222d4f1884d67b24e10655cdf6688"
      }
     },
     "68205fd075ce477686f499fc25fc10c7": {
      "model_module": "@jupyter-widgets/controls",
      "model_module_version": "1.5.0",
      "model_name": "ButtonModel",
      "state": {
       "description": "Change",
       "layout": "IPY_MODEL_e6e5ce12f87b4d72b97bc57aba861a79",
       "style": "IPY_MODEL_e505d418519e4315877564ee4b313897"
      }
     },
     "683edfabc56b4e99bcbe82de9ccac54b": {
      "model_module": "@jupyter-widgets/controls",
      "model_module_version": "1.5.0",
      "model_name": "VBoxModel",
      "state": {
       "children": [
        "IPY_MODEL_b90ae7faecac4432a5e3157cd50558aa",
        "IPY_MODEL_6a628c6307f44807ad03f455068e0666"
       ],
       "layout": "IPY_MODEL_ab28c5f0178b4effaa319b83e9b3ac41"
      }
     },
     "6864867bb1b8449a8c8dc0491da97fba": {
      "model_module": "@jupyter-widgets/controls",
      "model_module_version": "1.5.0",
      "model_name": "DescriptionStyleModel",
      "state": {
       "description_width": "initial"
      }
     },
     "686e42764c2549fda970d0bae16de7cf": {
      "model_module": "@jupyter-widgets/base",
      "model_module_version": "1.2.0",
      "model_name": "LayoutModel",
      "state": {}
     },
     "6883d9b451f24161ab33d9350fea8399": {
      "model_module": "@jupyter-widgets/controls",
      "model_module_version": "1.5.0",
      "model_name": "VBoxModel",
      "state": {
       "children": [
        "IPY_MODEL_4877b726fb5e417ca7a85e16ee4b0275",
        "IPY_MODEL_4bd2ddf4eb7849f09e59a5a8184b29e0"
       ],
       "layout": "IPY_MODEL_50c14b8faaac4ebf9ccbd84edc53f9c6"
      }
     },
     "688c402b6ede4df6a33c1217f6c1e0c9": {
      "model_module": "@jupyter-widgets/base",
      "model_module_version": "1.2.0",
      "model_name": "LayoutModel",
      "state": {}
     },
     "6892c808312c4e4da2c7493ff3fb4d4d": {
      "model_module": "@jupyter-widgets/controls",
      "model_module_version": "1.5.0",
      "model_name": "DescriptionStyleModel",
      "state": {
       "description_width": "initial"
      }
     },
     "68b011cf95e548ffa998458019f9527d": {
      "model_module": "@jupyter-widgets/controls",
      "model_module_version": "1.5.0",
      "model_name": "DescriptionStyleModel",
      "state": {
       "description_width": "initial"
      }
     },
     "68b0ab117a1741b6b99ce47677941741": {
      "model_module": "@jupyter-widgets/controls",
      "model_module_version": "1.5.0",
      "model_name": "DescriptionStyleModel",
      "state": {
       "description_width": ""
      }
     },
     "68cd6d8233ed421d9d5260897d2e3462": {
      "model_module": "@jupyter-widgets/base",
      "model_module_version": "1.2.0",
      "model_name": "LayoutModel",
      "state": {}
     },
     "68d2d71578624b2a8bec3ca140537f23": {
      "model_module": "@jupyter-widgets/controls",
      "model_module_version": "1.5.0",
      "model_name": "TextModel",
      "state": {
       "description": "Levels",
       "layout": "IPY_MODEL_ecf5ce54a90149ca887e396a4a9dbc46",
       "style": "IPY_MODEL_fb589368166c4518867184788c0048ae",
       "value": "4.0, 4.0, 4.0"
      }
     },
     "68d5c53ee6f74c6b962d20838e4cde1c": {
      "model_module": "@jupyter-widgets/controls",
      "model_module_version": "1.5.0",
      "model_name": "ButtonStyleModel",
      "state": {}
     },
     "68dce76c26614876971ec640a9169fc3": {
      "model_module": "@jupyter-widgets/base",
      "model_module_version": "1.2.0",
      "model_name": "LayoutModel",
      "state": {}
     },
     "692bb1949ba64226a6e7ba35ee6ecf84": {
      "model_module": "@jupyter-widgets/base",
      "model_module_version": "1.2.0",
      "model_name": "LayoutModel",
      "state": {}
     },
     "694b8cf9a5bd4e639746bf2d41889815": {
      "model_module": "@jupyter-widgets/controls",
      "model_module_version": "1.5.0",
      "model_name": "ButtonStyleModel",
      "state": {}
     },
     "696147ec827c497ba80616442d6812db": {
      "model_module": "@jupyter-widgets/controls",
      "model_module_version": "1.5.0",
      "model_name": "DescriptionStyleModel",
      "state": {
       "description_width": ""
      }
     },
     "696e9d631f934202a26c98f507734140": {
      "model_module": "@jupyter-widgets/controls",
      "model_module_version": "1.5.0",
      "model_name": "DescriptionStyleModel",
      "state": {
       "description_width": ""
      }
     },
     "698334f0159c43f0ada00d52f7119452": {
      "model_module": "@jupyter-widgets/controls",
      "model_module_version": "1.5.0",
      "model_name": "DescriptionStyleModel",
      "state": {
       "description_width": ""
      }
     },
     "698b4b5a69c3436689de22182444d8f6": {
      "model_module": "@jupyter-widgets/controls",
      "model_module_version": "1.5.0",
      "model_name": "VBoxModel",
      "state": {
       "children": [
        "IPY_MODEL_1ec34672c31249afb4a9030f8eeb5ea4",
        "IPY_MODEL_0d2746252beb44cb99118e3e777e81b0",
        "IPY_MODEL_5def68349d5a4ef289e278f7e5325804",
        "IPY_MODEL_f7b89e8a007e44ac8c1a9af325b336ff",
        "IPY_MODEL_db2166ac1ec0438383cea4363dae1106"
       ],
       "layout": "IPY_MODEL_56d255c6495b422e8cd8eab204ffccd6"
      }
     },
     "69959835a4f648d1a07a5d7abf167266": {
      "model_module": "@jupyter-widgets/controls",
      "model_module_version": "1.5.0",
      "model_name": "DescriptionStyleModel",
      "state": {
       "description_width": ""
      }
     },
     "69d733b69cf7410689e2a2ab151a5e39": {
      "model_module": "@jupyter-widgets/controls",
      "model_module_version": "1.5.0",
      "model_name": "DescriptionStyleModel",
      "state": {
       "description_width": ""
      }
     },
     "69e21a17b39c41e0911f420dab641137": {
      "model_module": "@jupyter-widgets/base",
      "model_module_version": "1.2.0",
      "model_name": "LayoutModel",
      "state": {
       "width": "500px"
      }
     },
     "69fd6a76de134673bea7477eaa4e41a7": {
      "model_module": "@jupyter-widgets/controls",
      "model_module_version": "1.5.0",
      "model_name": "TextModel",
      "state": {
       "continuous_update": false,
       "description": "Name:",
       "layout": "IPY_MODEL_5f7a34f39b014ac4b90a3a58bbdef570",
       "style": "IPY_MODEL_cd06ddba5411447abac839008917fff5",
       "value": "Octree_Mesh"
      }
     },
     "6a0b4900c23a41b9898bbad021598a59": {
      "model_module": "@jupyter-widgets/controls",
      "model_module_version": "1.5.0",
      "model_name": "DescriptionStyleModel",
      "state": {
       "description_width": "initial"
      }
     },
     "6a1dd3b43f164a34921928fde36cefab": {
      "model_module": "@jupyter-widgets/controls",
      "model_module_version": "1.5.0",
      "model_name": "DescriptionStyleModel",
      "state": {
       "description_width": "initial"
      }
     },
     "6a628c6307f44807ad03f455068e0666": {
      "model_module": "@jupyter-widgets/controls",
      "model_module_version": "1.5.0",
      "model_name": "VBoxModel",
      "state": {
       "children": [
        "IPY_MODEL_768d83a8e3ad459ca90f598f87e60114",
        "IPY_MODEL_5eefa5d088a04f60a2c90564787b50ce",
        "IPY_MODEL_a1388cbd72a04be7b699006ccf6f9304",
        "IPY_MODEL_b09b2ba4dcfc4e7e95aabff9b211e3ba",
        "IPY_MODEL_a2efbdbed39e48cd80fcd2aa01cebd75"
       ],
       "layout": "IPY_MODEL_6e07eefe56c744ca8f84b516538730b2"
      }
     },
     "6a713c29cf644c9bac49497e571f73ca": {
      "model_module": "@jupyter-widgets/controls",
      "model_module_version": "1.5.0",
      "model_name": "BoxModel",
      "state": {
       "children": [
        "IPY_MODEL_f191966393a845b6b880c2efbeaafd20"
       ],
       "layout": "IPY_MODEL_e6437ab2d47047249cb1306d26fc9f82"
      }
     },
     "6aeaefcfd1a44b1999659b90afc4ab62": {
      "model_module": "@jupyter-widgets/controls",
      "model_module_version": "1.5.0",
      "model_name": "VBoxModel",
      "state": {
       "children": [
        "IPY_MODEL_06ce29992c994a7b998194d4a9c61e20",
        "IPY_MODEL_b6b2bef910ab46cab4e239b875d38755",
        "IPY_MODEL_e8cca102962f4625b34c129b9193f469"
       ],
       "layout": "IPY_MODEL_33b877ce8900400799a7f28a43e20b09"
      }
     },
     "6af66b09a4e741cdb0b907db0477e9a4": {
      "model_module": "@jupyter-widgets/controls",
      "model_module_version": "1.5.0",
      "model_name": "TextModel",
      "state": {
       "description": "Levels",
       "layout": "IPY_MODEL_2ba7fd034c5f48569be1f3a35e323023",
       "style": "IPY_MODEL_b7b282f746004e0ab8a8364eb11e263f",
       "value": "4, 4, 4"
      }
     },
     "6afa2a8be8434bc98095232e4432e8e4": {
      "model_module": "@jupyter-widgets/controls",
      "model_module_version": "1.5.0",
      "model_name": "FloatTextModel",
      "state": {
       "description": "Distance",
       "layout": "IPY_MODEL_f9db73d39be445caaf6bbfa1050bb587",
       "step": null,
       "style": "IPY_MODEL_2baae3b82b7444359b15c61c05ed3dfb",
       "value": 1200
      }
     },
     "6b22a0a11e00432c9e494c819282e27e": {
      "model_module": "@jupyter-widgets/controls",
      "model_module_version": "1.5.0",
      "model_name": "GridBoxModel",
      "state": {
       "children": [
        "IPY_MODEL_c6f8b4259f2f4ce581a30b6be5bfe451",
        "IPY_MODEL_f55dd6d7e78d4869bd8ff86006d42c3d",
        "IPY_MODEL_ccc25490511f4bdfa3c58afde27d7d57"
       ],
       "layout": "IPY_MODEL_151a176d66e3472381c132db5032c0c3"
      }
     },
     "6b2addbeb6ec460e9cf51a1bf78227a0": {
      "model_module": "@jupyter-widgets/base",
      "model_module_version": "1.2.0",
      "model_name": "LayoutModel",
      "state": {}
     },
     "6b3d31958a704c369d794366c67ba082": {
      "model_module": "@jupyter-widgets/controls",
      "model_module_version": "1.5.0",
      "model_name": "DescriptionStyleModel",
      "state": {
       "description_width": "initial"
      }
     },
     "6b509220814140b2b577249d387084cb": {
      "model_module": "@jupyter-widgets/base",
      "model_module_version": "1.2.0",
      "model_name": "LayoutModel",
      "state": {
       "display": "none",
       "min_width": "6em",
       "width": "6em"
      }
     },
     "6b5497719ed74f2bad49975faede1dc5": {
      "model_module": "@jupyter-widgets/controls",
      "model_module_version": "1.5.0",
      "model_name": "ButtonModel",
      "state": {
       "button_style": "danger",
       "description": "Create",
       "icon": "check",
       "layout": "IPY_MODEL_273ad26c5a484d57a49a3a47c727cb93",
       "style": "IPY_MODEL_4ed3dd98fd824e92be2b4e185a38eab9",
       "tooltip": "Run computation"
      }
     },
     "6b5a8b6022df411ebc9a249fa269cc13": {
      "model_module": "@jupyter-widgets/base",
      "model_module_version": "1.2.0",
      "model_name": "LayoutModel",
      "state": {}
     },
     "6b79539c6589499885e243817c28b597": {
      "model_module": "@jupyter-widgets/controls",
      "model_module_version": "1.5.0",
      "model_name": "VBoxModel",
      "state": {
       "children": [
        "IPY_MODEL_45a54c647d694d7384625b55f648b915",
        "IPY_MODEL_3ed4de597c514e7192972688cde769d9"
       ],
       "layout": "IPY_MODEL_821e4a53189143569fcfa6652cbf529b"
      }
     },
     "6b865582bb524178bee8eef384c0d0d0": {
      "model_module": "@jupyter-widgets/controls",
      "model_module_version": "1.5.0",
      "model_name": "DropdownModel",
      "state": {
       "_options_labels": [
        "",
        "CoordinateTransformation/Data_TEM_pseudo3DEPSG_4326",
        "ISO/Iso_Iteration_7_model_5_00e-03",
        "ISO/Iso_Iteration_7_model_1_00e-02",
        "ISO/Iso_Iteration_7_model_1_50e-02",
        "ISO/Iso_Iteration_7_model_2_50e-03",
        "ISO/Iso_Iteration_7_model_2_00e-02",
        "Ore/39_Ore_Callinan",
        "Ore/38_Ore_Dan_Owens",
        "Ore/40_Ore_FlinFlon",
        "Workspace/Inversion_VTEM_Model",
        "Workspace/CDI_VTEM_model",
        "Workspace/Data_FEM_pseudo3D",
        "Workspace/geochem",
        "Workspace/Inversion_DIGHEM_Model",
        "Workspace/Topography",
        "Workspace/Data_TEM_pseudo3D",
        "Workspace/Data_ZTEM",
        "Workspace/Mesh"
       ],
       "description": "Core hull extent:",
       "index": 12,
       "layout": "IPY_MODEL_06787df13bc942dea24b6db38e27a202",
       "style": "IPY_MODEL_1b0f00d51ef940089f3f67b27ad2996e"
      }
     },
     "6b9ad387b4d345b5b2c1f0e220c36abc": {
      "model_module": "@jupyter-widgets/base",
      "model_module_version": "1.2.0",
      "model_name": "LayoutModel",
      "state": {
       "display": "none"
      }
     },
     "6bc0c022563a4a26bdb470746dfa6c6c": {
      "model_module": "@jupyter-widgets/controls",
      "model_module_version": "1.5.0",
      "model_name": "DescriptionStyleModel",
      "state": {
       "description_width": ""
      }
     },
     "6bd90d158d794d108b60abfbdec1a526": {
      "model_module": "@jupyter-widgets/controls",
      "model_module_version": "1.5.0",
      "model_name": "DropdownModel",
      "state": {
       "_options_labels": [
        "C:\\Users\\dominiquef\\Documents\\GIT\\mira\\geoapps\\docs\\content\\applications",
        "C:\\Users\\dominiquef\\Documents\\GIT\\mira\\geoapps\\docs\\content",
        "C:\\Users\\dominiquef\\Documents\\GIT\\mira\\geoapps\\docs",
        "C:\\Users\\dominiquef\\Documents\\GIT\\mira\\geoapps",
        "C:\\Users\\dominiquef\\Documents\\GIT\\mira",
        "C:\\Users\\dominiquef\\Documents\\GIT",
        "C:\\Users\\dominiquef\\Documents",
        "C:\\Users\\dominiquef",
        "C:\\Users",
        "C:\\",
        "D:\\",
        "Z:\\"
       ],
       "index": 0,
       "layout": "IPY_MODEL_1e32e47785dc427c9720052754b86085",
       "style": "IPY_MODEL_34566ced21de45a8afd928c6d9c6eeda"
      }
     },
     "6bdd4440befa40df973bcf2919a1db84": {
      "model_module": "@jupyter-widgets/base",
      "model_module_version": "1.2.0",
      "model_name": "LayoutModel",
      "state": {}
     },
     "6be10ae7f1a34604941bb9e1d155f489": {
      "model_module": "@jupyter-widgets/controls",
      "model_module_version": "1.5.0",
      "model_name": "SelectModel",
      "state": {
       "_options_labels": [
        "📁 ..",
        "📁 SimPEG_PFInversion",
        "📁 Temp",
        "📁 dask-worker-space",
        "DC_INV.ipynb",
        "DC_INV.py",
        "FlinFlon.geoh5",
        "FlinFlon_dcip.geoh5",
        "HelloWorld.ui.json",
        "MtDore_TMI.geoh5",
        "PeakFinder.ui.json",
        "VTEM_model.mod",
        "input.ui.json",
        "options_tree.json"
       ],
       "index": 6,
       "layout": "IPY_MODEL_13b6bc825e4a486eb9d0c390574672d3",
       "rows": 8,
       "style": "IPY_MODEL_74e7a5ef67eb43b589b65cb2f1f8f650"
      }
     },
     "6c0ff721b26041cc8bcd98e16b9d8f2b": {
      "model_module": "@jupyter-widgets/controls",
      "model_module_version": "1.5.0",
      "model_name": "VBoxModel",
      "state": {
       "children": [
        "IPY_MODEL_c39b8e82ec0b4f088761d8b6025b2009",
        "IPY_MODEL_c6b5c88c3b45401690346e4cb575739e",
        "IPY_MODEL_51c330067d6c4cbc92d2e5987e716102"
       ],
       "layout": "IPY_MODEL_c0287c65f2b542768c1a0fb2977ce1fc"
      }
     },
     "6c332cf4c22b457e810a782ad21485d8": {
      "model_module": "@jupyter-widgets/base",
      "model_module_version": "1.2.0",
      "model_name": "LayoutModel",
      "state": {}
     },
     "6c44974c53704a979d77f0f19bad57dc": {
      "model_module": "@jupyter-widgets/controls",
      "model_module_version": "1.5.0",
      "model_name": "DescriptionStyleModel",
      "state": {
       "description_width": ""
      }
     },
     "6c54f8d10ee041c09a2aa8b6f526233e": {
      "model_module": "@jupyter-widgets/base",
      "model_module_version": "1.2.0",
      "model_name": "LayoutModel",
      "state": {}
     },
     "6c5f1d30f2ff495fb6c9570e4c102a76": {
      "model_module": "@jupyter-widgets/controls",
      "model_module_version": "1.5.0",
      "model_name": "ButtonModel",
      "state": {
       "button_style": "danger",
       "description": "Create",
       "icon": "check",
       "layout": "IPY_MODEL_6eda01ee2633423b83265d851be6832d",
       "style": "IPY_MODEL_a6aad8b6f0ea462fa9d597c78bc59473",
       "tooltip": "Run computation"
      }
     },
     "6c66a2cfe4a246d791d15f36c46a9be2": {
      "model_module": "@jupyter-widgets/controls",
      "model_module_version": "1.5.0",
      "model_name": "DescriptionStyleModel",
      "state": {
       "description_width": "initial"
      }
     },
     "6ca403c07f794d468ff74645d4e2af05": {
      "model_module": "@jupyter-widgets/controls",
      "model_module_version": "1.5.0",
      "model_name": "DescriptionStyleModel",
      "state": {
       "description_width": ""
      }
     },
     "6cbdcae3b9304cadbfe8c4400bc6b78e": {
      "model_module": "@jupyter-widgets/controls",
      "model_module_version": "1.5.0",
      "model_name": "DescriptionStyleModel",
      "state": {
       "description_width": "initial"
      }
     },
     "6cd66e4416eb478a813ffac078c293f3": {
      "model_module": "@jupyter-widgets/controls",
      "model_module_version": "1.5.0",
      "model_name": "ButtonModel",
      "state": {
       "description": "Cancel",
       "layout": "IPY_MODEL_d9da190859ee491fb5ae7798b12b753a",
       "style": "IPY_MODEL_f574a000fe8a498a94f78b647c9e81e5"
      }
     },
     "6ce2470f17b143d98f81af307d6b2700": {
      "model_module": "@jupyter-widgets/controls",
      "model_module_version": "1.5.0",
      "model_name": "FloatTextModel",
      "state": {
       "description": "Distance",
       "layout": "IPY_MODEL_66644eb6a1e74c96998ce622cf17489a",
       "step": null,
       "style": "IPY_MODEL_d1a1b81ce5ce471284127a83610f34aa",
       "value": 1000
      }
     },
     "6ce823de23c84bf5b13f9c10de378265": {
      "model_module": "@jupyter-widgets/controls",
      "model_module_version": "1.5.0",
      "model_name": "DescriptionStyleModel",
      "state": {
       "description_width": "initial"
      }
     },
     "6cede3220e544347829b520c7bfc5c79": {
      "model_module": "@jupyter-widgets/controls",
      "model_module_version": "1.5.0",
      "model_name": "DescriptionStyleModel",
      "state": {
       "description_width": ""
      }
     },
     "6cf8cd1827034bbfaf59f4aa4fec29a9": {
      "model_module": "@jupyter-widgets/controls",
      "model_module_version": "1.5.0",
      "model_name": "VBoxModel",
      "state": {
       "children": [
        "IPY_MODEL_2a3f137c35924f4fa30859f7ef09f140",
        "IPY_MODEL_069d9dd0bd364cd19d8b91ebdc76a324"
       ],
       "layout": "IPY_MODEL_21e3daa473684454a4b9f6a97c45010a"
      }
     },
     "6cfe2f362f314f9ea5eddc66d35fc144": {
      "model_module": "@jupyter-widgets/controls",
      "model_module_version": "1.5.0",
      "model_name": "HBoxModel",
      "state": {
       "children": [
        "IPY_MODEL_2962a5ddeb1c4fe3a599554279f23a17",
        "IPY_MODEL_f577751588d349e5b246d666b7123871"
       ],
       "layout": "IPY_MODEL_76ec50d3c264427893363b7d490c4679"
      }
     },
     "6d0ecb2c5aa94f03a8d6c57144311119": {
      "model_module": "@jupyter-widgets/base",
      "model_module_version": "1.2.0",
      "model_name": "LayoutModel",
      "state": {}
     },
     "6d15e136db014f7ab252f7d455709635": {
      "model_module": "@jupyter-widgets/controls",
      "model_module_version": "1.5.0",
      "model_name": "ButtonStyleModel",
      "state": {}
     },
     "6d1b09aecb4a484990da9b8bf144d181": {
      "model_module": "@jupyter-widgets/controls",
      "model_module_version": "1.5.0",
      "model_name": "ButtonStyleModel",
      "state": {}
     },
     "6d25d9154b674052a56d75b00cf28898": {
      "model_module": "@jupyter-widgets/base",
      "model_module_version": "1.2.0",
      "model_name": "LayoutModel",
      "state": {
       "width": "auto"
      }
     },
     "6d3eab93fbef47e3b0e1cdf3ef20a530": {
      "model_module": "@jupyter-widgets/base",
      "model_module_version": "1.2.0",
      "model_name": "LayoutModel",
      "state": {
       "margin": "0 0 0 1em"
      }
     },
     "6d4c9180ed034c928755aa0f0f11f95b": {
      "model_module": "@jupyter-widgets/base",
      "model_module_version": "1.2.0",
      "model_name": "LayoutModel",
      "state": {}
     },
     "6d5630fb66754e519fcb5ea4564fb798": {
      "model_module": "@jupyter-widgets/controls",
      "model_module_version": "1.5.0",
      "model_name": "TextModel",
      "state": {
       "continuous_update": false,
       "description": "Name:",
       "layout": "IPY_MODEL_6f1caff44a2044798c570e1841f064ff",
       "style": "IPY_MODEL_c2b983044009403ea4948dbdcccb9ee6",
       "value": "Octree_Mesh"
      }
     },
     "6d601d49d7a943f1aabb0c5d2edcf5a7": {
      "model_module": "@jupyter-widgets/base",
      "model_module_version": "1.2.0",
      "model_name": "LayoutModel",
      "state": {}
     },
     "6d7188ee18ac4674909b5b7f0742cc55": {
      "model_module": "@jupyter-widgets/controls",
      "model_module_version": "1.5.0",
      "model_name": "DescriptionStyleModel",
      "state": {
       "description_width": ""
      }
     },
     "6d9bf373797d44dc852a405560702059": {
      "model_module": "@jupyter-widgets/base",
      "model_module_version": "1.2.0",
      "model_name": "LayoutModel",
      "state": {
       "width": "auto"
      }
     },
     "6dddbdcff68740bb8f982c0c6ee64bf4": {
      "model_module": "@jupyter-widgets/controls",
      "model_module_version": "1.5.0",
      "model_name": "ButtonModel",
      "state": {
       "description": "Create copy:",
       "layout": "IPY_MODEL_cea62aa2117245d59e011c774bfa0613",
       "style": "IPY_MODEL_bf83d6af8d7b45b8aac312273d82ee2a"
      }
     },
     "6e07eefe56c744ca8f84b516538730b2": {
      "model_module": "@jupyter-widgets/base",
      "model_module_version": "1.2.0",
      "model_name": "LayoutModel",
      "state": {
       "border": "solid"
      }
     },
     "6e0ac9c1cf8f451e8ade3a816e34acb7": {
      "model_module": "@jupyter-widgets/controls",
      "model_module_version": "1.5.0",
      "model_name": "FloatTextModel",
      "state": {
       "description": "Distance",
       "layout": "IPY_MODEL_a13f8e8bb2734a23a919eb33ec0cb20a",
       "step": null,
       "style": "IPY_MODEL_56dbd222d7014d5295ce35e2f6f42615",
       "value": 1000
      }
     },
     "6e1dc833e97c439db504180cddba5340": {
      "model_module": "@jupyter-widgets/base",
      "model_module_version": "1.2.0",
      "model_name": "LayoutModel",
      "state": {
       "grid_area": "dircontent",
       "width": "auto"
      }
     },
     "6e34a9af0c7245f896782532a56e0bc1": {
      "model_module": "@jupyter-widgets/controls",
      "model_module_version": "1.5.0",
      "model_name": "DescriptionStyleModel",
      "state": {
       "description_width": "initial"
      }
     },
     "6e361686aa1447dab337aedece93de84": {
      "model_module": "@jupyter-widgets/base",
      "model_module_version": "1.2.0",
      "model_name": "LayoutModel",
      "state": {}
     },
     "6e5db0e3fa6d4de0a09bd7cbf4f85f66": {
      "model_module": "@jupyter-widgets/base",
      "model_module_version": "1.2.0",
      "model_name": "LayoutModel",
      "state": {}
     },
     "6e7ed268ba58493babea755586cd815d": {
      "model_module": "@jupyter-widgets/controls",
      "model_module_version": "1.5.0",
      "model_name": "VBoxModel",
      "state": {
       "children": [
        "IPY_MODEL_aebe95d16edd46daa5bc11f2e5cc2fbf",
        "IPY_MODEL_87ef01821bdb4b1dab39295bf9010948",
        "IPY_MODEL_ae0adf3e443d4d6399394a66c9608238"
       ],
       "layout": "IPY_MODEL_65393c27a42d458aa8be577b9493582b"
      }
     },
     "6e88551537f1432b9d852e71e7cb0eb9": {
      "model_module": "@jupyter-widgets/controls",
      "model_module_version": "1.5.0",
      "model_name": "DescriptionStyleModel",
      "state": {
       "description_width": ""
      }
     },
     "6e9f1dcf772c4bf58ffd7e95f291d21f": {
      "model_module": "@jupyter-widgets/base",
      "model_module_version": "1.2.0",
      "model_name": "LayoutModel",
      "state": {}
     },
     "6ec7a87f5dfc45528ae4381307e450b7": {
      "model_module": "@jupyter-widgets/controls",
      "model_module_version": "1.5.0",
      "model_name": "VBoxModel",
      "state": {
       "children": [
        "IPY_MODEL_73a5b556c64647ed925d6247b5f667a0",
        "IPY_MODEL_1a09531fe8424e87a9552d6c45c63a8f",
        "IPY_MODEL_99305026c639406e88f8b974973bcee1"
       ],
       "layout": "IPY_MODEL_78f5f40dbaf74481a0596a7376b9642b"
      }
     },
     "6eda01ee2633423b83265d851be6832d": {
      "model_module": "@jupyter-widgets/base",
      "model_module_version": "1.2.0",
      "model_name": "LayoutModel",
      "state": {}
     },
     "6eda371b4dc5422ea2f2f3fd5b665f45": {
      "model_module": "@jupyter-widgets/controls",
      "model_module_version": "1.5.0",
      "model_name": "FloatTextModel",
      "state": {
       "description": "Vertical",
       "layout": "IPY_MODEL_1989dde5949f43368db8865fb7e19255",
       "step": null,
       "style": "IPY_MODEL_4abdb914849544c2a89bf832b031e545",
       "value": 25
      }
     },
     "6ee39a25234e4b71a29c19be751850d6": {
      "model_module": "@jupyter-widgets/controls",
      "model_module_version": "1.5.0",
      "model_name": "HBoxModel",
      "state": {
       "children": [
        "IPY_MODEL_489773d34c65456f9e7d265a8c644299",
        "IPY_MODEL_a16930d0fe50426dbf764e35d7e99bda"
       ],
       "layout": "IPY_MODEL_37ed220b30cc49b48bd8e8fd2e6428a2"
      }
     },
     "6f1a7e1e8ad84b0f861b0c8d0e1fef2c": {
      "model_module": "@jupyter-widgets/controls",
      "model_module_version": "1.5.0",
      "model_name": "BoxModel",
      "state": {
       "children": [
        "IPY_MODEL_a1a1604daed54e51b2c6032da03d48a9"
       ],
       "layout": "IPY_MODEL_912bbdf83e1c4be49d182977958ea656"
      }
     },
     "6f1caff44a2044798c570e1841f064ff": {
      "model_module": "@jupyter-widgets/base",
      "model_module_version": "1.2.0",
      "model_name": "LayoutModel",
      "state": {}
     },
     "6f329f538462434dbdb4f497d5267ba5": {
      "model_module": "@jupyter-widgets/base",
      "model_module_version": "1.2.0",
      "model_name": "LayoutModel",
      "state": {}
     },
     "6f5ca08399cc4dbd9cc26e0ffbaf669d": {
      "model_module": "@jupyter-widgets/controls",
      "model_module_version": "1.5.0",
      "model_name": "ButtonModel",
      "state": {
       "description": "Create copy:",
       "layout": "IPY_MODEL_dd75e4b2cc584ba895e9cec1f4372b83",
       "style": "IPY_MODEL_798e21bf219b401a90752edd55e74e47"
      }
     },
     "6f6d20838b9749ad89b2f020657ae0ff": {
      "model_module": "@jupyter-widgets/base",
      "model_module_version": "1.2.0",
      "model_name": "LayoutModel",
      "state": {}
     },
     "6f7020d833654abcbb1fb5217a9a0c06": {
      "model_module": "@jupyter-widgets/controls",
      "model_module_version": "1.5.0",
      "model_name": "DescriptionStyleModel",
      "state": {
       "description_width": "initial"
      }
     },
     "6f8cd3009bd84ee2a1fe3c97b19a4ccd": {
      "model_module": "@jupyter-widgets/controls",
      "model_module_version": "1.5.0",
      "model_name": "DescriptionStyleModel",
      "state": {
       "description_width": ""
      }
     },
     "6f8e264adeaa454e92ee5ab97396f3e6": {
      "model_module": "@jupyter-widgets/base",
      "model_module_version": "1.2.0",
      "model_name": "LayoutModel",
      "state": {}
     },
     "6fac92ae14fe4bd39886dfcffd993705": {
      "model_module": "@jupyter-widgets/controls",
      "model_module_version": "1.5.0",
      "model_name": "ButtonStyleModel",
      "state": {}
     },
     "6fae75f5103640b299471cc54cf187f2": {
      "model_module": "@jupyter-widgets/controls",
      "model_module_version": "1.5.0",
      "model_name": "HBoxModel",
      "state": {
       "children": [
        "IPY_MODEL_2b4d034bee1e4974b1bf97da398080d3",
        "IPY_MODEL_66c5e48434ec42839db9fc9dc75362c3",
        "IPY_MODEL_aae49a1c3dd4482d8506764790e6fcd4"
       ],
       "layout": "IPY_MODEL_b8695f4ce899424faa68524b4d2f4d19"
      }
     },
     "6ff5dd9ce9704afd93a590456a08664b": {
      "model_module": "@jupyter-widgets/base",
      "model_module_version": "1.2.0",
      "model_name": "LayoutModel",
      "state": {
       "width": "auto"
      }
     },
     "6ffd93bc6eb24213a02dd17136016bb5": {
      "model_module": "@jupyter-widgets/controls",
      "model_module_version": "1.5.0",
      "model_name": "DescriptionStyleModel",
      "state": {
       "description_width": ""
      }
     },
     "6ffecac02d224599aa57b19e48390fac": {
      "model_module": "@jupyter-widgets/base",
      "model_module_version": "1.2.0",
      "model_name": "LayoutModel",
      "state": {
       "display": "none",
       "min_width": "6em",
       "width": "6em"
      }
     },
     "70183160131a4e429dadc5ab784cf56b": {
      "model_module": "@jupyter-widgets/controls",
      "model_module_version": "1.5.0",
      "model_name": "DescriptionStyleModel",
      "state": {
       "description_width": "initial"
      }
     },
     "702e2a52b1054a69b032bf3a63021e30": {
      "model_module": "@jupyter-widgets/controls",
      "model_module_version": "1.5.0",
      "model_name": "DescriptionStyleModel",
      "state": {
       "description_width": "initial"
      }
     },
     "707cb5cc8844407888262583cc8c63e8": {
      "model_module": "@jupyter-widgets/base",
      "model_module_version": "1.2.0",
      "model_name": "LayoutModel",
      "state": {}
     },
     "708365c33957429c9c963ed2ee249bf2": {
      "model_module": "@jupyter-widgets/controls",
      "model_module_version": "1.5.0",
      "model_name": "ButtonModel",
      "state": {
       "description": "Change",
       "layout": "IPY_MODEL_eef942f221fd45c29ef4227fe730fe07",
       "style": "IPY_MODEL_95524bb86ca5459b84f1c0b8a5ce172b"
      }
     },
     "709bf62ebbcb4a179b42e48a77470271": {
      "model_module": "@jupyter-widgets/controls",
      "model_module_version": "1.5.0",
      "model_name": "DropdownModel",
      "state": {
       "_options_labels": [
        "surface",
        "radial"
       ],
       "description": "Type",
       "index": 0,
       "layout": "IPY_MODEL_dae47057c60b4631a19368ca446ef903",
       "style": "IPY_MODEL_045975fea9c3470e9524e05800b8b1b9"
      }
     },
     "70b4687ee72a40cf860e776c3280b376": {
      "model_module": "@jupyter-widgets/base",
      "model_module_version": "1.2.0",
      "model_name": "LayoutModel",
      "state": {}
     },
     "70bc8c540e754a00bb73ee197f17f8a9": {
      "model_module": "@jupyter-widgets/controls",
      "model_module_version": "1.5.0",
      "model_name": "DescriptionStyleModel",
      "state": {
       "description_width": "initial"
      }
     },
     "70c7dc2db22942f28e5925cbf9b1fcbb": {
      "model_module": "@jupyter-widgets/base",
      "model_module_version": "1.2.0",
      "model_name": "LayoutModel",
      "state": {
       "grid_area": "pathlist",
       "width": "auto"
      }
     },
     "70e746604170485f8f25c5804ba00ef0": {
      "model_module": "@jupyter-widgets/controls",
      "model_module_version": "1.5.0",
      "model_name": "DescriptionStyleModel",
      "state": {
       "description_width": ""
      }
     },
     "70ef41d4b55941c7bb6567810cd15ded": {
      "model_module": "@jupyter-widgets/controls",
      "model_module_version": "1.5.0",
      "model_name": "DescriptionStyleModel",
      "state": {
       "description_width": "initial"
      }
     },
     "70fe7466dff343bb8f738e749224ad16": {
      "model_module": "@jupyter-widgets/controls",
      "model_module_version": "1.5.0",
      "model_name": "DescriptionStyleModel",
      "state": {
       "description_width": ""
      }
     },
     "7154963bdf804305bdbd28d1a71ea141": {
      "model_module": "@jupyter-widgets/controls",
      "model_module_version": "1.5.0",
      "model_name": "DescriptionStyleModel",
      "state": {
       "description_width": ""
      }
     },
     "715672c96e6b4be69398073d302ca609": {
      "model_module": "@jupyter-widgets/controls",
      "model_module_version": "1.5.0",
      "model_name": "DescriptionStyleModel",
      "state": {
       "description_width": "initial"
      }
     },
     "7166d23a17a6403dacd3dd022be6eb49": {
      "model_module": "@jupyter-widgets/controls",
      "model_module_version": "1.5.0",
      "model_name": "ButtonStyleModel",
      "state": {}
     },
     "72181aea6efc46e18ad5d7c80cebf010": {
      "model_module": "@jupyter-widgets/controls",
      "model_module_version": "1.5.0",
      "model_name": "HBoxModel",
      "state": {
       "children": [
        "IPY_MODEL_ce880b669130419d8b49b052c5ef71c9",
        "IPY_MODEL_7e32895a7cc8458ca4848ae9198c85d8",
        "IPY_MODEL_9615fd6cc64f4ce19b8655daa3641883"
       ],
       "layout": "IPY_MODEL_d49d453fd71e4c9f906acbc7e9272d45"
      }
     },
     "725ad657d58b455786ffab957f6a16b5": {
      "model_module": "@jupyter-widgets/base",
      "model_module_version": "1.2.0",
      "model_name": "LayoutModel",
      "state": {
       "display": "none",
       "min_width": "6em",
       "width": "6em"
      }
     },
     "7274db5a3e1949299ad169f4f59fbaa6": {
      "model_module": "@jupyter-widgets/controls",
      "model_module_version": "1.5.0",
      "model_name": "DescriptionStyleModel",
      "state": {
       "description_width": "initial"
      }
     },
     "727885aa0a5447eb8745dcf860e163e3": {
      "model_module": "@jupyter-widgets/controls",
      "model_module_version": "1.5.0",
      "model_name": "VBoxModel",
      "state": {
       "children": [
        "IPY_MODEL_a1520480be6f40c8a7b129b57c8b55c4",
        "IPY_MODEL_41a8bf979d094dec8c4ae333856b4539",
        "IPY_MODEL_e128370c8de84a42a58118517d11db84"
       ],
       "layout": "IPY_MODEL_69e21a17b39c41e0911f420dab641137"
      }
     },
     "728222d4f1884d67b24e10655cdf6688": {
      "model_module": "@jupyter-widgets/controls",
      "model_module_version": "1.5.0",
      "model_name": "DescriptionStyleModel",
      "state": {
       "description_width": "initial"
      }
     },
     "72974d8a124f41f9bc27e4c11418e888": {
      "model_module": "@jupyter-widgets/controls",
      "model_module_version": "1.5.0",
      "model_name": "DescriptionStyleModel",
      "state": {
       "description_width": ""
      }
     },
     "729c070bbb5f44b9afd8c45b6bafad72": {
      "model_module": "@jupyter-widgets/base",
      "model_module_version": "1.2.0",
      "model_name": "LayoutModel",
      "state": {
       "grid_area": "dircontent",
       "width": "auto"
      }
     },
     "729eacb035684f3c8427c763272c7cf7": {
      "model_module": "@jupyter-widgets/base",
      "model_module_version": "1.2.0",
      "model_name": "LayoutModel",
      "state": {}
     },
     "72a3f8713ade4d309fc2d21bd71d5f52": {
      "model_module": "@jupyter-widgets/controls",
      "model_module_version": "1.5.0",
      "model_name": "HTMLModel",
      "state": {
       "layout": "IPY_MODEL_5ae93bc1b24e4562a4525c5c75aa213b",
       "style": "IPY_MODEL_bf5124e047924b258e9057301f8dc30b"
      }
     },
     "72a9424202ba4863b418fd4aa67a9c82": {
      "model_module": "@jupyter-widgets/controls",
      "model_module_version": "1.5.0",
      "model_name": "LabelModel",
      "state": {
       "layout": "IPY_MODEL_3cebd538b61a450ab378c4e0c36357f8",
       "style": "IPY_MODEL_0e77456f61924a64b3c25c725046dca5",
       "value": "Monitoring folder"
      }
     },
     "72b0c754f6044b99b94934bc8d73bec0": {
      "model_module": "@jupyter-widgets/controls",
      "model_module_version": "1.5.0",
      "model_name": "DropdownModel",
      "state": {
       "_options_labels": [
        "",
        "Ore/39_Ore_Callinan",
        "Ore/38_Ore_Dan_Owens",
        "Ore/40_Ore_FlinFlon",
        "Workspace/Inversion_VTEM_Model",
        "Workspace/CDI_VTEM_model",
        "Workspace/Data_FEM_pseudo3D",
        "Workspace/geochem",
        "Workspace/Inversion_DIGHEM_Model",
        "Workspace/Topography",
        "Workspace/Data_TEM_pseudo3D",
        "Workspace/Data_ZTEM",
        "Workspace/Mesh"
       ],
       "description": "Object",
       "index": 6,
       "layout": "IPY_MODEL_525f265374c44e488b410bef22efc521",
       "style": "IPY_MODEL_a4b178db90fb401eb9836909f0254900"
      }
     },
     "72d28b0216c04cb5b1ff25b6170f5919": {
      "model_module": "@jupyter-widgets/controls",
      "model_module_version": "1.5.0",
      "model_name": "FloatTextModel",
      "state": {
       "description": "Northing",
       "layout": "IPY_MODEL_ec9ee09fc11c4674baa34be2f9535059",
       "step": null,
       "style": "IPY_MODEL_036417679a0e474d82b844232edda2f5",
       "value": 25
      }
     },
     "72d2fd1cbedd41cababc6da45d7c66e6": {
      "model_module": "@jupyter-widgets/controls",
      "model_module_version": "1.5.0",
      "model_name": "DescriptionStyleModel",
      "state": {
       "description_width": ""
      }
     },
     "72e9072c18244338ac9a36f02a86b4fe": {
      "model_module": "@jupyter-widgets/base",
      "model_module_version": "1.2.0",
      "model_name": "LayoutModel",
      "state": {}
     },
     "72f24a5a855c48a6a9606d47c710e46e": {
      "model_module": "@jupyter-widgets/base",
      "model_module_version": "1.2.0",
      "model_name": "LayoutModel",
      "state": {}
     },
     "7306c76b10414292babc1caf57528bac": {
      "model_module": "@jupyter-widgets/base",
      "model_module_version": "1.2.0",
      "model_name": "LayoutModel",
      "state": {}
     },
     "731e0c3133614cb092246f9bbc5dee36": {
      "model_module": "@jupyter-widgets/controls",
      "model_module_version": "1.5.0",
      "model_name": "ButtonStyleModel",
      "state": {}
     },
     "73296762f21f42b6b5b69fa55a8076e2": {
      "model_module": "@jupyter-widgets/controls",
      "model_module_version": "1.5.0",
      "model_name": "LabelModel",
      "state": {
       "layout": "IPY_MODEL_a5cbb527744749dba193a5000eb61173",
       "style": "IPY_MODEL_3a622eb08a78409ca1b12be43025a8bc",
       "value": "Refinement A"
      }
     },
     "732a0a6efdea40bb83efa7497da9e533": {
      "model_module": "@jupyter-widgets/controls",
      "model_module_version": "1.5.0",
      "model_name": "DescriptionStyleModel",
      "state": {
       "description_width": "initial"
      }
     },
     "732fddc45ca647399b9a59a7b1b73420": {
      "model_module": "@jupyter-widgets/controls",
      "model_module_version": "1.5.0",
      "model_name": "DescriptionStyleModel",
      "state": {
       "description_width": ""
      }
     },
     "7359ba3b2edb4a9fbbf9e0d1f85fdc40": {
      "model_module": "@jupyter-widgets/controls",
      "model_module_version": "1.5.0",
      "model_name": "ButtonModel",
      "state": {
       "button_style": "danger",
       "description": "Create",
       "icon": "check",
       "layout": "IPY_MODEL_81130403c5154702a5a66f5a07fbe473",
       "style": "IPY_MODEL_105dbf37c773497996454cc46723af15",
       "tooltip": "Run computation"
      }
     },
     "73616c7a278c4cc7944b69921b0dc685": {
      "model_module": "@jupyter-widgets/base",
      "model_module_version": "1.2.0",
      "model_name": "LayoutModel",
      "state": {}
     },
     "736d3198e4b44df19165dd51ea26da35": {
      "model_module": "@jupyter-widgets/controls",
      "model_module_version": "1.5.0",
      "model_name": "DescriptionStyleModel",
      "state": {
       "description_width": "initial"
      }
     },
     "73752c1b377144b1912af29a8822f1fc": {
      "model_module": "@jupyter-widgets/controls",
      "model_module_version": "1.5.0",
      "model_name": "DropdownModel",
      "state": {
       "_options_labels": [
        "",
        "CoordinateTransformation/Data_TEM_pseudo3DEPSG_4326",
        "CoordinateTransformation/Data_TEM_pseudo3DEPSG_4326",
        "Faults_Dikes/fault_splay1",
        "Faults_Dikes/fault_Cliff_Lake",
        "Faults_Dikes/fault_Other_FlinFlon",
        "Faults_Dikes/fault_Club_Lake_splay",
        "Faults_Dikes/fault_Catherine_splay2",
        "Faults_Dikes/fault_Birch_View",
        "Faults_Dikes/fault_Dion_Lake",
        "Faults_Dikes/fault_FlinFlon_splay",
        "Faults_Dikes/fault_West_Mandy_Road",
        "Faults_Dikes/fault_Channing",
        "Faults_Dikes/fault_Ross_Lake",
        "Faults_Dikes/fault_Louis_Hidden",
        "Faults_Dikes/fault_Lake_View_thrust",
        "Faults_Dikes/contact_Schist_Lake",
        "Faults_Dikes/fault_Burley_Lake",
        "Faults_Dikes/fault_Dion_Lake_splay",
        "Faults_Dikes/fault_Green_Lake",
        "Faults_Dikes/fault_FlinFlon",
        "Faults_Dikes/fault_Catherine_splay1",
        "Faults_Dikes/fault_East_Mandy_Road",
        "Faults_Dikes/fault_Other_FlinFlon_South",
        "Faults_Dikes/fault_Catherine_splay4",
        "Faults_Dikes/contact_Stitt_Island",
        "Faults_Dikes/fault_Club_Lake",
        "Faults_Dikes/fault_Tailing_Pond",
        "Horizons/35_Hidden_Reservoir_Hr5",
        "Horizons/29_Hidden_Reservoir_Hr1a",
        "Horizons/60_BlueLagoon_Fb2",
        "Horizons/20_FlinFlon_Undivided_Int_Dykes_D2f",
        "Horizons/04_Boundary_Intrusive_S4h",
        "Horizons/53_Millrock_Rhyolite_Fm4b",
        "Horizons/19_FlinFlon_Undivided_Int_Dykes_D2b",
        "Horizons/18_FlinFlon_Undivided_Int_Dykes_777_D2b",
        "Horizons/06_Phantom_Lake_Intrusive_S3a",
        "Horizons/21_FlinFlon_Undivided_Int_Dykes_D3a",
        "Horizons/43_Millrock_CHLSH_South",
        "Horizons/56_Millrock_Basalt_Fm1ba",
        "Horizons/17_FlinFlon_Undivided_Int_Dykes_D2",
        "Horizons/32_Hidden_Reservoir_Hr1b_SW",
        "Horizons/11_Missi_M3_NE",
        "Horizons/13_Missi_M1",
        "Horizons/07_Annabel_Granitoid_S1",
        "Horizons/45_Millrock_Gabbro_South",
        "Horizons/01_Late_Intrusive_S5b",
        "Horizons/31_Hidden_Reservoir_Hr1c_SW",
        "Horizons/52_Millrock_Rhyolite_Fm4_West_check",
        "Horizons/55_Millrock_Basalt_Fm1bf",
        "Horizons/34_Hidden_Reservoir_Hr2b",
        "Horizons/03_Boundary_Intrusive_S4b",
        "Horizons/42_Millrock_CHLSH_North",
        "Horizons/26_Louis_L3",
        "Horizons/23_FlinFlon_Undivided_Int_Felsic_D4g",
        "Horizons/30_Hidden_Reservoir_Hr1b",
        "Horizons/59_BlueLagoon_Fb3",
        "Horizons/49_Millrock_MVR_Fm5d",
        "Horizons/44_Millrock_Gabbro_North",
        "Horizons/27_Hidden_Carlisle_Hc4",
        "Horizons/22_FlinFlon_Undivided_Int_Felsic_D4e",
        "Horizons/02_Boundary_Intrusive_S4a",
        "Horizons/61_BlueLagoon_Fb1_NW",
        "Horizons/05_Boundary_Intrusive_S4g",
        "Ore/39_Ore_Callinan",
        "Ore/38_Ore_Dan_Owens",
        "Ore/40_Ore_FlinFlon",
        "Workspace/Inversion_VTEM_Model",
        "Workspace/CDI_VTEM_model",
        "Workspace/Data_FEM_pseudo3D",
        "Workspace/geochem",
        "Workspace/Inversion_DIGHEM_Model",
        "Workspace/Topography",
        "Workspace/Data_TEM_pseudo3D",
        "Workspace/Data_ZTEM",
        "Workspace/Mesh"
       ],
       "description": "Core hull extent:",
       "index": 69,
       "layout": "IPY_MODEL_4c18aaae47054ebe8e28bdb3792d176a",
       "style": "IPY_MODEL_5c9d4eeb87d243188426b9dfe9b72d2b"
      }
     },
     "7376cb9c9a814adca378fca71ba3569f": {
      "model_module": "@jupyter-widgets/base",
      "model_module_version": "1.2.0",
      "model_name": "LayoutModel",
      "state": {
       "grid_area": "dircontent",
       "width": "auto"
      }
     },
     "737b265f08ce4aabb065eacb2ac36baf": {
      "model_module": "@jupyter-widgets/controls",
      "model_module_version": "1.5.0",
      "model_name": "DescriptionStyleModel",
      "state": {
       "description_width": "initial"
      }
     },
     "73a5b556c64647ed925d6247b5f667a0": {
      "model_module": "@jupyter-widgets/controls",
      "model_module_version": "1.5.0",
      "model_name": "HTMLModel",
      "state": {
       "layout": "IPY_MODEL_4c50addcf299454f97b4c9f430b41644",
       "style": "IPY_MODEL_a9d44dc95ebc417eb29ba4646593422f"
      }
     },
     "73c8fc333d5c4a93a9c98bd1b21deb79": {
      "model_module": "@jupyter-widgets/controls",
      "model_module_version": "1.5.0",
      "model_name": "DescriptionStyleModel",
      "state": {
       "description_width": "initial"
      }
     },
     "73e2c46fbaa8424895d7c2178f937c40": {
      "model_module": "@jupyter-widgets/controls",
      "model_module_version": "1.5.0",
      "model_name": "FloatTextModel",
      "state": {
       "description": "Distance",
       "layout": "IPY_MODEL_524c98c10f5f49768ca249c2ccbb36aa",
       "step": null,
       "style": "IPY_MODEL_3ee98ae972d14a20ad2404eb7d7e362d",
       "value": 1000
      }
     },
     "73fff0b480284c8e9dffe4549d2d0b3a": {
      "model_module": "@jupyter-widgets/controls",
      "model_module_version": "1.5.0",
      "model_name": "VBoxModel",
      "state": {
       "children": [
        "IPY_MODEL_64b889826d804e2389276adec7795b02",
        "IPY_MODEL_bb9879d1caae4bb396f2ca45b10a93e7"
       ],
       "layout": "IPY_MODEL_ac7b4c3e95144e1995c5544db2401ae7"
      }
     },
     "7408ebbe7d8d4ba5aba99f3c5ea4be0d": {
      "model_module": "@jupyter-widgets/base",
      "model_module_version": "1.2.0",
      "model_name": "LayoutModel",
      "state": {
       "display": "none",
       "min_width": "6em",
       "width": "6em"
      }
     },
     "741bbc937f764fcfb61fce0a96dfade2": {
      "model_module": "@jupyter-widgets/controls",
      "model_module_version": "1.5.0",
      "model_name": "DropdownModel",
      "state": {
       "_options_labels": [
        "C:\\Users\\dominiquef\\Documents\\GIT\\mira\\geoapps\\assets\\Temp",
        "C:\\Users\\dominiquef\\Documents\\GIT\\mira\\geoapps\\assets",
        "C:\\Users\\dominiquef\\Documents\\GIT\\mira\\geoapps",
        "C:\\Users\\dominiquef\\Documents\\GIT\\mira",
        "C:\\Users\\dominiquef\\Documents\\GIT",
        "C:\\Users\\dominiquef\\Documents",
        "C:\\Users\\dominiquef",
        "C:\\Users",
        "C:\\",
        "G:\\",
        "\\\\EgnyteDrive\\mirageoscience\\",
        "D:\\"
       ],
       "index": 0,
       "layout": "IPY_MODEL_b210116055234c7684417280d0780fea",
       "style": "IPY_MODEL_e4eed548b90c4b17a36ed9df4ff02ddb"
      }
     },
     "741cc84d563e44c49df052bfc33f1e93": {
      "model_module": "@jupyter-widgets/controls",
      "model_module_version": "1.5.0",
      "model_name": "LabelModel",
      "state": {
       "layout": "IPY_MODEL_e44f71c03a5a43b7aab081988afdeb76",
       "style": "IPY_MODEL_e2ca7f6322f84eee8d1ca9eb168e7d8c",
       "value": "Workspace"
      }
     },
     "7425b8d060a24b2f9f62d05b25093cf1": {
      "model_module": "@jupyter-widgets/base",
      "model_module_version": "1.2.0",
      "model_name": "LayoutModel",
      "state": {}
     },
     "74385521514f48d4b2a1b13bc9eee27c": {
      "model_module": "@jupyter-widgets/controls",
      "model_module_version": "1.5.0",
      "model_name": "DescriptionStyleModel",
      "state": {
       "description_width": "initial"
      }
     },
     "74594d6878b049bf80690fe982e0b9b3": {
      "model_module": "@jupyter-widgets/base",
      "model_module_version": "1.2.0",
      "model_name": "LayoutModel",
      "state": {}
     },
     "746b21cb9d654012818eebc53655325d": {
      "model_module": "@jupyter-widgets/controls",
      "model_module_version": "1.5.0",
      "model_name": "DescriptionStyleModel",
      "state": {
       "description_width": "initial"
      }
     },
     "746b566d6927406282a348b9c043422f": {
      "model_module": "@jupyter-widgets/controls",
      "model_module_version": "1.5.0",
      "model_name": "ButtonModel",
      "state": {
       "button_style": "danger",
       "description": "Create",
       "icon": "check",
       "layout": "IPY_MODEL_632fe3d53f24486a9e2fff89604d9384",
       "style": "IPY_MODEL_cf0d987e5cdf429f85c2303473d85ee3",
       "tooltip": "Run computation"
      }
     },
     "746ead7c4fcf4070bbb58a4e151ed0cb": {
      "model_module": "@jupyter-widgets/controls",
      "model_module_version": "1.5.0",
      "model_name": "DescriptionStyleModel",
      "state": {
       "description_width": ""
      }
     },
     "748e617bc13c4a4f80cbd9cbdd84f5cb": {
      "model_module": "@jupyter-widgets/controls",
      "model_module_version": "1.5.0",
      "model_name": "HTMLModel",
      "state": {
       "layout": "IPY_MODEL_ecbd5df10cc14f438b4d9edf0fc89789",
       "placeholder": "",
       "style": "IPY_MODEL_e91b74e61014411da5f8bc6d9ab4617f",
       "value": "<span style=\"margin-left:10px; color:black;\">No file selected</span>"
      }
     },
     "7496132110fa4959bd761c1a19c9bb10": {
      "model_module": "@jupyter-widgets/controls",
      "model_module_version": "1.5.0",
      "model_name": "LabelModel",
      "state": {
       "layout": "IPY_MODEL_85091b2156af44edbf4071f4441ffad4",
       "style": "IPY_MODEL_204b8129878845a49db3ae9114f90c7b",
       "value": "Refinement b "
      }
     },
     "74964bb90505436b8983ab395ce1f5d2": {
      "model_module": "@jupyter-widgets/base",
      "model_module_version": "1.2.0",
      "model_name": "LayoutModel",
      "state": {}
     },
     "74ab20bee5e84c079edcc54018a0d86d": {
      "model_module": "@jupyter-widgets/controls",
      "model_module_version": "1.5.0",
      "model_name": "DescriptionStyleModel",
      "state": {
       "description_width": "initial"
      }
     },
     "74e07553b1d04c4fabc6fa4ace6b4ca7": {
      "model_module": "@jupyter-widgets/base",
      "model_module_version": "1.2.0",
      "model_name": "LayoutModel",
      "state": {
       "display": "none",
       "min_width": "6em",
       "width": "6em"
      }
     },
     "74e7a5ef67eb43b589b65cb2f1f8f650": {
      "model_module": "@jupyter-widgets/controls",
      "model_module_version": "1.5.0",
      "model_name": "DescriptionStyleModel",
      "state": {
       "description_width": ""
      }
     },
     "74e92c9b024441029f17e78949473e72": {
      "model_module": "@jupyter-widgets/controls",
      "model_module_version": "1.5.0",
      "model_name": "DescriptionStyleModel",
      "state": {
       "description_width": ""
      }
     },
     "74ec7d386fd74c1a8b8d9f2ebf3bca1a": {
      "model_module": "@jupyter-widgets/controls",
      "model_module_version": "1.5.0",
      "model_name": "DescriptionStyleModel",
      "state": {
       "description_width": "initial"
      }
     },
     "75103e463e3548318877f6a50e3a823e": {
      "model_module": "@jupyter-widgets/base",
      "model_module_version": "1.2.0",
      "model_name": "LayoutModel",
      "state": {
       "grid_area": "dircontent",
       "width": "auto"
      }
     },
     "751871ebaeb44727ab75d1693532ed88": {
      "model_module": "@jupyter-widgets/base",
      "model_module_version": "1.2.0",
      "model_name": "LayoutModel",
      "state": {}
     },
     "7523ce8ec36e48008344fd89d6850a06": {
      "model_module": "@jupyter-widgets/base",
      "model_module_version": "1.2.0",
      "model_name": "LayoutModel",
      "state": {
       "grid_area": "pathlist",
       "width": "auto"
      }
     },
     "7526a51f24ad4f239d406438ac54bfdb": {
      "model_module": "@jupyter-widgets/controls",
      "model_module_version": "1.5.0",
      "model_name": "DescriptionStyleModel",
      "state": {
       "description_width": ""
      }
     },
     "752cf725794a406f94ea47661b7c4e48": {
      "model_module": "@jupyter-widgets/controls",
      "model_module_version": "1.5.0",
      "model_name": "ButtonStyleModel",
      "state": {}
     },
     "7531c140ee224c798f6093214950aeb6": {
      "model_module": "@jupyter-widgets/controls",
      "model_module_version": "1.5.0",
      "model_name": "VBoxModel",
      "state": {
       "children": [
        "IPY_MODEL_e89b420c5f24492bb0d4aac9a742da71",
        "IPY_MODEL_b37f0229a4b244d1b4800db2b684f2f2"
       ],
       "layout": "IPY_MODEL_562d1deec52240c884c04ea7c53b194e"
      }
     },
     "755771fed430459e8a215928f9ff981a": {
      "model_module": "@jupyter-widgets/controls",
      "model_module_version": "1.5.0",
      "model_name": "VBoxModel",
      "state": {
       "children": [
        "IPY_MODEL_2f0948e583784d5aa71260af1d838e9a",
        "IPY_MODEL_2001bf1a29bf41538966d5b28f18d24f",
        "IPY_MODEL_773a1d62046e4f87a7af4dc46e5a0b62",
        "IPY_MODEL_bb999750cf2f44408a4db2f81346a200",
        "IPY_MODEL_c05902ff1a924423adad065cd741e72f",
        "IPY_MODEL_14eae3d3f33744ed8c042d5c84ce1051",
        "IPY_MODEL_85e0f589f3834aa28c49cccd61ce048c",
        "IPY_MODEL_e4ea6101ae1e4b3ab934643b0730cfad",
        "IPY_MODEL_0b0f69f6b5a8455f9ee995940c2e1bc7",
        "IPY_MODEL_4db139bfdb00437eb6b317d9b26e92d6"
       ],
       "layout": "IPY_MODEL_98913b9f4fe944938a09b486342fa9aa"
      }
     },
     "7583c9e9dfce44289aa4e0495fcb8cce": {
      "model_module": "@jupyter-widgets/base",
      "model_module_version": "1.2.0",
      "model_name": "LayoutModel",
      "state": {}
     },
     "758df548b33241cdb4d518bd27f6a3ce": {
      "model_module": "@jupyter-widgets/base",
      "model_module_version": "1.2.0",
      "model_name": "LayoutModel",
      "state": {
       "border": "solid"
      }
     },
     "75b402448e6b41549f2f8360fb90e999": {
      "model_module": "@jupyter-widgets/base",
      "model_module_version": "1.2.0",
      "model_name": "LayoutModel",
      "state": {}
     },
     "768d83a8e3ad459ca90f598f87e60114": {
      "model_module": "@jupyter-widgets/controls",
      "model_module_version": "1.5.0",
      "model_name": "LabelModel",
      "state": {
       "layout": "IPY_MODEL_08b6c702d2174d8bb9901ea8dc245caf",
       "style": "IPY_MODEL_9fc99f28aa7c42ae90608f2e477dc548",
       "value": "Refinement b "
      }
     },
     "769b0d91beb54803a4a4d944195eae0b": {
      "model_module": "@jupyter-widgets/controls",
      "model_module_version": "1.5.0",
      "model_name": "DescriptionStyleModel",
      "state": {
       "description_width": "initial"
      }
     },
     "76c1a73440fc4e548855731d4d3534aa": {
      "model_module": "@jupyter-widgets/base",
      "model_module_version": "1.2.0",
      "model_name": "LayoutModel",
      "state": {}
     },
     "76dfe139b6c14ffab56c2e4c47a35f00": {
      "model_module": "@jupyter-widgets/controls",
      "model_module_version": "1.5.0",
      "model_name": "DescriptionStyleModel",
      "state": {
       "description_width": "initial"
      }
     },
     "76ec50d3c264427893363b7d490c4679": {
      "model_module": "@jupyter-widgets/base",
      "model_module_version": "1.2.0",
      "model_name": "LayoutModel",
      "state": {}
     },
     "76fb34fa72e746439ee0d070dd703a36": {
      "model_module": "@jupyter-widgets/controls",
      "model_module_version": "1.5.0",
      "model_name": "ButtonStyleModel",
      "state": {}
     },
     "7700b6dabcc6481f92647dda8c4e6e01": {
      "model_module": "@jupyter-widgets/controls",
      "model_module_version": "1.5.0",
      "model_name": "DescriptionStyleModel",
      "state": {
       "description_width": ""
      }
     },
     "771196c0896b4b028451fbc403e20213": {
      "model_module": "@jupyter-widgets/controls",
      "model_module_version": "1.5.0",
      "model_name": "ButtonModel",
      "state": {
       "description": "Cancel",
       "layout": "IPY_MODEL_c84e413c11a847e4a88bc618ce46b17e",
       "style": "IPY_MODEL_694b8cf9a5bd4e639746bf2d41889815"
      }
     },
     "772f37ac0be14902848a377fae2a7ea5": {
      "model_module": "@jupyter-widgets/controls",
      "model_module_version": "1.5.0",
      "model_name": "DescriptionStyleModel",
      "state": {
       "description_width": "initial"
      }
     },
     "773a1d62046e4f87a7af4dc46e5a0b62": {
      "model_module": "@jupyter-widgets/controls",
      "model_module_version": "1.5.0",
      "model_name": "FloatTextModel",
      "state": {
       "description": "Minimum depth (m)",
       "layout": "IPY_MODEL_391e84767af6452e8f1e95a4a170ca39",
       "step": null,
       "style": "IPY_MODEL_746b21cb9d654012818eebc53655325d",
       "value": 500
      }
     },
     "775bd61079ac4ea9827c4ae73d409179": {
      "model_module": "@jupyter-widgets/base",
      "model_module_version": "1.2.0",
      "model_name": "LayoutModel",
      "state": {}
     },
     "775d57196d734fbd92126c781f6de9bb": {
      "model_module": "@jupyter-widgets/base",
      "model_module_version": "1.2.0",
      "model_name": "LayoutModel",
      "state": {
       "display": "none",
       "grid_gap": "0px 0px",
       "grid_template_areas": "\n                    'pathlist filename'\n                    'dircontent dircontent'\n                    ",
       "grid_template_columns": "60% 40%",
       "grid_template_rows": "auto auto",
       "width": "auto"
      }
     },
     "77872253a5d249dea47431803f93734b": {
      "model_module": "@jupyter-widgets/controls",
      "model_module_version": "1.5.0",
      "model_name": "DescriptionStyleModel",
      "state": {
       "description_width": "initial"
      }
     },
     "778b30adc1274d448078f7813451572e": {
      "model_module": "@jupyter-widgets/controls",
      "model_module_version": "1.5.0",
      "model_name": "DescriptionStyleModel",
      "state": {
       "description_width": "initial"
      }
     },
     "778e25e581f647fa87d47183ee1272d6": {
      "model_module": "@jupyter-widgets/controls",
      "model_module_version": "1.5.0",
      "model_name": "DescriptionStyleModel",
      "state": {
       "description_width": ""
      }
     },
     "77ca80bec41a4ae7841984671712c977": {
      "model_module": "@jupyter-widgets/base",
      "model_module_version": "1.2.0",
      "model_name": "LayoutModel",
      "state": {}
     },
     "77cb88170a1d455f88a97351ffdd3730": {
      "model_module": "@jupyter-widgets/base",
      "model_module_version": "1.2.0",
      "model_name": "LayoutModel",
      "state": {}
     },
     "7829fc71a0b84531936d383f8059d3b4": {
      "model_module": "@jupyter-widgets/controls",
      "model_module_version": "1.5.0",
      "model_name": "FloatTextModel",
      "state": {
       "description": "Vertical (m)",
       "layout": "IPY_MODEL_cf90985a942444dd892fce5fc635e57f",
       "step": null,
       "style": "IPY_MODEL_53d318fc03e54ad0ab6fdd25fc76c0d2",
       "value": 1000
      }
     },
     "78408ff3335a40ab864db632192fd1f5": {
      "model_module": "@jupyter-widgets/base",
      "model_module_version": "1.2.0",
      "model_name": "LayoutModel",
      "state": {}
     },
     "7882d3074f1c44d0ba61f60fc0d1d9c7": {
      "model_module": "@jupyter-widgets/controls",
      "model_module_version": "1.5.0",
      "model_name": "DescriptionStyleModel",
      "state": {
       "description_width": ""
      }
     },
     "788d6de3db594be5af64ff0730e6993a": {
      "model_module": "@jupyter-widgets/controls",
      "model_module_version": "1.5.0",
      "model_name": "VBoxModel",
      "state": {
       "children": [
        "IPY_MODEL_f94dea9c89c04893a129e90aeacbad4b",
        "IPY_MODEL_4c0d2ec218634a7c9a2a22c957fdf64c"
       ],
       "layout": "IPY_MODEL_ce9987888dc94191a0c7f367ac29178a"
      }
     },
     "788f933a70dc422785c0605bc0eb138e": {
      "model_module": "@jupyter-widgets/controls",
      "model_module_version": "1.5.0",
      "model_name": "DescriptionStyleModel",
      "state": {
       "description_width": ""
      }
     },
     "78b90e7ac311482e8ab4d5b5ed790c2d": {
      "model_module": "@jupyter-widgets/controls",
      "model_module_version": "1.5.0",
      "model_name": "FloatTextModel",
      "state": {
       "description": "Northing",
       "layout": "IPY_MODEL_d92d95289501479abb024a86a6dd507b",
       "step": null,
       "style": "IPY_MODEL_59fc727fd1dc483283b0b09c5b5eb712",
       "value": 25
      }
     },
     "78f5f40dbaf74481a0596a7376b9642b": {
      "model_module": "@jupyter-widgets/base",
      "model_module_version": "1.2.0",
      "model_name": "LayoutModel",
      "state": {
       "width": "500px"
      }
     },
     "7909176b50194b5688c4f66a2e55e563": {
      "model_module": "@jupyter-widgets/base",
      "model_module_version": "1.2.0",
      "model_name": "LayoutModel",
      "state": {}
     },
     "790c60e35b554919934500caf228372a": {
      "model_module": "@jupyter-widgets/base",
      "model_module_version": "1.2.0",
      "model_name": "LayoutModel",
      "state": {}
     },
     "7917cfdeb9594f8cb1a03eb8182a1a66": {
      "model_module": "@jupyter-widgets/base",
      "model_module_version": "1.2.0",
      "model_name": "LayoutModel",
      "state": {
       "overflow": "auto"
      }
     },
     "79267685e89b4f4c83bc73148f4057a0": {
      "model_module": "@jupyter-widgets/controls",
      "model_module_version": "1.5.0",
      "model_name": "DropdownModel",
      "state": {
       "_options_labels": [
        "C:\\Users\\dominiquef\\Documents\\GIT\\mira\\geoapps\\assets",
        "C:\\Users\\dominiquef\\Documents\\GIT\\mira\\geoapps",
        "C:\\Users\\dominiquef\\Documents\\GIT\\mira",
        "C:\\Users\\dominiquef\\Documents\\GIT",
        "C:\\Users\\dominiquef\\Documents",
        "C:\\Users\\dominiquef",
        "C:\\Users",
        "C:\\",
        "D:\\",
        "G:\\",
        "\\\\EgnyteDrive\\mirageoscience\\"
       ],
       "index": 0,
       "layout": "IPY_MODEL_fba453113c5746c3ab9d142bf08c73aa",
       "style": "IPY_MODEL_47a966b8db7e40329f3624a1cd991a40"
      }
     },
     "7943078a86d74891b9f1d54f5a6ca2a3": {
      "model_module": "@jupyter-widgets/controls",
      "model_module_version": "1.5.0",
      "model_name": "VBoxModel",
      "state": {
       "children": [
        "IPY_MODEL_eaa276d91ce34121a0b7dd1347a20390",
        "IPY_MODEL_51c3d478b9934de79f07ca2f6af46d6a",
        "IPY_MODEL_45ed359948fd4c19b1914e8106a15e62",
        "IPY_MODEL_2d065f5064a04813809ce31a06b44b36",
        "IPY_MODEL_859936a3b1b4459790b296b6654b0bb5",
        "IPY_MODEL_78b90e7ac311482e8ab4d5b5ed790c2d",
        "IPY_MODEL_5249ca2ce4ff43f984d28cb45d28f177",
        "IPY_MODEL_2b2c1557e54f40b7997ff858adbe5236",
        "IPY_MODEL_d923be04dd04486e99b6f72baba145dc",
        "IPY_MODEL_7bd0b626da8f407691343cf0aed41b51"
       ],
       "layout": "IPY_MODEL_9e1e073ac45f4958b80353cf7b5dd0b0"
      }
     },
     "795fa2c1caa44398a9b0e292451e6d31": {
      "model_module": "@jupyter-widgets/controls",
      "model_module_version": "1.5.0",
      "model_name": "VBoxModel",
      "state": {
       "children": [
        "IPY_MODEL_72a3f8713ade4d309fc2d21bd71d5f52",
        "IPY_MODEL_871e2a485e194b13a6658bb7c5a8e104",
        "IPY_MODEL_bdea35a1891a4c03ae4c4a3beead6f40"
       ],
       "layout": "IPY_MODEL_0e163795b26d45c7987c995fb7a4c96a"
      }
     },
     "796f70fccc7340c19692db2ca46b4ba2": {
      "model_module": "@jupyter-widgets/controls",
      "model_module_version": "1.5.0",
      "model_name": "DescriptionStyleModel",
      "state": {
       "description_width": "initial"
      }
     },
     "798e21bf219b401a90752edd55e74e47": {
      "model_module": "@jupyter-widgets/controls",
      "model_module_version": "1.5.0",
      "model_name": "ButtonStyleModel",
      "state": {}
     },
     "79a81b4c9bc743b399e8d76f0ef54a7c": {
      "model_module": "@jupyter-widgets/controls",
      "model_module_version": "1.5.0",
      "model_name": "DescriptionStyleModel",
      "state": {
       "description_width": "initial"
      }
     },
     "79c7d5a80d8d48a9af50ffc1f86d1928": {
      "model_module": "@jupyter-widgets/controls",
      "model_module_version": "1.5.0",
      "model_name": "DescriptionStyleModel",
      "state": {
       "description_width": "initial"
      }
     },
     "79ca1af8feaf46daa3547ddaf97fb0d3": {
      "model_module": "@jupyter-widgets/controls",
      "model_module_version": "1.5.0",
      "model_name": "VBoxModel",
      "state": {
       "children": [
        "IPY_MODEL_f6dd8d4ed30448b2b7d7fc0d8ebb1b8e",
        "IPY_MODEL_3b6b77edb85e4143878618b44a8b8d56"
       ],
       "layout": "IPY_MODEL_73616c7a278c4cc7944b69921b0dc685"
      }
     },
     "79e40ea5f26e4c85b908c29f43952088": {
      "model_module": "@jupyter-widgets/base",
      "model_module_version": "1.2.0",
      "model_name": "LayoutModel",
      "state": {}
     },
     "7a1e22a94cf34fd6925261eb64f03355": {
      "model_module": "@jupyter-widgets/controls",
      "model_module_version": "1.5.0",
      "model_name": "HBoxModel",
      "state": {
       "children": [
        "IPY_MODEL_6c0ff721b26041cc8bcd98e16b9d8f2b",
        "IPY_MODEL_922242589bfc48b291e48b847e66d858"
       ],
       "layout": "IPY_MODEL_01d34087979c4a26b891678fb7bee249"
      }
     },
     "7a2f22dca1da442c979175351b7782f8": {
      "model_module": "@jupyter-widgets/controls",
      "model_module_version": "1.5.0",
      "model_name": "TextModel",
      "state": {
       "description": "Levels",
       "layout": "IPY_MODEL_6f8e264adeaa454e92ee5ab97396f3e6",
       "style": "IPY_MODEL_8cfe1f61a42d4a7da953550c351681b7",
       "value": "0, 0, 4"
      }
     },
     "7a6899c68c1c48d8a1f5342d0e9a4662": {
      "model_module": "@jupyter-widgets/controls",
      "model_module_version": "1.5.0",
      "model_name": "DescriptionStyleModel",
      "state": {
       "description_width": "initial"
      }
     },
     "7a6cbec7280d43b3b324fd434353d501": {
      "model_module": "@jupyter-widgets/controls",
      "model_module_version": "1.5.0",
      "model_name": "DescriptionStyleModel",
      "state": {
       "description_width": "initial"
      }
     },
     "7a8985871e46462eae34c4bac806f96f": {
      "model_module": "@jupyter-widgets/controls",
      "model_module_version": "1.5.0",
      "model_name": "GridBoxModel",
      "state": {
       "children": [
        "IPY_MODEL_3c3952522c5a4726bc7a06f4b7312943",
        "IPY_MODEL_42b20e344b6e4012a2d6b3674866dc71",
        "IPY_MODEL_03f8a1250eb244dda4ca71470870be19"
       ],
       "layout": "IPY_MODEL_3f20e11557424e2b988f05c9492309b7"
      }
     },
     "7a9286c57f5f44fcae14e50dbb5905aa": {
      "model_module": "@jupyter-widgets/controls",
      "model_module_version": "1.5.0",
      "model_name": "DescriptionStyleModel",
      "state": {
       "description_width": "initial"
      }
     },
     "7aa86deffaf7478b90567f0236024360": {
      "model_module": "@jupyter-widgets/controls",
      "model_module_version": "1.5.0",
      "model_name": "DescriptionStyleModel",
      "state": {
       "description_width": "initial"
      }
     },
     "7aae36f7f4434eb2a0ec7a51ba347fcd": {
      "model_module": "@jupyter-widgets/base",
      "model_module_version": "1.2.0",
      "model_name": "LayoutModel",
      "state": {}
     },
     "7acbc250b36944d2951752199557c837": {
      "model_module": "@jupyter-widgets/base",
      "model_module_version": "1.2.0",
      "model_name": "LayoutModel",
      "state": {}
     },
     "7ad40075251a4c1d9072c7eab3fd8e34": {
      "model_module": "@jupyter-widgets/controls",
      "model_module_version": "1.5.0",
      "model_name": "DescriptionStyleModel",
      "state": {
       "description_width": "initial"
      }
     },
     "7adc04dcc2a940beadc6299b4be6cd43": {
      "model_module": "@jupyter-widgets/controls",
      "model_module_version": "1.5.0",
      "model_name": "DescriptionStyleModel",
      "state": {
       "description_width": "initial"
      }
     },
     "7ae6ce3e21334c19979314f3aeb46296": {
      "model_module": "@jupyter-widgets/controls",
      "model_module_version": "1.5.0",
      "model_name": "DescriptionStyleModel",
      "state": {
       "description_width": "initial"
      }
     },
     "7aeaa532abfe4f0d866342e1e6f2c0eb": {
      "model_module": "@jupyter-widgets/controls",
      "model_module_version": "1.5.0",
      "model_name": "ToggleButtonModel",
      "state": {
       "layout": "IPY_MODEL_390d05d9a0cd48bdb65e3958cc16a5ea",
       "style": "IPY_MODEL_e005b38e4a824138bebafb1790d29753"
      }
     },
     "7b0ba12f90cc4b43a89d4c1f791088dd": {
      "model_module": "@jupyter-widgets/controls",
      "model_module_version": "1.5.0",
      "model_name": "DescriptionStyleModel",
      "state": {
       "description_width": ""
      }
     },
     "7b181671edf74e3fa7c9f126ad78d7e6": {
      "model_module": "@jupyter-widgets/base",
      "model_module_version": "1.2.0",
      "model_name": "LayoutModel",
      "state": {}
     },
     "7b22d58070394c01b3b7893d3579a01c": {
      "model_module": "@jupyter-widgets/base",
      "model_module_version": "1.2.0",
      "model_name": "LayoutModel",
      "state": {
       "grid_area": "pathlist",
       "width": "auto"
      }
     },
     "7b338814686d41d6aed8b07e0fb82289": {
      "model_module": "@jupyter-widgets/base",
      "model_module_version": "1.2.0",
      "model_name": "LayoutModel",
      "state": {}
     },
     "7b3d7c0f361d4c4283a6608b68dc9eb6": {
      "model_module": "@jupyter-widgets/controls",
      "model_module_version": "1.5.0",
      "model_name": "LabelModel",
      "state": {
       "layout": "IPY_MODEL_c7f93566e26448e1a7a6766e401c4e9b",
       "style": "IPY_MODEL_ed857db52cc2456da21bcad559a7e037",
       "value": "Core cell size"
      }
     },
     "7b41be27816e4499abd8884c8696e7a8": {
      "model_module": "@jupyter-widgets/base",
      "model_module_version": "1.2.0",
      "model_name": "LayoutModel",
      "state": {}
     },
     "7b4b95837da44bfcaa374103cb543a6a": {
      "model_module": "@jupyter-widgets/base",
      "model_module_version": "1.2.0",
      "model_name": "LayoutModel",
      "state": {
       "display": "none",
       "grid_gap": "0px 0px",
       "grid_template_areas": "\n                    'pathlist filename'\n                    'dircontent dircontent'\n                    ",
       "grid_template_columns": "60% 40%",
       "grid_template_rows": "auto auto",
       "width": "500px"
      }
     },
     "7b80df5c649e4ce79a40a8f6d6c18d7c": {
      "model_module": "@jupyter-widgets/base",
      "model_module_version": "1.2.0",
      "model_name": "LayoutModel",
      "state": {}
     },
     "7b8a13268c10474f918938cb8218f43e": {
      "model_module": "@jupyter-widgets/base",
      "model_module_version": "1.2.0",
      "model_name": "LayoutModel",
      "state": {}
     },
     "7b92d1bf8705493bb04f62f47699201f": {
      "model_module": "@jupyter-widgets/controls",
      "model_module_version": "1.5.0",
      "model_name": "LabelModel",
      "state": {
       "layout": "IPY_MODEL_5498dc7b7a904c9a919e921f9dfd9e01",
       "style": "IPY_MODEL_a9cdada425a24c8da22850a6767eba3b",
       "value": "Base Parameters"
      }
     },
     "7ba36d5d99fe4674bea21bb67b84d79e": {
      "model_module": "@jupyter-widgets/base",
      "model_module_version": "1.2.0",
      "model_name": "LayoutModel",
      "state": {}
     },
     "7ba7f5f7e5b2447f9d3fe57242a7bb10": {
      "model_module": "@jupyter-widgets/controls",
      "model_module_version": "1.5.0",
      "model_name": "ButtonModel",
      "state": {
       "description": "Cancel",
       "layout": "IPY_MODEL_4f28b85512674e25b37356f712823fe1",
       "style": "IPY_MODEL_4be9bca21eb241ab8c40decfe2e44878"
      }
     },
     "7bac713fcd6b41c7a239f24317de167b": {
      "model_module": "@jupyter-widgets/controls",
      "model_module_version": "1.5.0",
      "model_name": "DescriptionStyleModel",
      "state": {
       "description_width": ""
      }
     },
     "7bc2baaa0f0445aa86e29bcb0fa64bc1": {
      "model_module": "@jupyter-widgets/base",
      "model_module_version": "1.2.0",
      "model_name": "LayoutModel",
      "state": {}
     },
     "7bd0b626da8f407691343cf0aed41b51": {
      "model_module": "@jupyter-widgets/controls",
      "model_module_version": "1.5.0",
      "model_name": "FloatTextModel",
      "state": {
       "description": "Vertical (m)",
       "layout": "IPY_MODEL_e8d7e0d2beb04c80927b2fb7b92cef6d",
       "step": null,
       "style": "IPY_MODEL_e7e387c9e2984ff09e957ade7229df3f",
       "value": 1000
      }
     },
     "7bfaff4211b543edb59eb988ced5a0c2": {
      "model_module": "@jupyter-widgets/controls",
      "model_module_version": "1.5.0",
      "model_name": "VBoxModel",
      "state": {
       "children": [
        "IPY_MODEL_c7ba774a25b74c3198af713d46223320",
        "IPY_MODEL_b69fa8921c954f788d62097e7b08dce7"
       ],
       "layout": "IPY_MODEL_ec2f3aef6e5d4c57803cf8ca5519af4e"
      }
     },
     "7c1af441eaff4f7d9efc0c148dec0da0": {
      "model_module": "@jupyter-widgets/controls",
      "model_module_version": "1.5.0",
      "model_name": "TextModel",
      "state": {
       "description": "Levels",
       "layout": "IPY_MODEL_653550b482784678a4c8faa8a4147b87",
       "style": "IPY_MODEL_64feb5a3eae34a98ae6fac533e64cd92",
       "value": "0, 0, 4"
      }
     },
     "7c1c89fc0ab04aa69dddb07ebe40ad26": {
      "model_module": "@jupyter-widgets/controls",
      "model_module_version": "1.5.0",
      "model_name": "LabelModel",
      "state": {
       "layout": "IPY_MODEL_35cf0ab5b28e4610b07cd7f3de61218e",
       "style": "IPY_MODEL_19c03b01fa064d1baf83cd1c1499c1e8",
       "value": "Core cell size"
      }
     },
     "7c2367ed717a4a77b9ddb49a7570732a": {
      "model_module": "@jupyter-widgets/controls",
      "model_module_version": "1.5.0",
      "model_name": "DescriptionStyleModel",
      "state": {
       "description_width": ""
      }
     },
     "7c26cc01a49e417881ea083e9d1e5a2d": {
      "model_module": "@jupyter-widgets/controls",
      "model_module_version": "1.5.0",
      "model_name": "DescriptionStyleModel",
      "state": {
       "description_width": "initial"
      }
     },
     "7c4f72946730461db6b49d176260b4cc": {
      "model_module": "@jupyter-widgets/controls",
      "model_module_version": "1.5.0",
      "model_name": "DescriptionStyleModel",
      "state": {
       "description_width": ""
      }
     },
     "7c5b70e40b844e3792b446f4447a1644": {
      "model_module": "@jupyter-widgets/controls",
      "model_module_version": "1.5.0",
      "model_name": "DescriptionStyleModel",
      "state": {
       "description_width": "initial"
      }
     },
     "7c5c32e8310840fabe3329a8ae10cbdd": {
      "model_module": "@jupyter-widgets/controls",
      "model_module_version": "1.5.0",
      "model_name": "VBoxModel",
      "state": {
       "children": [
        "IPY_MODEL_65f1ccbfd0bf4934b5dc6eefcfb9b1bc",
        "IPY_MODEL_9101b93f55d0419b859ef308b09bebd6",
        "IPY_MODEL_b808e31432a34e71a6ee308963e9c174",
        "IPY_MODEL_f083ccc0a3204eb0920cc3545e73382a",
        "IPY_MODEL_e1970f1a8d2b4b678f78b490e9fa8dbf"
       ],
       "layout": "IPY_MODEL_3b6a47f3314d422ab6b11ee6b9c8e029"
      }
     },
     "7c996a6c292b43ce87f3390067949149": {
      "model_module": "@jupyter-widgets/base",
      "model_module_version": "1.2.0",
      "model_name": "LayoutModel",
      "state": {
       "grid_area": "pathlist",
       "width": "auto"
      }
     },
     "7c9b026974a34907856d7031628946cb": {
      "model_module": "@jupyter-widgets/base",
      "model_module_version": "1.2.0",
      "model_name": "LayoutModel",
      "state": {}
     },
     "7ca4f1503be349bd8f17c37117eee528": {
      "model_module": "@jupyter-widgets/base",
      "model_module_version": "1.2.0",
      "model_name": "LayoutModel",
      "state": {
       "width": "auto"
      }
     },
     "7cbb4a09d3134a6b88bedbc6ab2363d1": {
      "model_module": "@jupyter-widgets/controls",
      "model_module_version": "1.5.0",
      "model_name": "DescriptionStyleModel",
      "state": {
       "description_width": ""
      }
     },
     "7ccc6285061b4e92a1e710474607c4ac": {
      "model_module": "@jupyter-widgets/controls",
      "model_module_version": "1.5.0",
      "model_name": "HTMLModel",
      "state": {
       "layout": "IPY_MODEL_8021988f7f424f8389c154db1160f811",
       "placeholder": "",
       "style": "IPY_MODEL_26642f42e25440588c84f1e0753ba43a",
       "value": "<span style=\"color:orange;\">C:\\Users\\dominiquef\\Documents\\GIT\\mira\\geoapps\\assets\\FlinFlon.geoh5</span>"
      }
     },
     "7cde37f026344dc8a07c81f0561f0bab": {
      "model_module": "@jupyter-widgets/controls",
      "model_module_version": "1.5.0",
      "model_name": "VBoxModel",
      "state": {
       "children": [
        "IPY_MODEL_79ca1af8feaf46daa3547ddaf97fb0d3",
        "IPY_MODEL_b14bc4b9bf6143fc95d0df95a303d9e7"
       ],
       "layout": "IPY_MODEL_751871ebaeb44727ab75d1693532ed88"
      }
     },
     "7cf69d0dac8442deb38fe3adeef921b6": {
      "model_module": "@jupyter-widgets/controls",
      "model_module_version": "1.5.0",
      "model_name": "DescriptionStyleModel",
      "state": {
       "description_width": "initial"
      }
     },
     "7d01c959e28d46acb1ecf06fdfb80325": {
      "model_module": "@jupyter-widgets/base",
      "model_module_version": "1.2.0",
      "model_name": "LayoutModel",
      "state": {}
     },
     "7d6d260ac0a34dc8a2ab1ea78a7d2707": {
      "model_module": "@jupyter-widgets/base",
      "model_module_version": "1.2.0",
      "model_name": "LayoutModel",
      "state": {
       "width": "auto"
      }
     },
     "7d908c45c39e4127aef9af2154ad1359": {
      "model_module": "@jupyter-widgets/controls",
      "model_module_version": "1.5.0",
      "model_name": "DescriptionStyleModel",
      "state": {
       "description_width": ""
      }
     },
     "7de8aee2c0a345b299ad3596ad0e3553": {
      "model_module": "@jupyter-widgets/base",
      "model_module_version": "1.2.0",
      "model_name": "LayoutModel",
      "state": {
       "border": "solid"
      }
     },
     "7e09e3dba2cb45fab343cf1cca836e1d": {
      "model_module": "@jupyter-widgets/base",
      "model_module_version": "1.2.0",
      "model_name": "LayoutModel",
      "state": {
       "width": "auto"
      }
     },
     "7e1afc02135b4e00a29a29de789d8718": {
      "model_module": "@jupyter-widgets/controls",
      "model_module_version": "1.5.0",
      "model_name": "CheckboxModel",
      "state": {
       "description": "Geoscience ANALYST Pro - Live link",
       "disabled": false,
       "indent": false,
       "layout": "IPY_MODEL_35aacd1a6c3c439a88ff2862071bf26a",
       "style": "IPY_MODEL_d5bf2fa4e69544418fc2234321141cf3",
       "value": false
      }
     },
     "7e32895a7cc8458ca4848ae9198c85d8": {
      "model_module": "@jupyter-widgets/controls",
      "model_module_version": "1.5.0",
      "model_name": "ButtonModel",
      "state": {
       "description": "Cancel",
       "layout": "IPY_MODEL_b766ca9572a747eb8ff7595caff20ef0",
       "style": "IPY_MODEL_7fdce270cd0942839af258beae810f7e"
      }
     },
     "7e3b0e1d19d94b828ac5914b90fe81ba": {
      "model_module": "@jupyter-widgets/controls",
      "model_module_version": "1.5.0",
      "model_name": "DescriptionStyleModel",
      "state": {
       "description_width": ""
      }
     },
     "7e5c8faddc164673b3cbc3c37d134bb8": {
      "model_module": "@jupyter-widgets/controls",
      "model_module_version": "1.5.0",
      "model_name": "DescriptionStyleModel",
      "state": {
       "description_width": ""
      }
     },
     "7e6383dbb3b14c3faa390929e2616faf": {
      "model_module": "@jupyter-widgets/base",
      "model_module_version": "1.2.0",
      "model_name": "LayoutModel",
      "state": {}
     },
     "7e6b328cac8a4f8b8c23098de830c490": {
      "model_module": "@jupyter-widgets/base",
      "model_module_version": "1.2.0",
      "model_name": "LayoutModel",
      "state": {
       "min_width": "6em",
       "width": "6em"
      }
     },
     "7ea3ad9db3324af183ad85ec9bd5fada": {
      "model_module": "@jupyter-widgets/controls",
      "model_module_version": "1.5.0",
      "model_name": "DescriptionStyleModel",
      "state": {
       "description_width": "initial"
      }
     },
     "7eb493f46358479a8977dddcb331ec5d": {
      "model_module": "@jupyter-widgets/base",
      "model_module_version": "1.2.0",
      "model_name": "LayoutModel",
      "state": {}
     },
     "7ec7b2bdc3384b6aa1d7226f36e63a5c": {
      "model_module": "@jupyter-widgets/controls",
      "model_module_version": "1.5.0",
      "model_name": "DescriptionStyleModel",
      "state": {
       "description_width": "initial"
      }
     },
     "7ecd75126494430f82c2b19581751c42": {
      "model_module": "@jupyter-widgets/controls",
      "model_module_version": "1.5.0",
      "model_name": "BoxModel",
      "state": {
       "children": [
        "IPY_MODEL_dea6a13c8e864d949b6d7201743bc7a0"
       ],
       "layout": "IPY_MODEL_3d065cebc5fd4b60afb89c8ddcc4fad6"
      }
     },
     "7ee8369a4c6c4372bd766ae141fa02f5": {
      "model_module": "@jupyter-widgets/controls",
      "model_module_version": "1.5.0",
      "model_name": "TextModel",
      "state": {
       "description": "Levels",
       "layout": "IPY_MODEL_d14e0eb8ae914568a6f5d286677df522",
       "style": "IPY_MODEL_55930795934943d38ebc3208dfa537cd",
       "value": "4.0, 4.0, 4.0"
      }
     },
     "7eee3796298a4f66b5cfa9ec0d5f4766": {
      "model_module": "@jupyter-widgets/base",
      "model_module_version": "1.2.0",
      "model_name": "LayoutModel",
      "state": {
       "border": "solid"
      }
     },
     "7ef9945c5f8747bf84a445ad97d91a23": {
      "model_module": "@jupyter-widgets/base",
      "model_module_version": "1.2.0",
      "model_name": "LayoutModel",
      "state": {}
     },
     "7efff3acdd604763b0e649115d89659e": {
      "model_module": "@jupyter-widgets/base",
      "model_module_version": "1.2.0",
      "model_name": "LayoutModel",
      "state": {
       "min_width": "6em",
       "width": "6em"
      }
     },
     "7f78f38bc65941c790dc7d67c51190ef": {
      "model_module": "@jupyter-widgets/controls",
      "model_module_version": "1.5.0",
      "model_name": "ButtonStyleModel",
      "state": {}
     },
     "7f8a4474b70d43b6bd476a4712e4a995": {
      "model_module": "@jupyter-widgets/controls",
      "model_module_version": "1.5.0",
      "model_name": "DescriptionStyleModel",
      "state": {
       "description_width": ""
      }
     },
     "7f99bc4657694711a2bf123c37613720": {
      "model_module": "@jupyter-widgets/controls",
      "model_module_version": "1.5.0",
      "model_name": "DropdownModel",
      "state": {
       "_options_labels": [
        "C:\\Users\\dominiquef\\Documents\\GIT\\mira\\geoapps\\assets\\Temp",
        "C:\\Users\\dominiquef\\Documents\\GIT\\mira\\geoapps\\assets",
        "C:\\Users\\dominiquef\\Documents\\GIT\\mira\\geoapps",
        "C:\\Users\\dominiquef\\Documents\\GIT\\mira",
        "C:\\Users\\dominiquef\\Documents\\GIT",
        "C:\\Users\\dominiquef\\Documents",
        "C:\\Users\\dominiquef",
        "C:\\Users",
        "C:\\",
        "G:\\",
        "D:\\",
        "\\\\EgnyteDrive\\mirageoscience\\"
       ],
       "index": 0,
       "layout": "IPY_MODEL_0c858a80aba144748efaaaf314853770",
       "style": "IPY_MODEL_d9ba1a503b2f4c10a2cf154348fa33b4"
      }
     },
     "7fac22545aeb47ff9a9e053e587ad3e1": {
      "model_module": "@jupyter-widgets/controls",
      "model_module_version": "1.5.0",
      "model_name": "DescriptionStyleModel",
      "state": {
       "description_width": ""
      }
     },
     "7fd0c2a5eed74c39ba64507b4629b0db": {
      "model_module": "@jupyter-widgets/base",
      "model_module_version": "1.2.0",
      "model_name": "LayoutModel",
      "state": {
       "width": "auto"
      }
     },
     "7fdcd60bf61e4eb68d01f996328597b7": {
      "model_module": "@jupyter-widgets/controls",
      "model_module_version": "1.5.0",
      "model_name": "ButtonModel",
      "state": {
       "description": "Cancel",
       "layout": "IPY_MODEL_ed7f5cdb7f3d408fa5168c2dc058cf20",
       "style": "IPY_MODEL_8ca69b59b46848f3be73630af7b7885c"
      }
     },
     "7fdce270cd0942839af258beae810f7e": {
      "model_module": "@jupyter-widgets/controls",
      "model_module_version": "1.5.0",
      "model_name": "ButtonStyleModel",
      "state": {}
     },
     "7fe0bddceb2848b7bb2d0e1070f01cc3": {
      "model_module": "@jupyter-widgets/controls",
      "model_module_version": "1.5.0",
      "model_name": "DescriptionStyleModel",
      "state": {
       "description_width": ""
      }
     },
     "7fe72511860f445eb702aa66f7825d90": {
      "model_module": "@jupyter-widgets/controls",
      "model_module_version": "1.5.0",
      "model_name": "DescriptionStyleModel",
      "state": {
       "description_width": ""
      }
     },
     "8021988f7f424f8389c154db1160f811": {
      "model_module": "@jupyter-widgets/base",
      "model_module_version": "1.2.0",
      "model_name": "LayoutModel",
      "state": {
       "margin": "0 0 0 1em"
      }
     },
     "8052719fe3ce4b908c6cc617899f1a5e": {
      "model_module": "@jupyter-widgets/base",
      "model_module_version": "1.2.0",
      "model_name": "LayoutModel",
      "state": {}
     },
     "805f83ccc980483fa7b9d1ea44cf87af": {
      "model_module": "@jupyter-widgets/base",
      "model_module_version": "1.2.0",
      "model_name": "LayoutModel",
      "state": {}
     },
     "80613020f4494329aa33189667250cfd": {
      "model_module": "@jupyter-widgets/controls",
      "model_module_version": "1.5.0",
      "model_name": "DescriptionStyleModel",
      "state": {
       "description_width": "initial"
      }
     },
     "807be8dcc47d4c45825eb1cd3318599d": {
      "model_module": "@jupyter-widgets/base",
      "model_module_version": "1.2.0",
      "model_name": "LayoutModel",
      "state": {
       "border": "solid"
      }
     },
     "8080099b96b14967a0b1cb61130b8567": {
      "model_module": "@jupyter-widgets/controls",
      "model_module_version": "1.5.0",
      "model_name": "DescriptionStyleModel",
      "state": {
       "description_width": "initial"
      }
     },
     "8085364085974640aed9d8319edfa0eb": {
      "model_module": "@jupyter-widgets/controls",
      "model_module_version": "1.5.0",
      "model_name": "LabelModel",
      "state": {
       "layout": "IPY_MODEL_7c9b026974a34907856d7031628946cb",
       "style": "IPY_MODEL_efc7aacfbe7e4e4ab4826a49362768ca",
       "value": "Refinement b "
      }
     },
     "80878983c0974b6db927dccfa0cc190d": {
      "model_module": "@jupyter-widgets/base",
      "model_module_version": "1.2.0",
      "model_name": "LayoutModel",
      "state": {}
     },
     "8095569a9e804ff2a50a29766dd662fb": {
      "model_module": "@jupyter-widgets/base",
      "model_module_version": "1.2.0",
      "model_name": "LayoutModel",
      "state": {}
     },
     "809874cb6e8a43ba99dc853d9271c38c": {
      "model_module": "@jupyter-widgets/base",
      "model_module_version": "1.2.0",
      "model_name": "LayoutModel",
      "state": {
       "min_width": "6em",
       "width": "6em"
      }
     },
     "80acefa479f94931be94721c7cc7163c": {
      "model_module": "@jupyter-widgets/controls",
      "model_module_version": "1.5.0",
      "model_name": "TextModel",
      "state": {
       "description": "Levels",
       "layout": "IPY_MODEL_abefdbf74c6f4e24aa4d9398284f49df",
       "style": "IPY_MODEL_3ac3571c954648b49d09e77887ee3c0b",
       "value": "0, 0, 4"
      }
     },
     "80b686aa27eb4bb884003796d49fbcb6": {
      "model_module": "@jupyter-widgets/controls",
      "model_module_version": "1.5.0",
      "model_name": "DescriptionStyleModel",
      "state": {
       "description_width": "initial"
      }
     },
     "80bd6fb3ce6348529fb44d6ad0d3ad2c": {
      "model_module": "@jupyter-widgets/controls",
      "model_module_version": "1.5.0",
      "model_name": "DescriptionStyleModel",
      "state": {
       "description_width": "initial"
      }
     },
     "80c21b5fcd144816a77a118a748fe356": {
      "model_module": "@jupyter-widgets/controls",
      "model_module_version": "1.5.0",
      "model_name": "DescriptionStyleModel",
      "state": {
       "description_width": ""
      }
     },
     "80eec1b3444a4648a6baf212bcda234f": {
      "model_module": "@jupyter-widgets/controls",
      "model_module_version": "1.5.0",
      "model_name": "DescriptionStyleModel",
      "state": {
       "description_width": "initial"
      }
     },
     "80f35d3fbff4493cbb0692e01559ebea": {
      "model_module": "@jupyter-widgets/controls",
      "model_module_version": "1.5.0",
      "model_name": "DescriptionStyleModel",
      "state": {
       "description_width": ""
      }
     },
     "80f3a49f25a044ed8ff8bd8c3dd43269": {
      "model_module": "@jupyter-widgets/controls",
      "model_module_version": "1.5.0",
      "model_name": "FloatTextModel",
      "state": {
       "description": "Minimum depth (m)",
       "layout": "IPY_MODEL_f2ae630b87144a81bec31beb6bc6bd61",
       "step": null,
       "style": "IPY_MODEL_deed281468344224bf90b3b51437ef12",
       "value": 500
      }
     },
     "80f6e91f38244f6ba2eb87160ca37127": {
      "model_module": "@jupyter-widgets/controls",
      "model_module_version": "1.5.0",
      "model_name": "DescriptionStyleModel",
      "state": {
       "description_width": "initial"
      }
     },
     "81130403c5154702a5a66f5a07fbe473": {
      "model_module": "@jupyter-widgets/base",
      "model_module_version": "1.2.0",
      "model_name": "LayoutModel",
      "state": {}
     },
     "81270a0a27044ee5b6dae11f4aee79c3": {
      "model_module": "@jupyter-widgets/controls",
      "model_module_version": "1.5.0",
      "model_name": "DescriptionStyleModel",
      "state": {
       "description_width": ""
      }
     },
     "814366b415bb4f0d890b905294cf2999": {
      "model_module": "@jupyter-widgets/controls",
      "model_module_version": "1.5.0",
      "model_name": "ButtonModel",
      "state": {
       "description": "Create copy:",
       "layout": "IPY_MODEL_707cb5cc8844407888262583cc8c63e8",
       "style": "IPY_MODEL_a788b46d44c54695b90ba6c59d541d4d"
      }
     },
     "81586684e05d47379b1b004a13643f5a": {
      "model_module": "@jupyter-widgets/controls",
      "model_module_version": "1.5.0",
      "model_name": "DescriptionStyleModel",
      "state": {
       "description_width": "initial"
      }
     },
     "81681279692b42b39b93aaa52c61a2c7": {
      "model_module": "@jupyter-widgets/controls",
      "model_module_version": "1.5.0",
      "model_name": "DescriptionStyleModel",
      "state": {
       "description_width": "initial"
      }
     },
     "816fd5b858f742cf87bb839bdfcd374d": {
      "model_module": "@jupyter-widgets/controls",
      "model_module_version": "1.5.0",
      "model_name": "FloatTextModel",
      "state": {
       "description": "Distance",
       "layout": "IPY_MODEL_4dffa2a822014a5a8d65719a33cf6290",
       "step": null,
       "style": "IPY_MODEL_e5c8cfef2f6c42fbbad978d64f537c03",
       "value": 1000
      }
     },
     "817bdba613524b738afcab353cde9163": {
      "model_module": "@jupyter-widgets/controls",
      "model_module_version": "1.5.0",
      "model_name": "HTMLModel",
      "state": {
       "layout": "IPY_MODEL_c388e0cf48b344838637a60dbf5cf52c",
       "placeholder": "",
       "style": "IPY_MODEL_0372323e017840288771e98b40533f85",
       "value": "<span style=\"color:orange;\">C:\\Users\\dominiquef\\Documents\\GIT\\mira\\geoapps\\assets\\FlinFlon.geoh5</span>"
      }
     },
     "8181274e984242c4b0c061e4c78511d6": {
      "model_module": "@jupyter-widgets/controls",
      "model_module_version": "1.5.0",
      "model_name": "LabelModel",
      "state": {
       "layout": "IPY_MODEL_1e949c515de449dbaea49395ccca4948",
       "style": "IPY_MODEL_ff07d59e56934aa3932ac11998c96f1d",
       "value": "Base Parameters"
      }
     },
     "81a09cce047e4f67beea3caf4642a245": {
      "model_module": "@jupyter-widgets/base",
      "model_module_version": "1.2.0",
      "model_name": "LayoutModel",
      "state": {}
     },
     "81b8934526f04450a98383b93746c986": {
      "model_module": "@jupyter-widgets/controls",
      "model_module_version": "1.5.0",
      "model_name": "SelectModel",
      "state": {
       "_options_labels": [
        "..",
        "dask-worker-space",
        "images"
       ],
       "index": null,
       "layout": "IPY_MODEL_b2d9335666334ce1a3efa41b1c98fe33",
       "rows": 8,
       "style": "IPY_MODEL_dba3f5bc68984c07b4544994d3d6348d"
      }
     },
     "81bfe3e7297647158ab45d2c8675ba08": {
      "model_module": "@jupyter-widgets/base",
      "model_module_version": "1.2.0",
      "model_name": "LayoutModel",
      "state": {}
     },
     "81d1adb1ee5b4d5e82b7c4ccb88bfce8": {
      "model_module": "@jupyter-widgets/controls",
      "model_module_version": "1.5.0",
      "model_name": "LabelModel",
      "state": {
       "layout": "IPY_MODEL_95e4e1161a724c3bb2b02383a718f8a0",
       "style": "IPY_MODEL_833d7458884441d2a1a0f0e84d4fe19f",
       "value": "Monitoring folder"
      }
     },
     "81e244bf0c4a4508bf6f33bbdf64c3fa": {
      "model_module": "@jupyter-widgets/base",
      "model_module_version": "1.2.0",
      "model_name": "LayoutModel",
      "state": {}
     },
     "81f67db7714446a3a0e2ae2f7782dcb2": {
      "model_module": "@jupyter-widgets/controls",
      "model_module_version": "1.5.0",
      "model_name": "ButtonModel",
      "state": {
       "description": "Cancel",
       "layout": "IPY_MODEL_6b509220814140b2b577249d387084cb",
       "style": "IPY_MODEL_310c017d50d9486da4d5547f43702478"
      }
     },
     "82113c243fcc44278b3097dd66fc051d": {
      "model_module": "@jupyter-widgets/base",
      "model_module_version": "1.2.0",
      "model_name": "LayoutModel",
      "state": {
       "grid_area": "filename",
       "width": "auto"
      }
     },
     "821e4a53189143569fcfa6652cbf529b": {
      "model_module": "@jupyter-widgets/base",
      "model_module_version": "1.2.0",
      "model_name": "LayoutModel",
      "state": {}
     },
     "8225d4cba0ec4ffea0d79416e0da9a46": {
      "model_module": "@jupyter-widgets/base",
      "model_module_version": "1.2.0",
      "model_name": "LayoutModel",
      "state": {}
     },
     "82361c001ff943d9b51bf304c794c07c": {
      "model_module": "@jupyter-widgets/controls",
      "model_module_version": "1.5.0",
      "model_name": "ButtonModel",
      "state": {
       "description": "Change",
       "layout": "IPY_MODEL_60fb52d9a8da44ec9fb9cacc948a8118",
       "style": "IPY_MODEL_cfc5c7f6fafc468aa476c3318ff8c005"
      }
     },
     "82551c3762e34d659a0d92d73d88d611": {
      "model_module": "@jupyter-widgets/controls",
      "model_module_version": "1.5.0",
      "model_name": "LabelModel",
      "state": {
       "layout": "IPY_MODEL_25c074658dba44f39d0b4ef57b63be76",
       "style": "IPY_MODEL_c19cebda41ad49478163789df641b026",
       "value": "Base Parameters"
      }
     },
     "825a67edc2824242a7438fe68b2f9669": {
      "model_module": "@jupyter-widgets/controls",
      "model_module_version": "1.5.0",
      "model_name": "DescriptionStyleModel",
      "state": {
       "description_width": "initial"
      }
     },
     "826c43ff6a804c9e9fae97a52bee1fcd": {
      "model_module": "@jupyter-widgets/controls",
      "model_module_version": "1.5.0",
      "model_name": "ButtonModel",
      "state": {
       "description": "Cancel",
       "layout": "IPY_MODEL_8a6cc3a76cb9431580e1c5355570dc39",
       "style": "IPY_MODEL_2207581833084b3db4fdebaccdec5679"
      }
     },
     "8312255502e042f0a204f271bad93f8d": {
      "model_module": "@jupyter-widgets/base",
      "model_module_version": "1.2.0",
      "model_name": "LayoutModel",
      "state": {}
     },
     "8327d275bf06489e9df1c886e1945239": {
      "model_module": "@jupyter-widgets/base",
      "model_module_version": "1.2.0",
      "model_name": "LayoutModel",
      "state": {}
     },
     "8330e343fe4741a0ba4746131002beed": {
      "model_module": "@jupyter-widgets/controls",
      "model_module_version": "1.5.0",
      "model_name": "DescriptionStyleModel",
      "state": {
       "description_width": ""
      }
     },
     "8335e79e817244b98e8544aa20ff60c6": {
      "model_module": "@jupyter-widgets/controls",
      "model_module_version": "1.5.0",
      "model_name": "DropdownModel",
      "state": {
       "_options_labels": [
        "surface",
        "radial"
       ],
       "description": "Type",
       "index": 0,
       "layout": "IPY_MODEL_7d01c959e28d46acb1ecf06fdfb80325",
       "style": "IPY_MODEL_8df360e185a34d04a248584183e9bb13"
      }
     },
     "833d7458884441d2a1a0f0e84d4fe19f": {
      "model_module": "@jupyter-widgets/controls",
      "model_module_version": "1.5.0",
      "model_name": "DescriptionStyleModel",
      "state": {
       "description_width": "initial"
      }
     },
     "8342a810847c4f75a03969cdbe56a0e5": {
      "model_module": "@jupyter-widgets/controls",
      "model_module_version": "1.5.0",
      "model_name": "DescriptionStyleModel",
      "state": {
       "description_width": ""
      }
     },
     "836856d29a2b459181a796bb898b30e2": {
      "model_module": "@jupyter-widgets/base",
      "model_module_version": "1.2.0",
      "model_name": "LayoutModel",
      "state": {}
     },
     "838b8fb2757046fb8b0b7859e6d1984e": {
      "model_module": "@jupyter-widgets/controls",
      "model_module_version": "1.5.0",
      "model_name": "DescriptionStyleModel",
      "state": {
       "description_width": ""
      }
     },
     "839219075ed54e55b122dab2dc09862a": {
      "model_module": "@jupyter-widgets/controls",
      "model_module_version": "1.5.0",
      "model_name": "DropdownModel",
      "state": {
       "_options_labels": [
        "surface",
        "radial"
       ],
       "description": "Type",
       "index": 0,
       "layout": "IPY_MODEL_af7f205062b54d818ce6b48113384489",
       "style": "IPY_MODEL_94e0a131189448c2a801753f282eb2fb"
      }
     },
     "83aa2066c4e74f6eb02cfe82f194894b": {
      "model_module": "@jupyter-widgets/base",
      "model_module_version": "1.2.0",
      "model_name": "LayoutModel",
      "state": {}
     },
     "83b45d1edfac47c3b8375b153b295975": {
      "model_module": "@jupyter-widgets/controls",
      "model_module_version": "1.5.0",
      "model_name": "ButtonStyleModel",
      "state": {}
     },
     "83b9ac25db6c491a89d356978a6ff406": {
      "model_module": "@jupyter-widgets/controls",
      "model_module_version": "1.5.0",
      "model_name": "DropdownModel",
      "state": {
       "_options_labels": [
        "",
        "Data_TEM_pseudo3DEPSG_4326",
        "Iso_Iteration_7_model_2_50e-03",
        "Iso_Iteration_7_model_1_00e-02",
        "Iso_Iteration_7_model_1_50e-02",
        "Iso_Iteration_7_model_2_00e-02",
        "Iso_Iteration_7_model_2_00e-02",
        "Iso_Iteration_7_model_5_00e-03",
        "Iso_Iteration_7_model_2_50e-03",
        "Iso_Iteration_7_model_1_50e-02",
        "Iso_Iteration_7_model_1_00e-02",
        "Iso_Iteration_7_model_5_00e-03",
        "fault_splay1",
        "fault_Cliff_Lake",
        "fault_Other_FlinFlon",
        "fault_Club_Lake_splay",
        "fault_Catherine_splay2",
        "fault_Birch_View",
        "fault_Dion_Lake",
        "fault_FlinFlon_splay",
        "fault_West_Mandy_Road",
        "fault_Channing",
        "fault_Ross_Lake",
        "fault_Louis_Hidden",
        "fault_Lake_View_thrust",
        "contact_Schist_Lake",
        "fault_Burley_Lake",
        "fault_Dion_Lake_splay",
        "fault_Green_Lake",
        "fault_FlinFlon",
        "fault_Catherine_splay1",
        "fault_East_Mandy_Road",
        "fault_Other_FlinFlon_South",
        "fault_Catherine_splay4",
        "contact_Stitt_Island",
        "fault_Club_Lake",
        "fault_Tailing_Pond",
        "35_Hidden_Reservoir_Hr5",
        "29_Hidden_Reservoir_Hr1a",
        "60_BlueLagoon_Fb2",
        "20_FlinFlon_Undivided_Int_Dykes_D2f",
        "04_Boundary_Intrusive_S4h",
        "53_Millrock_Rhyolite_Fm4b",
        "19_FlinFlon_Undivided_Int_Dykes_D2b",
        "18_FlinFlon_Undivided_Int_Dykes_777_D2b",
        "06_Phantom_Lake_Intrusive_S3a",
        "21_FlinFlon_Undivided_Int_Dykes_D3a",
        "43_Millrock_CHLSH_South",
        "56_Millrock_Basalt_Fm1ba",
        "17_FlinFlon_Undivided_Int_Dykes_D2",
        "32_Hidden_Reservoir_Hr1b_SW",
        "11_Missi_M3_NE",
        "13_Missi_M1",
        "07_Annabel_Granitoid_S1",
        "45_Millrock_Gabbro_South",
        "01_Late_Intrusive_S5b",
        "31_Hidden_Reservoir_Hr1c_SW",
        "52_Millrock_Rhyolite_Fm4_West_check",
        "55_Millrock_Basalt_Fm1bf",
        "34_Hidden_Reservoir_Hr2b",
        "03_Boundary_Intrusive_S4b",
        "42_Millrock_CHLSH_North",
        "26_Louis_L3",
        "23_FlinFlon_Undivided_Int_Felsic_D4g",
        "30_Hidden_Reservoir_Hr1b",
        "59_BlueLagoon_Fb3",
        "49_Millrock_MVR_Fm5d",
        "44_Millrock_Gabbro_North",
        "27_Hidden_Carlisle_Hc4",
        "22_FlinFlon_Undivided_Int_Felsic_D4e",
        "02_Boundary_Intrusive_S4a",
        "61_BlueLagoon_Fb1_NW",
        "05_Boundary_Intrusive_S4g",
        "39_Ore_Callinan",
        "38_Ore_Dan_Owens",
        "40_Ore_FlinFlon",
        "Inversion_VTEM_Model",
        "CDI_VTEM_model",
        "Data_FEM_pseudo3D",
        "geochem",
        "Inversion_DIGHEM_Model",
        "Topography",
        "Data_TEM_pseudo3D",
        "Data_ZTEM",
        "Mesh"
       ],
       "description": "Object",
       "index": 78,
       "layout": "IPY_MODEL_46b369e5c570451f94eb63a88cddb4e3",
       "style": "IPY_MODEL_006bf3051f8949dfa2bee930e6531560"
      }
     },
     "83cff25ba7d245459192ecad54caae6e": {
      "model_module": "@jupyter-widgets/controls",
      "model_module_version": "1.5.0",
      "model_name": "DescriptionStyleModel",
      "state": {
       "description_width": "initial"
      }
     },
     "83d3a6bbcb4f4c89ae7e76ede91e9df8": {
      "model_module": "@jupyter-widgets/base",
      "model_module_version": "1.2.0",
      "model_name": "LayoutModel",
      "state": {}
     },
     "83e3992d46ac47159d6d7c32798083b3": {
      "model_module": "@jupyter-widgets/base",
      "model_module_version": "1.2.0",
      "model_name": "LayoutModel",
      "state": {}
     },
     "83e3a42b9ed84589a64d46e159606cf8": {
      "model_module": "@jupyter-widgets/base",
      "model_module_version": "1.2.0",
      "model_name": "LayoutModel",
      "state": {}
     },
     "83e8129c56a74968b5b4a0636896b30e": {
      "model_module": "@jupyter-widgets/controls",
      "model_module_version": "1.5.0",
      "model_name": "LabelModel",
      "state": {
       "layout": "IPY_MODEL_8ee6fd337cb14139a09711ff2d6b4371",
       "style": "IPY_MODEL_266c6a6a0b524fd4b823bf7a09ebcbcf",
       "value": "Core cell size"
      }
     },
     "840ad6de15c040c2bba413d5a1a8d219": {
      "model_module": "@jupyter-widgets/base",
      "model_module_version": "1.2.0",
      "model_name": "LayoutModel",
      "state": {}
     },
     "8413eb315b9a4db3b178d06298f4bef4": {
      "model_module": "@jupyter-widgets/controls",
      "model_module_version": "1.5.0",
      "model_name": "DropdownModel",
      "state": {
       "_options_labels": [
        "",
        "Ore/39_Ore_Callinan",
        "Ore/38_Ore_Dan_Owens",
        "Ore/40_Ore_FlinFlon",
        "Workspace/Inversion_VTEM_Model",
        "Workspace/CDI_VTEM_model",
        "Workspace/Data_FEM_pseudo3D",
        "Workspace/geochem",
        "Workspace/Inversion_DIGHEM_Model",
        "Workspace/Topography",
        "Workspace/Data_TEM_pseudo3D",
        "Workspace/Data_ZTEM",
        "Workspace/Mesh"
       ],
       "description": "Object",
       "index": 9,
       "layout": "IPY_MODEL_47a272b436664f1981044152c8051b5f",
       "style": "IPY_MODEL_37c4c139bb91444c86a7ce72d92e6dc9"
      }
     },
     "845af16214514b0a954bdb323769580d": {
      "model_module": "@jupyter-widgets/base",
      "model_module_version": "1.2.0",
      "model_name": "LayoutModel",
      "state": {}
     },
     "845bf9567e3343adb24a1e67c617bde1": {
      "model_module": "@jupyter-widgets/base",
      "model_module_version": "1.2.0",
      "model_name": "LayoutModel",
      "state": {}
     },
     "846a075d76f640dfa00b9b6abafa3d35": {
      "model_module": "@jupyter-widgets/controls",
      "model_module_version": "1.5.0",
      "model_name": "VBoxModel",
      "state": {
       "children": [
        "IPY_MODEL_2274e36749104645bedc6a4e7ded2788",
        "IPY_MODEL_6b22a0a11e00432c9e494c819282e27e",
        "IPY_MODEL_a10a2c30fade44e69a139b5d8585e4df"
       ],
       "layout": "IPY_MODEL_aa1ce08d2d5342f7bdcb986fa966bab7"
      }
     },
     "8477c15d11064503910f6ab03303c916": {
      "model_module": "@jupyter-widgets/controls",
      "model_module_version": "1.5.0",
      "model_name": "ButtonStyleModel",
      "state": {}
     },
     "84a1d38d241448dbbae29816b590d81b": {
      "model_module": "@jupyter-widgets/controls",
      "model_module_version": "1.5.0",
      "model_name": "ToggleButtonModel",
      "state": {
       "layout": "IPY_MODEL_bf22e90e91724450b44cb74863a11657",
       "style": "IPY_MODEL_d08df30ccad5437da62ec957e0f62c01"
      }
     },
     "84c40b655e054108976341739840847d": {
      "model_module": "@jupyter-widgets/controls",
      "model_module_version": "1.5.0",
      "model_name": "DescriptionStyleModel",
      "state": {
       "description_width": "initial"
      }
     },
     "84d383e5bb3a41b4ae46ccdafed668ef": {
      "model_module": "@jupyter-widgets/controls",
      "model_module_version": "1.5.0",
      "model_name": "LabelModel",
      "state": {
       "layout": "IPY_MODEL_77ca80bec41a4ae7841984671712c977",
       "style": "IPY_MODEL_2e24c489f7f741729cfa2a12094b993f",
       "value": "Padding distance"
      }
     },
     "84e7bc53afaf4b87b1f21c48df4ee2d8": {
      "model_module": "@jupyter-widgets/controls",
      "model_module_version": "1.5.0",
      "model_name": "DropdownModel",
      "state": {
       "_options_labels": [
        "C:\\Users\\dominiquef\\Documents\\GIT\\mira\\geoapps\\assets",
        "C:\\Users\\dominiquef\\Documents\\GIT\\mira\\geoapps",
        "C:\\Users\\dominiquef\\Documents\\GIT\\mira",
        "C:\\Users\\dominiquef\\Documents\\GIT",
        "C:\\Users\\dominiquef\\Documents",
        "C:\\Users\\dominiquef",
        "C:\\Users",
        "C:\\",
        "G:\\",
        "\\\\EgnyteDrive\\mirageoscience\\",
        "D:\\"
       ],
       "index": 0,
       "layout": "IPY_MODEL_900001e63cf5483581ce633d238ed231",
       "style": "IPY_MODEL_0f59d179412d41abb468a241c5d318c3"
      }
     },
     "84feb298c20044f890f70374342b06c6": {
      "model_module": "@jupyter-widgets/controls",
      "model_module_version": "1.5.0",
      "model_name": "DescriptionStyleModel",
      "state": {
       "description_width": "initial"
      }
     },
     "85091b2156af44edbf4071f4441ffad4": {
      "model_module": "@jupyter-widgets/base",
      "model_module_version": "1.2.0",
      "model_name": "LayoutModel",
      "state": {}
     },
     "851f84ca29cd4e42bc8adb702b513757": {
      "model_module": "@jupyter-widgets/controls",
      "model_module_version": "1.5.0",
      "model_name": "DescriptionStyleModel",
      "state": {
       "description_width": ""
      }
     },
     "853941333cd3461e91ba8043d7d8dddb": {
      "model_module": "@jupyter-widgets/controls",
      "model_module_version": "1.5.0",
      "model_name": "ToggleButtonModel",
      "state": {
       "layout": "IPY_MODEL_c59e095513324f119505488e715f2197",
       "style": "IPY_MODEL_eeab90b2a3f74a48b853658c0230d6b2"
      }
     },
     "85418f019bc84e3cbb2e1ca769484967": {
      "model_module": "@jupyter-widgets/controls",
      "model_module_version": "1.5.0",
      "model_name": "ButtonStyleModel",
      "state": {}
     },
     "85447453b88940c3870515c0d06271b7": {
      "model_module": "@jupyter-widgets/controls",
      "model_module_version": "1.5.0",
      "model_name": "DescriptionStyleModel",
      "state": {
       "description_width": "initial"
      }
     },
     "8547ba1bf2ab4924b1b65fc0986c8154": {
      "model_module": "@jupyter-widgets/controls",
      "model_module_version": "1.5.0",
      "model_name": "HTMLModel",
      "state": {
       "layout": "IPY_MODEL_246eb65109304dd8b1c4f7cdad896a32",
       "placeholder": "",
       "style": "IPY_MODEL_d4bb26dc4ac746378bd0efa2ea32f70b",
       "value": "<span style=\"margin-left:10px; color:black;\">No file selected</span>"
      }
     },
     "8560c2bf4aa641d2a2dcf49956008f8c": {
      "model_module": "@jupyter-widgets/controls",
      "model_module_version": "1.5.0",
      "model_name": "FloatTextModel",
      "state": {
       "description": "Vertical",
       "layout": "IPY_MODEL_f54a5017e1904c2d9e5af0ca4bf431bc",
       "step": null,
       "style": "IPY_MODEL_5240af3294af444589beb59ef3a79238",
       "value": 25
      }
     },
     "857701b658894802bca3e034bfd616d5": {
      "model_module": "@jupyter-widgets/base",
      "model_module_version": "1.2.0",
      "model_name": "LayoutModel",
      "state": {}
     },
     "857bc571b2ab4aa2af1f83c281c53804": {
      "model_module": "@jupyter-widgets/base",
      "model_module_version": "1.2.0",
      "model_name": "LayoutModel",
      "state": {}
     },
     "858a8844712d4e77b1bf0ed27af354d4": {
      "model_module": "@jupyter-widgets/controls",
      "model_module_version": "1.5.0",
      "model_name": "FloatTextModel",
      "state": {
       "description": "Northing",
       "layout": "IPY_MODEL_28b5335da455484eb3188e1b3b1b754f",
       "step": null,
       "style": "IPY_MODEL_4292933b9e0f47a0b138764576be837c",
       "value": 25
      }
     },
     "859936a3b1b4459790b296b6654b0bb5": {
      "model_module": "@jupyter-widgets/controls",
      "model_module_version": "1.5.0",
      "model_name": "FloatTextModel",
      "state": {
       "description": "Easting",
       "layout": "IPY_MODEL_e6dc55aac31d45a39ea913f515d8e7ed",
       "step": null,
       "style": "IPY_MODEL_bbd99dec9c004efea00b41ea02a18474",
       "value": 25
      }
     },
     "859bc380e0094c9eb67006170413d638": {
      "model_module": "@jupyter-widgets/controls",
      "model_module_version": "1.5.0",
      "model_name": "DescriptionStyleModel",
      "state": {
       "description_width": "initial"
      }
     },
     "85af8a1c29584ab59cce9560669f2b48": {
      "model_module": "@jupyter-widgets/base",
      "model_module_version": "1.2.0",
      "model_name": "LayoutModel",
      "state": {
       "grid_area": "filename",
       "width": "auto"
      }
     },
     "85bc5eab76c5401696cae189331d4673": {
      "model_module": "@jupyter-widgets/controls",
      "model_module_version": "1.5.0",
      "model_name": "ButtonModel",
      "state": {
       "button_style": "danger",
       "description": "Create",
       "icon": "check",
       "layout": "IPY_MODEL_d68e7ce6bd194e27b8b125caa6acd4ca",
       "style": "IPY_MODEL_c075d62424984d629dd674d180c561dc",
       "tooltip": "Run computation"
      }
     },
     "85bf64d456e74dba903bcc1585fe9be2": {
      "model_module": "@jupyter-widgets/controls",
      "model_module_version": "1.5.0",
      "model_name": "DescriptionStyleModel",
      "state": {
       "description_width": "initial"
      }
     },
     "85c3b4d099ae484ab3900a5a9a8eb198": {
      "model_module": "@jupyter-widgets/controls",
      "model_module_version": "1.5.0",
      "model_name": "LabelModel",
      "state": {
       "layout": "IPY_MODEL_a58b158ad6fa4b49a031a587c29b9eb3",
       "style": "IPY_MODEL_37a93ea6383d43e6bd61d2139f64b379",
       "value": "Monitoring folder"
      }
     },
     "85c56c16edd94ebcb511d5e5fb387b56": {
      "model_module": "@jupyter-widgets/controls",
      "model_module_version": "1.5.0",
      "model_name": "CheckboxModel",
      "state": {
       "description": "Geoscience ANALYST Pro - Live link",
       "disabled": false,
       "indent": false,
       "layout": "IPY_MODEL_1cfee73758704c0ab49cf04173efb04e",
       "style": "IPY_MODEL_62c9535235914be583018f202b7e1ee3",
       "value": false
      }
     },
     "85cbc8df97484955b7ee34b89200642c": {
      "model_module": "@jupyter-widgets/base",
      "model_module_version": "1.2.0",
      "model_name": "LayoutModel",
      "state": {}
     },
     "85e0f589f3834aa28c49cccd61ce048c": {
      "model_module": "@jupyter-widgets/controls",
      "model_module_version": "1.5.0",
      "model_name": "FloatTextModel",
      "state": {
       "description": "Vertical",
       "layout": "IPY_MODEL_fda310f98de246b4b1c64cd773ea8b48",
       "step": null,
       "style": "IPY_MODEL_21d8bfb8b0e04b5e96a017880db38a85",
       "value": 25
      }
     },
     "861b46bcd3024e1ea5da42b7e99f3b9f": {
      "model_module": "@jupyter-widgets/controls",
      "model_module_version": "1.5.0",
      "model_name": "DescriptionStyleModel",
      "state": {
       "description_width": "initial"
      }
     },
     "863d8c967283407e8fe622f7f7a5bd32": {
      "model_module": "@jupyter-widgets/controls",
      "model_module_version": "1.5.0",
      "model_name": "TextModel",
      "state": {
       "description": "Levels",
       "layout": "IPY_MODEL_99edec10350f4205838b2d4d6e003877",
       "style": "IPY_MODEL_678fa79642c246f386992e7794bd0ce6",
       "value": "4, 4, 4"
      }
     },
     "86801c5574a34583bc58ba90dd50f36f": {
      "model_module": "@jupyter-widgets/controls",
      "model_module_version": "1.5.0",
      "model_name": "DropdownModel",
      "state": {
       "_options_labels": [
        "",
        "CoordinateTransformation/Data_TEM_pseudo3DEPSG_4326",
        "ISO/Iso_Iteration_7_model_5_00e-03",
        "ISO/Iso_Iteration_7_model_1_00e-02",
        "ISO/Iso_Iteration_7_model_1_50e-02",
        "ISO/Iso_Iteration_7_model_2_50e-03",
        "ISO/Iso_Iteration_7_model_2_00e-02",
        "Ore/39_Ore_Callinan",
        "Ore/38_Ore_Dan_Owens",
        "Ore/40_Ore_FlinFlon",
        "Workspace/Inversion_VTEM_Model",
        "Workspace/CDI_VTEM_model",
        "Workspace/Data_FEM_pseudo3D",
        "Workspace/geochem",
        "Workspace/Inversion_DIGHEM_Model",
        "Workspace/Topography",
        "Workspace/Data_TEM_pseudo3D",
        "Workspace/Data_ZTEM",
        "Workspace/Mesh"
       ],
       "description": "Object",
       "index": 15,
       "layout": "IPY_MODEL_7ef9945c5f8747bf84a445ad97d91a23",
       "style": "IPY_MODEL_f9c24fd676ae492896f3aa6301f7e994"
      }
     },
     "86ae4c46f9ee4069b47a84a0cc6ee7ba": {
      "model_module": "@jupyter-widgets/controls",
      "model_module_version": "1.5.0",
      "model_name": "DescriptionStyleModel",
      "state": {
       "description_width": "initial"
      }
     },
     "86b04be854d14c38be33196c5629a804": {
      "model_module": "@jupyter-widgets/controls",
      "model_module_version": "1.5.0",
      "model_name": "TextModel",
      "state": {
       "disabled": true,
       "layout": "IPY_MODEL_544a53eac2e74b008b6e431206988120",
       "placeholder": "output filename",
       "style": "IPY_MODEL_54882ffb0be240fb8bbe733718b68671"
      }
     },
     "86c02b0cf5ff40d1b58bf321e7536cd4": {
      "model_module": "@jupyter-widgets/controls",
      "model_module_version": "1.5.0",
      "model_name": "ButtonModel",
      "state": {
       "description": "Select",
       "layout": "IPY_MODEL_1a923deaf2ff45a4b5de70a363421589",
       "style": "IPY_MODEL_ff0ac10240e340929dd97213f76e9a31"
      }
     },
     "86da11aaa30942899875c7945c1d35c7": {
      "model_module": "@jupyter-widgets/base",
      "model_module_version": "1.2.0",
      "model_name": "LayoutModel",
      "state": {
       "margin": "0 0 0 1em"
      }
     },
     "86eca6691c5b4ff6b22ae281c625a5ca": {
      "model_module": "@jupyter-widgets/base",
      "model_module_version": "1.2.0",
      "model_name": "LayoutModel",
      "state": {}
     },
     "870c03a0efda47ce9228a14d0c84c2c1": {
      "model_module": "@jupyter-widgets/controls",
      "model_module_version": "1.5.0",
      "model_name": "ButtonStyleModel",
      "state": {}
     },
     "871e2a485e194b13a6658bb7c5a8e104": {
      "model_module": "@jupyter-widgets/controls",
      "model_module_version": "1.5.0",
      "model_name": "GridBoxModel",
      "state": {
       "children": [
        "IPY_MODEL_3ca73c94cdf3403590cf7d9226644bf1",
        "IPY_MODEL_f0c112d25ac94ef5ba82a97d28aeebaf",
        "IPY_MODEL_a91c8374ffd3412ba07e5e8453568b65"
       ],
       "layout": "IPY_MODEL_24dccbd7594f42848f5a1347a56e6f6d"
      }
     },
     "87373b01b5bc48aa9d04daa7e7b6dc63": {
      "model_module": "@jupyter-widgets/controls",
      "model_module_version": "1.5.0",
      "model_name": "DescriptionStyleModel",
      "state": {
       "description_width": "initial"
      }
     },
     "8738bc3f54c94e1caf6a922a1b8766d4": {
      "model_module": "@jupyter-widgets/controls",
      "model_module_version": "1.5.0",
      "model_name": "DescriptionStyleModel",
      "state": {
       "description_width": "initial"
      }
     },
     "8752ba14f55f474fbfb3a93cd69a384d": {
      "model_module": "@jupyter-widgets/controls",
      "model_module_version": "1.5.0",
      "model_name": "LabelModel",
      "state": {
       "layout": "IPY_MODEL_5a9a0d6c81034505b28ba551d2ccb447",
       "style": "IPY_MODEL_a02ac8ae1b114662a05db571160c916a",
       "value": "Refinement B"
      }
     },
     "87531c66012b4dc7ae3058cd4ae74391": {
      "model_module": "@jupyter-widgets/controls",
      "model_module_version": "1.5.0",
      "model_name": "FloatTextModel",
      "state": {
       "description": "Horizontal (m)",
       "layout": "IPY_MODEL_f87b9f3683db4d9e847a9f9143853ac6",
       "step": null,
       "style": "IPY_MODEL_666c99dc1c144e78ab67bdb63ccd29f0",
       "value": 1000
      }
     },
     "87545b71477844658ca826b452e62a5e": {
      "model_module": "@jupyter-widgets/controls",
      "model_module_version": "1.5.0",
      "model_name": "LabelModel",
      "state": {
       "layout": "IPY_MODEL_500a76e135c24316b2538e702e937814",
       "style": "IPY_MODEL_97695c7ec6844188a8c5895b1d4205f8",
       "value": "Padding distance"
      }
     },
     "875818c06562401590047f9c84273f62": {
      "model_module": "@jupyter-widgets/base",
      "model_module_version": "1.2.0",
      "model_name": "LayoutModel",
      "state": {}
     },
     "87808d79b7b9454a81febefa117c6005": {
      "model_module": "@jupyter-widgets/controls",
      "model_module_version": "1.5.0",
      "model_name": "DescriptionStyleModel",
      "state": {
       "description_width": "initial"
      }
     },
     "879f1ea37f7a41a68ca17dc95ed08631": {
      "model_module": "@jupyter-widgets/base",
      "model_module_version": "1.2.0",
      "model_name": "LayoutModel",
      "state": {}
     },
     "87ac6d30fe334fde95ac9faf937edae3": {
      "model_module": "@jupyter-widgets/controls",
      "model_module_version": "1.5.0",
      "model_name": "DescriptionStyleModel",
      "state": {
       "description_width": "initial"
      }
     },
     "87ac7fec2b3d45edb3a898b894642b8f": {
      "model_module": "@jupyter-widgets/controls",
      "model_module_version": "1.5.0",
      "model_name": "DescriptionStyleModel",
      "state": {
       "description_width": "initial"
      }
     },
     "87c288e9e22e41eba0c226d305443a65": {
      "model_module": "@jupyter-widgets/controls",
      "model_module_version": "1.5.0",
      "model_name": "DescriptionStyleModel",
      "state": {
       "description_width": ""
      }
     },
     "87ce7e9bb97b45bcb6f615300b580934": {
      "model_module": "@jupyter-widgets/controls",
      "model_module_version": "1.5.0",
      "model_name": "HTMLModel",
      "state": {
       "layout": "IPY_MODEL_42d8533e9887446896987d3776255295",
       "placeholder": "",
       "style": "IPY_MODEL_2851b64d104846ed9708f0e22710e93e",
       "value": "<span style=\"color:orange;\">C:\\Users\\dominiquef\\Documents\\GIT\\mira\\geoapps\\assets\\FlinFlon.geoh5</span>"
      }
     },
     "87ef01821bdb4b1dab39295bf9010948": {
      "model_module": "@jupyter-widgets/controls",
      "model_module_version": "1.5.0",
      "model_name": "GridBoxModel",
      "state": {
       "children": [
        "IPY_MODEL_1e3fa923bcf843bfaf5b3a66c70fca29",
        "IPY_MODEL_a95c0d9d2f0d4efc90cbaaa06dd0dca0",
        "IPY_MODEL_6509612dd7fd4f0cbd2c75a9581262f5"
       ],
       "layout": "IPY_MODEL_fe5c6e746d9240a0b56377d685c23a2d"
      }
     },
     "88057524de6c419baea00df7bf642ddb": {
      "model_module": "@jupyter-widgets/base",
      "model_module_version": "1.2.0",
      "model_name": "LayoutModel",
      "state": {}
     },
     "880ca9eb196341ee824a7a80d97364b4": {
      "model_module": "@jupyter-widgets/base",
      "model_module_version": "1.2.0",
      "model_name": "LayoutModel",
      "state": {}
     },
     "882bd4ae6e7044099580a69bb56600f6": {
      "model_module": "@jupyter-widgets/controls",
      "model_module_version": "1.5.0",
      "model_name": "ButtonStyleModel",
      "state": {}
     },
     "882e2f3829344bbeae5108881dd043dc": {
      "model_module": "@jupyter-widgets/controls",
      "model_module_version": "1.5.0",
      "model_name": "LabelModel",
      "state": {
       "layout": "IPY_MODEL_343632be273e42ff9ab9fdc09e78f3f7",
       "style": "IPY_MODEL_0204a75e353b470f92c2ad08324b73a6",
       "value": "Save to:"
      }
     },
     "8843ff24dcc14d54af726a3bda10b875": {
      "model_module": "@jupyter-widgets/controls",
      "model_module_version": "1.5.0",
      "model_name": "DescriptionStyleModel",
      "state": {
       "description_width": "initial"
      }
     },
     "889d740be4614db28a79ec1762db3e6b": {
      "model_module": "@jupyter-widgets/base",
      "model_module_version": "1.2.0",
      "model_name": "LayoutModel",
      "state": {
       "width": "auto"
      }
     },
     "88bbc9cafdce4ca7b3dc3637591ae00e": {
      "model_module": "@jupyter-widgets/controls",
      "model_module_version": "1.5.0",
      "model_name": "DescriptionStyleModel",
      "state": {
       "description_width": ""
      }
     },
     "88c410ed3e424750a8976a00bfe5511a": {
      "model_module": "@jupyter-widgets/base",
      "model_module_version": "1.2.0",
      "model_name": "LayoutModel",
      "state": {
       "display": "none"
      }
     },
     "88f773a4887f4d16b57fab25b4357fb1": {
      "model_module": "@jupyter-widgets/base",
      "model_module_version": "1.2.0",
      "model_name": "LayoutModel",
      "state": {
       "width": "auto"
      }
     },
     "8903680f6912432ab73b02a086a009f4": {
      "model_module": "@jupyter-widgets/base",
      "model_module_version": "1.2.0",
      "model_name": "LayoutModel",
      "state": {
       "width": "auto"
      }
     },
     "890c18a8c3604036bcace3ddd92ca301": {
      "model_module": "@jupyter-widgets/controls",
      "model_module_version": "1.5.0",
      "model_name": "FloatTextModel",
      "state": {
       "description": "Vertical (m)",
       "layout": "IPY_MODEL_9621eb85a3674fa58cdfe2e8f41dd4fb",
       "step": null,
       "style": "IPY_MODEL_d5482197288f4297ab54a4cb726f7a88",
       "value": 1000
      }
     },
     "891b339992e741ce80d92bb15f44aff3": {
      "model_module": "@jupyter-widgets/base",
      "model_module_version": "1.2.0",
      "model_name": "LayoutModel",
      "state": {
       "width": "auto"
      }
     },
     "894e9185d93742c49c99c3af7854fcf0": {
      "model_module": "@jupyter-widgets/controls",
      "model_module_version": "1.5.0",
      "model_name": "DescriptionStyleModel",
      "state": {
       "description_width": "initial"
      }
     },
     "895fb08a96724ce2beb07db873d0a06b": {
      "model_module": "@jupyter-widgets/controls",
      "model_module_version": "1.5.0",
      "model_name": "DescriptionStyleModel",
      "state": {
       "description_width": ""
      }
     },
     "8986aeb615d94166bcdcd882580937c0": {
      "model_module": "@jupyter-widgets/controls",
      "model_module_version": "1.5.0",
      "model_name": "DescriptionStyleModel",
      "state": {
       "description_width": "initial"
      }
     },
     "89952387f4b74dd1bbf53f632bcf06d8": {
      "model_module": "@jupyter-widgets/base",
      "model_module_version": "1.2.0",
      "model_name": "LayoutModel",
      "state": {
       "width": "auto"
      }
     },
     "89cea0f4a5b04fc6bd0c1a05d08854d3": {
      "model_module": "@jupyter-widgets/controls",
      "model_module_version": "1.5.0",
      "model_name": "DescriptionStyleModel",
      "state": {
       "description_width": ""
      }
     },
     "89d9262e351f4fedaef694a089ff90f8": {
      "model_module": "@jupyter-widgets/controls",
      "model_module_version": "1.5.0",
      "model_name": "DropdownModel",
      "state": {
       "_options_labels": [
        "C:\\Users\\dominiquef\\Documents\\GIT\\mira\\geoapps\\assets",
        "C:\\Users\\dominiquef\\Documents\\GIT\\mira\\geoapps",
        "C:\\Users\\dominiquef\\Documents\\GIT\\mira",
        "C:\\Users\\dominiquef\\Documents\\GIT",
        "C:\\Users\\dominiquef\\Documents",
        "C:\\Users\\dominiquef",
        "C:\\Users",
        "C:\\",
        "G:\\",
        "\\\\EgnyteDrive\\mirageoscience\\",
        "D:\\"
       ],
       "index": 0,
       "layout": "IPY_MODEL_b31f6dd82244473fa8f2963381d8f34f",
       "style": "IPY_MODEL_838b8fb2757046fb8b0b7859e6d1984e"
      }
     },
     "89dec57e2384497bb4b64f63ed08e0cf": {
      "model_module": "@jupyter-widgets/controls",
      "model_module_version": "1.5.0",
      "model_name": "DescriptionStyleModel",
      "state": {
       "description_width": "initial"
      }
     },
     "8a15934894d34ba1949c927f5bdf6894": {
      "model_module": "@jupyter-widgets/base",
      "model_module_version": "1.2.0",
      "model_name": "LayoutModel",
      "state": {
       "display": "none",
       "grid_gap": "0px 0px",
       "grid_template_areas": "\n                    'pathlist filename'\n                    'dircontent dircontent'\n                    ",
       "grid_template_columns": "60% 40%",
       "grid_template_rows": "auto auto",
       "width": "auto"
      }
     },
     "8a1c89b1450440ec97f9756c74799296": {
      "model_module": "@jupyter-widgets/controls",
      "model_module_version": "1.5.0",
      "model_name": "DescriptionStyleModel",
      "state": {
       "description_width": "initial"
      }
     },
     "8a27b6ef5661472c86db013fbb12e9e2": {
      "model_module": "@jupyter-widgets/controls",
      "model_module_version": "1.5.0",
      "model_name": "VBoxModel",
      "state": {
       "children": [
        "IPY_MODEL_52b4687fedf946f5b519e1dc988fa45d"
       ],
       "layout": "IPY_MODEL_6b5a8b6022df411ebc9a249fa269cc13"
      }
     },
     "8a58ff3605a54869ad81e32ba210110b": {
      "model_module": "@jupyter-widgets/controls",
      "model_module_version": "1.5.0",
      "model_name": "DescriptionStyleModel",
      "state": {
       "description_width": ""
      }
     },
     "8a6cc3a76cb9431580e1c5355570dc39": {
      "model_module": "@jupyter-widgets/base",
      "model_module_version": "1.2.0",
      "model_name": "LayoutModel",
      "state": {
       "display": "none",
       "min_width": "6em",
       "width": "6em"
      }
     },
     "8a8aadb7d69645d2b2d6abc5b8f07fa0": {
      "model_module": "@jupyter-widgets/controls",
      "model_module_version": "1.5.0",
      "model_name": "TextModel",
      "state": {
       "description": "Levels",
       "layout": "IPY_MODEL_ed0805c7b91245d79fc62df48d94653a",
       "style": "IPY_MODEL_dd28b3d66e9d4409beaca7a79f5e1c7d",
       "value": "0.0, 0.0, 2.0"
      }
     },
     "8a9d880035264bcc91342e55dd393c50": {
      "model_module": "@jupyter-widgets/controls",
      "model_module_version": "1.5.0",
      "model_name": "LabelModel",
      "state": {
       "layout": "IPY_MODEL_1f36883bd1bf4519a79cf42d6d412b36",
       "style": "IPY_MODEL_23b2f53358724bc5accb39b0f00d7f4c",
       "value": "Core cell size"
      }
     },
     "8aa927a1b46d436da004858726092890": {
      "model_module": "@jupyter-widgets/controls",
      "model_module_version": "1.5.0",
      "model_name": "DescriptionStyleModel",
      "state": {
       "description_width": ""
      }
     },
     "8abdc9e563d642479560c1ba0a5cf459": {
      "model_module": "@jupyter-widgets/controls",
      "model_module_version": "1.5.0",
      "model_name": "HTMLModel",
      "state": {
       "layout": "IPY_MODEL_b5a02601c53445be8f3075ec24d116e4",
       "style": "IPY_MODEL_99819bd7f2fa4b2dacde9dbda6c6584b"
      }
     },
     "8ae1c563eae84c1faf6f089911b57f71": {
      "model_module": "@jupyter-widgets/controls",
      "model_module_version": "1.5.0",
      "model_name": "VBoxModel",
      "state": {
       "children": [
        "IPY_MODEL_9339aded0d4947fc80b03f4e4437c204",
        "IPY_MODEL_f7f4c329d10443cfa51f41570222fb79"
       ],
       "layout": "IPY_MODEL_23858db77e19432a8f2ec3070d0d6eb2"
      }
     },
     "8ae2ebefa8e44d299c805882b9e2bd31": {
      "model_module": "@jupyter-widgets/controls",
      "model_module_version": "1.5.0",
      "model_name": "FloatTextModel",
      "state": {
       "description": "Minimum depth (m)",
       "layout": "IPY_MODEL_2bc27852f4bf4e5d86826c23a1721d5f",
       "step": null,
       "style": "IPY_MODEL_e1cd5d7b366245f591f3900895d2759b",
       "value": 500
      }
     },
     "8afad8daf81a4f3795df25eb217a9c7d": {
      "model_module": "@jupyter-widgets/controls",
      "model_module_version": "1.5.0",
      "model_name": "DescriptionStyleModel",
      "state": {
       "description_width": "initial"
      }
     },
     "8b25fcffa5ed4b6791e07e8038bc827b": {
      "model_module": "@jupyter-widgets/base",
      "model_module_version": "1.2.0",
      "model_name": "LayoutModel",
      "state": {}
     },
     "8b2b2135c11141118225b4361e86d4bf": {
      "model_module": "@jupyter-widgets/controls",
      "model_module_version": "1.5.0",
      "model_name": "DropdownModel",
      "state": {
       "_options_labels": [
        "",
        "Ore/39_Ore_Callinan",
        "Ore/38_Ore_Dan_Owens",
        "Ore/40_Ore_FlinFlon",
        "Workspace/Inversion_VTEM_Model",
        "Workspace/CDI_VTEM_model",
        "Workspace/Data_FEM_pseudo3D",
        "Workspace/geochem",
        "Workspace/Inversion_DIGHEM_Model",
        "Workspace/Topography",
        "Workspace/Data_TEM_pseudo3D",
        "Workspace/Data_ZTEM",
        "Workspace/Mesh"
       ],
       "description": "Core hull extent:",
       "index": 6,
       "layout": "IPY_MODEL_25b260a861174e7e8a1c57192177feed",
       "style": "IPY_MODEL_072bfce0ec0a4623a377cc970390671c"
      }
     },
     "8b2bddf928f6474fbcd4c598504ad1be": {
      "model_module": "@jupyter-widgets/controls",
      "model_module_version": "1.5.0",
      "model_name": "DescriptionStyleModel",
      "state": {
       "description_width": "initial"
      }
     },
     "8b35b8256cc24ae7a9b83456c7416164": {
      "model_module": "@jupyter-widgets/controls",
      "model_module_version": "1.5.0",
      "model_name": "DescriptionStyleModel",
      "state": {
       "description_width": ""
      }
     },
     "8b4e70d2466e41f8907327edaaae9b0a": {
      "model_module": "@jupyter-widgets/base",
      "model_module_version": "1.2.0",
      "model_name": "LayoutModel",
      "state": {
       "display": "none"
      }
     },
     "8b511d0d9d1c4b79b5cc3134ac1b0298": {
      "model_module": "@jupyter-widgets/controls",
      "model_module_version": "1.5.0",
      "model_name": "DropdownModel",
      "state": {
       "_options_labels": [
        "",
        "Ore/39_Ore_Callinan",
        "Ore/38_Ore_Dan_Owens",
        "Ore/40_Ore_FlinFlon",
        "Workspace/Inversion_VTEM_Model",
        "Workspace/DC_Survey (currents)",
        "Workspace/CDI_VTEM_model",
        "Workspace/Data_FEM_pseudo3D",
        "Workspace/geochem",
        "Workspace/DC_Survey",
        "Workspace/Inversion_DIGHEM_Model",
        "Workspace/Topography",
        "Workspace/Data_TEM_pseudo3D",
        "Workspace/Data_ZTEM",
        "Workspace/Mesh"
       ],
       "description": "Object",
       "index": 7,
       "layout": "IPY_MODEL_76c1a73440fc4e548855731d4d3534aa",
       "style": "IPY_MODEL_15b3e9604baa45d5a527e81c1e6d7461"
      }
     },
     "8b6035aed9a442de8292f76d7fd8abe4": {
      "model_module": "@jupyter-widgets/controls",
      "model_module_version": "1.5.0",
      "model_name": "LabelModel",
      "state": {
       "layout": "IPY_MODEL_36d78fc42048476d8e5439eee0ed039f",
       "style": "IPY_MODEL_575f3e9fc8834c5eb127e22d94d2e8b6",
       "value": "Refinement B"
      }
     },
     "8b661e0ee9784f74ab0f48fe5a6db86c": {
      "model_module": "@jupyter-widgets/base",
      "model_module_version": "1.2.0",
      "model_name": "LayoutModel",
      "state": {}
     },
     "8b6c009e6b0d49178e572aec0da46c27": {
      "model_module": "@jupyter-widgets/controls",
      "model_module_version": "1.5.0",
      "model_name": "DescriptionStyleModel",
      "state": {
       "description_width": "initial"
      }
     },
     "8b6dd342a8274a90b95d7928af9b170c": {
      "model_module": "@jupyter-widgets/controls",
      "model_module_version": "1.5.0",
      "model_name": "VBoxModel",
      "state": {
       "children": [
        "IPY_MODEL_debfd068f7904e94b4497e0906f0734a",
        "IPY_MODEL_32aae5f62b6c4a4db8dfba4d2edbc49d"
       ],
       "layout": "IPY_MODEL_b099b7197e2643488c35793e5abb922f"
      }
     },
     "8b6ef653481a47d0a7aae4ac9821fdf1": {
      "model_module": "@jupyter-widgets/controls",
      "model_module_version": "1.5.0",
      "model_name": "DescriptionStyleModel",
      "state": {
       "description_width": "initial"
      }
     },
     "8b88266634f44710ac81d5c60b412781": {
      "model_module": "@jupyter-widgets/controls",
      "model_module_version": "1.5.0",
      "model_name": "DescriptionStyleModel",
      "state": {
       "description_width": ""
      }
     },
     "8b9703428b2a42d7a2f513ccf40b9ac8": {
      "model_module": "@jupyter-widgets/controls",
      "model_module_version": "1.5.0",
      "model_name": "DescriptionStyleModel",
      "state": {
       "description_width": "initial"
      }
     },
     "8b98db89c7ba43dcae17eff39b22a99d": {
      "model_module": "@jupyter-widgets/base",
      "model_module_version": "1.2.0",
      "model_name": "LayoutModel",
      "state": {}
     },
     "8bb23973580a432d9907ca5fa04fbd1f": {
      "model_module": "@jupyter-widgets/controls",
      "model_module_version": "1.5.0",
      "model_name": "DescriptionStyleModel",
      "state": {
       "description_width": "initial"
      }
     },
     "8bbd8ae554804582b80a50f4a3a9656f": {
      "model_module": "@jupyter-widgets/controls",
      "model_module_version": "1.5.0",
      "model_name": "DescriptionStyleModel",
      "state": {
       "description_width": ""
      }
     },
     "8bc5f2a252ce4feb8ebe8c290f27d404": {
      "model_module": "@jupyter-widgets/base",
      "model_module_version": "1.2.0",
      "model_name": "LayoutModel",
      "state": {}
     },
     "8bcaf8788241433687793236eff5e694": {
      "model_module": "@jupyter-widgets/controls",
      "model_module_version": "1.5.0",
      "model_name": "DescriptionStyleModel",
      "state": {
       "description_width": "initial"
      }
     },
     "8bdc053ad2cb4f468dcea44501078a00": {
      "model_module": "@jupyter-widgets/base",
      "model_module_version": "1.2.0",
      "model_name": "LayoutModel",
      "state": {}
     },
     "8c11c6d1334a4271b55ef865d08927db": {
      "model_module": "@jupyter-widgets/base",
      "model_module_version": "1.2.0",
      "model_name": "LayoutModel",
      "state": {
       "min_width": "6em",
       "width": "6em"
      }
     },
     "8c5e43581a7947a1af2b544f0d00f393": {
      "model_module": "@jupyter-widgets/controls",
      "model_module_version": "1.5.0",
      "model_name": "DescriptionStyleModel",
      "state": {
       "description_width": "initial"
      }
     },
     "8c82f4dde48c4266afb2f74e65fdde7e": {
      "model_module": "@jupyter-widgets/base",
      "model_module_version": "1.2.0",
      "model_name": "LayoutModel",
      "state": {}
     },
     "8c9233a2c0004884973dcb43598ebb66": {
      "model_module": "@jupyter-widgets/controls",
      "model_module_version": "1.5.0",
      "model_name": "ButtonStyleModel",
      "state": {}
     },
     "8ca69b59b46848f3be73630af7b7885c": {
      "model_module": "@jupyter-widgets/controls",
      "model_module_version": "1.5.0",
      "model_name": "ButtonStyleModel",
      "state": {}
     },
     "8cd123a56b08477798f7678b31b78765": {
      "model_module": "@jupyter-widgets/controls",
      "model_module_version": "1.5.0",
      "model_name": "TextModel",
      "state": {
       "continuous_update": false,
       "description": "Name:",
       "layout": "IPY_MODEL_c756ab498c864f269f4b198086cdd29a",
       "style": "IPY_MODEL_dca295c79192433b98118838b28b69ab",
       "value": "Octree_Mesh"
      }
     },
     "8cf94dfea0604d729cc756d6d1866563": {
      "model_module": "@jupyter-widgets/controls",
      "model_module_version": "1.5.0",
      "model_name": "DescriptionStyleModel",
      "state": {
       "description_width": "initial"
      }
     },
     "8cfe1f61a42d4a7da953550c351681b7": {
      "model_module": "@jupyter-widgets/controls",
      "model_module_version": "1.5.0",
      "model_name": "DescriptionStyleModel",
      "state": {
       "description_width": "initial"
      }
     },
     "8d26a28c39bd45d28a58fbf5ed0aecad": {
      "model_module": "@jupyter-widgets/controls",
      "model_module_version": "1.5.0",
      "model_name": "TextModel",
      "state": {
       "layout": "IPY_MODEL_c61c71c15f4140c6ac28948c5a78f970",
       "placeholder": "output filename",
       "style": "IPY_MODEL_b8822d9e93694387b429d79cc4ebb9c9",
       "value": "FlinFlon.geoh5"
      }
     },
     "8d85ccbdf48c477a910fada288fedf14": {
      "model_module": "@jupyter-widgets/controls",
      "model_module_version": "1.5.0",
      "model_name": "DescriptionStyleModel",
      "state": {
       "description_width": "initial"
      }
     },
     "8d8691594a9d4f22a762bb375b351d3b": {
      "model_module": "@jupyter-widgets/controls",
      "model_module_version": "1.5.0",
      "model_name": "DescriptionStyleModel",
      "state": {
       "description_width": ""
      }
     },
     "8d90df5c0e8d44e192123352663e1039": {
      "model_module": "@jupyter-widgets/base",
      "model_module_version": "1.2.0",
      "model_name": "LayoutModel",
      "state": {}
     },
     "8da0ba3021e0475aa2c86461cefaab0e": {
      "model_module": "@jupyter-widgets/base",
      "model_module_version": "1.2.0",
      "model_name": "LayoutModel",
      "state": {
       "display": "none",
       "grid_gap": "0px 0px",
       "grid_template_areas": "\n                    'pathlist pathlist'\n                    'dircontent dircontent'\n                    ",
       "grid_template_columns": "60% 40%",
       "grid_template_rows": "auto auto",
       "width": "auto"
      }
     },
     "8dac5faf6c8a41fbaedec3e3d089a962": {
      "model_module": "@jupyter-widgets/base",
      "model_module_version": "1.2.0",
      "model_name": "LayoutModel",
      "state": {}
     },
     "8dcc369152614aaaac3fbec0aad38960": {
      "model_module": "@jupyter-widgets/controls",
      "model_module_version": "1.5.0",
      "model_name": "DescriptionStyleModel",
      "state": {
       "description_width": ""
      }
     },
     "8deab348cf7b4bdf8dbf36c1693b2caf": {
      "model_module": "@jupyter-widgets/controls",
      "model_module_version": "1.5.0",
      "model_name": "DescriptionStyleModel",
      "state": {
       "description_width": "initial"
      }
     },
     "8df281555f844b7c8d64f74666119fde": {
      "model_module": "@jupyter-widgets/base",
      "model_module_version": "1.2.0",
      "model_name": "LayoutModel",
      "state": {}
     },
     "8df360e185a34d04a248584183e9bb13": {
      "model_module": "@jupyter-widgets/controls",
      "model_module_version": "1.5.0",
      "model_name": "DescriptionStyleModel",
      "state": {
       "description_width": "initial"
      }
     },
     "8e12e5b578e54e4da734154c7a775df0": {
      "model_module": "@jupyter-widgets/controls",
      "model_module_version": "1.5.0",
      "model_name": "DescriptionStyleModel",
      "state": {
       "description_width": "initial"
      }
     },
     "8e825443551c420db62efb51b3164783": {
      "model_module": "@jupyter-widgets/controls",
      "model_module_version": "1.5.0",
      "model_name": "HBoxModel",
      "state": {
       "children": [
        "IPY_MODEL_22d0f9aa8973439eae4032fd4a8ad31a",
        "IPY_MODEL_b9fa88c48c664c499e2fc11e3d447a9d",
        "IPY_MODEL_7ecd75126494430f82c2b19581751c42"
       ],
       "layout": "IPY_MODEL_8903680f6912432ab73b02a086a009f4"
      }
     },
     "8e8990a715024b0e9fb6697f8346c1be": {
      "model_module": "@jupyter-widgets/controls",
      "model_module_version": "1.5.0",
      "model_name": "DescriptionStyleModel",
      "state": {
       "description_width": ""
      }
     },
     "8e9405a57b0e47c185137027261800d4": {
      "model_module": "@jupyter-widgets/controls",
      "model_module_version": "1.5.0",
      "model_name": "HBoxModel",
      "state": {
       "children": [
        "IPY_MODEL_fbc9b469497e4b63a3218d6e72193419",
        "IPY_MODEL_ead38ee04b3c4cee9e036b2189736e1f",
        "IPY_MODEL_592ace7e5dd645a988eeadbf1a643257"
       ],
       "layout": "IPY_MODEL_a64a9c9a4fec476e8b1e2cb53339bcd6"
      }
     },
     "8e950a868bd84e7f94277a5d86d96dcf": {
      "model_module": "@jupyter-widgets/controls",
      "model_module_version": "1.5.0",
      "model_name": "DescriptionStyleModel",
      "state": {
       "description_width": "initial"
      }
     },
     "8ea3dcdbf443466a99c58f11fc015f75": {
      "model_module": "@jupyter-widgets/base",
      "model_module_version": "1.2.0",
      "model_name": "LayoutModel",
      "state": {}
     },
     "8eac6fe3b38f4a9eb9535f4d62637243": {
      "model_module": "@jupyter-widgets/controls",
      "model_module_version": "1.5.0",
      "model_name": "DescriptionStyleModel",
      "state": {
       "description_width": "initial"
      }
     },
     "8eb76845db494cd585f21931ad04d384": {
      "model_module": "@jupyter-widgets/controls",
      "model_module_version": "1.5.0",
      "model_name": "ButtonModel",
      "state": {
       "description": "Create copy:",
       "layout": "IPY_MODEL_00b7edc6654244a1aab246a56cb55407",
       "style": "IPY_MODEL_aa8ebcab26004851b6a342d5a2176db2"
      }
     },
     "8ebb03aa94114cd985cfc13a071ea0d6": {
      "model_module": "@jupyter-widgets/controls",
      "model_module_version": "1.5.0",
      "model_name": "DescriptionStyleModel",
      "state": {
       "description_width": "initial"
      }
     },
     "8ecacfa63870479c81a4a9202c22bd97": {
      "model_module": "@jupyter-widgets/controls",
      "model_module_version": "1.5.0",
      "model_name": "DescriptionStyleModel",
      "state": {
       "description_width": ""
      }
     },
     "8ed8c8ae0afc44519a25da1fa3f6210a": {
      "model_module": "@jupyter-widgets/controls",
      "model_module_version": "1.5.0",
      "model_name": "DescriptionStyleModel",
      "state": {
       "description_width": ""
      }
     },
     "8ee6fd337cb14139a09711ff2d6b4371": {
      "model_module": "@jupyter-widgets/base",
      "model_module_version": "1.2.0",
      "model_name": "LayoutModel",
      "state": {}
     },
     "8eeb29e9ea3249298985c088a7c37020": {
      "model_module": "@jupyter-widgets/controls",
      "model_module_version": "1.5.0",
      "model_name": "GridBoxModel",
      "state": {
       "children": [
        "IPY_MODEL_7f99bc4657694711a2bf123c37613720",
        "IPY_MODEL_ce13c55cb15c4a81887bc60daec7f2cb",
        "IPY_MODEL_5b7e56d01db74d368d7c3eb8f4f9843c"
       ],
       "layout": "IPY_MODEL_9cff5c152e034af48721ff1c3200229b"
      }
     },
     "8ef7a67161f64c25af218c3779eb2a15": {
      "model_module": "@jupyter-widgets/base",
      "model_module_version": "1.2.0",
      "model_name": "LayoutModel",
      "state": {
       "width": "auto"
      }
     },
     "8ef9c99136324370a2cbb4d7a29749d1": {
      "model_module": "@jupyter-widgets/controls",
      "model_module_version": "1.5.0",
      "model_name": "DescriptionStyleModel",
      "state": {
       "description_width": "initial"
      }
     },
     "8f0c175ea9c4457ab8b52511c6b91f43": {
      "model_module": "@jupyter-widgets/controls",
      "model_module_version": "1.5.0",
      "model_name": "TextModel",
      "state": {
       "continuous_update": false,
       "description": "Name:",
       "layout": "IPY_MODEL_9b3f54b11fda4a019cc04b48edcaefd0",
       "style": "IPY_MODEL_12ecbdd6fa46489e9628fed68dcf34c2",
       "value": "Octree_Mesh"
      }
     },
     "8f35c12e13f840f597c65d1469394f54": {
      "model_module": "@jupyter-widgets/controls",
      "model_module_version": "1.5.0",
      "model_name": "DescriptionStyleModel",
      "state": {
       "description_width": ""
      }
     },
     "8f3cd48a81c54effaf643336166a21c7": {
      "model_module": "@jupyter-widgets/base",
      "model_module_version": "1.2.0",
      "model_name": "LayoutModel",
      "state": {
       "display": "none"
      }
     },
     "8f6351a02f0a4272b67c38303e83e7b3": {
      "model_module": "@jupyter-widgets/base",
      "model_module_version": "1.2.0",
      "model_name": "LayoutModel",
      "state": {}
     },
     "8f719e1c3924451baa996a8dbbcc510a": {
      "model_module": "@jupyter-widgets/controls",
      "model_module_version": "1.5.0",
      "model_name": "DescriptionStyleModel",
      "state": {
       "description_width": "initial"
      }
     },
     "8f879a56a5624af4a8b8304544750961": {
      "model_module": "@jupyter-widgets/controls",
      "model_module_version": "1.5.0",
      "model_name": "FloatTextModel",
      "state": {
       "description": "Northing",
       "layout": "IPY_MODEL_7583c9e9dfce44289aa4e0495fcb8cce",
       "step": null,
       "style": "IPY_MODEL_a5368faa64ac44d7a05bb102c206b9fa",
       "value": 25
      }
     },
     "8fb94632bf134e02b9d516e00524112b": {
      "model_module": "@jupyter-widgets/controls",
      "model_module_version": "1.5.0",
      "model_name": "VBoxModel",
      "state": {
       "children": [
        "IPY_MODEL_81d1adb1ee5b4d5e82b7c4ccb88bfce8",
        "IPY_MODEL_58cd8f1d4d9b499db178c240ed08a04a"
       ],
       "layout": "IPY_MODEL_e56a82a403484e1d8fb8af054062aff3"
      }
     },
     "8fc48764dee8405f9bf550ae88fbeafb": {
      "model_module": "@jupyter-widgets/controls",
      "model_module_version": "1.5.0",
      "model_name": "HBoxModel",
      "state": {
       "children": [
        "IPY_MODEL_68205fd075ce477686f499fc25fc10c7",
        "IPY_MODEL_dd99a3966a684569953717606044dca4",
        "IPY_MODEL_eabcf6590bd64d62bb5451d82840a9bb"
       ],
       "layout": "IPY_MODEL_5086260fc56948fea484330a079e87b1"
      }
     },
     "8fca373e94504227981e31b39c0c970b": {
      "model_module": "@jupyter-widgets/base",
      "model_module_version": "1.2.0",
      "model_name": "LayoutModel",
      "state": {}
     },
     "8febf5c3a72b44f2b4bf3515468c297f": {
      "model_module": "@jupyter-widgets/controls",
      "model_module_version": "1.5.0",
      "model_name": "BoxModel",
      "state": {
       "children": [
        "IPY_MODEL_f0acd3b70ed04088b11b9736243b5a25"
       ],
       "layout": "IPY_MODEL_1f56b3ee4b2b4e9cb032e4433b2de56c"
      }
     },
     "8ff47f059c0a41a1867a8e457b809915": {
      "model_module": "@jupyter-widgets/controls",
      "model_module_version": "1.5.0",
      "model_name": "LabelModel",
      "state": {
       "layout": "IPY_MODEL_d02636fd4f944b7c801fec5efe740196",
       "style": "IPY_MODEL_79a81b4c9bc743b399e8d76f0ef54a7c",
       "value": "Monitoring folder"
      }
     },
     "900001e63cf5483581ce633d238ed231": {
      "model_module": "@jupyter-widgets/base",
      "model_module_version": "1.2.0",
      "model_name": "LayoutModel",
      "state": {
       "grid_area": "pathlist",
       "width": "auto"
      }
     },
     "9006afa9ed444b94b7a50ecaf9a1cb32": {
      "model_module": "@jupyter-widgets/controls",
      "model_module_version": "1.5.0",
      "model_name": "DescriptionStyleModel",
      "state": {
       "description_width": ""
      }
     },
     "902164569b8f4ce1923b194efdfd7a0d": {
      "model_module": "@jupyter-widgets/controls",
      "model_module_version": "1.5.0",
      "model_name": "DescriptionStyleModel",
      "state": {
       "description_width": "initial"
      }
     },
     "9031778a03e0493ebed95a298c6233f2": {
      "model_module": "@jupyter-widgets/base",
      "model_module_version": "1.2.0",
      "model_name": "LayoutModel",
      "state": {}
     },
     "903514b3cf9d45f89ec7635ce54221e0": {
      "model_module": "@jupyter-widgets/base",
      "model_module_version": "1.2.0",
      "model_name": "LayoutModel",
      "state": {}
     },
     "90353260c8994f4b83f9bdcf258afc14": {
      "model_module": "@jupyter-widgets/controls",
      "model_module_version": "1.5.0",
      "model_name": "DescriptionStyleModel",
      "state": {
       "description_width": "initial"
      }
     },
     "903cf0b7430e4564a0de5ea297af25a5": {
      "model_module": "@jupyter-widgets/controls",
      "model_module_version": "1.5.0",
      "model_name": "DescriptionStyleModel",
      "state": {
       "description_width": "initial"
      }
     },
     "90425fe821b8427ea7d330db69652eae": {
      "model_module": "@jupyter-widgets/controls",
      "model_module_version": "1.5.0",
      "model_name": "VBoxModel",
      "state": {
       "children": [
        "IPY_MODEL_7c5c32e8310840fabe3329a8ae10cbdd",
        "IPY_MODEL_37c5b4cd2c0e433d9753568ff23f091c"
       ],
       "layout": "IPY_MODEL_492d153f839c4c2b9ca8dc22b6f44b95"
      }
     },
     "90463b1b0f0d4ce98dacecd01cf01352": {
      "model_module": "@jupyter-widgets/controls",
      "model_module_version": "1.5.0",
      "model_name": "DescriptionStyleModel",
      "state": {
       "description_width": "initial"
      }
     },
     "904dd684b0c342daac77ec0eb820cc2c": {
      "model_module": "@jupyter-widgets/controls",
      "model_module_version": "1.5.0",
      "model_name": "CheckboxModel",
      "state": {
       "description": "Geoscience ANALYST Pro - Live link",
       "disabled": false,
       "indent": false,
       "layout": "IPY_MODEL_7b338814686d41d6aed8b07e0fb82289",
       "style": "IPY_MODEL_bafea83ad61740f38cdbfc09396823a6",
       "value": false
      }
     },
     "908600697ce0432ba222d3d2034b706d": {
      "model_module": "@jupyter-widgets/base",
      "model_module_version": "1.2.0",
      "model_name": "LayoutModel",
      "state": {
       "display": "none",
       "grid_gap": "0px 0px",
       "grid_template_areas": "\n                    'pathlist pathlist'\n                    'dircontent dircontent'\n                    ",
       "grid_template_columns": "60% 40%",
       "grid_template_rows": "auto auto",
       "width": "auto"
      }
     },
     "908a679ed1164be49a0e16b9705be092": {
      "model_module": "@jupyter-widgets/controls",
      "model_module_version": "1.5.0",
      "model_name": "VBoxModel",
      "state": {
       "children": [
        "IPY_MODEL_6b5497719ed74f2bad49975faede1dc5",
        "IPY_MODEL_071de065d2fa4b4d87b82ed89a1b085c"
       ],
       "layout": "IPY_MODEL_158e1b5e70d9461aaa7d6ebf3daf6142"
      }
     },
     "908c45ff3a6a45219374e6fc9e288af7": {
      "model_module": "@jupyter-widgets/controls",
      "model_module_version": "1.5.0",
      "model_name": "HBoxModel",
      "state": {
       "children": [
        "IPY_MODEL_22488892166e4e75bb8c782de343bf8f",
        "IPY_MODEL_9b29ca58040b4496bc8d0d95568e7a59"
       ],
       "layout": "IPY_MODEL_277f5991d731452086e42062255afb4a"
      }
     },
     "909bb78ccf9d4c09b90ff07f9ae77aca": {
      "model_module": "@jupyter-widgets/controls",
      "model_module_version": "1.5.0",
      "model_name": "DescriptionStyleModel",
      "state": {
       "description_width": "initial"
      }
     },
     "90a7889375e74bea8c0b80dab82134bb": {
      "model_module": "@jupyter-widgets/controls",
      "model_module_version": "1.5.0",
      "model_name": "DescriptionStyleModel",
      "state": {
       "description_width": "initial"
      }
     },
     "90aa816e58574866808e97cf807a6dae": {
      "model_module": "@jupyter-widgets/base",
      "model_module_version": "1.2.0",
      "model_name": "LayoutModel",
      "state": {
       "display": "none",
       "grid_gap": "0px 0px",
       "grid_template_areas": "\n                    'pathlist pathlist'\n                    'dircontent dircontent'\n                    ",
       "grid_template_columns": "60% 40%",
       "grid_template_rows": "auto auto",
       "width": "500px"
      }
     },
     "90ba0b9384df418f9ba5368845b0ef99": {
      "model_module": "@jupyter-widgets/controls",
      "model_module_version": "1.5.0",
      "model_name": "ButtonModel",
      "state": {
       "description": "Change",
       "layout": "IPY_MODEL_ec74eeaa9340440588563d597cd05320",
       "style": "IPY_MODEL_2ee3c50df128429b8fe37c3edb395480"
      }
     },
     "90d4f09f08cb48afbfbb03fcc8e6d918": {
      "model_module": "@jupyter-widgets/controls",
      "model_module_version": "1.5.0",
      "model_name": "HTMLModel",
      "state": {
       "layout": "IPY_MODEL_0bed60bea9ec4545980249b58bfdac4f",
       "style": "IPY_MODEL_eb18ee250fbf4691850cd59d344eb758"
      }
     },
     "90dd507f072345a7ae5084a81c573bde": {
      "model_module": "@jupyter-widgets/controls",
      "model_module_version": "1.5.0",
      "model_name": "DescriptionStyleModel",
      "state": {
       "description_width": "initial"
      }
     },
     "90e51af8841d4ad19ab74612b4faaa47": {
      "model_module": "@jupyter-widgets/controls",
      "model_module_version": "1.5.0",
      "model_name": "DescriptionStyleModel",
      "state": {
       "description_width": "initial"
      }
     },
     "90f67cb4aa49404bbada849dbdef4bc0": {
      "model_module": "@jupyter-widgets/controls",
      "model_module_version": "1.5.0",
      "model_name": "FloatTextModel",
      "state": {
       "description": "Distance",
       "layout": "IPY_MODEL_13956e3c5cfe4d30b3de111b85c169d8",
       "step": null,
       "style": "IPY_MODEL_037fa65085674b01abe7c7076bcbe0e4",
       "value": 1000
      }
     },
     "9101b93f55d0419b859ef308b09bebd6": {
      "model_module": "@jupyter-widgets/controls",
      "model_module_version": "1.5.0",
      "model_name": "DropdownModel",
      "state": {
       "_options_labels": [
        "",
        "Ore/39_Ore_Callinan",
        "Ore/38_Ore_Dan_Owens",
        "Ore/40_Ore_FlinFlon",
        "Workspace/Inversion_VTEM_Model",
        "Workspace/CDI_VTEM_model",
        "Workspace/Data_FEM_pseudo3D",
        "Workspace/geochem",
        "Workspace/Inversion_DIGHEM_Model",
        "Workspace/Topography",
        "Workspace/Data_TEM_pseudo3D",
        "Workspace/Data_ZTEM",
        "Workspace/Mesh"
       ],
       "description": "Object",
       "index": 6,
       "layout": "IPY_MODEL_0989717936784e618da72a0d7ff4dbd9",
       "style": "IPY_MODEL_44a0523e470e4266a0ce2519b9327828"
      }
     },
     "91025fdcd22e40528b082aa5aa05ce06": {
      "model_module": "@jupyter-widgets/controls",
      "model_module_version": "1.5.0",
      "model_name": "DescriptionStyleModel",
      "state": {
       "description_width": "initial"
      }
     },
     "91056191b1cf474d9221009c7cca4c81": {
      "model_module": "@jupyter-widgets/controls",
      "model_module_version": "1.5.0",
      "model_name": "DescriptionStyleModel",
      "state": {
       "description_width": "initial"
      }
     },
     "912bbdf83e1c4be49d182977958ea656": {
      "model_module": "@jupyter-widgets/base",
      "model_module_version": "1.2.0",
      "model_name": "LayoutModel",
      "state": {
       "overflow": "auto"
      }
     },
     "913cc7e5cc88492e81c61571b2cd7abf": {
      "model_module": "@jupyter-widgets/controls",
      "model_module_version": "1.5.0",
      "model_name": "DescriptionStyleModel",
      "state": {
       "description_width": ""
      }
     },
     "91765d1b10f642dda7e339aabade8145": {
      "model_module": "@jupyter-widgets/controls",
      "model_module_version": "1.5.0",
      "model_name": "ButtonStyleModel",
      "state": {}
     },
     "9186bf517aed47fdabb0528d700be771": {
      "model_module": "@jupyter-widgets/base",
      "model_module_version": "1.2.0",
      "model_name": "LayoutModel",
      "state": {}
     },
     "91cfd3e65a7c4ce6af978cc065a88918": {
      "model_module": "@jupyter-widgets/controls",
      "model_module_version": "1.5.0",
      "model_name": "DescriptionStyleModel",
      "state": {
       "description_width": ""
      }
     },
     "9216c0e9ecb3440faec41ffc8a3f9c88": {
      "model_module": "@jupyter-widgets/controls",
      "model_module_version": "1.5.0",
      "model_name": "DescriptionStyleModel",
      "state": {
       "description_width": "initial"
      }
     },
     "922242589bfc48b291e48b847e66d858": {
      "model_module": "@jupyter-widgets/controls",
      "model_module_version": "1.5.0",
      "model_name": "ButtonModel",
      "state": {
       "description": "Create copy:",
       "layout": "IPY_MODEL_97324740b902416e9e88bbe887330cca",
       "style": "IPY_MODEL_b3b5e68f062042348ac5ff8b519989e0"
      }
     },
     "922a2931c4964fca80ada9e2970fa57f": {
      "model_module": "@jupyter-widgets/controls",
      "model_module_version": "1.5.0",
      "model_name": "DescriptionStyleModel",
      "state": {
       "description_width": ""
      }
     },
     "927be5f58c9248ff89ead77f098edee5": {
      "model_module": "@jupyter-widgets/controls",
      "model_module_version": "1.5.0",
      "model_name": "DescriptionStyleModel",
      "state": {
       "description_width": ""
      }
     },
     "928ebbcf6cf04b118ade1db3e16a8156": {
      "model_module": "@jupyter-widgets/controls",
      "model_module_version": "1.5.0",
      "model_name": "TextModel",
      "state": {
       "disabled": true,
       "layout": "IPY_MODEL_22cea33d87564bfebb205789261ef036",
       "placeholder": "output filename",
       "style": "IPY_MODEL_47a3498f15d14818b9cbae234cd28409"
      }
     },
     "92902ceafcf54eaeab054d3c13157a10": {
      "model_module": "@jupyter-widgets/controls",
      "model_module_version": "1.5.0",
      "model_name": "DescriptionStyleModel",
      "state": {
       "description_width": ""
      }
     },
     "929fcf623ce24c20a33fffe74cca3883": {
      "model_module": "@jupyter-widgets/controls",
      "model_module_version": "1.5.0",
      "model_name": "VBoxModel",
      "state": {
       "children": [
        "IPY_MODEL_d0b801905b8142d2b4e84777e6b2620a",
        "IPY_MODEL_af20ef7d410940b9a636076ba2f9cf91",
        "IPY_MODEL_72181aea6efc46e18ad5d7c80cebf010"
       ],
       "layout": "IPY_MODEL_a4ddc9d6e27c4a5caeb4d62474cf6e3d"
      }
     },
     "92b5a19b74ae4fae8a80b9e6d6ce366d": {
      "model_module": "@jupyter-widgets/controls",
      "model_module_version": "1.5.0",
      "model_name": "ButtonModel",
      "state": {
       "description": "Create copy:",
       "layout": "IPY_MODEL_4a414d078e974e848255eebafeffb8f1",
       "style": "IPY_MODEL_b8666dfa11784840ad7ef9f811defaa9"
      }
     },
     "92cb6bfde04b482a8bfbe9e3cd5987f4": {
      "model_module": "@jupyter-widgets/controls",
      "model_module_version": "1.5.0",
      "model_name": "DescriptionStyleModel",
      "state": {
       "description_width": ""
      }
     },
     "92ffb379c0c64c03af2fec4497aa5195": {
      "model_module": "@jupyter-widgets/controls",
      "model_module_version": "1.5.0",
      "model_name": "DescriptionStyleModel",
      "state": {
       "description_width": ""
      }
     },
     "930522fba7ee4722957f6736ebb5ae87": {
      "model_module": "@jupyter-widgets/controls",
      "model_module_version": "1.5.0",
      "model_name": "VBoxModel",
      "state": {
       "children": [
        "IPY_MODEL_e5cb1d4af3fb4045ae230a7921b9ab42",
        "IPY_MODEL_c6e1d79ff0d14796ba34bd2d1a3fe18e",
        "IPY_MODEL_e57499fabc354db49b9c7f9865752aad"
       ],
       "layout": "IPY_MODEL_ad6caac2b3bf45a7b3f37c1d2d3031ee"
      }
     },
     "931d0f303db242b790ac9fc1d87b64bf": {
      "model_module": "@jupyter-widgets/base",
      "model_module_version": "1.2.0",
      "model_name": "LayoutModel",
      "state": {}
     },
     "9339aded0d4947fc80b03f4e4437c204": {
      "model_module": "@jupyter-widgets/controls",
      "model_module_version": "1.5.0",
      "model_name": "VBoxModel",
      "state": {
       "children": [
        "IPY_MODEL_59a4a155554c421891b1ac0dc8e13ef5",
        "IPY_MODEL_83b9ac25db6c491a89d356978a6ff406",
        "IPY_MODEL_d3da2f351afc4371b377e49e5c747234",
        "IPY_MODEL_311f456fc2584589ae7ea36a72fc6c86",
        "IPY_MODEL_d6bc59860d3047fc9722c5307abf3f49"
       ],
       "layout": "IPY_MODEL_5ba669292aba41ac84aac25881f94e68"
      }
     },
     "9374cf2f5a6f44d3a4b844188e9f6cfc": {
      "model_module": "@jupyter-widgets/controls",
      "model_module_version": "1.5.0",
      "model_name": "HTMLModel",
      "state": {
       "layout": "IPY_MODEL_964434f4133b472da0181623dc18da44",
       "style": "IPY_MODEL_1e76b9851660481ba927ddaba17cb172"
      }
     },
     "9380e51785db49048619e01fe9d118c8": {
      "model_module": "@jupyter-widgets/controls",
      "model_module_version": "1.5.0",
      "model_name": "ButtonStyleModel",
      "state": {}
     },
     "9391009324af43809c7f1e8e6f3ce33a": {
      "model_module": "@jupyter-widgets/controls",
      "model_module_version": "1.5.0",
      "model_name": "FloatTextModel",
      "state": {
       "description": "Vertical",
       "layout": "IPY_MODEL_880ca9eb196341ee824a7a80d97364b4",
       "step": null,
       "style": "IPY_MODEL_0c658cf3e8844408999563d189a8241a",
       "value": 25
      }
     },
     "93dfed4c354f415c9e112f224fbe2d56": {
      "model_module": "@jupyter-widgets/base",
      "model_module_version": "1.2.0",
      "model_name": "LayoutModel",
      "state": {}
     },
     "943042e130d84380b004e537fb9d35d6": {
      "model_module": "@jupyter-widgets/controls",
      "model_module_version": "1.5.0",
      "model_name": "DescriptionStyleModel",
      "state": {
       "description_width": ""
      }
     },
     "94476a4b12334b9080d76a20c96b9266": {
      "model_module": "@jupyter-widgets/controls",
      "model_module_version": "1.5.0",
      "model_name": "TextModel",
      "state": {
       "disabled": true,
       "layout": "IPY_MODEL_cbae285f88194cc691391f6511e38522",
       "placeholder": "output filename",
       "style": "IPY_MODEL_c446da82302c4229b37aab3d87d43b5f"
      }
     },
     "94496e052f73478c8fd73f4497a81dcf": {
      "model_module": "@jupyter-widgets/controls",
      "model_module_version": "1.5.0",
      "model_name": "DescriptionStyleModel",
      "state": {
       "description_width": ""
      }
     },
     "946204bd56424010896b6d4380cd3b24": {
      "model_module": "@jupyter-widgets/base",
      "model_module_version": "1.2.0",
      "model_name": "LayoutModel",
      "state": {}
     },
     "946f954fb5cb41be889b8660e00fc7ec": {
      "model_module": "@jupyter-widgets/controls",
      "model_module_version": "1.5.0",
      "model_name": "DescriptionStyleModel",
      "state": {
       "description_width": "initial"
      }
     },
     "947412a7ceeb4f8a90dbbe6809e29b66": {
      "model_module": "@jupyter-widgets/base",
      "model_module_version": "1.2.0",
      "model_name": "LayoutModel",
      "state": {}
     },
     "94829f16d4264554a0e2731c068c9bb4": {
      "model_module": "@jupyter-widgets/base",
      "model_module_version": "1.2.0",
      "model_name": "LayoutModel",
      "state": {}
     },
     "948acfa6303343fcbf49bc218aa4f6db": {
      "model_module": "@jupyter-widgets/controls",
      "model_module_version": "1.5.0",
      "model_name": "HTMLModel",
      "state": {
       "layout": "IPY_MODEL_86da11aaa30942899875c7945c1d35c7",
       "placeholder": "",
       "style": "IPY_MODEL_c59080383e8e4c0c87af4ec33ba0a302",
       "value": "<span style=\"color:green;\">C:\\Users\\dominiquef\\Documents\\GIT\\mira\\geoapps\\assets\\Temp\\</span>"
      }
     },
     "948ecbf74d2842b88f69972a2326e765": {
      "model_module": "@jupyter-widgets/controls",
      "model_module_version": "1.5.0",
      "model_name": "ToggleButtonModel",
      "state": {
       "layout": "IPY_MODEL_ead21715cdf4472ea67e40347bdb08c2",
       "style": "IPY_MODEL_26caa90bf0534a27b289cb2873779c93",
       "value": true
      }
     },
     "94e0a131189448c2a801753f282eb2fb": {
      "model_module": "@jupyter-widgets/controls",
      "model_module_version": "1.5.0",
      "model_name": "DescriptionStyleModel",
      "state": {
       "description_width": "initial"
      }
     },
     "94e5b34f564c42ac8312f310fd491da0": {
      "model_module": "@jupyter-widgets/controls",
      "model_module_version": "1.5.0",
      "model_name": "DescriptionStyleModel",
      "state": {
       "description_width": "initial"
      }
     },
     "94ef51efb9b841b88833338698661be6": {
      "model_module": "@jupyter-widgets/controls",
      "model_module_version": "1.5.0",
      "model_name": "DescriptionStyleModel",
      "state": {
       "description_width": "initial"
      }
     },
     "9500653395eb4b068a23cb07ba5216ae": {
      "model_module": "@jupyter-widgets/controls",
      "model_module_version": "1.5.0",
      "model_name": "ButtonStyleModel",
      "state": {}
     },
     "9500d7f9da1743c889fa751640a2c3b0": {
      "model_module": "@jupyter-widgets/base",
      "model_module_version": "1.2.0",
      "model_name": "LayoutModel",
      "state": {}
     },
     "9512b0052fc34d0c8b61fe163e0ee65d": {
      "model_module": "@jupyter-widgets/controls",
      "model_module_version": "1.5.0",
      "model_name": "ButtonModel",
      "state": {
       "description": "Change",
       "layout": "IPY_MODEL_f486159ee8924db9b5d7fad2a4eb84d2",
       "style": "IPY_MODEL_2f42da2294a9495fb1682662e6cd117b"
      }
     },
     "95314e0bcd6f4503b784e58934b7b85e": {
      "model_module": "@jupyter-widgets/controls",
      "model_module_version": "1.5.0",
      "model_name": "DescriptionStyleModel",
      "state": {
       "description_width": "initial"
      }
     },
     "95327650028d42ab8666cd8e6cc26361": {
      "model_module": "@jupyter-widgets/controls",
      "model_module_version": "1.5.0",
      "model_name": "DescriptionStyleModel",
      "state": {
       "description_width": "initial"
      }
     },
     "9539053397b64df18a27a54a5a4f2392": {
      "model_module": "@jupyter-widgets/controls",
      "model_module_version": "1.5.0",
      "model_name": "DescriptionStyleModel",
      "state": {
       "description_width": ""
      }
     },
     "95493a0072294b22b6f2f349cddf2a52": {
      "model_module": "@jupyter-widgets/controls",
      "model_module_version": "1.5.0",
      "model_name": "DescriptionStyleModel",
      "state": {
       "description_width": "initial"
      }
     },
     "95524bb86ca5459b84f1c0b8a5ce172b": {
      "model_module": "@jupyter-widgets/controls",
      "model_module_version": "1.5.0",
      "model_name": "ButtonStyleModel",
      "state": {}
     },
     "9560c341497b46b9a9cf468a8e1e9c7f": {
      "model_module": "@jupyter-widgets/controls",
      "model_module_version": "1.5.0",
      "model_name": "DescriptionStyleModel",
      "state": {
       "description_width": "initial"
      }
     },
     "9566443f8f174d9bb1c5bce0db70c068": {
      "model_module": "@jupyter-widgets/controls",
      "model_module_version": "1.5.0",
      "model_name": "DescriptionStyleModel",
      "state": {
       "description_width": ""
      }
     },
     "956982b44ef94cfb8bfc779f08c9a2bc": {
      "model_module": "@jupyter-widgets/controls",
      "model_module_version": "1.5.0",
      "model_name": "DescriptionStyleModel",
      "state": {
       "description_width": "initial"
      }
     },
     "9574594be17a4e91b887a04ce10e7e35": {
      "model_module": "@jupyter-widgets/controls",
      "model_module_version": "1.5.0",
      "model_name": "VBoxModel",
      "state": {
       "children": [
        "IPY_MODEL_6c5f1d30f2ff495fb6c9570e4c102a76",
        "IPY_MODEL_f5f3dc4d8e8f4062a926e3c941a7eb36"
       ],
       "layout": "IPY_MODEL_472fca8dde4c42dd8d9e4cb6a98ab853"
      }
     },
     "95761ffeb8df4704839b084904822422": {
      "model_module": "@jupyter-widgets/controls",
      "model_module_version": "1.5.0",
      "model_name": "VBoxModel",
      "state": {
       "children": [
        "IPY_MODEL_f6ead7c9bcea4cc4a9415971463607bd",
        "IPY_MODEL_90425fe821b8427ea7d330db69652eae",
        "IPY_MODEL_a7f1d19b5f5d483b9220878aaf64ed77"
       ],
       "layout": "IPY_MODEL_05440e1e307d49069eeded99bc26dc98"
      }
     },
     "957b01e39cf740a59e37d6817d2792e5": {
      "model_module": "@jupyter-widgets/controls",
      "model_module_version": "1.5.0",
      "model_name": "HBoxModel",
      "state": {
       "children": [
        "IPY_MODEL_446df068988440dcb499c28ede55a103",
        "IPY_MODEL_1dafccc2a3bf4ff0ade16d3764a28766",
        "IPY_MODEL_d29711f740c840b69b15e61561499240"
       ],
       "layout": "IPY_MODEL_889d740be4614db28a79ec1762db3e6b"
      }
     },
     "959c9fbfe60947c1965d90b4b75b6fb2": {
      "model_module": "@jupyter-widgets/controls",
      "model_module_version": "1.5.0",
      "model_name": "LabelModel",
      "state": {
       "layout": "IPY_MODEL_6002fe764ae143cbbfa3d77796464a80",
       "style": "IPY_MODEL_563d0a6cd0844bed83a96e822eeb569e",
       "value": "Base Parameters"
      }
     },
     "95d4149f1a6b4f8aa124603a4420d56c": {
      "model_module": "@jupyter-widgets/controls",
      "model_module_version": "1.5.0",
      "model_name": "DescriptionStyleModel",
      "state": {
       "description_width": "initial"
      }
     },
     "95d8fafc2628493eb7ed4bc16f017728": {
      "model_module": "@jupyter-widgets/controls",
      "model_module_version": "1.5.0",
      "model_name": "DescriptionStyleModel",
      "state": {
       "description_width": "initial"
      }
     },
     "95e4e1161a724c3bb2b02383a718f8a0": {
      "model_module": "@jupyter-widgets/base",
      "model_module_version": "1.2.0",
      "model_name": "LayoutModel",
      "state": {}
     },
     "96147681affd48ea874aff9639e5cb5b": {
      "model_module": "@jupyter-widgets/controls",
      "model_module_version": "1.5.0",
      "model_name": "DescriptionStyleModel",
      "state": {
       "description_width": ""
      }
     },
     "9615fd6cc64f4ce19b8655daa3641883": {
      "model_module": "@jupyter-widgets/controls",
      "model_module_version": "1.5.0",
      "model_name": "BoxModel",
      "state": {
       "children": [
        "IPY_MODEL_e2a7afbc48e143baa96a10cf827a4712"
       ],
       "layout": "IPY_MODEL_607b1a836a6e4a498d340b4324fd3be6"
      }
     },
     "9621eb85a3674fa58cdfe2e8f41dd4fb": {
      "model_module": "@jupyter-widgets/base",
      "model_module_version": "1.2.0",
      "model_name": "LayoutModel",
      "state": {}
     },
     "963024dbaa804791b66692ba9ec30195": {
      "model_module": "@jupyter-widgets/controls",
      "model_module_version": "1.5.0",
      "model_name": "ButtonStyleModel",
      "state": {}
     },
     "964434f4133b472da0181623dc18da44": {
      "model_module": "@jupyter-widgets/base",
      "model_module_version": "1.2.0",
      "model_name": "LayoutModel",
      "state": {
       "display": "none"
      }
     },
     "9658ca5871944b82b2e5c4ee2a7dee53": {
      "model_module": "@jupyter-widgets/base",
      "model_module_version": "1.2.0",
      "model_name": "LayoutModel",
      "state": {}
     },
     "9670d0e80bae4492b1ac525a7efaa922": {
      "model_module": "@jupyter-widgets/base",
      "model_module_version": "1.2.0",
      "model_name": "LayoutModel",
      "state": {}
     },
     "9675e57dea2a4e18933530294e1010a6": {
      "model_module": "@jupyter-widgets/controls",
      "model_module_version": "1.5.0",
      "model_name": "FloatTextModel",
      "state": {
       "description": "Distance",
       "layout": "IPY_MODEL_ce61ca59c2b8434d80d97ac8888e7282",
       "step": null,
       "style": "IPY_MODEL_ac3dba4124c4430f9a2c7d0fa9ca1006",
       "value": 1200
      }
     },
     "96854780a37a44e19c6d27853dff857f": {
      "model_module": "@jupyter-widgets/base",
      "model_module_version": "1.2.0",
      "model_name": "LayoutModel",
      "state": {}
     },
     "969d8a6bba0d4cca845070396851ae48": {
      "model_module": "@jupyter-widgets/base",
      "model_module_version": "1.2.0",
      "model_name": "LayoutModel",
      "state": {}
     },
     "96ca2d5666584c87b5daeaf154055247": {
      "model_module": "@jupyter-widgets/controls",
      "model_module_version": "1.5.0",
      "model_name": "DescriptionStyleModel",
      "state": {
       "description_width": ""
      }
     },
     "96ca6e12de044008b2ca09b981ff582e": {
      "model_module": "@jupyter-widgets/controls",
      "model_module_version": "1.5.0",
      "model_name": "DescriptionStyleModel",
      "state": {
       "description_width": "initial"
      }
     },
     "96ef819d7c3e4831b06ba4f462517917": {
      "model_module": "@jupyter-widgets/controls",
      "model_module_version": "1.5.0",
      "model_name": "DescriptionStyleModel",
      "state": {
       "description_width": ""
      }
     },
     "97324740b902416e9e88bbe887330cca": {
      "model_module": "@jupyter-widgets/base",
      "model_module_version": "1.2.0",
      "model_name": "LayoutModel",
      "state": {}
     },
     "97434400a8a84abe9318a8b6d67b7841": {
      "model_module": "@jupyter-widgets/controls",
      "model_module_version": "1.5.0",
      "model_name": "SelectModel",
      "state": {
       "_options_labels": [
        "📁 ..",
        "📁 SimPEG_PFInversion"
       ],
       "index": null,
       "layout": "IPY_MODEL_b9f0791675cb4f3aba47d5e23b7e37c9",
       "rows": 8,
       "style": "IPY_MODEL_d8a03e3cc1f44fdfbf61b9ee1d7ad40e"
      }
     },
     "9759f1bf175f49deb5821974fd4845b9": {
      "model_module": "@jupyter-widgets/controls",
      "model_module_version": "1.5.0",
      "model_name": "DescriptionStyleModel",
      "state": {
       "description_width": ""
      }
     },
     "97666c856be64b4b80565f887b0821a4": {
      "model_module": "@jupyter-widgets/controls",
      "model_module_version": "1.5.0",
      "model_name": "DescriptionStyleModel",
      "state": {
       "description_width": ""
      }
     },
     "97695c7ec6844188a8c5895b1d4205f8": {
      "model_module": "@jupyter-widgets/controls",
      "model_module_version": "1.5.0",
      "model_name": "DescriptionStyleModel",
      "state": {
       "description_width": ""
      }
     },
     "978f9e23d66842f5a1a07a4a1c0afd3f": {
      "model_module": "@jupyter-widgets/controls",
      "model_module_version": "1.5.0",
      "model_name": "ButtonStyleModel",
      "state": {}
     },
     "97a01364967e44a3a6fdad4486618bbe": {
      "model_module": "@jupyter-widgets/base",
      "model_module_version": "1.2.0",
      "model_name": "LayoutModel",
      "state": {
       "display": "none",
       "width": "auto"
      }
     },
     "97a3b6c1d12f43b3b61130fd659a3342": {
      "model_module": "@jupyter-widgets/controls",
      "model_module_version": "1.5.0",
      "model_name": "VBoxModel",
      "state": {
       "children": [
        "IPY_MODEL_1aa508d6320e42b1bdc9c0cfb749a8a4",
        "IPY_MODEL_683edfabc56b4e99bcbe82de9ccac54b",
        "IPY_MODEL_0065a9c583424831b5a6f9bcf0faaf94"
       ],
       "layout": "IPY_MODEL_200b7457b7d44c8c87bbdec2ad9d4faa"
      }
     },
     "97b0b87e8c8f4dd5a9abc042deab04d6": {
      "model_module": "@jupyter-widgets/base",
      "model_module_version": "1.2.0",
      "model_name": "LayoutModel",
      "state": {
       "grid_area": "pathlist",
       "width": "auto"
      }
     },
     "97d8b19c3a414ece81931a45d22eae4f": {
      "model_module": "@jupyter-widgets/controls",
      "model_module_version": "1.5.0",
      "model_name": "DescriptionStyleModel",
      "state": {
       "description_width": ""
      }
     },
     "97f4ea4fa7814720a15f6ff90a48724c": {
      "model_module": "@jupyter-widgets/controls",
      "model_module_version": "1.5.0",
      "model_name": "ButtonStyleModel",
      "state": {}
     },
     "97f797fe41e5412182929af4cb7905ab": {
      "model_module": "@jupyter-widgets/base",
      "model_module_version": "1.2.0",
      "model_name": "LayoutModel",
      "state": {
       "display": "none",
       "min_width": "6em",
       "width": "6em"
      }
     },
     "981fec2c670b40528e89effffc6a549a": {
      "model_module": "@jupyter-widgets/controls",
      "model_module_version": "1.5.0",
      "model_name": "DescriptionStyleModel",
      "state": {
       "description_width": ""
      }
     },
     "982afbfe87c54bc29f6b34c9691acbf2": {
      "model_module": "@jupyter-widgets/base",
      "model_module_version": "1.2.0",
      "model_name": "LayoutModel",
      "state": {}
     },
     "9830fde21d7c472394020d24db648811": {
      "model_module": "@jupyter-widgets/controls",
      "model_module_version": "1.5.0",
      "model_name": "VBoxModel",
      "state": {
       "children": [
        "IPY_MODEL_a66f8315e9744980b7ddb59b6a95c5ed",
        "IPY_MODEL_e7786021f2e64e7a9f05a5ea56235dc3",
        "IPY_MODEL_c021194fa105412abb72eef639627dd5",
        "IPY_MODEL_568a4ff68c454e71a187c88d3b1a1a5b",
        "IPY_MODEL_816fd5b858f742cf87bb839bdfcd374d"
       ],
       "layout": "IPY_MODEL_cf6135c610044498b05c36731d56f636"
      }
     },
     "983e9b30389b4b4a9f48fb6beac2d55c": {
      "model_module": "@jupyter-widgets/controls",
      "model_module_version": "1.5.0",
      "model_name": "DescriptionStyleModel",
      "state": {
       "description_width": ""
      }
     },
     "984dddacd197407aaca169201eefa0fb": {
      "model_module": "@jupyter-widgets/controls",
      "model_module_version": "1.5.0",
      "model_name": "DescriptionStyleModel",
      "state": {
       "description_width": "initial"
      }
     },
     "985bd6ac33c4414f995d931df3ab8cad": {
      "model_module": "@jupyter-widgets/base",
      "model_module_version": "1.2.0",
      "model_name": "LayoutModel",
      "state": {}
     },
     "985c17cc8352446092c1476aa95d1a84": {
      "model_module": "@jupyter-widgets/controls",
      "model_module_version": "1.5.0",
      "model_name": "FloatTextModel",
      "state": {
       "description": "Distance",
       "layout": "IPY_MODEL_b48b0d7133564c478ba6422eeebb8ef9",
       "step": null,
       "style": "IPY_MODEL_9d28c3f066334348a519382abc90fd31",
       "value": 1000
      }
     },
     "98913b9f4fe944938a09b486342fa9aa": {
      "model_module": "@jupyter-widgets/base",
      "model_module_version": "1.2.0",
      "model_name": "LayoutModel",
      "state": {
       "border": "solid"
      }
     },
     "98964ba2c6fb408eac048f7a1b07d507": {
      "model_module": "@jupyter-widgets/controls",
      "model_module_version": "1.5.0",
      "model_name": "DropdownModel",
      "state": {
       "_options_labels": [
        "C:\\Users\\dominiquef\\Documents\\GIT\\mira\\geoapps\\assets",
        "C:\\Users\\dominiquef\\Documents\\GIT\\mira\\geoapps",
        "C:\\Users\\dominiquef\\Documents\\GIT\\mira",
        "C:\\Users\\dominiquef\\Documents\\GIT",
        "C:\\Users\\dominiquef\\Documents",
        "C:\\Users\\dominiquef",
        "C:\\Users",
        "C:\\",
        "D:\\",
        "Z:\\"
       ],
       "index": 0,
       "layout": "IPY_MODEL_7b22d58070394c01b3b7893d3579a01c",
       "style": "IPY_MODEL_0b07c21ecaa84b589fd47a8cfdd55ba1"
      }
     },
     "98a4e9654fde403db7ef76b2c1200f88": {
      "model_module": "@jupyter-widgets/controls",
      "model_module_version": "1.5.0",
      "model_name": "DescriptionStyleModel",
      "state": {
       "description_width": "initial"
      }
     },
     "98ae621e3002443cad80f3827dd518e9": {
      "model_module": "@jupyter-widgets/controls",
      "model_module_version": "1.5.0",
      "model_name": "TextModel",
      "state": {
       "disabled": true,
       "layout": "IPY_MODEL_348dc907ff1e43b8b704bd6262fe4d46",
       "placeholder": "output filename",
       "style": "IPY_MODEL_ad2087d476074ac380306a4be5e7717c"
      }
     },
     "98baac384a0146b08ac02a9a98ef1cee": {
      "model_module": "@jupyter-widgets/base",
      "model_module_version": "1.2.0",
      "model_name": "LayoutModel",
      "state": {}
     },
     "98cc5256134048799dc83702907d1e1b": {
      "model_module": "@jupyter-widgets/base",
      "model_module_version": "1.2.0",
      "model_name": "LayoutModel",
      "state": {
       "grid_area": "pathlist",
       "width": "auto"
      }
     },
     "98d4300da770418ba7a1455bea3dc5f2": {
      "model_module": "@jupyter-widgets/controls",
      "model_module_version": "1.5.0",
      "model_name": "ButtonStyleModel",
      "state": {}
     },
     "98dda3dd0b804e439dc6aeaa33692855": {
      "model_module": "@jupyter-widgets/controls",
      "model_module_version": "1.5.0",
      "model_name": "DescriptionStyleModel",
      "state": {
       "description_width": ""
      }
     },
     "9921750d881f4db0a58757d4893e0dd2": {
      "model_module": "@jupyter-widgets/controls",
      "model_module_version": "1.5.0",
      "model_name": "DropdownModel",
      "state": {
       "_options_labels": [
        "C:\\Users\\dominiquef\\Documents\\GIT\\mira\\geoapps\\docs\\content\\applications",
        "C:\\Users\\dominiquef\\Documents\\GIT\\mira\\geoapps\\docs\\content",
        "C:\\Users\\dominiquef\\Documents\\GIT\\mira\\geoapps\\docs",
        "C:\\Users\\dominiquef\\Documents\\GIT\\mira\\geoapps",
        "C:\\Users\\dominiquef\\Documents\\GIT\\mira",
        "C:\\Users\\dominiquef\\Documents\\GIT",
        "C:\\Users\\dominiquef\\Documents",
        "C:\\Users\\dominiquef",
        "C:\\Users",
        "C:\\",
        "D:\\",
        "Z:\\"
       ],
       "index": 0,
       "layout": "IPY_MODEL_0d8dbb4d3996451fbad090183afdcbb5",
       "style": "IPY_MODEL_0bd2540cabe7485b85e554b0c91dc099"
      }
     },
     "99244a69c6a8480f8c7bff9cec263621": {
      "model_module": "@jupyter-widgets/controls",
      "model_module_version": "1.5.0",
      "model_name": "DescriptionStyleModel",
      "state": {
       "description_width": "initial"
      }
     },
     "9930472cdda447feb646370fb58a749a": {
      "model_module": "@jupyter-widgets/controls",
      "model_module_version": "1.5.0",
      "model_name": "DescriptionStyleModel",
      "state": {
       "description_width": ""
      }
     },
     "99305026c639406e88f8b974973bcee1": {
      "model_module": "@jupyter-widgets/controls",
      "model_module_version": "1.5.0",
      "model_name": "HBoxModel",
      "state": {
       "children": [
        "IPY_MODEL_f755dcf49c0542c5babdd0a94f247eb1",
        "IPY_MODEL_fbfe69c494cb4965bce325beb0cd1eca",
        "IPY_MODEL_6f1a7e1e8ad84b0f861b0c8d0e1fef2c"
       ],
       "layout": "IPY_MODEL_d67cd97fbcdc455abd2bfb648363ad0e"
      }
     },
     "99398ea755544435a9473b69e115073a": {
      "model_module": "@jupyter-widgets/base",
      "model_module_version": "1.2.0",
      "model_name": "LayoutModel",
      "state": {}
     },
     "995170db621e4f8bb880233f08c4eefb": {
      "model_module": "@jupyter-widgets/controls",
      "model_module_version": "1.5.0",
      "model_name": "DescriptionStyleModel",
      "state": {
       "description_width": ""
      }
     },
     "99819bd7f2fa4b2dacde9dbda6c6584b": {
      "model_module": "@jupyter-widgets/controls",
      "model_module_version": "1.5.0",
      "model_name": "DescriptionStyleModel",
      "state": {
       "description_width": ""
      }
     },
     "9983c0bf15b843d9b7cf8af3fec1303a": {
      "model_module": "@jupyter-widgets/controls",
      "model_module_version": "1.5.0",
      "model_name": "VBoxModel",
      "state": {
       "children": [
        "IPY_MODEL_882e2f3829344bbeae5108881dd043dc",
        "IPY_MODEL_3891276044c947fdbc3e65d5a0ab3b71"
       ],
       "layout": "IPY_MODEL_947412a7ceeb4f8a90dbbe6809e29b66"
      }
     },
     "9986c0792f1243c98fa092fed6bb6b41": {
      "model_module": "@jupyter-widgets/base",
      "model_module_version": "1.2.0",
      "model_name": "LayoutModel",
      "state": {
       "display": "none",
       "grid_gap": "0px 0px",
       "grid_template_areas": "\n                    'pathlist pathlist'\n                    'dircontent dircontent'\n                    ",
       "grid_template_columns": "60% 40%",
       "grid_template_rows": "auto auto",
       "width": "auto"
      }
     },
     "998c0b62ab77428580b9fbe3a1c03b33": {
      "model_module": "@jupyter-widgets/controls",
      "model_module_version": "1.5.0",
      "model_name": "ButtonModel",
      "state": {
       "description": "Cancel",
       "layout": "IPY_MODEL_7408ebbe7d8d4ba5aba99f3c5ea4be0d",
       "style": "IPY_MODEL_3481015da8e644cb81f2be1f0c462207"
      }
     },
     "999e0726e8fb49228ad0285c4fa8e18b": {
      "model_module": "@jupyter-widgets/base",
      "model_module_version": "1.2.0",
      "model_name": "LayoutModel",
      "state": {}
     },
     "99a91cf4afd14595bb6eab675b2329f0": {
      "model_module": "@jupyter-widgets/controls",
      "model_module_version": "1.5.0",
      "model_name": "DescriptionStyleModel",
      "state": {
       "description_width": "initial"
      }
     },
     "99bb7683e739451f839313da4bad1aea": {
      "model_module": "@jupyter-widgets/controls",
      "model_module_version": "1.5.0",
      "model_name": "HTMLModel",
      "state": {
       "layout": "IPY_MODEL_674e5e0a6ebf459c8d454ead3a2ee5ab",
       "placeholder": "",
       "style": "IPY_MODEL_12ef5a90bde44e66987ae31aa981a870",
       "value": "<span style=\"color:green;\">C:\\Users\\dominiquef\\Documents\\GIT\\mira\\geoapps\\assets\\Temp\\</span>"
      }
     },
     "99bc618466f24655a0260bc0a7f02c55": {
      "model_module": "@jupyter-widgets/base",
      "model_module_version": "1.2.0",
      "model_name": "LayoutModel",
      "state": {
       "grid_area": "pathlist",
       "width": "auto"
      }
     },
     "99e0b2c405fd4e8d9b85ea629b1e1054": {
      "model_module": "@jupyter-widgets/controls",
      "model_module_version": "1.5.0",
      "model_name": "DescriptionStyleModel",
      "state": {
       "description_width": "initial"
      }
     },
     "99e450f4ec6d437da5508631a34b7701": {
      "model_module": "@jupyter-widgets/controls",
      "model_module_version": "1.5.0",
      "model_name": "DescriptionStyleModel",
      "state": {
       "description_width": ""
      }
     },
     "99edec10350f4205838b2d4d6e003877": {
      "model_module": "@jupyter-widgets/base",
      "model_module_version": "1.2.0",
      "model_name": "LayoutModel",
      "state": {}
     },
     "99f267d60ace428f82e20697f3ed712e": {
      "model_module": "@jupyter-widgets/base",
      "model_module_version": "1.2.0",
      "model_name": "LayoutModel",
      "state": {}
     },
     "9a1328221eb74b8187b5e75f78fbfa27": {
      "model_module": "@jupyter-widgets/controls",
      "model_module_version": "1.5.0",
      "model_name": "DropdownModel",
      "state": {
       "_options_labels": [
        "",
        "--- Channels ---",
        "CPI900",
        "CPI7200",
        "CPI56k",
        "CPQ900",
        "CPQ7200",
        "CPQ56k",
        "DEM",
        "Line",
        "X",
        "Y",
        "Z"
       ],
       "description": "Data: ",
       "index": 0,
       "layout": "IPY_MODEL_d841beef13c54118842ed66c8b6b1dee",
       "style": "IPY_MODEL_2ae2148f053048ea8811499b4f11e7b1"
      }
     },
     "9a1aaa442d2e4826a0ea02def1b49c92": {
      "model_module": "@jupyter-widgets/base",
      "model_module_version": "1.2.0",
      "model_name": "LayoutModel",
      "state": {
       "display": "none",
       "min_width": "6em",
       "width": "6em"
      }
     },
     "9a1d955764bd4365b9f37d107c87736f": {
      "model_module": "@jupyter-widgets/controls",
      "model_module_version": "1.5.0",
      "model_name": "DescriptionStyleModel",
      "state": {
       "description_width": "initial"
      }
     },
     "9a2694f451dd414186979517ec5105df": {
      "model_module": "@jupyter-widgets/controls",
      "model_module_version": "1.5.0",
      "model_name": "GridBoxModel",
      "state": {
       "children": [
        "IPY_MODEL_9921750d881f4db0a58757d4893e0dd2",
        "IPY_MODEL_bec65aacb5314d98be30b9af86f54260",
        "IPY_MODEL_1b8a3df7e78940028b93bc6406c5f525"
       ],
       "layout": "IPY_MODEL_0cb3de1a04dc4a2492c7e79fc6752220"
      }
     },
     "9a45ab89b77a48c18fb156e5f4ffda38": {
      "model_module": "@jupyter-widgets/controls",
      "model_module_version": "1.5.0",
      "model_name": "VBoxModel",
      "state": {
       "children": [
        "IPY_MODEL_8181274e984242c4b0c061e4c78511d6",
        "IPY_MODEL_8b2b2135c11141118225b4361e86d4bf",
        "IPY_MODEL_8ae2ebefa8e44d299c805882b9e2bd31",
        "IPY_MODEL_d87447d10126468aba635bea75c0176d",
        "IPY_MODEL_c729f7de0e9f43bc85a2eb162fce2911",
        "IPY_MODEL_19990c20be3648c298ff61ef0d882e52",
        "IPY_MODEL_da9c9e85a3144509bae1ad47837d2a46",
        "IPY_MODEL_a6dd59f9309a4f47b9f4ab6fed822ee6",
        "IPY_MODEL_f79f7a65fca041d485f195b7a9104055",
        "IPY_MODEL_aa2f37c788a241e096634de8856956ca"
       ],
       "layout": "IPY_MODEL_c35cff77dd8f4c1a8898ba4d7e392ec1"
      }
     },
     "9a4bd8f4ada4422583901d6264044736": {
      "model_module": "@jupyter-widgets/controls",
      "model_module_version": "1.5.0",
      "model_name": "DescriptionStyleModel",
      "state": {
       "description_width": "initial"
      }
     },
     "9a4e14aa28f64576a3cd832b6e6e2ff9": {
      "model_module": "@jupyter-widgets/controls",
      "model_module_version": "1.5.0",
      "model_name": "DescriptionStyleModel",
      "state": {
       "description_width": ""
      }
     },
     "9a5e4a91c054422e929f00bd08595958": {
      "model_module": "@jupyter-widgets/base",
      "model_module_version": "1.2.0",
      "model_name": "LayoutModel",
      "state": {}
     },
     "9a6e564b25bc4427a9bf7d5c69d74d49": {
      "model_module": "@jupyter-widgets/controls",
      "model_module_version": "1.5.0",
      "model_name": "DescriptionStyleModel",
      "state": {
       "description_width": ""
      }
     },
     "9a75478c42bb48f48602cf03bb72023d": {
      "model_module": "@jupyter-widgets/base",
      "model_module_version": "1.2.0",
      "model_name": "LayoutModel",
      "state": {}
     },
     "9a9a5399b5e745cc90afc7dbf0b03e50": {
      "model_module": "@jupyter-widgets/controls",
      "model_module_version": "1.5.0",
      "model_name": "DescriptionStyleModel",
      "state": {
       "description_width": "initial"
      }
     },
     "9aae5e105e944a58bbb2d90a459607c3": {
      "model_module": "@jupyter-widgets/base",
      "model_module_version": "1.2.0",
      "model_name": "LayoutModel",
      "state": {
       "border": "solid"
      }
     },
     "9abaa2eba37e489e81741c477636d567": {
      "model_module": "@jupyter-widgets/base",
      "model_module_version": "1.2.0",
      "model_name": "LayoutModel",
      "state": {
       "grid_area": "filename",
       "width": "auto"
      }
     },
     "9acfd13926434126ae8f914d3763dc54": {
      "model_module": "@jupyter-widgets/controls",
      "model_module_version": "1.5.0",
      "model_name": "DescriptionStyleModel",
      "state": {
       "description_width": ""
      }
     },
     "9ad8292d111d4db3bf941a1cca99e02f": {
      "model_module": "@jupyter-widgets/base",
      "model_module_version": "1.2.0",
      "model_name": "LayoutModel",
      "state": {}
     },
     "9af44d9840864acb8465e70ca9649674": {
      "model_module": "@jupyter-widgets/base",
      "model_module_version": "1.2.0",
      "model_name": "LayoutModel",
      "state": {}
     },
     "9af4778b626f48799a757b36da99d72c": {
      "model_module": "@jupyter-widgets/controls",
      "model_module_version": "1.5.0",
      "model_name": "DescriptionStyleModel",
      "state": {
       "description_width": ""
      }
     },
     "9b15308f78eb461bb5897850bf102c25": {
      "model_module": "@jupyter-widgets/controls",
      "model_module_version": "1.5.0",
      "model_name": "DescriptionStyleModel",
      "state": {
       "description_width": "initial"
      }
     },
     "9b27e9f2ef124acd8cc2d4d9dc7847ae": {
      "model_module": "@jupyter-widgets/controls",
      "model_module_version": "1.5.0",
      "model_name": "DescriptionStyleModel",
      "state": {
       "description_width": "initial"
      }
     },
     "9b29ca58040b4496bc8d0d95568e7a59": {
      "model_module": "@jupyter-widgets/controls",
      "model_module_version": "1.5.0",
      "model_name": "ButtonModel",
      "state": {
       "description": "Create copy:",
       "layout": "IPY_MODEL_879f1ea37f7a41a68ca17dc95ed08631",
       "style": "IPY_MODEL_ee74f0ba89fd4e4a85461f139ade6762"
      }
     },
     "9b3f54b11fda4a019cc04b48edcaefd0": {
      "model_module": "@jupyter-widgets/base",
      "model_module_version": "1.2.0",
      "model_name": "LayoutModel",
      "state": {}
     },
     "9b4479c8b1454d2685c26ca6dcdbb67f": {
      "model_module": "@jupyter-widgets/controls",
      "model_module_version": "1.5.0",
      "model_name": "DescriptionStyleModel",
      "state": {
       "description_width": "initial"
      }
     },
     "9b48a40859714e5dad3ad37433b188b2": {
      "model_module": "@jupyter-widgets/controls",
      "model_module_version": "1.5.0",
      "model_name": "VBoxModel",
      "state": {
       "children": [
        "IPY_MODEL_8ff47f059c0a41a1867a8e457b809915",
        "IPY_MODEL_6526c7bd9f994656a0e16b111ec8ee90"
       ],
       "layout": "IPY_MODEL_8b661e0ee9784f74ab0f48fe5a6db86c"
      }
     },
     "9b6d37f157314525a8c8cceba2c63639": {
      "model_module": "@jupyter-widgets/controls",
      "model_module_version": "1.5.0",
      "model_name": "DescriptionStyleModel",
      "state": {
       "description_width": "initial"
      }
     },
     "9b7fed3b71cb46318b05ec9bb43dcfd5": {
      "model_module": "@jupyter-widgets/base",
      "model_module_version": "1.2.0",
      "model_name": "LayoutModel",
      "state": {}
     },
     "9bb64283bddb449baae723b56afd720d": {
      "model_module": "@jupyter-widgets/controls",
      "model_module_version": "1.5.0",
      "model_name": "VBoxModel",
      "state": {
       "children": [
        "IPY_MODEL_3f8f45f24e854474b2829e6c29c0f09d",
        "IPY_MODEL_6ee39a25234e4b71a29c19be751850d6"
       ],
       "layout": "IPY_MODEL_9a5e4a91c054422e929f00bd08595958"
      }
     },
     "9bbda1df4fde4776ba0e09c3745542cf": {
      "model_module": "@jupyter-widgets/controls",
      "model_module_version": "1.5.0",
      "model_name": "DescriptionStyleModel",
      "state": {
       "description_width": "initial"
      }
     },
     "9bc072b9837148f8aa6c9bb3712b11a3": {
      "model_module": "@jupyter-widgets/controls",
      "model_module_version": "1.5.0",
      "model_name": "LabelModel",
      "state": {
       "layout": "IPY_MODEL_8052719fe3ce4b908c6cc617899f1a5e",
       "style": "IPY_MODEL_1551a3ffb84d4e7db8ae4b0702b016ac",
       "value": "Base Parameters"
      }
     },
     "9be354eaf1fc46f89730c2974533aec8": {
      "model_module": "@jupyter-widgets/controls",
      "model_module_version": "1.5.0",
      "model_name": "DescriptionStyleModel",
      "state": {
       "description_width": "initial"
      }
     },
     "9beb5e23e1544302a3653699c59164c6": {
      "model_module": "@jupyter-widgets/controls",
      "model_module_version": "1.5.0",
      "model_name": "FloatTextModel",
      "state": {
       "description": "Vertical (m)",
       "layout": "IPY_MODEL_31754222dec8471aac16c446a5b1992f",
       "step": null,
       "style": "IPY_MODEL_ff703620528f4d969b0f4dbda332c585",
       "value": 1000
      }
     },
     "9bf22dbb259641fd879b60738b3824a2": {
      "model_module": "@jupyter-widgets/controls",
      "model_module_version": "1.5.0",
      "model_name": "DescriptionStyleModel",
      "state": {
       "description_width": ""
      }
     },
     "9c0bab3c30ac454d8ebe1d43dbfaeaad": {
      "model_module": "@jupyter-widgets/base",
      "model_module_version": "1.2.0",
      "model_name": "LayoutModel",
      "state": {}
     },
     "9c133272da094e55906f7b5a65b115ed": {
      "model_module": "@jupyter-widgets/controls",
      "model_module_version": "1.5.0",
      "model_name": "DescriptionStyleModel",
      "state": {
       "description_width": "initial"
      }
     },
     "9c243f3f42194de6ab0f3627d75554b7": {
      "model_module": "@jupyter-widgets/base",
      "model_module_version": "1.2.0",
      "model_name": "LayoutModel",
      "state": {}
     },
     "9c2bd90ba4dd431c86fcf2db9db34593": {
      "model_module": "@jupyter-widgets/controls",
      "model_module_version": "1.5.0",
      "model_name": "DescriptionStyleModel",
      "state": {
       "description_width": "initial"
      }
     },
     "9c529fa83c1642868059c29d00d0452d": {
      "model_module": "@jupyter-widgets/controls",
      "model_module_version": "1.5.0",
      "model_name": "DescriptionStyleModel",
      "state": {
       "description_width": "initial"
      }
     },
     "9c74346a54a34069a1d8d0c68a2739cc": {
      "model_module": "@jupyter-widgets/controls",
      "model_module_version": "1.5.0",
      "model_name": "FloatTextModel",
      "state": {
       "description": "Distance",
       "layout": "IPY_MODEL_29653048a2da4f80b9f41a5d8ba9c7b2",
       "step": null,
       "style": "IPY_MODEL_4bbe2d9ce22f4c6581b3ddb9442e1258",
       "value": 1200
      }
     },
     "9c769d2979c348e6a830684e405b334a": {
      "model_module": "@jupyter-widgets/controls",
      "model_module_version": "1.5.0",
      "model_name": "DescriptionStyleModel",
      "state": {
       "description_width": ""
      }
     },
     "9c7bb81f0af14361805f42526921846c": {
      "model_module": "@jupyter-widgets/base",
      "model_module_version": "1.2.0",
      "model_name": "LayoutModel",
      "state": {}
     },
     "9cb0077badd64826b8c499a2a09cba5f": {
      "model_module": "@jupyter-widgets/base",
      "model_module_version": "1.2.0",
      "model_name": "LayoutModel",
      "state": {}
     },
     "9cef97dd828542ffb2c25076990955fa": {
      "model_module": "@jupyter-widgets/base",
      "model_module_version": "1.2.0",
      "model_name": "LayoutModel",
      "state": {}
     },
     "9cff5c152e034af48721ff1c3200229b": {
      "model_module": "@jupyter-widgets/base",
      "model_module_version": "1.2.0",
      "model_name": "LayoutModel",
      "state": {
       "display": "none",
       "grid_gap": "0px 0px",
       "grid_template_areas": "\n                    'pathlist pathlist'\n                    'dircontent dircontent'\n                    ",
       "grid_template_columns": "60% 40%",
       "grid_template_rows": "auto auto",
       "width": "auto"
      }
     },
     "9d1b47b6b23a4798baa016b3c0b1e693": {
      "model_module": "@jupyter-widgets/controls",
      "model_module_version": "1.5.0",
      "model_name": "DescriptionStyleModel",
      "state": {
       "description_width": "initial"
      }
     },
     "9d28c3f066334348a519382abc90fd31": {
      "model_module": "@jupyter-widgets/controls",
      "model_module_version": "1.5.0",
      "model_name": "DescriptionStyleModel",
      "state": {
       "description_width": "initial"
      }
     },
     "9d42c1ace7ef4f7e9643cd882803bce9": {
      "model_module": "@jupyter-widgets/controls",
      "model_module_version": "1.5.0",
      "model_name": "VBoxModel",
      "state": {
       "children": [
        "IPY_MODEL_018e38cb43fd4a099dc5dd4828c49247",
        "IPY_MODEL_53f6279768c647108bf7cbb810794661"
       ],
       "layout": "IPY_MODEL_44f1454fcd104a9d96a19de42d862057"
      }
     },
     "9d485577cb474b559cf5e63023b225ea": {
      "model_module": "@jupyter-widgets/controls",
      "model_module_version": "1.5.0",
      "model_name": "ButtonStyleModel",
      "state": {}
     },
     "9da0be7dcabd4990a9c5a782240ccff0": {
      "model_module": "@jupyter-widgets/controls",
      "model_module_version": "1.5.0",
      "model_name": "ButtonStyleModel",
      "state": {}
     },
     "9da572ec6825442c9d2a5f31dd0d2621": {
      "model_module": "@jupyter-widgets/base",
      "model_module_version": "1.2.0",
      "model_name": "LayoutModel",
      "state": {}
     },
     "9e1e073ac45f4958b80353cf7b5dd0b0": {
      "model_module": "@jupyter-widgets/base",
      "model_module_version": "1.2.0",
      "model_name": "LayoutModel",
      "state": {
       "border": "solid"
      }
     },
     "9e345b1af2f4432e9c59f8a11b1b5ced": {
      "model_module": "@jupyter-widgets/controls",
      "model_module_version": "1.5.0",
      "model_name": "DescriptionStyleModel",
      "state": {
       "description_width": ""
      }
     },
     "9e3d4b7e35d649538f8ec1d57a4bfd64": {
      "model_module": "@jupyter-widgets/controls",
      "model_module_version": "1.5.0",
      "model_name": "DescriptionStyleModel",
      "state": {
       "description_width": "initial"
      }
     },
     "9e4d22932c1446aa8e53c21be4801c26": {
      "model_module": "@jupyter-widgets/controls",
      "model_module_version": "1.5.0",
      "model_name": "VBoxModel",
      "state": {
       "children": [
        "IPY_MODEL_ccdc090321884eff8e432e90be348970",
        "IPY_MODEL_0ffacb458426411188c6877042200500",
        "IPY_MODEL_5adf89f504c64be3950621839f2b53cd"
       ],
       "layout": "IPY_MODEL_aa1ce08d2d5342f7bdcb986fa966bab7"
      }
     },
     "9e80d83a205c4ed3bf976732290b3537": {
      "model_module": "@jupyter-widgets/controls",
      "model_module_version": "1.5.0",
      "model_name": "DescriptionStyleModel",
      "state": {
       "description_width": "initial"
      }
     },
     "9e84ed4d7bd24d85921413908ab363b1": {
      "model_module": "@jupyter-widgets/base",
      "model_module_version": "1.2.0",
      "model_name": "LayoutModel",
      "state": {}
     },
     "9e8e5cd18dc94803a55b10e973b5e65d": {
      "model_module": "@jupyter-widgets/base",
      "model_module_version": "1.2.0",
      "model_name": "LayoutModel",
      "state": {}
     },
     "9e99171f1b6748bb9493917711fc7fbb": {
      "model_module": "@jupyter-widgets/base",
      "model_module_version": "1.2.0",
      "model_name": "LayoutModel",
      "state": {}
     },
     "9eb0d94d6b774248b12a15adf3d5b782": {
      "model_module": "@jupyter-widgets/controls",
      "model_module_version": "1.5.0",
      "model_name": "VBoxModel",
      "state": {
       "children": [
        "IPY_MODEL_b43a3945ed874a05bcee88387b5993ed",
        "IPY_MODEL_4a3277de1a5049da80165b4be1ec7848",
        "IPY_MODEL_d6bdb87f899d46069e56069ce37d6900",
        "IPY_MODEL_9fa9b2b140134e7c930897f8f76768c9",
        "IPY_MODEL_20b3d8c9a0604a94aa13fee877fa411e"
       ],
       "layout": "IPY_MODEL_1b8244ab5ec44f099116248fdc6ddec4"
      }
     },
     "9ebc6b44c39e41d29aa39dfd8533cb87": {
      "model_module": "@jupyter-widgets/controls",
      "model_module_version": "1.5.0",
      "model_name": "ButtonStyleModel",
      "state": {}
     },
     "9ec407284d114972ac74aa1b68c874e2": {
      "model_module": "@jupyter-widgets/controls",
      "model_module_version": "1.5.0",
      "model_name": "DescriptionStyleModel",
      "state": {
       "description_width": "initial"
      }
     },
     "9ee4aad5640144d58aa26c79f18db235": {
      "model_module": "@jupyter-widgets/base",
      "model_module_version": "1.2.0",
      "model_name": "LayoutModel",
      "state": {}
     },
     "9eeb62a427104f099ecc7f663e43b9e5": {
      "model_module": "@jupyter-widgets/controls",
      "model_module_version": "1.5.0",
      "model_name": "DropdownModel",
      "state": {
       "_options_labels": [
        "",
        "Ore/39_Ore_Callinan",
        "Ore/38_Ore_Dan_Owens",
        "Ore/40_Ore_FlinFlon",
        "Workspace/Inversion_VTEM_Model",
        "Workspace/CDI_VTEM_model",
        "Workspace/Data_FEM_pseudo3D",
        "Workspace/geochem",
        "Workspace/Inversion_DIGHEM_Model",
        "Workspace/Topography",
        "Workspace/Data_TEM_pseudo3D",
        "Workspace/Data_ZTEM",
        "Workspace/Mesh"
       ],
       "description": "Object",
       "index": 6,
       "layout": "IPY_MODEL_0729a92b1459484d909db83206c21917",
       "style": "IPY_MODEL_7a6cbec7280d43b3b324fd434353d501"
      }
     },
     "9f059175beed48acbef407d9dd9c3590": {
      "model_module": "@jupyter-widgets/base",
      "model_module_version": "1.2.0",
      "model_name": "LayoutModel",
      "state": {
       "display": "none"
      }
     },
     "9f0940617cfb49c2bb435719ce3bae51": {
      "model_module": "@jupyter-widgets/base",
      "model_module_version": "1.2.0",
      "model_name": "LayoutModel",
      "state": {}
     },
     "9f0c737076154ecd9ec92793ba7e445a": {
      "model_module": "@jupyter-widgets/base",
      "model_module_version": "1.2.0",
      "model_name": "LayoutModel",
      "state": {}
     },
     "9f0d70c9be854fc4aa0829c44b3fe066": {
      "model_module": "@jupyter-widgets/controls",
      "model_module_version": "1.5.0",
      "model_name": "DescriptionStyleModel",
      "state": {
       "description_width": "initial"
      }
     },
     "9f122877145843bca6151e6428201bf1": {
      "model_module": "@jupyter-widgets/controls",
      "model_module_version": "1.5.0",
      "model_name": "DescriptionStyleModel",
      "state": {
       "description_width": "initial"
      }
     },
     "9f26b38ed26a4c70a9a9cb8b65f448aa": {
      "model_module": "@jupyter-widgets/base",
      "model_module_version": "1.2.0",
      "model_name": "LayoutModel",
      "state": {}
     },
     "9f27d23f545942338d5786db5ec41dbd": {
      "model_module": "@jupyter-widgets/controls",
      "model_module_version": "1.5.0",
      "model_name": "DescriptionStyleModel",
      "state": {
       "description_width": ""
      }
     },
     "9f51cccfee1e4f4680c4e7acc85e1a14": {
      "model_module": "@jupyter-widgets/controls",
      "model_module_version": "1.5.0",
      "model_name": "DescriptionStyleModel",
      "state": {
       "description_width": ""
      }
     },
     "9f720fdd157747f695f230bd092c1004": {
      "model_module": "@jupyter-widgets/controls",
      "model_module_version": "1.5.0",
      "model_name": "DescriptionStyleModel",
      "state": {
       "description_width": "initial"
      }
     },
     "9f7ab829e49d4b58b5410e4eda70796c": {
      "model_module": "@jupyter-widgets/controls",
      "model_module_version": "1.5.0",
      "model_name": "SelectModel",
      "state": {
       "_options_labels": [
        "📁 ..",
        "📁 SimPEG_PFInversion",
        "📁 Temp",
        "📁 uijson",
        "FlinFlon.geoh5",
        "FlinFlon_dcip.geoh5",
        "MtDore_TMI.geoh5",
        "tem.geoh5",
        "test_forward.ui.geoh5",
        "test_forward.ui.json"
       ],
       "index": 4,
       "layout": "IPY_MODEL_d60f4b918945470fa0e527bcff240149",
       "rows": 8,
       "style": "IPY_MODEL_0f17961e552b460b9dfb64fb9bb0e7cc"
      }
     },
     "9fa127db0a454cb4ab03ee4787821deb": {
      "model_module": "@jupyter-widgets/controls",
      "model_module_version": "1.5.0",
      "model_name": "DescriptionStyleModel",
      "state": {
       "description_width": ""
      }
     },
     "9fa9b2b140134e7c930897f8f76768c9": {
      "model_module": "@jupyter-widgets/controls",
      "model_module_version": "1.5.0",
      "model_name": "DropdownModel",
      "state": {
       "_options_labels": [
        "surface",
        "radial"
       ],
       "description": "Type",
       "index": 1,
       "layout": "IPY_MODEL_fb3860aa373749898df305631b82d03d",
       "style": "IPY_MODEL_ea98d7e3bf534783b3a67579fb109e89"
      }
     },
     "9fc99f28aa7c42ae90608f2e477dc548": {
      "model_module": "@jupyter-widgets/controls",
      "model_module_version": "1.5.0",
      "model_name": "DescriptionStyleModel",
      "state": {
       "description_width": ""
      }
     },
     "a00061edceaa44fda560058dc27c156c": {
      "model_module": "@jupyter-widgets/base",
      "model_module_version": "1.2.0",
      "model_name": "LayoutModel",
      "state": {}
     },
     "a01616c496f94357be1ec8b1f9371518": {
      "model_module": "@jupyter-widgets/controls",
      "model_module_version": "1.5.0",
      "model_name": "DescriptionStyleModel",
      "state": {
       "description_width": "initial"
      }
     },
     "a02ac8ae1b114662a05db571160c916a": {
      "model_module": "@jupyter-widgets/controls",
      "model_module_version": "1.5.0",
      "model_name": "DescriptionStyleModel",
      "state": {
       "description_width": ""
      }
     },
     "a0405837559f4cd889d14e6e880928e6": {
      "model_module": "@jupyter-widgets/controls",
      "model_module_version": "1.5.0",
      "model_name": "DescriptionStyleModel",
      "state": {
       "description_width": "initial"
      }
     },
     "a049242d8cdd410d824876513e3ab28f": {
      "model_module": "@jupyter-widgets/controls",
      "model_module_version": "1.5.0",
      "model_name": "DescriptionStyleModel",
      "state": {
       "description_width": "initial"
      }
     },
     "a04b4540d4a54485aebf007c3e027b25": {
      "model_module": "@jupyter-widgets/base",
      "model_module_version": "1.2.0",
      "model_name": "LayoutModel",
      "state": {}
     },
     "a050150831d441ddb85e0f30a5b9e35c": {
      "model_module": "@jupyter-widgets/controls",
      "model_module_version": "1.5.0",
      "model_name": "HBoxModel",
      "state": {
       "children": [
        "IPY_MODEL_ac8a82635c5d43ef80bc97c56f75a4d8",
        "IPY_MODEL_57dbd79228034729856be9bbc371bf3e"
       ],
       "layout": "IPY_MODEL_b7a705a6bc834f3ba35926602d8437e2"
      }
     },
     "a06348181359429b86b5d30692821805": {
      "model_module": "@jupyter-widgets/controls",
      "model_module_version": "1.5.0",
      "model_name": "ButtonStyleModel",
      "state": {}
     },
     "a07a1cbdc04240e2a2a4bca25fc7a90b": {
      "model_module": "@jupyter-widgets/controls",
      "model_module_version": "1.5.0",
      "model_name": "HBoxModel",
      "state": {
       "children": [
        "IPY_MODEL_b491e0a4d16d4b30a6d55db6a2be7d92",
        "IPY_MODEL_4536e97f33d54e3aab99441bc6a6ad7f",
        "IPY_MODEL_e1d93ef1a715474aa60cd6ef222263d0"
       ],
       "layout": "IPY_MODEL_26a4fc296298444fb9ff2875a4393fb8"
      }
     },
     "a08c3b8fa0e34f3c9d260d3093aa2109": {
      "model_module": "@jupyter-widgets/controls",
      "model_module_version": "1.5.0",
      "model_name": "DescriptionStyleModel",
      "state": {
       "description_width": "initial"
      }
     },
     "a0973cff8ad849fbbf1425fbb72da4e8": {
      "model_module": "@jupyter-widgets/controls",
      "model_module_version": "1.5.0",
      "model_name": "ButtonModel",
      "state": {
       "description": "Select",
       "layout": "IPY_MODEL_dfee65aba5f14eeba0cc5c482d248532",
       "style": "IPY_MODEL_76fb34fa72e746439ee0d070dd703a36"
      }
     },
     "a0c0b288266742f1b3a5dd53912cd316": {
      "model_module": "@jupyter-widgets/base",
      "model_module_version": "1.2.0",
      "model_name": "LayoutModel",
      "state": {}
     },
     "a0c79f73849a4558ba57089478b83eaf": {
      "model_module": "@jupyter-widgets/controls",
      "model_module_version": "1.5.0",
      "model_name": "DescriptionStyleModel",
      "state": {
       "description_width": ""
      }
     },
     "a0caa9da94ad49f895505535e876cd08": {
      "model_module": "@jupyter-widgets/base",
      "model_module_version": "1.2.0",
      "model_name": "LayoutModel",
      "state": {}
     },
     "a10951c781524d88a7349087a340b711": {
      "model_module": "@jupyter-widgets/base",
      "model_module_version": "1.2.0",
      "model_name": "LayoutModel",
      "state": {
       "border": "solid"
      }
     },
     "a10a2c30fade44e69a139b5d8585e4df": {
      "model_module": "@jupyter-widgets/controls",
      "model_module_version": "1.5.0",
      "model_name": "HBoxModel",
      "state": {
       "children": [
        "IPY_MODEL_f6942acfb18f448085ba55311631b8ab",
        "IPY_MODEL_7fdcd60bf61e4eb68d01f996328597b7",
        "IPY_MODEL_b2442514eda44917b07fd5240f7f798c"
       ],
       "layout": "IPY_MODEL_326c3150fa624606b61faa089b65714c"
      }
     },
     "a1178a5a68b0498f930c406b7d9e37e3": {
      "model_module": "@jupyter-widgets/controls",
      "model_module_version": "1.5.0",
      "model_name": "DescriptionStyleModel",
      "state": {
       "description_width": "initial"
      }
     },
     "a1388cbd72a04be7b699006ccf6f9304": {
      "model_module": "@jupyter-widgets/controls",
      "model_module_version": "1.5.0",
      "model_name": "TextModel",
      "state": {
       "description": "Levels",
       "layout": "IPY_MODEL_5086b80969d6492f946374b3dd93d0df",
       "style": "IPY_MODEL_14aa3696c9194111a796c69219b5d077",
       "value": "0.0, 0.0, 2.0"
      }
     },
     "a13f8e8bb2734a23a919eb33ec0cb20a": {
      "model_module": "@jupyter-widgets/base",
      "model_module_version": "1.2.0",
      "model_name": "LayoutModel",
      "state": {}
     },
     "a1520480be6f40c8a7b129b57c8b55c4": {
      "model_module": "@jupyter-widgets/controls",
      "model_module_version": "1.5.0",
      "model_name": "HTMLModel",
      "state": {
       "layout": "IPY_MODEL_453e87a413a5428b8a1972ce0209f03b",
       "style": "IPY_MODEL_0d1f3e0236ef49f98f4fca4d219c911f"
      }
     },
     "a1522ebd5e0e428fbd86ad9b834972f5": {
      "model_module": "@jupyter-widgets/controls",
      "model_module_version": "1.5.0",
      "model_name": "FloatTextModel",
      "state": {
       "description": "Horizontal (m)",
       "layout": "IPY_MODEL_f2d4a72a26324cda8ed359cdc8184dbd",
       "step": null,
       "style": "IPY_MODEL_0701bb5a01f1410aa888de151b3d134d",
       "value": 1000
      }
     },
     "a15ab6742deb40a6918647c51f7f946a": {
      "model_module": "@jupyter-widgets/controls",
      "model_module_version": "1.5.0",
      "model_name": "LabelModel",
      "state": {
       "layout": "IPY_MODEL_b882ef2f8f6c4d1db489c5e2b3b2d9e6",
       "style": "IPY_MODEL_feed2ffccc2a4f4690fb4a1cba02112d",
       "value": "Refinement A"
      }
     },
     "a1671cd8a4134be7b61eb14f265f292b": {
      "model_module": "@jupyter-widgets/controls",
      "model_module_version": "1.5.0",
      "model_name": "DescriptionStyleModel",
      "state": {
       "description_width": "initial"
      }
     },
     "a16930d0fe50426dbf764e35d7e99bda": {
      "model_module": "@jupyter-widgets/controls",
      "model_module_version": "1.5.0",
      "model_name": "ButtonModel",
      "state": {
       "description": "Create copy:",
       "layout": "IPY_MODEL_8d90df5c0e8d44e192123352663e1039",
       "style": "IPY_MODEL_2a7a506c10fc4d7983a9b42f340e456a"
      }
     },
     "a1a1604daed54e51b2c6032da03d48a9": {
      "model_module": "@jupyter-widgets/controls",
      "model_module_version": "1.5.0",
      "model_name": "HTMLModel",
      "state": {
       "layout": "IPY_MODEL_d46e998099844931bbc46da4f2fb5367",
       "placeholder": "",
       "style": "IPY_MODEL_b920feda573141acae5ee29ac9313e02",
       "value": "<span style=\"color:orange;\">C:\\Users\\dominiquef\\Documents\\GIT\\mira\\geoapps\\assets\\FlinFlon.geoh5</span>"
      }
     },
     "a1c09fca1cdd49a9a45f117761dc0745": {
      "model_module": "@jupyter-widgets/controls",
      "model_module_version": "1.5.0",
      "model_name": "DescriptionStyleModel",
      "state": {
       "description_width": ""
      }
     },
     "a1dda582182045708cf442f1662de39a": {
      "model_module": "@jupyter-widgets/controls",
      "model_module_version": "1.5.0",
      "model_name": "ButtonModel",
      "state": {
       "description": "Change",
       "layout": "IPY_MODEL_6d25d9154b674052a56d75b00cf28898",
       "style": "IPY_MODEL_83b45d1edfac47c3b8375b153b295975"
      }
     },
     "a1e1b998f05443348dc7d0d87583d52a": {
      "model_module": "@jupyter-widgets/base",
      "model_module_version": "1.2.0",
      "model_name": "LayoutModel",
      "state": {
       "display": "none",
       "grid_gap": "0px 0px",
       "grid_template_areas": "\n                    'pathlist filename'\n                    'dircontent dircontent'\n                    ",
       "grid_template_columns": "60% 40%",
       "grid_template_rows": "auto auto",
       "width": "auto"
      }
     },
     "a1ec294c49094a50a81fbf1e72c711d3": {
      "model_module": "@jupyter-widgets/controls",
      "model_module_version": "1.5.0",
      "model_name": "VBoxModel",
      "state": {
       "children": [
        "IPY_MODEL_7531c140ee224c798f6093214950aeb6",
        "IPY_MODEL_9d42c1ace7ef4f7e9643cd882803bce9",
        "IPY_MODEL_6703f4fb1ab54f289b4fbefc0c1d75dd"
       ],
       "layout": "IPY_MODEL_1c7d57015f2942c2a7c7b19d716f7a6c"
      }
     },
     "a1f1db84da374a93966e17042eff573a": {
      "model_module": "@jupyter-widgets/controls",
      "model_module_version": "1.5.0",
      "model_name": "DescriptionStyleModel",
      "state": {
       "description_width": "initial"
      }
     },
     "a1f24cf88ab24273a8f6037909a875b1": {
      "model_module": "@jupyter-widgets/base",
      "model_module_version": "1.2.0",
      "model_name": "LayoutModel",
      "state": {
       "overflow": "auto"
      }
     },
     "a1ffc800a5fa4428aa777ae3fbae10df": {
      "model_module": "@jupyter-widgets/base",
      "model_module_version": "1.2.0",
      "model_name": "LayoutModel",
      "state": {
       "grid_area": "dircontent",
       "width": "auto"
      }
     },
     "a20fabf633ad4404b9c7debf65b48647": {
      "model_module": "@jupyter-widgets/controls",
      "model_module_version": "1.5.0",
      "model_name": "FloatTextModel",
      "state": {
       "description": "Distance",
       "layout": "IPY_MODEL_4773b04607364c2a9d3a157b131403a9",
       "step": null,
       "style": "IPY_MODEL_50a8c57cb59f4d5c94341a6725bbc31a",
       "value": 1200
      }
     },
     "a21d2766f12746e98bac8e26c234328f": {
      "model_module": "@jupyter-widgets/controls",
      "model_module_version": "1.5.0",
      "model_name": "DescriptionStyleModel",
      "state": {
       "description_width": "initial"
      }
     },
     "a2208e31fc6c4944a42d1c8074c549d2": {
      "model_module": "@jupyter-widgets/base",
      "model_module_version": "1.2.0",
      "model_name": "LayoutModel",
      "state": {
       "border": "solid"
      }
     },
     "a22b4e08f7a64c0eb1e1e0dd81089ba3": {
      "model_module": "@jupyter-widgets/controls",
      "model_module_version": "1.5.0",
      "model_name": "DescriptionStyleModel",
      "state": {
       "description_width": ""
      }
     },
     "a22ec37f561c4ef48f39e4ffd4b55602": {
      "model_module": "@jupyter-widgets/controls",
      "model_module_version": "1.5.0",
      "model_name": "DescriptionStyleModel",
      "state": {
       "description_width": "initial"
      }
     },
     "a286a8a90dea4cb6a276f6221426c6ee": {
      "model_module": "@jupyter-widgets/controls",
      "model_module_version": "1.5.0",
      "model_name": "DescriptionStyleModel",
      "state": {
       "description_width": "initial"
      }
     },
     "a2d6535d6893439cabd0ad8fb6d9462b": {
      "model_module": "@jupyter-widgets/base",
      "model_module_version": "1.2.0",
      "model_name": "LayoutModel",
      "state": {
       "width": "500px"
      }
     },
     "a2efbdbed39e48cd80fcd2aa01cebd75": {
      "model_module": "@jupyter-widgets/controls",
      "model_module_version": "1.5.0",
      "model_name": "FloatTextModel",
      "state": {
       "description": "Distance",
       "layout": "IPY_MODEL_8df281555f844b7c8d64f74666119fde",
       "step": null,
       "style": "IPY_MODEL_c52a614d7c2740fa805baf02c8981240",
       "value": 1000
      }
     },
     "a2f77554884c4f9c8ffb17d03f88366e": {
      "model_module": "@jupyter-widgets/base",
      "model_module_version": "1.2.0",
      "model_name": "LayoutModel",
      "state": {}
     },
     "a301f1477e5244c98b8fedaf986bb775": {
      "model_module": "@jupyter-widgets/base",
      "model_module_version": "1.2.0",
      "model_name": "LayoutModel",
      "state": {
       "width": "auto"
      }
     },
     "a32d2766795d40f49d1e9a21e3c621b8": {
      "model_module": "@jupyter-widgets/base",
      "model_module_version": "1.2.0",
      "model_name": "LayoutModel",
      "state": {
       "border": "solid"
      }
     },
     "a33a7adf1eac473fad50f80a0685560f": {
      "model_module": "@jupyter-widgets/controls",
      "model_module_version": "1.5.0",
      "model_name": "DescriptionStyleModel",
      "state": {
       "description_width": "initial"
      }
     },
     "a343382703f74f96b4592170813b8ea7": {
      "model_module": "@jupyter-widgets/base",
      "model_module_version": "1.2.0",
      "model_name": "LayoutModel",
      "state": {
       "grid_area": "pathlist",
       "width": "auto"
      }
     },
     "a34cc0ea80ff4782ae38c409d885755f": {
      "model_module": "@jupyter-widgets/controls",
      "model_module_version": "1.5.0",
      "model_name": "DescriptionStyleModel",
      "state": {
       "description_width": ""
      }
     },
     "a371adc769234a7e8e16ef40858bb93a": {
      "model_module": "@jupyter-widgets/controls",
      "model_module_version": "1.5.0",
      "model_name": "DescriptionStyleModel",
      "state": {
       "description_width": ""
      }
     },
     "a3be90bacee04b1c89f1cb42606bc0bf": {
      "model_module": "@jupyter-widgets/controls",
      "model_module_version": "1.5.0",
      "model_name": "FloatTextModel",
      "state": {
       "description": "Vertical",
       "layout": "IPY_MODEL_692bb1949ba64226a6e7ba35ee6ecf84",
       "step": null,
       "style": "IPY_MODEL_568d616bda3247e49d99da972a7c3b23",
       "value": 25
      }
     },
     "a3d3af90c560478b89fe2d0530c392e6": {
      "model_module": "@jupyter-widgets/controls",
      "model_module_version": "1.5.0",
      "model_name": "ButtonStyleModel",
      "state": {}
     },
     "a3e971dc6a1643329eb51087c95b5af8": {
      "model_module": "@jupyter-widgets/base",
      "model_module_version": "1.2.0",
      "model_name": "LayoutModel",
      "state": {}
     },
     "a3f702c6ce7b482a964847a6fa0bab42": {
      "model_module": "@jupyter-widgets/controls",
      "model_module_version": "1.5.0",
      "model_name": "DropdownModel",
      "state": {
       "_options_labels": [
        "surface",
        "radial"
       ],
       "description": "Type",
       "index": 0,
       "layout": "IPY_MODEL_99f267d60ace428f82e20697f3ed712e",
       "style": "IPY_MODEL_b8156aaf13004db5bc97c4c13ca32594"
      }
     },
     "a3fe525f439548818b150f4f90d04d2a": {
      "model_module": "@jupyter-widgets/controls",
      "model_module_version": "1.5.0",
      "model_name": "DescriptionStyleModel",
      "state": {
       "description_width": ""
      }
     },
     "a40a6ec7b7024c04877f06b49906db17": {
      "model_module": "@jupyter-widgets/base",
      "model_module_version": "1.2.0",
      "model_name": "LayoutModel",
      "state": {
       "grid_area": "filename",
       "width": "auto"
      }
     },
     "a42e1af13043486885b8aec9c49fc4cb": {
      "model_module": "@jupyter-widgets/controls",
      "model_module_version": "1.5.0",
      "model_name": "DescriptionStyleModel",
      "state": {
       "description_width": "initial"
      }
     },
     "a4305a19f45743e9b1b88abbc19dc4f3": {
      "model_module": "@jupyter-widgets/controls",
      "model_module_version": "1.5.0",
      "model_name": "DescriptionStyleModel",
      "state": {
       "description_width": ""
      }
     },
     "a43a5e573b134d0c8eeff9c9f7fb6f85": {
      "model_module": "@jupyter-widgets/base",
      "model_module_version": "1.2.0",
      "model_name": "LayoutModel",
      "state": {}
     },
     "a43d80cdbc5f472685593c6529987e0a": {
      "model_module": "@jupyter-widgets/controls",
      "model_module_version": "1.5.0",
      "model_name": "ButtonModel",
      "state": {
       "description": "Change",
       "layout": "IPY_MODEL_e2eee9a18b124962b5e3ce75b09f774b",
       "style": "IPY_MODEL_9da0be7dcabd4990a9c5a782240ccff0"
      }
     },
     "a44412f802f84301b50098bec1c56396": {
      "model_module": "@jupyter-widgets/controls",
      "model_module_version": "1.5.0",
      "model_name": "DescriptionStyleModel",
      "state": {
       "description_width": "initial"
      }
     },
     "a445eecf49064b0abac4518303374327": {
      "model_module": "@jupyter-widgets/controls",
      "model_module_version": "1.5.0",
      "model_name": "DescriptionStyleModel",
      "state": {
       "description_width": ""
      }
     },
     "a468e765ee6d4a14ad753ed574a956d5": {
      "model_module": "@jupyter-widgets/base",
      "model_module_version": "1.2.0",
      "model_name": "LayoutModel",
      "state": {
       "grid_area": "dircontent",
       "width": "auto"
      }
     },
     "a473a2b97fc04024b351c12f1fb6450b": {
      "model_module": "@jupyter-widgets/controls",
      "model_module_version": "1.5.0",
      "model_name": "DescriptionStyleModel",
      "state": {
       "description_width": "initial"
      }
     },
     "a48107f0e82a45d8b13ae3be455c5e79": {
      "model_module": "@jupyter-widgets/controls",
      "model_module_version": "1.5.0",
      "model_name": "DescriptionStyleModel",
      "state": {
       "description_width": ""
      }
     },
     "a48c506d69e745e7b14d2a4e3eedfae2": {
      "model_module": "@jupyter-widgets/controls",
      "model_module_version": "1.5.0",
      "model_name": "DescriptionStyleModel",
      "state": {
       "description_width": "initial"
      }
     },
     "a4a147f7794149f5afbf86fd329f618a": {
      "model_module": "@jupyter-widgets/controls",
      "model_module_version": "1.5.0",
      "model_name": "DescriptionStyleModel",
      "state": {
       "description_width": "initial"
      }
     },
     "a4a7d8475be84d9481db83716f48a615": {
      "model_module": "@jupyter-widgets/controls",
      "model_module_version": "1.5.0",
      "model_name": "DescriptionStyleModel",
      "state": {
       "description_width": "initial"
      }
     },
     "a4ac7fbb4eda4153a07a1c442e6315b6": {
      "model_module": "@jupyter-widgets/base",
      "model_module_version": "1.2.0",
      "model_name": "LayoutModel",
      "state": {
       "margin": "0 0 0 1em"
      }
     },
     "a4b178db90fb401eb9836909f0254900": {
      "model_module": "@jupyter-widgets/controls",
      "model_module_version": "1.5.0",
      "model_name": "DescriptionStyleModel",
      "state": {
       "description_width": "initial"
      }
     },
     "a4cc597368b642c590b98ca800210d47": {
      "model_module": "@jupyter-widgets/base",
      "model_module_version": "1.2.0",
      "model_name": "LayoutModel",
      "state": {}
     },
     "a4ddc9d6e27c4a5caeb4d62474cf6e3d": {
      "model_module": "@jupyter-widgets/base",
      "model_module_version": "1.2.0",
      "model_name": "LayoutModel",
      "state": {
       "width": "500px"
      }
     },
     "a4e2f6e02d9645ecab5a0874f6839503": {
      "model_module": "@jupyter-widgets/controls",
      "model_module_version": "1.5.0",
      "model_name": "DropdownModel",
      "state": {
       "_options_labels": [
        "",
        "--- Channels ---",
        "CPI900",
        "CPI7200",
        "CPI56k",
        "CPQ900",
        "CPQ7200",
        "CPQ56k",
        "DEM",
        "Line",
        "X",
        "Y",
        "Z"
       ],
       "description": "Data: ",
       "index": 0,
       "layout": "IPY_MODEL_9f0c737076154ecd9ec92793ba7e445a",
       "style": "IPY_MODEL_98a4e9654fde403db7ef76b2c1200f88"
      }
     },
     "a4f3692c807f4cb59d1ccf16632de464": {
      "model_module": "@jupyter-widgets/controls",
      "model_module_version": "1.5.0",
      "model_name": "DescriptionStyleModel",
      "state": {
       "description_width": "initial"
      }
     },
     "a4fe359dda3a4dd9addb5b1d82daea63": {
      "model_module": "@jupyter-widgets/controls",
      "model_module_version": "1.5.0",
      "model_name": "DescriptionStyleModel",
      "state": {
       "description_width": "initial"
      }
     },
     "a51f9d4d982041d7819d08c9d0e0fe62": {
      "model_module": "@jupyter-widgets/base",
      "model_module_version": "1.2.0",
      "model_name": "LayoutModel",
      "state": {}
     },
     "a5368faa64ac44d7a05bb102c206b9fa": {
      "model_module": "@jupyter-widgets/controls",
      "model_module_version": "1.5.0",
      "model_name": "DescriptionStyleModel",
      "state": {
       "description_width": "initial"
      }
     },
     "a5380b8a84dc4719b547640d373403a3": {
      "model_module": "@jupyter-widgets/controls",
      "model_module_version": "1.5.0",
      "model_name": "DescriptionStyleModel",
      "state": {
       "description_width": "initial"
      }
     },
     "a5527b1db30e477da5c30fcc58e59631": {
      "model_module": "@jupyter-widgets/controls",
      "model_module_version": "1.5.0",
      "model_name": "BoxModel",
      "state": {
       "children": [
        "IPY_MODEL_175f34f822b64d82a606d63064fad604"
       ],
       "layout": "IPY_MODEL_cb03db937fea4f379e6bd1c885aae5a5"
      }
     },
     "a58b158ad6fa4b49a031a587c29b9eb3": {
      "model_module": "@jupyter-widgets/base",
      "model_module_version": "1.2.0",
      "model_name": "LayoutModel",
      "state": {}
     },
     "a5b53e7eaad447c196d809a0bacdfd1a": {
      "model_module": "@jupyter-widgets/controls",
      "model_module_version": "1.5.0",
      "model_name": "DescriptionStyleModel",
      "state": {
       "description_width": ""
      }
     },
     "a5b67adfebe343b2b3fd807ed734bbcb": {
      "model_module": "@jupyter-widgets/base",
      "model_module_version": "1.2.0",
      "model_name": "LayoutModel",
      "state": {
       "grid_area": "pathlist",
       "width": "auto"
      }
     },
     "a5bb99b9633144869f033b726b40570e": {
      "model_module": "@jupyter-widgets/base",
      "model_module_version": "1.2.0",
      "model_name": "LayoutModel",
      "state": {}
     },
     "a5bc26a274694e5199716463083b0e47": {
      "model_module": "@jupyter-widgets/controls",
      "model_module_version": "1.5.0",
      "model_name": "TextModel",
      "state": {
       "description": "Levels",
       "layout": "IPY_MODEL_a5bb99b9633144869f033b726b40570e",
       "style": "IPY_MODEL_60d1dd0fc3b8464f8e3926f159e3999f",
       "value": "4.0, 4.0, 4.0"
      }
     },
     "a5c0071a027f4f3e95a118692096e8ba": {
      "model_module": "@jupyter-widgets/controls",
      "model_module_version": "1.5.0",
      "model_name": "LabelModel",
      "state": {
       "layout": "IPY_MODEL_9cb0077badd64826b8c499a2a09cba5f",
       "style": "IPY_MODEL_266a891d61e24333ab68f38da34f7e91",
       "value": "Refinement A"
      }
     },
     "a5c5d73cdc184ce5a53d994f7b1a4abf": {
      "model_module": "@jupyter-widgets/controls",
      "model_module_version": "1.5.0",
      "model_name": "DescriptionStyleModel",
      "state": {
       "description_width": "initial"
      }
     },
     "a5c7698b53e54075aca40ee23fb84fbb": {
      "model_module": "@jupyter-widgets/controls",
      "model_module_version": "1.5.0",
      "model_name": "DescriptionStyleModel",
      "state": {
       "description_width": "initial"
      }
     },
     "a5cbb527744749dba193a5000eb61173": {
      "model_module": "@jupyter-widgets/base",
      "model_module_version": "1.2.0",
      "model_name": "LayoutModel",
      "state": {}
     },
     "a5e42d37442d4fb2905b612ee611fd33": {
      "model_module": "@jupyter-widgets/base",
      "model_module_version": "1.2.0",
      "model_name": "LayoutModel",
      "state": {
       "display": "none",
       "grid_area": "filename",
       "width": "auto"
      }
     },
     "a6447837bde44ff3bd06cfbd19bfbb7e": {
      "model_module": "@jupyter-widgets/base",
      "model_module_version": "1.2.0",
      "model_name": "LayoutModel",
      "state": {
       "overflow": "auto"
      }
     },
     "a64a9c9a4fec476e8b1e2cb53339bcd6": {
      "model_module": "@jupyter-widgets/base",
      "model_module_version": "1.2.0",
      "model_name": "LayoutModel",
      "state": {
       "width": "auto"
      }
     },
     "a653ce54c23c41898d0c30cb60787966": {
      "model_module": "@jupyter-widgets/controls",
      "model_module_version": "1.5.0",
      "model_name": "ButtonStyleModel",
      "state": {}
     },
     "a6615adf5fd2425d8bb8fdab55bb9f82": {
      "model_module": "@jupyter-widgets/controls",
      "model_module_version": "1.5.0",
      "model_name": "CheckboxModel",
      "state": {
       "description": "Geoscience ANALYST Pro - Live link",
       "disabled": false,
       "indent": false,
       "layout": "IPY_MODEL_4da0b6b0bf474f41b875fb085cdf606d",
       "style": "IPY_MODEL_ec172ae8a49646478c366c8dd4653383",
       "value": false
      }
     },
     "a66f8315e9744980b7ddb59b6a95c5ed": {
      "model_module": "@jupyter-widgets/controls",
      "model_module_version": "1.5.0",
      "model_name": "LabelModel",
      "state": {
       "layout": "IPY_MODEL_c1a79bfa9413477ab44f36ef374a157c",
       "style": "IPY_MODEL_d2e9c0602dd045c8b6e936be2cdae617",
       "value": "Refinement A"
      }
     },
     "a694fc02a5994f09a2178d5fa94ec368": {
      "model_module": "@jupyter-widgets/controls",
      "model_module_version": "1.5.0",
      "model_name": "ButtonStyleModel",
      "state": {}
     },
     "a6aad8b6f0ea462fa9d597c78bc59473": {
      "model_module": "@jupyter-widgets/controls",
      "model_module_version": "1.5.0",
      "model_name": "ButtonStyleModel",
      "state": {}
     },
     "a6dd59f9309a4f47b9f4ab6fed822ee6": {
      "model_module": "@jupyter-widgets/controls",
      "model_module_version": "1.5.0",
      "model_name": "LabelModel",
      "state": {
       "layout": "IPY_MODEL_8327d275bf06489e9df1c886e1945239",
       "style": "IPY_MODEL_2addf0f0a6844b6a87c693a105c2979d",
       "value": "Padding distance"
      }
     },
     "a6e0654e963e4b41a5593eaa73b756ab": {
      "model_module": "@jupyter-widgets/base",
      "model_module_version": "1.2.0",
      "model_name": "LayoutModel",
      "state": {}
     },
     "a6e634144a4f45af961be1fd57c15c09": {
      "model_module": "@jupyter-widgets/base",
      "model_module_version": "1.2.0",
      "model_name": "LayoutModel",
      "state": {
       "min_width": "6em",
       "width": "6em"
      }
     },
     "a6fb49fbfc3449f0b91878eb8f522b1d": {
      "model_module": "@jupyter-widgets/controls",
      "model_module_version": "1.5.0",
      "model_name": "DescriptionStyleModel",
      "state": {
       "description_width": ""
      }
     },
     "a6fc350434a54522b1d462e81bf821e1": {
      "model_module": "@jupyter-widgets/controls",
      "model_module_version": "1.5.0",
      "model_name": "DescriptionStyleModel",
      "state": {
       "description_width": "initial"
      }
     },
     "a7097ecb237b44c386c5f156625fdfb8": {
      "model_module": "@jupyter-widgets/base",
      "model_module_version": "1.2.0",
      "model_name": "LayoutModel",
      "state": {}
     },
     "a70bf97e8cbe43dbb4a4f1dd4e5a7d9a": {
      "model_module": "@jupyter-widgets/controls",
      "model_module_version": "1.5.0",
      "model_name": "DescriptionStyleModel",
      "state": {
       "description_width": "initial"
      }
     },
     "a720268c5933489693eb3d9c63e454ab": {
      "model_module": "@jupyter-widgets/controls",
      "model_module_version": "1.5.0",
      "model_name": "DescriptionStyleModel",
      "state": {
       "description_width": ""
      }
     },
     "a72dc3f53a6b44a1acb0b12723e606ad": {
      "model_module": "@jupyter-widgets/controls",
      "model_module_version": "1.5.0",
      "model_name": "DescriptionStyleModel",
      "state": {
       "description_width": "initial"
      }
     },
     "a73ac5ef063445f1a4a63dbbb2bc06f2": {
      "model_module": "@jupyter-widgets/controls",
      "model_module_version": "1.5.0",
      "model_name": "HTMLModel",
      "state": {
       "layout": "IPY_MODEL_8b4e70d2466e41f8907327edaaae9b0a",
       "style": "IPY_MODEL_41d4c00646ae4ba388666dc50c7633a0"
      }
     },
     "a73aec9b9a174772991199b23b641174": {
      "model_module": "@jupyter-widgets/base",
      "model_module_version": "1.2.0",
      "model_name": "LayoutModel",
      "state": {
       "margin": "0 0 0 1em"
      }
     },
     "a75ae52cb4394761b32a16391451fec6": {
      "model_module": "@jupyter-widgets/base",
      "model_module_version": "1.2.0",
      "model_name": "LayoutModel",
      "state": {}
     },
     "a788b46d44c54695b90ba6c59d541d4d": {
      "model_module": "@jupyter-widgets/controls",
      "model_module_version": "1.5.0",
      "model_name": "ButtonStyleModel",
      "state": {}
     },
     "a79c3e3f551e46b68f3898dc48baa2ae": {
      "model_module": "@jupyter-widgets/controls",
      "model_module_version": "1.5.0",
      "model_name": "DropdownModel",
      "state": {
       "_options_labels": [
        "",
        "CoordinateTransformation/Data_TEM_pseudo3DEPSG_4326",
        "ISO/Iso_Iteration_7_model_2_00e-02",
        "ISO/Iso_Iteration_7_model_2_50e-03",
        "ISO/Iso_Iteration_7_model_5_00e-03",
        "ISO/Iso_Iteration_7_model_1_00e-02",
        "ISO/Iso_Iteration_7_model_1_50e-02",
        "Ore/39_Ore_Callinan",
        "Ore/38_Ore_Dan_Owens",
        "Ore/40_Ore_FlinFlon",
        "Workspace/Inversion_VTEM_Model",
        "Workspace/CDI_VTEM_model",
        "Workspace/Data_FEM_pseudo3D",
        "Workspace/geochem",
        "Workspace/Inversion_DIGHEM_Model",
        "Workspace/Topography",
        "Workspace/Data_TEM_pseudo3D",
        "Workspace/Data_ZTEM",
        "Workspace/Mesh"
       ],
       "description": "Object",
       "index": 12,
       "layout": "IPY_MODEL_81a09cce047e4f67beea3caf4642a245",
       "style": "IPY_MODEL_737b265f08ce4aabb065eacb2ac36baf"
      }
     },
     "a7b8445022d34c7eabe94794ca024403": {
      "model_module": "@jupyter-widgets/controls",
      "model_module_version": "1.5.0",
      "model_name": "DescriptionStyleModel",
      "state": {
       "description_width": "initial"
      }
     },
     "a7c1c06dc4304b639f9bf9571287d7f8": {
      "model_module": "@jupyter-widgets/base",
      "model_module_version": "1.2.0",
      "model_name": "LayoutModel",
      "state": {}
     },
     "a7c45e6450674e91b2920ebbecc422fe": {
      "model_module": "@jupyter-widgets/controls",
      "model_module_version": "1.5.0",
      "model_name": "HBoxModel",
      "state": {
       "children": [
        "IPY_MODEL_f15c1afaa0994a65a1efdefa5a01501f",
        "IPY_MODEL_bbe8e230ff9f4fb2a8b76c8e1a55277b",
        "IPY_MODEL_aaff037f2730457a8d8a5d6b1249a295"
       ],
       "layout": "IPY_MODEL_89952387f4b74dd1bbf53f632bcf06d8"
      }
     },
     "a7f1d19b5f5d483b9220878aaf64ed77": {
      "model_module": "@jupyter-widgets/controls",
      "model_module_version": "1.5.0",
      "model_name": "VBoxModel",
      "state": {
       "children": [
        "IPY_MODEL_16394789afdb4c6cb31d02d39e7ee417",
        "IPY_MODEL_ef4d6a1561b94ff2afad2dcedc02b8e5"
       ],
       "layout": "IPY_MODEL_54636082256a4557be33a94cbfde772c"
      }
     },
     "a7f4f523939f4143803593c32e6022ae": {
      "model_module": "@jupyter-widgets/controls",
      "model_module_version": "1.5.0",
      "model_name": "DescriptionStyleModel",
      "state": {
       "description_width": "initial"
      }
     },
     "a81a0f97608549eda465bc121e8fe537": {
      "model_module": "@jupyter-widgets/controls",
      "model_module_version": "1.5.0",
      "model_name": "ButtonStyleModel",
      "state": {}
     },
     "a82f61b106e74b91a0e51946255028dd": {
      "model_module": "@jupyter-widgets/controls",
      "model_module_version": "1.5.0",
      "model_name": "VBoxModel",
      "state": {
       "children": [
        "IPY_MODEL_8b6035aed9a442de8292f76d7fd8abe4",
        "IPY_MODEL_d1c534cae6bd407e838ea26fc4e459bc",
        "IPY_MODEL_59caf06f4d4046fe8cec4230b8e615b2",
        "IPY_MODEL_34c9fbd7462548ec8ef7d330da89951b",
        "IPY_MODEL_64a767b13a9f40a1b236e3276364b7fc"
       ],
       "layout": "IPY_MODEL_af02e1734db24bb8b59fca4f193dbd64"
      }
     },
     "a837c6a7323645da83c733b375b57a52": {
      "model_module": "@jupyter-widgets/base",
      "model_module_version": "1.2.0",
      "model_name": "LayoutModel",
      "state": {
       "border": "solid"
      }
     },
     "a840cf04a496439f86481fbe5ad242ed": {
      "model_module": "@jupyter-widgets/controls",
      "model_module_version": "1.5.0",
      "model_name": "HBoxModel",
      "state": {
       "children": [
        "IPY_MODEL_a0973cff8ad849fbbf1425fbb72da4e8",
        "IPY_MODEL_4e46942b2e654ec59039c6e8aac9e13c",
        "IPY_MODEL_f1757497e4df4a7ba0f25e3b049e2e41"
       ],
       "layout": "IPY_MODEL_ecffa3a2f5be46c9a0ffafbc673c04f9"
      }
     },
     "a846a5228c7c44878e65f6bef57a2c9b": {
      "model_module": "@jupyter-widgets/controls",
      "model_module_version": "1.5.0",
      "model_name": "DescriptionStyleModel",
      "state": {
       "description_width": "initial"
      }
     },
     "a8a7582778da4303a447635eed2d69e4": {
      "model_module": "@jupyter-widgets/controls",
      "model_module_version": "1.5.0",
      "model_name": "DropdownModel",
      "state": {
       "_options_labels": [
        "",
        "Data_TEM_pseudo3DEPSG_4326",
        "Iso_Iteration_7_model_2_50e-03",
        "Iso_Iteration_7_model_1_00e-02",
        "Iso_Iteration_7_model_1_50e-02",
        "Iso_Iteration_7_model_2_00e-02",
        "Iso_Iteration_7_model_2_00e-02",
        "Iso_Iteration_7_model_5_00e-03",
        "Iso_Iteration_7_model_2_50e-03",
        "Iso_Iteration_7_model_1_50e-02",
        "Iso_Iteration_7_model_1_00e-02",
        "Iso_Iteration_7_model_5_00e-03",
        "fault_splay1",
        "fault_Cliff_Lake",
        "fault_Other_FlinFlon",
        "fault_Club_Lake_splay",
        "fault_Catherine_splay2",
        "fault_Birch_View",
        "fault_Dion_Lake",
        "fault_FlinFlon_splay",
        "fault_West_Mandy_Road",
        "fault_Channing",
        "fault_Ross_Lake",
        "fault_Louis_Hidden",
        "fault_Lake_View_thrust",
        "contact_Schist_Lake",
        "fault_Burley_Lake",
        "fault_Dion_Lake_splay",
        "fault_Green_Lake",
        "fault_FlinFlon",
        "fault_Catherine_splay1",
        "fault_East_Mandy_Road",
        "fault_Other_FlinFlon_South",
        "fault_Catherine_splay4",
        "contact_Stitt_Island",
        "fault_Club_Lake",
        "fault_Tailing_Pond",
        "35_Hidden_Reservoir_Hr5",
        "29_Hidden_Reservoir_Hr1a",
        "60_BlueLagoon_Fb2",
        "20_FlinFlon_Undivided_Int_Dykes_D2f",
        "04_Boundary_Intrusive_S4h",
        "53_Millrock_Rhyolite_Fm4b",
        "19_FlinFlon_Undivided_Int_Dykes_D2b",
        "18_FlinFlon_Undivided_Int_Dykes_777_D2b",
        "06_Phantom_Lake_Intrusive_S3a",
        "21_FlinFlon_Undivided_Int_Dykes_D3a",
        "43_Millrock_CHLSH_South",
        "56_Millrock_Basalt_Fm1ba",
        "17_FlinFlon_Undivided_Int_Dykes_D2",
        "32_Hidden_Reservoir_Hr1b_SW",
        "11_Missi_M3_NE",
        "13_Missi_M1",
        "07_Annabel_Granitoid_S1",
        "45_Millrock_Gabbro_South",
        "01_Late_Intrusive_S5b",
        "31_Hidden_Reservoir_Hr1c_SW",
        "52_Millrock_Rhyolite_Fm4_West_check",
        "55_Millrock_Basalt_Fm1bf",
        "34_Hidden_Reservoir_Hr2b",
        "03_Boundary_Intrusive_S4b",
        "42_Millrock_CHLSH_North",
        "26_Louis_L3",
        "23_FlinFlon_Undivided_Int_Felsic_D4g",
        "30_Hidden_Reservoir_Hr1b",
        "59_BlueLagoon_Fb3",
        "49_Millrock_MVR_Fm5d",
        "44_Millrock_Gabbro_North",
        "27_Hidden_Carlisle_Hc4",
        "22_FlinFlon_Undivided_Int_Felsic_D4e",
        "02_Boundary_Intrusive_S4a",
        "61_BlueLagoon_Fb1_NW",
        "05_Boundary_Intrusive_S4g",
        "39_Ore_Callinan",
        "38_Ore_Dan_Owens",
        "40_Ore_FlinFlon",
        "Inversion_VTEM_Model",
        "CDI_VTEM_model",
        "Data_FEM_pseudo3D",
        "geochem",
        "Inversion_DIGHEM_Model",
        "Topography",
        "Data_TEM_pseudo3D",
        "Data_ZTEM",
        "Mesh"
       ],
       "description": "Object",
       "index": 78,
       "layout": "IPY_MODEL_48a6f925dbc64f4fafb7849ff21c8912",
       "style": "IPY_MODEL_80613020f4494329aa33189667250cfd"
      }
     },
     "a8c3a0121a924206aca478a8939cd81a": {
      "model_module": "@jupyter-widgets/controls",
      "model_module_version": "1.5.0",
      "model_name": "DescriptionStyleModel",
      "state": {
       "description_width": ""
      }
     },
     "a91c8374ffd3412ba07e5e8453568b65": {
      "model_module": "@jupyter-widgets/controls",
      "model_module_version": "1.5.0",
      "model_name": "SelectModel",
      "state": {
       "_options_labels": [
        "..",
        "SimPEG_PFInversion",
        "Temp",
        "dask-worker-space",
        "Crossplot.html",
        "FlinFlon.geoh5",
        "Gravity_Magnetics_drape60m_Airborne_Gxx.tif",
        "Gravity_Magnetics_drape60m_Airborne_Gxx_Colorbar.png",
        "Gravity_Magnetics_drape60m_Airborne_Gxx_RGB.txt",
        "Inversion_.json",
        "Inversion_2.json",
        "Inversion_L0L2.json",
        "Inversion_L1L2.json",
        "Inversion_MVI_susRef.json",
        "Inversion_MagSusc.json",
        "Inversion_MagSusc_noref.json",
        "Inversion_TMI.json",
        "Inversion_test.json",
        "MtDore.geoh5",
        "MtDore_TMI.geoh5",
        "Octree_Mesh.ui.geoh5",
        "Octree_Mesh.ui.json",
        "Octree_Mesh_2.ui.json",
        "Octree_Mesh_33.ui.json",
        "Octree_Mesh_44.ui.json",
        "Octree_Mesh_55.ui.json",
        "Octree_Mesh_done.ui.json",
        "Octree_Mesh_done2.ui.json",
        "Octree_Mesh_geochem.ui.json",
        "Octree_Mesh_max_dist.ui.json",
        "Octree_Mesh_max_dist_10m.ui.json",
        "Octree_Mesh_ore.ui.json",
        "Octree_Mesh_padded.ui.json",
        "Octree_Mesh_surf.ui.json",
        "Octree_Mesh_v2.ui.json",
        "Octree_Mesh_v3.ui.geoh5",
        "Octree_Mesh_v3.ui.json",
        "Octree_Mesh_v4.ui.geoh5",
        "Octree_Mesh_v4.ui.json",
        "Octree_Mesh_v5.ui.json",
        "Octree_Mesh_v6.ui.geoh5",
        "Octree_Mesh_v6.ui.json",
        "Octree_Mesh_v7.ui.json",
        "default_mvi.ui.geoh5",
        "default_mvi.ui.json",
        "demo.ipynb",
        "edge_tester.geoh5",
        "input.ui.json",
        "live_update_demo.ipynb",
        "live_update_demo.ipynb.zip",
        "options_tree.json",
        "project.geoh5",
        "testPoints.geoh5",
        "tester.ui.geoh5",
        "tester.ui.json"
       ],
       "index": 5,
       "layout": "IPY_MODEL_3d7b33cb870c46dcbcefa6e9b9d920cb",
       "rows": 8,
       "style": "IPY_MODEL_66fd34e71d674211823094233c27124e"
      }
     },
     "a936cf14abac403882746c1ace50b07d": {
      "model_module": "@jupyter-widgets/controls",
      "model_module_version": "1.5.0",
      "model_name": "FloatTextModel",
      "state": {
       "description": "Easting",
       "layout": "IPY_MODEL_393394ad9cf040149f7eee6ff9d0b948",
       "step": null,
       "style": "IPY_MODEL_20d71384d8644ab294bbbfc4742fc17f",
       "value": 25
      }
     },
     "a94bedb53917424dbb6d96d838912ac7": {
      "model_module": "@jupyter-widgets/base",
      "model_module_version": "1.2.0",
      "model_name": "LayoutModel",
      "state": {
       "grid_area": "filename",
       "width": "auto"
      }
     },
     "a94e073eb87b440c99a5385d408d8adb": {
      "model_module": "@jupyter-widgets/controls",
      "model_module_version": "1.5.0",
      "model_name": "DescriptionStyleModel",
      "state": {
       "description_width": "initial"
      }
     },
     "a95ad136f55647358656afe32e5a7917": {
      "model_module": "@jupyter-widgets/controls",
      "model_module_version": "1.5.0",
      "model_name": "DescriptionStyleModel",
      "state": {
       "description_width": "initial"
      }
     },
     "a95c0d9d2f0d4efc90cbaaa06dd0dca0": {
      "model_module": "@jupyter-widgets/controls",
      "model_module_version": "1.5.0",
      "model_name": "TextModel",
      "state": {
       "disabled": true,
       "layout": "IPY_MODEL_2f4578132eb740baa88a55b3ba9d1646",
       "placeholder": "output filename",
       "style": "IPY_MODEL_6000546c6507404f814c07e90772ca6f"
      }
     },
     "a964965a1511419db6f2ae837c7b93f6": {
      "model_module": "@jupyter-widgets/controls",
      "model_module_version": "1.5.0",
      "model_name": "DescriptionStyleModel",
      "state": {
       "description_width": "initial"
      }
     },
     "a96bf06bc35b4b1b8141f4f4d2d0bb0e": {
      "model_module": "@jupyter-widgets/controls",
      "model_module_version": "1.5.0",
      "model_name": "DescriptionStyleModel",
      "state": {
       "description_width": ""
      }
     },
     "a97247263e964a0e814836a370b14df8": {
      "model_module": "@jupyter-widgets/controls",
      "model_module_version": "1.5.0",
      "model_name": "DescriptionStyleModel",
      "state": {
       "description_width": "initial"
      }
     },
     "a977440af44f48da88f93f6bc696097c": {
      "model_module": "@jupyter-widgets/base",
      "model_module_version": "1.2.0",
      "model_name": "LayoutModel",
      "state": {
       "min_width": "6em",
       "width": "6em"
      }
     },
     "a9b30b6ed16846148e0defcbb72d1298": {
      "model_module": "@jupyter-widgets/controls",
      "model_module_version": "1.5.0",
      "model_name": "DropdownModel",
      "state": {
       "_options_labels": [
        "C:\\Users\\dominiquef\\Documents\\GIT\\mira\\geoapps\\assets\\Temp",
        "C:\\Users\\dominiquef\\Documents\\GIT\\mira\\geoapps\\assets",
        "C:\\Users\\dominiquef\\Documents\\GIT\\mira\\geoapps",
        "C:\\Users\\dominiquef\\Documents\\GIT\\mira",
        "C:\\Users\\dominiquef\\Documents\\GIT",
        "C:\\Users\\dominiquef\\Documents",
        "C:\\Users\\dominiquef",
        "C:\\Users",
        "C:\\",
        "G:\\",
        "\\\\EgnyteDrive\\mirageoscience\\",
        "D:\\"
       ],
       "index": 0,
       "layout": "IPY_MODEL_7c996a6c292b43ce87f3390067949149",
       "style": "IPY_MODEL_cc9797a82ba247c992a447e0de2051d3"
      }
     },
     "a9cdada425a24c8da22850a6767eba3b": {
      "model_module": "@jupyter-widgets/controls",
      "model_module_version": "1.5.0",
      "model_name": "DescriptionStyleModel",
      "state": {
       "description_width": ""
      }
     },
     "a9d1adfea4ef45fcbd0dc17cd0818e27": {
      "model_module": "@jupyter-widgets/controls",
      "model_module_version": "1.5.0",
      "model_name": "DropdownModel",
      "state": {
       "_options_labels": [
        "",
        "CoordinateTransformation/Data_TEM_pseudo3DEPSG_4326",
        "ISO/Iso_Iteration_7_model_5_00e-03",
        "ISO/Iso_Iteration_7_model_1_00e-02",
        "ISO/Iso_Iteration_7_model_1_50e-02",
        "ISO/Iso_Iteration_7_model_2_50e-03",
        "ISO/Iso_Iteration_7_model_2_00e-02",
        "Ore/39_Ore_Callinan",
        "Ore/38_Ore_Dan_Owens",
        "Ore/40_Ore_FlinFlon",
        "Workspace/Inversion_VTEM_Model",
        "Workspace/CDI_VTEM_model",
        "Workspace/Data_FEM_pseudo3D",
        "Workspace/geochem",
        "Workspace/Inversion_DIGHEM_Model",
        "Workspace/Topography",
        "Workspace/Data_TEM_pseudo3D",
        "Workspace/Data_ZTEM",
        "Workspace/Mesh"
       ],
       "description": "Object",
       "index": 15,
       "layout": "IPY_MODEL_0a7fdea6f0e24089b4ae813ea368f7f1",
       "style": "IPY_MODEL_40aa2e1723d744bfb24ad9ec476a4ce8"
      }
     },
     "a9d44dc95ebc417eb29ba4646593422f": {
      "model_module": "@jupyter-widgets/controls",
      "model_module_version": "1.5.0",
      "model_name": "DescriptionStyleModel",
      "state": {
       "description_width": ""
      }
     },
     "a9d7ddcbc25d43f9a7ed33bf38e64f32": {
      "model_module": "@jupyter-widgets/controls",
      "model_module_version": "1.5.0",
      "model_name": "DescriptionStyleModel",
      "state": {
       "description_width": ""
      }
     },
     "a9dd0c9d9cd24d0c8b69a0b3d18d20c6": {
      "model_module": "@jupyter-widgets/controls",
      "model_module_version": "1.5.0",
      "model_name": "DescriptionStyleModel",
      "state": {
       "description_width": "initial"
      }
     },
     "aa1ce08d2d5342f7bdcb986fa966bab7": {
      "model_module": "@jupyter-widgets/base",
      "model_module_version": "1.2.0",
      "model_name": "LayoutModel",
      "state": {
       "width": "500px"
      }
     },
     "aa1f56ead2264a4d81a9f3661258dc81": {
      "model_module": "@jupyter-widgets/controls",
      "model_module_version": "1.5.0",
      "model_name": "DropdownModel",
      "state": {
       "_options_labels": [
        "surface",
        "radial"
       ],
       "description": "Type",
       "index": 1,
       "layout": "IPY_MODEL_ef334cb5ba3b435fb999f2980d4796f7",
       "style": "IPY_MODEL_41e25d723e8d4125a2d5770c56dff6da"
      }
     },
     "aa2f37c788a241e096634de8856956ca": {
      "model_module": "@jupyter-widgets/controls",
      "model_module_version": "1.5.0",
      "model_name": "FloatTextModel",
      "state": {
       "description": "Vertical (m)",
       "layout": "IPY_MODEL_ff15235d0973478d9cff4583b23f0a31",
       "step": null,
       "style": "IPY_MODEL_0ec22180fade42c0b87250783e4203ee",
       "value": 1000
      }
     },
     "aa3c109ba3d04bceae4601a320a4342e": {
      "model_module": "@jupyter-widgets/controls",
      "model_module_version": "1.5.0",
      "model_name": "DescriptionStyleModel",
      "state": {
       "description_width": ""
      }
     },
     "aa52a3513943455ea18eb93626bb8e59": {
      "model_module": "@jupyter-widgets/controls",
      "model_module_version": "1.5.0",
      "model_name": "ButtonStyleModel",
      "state": {}
     },
     "aa8baa638f8d4c27a6d9fecdf4bf5f4d": {
      "model_module": "@jupyter-widgets/controls",
      "model_module_version": "1.5.0",
      "model_name": "LabelModel",
      "state": {
       "layout": "IPY_MODEL_b0330499d5bc479c9d55e6784cbd69c8",
       "style": "IPY_MODEL_2f4d53c8e6e843eb82737e668cdb6a86",
       "value": "Core cell size"
      }
     },
     "aa8ebcab26004851b6a342d5a2176db2": {
      "model_module": "@jupyter-widgets/controls",
      "model_module_version": "1.5.0",
      "model_name": "ButtonStyleModel",
      "state": {}
     },
     "aab2034d48894a40a5ddf524ea46d716": {
      "model_module": "@jupyter-widgets/controls",
      "model_module_version": "1.5.0",
      "model_name": "DescriptionStyleModel",
      "state": {
       "description_width": ""
      }
     },
     "aac58b27fc0b4f07a1dbd79f0e80da42": {
      "model_module": "@jupyter-widgets/controls",
      "model_module_version": "1.5.0",
      "model_name": "LabelModel",
      "state": {
       "layout": "IPY_MODEL_67dbe864e89c45d7825eff7572cae6ed",
       "style": "IPY_MODEL_bd5a5483031640af8eef4c77afa28b45",
       "value": "Workspace"
      }
     },
     "aad8ec468176425f95b09e1128ab7389": {
      "model_module": "@jupyter-widgets/controls",
      "model_module_version": "1.5.0",
      "model_name": "ButtonStyleModel",
      "state": {}
     },
     "aae49a1c3dd4482d8506764790e6fcd4": {
      "model_module": "@jupyter-widgets/controls",
      "model_module_version": "1.5.0",
      "model_name": "BoxModel",
      "state": {
       "children": [
        "IPY_MODEL_948acfa6303343fcbf49bc218aa4f6db"
       ],
       "layout": "IPY_MODEL_4650095da0d84132b051af3710d31866"
      }
     },
     "aaf7f0b6e8b94a45b0975357402590e9": {
      "model_module": "@jupyter-widgets/controls",
      "model_module_version": "1.5.0",
      "model_name": "SelectModel",
      "state": {
       "_options_labels": [
        "📁 ..",
        "📁 SimPEG_PFInversion"
       ],
       "index": null,
       "layout": "IPY_MODEL_23d0d0d981b74daf87b2af2c705b44ef",
       "rows": 8,
       "style": "IPY_MODEL_ce63686601e7437fb4c63a07264a32a1"
      }
     },
     "aaff037f2730457a8d8a5d6b1249a295": {
      "model_module": "@jupyter-widgets/controls",
      "model_module_version": "1.5.0",
      "model_name": "BoxModel",
      "state": {
       "children": [
        "IPY_MODEL_bab209534ae74938ad576f894011d9e7"
       ],
       "layout": "IPY_MODEL_c54fa70b3b7943b19ff81cf109eee15d"
      }
     },
     "aaffa29191dc45cfb9d7202ecba057a0": {
      "model_module": "@jupyter-widgets/controls",
      "model_module_version": "1.5.0",
      "model_name": "DescriptionStyleModel",
      "state": {
       "description_width": "initial"
      }
     },
     "ab07b273458846eb93dac5e283d5b81b": {
      "model_module": "@jupyter-widgets/controls",
      "model_module_version": "1.5.0",
      "model_name": "FloatTextModel",
      "state": {
       "description": "Minimum depth (m)",
       "layout": "IPY_MODEL_169089ed128e48a0a010864143b625c0",
       "step": null,
       "style": "IPY_MODEL_43d2f3c666aa4a89b872247fe2caf368",
       "value": 500
      }
     },
     "ab0b934db0f347daa0dc862ba526cf74": {
      "model_module": "@jupyter-widgets/controls",
      "model_module_version": "1.5.0",
      "model_name": "DescriptionStyleModel",
      "state": {
       "description_width": ""
      }
     },
     "ab19bfd11ce34b62acf44080423bd8cb": {
      "model_module": "@jupyter-widgets/controls",
      "model_module_version": "1.5.0",
      "model_name": "SelectModel",
      "state": {
       "_options_labels": [
        "📁 ..",
        "📁 Temp",
        "📁 uijson",
        "FlinFlon.geoh5",
        "FlinFlon_dcip.geoh5",
        "FlinFlon_dcip_v4.geoh5",
        "FlinFlon_natural_sources.geoh5",
        "FlinFlon_natural_sources_v4.geoh5",
        "MtDore_TMI.geoh5"
       ],
       "index": 3,
       "layout": "IPY_MODEL_e04b398f5022477697b82fced2d522dd",
       "rows": 8,
       "style": "IPY_MODEL_ae378f9902fc47a5b82964e963bda592"
      }
     },
     "ab1df8199d0b4217bbbf5919672a9b7e": {
      "model_module": "@jupyter-widgets/base",
      "model_module_version": "1.2.0",
      "model_name": "LayoutModel",
      "state": {
       "display": "none",
       "grid_gap": "0px 0px",
       "grid_template_areas": "\n                    'pathlist pathlist'\n                    'dircontent dircontent'\n                    ",
       "grid_template_columns": "60% 40%",
       "grid_template_rows": "auto auto",
       "width": "auto"
      }
     },
     "ab23271a759e48fcbbf405541c03da71": {
      "model_module": "@jupyter-widgets/controls",
      "model_module_version": "1.5.0",
      "model_name": "ToggleButtonModel",
      "state": {
       "layout": "IPY_MODEL_6d4c9180ed034c928755aa0f0f11f95b",
       "style": "IPY_MODEL_f9279440f9a04256bf82f251d06c273e",
       "value": true
      }
     },
     "ab2830d88ad840cb9b55dff2e4c2e3a7": {
      "model_module": "@jupyter-widgets/base",
      "model_module_version": "1.2.0",
      "model_name": "LayoutModel",
      "state": {
       "overflow": "auto"
      }
     },
     "ab28c5f0178b4effaa319b83e9b3ac41": {
      "model_module": "@jupyter-widgets/base",
      "model_module_version": "1.2.0",
      "model_name": "LayoutModel",
      "state": {}
     },
     "ab46ba4b4e6f4b8e9553da4d805f8929": {
      "model_module": "@jupyter-widgets/controls",
      "model_module_version": "1.5.0",
      "model_name": "ButtonModel",
      "state": {
       "description": "Cancel",
       "layout": "IPY_MODEL_47b4e58d99bf45f9a59d1ed0db03baca",
       "style": "IPY_MODEL_7166d23a17a6403dacd3dd022be6eb49"
      }
     },
     "ab6c7de8226c49738492aea9a1928277": {
      "model_module": "@jupyter-widgets/base",
      "model_module_version": "1.2.0",
      "model_name": "LayoutModel",
      "state": {}
     },
     "ab7eae24e8804613a535284e875e6b5b": {
      "model_module": "@jupyter-widgets/controls",
      "model_module_version": "1.5.0",
      "model_name": "ButtonStyleModel",
      "state": {}
     },
     "abbaaae79c24449eacf28d4572a60ce5": {
      "model_module": "@jupyter-widgets/base",
      "model_module_version": "1.2.0",
      "model_name": "LayoutModel",
      "state": {}
     },
     "abcbd55ff7774292b6f63729a03c3618": {
      "model_module": "@jupyter-widgets/controls",
      "model_module_version": "1.5.0",
      "model_name": "DescriptionStyleModel",
      "state": {
       "description_width": "initial"
      }
     },
     "abdb007675fd4daca19ebbee577993d0": {
      "model_module": "@jupyter-widgets/controls",
      "model_module_version": "1.5.0",
      "model_name": "DescriptionStyleModel",
      "state": {
       "description_width": ""
      }
     },
     "abefdbf74c6f4e24aa4d9398284f49df": {
      "model_module": "@jupyter-widgets/base",
      "model_module_version": "1.2.0",
      "model_name": "LayoutModel",
      "state": {}
     },
     "abf898b1ceab4048bad7cc5575a51b44": {
      "model_module": "@jupyter-widgets/base",
      "model_module_version": "1.2.0",
      "model_name": "LayoutModel",
      "state": {}
     },
     "ac054d5b6f7b4cd2a76e0fd9a9ee3eb0": {
      "model_module": "@jupyter-widgets/controls",
      "model_module_version": "1.5.0",
      "model_name": "ButtonStyleModel",
      "state": {}
     },
     "ac067530d7c547dc80d765a806151144": {
      "model_module": "@jupyter-widgets/controls",
      "model_module_version": "1.5.0",
      "model_name": "DescriptionStyleModel",
      "state": {
       "description_width": "initial"
      }
     },
     "ac072bfa24904b449cff82470af22f60": {
      "model_module": "@jupyter-widgets/controls",
      "model_module_version": "1.5.0",
      "model_name": "DescriptionStyleModel",
      "state": {
       "description_width": "initial"
      }
     },
     "ac33c668b88a456f94e363ee26bd8368": {
      "model_module": "@jupyter-widgets/controls",
      "model_module_version": "1.5.0",
      "model_name": "BoxModel",
      "state": {
       "children": [
        "IPY_MODEL_16f3839853904ef9b7f40cb1a192746d"
       ],
       "layout": "IPY_MODEL_290058e1c1b64571a45a7e5be229126d"
      }
     },
     "ac3dba4124c4430f9a2c7d0fa9ca1006": {
      "model_module": "@jupyter-widgets/controls",
      "model_module_version": "1.5.0",
      "model_name": "DescriptionStyleModel",
      "state": {
       "description_width": "initial"
      }
     },
     "ac5d4e986f5048d9922fc794011fc0e4": {
      "model_module": "@jupyter-widgets/base",
      "model_module_version": "1.2.0",
      "model_name": "LayoutModel",
      "state": {}
     },
     "ac7b4c3e95144e1995c5544db2401ae7": {
      "model_module": "@jupyter-widgets/base",
      "model_module_version": "1.2.0",
      "model_name": "LayoutModel",
      "state": {}
     },
     "ac8a82635c5d43ef80bc97c56f75a4d8": {
      "model_module": "@jupyter-widgets/controls",
      "model_module_version": "1.5.0",
      "model_name": "VBoxModel",
      "state": {
       "children": [
        "IPY_MODEL_b59f1d91cb6043b7baf46396cf174307",
        "IPY_MODEL_ff62b4ac976b48a1934189945c3bf16d",
        "IPY_MODEL_5394497f77cd46d9882c9873466c1989"
       ],
       "layout": "IPY_MODEL_a2d6535d6893439cabd0ad8fb6d9462b"
      }
     },
     "ac8c371f32a248e6896af5d10c0784c7": {
      "model_module": "@jupyter-widgets/controls",
      "model_module_version": "1.5.0",
      "model_name": "LabelModel",
      "state": {
       "layout": "IPY_MODEL_31a26714ec894ccbabd33af96b3e0c66",
       "style": "IPY_MODEL_0274e930fc68432bbe7c3a99c0456e23",
       "value": "Monitoring folder"
      }
     },
     "aca7f00752ba407e9f9775c90d8be179": {
      "model_module": "@jupyter-widgets/controls",
      "model_module_version": "1.5.0",
      "model_name": "LabelModel",
      "state": {
       "layout": "IPY_MODEL_8b25fcffa5ed4b6791e07e8038bc827b",
       "style": "IPY_MODEL_41b7f9a0048449bc9abb313b1e563833",
       "value": "Refinement B"
      }
     },
     "acc4b556a029410783ce430b97762af5": {
      "model_module": "@jupyter-widgets/controls",
      "model_module_version": "1.5.0",
      "model_name": "FloatTextModel",
      "state": {
       "description": "Easting",
       "layout": "IPY_MODEL_8ea3dcdbf443466a99c58f11fc015f75",
       "step": null,
       "style": "IPY_MODEL_46b2bd44e9724a9a9545cb2838a9ec52",
       "value": 25
      }
     },
     "ace4db370d604ea2a71b45a3c6fd7773": {
      "model_module": "@jupyter-widgets/controls",
      "model_module_version": "1.5.0",
      "model_name": "DescriptionStyleModel",
      "state": {
       "description_width": "initial"
      }
     },
     "ad0781c220a5442c905b2eefe629b019": {
      "model_module": "@jupyter-widgets/controls",
      "model_module_version": "1.5.0",
      "model_name": "DescriptionStyleModel",
      "state": {
       "description_width": ""
      }
     },
     "ad10cba754e440d09dd43b0ef995dbea": {
      "model_module": "@jupyter-widgets/base",
      "model_module_version": "1.2.0",
      "model_name": "LayoutModel",
      "state": {}
     },
     "ad2087d476074ac380306a4be5e7717c": {
      "model_module": "@jupyter-widgets/controls",
      "model_module_version": "1.5.0",
      "model_name": "DescriptionStyleModel",
      "state": {
       "description_width": ""
      }
     },
     "ad539220e9704f34b16eeb62863b6e67": {
      "model_module": "@jupyter-widgets/controls",
      "model_module_version": "1.5.0",
      "model_name": "DescriptionStyleModel",
      "state": {
       "description_width": "initial"
      }
     },
     "ad56601b496c40ea8042f0f4016fefa1": {
      "model_module": "@jupyter-widgets/controls",
      "model_module_version": "1.5.0",
      "model_name": "DescriptionStyleModel",
      "state": {
       "description_width": "initial"
      }
     },
     "ad5aa27bb1fc4d84a506889b5e4a3b90": {
      "model_module": "@jupyter-widgets/controls",
      "model_module_version": "1.5.0",
      "model_name": "DescriptionStyleModel",
      "state": {
       "description_width": "initial"
      }
     },
     "ad617305d8524dd1a2679810fe7c3f4a": {
      "model_module": "@jupyter-widgets/controls",
      "model_module_version": "1.5.0",
      "model_name": "DescriptionStyleModel",
      "state": {
       "description_width": "initial"
      }
     },
     "ad6caac2b3bf45a7b3f37c1d2d3031ee": {
      "model_module": "@jupyter-widgets/base",
      "model_module_version": "1.2.0",
      "model_name": "LayoutModel",
      "state": {}
     },
     "ad7b0363ae0745f680ce0b7f463e2d12": {
      "model_module": "@jupyter-widgets/controls",
      "model_module_version": "1.5.0",
      "model_name": "DescriptionStyleModel",
      "state": {
       "description_width": "initial"
      }
     },
     "adb9c040195942ab92e0900be29923ff": {
      "model_module": "@jupyter-widgets/controls",
      "model_module_version": "1.5.0",
      "model_name": "DescriptionStyleModel",
      "state": {
       "description_width": "initial"
      }
     },
     "adcf1bd5f16341ea8b8dde02930ff0b6": {
      "model_module": "@jupyter-widgets/base",
      "model_module_version": "1.2.0",
      "model_name": "LayoutModel",
      "state": {}
     },
     "add4218eb4b7459dbf1c7d2ab0de525f": {
      "model_module": "@jupyter-widgets/controls",
      "model_module_version": "1.5.0",
      "model_name": "ButtonStyleModel",
      "state": {}
     },
     "adf7fb4915034195aee290c03414472b": {
      "model_module": "@jupyter-widgets/controls",
      "model_module_version": "1.5.0",
      "model_name": "ButtonStyleModel",
      "state": {}
     },
     "adf98aa1142e4657bdf996cf2e2daf73": {
      "model_module": "@jupyter-widgets/controls",
      "model_module_version": "1.5.0",
      "model_name": "HTMLModel",
      "state": {
       "layout": "IPY_MODEL_ca4a4864114542dc90ab3b88e25157ba",
       "placeholder": "",
       "style": "IPY_MODEL_47d32652b923447f926dd91da66ca292",
       "value": "<span style=\"color:green;\">C:\\Users\\dominiquef\\Documents\\GIT\\mira\\geoapps\\assets\\Temp\\</span>"
      }
     },
     "ae0244d7142346d9a0b1d0cf58721c79": {
      "model_module": "@jupyter-widgets/controls",
      "model_module_version": "1.5.0",
      "model_name": "DescriptionStyleModel",
      "state": {
       "description_width": "initial"
      }
     },
     "ae0adf3e443d4d6399394a66c9608238": {
      "model_module": "@jupyter-widgets/controls",
      "model_module_version": "1.5.0",
      "model_name": "HBoxModel",
      "state": {
       "children": [
        "IPY_MODEL_90ba0b9384df418f9ba5368845b0ef99",
        "IPY_MODEL_bf4ba7e4e8a342219e4fd26a6650c173",
        "IPY_MODEL_6a713c29cf644c9bac49497e571f73ca"
       ],
       "layout": "IPY_MODEL_030082103d5242d2aecf40e366c45614"
      }
     },
     "ae23d4616d4140b9899e79673464c2c7": {
      "model_module": "@jupyter-widgets/controls",
      "model_module_version": "1.5.0",
      "model_name": "DescriptionStyleModel",
      "state": {
       "description_width": "initial"
      }
     },
     "ae378f9902fc47a5b82964e963bda592": {
      "model_module": "@jupyter-widgets/controls",
      "model_module_version": "1.5.0",
      "model_name": "DescriptionStyleModel",
      "state": {
       "description_width": ""
      }
     },
     "ae560d42bcaf45c89a63551372e4decb": {
      "model_module": "@jupyter-widgets/controls",
      "model_module_version": "1.5.0",
      "model_name": "VBoxModel",
      "state": {
       "children": [
        "IPY_MODEL_349982d28391420d8ea1e1b9cbee5ad5",
        "IPY_MODEL_b323a2cfb8db4c62a3c9001b4fd71bf2"
       ],
       "layout": "IPY_MODEL_f07cb1c3d00f4a808c57e6bd2038c52f"
      }
     },
     "ae5ce80107f04f96909cc997f0e81f94": {
      "model_module": "@jupyter-widgets/base",
      "model_module_version": "1.2.0",
      "model_name": "LayoutModel",
      "state": {}
     },
     "ae6ad00e793e4c1aab34aea187df89f7": {
      "model_module": "@jupyter-widgets/base",
      "model_module_version": "1.2.0",
      "model_name": "LayoutModel",
      "state": {
       "display": "none"
      }
     },
     "ae7a37a341c341948922a0ab2f21cdcd": {
      "model_module": "@jupyter-widgets/base",
      "model_module_version": "1.2.0",
      "model_name": "LayoutModel",
      "state": {}
     },
     "ae9591e5484240f8baa45638a65969cc": {
      "model_module": "@jupyter-widgets/controls",
      "model_module_version": "1.5.0",
      "model_name": "CheckboxModel",
      "state": {
       "description": "Geoscience ANALYST Pro - Live link",
       "disabled": false,
       "indent": false,
       "layout": "IPY_MODEL_81e244bf0c4a4508bf6f33bbdf64c3fa",
       "style": "IPY_MODEL_1f8b3c5cf3f1492f9349363ac2e84fca",
       "value": false
      }
     },
     "ae9d5d4cc7684548bb57e73f34695e54": {
      "model_module": "@jupyter-widgets/controls",
      "model_module_version": "1.5.0",
      "model_name": "BoxModel",
      "state": {
       "children": [
        "IPY_MODEL_7ccc6285061b4e92a1e710474607c4ac"
       ],
       "layout": "IPY_MODEL_c48a1c9db04946b4bf381fddaae24451"
      }
     },
     "aeaabec357814ef1ab40dd478fda1d67": {
      "model_module": "@jupyter-widgets/controls",
      "model_module_version": "1.5.0",
      "model_name": "DescriptionStyleModel",
      "state": {
       "description_width": ""
      }
     },
     "aeb4e7c950634e5198771ffcda5189b9": {
      "model_module": "@jupyter-widgets/base",
      "model_module_version": "1.2.0",
      "model_name": "LayoutModel",
      "state": {
       "grid_area": "pathlist",
       "width": "auto"
      }
     },
     "aebe95d16edd46daa5bc11f2e5cc2fbf": {
      "model_module": "@jupyter-widgets/controls",
      "model_module_version": "1.5.0",
      "model_name": "HTMLModel",
      "state": {
       "layout": "IPY_MODEL_2915e470ae9d4d0aae7b6e9fb171ad6c",
       "style": "IPY_MODEL_524712cabe1845a2a1189b26de4c5307"
      }
     },
     "aeee0ed2cf3c4c96855c5ada112e367c": {
      "model_module": "@jupyter-widgets/controls",
      "model_module_version": "1.5.0",
      "model_name": "DescriptionStyleModel",
      "state": {
       "description_width": "initial"
      }
     },
     "af02e1734db24bb8b59fca4f193dbd64": {
      "model_module": "@jupyter-widgets/base",
      "model_module_version": "1.2.0",
      "model_name": "LayoutModel",
      "state": {
       "border": "solid"
      }
     },
     "af06ed39840d4d2c9c28adcd18167b06": {
      "model_module": "@jupyter-widgets/controls",
      "model_module_version": "1.5.0",
      "model_name": "HBoxModel",
      "state": {
       "children": [
        "IPY_MODEL_82361c001ff943d9b51bf304c794c07c",
        "IPY_MODEL_cadb5b1ccb97466aaca012ce474a27f6",
        "IPY_MODEL_46298655bcd249909834fe8a76559890"
       ],
       "layout": "IPY_MODEL_33922d59eda74248b1f0188eed8548b0"
      }
     },
     "af1f53d37aaa43109c4fb9108816cd5e": {
      "model_module": "@jupyter-widgets/controls",
      "model_module_version": "1.5.0",
      "model_name": "DescriptionStyleModel",
      "state": {
       "description_width": ""
      }
     },
     "af20ef7d410940b9a636076ba2f9cf91": {
      "model_module": "@jupyter-widgets/controls",
      "model_module_version": "1.5.0",
      "model_name": "GridBoxModel",
      "state": {
       "children": [
        "IPY_MODEL_57454493dd584333b6e21a4e48f568ad",
        "IPY_MODEL_b6a5a13fb7d44b0c992b768669b92630",
        "IPY_MODEL_b71ed2012f884c85a5ffb5e6eae25ccf"
       ],
       "layout": "IPY_MODEL_fdb62edf2f1449248c2326b40cfca766"
      }
     },
     "af2f0209c13140e18806b2035bea6a76": {
      "model_module": "@jupyter-widgets/controls",
      "model_module_version": "1.5.0",
      "model_name": "DescriptionStyleModel",
      "state": {
       "description_width": ""
      }
     },
     "af3fb653eb6f4cb595c6bc1a63d0dee8": {
      "model_module": "@jupyter-widgets/base",
      "model_module_version": "1.2.0",
      "model_name": "LayoutModel",
      "state": {
       "grid_area": "dircontent",
       "width": "auto"
      }
     },
     "af4136ddbf7e44e197203793ec67dd47": {
      "model_module": "@jupyter-widgets/base",
      "model_module_version": "1.2.0",
      "model_name": "LayoutModel",
      "state": {}
     },
     "af423175a9134b09ad8b010df43bfdf9": {
      "model_module": "@jupyter-widgets/base",
      "model_module_version": "1.2.0",
      "model_name": "LayoutModel",
      "state": {}
     },
     "af7f205062b54d818ce6b48113384489": {
      "model_module": "@jupyter-widgets/base",
      "model_module_version": "1.2.0",
      "model_name": "LayoutModel",
      "state": {}
     },
     "af8688146f2c46dd83881c59106a9cf9": {
      "model_module": "@jupyter-widgets/controls",
      "model_module_version": "1.5.0",
      "model_name": "DescriptionStyleModel",
      "state": {
       "description_width": "initial"
      }
     },
     "afc7c081d9cf484f91c5839dc8d2cd33": {
      "model_module": "@jupyter-widgets/controls",
      "model_module_version": "1.5.0",
      "model_name": "LabelModel",
      "state": {
       "layout": "IPY_MODEL_a51f9d4d982041d7819d08c9d0e0fe62",
       "style": "IPY_MODEL_adb9c040195942ab92e0900be29923ff",
       "value": "Workspace"
      }
     },
     "afe63aaf66094ea6851dba91285d6b97": {
      "model_module": "@jupyter-widgets/base",
      "model_module_version": "1.2.0",
      "model_name": "LayoutModel",
      "state": {}
     },
     "b01a89c2dfe8496282c69df55d91942d": {
      "model_module": "@jupyter-widgets/controls",
      "model_module_version": "1.5.0",
      "model_name": "DescriptionStyleModel",
      "state": {
       "description_width": "initial"
      }
     },
     "b01eb4bed2c44acdb979c7adc8112c10": {
      "model_module": "@jupyter-widgets/controls",
      "model_module_version": "1.5.0",
      "model_name": "ButtonStyleModel",
      "state": {}
     },
     "b02ac78774f2460eaab9cf4e740d1a36": {
      "model_module": "@jupyter-widgets/controls",
      "model_module_version": "1.5.0",
      "model_name": "ButtonStyleModel",
      "state": {}
     },
     "b0330499d5bc479c9d55e6784cbd69c8": {
      "model_module": "@jupyter-widgets/base",
      "model_module_version": "1.2.0",
      "model_name": "LayoutModel",
      "state": {}
     },
     "b0398ac15e8d42e7b80b078e555985dd": {
      "model_module": "@jupyter-widgets/controls",
      "model_module_version": "1.5.0",
      "model_name": "DescriptionStyleModel",
      "state": {
       "description_width": "initial"
      }
     },
     "b03b7dbe3e3243c4a082985d0a7468f9": {
      "model_module": "@jupyter-widgets/controls",
      "model_module_version": "1.5.0",
      "model_name": "ButtonModel",
      "state": {
       "description": "Create copy:",
       "layout": "IPY_MODEL_1768c65a09e04732acd7c25afa85abd3",
       "style": "IPY_MODEL_d7926639241e4beca659692fe3d2991c"
      }
     },
     "b047ebedbaa747179950dc645154c4b9": {
      "model_module": "@jupyter-widgets/controls",
      "model_module_version": "1.5.0",
      "model_name": "DescriptionStyleModel",
      "state": {
       "description_width": ""
      }
     },
     "b04ce454c17e4873b851428cb73803a9": {
      "model_module": "@jupyter-widgets/base",
      "model_module_version": "1.2.0",
      "model_name": "LayoutModel",
      "state": {}
     },
     "b098d6eeeb514c8b88ad93e0ac6f8db0": {
      "model_module": "@jupyter-widgets/controls",
      "model_module_version": "1.5.0",
      "model_name": "FloatTextModel",
      "state": {
       "description": "Minimum depth (m)",
       "layout": "IPY_MODEL_af423175a9134b09ad8b010df43bfdf9",
       "step": null,
       "style": "IPY_MODEL_70ef41d4b55941c7bb6567810cd15ded",
       "value": 500
      }
     },
     "b099b7197e2643488c35793e5abb922f": {
      "model_module": "@jupyter-widgets/base",
      "model_module_version": "1.2.0",
      "model_name": "LayoutModel",
      "state": {}
     },
     "b09b2ba4dcfc4e7e95aabff9b211e3ba": {
      "model_module": "@jupyter-widgets/controls",
      "model_module_version": "1.5.0",
      "model_name": "DropdownModel",
      "state": {
       "_options_labels": [
        "surface",
        "radial"
       ],
       "description": "Type",
       "index": 0,
       "layout": "IPY_MODEL_0ab7557d0cb94b2580e6d8c22627acb6",
       "style": "IPY_MODEL_89dec57e2384497bb4b64f63ed08e0cf"
      }
     },
     "b0b1572beb1d4974b87ed0bb2fe1f410": {
      "model_module": "@jupyter-widgets/base",
      "model_module_version": "1.2.0",
      "model_name": "LayoutModel",
      "state": {
       "display": "none"
      }
     },
     "b10a476a3796479b802289a370529740": {
      "model_module": "@jupyter-widgets/controls",
      "model_module_version": "1.5.0",
      "model_name": "LabelModel",
      "state": {
       "layout": "IPY_MODEL_e20d162817ed4bc68dc0ab5534493eea",
       "style": "IPY_MODEL_6e88551537f1432b9d852e71e7cb0eb9",
       "value": "Refinement b "
      }
     },
     "b1271072f0174f34880647ee92f7930c": {
      "model_module": "@jupyter-widgets/base",
      "model_module_version": "1.2.0",
      "model_name": "LayoutModel",
      "state": {}
     },
     "b14bc4b9bf6143fc95d0df95a303d9e7": {
      "model_module": "@jupyter-widgets/controls",
      "model_module_version": "1.5.0",
      "model_name": "VBoxModel",
      "state": {
       "children": [
        "IPY_MODEL_1e3542519cb94b31bd1c3cbf0758f820"
       ],
       "layout": "IPY_MODEL_6f329f538462434dbdb4f497d5267ba5"
      }
     },
     "b14c1fce61f84f30a98b58141010e068": {
      "model_module": "@jupyter-widgets/controls",
      "model_module_version": "1.5.0",
      "model_name": "DescriptionStyleModel",
      "state": {
       "description_width": ""
      }
     },
     "b184459d136b40409cde62b610901945": {
      "model_module": "@jupyter-widgets/base",
      "model_module_version": "1.2.0",
      "model_name": "LayoutModel",
      "state": {}
     },
     "b184dc4062c846d4ac963cb454936a90": {
      "model_module": "@jupyter-widgets/controls",
      "model_module_version": "1.5.0",
      "model_name": "DescriptionStyleModel",
      "state": {
       "description_width": ""
      }
     },
     "b1a1fe55ba4d4a6282446f73fc9f65d6": {
      "model_module": "@jupyter-widgets/base",
      "model_module_version": "1.2.0",
      "model_name": "LayoutModel",
      "state": {}
     },
     "b1ad7aa559c24d1db34a89cfdf577e6a": {
      "model_module": "@jupyter-widgets/controls",
      "model_module_version": "1.5.0",
      "model_name": "DescriptionStyleModel",
      "state": {
       "description_width": ""
      }
     },
     "b1f891debe5f4053ae5b9ce20e722c79": {
      "model_module": "@jupyter-widgets/controls",
      "model_module_version": "1.5.0",
      "model_name": "TextModel",
      "state": {
       "continuous_update": false,
       "description": "Name:",
       "layout": "IPY_MODEL_1784dfadae9f4e63aaad4a362e502f0e",
       "style": "IPY_MODEL_a48c506d69e745e7b14d2a4e3eedfae2",
       "value": "Octree_Mesh"
      }
     },
     "b210116055234c7684417280d0780fea": {
      "model_module": "@jupyter-widgets/base",
      "model_module_version": "1.2.0",
      "model_name": "LayoutModel",
      "state": {
       "grid_area": "pathlist",
       "width": "auto"
      }
     },
     "b2314b608c4c4dac816d605dfbfd7b91": {
      "model_module": "@jupyter-widgets/controls",
      "model_module_version": "1.5.0",
      "model_name": "DescriptionStyleModel",
      "state": {
       "description_width": "initial"
      }
     },
     "b235f138194c467a8d354b1756d9f4e8": {
      "model_module": "@jupyter-widgets/controls",
      "model_module_version": "1.5.0",
      "model_name": "HTMLModel",
      "state": {
       "layout": "IPY_MODEL_b725fcbdf5a9477c892e904eb8719abe",
       "style": "IPY_MODEL_cf4c8dd154ad4e0c92b2c8d5728ac1fa"
      }
     },
     "b23b536b885a4f418a5ced086bdeb32c": {
      "model_module": "@jupyter-widgets/base",
      "model_module_version": "1.2.0",
      "model_name": "LayoutModel",
      "state": {
       "grid_area": "dircontent",
       "width": "auto"
      }
     },
     "b2442514eda44917b07fd5240f7f798c": {
      "model_module": "@jupyter-widgets/controls",
      "model_module_version": "1.5.0",
      "model_name": "BoxModel",
      "state": {
       "children": [
        "IPY_MODEL_817bdba613524b738afcab353cde9163"
       ],
       "layout": "IPY_MODEL_ab2830d88ad840cb9b55dff2e4c2e3a7"
      }
     },
     "b254c2ae1e3d4249b592f38698993c5b": {
      "model_module": "@jupyter-widgets/controls",
      "model_module_version": "1.5.0",
      "model_name": "DropdownModel",
      "state": {
       "_options_labels": [
        "C:\\Users\\dominiquef\\Documents\\GIT\\mira\\geoapps\\assets\\Temp",
        "C:\\Users\\dominiquef\\Documents\\GIT\\mira\\geoapps\\assets",
        "C:\\Users\\dominiquef\\Documents\\GIT\\mira\\geoapps",
        "C:\\Users\\dominiquef\\Documents\\GIT\\mira",
        "C:\\Users\\dominiquef\\Documents\\GIT",
        "C:\\Users\\dominiquef\\Documents",
        "C:\\Users\\dominiquef",
        "C:\\Users",
        "C:\\",
        "\\\\EgnyteDrive\\mirageoscience\\",
        "D:\\",
        "G:\\"
       ],
       "index": 0,
       "layout": "IPY_MODEL_df7f7c0300a14f8280304c2d71bbfb48",
       "style": "IPY_MODEL_bbf860196b4d4f29894326f8077a7cfe"
      }
     },
     "b2760394b64a4205828e7b5160f75120": {
      "model_module": "@jupyter-widgets/controls",
      "model_module_version": "1.5.0",
      "model_name": "TextModel",
      "state": {
       "continuous_update": false,
       "description": "Name:",
       "layout": "IPY_MODEL_cb735a0547b845daa1d6ae76f7938d9b",
       "style": "IPY_MODEL_9c529fa83c1642868059c29d00d0452d",
       "value": "Octree_Mesh"
      }
     },
     "b277dea13a884601925cfeebd1f59265": {
      "model_module": "@jupyter-widgets/controls",
      "model_module_version": "1.5.0",
      "model_name": "DescriptionStyleModel",
      "state": {
       "description_width": "initial"
      }
     },
     "b28ad68d0683452d8a6bb05ee842c2c4": {
      "model_module": "@jupyter-widgets/base",
      "model_module_version": "1.2.0",
      "model_name": "LayoutModel",
      "state": {}
     },
     "b2c6e59e37da44d7a326b8b991f2a09c": {
      "model_module": "@jupyter-widgets/controls",
      "model_module_version": "1.5.0",
      "model_name": "ToggleButtonModel",
      "state": {
       "layout": "IPY_MODEL_c0778236656a48749a1bf2d18108c43d",
       "style": "IPY_MODEL_35e6125dd25a4cef89fc918c56397d40"
      }
     },
     "b2cc2be5cd7a401a8a5455642986ac1d": {
      "model_module": "@jupyter-widgets/controls",
      "model_module_version": "1.5.0",
      "model_name": "DescriptionStyleModel",
      "state": {
       "description_width": "initial"
      }
     },
     "b2d9335666334ce1a3efa41b1c98fe33": {
      "model_module": "@jupyter-widgets/base",
      "model_module_version": "1.2.0",
      "model_name": "LayoutModel",
      "state": {
       "grid_area": "dircontent",
       "width": "auto"
      }
     },
     "b2fcdf23be3a41d2b1adad8c701d8988": {
      "model_module": "@jupyter-widgets/controls",
      "model_module_version": "1.5.0",
      "model_name": "FloatTextModel",
      "state": {
       "description": "Horizontal (m)",
       "layout": "IPY_MODEL_5c673b3ac18a4fcca936b29fc0ade6d1",
       "step": null,
       "style": "IPY_MODEL_03255fcc1b3142d6a25872443861f68b",
       "value": 1000
      }
     },
     "b2fe87b1f5b64b3fad492dd26b92b619": {
      "model_module": "@jupyter-widgets/base",
      "model_module_version": "1.2.0",
      "model_name": "LayoutModel",
      "state": {}
     },
     "b300463619344336abe14da950c03fcc": {
      "model_module": "@jupyter-widgets/controls",
      "model_module_version": "1.5.0",
      "model_name": "DescriptionStyleModel",
      "state": {
       "description_width": "initial"
      }
     },
     "b3047646175a48b593cc554fc68e0ba7": {
      "model_module": "@jupyter-widgets/controls",
      "model_module_version": "1.5.0",
      "model_name": "FloatTextModel",
      "state": {
       "description": "Distance",
       "layout": "IPY_MODEL_11c50671557347f79c4d4f7718f3b5e4",
       "step": null,
       "style": "IPY_MODEL_ca0e6bbca4ed44fe95ef31312ebcfdf1",
       "value": 1000
      }
     },
     "b30ea0de99c948be8cd3488a098337d9": {
      "model_module": "@jupyter-widgets/base",
      "model_module_version": "1.2.0",
      "model_name": "LayoutModel",
      "state": {}
     },
     "b31f6dd82244473fa8f2963381d8f34f": {
      "model_module": "@jupyter-widgets/base",
      "model_module_version": "1.2.0",
      "model_name": "LayoutModel",
      "state": {
       "grid_area": "pathlist",
       "width": "auto"
      }
     },
     "b323a2cfb8db4c62a3c9001b4fd71bf2": {
      "model_module": "@jupyter-widgets/controls",
      "model_module_version": "1.5.0",
      "model_name": "VBoxModel",
      "state": {
       "children": [
        "IPY_MODEL_1ba10a0212c94357b54e403a297f41c8",
        "IPY_MODEL_6b865582bb524178bee8eef384c0d0d0",
        "IPY_MODEL_bc4c7f184cb745e6909caf5ba84c0711",
        "IPY_MODEL_1927c2703fad45bcb7e155c30b752a22",
        "IPY_MODEL_5973947e3005451c936a587331abf4b3",
        "IPY_MODEL_ed27f17d63254dd38cd1b79e3b6046ea",
        "IPY_MODEL_601d900c369745849d55404ddf031f3e",
        "IPY_MODEL_063e91c48c8743a7b0d2449f2bead0ac",
        "IPY_MODEL_f1a2844a06f544c1b61fc87b509aabe9",
        "IPY_MODEL_f4ee4c1b26644967a7458ff97e0fb8e6"
       ],
       "layout": "IPY_MODEL_0d3b8d4bd84d4ea9873ed4deab46efa1"
      }
     },
     "b36fd34e37b54c148363cb8ff6302efc": {
      "model_module": "@jupyter-widgets/controls",
      "model_module_version": "1.5.0",
      "model_name": "DescriptionStyleModel",
      "state": {
       "description_width": ""
      }
     },
     "b376fa76b53b4f3ba04afea0147e0302": {
      "model_module": "@jupyter-widgets/controls",
      "model_module_version": "1.5.0",
      "model_name": "DescriptionStyleModel",
      "state": {
       "description_width": "initial"
      }
     },
     "b37f0229a4b244d1b4800db2b684f2f2": {
      "model_module": "@jupyter-widgets/controls",
      "model_module_version": "1.5.0",
      "model_name": "VBoxModel",
      "state": {
       "children": [
        "IPY_MODEL_82551c3762e34d659a0d92d73d88d611",
        "IPY_MODEL_d644baac27b045f9a29b9512bc24ac8b",
        "IPY_MODEL_ee4ba8811b8a42a5aedc208c9e5066e4",
        "IPY_MODEL_428fd50add924d158e33d50281d8a111",
        "IPY_MODEL_3c8f8774657141eea7a9fce3421a5a22",
        "IPY_MODEL_203204781a6b4e949bbbdc3b7b8d100d",
        "IPY_MODEL_215e7a47899f48d6af4d351751c4b2b5",
        "IPY_MODEL_2bdd77c9f0e143f18827e54d614deaa5",
        "IPY_MODEL_fb3a5b440cac4a789b813ca71761f4c2",
        "IPY_MODEL_9beb5e23e1544302a3653699c59164c6"
       ],
       "layout": "IPY_MODEL_d75c35586d744eb8963a8439f759fb04"
      }
     },
     "b3b5e68f062042348ac5ff8b519989e0": {
      "model_module": "@jupyter-widgets/controls",
      "model_module_version": "1.5.0",
      "model_name": "ButtonStyleModel",
      "state": {}
     },
     "b3d36f33bea0412493be34c4096e1082": {
      "model_module": "@jupyter-widgets/controls",
      "model_module_version": "1.5.0",
      "model_name": "DropdownModel",
      "state": {
       "_options_labels": [
        "C:\\Users\\dominiquef\\Documents\\GIT\\mira\\geoapps\\assets\\Temp",
        "C:\\Users\\dominiquef\\Documents\\GIT\\mira\\geoapps\\assets",
        "C:\\Users\\dominiquef\\Documents\\GIT\\mira\\geoapps",
        "C:\\Users\\dominiquef\\Documents\\GIT\\mira",
        "C:\\Users\\dominiquef\\Documents\\GIT",
        "C:\\Users\\dominiquef\\Documents",
        "C:\\Users\\dominiquef",
        "C:\\Users",
        "C:\\",
        "G:\\",
        "\\\\EgnyteDrive\\mirageoscience\\",
        "D:\\"
       ],
       "index": 0,
       "layout": "IPY_MODEL_6588912c3ba5410c9ea2406438ecb801",
       "style": "IPY_MODEL_2f5b4541cfa946408a67f255db79f406"
      }
     },
     "b3e96175a0a6472fb7fa1fa13dc25863": {
      "model_module": "@jupyter-widgets/controls",
      "model_module_version": "1.5.0",
      "model_name": "FloatTextModel",
      "state": {
       "description": "Vertical (m)",
       "layout": "IPY_MODEL_c8d22e797e2d496a8492f5fbdeeb37aa",
       "step": null,
       "style": "IPY_MODEL_4ade7121aad7461cb87f4a78d4ee883a",
       "value": 1000
      }
     },
     "b3f649a162214891801870fb87391f08": {
      "model_module": "@jupyter-widgets/controls",
      "model_module_version": "1.5.0",
      "model_name": "GridBoxModel",
      "state": {
       "children": [
        "IPY_MODEL_5e3031d31b824ff3afce38c27765dad8",
        "IPY_MODEL_3ff2272e73af4ffda535120ef080b743",
        "IPY_MODEL_ab19bfd11ce34b62acf44080423bd8cb"
       ],
       "layout": "IPY_MODEL_8a15934894d34ba1949c927f5bdf6894"
      }
     },
     "b40f922d4ff546d0a0001772324dde7e": {
      "model_module": "@jupyter-widgets/controls",
      "model_module_version": "1.5.0",
      "model_name": "FloatTextModel",
      "state": {
       "description": "Easting",
       "layout": "IPY_MODEL_65516b03aeb1412d95d2fc4b093e1c1b",
       "step": null,
       "style": "IPY_MODEL_cffa8856c7d740cfa28dc74d45d23194",
       "value": 25
      }
     },
     "b419700ebf034f95983c7dfa6f210d07": {
      "model_module": "@jupyter-widgets/controls",
      "model_module_version": "1.5.0",
      "model_name": "DescriptionStyleModel",
      "state": {
       "description_width": "initial"
      }
     },
     "b43a3945ed874a05bcee88387b5993ed": {
      "model_module": "@jupyter-widgets/controls",
      "model_module_version": "1.5.0",
      "model_name": "LabelModel",
      "state": {
       "layout": "IPY_MODEL_8b98db89c7ba43dcae17eff39b22a99d",
       "style": "IPY_MODEL_c6d1097b2cfc4a2daad1ecac17ee0699",
       "value": "Refinement A"
      }
     },
     "b44c035cc4a745288add3790ee5247a4": {
      "model_module": "@jupyter-widgets/controls",
      "model_module_version": "1.5.0",
      "model_name": "SelectModel",
      "state": {
       "_options_labels": [
        "📁 ..",
        "📁 SimPEG_PFInversion",
        "📁 Temp",
        "📁 uijson",
        "FlinFlon.geoh5",
        "FlinFlon_dcip.geoh5",
        "MtDore_TMI.geoh5",
        "tem.geoh5",
        "test_forward.ui.geoh5",
        "test_forward.ui.json"
       ],
       "index": 4,
       "layout": "IPY_MODEL_c7291b7b542f4c9eb1d3d00c4af3167a",
       "rows": 8,
       "style": "IPY_MODEL_472664c92fe9435589006474003a4fc2"
      }
     },
     "b4516db423154131874a99ef9a202942": {
      "model_module": "@jupyter-widgets/base",
      "model_module_version": "1.2.0",
      "model_name": "LayoutModel",
      "state": {}
     },
     "b48b0d7133564c478ba6422eeebb8ef9": {
      "model_module": "@jupyter-widgets/base",
      "model_module_version": "1.2.0",
      "model_name": "LayoutModel",
      "state": {}
     },
     "b491e0a4d16d4b30a6d55db6a2be7d92": {
      "model_module": "@jupyter-widgets/controls",
      "model_module_version": "1.5.0",
      "model_name": "ButtonModel",
      "state": {
       "description": "Change",
       "layout": "IPY_MODEL_43961a61d71a47e688dd6c9eec82f853",
       "style": "IPY_MODEL_9380e51785db49048619e01fe9d118c8"
      }
     },
     "b492cde0e1534bf8bf76bae994795cd4": {
      "model_module": "@jupyter-widgets/controls",
      "model_module_version": "1.5.0",
      "model_name": "ButtonModel",
      "state": {
       "description": "Cancel",
       "layout": "IPY_MODEL_021deffa3fab46f28650a1c35bddbf70",
       "style": "IPY_MODEL_0f5697c4dc88443caa9b621fd4d16dea"
      }
     },
     "b4d4f02b3fc549768b54b0811f67bb01": {
      "model_module": "@jupyter-widgets/base",
      "model_module_version": "1.2.0",
      "model_name": "LayoutModel",
      "state": {
       "display": "none",
       "grid_area": "filename",
       "width": "auto"
      }
     },
     "b4db512aad244659ba8786a24840d41e": {
      "model_module": "@jupyter-widgets/controls",
      "model_module_version": "1.5.0",
      "model_name": "DescriptionStyleModel",
      "state": {
       "description_width": "initial"
      }
     },
     "b5141fed3dc9450a8c1aef474ebd8290": {
      "model_module": "@jupyter-widgets/controls",
      "model_module_version": "1.5.0",
      "model_name": "DescriptionStyleModel",
      "state": {
       "description_width": "initial"
      }
     },
     "b51ff591bc63413d998bc7e9fc98ec8b": {
      "model_module": "@jupyter-widgets/controls",
      "model_module_version": "1.5.0",
      "model_name": "DropdownModel",
      "state": {
       "_options_labels": [
        "",
        "--- Channels ---",
        "CPI900",
        "CPI7200",
        "CPI56k",
        "CPQ900",
        "CPQ7200",
        "CPQ56k",
        "DEM",
        "Line",
        "X",
        "Y",
        "Z"
       ],
       "description": "Data: ",
       "index": 0,
       "layout": "IPY_MODEL_eb2288e0e1fa4ab4919d1c2d3f478de2",
       "style": "IPY_MODEL_e68c638e8fb74abfbb63e6ad3008fe45"
      }
     },
     "b54a9fb519bb440a8a865dcf36df67d9": {
      "model_module": "@jupyter-widgets/controls",
      "model_module_version": "1.5.0",
      "model_name": "DescriptionStyleModel",
      "state": {
       "description_width": "initial"
      }
     },
     "b5500f674ca34c9889553e331ed02bbf": {
      "model_module": "@jupyter-widgets/controls",
      "model_module_version": "1.5.0",
      "model_name": "DescriptionStyleModel",
      "state": {
       "description_width": ""
      }
     },
     "b5653d4e03f34a0681bcbfc16b30f5d6": {
      "model_module": "@jupyter-widgets/base",
      "model_module_version": "1.2.0",
      "model_name": "LayoutModel",
      "state": {}
     },
     "b568e5a65e4f46bb8c9638d3db23a4e7": {
      "model_module": "@jupyter-widgets/controls",
      "model_module_version": "1.5.0",
      "model_name": "FloatTextModel",
      "state": {
       "description": "Vertical (m)",
       "layout": "IPY_MODEL_517b1785893d44e3b78e4ea795464104",
       "step": null,
       "style": "IPY_MODEL_a70bf97e8cbe43dbb4a4f1dd4e5a7d9a",
       "value": 1000
      }
     },
     "b58b1034c67f4e12a13c4e9f82042306": {
      "model_module": "@jupyter-widgets/controls",
      "model_module_version": "1.5.0",
      "model_name": "VBoxModel",
      "state": {
       "children": [
        "IPY_MODEL_7b92d1bf8705493bb04f62f47699201f",
        "IPY_MODEL_668f58ef28e4465dbfdb5001090eefb3",
        "IPY_MODEL_cf76eee7be6a4ea3ac7d8a8895b85edd",
        "IPY_MODEL_1232968ac60441a28befbc235ab4f46a",
        "IPY_MODEL_23e685e476714069bb3341ee6a43911e",
        "IPY_MODEL_604371d905994e8fb18a623c354a2a7d",
        "IPY_MODEL_6eda371b4dc5422ea2f2f3fd5b665f45",
        "IPY_MODEL_2d9026cfd75b404682e3093554233470",
        "IPY_MODEL_f9c4689f61574e069c14577a0830c376",
        "IPY_MODEL_b3e96175a0a6472fb7fa1fa13dc25863"
       ],
       "layout": "IPY_MODEL_7de8aee2c0a345b299ad3596ad0e3553"
      }
     },
     "b59f1d91cb6043b7baf46396cf174307": {
      "model_module": "@jupyter-widgets/controls",
      "model_module_version": "1.5.0",
      "model_name": "HTMLModel",
      "state": {
       "layout": "IPY_MODEL_b0b1572beb1d4974b87ed0bb2fe1f410",
       "style": "IPY_MODEL_2b684c8e8cb24a9a84621ea25f09c99f"
      }
     },
     "b5a02601c53445be8f3075ec24d116e4": {
      "model_module": "@jupyter-widgets/base",
      "model_module_version": "1.2.0",
      "model_name": "LayoutModel",
      "state": {
       "display": "none"
      }
     },
     "b5b06b752d014228a27a5432e1f57373": {
      "model_module": "@jupyter-widgets/controls",
      "model_module_version": "1.5.0",
      "model_name": "DescriptionStyleModel",
      "state": {
       "description_width": ""
      }
     },
     "b5c2f553fc204eb89795efced261464b": {
      "model_module": "@jupyter-widgets/base",
      "model_module_version": "1.2.0",
      "model_name": "LayoutModel",
      "state": {}
     },
     "b607698d447140c1b5fbce07e8be27ef": {
      "model_module": "@jupyter-widgets/controls",
      "model_module_version": "1.5.0",
      "model_name": "DescriptionStyleModel",
      "state": {
       "description_width": ""
      }
     },
     "b62a048ae28f4930927518332f87107e": {
      "model_module": "@jupyter-widgets/controls",
      "model_module_version": "1.5.0",
      "model_name": "FloatTextModel",
      "state": {
       "description": "Vertical",
       "layout": "IPY_MODEL_85cbc8df97484955b7ee34b89200642c",
       "step": null,
       "style": "IPY_MODEL_c48e693b6ef64c27910dd8f1b8dc778f",
       "value": 25
      }
     },
     "b65b7815cb644d8faf95b1073683fac3": {
      "model_module": "@jupyter-widgets/base",
      "model_module_version": "1.2.0",
      "model_name": "LayoutModel",
      "state": {}
     },
     "b697ca189d824557aeb2681776785799": {
      "model_module": "@jupyter-widgets/controls",
      "model_module_version": "1.5.0",
      "model_name": "LabelModel",
      "state": {
       "layout": "IPY_MODEL_5e8befdc9bfb4504aa8455bc59cbad56",
       "style": "IPY_MODEL_382cb817d9774dd0b8b19e56e371638f",
       "value": "Base Parameters"
      }
     },
     "b697ff1653f648aea6251c2459d8a04f": {
      "model_module": "@jupyter-widgets/controls",
      "model_module_version": "1.5.0",
      "model_name": "TextModel",
      "state": {
       "layout": "IPY_MODEL_58eedcc96e4f4310883de74e77b69695",
       "placeholder": "output filename",
       "style": "IPY_MODEL_10385ce15eea4a68b7cb6ca12f34c60d",
       "value": "FlinFlon.geoh5"
      }
     },
     "b699ddb0377d42f093f5c820dc5504d1": {
      "model_module": "@jupyter-widgets/base",
      "model_module_version": "1.2.0",
      "model_name": "LayoutModel",
      "state": {}
     },
     "b69fa8921c954f788d62097e7b08dce7": {
      "model_module": "@jupyter-widgets/controls",
      "model_module_version": "1.5.0",
      "model_name": "HBoxModel",
      "state": {
       "children": [
        "IPY_MODEL_34123469169d478aa15753e7f62aea5b",
        "IPY_MODEL_3393ded6768c4e449169b903b70eda16"
       ],
       "layout": "IPY_MODEL_e909a33893704ead9475d91c7dc65191"
      }
     },
     "b6a5a13fb7d44b0c992b768669b92630": {
      "model_module": "@jupyter-widgets/controls",
      "model_module_version": "1.5.0",
      "model_name": "TextModel",
      "state": {
       "layout": "IPY_MODEL_f7d2dff4c9e04025a20bd913bcb24f98",
       "placeholder": "output filename",
       "style": "IPY_MODEL_cc6df360c16e4944a8d771097f4ee897",
       "value": "FlinFlon.geoh5"
      }
     },
     "b6b2bef910ab46cab4e239b875d38755": {
      "model_module": "@jupyter-widgets/controls",
      "model_module_version": "1.5.0",
      "model_name": "VBoxModel",
      "state": {
       "children": [
        "IPY_MODEL_bc8fe32462d645dcae9d3f3496ea5489",
        "IPY_MODEL_5d250c51c61343e7bcba56605c1d850a"
       ],
       "layout": "IPY_MODEL_7bc2baaa0f0445aa86e29bcb0fa64bc1"
      }
     },
     "b6c44bf0b61c4cbcbd194a7e60ff71f5": {
      "model_module": "@jupyter-widgets/controls",
      "model_module_version": "1.5.0",
      "model_name": "DescriptionStyleModel",
      "state": {
       "description_width": ""
      }
     },
     "b6ed184e86704245935824006630e2f7": {
      "model_module": "@jupyter-widgets/controls",
      "model_module_version": "1.5.0",
      "model_name": "ButtonStyleModel",
      "state": {}
     },
     "b6f6fd4e025f45909c9537c2d759685d": {
      "model_module": "@jupyter-widgets/controls",
      "model_module_version": "1.5.0",
      "model_name": "VBoxModel",
      "state": {
       "children": [
        "IPY_MODEL_563da30d77084868b7d8d1ceb901cdac",
        "IPY_MODEL_3b6b805a7d504370abbd99379e8ff446",
        "IPY_MODEL_957b01e39cf740a59e37d6817d2792e5"
       ],
       "layout": "IPY_MODEL_39be6ad869204640b4ef8bcef8689a54"
      }
     },
     "b71ed2012f884c85a5ffb5e6eae25ccf": {
      "model_module": "@jupyter-widgets/controls",
      "model_module_version": "1.5.0",
      "model_name": "SelectModel",
      "state": {
       "_options_labels": [
        "📁 ..",
        "📁 SimPEG_PFInversion",
        "📁 Temp",
        "📁 uijson",
        "FlinFlon.geoh5",
        "FlinFlon_dcip.geoh5",
        "MtDore_TMI.geoh5",
        "tem.geoh5",
        "test_forward.ui.geoh5",
        "test_forward.ui.json"
       ],
       "index": 4,
       "layout": "IPY_MODEL_7376cb9c9a814adca378fca71ba3569f",
       "rows": 8,
       "style": "IPY_MODEL_d9f93dba94b44e5282c4a4b47719b7d4"
      }
     },
     "b7252428968a4752a436b15f6566bb27": {
      "model_module": "@jupyter-widgets/controls",
      "model_module_version": "1.5.0",
      "model_name": "DescriptionStyleModel",
      "state": {
       "description_width": ""
      }
     },
     "b725fcbdf5a9477c892e904eb8719abe": {
      "model_module": "@jupyter-widgets/base",
      "model_module_version": "1.2.0",
      "model_name": "LayoutModel",
      "state": {
       "display": "none"
      }
     },
     "b72782ee160145caa5dd85e20c40fc89": {
      "model_module": "@jupyter-widgets/controls",
      "model_module_version": "1.5.0",
      "model_name": "HBoxModel",
      "state": {
       "children": [
        "IPY_MODEL_6ec7a87f5dfc45528ae4381307e450b7",
        "IPY_MODEL_dd7544e21df04a4c866bf2f0bfe2c2a7"
       ],
       "layout": "IPY_MODEL_44e571436a3b4a5bb25b3a7bbdb71a48"
      }
     },
     "b730a59da41b47d1b55a58645ce21d02": {
      "model_module": "@jupyter-widgets/base",
      "model_module_version": "1.2.0",
      "model_name": "LayoutModel",
      "state": {}
     },
     "b74ee4c6ea494ae09ae9f2644ee5195e": {
      "model_module": "@jupyter-widgets/base",
      "model_module_version": "1.2.0",
      "model_name": "LayoutModel",
      "state": {}
     },
     "b74f8ee6df4a4b91b4d7c511807cfde3": {
      "model_module": "@jupyter-widgets/controls",
      "model_module_version": "1.5.0",
      "model_name": "DescriptionStyleModel",
      "state": {
       "description_width": ""
      }
     },
     "b7579205463d48c28f4191a408d512da": {
      "model_module": "@jupyter-widgets/controls",
      "model_module_version": "1.5.0",
      "model_name": "DropdownModel",
      "state": {
       "_options_labels": [
        "C:\\Users\\dominiquef\\Documents\\GIT\\mira\\geoapps\\assets\\Temp",
        "C:\\Users\\dominiquef\\Documents\\GIT\\mira\\geoapps\\assets",
        "C:\\Users\\dominiquef\\Documents\\GIT\\mira\\geoapps",
        "C:\\Users\\dominiquef\\Documents\\GIT\\mira",
        "C:\\Users\\dominiquef\\Documents\\GIT",
        "C:\\Users\\dominiquef\\Documents",
        "C:\\Users\\dominiquef",
        "C:\\Users",
        "C:\\",
        "D:\\",
        "G:\\",
        "\\\\EgnyteDrive\\mirageoscience\\"
       ],
       "index": 0,
       "layout": "IPY_MODEL_98cc5256134048799dc83702907d1e1b",
       "style": "IPY_MODEL_2eafec1af6b943a78490765925113bb5"
      }
     },
     "b7627489e3df4a91b314b21196402e77": {
      "model_module": "@jupyter-widgets/base",
      "model_module_version": "1.2.0",
      "model_name": "LayoutModel",
      "state": {}
     },
     "b766ca9572a747eb8ff7595caff20ef0": {
      "model_module": "@jupyter-widgets/base",
      "model_module_version": "1.2.0",
      "model_name": "LayoutModel",
      "state": {
       "display": "none",
       "min_width": "6em",
       "width": "6em"
      }
     },
     "b788a517b38f4654ba3813b49761a645": {
      "model_module": "@jupyter-widgets/controls",
      "model_module_version": "1.5.0",
      "model_name": "DescriptionStyleModel",
      "state": {
       "description_width": ""
      }
     },
     "b7a705a6bc834f3ba35926602d8437e2": {
      "model_module": "@jupyter-widgets/base",
      "model_module_version": "1.2.0",
      "model_name": "LayoutModel",
      "state": {}
     },
     "b7b282f746004e0ab8a8364eb11e263f": {
      "model_module": "@jupyter-widgets/controls",
      "model_module_version": "1.5.0",
      "model_name": "DescriptionStyleModel",
      "state": {
       "description_width": "initial"
      }
     },
     "b7b859b3c6164077a45aa815aeaa1b20": {
      "model_module": "@jupyter-widgets/controls",
      "model_module_version": "1.5.0",
      "model_name": "LabelModel",
      "state": {
       "layout": "IPY_MODEL_ba394c9241224ddf9de260711b09bdc2",
       "style": "IPY_MODEL_6bc0c022563a4a26bdb470746dfa6c6c",
       "value": "Padding distance"
      }
     },
     "b7c44cee4ad542e5b08d5a590db5c746": {
      "model_module": "@jupyter-widgets/base",
      "model_module_version": "1.2.0",
      "model_name": "LayoutModel",
      "state": {}
     },
     "b7c7287e91b343d6bea55958e2832be9": {
      "model_module": "@jupyter-widgets/controls",
      "model_module_version": "1.5.0",
      "model_name": "DropdownModel",
      "state": {
       "_options_labels": [
        "",
        "Ore/39_Ore_Callinan",
        "Ore/38_Ore_Dan_Owens",
        "Ore/40_Ore_FlinFlon",
        "Workspace/Inversion_VTEM_Model",
        "Workspace/CDI_VTEM_model",
        "Workspace/Data_FEM_pseudo3D",
        "Workspace/geochem",
        "Workspace/Inversion_DIGHEM_Model",
        "Workspace/Topography",
        "Workspace/Data_TEM_pseudo3D",
        "Workspace/Data_ZTEM",
        "Workspace/Mesh"
       ],
       "description": "Core hull extent:",
       "index": 6,
       "layout": "IPY_MODEL_afe63aaf66094ea6851dba91285d6b97",
       "style": "IPY_MODEL_101b944714204dfa93e50566110a8d52"
      }
     },
     "b7d630d60f4f49df8bdea5afae08ce46": {
      "model_module": "@jupyter-widgets/controls",
      "model_module_version": "1.5.0",
      "model_name": "DropdownModel",
      "state": {
       "_options_labels": [
        "",
        "CoordinateTransformation/Data_TEM_pseudo3DEPSG_4326",
        "ISO/Iso_Iteration_7_model_5_00e-03",
        "ISO/Iso_Iteration_7_model_1_00e-02",
        "ISO/Iso_Iteration_7_model_1_50e-02",
        "ISO/Iso_Iteration_7_model_2_50e-03",
        "ISO/Iso_Iteration_7_model_2_00e-02",
        "Ore/39_Ore_Callinan",
        "Ore/38_Ore_Dan_Owens",
        "Ore/40_Ore_FlinFlon",
        "Workspace/Inversion_VTEM_Model",
        "Workspace/CDI_VTEM_model",
        "Workspace/Data_FEM_pseudo3D",
        "Workspace/geochem",
        "Workspace/Inversion_DIGHEM_Model",
        "Workspace/Topography",
        "Workspace/Data_TEM_pseudo3D",
        "Workspace/Data_ZTEM",
        "Workspace/Mesh"
       ],
       "description": "Object",
       "index": 12,
       "layout": "IPY_MODEL_9670d0e80bae4492b1ac525a7efaa922",
       "style": "IPY_MODEL_51cb7da03db04df18de14314278530be"
      }
     },
     "b7de0fd2e2ab47cdbfba4f2ef2b93189": {
      "model_module": "@jupyter-widgets/base",
      "model_module_version": "1.2.0",
      "model_name": "LayoutModel",
      "state": {}
     },
     "b808e31432a34e71a6ee308963e9c174": {
      "model_module": "@jupyter-widgets/controls",
      "model_module_version": "1.5.0",
      "model_name": "TextModel",
      "state": {
       "description": "Levels",
       "layout": "IPY_MODEL_1089f7b8912946348cc24aec327d0235",
       "style": "IPY_MODEL_ca5c13397e714f13a96e82c6203c36ff",
       "value": "4.0, 4.0, 4.0"
      }
     },
     "b810bf82dfd24bc9a037cf3698514324": {
      "model_module": "@jupyter-widgets/base",
      "model_module_version": "1.2.0",
      "model_name": "LayoutModel",
      "state": {
       "grid_area": "dircontent",
       "width": "auto"
      }
     },
     "b8156aaf13004db5bc97c4c13ca32594": {
      "model_module": "@jupyter-widgets/controls",
      "model_module_version": "1.5.0",
      "model_name": "DescriptionStyleModel",
      "state": {
       "description_width": "initial"
      }
     },
     "b8289fdfff50463ea01858fe8f61ee91": {
      "model_module": "@jupyter-widgets/controls",
      "model_module_version": "1.5.0",
      "model_name": "DescriptionStyleModel",
      "state": {
       "description_width": "initial"
      }
     },
     "b82d54f70dfc4e8faa7570518530c29b": {
      "model_module": "@jupyter-widgets/controls",
      "model_module_version": "1.5.0",
      "model_name": "DescriptionStyleModel",
      "state": {
       "description_width": ""
      }
     },
     "b845294518c8489cb56ca19aef05285e": {
      "model_module": "@jupyter-widgets/controls",
      "model_module_version": "1.5.0",
      "model_name": "DescriptionStyleModel",
      "state": {
       "description_width": "initial"
      }
     },
     "b84c99a6a6544254bce56c458bad80dc": {
      "model_module": "@jupyter-widgets/controls",
      "model_module_version": "1.5.0",
      "model_name": "HBoxModel",
      "state": {
       "children": [
        "IPY_MODEL_4e44943408bf4d61a6579c1eb783ed93",
        "IPY_MODEL_814366b415bb4f0d890b905294cf2999"
       ],
       "layout": "IPY_MODEL_bf62d4fedc8d40b5b4886bd6b63661e1"
      }
     },
     "b84d45777b684b909ab889e297284067": {
      "model_module": "@jupyter-widgets/controls",
      "model_module_version": "1.5.0",
      "model_name": "DescriptionStyleModel",
      "state": {
       "description_width": "initial"
      }
     },
     "b8505ff76211409f9523d4eebc03d5ed": {
      "model_module": "@jupyter-widgets/controls",
      "model_module_version": "1.5.0",
      "model_name": "ButtonStyleModel",
      "state": {}
     },
     "b857ace1f95548aea74229dbc987b687": {
      "model_module": "@jupyter-widgets/controls",
      "model_module_version": "1.5.0",
      "model_name": "HBoxModel",
      "state": {
       "children": [
        "IPY_MODEL_602b03a603644d179c9bbfc53fc4deb1",
        "IPY_MODEL_52ec835271c1433b8915e37ce19af9e5",
        "IPY_MODEL_8547ba1bf2ab4924b1b65fc0986c8154"
       ],
       "layout": "IPY_MODEL_e7557fdfc49d48a799d4910d55a1d78d"
      }
     },
     "b85998db3d474aeba1530a66bb53aa13": {
      "model_module": "@jupyter-widgets/controls",
      "model_module_version": "1.5.0",
      "model_name": "ButtonModel",
      "state": {
       "button_style": "danger",
       "description": "Create",
       "icon": "check",
       "layout": "IPY_MODEL_c34e7d9f6eb14f27b1e3c72ce0d492b1",
       "style": "IPY_MODEL_2a81ae2b7b5d4516b5eeb652c0280779",
       "tooltip": "Run computation"
      }
     },
     "b8666dfa11784840ad7ef9f811defaa9": {
      "model_module": "@jupyter-widgets/controls",
      "model_module_version": "1.5.0",
      "model_name": "ButtonStyleModel",
      "state": {}
     },
     "b8695f4ce899424faa68524b4d2f4d19": {
      "model_module": "@jupyter-widgets/base",
      "model_module_version": "1.2.0",
      "model_name": "LayoutModel",
      "state": {
       "width": "auto"
      }
     },
     "b8822d9e93694387b429d79cc4ebb9c9": {
      "model_module": "@jupyter-widgets/controls",
      "model_module_version": "1.5.0",
      "model_name": "DescriptionStyleModel",
      "state": {
       "description_width": ""
      }
     },
     "b882ef2f8f6c4d1db489c5e2b3b2d9e6": {
      "model_module": "@jupyter-widgets/base",
      "model_module_version": "1.2.0",
      "model_name": "LayoutModel",
      "state": {}
     },
     "b8a02066619f4d27844fa354f5528bb9": {
      "model_module": "@jupyter-widgets/controls",
      "model_module_version": "1.5.0",
      "model_name": "BoxModel",
      "state": {
       "children": [
        "IPY_MODEL_adf98aa1142e4657bdf996cf2e2daf73"
       ],
       "layout": "IPY_MODEL_3970824d727d4e3aacd67c230ecc8ec5"
      }
     },
     "b8be4628e20a4fbfae797e69e9d91cea": {
      "model_module": "@jupyter-widgets/controls",
      "model_module_version": "1.5.0",
      "model_name": "SelectModel",
      "state": {
       "_options_labels": [
        "..",
        "SimPEG_PFInversion",
        "Temp",
        "dask-worker-space",
        "Crossplot.html",
        "FlinFlon.geoh5",
        "Gravity_Magnetics_drape60m_Airborne_Gxx.tif",
        "Gravity_Magnetics_drape60m_Airborne_Gxx_Colorbar.png",
        "Gravity_Magnetics_drape60m_Airborne_Gxx_RGB.txt",
        "Inversion_.json",
        "Inversion_2.json",
        "Inversion_L0L2.json",
        "Inversion_L1L2.json",
        "Inversion_MVI_susRef.json",
        "Inversion_MagSusc.json",
        "Inversion_MagSusc_noref.json",
        "Inversion_TMI.json",
        "Inversion_test.json",
        "MtDore.geoh5",
        "MtDore_TMI.geoh5",
        "Octree_Mesh.ui.geoh5",
        "Octree_Mesh.ui.json",
        "Octree_Mesh_2.ui.json",
        "Octree_Mesh_33.ui.json",
        "Octree_Mesh_44.ui.json",
        "Octree_Mesh_55.ui.json",
        "Octree_Mesh_done.ui.json",
        "Octree_Mesh_done2.ui.json",
        "Octree_Mesh_geochem.ui.json",
        "Octree_Mesh_max_dist.ui.json",
        "Octree_Mesh_max_dist_10m.ui.json",
        "Octree_Mesh_ore.ui.json",
        "Octree_Mesh_padded.ui.json",
        "Octree_Mesh_surf.ui.json",
        "Octree_Mesh_v2.ui.json",
        "Octree_Mesh_v3.ui.geoh5",
        "Octree_Mesh_v3.ui.json",
        "Octree_Mesh_v4.ui.geoh5",
        "Octree_Mesh_v4.ui.json",
        "Octree_Mesh_v5.ui.json",
        "Octree_Mesh_v6.ui.geoh5",
        "Octree_Mesh_v6.ui.json",
        "Octree_Mesh_v7.ui.json",
        "default_mvi.ui.geoh5",
        "default_mvi.ui.json",
        "demo.ipynb",
        "edge_tester.geoh5",
        "input.ui.json",
        "live_update_demo.ipynb",
        "live_update_demo.ipynb.zip",
        "options_tree.json",
        "project.geoh5",
        "testPoints.geoh5",
        "tester.ui.geoh5",
        "tester.ui.json"
       ],
       "index": 5,
       "layout": "IPY_MODEL_3e33fd82c7844f22aabe772146618483",
       "rows": 8,
       "style": "IPY_MODEL_8342a810847c4f75a03969cdbe56a0e5"
      }
     },
     "b8de6c5201264d958a02411e2a7bcb39": {
      "model_module": "@jupyter-widgets/base",
      "model_module_version": "1.2.0",
      "model_name": "LayoutModel",
      "state": {
       "grid_area": "pathlist",
       "width": "auto"
      }
     },
     "b8dedd68248e4796b4809f78680bd0cf": {
      "model_module": "@jupyter-widgets/controls",
      "model_module_version": "1.5.0",
      "model_name": "DescriptionStyleModel",
      "state": {
       "description_width": "initial"
      }
     },
     "b8e74dd70f49449dbb6efea252b47369": {
      "model_module": "@jupyter-widgets/controls",
      "model_module_version": "1.5.0",
      "model_name": "DescriptionStyleModel",
      "state": {
       "description_width": ""
      }
     },
     "b90ae7faecac4432a5e3157cd50558aa": {
      "model_module": "@jupyter-widgets/controls",
      "model_module_version": "1.5.0",
      "model_name": "VBoxModel",
      "state": {
       "children": [
        "IPY_MODEL_f7db5aea631c41018cffb8e1cd1a9f67",
        "IPY_MODEL_e2993b4f9a5e4949a45622e160d9979f",
        "IPY_MODEL_a5bc26a274694e5199716463083b0e47",
        "IPY_MODEL_2897b9fd61a5435ea6537fac0c4a7f86",
        "IPY_MODEL_0b13e6cb1ea543f29fea94a9b472e070"
       ],
       "layout": "IPY_MODEL_807be8dcc47d4c45825eb1cd3318599d"
      }
     },
     "b91b93ec0b284f80ae2b800751b4cf66": {
      "model_module": "@jupyter-widgets/controls",
      "model_module_version": "1.5.0",
      "model_name": "DescriptionStyleModel",
      "state": {
       "description_width": "initial"
      }
     },
     "b920feda573141acae5ee29ac9313e02": {
      "model_module": "@jupyter-widgets/controls",
      "model_module_version": "1.5.0",
      "model_name": "DescriptionStyleModel",
      "state": {
       "description_width": ""
      }
     },
     "b924a608336045629fe8c2bb20b06d21": {
      "model_module": "@jupyter-widgets/controls",
      "model_module_version": "1.5.0",
      "model_name": "DescriptionStyleModel",
      "state": {
       "description_width": "initial"
      }
     },
     "b92a09f727564b9d80558b409b0ba8be": {
      "model_module": "@jupyter-widgets/controls",
      "model_module_version": "1.5.0",
      "model_name": "DropdownModel",
      "state": {
       "_options_labels": [
        "",
        "Ore/39_Ore_Callinan",
        "Ore/38_Ore_Dan_Owens",
        "Ore/40_Ore_FlinFlon",
        "Workspace/Inversion_VTEM_Model",
        "Workspace/CDI_VTEM_model",
        "Workspace/Data_FEM_pseudo3D",
        "Workspace/geochem",
        "Workspace/Inversion_DIGHEM_Model",
        "Workspace/Topography",
        "Workspace/Data_TEM_pseudo3D",
        "Workspace/Data_ZTEM",
        "Workspace/Mesh"
       ],
       "description": "Object",
       "index": 9,
       "layout": "IPY_MODEL_93dfed4c354f415c9e112f224fbe2d56",
       "style": "IPY_MODEL_52eccf98bdc94d0aa2fb8ed9ff2878f0"
      }
     },
     "b9376d002f4042ceb5796d439bf700df": {
      "model_module": "@jupyter-widgets/controls",
      "model_module_version": "1.5.0",
      "model_name": "DescriptionStyleModel",
      "state": {
       "description_width": ""
      }
     },
     "b9407263b6414ee9b20dd0503205dcb4": {
      "model_module": "@jupyter-widgets/controls",
      "model_module_version": "1.5.0",
      "model_name": "DescriptionStyleModel",
      "state": {
       "description_width": ""
      }
     },
     "b9b7829fd25642aea312a1011a2289b1": {
      "model_module": "@jupyter-widgets/base",
      "model_module_version": "1.2.0",
      "model_name": "LayoutModel",
      "state": {
       "border": "solid"
      }
     },
     "b9bbb491afc341ce9cfd68cbb5ddcb8a": {
      "model_module": "@jupyter-widgets/controls",
      "model_module_version": "1.5.0",
      "model_name": "DescriptionStyleModel",
      "state": {
       "description_width": ""
      }
     },
     "b9dfdc39529c4d6d87dc48d08091eebd": {
      "model_module": "@jupyter-widgets/controls",
      "model_module_version": "1.5.0",
      "model_name": "FloatTextModel",
      "state": {
       "description": "Northing",
       "layout": "IPY_MODEL_8225d4cba0ec4ffea0d79416e0da9a46",
       "step": null,
       "style": "IPY_MODEL_4bedc6986d7447fc9fd30595289afdf5",
       "value": 25
      }
     },
     "b9e5928ef1fd46cd9b1b3cc074db7143": {
      "model_module": "@jupyter-widgets/base",
      "model_module_version": "1.2.0",
      "model_name": "LayoutModel",
      "state": {}
     },
     "b9f0791675cb4f3aba47d5e23b7e37c9": {
      "model_module": "@jupyter-widgets/base",
      "model_module_version": "1.2.0",
      "model_name": "LayoutModel",
      "state": {
       "grid_area": "dircontent",
       "width": "auto"
      }
     },
     "b9fa88c48c664c499e2fc11e3d447a9d": {
      "model_module": "@jupyter-widgets/controls",
      "model_module_version": "1.5.0",
      "model_name": "ButtonModel",
      "state": {
       "description": "Cancel",
       "layout": "IPY_MODEL_46b4d113db9c488199df8006fc9496e8",
       "style": "IPY_MODEL_3c4841aaafa54e139015d859b613c07b"
      }
     },
     "ba27b0e3cf4f41f491448227d12cc0ee": {
      "model_module": "@jupyter-widgets/base",
      "model_module_version": "1.2.0",
      "model_name": "LayoutModel",
      "state": {}
     },
     "ba394c9241224ddf9de260711b09bdc2": {
      "model_module": "@jupyter-widgets/base",
      "model_module_version": "1.2.0",
      "model_name": "LayoutModel",
      "state": {}
     },
     "ba7f130cafcd46bdb6b6bc21fac2df36": {
      "model_module": "@jupyter-widgets/base",
      "model_module_version": "1.2.0",
      "model_name": "LayoutModel",
      "state": {}
     },
     "bab209534ae74938ad576f894011d9e7": {
      "model_module": "@jupyter-widgets/controls",
      "model_module_version": "1.5.0",
      "model_name": "HTMLModel",
      "state": {
       "layout": "IPY_MODEL_2d586bbc1dbe4f279af6ddbb014e27e8",
       "placeholder": "",
       "style": "IPY_MODEL_851f84ca29cd4e42bc8adb702b513757",
       "value": "<span style=\"color:orange;\">C:\\Users\\dominiquef\\Documents\\GIT\\mira\\geoapps\\assets\\FlinFlon.geoh5</span>"
      }
     },
     "bad05c44fc144cec8f18a3b8fc700d38": {
      "model_module": "@jupyter-widgets/controls",
      "model_module_version": "1.5.0",
      "model_name": "LabelModel",
      "state": {
       "layout": "IPY_MODEL_641e5f8140a242dca071a1442eb3e980",
       "style": "IPY_MODEL_1fa0a9935dd24a0c8827bffb972e7b3a",
       "value": "Padding distance"
      }
     },
     "bae61caca37a4f228fede16869dbfea4": {
      "model_module": "@jupyter-widgets/controls",
      "model_module_version": "1.5.0",
      "model_name": "DescriptionStyleModel",
      "state": {
       "description_width": "initial"
      }
     },
     "bafea83ad61740f38cdbfc09396823a6": {
      "model_module": "@jupyter-widgets/controls",
      "model_module_version": "1.5.0",
      "model_name": "DescriptionStyleModel",
      "state": {
       "description_width": "initial"
      }
     },
     "bb256bc0865e4f7da74705c1a0b0437a": {
      "model_module": "@jupyter-widgets/controls",
      "model_module_version": "1.5.0",
      "model_name": "DescriptionStyleModel",
      "state": {
       "description_width": "initial"
      }
     },
     "bb310cdeb094426f8921f5a7db7e9343": {
      "model_module": "@jupyter-widgets/controls",
      "model_module_version": "1.5.0",
      "model_name": "GridBoxModel",
      "state": {
       "children": [
        "IPY_MODEL_98964ba2c6fb408eac048f7a1b07d507",
        "IPY_MODEL_e77d21e008d94308a38fbd7b4384087e",
        "IPY_MODEL_b8be4628e20a4fbfae797e69e9d91cea"
       ],
       "layout": "IPY_MODEL_7b4b95837da44bfcaa374103cb543a6a"
      }
     },
     "bb41b41f3f094a5181f9433ba1efa393": {
      "model_module": "@jupyter-widgets/base",
      "model_module_version": "1.2.0",
      "model_name": "LayoutModel",
      "state": {}
     },
     "bb86c395eaa1483dbc09ca5e8c8d109a": {
      "model_module": "@jupyter-widgets/controls",
      "model_module_version": "1.5.0",
      "model_name": "DescriptionStyleModel",
      "state": {
       "description_width": "initial"
      }
     },
     "bb9473a531804cb2b105bb871b7ce0a0": {
      "model_module": "@jupyter-widgets/controls",
      "model_module_version": "1.5.0",
      "model_name": "VBoxModel",
      "state": {
       "children": [
        "IPY_MODEL_df52530de8f94a1eaefcfcd2bb297805",
        "IPY_MODEL_269c41798181425199ae5120e9ba7565",
        "IPY_MODEL_166417344a574773944d6f428ccee0ac"
       ],
       "layout": "IPY_MODEL_a3e971dc6a1643329eb51087c95b5af8"
      }
     },
     "bb9879d1caae4bb396f2ca45b10a93e7": {
      "model_module": "@jupyter-widgets/controls",
      "model_module_version": "1.5.0",
      "model_name": "VBoxModel",
      "state": {
       "children": [
        "IPY_MODEL_9bc072b9837148f8aa6c9bb3712b11a3",
        "IPY_MODEL_3cea8338bbc44385b28128b3ff9d33ca",
        "IPY_MODEL_ab07b273458846eb93dac5e283d5b81b",
        "IPY_MODEL_0d8be26eb6364eb4868119f2b17e81b7",
        "IPY_MODEL_e658eadfec774847b3f027d1189e5791",
        "IPY_MODEL_38a1965fe7044310b0296bab2d4a479d",
        "IPY_MODEL_0fd212353f7f4a5ebb3f9c526153a24f",
        "IPY_MODEL_87545b71477844658ca826b452e62a5e",
        "IPY_MODEL_c5eb6e75ed3548a1846ee66d959b6141",
        "IPY_MODEL_d10e5b1b5ab94081a37e48e01cdcf16d"
       ],
       "layout": "IPY_MODEL_dc30a253a8c64142a06a99830b5fc68b"
      }
     },
     "bb999750cf2f44408a4db2f81346a200": {
      "model_module": "@jupyter-widgets/controls",
      "model_module_version": "1.5.0",
      "model_name": "LabelModel",
      "state": {
       "layout": "IPY_MODEL_29a5c296344c40d6b04e3719aae7203e",
       "style": "IPY_MODEL_dcaca62272214e0d9a2eaccf76cf4622",
       "value": "Core cell size"
      }
     },
     "bb99d81a3510418698411eaa4a262278": {
      "model_module": "@jupyter-widgets/controls",
      "model_module_version": "1.5.0",
      "model_name": "SelectModel",
      "state": {
       "_options_labels": [
        "📁 ..",
        "📁 SimPEG_PFInversion"
       ],
       "index": null,
       "layout": "IPY_MODEL_302ac99a3c4a486b8ddb5685dd9c372a",
       "rows": 8,
       "style": "IPY_MODEL_f3c5591c6e2f410da15f2be4ed97c8b9"
      }
     },
     "bbab74074451401b97eea53438b9baf1": {
      "model_module": "@jupyter-widgets/base",
      "model_module_version": "1.2.0",
      "model_name": "LayoutModel",
      "state": {
       "grid_area": "dircontent",
       "width": "auto"
      }
     },
     "bbd99dec9c004efea00b41ea02a18474": {
      "model_module": "@jupyter-widgets/controls",
      "model_module_version": "1.5.0",
      "model_name": "DescriptionStyleModel",
      "state": {
       "description_width": "initial"
      }
     },
     "bbe8e230ff9f4fb2a8b76c8e1a55277b": {
      "model_module": "@jupyter-widgets/controls",
      "model_module_version": "1.5.0",
      "model_name": "ButtonModel",
      "state": {
       "description": "Cancel",
       "layout": "IPY_MODEL_6ffecac02d224599aa57b19e48390fac",
       "style": "IPY_MODEL_44cdbee4f76c4b54ad1fa22b6b1a8554"
      }
     },
     "bbf860196b4d4f29894326f8077a7cfe": {
      "model_module": "@jupyter-widgets/controls",
      "model_module_version": "1.5.0",
      "model_name": "DescriptionStyleModel",
      "state": {
       "description_width": ""
      }
     },
     "bbf892c0a3ab4f7cb5edcfd19b47a7f6": {
      "model_module": "@jupyter-widgets/controls",
      "model_module_version": "1.5.0",
      "model_name": "DescriptionStyleModel",
      "state": {
       "description_width": "initial"
      }
     },
     "bc1e2238a668490ebfbeab78d73a82e0": {
      "model_module": "@jupyter-widgets/controls",
      "model_module_version": "1.5.0",
      "model_name": "DescriptionStyleModel",
      "state": {
       "description_width": "initial"
      }
     },
     "bc4c7f184cb745e6909caf5ba84c0711": {
      "model_module": "@jupyter-widgets/controls",
      "model_module_version": "1.5.0",
      "model_name": "FloatTextModel",
      "state": {
       "description": "Minimum depth (m)",
       "layout": "IPY_MODEL_ca95f95e9f7a4a799e53c5695e2603f8",
       "step": null,
       "style": "IPY_MODEL_0eb8b4f7ca0944008710e9dd478912ba",
       "value": 500
      }
     },
     "bc51d9464fca475a9965473eaf1d739a": {
      "model_module": "@jupyter-widgets/controls",
      "model_module_version": "1.5.0",
      "model_name": "ButtonModel",
      "state": {
       "button_style": "danger",
       "description": "Create",
       "icon": "check",
       "layout": "IPY_MODEL_985bd6ac33c4414f995d931df3ab8cad",
       "style": "IPY_MODEL_6fac92ae14fe4bd39886dfcffd993705",
       "tooltip": "Run computation"
      }
     },
     "bc60b6b7d3f043f3b99aea6dbbf6e431": {
      "model_module": "@jupyter-widgets/controls",
      "model_module_version": "1.5.0",
      "model_name": "DescriptionStyleModel",
      "state": {
       "description_width": ""
      }
     },
     "bc8fe32462d645dcae9d3f3496ea5489": {
      "model_module": "@jupyter-widgets/controls",
      "model_module_version": "1.5.0",
      "model_name": "VBoxModel",
      "state": {
       "children": [
        "IPY_MODEL_a5c0071a027f4f3e95a118692096e8ba",
        "IPY_MODEL_b7d630d60f4f49df8bdea5afae08ce46",
        "IPY_MODEL_d678b91eae1746979e5bd0764d262875",
        "IPY_MODEL_0ace7ec6da0f4f2da5dfc57789d695d4",
        "IPY_MODEL_4d278ae95a0d4d978cfc0fe9cc616e91"
       ],
       "layout": "IPY_MODEL_025637a91d77410daa70ac33b8d9a8af"
      }
     },
     "bc90bf89b9d2439fac73e4dc0e1bdf20": {
      "model_module": "@jupyter-widgets/controls",
      "model_module_version": "1.5.0",
      "model_name": "LabelModel",
      "state": {
       "layout": "IPY_MODEL_ae5ce80107f04f96909cc997f0e81f94",
       "style": "IPY_MODEL_19b2d3cd9cd34f398010e681783a7471",
       "value": "Workspace"
      }
     },
     "bca1d5491eb54fa5b2ab88c3df62a0fd": {
      "model_module": "@jupyter-widgets/controls",
      "model_module_version": "1.5.0",
      "model_name": "ButtonStyleModel",
      "state": {}
     },
     "bcf0eca41e85406391e82297e4934d19": {
      "model_module": "@jupyter-widgets/controls",
      "model_module_version": "1.5.0",
      "model_name": "DescriptionStyleModel",
      "state": {
       "description_width": "initial"
      }
     },
     "bd17dd7f730748708022cd4eab27d473": {
      "model_module": "@jupyter-widgets/controls",
      "model_module_version": "1.5.0",
      "model_name": "DescriptionStyleModel",
      "state": {
       "description_width": ""
      }
     },
     "bd270aaaa63d4acca84927776acfcd07": {
      "model_module": "@jupyter-widgets/controls",
      "model_module_version": "1.5.0",
      "model_name": "DescriptionStyleModel",
      "state": {
       "description_width": "initial"
      }
     },
     "bd40e939bf8a4f9fbabade3f108c8cb0": {
      "model_module": "@jupyter-widgets/base",
      "model_module_version": "1.2.0",
      "model_name": "LayoutModel",
      "state": {}
     },
     "bd54cbf8076d4f8ea41c115e1a805e93": {
      "model_module": "@jupyter-widgets/base",
      "model_module_version": "1.2.0",
      "model_name": "LayoutModel",
      "state": {
       "grid_area": "filename",
       "width": "auto"
      }
     },
     "bd5a5483031640af8eef4c77afa28b45": {
      "model_module": "@jupyter-widgets/controls",
      "model_module_version": "1.5.0",
      "model_name": "DescriptionStyleModel",
      "state": {
       "description_width": "initial"
      }
     },
     "bd62f1de2a5040beab84087aab9c0695": {
      "model_module": "@jupyter-widgets/controls",
      "model_module_version": "1.5.0",
      "model_name": "DescriptionStyleModel",
      "state": {
       "description_width": "initial"
      }
     },
     "bd6a45db250b41a0bd77fc00c86df565": {
      "model_module": "@jupyter-widgets/controls",
      "model_module_version": "1.5.0",
      "model_name": "DescriptionStyleModel",
      "state": {
       "description_width": "initial"
      }
     },
     "bd850539cf9e4a0b84d51c7d326c14f6": {
      "model_module": "@jupyter-widgets/controls",
      "model_module_version": "1.5.0",
      "model_name": "ButtonStyleModel",
      "state": {}
     },
     "bd90ff679199414aa1109cd5602eb072": {
      "model_module": "@jupyter-widgets/base",
      "model_module_version": "1.2.0",
      "model_name": "LayoutModel",
      "state": {}
     },
     "bdc1403db8324fdf916b0400de2033a8": {
      "model_module": "@jupyter-widgets/controls",
      "model_module_version": "1.5.0",
      "model_name": "DropdownModel",
      "state": {
       "_options_labels": [
        "",
        "Ore/39_Ore_Callinan",
        "Ore/38_Ore_Dan_Owens",
        "Ore/40_Ore_FlinFlon",
        "Workspace/Inversion_VTEM_Model",
        "Workspace/CDI_VTEM_model",
        "Workspace/Data_FEM_pseudo3D",
        "Workspace/geochem",
        "Workspace/Inversion_DIGHEM_Model",
        "Workspace/Topography",
        "Workspace/Data_TEM_pseudo3D",
        "Workspace/Data_ZTEM",
        "Workspace/Mesh"
       ],
       "description": "Core hull extent:",
       "index": 6,
       "layout": "IPY_MODEL_98baac384a0146b08ac02a9a98ef1cee",
       "style": "IPY_MODEL_c0ba01ff1fcb454da16db1f024b1f521"
      }
     },
     "bde3179809d0489ba50dc0afa8e251c6": {
      "model_module": "@jupyter-widgets/controls",
      "model_module_version": "1.5.0",
      "model_name": "DescriptionStyleModel",
      "state": {
       "description_width": ""
      }
     },
     "bdea35a1891a4c03ae4c4a3beead6f40": {
      "model_module": "@jupyter-widgets/controls",
      "model_module_version": "1.5.0",
      "model_name": "HBoxModel",
      "state": {
       "children": [
        "IPY_MODEL_25eae77980774681860da18c5da1caaf",
        "IPY_MODEL_f3eed5988ec54ba9a556692f2845ac04",
        "IPY_MODEL_c24c78b0466f464591710dcbd0100da9"
       ],
       "layout": "IPY_MODEL_0511b2f3529b4883b00930da635fe0db"
      }
     },
     "bdeeb2362311475e8e549ec329af2c56": {
      "model_module": "@jupyter-widgets/base",
      "model_module_version": "1.2.0",
      "model_name": "LayoutModel",
      "state": {
       "border": "solid"
      }
     },
     "bdf73fa080ea4240aedcf94ce1af2551": {
      "model_module": "@jupyter-widgets/controls",
      "model_module_version": "1.5.0",
      "model_name": "ButtonStyleModel",
      "state": {}
     },
     "be01218abc8640258833bda348aefbc8": {
      "model_module": "@jupyter-widgets/controls",
      "model_module_version": "1.5.0",
      "model_name": "ButtonModel",
      "state": {
       "description": "Change",
       "layout": "IPY_MODEL_7ca4f1503be349bd8f17c37117eee528",
       "style": "IPY_MODEL_cd18e08cc3ea4930948cf26124247cfa"
      }
     },
     "be05860f000d4ca4aa613a20d04b3628": {
      "model_module": "@jupyter-widgets/controls",
      "model_module_version": "1.5.0",
      "model_name": "DescriptionStyleModel",
      "state": {
       "description_width": "initial"
      }
     },
     "be2082e209d043c286c9c4f97d0b6df6": {
      "model_module": "@jupyter-widgets/controls",
      "model_module_version": "1.5.0",
      "model_name": "DescriptionStyleModel",
      "state": {
       "description_width": "initial"
      }
     },
     "be23fd2cd5b44b46a325214b6d013cfe": {
      "model_module": "@jupyter-widgets/controls",
      "model_module_version": "1.5.0",
      "model_name": "DescriptionStyleModel",
      "state": {
       "description_width": "initial"
      }
     },
     "be4d4a6081e042728bc4aa4cb3cf62c0": {
      "model_module": "@jupyter-widgets/controls",
      "model_module_version": "1.5.0",
      "model_name": "CheckboxModel",
      "state": {
       "description": "Geoscience ANALYST Pro - Live link",
       "disabled": false,
       "indent": false,
       "layout": "IPY_MODEL_b28ad68d0683452d8a6bb05ee842c2c4",
       "style": "IPY_MODEL_90a7889375e74bea8c0b80dab82134bb",
       "value": false
      }
     },
     "be517786bcf24c4c828e29db6bce369f": {
      "model_module": "@jupyter-widgets/controls",
      "model_module_version": "1.5.0",
      "model_name": "DescriptionStyleModel",
      "state": {
       "description_width": "initial"
      }
     },
     "be51cb38b67949c19c09d14be4b55e08": {
      "model_module": "@jupyter-widgets/controls",
      "model_module_version": "1.5.0",
      "model_name": "DescriptionStyleModel",
      "state": {
       "description_width": ""
      }
     },
     "be6760f5a50d46ebadb86ed2b04858db": {
      "model_module": "@jupyter-widgets/base",
      "model_module_version": "1.2.0",
      "model_name": "LayoutModel",
      "state": {
       "display": "none",
       "grid_gap": "0px 0px",
       "grid_template_areas": "\n                    'pathlist pathlist'\n                    'dircontent dircontent'\n                    ",
       "grid_template_columns": "60% 40%",
       "grid_template_rows": "auto auto",
       "width": "auto"
      }
     },
     "be89aca4df804606870d3012716f0077": {
      "model_module": "@jupyter-widgets/base",
      "model_module_version": "1.2.0",
      "model_name": "LayoutModel",
      "state": {}
     },
     "bec65aacb5314d98be30b9af86f54260": {
      "model_module": "@jupyter-widgets/controls",
      "model_module_version": "1.5.0",
      "model_name": "TextModel",
      "state": {
       "disabled": true,
       "layout": "IPY_MODEL_a5e42d37442d4fb2905b612ee611fd33",
       "placeholder": "output filename",
       "style": "IPY_MODEL_2775eccba47846108b78492790426f69"
      }
     },
     "bee8727d6b2f4804b63954a280a6b603": {
      "model_module": "@jupyter-widgets/base",
      "model_module_version": "1.2.0",
      "model_name": "LayoutModel",
      "state": {
       "display": "none"
      }
     },
     "bf0f4675e96f4c489524c7e41ae6eec6": {
      "model_module": "@jupyter-widgets/base",
      "model_module_version": "1.2.0",
      "model_name": "LayoutModel",
      "state": {}
     },
     "bf22e90e91724450b44cb74863a11657": {
      "model_module": "@jupyter-widgets/base",
      "model_module_version": "1.2.0",
      "model_name": "LayoutModel",
      "state": {}
     },
     "bf4ba7e4e8a342219e4fd26a6650c173": {
      "model_module": "@jupyter-widgets/controls",
      "model_module_version": "1.5.0",
      "model_name": "ButtonModel",
      "state": {
       "description": "Cancel",
       "layout": "IPY_MODEL_38df596d7d854005a21dedb585957dbd",
       "style": "IPY_MODEL_57b86818dd2b4476a21d333aa294031b"
      }
     },
     "bf4feae191c24f48b778e0fdcbe867cb": {
      "model_module": "@jupyter-widgets/base",
      "model_module_version": "1.2.0",
      "model_name": "LayoutModel",
      "state": {}
     },
     "bf512241b6294874851f763e053cb14f": {
      "model_module": "@jupyter-widgets/controls",
      "model_module_version": "1.5.0",
      "model_name": "DescriptionStyleModel",
      "state": {
       "description_width": ""
      }
     },
     "bf5124e047924b258e9057301f8dc30b": {
      "model_module": "@jupyter-widgets/controls",
      "model_module_version": "1.5.0",
      "model_name": "DescriptionStyleModel",
      "state": {
       "description_width": ""
      }
     },
     "bf62d4fedc8d40b5b4886bd6b63661e1": {
      "model_module": "@jupyter-widgets/base",
      "model_module_version": "1.2.0",
      "model_name": "LayoutModel",
      "state": {}
     },
     "bf798c7240de49d6b6bcdb3646dc4e7f": {
      "model_module": "@jupyter-widgets/controls",
      "model_module_version": "1.5.0",
      "model_name": "DescriptionStyleModel",
      "state": {
       "description_width": ""
      }
     },
     "bf80e5cd10724f76bc7e411f34592ba3": {
      "model_module": "@jupyter-widgets/controls",
      "model_module_version": "1.5.0",
      "model_name": "DropdownModel",
      "state": {
       "_options_labels": [
        "",
        "--- Channels ---",
        "CPI900",
        "CPI7200",
        "CPI56k",
        "CPQ900",
        "CPQ7200",
        "CPQ56k",
        "DEM",
        "Line",
        "X",
        "Y",
        "Z"
       ],
       "description": "Data: ",
       "index": 0,
       "layout": "IPY_MODEL_79e40ea5f26e4c85b908c29f43952088",
       "style": "IPY_MODEL_b84d45777b684b909ab889e297284067"
      }
     },
     "bf83d6af8d7b45b8aac312273d82ee2a": {
      "model_module": "@jupyter-widgets/controls",
      "model_module_version": "1.5.0",
      "model_name": "ButtonStyleModel",
      "state": {}
     },
     "bf8d629760314c0d980065f7738f3fa9": {
      "model_module": "@jupyter-widgets/controls",
      "model_module_version": "1.5.0",
      "model_name": "DescriptionStyleModel",
      "state": {
       "description_width": "initial"
      }
     },
     "bf93259e689b41c1997c0c72ff5e20f0": {
      "model_module": "@jupyter-widgets/base",
      "model_module_version": "1.2.0",
      "model_name": "LayoutModel",
      "state": {}
     },
     "bfbdc37508014f28b2580a0950ec19f8": {
      "model_module": "@jupyter-widgets/controls",
      "model_module_version": "1.5.0",
      "model_name": "DescriptionStyleModel",
      "state": {
       "description_width": "initial"
      }
     },
     "bfbeae74e20045c7b805760f103e0796": {
      "model_module": "@jupyter-widgets/controls",
      "model_module_version": "1.5.0",
      "model_name": "DescriptionStyleModel",
      "state": {
       "description_width": ""
      }
     },
     "bfc17322694e42e7bc863d3b3f535971": {
      "model_module": "@jupyter-widgets/controls",
      "model_module_version": "1.5.0",
      "model_name": "HTMLModel",
      "state": {
       "layout": "IPY_MODEL_3b0c7f5401904a9d997fbc1ee07cf7cb",
       "style": "IPY_MODEL_c8f3686d38ca4dfe903934216560eee8"
      }
     },
     "bfdd108175064ad6bedb9f67f03f53ed": {
      "model_module": "@jupyter-widgets/base",
      "model_module_version": "1.2.0",
      "model_name": "LayoutModel",
      "state": {}
     },
     "bfe7bbfc323e4bcda76c04119dc1a6ea": {
      "model_module": "@jupyter-widgets/controls",
      "model_module_version": "1.5.0",
      "model_name": "DescriptionStyleModel",
      "state": {
       "description_width": ""
      }
     },
     "c021194fa105412abb72eef639627dd5": {
      "model_module": "@jupyter-widgets/controls",
      "model_module_version": "1.5.0",
      "model_name": "TextModel",
      "state": {
       "description": "Levels",
       "layout": "IPY_MODEL_845af16214514b0a954bdb323769580d",
       "style": "IPY_MODEL_8e12e5b578e54e4da734154c7a775df0",
       "value": "4, 4, 4"
      }
     },
     "c0287c65f2b542768c1a0fb2977ce1fc": {
      "model_module": "@jupyter-widgets/base",
      "model_module_version": "1.2.0",
      "model_name": "LayoutModel",
      "state": {
       "width": "500px"
      }
     },
     "c02f18df28704a14a49c3240e3981d3a": {
      "model_module": "@jupyter-widgets/controls",
      "model_module_version": "1.5.0",
      "model_name": "DescriptionStyleModel",
      "state": {
       "description_width": "initial"
      }
     },
     "c031d7bc421c4bcd9a803c63222bad47": {
      "model_module": "@jupyter-widgets/base",
      "model_module_version": "1.2.0",
      "model_name": "LayoutModel",
      "state": {
       "grid_area": "dircontent",
       "width": "auto"
      }
     },
     "c03680f2b30947678b697e03290c8304": {
      "model_module": "@jupyter-widgets/controls",
      "model_module_version": "1.5.0",
      "model_name": "ButtonStyleModel",
      "state": {}
     },
     "c0375fa2d7c248d3b7ec6b79578634d6": {
      "model_module": "@jupyter-widgets/controls",
      "model_module_version": "1.5.0",
      "model_name": "VBoxModel",
      "state": {
       "children": [
        "IPY_MODEL_1e6cc04c8a36431aad965eabb1e69b11",
        "IPY_MODEL_6e7ed268ba58493babea755586cd815d"
       ],
       "layout": "IPY_MODEL_407a9dbd72474d6383290208335d500b"
      }
     },
     "c05902ff1a924423adad065cd741e72f": {
      "model_module": "@jupyter-widgets/controls",
      "model_module_version": "1.5.0",
      "model_name": "FloatTextModel",
      "state": {
       "description": "Easting",
       "layout": "IPY_MODEL_32fbc049b30f4c4690dae6bf8ae27ae2",
       "step": null,
       "style": "IPY_MODEL_50d4030c70a44861820cb4fa00453729",
       "value": 25
      }
     },
     "c05d6ce8024d45e7bcff824817aff7d0": {
      "model_module": "@jupyter-widgets/controls",
      "model_module_version": "1.5.0",
      "model_name": "DescriptionStyleModel",
      "state": {
       "description_width": "initial"
      }
     },
     "c075d62424984d629dd674d180c561dc": {
      "model_module": "@jupyter-widgets/controls",
      "model_module_version": "1.5.0",
      "model_name": "ButtonStyleModel",
      "state": {}
     },
     "c0778236656a48749a1bf2d18108c43d": {
      "model_module": "@jupyter-widgets/base",
      "model_module_version": "1.2.0",
      "model_name": "LayoutModel",
      "state": {}
     },
     "c0ba01ff1fcb454da16db1f024b1f521": {
      "model_module": "@jupyter-widgets/controls",
      "model_module_version": "1.5.0",
      "model_name": "DescriptionStyleModel",
      "state": {
       "description_width": "initial"
      }
     },
     "c0c1f7f47438477b99ab838fa1213485": {
      "model_module": "@jupyter-widgets/base",
      "model_module_version": "1.2.0",
      "model_name": "LayoutModel",
      "state": {}
     },
     "c0c7cacc34c54081a79780419974d7df": {
      "model_module": "@jupyter-widgets/base",
      "model_module_version": "1.2.0",
      "model_name": "LayoutModel",
      "state": {}
     },
     "c0f85c3793cb43bb9f155d4ac6e78ae2": {
      "model_module": "@jupyter-widgets/controls",
      "model_module_version": "1.5.0",
      "model_name": "DescriptionStyleModel",
      "state": {
       "description_width": ""
      }
     },
     "c115cb82b07f4287b452fbaa27144726": {
      "model_module": "@jupyter-widgets/controls",
      "model_module_version": "1.5.0",
      "model_name": "DescriptionStyleModel",
      "state": {
       "description_width": ""
      }
     },
     "c1178d2340dc46b28fa81914800c94be": {
      "model_module": "@jupyter-widgets/controls",
      "model_module_version": "1.5.0",
      "model_name": "DescriptionStyleModel",
      "state": {
       "description_width": "initial"
      }
     },
     "c199761f78964ad5bc19c97badf43188": {
      "model_module": "@jupyter-widgets/controls",
      "model_module_version": "1.5.0",
      "model_name": "DescriptionStyleModel",
      "state": {
       "description_width": ""
      }
     },
     "c19cebda41ad49478163789df641b026": {
      "model_module": "@jupyter-widgets/controls",
      "model_module_version": "1.5.0",
      "model_name": "DescriptionStyleModel",
      "state": {
       "description_width": ""
      }
     },
     "c1a79bfa9413477ab44f36ef374a157c": {
      "model_module": "@jupyter-widgets/base",
      "model_module_version": "1.2.0",
      "model_name": "LayoutModel",
      "state": {}
     },
     "c1e355616f024a0790952d542bb582d3": {
      "model_module": "@jupyter-widgets/base",
      "model_module_version": "1.2.0",
      "model_name": "LayoutModel",
      "state": {
       "border": "solid"
      }
     },
     "c1fbc5dd3fbb4a3d913b27284b8df209": {
      "model_module": "@jupyter-widgets/base",
      "model_module_version": "1.2.0",
      "model_name": "LayoutModel",
      "state": {}
     },
     "c1ffc2cee73c44cc90ccaeb6d8fecc69": {
      "model_module": "@jupyter-widgets/controls",
      "model_module_version": "1.5.0",
      "model_name": "DescriptionStyleModel",
      "state": {
       "description_width": ""
      }
     },
     "c2012b20991e4f25b956e00ff53a43ab": {
      "model_module": "@jupyter-widgets/controls",
      "model_module_version": "1.5.0",
      "model_name": "DescriptionStyleModel",
      "state": {
       "description_width": "initial"
      }
     },
     "c22700968604437a871da59bb52f99d1": {
      "model_module": "@jupyter-widgets/base",
      "model_module_version": "1.2.0",
      "model_name": "LayoutModel",
      "state": {}
     },
     "c24c78b0466f464591710dcbd0100da9": {
      "model_module": "@jupyter-widgets/controls",
      "model_module_version": "1.5.0",
      "model_name": "HTMLModel",
      "state": {
       "layout": "IPY_MODEL_c89255e72d394587ba73b5d6986c0c75",
       "placeholder": "",
       "style": "IPY_MODEL_0252dce061064b87914b35546f0db7ad",
       "value": "<span style=\"margin-left:10px; color:orange;\">C:\\Users\\dominiquef\\Documents\\GIT\\mira\\geoapps\\assets\\FlinFlon.geoh5</span>"
      }
     },
     "c27d4cbad213439b903f960897ef0c3c": {
      "model_module": "@jupyter-widgets/controls",
      "model_module_version": "1.5.0",
      "model_name": "FloatTextModel",
      "state": {
       "description": "Easting",
       "layout": "IPY_MODEL_5dce4ee89df74f97bc387f3bf2785021",
       "step": null,
       "style": "IPY_MODEL_0a1960f75d03445694292f0f4424e79f",
       "value": 25
      }
     },
     "c2af1fd979334286a6c5857fc5085cec": {
      "model_module": "@jupyter-widgets/controls",
      "model_module_version": "1.5.0",
      "model_name": "DescriptionStyleModel",
      "state": {
       "description_width": "initial"
      }
     },
     "c2b983044009403ea4948dbdcccb9ee6": {
      "model_module": "@jupyter-widgets/controls",
      "model_module_version": "1.5.0",
      "model_name": "DescriptionStyleModel",
      "state": {
       "description_width": "initial"
      }
     },
     "c2c3b8ccb8f345f7bb9a8f42c4b79371": {
      "model_module": "@jupyter-widgets/controls",
      "model_module_version": "1.5.0",
      "model_name": "DescriptionStyleModel",
      "state": {
       "description_width": ""
      }
     },
     "c2cec9f8dd8340468a23662384253b07": {
      "model_module": "@jupyter-widgets/controls",
      "model_module_version": "1.5.0",
      "model_name": "LabelModel",
      "state": {
       "layout": "IPY_MODEL_e5a9a4d4c9244f6db352758697a67da7",
       "style": "IPY_MODEL_895fb08a96724ce2beb07db873d0a06b",
       "value": "Core cell size"
      }
     },
     "c2e0da9b53b149699b09f86b28adca5a": {
      "model_module": "@jupyter-widgets/controls",
      "model_module_version": "1.5.0",
      "model_name": "ButtonStyleModel",
      "state": {}
     },
     "c2ef21c068f44d29b877155f2f7c261f": {
      "model_module": "@jupyter-widgets/base",
      "model_module_version": "1.2.0",
      "model_name": "LayoutModel",
      "state": {}
     },
     "c31c07f25afc4cd6b0298f0ca6072d15": {
      "model_module": "@jupyter-widgets/base",
      "model_module_version": "1.2.0",
      "model_name": "LayoutModel",
      "state": {
       "overflow": "auto"
      }
     },
     "c326e647d35543f2a0117db29a3e80cc": {
      "model_module": "@jupyter-widgets/controls",
      "model_module_version": "1.5.0",
      "model_name": "FloatTextModel",
      "state": {
       "description": "Distance",
       "layout": "IPY_MODEL_30304c6766e4420e8f43a7223d6029ff",
       "step": null,
       "style": "IPY_MODEL_4ad8b48764ff4d17ae6b8481a93dea22",
       "value": 1000
      }
     },
     "c3284419d6c14f52a86e8a272f549638": {
      "model_module": "@jupyter-widgets/controls",
      "model_module_version": "1.5.0",
      "model_name": "DescriptionStyleModel",
      "state": {
       "description_width": ""
      }
     },
     "c34e7d9f6eb14f27b1e3c72ce0d492b1": {
      "model_module": "@jupyter-widgets/base",
      "model_module_version": "1.2.0",
      "model_name": "LayoutModel",
      "state": {}
     },
     "c35cff77dd8f4c1a8898ba4d7e392ec1": {
      "model_module": "@jupyter-widgets/base",
      "model_module_version": "1.2.0",
      "model_name": "LayoutModel",
      "state": {
       "border": "solid"
      }
     },
     "c37325c20cc04435ab62235a9e7ae13f": {
      "model_module": "@jupyter-widgets/controls",
      "model_module_version": "1.5.0",
      "model_name": "DescriptionStyleModel",
      "state": {
       "description_width": "initial"
      }
     },
     "c37e743bd44c44ebb1aa7fdc7762ca79": {
      "model_module": "@jupyter-widgets/base",
      "model_module_version": "1.2.0",
      "model_name": "LayoutModel",
      "state": {
       "border": "solid"
      }
     },
     "c37fcf083ff0408b97038866fa1a3166": {
      "model_module": "@jupyter-widgets/controls",
      "model_module_version": "1.5.0",
      "model_name": "DescriptionStyleModel",
      "state": {
       "description_width": "initial"
      }
     },
     "c388e0cf48b344838637a60dbf5cf52c": {
      "model_module": "@jupyter-widgets/base",
      "model_module_version": "1.2.0",
      "model_name": "LayoutModel",
      "state": {
       "margin": "0 0 0 1em"
      }
     },
     "c3937293665d48298ed0dad8320f532c": {
      "model_module": "@jupyter-widgets/controls",
      "model_module_version": "1.5.0",
      "model_name": "DescriptionStyleModel",
      "state": {
       "description_width": ""
      }
     },
     "c39b8e82ec0b4f088761d8b6025b2009": {
      "model_module": "@jupyter-widgets/controls",
      "model_module_version": "1.5.0",
      "model_name": "HTMLModel",
      "state": {
       "layout": "IPY_MODEL_ef5cd46ffe56431ea78223baddb976dc",
       "style": "IPY_MODEL_28eb87d3a06049f6a898536c479e0059"
      }
     },
     "c3cf9bbf192647789d4afb9aadbe28b2": {
      "model_module": "@jupyter-widgets/controls",
      "model_module_version": "1.5.0",
      "model_name": "ButtonStyleModel",
      "state": {}
     },
     "c3f2a8fbdd014c9ab1e8b6af6225937f": {
      "model_module": "@jupyter-widgets/controls",
      "model_module_version": "1.5.0",
      "model_name": "DescriptionStyleModel",
      "state": {
       "description_width": "initial"
      }
     },
     "c405975f6294459cb48748f9f15a05d5": {
      "model_module": "@jupyter-widgets/controls",
      "model_module_version": "1.5.0",
      "model_name": "DropdownModel",
      "state": {
       "_options_labels": [
        "",
        "--- Channels ---",
        "CPI56k",
        "CPI7200",
        "CPI900",
        "CPQ56k",
        "CPQ7200",
        "CPQ900",
        "DEM",
        "Line",
        "Z"
       ],
       "description": "Data: ",
       "index": 0,
       "layout": "IPY_MODEL_a4cc597368b642c590b98ca800210d47",
       "style": "IPY_MODEL_b2314b608c4c4dac816d605dfbfd7b91"
      }
     },
     "c4061299ab9544a196d5f6035b77938a": {
      "model_module": "@jupyter-widgets/controls",
      "model_module_version": "1.5.0",
      "model_name": "BoxModel",
      "state": {
       "children": [
        "IPY_MODEL_0239dcf7a8ad4e0c8f87e5337509c1b1"
       ],
       "layout": "IPY_MODEL_fcde0307d10240eaa956ce11fcecbd7e"
      }
     },
     "c422b73a568a48788292cc062d24eb8e": {
      "model_module": "@jupyter-widgets/controls",
      "model_module_version": "1.5.0",
      "model_name": "DescriptionStyleModel",
      "state": {
       "description_width": "initial"
      }
     },
     "c4251a2ce88b4b18a39bc5b3881b7819": {
      "model_module": "@jupyter-widgets/controls",
      "model_module_version": "1.5.0",
      "model_name": "HTMLModel",
      "state": {
       "layout": "IPY_MODEL_0e57486c797f43dbb8dcfe2e60d8429a",
       "style": "IPY_MODEL_bc60b6b7d3f043f3b99aea6dbbf6e431"
      }
     },
     "c42dc680892b40a3bcc1149068af44f7": {
      "model_module": "@jupyter-widgets/controls",
      "model_module_version": "1.5.0",
      "model_name": "DropdownModel",
      "state": {
       "_options_labels": [
        "surface",
        "radial"
       ],
       "description": "Type",
       "index": 0,
       "layout": "IPY_MODEL_dfd62ff43bf245d4be27dab5afecb07c",
       "style": "IPY_MODEL_fb4a322753364787a7fa86a3604a20c4"
      }
     },
     "c4371579eb4f4074baa063762f5fe193": {
      "model_module": "@jupyter-widgets/controls",
      "model_module_version": "1.5.0",
      "model_name": "HBoxModel",
      "state": {
       "children": [
        "IPY_MODEL_0a96ceb7a57d49d6b6ee4bfb016e38e4",
        "IPY_MODEL_0127b1f12f1547f6b21d0c1bdb0de24a",
        "IPY_MODEL_f153c47d519c4dbebb431ed455af9feb"
       ],
       "layout": "IPY_MODEL_0a37ae214f6249a3923484699a0e3c05"
      }
     },
     "c43a0811252741319854b30e61a1ef02": {
      "model_module": "@jupyter-widgets/controls",
      "model_module_version": "1.5.0",
      "model_name": "DescriptionStyleModel",
      "state": {
       "description_width": "initial"
      }
     },
     "c443a353ffb2417fb0727e86d455624c": {
      "model_module": "@jupyter-widgets/base",
      "model_module_version": "1.2.0",
      "model_name": "LayoutModel",
      "state": {}
     },
     "c446da82302c4229b37aab3d87d43b5f": {
      "model_module": "@jupyter-widgets/controls",
      "model_module_version": "1.5.0",
      "model_name": "DescriptionStyleModel",
      "state": {
       "description_width": ""
      }
     },
     "c44b7820900a468da362adcc8229e286": {
      "model_module": "@jupyter-widgets/controls",
      "model_module_version": "1.5.0",
      "model_name": "LabelModel",
      "state": {
       "layout": "IPY_MODEL_adcf1bd5f16341ea8b8dde02930ff0b6",
       "style": "IPY_MODEL_19bfe02d151e41289afdd548709fc578",
       "value": "Core cell size"
      }
     },
     "c450ea60031e48d184df616b17d464e6": {
      "model_module": "@jupyter-widgets/controls",
      "model_module_version": "1.5.0",
      "model_name": "LabelModel",
      "state": {
       "layout": "IPY_MODEL_cc0a8972b1de4e4ebc7a3f56d2f333af",
       "style": "IPY_MODEL_981fec2c670b40528e89effffc6a549a",
       "value": "Refinement A"
      }
     },
     "c45ef04583d64a229c67fca4624d8bdd": {
      "model_module": "@jupyter-widgets/controls",
      "model_module_version": "1.5.0",
      "model_name": "DescriptionStyleModel",
      "state": {
       "description_width": ""
      }
     },
     "c4763ab288df48b89fd9996743e8e2cb": {
      "model_module": "@jupyter-widgets/base",
      "model_module_version": "1.2.0",
      "model_name": "LayoutModel",
      "state": {
       "min_width": "6em",
       "width": "6em"
      }
     },
     "c48a1c9db04946b4bf381fddaae24451": {
      "model_module": "@jupyter-widgets/base",
      "model_module_version": "1.2.0",
      "model_name": "LayoutModel",
      "state": {
       "overflow": "auto"
      }
     },
     "c48e693b6ef64c27910dd8f1b8dc778f": {
      "model_module": "@jupyter-widgets/controls",
      "model_module_version": "1.5.0",
      "model_name": "DescriptionStyleModel",
      "state": {
       "description_width": "initial"
      }
     },
     "c4a048216c7f4ddd8d04993b189b2857": {
      "model_module": "@jupyter-widgets/controls",
      "model_module_version": "1.5.0",
      "model_name": "DescriptionStyleModel",
      "state": {
       "description_width": "initial"
      }
     },
     "c4c52fb6ace142ebad2b3370499951dd": {
      "model_module": "@jupyter-widgets/controls",
      "model_module_version": "1.5.0",
      "model_name": "LabelModel",
      "state": {
       "layout": "IPY_MODEL_07af2653837849bd85301d78820c1fa3",
       "style": "IPY_MODEL_63dae16705d54eadb7a0ab269a187511",
       "value": "Workspace"
      }
     },
     "c4d2b00a47004f7e98a564794a4f59e8": {
      "model_module": "@jupyter-widgets/controls",
      "model_module_version": "1.5.0",
      "model_name": "LabelModel",
      "state": {
       "layout": "IPY_MODEL_6f6d20838b9749ad89b2f020657ae0ff",
       "style": "IPY_MODEL_01aa99b764414e24973b7daee8ab7fe7",
       "value": "Padding distance"
      }
     },
     "c4d3630ff0154ad69f1929723079a7da": {
      "model_module": "@jupyter-widgets/base",
      "model_module_version": "1.2.0",
      "model_name": "LayoutModel",
      "state": {
       "border": "solid"
      }
     },
     "c4f5fe746ca94ff3ad74b6728baaf69a": {
      "model_module": "@jupyter-widgets/controls",
      "model_module_version": "1.5.0",
      "model_name": "DescriptionStyleModel",
      "state": {
       "description_width": ""
      }
     },
     "c509ad64df9c43f891f741e610f71b03": {
      "model_module": "@jupyter-widgets/controls",
      "model_module_version": "1.5.0",
      "model_name": "DescriptionStyleModel",
      "state": {
       "description_width": "initial"
      }
     },
     "c50f2a336ee7405999d693df50f0fa40": {
      "model_module": "@jupyter-widgets/controls",
      "model_module_version": "1.5.0",
      "model_name": "ButtonModel",
      "state": {
       "description": "Cancel",
       "layout": "IPY_MODEL_74e07553b1d04c4fabc6fa4ace6b4ca7",
       "style": "IPY_MODEL_a694fc02a5994f09a2178d5fa94ec368"
      }
     },
     "c52a614d7c2740fa805baf02c8981240": {
      "model_module": "@jupyter-widgets/controls",
      "model_module_version": "1.5.0",
      "model_name": "DescriptionStyleModel",
      "state": {
       "description_width": "initial"
      }
     },
     "c52dc24a32b3459a99edf033db57aca9": {
      "model_module": "@jupyter-widgets/controls",
      "model_module_version": "1.5.0",
      "model_name": "VBoxModel",
      "state": {
       "children": [
        "IPY_MODEL_21dfa724c8d047048950364c64ff52a0",
        "IPY_MODEL_ffd33d127f794a9f8b315eeb5fc7e2b8"
       ],
       "layout": "IPY_MODEL_31d16273253c4425886c7ec09c507cb5"
      }
     },
     "c532e1920a4f49d1adc86501fdae72af": {
      "model_module": "@jupyter-widgets/controls",
      "model_module_version": "1.5.0",
      "model_name": "DescriptionStyleModel",
      "state": {
       "description_width": ""
      }
     },
     "c53c8621d4a341ed8cf27719f07ee371": {
      "model_module": "@jupyter-widgets/base",
      "model_module_version": "1.2.0",
      "model_name": "LayoutModel",
      "state": {}
     },
     "c54fa70b3b7943b19ff81cf109eee15d": {
      "model_module": "@jupyter-widgets/base",
      "model_module_version": "1.2.0",
      "model_name": "LayoutModel",
      "state": {
       "overflow": "auto"
      }
     },
     "c569dc66044d4446aa65c66a926ef190": {
      "model_module": "@jupyter-widgets/controls",
      "model_module_version": "1.5.0",
      "model_name": "DescriptionStyleModel",
      "state": {
       "description_width": "initial"
      }
     },
     "c56c0b4dc02f457796a1806f738bdb55": {
      "model_module": "@jupyter-widgets/controls",
      "model_module_version": "1.5.0",
      "model_name": "ButtonModel",
      "state": {
       "description": "Change",
       "layout": "IPY_MODEL_3e2c687ec83b4589bfb1eb1e93c08731",
       "style": "IPY_MODEL_963024dbaa804791b66692ba9ec30195"
      }
     },
     "c58fb60349114a038b718bea34d23374": {
      "model_module": "@jupyter-widgets/controls",
      "model_module_version": "1.5.0",
      "model_name": "DescriptionStyleModel",
      "state": {
       "description_width": "initial"
      }
     },
     "c59080383e8e4c0c87af4ec33ba0a302": {
      "model_module": "@jupyter-widgets/controls",
      "model_module_version": "1.5.0",
      "model_name": "DescriptionStyleModel",
      "state": {
       "description_width": ""
      }
     },
     "c59e095513324f119505488e715f2197": {
      "model_module": "@jupyter-widgets/base",
      "model_module_version": "1.2.0",
      "model_name": "LayoutModel",
      "state": {}
     },
     "c59e4924463a45218748c4b927fe64c5": {
      "model_module": "@jupyter-widgets/controls",
      "model_module_version": "1.5.0",
      "model_name": "DescriptionStyleModel",
      "state": {
       "description_width": "initial"
      }
     },
     "c5d0f1e64d2341619cbef5ef15d5cf3c": {
      "model_module": "@jupyter-widgets/controls",
      "model_module_version": "1.5.0",
      "model_name": "DescriptionStyleModel",
      "state": {
       "description_width": ""
      }
     },
     "c5dbc5c924d94e708c1107e89a2cec87": {
      "model_module": "@jupyter-widgets/controls",
      "model_module_version": "1.5.0",
      "model_name": "DescriptionStyleModel",
      "state": {
       "description_width": "initial"
      }
     },
     "c5eb6e75ed3548a1846ee66d959b6141": {
      "model_module": "@jupyter-widgets/controls",
      "model_module_version": "1.5.0",
      "model_name": "FloatTextModel",
      "state": {
       "description": "Horizontal (m)",
       "layout": "IPY_MODEL_3c303695eef54aa783e86125683b2893",
       "step": null,
       "style": "IPY_MODEL_732a0a6efdea40bb83efa7497da9e533",
       "value": 1000
      }
     },
     "c6044b11105d433f80bc3b698ca67900": {
      "model_module": "@jupyter-widgets/controls",
      "model_module_version": "1.5.0",
      "model_name": "ButtonStyleModel",
      "state": {}
     },
     "c6199a7f3acd4fe48aa237789ceac5e1": {
      "model_module": "@jupyter-widgets/controls",
      "model_module_version": "1.5.0",
      "model_name": "HTMLModel",
      "state": {
       "layout": "IPY_MODEL_9f059175beed48acbef407d9dd9c3590",
       "style": "IPY_MODEL_b9bbb491afc341ce9cfd68cbb5ddcb8a"
      }
     },
     "c61c71c15f4140c6ac28948c5a78f970": {
      "model_module": "@jupyter-widgets/base",
      "model_module_version": "1.2.0",
      "model_name": "LayoutModel",
      "state": {
       "grid_area": "filename",
       "width": "auto"
      }
     },
     "c63e04c5b3cd4ef0993d5023d567bbb7": {
      "model_module": "@jupyter-widgets/controls",
      "model_module_version": "1.5.0",
      "model_name": "DescriptionStyleModel",
      "state": {
       "description_width": "initial"
      }
     },
     "c6457efbc31343928a5613d7caced623": {
      "model_module": "@jupyter-widgets/controls",
      "model_module_version": "1.5.0",
      "model_name": "VBoxModel",
      "state": {
       "children": [
        "IPY_MODEL_7e1afc02135b4e00a29a29de789d8718"
       ],
       "layout": "IPY_MODEL_836856d29a2b459181a796bb898b30e2"
      }
     },
     "c64c7537975445328e05167f0e635e54": {
      "model_module": "@jupyter-widgets/base",
      "model_module_version": "1.2.0",
      "model_name": "LayoutModel",
      "state": {
       "grid_area": "pathlist",
       "width": "auto"
      }
     },
     "c664e6e06863409a86bc9533f3f96ddb": {
      "model_module": "@jupyter-widgets/controls",
      "model_module_version": "1.5.0",
      "model_name": "VBoxModel",
      "state": {
       "children": [
        "IPY_MODEL_d3e0fc19fff94f73995771fe5bdfdc49"
       ],
       "layout": "IPY_MODEL_2bab0e10c6264fb1bccb759916f9ab0c"
      }
     },
     "c665c0687fc145bb9047eda45e87a219": {
      "model_module": "@jupyter-widgets/controls",
      "model_module_version": "1.5.0",
      "model_name": "DescriptionStyleModel",
      "state": {
       "description_width": ""
      }
     },
     "c66ff5d20c94435180cd0e9a20274484": {
      "model_module": "@jupyter-widgets/controls",
      "model_module_version": "1.5.0",
      "model_name": "VBoxModel",
      "state": {
       "children": [
        "IPY_MODEL_5b175ad78f394f57b6bed52f36738415",
        "IPY_MODEL_0477aa60c90141a38f06a79fb9da6ca4",
        "IPY_MODEL_367687a62b5f406fa723f94a1fb32b23"
       ],
       "layout": "IPY_MODEL_559af9c6acc0418e8e8d2f760a9e6679"
      }
     },
     "c683e1d0d61f49a2ae49512d473ce47d": {
      "model_module": "@jupyter-widgets/controls",
      "model_module_version": "1.5.0",
      "model_name": "DropdownModel",
      "state": {
       "_options_labels": [
        "surface",
        "radial"
       ],
       "description": "Type",
       "index": 0,
       "layout": "IPY_MODEL_abf898b1ceab4048bad7cc5575a51b44",
       "style": "IPY_MODEL_ce2ff5d93cef49eb9595f33b77ecefa7"
      }
     },
     "c6915c04287e4cf58ed9143023b20a9e": {
      "model_module": "@jupyter-widgets/controls",
      "model_module_version": "1.5.0",
      "model_name": "DescriptionStyleModel",
      "state": {
       "description_width": ""
      }
     },
     "c6967c80449b4dca85c188e457f67a68": {
      "model_module": "@jupyter-widgets/controls",
      "model_module_version": "1.5.0",
      "model_name": "DescriptionStyleModel",
      "state": {
       "description_width": ""
      }
     },
     "c6b5c88c3b45401690346e4cb575739e": {
      "model_module": "@jupyter-widgets/controls",
      "model_module_version": "1.5.0",
      "model_name": "GridBoxModel",
      "state": {
       "children": [
        "IPY_MODEL_84e7bc53afaf4b87b1f21c48df4ee2d8",
        "IPY_MODEL_3bcdf235489240c4ab26f37ada3b9c25",
        "IPY_MODEL_9f7ab829e49d4b58b5410e4eda70796c"
       ],
       "layout": "IPY_MODEL_d7401c900bd24f86b9f83e110b735e3f"
      }
     },
     "c6d1097b2cfc4a2daad1ecac17ee0699": {
      "model_module": "@jupyter-widgets/controls",
      "model_module_version": "1.5.0",
      "model_name": "DescriptionStyleModel",
      "state": {
       "description_width": ""
      }
     },
     "c6d42e6222cc4e1eb19f55f3f00b9bc5": {
      "model_module": "@jupyter-widgets/controls",
      "model_module_version": "1.5.0",
      "model_name": "VBoxModel",
      "state": {
       "children": [
        "IPY_MODEL_4eec9e6528bd4c8483e0b39e918f07a0",
        "IPY_MODEL_ecd6556283c842cc9b24bf3299416ff6"
       ],
       "layout": "IPY_MODEL_c98b973435264a7099b5ce42a4d12c11"
      }
     },
     "c6e1d79ff0d14796ba34bd2d1a3fe18e": {
      "model_module": "@jupyter-widgets/controls",
      "model_module_version": "1.5.0",
      "model_name": "VBoxModel",
      "state": {
       "children": [
        "IPY_MODEL_4a71ac1f2b6c4bcaab05b6ae4d777263",
        "IPY_MODEL_00b1983df22b422f97011a1084e7beda"
       ],
       "layout": "IPY_MODEL_6e5db0e3fa6d4de0a09bd7cbf4f85f66"
      }
     },
     "c6ed0d62fcbe4bd0b624ebe3e0eb4ae9": {
      "model_module": "@jupyter-widgets/controls",
      "model_module_version": "1.5.0",
      "model_name": "VBoxModel",
      "state": {
       "children": [
        "IPY_MODEL_aac58b27fc0b4f07a1dbd79f0e80da42",
        "IPY_MODEL_b72782ee160145caa5dd85e20c40fc89"
       ],
       "layout": "IPY_MODEL_3301848290f2430ebd1e7b1c92aa070b"
      }
     },
     "c6f8b4259f2f4ce581a30b6be5bfe451": {
      "model_module": "@jupyter-widgets/controls",
      "model_module_version": "1.5.0",
      "model_name": "DropdownModel",
      "state": {
       "_options_labels": [
        "C:\\Users\\dominiquef\\Documents\\GIT\\mira\\geoapps\\assets",
        "C:\\Users\\dominiquef\\Documents\\GIT\\mira\\geoapps",
        "C:\\Users\\dominiquef\\Documents\\GIT\\mira",
        "C:\\Users\\dominiquef\\Documents\\GIT",
        "C:\\Users\\dominiquef\\Documents",
        "C:\\Users\\dominiquef",
        "C:\\Users",
        "C:\\",
        "D:\\",
        "G:\\",
        "\\\\EgnyteDrive\\mirageoscience\\"
       ],
       "index": 0,
       "layout": "IPY_MODEL_7523ce8ec36e48008344fd89d6850a06",
       "style": "IPY_MODEL_732fddc45ca647399b9a59a7b1b73420"
      }
     },
     "c6fe38b06f9f4feb867b6636700f1c39": {
      "model_module": "@jupyter-widgets/controls",
      "model_module_version": "1.5.0",
      "model_name": "LabelModel",
      "state": {
       "layout": "IPY_MODEL_be89aca4df804606870d3012716f0077",
       "style": "IPY_MODEL_5b73f86bd9e9493bb13740f0fdaf6677",
       "value": "Refinement B"
      }
     },
     "c70fa376f29e42408ccee92488dba480": {
      "model_module": "@jupyter-widgets/controls",
      "model_module_version": "1.5.0",
      "model_name": "DescriptionStyleModel",
      "state": {
       "description_width": ""
      }
     },
     "c71ca58a328f44dda311ac239a9d1e96": {
      "model_module": "@jupyter-widgets/controls",
      "model_module_version": "1.5.0",
      "model_name": "DescriptionStyleModel",
      "state": {
       "description_width": "initial"
      }
     },
     "c71cfa5fbe654c138f48906af3748f62": {
      "model_module": "@jupyter-widgets/base",
      "model_module_version": "1.2.0",
      "model_name": "LayoutModel",
      "state": {
       "grid_area": "filename",
       "width": "auto"
      }
     },
     "c7291b7b542f4c9eb1d3d00c4af3167a": {
      "model_module": "@jupyter-widgets/base",
      "model_module_version": "1.2.0",
      "model_name": "LayoutModel",
      "state": {
       "grid_area": "dircontent",
       "width": "auto"
      }
     },
     "c729f7de0e9f43bc85a2eb162fce2911": {
      "model_module": "@jupyter-widgets/controls",
      "model_module_version": "1.5.0",
      "model_name": "FloatTextModel",
      "state": {
       "description": "Easting",
       "layout": "IPY_MODEL_e7acef1c42034627b51c7ef3baf3c19b",
       "step": null,
       "style": "IPY_MODEL_39d71b705b9246888c9102fae955bb9a",
       "value": 25
      }
     },
     "c73641ef972d44b4a65685de482fd3ea": {
      "model_module": "@jupyter-widgets/controls",
      "model_module_version": "1.5.0",
      "model_name": "ButtonStyleModel",
      "state": {}
     },
     "c73d463a1f8d495a9f0c1b00a7734b21": {
      "model_module": "@jupyter-widgets/controls",
      "model_module_version": "1.5.0",
      "model_name": "DescriptionStyleModel",
      "state": {
       "description_width": "initial"
      }
     },
     "c756ab498c864f269f4b198086cdd29a": {
      "model_module": "@jupyter-widgets/base",
      "model_module_version": "1.2.0",
      "model_name": "LayoutModel",
      "state": {}
     },
     "c76c01f301a64ae4ba996e2a616cc246": {
      "model_module": "@jupyter-widgets/controls",
      "model_module_version": "1.5.0",
      "model_name": "DescriptionStyleModel",
      "state": {
       "description_width": ""
      }
     },
     "c7761fd6a108433d8433ee39ba23a3a8": {
      "model_module": "@jupyter-widgets/controls",
      "model_module_version": "1.5.0",
      "model_name": "DescriptionStyleModel",
      "state": {
       "description_width": "initial"
      }
     },
     "c796bd326fd342b48c1bcbd206f05538": {
      "model_module": "@jupyter-widgets/controls",
      "model_module_version": "1.5.0",
      "model_name": "VBoxModel",
      "state": {
       "children": [
        "IPY_MODEL_e505079eb5fa4c95bc17eb5bd4e04c46",
        "IPY_MODEL_4aebb456fbe74ab0b4a5d2ec18db5ee2",
        "IPY_MODEL_8e9405a57b0e47c185137027261800d4"
       ],
       "layout": "IPY_MODEL_a2d6535d6893439cabd0ad8fb6d9462b"
      }
     },
     "c79ab79911424cbbbd2b2c97fc568b53": {
      "model_module": "@jupyter-widgets/controls",
      "model_module_version": "1.5.0",
      "model_name": "HBoxModel",
      "state": {
       "children": [
        "IPY_MODEL_10bc59bdc3494012957fb026a7507981",
        "IPY_MODEL_7ba7f5f7e5b2447f9d3fe57242a7bb10",
        "IPY_MODEL_0c45290aea0e47509008ed5bd67fcc59"
       ],
       "layout": "IPY_MODEL_668d879f56e34171881ee1af1976f053"
      }
     },
     "c7a5b243e5554c2f913a2d345ef25f95": {
      "model_module": "@jupyter-widgets/base",
      "model_module_version": "1.2.0",
      "model_name": "LayoutModel",
      "state": {}
     },
     "c7b6a475eed542df949cae847b85c2f7": {
      "model_module": "@jupyter-widgets/base",
      "model_module_version": "1.2.0",
      "model_name": "LayoutModel",
      "state": {}
     },
     "c7ba774a25b74c3198af713d46223320": {
      "model_module": "@jupyter-widgets/controls",
      "model_module_version": "1.5.0",
      "model_name": "LabelModel",
      "state": {
       "layout": "IPY_MODEL_04f37e00cab84df5bdf2ba68a9f7df8b",
       "style": "IPY_MODEL_4e46d2a3850648cdad3792d317b819bf",
       "value": "Workspace"
      }
     },
     "c7f93566e26448e1a7a6766e401c4e9b": {
      "model_module": "@jupyter-widgets/base",
      "model_module_version": "1.2.0",
      "model_name": "LayoutModel",
      "state": {}
     },
     "c7f9876eb6494013ac8f4287dd62a95b": {
      "model_module": "@jupyter-widgets/controls",
      "model_module_version": "1.5.0",
      "model_name": "ButtonModel",
      "state": {
       "button_style": "danger",
       "description": "Create",
       "icon": "check",
       "layout": "IPY_MODEL_686e42764c2549fda970d0bae16de7cf",
       "style": "IPY_MODEL_a653ce54c23c41898d0c30cb60787966",
       "tooltip": "Run computation"
      }
     },
     "c81b1317a6e84988ad9b85a614d7465e": {
      "model_module": "@jupyter-widgets/controls",
      "model_module_version": "1.5.0",
      "model_name": "DescriptionStyleModel",
      "state": {
       "description_width": ""
      }
     },
     "c8210e3008094689b99c593651dab936": {
      "model_module": "@jupyter-widgets/controls",
      "model_module_version": "1.5.0",
      "model_name": "DescriptionStyleModel",
      "state": {
       "description_width": ""
      }
     },
     "c827e52c857e46ac9da4c1dbbb5dadfe": {
      "model_module": "@jupyter-widgets/base",
      "model_module_version": "1.2.0",
      "model_name": "LayoutModel",
      "state": {}
     },
     "c82ae8865a11415c851e6439b50b8ea8": {
      "model_module": "@jupyter-widgets/base",
      "model_module_version": "1.2.0",
      "model_name": "LayoutModel",
      "state": {}
     },
     "c84e413c11a847e4a88bc618ce46b17e": {
      "model_module": "@jupyter-widgets/base",
      "model_module_version": "1.2.0",
      "model_name": "LayoutModel",
      "state": {
       "display": "none",
       "min_width": "6em",
       "width": "6em"
      }
     },
     "c872bd4beab8421592ddf70d6c4af0bb": {
      "model_module": "@jupyter-widgets/controls",
      "model_module_version": "1.5.0",
      "model_name": "HTMLModel",
      "state": {
       "layout": "IPY_MODEL_5c086564ac7942d3b086d616c13a1211",
       "placeholder": "",
       "style": "IPY_MODEL_6292eb488aec499a8e65327c0afa6762",
       "value": "<span style=\"color:orange;\">C:\\Users\\dominiquef\\Documents\\GIT\\mira\\geoapps\\assets\\FlinFlon.geoh5</span>"
      }
     },
     "c89255e72d394587ba73b5d6986c0c75": {
      "model_module": "@jupyter-widgets/base",
      "model_module_version": "1.2.0",
      "model_name": "LayoutModel",
      "state": {}
     },
     "c8ad32c1d2e747cb9594a18825c6228c": {
      "model_module": "@jupyter-widgets/controls",
      "model_module_version": "1.5.0",
      "model_name": "DescriptionStyleModel",
      "state": {
       "description_width": "initial"
      }
     },
     "c8d22e797e2d496a8492f5fbdeeb37aa": {
      "model_module": "@jupyter-widgets/base",
      "model_module_version": "1.2.0",
      "model_name": "LayoutModel",
      "state": {}
     },
     "c8f3686d38ca4dfe903934216560eee8": {
      "model_module": "@jupyter-widgets/controls",
      "model_module_version": "1.5.0",
      "model_name": "DescriptionStyleModel",
      "state": {
       "description_width": ""
      }
     },
     "c8fb487927d24d13ae72322ac9dae943": {
      "model_module": "@jupyter-widgets/controls",
      "model_module_version": "1.5.0",
      "model_name": "DescriptionStyleModel",
      "state": {
       "description_width": "initial"
      }
     },
     "c9037c7adeaa494eae9c549a6ba90911": {
      "model_module": "@jupyter-widgets/controls",
      "model_module_version": "1.5.0",
      "model_name": "ButtonStyleModel",
      "state": {}
     },
     "c93461afe6ae4b5a92ffbf5930896113": {
      "model_module": "@jupyter-widgets/controls",
      "model_module_version": "1.5.0",
      "model_name": "VBoxModel",
      "state": {
       "children": [
        "IPY_MODEL_73fff0b480284c8e9dffe4549d2d0b3a",
        "IPY_MODEL_48aecef9577648fd9ba183e9001e6ef3",
        "IPY_MODEL_7cde37f026344dc8a07c81f0561f0bab"
       ],
       "layout": "IPY_MODEL_601142fbe05e4de0899319130a23a1eb"
      }
     },
     "c93d2584ad634a6e8ab443800c6cc3cb": {
      "model_module": "@jupyter-widgets/controls",
      "model_module_version": "1.5.0",
      "model_name": "DescriptionStyleModel",
      "state": {
       "description_width": ""
      }
     },
     "c9449aef88784421aadec0ccbeca65ad": {
      "model_module": "@jupyter-widgets/base",
      "model_module_version": "1.2.0",
      "model_name": "LayoutModel",
      "state": {}
     },
     "c94d1e50e4c545c8b014bfd951e80e61": {
      "model_module": "@jupyter-widgets/controls",
      "model_module_version": "1.5.0",
      "model_name": "DescriptionStyleModel",
      "state": {
       "description_width": ""
      }
     },
     "c95d4b4d1be848e08ef821e21e924df7": {
      "model_module": "@jupyter-widgets/controls",
      "model_module_version": "1.5.0",
      "model_name": "DescriptionStyleModel",
      "state": {
       "description_width": "initial"
      }
     },
     "c96a3e68dad64dabbe84e667277fc0a7": {
      "model_module": "@jupyter-widgets/base",
      "model_module_version": "1.2.0",
      "model_name": "LayoutModel",
      "state": {
       "border": "solid"
      }
     },
     "c986bf72d68e46b4837b213af5f39d76": {
      "model_module": "@jupyter-widgets/base",
      "model_module_version": "1.2.0",
      "model_name": "LayoutModel",
      "state": {}
     },
     "c98b973435264a7099b5ce42a4d12c11": {
      "model_module": "@jupyter-widgets/base",
      "model_module_version": "1.2.0",
      "model_name": "LayoutModel",
      "state": {}
     },
     "c9af78b514ed4714aeb5cb92a8deaf06": {
      "model_module": "@jupyter-widgets/controls",
      "model_module_version": "1.5.0",
      "model_name": "DescriptionStyleModel",
      "state": {
       "description_width": "initial"
      }
     },
     "c9d6fe4ceea94e8ba37fe2f0698cda3b": {
      "model_module": "@jupyter-widgets/controls",
      "model_module_version": "1.5.0",
      "model_name": "DescriptionStyleModel",
      "state": {
       "description_width": "initial"
      }
     },
     "c9ea1439c627457fbd8894bfb8873af8": {
      "model_module": "@jupyter-widgets/controls",
      "model_module_version": "1.5.0",
      "model_name": "DescriptionStyleModel",
      "state": {
       "description_width": "initial"
      }
     },
     "ca0084dc1e414a388d18bd2398043425": {
      "model_module": "@jupyter-widgets/controls",
      "model_module_version": "1.5.0",
      "model_name": "DescriptionStyleModel",
      "state": {
       "description_width": ""
      }
     },
     "ca0e6bbca4ed44fe95ef31312ebcfdf1": {
      "model_module": "@jupyter-widgets/controls",
      "model_module_version": "1.5.0",
      "model_name": "DescriptionStyleModel",
      "state": {
       "description_width": "initial"
      }
     },
     "ca4a4864114542dc90ab3b88e25157ba": {
      "model_module": "@jupyter-widgets/base",
      "model_module_version": "1.2.0",
      "model_name": "LayoutModel",
      "state": {
       "margin": "0 0 0 1em"
      }
     },
     "ca5c13397e714f13a96e82c6203c36ff": {
      "model_module": "@jupyter-widgets/controls",
      "model_module_version": "1.5.0",
      "model_name": "DescriptionStyleModel",
      "state": {
       "description_width": "initial"
      }
     },
     "ca6ebc4ae6be4787b0a72664047b569f": {
      "model_module": "@jupyter-widgets/controls",
      "model_module_version": "1.5.0",
      "model_name": "DescriptionStyleModel",
      "state": {
       "description_width": "initial"
      }
     },
     "ca95f95e9f7a4a799e53c5695e2603f8": {
      "model_module": "@jupyter-widgets/base",
      "model_module_version": "1.2.0",
      "model_name": "LayoutModel",
      "state": {}
     },
     "caaabd86b0634f26a5b16412baf31ec7": {
      "model_module": "@jupyter-widgets/base",
      "model_module_version": "1.2.0",
      "model_name": "LayoutModel",
      "state": {}
     },
     "cab61c46ddb74580b4ac49d64af958fd": {
      "model_module": "@jupyter-widgets/controls",
      "model_module_version": "1.5.0",
      "model_name": "SelectModel",
      "state": {
       "_options_labels": [
        "📁 ..",
        "📁 Temp",
        "📁 uijson",
        "FlinFlon.geoh5",
        "FlinFlon_dcip.geoh5",
        "MtDore_TMI.geoh5"
       ],
       "index": 3,
       "layout": "IPY_MODEL_6e1dc833e97c439db504180cddba5340",
       "rows": 8,
       "style": "IPY_MODEL_ddd40f5e99a44eefba75fac86f13c2c4"
      }
     },
     "cabbf79dbbb442f0971655ca7a3a36a0": {
      "model_module": "@jupyter-widgets/base",
      "model_module_version": "1.2.0",
      "model_name": "LayoutModel",
      "state": {
       "display": "none",
       "grid_area": "filename",
       "width": "auto"
      }
     },
     "cadb5b1ccb97466aaca012ce474a27f6": {
      "model_module": "@jupyter-widgets/controls",
      "model_module_version": "1.5.0",
      "model_name": "ButtonModel",
      "state": {
       "description": "Cancel",
       "layout": "IPY_MODEL_9a1aaa442d2e4826a0ea02def1b49c92",
       "style": "IPY_MODEL_b8505ff76211409f9523d4eebc03d5ed"
      }
     },
     "cae66f99e9da4a3e80a975c8ace48541": {
      "model_module": "@jupyter-widgets/controls",
      "model_module_version": "1.5.0",
      "model_name": "ButtonModel",
      "state": {
       "button_style": "danger",
       "description": "Create",
       "icon": "check",
       "layout": "IPY_MODEL_3610fcba9b8c457999855d5937a890a7",
       "style": "IPY_MODEL_aa52a3513943455ea18eb93626bb8e59",
       "tooltip": "Run computation"
      }
     },
     "caf8c127131844c18104e3d3e9ccd98a": {
      "model_module": "@jupyter-widgets/controls",
      "model_module_version": "1.5.0",
      "model_name": "DescriptionStyleModel",
      "state": {
       "description_width": "initial"
      }
     },
     "cafc9c48cf944311bfbbebdb05cff69b": {
      "model_module": "@jupyter-widgets/base",
      "model_module_version": "1.2.0",
      "model_name": "LayoutModel",
      "state": {
       "border": "solid"
      }
     },
     "cb03db937fea4f379e6bd1c885aae5a5": {
      "model_module": "@jupyter-widgets/base",
      "model_module_version": "1.2.0",
      "model_name": "LayoutModel",
      "state": {
       "overflow": "auto"
      }
     },
     "cb181f7aa017467cbfe145d1efc360e1": {
      "model_module": "@jupyter-widgets/controls",
      "model_module_version": "1.5.0",
      "model_name": "ButtonModel",
      "state": {
       "description": "Cancel",
       "layout": "IPY_MODEL_579da6a193934150aab175c8e9f6f714",
       "style": "IPY_MODEL_ab7eae24e8804613a535284e875e6b5b"
      }
     },
     "cb31cf76d7f444c1ad92c4d3ed40d032": {
      "model_module": "@jupyter-widgets/controls",
      "model_module_version": "1.5.0",
      "model_name": "DescriptionStyleModel",
      "state": {
       "description_width": ""
      }
     },
     "cb45e0634fa14fdd90a89410a7f5f585": {
      "model_module": "@jupyter-widgets/base",
      "model_module_version": "1.2.0",
      "model_name": "LayoutModel",
      "state": {}
     },
     "cb5e93b416a140f292a0d5716a768bba": {
      "model_module": "@jupyter-widgets/controls",
      "model_module_version": "1.5.0",
      "model_name": "DescriptionStyleModel",
      "state": {
       "description_width": "initial"
      }
     },
     "cb70196439834dd3b730b2d2f826be56": {
      "model_module": "@jupyter-widgets/controls",
      "model_module_version": "1.5.0",
      "model_name": "ButtonStyleModel",
      "state": {}
     },
     "cb735a0547b845daa1d6ae76f7938d9b": {
      "model_module": "@jupyter-widgets/base",
      "model_module_version": "1.2.0",
      "model_name": "LayoutModel",
      "state": {}
     },
     "cba60a9f44704eb4af0e4c0620a8edbf": {
      "model_module": "@jupyter-widgets/controls",
      "model_module_version": "1.5.0",
      "model_name": "DescriptionStyleModel",
      "state": {
       "description_width": ""
      }
     },
     "cbae285f88194cc691391f6511e38522": {
      "model_module": "@jupyter-widgets/base",
      "model_module_version": "1.2.0",
      "model_name": "LayoutModel",
      "state": {
       "display": "none",
       "grid_area": "filename",
       "width": "auto"
      }
     },
     "cbc6cff0051746f98d084e7d9e726a02": {
      "model_module": "@jupyter-widgets/controls",
      "model_module_version": "1.5.0",
      "model_name": "DescriptionStyleModel",
      "state": {
       "description_width": "initial"
      }
     },
     "cbeb9566f2044e82a5aa4688c4f36ae9": {
      "model_module": "@jupyter-widgets/base",
      "model_module_version": "1.2.0",
      "model_name": "LayoutModel",
      "state": {
       "margin": "0 0 0 1em"
      }
     },
     "cc0a8972b1de4e4ebc7a3f56d2f333af": {
      "model_module": "@jupyter-widgets/base",
      "model_module_version": "1.2.0",
      "model_name": "LayoutModel",
      "state": {}
     },
     "cc106530b5824b81b65705d67bed38fa": {
      "model_module": "@jupyter-widgets/controls",
      "model_module_version": "1.5.0",
      "model_name": "DescriptionStyleModel",
      "state": {
       "description_width": ""
      }
     },
     "cc1c7058e5274fbcb389185b1c994caf": {
      "model_module": "@jupyter-widgets/base",
      "model_module_version": "1.2.0",
      "model_name": "LayoutModel",
      "state": {}
     },
     "cc203035477c4385a14b558b548387e4": {
      "model_module": "@jupyter-widgets/controls",
      "model_module_version": "1.5.0",
      "model_name": "DescriptionStyleModel",
      "state": {
       "description_width": ""
      }
     },
     "cc537603beba464c86c9c58472321373": {
      "model_module": "@jupyter-widgets/base",
      "model_module_version": "1.2.0",
      "model_name": "LayoutModel",
      "state": {
       "width": "500px"
      }
     },
     "cc6df360c16e4944a8d771097f4ee897": {
      "model_module": "@jupyter-widgets/controls",
      "model_module_version": "1.5.0",
      "model_name": "DescriptionStyleModel",
      "state": {
       "description_width": ""
      }
     },
     "cc9797a82ba247c992a447e0de2051d3": {
      "model_module": "@jupyter-widgets/controls",
      "model_module_version": "1.5.0",
      "model_name": "DescriptionStyleModel",
      "state": {
       "description_width": ""
      }
     },
     "cc9b7d01cc234ff796bc21667c7321d4": {
      "model_module": "@jupyter-widgets/controls",
      "model_module_version": "1.5.0",
      "model_name": "DescriptionStyleModel",
      "state": {
       "description_width": "initial"
      }
     },
     "ccc25490511f4bdfa3c58afde27d7d57": {
      "model_module": "@jupyter-widgets/controls",
      "model_module_version": "1.5.0",
      "model_name": "SelectModel",
      "state": {
       "_options_labels": [
        "📁 ..",
        "📁 SimPEG_PFInversion",
        "📁 Temp",
        "📁 uijson",
        "FlinFlon.geoh5",
        "FlinFlon_dcip.geoh5",
        "MtDore_TMI.geoh5",
        "tem.geoh5",
        "test_forward.ui.geoh5",
        "test_forward.ui.json"
       ],
       "index": 4,
       "layout": "IPY_MODEL_a468e765ee6d4a14ad753ed574a956d5",
       "rows": 8,
       "style": "IPY_MODEL_36a59e6b2b484874909cf180b2adbf8f"
      }
     },
     "ccdc090321884eff8e432e90be348970": {
      "model_module": "@jupyter-widgets/controls",
      "model_module_version": "1.5.0",
      "model_name": "HTMLModel",
      "state": {
       "layout": "IPY_MODEL_19ac1d10b14e4952999388be5e61f301",
       "style": "IPY_MODEL_b6c44bf0b61c4cbcbd194a7e60ff71f5"
      }
     },
     "ccf0fad6e2f44edebf5476882f0dc296": {
      "model_module": "@jupyter-widgets/base",
      "model_module_version": "1.2.0",
      "model_name": "LayoutModel",
      "state": {
       "border": "solid"
      }
     },
     "cd06ddba5411447abac839008917fff5": {
      "model_module": "@jupyter-widgets/controls",
      "model_module_version": "1.5.0",
      "model_name": "DescriptionStyleModel",
      "state": {
       "description_width": "initial"
      }
     },
     "cd18e08cc3ea4930948cf26124247cfa": {
      "model_module": "@jupyter-widgets/controls",
      "model_module_version": "1.5.0",
      "model_name": "ButtonStyleModel",
      "state": {}
     },
     "cd1cebe78bce4c979567e3dad944017d": {
      "model_module": "@jupyter-widgets/controls",
      "model_module_version": "1.5.0",
      "model_name": "DescriptionStyleModel",
      "state": {
       "description_width": ""
      }
     },
     "cd29eab950814eb1a8755510bb7de30b": {
      "model_module": "@jupyter-widgets/controls",
      "model_module_version": "1.5.0",
      "model_name": "DescriptionStyleModel",
      "state": {
       "description_width": ""
      }
     },
     "cd389d339a724056b27dc7cf01947267": {
      "model_module": "@jupyter-widgets/base",
      "model_module_version": "1.2.0",
      "model_name": "LayoutModel",
      "state": {
       "overflow": "auto"
      }
     },
     "cdbff4c6b3514c4d99074e972c046df0": {
      "model_module": "@jupyter-widgets/base",
      "model_module_version": "1.2.0",
      "model_name": "LayoutModel",
      "state": {}
     },
     "cde0936ce2e6478781dded54f554e55f": {
      "model_module": "@jupyter-widgets/base",
      "model_module_version": "1.2.0",
      "model_name": "LayoutModel",
      "state": {}
     },
     "ce01c68ef3534e829f12ab80625ce93b": {
      "model_module": "@jupyter-widgets/controls",
      "model_module_version": "1.5.0",
      "model_name": "ButtonStyleModel",
      "state": {}
     },
     "ce109eb55a834d4b88cb46c53e68306b": {
      "model_module": "@jupyter-widgets/controls",
      "model_module_version": "1.5.0",
      "model_name": "FloatTextModel",
      "state": {
       "description": "Vertical (m)",
       "layout": "IPY_MODEL_c9449aef88784421aadec0ccbeca65ad",
       "step": null,
       "style": "IPY_MODEL_bcf0eca41e85406391e82297e4934d19",
       "value": 1000
      }
     },
     "ce13c55cb15c4a81887bc60daec7f2cb": {
      "model_module": "@jupyter-widgets/controls",
      "model_module_version": "1.5.0",
      "model_name": "TextModel",
      "state": {
       "disabled": true,
       "layout": "IPY_MODEL_d10f5b057b924b488ebbe48fe556fcca",
       "placeholder": "output filename",
       "style": "IPY_MODEL_5c0a0930f0924e648e6b6df7d008da42"
      }
     },
     "ce2ff5d93cef49eb9595f33b77ecefa7": {
      "model_module": "@jupyter-widgets/controls",
      "model_module_version": "1.5.0",
      "model_name": "DescriptionStyleModel",
      "state": {
       "description_width": "initial"
      }
     },
     "ce3121eac18d4301ac02c457b011171e": {
      "model_module": "@jupyter-widgets/controls",
      "model_module_version": "1.5.0",
      "model_name": "ButtonStyleModel",
      "state": {}
     },
     "ce5efd35870b4f68b53231c8a182d100": {
      "model_module": "@jupyter-widgets/controls",
      "model_module_version": "1.5.0",
      "model_name": "ButtonStyleModel",
      "state": {}
     },
     "ce61ca59c2b8434d80d97ac8888e7282": {
      "model_module": "@jupyter-widgets/base",
      "model_module_version": "1.2.0",
      "model_name": "LayoutModel",
      "state": {}
     },
     "ce63686601e7437fb4c63a07264a32a1": {
      "model_module": "@jupyter-widgets/controls",
      "model_module_version": "1.5.0",
      "model_name": "DescriptionStyleModel",
      "state": {
       "description_width": ""
      }
     },
     "ce880b669130419d8b49b052c5ef71c9": {
      "model_module": "@jupyter-widgets/controls",
      "model_module_version": "1.5.0",
      "model_name": "ButtonModel",
      "state": {
       "description": "Change",
       "layout": "IPY_MODEL_0efdc4c5676b44138c4c5d30162db29d",
       "style": "IPY_MODEL_35cc541ba4494990aea4fcb617514ddb"
      }
     },
     "ce9279138a514a8c97f966a93ac10bf6": {
      "model_module": "@jupyter-widgets/controls",
      "model_module_version": "1.5.0",
      "model_name": "ToggleButtonModel",
      "state": {
       "layout": "IPY_MODEL_548858df69c1499cbb98ee2e118a2d7a",
       "style": "IPY_MODEL_c73d463a1f8d495a9f0c1b00a7734b21",
       "value": true
      }
     },
     "ce9987888dc94191a0c7f367ac29178a": {
      "model_module": "@jupyter-widgets/base",
      "model_module_version": "1.2.0",
      "model_name": "LayoutModel",
      "state": {}
     },
     "cea0199f7c144a6a8c6a0a98e0876424": {
      "model_module": "@jupyter-widgets/controls",
      "model_module_version": "1.5.0",
      "model_name": "TextModel",
      "state": {
       "description": "Levels",
       "layout": "IPY_MODEL_4c9f8349c3474b33ab75c5f5e66cafa2",
       "style": "IPY_MODEL_c9d6fe4ceea94e8ba37fe2f0698cda3b",
       "value": "0.0, 0.0, 2.0"
      }
     },
     "cea11425fd64434599d9a253bbf45e43": {
      "model_module": "@jupyter-widgets/controls",
      "model_module_version": "1.5.0",
      "model_name": "DescriptionStyleModel",
      "state": {
       "description_width": "initial"
      }
     },
     "cea62aa2117245d59e011c774bfa0613": {
      "model_module": "@jupyter-widgets/base",
      "model_module_version": "1.2.0",
      "model_name": "LayoutModel",
      "state": {}
     },
     "ceb678bb333b4295a7542538240605a2": {
      "model_module": "@jupyter-widgets/controls",
      "model_module_version": "1.5.0",
      "model_name": "DescriptionStyleModel",
      "state": {
       "description_width": "initial"
      }
     },
     "ceba26a985f340ab9b80a584c7cb71ee": {
      "model_module": "@jupyter-widgets/controls",
      "model_module_version": "1.5.0",
      "model_name": "DescriptionStyleModel",
      "state": {
       "description_width": "initial"
      }
     },
     "ced5fc903ab4443f8f85eacee94c9af5": {
      "model_module": "@jupyter-widgets/controls",
      "model_module_version": "1.5.0",
      "model_name": "LabelModel",
      "state": {
       "layout": "IPY_MODEL_946204bd56424010896b6d4380cd3b24",
       "style": "IPY_MODEL_ad0781c220a5442c905b2eefe629b019",
       "value": "Refinement B"
      }
     },
     "cf0d987e5cdf429f85c2303473d85ee3": {
      "model_module": "@jupyter-widgets/controls",
      "model_module_version": "1.5.0",
      "model_name": "ButtonStyleModel",
      "state": {}
     },
     "cf4c8dd154ad4e0c92b2c8d5728ac1fa": {
      "model_module": "@jupyter-widgets/controls",
      "model_module_version": "1.5.0",
      "model_name": "DescriptionStyleModel",
      "state": {
       "description_width": ""
      }
     },
     "cf6135c610044498b05c36731d56f636": {
      "model_module": "@jupyter-widgets/base",
      "model_module_version": "1.2.0",
      "model_name": "LayoutModel",
      "state": {
       "border": "solid"
      }
     },
     "cf6310c7ea7047fdbe3488c67682e6d8": {
      "model_module": "@jupyter-widgets/controls",
      "model_module_version": "1.5.0",
      "model_name": "BoxModel",
      "state": {
       "children": [
        "IPY_MODEL_10afe62128bd4660a2be248eb0c4c70a"
       ],
       "layout": "IPY_MODEL_1858312261aa4a0ea44b619205c908a2"
      }
     },
     "cf76eee7be6a4ea3ac7d8a8895b85edd": {
      "model_module": "@jupyter-widgets/controls",
      "model_module_version": "1.5.0",
      "model_name": "FloatTextModel",
      "state": {
       "description": "Minimum depth (m)",
       "layout": "IPY_MODEL_9031778a03e0493ebed95a298c6233f2",
       "step": null,
       "style": "IPY_MODEL_c59e4924463a45218748c4b927fe64c5",
       "value": 500
      }
     },
     "cf7f43448d124762ba854882ddfc2a71": {
      "model_module": "@jupyter-widgets/controls",
      "model_module_version": "1.5.0",
      "model_name": "DescriptionStyleModel",
      "state": {
       "description_width": "initial"
      }
     },
     "cf90985a942444dd892fce5fc635e57f": {
      "model_module": "@jupyter-widgets/base",
      "model_module_version": "1.2.0",
      "model_name": "LayoutModel",
      "state": {}
     },
     "cfa633cc67dc4f60b5a1c9eb4ff900f5": {
      "model_module": "@jupyter-widgets/controls",
      "model_module_version": "1.5.0",
      "model_name": "DescriptionStyleModel",
      "state": {
       "description_width": ""
      }
     },
     "cfc5c7f6fafc468aa476c3318ff8c005": {
      "model_module": "@jupyter-widgets/controls",
      "model_module_version": "1.5.0",
      "model_name": "ButtonStyleModel",
      "state": {}
     },
     "cfca807fe7d5412b9eebda9c549a0bcd": {
      "model_module": "@jupyter-widgets/controls",
      "model_module_version": "1.5.0",
      "model_name": "DescriptionStyleModel",
      "state": {
       "description_width": ""
      }
     },
     "cfdc3e5ebbe842438aa3ce442fd7ab77": {
      "model_module": "@jupyter-widgets/controls",
      "model_module_version": "1.5.0",
      "model_name": "DescriptionStyleModel",
      "state": {
       "description_width": ""
      }
     },
     "cffa8856c7d740cfa28dc74d45d23194": {
      "model_module": "@jupyter-widgets/controls",
      "model_module_version": "1.5.0",
      "model_name": "DescriptionStyleModel",
      "state": {
       "description_width": "initial"
      }
     },
     "cffa9873a5bf4833ad477d3300d4435d": {
      "model_module": "@jupyter-widgets/controls",
      "model_module_version": "1.5.0",
      "model_name": "DescriptionStyleModel",
      "state": {
       "description_width": ""
      }
     },
     "d02636fd4f944b7c801fec5efe740196": {
      "model_module": "@jupyter-widgets/base",
      "model_module_version": "1.2.0",
      "model_name": "LayoutModel",
      "state": {}
     },
     "d067014ea57f43a4886b05be35b0d7d6": {
      "model_module": "@jupyter-widgets/controls",
      "model_module_version": "1.5.0",
      "model_name": "DescriptionStyleModel",
      "state": {
       "description_width": "initial"
      }
     },
     "d06fba4cd9bc4cad96a668105fd91c38": {
      "model_module": "@jupyter-widgets/base",
      "model_module_version": "1.2.0",
      "model_name": "LayoutModel",
      "state": {}
     },
     "d08df30ccad5437da62ec957e0f62c01": {
      "model_module": "@jupyter-widgets/controls",
      "model_module_version": "1.5.0",
      "model_name": "DescriptionStyleModel",
      "state": {
       "description_width": "initial"
      }
     },
     "d0b801905b8142d2b4e84777e6b2620a": {
      "model_module": "@jupyter-widgets/controls",
      "model_module_version": "1.5.0",
      "model_name": "HTMLModel",
      "state": {
       "layout": "IPY_MODEL_6b9ad387b4d345b5b2c1f0e220c36abc",
       "style": "IPY_MODEL_4d5d9d18f7514c7488a9a67e858b9631"
      }
     },
     "d0f7c5d22f184341b36c3319eaa91e43": {
      "model_module": "@jupyter-widgets/controls",
      "model_module_version": "1.5.0",
      "model_name": "DescriptionStyleModel",
      "state": {
       "description_width": "initial"
      }
     },
     "d0fe0a3a16ac47fd96c1896a434168c8": {
      "model_module": "@jupyter-widgets/controls",
      "model_module_version": "1.5.0",
      "model_name": "DescriptionStyleModel",
      "state": {
       "description_width": "initial"
      }
     },
     "d10e5b1b5ab94081a37e48e01cdcf16d": {
      "model_module": "@jupyter-widgets/controls",
      "model_module_version": "1.5.0",
      "model_name": "FloatTextModel",
      "state": {
       "description": "Vertical (m)",
       "layout": "IPY_MODEL_e6634921a72a455b97767daedefbe37c",
       "step": null,
       "style": "IPY_MODEL_300bcbfaf2b547f897f1decee4c05697",
       "value": 1000
      }
     },
     "d10f5b057b924b488ebbe48fe556fcca": {
      "model_module": "@jupyter-widgets/base",
      "model_module_version": "1.2.0",
      "model_name": "LayoutModel",
      "state": {
       "display": "none",
       "grid_area": "filename",
       "width": "auto"
      }
     },
     "d1126d07c80b4156b553f1a3cd39dd6a": {
      "model_module": "@jupyter-widgets/controls",
      "model_module_version": "1.5.0",
      "model_name": "DescriptionStyleModel",
      "state": {
       "description_width": ""
      }
     },
     "d147a32dff8440189137fdc7f439692c": {
      "model_module": "@jupyter-widgets/controls",
      "model_module_version": "1.5.0",
      "model_name": "DescriptionStyleModel",
      "state": {
       "description_width": ""
      }
     },
     "d14e0eb8ae914568a6f5d286677df522": {
      "model_module": "@jupyter-widgets/base",
      "model_module_version": "1.2.0",
      "model_name": "LayoutModel",
      "state": {}
     },
     "d162734d38c54b47bb81af10625ec9fa": {
      "model_module": "@jupyter-widgets/controls",
      "model_module_version": "1.5.0",
      "model_name": "DescriptionStyleModel",
      "state": {
       "description_width": "initial"
      }
     },
     "d1a1b81ce5ce471284127a83610f34aa": {
      "model_module": "@jupyter-widgets/controls",
      "model_module_version": "1.5.0",
      "model_name": "DescriptionStyleModel",
      "state": {
       "description_width": "initial"
      }
     },
     "d1a553caa40447588ebc36e20c791fa2": {
      "model_module": "@jupyter-widgets/controls",
      "model_module_version": "1.5.0",
      "model_name": "DescriptionStyleModel",
      "state": {
       "description_width": "initial"
      }
     },
     "d1a6ebf7733641a698e67edf4de11ed4": {
      "model_module": "@jupyter-widgets/controls",
      "model_module_version": "1.5.0",
      "model_name": "LabelModel",
      "state": {
       "layout": "IPY_MODEL_6bdd4440befa40df973bcf2919a1db84",
       "style": "IPY_MODEL_a5c7698b53e54075aca40ee23fb84fbb",
       "value": "Monitoring folder"
      }
     },
     "d1c534cae6bd407e838ea26fc4e459bc": {
      "model_module": "@jupyter-widgets/controls",
      "model_module_version": "1.5.0",
      "model_name": "DropdownModel",
      "state": {
       "_options_labels": [
        "",
        "Ore/39_Ore_Callinan",
        "Ore/38_Ore_Dan_Owens",
        "Ore/40_Ore_FlinFlon",
        "Workspace/Inversion_VTEM_Model",
        "Workspace/DC_Survey (currents)",
        "Workspace/CDI_VTEM_model",
        "Workspace/Data_FEM_pseudo3D",
        "Workspace/geochem",
        "Workspace/DC_Survey",
        "Workspace/Inversion_DIGHEM_Model",
        "Workspace/Topography",
        "Workspace/Data_TEM_pseudo3D",
        "Workspace/Data_ZTEM",
        "Workspace/Mesh"
       ],
       "description": "Object",
       "index": 0,
       "layout": "IPY_MODEL_78408ff3335a40ab864db632192fd1f5",
       "style": "IPY_MODEL_cea11425fd64434599d9a253bbf45e43"
      }
     },
     "d1dd42f9c238480f882df29b3dbb8955": {
      "model_module": "@jupyter-widgets/base",
      "model_module_version": "1.2.0",
      "model_name": "LayoutModel",
      "state": {}
     },
     "d21849d7be4249c68271aef48507ed8e": {
      "model_module": "@jupyter-widgets/base",
      "model_module_version": "1.2.0",
      "model_name": "LayoutModel",
      "state": {}
     },
     "d22a1db395a641ce97a7645f6c0f35ce": {
      "model_module": "@jupyter-widgets/controls",
      "model_module_version": "1.5.0",
      "model_name": "DescriptionStyleModel",
      "state": {
       "description_width": "initial"
      }
     },
     "d294bb4064e0466bb0a82d3e3c2f3e03": {
      "model_module": "@jupyter-widgets/controls",
      "model_module_version": "1.5.0",
      "model_name": "ButtonStyleModel",
      "state": {}
     },
     "d29711f740c840b69b15e61561499240": {
      "model_module": "@jupyter-widgets/controls",
      "model_module_version": "1.5.0",
      "model_name": "HTMLModel",
      "state": {
       "layout": "IPY_MODEL_121abd49935144ba8da5743a95b1b41a",
       "placeholder": "",
       "style": "IPY_MODEL_5e2df17d086240158271c8971481da94",
       "value": "<span style=\"margin-left:10px; color:orange;\">C:\\Users\\dominiquef\\Documents\\GIT\\mira\\geoapps\\assets\\FlinFlon.geoh5</span>"
      }
     },
     "d2b136a5987e44d4a51f688da4b482d8": {
      "model_module": "@jupyter-widgets/base",
      "model_module_version": "1.2.0",
      "model_name": "LayoutModel",
      "state": {}
     },
     "d2b147f1fe4e435989f4dd6068565dfb": {
      "model_module": "@jupyter-widgets/base",
      "model_module_version": "1.2.0",
      "model_name": "LayoutModel",
      "state": {}
     },
     "d2e9c0602dd045c8b6e936be2cdae617": {
      "model_module": "@jupyter-widgets/controls",
      "model_module_version": "1.5.0",
      "model_name": "DescriptionStyleModel",
      "state": {
       "description_width": ""
      }
     },
     "d306c780c43846bdba9dabbca7758a50": {
      "model_module": "@jupyter-widgets/controls",
      "model_module_version": "1.5.0",
      "model_name": "LabelModel",
      "state": {
       "layout": "IPY_MODEL_c986bf72d68e46b4837b213af5f39d76",
       "style": "IPY_MODEL_65184e1cbde346e89303e7976dd655c3",
       "value": "Refinement A"
      }
     },
     "d3317998694f48a58da8c2613defa183": {
      "model_module": "@jupyter-widgets/controls",
      "model_module_version": "1.5.0",
      "model_name": "SelectModel",
      "state": {
       "_options_labels": [
        "📁 .."
       ],
       "index": null,
       "layout": "IPY_MODEL_75103e463e3548318877f6a50e3a823e",
       "rows": 8,
       "style": "IPY_MODEL_523a4261f1af438796521f79aa9541f0"
      }
     },
     "d35d5cc1254c4c13a72d63984fa52963": {
      "model_module": "@jupyter-widgets/controls",
      "model_module_version": "1.5.0",
      "model_name": "DescriptionStyleModel",
      "state": {
       "description_width": ""
      }
     },
     "d38c6beeb7c342089e962a55b7cd9dc5": {
      "model_module": "@jupyter-widgets/controls",
      "model_module_version": "1.5.0",
      "model_name": "TextModel",
      "state": {
       "disabled": true,
       "layout": "IPY_MODEL_cabbf79dbbb442f0971655ca7a3a36a0",
       "placeholder": "output filename",
       "style": "IPY_MODEL_c93d2584ad634a6e8ab443800c6cc3cb"
      }
     },
     "d3ba8225911b41e0bf56fab1cb7f3ccc": {
      "model_module": "@jupyter-widgets/controls",
      "model_module_version": "1.5.0",
      "model_name": "DescriptionStyleModel",
      "state": {
       "description_width": "initial"
      }
     },
     "d3c00e508cce44b4a74f9993e11381e5": {
      "model_module": "@jupyter-widgets/base",
      "model_module_version": "1.2.0",
      "model_name": "LayoutModel",
      "state": {
       "display": "none",
       "grid_gap": "0px 0px",
       "grid_template_areas": "\n                    'pathlist pathlist'\n                    'dircontent dircontent'\n                    ",
       "grid_template_columns": "60% 40%",
       "grid_template_rows": "auto auto",
       "width": "auto"
      }
     },
     "d3c846e2b8af42068809ed2c5aad2d7d": {
      "model_module": "@jupyter-widgets/controls",
      "model_module_version": "1.5.0",
      "model_name": "ButtonStyleModel",
      "state": {}
     },
     "d3da2f351afc4371b377e49e5c747234": {
      "model_module": "@jupyter-widgets/controls",
      "model_module_version": "1.5.0",
      "model_name": "TextModel",
      "state": {
       "description": "Levels",
       "layout": "IPY_MODEL_e1d7c5eb6c54440ca7a9beac0fc193cd",
       "style": "IPY_MODEL_5d791d94bfcb4594a5797e47200507e3",
       "value": "4.0, 4.0, 4.0"
      }
     },
     "d3e0fc19fff94f73995771fe5bdfdc49": {
      "model_module": "@jupyter-widgets/controls",
      "model_module_version": "1.5.0",
      "model_name": "CheckboxModel",
      "state": {
       "description": "Geoscience ANALYST Pro - Live link",
       "disabled": false,
       "indent": false,
       "layout": "IPY_MODEL_023df97f440a48eba111f07bd01421d3",
       "style": "IPY_MODEL_80bd6fb3ce6348529fb44d6ad0d3ad2c",
       "value": false
      }
     },
     "d40642b06f11413a9a48a00127a44673": {
      "model_module": "@jupyter-widgets/controls",
      "model_module_version": "1.5.0",
      "model_name": "DescriptionStyleModel",
      "state": {
       "description_width": "initial"
      }
     },
     "d43043e1cb764912bae4a26a6f8c2e86": {
      "model_module": "@jupyter-widgets/controls",
      "model_module_version": "1.5.0",
      "model_name": "DescriptionStyleModel",
      "state": {
       "description_width": ""
      }
     },
     "d4320c3328844ac5b2cabe409a368d36": {
      "model_module": "@jupyter-widgets/controls",
      "model_module_version": "1.5.0",
      "model_name": "DescriptionStyleModel",
      "state": {
       "description_width": "initial"
      }
     },
     "d46e998099844931bbc46da4f2fb5367": {
      "model_module": "@jupyter-widgets/base",
      "model_module_version": "1.2.0",
      "model_name": "LayoutModel",
      "state": {
       "margin": "0 0 0 1em"
      }
     },
     "d47418fe040541e0a594f4279c279e25": {
      "model_module": "@jupyter-widgets/controls",
      "model_module_version": "1.5.0",
      "model_name": "FloatTextModel",
      "state": {
       "description": "Distance",
       "layout": "IPY_MODEL_77cb88170a1d455f88a97351ffdd3730",
       "step": null,
       "style": "IPY_MODEL_9560c341497b46b9a9cf468a8e1e9c7f",
       "value": 1000
      }
     },
     "d489aa58d8ef4deba908373c3d2e34bb": {
      "model_module": "@jupyter-widgets/controls",
      "model_module_version": "1.5.0",
      "model_name": "ButtonStyleModel",
      "state": {}
     },
     "d48d65a947dd472c991c3ef294d8f62a": {
      "model_module": "@jupyter-widgets/base",
      "model_module_version": "1.2.0",
      "model_name": "LayoutModel",
      "state": {}
     },
     "d49d453fd71e4c9f906acbc7e9272d45": {
      "model_module": "@jupyter-widgets/base",
      "model_module_version": "1.2.0",
      "model_name": "LayoutModel",
      "state": {
       "width": "auto"
      }
     },
     "d4a786ed0cab494785be9a11e3b78b94": {
      "model_module": "@jupyter-widgets/base",
      "model_module_version": "1.2.0",
      "model_name": "LayoutModel",
      "state": {
       "border": "solid"
      }
     },
     "d4bb26dc4ac746378bd0efa2ea32f70b": {
      "model_module": "@jupyter-widgets/controls",
      "model_module_version": "1.5.0",
      "model_name": "DescriptionStyleModel",
      "state": {
       "description_width": ""
      }
     },
     "d4e5235cff7f428bac8fbf54d2a06025": {
      "model_module": "@jupyter-widgets/controls",
      "model_module_version": "1.5.0",
      "model_name": "VBoxModel",
      "state": {
       "children": [
        "IPY_MODEL_244cc74028324b9abe71fb5a89dad8ec",
        "IPY_MODEL_6cf8cd1827034bbfaf59f4aa4fec29a9",
        "IPY_MODEL_f9e905bc58b04b16beb77453f0a9d93e"
       ],
       "layout": "IPY_MODEL_677a351e22fe4156ad944d52b8b04e3b"
      }
     },
     "d4ee1eb6deef4124a1e7b9119a82cea9": {
      "model_module": "@jupyter-widgets/controls",
      "model_module_version": "1.5.0",
      "model_name": "DescriptionStyleModel",
      "state": {
       "description_width": ""
      }
     },
     "d4f5e65ec6b64ae5ac2e6fb57c6d63f8": {
      "model_module": "@jupyter-widgets/controls",
      "model_module_version": "1.5.0",
      "model_name": "DescriptionStyleModel",
      "state": {
       "description_width": "initial"
      }
     },
     "d508468d633d441c8b4f90329daadf77": {
      "model_module": "@jupyter-widgets/controls",
      "model_module_version": "1.5.0",
      "model_name": "DescriptionStyleModel",
      "state": {
       "description_width": ""
      }
     },
     "d50bb09a4a144f1bac3c8e00b332c1a4": {
      "model_module": "@jupyter-widgets/controls",
      "model_module_version": "1.5.0",
      "model_name": "DescriptionStyleModel",
      "state": {
       "description_width": "initial"
      }
     },
     "d538236b894b4374b6af257f02a2c30f": {
      "model_module": "@jupyter-widgets/controls",
      "model_module_version": "1.5.0",
      "model_name": "VBoxModel",
      "state": {
       "children": [
        "IPY_MODEL_ee56d83a01824b0fa98bdef7b9b28cb1",
        "IPY_MODEL_492bfd2e0b1545ca814416553032f447",
        "IPY_MODEL_3d10b33cb40d4a09bef61b505b37aae2"
       ],
       "layout": "IPY_MODEL_221538eab205438d9b0c205475625aa1"
      }
     },
     "d53a2287ef2f434abc1ecc90ce774eef": {
      "model_module": "@jupyter-widgets/controls",
      "model_module_version": "1.5.0",
      "model_name": "GridBoxModel",
      "state": {
       "children": [
        "IPY_MODEL_a9b30b6ed16846148e0defcbb72d1298",
        "IPY_MODEL_94476a4b12334b9080d76a20c96b9266",
        "IPY_MODEL_60cc7d3cf142459c981a317823aff48d"
       ],
       "layout": "IPY_MODEL_8da0ba3021e0475aa2c86461cefaab0e"
      }
     },
     "d54777f47533433a8f20b9660c531a30": {
      "model_module": "@jupyter-widgets/controls",
      "model_module_version": "1.5.0",
      "model_name": "DescriptionStyleModel",
      "state": {
       "description_width": "initial"
      }
     },
     "d5482197288f4297ab54a4cb726f7a88": {
      "model_module": "@jupyter-widgets/controls",
      "model_module_version": "1.5.0",
      "model_name": "DescriptionStyleModel",
      "state": {
       "description_width": "initial"
      }
     },
     "d54894f739064f399f21faf5111879bc": {
      "model_module": "@jupyter-widgets/controls",
      "model_module_version": "1.5.0",
      "model_name": "ButtonStyleModel",
      "state": {}
     },
     "d58a88d29bd84108847b5b977543cd1a": {
      "model_module": "@jupyter-widgets/controls",
      "model_module_version": "1.5.0",
      "model_name": "DescriptionStyleModel",
      "state": {
       "description_width": "initial"
      }
     },
     "d5bf2fa4e69544418fc2234321141cf3": {
      "model_module": "@jupyter-widgets/controls",
      "model_module_version": "1.5.0",
      "model_name": "DescriptionStyleModel",
      "state": {
       "description_width": "initial"
      }
     },
     "d5bff80f5a974e488e1661dc8fdbdd32": {
      "model_module": "@jupyter-widgets/controls",
      "model_module_version": "1.5.0",
      "model_name": "DescriptionStyleModel",
      "state": {
       "description_width": "initial"
      }
     },
     "d5fd1efa8c5c43a9ae1ea3959870c087": {
      "model_module": "@jupyter-widgets/controls",
      "model_module_version": "1.5.0",
      "model_name": "VBoxModel",
      "state": {
       "children": [
        "IPY_MODEL_f256f2cf1fc740a6b5ab229a75070fec",
        "IPY_MODEL_65f695db1bda4e3fada4522a5bc8fa88",
        "IPY_MODEL_7c1af441eaff4f7d9efc0c148dec0da0",
        "IPY_MODEL_8335e79e817244b98e8544aa20ff60c6",
        "IPY_MODEL_e7bc8a30fe57480aa329dd7fa4cf50e2"
       ],
       "layout": "IPY_MODEL_64c86bbba8d242d5a7a04c1bbdfa27b4"
      }
     },
     "d601247c5cd34aa6afe4b730f3593f4f": {
      "model_module": "@jupyter-widgets/controls",
      "model_module_version": "1.5.0",
      "model_name": "HBoxModel",
      "state": {
       "children": [
        "IPY_MODEL_c66ff5d20c94435180cd0e9a20274484",
        "IPY_MODEL_92b5a19b74ae4fae8a80b9e6d6ce366d"
       ],
       "layout": "IPY_MODEL_c0c7cacc34c54081a79780419974d7df"
      }
     },
     "d60f4b918945470fa0e527bcff240149": {
      "model_module": "@jupyter-widgets/base",
      "model_module_version": "1.2.0",
      "model_name": "LayoutModel",
      "state": {
       "grid_area": "dircontent",
       "width": "auto"
      }
     },
     "d6166ea44be44fc1a3c5e9f004511e74": {
      "model_module": "@jupyter-widgets/controls",
      "model_module_version": "1.5.0",
      "model_name": "VBoxModel",
      "state": {
       "children": [
        "IPY_MODEL_746b566d6927406282a348b9c043422f",
        "IPY_MODEL_8f0c175ea9c4457ab8b52511c6b91f43"
       ],
       "layout": "IPY_MODEL_28cf6c9797394717a0de6c370341566e"
      }
     },
     "d631078e23a64ce89524b1259cfcbef8": {
      "model_module": "@jupyter-widgets/controls",
      "model_module_version": "1.5.0",
      "model_name": "DescriptionStyleModel",
      "state": {
       "description_width": "initial"
      }
     },
     "d64122045f9346cb941da95fb34e09ce": {
      "model_module": "@jupyter-widgets/controls",
      "model_module_version": "1.5.0",
      "model_name": "DescriptionStyleModel",
      "state": {
       "description_width": ""
      }
     },
     "d644baac27b045f9a29b9512bc24ac8b": {
      "model_module": "@jupyter-widgets/controls",
      "model_module_version": "1.5.0",
      "model_name": "DropdownModel",
      "state": {
       "_options_labels": [
        "",
        "CoordinateTransformation/Data_TEM_pseudo3DEPSG_4326",
        "ISO/Iso_Iteration_7_model_2_00e-02",
        "ISO/Iso_Iteration_7_model_2_50e-03",
        "ISO/Iso_Iteration_7_model_5_00e-03",
        "ISO/Iso_Iteration_7_model_1_00e-02",
        "ISO/Iso_Iteration_7_model_1_50e-02",
        "Ore/39_Ore_Callinan",
        "Ore/38_Ore_Dan_Owens",
        "Ore/40_Ore_FlinFlon",
        "Workspace/Inversion_VTEM_Model",
        "Workspace/CDI_VTEM_model",
        "Workspace/Data_FEM_pseudo3D",
        "Workspace/geochem",
        "Workspace/Inversion_DIGHEM_Model",
        "Workspace/Topography",
        "Workspace/Data_TEM_pseudo3D",
        "Workspace/Data_ZTEM",
        "Workspace/Mesh"
       ],
       "description": "Core hull extent:",
       "index": 12,
       "layout": "IPY_MODEL_236f252e912b4158ba8a3b1fb8ff09c2",
       "style": "IPY_MODEL_ed053ffa76f34846ba30bdbfa4cd5c91"
      }
     },
     "d6683fe522254181ba18d7e0ca95c240": {
      "model_module": "@jupyter-widgets/controls",
      "model_module_version": "1.5.0",
      "model_name": "HBoxModel",
      "state": {
       "children": [
        "IPY_MODEL_42b48802479b45f0a24107098e66e2fb",
        "IPY_MODEL_c50f2a336ee7405999d693df50f0fa40",
        "IPY_MODEL_cf6310c7ea7047fdbe3488c67682e6d8"
       ],
       "layout": "IPY_MODEL_44b2e37edb4841818268d403bc70f6d7"
      }
     },
     "d678b91eae1746979e5bd0764d262875": {
      "model_module": "@jupyter-widgets/controls",
      "model_module_version": "1.5.0",
      "model_name": "TextModel",
      "state": {
       "description": "Levels",
       "layout": "IPY_MODEL_4cda7cff7e244804a494f2af983bf068",
       "style": "IPY_MODEL_efbb65cbe4de48219d30dcc30290d6e9",
       "value": "4, 4, 4"
      }
     },
     "d67cd97fbcdc455abd2bfb648363ad0e": {
      "model_module": "@jupyter-widgets/base",
      "model_module_version": "1.2.0",
      "model_name": "LayoutModel",
      "state": {
       "width": "auto"
      }
     },
     "d68984f7e69b4084ad08f46f69eaeda2": {
      "model_module": "@jupyter-widgets/controls",
      "model_module_version": "1.5.0",
      "model_name": "FloatTextModel",
      "state": {
       "description": "Vertical (m)",
       "layout": "IPY_MODEL_1b29b4e09c2f40e091282d55518b9440",
       "step": null,
       "style": "IPY_MODEL_6892c808312c4e4da2c7493ff3fb4d4d",
       "value": 1000
      }
     },
     "d68e7ce6bd194e27b8b125caa6acd4ca": {
      "model_module": "@jupyter-widgets/base",
      "model_module_version": "1.2.0",
      "model_name": "LayoutModel",
      "state": {}
     },
     "d69b2c1f638842a0ae1795066aff2942": {
      "model_module": "@jupyter-widgets/controls",
      "model_module_version": "1.5.0",
      "model_name": "VBoxModel",
      "state": {
       "children": [
        "IPY_MODEL_9bb64283bddb449baae723b56afd720d",
        "IPY_MODEL_dbcfeadc330b4516bcb23eadfa7a2e72"
       ],
       "layout": "IPY_MODEL_9c7bb81f0af14361805f42526921846c"
      }
     },
     "d6ad09d8ff17477da5993cc95460772d": {
      "model_module": "@jupyter-widgets/controls",
      "model_module_version": "1.5.0",
      "model_name": "GridBoxModel",
      "state": {
       "children": [
        "IPY_MODEL_b254c2ae1e3d4249b592f38698993c5b",
        "IPY_MODEL_067378aab92e45f98c36fa112ebe8266",
        "IPY_MODEL_10a1f55c2727450787b7179c25f2db3b"
       ],
       "layout": "IPY_MODEL_f50e869948294ae8b34f7c94710674a3"
      }
     },
     "d6bc59860d3047fc9722c5307abf3f49": {
      "model_module": "@jupyter-widgets/controls",
      "model_module_version": "1.5.0",
      "model_name": "FloatTextModel",
      "state": {
       "description": "Distance",
       "layout": "IPY_MODEL_bf4feae191c24f48b778e0fdcbe867cb",
       "step": null,
       "style": "IPY_MODEL_a72dc3f53a6b44a1acb0b12723e606ad",
       "value": 1000
      }
     },
     "d6bdb87f899d46069e56069ce37d6900": {
      "model_module": "@jupyter-widgets/controls",
      "model_module_version": "1.5.0",
      "model_name": "TextModel",
      "state": {
       "description": "Levels",
       "layout": "IPY_MODEL_b7de0fd2e2ab47cdbfba4f2ef2b93189",
       "style": "IPY_MODEL_002bb8926cd44fb9a843071e1f4342ff",
       "value": "4, 4, 4"
      }
     },
     "d6e2e5e7f59d4c6ea1f43101ea0697bb": {
      "model_module": "@jupyter-widgets/controls",
      "model_module_version": "1.5.0",
      "model_name": "DescriptionStyleModel",
      "state": {
       "description_width": "initial"
      }
     },
     "d70a0f088bf041118ba3c5c458d0e6fd": {
      "model_module": "@jupyter-widgets/controls",
      "model_module_version": "1.5.0",
      "model_name": "BoxModel",
      "state": {
       "children": [
        "IPY_MODEL_5c21e62466bf4db1932bf83d6787300c"
       ],
       "layout": "IPY_MODEL_7917cfdeb9594f8cb1a03eb8182a1a66"
      }
     },
     "d72935300cfb4a5396d9ecff06223104": {
      "model_module": "@jupyter-widgets/controls",
      "model_module_version": "1.5.0",
      "model_name": "DescriptionStyleModel",
      "state": {
       "description_width": "initial"
      }
     },
     "d72ad85eb0fe4b1f9e3dfc18883168ed": {
      "model_module": "@jupyter-widgets/controls",
      "model_module_version": "1.5.0",
      "model_name": "DropdownModel",
      "state": {
       "_options_labels": [
        "",
        "--- Channels ---",
        "CPI900",
        "CPQ56k",
        "CPQ7200",
        "CPQ900",
        "CPI7200",
        "Line",
        "DEM",
        "CPI56k",
        "X",
        "Y",
        "Z"
       ],
       "description": "Data: ",
       "index": 0,
       "layout": "IPY_MODEL_7425b8d060a24b2f9f62d05b25093cf1",
       "style": "IPY_MODEL_441bc206724d4b00a8bd001dfb1f803a"
      }
     },
     "d7401c900bd24f86b9f83e110b735e3f": {
      "model_module": "@jupyter-widgets/base",
      "model_module_version": "1.2.0",
      "model_name": "LayoutModel",
      "state": {
       "display": "none",
       "grid_gap": "0px 0px",
       "grid_template_areas": "\n                    'pathlist filename'\n                    'dircontent dircontent'\n                    ",
       "grid_template_columns": "60% 40%",
       "grid_template_rows": "auto auto",
       "width": "auto"
      }
     },
     "d74300e3f30543358b0e86d779d17183": {
      "model_module": "@jupyter-widgets/controls",
      "model_module_version": "1.5.0",
      "model_name": "CheckboxModel",
      "state": {
       "description": "Geoscience ANALYST Pro - Live link",
       "disabled": false,
       "indent": false,
       "layout": "IPY_MODEL_56499be88a7c4e0a85c72ae703bd23f3",
       "style": "IPY_MODEL_30da0de13b9446ddb56e6b46a3af2c06",
       "value": false
      }
     },
     "d75c35586d744eb8963a8439f759fb04": {
      "model_module": "@jupyter-widgets/base",
      "model_module_version": "1.2.0",
      "model_name": "LayoutModel",
      "state": {
       "border": "solid"
      }
     },
     "d7926639241e4beca659692fe3d2991c": {
      "model_module": "@jupyter-widgets/controls",
      "model_module_version": "1.5.0",
      "model_name": "ButtonStyleModel",
      "state": {}
     },
     "d796632454104c1da52a54352e85c063": {
      "model_module": "@jupyter-widgets/base",
      "model_module_version": "1.2.0",
      "model_name": "LayoutModel",
      "state": {}
     },
     "d7a9b4577bdd4434815610f4ee8c6197": {
      "model_module": "@jupyter-widgets/controls",
      "model_module_version": "1.5.0",
      "model_name": "TextModel",
      "state": {
       "disabled": true,
       "layout": "IPY_MODEL_28d828cb35fe460ea8386d16f2a65801",
       "placeholder": "output filename",
       "style": "IPY_MODEL_eff409caa0bc434f81c757eefc827c01"
      }
     },
     "d7af9845c7ee48be97510c015f87af06": {
      "model_module": "@jupyter-widgets/base",
      "model_module_version": "1.2.0",
      "model_name": "LayoutModel",
      "state": {
       "width": "auto"
      }
     },
     "d7d4cf6793864691b8a0c0d1d3e84fae": {
      "model_module": "@jupyter-widgets/controls",
      "model_module_version": "1.5.0",
      "model_name": "DescriptionStyleModel",
      "state": {
       "description_width": "initial"
      }
     },
     "d818f542b6a7432db3451f350f6aa96e": {
      "model_module": "@jupyter-widgets/controls",
      "model_module_version": "1.5.0",
      "model_name": "ButtonStyleModel",
      "state": {}
     },
     "d841beef13c54118842ed66c8b6b1dee": {
      "model_module": "@jupyter-widgets/base",
      "model_module_version": "1.2.0",
      "model_name": "LayoutModel",
      "state": {}
     },
     "d86f559ae0f246daa15c7bc6bbf1f180": {
      "model_module": "@jupyter-widgets/base",
      "model_module_version": "1.2.0",
      "model_name": "LayoutModel",
      "state": {}
     },
     "d87447d10126468aba635bea75c0176d": {
      "model_module": "@jupyter-widgets/controls",
      "model_module_version": "1.5.0",
      "model_name": "LabelModel",
      "state": {
       "layout": "IPY_MODEL_283709d9381841fc943844a4d99cea14",
       "style": "IPY_MODEL_4163fae918ce40a5b97d086b79c1f057",
       "value": "Core cell size"
      }
     },
     "d8a03e3cc1f44fdfbf61b9ee1d7ad40e": {
      "model_module": "@jupyter-widgets/controls",
      "model_module_version": "1.5.0",
      "model_name": "DescriptionStyleModel",
      "state": {
       "description_width": ""
      }
     },
     "d8c2c90f50ea472da181bb2cd43c2aa5": {
      "model_module": "@jupyter-widgets/controls",
      "model_module_version": "1.5.0",
      "model_name": "ButtonStyleModel",
      "state": {}
     },
     "d8c9b24fc64a47c58704a93c650de1a9": {
      "model_module": "@jupyter-widgets/controls",
      "model_module_version": "1.5.0",
      "model_name": "FloatTextModel",
      "state": {
       "description": "Vertical",
       "layout": "IPY_MODEL_0f38bd12db38429fb17dacae87d07e79",
       "step": null,
       "style": "IPY_MODEL_435729d1072742d5b08377453db36aa9",
       "value": 25
      }
     },
     "d8cb22885c264d57afaba46e08fbea84": {
      "model_module": "@jupyter-widgets/controls",
      "model_module_version": "1.5.0",
      "model_name": "ToggleButtonModel",
      "state": {
       "layout": "IPY_MODEL_3fd275e7b4a048f89798c72c91d33de4",
       "style": "IPY_MODEL_c422b73a568a48788292cc062d24eb8e"
      }
     },
     "d8e22fbdbdb545398958d6671cfddef1": {
      "model_module": "@jupyter-widgets/controls",
      "model_module_version": "1.5.0",
      "model_name": "DescriptionStyleModel",
      "state": {
       "description_width": ""
      }
     },
     "d9101dece9f44b11969e4eceb6c7d5cc": {
      "model_module": "@jupyter-widgets/controls",
      "model_module_version": "1.5.0",
      "model_name": "TextModel",
      "state": {
       "disabled": true,
       "layout": "IPY_MODEL_068bc0773e3947b3b901937975650ed4",
       "placeholder": "output filename",
       "style": "IPY_MODEL_98dda3dd0b804e439dc6aeaa33692855"
      }
     },
     "d923be04dd04486e99b6f72baba145dc": {
      "model_module": "@jupyter-widgets/controls",
      "model_module_version": "1.5.0",
      "model_name": "FloatTextModel",
      "state": {
       "description": "Horizontal (m)",
       "layout": "IPY_MODEL_9186bf517aed47fdabb0528d700be771",
       "step": null,
       "style": "IPY_MODEL_c37fcf083ff0408b97038866fa1a3166",
       "value": 1000
      }
     },
     "d92d95289501479abb024a86a6dd507b": {
      "model_module": "@jupyter-widgets/base",
      "model_module_version": "1.2.0",
      "model_name": "LayoutModel",
      "state": {}
     },
     "d941535e0b814185bf58b425fb53610f": {
      "model_module": "@jupyter-widgets/base",
      "model_module_version": "1.2.0",
      "model_name": "LayoutModel",
      "state": {}
     },
     "d96ec4c77e1247f98950d6a1a015cd75": {
      "model_module": "@jupyter-widgets/controls",
      "model_module_version": "1.5.0",
      "model_name": "DescriptionStyleModel",
      "state": {
       "description_width": "initial"
      }
     },
     "d9ba1a503b2f4c10a2cf154348fa33b4": {
      "model_module": "@jupyter-widgets/controls",
      "model_module_version": "1.5.0",
      "model_name": "DescriptionStyleModel",
      "state": {
       "description_width": ""
      }
     },
     "d9c8d846949048968b2aa215171f15a2": {
      "model_module": "@jupyter-widgets/controls",
      "model_module_version": "1.5.0",
      "model_name": "DescriptionStyleModel",
      "state": {
       "description_width": ""
      }
     },
     "d9cf4b2dddbf4de993d7f8f860115f02": {
      "model_module": "@jupyter-widgets/controls",
      "model_module_version": "1.5.0",
      "model_name": "LabelModel",
      "state": {
       "layout": "IPY_MODEL_2146edde0d914e038964b3b98af45d8c",
       "style": "IPY_MODEL_8d8691594a9d4f22a762bb375b351d3b",
       "value": "Base Parameters"
      }
     },
     "d9da190859ee491fb5ae7798b12b753a": {
      "model_module": "@jupyter-widgets/base",
      "model_module_version": "1.2.0",
      "model_name": "LayoutModel",
      "state": {
       "display": "none",
       "min_width": "6em",
       "width": "6em"
      }
     },
     "d9f93dba94b44e5282c4a4b47719b7d4": {
      "model_module": "@jupyter-widgets/controls",
      "model_module_version": "1.5.0",
      "model_name": "DescriptionStyleModel",
      "state": {
       "description_width": ""
      }
     },
     "da9c9e85a3144509bae1ad47837d2a46": {
      "model_module": "@jupyter-widgets/controls",
      "model_module_version": "1.5.0",
      "model_name": "FloatTextModel",
      "state": {
       "description": "Vertical",
       "layout": "IPY_MODEL_5c851ab6e9a540998da625311209524b",
       "step": null,
       "style": "IPY_MODEL_2ea2a83409f2453e98751fd5a72bca4e",
       "value": 25
      }
     },
     "dae47057c60b4631a19368ca446ef903": {
      "model_module": "@jupyter-widgets/base",
      "model_module_version": "1.2.0",
      "model_name": "LayoutModel",
      "state": {}
     },
     "db2166ac1ec0438383cea4363dae1106": {
      "model_module": "@jupyter-widgets/controls",
      "model_module_version": "1.5.0",
      "model_name": "FloatTextModel",
      "state": {
       "description": "Distance",
       "layout": "IPY_MODEL_9ee4aad5640144d58aa26c79f18db235",
       "step": null,
       "style": "IPY_MODEL_5d3693ad707e46efbd9972709527ca59",
       "value": 1000
      }
     },
     "db321262ca0240799b4566570aabac6d": {
      "model_module": "@jupyter-widgets/controls",
      "model_module_version": "1.5.0",
      "model_name": "GridBoxModel",
      "state": {
       "children": [
        "IPY_MODEL_6bd90d158d794d108b60abfbdec1a526",
        "IPY_MODEL_e9f9d978bf72431d8740d96c123ae340",
        "IPY_MODEL_81b8934526f04450a98383b93746c986"
       ],
       "layout": "IPY_MODEL_f0fe86ab80fd457498bcb22a08583ac7"
      }
     },
     "db3637ffa0cd43db8b1cf0f44b02a93b": {
      "model_module": "@jupyter-widgets/controls",
      "model_module_version": "1.5.0",
      "model_name": "DescriptionStyleModel",
      "state": {
       "description_width": "initial"
      }
     },
     "db6e122a848c4827b864d63efa4ed309": {
      "model_module": "@jupyter-widgets/controls",
      "model_module_version": "1.5.0",
      "model_name": "VBoxModel",
      "state": {
       "children": [
        "IPY_MODEL_8752ba14f55f474fbfb3a93cd69a384d",
        "IPY_MODEL_a9d1adfea4ef45fcbd0dc17cd0818e27",
        "IPY_MODEL_44345a8f2ded4e128c377e760cfc5061",
        "IPY_MODEL_2fd760e835074056b2e251da58a0a8e4",
        "IPY_MODEL_a20fabf633ad4404b9c7debf65b48647"
       ],
       "layout": "IPY_MODEL_c37e743bd44c44ebb1aa7fdc7762ca79"
      }
     },
     "dba3f5bc68984c07b4544994d3d6348d": {
      "model_module": "@jupyter-widgets/controls",
      "model_module_version": "1.5.0",
      "model_name": "DescriptionStyleModel",
      "state": {
       "description_width": ""
      }
     },
     "dbcfeadc330b4516bcb23eadfa7a2e72": {
      "model_module": "@jupyter-widgets/controls",
      "model_module_version": "1.5.0",
      "model_name": "VBoxModel",
      "state": {
       "children": [
        "IPY_MODEL_31db884742234e9ea13cdc9e155882f5",
        "IPY_MODEL_bdc1403db8324fdf916b0400de2033a8",
        "IPY_MODEL_80f3a49f25a044ed8ff8bd8c3dd43269",
        "IPY_MODEL_83e8129c56a74968b5b4a0636896b30e",
        "IPY_MODEL_a936cf14abac403882746c1ace50b07d",
        "IPY_MODEL_333dd8b6314e4193bf371cdb93966d89",
        "IPY_MODEL_a3be90bacee04b1c89f1cb42606bc0bf",
        "IPY_MODEL_c4d2b00a47004f7e98a564794a4f59e8",
        "IPY_MODEL_38c7096e75334bffb1203c271243a7d4",
        "IPY_MODEL_fc72cee4fb57484bad58d53428c31bc8"
       ],
       "layout": "IPY_MODEL_f619e0b073ec414788e5e06b6e2790b8"
      }
     },
     "dbdfff51cf114cbda7c73160cae304cf": {
      "model_module": "@jupyter-widgets/base",
      "model_module_version": "1.2.0",
      "model_name": "LayoutModel",
      "state": {}
     },
     "dbe6f00bdbae4ef994c2190ef0326e64": {
      "model_module": "@jupyter-widgets/controls",
      "model_module_version": "1.5.0",
      "model_name": "VBoxModel",
      "state": {
       "children": [
        "IPY_MODEL_e6d6a42513a44696a04df36aaab2caa9",
        "IPY_MODEL_755771fed430459e8a215928f9ff981a"
       ],
       "layout": "IPY_MODEL_25d8fec6c79b483bb805ff622960bfc1"
      }
     },
     "dc2e0aedf0e14217ad1f78661daaa09d": {
      "model_module": "@jupyter-widgets/controls",
      "model_module_version": "1.5.0",
      "model_name": "DescriptionStyleModel",
      "state": {
       "description_width": ""
      }
     },
     "dc30a253a8c64142a06a99830b5fc68b": {
      "model_module": "@jupyter-widgets/base",
      "model_module_version": "1.2.0",
      "model_name": "LayoutModel",
      "state": {
       "border": "solid"
      }
     },
     "dc375d0a55ed4071b24502219708d8e2": {
      "model_module": "@jupyter-widgets/controls",
      "model_module_version": "1.5.0",
      "model_name": "DescriptionStyleModel",
      "state": {
       "description_width": "initial"
      }
     },
     "dc5b2c0800874e49a614d6eb9de8aaec": {
      "model_module": "@jupyter-widgets/controls",
      "model_module_version": "1.5.0",
      "model_name": "LabelModel",
      "state": {
       "layout": "IPY_MODEL_d86f559ae0f246daa15c7bc6bbf1f180",
       "style": "IPY_MODEL_922a2931c4964fca80ada9e2970fa57f",
       "value": "Refinement A"
      }
     },
     "dc7546d8e4d348a6b6e3543101d1ce6d": {
      "model_module": "@jupyter-widgets/controls",
      "model_module_version": "1.5.0",
      "model_name": "DescriptionStyleModel",
      "state": {
       "description_width": "initial"
      }
     },
     "dc8d69a7d9294c18a74dc8a8ee190c52": {
      "model_module": "@jupyter-widgets/controls",
      "model_module_version": "1.5.0",
      "model_name": "DropdownModel",
      "state": {
       "_options_labels": [
        "C:\\Users\\dominiquef\\Documents\\GIT\\mira\\geoapps\\docs\\content\\applications",
        "C:\\Users\\dominiquef\\Documents\\GIT\\mira\\geoapps\\docs\\content",
        "C:\\Users\\dominiquef\\Documents\\GIT\\mira\\geoapps\\docs",
        "C:\\Users\\dominiquef\\Documents\\GIT\\mira\\geoapps",
        "C:\\Users\\dominiquef\\Documents\\GIT\\mira",
        "C:\\Users\\dominiquef\\Documents\\GIT",
        "C:\\Users\\dominiquef\\Documents",
        "C:\\Users\\dominiquef",
        "C:\\Users",
        "C:\\",
        "D:\\",
        "Z:\\"
       ],
       "index": 0,
       "layout": "IPY_MODEL_655bdec93e634ffc81301b4d7527ad5f",
       "style": "IPY_MODEL_698334f0159c43f0ada00d52f7119452"
      }
     },
     "dca295c79192433b98118838b28b69ab": {
      "model_module": "@jupyter-widgets/controls",
      "model_module_version": "1.5.0",
      "model_name": "DescriptionStyleModel",
      "state": {
       "description_width": "initial"
      }
     },
     "dcaca62272214e0d9a2eaccf76cf4622": {
      "model_module": "@jupyter-widgets/controls",
      "model_module_version": "1.5.0",
      "model_name": "DescriptionStyleModel",
      "state": {
       "description_width": ""
      }
     },
     "dcbf80854f014d8ca5895fa13a495858": {
      "model_module": "@jupyter-widgets/controls",
      "model_module_version": "1.5.0",
      "model_name": "GridBoxModel",
      "state": {
       "children": [
        "IPY_MODEL_741bbc937f764fcfb61fce0a96dfade2",
        "IPY_MODEL_d9101dece9f44b11969e4eceb6c7d5cc",
        "IPY_MODEL_d3317998694f48a58da8c2613defa183"
       ],
       "layout": "IPY_MODEL_be6760f5a50d46ebadb86ed2b04858db"
      }
     },
     "dcd6a2c9fdc648659f5eb2a18e9cc751": {
      "model_module": "@jupyter-widgets/controls",
      "model_module_version": "1.5.0",
      "model_name": "DescriptionStyleModel",
      "state": {
       "description_width": "initial"
      }
     },
     "dcef349a835245cdb9064eca5e0feb13": {
      "model_module": "@jupyter-widgets/controls",
      "model_module_version": "1.5.0",
      "model_name": "ButtonStyleModel",
      "state": {}
     },
     "dd00690dd7764d3a88ce4d634f7dd14a": {
      "model_module": "@jupyter-widgets/controls",
      "model_module_version": "1.5.0",
      "model_name": "HBoxModel",
      "state": {
       "children": [
        "IPY_MODEL_a43d80cdbc5f472685593c6529987e0a",
        "IPY_MODEL_21e19acf5892470a874c158156bbaa8b",
        "IPY_MODEL_ac33c668b88a456f94e363ee26bd8368"
       ],
       "layout": "IPY_MODEL_7e09e3dba2cb45fab343cf1cca836e1d"
      }
     },
     "dd1328289d1a40f7b677b650e7e557c0": {
      "model_module": "@jupyter-widgets/controls",
      "model_module_version": "1.5.0",
      "model_name": "VBoxModel",
      "state": {
       "children": [
        "IPY_MODEL_641b24eb75b84840917c38b89c23e3d3",
        "IPY_MODEL_3cf61e77faba4a608a90305cd2f42fc4"
       ],
       "layout": "IPY_MODEL_ecd83e616778436fa453d04818047c89"
      }
     },
     "dd1c19e789b3425c9ab158e6d47fd084": {
      "model_module": "@jupyter-widgets/controls",
      "model_module_version": "1.5.0",
      "model_name": "LabelModel",
      "state": {
       "layout": "IPY_MODEL_805f83ccc980483fa7b9d1ea44cf87af",
       "style": "IPY_MODEL_6d7188ee18ac4674909b5b7f0742cc55",
       "value": "Base Parameters"
      }
     },
     "dd1f13facb8e4d3db7a7f44e2c281a88": {
      "model_module": "@jupyter-widgets/controls",
      "model_module_version": "1.5.0",
      "model_name": "ButtonStyleModel",
      "state": {}
     },
     "dd265d94c97f4ae3bc3595f6e8073b1d": {
      "model_module": "@jupyter-widgets/controls",
      "model_module_version": "1.5.0",
      "model_name": "DescriptionStyleModel",
      "state": {
       "description_width": ""
      }
     },
     "dd28b3d66e9d4409beaca7a79f5e1c7d": {
      "model_module": "@jupyter-widgets/controls",
      "model_module_version": "1.5.0",
      "model_name": "DescriptionStyleModel",
      "state": {
       "description_width": "initial"
      }
     },
     "dd2e7fc1cb464a6ba4a5b36d548af2ab": {
      "model_module": "@jupyter-widgets/controls",
      "model_module_version": "1.5.0",
      "model_name": "DescriptionStyleModel",
      "state": {
       "description_width": ""
      }
     },
     "dd37097d6619409f9c8231eed4c546bb": {
      "model_module": "@jupyter-widgets/controls",
      "model_module_version": "1.5.0",
      "model_name": "DescriptionStyleModel",
      "state": {
       "description_width": ""
      }
     },
     "dd3b83de553045b6b1c6cf5906d6c430": {
      "model_module": "@jupyter-widgets/controls",
      "model_module_version": "1.5.0",
      "model_name": "DescriptionStyleModel",
      "state": {
       "description_width": "initial"
      }
     },
     "dd4da673798d4c1b8b903e9fef41bfae": {
      "model_module": "@jupyter-widgets/controls",
      "model_module_version": "1.5.0",
      "model_name": "FloatTextModel",
      "state": {
       "description": "Northing",
       "layout": "IPY_MODEL_5a49f769ee49438a9a54e6efc76a9870",
       "step": null,
       "style": "IPY_MODEL_f5532b7542de41628017eb8640a89e70",
       "value": 25
      }
     },
     "dd57b26426cb4f02be1d27b3789d6e37": {
      "model_module": "@jupyter-widgets/base",
      "model_module_version": "1.2.0",
      "model_name": "LayoutModel",
      "state": {
       "display": "none"
      }
     },
     "dd58ac58d96f46f090f1df9a3d438312": {
      "model_module": "@jupyter-widgets/base",
      "model_module_version": "1.2.0",
      "model_name": "LayoutModel",
      "state": {}
     },
     "dd7544e21df04a4c866bf2f0bfe2c2a7": {
      "model_module": "@jupyter-widgets/controls",
      "model_module_version": "1.5.0",
      "model_name": "ButtonModel",
      "state": {
       "description": "Create copy:",
       "layout": "IPY_MODEL_e4dcc9c0781e4310af0d13dcaa0d7e30",
       "style": "IPY_MODEL_46f53e976bbc464b9400ea01a22c3204"
      }
     },
     "dd75e4b2cc584ba895e9cec1f4372b83": {
      "model_module": "@jupyter-widgets/base",
      "model_module_version": "1.2.0",
      "model_name": "LayoutModel",
      "state": {}
     },
     "dd8bdf77204f4c9ab99f8d0c96930ff4": {
      "model_module": "@jupyter-widgets/controls",
      "model_module_version": "1.5.0",
      "model_name": "VBoxModel",
      "state": {
       "children": [
        "IPY_MODEL_df934f73d27e44ee8f2a5573b6fb91d9",
        "IPY_MODEL_908c45ff3a6a45219374e6fc9e288af7"
       ],
       "layout": "IPY_MODEL_40026bc70bde423c91d654b898fab2e5"
      }
     },
     "dd99a3966a684569953717606044dca4": {
      "model_module": "@jupyter-widgets/controls",
      "model_module_version": "1.5.0",
      "model_name": "ButtonModel",
      "state": {
       "description": "Cancel",
       "layout": "IPY_MODEL_0475e926ef0041c9ab1dc6de39d1551f",
       "style": "IPY_MODEL_643ee55f20c54094815a913db9e9ad3d"
      }
     },
     "ddb03c52b86a4cb5879b5b0a74092a66": {
      "model_module": "@jupyter-widgets/base",
      "model_module_version": "1.2.0",
      "model_name": "LayoutModel",
      "state": {}
     },
     "ddd40f5e99a44eefba75fac86f13c2c4": {
      "model_module": "@jupyter-widgets/controls",
      "model_module_version": "1.5.0",
      "model_name": "DescriptionStyleModel",
      "state": {
       "description_width": ""
      }
     },
     "de093a9f389746808d0a0590180b3f40": {
      "model_module": "@jupyter-widgets/controls",
      "model_module_version": "1.5.0",
      "model_name": "DescriptionStyleModel",
      "state": {
       "description_width": "initial"
      }
     },
     "de12992291f4464f94bdef2686f12945": {
      "model_module": "@jupyter-widgets/base",
      "model_module_version": "1.2.0",
      "model_name": "LayoutModel",
      "state": {
       "display": "none"
      }
     },
     "de36e9e6c7e842ec841bd518f1441052": {
      "model_module": "@jupyter-widgets/base",
      "model_module_version": "1.2.0",
      "model_name": "LayoutModel",
      "state": {
       "grid_area": "pathlist",
       "width": "auto"
      }
     },
     "de3c703df0a84855b529e1b19f62c806": {
      "model_module": "@jupyter-widgets/controls",
      "model_module_version": "1.5.0",
      "model_name": "CheckboxModel",
      "state": {
       "description": "Geoscience ANALYST Pro - Live link",
       "disabled": false,
       "indent": false,
       "layout": "IPY_MODEL_297cb72e13ce48a083fda750b36e30d8",
       "style": "IPY_MODEL_11bfe61d657c4f9bbc6fff9ea10d1f29",
       "value": false
      }
     },
     "de55c2069606454b8df14bf96ae0c947": {
      "model_module": "@jupyter-widgets/controls",
      "model_module_version": "1.5.0",
      "model_name": "DescriptionStyleModel",
      "state": {
       "description_width": "initial"
      }
     },
     "de6203cb396a4557b5d6d79c6f1b00bd": {
      "model_module": "@jupyter-widgets/controls",
      "model_module_version": "1.5.0",
      "model_name": "VBoxModel",
      "state": {
       "children": [
        "IPY_MODEL_bc51d9464fca475a9965473eaf1d739a",
        "IPY_MODEL_04dc881d03f945a589b869ec5bf955b4"
       ],
       "layout": "IPY_MODEL_ed5f2442ea0e4c5c856438f3d1aee114"
      }
     },
     "de76ea1d04e349f9aa26c88a228a11bb": {
      "model_module": "@jupyter-widgets/controls",
      "model_module_version": "1.5.0",
      "model_name": "DescriptionStyleModel",
      "state": {
       "description_width": "initial"
      }
     },
     "de97ad21e44249f1a84beca598ed20df": {
      "model_module": "@jupyter-widgets/controls",
      "model_module_version": "1.5.0",
      "model_name": "DescriptionStyleModel",
      "state": {
       "description_width": "initial"
      }
     },
     "dea6a13c8e864d949b6d7201743bc7a0": {
      "model_module": "@jupyter-widgets/controls",
      "model_module_version": "1.5.0",
      "model_name": "HTMLModel",
      "state": {
       "layout": "IPY_MODEL_ff48f613e2dc411aac059012954f1fe1",
       "placeholder": "",
       "style": "IPY_MODEL_7c4f72946730461db6b49d176260b4cc",
       "value": "<span style=\"color:green;\">C:\\Users\\dominiquef\\Documents\\GIT\\mira\\geoapps\\assets\\Temp\\</span>"
      }
     },
     "debfd068f7904e94b4497e0906f0734a": {
      "model_module": "@jupyter-widgets/controls",
      "model_module_version": "1.5.0",
      "model_name": "ButtonModel",
      "state": {
       "button_style": "danger",
       "description": "Create",
       "icon": "check",
       "layout": "IPY_MODEL_a43a5e573b134d0c8eeff9c9f7fb6f85",
       "style": "IPY_MODEL_411fb9a85d29411ab5ae4d22d6048487",
       "tooltip": "Run computation"
      }
     },
     "decbd60d2d1948e096aa45ad50653e0d": {
      "model_module": "@jupyter-widgets/controls",
      "model_module_version": "1.5.0",
      "model_name": "VBoxModel",
      "state": {
       "children": [
        "IPY_MODEL_7359ba3b2edb4a9fbbf9e0d1f85fdc40",
        "IPY_MODEL_e9fa5502326846ba85a7de03b09d0579"
       ],
       "layout": "IPY_MODEL_9c243f3f42194de6ab0f3627d75554b7"
      }
     },
     "decd27263fe54023be631d8b90e7d4cb": {
      "model_module": "@jupyter-widgets/base",
      "model_module_version": "1.2.0",
      "model_name": "LayoutModel",
      "state": {}
     },
     "deed281468344224bf90b3b51437ef12": {
      "model_module": "@jupyter-widgets/controls",
      "model_module_version": "1.5.0",
      "model_name": "DescriptionStyleModel",
      "state": {
       "description_width": "initial"
      }
     },
     "df4cd88c942f4e87b4c6fa60e22a0d27": {
      "model_module": "@jupyter-widgets/base",
      "model_module_version": "1.2.0",
      "model_name": "LayoutModel",
      "state": {}
     },
     "df52530de8f94a1eaefcfcd2bb297805": {
      "model_module": "@jupyter-widgets/controls",
      "model_module_version": "1.5.0",
      "model_name": "VBoxModel",
      "state": {
       "children": [
        "IPY_MODEL_c6d42e6222cc4e1eb19f55f3f00b9bc5",
        "IPY_MODEL_e5318a47f1d0479c9084ee98e1e91740"
       ],
       "layout": "IPY_MODEL_33c63e5132d546e0b408587369dd74db"
      }
     },
     "df7f7c0300a14f8280304c2d71bbfb48": {
      "model_module": "@jupyter-widgets/base",
      "model_module_version": "1.2.0",
      "model_name": "LayoutModel",
      "state": {
       "grid_area": "pathlist",
       "width": "auto"
      }
     },
     "df8ab48adabd45a987f7f834e820eb7d": {
      "model_module": "@jupyter-widgets/base",
      "model_module_version": "1.2.0",
      "model_name": "LayoutModel",
      "state": {}
     },
     "df934f73d27e44ee8f2a5573b6fb91d9": {
      "model_module": "@jupyter-widgets/controls",
      "model_module_version": "1.5.0",
      "model_name": "LabelModel",
      "state": {
       "layout": "IPY_MODEL_ba7f130cafcd46bdb6b6bc21fac2df36",
       "style": "IPY_MODEL_4302da568c804480b344067f3c2d3221",
       "value": "Workspace"
      }
     },
     "df969fc28974412fb4d8500ed0baccd6": {
      "model_module": "@jupyter-widgets/base",
      "model_module_version": "1.2.0",
      "model_name": "LayoutModel",
      "state": {}
     },
     "dfd4104b73f049da9c0b0881abe1a6c9": {
      "model_module": "@jupyter-widgets/base",
      "model_module_version": "1.2.0",
      "model_name": "LayoutModel",
      "state": {
       "grid_area": "filename",
       "width": "auto"
      }
     },
     "dfd62ff43bf245d4be27dab5afecb07c": {
      "model_module": "@jupyter-widgets/base",
      "model_module_version": "1.2.0",
      "model_name": "LayoutModel",
      "state": {}
     },
     "dfdedceee4f14619849119d193a235eb": {
      "model_module": "@jupyter-widgets/controls",
      "model_module_version": "1.5.0",
      "model_name": "DescriptionStyleModel",
      "state": {
       "description_width": ""
      }
     },
     "dfee65aba5f14eeba0cc5c482d248532": {
      "model_module": "@jupyter-widgets/base",
      "model_module_version": "1.2.0",
      "model_name": "LayoutModel",
      "state": {
       "width": "auto"
      }
     },
     "dffbfa3bb0f14286ae53cec16f0c79c4": {
      "model_module": "@jupyter-widgets/controls",
      "model_module_version": "1.5.0",
      "model_name": "TextModel",
      "state": {
       "disabled": true,
       "layout": "IPY_MODEL_3748ea038e0b4e80bdd344b94d0c56c9",
       "placeholder": "output filename",
       "style": "IPY_MODEL_4f7a5b32fd924232b97bfff60c40e851"
      }
     },
     "e005b38e4a824138bebafb1790d29753": {
      "model_module": "@jupyter-widgets/controls",
      "model_module_version": "1.5.0",
      "model_name": "DescriptionStyleModel",
      "state": {
       "description_width": "initial"
      }
     },
     "e01d2254ed844b0db5262952bbd8cb16": {
      "model_module": "@jupyter-widgets/base",
      "model_module_version": "1.2.0",
      "model_name": "LayoutModel",
      "state": {}
     },
     "e04b398f5022477697b82fced2d522dd": {
      "model_module": "@jupyter-widgets/base",
      "model_module_version": "1.2.0",
      "model_name": "LayoutModel",
      "state": {
       "grid_area": "dircontent",
       "width": "auto"
      }
     },
     "e0642a45ea1949048c4b8f0ab01e97a3": {
      "model_module": "@jupyter-widgets/controls",
      "model_module_version": "1.5.0",
      "model_name": "ButtonStyleModel",
      "state": {}
     },
     "e06a0b91fe4742a685b5f676f1ca6097": {
      "model_module": "@jupyter-widgets/controls",
      "model_module_version": "1.5.0",
      "model_name": "DropdownModel",
      "state": {
       "_options_labels": [
        "",
        "Ore/39_Ore_Callinan",
        "Ore/38_Ore_Dan_Owens",
        "Ore/40_Ore_FlinFlon",
        "Workspace/Inversion_VTEM_Model",
        "Workspace/CDI_VTEM_model",
        "Workspace/Data_FEM_pseudo3D",
        "Workspace/geochem",
        "Workspace/Inversion_DIGHEM_Model",
        "Workspace/Topography",
        "Workspace/Data_TEM_pseudo3D",
        "Workspace/Data_ZTEM",
        "Workspace/Mesh"
       ],
       "description": "Object",
       "index": 0,
       "layout": "IPY_MODEL_fcada985956b4ca0addef82e8308b4c9",
       "style": "IPY_MODEL_f3aa80ae3f64450eaf328d0f1bada8f7"
      }
     },
     "e0989385276a47839b230ffe66b84524": {
      "model_module": "@jupyter-widgets/base",
      "model_module_version": "1.2.0",
      "model_name": "LayoutModel",
      "state": {
       "display": "none",
       "grid_gap": "0px 0px",
       "grid_template_areas": "\n                    'pathlist filename'\n                    'dircontent dircontent'\n                    ",
       "grid_template_columns": "60% 40%",
       "grid_template_rows": "auto auto",
       "width": "500px"
      }
     },
     "e0999460fd834526852fad8bb501497a": {
      "model_module": "@jupyter-widgets/controls",
      "model_module_version": "1.5.0",
      "model_name": "DescriptionStyleModel",
      "state": {
       "description_width": "initial"
      }
     },
     "e0f41d057dd444009f987107d123e4e4": {
      "model_module": "@jupyter-widgets/controls",
      "model_module_version": "1.5.0",
      "model_name": "DescriptionStyleModel",
      "state": {
       "description_width": "initial"
      }
     },
     "e11be8ff210f4ee69f9e67344a7a304c": {
      "model_module": "@jupyter-widgets/controls",
      "model_module_version": "1.5.0",
      "model_name": "DescriptionStyleModel",
      "state": {
       "description_width": "initial"
      }
     },
     "e128370c8de84a42a58118517d11db84": {
      "model_module": "@jupyter-widgets/controls",
      "model_module_version": "1.5.0",
      "model_name": "HBoxModel",
      "state": {
       "children": [
        "IPY_MODEL_c56c0b4dc02f457796a1806f738bdb55",
        "IPY_MODEL_1a41f846a4234e82951a55bf0cea2911",
        "IPY_MODEL_b8a02066619f4d27844fa354f5528bb9"
       ],
       "layout": "IPY_MODEL_d7af9845c7ee48be97510c015f87af06"
      }
     },
     "e150ea1132814f018bf3232e358b0516": {
      "model_module": "@jupyter-widgets/controls",
      "model_module_version": "1.5.0",
      "model_name": "DescriptionStyleModel",
      "state": {
       "description_width": ""
      }
     },
     "e16be1815f49416b9a4c1166476bb9d0": {
      "model_module": "@jupyter-widgets/base",
      "model_module_version": "1.2.0",
      "model_name": "LayoutModel",
      "state": {
       "display": "none",
       "grid_gap": "0px 0px",
       "grid_template_areas": "\n                    'pathlist filename'\n                    'dircontent dircontent'\n                    ",
       "grid_template_columns": "60% 40%",
       "grid_template_rows": "auto auto",
       "width": "auto"
      }
     },
     "e16ea7e78e654792b525e6d10319bbd0": {
      "model_module": "@jupyter-widgets/controls",
      "model_module_version": "1.5.0",
      "model_name": "DescriptionStyleModel",
      "state": {
       "description_width": ""
      }
     },
     "e1865cfd77b44fa58bf379a0208bf488": {
      "model_module": "@jupyter-widgets/controls",
      "model_module_version": "1.5.0",
      "model_name": "DescriptionStyleModel",
      "state": {
       "description_width": ""
      }
     },
     "e189f7a2c7ea41a2a6aa45bd4f383f66": {
      "model_module": "@jupyter-widgets/controls",
      "model_module_version": "1.5.0",
      "model_name": "DescriptionStyleModel",
      "state": {
       "description_width": "initial"
      }
     },
     "e1970f1a8d2b4b678f78b490e9fa8dbf": {
      "model_module": "@jupyter-widgets/controls",
      "model_module_version": "1.5.0",
      "model_name": "FloatTextModel",
      "state": {
       "description": "Distance",
       "layout": "IPY_MODEL_31910868a23b436fb19504cfa2d29809",
       "step": null,
       "style": "IPY_MODEL_af8688146f2c46dd83881c59106a9cf9",
       "value": 1000
      }
     },
     "e1c5621c86a4447e99f214ffe18195c7": {
      "model_module": "@jupyter-widgets/controls",
      "model_module_version": "1.5.0",
      "model_name": "VBoxModel",
      "state": {
       "children": [
        "IPY_MODEL_a6615adf5fd2425d8bb8fdab55bb9f82"
       ],
       "layout": "IPY_MODEL_abbaaae79c24449eacf28d4572a60ce5"
      }
     },
     "e1cd5d7b366245f591f3900895d2759b": {
      "model_module": "@jupyter-widgets/controls",
      "model_module_version": "1.5.0",
      "model_name": "DescriptionStyleModel",
      "state": {
       "description_width": "initial"
      }
     },
     "e1d7c5eb6c54440ca7a9beac0fc193cd": {
      "model_module": "@jupyter-widgets/base",
      "model_module_version": "1.2.0",
      "model_name": "LayoutModel",
      "state": {}
     },
     "e1d93ef1a715474aa60cd6ef222263d0": {
      "model_module": "@jupyter-widgets/controls",
      "model_module_version": "1.5.0",
      "model_name": "BoxModel",
      "state": {
       "children": [
        "IPY_MODEL_ff2630bda5b44f8b966c65ace38379ae"
       ],
       "layout": "IPY_MODEL_a1f24cf88ab24273a8f6037909a875b1"
      }
     },
     "e20d162817ed4bc68dc0ab5534493eea": {
      "model_module": "@jupyter-widgets/base",
      "model_module_version": "1.2.0",
      "model_name": "LayoutModel",
      "state": {}
     },
     "e24190265a474be0bccc5c27e9937900": {
      "model_module": "@jupyter-widgets/controls",
      "model_module_version": "1.5.0",
      "model_name": "VBoxModel",
      "state": {
       "children": [
        "IPY_MODEL_f8ba04ea12e043c682e0a480a20db8b6",
        "IPY_MODEL_3e6138e4b2a045b3ac3f477af124e384"
       ],
       "layout": "IPY_MODEL_83e3a42b9ed84589a64d46e159606cf8"
      }
     },
     "e258c0f41d4a4abf9fde5231322d841f": {
      "model_module": "@jupyter-widgets/controls",
      "model_module_version": "1.5.0",
      "model_name": "DropdownModel",
      "state": {
       "_options_labels": [
        "",
        "--- Channels ---",
        "CPI900",
        "CPI7200",
        "CPI56k",
        "CPQ900",
        "CPQ7200",
        "CPQ56k",
        "DEM",
        "Line",
        "X",
        "Y",
        "Z"
       ],
       "description": "Data: ",
       "index": 0,
       "layout": "IPY_MODEL_86eca6691c5b4ff6b22ae281c625a5ca",
       "style": "IPY_MODEL_796f70fccc7340c19692db2ca46b4ba2"
      }
     },
     "e25cc6f32261481b84b811624279b5ae": {
      "model_module": "@jupyter-widgets/base",
      "model_module_version": "1.2.0",
      "model_name": "LayoutModel",
      "state": {}
     },
     "e2784c679d0f4778b88ff5e8b4a1cd91": {
      "model_module": "@jupyter-widgets/controls",
      "model_module_version": "1.5.0",
      "model_name": "DescriptionStyleModel",
      "state": {
       "description_width": ""
      }
     },
     "e2993b4f9a5e4949a45622e160d9979f": {
      "model_module": "@jupyter-widgets/controls",
      "model_module_version": "1.5.0",
      "model_name": "DropdownModel",
      "state": {
       "_options_labels": [
        "",
        "CoordinateTransformation/Data_TEM_pseudo3DEPSG_4326",
        "CoordinateTransformation/Data_TEM_pseudo3DEPSG_4326",
        "Faults_Dikes/fault_splay1",
        "Faults_Dikes/fault_Cliff_Lake",
        "Faults_Dikes/fault_Other_FlinFlon",
        "Faults_Dikes/fault_Club_Lake_splay",
        "Faults_Dikes/fault_Catherine_splay2",
        "Faults_Dikes/fault_Birch_View",
        "Faults_Dikes/fault_Dion_Lake",
        "Faults_Dikes/fault_FlinFlon_splay",
        "Faults_Dikes/fault_West_Mandy_Road",
        "Faults_Dikes/fault_Channing",
        "Faults_Dikes/fault_Ross_Lake",
        "Faults_Dikes/fault_Louis_Hidden",
        "Faults_Dikes/fault_Lake_View_thrust",
        "Faults_Dikes/contact_Schist_Lake",
        "Faults_Dikes/fault_Burley_Lake",
        "Faults_Dikes/fault_Dion_Lake_splay",
        "Faults_Dikes/fault_Green_Lake",
        "Faults_Dikes/fault_FlinFlon",
        "Faults_Dikes/fault_Catherine_splay1",
        "Faults_Dikes/fault_East_Mandy_Road",
        "Faults_Dikes/fault_Other_FlinFlon_South",
        "Faults_Dikes/fault_Catherine_splay4",
        "Faults_Dikes/contact_Stitt_Island",
        "Faults_Dikes/fault_Club_Lake",
        "Faults_Dikes/fault_Tailing_Pond",
        "Horizons/35_Hidden_Reservoir_Hr5",
        "Horizons/29_Hidden_Reservoir_Hr1a",
        "Horizons/60_BlueLagoon_Fb2",
        "Horizons/20_FlinFlon_Undivided_Int_Dykes_D2f",
        "Horizons/04_Boundary_Intrusive_S4h",
        "Horizons/53_Millrock_Rhyolite_Fm4b",
        "Horizons/19_FlinFlon_Undivided_Int_Dykes_D2b",
        "Horizons/18_FlinFlon_Undivided_Int_Dykes_777_D2b",
        "Horizons/06_Phantom_Lake_Intrusive_S3a",
        "Horizons/21_FlinFlon_Undivided_Int_Dykes_D3a",
        "Horizons/43_Millrock_CHLSH_South",
        "Horizons/56_Millrock_Basalt_Fm1ba",
        "Horizons/17_FlinFlon_Undivided_Int_Dykes_D2",
        "Horizons/32_Hidden_Reservoir_Hr1b_SW",
        "Horizons/11_Missi_M3_NE",
        "Horizons/13_Missi_M1",
        "Horizons/07_Annabel_Granitoid_S1",
        "Horizons/45_Millrock_Gabbro_South",
        "Horizons/01_Late_Intrusive_S5b",
        "Horizons/31_Hidden_Reservoir_Hr1c_SW",
        "Horizons/52_Millrock_Rhyolite_Fm4_West_check",
        "Horizons/55_Millrock_Basalt_Fm1bf",
        "Horizons/34_Hidden_Reservoir_Hr2b",
        "Horizons/03_Boundary_Intrusive_S4b",
        "Horizons/42_Millrock_CHLSH_North",
        "Horizons/26_Louis_L3",
        "Horizons/23_FlinFlon_Undivided_Int_Felsic_D4g",
        "Horizons/30_Hidden_Reservoir_Hr1b",
        "Horizons/59_BlueLagoon_Fb3",
        "Horizons/49_Millrock_MVR_Fm5d",
        "Horizons/44_Millrock_Gabbro_North",
        "Horizons/27_Hidden_Carlisle_Hc4",
        "Horizons/22_FlinFlon_Undivided_Int_Felsic_D4e",
        "Horizons/02_Boundary_Intrusive_S4a",
        "Horizons/61_BlueLagoon_Fb1_NW",
        "Horizons/05_Boundary_Intrusive_S4g",
        "Ore/39_Ore_Callinan",
        "Ore/38_Ore_Dan_Owens",
        "Ore/40_Ore_FlinFlon",
        "Workspace/Inversion_VTEM_Model",
        "Workspace/CDI_VTEM_model",
        "Workspace/Data_FEM_pseudo3D",
        "Workspace/geochem",
        "Workspace/Inversion_DIGHEM_Model",
        "Workspace/Topography",
        "Workspace/Data_TEM_pseudo3D",
        "Workspace/Data_ZTEM",
        "Workspace/Mesh"
       ],
       "description": "Object",
       "index": 69,
       "layout": "IPY_MODEL_999e0726e8fb49228ad0285c4fa8e18b",
       "style": "IPY_MODEL_736d3198e4b44df19165dd51ea26da35"
      }
     },
     "e2a4c4f0f716469281d38611b20f8abb": {
      "model_module": "@jupyter-widgets/controls",
      "model_module_version": "1.5.0",
      "model_name": "DropdownModel",
      "state": {
       "_options_labels": [
        "C:\\Users\\dominiquef\\Documents\\GIT\\mira\\geoapps\\assets",
        "C:\\Users\\dominiquef\\Documents\\GIT\\mira\\geoapps",
        "C:\\Users\\dominiquef\\Documents\\GIT\\mira",
        "C:\\Users\\dominiquef\\Documents\\GIT",
        "C:\\Users\\dominiquef\\Documents",
        "C:\\Users\\dominiquef",
        "C:\\Users",
        "C:\\",
        "\\\\EgnyteDrive\\mirageoscience\\",
        "D:\\",
        "G:\\"
       ],
       "index": 0,
       "layout": "IPY_MODEL_e5fb3696272d43608062ee3fa7a8c300",
       "style": "IPY_MODEL_7fac22545aeb47ff9a9e053e587ad3e1"
      }
     },
     "e2a7afbc48e143baa96a10cf827a4712": {
      "model_module": "@jupyter-widgets/controls",
      "model_module_version": "1.5.0",
      "model_name": "HTMLModel",
      "state": {
       "layout": "IPY_MODEL_e74e852fee19486e831661c23b474230",
       "placeholder": "",
       "style": "IPY_MODEL_8b35b8256cc24ae7a9b83456c7416164",
       "value": "<span style=\"color:orange;\">C:\\Users\\dominiquef\\Documents\\GIT\\mira\\geoapps\\assets\\FlinFlon.geoh5</span>"
      }
     },
     "e2b86a0753414ea6befe4d8ad1de234b": {
      "model_module": "@jupyter-widgets/controls",
      "model_module_version": "1.5.0",
      "model_name": "ButtonStyleModel",
      "state": {}
     },
     "e2c9a15b062449a293bd04db14598ef7": {
      "model_module": "@jupyter-widgets/controls",
      "model_module_version": "1.5.0",
      "model_name": "DescriptionStyleModel",
      "state": {
       "description_width": "initial"
      }
     },
     "e2ca7f6322f84eee8d1ca9eb168e7d8c": {
      "model_module": "@jupyter-widgets/controls",
      "model_module_version": "1.5.0",
      "model_name": "DescriptionStyleModel",
      "state": {
       "description_width": "initial"
      }
     },
     "e2e1e6ba43c8446f8a0a635ef4782843": {
      "model_module": "@jupyter-widgets/controls",
      "model_module_version": "1.5.0",
      "model_name": "VBoxModel",
      "state": {
       "children": [
        "IPY_MODEL_be4d4a6081e042728bc4aa4cb3cf62c0"
       ],
       "layout": "IPY_MODEL_09bb0b4373a6417894e8dbe58cab7719"
      }
     },
     "e2eee9a18b124962b5e3ce75b09f774b": {
      "model_module": "@jupyter-widgets/base",
      "model_module_version": "1.2.0",
      "model_name": "LayoutModel",
      "state": {
       "min_width": "6em",
       "width": "6em"
      }
     },
     "e2f8a56eb93f4542978997429a23356f": {
      "model_module": "@jupyter-widgets/controls",
      "model_module_version": "1.5.0",
      "model_name": "DescriptionStyleModel",
      "state": {
       "description_width": "initial"
      }
     },
     "e2fb5d7409344dd5b53cdd420f93b8cf": {
      "model_module": "@jupyter-widgets/controls",
      "model_module_version": "1.5.0",
      "model_name": "DescriptionStyleModel",
      "state": {
       "description_width": "initial"
      }
     },
     "e31a7fa4bdc94d5a8b8c3a3c0961b7ea": {
      "model_module": "@jupyter-widgets/base",
      "model_module_version": "1.2.0",
      "model_name": "LayoutModel",
      "state": {}
     },
     "e3782421427444bc98e96ca823a944a8": {
      "model_module": "@jupyter-widgets/base",
      "model_module_version": "1.2.0",
      "model_name": "LayoutModel",
      "state": {}
     },
     "e37e31dda07843e8b03aa2d17d5498dd": {
      "model_module": "@jupyter-widgets/controls",
      "model_module_version": "1.5.0",
      "model_name": "FloatTextModel",
      "state": {
       "description": "Distance",
       "layout": "IPY_MODEL_143f206d53994ca6a3919e071e01c8f8",
       "step": null,
       "style": "IPY_MODEL_a286a8a90dea4cb6a276f6221426c6ee",
       "value": 1200
      }
     },
     "e3aa47b1ac234dc9ac8f4057cbb8569d": {
      "model_module": "@jupyter-widgets/controls",
      "model_module_version": "1.5.0",
      "model_name": "DescriptionStyleModel",
      "state": {
       "description_width": "initial"
      }
     },
     "e3ca0229b6ad4be9b9a6c443dfc522e5": {
      "model_module": "@jupyter-widgets/controls",
      "model_module_version": "1.5.0",
      "model_name": "DescriptionStyleModel",
      "state": {
       "description_width": "initial"
      }
     },
     "e3d4498601c74e8ab279bb7e545b74c8": {
      "model_module": "@jupyter-widgets/controls",
      "model_module_version": "1.5.0",
      "model_name": "DescriptionStyleModel",
      "state": {
       "description_width": ""
      }
     },
     "e3e74ee4478f4ee2afe9eda3d00ec197": {
      "model_module": "@jupyter-widgets/controls",
      "model_module_version": "1.5.0",
      "model_name": "DescriptionStyleModel",
      "state": {
       "description_width": "initial"
      }
     },
     "e4074071425042d08f14d6b93be48bad": {
      "model_module": "@jupyter-widgets/controls",
      "model_module_version": "1.5.0",
      "model_name": "FloatTextModel",
      "state": {
       "description": "Horizontal (m)",
       "layout": "IPY_MODEL_df8ab48adabd45a987f7f834e820eb7d",
       "step": null,
       "style": "IPY_MODEL_bd270aaaa63d4acca84927776acfcd07",
       "value": 1000
      }
     },
     "e4078be67adb48c491b27eb6265b5bef": {
      "model_module": "@jupyter-widgets/controls",
      "model_module_version": "1.5.0",
      "model_name": "DescriptionStyleModel",
      "state": {
       "description_width": "initial"
      }
     },
     "e4353637d01d469988a5f87bf90a64d8": {
      "model_module": "@jupyter-widgets/controls",
      "model_module_version": "1.5.0",
      "model_name": "DescriptionStyleModel",
      "state": {
       "description_width": ""
      }
     },
     "e44f71c03a5a43b7aab081988afdeb76": {
      "model_module": "@jupyter-widgets/base",
      "model_module_version": "1.2.0",
      "model_name": "LayoutModel",
      "state": {}
     },
     "e494ec6ab34a4f0a8ef17bf685fd3045": {
      "model_module": "@jupyter-widgets/controls",
      "model_module_version": "1.5.0",
      "model_name": "DescriptionStyleModel",
      "state": {
       "description_width": ""
      }
     },
     "e4a4327df065484f9c4b197103283fee": {
      "model_module": "@jupyter-widgets/controls",
      "model_module_version": "1.5.0",
      "model_name": "DescriptionStyleModel",
      "state": {
       "description_width": "initial"
      }
     },
     "e4dcc9c0781e4310af0d13dcaa0d7e30": {
      "model_module": "@jupyter-widgets/base",
      "model_module_version": "1.2.0",
      "model_name": "LayoutModel",
      "state": {}
     },
     "e4ea6101ae1e4b3ab934643b0730cfad": {
      "model_module": "@jupyter-widgets/controls",
      "model_module_version": "1.5.0",
      "model_name": "LabelModel",
      "state": {
       "layout": "IPY_MODEL_2c1c306ac08145858307b9bb3c77219c",
       "style": "IPY_MODEL_5d43ab0b0980486ba6365e80577a06bc",
       "value": "Padding distance"
      }
     },
     "e4ec3090fc8d42478bb9dcbc3c2edc9d": {
      "model_module": "@jupyter-widgets/controls",
      "model_module_version": "1.5.0",
      "model_name": "FloatTextModel",
      "state": {
       "description": "Northing",
       "layout": "IPY_MODEL_e3782421427444bc98e96ca823a944a8",
       "step": null,
       "style": "IPY_MODEL_f26a1190cdbd4d0391a572514f3af1c8",
       "value": 25
      }
     },
     "e4eed548b90c4b17a36ed9df4ff02ddb": {
      "model_module": "@jupyter-widgets/controls",
      "model_module_version": "1.5.0",
      "model_name": "DescriptionStyleModel",
      "state": {
       "description_width": ""
      }
     },
     "e4f113b4e174457483293e57bfa5dc27": {
      "model_module": "@jupyter-widgets/controls",
      "model_module_version": "1.5.0",
      "model_name": "LabelModel",
      "state": {
       "layout": "IPY_MODEL_7b41be27816e4499abd8884c8696e7a8",
       "style": "IPY_MODEL_ed2166b73af04f51ac23058240e8ae5b",
       "value": "Refinement B"
      }
     },
     "e505079eb5fa4c95bc17eb5bd4e04c46": {
      "model_module": "@jupyter-widgets/controls",
      "model_module_version": "1.5.0",
      "model_name": "HTMLModel",
      "state": {
       "layout": "IPY_MODEL_442ae39b1b3a41f3922115576a4aedc7",
       "style": "IPY_MODEL_a22b4e08f7a64c0eb1e1e0dd81089ba3"
      }
     },
     "e505d418519e4315877564ee4b313897": {
      "model_module": "@jupyter-widgets/controls",
      "model_module_version": "1.5.0",
      "model_name": "ButtonStyleModel",
      "state": {}
     },
     "e5318a47f1d0479c9084ee98e1e91740": {
      "model_module": "@jupyter-widgets/controls",
      "model_module_version": "1.5.0",
      "model_name": "VBoxModel",
      "state": {
       "children": [
        "IPY_MODEL_dd1c19e789b3425c9ab158e6d47fd084",
        "IPY_MODEL_4b9501830ee34bc4988b5a94cfa009c0",
        "IPY_MODEL_b098d6eeeb514c8b88ad93e0ac6f8db0",
        "IPY_MODEL_8a9d880035264bcc91342e55dd393c50",
        "IPY_MODEL_acc4b556a029410783ce430b97762af5",
        "IPY_MODEL_f1781afd06974cb18c601305ea65939b",
        "IPY_MODEL_2110a91264164d14a6d29f9bc8afd1d5",
        "IPY_MODEL_51e42a5eae414c9a8df37666468a3893",
        "IPY_MODEL_b2fcdf23be3a41d2b1adad8c701d8988",
        "IPY_MODEL_ce109eb55a834d4b88cb46c53e68306b"
       ],
       "layout": "IPY_MODEL_a10951c781524d88a7349087a340b711"
      }
     },
     "e5418e545e1245ecb759e88ffb257819": {
      "model_module": "@jupyter-widgets/controls",
      "model_module_version": "1.5.0",
      "model_name": "ButtonModel",
      "state": {
       "button_style": "danger",
       "description": "Create",
       "icon": "check",
       "layout": "IPY_MODEL_3ac8ae353cea46bda1988c7224317ef4",
       "style": "IPY_MODEL_4d911b260e0843f38acab17ddcc4486e",
       "tooltip": "Run computation"
      }
     },
     "e54a407b346746bb84ec7726bc839732": {
      "model_module": "@jupyter-widgets/controls",
      "model_module_version": "1.5.0",
      "model_name": "DescriptionStyleModel",
      "state": {
       "description_width": ""
      }
     },
     "e56a82a403484e1d8fb8af054062aff3": {
      "model_module": "@jupyter-widgets/base",
      "model_module_version": "1.2.0",
      "model_name": "LayoutModel",
      "state": {}
     },
     "e56db57430334e069c34e91db9758a59": {
      "model_module": "@jupyter-widgets/base",
      "model_module_version": "1.2.0",
      "model_name": "LayoutModel",
      "state": {}
     },
     "e57499fabc354db49b9c7f9865752aad": {
      "model_module": "@jupyter-widgets/controls",
      "model_module_version": "1.5.0",
      "model_name": "VBoxModel",
      "state": {
       "children": [
        "IPY_MODEL_e692212343c2475d98ab319bd7c2a9b8",
        "IPY_MODEL_c6457efbc31343928a5613d7caced623"
       ],
       "layout": "IPY_MODEL_5e260dfbf367449ebb138fb723b4dd2d"
      }
     },
     "e5a504e723e94212a7efd85709943413": {
      "model_module": "@jupyter-widgets/controls",
      "model_module_version": "1.5.0",
      "model_name": "ButtonStyleModel",
      "state": {}
     },
     "e5a9a4d4c9244f6db352758697a67da7": {
      "model_module": "@jupyter-widgets/base",
      "model_module_version": "1.2.0",
      "model_name": "LayoutModel",
      "state": {}
     },
     "e5c8cfef2f6c42fbbad978d64f537c03": {
      "model_module": "@jupyter-widgets/controls",
      "model_module_version": "1.5.0",
      "model_name": "DescriptionStyleModel",
      "state": {
       "description_width": "initial"
      }
     },
     "e5cb1d4af3fb4045ae230a7921b9ab42": {
      "model_module": "@jupyter-widgets/controls",
      "model_module_version": "1.5.0",
      "model_name": "VBoxModel",
      "state": {
       "children": [
        "IPY_MODEL_7bfaff4211b543edb59eb988ced5a0c2",
        "IPY_MODEL_7943078a86d74891b9f1d54f5a6ca2a3"
       ],
       "layout": "IPY_MODEL_688c402b6ede4df6a33c1217f6c1e0c9"
      }
     },
     "e5d5d0f948704157a576eac4e0185dfd": {
      "model_module": "@jupyter-widgets/controls",
      "model_module_version": "1.5.0",
      "model_name": "DescriptionStyleModel",
      "state": {
       "description_width": ""
      }
     },
     "e5f7a6c71b2743c693adda276caf82b1": {
      "model_module": "@jupyter-widgets/base",
      "model_module_version": "1.2.0",
      "model_name": "LayoutModel",
      "state": {
       "grid_area": "dircontent",
       "width": "auto"
      }
     },
     "e5fb3696272d43608062ee3fa7a8c300": {
      "model_module": "@jupyter-widgets/base",
      "model_module_version": "1.2.0",
      "model_name": "LayoutModel",
      "state": {
       "grid_area": "pathlist",
       "width": "auto"
      }
     },
     "e6006c82f3984e8e8ac0e8a34e7c27b4": {
      "model_module": "@jupyter-widgets/controls",
      "model_module_version": "1.5.0",
      "model_name": "DescriptionStyleModel",
      "state": {
       "description_width": "initial"
      }
     },
     "e605264ce3f0450bb371acb673c785ce": {
      "model_module": "@jupyter-widgets/controls",
      "model_module_version": "1.5.0",
      "model_name": "DescriptionStyleModel",
      "state": {
       "description_width": "initial"
      }
     },
     "e62f81f984294a53af909257e44bc7af": {
      "model_module": "@jupyter-widgets/controls",
      "model_module_version": "1.5.0",
      "model_name": "DescriptionStyleModel",
      "state": {
       "description_width": "initial"
      }
     },
     "e6437ab2d47047249cb1306d26fc9f82": {
      "model_module": "@jupyter-widgets/base",
      "model_module_version": "1.2.0",
      "model_name": "LayoutModel",
      "state": {
       "overflow": "auto"
      }
     },
     "e658eadfec774847b3f027d1189e5791": {
      "model_module": "@jupyter-widgets/controls",
      "model_module_version": "1.5.0",
      "model_name": "FloatTextModel",
      "state": {
       "description": "Easting",
       "layout": "IPY_MODEL_effef83024e74c01a8832ac90c427ea0",
       "step": null,
       "style": "IPY_MODEL_c95d4b4d1be848e08ef821e21e924df7",
       "value": 25
      }
     },
     "e65f6a4147b74fae8f170a119115a69c": {
      "model_module": "@jupyter-widgets/controls",
      "model_module_version": "1.5.0",
      "model_name": "DescriptionStyleModel",
      "state": {
       "description_width": "initial"
      }
     },
     "e6634921a72a455b97767daedefbe37c": {
      "model_module": "@jupyter-widgets/base",
      "model_module_version": "1.2.0",
      "model_name": "LayoutModel",
      "state": {}
     },
     "e68c638e8fb74abfbb63e6ad3008fe45": {
      "model_module": "@jupyter-widgets/controls",
      "model_module_version": "1.5.0",
      "model_name": "DescriptionStyleModel",
      "state": {
       "description_width": "initial"
      }
     },
     "e68eb77d481a4a0f962cbd2d00e46071": {
      "model_module": "@jupyter-widgets/controls",
      "model_module_version": "1.5.0",
      "model_name": "DescriptionStyleModel",
      "state": {
       "description_width": ""
      }
     },
     "e692212343c2475d98ab319bd7c2a9b8": {
      "model_module": "@jupyter-widgets/controls",
      "model_module_version": "1.5.0",
      "model_name": "VBoxModel",
      "state": {
       "children": [
        "IPY_MODEL_b85998db3d474aeba1530a66bb53aa13",
        "IPY_MODEL_ede44052a9a04a52947e9e176bceb67b"
       ],
       "layout": "IPY_MODEL_23a286af33b8499aab99b74b48f9a5a7"
      }
     },
     "e6abb3c9a8b748638d60e4231e8af3da": {
      "model_module": "@jupyter-widgets/controls",
      "model_module_version": "1.5.0",
      "model_name": "ButtonStyleModel",
      "state": {}
     },
     "e6ccc9374f3d489fbf26456aad826fd8": {
      "model_module": "@jupyter-widgets/controls",
      "model_module_version": "1.5.0",
      "model_name": "DescriptionStyleModel",
      "state": {
       "description_width": ""
      }
     },
     "e6d15ba46e0e4ab9a0528b3d74979f13": {
      "model_module": "@jupyter-widgets/controls",
      "model_module_version": "1.5.0",
      "model_name": "DescriptionStyleModel",
      "state": {
       "description_width": "initial"
      }
     },
     "e6d6a42513a44696a04df36aaab2caa9": {
      "model_module": "@jupyter-widgets/controls",
      "model_module_version": "1.5.0",
      "model_name": "VBoxModel",
      "state": {
       "children": [
        "IPY_MODEL_17c606e343e644638df6f5d4a6ce9587",
        "IPY_MODEL_1b92acdbf2614312a2c8559bd5be8521"
       ],
       "layout": "IPY_MODEL_5d6874ea2d944d9ba61cf1f15ada9e01"
      }
     },
     "e6dc55aac31d45a39ea913f515d8e7ed": {
      "model_module": "@jupyter-widgets/base",
      "model_module_version": "1.2.0",
      "model_name": "LayoutModel",
      "state": {}
     },
     "e6e5ce12f87b4d72b97bc57aba861a79": {
      "model_module": "@jupyter-widgets/base",
      "model_module_version": "1.2.0",
      "model_name": "LayoutModel",
      "state": {
       "min_width": "6em",
       "width": "6em"
      }
     },
     "e70327760a4f49efa1e5064e76d7361e": {
      "model_module": "@jupyter-widgets/controls",
      "model_module_version": "1.5.0",
      "model_name": "ButtonModel",
      "state": {
       "description": "Cancel",
       "layout": "IPY_MODEL_341767ad1a004144a0e10f6d340c3f63",
       "style": "IPY_MODEL_d294bb4064e0466bb0a82d3e3c2f3e03"
      }
     },
     "e71752c4bb9241358dd4a0f26fce2956": {
      "model_module": "@jupyter-widgets/controls",
      "model_module_version": "1.5.0",
      "model_name": "FloatTextModel",
      "state": {
       "description": "Distance",
       "layout": "IPY_MODEL_f2652af8a3f84d4193389ffa37b13a85",
       "step": null,
       "style": "IPY_MODEL_702e2a52b1054a69b032bf3a63021e30",
       "value": 1000
      }
     },
     "e74e852fee19486e831661c23b474230": {
      "model_module": "@jupyter-widgets/base",
      "model_module_version": "1.2.0",
      "model_name": "LayoutModel",
      "state": {
       "margin": "0 0 0 1em"
      }
     },
     "e7557fdfc49d48a799d4910d55a1d78d": {
      "model_module": "@jupyter-widgets/base",
      "model_module_version": "1.2.0",
      "model_name": "LayoutModel",
      "state": {
       "width": "auto"
      }
     },
     "e770213c7bf6424097b9ad06bddcd1c3": {
      "model_module": "@jupyter-widgets/base",
      "model_module_version": "1.2.0",
      "model_name": "LayoutModel",
      "state": {}
     },
     "e775d09a1f504cae9225f3ea424254f8": {
      "model_module": "@jupyter-widgets/controls",
      "model_module_version": "1.5.0",
      "model_name": "ButtonStyleModel",
      "state": {}
     },
     "e7786021f2e64e7a9f05a5ea56235dc3": {
      "model_module": "@jupyter-widgets/controls",
      "model_module_version": "1.5.0",
      "model_name": "DropdownModel",
      "state": {
       "_options_labels": [
        "",
        "CoordinateTransformation/Data_TEM_pseudo3DEPSG_4326",
        "ISO/Iso_Iteration_7_model_5_00e-03",
        "ISO/Iso_Iteration_7_model_1_00e-02",
        "ISO/Iso_Iteration_7_model_1_50e-02",
        "ISO/Iso_Iteration_7_model_2_50e-03",
        "ISO/Iso_Iteration_7_model_2_00e-02",
        "Ore/39_Ore_Callinan",
        "Ore/38_Ore_Dan_Owens",
        "Ore/40_Ore_FlinFlon",
        "Workspace/Inversion_VTEM_Model",
        "Workspace/CDI_VTEM_model",
        "Workspace/Data_FEM_pseudo3D",
        "Workspace/geochem",
        "Workspace/Inversion_DIGHEM_Model",
        "Workspace/Topography",
        "Workspace/Data_TEM_pseudo3D",
        "Workspace/Data_ZTEM",
        "Workspace/Mesh"
       ],
       "description": "Object",
       "index": 12,
       "layout": "IPY_MODEL_d2b136a5987e44d4a51f688da4b482d8",
       "style": "IPY_MODEL_87ac6d30fe334fde95ac9faf937edae3"
      }
     },
     "e77d21e008d94308a38fbd7b4384087e": {
      "model_module": "@jupyter-widgets/controls",
      "model_module_version": "1.5.0",
      "model_name": "TextModel",
      "state": {
       "layout": "IPY_MODEL_23d203b0447543079fc5606fbd2cc81a",
       "placeholder": "output filename",
       "style": "IPY_MODEL_e68eb77d481a4a0f962cbd2d00e46071",
       "value": "FlinFlon.geoh5"
      }
     },
     "e7973867fdc94dceb48a2d2f0d8a1d6d": {
      "model_module": "@jupyter-widgets/controls",
      "model_module_version": "1.5.0",
      "model_name": "VBoxModel",
      "state": {
       "children": [
        "IPY_MODEL_f1d70e68176c43389a8b9ab6e4597b39",
        "IPY_MODEL_c664e6e06863409a86bc9533f3f96ddb"
       ],
       "layout": "IPY_MODEL_845bf9567e3343adb24a1e67c617bde1"
      }
     },
     "e79afb0e8e7b498fbb9bc39be03aa6c6": {
      "model_module": "@jupyter-widgets/controls",
      "model_module_version": "1.5.0",
      "model_name": "DescriptionStyleModel",
      "state": {
       "description_width": ""
      }
     },
     "e7abbfe4e8ea4d75ba42643f43ba381b": {
      "model_module": "@jupyter-widgets/controls",
      "model_module_version": "1.5.0",
      "model_name": "VBoxModel",
      "state": {
       "children": [
        "IPY_MODEL_85c56c16edd94ebcb511d5e5fb387b56",
        "IPY_MODEL_788d6de3db594be5af64ff0730e6993a"
       ],
       "layout": "IPY_MODEL_fefd4fd5b60a453c94e38df92f7dd7a7"
      }
     },
     "e7acef1c42034627b51c7ef3baf3c19b": {
      "model_module": "@jupyter-widgets/base",
      "model_module_version": "1.2.0",
      "model_name": "LayoutModel",
      "state": {}
     },
     "e7bc8a30fe57480aa329dd7fa4cf50e2": {
      "model_module": "@jupyter-widgets/controls",
      "model_module_version": "1.5.0",
      "model_name": "FloatTextModel",
      "state": {
       "description": "Distance",
       "layout": "IPY_MODEL_17f1350946b6455185fb453f24b661e5",
       "step": null,
       "style": "IPY_MODEL_4444170e99bf4d8c8131815b7818fe01",
       "value": 1200
      }
     },
     "e7e387c9e2984ff09e957ade7229df3f": {
      "model_module": "@jupyter-widgets/controls",
      "model_module_version": "1.5.0",
      "model_name": "DescriptionStyleModel",
      "state": {
       "description_width": "initial"
      }
     },
     "e7e6bbda75b54115be465098ebabfd5a": {
      "model_module": "@jupyter-widgets/controls",
      "model_module_version": "1.5.0",
      "model_name": "BoxModel",
      "state": {
       "children": [
        "IPY_MODEL_87ce7e9bb97b45bcb6f615300b580934"
       ],
       "layout": "IPY_MODEL_2b2fc22e21cf4a91ac7ade8d3d3a789c"
      }
     },
     "e82f783006174028af454acc033935e9": {
      "model_module": "@jupyter-widgets/base",
      "model_module_version": "1.2.0",
      "model_name": "LayoutModel",
      "state": {}
     },
     "e839760ee4734e6c9e954ef6bdcb181b": {
      "model_module": "@jupyter-widgets/controls",
      "model_module_version": "1.5.0",
      "model_name": "DescriptionStyleModel",
      "state": {
       "description_width": "initial"
      }
     },
     "e8564b43b0344a97ab5a2a841d9e2589": {
      "model_module": "@jupyter-widgets/controls",
      "model_module_version": "1.5.0",
      "model_name": "DescriptionStyleModel",
      "state": {
       "description_width": ""
      }
     },
     "e8861e7b8c134be18c770513b0387053": {
      "model_module": "@jupyter-widgets/controls",
      "model_module_version": "1.5.0",
      "model_name": "ButtonStyleModel",
      "state": {}
     },
     "e8878310e53a4bfd902e83e03aeac3bd": {
      "model_module": "@jupyter-widgets/controls",
      "model_module_version": "1.5.0",
      "model_name": "ButtonStyleModel",
      "state": {}
     },
     "e88833c93c294d768ef3cd69291f179a": {
      "model_module": "@jupyter-widgets/base",
      "model_module_version": "1.2.0",
      "model_name": "LayoutModel",
      "state": {
       "width": "auto"
      }
     },
     "e89b420c5f24492bb0d4aac9a742da71": {
      "model_module": "@jupyter-widgets/controls",
      "model_module_version": "1.5.0",
      "model_name": "VBoxModel",
      "state": {
       "children": [
        "IPY_MODEL_1eb9385ac10b49e8819a3849fccfda30",
        "IPY_MODEL_10423178326b47b08d17e2e0dce891eb"
       ],
       "layout": "IPY_MODEL_d1dd42f9c238480f882df29b3dbb8955"
      }
     },
     "e8a7c736398d45edaac6e01e5ea3bf59": {
      "model_module": "@jupyter-widgets/controls",
      "model_module_version": "1.5.0",
      "model_name": "ButtonStyleModel",
      "state": {}
     },
     "e8c6ee05e161494683ed3c88f65ad174": {
      "model_module": "@jupyter-widgets/controls",
      "model_module_version": "1.5.0",
      "model_name": "DescriptionStyleModel",
      "state": {
       "description_width": ""
      }
     },
     "e8cca102962f4625b34c129b9193f469": {
      "model_module": "@jupyter-widgets/controls",
      "model_module_version": "1.5.0",
      "model_name": "VBoxModel",
      "state": {
       "children": [
        "IPY_MODEL_334b49958bbf4acfac96a8451b4bd931",
        "IPY_MODEL_e2e1e6ba43c8446f8a0a635ef4782843"
       ],
       "layout": "IPY_MODEL_046167f53e75431b8f4627034011d73f"
      }
     },
     "e8d7e0d2beb04c80927b2fb7b92cef6d": {
      "model_module": "@jupyter-widgets/base",
      "model_module_version": "1.2.0",
      "model_name": "LayoutModel",
      "state": {}
     },
     "e8e41c9103084abaa734b1fb90ceb9dc": {
      "model_module": "@jupyter-widgets/controls",
      "model_module_version": "1.5.0",
      "model_name": "DropdownModel",
      "state": {
       "_options_labels": [
        "",
        "Data_TEM_pseudo3DEPSG_4326",
        "Iso_Iteration_7_model_2_50e-03",
        "Iso_Iteration_7_model_1_00e-02",
        "Iso_Iteration_7_model_1_50e-02",
        "Iso_Iteration_7_model_2_00e-02",
        "Iso_Iteration_7_model_2_00e-02",
        "Iso_Iteration_7_model_5_00e-03",
        "Iso_Iteration_7_model_2_50e-03",
        "Iso_Iteration_7_model_1_50e-02",
        "Iso_Iteration_7_model_1_00e-02",
        "Iso_Iteration_7_model_5_00e-03",
        "fault_splay1",
        "fault_Cliff_Lake",
        "fault_Other_FlinFlon",
        "fault_Club_Lake_splay",
        "fault_Catherine_splay2",
        "fault_Birch_View",
        "fault_Dion_Lake",
        "fault_FlinFlon_splay",
        "fault_West_Mandy_Road",
        "fault_Channing",
        "fault_Ross_Lake",
        "fault_Louis_Hidden",
        "fault_Lake_View_thrust",
        "contact_Schist_Lake",
        "fault_Burley_Lake",
        "fault_Dion_Lake_splay",
        "fault_Green_Lake",
        "fault_FlinFlon",
        "fault_Catherine_splay1",
        "fault_East_Mandy_Road",
        "fault_Other_FlinFlon_South",
        "fault_Catherine_splay4",
        "contact_Stitt_Island",
        "fault_Club_Lake",
        "fault_Tailing_Pond",
        "35_Hidden_Reservoir_Hr5",
        "29_Hidden_Reservoir_Hr1a",
        "60_BlueLagoon_Fb2",
        "20_FlinFlon_Undivided_Int_Dykes_D2f",
        "04_Boundary_Intrusive_S4h",
        "53_Millrock_Rhyolite_Fm4b",
        "19_FlinFlon_Undivided_Int_Dykes_D2b",
        "18_FlinFlon_Undivided_Int_Dykes_777_D2b",
        "06_Phantom_Lake_Intrusive_S3a",
        "21_FlinFlon_Undivided_Int_Dykes_D3a",
        "43_Millrock_CHLSH_South",
        "56_Millrock_Basalt_Fm1ba",
        "17_FlinFlon_Undivided_Int_Dykes_D2",
        "32_Hidden_Reservoir_Hr1b_SW",
        "11_Missi_M3_NE",
        "13_Missi_M1",
        "07_Annabel_Granitoid_S1",
        "45_Millrock_Gabbro_South",
        "01_Late_Intrusive_S5b",
        "31_Hidden_Reservoir_Hr1c_SW",
        "52_Millrock_Rhyolite_Fm4_West_check",
        "55_Millrock_Basalt_Fm1bf",
        "34_Hidden_Reservoir_Hr2b",
        "03_Boundary_Intrusive_S4b",
        "42_Millrock_CHLSH_North",
        "26_Louis_L3",
        "23_FlinFlon_Undivided_Int_Felsic_D4g",
        "30_Hidden_Reservoir_Hr1b",
        "59_BlueLagoon_Fb3",
        "49_Millrock_MVR_Fm5d",
        "44_Millrock_Gabbro_North",
        "27_Hidden_Carlisle_Hc4",
        "22_FlinFlon_Undivided_Int_Felsic_D4e",
        "02_Boundary_Intrusive_S4a",
        "61_BlueLagoon_Fb1_NW",
        "05_Boundary_Intrusive_S4g",
        "39_Ore_Callinan",
        "38_Ore_Dan_Owens",
        "40_Ore_FlinFlon",
        "Inversion_VTEM_Model",
        "CDI_VTEM_model",
        "Data_FEM_pseudo3D",
        "geochem",
        "Inversion_DIGHEM_Model",
        "Topography",
        "Data_TEM_pseudo3D",
        "Data_ZTEM",
        "Mesh"
       ],
       "description": "Object",
       "index": 0,
       "layout": "IPY_MODEL_cc1c7058e5274fbcb389185b1c994caf",
       "style": "IPY_MODEL_37016389fc0b44efbaed195604c8a3c3"
      }
     },
     "e908c54b02d340078e71f51cb8242117": {
      "model_module": "@jupyter-widgets/controls",
      "model_module_version": "1.5.0",
      "model_name": "DescriptionStyleModel",
      "state": {
       "description_width": "initial"
      }
     },
     "e909a33893704ead9475d91c7dc65191": {
      "model_module": "@jupyter-widgets/base",
      "model_module_version": "1.2.0",
      "model_name": "LayoutModel",
      "state": {}
     },
     "e912f80426b94442b32a4b0b88734e94": {
      "model_module": "@jupyter-widgets/controls",
      "model_module_version": "1.5.0",
      "model_name": "DescriptionStyleModel",
      "state": {
       "description_width": "initial"
      }
     },
     "e9193432a88a47ddbd6ea040c78f8b93": {
      "model_module": "@jupyter-widgets/base",
      "model_module_version": "1.2.0",
      "model_name": "LayoutModel",
      "state": {}
     },
     "e91b74e61014411da5f8bc6d9ab4617f": {
      "model_module": "@jupyter-widgets/controls",
      "model_module_version": "1.5.0",
      "model_name": "DescriptionStyleModel",
      "state": {
       "description_width": ""
      }
     },
     "e91c791a1e7249398bf405ed4e9c1834": {
      "model_module": "@jupyter-widgets/controls",
      "model_module_version": "1.5.0",
      "model_name": "DescriptionStyleModel",
      "state": {
       "description_width": ""
      }
     },
     "e9b172c5c7a54272bb110e6b83d382e3": {
      "model_module": "@jupyter-widgets/controls",
      "model_module_version": "1.5.0",
      "model_name": "DescriptionStyleModel",
      "state": {
       "description_width": ""
      }
     },
     "e9f75e4d9b204c13aeaa2cc2caf12716": {
      "model_module": "@jupyter-widgets/base",
      "model_module_version": "1.2.0",
      "model_name": "LayoutModel",
      "state": {}
     },
     "e9f9d978bf72431d8740d96c123ae340": {
      "model_module": "@jupyter-widgets/controls",
      "model_module_version": "1.5.0",
      "model_name": "TextModel",
      "state": {
       "disabled": true,
       "layout": "IPY_MODEL_3b44286405a2497a8c9904bac8b4f70e",
       "placeholder": "output filename",
       "style": "IPY_MODEL_ed721e59783a4063a3ec4e02c6941042"
      }
     },
     "e9fa5502326846ba85a7de03b09d0579": {
      "model_module": "@jupyter-widgets/controls",
      "model_module_version": "1.5.0",
      "model_name": "TextModel",
      "state": {
       "continuous_update": false,
       "description": "Name:",
       "layout": "IPY_MODEL_e25cc6f32261481b84b811624279b5ae",
       "style": "IPY_MODEL_87ac7fec2b3d45edb3a898b894642b8f",
       "value": "Octree_Mesh"
      }
     },
     "e9ffe959b5a24e61832aacb77e72fdd4": {
      "model_module": "@jupyter-widgets/controls",
      "model_module_version": "1.5.0",
      "model_name": "DescriptionStyleModel",
      "state": {
       "description_width": "initial"
      }
     },
     "ea0f5004283141138d89f23c713608a5": {
      "model_module": "@jupyter-widgets/controls",
      "model_module_version": "1.5.0",
      "model_name": "VBoxModel",
      "state": {
       "children": [
        "IPY_MODEL_8abdc9e563d642479560c1ba0a5cf459",
        "IPY_MODEL_db321262ca0240799b4566570aabac6d",
        "IPY_MODEL_2aa43ebcc83f40c4980fe2ebd71de899"
       ],
       "layout": "IPY_MODEL_2955a1f9c0084fb58a294898f55c9f69"
      }
     },
     "ea10650b433d4458b0b3365388289bfc": {
      "model_module": "@jupyter-widgets/controls",
      "model_module_version": "1.5.0",
      "model_name": "TextModel",
      "state": {
       "layout": "IPY_MODEL_85af8a1c29584ab59cce9560669f2b48",
       "placeholder": "output filename",
       "style": "IPY_MODEL_2a97ac38bdbe4a23af28cee6cfe5fcc9",
       "value": "FlinFlon.geoh5"
      }
     },
     "ea5d776e52d44973b185344bcbab21d5": {
      "model_module": "@jupyter-widgets/controls",
      "model_module_version": "1.5.0",
      "model_name": "DescriptionStyleModel",
      "state": {
       "description_width": ""
      }
     },
     "ea5f0d3c874e4eda954314a5c268f368": {
      "model_module": "@jupyter-widgets/controls",
      "model_module_version": "1.5.0",
      "model_name": "DescriptionStyleModel",
      "state": {
       "description_width": "initial"
      }
     },
     "ea98d7e3bf534783b3a67579fb109e89": {
      "model_module": "@jupyter-widgets/controls",
      "model_module_version": "1.5.0",
      "model_name": "DescriptionStyleModel",
      "state": {
       "description_width": "initial"
      }
     },
     "eaa276d91ce34121a0b7dd1347a20390": {
      "model_module": "@jupyter-widgets/controls",
      "model_module_version": "1.5.0",
      "model_name": "LabelModel",
      "state": {
       "layout": "IPY_MODEL_96854780a37a44e19c6d27853dff857f",
       "style": "IPY_MODEL_778e25e581f647fa87d47183ee1272d6",
       "value": "Base Parameters"
      }
     },
     "eabcf6590bd64d62bb5451d82840a9bb": {
      "model_module": "@jupyter-widgets/controls",
      "model_module_version": "1.5.0",
      "model_name": "BoxModel",
      "state": {
       "children": [
        "IPY_MODEL_f7897aa7e7034d8492342c0a5a4b39bc"
       ],
       "layout": "IPY_MODEL_a6447837bde44ff3bd06cfbd19bfbb7e"
      }
     },
     "ead21715cdf4472ea67e40347bdb08c2": {
      "model_module": "@jupyter-widgets/base",
      "model_module_version": "1.2.0",
      "model_name": "LayoutModel",
      "state": {}
     },
     "ead38ee04b3c4cee9e036b2189736e1f": {
      "model_module": "@jupyter-widgets/controls",
      "model_module_version": "1.5.0",
      "model_name": "ButtonModel",
      "state": {
       "description": "Cancel",
       "layout": "IPY_MODEL_39e09f90aefb49d0989ce4a54e865994",
       "style": "IPY_MODEL_5ed23fbbcade4c8c840f3ba7800a2364"
      }
     },
     "eae365f79d3341fbb481122da9287a64": {
      "model_module": "@jupyter-widgets/controls",
      "model_module_version": "1.5.0",
      "model_name": "DescriptionStyleModel",
      "state": {
       "description_width": ""
      }
     },
     "eb0c1f2d2c4a42f686bba51527deb593": {
      "model_module": "@jupyter-widgets/controls",
      "model_module_version": "1.5.0",
      "model_name": "DescriptionStyleModel",
      "state": {
       "description_width": "initial"
      }
     },
     "eb14dbded445426aa00fc56bec3c95d1": {
      "model_module": "@jupyter-widgets/controls",
      "model_module_version": "1.5.0",
      "model_name": "DescriptionStyleModel",
      "state": {
       "description_width": ""
      }
     },
     "eb18ee250fbf4691850cd59d344eb758": {
      "model_module": "@jupyter-widgets/controls",
      "model_module_version": "1.5.0",
      "model_name": "DescriptionStyleModel",
      "state": {
       "description_width": ""
      }
     },
     "eb19a89aadef4e5c8a91c9e97236e54e": {
      "model_module": "@jupyter-widgets/base",
      "model_module_version": "1.2.0",
      "model_name": "LayoutModel",
      "state": {
       "grid_area": "pathlist",
       "width": "auto"
      }
     },
     "eb2288e0e1fa4ab4919d1c2d3f478de2": {
      "model_module": "@jupyter-widgets/base",
      "model_module_version": "1.2.0",
      "model_name": "LayoutModel",
      "state": {}
     },
     "ebabf569881e4a67973efc131c44a59c": {
      "model_module": "@jupyter-widgets/controls",
      "model_module_version": "1.5.0",
      "model_name": "DescriptionStyleModel",
      "state": {
       "description_width": ""
      }
     },
     "ebbc8e77c87043e6977af58967193b6b": {
      "model_module": "@jupyter-widgets/controls",
      "model_module_version": "1.5.0",
      "model_name": "FloatTextModel",
      "state": {
       "description": "Distance",
       "layout": "IPY_MODEL_2c0a7f4fa62747a1b1c7bc3951c0708a",
       "step": null,
       "style": "IPY_MODEL_a4f3692c807f4cb59d1ccf16632de464",
       "value": 1000
      }
     },
     "ebd3eb25593a43aca1d7a00823c7eb3d": {
      "model_module": "@jupyter-widgets/controls",
      "model_module_version": "1.5.0",
      "model_name": "DescriptionStyleModel",
      "state": {
       "description_width": "initial"
      }
     },
     "ebf40b47561d4a848394f022e2d0f880": {
      "model_module": "@jupyter-widgets/controls",
      "model_module_version": "1.5.0",
      "model_name": "DescriptionStyleModel",
      "state": {
       "description_width": ""
      }
     },
     "ec0c1e261dbb4c7bb49bcb4ccd2f2477": {
      "model_module": "@jupyter-widgets/controls",
      "model_module_version": "1.5.0",
      "model_name": "DescriptionStyleModel",
      "state": {
       "description_width": "initial"
      }
     },
     "ec172ae8a49646478c366c8dd4653383": {
      "model_module": "@jupyter-widgets/controls",
      "model_module_version": "1.5.0",
      "model_name": "DescriptionStyleModel",
      "state": {
       "description_width": "initial"
      }
     },
     "ec2f3aef6e5d4c57803cf8ca5519af4e": {
      "model_module": "@jupyter-widgets/base",
      "model_module_version": "1.2.0",
      "model_name": "LayoutModel",
      "state": {}
     },
     "ec56c33d554c418782f12390f8e0d046": {
      "model_module": "@jupyter-widgets/controls",
      "model_module_version": "1.5.0",
      "model_name": "DescriptionStyleModel",
      "state": {
       "description_width": "initial"
      }
     },
     "ec5b05f78cae4b1298b3b5e0d5fb03a6": {
      "model_module": "@jupyter-widgets/controls",
      "model_module_version": "1.5.0",
      "model_name": "DropdownModel",
      "state": {
       "_options_labels": [
        "",
        "Ore/39_Ore_Callinan",
        "Ore/38_Ore_Dan_Owens",
        "Ore/40_Ore_FlinFlon",
        "Workspace/Inversion_VTEM_Model",
        "Workspace/DC_Survey (currents)",
        "Workspace/CDI_VTEM_model",
        "Workspace/Data_FEM_pseudo3D",
        "Workspace/geochem",
        "Workspace/DC_Survey",
        "Workspace/Inversion_DIGHEM_Model",
        "Workspace/Topography",
        "Workspace/Data_TEM_pseudo3D",
        "Workspace/Data_ZTEM",
        "Workspace/Mesh"
       ],
       "description": "Object",
       "index": 0,
       "layout": "IPY_MODEL_9500d7f9da1743c889fa751640a2c3b0",
       "style": "IPY_MODEL_28a2474117034aa1b3e880b03529578f"
      }
     },
     "ec61cba37b8244b5b3ada6ecd25085a4": {
      "model_module": "@jupyter-widgets/controls",
      "model_module_version": "1.5.0",
      "model_name": "DescriptionStyleModel",
      "state": {
       "description_width": ""
      }
     },
     "ec74eeaa9340440588563d597cd05320": {
      "model_module": "@jupyter-widgets/base",
      "model_module_version": "1.2.0",
      "model_name": "LayoutModel",
      "state": {
       "min_width": "6em",
       "width": "6em"
      }
     },
     "ec8df3c48da04c2ca5daf299bbd430a4": {
      "model_module": "@jupyter-widgets/base",
      "model_module_version": "1.2.0",
      "model_name": "LayoutModel",
      "state": {}
     },
     "ec92aec7733943daa764690bf0a6e7ea": {
      "model_module": "@jupyter-widgets/controls",
      "model_module_version": "1.5.0",
      "model_name": "LabelModel",
      "state": {
       "layout": "IPY_MODEL_931d0f303db242b790ac9fc1d87b64bf",
       "style": "IPY_MODEL_d1126d07c80b4156b553f1a3cd39dd6a",
       "value": "Refinement B"
      }
     },
     "ec9ee09fc11c4674baa34be2f9535059": {
      "model_module": "@jupyter-widgets/base",
      "model_module_version": "1.2.0",
      "model_name": "LayoutModel",
      "state": {}
     },
     "eca710cac25647b2aeecac17a49e12d6": {
      "model_module": "@jupyter-widgets/controls",
      "model_module_version": "1.5.0",
      "model_name": "HTMLModel",
      "state": {
       "layout": "IPY_MODEL_1b7d22b690414344b35a56b29dce4d3a",
       "style": "IPY_MODEL_8aa927a1b46d436da004858726092890"
      }
     },
     "ecaa0c1dbe614f52a83acd5c06fe54a8": {
      "model_module": "@jupyter-widgets/controls",
      "model_module_version": "1.5.0",
      "model_name": "CheckboxModel",
      "state": {
       "description": "Geoscience ANALYST Pro - Live link",
       "disabled": false,
       "indent": false,
       "layout": "IPY_MODEL_01fded54a2ae482482234d52d6a53813",
       "style": "IPY_MODEL_6610c6cf206f4e9c95db75de1dcc9679",
       "value": false
      }
     },
     "ecbd5df10cc14f438b4d9edf0fc89789": {
      "model_module": "@jupyter-widgets/base",
      "model_module_version": "1.2.0",
      "model_name": "LayoutModel",
      "state": {}
     },
     "ecd6556283c842cc9b24bf3299416ff6": {
      "model_module": "@jupyter-widgets/controls",
      "model_module_version": "1.5.0",
      "model_name": "HBoxModel",
      "state": {
       "children": [
        "IPY_MODEL_0ddc1dec3ec74d6a91b69677b915355a",
        "IPY_MODEL_2df814ccfba047119f5ca5978abc0c4f"
       ],
       "layout": "IPY_MODEL_2236b0c8014546188e055ffa56073997"
      }
     },
     "ecd83e616778436fa453d04818047c89": {
      "model_module": "@jupyter-widgets/base",
      "model_module_version": "1.2.0",
      "model_name": "LayoutModel",
      "state": {}
     },
     "ecf5ce54a90149ca887e396a4a9dbc46": {
      "model_module": "@jupyter-widgets/base",
      "model_module_version": "1.2.0",
      "model_name": "LayoutModel",
      "state": {}
     },
     "ecffa3a2f5be46c9a0ffafbc673c04f9": {
      "model_module": "@jupyter-widgets/base",
      "model_module_version": "1.2.0",
      "model_name": "LayoutModel",
      "state": {
       "width": "auto"
      }
     },
     "ed053ffa76f34846ba30bdbfa4cd5c91": {
      "model_module": "@jupyter-widgets/controls",
      "model_module_version": "1.5.0",
      "model_name": "DescriptionStyleModel",
      "state": {
       "description_width": "initial"
      }
     },
     "ed0805c7b91245d79fc62df48d94653a": {
      "model_module": "@jupyter-widgets/base",
      "model_module_version": "1.2.0",
      "model_name": "LayoutModel",
      "state": {}
     },
     "ed2144557b384c9e87510678fe011f69": {
      "model_module": "@jupyter-widgets/controls",
      "model_module_version": "1.5.0",
      "model_name": "DescriptionStyleModel",
      "state": {
       "description_width": "initial"
      }
     },
     "ed2166b73af04f51ac23058240e8ae5b": {
      "model_module": "@jupyter-widgets/controls",
      "model_module_version": "1.5.0",
      "model_name": "DescriptionStyleModel",
      "state": {
       "description_width": ""
      }
     },
     "ed27f17d63254dd38cd1b79e3b6046ea": {
      "model_module": "@jupyter-widgets/controls",
      "model_module_version": "1.5.0",
      "model_name": "FloatTextModel",
      "state": {
       "description": "Northing",
       "layout": "IPY_MODEL_ddb03c52b86a4cb5879b5b0a74092a66",
       "step": null,
       "style": "IPY_MODEL_7adc04dcc2a940beadc6299b4be6cd43",
       "value": 25
      }
     },
     "ed299ad0a34a4187bdc933b0976f370e": {
      "model_module": "@jupyter-widgets/base",
      "model_module_version": "1.2.0",
      "model_name": "LayoutModel",
      "state": {}
     },
     "ed2fecfd0e5d43d09c6a4125c6f1ec36": {
      "model_module": "@jupyter-widgets/controls",
      "model_module_version": "1.5.0",
      "model_name": "DescriptionStyleModel",
      "state": {
       "description_width": ""
      }
     },
     "ed3028be28d04358940604f2b04bad09": {
      "model_module": "@jupyter-widgets/controls",
      "model_module_version": "1.5.0",
      "model_name": "DescriptionStyleModel",
      "state": {
       "description_width": "initial"
      }
     },
     "ed3c688ebe7e49469bb0d146af21b528": {
      "model_module": "@jupyter-widgets/controls",
      "model_module_version": "1.5.0",
      "model_name": "DescriptionStyleModel",
      "state": {
       "description_width": "initial"
      }
     },
     "ed481d22189a4c01aa70943041990ec2": {
      "model_module": "@jupyter-widgets/base",
      "model_module_version": "1.2.0",
      "model_name": "LayoutModel",
      "state": {}
     },
     "ed5f2442ea0e4c5c856438f3d1aee114": {
      "model_module": "@jupyter-widgets/base",
      "model_module_version": "1.2.0",
      "model_name": "LayoutModel",
      "state": {}
     },
     "ed6abdeaf5d1487cbef191318490379c": {
      "model_module": "@jupyter-widgets/base",
      "model_module_version": "1.2.0",
      "model_name": "LayoutModel",
      "state": {
       "display": "none",
       "grid_area": "filename",
       "width": "auto"
      }
     },
     "ed6f653db7bd47a2b154a16af17fbb49": {
      "model_module": "@jupyter-widgets/controls",
      "model_module_version": "1.5.0",
      "model_name": "DescriptionStyleModel",
      "state": {
       "description_width": "initial"
      }
     },
     "ed721e59783a4063a3ec4e02c6941042": {
      "model_module": "@jupyter-widgets/controls",
      "model_module_version": "1.5.0",
      "model_name": "DescriptionStyleModel",
      "state": {
       "description_width": ""
      }
     },
     "ed7f5cdb7f3d408fa5168c2dc058cf20": {
      "model_module": "@jupyter-widgets/base",
      "model_module_version": "1.2.0",
      "model_name": "LayoutModel",
      "state": {
       "display": "none",
       "min_width": "6em",
       "width": "6em"
      }
     },
     "ed857db52cc2456da21bcad559a7e037": {
      "model_module": "@jupyter-widgets/controls",
      "model_module_version": "1.5.0",
      "model_name": "DescriptionStyleModel",
      "state": {
       "description_width": ""
      }
     },
     "edca707aed474fc3acd642a1bccd5e86": {
      "model_module": "@jupyter-widgets/base",
      "model_module_version": "1.2.0",
      "model_name": "LayoutModel",
      "state": {
       "display": "none"
      }
     },
     "ede44052a9a04a52947e9e176bceb67b": {
      "model_module": "@jupyter-widgets/controls",
      "model_module_version": "1.5.0",
      "model_name": "TextModel",
      "state": {
       "continuous_update": false,
       "description": "Name:",
       "layout": "IPY_MODEL_cdbff4c6b3514c4d99074e972c046df0",
       "style": "IPY_MODEL_24d9b6d40fdc4f59a44ac52b9018c110",
       "value": "Octree_Mesh"
      }
     },
     "edef7f880210463c8401f26feaa22026": {
      "model_module": "@jupyter-widgets/controls",
      "model_module_version": "1.5.0",
      "model_name": "DescriptionStyleModel",
      "state": {
       "description_width": "initial"
      }
     },
     "ee0cd08574634b4eb63e16d0953316dc": {
      "model_module": "@jupyter-widgets/controls",
      "model_module_version": "1.5.0",
      "model_name": "DescriptionStyleModel",
      "state": {
       "description_width": ""
      }
     },
     "ee3b8fb6e7de4852b976bb92ba2ee22e": {
      "model_module": "@jupyter-widgets/base",
      "model_module_version": "1.2.0",
      "model_name": "LayoutModel",
      "state": {
       "grid_area": "pathlist",
       "width": "auto"
      }
     },
     "ee4ba8811b8a42a5aedc208c9e5066e4": {
      "model_module": "@jupyter-widgets/controls",
      "model_module_version": "1.5.0",
      "model_name": "FloatTextModel",
      "state": {
       "description": "Minimum depth (m)",
       "layout": "IPY_MODEL_f537236049a346efaddebcf00e694ffa",
       "step": null,
       "style": "IPY_MODEL_32c93ee45cb148379be916fe4cfeb778",
       "value": 500
      }
     },
     "ee56d83a01824b0fa98bdef7b9b28cb1": {
      "model_module": "@jupyter-widgets/controls",
      "model_module_version": "1.5.0",
      "model_name": "VBoxModel",
      "state": {
       "children": [
        "IPY_MODEL_c6ed0d62fcbe4bd0b624ebe3e0eb4ae9",
        "IPY_MODEL_b58b1034c67f4e12a13c4e9f82042306"
       ],
       "layout": "IPY_MODEL_582702e0271b4660a205b0749279a45b"
      }
     },
     "ee74f0ba89fd4e4a85461f139ade6762": {
      "model_module": "@jupyter-widgets/controls",
      "model_module_version": "1.5.0",
      "model_name": "ButtonStyleModel",
      "state": {}
     },
     "ee812952df0f43589c48217a068c86f9": {
      "model_module": "@jupyter-widgets/controls",
      "model_module_version": "1.5.0",
      "model_name": "DescriptionStyleModel",
      "state": {
       "description_width": ""
      }
     },
     "eeab90b2a3f74a48b853658c0230d6b2": {
      "model_module": "@jupyter-widgets/controls",
      "model_module_version": "1.5.0",
      "model_name": "DescriptionStyleModel",
      "state": {
       "description_width": "initial"
      }
     },
     "eeacbf56c32c4b81a650a4be8172b625": {
      "model_module": "@jupyter-widgets/base",
      "model_module_version": "1.2.0",
      "model_name": "LayoutModel",
      "state": {
       "grid_area": "dircontent",
       "width": "auto"
      }
     },
     "eeb02e1aca304fa3a3b713e398dd132a": {
      "model_module": "@jupyter-widgets/controls",
      "model_module_version": "1.5.0",
      "model_name": "DescriptionStyleModel",
      "state": {
       "description_width": "initial"
      }
     },
     "eecae4d2495a4bbf9c57e623d51abe6d": {
      "model_module": "@jupyter-widgets/base",
      "model_module_version": "1.2.0",
      "model_name": "LayoutModel",
      "state": {
       "min_width": "6em",
       "width": "6em"
      }
     },
     "eecd6ce9e5464ecbac447465e4ee803b": {
      "model_module": "@jupyter-widgets/base",
      "model_module_version": "1.2.0",
      "model_name": "LayoutModel",
      "state": {
       "display": "none"
      }
     },
     "eed0d0d9cbfa48119f4c1cf2ef7e355d": {
      "model_module": "@jupyter-widgets/controls",
      "model_module_version": "1.5.0",
      "model_name": "DescriptionStyleModel",
      "state": {
       "description_width": ""
      }
     },
     "eee99e8a5ddd4d46b23cbae188ae902d": {
      "model_module": "@jupyter-widgets/controls",
      "model_module_version": "1.5.0",
      "model_name": "DescriptionStyleModel",
      "state": {
       "description_width": "initial"
      }
     },
     "eef942f221fd45c29ef4227fe730fe07": {
      "model_module": "@jupyter-widgets/base",
      "model_module_version": "1.2.0",
      "model_name": "LayoutModel",
      "state": {
       "min_width": "6em",
       "width": "6em"
      }
     },
     "ef07ed581e154f97befd0998acc0f689": {
      "model_module": "@jupyter-widgets/base",
      "model_module_version": "1.2.0",
      "model_name": "LayoutModel",
      "state": {}
     },
     "ef117eedfeb142688512dc7259ae671a": {
      "model_module": "@jupyter-widgets/controls",
      "model_module_version": "1.5.0",
      "model_name": "DescriptionStyleModel",
      "state": {
       "description_width": "initial"
      }
     },
     "ef2823f34f594b7cbf208606e2f1c68e": {
      "model_module": "@jupyter-widgets/controls",
      "model_module_version": "1.5.0",
      "model_name": "ButtonStyleModel",
      "state": {}
     },
     "ef334cb5ba3b435fb999f2980d4796f7": {
      "model_module": "@jupyter-widgets/base",
      "model_module_version": "1.2.0",
      "model_name": "LayoutModel",
      "state": {}
     },
     "ef4d6a1561b94ff2afad2dcedc02b8e5": {
      "model_module": "@jupyter-widgets/controls",
      "model_module_version": "1.5.0",
      "model_name": "VBoxModel",
      "state": {
       "children": [
        "IPY_MODEL_58ff80da7ac1413aa3b9ac1f2fc7a266"
       ],
       "layout": "IPY_MODEL_3e376d0a747549be925da36a6135c9e2"
      }
     },
     "ef5cd46ffe56431ea78223baddb976dc": {
      "model_module": "@jupyter-widgets/base",
      "model_module_version": "1.2.0",
      "model_name": "LayoutModel",
      "state": {
       "display": "none"
      }
     },
     "ef72fa172ab94a40a95dfa4e74c9c7d5": {
      "model_module": "@jupyter-widgets/controls",
      "model_module_version": "1.5.0",
      "model_name": "DescriptionStyleModel",
      "state": {
       "description_width": "initial"
      }
     },
     "ef7d339fe1b5431b86ea6ffa5f26bae0": {
      "model_module": "@jupyter-widgets/controls",
      "model_module_version": "1.5.0",
      "model_name": "LabelModel",
      "state": {
       "layout": "IPY_MODEL_5fc84a52d81d48529fa5ab352772951e",
       "style": "IPY_MODEL_6417e67884404cf2a488be6b747830f3",
       "value": "Base Parameters"
      }
     },
     "ef89e5042afe4be58d149c00963bdb33": {
      "model_module": "@jupyter-widgets/controls",
      "model_module_version": "1.5.0",
      "model_name": "VBoxModel",
      "state": {
       "children": [
        "IPY_MODEL_4ec3af01506c44b29429ed528c66896c",
        "IPY_MODEL_42feb1bfa8784e37b7369743c62722e2"
       ],
       "layout": "IPY_MODEL_3aaff80396c8481aabdf58581a4a4504"
      }
     },
     "efa8d97eaa08408ba71dcd0f6f86677f": {
      "model_module": "@jupyter-widgets/controls",
      "model_module_version": "1.5.0",
      "model_name": "ButtonStyleModel",
      "state": {}
     },
     "efbb65cbe4de48219d30dcc30290d6e9": {
      "model_module": "@jupyter-widgets/controls",
      "model_module_version": "1.5.0",
      "model_name": "DescriptionStyleModel",
      "state": {
       "description_width": "initial"
      }
     },
     "efc6a9f26257432fa3e9c1ba3e343bcb": {
      "model_module": "@jupyter-widgets/controls",
      "model_module_version": "1.5.0",
      "model_name": "DescriptionStyleModel",
      "state": {
       "description_width": "initial"
      }
     },
     "efc7aacfbe7e4e4ab4826a49362768ca": {
      "model_module": "@jupyter-widgets/controls",
      "model_module_version": "1.5.0",
      "model_name": "DescriptionStyleModel",
      "state": {
       "description_width": ""
      }
     },
     "efd871dab1d34e99beb4cad707f392c3": {
      "model_module": "@jupyter-widgets/controls",
      "model_module_version": "1.5.0",
      "model_name": "DescriptionStyleModel",
      "state": {
       "description_width": "initial"
      }
     },
     "eff409caa0bc434f81c757eefc827c01": {
      "model_module": "@jupyter-widgets/controls",
      "model_module_version": "1.5.0",
      "model_name": "DescriptionStyleModel",
      "state": {
       "description_width": ""
      }
     },
     "effef83024e74c01a8832ac90c427ea0": {
      "model_module": "@jupyter-widgets/base",
      "model_module_version": "1.2.0",
      "model_name": "LayoutModel",
      "state": {}
     },
     "f025c5ec45414e7a90677b1c1d0e658d": {
      "model_module": "@jupyter-widgets/controls",
      "model_module_version": "1.5.0",
      "model_name": "HBoxModel",
      "state": {
       "children": [
        "IPY_MODEL_522da882ba0c413e88545a7ab620fa0f",
        "IPY_MODEL_21987f2e3fcc4a9ea024f76eea875390",
        "IPY_MODEL_19b3ce1cee6843a08dd157983f34d172"
       ],
       "layout": "IPY_MODEL_6d9bf373797d44dc852a405560702059"
      }
     },
     "f03ebf2268a746929bc18af07fd6fd68": {
      "model_module": "@jupyter-widgets/controls",
      "model_module_version": "1.5.0",
      "model_name": "DescriptionStyleModel",
      "state": {
       "description_width": ""
      }
     },
     "f04847e11eb5460f96dd85f683dc9d5d": {
      "model_module": "@jupyter-widgets/controls",
      "model_module_version": "1.5.0",
      "model_name": "DescriptionStyleModel",
      "state": {
       "description_width": ""
      }
     },
     "f0611e42943b44b19a22b932df0d1e6a": {
      "model_module": "@jupyter-widgets/base",
      "model_module_version": "1.2.0",
      "model_name": "LayoutModel",
      "state": {}
     },
     "f07ab4cc9f1245158b3c8efa09f2799f": {
      "model_module": "@jupyter-widgets/base",
      "model_module_version": "1.2.0",
      "model_name": "LayoutModel",
      "state": {
       "margin": "0 0 0 1em"
      }
     },
     "f07cb1c3d00f4a808c57e6bd2038c52f": {
      "model_module": "@jupyter-widgets/base",
      "model_module_version": "1.2.0",
      "model_name": "LayoutModel",
      "state": {}
     },
     "f083ccc0a3204eb0920cc3545e73382a": {
      "model_module": "@jupyter-widgets/controls",
      "model_module_version": "1.5.0",
      "model_name": "DropdownModel",
      "state": {
       "_options_labels": [
        "surface",
        "radial"
       ],
       "description": "Type",
       "index": 1,
       "layout": "IPY_MODEL_ffcfd51d822146ce8a0e77a2394c309b",
       "style": "IPY_MODEL_8b2bddf928f6474fbcd4c598504ad1be"
      }
     },
     "f0acd3b70ed04088b11b9736243b5a25": {
      "model_module": "@jupyter-widgets/controls",
      "model_module_version": "1.5.0",
      "model_name": "HTMLModel",
      "state": {
       "layout": "IPY_MODEL_46a3c9199a3242a38abfa2b43258a31c",
       "placeholder": "",
       "style": "IPY_MODEL_9006afa9ed444b94b7a50ecaf9a1cb32",
       "value": "<span style=\"color:green;\">C:\\Users\\dominiquef\\Documents\\GIT\\mira\\geoapps\\assets\\Temp\\</span>"
      }
     },
     "f0b44f012634437eb728aac385071e0a": {
      "model_module": "@jupyter-widgets/controls",
      "model_module_version": "1.5.0",
      "model_name": "FloatTextModel",
      "state": {
       "description": "Minimum depth (m)",
       "layout": "IPY_MODEL_f9b591f5560f47f9882b697f6676483b",
       "step": null,
       "style": "IPY_MODEL_94ef51efb9b841b88833338698661be6",
       "value": 500
      }
     },
     "f0c112d25ac94ef5ba82a97d28aeebaf": {
      "model_module": "@jupyter-widgets/controls",
      "model_module_version": "1.5.0",
      "model_name": "TextModel",
      "state": {
       "layout": "IPY_MODEL_c71cfa5fbe654c138f48906af3748f62",
       "placeholder": "output filename",
       "style": "IPY_MODEL_52ffc355067142bdacba0484bb7c9131",
       "value": "FlinFlon.geoh5"
      }
     },
     "f0c91a8b33a74438806fa1e5a66c8a05": {
      "model_module": "@jupyter-widgets/controls",
      "model_module_version": "1.5.0",
      "model_name": "DescriptionStyleModel",
      "state": {
       "description_width": ""
      }
     },
     "f0e3c82927e84aab918ee2d173e163e3": {
      "model_module": "@jupyter-widgets/base",
      "model_module_version": "1.2.0",
      "model_name": "LayoutModel",
      "state": {}
     },
     "f0eb78df910d4130bb443b336b1534db": {
      "model_module": "@jupyter-widgets/controls",
      "model_module_version": "1.5.0",
      "model_name": "FloatTextModel",
      "state": {
       "description": "Minimum depth (m)",
       "layout": "IPY_MODEL_0908affa96b94816a3e9ad98276a6db9",
       "step": null,
       "style": "IPY_MODEL_80b686aa27eb4bb884003796d49fbcb6",
       "value": 500
      }
     },
     "f0f3dae15c1d402e89de2634ffac82bf": {
      "model_module": "@jupyter-widgets/controls",
      "model_module_version": "1.5.0",
      "model_name": "DropdownModel",
      "state": {
       "_options_labels": [
        "",
        "--- Channels ---",
        "CPI900",
        "CPI7200",
        "CPI56k",
        "CPQ900",
        "CPQ7200",
        "CPQ56k",
        "DEM",
        "Line",
        "X",
        "Y",
        "Z"
       ],
       "description": "Data: ",
       "index": 0,
       "layout": "IPY_MODEL_5f88722ad69946c696d665177e796a71",
       "style": "IPY_MODEL_0cc81bfefd7f47598dbc30fb77a67958"
      }
     },
     "f0fe86ab80fd457498bcb22a08583ac7": {
      "model_module": "@jupyter-widgets/base",
      "model_module_version": "1.2.0",
      "model_name": "LayoutModel",
      "state": {
       "display": "none",
       "grid_gap": "0px 0px",
       "grid_template_areas": "\n                    'pathlist pathlist'\n                    'dircontent dircontent'\n                    ",
       "grid_template_columns": "60% 40%",
       "grid_template_rows": "auto auto",
       "width": "500px"
      }
     },
     "f10f2622b18e4ca0aa90c885fe84f2ef": {
      "model_module": "@jupyter-widgets/controls",
      "model_module_version": "1.5.0",
      "model_name": "DescriptionStyleModel",
      "state": {
       "description_width": ""
      }
     },
     "f11a9daa8fb547c58e0b7a2220aa09e3": {
      "model_module": "@jupyter-widgets/base",
      "model_module_version": "1.2.0",
      "model_name": "LayoutModel",
      "state": {}
     },
     "f13d6ba50eb5469b87387c66a7ff995b": {
      "model_module": "@jupyter-widgets/controls",
      "model_module_version": "1.5.0",
      "model_name": "LabelModel",
      "state": {
       "layout": "IPY_MODEL_969d8a6bba0d4cca845070396851ae48",
       "style": "IPY_MODEL_91cfd3e65a7c4ce6af978cc065a88918",
       "value": "Refinement B"
      }
     },
     "f141a65f4b1f4a38b837b3da687dd940": {
      "model_module": "@jupyter-widgets/controls",
      "model_module_version": "1.5.0",
      "model_name": "DescriptionStyleModel",
      "state": {
       "description_width": "initial"
      }
     },
     "f1463e9ca7ba4354a0c76bdbc9a951c7": {
      "model_module": "@jupyter-widgets/controls",
      "model_module_version": "1.5.0",
      "model_name": "DescriptionStyleModel",
      "state": {
       "description_width": ""
      }
     },
     "f153c47d519c4dbebb431ed455af9feb": {
      "model_module": "@jupyter-widgets/controls",
      "model_module_version": "1.5.0",
      "model_name": "BoxModel",
      "state": {
       "children": [
        "IPY_MODEL_c872bd4beab8421592ddf70d6c4af0bb"
       ],
       "layout": "IPY_MODEL_cd389d339a724056b27dc7cf01947267"
      }
     },
     "f157aac339794f5e9b186634c2f7585a": {
      "model_module": "@jupyter-widgets/base",
      "model_module_version": "1.2.0",
      "model_name": "LayoutModel",
      "state": {}
     },
     "f15c1afaa0994a65a1efdefa5a01501f": {
      "model_module": "@jupyter-widgets/controls",
      "model_module_version": "1.5.0",
      "model_name": "ButtonModel",
      "state": {
       "description": "Change",
       "layout": "IPY_MODEL_a977440af44f48da88f93f6bc696097c",
       "style": "IPY_MODEL_8477c15d11064503910f6ab03303c916"
      }
     },
     "f1757497e4df4a7ba0f25e3b049e2e41": {
      "model_module": "@jupyter-widgets/controls",
      "model_module_version": "1.5.0",
      "model_name": "HTMLModel",
      "state": {
       "layout": "IPY_MODEL_d06fba4cd9bc4cad96a668105fd91c38",
       "placeholder": "",
       "style": "IPY_MODEL_6f8cd3009bd84ee2a1fe3c97b19a4ccd",
       "value": "<span style=\"margin-left:10px; color:black;\">No file selected</span>"
      }
     },
     "f1781afd06974cb18c601305ea65939b": {
      "model_module": "@jupyter-widgets/controls",
      "model_module_version": "1.5.0",
      "model_name": "FloatTextModel",
      "state": {
       "description": "Northing",
       "layout": "IPY_MODEL_47ad8c762a9b497982a15192f0b3a8c9",
       "step": null,
       "style": "IPY_MODEL_ae23d4616d4140b9899e79673464c2c7",
       "value": 25
      }
     },
     "f186d68fcb3948faa8c984c3d3503778": {
      "model_module": "@jupyter-widgets/controls",
      "model_module_version": "1.5.0",
      "model_name": "DescriptionStyleModel",
      "state": {
       "description_width": ""
      }
     },
     "f18bff993772416ba29b57bd5e1ff27f": {
      "model_module": "@jupyter-widgets/controls",
      "model_module_version": "1.5.0",
      "model_name": "DescriptionStyleModel",
      "state": {
       "description_width": "initial"
      }
     },
     "f191966393a845b6b880c2efbeaafd20": {
      "model_module": "@jupyter-widgets/controls",
      "model_module_version": "1.5.0",
      "model_name": "HTMLModel",
      "state": {
       "layout": "IPY_MODEL_0ac9d43627274859939b4b5552836e9d",
       "placeholder": "",
       "style": "IPY_MODEL_f1463e9ca7ba4354a0c76bdbc9a951c7",
       "value": "<span style=\"color:green;\">C:\\Users\\dominiquef\\Documents\\GIT\\mira\\geoapps\\assets\\Temp\\</span>"
      }
     },
     "f1a2844a06f544c1b61fc87b509aabe9": {
      "model_module": "@jupyter-widgets/controls",
      "model_module_version": "1.5.0",
      "model_name": "FloatTextModel",
      "state": {
       "description": "Horizontal (m)",
       "layout": "IPY_MODEL_5b94e38de8a44ef9babe336abe8701a2",
       "step": null,
       "style": "IPY_MODEL_9b6d37f157314525a8c8cceba2c63639",
       "value": 1000
      }
     },
     "f1d70e68176c43389a8b9ab6e4597b39": {
      "model_module": "@jupyter-widgets/controls",
      "model_module_version": "1.5.0",
      "model_name": "VBoxModel",
      "state": {
       "children": [
        "IPY_MODEL_e5418e545e1245ecb759e88ffb257819",
        "IPY_MODEL_b2760394b64a4205828e7b5160f75120"
       ],
       "layout": "IPY_MODEL_94829f16d4264554a0e2731c068c9bb4"
      }
     },
     "f1fd14cab0b2425bbda2315a00fcb736": {
      "model_module": "@jupyter-widgets/controls",
      "model_module_version": "1.5.0",
      "model_name": "DescriptionStyleModel",
      "state": {
       "description_width": "initial"
      }
     },
     "f24a62ca5e1d4233bae7d9fd0eb4036c": {
      "model_module": "@jupyter-widgets/controls",
      "model_module_version": "1.5.0",
      "model_name": "ButtonStyleModel",
      "state": {}
     },
     "f256f2cf1fc740a6b5ab229a75070fec": {
      "model_module": "@jupyter-widgets/controls",
      "model_module_version": "1.5.0",
      "model_name": "LabelModel",
      "state": {
       "layout": "IPY_MODEL_fba7a1b2f03c40239f99a9293e92b882",
       "style": "IPY_MODEL_696147ec827c497ba80616442d6812db",
       "value": "Refinement B"
      }
     },
     "f2652af8a3f84d4193389ffa37b13a85": {
      "model_module": "@jupyter-widgets/base",
      "model_module_version": "1.2.0",
      "model_name": "LayoutModel",
      "state": {}
     },
     "f26a1190cdbd4d0391a572514f3af1c8": {
      "model_module": "@jupyter-widgets/controls",
      "model_module_version": "1.5.0",
      "model_name": "DescriptionStyleModel",
      "state": {
       "description_width": "initial"
      }
     },
     "f271408e229f4126964e3c8b177e4042": {
      "model_module": "@jupyter-widgets/base",
      "model_module_version": "1.2.0",
      "model_name": "LayoutModel",
      "state": {}
     },
     "f2a582ed95984f0788d3993ee31978aa": {
      "model_module": "@jupyter-widgets/controls",
      "model_module_version": "1.5.0",
      "model_name": "DescriptionStyleModel",
      "state": {
       "description_width": "initial"
      }
     },
     "f2ae630b87144a81bec31beb6bc6bd61": {
      "model_module": "@jupyter-widgets/base",
      "model_module_version": "1.2.0",
      "model_name": "LayoutModel",
      "state": {}
     },
     "f2d4a72a26324cda8ed359cdc8184dbd": {
      "model_module": "@jupyter-widgets/base",
      "model_module_version": "1.2.0",
      "model_name": "LayoutModel",
      "state": {}
     },
     "f313eeea34154baa9842ef4421b78b7a": {
      "model_module": "@jupyter-widgets/base",
      "model_module_version": "1.2.0",
      "model_name": "LayoutModel",
      "state": {}
     },
     "f334e15db331404eb4b972e075a1ea61": {
      "model_module": "@jupyter-widgets/controls",
      "model_module_version": "1.5.0",
      "model_name": "VBoxModel",
      "state": {
       "children": [
        "IPY_MODEL_ae560d42bcaf45c89a63551372e4decb",
        "IPY_MODEL_5bebf36abc89436c845781f3f0ec350b",
        "IPY_MODEL_3622575ce4a24f92b08a17f410f3825f"
       ],
       "layout": "IPY_MODEL_9af44d9840864acb8465e70ca9649674"
      }
     },
     "f3aa80ae3f64450eaf328d0f1bada8f7": {
      "model_module": "@jupyter-widgets/controls",
      "model_module_version": "1.5.0",
      "model_name": "DescriptionStyleModel",
      "state": {
       "description_width": "initial"
      }
     },
     "f3ab9ef14beb4b2d96dba81b05e5f450": {
      "model_module": "@jupyter-widgets/base",
      "model_module_version": "1.2.0",
      "model_name": "LayoutModel",
      "state": {
       "width": "auto"
      }
     },
     "f3c5591c6e2f410da15f2be4ed97c8b9": {
      "model_module": "@jupyter-widgets/controls",
      "model_module_version": "1.5.0",
      "model_name": "DescriptionStyleModel",
      "state": {
       "description_width": ""
      }
     },
     "f3c9743ae46c4937bcf3c7612082fc5a": {
      "model_module": "@jupyter-widgets/controls",
      "model_module_version": "1.5.0",
      "model_name": "DescriptionStyleModel",
      "state": {
       "description_width": "initial"
      }
     },
     "f3eed5988ec54ba9a556692f2845ac04": {
      "model_module": "@jupyter-widgets/controls",
      "model_module_version": "1.5.0",
      "model_name": "ButtonModel",
      "state": {
       "description": "Cancel",
       "layout": "IPY_MODEL_1c321579f7ca42c68d101b0b85762888",
       "style": "IPY_MODEL_cb70196439834dd3b730b2d2f826be56"
      }
     },
     "f3fd45a26759481fa83830bed04da527": {
      "model_module": "@jupyter-widgets/controls",
      "model_module_version": "1.5.0",
      "model_name": "DescriptionStyleModel",
      "state": {
       "description_width": "initial"
      }
     },
     "f405ba4b8fd14cf7b08d99b74b3c8819": {
      "model_module": "@jupyter-widgets/controls",
      "model_module_version": "1.5.0",
      "model_name": "VBoxModel",
      "state": {
       "children": [
        "IPY_MODEL_c4c52fb6ace142ebad2b3370499951dd",
        "IPY_MODEL_2eeee18a4e924cffabbb8aa5bddbe2aa"
       ],
       "layout": "IPY_MODEL_9658ca5871944b82b2e5c4ee2a7dee53"
      }
     },
     "f41ca2ea48b7443d916581f3fbeb88f5": {
      "model_module": "@jupyter-widgets/controls",
      "model_module_version": "1.5.0",
      "model_name": "DescriptionStyleModel",
      "state": {
       "description_width": ""
      }
     },
     "f431f815a3a243cabdeade6e880de0f7": {
      "model_module": "@jupyter-widgets/base",
      "model_module_version": "1.2.0",
      "model_name": "LayoutModel",
      "state": {
       "grid_area": "dircontent",
       "width": "auto"
      }
     },
     "f4567b6c131a4504867e486c28b8f238": {
      "model_module": "@jupyter-widgets/controls",
      "model_module_version": "1.5.0",
      "model_name": "VBoxModel",
      "state": {
       "children": [
        "IPY_MODEL_d69b2c1f638842a0ae1795066aff2942",
        "IPY_MODEL_35bb529bcb2848c58dc1a00747d06540",
        "IPY_MODEL_43483102383f4491a7a29e7de79610dc"
       ],
       "layout": "IPY_MODEL_1a3f3da866ac401fac53489d258a693f"
      }
     },
     "f486159ee8924db9b5d7fad2a4eb84d2": {
      "model_module": "@jupyter-widgets/base",
      "model_module_version": "1.2.0",
      "model_name": "LayoutModel",
      "state": {
       "min_width": "6em",
       "width": "6em"
      }
     },
     "f4d52b6ed60d4f18b6a874dcda5dd70f": {
      "model_module": "@jupyter-widgets/base",
      "model_module_version": "1.2.0",
      "model_name": "LayoutModel",
      "state": {
       "width": "auto"
      }
     },
     "f4ee4c1b26644967a7458ff97e0fb8e6": {
      "model_module": "@jupyter-widgets/controls",
      "model_module_version": "1.5.0",
      "model_name": "FloatTextModel",
      "state": {
       "description": "Vertical (m)",
       "layout": "IPY_MODEL_decd27263fe54023be631d8b90e7d4cb",
       "step": null,
       "style": "IPY_MODEL_642a1fc6439443f1abe93b35f4fbdb18",
       "value": 1000
      }
     },
     "f4f7fe39d032476fb7c804de14e4759e": {
      "model_module": "@jupyter-widgets/controls",
      "model_module_version": "1.5.0",
      "model_name": "TextModel",
      "state": {
       "description": "Levels",
       "layout": "IPY_MODEL_ec8df3c48da04c2ca5daf299bbd430a4",
       "style": "IPY_MODEL_9f0d70c9be854fc4aa0829c44b3fe066",
       "value": "0.0, 0.0, 2.0"
      }
     },
     "f4fefb7de89848bb8b568cd8927b0c6e": {
      "model_module": "@jupyter-widgets/controls",
      "model_module_version": "1.5.0",
      "model_name": "DescriptionStyleModel",
      "state": {
       "description_width": "initial"
      }
     },
     "f5041b60eb5c485c894134c31c468a66": {
      "model_module": "@jupyter-widgets/base",
      "model_module_version": "1.2.0",
      "model_name": "LayoutModel",
      "state": {
       "border": "solid"
      }
     },
     "f50e869948294ae8b34f7c94710674a3": {
      "model_module": "@jupyter-widgets/base",
      "model_module_version": "1.2.0",
      "model_name": "LayoutModel",
      "state": {
       "display": "none",
       "grid_gap": "0px 0px",
       "grid_template_areas": "\n                    'pathlist pathlist'\n                    'dircontent dircontent'\n                    ",
       "grid_template_columns": "60% 40%",
       "grid_template_rows": "auto auto",
       "width": "auto"
      }
     },
     "f518363affec4317865647bb3277e83c": {
      "model_module": "@jupyter-widgets/controls",
      "model_module_version": "1.5.0",
      "model_name": "DescriptionStyleModel",
      "state": {
       "description_width": "initial"
      }
     },
     "f52ad416346d4a3fa922223493e5c679": {
      "model_module": "@jupyter-widgets/controls",
      "model_module_version": "1.5.0",
      "model_name": "DescriptionStyleModel",
      "state": {
       "description_width": "initial"
      }
     },
     "f52e4eb230c54bc0b34bf207be2f1d15": {
      "model_module": "@jupyter-widgets/base",
      "model_module_version": "1.2.0",
      "model_name": "LayoutModel",
      "state": {}
     },
     "f52f0eb3844846319ed0b329f5d2e8d9": {
      "model_module": "@jupyter-widgets/controls",
      "model_module_version": "1.5.0",
      "model_name": "FloatTextModel",
      "state": {
       "description": "Vertical (m)",
       "layout": "IPY_MODEL_bf0f4675e96f4c489524c7e41ae6eec6",
       "step": null,
       "style": "IPY_MODEL_f18bff993772416ba29b57bd5e1ff27f",
       "value": 1000
      }
     },
     "f537236049a346efaddebcf00e694ffa": {
      "model_module": "@jupyter-widgets/base",
      "model_module_version": "1.2.0",
      "model_name": "LayoutModel",
      "state": {}
     },
     "f54a5017e1904c2d9e5af0ca4bf431bc": {
      "model_module": "@jupyter-widgets/base",
      "model_module_version": "1.2.0",
      "model_name": "LayoutModel",
      "state": {}
     },
     "f5532b7542de41628017eb8640a89e70": {
      "model_module": "@jupyter-widgets/controls",
      "model_module_version": "1.5.0",
      "model_name": "DescriptionStyleModel",
      "state": {
       "description_width": "initial"
      }
     },
     "f55dd6d7e78d4869bd8ff86006d42c3d": {
      "model_module": "@jupyter-widgets/controls",
      "model_module_version": "1.5.0",
      "model_name": "TextModel",
      "state": {
       "layout": "IPY_MODEL_a40a6ec7b7024c04877f06b49906db17",
       "placeholder": "output filename",
       "style": "IPY_MODEL_0c78d28b551442e4ab450d7fddde2c2c",
       "value": "FlinFlon.geoh5"
      }
     },
     "f574a000fe8a498a94f78b647c9e81e5": {
      "model_module": "@jupyter-widgets/controls",
      "model_module_version": "1.5.0",
      "model_name": "ButtonStyleModel",
      "state": {}
     },
     "f577751588d349e5b246d666b7123871": {
      "model_module": "@jupyter-widgets/controls",
      "model_module_version": "1.5.0",
      "model_name": "ButtonModel",
      "state": {
       "description": "Create copy:",
       "layout": "IPY_MODEL_b7627489e3df4a91b314b21196402e77",
       "style": "IPY_MODEL_97f4ea4fa7814720a15f6ff90a48724c"
      }
     },
     "f57e1a11b2644fe0a322c29a1595c5ad": {
      "model_module": "@jupyter-widgets/controls",
      "model_module_version": "1.5.0",
      "model_name": "HTMLModel",
      "state": {
       "layout": "IPY_MODEL_318ffdfbf2104a439fcc1b1e1cf47d53",
       "placeholder": "",
       "style": "IPY_MODEL_a9d7ddcbc25d43f9a7ed33bf38e64f32",
       "value": "<span style=\"color:orange;\">C:\\Users\\dominiquef\\Documents\\GIT\\mira\\geoapps\\assets\\FlinFlon.geoh5</span>"
      }
     },
     "f5ec6960e18241069f4954eb5c73a079": {
      "model_module": "@jupyter-widgets/controls",
      "model_module_version": "1.5.0",
      "model_name": "DescriptionStyleModel",
      "state": {
       "description_width": "initial"
      }
     },
     "f5f3dc4d8e8f4062a926e3c941a7eb36": {
      "model_module": "@jupyter-widgets/controls",
      "model_module_version": "1.5.0",
      "model_name": "TextModel",
      "state": {
       "continuous_update": false,
       "description": "Name:",
       "layout": "IPY_MODEL_2de89fe41dbb47f5abc1e7bc6abc47b3",
       "style": "IPY_MODEL_2d10265c653448aaa9c01a97a0724253",
       "value": "Octree_Mesh"
      }
     },
     "f619e0b073ec414788e5e06b6e2790b8": {
      "model_module": "@jupyter-widgets/base",
      "model_module_version": "1.2.0",
      "model_name": "LayoutModel",
      "state": {
       "border": "solid"
      }
     },
     "f63e7ff83311446f864de603d2bb3e52": {
      "model_module": "@jupyter-widgets/controls",
      "model_module_version": "1.5.0",
      "model_name": "ButtonStyleModel",
      "state": {}
     },
     "f651b4ba80e74d25a880e8c18e3bff88": {
      "model_module": "@jupyter-widgets/controls",
      "model_module_version": "1.5.0",
      "model_name": "DescriptionStyleModel",
      "state": {
       "description_width": "initial"
      }
     },
     "f6557d7dd96c47378aaadb18489edf5b": {
      "model_module": "@jupyter-widgets/controls",
      "model_module_version": "1.5.0",
      "model_name": "DescriptionStyleModel",
      "state": {
       "description_width": "initial"
      }
     },
     "f6792485ce0f4e16b27af3beadb86183": {
      "model_module": "@jupyter-widgets/controls",
      "model_module_version": "1.5.0",
      "model_name": "DescriptionStyleModel",
      "state": {
       "description_width": "initial"
      }
     },
     "f690e81e322f4423bd77cb09aa747e66": {
      "model_module": "@jupyter-widgets/controls",
      "model_module_version": "1.5.0",
      "model_name": "DescriptionStyleModel",
      "state": {
       "description_width": ""
      }
     },
     "f6942acfb18f448085ba55311631b8ab": {
      "model_module": "@jupyter-widgets/controls",
      "model_module_version": "1.5.0",
      "model_name": "ButtonModel",
      "state": {
       "description": "Change",
       "layout": "IPY_MODEL_809874cb6e8a43ba99dc853d9271c38c",
       "style": "IPY_MODEL_e8861e7b8c134be18c770513b0387053"
      }
     },
     "f6a46c3bace14d568f410376705948d1": {
      "model_module": "@jupyter-widgets/base",
      "model_module_version": "1.2.0",
      "model_name": "LayoutModel",
      "state": {}
     },
     "f6b9e040d3a74593992bfaf4cbbe2943": {
      "model_module": "@jupyter-widgets/base",
      "model_module_version": "1.2.0",
      "model_name": "LayoutModel",
      "state": {}
     },
     "f6cd18b413f04da5820665f29e95c83d": {
      "model_module": "@jupyter-widgets/base",
      "model_module_version": "1.2.0",
      "model_name": "LayoutModel",
      "state": {}
     },
     "f6dd8d4ed30448b2b7d7fc0d8ebb1b8e": {
      "model_module": "@jupyter-widgets/controls",
      "model_module_version": "1.5.0",
      "model_name": "ButtonModel",
      "state": {
       "button_style": "danger",
       "description": "Create",
       "icon": "check",
       "layout": "IPY_MODEL_09adac143c7a4742a81a6fc510a4dae7",
       "style": "IPY_MODEL_bdf73fa080ea4240aedcf94ce1af2551",
       "tooltip": "Run computation"
      }
     },
     "f6ead7c9bcea4cc4a9415971463607bd": {
      "model_module": "@jupyter-widgets/controls",
      "model_module_version": "1.5.0",
      "model_name": "VBoxModel",
      "state": {
       "children": [
        "IPY_MODEL_f405ba4b8fd14cf7b08d99b74b3c8819",
        "IPY_MODEL_9a45ab89b77a48c18fb156e5f4ffda38"
       ],
       "layout": "IPY_MODEL_7acbc250b36944d2951752199557c837"
      }
     },
     "f710447872784ca383f71cb44c8e0031": {
      "model_module": "@jupyter-widgets/controls",
      "model_module_version": "1.5.0",
      "model_name": "DescriptionStyleModel",
      "state": {
       "description_width": "initial"
      }
     },
     "f720c3a666664e29a8eb52ab3fca5046": {
      "model_module": "@jupyter-widgets/controls",
      "model_module_version": "1.5.0",
      "model_name": "DescriptionStyleModel",
      "state": {
       "description_width": "initial"
      }
     },
     "f72149081d624ed5a94a8b56ba944db1": {
      "model_module": "@jupyter-widgets/controls",
      "model_module_version": "1.5.0",
      "model_name": "LabelModel",
      "state": {
       "layout": "IPY_MODEL_4ce8891aad7c49b0856fd308bd8b5833",
       "style": "IPY_MODEL_e54a407b346746bb84ec7726bc839732",
       "value": "Refinement B"
      }
     },
     "f749e547b62a4d48ac10f7745d222082": {
      "model_module": "@jupyter-widgets/controls",
      "model_module_version": "1.5.0",
      "model_name": "ButtonStyleModel",
      "state": {}
     },
     "f755dcf49c0542c5babdd0a94f247eb1": {
      "model_module": "@jupyter-widgets/controls",
      "model_module_version": "1.5.0",
      "model_name": "ButtonModel",
      "state": {
       "description": "Change",
       "layout": "IPY_MODEL_2c2da5a417cb422b9f17cb57708947bd",
       "style": "IPY_MODEL_4100015e2b6046e9a3f6acd3fdf43869"
      }
     },
     "f77385b534134fb197b780e2d6276ce5": {
      "model_module": "@jupyter-widgets/controls",
      "model_module_version": "1.5.0",
      "model_name": "DescriptionStyleModel",
      "state": {
       "description_width": "initial"
      }
     },
     "f77edcb33757492880b776295e096398": {
      "model_module": "@jupyter-widgets/controls",
      "model_module_version": "1.5.0",
      "model_name": "DescriptionStyleModel",
      "state": {
       "description_width": "initial"
      }
     },
     "f7897aa7e7034d8492342c0a5a4b39bc": {
      "model_module": "@jupyter-widgets/controls",
      "model_module_version": "1.5.0",
      "model_name": "HTMLModel",
      "state": {
       "layout": "IPY_MODEL_f07ab4cc9f1245158b3c8efa09f2799f",
       "placeholder": "",
       "style": "IPY_MODEL_8ed8c8ae0afc44519a25da1fa3f6210a",
       "value": "<span style=\"color:green;\">C:\\Users\\dominiquef\\Documents\\GIT\\mira\\geoapps\\assets\\Temp\\</span>"
      }
     },
     "f79f7a65fca041d485f195b7a9104055": {
      "model_module": "@jupyter-widgets/controls",
      "model_module_version": "1.5.0",
      "model_name": "FloatTextModel",
      "state": {
       "description": "Horizontal (m)",
       "layout": "IPY_MODEL_4eae5e868aa74ab08fe587065a311b79",
       "step": null,
       "style": "IPY_MODEL_74385521514f48d4b2a1b13bc9eee27c",
       "value": 1000
      }
     },
     "f7b89e8a007e44ac8c1a9af325b336ff": {
      "model_module": "@jupyter-widgets/controls",
      "model_module_version": "1.5.0",
      "model_name": "DropdownModel",
      "state": {
       "_options_labels": [
        "surface",
        "radial"
       ],
       "description": "Type",
       "index": 1,
       "layout": "IPY_MODEL_4960d2db50ef4f6fb4defcdabb245ec8",
       "style": "IPY_MODEL_cc9b7d01cc234ff796bc21667c7321d4"
      }
     },
     "f7c5205d9b394df79dd1ba303a14b13c": {
      "model_module": "@jupyter-widgets/controls",
      "model_module_version": "1.5.0",
      "model_name": "DescriptionStyleModel",
      "state": {
       "description_width": ""
      }
     },
     "f7d2dff4c9e04025a20bd913bcb24f98": {
      "model_module": "@jupyter-widgets/base",
      "model_module_version": "1.2.0",
      "model_name": "LayoutModel",
      "state": {
       "grid_area": "filename",
       "width": "auto"
      }
     },
     "f7db5aea631c41018cffb8e1cd1a9f67": {
      "model_module": "@jupyter-widgets/controls",
      "model_module_version": "1.5.0",
      "model_name": "LabelModel",
      "state": {
       "layout": "IPY_MODEL_1d284b25922244f4819c215805998997",
       "style": "IPY_MODEL_f7c5205d9b394df79dd1ba303a14b13c",
       "value": "Refinement a "
      }
     },
     "f7f4c329d10443cfa51f41570222fb79": {
      "model_module": "@jupyter-widgets/controls",
      "model_module_version": "1.5.0",
      "model_name": "VBoxModel",
      "state": {
       "children": [
        "IPY_MODEL_b10a476a3796479b802289a370529740",
        "IPY_MODEL_281d3e522a534ce798f564e3c8aa1ac0",
        "IPY_MODEL_cea0199f7c144a6a8c6a0a98e0876424",
        "IPY_MODEL_c683e1d0d61f49a2ae49512d473ce47d",
        "IPY_MODEL_ebbc8e77c87043e6977af58967193b6b"
       ],
       "layout": "IPY_MODEL_c4d3630ff0154ad69f1929723079a7da"
      }
     },
     "f81fe20481de4dd685b994a8ec308329": {
      "model_module": "@jupyter-widgets/controls",
      "model_module_version": "1.5.0",
      "model_name": "HTMLModel",
      "state": {
       "layout": "IPY_MODEL_88c410ed3e424750a8976a00bfe5511a",
       "style": "IPY_MODEL_f04847e11eb5460f96dd85f683dc9d5d"
      }
     },
     "f87b9f3683db4d9e847a9f9143853ac6": {
      "model_module": "@jupyter-widgets/base",
      "model_module_version": "1.2.0",
      "model_name": "LayoutModel",
      "state": {}
     },
     "f88dc874b1214b8696e59e0db839ff1b": {
      "model_module": "@jupyter-widgets/base",
      "model_module_version": "1.2.0",
      "model_name": "LayoutModel",
      "state": {
       "grid_area": "filename",
       "width": "auto"
      }
     },
     "f89544dafb5a48d6a06cdb49f6d9d29a": {
      "model_module": "@jupyter-widgets/controls",
      "model_module_version": "1.5.0",
      "model_name": "DescriptionStyleModel",
      "state": {
       "description_width": ""
      }
     },
     "f8ab93442e2b4ababa4360093ade1dae": {
      "model_module": "@jupyter-widgets/controls",
      "model_module_version": "1.5.0",
      "model_name": "VBoxModel",
      "state": {
       "children": [
        "IPY_MODEL_904dd684b0c342daac77ec0eb820cc2c",
        "IPY_MODEL_9983c0bf15b843d9b7cf8af3fec1303a"
       ],
       "layout": "IPY_MODEL_4b2a4bf9db6c40b6890f2c9f7507d39c"
      }
     },
     "f8b4af17f73c40e681d0ac33d7343bb3": {
      "model_module": "@jupyter-widgets/controls",
      "model_module_version": "1.5.0",
      "model_name": "FloatTextModel",
      "state": {
       "description": "Vertical (m)",
       "layout": "IPY_MODEL_af4136ddbf7e44e197203793ec67dd47",
       "step": null,
       "style": "IPY_MODEL_037055e1c60b4c02be8472f51589a3b4",
       "value": 1000
      }
     },
     "f8b51302f8cc4341ae6344a29c9dda3d": {
      "model_module": "@jupyter-widgets/controls",
      "model_module_version": "1.5.0",
      "model_name": "VBoxModel",
      "state": {
       "children": [
        "IPY_MODEL_66f1d66adba34db8a985c0eed7dc6ed5",
        "IPY_MODEL_a050150831d441ddb85e0f30a5b9e35c"
       ],
       "layout": "IPY_MODEL_213edbb714514be4a3fedaa4a07ce894"
      }
     },
     "f8ba04ea12e043c682e0a480a20db8b6": {
      "model_module": "@jupyter-widgets/controls",
      "model_module_version": "1.5.0",
      "model_name": "LabelModel",
      "state": {
       "layout": "IPY_MODEL_caaabd86b0634f26a5b16412baf31ec7",
       "style": "IPY_MODEL_caf8c127131844c18104e3d3e9ccd98a",
       "value": "Monitoring folder"
      }
     },
     "f8d12714a6334c448e5f466aad5c9d27": {
      "model_module": "@jupyter-widgets/controls",
      "model_module_version": "1.5.0",
      "model_name": "DescriptionStyleModel",
      "state": {
       "description_width": ""
      }
     },
     "f901a497e0c449caa9aa4b11c2af6c11": {
      "model_module": "@jupyter-widgets/base",
      "model_module_version": "1.2.0",
      "model_name": "LayoutModel",
      "state": {}
     },
     "f907bfcae489468383f50c127f741dec": {
      "model_module": "@jupyter-widgets/controls",
      "model_module_version": "1.5.0",
      "model_name": "DescriptionStyleModel",
      "state": {
       "description_width": "initial"
      }
     },
     "f90886e4b19145b2b029350e9448b68e": {
      "model_module": "@jupyter-widgets/controls",
      "model_module_version": "1.5.0",
      "model_name": "DropdownModel",
      "state": {
       "_options_labels": [
        "",
        "--- Channels ---",
        "CPI900",
        "CPI7200",
        "CPI56k",
        "CPQ900",
        "CPQ7200",
        "CPQ56k",
        "DEM",
        "Line",
        "X",
        "Y",
        "Z"
       ],
       "description": "Data: ",
       "index": 0,
       "layout": "IPY_MODEL_66b8605bdf7c49db8f7b8665001b0d6f",
       "style": "IPY_MODEL_664b9cc880f04555bf7cf0a1f4065f6b"
      }
     },
     "f9279440f9a04256bf82f251d06c273e": {
      "model_module": "@jupyter-widgets/controls",
      "model_module_version": "1.5.0",
      "model_name": "DescriptionStyleModel",
      "state": {
       "description_width": "initial"
      }
     },
     "f94dea9c89c04893a129e90aeacbad4b": {
      "model_module": "@jupyter-widgets/controls",
      "model_module_version": "1.5.0",
      "model_name": "LabelModel",
      "state": {
       "layout": "IPY_MODEL_15c3113a5eb2441285b77a7fad51d7e5",
       "style": "IPY_MODEL_7c26cc01a49e417881ea083e9d1e5a2d",
       "value": "Save to:"
      }
     },
     "f994cadf2e304e19835634d9039e9172": {
      "model_module": "@jupyter-widgets/controls",
      "model_module_version": "1.5.0",
      "model_name": "ButtonModel",
      "state": {
       "description": "Create copy:",
       "layout": "IPY_MODEL_62bf924565d0413ba009b7c9f4072287",
       "style": "IPY_MODEL_f24a62ca5e1d4233bae7d9fd0eb4036c"
      }
     },
     "f99d2e15eaea424592fc571b806e43ee": {
      "model_module": "@jupyter-widgets/base",
      "model_module_version": "1.2.0",
      "model_name": "LayoutModel",
      "state": {}
     },
     "f9b591f5560f47f9882b697f6676483b": {
      "model_module": "@jupyter-widgets/base",
      "model_module_version": "1.2.0",
      "model_name": "LayoutModel",
      "state": {}
     },
     "f9c24fd676ae492896f3aa6301f7e994": {
      "model_module": "@jupyter-widgets/controls",
      "model_module_version": "1.5.0",
      "model_name": "DescriptionStyleModel",
      "state": {
       "description_width": "initial"
      }
     },
     "f9c4689f61574e069c14577a0830c376": {
      "model_module": "@jupyter-widgets/controls",
      "model_module_version": "1.5.0",
      "model_name": "FloatTextModel",
      "state": {
       "description": "Horizontal (m)",
       "layout": "IPY_MODEL_2231af3d285c41d682301ebef6f7d507",
       "step": null,
       "style": "IPY_MODEL_fb4304b78ec54bcf88050451af8db6c6",
       "value": 1000
      }
     },
     "f9d013ef904c4804bfc9b309dfe46e5d": {
      "model_module": "@jupyter-widgets/controls",
      "model_module_version": "1.5.0",
      "model_name": "DescriptionStyleModel",
      "state": {
       "description_width": "initial"
      }
     },
     "f9db73d39be445caaf6bbfa1050bb587": {
      "model_module": "@jupyter-widgets/base",
      "model_module_version": "1.2.0",
      "model_name": "LayoutModel",
      "state": {}
     },
     "f9e905bc58b04b16beb77453f0a9d93e": {
      "model_module": "@jupyter-widgets/controls",
      "model_module_version": "1.5.0",
      "model_name": "VBoxModel",
      "state": {
       "children": [
        "IPY_MODEL_6599e83d1b964515ab2b97c7f1e601dc",
        "IPY_MODEL_e1c5621c86a4447e99f214ffe18195c7"
       ],
       "layout": "IPY_MODEL_654e7dfb10b543c2b8c6f3fa16a275c1"
      }
     },
     "f9ff1317ddf844afb79bd89b9eb89bf7": {
      "model_module": "@jupyter-widgets/controls",
      "model_module_version": "1.5.0",
      "model_name": "DescriptionStyleModel",
      "state": {
       "description_width": "initial"
      }
     },
     "fa1618ef5d7b4dbd8596f5a4ec5c205b": {
      "model_module": "@jupyter-widgets/controls",
      "model_module_version": "1.5.0",
      "model_name": "DescriptionStyleModel",
      "state": {
       "description_width": ""
      }
     },
     "fa251cd8e61644b8a2cad23afedea81a": {
      "model_module": "@jupyter-widgets/controls",
      "model_module_version": "1.5.0",
      "model_name": "DescriptionStyleModel",
      "state": {
       "description_width": "initial"
      }
     },
     "fa663058a4924135ab8e3d9a45e39ef1": {
      "model_module": "@jupyter-widgets/controls",
      "model_module_version": "1.5.0",
      "model_name": "DescriptionStyleModel",
      "state": {
       "description_width": ""
      }
     },
     "fa74b8a171de4c8192c53948e3432b6c": {
      "model_module": "@jupyter-widgets/base",
      "model_module_version": "1.2.0",
      "model_name": "LayoutModel",
      "state": {
       "margin": "0 0 0 1em"
      }
     },
     "fa7e6c87d7c743a89d0b8cb2a9036622": {
      "model_module": "@jupyter-widgets/base",
      "model_module_version": "1.2.0",
      "model_name": "LayoutModel",
      "state": {
       "grid_area": "pathlist",
       "width": "auto"
      }
     },
     "fa8c0c0acd9f4932b1a18009b3057eaa": {
      "model_module": "@jupyter-widgets/controls",
      "model_module_version": "1.5.0",
      "model_name": "DescriptionStyleModel",
      "state": {
       "description_width": ""
      }
     },
     "faff989cb206491aab350c16a8efe968": {
      "model_module": "@jupyter-widgets/controls",
      "model_module_version": "1.5.0",
      "model_name": "DropdownModel",
      "state": {
       "_options_labels": [
        "",
        "--- Channels ---",
        "CPI900",
        "CPI7200",
        "CPI56k",
        "CPQ900",
        "CPQ7200",
        "CPQ56k",
        "DEM",
        "Line",
        "X",
        "Y",
        "Z"
       ],
       "description": "Data: ",
       "index": 0,
       "layout": "IPY_MODEL_c2ef21c068f44d29b877155f2f7c261f",
       "style": "IPY_MODEL_3398cf460b054709bbb4694eab61aaa4"
      }
     },
     "fb1abff81f894494bcf72480a88e1f61": {
      "model_module": "@jupyter-widgets/controls",
      "model_module_version": "1.5.0",
      "model_name": "DescriptionStyleModel",
      "state": {
       "description_width": ""
      }
     },
     "fb3860aa373749898df305631b82d03d": {
      "model_module": "@jupyter-widgets/base",
      "model_module_version": "1.2.0",
      "model_name": "LayoutModel",
      "state": {}
     },
     "fb3a5b440cac4a789b813ca71761f4c2": {
      "model_module": "@jupyter-widgets/controls",
      "model_module_version": "1.5.0",
      "model_name": "FloatTextModel",
      "state": {
       "description": "Horizontal (m)",
       "layout": "IPY_MODEL_8c82f4dde48c4266afb2f74e65fdde7e",
       "step": null,
       "style": "IPY_MODEL_d0f7c5d22f184341b36c3319eaa91e43",
       "value": 1000
      }
     },
     "fb3ce30332dc4cf2bc4b310c75924faa": {
      "model_module": "@jupyter-widgets/base",
      "model_module_version": "1.2.0",
      "model_name": "LayoutModel",
      "state": {}
     },
     "fb4304b78ec54bcf88050451af8db6c6": {
      "model_module": "@jupyter-widgets/controls",
      "model_module_version": "1.5.0",
      "model_name": "DescriptionStyleModel",
      "state": {
       "description_width": "initial"
      }
     },
     "fb4a322753364787a7fa86a3604a20c4": {
      "model_module": "@jupyter-widgets/controls",
      "model_module_version": "1.5.0",
      "model_name": "DescriptionStyleModel",
      "state": {
       "description_width": "initial"
      }
     },
     "fb589368166c4518867184788c0048ae": {
      "model_module": "@jupyter-widgets/controls",
      "model_module_version": "1.5.0",
      "model_name": "DescriptionStyleModel",
      "state": {
       "description_width": "initial"
      }
     },
     "fb78d90281994512a741bd25aad1094b": {
      "model_module": "@jupyter-widgets/controls",
      "model_module_version": "1.5.0",
      "model_name": "VBoxModel",
      "state": {
       "children": [
        "IPY_MODEL_6883d9b451f24161ab33d9350fea8399",
        "IPY_MODEL_3d56c2eb6d9448d39d9ee17a2f1d6457",
        "IPY_MODEL_3489d2edf8f742d1af3d08fe1e253790"
       ],
       "layout": "IPY_MODEL_982afbfe87c54bc29f6b34c9691acbf2"
      }
     },
     "fba38c9048e74269bd51f8ba7260ebff": {
      "model_module": "@jupyter-widgets/controls",
      "model_module_version": "1.5.0",
      "model_name": "ButtonStyleModel",
      "state": {}
     },
     "fba453113c5746c3ab9d142bf08c73aa": {
      "model_module": "@jupyter-widgets/base",
      "model_module_version": "1.2.0",
      "model_name": "LayoutModel",
      "state": {
       "grid_area": "pathlist",
       "width": "auto"
      }
     },
     "fba7a1b2f03c40239f99a9293e92b882": {
      "model_module": "@jupyter-widgets/base",
      "model_module_version": "1.2.0",
      "model_name": "LayoutModel",
      "state": {}
     },
     "fbc9b469497e4b63a3218d6e72193419": {
      "model_module": "@jupyter-widgets/controls",
      "model_module_version": "1.5.0",
      "model_name": "ButtonModel",
      "state": {
       "description": "Change",
       "layout": "IPY_MODEL_46b187e730ae4b0b8a99af2911be5695",
       "style": "IPY_MODEL_efa8d97eaa08408ba71dcd0f6f86677f"
      }
     },
     "fbeb95125b664da6be0b4ffbd25e81d9": {
      "model_module": "@jupyter-widgets/base",
      "model_module_version": "1.2.0",
      "model_name": "LayoutModel",
      "state": {}
     },
     "fbfe69c494cb4965bce325beb0cd1eca": {
      "model_module": "@jupyter-widgets/controls",
      "model_module_version": "1.5.0",
      "model_name": "ButtonModel",
      "state": {
       "description": "Cancel",
       "layout": "IPY_MODEL_655c2dba0cc742c7aa646ceda35b8128",
       "style": "IPY_MODEL_a81a0f97608549eda465bc121e8fe537"
      }
     },
     "fc21fd705f2b4075aaffd4a81023dc69": {
      "model_module": "@jupyter-widgets/controls",
      "model_module_version": "1.5.0",
      "model_name": "DescriptionStyleModel",
      "state": {
       "description_width": ""
      }
     },
     "fc3453ee633b43d7b87c08cc19c87600": {
      "model_module": "@jupyter-widgets/base",
      "model_module_version": "1.2.0",
      "model_name": "LayoutModel",
      "state": {}
     },
     "fc3ae2b61a1a432793bc03a5d3fca695": {
      "model_module": "@jupyter-widgets/controls",
      "model_module_version": "1.5.0",
      "model_name": "DescriptionStyleModel",
      "state": {
       "description_width": "initial"
      }
     },
     "fc45e806b0aa4ecb9230c636aaebc929": {
      "model_module": "@jupyter-widgets/controls",
      "model_module_version": "1.5.0",
      "model_name": "DescriptionStyleModel",
      "state": {
       "description_width": "initial"
      }
     },
     "fc53c65f87894bc7a3a09fb33ff584e9": {
      "model_module": "@jupyter-widgets/base",
      "model_module_version": "1.2.0",
      "model_name": "LayoutModel",
      "state": {}
     },
     "fc72cee4fb57484bad58d53428c31bc8": {
      "model_module": "@jupyter-widgets/controls",
      "model_module_version": "1.5.0",
      "model_name": "FloatTextModel",
      "state": {
       "description": "Vertical (m)",
       "layout": "IPY_MODEL_6d0ecb2c5aa94f03a8d6c57144311119",
       "step": null,
       "style": "IPY_MODEL_90dd507f072345a7ae5084a81c573bde",
       "value": 1000
      }
     },
     "fc76647714aa47ada7ab2f7231426816": {
      "model_module": "@jupyter-widgets/controls",
      "model_module_version": "1.5.0",
      "model_name": "DescriptionStyleModel",
      "state": {
       "description_width": "initial"
      }
     },
     "fc88724aaa964ccb91ae687aeb8f42e3": {
      "model_module": "@jupyter-widgets/controls",
      "model_module_version": "1.5.0",
      "model_name": "DescriptionStyleModel",
      "state": {
       "description_width": "initial"
      }
     },
     "fc98027d8c5d4d05a388ef197f7b6edd": {
      "model_module": "@jupyter-widgets/controls",
      "model_module_version": "1.5.0",
      "model_name": "TextModel",
      "state": {
       "continuous_update": false,
       "description": "Name:",
       "layout": "IPY_MODEL_7aae36f7f4434eb2a0ec7a51ba347fcd",
       "style": "IPY_MODEL_56fdc1c25af3450186f5e91d1e5934fa",
       "value": "Octree_Mesh"
      }
     },
     "fcada985956b4ca0addef82e8308b4c9": {
      "model_module": "@jupyter-widgets/base",
      "model_module_version": "1.2.0",
      "model_name": "LayoutModel",
      "state": {}
     },
     "fcde0307d10240eaa956ce11fcecbd7e": {
      "model_module": "@jupyter-widgets/base",
      "model_module_version": "1.2.0",
      "model_name": "LayoutModel",
      "state": {
       "overflow": "auto"
      }
     },
     "fd098ca3ba9144359930ddff87264ace": {
      "model_module": "@jupyter-widgets/controls",
      "model_module_version": "1.5.0",
      "model_name": "TextModel",
      "state": {
       "layout": "IPY_MODEL_9abaa2eba37e489e81741c477636d567",
       "placeholder": "output filename",
       "style": "IPY_MODEL_e494ec6ab34a4f0a8ef17bf685fd3045",
       "value": "FlinFlon.geoh5"
      }
     },
     "fd5bf5c2f00b4bf7bbb09df237d8f9d6": {
      "model_module": "@jupyter-widgets/base",
      "model_module_version": "1.2.0",
      "model_name": "LayoutModel",
      "state": {}
     },
     "fd67dbffa6fa487681c63a7e552aa680": {
      "model_module": "@jupyter-widgets/base",
      "model_module_version": "1.2.0",
      "model_name": "LayoutModel",
      "state": {}
     },
     "fda310f98de246b4b1c64cd773ea8b48": {
      "model_module": "@jupyter-widgets/base",
      "model_module_version": "1.2.0",
      "model_name": "LayoutModel",
      "state": {}
     },
     "fdb62edf2f1449248c2326b40cfca766": {
      "model_module": "@jupyter-widgets/base",
      "model_module_version": "1.2.0",
      "model_name": "LayoutModel",
      "state": {
       "display": "none",
       "grid_gap": "0px 0px",
       "grid_template_areas": "\n                    'pathlist filename'\n                    'dircontent dircontent'\n                    ",
       "grid_template_columns": "60% 40%",
       "grid_template_rows": "auto auto",
       "width": "auto"
      }
     },
     "fe2e9147e0dc46739f1a22b6771a0274": {
      "model_module": "@jupyter-widgets/controls",
      "model_module_version": "1.5.0",
      "model_name": "DescriptionStyleModel",
      "state": {
       "description_width": ""
      }
     },
     "fe53316a5e644c69acf161314797a53e": {
      "model_module": "@jupyter-widgets/controls",
      "model_module_version": "1.5.0",
      "model_name": "ButtonStyleModel",
      "state": {}
     },
     "fe5c6e746d9240a0b56377d685c23a2d": {
      "model_module": "@jupyter-widgets/base",
      "model_module_version": "1.2.0",
      "model_name": "LayoutModel",
      "state": {
       "display": "none",
       "grid_gap": "0px 0px",
       "grid_template_areas": "\n                    'pathlist pathlist'\n                    'dircontent dircontent'\n                    ",
       "grid_template_columns": "60% 40%",
       "grid_template_rows": "auto auto",
       "width": "auto"
      }
     },
     "fe5d14c3a4d44ae1bc625bd31666a828": {
      "model_module": "@jupyter-widgets/controls",
      "model_module_version": "1.5.0",
      "model_name": "DescriptionStyleModel",
      "state": {
       "description_width": "initial"
      }
     },
     "fe60947853f54bdaa063d9170d712053": {
      "model_module": "@jupyter-widgets/base",
      "model_module_version": "1.2.0",
      "model_name": "LayoutModel",
      "state": {}
     },
     "fe8b74d793824547acb1d74becc45cfd": {
      "model_module": "@jupyter-widgets/controls",
      "model_module_version": "1.5.0",
      "model_name": "DropdownModel",
      "state": {
       "_options_labels": [
        "",
        "Ore/39_Ore_Callinan",
        "Ore/38_Ore_Dan_Owens",
        "Ore/40_Ore_FlinFlon",
        "Workspace/Inversion_VTEM_Model",
        "Workspace/DC_Survey (currents)",
        "Workspace/CDI_VTEM_model",
        "Workspace/Data_FEM_pseudo3D",
        "Workspace/geochem",
        "Workspace/DC_Survey",
        "Workspace/Inversion_DIGHEM_Model",
        "Workspace/Topography",
        "Workspace/Data_TEM_pseudo3D",
        "Workspace/Data_ZTEM",
        "Workspace/Mesh"
       ],
       "description": "Object",
       "index": 7,
       "layout": "IPY_MODEL_b74ee4c6ea494ae09ae9f2644ee5195e",
       "style": "IPY_MODEL_f710447872784ca383f71cb44c8e0031"
      }
     },
     "fea05cdae7c5429cb47a6c44e66b0d8f": {
      "model_module": "@jupyter-widgets/controls",
      "model_module_version": "1.5.0",
      "model_name": "VBoxModel",
      "state": {
       "children": [
        "IPY_MODEL_dbe6f00bdbae4ef994c2190ef0326e64",
        "IPY_MODEL_8ae1c563eae84c1faf6f089911b57f71",
        "IPY_MODEL_e7973867fdc94dceb48a2d2f0d8a1d6d"
       ],
       "layout": "IPY_MODEL_c53c8621d4a341ed8cf27719f07ee371"
      }
     },
     "feed2ffccc2a4f4690fb4a1cba02112d": {
      "model_module": "@jupyter-widgets/controls",
      "model_module_version": "1.5.0",
      "model_name": "DescriptionStyleModel",
      "state": {
       "description_width": ""
      }
     },
     "fefd4fd5b60a453c94e38df92f7dd7a7": {
      "model_module": "@jupyter-widgets/base",
      "model_module_version": "1.2.0",
      "model_name": "LayoutModel",
      "state": {}
     },
     "ff07d59e56934aa3932ac11998c96f1d": {
      "model_module": "@jupyter-widgets/controls",
      "model_module_version": "1.5.0",
      "model_name": "DescriptionStyleModel",
      "state": {
       "description_width": ""
      }
     },
     "ff0ac10240e340929dd97213f76e9a31": {
      "model_module": "@jupyter-widgets/controls",
      "model_module_version": "1.5.0",
      "model_name": "ButtonStyleModel",
      "state": {}
     },
     "ff15235d0973478d9cff4583b23f0a31": {
      "model_module": "@jupyter-widgets/base",
      "model_module_version": "1.2.0",
      "model_name": "LayoutModel",
      "state": {}
     },
     "ff2630bda5b44f8b966c65ace38379ae": {
      "model_module": "@jupyter-widgets/controls",
      "model_module_version": "1.5.0",
      "model_name": "HTMLModel",
      "state": {
       "layout": "IPY_MODEL_cbeb9566f2044e82a5aa4688c4f36ae9",
       "placeholder": "",
       "style": "IPY_MODEL_a0c79f73849a4558ba57089478b83eaf",
       "value": "<span style=\"color:green;\">C:\\Users\\dominiquef\\Documents\\GIT\\mira\\geoapps\\assets\\Temp\\</span>"
      }
     },
     "ff2d92acf3764aacb0a9f23d12bf8542": {
      "model_module": "@jupyter-widgets/controls",
      "model_module_version": "1.5.0",
      "model_name": "DescriptionStyleModel",
      "state": {
       "description_width": "initial"
      }
     },
     "ff41a9bc0aa4481088940ad258c53097": {
      "model_module": "@jupyter-widgets/controls",
      "model_module_version": "1.5.0",
      "model_name": "GridBoxModel",
      "state": {
       "children": [
        "IPY_MODEL_53856b1181ad429eb83857322ec98f3d",
        "IPY_MODEL_30c9e6ec906b4ea08410433aa7214470",
        "IPY_MODEL_cab61c46ddb74580b4ac49d64af958fd"
       ],
       "layout": "IPY_MODEL_530cad20798242af96b35902b23e760e"
      }
     },
     "ff48f613e2dc411aac059012954f1fe1": {
      "model_module": "@jupyter-widgets/base",
      "model_module_version": "1.2.0",
      "model_name": "LayoutModel",
      "state": {
       "margin": "0 0 0 1em"
      }
     },
     "ff5116f88bff41b08ea2d77745a2b924": {
      "model_module": "@jupyter-widgets/controls",
      "model_module_version": "1.5.0",
      "model_name": "VBoxModel",
      "state": {
       "children": [
        "IPY_MODEL_11fb7a83a16142468004d47cc041ab78",
        "IPY_MODEL_fc98027d8c5d4d05a388ef197f7b6edd"
       ],
       "layout": "IPY_MODEL_1adbf44d64f44fd18e7020063469e584"
      }
     },
     "ff555271fd194db39587943286e6dc44": {
      "model_module": "@jupyter-widgets/controls",
      "model_module_version": "1.5.0",
      "model_name": "DescriptionStyleModel",
      "state": {
       "description_width": "initial"
      }
     },
     "ff572e15d2bf4fdb9714fb77180fb7de": {
      "model_module": "@jupyter-widgets/controls",
      "model_module_version": "1.5.0",
      "model_name": "DescriptionStyleModel",
      "state": {
       "description_width": "initial"
      }
     },
     "ff62b4ac976b48a1934189945c3bf16d": {
      "model_module": "@jupyter-widgets/controls",
      "model_module_version": "1.5.0",
      "model_name": "GridBoxModel",
      "state": {
       "children": [
        "IPY_MODEL_065f817d9863411d80318c4a512c72f5",
        "IPY_MODEL_2be3a1665306482dafe4743b22a66cce",
        "IPY_MODEL_2fbdcb57ae554e5c83d50b2ed665bde6"
       ],
       "layout": "IPY_MODEL_6484569a2cfe4331aabf598a7e3175e7"
      }
     },
     "ff703620528f4d969b0f4dbda332c585": {
      "model_module": "@jupyter-widgets/controls",
      "model_module_version": "1.5.0",
      "model_name": "DescriptionStyleModel",
      "state": {
       "description_width": "initial"
      }
     },
     "ffa8d8b722ec44a19fdf02606ff5a366": {
      "model_module": "@jupyter-widgets/controls",
      "model_module_version": "1.5.0",
      "model_name": "DescriptionStyleModel",
      "state": {
       "description_width": "initial"
      }
     },
     "ffcfd51d822146ce8a0e77a2394c309b": {
      "model_module": "@jupyter-widgets/base",
      "model_module_version": "1.2.0",
      "model_name": "LayoutModel",
      "state": {}
     },
     "ffd33d127f794a9f8b315eeb5fc7e2b8": {
      "model_module": "@jupyter-widgets/controls",
      "model_module_version": "1.5.0",
      "model_name": "VBoxModel",
      "state": {
       "children": [
        "IPY_MODEL_aca7f00752ba407e9f9775c90d8be179",
        "IPY_MODEL_b92a09f727564b9d80558b409b0ba8be",
        "IPY_MODEL_444d2169698c4d62b646805268f1c620",
        "IPY_MODEL_63db9a0d4ebd4cd4b7d37543e26676b9",
        "IPY_MODEL_e37e31dda07843e8b03aa2d17d5498dd"
       ],
       "layout": "IPY_MODEL_f5041b60eb5c485c894134c31c468a66"
      }
     },
     "ffef4ea8d2fc42e89728003f33e4db31": {
      "model_module": "@jupyter-widgets/base",
      "model_module_version": "1.2.0",
      "model_name": "LayoutModel",
      "state": {}
     }
    },
    "version_major": 2,
    "version_minor": 0
   }
  }
 },
 "nbformat": 4,
 "nbformat_minor": 5
}

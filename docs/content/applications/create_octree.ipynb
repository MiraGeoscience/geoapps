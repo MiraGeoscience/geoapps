version https://git-lfs.github.com/spec/v1
oid sha256:3749f36bff7a6c4e34944a476dc1da391fbad13e0c79b8d16726b85fd2a5dff4
size 147894

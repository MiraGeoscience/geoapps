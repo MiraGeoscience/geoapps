version https://git-lfs.github.com/spec/v1
oid sha256:50e938aec30e26f073f5cf8a241aad29678997b61efa9635e4b6c862b48c4675
size 220454

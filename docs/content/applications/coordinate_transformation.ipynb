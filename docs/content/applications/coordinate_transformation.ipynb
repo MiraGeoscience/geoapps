{
 "cells": [
  {
   "cell_type": "markdown",
   "id": "first-horizontal",
   "metadata": {},
   "source": [
    "# Coordinate System Transformation\n",
    "\n",
    "This application lets users change the coordinate system of objects using EPSG, ESRI and/or Well-Known-Text (WKT) strings.\n",
    "The application relies on open-source libraries supported by the [GeoPandas](https://geopandas.org/) project. \n",
    "\n",
    "  <img align=\"right\" width=\"50%\" src=\"./images/coordinate_transform_thumbnail.png\">\n",
    "\n",
    "\n",
    "New user? Visit the [Getting Started](../installation.rst) page."
   ]
  },
  {
   "cell_type": "markdown",
   "id": "alive-ribbon",
   "metadata": {},
   "source": [
    "## Application\n",
    "The following sections provide details on the different parameters controlling the application. Interactive widgets shown below are for demonstration purposes only."
   ]
  },
  {
   "cell_type": "code",
   "execution_count": 1,
   "id": "computational-arrest",
   "metadata": {
    "scrolled": false
   },
   "outputs": [
    {
     "data": {
      "application/vnd.jupyter.widget-view+json": {
       "model_id": "28843e6e61b04ef7b5eabcd6fd87f817",
       "version_major": 2,
       "version_minor": 0
      },
      "text/plain": [
       "VBox(children=(VBox(children=(Label(value='Workspace', style=DescriptionStyle(description_width='initial')), H…"
      ]
     },
     "metadata": {},
     "output_type": "display_data"
    }
   ],
   "source": [
    "from geoapps.coordinate_transformation import CoordinateTransformation\n",
    "\n",
    "app = CoordinateTransformation(h5file=r\"../../../assets/FlinFlon.geoh5\")\n",
    "app()"
   ]
  },
  {
   "cell_type": "markdown",
   "id": "unable-staff",
   "metadata": {},
   "source": [
    "## Project Selection\n",
    "\n",
    "Select and connect to an existing **geoh5** project file containing data. "
   ]
  },
  {
   "cell_type": "code",
   "execution_count": 2,
   "id": "metallic-condition",
   "metadata": {},
   "outputs": [
    {
     "data": {
      "application/vnd.jupyter.widget-view+json": {
       "model_id": "b4545490d508494b9bf5e29061f86540",
       "version_major": 2,
       "version_minor": 0
      },
      "text/plain": [
       "VBox(children=(Label(value='Workspace', style=DescriptionStyle(description_width='initial')), HBox(children=(F…"
      ]
     },
     "metadata": {},
     "output_type": "display_data"
    }
   ],
   "source": [
    "app.project_panel"
   ]
  },
  {
   "cell_type": "markdown",
   "id": "excessive-competition",
   "metadata": {},
   "source": [
    "See the [Project Panel](base_application.ipynb#Project-Panel) page for more details."
   ]
  },
  {
   "cell_type": "markdown",
   "id": "handmade-lender",
   "metadata": {},
   "source": [
    "## Object Selection\n",
    "\n",
    "List of objects available. Currently supports objects of type `Points`, `Curve`, `Surface` and `Grid2D` "
   ]
  },
  {
   "cell_type": "code",
   "execution_count": 3,
   "id": "promising-theme",
   "metadata": {
    "scrolled": true
   },
   "outputs": [
    {
     "data": {
      "application/vnd.jupyter.widget-view+json": {
       "model_id": "44eeb004d66a4a389df30e67e7dc6757",
       "version_major": 2,
       "version_minor": 0
      },
      "text/plain": [
       "SelectMultiple(description='Object:', index=(5, 12), options=(['', None], ['Ore/39_Ore_Callinan', UUID('9c5a1a…"
      ]
     },
     "metadata": {},
     "output_type": "display_data"
    }
   ],
   "source": [
    "app.objects"
   ]
  },
  {
   "cell_type": "markdown",
   "id": "rental-narrative",
   "metadata": {},
   "source": [
    "## Input Projection\n",
    "\n",
    "[EPSG](https://spatialreference.org/ref/epsg/), ESRI or WKT string describing the input object coordinate system. Entering a known EPSG or ESRI code will result in an update of the WKT string, and vice versa. \n",
    "\n",
    "**Note**: Only the WKT string is considered by the coordinate transformation routine. "
   ]
  },
  {
   "cell_type": "code",
   "execution_count": 4,
   "id": "fewer-tonight",
   "metadata": {},
   "outputs": [
    {
     "data": {
      "application/vnd.jupyter.widget-view+json": {
       "model_id": "2902f8ecbe584bfeb987b86ffa1e32cd",
       "version_major": 2,
       "version_minor": 0
      },
      "text/plain": [
       "HBox(children=(Text(value='EPSG:26914', continuous_update=False, description='Input Projection:', style=Descri…"
      ]
     },
     "metadata": {},
     "output_type": "display_data"
    }
   ],
   "source": [
    "app.input_projection"
   ]
  },
  {
   "cell_type": "markdown",
   "id": "immune-rebel",
   "metadata": {},
   "source": [
    "## Output Projection\n",
    "\n",
    "[EPSG](https://spatialreference.org/ref/epsg/), ESRI or WKT string describing the target coordinate system."
   ]
  },
  {
   "cell_type": "code",
   "execution_count": 5,
   "id": "public-egyptian",
   "metadata": {},
   "outputs": [
    {
     "data": {
      "application/vnd.jupyter.widget-view+json": {
       "model_id": "2bcd8c2114f643fc82906b76bd67c37a",
       "version_major": 2,
       "version_minor": 0
      },
      "text/plain": [
       "HBox(children=(Text(value='EPSG:4326', continuous_update=False, description='Output Projection:', style=Descri…"
      ]
     },
     "metadata": {},
     "output_type": "display_data"
    }
   ],
   "source": [
    "app.output_projection"
   ]
  },
  {
   "cell_type": "markdown",
   "id": "prescribed-three",
   "metadata": {},
   "source": [
    "## Output Panel\n",
    "\n",
    "Trigger the computation routine and store the result."
   ]
  },
  {
   "cell_type": "code",
   "execution_count": 6,
   "id": "associate-buying",
   "metadata": {
    "scrolled": true
   },
   "outputs": [
    {
     "data": {
      "application/vnd.jupyter.widget-view+json": {
       "model_id": "2e38cdc08682427fbb7ac3dde43d7dde",
       "version_major": 2,
       "version_minor": 0
      },
      "text/plain": [
       "VBox(children=(VBox(children=(Button(button_style='danger', description='Compute', icon='check', style=ButtonS…"
      ]
     },
     "metadata": {},
     "output_type": "display_data"
    }
   ],
   "source": [
    "app.output_panel"
   ]
  },
  {
   "cell_type": "markdown",
   "id": "radical-marijuana",
   "metadata": {},
   "source": [
    "See the [Output Panel](base_application.ipynb#Output-Panel) page for more details."
   ]
  },
  {
   "cell_type": "markdown",
   "id": "worse-bottle",
   "metadata": {},
   "source": [
    "Need help? Contact us at support@mirageoscience.com"
   ]
  },
  {
   "cell_type": "code",
   "execution_count": 7,
   "id": "orange-patrol",
   "metadata": {
    "nbsphinx": "hidden"
   },
   "outputs": [
    {
     "data": {
      "image/png": "[encoded data removed]",
      "text/plain": [
       "<Figure size 864x576 with 2 Axes>"
      ]
     },
     "metadata": {
      "needs_background": "light"
     },
     "output_type": "display_data"
    }
   ],
   "source": [
    "import matplotlib.pyplot as plt\n",
    "app.plot_result = True\n",
    "app.trigger.click()\n",
    "app.figure.savefig(\"images/coordinate_transform_thumbnail.png\", dpi=300, bbox_inches=\"tight\")"
   ]
  }
 ],
 "metadata": {
  "kernelspec": {
   "display_name": "Python 3 (ipykernel)",
   "language": "python",
   "name": "python3"
  },
  "language_info": {
   "codemirror_mode": {
    "name": "ipython",
    "version": 3
   },
   "file_extension": ".py",
   "mimetype": "text/x-python",
   "name": "python",
   "nbconvert_exporter": "python",
   "pygments_lexer": "ipython3",
   "version": "3.9.7"
  },
  "widgets": {
   "application/vnd.jupyter.widget-state+json": {
    "state": {
     "002f92c80ce246a59188e5268c4d72bf": {
      "model_module": "@jupyter-widgets/base",
      "model_module_version": "1.2.0",
      "model_name": "LayoutModel",
      "state": {
       "width": "auto"
      }
     },
     "0042f8220635438f8a149fe39a34abdf": {
      "model_module": "@jupyter-widgets/controls",
      "model_module_version": "1.5.0",
      "model_name": "DescriptionStyleModel",
      "state": {
       "description_width": ""
      }
     },
     "00cb2db168fb428db9d8d2c5d68da00e": {
      "model_module": "@jupyter-widgets/base",
      "model_module_version": "1.2.0",
      "model_name": "LayoutModel",
      "state": {}
     },
     "0138e69b2b164a7db1071a0f31425072": {
      "model_module": "@jupyter-widgets/controls",
      "model_module_version": "1.5.0",
      "model_name": "DescriptionStyleModel",
      "state": {
       "description_width": ""
      }
     },
     "01a5135d5f354f118bed9bc99659f83e": {
      "model_module": "@jupyter-widgets/controls",
      "model_module_version": "1.5.0",
      "model_name": "TextModel",
      "state": {
       "continuous_update": false,
       "description": "Group:",
       "layout": "IPY_MODEL_cdeebb2973094c61a2cb4c95309d95be",
       "style": "IPY_MODEL_f2bad10e5c3741138d06486c2e6796a2",
       "value": "CoordinateTransformation"
      }
     },
     "01e3058f0fdd41d38a1a5c60652a6d7e": {
      "model_module": "@jupyter-widgets/controls",
      "model_module_version": "1.5.0",
      "model_name": "ButtonStyleModel",
      "state": {}
     },
     "01ef819da2d74ec4949cc448c5543220": {
      "model_module": "@jupyter-widgets/base",
      "model_module_version": "1.2.0",
      "model_name": "LayoutModel",
      "state": {}
     },
     "0265f50d6b994619ad051c8a00f8748f": {
      "model_module": "@jupyter-widgets/controls",
      "model_module_version": "1.5.0",
      "model_name": "DescriptionStyleModel",
      "state": {
       "description_width": ""
      }
     },
     "0276a04d686e42e1b9552021fc5e1452": {
      "model_module": "@jupyter-widgets/controls",
      "model_module_version": "1.5.0",
      "model_name": "HBoxModel",
      "state": {
       "children": [
        "IPY_MODEL_24727674c5df46d58c6e67e18065fc6d",
        "IPY_MODEL_3e11e43e8ba54055b39ab90a338caa55"
       ],
       "layout": "IPY_MODEL_28d097747b5b43bbaf262fb2182412a9"
      }
     },
     "02af600b2eef4cc1b9b78746d36996e9": {
      "model_module": "@jupyter-widgets/controls",
      "model_module_version": "1.5.0",
      "model_name": "DescriptionStyleModel",
      "state": {
       "description_width": ""
      }
     },
     "0308d5ef64f648ff8df9b89045b114ef": {
      "model_module": "@jupyter-widgets/controls",
      "model_module_version": "1.5.0",
      "model_name": "DescriptionStyleModel",
      "state": {
       "description_width": "initial"
      }
     },
     "0318445e3b9e4a41b8774525bf28d96f": {
      "model_module": "@jupyter-widgets/base",
      "model_module_version": "1.2.0",
      "model_name": "LayoutModel",
      "state": {
       "grid_area": "pathlist",
       "width": "auto"
      }
     },
     "0332fcb20ea947888b598b3b878e5b8f": {
      "model_module": "@jupyter-widgets/controls",
      "model_module_version": "1.5.0",
      "model_name": "VBoxModel",
      "state": {
       "children": [
        "IPY_MODEL_efa277285c4544509b7191e8b3efe4d0",
        "IPY_MODEL_9b96f188b0f6480c9f8ce222c0b8a655",
        "IPY_MODEL_dfb27167d27c4f05927cd41e4b9a9391"
       ],
       "layout": "IPY_MODEL_68fcc3097cce4f91905195081f61fcd8"
      }
     },
     "0341e22bd6e347f888fcf63b585a1af6": {
      "model_module": "@jupyter-widgets/controls",
      "model_module_version": "1.5.0",
      "model_name": "DescriptionStyleModel",
      "state": {
       "description_width": ""
      }
     },
     "03e412dc85624799a2f85486d9a6c004": {
      "model_module": "@jupyter-widgets/controls",
      "model_module_version": "1.5.0",
      "model_name": "ButtonStyleModel",
      "state": {}
     },
     "043ed57977954459a40b8797d93b2141": {
      "model_module": "@jupyter-widgets/base",
      "model_module_version": "1.2.0",
      "model_name": "LayoutModel",
      "state": {
       "display": "none",
       "width": "auto"
      }
     },
     "04d4f517f3d44c2aa5491b5b2087a152": {
      "model_module": "@jupyter-widgets/controls",
      "model_module_version": "1.5.0",
      "model_name": "ButtonModel",
      "state": {
       "description": "Create copy:",
       "layout": "IPY_MODEL_d8c77b6b78dd449ab6625b98a4816790",
       "style": "IPY_MODEL_98038b6b378b46e0a76cafafe745c1cc"
      }
     },
     "054efdf06855499a887a57bdb2cf5cd2": {
      "model_module": "@jupyter-widgets/controls",
      "model_module_version": "1.5.0",
      "model_name": "DescriptionStyleModel",
      "state": {
       "description_width": ""
      }
     },
     "05652551ac7b463e98695b316b1400dc": {
      "model_module": "@jupyter-widgets/controls",
      "model_module_version": "1.5.0",
      "model_name": "ButtonModel",
      "state": {
       "description": "Create copy:",
       "layout": "IPY_MODEL_9e39e8f0ac1a45b39cc0a89b0941ce20",
       "style": "IPY_MODEL_c186bba3052442038431d45731bf5c61"
      }
     },
     "057131c7694f4ba4b01fc69f69a2a1c3": {
      "model_module": "@jupyter-widgets/base",
      "model_module_version": "1.2.0",
      "model_name": "LayoutModel",
      "state": {
       "width": "50%"
      }
     },
     "059c771128a14d3d8daa621046cd5a4d": {
      "model_module": "@jupyter-widgets/base",
      "model_module_version": "1.2.0",
      "model_name": "LayoutModel",
      "state": {
       "grid_area": "pathlist",
       "width": "auto"
      }
     },
     "05a2a5bf66dd4e65b1e42717f704607f": {
      "model_module": "@jupyter-widgets/base",
      "model_module_version": "1.2.0",
      "model_name": "LayoutModel",
      "state": {
       "display": "none",
       "grid_gap": "0px 0px",
       "grid_template_areas": "\n                    'pathlist filename'\n                    'dircontent dircontent'\n                    ",
       "grid_template_columns": "60% 40%",
       "grid_template_rows": "auto auto",
       "width": "500px"
      }
     },
     "06c69c03928a4789b3f57c3fd48ede4a": {
      "model_module": "@jupyter-widgets/base",
      "model_module_version": "1.2.0",
      "model_name": "LayoutModel",
      "state": {}
     },
     "06ca8f0b2aa941758a878935976811c2": {
      "model_module": "@jupyter-widgets/controls",
      "model_module_version": "1.5.0",
      "model_name": "ButtonStyleModel",
      "state": {}
     },
     "0721fabb1357442697c4a5a01bf7ff4c": {
      "model_module": "@jupyter-widgets/controls",
      "model_module_version": "1.5.0",
      "model_name": "ButtonStyleModel",
      "state": {}
     },
     "0758828279d64bce97eac62e4578a8e1": {
      "model_module": "@jupyter-widgets/controls",
      "model_module_version": "1.5.0",
      "model_name": "DescriptionStyleModel",
      "state": {
       "description_width": ""
      }
     },
     "07607c53ea0441d28772681d64890f97": {
      "model_module": "@jupyter-widgets/controls",
      "model_module_version": "1.5.0",
      "model_name": "DescriptionStyleModel",
      "state": {
       "description_width": "initial"
      }
     },
     "076c15183ebd4a909731ea904696acb8": {
      "model_module": "@jupyter-widgets/controls",
      "model_module_version": "1.5.0",
      "model_name": "DescriptionStyleModel",
      "state": {
       "description_width": ""
      }
     },
     "07806d26d36c4bfd9d722a56e0c0e83f": {
      "model_module": "@jupyter-widgets/controls",
      "model_module_version": "1.5.0",
      "model_name": "DescriptionStyleModel",
      "state": {
       "description_width": ""
      }
     },
     "07c831cf83aa4536aebc7513721d44cb": {
      "model_module": "@jupyter-widgets/controls",
      "model_module_version": "1.5.0",
      "model_name": "ButtonStyleModel",
      "state": {}
     },
     "0812eac65cf34d37bc9e6b32b7a2abd6": {
      "model_module": "@jupyter-widgets/controls",
      "model_module_version": "1.5.0",
      "model_name": "TextModel",
      "state": {
       "layout": "IPY_MODEL_f457dc8822bd4d7996591b3e3f422f62",
       "placeholder": "output filename",
       "style": "IPY_MODEL_c578365c6adf47589975ae6f1b84f8a2",
       "value": "FlinFlon.geoh5"
      }
     },
     "082a965f6b3a4940b61b389d4aaebaa7": {
      "model_module": "@jupyter-widgets/controls",
      "model_module_version": "1.5.0",
      "model_name": "TextareaModel",
      "state": {
       "description": "<=> WKT",
       "layout": "IPY_MODEL_6e8811ba009a40aaa9a7397dc9acb297",
       "style": "IPY_MODEL_6f54ecd014a24267a62402704823a720",
       "value": "GEOGCS[\"WGS 84\",DATUM[\"WGS_1984\",SPHEROID[\"WGS 84\",6378137,298.257223563,AUTHORITY[\"EPSG\",\"7030\"]],AUTHORITY[\"EPSG\",\"6326\"]],PRIMEM[\"Greenwich\",0,AUTHORITY[\"EPSG\",\"8901\"]],UNIT[\"degree\",0.0174532925199433,AUTHORITY[\"EPSG\",\"9122\"]],AXIS[\"Latitude\",NORTH],AXIS[\"Longitude\",EAST],AUTHORITY[\"EPSG\",\"4326\"]]"
      }
     },
     "083513be621b4eadbdcd61f84d659949": {
      "model_module": "@jupyter-widgets/controls",
      "model_module_version": "1.5.0",
      "model_name": "ButtonStyleModel",
      "state": {}
     },
     "08a5d19d0336493dbec492f645065517": {
      "model_module": "@jupyter-widgets/controls",
      "model_module_version": "1.5.0",
      "model_name": "VBoxModel",
      "state": {
       "children": [
        "IPY_MODEL_270f220abffe4ed0b7552d93f7be27b3",
        "IPY_MODEL_d49c87af20e34c4393a51b7041048878",
        "IPY_MODEL_0fbca0ae5ebb49be840c29ec3f3180e5",
        "IPY_MODEL_7fe55946cca5461d90d3e7b412bc0a70",
        "IPY_MODEL_24807bf277604fe08fad50920be38e3c"
       ],
       "layout": "IPY_MODEL_6fc04e44edc84c4fb2b26e0e49f660a7"
      }
     },
     "08dc007de9894573b2f1ae9ad7d3b565": {
      "model_module": "@jupyter-widgets/controls",
      "model_module_version": "1.5.0",
      "model_name": "TextModel",
      "state": {
       "continuous_update": false,
       "description": "Group:",
       "layout": "IPY_MODEL_c78874ab837e40e98fd6af911b4c394a",
       "style": "IPY_MODEL_0efc0e0a04d94b6d8bdbec20f7dc487a",
       "value": "CoordinateTransformation"
      }
     },
     "0926ea4275854598b5f244f71eb73d8d": {
      "model_module": "@jupyter-widgets/controls",
      "model_module_version": "1.5.0",
      "model_name": "DescriptionStyleModel",
      "state": {
       "description_width": "initial"
      }
     },
     "0931b1f7a62240349e233f1c422038c2": {
      "model_module": "@jupyter-widgets/controls",
      "model_module_version": "1.5.0",
      "model_name": "DescriptionStyleModel",
      "state": {
       "description_width": "initial"
      }
     },
     "0950b08a092d4944a2f27b00e2ef3224": {
      "model_module": "@jupyter-widgets/base",
      "model_module_version": "1.2.0",
      "model_name": "LayoutModel",
      "state": {
       "display": "none"
      }
     },
     "098d15aed8c94e2d81acdb9ae09807f7": {
      "model_module": "@jupyter-widgets/controls",
      "model_module_version": "1.5.0",
      "model_name": "DescriptionStyleModel",
      "state": {
       "description_width": "initial"
      }
     },
     "09e297ca5c9d424ab36f9b93c97148c4": {
      "model_module": "@jupyter-widgets/base",
      "model_module_version": "1.2.0",
      "model_name": "LayoutModel",
      "state": {
       "width": "auto"
      }
     },
     "0a0e959fa0094e0f81cad79c63b42f05": {
      "model_module": "@jupyter-widgets/controls",
      "model_module_version": "1.5.0",
      "model_name": "DescriptionStyleModel",
      "state": {
       "description_width": ""
      }
     },
     "0a23052b14f84f1181a5f0f844c92fbf": {
      "model_module": "@jupyter-widgets/base",
      "model_module_version": "1.2.0",
      "model_name": "LayoutModel",
      "state": {}
     },
     "0a74887d252a4cb6a9bd34b654f2b1d3": {
      "model_module": "@jupyter-widgets/base",
      "model_module_version": "1.2.0",
      "model_name": "LayoutModel",
      "state": {
       "display": "none",
       "width": "auto"
      }
     },
     "0a7f8c09c5fb4bfc8c7e879922dc63ff": {
      "model_module": "@jupyter-widgets/base",
      "model_module_version": "1.2.0",
      "model_name": "LayoutModel",
      "state": {}
     },
     "0b0c85fe2ab14505a015b3e6717f2986": {
      "model_module": "@jupyter-widgets/base",
      "model_module_version": "1.2.0",
      "model_name": "LayoutModel",
      "state": {}
     },
     "0b226e1a0a8a4f57899c86833731787b": {
      "model_module": "@jupyter-widgets/base",
      "model_module_version": "1.2.0",
      "model_name": "LayoutModel",
      "state": {}
     },
     "0b55a3d8418f409a922f29f8a68ea62d": {
      "model_module": "@jupyter-widgets/base",
      "model_module_version": "1.2.0",
      "model_name": "LayoutModel",
      "state": {
       "grid_area": "dircontent",
       "width": "auto"
      }
     },
     "0b5f6a24003d47f2bf8e99e00011d57f": {
      "model_module": "@jupyter-widgets/controls",
      "model_module_version": "1.5.0",
      "model_name": "SelectMultipleModel",
      "state": {
       "_options_labels": [
        "",
        "Faults_Dikes.fault_splay1",
        "Faults_Dikes.fault_Cliff_Lake",
        "Faults_Dikes.fault_Other_FlinFlon",
        "Faults_Dikes.fault_Club_Lake_splay",
        "Faults_Dikes.fault_Catherine_splay2",
        "Faults_Dikes.fault_Birch_View",
        "Faults_Dikes.fault_Dion_Lake",
        "Faults_Dikes.fault_FlinFlon_splay",
        "Faults_Dikes.fault_West_Mandy_Road",
        "Faults_Dikes.fault_Channing",
        "Faults_Dikes.fault_Ross_Lake",
        "Faults_Dikes.fault_Louis_Hidden",
        "Faults_Dikes.fault_Lake_View_thrust",
        "Faults_Dikes.contact_Schist_Lake",
        "Faults_Dikes.fault_Burley_Lake",
        "Faults_Dikes.fault_Dion_Lake_splay",
        "Faults_Dikes.fault_Green_Lake",
        "Faults_Dikes.fault_FlinFlon",
        "Faults_Dikes.fault_Catherine_splay1",
        "Faults_Dikes.fault_East_Mandy_Road",
        "Faults_Dikes.fault_Other_FlinFlon_South",
        "Faults_Dikes.fault_Catherine_splay4",
        "Faults_Dikes.contact_Stitt_Island",
        "Faults_Dikes.fault_Club_Lake",
        "Faults_Dikes.fault_Tailing_Pond",
        "Horizons.35_Hidden_Reservoir_Hr5",
        "Horizons.29_Hidden_Reservoir_Hr1a",
        "Horizons.60_BlueLagoon_Fb2",
        "Horizons.20_FlinFlon_Undivided_Int_Dykes_D2f",
        "Horizons.04_Boundary_Intrusive_S4h",
        "Horizons.53_Millrock_Rhyolite_Fm4b",
        "Horizons.19_FlinFlon_Undivided_Int_Dykes_D2b",
        "Horizons.18_FlinFlon_Undivided_Int_Dykes_777_D2b",
        "Horizons.06_Phantom_Lake_Intrusive_S3a",
        "Horizons.21_FlinFlon_Undivided_Int_Dykes_D3a",
        "Horizons.43_Millrock_CHLSH_South",
        "Horizons.56_Millrock_Basalt_Fm1ba",
        "Horizons.17_FlinFlon_Undivided_Int_Dykes_D2",
        "Horizons.32_Hidden_Reservoir_Hr1b_SW",
        "Horizons.11_Missi_M3_NE",
        "Horizons.13_Missi_M1",
        "Horizons.07_Annabel_Granitoid_S1",
        "Horizons.45_Millrock_Gabbro_South",
        "Horizons.01_Late_Intrusive_S5b",
        "Horizons.31_Hidden_Reservoir_Hr1c_SW",
        "Horizons.52_Millrock_Rhyolite_Fm4_West_check",
        "Horizons.55_Millrock_Basalt_Fm1bf",
        "Horizons.34_Hidden_Reservoir_Hr2b",
        "Horizons.03_Boundary_Intrusive_S4b",
        "Horizons.42_Millrock_CHLSH_North",
        "Horizons.26_Louis_L3",
        "Horizons.23_FlinFlon_Undivided_Int_Felsic_D4g",
        "Horizons.30_Hidden_Reservoir_Hr1b",
        "Horizons.59_BlueLagoon_Fb3",
        "Horizons.49_Millrock_MVR_Fm5d",
        "Horizons.44_Millrock_Gabbro_North",
        "Horizons.27_Hidden_Carlisle_Hc4",
        "Horizons.22_FlinFlon_Undivided_Int_Felsic_D4e",
        "Horizons.02_Boundary_Intrusive_S4a",
        "Horizons.61_BlueLagoon_Fb1_NW",
        "Horizons.05_Boundary_Intrusive_S4g",
        "Ore.39_Ore_Callinan",
        "Ore.38_Ore_Dan_Owens",
        "Ore.40_Ore_FlinFlon",
        "Workspace.Inversion_VTEM_Model",
        "Workspace.Gravity_Magnetics_drape60m",
        "Workspace.CDI_VTEM_model",
        "Workspace.Data_FEM_pseudo3D",
        "Workspace.geochem",
        "Workspace.Inversion_DIGHEM_Model",
        "Workspace.Topography",
        "Workspace.Data_TEM_pseudo3D",
        "Workspace.Data_ZTEM"
       ],
       "description": "Object:",
       "index": [
        66,
        72
       ],
       "layout": "IPY_MODEL_a7ba76c1aa5e4662be23ec027f861da0",
       "rows": 5,
       "style": "IPY_MODEL_710faa9968cc46cc93365715e1bf5f11"
      }
     },
     "0bb1bd82bb414e3a9326418700a53711": {
      "model_module": "@jupyter-widgets/controls",
      "model_module_version": "1.5.0",
      "model_name": "SelectModel",
      "state": {
       "_options_labels": [
        "..",
        "SimPEG_PFInversion",
        "Temp",
        "FlinFlon.geoh5",
        "Gravity_Magnetics_drape60m_Airborne_Gxx.tif",
        "Gravity_Magnetics_drape60m_Airborne_Gxx_Colorbar.png",
        "Gravity_Magnetics_drape60m_Airborne_Gxx_RGB.txt",
        "MtDore_TMI.geoh5",
        "Octree_Mesh.json",
        "Octree_Mesh.ui.json",
        "Octree_Mesh_v2.json",
        "input.ui.geoh5",
        "input.ui.json",
        "options_tree.json",
        "test_no_root.py",
        "tester.ui.geoh5",
        "tester.ui.json"
       ],
       "index": 3,
       "layout": "IPY_MODEL_b97475c944d6410ab7da28010c07ef17",
       "rows": 8,
       "style": "IPY_MODEL_6ee5aba0a09f4fceb143ce76ed64b1cc"
      }
     },
     "0bbdc9c8f69546bda57dae7f092b9a38": {
      "model_module": "@jupyter-widgets/controls",
      "model_module_version": "1.5.0",
      "model_name": "DescriptionStyleModel",
      "state": {
       "description_width": "initial"
      }
     },
     "0c0283cdf8ee4593a274082832703d30": {
      "model_module": "@jupyter-widgets/base",
      "model_module_version": "1.2.0",
      "model_name": "LayoutModel",
      "state": {}
     },
     "0c4329a277514b7396b129ce493808d8": {
      "model_module": "@jupyter-widgets/controls",
      "model_module_version": "1.5.0",
      "model_name": "ButtonStyleModel",
      "state": {}
     },
     "0c9b0a4a99f04fde812fdd268b53702f": {
      "model_module": "@jupyter-widgets/base",
      "model_module_version": "1.2.0",
      "model_name": "LayoutModel",
      "state": {}
     },
     "0c9ea4a7aedd4f689bfbad02cc5a9687": {
      "model_module": "@jupyter-widgets/base",
      "model_module_version": "1.2.0",
      "model_name": "LayoutModel",
      "state": {
       "display": "none",
       "grid_area": "filename",
       "width": "auto"
      }
     },
     "0ccb0dc640f74836b94fa58fb182172a": {
      "model_module": "@jupyter-widgets/base",
      "model_module_version": "1.2.0",
      "model_name": "LayoutModel",
      "state": {
       "width": "auto"
      }
     },
     "0cede2bdbbf544e29a93fcb4ef947d86": {
      "model_module": "@jupyter-widgets/controls",
      "model_module_version": "1.5.0",
      "model_name": "SelectModel",
      "state": {
       "_options_labels": [
        "..",
        "dask-worker-space",
        "images"
       ],
       "index": null,
       "layout": "IPY_MODEL_428d36e7c5da4b509d530fa23814e629",
       "rows": 8,
       "style": "IPY_MODEL_0265f50d6b994619ad051c8a00f8748f"
      }
     },
     "0d5a04ddf65549a9bbe7b064e189fdac": {
      "model_module": "@jupyter-widgets/controls",
      "model_module_version": "1.5.0",
      "model_name": "VBoxModel",
      "state": {
       "children": [
        "IPY_MODEL_9341a193ec0c49ad968700f05e3d2a91",
        "IPY_MODEL_01a5135d5f354f118bed9bc99659f83e"
       ],
       "layout": "IPY_MODEL_1b0f6f3594e34738aad3587701ef2a6b"
      }
     },
     "0d6ae0e55f924192b43fd094efbf1eb2": {
      "model_module": "@jupyter-widgets/base",
      "model_module_version": "1.2.0",
      "model_name": "LayoutModel",
      "state": {
       "width": "auto"
      }
     },
     "0da29c5f59fd4f7588268f7353f5b10d": {
      "model_module": "@jupyter-widgets/controls",
      "model_module_version": "1.5.0",
      "model_name": "DescriptionStyleModel",
      "state": {
       "description_width": ""
      }
     },
     "0dff440a122b43188e94addf6d8f314a": {
      "model_module": "@jupyter-widgets/controls",
      "model_module_version": "1.5.0",
      "model_name": "DescriptionStyleModel",
      "state": {
       "description_width": "initial"
      }
     },
     "0e060ec2f90945d29593d11972a0b76d": {
      "model_module": "@jupyter-widgets/controls",
      "model_module_version": "1.5.0",
      "model_name": "DescriptionStyleModel",
      "state": {
       "description_width": ""
      }
     },
     "0e6c4aff9a9140e9bf4317ebeda401ef": {
      "model_module": "@jupyter-widgets/controls",
      "model_module_version": "1.5.0",
      "model_name": "DescriptionStyleModel",
      "state": {
       "description_width": ""
      }
     },
     "0e7a4773c1174aef823bb30a025a0279": {
      "model_module": "@jupyter-widgets/base",
      "model_module_version": "1.2.0",
      "model_name": "LayoutModel",
      "state": {
       "display": "none",
       "width": "auto"
      }
     },
     "0e9fe3c087f4496d88694a63c88dd540": {
      "model_module": "@jupyter-widgets/controls",
      "model_module_version": "1.5.0",
      "model_name": "DescriptionStyleModel",
      "state": {
       "description_width": ""
      }
     },
     "0ed3a6baf7b5488da55f0d416f7f0b68": {
      "model_module": "@jupyter-widgets/controls",
      "model_module_version": "1.5.0",
      "model_name": "ButtonStyleModel",
      "state": {}
     },
     "0ef3f533b50d4e8bb27cafd0265ed6fc": {
      "model_module": "@jupyter-widgets/base",
      "model_module_version": "1.2.0",
      "model_name": "LayoutModel",
      "state": {
       "display": "none",
       "grid_gap": "0px 0px",
       "grid_template_areas": "\n                    'pathlist filename'\n                    'dircontent dircontent'\n                    ",
       "grid_template_columns": "60% 40%",
       "grid_template_rows": "auto auto",
       "width": "500px"
      }
     },
     "0efc0e0a04d94b6d8bdbec20f7dc487a": {
      "model_module": "@jupyter-widgets/controls",
      "model_module_version": "1.5.0",
      "model_name": "DescriptionStyleModel",
      "state": {
       "description_width": "initial"
      }
     },
     "0f3674c0c3e249dba8f6e80ec6844de5": {
      "model_module": "@jupyter-widgets/controls",
      "model_module_version": "1.5.0",
      "model_name": "ButtonModel",
      "state": {
       "description": "Cancel",
       "layout": "IPY_MODEL_fdba49382fb7487f910753513cbcd985",
       "style": "IPY_MODEL_03e412dc85624799a2f85486d9a6c004"
      }
     },
     "0f962899c32a40a6abeeb89854f318c9": {
      "model_module": "@jupyter-widgets/base",
      "model_module_version": "1.2.0",
      "model_name": "LayoutModel",
      "state": {
       "width": "auto"
      }
     },
     "0fbca0ae5ebb49be840c29ec3f3180e5": {
      "model_module": "@jupyter-widgets/controls",
      "model_module_version": "1.5.0",
      "model_name": "HBoxModel",
      "state": {
       "children": [
        "IPY_MODEL_58fe515821e8429094212164b79c1c44",
        "IPY_MODEL_a7d306c968ac4dc2a1c99c8ef5b6617c"
       ],
       "layout": "IPY_MODEL_7551340c2675410dab4fdb39cce02d7a"
      }
     },
     "103c183e72644f6b8b695fc663c0d62b": {
      "model_module": "@jupyter-widgets/base",
      "model_module_version": "1.2.0",
      "model_name": "LayoutModel",
      "state": {
       "grid_area": "dircontent",
       "width": "auto"
      }
     },
     "10415e880b094df891f70427364e0ae4": {
      "model_module": "@jupyter-widgets/controls",
      "model_module_version": "1.5.0",
      "model_name": "TextModel",
      "state": {
       "disabled": true,
       "layout": "IPY_MODEL_0c9ea4a7aedd4f689bfbad02cc5a9687",
       "placeholder": "output filename",
       "style": "IPY_MODEL_7ec3ddde208246b6bcd71ba99c2a6472"
      }
     },
     "10c3d16bb2a445c8959e65ee4c466117": {
      "model_module": "@jupyter-widgets/controls",
      "model_module_version": "1.5.0",
      "model_name": "ButtonStyleModel",
      "state": {}
     },
     "11167b82f6df4b049cd112ee6b057e23": {
      "model_module": "@jupyter-widgets/base",
      "model_module_version": "1.2.0",
      "model_name": "LayoutModel",
      "state": {
       "width": "auto"
      }
     },
     "115ba64845094ffba7106f3f4c87809e": {
      "model_module": "@jupyter-widgets/controls",
      "model_module_version": "1.5.0",
      "model_name": "VBoxModel",
      "state": {
       "children": [
        "IPY_MODEL_27d164fdb72e4806a10b4ef0b5c1ded7",
        "IPY_MODEL_647e7ccd10c44d6888fc7ef8990a7a8d",
        "IPY_MODEL_c80bcc21ba874cb480f64735adfad1b1"
       ],
       "layout": "IPY_MODEL_a6cd1d8786664e179ec86ed60ab00ff9"
      }
     },
     "124de06dc39641a3a37ee35d3f1791d8": {
      "model_module": "@jupyter-widgets/controls",
      "model_module_version": "1.5.0",
      "model_name": "HTMLModel",
      "state": {
       "layout": "IPY_MODEL_1e7d15411b0f4bbaaea2424b7616b5b3",
       "placeholder": "",
       "style": "IPY_MODEL_2e6829b5526d4f83916de2014faea20e",
       "value": "<span style=\"margin-left:10px; color:black;\">No file selected</span>"
      }
     },
     "1264f7d93fdf41a29332a72a84fd0cc2": {
      "model_module": "@jupyter-widgets/controls",
      "model_module_version": "1.5.0",
      "model_name": "SelectModel",
      "state": {
       "_options_labels": [
        "..",
        "dask-worker-space",
        "images"
       ],
       "index": null,
       "layout": "IPY_MODEL_c9b4308e3b044a2da83dd11bf879552b",
       "rows": 8,
       "style": "IPY_MODEL_abe8980c8421449e9b775b9b8aef4cae"
      }
     },
     "129863e2e20a40c1b39e3b986307b43f": {
      "model_module": "@jupyter-widgets/controls",
      "model_module_version": "1.5.0",
      "model_name": "DescriptionStyleModel",
      "state": {
       "description_width": ""
      }
     },
     "129dfc4164de47c794046a3c9d720e83": {
      "model_module": "@jupyter-widgets/base",
      "model_module_version": "1.2.0",
      "model_name": "LayoutModel",
      "state": {}
     },
     "12cfb925f1614238bc8a79ca5c50f259": {
      "model_module": "@jupyter-widgets/controls",
      "model_module_version": "1.5.0",
      "model_name": "ButtonStyleModel",
      "state": {}
     },
     "12cfc0185f594b6885abd14c34e36c1f": {
      "model_module": "@jupyter-widgets/controls",
      "model_module_version": "1.5.0",
      "model_name": "VBoxModel",
      "state": {
       "children": [
        "IPY_MODEL_18c43712fda24023a0f3e233b44927f0",
        "IPY_MODEL_77a29b398e5545fb94ac410e08f962ab"
       ],
       "layout": "IPY_MODEL_1d52705075154e6fa5c9ae32dedab498"
      }
     },
     "12d2c75c48c64d049b7092edfd519388": {
      "model_module": "@jupyter-widgets/base",
      "model_module_version": "1.2.0",
      "model_name": "LayoutModel",
      "state": {}
     },
     "12f75441fa504c8b9010387046644e7b": {
      "model_module": "@jupyter-widgets/base",
      "model_module_version": "1.2.0",
      "model_name": "LayoutModel",
      "state": {
       "display": "none",
       "grid_gap": "0px 0px",
       "grid_template_areas": "\n                    'pathlist pathlist'\n                    'dircontent dircontent'\n                    ",
       "grid_template_columns": "60% 40%",
       "grid_template_rows": "auto auto",
       "width": "auto"
      }
     },
     "12f9612cc8584fd8b72b45e872b0d4d2": {
      "model_module": "@jupyter-widgets/controls",
      "model_module_version": "1.5.0",
      "model_name": "ButtonModel",
      "state": {
       "button_style": "danger",
       "description": "Compute",
       "icon": "check",
       "layout": "IPY_MODEL_1eab0480a94e43e194f4e7bfeac8db71",
       "style": "IPY_MODEL_ff6d8bf19118482c95072ba1652a3455",
       "tooltip": "Run computation"
      }
     },
     "132fc63c0ccd45ec8ed50d95a1d19b56": {
      "model_module": "@jupyter-widgets/base",
      "model_module_version": "1.2.0",
      "model_name": "LayoutModel",
      "state": {}
     },
     "13320ab9bb2a4318b8f2ae697621cce2": {
      "model_module": "@jupyter-widgets/base",
      "model_module_version": "1.2.0",
      "model_name": "LayoutModel",
      "state": {}
     },
     "134b8e1ff25640a7a8bc86cf1b7cdc8b": {
      "model_module": "@jupyter-widgets/base",
      "model_module_version": "1.2.0",
      "model_name": "LayoutModel",
      "state": {}
     },
     "135a468d0de04c209431f6562e4d29a1": {
      "model_module": "@jupyter-widgets/controls",
      "model_module_version": "1.5.0",
      "model_name": "DescriptionStyleModel",
      "state": {
       "description_width": ""
      }
     },
     "13d0de1ca91b4288b385523fc19dc374": {
      "model_module": "@jupyter-widgets/controls",
      "model_module_version": "1.5.0",
      "model_name": "HBoxModel",
      "state": {
       "children": [
        "IPY_MODEL_b6a16fe2ff694d69a2e55c66dd754126",
        "IPY_MODEL_49d352345d1e4c55b4ec3f0355cad398"
       ],
       "layout": "IPY_MODEL_ac65abf156f4406887ff1eea2ab30b16"
      }
     },
     "13f78187bade402885ff7df22487ae7f": {
      "model_module": "@jupyter-widgets/controls",
      "model_module_version": "1.5.0",
      "model_name": "HBoxModel",
      "state": {
       "children": [
        "IPY_MODEL_fbd91d7b3a5546f881a078c40f349c41",
        "IPY_MODEL_47e12f11f4ce4a97a1fe3b5e0e6da2b9"
       ],
       "layout": "IPY_MODEL_e46d060c52bd47cd86f1bd0592936afd"
      }
     },
     "1442105fa18349bcb6735efe212b9690": {
      "model_module": "@jupyter-widgets/base",
      "model_module_version": "1.2.0",
      "model_name": "LayoutModel",
      "state": {
       "display": "none",
       "grid_gap": "0px 0px",
       "grid_template_areas": "\n                    'pathlist filename'\n                    'dircontent dircontent'\n                    ",
       "grid_template_columns": "60% 40%",
       "grid_template_rows": "auto auto",
       "width": "500px"
      }
     },
     "148c06f07f9b40da9f0e6301680c0d69": {
      "model_module": "@jupyter-widgets/controls",
      "model_module_version": "1.5.0",
      "model_name": "TextModel",
      "state": {
       "disabled": true,
       "layout": "IPY_MODEL_ef4d658ec7fe45b584fc637ef531742a",
       "placeholder": "output filename",
       "style": "IPY_MODEL_8bef621d5c80438f9c5fe2346fc1d1da"
      }
     },
     "157570067f124be4a496224301ed36fa": {
      "model_module": "@jupyter-widgets/controls",
      "model_module_version": "1.5.0",
      "model_name": "DescriptionStyleModel",
      "state": {
       "description_width": "initial"
      }
     },
     "15a223cf09ee4e1585de2bcf750f8f55": {
      "model_module": "@jupyter-widgets/controls",
      "model_module_version": "1.5.0",
      "model_name": "HTMLModel",
      "state": {
       "layout": "IPY_MODEL_5c9d5b33950b48e4bc8d0aabe2b4b877",
       "style": "IPY_MODEL_7f14bb9c1f714ba3bb4ea694c8083757"
      }
     },
     "16003f6dfc8d410d80db8c1255a69ff4": {
      "model_module": "@jupyter-widgets/controls",
      "model_module_version": "1.5.0",
      "model_name": "SelectModel",
      "state": {
       "_options_labels": [
        "..",
        "SimPEG_PFInversion",
        "Temp",
        "FlinFlon.geoh5",
        "Gravity_Magnetics_drape60m_Airborne_Gxx.tif",
        "Gravity_Magnetics_drape60m_Airborne_Gxx_Colorbar.png",
        "Gravity_Magnetics_drape60m_Airborne_Gxx_RGB.txt",
        "MtDore_TMI.geoh5",
        "Octree_Mesh.json",
        "Octree_Mesh.ui.json",
        "Octree_Mesh_v2.json",
        "input.ui.geoh5",
        "input.ui.json",
        "options_tree.json",
        "test_no_root.py",
        "tester.ui.geoh5",
        "tester.ui.json"
       ],
       "index": 3,
       "layout": "IPY_MODEL_e98571483afa4a6390d9cf3b21254e07",
       "rows": 8,
       "style": "IPY_MODEL_aad239059da4455893440e70fbbbaa9b"
      }
     },
     "1603729fe79548a385164eba6d9038c0": {
      "model_module": "@jupyter-widgets/base",
      "model_module_version": "1.2.0",
      "model_name": "LayoutModel",
      "state": {}
     },
     "16359906cc4546228c736ed7a8452b69": {
      "model_module": "@jupyter-widgets/base",
      "model_module_version": "1.2.0",
      "model_name": "LayoutModel",
      "state": {
       "display": "none",
       "grid_gap": "0px 0px",
       "grid_template_areas": "\n                    'pathlist filename'\n                    'dircontent dircontent'\n                    ",
       "grid_template_columns": "60% 40%",
       "grid_template_rows": "auto auto",
       "width": "500px"
      }
     },
     "16921956821f418ca642e24a7256a574": {
      "model_module": "@jupyter-widgets/controls",
      "model_module_version": "1.5.0",
      "model_name": "ButtonStyleModel",
      "state": {}
     },
     "16f684a21666491e936b73c7a9911e1e": {
      "model_module": "@jupyter-widgets/controls",
      "model_module_version": "1.5.0",
      "model_name": "DescriptionStyleModel",
      "state": {
       "description_width": ""
      }
     },
     "1707425ffae142a6b63dfb29db1df4f5": {
      "model_module": "@jupyter-widgets/controls",
      "model_module_version": "1.5.0",
      "model_name": "TextModel",
      "state": {
       "disabled": true,
       "layout": "IPY_MODEL_c5050e958aab4425aa40c2612ef9c70c",
       "placeholder": "output filename",
       "style": "IPY_MODEL_d581ed03b2944b8f95c28dfa20cb6d62"
      }
     },
     "174e92528bb94c038082c8b42f2e9d0a": {
      "model_module": "@jupyter-widgets/controls",
      "model_module_version": "1.5.0",
      "model_name": "ButtonStyleModel",
      "state": {}
     },
     "1762a1c9262e44d5b21ccd3f96d0ce9c": {
      "model_module": "@jupyter-widgets/controls",
      "model_module_version": "1.5.0",
      "model_name": "DescriptionStyleModel",
      "state": {
       "description_width": ""
      }
     },
     "1773fa69d622413a81341d6d19d15182": {
      "model_module": "@jupyter-widgets/base",
      "model_module_version": "1.2.0",
      "model_name": "LayoutModel",
      "state": {
       "display": "none",
       "grid_gap": "0px 0px",
       "grid_template_areas": "\n                    'pathlist filename'\n                    'dircontent dircontent'\n                    ",
       "grid_template_columns": "60% 40%",
       "grid_template_rows": "auto auto",
       "width": "500px"
      }
     },
     "17a6d3cc3f97415ca0e9621e1e7862fe": {
      "model_module": "@jupyter-widgets/controls",
      "model_module_version": "1.5.0",
      "model_name": "HBoxModel",
      "state": {
       "children": [
        "IPY_MODEL_b0e1a2a9d7414ac7a3ed80b64802aac2",
        "IPY_MODEL_05652551ac7b463e98695b316b1400dc"
       ],
       "layout": "IPY_MODEL_ccdc331a89ce42a18898fe00c908037b"
      }
     },
     "17ac36700a2b40d080efb1cb250ec9e8": {
      "model_module": "@jupyter-widgets/base",
      "model_module_version": "1.2.0",
      "model_name": "LayoutModel",
      "state": {
       "display": "none",
       "grid_gap": "0px 0px",
       "grid_template_areas": "\n                    'pathlist pathlist'\n                    'dircontent dircontent'\n                    ",
       "grid_template_columns": "60% 40%",
       "grid_template_rows": "auto auto",
       "width": "500px"
      }
     },
     "180382b2ea024758a508c601fafeb38e": {
      "model_module": "@jupyter-widgets/base",
      "model_module_version": "1.2.0",
      "model_name": "LayoutModel",
      "state": {
       "grid_area": "filename",
       "width": "auto"
      }
     },
     "18136e4c4ef74ed8bcff2bb0119c3e8e": {
      "model_module": "@jupyter-widgets/base",
      "model_module_version": "1.2.0",
      "model_name": "LayoutModel",
      "state": {}
     },
     "185923ec32864aa5910eabafe27014a6": {
      "model_module": "@jupyter-widgets/base",
      "model_module_version": "1.2.0",
      "model_name": "LayoutModel",
      "state": {}
     },
     "18750b3b0c57465482fd04cf83fc4c14": {
      "model_module": "@jupyter-widgets/base",
      "model_module_version": "1.2.0",
      "model_name": "LayoutModel",
      "state": {}
     },
     "18871eb40b9545a2966f67249884b2c2": {
      "model_module": "@jupyter-widgets/controls",
      "model_module_version": "1.5.0",
      "model_name": "DescriptionStyleModel",
      "state": {
       "description_width": "initial"
      }
     },
     "1887cebc9e67429a8df99a65ed9254ba": {
      "model_module": "@jupyter-widgets/controls",
      "model_module_version": "1.5.0",
      "model_name": "HTMLModel",
      "state": {
       "layout": "IPY_MODEL_fe4742ae3191426faec09c6cd779327c",
       "style": "IPY_MODEL_928cdded75f34903a30d96f7b63e33fc"
      }
     },
     "18c0320003de49d6a2fcb0834a5a615d": {
      "model_module": "@jupyter-widgets/controls",
      "model_module_version": "1.5.0",
      "model_name": "ButtonModel",
      "state": {
       "description": "Cancel",
       "layout": "IPY_MODEL_fc7da9631e5746c988c4e5526ae56e17",
       "style": "IPY_MODEL_16921956821f418ca642e24a7256a574"
      }
     },
     "18c43712fda24023a0f3e233b44927f0": {
      "model_module": "@jupyter-widgets/controls",
      "model_module_version": "1.5.0",
      "model_name": "LabelModel",
      "state": {
       "layout": "IPY_MODEL_e82d3d934aa34643a014f601c7ecbfd8",
       "style": "IPY_MODEL_49c28dd3d277453fbdc7f599719f6983",
       "value": "Monitoring folder"
      }
     },
     "18ca952e21724904909ed0ee23941922": {
      "model_module": "@jupyter-widgets/base",
      "model_module_version": "1.2.0",
      "model_name": "LayoutModel",
      "state": {}
     },
     "18ea4c111137468caf63365f7b2144f4": {
      "model_module": "@jupyter-widgets/controls",
      "model_module_version": "1.5.0",
      "model_name": "DescriptionStyleModel",
      "state": {
       "description_width": ""
      }
     },
     "18f1acd715ca4334a0a8ed07309b2757": {
      "model_module": "@jupyter-widgets/base",
      "model_module_version": "1.2.0",
      "model_name": "LayoutModel",
      "state": {}
     },
     "19841dd5be8f454f9de0dc79c02128be": {
      "model_module": "@jupyter-widgets/controls",
      "model_module_version": "1.5.0",
      "model_name": "DescriptionStyleModel",
      "state": {
       "description_width": ""
      }
     },
     "1987fd18ab8f4828a5163f9b35a70764": {
      "model_module": "@jupyter-widgets/base",
      "model_module_version": "1.2.0",
      "model_name": "LayoutModel",
      "state": {}
     },
     "19b2014bb30e4227b70569911cd943b4": {
      "model_module": "@jupyter-widgets/controls",
      "model_module_version": "1.5.0",
      "model_name": "DescriptionStyleModel",
      "state": {
       "description_width": ""
      }
     },
     "1a4aad2da6d44535b431feb9f232b4b3": {
      "model_module": "@jupyter-widgets/base",
      "model_module_version": "1.2.0",
      "model_name": "LayoutModel",
      "state": {
       "width": "auto"
      }
     },
     "1a4cd139db92401cb4b7e61452897f3b": {
      "model_module": "@jupyter-widgets/controls",
      "model_module_version": "1.5.0",
      "model_name": "TextModel",
      "state": {
       "continuous_update": false,
       "description": "Output Projection:",
       "layout": "IPY_MODEL_e9ddc143b7264f2a95d1cb1f290b84ea",
       "style": "IPY_MODEL_c08798a803d34526bd3df0d297ea68f4",
       "value": "EPSG:4326"
      }
     },
     "1a5af0ad843b4a50a184205ecbd24f07": {
      "model_module": "@jupyter-widgets/base",
      "model_module_version": "1.2.0",
      "model_name": "LayoutModel",
      "state": {
       "display": "none",
       "width": "auto"
      }
     },
     "1a6738f4264d4176ac2d1222b97a249d": {
      "model_module": "@jupyter-widgets/base",
      "model_module_version": "1.2.0",
      "model_name": "LayoutModel",
      "state": {}
     },
     "1aaa6c5f92db4bd9bdf62750d78a4c60": {
      "model_module": "@jupyter-widgets/controls",
      "model_module_version": "1.5.0",
      "model_name": "DescriptionStyleModel",
      "state": {
       "description_width": ""
      }
     },
     "1aad04c1724c4e9f963b1fae64a1d78a": {
      "model_module": "@jupyter-widgets/controls",
      "model_module_version": "1.5.0",
      "model_name": "VBoxModel",
      "state": {
       "children": [
        "IPY_MODEL_4bc367e8ab6b4893a70db804fc300f0c",
        "IPY_MODEL_99b75300fe8b4d1b8068c7908a9761e3",
        "IPY_MODEL_e3b10af1cace4b9f8c18fb3cdf1d9077"
       ],
       "layout": "IPY_MODEL_2e1cc521f956412f857f4af496b9fa2d"
      }
     },
     "1b0f6f3594e34738aad3587701ef2a6b": {
      "model_module": "@jupyter-widgets/base",
      "model_module_version": "1.2.0",
      "model_name": "LayoutModel",
      "state": {}
     },
     "1b11041c15464380b711ae5058a88bbe": {
      "model_module": "@jupyter-widgets/controls",
      "model_module_version": "1.5.0",
      "model_name": "DescriptionStyleModel",
      "state": {
       "description_width": ""
      }
     },
     "1b126143f3c04c4491b50fdead0fdf8b": {
      "model_module": "@jupyter-widgets/controls",
      "model_module_version": "1.5.0",
      "model_name": "TextModel",
      "state": {
       "layout": "IPY_MODEL_d21a0cb67adb4db9911580ed58ede868",
       "placeholder": "output filename",
       "style": "IPY_MODEL_96529a7642b34b6695b9f4e45aaa22e3",
       "value": "FlinFlon.geoh5"
      }
     },
     "1b283bde5b36461ebc6318bcb8444de2": {
      "model_module": "@jupyter-widgets/controls",
      "model_module_version": "1.5.0",
      "model_name": "SelectModel",
      "state": {
       "_options_labels": [
        "..",
        "Temp",
        "FlinFlon.geoh5",
        "Inversion_.json",
        "MtDore_TMI.geoh5"
       ],
       "index": 2,
       "layout": "IPY_MODEL_8f136b27bb074ed4a9489a25c1abf21d",
       "rows": 8,
       "style": "IPY_MODEL_e422060b27894eb69673388165adcb41"
      }
     },
     "1b45c415f9414d80b3f1bda4dbb6d5fb": {
      "model_module": "@jupyter-widgets/controls",
      "model_module_version": "1.5.0",
      "model_name": "VBoxModel",
      "state": {
       "children": [
        "IPY_MODEL_32e24056fe71446090e840bfd2ef7a1b",
        "IPY_MODEL_6c7d30cc381b4a22a80417cd36683b16",
        "IPY_MODEL_6d14d627649d4db9a602cecfa1088cbf"
       ],
       "layout": "IPY_MODEL_78d0c1e51fcd4074b945a0c307e8b0b2"
      }
     },
     "1b69d6226fae494cabae48b8ea989fca": {
      "model_module": "@jupyter-widgets/controls",
      "model_module_version": "1.5.0",
      "model_name": "CheckboxModel",
      "state": {
       "description": "Geoscience ANALYST Pro - Live link",
       "disabled": false,
       "indent": false,
       "layout": "IPY_MODEL_2e33fb1b039a4bb383dcd79556f0f46d",
       "style": "IPY_MODEL_4e819ba0e6e34b7f8613b1bd94e0556e",
       "value": false
      }
     },
     "1ba8399cf67f4e35940125c33f83b485": {
      "model_module": "@jupyter-widgets/base",
      "model_module_version": "1.2.0",
      "model_name": "LayoutModel",
      "state": {
       "grid_area": "filename",
       "width": "auto"
      }
     },
     "1bbbdc88415b41349a6ce51d474cdd86": {
      "model_module": "@jupyter-widgets/base",
      "model_module_version": "1.2.0",
      "model_name": "LayoutModel",
      "state": {
       "display": "none",
       "grid_gap": "0px 0px",
       "grid_template_areas": "\n                    'pathlist filename'\n                    'dircontent dircontent'\n                    ",
       "grid_template_columns": "60% 40%",
       "grid_template_rows": "auto auto",
       "width": "500px"
      }
     },
     "1c41266b462b41c38d814382e11566be": {
      "model_module": "@jupyter-widgets/controls",
      "model_module_version": "1.5.0",
      "model_name": "DescriptionStyleModel",
      "state": {
       "description_width": "initial"
      }
     },
     "1cab142bb15140a499bcff6f619d033d": {
      "model_module": "@jupyter-widgets/controls",
      "model_module_version": "1.5.0",
      "model_name": "DescriptionStyleModel",
      "state": {
       "description_width": "initial"
      }
     },
     "1cd588adc7244255b0d45279bc96ffc2": {
      "model_module": "@jupyter-widgets/base",
      "model_module_version": "1.2.0",
      "model_name": "LayoutModel",
      "state": {}
     },
     "1cdefef240da404bbb08c495c74ac357": {
      "model_module": "@jupyter-widgets/controls",
      "model_module_version": "1.5.0",
      "model_name": "DropdownModel",
      "state": {
       "_options_labels": [
        "C:\\Users\\dominiquef\\Documents\\GIT\\mira\\geoapps\\assets",
        "C:\\Users\\dominiquef\\Documents\\GIT\\mira\\geoapps",
        "C:\\Users\\dominiquef\\Documents\\GIT\\mira",
        "C:\\Users\\dominiquef\\Documents\\GIT",
        "C:\\Users\\dominiquef\\Documents",
        "C:\\Users\\dominiquef",
        "C:\\Users",
        "C:\\",
        "D:\\",
        "Z:\\"
       ],
       "index": 0,
       "layout": "IPY_MODEL_7769d4b284cb4a8f94c86e05b0993fba",
       "style": "IPY_MODEL_3670c229d17147d581b4e0d3a4a8b1ca"
      }
     },
     "1cfdce67e7874437b04c46fe0b99880c": {
      "model_module": "@jupyter-widgets/base",
      "model_module_version": "1.2.0",
      "model_name": "LayoutModel",
      "state": {}
     },
     "1d1be084be944054adee23f1d41ad6ef": {
      "model_module": "@jupyter-widgets/controls",
      "model_module_version": "1.5.0",
      "model_name": "HBoxModel",
      "state": {
       "children": [
        "IPY_MODEL_83f7ff63112548eabea1981580317db6",
        "IPY_MODEL_e207f9f36e5e4999ac11b3c4870a17fc",
        "IPY_MODEL_684a330993b34c55a3f7fdfde912c27a"
       ],
       "layout": "IPY_MODEL_a112f710334d4e8cae157c0c5ef7038c"
      }
     },
     "1d22a22c9dd2469aa705034d7413e744": {
      "model_module": "@jupyter-widgets/base",
      "model_module_version": "1.2.0",
      "model_name": "LayoutModel",
      "state": {
       "grid_area": "pathlist",
       "width": "auto"
      }
     },
     "1d52705075154e6fa5c9ae32dedab498": {
      "model_module": "@jupyter-widgets/base",
      "model_module_version": "1.2.0",
      "model_name": "LayoutModel",
      "state": {}
     },
     "1db557e6496c45ce97ff2cc265e6d00c": {
      "model_module": "@jupyter-widgets/controls",
      "model_module_version": "1.5.0",
      "model_name": "VBoxModel",
      "state": {
       "children": [
        "IPY_MODEL_55b43df6f8cd452f88652affaaf4ec67",
        "IPY_MODEL_8e422d3e60e54845aac8bd87511c4054"
       ],
       "layout": "IPY_MODEL_7989edbea8274e499fdac21c7017a508"
      }
     },
     "1e154dc165b34496baf07afa4dfbdf9a": {
      "model_module": "@jupyter-widgets/controls",
      "model_module_version": "1.5.0",
      "model_name": "GridBoxModel",
      "state": {
       "children": [
        "IPY_MODEL_83922ca7e9c741958a432c559a6be1cb",
        "IPY_MODEL_7defd7ae7d46436885c3d11d70a3efd4",
        "IPY_MODEL_0cede2bdbbf544e29a93fcb4ef947d86"
       ],
       "layout": "IPY_MODEL_8ec338e3579c44a0a267a1ecfcd3ca24"
      }
     },
     "1e4fcdabc4244cebbb36bc4a283b0924": {
      "model_module": "@jupyter-widgets/controls",
      "model_module_version": "1.5.0",
      "model_name": "TextModel",
      "state": {
       "continuous_update": false,
       "description": "Group:",
       "layout": "IPY_MODEL_fbd92ee6f996455b97c370c7ae294ade",
       "style": "IPY_MODEL_707652c855a4441e873aad675ed35aa5",
       "value": "CoordinateTransformation"
      }
     },
     "1e7d15411b0f4bbaaea2424b7616b5b3": {
      "model_module": "@jupyter-widgets/base",
      "model_module_version": "1.2.0",
      "model_name": "LayoutModel",
      "state": {}
     },
     "1e95f78bcc9e4a3888b755e7c3fd2fa8": {
      "model_module": "@jupyter-widgets/controls",
      "model_module_version": "1.5.0",
      "model_name": "ButtonModel",
      "state": {
       "description": "Cancel",
       "layout": "IPY_MODEL_7fb749a10e064d9ea5d852c8264348af",
       "style": "IPY_MODEL_4f207c91fc7947639a6a93653145121b"
      }
     },
     "1eab0480a94e43e194f4e7bfeac8db71": {
      "model_module": "@jupyter-widgets/base",
      "model_module_version": "1.2.0",
      "model_name": "LayoutModel",
      "state": {}
     },
     "1ed96fc35c4e429a885c7569bbf3de43": {
      "model_module": "@jupyter-widgets/controls",
      "model_module_version": "1.5.0",
      "model_name": "TextModel",
      "state": {
       "layout": "IPY_MODEL_180382b2ea024758a508c601fafeb38e",
       "placeholder": "output filename",
       "style": "IPY_MODEL_61b1f6e0d8a7485bb25e85eb4792252d",
       "value": "FlinFlon.geoh5"
      }
     },
     "1edf9058ed4b4b788f3fc56a27e7d51f": {
      "model_module": "@jupyter-widgets/controls",
      "model_module_version": "1.5.0",
      "model_name": "HBoxModel",
      "state": {
       "children": [
        "IPY_MODEL_1a4cd139db92401cb4b7e61452897f3b",
        "IPY_MODEL_5596e47523ee420984f446d2c63eaade"
       ],
       "layout": "IPY_MODEL_c663573246b94dfa8235d2ad3ee2c75c"
      }
     },
     "1f35543576024684bdfb34f9f263b73f": {
      "model_module": "@jupyter-widgets/base",
      "model_module_version": "1.2.0",
      "model_name": "LayoutModel",
      "state": {
       "display": "none",
       "min_width": "6em",
       "width": "6em"
      }
     },
     "1f59f3445dce4045a52d6026ecc89730": {
      "model_module": "@jupyter-widgets/controls",
      "model_module_version": "1.5.0",
      "model_name": "DescriptionStyleModel",
      "state": {
       "description_width": ""
      }
     },
     "1f5bfd40b1ff42eca999e4cb60ce29d0": {
      "model_module": "@jupyter-widgets/controls",
      "model_module_version": "1.5.0",
      "model_name": "ButtonStyleModel",
      "state": {}
     },
     "1f7eafb4e54e4c22b4fd97ba87565405": {
      "model_module": "@jupyter-widgets/base",
      "model_module_version": "1.2.0",
      "model_name": "LayoutModel",
      "state": {}
     },
     "1f82535302284f6da3999cc1025e5119": {
      "model_module": "@jupyter-widgets/base",
      "model_module_version": "1.2.0",
      "model_name": "LayoutModel",
      "state": {
       "display": "none",
       "grid_area": "filename",
       "width": "auto"
      }
     },
     "1f8800249db04f168edaa0d6e5e2a6d5": {
      "model_module": "@jupyter-widgets/base",
      "model_module_version": "1.2.0",
      "model_name": "LayoutModel",
      "state": {}
     },
     "1fc1ffff577f4c65ae5132ebd4a4b7f7": {
      "model_module": "@jupyter-widgets/base",
      "model_module_version": "1.2.0",
      "model_name": "LayoutModel",
      "state": {}
     },
     "1ffdbe60299e4359840dfef027d4fe65": {
      "model_module": "@jupyter-widgets/controls",
      "model_module_version": "1.5.0",
      "model_name": "DescriptionStyleModel",
      "state": {
       "description_width": "initial"
      }
     },
     "2028b56caa814f418cd83e8900875f08": {
      "model_module": "@jupyter-widgets/controls",
      "model_module_version": "1.5.0",
      "model_name": "LabelModel",
      "state": {
       "layout": "IPY_MODEL_2820d872d0f240758ee253f61e02fd54",
       "style": "IPY_MODEL_665550e23e45415290b42fa75859d5b3",
       "value": "Monitoring folder"
      }
     },
     "203c6a1b2f0148049399d892c5a76b8b": {
      "model_module": "@jupyter-widgets/controls",
      "model_module_version": "1.5.0",
      "model_name": "VBoxModel",
      "state": {
       "children": [
        "IPY_MODEL_529ae60b74674e74bd468873d8abc025",
        "IPY_MODEL_3acb2046bf3340b89295278abc71c7e6"
       ],
       "layout": "IPY_MODEL_797775027d234552bec5fb7a27f1464f"
      }
     },
     "203f12060a7a4e749fdf60cd0d45bdb2": {
      "model_module": "@jupyter-widgets/controls",
      "model_module_version": "1.5.0",
      "model_name": "ToggleButtonModel",
      "state": {
       "layout": "IPY_MODEL_c746042fd1c445b89ac4e919bed1ab22",
       "style": "IPY_MODEL_578a17da8f244cb8978101411baf3352"
      }
     },
     "204e36abcae64270b2afb835be3524bb": {
      "model_module": "@jupyter-widgets/controls",
      "model_module_version": "1.5.0",
      "model_name": "DescriptionStyleModel",
      "state": {
       "description_width": ""
      }
     },
     "208aac2c683e47bd8183690560508b44": {
      "model_module": "@jupyter-widgets/controls",
      "model_module_version": "1.5.0",
      "model_name": "DescriptionStyleModel",
      "state": {
       "description_width": "initial"
      }
     },
     "20f433a1fe00480594808f7041ab4c24": {
      "model_module": "@jupyter-widgets/controls",
      "model_module_version": "1.5.0",
      "model_name": "SelectModel",
      "state": {
       "_options_labels": [
        "..",
        "Temp",
        "FlinFlon.geoh5",
        "Inversion_.json",
        "MtDore_TMI.geoh5"
       ],
       "index": 2,
       "layout": "IPY_MODEL_9b22a086fc3f46f388fc7079528807f2",
       "rows": 8,
       "style": "IPY_MODEL_0e6c4aff9a9140e9bf4317ebeda401ef"
      }
     },
     "21036f852cb54117b91db3e380d30ccc": {
      "model_module": "@jupyter-widgets/base",
      "model_module_version": "1.2.0",
      "model_name": "LayoutModel",
      "state": {
       "width": "auto"
      }
     },
     "21058900b090449a882fe48ceda1ac6c": {
      "model_module": "@jupyter-widgets/base",
      "model_module_version": "1.2.0",
      "model_name": "LayoutModel",
      "state": {}
     },
     "215cd417a3684033afd14f1a5b5a8468": {
      "model_module": "@jupyter-widgets/controls",
      "model_module_version": "1.5.0",
      "model_name": "DropdownModel",
      "state": {
       "_options_labels": [
        "C:\\Users\\dominiquef\\Documents\\GIT\\mira\\geoapps\\assets",
        "C:\\Users\\dominiquef\\Documents\\GIT\\mira\\geoapps",
        "C:\\Users\\dominiquef\\Documents\\GIT\\mira",
        "C:\\Users\\dominiquef\\Documents\\GIT",
        "C:\\Users\\dominiquef\\Documents",
        "C:\\Users\\dominiquef",
        "C:\\Users",
        "C:\\",
        "D:\\",
        "Z:\\"
       ],
       "index": 0,
       "layout": "IPY_MODEL_8b06d29598dd46e3a2d9dc55e0628831",
       "style": "IPY_MODEL_c5726e8fd12d46cda1a9c36e4d9b5060"
      }
     },
     "21a29fd1147343e798d4d9d1920a377f": {
      "model_module": "@jupyter-widgets/controls",
      "model_module_version": "1.5.0",
      "model_name": "ButtonModel",
      "state": {
       "description": "Select",
       "layout": "IPY_MODEL_64c107a08060457cab140f8e691932f1",
       "style": "IPY_MODEL_7bbad72454ea4e8fa4b62c1c60daf1fa"
      }
     },
     "2240897d2c354929a3d07a9984f635d4": {
      "model_module": "@jupyter-widgets/base",
      "model_module_version": "1.2.0",
      "model_name": "LayoutModel",
      "state": {
       "width": "auto"
      }
     },
     "226cd83640344409b70742535dc69dd0": {
      "model_module": "@jupyter-widgets/controls",
      "model_module_version": "1.5.0",
      "model_name": "HTMLModel",
      "state": {
       "layout": "IPY_MODEL_ddf7e8f43ee44342b0b70cef61a004e5",
       "placeholder": "",
       "style": "IPY_MODEL_96cb350aaa644525aeab827a33567d06",
       "value": "<span style=\"margin-left:10px; color:orange;\">C:\\Users\\dominiquef\\Documents\\GIT\\mira\\mirageoscience-apps\\assets\\FlinFlon.geoh5</span>"
      }
     },
     "22c33294e6cb4f1384180f1b1b5f2d21": {
      "model_module": "@jupyter-widgets/base",
      "model_module_version": "1.2.0",
      "model_name": "LayoutModel",
      "state": {
       "display": "none",
       "grid_gap": "0px 0px",
       "grid_template_areas": "\n                    'pathlist filename'\n                    'dircontent dircontent'\n                    ",
       "grid_template_columns": "60% 40%",
       "grid_template_rows": "auto auto",
       "width": "500px"
      }
     },
     "22fb404c76a646449e57b3054524ad3c": {
      "model_module": "@jupyter-widgets/controls",
      "model_module_version": "1.5.0",
      "model_name": "TextareaModel",
      "state": {
       "description": "<=> WKT",
       "layout": "IPY_MODEL_7744c5e2160448b886f281dc290eeed8",
       "style": "IPY_MODEL_1f59f3445dce4045a52d6026ecc89730",
       "value": "PROJCS[\"NAD83 / UTM zone 14N\",GEOGCS[\"NAD83\",DATUM[\"North_American_Datum_1983\",SPHEROID[\"GRS 1980\",6378137,298.257222101,AUTHORITY[\"EPSG\",\"7019\"]],AUTHORITY[\"EPSG\",\"6269\"]],PRIMEM[\"Greenwich\",0,AUTHORITY[\"EPSG\",\"8901\"]],UNIT[\"degree\",0.0174532925199433,AUTHORITY[\"EPSG\",\"9122\"]],AUTHORITY[\"EPSG\",\"4269\"]],PROJECTION[\"Transverse_Mercator\"],PARAMETER[\"latitude_of_origin\",0],PARAMETER[\"central_meridian\",-99],PARAMETER[\"scale_factor\",0.9996],PARAMETER[\"false_easting\",500000],PARAMETER[\"false_northing\",0],UNIT[\"metre\",1,AUTHORITY[\"EPSG\",\"9001\"]],AXIS[\"Easting\",EAST],AXIS[\"Northing\",NORTH],AUTHORITY[\"EPSG\",\"26914\"]]"
      }
     },
     "2305327f52114c34ae77382fc5820e9d": {
      "model_module": "@jupyter-widgets/base",
      "model_module_version": "1.2.0",
      "model_name": "LayoutModel",
      "state": {}
     },
     "234313a48f2648c495f4f8d803753aaf": {
      "model_module": "@jupyter-widgets/base",
      "model_module_version": "1.2.0",
      "model_name": "LayoutModel",
      "state": {}
     },
     "2346139a7350446586f4fbf8061b0496": {
      "model_module": "@jupyter-widgets/controls",
      "model_module_version": "1.5.0",
      "model_name": "HBoxModel",
      "state": {
       "children": [
        "IPY_MODEL_7fd112a8d61347208fe26d106639b973",
        "IPY_MODEL_670701d65d054d2fbbabf0767757948d"
       ],
       "layout": "IPY_MODEL_f7488591ff1444229d3baf15cdf82e8a"
      }
     },
     "23815d8940594198a624f7edb6cb8438": {
      "model_module": "@jupyter-widgets/base",
      "model_module_version": "1.2.0",
      "model_name": "LayoutModel",
      "state": {
       "width": "auto"
      }
     },
     "2386de96f5424f548b10b62ddee27d13": {
      "model_module": "@jupyter-widgets/controls",
      "model_module_version": "1.5.0",
      "model_name": "LabelModel",
      "state": {
       "layout": "IPY_MODEL_134b8e1ff25640a7a8bc86cf1b7cdc8b",
       "style": "IPY_MODEL_0926ea4275854598b5f244f71eb73d8d",
       "value": "Workspace"
      }
     },
     "238e682b855541aebd5888a32700680b": {
      "model_module": "@jupyter-widgets/controls",
      "model_module_version": "1.5.0",
      "model_name": "GridBoxModel",
      "state": {
       "children": [
        "IPY_MODEL_6af3f88544ca49d08857f09a92e04e0a",
        "IPY_MODEL_148c06f07f9b40da9f0e6301680c0d69",
        "IPY_MODEL_c51da2737c804b0f8650f36e320cbd73"
       ],
       "layout": "IPY_MODEL_3335221da7c9493391313413e55648bc"
      }
     },
     "239a92e04cbb475ca9f6f001b60dcc82": {
      "model_module": "@jupyter-widgets/controls",
      "model_module_version": "1.5.0",
      "model_name": "HTMLModel",
      "state": {
       "layout": "IPY_MODEL_5a4a0a5dd8b945a2a468dd7d80a71e32",
       "style": "IPY_MODEL_f57f3c1b6b1b40eea84007909f9fcb2c"
      }
     },
     "239efc73f89345c0add0a8c0da8baf6a": {
      "model_module": "@jupyter-widgets/base",
      "model_module_version": "1.2.0",
      "model_name": "LayoutModel",
      "state": {
       "width": "auto"
      }
     },
     "23ee6d99520046349d2be6f9c5d799cc": {
      "model_module": "@jupyter-widgets/base",
      "model_module_version": "1.2.0",
      "model_name": "LayoutModel",
      "state": {
       "display": "none",
       "width": "auto"
      }
     },
     "243041e2017b4bd595aa9f31432e3600": {
      "model_module": "@jupyter-widgets/base",
      "model_module_version": "1.2.0",
      "model_name": "LayoutModel",
      "state": {
       "width": "50%"
      }
     },
     "246af92a85c74146a6f20c4531fb683b": {
      "model_module": "@jupyter-widgets/controls",
      "model_module_version": "1.5.0",
      "model_name": "LabelModel",
      "state": {
       "layout": "IPY_MODEL_b1756cda256e406a95e7e52c3af4c74f",
       "style": "IPY_MODEL_6004adc369d64470a8210328d037888f",
       "value": "Monitoring folder"
      }
     },
     "2471bf8705fe47929c8732e8848953eb": {
      "model_module": "@jupyter-widgets/controls",
      "model_module_version": "1.5.0",
      "model_name": "DescriptionStyleModel",
      "state": {
       "description_width": "initial"
      }
     },
     "24727674c5df46d58c6e67e18065fc6d": {
      "model_module": "@jupyter-widgets/controls",
      "model_module_version": "1.5.0",
      "model_name": "TextModel",
      "state": {
       "continuous_update": false,
       "description": "Input Projection:",
       "layout": "IPY_MODEL_51eb0762cb42498689f830fc41edf275",
       "style": "IPY_MODEL_ab3b645208e7423c96498197b64cef68",
       "value": "EPSG:26914"
      }
     },
     "24807bf277604fe08fad50920be38e3c": {
      "model_module": "@jupyter-widgets/controls",
      "model_module_version": "1.5.0",
      "model_name": "VBoxModel",
      "state": {
       "children": [
        "IPY_MODEL_4e5d21898bc94c449d29efefee2daf75",
        "IPY_MODEL_4e306d7767b54a339401903b2ef173b7"
       ],
       "layout": "IPY_MODEL_e521ee43b67843fdba5bc78c4a9c4b1d"
      }
     },
     "24cac3b3fca44553b97ccfe43b3edd73": {
      "model_module": "@jupyter-widgets/controls",
      "model_module_version": "1.5.0",
      "model_name": "VBoxModel",
      "state": {
       "children": [
        "IPY_MODEL_2028b56caa814f418cd83e8900875f08",
        "IPY_MODEL_ebeeeddf1358499db2fea9f45e133eba"
       ],
       "layout": "IPY_MODEL_e99aec0507aa4ca390990c3f3ddd15bc"
      }
     },
     "24dc95ba80104459a2abd7e8f7806a01": {
      "model_module": "@jupyter-widgets/base",
      "model_module_version": "1.2.0",
      "model_name": "LayoutModel",
      "state": {}
     },
     "25227f03c7214566910f849f68847d84": {
      "model_module": "@jupyter-widgets/controls",
      "model_module_version": "1.5.0",
      "model_name": "VBoxModel",
      "state": {
       "children": [
        "IPY_MODEL_12f9612cc8584fd8b72b45e872b0d4d2",
        "IPY_MODEL_a403aa6c5fa74ec0bc7b170536a1567b"
       ],
       "layout": "IPY_MODEL_9629f329604c4f7d8eae1f03f8041342"
      }
     },
     "25844f682e414be9b72331f0b28cff0b": {
      "model_module": "@jupyter-widgets/controls",
      "model_module_version": "1.5.0",
      "model_name": "ButtonStyleModel",
      "state": {}
     },
     "25c3cae28696493daf27d41740d9ce2c": {
      "model_module": "@jupyter-widgets/controls",
      "model_module_version": "1.5.0",
      "model_name": "DescriptionStyleModel",
      "state": {
       "description_width": ""
      }
     },
     "25eccf45ee6046dcbb50fd6e03b59aa5": {
      "model_module": "@jupyter-widgets/controls",
      "model_module_version": "1.5.0",
      "model_name": "HTMLModel",
      "state": {
       "layout": "IPY_MODEL_c8a2f8d71a6b4dd1b99e5e61e5e9d450",
       "style": "IPY_MODEL_459bc574dc8f4a16baf9dd205da06eb8"
      }
     },
     "264b399cc4e64104bb06e96457267198": {
      "model_module": "@jupyter-widgets/controls",
      "model_module_version": "1.5.0",
      "model_name": "DescriptionStyleModel",
      "state": {
       "description_width": "initial"
      }
     },
     "265e67ece8bd4be88f650a88198667d6": {
      "model_module": "@jupyter-widgets/controls",
      "model_module_version": "1.5.0",
      "model_name": "CheckboxModel",
      "state": {
       "description": "Geoscience ANALYST Pro - Live link",
       "disabled": false,
       "indent": false,
       "layout": "IPY_MODEL_0a23052b14f84f1181a5f0f844c92fbf",
       "style": "IPY_MODEL_41a30c3818e34991baf1056e67b56825",
       "value": false
      }
     },
     "2691af93fc714cf2b292f31137667263": {
      "model_module": "@jupyter-widgets/base",
      "model_module_version": "1.2.0",
      "model_name": "LayoutModel",
      "state": {
       "grid_area": "pathlist",
       "width": "auto"
      }
     },
     "270f220abffe4ed0b7552d93f7be27b3": {
      "model_module": "@jupyter-widgets/controls",
      "model_module_version": "1.5.0",
      "model_name": "VBoxModel",
      "state": {
       "children": [
        "IPY_MODEL_acd24246d17945ecaa73235506bc03ff",
        "IPY_MODEL_95fbf7662005494a8d2911d6f484624a"
       ],
       "layout": "IPY_MODEL_7472a4c6b7fb4a5d9a7e53ba2100adfc"
      }
     },
     "273af9a6d0c648259e56242419603ec1": {
      "model_module": "@jupyter-widgets/controls",
      "model_module_version": "1.5.0",
      "model_name": "DescriptionStyleModel",
      "state": {
       "description_width": ""
      }
     },
     "2761b5b05676461faa0049e805baf985": {
      "model_module": "@jupyter-widgets/base",
      "model_module_version": "1.2.0",
      "model_name": "LayoutModel",
      "state": {
       "display": "none",
       "grid_area": "filename",
       "width": "auto"
      }
     },
     "2779faee6b8d4dfd97fc7c8a25a92eda": {
      "model_module": "@jupyter-widgets/base",
      "model_module_version": "1.2.0",
      "model_name": "LayoutModel",
      "state": {
       "width": "auto"
      }
     },
     "27d164fdb72e4806a10b4ef0b5c1ded7": {
      "model_module": "@jupyter-widgets/controls",
      "model_module_version": "1.5.0",
      "model_name": "HTMLModel",
      "state": {
       "layout": "IPY_MODEL_0950b08a092d4944a2f27b00e2ef3224",
       "style": "IPY_MODEL_7e1c66111cae43f2849de42ed325b65b"
      }
     },
     "2820d872d0f240758ee253f61e02fd54": {
      "model_module": "@jupyter-widgets/base",
      "model_module_version": "1.2.0",
      "model_name": "LayoutModel",
      "state": {}
     },
     "28255dd8698c44c3912f41c7316b41cf": {
      "model_module": "@jupyter-widgets/controls",
      "model_module_version": "1.5.0",
      "model_name": "DescriptionStyleModel",
      "state": {
       "description_width": ""
      }
     },
     "283523a5d1d747c8b19ef75747efa991": {
      "model_module": "@jupyter-widgets/controls",
      "model_module_version": "1.5.0",
      "model_name": "HTMLModel",
      "state": {
       "layout": "IPY_MODEL_5724380485ab47debb0fcfce437fcdb8",
       "placeholder": "",
       "style": "IPY_MODEL_3eb0f5b5222b4952ba9ec30b292808c3",
       "value": "<span style=\"margin-left:10px; color:black;\">No file selected</span>"
      }
     },
     "2837ab203cbc4dbfbb1eb0fb31c1b4e1": {
      "model_module": "@jupyter-widgets/controls",
      "model_module_version": "1.5.0",
      "model_name": "LabelModel",
      "state": {
       "layout": "IPY_MODEL_fd304ea6f3564b7fad25af49d25d5c1f",
       "style": "IPY_MODEL_761cacf79a3a4e6daeca483a43d7375b",
       "value": "Workspace"
      }
     },
     "283feb1f0c2745f9a53e095393b1227c": {
      "model_module": "@jupyter-widgets/base",
      "model_module_version": "1.2.0",
      "model_name": "LayoutModel",
      "state": {}
     },
     "284ac33f50ed484799a5ef9c43f5bfe5": {
      "model_module": "@jupyter-widgets/controls",
      "model_module_version": "1.5.0",
      "model_name": "ButtonStyleModel",
      "state": {}
     },
     "28843e6e61b04ef7b5eabcd6fd87f817": {
      "model_module": "@jupyter-widgets/controls",
      "model_module_version": "1.5.0",
      "model_name": "VBoxModel",
      "state": {
       "children": [
        "IPY_MODEL_b4545490d508494b9bf5e29061f86540",
        "IPY_MODEL_44eeb004d66a4a389df30e67e7dc6757",
        "IPY_MODEL_2902f8ecbe584bfeb987b86ffa1e32cd",
        "IPY_MODEL_2bcd8c2114f643fc82906b76bd67c37a",
        "IPY_MODEL_2e38cdc08682427fbb7ac3dde43d7dde"
       ],
       "layout": "IPY_MODEL_c3bbb7289805474c80e0fad6d108d15d"
      }
     },
     "28a670a5bd1947b6a44662f5fdb554dd": {
      "model_module": "@jupyter-widgets/controls",
      "model_module_version": "1.5.0",
      "model_name": "DescriptionStyleModel",
      "state": {
       "description_width": ""
      }
     },
     "28bad3d198a6419bb8a6f82e65f35b41": {
      "model_module": "@jupyter-widgets/controls",
      "model_module_version": "1.5.0",
      "model_name": "DescriptionStyleModel",
      "state": {
       "description_width": ""
      }
     },
     "28ceae6be8164ec184dd8f948116af32": {
      "model_module": "@jupyter-widgets/controls",
      "model_module_version": "1.5.0",
      "model_name": "ButtonStyleModel",
      "state": {}
     },
     "28d097747b5b43bbaf262fb2182412a9": {
      "model_module": "@jupyter-widgets/base",
      "model_module_version": "1.2.0",
      "model_name": "LayoutModel",
      "state": {}
     },
     "2902f8ecbe584bfeb987b86ffa1e32cd": {
      "model_module": "@jupyter-widgets/controls",
      "model_module_version": "1.5.0",
      "model_name": "HBoxModel",
      "state": {
       "children": [
        "IPY_MODEL_c5ce57f938d84d8b802b6d1107803a94",
        "IPY_MODEL_38c9d575464b4bbfa5309e58fe67db73"
       ],
       "layout": "IPY_MODEL_b5f96464aa724a649782addaff945704"
      }
     },
     "290ec70a061a4f66ad98eb5c666cd926": {
      "model_module": "@jupyter-widgets/controls",
      "model_module_version": "1.5.0",
      "model_name": "DescriptionStyleModel",
      "state": {
       "description_width": ""
      }
     },
     "290f2fb98eae4485927339e7e1560ddc": {
      "model_module": "@jupyter-widgets/controls",
      "model_module_version": "1.5.0",
      "model_name": "VBoxModel",
      "state": {
       "children": [
        "IPY_MODEL_91bcf69eb5154b65b0b5d1c4ae7e172a",
        "IPY_MODEL_41eb8d87a3d14360a094c5b6fe57cf90"
       ],
       "layout": "IPY_MODEL_6be3b5b86e5b4d18b4aac731d51e78ac"
      }
     },
     "29cc2cea19214ee2956b9a2142ae8e55": {
      "model_module": "@jupyter-widgets/controls",
      "model_module_version": "1.5.0",
      "model_name": "DescriptionStyleModel",
      "state": {
       "description_width": "initial"
      }
     },
     "29ef5040bc7541deb12795245efdb887": {
      "model_module": "@jupyter-widgets/controls",
      "model_module_version": "1.5.0",
      "model_name": "VBoxModel",
      "state": {
       "children": [
        "IPY_MODEL_91bcf69eb5154b65b0b5d1c4ae7e172a",
        "IPY_MODEL_31c2001cb15743a9a994184831f08d06",
        "IPY_MODEL_5cd043eecc8b455da74bc7897a2e41f8",
        "IPY_MODEL_5a30b67e8e694720860a04eb27258a8c",
        "IPY_MODEL_41eb8d87a3d14360a094c5b6fe57cf90"
       ],
       "layout": "IPY_MODEL_b36db5038836434395744a8d2c06f62c"
      }
     },
     "2b321928c7224d729931f2ac01683473": {
      "model_module": "@jupyter-widgets/base",
      "model_module_version": "1.2.0",
      "model_name": "LayoutModel",
      "state": {}
     },
     "2b41b6a879a04915a1cf477161b11609": {
      "model_module": "@jupyter-widgets/controls",
      "model_module_version": "1.5.0",
      "model_name": "DropdownModel",
      "state": {
       "_options_labels": [
        "C:\\Users\\dominiquef\\Documents\\GIT\\mira\\mirageoscience-apps\\assets",
        "C:\\Users\\dominiquef\\Documents\\GIT\\mira\\mirageoscience-apps",
        "C:\\Users\\dominiquef\\Documents\\GIT\\mira",
        "C:\\Users\\dominiquef\\Documents\\GIT",
        "C:\\Users\\dominiquef\\Documents",
        "C:\\Users\\dominiquef",
        "C:\\Users",
        "C:\\",
        "D:\\",
        "Z:\\"
       ],
       "index": 0,
       "layout": "IPY_MODEL_55c706b86f2346fcad24e682ab840f43",
       "style": "IPY_MODEL_88890a8b3e8a4330af8e6e7685efc004"
      }
     },
     "2bcd8c2114f643fc82906b76bd67c37a": {
      "model_module": "@jupyter-widgets/controls",
      "model_module_version": "1.5.0",
      "model_name": "HBoxModel",
      "state": {
       "children": [
        "IPY_MODEL_9bc77850e16141fe8b46e233cf0a9cd6",
        "IPY_MODEL_082a965f6b3a4940b61b389d4aaebaa7"
       ],
       "layout": "IPY_MODEL_ee8a5416085d4dd898d2fd6e082d3003"
      }
     },
     "2c8b4e7e79824228a435eb84fd7309ee": {
      "model_module": "@jupyter-widgets/controls",
      "model_module_version": "1.5.0",
      "model_name": "DropdownModel",
      "state": {
       "_options_labels": [
        "C:\\Users\\dominiquef\\Documents\\GIT\\mira\\geoapps\\assets\\Temp",
        "C:\\Users\\dominiquef\\Documents\\GIT\\mira\\geoapps\\assets",
        "C:\\Users\\dominiquef\\Documents\\GIT\\mira\\geoapps",
        "C:\\Users\\dominiquef\\Documents\\GIT\\mira",
        "C:\\Users\\dominiquef\\Documents\\GIT",
        "C:\\Users\\dominiquef\\Documents",
        "C:\\Users\\dominiquef",
        "C:\\Users",
        "C:\\",
        "D:\\",
        "\\\\EgnyteDrive\\mirageoscience\\",
        "G:\\"
       ],
       "index": 0,
       "layout": "IPY_MODEL_fd01a02bea124efc8d8d5addc9b4eb01",
       "style": "IPY_MODEL_273af9a6d0c648259e56242419603ec1"
      }
     },
     "2d017fccec3c4c98a8350dd1f75409b4": {
      "model_module": "@jupyter-widgets/controls",
      "model_module_version": "1.5.0",
      "model_name": "VBoxModel",
      "state": {
       "children": [
        "IPY_MODEL_5772eb7f3a6b43a184f40241d7cd0229",
        "IPY_MODEL_ae18b80d96994254972b764474ec750c",
        "IPY_MODEL_aa1b6d75292c443cbf691891d0237c3c"
       ],
       "layout": "IPY_MODEL_cd2746e3a4fa43c3b923676b181da141"
      }
     },
     "2dab37360ab143e393dde6bbe3675584": {
      "model_module": "@jupyter-widgets/controls",
      "model_module_version": "1.5.0",
      "model_name": "DescriptionStyleModel",
      "state": {
       "description_width": "initial"
      }
     },
     "2dd4b1224cfd4ae7bfd844862a8601f5": {
      "model_module": "@jupyter-widgets/base",
      "model_module_version": "1.2.0",
      "model_name": "LayoutModel",
      "state": {
       "display": "none"
      }
     },
     "2de8cf33d46746f6b570418d2642edb4": {
      "model_module": "@jupyter-widgets/base",
      "model_module_version": "1.2.0",
      "model_name": "LayoutModel",
      "state": {}
     },
     "2df38dd021124f29a8056e1e307697cd": {
      "model_module": "@jupyter-widgets/base",
      "model_module_version": "1.2.0",
      "model_name": "LayoutModel",
      "state": {
       "width": "auto"
      }
     },
     "2e1cc521f956412f857f4af496b9fa2d": {
      "model_module": "@jupyter-widgets/base",
      "model_module_version": "1.2.0",
      "model_name": "LayoutModel",
      "state": {
       "width": "auto"
      }
     },
     "2e205a6ba79c4e39b3d2f2e8e2a5801d": {
      "model_module": "@jupyter-widgets/base",
      "model_module_version": "1.2.0",
      "model_name": "LayoutModel",
      "state": {
       "display": "none"
      }
     },
     "2e33fb1b039a4bb383dcd79556f0f46d": {
      "model_module": "@jupyter-widgets/base",
      "model_module_version": "1.2.0",
      "model_name": "LayoutModel",
      "state": {}
     },
     "2e38cdc08682427fbb7ac3dde43d7dde": {
      "model_module": "@jupyter-widgets/controls",
      "model_module_version": "1.5.0",
      "model_name": "VBoxModel",
      "state": {
       "children": [
        "IPY_MODEL_0d5a04ddf65549a9bbe7b064e189fdac",
        "IPY_MODEL_d6a83a1694104c18a102278fd97355c2"
       ],
       "layout": "IPY_MODEL_50260b6f4e6b44598d2e01a1cd66051c"
      }
     },
     "2e56c44b54884efb9b1916904d66e78e": {
      "model_module": "@jupyter-widgets/controls",
      "model_module_version": "1.5.0",
      "model_name": "DescriptionStyleModel",
      "state": {
       "description_width": "initial"
      }
     },
     "2e6829b5526d4f83916de2014faea20e": {
      "model_module": "@jupyter-widgets/controls",
      "model_module_version": "1.5.0",
      "model_name": "DescriptionStyleModel",
      "state": {
       "description_width": ""
      }
     },
     "2f0c7352d53b48aea9e1afa9295a53b1": {
      "model_module": "@jupyter-widgets/base",
      "model_module_version": "1.2.0",
      "model_name": "LayoutModel",
      "state": {
       "width": "auto"
      }
     },
     "2f4e633c55424074a774b3dc2b3ff78e": {
      "model_module": "@jupyter-widgets/base",
      "model_module_version": "1.2.0",
      "model_name": "LayoutModel",
      "state": {}
     },
     "2f573c64e22f457cba706ec3b715c8d4": {
      "model_module": "@jupyter-widgets/controls",
      "model_module_version": "1.5.0",
      "model_name": "DescriptionStyleModel",
      "state": {
       "description_width": ""
      }
     },
     "2fc4103743e14c3b8e3e4d1a86dfd6e1": {
      "model_module": "@jupyter-widgets/controls",
      "model_module_version": "1.5.0",
      "model_name": "DescriptionStyleModel",
      "state": {
       "description_width": "initial"
      }
     },
     "2fcbc32d384c4b8f86a423bc471fe409": {
      "model_module": "@jupyter-widgets/controls",
      "model_module_version": "1.5.0",
      "model_name": "HTMLModel",
      "state": {
       "layout": "IPY_MODEL_c9553d1e8857491db24a5425be9a57d9",
       "placeholder": "",
       "style": "IPY_MODEL_7607f6731cb74065be310a2691f319f4",
       "value": "<span style=\"margin-left:10px; color:orange;\">C:\\Users\\dominiquef\\Documents\\GIT\\mira\\geoapps\\assets\\FlinFlon.geoh5</span>"
      }
     },
     "300b879f92a34348b926b50ce337efe6": {
      "model_module": "@jupyter-widgets/base",
      "model_module_version": "1.2.0",
      "model_name": "LayoutModel",
      "state": {
       "grid_area": "filename",
       "width": "auto"
      }
     },
     "30af92498c344ea99c734bc8c20a7cdd": {
      "model_module": "@jupyter-widgets/base",
      "model_module_version": "1.2.0",
      "model_name": "LayoutModel",
      "state": {}
     },
     "30bdfdfc852b487098094e0a241191c7": {
      "model_module": "@jupyter-widgets/controls",
      "model_module_version": "1.5.0",
      "model_name": "ButtonModel",
      "state": {
       "description": "Select",
       "layout": "IPY_MODEL_f45fb05fa03a41d78985e03c7fa447e5",
       "style": "IPY_MODEL_3a1757cced4b43a8adccff4519d1fc73"
      }
     },
     "30d5d5cf01d6448dac9e9ec204ee749f": {
      "model_module": "@jupyter-widgets/controls",
      "model_module_version": "1.5.0",
      "model_name": "ButtonStyleModel",
      "state": {}
     },
     "3128ebab0bb0408b92c8e88c51a65930": {
      "model_module": "@jupyter-widgets/controls",
      "model_module_version": "1.5.0",
      "model_name": "SelectModel",
      "state": {
       "_options_labels": [
        "..",
        "SimPEG_PFInversion",
        "Temp",
        "dask-worker-space",
        "FlinFlon.geoh5",
        "HelloWorld.ui.json",
        "Inversion_.json",
        "Inversion_1.json",
        "Inversion_2.json",
        "MtDore_TMI.geoh5",
        "Octree_Mesh.ui.json",
        "Untitled.ipynb",
        "VTEM_model.mod",
        "Workspace.Gravity_Magnetics_drape60m_Airborne_Gxx.tif",
        "Workspace.Gravity_Magnetics_drape60m_Airborne_Gxx_Colorbar.png",
        "Workspace.Gravity_Magnetics_drape60m_Airborne_Gxx_RGB.txt",
        "Workspace.Gravity_Magnetics_drape60m_Airborne_TMI.tif",
        "Workspace.Gravity_Magnetics_drape60m_Airborne_TMI_Colorbar.png",
        "Workspace.Gravity_Magnetics_drape60m_Airborne_TMI_RGB.txt",
        "demo.ipynb",
        "input.ui.json",
        "options_tree.json",
        "tempui.ui.geoh5",
        "tempui.ui.json",
        "test.ui.geoh5",
        "test.ui.json",
        "testPoints.geoh5"
       ],
       "index": 4,
       "layout": "IPY_MODEL_743d06ccce5a4051a0a4877b7a7e91c6",
       "rows": 8,
       "style": "IPY_MODEL_e92cb03ae726498c8787ed72adbbcf15"
      }
     },
     "3182d84bf84e41b1b5873166fc7e7d84": {
      "model_module": "@jupyter-widgets/controls",
      "model_module_version": "1.5.0",
      "model_name": "VBoxModel",
      "state": {
       "children": [
        "IPY_MODEL_69d111aebc5c4a0c8dd5e0294cc7bd66",
        "IPY_MODEL_43ade249a9c949bb8884eefc8cd59520"
       ],
       "layout": "IPY_MODEL_7ee95a204eb0402a800acd2807c29649"
      }
     },
     "31acc9ccfd4e47ae8facf5b8c5f959bf": {
      "model_module": "@jupyter-widgets/controls",
      "model_module_version": "1.5.0",
      "model_name": "ButtonStyleModel",
      "state": {}
     },
     "31bb2c3acd3a4656a25e90e2664d3638": {
      "model_module": "@jupyter-widgets/controls",
      "model_module_version": "1.5.0",
      "model_name": "ButtonStyleModel",
      "state": {}
     },
     "31c2001cb15743a9a994184831f08d06": {
      "model_module": "@jupyter-widgets/controls",
      "model_module_version": "1.5.0",
      "model_name": "SelectMultipleModel",
      "state": {
       "_options_labels": [
        "",
        "Gravity_Magnetics_drape60mEPSG_4326",
        "Gravity_Magnetics_drape60mEPSG_4326",
        "Gravity_Magnetics_drape60mEPSG_4326",
        "Data_TEM_pseudo3DEPSG_4326",
        "Data_TEM_pseudo3D",
        "Gravity_Magnetics_drape60mEPSG_4326",
        "Data_TEM_pseudo3DEPSG_4326",
        "Gravity_Magnetics_drape60mEPSG_4326",
        "Data_TEM_pseudo3DEPSG_4326",
        "Data_TEM_pseudo3D",
        "Gravity_Magnetics_drape60mEPSG_4326",
        "fault_splay1",
        "fault_Cliff_Lake",
        "fault_Other_FlinFlon",
        "fault_Club_Lake_splay",
        "fault_Catherine_splay2",
        "fault_Birch_View",
        "fault_Dion_Lake",
        "fault_FlinFlon_splay",
        "fault_West_Mandy_Road",
        "fault_Channing",
        "fault_Ross_Lake",
        "fault_Louis_Hidden",
        "fault_Lake_View_thrust",
        "contact_Schist_Lake",
        "fault_Burley_Lake",
        "fault_Dion_Lake_splay",
        "fault_Green_Lake",
        "fault_FlinFlon",
        "fault_Catherine_splay1",
        "fault_East_Mandy_Road",
        "fault_Other_FlinFlon_South",
        "fault_Catherine_splay4",
        "contact_Stitt_Island",
        "fault_Club_Lake",
        "fault_Tailing_Pond",
        "35_Hidden_Reservoir_Hr5",
        "29_Hidden_Reservoir_Hr1a",
        "60_BlueLagoon_Fb2",
        "20_FlinFlon_Undivided_Int_Dykes_D2f",
        "04_Boundary_Intrusive_S4h",
        "53_Millrock_Rhyolite_Fm4b",
        "19_FlinFlon_Undivided_Int_Dykes_D2b",
        "18_FlinFlon_Undivided_Int_Dykes_777_D2b",
        "06_Phantom_Lake_Intrusive_S3a",
        "21_FlinFlon_Undivided_Int_Dykes_D3a",
        "43_Millrock_CHLSH_South",
        "56_Millrock_Basalt_Fm1ba",
        "17_FlinFlon_Undivided_Int_Dykes_D2",
        "32_Hidden_Reservoir_Hr1b_SW",
        "11_Missi_M3_NE",
        "13_Missi_M1",
        "07_Annabel_Granitoid_S1",
        "45_Millrock_Gabbro_South",
        "01_Late_Intrusive_S5b",
        "31_Hidden_Reservoir_Hr1c_SW",
        "52_Millrock_Rhyolite_Fm4_West_check",
        "55_Millrock_Basalt_Fm1bf",
        "34_Hidden_Reservoir_Hr2b",
        "03_Boundary_Intrusive_S4b",
        "42_Millrock_CHLSH_North",
        "26_Louis_L3",
        "23_FlinFlon_Undivided_Int_Felsic_D4g",
        "30_Hidden_Reservoir_Hr1b",
        "59_BlueLagoon_Fb3",
        "49_Millrock_MVR_Fm5d",
        "44_Millrock_Gabbro_North",
        "27_Hidden_Carlisle_Hc4",
        "22_FlinFlon_Undivided_Int_Felsic_D4e",
        "02_Boundary_Intrusive_S4a",
        "61_BlueLagoon_Fb1_NW",
        "05_Boundary_Intrusive_S4g",
        "39_Ore_Callinan",
        "38_Ore_Dan_Owens",
        "40_Ore_FlinFlon",
        "Inversion_VTEM_Model",
        "Gravity_Magnetics_drape60m",
        "CDI_VTEM_model",
        "Data_FEM_pseudo3D",
        "geochem",
        "Inversion_DIGHEM_Model",
        "Topography",
        "Data_TEM_pseudo3D"
       ],
       "description": "Object:",
       "index": [
        77,
        5
       ],
       "layout": "IPY_MODEL_1cd588adc7244255b0d45279bc96ffc2",
       "rows": 5,
       "style": "IPY_MODEL_9ef8f09b125749729228e38a6a59bd2c"
      }
     },
     "32153dc0a50f43f78fa7704d85619b3d": {
      "model_module": "@jupyter-widgets/controls",
      "model_module_version": "1.5.0",
      "model_name": "ButtonModel",
      "state": {
       "description": "Create copy:",
       "layout": "IPY_MODEL_80a710979b1b418ca71f92d88c9b01a0",
       "style": "IPY_MODEL_3e5f3a7bb07d48449b71ae581543ec43"
      }
     },
     "32647242521c4e338533c470881447c5": {
      "model_module": "@jupyter-widgets/controls",
      "model_module_version": "1.5.0",
      "model_name": "VBoxModel",
      "state": {
       "children": [
        "IPY_MODEL_25eccf45ee6046dcbb50fd6e03b59aa5",
        "IPY_MODEL_adef9518c6cd4e9faad93d3790180cbe",
        "IPY_MODEL_688dff536f264ed6acba6f75996d1855"
       ],
       "layout": "IPY_MODEL_239efc73f89345c0add0a8c0da8baf6a"
      }
     },
     "326f96f6948f47db95d8f7f9f1708531": {
      "model_module": "@jupyter-widgets/controls",
      "model_module_version": "1.5.0",
      "model_name": "HBoxModel",
      "state": {
       "children": [
        "IPY_MODEL_115ba64845094ffba7106f3f4c87809e",
        "IPY_MODEL_ef2b17ff068b443f87b09e91bebff77b"
       ],
       "layout": "IPY_MODEL_c22e59552ff240778a30f879c9a33181"
      }
     },
     "32a0e733a0764aa88d7841ce63182fcc": {
      "model_module": "@jupyter-widgets/base",
      "model_module_version": "1.2.0",
      "model_name": "LayoutModel",
      "state": {
       "display": "none",
       "width": "auto"
      }
     },
     "32c97ae51d524138af8573468a59d970": {
      "model_module": "@jupyter-widgets/base",
      "model_module_version": "1.2.0",
      "model_name": "LayoutModel",
      "state": {
       "width": "50%"
      }
     },
     "32e24056fe71446090e840bfd2ef7a1b": {
      "model_module": "@jupyter-widgets/controls",
      "model_module_version": "1.5.0",
      "model_name": "HTMLModel",
      "state": {
       "layout": "IPY_MODEL_39fbcf3d7d5a43ce832855769166a8ef",
       "style": "IPY_MODEL_35f15075e12a4e0880b888063b11d253"
      }
     },
     "333461931755440992f7458d12210394": {
      "model_module": "@jupyter-widgets/controls",
      "model_module_version": "1.5.0",
      "model_name": "DescriptionStyleModel",
      "state": {
       "description_width": ""
      }
     },
     "3335221da7c9493391313413e55648bc": {
      "model_module": "@jupyter-widgets/base",
      "model_module_version": "1.2.0",
      "model_name": "LayoutModel",
      "state": {
       "display": "none",
       "grid_gap": "0px 0px",
       "grid_template_areas": "\n                    'pathlist pathlist'\n                    'dircontent dircontent'\n                    ",
       "grid_template_columns": "60% 40%",
       "grid_template_rows": "auto auto",
       "width": "500px"
      }
     },
     "3387caaa1fa243b4874871f32f3eb3fb": {
      "model_module": "@jupyter-widgets/base",
      "model_module_version": "1.2.0",
      "model_name": "LayoutModel",
      "state": {}
     },
     "339f43d24b0844ef9e5d9287df943a17": {
      "model_module": "@jupyter-widgets/base",
      "model_module_version": "1.2.0",
      "model_name": "LayoutModel",
      "state": {}
     },
     "33d7cc09f55942688ffc7033dce911cf": {
      "model_module": "@jupyter-widgets/base",
      "model_module_version": "1.2.0",
      "model_name": "LayoutModel",
      "state": {
       "grid_area": "pathlist",
       "width": "auto"
      }
     },
     "34374db756c149f6ba477822897d2fea": {
      "model_module": "@jupyter-widgets/controls",
      "model_module_version": "1.5.0",
      "model_name": "GridBoxModel",
      "state": {
       "children": [
        "IPY_MODEL_b22bee4ea0214322b51aa40658b79c04",
        "IPY_MODEL_0812eac65cf34d37bc9e6b32b7a2abd6",
        "IPY_MODEL_d0abd31c947f4e57b4db964d08e7afd5"
       ],
       "layout": "IPY_MODEL_22c33294e6cb4f1384180f1b1b5f2d21"
      }
     },
     "3492fd5848c742f68cee0bb2d52af38f": {
      "model_module": "@jupyter-widgets/base",
      "model_module_version": "1.2.0",
      "model_name": "LayoutModel",
      "state": {}
     },
     "34e0064215e045d1abecf0b2a772e17d": {
      "model_module": "@jupyter-widgets/controls",
      "model_module_version": "1.5.0",
      "model_name": "GridBoxModel",
      "state": {
       "children": [
        "IPY_MODEL_c20caf81f57c44a996cc8f9764f982d4",
        "IPY_MODEL_98515a472dc14ff3aa9fb17b5be7d308",
        "IPY_MODEL_20f433a1fe00480594808f7041ab4c24"
       ],
       "layout": "IPY_MODEL_1442105fa18349bcb6735efe212b9690"
      }
     },
     "3516247b687640a29a05b648ed60b210": {
      "model_module": "@jupyter-widgets/base",
      "model_module_version": "1.2.0",
      "model_name": "LayoutModel",
      "state": {}
     },
     "352ab9e6bc0a4d1ab5a19328f4a10114": {
      "model_module": "@jupyter-widgets/controls",
      "model_module_version": "1.5.0",
      "model_name": "HTMLModel",
      "state": {
       "layout": "IPY_MODEL_4939f2420d4f4bd08ed557bfaecb6f72",
       "placeholder": "",
       "style": "IPY_MODEL_c029f89411ee40c39bb5bb59372abeb2",
       "value": "<span style=\"margin-left:10px; color:black;\">No file selected</span>"
      }
     },
     "356692f4e98a404eb923eeae84eb4b16": {
      "model_module": "@jupyter-widgets/base",
      "model_module_version": "1.2.0",
      "model_name": "LayoutModel",
      "state": {}
     },
     "3572f353c00b4f139ca0a733a7f04e2b": {
      "model_module": "@jupyter-widgets/controls",
      "model_module_version": "1.5.0",
      "model_name": "DescriptionStyleModel",
      "state": {
       "description_width": ""
      }
     },
     "35f15075e12a4e0880b888063b11d253": {
      "model_module": "@jupyter-widgets/controls",
      "model_module_version": "1.5.0",
      "model_name": "DescriptionStyleModel",
      "state": {
       "description_width": ""
      }
     },
     "3610bf9ad5bb4d1086caa109b341b1e5": {
      "model_module": "@jupyter-widgets/controls",
      "model_module_version": "1.5.0",
      "model_name": "DescriptionStyleModel",
      "state": {
       "description_width": ""
      }
     },
     "3631f4c63add4b90a7e6a88d71ce33da": {
      "model_module": "@jupyter-widgets/base",
      "model_module_version": "1.2.0",
      "model_name": "LayoutModel",
      "state": {
       "grid_area": "pathlist",
       "width": "auto"
      }
     },
     "3670c229d17147d581b4e0d3a4a8b1ca": {
      "model_module": "@jupyter-widgets/controls",
      "model_module_version": "1.5.0",
      "model_name": "DescriptionStyleModel",
      "state": {
       "description_width": ""
      }
     },
     "367d6a48780546e98aaf9186c78d5b66": {
      "model_module": "@jupyter-widgets/base",
      "model_module_version": "1.2.0",
      "model_name": "LayoutModel",
      "state": {
       "width": "50%"
      }
     },
     "36a9d9291fdd4dbdbc14e5e3b2d26d14": {
      "model_module": "@jupyter-widgets/controls",
      "model_module_version": "1.5.0",
      "model_name": "ButtonStyleModel",
      "state": {}
     },
     "36e60178d04f4c238076125885ba0a8d": {
      "model_module": "@jupyter-widgets/controls",
      "model_module_version": "1.5.0",
      "model_name": "DescriptionStyleModel",
      "state": {
       "description_width": "initial"
      }
     },
     "36ff37cb49cc4dc4930bb5004e1f1d1f": {
      "model_module": "@jupyter-widgets/base",
      "model_module_version": "1.2.0",
      "model_name": "LayoutModel",
      "state": {}
     },
     "373854ad31cc492aadd14171cc8eb67b": {
      "model_module": "@jupyter-widgets/base",
      "model_module_version": "1.2.0",
      "model_name": "LayoutModel",
      "state": {}
     },
     "378755fad88f4116994f3891c1f9fc3d": {
      "model_module": "@jupyter-widgets/controls",
      "model_module_version": "1.5.0",
      "model_name": "HBoxModel",
      "state": {
       "children": [
        "IPY_MODEL_c328f4d17428461c99837c7343979c5c",
        "IPY_MODEL_1e95f78bcc9e4a3888b755e7c3fd2fa8",
        "IPY_MODEL_46e32a79978d4c0a86b85b5ed639d804"
       ],
       "layout": "IPY_MODEL_2240897d2c354929a3d07a9984f635d4"
      }
     },
     "37fcc20ec96e4423b44b94ce445c1831": {
      "model_module": "@jupyter-widgets/controls",
      "model_module_version": "1.5.0",
      "model_name": "HTMLModel",
      "state": {
       "layout": "IPY_MODEL_d443c3cd2847417dac48c38587cd16bf",
       "placeholder": "",
       "style": "IPY_MODEL_3572f353c00b4f139ca0a733a7f04e2b",
       "value": "<span style=\"color:green;\">C:\\Users\\dominiquef\\Documents\\GIT\\mira\\geoapps\\assets\\Temp\\</span>"
      }
     },
     "38013ee9648b43549bbcbb6afe6f79ba": {
      "model_module": "@jupyter-widgets/controls",
      "model_module_version": "1.5.0",
      "model_name": "ToggleButtonModel",
      "state": {
       "layout": "IPY_MODEL_cee66ccb19904172b3dc630eff941368",
       "style": "IPY_MODEL_9ed1d99badbe48e8a28448ae5c250ec4"
      }
     },
     "38a6a489fd19458f893f1a24acf96167": {
      "model_module": "@jupyter-widgets/controls",
      "model_module_version": "1.5.0",
      "model_name": "DescriptionStyleModel",
      "state": {
       "description_width": ""
      }
     },
     "38c9d575464b4bbfa5309e58fe67db73": {
      "model_module": "@jupyter-widgets/controls",
      "model_module_version": "1.5.0",
      "model_name": "TextareaModel",
      "state": {
       "description": "<=> WKT",
       "layout": "IPY_MODEL_32c97ae51d524138af8573468a59d970",
       "style": "IPY_MODEL_4d2d8ed6baeb4cbcb6b38b715da61f54",
       "value": "PROJCS[\"NAD83 / UTM zone 14N\",GEOGCS[\"NAD83\",DATUM[\"North_American_Datum_1983\",SPHEROID[\"GRS 1980\",6378137,298.257222101,AUTHORITY[\"EPSG\",\"7019\"]],TOWGS84[0,0,0,0,0,0,0],AUTHORITY[\"EPSG\",\"6269\"]],PRIMEM[\"Greenwich\",0,AUTHORITY[\"EPSG\",\"8901\"]],UNIT[\"degree\",0.0174532925199433,AUTHORITY[\"EPSG\",\"9122\"]],AUTHORITY[\"EPSG\",\"4269\"]],PROJECTION[\"Transverse_Mercator\"],PARAMETER[\"latitude_of_origin\",0],PARAMETER[\"central_meridian\",-99],PARAMETER[\"scale_factor\",0.9996],PARAMETER[\"false_easting\",500000],PARAMETER[\"false_northing\",0],UNIT[\"metre\",1,AUTHORITY[\"EPSG\",\"9001\"]],AXIS[\"Easting\",EAST],AXIS[\"Northing\",NORTH],AUTHORITY[\"EPSG\",\"26914\"]]"
      }
     },
     "38d60e70910944f585a9eefc33405a36": {
      "model_module": "@jupyter-widgets/base",
      "model_module_version": "1.2.0",
      "model_name": "LayoutModel",
      "state": {}
     },
     "390fcefc50e54e3ca297306a975e05c8": {
      "model_module": "@jupyter-widgets/base",
      "model_module_version": "1.2.0",
      "model_name": "LayoutModel",
      "state": {
       "width": "auto"
      }
     },
     "396f46bc8a384af3a22a57fbe503ab2a": {
      "model_module": "@jupyter-widgets/base",
      "model_module_version": "1.2.0",
      "model_name": "LayoutModel",
      "state": {}
     },
     "399c56e3b8e64aa286c218c73081e757": {
      "model_module": "@jupyter-widgets/base",
      "model_module_version": "1.2.0",
      "model_name": "LayoutModel",
      "state": {
       "display": "none",
       "grid_gap": "0px 0px",
       "grid_template_areas": "\n                    'pathlist filename'\n                    'dircontent dircontent'\n                    ",
       "grid_template_columns": "60% 40%",
       "grid_template_rows": "auto auto",
       "width": "500px"
      }
     },
     "39da38b371a848c294b2ba2adf82752b": {
      "model_module": "@jupyter-widgets/base",
      "model_module_version": "1.2.0",
      "model_name": "LayoutModel",
      "state": {
       "display": "none",
       "grid_gap": "0px 0px",
       "grid_template_areas": "\n                    'pathlist pathlist'\n                    'dircontent dircontent'\n                    ",
       "grid_template_columns": "60% 40%",
       "grid_template_rows": "auto auto",
       "width": "500px"
      }
     },
     "39fbcf3d7d5a43ce832855769166a8ef": {
      "model_module": "@jupyter-widgets/base",
      "model_module_version": "1.2.0",
      "model_name": "LayoutModel",
      "state": {
       "display": "none"
      }
     },
     "3a1757cced4b43a8adccff4519d1fc73": {
      "model_module": "@jupyter-widgets/controls",
      "model_module_version": "1.5.0",
      "model_name": "ButtonStyleModel",
      "state": {}
     },
     "3a458fcec96d477a95d4960692a4f491": {
      "model_module": "@jupyter-widgets/base",
      "model_module_version": "1.2.0",
      "model_name": "LayoutModel",
      "state": {
       "grid_area": "filename",
       "width": "auto"
      }
     },
     "3a63a34bd0834cc998d170e0419faf1e": {
      "model_module": "@jupyter-widgets/base",
      "model_module_version": "1.2.0",
      "model_name": "LayoutModel",
      "state": {}
     },
     "3a85da08feb04325b97d885641c79e30": {
      "model_module": "@jupyter-widgets/controls",
      "model_module_version": "1.5.0",
      "model_name": "HBoxModel",
      "state": {
       "children": [
        "IPY_MODEL_e4d2fd942ec9481a91a9316251021e0a",
        "IPY_MODEL_3d1f908da7dd4de49a6938c018471e12"
       ],
       "layout": "IPY_MODEL_48f475740fca447697e81a94089624e5"
      }
     },
     "3acb2046bf3340b89295278abc71c7e6": {
      "model_module": "@jupyter-widgets/controls",
      "model_module_version": "1.5.0",
      "model_name": "HBoxModel",
      "state": {
       "children": [
        "IPY_MODEL_84a0cd97e23d4502b81b9ec3b3355458",
        "IPY_MODEL_69c30098516c4622aeb36a65d02a538e"
       ],
       "layout": "IPY_MODEL_ff8fb9b731c14fe3919c2f7c36468957"
      }
     },
     "3b82e538fb8143898c7bff1a6b53194a": {
      "model_module": "@jupyter-widgets/base",
      "model_module_version": "1.2.0",
      "model_name": "LayoutModel",
      "state": {}
     },
     "3bd1ac7f764a4c638e840e821fb3d980": {
      "model_module": "@jupyter-widgets/controls",
      "model_module_version": "1.5.0",
      "model_name": "ButtonStyleModel",
      "state": {}
     },
     "3be13cbc770441bf8a7e927f66c6361d": {
      "model_module": "@jupyter-widgets/base",
      "model_module_version": "1.2.0",
      "model_name": "LayoutModel",
      "state": {}
     },
     "3bf6107e29a34dc99b878d4828f1a183": {
      "model_module": "@jupyter-widgets/controls",
      "model_module_version": "1.5.0",
      "model_name": "DescriptionStyleModel",
      "state": {
       "description_width": ""
      }
     },
     "3c8909d372fe400d972f37055752def7": {
      "model_module": "@jupyter-widgets/controls",
      "model_module_version": "1.5.0",
      "model_name": "HBoxModel",
      "state": {
       "children": [
        "IPY_MODEL_e8424b7ffc3049ada30c356a5e80803e",
        "IPY_MODEL_0f3674c0c3e249dba8f6e80ec6844de5",
        "IPY_MODEL_80b5e35cb7ce4067bf41838462879f39"
       ],
       "layout": "IPY_MODEL_b87668ca248d4952a8c88fc9c79d0d05"
      }
     },
     "3d140467081149999f4ae969d3250bbe": {
      "model_module": "@jupyter-widgets/controls",
      "model_module_version": "1.5.0",
      "model_name": "DescriptionStyleModel",
      "state": {
       "description_width": ""
      }
     },
     "3d1f908da7dd4de49a6938c018471e12": {
      "model_module": "@jupyter-widgets/controls",
      "model_module_version": "1.5.0",
      "model_name": "TextareaModel",
      "state": {
       "description": "<=> WKT",
       "layout": "IPY_MODEL_9840218bd0dc4cc6bef85bc2dd64ddce",
       "style": "IPY_MODEL_d9fbb1b44c2e456eba79595f3eac35d4",
       "value": "PROJCS[\"NAD83 / UTM zone 14N\",GEOGCS[\"NAD83\",DATUM[\"North_American_Datum_1983\",SPHEROID[\"GRS 1980\",6378137,298.257222101,AUTHORITY[\"EPSG\",\"7019\"]],AUTHORITY[\"EPSG\",\"6269\"]],PRIMEM[\"Greenwich\",0,AUTHORITY[\"EPSG\",\"8901\"]],UNIT[\"degree\",0.0174532925199433,AUTHORITY[\"EPSG\",\"9122\"]],AUTHORITY[\"EPSG\",\"4269\"]],PROJECTION[\"Transverse_Mercator\"],PARAMETER[\"latitude_of_origin\",0],PARAMETER[\"central_meridian\",-99],PARAMETER[\"scale_factor\",0.9996],PARAMETER[\"false_easting\",500000],PARAMETER[\"false_northing\",0],UNIT[\"metre\",1,AUTHORITY[\"EPSG\",\"9001\"]],AXIS[\"Easting\",EAST],AXIS[\"Northing\",NORTH],AUTHORITY[\"EPSG\",\"26914\"]]"
      }
     },
     "3d2d83454a5c4abea4328b45c718977c": {
      "model_module": "@jupyter-widgets/base",
      "model_module_version": "1.2.0",
      "model_name": "LayoutModel",
      "state": {
       "width": "auto"
      }
     },
     "3d78559955dc4dc0890a2c7c81c6c74a": {
      "model_module": "@jupyter-widgets/controls",
      "model_module_version": "1.5.0",
      "model_name": "DescriptionStyleModel",
      "state": {
       "description_width": "initial"
      }
     },
     "3d7f5b2f241c48fd95d0d9453d3165ee": {
      "model_module": "@jupyter-widgets/base",
      "model_module_version": "1.2.0",
      "model_name": "LayoutModel",
      "state": {}
     },
     "3d99779de4b14195a57f3af1ff345a8b": {
      "model_module": "@jupyter-widgets/controls",
      "model_module_version": "1.5.0",
      "model_name": "HTMLModel",
      "state": {
       "layout": "IPY_MODEL_8f1f705e93e1436f83b549b30059f09a",
       "placeholder": "",
       "style": "IPY_MODEL_07806d26d36c4bfd9d722a56e0c0e83f",
       "value": "<span style=\"margin-left:10px; color:orange;\">C:\\Users\\dominiquef\\Documents\\GIT\\mira\\mirageoscience-apps\\assets\\FlinFlon.geoh5</span>"
      }
     },
     "3dac06a0e78f48809e37eaca139daa7f": {
      "model_module": "@jupyter-widgets/base",
      "model_module_version": "1.2.0",
      "model_name": "LayoutModel",
      "state": {}
     },
     "3e11e43e8ba54055b39ab90a338caa55": {
      "model_module": "@jupyter-widgets/controls",
      "model_module_version": "1.5.0",
      "model_name": "TextareaModel",
      "state": {
       "description": "<=> WKT",
       "layout": "IPY_MODEL_b5f1de9395b44e58af45b0d3734e023e",
       "style": "IPY_MODEL_c26b8152270543bebb9514e3553c851e",
       "value": "PROJCS[\"NAD83 / UTM zone 14N\",GEOGCS[\"NAD83\",DATUM[\"North_American_Datum_1983\",SPHEROID[\"GRS 1980\",6378137,298.257222101,AUTHORITY[\"EPSG\",\"7019\"]],AUTHORITY[\"EPSG\",\"6269\"]],PRIMEM[\"Greenwich\",0,AUTHORITY[\"EPSG\",\"8901\"]],UNIT[\"degree\",0.0174532925199433,AUTHORITY[\"EPSG\",\"9122\"]],AUTHORITY[\"EPSG\",\"4269\"]],PROJECTION[\"Transverse_Mercator\"],PARAMETER[\"latitude_of_origin\",0],PARAMETER[\"central_meridian\",-99],PARAMETER[\"scale_factor\",0.9996],PARAMETER[\"false_easting\",500000],PARAMETER[\"false_northing\",0],UNIT[\"metre\",1,AUTHORITY[\"EPSG\",\"9001\"]],AXIS[\"Easting\",EAST],AXIS[\"Northing\",NORTH],AUTHORITY[\"EPSG\",\"26914\"]]"
      }
     },
     "3e373808c1dc4f8686ab3040204b813d": {
      "model_module": "@jupyter-widgets/controls",
      "model_module_version": "1.5.0",
      "model_name": "LabelModel",
      "state": {
       "layout": "IPY_MODEL_5da14093844b45a983cb5bd02b899af4",
       "style": "IPY_MODEL_d4ec4a595ac04998b964fea555ef9fea",
       "value": "Workspace"
      }
     },
     "3e55e5a9c6cc444ebaef123acad0831c": {
      "model_module": "@jupyter-widgets/controls",
      "model_module_version": "1.5.0",
      "model_name": "ButtonStyleModel",
      "state": {}
     },
     "3e5f3a7bb07d48449b71ae581543ec43": {
      "model_module": "@jupyter-widgets/controls",
      "model_module_version": "1.5.0",
      "model_name": "ButtonStyleModel",
      "state": {}
     },
     "3e7879f20b5b4caf9e0650f8ae1e2a9e": {
      "model_module": "@jupyter-widgets/base",
      "model_module_version": "1.2.0",
      "model_name": "LayoutModel",
      "state": {
       "width": "50%"
      }
     },
     "3e7da94991184e7bbbbe40ed1d97edb4": {
      "model_module": "@jupyter-widgets/base",
      "model_module_version": "1.2.0",
      "model_name": "LayoutModel",
      "state": {
       "display": "none",
       "width": "auto"
      }
     },
     "3eb0f5b5222b4952ba9ec30b292808c3": {
      "model_module": "@jupyter-widgets/controls",
      "model_module_version": "1.5.0",
      "model_name": "DescriptionStyleModel",
      "state": {
       "description_width": ""
      }
     },
     "3eed807adf1241c6ac71f9091b6ca2ea": {
      "model_module": "@jupyter-widgets/controls",
      "model_module_version": "1.5.0",
      "model_name": "ButtonModel",
      "state": {
       "description": "Cancel",
       "layout": "IPY_MODEL_74172564617f4103a8d8985e9a9be75d",
       "style": "IPY_MODEL_bce6e00cc2f94c5c8c4b789526556938"
      }
     },
     "3ef82dc1c08b47b0b3e8ae1523472419": {
      "model_module": "@jupyter-widgets/base",
      "model_module_version": "1.2.0",
      "model_name": "LayoutModel",
      "state": {}
     },
     "3f21717250524383b0d8b52643d1cb77": {
      "model_module": "@jupyter-widgets/base",
      "model_module_version": "1.2.0",
      "model_name": "LayoutModel",
      "state": {
       "display": "none",
       "grid_gap": "0px 0px",
       "grid_template_areas": "\n                    'pathlist pathlist'\n                    'dircontent dircontent'\n                    ",
       "grid_template_columns": "60% 40%",
       "grid_template_rows": "auto auto",
       "width": "500px"
      }
     },
     "3fb8d3bd1543473a9f1fc704ecddca14": {
      "model_module": "@jupyter-widgets/controls",
      "model_module_version": "1.5.0",
      "model_name": "DescriptionStyleModel",
      "state": {
       "description_width": "initial"
      }
     },
     "3fc843ddff2b46238dc42ab4c5d9bfc6": {
      "model_module": "@jupyter-widgets/controls",
      "model_module_version": "1.5.0",
      "model_name": "DescriptionStyleModel",
      "state": {
       "description_width": "initial"
      }
     },
     "40d1df50102e48878f110f438f2fc8b5": {
      "model_module": "@jupyter-widgets/controls",
      "model_module_version": "1.5.0",
      "model_name": "DescriptionStyleModel",
      "state": {
       "description_width": ""
      }
     },
     "4149ff5cfb8b41a0b7fbd93a0c233414": {
      "model_module": "@jupyter-widgets/base",
      "model_module_version": "1.2.0",
      "model_name": "LayoutModel",
      "state": {
       "display": "none",
       "grid_area": "filename",
       "width": "auto"
      }
     },
     "418572c4b1c14030a54aad073b29985d": {
      "model_module": "@jupyter-widgets/controls",
      "model_module_version": "1.5.0",
      "model_name": "TextModel",
      "state": {
       "disabled": true,
       "layout": "IPY_MODEL_8de5c40945574897b4ada37a1133d39d",
       "placeholder": "output filename",
       "style": "IPY_MODEL_4b1790e129284c7fa36de41ef762fd7c"
      }
     },
     "418ba2812e25466a966737f2ce884af1": {
      "model_module": "@jupyter-widgets/base",
      "model_module_version": "1.2.0",
      "model_name": "LayoutModel",
      "state": {
       "width": "auto"
      }
     },
     "41a30c3818e34991baf1056e67b56825": {
      "model_module": "@jupyter-widgets/controls",
      "model_module_version": "1.5.0",
      "model_name": "DescriptionStyleModel",
      "state": {
       "description_width": "initial"
      }
     },
     "41adb9190b434bceaa2b015c974cc136": {
      "model_module": "@jupyter-widgets/controls",
      "model_module_version": "1.5.0",
      "model_name": "ButtonModel",
      "state": {
       "description": "Cancel",
       "layout": "IPY_MODEL_a07007fc0572420599723beb5cbedace",
       "style": "IPY_MODEL_d11cb59231dd469f80c1487d2a242f7a"
      }
     },
     "41bfd9da632b4770b30565efc9c5972f": {
      "model_module": "@jupyter-widgets/controls",
      "model_module_version": "1.5.0",
      "model_name": "ButtonModel",
      "state": {
       "description": "Change",
       "layout": "IPY_MODEL_74c912f7ed18443eb47fe480e5049f56",
       "style": "IPY_MODEL_82cf2b6eba1c482690ce79f16e96f10e"
      }
     },
     "41eb8d87a3d14360a094c5b6fe57cf90": {
      "model_module": "@jupyter-widgets/controls",
      "model_module_version": "1.5.0",
      "model_name": "VBoxModel",
      "state": {
       "children": [
        "IPY_MODEL_839ada38ab5742bbb0f844a07bb9718c",
        "IPY_MODEL_8a2588b12ba34e419d9f78224fd37028"
       ],
       "layout": "IPY_MODEL_8275a5fae72244369a11c7cf9e82e0a0"
      }
     },
     "420e572b5761468aa83bb09fbebee25e": {
      "model_module": "@jupyter-widgets/controls",
      "model_module_version": "1.5.0",
      "model_name": "GridBoxModel",
      "state": {
       "children": [
        "IPY_MODEL_d47754d84eb148239a73ffb66315dac9",
        "IPY_MODEL_7bc1acc30d6c4a5391222481cac4889a",
        "IPY_MODEL_9f2162e1fa0349aaa5b8b9a8998efd04"
       ],
       "layout": "IPY_MODEL_0ef3f533b50d4e8bb27cafd0265ed6fc"
      }
     },
     "426729ce6edb465ebe1037e9b597925d": {
      "model_module": "@jupyter-widgets/controls",
      "model_module_version": "1.5.0",
      "model_name": "GridBoxModel",
      "state": {
       "children": [
        "IPY_MODEL_45bb8cea8321453bbdc8773284b19162",
        "IPY_MODEL_1707425ffae142a6b63dfb29db1df4f5",
        "IPY_MODEL_620462e514bb46e9a73128b4d17bebec"
       ],
       "layout": "IPY_MODEL_3f21717250524383b0d8b52643d1cb77"
      }
     },
     "428d36e7c5da4b509d530fa23814e629": {
      "model_module": "@jupyter-widgets/base",
      "model_module_version": "1.2.0",
      "model_name": "LayoutModel",
      "state": {
       "grid_area": "dircontent",
       "width": "auto"
      }
     },
     "42a0c7853f8446cabd5e454dad2ab618": {
      "model_module": "@jupyter-widgets/controls",
      "model_module_version": "1.5.0",
      "model_name": "ButtonModel",
      "state": {
       "description": "Cancel",
       "layout": "IPY_MODEL_1f35543576024684bdfb34f9f263b73f",
       "style": "IPY_MODEL_3e55e5a9c6cc444ebaef123acad0831c"
      }
     },
     "42e3002aaa6f4f1dad8be9ade93670d6": {
      "model_module": "@jupyter-widgets/controls",
      "model_module_version": "1.5.0",
      "model_name": "ButtonStyleModel",
      "state": {}
     },
     "432b1ac864614ae9a8f59549d484b992": {
      "model_module": "@jupyter-widgets/controls",
      "model_module_version": "1.5.0",
      "model_name": "ButtonModel",
      "state": {
       "description": "Cancel",
       "layout": "IPY_MODEL_6b3f3977d065431182637187dc26d608",
       "style": "IPY_MODEL_1f5bfd40b1ff42eca999e4cb60ce29d0"
      }
     },
     "4356106817cd45178cde14fb0e11e458": {
      "model_module": "@jupyter-widgets/base",
      "model_module_version": "1.2.0",
      "model_name": "LayoutModel",
      "state": {}
     },
     "436199b2dea64bdfb62a419ba3521b97": {
      "model_module": "@jupyter-widgets/controls",
      "model_module_version": "1.5.0",
      "model_name": "DropdownModel",
      "state": {
       "_options_labels": [
        "C:\\Users\\dominiquef\\Documents\\GIT\\mira\\mirageoscience-apps\\docs\\content\\applications",
        "C:\\Users\\dominiquef\\Documents\\GIT\\mira\\mirageoscience-apps\\docs\\content",
        "C:\\Users\\dominiquef\\Documents\\GIT\\mira\\mirageoscience-apps\\docs",
        "C:\\Users\\dominiquef\\Documents\\GIT\\mira\\mirageoscience-apps",
        "C:\\Users\\dominiquef\\Documents\\GIT\\mira",
        "C:\\Users\\dominiquef\\Documents\\GIT",
        "C:\\Users\\dominiquef\\Documents",
        "C:\\Users\\dominiquef",
        "C:\\Users",
        "C:\\",
        "D:\\",
        "Z:\\"
       ],
       "index": 0,
       "layout": "IPY_MODEL_c6332b5afdca4837a6511fdf94e03d63",
       "style": "IPY_MODEL_d5b31ca4ba414581b6f39c50ba1c2f83"
      }
     },
     "436893ce9e134844a128e52379f206ba": {
      "model_module": "@jupyter-widgets/controls",
      "model_module_version": "1.5.0",
      "model_name": "HBoxModel",
      "state": {
       "children": [
        "IPY_MODEL_21a29fd1147343e798d4d9d1920a377f",
        "IPY_MODEL_c0b6a3e5934944b99d01eac4c4184f38",
        "IPY_MODEL_57eb19841eaa4d19b14f1ae773335ecc"
       ],
       "layout": "IPY_MODEL_09e297ca5c9d424ab36f9b93c97148c4"
      }
     },
     "43ade249a9c949bb8884eefc8cd59520": {
      "model_module": "@jupyter-widgets/controls",
      "model_module_version": "1.5.0",
      "model_name": "VBoxModel",
      "state": {
       "children": [
        "IPY_MODEL_859ad8398997457da3acfebc2524ae04",
        "IPY_MODEL_690a16ab770c4025a0eeccda648b1c0a",
        "IPY_MODEL_436893ce9e134844a128e52379f206ba"
       ],
       "layout": "IPY_MODEL_9e4b3366d8154c1589ccd232edc34478"
      }
     },
     "44239e08e7c749fe96ba51a026b3862c": {
      "model_module": "@jupyter-widgets/controls",
      "model_module_version": "1.5.0",
      "model_name": "DescriptionStyleModel",
      "state": {
       "description_width": "initial"
      }
     },
     "44907c3f85584c9db194702bc2ad1b60": {
      "model_module": "@jupyter-widgets/controls",
      "model_module_version": "1.5.0",
      "model_name": "ButtonModel",
      "state": {
       "button_style": "danger",
       "description": "Compute",
       "icon": "check",
       "layout": "IPY_MODEL_4bfe6f1548ee4d51a538c61a90efe695",
       "style": "IPY_MODEL_e51b5964f01847aa8cefc3a82b874799",
       "tooltip": "Run computation"
      }
     },
     "44e4178bca724a859b5aaf5ee6c6a8ee": {
      "model_module": "@jupyter-widgets/controls",
      "model_module_version": "1.5.0",
      "model_name": "HBoxModel",
      "state": {
       "children": [
        "IPY_MODEL_b6385c8a37ed41298eb3f02dc8b64b57",
        "IPY_MODEL_9c9ed52896324b89baccc31169abcfc1"
       ],
       "layout": "IPY_MODEL_d9a9976375ca4ae988112149360885f7"
      }
     },
     "44eeb004d66a4a389df30e67e7dc6757": {
      "model_module": "@jupyter-widgets/controls",
      "model_module_version": "1.5.0",
      "model_name": "SelectMultipleModel",
      "state": {
       "_options_labels": [
        "",
        "Ore/39_Ore_Callinan",
        "Ore/38_Ore_Dan_Owens",
        "Ore/40_Ore_FlinFlon",
        "Workspace/Inversion_VTEM_Model",
        "Workspace/Gravity_Magnetics_drape60m",
        "Workspace/CDI_VTEM_model",
        "Workspace/Data_FEM_pseudo3D",
        "Workspace/O2O_Interp_25m",
        "Workspace/geochem",
        "Workspace/Inversion_DIGHEM_Model",
        "Workspace/Topography",
        "Workspace/Data_TEM_pseudo3D",
        "Workspace/Data_ZTEM",
        "Workspace/Mesh"
       ],
       "description": "Object:",
       "index": [
        5,
        12
       ],
       "layout": "IPY_MODEL_8605c4b917834f7e83e10fd7021645df",
       "rows": 5,
       "style": "IPY_MODEL_1c41266b462b41c38d814382e11566be"
      }
     },
     "44eec6edd5844e148825b4336dae95ab": {
      "model_module": "@jupyter-widgets/base",
      "model_module_version": "1.2.0",
      "model_name": "LayoutModel",
      "state": {}
     },
     "450fb6e365e2467190ebcaaf53e1182f": {
      "model_module": "@jupyter-widgets/controls",
      "model_module_version": "1.5.0",
      "model_name": "TextModel",
      "state": {
       "continuous_update": false,
       "description": "Group:",
       "layout": "IPY_MODEL_dc23e37cac3146929639128f8380c8fc",
       "style": "IPY_MODEL_c5c6c9e6511e456cb0b7a96a37b9463d",
       "value": "CoordinateTransformation"
      }
     },
     "459bc574dc8f4a16baf9dd205da06eb8": {
      "model_module": "@jupyter-widgets/controls",
      "model_module_version": "1.5.0",
      "model_name": "DescriptionStyleModel",
      "state": {
       "description_width": ""
      }
     },
     "45bb8cea8321453bbdc8773284b19162": {
      "model_module": "@jupyter-widgets/controls",
      "model_module_version": "1.5.0",
      "model_name": "DropdownModel",
      "state": {
       "_options_labels": [
        "C:\\Users\\dominiquef\\Documents\\GIT\\mira\\geoapps\\docs\\content\\applications",
        "C:\\Users\\dominiquef\\Documents\\GIT\\mira\\geoapps\\docs\\content",
        "C:\\Users\\dominiquef\\Documents\\GIT\\mira\\geoapps\\docs",
        "C:\\Users\\dominiquef\\Documents\\GIT\\mira\\geoapps",
        "C:\\Users\\dominiquef\\Documents\\GIT\\mira",
        "C:\\Users\\dominiquef\\Documents\\GIT",
        "C:\\Users\\dominiquef\\Documents",
        "C:\\Users\\dominiquef",
        "C:\\Users",
        "C:\\",
        "D:\\",
        "Z:\\"
       ],
       "index": 0,
       "layout": "IPY_MODEL_7dae6a1ebfcf4c6a9f27e20045ac50a7",
       "style": "IPY_MODEL_460bfad84df6482a92378c5845d26a45"
      }
     },
     "45fd83bae49b4c58aa7d824bdc82570d": {
      "model_module": "@jupyter-widgets/controls",
      "model_module_version": "1.5.0",
      "model_name": "ButtonStyleModel",
      "state": {}
     },
     "460bfad84df6482a92378c5845d26a45": {
      "model_module": "@jupyter-widgets/controls",
      "model_module_version": "1.5.0",
      "model_name": "DescriptionStyleModel",
      "state": {
       "description_width": ""
      }
     },
     "4693df186635442982a52d623bdd36a1": {
      "model_module": "@jupyter-widgets/base",
      "model_module_version": "1.2.0",
      "model_name": "LayoutModel",
      "state": {}
     },
     "46a1e94d54f246398c7691a8a5d26de5": {
      "model_module": "@jupyter-widgets/controls",
      "model_module_version": "1.5.0",
      "model_name": "ButtonModel",
      "state": {
       "description": "Create copy:",
       "layout": "IPY_MODEL_0a7f8c09c5fb4bfc8c7e879922dc63ff",
       "style": "IPY_MODEL_fd31e0b8c4d1481396eb2b661cbd3e81"
      }
     },
     "46ab1d1026394b6889945386004c1bb6": {
      "model_module": "@jupyter-widgets/base",
      "model_module_version": "1.2.0",
      "model_name": "LayoutModel",
      "state": {
       "grid_area": "pathlist",
       "width": "auto"
      }
     },
     "46e32a79978d4c0a86b85b5ed639d804": {
      "model_module": "@jupyter-widgets/controls",
      "model_module_version": "1.5.0",
      "model_name": "HTMLModel",
      "state": {
       "layout": "IPY_MODEL_dc44e48658764106830eadd8aab056d9",
       "placeholder": "",
       "style": "IPY_MODEL_7f110f34abef4fe78d815cad2d8ac697",
       "value": "<span style=\"margin-left:10px; color:black;\">No file selected</span>"
      }
     },
     "47797889199e484eb68931f9ae042e8c": {
      "model_module": "@jupyter-widgets/base",
      "model_module_version": "1.2.0",
      "model_name": "LayoutModel",
      "state": {}
     },
     "47e12f11f4ce4a97a1fe3b5e0e6da2b9": {
      "model_module": "@jupyter-widgets/controls",
      "model_module_version": "1.5.0",
      "model_name": "TextareaModel",
      "state": {
       "description": "<=> WKT",
       "layout": "IPY_MODEL_907ade643dec4d3abb4f34a7ec7ff1ac",
       "style": "IPY_MODEL_16f684a21666491e936b73c7a9911e1e",
       "value": "PROJCS[\"NAD83 / UTM zone 14N\",GEOGCS[\"NAD83\",DATUM[\"North_American_Datum_1983\",SPHEROID[\"GRS 1980\",6378137,298.257222101,AUTHORITY[\"EPSG\",\"7019\"]],AUTHORITY[\"EPSG\",\"6269\"]],PRIMEM[\"Greenwich\",0,AUTHORITY[\"EPSG\",\"8901\"]],UNIT[\"degree\",0.0174532925199433,AUTHORITY[\"EPSG\",\"9122\"]],AUTHORITY[\"EPSG\",\"4269\"]],PROJECTION[\"Transverse_Mercator\"],PARAMETER[\"latitude_of_origin\",0],PARAMETER[\"central_meridian\",-99],PARAMETER[\"scale_factor\",0.9996],PARAMETER[\"false_easting\",500000],PARAMETER[\"false_northing\",0],UNIT[\"metre\",1,AUTHORITY[\"EPSG\",\"9001\"]],AXIS[\"Easting\",EAST],AXIS[\"Northing\",NORTH],AUTHORITY[\"EPSG\",\"26914\"]]"
      }
     },
     "48647ee5b3b64287b686d9d2b2170b54": {
      "model_module": "@jupyter-widgets/controls",
      "model_module_version": "1.5.0",
      "model_name": "HBoxModel",
      "state": {
       "children": [
        "IPY_MODEL_90e7830d706344ca9d9303e687b9a31b",
        "IPY_MODEL_91870fe89f804482abafac44dcbf6778",
        "IPY_MODEL_c46af7523b294cafa3de2bafbb90dc6f"
       ],
       "layout": "IPY_MODEL_23815d8940594198a624f7edb6cb8438"
      }
     },
     "48a631b10ce04aac9e1d627a11fbb854": {
      "model_module": "@jupyter-widgets/base",
      "model_module_version": "1.2.0",
      "model_name": "LayoutModel",
      "state": {}
     },
     "48b246f02f4f4dc68fbbeed6c4518341": {
      "model_module": "@jupyter-widgets/controls",
      "model_module_version": "1.5.0",
      "model_name": "GridBoxModel",
      "state": {
       "children": [
        "IPY_MODEL_436199b2dea64bdfb62a419ba3521b97",
        "IPY_MODEL_80f7a280eb7640c19c8d914747d4676c",
        "IPY_MODEL_933b32df61224e089e88bfbecd084a4a"
       ],
       "layout": "IPY_MODEL_b2282a1265c24b829840f6322cc45bee"
      }
     },
     "48c05d2d4bbb441da2505d84d7f9db1a": {
      "model_module": "@jupyter-widgets/controls",
      "model_module_version": "1.5.0",
      "model_name": "SelectMultipleModel",
      "state": {
       "_options_labels": [
        "",
        "fault_splay1",
        "fault_Cliff_Lake",
        "fault_Other_FlinFlon",
        "fault_Club_Lake_splay",
        "fault_Catherine_splay2",
        "fault_Birch_View",
        "fault_Dion_Lake",
        "fault_FlinFlon_splay",
        "fault_West_Mandy_Road",
        "fault_Channing",
        "fault_Ross_Lake",
        "fault_Louis_Hidden",
        "fault_Lake_View_thrust",
        "contact_Schist_Lake",
        "fault_Burley_Lake",
        "fault_Dion_Lake_splay",
        "fault_Green_Lake",
        "fault_FlinFlon",
        "fault_Catherine_splay1",
        "fault_East_Mandy_Road",
        "fault_Other_FlinFlon_South",
        "fault_Catherine_splay4",
        "contact_Stitt_Island",
        "fault_Club_Lake",
        "fault_Tailing_Pond",
        "35_Hidden_Reservoir_Hr5",
        "29_Hidden_Reservoir_Hr1a",
        "60_BlueLagoon_Fb2",
        "20_FlinFlon_Undivided_Int_Dykes_D2f",
        "04_Boundary_Intrusive_S4h",
        "53_Millrock_Rhyolite_Fm4b",
        "19_FlinFlon_Undivided_Int_Dykes_D2b",
        "18_FlinFlon_Undivided_Int_Dykes_777_D2b",
        "06_Phantom_Lake_Intrusive_S3a",
        "21_FlinFlon_Undivided_Int_Dykes_D3a",
        "43_Millrock_CHLSH_South",
        "56_Millrock_Basalt_Fm1ba",
        "17_FlinFlon_Undivided_Int_Dykes_D2",
        "32_Hidden_Reservoir_Hr1b_SW",
        "11_Missi_M3_NE",
        "13_Missi_M1",
        "07_Annabel_Granitoid_S1",
        "45_Millrock_Gabbro_South",
        "01_Late_Intrusive_S5b",
        "31_Hidden_Reservoir_Hr1c_SW",
        "52_Millrock_Rhyolite_Fm4_West_check",
        "55_Millrock_Basalt_Fm1bf",
        "34_Hidden_Reservoir_Hr2b",
        "03_Boundary_Intrusive_S4b",
        "42_Millrock_CHLSH_North",
        "26_Louis_L3",
        "23_FlinFlon_Undivided_Int_Felsic_D4g",
        "30_Hidden_Reservoir_Hr1b",
        "59_BlueLagoon_Fb3",
        "49_Millrock_MVR_Fm5d",
        "44_Millrock_Gabbro_North",
        "27_Hidden_Carlisle_Hc4",
        "22_FlinFlon_Undivided_Int_Felsic_D4e",
        "02_Boundary_Intrusive_S4a",
        "61_BlueLagoon_Fb1_NW",
        "05_Boundary_Intrusive_S4g",
        "39_Ore_Callinan",
        "38_Ore_Dan_Owens",
        "40_Ore_FlinFlon",
        "Inversion_VTEM_Model",
        "Gravity_Magnetics_drape60m",
        "CDI_VTEM_model",
        "Data_FEM_pseudo3D",
        "geochem",
        "Inversion_DIGHEM_Model",
        "Topography",
        "Data_TEM_pseudo3D",
        "Data_ZTEM"
       ],
       "description": "Object:",
       "index": [
        66,
        72
       ],
       "layout": "IPY_MODEL_793efec88ac144878a93beaa12934a3e",
       "rows": 5,
       "style": "IPY_MODEL_f426b437c85547bb98b7df2a453bbde2"
      }
     },
     "48f475740fca447697e81a94089624e5": {
      "model_module": "@jupyter-widgets/base",
      "model_module_version": "1.2.0",
      "model_name": "LayoutModel",
      "state": {}
     },
     "48f7f1ba00274d75903ee3f8361536d6": {
      "model_module": "@jupyter-widgets/base",
      "model_module_version": "1.2.0",
      "model_name": "LayoutModel",
      "state": {
       "width": "auto"
      }
     },
     "493596585843444dbb6c0ac36e027bbc": {
      "model_module": "@jupyter-widgets/base",
      "model_module_version": "1.2.0",
      "model_name": "LayoutModel",
      "state": {
       "display": "none",
       "grid_gap": "0px 0px",
       "grid_template_areas": "\n                    'pathlist pathlist'\n                    'dircontent dircontent'\n                    ",
       "grid_template_columns": "60% 40%",
       "grid_template_rows": "auto auto",
       "width": "500px"
      }
     },
     "4939f2420d4f4bd08ed557bfaecb6f72": {
      "model_module": "@jupyter-widgets/base",
      "model_module_version": "1.2.0",
      "model_name": "LayoutModel",
      "state": {}
     },
     "49c28dd3d277453fbdc7f599719f6983": {
      "model_module": "@jupyter-widgets/controls",
      "model_module_version": "1.5.0",
      "model_name": "DescriptionStyleModel",
      "state": {
       "description_width": "initial"
      }
     },
     "49d352345d1e4c55b4ec3f0355cad398": {
      "model_module": "@jupyter-widgets/controls",
      "model_module_version": "1.5.0",
      "model_name": "ButtonModel",
      "state": {
       "description": "Create copy:",
       "layout": "IPY_MODEL_bfbb7d02db0f414783ebf638bec9ec55",
       "style": "IPY_MODEL_86793ad31b4347e0b850b7d31cc6a206"
      }
     },
     "49eeb0ed332f42779a95c6617531466e": {
      "model_module": "@jupyter-widgets/controls",
      "model_module_version": "1.5.0",
      "model_name": "TextareaModel",
      "state": {
       "description": "<=> WKT",
       "layout": "IPY_MODEL_057131c7694f4ba4b01fc69f69a2a1c3",
       "style": "IPY_MODEL_ebfbe6d7179445489d67a1c5fb8fcbeb",
       "value": "GEOGCS[\"WGS 84\",DATUM[\"WGS_1984\",SPHEROID[\"WGS 84\",6378137,298.257223563,AUTHORITY[\"EPSG\",\"7030\"]],AUTHORITY[\"EPSG\",\"6326\"]],PRIMEM[\"Greenwich\",0,AUTHORITY[\"EPSG\",\"8901\"]],UNIT[\"degree\",0.0174532925199433,AUTHORITY[\"EPSG\",\"9122\"]],AXIS[\"Latitude\",NORTH],AXIS[\"Longitude\",EAST],AUTHORITY[\"EPSG\",\"4326\"]]"
      }
     },
     "4a16221c79744aaf87627594b7f6bf88": {
      "model_module": "@jupyter-widgets/controls",
      "model_module_version": "1.5.0",
      "model_name": "DropdownModel",
      "state": {
       "_options_labels": [
        "C:\\Users\\dominiquef\\Documents\\GIT\\mira\\mirageoscience-apps\\docs\\content\\applications",
        "C:\\Users\\dominiquef\\Documents\\GIT\\mira\\mirageoscience-apps\\docs\\content",
        "C:\\Users\\dominiquef\\Documents\\GIT\\mira\\mirageoscience-apps\\docs",
        "C:\\Users\\dominiquef\\Documents\\GIT\\mira\\mirageoscience-apps",
        "C:\\Users\\dominiquef\\Documents\\GIT\\mira",
        "C:\\Users\\dominiquef\\Documents\\GIT",
        "C:\\Users\\dominiquef\\Documents",
        "C:\\Users\\dominiquef",
        "C:\\Users",
        "C:\\",
        "D:\\",
        "Z:\\"
       ],
       "index": 0,
       "layout": "IPY_MODEL_46ab1d1026394b6889945386004c1bb6",
       "style": "IPY_MODEL_8e4ac35a25bb414880217be37f2d5fc0"
      }
     },
     "4a3faf9199e74b4fb0787dc0a7ad9649": {
      "model_module": "@jupyter-widgets/controls",
      "model_module_version": "1.5.0",
      "model_name": "GridBoxModel",
      "state": {
       "children": [
        "IPY_MODEL_2b41b6a879a04915a1cf477161b11609",
        "IPY_MODEL_1b126143f3c04c4491b50fdead0fdf8b",
        "IPY_MODEL_c40ec656489440349f9a500a5d9f0f08"
       ],
       "layout": "IPY_MODEL_399c56e3b8e64aa286c218c73081e757"
      }
     },
     "4a42ed7fdcea4c3493b3b2da10e8471f": {
      "model_module": "@jupyter-widgets/controls",
      "model_module_version": "1.5.0",
      "model_name": "HBoxModel",
      "state": {
       "children": [
        "IPY_MODEL_effa045c28cb41969dfc5c271d4a5175",
        "IPY_MODEL_a7d482e3cd654a25af0d2c5d17691f00",
        "IPY_MODEL_dccb8fa05e914c88b9ecb7d049ffddf5"
       ],
       "layout": "IPY_MODEL_f5b3a32a129a4e268ae2d28898c2d6c5"
      }
     },
     "4a5aeecb5ea747648c0c8a585da2837f": {
      "model_module": "@jupyter-widgets/base",
      "model_module_version": "1.2.0",
      "model_name": "LayoutModel",
      "state": {}
     },
     "4a67593a96264ac282ccec302853074f": {
      "model_module": "@jupyter-widgets/base",
      "model_module_version": "1.2.0",
      "model_name": "LayoutModel",
      "state": {
       "display": "none",
       "grid_gap": "0px 0px",
       "grid_template_areas": "\n                    'pathlist pathlist'\n                    'dircontent dircontent'\n                    ",
       "grid_template_columns": "60% 40%",
       "grid_template_rows": "auto auto",
       "width": "500px"
      }
     },
     "4a877701d70b4f1e87cedbcc95ff8d08": {
      "model_module": "@jupyter-widgets/base",
      "model_module_version": "1.2.0",
      "model_name": "LayoutModel",
      "state": {
       "display": "none",
       "width": "auto"
      }
     },
     "4aa2653d853743a9bd6d46212483e41d": {
      "model_module": "@jupyter-widgets/controls",
      "model_module_version": "1.5.0",
      "model_name": "CheckboxModel",
      "state": {
       "description": "Geoscience ANALYST Pro - Live link",
       "disabled": false,
       "indent": false,
       "layout": "IPY_MODEL_129dfc4164de47c794046a3c9d720e83",
       "style": "IPY_MODEL_29cc2cea19214ee2956b9a2142ae8e55",
       "value": false
      }
     },
     "4b0e04428c964e16803de82051359480": {
      "model_module": "@jupyter-widgets/base",
      "model_module_version": "1.2.0",
      "model_name": "LayoutModel",
      "state": {
       "grid_area": "dircontent",
       "width": "auto"
      }
     },
     "4b1790e129284c7fa36de41ef762fd7c": {
      "model_module": "@jupyter-widgets/controls",
      "model_module_version": "1.5.0",
      "model_name": "DescriptionStyleModel",
      "state": {
       "description_width": ""
      }
     },
     "4b5d78c0f4434b21a760f70bca53746b": {
      "model_module": "@jupyter-widgets/controls",
      "model_module_version": "1.5.0",
      "model_name": "DescriptionStyleModel",
      "state": {
       "description_width": "initial"
      }
     },
     "4b99ccf6487648e0a77e7c27026481d3": {
      "model_module": "@jupyter-widgets/base",
      "model_module_version": "1.2.0",
      "model_name": "LayoutModel",
      "state": {
       "grid_area": "dircontent",
       "width": "auto"
      }
     },
     "4bb36d8a0c3e426d80a2a56b27e60b80": {
      "model_module": "@jupyter-widgets/base",
      "model_module_version": "1.2.0",
      "model_name": "LayoutModel",
      "state": {
       "display": "none",
       "width": "auto"
      }
     },
     "4bbca9a66b9543068c149e1d55359499": {
      "model_module": "@jupyter-widgets/controls",
      "model_module_version": "1.5.0",
      "model_name": "CheckboxModel",
      "state": {
       "description": "Geoscience ANALYST Pro - Live link",
       "disabled": false,
       "indent": false,
       "layout": "IPY_MODEL_7d4df2edebb14df48f9f894265302cf2",
       "style": "IPY_MODEL_3fb8d3bd1543473a9f1fc704ecddca14",
       "value": false
      }
     },
     "4bc367e8ab6b4893a70db804fc300f0c": {
      "model_module": "@jupyter-widgets/controls",
      "model_module_version": "1.5.0",
      "model_name": "HTMLModel",
      "state": {
       "layout": "IPY_MODEL_58d7620196be4e208fa3f55e2dc5200c",
       "style": "IPY_MODEL_777dbfe1b40f428190a7e384de204bf8"
      }
     },
     "4bdd41ebd8fe4025886406086ae417a8": {
      "model_module": "@jupyter-widgets/controls",
      "model_module_version": "1.5.0",
      "model_name": "DescriptionStyleModel",
      "state": {
       "description_width": ""
      }
     },
     "4bfe6f1548ee4d51a538c61a90efe695": {
      "model_module": "@jupyter-widgets/base",
      "model_module_version": "1.2.0",
      "model_name": "LayoutModel",
      "state": {}
     },
     "4c5f3f5ac0854c688443a97f1ecec4b0": {
      "model_module": "@jupyter-widgets/controls",
      "model_module_version": "1.5.0",
      "model_name": "ButtonModel",
      "state": {
       "description": "Cancel",
       "layout": "IPY_MODEL_9abae626475847adb8245506909fa165",
       "style": "IPY_MODEL_7fab6503276c4a2baa31f7fae4a92287"
      }
     },
     "4cffbb09a41c44009a0509815dc8c7dc": {
      "model_module": "@jupyter-widgets/controls",
      "model_module_version": "1.5.0",
      "model_name": "HBoxModel",
      "state": {
       "children": [
        "IPY_MODEL_76da1ca896054c86883df28864d0ac67",
        "IPY_MODEL_41adb9190b434bceaa2b015c974cc136",
        "IPY_MODEL_8f5b32856a8442ccbc34e031a5ba9de5"
       ],
       "layout": "IPY_MODEL_7311f74c66d64fefa9db17fbc4d35daf"
      }
     },
     "4d2d8ed6baeb4cbcb6b38b715da61f54": {
      "model_module": "@jupyter-widgets/controls",
      "model_module_version": "1.5.0",
      "model_name": "DescriptionStyleModel",
      "state": {
       "description_width": "initial"
      }
     },
     "4d33b7d6e90940f7bc1bcc35af36cd34": {
      "model_module": "@jupyter-widgets/controls",
      "model_module_version": "1.5.0",
      "model_name": "VBoxModel",
      "state": {
       "children": [
        "IPY_MODEL_f3502b3296b64bf79f0469780e4aae38",
        "IPY_MODEL_1db557e6496c45ce97ff2cc265e6d00c"
       ],
       "layout": "IPY_MODEL_eff345bacc744121a716c3b05fca2170"
      }
     },
     "4d82df1504d44da98990fe95ecb1b37a": {
      "model_module": "@jupyter-widgets/controls",
      "model_module_version": "1.5.0",
      "model_name": "TextareaModel",
      "state": {
       "description": "<=> WKT",
       "layout": "IPY_MODEL_b8cca6edc9be4ee1ae5463b2c14dc466",
       "style": "IPY_MODEL_9db8a4bd2933488a9bdcd5373e225b9b",
       "value": "PROJCS[\"NAD83 / UTM zone 14N\",GEOGCS[\"NAD83\",DATUM[\"North_American_Datum_1983\",SPHEROID[\"GRS 1980\",6378137,298.257222101,AUTHORITY[\"EPSG\",\"7019\"]],AUTHORITY[\"EPSG\",\"6269\"]],PRIMEM[\"Greenwich\",0,AUTHORITY[\"EPSG\",\"8901\"]],UNIT[\"degree\",0.0174532925199433,AUTHORITY[\"EPSG\",\"9122\"]],AUTHORITY[\"EPSG\",\"4269\"]],PROJECTION[\"Transverse_Mercator\"],PARAMETER[\"latitude_of_origin\",0],PARAMETER[\"central_meridian\",-99],PARAMETER[\"scale_factor\",0.9996],PARAMETER[\"false_easting\",500000],PARAMETER[\"false_northing\",0],UNIT[\"metre\",1,AUTHORITY[\"EPSG\",\"9001\"]],AXIS[\"Easting\",EAST],AXIS[\"Northing\",NORTH],AUTHORITY[\"EPSG\",\"26914\"]]"
      }
     },
     "4de7a45498c8478daf100b1663dcd1b7": {
      "model_module": "@jupyter-widgets/controls",
      "model_module_version": "1.5.0",
      "model_name": "GridBoxModel",
      "state": {
       "children": [
        "IPY_MODEL_6f00b19cf33441f0aebb59ae98c7ae41",
        "IPY_MODEL_5a5070a47fd940c49295455c339e6ef2",
        "IPY_MODEL_8b311c2edbe84961b9127093b3908426"
       ],
       "layout": "IPY_MODEL_17ac36700a2b40d080efb1cb250ec9e8"
      }
     },
     "4dee80205fce42778d2417bbcce57f44": {
      "model_module": "@jupyter-widgets/controls",
      "model_module_version": "1.5.0",
      "model_name": "DropdownModel",
      "state": {
       "_options_labels": [
        "C:\\Users\\dominiquef\\Documents\\GIT\\mira\\mirageoscience-apps\\assets",
        "C:\\Users\\dominiquef\\Documents\\GIT\\mira\\mirageoscience-apps",
        "C:\\Users\\dominiquef\\Documents\\GIT\\mira",
        "C:\\Users\\dominiquef\\Documents\\GIT",
        "C:\\Users\\dominiquef\\Documents",
        "C:\\Users\\dominiquef",
        "C:\\Users",
        "C:\\",
        "D:\\",
        "Z:\\"
       ],
       "index": 0,
       "layout": "IPY_MODEL_a9c85250a9104a5a8971c5e69edc4450",
       "style": "IPY_MODEL_38a6a489fd19458f893f1a24acf96167"
      }
     },
     "4e306d7767b54a339401903b2ef173b7": {
      "model_module": "@jupyter-widgets/controls",
      "model_module_version": "1.5.0",
      "model_name": "VBoxModel",
      "state": {
       "children": [
        "IPY_MODEL_fc971d6dffee40eeabe103f4df9e4551"
       ],
       "layout": "IPY_MODEL_a53fa8bd5b7e478281cb385995f62a58"
      }
     },
     "4e5d21898bc94c449d29efefee2daf75": {
      "model_module": "@jupyter-widgets/controls",
      "model_module_version": "1.5.0",
      "model_name": "VBoxModel",
      "state": {
       "children": [
        "IPY_MODEL_9273caed810e4b5393e89395c629f0e6",
        "IPY_MODEL_7919d6c723634abbb614dbd5207ca5d3"
       ],
       "layout": "IPY_MODEL_9ab71863e2e44782936b676259e7496f"
      }
     },
     "4e6bb031b725472dbbce30b4f51b00ea": {
      "model_module": "@jupyter-widgets/base",
      "model_module_version": "1.2.0",
      "model_name": "LayoutModel",
      "state": {
       "width": "auto"
      }
     },
     "4e819ba0e6e34b7f8613b1bd94e0556e": {
      "model_module": "@jupyter-widgets/controls",
      "model_module_version": "1.5.0",
      "model_name": "DescriptionStyleModel",
      "state": {
       "description_width": "initial"
      }
     },
     "4e855f55a3e140bb8f6a934e39c2696c": {
      "model_module": "@jupyter-widgets/controls",
      "model_module_version": "1.5.0",
      "model_name": "VBoxModel",
      "state": {
       "children": [
        "IPY_MODEL_6249d20768b54d01b71e2bd12685bbbf",
        "IPY_MODEL_0332fcb20ea947888b598b3b878e5b8f"
       ],
       "layout": "IPY_MODEL_f7047127d92c4f4db1939d2225f28286"
      }
     },
     "4e980e8ebd7b4bc6aa531ef385217e15": {
      "model_module": "@jupyter-widgets/base",
      "model_module_version": "1.2.0",
      "model_name": "LayoutModel",
      "state": {
       "display": "none"
      }
     },
     "4ed802b0963e4577958deccc1564eb3f": {
      "model_module": "@jupyter-widgets/controls",
      "model_module_version": "1.5.0",
      "model_name": "ButtonModel",
      "state": {
       "description": "Cancel",
       "layout": "IPY_MODEL_043ed57977954459a40b8797d93b2141",
       "style": "IPY_MODEL_b6b2306b90064706b40b25685843dabf"
      }
     },
     "4eebf05bd4c44ba3824aa9a4752c2e23": {
      "model_module": "@jupyter-widgets/base",
      "model_module_version": "1.2.0",
      "model_name": "LayoutModel",
      "state": {}
     },
     "4f207c91fc7947639a6a93653145121b": {
      "model_module": "@jupyter-widgets/controls",
      "model_module_version": "1.5.0",
      "model_name": "ButtonStyleModel",
      "state": {}
     },
     "4f4932059d504b78b457181b757a626b": {
      "model_module": "@jupyter-widgets/controls",
      "model_module_version": "1.5.0",
      "model_name": "VBoxModel",
      "state": {
       "children": [
        "IPY_MODEL_61aa6fd634f1485ebd1b4b57073ecbcb",
        "IPY_MODEL_a849c46145564d53b577c269a841604f"
       ],
       "layout": "IPY_MODEL_373854ad31cc492aadd14171cc8eb67b"
      }
     },
     "4fe640069a2c4932b6564b8a9f0ee2aa": {
      "model_module": "@jupyter-widgets/base",
      "model_module_version": "1.2.0",
      "model_name": "LayoutModel",
      "state": {
       "display": "none",
       "width": "auto"
      }
     },
     "4ff6dc601aab46479288fcffae5a95c6": {
      "model_module": "@jupyter-widgets/controls",
      "model_module_version": "1.5.0",
      "model_name": "VBoxModel",
      "state": {
       "children": [
        "IPY_MODEL_1887cebc9e67429a8df99a65ed9254ba",
        "IPY_MODEL_5f124b946670457d8cc241765e1de270",
        "IPY_MODEL_cf42d597ebbc4fe5897f5e65bd4ff34a"
       ],
       "layout": "IPY_MODEL_1a4aad2da6d44535b431feb9f232b4b3"
      }
     },
     "500044a183454f4b8b547711dfd3d7c4": {
      "model_module": "@jupyter-widgets/controls",
      "model_module_version": "1.5.0",
      "model_name": "CheckboxModel",
      "state": {
       "description": "Geoscience ANALYST Pro - Live link",
       "disabled": false,
       "indent": false,
       "layout": "IPY_MODEL_897191bc1e5741c88d2d7a26ef85b5d7",
       "style": "IPY_MODEL_ac33493d723b483093beecad4477f892",
       "value": false
      }
     },
     "50260b6f4e6b44598d2e01a1cd66051c": {
      "model_module": "@jupyter-widgets/base",
      "model_module_version": "1.2.0",
      "model_name": "LayoutModel",
      "state": {}
     },
     "50b578d06b1943ea941a15e38d9601a2": {
      "model_module": "@jupyter-widgets/base",
      "model_module_version": "1.2.0",
      "model_name": "LayoutModel",
      "state": {
       "width": "auto"
      }
     },
     "5154af184f50482491ced6db7dcb5597": {
      "model_module": "@jupyter-widgets/base",
      "model_module_version": "1.2.0",
      "model_name": "LayoutModel",
      "state": {}
     },
     "5159a283c5c94a2ea21e9799402e7ad2": {
      "model_module": "@jupyter-widgets/controls",
      "model_module_version": "1.5.0",
      "model_name": "GridBoxModel",
      "state": {
       "children": [
        "IPY_MODEL_e0cf6ac96e2844dc8b68642d44c178aa",
        "IPY_MODEL_94205567e6fa4ac4a1103ddb6a93c776",
        "IPY_MODEL_16003f6dfc8d410d80db8c1255a69ff4"
       ],
       "layout": "IPY_MODEL_1bbbdc88415b41349a6ce51d474cdd86"
      }
     },
     "51683a9fcca14535ace1e05cbf00122a": {
      "model_module": "@jupyter-widgets/controls",
      "model_module_version": "1.5.0",
      "model_name": "HTMLModel",
      "state": {
       "layout": "IPY_MODEL_cf4572e8d2f4478f820b681b89d62411",
       "placeholder": "",
       "style": "IPY_MODEL_f6b3bbd921e9419ebcd36ee71c2a4176",
       "value": "<span style=\"margin-left:10px; color:orange;\">C:\\Users\\dominiquef\\Documents\\GIT\\mira\\mirageoscience-apps\\assets\\FlinFlon.geoh5</span>"
      }
     },
     "51eb0762cb42498689f830fc41edf275": {
      "model_module": "@jupyter-widgets/base",
      "model_module_version": "1.2.0",
      "model_name": "LayoutModel",
      "state": {}
     },
     "5203dcf029c244748a52dd1e5249ee66": {
      "model_module": "@jupyter-widgets/controls",
      "model_module_version": "1.5.0",
      "model_name": "DescriptionStyleModel",
      "state": {
       "description_width": ""
      }
     },
     "5212fb21b2e245748afad444be0e2002": {
      "model_module": "@jupyter-widgets/controls",
      "model_module_version": "1.5.0",
      "model_name": "DescriptionStyleModel",
      "state": {
       "description_width": ""
      }
     },
     "5250a2291a584395ba647298caa328d7": {
      "model_module": "@jupyter-widgets/controls",
      "model_module_version": "1.5.0",
      "model_name": "ButtonStyleModel",
      "state": {}
     },
     "526bb7143eb74141b88593053cf8b0da": {
      "model_module": "@jupyter-widgets/base",
      "model_module_version": "1.2.0",
      "model_name": "LayoutModel",
      "state": {
       "width": "auto"
      }
     },
     "527cc8f971ae4ddbbd7e5b60782c8c7b": {
      "model_module": "@jupyter-widgets/controls",
      "model_module_version": "1.5.0",
      "model_name": "ButtonModel",
      "state": {
       "button_style": "danger",
       "description": "Compute",
       "icon": "check",
       "layout": "IPY_MODEL_69eaef59a95747b299a35cf139ed5058",
       "style": "IPY_MODEL_10c3d16bb2a445c8959e65ee4c466117",
       "tooltip": "Run computation"
      }
     },
     "528765adf91c49de969d0ee19b5c4aef": {
      "model_module": "@jupyter-widgets/controls",
      "model_module_version": "1.5.0",
      "model_name": "DescriptionStyleModel",
      "state": {
       "description_width": "initial"
      }
     },
     "529ae60b74674e74bd468873d8abc025": {
      "model_module": "@jupyter-widgets/controls",
      "model_module_version": "1.5.0",
      "model_name": "LabelModel",
      "state": {
       "layout": "IPY_MODEL_abad4c67726f4dd295d8fd61bd918021",
       "style": "IPY_MODEL_208aac2c683e47bd8183690560508b44",
       "value": "Workspace"
      }
     },
     "52f09aa1192f4797821dc3ef7b3344bb": {
      "model_module": "@jupyter-widgets/base",
      "model_module_version": "1.2.0",
      "model_name": "LayoutModel",
      "state": {
       "display": "none",
       "grid_gap": "0px 0px",
       "grid_template_areas": "\n                    'pathlist filename'\n                    'dircontent dircontent'\n                    ",
       "grid_template_columns": "60% 40%",
       "grid_template_rows": "auto auto",
       "width": "500px"
      }
     },
     "533f1881450f4335b9cc1f9f01738f19": {
      "model_module": "@jupyter-widgets/base",
      "model_module_version": "1.2.0",
      "model_name": "LayoutModel",
      "state": {}
     },
     "53bd5f0e000045b18f6159aaec3edc4e": {
      "model_module": "@jupyter-widgets/controls",
      "model_module_version": "1.5.0",
      "model_name": "VBoxModel",
      "state": {
       "children": [
        "IPY_MODEL_a38f7e63baae4227abb9994bda18a4a9"
       ],
       "layout": "IPY_MODEL_f0d6e2413dce4029a54c91542ebec88d"
      }
     },
     "546a41153a2f429bbc02ca519c5ae579": {
      "model_module": "@jupyter-widgets/controls",
      "model_module_version": "1.5.0",
      "model_name": "DescriptionStyleModel",
      "state": {
       "description_width": ""
      }
     },
     "547e46a33c654da88d0affe711f554a7": {
      "model_module": "@jupyter-widgets/controls",
      "model_module_version": "1.5.0",
      "model_name": "DescriptionStyleModel",
      "state": {
       "description_width": "initial"
      }
     },
     "548b1930f42e4e09aaa55345ebece949": {
      "model_module": "@jupyter-widgets/base",
      "model_module_version": "1.2.0",
      "model_name": "LayoutModel",
      "state": {}
     },
     "54c4f869d8c74cf8a6084ee8c496535e": {
      "model_module": "@jupyter-widgets/controls",
      "model_module_version": "1.5.0",
      "model_name": "CheckboxModel",
      "state": {
       "description": "Geoscience ANALYST Pro - Live link",
       "disabled": false,
       "indent": false,
       "layout": "IPY_MODEL_f963314028764846b5ea11971b96f22a",
       "style": "IPY_MODEL_85e87f53c8b3496a8aa8c1695452b79f",
       "value": false
      }
     },
     "54ec0277016341f2a8190172508a6485": {
      "model_module": "@jupyter-widgets/base",
      "model_module_version": "1.2.0",
      "model_name": "LayoutModel",
      "state": {}
     },
     "54ed69f1a4864a6d92bcb5fbd8dd7a1f": {
      "model_module": "@jupyter-widgets/controls",
      "model_module_version": "1.5.0",
      "model_name": "ButtonModel",
      "state": {
       "description": "Cancel",
       "layout": "IPY_MODEL_0a74887d252a4cb6a9bd34b654f2b1d3",
       "style": "IPY_MODEL_0721fabb1357442697c4a5a01bf7ff4c"
      }
     },
     "5596e47523ee420984f446d2c63eaade": {
      "model_module": "@jupyter-widgets/controls",
      "model_module_version": "1.5.0",
      "model_name": "TextareaModel",
      "state": {
       "description": "<=> WKT",
       "layout": "IPY_MODEL_3e7879f20b5b4caf9e0650f8ae1e2a9e",
       "style": "IPY_MODEL_18ea4c111137468caf63365f7b2144f4",
       "value": "GEOGCS[\"WGS 84\",DATUM[\"WGS_1984\",SPHEROID[\"WGS 84\",6378137,298.257223563,AUTHORITY[\"EPSG\",\"7030\"]],AUTHORITY[\"EPSG\",\"6326\"]],PRIMEM[\"Greenwich\",0,AUTHORITY[\"EPSG\",\"8901\"]],UNIT[\"degree\",0.0174532925199433,AUTHORITY[\"EPSG\",\"9122\"]],AXIS[\"Latitude\",NORTH],AXIS[\"Longitude\",EAST],AUTHORITY[\"EPSG\",\"4326\"]]"
      }
     },
     "5598a20c3ba04243a521824e878be370": {
      "model_module": "@jupyter-widgets/controls",
      "model_module_version": "1.5.0",
      "model_name": "DropdownModel",
      "state": {
       "_options_labels": [
        "C:\\Users\\dominiquef\\Documents\\GIT\\mira\\mirageoscience-apps\\assets",
        "C:\\Users\\dominiquef\\Documents\\GIT\\mira\\mirageoscience-apps",
        "C:\\Users\\dominiquef\\Documents\\GIT\\mira",
        "C:\\Users\\dominiquef\\Documents\\GIT",
        "C:\\Users\\dominiquef\\Documents",
        "C:\\Users\\dominiquef",
        "C:\\Users",
        "C:\\",
        "D:\\",
        "Z:\\"
       ],
       "index": 0,
       "layout": "IPY_MODEL_2691af93fc714cf2b292f31137667263",
       "style": "IPY_MODEL_df631e90f51a49a2b91e59700fdf2116"
      }
     },
     "55b43df6f8cd452f88652affaaf4ec67": {
      "model_module": "@jupyter-widgets/controls",
      "model_module_version": "1.5.0",
      "model_name": "VBoxModel",
      "state": {
       "children": [
        "IPY_MODEL_c29d97bee1ee44f8904b5e1e42c46bee",
        "IPY_MODEL_08dc007de9894573b2f1ae9ad7d3b565"
       ],
       "layout": "IPY_MODEL_bc1f38fc10ba445f91e217acba830a17"
      }
     },
     "55bbc9c2a3c74e2caf4407d4a43f23eb": {
      "model_module": "@jupyter-widgets/controls",
      "model_module_version": "1.5.0",
      "model_name": "TextModel",
      "state": {
       "disabled": true,
       "layout": "IPY_MODEL_6d3c0709748547769d75c8d83a6d7b2e",
       "placeholder": "output filename",
       "style": "IPY_MODEL_4bdd41ebd8fe4025886406086ae417a8"
      }
     },
     "55c37d5237554d559beca5f668079593": {
      "model_module": "@jupyter-widgets/base",
      "model_module_version": "1.2.0",
      "model_name": "LayoutModel",
      "state": {
       "grid_area": "pathlist",
       "width": "auto"
      }
     },
     "55c66ebe9b0441a2a8eea9c7244cb4c6": {
      "model_module": "@jupyter-widgets/controls",
      "model_module_version": "1.5.0",
      "model_name": "DescriptionStyleModel",
      "state": {
       "description_width": ""
      }
     },
     "55c706b86f2346fcad24e682ab840f43": {
      "model_module": "@jupyter-widgets/base",
      "model_module_version": "1.2.0",
      "model_name": "LayoutModel",
      "state": {
       "grid_area": "pathlist",
       "width": "auto"
      }
     },
     "55f0bf09a64a49a6bc0012d74a92e9ce": {
      "model_module": "@jupyter-widgets/controls",
      "model_module_version": "1.5.0",
      "model_name": "ButtonStyleModel",
      "state": {}
     },
     "5616d4739e814348b2a1edfac87e7565": {
      "model_module": "@jupyter-widgets/base",
      "model_module_version": "1.2.0",
      "model_name": "LayoutModel",
      "state": {}
     },
     "562e88a0ff1041c4b7758877da91d24f": {
      "model_module": "@jupyter-widgets/controls",
      "model_module_version": "1.5.0",
      "model_name": "TextareaModel",
      "state": {
       "description": "<=> WKT",
       "layout": "IPY_MODEL_604161467a4448a6b0428c305e047c4b",
       "style": "IPY_MODEL_661d4917a5e348f78770091e5daee872",
       "value": "PROJCS[\"NAD83 / UTM zone 14N\",GEOGCS[\"NAD83\",DATUM[\"North_American_Datum_1983\",SPHEROID[\"GRS 1980\",6378137,298.257222101,AUTHORITY[\"EPSG\",\"7019\"]],AUTHORITY[\"EPSG\",\"6269\"]],PRIMEM[\"Greenwich\",0,AUTHORITY[\"EPSG\",\"8901\"]],UNIT[\"degree\",0.0174532925199433,AUTHORITY[\"EPSG\",\"9122\"]],AUTHORITY[\"EPSG\",\"4269\"]],PROJECTION[\"Transverse_Mercator\"],PARAMETER[\"latitude_of_origin\",0],PARAMETER[\"central_meridian\",-99],PARAMETER[\"scale_factor\",0.9996],PARAMETER[\"false_easting\",500000],PARAMETER[\"false_northing\",0],UNIT[\"metre\",1,AUTHORITY[\"EPSG\",\"9001\"]],AXIS[\"Easting\",EAST],AXIS[\"Northing\",NORTH],AUTHORITY[\"EPSG\",\"26914\"]]"
      }
     },
     "5630102b17a64e69b4e508da614d0879": {
      "model_module": "@jupyter-widgets/controls",
      "model_module_version": "1.5.0",
      "model_name": "HTMLModel",
      "state": {
       "layout": "IPY_MODEL_d77805b2fed84728947da93305f7fbc2",
       "placeholder": "",
       "style": "IPY_MODEL_0a0e959fa0094e0f81cad79c63b42f05",
       "value": "<span style=\"margin-left:10px; color:black;\">No file selected</span>"
      }
     },
     "569be3cf5150496b8a5d1096fa5864be": {
      "model_module": "@jupyter-widgets/base",
      "model_module_version": "1.2.0",
      "model_name": "LayoutModel",
      "state": {}
     },
     "569f6a5b3fbf4c01af17db3987a0087f": {
      "model_module": "@jupyter-widgets/controls",
      "model_module_version": "1.5.0",
      "model_name": "DescriptionStyleModel",
      "state": {
       "description_width": "initial"
      }
     },
     "56af31491d6c4f759c670d5c78c791fc": {
      "model_module": "@jupyter-widgets/controls",
      "model_module_version": "1.5.0",
      "model_name": "VBoxModel",
      "state": {
       "children": [
        "IPY_MODEL_500044a183454f4b8b547711dfd3d7c4"
       ],
       "layout": "IPY_MODEL_fb7be9d9014b4b92bd739fa76d8b5fa8"
      }
     },
     "5724380485ab47debb0fcfce437fcdb8": {
      "model_module": "@jupyter-widgets/base",
      "model_module_version": "1.2.0",
      "model_name": "LayoutModel",
      "state": {}
     },
     "5772eb7f3a6b43a184f40241d7cd0229": {
      "model_module": "@jupyter-widgets/controls",
      "model_module_version": "1.5.0",
      "model_name": "HTMLModel",
      "state": {
       "layout": "IPY_MODEL_7ced9fc931764d21878ea7dd6809bf0e",
       "style": "IPY_MODEL_0e9fe3c087f4496d88694a63c88dd540"
      }
     },
     "578a17da8f244cb8978101411baf3352": {
      "model_module": "@jupyter-widgets/controls",
      "model_module_version": "1.5.0",
      "model_name": "DescriptionStyleModel",
      "state": {
       "description_width": ""
      }
     },
     "57eb19841eaa4d19b14f1ae773335ecc": {
      "model_module": "@jupyter-widgets/controls",
      "model_module_version": "1.5.0",
      "model_name": "HTMLModel",
      "state": {
       "layout": "IPY_MODEL_ba4167e9d9b8406fb184a13736a246ad",
       "placeholder": "",
       "style": "IPY_MODEL_deb02449b6624c64943d4a9bbc5eb1cd",
       "value": "<span style=\"margin-left:10px; color:black;\">No file selected</span>"
      }
     },
     "57fa39f7fca344f3988d6f9adeafb58c": {
      "model_module": "@jupyter-widgets/controls",
      "model_module_version": "1.5.0",
      "model_name": "DescriptionStyleModel",
      "state": {
       "description_width": ""
      }
     },
     "5823712eb04b4a5092de9536dd9a26fb": {
      "model_module": "@jupyter-widgets/controls",
      "model_module_version": "1.5.0",
      "model_name": "DescriptionStyleModel",
      "state": {
       "description_width": ""
      }
     },
     "5888b10f68a546a090667db83de26d86": {
      "model_module": "@jupyter-widgets/base",
      "model_module_version": "1.2.0",
      "model_name": "LayoutModel",
      "state": {
       "grid_area": "pathlist",
       "width": "auto"
      }
     },
     "58aec22df3b7499ab27cac747b1850c0": {
      "model_module": "@jupyter-widgets/controls",
      "model_module_version": "1.5.0",
      "model_name": "VBoxModel",
      "state": {
       "children": [
        "IPY_MODEL_8b9b6630068a4f56971e162ee8539661",
        "IPY_MODEL_7dc0b419a8b740999e73e2d8cd09c51c",
        "IPY_MODEL_da7a2391e908450089f7390d48e15ac9",
        "IPY_MODEL_6742ab2674114d77b0e2c0a56fbea620",
        "IPY_MODEL_a4d538d7ddd44dbbb2bd0f001463c0ce"
       ],
       "layout": "IPY_MODEL_63c2ac5b9e434342a3ee8a76433b5aa8"
      }
     },
     "58d2f2f561b344bda91696d1c7bd3d36": {
      "model_module": "@jupyter-widgets/controls",
      "model_module_version": "1.5.0",
      "model_name": "VBoxModel",
      "state": {
       "children": [
        "IPY_MODEL_c63f116fc4ce4f3fa3234830b9272634",
        "IPY_MODEL_5159a283c5c94a2ea21e9799402e7ad2",
        "IPY_MODEL_76eddb6215ac4c34a160a49f0a1c27a6"
       ],
       "layout": "IPY_MODEL_7253ffa74d5c4ffc9a8edf3db9eff862"
      }
     },
     "58d7620196be4e208fa3f55e2dc5200c": {
      "model_module": "@jupyter-widgets/base",
      "model_module_version": "1.2.0",
      "model_name": "LayoutModel",
      "state": {
       "display": "none"
      }
     },
     "58fe515821e8429094212164b79c1c44": {
      "model_module": "@jupyter-widgets/controls",
      "model_module_version": "1.5.0",
      "model_name": "TextModel",
      "state": {
       "continuous_update": false,
       "description": "Input Projection:",
       "layout": "IPY_MODEL_3be13cbc770441bf8a7e927f66c6361d",
       "style": "IPY_MODEL_c3033d4b08da4be28ad3da2ed705b936",
       "value": "EPSG:26914"
      }
     },
     "5974198f87cc469dbdc1ad88e9378373": {
      "model_module": "@jupyter-widgets/base",
      "model_module_version": "1.2.0",
      "model_name": "LayoutModel",
      "state": {}
     },
     "5a30b67e8e694720860a04eb27258a8c": {
      "model_module": "@jupyter-widgets/controls",
      "model_module_version": "1.5.0",
      "model_name": "HBoxModel",
      "state": {
       "children": [
        "IPY_MODEL_f11fd51fe9e94d04bde569d49de9210d",
        "IPY_MODEL_49eeb0ed332f42779a95c6617531466e"
       ],
       "layout": "IPY_MODEL_3dac06a0e78f48809e37eaca139daa7f"
      }
     },
     "5a4a0a5dd8b945a2a468dd7d80a71e32": {
      "model_module": "@jupyter-widgets/base",
      "model_module_version": "1.2.0",
      "model_name": "LayoutModel",
      "state": {
       "display": "none"
      }
     },
     "5a5070a47fd940c49295455c339e6ef2": {
      "model_module": "@jupyter-widgets/controls",
      "model_module_version": "1.5.0",
      "model_name": "TextModel",
      "state": {
       "disabled": true,
       "layout": "IPY_MODEL_1f82535302284f6da3999cc1025e5119",
       "placeholder": "output filename",
       "style": "IPY_MODEL_a27b88c41c40421ca7519be8132481bd"
      }
     },
     "5a6c2c1a5bfb4865b1bf0d558ecce205": {
      "model_module": "@jupyter-widgets/controls",
      "model_module_version": "1.5.0",
      "model_name": "DescriptionStyleModel",
      "state": {
       "description_width": "initial"
      }
     },
     "5aac231f4c5f4dd8925450ac66eecaa2": {
      "model_module": "@jupyter-widgets/base",
      "model_module_version": "1.2.0",
      "model_name": "LayoutModel",
      "state": {}
     },
     "5ae1025567ac45ccbca2f9b82957d007": {
      "model_module": "@jupyter-widgets/base",
      "model_module_version": "1.2.0",
      "model_name": "LayoutModel",
      "state": {}
     },
     "5b0fb23dde1542caaf65cbee5f959ca0": {
      "model_module": "@jupyter-widgets/base",
      "model_module_version": "1.2.0",
      "model_name": "LayoutModel",
      "state": {}
     },
     "5b60941dbbe64ea3a64b2048871c74fa": {
      "model_module": "@jupyter-widgets/controls",
      "model_module_version": "1.5.0",
      "model_name": "DescriptionStyleModel",
      "state": {
       "description_width": ""
      }
     },
     "5b77b8c2acaf4e29967df9f18a979319": {
      "model_module": "@jupyter-widgets/controls",
      "model_module_version": "1.5.0",
      "model_name": "ButtonStyleModel",
      "state": {}
     },
     "5b7f80949340457d987e6c439218fae9": {
      "model_module": "@jupyter-widgets/base",
      "model_module_version": "1.2.0",
      "model_name": "LayoutModel",
      "state": {
       "display": "none",
       "grid_area": "filename",
       "width": "auto"
      }
     },
     "5bbf7a00c3704f2c8d970d060a6beaf6": {
      "model_module": "@jupyter-widgets/base",
      "model_module_version": "1.2.0",
      "model_name": "LayoutModel",
      "state": {}
     },
     "5c020581630b4065abce2dc64889bca3": {
      "model_module": "@jupyter-widgets/controls",
      "model_module_version": "1.5.0",
      "model_name": "VBoxModel",
      "state": {
       "children": [
        "IPY_MODEL_9574020cdd1246ee8ce577e4907125f9",
        "IPY_MODEL_48c05d2d4bbb441da2505d84d7f9db1a",
        "IPY_MODEL_95066f6cef174e7499e12dbb195dae26",
        "IPY_MODEL_1edf9058ed4b4b788f3fc56a27e7d51f",
        "IPY_MODEL_fc2b6418a80b4965aac0354ad135fbc1"
       ],
       "layout": "IPY_MODEL_4356106817cd45178cde14fb0e11e458"
      }
     },
     "5c8f6901994447b1a9b909c6a326c523": {
      "model_module": "@jupyter-widgets/controls",
      "model_module_version": "1.5.0",
      "model_name": "DescriptionStyleModel",
      "state": {
       "description_width": ""
      }
     },
     "5c961d34a368403fb722596a278bbca0": {
      "model_module": "@jupyter-widgets/controls",
      "model_module_version": "1.5.0",
      "model_name": "DescriptionStyleModel",
      "state": {
       "description_width": "initial"
      }
     },
     "5c9d5b33950b48e4bc8d0aabe2b4b877": {
      "model_module": "@jupyter-widgets/base",
      "model_module_version": "1.2.0",
      "model_name": "LayoutModel",
      "state": {
       "display": "none"
      }
     },
     "5cb4d19a25834f95810e3b384a2dac6b": {
      "model_module": "@jupyter-widgets/controls",
      "model_module_version": "1.5.0",
      "model_name": "DescriptionStyleModel",
      "state": {
       "description_width": ""
      }
     },
     "5cd043eecc8b455da74bc7897a2e41f8": {
      "model_module": "@jupyter-widgets/controls",
      "model_module_version": "1.5.0",
      "model_name": "HBoxModel",
      "state": {
       "children": [
        "IPY_MODEL_d1e543c6512d463e82e75e523b431fa9",
        "IPY_MODEL_562e88a0ff1041c4b7758877da91d24f"
       ],
       "layout": "IPY_MODEL_96056ec77b2645b487afe324a00518e0"
      }
     },
     "5d89d6e7e317490a9a3027cf17244aa5": {
      "model_module": "@jupyter-widgets/base",
      "model_module_version": "1.2.0",
      "model_name": "LayoutModel",
      "state": {
       "width": "50%"
      }
     },
     "5da14093844b45a983cb5bd02b899af4": {
      "model_module": "@jupyter-widgets/base",
      "model_module_version": "1.2.0",
      "model_name": "LayoutModel",
      "state": {}
     },
     "5da84459d41b48f297e6150f4e5407bf": {
      "model_module": "@jupyter-widgets/controls",
      "model_module_version": "1.5.0",
      "model_name": "TextModel",
      "state": {
       "layout": "IPY_MODEL_300b879f92a34348b926b50ce337efe6",
       "placeholder": "output filename",
       "style": "IPY_MODEL_a0a43338e4874fc5bdeea860508ce37b",
       "value": "FlinFlon.geoh5"
      }
     },
     "5dbde7547d6a4b9d8dd79e64ca682324": {
      "model_module": "@jupyter-widgets/controls",
      "model_module_version": "1.5.0",
      "model_name": "VBoxModel",
      "state": {
       "children": [
        "IPY_MODEL_265e67ece8bd4be88f650a88198667d6"
       ],
       "layout": "IPY_MODEL_d2ac3ba6bbbc43d49e73a66f77407b8a"
      }
     },
     "5def4eac406b496caaaac28ea9ce5092": {
      "model_module": "@jupyter-widgets/base",
      "model_module_version": "1.2.0",
      "model_name": "LayoutModel",
      "state": {}
     },
     "5eb70b77042e4cb8b64837164830d994": {
      "model_module": "@jupyter-widgets/controls",
      "model_module_version": "1.5.0",
      "model_name": "ButtonStyleModel",
      "state": {}
     },
     "5f124b946670457d8cc241765e1de270": {
      "model_module": "@jupyter-widgets/controls",
      "model_module_version": "1.5.0",
      "model_name": "GridBoxModel",
      "state": {
       "children": [
        "IPY_MODEL_72955b0e3e4040a3ae84c6e7d160c9b2",
        "IPY_MODEL_418572c4b1c14030a54aad073b29985d",
        "IPY_MODEL_ebd959445fde478c8f18a1e9a1ff87f4"
       ],
       "layout": "IPY_MODEL_493596585843444dbb6c0ac36e027bbc"
      }
     },
     "5f306112ffe646ccbce26a19e9519e39": {
      "model_module": "@jupyter-widgets/controls",
      "model_module_version": "1.5.0",
      "model_name": "DescriptionStyleModel",
      "state": {
       "description_width": "initial"
      }
     },
     "5fcf484c71f541e0a019d3139dd1ea04": {
      "model_module": "@jupyter-widgets/controls",
      "model_module_version": "1.5.0",
      "model_name": "DescriptionStyleModel",
      "state": {
       "description_width": ""
      }
     },
     "6004adc369d64470a8210328d037888f": {
      "model_module": "@jupyter-widgets/controls",
      "model_module_version": "1.5.0",
      "model_name": "DescriptionStyleModel",
      "state": {
       "description_width": "initial"
      }
     },
     "600d6d7a179546afb3b34560607ead55": {
      "model_module": "@jupyter-widgets/controls",
      "model_module_version": "1.5.0",
      "model_name": "TextModel",
      "state": {
       "continuous_update": false,
       "description": "Output Projection:",
       "layout": "IPY_MODEL_aad9b2c362394edfa76b5943f30e39df",
       "style": "IPY_MODEL_f9fe738c244f43029f4ac66020a43bc9",
       "value": "EPSG:4326"
      }
     },
     "604161467a4448a6b0428c305e047c4b": {
      "model_module": "@jupyter-widgets/base",
      "model_module_version": "1.2.0",
      "model_name": "LayoutModel",
      "state": {
       "width": "50%"
      }
     },
     "60772f0697b64534b55f8dcaceb6d396": {
      "model_module": "@jupyter-widgets/controls",
      "model_module_version": "1.5.0",
      "model_name": "ToggleButtonModel",
      "state": {
       "layout": "IPY_MODEL_356692f4e98a404eb923eeae84eb4b16",
       "style": "IPY_MODEL_a065d04c809b4c32885710267b6392bf"
      }
     },
     "6085efb5e7584a29a8e5269b6f035db0": {
      "model_module": "@jupyter-widgets/controls",
      "model_module_version": "1.5.0",
      "model_name": "VBoxModel",
      "state": {
       "children": [
        "IPY_MODEL_a593e2dca1ba441fbf40b16927e5aa1b",
        "IPY_MODEL_238e682b855541aebd5888a32700680b",
        "IPY_MODEL_7c90f28c251d4abfa38ac1911f190890"
       ],
       "layout": "IPY_MODEL_526bb7143eb74141b88593053cf8b0da"
      }
     },
     "608723897240409e854ecf0091480f27": {
      "model_module": "@jupyter-widgets/base",
      "model_module_version": "1.2.0",
      "model_name": "LayoutModel",
      "state": {
       "display": "none"
      }
     },
     "60a1fb7fa2ab40f48446c0d6fef3665a": {
      "model_module": "@jupyter-widgets/base",
      "model_module_version": "1.2.0",
      "model_name": "LayoutModel",
      "state": {}
     },
     "60b3005f0a5f430092c643f193de3592": {
      "model_module": "@jupyter-widgets/controls",
      "model_module_version": "1.5.0",
      "model_name": "DescriptionStyleModel",
      "state": {
       "description_width": "initial"
      }
     },
     "60e27996cace4f88b2fa2d8f87040ca3": {
      "model_module": "@jupyter-widgets/base",
      "model_module_version": "1.2.0",
      "model_name": "LayoutModel",
      "state": {
       "display": "none"
      }
     },
     "611530f52d984f81a4f5a85df83d864c": {
      "model_module": "@jupyter-widgets/controls",
      "model_module_version": "1.5.0",
      "model_name": "VBoxModel",
      "state": {
       "children": [
        "IPY_MODEL_246af92a85c74146a6f20c4531fb683b",
        "IPY_MODEL_f885262673664e62bdfc0fff4b47e3fe"
       ],
       "layout": "IPY_MODEL_eecffef37b6f4e8eab7258dec4be1bf2"
      }
     },
     "61aa6fd634f1485ebd1b4b57073ecbcb": {
      "model_module": "@jupyter-widgets/controls",
      "model_module_version": "1.5.0",
      "model_name": "LabelModel",
      "state": {
       "layout": "IPY_MODEL_c30f1b89103b41f8abdffd79291ea41e",
       "style": "IPY_MODEL_69610850eb00478fa01370cf8606de20",
       "value": "Monitoring folder"
      }
     },
     "61b1f6e0d8a7485bb25e85eb4792252d": {
      "model_module": "@jupyter-widgets/controls",
      "model_module_version": "1.5.0",
      "model_name": "DescriptionStyleModel",
      "state": {
       "description_width": ""
      }
     },
     "61ed0193657446d38ce8825b8f89208a": {
      "model_module": "@jupyter-widgets/controls",
      "model_module_version": "1.5.0",
      "model_name": "ButtonStyleModel",
      "state": {}
     },
     "61f7579b1f584d0bbfabd80dc753e4cb": {
      "model_module": "@jupyter-widgets/controls",
      "model_module_version": "1.5.0",
      "model_name": "HBoxModel",
      "state": {
       "children": [
        "IPY_MODEL_9b32df71d26e41d4bc8cc348955c029d",
        "IPY_MODEL_b0a88dcfe29142418e16ab13b456fbb5",
        "IPY_MODEL_51683a9fcca14535ace1e05cbf00122a"
       ],
       "layout": "IPY_MODEL_7c93c938cdff4f0c83bd2373b3be8703"
      }
     },
     "620462e514bb46e9a73128b4d17bebec": {
      "model_module": "@jupyter-widgets/controls",
      "model_module_version": "1.5.0",
      "model_name": "SelectModel",
      "state": {
       "_options_labels": [
        "..",
        "dask-worker-space",
        "images"
       ],
       "index": null,
       "layout": "IPY_MODEL_63481696bc04486ebabcf2d8874ee9b4",
       "rows": 8,
       "style": "IPY_MODEL_28255dd8698c44c3912f41c7316b41cf"
      }
     },
     "6249d20768b54d01b71e2bd12685bbbf": {
      "model_module": "@jupyter-widgets/controls",
      "model_module_version": "1.5.0",
      "model_name": "LabelModel",
      "state": {
       "layout": "IPY_MODEL_aef6b96309f84a3a9ab1620818e7a30c",
       "style": "IPY_MODEL_dc5291d5f52a4603a6c8ef420f220475",
       "value": "Monitoring folder"
      }
     },
     "6280f7917e374216b7b4a5bdc57c1fbf": {
      "model_module": "@jupyter-widgets/controls",
      "model_module_version": "1.5.0",
      "model_name": "VBoxModel",
      "state": {
       "children": [
        "IPY_MODEL_815bcab5ae66464f9a1d8f5fe27198e1",
        "IPY_MODEL_4ff6dc601aab46479288fcffae5a95c6"
       ],
       "layout": "IPY_MODEL_6aaed3657ecc49aab594f006fc940cee"
      }
     },
     "629ea764f06549efaf387cdeb89823af": {
      "model_module": "@jupyter-widgets/controls",
      "model_module_version": "1.5.0",
      "model_name": "DescriptionStyleModel",
      "state": {
       "description_width": "initial"
      }
     },
     "62b9b1675f434a2cb2249991a4286f28": {
      "model_module": "@jupyter-widgets/controls",
      "model_module_version": "1.5.0",
      "model_name": "DescriptionStyleModel",
      "state": {
       "description_width": "initial"
      }
     },
     "62c1f21ba6ea49fbbf358b7f4e3faa04": {
      "model_module": "@jupyter-widgets/controls",
      "model_module_version": "1.5.0",
      "model_name": "HBoxModel",
      "state": {
       "children": [
        "IPY_MODEL_946921e81b6a4c028e2c5fa398947d0b",
        "IPY_MODEL_65cbdec1db8145ef937be7b52689f0bf"
       ],
       "layout": "IPY_MODEL_4eebf05bd4c44ba3824aa9a4752c2e23"
      }
     },
     "62c2923bcd1e4e939b53c405b32ca4fa": {
      "model_module": "@jupyter-widgets/base",
      "model_module_version": "1.2.0",
      "model_name": "LayoutModel",
      "state": {
       "min_width": "6em",
       "width": "6em"
      }
     },
     "6344675d9b3c40f88f285c51b76e0ef8": {
      "model_module": "@jupyter-widgets/controls",
      "model_module_version": "1.5.0",
      "model_name": "TextModel",
      "state": {
       "continuous_update": false,
       "description": "Group:",
       "layout": "IPY_MODEL_c63c7c29fbe441f38211bc6abbe01936",
       "style": "IPY_MODEL_3fc843ddff2b46238dc42ab4c5d9bfc6",
       "value": "CoordinateTransformation"
      }
     },
     "63481696bc04486ebabcf2d8874ee9b4": {
      "model_module": "@jupyter-widgets/base",
      "model_module_version": "1.2.0",
      "model_name": "LayoutModel",
      "state": {
       "grid_area": "dircontent",
       "width": "auto"
      }
     },
     "634d5195594147b39f1abbe0a208646d": {
      "model_module": "@jupyter-widgets/controls",
      "model_module_version": "1.5.0",
      "model_name": "ButtonModel",
      "state": {
       "description": "Select",
       "layout": "IPY_MODEL_d3bc2d819da54aafb1ba89b154dea745",
       "style": "IPY_MODEL_77ad83fe2064452ca08d17394fc9920b"
      }
     },
     "63c2ac5b9e434342a3ee8a76433b5aa8": {
      "model_module": "@jupyter-widgets/base",
      "model_module_version": "1.2.0",
      "model_name": "LayoutModel",
      "state": {}
     },
     "641a83fbbcb7424aaac2b5afea6b4995": {
      "model_module": "@jupyter-widgets/base",
      "model_module_version": "1.2.0",
      "model_name": "LayoutModel",
      "state": {
       "width": "50%"
      }
     },
     "6420518e86f64424aff6aec21b278154": {
      "model_module": "@jupyter-widgets/controls",
      "model_module_version": "1.5.0",
      "model_name": "DescriptionStyleModel",
      "state": {
       "description_width": "initial"
      }
     },
     "6420d94e53d9418d881cc5a53d10697c": {
      "model_module": "@jupyter-widgets/controls",
      "model_module_version": "1.5.0",
      "model_name": "LabelModel",
      "state": {
       "layout": "IPY_MODEL_3492fd5848c742f68cee0bb2d52af38f",
       "style": "IPY_MODEL_7733f02ea70b44b0b1a328ff4a3a1d73",
       "value": "Workspace"
      }
     },
     "64579e9b2db64c8d8e96aa88fab296b1": {
      "model_module": "@jupyter-widgets/controls",
      "model_module_version": "1.5.0",
      "model_name": "SelectMultipleModel",
      "state": {
       "_options_labels": [
        "",
        "fault_splay1",
        "fault_Cliff_Lake",
        "fault_Other_FlinFlon",
        "fault_Club_Lake_splay",
        "fault_Catherine_splay2",
        "fault_Birch_View",
        "fault_Dion_Lake",
        "fault_FlinFlon_splay",
        "fault_West_Mandy_Road",
        "fault_Channing",
        "fault_Ross_Lake",
        "fault_Louis_Hidden",
        "fault_Lake_View_thrust",
        "contact_Schist_Lake",
        "fault_Burley_Lake",
        "fault_Dion_Lake_splay",
        "fault_Green_Lake",
        "fault_FlinFlon",
        "fault_Catherine_splay1",
        "fault_East_Mandy_Road",
        "fault_Other_FlinFlon_South",
        "fault_Catherine_splay4",
        "contact_Stitt_Island",
        "fault_Club_Lake",
        "fault_Tailing_Pond",
        "35_Hidden_Reservoir_Hr5",
        "29_Hidden_Reservoir_Hr1a",
        "60_BlueLagoon_Fb2",
        "20_FlinFlon_Undivided_Int_Dykes_D2f",
        "04_Boundary_Intrusive_S4h",
        "53_Millrock_Rhyolite_Fm4b",
        "19_FlinFlon_Undivided_Int_Dykes_D2b",
        "18_FlinFlon_Undivided_Int_Dykes_777_D2b",
        "06_Phantom_Lake_Intrusive_S3a",
        "21_FlinFlon_Undivided_Int_Dykes_D3a",
        "43_Millrock_CHLSH_South",
        "56_Millrock_Basalt_Fm1ba",
        "17_FlinFlon_Undivided_Int_Dykes_D2",
        "32_Hidden_Reservoir_Hr1b_SW",
        "11_Missi_M3_NE",
        "13_Missi_M1",
        "07_Annabel_Granitoid_S1",
        "45_Millrock_Gabbro_South",
        "01_Late_Intrusive_S5b",
        "31_Hidden_Reservoir_Hr1c_SW",
        "52_Millrock_Rhyolite_Fm4_West_check",
        "55_Millrock_Basalt_Fm1bf",
        "34_Hidden_Reservoir_Hr2b",
        "03_Boundary_Intrusive_S4b",
        "42_Millrock_CHLSH_North",
        "26_Louis_L3",
        "23_FlinFlon_Undivided_Int_Felsic_D4g",
        "30_Hidden_Reservoir_Hr1b",
        "59_BlueLagoon_Fb3",
        "49_Millrock_MVR_Fm5d",
        "44_Millrock_Gabbro_North",
        "27_Hidden_Carlisle_Hc4",
        "22_FlinFlon_Undivided_Int_Felsic_D4e",
        "02_Boundary_Intrusive_S4a",
        "61_BlueLagoon_Fb1_NW",
        "05_Boundary_Intrusive_S4g",
        "39_Ore_Callinan",
        "38_Ore_Dan_Owens",
        "40_Ore_FlinFlon",
        "Inversion_VTEM_Model",
        "Gravity_Magnetics_drape60m",
        "CDI_VTEM_model",
        "Data_FEM_pseudo3D",
        "geochem",
        "Inversion_DIGHEM_Model",
        "Topography",
        "Data_TEM_pseudo3D",
        "Data_ZTEM"
       ],
       "description": "Object:",
       "index": [
        66,
        72
       ],
       "layout": "IPY_MODEL_a7fe38896c8a479d967035f73af4f2c0",
       "rows": 5,
       "style": "IPY_MODEL_bc50fd2309144c3da3f8e444a5b18e87"
      }
     },
     "647e7ccd10c44d6888fc7ef8990a7a8d": {
      "model_module": "@jupyter-widgets/controls",
      "model_module_version": "1.5.0",
      "model_name": "GridBoxModel",
      "state": {
       "children": [
        "IPY_MODEL_e7e3ed071915420a946b3f3fd6481da7",
        "IPY_MODEL_1ed96fc35c4e429a885c7569bbf3de43",
        "IPY_MODEL_adac8e134c894a769f00d543a628f3be"
       ],
       "layout": "IPY_MODEL_81c9dda61d984a2ea775fb8fcb2ccbee"
      }
     },
     "649382d619954979b77de20a3594025e": {
      "model_module": "@jupyter-widgets/controls",
      "model_module_version": "1.5.0",
      "model_name": "HBoxModel",
      "state": {
       "children": [
        "IPY_MODEL_1aad04c1724c4e9f963b1fae64a1d78a",
        "IPY_MODEL_baa9325dd078495e830ee3163dff4c08"
       ],
       "layout": "IPY_MODEL_38d60e70910944f585a9eefc33405a36"
      }
     },
     "64c107a08060457cab140f8e691932f1": {
      "model_module": "@jupyter-widgets/base",
      "model_module_version": "1.2.0",
      "model_name": "LayoutModel",
      "state": {
       "width": "auto"
      }
     },
     "65a0176849494eb69c06469e6618cf44": {
      "model_module": "@jupyter-widgets/controls",
      "model_module_version": "1.5.0",
      "model_name": "ButtonModel",
      "state": {
       "description": "Select",
       "layout": "IPY_MODEL_f677a1b4e471433796741f1df7fb8455",
       "style": "IPY_MODEL_28ceae6be8164ec184dd8f948116af32"
      }
     },
     "65cbdec1db8145ef937be7b52689f0bf": {
      "model_module": "@jupyter-widgets/controls",
      "model_module_version": "1.5.0",
      "model_name": "TextareaModel",
      "state": {
       "description": "<=> WKT",
       "layout": "IPY_MODEL_641a83fbbcb7424aaac2b5afea6b4995",
       "style": "IPY_MODEL_fdb9044162bf491692be674c54dd4659",
       "value": "GEOGCS[\"WGS 84\",DATUM[\"WGS_1984\",SPHEROID[\"WGS 84\",6378137,298.257223563,AUTHORITY[\"EPSG\",\"7030\"]],AUTHORITY[\"EPSG\",\"6326\"]],PRIMEM[\"Greenwich\",0,AUTHORITY[\"EPSG\",\"8901\"]],UNIT[\"degree\",0.0174532925199433,AUTHORITY[\"EPSG\",\"9122\"]],AXIS[\"Latitude\",NORTH],AXIS[\"Longitude\",EAST],AUTHORITY[\"EPSG\",\"4326\"]]"
      }
     },
     "660c4c8dcd4649e4866333e4aca29178": {
      "model_module": "@jupyter-widgets/controls",
      "model_module_version": "1.5.0",
      "model_name": "DescriptionStyleModel",
      "state": {
       "description_width": "initial"
      }
     },
     "661d4917a5e348f78770091e5daee872": {
      "model_module": "@jupyter-widgets/controls",
      "model_module_version": "1.5.0",
      "model_name": "DescriptionStyleModel",
      "state": {
       "description_width": ""
      }
     },
     "665550e23e45415290b42fa75859d5b3": {
      "model_module": "@jupyter-widgets/controls",
      "model_module_version": "1.5.0",
      "model_name": "DescriptionStyleModel",
      "state": {
       "description_width": "initial"
      }
     },
     "669faf2625b743dba35561878fe449c0": {
      "model_module": "@jupyter-widgets/base",
      "model_module_version": "1.2.0",
      "model_name": "LayoutModel",
      "state": {
       "width": "auto"
      }
     },
     "66c4c8f674544707892a33d67ac19cf9": {
      "model_module": "@jupyter-widgets/controls",
      "model_module_version": "1.5.0",
      "model_name": "HTMLModel",
      "state": {
       "layout": "IPY_MODEL_74c1798fecc04d649b3fcd87a31a5459",
       "placeholder": "",
       "style": "IPY_MODEL_910d32a3254d41a4b0f81d11d050778b",
       "value": "<span style=\"margin-left:10px; color:orange;\">C:\\Users\\dominiquef\\Documents\\GIT\\mira\\mirageoscience-apps\\assets\\FlinFlon.geoh5</span>"
      }
     },
     "670701d65d054d2fbbabf0767757948d": {
      "model_module": "@jupyter-widgets/controls",
      "model_module_version": "1.5.0",
      "model_name": "TextareaModel",
      "state": {
       "description": "<=> WKT",
       "layout": "IPY_MODEL_795b22c0fda34b4ea1be5e6295cc37e9",
       "style": "IPY_MODEL_99e2a904e05b4cb1b6147650d897268d",
       "value": "PROJCS[\"NAD83 / UTM zone 14N\",GEOGCS[\"NAD83\",DATUM[\"North_American_Datum_1983\",SPHEROID[\"GRS 1980\",6378137,298.257222101,AUTHORITY[\"EPSG\",\"7019\"]],AUTHORITY[\"EPSG\",\"6269\"]],PRIMEM[\"Greenwich\",0,AUTHORITY[\"EPSG\",\"8901\"]],UNIT[\"degree\",0.0174532925199433,AUTHORITY[\"EPSG\",\"9122\"]],AUTHORITY[\"EPSG\",\"4269\"]],PROJECTION[\"Transverse_Mercator\"],PARAMETER[\"latitude_of_origin\",0],PARAMETER[\"central_meridian\",-99],PARAMETER[\"scale_factor\",0.9996],PARAMETER[\"false_easting\",500000],PARAMETER[\"false_northing\",0],UNIT[\"metre\",1,AUTHORITY[\"EPSG\",\"9001\"]],AXIS[\"Easting\",EAST],AXIS[\"Northing\",NORTH],AUTHORITY[\"EPSG\",\"26914\"]]"
      }
     },
     "6742ab2674114d77b0e2c0a56fbea620": {
      "model_module": "@jupyter-widgets/controls",
      "model_module_version": "1.5.0",
      "model_name": "HBoxModel",
      "state": {
       "children": [
        "IPY_MODEL_600d6d7a179546afb3b34560607ead55",
        "IPY_MODEL_8e832aba78934faaafb2f140b286f48d"
       ],
       "layout": "IPY_MODEL_8b6997b7e5694820b21a766f10eed9f7"
      }
     },
     "678388045f024e71bfb5ccd416e94ef0": {
      "model_module": "@jupyter-widgets/controls",
      "model_module_version": "1.5.0",
      "model_name": "VBoxModel",
      "state": {
       "children": [
        "IPY_MODEL_c2597ef3a8ec42dcb6aead8a52adea0f",
        "IPY_MODEL_17a6d3cc3f97415ca0e9621e1e7862fe"
       ],
       "layout": "IPY_MODEL_21058900b090449a882fe48ceda1ac6c"
      }
     },
     "67d9955ac13744619097b966aed5ca27": {
      "model_module": "@jupyter-widgets/base",
      "model_module_version": "1.2.0",
      "model_name": "LayoutModel",
      "state": {
       "grid_area": "dircontent",
       "width": "auto"
      }
     },
     "6821bc0fc3a24af588109b028cea9286": {
      "model_module": "@jupyter-widgets/controls",
      "model_module_version": "1.5.0",
      "model_name": "DescriptionStyleModel",
      "state": {
       "description_width": "initial"
      }
     },
     "682a363912ae498393b7434f9eb17033": {
      "model_module": "@jupyter-widgets/base",
      "model_module_version": "1.2.0",
      "model_name": "LayoutModel",
      "state": {}
     },
     "684a330993b34c55a3f7fdfde912c27a": {
      "model_module": "@jupyter-widgets/controls",
      "model_module_version": "1.5.0",
      "model_name": "HTMLModel",
      "state": {
       "layout": "IPY_MODEL_1cfdce67e7874437b04c46fe0b99880c",
       "placeholder": "",
       "style": "IPY_MODEL_40d1df50102e48878f110f438f2fc8b5",
       "value": "<span style=\"margin-left:10px; color:orange;\">C:\\Users\\dominiquef\\Documents\\GIT\\mira\\geoapps\\assets\\FlinFlon.geoh5</span>"
      }
     },
     "686cbdd665264f22b9878e707f333192": {
      "model_module": "@jupyter-widgets/controls",
      "model_module_version": "1.5.0",
      "model_name": "VBoxModel",
      "state": {
       "children": [
        "IPY_MODEL_f3502b3296b64bf79f0469780e4aae38",
        "IPY_MODEL_b426d22d38bc4eeda9a80f74cf1e508f",
        "IPY_MODEL_0276a04d686e42e1b9552021fc5e1452",
        "IPY_MODEL_62c1f21ba6ea49fbbf358b7f4e3faa04",
        "IPY_MODEL_1db557e6496c45ce97ff2cc265e6d00c"
       ],
       "layout": "IPY_MODEL_89a9cbb6843b4d0f844cdf8af66f83ab"
      }
     },
     "688dff536f264ed6acba6f75996d1855": {
      "model_module": "@jupyter-widgets/controls",
      "model_module_version": "1.5.0",
      "model_name": "HBoxModel",
      "state": {
       "children": [
        "IPY_MODEL_c3b31bb1013a48049761ac4dc2666c90",
        "IPY_MODEL_3eed807adf1241c6ac71f9091b6ca2ea",
        "IPY_MODEL_2fcbc32d384c4b8f86a423bc471fe409"
       ],
       "layout": "IPY_MODEL_f1b533ee3bbb48749040f17e80e8a268"
      }
     },
     "68fcc3097cce4f91905195081f61fcd8": {
      "model_module": "@jupyter-widgets/base",
      "model_module_version": "1.2.0",
      "model_name": "LayoutModel",
      "state": {
       "width": "auto"
      }
     },
     "690a16ab770c4025a0eeccda648b1c0a": {
      "model_module": "@jupyter-widgets/controls",
      "model_module_version": "1.5.0",
      "model_name": "GridBoxModel",
      "state": {
       "children": [
        "IPY_MODEL_8d2a3f4266b340a6b3e24857a841372d",
        "IPY_MODEL_10415e880b094df891f70427364e0ae4",
        "IPY_MODEL_69742052427249fab851eb79b3fc9a5d"
       ],
       "layout": "IPY_MODEL_901cf82144f24e55b3472d0229f98782"
      }
     },
     "69610850eb00478fa01370cf8606de20": {
      "model_module": "@jupyter-widgets/controls",
      "model_module_version": "1.5.0",
      "model_name": "DescriptionStyleModel",
      "state": {
       "description_width": "initial"
      }
     },
     "69742052427249fab851eb79b3fc9a5d": {
      "model_module": "@jupyter-widgets/controls",
      "model_module_version": "1.5.0",
      "model_name": "SelectModel",
      "state": {
       "_options_labels": [
        "..",
        "dask-worker-space",
        "images"
       ],
       "index": null,
       "layout": "IPY_MODEL_ec6d6fb367c84b8dbf9a064cdfa919eb",
       "rows": 8,
       "style": "IPY_MODEL_b1569ce00d254297b66f6b5c33ddecf3"
      }
     },
     "69991aa484c34dea9c65bb0b70ea63a4": {
      "model_module": "@jupyter-widgets/controls",
      "model_module_version": "1.5.0",
      "model_name": "ButtonModel",
      "state": {
       "description": "Cancel",
       "layout": "IPY_MODEL_3e7da94991184e7bbbbe40ed1d97edb4",
       "style": "IPY_MODEL_e90a4ea575af42d6acc2c2421386bfb0"
      }
     },
     "69ba4c200d7f4f5aa4708cdb08d1fc73": {
      "model_module": "@jupyter-widgets/controls",
      "model_module_version": "1.5.0",
      "model_name": "DescriptionStyleModel",
      "state": {
       "description_width": "initial"
      }
     },
     "69c30098516c4622aeb36a65d02a538e": {
      "model_module": "@jupyter-widgets/controls",
      "model_module_version": "1.5.0",
      "model_name": "ButtonModel",
      "state": {
       "description": "Create copy:",
       "layout": "IPY_MODEL_ed95f1034094422f932adc92534b5681",
       "style": "IPY_MODEL_7225a7e259aa45e684f512f14abc6473"
      }
     },
     "69d111aebc5c4a0c8dd5e0294cc7bd66": {
      "model_module": "@jupyter-widgets/controls",
      "model_module_version": "1.5.0",
      "model_name": "LabelModel",
      "state": {
       "layout": "IPY_MODEL_44eec6edd5844e148825b4336dae95ab",
       "style": "IPY_MODEL_629ea764f06549efaf387cdeb89823af",
       "value": "Monitoring folder"
      }
     },
     "69eaef59a95747b299a35cf139ed5058": {
      "model_module": "@jupyter-widgets/base",
      "model_module_version": "1.2.0",
      "model_name": "LayoutModel",
      "state": {}
     },
     "6aaed3657ecc49aab594f006fc940cee": {
      "model_module": "@jupyter-widgets/base",
      "model_module_version": "1.2.0",
      "model_name": "LayoutModel",
      "state": {}
     },
     "6ae60422faeb422bb641c93abb2083ad": {
      "model_module": "@jupyter-widgets/base",
      "model_module_version": "1.2.0",
      "model_name": "LayoutModel",
      "state": {}
     },
     "6af3f88544ca49d08857f09a92e04e0a": {
      "model_module": "@jupyter-widgets/controls",
      "model_module_version": "1.5.0",
      "model_name": "DropdownModel",
      "state": {
       "_options_labels": [
        "C:\\Users\\dominiquef\\Documents\\GIT\\mira\\mirageoscience-apps\\docs\\content\\applications",
        "C:\\Users\\dominiquef\\Documents\\GIT\\mira\\mirageoscience-apps\\docs\\content",
        "C:\\Users\\dominiquef\\Documents\\GIT\\mira\\mirageoscience-apps\\docs",
        "C:\\Users\\dominiquef\\Documents\\GIT\\mira\\mirageoscience-apps",
        "C:\\Users\\dominiquef\\Documents\\GIT\\mira",
        "C:\\Users\\dominiquef\\Documents\\GIT",
        "C:\\Users\\dominiquef\\Documents",
        "C:\\Users\\dominiquef",
        "C:\\Users",
        "C:\\",
        "D:\\",
        "Z:\\"
       ],
       "index": 0,
       "layout": "IPY_MODEL_1d22a22c9dd2469aa705034d7413e744",
       "style": "IPY_MODEL_c801831ec7034bacb1658ed4c63d5a0b"
      }
     },
     "6b3f3977d065431182637187dc26d608": {
      "model_module": "@jupyter-widgets/base",
      "model_module_version": "1.2.0",
      "model_name": "LayoutModel",
      "state": {
       "display": "none",
       "width": "auto"
      }
     },
     "6be3b5b86e5b4d18b4aac731d51e78ac": {
      "model_module": "@jupyter-widgets/base",
      "model_module_version": "1.2.0",
      "model_name": "LayoutModel",
      "state": {}
     },
     "6c4dc019f3194e37a16b75fc12c10dd2": {
      "model_module": "@jupyter-widgets/controls",
      "model_module_version": "1.5.0",
      "model_name": "DescriptionStyleModel",
      "state": {
       "description_width": "initial"
      }
     },
     "6c7d30cc381b4a22a80417cd36683b16": {
      "model_module": "@jupyter-widgets/controls",
      "model_module_version": "1.5.0",
      "model_name": "GridBoxModel",
      "state": {
       "children": [
        "IPY_MODEL_5598a20c3ba04243a521824e878be370",
        "IPY_MODEL_83bc172bfbaf40a6b84b88c0f9a68370",
        "IPY_MODEL_fc8c1089226e44c282b9fa999f499e65"
       ],
       "layout": "IPY_MODEL_929b9064b7324b93a6745440fb07fbf2"
      }
     },
     "6d0a4ff42ad04d4d9c5b4214cdafa2c8": {
      "model_module": "@jupyter-widgets/controls",
      "model_module_version": "1.5.0",
      "model_name": "ButtonModel",
      "state": {
       "button_style": "danger",
       "description": "Compute",
       "icon": "check",
       "layout": "IPY_MODEL_c77f8b4a893348399f3d127d7ac3bfe4",
       "style": "IPY_MODEL_5250a2291a584395ba647298caa328d7",
       "tooltip": "Run computation"
      }
     },
     "6d14d627649d4db9a602cecfa1088cbf": {
      "model_module": "@jupyter-widgets/controls",
      "model_module_version": "1.5.0",
      "model_name": "HBoxModel",
      "state": {
       "children": [
        "IPY_MODEL_922eecf5e17341409fc601153d67c31d",
        "IPY_MODEL_18c0320003de49d6a2fcb0834a5a615d",
        "IPY_MODEL_3d99779de4b14195a57f3af1ff345a8b"
       ],
       "layout": "IPY_MODEL_a4522723f801409da34451f6da8e88fd"
      }
     },
     "6d3c0709748547769d75c8d83a6d7b2e": {
      "model_module": "@jupyter-widgets/base",
      "model_module_version": "1.2.0",
      "model_name": "LayoutModel",
      "state": {
       "display": "none",
       "grid_area": "filename",
       "width": "auto"
      }
     },
     "6df8ac02f2f44c2690b61feaacf62483": {
      "model_module": "@jupyter-widgets/controls",
      "model_module_version": "1.5.0",
      "model_name": "DescriptionStyleModel",
      "state": {
       "description_width": "initial"
      }
     },
     "6e281a9ae42b4b9ba3b4e3a22b7a7cfb": {
      "model_module": "@jupyter-widgets/base",
      "model_module_version": "1.2.0",
      "model_name": "LayoutModel",
      "state": {}
     },
     "6e46c80ecd9345b6a3b163457c890417": {
      "model_module": "@jupyter-widgets/controls",
      "model_module_version": "1.5.0",
      "model_name": "ButtonModel",
      "state": {
       "description": "Cancel",
       "layout": "IPY_MODEL_cb0258cfe32948e7bfc8d367ebb4fbcc",
       "style": "IPY_MODEL_c152ab4b1c144d66a9ef87dcf2b870b1"
      }
     },
     "6e644b4a76054d8db0a3e81d3ad23245": {
      "model_module": "@jupyter-widgets/controls",
      "model_module_version": "1.5.0",
      "model_name": "DescriptionStyleModel",
      "state": {
       "description_width": "initial"
      }
     },
     "6e8811ba009a40aaa9a7397dc9acb297": {
      "model_module": "@jupyter-widgets/base",
      "model_module_version": "1.2.0",
      "model_name": "LayoutModel",
      "state": {
       "width": "50%"
      }
     },
     "6e9cb3d08bf34e89b20b4cf2da2e6a0f": {
      "model_module": "@jupyter-widgets/controls",
      "model_module_version": "1.5.0",
      "model_name": "DescriptionStyleModel",
      "state": {
       "description_width": ""
      }
     },
     "6ec48403f12e4b68947de24841ff6ce9": {
      "model_module": "@jupyter-widgets/controls",
      "model_module_version": "1.5.0",
      "model_name": "TextareaModel",
      "state": {
       "description": "<=> WKT",
       "layout": "IPY_MODEL_86c488a0e45a4af2970648b4eda0bc4e",
       "style": "IPY_MODEL_204e36abcae64270b2afb835be3524bb",
       "value": "PROJCS[\"NAD83 / UTM zone 14N\",GEOGCS[\"NAD83\",DATUM[\"North_American_Datum_1983\",SPHEROID[\"GRS 1980\",6378137,298.257222101,AUTHORITY[\"EPSG\",\"7019\"]],AUTHORITY[\"EPSG\",\"6269\"]],PRIMEM[\"Greenwich\",0,AUTHORITY[\"EPSG\",\"8901\"]],UNIT[\"degree\",0.0174532925199433,AUTHORITY[\"EPSG\",\"9122\"]],AUTHORITY[\"EPSG\",\"4269\"]],PROJECTION[\"Transverse_Mercator\"],PARAMETER[\"latitude_of_origin\",0],PARAMETER[\"central_meridian\",-99],PARAMETER[\"scale_factor\",0.9996],PARAMETER[\"false_easting\",500000],PARAMETER[\"false_northing\",0],UNIT[\"metre\",1,AUTHORITY[\"EPSG\",\"9001\"]],AXIS[\"Easting\",EAST],AXIS[\"Northing\",NORTH],AUTHORITY[\"EPSG\",\"26914\"]]"
      }
     },
     "6ecb00fc792947c8a70c607667e9d845": {
      "model_module": "@jupyter-widgets/base",
      "model_module_version": "1.2.0",
      "model_name": "LayoutModel",
      "state": {}
     },
     "6ed8c8fe0c4340f3beb7a2576544adf3": {
      "model_module": "@jupyter-widgets/controls",
      "model_module_version": "1.5.0",
      "model_name": "DescriptionStyleModel",
      "state": {
       "description_width": ""
      }
     },
     "6ee5aba0a09f4fceb143ce76ed64b1cc": {
      "model_module": "@jupyter-widgets/controls",
      "model_module_version": "1.5.0",
      "model_name": "DescriptionStyleModel",
      "state": {
       "description_width": ""
      }
     },
     "6f00b19cf33441f0aebb59ae98c7ae41": {
      "model_module": "@jupyter-widgets/controls",
      "model_module_version": "1.5.0",
      "model_name": "DropdownModel",
      "state": {
       "_options_labels": [
        "C:\\Users\\dominiquef\\Documents\\GIT\\mira\\mirageoscience-apps\\docs\\content\\applications",
        "C:\\Users\\dominiquef\\Documents\\GIT\\mira\\mirageoscience-apps\\docs\\content",
        "C:\\Users\\dominiquef\\Documents\\GIT\\mira\\mirageoscience-apps\\docs",
        "C:\\Users\\dominiquef\\Documents\\GIT\\mira\\mirageoscience-apps",
        "C:\\Users\\dominiquef\\Documents\\GIT\\mira",
        "C:\\Users\\dominiquef\\Documents\\GIT",
        "C:\\Users\\dominiquef\\Documents",
        "C:\\Users\\dominiquef",
        "C:\\Users",
        "C:\\",
        "D:\\",
        "Z:\\"
       ],
       "index": 0,
       "layout": "IPY_MODEL_059c771128a14d3d8daa621046cd5a4d",
       "style": "IPY_MODEL_c62cdab326924ece9abc18e92e13ecf6"
      }
     },
     "6f2a4f4ad69142c4b595ca5e3ec74fed": {
      "model_module": "@jupyter-widgets/controls",
      "model_module_version": "1.5.0",
      "model_name": "DescriptionStyleModel",
      "state": {
       "description_width": "initial"
      }
     },
     "6f4aa36242ad44ac8c34d7754632bf0a": {
      "model_module": "@jupyter-widgets/base",
      "model_module_version": "1.2.0",
      "model_name": "LayoutModel",
      "state": {}
     },
     "6f54ecd014a24267a62402704823a720": {
      "model_module": "@jupyter-widgets/controls",
      "model_module_version": "1.5.0",
      "model_name": "DescriptionStyleModel",
      "state": {
       "description_width": "initial"
      }
     },
     "6f75c8d1783342fb9f702db695df0d87": {
      "model_module": "@jupyter-widgets/base",
      "model_module_version": "1.2.0",
      "model_name": "LayoutModel",
      "state": {}
     },
     "6fc04e44edc84c4fb2b26e0e49f660a7": {
      "model_module": "@jupyter-widgets/base",
      "model_module_version": "1.2.0",
      "model_name": "LayoutModel",
      "state": {}
     },
     "70084f2293a64612834162573721362e": {
      "model_module": "@jupyter-widgets/controls",
      "model_module_version": "1.5.0",
      "model_name": "DescriptionStyleModel",
      "state": {
       "description_width": "initial"
      }
     },
     "700d4be7e6e1436f8be60174fe5127ec": {
      "model_module": "@jupyter-widgets/base",
      "model_module_version": "1.2.0",
      "model_name": "LayoutModel",
      "state": {
       "grid_area": "dircontent",
       "width": "auto"
      }
     },
     "707652c855a4441e873aad675ed35aa5": {
      "model_module": "@jupyter-widgets/controls",
      "model_module_version": "1.5.0",
      "model_name": "DescriptionStyleModel",
      "state": {
       "description_width": "initial"
      }
     },
     "70985da8e9bc472c870f8b5c698ebbea": {
      "model_module": "@jupyter-widgets/controls",
      "model_module_version": "1.5.0",
      "model_name": "SelectMultipleModel",
      "state": {
       "_options_labels": [
        "",
        "CoordinateTransformation/Gravity_Magnetics_drape60mEPSG_4326",
        "CoordinateTransformation/Data_TEM_pseudo3DEPSG_4326",
        "Faults_Dikes/fault_splay1",
        "Faults_Dikes/fault_Cliff_Lake",
        "Faults_Dikes/fault_Other_FlinFlon",
        "Faults_Dikes/fault_Club_Lake_splay",
        "Faults_Dikes/fault_Catherine_splay2",
        "Faults_Dikes/fault_Birch_View",
        "Faults_Dikes/fault_Dion_Lake",
        "Faults_Dikes/fault_FlinFlon_splay",
        "Faults_Dikes/fault_West_Mandy_Road",
        "Faults_Dikes/fault_Channing",
        "Faults_Dikes/fault_Ross_Lake",
        "Faults_Dikes/fault_Louis_Hidden",
        "Faults_Dikes/fault_Lake_View_thrust",
        "Faults_Dikes/contact_Schist_Lake",
        "Faults_Dikes/fault_Burley_Lake",
        "Faults_Dikes/fault_Dion_Lake_splay",
        "Faults_Dikes/fault_Green_Lake",
        "Faults_Dikes/fault_FlinFlon",
        "Faults_Dikes/fault_Catherine_splay1",
        "Faults_Dikes/fault_East_Mandy_Road",
        "Faults_Dikes/fault_Other_FlinFlon_South",
        "Faults_Dikes/fault_Catherine_splay4",
        "Faults_Dikes/contact_Stitt_Island",
        "Faults_Dikes/fault_Club_Lake",
        "Faults_Dikes/fault_Tailing_Pond",
        "Horizons/35_Hidden_Reservoir_Hr5",
        "Horizons/29_Hidden_Reservoir_Hr1a",
        "Horizons/60_BlueLagoon_Fb2",
        "Horizons/20_FlinFlon_Undivided_Int_Dykes_D2f",
        "Horizons/04_Boundary_Intrusive_S4h",
        "Horizons/53_Millrock_Rhyolite_Fm4b",
        "Horizons/19_FlinFlon_Undivided_Int_Dykes_D2b",
        "Horizons/18_FlinFlon_Undivided_Int_Dykes_777_D2b",
        "Horizons/06_Phantom_Lake_Intrusive_S3a",
        "Horizons/21_FlinFlon_Undivided_Int_Dykes_D3a",
        "Horizons/43_Millrock_CHLSH_South",
        "Horizons/56_Millrock_Basalt_Fm1ba",
        "Horizons/17_FlinFlon_Undivided_Int_Dykes_D2",
        "Horizons/32_Hidden_Reservoir_Hr1b_SW",
        "Horizons/11_Missi_M3_NE",
        "Horizons/13_Missi_M1",
        "Horizons/07_Annabel_Granitoid_S1",
        "Horizons/45_Millrock_Gabbro_South",
        "Horizons/01_Late_Intrusive_S5b",
        "Horizons/31_Hidden_Reservoir_Hr1c_SW",
        "Horizons/52_Millrock_Rhyolite_Fm4_West_check",
        "Horizons/55_Millrock_Basalt_Fm1bf",
        "Horizons/34_Hidden_Reservoir_Hr2b",
        "Horizons/03_Boundary_Intrusive_S4b",
        "Horizons/42_Millrock_CHLSH_North",
        "Horizons/26_Louis_L3",
        "Horizons/23_FlinFlon_Undivided_Int_Felsic_D4g",
        "Horizons/30_Hidden_Reservoir_Hr1b",
        "Horizons/59_BlueLagoon_Fb3",
        "Horizons/49_Millrock_MVR_Fm5d",
        "Horizons/44_Millrock_Gabbro_North",
        "Horizons/27_Hidden_Carlisle_Hc4",
        "Horizons/22_FlinFlon_Undivided_Int_Felsic_D4e",
        "Horizons/02_Boundary_Intrusive_S4a",
        "Horizons/61_BlueLagoon_Fb1_NW",
        "Horizons/05_Boundary_Intrusive_S4g",
        "Ore/39_Ore_Callinan",
        "Ore/38_Ore_Dan_Owens",
        "Ore/40_Ore_FlinFlon",
        "Workspace/Inversion_VTEM_Model",
        "Workspace/Gravity_Magnetics_drape60m",
        "Workspace/CDI_VTEM_model",
        "Workspace/Data_FEM_pseudo3D",
        "Workspace/geochem",
        "Workspace/Inversion_DIGHEM_Model",
        "Workspace/Topography",
        "Workspace/Data_TEM_pseudo3D",
        "Workspace/Data_ZTEM"
       ],
       "description": "Object:",
       "index": [
        68,
        74
       ],
       "layout": "IPY_MODEL_711bcae5c60f41228f52d76030c648df",
       "rows": 5,
       "style": "IPY_MODEL_a568a83afad547d8bbe28f832901c3f7"
      }
     },
     "709cde25b63d44ee90192cf5a4d8aa44": {
      "model_module": "@jupyter-widgets/controls",
      "model_module_version": "1.5.0",
      "model_name": "DescriptionStyleModel",
      "state": {
       "description_width": ""
      }
     },
     "709e343621144798991f6b2ddbff7a18": {
      "model_module": "@jupyter-widgets/controls",
      "model_module_version": "1.5.0",
      "model_name": "HBoxModel",
      "state": {
       "children": [
        "IPY_MODEL_65a0176849494eb69c06469e6618cf44",
        "IPY_MODEL_69991aa484c34dea9c65bb0b70ea63a4",
        "IPY_MODEL_5630102b17a64e69b4e508da614d0879"
       ],
       "layout": "IPY_MODEL_b170f7dfc2ad47dbb32de97793abc870"
      }
     },
     "71037a78713c4bff994f67508ce5764f": {
      "model_module": "@jupyter-widgets/controls",
      "model_module_version": "1.5.0",
      "model_name": "VBoxModel",
      "state": {
       "children": [
        "IPY_MODEL_e1ef77781ffe432db965fb97b3763a2a",
        "IPY_MODEL_53bd5f0e000045b18f6159aaec3edc4e"
       ],
       "layout": "IPY_MODEL_132fc63c0ccd45ec8ed50d95a1d19b56"
      }
     },
     "710faa9968cc46cc93365715e1bf5f11": {
      "model_module": "@jupyter-widgets/controls",
      "model_module_version": "1.5.0",
      "model_name": "DescriptionStyleModel",
      "state": {
       "description_width": "initial"
      }
     },
     "711bcae5c60f41228f52d76030c648df": {
      "model_module": "@jupyter-widgets/base",
      "model_module_version": "1.2.0",
      "model_name": "LayoutModel",
      "state": {}
     },
     "71405059917548859afcf306cfa15bc4": {
      "model_module": "@jupyter-widgets/controls",
      "model_module_version": "1.5.0",
      "model_name": "VBoxModel",
      "state": {
       "children": [
        "IPY_MODEL_f29fb5b03e0443aebd2f9919e6a23dba",
        "IPY_MODEL_4a3faf9199e74b4fb0787dc0a7ad9649",
        "IPY_MODEL_61f7579b1f584d0bbfabd80dc753e4cb"
       ],
       "layout": "IPY_MODEL_a09f1606bbc7411694d983b0022d313b"
      }
     },
     "71579fc346b1433da4f6e8c0c8df0787": {
      "model_module": "@jupyter-widgets/controls",
      "model_module_version": "1.5.0",
      "model_name": "DescriptionStyleModel",
      "state": {
       "description_width": ""
      }
     },
     "717517452d74488d87b8ad67009bd7a4": {
      "model_module": "@jupyter-widgets/base",
      "model_module_version": "1.2.0",
      "model_name": "LayoutModel",
      "state": {
       "width": "50%"
      }
     },
     "71850ed21ab047da8f685f2589039c9f": {
      "model_module": "@jupyter-widgets/controls",
      "model_module_version": "1.5.0",
      "model_name": "DescriptionStyleModel",
      "state": {
       "description_width": ""
      }
     },
     "718633de4a6a4b3f89c37df0ac59153f": {
      "model_module": "@jupyter-widgets/controls",
      "model_module_version": "1.5.0",
      "model_name": "TextModel",
      "state": {
       "continuous_update": false,
       "description": "Output Projection:",
       "layout": "IPY_MODEL_6f4aa36242ad44ac8c34d7754632bf0a",
       "style": "IPY_MODEL_edf1da62b120499a9d97a2886a2311b6",
       "value": "EPSG:4326"
      }
     },
     "71b14391d59249c59f7743356e956d81": {
      "model_module": "@jupyter-widgets/controls",
      "model_module_version": "1.5.0",
      "model_name": "TextModel",
      "state": {
       "continuous_update": false,
       "description": "Output Projection:",
       "layout": "IPY_MODEL_1f8800249db04f168edaa0d6e5e2a6d5",
       "style": "IPY_MODEL_569f6a5b3fbf4c01af17db3987a0087f",
       "value": "EPSG:4326"
      }
     },
     "7225a7e259aa45e684f512f14abc6473": {
      "model_module": "@jupyter-widgets/controls",
      "model_module_version": "1.5.0",
      "model_name": "ButtonStyleModel",
      "state": {}
     },
     "7253ffa74d5c4ffc9a8edf3db9eff862": {
      "model_module": "@jupyter-widgets/base",
      "model_module_version": "1.2.0",
      "model_name": "LayoutModel",
      "state": {
       "width": "auto"
      }
     },
     "726863d6c12643c2948665f5efe54670": {
      "model_module": "@jupyter-widgets/base",
      "model_module_version": "1.2.0",
      "model_name": "LayoutModel",
      "state": {
       "width": "auto"
      }
     },
     "72955b0e3e4040a3ae84c6e7d160c9b2": {
      "model_module": "@jupyter-widgets/controls",
      "model_module_version": "1.5.0",
      "model_name": "DropdownModel",
      "state": {
       "_options_labels": [
        "C:\\Users\\dominiquef\\Documents\\GIT\\mira\\geoapps\\docs\\content\\applications",
        "C:\\Users\\dominiquef\\Documents\\GIT\\mira\\geoapps\\docs\\content",
        "C:\\Users\\dominiquef\\Documents\\GIT\\mira\\geoapps\\docs",
        "C:\\Users\\dominiquef\\Documents\\GIT\\mira\\geoapps",
        "C:\\Users\\dominiquef\\Documents\\GIT\\mira",
        "C:\\Users\\dominiquef\\Documents\\GIT",
        "C:\\Users\\dominiquef\\Documents",
        "C:\\Users\\dominiquef",
        "C:\\Users",
        "C:\\",
        "D:\\",
        "Z:\\"
       ],
       "index": 0,
       "layout": "IPY_MODEL_a05c3efcebb94788b84ed1d84701ac9d",
       "style": "IPY_MODEL_6ed8c8fe0c4340f3beb7a2576544adf3"
      }
     },
     "72a8afb3fe7448829619e227b112e436": {
      "model_module": "@jupyter-widgets/controls",
      "model_module_version": "1.5.0",
      "model_name": "VBoxModel",
      "state": {
       "children": [
        "IPY_MODEL_74743ee8767b45bbb2ea8b8ac0e10baa",
        "IPY_MODEL_13d0de1ca91b4288b385523fc19dc374"
       ],
       "layout": "IPY_MODEL_30af92498c344ea99c734bc8c20a7cdd"
      }
     },
     "7301b47590ff48589b6b7ab3d0e670db": {
      "model_module": "@jupyter-widgets/controls",
      "model_module_version": "1.5.0",
      "model_name": "HTMLModel",
      "state": {
       "layout": "IPY_MODEL_9278ae2dc229444fa317198206f285a7",
       "style": "IPY_MODEL_f5caa7610a5343b5b4b88240bb9ae50e"
      }
     },
     "7311f74c66d64fefa9db17fbc4d35daf": {
      "model_module": "@jupyter-widgets/base",
      "model_module_version": "1.2.0",
      "model_name": "LayoutModel",
      "state": {
       "width": "auto"
      }
     },
     "734285e8b9644bee815bdd5aa18045e4": {
      "model_module": "@jupyter-widgets/controls",
      "model_module_version": "1.5.0",
      "model_name": "DescriptionStyleModel",
      "state": {
       "description_width": ""
      }
     },
     "7355635daee5432683553e42578924a3": {
      "model_module": "@jupyter-widgets/controls",
      "model_module_version": "1.5.0",
      "model_name": "ButtonStyleModel",
      "state": {}
     },
     "735c4831bbc149c3b307d72400b23b65": {
      "model_module": "@jupyter-widgets/base",
      "model_module_version": "1.2.0",
      "model_name": "LayoutModel",
      "state": {}
     },
     "73e2f3e041bf45a7b400ff4dcfc71f7e": {
      "model_module": "@jupyter-widgets/controls",
      "model_module_version": "1.5.0",
      "model_name": "HTMLModel",
      "state": {
       "layout": "IPY_MODEL_fc7b7516ffdf441c9fe85a2f18d49343",
       "placeholder": "",
       "style": "IPY_MODEL_fef4c64790a34969806f6fe231370956",
       "value": "<span style=\"margin-left:10px; color:black;\">No file selected</span>"
      }
     },
     "74039a946ccd4ebdb145b557f82086f6": {
      "model_module": "@jupyter-widgets/controls",
      "model_module_version": "1.5.0",
      "model_name": "DescriptionStyleModel",
      "state": {
       "description_width": ""
      }
     },
     "74172564617f4103a8d8985e9a9be75d": {
      "model_module": "@jupyter-widgets/base",
      "model_module_version": "1.2.0",
      "model_name": "LayoutModel",
      "state": {
       "display": "none",
       "width": "auto"
      }
     },
     "7431da553f38436289109f8054732ba8": {
      "model_module": "@jupyter-widgets/controls",
      "model_module_version": "1.5.0",
      "model_name": "ButtonStyleModel",
      "state": {}
     },
     "743d06ccce5a4051a0a4877b7a7e91c6": {
      "model_module": "@jupyter-widgets/base",
      "model_module_version": "1.2.0",
      "model_name": "LayoutModel",
      "state": {
       "grid_area": "dircontent",
       "width": "auto"
      }
     },
     "7472a4c6b7fb4a5d9a7e53ba2100adfc": {
      "model_module": "@jupyter-widgets/base",
      "model_module_version": "1.2.0",
      "model_name": "LayoutModel",
      "state": {}
     },
     "74743ee8767b45bbb2ea8b8ac0e10baa": {
      "model_module": "@jupyter-widgets/controls",
      "model_module_version": "1.5.0",
      "model_name": "LabelModel",
      "state": {
       "layout": "IPY_MODEL_ceafffd1eb7146a488213d120928c8e6",
       "style": "IPY_MODEL_264b399cc4e64104bb06e96457267198",
       "value": "Workspace"
      }
     },
     "74c1798fecc04d649b3fcd87a31a5459": {
      "model_module": "@jupyter-widgets/base",
      "model_module_version": "1.2.0",
      "model_name": "LayoutModel",
      "state": {}
     },
     "74c912f7ed18443eb47fe480e5049f56": {
      "model_module": "@jupyter-widgets/base",
      "model_module_version": "1.2.0",
      "model_name": "LayoutModel",
      "state": {
       "width": "auto"
      }
     },
     "7551340c2675410dab4fdb39cce02d7a": {
      "model_module": "@jupyter-widgets/base",
      "model_module_version": "1.2.0",
      "model_name": "LayoutModel",
      "state": {}
     },
     "757db67f89504d0ca78edf50185f507a": {
      "model_module": "@jupyter-widgets/controls",
      "model_module_version": "1.5.0",
      "model_name": "ButtonStyleModel",
      "state": {}
     },
     "75e3791c1b4d437dbbe10179ff991b21": {
      "model_module": "@jupyter-widgets/controls",
      "model_module_version": "1.5.0",
      "model_name": "VBoxModel",
      "state": {
       "children": [
        "IPY_MODEL_fb97e51b7f3c4a5b9020c64eabd66c94",
        "IPY_MODEL_6085efb5e7584a29a8e5269b6f035db0"
       ],
       "layout": "IPY_MODEL_de5e755203254436ba218dc0b7409d38"
      }
     },
     "75fab7a3328945ea96580eccffd601ae": {
      "model_module": "@jupyter-widgets/controls",
      "model_module_version": "1.5.0",
      "model_name": "TextModel",
      "state": {
       "continuous_update": false,
       "description": "Group:",
       "layout": "IPY_MODEL_0c9b0a4a99f04fde812fdd268b53702f",
       "style": "IPY_MODEL_b96c2950b9bf4cc4a733ba79183350f5",
       "value": "CoordinateTransformation"
      }
     },
     "7607f6731cb74065be310a2691f319f4": {
      "model_module": "@jupyter-widgets/controls",
      "model_module_version": "1.5.0",
      "model_name": "DescriptionStyleModel",
      "state": {
       "description_width": ""
      }
     },
     "761cacf79a3a4e6daeca483a43d7375b": {
      "model_module": "@jupyter-widgets/controls",
      "model_module_version": "1.5.0",
      "model_name": "DescriptionStyleModel",
      "state": {
       "description_width": "initial"
      }
     },
     "761eda268cce481680c74cfe6bf158eb": {
      "model_module": "@jupyter-widgets/controls",
      "model_module_version": "1.5.0",
      "model_name": "HBoxModel",
      "state": {
       "children": [
        "IPY_MODEL_d62bf8a3f3e746cab2a7f4e39c21b987",
        "IPY_MODEL_8fadf70c4ec04513b854f260d94eaea8"
       ],
       "layout": "IPY_MODEL_afd34b5055fd47418fb5af1927c93bbc"
      }
     },
     "76649ec5eeca43ebbbd7812ca54c9ffb": {
      "model_module": "@jupyter-widgets/base",
      "model_module_version": "1.2.0",
      "model_name": "LayoutModel",
      "state": {
       "display": "none",
       "width": "auto"
      }
     },
     "76da1ca896054c86883df28864d0ac67": {
      "model_module": "@jupyter-widgets/controls",
      "model_module_version": "1.5.0",
      "model_name": "ButtonModel",
      "state": {
       "description": "Change",
       "layout": "IPY_MODEL_002f92c80ce246a59188e5268c4d72bf",
       "style": "IPY_MODEL_ebc3893210274ceb87fbf8d485d5e67c"
      }
     },
     "76eddb6215ac4c34a160a49f0a1c27a6": {
      "model_module": "@jupyter-widgets/controls",
      "model_module_version": "1.5.0",
      "model_name": "HBoxModel",
      "state": {
       "children": [
        "IPY_MODEL_bd3880cb371f4e15bf2a7fd4e94a6c21",
        "IPY_MODEL_8ae89d0541314b12972b418e99b1d5be",
        "IPY_MODEL_66c4c8f674544707892a33d67ac19cf9"
       ],
       "layout": "IPY_MODEL_0ccb0dc640f74836b94fa58fb182172a"
      }
     },
     "7733f02ea70b44b0b1a328ff4a3a1d73": {
      "model_module": "@jupyter-widgets/controls",
      "model_module_version": "1.5.0",
      "model_name": "DescriptionStyleModel",
      "state": {
       "description_width": "initial"
      }
     },
     "7744c5e2160448b886f281dc290eeed8": {
      "model_module": "@jupyter-widgets/base",
      "model_module_version": "1.2.0",
      "model_name": "LayoutModel",
      "state": {
       "width": "50%"
      }
     },
     "774ab5af7ccd4c6ca05de8ce78ab231c": {
      "model_module": "@jupyter-widgets/base",
      "model_module_version": "1.2.0",
      "model_name": "LayoutModel",
      "state": {
       "display": "none",
       "grid_area": "filename",
       "width": "auto"
      }
     },
     "7769d4b284cb4a8f94c86e05b0993fba": {
      "model_module": "@jupyter-widgets/base",
      "model_module_version": "1.2.0",
      "model_name": "LayoutModel",
      "state": {
       "grid_area": "pathlist",
       "width": "auto"
      }
     },
     "777dbfe1b40f428190a7e384de204bf8": {
      "model_module": "@jupyter-widgets/controls",
      "model_module_version": "1.5.0",
      "model_name": "DescriptionStyleModel",
      "state": {
       "description_width": ""
      }
     },
     "77a29b398e5545fb94ac410e08f962ab": {
      "model_module": "@jupyter-widgets/controls",
      "model_module_version": "1.5.0",
      "model_name": "VBoxModel",
      "state": {
       "children": [
        "IPY_MODEL_d2f19ac5afd443258b69ddcf0a8d8983",
        "IPY_MODEL_b8e23b7f45d44033a8b9f16de2dd0def",
        "IPY_MODEL_912a0ab51fe049a6af0f56eef09850a6"
       ],
       "layout": "IPY_MODEL_f02ff86496dc4fe6bb8cf59a351f8ad3"
      }
     },
     "77ad83fe2064452ca08d17394fc9920b": {
      "model_module": "@jupyter-widgets/controls",
      "model_module_version": "1.5.0",
      "model_name": "ButtonStyleModel",
      "state": {}
     },
     "785433d27aec41708308a195e5288042": {
      "model_module": "@jupyter-widgets/base",
      "model_module_version": "1.2.0",
      "model_name": "LayoutModel",
      "state": {
       "display": "none"
      }
     },
     "78979e487149479cb86a8d606f98ea36": {
      "model_module": "@jupyter-widgets/controls",
      "model_module_version": "1.5.0",
      "model_name": "ButtonModel",
      "state": {
       "description": "Create copy:",
       "layout": "IPY_MODEL_339f43d24b0844ef9e5d9287df943a17",
       "style": "IPY_MODEL_284ac33f50ed484799a5ef9c43f5bfe5"
      }
     },
     "78d0c1e51fcd4074b945a0c307e8b0b2": {
      "model_module": "@jupyter-widgets/base",
      "model_module_version": "1.2.0",
      "model_name": "LayoutModel",
      "state": {
       "width": "auto"
      }
     },
     "7919d6c723634abbb614dbd5207ca5d3": {
      "model_module": "@jupyter-widgets/controls",
      "model_module_version": "1.5.0",
      "model_name": "TextModel",
      "state": {
       "continuous_update": false,
       "description": "Group:",
       "layout": "IPY_MODEL_a3c39012208f490cb2122cf0d90ffc60",
       "style": "IPY_MODEL_1cab142bb15140a499bcff6f619d033d",
       "value": "CoordinateTransformation"
      }
     },
     "791a8558ad3d44d5a890d6c372d521c4": {
      "model_module": "@jupyter-widgets/controls",
      "model_module_version": "1.5.0",
      "model_name": "ButtonStyleModel",
      "state": {}
     },
     "79254ea6f0cb4eb487de3caf277d761d": {
      "model_module": "@jupyter-widgets/base",
      "model_module_version": "1.2.0",
      "model_name": "LayoutModel",
      "state": {
       "display": "none",
       "grid_gap": "0px 0px",
       "grid_template_areas": "\n                    'pathlist pathlist'\n                    'dircontent dircontent'\n                    ",
       "grid_template_columns": "60% 40%",
       "grid_template_rows": "auto auto",
       "width": "500px"
      }
     },
     "793efec88ac144878a93beaa12934a3e": {
      "model_module": "@jupyter-widgets/base",
      "model_module_version": "1.2.0",
      "model_name": "LayoutModel",
      "state": {}
     },
     "795b22c0fda34b4ea1be5e6295cc37e9": {
      "model_module": "@jupyter-widgets/base",
      "model_module_version": "1.2.0",
      "model_name": "LayoutModel",
      "state": {
       "width": "50%"
      }
     },
     "797775027d234552bec5fb7a27f1464f": {
      "model_module": "@jupyter-widgets/base",
      "model_module_version": "1.2.0",
      "model_name": "LayoutModel",
      "state": {}
     },
     "7989edbea8274e499fdac21c7017a508": {
      "model_module": "@jupyter-widgets/base",
      "model_module_version": "1.2.0",
      "model_name": "LayoutModel",
      "state": {}
     },
     "79b8072e63f8480e98b7fe8d55f96200": {
      "model_module": "@jupyter-widgets/controls",
      "model_module_version": "1.5.0",
      "model_name": "TextModel",
      "state": {
       "continuous_update": false,
       "description": "Output Projection:",
       "layout": "IPY_MODEL_396f46bc8a384af3a22a57fbe503ab2a",
       "style": "IPY_MODEL_a16fbfee701c45c4847f3d7c48961317",
       "value": "EPSG:4326"
      }
     },
     "7a082e78e8404a04ac31e924e1d09a22": {
      "model_module": "@jupyter-widgets/base",
      "model_module_version": "1.2.0",
      "model_name": "LayoutModel",
      "state": {}
     },
     "7a158d50e53c433a8b0241de8ad34bcd": {
      "model_module": "@jupyter-widgets/controls",
      "model_module_version": "1.5.0",
      "model_name": "VBoxModel",
      "state": {
       "children": [
        "IPY_MODEL_678388045f024e71bfb5ccd416e94ef0",
        "IPY_MODEL_c925b12f8ac44f0b9fc079b0753e91c9",
        "IPY_MODEL_3a85da08feb04325b97d885641c79e30",
        "IPY_MODEL_a1614949d3524a45a49087c4bb69fdfd",
        "IPY_MODEL_a438644517114589b3e55d2e20ac5b6b"
       ],
       "layout": "IPY_MODEL_18f1acd715ca4334a0a8ed07309b2757"
      }
     },
     "7a31293a4a624b86b16fa2fc2752dd08": {
      "model_module": "@jupyter-widgets/controls",
      "model_module_version": "1.5.0",
      "model_name": "VBoxModel",
      "state": {
       "children": [
        "IPY_MODEL_8c325384be4c4706aebc5893f1c4b670",
        "IPY_MODEL_450fb6e365e2467190ebcaaf53e1182f"
       ],
       "layout": "IPY_MODEL_7be1f031df1443beaeb1de00d8742e57"
      }
     },
     "7a610fd86e38453d9130d51649a62045": {
      "model_module": "@jupyter-widgets/controls",
      "model_module_version": "1.5.0",
      "model_name": "CheckboxModel",
      "state": {
       "description": "Geoscience ANALYST Pro - Live link",
       "disabled": false,
       "indent": false,
       "layout": "IPY_MODEL_3387caaa1fa243b4874871f32f3eb3fb",
       "style": "IPY_MODEL_5c961d34a368403fb722596a278bbca0",
       "value": false
      }
     },
     "7ab6293266a541bcb6d7aa5552120083": {
      "model_module": "@jupyter-widgets/controls",
      "model_module_version": "1.5.0",
      "model_name": "DescriptionStyleModel",
      "state": {
       "description_width": "initial"
      }
     },
     "7bbad72454ea4e8fa4b62c1c60daf1fa": {
      "model_module": "@jupyter-widgets/controls",
      "model_module_version": "1.5.0",
      "model_name": "ButtonStyleModel",
      "state": {}
     },
     "7bc1acc30d6c4a5391222481cac4889a": {
      "model_module": "@jupyter-widgets/controls",
      "model_module_version": "1.5.0",
      "model_name": "TextModel",
      "state": {
       "layout": "IPY_MODEL_8445ff5eef474ddfa300739b2f941963",
       "placeholder": "output filename",
       "style": "IPY_MODEL_74039a946ccd4ebdb145b557f82086f6",
       "value": "FlinFlon.geoh5"
      }
     },
     "7bcaec57f28c457fbe131c5663df58de": {
      "model_module": "@jupyter-widgets/base",
      "model_module_version": "1.2.0",
      "model_name": "LayoutModel",
      "state": {}
     },
     "7be1f031df1443beaeb1de00d8742e57": {
      "model_module": "@jupyter-widgets/base",
      "model_module_version": "1.2.0",
      "model_name": "LayoutModel",
      "state": {}
     },
     "7bfaa7f9d64c4c6b9d6616cfce44a941": {
      "model_module": "@jupyter-widgets/controls",
      "model_module_version": "1.5.0",
      "model_name": "VBoxModel",
      "state": {
       "children": [
        "IPY_MODEL_bffb021c3fe4404aa90aea0d1988a7b9",
        "IPY_MODEL_64579e9b2db64c8d8e96aa88fab296b1",
        "IPY_MODEL_dc4140791050486c82845cb61afc3c9c",
        "IPY_MODEL_761eda268cce481680c74cfe6bf158eb",
        "IPY_MODEL_71037a78713c4bff994f67508ce5764f"
       ],
       "layout": "IPY_MODEL_cd6eaa79713843e89561331bb6c0a1ef"
      }
     },
     "7c7e817033c84934856383ef48c9154f": {
      "model_module": "@jupyter-widgets/controls",
      "model_module_version": "1.5.0",
      "model_name": "ButtonStyleModel",
      "state": {}
     },
     "7c90f28c251d4abfa38ac1911f190890": {
      "model_module": "@jupyter-widgets/controls",
      "model_module_version": "1.5.0",
      "model_name": "HBoxModel",
      "state": {
       "children": [
        "IPY_MODEL_ce95ddcd40aa4d969a390d7862832bb1",
        "IPY_MODEL_ec7768cd033e4b4295bcca766f3c6b54",
        "IPY_MODEL_ef4874e20e6c42728c157327a7a30c34"
       ],
       "layout": "IPY_MODEL_0f962899c32a40a6abeeb89854f318c9"
      }
     },
     "7c93c938cdff4f0c83bd2373b3be8703": {
      "model_module": "@jupyter-widgets/base",
      "model_module_version": "1.2.0",
      "model_name": "LayoutModel",
      "state": {
       "width": "auto"
      }
     },
     "7ced9fc931764d21878ea7dd6809bf0e": {
      "model_module": "@jupyter-widgets/base",
      "model_module_version": "1.2.0",
      "model_name": "LayoutModel",
      "state": {
       "display": "none"
      }
     },
     "7d4df2edebb14df48f9f894265302cf2": {
      "model_module": "@jupyter-widgets/base",
      "model_module_version": "1.2.0",
      "model_name": "LayoutModel",
      "state": {}
     },
     "7d6f0b0169c84cfa89f962a6de04493e": {
      "model_module": "@jupyter-widgets/base",
      "model_module_version": "1.2.0",
      "model_name": "LayoutModel",
      "state": {
       "width": "auto"
      }
     },
     "7d6f2438214b42b79ac44dd90aabdd64": {
      "model_module": "@jupyter-widgets/controls",
      "model_module_version": "1.5.0",
      "model_name": "TextModel",
      "state": {
       "disabled": true,
       "layout": "IPY_MODEL_5b7f80949340457d987e6c439218fae9",
       "placeholder": "output filename",
       "style": "IPY_MODEL_28bad3d198a6419bb8a6f82e65f35b41"
      }
     },
     "7dae6a1ebfcf4c6a9f27e20045ac50a7": {
      "model_module": "@jupyter-widgets/base",
      "model_module_version": "1.2.0",
      "model_name": "LayoutModel",
      "state": {
       "grid_area": "pathlist",
       "width": "auto"
      }
     },
     "7dc0b419a8b740999e73e2d8cd09c51c": {
      "model_module": "@jupyter-widgets/controls",
      "model_module_version": "1.5.0",
      "model_name": "SelectMultipleModel",
      "state": {
       "_options_labels": [
        "",
        "fault_splay1",
        "fault_Cliff_Lake",
        "fault_Other_FlinFlon",
        "fault_Club_Lake_splay",
        "fault_Catherine_splay2",
        "fault_Birch_View",
        "fault_Dion_Lake",
        "fault_FlinFlon_splay",
        "fault_West_Mandy_Road",
        "fault_Channing",
        "fault_Ross_Lake",
        "fault_Louis_Hidden",
        "fault_Lake_View_thrust",
        "contact_Schist_Lake",
        "fault_Burley_Lake",
        "fault_Dion_Lake_splay",
        "fault_Green_Lake",
        "fault_FlinFlon",
        "fault_Catherine_splay1",
        "fault_East_Mandy_Road",
        "fault_Other_FlinFlon_South",
        "fault_Catherine_splay4",
        "contact_Stitt_Island",
        "fault_Club_Lake",
        "fault_Tailing_Pond",
        "35_Hidden_Reservoir_Hr5",
        "29_Hidden_Reservoir_Hr1a",
        "60_BlueLagoon_Fb2",
        "20_FlinFlon_Undivided_Int_Dykes_D2f",
        "04_Boundary_Intrusive_S4h",
        "53_Millrock_Rhyolite_Fm4b",
        "19_FlinFlon_Undivided_Int_Dykes_D2b",
        "18_FlinFlon_Undivided_Int_Dykes_777_D2b",
        "06_Phantom_Lake_Intrusive_S3a",
        "21_FlinFlon_Undivided_Int_Dykes_D3a",
        "43_Millrock_CHLSH_South",
        "56_Millrock_Basalt_Fm1ba",
        "17_FlinFlon_Undivided_Int_Dykes_D2",
        "32_Hidden_Reservoir_Hr1b_SW",
        "11_Missi_M3_NE",
        "13_Missi_M1",
        "07_Annabel_Granitoid_S1",
        "45_Millrock_Gabbro_South",
        "01_Late_Intrusive_S5b",
        "31_Hidden_Reservoir_Hr1c_SW",
        "52_Millrock_Rhyolite_Fm4_West_check",
        "55_Millrock_Basalt_Fm1bf",
        "34_Hidden_Reservoir_Hr2b",
        "03_Boundary_Intrusive_S4b",
        "42_Millrock_CHLSH_North",
        "26_Louis_L3",
        "23_FlinFlon_Undivided_Int_Felsic_D4g",
        "30_Hidden_Reservoir_Hr1b",
        "59_BlueLagoon_Fb3",
        "49_Millrock_MVR_Fm5d",
        "44_Millrock_Gabbro_North",
        "27_Hidden_Carlisle_Hc4",
        "22_FlinFlon_Undivided_Int_Felsic_D4e",
        "02_Boundary_Intrusive_S4a",
        "61_BlueLagoon_Fb1_NW",
        "05_Boundary_Intrusive_S4g",
        "39_Ore_Callinan",
        "38_Ore_Dan_Owens",
        "40_Ore_FlinFlon",
        "Inversion_VTEM_Model",
        "Gravity_Magnetics_drape60m",
        "CDI_VTEM_model",
        "Data_FEM_pseudo3D",
        "geochem",
        "Inversion_DIGHEM_Model",
        "Topography",
        "Data_TEM_pseudo3D",
        "Data_ZTEM"
       ],
       "description": "Object:",
       "index": [],
       "layout": "IPY_MODEL_533f1881450f4335b9cc1f9f01738f19",
       "rows": 5,
       "style": "IPY_MODEL_0341e22bd6e347f888fcf63b585a1af6"
      }
     },
     "7dc773958dc04c60ab298b7e7244367f": {
      "model_module": "@jupyter-widgets/controls",
      "model_module_version": "1.5.0",
      "model_name": "HTMLModel",
      "state": {
       "layout": "IPY_MODEL_8225325a86354a9783efd8e7964e8c5d",
       "style": "IPY_MODEL_ad7f2073271b418fa34a3f94ea5ff272"
      }
     },
     "7ddc0d6cc44b47788b177880e13b4cbc": {
      "model_module": "@jupyter-widgets/base",
      "model_module_version": "1.2.0",
      "model_name": "LayoutModel",
      "state": {}
     },
     "7deb5b6ca8474f1e95e55cfcb2794874": {
      "model_module": "@jupyter-widgets/controls",
      "model_module_version": "1.5.0",
      "model_name": "ButtonStyleModel",
      "state": {}
     },
     "7defd7ae7d46436885c3d11d70a3efd4": {
      "model_module": "@jupyter-widgets/controls",
      "model_module_version": "1.5.0",
      "model_name": "TextModel",
      "state": {
       "disabled": true,
       "layout": "IPY_MODEL_2761b5b05676461faa0049e805baf985",
       "placeholder": "output filename",
       "style": "IPY_MODEL_a88c91be9dd641ce912a676676a70ee7"
      }
     },
     "7e1c66111cae43f2849de42ed325b65b": {
      "model_module": "@jupyter-widgets/controls",
      "model_module_version": "1.5.0",
      "model_name": "DescriptionStyleModel",
      "state": {
       "description_width": ""
      }
     },
     "7e3f1574d4034779b02be065766353d4": {
      "model_module": "@jupyter-widgets/base",
      "model_module_version": "1.2.0",
      "model_name": "LayoutModel",
      "state": {}
     },
     "7ea3144920c74673b6c8373e83f85cf3": {
      "model_module": "@jupyter-widgets/controls",
      "model_module_version": "1.5.0",
      "model_name": "DescriptionStyleModel",
      "state": {
       "description_width": "initial"
      }
     },
     "7ec3ddde208246b6bcd71ba99c2a6472": {
      "model_module": "@jupyter-widgets/controls",
      "model_module_version": "1.5.0",
      "model_name": "DescriptionStyleModel",
      "state": {
       "description_width": ""
      }
     },
     "7ee95a204eb0402a800acd2807c29649": {
      "model_module": "@jupyter-widgets/base",
      "model_module_version": "1.2.0",
      "model_name": "LayoutModel",
      "state": {}
     },
     "7f110f34abef4fe78d815cad2d8ac697": {
      "model_module": "@jupyter-widgets/controls",
      "model_module_version": "1.5.0",
      "model_name": "DescriptionStyleModel",
      "state": {
       "description_width": ""
      }
     },
     "7f14bb9c1f714ba3bb4ea694c8083757": {
      "model_module": "@jupyter-widgets/controls",
      "model_module_version": "1.5.0",
      "model_name": "DescriptionStyleModel",
      "state": {
       "description_width": ""
      }
     },
     "7f179888daba4c2bb195570c3d0e7682": {
      "model_module": "@jupyter-widgets/base",
      "model_module_version": "1.2.0",
      "model_name": "LayoutModel",
      "state": {
       "display": "none"
      }
     },
     "7f2a9fba323f48f2b89d571b9b5bea85": {
      "model_module": "@jupyter-widgets/controls",
      "model_module_version": "1.5.0",
      "model_name": "VBoxModel",
      "state": {
       "children": [
        "IPY_MODEL_2837ab203cbc4dbfbb1eb0fb31c1b4e1",
        "IPY_MODEL_9c36f9cae11247bf9ff6ba187105b828"
       ],
       "layout": "IPY_MODEL_5aac231f4c5f4dd8925450ac66eecaa2"
      }
     },
     "7f332002879542b6ba65f34b08daaf4c": {
      "model_module": "@jupyter-widgets/base",
      "model_module_version": "1.2.0",
      "model_name": "LayoutModel",
      "state": {
       "min_width": "6em",
       "width": "6em"
      }
     },
     "7f4095a5ec6c48a8b0521c4c26c49045": {
      "model_module": "@jupyter-widgets/controls",
      "model_module_version": "1.5.0",
      "model_name": "TextareaModel",
      "state": {
       "description": "<=> WKT",
       "layout": "IPY_MODEL_243041e2017b4bd595aa9f31432e3600",
       "style": "IPY_MODEL_be7b7c3f50bd4217a4d2b604280aa2ad",
       "value": "GEOGCS[\"WGS 84\",DATUM[\"WGS_1984\",SPHEROID[\"WGS 84\",6378137,298.257223563,AUTHORITY[\"EPSG\",\"7030\"]],AUTHORITY[\"EPSG\",\"6326\"]],PRIMEM[\"Greenwich\",0,AUTHORITY[\"EPSG\",\"8901\"]],UNIT[\"degree\",0.0174532925199433,AUTHORITY[\"EPSG\",\"9122\"]],AXIS[\"Latitude\",NORTH],AXIS[\"Longitude\",EAST],AUTHORITY[\"EPSG\",\"4326\"]]"
      }
     },
     "7fab6503276c4a2baa31f7fae4a92287": {
      "model_module": "@jupyter-widgets/controls",
      "model_module_version": "1.5.0",
      "model_name": "ButtonStyleModel",
      "state": {}
     },
     "7fb749a10e064d9ea5d852c8264348af": {
      "model_module": "@jupyter-widgets/base",
      "model_module_version": "1.2.0",
      "model_name": "LayoutModel",
      "state": {
       "display": "none",
       "width": "auto"
      }
     },
     "7fd112a8d61347208fe26d106639b973": {
      "model_module": "@jupyter-widgets/controls",
      "model_module_version": "1.5.0",
      "model_name": "TextModel",
      "state": {
       "continuous_update": false,
       "description": "Input Projection:",
       "layout": "IPY_MODEL_1603729fe79548a385164eba6d9038c0",
       "style": "IPY_MODEL_528765adf91c49de969d0ee19b5c4aef",
       "value": "EPSG:26914"
      }
     },
     "7fe55946cca5461d90d3e7b412bc0a70": {
      "model_module": "@jupyter-widgets/controls",
      "model_module_version": "1.5.0",
      "model_name": "HBoxModel",
      "state": {
       "children": [
        "IPY_MODEL_718633de4a6a4b3f89c37df0ac59153f",
        "IPY_MODEL_7f4095a5ec6c48a8b0521c4c26c49045"
       ],
       "layout": "IPY_MODEL_b58b781cc04949e89e31b1dd45ae7657"
      }
     },
     "804c4cb0e28040f0a4d82d773416228c": {
      "model_module": "@jupyter-widgets/controls",
      "model_module_version": "1.5.0",
      "model_name": "DescriptionStyleModel",
      "state": {
       "description_width": ""
      }
     },
     "80a710979b1b418ca71f92d88c9b01a0": {
      "model_module": "@jupyter-widgets/base",
      "model_module_version": "1.2.0",
      "model_name": "LayoutModel",
      "state": {}
     },
     "80b5e35cb7ce4067bf41838462879f39": {
      "model_module": "@jupyter-widgets/controls",
      "model_module_version": "1.5.0",
      "model_name": "BoxModel",
      "state": {
       "children": [
        "IPY_MODEL_37fcc20ec96e4423b44b94ce445c1831"
       ],
       "layout": "IPY_MODEL_a41924e7737547a1bcef51db7ba46f8e"
      }
     },
     "80f7a280eb7640c19c8d914747d4676c": {
      "model_module": "@jupyter-widgets/controls",
      "model_module_version": "1.5.0",
      "model_name": "TextModel",
      "state": {
       "disabled": true,
       "layout": "IPY_MODEL_d119e3658e1548449c5a78a870555025",
       "placeholder": "output filename",
       "style": "IPY_MODEL_9f89a1281b524368a92df19c3afc374e"
      }
     },
     "813af04f0104495bad0b87cfd94955ad": {
      "model_module": "@jupyter-widgets/base",
      "model_module_version": "1.2.0",
      "model_name": "LayoutModel",
      "state": {
       "display": "none"
      }
     },
     "815bcab5ae66464f9a1d8f5fe27198e1": {
      "model_module": "@jupyter-widgets/controls",
      "model_module_version": "1.5.0",
      "model_name": "LabelModel",
      "state": {
       "layout": "IPY_MODEL_9929cde6f3854777ad2b8a87141f6561",
       "style": "IPY_MODEL_0308d5ef64f648ff8df9b89045b114ef",
       "value": "Monitoring folder"
      }
     },
     "81975bff9f0f435d8f253087b5f6c293": {
      "model_module": "@jupyter-widgets/controls",
      "model_module_version": "1.5.0",
      "model_name": "DropdownModel",
      "state": {
       "_options_labels": [
        "C:\\Users\\dominiquef\\Documents\\GIT\\mira\\geoapps\\docs\\content\\applications",
        "C:\\Users\\dominiquef\\Documents\\GIT\\mira\\geoapps\\docs\\content",
        "C:\\Users\\dominiquef\\Documents\\GIT\\mira\\geoapps\\docs",
        "C:\\Users\\dominiquef\\Documents\\GIT\\mira\\geoapps",
        "C:\\Users\\dominiquef\\Documents\\GIT\\mira",
        "C:\\Users\\dominiquef\\Documents\\GIT",
        "C:\\Users\\dominiquef\\Documents",
        "C:\\Users\\dominiquef",
        "C:\\Users",
        "C:\\",
        "D:\\",
        "Z:\\"
       ],
       "index": 0,
       "layout": "IPY_MODEL_3631f4c63add4b90a7e6a88d71ce33da",
       "style": "IPY_MODEL_546a41153a2f429bbc02ca519c5ae579"
      }
     },
     "81c9dda61d984a2ea775fb8fcb2ccbee": {
      "model_module": "@jupyter-widgets/base",
      "model_module_version": "1.2.0",
      "model_name": "LayoutModel",
      "state": {
       "display": "none",
       "grid_gap": "0px 0px",
       "grid_template_areas": "\n                    'pathlist filename'\n                    'dircontent dircontent'\n                    ",
       "grid_template_columns": "60% 40%",
       "grid_template_rows": "auto auto",
       "width": "auto"
      }
     },
     "81e62d149b664c6b979887a7dd8e72c6": {
      "model_module": "@jupyter-widgets/controls",
      "model_module_version": "1.5.0",
      "model_name": "TextModel",
      "state": {
       "continuous_update": false,
       "description": "Input Projection:",
       "layout": "IPY_MODEL_5ae1025567ac45ccbca2f9b82957d007",
       "style": "IPY_MODEL_6420518e86f64424aff6aec21b278154",
       "value": "EPSG:26914"
      }
     },
     "8225325a86354a9783efd8e7964e8c5d": {
      "model_module": "@jupyter-widgets/base",
      "model_module_version": "1.2.0",
      "model_name": "LayoutModel",
      "state": {
       "display": "none"
      }
     },
     "8275a5fae72244369a11c7cf9e82e0a0": {
      "model_module": "@jupyter-widgets/base",
      "model_module_version": "1.2.0",
      "model_name": "LayoutModel",
      "state": {}
     },
     "82cf2b6eba1c482690ce79f16e96f10e": {
      "model_module": "@jupyter-widgets/controls",
      "model_module_version": "1.5.0",
      "model_name": "ButtonStyleModel",
      "state": {}
     },
     "830ffc4c4d6c40b295000006c3d78c0e": {
      "model_module": "@jupyter-widgets/controls",
      "model_module_version": "1.5.0",
      "model_name": "ButtonStyleModel",
      "state": {}
     },
     "83922ca7e9c741958a432c559a6be1cb": {
      "model_module": "@jupyter-widgets/controls",
      "model_module_version": "1.5.0",
      "model_name": "DropdownModel",
      "state": {
       "_options_labels": [
        "C:\\Users\\dominiquef\\Documents\\GIT\\mira\\mirageoscience-apps\\docs\\content\\applications",
        "C:\\Users\\dominiquef\\Documents\\GIT\\mira\\mirageoscience-apps\\docs\\content",
        "C:\\Users\\dominiquef\\Documents\\GIT\\mira\\mirageoscience-apps\\docs",
        "C:\\Users\\dominiquef\\Documents\\GIT\\mira\\mirageoscience-apps",
        "C:\\Users\\dominiquef\\Documents\\GIT\\mira",
        "C:\\Users\\dominiquef\\Documents\\GIT",
        "C:\\Users\\dominiquef\\Documents",
        "C:\\Users\\dominiquef",
        "C:\\Users",
        "C:\\",
        "D:\\",
        "Z:\\"
       ],
       "index": 0,
       "layout": "IPY_MODEL_0318445e3b9e4a41b8774525bf28d96f",
       "style": "IPY_MODEL_8c65887ff5024524b79ae9a0720ecdca"
      }
     },
     "839ada38ab5742bbb0f844a07bb9718c": {
      "model_module": "@jupyter-widgets/controls",
      "model_module_version": "1.5.0",
      "model_name": "VBoxModel",
      "state": {
       "children": [
        "IPY_MODEL_bcd55b5072224c63a9a5db98d2c0a95c",
        "IPY_MODEL_1e4fcdabc4244cebbb36bc4a283b0924"
       ],
       "layout": "IPY_MODEL_01ef819da2d74ec4949cc448c5543220"
      }
     },
     "83bc172bfbaf40a6b84b88c0f9a68370": {
      "model_module": "@jupyter-widgets/controls",
      "model_module_version": "1.5.0",
      "model_name": "TextModel",
      "state": {
       "layout": "IPY_MODEL_3a458fcec96d477a95d4960692a4f491",
       "placeholder": "output filename",
       "style": "IPY_MODEL_f03cdbaee51940bf97ad498eb86aba4a",
       "value": "FlinFlon.geoh5"
      }
     },
     "83bf7906a57b4a279fa24e97f48a37cf": {
      "model_module": "@jupyter-widgets/base",
      "model_module_version": "1.2.0",
      "model_name": "LayoutModel",
      "state": {
       "width": "50%"
      }
     },
     "83e2813d5943496cb7f04e3d1360b854": {
      "model_module": "@jupyter-widgets/controls",
      "model_module_version": "1.5.0",
      "model_name": "DescriptionStyleModel",
      "state": {
       "description_width": ""
      }
     },
     "83eaade113dc4bcaa0fff91b3a9ba178": {
      "model_module": "@jupyter-widgets/controls",
      "model_module_version": "1.5.0",
      "model_name": "ButtonStyleModel",
      "state": {}
     },
     "83f7ff63112548eabea1981580317db6": {
      "model_module": "@jupyter-widgets/controls",
      "model_module_version": "1.5.0",
      "model_name": "ButtonModel",
      "state": {
       "description": "Change",
       "layout": "IPY_MODEL_390fcefc50e54e3ca297306a975e05c8",
       "style": "IPY_MODEL_7deb5b6ca8474f1e95e55cfcb2794874"
      }
     },
     "8445ff5eef474ddfa300739b2f941963": {
      "model_module": "@jupyter-widgets/base",
      "model_module_version": "1.2.0",
      "model_name": "LayoutModel",
      "state": {
       "grid_area": "filename",
       "width": "auto"
      }
     },
     "845ab1a694e54e6485b30e530c793c78": {
      "model_module": "@jupyter-widgets/base",
      "model_module_version": "1.2.0",
      "model_name": "LayoutModel",
      "state": {
       "width": "auto"
      }
     },
     "84a0cd97e23d4502b81b9ec3b3355458": {
      "model_module": "@jupyter-widgets/controls",
      "model_module_version": "1.5.0",
      "model_name": "VBoxModel",
      "state": {
       "children": [
        "IPY_MODEL_aa42d4946bb04ca79497b6d0f1dd081f",
        "IPY_MODEL_420e572b5761468aa83bb09fbebee25e",
        "IPY_MODEL_1d1be084be944054adee23f1d41ad6ef"
       ],
       "layout": "IPY_MODEL_48f7f1ba00274d75903ee3f8361536d6"
      }
     },
     "852d061226b747a0a51e24b0c56a84a6": {
      "model_module": "@jupyter-widgets/base",
      "model_module_version": "1.2.0",
      "model_name": "LayoutModel",
      "state": {
       "width": "auto"
      }
     },
     "859ad8398997457da3acfebc2524ae04": {
      "model_module": "@jupyter-widgets/controls",
      "model_module_version": "1.5.0",
      "model_name": "HTMLModel",
      "state": {
       "layout": "IPY_MODEL_785433d27aec41708308a195e5288042",
       "style": "IPY_MODEL_1aaa6c5f92db4bd9bdf62750d78a4c60"
      }
     },
     "85e87f53c8b3496a8aa8c1695452b79f": {
      "model_module": "@jupyter-widgets/controls",
      "model_module_version": "1.5.0",
      "model_name": "DescriptionStyleModel",
      "state": {
       "description_width": "initial"
      }
     },
     "85f67c8cfd0343d2be09ec5d6885ea92": {
      "model_module": "@jupyter-widgets/controls",
      "model_module_version": "1.5.0",
      "model_name": "DescriptionStyleModel",
      "state": {
       "description_width": ""
      }
     },
     "8605c4b917834f7e83e10fd7021645df": {
      "model_module": "@jupyter-widgets/base",
      "model_module_version": "1.2.0",
      "model_name": "LayoutModel",
      "state": {}
     },
     "861c4e1203f649d4ba711982b8e484d7": {
      "model_module": "@jupyter-widgets/controls",
      "model_module_version": "1.5.0",
      "model_name": "DescriptionStyleModel",
      "state": {
       "description_width": ""
      }
     },
     "86793ad31b4347e0b850b7d31cc6a206": {
      "model_module": "@jupyter-widgets/controls",
      "model_module_version": "1.5.0",
      "model_name": "ButtonStyleModel",
      "state": {}
     },
     "86c488a0e45a4af2970648b4eda0bc4e": {
      "model_module": "@jupyter-widgets/base",
      "model_module_version": "1.2.0",
      "model_name": "LayoutModel",
      "state": {
       "width": "50%"
      }
     },
     "86e5beaee3304235bd5d93a080733d23": {
      "model_module": "@jupyter-widgets/controls",
      "model_module_version": "1.5.0",
      "model_name": "VBoxModel",
      "state": {
       "children": [
        "IPY_MODEL_a26f4850d4954bd0903f006958d469f8",
        "IPY_MODEL_d185d28cb5644791abad5d19411e52a7"
       ],
       "layout": "IPY_MODEL_b44d6528239f42fead95f9a15c355b57"
      }
     },
     "86f2048886d64c05a4c577991c8c05a8": {
      "model_module": "@jupyter-widgets/base",
      "model_module_version": "1.2.0",
      "model_name": "LayoutModel",
      "state": {}
     },
     "875948c87c284626b5e54ffe6692cc89": {
      "model_module": "@jupyter-widgets/controls",
      "model_module_version": "1.5.0",
      "model_name": "VBoxModel",
      "state": {
       "children": [
        "IPY_MODEL_203c6a1b2f0148049399d892c5a76b8b",
        "IPY_MODEL_70985da8e9bc472c870f8b5c698ebbea",
        "IPY_MODEL_13f78187bade402885ff7df22487ae7f",
        "IPY_MODEL_8b9b45ac23fe4bb0b69ae6016566fb60",
        "IPY_MODEL_a98573ecd27d45a3ab64e032307ea4c4"
       ],
       "layout": "IPY_MODEL_dbd637a7a25141bc803e7862b9739a87"
      }
     },
     "8865f470f6ae42b191c69f576d06cd6b": {
      "model_module": "@jupyter-widgets/controls",
      "model_module_version": "1.5.0",
      "model_name": "VBoxModel",
      "state": {
       "children": [
        "IPY_MODEL_b28402454e5e44f3a1cf810c73bac3a1",
        "IPY_MODEL_2d017fccec3c4c98a8350dd1f75409b4"
       ],
       "layout": "IPY_MODEL_18750b3b0c57465482fd04cf83fc4c14"
      }
     },
     "88890a8b3e8a4330af8e6e7685efc004": {
      "model_module": "@jupyter-widgets/controls",
      "model_module_version": "1.5.0",
      "model_name": "DescriptionStyleModel",
      "state": {
       "description_width": ""
      }
     },
     "88a18fe21e4b4c0e937123e64135c71e": {
      "model_module": "@jupyter-widgets/controls",
      "model_module_version": "1.5.0",
      "model_name": "DescriptionStyleModel",
      "state": {
       "description_width": ""
      }
     },
     "88bcd4c7bd634386ad757dab1b5a6472": {
      "model_module": "@jupyter-widgets/base",
      "model_module_version": "1.2.0",
      "model_name": "LayoutModel",
      "state": {
       "width": "auto"
      }
     },
     "8925b920d33d4bc4a4b258d82190abab": {
      "model_module": "@jupyter-widgets/base",
      "model_module_version": "1.2.0",
      "model_name": "LayoutModel",
      "state": {}
     },
     "892f9c2e217543f69d83b3e2109877f6": {
      "model_module": "@jupyter-widgets/controls",
      "model_module_version": "1.5.0",
      "model_name": "ButtonStyleModel",
      "state": {}
     },
     "895d6d63de8a4ef884e6eeb8cb9039da": {
      "model_module": "@jupyter-widgets/controls",
      "model_module_version": "1.5.0",
      "model_name": "DescriptionStyleModel",
      "state": {
       "description_width": ""
      }
     },
     "897191bc1e5741c88d2d7a26ef85b5d7": {
      "model_module": "@jupyter-widgets/base",
      "model_module_version": "1.2.0",
      "model_name": "LayoutModel",
      "state": {}
     },
     "89a9cbb6843b4d0f844cdf8af66f83ab": {
      "model_module": "@jupyter-widgets/base",
      "model_module_version": "1.2.0",
      "model_name": "LayoutModel",
      "state": {}
     },
     "8a18522c9507430184675e076aed1a95": {
      "model_module": "@jupyter-widgets/controls",
      "model_module_version": "1.5.0",
      "model_name": "VBoxModel",
      "state": {
       "children": [
        "IPY_MODEL_fe2268ab9a524c169f871229dfdc0531",
        "IPY_MODEL_a8f7dd8868644e989457f6157d8adb96"
       ],
       "layout": "IPY_MODEL_922b3531f3e94a29b38eb041c10f706d"
      }
     },
     "8a2588b12ba34e419d9f78224fd37028": {
      "model_module": "@jupyter-widgets/controls",
      "model_module_version": "1.5.0",
      "model_name": "VBoxModel",
      "state": {
       "children": [
        "IPY_MODEL_1b69d6226fae494cabae48b8ea989fca"
       ],
       "layout": "IPY_MODEL_3b82e538fb8143898c7bff1a6b53194a"
      }
     },
     "8a9081b91bba440c91ecde47632f9f78": {
      "model_module": "@jupyter-widgets/controls",
      "model_module_version": "1.5.0",
      "model_name": "DescriptionStyleModel",
      "state": {
       "description_width": "initial"
      }
     },
     "8ae89d0541314b12972b418e99b1d5be": {
      "model_module": "@jupyter-widgets/controls",
      "model_module_version": "1.5.0",
      "model_name": "ButtonModel",
      "state": {
       "description": "Cancel",
       "layout": "IPY_MODEL_d5dfacee65bd43f894de3474f59e8b85",
       "style": "IPY_MODEL_e8dde8a2c3eb4c24be08571aa7158226"
      }
     },
     "8b023dd98305403fbb253e7aea955cf6": {
      "model_module": "@jupyter-widgets/controls",
      "model_module_version": "1.5.0",
      "model_name": "DescriptionStyleModel",
      "state": {
       "description_width": "initial"
      }
     },
     "8b06d29598dd46e3a2d9dc55e0628831": {
      "model_module": "@jupyter-widgets/base",
      "model_module_version": "1.2.0",
      "model_name": "LayoutModel",
      "state": {
       "grid_area": "pathlist",
       "width": "auto"
      }
     },
     "8b311c2edbe84961b9127093b3908426": {
      "model_module": "@jupyter-widgets/controls",
      "model_module_version": "1.5.0",
      "model_name": "SelectModel",
      "state": {
       "_options_labels": [
        "..",
        "dask-worker-space",
        "images"
       ],
       "index": null,
       "layout": "IPY_MODEL_67d9955ac13744619097b966aed5ca27",
       "rows": 8,
       "style": "IPY_MODEL_3d140467081149999f4ae969d3250bbe"
      }
     },
     "8b6997b7e5694820b21a766f10eed9f7": {
      "model_module": "@jupyter-widgets/base",
      "model_module_version": "1.2.0",
      "model_name": "LayoutModel",
      "state": {}
     },
     "8b76c424db80493ab263169bb00afabc": {
      "model_module": "@jupyter-widgets/controls",
      "model_module_version": "1.5.0",
      "model_name": "DescriptionStyleModel",
      "state": {
       "description_width": "initial"
      }
     },
     "8b9b45ac23fe4bb0b69ae6016566fb60": {
      "model_module": "@jupyter-widgets/controls",
      "model_module_version": "1.5.0",
      "model_name": "HBoxModel",
      "state": {
       "children": [
        "IPY_MODEL_71b14391d59249c59f7743356e956d81",
        "IPY_MODEL_c563fb42d61f45888be60fccf2e448d0"
       ],
       "layout": "IPY_MODEL_8e7b7fd02c9e41f683dbed1c6e695435"
      }
     },
     "8b9b6630068a4f56971e162ee8539661": {
      "model_module": "@jupyter-widgets/controls",
      "model_module_version": "1.5.0",
      "model_name": "VBoxModel",
      "state": {
       "children": [
        "IPY_MODEL_3e373808c1dc4f8686ab3040204b813d",
        "IPY_MODEL_a5df10352c194daf80e083a9e0eff423"
       ],
       "layout": "IPY_MODEL_e16a07633e9b4c3c80e66e3ea29fb5fd"
      }
     },
     "8bef621d5c80438f9c5fe2346fc1d1da": {
      "model_module": "@jupyter-widgets/controls",
      "model_module_version": "1.5.0",
      "model_name": "DescriptionStyleModel",
      "state": {
       "description_width": ""
      }
     },
     "8c325384be4c4706aebc5893f1c4b670": {
      "model_module": "@jupyter-widgets/controls",
      "model_module_version": "1.5.0",
      "model_name": "ButtonModel",
      "state": {
       "button_style": "danger",
       "description": "Compute",
       "icon": "check",
       "layout": "IPY_MODEL_efd117f1f48342d4a50822082569dbef",
       "style": "IPY_MODEL_95e5ccb3ceb54bd287f0ca56f9c11d03",
       "tooltip": "Run computation"
      }
     },
     "8c65887ff5024524b79ae9a0720ecdca": {
      "model_module": "@jupyter-widgets/controls",
      "model_module_version": "1.5.0",
      "model_name": "DescriptionStyleModel",
      "state": {
       "description_width": ""
      }
     },
     "8cb29954f8754095ad9d7818eca25f44": {
      "model_module": "@jupyter-widgets/controls",
      "model_module_version": "1.5.0",
      "model_name": "DescriptionStyleModel",
      "state": {
       "description_width": ""
      }
     },
     "8cceeafd6987417383790a2e5c2499cf": {
      "model_module": "@jupyter-widgets/controls",
      "model_module_version": "1.5.0",
      "model_name": "DescriptionStyleModel",
      "state": {
       "description_width": ""
      }
     },
     "8d2a3f4266b340a6b3e24857a841372d": {
      "model_module": "@jupyter-widgets/controls",
      "model_module_version": "1.5.0",
      "model_name": "DropdownModel",
      "state": {
       "_options_labels": [
        "C:\\Users\\dominiquef\\Documents\\GIT\\mira\\mirageoscience-apps\\docs\\content\\applications",
        "C:\\Users\\dominiquef\\Documents\\GIT\\mira\\mirageoscience-apps\\docs\\content",
        "C:\\Users\\dominiquef\\Documents\\GIT\\mira\\mirageoscience-apps\\docs",
        "C:\\Users\\dominiquef\\Documents\\GIT\\mira\\mirageoscience-apps",
        "C:\\Users\\dominiquef\\Documents\\GIT\\mira",
        "C:\\Users\\dominiquef\\Documents\\GIT",
        "C:\\Users\\dominiquef\\Documents",
        "C:\\Users\\dominiquef",
        "C:\\Users",
        "C:\\",
        "D:\\",
        "Z:\\"
       ],
       "index": 0,
       "layout": "IPY_MODEL_c1fba656617343259a99e8d3f4b7e598",
       "style": "IPY_MODEL_f5e68256d4a4428292bf0d52e8d84d4f"
      }
     },
     "8de5c40945574897b4ada37a1133d39d": {
      "model_module": "@jupyter-widgets/base",
      "model_module_version": "1.2.0",
      "model_name": "LayoutModel",
      "state": {
       "display": "none",
       "grid_area": "filename",
       "width": "auto"
      }
     },
     "8e1617255b374c80a9b977e8f3bd8e58": {
      "model_module": "@jupyter-widgets/controls",
      "model_module_version": "1.5.0",
      "model_name": "DescriptionStyleModel",
      "state": {
       "description_width": ""
      }
     },
     "8e422d3e60e54845aac8bd87511c4054": {
      "model_module": "@jupyter-widgets/controls",
      "model_module_version": "1.5.0",
      "model_name": "VBoxModel",
      "state": {
       "children": [
        "IPY_MODEL_7a610fd86e38453d9130d51649a62045"
       ],
       "layout": "IPY_MODEL_1987fd18ab8f4828a5163f9b35a70764"
      }
     },
     "8e438bd8db7c4933848495e4f71ff108": {
      "model_module": "@jupyter-widgets/controls",
      "model_module_version": "1.5.0",
      "model_name": "VBoxModel",
      "state": {
       "children": [
        "IPY_MODEL_7f2a9fba323f48f2b89d571b9b5bea85",
        "IPY_MODEL_0b5f6a24003d47f2bf8e99e00011d57f",
        "IPY_MODEL_2346139a7350446586f4fbf8061b0496",
        "IPY_MODEL_f8f40c163f4b442ca55d963dddc9a402",
        "IPY_MODEL_ea73c178ef474dbcb06bddc61eb6fb61"
       ],
       "layout": "IPY_MODEL_7ddc0d6cc44b47788b177880e13b4cbc"
      }
     },
     "8e4ac35a25bb414880217be37f2d5fc0": {
      "model_module": "@jupyter-widgets/controls",
      "model_module_version": "1.5.0",
      "model_name": "DescriptionStyleModel",
      "state": {
       "description_width": ""
      }
     },
     "8e7b7fd02c9e41f683dbed1c6e695435": {
      "model_module": "@jupyter-widgets/base",
      "model_module_version": "1.2.0",
      "model_name": "LayoutModel",
      "state": {}
     },
     "8e832aba78934faaafb2f140b286f48d": {
      "model_module": "@jupyter-widgets/controls",
      "model_module_version": "1.5.0",
      "model_name": "TextareaModel",
      "state": {
       "description": "<=> WKT",
       "layout": "IPY_MODEL_367d6a48780546e98aaf9186c78d5b66",
       "style": "IPY_MODEL_28a670a5bd1947b6a44662f5fdb554dd",
       "value": "GEOGCS[\"WGS 84\",DATUM[\"WGS_1984\",SPHEROID[\"WGS 84\",6378137,298.257223563,AUTHORITY[\"EPSG\",\"7030\"]],AUTHORITY[\"EPSG\",\"6326\"]],PRIMEM[\"Greenwich\",0,AUTHORITY[\"EPSG\",\"8901\"]],UNIT[\"degree\",0.0174532925199433,AUTHORITY[\"EPSG\",\"9122\"]],AXIS[\"Latitude\",NORTH],AXIS[\"Longitude\",EAST],AUTHORITY[\"EPSG\",\"4326\"]]"
      }
     },
     "8e95b59f662041b388c0c6dd6acb1a33": {
      "model_module": "@jupyter-widgets/controls",
      "model_module_version": "1.5.0",
      "model_name": "DescriptionStyleModel",
      "state": {
       "description_width": ""
      }
     },
     "8ec338e3579c44a0a267a1ecfcd3ca24": {
      "model_module": "@jupyter-widgets/base",
      "model_module_version": "1.2.0",
      "model_name": "LayoutModel",
      "state": {
       "display": "none",
       "grid_gap": "0px 0px",
       "grid_template_areas": "\n                    'pathlist pathlist'\n                    'dircontent dircontent'\n                    ",
       "grid_template_columns": "60% 40%",
       "grid_template_rows": "auto auto",
       "width": "500px"
      }
     },
     "8ede5c5f278945f0ae934bf2468978db": {
      "model_module": "@jupyter-widgets/controls",
      "model_module_version": "1.5.0",
      "model_name": "VBoxModel",
      "state": {
       "children": [
        "IPY_MODEL_bffb021c3fe4404aa90aea0d1988a7b9",
        "IPY_MODEL_71037a78713c4bff994f67508ce5764f"
       ],
       "layout": "IPY_MODEL_3a63a34bd0834cc998d170e0419faf1e"
      }
     },
     "8f136b27bb074ed4a9489a25c1abf21d": {
      "model_module": "@jupyter-widgets/base",
      "model_module_version": "1.2.0",
      "model_name": "LayoutModel",
      "state": {
       "grid_area": "dircontent",
       "width": "auto"
      }
     },
     "8f1aee11c25748d8be7b12501533d763": {
      "model_module": "@jupyter-widgets/controls",
      "model_module_version": "1.5.0",
      "model_name": "DescriptionStyleModel",
      "state": {
       "description_width": "initial"
      }
     },
     "8f1f705e93e1436f83b549b30059f09a": {
      "model_module": "@jupyter-widgets/base",
      "model_module_version": "1.2.0",
      "model_name": "LayoutModel",
      "state": {}
     },
     "8f5b32856a8442ccbc34e031a5ba9de5": {
      "model_module": "@jupyter-widgets/controls",
      "model_module_version": "1.5.0",
      "model_name": "HTMLModel",
      "state": {
       "layout": "IPY_MODEL_a8c8e0096ba04315a0fb8a56a55fd5e7",
       "placeholder": "",
       "style": "IPY_MODEL_076c15183ebd4a909731ea904696acb8",
       "value": "<span style=\"margin-left:10px; color:orange;\">C:\\Users\\dominiquef\\Documents\\GIT\\mira\\mirageoscience-apps\\assets\\FlinFlon.geoh5</span>"
      }
     },
     "8f9891d92cfd4ba8b2cf099c6e806c52": {
      "model_module": "@jupyter-widgets/base",
      "model_module_version": "1.2.0",
      "model_name": "LayoutModel",
      "state": {}
     },
     "8fadf70c4ec04513b854f260d94eaea8": {
      "model_module": "@jupyter-widgets/controls",
      "model_module_version": "1.5.0",
      "model_name": "TextareaModel",
      "state": {
       "description": "<=> WKT",
       "layout": "IPY_MODEL_717517452d74488d87b8ad67009bd7a4",
       "style": "IPY_MODEL_25c3cae28696493daf27d41740d9ce2c",
       "value": "GEOGCS[\"WGS 84\",DATUM[\"WGS_1984\",SPHEROID[\"WGS 84\",6378137,298.257223563,AUTHORITY[\"EPSG\",\"7030\"]],AUTHORITY[\"EPSG\",\"6326\"]],PRIMEM[\"Greenwich\",0,AUTHORITY[\"EPSG\",\"8901\"]],UNIT[\"degree\",0.0174532925199433,AUTHORITY[\"EPSG\",\"9122\"]],AXIS[\"Latitude\",NORTH],AXIS[\"Longitude\",EAST],AUTHORITY[\"EPSG\",\"4326\"]]"
      }
     },
     "8ff9a145a7cf444096b86e27925e0347": {
      "model_module": "@jupyter-widgets/controls",
      "model_module_version": "1.5.0",
      "model_name": "ButtonModel",
      "state": {
       "description": "Select",
       "layout": "IPY_MODEL_88bcd4c7bd634386ad757dab1b5a6472",
       "style": "IPY_MODEL_aec8104eab764eff845c7bfebf18ac35"
      }
     },
     "9018489ee0e24f1e9f50f7864a41deaf": {
      "model_module": "@jupyter-widgets/controls",
      "model_module_version": "1.5.0",
      "model_name": "ButtonModel",
      "state": {
       "description": "Cancel",
       "layout": "IPY_MODEL_4a877701d70b4f1e87cedbcc95ff8d08",
       "style": "IPY_MODEL_bfb19234d1594a098c5a9f5bfa0b856b"
      }
     },
     "901cf82144f24e55b3472d0229f98782": {
      "model_module": "@jupyter-widgets/base",
      "model_module_version": "1.2.0",
      "model_name": "LayoutModel",
      "state": {
       "display": "none",
       "grid_gap": "0px 0px",
       "grid_template_areas": "\n                    'pathlist pathlist'\n                    'dircontent dircontent'\n                    ",
       "grid_template_columns": "60% 40%",
       "grid_template_rows": "auto auto",
       "width": "500px"
      }
     },
     "907ade643dec4d3abb4f34a7ec7ff1ac": {
      "model_module": "@jupyter-widgets/base",
      "model_module_version": "1.2.0",
      "model_name": "LayoutModel",
      "state": {
       "width": "50%"
      }
     },
     "90be8df0a5484c099dd0f0b5b4577ccb": {
      "model_module": "@jupyter-widgets/controls",
      "model_module_version": "1.5.0",
      "model_name": "VBoxModel",
      "state": {
       "children": [
        "IPY_MODEL_4aa2653d853743a9bd6d46212483e41d"
       ],
       "layout": "IPY_MODEL_a5a217379eda4ee1a0a72840f04fa625"
      }
     },
     "90e3e52533654ab49014e75dd3d66660": {
      "model_module": "@jupyter-widgets/controls",
      "model_module_version": "1.5.0",
      "model_name": "DropdownModel",
      "state": {
       "_options_labels": [
        "C:\\Users\\dominiquef\\Documents\\GIT\\mira\\mirageoscience-apps\\assets",
        "C:\\Users\\dominiquef\\Documents\\GIT\\mira\\mirageoscience-apps",
        "C:\\Users\\dominiquef\\Documents\\GIT\\mira",
        "C:\\Users\\dominiquef\\Documents\\GIT",
        "C:\\Users\\dominiquef\\Documents",
        "C:\\Users\\dominiquef",
        "C:\\Users",
        "C:\\",
        "D:\\",
        "Z:\\"
       ],
       "index": 0,
       "layout": "IPY_MODEL_33d7cc09f55942688ffc7033dce911cf",
       "style": "IPY_MODEL_d15144cde4734bf2a55ecd28e5e76a79"
      }
     },
     "90e7830d706344ca9d9303e687b9a31b": {
      "model_module": "@jupyter-widgets/controls",
      "model_module_version": "1.5.0",
      "model_name": "ButtonModel",
      "state": {
       "description": "Change",
       "layout": "IPY_MODEL_ca4e84366b9645e6bb3b39c5c98be22f",
       "style": "IPY_MODEL_c370d75e686d4ecdb82b9423f318814e"
      }
     },
     "90f49b2657d94c3c83114c45844d2c35": {
      "model_module": "@jupyter-widgets/base",
      "model_module_version": "1.2.0",
      "model_name": "LayoutModel",
      "state": {}
     },
     "910d32a3254d41a4b0f81d11d050778b": {
      "model_module": "@jupyter-widgets/controls",
      "model_module_version": "1.5.0",
      "model_name": "DescriptionStyleModel",
      "state": {
       "description_width": ""
      }
     },
     "910e63eac15c438eba279a95ae3147af": {
      "model_module": "@jupyter-widgets/controls",
      "model_module_version": "1.5.0",
      "model_name": "VBoxModel",
      "state": {
       "children": [
        "IPY_MODEL_678388045f024e71bfb5ccd416e94ef0",
        "IPY_MODEL_a438644517114589b3e55d2e20ac5b6b"
       ],
       "layout": "IPY_MODEL_5616d4739e814348b2a1edfac87e7565"
      }
     },
     "912a0ab51fe049a6af0f56eef09850a6": {
      "model_module": "@jupyter-widgets/controls",
      "model_module_version": "1.5.0",
      "model_name": "HBoxModel",
      "state": {
       "children": [
        "IPY_MODEL_8ff9a145a7cf444096b86e27925e0347",
        "IPY_MODEL_e55d9f22def0432293ea93ca1782c4c2",
        "IPY_MODEL_352ab9e6bc0a4d1ab5a19328f4a10114"
       ],
       "layout": "IPY_MODEL_3d2d83454a5c4abea4328b45c718977c"
      }
     },
     "912b801c35734261a1fa5aec0a3b8757": {
      "model_module": "@jupyter-widgets/controls",
      "model_module_version": "1.5.0",
      "model_name": "ButtonStyleModel",
      "state": {}
     },
     "913089801c8b43bbbeddac3fef6a06b2": {
      "model_module": "@jupyter-widgets/base",
      "model_module_version": "1.2.0",
      "model_name": "LayoutModel",
      "state": {}
     },
     "915c3597c70643658821a203cec44008": {
      "model_module": "@jupyter-widgets/controls",
      "model_module_version": "1.5.0",
      "model_name": "VBoxModel",
      "state": {
       "children": [
        "IPY_MODEL_dc3216ebfe8a4373ae773d4789be6379",
        "IPY_MODEL_df7315ea2268485b9cffe05793229488",
        "IPY_MODEL_e2cd15a091ea43e88a0bac37feb45993"
       ],
       "layout": "IPY_MODEL_ff3fcca57a6f45a5a7cd5b747a1a1cbe"
      }
     },
     "91870fe89f804482abafac44dcbf6778": {
      "model_module": "@jupyter-widgets/controls",
      "model_module_version": "1.5.0",
      "model_name": "ButtonModel",
      "state": {
       "description": "Cancel",
       "layout": "IPY_MODEL_1a5af0ad843b4a50a184205ecbd24f07",
       "style": "IPY_MODEL_757db67f89504d0ca78edf50185f507a"
      }
     },
     "91bcf69eb5154b65b0b5d1c4ae7e172a": {
      "model_module": "@jupyter-widgets/controls",
      "model_module_version": "1.5.0",
      "model_name": "VBoxModel",
      "state": {
       "children": [
        "IPY_MODEL_c9803c1ff3c4485288f7a0a0994537eb",
        "IPY_MODEL_b130bae74c664b5b8588588776a5f89b"
       ],
       "layout": "IPY_MODEL_a5e7527b7b9e4a23be96119edec3dae9"
      }
     },
     "9217e4169f134ed493725d2045dcd45e": {
      "model_module": "@jupyter-widgets/controls",
      "model_module_version": "1.5.0",
      "model_name": "DescriptionStyleModel",
      "state": {
       "description_width": ""
      }
     },
     "922b3531f3e94a29b38eb041c10f706d": {
      "model_module": "@jupyter-widgets/base",
      "model_module_version": "1.2.0",
      "model_name": "LayoutModel",
      "state": {}
     },
     "922eecf5e17341409fc601153d67c31d": {
      "model_module": "@jupyter-widgets/controls",
      "model_module_version": "1.5.0",
      "model_name": "ButtonModel",
      "state": {
       "description": "Change",
       "layout": "IPY_MODEL_e5104d46ae8c4281956a68da32d2d2a7",
       "style": "IPY_MODEL_c6bed0ccb2904ebea81b02cfebfa3e3e"
      }
     },
     "9273caed810e4b5393e89395c629f0e6": {
      "model_module": "@jupyter-widgets/controls",
      "model_module_version": "1.5.0",
      "model_name": "ButtonModel",
      "state": {
       "button_style": "danger",
       "description": "Compute",
       "icon": "check",
       "layout": "IPY_MODEL_7e3f1574d4034779b02be065766353d4",
       "style": "IPY_MODEL_25844f682e414be9b72331f0b28cff0b",
       "tooltip": "Run computation"
      }
     },
     "9278ae2dc229444fa317198206f285a7": {
      "model_module": "@jupyter-widgets/base",
      "model_module_version": "1.2.0",
      "model_name": "LayoutModel",
      "state": {
       "display": "none"
      }
     },
     "928cdded75f34903a30d96f7b63e33fc": {
      "model_module": "@jupyter-widgets/controls",
      "model_module_version": "1.5.0",
      "model_name": "DescriptionStyleModel",
      "state": {
       "description_width": ""
      }
     },
     "9297e9e735bd46d5bab90f729928dde2": {
      "model_module": "@jupyter-widgets/controls",
      "model_module_version": "1.5.0",
      "model_name": "DescriptionStyleModel",
      "state": {
       "description_width": ""
      }
     },
     "929b9064b7324b93a6745440fb07fbf2": {
      "model_module": "@jupyter-widgets/base",
      "model_module_version": "1.2.0",
      "model_name": "LayoutModel",
      "state": {
       "display": "none",
       "grid_gap": "0px 0px",
       "grid_template_areas": "\n                    'pathlist filename'\n                    'dircontent dircontent'\n                    ",
       "grid_template_columns": "60% 40%",
       "grid_template_rows": "auto auto",
       "width": "500px"
      }
     },
     "933b32df61224e089e88bfbecd084a4a": {
      "model_module": "@jupyter-widgets/controls",
      "model_module_version": "1.5.0",
      "model_name": "SelectModel",
      "state": {
       "_options_labels": [
        "..",
        "dask-worker-space",
        "images"
       ],
       "index": null,
       "layout": "IPY_MODEL_4b0e04428c964e16803de82051359480",
       "rows": 8,
       "style": "IPY_MODEL_e86c986153cb4d64b9e08995c1e05ab3"
      }
     },
     "9341a193ec0c49ad968700f05e3d2a91": {
      "model_module": "@jupyter-widgets/controls",
      "model_module_version": "1.5.0",
      "model_name": "ButtonModel",
      "state": {
       "button_style": "danger",
       "description": "Compute",
       "icon": "check",
       "layout": "IPY_MODEL_12d2c75c48c64d049b7092edfd519388",
       "style": "IPY_MODEL_36a9d9291fdd4dbdbc14e5e3b2d26d14",
       "tooltip": "Run computation"
      }
     },
     "93e89efb65894720b92a54ad63aaac5e": {
      "model_module": "@jupyter-widgets/controls",
      "model_module_version": "1.5.0",
      "model_name": "HBoxModel",
      "state": {
       "children": [
        "IPY_MODEL_915c3597c70643658821a203cec44008",
        "IPY_MODEL_32153dc0a50f43f78fa7704d85619b3d"
       ],
       "layout": "IPY_MODEL_6f75c8d1783342fb9f702db695df0d87"
      }
     },
     "94205567e6fa4ac4a1103ddb6a93c776": {
      "model_module": "@jupyter-widgets/controls",
      "model_module_version": "1.5.0",
      "model_name": "TextModel",
      "state": {
       "layout": "IPY_MODEL_a3362af326e0479298ec7b19934c26a6",
       "placeholder": "output filename",
       "style": "IPY_MODEL_5c8f6901994447b1a9b909c6a326c523",
       "value": "FlinFlon.geoh5"
      }
     },
     "946921e81b6a4c028e2c5fa398947d0b": {
      "model_module": "@jupyter-widgets/controls",
      "model_module_version": "1.5.0",
      "model_name": "TextModel",
      "state": {
       "continuous_update": false,
       "description": "Output Projection:",
       "layout": "IPY_MODEL_0c0283cdf8ee4593a274082832703d30",
       "style": "IPY_MODEL_07607c53ea0441d28772681d64890f97",
       "value": "EPSG:4326"
      }
     },
     "95066f6cef174e7499e12dbb195dae26": {
      "model_module": "@jupyter-widgets/controls",
      "model_module_version": "1.5.0",
      "model_name": "HBoxModel",
      "state": {
       "children": [
        "IPY_MODEL_a9230cba0be74839a168daeea6d5f19a",
        "IPY_MODEL_4d82df1504d44da98990fe95ecb1b37a"
       ],
       "layout": "IPY_MODEL_60a1fb7fa2ab40f48446c0d6fef3665a"
      }
     },
     "9574020cdd1246ee8ce577e4907125f9": {
      "model_module": "@jupyter-widgets/controls",
      "model_module_version": "1.5.0",
      "model_name": "VBoxModel",
      "state": {
       "children": [
        "IPY_MODEL_2386de96f5424f548b10b62ddee27d13",
        "IPY_MODEL_93e89efb65894720b92a54ad63aaac5e"
       ],
       "layout": "IPY_MODEL_e97a79be71b841d9a9ba6930f7c46d3f"
      }
     },
     "95e5ccb3ceb54bd287f0ca56f9c11d03": {
      "model_module": "@jupyter-widgets/controls",
      "model_module_version": "1.5.0",
      "model_name": "ButtonStyleModel",
      "state": {}
     },
     "95fbf7662005494a8d2911d6f484624a": {
      "model_module": "@jupyter-widgets/controls",
      "model_module_version": "1.5.0",
      "model_name": "HBoxModel",
      "state": {
       "children": [
        "IPY_MODEL_fc6a77be2c7840e4a66e70daae664970",
        "IPY_MODEL_dfa258bd9def4f1d8939c33e6799a900"
       ],
       "layout": "IPY_MODEL_ac3ec560ff1c4020acb7731e811492a0"
      }
     },
     "96056ec77b2645b487afe324a00518e0": {
      "model_module": "@jupyter-widgets/base",
      "model_module_version": "1.2.0",
      "model_name": "LayoutModel",
      "state": {}
     },
     "9629f329604c4f7d8eae1f03f8041342": {
      "model_module": "@jupyter-widgets/base",
      "model_module_version": "1.2.0",
      "model_name": "LayoutModel",
      "state": {}
     },
     "96529a7642b34b6695b9f4e45aaa22e3": {
      "model_module": "@jupyter-widgets/controls",
      "model_module_version": "1.5.0",
      "model_name": "DescriptionStyleModel",
      "state": {
       "description_width": ""
      }
     },
     "96cb350aaa644525aeab827a33567d06": {
      "model_module": "@jupyter-widgets/controls",
      "model_module_version": "1.5.0",
      "model_name": "DescriptionStyleModel",
      "state": {
       "description_width": ""
      }
     },
     "97dd89a989a24e4c8612b6775b375fe5": {
      "model_module": "@jupyter-widgets/controls",
      "model_module_version": "1.5.0",
      "model_name": "DescriptionStyleModel",
      "state": {
       "description_width": ""
      }
     },
     "98038b6b378b46e0a76cafafe745c1cc": {
      "model_module": "@jupyter-widgets/controls",
      "model_module_version": "1.5.0",
      "model_name": "ButtonStyleModel",
      "state": {}
     },
     "9840218bd0dc4cc6bef85bc2dd64ddce": {
      "model_module": "@jupyter-widgets/base",
      "model_module_version": "1.2.0",
      "model_name": "LayoutModel",
      "state": {
       "width": "50%"
      }
     },
     "98515a472dc14ff3aa9fb17b5be7d308": {
      "model_module": "@jupyter-widgets/controls",
      "model_module_version": "1.5.0",
      "model_name": "TextModel",
      "state": {
       "layout": "IPY_MODEL_daa17b2cb44e4013a659adb58c21741d",
       "placeholder": "output filename",
       "style": "IPY_MODEL_5b60941dbbe64ea3a64b2048871c74fa",
       "value": "FlinFlon.geoh5"
      }
     },
     "98f4bfbc0eee4038a484d38ac41eebfb": {
      "model_module": "@jupyter-widgets/controls",
      "model_module_version": "1.5.0",
      "model_name": "DescriptionStyleModel",
      "state": {
       "description_width": "initial"
      }
     },
     "9929cde6f3854777ad2b8a87141f6561": {
      "model_module": "@jupyter-widgets/base",
      "model_module_version": "1.2.0",
      "model_name": "LayoutModel",
      "state": {}
     },
     "99b75300fe8b4d1b8068c7908a9761e3": {
      "model_module": "@jupyter-widgets/controls",
      "model_module_version": "1.5.0",
      "model_name": "GridBoxModel",
      "state": {
       "children": [
        "IPY_MODEL_4dee80205fce42778d2417bbcce57f44",
        "IPY_MODEL_fd58620876a844fd93799c95fece8d28",
        "IPY_MODEL_0bb1bd82bb414e3a9326418700a53711"
       ],
       "layout": "IPY_MODEL_52f09aa1192f4797821dc3ef7b3344bb"
      }
     },
     "99e2a904e05b4cb1b6147650d897268d": {
      "model_module": "@jupyter-widgets/controls",
      "model_module_version": "1.5.0",
      "model_name": "DescriptionStyleModel",
      "state": {
       "description_width": ""
      }
     },
     "9ab71863e2e44782936b676259e7496f": {
      "model_module": "@jupyter-widgets/base",
      "model_module_version": "1.2.0",
      "model_name": "LayoutModel",
      "state": {}
     },
     "9abae626475847adb8245506909fa165": {
      "model_module": "@jupyter-widgets/base",
      "model_module_version": "1.2.0",
      "model_name": "LayoutModel",
      "state": {
       "display": "none",
       "width": "auto"
      }
     },
     "9aeaeb9263974c3d943d2979fe48e296": {
      "model_module": "@jupyter-widgets/base",
      "model_module_version": "1.2.0",
      "model_name": "LayoutModel",
      "state": {
       "grid_area": "filename",
       "width": "auto"
      }
     },
     "9b22a086fc3f46f388fc7079528807f2": {
      "model_module": "@jupyter-widgets/base",
      "model_module_version": "1.2.0",
      "model_name": "LayoutModel",
      "state": {
       "grid_area": "dircontent",
       "width": "auto"
      }
     },
     "9b32df71d26e41d4bc8cc348955c029d": {
      "model_module": "@jupyter-widgets/controls",
      "model_module_version": "1.5.0",
      "model_name": "ButtonModel",
      "state": {
       "description": "Change",
       "layout": "IPY_MODEL_0d6ae0e55f924192b43fd094efbf1eb2",
       "style": "IPY_MODEL_b83def313f3c4e6fb0f328ac406fb62f"
      }
     },
     "9b96f188b0f6480c9f8ce222c0b8a655": {
      "model_module": "@jupyter-widgets/controls",
      "model_module_version": "1.5.0",
      "model_name": "GridBoxModel",
      "state": {
       "children": [
        "IPY_MODEL_81975bff9f0f435d8f253087b5f6c293",
        "IPY_MODEL_7d6f2438214b42b79ac44dd90aabdd64",
        "IPY_MODEL_cc34dd52d3d446d29b5c96d87e342dd1"
       ],
       "layout": "IPY_MODEL_4a67593a96264ac282ccec302853074f"
      }
     },
     "9bc77850e16141fe8b46e233cf0a9cd6": {
      "model_module": "@jupyter-widgets/controls",
      "model_module_version": "1.5.0",
      "model_name": "TextModel",
      "state": {
       "continuous_update": false,
       "description": "Output Projection:",
       "layout": "IPY_MODEL_36ff37cb49cc4dc4930bb5004e1f1d1f",
       "style": "IPY_MODEL_3d78559955dc4dc0890a2c7c81c6c74a",
       "value": "EPSG:4326"
      }
     },
     "9c36f9cae11247bf9ff6ba187105b828": {
      "model_module": "@jupyter-widgets/controls",
      "model_module_version": "1.5.0",
      "model_name": "HBoxModel",
      "state": {
       "children": [
        "IPY_MODEL_32647242521c4e338533c470881447c5",
        "IPY_MODEL_e644b204f9da42ebba54b468485ca048"
       ],
       "layout": "IPY_MODEL_48a631b10ce04aac9e1d627a11fbb854"
      }
     },
     "9c418b7718a141238fe790cc9d7a96b1": {
      "model_module": "@jupyter-widgets/controls",
      "model_module_version": "1.5.0",
      "model_name": "VBoxModel",
      "state": {
       "children": [
        "IPY_MODEL_4bbca9a66b9543068c149e1d55359499"
       ],
       "layout": "IPY_MODEL_ca5240e4fd704eb09f461723e977077c"
      }
     },
     "9c9ed52896324b89baccc31169abcfc1": {
      "model_module": "@jupyter-widgets/controls",
      "model_module_version": "1.5.0",
      "model_name": "TextareaModel",
      "state": {
       "description": "<=> WKT",
       "layout": "IPY_MODEL_f9794bf8ef614951999f2dd4c1386437",
       "style": "IPY_MODEL_3610bf9ad5bb4d1086caa109b341b1e5",
       "value": "GEOGCS[\"WGS 84\",DATUM[\"WGS_1984\",SPHEROID[\"WGS 84\",6378137,298.257223563,AUTHORITY[\"EPSG\",\"7030\"]],AUTHORITY[\"EPSG\",\"6326\"]],PRIMEM[\"Greenwich\",0,AUTHORITY[\"EPSG\",\"8901\"]],UNIT[\"degree\",0.0174532925199433,AUTHORITY[\"EPSG\",\"9122\"]],AXIS[\"Latitude\",NORTH],AXIS[\"Longitude\",EAST],AUTHORITY[\"EPSG\",\"4326\"]]"
      }
     },
     "9cbd02f71b0d4aba9f4b00678d0c3c62": {
      "model_module": "@jupyter-widgets/controls",
      "model_module_version": "1.5.0",
      "model_name": "DescriptionStyleModel",
      "state": {
       "description_width": ""
      }
     },
     "9d41981cf2bf4f40affdf523a744f675": {
      "model_module": "@jupyter-widgets/base",
      "model_module_version": "1.2.0",
      "model_name": "LayoutModel",
      "state": {}
     },
     "9d53aedb76ce4a599b94ef5d31bca83f": {
      "model_module": "@jupyter-widgets/controls",
      "model_module_version": "1.5.0",
      "model_name": "DescriptionStyleModel",
      "state": {
       "description_width": ""
      }
     },
     "9db8a4bd2933488a9bdcd5373e225b9b": {
      "model_module": "@jupyter-widgets/controls",
      "model_module_version": "1.5.0",
      "model_name": "DescriptionStyleModel",
      "state": {
       "description_width": ""
      }
     },
     "9e39e8f0ac1a45b39cc0a89b0941ce20": {
      "model_module": "@jupyter-widgets/base",
      "model_module_version": "1.2.0",
      "model_name": "LayoutModel",
      "state": {}
     },
     "9e4b3366d8154c1589ccd232edc34478": {
      "model_module": "@jupyter-widgets/base",
      "model_module_version": "1.2.0",
      "model_name": "LayoutModel",
      "state": {
       "width": "auto"
      }
     },
     "9e54ede9823d4a4b9b8d279aa1dc2dec": {
      "model_module": "@jupyter-widgets/base",
      "model_module_version": "1.2.0",
      "model_name": "LayoutModel",
      "state": {}
     },
     "9e594ffdbf5b4cfcb4b30bb7635b4949": {
      "model_module": "@jupyter-widgets/base",
      "model_module_version": "1.2.0",
      "model_name": "LayoutModel",
      "state": {
       "grid_area": "pathlist",
       "width": "auto"
      }
     },
     "9ed1d99badbe48e8a28448ae5c250ec4": {
      "model_module": "@jupyter-widgets/controls",
      "model_module_version": "1.5.0",
      "model_name": "DescriptionStyleModel",
      "state": {
       "description_width": ""
      }
     },
     "9ef8f09b125749729228e38a6a59bd2c": {
      "model_module": "@jupyter-widgets/controls",
      "model_module_version": "1.5.0",
      "model_name": "DescriptionStyleModel",
      "state": {
       "description_width": "initial"
      }
     },
     "9f05a482930048da98685c1040cdb7e1": {
      "model_module": "@jupyter-widgets/controls",
      "model_module_version": "1.5.0",
      "model_name": "TextareaModel",
      "state": {
       "description": "<=> WKT",
       "layout": "IPY_MODEL_83bf7906a57b4a279fa24e97f48a37cf",
       "style": "IPY_MODEL_5212fb21b2e245748afad444be0e2002",
       "value": "GEOGCS[\"WGS 84\",DATUM[\"WGS_1984\",SPHEROID[\"WGS 84\",6378137,298.257223563,AUTHORITY[\"EPSG\",\"7030\"]],AUTHORITY[\"EPSG\",\"6326\"]],PRIMEM[\"Greenwich\",0,AUTHORITY[\"EPSG\",\"8901\"]],UNIT[\"degree\",0.0174532925199433,AUTHORITY[\"EPSG\",\"9122\"]],AXIS[\"Latitude\",NORTH],AXIS[\"Longitude\",EAST],AUTHORITY[\"EPSG\",\"4326\"]]"
      }
     },
     "9f2162e1fa0349aaa5b8b9a8998efd04": {
      "model_module": "@jupyter-widgets/controls",
      "model_module_version": "1.5.0",
      "model_name": "SelectModel",
      "state": {
       "_options_labels": [
        "..",
        "SimPEG_PFInversion",
        "Temp",
        "dask-worker-space",
        "FlinFlon.geoh5",
        "HelloWorld.ui.json",
        "Inversion_.json",
        "Inversion_1.json",
        "Inversion_2.json",
        "MtDore_TMI.geoh5",
        "Octree_Mesh.ui.json",
        "Untitled.ipynb",
        "VTEM_model.mod",
        "Workspace.Gravity_Magnetics_drape60m_Airborne_Gxx.tif",
        "Workspace.Gravity_Magnetics_drape60m_Airborne_Gxx_Colorbar.png",
        "Workspace.Gravity_Magnetics_drape60m_Airborne_Gxx_RGB.txt",
        "Workspace.Gravity_Magnetics_drape60m_Airborne_TMI.tif",
        "Workspace.Gravity_Magnetics_drape60m_Airborne_TMI_Colorbar.png",
        "Workspace.Gravity_Magnetics_drape60m_Airborne_TMI_RGB.txt",
        "demo.ipynb",
        "input.ui.json",
        "options_tree.json",
        "tempui.ui.geoh5",
        "tempui.ui.json",
        "test.ui.geoh5",
        "test.ui.json",
        "testPoints.geoh5"
       ],
       "index": 4,
       "layout": "IPY_MODEL_c984b66e44c0442b9a27aaa64b810d3f",
       "rows": 8,
       "style": "IPY_MODEL_b61dc5ca9ae14074b1aa46fe73140fac"
      }
     },
     "9f89a1281b524368a92df19c3afc374e": {
      "model_module": "@jupyter-widgets/controls",
      "model_module_version": "1.5.0",
      "model_name": "DescriptionStyleModel",
      "state": {
       "description_width": ""
      }
     },
     "9fc19c4e0d7945e9a284ceebdebd73a6": {
      "model_module": "@jupyter-widgets/controls",
      "model_module_version": "1.5.0",
      "model_name": "ToggleButtonModel",
      "state": {
       "layout": "IPY_MODEL_8925b920d33d4bc4a4b258d82190abab",
       "style": "IPY_MODEL_8cb29954f8754095ad9d7818eca25f44"
      }
     },
     "a05c3efcebb94788b84ed1d84701ac9d": {
      "model_module": "@jupyter-widgets/base",
      "model_module_version": "1.2.0",
      "model_name": "LayoutModel",
      "state": {
       "grid_area": "pathlist",
       "width": "auto"
      }
     },
     "a065d04c809b4c32885710267b6392bf": {
      "model_module": "@jupyter-widgets/controls",
      "model_module_version": "1.5.0",
      "model_name": "DescriptionStyleModel",
      "state": {
       "description_width": ""
      }
     },
     "a07007fc0572420599723beb5cbedace": {
      "model_module": "@jupyter-widgets/base",
      "model_module_version": "1.2.0",
      "model_name": "LayoutModel",
      "state": {
       "display": "none",
       "width": "auto"
      }
     },
     "a09f1606bbc7411694d983b0022d313b": {
      "model_module": "@jupyter-widgets/base",
      "model_module_version": "1.2.0",
      "model_name": "LayoutModel",
      "state": {
       "width": "auto"
      }
     },
     "a0a43338e4874fc5bdeea860508ce37b": {
      "model_module": "@jupyter-widgets/controls",
      "model_module_version": "1.5.0",
      "model_name": "DescriptionStyleModel",
      "state": {
       "description_width": ""
      }
     },
     "a0ad52b992ba4dfca9147939740f2a32": {
      "model_module": "@jupyter-widgets/controls",
      "model_module_version": "1.5.0",
      "model_name": "HBoxModel",
      "state": {
       "children": [
        "IPY_MODEL_bb7c960210034ffaa6baa2853a93d45f",
        "IPY_MODEL_54ed69f1a4864a6d92bcb5fbd8dd7a1f",
        "IPY_MODEL_226cd83640344409b70742535dc69dd0"
       ],
       "layout": "IPY_MODEL_fe942be03aea48b99b288488d0f139b8"
      }
     },
     "a10042c5f569492fb86e84ab35979978": {
      "model_module": "@jupyter-widgets/controls",
      "model_module_version": "1.5.0",
      "model_name": "ButtonModel",
      "state": {
       "description": "Select",
       "layout": "IPY_MODEL_852d061226b747a0a51e24b0c56a84a6",
       "style": "IPY_MODEL_06ca8f0b2aa941758a878935976811c2"
      }
     },
     "a112f710334d4e8cae157c0c5ef7038c": {
      "model_module": "@jupyter-widgets/base",
      "model_module_version": "1.2.0",
      "model_name": "LayoutModel",
      "state": {
       "width": "auto"
      }
     },
     "a1588dc62d3c4cf1afd96222d6953059": {
      "model_module": "@jupyter-widgets/base",
      "model_module_version": "1.2.0",
      "model_name": "LayoutModel",
      "state": {}
     },
     "a1614949d3524a45a49087c4bb69fdfd": {
      "model_module": "@jupyter-widgets/controls",
      "model_module_version": "1.5.0",
      "model_name": "HBoxModel",
      "state": {
       "children": [
        "IPY_MODEL_79b8072e63f8480e98b7fe8d55f96200",
        "IPY_MODEL_f1c2e494a2dc4171a3ae031332e9a2fc"
       ],
       "layout": "IPY_MODEL_5154af184f50482491ced6db7dcb5597"
      }
     },
     "a16fbfee701c45c4847f3d7c48961317": {
      "model_module": "@jupyter-widgets/controls",
      "model_module_version": "1.5.0",
      "model_name": "DescriptionStyleModel",
      "state": {
       "description_width": "initial"
      }
     },
     "a20f5f2ed994443199094af26e6c17d8": {
      "model_module": "@jupyter-widgets/base",
      "model_module_version": "1.2.0",
      "model_name": "LayoutModel",
      "state": {
       "grid_area": "dircontent",
       "width": "auto"
      }
     },
     "a26f4850d4954bd0903f006958d469f8": {
      "model_module": "@jupyter-widgets/controls",
      "model_module_version": "1.5.0",
      "model_name": "VBoxModel",
      "state": {
       "children": [
        "IPY_MODEL_44907c3f85584c9db194702bc2ad1b60",
        "IPY_MODEL_c00ac64b60664496bd612b6af79e8bcb"
       ],
       "layout": "IPY_MODEL_2305327f52114c34ae77382fc5820e9d"
      }
     },
     "a27b88c41c40421ca7519be8132481bd": {
      "model_module": "@jupyter-widgets/controls",
      "model_module_version": "1.5.0",
      "model_name": "DescriptionStyleModel",
      "state": {
       "description_width": ""
      }
     },
     "a3362af326e0479298ec7b19934c26a6": {
      "model_module": "@jupyter-widgets/base",
      "model_module_version": "1.2.0",
      "model_name": "LayoutModel",
      "state": {
       "grid_area": "filename",
       "width": "auto"
      }
     },
     "a3896c47062249f68f16320b8ec67b1f": {
      "model_module": "@jupyter-widgets/base",
      "model_module_version": "1.2.0",
      "model_name": "LayoutModel",
      "state": {
       "width": "auto"
      }
     },
     "a38f7e63baae4227abb9994bda18a4a9": {
      "model_module": "@jupyter-widgets/controls",
      "model_module_version": "1.5.0",
      "model_name": "CheckboxModel",
      "state": {
       "description": "Geoscience ANALYST Pro - Live link",
       "disabled": false,
       "indent": false,
       "layout": "IPY_MODEL_13320ab9bb2a4318b8f2ae697621cce2",
       "style": "IPY_MODEL_2fc4103743e14c3b8e3e4d1a86dfd6e1",
       "value": false
      }
     },
     "a3916ea31fa4404d9864bfcc50080db5": {
      "model_module": "@jupyter-widgets/controls",
      "model_module_version": "1.5.0",
      "model_name": "DescriptionStyleModel",
      "state": {
       "description_width": ""
      }
     },
     "a3ba2a7826164c1e825586a2bba267fd": {
      "model_module": "@jupyter-widgets/controls",
      "model_module_version": "1.5.0",
      "model_name": "HBoxModel",
      "state": {
       "children": [
        "IPY_MODEL_febed79946b34e05b9c25d3c02700d9f",
        "IPY_MODEL_6e46c80ecd9345b6a3b163457c890417",
        "IPY_MODEL_73e2f3e041bf45a7b400ff4dcfc71f7e"
       ],
       "layout": "IPY_MODEL_50b578d06b1943ea941a15e38d9601a2"
      }
     },
     "a3c39012208f490cb2122cf0d90ffc60": {
      "model_module": "@jupyter-widgets/base",
      "model_module_version": "1.2.0",
      "model_name": "LayoutModel",
      "state": {}
     },
     "a3e84a49696547cf87a4f176d9d89a64": {
      "model_module": "@jupyter-widgets/controls",
      "model_module_version": "1.5.0",
      "model_name": "DescriptionStyleModel",
      "state": {
       "description_width": ""
      }
     },
     "a403aa6c5fa74ec0bc7b170536a1567b": {
      "model_module": "@jupyter-widgets/controls",
      "model_module_version": "1.5.0",
      "model_name": "TextModel",
      "state": {
       "continuous_update": false,
       "description": "Group:",
       "layout": "IPY_MODEL_1a6738f4264d4176ac2d1222b97a249d",
       "style": "IPY_MODEL_fd91664a35514a20b9d0f8df78a5041e",
       "value": "CoordinateTransformation"
      }
     },
     "a41924e7737547a1bcef51db7ba46f8e": {
      "model_module": "@jupyter-widgets/base",
      "model_module_version": "1.2.0",
      "model_name": "LayoutModel",
      "state": {
       "overflow": "auto"
      }
     },
     "a438644517114589b3e55d2e20ac5b6b": {
      "model_module": "@jupyter-widgets/controls",
      "model_module_version": "1.5.0",
      "model_name": "VBoxModel",
      "state": {
       "children": [
        "IPY_MODEL_c16d642ca1bb492798af19492dfe87f1",
        "IPY_MODEL_ac3ec277ef6347db98e5a9259f96072e"
       ],
       "layout": "IPY_MODEL_dc3c87c3914047f79b6f617713c262c4"
      }
     },
     "a4522723f801409da34451f6da8e88fd": {
      "model_module": "@jupyter-widgets/base",
      "model_module_version": "1.2.0",
      "model_name": "LayoutModel",
      "state": {
       "width": "auto"
      }
     },
     "a4d538d7ddd44dbbb2bd0f001463c0ce": {
      "model_module": "@jupyter-widgets/controls",
      "model_module_version": "1.5.0",
      "model_name": "VBoxModel",
      "state": {
       "children": [
        "IPY_MODEL_8a18522c9507430184675e076aed1a95",
        "IPY_MODEL_5dbde7547d6a4b9d8dd79e64ca682324"
       ],
       "layout": "IPY_MODEL_fecd050a56404cfe84bd8e2b8b4abec2"
      }
     },
     "a53fa8bd5b7e478281cb385995f62a58": {
      "model_module": "@jupyter-widgets/base",
      "model_module_version": "1.2.0",
      "model_name": "LayoutModel",
      "state": {}
     },
     "a54150723e9e4754961e27093d9313cb": {
      "model_module": "@jupyter-widgets/controls",
      "model_module_version": "1.5.0",
      "model_name": "LabelModel",
      "state": {
       "layout": "IPY_MODEL_1fc1ffff577f4c65ae5132ebd4a4b7f7",
       "style": "IPY_MODEL_fc254f4c36ee4f6d9abc45b6db0d45ca",
       "value": "Monitoring folder"
      }
     },
     "a568a83afad547d8bbe28f832901c3f7": {
      "model_module": "@jupyter-widgets/controls",
      "model_module_version": "1.5.0",
      "model_name": "DescriptionStyleModel",
      "state": {
       "description_width": "initial"
      }
     },
     "a57c0665e54849089ff4203b40e4b3a5": {
      "model_module": "@jupyter-widgets/base",
      "model_module_version": "1.2.0",
      "model_name": "LayoutModel",
      "state": {}
     },
     "a586c4a702974f0ca6658e00503cd44c": {
      "model_module": "@jupyter-widgets/base",
      "model_module_version": "1.2.0",
      "model_name": "LayoutModel",
      "state": {}
     },
     "a58dcb0a9cee439abf88f6de9d2278e8": {
      "model_module": "@jupyter-widgets/base",
      "model_module_version": "1.2.0",
      "model_name": "LayoutModel",
      "state": {}
     },
     "a593e2dca1ba441fbf40b16927e5aa1b": {
      "model_module": "@jupyter-widgets/controls",
      "model_module_version": "1.5.0",
      "model_name": "HTMLModel",
      "state": {
       "layout": "IPY_MODEL_2dd4b1224cfd4ae7bfd844862a8601f5",
       "style": "IPY_MODEL_eb512cd747ee4da49cb3f5621e4c8e3b"
      }
     },
     "a5a217379eda4ee1a0a72840f04fa625": {
      "model_module": "@jupyter-widgets/base",
      "model_module_version": "1.2.0",
      "model_name": "LayoutModel",
      "state": {}
     },
     "a5df10352c194daf80e083a9e0eff423": {
      "model_module": "@jupyter-widgets/controls",
      "model_module_version": "1.5.0",
      "model_name": "HBoxModel",
      "state": {
       "children": [
        "IPY_MODEL_58d2f2f561b344bda91696d1c7bd3d36",
        "IPY_MODEL_04d4f517f3d44c2aa5491b5b2087a152"
       ],
       "layout": "IPY_MODEL_a1588dc62d3c4cf1afd96222d6953059"
      }
     },
     "a5e7527b7b9e4a23be96119edec3dae9": {
      "model_module": "@jupyter-widgets/base",
      "model_module_version": "1.2.0",
      "model_name": "LayoutModel",
      "state": {}
     },
     "a607020969f54d06a63a3913fdb1f8af": {
      "model_module": "@jupyter-widgets/base",
      "model_module_version": "1.2.0",
      "model_name": "LayoutModel",
      "state": {}
     },
     "a64f765b014340338524a4bf2e2a7347": {
      "model_module": "@jupyter-widgets/base",
      "model_module_version": "1.2.0",
      "model_name": "LayoutModel",
      "state": {
       "grid_area": "filename",
       "width": "auto"
      }
     },
     "a6cd1d8786664e179ec86ed60ab00ff9": {
      "model_module": "@jupyter-widgets/base",
      "model_module_version": "1.2.0",
      "model_name": "LayoutModel",
      "state": {
       "width": "500px"
      }
     },
     "a71d05064234408584ec8e40426033f2": {
      "model_module": "@jupyter-widgets/controls",
      "model_module_version": "1.5.0",
      "model_name": "DescriptionStyleModel",
      "state": {
       "description_width": ""
      }
     },
     "a74634f2512f4caf859ee394005a1d88": {
      "model_module": "@jupyter-widgets/controls",
      "model_module_version": "1.5.0",
      "model_name": "DescriptionStyleModel",
      "state": {
       "description_width": "initial"
      }
     },
     "a746bb5db69244fe8f16c014884b91a6": {
      "model_module": "@jupyter-widgets/controls",
      "model_module_version": "1.5.0",
      "model_name": "DescriptionStyleModel",
      "state": {
       "description_width": ""
      }
     },
     "a75fa6d5b8ee4437b40625a5157b08f1": {
      "model_module": "@jupyter-widgets/base",
      "model_module_version": "1.2.0",
      "model_name": "LayoutModel",
      "state": {}
     },
     "a79e5fcb94e949b59794657cdb8c7915": {
      "model_module": "@jupyter-widgets/controls",
      "model_module_version": "1.5.0",
      "model_name": "HTMLModel",
      "state": {
       "layout": "IPY_MODEL_b249c487b23e47d88040ab08b42dcece",
       "placeholder": "",
       "style": "IPY_MODEL_e4987ecf1c894137bbcda26d6515a83e",
       "value": "<span style=\"margin-left:10px; color:black;\">No file selected</span>"
      }
     },
     "a7ba76c1aa5e4662be23ec027f861da0": {
      "model_module": "@jupyter-widgets/base",
      "model_module_version": "1.2.0",
      "model_name": "LayoutModel",
      "state": {}
     },
     "a7d306c968ac4dc2a1c99c8ef5b6617c": {
      "model_module": "@jupyter-widgets/controls",
      "model_module_version": "1.5.0",
      "model_name": "TextareaModel",
      "state": {
       "description": "<=> WKT",
       "layout": "IPY_MODEL_ef676f740c2246b58a2b51ccc01e0cce",
       "style": "IPY_MODEL_5203dcf029c244748a52dd1e5249ee66",
       "value": "PROJCS[\"NAD83 / UTM zone 14N\",GEOGCS[\"NAD83\",DATUM[\"North_American_Datum_1983\",SPHEROID[\"GRS 1980\",6378137,298.257222101,AUTHORITY[\"EPSG\",\"7019\"]],AUTHORITY[\"EPSG\",\"6269\"]],PRIMEM[\"Greenwich\",0,AUTHORITY[\"EPSG\",\"8901\"]],UNIT[\"degree\",0.0174532925199433,AUTHORITY[\"EPSG\",\"9122\"]],AUTHORITY[\"EPSG\",\"4269\"]],PROJECTION[\"Transverse_Mercator\"],PARAMETER[\"latitude_of_origin\",0],PARAMETER[\"central_meridian\",-99],PARAMETER[\"scale_factor\",0.9996],PARAMETER[\"false_easting\",500000],PARAMETER[\"false_northing\",0],UNIT[\"metre\",1,AUTHORITY[\"EPSG\",\"9001\"]],AXIS[\"Easting\",EAST],AXIS[\"Northing\",NORTH],AUTHORITY[\"EPSG\",\"26914\"]]"
      }
     },
     "a7d482e3cd654a25af0d2c5d17691f00": {
      "model_module": "@jupyter-widgets/controls",
      "model_module_version": "1.5.0",
      "model_name": "ButtonModel",
      "state": {
       "description": "Cancel",
       "layout": "IPY_MODEL_32a0e733a0764aa88d7841ce63182fcc",
       "style": "IPY_MODEL_31acc9ccfd4e47ae8facf5b8c5f959bf"
      }
     },
     "a7e15a1d93814dd19e124536ddd06204": {
      "model_module": "@jupyter-widgets/controls",
      "model_module_version": "1.5.0",
      "model_name": "HTMLModel",
      "state": {
       "layout": "IPY_MODEL_ae76af42f8dd424583b838534010c133",
       "placeholder": "",
       "style": "IPY_MODEL_5cb4d19a25834f95810e3b384a2dac6b",
       "value": "<span style=\"margin-left:10px; color:orange;\">C:\\Users\\dominiquef\\Documents\\GIT\\mira\\mirageoscience-apps\\assets\\FlinFlon.geoh5</span>"
      }
     },
     "a7fe38896c8a479d967035f73af4f2c0": {
      "model_module": "@jupyter-widgets/base",
      "model_module_version": "1.2.0",
      "model_name": "LayoutModel",
      "state": {}
     },
     "a849c46145564d53b577c269a841604f": {
      "model_module": "@jupyter-widgets/controls",
      "model_module_version": "1.5.0",
      "model_name": "VBoxModel",
      "state": {
       "children": [
        "IPY_MODEL_d4c257339ff74f688d3804e5524ab409",
        "IPY_MODEL_48b246f02f4f4dc68fbbeed6c4518341",
        "IPY_MODEL_4a42ed7fdcea4c3493b3b2da10e8471f"
       ],
       "layout": "IPY_MODEL_c7d4044003884ae7a49777f6ea57fa35"
      }
     },
     "a883972dcea14c5e9d49ab0192e9aad7": {
      "model_module": "@jupyter-widgets/controls",
      "model_module_version": "1.5.0",
      "model_name": "DescriptionStyleModel",
      "state": {
       "description_width": "initial"
      }
     },
     "a88c91be9dd641ce912a676676a70ee7": {
      "model_module": "@jupyter-widgets/controls",
      "model_module_version": "1.5.0",
      "model_name": "DescriptionStyleModel",
      "state": {
       "description_width": ""
      }
     },
     "a8a1e3475e0d4961a5ce99cea59bbe86": {
      "model_module": "@jupyter-widgets/base",
      "model_module_version": "1.2.0",
      "model_name": "LayoutModel",
      "state": {}
     },
     "a8c8e0096ba04315a0fb8a56a55fd5e7": {
      "model_module": "@jupyter-widgets/base",
      "model_module_version": "1.2.0",
      "model_name": "LayoutModel",
      "state": {}
     },
     "a8f7dd8868644e989457f6157d8adb96": {
      "model_module": "@jupyter-widgets/controls",
      "model_module_version": "1.5.0",
      "model_name": "TextModel",
      "state": {
       "continuous_update": false,
       "description": "Group:",
       "layout": "IPY_MODEL_0b0c85fe2ab14505a015b3e6717f2986",
       "style": "IPY_MODEL_157570067f124be4a496224301ed36fa",
       "value": "CoordinateTransformation"
      }
     },
     "a9230cba0be74839a168daeea6d5f19a": {
      "model_module": "@jupyter-widgets/controls",
      "model_module_version": "1.5.0",
      "model_name": "TextModel",
      "state": {
       "continuous_update": false,
       "description": "Input Projection:",
       "layout": "IPY_MODEL_d07f75337f2c4e4488a7087059830264",
       "style": "IPY_MODEL_a74634f2512f4caf859ee394005a1d88",
       "value": "EPSG:26914"
      }
     },
     "a98573ecd27d45a3ab64e032307ea4c4": {
      "model_module": "@jupyter-widgets/controls",
      "model_module_version": "1.5.0",
      "model_name": "VBoxModel",
      "state": {
       "children": [
        "IPY_MODEL_25227f03c7214566910f849f68847d84",
        "IPY_MODEL_9c418b7718a141238fe790cc9d7a96b1"
       ],
       "layout": "IPY_MODEL_00cb2db168fb428db9d8d2c5d68da00e"
      }
     },
     "a9c85250a9104a5a8971c5e69edc4450": {
      "model_module": "@jupyter-widgets/base",
      "model_module_version": "1.2.0",
      "model_name": "LayoutModel",
      "state": {
       "grid_area": "pathlist",
       "width": "auto"
      }
     },
     "aa1b6d75292c443cbf691891d0237c3c": {
      "model_module": "@jupyter-widgets/controls",
      "model_module_version": "1.5.0",
      "model_name": "HBoxModel",
      "state": {
       "children": [
        "IPY_MODEL_30bdfdfc852b487098094e0a241191c7",
        "IPY_MODEL_4ed802b0963e4577958deccc1564eb3f",
        "IPY_MODEL_a79e5fcb94e949b59794657cdb8c7915"
       ],
       "layout": "IPY_MODEL_21036f852cb54117b91db3e380d30ccc"
      }
     },
     "aa42d4946bb04ca79497b6d0f1dd081f": {
      "model_module": "@jupyter-widgets/controls",
      "model_module_version": "1.5.0",
      "model_name": "HTMLModel",
      "state": {
       "layout": "IPY_MODEL_60e27996cace4f88b2fa2d8f87040ca3",
       "style": "IPY_MODEL_aa5704bc346b4cbdaf79b6ae3805eba7"
      }
     },
     "aa5704bc346b4cbdaf79b6ae3805eba7": {
      "model_module": "@jupyter-widgets/controls",
      "model_module_version": "1.5.0",
      "model_name": "DescriptionStyleModel",
      "state": {
       "description_width": ""
      }
     },
     "aad239059da4455893440e70fbbbaa9b": {
      "model_module": "@jupyter-widgets/controls",
      "model_module_version": "1.5.0",
      "model_name": "DescriptionStyleModel",
      "state": {
       "description_width": ""
      }
     },
     "aad9b2c362394edfa76b5943f30e39df": {
      "model_module": "@jupyter-widgets/base",
      "model_module_version": "1.2.0",
      "model_name": "LayoutModel",
      "state": {}
     },
     "aaf002bb2b8f4f87ac28b49ba9d936d8": {
      "model_module": "@jupyter-widgets/base",
      "model_module_version": "1.2.0",
      "model_name": "LayoutModel",
      "state": {}
     },
     "ab29eae7c4254ab28a07046bd5011eb7": {
      "model_module": "@jupyter-widgets/base",
      "model_module_version": "1.2.0",
      "model_name": "LayoutModel",
      "state": {
       "display": "none"
      }
     },
     "ab3b645208e7423c96498197b64cef68": {
      "model_module": "@jupyter-widgets/controls",
      "model_module_version": "1.5.0",
      "model_name": "DescriptionStyleModel",
      "state": {
       "description_width": "initial"
      }
     },
     "ab3c12f497ba4915a216ccca80265295": {
      "model_module": "@jupyter-widgets/controls",
      "model_module_version": "1.5.0",
      "model_name": "DescriptionStyleModel",
      "state": {
       "description_width": ""
      }
     },
     "ab3c1e34dcf543efa0b5020071cd345a": {
      "model_module": "@jupyter-widgets/controls",
      "model_module_version": "1.5.0",
      "model_name": "LabelModel",
      "state": {
       "layout": "IPY_MODEL_e16233159aec4ec0913828c5fe8757fe",
       "style": "IPY_MODEL_e56948f6af574691a287509747073f50",
       "value": "Workspace"
      }
     },
     "ab6226ab74494be68d9b88dedc0e17ca": {
      "model_module": "@jupyter-widgets/base",
      "model_module_version": "1.2.0",
      "model_name": "LayoutModel",
      "state": {
       "width": "auto"
      }
     },
     "abad4c67726f4dd295d8fd61bd918021": {
      "model_module": "@jupyter-widgets/base",
      "model_module_version": "1.2.0",
      "model_name": "LayoutModel",
      "state": {}
     },
     "abe8980c8421449e9b775b9b8aef4cae": {
      "model_module": "@jupyter-widgets/controls",
      "model_module_version": "1.5.0",
      "model_name": "DescriptionStyleModel",
      "state": {
       "description_width": ""
      }
     },
     "ac33493d723b483093beecad4477f892": {
      "model_module": "@jupyter-widgets/controls",
      "model_module_version": "1.5.0",
      "model_name": "DescriptionStyleModel",
      "state": {
       "description_width": "initial"
      }
     },
     "ac3ec277ef6347db98e5a9259f96072e": {
      "model_module": "@jupyter-widgets/controls",
      "model_module_version": "1.5.0",
      "model_name": "VBoxModel",
      "state": {
       "children": [
        "IPY_MODEL_54c4f869d8c74cf8a6084ee8c496535e"
       ],
       "layout": "IPY_MODEL_3ef82dc1c08b47b0b3e8ae1523472419"
      }
     },
     "ac3ec560ff1c4020acb7731e811492a0": {
      "model_module": "@jupyter-widgets/base",
      "model_module_version": "1.2.0",
      "model_name": "LayoutModel",
      "state": {}
     },
     "ac578ae2a1254f909703237c9bec2156": {
      "model_module": "@jupyter-widgets/base",
      "model_module_version": "1.2.0",
      "model_name": "LayoutModel",
      "state": {
       "display": "none"
      }
     },
     "ac65abf156f4406887ff1eea2ab30b16": {
      "model_module": "@jupyter-widgets/base",
      "model_module_version": "1.2.0",
      "model_name": "LayoutModel",
      "state": {}
     },
     "acd24246d17945ecaa73235506bc03ff": {
      "model_module": "@jupyter-widgets/controls",
      "model_module_version": "1.5.0",
      "model_name": "LabelModel",
      "state": {
       "layout": "IPY_MODEL_735c4831bbc149c3b307d72400b23b65",
       "style": "IPY_MODEL_dc063e7de3ed43d89edac339cf8f5508",
       "value": "Workspace"
      }
     },
     "ace27b3606f6433cb5aea76b9308ab34": {
      "model_module": "@jupyter-widgets/controls",
      "model_module_version": "1.5.0",
      "model_name": "LabelModel",
      "state": {
       "layout": "IPY_MODEL_5def4eac406b496caaaac28ea9ce5092",
       "style": "IPY_MODEL_a883972dcea14c5e9d49ab0192e9aad7",
       "value": "Monitoring folder"
      }
     },
     "ad3feb5da63840a69c8972047070e6dc": {
      "model_module": "@jupyter-widgets/controls",
      "model_module_version": "1.5.0",
      "model_name": "DescriptionStyleModel",
      "state": {
       "description_width": ""
      }
     },
     "ad7f2073271b418fa34a3f94ea5ff272": {
      "model_module": "@jupyter-widgets/controls",
      "model_module_version": "1.5.0",
      "model_name": "DescriptionStyleModel",
      "state": {
       "description_width": ""
      }
     },
     "adac8e134c894a769f00d543a628f3be": {
      "model_module": "@jupyter-widgets/controls",
      "model_module_version": "1.5.0",
      "model_name": "SelectModel",
      "state": {
       "_options_labels": [
        "📁 ..",
        "📁 SimPEG_PFInversion",
        "📁 Temp",
        "📁 uijson",
        "FlinFlon.geoh5",
        "FlinFlon_dcip.geoh5",
        "MtDore_TMI.geoh5",
        "tem.geoh5",
        "test_forward.ui.geoh5",
        "test_forward.ui.json"
       ],
       "index": 4,
       "layout": "IPY_MODEL_4b99ccf6487648e0a77e7c27026481d3",
       "rows": 8,
       "style": "IPY_MODEL_55c66ebe9b0441a2a8eea9c7244cb4c6"
      }
     },
     "adb6842381a9427bb9d4e9182980f2e7": {
      "model_module": "@jupyter-widgets/base",
      "model_module_version": "1.2.0",
      "model_name": "LayoutModel",
      "state": {}
     },
     "add4f67c5b264f62b91baf83f061fef9": {
      "model_module": "@jupyter-widgets/controls",
      "model_module_version": "1.5.0",
      "model_name": "DescriptionStyleModel",
      "state": {
       "description_width": "initial"
      }
     },
     "adef9518c6cd4e9faad93d3790180cbe": {
      "model_module": "@jupyter-widgets/controls",
      "model_module_version": "1.5.0",
      "model_name": "GridBoxModel",
      "state": {
       "children": [
        "IPY_MODEL_1cdefef240da404bbb08c495c74ac357",
        "IPY_MODEL_b77255254df44753abb89d11c75e92fb",
        "IPY_MODEL_3128ebab0bb0408b92c8e88c51a65930"
       ],
       "layout": "IPY_MODEL_16359906cc4546228c736ed7a8452b69"
      }
     },
     "ae18b80d96994254972b764474ec750c": {
      "model_module": "@jupyter-widgets/controls",
      "model_module_version": "1.5.0",
      "model_name": "GridBoxModel",
      "state": {
       "children": [
        "IPY_MODEL_dfe88e3e705749be9937cd3b17458779",
        "IPY_MODEL_55bbc9c2a3c74e2caf4407d4a43f23eb",
        "IPY_MODEL_f79b79a7d94a489ab4467ed462c545c0"
       ],
       "layout": "IPY_MODEL_79254ea6f0cb4eb487de3caf277d761d"
      }
     },
     "ae195e0ab4344407873f04700034bafd": {
      "model_module": "@jupyter-widgets/controls",
      "model_module_version": "1.5.0",
      "model_name": "DescriptionStyleModel",
      "state": {
       "description_width": ""
      }
     },
     "ae76af42f8dd424583b838534010c133": {
      "model_module": "@jupyter-widgets/base",
      "model_module_version": "1.2.0",
      "model_name": "LayoutModel",
      "state": {}
     },
     "aea1db913b564a2391ccf6b98b612bd3": {
      "model_module": "@jupyter-widgets/controls",
      "model_module_version": "1.5.0",
      "model_name": "DescriptionStyleModel",
      "state": {
       "description_width": ""
      }
     },
     "aec8104eab764eff845c7bfebf18ac35": {
      "model_module": "@jupyter-widgets/controls",
      "model_module_version": "1.5.0",
      "model_name": "ButtonStyleModel",
      "state": {}
     },
     "aef6b96309f84a3a9ab1620818e7a30c": {
      "model_module": "@jupyter-widgets/base",
      "model_module_version": "1.2.0",
      "model_name": "LayoutModel",
      "state": {}
     },
     "afd34b5055fd47418fb5af1927c93bbc": {
      "model_module": "@jupyter-widgets/base",
      "model_module_version": "1.2.0",
      "model_name": "LayoutModel",
      "state": {}
     },
     "afde47735cc84c1f84f84435e052fbd4": {
      "model_module": "@jupyter-widgets/controls",
      "model_module_version": "1.5.0",
      "model_name": "DescriptionStyleModel",
      "state": {
       "description_width": "initial"
      }
     },
     "b01f1de9e14f4e9eaabb778def4dc853": {
      "model_module": "@jupyter-widgets/controls",
      "model_module_version": "1.5.0",
      "model_name": "VBoxModel",
      "state": {
       "children": [
        "IPY_MODEL_239a92e04cbb475ca9f6f001b60dcc82",
        "IPY_MODEL_1e154dc165b34496baf07afa4dfbdf9a",
        "IPY_MODEL_378755fad88f4116994f3891c1f9fc3d"
       ],
       "layout": "IPY_MODEL_d2e939becb4f4266bb89c391daf177d2"
      }
     },
     "b0a88dcfe29142418e16ab13b456fbb5": {
      "model_module": "@jupyter-widgets/controls",
      "model_module_version": "1.5.0",
      "model_name": "ButtonModel",
      "state": {
       "description": "Cancel",
       "layout": "IPY_MODEL_76649ec5eeca43ebbbd7812ca54c9ffb",
       "style": "IPY_MODEL_01e3058f0fdd41d38a1a5c60652a6d7e"
      }
     },
     "b0e1a2a9d7414ac7a3ed80b64802aac2": {
      "model_module": "@jupyter-widgets/controls",
      "model_module_version": "1.5.0",
      "model_name": "VBoxModel",
      "state": {
       "children": [
        "IPY_MODEL_15a223cf09ee4e1585de2bcf750f8f55",
        "IPY_MODEL_34374db756c149f6ba477822897d2fea",
        "IPY_MODEL_48647ee5b3b64287b686d9d2b2170b54"
       ],
       "layout": "IPY_MODEL_da54f0b7b65f4777b2129f89c6b88e0e"
      }
     },
     "b130bae74c664b5b8588588776a5f89b": {
      "model_module": "@jupyter-widgets/controls",
      "model_module_version": "1.5.0",
      "model_name": "HBoxModel",
      "state": {
       "children": [
        "IPY_MODEL_71405059917548859afcf306cfa15bc4",
        "IPY_MODEL_46a1e94d54f246398c7691a8a5d26de5"
       ],
       "layout": "IPY_MODEL_54ec0277016341f2a8190172508a6485"
      }
     },
     "b1569ce00d254297b66f6b5c33ddecf3": {
      "model_module": "@jupyter-widgets/controls",
      "model_module_version": "1.5.0",
      "model_name": "DescriptionStyleModel",
      "state": {
       "description_width": ""
      }
     },
     "b170f7dfc2ad47dbb32de97793abc870": {
      "model_module": "@jupyter-widgets/base",
      "model_module_version": "1.2.0",
      "model_name": "LayoutModel",
      "state": {
       "width": "auto"
      }
     },
     "b1756cda256e406a95e7e52c3af4c74f": {
      "model_module": "@jupyter-widgets/base",
      "model_module_version": "1.2.0",
      "model_name": "LayoutModel",
      "state": {}
     },
     "b1a7eee8441d4d779e0447bede14f409": {
      "model_module": "@jupyter-widgets/controls",
      "model_module_version": "1.5.0",
      "model_name": "DescriptionStyleModel",
      "state": {
       "description_width": ""
      }
     },
     "b1e55c54c8cc4a6b9c48f3a67ec50475": {
      "model_module": "@jupyter-widgets/controls",
      "model_module_version": "1.5.0",
      "model_name": "BoxModel",
      "state": {
       "children": [
        "IPY_MODEL_fe0fa13d7b974da582c862401a94a4f3"
       ],
       "layout": "IPY_MODEL_f68e6155739a49a594d91c01f3135252"
      }
     },
     "b2282a1265c24b829840f6322cc45bee": {
      "model_module": "@jupyter-widgets/base",
      "model_module_version": "1.2.0",
      "model_name": "LayoutModel",
      "state": {
       "display": "none",
       "grid_gap": "0px 0px",
       "grid_template_areas": "\n                    'pathlist pathlist'\n                    'dircontent dircontent'\n                    ",
       "grid_template_columns": "60% 40%",
       "grid_template_rows": "auto auto",
       "width": "500px"
      }
     },
     "b22bee4ea0214322b51aa40658b79c04": {
      "model_module": "@jupyter-widgets/controls",
      "model_module_version": "1.5.0",
      "model_name": "DropdownModel",
      "state": {
       "_options_labels": [
        "C:\\Users\\dominiquef\\Documents\\GIT\\mira\\mirageoscience-apps\\assets",
        "C:\\Users\\dominiquef\\Documents\\GIT\\mira\\mirageoscience-apps",
        "C:\\Users\\dominiquef\\Documents\\GIT\\mira",
        "C:\\Users\\dominiquef\\Documents\\GIT",
        "C:\\Users\\dominiquef\\Documents",
        "C:\\Users\\dominiquef",
        "C:\\Users",
        "C:\\",
        "D:\\",
        "Z:\\"
       ],
       "index": 0,
       "layout": "IPY_MODEL_5888b10f68a546a090667db83de26d86",
       "style": "IPY_MODEL_aea1db913b564a2391ccf6b98b612bd3"
      }
     },
     "b249c487b23e47d88040ab08b42dcece": {
      "model_module": "@jupyter-widgets/base",
      "model_module_version": "1.2.0",
      "model_name": "LayoutModel",
      "state": {}
     },
     "b2608e70e1694ed7a8af389cd29450db": {
      "model_module": "@jupyter-widgets/controls",
      "model_module_version": "1.5.0",
      "model_name": "ButtonStyleModel",
      "state": {}
     },
     "b28402454e5e44f3a1cf810c73bac3a1": {
      "model_module": "@jupyter-widgets/controls",
      "model_module_version": "1.5.0",
      "model_name": "LabelModel",
      "state": {
       "layout": "IPY_MODEL_8f9891d92cfd4ba8b2cf099c6e806c52",
       "style": "IPY_MODEL_660c4c8dcd4649e4866333e4aca29178",
       "value": "Monitoring folder"
      }
     },
     "b33ee8da120b428d9c3fac75ea3c5cef": {
      "model_module": "@jupyter-widgets/base",
      "model_module_version": "1.2.0",
      "model_name": "LayoutModel",
      "state": {}
     },
     "b36db5038836434395744a8d2c06f62c": {
      "model_module": "@jupyter-widgets/base",
      "model_module_version": "1.2.0",
      "model_name": "LayoutModel",
      "state": {}
     },
     "b38d3855be804ed6a3f990011a903c7d": {
      "model_module": "@jupyter-widgets/controls",
      "model_module_version": "1.5.0",
      "model_name": "ButtonStyleModel",
      "state": {}
     },
     "b3f558da9e6c436a8ca9545992358ab4": {
      "model_module": "@jupyter-widgets/base",
      "model_module_version": "1.2.0",
      "model_name": "LayoutModel",
      "state": {}
     },
     "b4002f017d0447159231773256dd28f2": {
      "model_module": "@jupyter-widgets/controls",
      "model_module_version": "1.5.0",
      "model_name": "ButtonStyleModel",
      "state": {}
     },
     "b426d22d38bc4eeda9a80f74cf1e508f": {
      "model_module": "@jupyter-widgets/controls",
      "model_module_version": "1.5.0",
      "model_name": "SelectMultipleModel",
      "state": {
       "_options_labels": [
        "",
        "fault_splay1",
        "fault_Cliff_Lake",
        "fault_Other_FlinFlon",
        "fault_Club_Lake_splay",
        "fault_Catherine_splay2",
        "fault_Birch_View",
        "fault_Dion_Lake",
        "fault_FlinFlon_splay",
        "fault_West_Mandy_Road",
        "fault_Channing",
        "fault_Ross_Lake",
        "fault_Louis_Hidden",
        "fault_Lake_View_thrust",
        "contact_Schist_Lake",
        "fault_Burley_Lake",
        "fault_Dion_Lake_splay",
        "fault_Green_Lake",
        "fault_FlinFlon",
        "fault_Catherine_splay1",
        "fault_East_Mandy_Road",
        "fault_Other_FlinFlon_South",
        "fault_Catherine_splay4",
        "contact_Stitt_Island",
        "fault_Club_Lake",
        "fault_Tailing_Pond",
        "35_Hidden_Reservoir_Hr5",
        "29_Hidden_Reservoir_Hr1a",
        "60_BlueLagoon_Fb2",
        "20_FlinFlon_Undivided_Int_Dykes_D2f",
        "04_Boundary_Intrusive_S4h",
        "53_Millrock_Rhyolite_Fm4b",
        "19_FlinFlon_Undivided_Int_Dykes_D2b",
        "18_FlinFlon_Undivided_Int_Dykes_777_D2b",
        "06_Phantom_Lake_Intrusive_S3a",
        "21_FlinFlon_Undivided_Int_Dykes_D3a",
        "43_Millrock_CHLSH_South",
        "56_Millrock_Basalt_Fm1ba",
        "17_FlinFlon_Undivided_Int_Dykes_D2",
        "32_Hidden_Reservoir_Hr1b_SW",
        "11_Missi_M3_NE",
        "13_Missi_M1",
        "07_Annabel_Granitoid_S1",
        "45_Millrock_Gabbro_South",
        "01_Late_Intrusive_S5b",
        "31_Hidden_Reservoir_Hr1c_SW",
        "52_Millrock_Rhyolite_Fm4_West_check",
        "55_Millrock_Basalt_Fm1bf",
        "34_Hidden_Reservoir_Hr2b",
        "03_Boundary_Intrusive_S4b",
        "42_Millrock_CHLSH_North",
        "26_Louis_L3",
        "23_FlinFlon_Undivided_Int_Felsic_D4g",
        "30_Hidden_Reservoir_Hr1b",
        "59_BlueLagoon_Fb3",
        "49_Millrock_MVR_Fm5d",
        "44_Millrock_Gabbro_North",
        "27_Hidden_Carlisle_Hc4",
        "22_FlinFlon_Undivided_Int_Felsic_D4e",
        "02_Boundary_Intrusive_S4a",
        "61_BlueLagoon_Fb1_NW",
        "05_Boundary_Intrusive_S4g",
        "39_Ore_Callinan",
        "38_Ore_Dan_Owens",
        "40_Ore_FlinFlon",
        "Inversion_VTEM_Model",
        "Gravity_Magnetics_drape60m",
        "CDI_VTEM_model",
        "Data_FEM_pseudo3D",
        "geochem",
        "Inversion_DIGHEM_Model",
        "Topography",
        "Data_TEM_pseudo3D",
        "Data_ZTEM"
       ],
       "description": "Object:",
       "index": [],
       "layout": "IPY_MODEL_234313a48f2648c495f4f8d803753aaf",
       "rows": 5,
       "style": "IPY_MODEL_9d53aedb76ce4a599b94ef5d31bca83f"
      }
     },
     "b44d6528239f42fead95f9a15c355b57": {
      "model_module": "@jupyter-widgets/base",
      "model_module_version": "1.2.0",
      "model_name": "LayoutModel",
      "state": {}
     },
     "b4545490d508494b9bf5e29061f86540": {
      "model_module": "@jupyter-widgets/controls",
      "model_module_version": "1.5.0",
      "model_name": "VBoxModel",
      "state": {
       "children": [
        "IPY_MODEL_6420d94e53d9418d881cc5a53d10697c",
        "IPY_MODEL_326f96f6948f47db95d8f7f9f1708531"
       ],
       "layout": "IPY_MODEL_e8b916c9b722499d9008a0f849726293"
      }
     },
     "b51903449cc347cca279b86b3af24260": {
      "model_module": "@jupyter-widgets/controls",
      "model_module_version": "1.5.0",
      "model_name": "TextModel",
      "state": {
       "layout": "IPY_MODEL_1ba8399cf67f4e35940125c33f83b485",
       "placeholder": "output filename",
       "style": "IPY_MODEL_8e95b59f662041b388c0c6dd6acb1a33",
       "value": "FlinFlon.geoh5"
      }
     },
     "b58b781cc04949e89e31b1dd45ae7657": {
      "model_module": "@jupyter-widgets/base",
      "model_module_version": "1.2.0",
      "model_name": "LayoutModel",
      "state": {}
     },
     "b5d95113e73244e196840a390e4c0703": {
      "model_module": "@jupyter-widgets/controls",
      "model_module_version": "1.5.0",
      "model_name": "HTMLModel",
      "state": {
       "layout": "IPY_MODEL_4e980e8ebd7b4bc6aa531ef385217e15",
       "style": "IPY_MODEL_804c4cb0e28040f0a4d82d773416228c"
      }
     },
     "b5f1de9395b44e58af45b0d3734e023e": {
      "model_module": "@jupyter-widgets/base",
      "model_module_version": "1.2.0",
      "model_name": "LayoutModel",
      "state": {
       "width": "50%"
      }
     },
     "b5f96464aa724a649782addaff945704": {
      "model_module": "@jupyter-widgets/base",
      "model_module_version": "1.2.0",
      "model_name": "LayoutModel",
      "state": {}
     },
     "b61dc5ca9ae14074b1aa46fe73140fac": {
      "model_module": "@jupyter-widgets/controls",
      "model_module_version": "1.5.0",
      "model_name": "DescriptionStyleModel",
      "state": {
       "description_width": ""
      }
     },
     "b6385c8a37ed41298eb3f02dc8b64b57": {
      "model_module": "@jupyter-widgets/controls",
      "model_module_version": "1.5.0",
      "model_name": "TextModel",
      "state": {
       "continuous_update": false,
       "description": "Output Projection:",
       "layout": "IPY_MODEL_18ca952e21724904909ed0ee23941922",
       "style": "IPY_MODEL_8b023dd98305403fbb253e7aea955cf6",
       "value": "EPSG:4326"
      }
     },
     "b68db02c1ec746b384d91e1bc4d47f71": {
      "model_module": "@jupyter-widgets/controls",
      "model_module_version": "1.5.0",
      "model_name": "VBoxModel",
      "state": {
       "children": [
        "IPY_MODEL_270f220abffe4ed0b7552d93f7be27b3",
        "IPY_MODEL_24807bf277604fe08fad50920be38e3c"
       ],
       "layout": "IPY_MODEL_aaf002bb2b8f4f87ac28b49ba9d936d8"
      }
     },
     "b6a16fe2ff694d69a2e55c66dd754126": {
      "model_module": "@jupyter-widgets/controls",
      "model_module_version": "1.5.0",
      "model_name": "VBoxModel",
      "state": {
       "children": [
        "IPY_MODEL_7301b47590ff48589b6b7ab3d0e670db",
        "IPY_MODEL_34e0064215e045d1abecf0b2a772e17d",
        "IPY_MODEL_4cffbb09a41c44009a0509815dc8c7dc"
       ],
       "layout": "IPY_MODEL_d512a6b582014890840bdf9bdccb20ee"
      }
     },
     "b6b2306b90064706b40b25685843dabf": {
      "model_module": "@jupyter-widgets/controls",
      "model_module_version": "1.5.0",
      "model_name": "ButtonStyleModel",
      "state": {}
     },
     "b70964ec460247488ce72f200a84b4ed": {
      "model_module": "@jupyter-widgets/base",
      "model_module_version": "1.2.0",
      "model_name": "LayoutModel",
      "state": {
       "grid_area": "dircontent",
       "width": "auto"
      }
     },
     "b72a9b922cab46019a47b2d13519e8ef": {
      "model_module": "@jupyter-widgets/controls",
      "model_module_version": "1.5.0",
      "model_name": "DescriptionStyleModel",
      "state": {
       "description_width": ""
      }
     },
     "b77255254df44753abb89d11c75e92fb": {
      "model_module": "@jupyter-widgets/controls",
      "model_module_version": "1.5.0",
      "model_name": "TextModel",
      "state": {
       "layout": "IPY_MODEL_a64f765b014340338524a4bf2e2a7347",
       "placeholder": "output filename",
       "style": "IPY_MODEL_85f67c8cfd0343d2be09ec5d6885ea92",
       "value": "FlinFlon.geoh5"
      }
     },
     "b7a994d52b504376a38a629a0035f2df": {
      "model_module": "@jupyter-widgets/controls",
      "model_module_version": "1.5.0",
      "model_name": "ButtonModel",
      "state": {
       "button_style": "danger",
       "description": "Compute",
       "icon": "check",
       "layout": "IPY_MODEL_d9c3226c8371477ab4f51681689caacd",
       "style": "IPY_MODEL_830ffc4c4d6c40b295000006c3d78c0e",
       "tooltip": "Run computation"
      }
     },
     "b83def313f3c4e6fb0f328ac406fb62f": {
      "model_module": "@jupyter-widgets/controls",
      "model_module_version": "1.5.0",
      "model_name": "ButtonStyleModel",
      "state": {}
     },
     "b87668ca248d4952a8c88fc9c79d0d05": {
      "model_module": "@jupyter-widgets/base",
      "model_module_version": "1.2.0",
      "model_name": "LayoutModel",
      "state": {
       "width": "auto"
      }
     },
     "b88623855170429096d0d1e172432b85": {
      "model_module": "@jupyter-widgets/controls",
      "model_module_version": "1.5.0",
      "model_name": "VBoxModel",
      "state": {
       "children": [
        "IPY_MODEL_6d0a4ff42ad04d4d9c5b4214cdafa2c8",
        "IPY_MODEL_6344675d9b3c40f88f285c51b76e0ef8"
       ],
       "layout": "IPY_MODEL_f97dc4659f764dc98be867e91c44df91"
      }
     },
     "b8c2c0cf288846c2bbe9016e32285adc": {
      "model_module": "@jupyter-widgets/controls",
      "model_module_version": "1.5.0",
      "model_name": "DescriptionStyleModel",
      "state": {
       "description_width": ""
      }
     },
     "b8cca6edc9be4ee1ae5463b2c14dc466": {
      "model_module": "@jupyter-widgets/base",
      "model_module_version": "1.2.0",
      "model_name": "LayoutModel",
      "state": {
       "width": "50%"
      }
     },
     "b8e23b7f45d44033a8b9f16de2dd0def": {
      "model_module": "@jupyter-widgets/controls",
      "model_module_version": "1.5.0",
      "model_name": "GridBoxModel",
      "state": {
       "children": [
        "IPY_MODEL_4a16221c79744aaf87627594b7f6bf88",
        "IPY_MODEL_d6b15928b74d4f9bb72f695de7ead23c",
        "IPY_MODEL_1264f7d93fdf41a29332a72a84fd0cc2"
       ],
       "layout": "IPY_MODEL_39da38b371a848c294b2ba2adf82752b"
      }
     },
     "b96c2950b9bf4cc4a733ba79183350f5": {
      "model_module": "@jupyter-widgets/controls",
      "model_module_version": "1.5.0",
      "model_name": "DescriptionStyleModel",
      "state": {
       "description_width": "initial"
      }
     },
     "b97475c944d6410ab7da28010c07ef17": {
      "model_module": "@jupyter-widgets/base",
      "model_module_version": "1.2.0",
      "model_name": "LayoutModel",
      "state": {
       "grid_area": "dircontent",
       "width": "auto"
      }
     },
     "b9a7dc8618ca43ee981a353f33c1d66f": {
      "model_module": "@jupyter-widgets/controls",
      "model_module_version": "1.5.0",
      "model_name": "ButtonStyleModel",
      "state": {}
     },
     "b9aaa10146194290a8bbfff8556a23ed": {
      "model_module": "@jupyter-widgets/base",
      "model_module_version": "1.2.0",
      "model_name": "LayoutModel",
      "state": {}
     },
     "b9c52f1d169543078bc9a5e379d4d8ee": {
      "model_module": "@jupyter-widgets/base",
      "model_module_version": "1.2.0",
      "model_name": "LayoutModel",
      "state": {
       "grid_area": "pathlist",
       "width": "auto"
      }
     },
     "ba4167e9d9b8406fb184a13736a246ad": {
      "model_module": "@jupyter-widgets/base",
      "model_module_version": "1.2.0",
      "model_name": "LayoutModel",
      "state": {}
     },
     "ba4d8f7bc0a54db3bf0b8b17c2456247": {
      "model_module": "@jupyter-widgets/controls",
      "model_module_version": "1.5.0",
      "model_name": "DescriptionStyleModel",
      "state": {
       "description_width": ""
      }
     },
     "ba5f2a2cba5c4eb7b26ca5973134dc9a": {
      "model_module": "@jupyter-widgets/controls",
      "model_module_version": "1.5.0",
      "model_name": "DescriptionStyleModel",
      "state": {
       "description_width": ""
      }
     },
     "baa9325dd078495e830ee3163dff4c08": {
      "model_module": "@jupyter-widgets/controls",
      "model_module_version": "1.5.0",
      "model_name": "ButtonModel",
      "state": {
       "description": "Create copy:",
       "layout": "IPY_MODEL_2b321928c7224d729931f2ac01683473",
       "style": "IPY_MODEL_d9542cf5b236416a8598a52cc48a9b0c"
      }
     },
     "bb33bbc61ba4469aa47fb25a9a731273": {
      "model_module": "@jupyter-widgets/base",
      "model_module_version": "1.2.0",
      "model_name": "LayoutModel",
      "state": {
       "width": "auto"
      }
     },
     "bb70e798e26546668e737f147529280a": {
      "model_module": "@jupyter-widgets/base",
      "model_module_version": "1.2.0",
      "model_name": "LayoutModel",
      "state": {}
     },
     "bb7c960210034ffaa6baa2853a93d45f": {
      "model_module": "@jupyter-widgets/controls",
      "model_module_version": "1.5.0",
      "model_name": "ButtonModel",
      "state": {
       "description": "Change",
       "layout": "IPY_MODEL_2df38dd021124f29a8056e1e307697cd",
       "style": "IPY_MODEL_07c831cf83aa4536aebc7513721d44cb"
      }
     },
     "bc18ec4f250446b795088289ce9346c7": {
      "model_module": "@jupyter-widgets/controls",
      "model_module_version": "1.5.0",
      "model_name": "DescriptionStyleModel",
      "state": {
       "description_width": ""
      }
     },
     "bc1f38fc10ba445f91e217acba830a17": {
      "model_module": "@jupyter-widgets/base",
      "model_module_version": "1.2.0",
      "model_name": "LayoutModel",
      "state": {}
     },
     "bc50fd2309144c3da3f8e444a5b18e87": {
      "model_module": "@jupyter-widgets/controls",
      "model_module_version": "1.5.0",
      "model_name": "DescriptionStyleModel",
      "state": {
       "description_width": "initial"
      }
     },
     "bcd55b5072224c63a9a5db98d2c0a95c": {
      "model_module": "@jupyter-widgets/controls",
      "model_module_version": "1.5.0",
      "model_name": "ButtonModel",
      "state": {
       "button_style": "danger",
       "description": "Compute",
       "icon": "check",
       "layout": "IPY_MODEL_2f4e633c55424074a774b3dc2b3ff78e",
       "style": "IPY_MODEL_30d5d5cf01d6448dac9e9ec204ee749f",
       "tooltip": "Run computation"
      }
     },
     "bce6e00cc2f94c5c8c4b789526556938": {
      "model_module": "@jupyter-widgets/controls",
      "model_module_version": "1.5.0",
      "model_name": "ButtonStyleModel",
      "state": {}
     },
     "bd0c0316da6f4100b2129ce7850bc7c4": {
      "model_module": "@jupyter-widgets/controls",
      "model_module_version": "1.5.0",
      "model_name": "VBoxModel",
      "state": {
       "children": [
        "IPY_MODEL_72a8afb3fe7448829619e227b112e436",
        "IPY_MODEL_86e5beaee3304235bd5d93a080733d23"
       ],
       "layout": "IPY_MODEL_4693df186635442982a52d623bdd36a1"
      }
     },
     "bd2d94f8bffb4a6891af761ea8b195e9": {
      "model_module": "@jupyter-widgets/base",
      "model_module_version": "1.2.0",
      "model_name": "LayoutModel",
      "state": {
       "width": "auto"
      }
     },
     "bd3880cb371f4e15bf2a7fd4e94a6c21": {
      "model_module": "@jupyter-widgets/controls",
      "model_module_version": "1.5.0",
      "model_name": "ButtonModel",
      "state": {
       "description": "Change",
       "layout": "IPY_MODEL_ec286779c4d34ffb83ddca1900a68049",
       "style": "IPY_MODEL_b38d3855be804ed6a3f990011a903c7d"
      }
     },
     "bdc0561ff0e4472aaa613395c7efa24f": {
      "model_module": "@jupyter-widgets/controls",
      "model_module_version": "1.5.0",
      "model_name": "TextareaModel",
      "state": {
       "description": "<=> WKT",
       "layout": "IPY_MODEL_c5c23b2b131b4ded9a78250f0bf6cd60",
       "style": "IPY_MODEL_8cceeafd6987417383790a2e5c2499cf",
       "value": "PROJCS[\"NAD83 / UTM zone 14N\",GEOGCS[\"NAD83\",DATUM[\"North_American_Datum_1983\",SPHEROID[\"GRS 1980\",6378137,298.257222101,AUTHORITY[\"EPSG\",\"7019\"]],AUTHORITY[\"EPSG\",\"6269\"]],PRIMEM[\"Greenwich\",0,AUTHORITY[\"EPSG\",\"8901\"]],UNIT[\"degree\",0.0174532925199433,AUTHORITY[\"EPSG\",\"9122\"]],AUTHORITY[\"EPSG\",\"4269\"]],PROJECTION[\"Transverse_Mercator\"],PARAMETER[\"latitude_of_origin\",0],PARAMETER[\"central_meridian\",-99],PARAMETER[\"scale_factor\",0.9996],PARAMETER[\"false_easting\",500000],PARAMETER[\"false_northing\",0],UNIT[\"metre\",1,AUTHORITY[\"EPSG\",\"9001\"]],AXIS[\"Easting\",EAST],AXIS[\"Northing\",NORTH],AUTHORITY[\"EPSG\",\"26914\"]]"
      }
     },
     "be7b7c3f50bd4217a4d2b604280aa2ad": {
      "model_module": "@jupyter-widgets/controls",
      "model_module_version": "1.5.0",
      "model_name": "DescriptionStyleModel",
      "state": {
       "description_width": ""
      }
     },
     "beca3a5b61bf4ccb84c646e8bed6317a": {
      "model_module": "@jupyter-widgets/controls",
      "model_module_version": "1.5.0",
      "model_name": "DescriptionStyleModel",
      "state": {
       "description_width": ""
      }
     },
     "bfb19234d1594a098c5a9f5bfa0b856b": {
      "model_module": "@jupyter-widgets/controls",
      "model_module_version": "1.5.0",
      "model_name": "ButtonStyleModel",
      "state": {}
     },
     "bfbb7d02db0f414783ebf638bec9ec55": {
      "model_module": "@jupyter-widgets/base",
      "model_module_version": "1.2.0",
      "model_name": "LayoutModel",
      "state": {}
     },
     "bffb021c3fe4404aa90aea0d1988a7b9": {
      "model_module": "@jupyter-widgets/controls",
      "model_module_version": "1.5.0",
      "model_name": "VBoxModel",
      "state": {
       "children": [
        "IPY_MODEL_de7f63a211c4482880622a64f64e932b",
        "IPY_MODEL_d943a34d617d4a34a52385081f98e67c"
       ],
       "layout": "IPY_MODEL_f8870349486e49fd87ec74d2298677a0"
      }
     },
     "c00ac64b60664496bd612b6af79e8bcb": {
      "model_module": "@jupyter-widgets/controls",
      "model_module_version": "1.5.0",
      "model_name": "TextModel",
      "state": {
       "continuous_update": false,
       "description": "Group:",
       "layout": "IPY_MODEL_913089801c8b43bbbeddac3fef6a06b2",
       "style": "IPY_MODEL_afde47735cc84c1f84f84435e052fbd4",
       "value": "CoordinateTransformation"
      }
     },
     "c029f89411ee40c39bb5bb59372abeb2": {
      "model_module": "@jupyter-widgets/controls",
      "model_module_version": "1.5.0",
      "model_name": "DescriptionStyleModel",
      "state": {
       "description_width": ""
      }
     },
     "c08798a803d34526bd3df0d297ea68f4": {
      "model_module": "@jupyter-widgets/controls",
      "model_module_version": "1.5.0",
      "model_name": "DescriptionStyleModel",
      "state": {
       "description_width": "initial"
      }
     },
     "c0b6a3e5934944b99d01eac4c4184f38": {
      "model_module": "@jupyter-widgets/controls",
      "model_module_version": "1.5.0",
      "model_name": "ButtonModel",
      "state": {
       "description": "Cancel",
       "layout": "IPY_MODEL_feee350733f741bea00ba09e395794a7",
       "style": "IPY_MODEL_e6368db7e1a84d45bbd81e50ef3e1787"
      }
     },
     "c0de9015c1d84d049d081a467a524c08": {
      "model_module": "@jupyter-widgets/controls",
      "model_module_version": "1.5.0",
      "model_name": "DescriptionStyleModel",
      "state": {
       "description_width": ""
      }
     },
     "c152ab4b1c144d66a9ef87dcf2b870b1": {
      "model_module": "@jupyter-widgets/controls",
      "model_module_version": "1.5.0",
      "model_name": "ButtonStyleModel",
      "state": {}
     },
     "c16d642ca1bb492798af19492dfe87f1": {
      "model_module": "@jupyter-widgets/controls",
      "model_module_version": "1.5.0",
      "model_name": "VBoxModel",
      "state": {
       "children": [
        "IPY_MODEL_b7a994d52b504376a38a629a0035f2df",
        "IPY_MODEL_dc898363a5924ad78ae54ab22fd562a0"
       ],
       "layout": "IPY_MODEL_18136e4c4ef74ed8bcff2bb0119c3e8e"
      }
     },
     "c186bba3052442038431d45731bf5c61": {
      "model_module": "@jupyter-widgets/controls",
      "model_module_version": "1.5.0",
      "model_name": "ButtonStyleModel",
      "state": {}
     },
     "c1881169dfae4075ac9389202bbb54ed": {
      "model_module": "@jupyter-widgets/base",
      "model_module_version": "1.2.0",
      "model_name": "LayoutModel",
      "state": {
       "grid_area": "dircontent",
       "width": "auto"
      }
     },
     "c1c113ebecef4e9daf1d0e5324b9c9fe": {
      "model_module": "@jupyter-widgets/base",
      "model_module_version": "1.2.0",
      "model_name": "LayoutModel",
      "state": {}
     },
     "c1fba656617343259a99e8d3f4b7e598": {
      "model_module": "@jupyter-widgets/base",
      "model_module_version": "1.2.0",
      "model_name": "LayoutModel",
      "state": {
       "grid_area": "pathlist",
       "width": "auto"
      }
     },
     "c20caf81f57c44a996cc8f9764f982d4": {
      "model_module": "@jupyter-widgets/controls",
      "model_module_version": "1.5.0",
      "model_name": "DropdownModel",
      "state": {
       "_options_labels": [
        "C:\\Users\\dominiquef\\Documents\\GIT\\mira\\mirageoscience-apps\\assets",
        "C:\\Users\\dominiquef\\Documents\\GIT\\mira\\mirageoscience-apps",
        "C:\\Users\\dominiquef\\Documents\\GIT\\mira",
        "C:\\Users\\dominiquef\\Documents\\GIT",
        "C:\\Users\\dominiquef\\Documents",
        "C:\\Users\\dominiquef",
        "C:\\Users",
        "C:\\",
        "D:\\",
        "Z:\\"
       ],
       "index": 0,
       "layout": "IPY_MODEL_55c37d5237554d559beca5f668079593",
       "style": "IPY_MODEL_135a468d0de04c209431f6562e4d29a1"
      }
     },
     "c22e59552ff240778a30f879c9a33181": {
      "model_module": "@jupyter-widgets/base",
      "model_module_version": "1.2.0",
      "model_name": "LayoutModel",
      "state": {}
     },
     "c2597ef3a8ec42dcb6aead8a52adea0f": {
      "model_module": "@jupyter-widgets/controls",
      "model_module_version": "1.5.0",
      "model_name": "LabelModel",
      "state": {
       "layout": "IPY_MODEL_c67ec2a3ebeb4e8f87a501c016605306",
       "style": "IPY_MODEL_2dab37360ab143e393dde6bbe3675584",
       "value": "Workspace"
      }
     },
     "c26b8152270543bebb9514e3553c851e": {
      "model_module": "@jupyter-widgets/controls",
      "model_module_version": "1.5.0",
      "model_name": "DescriptionStyleModel",
      "state": {
       "description_width": ""
      }
     },
     "c29d97bee1ee44f8904b5e1e42c46bee": {
      "model_module": "@jupyter-widgets/controls",
      "model_module_version": "1.5.0",
      "model_name": "ButtonModel",
      "state": {
       "button_style": "danger",
       "description": "Compute",
       "icon": "check",
       "layout": "IPY_MODEL_6ae60422faeb422bb641c93abb2083ad",
       "style": "IPY_MODEL_d61f00a5b6cd46c2993938e0f503ea36",
       "tooltip": "Run computation"
      }
     },
     "c3033d4b08da4be28ad3da2ed705b936": {
      "model_module": "@jupyter-widgets/controls",
      "model_module_version": "1.5.0",
      "model_name": "DescriptionStyleModel",
      "state": {
       "description_width": "initial"
      }
     },
     "c30f1b89103b41f8abdffd79291ea41e": {
      "model_module": "@jupyter-widgets/base",
      "model_module_version": "1.2.0",
      "model_name": "LayoutModel",
      "state": {}
     },
     "c328f4d17428461c99837c7343979c5c": {
      "model_module": "@jupyter-widgets/controls",
      "model_module_version": "1.5.0",
      "model_name": "ButtonModel",
      "state": {
       "description": "Select",
       "layout": "IPY_MODEL_bb33bbc61ba4469aa47fb25a9a731273",
       "style": "IPY_MODEL_b4002f017d0447159231773256dd28f2"
      }
     },
     "c370d75e686d4ecdb82b9423f318814e": {
      "model_module": "@jupyter-widgets/controls",
      "model_module_version": "1.5.0",
      "model_name": "ButtonStyleModel",
      "state": {}
     },
     "c3b31bb1013a48049761ac4dc2666c90": {
      "model_module": "@jupyter-widgets/controls",
      "model_module_version": "1.5.0",
      "model_name": "ButtonModel",
      "state": {
       "description": "Change",
       "layout": "IPY_MODEL_ab6226ab74494be68d9b88dedc0e17ca",
       "style": "IPY_MODEL_0ed3a6baf7b5488da55f0d416f7f0b68"
      }
     },
     "c3bbb7289805474c80e0fad6d108d15d": {
      "model_module": "@jupyter-widgets/base",
      "model_module_version": "1.2.0",
      "model_name": "LayoutModel",
      "state": {}
     },
     "c40ec656489440349f9a500a5d9f0f08": {
      "model_module": "@jupyter-widgets/controls",
      "model_module_version": "1.5.0",
      "model_name": "SelectModel",
      "state": {
       "_options_labels": [
        "..",
        "Temp",
        "FlinFlon.geoh5",
        "Inversion_.json",
        "MtDore_TMI.geoh5"
       ],
       "index": 2,
       "layout": "IPY_MODEL_103c183e72644f6b8b695fc663c0d62b",
       "rows": 8,
       "style": "IPY_MODEL_1762a1c9262e44d5b21ccd3f96d0ce9c"
      }
     },
     "c423a7fa1cb340289b9071905b68b5ef": {
      "model_module": "@jupyter-widgets/controls",
      "model_module_version": "1.5.0",
      "model_name": "DescriptionStyleModel",
      "state": {
       "description_width": ""
      }
     },
     "c44c71dfecc9445592ef540b6b63ae16": {
      "model_module": "@jupyter-widgets/controls",
      "model_module_version": "1.5.0",
      "model_name": "ButtonStyleModel",
      "state": {}
     },
     "c44e1aaa383a46908ed5ec0e2ed8c359": {
      "model_module": "@jupyter-widgets/base",
      "model_module_version": "1.2.0",
      "model_name": "LayoutModel",
      "state": {
       "grid_area": "dircontent",
       "width": "auto"
      }
     },
     "c46af7523b294cafa3de2bafbb90dc6f": {
      "model_module": "@jupyter-widgets/controls",
      "model_module_version": "1.5.0",
      "model_name": "HTMLModel",
      "state": {
       "layout": "IPY_MODEL_7a082e78e8404a04ac31e924e1d09a22",
       "placeholder": "",
       "style": "IPY_MODEL_f9b7dcc108954da3b1c0f5266f587e56",
       "value": "<span style=\"margin-left:10px; color:orange;\">C:\\Users\\dominiquef\\Documents\\GIT\\mira\\mirageoscience-apps\\assets\\FlinFlon.geoh5</span>"
      }
     },
     "c483312ab95448b1b8a526de416aa059": {
      "model_module": "@jupyter-widgets/base",
      "model_module_version": "1.2.0",
      "model_name": "LayoutModel",
      "state": {
       "margin": "0 0 0 1em"
      }
     },
     "c5050e958aab4425aa40c2612ef9c70c": {
      "model_module": "@jupyter-widgets/base",
      "model_module_version": "1.2.0",
      "model_name": "LayoutModel",
      "state": {
       "display": "none",
       "grid_area": "filename",
       "width": "auto"
      }
     },
     "c51da2737c804b0f8650f36e320cbd73": {
      "model_module": "@jupyter-widgets/controls",
      "model_module_version": "1.5.0",
      "model_name": "SelectModel",
      "state": {
       "_options_labels": [
        "..",
        "images"
       ],
       "index": null,
       "layout": "IPY_MODEL_0b55a3d8418f409a922f29f8a68ea62d",
       "rows": 8,
       "style": "IPY_MODEL_ba4d8f7bc0a54db3bf0b8b17c2456247"
      }
     },
     "c563fb42d61f45888be60fccf2e448d0": {
      "model_module": "@jupyter-widgets/controls",
      "model_module_version": "1.5.0",
      "model_name": "TextareaModel",
      "state": {
       "description": "<=> WKT",
       "layout": "IPY_MODEL_5d89d6e7e317490a9a3027cf17244aa5",
       "style": "IPY_MODEL_a71d05064234408584ec8e40426033f2",
       "value": "GEOGCS[\"WGS 84\",DATUM[\"WGS_1984\",SPHEROID[\"WGS 84\",6378137,298.257223563,AUTHORITY[\"EPSG\",\"7030\"]],AUTHORITY[\"EPSG\",\"6326\"]],PRIMEM[\"Greenwich\",0,AUTHORITY[\"EPSG\",\"8901\"]],UNIT[\"degree\",0.0174532925199433,AUTHORITY[\"EPSG\",\"9122\"]],AXIS[\"Latitude\",NORTH],AXIS[\"Longitude\",EAST],AUTHORITY[\"EPSG\",\"4326\"]]"
      }
     },
     "c5726e8fd12d46cda1a9c36e4d9b5060": {
      "model_module": "@jupyter-widgets/controls",
      "model_module_version": "1.5.0",
      "model_name": "DescriptionStyleModel",
      "state": {
       "description_width": ""
      }
     },
     "c578365c6adf47589975ae6f1b84f8a2": {
      "model_module": "@jupyter-widgets/controls",
      "model_module_version": "1.5.0",
      "model_name": "DescriptionStyleModel",
      "state": {
       "description_width": ""
      }
     },
     "c5bc4f40fd134f45aee1b3d044c6dc21": {
      "model_module": "@jupyter-widgets/base",
      "model_module_version": "1.2.0",
      "model_name": "LayoutModel",
      "state": {
       "width": "auto"
      }
     },
     "c5c23b2b131b4ded9a78250f0bf6cd60": {
      "model_module": "@jupyter-widgets/base",
      "model_module_version": "1.2.0",
      "model_name": "LayoutModel",
      "state": {
       "width": "50%"
      }
     },
     "c5c6c9e6511e456cb0b7a96a37b9463d": {
      "model_module": "@jupyter-widgets/controls",
      "model_module_version": "1.5.0",
      "model_name": "DescriptionStyleModel",
      "state": {
       "description_width": "initial"
      }
     },
     "c5ce57f938d84d8b802b6d1107803a94": {
      "model_module": "@jupyter-widgets/controls",
      "model_module_version": "1.5.0",
      "model_name": "TextModel",
      "state": {
       "continuous_update": false,
       "description": "Input Projection:",
       "layout": "IPY_MODEL_f46a3418c9ed415490822729a874090d",
       "style": "IPY_MODEL_5a6c2c1a5bfb4865b1bf0d558ecce205",
       "value": "EPSG:26914"
      }
     },
     "c62cdab326924ece9abc18e92e13ecf6": {
      "model_module": "@jupyter-widgets/controls",
      "model_module_version": "1.5.0",
      "model_name": "DescriptionStyleModel",
      "state": {
       "description_width": ""
      }
     },
     "c6332b5afdca4837a6511fdf94e03d63": {
      "model_module": "@jupyter-widgets/base",
      "model_module_version": "1.2.0",
      "model_name": "LayoutModel",
      "state": {
       "grid_area": "pathlist",
       "width": "auto"
      }
     },
     "c63c7c29fbe441f38211bc6abbe01936": {
      "model_module": "@jupyter-widgets/base",
      "model_module_version": "1.2.0",
      "model_name": "LayoutModel",
      "state": {}
     },
     "c63f116fc4ce4f3fa3234830b9272634": {
      "model_module": "@jupyter-widgets/controls",
      "model_module_version": "1.5.0",
      "model_name": "HTMLModel",
      "state": {
       "layout": "IPY_MODEL_e803b728114c428e844d5a0f9cbfa8a5",
       "style": "IPY_MODEL_b1a7eee8441d4d779e0447bede14f409"
      }
     },
     "c663573246b94dfa8235d2ad3ee2c75c": {
      "model_module": "@jupyter-widgets/base",
      "model_module_version": "1.2.0",
      "model_name": "LayoutModel",
      "state": {}
     },
     "c67ec2a3ebeb4e8f87a501c016605306": {
      "model_module": "@jupyter-widgets/base",
      "model_module_version": "1.2.0",
      "model_name": "LayoutModel",
      "state": {}
     },
     "c6bed0ccb2904ebea81b02cfebfa3e3e": {
      "model_module": "@jupyter-widgets/controls",
      "model_module_version": "1.5.0",
      "model_name": "ButtonStyleModel",
      "state": {}
     },
     "c746042fd1c445b89ac4e919bed1ab22": {
      "model_module": "@jupyter-widgets/base",
      "model_module_version": "1.2.0",
      "model_name": "LayoutModel",
      "state": {}
     },
     "c77f8b4a893348399f3d127d7ac3bfe4": {
      "model_module": "@jupyter-widgets/base",
      "model_module_version": "1.2.0",
      "model_name": "LayoutModel",
      "state": {}
     },
     "c78874ab837e40e98fd6af911b4c394a": {
      "model_module": "@jupyter-widgets/base",
      "model_module_version": "1.2.0",
      "model_name": "LayoutModel",
      "state": {}
     },
     "c7d4044003884ae7a49777f6ea57fa35": {
      "model_module": "@jupyter-widgets/base",
      "model_module_version": "1.2.0",
      "model_name": "LayoutModel",
      "state": {
       "width": "auto"
      }
     },
     "c801831ec7034bacb1658ed4c63d5a0b": {
      "model_module": "@jupyter-widgets/controls",
      "model_module_version": "1.5.0",
      "model_name": "DescriptionStyleModel",
      "state": {
       "description_width": ""
      }
     },
     "c80bcc21ba874cb480f64735adfad1b1": {
      "model_module": "@jupyter-widgets/controls",
      "model_module_version": "1.5.0",
      "model_name": "HBoxModel",
      "state": {
       "children": [
        "IPY_MODEL_fe22e125b53e4b0dbf85bdb5fbb28de5",
        "IPY_MODEL_42a0c7853f8446cabd5e454dad2ab618",
        "IPY_MODEL_b1e55c54c8cc4a6b9c48f3a67ec50475"
       ],
       "layout": "IPY_MODEL_669faf2625b743dba35561878fe449c0"
      }
     },
     "c8a2f8d71a6b4dd1b99e5e61e5e9d450": {
      "model_module": "@jupyter-widgets/base",
      "model_module_version": "1.2.0",
      "model_name": "LayoutModel",
      "state": {
       "display": "none"
      }
     },
     "c925b12f8ac44f0b9fc079b0753e91c9": {
      "model_module": "@jupyter-widgets/controls",
      "model_module_version": "1.5.0",
      "model_name": "SelectMultipleModel",
      "state": {
       "_options_labels": [
        "",
        "fault_splay1",
        "fault_Cliff_Lake",
        "fault_Other_FlinFlon",
        "fault_Club_Lake_splay",
        "fault_Catherine_splay2",
        "fault_Birch_View",
        "fault_Dion_Lake",
        "fault_FlinFlon_splay",
        "fault_West_Mandy_Road",
        "fault_Channing",
        "fault_Ross_Lake",
        "fault_Louis_Hidden",
        "fault_Lake_View_thrust",
        "contact_Schist_Lake",
        "fault_Burley_Lake",
        "fault_Dion_Lake_splay",
        "fault_Green_Lake",
        "fault_FlinFlon",
        "fault_Catherine_splay1",
        "fault_East_Mandy_Road",
        "fault_Other_FlinFlon_South",
        "fault_Catherine_splay4",
        "contact_Stitt_Island",
        "fault_Club_Lake",
        "fault_Tailing_Pond",
        "35_Hidden_Reservoir_Hr5",
        "29_Hidden_Reservoir_Hr1a",
        "60_BlueLagoon_Fb2",
        "20_FlinFlon_Undivided_Int_Dykes_D2f",
        "04_Boundary_Intrusive_S4h",
        "53_Millrock_Rhyolite_Fm4b",
        "19_FlinFlon_Undivided_Int_Dykes_D2b",
        "18_FlinFlon_Undivided_Int_Dykes_777_D2b",
        "06_Phantom_Lake_Intrusive_S3a",
        "21_FlinFlon_Undivided_Int_Dykes_D3a",
        "43_Millrock_CHLSH_South",
        "56_Millrock_Basalt_Fm1ba",
        "17_FlinFlon_Undivided_Int_Dykes_D2",
        "32_Hidden_Reservoir_Hr1b_SW",
        "11_Missi_M3_NE",
        "13_Missi_M1",
        "07_Annabel_Granitoid_S1",
        "45_Millrock_Gabbro_South",
        "01_Late_Intrusive_S5b",
        "31_Hidden_Reservoir_Hr1c_SW",
        "52_Millrock_Rhyolite_Fm4_West_check",
        "55_Millrock_Basalt_Fm1bf",
        "34_Hidden_Reservoir_Hr2b",
        "03_Boundary_Intrusive_S4b",
        "42_Millrock_CHLSH_North",
        "26_Louis_L3",
        "23_FlinFlon_Undivided_Int_Felsic_D4g",
        "30_Hidden_Reservoir_Hr1b",
        "59_BlueLagoon_Fb3",
        "49_Millrock_MVR_Fm5d",
        "44_Millrock_Gabbro_North",
        "27_Hidden_Carlisle_Hc4",
        "22_FlinFlon_Undivided_Int_Felsic_D4e",
        "02_Boundary_Intrusive_S4a",
        "61_BlueLagoon_Fb1_NW",
        "05_Boundary_Intrusive_S4g",
        "39_Ore_Callinan",
        "38_Ore_Dan_Owens",
        "40_Ore_FlinFlon",
        "Inversion_VTEM_Model",
        "Gravity_Magnetics_drape60m",
        "CDI_VTEM_model",
        "Data_FEM_pseudo3D",
        "geochem",
        "Inversion_DIGHEM_Model",
        "Topography",
        "Data_TEM_pseudo3D"
       ],
       "description": "Object:",
       "index": [
        66,
        72
       ],
       "layout": "IPY_MODEL_24dc95ba80104459a2abd7e8f7806a01",
       "rows": 5,
       "style": "IPY_MODEL_7ab6293266a541bcb6d7aa5552120083"
      }
     },
     "c9553d1e8857491db24a5425be9a57d9": {
      "model_module": "@jupyter-widgets/base",
      "model_module_version": "1.2.0",
      "model_name": "LayoutModel",
      "state": {}
     },
     "c9803c1ff3c4485288f7a0a0994537eb": {
      "model_module": "@jupyter-widgets/controls",
      "model_module_version": "1.5.0",
      "model_name": "LabelModel",
      "state": {
       "layout": "IPY_MODEL_2de8cf33d46746f6b570418d2642edb4",
       "style": "IPY_MODEL_0bbdc9c8f69546bda57dae7f092b9a38",
       "value": "Workspace"
      }
     },
     "c984b66e44c0442b9a27aaa64b810d3f": {
      "model_module": "@jupyter-widgets/base",
      "model_module_version": "1.2.0",
      "model_name": "LayoutModel",
      "state": {
       "grid_area": "dircontent",
       "width": "auto"
      }
     },
     "c9b4308e3b044a2da83dd11bf879552b": {
      "model_module": "@jupyter-widgets/base",
      "model_module_version": "1.2.0",
      "model_name": "LayoutModel",
      "state": {
       "grid_area": "dircontent",
       "width": "auto"
      }
     },
     "ca4e84366b9645e6bb3b39c5c98be22f": {
      "model_module": "@jupyter-widgets/base",
      "model_module_version": "1.2.0",
      "model_name": "LayoutModel",
      "state": {
       "width": "auto"
      }
     },
     "ca5240e4fd704eb09f461723e977077c": {
      "model_module": "@jupyter-widgets/base",
      "model_module_version": "1.2.0",
      "model_name": "LayoutModel",
      "state": {}
     },
     "cac375dd930e4833966729adcf743240": {
      "model_module": "@jupyter-widgets/controls",
      "model_module_version": "1.5.0",
      "model_name": "HTMLModel",
      "state": {
       "layout": "IPY_MODEL_cbde472fa62f488e866551ba317669e3",
       "placeholder": "",
       "style": "IPY_MODEL_0da29c5f59fd4f7588268f7353f5b10d",
       "value": "<span style=\"margin-left:10px; color:orange;\">C:\\Users\\dominiquef\\Documents\\GIT\\mira\\geoapps\\assets\\FlinFlon.geoh5</span>"
      }
     },
     "cb0258cfe32948e7bfc8d367ebb4fbcc": {
      "model_module": "@jupyter-widgets/base",
      "model_module_version": "1.2.0",
      "model_name": "LayoutModel",
      "state": {
       "display": "none",
       "width": "auto"
      }
     },
     "cb1f93312f55441f82592d84dddc45a8": {
      "model_module": "@jupyter-widgets/base",
      "model_module_version": "1.2.0",
      "model_name": "LayoutModel",
      "state": {
       "grid_area": "dircontent",
       "width": "auto"
      }
     },
     "cba73381c8bc4c2da723cab801f8b886": {
      "model_module": "@jupyter-widgets/controls",
      "model_module_version": "1.5.0",
      "model_name": "ToggleButtonModel",
      "state": {
       "layout": "IPY_MODEL_1f7eafb4e54e4c22b4fd97ba87565405",
       "style": "IPY_MODEL_fc68b5400e2c4d62b3fd64f469fcc53d"
      }
     },
     "cbde472fa62f488e866551ba317669e3": {
      "model_module": "@jupyter-widgets/base",
      "model_module_version": "1.2.0",
      "model_name": "LayoutModel",
      "state": {}
     },
     "cc34dd52d3d446d29b5c96d87e342dd1": {
      "model_module": "@jupyter-widgets/controls",
      "model_module_version": "1.5.0",
      "model_name": "SelectModel",
      "state": {
       "_options_labels": [
        "..",
        "dask-worker-space",
        "images"
       ],
       "index": null,
       "layout": "IPY_MODEL_c1881169dfae4075ac9389202bbb54ed",
       "rows": 8,
       "style": "IPY_MODEL_f7be4b4e862d48b6ae326d84a6ab11e3"
      }
     },
     "cca9f12a21d34adeb2e01e93365e6818": {
      "model_module": "@jupyter-widgets/controls",
      "model_module_version": "1.5.0",
      "model_name": "TextModel",
      "state": {
       "continuous_update": false,
       "description": "Output Projection:",
       "layout": "IPY_MODEL_682a363912ae498393b7434f9eb17033",
       "style": "IPY_MODEL_8b76c424db80493ab263169bb00afabc",
       "value": "EPSG:4326"
      }
     },
     "ccdc331a89ce42a18898fe00c908037b": {
      "model_module": "@jupyter-widgets/base",
      "model_module_version": "1.2.0",
      "model_name": "LayoutModel",
      "state": {}
     },
     "cd2746e3a4fa43c3b923676b181da141": {
      "model_module": "@jupyter-widgets/base",
      "model_module_version": "1.2.0",
      "model_name": "LayoutModel",
      "state": {
       "width": "auto"
      }
     },
     "cd2acbc2f0f14a028e78dfc5237e5ca6": {
      "model_module": "@jupyter-widgets/controls",
      "model_module_version": "1.5.0",
      "model_name": "VBoxModel",
      "state": {
       "children": [
        "IPY_MODEL_e9f2fcf007934deabeced26d65c0a43f",
        "IPY_MODEL_4de7a45498c8478daf100b1663dcd1b7",
        "IPY_MODEL_a3ba2a7826164c1e825586a2bba267fd"
       ],
       "layout": "IPY_MODEL_845ab1a694e54e6485b30e530c793c78"
      }
     },
     "cd6eaa79713843e89561331bb6c0a1ef": {
      "model_module": "@jupyter-widgets/base",
      "model_module_version": "1.2.0",
      "model_name": "LayoutModel",
      "state": {}
     },
     "cdeebb2973094c61a2cb4c95309d95be": {
      "model_module": "@jupyter-widgets/base",
      "model_module_version": "1.2.0",
      "model_name": "LayoutModel",
      "state": {}
     },
     "ce95ddcd40aa4d969a390d7862832bb1": {
      "model_module": "@jupyter-widgets/controls",
      "model_module_version": "1.5.0",
      "model_name": "ButtonModel",
      "state": {
       "description": "Select",
       "layout": "IPY_MODEL_c5bc4f40fd134f45aee1b3d044c6dc21",
       "style": "IPY_MODEL_45fd83bae49b4c58aa7d824bdc82570d"
      }
     },
     "ceafffd1eb7146a488213d120928c8e6": {
      "model_module": "@jupyter-widgets/base",
      "model_module_version": "1.2.0",
      "model_name": "LayoutModel",
      "state": {}
     },
     "cee66ccb19904172b3dc630eff941368": {
      "model_module": "@jupyter-widgets/base",
      "model_module_version": "1.2.0",
      "model_name": "LayoutModel",
      "state": {}
     },
     "cf04edc0ad824306a04979ecca80eb25": {
      "model_module": "@jupyter-widgets/controls",
      "model_module_version": "1.5.0",
      "model_name": "DescriptionStyleModel",
      "state": {
       "description_width": ""
      }
     },
     "cf42d597ebbc4fe5897f5e65bd4ff34a": {
      "model_module": "@jupyter-widgets/controls",
      "model_module_version": "1.5.0",
      "model_name": "HBoxModel",
      "state": {
       "children": [
        "IPY_MODEL_a10042c5f569492fb86e84ab35979978",
        "IPY_MODEL_432b1ac864614ae9a8f59549d484b992",
        "IPY_MODEL_283523a5d1d747c8b19ef75747efa991"
       ],
       "layout": "IPY_MODEL_726863d6c12643c2948665f5efe54670"
      }
     },
     "cf4572e8d2f4478f820b681b89d62411": {
      "model_module": "@jupyter-widgets/base",
      "model_module_version": "1.2.0",
      "model_name": "LayoutModel",
      "state": {}
     },
     "d02dc78f8c4541388897425d203643bd": {
      "model_module": "@jupyter-widgets/controls",
      "model_module_version": "1.5.0",
      "model_name": "SelectMultipleModel",
      "state": {
       "_options_labels": [
        "",
        "Gravity_Magnetics_drape60mEPSG_4326",
        "Gravity_Magnetics_drape60mEPSG_4326",
        "Data_TEM_pseudo3DEPSG_4326",
        "Data_TEM_pseudo3D",
        "Gravity_Magnetics_drape60mEPSG_4326",
        "Data_TEM_pseudo3DEPSG_4326",
        "Gravity_Magnetics_drape60mEPSG_4326",
        "Data_TEM_pseudo3D",
        "Gravity_Magnetics_drape60mEPSG_4326",
        "fault_splay1",
        "fault_Cliff_Lake",
        "fault_Other_FlinFlon",
        "fault_Club_Lake_splay",
        "fault_Catherine_splay2",
        "fault_Birch_View",
        "fault_Dion_Lake",
        "fault_FlinFlon_splay",
        "fault_West_Mandy_Road",
        "fault_Channing",
        "fault_Ross_Lake",
        "fault_Louis_Hidden",
        "fault_Lake_View_thrust",
        "contact_Schist_Lake",
        "fault_Burley_Lake",
        "fault_Dion_Lake_splay",
        "fault_Green_Lake",
        "fault_FlinFlon",
        "fault_Catherine_splay1",
        "fault_East_Mandy_Road",
        "fault_Other_FlinFlon_South",
        "fault_Catherine_splay4",
        "contact_Stitt_Island",
        "fault_Club_Lake",
        "fault_Tailing_Pond",
        "35_Hidden_Reservoir_Hr5",
        "29_Hidden_Reservoir_Hr1a",
        "60_BlueLagoon_Fb2",
        "20_FlinFlon_Undivided_Int_Dykes_D2f",
        "04_Boundary_Intrusive_S4h",
        "53_Millrock_Rhyolite_Fm4b",
        "19_FlinFlon_Undivided_Int_Dykes_D2b",
        "18_FlinFlon_Undivided_Int_Dykes_777_D2b",
        "06_Phantom_Lake_Intrusive_S3a",
        "21_FlinFlon_Undivided_Int_Dykes_D3a",
        "43_Millrock_CHLSH_South",
        "56_Millrock_Basalt_Fm1ba",
        "17_FlinFlon_Undivided_Int_Dykes_D2",
        "32_Hidden_Reservoir_Hr1b_SW",
        "11_Missi_M3_NE",
        "13_Missi_M1",
        "07_Annabel_Granitoid_S1",
        "45_Millrock_Gabbro_South",
        "01_Late_Intrusive_S5b",
        "31_Hidden_Reservoir_Hr1c_SW",
        "52_Millrock_Rhyolite_Fm4_West_check",
        "55_Millrock_Basalt_Fm1bf",
        "34_Hidden_Reservoir_Hr2b",
        "03_Boundary_Intrusive_S4b",
        "42_Millrock_CHLSH_North",
        "26_Louis_L3",
        "23_FlinFlon_Undivided_Int_Felsic_D4g",
        "30_Hidden_Reservoir_Hr1b",
        "59_BlueLagoon_Fb3",
        "49_Millrock_MVR_Fm5d",
        "44_Millrock_Gabbro_North",
        "27_Hidden_Carlisle_Hc4",
        "22_FlinFlon_Undivided_Int_Felsic_D4e",
        "02_Boundary_Intrusive_S4a",
        "61_BlueLagoon_Fb1_NW",
        "05_Boundary_Intrusive_S4g",
        "39_Ore_Callinan",
        "38_Ore_Dan_Owens",
        "40_Ore_FlinFlon",
        "Inversion_VTEM_Model",
        "Gravity_Magnetics_drape60m",
        "CDI_VTEM_model",
        "Data_FEM_pseudo3D",
        "geochem",
        "Inversion_DIGHEM_Model",
        "Topography",
        "Data_TEM_pseudo3D"
       ],
       "description": "Object:",
       "index": [
        75,
        4
       ],
       "layout": "IPY_MODEL_7bcaec57f28c457fbe131c5663df58de",
       "rows": 5,
       "style": "IPY_MODEL_0dff440a122b43188e94addf6d8f314a"
      }
     },
     "d07f75337f2c4e4488a7087059830264": {
      "model_module": "@jupyter-widgets/base",
      "model_module_version": "1.2.0",
      "model_name": "LayoutModel",
      "state": {}
     },
     "d0876d1e25e14702b558cf6fcd639b41": {
      "model_module": "@jupyter-widgets/controls",
      "model_module_version": "1.5.0",
      "model_name": "ButtonStyleModel",
      "state": {}
     },
     "d0abd31c947f4e57b4db964d08e7afd5": {
      "model_module": "@jupyter-widgets/controls",
      "model_module_version": "1.5.0",
      "model_name": "SelectModel",
      "state": {
       "_options_labels": [
        "..",
        "Temp",
        "FlinFlon.geoh5",
        "Inversion_.json",
        "MtDore_TMI.geoh5"
       ],
       "index": 2,
       "layout": "IPY_MODEL_b70964ec460247488ce72f200a84b4ed",
       "rows": 8,
       "style": "IPY_MODEL_2f573c64e22f457cba706ec3b715c8d4"
      }
     },
     "d119e3658e1548449c5a78a870555025": {
      "model_module": "@jupyter-widgets/base",
      "model_module_version": "1.2.0",
      "model_name": "LayoutModel",
      "state": {
       "display": "none",
       "grid_area": "filename",
       "width": "auto"
      }
     },
     "d11cb59231dd469f80c1487d2a242f7a": {
      "model_module": "@jupyter-widgets/controls",
      "model_module_version": "1.5.0",
      "model_name": "ButtonStyleModel",
      "state": {}
     },
     "d11f5580ac8e422ba200acb42769ba50": {
      "model_module": "@jupyter-widgets/controls",
      "model_module_version": "1.5.0",
      "model_name": "DescriptionStyleModel",
      "state": {
       "description_width": "initial"
      }
     },
     "d12e540e8c194b569c6ad0f1723b884c": {
      "model_module": "@jupyter-widgets/controls",
      "model_module_version": "1.5.0",
      "model_name": "SelectModel",
      "state": {
       "_options_labels": [
        "..",
        "SimPEG_PFInversion",
        "Temp",
        "dask-worker-space",
        "Crossplot.html",
        "FlinFlon.geoh5",
        "Gravity_Magnetics_drape60m_Airborne_Gxx.tif",
        "Gravity_Magnetics_drape60m_Airborne_Gxx_Colorbar.png",
        "Gravity_Magnetics_drape60m_Airborne_Gxx_RGB.txt",
        "Inversion_.json",
        "Inversion_2.json",
        "Inversion_L0L2.json",
        "Inversion_L1L2.json",
        "Inversion_MVI_susRef.json",
        "Inversion_MagSusc.json",
        "Inversion_MagSusc_noref.json",
        "Inversion_TMI.json",
        "Inversion_test.json",
        "MtDore.geoh5",
        "MtDore_TMI.geoh5",
        "Octree_Mesh.ui.geoh5",
        "Octree_Mesh.ui.json",
        "Octree_Mesh_2.ui.json",
        "Octree_Mesh_33.ui.json",
        "Octree_Mesh_44.ui.json",
        "Octree_Mesh_55.ui.json",
        "Octree_Mesh_done.ui.json",
        "Octree_Mesh_done2.ui.json",
        "Octree_Mesh_geochem.ui.json",
        "Octree_Mesh_max_dist.ui.json",
        "Octree_Mesh_max_dist_10m.ui.json",
        "Octree_Mesh_ore.ui.json",
        "Octree_Mesh_padded.ui.json",
        "Octree_Mesh_surf.ui.json",
        "Octree_Mesh_v2.ui.json",
        "Octree_Mesh_v3.ui.geoh5",
        "Octree_Mesh_v3.ui.json",
        "Octree_Mesh_v4.ui.geoh5",
        "Octree_Mesh_v4.ui.json",
        "Octree_Mesh_v5.ui.json",
        "Octree_Mesh_v6.ui.geoh5",
        "Octree_Mesh_v6.ui.json",
        "Octree_Mesh_v7.ui.json",
        "default_mvi.ui.geoh5",
        "default_mvi.ui.json",
        "demo.ipynb",
        "edge_tester.geoh5",
        "input.ui.json",
        "live_update_demo.ipynb",
        "live_update_demo.ipynb.zip",
        "options_tree.json",
        "project.geoh5",
        "testPoints.geoh5",
        "tester.ui.geoh5",
        "tester.ui.json"
       ],
       "index": 5,
       "layout": "IPY_MODEL_cb1f93312f55441f82592d84dddc45a8",
       "rows": 8,
       "style": "IPY_MODEL_709cde25b63d44ee90192cf5a4d8aa44"
      }
     },
     "d15144cde4734bf2a55ecd28e5e76a79": {
      "model_module": "@jupyter-widgets/controls",
      "model_module_version": "1.5.0",
      "model_name": "DescriptionStyleModel",
      "state": {
       "description_width": ""
      }
     },
     "d17fde31f6e74a25ab8b63d8f30a120e": {
      "model_module": "@jupyter-widgets/controls",
      "model_module_version": "1.5.0",
      "model_name": "VBoxModel",
      "state": {
       "children": [
        "IPY_MODEL_a54150723e9e4754961e27093d9313cb",
        "IPY_MODEL_b01f1de9e14f4e9eaabb778def4dc853"
       ],
       "layout": "IPY_MODEL_fcd20087ceff45c3b51a061943e52e40"
      }
     },
     "d185d28cb5644791abad5d19411e52a7": {
      "model_module": "@jupyter-widgets/controls",
      "model_module_version": "1.5.0",
      "model_name": "VBoxModel",
      "state": {
       "children": [
        "IPY_MODEL_f0d11ebfa665447689109aed164f9bce"
       ],
       "layout": "IPY_MODEL_9d41981cf2bf4f40affdf523a744f675"
      }
     },
     "d1ae510761f14e039cb2204d7bd13ae7": {
      "model_module": "@jupyter-widgets/controls",
      "model_module_version": "1.5.0",
      "model_name": "GridBoxModel",
      "state": {
       "children": [
        "IPY_MODEL_2c8b4e7e79824228a435eb84fd7309ee",
        "IPY_MODEL_fb88a17980de49c093487ed01aa18f5f",
        "IPY_MODEL_d28c968c7f7d488a900c8932b7586563"
       ],
       "layout": "IPY_MODEL_12f75441fa504c8b9010387046644e7b"
      }
     },
     "d1e543c6512d463e82e75e523b431fa9": {
      "model_module": "@jupyter-widgets/controls",
      "model_module_version": "1.5.0",
      "model_name": "TextModel",
      "state": {
       "continuous_update": false,
       "description": "Input Projection:",
       "layout": "IPY_MODEL_adb6842381a9427bb9d4e9182980f2e7",
       "style": "IPY_MODEL_e05b0faba684420cba34c05c68e7df1a",
       "value": "EPSG:26914"
      }
     },
     "d21a0cb67adb4db9911580ed58ede868": {
      "model_module": "@jupyter-widgets/base",
      "model_module_version": "1.2.0",
      "model_name": "LayoutModel",
      "state": {
       "grid_area": "filename",
       "width": "auto"
      }
     },
     "d28c968c7f7d488a900c8932b7586563": {
      "model_module": "@jupyter-widgets/controls",
      "model_module_version": "1.5.0",
      "model_name": "SelectModel",
      "state": {
       "_options_labels": [
        "📁 ..",
        "📁 SimPEG_PFInversion",
        "📁 Temp"
       ],
       "index": null,
       "layout": "IPY_MODEL_c44e1aaa383a46908ed5ec0e2ed8c359",
       "rows": 8,
       "style": "IPY_MODEL_bc18ec4f250446b795088289ce9346c7"
      }
     },
     "d2ac3ba6bbbc43d49e73a66f77407b8a": {
      "model_module": "@jupyter-widgets/base",
      "model_module_version": "1.2.0",
      "model_name": "LayoutModel",
      "state": {}
     },
     "d2e939becb4f4266bb89c391daf177d2": {
      "model_module": "@jupyter-widgets/base",
      "model_module_version": "1.2.0",
      "model_name": "LayoutModel",
      "state": {
       "width": "auto"
      }
     },
     "d2f19ac5afd443258b69ddcf0a8d8983": {
      "model_module": "@jupyter-widgets/controls",
      "model_module_version": "1.5.0",
      "model_name": "HTMLModel",
      "state": {
       "layout": "IPY_MODEL_ac578ae2a1254f909703237c9bec2156",
       "style": "IPY_MODEL_1b11041c15464380b711ae5058a88bbe"
      }
     },
     "d3bc2d819da54aafb1ba89b154dea745": {
      "model_module": "@jupyter-widgets/base",
      "model_module_version": "1.2.0",
      "model_name": "LayoutModel",
      "state": {
       "width": "auto"
      }
     },
     "d443c3cd2847417dac48c38587cd16bf": {
      "model_module": "@jupyter-widgets/base",
      "model_module_version": "1.2.0",
      "model_name": "LayoutModel",
      "state": {
       "margin": "0 0 0 1em"
      }
     },
     "d47754d84eb148239a73ffb66315dac9": {
      "model_module": "@jupyter-widgets/controls",
      "model_module_version": "1.5.0",
      "model_name": "DropdownModel",
      "state": {
       "_options_labels": [
        "C:\\Users\\dominiquef\\Documents\\GIT\\mira\\geoapps\\assets",
        "C:\\Users\\dominiquef\\Documents\\GIT\\mira\\geoapps",
        "C:\\Users\\dominiquef\\Documents\\GIT\\mira",
        "C:\\Users\\dominiquef\\Documents\\GIT",
        "C:\\Users\\dominiquef\\Documents",
        "C:\\Users\\dominiquef",
        "C:\\Users",
        "C:\\",
        "D:\\",
        "Z:\\"
       ],
       "index": 0,
       "layout": "IPY_MODEL_fa05da09902b4f00b40f187a08b9de33",
       "style": "IPY_MODEL_71579fc346b1433da4f6e8c0c8df0787"
      }
     },
     "d49c87af20e34c4393a51b7041048878": {
      "model_module": "@jupyter-widgets/controls",
      "model_module_version": "1.5.0",
      "model_name": "SelectMultipleModel",
      "state": {
       "_options_labels": [
        "",
        "Data_TEM_pseudo3DEPSG_4326",
        "Gravity_Magnetics_drape60mEPSG_4326",
        "fault_splay1",
        "fault_Cliff_Lake",
        "fault_Other_FlinFlon",
        "fault_Club_Lake_splay",
        "fault_Catherine_splay2",
        "fault_Birch_View",
        "fault_Dion_Lake",
        "fault_FlinFlon_splay",
        "fault_West_Mandy_Road",
        "fault_Channing",
        "fault_Ross_Lake",
        "fault_Louis_Hidden",
        "fault_Lake_View_thrust",
        "contact_Schist_Lake",
        "fault_Burley_Lake",
        "fault_Dion_Lake_splay",
        "fault_Green_Lake",
        "fault_FlinFlon",
        "fault_Catherine_splay1",
        "fault_East_Mandy_Road",
        "fault_Other_FlinFlon_South",
        "fault_Catherine_splay4",
        "contact_Stitt_Island",
        "fault_Club_Lake",
        "fault_Tailing_Pond",
        "35_Hidden_Reservoir_Hr5",
        "29_Hidden_Reservoir_Hr1a",
        "60_BlueLagoon_Fb2",
        "20_FlinFlon_Undivided_Int_Dykes_D2f",
        "04_Boundary_Intrusive_S4h",
        "53_Millrock_Rhyolite_Fm4b",
        "19_FlinFlon_Undivided_Int_Dykes_D2b",
        "18_FlinFlon_Undivided_Int_Dykes_777_D2b",
        "06_Phantom_Lake_Intrusive_S3a",
        "21_FlinFlon_Undivided_Int_Dykes_D3a",
        "43_Millrock_CHLSH_South",
        "56_Millrock_Basalt_Fm1ba",
        "17_FlinFlon_Undivided_Int_Dykes_D2",
        "32_Hidden_Reservoir_Hr1b_SW",
        "11_Missi_M3_NE",
        "13_Missi_M1",
        "07_Annabel_Granitoid_S1",
        "45_Millrock_Gabbro_South",
        "01_Late_Intrusive_S5b",
        "31_Hidden_Reservoir_Hr1c_SW",
        "52_Millrock_Rhyolite_Fm4_West_check",
        "55_Millrock_Basalt_Fm1bf",
        "34_Hidden_Reservoir_Hr2b",
        "03_Boundary_Intrusive_S4b",
        "42_Millrock_CHLSH_North",
        "26_Louis_L3",
        "23_FlinFlon_Undivided_Int_Felsic_D4g",
        "30_Hidden_Reservoir_Hr1b",
        "59_BlueLagoon_Fb3",
        "49_Millrock_MVR_Fm5d",
        "44_Millrock_Gabbro_North",
        "27_Hidden_Carlisle_Hc4",
        "22_FlinFlon_Undivided_Int_Felsic_D4e",
        "02_Boundary_Intrusive_S4a",
        "61_BlueLagoon_Fb1_NW",
        "05_Boundary_Intrusive_S4g",
        "39_Ore_Callinan",
        "38_Ore_Dan_Owens",
        "40_Ore_FlinFlon",
        "Inversion_VTEM_Model",
        "Gravity_Magnetics_drape60m",
        "CDI_VTEM_model",
        "Data_FEM_pseudo3D",
        "geochem",
        "Inversion_DIGHEM_Model",
        "Topography",
        "Data_TEM_pseudo3D"
       ],
       "description": "Object:",
       "index": [
        68,
        74
       ],
       "layout": "IPY_MODEL_a586c4a702974f0ca6658e00503cd44c",
       "rows": 5,
       "style": "IPY_MODEL_6821bc0fc3a24af588109b028cea9286"
      }
     },
     "d4c257339ff74f688d3804e5524ab409": {
      "model_module": "@jupyter-widgets/controls",
      "model_module_version": "1.5.0",
      "model_name": "HTMLModel",
      "state": {
       "layout": "IPY_MODEL_7f179888daba4c2bb195570c3d0e7682",
       "style": "IPY_MODEL_9297e9e735bd46d5bab90f729928dde2"
      }
     },
     "d4cf7e4181f8460ca1cdd3d823dbec78": {
      "model_module": "@jupyter-widgets/controls",
      "model_module_version": "1.5.0",
      "model_name": "CheckboxModel",
      "state": {
       "description": "Geoscience ANALYST Pro - Live link",
       "disabled": false,
       "indent": false,
       "layout": "IPY_MODEL_c1c113ebecef4e9daf1d0e5324b9c9fe",
       "style": "IPY_MODEL_70084f2293a64612834162573721362e",
       "value": false
      }
     },
     "d4ec4a595ac04998b964fea555ef9fea": {
      "model_module": "@jupyter-widgets/controls",
      "model_module_version": "1.5.0",
      "model_name": "DescriptionStyleModel",
      "state": {
       "description_width": "initial"
      }
     },
     "d512a6b582014890840bdf9bdccb20ee": {
      "model_module": "@jupyter-widgets/base",
      "model_module_version": "1.2.0",
      "model_name": "LayoutModel",
      "state": {
       "width": "auto"
      }
     },
     "d581ed03b2944b8f95c28dfa20cb6d62": {
      "model_module": "@jupyter-widgets/controls",
      "model_module_version": "1.5.0",
      "model_name": "DescriptionStyleModel",
      "state": {
       "description_width": ""
      }
     },
     "d5b31ca4ba414581b6f39c50ba1c2f83": {
      "model_module": "@jupyter-widgets/controls",
      "model_module_version": "1.5.0",
      "model_name": "DescriptionStyleModel",
      "state": {
       "description_width": ""
      }
     },
     "d5dfacee65bd43f894de3474f59e8b85": {
      "model_module": "@jupyter-widgets/base",
      "model_module_version": "1.2.0",
      "model_name": "LayoutModel",
      "state": {
       "display": "none",
       "width": "auto"
      }
     },
     "d61f00a5b6cd46c2993938e0f503ea36": {
      "model_module": "@jupyter-widgets/controls",
      "model_module_version": "1.5.0",
      "model_name": "ButtonStyleModel",
      "state": {}
     },
     "d62bf8a3f3e746cab2a7f4e39c21b987": {
      "model_module": "@jupyter-widgets/controls",
      "model_module_version": "1.5.0",
      "model_name": "TextModel",
      "state": {
       "continuous_update": false,
       "description": "Output Projection:",
       "layout": "IPY_MODEL_5b0fb23dde1542caaf65cbee5f959ca0",
       "style": "IPY_MODEL_e2c4e0726b0341fb9d8ae71749525fa6",
       "value": "EPSG:4326"
      }
     },
     "d6a83a1694104c18a102278fd97355c2": {
      "model_module": "@jupyter-widgets/controls",
      "model_module_version": "1.5.0",
      "model_name": "VBoxModel",
      "state": {
       "children": [
        "IPY_MODEL_d4cf7e4181f8460ca1cdd3d823dbec78"
       ],
       "layout": "IPY_MODEL_283feb1f0c2745f9a53e095393b1227c"
      }
     },
     "d6b15928b74d4f9bb72f695de7ead23c": {
      "model_module": "@jupyter-widgets/controls",
      "model_module_version": "1.5.0",
      "model_name": "TextModel",
      "state": {
       "disabled": true,
       "layout": "IPY_MODEL_4149ff5cfb8b41a0b7fbd93a0c233414",
       "placeholder": "output filename",
       "style": "IPY_MODEL_0138e69b2b164a7db1071a0f31425072"
      }
     },
     "d77805b2fed84728947da93305f7fbc2": {
      "model_module": "@jupyter-widgets/base",
      "model_module_version": "1.2.0",
      "model_name": "LayoutModel",
      "state": {}
     },
     "d83d59d9e59740b09550095b54dbb4df": {
      "model_module": "@jupyter-widgets/base",
      "model_module_version": "1.2.0",
      "model_name": "LayoutModel",
      "state": {}
     },
     "d8c77b6b78dd449ab6625b98a4816790": {
      "model_module": "@jupyter-widgets/base",
      "model_module_version": "1.2.0",
      "model_name": "LayoutModel",
      "state": {}
     },
     "d943a34d617d4a34a52385081f98e67c": {
      "model_module": "@jupyter-widgets/controls",
      "model_module_version": "1.5.0",
      "model_name": "HBoxModel",
      "state": {
       "children": [
        "IPY_MODEL_1b45c415f9414d80b3f1bda4dbb6d5fb",
        "IPY_MODEL_78979e487149479cb86a8d606f98ea36"
       ],
       "layout": "IPY_MODEL_06c69c03928a4789b3f57c3fd48ede4a"
      }
     },
     "d9542cf5b236416a8598a52cc48a9b0c": {
      "model_module": "@jupyter-widgets/controls",
      "model_module_version": "1.5.0",
      "model_name": "ButtonStyleModel",
      "state": {}
     },
     "d9a9976375ca4ae988112149360885f7": {
      "model_module": "@jupyter-widgets/base",
      "model_module_version": "1.2.0",
      "model_name": "LayoutModel",
      "state": {}
     },
     "d9c3226c8371477ab4f51681689caacd": {
      "model_module": "@jupyter-widgets/base",
      "model_module_version": "1.2.0",
      "model_name": "LayoutModel",
      "state": {}
     },
     "d9fbb1b44c2e456eba79595f3eac35d4": {
      "model_module": "@jupyter-widgets/controls",
      "model_module_version": "1.5.0",
      "model_name": "DescriptionStyleModel",
      "state": {
       "description_width": ""
      }
     },
     "da54f0b7b65f4777b2129f89c6b88e0e": {
      "model_module": "@jupyter-widgets/base",
      "model_module_version": "1.2.0",
      "model_name": "LayoutModel",
      "state": {
       "width": "auto"
      }
     },
     "da7a2391e908450089f7390d48e15ac9": {
      "model_module": "@jupyter-widgets/controls",
      "model_module_version": "1.5.0",
      "model_name": "HBoxModel",
      "state": {
       "children": [
        "IPY_MODEL_e778a4b545ff44c8978a0b212efc6de8",
        "IPY_MODEL_6ec48403f12e4b68947de24841ff6ce9"
       ],
       "layout": "IPY_MODEL_a57c0665e54849089ff4203b40e4b3a5"
      }
     },
     "daa17b2cb44e4013a659adb58c21741d": {
      "model_module": "@jupyter-widgets/base",
      "model_module_version": "1.2.0",
      "model_name": "LayoutModel",
      "state": {
       "grid_area": "filename",
       "width": "auto"
      }
     },
     "dbd637a7a25141bc803e7862b9739a87": {
      "model_module": "@jupyter-widgets/base",
      "model_module_version": "1.2.0",
      "model_name": "LayoutModel",
      "state": {}
     },
     "dc063e7de3ed43d89edac339cf8f5508": {
      "model_module": "@jupyter-widgets/controls",
      "model_module_version": "1.5.0",
      "model_name": "DescriptionStyleModel",
      "state": {
       "description_width": "initial"
      }
     },
     "dc0fd91802b3403caeb5424c25ce967a": {
      "model_module": "@jupyter-widgets/controls",
      "model_module_version": "1.5.0",
      "model_name": "GridBoxModel",
      "state": {
       "children": [
        "IPY_MODEL_90e3e52533654ab49014e75dd3d66660",
        "IPY_MODEL_b51903449cc347cca279b86b3af24260",
        "IPY_MODEL_1b283bde5b36461ebc6318bcb8444de2"
       ],
       "layout": "IPY_MODEL_05a2a5bf66dd4e65b1e42717f704607f"
      }
     },
     "dc23e37cac3146929639128f8380c8fc": {
      "model_module": "@jupyter-widgets/base",
      "model_module_version": "1.2.0",
      "model_name": "LayoutModel",
      "state": {}
     },
     "dc3216ebfe8a4373ae773d4789be6379": {
      "model_module": "@jupyter-widgets/controls",
      "model_module_version": "1.5.0",
      "model_name": "HTMLModel",
      "state": {
       "layout": "IPY_MODEL_ab29eae7c4254ab28a07046bd5011eb7",
       "style": "IPY_MODEL_cf04edc0ad824306a04979ecca80eb25"
      }
     },
     "dc3c87c3914047f79b6f617713c262c4": {
      "model_module": "@jupyter-widgets/base",
      "model_module_version": "1.2.0",
      "model_name": "LayoutModel",
      "state": {}
     },
     "dc4140791050486c82845cb61afc3c9c": {
      "model_module": "@jupyter-widgets/controls",
      "model_module_version": "1.5.0",
      "model_name": "HBoxModel",
      "state": {
       "children": [
        "IPY_MODEL_e9e3f7380eee4d1692e1637dac198843",
        "IPY_MODEL_22fb404c76a646449e57b3054524ad3c"
       ],
       "layout": "IPY_MODEL_6ecb00fc792947c8a70c607667e9d845"
      }
     },
     "dc44e48658764106830eadd8aab056d9": {
      "model_module": "@jupyter-widgets/base",
      "model_module_version": "1.2.0",
      "model_name": "LayoutModel",
      "state": {}
     },
     "dc5291d5f52a4603a6c8ef420f220475": {
      "model_module": "@jupyter-widgets/controls",
      "model_module_version": "1.5.0",
      "model_name": "DescriptionStyleModel",
      "state": {
       "description_width": "initial"
      }
     },
     "dc898363a5924ad78ae54ab22fd562a0": {
      "model_module": "@jupyter-widgets/controls",
      "model_module_version": "1.5.0",
      "model_name": "TextModel",
      "state": {
       "continuous_update": false,
       "description": "Group:",
       "layout": "IPY_MODEL_90f49b2657d94c3c83114c45844d2c35",
       "style": "IPY_MODEL_62b9b1675f434a2cb2249991a4286f28",
       "value": "CoordinateTransformation"
      }
     },
     "dccb8fa05e914c88b9ecb7d049ffddf5": {
      "model_module": "@jupyter-widgets/controls",
      "model_module_version": "1.5.0",
      "model_name": "HTMLModel",
      "state": {
       "layout": "IPY_MODEL_0b226e1a0a8a4f57899c86833731787b",
       "placeholder": "",
       "style": "IPY_MODEL_a3e84a49696547cf87a4f176d9d89a64",
       "value": "<span style=\"margin-left:10px; color:black;\">No file selected</span>"
      }
     },
     "ddf047daae5940649092f4bbf1cf6904": {
      "model_module": "@jupyter-widgets/controls",
      "model_module_version": "1.5.0",
      "model_name": "DescriptionStyleModel",
      "state": {
       "description_width": ""
      }
     },
     "ddf7e8f43ee44342b0b70cef61a004e5": {
      "model_module": "@jupyter-widgets/base",
      "model_module_version": "1.2.0",
      "model_name": "LayoutModel",
      "state": {}
     },
     "de321c4be3e445aba2498e867437017c": {
      "model_module": "@jupyter-widgets/base",
      "model_module_version": "1.2.0",
      "model_name": "LayoutModel",
      "state": {
       "grid_area": "pathlist",
       "width": "auto"
      }
     },
     "de4a0cc0012946859e91737f73a764ee": {
      "model_module": "@jupyter-widgets/controls",
      "model_module_version": "1.5.0",
      "model_name": "DescriptionStyleModel",
      "state": {
       "description_width": ""
      }
     },
     "de5e755203254436ba218dc0b7409d38": {
      "model_module": "@jupyter-widgets/base",
      "model_module_version": "1.2.0",
      "model_name": "LayoutModel",
      "state": {}
     },
     "de7f63a211c4482880622a64f64e932b": {
      "model_module": "@jupyter-widgets/controls",
      "model_module_version": "1.5.0",
      "model_name": "LabelModel",
      "state": {
       "layout": "IPY_MODEL_9e54ede9823d4a4b9b8d279aa1dc2dec",
       "style": "IPY_MODEL_69ba4c200d7f4f5aa4708cdb08d1fc73",
       "value": "Workspace"
      }
     },
     "deb02449b6624c64943d4a9bbc5eb1cd": {
      "model_module": "@jupyter-widgets/controls",
      "model_module_version": "1.5.0",
      "model_name": "DescriptionStyleModel",
      "state": {
       "description_width": ""
      }
     },
     "df631e90f51a49a2b91e59700fdf2116": {
      "model_module": "@jupyter-widgets/controls",
      "model_module_version": "1.5.0",
      "model_name": "DescriptionStyleModel",
      "state": {
       "description_width": ""
      }
     },
     "df7315ea2268485b9cffe05793229488": {
      "model_module": "@jupyter-widgets/controls",
      "model_module_version": "1.5.0",
      "model_name": "GridBoxModel",
      "state": {
       "children": [
        "IPY_MODEL_215cd417a3684033afd14f1a5b5a8468",
        "IPY_MODEL_5da84459d41b48f297e6150f4e5407bf",
        "IPY_MODEL_d12e540e8c194b569c6ad0f1723b884c"
       ],
       "layout": "IPY_MODEL_1773fa69d622413a81341d6d19d15182"
      }
     },
     "dfa258bd9def4f1d8939c33e6799a900": {
      "model_module": "@jupyter-widgets/controls",
      "model_module_version": "1.5.0",
      "model_name": "ButtonModel",
      "state": {
       "description": "Create copy:",
       "layout": "IPY_MODEL_6e281a9ae42b4b9ba3b4e3a22b7a7cfb",
       "style": "IPY_MODEL_ff6f44ef427b45ea8d4dee9ee3a2e56c"
      }
     },
     "dfb27167d27c4f05927cd41e4b9a9391": {
      "model_module": "@jupyter-widgets/controls",
      "model_module_version": "1.5.0",
      "model_name": "HBoxModel",
      "state": {
       "children": [
        "IPY_MODEL_634d5195594147b39f1abbe0a208646d",
        "IPY_MODEL_9018489ee0e24f1e9f50f7864a41deaf",
        "IPY_MODEL_124de06dc39641a3a37ee35d3f1791d8"
       ],
       "layout": "IPY_MODEL_2779faee6b8d4dfd97fc7c8a25a92eda"
      }
     },
     "dfe88e3e705749be9937cd3b17458779": {
      "model_module": "@jupyter-widgets/controls",
      "model_module_version": "1.5.0",
      "model_name": "DropdownModel",
      "state": {
       "_options_labels": [
        "C:\\Users\\dominiquef\\Documents\\GIT\\mira\\mirageoscience-apps\\docs\\content\\applications",
        "C:\\Users\\dominiquef\\Documents\\GIT\\mira\\mirageoscience-apps\\docs\\content",
        "C:\\Users\\dominiquef\\Documents\\GIT\\mira\\mirageoscience-apps\\docs",
        "C:\\Users\\dominiquef\\Documents\\GIT\\mira\\mirageoscience-apps",
        "C:\\Users\\dominiquef\\Documents\\GIT\\mira",
        "C:\\Users\\dominiquef\\Documents\\GIT",
        "C:\\Users\\dominiquef\\Documents",
        "C:\\Users\\dominiquef",
        "C:\\Users",
        "C:\\",
        "D:\\",
        "Z:\\"
       ],
       "index": 0,
       "layout": "IPY_MODEL_de321c4be3e445aba2498e867437017c",
       "style": "IPY_MODEL_ff6d71d27a064a819ddd7218790166a0"
      }
     },
     "e05735bb238249d28317475430dc328b": {
      "model_module": "@jupyter-widgets/controls",
      "model_module_version": "1.5.0",
      "model_name": "HBoxModel",
      "state": {
       "children": [
        "IPY_MODEL_81e62d149b664c6b979887a7dd8e72c6",
        "IPY_MODEL_bdc0561ff0e4472aaa613395c7efa24f"
       ],
       "layout": "IPY_MODEL_a58dcb0a9cee439abf88f6de9d2278e8"
      }
     },
     "e05b0faba684420cba34c05c68e7df1a": {
      "model_module": "@jupyter-widgets/controls",
      "model_module_version": "1.5.0",
      "model_name": "DescriptionStyleModel",
      "state": {
       "description_width": "initial"
      }
     },
     "e0cf6ac96e2844dc8b68642d44c178aa": {
      "model_module": "@jupyter-widgets/controls",
      "model_module_version": "1.5.0",
      "model_name": "DropdownModel",
      "state": {
       "_options_labels": [
        "C:\\Users\\dominiquef\\Documents\\GIT\\mira\\mirageoscience-apps\\assets",
        "C:\\Users\\dominiquef\\Documents\\GIT\\mira\\mirageoscience-apps",
        "C:\\Users\\dominiquef\\Documents\\GIT\\mira",
        "C:\\Users\\dominiquef\\Documents\\GIT",
        "C:\\Users\\dominiquef\\Documents",
        "C:\\Users\\dominiquef",
        "C:\\Users",
        "C:\\",
        "D:\\",
        "Z:\\"
       ],
       "index": 0,
       "layout": "IPY_MODEL_b9c52f1d169543078bc9a5e379d4d8ee",
       "style": "IPY_MODEL_5823712eb04b4a5092de9536dd9a26fb"
      }
     },
     "e16233159aec4ec0913828c5fe8757fe": {
      "model_module": "@jupyter-widgets/base",
      "model_module_version": "1.2.0",
      "model_name": "LayoutModel",
      "state": {}
     },
     "e16a07633e9b4c3c80e66e3ea29fb5fd": {
      "model_module": "@jupyter-widgets/base",
      "model_module_version": "1.2.0",
      "model_name": "LayoutModel",
      "state": {}
     },
     "e1ef77781ffe432db965fb97b3763a2a": {
      "model_module": "@jupyter-widgets/controls",
      "model_module_version": "1.5.0",
      "model_name": "VBoxModel",
      "state": {
       "children": [
        "IPY_MODEL_527cc8f971ae4ddbbd7e5b60782c8c7b",
        "IPY_MODEL_75fab7a3328945ea96580eccffd601ae"
       ],
       "layout": "IPY_MODEL_a75fa6d5b8ee4437b40625a5157b08f1"
      }
     },
     "e207f9f36e5e4999ac11b3c4870a17fc": {
      "model_module": "@jupyter-widgets/controls",
      "model_module_version": "1.5.0",
      "model_name": "ButtonModel",
      "state": {
       "description": "Cancel",
       "layout": "IPY_MODEL_4fe640069a2c4932b6564b8a9f0ee2aa",
       "style": "IPY_MODEL_0c4329a277514b7396b129ce493808d8"
      }
     },
     "e2c4e0726b0341fb9d8ae71749525fa6": {
      "model_module": "@jupyter-widgets/controls",
      "model_module_version": "1.5.0",
      "model_name": "DescriptionStyleModel",
      "state": {
       "description_width": "initial"
      }
     },
     "e2cd15a091ea43e88a0bac37feb45993": {
      "model_module": "@jupyter-widgets/controls",
      "model_module_version": "1.5.0",
      "model_name": "HBoxModel",
      "state": {
       "children": [
        "IPY_MODEL_f32d45172ac545ec91c75628f316ff9c",
        "IPY_MODEL_f39dcc13de5347908416f62ef4bca348",
        "IPY_MODEL_cac375dd930e4833966729adcf743240"
       ],
       "layout": "IPY_MODEL_bd2d94f8bffb4a6891af761ea8b195e9"
      }
     },
     "e2f5957c48fb42048a47cdc1e4408618": {
      "model_module": "@jupyter-widgets/controls",
      "model_module_version": "1.5.0",
      "model_name": "DescriptionStyleModel",
      "state": {
       "description_width": ""
      }
     },
     "e31a80c372ef418fb66bbac8313dcbcc": {
      "model_module": "@jupyter-widgets/controls",
      "model_module_version": "1.5.0",
      "model_name": "VBoxModel",
      "state": {
       "children": [
        "IPY_MODEL_8b9b6630068a4f56971e162ee8539661",
        "IPY_MODEL_a4d538d7ddd44dbbb2bd0f001463c0ce"
       ],
       "layout": "IPY_MODEL_185923ec32864aa5910eabafe27014a6"
      }
     },
     "e3b10af1cace4b9f8c18fb3cdf1d9077": {
      "model_module": "@jupyter-widgets/controls",
      "model_module_version": "1.5.0",
      "model_name": "HBoxModel",
      "state": {
       "children": [
        "IPY_MODEL_41bfd9da632b4770b30565efc9c5972f",
        "IPY_MODEL_4c5f3f5ac0854c688443a97f1ecec4b0",
        "IPY_MODEL_a7e15a1d93814dd19e124536ddd06204"
       ],
       "layout": "IPY_MODEL_7d6f0b0169c84cfa89f962a6de04493e"
      }
     },
     "e3f269f9320c46d7b2e1168476d523f2": {
      "model_module": "@jupyter-widgets/controls",
      "model_module_version": "1.5.0",
      "model_name": "DescriptionStyleModel",
      "state": {
       "description_width": ""
      }
     },
     "e422060b27894eb69673388165adcb41": {
      "model_module": "@jupyter-widgets/controls",
      "model_module_version": "1.5.0",
      "model_name": "DescriptionStyleModel",
      "state": {
       "description_width": ""
      }
     },
     "e46d060c52bd47cd86f1bd0592936afd": {
      "model_module": "@jupyter-widgets/base",
      "model_module_version": "1.2.0",
      "model_name": "LayoutModel",
      "state": {}
     },
     "e4987ecf1c894137bbcda26d6515a83e": {
      "model_module": "@jupyter-widgets/controls",
      "model_module_version": "1.5.0",
      "model_name": "DescriptionStyleModel",
      "state": {
       "description_width": ""
      }
     },
     "e4adb34bd05f43229ffccdc9a3e38147": {
      "model_module": "@jupyter-widgets/controls",
      "model_module_version": "1.5.0",
      "model_name": "DescriptionStyleModel",
      "state": {
       "description_width": ""
      }
     },
     "e4c7c6970c95442ba3f37cc7779f8db5": {
      "model_module": "@jupyter-widgets/controls",
      "model_module_version": "1.5.0",
      "model_name": "DescriptionStyleModel",
      "state": {
       "description_width": ""
      }
     },
     "e4d2fd942ec9481a91a9316251021e0a": {
      "model_module": "@jupyter-widgets/controls",
      "model_module_version": "1.5.0",
      "model_name": "TextModel",
      "state": {
       "continuous_update": false,
       "description": "Input Projection:",
       "layout": "IPY_MODEL_5bbf7a00c3704f2c8d970d060a6beaf6",
       "style": "IPY_MODEL_8f1aee11c25748d8be7b12501533d763",
       "value": "EPSG:26914"
      }
     },
     "e4ee6b7ee46841a297821f1822a05257": {
      "model_module": "@jupyter-widgets/controls",
      "model_module_version": "1.5.0",
      "model_name": "ButtonStyleModel",
      "state": {}
     },
     "e5104d46ae8c4281956a68da32d2d2a7": {
      "model_module": "@jupyter-widgets/base",
      "model_module_version": "1.2.0",
      "model_name": "LayoutModel",
      "state": {
       "width": "auto"
      }
     },
     "e51b5964f01847aa8cefc3a82b874799": {
      "model_module": "@jupyter-widgets/controls",
      "model_module_version": "1.5.0",
      "model_name": "ButtonStyleModel",
      "state": {}
     },
     "e521ee43b67843fdba5bc78c4a9c4b1d": {
      "model_module": "@jupyter-widgets/base",
      "model_module_version": "1.2.0",
      "model_name": "LayoutModel",
      "state": {}
     },
     "e54e4b61dc8345a49ce65b4f91d9f7a2": {
      "model_module": "@jupyter-widgets/controls",
      "model_module_version": "1.5.0",
      "model_name": "DescriptionStyleModel",
      "state": {
       "description_width": "initial"
      }
     },
     "e55d9f22def0432293ea93ca1782c4c2": {
      "model_module": "@jupyter-widgets/controls",
      "model_module_version": "1.5.0",
      "model_name": "ButtonModel",
      "state": {
       "description": "Cancel",
       "layout": "IPY_MODEL_23ee6d99520046349d2be6f9c5d799cc",
       "style": "IPY_MODEL_ed8d4ea4f4b4498d9a5bdd708e50c12a"
      }
     },
     "e56948f6af574691a287509747073f50": {
      "model_module": "@jupyter-widgets/controls",
      "model_module_version": "1.5.0",
      "model_name": "DescriptionStyleModel",
      "state": {
       "description_width": "initial"
      }
     },
     "e6368db7e1a84d45bbd81e50ef3e1787": {
      "model_module": "@jupyter-widgets/controls",
      "model_module_version": "1.5.0",
      "model_name": "ButtonStyleModel",
      "state": {}
     },
     "e644b204f9da42ebba54b468485ca048": {
      "model_module": "@jupyter-widgets/controls",
      "model_module_version": "1.5.0",
      "model_name": "ButtonModel",
      "state": {
       "description": "Create copy:",
       "layout": "IPY_MODEL_d83d59d9e59740b09550095b54dbb4df",
       "style": "IPY_MODEL_31bb2c3acd3a4656a25e90e2664d3638"
      }
     },
     "e729ed179935402b88978e28bb2a2f6a": {
      "model_module": "@jupyter-widgets/base",
      "model_module_version": "1.2.0",
      "model_name": "LayoutModel",
      "state": {
       "grid_area": "dircontent",
       "width": "auto"
      }
     },
     "e778a4b545ff44c8978a0b212efc6de8": {
      "model_module": "@jupyter-widgets/controls",
      "model_module_version": "1.5.0",
      "model_name": "TextModel",
      "state": {
       "continuous_update": false,
       "description": "Input Projection:",
       "layout": "IPY_MODEL_3516247b687640a29a05b648ed60b210",
       "style": "IPY_MODEL_098d15aed8c94e2d81acdb9ae09807f7",
       "value": "EPSG:26914"
      }
     },
     "e7e3ed071915420a946b3f3fd6481da7": {
      "model_module": "@jupyter-widgets/controls",
      "model_module_version": "1.5.0",
      "model_name": "DropdownModel",
      "state": {
       "_options_labels": [
        "C:\\Users\\dominiquef\\Documents\\GIT\\mira\\geoapps\\assets",
        "C:\\Users\\dominiquef\\Documents\\GIT\\mira\\geoapps",
        "C:\\Users\\dominiquef\\Documents\\GIT\\mira",
        "C:\\Users\\dominiquef\\Documents\\GIT",
        "C:\\Users\\dominiquef\\Documents",
        "C:\\Users\\dominiquef",
        "C:\\Users",
        "C:\\",
        "D:\\",
        "\\\\EgnyteDrive\\mirageoscience\\",
        "G:\\"
       ],
       "index": 0,
       "layout": "IPY_MODEL_9e594ffdbf5b4cfcb4b30bb7635b4949",
       "style": "IPY_MODEL_a3916ea31fa4404d9864bfcc50080db5"
      }
     },
     "e803b728114c428e844d5a0f9cbfa8a5": {
      "model_module": "@jupyter-widgets/base",
      "model_module_version": "1.2.0",
      "model_name": "LayoutModel",
      "state": {
       "display": "none"
      }
     },
     "e82d3d934aa34643a014f601c7ecbfd8": {
      "model_module": "@jupyter-widgets/base",
      "model_module_version": "1.2.0",
      "model_name": "LayoutModel",
      "state": {}
     },
     "e8424b7ffc3049ada30c356a5e80803e": {
      "model_module": "@jupyter-widgets/controls",
      "model_module_version": "1.5.0",
      "model_name": "ButtonModel",
      "state": {
       "description": "Change",
       "layout": "IPY_MODEL_62c2923bcd1e4e939b53c405b32ca4fa",
       "style": "IPY_MODEL_42e3002aaa6f4f1dad8be9ade93670d6"
      }
     },
     "e86c986153cb4d64b9e08995c1e05ab3": {
      "model_module": "@jupyter-widgets/controls",
      "model_module_version": "1.5.0",
      "model_name": "DescriptionStyleModel",
      "state": {
       "description_width": ""
      }
     },
     "e8a5c0fd35dc46b387f756bb9068020a": {
      "model_module": "@jupyter-widgets/base",
      "model_module_version": "1.2.0",
      "model_name": "LayoutModel",
      "state": {}
     },
     "e8b916c9b722499d9008a0f849726293": {
      "model_module": "@jupyter-widgets/base",
      "model_module_version": "1.2.0",
      "model_name": "LayoutModel",
      "state": {}
     },
     "e8dde8a2c3eb4c24be08571aa7158226": {
      "model_module": "@jupyter-widgets/controls",
      "model_module_version": "1.5.0",
      "model_name": "ButtonStyleModel",
      "state": {}
     },
     "e90a4ea575af42d6acc2c2421386bfb0": {
      "model_module": "@jupyter-widgets/controls",
      "model_module_version": "1.5.0",
      "model_name": "ButtonStyleModel",
      "state": {}
     },
     "e9256f88165941db99487634567f39a4": {
      "model_module": "@jupyter-widgets/controls",
      "model_module_version": "1.5.0",
      "model_name": "DescriptionStyleModel",
      "state": {
       "description_width": ""
      }
     },
     "e92cb03ae726498c8787ed72adbbcf15": {
      "model_module": "@jupyter-widgets/controls",
      "model_module_version": "1.5.0",
      "model_name": "DescriptionStyleModel",
      "state": {
       "description_width": ""
      }
     },
     "e93fcd39d81f452da73a4d1f3dd9c4b0": {
      "model_module": "@jupyter-widgets/controls",
      "model_module_version": "1.5.0",
      "model_name": "HTMLModel",
      "state": {
       "layout": "IPY_MODEL_2e205a6ba79c4e39b3d2f2e8e2a5801d",
       "style": "IPY_MODEL_e4c7c6970c95442ba3f37cc7779f8db5"
      }
     },
     "e97a79be71b841d9a9ba6930f7c46d3f": {
      "model_module": "@jupyter-widgets/base",
      "model_module_version": "1.2.0",
      "model_name": "LayoutModel",
      "state": {}
     },
     "e98571483afa4a6390d9cf3b21254e07": {
      "model_module": "@jupyter-widgets/base",
      "model_module_version": "1.2.0",
      "model_name": "LayoutModel",
      "state": {
       "grid_area": "dircontent",
       "width": "auto"
      }
     },
     "e99aec0507aa4ca390990c3f3ddd15bc": {
      "model_module": "@jupyter-widgets/base",
      "model_module_version": "1.2.0",
      "model_name": "LayoutModel",
      "state": {}
     },
     "e9daaaa879ad4cc9a4b3cf44d6573f9f": {
      "model_module": "@jupyter-widgets/base",
      "model_module_version": "1.2.0",
      "model_name": "LayoutModel",
      "state": {
       "display": "none"
      }
     },
     "e9ddc143b7264f2a95d1cb1f290b84ea": {
      "model_module": "@jupyter-widgets/base",
      "model_module_version": "1.2.0",
      "model_name": "LayoutModel",
      "state": {}
     },
     "e9e3f7380eee4d1692e1637dac198843": {
      "model_module": "@jupyter-widgets/controls",
      "model_module_version": "1.5.0",
      "model_name": "TextModel",
      "state": {
       "continuous_update": false,
       "description": "Input Projection:",
       "layout": "IPY_MODEL_efe7758951e94d559287f9fffbab6750",
       "style": "IPY_MODEL_98f4bfbc0eee4038a484d38ac41eebfb",
       "value": "EPSG:26914"
      }
     },
     "e9f2fcf007934deabeced26d65c0a43f": {
      "model_module": "@jupyter-widgets/controls",
      "model_module_version": "1.5.0",
      "model_name": "HTMLModel",
      "state": {
       "layout": "IPY_MODEL_608723897240409e854ecf0091480f27",
       "style": "IPY_MODEL_02af600b2eef4cc1b9b78746d36996e9"
      }
     },
     "ea16fdb0b8c944919dcebb19fc486d6d": {
      "model_module": "@jupyter-widgets/controls",
      "model_module_version": "1.5.0",
      "model_name": "DescriptionStyleModel",
      "state": {
       "description_width": ""
      }
     },
     "ea73c178ef474dbcb06bddc61eb6fb61": {
      "model_module": "@jupyter-widgets/controls",
      "model_module_version": "1.5.0",
      "model_name": "VBoxModel",
      "state": {
       "children": [
        "IPY_MODEL_7a31293a4a624b86b16fa2fc2752dd08",
        "IPY_MODEL_56af31491d6c4f759c670d5c78c791fc"
       ],
       "layout": "IPY_MODEL_4a5aeecb5ea747648c0c8a585da2837f"
      }
     },
     "eb512cd747ee4da49cb3f5621e4c8e3b": {
      "model_module": "@jupyter-widgets/controls",
      "model_module_version": "1.5.0",
      "model_name": "DescriptionStyleModel",
      "state": {
       "description_width": ""
      }
     },
     "ebc3893210274ceb87fbf8d485d5e67c": {
      "model_module": "@jupyter-widgets/controls",
      "model_module_version": "1.5.0",
      "model_name": "ButtonStyleModel",
      "state": {}
     },
     "ebd959445fde478c8f18a1e9a1ff87f4": {
      "model_module": "@jupyter-widgets/controls",
      "model_module_version": "1.5.0",
      "model_name": "SelectModel",
      "state": {
       "_options_labels": [
        "..",
        "dask-worker-space",
        "images"
       ],
       "index": null,
       "layout": "IPY_MODEL_a20f5f2ed994443199094af26e6c17d8",
       "rows": 8,
       "style": "IPY_MODEL_e3f269f9320c46d7b2e1168476d523f2"
      }
     },
     "ebeeeddf1358499db2fea9f45e133eba": {
      "model_module": "@jupyter-widgets/controls",
      "model_module_version": "1.5.0",
      "model_name": "VBoxModel",
      "state": {
       "children": [
        "IPY_MODEL_b5d95113e73244e196840a390e4c0703",
        "IPY_MODEL_426729ce6edb465ebe1037e9b597925d",
        "IPY_MODEL_709e343621144798991f6b2ddbff7a18"
       ],
       "layout": "IPY_MODEL_418ba2812e25466a966737f2ce884af1"
      }
     },
     "ebfbe6d7179445489d67a1c5fb8fcbeb": {
      "model_module": "@jupyter-widgets/controls",
      "model_module_version": "1.5.0",
      "model_name": "DescriptionStyleModel",
      "state": {
       "description_width": ""
      }
     },
     "ec286779c4d34ffb83ddca1900a68049": {
      "model_module": "@jupyter-widgets/base",
      "model_module_version": "1.2.0",
      "model_name": "LayoutModel",
      "state": {
       "width": "auto"
      }
     },
     "ec6d6fb367c84b8dbf9a064cdfa919eb": {
      "model_module": "@jupyter-widgets/base",
      "model_module_version": "1.2.0",
      "model_name": "LayoutModel",
      "state": {
       "grid_area": "dircontent",
       "width": "auto"
      }
     },
     "ec7768cd033e4b4295bcca766f3c6b54": {
      "model_module": "@jupyter-widgets/controls",
      "model_module_version": "1.5.0",
      "model_name": "ButtonModel",
      "state": {
       "description": "Cancel",
       "layout": "IPY_MODEL_4bb36d8a0c3e426d80a2a56b27e60b80",
       "style": "IPY_MODEL_61ed0193657446d38ce8825b8f89208a"
      }
     },
     "ecfb6ae57545448ab4adb88b2828a212": {
      "model_module": "@jupyter-widgets/controls",
      "model_module_version": "1.5.0",
      "model_name": "ToggleButtonModel",
      "state": {
       "layout": "IPY_MODEL_a607020969f54d06a63a3913fdb1f8af",
       "style": "IPY_MODEL_8e1617255b374c80a9b977e8f3bd8e58"
      }
     },
     "ed8d4ea4f4b4498d9a5bdd708e50c12a": {
      "model_module": "@jupyter-widgets/controls",
      "model_module_version": "1.5.0",
      "model_name": "ButtonStyleModel",
      "state": {}
     },
     "ed95f1034094422f932adc92534b5681": {
      "model_module": "@jupyter-widgets/base",
      "model_module_version": "1.2.0",
      "model_name": "LayoutModel",
      "state": {}
     },
     "edaef12ae09648809ccf2119db2ee11a": {
      "model_module": "@jupyter-widgets/controls",
      "model_module_version": "1.5.0",
      "model_name": "ButtonStyleModel",
      "state": {}
     },
     "edf1da62b120499a9d97a2886a2311b6": {
      "model_module": "@jupyter-widgets/controls",
      "model_module_version": "1.5.0",
      "model_name": "DescriptionStyleModel",
      "state": {
       "description_width": "initial"
      }
     },
     "ee8a5416085d4dd898d2fd6e082d3003": {
      "model_module": "@jupyter-widgets/base",
      "model_module_version": "1.2.0",
      "model_name": "LayoutModel",
      "state": {}
     },
     "eecffef37b6f4e8eab7258dec4be1bf2": {
      "model_module": "@jupyter-widgets/base",
      "model_module_version": "1.2.0",
      "model_name": "LayoutModel",
      "state": {}
     },
     "ef2b17ff068b443f87b09e91bebff77b": {
      "model_module": "@jupyter-widgets/controls",
      "model_module_version": "1.5.0",
      "model_name": "ButtonModel",
      "state": {
       "description": "Create copy:",
       "layout": "IPY_MODEL_569be3cf5150496b8a5d1096fa5864be",
       "style": "IPY_MODEL_c44c71dfecc9445592ef540b6b63ae16"
      }
     },
     "ef4874e20e6c42728c157327a7a30c34": {
      "model_module": "@jupyter-widgets/controls",
      "model_module_version": "1.5.0",
      "model_name": "HTMLModel",
      "state": {
       "layout": "IPY_MODEL_f4f808c759594111b5566379793b6689",
       "placeholder": "",
       "style": "IPY_MODEL_ba5f2a2cba5c4eb7b26ca5973134dc9a",
       "value": "<span style=\"margin-left:10px; color:black;\">No file selected</span>"
      }
     },
     "ef4d658ec7fe45b584fc637ef531742a": {
      "model_module": "@jupyter-widgets/base",
      "model_module_version": "1.2.0",
      "model_name": "LayoutModel",
      "state": {
       "display": "none",
       "grid_area": "filename",
       "width": "auto"
      }
     },
     "ef676f740c2246b58a2b51ccc01e0cce": {
      "model_module": "@jupyter-widgets/base",
      "model_module_version": "1.2.0",
      "model_name": "LayoutModel",
      "state": {
       "width": "50%"
      }
     },
     "efa277285c4544509b7191e8b3efe4d0": {
      "model_module": "@jupyter-widgets/controls",
      "model_module_version": "1.5.0",
      "model_name": "HTMLModel",
      "state": {
       "layout": "IPY_MODEL_e9daaaa879ad4cc9a4b3cf44d6573f9f",
       "style": "IPY_MODEL_88a18fe21e4b4c0e937123e64135c71e"
      }
     },
     "efd117f1f48342d4a50822082569dbef": {
      "model_module": "@jupyter-widgets/base",
      "model_module_version": "1.2.0",
      "model_name": "LayoutModel",
      "state": {}
     },
     "efe7758951e94d559287f9fffbab6750": {
      "model_module": "@jupyter-widgets/base",
      "model_module_version": "1.2.0",
      "model_name": "LayoutModel",
      "state": {}
     },
     "eff345bacc744121a716c3b05fca2170": {
      "model_module": "@jupyter-widgets/base",
      "model_module_version": "1.2.0",
      "model_name": "LayoutModel",
      "state": {}
     },
     "effa045c28cb41969dfc5c271d4a5175": {
      "model_module": "@jupyter-widgets/controls",
      "model_module_version": "1.5.0",
      "model_name": "ButtonModel",
      "state": {
       "description": "Select",
       "layout": "IPY_MODEL_a3896c47062249f68f16320b8ec67b1f",
       "style": "IPY_MODEL_55f0bf09a64a49a6bc0012d74a92e9ce"
      }
     },
     "f02ff86496dc4fe6bb8cf59a351f8ad3": {
      "model_module": "@jupyter-widgets/base",
      "model_module_version": "1.2.0",
      "model_name": "LayoutModel",
      "state": {
       "width": "auto"
      }
     },
     "f03cdbaee51940bf97ad498eb86aba4a": {
      "model_module": "@jupyter-widgets/controls",
      "model_module_version": "1.5.0",
      "model_name": "DescriptionStyleModel",
      "state": {
       "description_width": ""
      }
     },
     "f0d11ebfa665447689109aed164f9bce": {
      "model_module": "@jupyter-widgets/controls",
      "model_module_version": "1.5.0",
      "model_name": "CheckboxModel",
      "state": {
       "description": "Geoscience ANALYST Pro - Live link",
       "disabled": false,
       "indent": false,
       "layout": "IPY_MODEL_b33ee8da120b428d9c3fac75ea3c5cef",
       "style": "IPY_MODEL_f1a4897b4d584732babafcbf17624045",
       "value": false
      }
     },
     "f0d6e2413dce4029a54c91542ebec88d": {
      "model_module": "@jupyter-widgets/base",
      "model_module_version": "1.2.0",
      "model_name": "LayoutModel",
      "state": {}
     },
     "f11fd51fe9e94d04bde569d49de9210d": {
      "model_module": "@jupyter-widgets/controls",
      "model_module_version": "1.5.0",
      "model_name": "TextModel",
      "state": {
       "continuous_update": false,
       "description": "Output Projection:",
       "layout": "IPY_MODEL_b3f558da9e6c436a8ca9545992358ab4",
       "style": "IPY_MODEL_e54e4b61dc8345a49ce65b4f91d9f7a2",
       "value": "EPSG:4326"
      }
     },
     "f1a4897b4d584732babafcbf17624045": {
      "model_module": "@jupyter-widgets/controls",
      "model_module_version": "1.5.0",
      "model_name": "DescriptionStyleModel",
      "state": {
       "description_width": "initial"
      }
     },
     "f1b533ee3bbb48749040f17e80e8a268": {
      "model_module": "@jupyter-widgets/base",
      "model_module_version": "1.2.0",
      "model_name": "LayoutModel",
      "state": {
       "width": "auto"
      }
     },
     "f1c2e494a2dc4171a3ae031332e9a2fc": {
      "model_module": "@jupyter-widgets/controls",
      "model_module_version": "1.5.0",
      "model_name": "TextareaModel",
      "state": {
       "description": "<=> WKT",
       "layout": "IPY_MODEL_fafb6d69b9064352bff8c44d5990550f",
       "style": "IPY_MODEL_333461931755440992f7458d12210394",
       "value": "GEOGCS[\"WGS 84\",DATUM[\"WGS_1984\",SPHEROID[\"WGS 84\",6378137,298.257223563,AUTHORITY[\"EPSG\",\"7030\"]],AUTHORITY[\"EPSG\",\"6326\"]],PRIMEM[\"Greenwich\",0,AUTHORITY[\"EPSG\",\"8901\"]],UNIT[\"degree\",0.0174532925199433,AUTHORITY[\"EPSG\",\"9122\"]],AXIS[\"Latitude\",NORTH],AXIS[\"Longitude\",EAST],AUTHORITY[\"EPSG\",\"4326\"]]"
      }
     },
     "f29fb5b03e0443aebd2f9919e6a23dba": {
      "model_module": "@jupyter-widgets/controls",
      "model_module_version": "1.5.0",
      "model_name": "HTMLModel",
      "state": {
       "layout": "IPY_MODEL_813af04f0104495bad0b87cfd94955ad",
       "style": "IPY_MODEL_e9256f88165941db99487634567f39a4"
      }
     },
     "f2bad10e5c3741138d06486c2e6796a2": {
      "model_module": "@jupyter-widgets/controls",
      "model_module_version": "1.5.0",
      "model_name": "DescriptionStyleModel",
      "state": {
       "description_width": "initial"
      }
     },
     "f32d45172ac545ec91c75628f316ff9c": {
      "model_module": "@jupyter-widgets/controls",
      "model_module_version": "1.5.0",
      "model_name": "ButtonModel",
      "state": {
       "description": "Change",
       "layout": "IPY_MODEL_2f0c7352d53b48aea9e1afa9295a53b1",
       "style": "IPY_MODEL_83eaade113dc4bcaa0fff91b3a9ba178"
      }
     },
     "f3502b3296b64bf79f0469780e4aae38": {
      "model_module": "@jupyter-widgets/controls",
      "model_module_version": "1.5.0",
      "model_name": "VBoxModel",
      "state": {
       "children": [
        "IPY_MODEL_ab3c1e34dcf543efa0b5020071cd345a",
        "IPY_MODEL_649382d619954979b77de20a3594025e"
       ],
       "layout": "IPY_MODEL_a8a1e3475e0d4961a5ce99cea59bbe86"
      }
     },
     "f38453a047fe4cf0bf1a97f2ca176933": {
      "model_module": "@jupyter-widgets/controls",
      "model_module_version": "1.5.0",
      "model_name": "DescriptionStyleModel",
      "state": {
       "description_width": ""
      }
     },
     "f39dcc13de5347908416f62ef4bca348": {
      "model_module": "@jupyter-widgets/controls",
      "model_module_version": "1.5.0",
      "model_name": "ButtonModel",
      "state": {
       "description": "Cancel",
       "layout": "IPY_MODEL_0e7a4773c1174aef823bb30a025a0279",
       "style": "IPY_MODEL_912b801c35734261a1fa5aec0a3b8757"
      }
     },
     "f426b437c85547bb98b7df2a453bbde2": {
      "model_module": "@jupyter-widgets/controls",
      "model_module_version": "1.5.0",
      "model_name": "DescriptionStyleModel",
      "state": {
       "description_width": "initial"
      }
     },
     "f457dc8822bd4d7996591b3e3f422f62": {
      "model_module": "@jupyter-widgets/base",
      "model_module_version": "1.2.0",
      "model_name": "LayoutModel",
      "state": {
       "grid_area": "filename",
       "width": "auto"
      }
     },
     "f45fb05fa03a41d78985e03c7fa447e5": {
      "model_module": "@jupyter-widgets/base",
      "model_module_version": "1.2.0",
      "model_name": "LayoutModel",
      "state": {
       "width": "auto"
      }
     },
     "f46a3418c9ed415490822729a874090d": {
      "model_module": "@jupyter-widgets/base",
      "model_module_version": "1.2.0",
      "model_name": "LayoutModel",
      "state": {}
     },
     "f4f808c759594111b5566379793b6689": {
      "model_module": "@jupyter-widgets/base",
      "model_module_version": "1.2.0",
      "model_name": "LayoutModel",
      "state": {}
     },
     "f57f3c1b6b1b40eea84007909f9fcb2c": {
      "model_module": "@jupyter-widgets/controls",
      "model_module_version": "1.5.0",
      "model_name": "DescriptionStyleModel",
      "state": {
       "description_width": ""
      }
     },
     "f5914e76a03d47df9594c6ae3de4d9b3": {
      "model_module": "@jupyter-widgets/controls",
      "model_module_version": "1.5.0",
      "model_name": "DescriptionStyleModel",
      "state": {
       "description_width": ""
      }
     },
     "f5b3a32a129a4e268ae2d28898c2d6c5": {
      "model_module": "@jupyter-widgets/base",
      "model_module_version": "1.2.0",
      "model_name": "LayoutModel",
      "state": {
       "width": "auto"
      }
     },
     "f5caa7610a5343b5b4b88240bb9ae50e": {
      "model_module": "@jupyter-widgets/controls",
      "model_module_version": "1.5.0",
      "model_name": "DescriptionStyleModel",
      "state": {
       "description_width": ""
      }
     },
     "f5e68256d4a4428292bf0d52e8d84d4f": {
      "model_module": "@jupyter-widgets/controls",
      "model_module_version": "1.5.0",
      "model_name": "DescriptionStyleModel",
      "state": {
       "description_width": ""
      }
     },
     "f677a1b4e471433796741f1df7fb8455": {
      "model_module": "@jupyter-widgets/base",
      "model_module_version": "1.2.0",
      "model_name": "LayoutModel",
      "state": {
       "width": "auto"
      }
     },
     "f68e6155739a49a594d91c01f3135252": {
      "model_module": "@jupyter-widgets/base",
      "model_module_version": "1.2.0",
      "model_name": "LayoutModel",
      "state": {
       "overflow": "auto"
      }
     },
     "f6b3bbd921e9419ebcd36ee71c2a4176": {
      "model_module": "@jupyter-widgets/controls",
      "model_module_version": "1.5.0",
      "model_name": "DescriptionStyleModel",
      "state": {
       "description_width": ""
      }
     },
     "f7047127d92c4f4db1939d2225f28286": {
      "model_module": "@jupyter-widgets/base",
      "model_module_version": "1.2.0",
      "model_name": "LayoutModel",
      "state": {}
     },
     "f7488591ff1444229d3baf15cdf82e8a": {
      "model_module": "@jupyter-widgets/base",
      "model_module_version": "1.2.0",
      "model_name": "LayoutModel",
      "state": {}
     },
     "f79b79a7d94a489ab4467ed462c545c0": {
      "model_module": "@jupyter-widgets/controls",
      "model_module_version": "1.5.0",
      "model_name": "SelectModel",
      "state": {
       "_options_labels": [
        "..",
        "dask-worker-space",
        "images"
       ],
       "index": null,
       "layout": "IPY_MODEL_e729ed179935402b88978e28bb2a2f6a",
       "rows": 8,
       "style": "IPY_MODEL_ab3c12f497ba4915a216ccca80265295"
      }
     },
     "f7be4b4e862d48b6ae326d84a6ab11e3": {
      "model_module": "@jupyter-widgets/controls",
      "model_module_version": "1.5.0",
      "model_name": "DescriptionStyleModel",
      "state": {
       "description_width": ""
      }
     },
     "f885262673664e62bdfc0fff4b47e3fe": {
      "model_module": "@jupyter-widgets/controls",
      "model_module_version": "1.5.0",
      "model_name": "VBoxModel",
      "state": {
       "children": [
        "IPY_MODEL_e93fcd39d81f452da73a4d1f3dd9c4b0",
        "IPY_MODEL_d1ae510761f14e039cb2204d7bd13ae7",
        "IPY_MODEL_3c8909d372fe400d972f37055752def7"
       ],
       "layout": "IPY_MODEL_a6cd1d8786664e179ec86ed60ab00ff9"
      }
     },
     "f8870349486e49fd87ec74d2298677a0": {
      "model_module": "@jupyter-widgets/base",
      "model_module_version": "1.2.0",
      "model_name": "LayoutModel",
      "state": {}
     },
     "f8f40c163f4b442ca55d963dddc9a402": {
      "model_module": "@jupyter-widgets/controls",
      "model_module_version": "1.5.0",
      "model_name": "HBoxModel",
      "state": {
       "children": [
        "IPY_MODEL_cca9f12a21d34adeb2e01e93365e6818",
        "IPY_MODEL_9f05a482930048da98685c1040cdb7e1"
       ],
       "layout": "IPY_MODEL_47797889199e484eb68931f9ae042e8c"
      }
     },
     "f963314028764846b5ea11971b96f22a": {
      "model_module": "@jupyter-widgets/base",
      "model_module_version": "1.2.0",
      "model_name": "LayoutModel",
      "state": {}
     },
     "f9794bf8ef614951999f2dd4c1386437": {
      "model_module": "@jupyter-widgets/base",
      "model_module_version": "1.2.0",
      "model_name": "LayoutModel",
      "state": {
       "width": "50%"
      }
     },
     "f97dc4659f764dc98be867e91c44df91": {
      "model_module": "@jupyter-widgets/base",
      "model_module_version": "1.2.0",
      "model_name": "LayoutModel",
      "state": {}
     },
     "f9b7dcc108954da3b1c0f5266f587e56": {
      "model_module": "@jupyter-widgets/controls",
      "model_module_version": "1.5.0",
      "model_name": "DescriptionStyleModel",
      "state": {
       "description_width": ""
      }
     },
     "f9b95720f1824c139b3fa4a892a8d5bd": {
      "model_module": "@jupyter-widgets/controls",
      "model_module_version": "1.5.0",
      "model_name": "DescriptionStyleModel",
      "state": {
       "description_width": ""
      }
     },
     "f9fe738c244f43029f4ac66020a43bc9": {
      "model_module": "@jupyter-widgets/controls",
      "model_module_version": "1.5.0",
      "model_name": "DescriptionStyleModel",
      "state": {
       "description_width": "initial"
      }
     },
     "fa05da09902b4f00b40f187a08b9de33": {
      "model_module": "@jupyter-widgets/base",
      "model_module_version": "1.2.0",
      "model_name": "LayoutModel",
      "state": {
       "grid_area": "pathlist",
       "width": "auto"
      }
     },
     "fafb6d69b9064352bff8c44d5990550f": {
      "model_module": "@jupyter-widgets/base",
      "model_module_version": "1.2.0",
      "model_name": "LayoutModel",
      "state": {
       "width": "50%"
      }
     },
     "fb7be9d9014b4b92bd739fa76d8b5fa8": {
      "model_module": "@jupyter-widgets/base",
      "model_module_version": "1.2.0",
      "model_name": "LayoutModel",
      "state": {}
     },
     "fb88a17980de49c093487ed01aa18f5f": {
      "model_module": "@jupyter-widgets/controls",
      "model_module_version": "1.5.0",
      "model_name": "TextModel",
      "state": {
       "disabled": true,
       "layout": "IPY_MODEL_774ab5af7ccd4c6ca05de8ce78ab231c",
       "placeholder": "output filename",
       "style": "IPY_MODEL_83e2813d5943496cb7f04e3d1360b854"
      }
     },
     "fb97e51b7f3c4a5b9020c64eabd66c94": {
      "model_module": "@jupyter-widgets/controls",
      "model_module_version": "1.5.0",
      "model_name": "LabelModel",
      "state": {
       "layout": "IPY_MODEL_b9aaa10146194290a8bbfff8556a23ed",
       "style": "IPY_MODEL_6c4dc019f3194e37a16b75fc12c10dd2",
       "value": "Monitoring folder"
      }
     },
     "fbd91d7b3a5546f881a078c40f349c41": {
      "model_module": "@jupyter-widgets/controls",
      "model_module_version": "1.5.0",
      "model_name": "TextModel",
      "state": {
       "continuous_update": false,
       "description": "Input Projection:",
       "layout": "IPY_MODEL_5974198f87cc469dbdc1ad88e9378373",
       "style": "IPY_MODEL_2e56c44b54884efb9b1916904d66e78e",
       "value": "EPSG:26914"
      }
     },
     "fbd92ee6f996455b97c370c7ae294ade": {
      "model_module": "@jupyter-widgets/base",
      "model_module_version": "1.2.0",
      "model_name": "LayoutModel",
      "state": {}
     },
     "fc254f4c36ee4f6d9abc45b6db0d45ca": {
      "model_module": "@jupyter-widgets/controls",
      "model_module_version": "1.5.0",
      "model_name": "DescriptionStyleModel",
      "state": {
       "description_width": "initial"
      }
     },
     "fc2855f1ec0c43368669e52d35185bb1": {
      "model_module": "@jupyter-widgets/base",
      "model_module_version": "1.2.0",
      "model_name": "LayoutModel",
      "state": {}
     },
     "fc2b6418a80b4965aac0354ad135fbc1": {
      "model_module": "@jupyter-widgets/controls",
      "model_module_version": "1.5.0",
      "model_name": "VBoxModel",
      "state": {
       "children": [
        "IPY_MODEL_b88623855170429096d0d1e172432b85",
        "IPY_MODEL_90be8df0a5484c099dd0f0b5b4577ccb"
       ],
       "layout": "IPY_MODEL_fc2855f1ec0c43368669e52d35185bb1"
      }
     },
     "fc68b5400e2c4d62b3fd64f469fcc53d": {
      "model_module": "@jupyter-widgets/controls",
      "model_module_version": "1.5.0",
      "model_name": "DescriptionStyleModel",
      "state": {
       "description_width": ""
      }
     },
     "fc6a77be2c7840e4a66e70daae664970": {
      "model_module": "@jupyter-widgets/controls",
      "model_module_version": "1.5.0",
      "model_name": "VBoxModel",
      "state": {
       "children": [
        "IPY_MODEL_7dc773958dc04c60ab298b7e7244367f",
        "IPY_MODEL_dc0fd91802b3403caeb5424c25ce967a",
        "IPY_MODEL_a0ad52b992ba4dfca9147939740f2a32"
       ],
       "layout": "IPY_MODEL_4e6bb031b725472dbbce30b4f51b00ea"
      }
     },
     "fc7b7516ffdf441c9fe85a2f18d49343": {
      "model_module": "@jupyter-widgets/base",
      "model_module_version": "1.2.0",
      "model_name": "LayoutModel",
      "state": {}
     },
     "fc7da9631e5746c988c4e5526ae56e17": {
      "model_module": "@jupyter-widgets/base",
      "model_module_version": "1.2.0",
      "model_name": "LayoutModel",
      "state": {
       "display": "none",
       "width": "auto"
      }
     },
     "fc8c1089226e44c282b9fa999f499e65": {
      "model_module": "@jupyter-widgets/controls",
      "model_module_version": "1.5.0",
      "model_name": "SelectModel",
      "state": {
       "_options_labels": [
        "..",
        "SimPEG_PFInversion",
        "Temp",
        "FlinFlon.geoh5",
        "Gravity_Magnetics_drape60m_Airborne_Gxx.tif",
        "Gravity_Magnetics_drape60m_Airborne_Gxx_Colorbar.png",
        "Gravity_Magnetics_drape60m_Airborne_Gxx_RGB.txt",
        "MtDore_TMI.geoh5",
        "Octree_Mesh.json",
        "Octree_Mesh.ui.json",
        "Octree_Mesh_v2.json",
        "input.ui.geoh5",
        "input.ui.json",
        "options_tree.json",
        "test_no_root.py",
        "tester.ui.geoh5",
        "tester.ui.json"
       ],
       "index": 3,
       "layout": "IPY_MODEL_700d4be7e6e1436f8be60174fe5127ec",
       "rows": 8,
       "style": "IPY_MODEL_0758828279d64bce97eac62e4578a8e1"
      }
     },
     "fc971d6dffee40eeabe103f4df9e4551": {
      "model_module": "@jupyter-widgets/controls",
      "model_module_version": "1.5.0",
      "model_name": "CheckboxModel",
      "state": {
       "description": "Geoscience ANALYST Pro - Live link",
       "disabled": false,
       "indent": false,
       "layout": "IPY_MODEL_548b1930f42e4e09aaa55345ebece949",
       "style": "IPY_MODEL_18871eb40b9545a2966f67249884b2c2",
       "value": false
      }
     },
     "fcd20087ceff45c3b51a061943e52e40": {
      "model_module": "@jupyter-widgets/base",
      "model_module_version": "1.2.0",
      "model_name": "LayoutModel",
      "state": {}
     },
     "fd01a02bea124efc8d8d5addc9b4eb01": {
      "model_module": "@jupyter-widgets/base",
      "model_module_version": "1.2.0",
      "model_name": "LayoutModel",
      "state": {
       "grid_area": "pathlist",
       "width": "auto"
      }
     },
     "fd2a8a7307e14d1eb173d47b038a433f": {
      "model_module": "@jupyter-widgets/controls",
      "model_module_version": "1.5.0",
      "model_name": "DescriptionStyleModel",
      "state": {
       "description_width": ""
      }
     },
     "fd304ea6f3564b7fad25af49d25d5c1f": {
      "model_module": "@jupyter-widgets/base",
      "model_module_version": "1.2.0",
      "model_name": "LayoutModel",
      "state": {}
     },
     "fd31e0b8c4d1481396eb2b661cbd3e81": {
      "model_module": "@jupyter-widgets/controls",
      "model_module_version": "1.5.0",
      "model_name": "ButtonStyleModel",
      "state": {}
     },
     "fd58620876a844fd93799c95fece8d28": {
      "model_module": "@jupyter-widgets/controls",
      "model_module_version": "1.5.0",
      "model_name": "TextModel",
      "state": {
       "layout": "IPY_MODEL_9aeaeb9263974c3d943d2979fe48e296",
       "placeholder": "output filename",
       "style": "IPY_MODEL_de4a0cc0012946859e91737f73a764ee",
       "value": "FlinFlon.geoh5"
      }
     },
     "fd91664a35514a20b9d0f8df78a5041e": {
      "model_module": "@jupyter-widgets/controls",
      "model_module_version": "1.5.0",
      "model_name": "DescriptionStyleModel",
      "state": {
       "description_width": "initial"
      }
     },
     "fdb9044162bf491692be674c54dd4659": {
      "model_module": "@jupyter-widgets/controls",
      "model_module_version": "1.5.0",
      "model_name": "DescriptionStyleModel",
      "state": {
       "description_width": ""
      }
     },
     "fdba49382fb7487f910753513cbcd985": {
      "model_module": "@jupyter-widgets/base",
      "model_module_version": "1.2.0",
      "model_name": "LayoutModel",
      "state": {
       "display": "none",
       "min_width": "6em",
       "width": "6em"
      }
     },
     "fe0fa13d7b974da582c862401a94a4f3": {
      "model_module": "@jupyter-widgets/controls",
      "model_module_version": "1.5.0",
      "model_name": "HTMLModel",
      "state": {
       "layout": "IPY_MODEL_c483312ab95448b1b8a526de416aa059",
       "placeholder": "",
       "style": "IPY_MODEL_861c4e1203f649d4ba711982b8e484d7",
       "value": "<span style=\"color:orange;\">C:\\Users\\dominiquef\\Documents\\GIT\\mira\\geoapps\\assets\\FlinFlon.geoh5</span>"
      }
     },
     "fe1481a9a1324a169542aaa1d0a54878": {
      "model_module": "@jupyter-widgets/controls",
      "model_module_version": "1.5.0",
      "model_name": "VBoxModel",
      "state": {
       "children": [
        "IPY_MODEL_72a8afb3fe7448829619e227b112e436",
        "IPY_MODEL_d02dc78f8c4541388897425d203643bd",
        "IPY_MODEL_e05735bb238249d28317475430dc328b",
        "IPY_MODEL_44e4178bca724a859b5aaf5ee6c6a8ee",
        "IPY_MODEL_86e5beaee3304235bd5d93a080733d23"
       ],
       "layout": "IPY_MODEL_e8a5c0fd35dc46b387f756bb9068020a"
      }
     },
     "fe2268ab9a524c169f871229dfdc0531": {
      "model_module": "@jupyter-widgets/controls",
      "model_module_version": "1.5.0",
      "model_name": "ButtonModel",
      "state": {
       "button_style": "danger",
       "description": "Compute",
       "icon": "check",
       "layout": "IPY_MODEL_86f2048886d64c05a4c577991c8c05a8",
       "style": "IPY_MODEL_d0876d1e25e14702b558cf6fcd639b41",
       "tooltip": "Run computation"
      }
     },
     "fe22e125b53e4b0dbf85bdb5fbb28de5": {
      "model_module": "@jupyter-widgets/controls",
      "model_module_version": "1.5.0",
      "model_name": "ButtonModel",
      "state": {
       "description": "Change",
       "layout": "IPY_MODEL_7f332002879542b6ba65f34b08daaf4c",
       "style": "IPY_MODEL_791a8558ad3d44d5a890d6c372d521c4"
      }
     },
     "fe397b93c0a049e2afce91a32d19118b": {
      "model_module": "@jupyter-widgets/controls",
      "model_module_version": "1.5.0",
      "model_name": "ToggleButtonModel",
      "state": {
       "layout": "IPY_MODEL_3d7f5b2f241c48fd95d0d9453d3165ee",
       "style": "IPY_MODEL_a746bb5db69244fe8f16c014884b91a6"
      }
     },
     "fe4742ae3191426faec09c6cd779327c": {
      "model_module": "@jupyter-widgets/base",
      "model_module_version": "1.2.0",
      "model_name": "LayoutModel",
      "state": {
       "display": "none"
      }
     },
     "fe561b734f4c409db865af63c6ac6718": {
      "model_module": "@jupyter-widgets/controls",
      "model_module_version": "1.5.0",
      "model_name": "DescriptionStyleModel",
      "state": {
       "description_width": ""
      }
     },
     "fe942be03aea48b99b288488d0f139b8": {
      "model_module": "@jupyter-widgets/base",
      "model_module_version": "1.2.0",
      "model_name": "LayoutModel",
      "state": {
       "width": "auto"
      }
     },
     "febed79946b34e05b9c25d3c02700d9f": {
      "model_module": "@jupyter-widgets/controls",
      "model_module_version": "1.5.0",
      "model_name": "ButtonModel",
      "state": {
       "description": "Select",
       "layout": "IPY_MODEL_11167b82f6df4b049cd112ee6b057e23",
       "style": "IPY_MODEL_5eb70b77042e4cb8b64837164830d994"
      }
     },
     "fecd050a56404cfe84bd8e2b8b4abec2": {
      "model_module": "@jupyter-widgets/base",
      "model_module_version": "1.2.0",
      "model_name": "LayoutModel",
      "state": {}
     },
     "feee350733f741bea00ba09e395794a7": {
      "model_module": "@jupyter-widgets/base",
      "model_module_version": "1.2.0",
      "model_name": "LayoutModel",
      "state": {
       "display": "none",
       "width": "auto"
      }
     },
     "fef4c64790a34969806f6fe231370956": {
      "model_module": "@jupyter-widgets/controls",
      "model_module_version": "1.5.0",
      "model_name": "DescriptionStyleModel",
      "state": {
       "description_width": ""
      }
     },
     "ff159e3e4fcb429e9a0f1df39a54ae9f": {
      "model_module": "@jupyter-widgets/controls",
      "model_module_version": "1.5.0",
      "model_name": "VBoxModel",
      "state": {
       "children": [
        "IPY_MODEL_ace27b3606f6433cb5aea76b9308ab34",
        "IPY_MODEL_cd2acbc2f0f14a028e78dfc5237e5ca6"
       ],
       "layout": "IPY_MODEL_bb70e798e26546668e737f147529280a"
      }
     },
     "ff3fcca57a6f45a5a7cd5b747a1a1cbe": {
      "model_module": "@jupyter-widgets/base",
      "model_module_version": "1.2.0",
      "model_name": "LayoutModel",
      "state": {
       "width": "auto"
      }
     },
     "ff6d71d27a064a819ddd7218790166a0": {
      "model_module": "@jupyter-widgets/controls",
      "model_module_version": "1.5.0",
      "model_name": "DescriptionStyleModel",
      "state": {
       "description_width": ""
      }
     },
     "ff6d8bf19118482c95072ba1652a3455": {
      "model_module": "@jupyter-widgets/controls",
      "model_module_version": "1.5.0",
      "model_name": "ButtonStyleModel",
      "state": {}
     },
     "ff6f44ef427b45ea8d4dee9ee3a2e56c": {
      "model_module": "@jupyter-widgets/controls",
      "model_module_version": "1.5.0",
      "model_name": "ButtonStyleModel",
      "state": {}
     },
     "ff8fb9b731c14fe3919c2f7c36468957": {
      "model_module": "@jupyter-widgets/base",
      "model_module_version": "1.2.0",
      "model_name": "LayoutModel",
      "state": {}
     }
    },
    "version_major": 2,
    "version_minor": 0
   }
  }
 },
 "nbformat": 4,
 "nbformat_minor": 5
}

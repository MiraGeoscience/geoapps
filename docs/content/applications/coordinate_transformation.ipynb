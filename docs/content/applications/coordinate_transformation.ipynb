{
 "cells": [
  {
   "cell_type": "markdown",
   "id": "first-horizontal",
   "metadata": {},
   "source": [
    "# Coordinate System Transformation\n",
    "\n",
    "This application lets users change the coordinate system of objects using EPSG, ESRI and/or Well-Known-Text (WKT) strings.\n",
    "The application relies on open-source libraries supported by the [GeoPandas](https://geopandas.org/) project. \n",
    "\n",
    "  <img align=\"right\" width=\"50%\" src=\"./images/coordinate_transform_thumbnail.png\">\n",
    "\n",
    "\n",
    "New user? Visit the [Getting Started](../installation.rst) page."
   ]
  },
  {
   "cell_type": "markdown",
   "id": "alive-ribbon",
   "metadata": {},
   "source": [
    "## Application\n",
    "The following sections provide details on the different parameters controling the application. Interactive widgets shown below are for demonstration purposes only."
   ]
  },
  {
   "cell_type": "code",
   "execution_count": 1,
   "id": "computational-arrest",
   "metadata": {
    "scrolled": false
   },
   "outputs": [
    {
     "data": {
      "application/vnd.jupyter.widget-view+json": {
       "model_id": "7a158d50e53c433a8b0241de8ad34bcd",
       "version_major": 2,
       "version_minor": 0
      },
      "text/plain": [
       "VBox(children=(VBox(children=(Label(value='Workspace', style=DescriptionStyle(description_width='initial')), H…"
      ]
     },
     "metadata": {},
     "output_type": "display_data"
    }
   ],
   "source": [
    "from geoapps.processing import CoordinateTransformation\n",
    "\n",
    "app = CoordinateTransformation(h5file=r\"../../../assets/FlinFlon.geoh5\")\n",
    "app.main"
   ]
  },
  {
   "cell_type": "markdown",
   "id": "unable-staff",
   "metadata": {},
   "source": [
    "## Project Selection\n",
    "\n",
    "Select and connect to an existing **geoh5** project file containing data. "
   ]
  },
  {
   "cell_type": "code",
   "execution_count": 2,
   "id": "metallic-condition",
   "metadata": {},
   "outputs": [
    {
     "data": {
      "application/vnd.jupyter.widget-view+json": {
       "model_id": "678388045f024e71bfb5ccd416e94ef0",
       "version_major": 2,
       "version_minor": 0
      },
      "text/plain": [
       "VBox(children=(Label(value='Workspace', style=DescriptionStyle(description_width='initial')), HBox(children=(F…"
      ]
     },
     "metadata": {},
     "output_type": "display_data"
    }
   ],
   "source": [
    "app.project_panel"
   ]
  },
  {
   "cell_type": "markdown",
   "id": "excessive-competition",
   "metadata": {},
   "source": [
    "See the [Project Panel](base_application.ipynb#Project-Panel) page for more details."
   ]
  },
  {
   "cell_type": "markdown",
   "id": "handmade-lender",
   "metadata": {},
   "source": [
    "## Object Selection\n",
    "\n",
    "List of objects available. Currently supports objects of type `Points`, `Curve`, `Surface` and `Grid2D` "
   ]
  },
  {
   "cell_type": "code",
   "execution_count": 3,
   "id": "promising-theme",
   "metadata": {
    "scrolled": true
   },
   "outputs": [
    {
     "data": {
      "application/vnd.jupyter.widget-view+json": {
       "model_id": "c925b12f8ac44f0b9fc079b0753e91c9",
       "version_major": 2,
       "version_minor": 0
      },
      "text/plain": [
       "SelectMultiple(description='Object:', index=(66, 72), options=('', 'fault_splay1', 'fault_Cliff_Lake', 'fault_…"
      ]
     },
     "metadata": {},
     "output_type": "display_data"
    }
   ],
   "source": [
    "app.objects"
   ]
  },
  {
   "cell_type": "markdown",
   "id": "rental-narrative",
   "metadata": {},
   "source": [
    "## Input Projection\n",
    "\n",
    "[EPSG](https://spatialreference.org/ref/epsg/), ESRI or WKT string describing the input object coordinate system. Entering a known EPSG or ESRI code will result in an update of the WKT string, and vice versa. \n",
    "\n",
    "**Note**: Only the WKT string is considered by the coordinate transformation routine. "
   ]
  },
  {
   "cell_type": "code",
   "execution_count": 4,
   "id": "fewer-tonight",
   "metadata": {},
   "outputs": [
    {
     "data": {
      "application/vnd.jupyter.widget-view+json": {
       "model_id": "3a85da08feb04325b97d885641c79e30",
       "version_major": 2,
       "version_minor": 0
      },
      "text/plain": [
       "HBox(children=(Text(value='EPSG:26914', continuous_update=False, description='Input Projection:', style=Descri…"
      ]
     },
     "metadata": {},
     "output_type": "display_data"
    }
   ],
   "source": [
    "app.input_projection"
   ]
  },
  {
   "cell_type": "markdown",
   "id": "immune-rebel",
   "metadata": {},
   "source": [
    "## Output Projection\n",
    "\n",
    "[EPSG](https://spatialreference.org/ref/epsg/), ESRI or WKT string describing the target coordinate system."
   ]
  },
  {
   "cell_type": "code",
   "execution_count": 5,
   "id": "public-egyptian",
   "metadata": {},
   "outputs": [
    {
     "data": {
      "application/vnd.jupyter.widget-view+json": {
       "model_id": "a1614949d3524a45a49087c4bb69fdfd",
       "version_major": 2,
       "version_minor": 0
      },
      "text/plain": [
       "HBox(children=(Text(value='EPSG:4326', continuous_update=False, description='Output Projection:', style=Descri…"
      ]
     },
     "metadata": {},
     "output_type": "display_data"
    }
   ],
   "source": [
    "app.output_projection"
   ]
  },
  {
   "cell_type": "markdown",
   "id": "prescribed-three",
   "metadata": {},
   "source": [
    "## Output Panel\n",
    "\n",
    "Trigger the computation routine and store the result."
   ]
  },
  {
   "cell_type": "code",
   "execution_count": 6,
   "id": "associate-buying",
   "metadata": {
    "scrolled": true
   },
   "outputs": [
    {
     "data": {
      "application/vnd.jupyter.widget-view+json": {
       "model_id": "a438644517114589b3e55d2e20ac5b6b",
       "version_major": 2,
       "version_minor": 0
      },
      "text/plain": [
       "VBox(children=(VBox(children=(Button(button_style='danger', description='Compute', icon='check', style=ButtonS…"
      ]
     },
     "metadata": {},
     "output_type": "display_data"
    }
   ],
   "source": [
    "app.output_panel"
   ]
  },
  {
   "cell_type": "markdown",
   "id": "radical-marijuana",
   "metadata": {},
   "source": [
    "See the [Output Panel](base_application.ipynb#Output-Panel) page for more details."
   ]
  },
  {
   "cell_type": "markdown",
   "id": "worse-bottle",
   "metadata": {},
   "source": [
    "Need help? Contact us at support@mirageoscience.com"
   ]
  },
  {
   "cell_type": "code",
   "execution_count": 7,
   "id": "orange-patrol",
   "metadata": {
    "nbsphinx": "hidden"
   },
   "outputs": [
    {
     "data": {
      "image/png": "[encoded data removed]",
      "text/plain": [
       "<Figure size 864x576 with 2 Axes>"
      ]
     },
     "metadata": {
      "needs_background": "light"
     },
     "output_type": "display_data"
    }
   ],
   "source": [
    "import matplotlib.pyplot as plt\n",
    "app.plot_result = True\n",
    "app.trigger.click()\n",
    "app.figure.savefig(\"images/coordinate_transform_thumbnail.png\", dpi=300, bbox_inches=\"tight\")"
   ]
  }
 ],
 "metadata": {
  "kernelspec": {
   "display_name": "Python 3",
   "language": "python",
   "name": "python3"
  },
  "language_info": {
   "codemirror_mode": {
    "name": "ipython",
    "version": 3
   },
   "file_extension": ".py",
   "mimetype": "text/x-python",
   "name": "python",
   "nbconvert_exporter": "python",
   "pygments_lexer": "ipython3",
   "version": "3.7.10"
  },
  "widgets": {
   "application/vnd.jupyter.widget-state+json": {
    "state": {
     "05652551ac7b463e98695b316b1400dc": {
      "model_module": "@jupyter-widgets/controls",
      "model_module_version": "1.5.0",
      "model_name": "ButtonModel",
      "state": {
       "description": "Create copy:",
       "layout": "IPY_MODEL_9e39e8f0ac1a45b39cc0a89b0941ce20",
       "style": "IPY_MODEL_c186bba3052442038431d45731bf5c61"
      }
     },
     "0812eac65cf34d37bc9e6b32b7a2abd6": {
      "model_module": "@jupyter-widgets/controls",
      "model_module_version": "1.5.0",
      "model_name": "TextModel",
      "state": {
       "layout": "IPY_MODEL_f457dc8822bd4d7996591b3e3f422f62",
       "placeholder": "output filename",
       "style": "IPY_MODEL_c578365c6adf47589975ae6f1b84f8a2",
       "value": "FlinFlon.geoh5"
      }
     },
     "0b55a3d8418f409a922f29f8a68ea62d": {
      "model_module": "@jupyter-widgets/base",
      "model_module_version": "1.2.0",
      "model_name": "LayoutModel",
      "state": {
       "grid_area": "dircontent",
       "width": "auto"
      }
     },
     "0f962899c32a40a6abeeb89854f318c9": {
      "model_module": "@jupyter-widgets/base",
      "model_module_version": "1.2.0",
      "model_name": "LayoutModel",
      "state": {
       "width": "auto"
      }
     },
     "148c06f07f9b40da9f0e6301680c0d69": {
      "model_module": "@jupyter-widgets/controls",
      "model_module_version": "1.5.0",
      "model_name": "TextModel",
      "state": {
       "disabled": true,
       "layout": "IPY_MODEL_ef4d658ec7fe45b584fc637ef531742a",
       "placeholder": "output filename",
       "style": "IPY_MODEL_8bef621d5c80438f9c5fe2346fc1d1da"
      }
     },
     "15a223cf09ee4e1585de2bcf750f8f55": {
      "model_module": "@jupyter-widgets/controls",
      "model_module_version": "1.5.0",
      "model_name": "HTMLModel",
      "state": {
       "layout": "IPY_MODEL_5c9d5b33950b48e4bc8d0aabe2b4b877",
       "style": "IPY_MODEL_7f14bb9c1f714ba3bb4ea694c8083757"
      }
     },
     "17a6d3cc3f97415ca0e9621e1e7862fe": {
      "model_module": "@jupyter-widgets/controls",
      "model_module_version": "1.5.0",
      "model_name": "HBoxModel",
      "state": {
       "children": [
        "IPY_MODEL_b0e1a2a9d7414ac7a3ed80b64802aac2",
        "IPY_MODEL_05652551ac7b463e98695b316b1400dc"
       ],
       "layout": "IPY_MODEL_ccdc331a89ce42a18898fe00c908037b"
      }
     },
     "18136e4c4ef74ed8bcff2bb0119c3e8e": {
      "model_module": "@jupyter-widgets/base",
      "model_module_version": "1.2.0",
      "model_name": "LayoutModel",
      "state": {}
     },
     "18f1acd715ca4334a0a8ed07309b2757": {
      "model_module": "@jupyter-widgets/base",
      "model_module_version": "1.2.0",
      "model_name": "LayoutModel",
      "state": {}
     },
     "19841dd5be8f454f9de0dc79c02128be": {
      "model_module": "@jupyter-widgets/controls",
      "model_module_version": "1.5.0",
      "model_name": "DescriptionStyleModel",
      "state": {
       "description_width": ""
      }
     },
     "1a5af0ad843b4a50a184205ecbd24f07": {
      "model_module": "@jupyter-widgets/base",
      "model_module_version": "1.2.0",
      "model_name": "LayoutModel",
      "state": {
       "display": "none",
       "width": "auto"
      }
     },
     "1d22a22c9dd2469aa705034d7413e744": {
      "model_module": "@jupyter-widgets/base",
      "model_module_version": "1.2.0",
      "model_name": "LayoutModel",
      "state": {
       "grid_area": "pathlist",
       "width": "auto"
      }
     },
     "21058900b090449a882fe48ceda1ac6c": {
      "model_module": "@jupyter-widgets/base",
      "model_module_version": "1.2.0",
      "model_name": "LayoutModel",
      "state": {}
     },
     "22c33294e6cb4f1384180f1b1b5f2d21": {
      "model_module": "@jupyter-widgets/base",
      "model_module_version": "1.2.0",
      "model_name": "LayoutModel",
      "state": {
       "display": "none",
       "grid_gap": "0px 0px",
       "grid_template_areas": "\n                    'pathlist filename'\n                    'dircontent dircontent'\n                    ",
       "grid_template_columns": "60% 40%",
       "grid_template_rows": "auto auto",
       "width": "500px"
      }
     },
     "23815d8940594198a624f7edb6cb8438": {
      "model_module": "@jupyter-widgets/base",
      "model_module_version": "1.2.0",
      "model_name": "LayoutModel",
      "state": {
       "width": "auto"
      }
     },
     "238e682b855541aebd5888a32700680b": {
      "model_module": "@jupyter-widgets/controls",
      "model_module_version": "1.5.0",
      "model_name": "GridBoxModel",
      "state": {
       "children": [
        "IPY_MODEL_6af3f88544ca49d08857f09a92e04e0a",
        "IPY_MODEL_148c06f07f9b40da9f0e6301680c0d69",
        "IPY_MODEL_c51da2737c804b0f8650f36e320cbd73"
       ],
       "layout": "IPY_MODEL_3335221da7c9493391313413e55648bc"
      }
     },
     "24dc95ba80104459a2abd7e8f7806a01": {
      "model_module": "@jupyter-widgets/base",
      "model_module_version": "1.2.0",
      "model_name": "LayoutModel",
      "state": {}
     },
     "2dab37360ab143e393dde6bbe3675584": {
      "model_module": "@jupyter-widgets/controls",
      "model_module_version": "1.5.0",
      "model_name": "DescriptionStyleModel",
      "state": {
       "description_width": "initial"
      }
     },
     "2dd4b1224cfd4ae7bfd844862a8601f5": {
      "model_module": "@jupyter-widgets/base",
      "model_module_version": "1.2.0",
      "model_name": "LayoutModel",
      "state": {
       "display": "none"
      }
     },
     "2f573c64e22f457cba706ec3b715c8d4": {
      "model_module": "@jupyter-widgets/controls",
      "model_module_version": "1.5.0",
      "model_name": "DescriptionStyleModel",
      "state": {
       "description_width": ""
      }
     },
     "333461931755440992f7458d12210394": {
      "model_module": "@jupyter-widgets/controls",
      "model_module_version": "1.5.0",
      "model_name": "DescriptionStyleModel",
      "state": {
       "description_width": ""
      }
     },
     "3335221da7c9493391313413e55648bc": {
      "model_module": "@jupyter-widgets/base",
      "model_module_version": "1.2.0",
      "model_name": "LayoutModel",
      "state": {
       "display": "none",
       "grid_gap": "0px 0px",
       "grid_template_areas": "\n                    'pathlist pathlist'\n                    'dircontent dircontent'\n                    ",
       "grid_template_columns": "60% 40%",
       "grid_template_rows": "auto auto",
       "width": "500px"
      }
     },
     "34374db756c149f6ba477822897d2fea": {
      "model_module": "@jupyter-widgets/controls",
      "model_module_version": "1.5.0",
      "model_name": "GridBoxModel",
      "state": {
       "children": [
        "IPY_MODEL_b22bee4ea0214322b51aa40658b79c04",
        "IPY_MODEL_0812eac65cf34d37bc9e6b32b7a2abd6",
        "IPY_MODEL_d0abd31c947f4e57b4db964d08e7afd5"
       ],
       "layout": "IPY_MODEL_22c33294e6cb4f1384180f1b1b5f2d21"
      }
     },
     "38013ee9648b43549bbcbb6afe6f79ba": {
      "model_module": "@jupyter-widgets/controls",
      "model_module_version": "1.5.0",
      "model_name": "ToggleButtonModel",
      "state": {
       "layout": "IPY_MODEL_cee66ccb19904172b3dc630eff941368",
       "style": "IPY_MODEL_9ed1d99badbe48e8a28448ae5c250ec4"
      }
     },
     "396f46bc8a384af3a22a57fbe503ab2a": {
      "model_module": "@jupyter-widgets/base",
      "model_module_version": "1.2.0",
      "model_name": "LayoutModel",
      "state": {}
     },
     "3a85da08feb04325b97d885641c79e30": {
      "model_module": "@jupyter-widgets/controls",
      "model_module_version": "1.5.0",
      "model_name": "HBoxModel",
      "state": {
       "children": [
        "IPY_MODEL_e4d2fd942ec9481a91a9316251021e0a",
        "IPY_MODEL_3d1f908da7dd4de49a6938c018471e12"
       ],
       "layout": "IPY_MODEL_48f475740fca447697e81a94089624e5"
      }
     },
     "3d1f908da7dd4de49a6938c018471e12": {
      "model_module": "@jupyter-widgets/controls",
      "model_module_version": "1.5.0",
      "model_name": "TextareaModel",
      "state": {
       "description": "<=> WKT",
       "layout": "IPY_MODEL_9840218bd0dc4cc6bef85bc2dd64ddce",
       "style": "IPY_MODEL_d9fbb1b44c2e456eba79595f3eac35d4",
       "value": "PROJCS[\"NAD83 / UTM zone 14N\",GEOGCS[\"NAD83\",DATUM[\"North_American_Datum_1983\",SPHEROID[\"GRS 1980\",6378137,298.257222101,AUTHORITY[\"EPSG\",\"7019\"]],AUTHORITY[\"EPSG\",\"6269\"]],PRIMEM[\"Greenwich\",0,AUTHORITY[\"EPSG\",\"8901\"]],UNIT[\"degree\",0.0174532925199433,AUTHORITY[\"EPSG\",\"9122\"]],AUTHORITY[\"EPSG\",\"4269\"]],PROJECTION[\"Transverse_Mercator\"],PARAMETER[\"latitude_of_origin\",0],PARAMETER[\"central_meridian\",-99],PARAMETER[\"scale_factor\",0.9996],PARAMETER[\"false_easting\",500000],PARAMETER[\"false_northing\",0],UNIT[\"metre\",1,AUTHORITY[\"EPSG\",\"9001\"]],AXIS[\"Easting\",EAST],AXIS[\"Northing\",NORTH],AUTHORITY[\"EPSG\",\"26914\"]]"
      }
     },
     "3ef82dc1c08b47b0b3e8ae1523472419": {
      "model_module": "@jupyter-widgets/base",
      "model_module_version": "1.2.0",
      "model_name": "LayoutModel",
      "state": {}
     },
     "45fd83bae49b4c58aa7d824bdc82570d": {
      "model_module": "@jupyter-widgets/controls",
      "model_module_version": "1.5.0",
      "model_name": "ButtonStyleModel",
      "state": {}
     },
     "48647ee5b3b64287b686d9d2b2170b54": {
      "model_module": "@jupyter-widgets/controls",
      "model_module_version": "1.5.0",
      "model_name": "HBoxModel",
      "state": {
       "children": [
        "IPY_MODEL_90e7830d706344ca9d9303e687b9a31b",
        "IPY_MODEL_91870fe89f804482abafac44dcbf6778",
        "IPY_MODEL_c46af7523b294cafa3de2bafbb90dc6f"
       ],
       "layout": "IPY_MODEL_23815d8940594198a624f7edb6cb8438"
      }
     },
     "48f475740fca447697e81a94089624e5": {
      "model_module": "@jupyter-widgets/base",
      "model_module_version": "1.2.0",
      "model_name": "LayoutModel",
      "state": {}
     },
     "4bb36d8a0c3e426d80a2a56b27e60b80": {
      "model_module": "@jupyter-widgets/base",
      "model_module_version": "1.2.0",
      "model_name": "LayoutModel",
      "state": {
       "display": "none",
       "width": "auto"
      }
     },
     "5154af184f50482491ced6db7dcb5597": {
      "model_module": "@jupyter-widgets/base",
      "model_module_version": "1.2.0",
      "model_name": "LayoutModel",
      "state": {}
     },
     "526bb7143eb74141b88593053cf8b0da": {
      "model_module": "@jupyter-widgets/base",
      "model_module_version": "1.2.0",
      "model_name": "LayoutModel",
      "state": {
       "width": "auto"
      }
     },
     "54c4f869d8c74cf8a6084ee8c496535e": {
      "model_module": "@jupyter-widgets/controls",
      "model_module_version": "1.5.0",
      "model_name": "CheckboxModel",
      "state": {
       "description": "GA Pro - Live link",
       "disabled": false,
       "indent": false,
       "layout": "IPY_MODEL_f963314028764846b5ea11971b96f22a",
       "style": "IPY_MODEL_85e87f53c8b3496a8aa8c1695452b79f",
       "value": false
      }
     },
     "5616d4739e814348b2a1edfac87e7565": {
      "model_module": "@jupyter-widgets/base",
      "model_module_version": "1.2.0",
      "model_name": "LayoutModel",
      "state": {}
     },
     "5888b10f68a546a090667db83de26d86": {
      "model_module": "@jupyter-widgets/base",
      "model_module_version": "1.2.0",
      "model_name": "LayoutModel",
      "state": {
       "grid_area": "pathlist",
       "width": "auto"
      }
     },
     "5bbf7a00c3704f2c8d970d060a6beaf6": {
      "model_module": "@jupyter-widgets/base",
      "model_module_version": "1.2.0",
      "model_name": "LayoutModel",
      "state": {}
     },
     "5c9d5b33950b48e4bc8d0aabe2b4b877": {
      "model_module": "@jupyter-widgets/base",
      "model_module_version": "1.2.0",
      "model_name": "LayoutModel",
      "state": {
       "display": "none"
      }
     },
     "5f306112ffe646ccbce26a19e9519e39": {
      "model_module": "@jupyter-widgets/controls",
      "model_module_version": "1.5.0",
      "model_name": "DescriptionStyleModel",
      "state": {
       "description_width": "initial"
      }
     },
     "6085efb5e7584a29a8e5269b6f035db0": {
      "model_module": "@jupyter-widgets/controls",
      "model_module_version": "1.5.0",
      "model_name": "VBoxModel",
      "state": {
       "children": [
        "IPY_MODEL_a593e2dca1ba441fbf40b16927e5aa1b",
        "IPY_MODEL_238e682b855541aebd5888a32700680b",
        "IPY_MODEL_7c90f28c251d4abfa38ac1911f190890"
       ],
       "layout": "IPY_MODEL_526bb7143eb74141b88593053cf8b0da"
      }
     },
     "61ed0193657446d38ce8825b8f89208a": {
      "model_module": "@jupyter-widgets/controls",
      "model_module_version": "1.5.0",
      "model_name": "ButtonStyleModel",
      "state": {}
     },
     "62b9b1675f434a2cb2249991a4286f28": {
      "model_module": "@jupyter-widgets/controls",
      "model_module_version": "1.5.0",
      "model_name": "DescriptionStyleModel",
      "state": {
       "description_width": "initial"
      }
     },
     "678388045f024e71bfb5ccd416e94ef0": {
      "model_module": "@jupyter-widgets/controls",
      "model_module_version": "1.5.0",
      "model_name": "VBoxModel",
      "state": {
       "children": [
        "IPY_MODEL_c2597ef3a8ec42dcb6aead8a52adea0f",
        "IPY_MODEL_17a6d3cc3f97415ca0e9621e1e7862fe"
       ],
       "layout": "IPY_MODEL_21058900b090449a882fe48ceda1ac6c"
      }
     },
     "6af3f88544ca49d08857f09a92e04e0a": {
      "model_module": "@jupyter-widgets/controls",
      "model_module_version": "1.5.0",
      "model_name": "DropdownModel",
      "state": {
       "_options_labels": [
        "C:\\Users\\dominiquef\\Documents\\GIT\\mira\\mirageoscience-apps\\docs\\content\\applications",
        "C:\\Users\\dominiquef\\Documents\\GIT\\mira\\mirageoscience-apps\\docs\\content",
        "C:\\Users\\dominiquef\\Documents\\GIT\\mira\\mirageoscience-apps\\docs",
        "C:\\Users\\dominiquef\\Documents\\GIT\\mira\\mirageoscience-apps",
        "C:\\Users\\dominiquef\\Documents\\GIT\\mira",
        "C:\\Users\\dominiquef\\Documents\\GIT",
        "C:\\Users\\dominiquef\\Documents",
        "C:\\Users\\dominiquef",
        "C:\\Users",
        "C:\\",
        "D:\\",
        "Z:\\"
       ],
       "index": 0,
       "layout": "IPY_MODEL_1d22a22c9dd2469aa705034d7413e744",
       "style": "IPY_MODEL_c801831ec7034bacb1658ed4c63d5a0b"
      }
     },
     "6c4dc019f3194e37a16b75fc12c10dd2": {
      "model_module": "@jupyter-widgets/controls",
      "model_module_version": "1.5.0",
      "model_name": "DescriptionStyleModel",
      "state": {
       "description_width": "initial"
      }
     },
     "757db67f89504d0ca78edf50185f507a": {
      "model_module": "@jupyter-widgets/controls",
      "model_module_version": "1.5.0",
      "model_name": "ButtonStyleModel",
      "state": {}
     },
     "75e3791c1b4d437dbbe10179ff991b21": {
      "model_module": "@jupyter-widgets/controls",
      "model_module_version": "1.5.0",
      "model_name": "VBoxModel",
      "state": {
       "children": [
        "IPY_MODEL_fb97e51b7f3c4a5b9020c64eabd66c94",
        "IPY_MODEL_6085efb5e7584a29a8e5269b6f035db0"
       ],
       "layout": "IPY_MODEL_de5e755203254436ba218dc0b7409d38"
      }
     },
     "79b8072e63f8480e98b7fe8d55f96200": {
      "model_module": "@jupyter-widgets/controls",
      "model_module_version": "1.5.0",
      "model_name": "TextModel",
      "state": {
       "continuous_update": false,
       "description": "Output Projection:",
       "layout": "IPY_MODEL_396f46bc8a384af3a22a57fbe503ab2a",
       "style": "IPY_MODEL_a16fbfee701c45c4847f3d7c48961317",
       "value": "EPSG:4326"
      }
     },
     "7a082e78e8404a04ac31e924e1d09a22": {
      "model_module": "@jupyter-widgets/base",
      "model_module_version": "1.2.0",
      "model_name": "LayoutModel",
      "state": {}
     },
     "7a158d50e53c433a8b0241de8ad34bcd": {
      "model_module": "@jupyter-widgets/controls",
      "model_module_version": "1.5.0",
      "model_name": "VBoxModel",
      "state": {
       "children": [
        "IPY_MODEL_678388045f024e71bfb5ccd416e94ef0",
        "IPY_MODEL_c925b12f8ac44f0b9fc079b0753e91c9",
        "IPY_MODEL_3a85da08feb04325b97d885641c79e30",
        "IPY_MODEL_a1614949d3524a45a49087c4bb69fdfd",
        "IPY_MODEL_a438644517114589b3e55d2e20ac5b6b"
       ],
       "layout": "IPY_MODEL_18f1acd715ca4334a0a8ed07309b2757"
      }
     },
     "7ab6293266a541bcb6d7aa5552120083": {
      "model_module": "@jupyter-widgets/controls",
      "model_module_version": "1.5.0",
      "model_name": "DescriptionStyleModel",
      "state": {
       "description_width": "initial"
      }
     },
     "7c90f28c251d4abfa38ac1911f190890": {
      "model_module": "@jupyter-widgets/controls",
      "model_module_version": "1.5.0",
      "model_name": "HBoxModel",
      "state": {
       "children": [
        "IPY_MODEL_ce95ddcd40aa4d969a390d7862832bb1",
        "IPY_MODEL_ec7768cd033e4b4295bcca766f3c6b54",
        "IPY_MODEL_ef4874e20e6c42728c157327a7a30c34"
       ],
       "layout": "IPY_MODEL_0f962899c32a40a6abeeb89854f318c9"
      }
     },
     "7f14bb9c1f714ba3bb4ea694c8083757": {
      "model_module": "@jupyter-widgets/controls",
      "model_module_version": "1.5.0",
      "model_name": "DescriptionStyleModel",
      "state": {
       "description_width": ""
      }
     },
     "830ffc4c4d6c40b295000006c3d78c0e": {
      "model_module": "@jupyter-widgets/controls",
      "model_module_version": "1.5.0",
      "model_name": "ButtonStyleModel",
      "state": {}
     },
     "85e87f53c8b3496a8aa8c1695452b79f": {
      "model_module": "@jupyter-widgets/controls",
      "model_module_version": "1.5.0",
      "model_name": "DescriptionStyleModel",
      "state": {
       "description_width": "initial"
      }
     },
     "892f9c2e217543f69d83b3e2109877f6": {
      "model_module": "@jupyter-widgets/controls",
      "model_module_version": "1.5.0",
      "model_name": "ButtonStyleModel",
      "state": {}
     },
     "8bef621d5c80438f9c5fe2346fc1d1da": {
      "model_module": "@jupyter-widgets/controls",
      "model_module_version": "1.5.0",
      "model_name": "DescriptionStyleModel",
      "state": {
       "description_width": ""
      }
     },
     "8f1aee11c25748d8be7b12501533d763": {
      "model_module": "@jupyter-widgets/controls",
      "model_module_version": "1.5.0",
      "model_name": "DescriptionStyleModel",
      "state": {
       "description_width": "initial"
      }
     },
     "90e7830d706344ca9d9303e687b9a31b": {
      "model_module": "@jupyter-widgets/controls",
      "model_module_version": "1.5.0",
      "model_name": "ButtonModel",
      "state": {
       "description": "Change",
       "layout": "IPY_MODEL_ca4e84366b9645e6bb3b39c5c98be22f",
       "style": "IPY_MODEL_c370d75e686d4ecdb82b9423f318814e"
      }
     },
     "90f49b2657d94c3c83114c45844d2c35": {
      "model_module": "@jupyter-widgets/base",
      "model_module_version": "1.2.0",
      "model_name": "LayoutModel",
      "state": {}
     },
     "910e63eac15c438eba279a95ae3147af": {
      "model_module": "@jupyter-widgets/controls",
      "model_module_version": "1.5.0",
      "model_name": "VBoxModel",
      "state": {
       "children": [
        "IPY_MODEL_678388045f024e71bfb5ccd416e94ef0",
        "IPY_MODEL_a438644517114589b3e55d2e20ac5b6b"
       ],
       "layout": "IPY_MODEL_5616d4739e814348b2a1edfac87e7565"
      }
     },
     "91870fe89f804482abafac44dcbf6778": {
      "model_module": "@jupyter-widgets/controls",
      "model_module_version": "1.5.0",
      "model_name": "ButtonModel",
      "state": {
       "description": "Cancel",
       "layout": "IPY_MODEL_1a5af0ad843b4a50a184205ecbd24f07",
       "style": "IPY_MODEL_757db67f89504d0ca78edf50185f507a"
      }
     },
     "9840218bd0dc4cc6bef85bc2dd64ddce": {
      "model_module": "@jupyter-widgets/base",
      "model_module_version": "1.2.0",
      "model_name": "LayoutModel",
      "state": {
       "width": "50%"
      }
     },
     "9e39e8f0ac1a45b39cc0a89b0941ce20": {
      "model_module": "@jupyter-widgets/base",
      "model_module_version": "1.2.0",
      "model_name": "LayoutModel",
      "state": {}
     },
     "9ed1d99badbe48e8a28448ae5c250ec4": {
      "model_module": "@jupyter-widgets/controls",
      "model_module_version": "1.5.0",
      "model_name": "DescriptionStyleModel",
      "state": {
       "description_width": ""
      }
     },
     "a1614949d3524a45a49087c4bb69fdfd": {
      "model_module": "@jupyter-widgets/controls",
      "model_module_version": "1.5.0",
      "model_name": "HBoxModel",
      "state": {
       "children": [
        "IPY_MODEL_79b8072e63f8480e98b7fe8d55f96200",
        "IPY_MODEL_f1c2e494a2dc4171a3ae031332e9a2fc"
       ],
       "layout": "IPY_MODEL_5154af184f50482491ced6db7dcb5597"
      }
     },
     "a16fbfee701c45c4847f3d7c48961317": {
      "model_module": "@jupyter-widgets/controls",
      "model_module_version": "1.5.0",
      "model_name": "DescriptionStyleModel",
      "state": {
       "description_width": "initial"
      }
     },
     "a438644517114589b3e55d2e20ac5b6b": {
      "model_module": "@jupyter-widgets/controls",
      "model_module_version": "1.5.0",
      "model_name": "VBoxModel",
      "state": {
       "children": [
        "IPY_MODEL_c16d642ca1bb492798af19492dfe87f1",
        "IPY_MODEL_ac3ec277ef6347db98e5a9259f96072e"
       ],
       "layout": "IPY_MODEL_dc3c87c3914047f79b6f617713c262c4"
      }
     },
     "a593e2dca1ba441fbf40b16927e5aa1b": {
      "model_module": "@jupyter-widgets/controls",
      "model_module_version": "1.5.0",
      "model_name": "HTMLModel",
      "state": {
       "layout": "IPY_MODEL_2dd4b1224cfd4ae7bfd844862a8601f5",
       "style": "IPY_MODEL_eb512cd747ee4da49cb3f5621e4c8e3b"
      }
     },
     "ac3ec277ef6347db98e5a9259f96072e": {
      "model_module": "@jupyter-widgets/controls",
      "model_module_version": "1.5.0",
      "model_name": "VBoxModel",
      "state": {
       "children": [
        "IPY_MODEL_54c4f869d8c74cf8a6084ee8c496535e"
       ],
       "layout": "IPY_MODEL_3ef82dc1c08b47b0b3e8ae1523472419"
      }
     },
     "ae195e0ab4344407873f04700034bafd": {
      "model_module": "@jupyter-widgets/controls",
      "model_module_version": "1.5.0",
      "model_name": "DescriptionStyleModel",
      "state": {
       "description_width": ""
      }
     },
     "aea1db913b564a2391ccf6b98b612bd3": {
      "model_module": "@jupyter-widgets/controls",
      "model_module_version": "1.5.0",
      "model_name": "DescriptionStyleModel",
      "state": {
       "description_width": ""
      }
     },
     "b0e1a2a9d7414ac7a3ed80b64802aac2": {
      "model_module": "@jupyter-widgets/controls",
      "model_module_version": "1.5.0",
      "model_name": "VBoxModel",
      "state": {
       "children": [
        "IPY_MODEL_15a223cf09ee4e1585de2bcf750f8f55",
        "IPY_MODEL_34374db756c149f6ba477822897d2fea",
        "IPY_MODEL_48647ee5b3b64287b686d9d2b2170b54"
       ],
       "layout": "IPY_MODEL_da54f0b7b65f4777b2129f89c6b88e0e"
      }
     },
     "b22bee4ea0214322b51aa40658b79c04": {
      "model_module": "@jupyter-widgets/controls",
      "model_module_version": "1.5.0",
      "model_name": "DropdownModel",
      "state": {
       "_options_labels": [
        "C:\\Users\\dominiquef\\Documents\\GIT\\mira\\mirageoscience-apps\\assets",
        "C:\\Users\\dominiquef\\Documents\\GIT\\mira\\mirageoscience-apps",
        "C:\\Users\\dominiquef\\Documents\\GIT\\mira",
        "C:\\Users\\dominiquef\\Documents\\GIT",
        "C:\\Users\\dominiquef\\Documents",
        "C:\\Users\\dominiquef",
        "C:\\Users",
        "C:\\",
        "D:\\",
        "Z:\\"
       ],
       "index": 0,
       "layout": "IPY_MODEL_5888b10f68a546a090667db83de26d86",
       "style": "IPY_MODEL_aea1db913b564a2391ccf6b98b612bd3"
      }
     },
     "b70964ec460247488ce72f200a84b4ed": {
      "model_module": "@jupyter-widgets/base",
      "model_module_version": "1.2.0",
      "model_name": "LayoutModel",
      "state": {
       "grid_area": "dircontent",
       "width": "auto"
      }
     },
     "b7a994d52b504376a38a629a0035f2df": {
      "model_module": "@jupyter-widgets/controls",
      "model_module_version": "1.5.0",
      "model_name": "ButtonModel",
      "state": {
       "button_style": "danger",
       "description": "Compute",
       "icon": "check",
       "layout": "IPY_MODEL_d9c3226c8371477ab4f51681689caacd",
       "style": "IPY_MODEL_830ffc4c4d6c40b295000006c3d78c0e",
       "tooltip": "Run computation"
      }
     },
     "b9aaa10146194290a8bbfff8556a23ed": {
      "model_module": "@jupyter-widgets/base",
      "model_module_version": "1.2.0",
      "model_name": "LayoutModel",
      "state": {}
     },
     "ba4d8f7bc0a54db3bf0b8b17c2456247": {
      "model_module": "@jupyter-widgets/controls",
      "model_module_version": "1.5.0",
      "model_name": "DescriptionStyleModel",
      "state": {
       "description_width": ""
      }
     },
     "ba5f2a2cba5c4eb7b26ca5973134dc9a": {
      "model_module": "@jupyter-widgets/controls",
      "model_module_version": "1.5.0",
      "model_name": "DescriptionStyleModel",
      "state": {
       "description_width": ""
      }
     },
     "c16d642ca1bb492798af19492dfe87f1": {
      "model_module": "@jupyter-widgets/controls",
      "model_module_version": "1.5.0",
      "model_name": "VBoxModel",
      "state": {
       "children": [
        "IPY_MODEL_b7a994d52b504376a38a629a0035f2df",
        "IPY_MODEL_dc898363a5924ad78ae54ab22fd562a0"
       ],
       "layout": "IPY_MODEL_18136e4c4ef74ed8bcff2bb0119c3e8e"
      }
     },
     "c186bba3052442038431d45731bf5c61": {
      "model_module": "@jupyter-widgets/controls",
      "model_module_version": "1.5.0",
      "model_name": "ButtonStyleModel",
      "state": {}
     },
     "c2597ef3a8ec42dcb6aead8a52adea0f": {
      "model_module": "@jupyter-widgets/controls",
      "model_module_version": "1.5.0",
      "model_name": "LabelModel",
      "state": {
       "layout": "IPY_MODEL_c67ec2a3ebeb4e8f87a501c016605306",
       "style": "IPY_MODEL_2dab37360ab143e393dde6bbe3675584",
       "value": "Workspace"
      }
     },
     "c370d75e686d4ecdb82b9423f318814e": {
      "model_module": "@jupyter-widgets/controls",
      "model_module_version": "1.5.0",
      "model_name": "ButtonStyleModel",
      "state": {}
     },
     "c46af7523b294cafa3de2bafbb90dc6f": {
      "model_module": "@jupyter-widgets/controls",
      "model_module_version": "1.5.0",
      "model_name": "HTMLModel",
      "state": {
       "layout": "IPY_MODEL_7a082e78e8404a04ac31e924e1d09a22",
       "placeholder": "",
       "style": "IPY_MODEL_f9b7dcc108954da3b1c0f5266f587e56",
       "value": "<span style=\"margin-left:10px; color:orange;\">C:\\Users\\dominiquef\\Documents\\GIT\\mira\\mirageoscience-apps\\assets\\FlinFlon.geoh5</span>"
      }
     },
     "c51da2737c804b0f8650f36e320cbd73": {
      "model_module": "@jupyter-widgets/controls",
      "model_module_version": "1.5.0",
      "model_name": "SelectModel",
      "state": {
       "_options_labels": [
        "..",
        "images"
       ],
       "index": null,
       "layout": "IPY_MODEL_0b55a3d8418f409a922f29f8a68ea62d",
       "rows": 8,
       "style": "IPY_MODEL_ba4d8f7bc0a54db3bf0b8b17c2456247"
      }
     },
     "c578365c6adf47589975ae6f1b84f8a2": {
      "model_module": "@jupyter-widgets/controls",
      "model_module_version": "1.5.0",
      "model_name": "DescriptionStyleModel",
      "state": {
       "description_width": ""
      }
     },
     "c5bc4f40fd134f45aee1b3d044c6dc21": {
      "model_module": "@jupyter-widgets/base",
      "model_module_version": "1.2.0",
      "model_name": "LayoutModel",
      "state": {
       "width": "auto"
      }
     },
     "c67ec2a3ebeb4e8f87a501c016605306": {
      "model_module": "@jupyter-widgets/base",
      "model_module_version": "1.2.0",
      "model_name": "LayoutModel",
      "state": {}
     },
     "c801831ec7034bacb1658ed4c63d5a0b": {
      "model_module": "@jupyter-widgets/controls",
      "model_module_version": "1.5.0",
      "model_name": "DescriptionStyleModel",
      "state": {
       "description_width": ""
      }
     },
     "c925b12f8ac44f0b9fc079b0753e91c9": {
      "model_module": "@jupyter-widgets/controls",
      "model_module_version": "1.5.0",
      "model_name": "SelectMultipleModel",
      "state": {
       "_options_labels": [
        "",
        "fault_splay1",
        "fault_Cliff_Lake",
        "fault_Other_FlinFlon",
        "fault_Club_Lake_splay",
        "fault_Catherine_splay2",
        "fault_Birch_View",
        "fault_Dion_Lake",
        "fault_FlinFlon_splay",
        "fault_West_Mandy_Road",
        "fault_Channing",
        "fault_Ross_Lake",
        "fault_Louis_Hidden",
        "fault_Lake_View_thrust",
        "contact_Schist_Lake",
        "fault_Burley_Lake",
        "fault_Dion_Lake_splay",
        "fault_Green_Lake",
        "fault_FlinFlon",
        "fault_Catherine_splay1",
        "fault_East_Mandy_Road",
        "fault_Other_FlinFlon_South",
        "fault_Catherine_splay4",
        "contact_Stitt_Island",
        "fault_Club_Lake",
        "fault_Tailing_Pond",
        "35_Hidden_Reservoir_Hr5",
        "29_Hidden_Reservoir_Hr1a",
        "60_BlueLagoon_Fb2",
        "20_FlinFlon_Undivided_Int_Dykes_D2f",
        "04_Boundary_Intrusive_S4h",
        "53_Millrock_Rhyolite_Fm4b",
        "19_FlinFlon_Undivided_Int_Dykes_D2b",
        "18_FlinFlon_Undivided_Int_Dykes_777_D2b",
        "06_Phantom_Lake_Intrusive_S3a",
        "21_FlinFlon_Undivided_Int_Dykes_D3a",
        "43_Millrock_CHLSH_South",
        "56_Millrock_Basalt_Fm1ba",
        "17_FlinFlon_Undivided_Int_Dykes_D2",
        "32_Hidden_Reservoir_Hr1b_SW",
        "11_Missi_M3_NE",
        "13_Missi_M1",
        "07_Annabel_Granitoid_S1",
        "45_Millrock_Gabbro_South",
        "01_Late_Intrusive_S5b",
        "31_Hidden_Reservoir_Hr1c_SW",
        "52_Millrock_Rhyolite_Fm4_West_check",
        "55_Millrock_Basalt_Fm1bf",
        "34_Hidden_Reservoir_Hr2b",
        "03_Boundary_Intrusive_S4b",
        "42_Millrock_CHLSH_North",
        "26_Louis_L3",
        "23_FlinFlon_Undivided_Int_Felsic_D4g",
        "30_Hidden_Reservoir_Hr1b",
        "59_BlueLagoon_Fb3",
        "49_Millrock_MVR_Fm5d",
        "44_Millrock_Gabbro_North",
        "27_Hidden_Carlisle_Hc4",
        "22_FlinFlon_Undivided_Int_Felsic_D4e",
        "02_Boundary_Intrusive_S4a",
        "61_BlueLagoon_Fb1_NW",
        "05_Boundary_Intrusive_S4g",
        "39_Ore_Callinan",
        "38_Ore_Dan_Owens",
        "40_Ore_FlinFlon",
        "Inversion_VTEM_Model",
        "Gravity_Magnetics_drape60m",
        "CDI_VTEM_model",
        "Data_FEM_pseudo3D",
        "geochem",
        "Inversion_DIGHEM_Model",
        "Topography",
        "Data_TEM_pseudo3D"
       ],
       "description": "Object:",
       "index": [
        66,
        72
       ],
       "layout": "IPY_MODEL_24dc95ba80104459a2abd7e8f7806a01",
       "rows": 5,
       "style": "IPY_MODEL_7ab6293266a541bcb6d7aa5552120083"
      }
     },
     "ca4e84366b9645e6bb3b39c5c98be22f": {
      "model_module": "@jupyter-widgets/base",
      "model_module_version": "1.2.0",
      "model_name": "LayoutModel",
      "state": {
       "width": "auto"
      }
     },
     "ccdc331a89ce42a18898fe00c908037b": {
      "model_module": "@jupyter-widgets/base",
      "model_module_version": "1.2.0",
      "model_name": "LayoutModel",
      "state": {}
     },
     "ce95ddcd40aa4d969a390d7862832bb1": {
      "model_module": "@jupyter-widgets/controls",
      "model_module_version": "1.5.0",
      "model_name": "ButtonModel",
      "state": {
       "description": "Select",
       "layout": "IPY_MODEL_c5bc4f40fd134f45aee1b3d044c6dc21",
       "style": "IPY_MODEL_45fd83bae49b4c58aa7d824bdc82570d"
      }
     },
     "cee66ccb19904172b3dc630eff941368": {
      "model_module": "@jupyter-widgets/base",
      "model_module_version": "1.2.0",
      "model_name": "LayoutModel",
      "state": {}
     },
     "d0abd31c947f4e57b4db964d08e7afd5": {
      "model_module": "@jupyter-widgets/controls",
      "model_module_version": "1.5.0",
      "model_name": "SelectModel",
      "state": {
       "_options_labels": [
        "..",
        "Temp",
        "FlinFlon.geoh5",
        "Inversion_.json",
        "MtDore_TMI.geoh5"
       ],
       "index": 2,
       "layout": "IPY_MODEL_b70964ec460247488ce72f200a84b4ed",
       "rows": 8,
       "style": "IPY_MODEL_2f573c64e22f457cba706ec3b715c8d4"
      }
     },
     "d9c3226c8371477ab4f51681689caacd": {
      "model_module": "@jupyter-widgets/base",
      "model_module_version": "1.2.0",
      "model_name": "LayoutModel",
      "state": {}
     },
     "d9fbb1b44c2e456eba79595f3eac35d4": {
      "model_module": "@jupyter-widgets/controls",
      "model_module_version": "1.5.0",
      "model_name": "DescriptionStyleModel",
      "state": {
       "description_width": ""
      }
     },
     "da54f0b7b65f4777b2129f89c6b88e0e": {
      "model_module": "@jupyter-widgets/base",
      "model_module_version": "1.2.0",
      "model_name": "LayoutModel",
      "state": {
       "width": "auto"
      }
     },
     "dc3c87c3914047f79b6f617713c262c4": {
      "model_module": "@jupyter-widgets/base",
      "model_module_version": "1.2.0",
      "model_name": "LayoutModel",
      "state": {}
     },
     "dc898363a5924ad78ae54ab22fd562a0": {
      "model_module": "@jupyter-widgets/controls",
      "model_module_version": "1.5.0",
      "model_name": "TextModel",
      "state": {
       "continuous_update": false,
       "description": "Group:",
       "layout": "IPY_MODEL_90f49b2657d94c3c83114c45844d2c35",
       "style": "IPY_MODEL_62b9b1675f434a2cb2249991a4286f28",
       "value": "CoordinateTransformation"
      }
     },
     "de5e755203254436ba218dc0b7409d38": {
      "model_module": "@jupyter-widgets/base",
      "model_module_version": "1.2.0",
      "model_name": "LayoutModel",
      "state": {}
     },
     "e4d2fd942ec9481a91a9316251021e0a": {
      "model_module": "@jupyter-widgets/controls",
      "model_module_version": "1.5.0",
      "model_name": "TextModel",
      "state": {
       "continuous_update": false,
       "description": "Input Projection:",
       "layout": "IPY_MODEL_5bbf7a00c3704f2c8d970d060a6beaf6",
       "style": "IPY_MODEL_8f1aee11c25748d8be7b12501533d763",
       "value": "EPSG:26914"
      }
     },
     "eb512cd747ee4da49cb3f5621e4c8e3b": {
      "model_module": "@jupyter-widgets/controls",
      "model_module_version": "1.5.0",
      "model_name": "DescriptionStyleModel",
      "state": {
       "description_width": ""
      }
     },
     "ec7768cd033e4b4295bcca766f3c6b54": {
      "model_module": "@jupyter-widgets/controls",
      "model_module_version": "1.5.0",
      "model_name": "ButtonModel",
      "state": {
       "description": "Cancel",
       "layout": "IPY_MODEL_4bb36d8a0c3e426d80a2a56b27e60b80",
       "style": "IPY_MODEL_61ed0193657446d38ce8825b8f89208a"
      }
     },
     "ef4874e20e6c42728c157327a7a30c34": {
      "model_module": "@jupyter-widgets/controls",
      "model_module_version": "1.5.0",
      "model_name": "HTMLModel",
      "state": {
       "layout": "IPY_MODEL_f4f808c759594111b5566379793b6689",
       "placeholder": "",
       "style": "IPY_MODEL_ba5f2a2cba5c4eb7b26ca5973134dc9a",
       "value": "<span style=\"margin-left:10px; color:black;\">No file selected</span>"
      }
     },
     "ef4d658ec7fe45b584fc637ef531742a": {
      "model_module": "@jupyter-widgets/base",
      "model_module_version": "1.2.0",
      "model_name": "LayoutModel",
      "state": {
       "display": "none",
       "grid_area": "filename",
       "width": "auto"
      }
     },
     "f1c2e494a2dc4171a3ae031332e9a2fc": {
      "model_module": "@jupyter-widgets/controls",
      "model_module_version": "1.5.0",
      "model_name": "TextareaModel",
      "state": {
       "description": "<=> WKT",
       "layout": "IPY_MODEL_fafb6d69b9064352bff8c44d5990550f",
       "style": "IPY_MODEL_333461931755440992f7458d12210394",
       "value": "GEOGCS[\"WGS 84\",DATUM[\"WGS_1984\",SPHEROID[\"WGS 84\",6378137,298.257223563,AUTHORITY[\"EPSG\",\"7030\"]],AUTHORITY[\"EPSG\",\"6326\"]],PRIMEM[\"Greenwich\",0,AUTHORITY[\"EPSG\",\"8901\"]],UNIT[\"degree\",0.0174532925199433,AUTHORITY[\"EPSG\",\"9122\"]],AXIS[\"Latitude\",NORTH],AXIS[\"Longitude\",EAST],AUTHORITY[\"EPSG\",\"4326\"]]"
      }
     },
     "f457dc8822bd4d7996591b3e3f422f62": {
      "model_module": "@jupyter-widgets/base",
      "model_module_version": "1.2.0",
      "model_name": "LayoutModel",
      "state": {
       "grid_area": "filename",
       "width": "auto"
      }
     },
     "f4f808c759594111b5566379793b6689": {
      "model_module": "@jupyter-widgets/base",
      "model_module_version": "1.2.0",
      "model_name": "LayoutModel",
      "state": {}
     },
     "f963314028764846b5ea11971b96f22a": {
      "model_module": "@jupyter-widgets/base",
      "model_module_version": "1.2.0",
      "model_name": "LayoutModel",
      "state": {}
     },
     "f9b7dcc108954da3b1c0f5266f587e56": {
      "model_module": "@jupyter-widgets/controls",
      "model_module_version": "1.5.0",
      "model_name": "DescriptionStyleModel",
      "state": {
       "description_width": ""
      }
     },
     "f9b95720f1824c139b3fa4a892a8d5bd": {
      "model_module": "@jupyter-widgets/controls",
      "model_module_version": "1.5.0",
      "model_name": "DescriptionStyleModel",
      "state": {
       "description_width": ""
      }
     },
     "fafb6d69b9064352bff8c44d5990550f": {
      "model_module": "@jupyter-widgets/base",
      "model_module_version": "1.2.0",
      "model_name": "LayoutModel",
      "state": {
       "width": "50%"
      }
     },
     "fb97e51b7f3c4a5b9020c64eabd66c94": {
      "model_module": "@jupyter-widgets/controls",
      "model_module_version": "1.5.0",
      "model_name": "LabelModel",
      "state": {
       "layout": "IPY_MODEL_b9aaa10146194290a8bbfff8556a23ed",
       "style": "IPY_MODEL_6c4dc019f3194e37a16b75fc12c10dd2",
       "value": "Monitoring folder"
      }
     }
    },
    "version_major": 2,
    "version_minor": 0
   }
  }
 },
 "nbformat": 4,
 "nbformat_minor": 5
}

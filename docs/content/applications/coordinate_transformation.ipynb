{
 "cells": [
  {
   "cell_type": "markdown",
   "id": "first-horizontal",
   "metadata": {},
   "source": [
    "# Coordinate System Transformation\n",
    "\n",
    "This application lets users change the coordinate system of objects using EPSG, ESRI and/or Well-Known-Text (WKT) strings.\n",
    "The application relies on open-source libraries supported by the [GeoPandas](https://geopandas.org/) project. \n",
    "\n",
    "  <img align=\"right\" width=\"50%\" src=\"./images/coordinate_transform_thumbnail.png\">\n",
    "\n",
    "\n",
    "New user? Visit the [Getting Started](../installation.rst) page."
   ]
  },
  {
   "cell_type": "markdown",
   "id": "alive-ribbon",
   "metadata": {},
   "source": [
    "## Application\n",
    "The following sections provide details on the different parameters controling the application. Interactive widgets shown below are for demonstration purposes only."
   ]
  },
  {
   "cell_type": "code",
   "execution_count": 1,
   "id": "computational-arrest",
   "metadata": {
    "scrolled": false
   },
   "outputs": [
    {
     "data": {
      "application/vnd.jupyter.widget-view+json": {
       "model_id": "29ef5040bc7541deb12795245efdb887",
       "version_major": 2,
       "version_minor": 0
      },
      "text/plain": [
       "VBox(children=(VBox(children=(Label(value='Workspace', style=DescriptionStyle(description_width='initial')), H…"
      ]
     },
     "metadata": {},
     "output_type": "display_data"
    }
   ],
   "source": [
    "from geoapps.processing import CoordinateTransformation\n",
    "\n",
    "app = CoordinateTransformation(h5file=r\"../../../assets/FlinFlon.geoh5\")\n",
    "app()"
   ]
  },
  {
   "cell_type": "markdown",
   "id": "unable-staff",
   "metadata": {},
   "source": [
    "## Project Selection\n",
    "\n",
    "Select and connect to an existing **geoh5** project file containing data. "
   ]
  },
  {
   "cell_type": "code",
   "execution_count": 2,
   "id": "metallic-condition",
   "metadata": {},
   "outputs": [
    {
     "data": {
      "application/vnd.jupyter.widget-view+json": {
       "model_id": "91bcf69eb5154b65b0b5d1c4ae7e172a",
       "version_major": 2,
       "version_minor": 0
      },
      "text/plain": [
       "VBox(children=(Label(value='Workspace', style=DescriptionStyle(description_width='initial')), HBox(children=(F…"
      ]
     },
     "metadata": {},
     "output_type": "display_data"
    }
   ],
   "source": [
    "app.project_panel"
   ]
  },
  {
   "cell_type": "markdown",
   "id": "excessive-competition",
   "metadata": {},
   "source": [
    "See the [Project Panel](base_application.ipynb#Project-Panel) page for more details."
   ]
  },
  {
   "cell_type": "markdown",
   "id": "handmade-lender",
   "metadata": {},
   "source": [
    "## Object Selection\n",
    "\n",
    "List of objects available. Currently supports objects of type `Points`, `Curve`, `Surface` and `Grid2D` "
   ]
  },
  {
   "cell_type": "code",
   "execution_count": 3,
   "id": "promising-theme",
   "metadata": {
    "scrolled": true
   },
   "outputs": [
    {
     "data": {
      "application/vnd.jupyter.widget-view+json": {
       "model_id": "31c2001cb15743a9a994184831f08d06",
       "version_major": 2,
       "version_minor": 0
      },
      "text/plain": [
       "SelectMultiple(description='Object:', index=(77, 5), options=('', 'Gravity_Magnetics_drape60mEPSG_4326', 'Grav…"
      ]
     },
     "metadata": {},
     "output_type": "display_data"
    }
   ],
   "source": [
    "app.objects"
   ]
  },
  {
   "cell_type": "markdown",
   "id": "rental-narrative",
   "metadata": {},
   "source": [
    "## Input Projection\n",
    "\n",
    "[EPSG](https://spatialreference.org/ref/epsg/), ESRI or WKT string describing the input object coordinate system. Entering a known EPSG or ESRI code will result in an update of the WKT string, and vice versa. \n",
    "\n",
    "**Note**: Only the WKT string is considered by the coordinate transformation routine. "
   ]
  },
  {
   "cell_type": "code",
   "execution_count": 4,
   "id": "fewer-tonight",
   "metadata": {},
   "outputs": [
    {
     "data": {
      "application/vnd.jupyter.widget-view+json": {
       "model_id": "5cd043eecc8b455da74bc7897a2e41f8",
       "version_major": 2,
       "version_minor": 0
      },
      "text/plain": [
       "HBox(children=(Text(value='EPSG:26914', continuous_update=False, description='Input Projection:', style=Descri…"
      ]
     },
     "metadata": {},
     "output_type": "display_data"
    }
   ],
   "source": [
    "app.input_projection"
   ]
  },
  {
   "cell_type": "markdown",
   "id": "immune-rebel",
   "metadata": {},
   "source": [
    "## Output Projection\n",
    "\n",
    "[EPSG](https://spatialreference.org/ref/epsg/), ESRI or WKT string describing the target coordinate system."
   ]
  },
  {
   "cell_type": "code",
   "execution_count": 5,
   "id": "public-egyptian",
   "metadata": {},
   "outputs": [
    {
     "data": {
      "application/vnd.jupyter.widget-view+json": {
       "model_id": "5a30b67e8e694720860a04eb27258a8c",
       "version_major": 2,
       "version_minor": 0
      },
      "text/plain": [
       "HBox(children=(Text(value='EPSG:4326', continuous_update=False, description='Output Projection:', style=Descri…"
      ]
     },
     "metadata": {},
     "output_type": "display_data"
    }
   ],
   "source": [
    "app.output_projection"
   ]
  },
  {
   "cell_type": "markdown",
   "id": "prescribed-three",
   "metadata": {},
   "source": [
    "## Output Panel\n",
    "\n",
    "Trigger the computation routine and store the result."
   ]
  },
  {
   "cell_type": "code",
   "execution_count": 6,
   "id": "associate-buying",
   "metadata": {
    "scrolled": true
   },
   "outputs": [
    {
     "data": {
      "application/vnd.jupyter.widget-view+json": {
       "model_id": "41eb8d87a3d14360a094c5b6fe57cf90",
       "version_major": 2,
       "version_minor": 0
      },
      "text/plain": [
       "VBox(children=(VBox(children=(Button(button_style='danger', description='Compute', icon='check', style=ButtonS…"
      ]
     },
     "metadata": {},
     "output_type": "display_data"
    }
   ],
   "source": [
    "app.output_panel"
   ]
  },
  {
   "cell_type": "markdown",
   "id": "radical-marijuana",
   "metadata": {},
   "source": [
    "See the [Output Panel](base_application.ipynb#Output-Panel) page for more details."
   ]
  },
  {
   "cell_type": "markdown",
   "id": "worse-bottle",
   "metadata": {},
   "source": [
    "Need help? Contact us at support@mirageoscience.com"
   ]
  },
  {
   "cell_type": "code",
   "execution_count": 7,
   "id": "orange-patrol",
   "metadata": {
    "nbsphinx": "hidden"
   },
   "outputs": [
    {
     "data": {
      "image/png": "[encoded data removed]",
      "text/plain": [
       "<Figure size 864x576 with 2 Axes>"
      ]
     },
     "metadata": {
      "needs_background": "light"
     },
     "output_type": "display_data"
    }
   ],
   "source": [
    "import matplotlib.pyplot as plt\n",
    "app.plot_result = True\n",
    "app.trigger.click()\n",
    "app.figure.savefig(\"images/coordinate_transform_thumbnail.png\", dpi=300, bbox_inches=\"tight\")"
   ]
  }
 ],
 "metadata": {
  "kernelspec": {
   "display_name": "Python 3",
   "language": "python",
   "name": "python3"
  },
  "language_info": {
   "codemirror_mode": {
    "name": "ipython",
    "version": 3
   },
   "file_extension": ".py",
   "mimetype": "text/x-python",
   "name": "python",
   "nbconvert_exporter": "python",
   "pygments_lexer": "ipython3",
   "version": "3.7.10"
  },
  "widgets": {
   "application/vnd.jupyter.widget-state+json": {
    "state": {
     "002f92c80ce246a59188e5268c4d72bf": {
      "model_module": "@jupyter-widgets/base",
      "model_module_version": "1.2.0",
      "model_name": "LayoutModel",
      "state": {
       "width": "auto"
      }
     },
     "0138e69b2b164a7db1071a0f31425072": {
      "model_module": "@jupyter-widgets/controls",
      "model_module_version": "1.5.0",
      "model_name": "DescriptionStyleModel",
      "state": {
       "description_width": ""
      }
     },
     "01e3058f0fdd41d38a1a5c60652a6d7e": {
      "model_module": "@jupyter-widgets/controls",
      "model_module_version": "1.5.0",
      "model_name": "ButtonStyleModel",
      "state": {}
     },
     "01ef819da2d74ec4949cc448c5543220": {
      "model_module": "@jupyter-widgets/base",
      "model_module_version": "1.2.0",
      "model_name": "LayoutModel",
      "state": {}
     },
     "02af600b2eef4cc1b9b78746d36996e9": {
      "model_module": "@jupyter-widgets/controls",
      "model_module_version": "1.5.0",
      "model_name": "DescriptionStyleModel",
      "state": {
       "description_width": ""
      }
     },
     "05652551ac7b463e98695b316b1400dc": {
      "model_module": "@jupyter-widgets/controls",
      "model_module_version": "1.5.0",
      "model_name": "ButtonModel",
      "state": {
       "description": "Create copy:",
       "layout": "IPY_MODEL_9e39e8f0ac1a45b39cc0a89b0941ce20",
       "style": "IPY_MODEL_c186bba3052442038431d45731bf5c61"
      }
     },
     "057131c7694f4ba4b01fc69f69a2a1c3": {
      "model_module": "@jupyter-widgets/base",
      "model_module_version": "1.2.0",
      "model_name": "LayoutModel",
      "state": {
       "width": "50%"
      }
     },
     "059c771128a14d3d8daa621046cd5a4d": {
      "model_module": "@jupyter-widgets/base",
      "model_module_version": "1.2.0",
      "model_name": "LayoutModel",
      "state": {
       "grid_area": "pathlist",
       "width": "auto"
      }
     },
     "05a2a5bf66dd4e65b1e42717f704607f": {
      "model_module": "@jupyter-widgets/base",
      "model_module_version": "1.2.0",
      "model_name": "LayoutModel",
      "state": {
       "display": "none",
       "grid_gap": "0px 0px",
       "grid_template_areas": "\n                    'pathlist filename'\n                    'dircontent dircontent'\n                    ",
       "grid_template_columns": "60% 40%",
       "grid_template_rows": "auto auto",
       "width": "500px"
      }
     },
     "0721fabb1357442697c4a5a01bf7ff4c": {
      "model_module": "@jupyter-widgets/controls",
      "model_module_version": "1.5.0",
      "model_name": "ButtonStyleModel",
      "state": {}
     },
     "076c15183ebd4a909731ea904696acb8": {
      "model_module": "@jupyter-widgets/controls",
      "model_module_version": "1.5.0",
      "model_name": "DescriptionStyleModel",
      "state": {
       "description_width": ""
      }
     },
     "07c831cf83aa4536aebc7513721d44cb": {
      "model_module": "@jupyter-widgets/controls",
      "model_module_version": "1.5.0",
      "model_name": "ButtonStyleModel",
      "state": {}
     },
     "0812eac65cf34d37bc9e6b32b7a2abd6": {
      "model_module": "@jupyter-widgets/controls",
      "model_module_version": "1.5.0",
      "model_name": "TextModel",
      "state": {
       "layout": "IPY_MODEL_f457dc8822bd4d7996591b3e3f422f62",
       "placeholder": "output filename",
       "style": "IPY_MODEL_c578365c6adf47589975ae6f1b84f8a2",
       "value": "FlinFlon.geoh5"
      }
     },
     "08a5d19d0336493dbec492f645065517": {
      "model_module": "@jupyter-widgets/controls",
      "model_module_version": "1.5.0",
      "model_name": "VBoxModel",
      "state": {
       "children": [
        "IPY_MODEL_270f220abffe4ed0b7552d93f7be27b3",
        "IPY_MODEL_d49c87af20e34c4393a51b7041048878",
        "IPY_MODEL_0fbca0ae5ebb49be840c29ec3f3180e5",
        "IPY_MODEL_7fe55946cca5461d90d3e7b412bc0a70",
        "IPY_MODEL_24807bf277604fe08fad50920be38e3c"
       ],
       "layout": "IPY_MODEL_6fc04e44edc84c4fb2b26e0e49f660a7"
      }
     },
     "0a74887d252a4cb6a9bd34b654f2b1d3": {
      "model_module": "@jupyter-widgets/base",
      "model_module_version": "1.2.0",
      "model_name": "LayoutModel",
      "state": {
       "display": "none",
       "width": "auto"
      }
     },
     "0a7f8c09c5fb4bfc8c7e879922dc63ff": {
      "model_module": "@jupyter-widgets/base",
      "model_module_version": "1.2.0",
      "model_name": "LayoutModel",
      "state": {}
     },
     "0b226e1a0a8a4f57899c86833731787b": {
      "model_module": "@jupyter-widgets/base",
      "model_module_version": "1.2.0",
      "model_name": "LayoutModel",
      "state": {}
     },
     "0b55a3d8418f409a922f29f8a68ea62d": {
      "model_module": "@jupyter-widgets/base",
      "model_module_version": "1.2.0",
      "model_name": "LayoutModel",
      "state": {
       "grid_area": "dircontent",
       "width": "auto"
      }
     },
     "0bbdc9c8f69546bda57dae7f092b9a38": {
      "model_module": "@jupyter-widgets/controls",
      "model_module_version": "1.5.0",
      "model_name": "DescriptionStyleModel",
      "state": {
       "description_width": "initial"
      }
     },
     "0d6ae0e55f924192b43fd094efbf1eb2": {
      "model_module": "@jupyter-widgets/base",
      "model_module_version": "1.2.0",
      "model_name": "LayoutModel",
      "state": {
       "width": "auto"
      }
     },
     "0dff440a122b43188e94addf6d8f314a": {
      "model_module": "@jupyter-widgets/controls",
      "model_module_version": "1.5.0",
      "model_name": "DescriptionStyleModel",
      "state": {
       "description_width": "initial"
      }
     },
     "0e6c4aff9a9140e9bf4317ebeda401ef": {
      "model_module": "@jupyter-widgets/controls",
      "model_module_version": "1.5.0",
      "model_name": "DescriptionStyleModel",
      "state": {
       "description_width": ""
      }
     },
     "0f962899c32a40a6abeeb89854f318c9": {
      "model_module": "@jupyter-widgets/base",
      "model_module_version": "1.2.0",
      "model_name": "LayoutModel",
      "state": {
       "width": "auto"
      }
     },
     "0fbca0ae5ebb49be840c29ec3f3180e5": {
      "model_module": "@jupyter-widgets/controls",
      "model_module_version": "1.5.0",
      "model_name": "HBoxModel",
      "state": {
       "children": [
        "IPY_MODEL_58fe515821e8429094212164b79c1c44",
        "IPY_MODEL_a7d306c968ac4dc2a1c99c8ef5b6617c"
       ],
       "layout": "IPY_MODEL_7551340c2675410dab4fdb39cce02d7a"
      }
     },
     "103c183e72644f6b8b695fc663c0d62b": {
      "model_module": "@jupyter-widgets/base",
      "model_module_version": "1.2.0",
      "model_name": "LayoutModel",
      "state": {
       "grid_area": "dircontent",
       "width": "auto"
      }
     },
     "11167b82f6df4b049cd112ee6b057e23": {
      "model_module": "@jupyter-widgets/base",
      "model_module_version": "1.2.0",
      "model_name": "LayoutModel",
      "state": {
       "width": "auto"
      }
     },
     "1264f7d93fdf41a29332a72a84fd0cc2": {
      "model_module": "@jupyter-widgets/controls",
      "model_module_version": "1.5.0",
      "model_name": "SelectModel",
      "state": {
       "_options_labels": [
        "..",
        "dask-worker-space",
        "images"
       ],
       "index": null,
       "layout": "IPY_MODEL_c9b4308e3b044a2da83dd11bf879552b",
       "rows": 8,
       "style": "IPY_MODEL_abe8980c8421449e9b775b9b8aef4cae"
      }
     },
     "129863e2e20a40c1b39e3b986307b43f": {
      "model_module": "@jupyter-widgets/controls",
      "model_module_version": "1.5.0",
      "model_name": "DescriptionStyleModel",
      "state": {
       "description_width": ""
      }
     },
     "12cfc0185f594b6885abd14c34e36c1f": {
      "model_module": "@jupyter-widgets/controls",
      "model_module_version": "1.5.0",
      "model_name": "VBoxModel",
      "state": {
       "children": [
        "IPY_MODEL_18c43712fda24023a0f3e233b44927f0",
        "IPY_MODEL_77a29b398e5545fb94ac410e08f962ab"
       ],
       "layout": "IPY_MODEL_1d52705075154e6fa5c9ae32dedab498"
      }
     },
     "135a468d0de04c209431f6562e4d29a1": {
      "model_module": "@jupyter-widgets/controls",
      "model_module_version": "1.5.0",
      "model_name": "DescriptionStyleModel",
      "state": {
       "description_width": ""
      }
     },
     "13d0de1ca91b4288b385523fc19dc374": {
      "model_module": "@jupyter-widgets/controls",
      "model_module_version": "1.5.0",
      "model_name": "HBoxModel",
      "state": {
       "children": [
        "IPY_MODEL_b6a16fe2ff694d69a2e55c66dd754126",
        "IPY_MODEL_49d352345d1e4c55b4ec3f0355cad398"
       ],
       "layout": "IPY_MODEL_ac65abf156f4406887ff1eea2ab30b16"
      }
     },
     "1442105fa18349bcb6735efe212b9690": {
      "model_module": "@jupyter-widgets/base",
      "model_module_version": "1.2.0",
      "model_name": "LayoutModel",
      "state": {
       "display": "none",
       "grid_gap": "0px 0px",
       "grid_template_areas": "\n                    'pathlist filename'\n                    'dircontent dircontent'\n                    ",
       "grid_template_columns": "60% 40%",
       "grid_template_rows": "auto auto",
       "width": "500px"
      }
     },
     "148c06f07f9b40da9f0e6301680c0d69": {
      "model_module": "@jupyter-widgets/controls",
      "model_module_version": "1.5.0",
      "model_name": "TextModel",
      "state": {
       "disabled": true,
       "layout": "IPY_MODEL_ef4d658ec7fe45b584fc637ef531742a",
       "placeholder": "output filename",
       "style": "IPY_MODEL_8bef621d5c80438f9c5fe2346fc1d1da"
      }
     },
     "15a223cf09ee4e1585de2bcf750f8f55": {
      "model_module": "@jupyter-widgets/controls",
      "model_module_version": "1.5.0",
      "model_name": "HTMLModel",
      "state": {
       "layout": "IPY_MODEL_5c9d5b33950b48e4bc8d0aabe2b4b877",
       "style": "IPY_MODEL_7f14bb9c1f714ba3bb4ea694c8083757"
      }
     },
     "1762a1c9262e44d5b21ccd3f96d0ce9c": {
      "model_module": "@jupyter-widgets/controls",
      "model_module_version": "1.5.0",
      "model_name": "DescriptionStyleModel",
      "state": {
       "description_width": ""
      }
     },
     "17a6d3cc3f97415ca0e9621e1e7862fe": {
      "model_module": "@jupyter-widgets/controls",
      "model_module_version": "1.5.0",
      "model_name": "HBoxModel",
      "state": {
       "children": [
        "IPY_MODEL_b0e1a2a9d7414ac7a3ed80b64802aac2",
        "IPY_MODEL_05652551ac7b463e98695b316b1400dc"
       ],
       "layout": "IPY_MODEL_ccdc331a89ce42a18898fe00c908037b"
      }
     },
     "17ac36700a2b40d080efb1cb250ec9e8": {
      "model_module": "@jupyter-widgets/base",
      "model_module_version": "1.2.0",
      "model_name": "LayoutModel",
      "state": {
       "display": "none",
       "grid_gap": "0px 0px",
       "grid_template_areas": "\n                    'pathlist pathlist'\n                    'dircontent dircontent'\n                    ",
       "grid_template_columns": "60% 40%",
       "grid_template_rows": "auto auto",
       "width": "500px"
      }
     },
     "18136e4c4ef74ed8bcff2bb0119c3e8e": {
      "model_module": "@jupyter-widgets/base",
      "model_module_version": "1.2.0",
      "model_name": "LayoutModel",
      "state": {}
     },
     "18871eb40b9545a2966f67249884b2c2": {
      "model_module": "@jupyter-widgets/controls",
      "model_module_version": "1.5.0",
      "model_name": "DescriptionStyleModel",
      "state": {
       "description_width": "initial"
      }
     },
     "18c43712fda24023a0f3e233b44927f0": {
      "model_module": "@jupyter-widgets/controls",
      "model_module_version": "1.5.0",
      "model_name": "LabelModel",
      "state": {
       "layout": "IPY_MODEL_e82d3d934aa34643a014f601c7ecbfd8",
       "style": "IPY_MODEL_49c28dd3d277453fbdc7f599719f6983",
       "value": "Monitoring folder"
      }
     },
     "18ca952e21724904909ed0ee23941922": {
      "model_module": "@jupyter-widgets/base",
      "model_module_version": "1.2.0",
      "model_name": "LayoutModel",
      "state": {}
     },
     "18f1acd715ca4334a0a8ed07309b2757": {
      "model_module": "@jupyter-widgets/base",
      "model_module_version": "1.2.0",
      "model_name": "LayoutModel",
      "state": {}
     },
     "19841dd5be8f454f9de0dc79c02128be": {
      "model_module": "@jupyter-widgets/controls",
      "model_module_version": "1.5.0",
      "model_name": "DescriptionStyleModel",
      "state": {
       "description_width": ""
      }
     },
     "1a5af0ad843b4a50a184205ecbd24f07": {
      "model_module": "@jupyter-widgets/base",
      "model_module_version": "1.2.0",
      "model_name": "LayoutModel",
      "state": {
       "display": "none",
       "width": "auto"
      }
     },
     "1b11041c15464380b711ae5058a88bbe": {
      "model_module": "@jupyter-widgets/controls",
      "model_module_version": "1.5.0",
      "model_name": "DescriptionStyleModel",
      "state": {
       "description_width": ""
      }
     },
     "1b126143f3c04c4491b50fdead0fdf8b": {
      "model_module": "@jupyter-widgets/controls",
      "model_module_version": "1.5.0",
      "model_name": "TextModel",
      "state": {
       "layout": "IPY_MODEL_d21a0cb67adb4db9911580ed58ede868",
       "placeholder": "output filename",
       "style": "IPY_MODEL_96529a7642b34b6695b9f4e45aaa22e3",
       "value": "FlinFlon.geoh5"
      }
     },
     "1b283bde5b36461ebc6318bcb8444de2": {
      "model_module": "@jupyter-widgets/controls",
      "model_module_version": "1.5.0",
      "model_name": "SelectModel",
      "state": {
       "_options_labels": [
        "..",
        "Temp",
        "FlinFlon.geoh5",
        "Inversion_.json",
        "MtDore_TMI.geoh5"
       ],
       "index": 2,
       "layout": "IPY_MODEL_8f136b27bb074ed4a9489a25c1abf21d",
       "rows": 8,
       "style": "IPY_MODEL_e422060b27894eb69673388165adcb41"
      }
     },
     "1b69d6226fae494cabae48b8ea989fca": {
      "model_module": "@jupyter-widgets/controls",
      "model_module_version": "1.5.0",
      "model_name": "CheckboxModel",
      "state": {
       "description": "GA Pro - Live link",
       "disabled": false,
       "indent": false,
       "layout": "IPY_MODEL_2e33fb1b039a4bb383dcd79556f0f46d",
       "style": "IPY_MODEL_4e819ba0e6e34b7f8613b1bd94e0556e",
       "value": false
      }
     },
     "1ba8399cf67f4e35940125c33f83b485": {
      "model_module": "@jupyter-widgets/base",
      "model_module_version": "1.2.0",
      "model_name": "LayoutModel",
      "state": {
       "grid_area": "filename",
       "width": "auto"
      }
     },
     "1cab142bb15140a499bcff6f619d033d": {
      "model_module": "@jupyter-widgets/controls",
      "model_module_version": "1.5.0",
      "model_name": "DescriptionStyleModel",
      "state": {
       "description_width": "initial"
      }
     },
     "1cd588adc7244255b0d45279bc96ffc2": {
      "model_module": "@jupyter-widgets/base",
      "model_module_version": "1.2.0",
      "model_name": "LayoutModel",
      "state": {}
     },
     "1d22a22c9dd2469aa705034d7413e744": {
      "model_module": "@jupyter-widgets/base",
      "model_module_version": "1.2.0",
      "model_name": "LayoutModel",
      "state": {
       "grid_area": "pathlist",
       "width": "auto"
      }
     },
     "1d52705075154e6fa5c9ae32dedab498": {
      "model_module": "@jupyter-widgets/base",
      "model_module_version": "1.2.0",
      "model_name": "LayoutModel",
      "state": {}
     },
     "1e4fcdabc4244cebbb36bc4a283b0924": {
      "model_module": "@jupyter-widgets/controls",
      "model_module_version": "1.5.0",
      "model_name": "TextModel",
      "state": {
       "continuous_update": false,
       "description": "Group:",
       "layout": "IPY_MODEL_fbd92ee6f996455b97c370c7ae294ade",
       "style": "IPY_MODEL_707652c855a4441e873aad675ed35aa5",
       "value": "CoordinateTransformation"
      }
     },
     "1f82535302284f6da3999cc1025e5119": {
      "model_module": "@jupyter-widgets/base",
      "model_module_version": "1.2.0",
      "model_name": "LayoutModel",
      "state": {
       "display": "none",
       "grid_area": "filename",
       "width": "auto"
      }
     },
     "203f12060a7a4e749fdf60cd0d45bdb2": {
      "model_module": "@jupyter-widgets/controls",
      "model_module_version": "1.5.0",
      "model_name": "ToggleButtonModel",
      "state": {
       "layout": "IPY_MODEL_c746042fd1c445b89ac4e919bed1ab22",
       "style": "IPY_MODEL_578a17da8f244cb8978101411baf3352"
      }
     },
     "20f433a1fe00480594808f7041ab4c24": {
      "model_module": "@jupyter-widgets/controls",
      "model_module_version": "1.5.0",
      "model_name": "SelectModel",
      "state": {
       "_options_labels": [
        "..",
        "Temp",
        "FlinFlon.geoh5",
        "Inversion_.json",
        "MtDore_TMI.geoh5"
       ],
       "index": 2,
       "layout": "IPY_MODEL_9b22a086fc3f46f388fc7079528807f2",
       "rows": 8,
       "style": "IPY_MODEL_0e6c4aff9a9140e9bf4317ebeda401ef"
      }
     },
     "21058900b090449a882fe48ceda1ac6c": {
      "model_module": "@jupyter-widgets/base",
      "model_module_version": "1.2.0",
      "model_name": "LayoutModel",
      "state": {}
     },
     "226cd83640344409b70742535dc69dd0": {
      "model_module": "@jupyter-widgets/controls",
      "model_module_version": "1.5.0",
      "model_name": "HTMLModel",
      "state": {
       "layout": "IPY_MODEL_ddf7e8f43ee44342b0b70cef61a004e5",
       "placeholder": "",
       "style": "IPY_MODEL_96cb350aaa644525aeab827a33567d06",
       "value": "<span style=\"margin-left:10px; color:orange;\">C:\\Users\\dominiquef\\Documents\\GIT\\mira\\mirageoscience-apps\\assets\\FlinFlon.geoh5</span>"
      }
     },
     "22c33294e6cb4f1384180f1b1b5f2d21": {
      "model_module": "@jupyter-widgets/base",
      "model_module_version": "1.2.0",
      "model_name": "LayoutModel",
      "state": {
       "display": "none",
       "grid_gap": "0px 0px",
       "grid_template_areas": "\n                    'pathlist filename'\n                    'dircontent dircontent'\n                    ",
       "grid_template_columns": "60% 40%",
       "grid_template_rows": "auto auto",
       "width": "500px"
      }
     },
     "2305327f52114c34ae77382fc5820e9d": {
      "model_module": "@jupyter-widgets/base",
      "model_module_version": "1.2.0",
      "model_name": "LayoutModel",
      "state": {}
     },
     "23815d8940594198a624f7edb6cb8438": {
      "model_module": "@jupyter-widgets/base",
      "model_module_version": "1.2.0",
      "model_name": "LayoutModel",
      "state": {
       "width": "auto"
      }
     },
     "238e682b855541aebd5888a32700680b": {
      "model_module": "@jupyter-widgets/controls",
      "model_module_version": "1.5.0",
      "model_name": "GridBoxModel",
      "state": {
       "children": [
        "IPY_MODEL_6af3f88544ca49d08857f09a92e04e0a",
        "IPY_MODEL_148c06f07f9b40da9f0e6301680c0d69",
        "IPY_MODEL_c51da2737c804b0f8650f36e320cbd73"
       ],
       "layout": "IPY_MODEL_3335221da7c9493391313413e55648bc"
      }
     },
     "23ee6d99520046349d2be6f9c5d799cc": {
      "model_module": "@jupyter-widgets/base",
      "model_module_version": "1.2.0",
      "model_name": "LayoutModel",
      "state": {
       "display": "none",
       "width": "auto"
      }
     },
     "243041e2017b4bd595aa9f31432e3600": {
      "model_module": "@jupyter-widgets/base",
      "model_module_version": "1.2.0",
      "model_name": "LayoutModel",
      "state": {
       "width": "50%"
      }
     },
     "24807bf277604fe08fad50920be38e3c": {
      "model_module": "@jupyter-widgets/controls",
      "model_module_version": "1.5.0",
      "model_name": "VBoxModel",
      "state": {
       "children": [
        "IPY_MODEL_4e5d21898bc94c449d29efefee2daf75",
        "IPY_MODEL_4e306d7767b54a339401903b2ef173b7"
       ],
       "layout": "IPY_MODEL_e521ee43b67843fdba5bc78c4a9c4b1d"
      }
     },
     "24dc95ba80104459a2abd7e8f7806a01": {
      "model_module": "@jupyter-widgets/base",
      "model_module_version": "1.2.0",
      "model_name": "LayoutModel",
      "state": {}
     },
     "25844f682e414be9b72331f0b28cff0b": {
      "model_module": "@jupyter-widgets/controls",
      "model_module_version": "1.5.0",
      "model_name": "ButtonStyleModel",
      "state": {}
     },
     "264b399cc4e64104bb06e96457267198": {
      "model_module": "@jupyter-widgets/controls",
      "model_module_version": "1.5.0",
      "model_name": "DescriptionStyleModel",
      "state": {
       "description_width": "initial"
      }
     },
     "270f220abffe4ed0b7552d93f7be27b3": {
      "model_module": "@jupyter-widgets/controls",
      "model_module_version": "1.5.0",
      "model_name": "VBoxModel",
      "state": {
       "children": [
        "IPY_MODEL_acd24246d17945ecaa73235506bc03ff",
        "IPY_MODEL_95fbf7662005494a8d2911d6f484624a"
       ],
       "layout": "IPY_MODEL_7472a4c6b7fb4a5d9a7e53ba2100adfc"
      }
     },
     "290f2fb98eae4485927339e7e1560ddc": {
      "model_module": "@jupyter-widgets/controls",
      "model_module_version": "1.5.0",
      "model_name": "VBoxModel",
      "state": {
       "children": [
        "IPY_MODEL_91bcf69eb5154b65b0b5d1c4ae7e172a",
        "IPY_MODEL_41eb8d87a3d14360a094c5b6fe57cf90"
       ],
       "layout": "IPY_MODEL_6be3b5b86e5b4d18b4aac731d51e78ac"
      }
     },
     "29ef5040bc7541deb12795245efdb887": {
      "model_module": "@jupyter-widgets/controls",
      "model_module_version": "1.5.0",
      "model_name": "VBoxModel",
      "state": {
       "children": [
        "IPY_MODEL_91bcf69eb5154b65b0b5d1c4ae7e172a",
        "IPY_MODEL_31c2001cb15743a9a994184831f08d06",
        "IPY_MODEL_5cd043eecc8b455da74bc7897a2e41f8",
        "IPY_MODEL_5a30b67e8e694720860a04eb27258a8c",
        "IPY_MODEL_41eb8d87a3d14360a094c5b6fe57cf90"
       ],
       "layout": "IPY_MODEL_b36db5038836434395744a8d2c06f62c"
      }
     },
     "2b41b6a879a04915a1cf477161b11609": {
      "model_module": "@jupyter-widgets/controls",
      "model_module_version": "1.5.0",
      "model_name": "DropdownModel",
      "state": {
       "_options_labels": [
        "C:\\Users\\dominiquef\\Documents\\GIT\\mira\\mirageoscience-apps\\assets",
        "C:\\Users\\dominiquef\\Documents\\GIT\\mira\\mirageoscience-apps",
        "C:\\Users\\dominiquef\\Documents\\GIT\\mira",
        "C:\\Users\\dominiquef\\Documents\\GIT",
        "C:\\Users\\dominiquef\\Documents",
        "C:\\Users\\dominiquef",
        "C:\\Users",
        "C:\\",
        "D:\\",
        "Z:\\"
       ],
       "index": 0,
       "layout": "IPY_MODEL_55c706b86f2346fcad24e682ab840f43",
       "style": "IPY_MODEL_88890a8b3e8a4330af8e6e7685efc004"
      }
     },
     "2dab37360ab143e393dde6bbe3675584": {
      "model_module": "@jupyter-widgets/controls",
      "model_module_version": "1.5.0",
      "model_name": "DescriptionStyleModel",
      "state": {
       "description_width": "initial"
      }
     },
     "2dd4b1224cfd4ae7bfd844862a8601f5": {
      "model_module": "@jupyter-widgets/base",
      "model_module_version": "1.2.0",
      "model_name": "LayoutModel",
      "state": {
       "display": "none"
      }
     },
     "2de8cf33d46746f6b570418d2642edb4": {
      "model_module": "@jupyter-widgets/base",
      "model_module_version": "1.2.0",
      "model_name": "LayoutModel",
      "state": {}
     },
     "2df38dd021124f29a8056e1e307697cd": {
      "model_module": "@jupyter-widgets/base",
      "model_module_version": "1.2.0",
      "model_name": "LayoutModel",
      "state": {
       "width": "auto"
      }
     },
     "2e33fb1b039a4bb383dcd79556f0f46d": {
      "model_module": "@jupyter-widgets/base",
      "model_module_version": "1.2.0",
      "model_name": "LayoutModel",
      "state": {}
     },
     "2f4e633c55424074a774b3dc2b3ff78e": {
      "model_module": "@jupyter-widgets/base",
      "model_module_version": "1.2.0",
      "model_name": "LayoutModel",
      "state": {}
     },
     "2f573c64e22f457cba706ec3b715c8d4": {
      "model_module": "@jupyter-widgets/controls",
      "model_module_version": "1.5.0",
      "model_name": "DescriptionStyleModel",
      "state": {
       "description_width": ""
      }
     },
     "30af92498c344ea99c734bc8c20a7cdd": {
      "model_module": "@jupyter-widgets/base",
      "model_module_version": "1.2.0",
      "model_name": "LayoutModel",
      "state": {}
     },
     "30d5d5cf01d6448dac9e9ec204ee749f": {
      "model_module": "@jupyter-widgets/controls",
      "model_module_version": "1.5.0",
      "model_name": "ButtonStyleModel",
      "state": {}
     },
     "31acc9ccfd4e47ae8facf5b8c5f959bf": {
      "model_module": "@jupyter-widgets/controls",
      "model_module_version": "1.5.0",
      "model_name": "ButtonStyleModel",
      "state": {}
     },
     "31c2001cb15743a9a994184831f08d06": {
      "model_module": "@jupyter-widgets/controls",
      "model_module_version": "1.5.0",
      "model_name": "SelectMultipleModel",
      "state": {
       "_options_labels": [
        "",
        "Gravity_Magnetics_drape60mEPSG_4326",
        "Gravity_Magnetics_drape60mEPSG_4326",
        "Gravity_Magnetics_drape60mEPSG_4326",
        "Data_TEM_pseudo3DEPSG_4326",
        "Data_TEM_pseudo3D",
        "Gravity_Magnetics_drape60mEPSG_4326",
        "Data_TEM_pseudo3DEPSG_4326",
        "Gravity_Magnetics_drape60mEPSG_4326",
        "Data_TEM_pseudo3DEPSG_4326",
        "Data_TEM_pseudo3D",
        "Gravity_Magnetics_drape60mEPSG_4326",
        "fault_splay1",
        "fault_Cliff_Lake",
        "fault_Other_FlinFlon",
        "fault_Club_Lake_splay",
        "fault_Catherine_splay2",
        "fault_Birch_View",
        "fault_Dion_Lake",
        "fault_FlinFlon_splay",
        "fault_West_Mandy_Road",
        "fault_Channing",
        "fault_Ross_Lake",
        "fault_Louis_Hidden",
        "fault_Lake_View_thrust",
        "contact_Schist_Lake",
        "fault_Burley_Lake",
        "fault_Dion_Lake_splay",
        "fault_Green_Lake",
        "fault_FlinFlon",
        "fault_Catherine_splay1",
        "fault_East_Mandy_Road",
        "fault_Other_FlinFlon_South",
        "fault_Catherine_splay4",
        "contact_Stitt_Island",
        "fault_Club_Lake",
        "fault_Tailing_Pond",
        "35_Hidden_Reservoir_Hr5",
        "29_Hidden_Reservoir_Hr1a",
        "60_BlueLagoon_Fb2",
        "20_FlinFlon_Undivided_Int_Dykes_D2f",
        "04_Boundary_Intrusive_S4h",
        "53_Millrock_Rhyolite_Fm4b",
        "19_FlinFlon_Undivided_Int_Dykes_D2b",
        "18_FlinFlon_Undivided_Int_Dykes_777_D2b",
        "06_Phantom_Lake_Intrusive_S3a",
        "21_FlinFlon_Undivided_Int_Dykes_D3a",
        "43_Millrock_CHLSH_South",
        "56_Millrock_Basalt_Fm1ba",
        "17_FlinFlon_Undivided_Int_Dykes_D2",
        "32_Hidden_Reservoir_Hr1b_SW",
        "11_Missi_M3_NE",
        "13_Missi_M1",
        "07_Annabel_Granitoid_S1",
        "45_Millrock_Gabbro_South",
        "01_Late_Intrusive_S5b",
        "31_Hidden_Reservoir_Hr1c_SW",
        "52_Millrock_Rhyolite_Fm4_West_check",
        "55_Millrock_Basalt_Fm1bf",
        "34_Hidden_Reservoir_Hr2b",
        "03_Boundary_Intrusive_S4b",
        "42_Millrock_CHLSH_North",
        "26_Louis_L3",
        "23_FlinFlon_Undivided_Int_Felsic_D4g",
        "30_Hidden_Reservoir_Hr1b",
        "59_BlueLagoon_Fb3",
        "49_Millrock_MVR_Fm5d",
        "44_Millrock_Gabbro_North",
        "27_Hidden_Carlisle_Hc4",
        "22_FlinFlon_Undivided_Int_Felsic_D4e",
        "02_Boundary_Intrusive_S4a",
        "61_BlueLagoon_Fb1_NW",
        "05_Boundary_Intrusive_S4g",
        "39_Ore_Callinan",
        "38_Ore_Dan_Owens",
        "40_Ore_FlinFlon",
        "Inversion_VTEM_Model",
        "Gravity_Magnetics_drape60m",
        "CDI_VTEM_model",
        "Data_FEM_pseudo3D",
        "geochem",
        "Inversion_DIGHEM_Model",
        "Topography",
        "Data_TEM_pseudo3D"
       ],
       "description": "Object:",
       "index": [
        77,
        5
       ],
       "layout": "IPY_MODEL_1cd588adc7244255b0d45279bc96ffc2",
       "rows": 5,
       "style": "IPY_MODEL_9ef8f09b125749729228e38a6a59bd2c"
      }
     },
     "32a0e733a0764aa88d7841ce63182fcc": {
      "model_module": "@jupyter-widgets/base",
      "model_module_version": "1.2.0",
      "model_name": "LayoutModel",
      "state": {
       "display": "none",
       "width": "auto"
      }
     },
     "333461931755440992f7458d12210394": {
      "model_module": "@jupyter-widgets/controls",
      "model_module_version": "1.5.0",
      "model_name": "DescriptionStyleModel",
      "state": {
       "description_width": ""
      }
     },
     "3335221da7c9493391313413e55648bc": {
      "model_module": "@jupyter-widgets/base",
      "model_module_version": "1.2.0",
      "model_name": "LayoutModel",
      "state": {
       "display": "none",
       "grid_gap": "0px 0px",
       "grid_template_areas": "\n                    'pathlist pathlist'\n                    'dircontent dircontent'\n                    ",
       "grid_template_columns": "60% 40%",
       "grid_template_rows": "auto auto",
       "width": "500px"
      }
     },
     "33d7cc09f55942688ffc7033dce911cf": {
      "model_module": "@jupyter-widgets/base",
      "model_module_version": "1.2.0",
      "model_name": "LayoutModel",
      "state": {
       "grid_area": "pathlist",
       "width": "auto"
      }
     },
     "34374db756c149f6ba477822897d2fea": {
      "model_module": "@jupyter-widgets/controls",
      "model_module_version": "1.5.0",
      "model_name": "GridBoxModel",
      "state": {
       "children": [
        "IPY_MODEL_b22bee4ea0214322b51aa40658b79c04",
        "IPY_MODEL_0812eac65cf34d37bc9e6b32b7a2abd6",
        "IPY_MODEL_d0abd31c947f4e57b4db964d08e7afd5"
       ],
       "layout": "IPY_MODEL_22c33294e6cb4f1384180f1b1b5f2d21"
      }
     },
     "34e0064215e045d1abecf0b2a772e17d": {
      "model_module": "@jupyter-widgets/controls",
      "model_module_version": "1.5.0",
      "model_name": "GridBoxModel",
      "state": {
       "children": [
        "IPY_MODEL_c20caf81f57c44a996cc8f9764f982d4",
        "IPY_MODEL_98515a472dc14ff3aa9fb17b5be7d308",
        "IPY_MODEL_20f433a1fe00480594808f7041ab4c24"
       ],
       "layout": "IPY_MODEL_1442105fa18349bcb6735efe212b9690"
      }
     },
     "352ab9e6bc0a4d1ab5a19328f4a10114": {
      "model_module": "@jupyter-widgets/controls",
      "model_module_version": "1.5.0",
      "model_name": "HTMLModel",
      "state": {
       "layout": "IPY_MODEL_4939f2420d4f4bd08ed557bfaecb6f72",
       "placeholder": "",
       "style": "IPY_MODEL_c029f89411ee40c39bb5bb59372abeb2",
       "value": "<span style=\"margin-left:10px; color:black;\">No file selected</span>"
      }
     },
     "356692f4e98a404eb923eeae84eb4b16": {
      "model_module": "@jupyter-widgets/base",
      "model_module_version": "1.2.0",
      "model_name": "LayoutModel",
      "state": {}
     },
     "3610bf9ad5bb4d1086caa109b341b1e5": {
      "model_module": "@jupyter-widgets/controls",
      "model_module_version": "1.5.0",
      "model_name": "DescriptionStyleModel",
      "state": {
       "description_width": ""
      }
     },
     "373854ad31cc492aadd14171cc8eb67b": {
      "model_module": "@jupyter-widgets/base",
      "model_module_version": "1.2.0",
      "model_name": "LayoutModel",
      "state": {}
     },
     "38013ee9648b43549bbcbb6afe6f79ba": {
      "model_module": "@jupyter-widgets/controls",
      "model_module_version": "1.5.0",
      "model_name": "ToggleButtonModel",
      "state": {
       "layout": "IPY_MODEL_cee66ccb19904172b3dc630eff941368",
       "style": "IPY_MODEL_9ed1d99badbe48e8a28448ae5c250ec4"
      }
     },
     "396f46bc8a384af3a22a57fbe503ab2a": {
      "model_module": "@jupyter-widgets/base",
      "model_module_version": "1.2.0",
      "model_name": "LayoutModel",
      "state": {}
     },
     "399c56e3b8e64aa286c218c73081e757": {
      "model_module": "@jupyter-widgets/base",
      "model_module_version": "1.2.0",
      "model_name": "LayoutModel",
      "state": {
       "display": "none",
       "grid_gap": "0px 0px",
       "grid_template_areas": "\n                    'pathlist filename'\n                    'dircontent dircontent'\n                    ",
       "grid_template_columns": "60% 40%",
       "grid_template_rows": "auto auto",
       "width": "500px"
      }
     },
     "39da38b371a848c294b2ba2adf82752b": {
      "model_module": "@jupyter-widgets/base",
      "model_module_version": "1.2.0",
      "model_name": "LayoutModel",
      "state": {
       "display": "none",
       "grid_gap": "0px 0px",
       "grid_template_areas": "\n                    'pathlist pathlist'\n                    'dircontent dircontent'\n                    ",
       "grid_template_columns": "60% 40%",
       "grid_template_rows": "auto auto",
       "width": "500px"
      }
     },
     "3a85da08feb04325b97d885641c79e30": {
      "model_module": "@jupyter-widgets/controls",
      "model_module_version": "1.5.0",
      "model_name": "HBoxModel",
      "state": {
       "children": [
        "IPY_MODEL_e4d2fd942ec9481a91a9316251021e0a",
        "IPY_MODEL_3d1f908da7dd4de49a6938c018471e12"
       ],
       "layout": "IPY_MODEL_48f475740fca447697e81a94089624e5"
      }
     },
     "3b82e538fb8143898c7bff1a6b53194a": {
      "model_module": "@jupyter-widgets/base",
      "model_module_version": "1.2.0",
      "model_name": "LayoutModel",
      "state": {}
     },
     "3bd1ac7f764a4c638e840e821fb3d980": {
      "model_module": "@jupyter-widgets/controls",
      "model_module_version": "1.5.0",
      "model_name": "ButtonStyleModel",
      "state": {}
     },
     "3be13cbc770441bf8a7e927f66c6361d": {
      "model_module": "@jupyter-widgets/base",
      "model_module_version": "1.2.0",
      "model_name": "LayoutModel",
      "state": {}
     },
     "3bf6107e29a34dc99b878d4828f1a183": {
      "model_module": "@jupyter-widgets/controls",
      "model_module_version": "1.5.0",
      "model_name": "DescriptionStyleModel",
      "state": {
       "description_width": ""
      }
     },
     "3d140467081149999f4ae969d3250bbe": {
      "model_module": "@jupyter-widgets/controls",
      "model_module_version": "1.5.0",
      "model_name": "DescriptionStyleModel",
      "state": {
       "description_width": ""
      }
     },
     "3d1f908da7dd4de49a6938c018471e12": {
      "model_module": "@jupyter-widgets/controls",
      "model_module_version": "1.5.0",
      "model_name": "TextareaModel",
      "state": {
       "description": "<=> WKT",
       "layout": "IPY_MODEL_9840218bd0dc4cc6bef85bc2dd64ddce",
       "style": "IPY_MODEL_d9fbb1b44c2e456eba79595f3eac35d4",
       "value": "PROJCS[\"NAD83 / UTM zone 14N\",GEOGCS[\"NAD83\",DATUM[\"North_American_Datum_1983\",SPHEROID[\"GRS 1980\",6378137,298.257222101,AUTHORITY[\"EPSG\",\"7019\"]],AUTHORITY[\"EPSG\",\"6269\"]],PRIMEM[\"Greenwich\",0,AUTHORITY[\"EPSG\",\"8901\"]],UNIT[\"degree\",0.0174532925199433,AUTHORITY[\"EPSG\",\"9122\"]],AUTHORITY[\"EPSG\",\"4269\"]],PROJECTION[\"Transverse_Mercator\"],PARAMETER[\"latitude_of_origin\",0],PARAMETER[\"central_meridian\",-99],PARAMETER[\"scale_factor\",0.9996],PARAMETER[\"false_easting\",500000],PARAMETER[\"false_northing\",0],UNIT[\"metre\",1,AUTHORITY[\"EPSG\",\"9001\"]],AXIS[\"Easting\",EAST],AXIS[\"Northing\",NORTH],AUTHORITY[\"EPSG\",\"26914\"]]"
      }
     },
     "3d2d83454a5c4abea4328b45c718977c": {
      "model_module": "@jupyter-widgets/base",
      "model_module_version": "1.2.0",
      "model_name": "LayoutModel",
      "state": {
       "width": "auto"
      }
     },
     "3dac06a0e78f48809e37eaca139daa7f": {
      "model_module": "@jupyter-widgets/base",
      "model_module_version": "1.2.0",
      "model_name": "LayoutModel",
      "state": {}
     },
     "3ef82dc1c08b47b0b3e8ae1523472419": {
      "model_module": "@jupyter-widgets/base",
      "model_module_version": "1.2.0",
      "model_name": "LayoutModel",
      "state": {}
     },
     "4149ff5cfb8b41a0b7fbd93a0c233414": {
      "model_module": "@jupyter-widgets/base",
      "model_module_version": "1.2.0",
      "model_name": "LayoutModel",
      "state": {
       "display": "none",
       "grid_area": "filename",
       "width": "auto"
      }
     },
     "41adb9190b434bceaa2b015c974cc136": {
      "model_module": "@jupyter-widgets/controls",
      "model_module_version": "1.5.0",
      "model_name": "ButtonModel",
      "state": {
       "description": "Cancel",
       "layout": "IPY_MODEL_a07007fc0572420599723beb5cbedace",
       "style": "IPY_MODEL_d11cb59231dd469f80c1487d2a242f7a"
      }
     },
     "41eb8d87a3d14360a094c5b6fe57cf90": {
      "model_module": "@jupyter-widgets/controls",
      "model_module_version": "1.5.0",
      "model_name": "VBoxModel",
      "state": {
       "children": [
        "IPY_MODEL_839ada38ab5742bbb0f844a07bb9718c",
        "IPY_MODEL_8a2588b12ba34e419d9f78224fd37028"
       ],
       "layout": "IPY_MODEL_8275a5fae72244369a11c7cf9e82e0a0"
      }
     },
     "436199b2dea64bdfb62a419ba3521b97": {
      "model_module": "@jupyter-widgets/controls",
      "model_module_version": "1.5.0",
      "model_name": "DropdownModel",
      "state": {
       "_options_labels": [
        "C:\\Users\\dominiquef\\Documents\\GIT\\mira\\mirageoscience-apps\\docs\\content\\applications",
        "C:\\Users\\dominiquef\\Documents\\GIT\\mira\\mirageoscience-apps\\docs\\content",
        "C:\\Users\\dominiquef\\Documents\\GIT\\mira\\mirageoscience-apps\\docs",
        "C:\\Users\\dominiquef\\Documents\\GIT\\mira\\mirageoscience-apps",
        "C:\\Users\\dominiquef\\Documents\\GIT\\mira",
        "C:\\Users\\dominiquef\\Documents\\GIT",
        "C:\\Users\\dominiquef\\Documents",
        "C:\\Users\\dominiquef",
        "C:\\Users",
        "C:\\",
        "D:\\",
        "Z:\\"
       ],
       "index": 0,
       "layout": "IPY_MODEL_c6332b5afdca4837a6511fdf94e03d63",
       "style": "IPY_MODEL_d5b31ca4ba414581b6f39c50ba1c2f83"
      }
     },
     "44907c3f85584c9db194702bc2ad1b60": {
      "model_module": "@jupyter-widgets/controls",
      "model_module_version": "1.5.0",
      "model_name": "ButtonModel",
      "state": {
       "button_style": "danger",
       "description": "Compute",
       "icon": "check",
       "layout": "IPY_MODEL_4bfe6f1548ee4d51a538c61a90efe695",
       "style": "IPY_MODEL_e51b5964f01847aa8cefc3a82b874799",
       "tooltip": "Run computation"
      }
     },
     "44e4178bca724a859b5aaf5ee6c6a8ee": {
      "model_module": "@jupyter-widgets/controls",
      "model_module_version": "1.5.0",
      "model_name": "HBoxModel",
      "state": {
       "children": [
        "IPY_MODEL_b6385c8a37ed41298eb3f02dc8b64b57",
        "IPY_MODEL_9c9ed52896324b89baccc31169abcfc1"
       ],
       "layout": "IPY_MODEL_d9a9976375ca4ae988112149360885f7"
      }
     },
     "45fd83bae49b4c58aa7d824bdc82570d": {
      "model_module": "@jupyter-widgets/controls",
      "model_module_version": "1.5.0",
      "model_name": "ButtonStyleModel",
      "state": {}
     },
     "4693df186635442982a52d623bdd36a1": {
      "model_module": "@jupyter-widgets/base",
      "model_module_version": "1.2.0",
      "model_name": "LayoutModel",
      "state": {}
     },
     "46a1e94d54f246398c7691a8a5d26de5": {
      "model_module": "@jupyter-widgets/controls",
      "model_module_version": "1.5.0",
      "model_name": "ButtonModel",
      "state": {
       "description": "Create copy:",
       "layout": "IPY_MODEL_0a7f8c09c5fb4bfc8c7e879922dc63ff",
       "style": "IPY_MODEL_fd31e0b8c4d1481396eb2b661cbd3e81"
      }
     },
     "46ab1d1026394b6889945386004c1bb6": {
      "model_module": "@jupyter-widgets/base",
      "model_module_version": "1.2.0",
      "model_name": "LayoutModel",
      "state": {
       "grid_area": "pathlist",
       "width": "auto"
      }
     },
     "48647ee5b3b64287b686d9d2b2170b54": {
      "model_module": "@jupyter-widgets/controls",
      "model_module_version": "1.5.0",
      "model_name": "HBoxModel",
      "state": {
       "children": [
        "IPY_MODEL_90e7830d706344ca9d9303e687b9a31b",
        "IPY_MODEL_91870fe89f804482abafac44dcbf6778",
        "IPY_MODEL_c46af7523b294cafa3de2bafbb90dc6f"
       ],
       "layout": "IPY_MODEL_23815d8940594198a624f7edb6cb8438"
      }
     },
     "48b246f02f4f4dc68fbbeed6c4518341": {
      "model_module": "@jupyter-widgets/controls",
      "model_module_version": "1.5.0",
      "model_name": "GridBoxModel",
      "state": {
       "children": [
        "IPY_MODEL_436199b2dea64bdfb62a419ba3521b97",
        "IPY_MODEL_80f7a280eb7640c19c8d914747d4676c",
        "IPY_MODEL_933b32df61224e089e88bfbecd084a4a"
       ],
       "layout": "IPY_MODEL_b2282a1265c24b829840f6322cc45bee"
      }
     },
     "48f475740fca447697e81a94089624e5": {
      "model_module": "@jupyter-widgets/base",
      "model_module_version": "1.2.0",
      "model_name": "LayoutModel",
      "state": {}
     },
     "4939f2420d4f4bd08ed557bfaecb6f72": {
      "model_module": "@jupyter-widgets/base",
      "model_module_version": "1.2.0",
      "model_name": "LayoutModel",
      "state": {}
     },
     "49c28dd3d277453fbdc7f599719f6983": {
      "model_module": "@jupyter-widgets/controls",
      "model_module_version": "1.5.0",
      "model_name": "DescriptionStyleModel",
      "state": {
       "description_width": "initial"
      }
     },
     "49d352345d1e4c55b4ec3f0355cad398": {
      "model_module": "@jupyter-widgets/controls",
      "model_module_version": "1.5.0",
      "model_name": "ButtonModel",
      "state": {
       "description": "Create copy:",
       "layout": "IPY_MODEL_bfbb7d02db0f414783ebf638bec9ec55",
       "style": "IPY_MODEL_86793ad31b4347e0b850b7d31cc6a206"
      }
     },
     "49eeb0ed332f42779a95c6617531466e": {
      "model_module": "@jupyter-widgets/controls",
      "model_module_version": "1.5.0",
      "model_name": "TextareaModel",
      "state": {
       "description": "<=> WKT",
       "layout": "IPY_MODEL_057131c7694f4ba4b01fc69f69a2a1c3",
       "style": "IPY_MODEL_ebfbe6d7179445489d67a1c5fb8fcbeb",
       "value": "GEOGCS[\"WGS 84\",DATUM[\"WGS_1984\",SPHEROID[\"WGS 84\",6378137,298.257223563,AUTHORITY[\"EPSG\",\"7030\"]],AUTHORITY[\"EPSG\",\"6326\"]],PRIMEM[\"Greenwich\",0,AUTHORITY[\"EPSG\",\"8901\"]],UNIT[\"degree\",0.0174532925199433,AUTHORITY[\"EPSG\",\"9122\"]],AXIS[\"Latitude\",NORTH],AXIS[\"Longitude\",EAST],AUTHORITY[\"EPSG\",\"4326\"]]"
      }
     },
     "4a16221c79744aaf87627594b7f6bf88": {
      "model_module": "@jupyter-widgets/controls",
      "model_module_version": "1.5.0",
      "model_name": "DropdownModel",
      "state": {
       "_options_labels": [
        "C:\\Users\\dominiquef\\Documents\\GIT\\mira\\mirageoscience-apps\\docs\\content\\applications",
        "C:\\Users\\dominiquef\\Documents\\GIT\\mira\\mirageoscience-apps\\docs\\content",
        "C:\\Users\\dominiquef\\Documents\\GIT\\mira\\mirageoscience-apps\\docs",
        "C:\\Users\\dominiquef\\Documents\\GIT\\mira\\mirageoscience-apps",
        "C:\\Users\\dominiquef\\Documents\\GIT\\mira",
        "C:\\Users\\dominiquef\\Documents\\GIT",
        "C:\\Users\\dominiquef\\Documents",
        "C:\\Users\\dominiquef",
        "C:\\Users",
        "C:\\",
        "D:\\",
        "Z:\\"
       ],
       "index": 0,
       "layout": "IPY_MODEL_46ab1d1026394b6889945386004c1bb6",
       "style": "IPY_MODEL_8e4ac35a25bb414880217be37f2d5fc0"
      }
     },
     "4a3faf9199e74b4fb0787dc0a7ad9649": {
      "model_module": "@jupyter-widgets/controls",
      "model_module_version": "1.5.0",
      "model_name": "GridBoxModel",
      "state": {
       "children": [
        "IPY_MODEL_2b41b6a879a04915a1cf477161b11609",
        "IPY_MODEL_1b126143f3c04c4491b50fdead0fdf8b",
        "IPY_MODEL_c40ec656489440349f9a500a5d9f0f08"
       ],
       "layout": "IPY_MODEL_399c56e3b8e64aa286c218c73081e757"
      }
     },
     "4a42ed7fdcea4c3493b3b2da10e8471f": {
      "model_module": "@jupyter-widgets/controls",
      "model_module_version": "1.5.0",
      "model_name": "HBoxModel",
      "state": {
       "children": [
        "IPY_MODEL_effa045c28cb41969dfc5c271d4a5175",
        "IPY_MODEL_a7d482e3cd654a25af0d2c5d17691f00",
        "IPY_MODEL_dccb8fa05e914c88b9ecb7d049ffddf5"
       ],
       "layout": "IPY_MODEL_f5b3a32a129a4e268ae2d28898c2d6c5"
      }
     },
     "4b0e04428c964e16803de82051359480": {
      "model_module": "@jupyter-widgets/base",
      "model_module_version": "1.2.0",
      "model_name": "LayoutModel",
      "state": {
       "grid_area": "dircontent",
       "width": "auto"
      }
     },
     "4bb36d8a0c3e426d80a2a56b27e60b80": {
      "model_module": "@jupyter-widgets/base",
      "model_module_version": "1.2.0",
      "model_name": "LayoutModel",
      "state": {
       "display": "none",
       "width": "auto"
      }
     },
     "4bfe6f1548ee4d51a538c61a90efe695": {
      "model_module": "@jupyter-widgets/base",
      "model_module_version": "1.2.0",
      "model_name": "LayoutModel",
      "state": {}
     },
     "4cffbb09a41c44009a0509815dc8c7dc": {
      "model_module": "@jupyter-widgets/controls",
      "model_module_version": "1.5.0",
      "model_name": "HBoxModel",
      "state": {
       "children": [
        "IPY_MODEL_76da1ca896054c86883df28864d0ac67",
        "IPY_MODEL_41adb9190b434bceaa2b015c974cc136",
        "IPY_MODEL_8f5b32856a8442ccbc34e031a5ba9de5"
       ],
       "layout": "IPY_MODEL_7311f74c66d64fefa9db17fbc4d35daf"
      }
     },
     "4de7a45498c8478daf100b1663dcd1b7": {
      "model_module": "@jupyter-widgets/controls",
      "model_module_version": "1.5.0",
      "model_name": "GridBoxModel",
      "state": {
       "children": [
        "IPY_MODEL_6f00b19cf33441f0aebb59ae98c7ae41",
        "IPY_MODEL_5a5070a47fd940c49295455c339e6ef2",
        "IPY_MODEL_8b311c2edbe84961b9127093b3908426"
       ],
       "layout": "IPY_MODEL_17ac36700a2b40d080efb1cb250ec9e8"
      }
     },
     "4e306d7767b54a339401903b2ef173b7": {
      "model_module": "@jupyter-widgets/controls",
      "model_module_version": "1.5.0",
      "model_name": "VBoxModel",
      "state": {
       "children": [
        "IPY_MODEL_fc971d6dffee40eeabe103f4df9e4551"
       ],
       "layout": "IPY_MODEL_a53fa8bd5b7e478281cb385995f62a58"
      }
     },
     "4e5d21898bc94c449d29efefee2daf75": {
      "model_module": "@jupyter-widgets/controls",
      "model_module_version": "1.5.0",
      "model_name": "VBoxModel",
      "state": {
       "children": [
        "IPY_MODEL_9273caed810e4b5393e89395c629f0e6",
        "IPY_MODEL_7919d6c723634abbb614dbd5207ca5d3"
       ],
       "layout": "IPY_MODEL_9ab71863e2e44782936b676259e7496f"
      }
     },
     "4e6bb031b725472dbbce30b4f51b00ea": {
      "model_module": "@jupyter-widgets/base",
      "model_module_version": "1.2.0",
      "model_name": "LayoutModel",
      "state": {
       "width": "auto"
      }
     },
     "4e819ba0e6e34b7f8613b1bd94e0556e": {
      "model_module": "@jupyter-widgets/controls",
      "model_module_version": "1.5.0",
      "model_name": "DescriptionStyleModel",
      "state": {
       "description_width": "initial"
      }
     },
     "4f4932059d504b78b457181b757a626b": {
      "model_module": "@jupyter-widgets/controls",
      "model_module_version": "1.5.0",
      "model_name": "VBoxModel",
      "state": {
       "children": [
        "IPY_MODEL_61aa6fd634f1485ebd1b4b57073ecbcb",
        "IPY_MODEL_a849c46145564d53b577c269a841604f"
       ],
       "layout": "IPY_MODEL_373854ad31cc492aadd14171cc8eb67b"
      }
     },
     "50b578d06b1943ea941a15e38d9601a2": {
      "model_module": "@jupyter-widgets/base",
      "model_module_version": "1.2.0",
      "model_name": "LayoutModel",
      "state": {
       "width": "auto"
      }
     },
     "5154af184f50482491ced6db7dcb5597": {
      "model_module": "@jupyter-widgets/base",
      "model_module_version": "1.2.0",
      "model_name": "LayoutModel",
      "state": {}
     },
     "51683a9fcca14535ace1e05cbf00122a": {
      "model_module": "@jupyter-widgets/controls",
      "model_module_version": "1.5.0",
      "model_name": "HTMLModel",
      "state": {
       "layout": "IPY_MODEL_cf4572e8d2f4478f820b681b89d62411",
       "placeholder": "",
       "style": "IPY_MODEL_f6b3bbd921e9419ebcd36ee71c2a4176",
       "value": "<span style=\"margin-left:10px; color:orange;\">C:\\Users\\dominiquef\\Documents\\GIT\\mira\\mirageoscience-apps\\assets\\FlinFlon.geoh5</span>"
      }
     },
     "5203dcf029c244748a52dd1e5249ee66": {
      "model_module": "@jupyter-widgets/controls",
      "model_module_version": "1.5.0",
      "model_name": "DescriptionStyleModel",
      "state": {
       "description_width": ""
      }
     },
     "526bb7143eb74141b88593053cf8b0da": {
      "model_module": "@jupyter-widgets/base",
      "model_module_version": "1.2.0",
      "model_name": "LayoutModel",
      "state": {
       "width": "auto"
      }
     },
     "548b1930f42e4e09aaa55345ebece949": {
      "model_module": "@jupyter-widgets/base",
      "model_module_version": "1.2.0",
      "model_name": "LayoutModel",
      "state": {}
     },
     "54c4f869d8c74cf8a6084ee8c496535e": {
      "model_module": "@jupyter-widgets/controls",
      "model_module_version": "1.5.0",
      "model_name": "CheckboxModel",
      "state": {
       "description": "GA Pro - Live link",
       "disabled": false,
       "indent": false,
       "layout": "IPY_MODEL_f963314028764846b5ea11971b96f22a",
       "style": "IPY_MODEL_85e87f53c8b3496a8aa8c1695452b79f",
       "value": false
      }
     },
     "54ec0277016341f2a8190172508a6485": {
      "model_module": "@jupyter-widgets/base",
      "model_module_version": "1.2.0",
      "model_name": "LayoutModel",
      "state": {}
     },
     "54ed69f1a4864a6d92bcb5fbd8dd7a1f": {
      "model_module": "@jupyter-widgets/controls",
      "model_module_version": "1.5.0",
      "model_name": "ButtonModel",
      "state": {
       "description": "Cancel",
       "layout": "IPY_MODEL_0a74887d252a4cb6a9bd34b654f2b1d3",
       "style": "IPY_MODEL_0721fabb1357442697c4a5a01bf7ff4c"
      }
     },
     "55c37d5237554d559beca5f668079593": {
      "model_module": "@jupyter-widgets/base",
      "model_module_version": "1.2.0",
      "model_name": "LayoutModel",
      "state": {
       "grid_area": "pathlist",
       "width": "auto"
      }
     },
     "55c706b86f2346fcad24e682ab840f43": {
      "model_module": "@jupyter-widgets/base",
      "model_module_version": "1.2.0",
      "model_name": "LayoutModel",
      "state": {
       "grid_area": "pathlist",
       "width": "auto"
      }
     },
     "55f0bf09a64a49a6bc0012d74a92e9ce": {
      "model_module": "@jupyter-widgets/controls",
      "model_module_version": "1.5.0",
      "model_name": "ButtonStyleModel",
      "state": {}
     },
     "5616d4739e814348b2a1edfac87e7565": {
      "model_module": "@jupyter-widgets/base",
      "model_module_version": "1.2.0",
      "model_name": "LayoutModel",
      "state": {}
     },
     "562e88a0ff1041c4b7758877da91d24f": {
      "model_module": "@jupyter-widgets/controls",
      "model_module_version": "1.5.0",
      "model_name": "TextareaModel",
      "state": {
       "description": "<=> WKT",
       "layout": "IPY_MODEL_604161467a4448a6b0428c305e047c4b",
       "style": "IPY_MODEL_661d4917a5e348f78770091e5daee872",
       "value": "PROJCS[\"NAD83 / UTM zone 14N\",GEOGCS[\"NAD83\",DATUM[\"North_American_Datum_1983\",SPHEROID[\"GRS 1980\",6378137,298.257222101,AUTHORITY[\"EPSG\",\"7019\"]],AUTHORITY[\"EPSG\",\"6269\"]],PRIMEM[\"Greenwich\",0,AUTHORITY[\"EPSG\",\"8901\"]],UNIT[\"degree\",0.0174532925199433,AUTHORITY[\"EPSG\",\"9122\"]],AUTHORITY[\"EPSG\",\"4269\"]],PROJECTION[\"Transverse_Mercator\"],PARAMETER[\"latitude_of_origin\",0],PARAMETER[\"central_meridian\",-99],PARAMETER[\"scale_factor\",0.9996],PARAMETER[\"false_easting\",500000],PARAMETER[\"false_northing\",0],UNIT[\"metre\",1,AUTHORITY[\"EPSG\",\"9001\"]],AXIS[\"Easting\",EAST],AXIS[\"Northing\",NORTH],AUTHORITY[\"EPSG\",\"26914\"]]"
      }
     },
     "578a17da8f244cb8978101411baf3352": {
      "model_module": "@jupyter-widgets/controls",
      "model_module_version": "1.5.0",
      "model_name": "DescriptionStyleModel",
      "state": {
       "description_width": ""
      }
     },
     "57fa39f7fca344f3988d6f9adeafb58c": {
      "model_module": "@jupyter-widgets/controls",
      "model_module_version": "1.5.0",
      "model_name": "DescriptionStyleModel",
      "state": {
       "description_width": ""
      }
     },
     "5888b10f68a546a090667db83de26d86": {
      "model_module": "@jupyter-widgets/base",
      "model_module_version": "1.2.0",
      "model_name": "LayoutModel",
      "state": {
       "grid_area": "pathlist",
       "width": "auto"
      }
     },
     "58fe515821e8429094212164b79c1c44": {
      "model_module": "@jupyter-widgets/controls",
      "model_module_version": "1.5.0",
      "model_name": "TextModel",
      "state": {
       "continuous_update": false,
       "description": "Input Projection:",
       "layout": "IPY_MODEL_3be13cbc770441bf8a7e927f66c6361d",
       "style": "IPY_MODEL_c3033d4b08da4be28ad3da2ed705b936",
       "value": "EPSG:26914"
      }
     },
     "5a30b67e8e694720860a04eb27258a8c": {
      "model_module": "@jupyter-widgets/controls",
      "model_module_version": "1.5.0",
      "model_name": "HBoxModel",
      "state": {
       "children": [
        "IPY_MODEL_f11fd51fe9e94d04bde569d49de9210d",
        "IPY_MODEL_49eeb0ed332f42779a95c6617531466e"
       ],
       "layout": "IPY_MODEL_3dac06a0e78f48809e37eaca139daa7f"
      }
     },
     "5a5070a47fd940c49295455c339e6ef2": {
      "model_module": "@jupyter-widgets/controls",
      "model_module_version": "1.5.0",
      "model_name": "TextModel",
      "state": {
       "disabled": true,
       "layout": "IPY_MODEL_1f82535302284f6da3999cc1025e5119",
       "placeholder": "output filename",
       "style": "IPY_MODEL_a27b88c41c40421ca7519be8132481bd"
      }
     },
     "5ae1025567ac45ccbca2f9b82957d007": {
      "model_module": "@jupyter-widgets/base",
      "model_module_version": "1.2.0",
      "model_name": "LayoutModel",
      "state": {}
     },
     "5b60941dbbe64ea3a64b2048871c74fa": {
      "model_module": "@jupyter-widgets/controls",
      "model_module_version": "1.5.0",
      "model_name": "DescriptionStyleModel",
      "state": {
       "description_width": ""
      }
     },
     "5bbf7a00c3704f2c8d970d060a6beaf6": {
      "model_module": "@jupyter-widgets/base",
      "model_module_version": "1.2.0",
      "model_name": "LayoutModel",
      "state": {}
     },
     "5c9d5b33950b48e4bc8d0aabe2b4b877": {
      "model_module": "@jupyter-widgets/base",
      "model_module_version": "1.2.0",
      "model_name": "LayoutModel",
      "state": {
       "display": "none"
      }
     },
     "5cd043eecc8b455da74bc7897a2e41f8": {
      "model_module": "@jupyter-widgets/controls",
      "model_module_version": "1.5.0",
      "model_name": "HBoxModel",
      "state": {
       "children": [
        "IPY_MODEL_d1e543c6512d463e82e75e523b431fa9",
        "IPY_MODEL_562e88a0ff1041c4b7758877da91d24f"
       ],
       "layout": "IPY_MODEL_96056ec77b2645b487afe324a00518e0"
      }
     },
     "5def4eac406b496caaaac28ea9ce5092": {
      "model_module": "@jupyter-widgets/base",
      "model_module_version": "1.2.0",
      "model_name": "LayoutModel",
      "state": {}
     },
     "5eb70b77042e4cb8b64837164830d994": {
      "model_module": "@jupyter-widgets/controls",
      "model_module_version": "1.5.0",
      "model_name": "ButtonStyleModel",
      "state": {}
     },
     "5f306112ffe646ccbce26a19e9519e39": {
      "model_module": "@jupyter-widgets/controls",
      "model_module_version": "1.5.0",
      "model_name": "DescriptionStyleModel",
      "state": {
       "description_width": "initial"
      }
     },
     "604161467a4448a6b0428c305e047c4b": {
      "model_module": "@jupyter-widgets/base",
      "model_module_version": "1.2.0",
      "model_name": "LayoutModel",
      "state": {
       "width": "50%"
      }
     },
     "60772f0697b64534b55f8dcaceb6d396": {
      "model_module": "@jupyter-widgets/controls",
      "model_module_version": "1.5.0",
      "model_name": "ToggleButtonModel",
      "state": {
       "layout": "IPY_MODEL_356692f4e98a404eb923eeae84eb4b16",
       "style": "IPY_MODEL_a065d04c809b4c32885710267b6392bf"
      }
     },
     "6085efb5e7584a29a8e5269b6f035db0": {
      "model_module": "@jupyter-widgets/controls",
      "model_module_version": "1.5.0",
      "model_name": "VBoxModel",
      "state": {
       "children": [
        "IPY_MODEL_a593e2dca1ba441fbf40b16927e5aa1b",
        "IPY_MODEL_238e682b855541aebd5888a32700680b",
        "IPY_MODEL_7c90f28c251d4abfa38ac1911f190890"
       ],
       "layout": "IPY_MODEL_526bb7143eb74141b88593053cf8b0da"
      }
     },
     "608723897240409e854ecf0091480f27": {
      "model_module": "@jupyter-widgets/base",
      "model_module_version": "1.2.0",
      "model_name": "LayoutModel",
      "state": {
       "display": "none"
      }
     },
     "61aa6fd634f1485ebd1b4b57073ecbcb": {
      "model_module": "@jupyter-widgets/controls",
      "model_module_version": "1.5.0",
      "model_name": "LabelModel",
      "state": {
       "layout": "IPY_MODEL_c30f1b89103b41f8abdffd79291ea41e",
       "style": "IPY_MODEL_69610850eb00478fa01370cf8606de20",
       "value": "Monitoring folder"
      }
     },
     "61ed0193657446d38ce8825b8f89208a": {
      "model_module": "@jupyter-widgets/controls",
      "model_module_version": "1.5.0",
      "model_name": "ButtonStyleModel",
      "state": {}
     },
     "61f7579b1f584d0bbfabd80dc753e4cb": {
      "model_module": "@jupyter-widgets/controls",
      "model_module_version": "1.5.0",
      "model_name": "HBoxModel",
      "state": {
       "children": [
        "IPY_MODEL_9b32df71d26e41d4bc8cc348955c029d",
        "IPY_MODEL_b0a88dcfe29142418e16ab13b456fbb5",
        "IPY_MODEL_51683a9fcca14535ace1e05cbf00122a"
       ],
       "layout": "IPY_MODEL_7c93c938cdff4f0c83bd2373b3be8703"
      }
     },
     "62b9b1675f434a2cb2249991a4286f28": {
      "model_module": "@jupyter-widgets/controls",
      "model_module_version": "1.5.0",
      "model_name": "DescriptionStyleModel",
      "state": {
       "description_width": "initial"
      }
     },
     "6420518e86f64424aff6aec21b278154": {
      "model_module": "@jupyter-widgets/controls",
      "model_module_version": "1.5.0",
      "model_name": "DescriptionStyleModel",
      "state": {
       "description_width": "initial"
      }
     },
     "661d4917a5e348f78770091e5daee872": {
      "model_module": "@jupyter-widgets/controls",
      "model_module_version": "1.5.0",
      "model_name": "DescriptionStyleModel",
      "state": {
       "description_width": ""
      }
     },
     "678388045f024e71bfb5ccd416e94ef0": {
      "model_module": "@jupyter-widgets/controls",
      "model_module_version": "1.5.0",
      "model_name": "VBoxModel",
      "state": {
       "children": [
        "IPY_MODEL_c2597ef3a8ec42dcb6aead8a52adea0f",
        "IPY_MODEL_17a6d3cc3f97415ca0e9621e1e7862fe"
       ],
       "layout": "IPY_MODEL_21058900b090449a882fe48ceda1ac6c"
      }
     },
     "67d9955ac13744619097b966aed5ca27": {
      "model_module": "@jupyter-widgets/base",
      "model_module_version": "1.2.0",
      "model_name": "LayoutModel",
      "state": {
       "grid_area": "dircontent",
       "width": "auto"
      }
     },
     "6821bc0fc3a24af588109b028cea9286": {
      "model_module": "@jupyter-widgets/controls",
      "model_module_version": "1.5.0",
      "model_name": "DescriptionStyleModel",
      "state": {
       "description_width": "initial"
      }
     },
     "69610850eb00478fa01370cf8606de20": {
      "model_module": "@jupyter-widgets/controls",
      "model_module_version": "1.5.0",
      "model_name": "DescriptionStyleModel",
      "state": {
       "description_width": "initial"
      }
     },
     "6af3f88544ca49d08857f09a92e04e0a": {
      "model_module": "@jupyter-widgets/controls",
      "model_module_version": "1.5.0",
      "model_name": "DropdownModel",
      "state": {
       "_options_labels": [
        "C:\\Users\\dominiquef\\Documents\\GIT\\mira\\mirageoscience-apps\\docs\\content\\applications",
        "C:\\Users\\dominiquef\\Documents\\GIT\\mira\\mirageoscience-apps\\docs\\content",
        "C:\\Users\\dominiquef\\Documents\\GIT\\mira\\mirageoscience-apps\\docs",
        "C:\\Users\\dominiquef\\Documents\\GIT\\mira\\mirageoscience-apps",
        "C:\\Users\\dominiquef\\Documents\\GIT\\mira",
        "C:\\Users\\dominiquef\\Documents\\GIT",
        "C:\\Users\\dominiquef\\Documents",
        "C:\\Users\\dominiquef",
        "C:\\Users",
        "C:\\",
        "D:\\",
        "Z:\\"
       ],
       "index": 0,
       "layout": "IPY_MODEL_1d22a22c9dd2469aa705034d7413e744",
       "style": "IPY_MODEL_c801831ec7034bacb1658ed4c63d5a0b"
      }
     },
     "6be3b5b86e5b4d18b4aac731d51e78ac": {
      "model_module": "@jupyter-widgets/base",
      "model_module_version": "1.2.0",
      "model_name": "LayoutModel",
      "state": {}
     },
     "6c4dc019f3194e37a16b75fc12c10dd2": {
      "model_module": "@jupyter-widgets/controls",
      "model_module_version": "1.5.0",
      "model_name": "DescriptionStyleModel",
      "state": {
       "description_width": "initial"
      }
     },
     "6df8ac02f2f44c2690b61feaacf62483": {
      "model_module": "@jupyter-widgets/controls",
      "model_module_version": "1.5.0",
      "model_name": "DescriptionStyleModel",
      "state": {
       "description_width": "initial"
      }
     },
     "6e281a9ae42b4b9ba3b4e3a22b7a7cfb": {
      "model_module": "@jupyter-widgets/base",
      "model_module_version": "1.2.0",
      "model_name": "LayoutModel",
      "state": {}
     },
     "6e46c80ecd9345b6a3b163457c890417": {
      "model_module": "@jupyter-widgets/controls",
      "model_module_version": "1.5.0",
      "model_name": "ButtonModel",
      "state": {
       "description": "Cancel",
       "layout": "IPY_MODEL_cb0258cfe32948e7bfc8d367ebb4fbcc",
       "style": "IPY_MODEL_c152ab4b1c144d66a9ef87dcf2b870b1"
      }
     },
     "6f00b19cf33441f0aebb59ae98c7ae41": {
      "model_module": "@jupyter-widgets/controls",
      "model_module_version": "1.5.0",
      "model_name": "DropdownModel",
      "state": {
       "_options_labels": [
        "C:\\Users\\dominiquef\\Documents\\GIT\\mira\\mirageoscience-apps\\docs\\content\\applications",
        "C:\\Users\\dominiquef\\Documents\\GIT\\mira\\mirageoscience-apps\\docs\\content",
        "C:\\Users\\dominiquef\\Documents\\GIT\\mira\\mirageoscience-apps\\docs",
        "C:\\Users\\dominiquef\\Documents\\GIT\\mira\\mirageoscience-apps",
        "C:\\Users\\dominiquef\\Documents\\GIT\\mira",
        "C:\\Users\\dominiquef\\Documents\\GIT",
        "C:\\Users\\dominiquef\\Documents",
        "C:\\Users\\dominiquef",
        "C:\\Users",
        "C:\\",
        "D:\\",
        "Z:\\"
       ],
       "index": 0,
       "layout": "IPY_MODEL_059c771128a14d3d8daa621046cd5a4d",
       "style": "IPY_MODEL_c62cdab326924ece9abc18e92e13ecf6"
      }
     },
     "6f4aa36242ad44ac8c34d7754632bf0a": {
      "model_module": "@jupyter-widgets/base",
      "model_module_version": "1.2.0",
      "model_name": "LayoutModel",
      "state": {}
     },
     "6fc04e44edc84c4fb2b26e0e49f660a7": {
      "model_module": "@jupyter-widgets/base",
      "model_module_version": "1.2.0",
      "model_name": "LayoutModel",
      "state": {}
     },
     "707652c855a4441e873aad675ed35aa5": {
      "model_module": "@jupyter-widgets/controls",
      "model_module_version": "1.5.0",
      "model_name": "DescriptionStyleModel",
      "state": {
       "description_width": "initial"
      }
     },
     "71405059917548859afcf306cfa15bc4": {
      "model_module": "@jupyter-widgets/controls",
      "model_module_version": "1.5.0",
      "model_name": "VBoxModel",
      "state": {
       "children": [
        "IPY_MODEL_f29fb5b03e0443aebd2f9919e6a23dba",
        "IPY_MODEL_4a3faf9199e74b4fb0787dc0a7ad9649",
        "IPY_MODEL_61f7579b1f584d0bbfabd80dc753e4cb"
       ],
       "layout": "IPY_MODEL_a09f1606bbc7411694d983b0022d313b"
      }
     },
     "718633de4a6a4b3f89c37df0ac59153f": {
      "model_module": "@jupyter-widgets/controls",
      "model_module_version": "1.5.0",
      "model_name": "TextModel",
      "state": {
       "continuous_update": false,
       "description": "Output Projection:",
       "layout": "IPY_MODEL_6f4aa36242ad44ac8c34d7754632bf0a",
       "style": "IPY_MODEL_edf1da62b120499a9d97a2886a2311b6",
       "value": "EPSG:4326"
      }
     },
     "72a8afb3fe7448829619e227b112e436": {
      "model_module": "@jupyter-widgets/controls",
      "model_module_version": "1.5.0",
      "model_name": "VBoxModel",
      "state": {
       "children": [
        "IPY_MODEL_74743ee8767b45bbb2ea8b8ac0e10baa",
        "IPY_MODEL_13d0de1ca91b4288b385523fc19dc374"
       ],
       "layout": "IPY_MODEL_30af92498c344ea99c734bc8c20a7cdd"
      }
     },
     "7301b47590ff48589b6b7ab3d0e670db": {
      "model_module": "@jupyter-widgets/controls",
      "model_module_version": "1.5.0",
      "model_name": "HTMLModel",
      "state": {
       "layout": "IPY_MODEL_9278ae2dc229444fa317198206f285a7",
       "style": "IPY_MODEL_f5caa7610a5343b5b4b88240bb9ae50e"
      }
     },
     "7311f74c66d64fefa9db17fbc4d35daf": {
      "model_module": "@jupyter-widgets/base",
      "model_module_version": "1.2.0",
      "model_name": "LayoutModel",
      "state": {
       "width": "auto"
      }
     },
     "7355635daee5432683553e42578924a3": {
      "model_module": "@jupyter-widgets/controls",
      "model_module_version": "1.5.0",
      "model_name": "ButtonStyleModel",
      "state": {}
     },
     "735c4831bbc149c3b307d72400b23b65": {
      "model_module": "@jupyter-widgets/base",
      "model_module_version": "1.2.0",
      "model_name": "LayoutModel",
      "state": {}
     },
     "73e2f3e041bf45a7b400ff4dcfc71f7e": {
      "model_module": "@jupyter-widgets/controls",
      "model_module_version": "1.5.0",
      "model_name": "HTMLModel",
      "state": {
       "layout": "IPY_MODEL_fc7b7516ffdf441c9fe85a2f18d49343",
       "placeholder": "",
       "style": "IPY_MODEL_fef4c64790a34969806f6fe231370956",
       "value": "<span style=\"margin-left:10px; color:black;\">No file selected</span>"
      }
     },
     "7472a4c6b7fb4a5d9a7e53ba2100adfc": {
      "model_module": "@jupyter-widgets/base",
      "model_module_version": "1.2.0",
      "model_name": "LayoutModel",
      "state": {}
     },
     "74743ee8767b45bbb2ea8b8ac0e10baa": {
      "model_module": "@jupyter-widgets/controls",
      "model_module_version": "1.5.0",
      "model_name": "LabelModel",
      "state": {
       "layout": "IPY_MODEL_ceafffd1eb7146a488213d120928c8e6",
       "style": "IPY_MODEL_264b399cc4e64104bb06e96457267198",
       "value": "Workspace"
      }
     },
     "7551340c2675410dab4fdb39cce02d7a": {
      "model_module": "@jupyter-widgets/base",
      "model_module_version": "1.2.0",
      "model_name": "LayoutModel",
      "state": {}
     },
     "757db67f89504d0ca78edf50185f507a": {
      "model_module": "@jupyter-widgets/controls",
      "model_module_version": "1.5.0",
      "model_name": "ButtonStyleModel",
      "state": {}
     },
     "75e3791c1b4d437dbbe10179ff991b21": {
      "model_module": "@jupyter-widgets/controls",
      "model_module_version": "1.5.0",
      "model_name": "VBoxModel",
      "state": {
       "children": [
        "IPY_MODEL_fb97e51b7f3c4a5b9020c64eabd66c94",
        "IPY_MODEL_6085efb5e7584a29a8e5269b6f035db0"
       ],
       "layout": "IPY_MODEL_de5e755203254436ba218dc0b7409d38"
      }
     },
     "76649ec5eeca43ebbbd7812ca54c9ffb": {
      "model_module": "@jupyter-widgets/base",
      "model_module_version": "1.2.0",
      "model_name": "LayoutModel",
      "state": {
       "display": "none",
       "width": "auto"
      }
     },
     "76da1ca896054c86883df28864d0ac67": {
      "model_module": "@jupyter-widgets/controls",
      "model_module_version": "1.5.0",
      "model_name": "ButtonModel",
      "state": {
       "description": "Change",
       "layout": "IPY_MODEL_002f92c80ce246a59188e5268c4d72bf",
       "style": "IPY_MODEL_ebc3893210274ceb87fbf8d485d5e67c"
      }
     },
     "77a29b398e5545fb94ac410e08f962ab": {
      "model_module": "@jupyter-widgets/controls",
      "model_module_version": "1.5.0",
      "model_name": "VBoxModel",
      "state": {
       "children": [
        "IPY_MODEL_d2f19ac5afd443258b69ddcf0a8d8983",
        "IPY_MODEL_b8e23b7f45d44033a8b9f16de2dd0def",
        "IPY_MODEL_912a0ab51fe049a6af0f56eef09850a6"
       ],
       "layout": "IPY_MODEL_f02ff86496dc4fe6bb8cf59a351f8ad3"
      }
     },
     "7919d6c723634abbb614dbd5207ca5d3": {
      "model_module": "@jupyter-widgets/controls",
      "model_module_version": "1.5.0",
      "model_name": "TextModel",
      "state": {
       "continuous_update": false,
       "description": "Group:",
       "layout": "IPY_MODEL_a3c39012208f490cb2122cf0d90ffc60",
       "style": "IPY_MODEL_1cab142bb15140a499bcff6f619d033d",
       "value": "CoordinateTransformation"
      }
     },
     "79b8072e63f8480e98b7fe8d55f96200": {
      "model_module": "@jupyter-widgets/controls",
      "model_module_version": "1.5.0",
      "model_name": "TextModel",
      "state": {
       "continuous_update": false,
       "description": "Output Projection:",
       "layout": "IPY_MODEL_396f46bc8a384af3a22a57fbe503ab2a",
       "style": "IPY_MODEL_a16fbfee701c45c4847f3d7c48961317",
       "value": "EPSG:4326"
      }
     },
     "7a082e78e8404a04ac31e924e1d09a22": {
      "model_module": "@jupyter-widgets/base",
      "model_module_version": "1.2.0",
      "model_name": "LayoutModel",
      "state": {}
     },
     "7a158d50e53c433a8b0241de8ad34bcd": {
      "model_module": "@jupyter-widgets/controls",
      "model_module_version": "1.5.0",
      "model_name": "VBoxModel",
      "state": {
       "children": [
        "IPY_MODEL_678388045f024e71bfb5ccd416e94ef0",
        "IPY_MODEL_c925b12f8ac44f0b9fc079b0753e91c9",
        "IPY_MODEL_3a85da08feb04325b97d885641c79e30",
        "IPY_MODEL_a1614949d3524a45a49087c4bb69fdfd",
        "IPY_MODEL_a438644517114589b3e55d2e20ac5b6b"
       ],
       "layout": "IPY_MODEL_18f1acd715ca4334a0a8ed07309b2757"
      }
     },
     "7ab6293266a541bcb6d7aa5552120083": {
      "model_module": "@jupyter-widgets/controls",
      "model_module_version": "1.5.0",
      "model_name": "DescriptionStyleModel",
      "state": {
       "description_width": "initial"
      }
     },
     "7bcaec57f28c457fbe131c5663df58de": {
      "model_module": "@jupyter-widgets/base",
      "model_module_version": "1.2.0",
      "model_name": "LayoutModel",
      "state": {}
     },
     "7c90f28c251d4abfa38ac1911f190890": {
      "model_module": "@jupyter-widgets/controls",
      "model_module_version": "1.5.0",
      "model_name": "HBoxModel",
      "state": {
       "children": [
        "IPY_MODEL_ce95ddcd40aa4d969a390d7862832bb1",
        "IPY_MODEL_ec7768cd033e4b4295bcca766f3c6b54",
        "IPY_MODEL_ef4874e20e6c42728c157327a7a30c34"
       ],
       "layout": "IPY_MODEL_0f962899c32a40a6abeeb89854f318c9"
      }
     },
     "7c93c938cdff4f0c83bd2373b3be8703": {
      "model_module": "@jupyter-widgets/base",
      "model_module_version": "1.2.0",
      "model_name": "LayoutModel",
      "state": {
       "width": "auto"
      }
     },
     "7dc773958dc04c60ab298b7e7244367f": {
      "model_module": "@jupyter-widgets/controls",
      "model_module_version": "1.5.0",
      "model_name": "HTMLModel",
      "state": {
       "layout": "IPY_MODEL_8225325a86354a9783efd8e7964e8c5d",
       "style": "IPY_MODEL_ad7f2073271b418fa34a3f94ea5ff272"
      }
     },
     "7e3f1574d4034779b02be065766353d4": {
      "model_module": "@jupyter-widgets/base",
      "model_module_version": "1.2.0",
      "model_name": "LayoutModel",
      "state": {}
     },
     "7f14bb9c1f714ba3bb4ea694c8083757": {
      "model_module": "@jupyter-widgets/controls",
      "model_module_version": "1.5.0",
      "model_name": "DescriptionStyleModel",
      "state": {
       "description_width": ""
      }
     },
     "7f179888daba4c2bb195570c3d0e7682": {
      "model_module": "@jupyter-widgets/base",
      "model_module_version": "1.2.0",
      "model_name": "LayoutModel",
      "state": {
       "display": "none"
      }
     },
     "7f4095a5ec6c48a8b0521c4c26c49045": {
      "model_module": "@jupyter-widgets/controls",
      "model_module_version": "1.5.0",
      "model_name": "TextareaModel",
      "state": {
       "description": "<=> WKT",
       "layout": "IPY_MODEL_243041e2017b4bd595aa9f31432e3600",
       "style": "IPY_MODEL_be7b7c3f50bd4217a4d2b604280aa2ad",
       "value": "GEOGCS[\"WGS 84\",DATUM[\"WGS_1984\",SPHEROID[\"WGS 84\",6378137,298.257223563,AUTHORITY[\"EPSG\",\"7030\"]],AUTHORITY[\"EPSG\",\"6326\"]],PRIMEM[\"Greenwich\",0,AUTHORITY[\"EPSG\",\"8901\"]],UNIT[\"degree\",0.0174532925199433,AUTHORITY[\"EPSG\",\"9122\"]],AXIS[\"Latitude\",NORTH],AXIS[\"Longitude\",EAST],AUTHORITY[\"EPSG\",\"4326\"]]"
      }
     },
     "7fe55946cca5461d90d3e7b412bc0a70": {
      "model_module": "@jupyter-widgets/controls",
      "model_module_version": "1.5.0",
      "model_name": "HBoxModel",
      "state": {
       "children": [
        "IPY_MODEL_718633de4a6a4b3f89c37df0ac59153f",
        "IPY_MODEL_7f4095a5ec6c48a8b0521c4c26c49045"
       ],
       "layout": "IPY_MODEL_b58b781cc04949e89e31b1dd45ae7657"
      }
     },
     "80f7a280eb7640c19c8d914747d4676c": {
      "model_module": "@jupyter-widgets/controls",
      "model_module_version": "1.5.0",
      "model_name": "TextModel",
      "state": {
       "disabled": true,
       "layout": "IPY_MODEL_d119e3658e1548449c5a78a870555025",
       "placeholder": "output filename",
       "style": "IPY_MODEL_9f89a1281b524368a92df19c3afc374e"
      }
     },
     "813af04f0104495bad0b87cfd94955ad": {
      "model_module": "@jupyter-widgets/base",
      "model_module_version": "1.2.0",
      "model_name": "LayoutModel",
      "state": {
       "display": "none"
      }
     },
     "81e62d149b664c6b979887a7dd8e72c6": {
      "model_module": "@jupyter-widgets/controls",
      "model_module_version": "1.5.0",
      "model_name": "TextModel",
      "state": {
       "continuous_update": false,
       "description": "Input Projection:",
       "layout": "IPY_MODEL_5ae1025567ac45ccbca2f9b82957d007",
       "style": "IPY_MODEL_6420518e86f64424aff6aec21b278154",
       "value": "EPSG:26914"
      }
     },
     "8225325a86354a9783efd8e7964e8c5d": {
      "model_module": "@jupyter-widgets/base",
      "model_module_version": "1.2.0",
      "model_name": "LayoutModel",
      "state": {
       "display": "none"
      }
     },
     "8275a5fae72244369a11c7cf9e82e0a0": {
      "model_module": "@jupyter-widgets/base",
      "model_module_version": "1.2.0",
      "model_name": "LayoutModel",
      "state": {}
     },
     "830ffc4c4d6c40b295000006c3d78c0e": {
      "model_module": "@jupyter-widgets/controls",
      "model_module_version": "1.5.0",
      "model_name": "ButtonStyleModel",
      "state": {}
     },
     "839ada38ab5742bbb0f844a07bb9718c": {
      "model_module": "@jupyter-widgets/controls",
      "model_module_version": "1.5.0",
      "model_name": "VBoxModel",
      "state": {
       "children": [
        "IPY_MODEL_bcd55b5072224c63a9a5db98d2c0a95c",
        "IPY_MODEL_1e4fcdabc4244cebbb36bc4a283b0924"
       ],
       "layout": "IPY_MODEL_01ef819da2d74ec4949cc448c5543220"
      }
     },
     "845ab1a694e54e6485b30e530c793c78": {
      "model_module": "@jupyter-widgets/base",
      "model_module_version": "1.2.0",
      "model_name": "LayoutModel",
      "state": {
       "width": "auto"
      }
     },
     "85e87f53c8b3496a8aa8c1695452b79f": {
      "model_module": "@jupyter-widgets/controls",
      "model_module_version": "1.5.0",
      "model_name": "DescriptionStyleModel",
      "state": {
       "description_width": "initial"
      }
     },
     "86793ad31b4347e0b850b7d31cc6a206": {
      "model_module": "@jupyter-widgets/controls",
      "model_module_version": "1.5.0",
      "model_name": "ButtonStyleModel",
      "state": {}
     },
     "86e5beaee3304235bd5d93a080733d23": {
      "model_module": "@jupyter-widgets/controls",
      "model_module_version": "1.5.0",
      "model_name": "VBoxModel",
      "state": {
       "children": [
        "IPY_MODEL_a26f4850d4954bd0903f006958d469f8",
        "IPY_MODEL_d185d28cb5644791abad5d19411e52a7"
       ],
       "layout": "IPY_MODEL_b44d6528239f42fead95f9a15c355b57"
      }
     },
     "88890a8b3e8a4330af8e6e7685efc004": {
      "model_module": "@jupyter-widgets/controls",
      "model_module_version": "1.5.0",
      "model_name": "DescriptionStyleModel",
      "state": {
       "description_width": ""
      }
     },
     "88bcd4c7bd634386ad757dab1b5a6472": {
      "model_module": "@jupyter-widgets/base",
      "model_module_version": "1.2.0",
      "model_name": "LayoutModel",
      "state": {
       "width": "auto"
      }
     },
     "8925b920d33d4bc4a4b258d82190abab": {
      "model_module": "@jupyter-widgets/base",
      "model_module_version": "1.2.0",
      "model_name": "LayoutModel",
      "state": {}
     },
     "892f9c2e217543f69d83b3e2109877f6": {
      "model_module": "@jupyter-widgets/controls",
      "model_module_version": "1.5.0",
      "model_name": "ButtonStyleModel",
      "state": {}
     },
     "8a2588b12ba34e419d9f78224fd37028": {
      "model_module": "@jupyter-widgets/controls",
      "model_module_version": "1.5.0",
      "model_name": "VBoxModel",
      "state": {
       "children": [
        "IPY_MODEL_1b69d6226fae494cabae48b8ea989fca"
       ],
       "layout": "IPY_MODEL_3b82e538fb8143898c7bff1a6b53194a"
      }
     },
     "8a9081b91bba440c91ecde47632f9f78": {
      "model_module": "@jupyter-widgets/controls",
      "model_module_version": "1.5.0",
      "model_name": "DescriptionStyleModel",
      "state": {
       "description_width": "initial"
      }
     },
     "8b023dd98305403fbb253e7aea955cf6": {
      "model_module": "@jupyter-widgets/controls",
      "model_module_version": "1.5.0",
      "model_name": "DescriptionStyleModel",
      "state": {
       "description_width": "initial"
      }
     },
     "8b311c2edbe84961b9127093b3908426": {
      "model_module": "@jupyter-widgets/controls",
      "model_module_version": "1.5.0",
      "model_name": "SelectModel",
      "state": {
       "_options_labels": [
        "..",
        "dask-worker-space",
        "images"
       ],
       "index": null,
       "layout": "IPY_MODEL_67d9955ac13744619097b966aed5ca27",
       "rows": 8,
       "style": "IPY_MODEL_3d140467081149999f4ae969d3250bbe"
      }
     },
     "8bef621d5c80438f9c5fe2346fc1d1da": {
      "model_module": "@jupyter-widgets/controls",
      "model_module_version": "1.5.0",
      "model_name": "DescriptionStyleModel",
      "state": {
       "description_width": ""
      }
     },
     "8cb29954f8754095ad9d7818eca25f44": {
      "model_module": "@jupyter-widgets/controls",
      "model_module_version": "1.5.0",
      "model_name": "DescriptionStyleModel",
      "state": {
       "description_width": ""
      }
     },
     "8cceeafd6987417383790a2e5c2499cf": {
      "model_module": "@jupyter-widgets/controls",
      "model_module_version": "1.5.0",
      "model_name": "DescriptionStyleModel",
      "state": {
       "description_width": ""
      }
     },
     "8e4ac35a25bb414880217be37f2d5fc0": {
      "model_module": "@jupyter-widgets/controls",
      "model_module_version": "1.5.0",
      "model_name": "DescriptionStyleModel",
      "state": {
       "description_width": ""
      }
     },
     "8e95b59f662041b388c0c6dd6acb1a33": {
      "model_module": "@jupyter-widgets/controls",
      "model_module_version": "1.5.0",
      "model_name": "DescriptionStyleModel",
      "state": {
       "description_width": ""
      }
     },
     "8f136b27bb074ed4a9489a25c1abf21d": {
      "model_module": "@jupyter-widgets/base",
      "model_module_version": "1.2.0",
      "model_name": "LayoutModel",
      "state": {
       "grid_area": "dircontent",
       "width": "auto"
      }
     },
     "8f1aee11c25748d8be7b12501533d763": {
      "model_module": "@jupyter-widgets/controls",
      "model_module_version": "1.5.0",
      "model_name": "DescriptionStyleModel",
      "state": {
       "description_width": "initial"
      }
     },
     "8f5b32856a8442ccbc34e031a5ba9de5": {
      "model_module": "@jupyter-widgets/controls",
      "model_module_version": "1.5.0",
      "model_name": "HTMLModel",
      "state": {
       "layout": "IPY_MODEL_a8c8e0096ba04315a0fb8a56a55fd5e7",
       "placeholder": "",
       "style": "IPY_MODEL_076c15183ebd4a909731ea904696acb8",
       "value": "<span style=\"margin-left:10px; color:orange;\">C:\\Users\\dominiquef\\Documents\\GIT\\mira\\mirageoscience-apps\\assets\\FlinFlon.geoh5</span>"
      }
     },
     "8ff9a145a7cf444096b86e27925e0347": {
      "model_module": "@jupyter-widgets/controls",
      "model_module_version": "1.5.0",
      "model_name": "ButtonModel",
      "state": {
       "description": "Select",
       "layout": "IPY_MODEL_88bcd4c7bd634386ad757dab1b5a6472",
       "style": "IPY_MODEL_aec8104eab764eff845c7bfebf18ac35"
      }
     },
     "90e3e52533654ab49014e75dd3d66660": {
      "model_module": "@jupyter-widgets/controls",
      "model_module_version": "1.5.0",
      "model_name": "DropdownModel",
      "state": {
       "_options_labels": [
        "C:\\Users\\dominiquef\\Documents\\GIT\\mira\\mirageoscience-apps\\assets",
        "C:\\Users\\dominiquef\\Documents\\GIT\\mira\\mirageoscience-apps",
        "C:\\Users\\dominiquef\\Documents\\GIT\\mira",
        "C:\\Users\\dominiquef\\Documents\\GIT",
        "C:\\Users\\dominiquef\\Documents",
        "C:\\Users\\dominiquef",
        "C:\\Users",
        "C:\\",
        "D:\\",
        "Z:\\"
       ],
       "index": 0,
       "layout": "IPY_MODEL_33d7cc09f55942688ffc7033dce911cf",
       "style": "IPY_MODEL_d15144cde4734bf2a55ecd28e5e76a79"
      }
     },
     "90e7830d706344ca9d9303e687b9a31b": {
      "model_module": "@jupyter-widgets/controls",
      "model_module_version": "1.5.0",
      "model_name": "ButtonModel",
      "state": {
       "description": "Change",
       "layout": "IPY_MODEL_ca4e84366b9645e6bb3b39c5c98be22f",
       "style": "IPY_MODEL_c370d75e686d4ecdb82b9423f318814e"
      }
     },
     "90f49b2657d94c3c83114c45844d2c35": {
      "model_module": "@jupyter-widgets/base",
      "model_module_version": "1.2.0",
      "model_name": "LayoutModel",
      "state": {}
     },
     "910e63eac15c438eba279a95ae3147af": {
      "model_module": "@jupyter-widgets/controls",
      "model_module_version": "1.5.0",
      "model_name": "VBoxModel",
      "state": {
       "children": [
        "IPY_MODEL_678388045f024e71bfb5ccd416e94ef0",
        "IPY_MODEL_a438644517114589b3e55d2e20ac5b6b"
       ],
       "layout": "IPY_MODEL_5616d4739e814348b2a1edfac87e7565"
      }
     },
     "912a0ab51fe049a6af0f56eef09850a6": {
      "model_module": "@jupyter-widgets/controls",
      "model_module_version": "1.5.0",
      "model_name": "HBoxModel",
      "state": {
       "children": [
        "IPY_MODEL_8ff9a145a7cf444096b86e27925e0347",
        "IPY_MODEL_e55d9f22def0432293ea93ca1782c4c2",
        "IPY_MODEL_352ab9e6bc0a4d1ab5a19328f4a10114"
       ],
       "layout": "IPY_MODEL_3d2d83454a5c4abea4328b45c718977c"
      }
     },
     "913089801c8b43bbbeddac3fef6a06b2": {
      "model_module": "@jupyter-widgets/base",
      "model_module_version": "1.2.0",
      "model_name": "LayoutModel",
      "state": {}
     },
     "91870fe89f804482abafac44dcbf6778": {
      "model_module": "@jupyter-widgets/controls",
      "model_module_version": "1.5.0",
      "model_name": "ButtonModel",
      "state": {
       "description": "Cancel",
       "layout": "IPY_MODEL_1a5af0ad843b4a50a184205ecbd24f07",
       "style": "IPY_MODEL_757db67f89504d0ca78edf50185f507a"
      }
     },
     "91bcf69eb5154b65b0b5d1c4ae7e172a": {
      "model_module": "@jupyter-widgets/controls",
      "model_module_version": "1.5.0",
      "model_name": "VBoxModel",
      "state": {
       "children": [
        "IPY_MODEL_c9803c1ff3c4485288f7a0a0994537eb",
        "IPY_MODEL_b130bae74c664b5b8588588776a5f89b"
       ],
       "layout": "IPY_MODEL_a5e7527b7b9e4a23be96119edec3dae9"
      }
     },
     "9273caed810e4b5393e89395c629f0e6": {
      "model_module": "@jupyter-widgets/controls",
      "model_module_version": "1.5.0",
      "model_name": "ButtonModel",
      "state": {
       "button_style": "danger",
       "description": "Compute",
       "icon": "check",
       "layout": "IPY_MODEL_7e3f1574d4034779b02be065766353d4",
       "style": "IPY_MODEL_25844f682e414be9b72331f0b28cff0b",
       "tooltip": "Run computation"
      }
     },
     "9278ae2dc229444fa317198206f285a7": {
      "model_module": "@jupyter-widgets/base",
      "model_module_version": "1.2.0",
      "model_name": "LayoutModel",
      "state": {
       "display": "none"
      }
     },
     "9297e9e735bd46d5bab90f729928dde2": {
      "model_module": "@jupyter-widgets/controls",
      "model_module_version": "1.5.0",
      "model_name": "DescriptionStyleModel",
      "state": {
       "description_width": ""
      }
     },
     "933b32df61224e089e88bfbecd084a4a": {
      "model_module": "@jupyter-widgets/controls",
      "model_module_version": "1.5.0",
      "model_name": "SelectModel",
      "state": {
       "_options_labels": [
        "..",
        "dask-worker-space",
        "images"
       ],
       "index": null,
       "layout": "IPY_MODEL_4b0e04428c964e16803de82051359480",
       "rows": 8,
       "style": "IPY_MODEL_e86c986153cb4d64b9e08995c1e05ab3"
      }
     },
     "95fbf7662005494a8d2911d6f484624a": {
      "model_module": "@jupyter-widgets/controls",
      "model_module_version": "1.5.0",
      "model_name": "HBoxModel",
      "state": {
       "children": [
        "IPY_MODEL_fc6a77be2c7840e4a66e70daae664970",
        "IPY_MODEL_dfa258bd9def4f1d8939c33e6799a900"
       ],
       "layout": "IPY_MODEL_ac3ec560ff1c4020acb7731e811492a0"
      }
     },
     "96056ec77b2645b487afe324a00518e0": {
      "model_module": "@jupyter-widgets/base",
      "model_module_version": "1.2.0",
      "model_name": "LayoutModel",
      "state": {}
     },
     "96529a7642b34b6695b9f4e45aaa22e3": {
      "model_module": "@jupyter-widgets/controls",
      "model_module_version": "1.5.0",
      "model_name": "DescriptionStyleModel",
      "state": {
       "description_width": ""
      }
     },
     "96cb350aaa644525aeab827a33567d06": {
      "model_module": "@jupyter-widgets/controls",
      "model_module_version": "1.5.0",
      "model_name": "DescriptionStyleModel",
      "state": {
       "description_width": ""
      }
     },
     "97dd89a989a24e4c8612b6775b375fe5": {
      "model_module": "@jupyter-widgets/controls",
      "model_module_version": "1.5.0",
      "model_name": "DescriptionStyleModel",
      "state": {
       "description_width": ""
      }
     },
     "9840218bd0dc4cc6bef85bc2dd64ddce": {
      "model_module": "@jupyter-widgets/base",
      "model_module_version": "1.2.0",
      "model_name": "LayoutModel",
      "state": {
       "width": "50%"
      }
     },
     "98515a472dc14ff3aa9fb17b5be7d308": {
      "model_module": "@jupyter-widgets/controls",
      "model_module_version": "1.5.0",
      "model_name": "TextModel",
      "state": {
       "layout": "IPY_MODEL_daa17b2cb44e4013a659adb58c21741d",
       "placeholder": "output filename",
       "style": "IPY_MODEL_5b60941dbbe64ea3a64b2048871c74fa",
       "value": "FlinFlon.geoh5"
      }
     },
     "9ab71863e2e44782936b676259e7496f": {
      "model_module": "@jupyter-widgets/base",
      "model_module_version": "1.2.0",
      "model_name": "LayoutModel",
      "state": {}
     },
     "9b22a086fc3f46f388fc7079528807f2": {
      "model_module": "@jupyter-widgets/base",
      "model_module_version": "1.2.0",
      "model_name": "LayoutModel",
      "state": {
       "grid_area": "dircontent",
       "width": "auto"
      }
     },
     "9b32df71d26e41d4bc8cc348955c029d": {
      "model_module": "@jupyter-widgets/controls",
      "model_module_version": "1.5.0",
      "model_name": "ButtonModel",
      "state": {
       "description": "Change",
       "layout": "IPY_MODEL_0d6ae0e55f924192b43fd094efbf1eb2",
       "style": "IPY_MODEL_b83def313f3c4e6fb0f328ac406fb62f"
      }
     },
     "9c9ed52896324b89baccc31169abcfc1": {
      "model_module": "@jupyter-widgets/controls",
      "model_module_version": "1.5.0",
      "model_name": "TextareaModel",
      "state": {
       "description": "<=> WKT",
       "layout": "IPY_MODEL_f9794bf8ef614951999f2dd4c1386437",
       "style": "IPY_MODEL_3610bf9ad5bb4d1086caa109b341b1e5",
       "value": "GEOGCS[\"WGS 84\",DATUM[\"WGS_1984\",SPHEROID[\"WGS 84\",6378137,298.257223563,AUTHORITY[\"EPSG\",\"7030\"]],AUTHORITY[\"EPSG\",\"6326\"]],PRIMEM[\"Greenwich\",0,AUTHORITY[\"EPSG\",\"8901\"]],UNIT[\"degree\",0.0174532925199433,AUTHORITY[\"EPSG\",\"9122\"]],AXIS[\"Latitude\",NORTH],AXIS[\"Longitude\",EAST],AUTHORITY[\"EPSG\",\"4326\"]]"
      }
     },
     "9cbd02f71b0d4aba9f4b00678d0c3c62": {
      "model_module": "@jupyter-widgets/controls",
      "model_module_version": "1.5.0",
      "model_name": "DescriptionStyleModel",
      "state": {
       "description_width": ""
      }
     },
     "9d41981cf2bf4f40affdf523a744f675": {
      "model_module": "@jupyter-widgets/base",
      "model_module_version": "1.2.0",
      "model_name": "LayoutModel",
      "state": {}
     },
     "9e39e8f0ac1a45b39cc0a89b0941ce20": {
      "model_module": "@jupyter-widgets/base",
      "model_module_version": "1.2.0",
      "model_name": "LayoutModel",
      "state": {}
     },
     "9ed1d99badbe48e8a28448ae5c250ec4": {
      "model_module": "@jupyter-widgets/controls",
      "model_module_version": "1.5.0",
      "model_name": "DescriptionStyleModel",
      "state": {
       "description_width": ""
      }
     },
     "9ef8f09b125749729228e38a6a59bd2c": {
      "model_module": "@jupyter-widgets/controls",
      "model_module_version": "1.5.0",
      "model_name": "DescriptionStyleModel",
      "state": {
       "description_width": "initial"
      }
     },
     "9f89a1281b524368a92df19c3afc374e": {
      "model_module": "@jupyter-widgets/controls",
      "model_module_version": "1.5.0",
      "model_name": "DescriptionStyleModel",
      "state": {
       "description_width": ""
      }
     },
     "9fc19c4e0d7945e9a284ceebdebd73a6": {
      "model_module": "@jupyter-widgets/controls",
      "model_module_version": "1.5.0",
      "model_name": "ToggleButtonModel",
      "state": {
       "layout": "IPY_MODEL_8925b920d33d4bc4a4b258d82190abab",
       "style": "IPY_MODEL_8cb29954f8754095ad9d7818eca25f44"
      }
     },
     "a065d04c809b4c32885710267b6392bf": {
      "model_module": "@jupyter-widgets/controls",
      "model_module_version": "1.5.0",
      "model_name": "DescriptionStyleModel",
      "state": {
       "description_width": ""
      }
     },
     "a07007fc0572420599723beb5cbedace": {
      "model_module": "@jupyter-widgets/base",
      "model_module_version": "1.2.0",
      "model_name": "LayoutModel",
      "state": {
       "display": "none",
       "width": "auto"
      }
     },
     "a09f1606bbc7411694d983b0022d313b": {
      "model_module": "@jupyter-widgets/base",
      "model_module_version": "1.2.0",
      "model_name": "LayoutModel",
      "state": {
       "width": "auto"
      }
     },
     "a0ad52b992ba4dfca9147939740f2a32": {
      "model_module": "@jupyter-widgets/controls",
      "model_module_version": "1.5.0",
      "model_name": "HBoxModel",
      "state": {
       "children": [
        "IPY_MODEL_bb7c960210034ffaa6baa2853a93d45f",
        "IPY_MODEL_54ed69f1a4864a6d92bcb5fbd8dd7a1f",
        "IPY_MODEL_226cd83640344409b70742535dc69dd0"
       ],
       "layout": "IPY_MODEL_fe942be03aea48b99b288488d0f139b8"
      }
     },
     "a1614949d3524a45a49087c4bb69fdfd": {
      "model_module": "@jupyter-widgets/controls",
      "model_module_version": "1.5.0",
      "model_name": "HBoxModel",
      "state": {
       "children": [
        "IPY_MODEL_79b8072e63f8480e98b7fe8d55f96200",
        "IPY_MODEL_f1c2e494a2dc4171a3ae031332e9a2fc"
       ],
       "layout": "IPY_MODEL_5154af184f50482491ced6db7dcb5597"
      }
     },
     "a16fbfee701c45c4847f3d7c48961317": {
      "model_module": "@jupyter-widgets/controls",
      "model_module_version": "1.5.0",
      "model_name": "DescriptionStyleModel",
      "state": {
       "description_width": "initial"
      }
     },
     "a26f4850d4954bd0903f006958d469f8": {
      "model_module": "@jupyter-widgets/controls",
      "model_module_version": "1.5.0",
      "model_name": "VBoxModel",
      "state": {
       "children": [
        "IPY_MODEL_44907c3f85584c9db194702bc2ad1b60",
        "IPY_MODEL_c00ac64b60664496bd612b6af79e8bcb"
       ],
       "layout": "IPY_MODEL_2305327f52114c34ae77382fc5820e9d"
      }
     },
     "a27b88c41c40421ca7519be8132481bd": {
      "model_module": "@jupyter-widgets/controls",
      "model_module_version": "1.5.0",
      "model_name": "DescriptionStyleModel",
      "state": {
       "description_width": ""
      }
     },
     "a3896c47062249f68f16320b8ec67b1f": {
      "model_module": "@jupyter-widgets/base",
      "model_module_version": "1.2.0",
      "model_name": "LayoutModel",
      "state": {
       "width": "auto"
      }
     },
     "a3ba2a7826164c1e825586a2bba267fd": {
      "model_module": "@jupyter-widgets/controls",
      "model_module_version": "1.5.0",
      "model_name": "HBoxModel",
      "state": {
       "children": [
        "IPY_MODEL_febed79946b34e05b9c25d3c02700d9f",
        "IPY_MODEL_6e46c80ecd9345b6a3b163457c890417",
        "IPY_MODEL_73e2f3e041bf45a7b400ff4dcfc71f7e"
       ],
       "layout": "IPY_MODEL_50b578d06b1943ea941a15e38d9601a2"
      }
     },
     "a3c39012208f490cb2122cf0d90ffc60": {
      "model_module": "@jupyter-widgets/base",
      "model_module_version": "1.2.0",
      "model_name": "LayoutModel",
      "state": {}
     },
     "a3e84a49696547cf87a4f176d9d89a64": {
      "model_module": "@jupyter-widgets/controls",
      "model_module_version": "1.5.0",
      "model_name": "DescriptionStyleModel",
      "state": {
       "description_width": ""
      }
     },
     "a438644517114589b3e55d2e20ac5b6b": {
      "model_module": "@jupyter-widgets/controls",
      "model_module_version": "1.5.0",
      "model_name": "VBoxModel",
      "state": {
       "children": [
        "IPY_MODEL_c16d642ca1bb492798af19492dfe87f1",
        "IPY_MODEL_ac3ec277ef6347db98e5a9259f96072e"
       ],
       "layout": "IPY_MODEL_dc3c87c3914047f79b6f617713c262c4"
      }
     },
     "a53fa8bd5b7e478281cb385995f62a58": {
      "model_module": "@jupyter-widgets/base",
      "model_module_version": "1.2.0",
      "model_name": "LayoutModel",
      "state": {}
     },
     "a586c4a702974f0ca6658e00503cd44c": {
      "model_module": "@jupyter-widgets/base",
      "model_module_version": "1.2.0",
      "model_name": "LayoutModel",
      "state": {}
     },
     "a58dcb0a9cee439abf88f6de9d2278e8": {
      "model_module": "@jupyter-widgets/base",
      "model_module_version": "1.2.0",
      "model_name": "LayoutModel",
      "state": {}
     },
     "a593e2dca1ba441fbf40b16927e5aa1b": {
      "model_module": "@jupyter-widgets/controls",
      "model_module_version": "1.5.0",
      "model_name": "HTMLModel",
      "state": {
       "layout": "IPY_MODEL_2dd4b1224cfd4ae7bfd844862a8601f5",
       "style": "IPY_MODEL_eb512cd747ee4da49cb3f5621e4c8e3b"
      }
     },
     "a5e7527b7b9e4a23be96119edec3dae9": {
      "model_module": "@jupyter-widgets/base",
      "model_module_version": "1.2.0",
      "model_name": "LayoutModel",
      "state": {}
     },
     "a7d306c968ac4dc2a1c99c8ef5b6617c": {
      "model_module": "@jupyter-widgets/controls",
      "model_module_version": "1.5.0",
      "model_name": "TextareaModel",
      "state": {
       "description": "<=> WKT",
       "layout": "IPY_MODEL_ef676f740c2246b58a2b51ccc01e0cce",
       "style": "IPY_MODEL_5203dcf029c244748a52dd1e5249ee66",
       "value": "PROJCS[\"NAD83 / UTM zone 14N\",GEOGCS[\"NAD83\",DATUM[\"North_American_Datum_1983\",SPHEROID[\"GRS 1980\",6378137,298.257222101,AUTHORITY[\"EPSG\",\"7019\"]],AUTHORITY[\"EPSG\",\"6269\"]],PRIMEM[\"Greenwich\",0,AUTHORITY[\"EPSG\",\"8901\"]],UNIT[\"degree\",0.0174532925199433,AUTHORITY[\"EPSG\",\"9122\"]],AUTHORITY[\"EPSG\",\"4269\"]],PROJECTION[\"Transverse_Mercator\"],PARAMETER[\"latitude_of_origin\",0],PARAMETER[\"central_meridian\",-99],PARAMETER[\"scale_factor\",0.9996],PARAMETER[\"false_easting\",500000],PARAMETER[\"false_northing\",0],UNIT[\"metre\",1,AUTHORITY[\"EPSG\",\"9001\"]],AXIS[\"Easting\",EAST],AXIS[\"Northing\",NORTH],AUTHORITY[\"EPSG\",\"26914\"]]"
      }
     },
     "a7d482e3cd654a25af0d2c5d17691f00": {
      "model_module": "@jupyter-widgets/controls",
      "model_module_version": "1.5.0",
      "model_name": "ButtonModel",
      "state": {
       "description": "Cancel",
       "layout": "IPY_MODEL_32a0e733a0764aa88d7841ce63182fcc",
       "style": "IPY_MODEL_31acc9ccfd4e47ae8facf5b8c5f959bf"
      }
     },
     "a849c46145564d53b577c269a841604f": {
      "model_module": "@jupyter-widgets/controls",
      "model_module_version": "1.5.0",
      "model_name": "VBoxModel",
      "state": {
       "children": [
        "IPY_MODEL_d4c257339ff74f688d3804e5524ab409",
        "IPY_MODEL_48b246f02f4f4dc68fbbeed6c4518341",
        "IPY_MODEL_4a42ed7fdcea4c3493b3b2da10e8471f"
       ],
       "layout": "IPY_MODEL_c7d4044003884ae7a49777f6ea57fa35"
      }
     },
     "a883972dcea14c5e9d49ab0192e9aad7": {
      "model_module": "@jupyter-widgets/controls",
      "model_module_version": "1.5.0",
      "model_name": "DescriptionStyleModel",
      "state": {
       "description_width": "initial"
      }
     },
     "a8c8e0096ba04315a0fb8a56a55fd5e7": {
      "model_module": "@jupyter-widgets/base",
      "model_module_version": "1.2.0",
      "model_name": "LayoutModel",
      "state": {}
     },
     "aaf002bb2b8f4f87ac28b49ba9d936d8": {
      "model_module": "@jupyter-widgets/base",
      "model_module_version": "1.2.0",
      "model_name": "LayoutModel",
      "state": {}
     },
     "abe8980c8421449e9b775b9b8aef4cae": {
      "model_module": "@jupyter-widgets/controls",
      "model_module_version": "1.5.0",
      "model_name": "DescriptionStyleModel",
      "state": {
       "description_width": ""
      }
     },
     "ac3ec277ef6347db98e5a9259f96072e": {
      "model_module": "@jupyter-widgets/controls",
      "model_module_version": "1.5.0",
      "model_name": "VBoxModel",
      "state": {
       "children": [
        "IPY_MODEL_54c4f869d8c74cf8a6084ee8c496535e"
       ],
       "layout": "IPY_MODEL_3ef82dc1c08b47b0b3e8ae1523472419"
      }
     },
     "ac3ec560ff1c4020acb7731e811492a0": {
      "model_module": "@jupyter-widgets/base",
      "model_module_version": "1.2.0",
      "model_name": "LayoutModel",
      "state": {}
     },
     "ac578ae2a1254f909703237c9bec2156": {
      "model_module": "@jupyter-widgets/base",
      "model_module_version": "1.2.0",
      "model_name": "LayoutModel",
      "state": {
       "display": "none"
      }
     },
     "ac65abf156f4406887ff1eea2ab30b16": {
      "model_module": "@jupyter-widgets/base",
      "model_module_version": "1.2.0",
      "model_name": "LayoutModel",
      "state": {}
     },
     "acd24246d17945ecaa73235506bc03ff": {
      "model_module": "@jupyter-widgets/controls",
      "model_module_version": "1.5.0",
      "model_name": "LabelModel",
      "state": {
       "layout": "IPY_MODEL_735c4831bbc149c3b307d72400b23b65",
       "style": "IPY_MODEL_dc063e7de3ed43d89edac339cf8f5508",
       "value": "Workspace"
      }
     },
     "ace27b3606f6433cb5aea76b9308ab34": {
      "model_module": "@jupyter-widgets/controls",
      "model_module_version": "1.5.0",
      "model_name": "LabelModel",
      "state": {
       "layout": "IPY_MODEL_5def4eac406b496caaaac28ea9ce5092",
       "style": "IPY_MODEL_a883972dcea14c5e9d49ab0192e9aad7",
       "value": "Monitoring folder"
      }
     },
     "ad7f2073271b418fa34a3f94ea5ff272": {
      "model_module": "@jupyter-widgets/controls",
      "model_module_version": "1.5.0",
      "model_name": "DescriptionStyleModel",
      "state": {
       "description_width": ""
      }
     },
     "adb6842381a9427bb9d4e9182980f2e7": {
      "model_module": "@jupyter-widgets/base",
      "model_module_version": "1.2.0",
      "model_name": "LayoutModel",
      "state": {}
     },
     "ae195e0ab4344407873f04700034bafd": {
      "model_module": "@jupyter-widgets/controls",
      "model_module_version": "1.5.0",
      "model_name": "DescriptionStyleModel",
      "state": {
       "description_width": ""
      }
     },
     "aea1db913b564a2391ccf6b98b612bd3": {
      "model_module": "@jupyter-widgets/controls",
      "model_module_version": "1.5.0",
      "model_name": "DescriptionStyleModel",
      "state": {
       "description_width": ""
      }
     },
     "aec8104eab764eff845c7bfebf18ac35": {
      "model_module": "@jupyter-widgets/controls",
      "model_module_version": "1.5.0",
      "model_name": "ButtonStyleModel",
      "state": {}
     },
     "afde47735cc84c1f84f84435e052fbd4": {
      "model_module": "@jupyter-widgets/controls",
      "model_module_version": "1.5.0",
      "model_name": "DescriptionStyleModel",
      "state": {
       "description_width": "initial"
      }
     },
     "b0a88dcfe29142418e16ab13b456fbb5": {
      "model_module": "@jupyter-widgets/controls",
      "model_module_version": "1.5.0",
      "model_name": "ButtonModel",
      "state": {
       "description": "Cancel",
       "layout": "IPY_MODEL_76649ec5eeca43ebbbd7812ca54c9ffb",
       "style": "IPY_MODEL_01e3058f0fdd41d38a1a5c60652a6d7e"
      }
     },
     "b0e1a2a9d7414ac7a3ed80b64802aac2": {
      "model_module": "@jupyter-widgets/controls",
      "model_module_version": "1.5.0",
      "model_name": "VBoxModel",
      "state": {
       "children": [
        "IPY_MODEL_15a223cf09ee4e1585de2bcf750f8f55",
        "IPY_MODEL_34374db756c149f6ba477822897d2fea",
        "IPY_MODEL_48647ee5b3b64287b686d9d2b2170b54"
       ],
       "layout": "IPY_MODEL_da54f0b7b65f4777b2129f89c6b88e0e"
      }
     },
     "b130bae74c664b5b8588588776a5f89b": {
      "model_module": "@jupyter-widgets/controls",
      "model_module_version": "1.5.0",
      "model_name": "HBoxModel",
      "state": {
       "children": [
        "IPY_MODEL_71405059917548859afcf306cfa15bc4",
        "IPY_MODEL_46a1e94d54f246398c7691a8a5d26de5"
       ],
       "layout": "IPY_MODEL_54ec0277016341f2a8190172508a6485"
      }
     },
     "b2282a1265c24b829840f6322cc45bee": {
      "model_module": "@jupyter-widgets/base",
      "model_module_version": "1.2.0",
      "model_name": "LayoutModel",
      "state": {
       "display": "none",
       "grid_gap": "0px 0px",
       "grid_template_areas": "\n                    'pathlist pathlist'\n                    'dircontent dircontent'\n                    ",
       "grid_template_columns": "60% 40%",
       "grid_template_rows": "auto auto",
       "width": "500px"
      }
     },
     "b22bee4ea0214322b51aa40658b79c04": {
      "model_module": "@jupyter-widgets/controls",
      "model_module_version": "1.5.0",
      "model_name": "DropdownModel",
      "state": {
       "_options_labels": [
        "C:\\Users\\dominiquef\\Documents\\GIT\\mira\\mirageoscience-apps\\assets",
        "C:\\Users\\dominiquef\\Documents\\GIT\\mira\\mirageoscience-apps",
        "C:\\Users\\dominiquef\\Documents\\GIT\\mira",
        "C:\\Users\\dominiquef\\Documents\\GIT",
        "C:\\Users\\dominiquef\\Documents",
        "C:\\Users\\dominiquef",
        "C:\\Users",
        "C:\\",
        "D:\\",
        "Z:\\"
       ],
       "index": 0,
       "layout": "IPY_MODEL_5888b10f68a546a090667db83de26d86",
       "style": "IPY_MODEL_aea1db913b564a2391ccf6b98b612bd3"
      }
     },
     "b2608e70e1694ed7a8af389cd29450db": {
      "model_module": "@jupyter-widgets/controls",
      "model_module_version": "1.5.0",
      "model_name": "ButtonStyleModel",
      "state": {}
     },
     "b33ee8da120b428d9c3fac75ea3c5cef": {
      "model_module": "@jupyter-widgets/base",
      "model_module_version": "1.2.0",
      "model_name": "LayoutModel",
      "state": {}
     },
     "b36db5038836434395744a8d2c06f62c": {
      "model_module": "@jupyter-widgets/base",
      "model_module_version": "1.2.0",
      "model_name": "LayoutModel",
      "state": {}
     },
     "b3f558da9e6c436a8ca9545992358ab4": {
      "model_module": "@jupyter-widgets/base",
      "model_module_version": "1.2.0",
      "model_name": "LayoutModel",
      "state": {}
     },
     "b44d6528239f42fead95f9a15c355b57": {
      "model_module": "@jupyter-widgets/base",
      "model_module_version": "1.2.0",
      "model_name": "LayoutModel",
      "state": {}
     },
     "b51903449cc347cca279b86b3af24260": {
      "model_module": "@jupyter-widgets/controls",
      "model_module_version": "1.5.0",
      "model_name": "TextModel",
      "state": {
       "layout": "IPY_MODEL_1ba8399cf67f4e35940125c33f83b485",
       "placeholder": "output filename",
       "style": "IPY_MODEL_8e95b59f662041b388c0c6dd6acb1a33",
       "value": "FlinFlon.geoh5"
      }
     },
     "b58b781cc04949e89e31b1dd45ae7657": {
      "model_module": "@jupyter-widgets/base",
      "model_module_version": "1.2.0",
      "model_name": "LayoutModel",
      "state": {}
     },
     "b6385c8a37ed41298eb3f02dc8b64b57": {
      "model_module": "@jupyter-widgets/controls",
      "model_module_version": "1.5.0",
      "model_name": "TextModel",
      "state": {
       "continuous_update": false,
       "description": "Output Projection:",
       "layout": "IPY_MODEL_18ca952e21724904909ed0ee23941922",
       "style": "IPY_MODEL_8b023dd98305403fbb253e7aea955cf6",
       "value": "EPSG:4326"
      }
     },
     "b68db02c1ec746b384d91e1bc4d47f71": {
      "model_module": "@jupyter-widgets/controls",
      "model_module_version": "1.5.0",
      "model_name": "VBoxModel",
      "state": {
       "children": [
        "IPY_MODEL_270f220abffe4ed0b7552d93f7be27b3",
        "IPY_MODEL_24807bf277604fe08fad50920be38e3c"
       ],
       "layout": "IPY_MODEL_aaf002bb2b8f4f87ac28b49ba9d936d8"
      }
     },
     "b6a16fe2ff694d69a2e55c66dd754126": {
      "model_module": "@jupyter-widgets/controls",
      "model_module_version": "1.5.0",
      "model_name": "VBoxModel",
      "state": {
       "children": [
        "IPY_MODEL_7301b47590ff48589b6b7ab3d0e670db",
        "IPY_MODEL_34e0064215e045d1abecf0b2a772e17d",
        "IPY_MODEL_4cffbb09a41c44009a0509815dc8c7dc"
       ],
       "layout": "IPY_MODEL_d512a6b582014890840bdf9bdccb20ee"
      }
     },
     "b70964ec460247488ce72f200a84b4ed": {
      "model_module": "@jupyter-widgets/base",
      "model_module_version": "1.2.0",
      "model_name": "LayoutModel",
      "state": {
       "grid_area": "dircontent",
       "width": "auto"
      }
     },
     "b72a9b922cab46019a47b2d13519e8ef": {
      "model_module": "@jupyter-widgets/controls",
      "model_module_version": "1.5.0",
      "model_name": "DescriptionStyleModel",
      "state": {
       "description_width": ""
      }
     },
     "b7a994d52b504376a38a629a0035f2df": {
      "model_module": "@jupyter-widgets/controls",
      "model_module_version": "1.5.0",
      "model_name": "ButtonModel",
      "state": {
       "button_style": "danger",
       "description": "Compute",
       "icon": "check",
       "layout": "IPY_MODEL_d9c3226c8371477ab4f51681689caacd",
       "style": "IPY_MODEL_830ffc4c4d6c40b295000006c3d78c0e",
       "tooltip": "Run computation"
      }
     },
     "b83def313f3c4e6fb0f328ac406fb62f": {
      "model_module": "@jupyter-widgets/controls",
      "model_module_version": "1.5.0",
      "model_name": "ButtonStyleModel",
      "state": {}
     },
     "b8e23b7f45d44033a8b9f16de2dd0def": {
      "model_module": "@jupyter-widgets/controls",
      "model_module_version": "1.5.0",
      "model_name": "GridBoxModel",
      "state": {
       "children": [
        "IPY_MODEL_4a16221c79744aaf87627594b7f6bf88",
        "IPY_MODEL_d6b15928b74d4f9bb72f695de7ead23c",
        "IPY_MODEL_1264f7d93fdf41a29332a72a84fd0cc2"
       ],
       "layout": "IPY_MODEL_39da38b371a848c294b2ba2adf82752b"
      }
     },
     "b9aaa10146194290a8bbfff8556a23ed": {
      "model_module": "@jupyter-widgets/base",
      "model_module_version": "1.2.0",
      "model_name": "LayoutModel",
      "state": {}
     },
     "ba4d8f7bc0a54db3bf0b8b17c2456247": {
      "model_module": "@jupyter-widgets/controls",
      "model_module_version": "1.5.0",
      "model_name": "DescriptionStyleModel",
      "state": {
       "description_width": ""
      }
     },
     "ba5f2a2cba5c4eb7b26ca5973134dc9a": {
      "model_module": "@jupyter-widgets/controls",
      "model_module_version": "1.5.0",
      "model_name": "DescriptionStyleModel",
      "state": {
       "description_width": ""
      }
     },
     "bb70e798e26546668e737f147529280a": {
      "model_module": "@jupyter-widgets/base",
      "model_module_version": "1.2.0",
      "model_name": "LayoutModel",
      "state": {}
     },
     "bb7c960210034ffaa6baa2853a93d45f": {
      "model_module": "@jupyter-widgets/controls",
      "model_module_version": "1.5.0",
      "model_name": "ButtonModel",
      "state": {
       "description": "Change",
       "layout": "IPY_MODEL_2df38dd021124f29a8056e1e307697cd",
       "style": "IPY_MODEL_07c831cf83aa4536aebc7513721d44cb"
      }
     },
     "bcd55b5072224c63a9a5db98d2c0a95c": {
      "model_module": "@jupyter-widgets/controls",
      "model_module_version": "1.5.0",
      "model_name": "ButtonModel",
      "state": {
       "button_style": "danger",
       "description": "Compute",
       "icon": "check",
       "layout": "IPY_MODEL_2f4e633c55424074a774b3dc2b3ff78e",
       "style": "IPY_MODEL_30d5d5cf01d6448dac9e9ec204ee749f",
       "tooltip": "Run computation"
      }
     },
     "bd0c0316da6f4100b2129ce7850bc7c4": {
      "model_module": "@jupyter-widgets/controls",
      "model_module_version": "1.5.0",
      "model_name": "VBoxModel",
      "state": {
       "children": [
        "IPY_MODEL_72a8afb3fe7448829619e227b112e436",
        "IPY_MODEL_86e5beaee3304235bd5d93a080733d23"
       ],
       "layout": "IPY_MODEL_4693df186635442982a52d623bdd36a1"
      }
     },
     "bdc0561ff0e4472aaa613395c7efa24f": {
      "model_module": "@jupyter-widgets/controls",
      "model_module_version": "1.5.0",
      "model_name": "TextareaModel",
      "state": {
       "description": "<=> WKT",
       "layout": "IPY_MODEL_c5c23b2b131b4ded9a78250f0bf6cd60",
       "style": "IPY_MODEL_8cceeafd6987417383790a2e5c2499cf",
       "value": "PROJCS[\"NAD83 / UTM zone 14N\",GEOGCS[\"NAD83\",DATUM[\"North_American_Datum_1983\",SPHEROID[\"GRS 1980\",6378137,298.257222101,AUTHORITY[\"EPSG\",\"7019\"]],AUTHORITY[\"EPSG\",\"6269\"]],PRIMEM[\"Greenwich\",0,AUTHORITY[\"EPSG\",\"8901\"]],UNIT[\"degree\",0.0174532925199433,AUTHORITY[\"EPSG\",\"9122\"]],AUTHORITY[\"EPSG\",\"4269\"]],PROJECTION[\"Transverse_Mercator\"],PARAMETER[\"latitude_of_origin\",0],PARAMETER[\"central_meridian\",-99],PARAMETER[\"scale_factor\",0.9996],PARAMETER[\"false_easting\",500000],PARAMETER[\"false_northing\",0],UNIT[\"metre\",1,AUTHORITY[\"EPSG\",\"9001\"]],AXIS[\"Easting\",EAST],AXIS[\"Northing\",NORTH],AUTHORITY[\"EPSG\",\"26914\"]]"
      }
     },
     "be7b7c3f50bd4217a4d2b604280aa2ad": {
      "model_module": "@jupyter-widgets/controls",
      "model_module_version": "1.5.0",
      "model_name": "DescriptionStyleModel",
      "state": {
       "description_width": ""
      }
     },
     "bfbb7d02db0f414783ebf638bec9ec55": {
      "model_module": "@jupyter-widgets/base",
      "model_module_version": "1.2.0",
      "model_name": "LayoutModel",
      "state": {}
     },
     "c00ac64b60664496bd612b6af79e8bcb": {
      "model_module": "@jupyter-widgets/controls",
      "model_module_version": "1.5.0",
      "model_name": "TextModel",
      "state": {
       "continuous_update": false,
       "description": "Group:",
       "layout": "IPY_MODEL_913089801c8b43bbbeddac3fef6a06b2",
       "style": "IPY_MODEL_afde47735cc84c1f84f84435e052fbd4",
       "value": "CoordinateTransformation"
      }
     },
     "c029f89411ee40c39bb5bb59372abeb2": {
      "model_module": "@jupyter-widgets/controls",
      "model_module_version": "1.5.0",
      "model_name": "DescriptionStyleModel",
      "state": {
       "description_width": ""
      }
     },
     "c152ab4b1c144d66a9ef87dcf2b870b1": {
      "model_module": "@jupyter-widgets/controls",
      "model_module_version": "1.5.0",
      "model_name": "ButtonStyleModel",
      "state": {}
     },
     "c16d642ca1bb492798af19492dfe87f1": {
      "model_module": "@jupyter-widgets/controls",
      "model_module_version": "1.5.0",
      "model_name": "VBoxModel",
      "state": {
       "children": [
        "IPY_MODEL_b7a994d52b504376a38a629a0035f2df",
        "IPY_MODEL_dc898363a5924ad78ae54ab22fd562a0"
       ],
       "layout": "IPY_MODEL_18136e4c4ef74ed8bcff2bb0119c3e8e"
      }
     },
     "c186bba3052442038431d45731bf5c61": {
      "model_module": "@jupyter-widgets/controls",
      "model_module_version": "1.5.0",
      "model_name": "ButtonStyleModel",
      "state": {}
     },
     "c20caf81f57c44a996cc8f9764f982d4": {
      "model_module": "@jupyter-widgets/controls",
      "model_module_version": "1.5.0",
      "model_name": "DropdownModel",
      "state": {
       "_options_labels": [
        "C:\\Users\\dominiquef\\Documents\\GIT\\mira\\mirageoscience-apps\\assets",
        "C:\\Users\\dominiquef\\Documents\\GIT\\mira\\mirageoscience-apps",
        "C:\\Users\\dominiquef\\Documents\\GIT\\mira",
        "C:\\Users\\dominiquef\\Documents\\GIT",
        "C:\\Users\\dominiquef\\Documents",
        "C:\\Users\\dominiquef",
        "C:\\Users",
        "C:\\",
        "D:\\",
        "Z:\\"
       ],
       "index": 0,
       "layout": "IPY_MODEL_55c37d5237554d559beca5f668079593",
       "style": "IPY_MODEL_135a468d0de04c209431f6562e4d29a1"
      }
     },
     "c2597ef3a8ec42dcb6aead8a52adea0f": {
      "model_module": "@jupyter-widgets/controls",
      "model_module_version": "1.5.0",
      "model_name": "LabelModel",
      "state": {
       "layout": "IPY_MODEL_c67ec2a3ebeb4e8f87a501c016605306",
       "style": "IPY_MODEL_2dab37360ab143e393dde6bbe3675584",
       "value": "Workspace"
      }
     },
     "c3033d4b08da4be28ad3da2ed705b936": {
      "model_module": "@jupyter-widgets/controls",
      "model_module_version": "1.5.0",
      "model_name": "DescriptionStyleModel",
      "state": {
       "description_width": "initial"
      }
     },
     "c30f1b89103b41f8abdffd79291ea41e": {
      "model_module": "@jupyter-widgets/base",
      "model_module_version": "1.2.0",
      "model_name": "LayoutModel",
      "state": {}
     },
     "c370d75e686d4ecdb82b9423f318814e": {
      "model_module": "@jupyter-widgets/controls",
      "model_module_version": "1.5.0",
      "model_name": "ButtonStyleModel",
      "state": {}
     },
     "c40ec656489440349f9a500a5d9f0f08": {
      "model_module": "@jupyter-widgets/controls",
      "model_module_version": "1.5.0",
      "model_name": "SelectModel",
      "state": {
       "_options_labels": [
        "..",
        "Temp",
        "FlinFlon.geoh5",
        "Inversion_.json",
        "MtDore_TMI.geoh5"
       ],
       "index": 2,
       "layout": "IPY_MODEL_103c183e72644f6b8b695fc663c0d62b",
       "rows": 8,
       "style": "IPY_MODEL_1762a1c9262e44d5b21ccd3f96d0ce9c"
      }
     },
     "c46af7523b294cafa3de2bafbb90dc6f": {
      "model_module": "@jupyter-widgets/controls",
      "model_module_version": "1.5.0",
      "model_name": "HTMLModel",
      "state": {
       "layout": "IPY_MODEL_7a082e78e8404a04ac31e924e1d09a22",
       "placeholder": "",
       "style": "IPY_MODEL_f9b7dcc108954da3b1c0f5266f587e56",
       "value": "<span style=\"margin-left:10px; color:orange;\">C:\\Users\\dominiquef\\Documents\\GIT\\mira\\mirageoscience-apps\\assets\\FlinFlon.geoh5</span>"
      }
     },
     "c51da2737c804b0f8650f36e320cbd73": {
      "model_module": "@jupyter-widgets/controls",
      "model_module_version": "1.5.0",
      "model_name": "SelectModel",
      "state": {
       "_options_labels": [
        "..",
        "images"
       ],
       "index": null,
       "layout": "IPY_MODEL_0b55a3d8418f409a922f29f8a68ea62d",
       "rows": 8,
       "style": "IPY_MODEL_ba4d8f7bc0a54db3bf0b8b17c2456247"
      }
     },
     "c578365c6adf47589975ae6f1b84f8a2": {
      "model_module": "@jupyter-widgets/controls",
      "model_module_version": "1.5.0",
      "model_name": "DescriptionStyleModel",
      "state": {
       "description_width": ""
      }
     },
     "c5bc4f40fd134f45aee1b3d044c6dc21": {
      "model_module": "@jupyter-widgets/base",
      "model_module_version": "1.2.0",
      "model_name": "LayoutModel",
      "state": {
       "width": "auto"
      }
     },
     "c5c23b2b131b4ded9a78250f0bf6cd60": {
      "model_module": "@jupyter-widgets/base",
      "model_module_version": "1.2.0",
      "model_name": "LayoutModel",
      "state": {
       "width": "50%"
      }
     },
     "c62cdab326924ece9abc18e92e13ecf6": {
      "model_module": "@jupyter-widgets/controls",
      "model_module_version": "1.5.0",
      "model_name": "DescriptionStyleModel",
      "state": {
       "description_width": ""
      }
     },
     "c6332b5afdca4837a6511fdf94e03d63": {
      "model_module": "@jupyter-widgets/base",
      "model_module_version": "1.2.0",
      "model_name": "LayoutModel",
      "state": {
       "grid_area": "pathlist",
       "width": "auto"
      }
     },
     "c67ec2a3ebeb4e8f87a501c016605306": {
      "model_module": "@jupyter-widgets/base",
      "model_module_version": "1.2.0",
      "model_name": "LayoutModel",
      "state": {}
     },
     "c746042fd1c445b89ac4e919bed1ab22": {
      "model_module": "@jupyter-widgets/base",
      "model_module_version": "1.2.0",
      "model_name": "LayoutModel",
      "state": {}
     },
     "c7d4044003884ae7a49777f6ea57fa35": {
      "model_module": "@jupyter-widgets/base",
      "model_module_version": "1.2.0",
      "model_name": "LayoutModel",
      "state": {
       "width": "auto"
      }
     },
     "c801831ec7034bacb1658ed4c63d5a0b": {
      "model_module": "@jupyter-widgets/controls",
      "model_module_version": "1.5.0",
      "model_name": "DescriptionStyleModel",
      "state": {
       "description_width": ""
      }
     },
     "c925b12f8ac44f0b9fc079b0753e91c9": {
      "model_module": "@jupyter-widgets/controls",
      "model_module_version": "1.5.0",
      "model_name": "SelectMultipleModel",
      "state": {
       "_options_labels": [
        "",
        "fault_splay1",
        "fault_Cliff_Lake",
        "fault_Other_FlinFlon",
        "fault_Club_Lake_splay",
        "fault_Catherine_splay2",
        "fault_Birch_View",
        "fault_Dion_Lake",
        "fault_FlinFlon_splay",
        "fault_West_Mandy_Road",
        "fault_Channing",
        "fault_Ross_Lake",
        "fault_Louis_Hidden",
        "fault_Lake_View_thrust",
        "contact_Schist_Lake",
        "fault_Burley_Lake",
        "fault_Dion_Lake_splay",
        "fault_Green_Lake",
        "fault_FlinFlon",
        "fault_Catherine_splay1",
        "fault_East_Mandy_Road",
        "fault_Other_FlinFlon_South",
        "fault_Catherine_splay4",
        "contact_Stitt_Island",
        "fault_Club_Lake",
        "fault_Tailing_Pond",
        "35_Hidden_Reservoir_Hr5",
        "29_Hidden_Reservoir_Hr1a",
        "60_BlueLagoon_Fb2",
        "20_FlinFlon_Undivided_Int_Dykes_D2f",
        "04_Boundary_Intrusive_S4h",
        "53_Millrock_Rhyolite_Fm4b",
        "19_FlinFlon_Undivided_Int_Dykes_D2b",
        "18_FlinFlon_Undivided_Int_Dykes_777_D2b",
        "06_Phantom_Lake_Intrusive_S3a",
        "21_FlinFlon_Undivided_Int_Dykes_D3a",
        "43_Millrock_CHLSH_South",
        "56_Millrock_Basalt_Fm1ba",
        "17_FlinFlon_Undivided_Int_Dykes_D2",
        "32_Hidden_Reservoir_Hr1b_SW",
        "11_Missi_M3_NE",
        "13_Missi_M1",
        "07_Annabel_Granitoid_S1",
        "45_Millrock_Gabbro_South",
        "01_Late_Intrusive_S5b",
        "31_Hidden_Reservoir_Hr1c_SW",
        "52_Millrock_Rhyolite_Fm4_West_check",
        "55_Millrock_Basalt_Fm1bf",
        "34_Hidden_Reservoir_Hr2b",
        "03_Boundary_Intrusive_S4b",
        "42_Millrock_CHLSH_North",
        "26_Louis_L3",
        "23_FlinFlon_Undivided_Int_Felsic_D4g",
        "30_Hidden_Reservoir_Hr1b",
        "59_BlueLagoon_Fb3",
        "49_Millrock_MVR_Fm5d",
        "44_Millrock_Gabbro_North",
        "27_Hidden_Carlisle_Hc4",
        "22_FlinFlon_Undivided_Int_Felsic_D4e",
        "02_Boundary_Intrusive_S4a",
        "61_BlueLagoon_Fb1_NW",
        "05_Boundary_Intrusive_S4g",
        "39_Ore_Callinan",
        "38_Ore_Dan_Owens",
        "40_Ore_FlinFlon",
        "Inversion_VTEM_Model",
        "Gravity_Magnetics_drape60m",
        "CDI_VTEM_model",
        "Data_FEM_pseudo3D",
        "geochem",
        "Inversion_DIGHEM_Model",
        "Topography",
        "Data_TEM_pseudo3D"
       ],
       "description": "Object:",
       "index": [
        66,
        72
       ],
       "layout": "IPY_MODEL_24dc95ba80104459a2abd7e8f7806a01",
       "rows": 5,
       "style": "IPY_MODEL_7ab6293266a541bcb6d7aa5552120083"
      }
     },
     "c9803c1ff3c4485288f7a0a0994537eb": {
      "model_module": "@jupyter-widgets/controls",
      "model_module_version": "1.5.0",
      "model_name": "LabelModel",
      "state": {
       "layout": "IPY_MODEL_2de8cf33d46746f6b570418d2642edb4",
       "style": "IPY_MODEL_0bbdc9c8f69546bda57dae7f092b9a38",
       "value": "Workspace"
      }
     },
     "c9b4308e3b044a2da83dd11bf879552b": {
      "model_module": "@jupyter-widgets/base",
      "model_module_version": "1.2.0",
      "model_name": "LayoutModel",
      "state": {
       "grid_area": "dircontent",
       "width": "auto"
      }
     },
     "ca4e84366b9645e6bb3b39c5c98be22f": {
      "model_module": "@jupyter-widgets/base",
      "model_module_version": "1.2.0",
      "model_name": "LayoutModel",
      "state": {
       "width": "auto"
      }
     },
     "cb0258cfe32948e7bfc8d367ebb4fbcc": {
      "model_module": "@jupyter-widgets/base",
      "model_module_version": "1.2.0",
      "model_name": "LayoutModel",
      "state": {
       "display": "none",
       "width": "auto"
      }
     },
     "ccdc331a89ce42a18898fe00c908037b": {
      "model_module": "@jupyter-widgets/base",
      "model_module_version": "1.2.0",
      "model_name": "LayoutModel",
      "state": {}
     },
     "cd2acbc2f0f14a028e78dfc5237e5ca6": {
      "model_module": "@jupyter-widgets/controls",
      "model_module_version": "1.5.0",
      "model_name": "VBoxModel",
      "state": {
       "children": [
        "IPY_MODEL_e9f2fcf007934deabeced26d65c0a43f",
        "IPY_MODEL_4de7a45498c8478daf100b1663dcd1b7",
        "IPY_MODEL_a3ba2a7826164c1e825586a2bba267fd"
       ],
       "layout": "IPY_MODEL_845ab1a694e54e6485b30e530c793c78"
      }
     },
     "ce95ddcd40aa4d969a390d7862832bb1": {
      "model_module": "@jupyter-widgets/controls",
      "model_module_version": "1.5.0",
      "model_name": "ButtonModel",
      "state": {
       "description": "Select",
       "layout": "IPY_MODEL_c5bc4f40fd134f45aee1b3d044c6dc21",
       "style": "IPY_MODEL_45fd83bae49b4c58aa7d824bdc82570d"
      }
     },
     "ceafffd1eb7146a488213d120928c8e6": {
      "model_module": "@jupyter-widgets/base",
      "model_module_version": "1.2.0",
      "model_name": "LayoutModel",
      "state": {}
     },
     "cee66ccb19904172b3dc630eff941368": {
      "model_module": "@jupyter-widgets/base",
      "model_module_version": "1.2.0",
      "model_name": "LayoutModel",
      "state": {}
     },
     "cf4572e8d2f4478f820b681b89d62411": {
      "model_module": "@jupyter-widgets/base",
      "model_module_version": "1.2.0",
      "model_name": "LayoutModel",
      "state": {}
     },
     "d02dc78f8c4541388897425d203643bd": {
      "model_module": "@jupyter-widgets/controls",
      "model_module_version": "1.5.0",
      "model_name": "SelectMultipleModel",
      "state": {
       "_options_labels": [
        "",
        "Gravity_Magnetics_drape60mEPSG_4326",
        "Gravity_Magnetics_drape60mEPSG_4326",
        "Data_TEM_pseudo3DEPSG_4326",
        "Data_TEM_pseudo3D",
        "Gravity_Magnetics_drape60mEPSG_4326",
        "Data_TEM_pseudo3DEPSG_4326",
        "Gravity_Magnetics_drape60mEPSG_4326",
        "Data_TEM_pseudo3D",
        "Gravity_Magnetics_drape60mEPSG_4326",
        "fault_splay1",
        "fault_Cliff_Lake",
        "fault_Other_FlinFlon",
        "fault_Club_Lake_splay",
        "fault_Catherine_splay2",
        "fault_Birch_View",
        "fault_Dion_Lake",
        "fault_FlinFlon_splay",
        "fault_West_Mandy_Road",
        "fault_Channing",
        "fault_Ross_Lake",
        "fault_Louis_Hidden",
        "fault_Lake_View_thrust",
        "contact_Schist_Lake",
        "fault_Burley_Lake",
        "fault_Dion_Lake_splay",
        "fault_Green_Lake",
        "fault_FlinFlon",
        "fault_Catherine_splay1",
        "fault_East_Mandy_Road",
        "fault_Other_FlinFlon_South",
        "fault_Catherine_splay4",
        "contact_Stitt_Island",
        "fault_Club_Lake",
        "fault_Tailing_Pond",
        "35_Hidden_Reservoir_Hr5",
        "29_Hidden_Reservoir_Hr1a",
        "60_BlueLagoon_Fb2",
        "20_FlinFlon_Undivided_Int_Dykes_D2f",
        "04_Boundary_Intrusive_S4h",
        "53_Millrock_Rhyolite_Fm4b",
        "19_FlinFlon_Undivided_Int_Dykes_D2b",
        "18_FlinFlon_Undivided_Int_Dykes_777_D2b",
        "06_Phantom_Lake_Intrusive_S3a",
        "21_FlinFlon_Undivided_Int_Dykes_D3a",
        "43_Millrock_CHLSH_South",
        "56_Millrock_Basalt_Fm1ba",
        "17_FlinFlon_Undivided_Int_Dykes_D2",
        "32_Hidden_Reservoir_Hr1b_SW",
        "11_Missi_M3_NE",
        "13_Missi_M1",
        "07_Annabel_Granitoid_S1",
        "45_Millrock_Gabbro_South",
        "01_Late_Intrusive_S5b",
        "31_Hidden_Reservoir_Hr1c_SW",
        "52_Millrock_Rhyolite_Fm4_West_check",
        "55_Millrock_Basalt_Fm1bf",
        "34_Hidden_Reservoir_Hr2b",
        "03_Boundary_Intrusive_S4b",
        "42_Millrock_CHLSH_North",
        "26_Louis_L3",
        "23_FlinFlon_Undivided_Int_Felsic_D4g",
        "30_Hidden_Reservoir_Hr1b",
        "59_BlueLagoon_Fb3",
        "49_Millrock_MVR_Fm5d",
        "44_Millrock_Gabbro_North",
        "27_Hidden_Carlisle_Hc4",
        "22_FlinFlon_Undivided_Int_Felsic_D4e",
        "02_Boundary_Intrusive_S4a",
        "61_BlueLagoon_Fb1_NW",
        "05_Boundary_Intrusive_S4g",
        "39_Ore_Callinan",
        "38_Ore_Dan_Owens",
        "40_Ore_FlinFlon",
        "Inversion_VTEM_Model",
        "Gravity_Magnetics_drape60m",
        "CDI_VTEM_model",
        "Data_FEM_pseudo3D",
        "geochem",
        "Inversion_DIGHEM_Model",
        "Topography",
        "Data_TEM_pseudo3D"
       ],
       "description": "Object:",
       "index": [
        75,
        4
       ],
       "layout": "IPY_MODEL_7bcaec57f28c457fbe131c5663df58de",
       "rows": 5,
       "style": "IPY_MODEL_0dff440a122b43188e94addf6d8f314a"
      }
     },
     "d0abd31c947f4e57b4db964d08e7afd5": {
      "model_module": "@jupyter-widgets/controls",
      "model_module_version": "1.5.0",
      "model_name": "SelectModel",
      "state": {
       "_options_labels": [
        "..",
        "Temp",
        "FlinFlon.geoh5",
        "Inversion_.json",
        "MtDore_TMI.geoh5"
       ],
       "index": 2,
       "layout": "IPY_MODEL_b70964ec460247488ce72f200a84b4ed",
       "rows": 8,
       "style": "IPY_MODEL_2f573c64e22f457cba706ec3b715c8d4"
      }
     },
     "d119e3658e1548449c5a78a870555025": {
      "model_module": "@jupyter-widgets/base",
      "model_module_version": "1.2.0",
      "model_name": "LayoutModel",
      "state": {
       "display": "none",
       "grid_area": "filename",
       "width": "auto"
      }
     },
     "d11cb59231dd469f80c1487d2a242f7a": {
      "model_module": "@jupyter-widgets/controls",
      "model_module_version": "1.5.0",
      "model_name": "ButtonStyleModel",
      "state": {}
     },
     "d11f5580ac8e422ba200acb42769ba50": {
      "model_module": "@jupyter-widgets/controls",
      "model_module_version": "1.5.0",
      "model_name": "DescriptionStyleModel",
      "state": {
       "description_width": "initial"
      }
     },
     "d15144cde4734bf2a55ecd28e5e76a79": {
      "model_module": "@jupyter-widgets/controls",
      "model_module_version": "1.5.0",
      "model_name": "DescriptionStyleModel",
      "state": {
       "description_width": ""
      }
     },
     "d185d28cb5644791abad5d19411e52a7": {
      "model_module": "@jupyter-widgets/controls",
      "model_module_version": "1.5.0",
      "model_name": "VBoxModel",
      "state": {
       "children": [
        "IPY_MODEL_f0d11ebfa665447689109aed164f9bce"
       ],
       "layout": "IPY_MODEL_9d41981cf2bf4f40affdf523a744f675"
      }
     },
     "d1e543c6512d463e82e75e523b431fa9": {
      "model_module": "@jupyter-widgets/controls",
      "model_module_version": "1.5.0",
      "model_name": "TextModel",
      "state": {
       "continuous_update": false,
       "description": "Input Projection:",
       "layout": "IPY_MODEL_adb6842381a9427bb9d4e9182980f2e7",
       "style": "IPY_MODEL_e05b0faba684420cba34c05c68e7df1a",
       "value": "EPSG:26914"
      }
     },
     "d21a0cb67adb4db9911580ed58ede868": {
      "model_module": "@jupyter-widgets/base",
      "model_module_version": "1.2.0",
      "model_name": "LayoutModel",
      "state": {
       "grid_area": "filename",
       "width": "auto"
      }
     },
     "d2f19ac5afd443258b69ddcf0a8d8983": {
      "model_module": "@jupyter-widgets/controls",
      "model_module_version": "1.5.0",
      "model_name": "HTMLModel",
      "state": {
       "layout": "IPY_MODEL_ac578ae2a1254f909703237c9bec2156",
       "style": "IPY_MODEL_1b11041c15464380b711ae5058a88bbe"
      }
     },
     "d49c87af20e34c4393a51b7041048878": {
      "model_module": "@jupyter-widgets/controls",
      "model_module_version": "1.5.0",
      "model_name": "SelectMultipleModel",
      "state": {
       "_options_labels": [
        "",
        "Data_TEM_pseudo3DEPSG_4326",
        "Gravity_Magnetics_drape60mEPSG_4326",
        "fault_splay1",
        "fault_Cliff_Lake",
        "fault_Other_FlinFlon",
        "fault_Club_Lake_splay",
        "fault_Catherine_splay2",
        "fault_Birch_View",
        "fault_Dion_Lake",
        "fault_FlinFlon_splay",
        "fault_West_Mandy_Road",
        "fault_Channing",
        "fault_Ross_Lake",
        "fault_Louis_Hidden",
        "fault_Lake_View_thrust",
        "contact_Schist_Lake",
        "fault_Burley_Lake",
        "fault_Dion_Lake_splay",
        "fault_Green_Lake",
        "fault_FlinFlon",
        "fault_Catherine_splay1",
        "fault_East_Mandy_Road",
        "fault_Other_FlinFlon_South",
        "fault_Catherine_splay4",
        "contact_Stitt_Island",
        "fault_Club_Lake",
        "fault_Tailing_Pond",
        "35_Hidden_Reservoir_Hr5",
        "29_Hidden_Reservoir_Hr1a",
        "60_BlueLagoon_Fb2",
        "20_FlinFlon_Undivided_Int_Dykes_D2f",
        "04_Boundary_Intrusive_S4h",
        "53_Millrock_Rhyolite_Fm4b",
        "19_FlinFlon_Undivided_Int_Dykes_D2b",
        "18_FlinFlon_Undivided_Int_Dykes_777_D2b",
        "06_Phantom_Lake_Intrusive_S3a",
        "21_FlinFlon_Undivided_Int_Dykes_D3a",
        "43_Millrock_CHLSH_South",
        "56_Millrock_Basalt_Fm1ba",
        "17_FlinFlon_Undivided_Int_Dykes_D2",
        "32_Hidden_Reservoir_Hr1b_SW",
        "11_Missi_M3_NE",
        "13_Missi_M1",
        "07_Annabel_Granitoid_S1",
        "45_Millrock_Gabbro_South",
        "01_Late_Intrusive_S5b",
        "31_Hidden_Reservoir_Hr1c_SW",
        "52_Millrock_Rhyolite_Fm4_West_check",
        "55_Millrock_Basalt_Fm1bf",
        "34_Hidden_Reservoir_Hr2b",
        "03_Boundary_Intrusive_S4b",
        "42_Millrock_CHLSH_North",
        "26_Louis_L3",
        "23_FlinFlon_Undivided_Int_Felsic_D4g",
        "30_Hidden_Reservoir_Hr1b",
        "59_BlueLagoon_Fb3",
        "49_Millrock_MVR_Fm5d",
        "44_Millrock_Gabbro_North",
        "27_Hidden_Carlisle_Hc4",
        "22_FlinFlon_Undivided_Int_Felsic_D4e",
        "02_Boundary_Intrusive_S4a",
        "61_BlueLagoon_Fb1_NW",
        "05_Boundary_Intrusive_S4g",
        "39_Ore_Callinan",
        "38_Ore_Dan_Owens",
        "40_Ore_FlinFlon",
        "Inversion_VTEM_Model",
        "Gravity_Magnetics_drape60m",
        "CDI_VTEM_model",
        "Data_FEM_pseudo3D",
        "geochem",
        "Inversion_DIGHEM_Model",
        "Topography",
        "Data_TEM_pseudo3D"
       ],
       "description": "Object:",
       "index": [
        68,
        74
       ],
       "layout": "IPY_MODEL_a586c4a702974f0ca6658e00503cd44c",
       "rows": 5,
       "style": "IPY_MODEL_6821bc0fc3a24af588109b028cea9286"
      }
     },
     "d4c257339ff74f688d3804e5524ab409": {
      "model_module": "@jupyter-widgets/controls",
      "model_module_version": "1.5.0",
      "model_name": "HTMLModel",
      "state": {
       "layout": "IPY_MODEL_7f179888daba4c2bb195570c3d0e7682",
       "style": "IPY_MODEL_9297e9e735bd46d5bab90f729928dde2"
      }
     },
     "d512a6b582014890840bdf9bdccb20ee": {
      "model_module": "@jupyter-widgets/base",
      "model_module_version": "1.2.0",
      "model_name": "LayoutModel",
      "state": {
       "width": "auto"
      }
     },
     "d5b31ca4ba414581b6f39c50ba1c2f83": {
      "model_module": "@jupyter-widgets/controls",
      "model_module_version": "1.5.0",
      "model_name": "DescriptionStyleModel",
      "state": {
       "description_width": ""
      }
     },
     "d6b15928b74d4f9bb72f695de7ead23c": {
      "model_module": "@jupyter-widgets/controls",
      "model_module_version": "1.5.0",
      "model_name": "TextModel",
      "state": {
       "disabled": true,
       "layout": "IPY_MODEL_4149ff5cfb8b41a0b7fbd93a0c233414",
       "placeholder": "output filename",
       "style": "IPY_MODEL_0138e69b2b164a7db1071a0f31425072"
      }
     },
     "d9a9976375ca4ae988112149360885f7": {
      "model_module": "@jupyter-widgets/base",
      "model_module_version": "1.2.0",
      "model_name": "LayoutModel",
      "state": {}
     },
     "d9c3226c8371477ab4f51681689caacd": {
      "model_module": "@jupyter-widgets/base",
      "model_module_version": "1.2.0",
      "model_name": "LayoutModel",
      "state": {}
     },
     "d9fbb1b44c2e456eba79595f3eac35d4": {
      "model_module": "@jupyter-widgets/controls",
      "model_module_version": "1.5.0",
      "model_name": "DescriptionStyleModel",
      "state": {
       "description_width": ""
      }
     },
     "da54f0b7b65f4777b2129f89c6b88e0e": {
      "model_module": "@jupyter-widgets/base",
      "model_module_version": "1.2.0",
      "model_name": "LayoutModel",
      "state": {
       "width": "auto"
      }
     },
     "daa17b2cb44e4013a659adb58c21741d": {
      "model_module": "@jupyter-widgets/base",
      "model_module_version": "1.2.0",
      "model_name": "LayoutModel",
      "state": {
       "grid_area": "filename",
       "width": "auto"
      }
     },
     "dc063e7de3ed43d89edac339cf8f5508": {
      "model_module": "@jupyter-widgets/controls",
      "model_module_version": "1.5.0",
      "model_name": "DescriptionStyleModel",
      "state": {
       "description_width": "initial"
      }
     },
     "dc0fd91802b3403caeb5424c25ce967a": {
      "model_module": "@jupyter-widgets/controls",
      "model_module_version": "1.5.0",
      "model_name": "GridBoxModel",
      "state": {
       "children": [
        "IPY_MODEL_90e3e52533654ab49014e75dd3d66660",
        "IPY_MODEL_b51903449cc347cca279b86b3af24260",
        "IPY_MODEL_1b283bde5b36461ebc6318bcb8444de2"
       ],
       "layout": "IPY_MODEL_05a2a5bf66dd4e65b1e42717f704607f"
      }
     },
     "dc3c87c3914047f79b6f617713c262c4": {
      "model_module": "@jupyter-widgets/base",
      "model_module_version": "1.2.0",
      "model_name": "LayoutModel",
      "state": {}
     },
     "dc898363a5924ad78ae54ab22fd562a0": {
      "model_module": "@jupyter-widgets/controls",
      "model_module_version": "1.5.0",
      "model_name": "TextModel",
      "state": {
       "continuous_update": false,
       "description": "Group:",
       "layout": "IPY_MODEL_90f49b2657d94c3c83114c45844d2c35",
       "style": "IPY_MODEL_62b9b1675f434a2cb2249991a4286f28",
       "value": "CoordinateTransformation"
      }
     },
     "dccb8fa05e914c88b9ecb7d049ffddf5": {
      "model_module": "@jupyter-widgets/controls",
      "model_module_version": "1.5.0",
      "model_name": "HTMLModel",
      "state": {
       "layout": "IPY_MODEL_0b226e1a0a8a4f57899c86833731787b",
       "placeholder": "",
       "style": "IPY_MODEL_a3e84a49696547cf87a4f176d9d89a64",
       "value": "<span style=\"margin-left:10px; color:black;\">No file selected</span>"
      }
     },
     "ddf047daae5940649092f4bbf1cf6904": {
      "model_module": "@jupyter-widgets/controls",
      "model_module_version": "1.5.0",
      "model_name": "DescriptionStyleModel",
      "state": {
       "description_width": ""
      }
     },
     "ddf7e8f43ee44342b0b70cef61a004e5": {
      "model_module": "@jupyter-widgets/base",
      "model_module_version": "1.2.0",
      "model_name": "LayoutModel",
      "state": {}
     },
     "de5e755203254436ba218dc0b7409d38": {
      "model_module": "@jupyter-widgets/base",
      "model_module_version": "1.2.0",
      "model_name": "LayoutModel",
      "state": {}
     },
     "dfa258bd9def4f1d8939c33e6799a900": {
      "model_module": "@jupyter-widgets/controls",
      "model_module_version": "1.5.0",
      "model_name": "ButtonModel",
      "state": {
       "description": "Create copy:",
       "layout": "IPY_MODEL_6e281a9ae42b4b9ba3b4e3a22b7a7cfb",
       "style": "IPY_MODEL_ff6f44ef427b45ea8d4dee9ee3a2e56c"
      }
     },
     "e05735bb238249d28317475430dc328b": {
      "model_module": "@jupyter-widgets/controls",
      "model_module_version": "1.5.0",
      "model_name": "HBoxModel",
      "state": {
       "children": [
        "IPY_MODEL_81e62d149b664c6b979887a7dd8e72c6",
        "IPY_MODEL_bdc0561ff0e4472aaa613395c7efa24f"
       ],
       "layout": "IPY_MODEL_a58dcb0a9cee439abf88f6de9d2278e8"
      }
     },
     "e05b0faba684420cba34c05c68e7df1a": {
      "model_module": "@jupyter-widgets/controls",
      "model_module_version": "1.5.0",
      "model_name": "DescriptionStyleModel",
      "state": {
       "description_width": "initial"
      }
     },
     "e2f5957c48fb42048a47cdc1e4408618": {
      "model_module": "@jupyter-widgets/controls",
      "model_module_version": "1.5.0",
      "model_name": "DescriptionStyleModel",
      "state": {
       "description_width": ""
      }
     },
     "e422060b27894eb69673388165adcb41": {
      "model_module": "@jupyter-widgets/controls",
      "model_module_version": "1.5.0",
      "model_name": "DescriptionStyleModel",
      "state": {
       "description_width": ""
      }
     },
     "e4d2fd942ec9481a91a9316251021e0a": {
      "model_module": "@jupyter-widgets/controls",
      "model_module_version": "1.5.0",
      "model_name": "TextModel",
      "state": {
       "continuous_update": false,
       "description": "Input Projection:",
       "layout": "IPY_MODEL_5bbf7a00c3704f2c8d970d060a6beaf6",
       "style": "IPY_MODEL_8f1aee11c25748d8be7b12501533d763",
       "value": "EPSG:26914"
      }
     },
     "e51b5964f01847aa8cefc3a82b874799": {
      "model_module": "@jupyter-widgets/controls",
      "model_module_version": "1.5.0",
      "model_name": "ButtonStyleModel",
      "state": {}
     },
     "e521ee43b67843fdba5bc78c4a9c4b1d": {
      "model_module": "@jupyter-widgets/base",
      "model_module_version": "1.2.0",
      "model_name": "LayoutModel",
      "state": {}
     },
     "e54e4b61dc8345a49ce65b4f91d9f7a2": {
      "model_module": "@jupyter-widgets/controls",
      "model_module_version": "1.5.0",
      "model_name": "DescriptionStyleModel",
      "state": {
       "description_width": "initial"
      }
     },
     "e55d9f22def0432293ea93ca1782c4c2": {
      "model_module": "@jupyter-widgets/controls",
      "model_module_version": "1.5.0",
      "model_name": "ButtonModel",
      "state": {
       "description": "Cancel",
       "layout": "IPY_MODEL_23ee6d99520046349d2be6f9c5d799cc",
       "style": "IPY_MODEL_ed8d4ea4f4b4498d9a5bdd708e50c12a"
      }
     },
     "e82d3d934aa34643a014f601c7ecbfd8": {
      "model_module": "@jupyter-widgets/base",
      "model_module_version": "1.2.0",
      "model_name": "LayoutModel",
      "state": {}
     },
     "e86c986153cb4d64b9e08995c1e05ab3": {
      "model_module": "@jupyter-widgets/controls",
      "model_module_version": "1.5.0",
      "model_name": "DescriptionStyleModel",
      "state": {
       "description_width": ""
      }
     },
     "e8a5c0fd35dc46b387f756bb9068020a": {
      "model_module": "@jupyter-widgets/base",
      "model_module_version": "1.2.0",
      "model_name": "LayoutModel",
      "state": {}
     },
     "e9256f88165941db99487634567f39a4": {
      "model_module": "@jupyter-widgets/controls",
      "model_module_version": "1.5.0",
      "model_name": "DescriptionStyleModel",
      "state": {
       "description_width": ""
      }
     },
     "e9f2fcf007934deabeced26d65c0a43f": {
      "model_module": "@jupyter-widgets/controls",
      "model_module_version": "1.5.0",
      "model_name": "HTMLModel",
      "state": {
       "layout": "IPY_MODEL_608723897240409e854ecf0091480f27",
       "style": "IPY_MODEL_02af600b2eef4cc1b9b78746d36996e9"
      }
     },
     "eb512cd747ee4da49cb3f5621e4c8e3b": {
      "model_module": "@jupyter-widgets/controls",
      "model_module_version": "1.5.0",
      "model_name": "DescriptionStyleModel",
      "state": {
       "description_width": ""
      }
     },
     "ebc3893210274ceb87fbf8d485d5e67c": {
      "model_module": "@jupyter-widgets/controls",
      "model_module_version": "1.5.0",
      "model_name": "ButtonStyleModel",
      "state": {}
     },
     "ebfbe6d7179445489d67a1c5fb8fcbeb": {
      "model_module": "@jupyter-widgets/controls",
      "model_module_version": "1.5.0",
      "model_name": "DescriptionStyleModel",
      "state": {
       "description_width": ""
      }
     },
     "ec7768cd033e4b4295bcca766f3c6b54": {
      "model_module": "@jupyter-widgets/controls",
      "model_module_version": "1.5.0",
      "model_name": "ButtonModel",
      "state": {
       "description": "Cancel",
       "layout": "IPY_MODEL_4bb36d8a0c3e426d80a2a56b27e60b80",
       "style": "IPY_MODEL_61ed0193657446d38ce8825b8f89208a"
      }
     },
     "ed8d4ea4f4b4498d9a5bdd708e50c12a": {
      "model_module": "@jupyter-widgets/controls",
      "model_module_version": "1.5.0",
      "model_name": "ButtonStyleModel",
      "state": {}
     },
     "edf1da62b120499a9d97a2886a2311b6": {
      "model_module": "@jupyter-widgets/controls",
      "model_module_version": "1.5.0",
      "model_name": "DescriptionStyleModel",
      "state": {
       "description_width": "initial"
      }
     },
     "ef4874e20e6c42728c157327a7a30c34": {
      "model_module": "@jupyter-widgets/controls",
      "model_module_version": "1.5.0",
      "model_name": "HTMLModel",
      "state": {
       "layout": "IPY_MODEL_f4f808c759594111b5566379793b6689",
       "placeholder": "",
       "style": "IPY_MODEL_ba5f2a2cba5c4eb7b26ca5973134dc9a",
       "value": "<span style=\"margin-left:10px; color:black;\">No file selected</span>"
      }
     },
     "ef4d658ec7fe45b584fc637ef531742a": {
      "model_module": "@jupyter-widgets/base",
      "model_module_version": "1.2.0",
      "model_name": "LayoutModel",
      "state": {
       "display": "none",
       "grid_area": "filename",
       "width": "auto"
      }
     },
     "ef676f740c2246b58a2b51ccc01e0cce": {
      "model_module": "@jupyter-widgets/base",
      "model_module_version": "1.2.0",
      "model_name": "LayoutModel",
      "state": {
       "width": "50%"
      }
     },
     "effa045c28cb41969dfc5c271d4a5175": {
      "model_module": "@jupyter-widgets/controls",
      "model_module_version": "1.5.0",
      "model_name": "ButtonModel",
      "state": {
       "description": "Select",
       "layout": "IPY_MODEL_a3896c47062249f68f16320b8ec67b1f",
       "style": "IPY_MODEL_55f0bf09a64a49a6bc0012d74a92e9ce"
      }
     },
     "f02ff86496dc4fe6bb8cf59a351f8ad3": {
      "model_module": "@jupyter-widgets/base",
      "model_module_version": "1.2.0",
      "model_name": "LayoutModel",
      "state": {
       "width": "auto"
      }
     },
     "f0d11ebfa665447689109aed164f9bce": {
      "model_module": "@jupyter-widgets/controls",
      "model_module_version": "1.5.0",
      "model_name": "CheckboxModel",
      "state": {
       "description": "GA Pro - Live link",
       "disabled": false,
       "indent": false,
       "layout": "IPY_MODEL_b33ee8da120b428d9c3fac75ea3c5cef",
       "style": "IPY_MODEL_f1a4897b4d584732babafcbf17624045",
       "value": false
      }
     },
     "f11fd51fe9e94d04bde569d49de9210d": {
      "model_module": "@jupyter-widgets/controls",
      "model_module_version": "1.5.0",
      "model_name": "TextModel",
      "state": {
       "continuous_update": false,
       "description": "Output Projection:",
       "layout": "IPY_MODEL_b3f558da9e6c436a8ca9545992358ab4",
       "style": "IPY_MODEL_e54e4b61dc8345a49ce65b4f91d9f7a2",
       "value": "EPSG:4326"
      }
     },
     "f1a4897b4d584732babafcbf17624045": {
      "model_module": "@jupyter-widgets/controls",
      "model_module_version": "1.5.0",
      "model_name": "DescriptionStyleModel",
      "state": {
       "description_width": "initial"
      }
     },
     "f1c2e494a2dc4171a3ae031332e9a2fc": {
      "model_module": "@jupyter-widgets/controls",
      "model_module_version": "1.5.0",
      "model_name": "TextareaModel",
      "state": {
       "description": "<=> WKT",
       "layout": "IPY_MODEL_fafb6d69b9064352bff8c44d5990550f",
       "style": "IPY_MODEL_333461931755440992f7458d12210394",
       "value": "GEOGCS[\"WGS 84\",DATUM[\"WGS_1984\",SPHEROID[\"WGS 84\",6378137,298.257223563,AUTHORITY[\"EPSG\",\"7030\"]],AUTHORITY[\"EPSG\",\"6326\"]],PRIMEM[\"Greenwich\",0,AUTHORITY[\"EPSG\",\"8901\"]],UNIT[\"degree\",0.0174532925199433,AUTHORITY[\"EPSG\",\"9122\"]],AXIS[\"Latitude\",NORTH],AXIS[\"Longitude\",EAST],AUTHORITY[\"EPSG\",\"4326\"]]"
      }
     },
     "f29fb5b03e0443aebd2f9919e6a23dba": {
      "model_module": "@jupyter-widgets/controls",
      "model_module_version": "1.5.0",
      "model_name": "HTMLModel",
      "state": {
       "layout": "IPY_MODEL_813af04f0104495bad0b87cfd94955ad",
       "style": "IPY_MODEL_e9256f88165941db99487634567f39a4"
      }
     },
     "f457dc8822bd4d7996591b3e3f422f62": {
      "model_module": "@jupyter-widgets/base",
      "model_module_version": "1.2.0",
      "model_name": "LayoutModel",
      "state": {
       "grid_area": "filename",
       "width": "auto"
      }
     },
     "f4f808c759594111b5566379793b6689": {
      "model_module": "@jupyter-widgets/base",
      "model_module_version": "1.2.0",
      "model_name": "LayoutModel",
      "state": {}
     },
     "f5914e76a03d47df9594c6ae3de4d9b3": {
      "model_module": "@jupyter-widgets/controls",
      "model_module_version": "1.5.0",
      "model_name": "DescriptionStyleModel",
      "state": {
       "description_width": ""
      }
     },
     "f5b3a32a129a4e268ae2d28898c2d6c5": {
      "model_module": "@jupyter-widgets/base",
      "model_module_version": "1.2.0",
      "model_name": "LayoutModel",
      "state": {
       "width": "auto"
      }
     },
     "f5caa7610a5343b5b4b88240bb9ae50e": {
      "model_module": "@jupyter-widgets/controls",
      "model_module_version": "1.5.0",
      "model_name": "DescriptionStyleModel",
      "state": {
       "description_width": ""
      }
     },
     "f6b3bbd921e9419ebcd36ee71c2a4176": {
      "model_module": "@jupyter-widgets/controls",
      "model_module_version": "1.5.0",
      "model_name": "DescriptionStyleModel",
      "state": {
       "description_width": ""
      }
     },
     "f963314028764846b5ea11971b96f22a": {
      "model_module": "@jupyter-widgets/base",
      "model_module_version": "1.2.0",
      "model_name": "LayoutModel",
      "state": {}
     },
     "f9794bf8ef614951999f2dd4c1386437": {
      "model_module": "@jupyter-widgets/base",
      "model_module_version": "1.2.0",
      "model_name": "LayoutModel",
      "state": {
       "width": "50%"
      }
     },
     "f9b7dcc108954da3b1c0f5266f587e56": {
      "model_module": "@jupyter-widgets/controls",
      "model_module_version": "1.5.0",
      "model_name": "DescriptionStyleModel",
      "state": {
       "description_width": ""
      }
     },
     "f9b95720f1824c139b3fa4a892a8d5bd": {
      "model_module": "@jupyter-widgets/controls",
      "model_module_version": "1.5.0",
      "model_name": "DescriptionStyleModel",
      "state": {
       "description_width": ""
      }
     },
     "fafb6d69b9064352bff8c44d5990550f": {
      "model_module": "@jupyter-widgets/base",
      "model_module_version": "1.2.0",
      "model_name": "LayoutModel",
      "state": {
       "width": "50%"
      }
     },
     "fb97e51b7f3c4a5b9020c64eabd66c94": {
      "model_module": "@jupyter-widgets/controls",
      "model_module_version": "1.5.0",
      "model_name": "LabelModel",
      "state": {
       "layout": "IPY_MODEL_b9aaa10146194290a8bbfff8556a23ed",
       "style": "IPY_MODEL_6c4dc019f3194e37a16b75fc12c10dd2",
       "value": "Monitoring folder"
      }
     },
     "fbd92ee6f996455b97c370c7ae294ade": {
      "model_module": "@jupyter-widgets/base",
      "model_module_version": "1.2.0",
      "model_name": "LayoutModel",
      "state": {}
     },
     "fc6a77be2c7840e4a66e70daae664970": {
      "model_module": "@jupyter-widgets/controls",
      "model_module_version": "1.5.0",
      "model_name": "VBoxModel",
      "state": {
       "children": [
        "IPY_MODEL_7dc773958dc04c60ab298b7e7244367f",
        "IPY_MODEL_dc0fd91802b3403caeb5424c25ce967a",
        "IPY_MODEL_a0ad52b992ba4dfca9147939740f2a32"
       ],
       "layout": "IPY_MODEL_4e6bb031b725472dbbce30b4f51b00ea"
      }
     },
     "fc7b7516ffdf441c9fe85a2f18d49343": {
      "model_module": "@jupyter-widgets/base",
      "model_module_version": "1.2.0",
      "model_name": "LayoutModel",
      "state": {}
     },
     "fc971d6dffee40eeabe103f4df9e4551": {
      "model_module": "@jupyter-widgets/controls",
      "model_module_version": "1.5.0",
      "model_name": "CheckboxModel",
      "state": {
       "description": "GA Pro - Live link",
       "disabled": false,
       "indent": false,
       "layout": "IPY_MODEL_548b1930f42e4e09aaa55345ebece949",
       "style": "IPY_MODEL_18871eb40b9545a2966f67249884b2c2",
       "value": false
      }
     },
     "fd31e0b8c4d1481396eb2b661cbd3e81": {
      "model_module": "@jupyter-widgets/controls",
      "model_module_version": "1.5.0",
      "model_name": "ButtonStyleModel",
      "state": {}
     },
     "fe1481a9a1324a169542aaa1d0a54878": {
      "model_module": "@jupyter-widgets/controls",
      "model_module_version": "1.5.0",
      "model_name": "VBoxModel",
      "state": {
       "children": [
        "IPY_MODEL_72a8afb3fe7448829619e227b112e436",
        "IPY_MODEL_d02dc78f8c4541388897425d203643bd",
        "IPY_MODEL_e05735bb238249d28317475430dc328b",
        "IPY_MODEL_44e4178bca724a859b5aaf5ee6c6a8ee",
        "IPY_MODEL_86e5beaee3304235bd5d93a080733d23"
       ],
       "layout": "IPY_MODEL_e8a5c0fd35dc46b387f756bb9068020a"
      }
     },
     "fe942be03aea48b99b288488d0f139b8": {
      "model_module": "@jupyter-widgets/base",
      "model_module_version": "1.2.0",
      "model_name": "LayoutModel",
      "state": {
       "width": "auto"
      }
     },
     "febed79946b34e05b9c25d3c02700d9f": {
      "model_module": "@jupyter-widgets/controls",
      "model_module_version": "1.5.0",
      "model_name": "ButtonModel",
      "state": {
       "description": "Select",
       "layout": "IPY_MODEL_11167b82f6df4b049cd112ee6b057e23",
       "style": "IPY_MODEL_5eb70b77042e4cb8b64837164830d994"
      }
     },
     "fef4c64790a34969806f6fe231370956": {
      "model_module": "@jupyter-widgets/controls",
      "model_module_version": "1.5.0",
      "model_name": "DescriptionStyleModel",
      "state": {
       "description_width": ""
      }
     },
     "ff159e3e4fcb429e9a0f1df39a54ae9f": {
      "model_module": "@jupyter-widgets/controls",
      "model_module_version": "1.5.0",
      "model_name": "VBoxModel",
      "state": {
       "children": [
        "IPY_MODEL_ace27b3606f6433cb5aea76b9308ab34",
        "IPY_MODEL_cd2acbc2f0f14a028e78dfc5237e5ca6"
       ],
       "layout": "IPY_MODEL_bb70e798e26546668e737f147529280a"
      }
     },
     "ff6f44ef427b45ea8d4dee9ee3a2e56c": {
      "model_module": "@jupyter-widgets/controls",
      "model_module_version": "1.5.0",
      "model_name": "ButtonStyleModel",
      "state": {}
     }
    },
    "version_major": 2,
    "version_minor": 0
   }
  }
 },
 "nbformat": 4,
 "nbformat_minor": 5
}

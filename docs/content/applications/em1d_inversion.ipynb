version https://git-lfs.github.com/spec/v1
oid sha256:9733c5881685b5c8dc4a24e24e855725834f2d54376d6a95e0c728e42d5d74de
size 4593094

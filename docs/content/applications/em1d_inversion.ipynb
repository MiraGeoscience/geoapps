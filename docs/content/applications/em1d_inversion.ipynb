version https://git-lfs.github.com/spec/v1
oid sha256:7978a46e7535ebe78763d99d1c701c41df1ce7884d4af6cf0a49dc2c62e062b1
size 2533755

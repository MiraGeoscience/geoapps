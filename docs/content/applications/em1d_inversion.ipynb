version https://git-lfs.github.com/spec/v1
oid sha256:2caf7c9f1ed78a250b83bdf0c28719c7bdb21190e1174f4f0c958d603c9b869c
size 5104252

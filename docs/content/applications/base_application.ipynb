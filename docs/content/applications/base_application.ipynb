version https://git-lfs.github.com/spec/v1
oid sha256:7289324c68174288688b6a73e40b0fcb392a16d6a6c011e6ab399fe9e6dc3846
size 895353

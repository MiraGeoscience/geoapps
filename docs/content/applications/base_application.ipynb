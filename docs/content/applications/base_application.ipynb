version https://git-lfs.github.com/spec/v1
oid sha256:092da9b88f9d8b459df48a47862c231e244cad4597de0d563381dd8de18b9373
size 895898

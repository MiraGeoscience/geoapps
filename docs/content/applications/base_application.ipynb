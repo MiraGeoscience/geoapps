version https://git-lfs.github.com/spec/v1
oid sha256:4cdf1594d7de1bf7318c74713784d42901e9bcf727c2e1ef944f259ecf5b8025
size 1038771

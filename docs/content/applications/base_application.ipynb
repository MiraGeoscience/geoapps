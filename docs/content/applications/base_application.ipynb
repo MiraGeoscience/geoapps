version https://git-lfs.github.com/spec/v1
oid sha256:3bf6f27327c073325284ada0f3c530e03b754d3e5af3f025ef0faa9e233aece7
size 895902

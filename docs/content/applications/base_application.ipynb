version https://git-lfs.github.com/spec/v1
oid sha256:afae108da4b99f0fdd46cccc8a06f8252ed94c02d89b8da7eca1180306f62c48
size 952680

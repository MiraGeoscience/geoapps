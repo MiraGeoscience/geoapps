version https://git-lfs.github.com/spec/v1
oid sha256:ddc7902aa6beedb69bcc2d27c6459d0e09bd960580aabd9c68b1b1328ed0c2f9
size 1094355

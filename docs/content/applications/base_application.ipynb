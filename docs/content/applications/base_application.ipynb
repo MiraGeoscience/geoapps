version https://git-lfs.github.com/spec/v1
oid sha256:101f3e656855212c16b209f990c917b1df0523dc88ec2048ab8d8c7bd615304a
size 981118

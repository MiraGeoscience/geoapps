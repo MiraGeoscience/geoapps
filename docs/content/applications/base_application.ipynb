version https://git-lfs.github.com/spec/v1
oid sha256:284bfd463f2cf60dacfb0d6f5e500fc435f7cab5ea5bda101ea9b59326988a16
size 1067210

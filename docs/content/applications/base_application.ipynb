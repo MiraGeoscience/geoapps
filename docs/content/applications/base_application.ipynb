version https://git-lfs.github.com/spec/v1
oid sha256:2fcf970efd37b22f0c7df448f0ffe9f463e9dad7fcc642894a9cba0b98898c2b
size 839750

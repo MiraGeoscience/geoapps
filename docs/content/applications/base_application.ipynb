version https://git-lfs.github.com/spec/v1
oid sha256:43d22f47e5758b56cfd90d39465f74e29778c540a1d829a605c4eec25d78fe4b
size 1094406

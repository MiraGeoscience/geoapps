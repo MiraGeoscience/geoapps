version https://git-lfs.github.com/spec/v1
oid sha256:48acffd4008063a0fb8a3aa05094c5cbc2ba77307145d6b014a4a41fb48dc73b
size 477227

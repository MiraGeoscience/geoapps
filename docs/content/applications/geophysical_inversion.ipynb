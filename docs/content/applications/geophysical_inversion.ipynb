{
 "cells": [
  {
   "cell_type": "markdown",
   "metadata": {},
   "source": [
    "# Geophysical Inversion\n",
    "\n",
    "This application provides an interface to geophysical inversion using the [SimPEG](https://simpeg.xyz/) open-source algorithms. The application currently supports\n",
    "\n",
    " - Electromagnetic (time or frequency) data using a Laterally Constrained 1D approach\n",
    " - Gravity and magnetics (field and/or tensor) data using an octree mesh tiling approach.\n",
    "         \n",
    "\n",
    "  <img align=\"right\" width=\"50%\" src=\"./images/Geophysical_inversion_app.png\">\n",
    "  \n",
    "\n",
    "New user? Visit the [Getting Started](../installation.rst) page.\n",
    "\n",
    "---\n",
    "**NOTE**\n",
    " \n",
    "\n",
    "For 3D gravity and magnetic vector inversion, it is recommended to set your  from a solid-state drive (SSD), as sensitivities are stored in chunks and accessed in parallel using the [Dask](https://dask.org/) library.\n",
    "\n",
    "---"
   ]
  },
  {
   "cell_type": "markdown",
   "metadata": {},
   "source": [
    "## Application\n",
    "The following sections provide details on the different parameters controling the application. Interactive widgets shown below are for demonstration purposes only."
   ]
  },
  {
   "cell_type": "code",
   "execution_count": 1,
   "metadata": {},
   "outputs": [
    {
     "data": {
      "application/vnd.jupyter.widget-view+json": {
       "model_id": "075aaf0646fb456fbdbfcdd187f7013b",
       "version_major": 2,
       "version_minor": 0
      },
      "text/plain": [
       "VBox(children=(VBox(children=(Label(value='Workspace', style=DescriptionStyle(description_width='initial')), H…"
      ]
     },
     "metadata": {},
     "output_type": "display_data"
    }
   ],
   "source": [
    "from geoapps.inversion import InversionApp\n",
    "\n",
    "app = InversionApp(h5file=r\"../../../assets/FlinFlon.geoh5\")\n",
    "app.main"
   ]
  },
  {
   "cell_type": "markdown",
   "metadata": {},
   "source": [
    "## Project Selection\n",
    "\n",
    "Select and connect to an existing **geoh5** project file containing data. "
   ]
  },
  {
   "cell_type": "code",
   "execution_count": 2,
   "metadata": {},
   "outputs": [
    {
     "data": {
      "application/vnd.jupyter.widget-view+json": {
       "model_id": "a770ace953a74d57b9ad0c470e630fb4",
       "version_major": 2,
       "version_minor": 0
      },
      "text/plain": [
       "VBox(children=(Label(value='Workspace', style=DescriptionStyle(description_width='initial')), HBox(children=(F…"
      ]
     },
     "metadata": {},
     "output_type": "display_data"
    }
   ],
   "source": [
    "app.project_panel"
   ]
  },
  {
   "cell_type": "markdown",
   "metadata": {},
   "source": [
    "See the [Project Panel](base_application.ipynb#Project-Panel) page for more details."
   ]
  },
  {
   "cell_type": "markdown",
   "metadata": {},
   "source": [
    "## Object/Data Selection\n",
    "\n",
    "List of objects available containing geophysical data to be inverted. Currently supports objects of type `Points`, `Curve`, `Surface` and `Grid2D`. Multiple data channels and/or data groups can be selected. "
   ]
  },
  {
   "cell_type": "code",
   "execution_count": 3,
   "metadata": {
    "scrolled": true
   },
   "outputs": [
    {
     "data": {
      "application/vnd.jupyter.widget-view+json": {
       "model_id": "ac072f3432aa4df0838d10449e4eb5e3",
       "version_major": 2,
       "version_minor": 0
      },
      "text/plain": [
       "VBox(children=(Dropdown(description='Object:', index=68, options=('', 'Predicted', 'Mesh', 'fault_splay1', 'fa…"
      ]
     },
     "metadata": {},
     "output_type": "display_data"
    }
   ],
   "source": [
    "app.data_panel"
   ]
  },
  {
   "cell_type": "markdown",
   "metadata": {},
   "source": [
    "## Window Selection\n",
    "\n",
    "Manual selection of an area of interest and data resolution. Positive (solid) and negative (dash) contour lines are traced immediately after changes made to the contour values."
   ]
  },
  {
   "cell_type": "code",
   "execution_count": 4,
   "metadata": {},
   "outputs": [
    {
     "data": {
      "application/vnd.jupyter.widget-view+json": {
       "model_id": "ade49b913971465a98d6273281f5cbf5",
       "version_major": 2,
       "version_minor": 0
      },
      "text/plain": [
       "VBox(children=(VBox(children=(FloatText(value=50.0, description='Grid Resolution (m)', style=DescriptionStyle(…"
      ]
     },
     "metadata": {},
     "output_type": "display_data"
    }
   ],
   "source": [
    "app.window_selection"
   ]
  },
  {
   "cell_type": "markdown",
   "metadata": {},
   "source": [
    "See the [Map View Selection](view_selection.ipynb#Map-View-Selection) page for more details."
   ]
  },
  {
   "cell_type": "markdown",
   "metadata": {},
   "source": [
    "## Data Channel Options\n",
    "\n",
    "Define geophysical data."
   ]
  },
  {
   "cell_type": "markdown",
   "metadata": {},
   "source": [
    "### Survey Type\n",
    "\n",
    "List of available survey types."
   ]
  },
  {
   "cell_type": "code",
   "execution_count": 5,
   "metadata": {},
   "outputs": [
    {
     "data": {
      "application/vnd.jupyter.widget-view+json": {
       "model_id": "c347eb204da443e7a9209153824f6fec",
       "version_major": 2,
       "version_minor": 0
      },
      "text/plain": [
       "Dropdown(description='Survey Type: ', options=('Magnetics', 'Gravity', 'AeroTEM (2007)', 'AeroTEM (2010)', 'DI…"
      ]
     },
     "metadata": {},
     "output_type": "display_data"
    }
   ],
   "source": [
    "app.system"
   ]
  },
  {
   "cell_type": "markdown",
   "metadata": {},
   "source": [
    "The application will attempt to assign the correct system based on\n",
    "known data field name (e.g. *CPI* => *DIGHEM*).\n",
    "\n",
    "#### Inducing field parameters\n",
    "\n",
    "For magnetic data only, set the inducing field parameters:"
   ]
  },
  {
   "cell_type": "code",
   "execution_count": 6,
   "metadata": {},
   "outputs": [
    {
     "data": {
      "application/vnd.jupyter.widget-view+json": {
       "model_id": "74d5d5882b2c40dabefb1e9a50854fce",
       "version_major": 2,
       "version_minor": 0
      },
      "text/plain": [
       "Text(value='60000, 79, 11', description='Inducing Field [Amp, Inc, Dec]', style=DescriptionStyle(description_w…"
      ]
     },
     "metadata": {},
     "output_type": "display_data"
    }
   ],
   "source": [
    "app.inducing_field\n"
   ]
  },
  {
   "cell_type": "markdown",
   "metadata": {},
   "source": [
    "### Channel Options\n",
    "\n",
    "Set parameters to invividual [Data](#Object/Data-Selection) channels."
   ]
  },
  {
   "cell_type": "code",
   "execution_count": 7,
   "metadata": {},
   "outputs": [
    {
     "data": {
      "application/vnd.jupyter.widget-view+json": {
       "model_id": "d555fa0ee86742ca91dd82cdd16f0592",
       "version_major": 2,
       "version_minor": 0
      },
      "text/plain": [
       "VBox(children=(Checkbox(value=True, description='Active', style=DescriptionStyle(description_width='initial'))…"
      ]
     },
     "metadata": {},
     "output_type": "display_data"
    }
   ],
   "source": [
    "app.data_channel_choices.data_channel_options['tmi']"
   ]
  },
  {
   "cell_type": "markdown",
   "metadata": {},
   "source": [
    "#### Active\n",
    "\n",
    "Checked if the channel is to be used in the inversion\n",
    "\n",
    "#### Data channel:\n",
    "\n",
    "Association between the \"data channel\" and one of the expected \"system channel\".\n",
    "\n",
    "#### Error (%, floor)\n",
    "\n",
    "Estimated data uncertainties associated with the data channel, expressed as a\n",
    "percent (decimal) and floor value. \n",
    "\n",
    "As example for magnetic data: 0.1, 1 => $0.1 * |d_{tmi}| + 1\\;nT$\n",
    "\n",
    "#### Offsets (EM systems)\n",
    "\n",
    "Determine the constant offsets, in meters, between the receiver and the transmitter center location. \n",
    "\n",
    "Used for the numerical forward calculations. "
   ]
  },
  {
   "cell_type": "markdown",
   "metadata": {},
   "source": [
    "## Topography, Sensor and Line Options"
   ]
  },
  {
   "cell_type": "code",
   "execution_count": 8,
   "metadata": {},
   "outputs": [
    {
     "data": {
      "application/vnd.jupyter.widget-view+json": {
       "model_id": "a53990c735674dfbb4f5ef8f61783e35",
       "version_major": 2,
       "version_minor": 0
      },
      "text/plain": [
       "Dropdown(options=('Topography', 'Sensor'), value='Topography')"
      ]
     },
     "metadata": {},
     "output_type": "display_data"
    }
   ],
   "source": [
    "app.spatial_choices"
   ]
  },
  {
   "cell_type": "markdown",
   "metadata": {},
   "source": [
    "### Topography\n",
    "\n",
    "Set the air/ground interface of the inversion model."
   ]
  },
  {
   "cell_type": "code",
   "execution_count": 9,
   "metadata": {},
   "outputs": [
    {
     "data": {
      "application/vnd.jupyter.widget-view+json": {
       "model_id": "34f6bee24da8492aace9903c2d1134c9",
       "version_major": 2,
       "version_minor": 0
      },
      "text/plain": [
       "VBox(children=(RadioButtons(description='Define by:', options=('Object', 'Relative to Sensor', 'Constant'), va…"
      ]
     },
     "metadata": {},
     "output_type": "display_data"
    }
   ],
   "source": [
    "app.topography.main"
   ]
  },
  {
   "cell_type": "markdown",
   "metadata": {},
   "source": [
    "#### Object\n",
    "\n",
    "Set the topography based on an object stored in the target `geoh5` project. The Z value of the cells/vertices can be assigned based on a chosen `Data` field.\n",
    "\n",
    "#### Relative to Sensor\n",
    "\n",
    "Topography is defined by a fixed vertical offset from a selected object position (vertices or centroids), also referred to as a \"draped height\".\n",
    "\n",
    "#### Constant\n",
    "\n",
    "Topography is defined as a flat surface with constant elevation."
   ]
  },
  {
   "cell_type": "markdown",
   "metadata": {},
   "source": [
    "### Sensor\n",
    "\n",
    "Defines the sensors position in 3D space."
   ]
  },
  {
   "cell_type": "code",
   "execution_count": 10,
   "metadata": {},
   "outputs": [
    {
     "data": {
      "application/vnd.jupyter.widget-view+json": {
       "model_id": "1b2644d5d54145898c363192f8a1579a",
       "version_major": 2,
       "version_minor": 0
      },
      "text/plain": [
       "VBox(children=(RadioButtons(description='Define by:', index=1, options=('sensor location + (dx, dy, dz)', 'top…"
      ]
     },
     "metadata": {},
     "output_type": "display_data"
    }
   ],
   "source": [
    "app.sensor.main"
   ]
  },
  {
   "cell_type": "markdown",
   "metadata": {},
   "source": [
    "#### Sensor Location\n",
    "\n",
    "Sensor position defined by a constant offset from the vertices of the selected\n",
    "object. Typically used for towed system where the GPS receiver is on the\n",
    "aircraft.\n",
    "\n",
    "#### Topo and radar\n",
    "\n",
    "Receiver locations defined by the vertices horizontal positions [x, y] and z value\n",
    "interpolated from topography + clearance height. Typically used for gridded\n",
    "data with constant draped height or for airborne survey with inaccurate GPS\n",
    "elevation (radar height)."
   ]
  },
  {
   "cell_type": "markdown",
   "metadata": {},
   "source": [
    "### Line ID\n",
    "\n",
    "**(EM only)**: Line channel and line number to be inverted."
   ]
  },
  {
   "cell_type": "code",
   "execution_count": 11,
   "metadata": {},
   "outputs": [
    {
     "data": {
      "application/vnd.jupyter.widget-view+json": {
       "model_id": "b962a2150a4347438269d2e0dc53400b",
       "version_major": 2,
       "version_minor": 0
      },
      "text/plain": [
       "VBox(children=(Dropdown(description='Lines field', options=('', '--- Channels ---', 'Airborne_Gxx', 'Airborne_…"
      ]
     },
     "metadata": {},
     "output_type": "display_data"
    }
   ],
   "source": [
    "app.lines.main"
   ]
  },
  {
   "cell_type": "markdown",
   "metadata": {},
   "source": [
    "## Inversion Options\n",
    "\n",
    "List of parameters controlling the inversion."
   ]
  },
  {
   "cell_type": "code",
   "execution_count": 12,
   "metadata": {},
   "outputs": [
    {
     "data": {
      "application/vnd.jupyter.widget-view+json": {
       "model_id": "783dd56e839a4ed597fa9549901c3da5",
       "version_major": 2,
       "version_minor": 0
      },
      "text/plain": [
       "VBox(children=(HBox(children=(Label(value='Inversion Options'),)), HBox(children=(Dropdown(options=('output na…"
      ]
     },
     "metadata": {},
     "output_type": "display_data"
    }
   ],
   "source": [
    "app.inversion_parameters.main"
   ]
  },
  {
   "cell_type": "markdown",
   "metadata": {},
   "source": [
    "### Output Name\n",
    "\n",
    "Name given to the inversion group added to the ANALYST project."
   ]
  },
  {
   "cell_type": "markdown",
   "metadata": {},
   "source": [
    "### Target Misfit\n",
    "\n",
    "Target data misfit where 1 = number of data"
   ]
  },
  {
   "cell_type": "code",
   "execution_count": 13,
   "metadata": {},
   "outputs": [
    {
     "data": {
      "application/vnd.jupyter.widget-view+json": {
       "model_id": "2c82cd332966410d9b286681c696bfaf",
       "version_major": 2,
       "version_minor": 0
      },
      "text/plain": [
       "FloatText(value=1.0, description='Target misfit')"
      ]
     },
     "metadata": {},
     "output_type": "display_data"
    }
   ],
   "source": [
    "app.inversion_parameters.chi_factor"
   ]
  },
  {
   "cell_type": "markdown",
   "metadata": {},
   "source": [
    "### Uncertainty mode\n",
    "\n",
    "(EM Only) Global change to the data uncertainties "
   ]
  },
  {
   "cell_type": "code",
   "execution_count": 14,
   "metadata": {},
   "outputs": [
    {
     "data": {
      "application/vnd.jupyter.widget-view+json": {
       "model_id": "1117218d0192435ca502979036fc0106",
       "version_major": 2,
       "version_minor": 0
      },
      "text/plain": [
       "RadioButtons(index=1, options=('Estimated (%|data| + background)', 'User input (%|data| + floor)'), value='Use…"
      ]
     },
     "metadata": {},
     "output_type": "display_data"
    }
   ],
   "source": [
    "app.inversion_parameters.uncert_mode"
   ]
  },
  {
   "cell_type": "markdown",
   "metadata": {},
   "source": [
    "**Estimated** Floor uncertainties re-assgined based on the best-fitting halfspace model. Useful when dealing with fast time domain decays due to IP effects.\n",
    "\n",
    "**User Input** (Default) Keep the same uncertainties as defined in the [Channel Options](#Channel-Options) "
   ]
  },
  {
   "cell_type": "markdown",
   "metadata": {},
   "source": [
    "### Starting Model\n",
    "\n",
    "Initial model used to begin the inversion.\n"
   ]
  },
  {
   "cell_type": "code",
   "execution_count": 15,
   "metadata": {},
   "outputs": [
    {
     "data": {
      "application/vnd.jupyter.widget-view+json": {
       "model_id": "d167d34a37714c3d824c1e326e5ec058",
       "version_major": 2,
       "version_minor": 0
      },
      "text/plain": [
       "VBox(children=(Label(value='Starting effective susceptibility'), VBox(children=(RadioButtons(index=1, options=…"
      ]
     },
     "metadata": {},
     "output_type": "display_data"
    }
   ],
   "source": [
    "app.inversion_parameters.starting_model.main"
   ]
  },
  {
   "cell_type": "markdown",
   "metadata": {},
   "source": [
    "#### Model\n",
    "\n",
    "Model object and values selected from any `Points`, `Curve`, `Surface`, `BlockModel` or `Octree` object.\n",
    "Values are interpolated onto the inversion mesh using a nearest neighbor approach.\n",
    "\n",
    "#### Constant\n",
    "\n",
    "Constant background half-space value."
   ]
  },
  {
   "cell_type": "markdown",
   "metadata": {},
   "source": [
    "### Susceptibility model \n",
    "\n",
    "**(FEM Only)**\n",
    "\n",
    "Susceptibility values used in the forward calculations only."
   ]
  },
  {
   "cell_type": "code",
   "execution_count": 16,
   "metadata": {},
   "outputs": [
    {
     "data": {
      "application/vnd.jupyter.widget-view+json": {
       "model_id": "775c4e7095824d30833adf5576dea028",
       "version_major": 2,
       "version_minor": 0
      },
      "text/plain": [
       "VBox(children=(Label(value='Background susceptibility', style=DescriptionStyle(description_width='initial')), …"
      ]
     },
     "metadata": {},
     "output_type": "display_data"
    }
   ],
   "source": [
    "app.inversion_parameters.susceptibility_model.main"
   ]
  },
  {
   "cell_type": "markdown",
   "metadata": {},
   "source": [
    "#### None\n",
    "\n",
    "No susceptibility model used.\n",
    "\n",
    "#### Model\n",
    "\n",
    "Susceptibitlity model selected from any `Points`, `Curve`, `Surface`, `BlockModel` or `Octree` object.\n",
    "Values are interpolated onto the inversion mesh using a nearest neighbor approach.\n",
    "\n",
    "#### Constant\n",
    "\n",
    "Constant susceptibility half-space value."
   ]
  },
  {
   "cell_type": "markdown",
   "metadata": {},
   "source": [
    "### Regularization\n",
    "\n",
    "See the [Regularization Panel](#Regularization-Panel) section."
   ]
  },
  {
   "cell_type": "markdown",
   "metadata": {},
   "source": [
    "### Upper-Lower Bounds\n",
    "\n",
    "Upper and lower bound constraints applied on physical property model."
   ]
  },
  {
   "cell_type": "code",
   "execution_count": 17,
   "metadata": {},
   "outputs": [
    {
     "data": {
      "application/vnd.jupyter.widget-view+json": {
       "model_id": "11ea1096c9fd43b18ad2066819e29d61",
       "version_major": 2,
       "version_minor": 0
      },
      "text/plain": [
       "VBox(children=(Text(value='', description='Upper bound value'), Text(value='', description='Lower bound value'…"
      ]
     },
     "metadata": {},
     "output_type": "display_data"
    }
   ],
   "source": [
    "app.inversion_parameters.bound_panel"
   ]
  },
  {
   "cell_type": "markdown",
   "metadata": {},
   "source": [
    "If left empty, the inversion uses [$-\\infty$, $\\infty$] physical property bounds."
   ]
  },
  {
   "cell_type": "markdown",
   "metadata": {},
   "source": [
    "### Mesh\n",
    "\n",
    "See the [Mesh Design](#Mesh-Design) section."
   ]
  },
  {
   "cell_type": "markdown",
   "metadata": {},
   "source": [
    "### Ignore Values\n",
    "\n",
    "#### Data\n",
    "\n",
    "Flag value ignored by the inversion by assigning $\\infty$ uncertainties on the data points."
   ]
  },
  {
   "cell_type": "code",
   "execution_count": 18,
   "metadata": {},
   "outputs": [
    {
     "data": {
      "application/vnd.jupyter.widget-view+json": {
       "model_id": "5b734c3528c64a6d9e82e16d856bc328",
       "version_major": 2,
       "version_minor": 0
      },
      "text/plain": [
       "Text(value='-99999', description='Data (i.e. <0 = no negatives)')"
      ]
     },
     "metadata": {},
     "output_type": "display_data"
    }
   ],
   "source": [
    "app.inversion_parameters.ignore_values"
   ]
  },
  {
   "cell_type": "markdown",
   "metadata": {},
   "source": [
    "#### Air cells\n",
    "\n",
    "Value assigned to the output model cells above topography. Defaults to $10^{-8}$ S/m for EM inversions"
   ]
  },
  {
   "cell_type": "code",
   "execution_count": 19,
   "metadata": {},
   "outputs": [
    {
     "data": {
      "application/vnd.jupyter.widget-view+json": {
       "model_id": "fc4d47c6f7c446c48a8b4bd3342c6441",
       "version_major": 2,
       "version_minor": 0
      },
      "text/plain": [
       "FloatText(value=0.0, description='Air cells fill value')"
      ]
     },
     "metadata": {},
     "output_type": "display_data"
    }
   ],
   "source": [
    "app.inversion_parameters.air_values"
   ]
  },
  {
   "cell_type": "markdown",
   "metadata": {},
   "source": [
    "### Optimization\n",
    "\n",
    "Parameters controlling various aspects of the projected Gauss-Newton inversion algorithm."
   ]
  },
  {
   "cell_type": "code",
   "execution_count": 20,
   "metadata": {},
   "outputs": [
    {
     "data": {
      "application/vnd.jupyter.widget-view+json": {
       "model_id": "ecc2b56a113c4defae04eb1d3767e47d",
       "version_major": 2,
       "version_minor": 0
      },
      "text/plain": [
       "VBox(children=(IntText(value=25, description='Max beta Iterations', style=DescriptionStyle(description_width='…"
      ]
     },
     "metadata": {},
     "output_type": "display_data"
    }
   ],
   "source": [
    "app.inversion_parameters.optimization"
   ]
  },
  {
   "cell_type": "markdown",
   "metadata": {},
   "source": [
    "#### Max beta Iterations\n",
    "\n",
    "Maximum number of $\\beta$-iterations allowed.\n",
    "Note that when applying sparse norms, the inversion may require $>20$ iterations to converge.\n",
    "\n",
    "\n",
    "#### Target misfit\n",
    "\n",
    "Target data misfit where $\\chi=1$ corresponds to $\\phi_d=N$ (number of data). (See [Data Misfit and Uncertainties](https://giftoolscookbook.readthedocs.io/en/latest/content/fundamentals/Uncertainties.html#data-misfit-and-uncertainties))\n",
    "\n",
    "\n",
    "#### Starting trade-off ($\\beta$)\n",
    "\n",
    "**ratio**: Factor multiplying the initial $\\beta$ defined by the ratio between the initial misfit and regularization:\n",
    "\n",
    "\\begin{equation}\n",
    "\\beta_0 = \\gamma * \\frac{\\phi_d}{ \\phi_m}\n",
    "\\end{equation}\n",
    "\n",
    "**value**: Fixed $\\beta$ value specified by the user.\n",
    "\n",
    "#### Max CG Iterations\n",
    "\n",
    "Maximum number of Conjugate Gradient (CG) iterations per Gauss-Newton solve.\n",
    "\n",
    "\n",
    "#### CG Tolerance\n",
    "\n",
    "Threshold on the minimum Conjugate Gradient (CG) step to end the Gauss-Newton solve.\n",
    "\n",
    "\n",
    "#### Max CPUs\n",
    "\n",
    "Maximum number of threads used for the parallelization. Defaults to half the system thread count.\n",
    "\n",
    "\n",
    "#### Max RAM (Gb)\n",
    "\n",
    "Approximate memory (RAM) used during the inversion. The value is used to calculate the chunk size for the storage of the sensitivity matrix on solid-state drive.\n",
    "(See [dask.array.to_zarr](https://docs.dask.org/en/latest/array-api.html#dask.array.to_zarr))\n"
   ]
  },
  {
   "cell_type": "markdown",
   "metadata": {},
   "source": [
    "## Regularization Panel\n",
    "\n",
    "Parameters controlling the regularization function."
   ]
  },
  {
   "cell_type": "markdown",
   "metadata": {},
   "source": [
    "### Reference model\n",
    "\n",
    "Reference model values used to contrain the inversion."
   ]
  },
  {
   "cell_type": "code",
   "execution_count": 21,
   "metadata": {},
   "outputs": [
    {
     "data": {
      "application/vnd.jupyter.widget-view+json": {
       "model_id": "6c853d09bedd43d495c1f733236fd9bb",
       "version_major": 2,
       "version_minor": 0
      },
      "text/plain": [
       "VBox(children=(Label(value='Reference effective susceptibility'), VBox(children=(RadioButtons(index=2, options…"
      ]
     },
     "metadata": {},
     "output_type": "display_data"
    }
   ],
   "source": [
    "app.inversion_parameters.reference_model.main"
   ]
  },
  {
   "cell_type": "markdown",
   "metadata": {},
   "source": [
    "#### None\n",
    "\n",
    "No reference model used. This is equivalent as setting the [Alphas](#Alpha-Parameters) `s` parameter to zero.\n",
    "\n",
    "#### Model\n",
    "\n",
    "Reference model selected from any `Points`, `Curve`, `Surface`, `BlockModel` or `Octree` object.\n",
    "Values are interpolated onto the inversion mesh using a nearest neighbor approach.\n",
    "\n",
    "#### Constant\n",
    "\n",
    "Constant reference half-space value.\n",
    "\n",
    "#### Best-fitting halfspace\n",
    "\n",
    "**(EM only)** Run a preliminary inversion to determine a best-fitting halfspace\n",
    "(single conductivity value) at each data station."
   ]
  },
  {
   "cell_type": "markdown",
   "metadata": {},
   "source": [
    "### Alpha Parameters\n",
    "\n",
    "Scaling between the components of the regularization function."
   ]
  },
  {
   "cell_type": "code",
   "execution_count": 22,
   "metadata": {},
   "outputs": [
    {
     "data": {
      "application/vnd.jupyter.widget-view+json": {
       "model_id": "91778ed8cf20437092549d61b66da473",
       "version_major": 2,
       "version_minor": 0
      },
      "text/plain": [
       "Text(value='1.0, 1.0, 1.0, 1.0', description='Scaling alpha_(s, x, y, z)')"
      ]
     },
     "metadata": {},
     "output_type": "display_data"
    }
   ],
   "source": [
    "app.inversion_parameters.alphas\n"
   ]
  },
  {
   "cell_type": "markdown",
   "metadata": {},
   "source": [
    "See the [SimPEG.API](https://docs.simpeg.xyz/content/api_core/api_Regularization.html#SimPEG.regularization.Simple) for technical details."
   ]
  },
  {
   "cell_type": "markdown",
   "metadata": {},
   "source": [
    "### $l_p$-norms\n",
    "\n",
    "Approximated norms applied to the components of the regularization."
   ]
  },
  {
   "cell_type": "code",
   "execution_count": 23,
   "metadata": {},
   "outputs": [
    {
     "data": {
      "application/vnd.jupyter.widget-view+json": {
       "model_id": "83414b4a63bf4c10be0f86f9b9e81cf7",
       "version_major": 2,
       "version_minor": 0
      },
      "text/plain": [
       "Text(value='0, 2, 2, 2', continuous_update=False, description='Norms p_(s, x, y, z)', style=DescriptionStyle(d…"
      ]
     },
     "metadata": {},
     "output_type": "display_data"
    }
   ],
   "source": [
    "app.inversion_parameters.norms\n"
   ]
  },
  {
   "cell_type": "markdown",
   "metadata": {},
   "source": [
    "See notes on [Sparse and Blocky Norms](https://giftoolscookbook.readthedocs.io/en/latest/content/fundamentals/Norms.html#sparse-and-blocky-norms) for technical details."
   ]
  },
  {
   "cell_type": "markdown",
   "metadata": {},
   "source": [
    "## Mesh Design\n",
    "\n",
    "Definition of the grid containing the physical property model.\n",
    "\n",
    "### Octree Mesh\n",
    "\n",
    "**(Gravity and magnetics)**\n",
    "\n",
    "Parameters used for the construction of a global `Octree` mesh."
   ]
  },
  {
   "cell_type": "code",
   "execution_count": 24,
   "metadata": {},
   "outputs": [
    {
     "data": {
      "application/vnd.jupyter.widget-view+json": {
       "model_id": "ee99420af26541c6bf8b78ba52e4a50c",
       "version_major": 2,
       "version_minor": 0
      },
      "text/plain": [
       "VBox(children=(Label(value='Octree Mesh'), Text(value='25, 25, 25', description='Smallest cells', style=Descri…"
      ]
     },
     "metadata": {},
     "output_type": "display_data"
    }
   ],
   "source": [
    "app.inversion_parameters.mesh.main"
   ]
  },
  {
   "cell_type": "markdown",
   "metadata": {},
   "source": [
    "#### Smallest cells\n",
    "\n",
    "Dimensions (x,y,z) of the smallest octree cells.\n",
    "\n",
    "\n",
    "####  Layers below topography\n",
    "\n",
    "\n",
    "Number of layers of cells at each octree level below the topography surface.\n",
    "As topography generally extends further, it is common practice to use only\n",
    "coarse cells once outside of the survey area.\n",
    "\n",
    "\n",
    "####  Layers below data\n",
    "\n",
    "Number of layers of cells at each octree level below the observation points.\n",
    "\n",
    "\n",
    "####  Minimum depth\n",
    "\n",
    "\n",
    "Minimum depth (m) of the mesh, rounded up to the next power of 2.\n",
    "\n",
    "\n",
    "####  Padding [W,E,N,S,D,U]\n",
    "\n",
    "Additional padding distance (m) along West, East, North, South, Down and Up,\n",
    "chosen by default to be half of the data extent in each direction. Additional\n",
    "padding can be added at depth, but it is recommended to set it through the\n",
    "[Minimum depth](#Minimum-depth) parameter.\n",
    "\n",
    "\n",
    "#### Max triangulation length\n",
    "\n",
    "\n",
    "Parameter controlling the Delaunay triangulation used for the refinement of\n",
    "the mesh around topography and observation points. Large triangles generated\n",
    "between points far apart are filtered out, reducing the number of small cells\n",
    "in regions without data."
   ]
  },
  {
   "cell_type": "markdown",
   "metadata": {},
   "source": [
    " <img align=\"center\" width=\"50%\" src=\"./images/Octree_refinement.png\">"
   ]
  },
  {
   "cell_type": "markdown",
   "metadata": {},
   "source": [
    "### 1D Mesh\n",
    "\n",
    "**(EM 1D only)**\n",
    "\n",
    "For the laterally constrained 1D inversion (time or frequency), the earth is\n",
    "discretized into layer models connected by the regularization function. The\n",
    "following parameters define the 1D mesh repeated below each transmitter/receiver pairs"
   ]
  },
  {
   "cell_type": "code",
   "execution_count": 25,
   "metadata": {},
   "outputs": [
    {
     "data": {
      "application/vnd.jupyter.widget-view+json": {
       "model_id": "b2452cde29a342abbb07c7a0d112b072",
       "version_major": 2,
       "version_minor": 0
      },
      "text/plain": [
       "VBox(children=(Label(value='1D Mesh'), FloatText(value=10.0, description='Smallest cell (m):', style=Descripti…"
      ]
     },
     "metadata": {},
     "output_type": "display_data"
    }
   ],
   "source": [
    "app.mesh_1D.main"
   ]
  },
  {
   "cell_type": "markdown",
   "metadata": {},
   "source": [
    "#### Smallest cell (m)\n",
    "\n",
    "Smallest layer at the top of the 1D mesh.\n",
    "\n",
    "\n",
    "#### Expansion factor\n",
    "\n",
    "Rate of cell expansion from the smallest cell size.\n",
    "\n",
    "\n",
    "#### Number of cells\n",
    "\n",
    "Total number of layers below each station.\n",
    "\n",
    "\n",
    "#### Max depth\n",
    "\n",
    "Returns the full depth of the 1D mesh given the parameters selected above."
   ]
  },
  {
   "cell_type": "markdown",
   "metadata": {},
   "source": [
    "## Output panel\n",
    "\n",
    "Specify the working directory where the inversion occurs. For gravity and magnetic data inversion, it is **highly recommended** to chose a location on a **solid-state drive (SSD)** to fully take advantage of the `Dask` parallelization."
   ]
  },
  {
   "cell_type": "code",
   "execution_count": 26,
   "metadata": {},
   "outputs": [
    {
     "data": {
      "application/vnd.jupyter.widget-view+json": {
       "model_id": "a684ccc63d974e3fa0e447ded40eaccd",
       "version_major": 2,
       "version_minor": 0
      },
      "text/plain": [
       "VBox(children=(FileChooser(path='C:\\Users\\dominiquef\\Documents\\GIT\\mira\\mirageoscience-apps\\docs\\content\\appli…"
      ]
     },
     "metadata": {},
     "output_type": "display_data"
    }
   ],
   "source": [
    "app.output_panel"
   ]
  },
  {
   "cell_type": "markdown",
   "metadata": {},
   "source": [
    "**Write inpute**: Click to write the input parameters to a `*.json` file\n",
    "\n",
    "**Run SimPEG**: Launch the inversion routine. Results will be written directly to the target `geoh5` project.\n",
    "\n",
    "### Command line execution\n",
    "\n",
    "Alternatively, the inversion can be launched on a different computer from command line:\n",
    "\n",
    "`activate geoapps`\n",
    "\n",
    "`python -m geoapps.pf_inversion [Name].json`\n",
    "\n",
    "This assumes that the geoapps have been installed and that the reference `*.json` and `*.geoh5` project are accessible."
   ]
  },
  {
   "cell_type": "code",
   "execution_count": 27,
   "metadata": {
    "nbsphinx": "hidden"
   },
   "outputs": [],
   "source": [
    "import matplotlib.pyplot as plt\n",
    "app.figure.savefig(\"images/inversion_thumbnail.png\", dpi=300)"
   ]
  }
 ],
 "metadata": {
  "kernelspec": {
   "display_name": "Python 3",
   "language": "python",
   "name": "python3"
  },
  "language_info": {
   "codemirror_mode": {
    "name": "ipython",
    "version": 3
   },
   "file_extension": ".py",
   "mimetype": "text/x-python",
   "name": "python",
   "nbconvert_exporter": "python",
   "pygments_lexer": "ipython3",
   "version": "3.7.8"
  },
  "widgets": {
   "application/vnd.jupyter.widget-state+json": {
    "state": {
     "000d84a32b1748598d38331c4435dd0a": {
      "model_module": "@jupyter-widgets/controls",
      "model_module_version": "1.5.0",
      "model_name": "VBoxModel",
      "state": {
       "children": [
        "IPY_MODEL_3019038eaea445478d856dc3d5942b7e",
        "IPY_MODEL_3a06469d603f40539e7fc79c57d4f503"
       ],
       "layout": "IPY_MODEL_f6c459991066448db47be87278b9849b"
      }
     },
     "0019ee763daa468295b18250b2b0496c": {
      "model_module": "@jupyter-widgets/controls",
      "model_module_version": "1.5.0",
      "model_name": "DescriptionStyleModel",
      "state": {
       "description_width": "initial"
      }
     },
     "002b1fd1d7e341eb8bdab403c98ed071": {
      "model_module": "@jupyter-widgets/controls",
      "model_module_version": "1.5.0",
      "model_name": "TextModel",
      "state": {
       "description": "Offsets (x,y,z)",
       "layout": "IPY_MODEL_bff69fc607c6413f9018bb93da20c170",
       "style": "IPY_MODEL_b1bc39cc945844639b31a9ed958d2033",
       "value": "0, 0, 0"
      }
     },
     "0044698f95494e84b0fe77b0e61966ba": {
      "model_module": "@jupyter-widgets/base",
      "model_module_version": "1.2.0",
      "model_name": "LayoutModel",
      "state": {
       "display": "none",
       "grid_area": "filename",
       "width": "auto"
      }
     },
     "00594c32ff4e498f96ea188a03174771": {
      "model_module": "@jupyter-widgets/base",
      "model_module_version": "1.2.0",
      "model_name": "LayoutModel",
      "state": {
       "display": "none",
       "grid_area": "filename",
       "width": "auto"
      }
     },
     "0089e41630ef4e8d854999dc694d5515": {
      "model_module": "@jupyter-widgets/controls",
      "model_module_version": "1.5.0",
      "model_name": "DescriptionStyleModel",
      "state": {
       "description_width": ""
      }
     },
     "0176f9f26b3c4c68a4681b35f892931e": {
      "model_module": "@jupyter-widgets/controls",
      "model_module_version": "1.5.0",
      "model_name": "DescriptionStyleModel",
      "state": {
       "description_width": ""
      }
     },
     "0215b66edaeb4eb8baecefc86eb888ea": {
      "model_module": "@jupyter-widgets/base",
      "model_module_version": "1.2.0",
      "model_name": "LayoutModel",
      "state": {
       "width": "auto"
      }
     },
     "022ed2252f014805ba592806c363d86c": {
      "model_module": "@jupyter-widgets/base",
      "model_module_version": "1.2.0",
      "model_name": "LayoutModel",
      "state": {}
     },
     "023381d8c7254402a15e5a1965221edb": {
      "model_module": "@jupyter-widgets/controls",
      "model_module_version": "1.5.0",
      "model_name": "DescriptionStyleModel",
      "state": {
       "description_width": ""
      }
     },
     "02888a9728154dfb84fdb64a170bda4e": {
      "model_module": "@jupyter-widgets/controls",
      "model_module_version": "1.5.0",
      "model_name": "DescriptionStyleModel",
      "state": {
       "description_width": ""
      }
     },
     "0291b722117f4fa1b2eaba5de1cd6eb9": {
      "model_module": "@jupyter-widgets/base",
      "model_module_version": "1.2.0",
      "model_name": "LayoutModel",
      "state": {}
     },
     "02df9f86ce71496b92cf88a71f6b288c": {
      "model_module": "@jupyter-widgets/controls",
      "model_module_version": "1.5.0",
      "model_name": "DescriptionStyleModel",
      "state": {
       "description_width": ""
      }
     },
     "0317bcc5f2fb4e1ea95fcecadf2909ec": {
      "model_module": "@jupyter-widgets/base",
      "model_module_version": "1.2.0",
      "model_name": "LayoutModel",
      "state": {}
     },
     "03f22dba4e5c41bc8c7591a775916bac": {
      "model_module": "@jupyter-widgets/base",
      "model_module_version": "1.2.0",
      "model_name": "LayoutModel",
      "state": {
       "display": "none",
       "width": "auto"
      }
     },
     "03fefc002aaf4440a1d97a52c83b18a7": {
      "model_module": "@jupyter-widgets/base",
      "model_module_version": "1.2.0",
      "model_name": "LayoutModel",
      "state": {}
     },
     "040771ca06294d2a8a7ead533fe9017a": {
      "model_module": "@jupyter-widgets/controls",
      "model_module_version": "1.5.0",
      "model_name": "DescriptionStyleModel",
      "state": {
       "description_width": "initial"
      }
     },
     "042fd109d258405a9e816999f8bad373": {
      "model_module": "@jupyter-widgets/base",
      "model_module_version": "1.2.0",
      "model_name": "LayoutModel",
      "state": {
       "visibility": "visible"
      }
     },
     "043356e9f6e14cca9fafaa858a9b4fec": {
      "model_module": "@jupyter-widgets/controls",
      "model_module_version": "1.5.0",
      "model_name": "VBoxModel",
      "state": {
       "children": [
        "IPY_MODEL_c2ed20659e6e4f92a770a9cc1e488444",
        "IPY_MODEL_08a337475b0840e9863e87eca6f78051"
       ],
       "layout": "IPY_MODEL_566ab7fd75054432a0172c087db00903"
      }
     },
     "0471aaf5b3c0404dbfca0eac41e282e7": {
      "model_module": "@jupyter-widgets/controls",
      "model_module_version": "1.5.0",
      "model_name": "VBoxModel",
      "state": {
       "children": [
        "IPY_MODEL_fa8bf298ff424b13b78475091c20b78c",
        "IPY_MODEL_7658f4e451df4a6caac439f170751806"
       ],
       "layout": "IPY_MODEL_899b7dbfc3d2406cada2fa0677a95397"
      }
     },
     "0473afd5f8674389b20570874c21eed7": {
      "model_module": "@jupyter-widgets/base",
      "model_module_version": "1.2.0",
      "model_name": "LayoutModel",
      "state": {
       "width": "auto"
      }
     },
     "047ec1ae719c42aeae8c7308fef42fdc": {
      "model_module": "@jupyter-widgets/base",
      "model_module_version": "1.2.0",
      "model_name": "LayoutModel",
      "state": {}
     },
     "04ecda76b16b437f9f7a988a45994f1a": {
      "model_module": "@jupyter-widgets/base",
      "model_module_version": "1.2.0",
      "model_name": "LayoutModel",
      "state": {}
     },
     "04fa483a40124de38a9208d8797e5469": {
      "model_module": "@jupyter-widgets/controls",
      "model_module_version": "1.5.0",
      "model_name": "VBoxModel",
      "state": {
       "children": [
        "IPY_MODEL_e4a9b4d1fc0d4c5d86b1da351ef67ff6",
        "IPY_MODEL_b5b5c322ec0e4a5b896f61b564ef3fd9"
       ],
       "layout": "IPY_MODEL_6790d8654f92485c9c37fd0c61d5ae01"
      }
     },
     "050a54fe195f415abd478312de87515e": {
      "model_module": "@jupyter-widgets/base",
      "model_module_version": "1.2.0",
      "model_name": "LayoutModel",
      "state": {}
     },
     "051cf5d919e14eb99e50151905093d2b": {
      "model_module": "@jupyter-widgets/controls",
      "model_module_version": "1.5.0",
      "model_name": "CheckboxModel",
      "state": {
       "description": "GA Pro - Live link",
       "disabled": false,
       "indent": false,
       "layout": "IPY_MODEL_4d5bdb92a87740729aa4a44289470aa7",
       "style": "IPY_MODEL_a89eb03112cf4793a5ae48077933da56",
       "value": false
      }
     },
     "05420349b53e4b65a7d44dfc18790144": {
      "model_module": "@jupyter-widgets/controls",
      "model_module_version": "1.5.0",
      "model_name": "LabelModel",
      "state": {
       "layout": "IPY_MODEL_75e0f1ff38854145ae997b9abcd04d53",
       "style": "IPY_MODEL_254147e7a449404e96f98791a022c039",
       "value": "Monitoring folder"
      }
     },
     "055dced6804f480eb520c446a68c96b8": {
      "model_module": "@jupyter-widgets/controls",
      "model_module_version": "1.5.0",
      "model_name": "ButtonStyleModel",
      "state": {}
     },
     "057d3ee0844c44df8af611c269448c1c": {
      "model_module": "@jupyter-widgets/controls",
      "model_module_version": "1.5.0",
      "model_name": "LabelModel",
      "state": {
       "layout": "IPY_MODEL_ca473be0c0264ac6a03876a19f3b7b79",
       "style": "IPY_MODEL_9db1496fb6784c12b08360d1ae14e45c",
       "value": "Workspace"
      }
     },
     "063d9ae31cf444ba8e16438e08ea9397": {
      "model_module": "@jupyter-widgets/base",
      "model_module_version": "1.2.0",
      "model_name": "LayoutModel",
      "state": {
       "width": "auto"
      }
     },
     "0699cda395954999b299d102573bf8d8": {
      "model_module": "@jupyter-widgets/base",
      "model_module_version": "1.2.0",
      "model_name": "LayoutModel",
      "state": {}
     },
     "06bda8c1ae004dea8fdcd0612375589f": {
      "model_module": "@jupyter-widgets/controls",
      "model_module_version": "1.5.0",
      "model_name": "VBoxModel",
      "state": {
       "children": [
        "IPY_MODEL_2444742ee37d479fa5619e189ec00661"
       ],
       "layout": "IPY_MODEL_db77ddd447b445c18daf4a2dbfa529c6"
      }
     },
     "075aaf0646fb456fbdbfcdd187f7013b": {
      "model_module": "@jupyter-widgets/controls",
      "model_module_version": "1.5.0",
      "model_name": "VBoxModel",
      "state": {
       "children": [
        "IPY_MODEL_a770ace953a74d57b9ad0c470e630fb4",
        "IPY_MODEL_399a66f233be436b979ae13d2a4cd0c3",
        "IPY_MODEL_ade49b913971465a98d6273281f5cbf5",
        "IPY_MODEL_7556d668cd6446b7bd8abcd9aeac567c",
        "IPY_MODEL_783dd56e839a4ed597fa9549901c3da5",
        "IPY_MODEL_605914dc176345eab627f60cd6341ef3",
        "IPY_MODEL_a684ccc63d974e3fa0e447ded40eaccd"
       ],
       "layout": "IPY_MODEL_0317bcc5f2fb4e1ea95fcecadf2909ec"
      }
     },
     "075b697c7b5748579c8088df6b5cc263": {
      "model_module": "@jupyter-widgets/controls",
      "model_module_version": "1.5.0",
      "model_name": "DescriptionStyleModel",
      "state": {
       "description_width": ""
      }
     },
     "078953659564420e9787c6778a8abb0c": {
      "model_module": "@jupyter-widgets/controls",
      "model_module_version": "1.5.0",
      "model_name": "HTMLModel",
      "state": {
       "layout": "IPY_MODEL_5462103588724182a528dcee24ea2612",
       "style": "IPY_MODEL_1af654a8626a42d688c8e5a7f159b3ce"
      }
     },
     "078cb0ffd53f498dadb72a5ab539fed7": {
      "model_module": "@jupyter-widgets/controls",
      "model_module_version": "1.5.0",
      "model_name": "DescriptionStyleModel",
      "state": {
       "description_width": "initial"
      }
     },
     "07969d9b15664a6a97ba7a1cc966c687": {
      "model_module": "@jupyter-widgets/controls",
      "model_module_version": "1.5.0",
      "model_name": "HBoxModel",
      "state": {
       "children": [
        "IPY_MODEL_b0aa67afe8dd4a3085082fb6a5834f81",
        "IPY_MODEL_530c7b3b54ac403db0a66df490b9b872",
        "IPY_MODEL_c16818771eaa437f8f6b755415ebcd94"
       ],
       "layout": "IPY_MODEL_683d115287c44df8ad85226ba19d28d2"
      }
     },
     "07b09b3e814849cc98f68051b7e8fcbe": {
      "model_module": "@jupyter-widgets/controls",
      "model_module_version": "1.5.0",
      "model_name": "HBoxModel",
      "state": {
       "children": [
        "IPY_MODEL_100ec33278834adaa7294b658a541799",
        "IPY_MODEL_7a1f6cd397b5401f9a55015ce8be1044",
        "IPY_MODEL_ed0728c8849f40959660028dc7ff1a8f"
       ],
       "layout": "IPY_MODEL_a87436f0c72349afb68767aef474bd16"
      }
     },
     "07d3154e515945468ce0e7697c747c59": {
      "model_module": "@jupyter-widgets/controls",
      "model_module_version": "1.5.0",
      "model_name": "DescriptionStyleModel",
      "state": {
       "description_width": "initial"
      }
     },
     "080e8bf3ecaa46feb8ca8168980b573d": {
      "model_module": "@jupyter-widgets/base",
      "model_module_version": "1.2.0",
      "model_name": "LayoutModel",
      "state": {}
     },
     "085d8593483541ffa5cb08015790824b": {
      "model_module": "@jupyter-widgets/base",
      "model_module_version": "1.2.0",
      "model_name": "LayoutModel",
      "state": {
       "grid_area": "dircontent",
       "width": "auto"
      }
     },
     "08a337475b0840e9863e87eca6f78051": {
      "model_module": "@jupyter-widgets/controls",
      "model_module_version": "1.5.0",
      "model_name": "VBoxModel",
      "state": {
       "children": [
        "IPY_MODEL_09fff91c173047b3a609f2948ecce17f",
        "IPY_MODEL_f115c4bae6eb4cae9ab86e841a20ab35",
        "IPY_MODEL_d35751c5ee56422cbb0c79f42d8bbf63"
       ],
       "layout": "IPY_MODEL_f083ebb9a2c8451085ddc05faf36e2e5"
      }
     },
     "08b58a0b962c45149ed1b872049fbd7c": {
      "model_module": "@jupyter-widgets/base",
      "model_module_version": "1.2.0",
      "model_name": "LayoutModel",
      "state": {}
     },
     "08ef210f109048cfa1fc1b658b5a21dd": {
      "model_module": "@jupyter-widgets/base",
      "model_module_version": "1.2.0",
      "model_name": "LayoutModel",
      "state": {}
     },
     "09ec51016a914175a428fbcfbe671514": {
      "model_module": "@jupyter-widgets/controls",
      "model_module_version": "1.5.0",
      "model_name": "HBoxModel",
      "state": {
       "children": [
        "IPY_MODEL_9c90eed5310a4fd587583b5d4d6bdf89",
        "IPY_MODEL_68cc5222a0fc43ad90f0cebedac37f1f"
       ],
       "layout": "IPY_MODEL_99a2da21b7bd4aff94fefcfe97966b25"
      }
     },
     "09fff91c173047b3a609f2948ecce17f": {
      "model_module": "@jupyter-widgets/controls",
      "model_module_version": "1.5.0",
      "model_name": "HTMLModel",
      "state": {
       "layout": "IPY_MODEL_e378c7f1013b40248d5b1799531c7077",
       "style": "IPY_MODEL_73ef5f0bbb3944bcaf6acb9deb2609bd"
      }
     },
     "0a0397f9909d4c88b4b3d59957e92c5d": {
      "model_module": "@jupyter-widgets/base",
      "model_module_version": "1.2.0",
      "model_name": "LayoutModel",
      "state": {}
     },
     "0a114b18b8ad4a968d534c5694a2904a": {
      "model_module": "@jupyter-widgets/base",
      "model_module_version": "1.2.0",
      "model_name": "LayoutModel",
      "state": {
       "display": "none"
      }
     },
     "0a72cccea26a4c2690d1f2e27190519d": {
      "model_module": "@jupyter-widgets/controls",
      "model_module_version": "1.5.0",
      "model_name": "DescriptionStyleModel",
      "state": {
       "description_width": ""
      }
     },
     "0ad3301520d4405381df3facafe98e49": {
      "model_module": "@jupyter-widgets/controls",
      "model_module_version": "1.5.0",
      "model_name": "HTMLModel",
      "state": {
       "layout": "IPY_MODEL_23a55906e3bc41a2ac59be24e4c82f77",
       "placeholder": "",
       "style": "IPY_MODEL_2e61d54954814b83acf1c4bf4bbd732b",
       "value": "<span style=\"margin-left:10px; color:black;\">No file selected</span>"
      }
     },
     "0ae0a03fa24f42d684b6091a6bba42c1": {
      "model_module": "@jupyter-widgets/base",
      "model_module_version": "1.2.0",
      "model_name": "LayoutModel",
      "state": {}
     },
     "0b0ea724c64a46a68a4b223b882dedb1": {
      "model_module": "@jupyter-widgets/controls",
      "model_module_version": "1.5.0",
      "model_name": "DescriptionStyleModel",
      "state": {
       "description_width": ""
      }
     },
     "0b274d22692444c9814025c6fafba1c8": {
      "model_module": "@jupyter-widgets/base",
      "model_module_version": "1.2.0",
      "model_name": "LayoutModel",
      "state": {}
     },
     "0b60fd2167b24c71ac98ba60d5f53a48": {
      "model_module": "@jupyter-widgets/controls",
      "model_module_version": "1.5.0",
      "model_name": "DescriptionStyleModel",
      "state": {
       "description_width": "initial"
      }
     },
     "0b6d44b7166242bcb0e99a0888f91304": {
      "model_module": "@jupyter-widgets/controls",
      "model_module_version": "1.5.0",
      "model_name": "TextModel",
      "state": {
       "disabled": true,
       "layout": "IPY_MODEL_afa556e02f13434f8e20007bcdf5c210",
       "placeholder": "output filename",
       "style": "IPY_MODEL_8caa19a6d22146c4940f6f251c6ff69f"
      }
     },
     "0bcdc6153e7648a1b1481079a69c109b": {
      "model_module": "@jupyter-widgets/base",
      "model_module_version": "1.2.0",
      "model_name": "LayoutModel",
      "state": {
       "visibility": "hidden"
      }
     },
     "0bea0d88681c44c0803fe1b389feabb0": {
      "model_module": "@jupyter-widgets/controls",
      "model_module_version": "1.5.0",
      "model_name": "DescriptionStyleModel",
      "state": {
       "description_width": ""
      }
     },
     "0bfe2bba1a60474d876c7634afb787cb": {
      "model_module": "@jupyter-widgets/controls",
      "model_module_version": "1.5.0",
      "model_name": "HTMLModel",
      "state": {
       "layout": "IPY_MODEL_a23fc1ab757f47ec820cde60b6770c56",
       "placeholder": "",
       "style": "IPY_MODEL_7f7bc9499d754d0cac1508e7761230aa",
       "value": "<span style=\"margin-left:10px; color:black;\">No file selected</span>"
      }
     },
     "0c2c861ebc5b40fb8577118bc839c10b": {
      "model_module": "@jupyter-widgets/controls",
      "model_module_version": "1.5.0",
      "model_name": "ToggleButtonModel",
      "state": {
       "layout": "IPY_MODEL_433698542f714b95a366b518036cacc4",
       "style": "IPY_MODEL_3e4cb3c75a05406386a0e44e5592396d"
      }
     },
     "0c33df85a6824bc8bb6dd2c23b2ca543": {
      "model_module": "@jupyter-widgets/controls",
      "model_module_version": "1.5.0",
      "model_name": "DescriptionStyleModel",
      "state": {
       "description_width": "initial"
      }
     },
     "0c38a4ae4f084ff7a8961d4a8b34d85e": {
      "model_module": "@jupyter-widgets/base",
      "model_module_version": "1.2.0",
      "model_name": "LayoutModel",
      "state": {}
     },
     "0c539652417b4530825203b55761599f": {
      "model_module": "@jupyter-widgets/controls",
      "model_module_version": "1.5.0",
      "model_name": "DescriptionStyleModel",
      "state": {
       "description_width": ""
      }
     },
     "0ca6f6842cf947b59d44ae98d42afc93": {
      "model_module": "@jupyter-widgets/controls",
      "model_module_version": "1.5.0",
      "model_name": "VBoxModel",
      "state": {
       "children": [
        "IPY_MODEL_864424a4449746c580a4a08c11194480",
        "IPY_MODEL_ec36fe3b98124222a6145dd1090f8b0a",
        "IPY_MODEL_373bc95b3b5c45d5b32135a76bcad0a0",
        "IPY_MODEL_7861cf9356fe4d61af04cd4203e54e0d",
        "IPY_MODEL_c398f4abda8d42b1bd61ef54f80bb3d7"
       ],
       "layout": "IPY_MODEL_adcf0306e14045938e26ec02418579d1"
      }
     },
     "0cafd5f3b09947b9941089c81b30f9cf": {
      "model_module": "@jupyter-widgets/controls",
      "model_module_version": "1.5.0",
      "model_name": "FloatSliderModel",
      "state": {
       "continuous_update": false,
       "description": "Height",
       "layout": "IPY_MODEL_ddcaa85ad9144db7afaa79b646059631",
       "max": 11351.865002485923,
       "orientation": "vertical",
       "step": 0.1,
       "style": "IPY_MODEL_8a4d44b89c214a6ca101516dfbb4db1e",
       "value": 1500
      }
     },
     "0ccda490435947d8a18187c2ccd428c4": {
      "model_module": "@jupyter-widgets/controls",
      "model_module_version": "1.5.0",
      "model_name": "DescriptionStyleModel",
      "state": {
       "description_width": ""
      }
     },
     "0ce3977b3c394407b1f32bd5d412e69a": {
      "model_module": "@jupyter-widgets/controls",
      "model_module_version": "1.5.0",
      "model_name": "DropdownModel",
      "state": {
       "_options_labels": [
        "",
        "Predicted",
        "Mesh",
        "fault_splay1",
        "fault_Cliff_Lake",
        "fault_Other_FlinFlon",
        "fault_Club_Lake_splay",
        "fault_Catherine_splay2",
        "fault_Birch_View",
        "fault_Dion_Lake",
        "fault_FlinFlon_splay",
        "fault_West_Mandy_Road",
        "fault_Channing",
        "fault_Ross_Lake",
        "fault_Louis_Hidden",
        "fault_Lake_View_thrust",
        "contact_Schist_Lake",
        "fault_Burley_Lake",
        "fault_Dion_Lake_splay",
        "fault_Green_Lake",
        "fault_FlinFlon",
        "fault_Catherine_splay1",
        "fault_East_Mandy_Road",
        "fault_Other_FlinFlon_South",
        "fault_Catherine_splay4",
        "contact_Stitt_Island",
        "fault_Club_Lake",
        "fault_Tailing_Pond",
        "35_Hidden_Reservoir_Hr5",
        "29_Hidden_Reservoir_Hr1a",
        "60_BlueLagoon_Fb2",
        "20_FlinFlon_Undivided_Int_Dykes_D2f",
        "04_Boundary_Intrusive_S4h",
        "53_Millrock_Rhyolite_Fm4b",
        "19_FlinFlon_Undivided_Int_Dykes_D2b",
        "18_FlinFlon_Undivided_Int_Dykes_777_D2b",
        "06_Phantom_Lake_Intrusive_S3a",
        "21_FlinFlon_Undivided_Int_Dykes_D3a",
        "43_Millrock_CHLSH_South",
        "56_Millrock_Basalt_Fm1ba",
        "17_FlinFlon_Undivided_Int_Dykes_D2",
        "32_Hidden_Reservoir_Hr1b_SW",
        "11_Missi_M3_NE",
        "13_Missi_M1",
        "07_Annabel_Granitoid_S1",
        "45_Millrock_Gabbro_South",
        "01_Late_Intrusive_S5b",
        "31_Hidden_Reservoir_Hr1c_SW",
        "52_Millrock_Rhyolite_Fm4_West_check",
        "55_Millrock_Basalt_Fm1bf",
        "34_Hidden_Reservoir_Hr2b",
        "03_Boundary_Intrusive_S4b",
        "42_Millrock_CHLSH_North",
        "26_Louis_L3",
        "23_FlinFlon_Undivided_Int_Felsic_D4g",
        "30_Hidden_Reservoir_Hr1b",
        "59_BlueLagoon_Fb3",
        "49_Millrock_MVR_Fm5d",
        "44_Millrock_Gabbro_North",
        "27_Hidden_Carlisle_Hc4",
        "22_FlinFlon_Undivided_Int_Felsic_D4e",
        "02_Boundary_Intrusive_S4a",
        "61_BlueLagoon_Fb1_NW",
        "05_Boundary_Intrusive_S4g",
        "39_Ore_Callinan",
        "38_Ore_Dan_Owens",
        "40_Ore_FlinFlon",
        "Inversion_VTEM_Model",
        "Gravity_Magnetics_drape60m",
        "CDI_VTEM_model",
        "Data_FEM_pseudo3D",
        "O2O_Interp_25m",
        "geochem",
        "Inversion_DIGHEM_Model",
        "Topography",
        "Data_TEM_pseudo3D"
       ],
       "description": "Object",
       "index": 0,
       "layout": "IPY_MODEL_74274c9008cb4c478020a5212eb1e5e5",
       "style": "IPY_MODEL_64d3e4f1070342429f2d1328d7835eda"
      }
     },
     "0d4d0105769a4ea68c342a6dbcef4dbb": {
      "model_module": "@jupyter-widgets/base",
      "model_module_version": "1.2.0",
      "model_name": "LayoutModel",
      "state": {}
     },
     "0d7bf677f9d34ca5b19bb86fb748bab5": {
      "model_module": "@jupyter-widgets/base",
      "model_module_version": "1.2.0",
      "model_name": "LayoutModel",
      "state": {
       "width": "auto"
      }
     },
     "0de5a9a5a0344ddf869dbb12f6c30d25": {
      "model_module": "@jupyter-widgets/controls",
      "model_module_version": "1.5.0",
      "model_name": "TextModel",
      "state": {
       "description": "(dx, dy, dz) (+ve up)",
       "layout": "IPY_MODEL_6aadb5e614dd422eb0facc2a17ef6432",
       "style": "IPY_MODEL_a4ad7ec31c0f4db89bec34f66ae47281",
       "value": "0, 0, 60"
      }
     },
     "0ea426e2ca134700944c7dc285e31016": {
      "model_module": "@jupyter-widgets/base",
      "model_module_version": "1.2.0",
      "model_name": "LayoutModel",
      "state": {}
     },
     "0ea861b816e24cac92b1d5d0bc24e864": {
      "model_module": "@jupyter-widgets/base",
      "model_module_version": "1.2.0",
      "model_name": "LayoutModel",
      "state": {}
     },
     "0ef25a16e0bc49a5b2fb234b557f829b": {
      "model_module": "@jupyter-widgets/base",
      "model_module_version": "1.2.0",
      "model_name": "LayoutModel",
      "state": {
       "display": "none",
       "grid_gap": "0px 0px",
       "grid_template_areas": "\n                    'pathlist pathlist'\n                    'dircontent dircontent'\n                    ",
       "grid_template_columns": "60% 40%",
       "grid_template_rows": "auto auto",
       "width": "500px"
      }
     },
     "0f19d958c7744e50a3741fedbfdadb46": {
      "model_module": "@jupyter-widgets/controls",
      "model_module_version": "1.5.0",
      "model_name": "DescriptionStyleModel",
      "state": {
       "description_width": ""
      }
     },
     "0f456e58b9d04f73826ebb4a0abc9191": {
      "model_module": "@jupyter-widgets/controls",
      "model_module_version": "1.5.0",
      "model_name": "VBoxModel",
      "state": {
       "children": [
        "IPY_MODEL_8f0ac60b6f97473d957f5d0bcbee3c22"
       ],
       "layout": "IPY_MODEL_f506a7951cfa4ecbb0486d2b115d4fd2"
      }
     },
     "0f6f6767af444df4ac897acb53ef5461": {
      "model_module": "@jupyter-widgets/base",
      "model_module_version": "1.2.0",
      "model_name": "LayoutModel",
      "state": {}
     },
     "0f7ac95b01254f9f9af389caa06097ff": {
      "model_module": "@jupyter-widgets/controls",
      "model_module_version": "1.5.0",
      "model_name": "ButtonModel",
      "state": {
       "description": "Change",
       "layout": "IPY_MODEL_52d0aff2d1a04fc99e327dc05a0c2410",
       "style": "IPY_MODEL_1be75cd28a484757ae58f305c356b298"
      }
     },
     "0f9dcc6632a7491981c1610def1604eb": {
      "model_module": "@jupyter-widgets/base",
      "model_module_version": "1.2.0",
      "model_name": "LayoutModel",
      "state": {}
     },
     "0fa8f63f21e64ef594b22fe78a733615": {
      "model_module": "@jupyter-widgets/controls",
      "model_module_version": "1.5.0",
      "model_name": "VBoxModel",
      "state": {
       "children": [
        "IPY_MODEL_37086f16e82b4f74944fec08a3f38dae",
        "IPY_MODEL_b57279f9bfba4457be7aaa1064bc9194",
        "IPY_MODEL_20bc0f190dbc46268a2691c873870629"
       ],
       "layout": "IPY_MODEL_0215b66edaeb4eb8baecefc86eb888ea"
      }
     },
     "0fdbd7bf2a4442cd93394321e3b834a3": {
      "model_module": "@jupyter-widgets/controls",
      "model_module_version": "1.5.0",
      "model_name": "DescriptionStyleModel",
      "state": {
       "description_width": ""
      }
     },
     "0fe2ca7297624e798992a2ff0de306d3": {
      "model_module": "@jupyter-widgets/controls",
      "model_module_version": "1.5.0",
      "model_name": "SelectModel",
      "state": {
       "_options_labels": [
        "..",
        "images"
       ],
       "index": null,
       "layout": "IPY_MODEL_d5ef02fd6246485c9deff46060c43ae5",
       "rows": 8,
       "style": "IPY_MODEL_ff363c9c34e940c0b691134613634623"
      }
     },
     "100ec33278834adaa7294b658a541799": {
      "model_module": "@jupyter-widgets/controls",
      "model_module_version": "1.5.0",
      "model_name": "ButtonModel",
      "state": {
       "description": "Select",
       "layout": "IPY_MODEL_6cbd5caafd6a408d96f841585212074f",
       "style": "IPY_MODEL_eec280faa63c4e7b800ac5505fed811e"
      }
     },
     "1049a11bfb1a49bb8720da38d69eb566": {
      "model_module": "@jupyter-widgets/controls",
      "model_module_version": "1.5.0",
      "model_name": "DescriptionStyleModel",
      "state": {
       "description_width": ""
      }
     },
     "105b446b23c54786b251f46d97a83c4a": {
      "model_module": "@jupyter-widgets/controls",
      "model_module_version": "1.5.0",
      "model_name": "HBoxModel",
      "state": {
       "children": [
        "IPY_MODEL_41761ee83c9c448096d67161bad15b70",
        "IPY_MODEL_b5d11fae8b5149228e14efc44f6f13b7"
       ],
       "layout": "IPY_MODEL_988d5b3d23d84f30a76a5298f72e6950"
      }
     },
     "106827047fa04f2da0b021a04ce78887": {
      "model_module": "@jupyter-widgets/controls",
      "model_module_version": "1.5.0",
      "model_name": "DescriptionStyleModel",
      "state": {
       "description_width": "initial"
      }
     },
     "106e2554feec4ec0afed26a7ace62b86": {
      "model_module": "@jupyter-widgets/base",
      "model_module_version": "1.2.0",
      "model_name": "LayoutModel",
      "state": {}
     },
     "108e894916e04fc4b5c985086ecf4c8b": {
      "model_module": "@jupyter-widgets/controls",
      "model_module_version": "1.5.0",
      "model_name": "ButtonStyleModel",
      "state": {}
     },
     "10bd2ca935564b6b941916bda12d35c8": {
      "model_module": "@jupyter-widgets/base",
      "model_module_version": "1.2.0",
      "model_name": "LayoutModel",
      "state": {
       "width": "auto"
      }
     },
     "10ff0c8c7a8f4cbc824154e9b8b61f9a": {
      "model_module": "@jupyter-widgets/controls",
      "model_module_version": "1.5.0",
      "model_name": "DropdownModel",
      "state": {
       "_options_labels": [
        "C:\\Users\\dominiquef\\Documents\\GIT\\mira\\mirageoscience-apps\\docs\\content\\applications",
        "C:\\Users\\dominiquef\\Documents\\GIT\\mira\\mirageoscience-apps\\docs\\content",
        "C:\\Users\\dominiquef\\Documents\\GIT\\mira\\mirageoscience-apps\\docs",
        "C:\\Users\\dominiquef\\Documents\\GIT\\mira\\mirageoscience-apps",
        "C:\\Users\\dominiquef\\Documents\\GIT\\mira",
        "C:\\Users\\dominiquef\\Documents\\GIT",
        "C:\\Users\\dominiquef\\Documents",
        "C:\\Users\\dominiquef",
        "C:\\Users",
        "C:\\",
        "D:\\",
        "Z:\\"
       ],
       "index": 0,
       "layout": "IPY_MODEL_761c0c2a32474f9bbc02dfe912285f6e",
       "style": "IPY_MODEL_50d7a2689af34a3d8b95ef597e1d9faf"
      }
     },
     "1117218d0192435ca502979036fc0106": {
      "model_module": "@jupyter-widgets/controls",
      "model_module_version": "1.5.0",
      "model_name": "RadioButtonsModel",
      "state": {
       "_options_labels": [
        "Estimated (%|data| + background)",
        "User input (%|data| + floor)"
       ],
       "index": 1,
       "layout": "IPY_MODEL_be8a767e7fed45e194a4d983e5cef51c",
       "style": "IPY_MODEL_ca7e3a0c9a14429bb57e439d05e64e83"
      }
     },
     "11671f4fe0b14cbfa272c7dfac4fb121": {
      "model_module": "@jupyter-widgets/controls",
      "model_module_version": "1.5.0",
      "model_name": "LabelModel",
      "state": {
       "layout": "IPY_MODEL_a1c7be4424a5478e8c7737fd7553cffa",
       "style": "IPY_MODEL_32a1a13323934dbd84af7a9e5d527620",
       "value": "No topography"
      }
     },
     "1174ebe9549c46a3977df6b55e439401": {
      "model_module": "@jupyter-widgets/controls",
      "model_module_version": "1.5.0",
      "model_name": "ButtonStyleModel",
      "state": {}
     },
     "119d85a5a86a4ecda5272a9b89654908": {
      "model_module": "@jupyter-widgets/base",
      "model_module_version": "1.2.0",
      "model_name": "LayoutModel",
      "state": {}
     },
     "11ea1096c9fd43b18ad2066819e29d61": {
      "model_module": "@jupyter-widgets/controls",
      "model_module_version": "1.5.0",
      "model_name": "VBoxModel",
      "state": {
       "children": [
        "IPY_MODEL_393213f73e324a6498c168df2da167a3",
        "IPY_MODEL_71d4fa996bad468884d8661908ea4b4e"
       ],
       "layout": "IPY_MODEL_5d84b5aaf9214dbe95b3aabb8ee088f0"
      }
     },
     "1246aa576bf64485a75446a6240e673c": {
      "model_module": "@jupyter-widgets/base",
      "model_module_version": "1.2.0",
      "model_name": "LayoutModel",
      "state": {}
     },
     "12e3ba53d5f0484581b689cd641ed018": {
      "model_module": "@jupyter-widgets/controls",
      "model_module_version": "1.5.0",
      "model_name": "DescriptionStyleModel",
      "state": {
       "description_width": ""
      }
     },
     "1367d44eb3ca44118fc7b217c1f13151": {
      "model_module": "@jupyter-widgets/base",
      "model_module_version": "1.2.0",
      "model_name": "LayoutModel",
      "state": {
       "display": "none",
       "width": "auto"
      }
     },
     "136d6ff24b324474aae689a5ef336a16": {
      "model_module": "@jupyter-widgets/base",
      "model_module_version": "1.2.0",
      "model_name": "LayoutModel",
      "state": {}
     },
     "13868e06478f41fd97ae98ea611a3728": {
      "model_module": "@jupyter-widgets/controls",
      "model_module_version": "1.5.0",
      "model_name": "DescriptionStyleModel",
      "state": {
       "description_width": ""
      }
     },
     "14220a3b15a542079e0ed48b7ec5800f": {
      "model_module": "@jupyter-widgets/base",
      "model_module_version": "1.2.0",
      "model_name": "LayoutModel",
      "state": {}
     },
     "14376f72eefc4f0f8156a21946f7de06": {
      "model_module": "@jupyter-widgets/controls",
      "model_module_version": "1.5.0",
      "model_name": "ButtonStyleModel",
      "state": {}
     },
     "148f3bd5c68c4cc8be93cb028a49c06e": {
      "model_module": "@jupyter-widgets/base",
      "model_module_version": "1.2.0",
      "model_name": "LayoutModel",
      "state": {
       "grid_area": "dircontent",
       "width": "auto"
      }
     },
     "156dcf9adeaa4076bf76b62f426aeae5": {
      "model_module": "@jupyter-widgets/controls",
      "model_module_version": "1.5.0",
      "model_name": "HTMLModel",
      "state": {
       "layout": "IPY_MODEL_c35081b8346f4f30aba44423ea9c0858",
       "style": "IPY_MODEL_0fdbd7bf2a4442cd93394321e3b834a3"
      }
     },
     "15f1cd7336b3498590bf26d289878284": {
      "model_module": "@jupyter-widgets/base",
      "model_module_version": "1.2.0",
      "model_name": "LayoutModel",
      "state": {}
     },
     "1611d14958824745b4b5a259bdabf3d8": {
      "model_module": "@jupyter-widgets/controls",
      "model_module_version": "1.5.0",
      "model_name": "DescriptionStyleModel",
      "state": {
       "description_width": "initial"
      }
     },
     "162d3536d3fb475ba31bc5a64c30c563": {
      "model_module": "@jupyter-widgets/controls",
      "model_module_version": "1.5.0",
      "model_name": "DescriptionStyleModel",
      "state": {
       "description_width": "initial"
      }
     },
     "1680f6cf53ce4cb2808b74c66447af8e": {
      "model_module": "@jupyter-widgets/controls",
      "model_module_version": "1.5.0",
      "model_name": "SliderStyleModel",
      "state": {
       "description_width": "initial"
      }
     },
     "16a2d97c46bb428cba5ab905d2ef5f69": {
      "model_module": "@jupyter-widgets/controls",
      "model_module_version": "1.5.0",
      "model_name": "DescriptionStyleModel",
      "state": {
       "description_width": ""
      }
     },
     "16ebd8b5700b4a90a27f2c0bbf0bd942": {
      "model_module": "@jupyter-widgets/base",
      "model_module_version": "1.2.0",
      "model_name": "LayoutModel",
      "state": {}
     },
     "16f7f6c0b4d74ace9c2e9207b79b3a1c": {
      "model_module": "@jupyter-widgets/base",
      "model_module_version": "1.2.0",
      "model_name": "LayoutModel",
      "state": {
       "width": "auto"
      }
     },
     "17139a48753b41a4854a4a164f3dd1b7": {
      "model_module": "@jupyter-widgets/controls",
      "model_module_version": "1.5.0",
      "model_name": "DescriptionStyleModel",
      "state": {
       "description_width": ""
      }
     },
     "17155450c28e4d4ea569ac0819f1de46": {
      "model_module": "@jupyter-widgets/controls",
      "model_module_version": "1.5.0",
      "model_name": "TextModel",
      "state": {
       "description": "Error (%, floor)",
       "layout": "IPY_MODEL_88932282b4db4c85b800a4f9548a54d2",
       "style": "IPY_MODEL_954abb9308cc4185a8a28d6eec8cdace",
       "value": "0, 1"
      }
     },
     "17335b56bf9847f7929c7289efea30c1": {
      "model_module": "@jupyter-widgets/controls",
      "model_module_version": "1.5.0",
      "model_name": "ButtonStyleModel",
      "state": {}
     },
     "17530379d84d4d498a02737d73e8f315": {
      "model_module": "@jupyter-widgets/controls",
      "model_module_version": "1.5.0",
      "model_name": "DescriptionStyleModel",
      "state": {
       "description_width": ""
      }
     },
     "17aa2227c01043b9a4fbf760bf34446a": {
      "model_module": "@jupyter-widgets/base",
      "model_module_version": "1.2.0",
      "model_name": "LayoutModel",
      "state": {}
     },
     "17edf865e79e4f3da91ccb11faea0995": {
      "model_module": "@jupyter-widgets/base",
      "model_module_version": "1.2.0",
      "model_name": "LayoutModel",
      "state": {}
     },
     "1814547cdefb4b5c8a6cd877896c2264": {
      "model_module": "@jupyter-widgets/base",
      "model_module_version": "1.2.0",
      "model_name": "LayoutModel",
      "state": {}
     },
     "182b21e6737643cc987a3cb21f01dd73": {
      "model_module": "@jupyter-widgets/controls",
      "model_module_version": "1.5.0",
      "model_name": "HBoxModel",
      "state": {
       "children": [
        "IPY_MODEL_695d2da659544dc7b6e9203e19451965",
        "IPY_MODEL_798ba0a441c34a1da075d0965ae34882"
       ],
       "layout": "IPY_MODEL_2e06dfc2caaf4b8e9b4b98b71bcd92fc"
      }
     },
     "182b40659c114071ae01a7552607e987": {
      "model_module": "@jupyter-widgets/base",
      "model_module_version": "1.2.0",
      "model_name": "LayoutModel",
      "state": {}
     },
     "18384c166bbc4fb6a1635708170d4d57": {
      "model_module": "@jupyter-widgets/base",
      "model_module_version": "1.2.0",
      "model_name": "LayoutModel",
      "state": {}
     },
     "184931ed4bff4c25a662b62ec025b678": {
      "model_module": "@jupyter-widgets/controls",
      "model_module_version": "1.5.0",
      "model_name": "ButtonModel",
      "state": {
       "description": "Cancel",
       "layout": "IPY_MODEL_1367d44eb3ca44118fc7b217c1f13151",
       "style": "IPY_MODEL_1174ebe9549c46a3977df6b55e439401"
      }
     },
     "18a3314f058e42c29f3b831d9a31e842": {
      "model_module": "@jupyter-widgets/base",
      "model_module_version": "1.2.0",
      "model_name": "LayoutModel",
      "state": {}
     },
     "19896cbc17a04dd9b3e7d1a2074f57c4": {
      "model_module": "@jupyter-widgets/base",
      "model_module_version": "1.2.0",
      "model_name": "LayoutModel",
      "state": {
       "width": "auto"
      }
     },
     "19c47393fcde43d9b5948508e3fcdc7c": {
      "model_module": "@jupyter-widgets/base",
      "model_module_version": "1.2.0",
      "model_name": "LayoutModel",
      "state": {}
     },
     "19e0672a54bd412eb3e06860c6bdb173": {
      "model_module": "@jupyter-widgets/base",
      "model_module_version": "1.2.0",
      "model_name": "LayoutModel",
      "state": {}
     },
     "19e6cdde79304b6ea1285d30ebdf1c36": {
      "model_module": "@jupyter-widgets/controls",
      "model_module_version": "1.5.0",
      "model_name": "SelectModel",
      "state": {
       "_options_labels": [
        "..",
        "images",
        "Untitled.ipynb",
        "base_application.ipynb",
        "calculator.ipynb",
        "contouring.ipynb",
        "coordinate_transformation.ipynb",
        "create_surface.ipynb",
        "data_interpolation.ipynb",
        "edge_detection.ipynb",
        "export.ipynb",
        "geophysical_inversion.ipynb",
        "object_data_selection.ipynb",
        "scatter.ipynb",
        "view_selection.ipynb"
       ],
       "index": null,
       "layout": "IPY_MODEL_ab3924f5750940a0a57fad31b6d4e1e5",
       "rows": 8,
       "style": "IPY_MODEL_5d5350d818b24eebabe8d533826c97e9"
      }
     },
     "1a9a21c7f89745f49141818f3b57c414": {
      "model_module": "@jupyter-widgets/controls",
      "model_module_version": "1.5.0",
      "model_name": "ButtonStyleModel",
      "state": {}
     },
     "1a9dc2d6080f4f228f4087fa484afc3f": {
      "model_module": "@jupyter-widgets/base",
      "model_module_version": "1.2.0",
      "model_name": "LayoutModel",
      "state": {
       "display": "none",
       "grid_area": "filename",
       "width": "auto"
      }
     },
     "1ac0597092ae48038e815143f04e24fa": {
      "model_module": "@jupyter-widgets/controls",
      "model_module_version": "1.5.0",
      "model_name": "DescriptionStyleModel",
      "state": {
       "description_width": ""
      }
     },
     "1ac5b8cc0dd14dfbb3dcd6ffea253d43": {
      "model_module": "@jupyter-widgets/controls",
      "model_module_version": "1.5.0",
      "model_name": "ButtonStyleModel",
      "state": {}
     },
     "1af654a8626a42d688c8e5a7f159b3ce": {
      "model_module": "@jupyter-widgets/controls",
      "model_module_version": "1.5.0",
      "model_name": "DescriptionStyleModel",
      "state": {
       "description_width": ""
      }
     },
     "1b2644d5d54145898c363192f8a1579a": {
      "model_module": "@jupyter-widgets/controls",
      "model_module_version": "1.5.0",
      "model_name": "VBoxModel",
      "state": {
       "children": [
        "IPY_MODEL_6e1fa0ca79d24412921e332944313b7e",
        "IPY_MODEL_7fcd561ce7bf4f7a8841f103cb4f9744"
       ],
       "layout": "IPY_MODEL_741c9db0a6e54c50980d8cb22ff9f75d"
      }
     },
     "1b771bb774a046dc853944418579b0e5": {
      "model_module": "@jupyter-widgets/base",
      "model_module_version": "1.2.0",
      "model_name": "LayoutModel",
      "state": {}
     },
     "1be75cd28a484757ae58f305c356b298": {
      "model_module": "@jupyter-widgets/controls",
      "model_module_version": "1.5.0",
      "model_name": "ButtonStyleModel",
      "state": {}
     },
     "1c03f6e1ea744a068ebb03b7fe2ca377": {
      "model_module": "@jupyter-widgets/controls",
      "model_module_version": "1.5.0",
      "model_name": "DescriptionStyleModel",
      "state": {
       "description_width": ""
      }
     },
     "1c0ad10b7bad4c128db4357cb151e58b": {
      "model_module": "@jupyter-widgets/base",
      "model_module_version": "1.2.0",
      "model_name": "LayoutModel",
      "state": {}
     },
     "1c232fd58dd84a8e807ada8798da183b": {
      "model_module": "@jupyter-widgets/controls",
      "model_module_version": "1.5.0",
      "model_name": "CheckboxModel",
      "state": {
       "description": "Active",
       "disabled": false,
       "layout": "IPY_MODEL_600a19da7f574b3d9b3ea9be0fcba319",
       "style": "IPY_MODEL_76a6e4c6e7114457ac1a2d904f4c4a4c",
       "value": false
      }
     },
     "1c2802da222f421abd1f4f4b50e1dbf3": {
      "model_module": "@jupyter-widgets/controls",
      "model_module_version": "1.5.0",
      "model_name": "ButtonModel",
      "state": {
       "description": "Select",
       "layout": "IPY_MODEL_dc6b0ca223c64965a014c81cc1820b3c",
       "style": "IPY_MODEL_96c822a9dff44092a1f5f5ef2e10af91"
      }
     },
     "1c85c07fa1e24b97b37976379b1bae34": {
      "model_module": "@jupyter-widgets/controls",
      "model_module_version": "1.5.0",
      "model_name": "DescriptionStyleModel",
      "state": {
       "description_width": ""
      }
     },
     "1caeaa04792c4746b368d9392e7944df": {
      "model_module": "@jupyter-widgets/controls",
      "model_module_version": "1.5.0",
      "model_name": "DescriptionStyleModel",
      "state": {
       "description_width": ""
      }
     },
     "1cd1286207a84eb4b830d1012c605257": {
      "model_module": "@jupyter-widgets/controls",
      "model_module_version": "1.5.0",
      "model_name": "SliderStyleModel",
      "state": {
       "description_width": "initial"
      }
     },
     "1d36a9ce0ad84f92a69a7f8a89dfa993": {
      "model_module": "@jupyter-widgets/controls",
      "model_module_version": "1.5.0",
      "model_name": "VBoxModel",
      "state": {
       "children": [
        "IPY_MODEL_82f64f9b7d9c4b6ea56491c80f6f9050",
        "IPY_MODEL_298ea9624bbe4e88a50510b51fb67c9d",
        "IPY_MODEL_ba43232c11274f4899aa087c6535547e",
        "IPY_MODEL_6ba045cd7068430985c3dbdba132d334",
        "IPY_MODEL_25563a17a29849bfbc7cc4c6cfa478f2",
        "IPY_MODEL_9d6d389621314b7285db1f909dd46290",
        "IPY_MODEL_fd30714afa534ad48a09c95b8c0b8cc6"
       ],
       "layout": "IPY_MODEL_f6158ff447ad4efdbdf2f138b0c13bcf"
      }
     },
     "1d65097c44364e169f7330beff9c0cd0": {
      "model_module": "@jupyter-widgets/base",
      "model_module_version": "1.2.0",
      "model_name": "LayoutModel",
      "state": {}
     },
     "1d688f58eaf0459a87d86b59f033aba8": {
      "model_module": "@jupyter-widgets/controls",
      "model_module_version": "1.5.0",
      "model_name": "LabelModel",
      "state": {
       "layout": "IPY_MODEL_701c4e2c8462447e950319a2ad93c1e8",
       "style": "IPY_MODEL_fd554978dbfe4f10a32e58d1fdabf3b4",
       "value": "Monitoring folder"
      }
     },
     "1dc1b764a16e4830b8bcabb19891f615": {
      "model_module": "@jupyter-widgets/base",
      "model_module_version": "1.2.0",
      "model_name": "LayoutModel",
      "state": {}
     },
     "1dda64940f7346dba908336cd0c36294": {
      "model_module": "@jupyter-widgets/controls",
      "model_module_version": "1.5.0",
      "model_name": "DescriptionStyleModel",
      "state": {
       "description_width": "initial"
      }
     },
     "1ddebad88d514bcaafd8808670974455": {
      "model_module": "@jupyter-widgets/base",
      "model_module_version": "1.2.0",
      "model_name": "LayoutModel",
      "state": {
       "visibility": "hidden"
      }
     },
     "1de59ff21e304ee9a3ba0577a351ac84": {
      "model_module": "@jupyter-widgets/controls",
      "model_module_version": "1.5.0",
      "model_name": "DropdownModel",
      "state": {
       "_options_labels": [
        "C:\\Users\\dominiquef\\Documents\\GIT\\mira\\mirageoscience-apps\\docs\\content\\applications",
        "C:\\Users\\dominiquef\\Documents\\GIT\\mira\\mirageoscience-apps\\docs\\content",
        "C:\\Users\\dominiquef\\Documents\\GIT\\mira\\mirageoscience-apps\\docs",
        "C:\\Users\\dominiquef\\Documents\\GIT\\mira\\mirageoscience-apps",
        "C:\\Users\\dominiquef\\Documents\\GIT\\mira",
        "C:\\Users\\dominiquef\\Documents\\GIT",
        "C:\\Users\\dominiquef\\Documents",
        "C:\\Users\\dominiquef",
        "C:\\Users",
        "C:\\",
        "D:\\",
        "Z:\\"
       ],
       "index": 0,
       "layout": "IPY_MODEL_c82a8205f2e749d68b63e5b4f2bb9661",
       "style": "IPY_MODEL_7e65ce87dd0645ffbbd7e7650f0b09d2"
      }
     },
     "1dea7e6061cd4098a7d4c016f006e8ff": {
      "model_module": "@jupyter-widgets/controls",
      "model_module_version": "1.5.0",
      "model_name": "HBoxModel",
      "state": {
       "children": [
        "IPY_MODEL_9aa0eca5cdfd48f08200af0eb60aa578",
        "IPY_MODEL_3f23a967924945548d6623a9d7ea6ed3",
        "IPY_MODEL_f2923b26b8ab41a0b5f7f3c635fecff1"
       ],
       "layout": "IPY_MODEL_c2c0cd8f661c43b7ba6b0e255299a11d"
      }
     },
     "1e14168a689b437eb62a4c50e0a48232": {
      "model_module": "@jupyter-widgets/controls",
      "model_module_version": "1.5.0",
      "model_name": "DescriptionStyleModel",
      "state": {
       "description_width": ""
      }
     },
     "1ead3708fa6d4d918f03efe96b450295": {
      "model_module": "@jupyter-widgets/base",
      "model_module_version": "1.2.0",
      "model_name": "LayoutModel",
      "state": {}
     },
     "1f06d2ec3fd64a1f9916878a5a852506": {
      "model_module": "@jupyter-widgets/base",
      "model_module_version": "1.2.0",
      "model_name": "LayoutModel",
      "state": {}
     },
     "1f15b76e829e4cf98e6a7a946bbf37fb": {
      "model_module": "@jupyter-widgets/controls",
      "model_module_version": "1.5.0",
      "model_name": "HTMLModel",
      "state": {
       "layout": "IPY_MODEL_bb0835e2fd4e4d77b9f47937e5447354",
       "style": "IPY_MODEL_9f6004975966449cadc3ee06296bdfd7"
      }
     },
     "1f3d6138070b44ea95136575f460857a": {
      "model_module": "@jupyter-widgets/controls",
      "model_module_version": "1.5.0",
      "model_name": "GridBoxModel",
      "state": {
       "children": [
        "IPY_MODEL_257c8c952d6d49399389df7f1577d775",
        "IPY_MODEL_e5068ed2428e4555b00da3ef34aacbed",
        "IPY_MODEL_9c94ece40f044caa83c5acf8c6679f22"
       ],
       "layout": "IPY_MODEL_9b7184cf9e724e1796a64364361bf08e"
      }
     },
     "1fa448b6e3f140f19844b9ccd550ff9b": {
      "model_module": "@jupyter-widgets/base",
      "model_module_version": "1.2.0",
      "model_name": "LayoutModel",
      "state": {}
     },
     "1fb0dff48b6b4873bbdc30245775fb08": {
      "model_module": "@jupyter-widgets/controls",
      "model_module_version": "1.5.0",
      "model_name": "VBoxModel",
      "state": {
       "children": [
        "IPY_MODEL_a26300b8ebf9484aa589bc215649063d",
        "IPY_MODEL_5133249317274eb99e5a4d44aace2698"
       ],
       "layout": "IPY_MODEL_6e63b98ee79641a285ad5ab6bfb07cb1"
      }
     },
     "1fbc6ae630264cac8b6c7dde754e19c9": {
      "model_module": "@jupyter-widgets/base",
      "model_module_version": "1.2.0",
      "model_name": "LayoutModel",
      "state": {}
     },
     "1fc9dd9f0ef44eccae770db16222f881": {
      "model_module": "@jupyter-widgets/controls",
      "model_module_version": "1.5.0",
      "model_name": "VBoxModel",
      "state": {
       "children": [
        "IPY_MODEL_72a804eafbcf406b8d07afa744840cfa",
        "IPY_MODEL_e3c766b6faaf4296926716c78d609495"
       ],
       "layout": "IPY_MODEL_79ea71c2b34f485da747ea3384ffeabe"
      }
     },
     "1fd862f3d2ce4d2dbca7b8a15d4e7d28": {
      "model_module": "@jupyter-widgets/base",
      "model_module_version": "1.2.0",
      "model_name": "LayoutModel",
      "state": {}
     },
     "1fee9daa533e43a9acce73cb461d6bc3": {
      "model_module": "@jupyter-widgets/base",
      "model_module_version": "1.2.0",
      "model_name": "LayoutModel",
      "state": {}
     },
     "1ff9a104fd4b441ebb2277e895eb924f": {
      "model_module": "@jupyter-widgets/controls",
      "model_module_version": "1.5.0",
      "model_name": "ToggleButtonModel",
      "state": {
       "button_style": "danger",
       "description": "Run SimPEG",
       "icon": "check",
       "layout": "IPY_MODEL_18a3314f058e42c29f3b831d9a31e842",
       "style": "IPY_MODEL_be798018490846b19e67af140cfcf765"
      }
     },
     "20412521c2fd46979e1a58da908aaf88": {
      "model_module": "@jupyter-widgets/controls",
      "model_module_version": "1.5.0",
      "model_name": "FloatTextModel",
      "state": {
       "description": "Minimum depth (m)",
       "layout": "IPY_MODEL_b91a38c9682a433a9eca97b04d0dfbcf",
       "step": null,
       "style": "IPY_MODEL_2b98f4f870444ba49ada8cb88181f282",
       "value": 500
      }
     },
     "2045f322bda34213822370ada6b122b4": {
      "model_module": "@jupyter-widgets/base",
      "model_module_version": "1.2.0",
      "model_name": "LayoutModel",
      "state": {}
     },
     "2078b02c1e09489b9d372ac7ed70030e": {
      "model_module": "@jupyter-widgets/controls",
      "model_module_version": "1.5.0",
      "model_name": "ButtonModel",
      "state": {
       "description": "Select",
       "layout": "IPY_MODEL_abde112f0d804646ae5ddfd96c84eaeb",
       "style": "IPY_MODEL_7edc29b7adaa43cb9ab1c79b703bf96c"
      }
     },
     "20b77cd24d15463ea83b9be11df1ce6b": {
      "model_module": "@jupyter-widgets/controls",
      "model_module_version": "1.5.0",
      "model_name": "DescriptionStyleModel",
      "state": {
       "description_width": "initial"
      }
     },
     "20bc0f190dbc46268a2691c873870629": {
      "model_module": "@jupyter-widgets/controls",
      "model_module_version": "1.5.0",
      "model_name": "HBoxModel",
      "state": {
       "children": [
        "IPY_MODEL_dbcd2fe5464241e4a1a4ff71ef107d4a",
        "IPY_MODEL_defc50732d614f90b747e52c8142a845",
        "IPY_MODEL_0bfe2bba1a60474d876c7634afb787cb"
       ],
       "layout": "IPY_MODEL_f73012995dca478f92c2d3522c997332"
      }
     },
     "20f4c0e9206b4f15b8a52f465be045d2": {
      "model_module": "@jupyter-widgets/controls",
      "model_module_version": "1.5.0",
      "model_name": "FloatTextModel",
      "state": {
       "description": "Grid Resolution (m)",
       "layout": "IPY_MODEL_4e108e1be65740c1b96b685e375c0181",
       "step": null,
       "style": "IPY_MODEL_7f5529f2a8ba49b2bc26731bcc4459a1",
       "value": 50
      }
     },
     "20f6c636949d42889907918d0f60c01a": {
      "model_module": "@jupyter-widgets/base",
      "model_module_version": "1.2.0",
      "model_name": "LayoutModel",
      "state": {}
     },
     "21216ccae455489baa9980e9ca3b0a11": {
      "model_module": "@jupyter-widgets/controls",
      "model_module_version": "1.5.0",
      "model_name": "HTMLModel",
      "state": {
       "layout": "IPY_MODEL_578f693a76a2418ebcbe10201d2b6704",
       "style": "IPY_MODEL_22dc4680acd8453c97fc92d82fd5cc54"
      }
     },
     "212b695552b6454b8efe8c5e4e74382b": {
      "model_module": "@jupyter-widgets/controls",
      "model_module_version": "1.5.0",
      "model_name": "GridBoxModel",
      "state": {
       "children": [
        "IPY_MODEL_d3a1541eb7f74a3db161512d1db84224",
        "IPY_MODEL_b19ce37a76e64f1aafbdd7ad8b1c6cad",
        "IPY_MODEL_0fe2ca7297624e798992a2ff0de306d3"
       ],
       "layout": "IPY_MODEL_2ef206d5fe2e48baa7bc3a0864ca7d74"
      }
     },
     "2162e050a32a439383ab787ce72d1f89": {
      "model_module": "@jupyter-widgets/controls",
      "model_module_version": "1.5.0",
      "model_name": "DropdownModel",
      "state": {
       "_options_labels": [
        "C:\\Users\\dominiquef\\Documents\\GIT\\mira\\mirageoscience-apps\\docs\\content\\applications",
        "C:\\Users\\dominiquef\\Documents\\GIT\\mira\\mirageoscience-apps\\docs\\content",
        "C:\\Users\\dominiquef\\Documents\\GIT\\mira\\mirageoscience-apps\\docs",
        "C:\\Users\\dominiquef\\Documents\\GIT\\mira\\mirageoscience-apps",
        "C:\\Users\\dominiquef\\Documents\\GIT\\mira",
        "C:\\Users\\dominiquef\\Documents\\GIT",
        "C:\\Users\\dominiquef\\Documents",
        "C:\\Users\\dominiquef",
        "C:\\Users",
        "C:\\",
        "D:\\",
        "Z:\\"
       ],
       "index": 0,
       "layout": "IPY_MODEL_79bb662809be4fa9863f5755badc4a61",
       "style": "IPY_MODEL_a4280cd0dd9c45a6b23b9788e6cd03c9"
      }
     },
     "21d96f9da2cd40c2882c52e8191c655e": {
      "model_module": "@jupyter-widgets/controls",
      "model_module_version": "1.5.0",
      "model_name": "DescriptionStyleModel",
      "state": {
       "description_width": ""
      }
     },
     "22435789a4624b1496c220da988e2e4c": {
      "model_module": "@jupyter-widgets/controls",
      "model_module_version": "1.5.0",
      "model_name": "DescriptionStyleModel",
      "state": {
       "description_width": ""
      }
     },
     "22bdde9dce2047ff99635f5462232d7d": {
      "model_module": "@jupyter-widgets/controls",
      "model_module_version": "1.5.0",
      "model_name": "RadioButtonsModel",
      "state": {
       "_options_labels": [
        "None",
        "Model",
        "Value"
       ],
       "index": 0,
       "layout": "IPY_MODEL_bea723e7a9124956afd8073899d89724",
       "style": "IPY_MODEL_4c7a60ae0fb74bdeb4658ca0c80fe57c"
      }
     },
     "22dc4680acd8453c97fc92d82fd5cc54": {
      "model_module": "@jupyter-widgets/controls",
      "model_module_version": "1.5.0",
      "model_name": "DescriptionStyleModel",
      "state": {
       "description_width": ""
      }
     },
     "23232cb914af43deaf34edf75aa703ce": {
      "model_module": "@jupyter-widgets/controls",
      "model_module_version": "1.5.0",
      "model_name": "DescriptionStyleModel",
      "state": {
       "description_width": ""
      }
     },
     "235998155d10433198c3f00582011ded": {
      "model_module": "@jupyter-widgets/controls",
      "model_module_version": "1.5.0",
      "model_name": "SliderStyleModel",
      "state": {
       "description_width": "initial"
      }
     },
     "23a55906e3bc41a2ac59be24e4c82f77": {
      "model_module": "@jupyter-widgets/base",
      "model_module_version": "1.2.0",
      "model_name": "LayoutModel",
      "state": {}
     },
     "23cf45c7e65f4d85aa782d98149d3d50": {
      "model_module": "@jupyter-widgets/controls",
      "model_module_version": "1.5.0",
      "model_name": "LabelModel",
      "state": {
       "layout": "IPY_MODEL_875c6f2a05d24943b54241aa46828bf2",
       "style": "IPY_MODEL_c7486569412c42f59de9449f0c0a7015",
       "value": "Workspace"
      }
     },
     "23d4467065544f8b82bae6ebf8087d23": {
      "model_module": "@jupyter-widgets/controls",
      "model_module_version": "1.5.0",
      "model_name": "DescriptionStyleModel",
      "state": {
       "description_width": "initial"
      }
     },
     "23f84ec7e50d42c4b161704b621613f3": {
      "model_module": "@jupyter-widgets/base",
      "model_module_version": "1.2.0",
      "model_name": "LayoutModel",
      "state": {}
     },
     "23fd0ae740bc4cfa8678d838297a46f0": {
      "model_module": "@jupyter-widgets/controls",
      "model_module_version": "1.5.0",
      "model_name": "DescriptionStyleModel",
      "state": {
       "description_width": ""
      }
     },
     "2401335525de480a851b2df377792c23": {
      "model_module": "@jupyter-widgets/base",
      "model_module_version": "1.2.0",
      "model_name": "LayoutModel",
      "state": {
       "display": "none",
       "grid_gap": "0px 0px",
       "grid_template_areas": "\n                    'pathlist filename'\n                    'dircontent dircontent'\n                    ",
       "grid_template_columns": "60% 40%",
       "grid_template_rows": "auto auto",
       "width": "500px"
      }
     },
     "2444742ee37d479fa5619e189ec00661": {
      "model_module": "@jupyter-widgets/controls",
      "model_module_version": "1.5.0",
      "model_name": "CheckboxModel",
      "state": {
       "description": "GA Pro - Live link",
       "disabled": false,
       "indent": false,
       "layout": "IPY_MODEL_08b58a0b962c45149ed1b872049fbd7c",
       "style": "IPY_MODEL_c19dd7ca12ea40659a0df58621eafdc8",
       "value": false
      }
     },
     "2454e989f8cf4e97afe7b3a71ba1b361": {
      "model_module": "@jupyter-widgets/controls",
      "model_module_version": "1.5.0",
      "model_name": "DescriptionStyleModel",
      "state": {
       "description_width": "initial"
      }
     },
     "248afa0048c645679ca33c8b48483bae": {
      "model_module": "@jupyter-widgets/base",
      "model_module_version": "1.2.0",
      "model_name": "LayoutModel",
      "state": {}
     },
     "249d19bec2fd4929b97911baedbdfa90": {
      "model_module": "@jupyter-widgets/base",
      "model_module_version": "1.2.0",
      "model_name": "LayoutModel",
      "state": {}
     },
     "24d9617c41d84e7086182ca341997248": {
      "model_module": "@jupyter-widgets/controls",
      "model_module_version": "1.5.0",
      "model_name": "ToggleButtonModel",
      "state": {
       "layout": "IPY_MODEL_e296b5173e034ab287c81009a0dcab8b",
       "style": "IPY_MODEL_3a93fd4119e24c8288d3528852dce5ee",
       "value": true
      }
     },
     "24ec07588f6146c4bbe97f67e4135658": {
      "model_module": "@jupyter-widgets/controls",
      "model_module_version": "1.5.0",
      "model_name": "VBoxModel",
      "state": {
       "children": [
        "IPY_MODEL_aa66ab5598764c91a7677b6307d498bf",
        "IPY_MODEL_bc5ad98fff184935971772f9e9bbea96"
       ],
       "layout": "IPY_MODEL_20f6c636949d42889907918d0f60c01a"
      }
     },
     "24ee4b5ff1404f63b275e305f06b7c1f": {
      "model_module": "@jupyter-widgets/controls",
      "model_module_version": "1.5.0",
      "model_name": "DescriptionStyleModel",
      "state": {
       "description_width": "initial"
      }
     },
     "25075beb8b704e2fa4a577b8523ab16c": {
      "model_module": "@jupyter-widgets/controls",
      "model_module_version": "1.5.0",
      "model_name": "ButtonStyleModel",
      "state": {}
     },
     "254147e7a449404e96f98791a022c039": {
      "model_module": "@jupyter-widgets/controls",
      "model_module_version": "1.5.0",
      "model_name": "DescriptionStyleModel",
      "state": {
       "description_width": "initial"
      }
     },
     "25563a17a29849bfbc7cc4c6cfa478f2": {
      "model_module": "@jupyter-widgets/controls",
      "model_module_version": "1.5.0",
      "model_name": "FloatTextModel",
      "state": {
       "description": "Minimum depth (m)",
       "layout": "IPY_MODEL_8f8d6dfa59a44199858e8f23dfefd85c",
       "step": null,
       "style": "IPY_MODEL_fa4bf1d256ac4656852c7f5be3856755",
       "value": 500
      }
     },
     "257c8c952d6d49399389df7f1577d775": {
      "model_module": "@jupyter-widgets/controls",
      "model_module_version": "1.5.0",
      "model_name": "DropdownModel",
      "state": {
       "_options_labels": [
        "C:\\Users\\dominiquef\\Documents\\GIT\\mira\\mirageoscience-apps\\docs\\content\\applications",
        "C:\\Users\\dominiquef\\Documents\\GIT\\mira\\mirageoscience-apps\\docs\\content",
        "C:\\Users\\dominiquef\\Documents\\GIT\\mira\\mirageoscience-apps\\docs",
        "C:\\Users\\dominiquef\\Documents\\GIT\\mira\\mirageoscience-apps",
        "C:\\Users\\dominiquef\\Documents\\GIT\\mira",
        "C:\\Users\\dominiquef\\Documents\\GIT",
        "C:\\Users\\dominiquef\\Documents",
        "C:\\Users\\dominiquef",
        "C:\\Users",
        "C:\\",
        "D:\\",
        "Z:\\"
       ],
       "index": 0,
       "layout": "IPY_MODEL_e94bad81d9ee4d118dcf00ad8549a4d6",
       "style": "IPY_MODEL_f35fc35160b0425595467ad6b9c6f69f"
      }
     },
     "25853295a5ac41e68854385f051f1571": {
      "model_module": "@jupyter-widgets/base",
      "model_module_version": "1.2.0",
      "model_name": "LayoutModel",
      "state": {
       "display": "none"
      }
     },
     "25b4e06f7c604ea79036cdea972ee4e4": {
      "model_module": "@jupyter-widgets/controls",
      "model_module_version": "1.5.0",
      "model_name": "DropdownModel",
      "state": {
       "_options_labels": [
        "",
        "Predicted",
        "Mesh",
        "fault_splay1",
        "fault_Cliff_Lake",
        "fault_Other_FlinFlon",
        "fault_Club_Lake_splay",
        "fault_Catherine_splay2",
        "fault_Birch_View",
        "fault_Dion_Lake",
        "fault_FlinFlon_splay",
        "fault_West_Mandy_Road",
        "fault_Channing",
        "fault_Ross_Lake",
        "fault_Louis_Hidden",
        "fault_Lake_View_thrust",
        "contact_Schist_Lake",
        "fault_Burley_Lake",
        "fault_Dion_Lake_splay",
        "fault_Green_Lake",
        "fault_FlinFlon",
        "fault_Catherine_splay1",
        "fault_East_Mandy_Road",
        "fault_Other_FlinFlon_South",
        "fault_Catherine_splay4",
        "contact_Stitt_Island",
        "fault_Club_Lake",
        "fault_Tailing_Pond",
        "35_Hidden_Reservoir_Hr5",
        "29_Hidden_Reservoir_Hr1a",
        "60_BlueLagoon_Fb2",
        "20_FlinFlon_Undivided_Int_Dykes_D2f",
        "04_Boundary_Intrusive_S4h",
        "53_Millrock_Rhyolite_Fm4b",
        "19_FlinFlon_Undivided_Int_Dykes_D2b",
        "18_FlinFlon_Undivided_Int_Dykes_777_D2b",
        "06_Phantom_Lake_Intrusive_S3a",
        "21_FlinFlon_Undivided_Int_Dykes_D3a",
        "43_Millrock_CHLSH_South",
        "56_Millrock_Basalt_Fm1ba",
        "17_FlinFlon_Undivided_Int_Dykes_D2",
        "32_Hidden_Reservoir_Hr1b_SW",
        "11_Missi_M3_NE",
        "13_Missi_M1",
        "07_Annabel_Granitoid_S1",
        "45_Millrock_Gabbro_South",
        "01_Late_Intrusive_S5b",
        "31_Hidden_Reservoir_Hr1c_SW",
        "52_Millrock_Rhyolite_Fm4_West_check",
        "55_Millrock_Basalt_Fm1bf",
        "34_Hidden_Reservoir_Hr2b",
        "03_Boundary_Intrusive_S4b",
        "42_Millrock_CHLSH_North",
        "26_Louis_L3",
        "23_FlinFlon_Undivided_Int_Felsic_D4g",
        "30_Hidden_Reservoir_Hr1b",
        "59_BlueLagoon_Fb3",
        "49_Millrock_MVR_Fm5d",
        "44_Millrock_Gabbro_North",
        "27_Hidden_Carlisle_Hc4",
        "22_FlinFlon_Undivided_Int_Felsic_D4e",
        "02_Boundary_Intrusive_S4a",
        "61_BlueLagoon_Fb1_NW",
        "05_Boundary_Intrusive_S4g",
        "39_Ore_Callinan",
        "38_Ore_Dan_Owens",
        "40_Ore_FlinFlon",
        "Inversion_VTEM_Model",
        "Gravity_Magnetics_drape60m",
        "CDI_VTEM_model",
        "Data_FEM_pseudo3D",
        "O2O_Interp_25m",
        "geochem",
        "Inversion_DIGHEM_Model",
        "Topography",
        "Data_TEM_pseudo3D"
       ],
       "description": "Object",
       "index": 0,
       "layout": "IPY_MODEL_8376b4975d4348e1994f0a89f1e5371a",
       "style": "IPY_MODEL_fde9997309aa4661b69017e8001b52e4"
      }
     },
     "264ec18d24e6410fa56377c3dd93e32a": {
      "model_module": "@jupyter-widgets/base",
      "model_module_version": "1.2.0",
      "model_name": "LayoutModel",
      "state": {}
     },
     "2665f436f84c481eacd0c664d6121c87": {
      "model_module": "@jupyter-widgets/controls",
      "model_module_version": "1.5.0",
      "model_name": "VBoxModel",
      "state": {
       "children": [
        "IPY_MODEL_34908c248f364f03bffd6de7a378eba8",
        "IPY_MODEL_1f3d6138070b44ea95136575f460857a",
        "IPY_MODEL_a42c284ecdc54c9a93f0e51e5f7c63f8"
       ],
       "layout": "IPY_MODEL_7304573235dc4c0a9e7ef6ad0decbab4"
      }
     },
     "26e3ae6196374e7da1a19e4970aa775f": {
      "model_module": "@jupyter-widgets/base",
      "model_module_version": "1.2.0",
      "model_name": "LayoutModel",
      "state": {}
     },
     "26f591f4cbc3481b89027711ea980e50": {
      "model_module": "@jupyter-widgets/controls",
      "model_module_version": "1.5.0",
      "model_name": "VBoxModel",
      "state": {
       "children": [
        "IPY_MODEL_9d82024876d34b56810aae0735fff3d3",
        "IPY_MODEL_62f3f6f1690b4893853e502debf8cbbe"
       ],
       "layout": "IPY_MODEL_1d65097c44364e169f7330beff9c0cd0"
      }
     },
     "276ec0a7df5341d7abfa1e7e0d39e820": {
      "model_module": "@jupyter-widgets/controls",
      "model_module_version": "1.5.0",
      "model_name": "TextModel",
      "state": {
       "layout": "IPY_MODEL_e86d292af26440e7b3dd77197c8a1d07",
       "placeholder": "output filename",
       "style": "IPY_MODEL_309c5bad94e44cec8384b48c0096a28e",
       "value": "FlinFlon.geoh5"
      }
     },
     "2779bb3dd0284410828eca02895b331d": {
      "model_module": "@jupyter-widgets/base",
      "model_module_version": "1.2.0",
      "model_name": "LayoutModel",
      "state": {}
     },
     "27b10f9711a24da6be99b67007dafc10": {
      "model_module": "@jupyter-widgets/controls",
      "model_module_version": "1.5.0",
      "model_name": "ButtonModel",
      "state": {
       "description": "Create copy:",
       "layout": "IPY_MODEL_8f444444ee124adab86029f39657ef10",
       "style": "IPY_MODEL_7f9c7b88009d4c45921559b4a7a128a4"
      }
     },
     "281ac53814dd4561b5c81f6ed098daaa": {
      "model_module": "@jupyter-widgets/controls",
      "model_module_version": "1.5.0",
      "model_name": "ButtonStyleModel",
      "state": {}
     },
     "2834104575574d09a6a2e15de8a4e588": {
      "model_module": "@jupyter-widgets/controls",
      "model_module_version": "1.5.0",
      "model_name": "LabelModel",
      "state": {
       "layout": "IPY_MODEL_a881fe0e21f74adb9623bfc5bf6fd0a3",
       "style": "IPY_MODEL_b8ea771dadf447d9acfe8983b798bc80",
       "value": "Workspace"
      }
     },
     "2882fccec5af418481c49c9f883b7a95": {
      "model_module": "@jupyter-widgets/controls",
      "model_module_version": "1.5.0",
      "model_name": "ToggleButtonModel",
      "state": {
       "button_style": "warning",
       "description": "Write input",
       "icon": "check",
       "layout": "IPY_MODEL_ab22cdd3bc9646d887dd8119af3ce6f5",
       "style": "IPY_MODEL_a8e78f6baa1345af8c7f231cc08a40a8",
       "tooltip": "Write json input file"
      }
     },
     "28cf5823992941ce8fdf47cc41fc7f52": {
      "model_module": "@jupyter-widgets/controls",
      "model_module_version": "1.5.0",
      "model_name": "TextModel",
      "state": {
       "description": "Offsets (x,y,z)",
       "layout": "IPY_MODEL_0bcdc6153e7648a1b1481079a69c109b",
       "style": "IPY_MODEL_509588b882124a3a85ec949dbd4c7e80",
       "value": "0, 0, 0"
      }
     },
     "298ea9624bbe4e88a50510b51fb67c9d": {
      "model_module": "@jupyter-widgets/controls",
      "model_module_version": "1.5.0",
      "model_name": "TextModel",
      "state": {
       "description": "Smallest cells",
       "layout": "IPY_MODEL_357aed17db1b4ef49975aa064a614bf8",
       "style": "IPY_MODEL_d7dbebd79e4c484897787735efb9906f",
       "value": "25, 25, 25"
      }
     },
     "29db7323f8e94342b918f2b1adbd05aa": {
      "model_module": "@jupyter-widgets/controls",
      "model_module_version": "1.5.0",
      "model_name": "GridBoxModel",
      "state": {
       "children": [
        "IPY_MODEL_77875d579b1f4fab8f8d9f1c71ecafe8",
        "IPY_MODEL_a4b360af053f4973bfe305eb97e4b88b",
        "IPY_MODEL_f11cbf70c15e43618e4d213f98774862"
       ],
       "layout": "IPY_MODEL_ab9fe5f43f1844f788b4ab21761a0aab"
      }
     },
     "2a1325128665401aa5ecd23ffe293490": {
      "model_module": "@jupyter-widgets/base",
      "model_module_version": "1.2.0",
      "model_name": "LayoutModel",
      "state": {}
     },
     "2a7d8dc4ed3c43638fb16a2ef22f3adc": {
      "model_module": "@jupyter-widgets/base",
      "model_module_version": "1.2.0",
      "model_name": "LayoutModel",
      "state": {}
     },
     "2acd6c6de6154258a3526d871ad7c3f4": {
      "model_module": "@jupyter-widgets/base",
      "model_module_version": "1.2.0",
      "model_name": "LayoutModel",
      "state": {
       "display": "none",
       "grid_gap": "0px 0px",
       "grid_template_areas": "\n                    'pathlist filename'\n                    'dircontent dircontent'\n                    ",
       "grid_template_columns": "60% 40%",
       "grid_template_rows": "auto auto",
       "width": "500px"
      }
     },
     "2b27ebbc7a2f4a4f9d85da1f7f699907": {
      "model_module": "@jupyter-widgets/controls",
      "model_module_version": "1.5.0",
      "model_name": "IntTextModel",
      "state": {
       "description": "Max CG Iterations",
       "layout": "IPY_MODEL_d8ea15c7102a48c1b245427c993630f7",
       "step": 1,
       "style": "IPY_MODEL_45a80deb9fb447bb982b7929171c73ff",
       "value": 30
      }
     },
     "2b7db5155e5a4416b8cd9349a478b267": {
      "model_module": "@jupyter-widgets/controls",
      "model_module_version": "1.5.0",
      "model_name": "DescriptionStyleModel",
      "state": {
       "description_width": ""
      }
     },
     "2b87ac27d926442288232462a6358c98": {
      "model_module": "@jupyter-widgets/base",
      "model_module_version": "1.2.0",
      "model_name": "LayoutModel",
      "state": {
       "display": "none",
       "grid_area": "filename",
       "width": "auto"
      }
     },
     "2b8e0647528c4ddba4bc296e2ba2624c": {
      "model_module": "@jupyter-widgets/base",
      "model_module_version": "1.2.0",
      "model_name": "LayoutModel",
      "state": {
       "visibility": "hidden"
      }
     },
     "2b98f4f870444ba49ada8cb88181f282": {
      "model_module": "@jupyter-widgets/controls",
      "model_module_version": "1.5.0",
      "model_name": "DescriptionStyleModel",
      "state": {
       "description_width": "initial"
      }
     },
     "2c21582fbce94ee699fe5c51dba4eacb": {
      "model_module": "@jupyter-widgets/base",
      "model_module_version": "1.2.0",
      "model_name": "LayoutModel",
      "state": {
       "visibility": "hidden"
      }
     },
     "2c2538cccd0b4469b7dde7579b548fd2": {
      "model_module": "@jupyter-widgets/controls",
      "model_module_version": "1.5.0",
      "model_name": "ButtonStyleModel",
      "state": {}
     },
     "2c4e48560edd4e0c8a33c36767e8a8ff": {
      "model_module": "@jupyter-widgets/controls",
      "model_module_version": "1.5.0",
      "model_name": "FloatTextModel",
      "state": {
       "description": "SI",
       "layout": "IPY_MODEL_042fd109d258405a9e816999f8bad373",
       "step": null,
       "style": "IPY_MODEL_59d3cf91b0644307b8171e8395c1b38f"
      }
     },
     "2c82cd332966410d9b286681c696bfaf": {
      "model_module": "@jupyter-widgets/controls",
      "model_module_version": "1.5.0",
      "model_name": "FloatTextModel",
      "state": {
       "description": "Target misfit",
       "layout": "IPY_MODEL_bee22fc6c9a2461e8af7801acf7f5559",
       "step": null,
       "style": "IPY_MODEL_fccfcd31c11242f5a056c7349b45b92f",
       "value": 1
      }
     },
     "2c84a37587b44dab9aa62840d293bfdc": {
      "model_module": "@jupyter-widgets/controls",
      "model_module_version": "1.5.0",
      "model_name": "LabelModel",
      "state": {
       "layout": "IPY_MODEL_16ebd8b5700b4a90a27f2c0bbf0bd942",
       "style": "IPY_MODEL_d8c19f973f604fe38d2db1055cea3d43",
       "value": "Monitoring folder"
      }
     },
     "2c961e12c8cb492f8ee692afc45c2544": {
      "model_module": "@jupyter-widgets/controls",
      "model_module_version": "1.5.0",
      "model_name": "VBoxModel",
      "state": {
       "children": [
        "IPY_MODEL_a068f66bcab64c00aaf57608aee1f82e",
        "IPY_MODEL_a751ff4b194a44ce9e50456d57e21d54"
       ],
       "layout": "IPY_MODEL_ae9c920f3d33484388f9daca3495fff1"
      }
     },
     "2ceae78e3aec4dcb9ef051431480a0da": {
      "model_module": "@jupyter-widgets/controls",
      "model_module_version": "1.5.0",
      "model_name": "DescriptionStyleModel",
      "state": {
       "description_width": "initial"
      }
     },
     "2d0b12646541470295eb86f65fcbc463": {
      "model_module": "@jupyter-widgets/controls",
      "model_module_version": "1.5.0",
      "model_name": "DescriptionStyleModel",
      "state": {
       "description_width": ""
      }
     },
     "2d862affe2cc49e9aeeb389b30e27362": {
      "model_module": "@jupyter-widgets/base",
      "model_module_version": "1.2.0",
      "model_name": "LayoutModel",
      "state": {
       "grid_area": "dircontent",
       "width": "auto"
      }
     },
     "2dc74561ba5e45f5811bdb1150b99f10": {
      "model_module": "@jupyter-widgets/controls",
      "model_module_version": "1.5.0",
      "model_name": "DropdownModel",
      "state": {
       "_options_labels": [
        "",
        "--- Channels ---",
        "Airborne_Gxx",
        "Airborne_Gxy",
        "Airborne_Gxz",
        "Airborne_Gyy",
        "Airborne_Gyz",
        "Airborne_Gz",
        "Airborne_Gzz",
        "Airborne_TMI",
        "Ground_Gz",
        "Z"
       ],
       "description": "Channel <=> Data:",
       "index": 11,
       "layout": "IPY_MODEL_f1a0c7af7c7646a8a8c251a76528550b",
       "style": "IPY_MODEL_0019ee763daa468295b18250b2b0496c"
      }
     },
     "2dd6b81f884c4cdf9de4805433db1872": {
      "model_module": "@jupyter-widgets/controls",
      "model_module_version": "1.5.0",
      "model_name": "TextModel",
      "state": {
       "description": "Layers below topo",
       "layout": "IPY_MODEL_78e648e3988d472e9e9701f27db13ff7",
       "style": "IPY_MODEL_535688eed72a4ab4bcfe31286c606c20",
       "value": "0, 0, 0, 2"
      }
     },
     "2de3a691515d47b297a44a99b11c97c1": {
      "model_module": "@jupyter-widgets/controls",
      "model_module_version": "1.5.0",
      "model_name": "DescriptionStyleModel",
      "state": {
       "description_width": ""
      }
     },
     "2e06dfc2caaf4b8e9b4b98b71bcd92fc": {
      "model_module": "@jupyter-widgets/base",
      "model_module_version": "1.2.0",
      "model_name": "LayoutModel",
      "state": {}
     },
     "2e2a91abb35f43b1bba5b6827d817653": {
      "model_module": "@jupyter-widgets/controls",
      "model_module_version": "1.5.0",
      "model_name": "ButtonStyleModel",
      "state": {}
     },
     "2e61d54954814b83acf1c4bf4bbd732b": {
      "model_module": "@jupyter-widgets/controls",
      "model_module_version": "1.5.0",
      "model_name": "DescriptionStyleModel",
      "state": {
       "description_width": ""
      }
     },
     "2e902f7ca276477d89ea898e3b4ce157": {
      "model_module": "@jupyter-widgets/controls",
      "model_module_version": "1.5.0",
      "model_name": "DescriptionStyleModel",
      "state": {
       "description_width": ""
      }
     },
     "2ecbab900bd94579b285d7655ea15c24": {
      "model_module": "@jupyter-widgets/base",
      "model_module_version": "1.2.0",
      "model_name": "LayoutModel",
      "state": {}
     },
     "2ef206d5fe2e48baa7bc3a0864ca7d74": {
      "model_module": "@jupyter-widgets/base",
      "model_module_version": "1.2.0",
      "model_name": "LayoutModel",
      "state": {
       "display": "none",
       "grid_gap": "0px 0px",
       "grid_template_areas": "\n                    'pathlist pathlist'\n                    'dircontent dircontent'\n                    ",
       "grid_template_columns": "60% 40%",
       "grid_template_rows": "auto auto",
       "width": "500px"
      }
     },
     "2f1cc084e6ad4a6da14b25b9201df3a0": {
      "model_module": "@jupyter-widgets/base",
      "model_module_version": "1.2.0",
      "model_name": "LayoutModel",
      "state": {}
     },
     "2faf8e583a384adfa2dbe535769ff0d9": {
      "model_module": "@jupyter-widgets/controls",
      "model_module_version": "1.5.0",
      "model_name": "ButtonStyleModel",
      "state": {}
     },
     "3019038eaea445478d856dc3d5942b7e": {
      "model_module": "@jupyter-widgets/controls",
      "model_module_version": "1.5.0",
      "model_name": "VBoxModel",
      "state": {
       "children": [
        "IPY_MODEL_938994d5f01646949c42cf7bec1da82c",
        "IPY_MODEL_e26c3aaaaf9f462295440da8db90f68f"
       ],
       "layout": "IPY_MODEL_1246aa576bf64485a75446a6240e673c"
      }
     },
     "309c5bad94e44cec8384b48c0096a28e": {
      "model_module": "@jupyter-widgets/controls",
      "model_module_version": "1.5.0",
      "model_name": "DescriptionStyleModel",
      "state": {
       "description_width": ""
      }
     },
     "30aed33df7d2429d8f2b4c9974122e4c": {
      "model_module": "@jupyter-widgets/controls",
      "model_module_version": "1.5.0",
      "model_name": "DescriptionStyleModel",
      "state": {
       "description_width": ""
      }
     },
     "316c1c98fe0e499c85cc9aca78f30c53": {
      "model_module": "@jupyter-widgets/base",
      "model_module_version": "1.2.0",
      "model_name": "LayoutModel",
      "state": {}
     },
     "319b5abedd74421e9893e2cf7cac1626": {
      "model_module": "@jupyter-widgets/controls",
      "model_module_version": "1.5.0",
      "model_name": "VBoxModel",
      "state": {
       "children": [
        "IPY_MODEL_05420349b53e4b65a7d44dfc18790144",
        "IPY_MODEL_b13b95ba678e4181b56f8a6e0377bfa6"
       ],
       "layout": "IPY_MODEL_0a0397f9909d4c88b4b3d59957e92c5d"
      }
     },
     "323a456a8551412cb052ad2618e38103": {
      "model_module": "@jupyter-widgets/controls",
      "model_module_version": "1.5.0",
      "model_name": "ButtonModel",
      "state": {
       "description": "Cancel",
       "layout": "IPY_MODEL_f878e06c01c447509e63fb945a8fc295",
       "style": "IPY_MODEL_b69f546c3e044b9e9a240bfee3f88976"
      }
     },
     "323ec28eb99145cbbd1a9c69fd1e5ba9": {
      "model_module": "@jupyter-widgets/controls",
      "model_module_version": "1.5.0",
      "model_name": "CheckboxModel",
      "state": {
       "description": "Active",
       "disabled": false,
       "layout": "IPY_MODEL_7acf792ce5c64ea0acfabe2ea7edd4ad",
       "style": "IPY_MODEL_b2b178f667f44f86b74fff64b13ad787",
       "value": false
      }
     },
     "324d3aa8bcef4b5c8196d41b0da56dbe": {
      "model_module": "@jupyter-widgets/base",
      "model_module_version": "1.2.0",
      "model_name": "LayoutModel",
      "state": {}
     },
     "32a1a13323934dbd84af7a9e5d527620": {
      "model_module": "@jupyter-widgets/controls",
      "model_module_version": "1.5.0",
      "model_name": "DescriptionStyleModel",
      "state": {
       "description_width": ""
      }
     },
     "32b3f90d3617403d99571572808d0c5b": {
      "model_module": "@jupyter-widgets/controls",
      "model_module_version": "1.5.0",
      "model_name": "SliderStyleModel",
      "state": {
       "description_width": ""
      }
     },
     "334cdbfdacb0462bac48427db77de8b8": {
      "model_module": "@jupyter-widgets/controls",
      "model_module_version": "1.5.0",
      "model_name": "TextModel",
      "state": {
       "description": "Offsets (x,y,z)",
       "layout": "IPY_MODEL_1ddebad88d514bcaafd8808670974455",
       "style": "IPY_MODEL_ea8533c7f10443ddb78c1dda28b1554e",
       "value": "0, 0, 0"
      }
     },
     "336f118cd5da471aa69e15e87e175f45": {
      "model_module": "@jupyter-widgets/controls",
      "model_module_version": "1.5.0",
      "model_name": "DescriptionStyleModel",
      "state": {
       "description_width": ""
      }
     },
     "33fc8eec123d4508808e0a46b94cd15d": {
      "model_module": "@jupyter-widgets/controls",
      "model_module_version": "1.5.0",
      "model_name": "GridBoxModel",
      "state": {
       "children": [
        "IPY_MODEL_aa603d5a4ecb404abe629d64a9829a11",
        "IPY_MODEL_75a6b1d7f6f945dcb8f67808ccd9c421",
        "IPY_MODEL_8ea448d82183426fb1b5e333a815c829"
       ],
       "layout": "IPY_MODEL_4f4e31d0044f4628973c0288da7a8145"
      }
     },
     "341f7647966f4d7c97391414f57762c6": {
      "model_module": "@jupyter-widgets/controls",
      "model_module_version": "1.5.0",
      "model_name": "ButtonStyleModel",
      "state": {}
     },
     "344528a6b92c42528dcf33cadc301dbc": {
      "model_module": "@jupyter-widgets/controls",
      "model_module_version": "1.5.0",
      "model_name": "HBoxModel",
      "state": {
       "children": [
        "IPY_MODEL_0f7ac95b01254f9f9af389caa06097ff",
        "IPY_MODEL_f714d3d0b0aa480197ac8fd386b41b25",
        "IPY_MODEL_ae1061cfbc8f45028f356fa566cd3c0e"
       ],
       "layout": "IPY_MODEL_682787b07962411eb80f4b595f243e44"
      }
     },
     "3464064334b147e19cf5916e25290b7e": {
      "model_module": "@jupyter-widgets/controls",
      "model_module_version": "1.5.0",
      "model_name": "FloatTextModel",
      "state": {
       "description": "SI",
       "layout": "IPY_MODEL_dea3d6cce51644cfaf98f51e4a6aa5ce",
       "step": null,
       "style": "IPY_MODEL_b678bd84b018498395733b3ad20a9e12"
      }
     },
     "34908c248f364f03bffd6de7a378eba8": {
      "model_module": "@jupyter-widgets/controls",
      "model_module_version": "1.5.0",
      "model_name": "HTMLModel",
      "state": {
       "layout": "IPY_MODEL_c2f7b086115c4c408db30f421cff7d1b",
       "style": "IPY_MODEL_3725a5f9715642d0838750a9ed0c6f67"
      }
     },
     "34f6bee24da8492aace9903c2d1134c9": {
      "model_module": "@jupyter-widgets/controls",
      "model_module_version": "1.5.0",
      "model_name": "VBoxModel",
      "state": {
       "children": [
        "IPY_MODEL_3fc1586d2ece41648bb91171359d161f",
        "IPY_MODEL_e752e37f921742e88f825920286738e7"
       ],
       "layout": "IPY_MODEL_8dd0ef7e8baa42caa1124e9b43df5395"
      }
     },
     "350640015a374525bc145351eb7b5310": {
      "model_module": "@jupyter-widgets/controls",
      "model_module_version": "1.5.0",
      "model_name": "LabelModel",
      "state": {
       "layout": "IPY_MODEL_ccb99657e58b4d51b2e59cecb4ad6517",
       "style": "IPY_MODEL_b9816843e3474929956c8b07f361d961",
       "value": "Monitoring folder"
      }
     },
     "350b6ef5ac9a4054b25e78e3dec921a3": {
      "model_module": "@jupyter-widgets/controls",
      "model_module_version": "1.5.0",
      "model_name": "ButtonStyleModel",
      "state": {}
     },
     "357aed17db1b4ef49975aa064a614bf8": {
      "model_module": "@jupyter-widgets/base",
      "model_module_version": "1.2.0",
      "model_name": "LayoutModel",
      "state": {}
     },
     "3596148f22184fbb901b9f466ab72f07": {
      "model_module": "@jupyter-widgets/controls",
      "model_module_version": "1.5.0",
      "model_name": "RadioButtonsModel",
      "state": {
       "_options_labels": [
        "value",
        "ratio"
       ],
       "description": "Starting tradeoff (beta):",
       "index": 1,
       "layout": "IPY_MODEL_b439a6331504469fb94b31cec3ef5cbd",
       "style": "IPY_MODEL_3b58eebaad63406eb907dd763928d04f"
      }
     },
     "3629d79ac7a34a358bb7092b240fd32a": {
      "model_module": "@jupyter-widgets/base",
      "model_module_version": "1.2.0",
      "model_name": "LayoutModel",
      "state": {
       "grid_area": "pathlist",
       "width": "auto"
      }
     },
     "365e8328809746e29a2babe1e554fa88": {
      "model_module": "@jupyter-widgets/base",
      "model_module_version": "1.2.0",
      "model_name": "LayoutModel",
      "state": {
       "grid_area": "dircontent",
       "width": "auto"
      }
     },
     "37086f16e82b4f74944fec08a3f38dae": {
      "model_module": "@jupyter-widgets/controls",
      "model_module_version": "1.5.0",
      "model_name": "HTMLModel",
      "state": {
       "layout": "IPY_MODEL_0a114b18b8ad4a968d534c5694a2904a",
       "style": "IPY_MODEL_595ee69b2f6a40f58fdd7b698d34256d"
      }
     },
     "3725a5f9715642d0838750a9ed0c6f67": {
      "model_module": "@jupyter-widgets/controls",
      "model_module_version": "1.5.0",
      "model_name": "DescriptionStyleModel",
      "state": {
       "description_width": ""
      }
     },
     "373bc95b3b5c45d5b32135a76bcad0a0": {
      "model_module": "@jupyter-widgets/controls",
      "model_module_version": "1.5.0",
      "model_name": "DropdownModel",
      "state": {
       "_options_labels": [
        "",
        "--- Channels ---",
        "Airborne_Gxx",
        "Airborne_Gxy",
        "Airborne_Gxz",
        "Airborne_Gyy",
        "Airborne_Gyz",
        "Airborne_Gz",
        "Airborne_Gzz",
        "Airborne_TMI",
        "Ground_Gz",
        "Z"
       ],
       "description": "Channel <=> Data:",
       "index": 11,
       "layout": "IPY_MODEL_b010b56883314f41a6ab77fcfe7601af",
       "style": "IPY_MODEL_840d60260f214018a07eefa29121b632"
      }
     },
     "3761cc0b57d24bd0a874210f59698296": {
      "model_module": "@jupyter-widgets/controls",
      "model_module_version": "1.5.0",
      "model_name": "FloatSliderModel",
      "state": {
       "continuous_update": false,
       "description": "Northing",
       "layout": "IPY_MODEL_762bd5dde3264b5795968ce1761994d1",
       "max": 6076443.652111261,
       "min": 6065091.787108775,
       "orientation": "vertical",
       "step": 0.1,
       "style": "IPY_MODEL_837c260e832c43edaeb3e2bbe04b50a3",
       "value": 6072200
      }
     },
     "379bd717177e4ded8dba7d37f900fdcb": {
      "model_module": "@jupyter-widgets/controls",
      "model_module_version": "1.5.0",
      "model_name": "DescriptionStyleModel",
      "state": {
       "description_width": "initial"
      }
     },
     "37b22a70408948838fc5c05e101607ad": {
      "model_module": "@jupyter-widgets/controls",
      "model_module_version": "1.5.0",
      "model_name": "VBoxModel",
      "state": {
       "children": [
        "IPY_MODEL_460894cf6f824f548c82d15b93a954d4",
        "IPY_MODEL_7e8a21da6769439fbe2239b6c11b8357"
       ],
       "layout": "IPY_MODEL_5d088262e6ac457d826901d4f59cfe41"
      }
     },
     "381f58874e8640f6a3bccf7c4745a905": {
      "model_module": "@jupyter-widgets/base",
      "model_module_version": "1.2.0",
      "model_name": "LayoutModel",
      "state": {
       "grid_area": "pathlist",
       "width": "auto"
      }
     },
     "38833d5800014e418ef514a97daf5cd2": {
      "model_module": "@jupyter-widgets/controls",
      "model_module_version": "1.5.0",
      "model_name": "ButtonModel",
      "state": {
       "description": "Cancel",
       "layout": "IPY_MODEL_aaa6bbbf92ac40d1940c1444521b415a",
       "style": "IPY_MODEL_281ac53814dd4561b5c81f6ed098daaa"
      }
     },
     "38e319b147194fb5a9e256f0624a0f61": {
      "model_module": "@jupyter-widgets/controls",
      "model_module_version": "1.5.0",
      "model_name": "HTMLModel",
      "state": {
       "layout": "IPY_MODEL_b4dfcae7f59e49d8872d8d23f918b47b",
       "style": "IPY_MODEL_62a326422a7f424ebad3e30da3ad8680"
      }
     },
     "38f7fe8f98bb4f6fb8c702accfa05531": {
      "model_module": "@jupyter-widgets/base",
      "model_module_version": "1.2.0",
      "model_name": "LayoutModel",
      "state": {
       "display": "none",
       "grid_area": "filename",
       "width": "auto"
      }
     },
     "38fb79de4d8043bc876507c17a7e49bd": {
      "model_module": "@jupyter-widgets/controls",
      "model_module_version": "1.5.0",
      "model_name": "DescriptionStyleModel",
      "state": {
       "description_width": ""
      }
     },
     "3922ea3531164606ab68da27541856ad": {
      "model_module": "@jupyter-widgets/controls",
      "model_module_version": "1.5.0",
      "model_name": "DescriptionStyleModel",
      "state": {
       "description_width": "initial"
      }
     },
     "393213f73e324a6498c168df2da167a3": {
      "model_module": "@jupyter-widgets/controls",
      "model_module_version": "1.5.0",
      "model_name": "TextModel",
      "state": {
       "description": "Upper bound value",
       "layout": "IPY_MODEL_e3e3e18ac91a4576bdb9c551e29b5087",
       "style": "IPY_MODEL_12e3ba53d5f0484581b689cd641ed018"
      }
     },
     "399a66f233be436b979ae13d2a4cd0c3": {
      "model_module": "@jupyter-widgets/controls",
      "model_module_version": "1.5.0",
      "model_name": "HBoxModel",
      "state": {
       "children": [
        "IPY_MODEL_ac072f3432aa4df0838d10449e4eb5e3",
        "IPY_MODEL_5aee599ada684af5a8ed121a06c14b1b"
       ],
       "layout": "IPY_MODEL_a5ad4adab6ba41adbfc2aa5d5cbe1d4b"
      }
     },
     "39e573e4a7d547adadb87ea6f19f46f0": {
      "model_module": "@jupyter-widgets/base",
      "model_module_version": "1.2.0",
      "model_name": "LayoutModel",
      "state": {}
     },
     "39f64a0befe043798549273d49a7f7a1": {
      "model_module": "@jupyter-widgets/controls",
      "model_module_version": "1.5.0",
      "model_name": "DropdownModel",
      "state": {
       "_options_labels": [
        "C:\\Users\\dominiquef\\Documents\\GIT\\mira\\mirageoscience-apps\\assets",
        "C:\\Users\\dominiquef\\Documents\\GIT\\mira\\mirageoscience-apps",
        "C:\\Users\\dominiquef\\Documents\\GIT\\mira",
        "C:\\Users\\dominiquef\\Documents\\GIT",
        "C:\\Users\\dominiquef\\Documents",
        "C:\\Users\\dominiquef",
        "C:\\Users",
        "C:\\",
        "D:\\",
        "Z:\\"
       ],
       "index": 0,
       "layout": "IPY_MODEL_65f73c474b614d5ea20de9d9b9d52ae8",
       "style": "IPY_MODEL_ae0982d4f02e45eda63c4770b0d8a891"
      }
     },
     "3a06469d603f40539e7fc79c57d4f503": {
      "model_module": "@jupyter-widgets/controls",
      "model_module_version": "1.5.0",
      "model_name": "VBoxModel",
      "state": {
       "children": [
        "IPY_MODEL_0471aaf5b3c0404dbfca0eac41e282e7",
        "IPY_MODEL_611130603a784d59896b0c22a1389164"
       ],
       "layout": "IPY_MODEL_bef3144c2a5f45b281362d8c18bf989c"
      }
     },
     "3a93fd4119e24c8288d3528852dce5ee": {
      "model_module": "@jupyter-widgets/controls",
      "model_module_version": "1.5.0",
      "model_name": "DescriptionStyleModel",
      "state": {
       "description_width": ""
      }
     },
     "3aad4c524cb14a5d8d544cbc9f4e91d6": {
      "model_module": "@jupyter-widgets/base",
      "model_module_version": "1.2.0",
      "model_name": "LayoutModel",
      "state": {
       "visibility": "hidden"
      }
     },
     "3b4f1e66fd3446c384691d71ceddb4fb": {
      "model_module": "@jupyter-widgets/controls",
      "model_module_version": "1.5.0",
      "model_name": "VBoxModel",
      "state": {
       "children": [
        "IPY_MODEL_ead57fc691e0416ab2795bdc6ed7763c",
        "IPY_MODEL_105b446b23c54786b251f46d97a83c4a"
       ],
       "layout": "IPY_MODEL_fbf1b8c0e6094fd1a8cb8b4a00823906"
      }
     },
     "3b58eebaad63406eb907dd763928d04f": {
      "model_module": "@jupyter-widgets/controls",
      "model_module_version": "1.5.0",
      "model_name": "DescriptionStyleModel",
      "state": {
       "description_width": ""
      }
     },
     "3b8494d41a22483a83ffd13d5e95deb7": {
      "model_module": "@jupyter-widgets/base",
      "model_module_version": "1.2.0",
      "model_name": "LayoutModel",
      "state": {
       "align_items": "center"
      }
     },
     "3bdc30c07b7443de8e939ac9f8448d28": {
      "model_module": "@jupyter-widgets/controls",
      "model_module_version": "1.5.0",
      "model_name": "DescriptionStyleModel",
      "state": {
       "description_width": ""
      }
     },
     "3bf4cb7b6acc49f19777271fc72aabfc": {
      "model_module": "@jupyter-widgets/base",
      "model_module_version": "1.2.0",
      "model_name": "LayoutModel",
      "state": {}
     },
     "3c41d9bf652740aea9a7797a222d042e": {
      "model_module": "@jupyter-widgets/controls",
      "model_module_version": "1.5.0",
      "model_name": "FloatTextModel",
      "state": {
       "description": "CG Tolerance",
       "layout": "IPY_MODEL_3cfddc21a9404e859d78115840e0bacb",
       "step": null,
       "style": "IPY_MODEL_3bdc30c07b7443de8e939ac9f8448d28",
       "value": 0.001
      }
     },
     "3c6bfc353b0b46b88c1f4d0318bc9299": {
      "model_module": "@jupyter-widgets/controls",
      "model_module_version": "1.5.0",
      "model_name": "ButtonModel",
      "state": {
       "description": "Select",
       "layout": "IPY_MODEL_a6cdb2c37c3b463d85f58cb30a703bca",
       "style": "IPY_MODEL_7e0eb8c345b847eabfa6a6d78312edf7"
      }
     },
     "3c9bf76a77984987aedf34ae796d7d3d": {
      "model_module": "@jupyter-widgets/controls",
      "model_module_version": "1.5.0",
      "model_name": "DescriptionStyleModel",
      "state": {
       "description_width": "initial"
      }
     },
     "3cfddc21a9404e859d78115840e0bacb": {
      "model_module": "@jupyter-widgets/base",
      "model_module_version": "1.2.0",
      "model_name": "LayoutModel",
      "state": {}
     },
     "3d5b3e9509944aae95d7cdcabac94e74": {
      "model_module": "@jupyter-widgets/controls",
      "model_module_version": "1.5.0",
      "model_name": "DescriptionStyleModel",
      "state": {
       "description_width": "initial"
      }
     },
     "3d66c6bfbb4947a5a287503684ff77e1": {
      "model_module": "@jupyter-widgets/base",
      "model_module_version": "1.2.0",
      "model_name": "LayoutModel",
      "state": {
       "width": "auto"
      }
     },
     "3d78c67d82e8497f8f51f216c2162cb8": {
      "model_module": "@jupyter-widgets/controls",
      "model_module_version": "1.5.0",
      "model_name": "LabelModel",
      "state": {
       "layout": "IPY_MODEL_6a64357a15ca48fa84ad8c5659d7eb7d",
       "style": "IPY_MODEL_5febe31047ce48f288687b5bc868b205",
       "value": "Topo, Sensor and Line Location Options"
      }
     },
     "3daa2e8349064a2d9f99ad02309f8707": {
      "model_module": "@jupyter-widgets/controls",
      "model_module_version": "1.5.0",
      "model_name": "DescriptionStyleModel",
      "state": {
       "description_width": ""
      }
     },
     "3de61e37e81d4603ac9ac3a2c5cf1579": {
      "model_module": "@jupyter-widgets/controls",
      "model_module_version": "1.5.0",
      "model_name": "DescriptionStyleModel",
      "state": {
       "description_width": "initial"
      }
     },
     "3e029c28e2e54922aff478a208775781": {
      "model_module": "@jupyter-widgets/controls",
      "model_module_version": "1.5.0",
      "model_name": "VBoxModel",
      "state": {
       "children": [
        "IPY_MODEL_476a0b515a324e1c959c54c463107c11",
        "IPY_MODEL_823d941d992a4780aef47724d1f19b72"
       ],
       "layout": "IPY_MODEL_0ae0a03fa24f42d684b6091a6bba42c1"
      }
     },
     "3e3e746a05874e33b428f40609b7b6e5": {
      "model_module": "@jupyter-widgets/base",
      "model_module_version": "1.2.0",
      "model_name": "LayoutModel",
      "state": {}
     },
     "3e4cb3c75a05406386a0e44e5592396d": {
      "model_module": "@jupyter-widgets/controls",
      "model_module_version": "1.5.0",
      "model_name": "DescriptionStyleModel",
      "state": {
       "description_width": ""
      }
     },
     "3e64fcbf34034c68be7333142132e79e": {
      "model_module": "@jupyter-widgets/controls",
      "model_module_version": "1.5.0",
      "model_name": "TextModel",
      "state": {
       "disabled": true,
       "layout": "IPY_MODEL_00594c32ff4e498f96ea188a03174771",
       "placeholder": "output filename",
       "style": "IPY_MODEL_e526ee62ef374d3b9d4591e39a4943af"
      }
     },
     "3e6ac5fef63b419cbee52ff22248597b": {
      "model_module": "@jupyter-widgets/controls",
      "model_module_version": "1.5.0",
      "model_name": "VBoxModel",
      "state": {
       "children": [
        "IPY_MODEL_d2d7f03cc0454feca782c71fd265e829",
        "IPY_MODEL_de31400c75694d80a48b95f0fda98835"
       ],
       "layout": "IPY_MODEL_56b79c17d8ed4bcda175a6606bec4f3f"
      }
     },
     "3e89f5115eb949f782244674d72da711": {
      "model_module": "@jupyter-widgets/base",
      "model_module_version": "1.2.0",
      "model_name": "LayoutModel",
      "state": {}
     },
     "3eaf7e749caa4741952c66fdad1e07e6": {
      "model_module": "@jupyter-widgets/controls",
      "model_module_version": "1.5.0",
      "model_name": "DescriptionStyleModel",
      "state": {
       "description_width": ""
      }
     },
     "3eec311798a948aebdfa02a2ad803a84": {
      "model_module": "@jupyter-widgets/base",
      "model_module_version": "1.2.0",
      "model_name": "LayoutModel",
      "state": {}
     },
     "3f23a967924945548d6623a9d7ea6ed3": {
      "model_module": "@jupyter-widgets/controls",
      "model_module_version": "1.5.0",
      "model_name": "ButtonModel",
      "state": {
       "description": "Cancel",
       "layout": "IPY_MODEL_03f22dba4e5c41bc8c7591a775916bac",
       "style": "IPY_MODEL_2faf8e583a384adfa2dbe535769ff0d9"
      }
     },
     "3f5a12f417a74ade88e3ea51299c5284": {
      "model_module": "@jupyter-widgets/base",
      "model_module_version": "1.2.0",
      "model_name": "LayoutModel",
      "state": {}
     },
     "3f5d5214ee4a40fbbe70ba4b0154e38b": {
      "model_module": "@jupyter-widgets/base",
      "model_module_version": "1.2.0",
      "model_name": "LayoutModel",
      "state": {}
     },
     "3f6116318bf64f5082b6d9554ce2faf5": {
      "model_module": "@jupyter-widgets/controls",
      "model_module_version": "1.5.0",
      "model_name": "TextModel",
      "state": {
       "disabled": true,
       "layout": "IPY_MODEL_38f7fe8f98bb4f6fb8c702accfa05531",
       "placeholder": "output filename",
       "style": "IPY_MODEL_e085dd4a61b4425cbb41dca51e368b2c"
      }
     },
     "3f803806df0a423fb335b7081c1bd3de": {
      "model_module": "@jupyter-widgets/base",
      "model_module_version": "1.2.0",
      "model_name": "LayoutModel",
      "state": {}
     },
     "3fa18cf307f3414596a55dca65e7314b": {
      "model_module": "@jupyter-widgets/controls",
      "model_module_version": "1.5.0",
      "model_name": "DescriptionStyleModel",
      "state": {
       "description_width": ""
      }
     },
     "3fc1586d2ece41648bb91171359d161f": {
      "model_module": "@jupyter-widgets/controls",
      "model_module_version": "1.5.0",
      "model_name": "RadioButtonsModel",
      "state": {
       "_options_labels": [
        "Object",
        "Relative to Sensor",
        "Constant"
       ],
       "description": "Define by:",
       "index": 0,
       "layout": "IPY_MODEL_57c9f4d63a2043b997106440cd0e280f",
       "style": "IPY_MODEL_16a2d97c46bb428cba5ab905d2ef5f69"
      }
     },
     "3fd50f690eee474294e4cdff30179994": {
      "model_module": "@jupyter-widgets/controls",
      "model_module_version": "1.5.0",
      "model_name": "DescriptionStyleModel",
      "state": {
       "description_width": ""
      }
     },
     "40066bb986a54808a319db86f898c4aa": {
      "model_module": "@jupyter-widgets/controls",
      "model_module_version": "1.5.0",
      "model_name": "VBoxModel",
      "state": {
       "children": [
        "IPY_MODEL_acc091d15fd64c1da86195a4447d709e",
        "IPY_MODEL_2c4e48560edd4e0c8a33c36767e8a8ff"
       ],
       "layout": "IPY_MODEL_5ea397c476dd45c293a3f67056234f41"
      }
     },
     "40350ac5ed594e49bb1fa4f958215200": {
      "model_module": "@jupyter-widgets/controls",
      "model_module_version": "1.5.0",
      "model_name": "ButtonStyleModel",
      "state": {}
     },
     "403722876fc342ce92d4f6971a3eae69": {
      "model_module": "@jupyter-widgets/base",
      "model_module_version": "1.2.0",
      "model_name": "LayoutModel",
      "state": {}
     },
     "4049ffc73e034c31a6bc511e672bd689": {
      "model_module": "@jupyter-widgets/controls",
      "model_module_version": "1.5.0",
      "model_name": "ButtonStyleModel",
      "state": {}
     },
     "40d26091f6344a079853329502f267fa": {
      "model_module": "@jupyter-widgets/base",
      "model_module_version": "1.2.0",
      "model_name": "LayoutModel",
      "state": {
       "grid_area": "pathlist",
       "width": "auto"
      }
     },
     "40eae5a2050e4161b9ec07b97626708a": {
      "model_module": "@jupyter-widgets/controls",
      "model_module_version": "1.5.0",
      "model_name": "ToggleButtonModel",
      "state": {
       "layout": "IPY_MODEL_4da6fa0c6c53463fb9c3e40582e524b5",
       "style": "IPY_MODEL_0176f9f26b3c4c68a4681b35f892931e",
       "value": true
      }
     },
     "4129fb9f989c45d088309ea56b9263c1": {
      "model_module": "@jupyter-widgets/controls",
      "model_module_version": "1.5.0",
      "model_name": "SelectModel",
      "state": {
       "_options_labels": [
        "..",
        "images"
       ],
       "index": null,
       "layout": "IPY_MODEL_bbdb206239204221954a1f241e38630a",
       "rows": 8,
       "style": "IPY_MODEL_44af636a3c764190a51e5662ae62b7d9"
      }
     },
     "417107181f4843d4895a17d53e1d86f0": {
      "model_module": "@jupyter-widgets/controls",
      "model_module_version": "1.5.0",
      "model_name": "TextModel",
      "state": {
       "continuous_update": false,
       "description": "Group:",
       "layout": "IPY_MODEL_d7da06d0611e44098223a958fe12e06d",
       "style": "IPY_MODEL_7d943f22b3fb48f9928680bca687f657"
      }
     },
     "41761ee83c9c448096d67161bad15b70": {
      "model_module": "@jupyter-widgets/controls",
      "model_module_version": "1.5.0",
      "model_name": "VBoxModel",
      "state": {
       "children": [
        "IPY_MODEL_6ddb8b4623c04b948807632b3bd77bcc",
        "IPY_MODEL_d74d0000256148bab743562522cfd8c8",
        "IPY_MODEL_5773eecc0f134b8f955deabccab59e5b"
       ],
       "layout": "IPY_MODEL_5be1ff5c8fc24b41918bca461e6cf642"
      }
     },
     "4188a530ecbe464eba2b02c2d0df2a52": {
      "model_module": "@jupyter-widgets/controls",
      "model_module_version": "1.5.0",
      "model_name": "DescriptionStyleModel",
      "state": {
       "description_width": ""
      }
     },
     "4192e3f7cbee4ecf8892fd4b59e2b9f1": {
      "model_module": "@jupyter-widgets/base",
      "model_module_version": "1.2.0",
      "model_name": "LayoutModel",
      "state": {}
     },
     "41a79da890644063876447c3969063e0": {
      "model_module": "@jupyter-widgets/base",
      "model_module_version": "1.2.0",
      "model_name": "LayoutModel",
      "state": {}
     },
     "41febee25b3d4255a58c972a4a9b9c4f": {
      "model_module": "@jupyter-widgets/base",
      "model_module_version": "1.2.0",
      "model_name": "LayoutModel",
      "state": {
       "visibility": "hidden"
      }
     },
     "4250c502ee3a4c7ea80c29c41c78194d": {
      "model_module": "@jupyter-widgets/controls",
      "model_module_version": "1.5.0",
      "model_name": "DescriptionStyleModel",
      "state": {
       "description_width": ""
      }
     },
     "42682d4bebac49f2a372658495f43502": {
      "model_module": "@jupyter-widgets/controls",
      "model_module_version": "1.5.0",
      "model_name": "DescriptionStyleModel",
      "state": {
       "description_width": ""
      }
     },
     "42b792dd02e84e48bb389bbdbe10c27c": {
      "model_module": "@jupyter-widgets/base",
      "model_module_version": "1.2.0",
      "model_name": "LayoutModel",
      "state": {}
     },
     "42cc5c0924c0421d98907d8ddcf79399": {
      "model_module": "@jupyter-widgets/controls",
      "model_module_version": "1.5.0",
      "model_name": "CheckboxModel",
      "state": {
       "description": "Active",
       "disabled": false,
       "layout": "IPY_MODEL_f88220b3e8524a49b11e73d31908f9b3",
       "style": "IPY_MODEL_0c33df85a6824bc8bb6dd2c23b2ca543",
       "value": true
      }
     },
     "42e7e70ffed04b07b3f87987d1d03f31": {
      "model_module": "@jupyter-widgets/controls",
      "model_module_version": "1.5.0",
      "model_name": "HTMLModel",
      "state": {
       "layout": "IPY_MODEL_483cee3fad304d838178308525f73074",
       "style": "IPY_MODEL_da0875af8036442ba5a0da6852519b96"
      }
     },
     "43233000e4984c8a88a595d78cf4e523": {
      "model_module": "@jupyter-widgets/controls",
      "model_module_version": "1.5.0",
      "model_name": "VBoxModel",
      "state": {
       "children": [
        "IPY_MODEL_bdf83b5f34f44075be6d1774ed5bba37",
        "IPY_MODEL_06bda8c1ae004dea8fdcd0612375589f"
       ],
       "layout": "IPY_MODEL_1fee9daa533e43a9acce73cb461d6bc3"
      }
     },
     "433698542f714b95a366b518036cacc4": {
      "model_module": "@jupyter-widgets/base",
      "model_module_version": "1.2.0",
      "model_name": "LayoutModel",
      "state": {}
     },
     "437c86f67fa640fbb880d9a3b8b82dee": {
      "model_module": "@jupyter-widgets/controls",
      "model_module_version": "1.5.0",
      "model_name": "VBoxModel",
      "state": {
       "children": [
        "IPY_MODEL_cb9f22409170488791d61a1c73762036",
        "IPY_MODEL_48dea3f90d134b978cfc5927e30eaae2"
       ],
       "layout": "IPY_MODEL_2045f322bda34213822370ada6b122b4"
      }
     },
     "43e1162a45004e6993e28a440d748e53": {
      "model_module": "@jupyter-widgets/base",
      "model_module_version": "1.2.0",
      "model_name": "LayoutModel",
      "state": {}
     },
     "443fdf2c10c144c78656d6dbccfb4b9d": {
      "model_module": "@jupyter-widgets/controls",
      "model_module_version": "1.5.0",
      "model_name": "TextModel",
      "state": {
       "description": "Error (%, floor)",
       "layout": "IPY_MODEL_edf029c658604632b0f67a524ebf92dd",
       "style": "IPY_MODEL_463633ad8d1a4a7fa67756c35a70a291",
       "value": "0, 1"
      }
     },
     "444cd9cce4fa4373a193cf3a10de9ea0": {
      "model_module": "@jupyter-widgets/controls",
      "model_module_version": "1.5.0",
      "model_name": "VBoxModel",
      "state": {
       "children": [
        "IPY_MODEL_873ffcee221e48bc921d2207d7e5416a",
        "IPY_MODEL_c66ae33397bd48f3ac215c1789a6f7d1",
        "IPY_MODEL_b6b5b92a970a4b359b0b8634b4cdf14e",
        "IPY_MODEL_17155450c28e4d4ea569ac0819f1de46",
        "IPY_MODEL_83ab5c1be1084871ad14abcab9b65df8"
       ],
       "layout": "IPY_MODEL_cbf49443a02f48dca3279283604632da"
      }
     },
     "447c1f0642044831b4385d27a6dd2e95": {
      "model_module": "@jupyter-widgets/controls",
      "model_module_version": "1.5.0",
      "model_name": "DescriptionStyleModel",
      "state": {
       "description_width": ""
      }
     },
     "4496ee0a67894237a7894132baa1cc96": {
      "model_module": "@jupyter-widgets/controls",
      "model_module_version": "1.5.0",
      "model_name": "ToggleButtonModel",
      "state": {
       "layout": "IPY_MODEL_d3392b81de744468b1eb96d8ab2de91d",
       "style": "IPY_MODEL_5b245f18475d48cd9663041d90787609",
       "value": true
      }
     },
     "44af636a3c764190a51e5662ae62b7d9": {
      "model_module": "@jupyter-widgets/controls",
      "model_module_version": "1.5.0",
      "model_name": "DescriptionStyleModel",
      "state": {
       "description_width": ""
      }
     },
     "44e4abc523604062b5737c708407c112": {
      "model_module": "@jupyter-widgets/controls",
      "model_module_version": "1.5.0",
      "model_name": "DescriptionStyleModel",
      "state": {
       "description_width": ""
      }
     },
     "451784522c2647efa400cb5f5b8778af": {
      "model_module": "@jupyter-widgets/controls",
      "model_module_version": "1.5.0",
      "model_name": "ButtonStyleModel",
      "state": {}
     },
     "451bd70c9c0449dd8743fff3e1e189a6": {
      "model_module": "@jupyter-widgets/base",
      "model_module_version": "1.2.0",
      "model_name": "LayoutModel",
      "state": {
       "display": "none",
       "width": "auto"
      }
     },
     "451c586ff82b4cd992b3a45f9a2ba34f": {
      "model_module": "@jupyter-widgets/controls",
      "model_module_version": "1.5.0",
      "model_name": "VBoxModel",
      "state": {
       "children": [
        "IPY_MODEL_323ec28eb99145cbbd1a9c69fd1e5ba9",
        "IPY_MODEL_74a2aa72c6284f198eda68556d68c58c",
        "IPY_MODEL_f3d928df2fc04e09846aef4f032911ff",
        "IPY_MODEL_443fdf2c10c144c78656d6dbccfb4b9d",
        "IPY_MODEL_28cf5823992941ce8fdf47cc41fc7f52"
       ],
       "layout": "IPY_MODEL_b7020b94c5124ae5916719b5cbece098"
      }
     },
     "45a80deb9fb447bb982b7929171c73ff": {
      "model_module": "@jupyter-widgets/controls",
      "model_module_version": "1.5.0",
      "model_name": "DescriptionStyleModel",
      "state": {
       "description_width": ""
      }
     },
     "45d6925ad945432c9c4b90aa85c54bf9": {
      "model_module": "@jupyter-widgets/controls",
      "model_module_version": "1.5.0",
      "model_name": "DescriptionStyleModel",
      "state": {
       "description_width": ""
      }
     },
     "45df9d6b47424a458e58bfc67cb0f324": {
      "model_module": "@jupyter-widgets/base",
      "model_module_version": "1.2.0",
      "model_name": "LayoutModel",
      "state": {}
     },
     "460894cf6f824f548c82d15b93a954d4": {
      "model_module": "@jupyter-widgets/controls",
      "model_module_version": "1.5.0",
      "model_name": "ButtonModel",
      "state": {
       "button_style": "danger",
       "description": "Compute",
       "icon": "check",
       "layout": "IPY_MODEL_1dc1b764a16e4830b8bcabb19891f615",
       "style": "IPY_MODEL_055dced6804f480eb520c446a68c96b8",
       "tooltip": "Run computation"
      }
     },
     "463633ad8d1a4a7fa67756c35a70a291": {
      "model_module": "@jupyter-widgets/controls",
      "model_module_version": "1.5.0",
      "model_name": "DescriptionStyleModel",
      "state": {
       "description_width": "initial"
      }
     },
     "46659ccc2fa1481e9e9a384bdc0796c7": {
      "model_module": "@jupyter-widgets/controls",
      "model_module_version": "1.5.0",
      "model_name": "DescriptionStyleModel",
      "state": {
       "description_width": ""
      }
     },
     "4679ba89c8054c3694446400ef316188": {
      "model_module": "@jupyter-widgets/base",
      "model_module_version": "1.2.0",
      "model_name": "LayoutModel",
      "state": {
       "width": "auto"
      }
     },
     "46d8e57d1768413e952760774c73e785": {
      "model_module": "@jupyter-widgets/controls",
      "model_module_version": "1.5.0",
      "model_name": "SelectModel",
      "state": {
       "_options_labels": [
        "..",
        "images",
        "Untitled.ipynb",
        "base_application.ipynb",
        "calculator.ipynb",
        "contouring.ipynb",
        "coordinate_transformation.ipynb",
        "create_surface.ipynb",
        "data_interpolation.ipynb",
        "edge_detection.ipynb",
        "export.ipynb",
        "geophysical_inversion.ipynb",
        "object_data_selection.ipynb",
        "scatter.ipynb",
        "view_selection.ipynb"
       ],
       "index": null,
       "layout": "IPY_MODEL_80344520dfa24b6593c40eb49039c4a6",
       "rows": 8,
       "style": "IPY_MODEL_4b8f48ace12a4ec699f1f91a9a0cd887"
      }
     },
     "46e73bc430dd4e318cb7f3b1912b7b3c": {
      "model_module": "@jupyter-widgets/controls",
      "model_module_version": "1.5.0",
      "model_name": "DescriptionStyleModel",
      "state": {
       "description_width": ""
      }
     },
     "47633bdb0e084049af869bb4eaacee39": {
      "model_module": "@jupyter-widgets/controls",
      "model_module_version": "1.5.0",
      "model_name": "ButtonStyleModel",
      "state": {}
     },
     "4769a005382c421b9bc29e42316a29bf": {
      "model_module": "@jupyter-widgets/controls",
      "model_module_version": "1.5.0",
      "model_name": "HBoxModel",
      "state": {
       "children": [
        "IPY_MODEL_d535791b27ed4a0986e923d1ce8db418",
        "IPY_MODEL_38833d5800014e418ef514a97daf5cd2",
        "IPY_MODEL_b7c9fe97045a4f1fbfdee4ff894f933e"
       ],
       "layout": "IPY_MODEL_7cd9e35c5d70413e8ac6fca129647be4"
      }
     },
     "476a0b515a324e1c959c54c463107c11": {
      "model_module": "@jupyter-widgets/controls",
      "model_module_version": "1.5.0",
      "model_name": "DropdownModel",
      "state": {
       "_options_labels": [
        "",
        "Predicted",
        "Mesh",
        "fault_splay1",
        "fault_Cliff_Lake",
        "fault_Other_FlinFlon",
        "fault_Club_Lake_splay",
        "fault_Catherine_splay2",
        "fault_Birch_View",
        "fault_Dion_Lake",
        "fault_FlinFlon_splay",
        "fault_West_Mandy_Road",
        "fault_Channing",
        "fault_Ross_Lake",
        "fault_Louis_Hidden",
        "fault_Lake_View_thrust",
        "contact_Schist_Lake",
        "fault_Burley_Lake",
        "fault_Dion_Lake_splay",
        "fault_Green_Lake",
        "fault_FlinFlon",
        "fault_Catherine_splay1",
        "fault_East_Mandy_Road",
        "fault_Other_FlinFlon_South",
        "fault_Catherine_splay4",
        "contact_Stitt_Island",
        "fault_Club_Lake",
        "fault_Tailing_Pond",
        "35_Hidden_Reservoir_Hr5",
        "29_Hidden_Reservoir_Hr1a",
        "60_BlueLagoon_Fb2",
        "20_FlinFlon_Undivided_Int_Dykes_D2f",
        "04_Boundary_Intrusive_S4h",
        "53_Millrock_Rhyolite_Fm4b",
        "19_FlinFlon_Undivided_Int_Dykes_D2b",
        "18_FlinFlon_Undivided_Int_Dykes_777_D2b",
        "06_Phantom_Lake_Intrusive_S3a",
        "21_FlinFlon_Undivided_Int_Dykes_D3a",
        "43_Millrock_CHLSH_South",
        "56_Millrock_Basalt_Fm1ba",
        "17_FlinFlon_Undivided_Int_Dykes_D2",
        "32_Hidden_Reservoir_Hr1b_SW",
        "11_Missi_M3_NE",
        "13_Missi_M1",
        "07_Annabel_Granitoid_S1",
        "45_Millrock_Gabbro_South",
        "01_Late_Intrusive_S5b",
        "31_Hidden_Reservoir_Hr1c_SW",
        "52_Millrock_Rhyolite_Fm4_West_check",
        "55_Millrock_Basalt_Fm1bf",
        "34_Hidden_Reservoir_Hr2b",
        "03_Boundary_Intrusive_S4b",
        "42_Millrock_CHLSH_North",
        "26_Louis_L3",
        "23_FlinFlon_Undivided_Int_Felsic_D4g",
        "30_Hidden_Reservoir_Hr1b",
        "59_BlueLagoon_Fb3",
        "49_Millrock_MVR_Fm5d",
        "44_Millrock_Gabbro_North",
        "27_Hidden_Carlisle_Hc4",
        "22_FlinFlon_Undivided_Int_Felsic_D4e",
        "02_Boundary_Intrusive_S4a",
        "61_BlueLagoon_Fb1_NW",
        "05_Boundary_Intrusive_S4g",
        "39_Ore_Callinan",
        "38_Ore_Dan_Owens",
        "40_Ore_FlinFlon",
        "Inversion_VTEM_Model",
        "Gravity_Magnetics_drape60m",
        "CDI_VTEM_model",
        "Data_FEM_pseudo3D",
        "O2O_Interp_25m",
        "geochem",
        "Inversion_DIGHEM_Model",
        "Topography",
        "Data_TEM_pseudo3D"
       ],
       "description": "Object:",
       "index": 0,
       "layout": "IPY_MODEL_0291b722117f4fa1b2eaba5de1cd6eb9",
       "style": "IPY_MODEL_558a27487b8f4a8cad662748c2f247e0"
      }
     },
     "47da10db0345421a8d14294cfa1554c8": {
      "model_module": "@jupyter-widgets/controls",
      "model_module_version": "1.5.0",
      "model_name": "DescriptionStyleModel",
      "state": {
       "description_width": ""
      }
     },
     "481d604ce9584130bd2be8ae1700e1c1": {
      "model_module": "@jupyter-widgets/base",
      "model_module_version": "1.2.0",
      "model_name": "LayoutModel",
      "state": {
       "width": "auto"
      }
     },
     "483cee3fad304d838178308525f73074": {
      "model_module": "@jupyter-widgets/base",
      "model_module_version": "1.2.0",
      "model_name": "LayoutModel",
      "state": {
       "display": "none"
      }
     },
     "4843fedd64b64c0aad0d961cc2e679f6": {
      "model_module": "@jupyter-widgets/controls",
      "model_module_version": "1.5.0",
      "model_name": "DescriptionStyleModel",
      "state": {
       "description_width": ""
      }
     },
     "48dea3f90d134b978cfc5927e30eaae2": {
      "model_module": "@jupyter-widgets/controls",
      "model_module_version": "1.5.0",
      "model_name": "VBoxModel",
      "state": {
       "children": [
        "IPY_MODEL_c2db413f61c84c8cafb64bbef13ed505",
        "IPY_MODEL_ad03e23f15a040619a1b2a5a19bae5e5"
       ],
       "layout": "IPY_MODEL_cd720ea414ec4d2095d20233f63e23ca"
      }
     },
     "4905750e55a7461b96cd06b783f53895": {
      "model_module": "@jupyter-widgets/controls",
      "model_module_version": "1.5.0",
      "model_name": "ButtonModel",
      "state": {
       "description": "Cancel",
       "layout": "IPY_MODEL_451bd70c9c0449dd8743fff3e1e189a6",
       "style": "IPY_MODEL_7aeec61292564022a11e84f7475d377f"
      }
     },
     "4906dbb6c3914c25a759c6a2a19fcb8e": {
      "model_module": "@jupyter-widgets/controls",
      "model_module_version": "1.5.0",
      "model_name": "VBoxModel",
      "state": {
       "children": [
        "IPY_MODEL_5b734c3528c64a6d9e82e16d856bc328",
        "IPY_MODEL_fc4d47c6f7c446c48a8b4bd3342c6441"
       ],
       "layout": "IPY_MODEL_ea4da566d8754a8a87bf02eea4f18a0c"
      }
     },
     "490a5a64134e4e2c9e3b6fd80430c5aa": {
      "model_module": "@jupyter-widgets/base",
      "model_module_version": "1.2.0",
      "model_name": "LayoutModel",
      "state": {
       "grid_area": "filename",
       "width": "auto"
      }
     },
     "499f4212c9d8442fa571d679e7f2d0d7": {
      "model_module": "@jupyter-widgets/controls",
      "model_module_version": "1.5.0",
      "model_name": "DescriptionStyleModel",
      "state": {
       "description_width": ""
      }
     },
     "49a53307b3b14dae91e040e65247cb71": {
      "model_module": "@jupyter-widgets/base",
      "model_module_version": "1.2.0",
      "model_name": "LayoutModel",
      "state": {
       "width": "auto"
      }
     },
     "49c098b6ebee49fab986e9bd85861b0a": {
      "model_module": "@jupyter-widgets/controls",
      "model_module_version": "1.5.0",
      "model_name": "TextModel",
      "state": {
       "layout": "IPY_MODEL_6146bd29e4af4af7868c1ceb99229117",
       "placeholder": "output filename",
       "style": "IPY_MODEL_e9e970972bde4c78a2660289ecb67543"
      }
     },
     "4a44f148a14b46cdb1479978b94913ae": {
      "model_module": "@jupyter-widgets/controls",
      "model_module_version": "1.5.0",
      "model_name": "DescriptionStyleModel",
      "state": {
       "description_width": ""
      }
     },
     "4a489731ebb644b6b17b633544a35b03": {
      "model_module": "@jupyter-widgets/base",
      "model_module_version": "1.2.0",
      "model_name": "LayoutModel",
      "state": {
       "grid_area": "dircontent",
       "width": "auto"
      }
     },
     "4a70aaba30ca46e4b8ef7bc5156c6310": {
      "model_module": "@jupyter-widgets/base",
      "model_module_version": "1.2.0",
      "model_name": "LayoutModel",
      "state": {}
     },
     "4a7d457d66184dbb8bd965458e7771b2": {
      "model_module": "@jupyter-widgets/controls",
      "model_module_version": "1.5.0",
      "model_name": "FloatSliderModel",
      "state": {
       "continuous_update": false,
       "description": "Easting",
       "layout": "IPY_MODEL_0b274d22692444c9814025c6fafba1c8",
       "max": 319234.2051362576,
       "min": 311898.69919769425,
       "step": 0.1,
       "style": "IPY_MODEL_235998155d10433198c3f00582011ded",
       "value": 314600
      }
     },
     "4a7f9acc781f4509b57d24f94769f2e7": {
      "model_module": "@jupyter-widgets/controls",
      "model_module_version": "1.5.0",
      "model_name": "DescriptionStyleModel",
      "state": {
       "description_width": ""
      }
     },
     "4ac77ee276c9469d8d48773a551e00ec": {
      "model_module": "@jupyter-widgets/base",
      "model_module_version": "1.2.0",
      "model_name": "LayoutModel",
      "state": {
       "width": "auto"
      }
     },
     "4b06387e8718463f978fed11a10b8524": {
      "model_module": "@jupyter-widgets/base",
      "model_module_version": "1.2.0",
      "model_name": "LayoutModel",
      "state": {}
     },
     "4b1630e7fecd496d8a908f8ac96a206f": {
      "model_module": "@jupyter-widgets/controls",
      "model_module_version": "1.5.0",
      "model_name": "HTMLModel",
      "state": {
       "layout": "IPY_MODEL_854e59851681441299ca90a5fd9f7e81",
       "placeholder": "",
       "style": "IPY_MODEL_c8c6db0601024c9da9930bf075868d01",
       "value": "<span style=\"margin-left:10px; color:black;\">No file selected</span>"
      }
     },
     "4b26e68ed3d644048a205121f5949e7a": {
      "model_module": "@jupyter-widgets/controls",
      "model_module_version": "1.5.0",
      "model_name": "LabelModel",
      "state": {
       "layout": "IPY_MODEL_0ea861b816e24cac92b1d5d0bc24e864",
       "style": "IPY_MODEL_f992456c43b94fa5a1a88bb47af86568",
       "value": "Workspace"
      }
     },
     "4b276b1f07fd440984d3351db5a8aed5": {
      "model_module": "@jupyter-widgets/controls",
      "model_module_version": "1.5.0",
      "model_name": "ButtonModel",
      "state": {
       "button_style": "danger",
       "description": "Compute",
       "icon": "check",
       "layout": "IPY_MODEL_45df9d6b47424a458e58bfc67cb0f324",
       "style": "IPY_MODEL_c2f5f99e71bf41aeb5f6e67be5c1f3c7",
       "tooltip": "Run computation"
      }
     },
     "4b300f18515845de9a16d43f5bd333bd": {
      "model_module": "@jupyter-widgets/base",
      "model_module_version": "1.2.0",
      "model_name": "LayoutModel",
      "state": {}
     },
     "4b4d777ad5b94ab9a4ee2eeb463b2937": {
      "model_module": "@jupyter-widgets/controls",
      "model_module_version": "1.5.0",
      "model_name": "ButtonModel",
      "state": {
       "description": "Cancel",
       "layout": "IPY_MODEL_e7a0989d9d7a448ba6d3a777ecff0303",
       "style": "IPY_MODEL_1a9a21c7f89745f49141818f3b57c414"
      }
     },
     "4b8f48ace12a4ec699f1f91a9a0cd887": {
      "model_module": "@jupyter-widgets/controls",
      "model_module_version": "1.5.0",
      "model_name": "DescriptionStyleModel",
      "state": {
       "description_width": ""
      }
     },
     "4c116c0607a1493380ecb75834fb6944": {
      "model_module": "@jupyter-widgets/controls",
      "model_module_version": "1.5.0",
      "model_name": "TextModel",
      "state": {
       "description": "Padding [W,E,N,S,D,U] (m)",
       "layout": "IPY_MODEL_cd58c29fb04a40438c4f1e3ffdac5ca5",
       "style": "IPY_MODEL_e4a54b1d42914fccbe646f88d436d410",
       "value": "1000, 1000, 1000, 1000, 0, 0"
      }
     },
     "4c2d502c1aaf40128d05aba9d67d14b9": {
      "model_module": "@jupyter-widgets/base",
      "model_module_version": "1.2.0",
      "model_name": "LayoutModel",
      "state": {
       "width": "auto"
      }
     },
     "4c7a60ae0fb74bdeb4658ca0c80fe57c": {
      "model_module": "@jupyter-widgets/controls",
      "model_module_version": "1.5.0",
      "model_name": "DescriptionStyleModel",
      "state": {
       "description_width": ""
      }
     },
     "4c9680fb8d214cc1806a01c9b8ebcb95": {
      "model_module": "@jupyter-widgets/controls",
      "model_module_version": "1.5.0",
      "model_name": "HTMLModel",
      "state": {
       "layout": "IPY_MODEL_dcaa0de4b2a84b72947fce3fb2f86a53",
       "style": "IPY_MODEL_30aed33df7d2429d8f2b4c9974122e4c"
      }
     },
     "4ca7cdf11b32481e96a8f3649da8e8ce": {
      "model_module": "@jupyter-widgets/controls",
      "model_module_version": "1.5.0",
      "model_name": "VBoxModel",
      "state": {
       "children": [
        "IPY_MODEL_aa8a7d7fae60431ba0fd44c928c43501",
        "IPY_MODEL_8fd811f62e9c487c87a8b201190a4d63",
        "IPY_MODEL_7488732c4fbb41beb17f2d520fef013a",
        "IPY_MODEL_bdb6833467f14c038e3eb2afaaf0bcf6",
        "IPY_MODEL_002b1fd1d7e341eb8bdab403c98ed071"
       ],
       "layout": "IPY_MODEL_249d19bec2fd4929b97911baedbdfa90"
      }
     },
     "4cf8f3bbff144a878df632759bb8e50d": {
      "model_module": "@jupyter-widgets/base",
      "model_module_version": "1.2.0",
      "model_name": "LayoutModel",
      "state": {}
     },
     "4d21a91bfc3845d789e2b532fc808b5c": {
      "model_module": "@jupyter-widgets/controls",
      "model_module_version": "1.5.0",
      "model_name": "ButtonModel",
      "state": {
       "description": "Select",
       "layout": "IPY_MODEL_481d604ce9584130bd2be8ae1700e1c1",
       "style": "IPY_MODEL_40350ac5ed594e49bb1fa4f958215200"
      }
     },
     "4d325559dc4049abbcf541106a71c1dc": {
      "model_module": "@jupyter-widgets/base",
      "model_module_version": "1.2.0",
      "model_name": "LayoutModel",
      "state": {
       "display": "none",
       "width": "auto"
      }
     },
     "4d4b6ae6f177405e967919bfb69dc8fe": {
      "model_module": "@jupyter-widgets/controls",
      "model_module_version": "1.5.0",
      "model_name": "VBoxModel",
      "state": {
       "children": [
        "IPY_MODEL_863c897eb6c94c9d9849bffd8f7bf39d",
        "IPY_MODEL_2665f436f84c481eacd0c664d6121c87"
       ],
       "layout": "IPY_MODEL_739dfddfd11d4057b93cebf8e3d8b2c0"
      }
     },
     "4d5bdb92a87740729aa4a44289470aa7": {
      "model_module": "@jupyter-widgets/base",
      "model_module_version": "1.2.0",
      "model_name": "LayoutModel",
      "state": {}
     },
     "4d8ffb381b5347f2a13c2884ea2880f4": {
      "model_module": "@jupyter-widgets/controls",
      "model_module_version": "1.5.0",
      "model_name": "SelectModel",
      "state": {
       "_options_labels": [
        "..",
        "images",
        "Untitled.ipynb",
        "base_application.ipynb",
        "calculator.ipynb",
        "contouring.ipynb",
        "coordinate_transformation.ipynb",
        "create_surface.ipynb",
        "data_interpolation.ipynb",
        "edge_detection.ipynb",
        "export.ipynb",
        "geophysical_inversion.ipynb",
        "object_data_selection.ipynb",
        "scatter.ipynb",
        "view_selection.ipynb"
       ],
       "index": null,
       "layout": "IPY_MODEL_c92ad5c6a203473486a30731caff191c",
       "rows": 8,
       "style": "IPY_MODEL_3daa2e8349064a2d9f99ad02309f8707"
      }
     },
     "4da6fa0c6c53463fb9c3e40582e524b5": {
      "model_module": "@jupyter-widgets/base",
      "model_module_version": "1.2.0",
      "model_name": "LayoutModel",
      "state": {}
     },
     "4dd833a9c91a4d6ba7a288667991f693": {
      "model_module": "@jupyter-widgets/controls",
      "model_module_version": "1.5.0",
      "model_name": "HBoxModel",
      "state": {
       "children": [
        "IPY_MODEL_88edc1cb1ffa4eb3a8cf53746132038f",
        "IPY_MODEL_fe4c864074bf46559d60fadd564a97d1"
       ],
       "layout": "IPY_MODEL_4b300f18515845de9a16d43f5bd333bd"
      }
     },
     "4e108e1be65740c1b96b685e375c0181": {
      "model_module": "@jupyter-widgets/base",
      "model_module_version": "1.2.0",
      "model_name": "LayoutModel",
      "state": {}
     },
     "4e424f880ee34c59b60e8bd2e04dad2a": {
      "model_module": "@jupyter-widgets/base",
      "model_module_version": "1.2.0",
      "model_name": "LayoutModel",
      "state": {}
     },
     "4e83d16e9d3d40608e063247e11ded51": {
      "model_module": "@jupyter-widgets/base",
      "model_module_version": "1.2.0",
      "model_name": "LayoutModel",
      "state": {}
     },
     "4ecc683573ff47418881417607e3fb39": {
      "model_module": "@jupyter-widgets/controls",
      "model_module_version": "1.5.0",
      "model_name": "DescriptionStyleModel",
      "state": {
       "description_width": ""
      }
     },
     "4f0870f946a44fb99d2bc1b37bec3438": {
      "model_module": "@jupyter-widgets/controls",
      "model_module_version": "1.5.0",
      "model_name": "DescriptionStyleModel",
      "state": {
       "description_width": "initial"
      }
     },
     "4f4e31d0044f4628973c0288da7a8145": {
      "model_module": "@jupyter-widgets/base",
      "model_module_version": "1.2.0",
      "model_name": "LayoutModel",
      "state": {
       "display": "none",
       "grid_gap": "0px 0px",
       "grid_template_areas": "\n                    'pathlist filename'\n                    'dircontent dircontent'\n                    ",
       "grid_template_columns": "60% 40%",
       "grid_template_rows": "auto auto",
       "width": "500px"
      }
     },
     "4f5d98b4b18d4032b173a932f0635015": {
      "model_module": "@jupyter-widgets/base",
      "model_module_version": "1.2.0",
      "model_name": "LayoutModel",
      "state": {}
     },
     "4fd2a75f217148c2bb0235a6bf676e8d": {
      "model_module": "@jupyter-widgets/controls",
      "model_module_version": "1.5.0",
      "model_name": "ButtonStyleModel",
      "state": {}
     },
     "5014f87dfdf14798bb2585a6dc85feef": {
      "model_module": "@jupyter-widgets/base",
      "model_module_version": "1.2.0",
      "model_name": "LayoutModel",
      "state": {}
     },
     "501db785d292448da2d7d696d3eb9bc3": {
      "model_module": "@jupyter-widgets/controls",
      "model_module_version": "1.5.0",
      "model_name": "ButtonStyleModel",
      "state": {}
     },
     "509588b882124a3a85ec949dbd4c7e80": {
      "model_module": "@jupyter-widgets/controls",
      "model_module_version": "1.5.0",
      "model_name": "DescriptionStyleModel",
      "state": {
       "description_width": "initial"
      }
     },
     "50cdfea92f1746148b00fee7962931dc": {
      "model_module": "@jupyter-widgets/controls",
      "model_module_version": "1.5.0",
      "model_name": "VBoxModel",
      "state": {
       "children": [
        "IPY_MODEL_ac072f3432aa4df0838d10449e4eb5e3",
        "IPY_MODEL_ade49b913971465a98d6273281f5cbf5"
       ],
       "layout": "IPY_MODEL_ab282031aa7642bdbc2b96b95ef649b3"
      }
     },
     "50d7a2689af34a3d8b95ef597e1d9faf": {
      "model_module": "@jupyter-widgets/controls",
      "model_module_version": "1.5.0",
      "model_name": "DescriptionStyleModel",
      "state": {
       "description_width": ""
      }
     },
     "50db4673d3514ca08147125a4c1a4803": {
      "model_module": "@jupyter-widgets/controls",
      "model_module_version": "1.5.0",
      "model_name": "DescriptionStyleModel",
      "state": {
       "description_width": ""
      }
     },
     "5133249317274eb99e5a4d44aace2698": {
      "model_module": "@jupyter-widgets/controls",
      "model_module_version": "1.5.0",
      "model_name": "TextModel",
      "state": {
       "continuous_update": false,
       "description": "Group:",
       "layout": "IPY_MODEL_047ec1ae719c42aeae8c7308fef42fdc",
       "style": "IPY_MODEL_3de61e37e81d4603ac9ac3a2c5cf1579"
      }
     },
     "5145885b576e4f32b0020e1fddfae2e0": {
      "model_module": "@jupyter-widgets/controls",
      "model_module_version": "1.5.0",
      "model_name": "DescriptionStyleModel",
      "state": {
       "description_width": "initial"
      }
     },
     "51c9fab9bc7d4fd4b63d9016ea26a476": {
      "model_module": "@jupyter-widgets/controls",
      "model_module_version": "1.5.0",
      "model_name": "VBoxModel",
      "state": {
       "children": [
        "IPY_MODEL_5561a42fbd2d4d6294e853ea586d5198"
       ],
       "layout": "IPY_MODEL_9663ee161c4540f799c29dc9de0c7373"
      }
     },
     "51de8de2f812430a9042482381310a44": {
      "model_module": "@jupyter-widgets/base",
      "model_module_version": "1.2.0",
      "model_name": "LayoutModel",
      "state": {
       "display": "none",
       "grid_gap": "0px 0px",
       "grid_template_areas": "\n                    'pathlist filename'\n                    'dircontent dircontent'\n                    ",
       "grid_template_columns": "60% 40%",
       "grid_template_rows": "auto auto",
       "width": "500px"
      }
     },
     "525bbc7e1a2c45a9af0791393cfce235": {
      "model_module": "@jupyter-widgets/controls",
      "model_module_version": "1.5.0",
      "model_name": "DescriptionStyleModel",
      "state": {
       "description_width": ""
      }
     },
     "526500c9657e4fa2ab1285e03089cbf1": {
      "model_module": "@jupyter-widgets/controls",
      "model_module_version": "1.5.0",
      "model_name": "TextModel",
      "state": {
       "layout": "IPY_MODEL_8fc024a51e2840518c75051f35c14c74",
       "placeholder": "output filename",
       "style": "IPY_MODEL_f97b910a00f44d5298ca29d37dd1fd13"
      }
     },
     "52a8540cdfd542cba5ccd6f2352af1c0": {
      "model_module": "@jupyter-widgets/controls",
      "model_module_version": "1.5.0",
      "model_name": "VBoxModel",
      "state": {
       "children": [
        "IPY_MODEL_38e319b147194fb5a9e256f0624a0f61",
        "IPY_MODEL_97813932a06c4c5db52313dc32c7a4e7",
        "IPY_MODEL_f9994cc3eafa4e6fb0f403f7b322c214"
       ],
       "layout": "IPY_MODEL_f7e93f8ff1504315997e33eff1ce2542"
      }
     },
     "52d0aff2d1a04fc99e327dc05a0c2410": {
      "model_module": "@jupyter-widgets/base",
      "model_module_version": "1.2.0",
      "model_name": "LayoutModel",
      "state": {
       "width": "auto"
      }
     },
     "530c7b3b54ac403db0a66df490b9b872": {
      "model_module": "@jupyter-widgets/controls",
      "model_module_version": "1.5.0",
      "model_name": "ButtonModel",
      "state": {
       "description": "Cancel",
       "layout": "IPY_MODEL_800115d9c2f049c49959c87f063b357d",
       "style": "IPY_MODEL_5a6c6d13c20646ae990a6c4edf0e170e"
      }
     },
     "535688eed72a4ab4bcfe31286c606c20": {
      "model_module": "@jupyter-widgets/controls",
      "model_module_version": "1.5.0",
      "model_name": "DescriptionStyleModel",
      "state": {
       "description_width": "initial"
      }
     },
     "539349c32d2f4d3eadc446211558ceb6": {
      "model_module": "@jupyter-widgets/base",
      "model_module_version": "1.2.0",
      "model_name": "LayoutModel",
      "state": {
       "width": "auto"
      }
     },
     "5393ca76bdd543faa3f91350a76ea346": {
      "model_module": "@jupyter-widgets/controls",
      "model_module_version": "1.5.0",
      "model_name": "FloatTextModel",
      "state": {
       "description": "Expansion factor:",
       "layout": "IPY_MODEL_85eff49465fc49de80638cb8d8458977",
       "step": null,
       "style": "IPY_MODEL_7c333680e65745f8be8ed16e1666e517",
       "value": 1.05
      }
     },
     "5462103588724182a528dcee24ea2612": {
      "model_module": "@jupyter-widgets/base",
      "model_module_version": "1.2.0",
      "model_name": "LayoutModel",
      "state": {
       "display": "none"
      }
     },
     "547851c27057467f97c74aaf0ef61b1d": {
      "model_module": "@jupyter-widgets/base",
      "model_module_version": "1.2.0",
      "model_name": "LayoutModel",
      "state": {
       "display": "none"
      }
     },
     "54ebeccbc0294a1f87afe4b57221761a": {
      "model_module": "@jupyter-widgets/controls",
      "model_module_version": "1.5.0",
      "model_name": "DescriptionStyleModel",
      "state": {
       "description_width": ""
      }
     },
     "5561a42fbd2d4d6294e853ea586d5198": {
      "model_module": "@jupyter-widgets/controls",
      "model_module_version": "1.5.0",
      "model_name": "CheckboxModel",
      "state": {
       "description": "GA Pro - Live link",
       "disabled": false,
       "indent": false,
       "layout": "IPY_MODEL_0f9dcc6632a7491981c1610def1604eb",
       "style": "IPY_MODEL_e9448fe9391c41c6ab0e02b343e7bebf",
       "value": false
      }
     },
     "558a27487b8f4a8cad662748c2f247e0": {
      "model_module": "@jupyter-widgets/controls",
      "model_module_version": "1.5.0",
      "model_name": "DescriptionStyleModel",
      "state": {
       "description_width": ""
      }
     },
     "5598a8723163450b908988260896b60e": {
      "model_module": "@jupyter-widgets/controls",
      "model_module_version": "1.5.0",
      "model_name": "DescriptionStyleModel",
      "state": {
       "description_width": ""
      }
     },
     "55eefa89d093462da5e5ffd542d2e990": {
      "model_module": "@jupyter-widgets/controls",
      "model_module_version": "1.5.0",
      "model_name": "DescriptionStyleModel",
      "state": {
       "description_width": ""
      }
     },
     "560dac76515340e88965897b1cb531a8": {
      "model_module": "@jupyter-widgets/base",
      "model_module_version": "1.2.0",
      "model_name": "LayoutModel",
      "state": {
       "width": "auto"
      }
     },
     "566ab7fd75054432a0172c087db00903": {
      "model_module": "@jupyter-widgets/base",
      "model_module_version": "1.2.0",
      "model_name": "LayoutModel",
      "state": {}
     },
     "569f47e97af84205b7b06905925efd75": {
      "model_module": "@jupyter-widgets/controls",
      "model_module_version": "1.5.0",
      "model_name": "HBoxModel",
      "state": {
       "children": [
        "IPY_MODEL_c49fce1a3724404bb072bf9cd5eb5990",
        "IPY_MODEL_f509b037c78d4e45901543cb631b3417"
       ],
       "layout": "IPY_MODEL_82463bd07af641318c18ac7ed79a6c1b"
      }
     },
     "56ac967f42e14abfb7f494725a285105": {
      "model_module": "@jupyter-widgets/base",
      "model_module_version": "1.2.0",
      "model_name": "LayoutModel",
      "state": {
       "width": "auto"
      }
     },
     "56b79c17d8ed4bcda175a6606bec4f3f": {
      "model_module": "@jupyter-widgets/base",
      "model_module_version": "1.2.0",
      "model_name": "LayoutModel",
      "state": {}
     },
     "56f69b6edf454177950b36d0ef7b3150": {
      "model_module": "@jupyter-widgets/controls",
      "model_module_version": "1.5.0",
      "model_name": "VBoxModel",
      "state": {
       "children": [
        "IPY_MODEL_1c232fd58dd84a8e807ada8798da183b",
        "IPY_MODEL_5f37c07382f440bea6d5ca519e536659",
        "IPY_MODEL_e748629cdd3947c4b2033b00b36b24ff",
        "IPY_MODEL_9e13e006a88a4aae8e98855ce7b83d9f",
        "IPY_MODEL_334cdbfdacb0462bac48427db77de8b8"
       ],
       "layout": "IPY_MODEL_6ddaf506d89446ab8c9279f448ce7c2d"
      }
     },
     "57289d91c5b9422da22adb1243602196": {
      "model_module": "@jupyter-widgets/controls",
      "model_module_version": "1.5.0",
      "model_name": "VBoxModel",
      "state": {
       "children": [
        "IPY_MODEL_a85e982d9fb348e7984df50b064001c6",
        "IPY_MODEL_eb14982f55954d7ab5e1ba9befaf9aa9"
       ],
       "layout": "IPY_MODEL_a3c494b8c9a8486aa90453cc3771d953"
      }
     },
     "5773eecc0f134b8f955deabccab59e5b": {
      "model_module": "@jupyter-widgets/controls",
      "model_module_version": "1.5.0",
      "model_name": "HBoxModel",
      "state": {
       "children": [
        "IPY_MODEL_6bf70f005e5b48a9b4d8c4b3ba2961bb",
        "IPY_MODEL_184931ed4bff4c25a662b62ec025b678",
        "IPY_MODEL_c9aa0f8c124f45abbc839bd39d60759e"
       ],
       "layout": "IPY_MODEL_bc5dd9e911fb43f29716d1adde19c1ee"
      }
     },
     "578f693a76a2418ebcbe10201d2b6704": {
      "model_module": "@jupyter-widgets/base",
      "model_module_version": "1.2.0",
      "model_name": "LayoutModel",
      "state": {
       "display": "none"
      }
     },
     "579f160b1a0c4d51ad0bc76bfddab9b9": {
      "model_module": "@jupyter-widgets/controls",
      "model_module_version": "1.5.0",
      "model_name": "DescriptionStyleModel",
      "state": {
       "description_width": "initial"
      }
     },
     "57a3e49e6838433db0c95354c4eec39e": {
      "model_module": "@jupyter-widgets/controls",
      "model_module_version": "1.5.0",
      "model_name": "DescriptionStyleModel",
      "state": {
       "description_width": ""
      }
     },
     "57c9f4d63a2043b997106440cd0e280f": {
      "model_module": "@jupyter-widgets/base",
      "model_module_version": "1.2.0",
      "model_name": "LayoutModel",
      "state": {}
     },
     "58cd907f5d6e4507bdb8b8850492975a": {
      "model_module": "@jupyter-widgets/controls",
      "model_module_version": "1.5.0",
      "model_name": "FloatTextModel",
      "state": {
       "description": "Number of cells:",
       "layout": "IPY_MODEL_1c0ad10b7bad4c128db4357cb151e58b",
       "step": null,
       "style": "IPY_MODEL_8573517f27f34051aa60fbd557ef5a02",
       "value": 25
      }
     },
     "5927777049d946cd9009d319c7bc12e8": {
      "model_module": "@jupyter-widgets/base",
      "model_module_version": "1.2.0",
      "model_name": "LayoutModel",
      "state": {
       "grid_area": "pathlist",
       "width": "auto"
      }
     },
     "592a24c9710641eb986485a3f4a33e7e": {
      "model_module": "@jupyter-widgets/base",
      "model_module_version": "1.2.0",
      "model_name": "LayoutModel",
      "state": {}
     },
     "595ee69b2f6a40f58fdd7b698d34256d": {
      "model_module": "@jupyter-widgets/controls",
      "model_module_version": "1.5.0",
      "model_name": "DescriptionStyleModel",
      "state": {
       "description_width": ""
      }
     },
     "59d3cf91b0644307b8171e8395c1b38f": {
      "model_module": "@jupyter-widgets/controls",
      "model_module_version": "1.5.0",
      "model_name": "DescriptionStyleModel",
      "state": {
       "description_width": ""
      }
     },
     "5a3e9d5610884ae68d1557144486245b": {
      "model_module": "@jupyter-widgets/controls",
      "model_module_version": "1.5.0",
      "model_name": "FloatSliderModel",
      "state": {
       "continuous_update": false,
       "description": "Azimuth",
       "layout": "IPY_MODEL_ce50d189db834580bccbac5519a63804",
       "max": 90,
       "min": -90,
       "step": 0.1,
       "style": "IPY_MODEL_1680f6cf53ce4cb2808b74c66447af8e",
       "value": -20
      }
     },
     "5a4032e9430f44be88d34740fbfa4011": {
      "model_module": "@jupyter-widgets/controls",
      "model_module_version": "1.5.0",
      "model_name": "ButtonModel",
      "state": {
       "description": "Create copy:",
       "layout": "IPY_MODEL_806b203a0441431b94be70735fa988ad",
       "style": "IPY_MODEL_bf7b68a1942a4a659ceb158046ae2b92"
      }
     },
     "5a6c6d13c20646ae990a6c4edf0e170e": {
      "model_module": "@jupyter-widgets/controls",
      "model_module_version": "1.5.0",
      "model_name": "ButtonStyleModel",
      "state": {}
     },
     "5aa8e920787f452e9b486b89929d35b1": {
      "model_module": "@jupyter-widgets/controls",
      "model_module_version": "1.5.0",
      "model_name": "DescriptionStyleModel",
      "state": {
       "description_width": ""
      }
     },
     "5ac9914ca1064190853818917e06316c": {
      "model_module": "@jupyter-widgets/base",
      "model_module_version": "1.2.0",
      "model_name": "LayoutModel",
      "state": {
       "width": "auto"
      }
     },
     "5aee599ada684af5a8ed121a06c14b1b": {
      "model_module": "@jupyter-widgets/controls",
      "model_module_version": "1.5.0",
      "model_name": "VBoxModel",
      "state": {
       "children": [
        "IPY_MODEL_04fa483a40124de38a9208d8797e5469",
        "IPY_MODEL_2c961e12c8cb492f8ee692afc45c2544"
       ],
       "layout": "IPY_MODEL_d245f3046a3f4a4f82a3359ed63602b7"
      }
     },
     "5b245f18475d48cd9663041d90787609": {
      "model_module": "@jupyter-widgets/controls",
      "model_module_version": "1.5.0",
      "model_name": "DescriptionStyleModel",
      "state": {
       "description_width": ""
      }
     },
     "5b734c3528c64a6d9e82e16d856bc328": {
      "model_module": "@jupyter-widgets/controls",
      "model_module_version": "1.5.0",
      "model_name": "TextModel",
      "state": {
       "description": "Data (i.e. <0 = no negatives)",
       "layout": "IPY_MODEL_bc8137bf32944b528537d8e175900503",
       "style": "IPY_MODEL_23fd0ae740bc4cfa8678d838297a46f0",
       "value": "-99999"
      }
     },
     "5bdf76cdaf4345b394addea5fe62a226": {
      "model_module": "@jupyter-widgets/base",
      "model_module_version": "1.2.0",
      "model_name": "LayoutModel",
      "state": {}
     },
     "5be1ff5c8fc24b41918bca461e6cf642": {
      "model_module": "@jupyter-widgets/base",
      "model_module_version": "1.2.0",
      "model_name": "LayoutModel",
      "state": {
       "width": "auto"
      }
     },
     "5c7f615007b54b62a50317b4bf0dd1ca": {
      "model_module": "@jupyter-widgets/controls",
      "model_module_version": "1.5.0",
      "model_name": "DescriptionStyleModel",
      "state": {
       "description_width": ""
      }
     },
     "5c8d4abffbd749be8f6119d5351701cb": {
      "model_module": "@jupyter-widgets/controls",
      "model_module_version": "1.5.0",
      "model_name": "SliderStyleModel",
      "state": {
       "description_width": ""
      }
     },
     "5d088262e6ac457d826901d4f59cfe41": {
      "model_module": "@jupyter-widgets/base",
      "model_module_version": "1.2.0",
      "model_name": "LayoutModel",
      "state": {}
     },
     "5d25c44043104f5bb65ba02fa856757f": {
      "model_module": "@jupyter-widgets/base",
      "model_module_version": "1.2.0",
      "model_name": "LayoutModel",
      "state": {}
     },
     "5d40e66925c54d7f826f3ca6631a43de": {
      "model_module": "@jupyter-widgets/base",
      "model_module_version": "1.2.0",
      "model_name": "LayoutModel",
      "state": {
       "display": "none",
       "width": "auto"
      }
     },
     "5d5350d818b24eebabe8d533826c97e9": {
      "model_module": "@jupyter-widgets/controls",
      "model_module_version": "1.5.0",
      "model_name": "DescriptionStyleModel",
      "state": {
       "description_width": ""
      }
     },
     "5d5cb8cc7fa74238ade2ba22d2ef71f1": {
      "model_module": "@jupyter-widgets/base",
      "model_module_version": "1.2.0",
      "model_name": "LayoutModel",
      "state": {}
     },
     "5d84b5aaf9214dbe95b3aabb8ee088f0": {
      "model_module": "@jupyter-widgets/base",
      "model_module_version": "1.2.0",
      "model_name": "LayoutModel",
      "state": {}
     },
     "5da2dbd06eb2400a9bb9d35ef22c99a1": {
      "model_module": "@jupyter-widgets/controls",
      "model_module_version": "1.5.0",
      "model_name": "DescriptionStyleModel",
      "state": {
       "description_width": "initial"
      }
     },
     "5dbc58ebda4c4a7497da93458a02a8f8": {
      "model_module": "@jupyter-widgets/controls",
      "model_module_version": "1.5.0",
      "model_name": "ButtonStyleModel",
      "state": {}
     },
     "5e43e81977ab4d4685d88c1d1187766f": {
      "model_module": "@jupyter-widgets/base",
      "model_module_version": "1.2.0",
      "model_name": "LayoutModel",
      "state": {
       "grid_area": "filename",
       "width": "auto"
      }
     },
     "5ea27f9a5be5440ab577793c77784b28": {
      "model_module": "@jupyter-widgets/base",
      "model_module_version": "1.2.0",
      "model_name": "LayoutModel",
      "state": {}
     },
     "5ea397c476dd45c293a3f67056234f41": {
      "model_module": "@jupyter-widgets/base",
      "model_module_version": "1.2.0",
      "model_name": "LayoutModel",
      "state": {}
     },
     "5eb75e44e6d540ca82e3a947a3da1bfe": {
      "model_module": "@jupyter-widgets/base",
      "model_module_version": "1.2.0",
      "model_name": "LayoutModel",
      "state": {}
     },
     "5f2fd71652c84ddaa0f76469623520ab": {
      "model_module": "@jupyter-widgets/base",
      "model_module_version": "1.2.0",
      "model_name": "LayoutModel",
      "state": {
       "display": "none"
      }
     },
     "5f37c07382f440bea6d5ca519e536659": {
      "model_module": "@jupyter-widgets/controls",
      "model_module_version": "1.5.0",
      "model_name": "TextModel",
      "state": {
       "description": "bxy",
       "layout": "IPY_MODEL_3aad4c524cb14a5d8d544cbc9f4e91d6",
       "style": "IPY_MODEL_8a227a7c75d64cd6b1d1407a626b12ac"
      }
     },
     "5f811fa7f64647238ce7c20205c76f61": {
      "model_module": "@jupyter-widgets/base",
      "model_module_version": "1.2.0",
      "model_name": "LayoutModel",
      "state": {}
     },
     "5febe31047ce48f288687b5bc868b205": {
      "model_module": "@jupyter-widgets/controls",
      "model_module_version": "1.5.0",
      "model_name": "DescriptionStyleModel",
      "state": {
       "description_width": ""
      }
     },
     "600a19da7f574b3d9b3ea9be0fcba319": {
      "model_module": "@jupyter-widgets/base",
      "model_module_version": "1.2.0",
      "model_name": "LayoutModel",
      "state": {}
     },
     "605914dc176345eab627f60cd6341ef3": {
      "model_module": "@jupyter-widgets/controls",
      "model_module_version": "1.5.0",
      "model_name": "CheckboxModel",
      "state": {
       "description": "Forward only",
       "disabled": false,
       "layout": "IPY_MODEL_86a6fe00f7d941e182268d0e410992a7",
       "style": "IPY_MODEL_38fb79de4d8043bc876507c17a7e49bd",
       "value": false
      }
     },
     "60a5f3a5c1fd4b0ca8e4dd9b5120aee3": {
      "model_module": "@jupyter-widgets/controls",
      "model_module_version": "1.5.0",
      "model_name": "DescriptionStyleModel",
      "state": {
       "description_width": ""
      }
     },
     "611130603a784d59896b0c22a1389164": {
      "model_module": "@jupyter-widgets/controls",
      "model_module_version": "1.5.0",
      "model_name": "VBoxModel",
      "state": {
       "children": [
        "IPY_MODEL_051cf5d919e14eb99e50151905093d2b"
       ],
       "layout": "IPY_MODEL_4b06387e8718463f978fed11a10b8524"
      }
     },
     "613a60cc664547f4bd54e034ca1ccd0e": {
      "model_module": "@jupyter-widgets/controls",
      "model_module_version": "1.5.0",
      "model_name": "SelectModel",
      "state": {
       "_options_labels": [
        "..",
        "images"
       ],
       "index": null,
       "layout": "IPY_MODEL_c24ce7bf9e3a4b7b949de5ae9d3cf740",
       "rows": 8,
       "style": "IPY_MODEL_bca972a08c08409785bdf4dccaeaf1b5"
      }
     },
     "6146bd29e4af4af7868c1ceb99229117": {
      "model_module": "@jupyter-widgets/base",
      "model_module_version": "1.2.0",
      "model_name": "LayoutModel",
      "state": {
       "grid_area": "filename",
       "width": "auto"
      }
     },
     "615ee714950c4ba798009c25881cc237": {
      "model_module": "@jupyter-widgets/base",
      "model_module_version": "1.2.0",
      "model_name": "LayoutModel",
      "state": {}
     },
     "61e7f593f5a54b2ab647eadeb8481e3f": {
      "model_module": "@jupyter-widgets/base",
      "model_module_version": "1.2.0",
      "model_name": "LayoutModel",
      "state": {}
     },
     "624a94f1e79d49ff8646f97a63d1b354": {
      "model_module": "@jupyter-widgets/controls",
      "model_module_version": "1.5.0",
      "model_name": "DescriptionStyleModel",
      "state": {
       "description_width": ""
      }
     },
     "626be5910a4042e08846302ccdc7b6bb": {
      "model_module": "@jupyter-widgets/base",
      "model_module_version": "1.2.0",
      "model_name": "LayoutModel",
      "state": {}
     },
     "6295fca9154246d39a6eed52a142d78f": {
      "model_module": "@jupyter-widgets/controls",
      "model_module_version": "1.5.0",
      "model_name": "DescriptionStyleModel",
      "state": {
       "description_width": "initial"
      }
     },
     "62a326422a7f424ebad3e30da3ad8680": {
      "model_module": "@jupyter-widgets/controls",
      "model_module_version": "1.5.0",
      "model_name": "DescriptionStyleModel",
      "state": {
       "description_width": ""
      }
     },
     "62f3f6f1690b4893853e502debf8cbbe": {
      "model_module": "@jupyter-widgets/controls",
      "model_module_version": "1.5.0",
      "model_name": "FloatTextModel",
      "state": {
       "description": "SI",
       "layout": "IPY_MODEL_874df43e3fdb4ee9b539cf0a400d67b5",
       "step": null,
       "style": "IPY_MODEL_e77569707e09428880af760c62ce8077",
       "value": 0.0001
      }
     },
     "63c9a6ee1af045fc9007156a16a11b82": {
      "model_module": "@jupyter-widgets/controls",
      "model_module_version": "1.5.0",
      "model_name": "ToggleButtonModel",
      "state": {
       "layout": "IPY_MODEL_dc54f761ab7049bb845dd2de540ee70c",
       "style": "IPY_MODEL_42682d4bebac49f2a372658495f43502",
       "value": true
      }
     },
     "64c19c8032e8469c878a3c8f48b32d81": {
      "model_module": "@jupyter-widgets/controls",
      "model_module_version": "1.5.0",
      "model_name": "TextModel",
      "state": {
       "description": "Error (%, floor)",
       "layout": "IPY_MODEL_83ec486bd48f4ede9943300e9af3115a",
       "style": "IPY_MODEL_cbfd3164e975485eb64657abb1d3289c",
       "value": "0, 1"
      }
     },
     "64d3e4f1070342429f2d1328d7835eda": {
      "model_module": "@jupyter-widgets/controls",
      "model_module_version": "1.5.0",
      "model_name": "DescriptionStyleModel",
      "state": {
       "description_width": ""
      }
     },
     "657caec535b94fd0beb87a388a7cc581": {
      "model_module": "@jupyter-widgets/base",
      "model_module_version": "1.2.0",
      "model_name": "LayoutModel",
      "state": {
       "width": "auto"
      }
     },
     "65a2507c9bdf4551af27ff3230d96203": {
      "model_module": "@jupyter-widgets/controls",
      "model_module_version": "1.5.0",
      "model_name": "DescriptionStyleModel",
      "state": {
       "description_width": "initial"
      }
     },
     "65a84aa707b64e18bebe65eb8cef1e64": {
      "model_module": "@jupyter-widgets/base",
      "model_module_version": "1.2.0",
      "model_name": "LayoutModel",
      "state": {}
     },
     "65f73c474b614d5ea20de9d9b9d52ae8": {
      "model_module": "@jupyter-widgets/base",
      "model_module_version": "1.2.0",
      "model_name": "LayoutModel",
      "state": {
       "grid_area": "pathlist",
       "width": "auto"
      }
     },
     "662c61179d874afd839ec415ac59b636": {
      "model_module": "@jupyter-widgets/base",
      "model_module_version": "1.2.0",
      "model_name": "LayoutModel",
      "state": {
       "visibility": "hidden"
      }
     },
     "66d2f19a4c144548872a5a9a384dbbe4": {
      "model_module": "@jupyter-widgets/controls",
      "model_module_version": "1.5.0",
      "model_name": "VBoxModel",
      "state": {
       "children": [
        "IPY_MODEL_83cb4087c1ce4a798d24782aba73d35a",
        "IPY_MODEL_86b0400a3a754807aea43db1d87ed007"
       ],
       "layout": "IPY_MODEL_e5f1f78e0a3a4c898f829c75ae546abf"
      }
     },
     "6761960dc95347a29bab6e28dc9fffaf": {
      "model_module": "@jupyter-widgets/controls",
      "model_module_version": "1.5.0",
      "model_name": "CheckboxModel",
      "state": {
       "description": "GA Pro - Live link",
       "disabled": false,
       "indent": false,
       "layout": "IPY_MODEL_bf02e1c2b532434d8d230e86c7002a71",
       "style": "IPY_MODEL_bca405f34a27474baaf92c66049460ef",
       "value": false
      }
     },
     "67818ad0aa074c63a0020d99bc5d12a2": {
      "model_module": "@jupyter-widgets/controls",
      "model_module_version": "1.5.0",
      "model_name": "GridBoxModel",
      "state": {
       "children": [
        "IPY_MODEL_abc256865ac947ca843164089390d23f",
        "IPY_MODEL_d91e6424bb2b432b8cb2d48a02936c9f",
        "IPY_MODEL_613a60cc664547f4bd54e034ca1ccd0e"
       ],
       "layout": "IPY_MODEL_c803f5b3c1ec422b9153f901872a8e97"
      }
     },
     "6790d8654f92485c9c37fd0c61d5ae01": {
      "model_module": "@jupyter-widgets/base",
      "model_module_version": "1.2.0",
      "model_name": "LayoutModel",
      "state": {}
     },
     "67af0e643ec2452aa7fd1838ec6f25d6": {
      "model_module": "@jupyter-widgets/controls",
      "model_module_version": "1.5.0",
      "model_name": "DescriptionStyleModel",
      "state": {
       "description_width": "initial"
      }
     },
     "67b652e2deee4cfa91ecdf139ec2b5f0": {
      "model_module": "@jupyter-widgets/controls",
      "model_module_version": "1.5.0",
      "model_name": "DescriptionStyleModel",
      "state": {
       "description_width": ""
      }
     },
     "682787b07962411eb80f4b595f243e44": {
      "model_module": "@jupyter-widgets/base",
      "model_module_version": "1.2.0",
      "model_name": "LayoutModel",
      "state": {
       "width": "auto"
      }
     },
     "683d115287c44df8ad85226ba19d28d2": {
      "model_module": "@jupyter-widgets/base",
      "model_module_version": "1.2.0",
      "model_name": "LayoutModel",
      "state": {
       "width": "auto"
      }
     },
     "6876db865a7c4953b419ce72d9742f62": {
      "model_module": "@jupyter-widgets/controls",
      "model_module_version": "1.5.0",
      "model_name": "VBoxModel",
      "state": {
       "children": [
        "IPY_MODEL_25b4e06f7c604ea79036cdea972ee4e4",
        "IPY_MODEL_b1626180eb024901a42d234b5fde6fed"
       ],
       "layout": "IPY_MODEL_e4f9b29956e9469cb6f13df62405ee4e"
      }
     },
     "68cc5222a0fc43ad90f0cebedac37f1f": {
      "model_module": "@jupyter-widgets/controls",
      "model_module_version": "1.5.0",
      "model_name": "ButtonModel",
      "state": {
       "description": "Create copy:",
       "layout": "IPY_MODEL_a9dfb080baad4ec58e7d6dc17fc90886",
       "style": "IPY_MODEL_47633bdb0e084049af869bb4eaacee39"
      }
     },
     "694d89a934f24be4a74fe3101e4c8bbf": {
      "model_module": "@jupyter-widgets/controls",
      "model_module_version": "1.5.0",
      "model_name": "DescriptionStyleModel",
      "state": {
       "description_width": "initial"
      }
     },
     "69528ac8e1904337afdbc72be9bf4a9a": {
      "model_module": "@jupyter-widgets/controls",
      "model_module_version": "1.5.0",
      "model_name": "DescriptionStyleModel",
      "state": {
       "description_width": "initial"
      }
     },
     "695d2da659544dc7b6e9203e19451965": {
      "model_module": "@jupyter-widgets/controls",
      "model_module_version": "1.5.0",
      "model_name": "VBoxModel",
      "state": {
       "children": [
        "IPY_MODEL_f8d587d272da4a84abc3890eb64bcad7",
        "IPY_MODEL_fa8409af3913429d8154985580da7d61",
        "IPY_MODEL_1dea7e6061cd4098a7d4c016f006e8ff"
       ],
       "layout": "IPY_MODEL_cbf24b00e4394dfa84c60fcd727f1e38"
      }
     },
     "698a4fdf87ea4319a5741c4654480554": {
      "model_module": "@jupyter-widgets/controls",
      "model_module_version": "1.5.0",
      "model_name": "DescriptionStyleModel",
      "state": {
       "description_width": "initial"
      }
     },
     "69a9dfc596124a89a11330d55c3b5509": {
      "model_module": "@jupyter-widgets/controls",
      "model_module_version": "1.5.0",
      "model_name": "HBoxModel",
      "state": {
       "children": [
        "IPY_MODEL_3761cc0b57d24bd0a874210f59698296",
        "IPY_MODEL_0cafd5f3b09947b9941089c81b30f9cf",
        "IPY_MODEL_9e512b550d984ad093faa18bc1e7e865"
       ],
       "layout": "IPY_MODEL_3b8494d41a22483a83ffd13d5e95deb7"
      }
     },
     "69f5d49f21c64dde883583438bc4f28e": {
      "model_module": "@jupyter-widgets/base",
      "model_module_version": "1.2.0",
      "model_name": "LayoutModel",
      "state": {
       "display": "none",
       "width": "auto"
      }
     },
     "6a2057514cbc4aab8b26383614c0c00e": {
      "model_module": "@jupyter-widgets/controls",
      "model_module_version": "1.5.0",
      "model_name": "SelectModel",
      "state": {
       "_options_labels": [
        "..",
        "SimPEG_PFInversion",
        "Temp",
        "dask-worker-space",
        "Crossplot.html",
        "FlinFlon.geoh5",
        "FlinFlon_light.geoh5",
        "Inversion_.json",
        "MtDore_TMI.geoh5"
       ],
       "index": 5,
       "layout": "IPY_MODEL_a9ddfaf7ca03459dae59434c764435cd",
       "rows": 8,
       "style": "IPY_MODEL_2b7db5155e5a4416b8cd9349a478b267"
      }
     },
     "6a47e1a522e145468caee7197bbbe887": {
      "model_module": "@jupyter-widgets/controls",
      "model_module_version": "1.5.0",
      "model_name": "DropdownModel",
      "state": {
       "_options_labels": [
        "",
        "Predicted",
        "Mesh",
        "fault_splay1",
        "fault_Cliff_Lake",
        "fault_Other_FlinFlon",
        "fault_Club_Lake_splay",
        "fault_Catherine_splay2",
        "fault_Birch_View",
        "fault_Dion_Lake",
        "fault_FlinFlon_splay",
        "fault_West_Mandy_Road",
        "fault_Channing",
        "fault_Ross_Lake",
        "fault_Louis_Hidden",
        "fault_Lake_View_thrust",
        "contact_Schist_Lake",
        "fault_Burley_Lake",
        "fault_Dion_Lake_splay",
        "fault_Green_Lake",
        "fault_FlinFlon",
        "fault_Catherine_splay1",
        "fault_East_Mandy_Road",
        "fault_Other_FlinFlon_South",
        "fault_Catherine_splay4",
        "contact_Stitt_Island",
        "fault_Club_Lake",
        "fault_Tailing_Pond",
        "35_Hidden_Reservoir_Hr5",
        "29_Hidden_Reservoir_Hr1a",
        "60_BlueLagoon_Fb2",
        "20_FlinFlon_Undivided_Int_Dykes_D2f",
        "04_Boundary_Intrusive_S4h",
        "53_Millrock_Rhyolite_Fm4b",
        "19_FlinFlon_Undivided_Int_Dykes_D2b",
        "18_FlinFlon_Undivided_Int_Dykes_777_D2b",
        "06_Phantom_Lake_Intrusive_S3a",
        "21_FlinFlon_Undivided_Int_Dykes_D3a",
        "43_Millrock_CHLSH_South",
        "56_Millrock_Basalt_Fm1ba",
        "17_FlinFlon_Undivided_Int_Dykes_D2",
        "32_Hidden_Reservoir_Hr1b_SW",
        "11_Missi_M3_NE",
        "13_Missi_M1",
        "07_Annabel_Granitoid_S1",
        "45_Millrock_Gabbro_South",
        "01_Late_Intrusive_S5b",
        "31_Hidden_Reservoir_Hr1c_SW",
        "52_Millrock_Rhyolite_Fm4_West_check",
        "55_Millrock_Basalt_Fm1bf",
        "34_Hidden_Reservoir_Hr2b",
        "03_Boundary_Intrusive_S4b",
        "42_Millrock_CHLSH_North",
        "26_Louis_L3",
        "23_FlinFlon_Undivided_Int_Felsic_D4g",
        "30_Hidden_Reservoir_Hr1b",
        "59_BlueLagoon_Fb3",
        "49_Millrock_MVR_Fm5d",
        "44_Millrock_Gabbro_North",
        "27_Hidden_Carlisle_Hc4",
        "22_FlinFlon_Undivided_Int_Felsic_D4e",
        "02_Boundary_Intrusive_S4a",
        "61_BlueLagoon_Fb1_NW",
        "05_Boundary_Intrusive_S4g",
        "39_Ore_Callinan",
        "38_Ore_Dan_Owens",
        "40_Ore_FlinFlon",
        "Inversion_VTEM_Model",
        "Gravity_Magnetics_drape60m",
        "CDI_VTEM_model",
        "Data_FEM_pseudo3D",
        "O2O_Interp_25m",
        "geochem",
        "Inversion_DIGHEM_Model",
        "Topography",
        "Data_TEM_pseudo3D"
       ],
       "description": "Object:",
       "index": 68,
       "layout": "IPY_MODEL_c1350f5852ed4d098a8e59f1969d8b94",
       "style": "IPY_MODEL_6bfa08e1cb284a70950913c89843f71f"
      }
     },
     "6a64357a15ca48fa84ad8c5659d7eb7d": {
      "model_module": "@jupyter-widgets/base",
      "model_module_version": "1.2.0",
      "model_name": "LayoutModel",
      "state": {}
     },
     "6a6ead56f10642d299baca7cbb129c46": {
      "model_module": "@jupyter-widgets/base",
      "model_module_version": "1.2.0",
      "model_name": "LayoutModel",
      "state": {
       "display": "none",
       "grid_gap": "0px 0px",
       "grid_template_areas": "\n                    'pathlist pathlist'\n                    'dircontent dircontent'\n                    ",
       "grid_template_columns": "60% 40%",
       "grid_template_rows": "auto auto",
       "width": "500px"
      }
     },
     "6aadb5e614dd422eb0facc2a17ef6432": {
      "model_module": "@jupyter-widgets/base",
      "model_module_version": "1.2.0",
      "model_name": "LayoutModel",
      "state": {}
     },
     "6ac9b477e2da4893b7d3425df84765f0": {
      "model_module": "@jupyter-widgets/controls",
      "model_module_version": "1.5.0",
      "model_name": "HBoxModel",
      "state": {
       "children": [
        "IPY_MODEL_d9d91a1c41a94c0c836115419f7f9d76",
        "IPY_MODEL_d083e98661cc43ee815e6581efc7cd68"
       ],
       "layout": "IPY_MODEL_050a54fe195f415abd478312de87515e"
      }
     },
     "6b339d58310f4415b4f8479b3c43f73c": {
      "model_module": "@jupyter-widgets/controls",
      "model_module_version": "1.5.0",
      "model_name": "DescriptionStyleModel",
      "state": {
       "description_width": ""
      }
     },
     "6b45bedb0b3043b28877ac66a7ad0456": {
      "model_module": "@jupyter-widgets/controls",
      "model_module_version": "1.5.0",
      "model_name": "DescriptionStyleModel",
      "state": {
       "description_width": ""
      }
     },
     "6b4ecf9c979c44fbac5c12e959c1ed48": {
      "model_module": "@jupyter-widgets/controls",
      "model_module_version": "1.5.0",
      "model_name": "IntTextModel",
      "state": {
       "description": "Max beta Iterations",
       "layout": "IPY_MODEL_717df970772b4d09a8a1fe61b768db61",
       "step": 1,
       "style": "IPY_MODEL_a388edbd204a4ede8913644104c2de45",
       "value": 25
      }
     },
     "6b8b165ccfe34fb4a253e7f6787ae741": {
      "model_module": "@jupyter-widgets/base",
      "model_module_version": "1.2.0",
      "model_name": "LayoutModel",
      "state": {}
     },
     "6ba045cd7068430985c3dbdba132d334": {
      "model_module": "@jupyter-widgets/controls",
      "model_module_version": "1.5.0",
      "model_name": "TextModel",
      "state": {
       "description": "Layers below data",
       "layout": "IPY_MODEL_15f1cd7336b3498590bf26d289878284",
       "style": "IPY_MODEL_ae0c0cb0690a430496d61a7d8c11e213",
       "value": "5, 5, 5, 5"
      }
     },
     "6bf70f005e5b48a9b4d8c4b3ba2961bb": {
      "model_module": "@jupyter-widgets/controls",
      "model_module_version": "1.5.0",
      "model_name": "ButtonModel",
      "state": {
       "description": "Select",
       "layout": "IPY_MODEL_539349c32d2f4d3eadc446211558ceb6",
       "style": "IPY_MODEL_2e2a91abb35f43b1bba5b6827d817653"
      }
     },
     "6bfa08e1cb284a70950913c89843f71f": {
      "model_module": "@jupyter-widgets/controls",
      "model_module_version": "1.5.0",
      "model_name": "DescriptionStyleModel",
      "state": {
       "description_width": "initial"
      }
     },
     "6c853d09bedd43d495c1f733236fd9bb": {
      "model_module": "@jupyter-widgets/controls",
      "model_module_version": "1.5.0",
      "model_name": "VBoxModel",
      "state": {
       "children": [
        "IPY_MODEL_7fe538d76efd4ca39a03e9080bc95715",
        "IPY_MODEL_40066bb986a54808a319db86f898c4aa"
       ],
       "layout": "IPY_MODEL_d04106e4417d498d9a7b3e324cc343c1"
      }
     },
     "6cbd5caafd6a408d96f841585212074f": {
      "model_module": "@jupyter-widgets/base",
      "model_module_version": "1.2.0",
      "model_name": "LayoutModel",
      "state": {
       "width": "auto"
      }
     },
     "6cc185b536df4e96ba6d734520b2912b": {
      "model_module": "@jupyter-widgets/controls",
      "model_module_version": "1.5.0",
      "model_name": "SliderStyleModel",
      "state": {
       "description_width": ""
      }
     },
     "6d49c42c931c4b66b3ada2b760f4a694": {
      "model_module": "@jupyter-widgets/controls",
      "model_module_version": "1.5.0",
      "model_name": "DescriptionStyleModel",
      "state": {
       "description_width": ""
      }
     },
     "6d72a285e0294aa6b47d234bcb5c83a4": {
      "model_module": "@jupyter-widgets/base",
      "model_module_version": "1.2.0",
      "model_name": "LayoutModel",
      "state": {}
     },
     "6d9e9be5f7ea4c76984bb40b2c5536b5": {
      "model_module": "@jupyter-widgets/base",
      "model_module_version": "1.2.0",
      "model_name": "LayoutModel",
      "state": {}
     },
     "6ddaf506d89446ab8c9279f448ce7c2d": {
      "model_module": "@jupyter-widgets/base",
      "model_module_version": "1.2.0",
      "model_name": "LayoutModel",
      "state": {}
     },
     "6ddb8b4623c04b948807632b3bd77bcc": {
      "model_module": "@jupyter-widgets/controls",
      "model_module_version": "1.5.0",
      "model_name": "HTMLModel",
      "state": {
       "layout": "IPY_MODEL_25853295a5ac41e68854385f051f1571",
       "style": "IPY_MODEL_ea7fd28407d14cb1bb768357ddd1bc2b"
      }
     },
     "6e1fa0ca79d24412921e332944313b7e": {
      "model_module": "@jupyter-widgets/controls",
      "model_module_version": "1.5.0",
      "model_name": "RadioButtonsModel",
      "state": {
       "_options_labels": [
        "sensor location + (dx, dy, dz)",
        "topo + radar + (dx, dy, dz)"
       ],
       "description": "Define by:",
       "index": 1,
       "layout": "IPY_MODEL_a137f610bcb44c82aed71f2937f39e25",
       "style": "IPY_MODEL_eef3c8cf43cf49dbbda38c543ddf2323"
      }
     },
     "6e310c4a82c04d47a125f0cce9b3a85d": {
      "model_module": "@jupyter-widgets/base",
      "model_module_version": "1.2.0",
      "model_name": "LayoutModel",
      "state": {}
     },
     "6e63b98ee79641a285ad5ab6bfb07cb1": {
      "model_module": "@jupyter-widgets/base",
      "model_module_version": "1.2.0",
      "model_name": "LayoutModel",
      "state": {}
     },
     "6ecfe6cff1fe47fd9f09fc926489acf3": {
      "model_module": "@jupyter-widgets/controls",
      "model_module_version": "1.5.0",
      "model_name": "HBoxModel",
      "state": {
       "children": [
        "IPY_MODEL_71d897d7a3f34be593b3c047c52650ea",
        "IPY_MODEL_a628c2bd4df04e17841d19729a700a0c",
        "IPY_MODEL_e1ef305d28a34ccc85abb74574b09342"
       ],
       "layout": "IPY_MODEL_d7a5225846884a45b069ff54b8f15ff5"
      }
     },
     "6edf5646ca1146f5891adce19d1eba54": {
      "model_module": "@jupyter-widgets/controls",
      "model_module_version": "1.5.0",
      "model_name": "DescriptionStyleModel",
      "state": {
       "description_width": ""
      }
     },
     "6eec68b32f29401c90ce8efeefe687a3": {
      "model_module": "@jupyter-widgets/controls",
      "model_module_version": "1.5.0",
      "model_name": "DescriptionStyleModel",
      "state": {
       "description_width": ""
      }
     },
     "6f0906f7de59432f8ded30fc94cc4b14": {
      "model_module": "@jupyter-widgets/controls",
      "model_module_version": "1.5.0",
      "model_name": "ButtonStyleModel",
      "state": {}
     },
     "6f2a7ab7c7ce4992a5a5675b8adc664c": {
      "model_module": "@jupyter-widgets/base",
      "model_module_version": "1.2.0",
      "model_name": "LayoutModel",
      "state": {
       "grid_area": "dircontent",
       "width": "auto"
      }
     },
     "6f5f1495807f4b75bee0731bd6fec0b2": {
      "model_module": "@jupyter-widgets/controls",
      "model_module_version": "1.5.0",
      "model_name": "DescriptionStyleModel",
      "state": {
       "description_width": "initial"
      }
     },
     "6fc7911cc05f464784272d1c39309cd2": {
      "model_module": "@jupyter-widgets/base",
      "model_module_version": "1.2.0",
      "model_name": "LayoutModel",
      "state": {
       "visibility": "hidden"
      }
     },
     "6ffe10b948f346458ec580ff59571475": {
      "model_module": "@jupyter-widgets/controls",
      "model_module_version": "1.5.0",
      "model_name": "ToggleButtonModel",
      "state": {
       "layout": "IPY_MODEL_14220a3b15a542079e0ed48b7ec5800f",
       "style": "IPY_MODEL_d4bc262a292a4b1187d650757f116052",
       "value": true
      }
     },
     "701c4e2c8462447e950319a2ad93c1e8": {
      "model_module": "@jupyter-widgets/base",
      "model_module_version": "1.2.0",
      "model_name": "LayoutModel",
      "state": {}
     },
     "708d96f216ab478d900d9d22dc9276d2": {
      "model_module": "@jupyter-widgets/controls",
      "model_module_version": "1.5.0",
      "model_name": "VBoxModel",
      "state": {
       "children": [
        "IPY_MODEL_907a42aac32944aa9cf0f367919aa2bb"
       ],
       "layout": "IPY_MODEL_39e573e4a7d547adadb87ea6f19f46f0"
      }
     },
     "709b4ab7d02d4822bf850fb2a4870b64": {
      "model_module": "@jupyter-widgets/controls",
      "model_module_version": "1.5.0",
      "model_name": "DescriptionStyleModel",
      "state": {
       "description_width": "initial"
      }
     },
     "712f5e68587645359eedba3fc270a1fb": {
      "model_module": "@jupyter-widgets/base",
      "model_module_version": "1.2.0",
      "model_name": "LayoutModel",
      "state": {}
     },
     "7152c4160baa42958b65a12fbd332a68": {
      "model_module": "@jupyter-widgets/base",
      "model_module_version": "1.2.0",
      "model_name": "LayoutModel",
      "state": {}
     },
     "717df970772b4d09a8a1fe61b768db61": {
      "model_module": "@jupyter-widgets/base",
      "model_module_version": "1.2.0",
      "model_name": "LayoutModel",
      "state": {}
     },
     "71d4fa996bad468884d8661908ea4b4e": {
      "model_module": "@jupyter-widgets/controls",
      "model_module_version": "1.5.0",
      "model_name": "TextModel",
      "state": {
       "description": "Lower bound value",
       "layout": "IPY_MODEL_f53ee99ca5524ba6945891595eb1412d",
       "style": "IPY_MODEL_6eec68b32f29401c90ce8efeefe687a3"
      }
     },
     "71d897d7a3f34be593b3c047c52650ea": {
      "model_module": "@jupyter-widgets/controls",
      "model_module_version": "1.5.0",
      "model_name": "ButtonModel",
      "state": {
       "description": "Select",
       "layout": "IPY_MODEL_aa336c43c97042eb8103464891c62857",
       "style": "IPY_MODEL_ef8df1c4c9ca46cbb1500bf4699f7abb"
      }
     },
     "7272ba688516428a94863f4b864a993b": {
      "model_module": "@jupyter-widgets/controls",
      "model_module_version": "1.5.0",
      "model_name": "ButtonStyleModel",
      "state": {}
     },
     "727c6b4bd22d4aeea980edea113bce88": {
      "model_module": "@jupyter-widgets/base",
      "model_module_version": "1.2.0",
      "model_name": "LayoutModel",
      "state": {
       "grid_area": "pathlist",
       "width": "auto"
      }
     },
     "7298c0b7cda0483eb048560b3375c541": {
      "model_module": "@jupyter-widgets/controls",
      "model_module_version": "1.5.0",
      "model_name": "FloatSliderModel",
      "state": {
       "continuous_update": false,
       "description": "Width",
       "layout": "IPY_MODEL_770f7847cf234b94b71bbc868cf49def",
       "max": 7335.505938563321,
       "step": 0.1,
       "style": "IPY_MODEL_1cd1286207a84eb4b830d1012c605257",
       "value": 1000
      }
     },
     "72a804eafbcf406b8d07afa744840cfa": {
      "model_module": "@jupyter-widgets/controls",
      "model_module_version": "1.5.0",
      "model_name": "VBoxModel",
      "state": {
       "children": [
        "IPY_MODEL_4b26e68ed3d644048a205121f5949e7a",
        "IPY_MODEL_6ac9b477e2da4893b7d3425df84765f0"
       ],
       "layout": "IPY_MODEL_b70f14db11f241419339865faff9d793"
      }
     },
     "7304573235dc4c0a9e7ef6ad0decbab4": {
      "model_module": "@jupyter-widgets/base",
      "model_module_version": "1.2.0",
      "model_name": "LayoutModel",
      "state": {
       "width": "auto"
      }
     },
     "730d68b3f5df440e9039a82542ad845f": {
      "model_module": "@jupyter-widgets/controls",
      "model_module_version": "1.5.0",
      "model_name": "LabelModel",
      "state": {
       "layout": "IPY_MODEL_264ec18d24e6410fa56377c3dd93e32a",
       "style": "IPY_MODEL_9f5e72125c374266a6d38280cafc4501",
       "value": "Data Count: 0"
      }
     },
     "7365c362b71c4963a430f827b119e59c": {
      "model_module": "@jupyter-widgets/controls",
      "model_module_version": "1.5.0",
      "model_name": "SelectMultipleModel",
      "state": {
       "_options_labels": [
        "",
        "--- Channels ---",
        "Airborne_Gxx",
        "Airborne_Gxy",
        "Airborne_Gxz",
        "Airborne_Gyy",
        "Airborne_Gyz",
        "Airborne_Gz",
        "Airborne_Gzz",
        "Airborne_TMI",
        "Ground_Gz",
        "Z"
       ],
       "description": "Data: ",
       "index": [
        9
       ],
       "layout": "IPY_MODEL_bb5facfc476b49f78722ecd9aed4f6a0",
       "rows": 5,
       "style": "IPY_MODEL_2454e989f8cf4e97afe7b3a71ba1b361"
      }
     },
     "7386f79eaf804eecb8faa4c7020bdcdc": {
      "model_module": "@jupyter-widgets/controls",
      "model_module_version": "1.5.0",
      "model_name": "VBoxModel",
      "state": {
       "children": [
        "IPY_MODEL_350640015a374525bc145351eb7b5310",
        "IPY_MODEL_e7f11ab8858a4614b2eb69c2ee810093"
       ],
       "layout": "IPY_MODEL_8ad151a34b6f4cea981f75c5f538864c"
      }
     },
     "739dfddfd11d4057b93cebf8e3d8b2c0": {
      "model_module": "@jupyter-widgets/base",
      "model_module_version": "1.2.0",
      "model_name": "LayoutModel",
      "state": {}
     },
     "73ef5f0bbb3944bcaf6acb9deb2609bd": {
      "model_module": "@jupyter-widgets/controls",
      "model_module_version": "1.5.0",
      "model_name": "DescriptionStyleModel",
      "state": {
       "description_width": ""
      }
     },
     "7403af9dccd94d0c9778398f7f9e246c": {
      "model_module": "@jupyter-widgets/base",
      "model_module_version": "1.2.0",
      "model_name": "LayoutModel",
      "state": {
       "grid_area": "dircontent",
       "width": "auto"
      }
     },
     "741c9db0a6e54c50980d8cb22ff9f75d": {
      "model_module": "@jupyter-widgets/base",
      "model_module_version": "1.2.0",
      "model_name": "LayoutModel",
      "state": {}
     },
     "741d91646ccb49cd81e34251cde83451": {
      "model_module": "@jupyter-widgets/controls",
      "model_module_version": "1.5.0",
      "model_name": "DescriptionStyleModel",
      "state": {
       "description_width": "initial"
      }
     },
     "74274c9008cb4c478020a5212eb1e5e5": {
      "model_module": "@jupyter-widgets/base",
      "model_module_version": "1.2.0",
      "model_name": "LayoutModel",
      "state": {}
     },
     "7483183cf8f641b8965c90d7ef11cfb5": {
      "model_module": "@jupyter-widgets/controls",
      "model_module_version": "1.5.0",
      "model_name": "DescriptionStyleModel",
      "state": {
       "description_width": ""
      }
     },
     "7488732c4fbb41beb17f2d520fef013a": {
      "model_module": "@jupyter-widgets/controls",
      "model_module_version": "1.5.0",
      "model_name": "DropdownModel",
      "state": {
       "_options_labels": [
        "",
        "--- Channels ---",
        "Airborne_Gxx",
        "Airborne_Gxy",
        "Airborne_Gxz",
        "Airborne_Gyy",
        "Airborne_Gyz",
        "Airborne_Gz",
        "Airborne_Gzz",
        "Airborne_TMI",
        "Ground_Gz",
        "Z"
       ],
       "description": "Channel <=> Data:",
       "index": 11,
       "layout": "IPY_MODEL_eb283e15f9374b9aa311c966f176ef5f",
       "style": "IPY_MODEL_078cb0ffd53f498dadb72a5ab539fed7"
      }
     },
     "74a2aa72c6284f198eda68556d68c58c": {
      "model_module": "@jupyter-widgets/controls",
      "model_module_version": "1.5.0",
      "model_name": "TextModel",
      "state": {
       "description": "bxx",
       "layout": "IPY_MODEL_81090d22ddcb44358af41f532796d03c",
       "style": "IPY_MODEL_040771ca06294d2a8a7ead533fe9017a"
      }
     },
     "74d5d5882b2c40dabefb1e9a50854fce": {
      "model_module": "@jupyter-widgets/controls",
      "model_module_version": "1.5.0",
      "model_name": "TextModel",
      "state": {
       "description": "Inducing Field [Amp, Inc, Dec]",
       "layout": "IPY_MODEL_3f5d5214ee4a40fbbe70ba4b0154e38b",
       "style": "IPY_MODEL_1dda64940f7346dba908336cd0c36294",
       "value": "60000, 79, 11"
      }
     },
     "754bcc5110254667986af33efb71bede": {
      "model_module": "@jupyter-widgets/controls",
      "model_module_version": "1.5.0",
      "model_name": "TextModel",
      "state": {
       "description": "Offsets (x,y,z)",
       "layout": "IPY_MODEL_c5ab38013a1640e1a02129d1e3fb2c21",
       "style": "IPY_MODEL_0b60fd2167b24c71ac98ba60d5f53a48",
       "value": "0, 0, 0"
      }
     },
     "7556d668cd6446b7bd8abcd9aeac567c": {
      "model_module": "@jupyter-widgets/controls",
      "model_module_version": "1.5.0",
      "model_name": "VBoxModel",
      "state": {
       "children": [
        "IPY_MODEL_3d78c67d82e8497f8f51f216c2162cb8",
        "IPY_MODEL_76dccaf50ff34a078b3fd061e8f98e1a"
       ],
       "layout": "IPY_MODEL_3f803806df0a423fb335b7081c1bd3de"
      }
     },
     "755b478d301e4243ad8cce4cedd9fac6": {
      "model_module": "@jupyter-widgets/controls",
      "model_module_version": "1.5.0",
      "model_name": "VBoxModel",
      "state": {
       "children": [
        "IPY_MODEL_1d688f58eaf0459a87d86b59f033aba8",
        "IPY_MODEL_d4caa0b7702e403784edfb4853659cbe"
       ],
       "layout": "IPY_MODEL_cdfafce632934bfaab0d5aa458a52363"
      }
     },
     "7576b7e38d30410785846a97530e3f11": {
      "model_module": "@jupyter-widgets/base",
      "model_module_version": "1.2.0",
      "model_name": "LayoutModel",
      "state": {}
     },
     "7585933afa3b4d48822978250af43be2": {
      "model_module": "@jupyter-widgets/controls",
      "model_module_version": "1.5.0",
      "model_name": "VBoxModel",
      "state": {
       "children": [
        "IPY_MODEL_2c84a37587b44dab9aa62840d293bfdc",
        "IPY_MODEL_8fb5b39717d346bdbab3b0d4c72bcbd1"
       ],
       "layout": "IPY_MODEL_de41095bb8804ea79d3abb4312ff1e5b"
      }
     },
     "75a6b1d7f6f945dcb8f67808ccd9c421": {
      "model_module": "@jupyter-widgets/controls",
      "model_module_version": "1.5.0",
      "model_name": "TextModel",
      "state": {
       "layout": "IPY_MODEL_c2026d980feb4ae79b5c2b82da4d9c4f",
       "placeholder": "output filename",
       "style": "IPY_MODEL_ab7d3b2bbe124950ad1347b4823178da"
      }
     },
     "75af59c94d21449ebb8398298a4c5705": {
      "model_module": "@jupyter-widgets/controls",
      "model_module_version": "1.5.0",
      "model_name": "ButtonStyleModel",
      "state": {}
     },
     "75b6d8af8f3e4630ac6592ce9d4e730c": {
      "model_module": "@jupyter-widgets/controls",
      "model_module_version": "1.5.0",
      "model_name": "DescriptionStyleModel",
      "state": {
       "description_width": "initial"
      }
     },
     "75c65f3ddba04e38be542c27e7cb35ea": {
      "model_module": "@jupyter-widgets/base",
      "model_module_version": "1.2.0",
      "model_name": "LayoutModel",
      "state": {}
     },
     "75e0f1ff38854145ae997b9abcd04d53": {
      "model_module": "@jupyter-widgets/base",
      "model_module_version": "1.2.0",
      "model_name": "LayoutModel",
      "state": {}
     },
     "75e79602b1954615a1bbbc5f7a410d09": {
      "model_module": "@jupyter-widgets/controls",
      "model_module_version": "1.5.0",
      "model_name": "DescriptionStyleModel",
      "state": {
       "description_width": ""
      }
     },
     "761c0c2a32474f9bbc02dfe912285f6e": {
      "model_module": "@jupyter-widgets/base",
      "model_module_version": "1.2.0",
      "model_name": "LayoutModel",
      "state": {
       "grid_area": "pathlist",
       "width": "auto"
      }
     },
     "762bd5dde3264b5795968ce1761994d1": {
      "model_module": "@jupyter-widgets/base",
      "model_module_version": "1.2.0",
      "model_name": "LayoutModel",
      "state": {}
     },
     "764acf07dd5b4b8c8120710ca31dd244": {
      "model_module": "@jupyter-widgets/controls",
      "model_module_version": "1.5.0",
      "model_name": "DescriptionStyleModel",
      "state": {
       "description_width": "initial"
      }
     },
     "7658f4e451df4a6caac439f170751806": {
      "model_module": "@jupyter-widgets/controls",
      "model_module_version": "1.5.0",
      "model_name": "TextModel",
      "state": {
       "continuous_update": false,
       "description": "Group:",
       "layout": "IPY_MODEL_1b771bb774a046dc853944418579b0e5",
       "style": "IPY_MODEL_aa09f3689b914cda92008f8deb2422db"
      }
     },
     "76a6e4c6e7114457ac1a2d904f4c4a4c": {
      "model_module": "@jupyter-widgets/controls",
      "model_module_version": "1.5.0",
      "model_name": "DescriptionStyleModel",
      "state": {
       "description_width": "initial"
      }
     },
     "76dccaf50ff34a078b3fd061e8f98e1a": {
      "model_module": "@jupyter-widgets/controls",
      "model_module_version": "1.5.0",
      "model_name": "VBoxModel",
      "state": {
       "children": [
        "IPY_MODEL_a53990c735674dfbb4f5ef8f61783e35",
        "IPY_MODEL_34f6bee24da8492aace9903c2d1134c9"
       ],
       "layout": "IPY_MODEL_798932c52dd541239fd469632eb51b67"
      }
     },
     "770f7847cf234b94b71bbc868cf49def": {
      "model_module": "@jupyter-widgets/base",
      "model_module_version": "1.2.0",
      "model_name": "LayoutModel",
      "state": {}
     },
     "775c4e7095824d30833adf5576dea028": {
      "model_module": "@jupyter-widgets/controls",
      "model_module_version": "1.5.0",
      "model_name": "VBoxModel",
      "state": {
       "children": [
        "IPY_MODEL_a456d54e34fb45ac9a17c207cf2fd360",
        "IPY_MODEL_96f8881cde7b43a5ab1b25a6a75a1431"
       ],
       "layout": "IPY_MODEL_e0acf802246e4921aa6c5fb0461032b8"
      }
     },
     "77875d579b1f4fab8f8d9f1c71ecafe8": {
      "model_module": "@jupyter-widgets/controls",
      "model_module_version": "1.5.0",
      "model_name": "DropdownModel",
      "state": {
       "_options_labels": [
        "C:\\Users\\dominiquef\\Documents\\GIT\\mira\\mirageoscience-apps\\docs\\content\\applications",
        "C:\\Users\\dominiquef\\Documents\\GIT\\mira\\mirageoscience-apps\\docs\\content",
        "C:\\Users\\dominiquef\\Documents\\GIT\\mira\\mirageoscience-apps\\docs",
        "C:\\Users\\dominiquef\\Documents\\GIT\\mira\\mirageoscience-apps",
        "C:\\Users\\dominiquef\\Documents\\GIT\\mira",
        "C:\\Users\\dominiquef\\Documents\\GIT",
        "C:\\Users\\dominiquef\\Documents",
        "C:\\Users\\dominiquef",
        "C:\\Users",
        "C:\\",
        "D:\\",
        "Z:\\"
       ],
       "index": 0,
       "layout": "IPY_MODEL_5927777049d946cd9009d319c7bc12e8",
       "style": "IPY_MODEL_cdcb9ad03f564309b6ae84086007f871"
      }
     },
     "783dd56e839a4ed597fa9549901c3da5": {
      "model_module": "@jupyter-widgets/controls",
      "model_module_version": "1.5.0",
      "model_name": "VBoxModel",
      "state": {
       "children": [
        "IPY_MODEL_b69cc4dfc77e4424afa73be1d1b2611d",
        "IPY_MODEL_9d4f174c47394969a3a696c55f626be6"
       ],
       "layout": "IPY_MODEL_cbf1edb1336642f4bb6bf1754837c58d"
      }
     },
     "784dd99c3cac46a39af618e4ae3fc23b": {
      "model_module": "@jupyter-widgets/base",
      "model_module_version": "1.2.0",
      "model_name": "LayoutModel",
      "state": {}
     },
     "7861cf9356fe4d61af04cd4203e54e0d": {
      "model_module": "@jupyter-widgets/controls",
      "model_module_version": "1.5.0",
      "model_name": "TextModel",
      "state": {
       "description": "Error (%, floor)",
       "layout": "IPY_MODEL_b4533530a7db40a8bf9994a739696407",
       "style": "IPY_MODEL_709b4ab7d02d4822bf850fb2a4870b64",
       "value": "0, 1"
      }
     },
     "788e714cb8a24f8586fcff766d7731e4": {
      "model_module": "@jupyter-widgets/base",
      "model_module_version": "1.2.0",
      "model_name": "LayoutModel",
      "state": {}
     },
     "78a487d19dee4597a9eb3de833631966": {
      "model_module": "@jupyter-widgets/base",
      "model_module_version": "1.2.0",
      "model_name": "LayoutModel",
      "state": {
       "display": "none",
       "grid_gap": "0px 0px",
       "grid_template_areas": "\n                    'pathlist filename'\n                    'dircontent dircontent'\n                    ",
       "grid_template_columns": "60% 40%",
       "grid_template_rows": "auto auto",
       "width": "500px"
      }
     },
     "78c1185204f644c2b7ec94eed796c5b3": {
      "model_module": "@jupyter-widgets/controls",
      "model_module_version": "1.5.0",
      "model_name": "DescriptionStyleModel",
      "state": {
       "description_width": ""
      }
     },
     "78e648e3988d472e9e9701f27db13ff7": {
      "model_module": "@jupyter-widgets/base",
      "model_module_version": "1.2.0",
      "model_name": "LayoutModel",
      "state": {}
     },
     "7903391db6b04959818fbe9ea8a075c9": {
      "model_module": "@jupyter-widgets/controls",
      "model_module_version": "1.5.0",
      "model_name": "LabelModel",
      "state": {
       "layout": "IPY_MODEL_41a79da890644063876447c3969063e0",
       "style": "IPY_MODEL_1049a11bfb1a49bb8720da38d69eb566",
       "value": "Inversion Options"
      }
     },
     "792b0f8689b441b4b41b1f1e0d2c12a6": {
      "model_module": "@jupyter-widgets/controls",
      "model_module_version": "1.5.0",
      "model_name": "DescriptionStyleModel",
      "state": {
       "description_width": "initial"
      }
     },
     "794660c80f7246d6917fb0c6b1814379": {
      "model_module": "@jupyter-widgets/controls",
      "model_module_version": "1.5.0",
      "model_name": "DescriptionStyleModel",
      "state": {
       "description_width": ""
      }
     },
     "794be0481f354a63bd2ca71d9538aa1d": {
      "model_module": "@jupyter-widgets/controls",
      "model_module_version": "1.5.0",
      "model_name": "SliderStyleModel",
      "state": {
       "description_width": ""
      }
     },
     "7986fa2bcc8d48ceb99168ba1e7389c5": {
      "model_module": "@jupyter-widgets/controls",
      "model_module_version": "1.5.0",
      "model_name": "DescriptionStyleModel",
      "state": {
       "description_width": ""
      }
     },
     "798932c52dd541239fd469632eb51b67": {
      "model_module": "@jupyter-widgets/base",
      "model_module_version": "1.2.0",
      "model_name": "LayoutModel",
      "state": {}
     },
     "798ba0a441c34a1da075d0965ae34882": {
      "model_module": "@jupyter-widgets/controls",
      "model_module_version": "1.5.0",
      "model_name": "ButtonModel",
      "state": {
       "description": "Create copy:",
       "layout": "IPY_MODEL_a309a67eacae422c89f6a0622e79a6af",
       "style": "IPY_MODEL_8073ff41cfe64271aeabe826bac407aa"
      }
     },
     "79a55bfc1137485c8d04be955725d39c": {
      "model_module": "@jupyter-widgets/controls",
      "model_module_version": "1.5.0",
      "model_name": "DescriptionStyleModel",
      "state": {
       "description_width": ""
      }
     },
     "79bb662809be4fa9863f5755badc4a61": {
      "model_module": "@jupyter-widgets/base",
      "model_module_version": "1.2.0",
      "model_name": "LayoutModel",
      "state": {
       "grid_area": "pathlist",
       "width": "auto"
      }
     },
     "79ea71c2b34f485da747ea3384ffeabe": {
      "model_module": "@jupyter-widgets/base",
      "model_module_version": "1.2.0",
      "model_name": "LayoutModel",
      "state": {}
     },
     "7a14ab3e62c2468d89079ec2e53d0f0a": {
      "model_module": "@jupyter-widgets/base",
      "model_module_version": "1.2.0",
      "model_name": "LayoutModel",
      "state": {}
     },
     "7a1f6cd397b5401f9a55015ce8be1044": {
      "model_module": "@jupyter-widgets/controls",
      "model_module_version": "1.5.0",
      "model_name": "ButtonModel",
      "state": {
       "description": "Cancel",
       "layout": "IPY_MODEL_bbef89fbcfcb4306990771f6aa774b56",
       "style": "IPY_MODEL_14376f72eefc4f0f8156a21946f7de06"
      }
     },
     "7a4d17d4ea304955b56453507667c093": {
      "model_module": "@jupyter-widgets/base",
      "model_module_version": "1.2.0",
      "model_name": "LayoutModel",
      "state": {
       "width": "auto"
      }
     },
     "7aa1bda9c0cf4fa8b3cc857934994180": {
      "model_module": "@jupyter-widgets/controls",
      "model_module_version": "1.5.0",
      "model_name": "DescriptionStyleModel",
      "state": {
       "description_width": ""
      }
     },
     "7acf792ce5c64ea0acfabe2ea7edd4ad": {
      "model_module": "@jupyter-widgets/base",
      "model_module_version": "1.2.0",
      "model_name": "LayoutModel",
      "state": {}
     },
     "7aeec61292564022a11e84f7475d377f": {
      "model_module": "@jupyter-widgets/controls",
      "model_module_version": "1.5.0",
      "model_name": "ButtonStyleModel",
      "state": {}
     },
     "7aefe9a774c34db49aa97dfca15f3475": {
      "model_module": "@jupyter-widgets/base",
      "model_module_version": "1.2.0",
      "model_name": "LayoutModel",
      "state": {}
     },
     "7b98cc05c39544339efa659ff5247460": {
      "model_module": "@jupyter-widgets/controls",
      "model_module_version": "1.5.0",
      "model_name": "VBoxModel",
      "state": {
       "children": [
        "IPY_MODEL_b70bd0d233934e998a14c633f7697bee",
        "IPY_MODEL_c1fd0e4bb7244a82ad3fbd49b32d180d"
       ],
       "layout": "IPY_MODEL_b441fa7004bf4c09a00a5d32f38524a7"
      }
     },
     "7c333680e65745f8be8ed16e1666e517": {
      "model_module": "@jupyter-widgets/controls",
      "model_module_version": "1.5.0",
      "model_name": "DescriptionStyleModel",
      "state": {
       "description_width": "initial"
      }
     },
     "7c6681cf6b164698aae06e6ac0d4621b": {
      "model_module": "@jupyter-widgets/base",
      "model_module_version": "1.2.0",
      "model_name": "LayoutModel",
      "state": {}
     },
     "7c6cea3eb349472299f441e22650f4ce": {
      "model_module": "@jupyter-widgets/controls",
      "model_module_version": "1.5.0",
      "model_name": "DescriptionStyleModel",
      "state": {
       "description_width": ""
      }
     },
     "7cd548d73ffd4c01a4f7d1ac9d20306a": {
      "model_module": "@jupyter-widgets/controls",
      "model_module_version": "1.5.0",
      "model_name": "DescriptionStyleModel",
      "state": {
       "description_width": ""
      }
     },
     "7cd9e35c5d70413e8ac6fca129647be4": {
      "model_module": "@jupyter-widgets/base",
      "model_module_version": "1.2.0",
      "model_name": "LayoutModel",
      "state": {
       "width": "auto"
      }
     },
     "7d1c8bba29694919bab4b65ebd77d684": {
      "model_module": "@jupyter-widgets/controls",
      "model_module_version": "1.5.0",
      "model_name": "HBoxModel",
      "state": {
       "children": [
        "IPY_MODEL_52a8540cdfd542cba5ccd6f2352af1c0",
        "IPY_MODEL_5a4032e9430f44be88d34740fbfa4011"
       ],
       "layout": "IPY_MODEL_cdb4ae84f68442bbbf115b8c336295f3"
      }
     },
     "7d3e692cf2744de4bb9d650bba668c6e": {
      "model_module": "@jupyter-widgets/base",
      "model_module_version": "1.2.0",
      "model_name": "LayoutModel",
      "state": {}
     },
     "7d5e7a41becb489988cbecaf1bd042ed": {
      "model_module": "@jupyter-widgets/controls",
      "model_module_version": "1.5.0",
      "model_name": "DescriptionStyleModel",
      "state": {
       "description_width": ""
      }
     },
     "7d94222872eb4ed092eabd84f9fdff06": {
      "model_module": "@jupyter-widgets/controls",
      "model_module_version": "1.5.0",
      "model_name": "DropdownModel",
      "state": {
       "_options_labels": [
        "C:\\Users\\dominiquef\\Documents\\GIT\\mira\\mirageoscience-apps\\docs\\content\\applications",
        "C:\\Users\\dominiquef\\Documents\\GIT\\mira\\mirageoscience-apps\\docs\\content",
        "C:\\Users\\dominiquef\\Documents\\GIT\\mira\\mirageoscience-apps\\docs",
        "C:\\Users\\dominiquef\\Documents\\GIT\\mira\\mirageoscience-apps",
        "C:\\Users\\dominiquef\\Documents\\GIT\\mira",
        "C:\\Users\\dominiquef\\Documents\\GIT",
        "C:\\Users\\dominiquef\\Documents",
        "C:\\Users\\dominiquef",
        "C:\\Users",
        "C:\\",
        "D:\\",
        "Z:\\"
       ],
       "index": 0,
       "layout": "IPY_MODEL_b2cfa99daaf940eb80ccfc175eec397a",
       "style": "IPY_MODEL_1ac0597092ae48038e815143f04e24fa"
      }
     },
     "7d943f22b3fb48f9928680bca687f657": {
      "model_module": "@jupyter-widgets/controls",
      "model_module_version": "1.5.0",
      "model_name": "DescriptionStyleModel",
      "state": {
       "description_width": "initial"
      }
     },
     "7e0eb8c345b847eabfa6a6d78312edf7": {
      "model_module": "@jupyter-widgets/controls",
      "model_module_version": "1.5.0",
      "model_name": "ButtonStyleModel",
      "state": {}
     },
     "7e3fa7d7aa9b49248123d99ee99c12d5": {
      "model_module": "@jupyter-widgets/base",
      "model_module_version": "1.2.0",
      "model_name": "LayoutModel",
      "state": {}
     },
     "7e4b56a3b8874272b8c32083a7d3d330": {
      "model_module": "@jupyter-widgets/controls",
      "model_module_version": "1.5.0",
      "model_name": "DescriptionStyleModel",
      "state": {
       "description_width": ""
      }
     },
     "7e5c109b7f9a4eee8097c5a3cc65598e": {
      "model_module": "@jupyter-widgets/controls",
      "model_module_version": "1.5.0",
      "model_name": "DescriptionStyleModel",
      "state": {
       "description_width": ""
      }
     },
     "7e65ce87dd0645ffbbd7e7650f0b09d2": {
      "model_module": "@jupyter-widgets/controls",
      "model_module_version": "1.5.0",
      "model_name": "DescriptionStyleModel",
      "state": {
       "description_width": ""
      }
     },
     "7e8a21da6769439fbe2239b6c11b8357": {
      "model_module": "@jupyter-widgets/controls",
      "model_module_version": "1.5.0",
      "model_name": "TextModel",
      "state": {
       "continuous_update": false,
       "description": "Group:",
       "layout": "IPY_MODEL_592a24c9710641eb986485a3f4a33e7e",
       "style": "IPY_MODEL_d8448454966345ecb3b1927503954d4b"
      }
     },
     "7edc29b7adaa43cb9ab1c79b703bf96c": {
      "model_module": "@jupyter-widgets/controls",
      "model_module_version": "1.5.0",
      "model_name": "ButtonStyleModel",
      "state": {}
     },
     "7ee2cb39d77c4bacb26cc5b0fafbc0f5": {
      "model_module": "@jupyter-widgets/base",
      "model_module_version": "1.2.0",
      "model_name": "LayoutModel",
      "state": {
       "width": "auto"
      }
     },
     "7f5529f2a8ba49b2bc26731bcc4459a1": {
      "model_module": "@jupyter-widgets/controls",
      "model_module_version": "1.5.0",
      "model_name": "DescriptionStyleModel",
      "state": {
       "description_width": "initial"
      }
     },
     "7f755aa26ab342f7a17cbf5e1ca05bc4": {
      "model_module": "@jupyter-widgets/base",
      "model_module_version": "1.2.0",
      "model_name": "LayoutModel",
      "state": {
       "width": "auto"
      }
     },
     "7f7bc9499d754d0cac1508e7761230aa": {
      "model_module": "@jupyter-widgets/controls",
      "model_module_version": "1.5.0",
      "model_name": "DescriptionStyleModel",
      "state": {
       "description_width": ""
      }
     },
     "7f8aa7536e36415b9ac64645fa7228ea": {
      "model_module": "@jupyter-widgets/base",
      "model_module_version": "1.2.0",
      "model_name": "LayoutModel",
      "state": {}
     },
     "7f93051f6d5f47feb2942010baa4d667": {
      "model_module": "@jupyter-widgets/controls",
      "model_module_version": "1.5.0",
      "model_name": "VBoxModel",
      "state": {
       "children": [
        "IPY_MODEL_b43195b62a7e44c4905428e447fbffc2",
        "IPY_MODEL_f513a63b09c447258607420f2d63722c"
       ],
       "layout": "IPY_MODEL_626be5910a4042e08846302ccdc7b6bb"
      }
     },
     "7f9c7b88009d4c45921559b4a7a128a4": {
      "model_module": "@jupyter-widgets/controls",
      "model_module_version": "1.5.0",
      "model_name": "ButtonStyleModel",
      "state": {}
     },
     "7fcd561ce7bf4f7a8841f103cb4f9744": {
      "model_module": "@jupyter-widgets/controls",
      "model_module_version": "1.5.0",
      "model_name": "VBoxModel",
      "state": {
       "children": [
        "IPY_MODEL_0de5a9a5a0344ddf869dbb12f6c30d25",
        "IPY_MODEL_c1fd0e4bb7244a82ad3fbd49b32d180d"
       ],
       "layout": "IPY_MODEL_d800aae6c3da40a08e5d22bab6000673"
      }
     },
     "7fe538d76efd4ca39a03e9080bc95715": {
      "model_module": "@jupyter-widgets/controls",
      "model_module_version": "1.5.0",
      "model_name": "LabelModel",
      "state": {
       "layout": "IPY_MODEL_19c47393fcde43d9b5948508e3fcdc7c",
       "style": "IPY_MODEL_f82242f158684a5c9d335dfc831d5395",
       "value": "Reference effective susceptibility"
      }
     },
     "800115d9c2f049c49959c87f063b357d": {
      "model_module": "@jupyter-widgets/base",
      "model_module_version": "1.2.0",
      "model_name": "LayoutModel",
      "state": {
       "display": "none",
       "width": "auto"
      }
     },
     "80344520dfa24b6593c40eb49039c4a6": {
      "model_module": "@jupyter-widgets/base",
      "model_module_version": "1.2.0",
      "model_name": "LayoutModel",
      "state": {
       "grid_area": "dircontent",
       "width": "auto"
      }
     },
     "806b203a0441431b94be70735fa988ad": {
      "model_module": "@jupyter-widgets/base",
      "model_module_version": "1.2.0",
      "model_name": "LayoutModel",
      "state": {}
     },
     "8073ff41cfe64271aeabe826bac407aa": {
      "model_module": "@jupyter-widgets/controls",
      "model_module_version": "1.5.0",
      "model_name": "ButtonStyleModel",
      "state": {}
     },
     "807f32783f464e56b2151ad95e05f1d4": {
      "model_module": "@jupyter-widgets/base",
      "model_module_version": "1.2.0",
      "model_name": "LayoutModel",
      "state": {}
     },
     "80846141024c4abfaeaf0975ca298235": {
      "model_module": "@jupyter-widgets/base",
      "model_module_version": "1.2.0",
      "model_name": "LayoutModel",
      "state": {}
     },
     "809dfedcde76412fa8126849e785bdae": {
      "model_module": "@jupyter-widgets/controls",
      "model_module_version": "1.5.0",
      "model_name": "DescriptionStyleModel",
      "state": {
       "description_width": ""
      }
     },
     "80aceb25e5bc4e2cb490d06fa7d07ec9": {
      "model_module": "@jupyter-widgets/controls",
      "model_module_version": "1.5.0",
      "model_name": "DescriptionStyleModel",
      "state": {
       "description_width": ""
      }
     },
     "81090d22ddcb44358af41f532796d03c": {
      "model_module": "@jupyter-widgets/base",
      "model_module_version": "1.2.0",
      "model_name": "LayoutModel",
      "state": {
       "visibility": "hidden"
      }
     },
     "81109405aa45421e9421664cc999b7dd": {
      "model_module": "@jupyter-widgets/controls",
      "model_module_version": "1.5.0",
      "model_name": "DescriptionStyleModel",
      "state": {
       "description_width": ""
      }
     },
     "812d457f406144769072fc5dbcef6ace": {
      "model_module": "@jupyter-widgets/base",
      "model_module_version": "1.2.0",
      "model_name": "LayoutModel",
      "state": {
       "display": "none"
      }
     },
     "813aaea06a10422eaefe29bb12025611": {
      "model_module": "@jupyter-widgets/base",
      "model_module_version": "1.2.0",
      "model_name": "LayoutModel",
      "state": {
       "visibility": "hidden"
      }
     },
     "819450c9819b4880afe80abb5bba735e": {
      "model_module": "@jupyter-widgets/controls",
      "model_module_version": "1.5.0",
      "model_name": "LabelModel",
      "state": {
       "layout": "IPY_MODEL_cfe8f4dcfadd48bdba7bca0b57610c68",
       "style": "IPY_MODEL_d3190d910d4344c2ab2165ec8dbb5dad",
       "value": "Workspace"
      }
     },
     "81980d5381124771a37d0e11a9c53b0b": {
      "model_module": "@jupyter-widgets/controls",
      "model_module_version": "1.5.0",
      "model_name": "DropdownModel",
      "state": {
       "_options_labels": [
        "C:\\Users\\dominiquef\\Documents\\GIT\\mira\\mirageoscience-apps\\docs\\content\\applications",
        "C:\\Users\\dominiquef\\Documents\\GIT\\mira\\mirageoscience-apps\\docs\\content",
        "C:\\Users\\dominiquef\\Documents\\GIT\\mira\\mirageoscience-apps\\docs",
        "C:\\Users\\dominiquef\\Documents\\GIT\\mira\\mirageoscience-apps",
        "C:\\Users\\dominiquef\\Documents\\GIT\\mira",
        "C:\\Users\\dominiquef\\Documents\\GIT",
        "C:\\Users\\dominiquef\\Documents",
        "C:\\Users\\dominiquef",
        "C:\\Users",
        "C:\\",
        "D:\\",
        "Z:\\"
       ],
       "index": 0,
       "layout": "IPY_MODEL_e7c86e0c44a846589f913b0cb59c41b9",
       "style": "IPY_MODEL_ae38f6cdd4234e49aff93a6da2a4796d"
      }
     },
     "81f27206cd294a3981ba9a312652afcc": {
      "model_module": "@jupyter-widgets/base",
      "model_module_version": "1.2.0",
      "model_name": "LayoutModel",
      "state": {}
     },
     "823d941d992a4780aef47724d1f19b72": {
      "model_module": "@jupyter-widgets/controls",
      "model_module_version": "1.5.0",
      "model_name": "DropdownModel",
      "state": {
       "_options_labels": [
        "",
        "--- Channels ---",
        "Airborne_Gxx",
        "Airborne_Gxy",
        "Airborne_Gxz",
        "Airborne_Gyy",
        "Airborne_Gyz",
        "Airborne_Gz",
        "Airborne_Gzz",
        "Airborne_TMI",
        "Ground_Gz",
        "Z"
       ],
       "description": "Lines field",
       "index": 0,
       "layout": "IPY_MODEL_1fa448b6e3f140f19844b9ccd550ff9b",
       "style": "IPY_MODEL_c804689dd2de4c059c637c74e8f6e9fe"
      }
     },
     "82463bd07af641318c18ac7ed79a6c1b": {
      "model_module": "@jupyter-widgets/base",
      "model_module_version": "1.2.0",
      "model_name": "LayoutModel",
      "state": {}
     },
     "825f239f6f9047e69ec08e7ae1461796": {
      "model_module": "@jupyter-widgets/controls",
      "model_module_version": "1.5.0",
      "model_name": "DescriptionStyleModel",
      "state": {
       "description_width": ""
      }
     },
     "829536d03c874ea88fe746adc63eeaae": {
      "model_module": "@jupyter-widgets/controls",
      "model_module_version": "1.5.0",
      "model_name": "FloatTextModel",
      "state": {
       "description": "Elevation (m)",
       "layout": "IPY_MODEL_972511f77a624e13bc8a118e5631b3ee",
       "step": null,
       "style": "IPY_MODEL_0089e41630ef4e8d854999dc694d5515"
      }
     },
     "82d6ee56f7b9485697502055e5403baf": {
      "model_module": "@jupyter-widgets/base",
      "model_module_version": "1.2.0",
      "model_name": "LayoutModel",
      "state": {}
     },
     "82f64f9b7d9c4b6ea56491c80f6f9050": {
      "model_module": "@jupyter-widgets/controls",
      "model_module_version": "1.5.0",
      "model_name": "LabelModel",
      "state": {
       "layout": "IPY_MODEL_17aa2227c01043b9a4fbf760bf34446a",
       "style": "IPY_MODEL_dee71bbd8c434e57902e8c5e0757041b",
       "value": "Octree Mesh"
      }
     },
     "8333fff674f74c8b97042ac9f688967c": {
      "model_module": "@jupyter-widgets/controls",
      "model_module_version": "1.5.0",
      "model_name": "GridBoxModel",
      "state": {
       "children": [
        "IPY_MODEL_1de59ff21e304ee9a3ba0577a351ac84",
        "IPY_MODEL_f5a584c60a8e4342b9674bc86d44cc32",
        "IPY_MODEL_84739d8782ce4471991831296bb51dc9"
       ],
       "layout": "IPY_MODEL_2acd6c6de6154258a3526d871ad7c3f4"
      }
     },
     "83414b4a63bf4c10be0f86f9b9e81cf7": {
      "model_module": "@jupyter-widgets/controls",
      "model_module_version": "1.5.0",
      "model_name": "TextModel",
      "state": {
       "continuous_update": false,
       "description": "Norms p_(s, x, y, z)",
       "layout": "IPY_MODEL_fb9e408e671b467fabd4aa05f57e5260",
       "style": "IPY_MODEL_9e0793c9218d441b8d6a6044712e0008",
       "value": "0, 2, 2, 2"
      }
     },
     "8376b4975d4348e1994f0a89f1e5371a": {
      "model_module": "@jupyter-widgets/base",
      "model_module_version": "1.2.0",
      "model_name": "LayoutModel",
      "state": {}
     },
     "837c260e832c43edaeb3e2bbe04b50a3": {
      "model_module": "@jupyter-widgets/controls",
      "model_module_version": "1.5.0",
      "model_name": "SliderStyleModel",
      "state": {
       "description_width": "initial"
      }
     },
     "83ab5c1be1084871ad14abcab9b65df8": {
      "model_module": "@jupyter-widgets/controls",
      "model_module_version": "1.5.0",
      "model_name": "TextModel",
      "state": {
       "description": "Offsets (x,y,z)",
       "layout": "IPY_MODEL_b44ef4e536f44e938054ebbdcc825823",
       "style": "IPY_MODEL_8572160f7b2f4b7ea93d13c1bf0829b0",
       "value": "0, 0, 0"
      }
     },
     "83cb4087c1ce4a798d24782aba73d35a": {
      "model_module": "@jupyter-widgets/controls",
      "model_module_version": "1.5.0",
      "model_name": "VBoxModel",
      "state": {
       "children": [
        "IPY_MODEL_b15bb2deb85f4b758f9700d77965a8fc",
        "IPY_MODEL_ababb352f5314b80bbb3bffb99ea6570"
       ],
       "layout": "IPY_MODEL_182b40659c114071ae01a7552607e987"
      }
     },
     "83ec486bd48f4ede9943300e9af3115a": {
      "model_module": "@jupyter-widgets/base",
      "model_module_version": "1.2.0",
      "model_name": "LayoutModel",
      "state": {}
     },
     "840d60260f214018a07eefa29121b632": {
      "model_module": "@jupyter-widgets/controls",
      "model_module_version": "1.5.0",
      "model_name": "DescriptionStyleModel",
      "state": {
       "description_width": "initial"
      }
     },
     "8415239a244f43178aa0708e5f95721c": {
      "model_module": "@jupyter-widgets/base",
      "model_module_version": "1.2.0",
      "model_name": "LayoutModel",
      "state": {
       "display": "none",
       "width": "auto"
      }
     },
     "84237b847aa641b4bd6f8a34a5356a6b": {
      "model_module": "@jupyter-widgets/controls",
      "model_module_version": "1.5.0",
      "model_name": "SelectModel",
      "state": {
       "_options_labels": [
        "..",
        "images",
        "Untitled.ipynb",
        "base_application.ipynb",
        "calculator.ipynb",
        "contouring.ipynb",
        "coordinate_transformation.ipynb",
        "create_surface.ipynb",
        "data_interpolation.ipynb",
        "edge_detection.ipynb",
        "export.ipynb",
        "geophysical_inversion.ipynb",
        "object_data_selection.ipynb",
        "scatter.ipynb",
        "view_selection.ipynb"
       ],
       "index": null,
       "layout": "IPY_MODEL_148f3bd5c68c4cc8be93cb028a49c06e",
       "rows": 8,
       "style": "IPY_MODEL_7cd548d73ffd4c01a4f7d1ac9d20306a"
      }
     },
     "84739d8782ce4471991831296bb51dc9": {
      "model_module": "@jupyter-widgets/controls",
      "model_module_version": "1.5.0",
      "model_name": "SelectModel",
      "state": {
       "_options_labels": [
        "..",
        "images",
        "Untitled.ipynb",
        "base_application.ipynb",
        "calculator.ipynb",
        "contouring.ipynb",
        "coordinate_transformation.ipynb",
        "create_surface.ipynb",
        "data_interpolation.ipynb",
        "edge_detection.ipynb",
        "export.ipynb",
        "geophysical_inversion.ipynb",
        "object_data_selection.ipynb",
        "scatter.ipynb",
        "view_selection.ipynb"
       ],
       "index": null,
       "layout": "IPY_MODEL_085d8593483541ffa5cb08015790824b",
       "rows": 8,
       "style": "IPY_MODEL_4188a530ecbe464eba2b02c2d0df2a52"
      }
     },
     "8528212ca2314de5abe517d0206cd079": {
      "model_module": "@jupyter-widgets/controls",
      "model_module_version": "1.5.0",
      "model_name": "DescriptionStyleModel",
      "state": {
       "description_width": ""
      }
     },
     "853927fc600b4cb98be6ad47857d3861": {
      "model_module": "@jupyter-widgets/controls",
      "model_module_version": "1.5.0",
      "model_name": "DescriptionStyleModel",
      "state": {
       "description_width": ""
      }
     },
     "854e59851681441299ca90a5fd9f7e81": {
      "model_module": "@jupyter-widgets/base",
      "model_module_version": "1.2.0",
      "model_name": "LayoutModel",
      "state": {}
     },
     "8572160f7b2f4b7ea93d13c1bf0829b0": {
      "model_module": "@jupyter-widgets/controls",
      "model_module_version": "1.5.0",
      "model_name": "DescriptionStyleModel",
      "state": {
       "description_width": "initial"
      }
     },
     "8573517f27f34051aa60fbd557ef5a02": {
      "model_module": "@jupyter-widgets/controls",
      "model_module_version": "1.5.0",
      "model_name": "DescriptionStyleModel",
      "state": {
       "description_width": "initial"
      }
     },
     "85970a27178a46eb90e14b0557c69eb1": {
      "model_module": "@jupyter-widgets/base",
      "model_module_version": "1.2.0",
      "model_name": "LayoutModel",
      "state": {}
     },
     "85db27af049b46d6b79cc9853a2aeffd": {
      "model_module": "@jupyter-widgets/controls",
      "model_module_version": "1.5.0",
      "model_name": "DescriptionStyleModel",
      "state": {
       "description_width": ""
      }
     },
     "85e42734dfc24c099241b070bee280ee": {
      "model_module": "@jupyter-widgets/controls",
      "model_module_version": "1.5.0",
      "model_name": "LabelModel",
      "state": {
       "layout": "IPY_MODEL_7f8aa7536e36415b9ac64645fa7228ea",
       "style": "IPY_MODEL_69528ac8e1904337afdbc72be9bf4a9a",
       "value": "Monitoring folder"
      }
     },
     "85eff49465fc49de80638cb8d8458977": {
      "model_module": "@jupyter-widgets/base",
      "model_module_version": "1.2.0",
      "model_name": "LayoutModel",
      "state": {}
     },
     "863c897eb6c94c9d9849bffd8f7bf39d": {
      "model_module": "@jupyter-widgets/controls",
      "model_module_version": "1.5.0",
      "model_name": "LabelModel",
      "state": {
       "layout": "IPY_MODEL_8888e7b347de402fb996f7b630db9b23",
       "style": "IPY_MODEL_b3f72ff2997646fe939c74bf6186d250",
       "value": "Monitoring folder"
      }
     },
     "864424a4449746c580a4a08c11194480": {
      "model_module": "@jupyter-widgets/controls",
      "model_module_version": "1.5.0",
      "model_name": "CheckboxModel",
      "state": {
       "description": "Active",
       "disabled": false,
       "layout": "IPY_MODEL_784dd99c3cac46a39af618e4ae3fc23b",
       "style": "IPY_MODEL_5da2dbd06eb2400a9bb9d35ef22c99a1",
       "value": false
      }
     },
     "86a6fe00f7d941e182268d0e410992a7": {
      "model_module": "@jupyter-widgets/base",
      "model_module_version": "1.2.0",
      "model_name": "LayoutModel",
      "state": {}
     },
     "86b0400a3a754807aea43db1d87ed007": {
      "model_module": "@jupyter-widgets/controls",
      "model_module_version": "1.5.0",
      "model_name": "VBoxModel",
      "state": {
       "children": [
        "IPY_MODEL_cdac39b6fabf4b3caf43d09ef8322831"
       ],
       "layout": "IPY_MODEL_0c38a4ae4f084ff7a8961d4a8b34d85e"
      }
     },
     "8728709b5a31410cb39915e4089ab1de": {
      "model_module": "@jupyter-widgets/controls",
      "model_module_version": "1.5.0",
      "model_name": "DescriptionStyleModel",
      "state": {
       "description_width": ""
      }
     },
     "873ffcee221e48bc921d2207d7e5416a": {
      "model_module": "@jupyter-widgets/controls",
      "model_module_version": "1.5.0",
      "model_name": "CheckboxModel",
      "state": {
       "description": "Active",
       "disabled": false,
       "layout": "IPY_MODEL_a12aa5008bbd4626971bf7864b5afdbf",
       "style": "IPY_MODEL_792b0f8689b441b4b41b1f1e0d2c12a6",
       "value": false
      }
     },
     "874df43e3fdb4ee9b539cf0a400d67b5": {
      "model_module": "@jupyter-widgets/base",
      "model_module_version": "1.2.0",
      "model_name": "LayoutModel",
      "state": {}
     },
     "875c6f2a05d24943b54241aa46828bf2": {
      "model_module": "@jupyter-widgets/base",
      "model_module_version": "1.2.0",
      "model_name": "LayoutModel",
      "state": {}
     },
     "876298a38a0b477ba74429e808838224": {
      "model_module": "@jupyter-widgets/controls",
      "model_module_version": "1.5.0",
      "model_name": "DescriptionStyleModel",
      "state": {
       "description_width": ""
      }
     },
     "8763a695411c4e11a21846ce1cd761dd": {
      "model_module": "@jupyter-widgets/base",
      "model_module_version": "1.2.0",
      "model_name": "LayoutModel",
      "state": {}
     },
     "87d177f7778b434e84d554b3ea951200": {
      "model_module": "@jupyter-widgets/base",
      "model_module_version": "1.2.0",
      "model_name": "LayoutModel",
      "state": {}
     },
     "87d78beff9bf48b0b6138901761a363d": {
      "model_module": "@jupyter-widgets/controls",
      "model_module_version": "1.5.0",
      "model_name": "VBoxModel",
      "state": {
       "children": [
        "IPY_MODEL_20f4c0e9206b4f15b8a52f465be045d2",
        "IPY_MODEL_d2a0c19d1d304545b187b941144c77d6"
       ],
       "layout": "IPY_MODEL_324d3aa8bcef4b5c8196d41b0da56dbe"
      }
     },
     "8888e7b347de402fb996f7b630db9b23": {
      "model_module": "@jupyter-widgets/base",
      "model_module_version": "1.2.0",
      "model_name": "LayoutModel",
      "state": {}
     },
     "88932282b4db4c85b800a4f9548a54d2": {
      "model_module": "@jupyter-widgets/base",
      "model_module_version": "1.2.0",
      "model_name": "LayoutModel",
      "state": {}
     },
     "88edc1cb1ffa4eb3a8cf53746132038f": {
      "model_module": "@jupyter-widgets/controls",
      "model_module_version": "1.5.0",
      "model_name": "VBoxModel",
      "state": {
       "children": [
        "IPY_MODEL_21216ccae455489baa9980e9ca3b0a11",
        "IPY_MODEL_a0cf365feb254addb35ce3e0823c17dd",
        "IPY_MODEL_aff89697136042c2bab59d9765fe3a7a"
       ],
       "layout": "IPY_MODEL_f39709e08f914e70b6a6e82622e4242d"
      }
     },
     "8935572a431f40efa9334f9d757f2b1b": {
      "model_module": "@jupyter-widgets/controls",
      "model_module_version": "1.5.0",
      "model_name": "TextModel",
      "state": {
       "continuous_update": false,
       "description": "Contours",
       "layout": "IPY_MODEL_b8c5795f5dac4d0da5b6538e5d7adc16",
       "style": "IPY_MODEL_90e0d49394bc46eb8c365c0516214652"
      }
     },
     "895e24b3412345a4955a7e9d051a2a83": {
      "model_module": "@jupyter-widgets/controls",
      "model_module_version": "1.5.0",
      "model_name": "DescriptionStyleModel",
      "state": {
       "description_width": "initial"
      }
     },
     "899b7dbfc3d2406cada2fa0677a95397": {
      "model_module": "@jupyter-widgets/base",
      "model_module_version": "1.2.0",
      "model_name": "LayoutModel",
      "state": {}
     },
     "89d6c17d49824818b0bc4678ffce679f": {
      "model_module": "@jupyter-widgets/controls",
      "model_module_version": "1.5.0",
      "model_name": "ButtonStyleModel",
      "state": {}
     },
     "8a227a7c75d64cd6b1d1407a626b12ac": {
      "model_module": "@jupyter-widgets/controls",
      "model_module_version": "1.5.0",
      "model_name": "DescriptionStyleModel",
      "state": {
       "description_width": "initial"
      }
     },
     "8a27fa47b7354f6fb5a493571a3c7217": {
      "model_module": "@jupyter-widgets/controls",
      "model_module_version": "1.5.0",
      "model_name": "ButtonStyleModel",
      "state": {}
     },
     "8a4d44b89c214a6ca101516dfbb4db1e": {
      "model_module": "@jupyter-widgets/controls",
      "model_module_version": "1.5.0",
      "model_name": "SliderStyleModel",
      "state": {
       "description_width": "initial"
      }
     },
     "8a544fa2177d4a16ad26a2a98d9cdebb": {
      "model_module": "@jupyter-widgets/base",
      "model_module_version": "1.2.0",
      "model_name": "LayoutModel",
      "state": {}
     },
     "8a6f7e0653b04282b6df8a75fabacd9f": {
      "model_module": "@jupyter-widgets/controls",
      "model_module_version": "1.5.0",
      "model_name": "DescriptionStyleModel",
      "state": {
       "description_width": ""
      }
     },
     "8a7b0008868b46279cee2a72facf623f": {
      "model_module": "@jupyter-widgets/controls",
      "model_module_version": "1.5.0",
      "model_name": "ButtonStyleModel",
      "state": {}
     },
     "8ad151a34b6f4cea981f75c5f538864c": {
      "model_module": "@jupyter-widgets/base",
      "model_module_version": "1.2.0",
      "model_name": "LayoutModel",
      "state": {}
     },
     "8ad9dd1003fb42a7b457809e6cecdde3": {
      "model_module": "@jupyter-widgets/controls",
      "model_module_version": "1.5.0",
      "model_name": "DescriptionStyleModel",
      "state": {
       "description_width": ""
      }
     },
     "8ade90f1302743b48ef640b8e4a897eb": {
      "model_module": "@jupyter-widgets/controls",
      "model_module_version": "1.5.0",
      "model_name": "DescriptionStyleModel",
      "state": {
       "description_width": ""
      }
     },
     "8aecf79bd3654a699c5ed3730bc157fa": {
      "model_module": "@jupyter-widgets/controls",
      "model_module_version": "1.5.0",
      "model_name": "DescriptionStyleModel",
      "state": {
       "description_width": ""
      }
     },
     "8bf02d416bc84dcc8ce2b7bb05a4a7b5": {
      "model_module": "@jupyter-widgets/base",
      "model_module_version": "1.2.0",
      "model_name": "LayoutModel",
      "state": {}
     },
     "8c15aeb3618448059182681dc0a52e4c": {
      "model_module": "@jupyter-widgets/controls",
      "model_module_version": "1.5.0",
      "model_name": "DescriptionStyleModel",
      "state": {
       "description_width": ""
      }
     },
     "8c45c00bfaae46819d52ca63f43f62a1": {
      "model_module": "@jupyter-widgets/controls",
      "model_module_version": "1.5.0",
      "model_name": "IntTextModel",
      "state": {
       "description": "Starting Channel",
       "layout": "IPY_MODEL_5014f87dfdf14798bb2585a6dc85feef",
       "step": 1,
       "style": "IPY_MODEL_dfbaefc87f67443fa403d133b9d25911"
      }
     },
     "8caa19a6d22146c4940f6f251c6ff69f": {
      "model_module": "@jupyter-widgets/controls",
      "model_module_version": "1.5.0",
      "model_name": "DescriptionStyleModel",
      "state": {
       "description_width": ""
      }
     },
     "8cb16af86f73490b8bee3ef08825b226": {
      "model_module": "@jupyter-widgets/base",
      "model_module_version": "1.2.0",
      "model_name": "LayoutModel",
      "state": {}
     },
     "8d23dec0dcdd4cd79a7933c379eeed3f": {
      "model_module": "@jupyter-widgets/controls",
      "model_module_version": "1.5.0",
      "model_name": "TextModel",
      "state": {
       "description": "Smallest cells",
       "layout": "IPY_MODEL_6e310c4a82c04d47a125f0cce9b3a85d",
       "style": "IPY_MODEL_579f160b1a0c4d51ad0bc76bfddab9b9",
       "value": "25, 25, 25"
      }
     },
     "8d3acfb3b4134490983b775550c7f77b": {
      "model_module": "@jupyter-widgets/base",
      "model_module_version": "1.2.0",
      "model_name": "LayoutModel",
      "state": {}
     },
     "8d8066ad5c0543498afb683c20909b60": {
      "model_module": "@jupyter-widgets/base",
      "model_module_version": "1.2.0",
      "model_name": "LayoutModel",
      "state": {}
     },
     "8dd0ef7e8baa42caa1124e9b43df5395": {
      "model_module": "@jupyter-widgets/base",
      "model_module_version": "1.2.0",
      "model_name": "LayoutModel",
      "state": {}
     },
     "8dd92dd225444c0491f783b428340f36": {
      "model_module": "@jupyter-widgets/controls",
      "model_module_version": "1.5.0",
      "model_name": "HTMLModel",
      "state": {
       "layout": "IPY_MODEL_e92c9248138e4a0bbec1a8419b12459f",
       "style": "IPY_MODEL_54ebeccbc0294a1f87afe4b57221761a"
      }
     },
     "8ea448d82183426fb1b5e333a815c829": {
      "model_module": "@jupyter-widgets/controls",
      "model_module_version": "1.5.0",
      "model_name": "SelectModel",
      "state": {
       "_options_labels": [
        "..",
        "images",
        "Untitled.ipynb",
        "base_application.ipynb",
        "calculator.ipynb",
        "contouring.ipynb",
        "coordinate_transformation.ipynb",
        "create_surface.ipynb",
        "data_interpolation.ipynb",
        "edge_detection.ipynb",
        "export.ipynb",
        "geophysical_inversion.ipynb",
        "object_data_selection.ipynb",
        "scatter.ipynb",
        "view_selection.ipynb"
       ],
       "index": null,
       "layout": "IPY_MODEL_e573884e442643ce8b33084516526c3c",
       "rows": 8,
       "style": "IPY_MODEL_cc6bde03fa904569bae1fe9e6c6f528c"
      }
     },
     "8f0ac60b6f97473d957f5d0bcbee3c22": {
      "model_module": "@jupyter-widgets/controls",
      "model_module_version": "1.5.0",
      "model_name": "CheckboxModel",
      "state": {
       "description": "GA Pro - Live link",
       "disabled": false,
       "indent": false,
       "layout": "IPY_MODEL_03fefc002aaf4440a1d97a52c83b18a7",
       "style": "IPY_MODEL_1611d14958824745b4b5a259bdabf3d8",
       "value": false
      }
     },
     "8f358dadcba144f08da9faa7b4f85f5b": {
      "model_module": "@jupyter-widgets/controls",
      "model_module_version": "1.5.0",
      "model_name": "DescriptionStyleModel",
      "state": {
       "description_width": ""
      }
     },
     "8f444444ee124adab86029f39657ef10": {
      "model_module": "@jupyter-widgets/base",
      "model_module_version": "1.2.0",
      "model_name": "LayoutModel",
      "state": {}
     },
     "8f743b2950034ce289c2ee934947f597": {
      "model_module": "@jupyter-widgets/controls",
      "model_module_version": "1.5.0",
      "model_name": "DescriptionStyleModel",
      "state": {
       "description_width": ""
      }
     },
     "8f8d6dfa59a44199858e8f23dfefd85c": {
      "model_module": "@jupyter-widgets/base",
      "model_module_version": "1.2.0",
      "model_name": "LayoutModel",
      "state": {}
     },
     "8fb5b39717d346bdbab3b0d4c72bcbd1": {
      "model_module": "@jupyter-widgets/controls",
      "model_module_version": "1.5.0",
      "model_name": "VBoxModel",
      "state": {
       "children": [
        "IPY_MODEL_1f15b76e829e4cf98e6a7a946bbf37fb",
        "IPY_MODEL_fde6b203843f485a8762a518c7a60680",
        "IPY_MODEL_344528a6b92c42528dcf33cadc301dbc"
       ],
       "layout": "IPY_MODEL_063d9ae31cf444ba8e16438e08ea9397"
      }
     },
     "8fc024a51e2840518c75051f35c14c74": {
      "model_module": "@jupyter-widgets/base",
      "model_module_version": "1.2.0",
      "model_name": "LayoutModel",
      "state": {
       "grid_area": "filename",
       "width": "auto"
      }
     },
     "8fd811f62e9c487c87a8b201190a4d63": {
      "model_module": "@jupyter-widgets/controls",
      "model_module_version": "1.5.0",
      "model_name": "TextModel",
      "state": {
       "description": "byz",
       "layout": "IPY_MODEL_fdc652c341a546e585fa3492b68d9592",
       "style": "IPY_MODEL_b75e9c5ffa5a40f5bad84dca8ba4e697"
      }
     },
     "907a42aac32944aa9cf0f367919aa2bb": {
      "model_module": "@jupyter-widgets/controls",
      "model_module_version": "1.5.0",
      "model_name": "CheckboxModel",
      "state": {
       "description": "GA Pro - Live link",
       "disabled": false,
       "indent": false,
       "layout": "IPY_MODEL_8a544fa2177d4a16ad26a2a98d9cdebb",
       "style": "IPY_MODEL_ff1a345ccc9b432b8f0fba0033dd62f6",
       "value": false
      }
     },
     "90aeca42bd81439b912a290b9a0c6ae1": {
      "model_module": "@jupyter-widgets/controls",
      "model_module_version": "1.5.0",
      "model_name": "DescriptionStyleModel",
      "state": {
       "description_width": "initial"
      }
     },
     "90e0d49394bc46eb8c365c0516214652": {
      "model_module": "@jupyter-widgets/controls",
      "model_module_version": "1.5.0",
      "model_name": "DescriptionStyleModel",
      "state": {
       "description_width": ""
      }
     },
     "90fb137a4f964ba9a16c01b61140507a": {
      "model_module": "@jupyter-widgets/controls",
      "model_module_version": "1.5.0",
      "model_name": "DescriptionStyleModel",
      "state": {
       "description_width": ""
      }
     },
     "91778ed8cf20437092549d61b66da473": {
      "model_module": "@jupyter-widgets/controls",
      "model_module_version": "1.5.0",
      "model_name": "TextModel",
      "state": {
       "description": "Scaling alpha_(s, x, y, z)",
       "layout": "IPY_MODEL_3bf4cb7b6acc49f19777271fc72aabfc",
       "style": "IPY_MODEL_c33739b82d8d462f9bded39159c8e72f",
       "value": "1.0, 1.0, 1.0, 1.0"
      }
     },
     "91a5134e91404b39862d7520f3e2faca": {
      "model_module": "@jupyter-widgets/controls",
      "model_module_version": "1.5.0",
      "model_name": "DescriptionStyleModel",
      "state": {
       "description_width": ""
      }
     },
     "925a2355f6cd44e1809a323ba0526bd6": {
      "model_module": "@jupyter-widgets/controls",
      "model_module_version": "1.5.0",
      "model_name": "VBoxModel",
      "state": {
       "children": [
        "IPY_MODEL_3b4f1e66fd3446c384691d71ceddb4fb",
        "IPY_MODEL_a688f08599d5436489824bac341a8125"
       ],
       "layout": "IPY_MODEL_1f06d2ec3fd64a1f9916878a5a852506"
      }
     },
     "92a02ce748cf4f7abad9e9a4ae8fe3e6": {
      "model_module": "@jupyter-widgets/base",
      "model_module_version": "1.2.0",
      "model_name": "LayoutModel",
      "state": {}
     },
     "9376d59458bb4d328c46debd800f0319": {
      "model_module": "@jupyter-widgets/base",
      "model_module_version": "1.2.0",
      "model_name": "LayoutModel",
      "state": {}
     },
     "9383b06688dc416bbcfe7799d263eb86": {
      "model_module": "@jupyter-widgets/controls",
      "model_module_version": "1.5.0",
      "model_name": "DescriptionStyleModel",
      "state": {
       "description_width": ""
      }
     },
     "938994d5f01646949c42cf7bec1da82c": {
      "model_module": "@jupyter-widgets/controls",
      "model_module_version": "1.5.0",
      "model_name": "LabelModel",
      "state": {
       "layout": "IPY_MODEL_9376d59458bb4d328c46debd800f0319",
       "style": "IPY_MODEL_c5ee7bc6742f446994d1b82a6c950716",
       "value": "Workspace"
      }
     },
     "93eaaaad642948a6bd16bd7d64c932c1": {
      "model_module": "@jupyter-widgets/base",
      "model_module_version": "1.2.0",
      "model_name": "LayoutModel",
      "state": {}
     },
     "940938e2434a42218f856103abdcf3c7": {
      "model_module": "@jupyter-widgets/controls",
      "model_module_version": "1.5.0",
      "model_name": "DropdownModel",
      "state": {
       "_options_labels": [
        "tmi",
        "bxx",
        "bxy",
        "bxz",
        "byy",
        "byz",
        "bzz"
       ],
       "index": 0,
       "layout": "IPY_MODEL_d59c0ec7e025457987ba4cae3d759738",
       "style": "IPY_MODEL_f35994bd8e5d44ad9d21606e1e21b732"
      }
     },
     "94d19e2973274327a5bb1ef84cc760ef": {
      "model_module": "@jupyter-widgets/controls",
      "model_module_version": "1.5.0",
      "model_name": "HTMLModel",
      "state": {
       "layout": "IPY_MODEL_5f2fd71652c84ddaa0f76469623520ab",
       "style": "IPY_MODEL_d1449294618f4d08b1363967d9d92aef"
      }
     },
     "954abb9308cc4185a8a28d6eec8cdace": {
      "model_module": "@jupyter-widgets/controls",
      "model_module_version": "1.5.0",
      "model_name": "DescriptionStyleModel",
      "state": {
       "description_width": "initial"
      }
     },
     "9663ee161c4540f799c29dc9de0c7373": {
      "model_module": "@jupyter-widgets/base",
      "model_module_version": "1.2.0",
      "model_name": "LayoutModel",
      "state": {}
     },
     "967349196a1d4d05bb8aed26356f0639": {
      "model_module": "@jupyter-widgets/base",
      "model_module_version": "1.2.0",
      "model_name": "LayoutModel",
      "state": {}
     },
     "96c822a9dff44092a1f5f5ef2e10af91": {
      "model_module": "@jupyter-widgets/controls",
      "model_module_version": "1.5.0",
      "model_name": "ButtonStyleModel",
      "state": {}
     },
     "96ecdb6fce60445ea15e5058eb61873c": {
      "model_module": "@jupyter-widgets/controls",
      "model_module_version": "1.5.0",
      "model_name": "DescriptionStyleModel",
      "state": {
       "description_width": ""
      }
     },
     "96f82b5a1f6a482d93439e021403cda4": {
      "model_module": "@jupyter-widgets/controls",
      "model_module_version": "1.5.0",
      "model_name": "LabelModel",
      "state": {
       "layout": "IPY_MODEL_7152c4160baa42958b65a12fbd332a68",
       "style": "IPY_MODEL_bc907da342e4442cb4d1081d7e35a209",
       "value": "Max depth: 477.27 m"
      }
     },
     "96f8881cde7b43a5ab1b25a6a75a1431": {
      "model_module": "@jupyter-widgets/controls",
      "model_module_version": "1.5.0",
      "model_name": "VBoxModel",
      "state": {
       "children": [
        "IPY_MODEL_22bdde9dce2047ff99635f5462232d7d",
        "IPY_MODEL_3464064334b147e19cf5916e25290b7e"
       ],
       "layout": "IPY_MODEL_2a1325128665401aa5ecd23ffe293490"
      }
     },
     "972511f77a624e13bc8a118e5631b3ee": {
      "model_module": "@jupyter-widgets/base",
      "model_module_version": "1.2.0",
      "model_name": "LayoutModel",
      "state": {}
     },
     "97813932a06c4c5db52313dc32c7a4e7": {
      "model_module": "@jupyter-widgets/controls",
      "model_module_version": "1.5.0",
      "model_name": "GridBoxModel",
      "state": {
       "children": [
        "IPY_MODEL_2162e050a32a439383ab787ce72d1f89",
        "IPY_MODEL_526500c9657e4fa2ab1285e03089cbf1",
        "IPY_MODEL_4d8ffb381b5347f2a13c2884ea2880f4"
       ],
       "layout": "IPY_MODEL_b717d630d1134a91954228c97958b65f"
      }
     },
     "97aa61c24c8e450b8226eae0625cd2d0": {
      "model_module": "@jupyter-widgets/controls",
      "model_module_version": "1.5.0",
      "model_name": "TextModel",
      "state": {
       "description": "Error (%, floor)",
       "layout": "IPY_MODEL_1fbc6ae630264cac8b6c7dde754e19c9",
       "style": "IPY_MODEL_5145885b576e4f32b0020e1fddfae2e0",
       "value": "0, 13.58"
      }
     },
     "97c0b51bfd2348ebb9ceb57f15903066": {
      "model_module": "@jupyter-widgets/base",
      "model_module_version": "1.2.0",
      "model_name": "LayoutModel",
      "state": {}
     },
     "97c112bde4644f27b9912eafac0ae5b9": {
      "model_module": "@jupyter-widgets/controls",
      "model_module_version": "1.5.0",
      "model_name": "DescriptionStyleModel",
      "state": {
       "description_width": ""
      }
     },
     "97cfbdd71b934a1c9af55c3d95571c3c": {
      "model_module": "@jupyter-widgets/controls",
      "model_module_version": "1.5.0",
      "model_name": "FloatTextModel",
      "state": {
       "description": "phi_d/phi_m",
       "layout": "IPY_MODEL_316c1c98fe0e499c85cc9aca78f30c53",
       "step": null,
       "style": "IPY_MODEL_0a72cccea26a4c2690d1f2e27190519d",
       "value": 100
      }
     },
     "97d6d3259151499ca03720ba31c7b4f1": {
      "model_module": "@jupyter-widgets/output",
      "model_module_version": "1.0.0",
      "model_name": "OutputModel",
      "state": {
       "layout": "IPY_MODEL_5d25c44043104f5bb65ba02fa856757f",
       "outputs": [
        {
         "data": {
          "image/png": "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\n",
          "text/plain": "<Figure size 720x720 with 1 Axes>"
         },
         "metadata": {
          "needs_background": "light"
         },
         "output_type": "display_data"
        }
       ]
      }
     },
     "98009789549b4330ab4e79287985e6db": {
      "model_module": "@jupyter-widgets/base",
      "model_module_version": "1.2.0",
      "model_name": "LayoutModel",
      "state": {}
     },
     "988d5b3d23d84f30a76a5298f72e6950": {
      "model_module": "@jupyter-widgets/base",
      "model_module_version": "1.2.0",
      "model_name": "LayoutModel",
      "state": {}
     },
     "98983b88d41a44679fc066360a977f6b": {
      "model_module": "@jupyter-widgets/base",
      "model_module_version": "1.2.0",
      "model_name": "LayoutModel",
      "state": {}
     },
     "98ad98d27559440cbb348a8e2b1a9236": {
      "model_module": "@jupyter-widgets/base",
      "model_module_version": "1.2.0",
      "model_name": "LayoutModel",
      "state": {}
     },
     "993a74f22d3e461ab514583f74919d0f": {
      "model_module": "@jupyter-widgets/base",
      "model_module_version": "1.2.0",
      "model_name": "LayoutModel",
      "state": {}
     },
     "997717c547314d49b90b77e9e96bf9d2": {
      "model_module": "@jupyter-widgets/controls",
      "model_module_version": "1.5.0",
      "model_name": "DescriptionStyleModel",
      "state": {
       "description_width": ""
      }
     },
     "99a2da21b7bd4aff94fefcfe97966b25": {
      "model_module": "@jupyter-widgets/base",
      "model_module_version": "1.2.0",
      "model_name": "LayoutModel",
      "state": {}
     },
     "9a36ccc9a4214028a764b76dfdbd8e26": {
      "model_module": "@jupyter-widgets/controls",
      "model_module_version": "1.5.0",
      "model_name": "VBoxModel",
      "state": {
       "children": [
        "IPY_MODEL_6c853d09bedd43d495c1f733236fd9bb",
        "IPY_MODEL_91778ed8cf20437092549d61b66da473",
        "IPY_MODEL_83414b4a63bf4c10be0f86f9b9e81cf7"
       ],
       "layout": "IPY_MODEL_993a74f22d3e461ab514583f74919d0f"
      }
     },
     "9aa0eca5cdfd48f08200af0eb60aa578": {
      "model_module": "@jupyter-widgets/controls",
      "model_module_version": "1.5.0",
      "model_name": "ButtonModel",
      "state": {
       "description": "Select",
       "layout": "IPY_MODEL_fd3a124546374fa6b289ed5be4d7db2e",
       "style": "IPY_MODEL_4049ffc73e034c31a6bc511e672bd689"
      }
     },
     "9af73da206564744b535d70f7f19f16a": {
      "model_module": "@jupyter-widgets/controls",
      "model_module_version": "1.5.0",
      "model_name": "VBoxModel",
      "state": {
       "children": [
        "IPY_MODEL_a770ace953a74d57b9ad0c470e630fb4",
        "IPY_MODEL_43233000e4984c8a88a595d78cf4e523"
       ],
       "layout": "IPY_MODEL_b5b44b87c7d744c181faac6b7b83927a"
      }
     },
     "9b7184cf9e724e1796a64364361bf08e": {
      "model_module": "@jupyter-widgets/base",
      "model_module_version": "1.2.0",
      "model_name": "LayoutModel",
      "state": {
       "display": "none",
       "grid_gap": "0px 0px",
       "grid_template_areas": "\n                    'pathlist pathlist'\n                    'dircontent dircontent'\n                    ",
       "grid_template_columns": "60% 40%",
       "grid_template_rows": "auto auto",
       "width": "500px"
      }
     },
     "9ba13b8c75514bb3a56dad3f9b95881f": {
      "model_module": "@jupyter-widgets/base",
      "model_module_version": "1.2.0",
      "model_name": "LayoutModel",
      "state": {}
     },
     "9c2294b79b2544b49a6f7cf510c9647a": {
      "model_module": "@jupyter-widgets/controls",
      "model_module_version": "1.5.0",
      "model_name": "FloatTextModel",
      "state": {
       "description": "Smallest cell (m):",
       "layout": "IPY_MODEL_3e89f5115eb949f782244674d72da711",
       "step": null,
       "style": "IPY_MODEL_23d4467065544f8b82bae6ebf8087d23",
       "value": 10
      }
     },
     "9c90eed5310a4fd587583b5d4d6bdf89": {
      "model_module": "@jupyter-widgets/controls",
      "model_module_version": "1.5.0",
      "model_name": "VBoxModel",
      "state": {
       "children": [
        "IPY_MODEL_8dd92dd225444c0491f783b428340f36",
        "IPY_MODEL_a87d2a7252364248ab7e8f91b57aeb1f",
        "IPY_MODEL_dcd5c229dd05470397cdb6ddb43a08fc"
       ],
       "layout": "IPY_MODEL_f0325dd550344e2fb500c4928d60d92c"
      }
     },
     "9c94ece40f044caa83c5acf8c6679f22": {
      "model_module": "@jupyter-widgets/controls",
      "model_module_version": "1.5.0",
      "model_name": "SelectModel",
      "state": {
       "_options_labels": [
        "..",
        "images"
       ],
       "index": null,
       "layout": "IPY_MODEL_4a489731ebb644b6b17b633544a35b03",
       "rows": 8,
       "style": "IPY_MODEL_2de3a691515d47b297a44a99b11c97c1"
      }
     },
     "9cfb7f627d5c43e2897a2115235023d8": {
      "model_module": "@jupyter-widgets/controls",
      "model_module_version": "1.5.0",
      "model_name": "DescriptionStyleModel",
      "state": {
       "description_width": "initial"
      }
     },
     "9d07567758594d8fac46314eaec3ca56": {
      "model_module": "@jupyter-widgets/controls",
      "model_module_version": "1.5.0",
      "model_name": "DropdownModel",
      "state": {
       "_options_labels": [
        "C:\\Users\\dominiquef\\Documents\\GIT\\mira\\mirageoscience-apps\\assets",
        "C:\\Users\\dominiquef\\Documents\\GIT\\mira\\mirageoscience-apps",
        "C:\\Users\\dominiquef\\Documents\\GIT\\mira",
        "C:\\Users\\dominiquef\\Documents\\GIT",
        "C:\\Users\\dominiquef\\Documents",
        "C:\\Users\\dominiquef",
        "C:\\Users",
        "C:\\",
        "D:\\",
        "Z:\\"
       ],
       "index": 0,
       "layout": "IPY_MODEL_f3e8e0f1789640de9306f16fe3e4b676",
       "style": "IPY_MODEL_a32c9fe8afab4dec9e453746339ac1d7"
      }
     },
     "9d4f174c47394969a3a696c55f626be6": {
      "model_module": "@jupyter-widgets/controls",
      "model_module_version": "1.5.0",
      "model_name": "HBoxModel",
      "state": {
       "children": [
        "IPY_MODEL_de6f92ac38f443f99ec5af00eba0e891",
        "IPY_MODEL_c470bdacba874f1c84ede3f1ce771b40"
       ],
       "layout": "IPY_MODEL_0ea426e2ca134700944c7dc285e31016"
      }
     },
     "9d6d389621314b7285db1f909dd46290": {
      "model_module": "@jupyter-widgets/controls",
      "model_module_version": "1.5.0",
      "model_name": "TextModel",
      "state": {
       "description": "Padding [W,E,N,S,D,U] (m)",
       "layout": "IPY_MODEL_e42b0877f4e444af90c8348938312295",
       "style": "IPY_MODEL_fa8bf7fb58054e87bd6b656d6ee73b13",
       "value": "0, 0, 0, 0, 0, 0"
      }
     },
     "9d82024876d34b56810aae0735fff3d3": {
      "model_module": "@jupyter-widgets/controls",
      "model_module_version": "1.5.0",
      "model_name": "RadioButtonsModel",
      "state": {
       "_options_labels": [
        "Model",
        "Value"
       ],
       "index": 1,
       "layout": "IPY_MODEL_04ecda76b16b437f9f7a988a45994f1a",
       "style": "IPY_MODEL_f2f1739498924f2c98cba7acb138653e"
      }
     },
     "9db1496fb6784c12b08360d1ae14e45c": {
      "model_module": "@jupyter-widgets/controls",
      "model_module_version": "1.5.0",
      "model_name": "DescriptionStyleModel",
      "state": {
       "description_width": "initial"
      }
     },
     "9dcbe2f479a04c1d83807754e15436fc": {
      "model_module": "@jupyter-widgets/controls",
      "model_module_version": "1.5.0",
      "model_name": "ButtonStyleModel",
      "state": {}
     },
     "9e0793c9218d441b8d6a6044712e0008": {
      "model_module": "@jupyter-widgets/controls",
      "model_module_version": "1.5.0",
      "model_name": "DescriptionStyleModel",
      "state": {
       "description_width": "initial"
      }
     },
     "9e13e006a88a4aae8e98855ce7b83d9f": {
      "model_module": "@jupyter-widgets/controls",
      "model_module_version": "1.5.0",
      "model_name": "TextModel",
      "state": {
       "description": "Error (%, floor)",
       "layout": "IPY_MODEL_0699cda395954999b299d102573bf8d8",
       "style": "IPY_MODEL_07d3154e515945468ce0e7697c747c59",
       "value": "0, 1"
      }
     },
     "9e4da7f70fc44d2e9775ae4053a554c8": {
      "model_module": "@jupyter-widgets/controls",
      "model_module_version": "1.5.0",
      "model_name": "FloatTextModel",
      "state": {
       "description": "Max RAM (Gb)",
       "layout": "IPY_MODEL_4e83d16e9d3d40608e063247e11ded51",
       "step": null,
       "style": "IPY_MODEL_5aa8e920787f452e9b486b89929d35b1",
       "value": 2
      }
     },
     "9e512b550d984ad093faa18bc1e7e865": {
      "model_module": "@jupyter-widgets/controls",
      "model_module_version": "1.5.0",
      "model_name": "VBoxModel",
      "state": {
       "children": [
        "IPY_MODEL_7298c0b7cda0483eb048560b3375c541",
        "IPY_MODEL_4a7d457d66184dbb8bd965458e7771b2",
        "IPY_MODEL_97d6d3259151499ca03720ba31c7b4f1",
        "IPY_MODEL_5a3e9d5610884ae68d1557144486245b",
        "IPY_MODEL_d9b8031ea4cd41abb6fa82f5941bddf3"
       ],
       "layout": "IPY_MODEL_08ef210f109048cfa1fc1b658b5a21dd"
      }
     },
     "9ec8f17e58be43b69e2611d7d746de57": {
      "model_module": "@jupyter-widgets/base",
      "model_module_version": "1.2.0",
      "model_name": "LayoutModel",
      "state": {}
     },
     "9efdcb1a42d041d9a3cb599840ad4e59": {
      "model_module": "@jupyter-widgets/base",
      "model_module_version": "1.2.0",
      "model_name": "LayoutModel",
      "state": {
       "display": "none"
      }
     },
     "9f5e72125c374266a6d38280cafc4501": {
      "model_module": "@jupyter-widgets/controls",
      "model_module_version": "1.5.0",
      "model_name": "DescriptionStyleModel",
      "state": {
       "description_width": ""
      }
     },
     "9f6004975966449cadc3ee06296bdfd7": {
      "model_module": "@jupyter-widgets/controls",
      "model_module_version": "1.5.0",
      "model_name": "DescriptionStyleModel",
      "state": {
       "description_width": ""
      }
     },
     "a049e9bd18bf49439a50ae4be52c7d24": {
      "model_module": "@jupyter-widgets/controls",
      "model_module_version": "1.5.0",
      "model_name": "HBoxModel",
      "state": {
       "children": [
        "IPY_MODEL_efd54439bf4c4f78bc27de8414f28157",
        "IPY_MODEL_b1d383bdeb214a528e13b9a3d048d791",
        "IPY_MODEL_4b1630e7fecd496d8a908f8ac96a206f"
       ],
       "layout": "IPY_MODEL_56ac967f42e14abfb7f494725a285105"
      }
     },
     "a06739cabce948b0a682f6c9bdf87e06": {
      "model_module": "@jupyter-widgets/controls",
      "model_module_version": "1.5.0",
      "model_name": "ButtonModel",
      "state": {
       "description": "Change",
       "layout": "IPY_MODEL_657caec535b94fd0beb87a388a7cc581",
       "style": "IPY_MODEL_f75f10fc283845fe841d9d9397e52176"
      }
     },
     "a068f66bcab64c00aaf57608aee1f82e": {
      "model_module": "@jupyter-widgets/controls",
      "model_module_version": "1.5.0",
      "model_name": "LabelModel",
      "state": {
       "layout": "IPY_MODEL_7e3fa7d7aa9b49248123d99ee99c12d5",
       "style": "IPY_MODEL_525bbc7e1a2c45a9af0791393cfce235",
       "value": "Channels"
      }
     },
     "a0864b5c4d67425cbf47ee6a6b431945": {
      "model_module": "@jupyter-widgets/base",
      "model_module_version": "1.2.0",
      "model_name": "LayoutModel",
      "state": {}
     },
     "a0cf365feb254addb35ce3e0823c17dd": {
      "model_module": "@jupyter-widgets/controls",
      "model_module_version": "1.5.0",
      "model_name": "GridBoxModel",
      "state": {
       "children": [
        "IPY_MODEL_9d07567758594d8fac46314eaec3ca56",
        "IPY_MODEL_276ec0a7df5341d7abfa1e7e0d39e820",
        "IPY_MODEL_6a2057514cbc4aab8b26383614c0c00e"
       ],
       "layout": "IPY_MODEL_51de8de2f812430a9042482381310a44"
      }
     },
     "a12aa5008bbd4626971bf7864b5afdbf": {
      "model_module": "@jupyter-widgets/base",
      "model_module_version": "1.2.0",
      "model_name": "LayoutModel",
      "state": {}
     },
     "a137f610bcb44c82aed71f2937f39e25": {
      "model_module": "@jupyter-widgets/base",
      "model_module_version": "1.2.0",
      "model_name": "LayoutModel",
      "state": {}
     },
     "a1c7be4424a5478e8c7737fd7553cffa": {
      "model_module": "@jupyter-widgets/base",
      "model_module_version": "1.2.0",
      "model_name": "LayoutModel",
      "state": {}
     },
     "a23fc1ab757f47ec820cde60b6770c56": {
      "model_module": "@jupyter-widgets/base",
      "model_module_version": "1.2.0",
      "model_name": "LayoutModel",
      "state": {}
     },
     "a26300b8ebf9484aa589bc215649063d": {
      "model_module": "@jupyter-widgets/controls",
      "model_module_version": "1.5.0",
      "model_name": "ButtonModel",
      "state": {
       "button_style": "danger",
       "description": "Compute",
       "icon": "check",
       "layout": "IPY_MODEL_98983b88d41a44679fc066360a977f6b",
       "style": "IPY_MODEL_f9ab6b34e8394213876a7e50ed5ffbbf",
       "tooltip": "Run computation"
      }
     },
     "a29208d000164bc6ae6e560835d556cc": {
      "model_module": "@jupyter-widgets/base",
      "model_module_version": "1.2.0",
      "model_name": "LayoutModel",
      "state": {}
     },
     "a309a67eacae422c89f6a0622e79a6af": {
      "model_module": "@jupyter-widgets/base",
      "model_module_version": "1.2.0",
      "model_name": "LayoutModel",
      "state": {}
     },
     "a3196862477d4d4498141263952d7cfc": {
      "model_module": "@jupyter-widgets/base",
      "model_module_version": "1.2.0",
      "model_name": "LayoutModel",
      "state": {
       "display": "none",
       "grid_gap": "0px 0px",
       "grid_template_areas": "\n                    'pathlist pathlist'\n                    'dircontent dircontent'\n                    ",
       "grid_template_columns": "60% 40%",
       "grid_template_rows": "auto auto",
       "width": "500px"
      }
     },
     "a323849719a64364975d40c98cd609f4": {
      "model_module": "@jupyter-widgets/controls",
      "model_module_version": "1.5.0",
      "model_name": "DescriptionStyleModel",
      "state": {
       "description_width": "initial"
      }
     },
     "a32c9fe8afab4dec9e453746339ac1d7": {
      "model_module": "@jupyter-widgets/controls",
      "model_module_version": "1.5.0",
      "model_name": "DescriptionStyleModel",
      "state": {
       "description_width": ""
      }
     },
     "a35fa44beb36427f8e552499dd41fb9a": {
      "model_module": "@jupyter-widgets/controls",
      "model_module_version": "1.5.0",
      "model_name": "ButtonModel",
      "state": {
       "button_style": "danger",
       "description": "Compute",
       "icon": "check",
       "layout": "IPY_MODEL_4e424f880ee34c59b60e8bd2e04dad2a",
       "style": "IPY_MODEL_350b6ef5ac9a4054b25e78e3dec921a3",
       "tooltip": "Run computation"
      }
     },
     "a388edbd204a4ede8913644104c2de45": {
      "model_module": "@jupyter-widgets/controls",
      "model_module_version": "1.5.0",
      "model_name": "DescriptionStyleModel",
      "state": {
       "description_width": "initial"
      }
     },
     "a3c494b8c9a8486aa90453cc3771d953": {
      "model_module": "@jupyter-widgets/base",
      "model_module_version": "1.2.0",
      "model_name": "LayoutModel",
      "state": {}
     },
     "a4280cd0dd9c45a6b23b9788e6cd03c9": {
      "model_module": "@jupyter-widgets/controls",
      "model_module_version": "1.5.0",
      "model_name": "DescriptionStyleModel",
      "state": {
       "description_width": ""
      }
     },
     "a42c284ecdc54c9a93f0e51e5f7c63f8": {
      "model_module": "@jupyter-widgets/controls",
      "model_module_version": "1.5.0",
      "model_name": "HBoxModel",
      "state": {
       "children": [
        "IPY_MODEL_2078b02c1e09489b9d372ac7ed70030e",
        "IPY_MODEL_323a456a8551412cb052ad2618e38103",
        "IPY_MODEL_b464d089dfae447ebadade4a01509530"
       ],
       "layout": "IPY_MODEL_560dac76515340e88965897b1cb531a8"
      }
     },
     "a43cf934ebd04e09ab3c05854b0b9664": {
      "model_module": "@jupyter-widgets/controls",
      "model_module_version": "1.5.0",
      "model_name": "TextModel",
      "state": {
       "description": "Layers below data",
       "layout": "IPY_MODEL_c4f0942dd97b4a45a786a53cd3185dc5",
       "style": "IPY_MODEL_24ee4b5ff1404f63b275e305f06b7c1f",
       "value": "5, 5, 5, 5"
      }
     },
     "a456d54e34fb45ac9a17c207cf2fd360": {
      "model_module": "@jupyter-widgets/controls",
      "model_module_version": "1.5.0",
      "model_name": "LabelModel",
      "state": {
       "layout": "IPY_MODEL_2f1cc084e6ad4a6da14b25b9201df3a0",
       "style": "IPY_MODEL_162d3536d3fb475ba31bc5a64c30c563",
       "value": "Background susceptibility"
      }
     },
     "a46e075506a34f8bbfe4e9ab8c330b8a": {
      "model_module": "@jupyter-widgets/controls",
      "model_module_version": "1.5.0",
      "model_name": "HTMLModel",
      "state": {
       "layout": "IPY_MODEL_a29208d000164bc6ae6e560835d556cc",
       "placeholder": "",
       "style": "IPY_MODEL_3fd50f690eee474294e4cdff30179994",
       "value": "<span style=\"margin-left:10px; color:black;\">No file selected</span>"
      }
     },
     "a4ad7ec31c0f4db89bec34f66ae47281": {
      "model_module": "@jupyter-widgets/controls",
      "model_module_version": "1.5.0",
      "model_name": "DescriptionStyleModel",
      "state": {
       "description_width": "initial"
      }
     },
     "a4b360af053f4973bfe305eb97e4b88b": {
      "model_module": "@jupyter-widgets/controls",
      "model_module_version": "1.5.0",
      "model_name": "TextModel",
      "state": {
       "disabled": true,
       "layout": "IPY_MODEL_e4b173bafb1a4088a484442e2806a305",
       "placeholder": "output filename",
       "style": "IPY_MODEL_85db27af049b46d6b79cc9853a2aeffd"
      }
     },
     "a4d9c43af8da4a19a3ac70a4422937e5": {
      "model_module": "@jupyter-widgets/controls",
      "model_module_version": "1.5.0",
      "model_name": "ToggleButtonModel",
      "state": {
       "layout": "IPY_MODEL_8d8066ad5c0543498afb683c20909b60",
       "style": "IPY_MODEL_1caeaa04792c4746b368d9392e7944df",
       "value": true
      }
     },
     "a53990c735674dfbb4f5ef8f61783e35": {
      "model_module": "@jupyter-widgets/controls",
      "model_module_version": "1.5.0",
      "model_name": "DropdownModel",
      "state": {
       "_options_labels": [
        "Topography",
        "Sensor"
       ],
       "index": 0,
       "layout": "IPY_MODEL_b60da6e901bb4f4e82a7d556cef883cf",
       "style": "IPY_MODEL_8aecf79bd3654a699c5ed3730bc157fa"
      }
     },
     "a5ad4adab6ba41adbfc2aa5d5cbe1d4b": {
      "model_module": "@jupyter-widgets/base",
      "model_module_version": "1.2.0",
      "model_name": "LayoutModel",
      "state": {}
     },
     "a5e2a22a674f4489a78642e3f9b32b0b": {
      "model_module": "@jupyter-widgets/controls",
      "model_module_version": "1.5.0",
      "model_name": "ButtonStyleModel",
      "state": {}
     },
     "a5f084838cdc4fada4746876e65e2232": {
      "model_module": "@jupyter-widgets/controls",
      "model_module_version": "1.5.0",
      "model_name": "ButtonStyleModel",
      "state": {}
     },
     "a5fd8a40b0ee40ed82eacb4776d45bd7": {
      "model_module": "@jupyter-widgets/controls",
      "model_module_version": "1.5.0",
      "model_name": "ButtonModel",
      "state": {
       "description": "Cancel",
       "layout": "IPY_MODEL_cdf80a7e55534d78be171541ccd7a8c2",
       "style": "IPY_MODEL_b090514332164416b6ad6ee15dd63317"
      }
     },
     "a628c2bd4df04e17841d19729a700a0c": {
      "model_module": "@jupyter-widgets/controls",
      "model_module_version": "1.5.0",
      "model_name": "ButtonModel",
      "state": {
       "description": "Cancel",
       "layout": "IPY_MODEL_cf42e70094794ece975600a4075aaab5",
       "style": "IPY_MODEL_75af59c94d21449ebb8398298a4c5705"
      }
     },
     "a6408fa819a94a61911971f992519665": {
      "model_module": "@jupyter-widgets/controls",
      "model_module_version": "1.5.0",
      "model_name": "ButtonStyleModel",
      "state": {}
     },
     "a684ccc63d974e3fa0e447ded40eaccd": {
      "model_module": "@jupyter-widgets/controls",
      "model_module_version": "1.5.0",
      "model_name": "VBoxModel",
      "state": {
       "children": [
        "IPY_MODEL_8fb5b39717d346bdbab3b0d4c72bcbd1",
        "IPY_MODEL_2882fccec5af418481c49c9f883b7a95",
        "IPY_MODEL_1ff9a104fd4b441ebb2277e895eb924f"
       ],
       "layout": "IPY_MODEL_bc4bcfd4135b479aa2cb6fe3d9556c2a"
      }
     },
     "a688f08599d5436489824bac341a8125": {
      "model_module": "@jupyter-widgets/controls",
      "model_module_version": "1.5.0",
      "model_name": "VBoxModel",
      "state": {
       "children": [
        "IPY_MODEL_37b22a70408948838fc5c05e101607ad",
        "IPY_MODEL_51c9fab9bc7d4fd4b63d9016ea26a476"
       ],
       "layout": "IPY_MODEL_b7dda8932e1c4fb888519e2efd55987b"
      }
     },
     "a6cdb2c37c3b463d85f58cb30a703bca": {
      "model_module": "@jupyter-widgets/base",
      "model_module_version": "1.2.0",
      "model_name": "LayoutModel",
      "state": {
       "width": "auto"
      }
     },
     "a751ff4b194a44ce9e50456d57e21d54": {
      "model_module": "@jupyter-widgets/controls",
      "model_module_version": "1.5.0",
      "model_name": "VBoxModel",
      "state": {
       "children": [
        "IPY_MODEL_940938e2434a42218f856103abdcf3c7",
        "IPY_MODEL_d555fa0ee86742ca91dd82cdd16f0592"
       ],
       "layout": "IPY_MODEL_9ba13b8c75514bb3a56dad3f9b95881f"
      }
     },
     "a770ace953a74d57b9ad0c470e630fb4": {
      "model_module": "@jupyter-widgets/controls",
      "model_module_version": "1.5.0",
      "model_name": "VBoxModel",
      "state": {
       "children": [
        "IPY_MODEL_23cf45c7e65f4d85aa782d98149d3d50",
        "IPY_MODEL_4dd833a9c91a4d6ba7a288667991f693"
       ],
       "layout": "IPY_MODEL_1814547cdefb4b5c8a6cd877896c2264"
      }
     },
     "a795beb5dc42464da541d659961e87b1": {
      "model_module": "@jupyter-widgets/base",
      "model_module_version": "1.2.0",
      "model_name": "LayoutModel",
      "state": {}
     },
     "a85e982d9fb348e7984df50b064001c6": {
      "model_module": "@jupyter-widgets/controls",
      "model_module_version": "1.5.0",
      "model_name": "VBoxModel",
      "state": {
       "children": [
        "IPY_MODEL_a35fa44beb36427f8e552499dd41fb9a",
        "IPY_MODEL_eaecc04d29df4748a0c06924516926f9"
       ],
       "layout": "IPY_MODEL_119d85a5a86a4ecda5272a9b89654908"
      }
     },
     "a87436f0c72349afb68767aef474bd16": {
      "model_module": "@jupyter-widgets/base",
      "model_module_version": "1.2.0",
      "model_name": "LayoutModel",
      "state": {
       "width": "auto"
      }
     },
     "a87d2a7252364248ab7e8f91b57aeb1f": {
      "model_module": "@jupyter-widgets/controls",
      "model_module_version": "1.5.0",
      "model_name": "GridBoxModel",
      "state": {
       "children": [
        "IPY_MODEL_e2f90869321a4778aff4cbedd322088e",
        "IPY_MODEL_f0a8ea6e56744edfa96ddfdd025d4026",
        "IPY_MODEL_19e6cdde79304b6ea1285d30ebdf1c36"
       ],
       "layout": "IPY_MODEL_a9fabf2bcf2649d28252e8f9749f4d91"
      }
     },
     "a881fe0e21f74adb9623bfc5bf6fd0a3": {
      "model_module": "@jupyter-widgets/base",
      "model_module_version": "1.2.0",
      "model_name": "LayoutModel",
      "state": {}
     },
     "a89eb03112cf4793a5ae48077933da56": {
      "model_module": "@jupyter-widgets/controls",
      "model_module_version": "1.5.0",
      "model_name": "DescriptionStyleModel",
      "state": {
       "description_width": "initial"
      }
     },
     "a8e78f6baa1345af8c7f231cc08a40a8": {
      "model_module": "@jupyter-widgets/controls",
      "model_module_version": "1.5.0",
      "model_name": "DescriptionStyleModel",
      "state": {
       "description_width": ""
      }
     },
     "a9378864959d498ab39a171cb8d94451": {
      "model_module": "@jupyter-widgets/base",
      "model_module_version": "1.2.0",
      "model_name": "LayoutModel",
      "state": {
       "grid_area": "pathlist",
       "width": "auto"
      }
     },
     "a98da9db7bd049a6b0904285ca27dbee": {
      "model_module": "@jupyter-widgets/controls",
      "model_module_version": "1.5.0",
      "model_name": "ButtonStyleModel",
      "state": {}
     },
     "a9a5188b92d8402390ff954cca55557d": {
      "model_module": "@jupyter-widgets/controls",
      "model_module_version": "1.5.0",
      "model_name": "DescriptionStyleModel",
      "state": {
       "description_width": "initial"
      }
     },
     "a9a6a7b30e554335821a95fdab760838": {
      "model_module": "@jupyter-widgets/controls",
      "model_module_version": "1.5.0",
      "model_name": "DescriptionStyleModel",
      "state": {
       "description_width": ""
      }
     },
     "a9ddfaf7ca03459dae59434c764435cd": {
      "model_module": "@jupyter-widgets/base",
      "model_module_version": "1.2.0",
      "model_name": "LayoutModel",
      "state": {
       "grid_area": "dircontent",
       "width": "auto"
      }
     },
     "a9dfb080baad4ec58e7d6dc17fc90886": {
      "model_module": "@jupyter-widgets/base",
      "model_module_version": "1.2.0",
      "model_name": "LayoutModel",
      "state": {}
     },
     "a9fabf2bcf2649d28252e8f9749f4d91": {
      "model_module": "@jupyter-widgets/base",
      "model_module_version": "1.2.0",
      "model_name": "LayoutModel",
      "state": {
       "display": "none",
       "grid_gap": "0px 0px",
       "grid_template_areas": "\n                    'pathlist filename'\n                    'dircontent dircontent'\n                    ",
       "grid_template_columns": "60% 40%",
       "grid_template_rows": "auto auto",
       "width": "500px"
      }
     },
     "aa033ff7006a4bfdbf39adee3a2240b1": {
      "model_module": "@jupyter-widgets/controls",
      "model_module_version": "1.5.0",
      "model_name": "DescriptionStyleModel",
      "state": {
       "description_width": ""
      }
     },
     "aa09f3689b914cda92008f8deb2422db": {
      "model_module": "@jupyter-widgets/controls",
      "model_module_version": "1.5.0",
      "model_name": "DescriptionStyleModel",
      "state": {
       "description_width": "initial"
      }
     },
     "aa336c43c97042eb8103464891c62857": {
      "model_module": "@jupyter-widgets/base",
      "model_module_version": "1.2.0",
      "model_name": "LayoutModel",
      "state": {
       "width": "auto"
      }
     },
     "aa603d5a4ecb404abe629d64a9829a11": {
      "model_module": "@jupyter-widgets/controls",
      "model_module_version": "1.5.0",
      "model_name": "DropdownModel",
      "state": {
       "_options_labels": [
        "C:\\Users\\dominiquef\\Documents\\GIT\\mira\\mirageoscience-apps\\docs\\content\\applications",
        "C:\\Users\\dominiquef\\Documents\\GIT\\mira\\mirageoscience-apps\\docs\\content",
        "C:\\Users\\dominiquef\\Documents\\GIT\\mira\\mirageoscience-apps\\docs",
        "C:\\Users\\dominiquef\\Documents\\GIT\\mira\\mirageoscience-apps",
        "C:\\Users\\dominiquef\\Documents\\GIT\\mira",
        "C:\\Users\\dominiquef\\Documents\\GIT",
        "C:\\Users\\dominiquef\\Documents",
        "C:\\Users\\dominiquef",
        "C:\\Users",
        "C:\\",
        "D:\\",
        "Z:\\"
       ],
       "index": 0,
       "layout": "IPY_MODEL_40d26091f6344a079853329502f267fa",
       "style": "IPY_MODEL_45d6925ad945432c9c4b90aa85c54bf9"
      }
     },
     "aa66ab5598764c91a7677b6307d498bf": {
      "model_module": "@jupyter-widgets/controls",
      "model_module_version": "1.5.0",
      "model_name": "DropdownModel",
      "state": {
       "_options_labels": [
        "",
        "Predicted",
        "Mesh",
        "fault_splay1",
        "fault_Cliff_Lake",
        "fault_Other_FlinFlon",
        "fault_Club_Lake_splay",
        "fault_Catherine_splay2",
        "fault_Birch_View",
        "fault_Dion_Lake",
        "fault_FlinFlon_splay",
        "fault_West_Mandy_Road",
        "fault_Channing",
        "fault_Ross_Lake",
        "fault_Louis_Hidden",
        "fault_Lake_View_thrust",
        "contact_Schist_Lake",
        "fault_Burley_Lake",
        "fault_Dion_Lake_splay",
        "fault_Green_Lake",
        "fault_FlinFlon",
        "fault_Catherine_splay1",
        "fault_East_Mandy_Road",
        "fault_Other_FlinFlon_South",
        "fault_Catherine_splay4",
        "contact_Stitt_Island",
        "fault_Club_Lake",
        "fault_Tailing_Pond",
        "35_Hidden_Reservoir_Hr5",
        "29_Hidden_Reservoir_Hr1a",
        "60_BlueLagoon_Fb2",
        "20_FlinFlon_Undivided_Int_Dykes_D2f",
        "04_Boundary_Intrusive_S4h",
        "53_Millrock_Rhyolite_Fm4b",
        "19_FlinFlon_Undivided_Int_Dykes_D2b",
        "18_FlinFlon_Undivided_Int_Dykes_777_D2b",
        "06_Phantom_Lake_Intrusive_S3a",
        "21_FlinFlon_Undivided_Int_Dykes_D3a",
        "43_Millrock_CHLSH_South",
        "56_Millrock_Basalt_Fm1ba",
        "17_FlinFlon_Undivided_Int_Dykes_D2",
        "32_Hidden_Reservoir_Hr1b_SW",
        "11_Missi_M3_NE",
        "13_Missi_M1",
        "07_Annabel_Granitoid_S1",
        "45_Millrock_Gabbro_South",
        "01_Late_Intrusive_S5b",
        "31_Hidden_Reservoir_Hr1c_SW",
        "52_Millrock_Rhyolite_Fm4_West_check",
        "55_Millrock_Basalt_Fm1bf",
        "34_Hidden_Reservoir_Hr2b",
        "03_Boundary_Intrusive_S4b",
        "42_Millrock_CHLSH_North",
        "26_Louis_L3",
        "23_FlinFlon_Undivided_Int_Felsic_D4g",
        "30_Hidden_Reservoir_Hr1b",
        "59_BlueLagoon_Fb3",
        "49_Millrock_MVR_Fm5d",
        "44_Millrock_Gabbro_North",
        "27_Hidden_Carlisle_Hc4",
        "22_FlinFlon_Undivided_Int_Felsic_D4e",
        "02_Boundary_Intrusive_S4a",
        "61_BlueLagoon_Fb1_NW",
        "05_Boundary_Intrusive_S4g",
        "39_Ore_Callinan",
        "38_Ore_Dan_Owens",
        "40_Ore_FlinFlon",
        "Inversion_VTEM_Model",
        "Gravity_Magnetics_drape60m",
        "CDI_VTEM_model",
        "Data_FEM_pseudo3D",
        "O2O_Interp_25m",
        "geochem",
        "Inversion_DIGHEM_Model",
        "Topography",
        "Data_TEM_pseudo3D"
       ],
       "description": "Object",
       "index": 0,
       "layout": "IPY_MODEL_23f84ec7e50d42c4b161704b621613f3",
       "style": "IPY_MODEL_ecec24e75c2540618147da456e984451"
      }
     },
     "aa8a7d7fae60431ba0fd44c928c43501": {
      "model_module": "@jupyter-widgets/controls",
      "model_module_version": "1.5.0",
      "model_name": "CheckboxModel",
      "state": {
       "description": "Active",
       "disabled": false,
       "layout": "IPY_MODEL_dcbb1d30469d49009aa0a25d5353fd0c",
       "style": "IPY_MODEL_65a2507c9bdf4551af27ff3230d96203",
       "value": false
      }
     },
     "aaa6bbbf92ac40d1940c1444521b415a": {
      "model_module": "@jupyter-widgets/base",
      "model_module_version": "1.2.0",
      "model_name": "LayoutModel",
      "state": {
       "display": "none",
       "width": "auto"
      }
     },
     "aae2a54720014daca10d5e7ffb963e69": {
      "model_module": "@jupyter-widgets/base",
      "model_module_version": "1.2.0",
      "model_name": "LayoutModel",
      "state": {}
     },
     "ab22cdd3bc9646d887dd8119af3ce6f5": {
      "model_module": "@jupyter-widgets/base",
      "model_module_version": "1.2.0",
      "model_name": "LayoutModel",
      "state": {}
     },
     "ab282031aa7642bdbc2b96b95ef649b3": {
      "model_module": "@jupyter-widgets/base",
      "model_module_version": "1.2.0",
      "model_name": "LayoutModel",
      "state": {}
     },
     "ab3924f5750940a0a57fad31b6d4e1e5": {
      "model_module": "@jupyter-widgets/base",
      "model_module_version": "1.2.0",
      "model_name": "LayoutModel",
      "state": {
       "grid_area": "dircontent",
       "width": "auto"
      }
     },
     "ab7d3b2bbe124950ad1347b4823178da": {
      "model_module": "@jupyter-widgets/controls",
      "model_module_version": "1.5.0",
      "model_name": "DescriptionStyleModel",
      "state": {
       "description_width": ""
      }
     },
     "ab9fe5f43f1844f788b4ab21761a0aab": {
      "model_module": "@jupyter-widgets/base",
      "model_module_version": "1.2.0",
      "model_name": "LayoutModel",
      "state": {
       "display": "none",
       "grid_gap": "0px 0px",
       "grid_template_areas": "\n                    'pathlist pathlist'\n                    'dircontent dircontent'\n                    ",
       "grid_template_columns": "60% 40%",
       "grid_template_rows": "auto auto",
       "width": "500px"
      }
     },
     "ababb352f5314b80bbb3bffb99ea6570": {
      "model_module": "@jupyter-widgets/controls",
      "model_module_version": "1.5.0",
      "model_name": "TextModel",
      "state": {
       "continuous_update": false,
       "description": "Group:",
       "layout": "IPY_MODEL_7d3e692cf2744de4bb9d650bba668c6e",
       "style": "IPY_MODEL_694d89a934f24be4a74fe3101e4c8bbf"
      }
     },
     "abc256865ac947ca843164089390d23f": {
      "model_module": "@jupyter-widgets/controls",
      "model_module_version": "1.5.0",
      "model_name": "DropdownModel",
      "state": {
       "_options_labels": [
        "C:\\Users\\dominiquef\\Documents\\GIT\\mira\\mirageoscience-apps\\docs\\content\\applications",
        "C:\\Users\\dominiquef\\Documents\\GIT\\mira\\mirageoscience-apps\\docs\\content",
        "C:\\Users\\dominiquef\\Documents\\GIT\\mira\\mirageoscience-apps\\docs",
        "C:\\Users\\dominiquef\\Documents\\GIT\\mira\\mirageoscience-apps",
        "C:\\Users\\dominiquef\\Documents\\GIT\\mira",
        "C:\\Users\\dominiquef\\Documents\\GIT",
        "C:\\Users\\dominiquef\\Documents",
        "C:\\Users\\dominiquef",
        "C:\\Users",
        "C:\\",
        "D:\\",
        "Z:\\"
       ],
       "index": 0,
       "layout": "IPY_MODEL_381f58874e8640f6a3bccf7c4745a905",
       "style": "IPY_MODEL_79a55bfc1137485c8d04be955725d39c"
      }
     },
     "abde112f0d804646ae5ddfd96c84eaeb": {
      "model_module": "@jupyter-widgets/base",
      "model_module_version": "1.2.0",
      "model_name": "LayoutModel",
      "state": {
       "width": "auto"
      }
     },
     "ac072f3432aa4df0838d10449e4eb5e3": {
      "model_module": "@jupyter-widgets/controls",
      "model_module_version": "1.5.0",
      "model_name": "VBoxModel",
      "state": {
       "children": [
        "IPY_MODEL_6a47e1a522e145468caee7197bbbe887",
        "IPY_MODEL_7365c362b71c4963a430f827b119e59c"
       ],
       "layout": "IPY_MODEL_98ad98d27559440cbb348a8e2b1a9236"
      }
     },
     "ac440740cdd24e6fb38b81bc62510a94": {
      "model_module": "@jupyter-widgets/controls",
      "model_module_version": "1.5.0",
      "model_name": "DescriptionStyleModel",
      "state": {
       "description_width": ""
      }
     },
     "acc091d15fd64c1da86195a4447d709e": {
      "model_module": "@jupyter-widgets/controls",
      "model_module_version": "1.5.0",
      "model_name": "RadioButtonsModel",
      "state": {
       "_options_labels": [
        "None",
        "Model",
        "Value"
       ],
       "index": 2,
       "layout": "IPY_MODEL_9ec8f17e58be43b69e2611d7d746de57",
       "style": "IPY_MODEL_bd76ab59a6a34ee7b5885cee51e97b87"
      }
     },
     "ad03e23f15a040619a1b2a5a19bae5e5": {
      "model_module": "@jupyter-widgets/controls",
      "model_module_version": "1.5.0",
      "model_name": "VBoxModel",
      "state": {
       "children": [
        "IPY_MODEL_6761960dc95347a29bab6e28dc9fffaf"
       ],
       "layout": "IPY_MODEL_bfec85b2b6224f13b25054fcfb366922"
      }
     },
     "ad06093a5cc44dc5b4b0bfcda7368827": {
      "model_module": "@jupyter-widgets/base",
      "model_module_version": "1.2.0",
      "model_name": "LayoutModel",
      "state": {
       "display": "none",
       "grid_area": "filename",
       "width": "auto"
      }
     },
     "ad2d30813f124851b9254b753eb22d6c": {
      "model_module": "@jupyter-widgets/controls",
      "model_module_version": "1.5.0",
      "model_name": "FloatTextModel",
      "state": {
       "description": "Constant elevation (m)",
       "layout": "IPY_MODEL_a0864b5c4d67425cbf47ee6a6b431945",
       "step": null,
       "style": "IPY_MODEL_4a7f9acc781f4509b57d24f94769f2e7"
      }
     },
     "adcf0306e14045938e26ec02418579d1": {
      "model_module": "@jupyter-widgets/base",
      "model_module_version": "1.2.0",
      "model_name": "LayoutModel",
      "state": {}
     },
     "ade49b913971465a98d6273281f5cbf5": {
      "model_module": "@jupyter-widgets/controls",
      "model_module_version": "1.5.0",
      "model_name": "VBoxModel",
      "state": {
       "children": [
        "IPY_MODEL_87d78beff9bf48b0b6138901761a363d",
        "IPY_MODEL_69a9dfc596124a89a11330d55c3b5509"
       ],
       "layout": "IPY_MODEL_eb56e4b63fec4fb39d2bc21bc6a124b4"
      }
     },
     "ae0982d4f02e45eda63c4770b0d8a891": {
      "model_module": "@jupyter-widgets/controls",
      "model_module_version": "1.5.0",
      "model_name": "DescriptionStyleModel",
      "state": {
       "description_width": ""
      }
     },
     "ae0c0cb0690a430496d61a7d8c11e213": {
      "model_module": "@jupyter-widgets/controls",
      "model_module_version": "1.5.0",
      "model_name": "DescriptionStyleModel",
      "state": {
       "description_width": "initial"
      }
     },
     "ae1061cfbc8f45028f356fa566cd3c0e": {
      "model_module": "@jupyter-widgets/controls",
      "model_module_version": "1.5.0",
      "model_name": "HTMLModel",
      "state": {
       "layout": "IPY_MODEL_fa2b14b36ae146b09cb0c41f15b6e12b",
       "placeholder": "",
       "style": "IPY_MODEL_2e902f7ca276477d89ea898e3b4ce157",
       "value": "<span style=\"margin-left:10px; color:green;\">C:\\Users\\dominiquef\\Documents\\GIT\\mira\\mirageoscience-apps\\assets\\</span>"
      }
     },
     "ae38f6cdd4234e49aff93a6da2a4796d": {
      "model_module": "@jupyter-widgets/controls",
      "model_module_version": "1.5.0",
      "model_name": "DescriptionStyleModel",
      "state": {
       "description_width": ""
      }
     },
     "ae9c920f3d33484388f9daca3495fff1": {
      "model_module": "@jupyter-widgets/base",
      "model_module_version": "1.2.0",
      "model_name": "LayoutModel",
      "state": {}
     },
     "aeabb8141e5d48ad9eff0e27fe7a51fa": {
      "model_module": "@jupyter-widgets/controls",
      "model_module_version": "1.5.0",
      "model_name": "VBoxModel",
      "state": {
       "children": [
        "IPY_MODEL_94d19e2973274327a5bb1ef84cc760ef",
        "IPY_MODEL_c92960a548064734910ade745a16f1cc",
        "IPY_MODEL_4769a005382c421b9bc29e42316a29bf"
       ],
       "layout": "IPY_MODEL_10bd2ca935564b6b941916bda12d35c8"
      }
     },
     "aee25d66acf34e1798b34d2ce9c1e80b": {
      "model_module": "@jupyter-widgets/base",
      "model_module_version": "1.2.0",
      "model_name": "LayoutModel",
      "state": {
       "grid_area": "pathlist",
       "width": "auto"
      }
     },
     "af12d9a55cd643c1ac7245e6de76f871": {
      "model_module": "@jupyter-widgets/controls",
      "model_module_version": "1.5.0",
      "model_name": "SelectMultipleModel",
      "state": {
       "description": "Select lines:",
       "index": [],
       "layout": "IPY_MODEL_106e2554feec4ec0afed26a7ace62b86",
       "rows": 5,
       "style": "IPY_MODEL_02df9f86ce71496b92cf88a71f6b288c"
      }
     },
     "af2ff98b7e564f2098a2a1cd0ee6cb44": {
      "model_module": "@jupyter-widgets/controls",
      "model_module_version": "1.5.0",
      "model_name": "DescriptionStyleModel",
      "state": {
       "description_width": "initial"
      }
     },
     "af3da5e39cd7405e8435d236368f7ddf": {
      "model_module": "@jupyter-widgets/controls",
      "model_module_version": "1.5.0",
      "model_name": "DescriptionStyleModel",
      "state": {
       "description_width": ""
      }
     },
     "af5168cd5d9b47e9a3960b620302439b": {
      "model_module": "@jupyter-widgets/base",
      "model_module_version": "1.2.0",
      "model_name": "LayoutModel",
      "state": {
       "width": "auto"
      }
     },
     "af5bbb81c5314f299e71b276ca4ae8db": {
      "model_module": "@jupyter-widgets/controls",
      "model_module_version": "1.5.0",
      "model_name": "HBoxModel",
      "state": {
       "children": [
        "IPY_MODEL_3c6bfc353b0b46b88c1f4d0318bc9299",
        "IPY_MODEL_4905750e55a7461b96cd06b783f53895",
        "IPY_MODEL_efa8fe3e435f42b2be3e105863bc6a70"
       ],
       "layout": "IPY_MODEL_16f7f6c0b4d74ace9c2e9207b79b3a1c"
      }
     },
     "afa556e02f13434f8e20007bcdf5c210": {
      "model_module": "@jupyter-widgets/base",
      "model_module_version": "1.2.0",
      "model_name": "LayoutModel",
      "state": {
       "display": "none",
       "grid_area": "filename",
       "width": "auto"
      }
     },
     "aff89697136042c2bab59d9765fe3a7a": {
      "model_module": "@jupyter-widgets/controls",
      "model_module_version": "1.5.0",
      "model_name": "HBoxModel",
      "state": {
       "children": [
        "IPY_MODEL_a06739cabce948b0a682f6c9bdf87e06",
        "IPY_MODEL_e286c3c7273844019137577a88d0759b",
        "IPY_MODEL_f79e150381824798a2ec372b86085e45"
       ],
       "layout": "IPY_MODEL_7ee2cb39d77c4bacb26cc5b0fafbc0f5"
      }
     },
     "affeaa83706841608a444eef658d532d": {
      "model_module": "@jupyter-widgets/base",
      "model_module_version": "1.2.0",
      "model_name": "LayoutModel",
      "state": {}
     },
     "b010b56883314f41a6ab77fcfe7601af": {
      "model_module": "@jupyter-widgets/base",
      "model_module_version": "1.2.0",
      "model_name": "LayoutModel",
      "state": {}
     },
     "b090514332164416b6ad6ee15dd63317": {
      "model_module": "@jupyter-widgets/controls",
      "model_module_version": "1.5.0",
      "model_name": "ButtonStyleModel",
      "state": {}
     },
     "b0aa67afe8dd4a3085082fb6a5834f81": {
      "model_module": "@jupyter-widgets/controls",
      "model_module_version": "1.5.0",
      "model_name": "ButtonModel",
      "state": {
       "description": "Select",
       "layout": "IPY_MODEL_7f755aa26ab342f7a17cbf5e1ca05bc4",
       "style": "IPY_MODEL_9dcbe2f479a04c1d83807754e15436fc"
      }
     },
     "b0f40139c2ab4bd98b2678e05e812917": {
      "model_module": "@jupyter-widgets/controls",
      "model_module_version": "1.5.0",
      "model_name": "GridBoxModel",
      "state": {
       "children": [
        "IPY_MODEL_81980d5381124771a37d0e11a9c53b0b",
        "IPY_MODEL_c3747a0934fc47d788cde1a41d4fc1d4",
        "IPY_MODEL_46d8e57d1768413e952760774c73e785"
       ],
       "layout": "IPY_MODEL_78a487d19dee4597a9eb3de833631966"
      }
     },
     "b13b95ba678e4181b56f8a6e0377bfa6": {
      "model_module": "@jupyter-widgets/controls",
      "model_module_version": "1.5.0",
      "model_name": "VBoxModel",
      "state": {
       "children": [
        "IPY_MODEL_df3b156f1efa475693f24217608927b7",
        "IPY_MODEL_67818ad0aa074c63a0020d99bc5d12a2",
        "IPY_MODEL_07b09b3e814849cc98f68051b7e8fcbe"
       ],
       "layout": "IPY_MODEL_d249d1970d0741e8934c10ce271ed6ba"
      }
     },
     "b15bb2deb85f4b758f9700d77965a8fc": {
      "model_module": "@jupyter-widgets/controls",
      "model_module_version": "1.5.0",
      "model_name": "ButtonModel",
      "state": {
       "button_style": "danger",
       "description": "Compute",
       "icon": "check",
       "layout": "IPY_MODEL_75c65f3ddba04e38be542c27e7cb35ea",
       "style": "IPY_MODEL_341f7647966f4d7c97391414f57762c6",
       "tooltip": "Run computation"
      }
     },
     "b1626180eb024901a42d234b5fde6fed": {
      "model_module": "@jupyter-widgets/controls",
      "model_module_version": "1.5.0",
      "model_name": "DropdownModel",
      "state": {
       "description": "Values",
       "index": null,
       "layout": "IPY_MODEL_affeaa83706841608a444eef658d532d",
       "style": "IPY_MODEL_df05dfc04ef44bf5a0686555ef559ac4"
      }
     },
     "b19ce37a76e64f1aafbdd7ad8b1c6cad": {
      "model_module": "@jupyter-widgets/controls",
      "model_module_version": "1.5.0",
      "model_name": "TextModel",
      "state": {
       "disabled": true,
       "layout": "IPY_MODEL_2b87ac27d926442288232462a6358c98",
       "placeholder": "output filename",
       "style": "IPY_MODEL_d65c0d3132434851a458cce1a2b4b55a"
      }
     },
     "b1bc39cc945844639b31a9ed958d2033": {
      "model_module": "@jupyter-widgets/controls",
      "model_module_version": "1.5.0",
      "model_name": "DescriptionStyleModel",
      "state": {
       "description_width": "initial"
      }
     },
     "b1d383bdeb214a528e13b9a3d048d791": {
      "model_module": "@jupyter-widgets/controls",
      "model_module_version": "1.5.0",
      "model_name": "ButtonModel",
      "state": {
       "description": "Cancel",
       "layout": "IPY_MODEL_cc831fea04c64288a4aad726353589f6",
       "style": "IPY_MODEL_2c2538cccd0b4469b7dde7579b548fd2"
      }
     },
     "b220d6a70f054ba79d49902daafbd0cf": {
      "model_module": "@jupyter-widgets/controls",
      "model_module_version": "1.5.0",
      "model_name": "DropdownModel",
      "state": {
       "_options_labels": [
        "",
        "Predicted",
        "Mesh",
        "fault_splay1",
        "fault_Cliff_Lake",
        "fault_Other_FlinFlon",
        "fault_Club_Lake_splay",
        "fault_Catherine_splay2",
        "fault_Birch_View",
        "fault_Dion_Lake",
        "fault_FlinFlon_splay",
        "fault_West_Mandy_Road",
        "fault_Channing",
        "fault_Ross_Lake",
        "fault_Louis_Hidden",
        "fault_Lake_View_thrust",
        "contact_Schist_Lake",
        "fault_Burley_Lake",
        "fault_Dion_Lake_splay",
        "fault_Green_Lake",
        "fault_FlinFlon",
        "fault_Catherine_splay1",
        "fault_East_Mandy_Road",
        "fault_Other_FlinFlon_South",
        "fault_Catherine_splay4",
        "contact_Stitt_Island",
        "fault_Club_Lake",
        "fault_Tailing_Pond",
        "35_Hidden_Reservoir_Hr5",
        "29_Hidden_Reservoir_Hr1a",
        "60_BlueLagoon_Fb2",
        "20_FlinFlon_Undivided_Int_Dykes_D2f",
        "04_Boundary_Intrusive_S4h",
        "53_Millrock_Rhyolite_Fm4b",
        "19_FlinFlon_Undivided_Int_Dykes_D2b",
        "18_FlinFlon_Undivided_Int_Dykes_777_D2b",
        "06_Phantom_Lake_Intrusive_S3a",
        "21_FlinFlon_Undivided_Int_Dykes_D3a",
        "43_Millrock_CHLSH_South",
        "56_Millrock_Basalt_Fm1ba",
        "17_FlinFlon_Undivided_Int_Dykes_D2",
        "32_Hidden_Reservoir_Hr1b_SW",
        "11_Missi_M3_NE",
        "13_Missi_M1",
        "07_Annabel_Granitoid_S1",
        "45_Millrock_Gabbro_South",
        "01_Late_Intrusive_S5b",
        "31_Hidden_Reservoir_Hr1c_SW",
        "52_Millrock_Rhyolite_Fm4_West_check",
        "55_Millrock_Basalt_Fm1bf",
        "34_Hidden_Reservoir_Hr2b",
        "03_Boundary_Intrusive_S4b",
        "42_Millrock_CHLSH_North",
        "26_Louis_L3",
        "23_FlinFlon_Undivided_Int_Felsic_D4g",
        "30_Hidden_Reservoir_Hr1b",
        "59_BlueLagoon_Fb3",
        "49_Millrock_MVR_Fm5d",
        "44_Millrock_Gabbro_North",
        "27_Hidden_Carlisle_Hc4",
        "22_FlinFlon_Undivided_Int_Felsic_D4e",
        "02_Boundary_Intrusive_S4a",
        "61_BlueLagoon_Fb1_NW",
        "05_Boundary_Intrusive_S4g",
        "39_Ore_Callinan",
        "38_Ore_Dan_Owens",
        "40_Ore_FlinFlon",
        "Inversion_VTEM_Model",
        "Gravity_Magnetics_drape60m",
        "CDI_VTEM_model",
        "Data_FEM_pseudo3D",
        "O2O_Interp_25m",
        "geochem",
        "Inversion_DIGHEM_Model",
        "Topography",
        "Data_TEM_pseudo3D"
       ],
       "description": "Object:",
       "index": 74,
       "layout": "IPY_MODEL_98009789549b4330ab4e79287985e6db",
       "style": "IPY_MODEL_a9a5188b92d8402390ff954cca55557d"
      }
     },
     "b232bc30307340a78a477ffa4c314b96": {
      "model_module": "@jupyter-widgets/controls",
      "model_module_version": "1.5.0",
      "model_name": "DescriptionStyleModel",
      "state": {
       "description_width": ""
      }
     },
     "b2374aacbc4340fcb07ab204eb412548": {
      "model_module": "@jupyter-widgets/controls",
      "model_module_version": "1.5.0",
      "model_name": "DescriptionStyleModel",
      "state": {
       "description_width": ""
      }
     },
     "b2452cde29a342abbb07c7a0d112b072": {
      "model_module": "@jupyter-widgets/controls",
      "model_module_version": "1.5.0",
      "model_name": "VBoxModel",
      "state": {
       "children": [
        "IPY_MODEL_f959249c6d744cf583be0daf2a1c9ba2",
        "IPY_MODEL_9c2294b79b2544b49a6f7cf510c9647a",
        "IPY_MODEL_5393ca76bdd543faa3f91350a76ea346",
        "IPY_MODEL_58cd907f5d6e4507bdb8b8850492975a",
        "IPY_MODEL_96f82b5a1f6a482d93439e021403cda4"
       ],
       "layout": "IPY_MODEL_807f32783f464e56b2151ad95e05f1d4"
      }
     },
     "b2b178f667f44f86b74fff64b13ad787": {
      "model_module": "@jupyter-widgets/controls",
      "model_module_version": "1.5.0",
      "model_name": "DescriptionStyleModel",
      "state": {
       "description_width": "initial"
      }
     },
     "b2cfa99daaf940eb80ccfc175eec397a": {
      "model_module": "@jupyter-widgets/base",
      "model_module_version": "1.2.0",
      "model_name": "LayoutModel",
      "state": {
       "grid_area": "pathlist",
       "width": "auto"
      }
     },
     "b34cb6a79e5f4f4bb180f2f3ef62651a": {
      "model_module": "@jupyter-widgets/controls",
      "model_module_version": "1.5.0",
      "model_name": "TextModel",
      "state": {
       "description": "Offsets (x,y,z)",
       "layout": "IPY_MODEL_2b8e0647528c4ddba4bc296e2ba2624c",
       "style": "IPY_MODEL_90aeca42bd81439b912a290b9a0c6ae1",
       "value": "0, 0, 0"
      }
     },
     "b3604fd151044d21808661ebd6c6a9d4": {
      "model_module": "@jupyter-widgets/controls",
      "model_module_version": "1.5.0",
      "model_name": "HTMLModel",
      "state": {
       "layout": "IPY_MODEL_547851c27057467f97c74aaf0ef61b1d",
       "style": "IPY_MODEL_7986fa2bcc8d48ceb99168ba1e7389c5"
      }
     },
     "b3a699e152164edea28bbc71b39f9409": {
      "model_module": "@jupyter-widgets/controls",
      "model_module_version": "1.5.0",
      "model_name": "ButtonStyleModel",
      "state": {}
     },
     "b3c636e448044fd2a38421ff4c7e7e2c": {
      "model_module": "@jupyter-widgets/controls",
      "model_module_version": "1.5.0",
      "model_name": "DescriptionStyleModel",
      "state": {
       "description_width": ""
      }
     },
     "b3f72ff2997646fe939c74bf6186d250": {
      "model_module": "@jupyter-widgets/controls",
      "model_module_version": "1.5.0",
      "model_name": "DescriptionStyleModel",
      "state": {
       "description_width": "initial"
      }
     },
     "b43195b62a7e44c4905428e447fbffc2": {
      "model_module": "@jupyter-widgets/controls",
      "model_module_version": "1.5.0",
      "model_name": "VBoxModel",
      "state": {
       "children": [
        "IPY_MODEL_b5cfa01bcc8d49efbf12e0bb50336684",
        "IPY_MODEL_7d1c8bba29694919bab4b65ebd77d684"
       ],
       "layout": "IPY_MODEL_b6e7f713219e4fefa5db52d9f0c13474"
      }
     },
     "b439a6331504469fb94b31cec3ef5cbd": {
      "model_module": "@jupyter-widgets/base",
      "model_module_version": "1.2.0",
      "model_name": "LayoutModel",
      "state": {}
     },
     "b441fa7004bf4c09a00a5d32f38524a7": {
      "model_module": "@jupyter-widgets/base",
      "model_module_version": "1.2.0",
      "model_name": "LayoutModel",
      "state": {}
     },
     "b44ef4e536f44e938054ebbdcc825823": {
      "model_module": "@jupyter-widgets/base",
      "model_module_version": "1.2.0",
      "model_name": "LayoutModel",
      "state": {
       "visibility": "hidden"
      }
     },
     "b4533530a7db40a8bf9994a739696407": {
      "model_module": "@jupyter-widgets/base",
      "model_module_version": "1.2.0",
      "model_name": "LayoutModel",
      "state": {}
     },
     "b464d089dfae447ebadade4a01509530": {
      "model_module": "@jupyter-widgets/controls",
      "model_module_version": "1.5.0",
      "model_name": "HTMLModel",
      "state": {
       "layout": "IPY_MODEL_43e1162a45004e6993e28a440d748e53",
       "placeholder": "",
       "style": "IPY_MODEL_78c1185204f644c2b7ec94eed796c5b3",
       "value": "<span style=\"margin-left:10px; color:black;\">No file selected</span>"
      }
     },
     "b4bd8d05cfc44422ba6d432f5269e211": {
      "model_module": "@jupyter-widgets/controls",
      "model_module_version": "1.5.0",
      "model_name": "DescriptionStyleModel",
      "state": {
       "description_width": ""
      }
     },
     "b4dfcae7f59e49d8872d8d23f918b47b": {
      "model_module": "@jupyter-widgets/base",
      "model_module_version": "1.2.0",
      "model_name": "LayoutModel",
      "state": {
       "display": "none"
      }
     },
     "b4f5612a115f4388bb14727dcbfd1c38": {
      "model_module": "@jupyter-widgets/controls",
      "model_module_version": "1.5.0",
      "model_name": "SelectModel",
      "state": {
       "_options_labels": [
        "..",
        "images"
       ],
       "index": null,
       "layout": "IPY_MODEL_2d862affe2cc49e9aeeb389b30e27362",
       "rows": 8,
       "style": "IPY_MODEL_794660c80f7246d6917fb0c6b1814379"
      }
     },
     "b57279f9bfba4457be7aaa1064bc9194": {
      "model_module": "@jupyter-widgets/controls",
      "model_module_version": "1.5.0",
      "model_name": "GridBoxModel",
      "state": {
       "children": [
        "IPY_MODEL_7d94222872eb4ed092eabd84f9fdff06",
        "IPY_MODEL_3f6116318bf64f5082b6d9554ce2faf5",
        "IPY_MODEL_b4f5612a115f4388bb14727dcbfd1c38"
       ],
       "layout": "IPY_MODEL_6a6ead56f10642d299baca7cbb129c46"
      }
     },
     "b5b44b87c7d744c181faac6b7b83927a": {
      "model_module": "@jupyter-widgets/base",
      "model_module_version": "1.2.0",
      "model_name": "LayoutModel",
      "state": {}
     },
     "b5b5c322ec0e4a5b896f61b564ef3fd9": {
      "model_module": "@jupyter-widgets/controls",
      "model_module_version": "1.5.0",
      "model_name": "VBoxModel",
      "state": {
       "children": [
        "IPY_MODEL_c347eb204da443e7a9209153824f6fec",
        "IPY_MODEL_74d5d5882b2c40dabefb1e9a50854fce"
       ],
       "layout": "IPY_MODEL_2ecbab900bd94579b285d7655ea15c24"
      }
     },
     "b5cfa01bcc8d49efbf12e0bb50336684": {
      "model_module": "@jupyter-widgets/controls",
      "model_module_version": "1.5.0",
      "model_name": "LabelModel",
      "state": {
       "layout": "IPY_MODEL_baa4f9c5578d47ff8fd5ef8ef784f5c0",
       "style": "IPY_MODEL_9cfb7f627d5c43e2897a2115235023d8",
       "value": "Workspace"
      }
     },
     "b5d11fae8b5149228e14efc44f6f13b7": {
      "model_module": "@jupyter-widgets/controls",
      "model_module_version": "1.5.0",
      "model_name": "ButtonModel",
      "state": {
       "description": "Create copy:",
       "layout": "IPY_MODEL_8d3acfb3b4134490983b775550c7f77b",
       "style": "IPY_MODEL_a98da9db7bd049a6b0904285ca27dbee"
      }
     },
     "b5f334a314944a67a50311bb981b3f0f": {
      "model_module": "@jupyter-widgets/controls",
      "model_module_version": "1.5.0",
      "model_name": "LabelModel",
      "state": {
       "layout": "IPY_MODEL_c0771490e5da4089838fa86e89af2b2b",
       "style": "IPY_MODEL_57a3e49e6838433db0c95354c4eec39e",
       "value": "Octree Mesh"
      }
     },
     "b60da6e901bb4f4e82a7d556cef883cf": {
      "model_module": "@jupyter-widgets/base",
      "model_module_version": "1.2.0",
      "model_name": "LayoutModel",
      "state": {}
     },
     "b678bd84b018498395733b3ad20a9e12": {
      "model_module": "@jupyter-widgets/controls",
      "model_module_version": "1.5.0",
      "model_name": "DescriptionStyleModel",
      "state": {
       "description_width": ""
      }
     },
     "b69cc4dfc77e4424afa73be1d1b2611d": {
      "model_module": "@jupyter-widgets/controls",
      "model_module_version": "1.5.0",
      "model_name": "HBoxModel",
      "state": {
       "children": [
        "IPY_MODEL_7903391db6b04959818fbe9ea8a075c9"
       ],
       "layout": "IPY_MODEL_97c0b51bfd2348ebb9ceb57f15903066"
      }
     },
     "b69f546c3e044b9e9a240bfee3f88976": {
      "model_module": "@jupyter-widgets/controls",
      "model_module_version": "1.5.0",
      "model_name": "ButtonStyleModel",
      "state": {}
     },
     "b6a7e23b9c154da9bec6b3e9a9c2f9a0": {
      "model_module": "@jupyter-widgets/controls",
      "model_module_version": "1.5.0",
      "model_name": "DescriptionStyleModel",
      "state": {
       "description_width": ""
      }
     },
     "b6b5b92a970a4b359b0b8634b4cdf14e": {
      "model_module": "@jupyter-widgets/controls",
      "model_module_version": "1.5.0",
      "model_name": "DropdownModel",
      "state": {
       "_options_labels": [
        "",
        "--- Channels ---",
        "Airborne_Gxx",
        "Airborne_Gxy",
        "Airborne_Gxz",
        "Airborne_Gyy",
        "Airborne_Gyz",
        "Airborne_Gz",
        "Airborne_Gzz",
        "Airborne_TMI",
        "Ground_Gz",
        "Z"
       ],
       "description": "Channel <=> Data:",
       "index": 0,
       "layout": "IPY_MODEL_f65f810e28aa449a95f2e9a762fb15a4",
       "style": "IPY_MODEL_67af0e643ec2452aa7fd1838ec6f25d6"
      }
     },
     "b6e7f713219e4fefa5db52d9f0c13474": {
      "model_module": "@jupyter-widgets/base",
      "model_module_version": "1.2.0",
      "model_name": "LayoutModel",
      "state": {}
     },
     "b7020b94c5124ae5916719b5cbece098": {
      "model_module": "@jupyter-widgets/base",
      "model_module_version": "1.2.0",
      "model_name": "LayoutModel",
      "state": {}
     },
     "b70bd0d233934e998a14c633f7697bee": {
      "model_module": "@jupyter-widgets/controls",
      "model_module_version": "1.5.0",
      "model_name": "DropdownModel",
      "state": {
       "_options_labels": [
        "",
        "Predicted",
        "Mesh",
        "fault_splay1",
        "fault_Cliff_Lake",
        "fault_Other_FlinFlon",
        "fault_Club_Lake_splay",
        "fault_Catherine_splay2",
        "fault_Birch_View",
        "fault_Dion_Lake",
        "fault_FlinFlon_splay",
        "fault_West_Mandy_Road",
        "fault_Channing",
        "fault_Ross_Lake",
        "fault_Louis_Hidden",
        "fault_Lake_View_thrust",
        "contact_Schist_Lake",
        "fault_Burley_Lake",
        "fault_Dion_Lake_splay",
        "fault_Green_Lake",
        "fault_FlinFlon",
        "fault_Catherine_splay1",
        "fault_East_Mandy_Road",
        "fault_Other_FlinFlon_South",
        "fault_Catherine_splay4",
        "contact_Stitt_Island",
        "fault_Club_Lake",
        "fault_Tailing_Pond",
        "35_Hidden_Reservoir_Hr5",
        "29_Hidden_Reservoir_Hr1a",
        "60_BlueLagoon_Fb2",
        "20_FlinFlon_Undivided_Int_Dykes_D2f",
        "04_Boundary_Intrusive_S4h",
        "53_Millrock_Rhyolite_Fm4b",
        "19_FlinFlon_Undivided_Int_Dykes_D2b",
        "18_FlinFlon_Undivided_Int_Dykes_777_D2b",
        "06_Phantom_Lake_Intrusive_S3a",
        "21_FlinFlon_Undivided_Int_Dykes_D3a",
        "43_Millrock_CHLSH_South",
        "56_Millrock_Basalt_Fm1ba",
        "17_FlinFlon_Undivided_Int_Dykes_D2",
        "32_Hidden_Reservoir_Hr1b_SW",
        "11_Missi_M3_NE",
        "13_Missi_M1",
        "07_Annabel_Granitoid_S1",
        "45_Millrock_Gabbro_South",
        "01_Late_Intrusive_S5b",
        "31_Hidden_Reservoir_Hr1c_SW",
        "52_Millrock_Rhyolite_Fm4_West_check",
        "55_Millrock_Basalt_Fm1bf",
        "34_Hidden_Reservoir_Hr2b",
        "03_Boundary_Intrusive_S4b",
        "42_Millrock_CHLSH_North",
        "26_Louis_L3",
        "23_FlinFlon_Undivided_Int_Felsic_D4g",
        "30_Hidden_Reservoir_Hr1b",
        "59_BlueLagoon_Fb3",
        "49_Millrock_MVR_Fm5d",
        "44_Millrock_Gabbro_North",
        "27_Hidden_Carlisle_Hc4",
        "22_FlinFlon_Undivided_Int_Felsic_D4e",
        "02_Boundary_Intrusive_S4a",
        "61_BlueLagoon_Fb1_NW",
        "05_Boundary_Intrusive_S4g",
        "39_Ore_Callinan",
        "38_Ore_Dan_Owens",
        "40_Ore_FlinFlon",
        "Inversion_VTEM_Model",
        "Gravity_Magnetics_drape60m",
        "CDI_VTEM_model",
        "Data_FEM_pseudo3D",
        "O2O_Interp_25m",
        "geochem",
        "Inversion_DIGHEM_Model",
        "Topography",
        "Data_TEM_pseudo3D"
       ],
       "description": "Object:",
       "index": 0,
       "layout": "IPY_MODEL_3f5a12f417a74ade88e3ea51299c5284",
       "style": "IPY_MODEL_bf2b3d860e2f43adacbe2ab20c89752b"
      }
     },
     "b70f14db11f241419339865faff9d793": {
      "model_module": "@jupyter-widgets/base",
      "model_module_version": "1.2.0",
      "model_name": "LayoutModel",
      "state": {}
     },
     "b717d630d1134a91954228c97958b65f": {
      "model_module": "@jupyter-widgets/base",
      "model_module_version": "1.2.0",
      "model_name": "LayoutModel",
      "state": {
       "display": "none",
       "grid_gap": "0px 0px",
       "grid_template_areas": "\n                    'pathlist filename'\n                    'dircontent dircontent'\n                    ",
       "grid_template_columns": "60% 40%",
       "grid_template_rows": "auto auto",
       "width": "500px"
      }
     },
     "b75e9c5ffa5a40f5bad84dca8ba4e697": {
      "model_module": "@jupyter-widgets/controls",
      "model_module_version": "1.5.0",
      "model_name": "DescriptionStyleModel",
      "state": {
       "description_width": "initial"
      }
     },
     "b7c9fe97045a4f1fbfdee4ff894f933e": {
      "model_module": "@jupyter-widgets/controls",
      "model_module_version": "1.5.0",
      "model_name": "HTMLModel",
      "state": {
       "layout": "IPY_MODEL_a795beb5dc42464da541d659961e87b1",
       "placeholder": "",
       "style": "IPY_MODEL_3fa18cf307f3414596a55dca65e7314b",
       "value": "<span style=\"margin-left:10px; color:black;\">No file selected</span>"
      }
     },
     "b7dda8932e1c4fb888519e2efd55987b": {
      "model_module": "@jupyter-widgets/base",
      "model_module_version": "1.2.0",
      "model_name": "LayoutModel",
      "state": {}
     },
     "b8c5795f5dac4d0da5b6538e5d7adc16": {
      "model_module": "@jupyter-widgets/base",
      "model_module_version": "1.2.0",
      "model_name": "LayoutModel",
      "state": {}
     },
     "b8ea771dadf447d9acfe8983b798bc80": {
      "model_module": "@jupyter-widgets/controls",
      "model_module_version": "1.5.0",
      "model_name": "DescriptionStyleModel",
      "state": {
       "description_width": "initial"
      }
     },
     "b9098957e8c14cec9b8bd1c9a140d2d7": {
      "model_module": "@jupyter-widgets/controls",
      "model_module_version": "1.5.0",
      "model_name": "SelectModel",
      "state": {
       "_options_labels": [
        "..",
        "SimPEG_PFInversion",
        "Temp",
        "dask-worker-space"
       ],
       "index": null,
       "layout": "IPY_MODEL_dfb44518295d44ef927a94c0880ff473",
       "rows": 8,
       "style": "IPY_MODEL_67b652e2deee4cfa91ecdf139ec2b5f0"
      }
     },
     "b91a38c9682a433a9eca97b04d0dfbcf": {
      "model_module": "@jupyter-widgets/base",
      "model_module_version": "1.2.0",
      "model_name": "LayoutModel",
      "state": {}
     },
     "b92ec10ba5604a2b955d95f766dd7fb6": {
      "model_module": "@jupyter-widgets/base",
      "model_module_version": "1.2.0",
      "model_name": "LayoutModel",
      "state": {}
     },
     "b962a2150a4347438269d2e0dc53400b": {
      "model_module": "@jupyter-widgets/controls",
      "model_module_version": "1.5.0",
      "model_name": "VBoxModel",
      "state": {
       "children": [
        "IPY_MODEL_823d941d992a4780aef47724d1f19b72",
        "IPY_MODEL_af12d9a55cd643c1ac7245e6de76f871"
       ],
       "layout": "IPY_MODEL_4cf8f3bbff144a878df632759bb8e50d"
      }
     },
     "b9816843e3474929956c8b07f361d961": {
      "model_module": "@jupyter-widgets/controls",
      "model_module_version": "1.5.0",
      "model_name": "DescriptionStyleModel",
      "state": {
       "description_width": "initial"
      }
     },
     "ba43232c11274f4899aa087c6535547e": {
      "model_module": "@jupyter-widgets/controls",
      "model_module_version": "1.5.0",
      "model_name": "TextModel",
      "state": {
       "description": "Layers below topo",
       "layout": "IPY_MODEL_81f27206cd294a3981ba9a312652afcc",
       "style": "IPY_MODEL_106827047fa04f2da0b021a04ce78887",
       "value": "0, 0, 0, 2"
      }
     },
     "ba9a7c947596411c9a3b297dcfe2d94a": {
      "model_module": "@jupyter-widgets/controls",
      "model_module_version": "1.5.0",
      "model_name": "DescriptionStyleModel",
      "state": {
       "description_width": ""
      }
     },
     "baa4f9c5578d47ff8fd5ef8ef784f5c0": {
      "model_module": "@jupyter-widgets/base",
      "model_module_version": "1.2.0",
      "model_name": "LayoutModel",
      "state": {}
     },
     "bae1cf88fe21401ea9a8b42c7a968852": {
      "model_module": "@jupyter-widgets/controls",
      "model_module_version": "1.5.0",
      "model_name": "DescriptionStyleModel",
      "state": {
       "description_width": ""
      }
     },
     "bae748fd95a14e4e9ae1ade2562c41e7": {
      "model_module": "@jupyter-widgets/controls",
      "model_module_version": "1.5.0",
      "model_name": "ButtonStyleModel",
      "state": {}
     },
     "bb0835e2fd4e4d77b9f47937e5447354": {
      "model_module": "@jupyter-widgets/base",
      "model_module_version": "1.2.0",
      "model_name": "LayoutModel",
      "state": {
       "display": "none"
      }
     },
     "bb3dafe798ea4dca8ea5c5febb956a48": {
      "model_module": "@jupyter-widgets/controls",
      "model_module_version": "1.5.0",
      "model_name": "DescriptionStyleModel",
      "state": {
       "description_width": ""
      }
     },
     "bb5facfc476b49f78722ecd9aed4f6a0": {
      "model_module": "@jupyter-widgets/base",
      "model_module_version": "1.2.0",
      "model_name": "LayoutModel",
      "state": {}
     },
     "bbdb206239204221954a1f241e38630a": {
      "model_module": "@jupyter-widgets/base",
      "model_module_version": "1.2.0",
      "model_name": "LayoutModel",
      "state": {
       "grid_area": "dircontent",
       "width": "auto"
      }
     },
     "bbef89fbcfcb4306990771f6aa774b56": {
      "model_module": "@jupyter-widgets/base",
      "model_module_version": "1.2.0",
      "model_name": "LayoutModel",
      "state": {
       "display": "none",
       "width": "auto"
      }
     },
     "bc3357772c95419f851e19fef56cd666": {
      "model_module": "@jupyter-widgets/controls",
      "model_module_version": "1.5.0",
      "model_name": "DropdownModel",
      "state": {
       "description": "Values",
       "index": null,
       "layout": "IPY_MODEL_19e0672a54bd412eb3e06860c6bdb173",
       "style": "IPY_MODEL_8f358dadcba144f08da9faa7b4f85f5b"
      }
     },
     "bc362ddd182445deafa5e9d8b627193c": {
      "model_module": "@jupyter-widgets/controls",
      "model_module_version": "1.5.0",
      "model_name": "VBoxModel",
      "state": {
       "children": [
        "IPY_MODEL_078953659564420e9787c6778a8abb0c",
        "IPY_MODEL_b0f40139c2ab4bd98b2678e05e812917",
        "IPY_MODEL_07969d9b15664a6a97ba7a1cc966c687"
       ],
       "layout": "IPY_MODEL_0473afd5f8674389b20570874c21eed7"
      }
     },
     "bc4bcfd4135b479aa2cb6fe3d9556c2a": {
      "model_module": "@jupyter-widgets/base",
      "model_module_version": "1.2.0",
      "model_name": "LayoutModel",
      "state": {}
     },
     "bc5ad98fff184935971772f9e9bbea96": {
      "model_module": "@jupyter-widgets/controls",
      "model_module_version": "1.5.0",
      "model_name": "DropdownModel",
      "state": {
       "description": "Values",
       "index": null,
       "layout": "IPY_MODEL_26e3ae6196374e7da1a19e4970aa775f",
       "style": "IPY_MODEL_499f4212c9d8442fa571d679e7f2d0d7"
      }
     },
     "bc5b827a2b5d47e395065794e53a3cdf": {
      "model_module": "@jupyter-widgets/controls",
      "model_module_version": "1.5.0",
      "model_name": "DescriptionStyleModel",
      "state": {
       "description_width": ""
      }
     },
     "bc5dd9e911fb43f29716d1adde19c1ee": {
      "model_module": "@jupyter-widgets/base",
      "model_module_version": "1.2.0",
      "model_name": "LayoutModel",
      "state": {
       "width": "auto"
      }
     },
     "bc8137bf32944b528537d8e175900503": {
      "model_module": "@jupyter-widgets/base",
      "model_module_version": "1.2.0",
      "model_name": "LayoutModel",
      "state": {}
     },
     "bc907da342e4442cb4d1081d7e35a209": {
      "model_module": "@jupyter-widgets/controls",
      "model_module_version": "1.5.0",
      "model_name": "DescriptionStyleModel",
      "state": {
       "description_width": "initial"
      }
     },
     "bca405f34a27474baaf92c66049460ef": {
      "model_module": "@jupyter-widgets/controls",
      "model_module_version": "1.5.0",
      "model_name": "DescriptionStyleModel",
      "state": {
       "description_width": "initial"
      }
     },
     "bca972a08c08409785bdf4dccaeaf1b5": {
      "model_module": "@jupyter-widgets/controls",
      "model_module_version": "1.5.0",
      "model_name": "DescriptionStyleModel",
      "state": {
       "description_width": ""
      }
     },
     "bd1778f9991745e588efffce92ad7cff": {
      "model_module": "@jupyter-widgets/controls",
      "model_module_version": "1.5.0",
      "model_name": "IntTextModel",
      "state": {
       "description": "Max CPUs",
       "layout": "IPY_MODEL_2a7d8dc4ed3c43638fb16a2ef22f3adc",
       "step": 1,
       "style": "IPY_MODEL_b4bd8d05cfc44422ba6d432f5269e211",
       "value": 6
      }
     },
     "bd76ab59a6a34ee7b5885cee51e97b87": {
      "model_module": "@jupyter-widgets/controls",
      "model_module_version": "1.5.0",
      "model_name": "DescriptionStyleModel",
      "state": {
       "description_width": ""
      }
     },
     "bdb6833467f14c038e3eb2afaaf0bcf6": {
      "model_module": "@jupyter-widgets/controls",
      "model_module_version": "1.5.0",
      "model_name": "TextModel",
      "state": {
       "description": "Error (%, floor)",
       "layout": "IPY_MODEL_5bdf76cdaf4345b394addea5fe62a226",
       "style": "IPY_MODEL_764acf07dd5b4b8c8120710ca31dd244",
       "value": "0, 1"
      }
     },
     "bdf83b5f34f44075be6d1774ed5bba37": {
      "model_module": "@jupyter-widgets/controls",
      "model_module_version": "1.5.0",
      "model_name": "VBoxModel",
      "state": {
       "children": [
        "IPY_MODEL_fce333b79a0d4090aa934632fd4383df",
        "IPY_MODEL_417107181f4843d4895a17d53e1d86f0"
       ],
       "layout": "IPY_MODEL_f4b5fd151e39483f8a41b66969f66970"
      }
     },
     "be074a25124b49b1af2a6c852244d7a1": {
      "model_module": "@jupyter-widgets/controls",
      "model_module_version": "1.5.0",
      "model_name": "SelectModel",
      "state": {
       "_options_labels": [
        "..",
        "images",
        "Untitled.ipynb",
        "base_application.ipynb",
        "calculator.ipynb",
        "contouring.ipynb",
        "coordinate_transformation.ipynb",
        "create_surface.ipynb",
        "data_interpolation.ipynb",
        "edge_detection.ipynb",
        "export.ipynb",
        "geophysical_inversion.ipynb",
        "object_data_selection.ipynb",
        "scatter.ipynb",
        "view_selection.ipynb"
       ],
       "index": null,
       "layout": "IPY_MODEL_365e8328809746e29a2babe1e554fa88",
       "rows": 8,
       "style": "IPY_MODEL_17139a48753b41a4854a4a164f3dd1b7"
      }
     },
     "be49e70ec75d40df849c3eca64c5d200": {
      "model_module": "@jupyter-widgets/controls",
      "model_module_version": "1.5.0",
      "model_name": "DescriptionStyleModel",
      "state": {
       "description_width": "initial"
      }
     },
     "be798018490846b19e67af140cfcf765": {
      "model_module": "@jupyter-widgets/controls",
      "model_module_version": "1.5.0",
      "model_name": "DescriptionStyleModel",
      "state": {
       "description_width": ""
      }
     },
     "be8a767e7fed45e194a4d983e5cef51c": {
      "model_module": "@jupyter-widgets/base",
      "model_module_version": "1.2.0",
      "model_name": "LayoutModel",
      "state": {}
     },
     "bea723e7a9124956afd8073899d89724": {
      "model_module": "@jupyter-widgets/base",
      "model_module_version": "1.2.0",
      "model_name": "LayoutModel",
      "state": {}
     },
     "bee22fc6c9a2461e8af7801acf7f5559": {
      "model_module": "@jupyter-widgets/base",
      "model_module_version": "1.2.0",
      "model_name": "LayoutModel",
      "state": {}
     },
     "bef3144c2a5f45b281362d8c18bf989c": {
      "model_module": "@jupyter-widgets/base",
      "model_module_version": "1.2.0",
      "model_name": "LayoutModel",
      "state": {}
     },
     "bf02e1c2b532434d8d230e86c7002a71": {
      "model_module": "@jupyter-widgets/base",
      "model_module_version": "1.2.0",
      "model_name": "LayoutModel",
      "state": {}
     },
     "bf1e22afc94249789eab23d83a4e3bec": {
      "model_module": "@jupyter-widgets/controls",
      "model_module_version": "1.5.0",
      "model_name": "FloatTextModel",
      "state": {
       "description": "Max triangulation length",
       "layout": "IPY_MODEL_4192e3f7cbee4ecf8892fd4b59e2b9f1",
       "step": null,
       "style": "IPY_MODEL_6f5f1495807f4b75bee0731bd6fec0b2",
       "value": 1000
      }
     },
     "bf2b3d860e2f43adacbe2ab20c89752b": {
      "model_module": "@jupyter-widgets/controls",
      "model_module_version": "1.5.0",
      "model_name": "DescriptionStyleModel",
      "state": {
       "description_width": ""
      }
     },
     "bf5a15e842f849b1ad43ae177ab389b6": {
      "model_module": "@jupyter-widgets/base",
      "model_module_version": "1.2.0",
      "model_name": "LayoutModel",
      "state": {
       "display": "none",
       "grid_gap": "0px 0px",
       "grid_template_areas": "\n                    'pathlist filename'\n                    'dircontent dircontent'\n                    ",
       "grid_template_columns": "60% 40%",
       "grid_template_rows": "auto auto",
       "width": "500px"
      }
     },
     "bf788ed6a28c4279b1aae1c02ed2b590": {
      "model_module": "@jupyter-widgets/controls",
      "model_module_version": "1.5.0",
      "model_name": "TextModel",
      "state": {
       "continuous_update": false,
       "description": "Group:",
       "layout": "IPY_MODEL_5eb75e44e6d540ca82e3a947a3da1bfe",
       "style": "IPY_MODEL_3922ea3531164606ab68da27541856ad"
      }
     },
     "bf7b68a1942a4a659ceb158046ae2b92": {
      "model_module": "@jupyter-widgets/controls",
      "model_module_version": "1.5.0",
      "model_name": "ButtonStyleModel",
      "state": {}
     },
     "bfec85b2b6224f13b25054fcfb366922": {
      "model_module": "@jupyter-widgets/base",
      "model_module_version": "1.2.0",
      "model_name": "LayoutModel",
      "state": {}
     },
     "bff69fc607c6413f9018bb93da20c170": {
      "model_module": "@jupyter-widgets/base",
      "model_module_version": "1.2.0",
      "model_name": "LayoutModel",
      "state": {
       "visibility": "hidden"
      }
     },
     "c0771490e5da4089838fa86e89af2b2b": {
      "model_module": "@jupyter-widgets/base",
      "model_module_version": "1.2.0",
      "model_name": "LayoutModel",
      "state": {}
     },
     "c1350f5852ed4d098a8e59f1969d8b94": {
      "model_module": "@jupyter-widgets/base",
      "model_module_version": "1.2.0",
      "model_name": "LayoutModel",
      "state": {}
     },
     "c1389699b4174a31b8ade9cf18eed688": {
      "model_module": "@jupyter-widgets/controls",
      "model_module_version": "1.5.0",
      "model_name": "ButtonStyleModel",
      "state": {}
     },
     "c16818771eaa437f8f6b755415ebcd94": {
      "model_module": "@jupyter-widgets/controls",
      "model_module_version": "1.5.0",
      "model_name": "HTMLModel",
      "state": {
       "layout": "IPY_MODEL_18384c166bbc4fb6a1635708170d4d57",
       "placeholder": "",
       "style": "IPY_MODEL_e2284e26c88a47d2b521625d76c3fad0",
       "value": "<span style=\"margin-left:10px; color:black;\">No file selected</span>"
      }
     },
     "c19dd7ca12ea40659a0df58621eafdc8": {
      "model_module": "@jupyter-widgets/controls",
      "model_module_version": "1.5.0",
      "model_name": "DescriptionStyleModel",
      "state": {
       "description_width": "initial"
      }
     },
     "c1d196d65c15409c963485e7b69fc613": {
      "model_module": "@jupyter-widgets/controls",
      "model_module_version": "1.5.0",
      "model_name": "DescriptionStyleModel",
      "state": {
       "description_width": ""
      }
     },
     "c1fd0e4bb7244a82ad3fbd49b32d180d": {
      "model_module": "@jupyter-widgets/controls",
      "model_module_version": "1.5.0",
      "model_name": "DropdownModel",
      "state": {
       "_options_labels": [
        "",
        "--- Channels ---",
        "Airborne_Gxx",
        "Airborne_Gxy",
        "Airborne_Gxz",
        "Airborne_Gyy",
        "Airborne_Gyz",
        "Airborne_Gz",
        "Airborne_Gzz",
        "Airborne_TMI",
        "Ground_Gz",
        "Z"
       ],
       "description": "Radar (Optional):",
       "index": 0,
       "layout": "IPY_MODEL_65a84aa707b64e18bebe65eb8cef1e64",
       "style": "IPY_MODEL_3d5b3e9509944aae95d7cdcabac94e74"
      }
     },
     "c2026d980feb4ae79b5c2b82da4d9c4f": {
      "model_module": "@jupyter-widgets/base",
      "model_module_version": "1.2.0",
      "model_name": "LayoutModel",
      "state": {
       "grid_area": "filename",
       "width": "auto"
      }
     },
     "c225a9543b9b49aa8937746ce6847f2d": {
      "model_module": "@jupyter-widgets/controls",
      "model_module_version": "1.5.0",
      "model_name": "DescriptionStyleModel",
      "state": {
       "description_width": ""
      }
     },
     "c24ce7bf9e3a4b7b949de5ae9d3cf740": {
      "model_module": "@jupyter-widgets/base",
      "model_module_version": "1.2.0",
      "model_name": "LayoutModel",
      "state": {
       "grid_area": "dircontent",
       "width": "auto"
      }
     },
     "c27fc127e5fb4ab2a44e780ed27f6678": {
      "model_module": "@jupyter-widgets/controls",
      "model_module_version": "1.5.0",
      "model_name": "ButtonStyleModel",
      "state": {}
     },
     "c2c0cd8f661c43b7ba6b0e255299a11d": {
      "model_module": "@jupyter-widgets/base",
      "model_module_version": "1.2.0",
      "model_name": "LayoutModel",
      "state": {
       "width": "auto"
      }
     },
     "c2c268e5fa10494c8ce7e37dc1588b62": {
      "model_module": "@jupyter-widgets/controls",
      "model_module_version": "1.5.0",
      "model_name": "DescriptionStyleModel",
      "state": {
       "description_width": "initial"
      }
     },
     "c2db413f61c84c8cafb64bbef13ed505": {
      "model_module": "@jupyter-widgets/controls",
      "model_module_version": "1.5.0",
      "model_name": "VBoxModel",
      "state": {
       "children": [
        "IPY_MODEL_4b276b1f07fd440984d3351db5a8aed5",
        "IPY_MODEL_bf788ed6a28c4279b1aae1c02ed2b590"
       ],
       "layout": "IPY_MODEL_b92ec10ba5604a2b955d95f766dd7fb6"
      }
     },
     "c2ed20659e6e4f92a770a9cc1e488444": {
      "model_module": "@jupyter-widgets/controls",
      "model_module_version": "1.5.0",
      "model_name": "LabelModel",
      "state": {
       "layout": "IPY_MODEL_3e3e746a05874e33b428f40609b7b6e5",
       "style": "IPY_MODEL_cd1f986da33946c6ba1b1fd4a014bf3f",
       "value": "Monitoring folder"
      }
     },
     "c2f5f99e71bf41aeb5f6e67be5c1f3c7": {
      "model_module": "@jupyter-widgets/controls",
      "model_module_version": "1.5.0",
      "model_name": "ButtonStyleModel",
      "state": {}
     },
     "c2f7b086115c4c408db30f421cff7d1b": {
      "model_module": "@jupyter-widgets/base",
      "model_module_version": "1.2.0",
      "model_name": "LayoutModel",
      "state": {
       "display": "none"
      }
     },
     "c33739b82d8d462f9bded39159c8e72f": {
      "model_module": "@jupyter-widgets/controls",
      "model_module_version": "1.5.0",
      "model_name": "DescriptionStyleModel",
      "state": {
       "description_width": ""
      }
     },
     "c347eb204da443e7a9209153824f6fec": {
      "model_module": "@jupyter-widgets/controls",
      "model_module_version": "1.5.0",
      "model_name": "DropdownModel",
      "state": {
       "_options_labels": [
        "Magnetics",
        "Gravity",
        "AeroTEM (2007)",
        "AeroTEM (2010)",
        "DIGHEM",
        "GENESIS (2014)",
        "GEOTEM 75 Hz - 2082 Pulse",
        "HELITEM (35C)",
        "Hummingbird",
        "QUESTEM (1996)",
        "Resolve",
        "SandersGFEM",
        "Skytem 304M (HM)",
        "Skytem 306HP (LM)",
        "Skytem 306M HP (HM)",
        "Skytem 312HP (HM)",
        "Skytem 312HP v2 (HM)",
        "Skytem 312HP v3 (HM)",
        "Skytem 312HP v2 (LM)",
        "Skytem 312HP v3 (LM)",
        "Skytem 516M (HM)",
        "Spectrem (2000)",
        "Spectrem Plus",
        "VTEM (2007)",
        "VTEM Plus",
        "VTEM Max"
       ],
       "description": "Survey Type: ",
       "index": 0,
       "layout": "IPY_MODEL_c93090888f6147089ead70a404939d2f",
       "style": "IPY_MODEL_22435789a4624b1496c220da988e2e4c"
      }
     },
     "c35081b8346f4f30aba44423ea9c0858": {
      "model_module": "@jupyter-widgets/base",
      "model_module_version": "1.2.0",
      "model_name": "LayoutModel",
      "state": {
       "display": "none"
      }
     },
     "c3747a0934fc47d788cde1a41d4fc1d4": {
      "model_module": "@jupyter-widgets/controls",
      "model_module_version": "1.5.0",
      "model_name": "TextModel",
      "state": {
       "layout": "IPY_MODEL_5e43e81977ab4d4685d88c1d1187766f",
       "placeholder": "output filename",
       "style": "IPY_MODEL_c1d196d65c15409c963485e7b69fc613"
      }
     },
     "c398f4abda8d42b1bd61ef54f80bb3d7": {
      "model_module": "@jupyter-widgets/controls",
      "model_module_version": "1.5.0",
      "model_name": "TextModel",
      "state": {
       "description": "Offsets (x,y,z)",
       "layout": "IPY_MODEL_813aaea06a10422eaefe29bb12025611",
       "style": "IPY_MODEL_c434bff66c0c471f987ce0b4883c31cf",
       "value": "0, 0, 0"
      }
     },
     "c3c272bf9fb04f7ca75af72b3da9ce6c": {
      "model_module": "@jupyter-widgets/controls",
      "model_module_version": "1.5.0",
      "model_name": "VBoxModel",
      "state": {
       "children": [
        "IPY_MODEL_f39d0eb299004503be447e685e726585",
        "IPY_MODEL_d7b83fad5fc64ce89296efdbe20956be",
        "IPY_MODEL_2dc74561ba5e45f5811bdb1150b99f10",
        "IPY_MODEL_64c19c8032e8469c878a3c8f48b32d81",
        "IPY_MODEL_754bcc5110254667986af33efb71bede"
       ],
       "layout": "IPY_MODEL_edd353360ccc4cf6b1c97d8867abd971"
      }
     },
     "c434bff66c0c471f987ce0b4883c31cf": {
      "model_module": "@jupyter-widgets/controls",
      "model_module_version": "1.5.0",
      "model_name": "DescriptionStyleModel",
      "state": {
       "description_width": "initial"
      }
     },
     "c470bdacba874f1c84ede3f1ce771b40": {
      "model_module": "@jupyter-widgets/controls",
      "model_module_version": "1.5.0",
      "model_name": "TextModel",
      "state": {
       "description": "Save to:",
       "layout": "IPY_MODEL_dc1a4588a0e34d8889683afae81158d7",
       "style": "IPY_MODEL_91a5134e91404b39862d7520f3e2faca",
       "value": "Inversion_"
      }
     },
     "c49fce1a3724404bb072bf9cd5eb5990": {
      "model_module": "@jupyter-widgets/controls",
      "model_module_version": "1.5.0",
      "model_name": "VBoxModel",
      "state": {
       "children": [
        "IPY_MODEL_156dcf9adeaa4076bf76b62f426aeae5",
        "IPY_MODEL_8333fff674f74c8b97042ac9f688967c",
        "IPY_MODEL_af5bbb81c5314f299e71b276ca4ae8db"
       ],
       "layout": "IPY_MODEL_c600fa9f36674de3929fbe85bf4aa15c"
      }
     },
     "c4f0942dd97b4a45a786a53cd3185dc5": {
      "model_module": "@jupyter-widgets/base",
      "model_module_version": "1.2.0",
      "model_name": "LayoutModel",
      "state": {}
     },
     "c5058f66ce8c4544b276a71d879e3c7e": {
      "model_module": "@jupyter-widgets/base",
      "model_module_version": "1.2.0",
      "model_name": "LayoutModel",
      "state": {}
     },
     "c54d431039bd4ff48f1261f905d5a1cd": {
      "model_module": "@jupyter-widgets/controls",
      "model_module_version": "1.5.0",
      "model_name": "DescriptionStyleModel",
      "state": {
       "description_width": ""
      }
     },
     "c58bda6e6ace4904ab27fa98f4548909": {
      "model_module": "@jupyter-widgets/controls",
      "model_module_version": "1.5.0",
      "model_name": "FloatTextModel",
      "state": {
       "description": "Vertical offset (+ve up)",
       "layout": "IPY_MODEL_17edf865e79e4f3da91ccb11faea0995",
       "step": null,
       "style": "IPY_MODEL_4843fedd64b64c0aad0d961cc2e679f6"
      }
     },
     "c5ab38013a1640e1a02129d1e3fb2c21": {
      "model_module": "@jupyter-widgets/base",
      "model_module_version": "1.2.0",
      "model_name": "LayoutModel",
      "state": {
       "visibility": "hidden"
      }
     },
     "c5ee7bc6742f446994d1b82a6c950716": {
      "model_module": "@jupyter-widgets/controls",
      "model_module_version": "1.5.0",
      "model_name": "DescriptionStyleModel",
      "state": {
       "description_width": "initial"
      }
     },
     "c600fa9f36674de3929fbe85bf4aa15c": {
      "model_module": "@jupyter-widgets/base",
      "model_module_version": "1.2.0",
      "model_name": "LayoutModel",
      "state": {
       "width": "auto"
      }
     },
     "c66ae33397bd48f3ac215c1789a6f7d1": {
      "model_module": "@jupyter-widgets/controls",
      "model_module_version": "1.5.0",
      "model_name": "TextModel",
      "state": {
       "description": "byy",
       "layout": "IPY_MODEL_662c61179d874afd839ec415ac59b636",
       "style": "IPY_MODEL_741d91646ccb49cd81e34251cde83451"
      }
     },
     "c68301e74fc44f65a249ca5f1a7002b0": {
      "model_module": "@jupyter-widgets/base",
      "model_module_version": "1.2.0",
      "model_name": "LayoutModel",
      "state": {}
     },
     "c7486569412c42f59de9449f0c0a7015": {
      "model_module": "@jupyter-widgets/controls",
      "model_module_version": "1.5.0",
      "model_name": "DescriptionStyleModel",
      "state": {
       "description_width": "initial"
      }
     },
     "c803f5b3c1ec422b9153f901872a8e97": {
      "model_module": "@jupyter-widgets/base",
      "model_module_version": "1.2.0",
      "model_name": "LayoutModel",
      "state": {
       "display": "none",
       "grid_gap": "0px 0px",
       "grid_template_areas": "\n                    'pathlist pathlist'\n                    'dircontent dircontent'\n                    ",
       "grid_template_columns": "60% 40%",
       "grid_template_rows": "auto auto",
       "width": "500px"
      }
     },
     "c804689dd2de4c059c637c74e8f6e9fe": {
      "model_module": "@jupyter-widgets/controls",
      "model_module_version": "1.5.0",
      "model_name": "DescriptionStyleModel",
      "state": {
       "description_width": ""
      }
     },
     "c82a8205f2e749d68b63e5b4f2bb9661": {
      "model_module": "@jupyter-widgets/base",
      "model_module_version": "1.2.0",
      "model_name": "LayoutModel",
      "state": {
       "grid_area": "pathlist",
       "width": "auto"
      }
     },
     "c8c6db0601024c9da9930bf075868d01": {
      "model_module": "@jupyter-widgets/controls",
      "model_module_version": "1.5.0",
      "model_name": "DescriptionStyleModel",
      "state": {
       "description_width": ""
      }
     },
     "c91fa4da80e04fb0926e544773c4c4f4": {
      "model_module": "@jupyter-widgets/controls",
      "model_module_version": "1.5.0",
      "model_name": "DescriptionStyleModel",
      "state": {
       "description_width": ""
      }
     },
     "c92960a548064734910ade745a16f1cc": {
      "model_module": "@jupyter-widgets/controls",
      "model_module_version": "1.5.0",
      "model_name": "GridBoxModel",
      "state": {
       "children": [
        "IPY_MODEL_fbc2c9cfb5c84ddaa51cb317a31654cc",
        "IPY_MODEL_3e64fcbf34034c68be7333142132e79e",
        "IPY_MODEL_f0235e2d743f42b88e83a49def353924"
       ],
       "layout": "IPY_MODEL_ef19d52a5742420da5f83b2d7abfb862"
      }
     },
     "c92ad5c6a203473486a30731caff191c": {
      "model_module": "@jupyter-widgets/base",
      "model_module_version": "1.2.0",
      "model_name": "LayoutModel",
      "state": {
       "grid_area": "dircontent",
       "width": "auto"
      }
     },
     "c93090888f6147089ead70a404939d2f": {
      "model_module": "@jupyter-widgets/base",
      "model_module_version": "1.2.0",
      "model_name": "LayoutModel",
      "state": {}
     },
     "c9aa0f8c124f45abbc839bd39d60759e": {
      "model_module": "@jupyter-widgets/controls",
      "model_module_version": "1.5.0",
      "model_name": "HTMLModel",
      "state": {
       "layout": "IPY_MODEL_8763a695411c4e11a21846ce1cd761dd",
       "placeholder": "",
       "style": "IPY_MODEL_81109405aa45421e9421664cc999b7dd",
       "value": "<span style=\"margin-left:10px; color:black;\">No file selected</span>"
      }
     },
     "c9d8cb81ec21405a821eee6f23b2437c": {
      "model_module": "@jupyter-widgets/base",
      "model_module_version": "1.2.0",
      "model_name": "LayoutModel",
      "state": {
       "width": "auto"
      }
     },
     "ca06fdf0d902419696fa320b6872b0b6": {
      "model_module": "@jupyter-widgets/controls",
      "model_module_version": "1.5.0",
      "model_name": "CheckboxModel",
      "state": {
       "description": "GA Pro - Live link",
       "disabled": false,
       "indent": false,
       "layout": "IPY_MODEL_cd7ccd0b96074868abb21a2b64d571e7",
       "style": "IPY_MODEL_af2ff98b7e564f2098a2a1cd0ee6cb44",
       "value": false
      }
     },
     "ca473be0c0264ac6a03876a19f3b7b79": {
      "model_module": "@jupyter-widgets/base",
      "model_module_version": "1.2.0",
      "model_name": "LayoutModel",
      "state": {}
     },
     "ca7e3a0c9a14429bb57e439d05e64e83": {
      "model_module": "@jupyter-widgets/controls",
      "model_module_version": "1.5.0",
      "model_name": "DescriptionStyleModel",
      "state": {
       "description_width": ""
      }
     },
     "ca8688319fd641deb9ab8f2577f80865": {
      "model_module": "@jupyter-widgets/base",
      "model_module_version": "1.2.0",
      "model_name": "LayoutModel",
      "state": {
       "width": "auto"
      }
     },
     "cb9f22409170488791d61a1c73762036": {
      "model_module": "@jupyter-widgets/controls",
      "model_module_version": "1.5.0",
      "model_name": "VBoxModel",
      "state": {
       "children": [
        "IPY_MODEL_819450c9819b4880afe80abb5bba735e",
        "IPY_MODEL_09ec51016a914175a428fbcfbe671514"
       ],
       "layout": "IPY_MODEL_42b792dd02e84e48bb389bbdbe10c27c"
      }
     },
     "cbf1edb1336642f4bb6bf1754837c58d": {
      "model_module": "@jupyter-widgets/base",
      "model_module_version": "1.2.0",
      "model_name": "LayoutModel",
      "state": {
       "width": "100%"
      }
     },
     "cbf24b00e4394dfa84c60fcd727f1e38": {
      "model_module": "@jupyter-widgets/base",
      "model_module_version": "1.2.0",
      "model_name": "LayoutModel",
      "state": {
       "width": "auto"
      }
     },
     "cbf49443a02f48dca3279283604632da": {
      "model_module": "@jupyter-widgets/base",
      "model_module_version": "1.2.0",
      "model_name": "LayoutModel",
      "state": {}
     },
     "cbfd3164e975485eb64657abb1d3289c": {
      "model_module": "@jupyter-widgets/controls",
      "model_module_version": "1.5.0",
      "model_name": "DescriptionStyleModel",
      "state": {
       "description_width": "initial"
      }
     },
     "cc6bde03fa904569bae1fe9e6c6f528c": {
      "model_module": "@jupyter-widgets/controls",
      "model_module_version": "1.5.0",
      "model_name": "DescriptionStyleModel",
      "state": {
       "description_width": ""
      }
     },
     "cc7580b97bce45ba884ff1032c09fc18": {
      "model_module": "@jupyter-widgets/base",
      "model_module_version": "1.2.0",
      "model_name": "LayoutModel",
      "state": {
       "display": "none",
       "width": "auto"
      }
     },
     "cc831fea04c64288a4aad726353589f6": {
      "model_module": "@jupyter-widgets/base",
      "model_module_version": "1.2.0",
      "model_name": "LayoutModel",
      "state": {
       "display": "none",
       "width": "auto"
      }
     },
     "ccb99657e58b4d51b2e59cecb4ad6517": {
      "model_module": "@jupyter-widgets/base",
      "model_module_version": "1.2.0",
      "model_name": "LayoutModel",
      "state": {}
     },
     "cd10c0f5a53c425aa60d1cfc138ea079": {
      "model_module": "@jupyter-widgets/base",
      "model_module_version": "1.2.0",
      "model_name": "LayoutModel",
      "state": {}
     },
     "cd1f986da33946c6ba1b1fd4a014bf3f": {
      "model_module": "@jupyter-widgets/controls",
      "model_module_version": "1.5.0",
      "model_name": "DescriptionStyleModel",
      "state": {
       "description_width": "initial"
      }
     },
     "cd58c29fb04a40438c4f1e3ffdac5ca5": {
      "model_module": "@jupyter-widgets/base",
      "model_module_version": "1.2.0",
      "model_name": "LayoutModel",
      "state": {}
     },
     "cd720ea414ec4d2095d20233f63e23ca": {
      "model_module": "@jupyter-widgets/base",
      "model_module_version": "1.2.0",
      "model_name": "LayoutModel",
      "state": {}
     },
     "cd7ccd0b96074868abb21a2b64d571e7": {
      "model_module": "@jupyter-widgets/base",
      "model_module_version": "1.2.0",
      "model_name": "LayoutModel",
      "state": {}
     },
     "cdac39b6fabf4b3caf43d09ef8322831": {
      "model_module": "@jupyter-widgets/controls",
      "model_module_version": "1.5.0",
      "model_name": "CheckboxModel",
      "state": {
       "description": "GA Pro - Live link",
       "disabled": false,
       "indent": false,
       "layout": "IPY_MODEL_f832e6b8b63443608c7f2ce88c2dbb7e",
       "style": "IPY_MODEL_75b6d8af8f3e4630ac6592ce9d4e730c",
       "value": false
      }
     },
     "cdb4ae84f68442bbbf115b8c336295f3": {
      "model_module": "@jupyter-widgets/base",
      "model_module_version": "1.2.0",
      "model_name": "LayoutModel",
      "state": {}
     },
     "cdcb9ad03f564309b6ae84086007f871": {
      "model_module": "@jupyter-widgets/controls",
      "model_module_version": "1.5.0",
      "model_name": "DescriptionStyleModel",
      "state": {
       "description_width": ""
      }
     },
     "cdf80a7e55534d78be171541ccd7a8c2": {
      "model_module": "@jupyter-widgets/base",
      "model_module_version": "1.2.0",
      "model_name": "LayoutModel",
      "state": {
       "display": "none",
       "width": "auto"
      }
     },
     "cdfafce632934bfaab0d5aa458a52363": {
      "model_module": "@jupyter-widgets/base",
      "model_module_version": "1.2.0",
      "model_name": "LayoutModel",
      "state": {}
     },
     "ce50d189db834580bccbac5519a63804": {
      "model_module": "@jupyter-widgets/base",
      "model_module_version": "1.2.0",
      "model_name": "LayoutModel",
      "state": {}
     },
     "ce768b615e5241ac8f5f8b6afaa59bfe": {
      "model_module": "@jupyter-widgets/controls",
      "model_module_version": "1.5.0",
      "model_name": "DescriptionStyleModel",
      "state": {
       "description_width": "initial"
      }
     },
     "cf42e70094794ece975600a4075aaab5": {
      "model_module": "@jupyter-widgets/base",
      "model_module_version": "1.2.0",
      "model_name": "LayoutModel",
      "state": {
       "display": "none",
       "width": "auto"
      }
     },
     "cfcb66f5718f4d8399974b0ea6745383": {
      "model_module": "@jupyter-widgets/controls",
      "model_module_version": "1.5.0",
      "model_name": "DescriptionStyleModel",
      "state": {
       "description_width": ""
      }
     },
     "cfe8f4dcfadd48bdba7bca0b57610c68": {
      "model_module": "@jupyter-widgets/base",
      "model_module_version": "1.2.0",
      "model_name": "LayoutModel",
      "state": {}
     },
     "d04106e4417d498d9a7b3e324cc343c1": {
      "model_module": "@jupyter-widgets/base",
      "model_module_version": "1.2.0",
      "model_name": "LayoutModel",
      "state": {}
     },
     "d083e98661cc43ee815e6581efc7cd68": {
      "model_module": "@jupyter-widgets/controls",
      "model_module_version": "1.5.0",
      "model_name": "ButtonModel",
      "state": {
       "description": "Create copy:",
       "layout": "IPY_MODEL_cd10c0f5a53c425aa60d1cfc138ea079",
       "style": "IPY_MODEL_a5e2a22a674f4489a78642e3f9b32b0b"
      }
     },
     "d0d2c3cba1874d2f826d2b702fba00d1": {
      "model_module": "@jupyter-widgets/controls",
      "model_module_version": "1.5.0",
      "model_name": "HBoxModel",
      "state": {
       "children": [
        "IPY_MODEL_e0ed38f434394b33bb4a3bdcdb92ac1b",
        "IPY_MODEL_de7ada09f36c478c82d67839137511a2",
        "IPY_MODEL_0ad3301520d4405381df3facafe98e49"
       ],
       "layout": "IPY_MODEL_5ac9914ca1064190853818917e06316c"
      }
     },
     "d109faa37d2f480389ab17fbc2a4beff": {
      "model_module": "@jupyter-widgets/base",
      "model_module_version": "1.2.0",
      "model_name": "LayoutModel",
      "state": {}
     },
     "d1449294618f4d08b1363967d9d92aef": {
      "model_module": "@jupyter-widgets/controls",
      "model_module_version": "1.5.0",
      "model_name": "DescriptionStyleModel",
      "state": {
       "description_width": ""
      }
     },
     "d167d34a37714c3d824c1e326e5ec058": {
      "model_module": "@jupyter-widgets/controls",
      "model_module_version": "1.5.0",
      "model_name": "VBoxModel",
      "state": {
       "children": [
        "IPY_MODEL_e17add781bde4552978d4d99c65048a6",
        "IPY_MODEL_26f591f4cbc3481b89027711ea980e50"
       ],
       "layout": "IPY_MODEL_403722876fc342ce92d4f6971a3eae69"
      }
     },
     "d1d7799bf98445cea51c41e306f9534b": {
      "model_module": "@jupyter-widgets/controls",
      "model_module_version": "1.5.0",
      "model_name": "SliderStyleModel",
      "state": {
       "description_width": ""
      }
     },
     "d245f3046a3f4a4f82a3359ed63602b7": {
      "model_module": "@jupyter-widgets/base",
      "model_module_version": "1.2.0",
      "model_name": "LayoutModel",
      "state": {}
     },
     "d247f02fa2b24cc6af1fef1b7af84800": {
      "model_module": "@jupyter-widgets/controls",
      "model_module_version": "1.5.0",
      "model_name": "ButtonStyleModel",
      "state": {}
     },
     "d249d1970d0741e8934c10ce271ed6ba": {
      "model_module": "@jupyter-widgets/base",
      "model_module_version": "1.2.0",
      "model_name": "LayoutModel",
      "state": {
       "width": "auto"
      }
     },
     "d2a0c19d1d304545b187b941144c77d6": {
      "model_module": "@jupyter-widgets/controls",
      "model_module_version": "1.5.0",
      "model_name": "LabelModel",
      "state": {
       "layout": "IPY_MODEL_7a14ab3e62c2468d89079ec2e53d0f0a",
       "style": "IPY_MODEL_3eaf7e749caa4741952c66fdad1e07e6",
       "value": "Data Count: 425"
      }
     },
     "d2d7f03cc0454feca782c71fd265e829": {
      "model_module": "@jupyter-widgets/controls",
      "model_module_version": "1.5.0",
      "model_name": "ButtonModel",
      "state": {
       "button_style": "danger",
       "description": "Compute",
       "icon": "check",
       "layout": "IPY_MODEL_92a02ce748cf4f7abad9e9a4ae8fe3e6",
       "style": "IPY_MODEL_5dbc58ebda4c4a7497da93458a02a8f8",
       "tooltip": "Run computation"
      }
     },
     "d2dd7a168501493691b01503fd06ccf5": {
      "model_module": "@jupyter-widgets/base",
      "model_module_version": "1.2.0",
      "model_name": "LayoutModel",
      "state": {}
     },
     "d2df28c0bf734178959b85d49ef55e07": {
      "model_module": "@jupyter-widgets/controls",
      "model_module_version": "1.5.0",
      "model_name": "VBoxModel",
      "state": {
       "children": [
        "IPY_MODEL_2834104575574d09a6a2e15de8a4e588",
        "IPY_MODEL_569f47e97af84205b7b06905925efd75"
       ],
       "layout": "IPY_MODEL_c5058f66ce8c4544b276a71d879e3c7e"
      }
     },
     "d3190d910d4344c2ab2165ec8dbb5dad": {
      "model_module": "@jupyter-widgets/controls",
      "model_module_version": "1.5.0",
      "model_name": "DescriptionStyleModel",
      "state": {
       "description_width": "initial"
      }
     },
     "d3392b81de744468b1eb96d8ab2de91d": {
      "model_module": "@jupyter-widgets/base",
      "model_module_version": "1.2.0",
      "model_name": "LayoutModel",
      "state": {}
     },
     "d35751c5ee56422cbb0c79f42d8bbf63": {
      "model_module": "@jupyter-widgets/controls",
      "model_module_version": "1.5.0",
      "model_name": "HBoxModel",
      "state": {
       "children": [
        "IPY_MODEL_4d21a91bfc3845d789e2b532fc808b5c",
        "IPY_MODEL_4b4d777ad5b94ab9a4ee2eeb463b2937",
        "IPY_MODEL_a46e075506a34f8bbfe4e9ab8c330b8a"
       ],
       "layout": "IPY_MODEL_c9d8cb81ec21405a821eee6f23b2437c"
      }
     },
     "d3a1541eb7f74a3db161512d1db84224": {
      "model_module": "@jupyter-widgets/controls",
      "model_module_version": "1.5.0",
      "model_name": "DropdownModel",
      "state": {
       "_options_labels": [
        "C:\\Users\\dominiquef\\Documents\\GIT\\mira\\mirageoscience-apps\\docs\\content\\applications",
        "C:\\Users\\dominiquef\\Documents\\GIT\\mira\\mirageoscience-apps\\docs\\content",
        "C:\\Users\\dominiquef\\Documents\\GIT\\mira\\mirageoscience-apps\\docs",
        "C:\\Users\\dominiquef\\Documents\\GIT\\mira\\mirageoscience-apps",
        "C:\\Users\\dominiquef\\Documents\\GIT\\mira",
        "C:\\Users\\dominiquef\\Documents\\GIT",
        "C:\\Users\\dominiquef\\Documents",
        "C:\\Users\\dominiquef",
        "C:\\Users",
        "C:\\",
        "D:\\",
        "Z:\\"
       ],
       "index": 0,
       "layout": "IPY_MODEL_3629d79ac7a34a358bb7092b240fd32a",
       "style": "IPY_MODEL_fdb62fce58b94998b1669b0510f99df3"
      }
     },
     "d41bcd2cf6d24cfbbea77c337f2fa027": {
      "model_module": "@jupyter-widgets/controls",
      "model_module_version": "1.5.0",
      "model_name": "DescriptionStyleModel",
      "state": {
       "description_width": ""
      }
     },
     "d4bc262a292a4b1187d650757f116052": {
      "model_module": "@jupyter-widgets/controls",
      "model_module_version": "1.5.0",
      "model_name": "DescriptionStyleModel",
      "state": {
       "description_width": ""
      }
     },
     "d4caa0b7702e403784edfb4853659cbe": {
      "model_module": "@jupyter-widgets/controls",
      "model_module_version": "1.5.0",
      "model_name": "VBoxModel",
      "state": {
       "children": [
        "IPY_MODEL_b3604fd151044d21808661ebd6c6a9d4",
        "IPY_MODEL_212b695552b6454b8efe8c5e4e74382b",
        "IPY_MODEL_d0d2c3cba1874d2f826d2b702fba00d1"
       ],
       "layout": "IPY_MODEL_7a4d17d4ea304955b56453507667c093"
      }
     },
     "d535791b27ed4a0986e923d1ce8db418": {
      "model_module": "@jupyter-widgets/controls",
      "model_module_version": "1.5.0",
      "model_name": "ButtonModel",
      "state": {
       "description": "Select",
       "layout": "IPY_MODEL_4c2d502c1aaf40128d05aba9d67d14b9",
       "style": "IPY_MODEL_bae748fd95a14e4e9ae1ade2562c41e7"
      }
     },
     "d555fa0ee86742ca91dd82cdd16f0592": {
      "model_module": "@jupyter-widgets/controls",
      "model_module_version": "1.5.0",
      "model_name": "VBoxModel",
      "state": {
       "children": [
        "IPY_MODEL_42cc5c0924c0421d98907d8ddcf79399",
        "IPY_MODEL_d73a19fb761042d1ae0cd686ee94b7d8",
        "IPY_MODEL_e7ab1639235540deb3fbbdcadedaee9d",
        "IPY_MODEL_97aa61c24c8e450b8226eae0625cd2d0",
        "IPY_MODEL_b34cb6a79e5f4f4bb180f2f3ef62651a"
       ],
       "layout": "IPY_MODEL_ecef806b05484634aeddfff4d37884e6"
      }
     },
     "d59c0ec7e025457987ba4cae3d759738": {
      "model_module": "@jupyter-widgets/base",
      "model_module_version": "1.2.0",
      "model_name": "LayoutModel",
      "state": {}
     },
     "d5ef02fd6246485c9deff46060c43ae5": {
      "model_module": "@jupyter-widgets/base",
      "model_module_version": "1.2.0",
      "model_name": "LayoutModel",
      "state": {
       "grid_area": "dircontent",
       "width": "auto"
      }
     },
     "d61ee0af449a40ab9773f08ea0ab1600": {
      "model_module": "@jupyter-widgets/base",
      "model_module_version": "1.2.0",
      "model_name": "LayoutModel",
      "state": {}
     },
     "d65c0d3132434851a458cce1a2b4b55a": {
      "model_module": "@jupyter-widgets/controls",
      "model_module_version": "1.5.0",
      "model_name": "DescriptionStyleModel",
      "state": {
       "description_width": ""
      }
     },
     "d73a19fb761042d1ae0cd686ee94b7d8": {
      "model_module": "@jupyter-widgets/controls",
      "model_module_version": "1.5.0",
      "model_name": "TextModel",
      "state": {
       "description": "tmi",
       "layout": "IPY_MODEL_6fc7911cc05f464784272d1c39309cd2",
       "style": "IPY_MODEL_e040d6676bf14a9cb31d8af84c51b2bb"
      }
     },
     "d74d0000256148bab743562522cfd8c8": {
      "model_module": "@jupyter-widgets/controls",
      "model_module_version": "1.5.0",
      "model_name": "GridBoxModel",
      "state": {
       "children": [
        "IPY_MODEL_d8721dbca7d44a419a3d9182bb8505f6",
        "IPY_MODEL_f785a99c05cb498294a4f15a5ab58a76",
        "IPY_MODEL_be074a25124b49b1af2a6c852244d7a1"
       ],
       "layout": "IPY_MODEL_2401335525de480a851b2df377792c23"
      }
     },
     "d7a5225846884a45b069ff54b8f15ff5": {
      "model_module": "@jupyter-widgets/base",
      "model_module_version": "1.2.0",
      "model_name": "LayoutModel",
      "state": {
       "width": "auto"
      }
     },
     "d7b83fad5fc64ce89296efdbe20956be": {
      "model_module": "@jupyter-widgets/controls",
      "model_module_version": "1.5.0",
      "model_name": "TextModel",
      "state": {
       "description": "bxz",
       "layout": "IPY_MODEL_2c21582fbce94ee699fe5c51dba4eacb",
       "style": "IPY_MODEL_379bd717177e4ded8dba7d37f900fdcb"
      }
     },
     "d7da06d0611e44098223a958fe12e06d": {
      "model_module": "@jupyter-widgets/base",
      "model_module_version": "1.2.0",
      "model_name": "LayoutModel",
      "state": {}
     },
     "d7dbebd79e4c484897787735efb9906f": {
      "model_module": "@jupyter-widgets/controls",
      "model_module_version": "1.5.0",
      "model_name": "DescriptionStyleModel",
      "state": {
       "description_width": "initial"
      }
     },
     "d7ee6f85dbaa42e5b54b56fd14939ec7": {
      "model_module": "@jupyter-widgets/base",
      "model_module_version": "1.2.0",
      "model_name": "LayoutModel",
      "state": {
       "grid_area": "pathlist",
       "width": "auto"
      }
     },
     "d800aae6c3da40a08e5d22bab6000673": {
      "model_module": "@jupyter-widgets/base",
      "model_module_version": "1.2.0",
      "model_name": "LayoutModel",
      "state": {}
     },
     "d80d2bd6e4284364b5c607c422f6360a": {
      "model_module": "@jupyter-widgets/controls",
      "model_module_version": "1.5.0",
      "model_name": "DescriptionStyleModel",
      "state": {
       "description_width": ""
      }
     },
     "d8448454966345ecb3b1927503954d4b": {
      "model_module": "@jupyter-widgets/controls",
      "model_module_version": "1.5.0",
      "model_name": "DescriptionStyleModel",
      "state": {
       "description_width": "initial"
      }
     },
     "d8721dbca7d44a419a3d9182bb8505f6": {
      "model_module": "@jupyter-widgets/controls",
      "model_module_version": "1.5.0",
      "model_name": "DropdownModel",
      "state": {
       "_options_labels": [
        "C:\\Users\\dominiquef\\Documents\\GIT\\mira\\mirageoscience-apps\\docs\\content\\applications",
        "C:\\Users\\dominiquef\\Documents\\GIT\\mira\\mirageoscience-apps\\docs\\content",
        "C:\\Users\\dominiquef\\Documents\\GIT\\mira\\mirageoscience-apps\\docs",
        "C:\\Users\\dominiquef\\Documents\\GIT\\mira\\mirageoscience-apps",
        "C:\\Users\\dominiquef\\Documents\\GIT\\mira",
        "C:\\Users\\dominiquef\\Documents\\GIT",
        "C:\\Users\\dominiquef\\Documents",
        "C:\\Users\\dominiquef",
        "C:\\Users",
        "C:\\",
        "D:\\",
        "Z:\\"
       ],
       "index": 0,
       "layout": "IPY_MODEL_a9378864959d498ab39a171cb8d94451",
       "style": "IPY_MODEL_60a5f3a5c1fd4b0ca8e4dd9b5120aee3"
      }
     },
     "d8c19f973f604fe38d2db1055cea3d43": {
      "model_module": "@jupyter-widgets/controls",
      "model_module_version": "1.5.0",
      "model_name": "DescriptionStyleModel",
      "state": {
       "description_width": "initial"
      }
     },
     "d8ea15c7102a48c1b245427c993630f7": {
      "model_module": "@jupyter-widgets/base",
      "model_module_version": "1.2.0",
      "model_name": "LayoutModel",
      "state": {}
     },
     "d91e6424bb2b432b8cb2d48a02936c9f": {
      "model_module": "@jupyter-widgets/controls",
      "model_module_version": "1.5.0",
      "model_name": "TextModel",
      "state": {
       "disabled": true,
       "layout": "IPY_MODEL_ad06093a5cc44dc5b4b0bfcda7368827",
       "placeholder": "output filename",
       "style": "IPY_MODEL_ff7d409ce4d945ffab97094c5520c14c"
      }
     },
     "d9b8031ea4cd41abb6fa82f5941bddf3": {
      "model_module": "@jupyter-widgets/controls",
      "model_module_version": "1.5.0",
      "model_name": "ToggleButtonModel",
      "state": {
       "description": "Zoom on selection",
       "icon": "check",
       "layout": "IPY_MODEL_022ed2252f014805ba592806c363d86c",
       "style": "IPY_MODEL_f2a6d0bfdeeb45a0b5aa9ae7264f0de4",
       "tooltip": "Keep plot extent on selection",
       "value": true
      }
     },
     "d9d91a1c41a94c0c836115419f7f9d76": {
      "model_module": "@jupyter-widgets/controls",
      "model_module_version": "1.5.0",
      "model_name": "VBoxModel",
      "state": {
       "children": [
        "IPY_MODEL_4c9680fb8d214cc1806a01c9b8ebcb95",
        "IPY_MODEL_33fc8eec123d4508808e0a46b94cd15d",
        "IPY_MODEL_a049e9bd18bf49439a50ae4be52c7d24"
       ],
       "layout": "IPY_MODEL_4ac77ee276c9469d8d48773a551e00ec"
      }
     },
     "da0875af8036442ba5a0da6852519b96": {
      "model_module": "@jupyter-widgets/controls",
      "model_module_version": "1.5.0",
      "model_name": "DescriptionStyleModel",
      "state": {
       "description_width": ""
      }
     },
     "da6a7aa087194c7793af8ea26d780643": {
      "model_module": "@jupyter-widgets/controls",
      "model_module_version": "1.5.0",
      "model_name": "ButtonStyleModel",
      "state": {}
     },
     "da9bc4da87bb4ebe834eeb21fb733ff6": {
      "model_module": "@jupyter-widgets/controls",
      "model_module_version": "1.5.0",
      "model_name": "VBoxModel",
      "state": {
       "children": [
        "IPY_MODEL_0ce3977b3c394407b1f32bd5d412e69a",
        "IPY_MODEL_bc3357772c95419f851e19fef56cd666"
       ],
       "layout": "IPY_MODEL_85970a27178a46eb90e14b0557c69eb1"
      }
     },
     "db65dbe575df4f6d8d1a19fca0b4f191": {
      "model_module": "@jupyter-widgets/controls",
      "model_module_version": "1.5.0",
      "model_name": "ButtonModel",
      "state": {
       "description": "Cancel",
       "layout": "IPY_MODEL_4d325559dc4049abbcf541106a71c1dc",
       "style": "IPY_MODEL_17335b56bf9847f7929c7289efea30c1"
      }
     },
     "db77ddd447b445c18daf4a2dbfa529c6": {
      "model_module": "@jupyter-widgets/base",
      "model_module_version": "1.2.0",
      "model_name": "LayoutModel",
      "state": {}
     },
     "db82a711e3624df2ba8392b815f2d9e0": {
      "model_module": "@jupyter-widgets/controls",
      "model_module_version": "1.5.0",
      "model_name": "HTMLModel",
      "state": {
       "layout": "IPY_MODEL_0d4d0105769a4ea68c342a6dbcef4dbb",
       "placeholder": "",
       "style": "IPY_MODEL_17530379d84d4d498a02737d73e8f315",
       "value": "<span style=\"margin-left:10px; color:black;\">No file selected</span>"
      }
     },
     "dba36cad474b4e6b97053c907a12a1bd": {
      "model_module": "@jupyter-widgets/controls",
      "model_module_version": "1.5.0",
      "model_name": "VBoxModel",
      "state": {
       "children": [
        "IPY_MODEL_057d3ee0844c44df8af611c269448c1c",
        "IPY_MODEL_182b21e6737643cc987a3cb21f01dd73"
       ],
       "layout": "IPY_MODEL_5ea27f9a5be5440ab577793c77784b28"
      }
     },
     "dbcd2fe5464241e4a1a4ff71ef107d4a": {
      "model_module": "@jupyter-widgets/controls",
      "model_module_version": "1.5.0",
      "model_name": "ButtonModel",
      "state": {
       "description": "Select",
       "layout": "IPY_MODEL_af5168cd5d9b47e9a3960b620302439b",
       "style": "IPY_MODEL_c1389699b4174a31b8ade9cf18eed688"
      }
     },
     "dc1a4588a0e34d8889683afae81158d7": {
      "model_module": "@jupyter-widgets/base",
      "model_module_version": "1.2.0",
      "model_name": "LayoutModel",
      "state": {}
     },
     "dc403d85a7094d029f5a43caac4527be": {
      "model_module": "@jupyter-widgets/controls",
      "model_module_version": "1.5.0",
      "model_name": "ButtonStyleModel",
      "state": {}
     },
     "dc54f761ab7049bb845dd2de540ee70c": {
      "model_module": "@jupyter-widgets/base",
      "model_module_version": "1.2.0",
      "model_name": "LayoutModel",
      "state": {}
     },
     "dc6b0ca223c64965a014c81cc1820b3c": {
      "model_module": "@jupyter-widgets/base",
      "model_module_version": "1.2.0",
      "model_name": "LayoutModel",
      "state": {
       "width": "auto"
      }
     },
     "dcaa0de4b2a84b72947fce3fb2f86a53": {
      "model_module": "@jupyter-widgets/base",
      "model_module_version": "1.2.0",
      "model_name": "LayoutModel",
      "state": {
       "display": "none"
      }
     },
     "dcbb1d30469d49009aa0a25d5353fd0c": {
      "model_module": "@jupyter-widgets/base",
      "model_module_version": "1.2.0",
      "model_name": "LayoutModel",
      "state": {}
     },
     "dcd5c229dd05470397cdb6ddb43a08fc": {
      "model_module": "@jupyter-widgets/controls",
      "model_module_version": "1.5.0",
      "model_name": "HBoxModel",
      "state": {
       "children": [
        "IPY_MODEL_1c2802da222f421abd1f4f4b50e1dbf3",
        "IPY_MODEL_a5fd8a40b0ee40ed82eacb4776d45bd7",
        "IPY_MODEL_f4ce530e0e66429ca3779e9c240a0034"
       ],
       "layout": "IPY_MODEL_19896cbc17a04dd9b3e7d1a2074f57c4"
      }
     },
     "dd01a41c6e14494f993e1c42a1e4baac": {
      "model_module": "@jupyter-widgets/controls",
      "model_module_version": "1.5.0",
      "model_name": "DescriptionStyleModel",
      "state": {
       "description_width": ""
      }
     },
     "dd53d91cd441474599646219a9a920de": {
      "model_module": "@jupyter-widgets/controls",
      "model_module_version": "1.5.0",
      "model_name": "TextModel",
      "state": {
       "disabled": true,
       "layout": "IPY_MODEL_1a9dc2d6080f4f228f4087fa484afc3f",
       "placeholder": "output filename",
       "style": "IPY_MODEL_ead455990e3c4ace85fdf973bdc606d6"
      }
     },
     "ddcaa85ad9144db7afaa79b646059631": {
      "model_module": "@jupyter-widgets/base",
      "model_module_version": "1.2.0",
      "model_name": "LayoutModel",
      "state": {}
     },
     "de22b884d1f84cf9bf7efad578cc9fd6": {
      "model_module": "@jupyter-widgets/controls",
      "model_module_version": "1.5.0",
      "model_name": "VBoxModel",
      "state": {
       "children": [
        "IPY_MODEL_f94483b1fc7d481fb813a16256825a24",
        "IPY_MODEL_0fa8f63f21e64ef594b22fe78a733615"
       ],
       "layout": "IPY_MODEL_d109faa37d2f480389ab17fbc2a4beff"
      }
     },
     "de31400c75694d80a48b95f0fda98835": {
      "model_module": "@jupyter-widgets/controls",
      "model_module_version": "1.5.0",
      "model_name": "TextModel",
      "state": {
       "continuous_update": false,
       "description": "Group:",
       "layout": "IPY_MODEL_7aefe9a774c34db49aa97dfca15f3475",
       "style": "IPY_MODEL_ce768b615e5241ac8f5f8b6afaa59bfe"
      }
     },
     "de41095bb8804ea79d3abb4312ff1e5b": {
      "model_module": "@jupyter-widgets/base",
      "model_module_version": "1.2.0",
      "model_name": "LayoutModel",
      "state": {}
     },
     "de6f92ac38f443f99ec5af00eba0e891": {
      "model_module": "@jupyter-widgets/controls",
      "model_module_version": "1.5.0",
      "model_name": "DropdownModel",
      "state": {
       "_options_labels": [
        "output name",
        "uncertainties",
        "starting model",
        "regularization",
        "upper-lower bounds",
        "mesh",
        "ignore values",
        "optimization"
       ],
       "index": 0,
       "layout": "IPY_MODEL_080e8bf3ecaa46feb8ca8168980b573d",
       "style": "IPY_MODEL_336f118cd5da471aa69e15e87e175f45"
      }
     },
     "de7ada09f36c478c82d67839137511a2": {
      "model_module": "@jupyter-widgets/controls",
      "model_module_version": "1.5.0",
      "model_name": "ButtonModel",
      "state": {
       "description": "Cancel",
       "layout": "IPY_MODEL_cc7580b97bce45ba884ff1032c09fc18",
       "style": "IPY_MODEL_451784522c2647efa400cb5f5b8778af"
      }
     },
     "dea3d6cce51644cfaf98f51e4a6aa5ce": {
      "model_module": "@jupyter-widgets/base",
      "model_module_version": "1.2.0",
      "model_name": "LayoutModel",
      "state": {
       "visibility": "hidden"
      }
     },
     "dee71bbd8c434e57902e8c5e0757041b": {
      "model_module": "@jupyter-widgets/controls",
      "model_module_version": "1.5.0",
      "model_name": "DescriptionStyleModel",
      "state": {
       "description_width": ""
      }
     },
     "defc50732d614f90b747e52c8142a845": {
      "model_module": "@jupyter-widgets/controls",
      "model_module_version": "1.5.0",
      "model_name": "ButtonModel",
      "state": {
       "description": "Cancel",
       "layout": "IPY_MODEL_8415239a244f43178aa0708e5f95721c",
       "style": "IPY_MODEL_501db785d292448da2d7d696d3eb9bc3"
      }
     },
     "df05dfc04ef44bf5a0686555ef559ac4": {
      "model_module": "@jupyter-widgets/controls",
      "model_module_version": "1.5.0",
      "model_name": "DescriptionStyleModel",
      "state": {
       "description_width": ""
      }
     },
     "df3b156f1efa475693f24217608927b7": {
      "model_module": "@jupyter-widgets/controls",
      "model_module_version": "1.5.0",
      "model_name": "HTMLModel",
      "state": {
       "layout": "IPY_MODEL_812d457f406144769072fc5dbcef6ace",
       "style": "IPY_MODEL_1c03f6e1ea744a068ebb03b7fe2ca377"
      }
     },
     "dfb44518295d44ef927a94c0880ff473": {
      "model_module": "@jupyter-widgets/base",
      "model_module_version": "1.2.0",
      "model_name": "LayoutModel",
      "state": {
       "grid_area": "dircontent",
       "width": "auto"
      }
     },
     "dfbaefc87f67443fa403d133b9d25911": {
      "model_module": "@jupyter-widgets/controls",
      "model_module_version": "1.5.0",
      "model_name": "DescriptionStyleModel",
      "state": {
       "description_width": ""
      }
     },
     "e040d6676bf14a9cb31d8af84c51b2bb": {
      "model_module": "@jupyter-widgets/controls",
      "model_module_version": "1.5.0",
      "model_name": "DescriptionStyleModel",
      "state": {
       "description_width": "initial"
      }
     },
     "e085dd4a61b4425cbb41dca51e368b2c": {
      "model_module": "@jupyter-widgets/controls",
      "model_module_version": "1.5.0",
      "model_name": "DescriptionStyleModel",
      "state": {
       "description_width": ""
      }
     },
     "e0a53a3f96e043f5bc5661ed6db956ef": {
      "model_module": "@jupyter-widgets/controls",
      "model_module_version": "1.5.0",
      "model_name": "DescriptionStyleModel",
      "state": {
       "description_width": ""
      }
     },
     "e0acf802246e4921aa6c5fb0461032b8": {
      "model_module": "@jupyter-widgets/base",
      "model_module_version": "1.2.0",
      "model_name": "LayoutModel",
      "state": {}
     },
     "e0ed38f434394b33bb4a3bdcdb92ac1b": {
      "model_module": "@jupyter-widgets/controls",
      "model_module_version": "1.5.0",
      "model_name": "ButtonModel",
      "state": {
       "description": "Select",
       "layout": "IPY_MODEL_3d66c6bfbb4947a5a287503684ff77e1",
       "style": "IPY_MODEL_da6a7aa087194c7793af8ea26d780643"
      }
     },
     "e1444df35ffc4cc9bc7852343ea5c08c": {
      "model_module": "@jupyter-widgets/controls",
      "model_module_version": "1.5.0",
      "model_name": "VBoxModel",
      "state": {
       "children": [
        "IPY_MODEL_85e42734dfc24c099241b070bee280ee",
        "IPY_MODEL_aeabb8141e5d48ad9eff0e27fe7a51fa"
       ],
       "layout": "IPY_MODEL_615ee714950c4ba798009c25881cc237"
      }
     },
     "e16d1143a65940ee878f74c755b0b0ed": {
      "model_module": "@jupyter-widgets/base",
      "model_module_version": "1.2.0",
      "model_name": "LayoutModel",
      "state": {}
     },
     "e17add781bde4552978d4d99c65048a6": {
      "model_module": "@jupyter-widgets/controls",
      "model_module_version": "1.5.0",
      "model_name": "LabelModel",
      "state": {
       "layout": "IPY_MODEL_7c6681cf6b164698aae06e6ac0d4621b",
       "style": "IPY_MODEL_46e73bc430dd4e318cb7f3b1912b7b3c",
       "value": "Starting effective susceptibility"
      }
     },
     "e1ef305d28a34ccc85abb74574b09342": {
      "model_module": "@jupyter-widgets/controls",
      "model_module_version": "1.5.0",
      "model_name": "HTMLModel",
      "state": {
       "layout": "IPY_MODEL_d2dd7a168501493691b01503fd06ccf5",
       "placeholder": "",
       "style": "IPY_MODEL_8528212ca2314de5abe517d0206cd079",
       "value": "<span style=\"margin-left:10px; color:black;\">No file selected</span>"
      }
     },
     "e1f750cfdd7f406ebbfbdb7b9bf8def3": {
      "model_module": "@jupyter-widgets/controls",
      "model_module_version": "1.5.0",
      "model_name": "ToggleButtonModel",
      "state": {
       "layout": "IPY_MODEL_93eaaaad642948a6bd16bd7d64c932c1",
       "style": "IPY_MODEL_90fb137a4f964ba9a16c01b61140507a",
       "value": true
      }
     },
     "e221f580db044910bb8acea073b53e21": {
      "model_module": "@jupyter-widgets/controls",
      "model_module_version": "1.5.0",
      "model_name": "ButtonModel",
      "state": {
       "description": "Select",
       "layout": "IPY_MODEL_4679ba89c8054c3694446400ef316188",
       "style": "IPY_MODEL_f7daf5a446544dba96b7c8d77c1c9fa7"
      }
     },
     "e2284e26c88a47d2b521625d76c3fad0": {
      "model_module": "@jupyter-widgets/controls",
      "model_module_version": "1.5.0",
      "model_name": "DescriptionStyleModel",
      "state": {
       "description_width": ""
      }
     },
     "e24a6f8ca20243f696568920de9aeb48": {
      "model_module": "@jupyter-widgets/base",
      "model_module_version": "1.2.0",
      "model_name": "LayoutModel",
      "state": {}
     },
     "e26c3aaaaf9f462295440da8db90f68f": {
      "model_module": "@jupyter-widgets/controls",
      "model_module_version": "1.5.0",
      "model_name": "HBoxModel",
      "state": {
       "children": [
        "IPY_MODEL_bc362ddd182445deafa5e9d8b627193c",
        "IPY_MODEL_27b10f9711a24da6be99b67007dafc10"
       ],
       "layout": "IPY_MODEL_2779bb3dd0284410828eca02895b331d"
      }
     },
     "e27853c983a0470d8c871c59b0968733": {
      "model_module": "@jupyter-widgets/controls",
      "model_module_version": "1.5.0",
      "model_name": "VBoxModel",
      "state": {
       "children": [
        "IPY_MODEL_dba36cad474b4e6b97053c907a12a1bd",
        "IPY_MODEL_66d2f19a4c144548872a5a9a384dbbe4"
       ],
       "layout": "IPY_MODEL_4f5d98b4b18d4032b173a932f0635015"
      }
     },
     "e286c3c7273844019137577a88d0759b": {
      "model_module": "@jupyter-widgets/controls",
      "model_module_version": "1.5.0",
      "model_name": "ButtonModel",
      "state": {
       "description": "Cancel",
       "layout": "IPY_MODEL_5d40e66925c54d7f826f3ca6631a43de",
       "style": "IPY_MODEL_7272ba688516428a94863f4b864a993b"
      }
     },
     "e296b5173e034ab287c81009a0dcab8b": {
      "model_module": "@jupyter-widgets/base",
      "model_module_version": "1.2.0",
      "model_name": "LayoutModel",
      "state": {}
     },
     "e2d8d5aa08d5460a8d149c7272c4cf62": {
      "model_module": "@jupyter-widgets/controls",
      "model_module_version": "1.5.0",
      "model_name": "DropdownModel",
      "state": {
       "_options_labels": [
        "C:\\Users\\dominiquef\\Documents\\GIT\\mira\\mirageoscience-apps\\docs\\content\\applications",
        "C:\\Users\\dominiquef\\Documents\\GIT\\mira\\mirageoscience-apps\\docs\\content",
        "C:\\Users\\dominiquef\\Documents\\GIT\\mira\\mirageoscience-apps\\docs",
        "C:\\Users\\dominiquef\\Documents\\GIT\\mira\\mirageoscience-apps",
        "C:\\Users\\dominiquef\\Documents\\GIT\\mira",
        "C:\\Users\\dominiquef\\Documents\\GIT",
        "C:\\Users\\dominiquef\\Documents",
        "C:\\Users\\dominiquef",
        "C:\\Users",
        "C:\\",
        "D:\\",
        "Z:\\"
       ],
       "index": 0,
       "layout": "IPY_MODEL_727c6b4bd22d4aeea980edea113bce88",
       "style": "IPY_MODEL_aa033ff7006a4bfdbf39adee3a2240b1"
      }
     },
     "e2f90869321a4778aff4cbedd322088e": {
      "model_module": "@jupyter-widgets/controls",
      "model_module_version": "1.5.0",
      "model_name": "DropdownModel",
      "state": {
       "_options_labels": [
        "C:\\Users\\dominiquef\\Documents\\GIT\\mira\\mirageoscience-apps\\docs\\content\\applications",
        "C:\\Users\\dominiquef\\Documents\\GIT\\mira\\mirageoscience-apps\\docs\\content",
        "C:\\Users\\dominiquef\\Documents\\GIT\\mira\\mirageoscience-apps\\docs",
        "C:\\Users\\dominiquef\\Documents\\GIT\\mira\\mirageoscience-apps",
        "C:\\Users\\dominiquef\\Documents\\GIT\\mira",
        "C:\\Users\\dominiquef\\Documents\\GIT",
        "C:\\Users\\dominiquef\\Documents",
        "C:\\Users\\dominiquef",
        "C:\\Users",
        "C:\\",
        "D:\\",
        "Z:\\"
       ],
       "index": 0,
       "layout": "IPY_MODEL_aee25d66acf34e1798b34d2ce9c1e80b",
       "style": "IPY_MODEL_fac1fc57b800464aa54e263e9949a412"
      }
     },
     "e378c7f1013b40248d5b1799531c7077": {
      "model_module": "@jupyter-widgets/base",
      "model_module_version": "1.2.0",
      "model_name": "LayoutModel",
      "state": {
       "display": "none"
      }
     },
     "e3c766b6faaf4296926716c78d609495": {
      "model_module": "@jupyter-widgets/controls",
      "model_module_version": "1.5.0",
      "model_name": "VBoxModel",
      "state": {
       "children": [
        "IPY_MODEL_1fb0dff48b6b4873bbdc30245775fb08",
        "IPY_MODEL_0f456e58b9d04f73826ebb4a0abc9191"
       ],
       "layout": "IPY_MODEL_80846141024c4abfaeaf0975ca298235"
      }
     },
     "e3e3e18ac91a4576bdb9c551e29b5087": {
      "model_module": "@jupyter-widgets/base",
      "model_module_version": "1.2.0",
      "model_name": "LayoutModel",
      "state": {}
     },
     "e42b0877f4e444af90c8348938312295": {
      "model_module": "@jupyter-widgets/base",
      "model_module_version": "1.2.0",
      "model_name": "LayoutModel",
      "state": {}
     },
     "e4a54b1d42914fccbe646f88d436d410": {
      "model_module": "@jupyter-widgets/controls",
      "model_module_version": "1.5.0",
      "model_name": "DescriptionStyleModel",
      "state": {
       "description_width": "initial"
      }
     },
     "e4a9b4d1fc0d4c5d86b1da351ef67ff6": {
      "model_module": "@jupyter-widgets/controls",
      "model_module_version": "1.5.0",
      "model_name": "LabelModel",
      "state": {
       "layout": "IPY_MODEL_0f6f6767af444df4ac897acb53ef5461",
       "style": "IPY_MODEL_825f239f6f9047e69ec08e7ae1461796",
       "value": "Geophysical System"
      }
     },
     "e4b173bafb1a4088a484442e2806a305": {
      "model_module": "@jupyter-widgets/base",
      "model_module_version": "1.2.0",
      "model_name": "LayoutModel",
      "state": {
       "display": "none",
       "grid_area": "filename",
       "width": "auto"
      }
     },
     "e4f9b29956e9469cb6f13df62405ee4e": {
      "model_module": "@jupyter-widgets/base",
      "model_module_version": "1.2.0",
      "model_name": "LayoutModel",
      "state": {}
     },
     "e5068ed2428e4555b00da3ef34aacbed": {
      "model_module": "@jupyter-widgets/controls",
      "model_module_version": "1.5.0",
      "model_name": "TextModel",
      "state": {
       "disabled": true,
       "layout": "IPY_MODEL_0044698f95494e84b0fe77b0e61966ba",
       "placeholder": "output filename",
       "style": "IPY_MODEL_bb3dafe798ea4dca8ea5c5febb956a48"
      }
     },
     "e526ee62ef374d3b9d4591e39a4943af": {
      "model_module": "@jupyter-widgets/controls",
      "model_module_version": "1.5.0",
      "model_name": "DescriptionStyleModel",
      "state": {
       "description_width": ""
      }
     },
     "e573884e442643ce8b33084516526c3c": {
      "model_module": "@jupyter-widgets/base",
      "model_module_version": "1.2.0",
      "model_name": "LayoutModel",
      "state": {
       "grid_area": "dircontent",
       "width": "auto"
      }
     },
     "e5f1f78e0a3a4c898f829c75ae546abf": {
      "model_module": "@jupyter-widgets/base",
      "model_module_version": "1.2.0",
      "model_name": "LayoutModel",
      "state": {}
     },
     "e748629cdd3947c4b2033b00b36b24ff": {
      "model_module": "@jupyter-widgets/controls",
      "model_module_version": "1.5.0",
      "model_name": "DropdownModel",
      "state": {
       "_options_labels": [
        "",
        "--- Channels ---",
        "Airborne_Gxx",
        "Airborne_Gxy",
        "Airborne_Gxz",
        "Airborne_Gyy",
        "Airborne_Gyz",
        "Airborne_Gz",
        "Airborne_Gzz",
        "Airborne_TMI",
        "Ground_Gz",
        "Z"
       ],
       "description": "Channel <=> Data:",
       "index": 0,
       "layout": "IPY_MODEL_5f811fa7f64647238ce7c20205c76f61",
       "style": "IPY_MODEL_a323849719a64364975d40c98cd609f4"
      }
     },
     "e752e37f921742e88f825920286738e7": {
      "model_module": "@jupyter-widgets/controls",
      "model_module_version": "1.5.0",
      "model_name": "VBoxModel",
      "state": {
       "children": [
        "IPY_MODEL_b220d6a70f054ba79d49902daafbd0cf",
        "IPY_MODEL_f6db69245c67465ca10c13c8bc10549b"
       ],
       "layout": "IPY_MODEL_248afa0048c645679ca33c8b48483bae"
      }
     },
     "e77569707e09428880af760c62ce8077": {
      "model_module": "@jupyter-widgets/controls",
      "model_module_version": "1.5.0",
      "model_name": "DescriptionStyleModel",
      "state": {
       "description_width": ""
      }
     },
     "e7a0989d9d7a448ba6d3a777ecff0303": {
      "model_module": "@jupyter-widgets/base",
      "model_module_version": "1.2.0",
      "model_name": "LayoutModel",
      "state": {
       "display": "none",
       "width": "auto"
      }
     },
     "e7ab1639235540deb3fbbdcadedaee9d": {
      "model_module": "@jupyter-widgets/controls",
      "model_module_version": "1.5.0",
      "model_name": "DropdownModel",
      "state": {
       "_options_labels": [
        "",
        "--- Channels ---",
        "Airborne_Gxx",
        "Airborne_Gxy",
        "Airborne_Gxz",
        "Airborne_Gyy",
        "Airborne_Gyz",
        "Airborne_Gz",
        "Airborne_Gzz",
        "Airborne_TMI",
        "Ground_Gz",
        "Z"
       ],
       "description": "Channel <=> Data:",
       "index": 9,
       "layout": "IPY_MODEL_8cb16af86f73490b8bee3ef08825b226",
       "style": "IPY_MODEL_6295fca9154246d39a6eed52a142d78f"
      }
     },
     "e7c86e0c44a846589f913b0cb59c41b9": {
      "model_module": "@jupyter-widgets/base",
      "model_module_version": "1.2.0",
      "model_name": "LayoutModel",
      "state": {
       "grid_area": "pathlist",
       "width": "auto"
      }
     },
     "e7f11ab8858a4614b2eb69c2ee810093": {
      "model_module": "@jupyter-widgets/controls",
      "model_module_version": "1.5.0",
      "model_name": "VBoxModel",
      "state": {
       "children": [
        "IPY_MODEL_42e7e70ffed04b07b3f87987d1d03f31",
        "IPY_MODEL_29db7323f8e94342b918f2b1adbd05aa",
        "IPY_MODEL_6ecfe6cff1fe47fd9f09fc926489acf3"
       ],
       "layout": "IPY_MODEL_0d7bf677f9d34ca5b19bb86fb748bab5"
      }
     },
     "e86d292af26440e7b3dd77197c8a1d07": {
      "model_module": "@jupyter-widgets/base",
      "model_module_version": "1.2.0",
      "model_name": "LayoutModel",
      "state": {
       "grid_area": "filename",
       "width": "auto"
      }
     },
     "e92c9248138e4a0bbec1a8419b12459f": {
      "model_module": "@jupyter-widgets/base",
      "model_module_version": "1.2.0",
      "model_name": "LayoutModel",
      "state": {
       "display": "none"
      }
     },
     "e9448fe9391c41c6ab0e02b343e7bebf": {
      "model_module": "@jupyter-widgets/controls",
      "model_module_version": "1.5.0",
      "model_name": "DescriptionStyleModel",
      "state": {
       "description_width": "initial"
      }
     },
     "e94bad81d9ee4d118dcf00ad8549a4d6": {
      "model_module": "@jupyter-widgets/base",
      "model_module_version": "1.2.0",
      "model_name": "LayoutModel",
      "state": {
       "grid_area": "pathlist",
       "width": "auto"
      }
     },
     "e95e78cf92ca4bb7a7c24530313e63d5": {
      "model_module": "@jupyter-widgets/controls",
      "model_module_version": "1.5.0",
      "model_name": "DescriptionStyleModel",
      "state": {
       "description_width": ""
      }
     },
     "e9e970972bde4c78a2660289ecb67543": {
      "model_module": "@jupyter-widgets/controls",
      "model_module_version": "1.5.0",
      "model_name": "DescriptionStyleModel",
      "state": {
       "description_width": ""
      }
     },
     "ea21d8abed594981bef780b7e166fa80": {
      "model_module": "@jupyter-widgets/base",
      "model_module_version": "1.2.0",
      "model_name": "LayoutModel",
      "state": {
       "grid_area": "filename",
       "width": "auto"
      }
     },
     "ea4da566d8754a8a87bf02eea4f18a0c": {
      "model_module": "@jupyter-widgets/base",
      "model_module_version": "1.2.0",
      "model_name": "LayoutModel",
      "state": {}
     },
     "ea7fd28407d14cb1bb768357ddd1bc2b": {
      "model_module": "@jupyter-widgets/controls",
      "model_module_version": "1.5.0",
      "model_name": "DescriptionStyleModel",
      "state": {
       "description_width": ""
      }
     },
     "ea8533c7f10443ddb78c1dda28b1554e": {
      "model_module": "@jupyter-widgets/controls",
      "model_module_version": "1.5.0",
      "model_name": "DescriptionStyleModel",
      "state": {
       "description_width": "initial"
      }
     },
     "ead455990e3c4ace85fdf973bdc606d6": {
      "model_module": "@jupyter-widgets/controls",
      "model_module_version": "1.5.0",
      "model_name": "DescriptionStyleModel",
      "state": {
       "description_width": ""
      }
     },
     "ead57fc691e0416ab2795bdc6ed7763c": {
      "model_module": "@jupyter-widgets/controls",
      "model_module_version": "1.5.0",
      "model_name": "LabelModel",
      "state": {
       "layout": "IPY_MODEL_788e714cb8a24f8586fcff766d7731e4",
       "style": "IPY_MODEL_3c9bf76a77984987aedf34ae796d7d3d",
       "value": "Workspace"
      }
     },
     "eaecc04d29df4748a0c06924516926f9": {
      "model_module": "@jupyter-widgets/controls",
      "model_module_version": "1.5.0",
      "model_name": "TextModel",
      "state": {
       "continuous_update": false,
       "description": "Group:",
       "layout": "IPY_MODEL_6d9e9be5f7ea4c76984bb40b2c5536b5",
       "style": "IPY_MODEL_895e24b3412345a4955a7e9d051a2a83"
      }
     },
     "eb14982f55954d7ab5e1ba9befaf9aa9": {
      "model_module": "@jupyter-widgets/controls",
      "model_module_version": "1.5.0",
      "model_name": "VBoxModel",
      "state": {
       "children": [
        "IPY_MODEL_ca06fdf0d902419696fa320b6872b0b6"
       ],
       "layout": "IPY_MODEL_5d5cb8cc7fa74238ade2ba22d2ef71f1"
      }
     },
     "eb283e15f9374b9aa311c966f176ef5f": {
      "model_module": "@jupyter-widgets/base",
      "model_module_version": "1.2.0",
      "model_name": "LayoutModel",
      "state": {}
     },
     "eb56e4b63fec4fb39d2bc21bc6a124b4": {
      "model_module": "@jupyter-widgets/base",
      "model_module_version": "1.2.0",
      "model_name": "LayoutModel",
      "state": {}
     },
     "ec36fe3b98124222a6145dd1090f8b0a": {
      "model_module": "@jupyter-widgets/controls",
      "model_module_version": "1.5.0",
      "model_name": "TextModel",
      "state": {
       "description": "bzz",
       "layout": "IPY_MODEL_41febee25b3d4255a58c972a4a9b9c4f",
       "style": "IPY_MODEL_f177d49bb8e24f2a9ff88b7849b19cae"
      }
     },
     "ecc2b56a113c4defae04eb1d3767e47d": {
      "model_module": "@jupyter-widgets/controls",
      "model_module_version": "1.5.0",
      "model_name": "VBoxModel",
      "state": {
       "children": [
        "IPY_MODEL_6b4ecf9c979c44fbac5c12e959c1ed48",
        "IPY_MODEL_2c82cd332966410d9b286681c696bfaf",
        "IPY_MODEL_ff2861d9c7084aceb49f5bb7475d5c55",
        "IPY_MODEL_2b27ebbc7a2f4a4f9d85da1f7f699907",
        "IPY_MODEL_3c41d9bf652740aea9a7797a222d042e",
        "IPY_MODEL_bd1778f9991745e588efffce92ad7cff",
        "IPY_MODEL_9e4da7f70fc44d2e9775ae4053a554c8"
       ],
       "layout": "IPY_MODEL_61e7f593f5a54b2ab647eadeb8481e3f"
      }
     },
     "ecec24e75c2540618147da456e984451": {
      "model_module": "@jupyter-widgets/controls",
      "model_module_version": "1.5.0",
      "model_name": "DescriptionStyleModel",
      "state": {
       "description_width": ""
      }
     },
     "ecef806b05484634aeddfff4d37884e6": {
      "model_module": "@jupyter-widgets/base",
      "model_module_version": "1.2.0",
      "model_name": "LayoutModel",
      "state": {}
     },
     "ed0728c8849f40959660028dc7ff1a8f": {
      "model_module": "@jupyter-widgets/controls",
      "model_module_version": "1.5.0",
      "model_name": "HTMLModel",
      "state": {
       "layout": "IPY_MODEL_712f5e68587645359eedba3fc270a1fb",
       "placeholder": "",
       "style": "IPY_MODEL_8a6f7e0653b04282b6df8a75fabacd9f",
       "value": "<span style=\"margin-left:10px; color:black;\">No file selected</span>"
      }
     },
     "ed39e6983c8942dabdb51fe472bd5231": {
      "model_module": "@jupyter-widgets/controls",
      "model_module_version": "1.5.0",
      "model_name": "DescriptionStyleModel",
      "state": {
       "description_width": ""
      }
     },
     "edd353360ccc4cf6b1c97d8867abd971": {
      "model_module": "@jupyter-widgets/base",
      "model_module_version": "1.2.0",
      "model_name": "LayoutModel",
      "state": {}
     },
     "edf029c658604632b0f67a524ebf92dd": {
      "model_module": "@jupyter-widgets/base",
      "model_module_version": "1.2.0",
      "model_name": "LayoutModel",
      "state": {}
     },
     "ee99420af26541c6bf8b78ba52e4a50c": {
      "model_module": "@jupyter-widgets/controls",
      "model_module_version": "1.5.0",
      "model_name": "VBoxModel",
      "state": {
       "children": [
        "IPY_MODEL_b5f334a314944a67a50311bb981b3f0f",
        "IPY_MODEL_8d23dec0dcdd4cd79a7933c379eeed3f",
        "IPY_MODEL_2dd6b81f884c4cdf9de4805433db1872",
        "IPY_MODEL_a43cf934ebd04e09ab3c05854b0b9664",
        "IPY_MODEL_20412521c2fd46979e1a58da908aaf88",
        "IPY_MODEL_4c116c0607a1493380ecb75834fb6944",
        "IPY_MODEL_bf1e22afc94249789eab23d83a4e3bec"
       ],
       "layout": "IPY_MODEL_6d72a285e0294aa6b47d234bcb5c83a4"
      }
     },
     "eec280faa63c4e7b800ac5505fed811e": {
      "model_module": "@jupyter-widgets/controls",
      "model_module_version": "1.5.0",
      "model_name": "ButtonStyleModel",
      "state": {}
     },
     "eef3c8cf43cf49dbbda38c543ddf2323": {
      "model_module": "@jupyter-widgets/controls",
      "model_module_version": "1.5.0",
      "model_name": "DescriptionStyleModel",
      "state": {
       "description_width": "initial"
      }
     },
     "ef19d52a5742420da5f83b2d7abfb862": {
      "model_module": "@jupyter-widgets/base",
      "model_module_version": "1.2.0",
      "model_name": "LayoutModel",
      "state": {
       "display": "none",
       "grid_gap": "0px 0px",
       "grid_template_areas": "\n                    'pathlist pathlist'\n                    'dircontent dircontent'\n                    ",
       "grid_template_columns": "60% 40%",
       "grid_template_rows": "auto auto",
       "width": "500px"
      }
     },
     "ef8df1c4c9ca46cbb1500bf4699f7abb": {
      "model_module": "@jupyter-widgets/controls",
      "model_module_version": "1.5.0",
      "model_name": "ButtonStyleModel",
      "state": {}
     },
     "efa8fe3e435f42b2be3e105863bc6a70": {
      "model_module": "@jupyter-widgets/controls",
      "model_module_version": "1.5.0",
      "model_name": "HTMLModel",
      "state": {
       "layout": "IPY_MODEL_e24a6f8ca20243f696568920de9aeb48",
       "placeholder": "",
       "style": "IPY_MODEL_853927fc600b4cb98be6ad47857d3861",
       "value": "<span style=\"margin-left:10px; color:black;\">No file selected</span>"
      }
     },
     "efd54439bf4c4f78bc27de8414f28157": {
      "model_module": "@jupyter-widgets/controls",
      "model_module_version": "1.5.0",
      "model_name": "ButtonModel",
      "state": {
       "description": "Select",
       "layout": "IPY_MODEL_ca8688319fd641deb9ab8f2577f80865",
       "style": "IPY_MODEL_89d6c17d49824818b0bc4678ffce679f"
      }
     },
     "f0235e2d743f42b88e83a49def353924": {
      "model_module": "@jupyter-widgets/controls",
      "model_module_version": "1.5.0",
      "model_name": "SelectModel",
      "state": {
       "_options_labels": [
        "..",
        "images"
       ],
       "index": null,
       "layout": "IPY_MODEL_6f2a7ab7c7ce4992a5a5675b8adc664c",
       "rows": 8,
       "style": "IPY_MODEL_6d49c42c931c4b66b3ada2b760f4a694"
      }
     },
     "f0325dd550344e2fb500c4928d60d92c": {
      "model_module": "@jupyter-widgets/base",
      "model_module_version": "1.2.0",
      "model_name": "LayoutModel",
      "state": {
       "width": "auto"
      }
     },
     "f05b789149a84c7fa867a00e9518902a": {
      "model_module": "@jupyter-widgets/base",
      "model_module_version": "1.2.0",
      "model_name": "LayoutModel",
      "state": {}
     },
     "f083ebb9a2c8451085ddc05faf36e2e5": {
      "model_module": "@jupyter-widgets/base",
      "model_module_version": "1.2.0",
      "model_name": "LayoutModel",
      "state": {
       "width": "auto"
      }
     },
     "f0a8ea6e56744edfa96ddfdd025d4026": {
      "model_module": "@jupyter-widgets/controls",
      "model_module_version": "1.5.0",
      "model_name": "TextModel",
      "state": {
       "layout": "IPY_MODEL_490a5a64134e4e2c9e3b6fd80430c5aa",
       "placeholder": "output filename",
       "style": "IPY_MODEL_0f19d958c7744e50a3741fedbfdadb46"
      }
     },
     "f0b4ce34a4514b48bf26479d4a9221ee": {
      "model_module": "@jupyter-widgets/base",
      "model_module_version": "1.2.0",
      "model_name": "LayoutModel",
      "state": {}
     },
     "f115c4bae6eb4cae9ab86e841a20ab35": {
      "model_module": "@jupyter-widgets/controls",
      "model_module_version": "1.5.0",
      "model_name": "GridBoxModel",
      "state": {
       "children": [
        "IPY_MODEL_e2d8d5aa08d5460a8d149c7272c4cf62",
        "IPY_MODEL_0b6d44b7166242bcb0e99a0888f91304",
        "IPY_MODEL_4129fb9f989c45d088309ea56b9263c1"
       ],
       "layout": "IPY_MODEL_a3196862477d4d4498141263952d7cfc"
      }
     },
     "f11cbf70c15e43618e4d213f98774862": {
      "model_module": "@jupyter-widgets/controls",
      "model_module_version": "1.5.0",
      "model_name": "SelectModel",
      "state": {
       "_options_labels": [
        "..",
        "images"
       ],
       "index": null,
       "layout": "IPY_MODEL_7403af9dccd94d0c9778398f7f9e246c",
       "rows": 8,
       "style": "IPY_MODEL_0ccda490435947d8a18187c2ccd428c4"
      }
     },
     "f177d49bb8e24f2a9ff88b7849b19cae": {
      "model_module": "@jupyter-widgets/controls",
      "model_module_version": "1.5.0",
      "model_name": "DescriptionStyleModel",
      "state": {
       "description_width": "initial"
      }
     },
     "f1a0c7af7c7646a8a8c251a76528550b": {
      "model_module": "@jupyter-widgets/base",
      "model_module_version": "1.2.0",
      "model_name": "LayoutModel",
      "state": {}
     },
     "f2923b26b8ab41a0b5f7f3c635fecff1": {
      "model_module": "@jupyter-widgets/controls",
      "model_module_version": "1.5.0",
      "model_name": "HTMLModel",
      "state": {
       "layout": "IPY_MODEL_82d6ee56f7b9485697502055e5403baf",
       "placeholder": "",
       "style": "IPY_MODEL_075b697c7b5748579c8088df6b5cc263",
       "value": "<span style=\"margin-left:10px; color:black;\">No file selected</span>"
      }
     },
     "f2a6d0bfdeeb45a0b5aa9ae7264f0de4": {
      "model_module": "@jupyter-widgets/controls",
      "model_module_version": "1.5.0",
      "model_name": "DescriptionStyleModel",
      "state": {
       "description_width": ""
      }
     },
     "f2f1739498924f2c98cba7acb138653e": {
      "model_module": "@jupyter-widgets/controls",
      "model_module_version": "1.5.0",
      "model_name": "DescriptionStyleModel",
      "state": {
       "description_width": ""
      }
     },
     "f35994bd8e5d44ad9d21606e1e21b732": {
      "model_module": "@jupyter-widgets/controls",
      "model_module_version": "1.5.0",
      "model_name": "DescriptionStyleModel",
      "state": {
       "description_width": ""
      }
     },
     "f35fc35160b0425595467ad6b9c6f69f": {
      "model_module": "@jupyter-widgets/controls",
      "model_module_version": "1.5.0",
      "model_name": "DescriptionStyleModel",
      "state": {
       "description_width": ""
      }
     },
     "f39709e08f914e70b6a6e82622e4242d": {
      "model_module": "@jupyter-widgets/base",
      "model_module_version": "1.2.0",
      "model_name": "LayoutModel",
      "state": {
       "width": "auto"
      }
     },
     "f39d0eb299004503be447e685e726585": {
      "model_module": "@jupyter-widgets/controls",
      "model_module_version": "1.5.0",
      "model_name": "CheckboxModel",
      "state": {
       "description": "Active",
       "disabled": false,
       "layout": "IPY_MODEL_8bf02d416bc84dcc8ce2b7bb05a4a7b5",
       "style": "IPY_MODEL_be49e70ec75d40df849c3eca64c5d200",
       "value": false
      }
     },
     "f3d928df2fc04e09846aef4f032911ff": {
      "model_module": "@jupyter-widgets/controls",
      "model_module_version": "1.5.0",
      "model_name": "DropdownModel",
      "state": {
       "_options_labels": [
        "",
        "--- Channels ---",
        "Airborne_Gxx",
        "Airborne_Gxy",
        "Airborne_Gxz",
        "Airborne_Gyy",
        "Airborne_Gyz",
        "Airborne_Gz",
        "Airborne_Gzz",
        "Airborne_TMI",
        "Ground_Gz",
        "Z"
       ],
       "description": "Channel <=> Data:",
       "index": 0,
       "layout": "IPY_MODEL_c68301e74fc44f65a249ca5f1a7002b0",
       "style": "IPY_MODEL_20b77cd24d15463ea83b9be11df1ce6b"
      }
     },
     "f3e8e0f1789640de9306f16fe3e4b676": {
      "model_module": "@jupyter-widgets/base",
      "model_module_version": "1.2.0",
      "model_name": "LayoutModel",
      "state": {
       "grid_area": "pathlist",
       "width": "auto"
      }
     },
     "f47efc74c6a24b22af6eb8370fd41446": {
      "model_module": "@jupyter-widgets/controls",
      "model_module_version": "1.5.0",
      "model_name": "DescriptionStyleModel",
      "state": {
       "description_width": ""
      }
     },
     "f4b5fd151e39483f8a41b66969f66970": {
      "model_module": "@jupyter-widgets/base",
      "model_module_version": "1.2.0",
      "model_name": "LayoutModel",
      "state": {}
     },
     "f4ce530e0e66429ca3779e9c240a0034": {
      "model_module": "@jupyter-widgets/controls",
      "model_module_version": "1.5.0",
      "model_name": "HTMLModel",
      "state": {
       "layout": "IPY_MODEL_6b8b165ccfe34fb4a253e7f6787ae741",
       "placeholder": "",
       "style": "IPY_MODEL_447c1f0642044831b4385d27a6dd2e95",
       "value": "<span style=\"margin-left:10px; color:black;\">No file selected</span>"
      }
     },
     "f506a7951cfa4ecbb0486d2b115d4fd2": {
      "model_module": "@jupyter-widgets/base",
      "model_module_version": "1.2.0",
      "model_name": "LayoutModel",
      "state": {}
     },
     "f509b037c78d4e45901543cb631b3417": {
      "model_module": "@jupyter-widgets/controls",
      "model_module_version": "1.5.0",
      "model_name": "ButtonModel",
      "state": {
       "description": "Create copy:",
       "layout": "IPY_MODEL_f05b789149a84c7fa867a00e9518902a",
       "style": "IPY_MODEL_b3a699e152164edea28bbc71b39f9409"
      }
     },
     "f513a63b09c447258607420f2d63722c": {
      "model_module": "@jupyter-widgets/controls",
      "model_module_version": "1.5.0",
      "model_name": "VBoxModel",
      "state": {
       "children": [
        "IPY_MODEL_3e6ac5fef63b419cbee52ff22248597b",
        "IPY_MODEL_708d96f216ab478d900d9d22dc9276d2"
       ],
       "layout": "IPY_MODEL_136d6ff24b324474aae689a5ef336a16"
      }
     },
     "f53ee99ca5524ba6945891595eb1412d": {
      "model_module": "@jupyter-widgets/base",
      "model_module_version": "1.2.0",
      "model_name": "LayoutModel",
      "state": {}
     },
     "f5a584c60a8e4342b9674bc86d44cc32": {
      "model_module": "@jupyter-widgets/controls",
      "model_module_version": "1.5.0",
      "model_name": "TextModel",
      "state": {
       "layout": "IPY_MODEL_fcfa1b95e40941dc9a46126595f816fb",
       "placeholder": "output filename",
       "style": "IPY_MODEL_96ecdb6fce60445ea15e5058eb61873c"
      }
     },
     "f6158ff447ad4efdbdf2f138b0c13bcf": {
      "model_module": "@jupyter-widgets/base",
      "model_module_version": "1.2.0",
      "model_name": "LayoutModel",
      "state": {}
     },
     "f65f810e28aa449a95f2e9a762fb15a4": {
      "model_module": "@jupyter-widgets/base",
      "model_module_version": "1.2.0",
      "model_name": "LayoutModel",
      "state": {}
     },
     "f6c459991066448db47be87278b9849b": {
      "model_module": "@jupyter-widgets/base",
      "model_module_version": "1.2.0",
      "model_name": "LayoutModel",
      "state": {}
     },
     "f6db69245c67465ca10c13c8bc10549b": {
      "model_module": "@jupyter-widgets/controls",
      "model_module_version": "1.5.0",
      "model_name": "DropdownModel",
      "state": {
       "_options_labels": [
        "",
        "--- Channels ---",
        "elevation",
        "Z"
       ],
       "description": "Data: ",
       "index": 2,
       "layout": "IPY_MODEL_f0b4ce34a4514b48bf26479d4a9221ee",
       "style": "IPY_MODEL_698a4fdf87ea4319a5741c4654480554"
      }
     },
     "f714d3d0b0aa480197ac8fd386b41b25": {
      "model_module": "@jupyter-widgets/controls",
      "model_module_version": "1.5.0",
      "model_name": "ButtonModel",
      "state": {
       "description": "Cancel",
       "layout": "IPY_MODEL_69f5d49f21c64dde883583438bc4f28e",
       "style": "IPY_MODEL_a6408fa819a94a61911971f992519665"
      }
     },
     "f73012995dca478f92c2d3522c997332": {
      "model_module": "@jupyter-widgets/base",
      "model_module_version": "1.2.0",
      "model_name": "LayoutModel",
      "state": {
       "width": "auto"
      }
     },
     "f75f10fc283845fe841d9d9397e52176": {
      "model_module": "@jupyter-widgets/controls",
      "model_module_version": "1.5.0",
      "model_name": "ButtonStyleModel",
      "state": {}
     },
     "f77d2046e2d94682a7c6e7bf21832f57": {
      "model_module": "@jupyter-widgets/controls",
      "model_module_version": "1.5.0",
      "model_name": "DescriptionStyleModel",
      "state": {
       "description_width": ""
      }
     },
     "f785a99c05cb498294a4f15a5ab58a76": {
      "model_module": "@jupyter-widgets/controls",
      "model_module_version": "1.5.0",
      "model_name": "TextModel",
      "state": {
       "layout": "IPY_MODEL_ea21d8abed594981bef780b7e166fa80",
       "placeholder": "output filename",
       "style": "IPY_MODEL_997717c547314d49b90b77e9e96bf9d2"
      }
     },
     "f79e150381824798a2ec372b86085e45": {
      "model_module": "@jupyter-widgets/controls",
      "model_module_version": "1.5.0",
      "model_name": "HTMLModel",
      "state": {
       "layout": "IPY_MODEL_3eec311798a948aebdfa02a2ad803a84",
       "placeholder": "",
       "style": "IPY_MODEL_f77d2046e2d94682a7c6e7bf21832f57",
       "value": "<span style=\"margin-left:10px; color:orange;\">C:\\Users\\dominiquef\\Documents\\GIT\\mira\\mirageoscience-apps\\assets\\FlinFlon.geoh5</span>"
      }
     },
     "f7ad33974ab2493ebffc23eef95e24f8": {
      "model_module": "@jupyter-widgets/controls",
      "model_module_version": "1.5.0",
      "model_name": "DescriptionStyleModel",
      "state": {
       "description_width": ""
      }
     },
     "f7daf5a446544dba96b7c8d77c1c9fa7": {
      "model_module": "@jupyter-widgets/controls",
      "model_module_version": "1.5.0",
      "model_name": "ButtonStyleModel",
      "state": {}
     },
     "f7e93f8ff1504315997e33eff1ce2542": {
      "model_module": "@jupyter-widgets/base",
      "model_module_version": "1.2.0",
      "model_name": "LayoutModel",
      "state": {
       "width": "auto"
      }
     },
     "f7ef12456b014054b8c773210fd4e162": {
      "model_module": "@jupyter-widgets/controls",
      "model_module_version": "1.5.0",
      "model_name": "DescriptionStyleModel",
      "state": {
       "description_width": ""
      }
     },
     "f82242f158684a5c9d335dfc831d5395": {
      "model_module": "@jupyter-widgets/controls",
      "model_module_version": "1.5.0",
      "model_name": "DescriptionStyleModel",
      "state": {
       "description_width": ""
      }
     },
     "f832e6b8b63443608c7f2ce88c2dbb7e": {
      "model_module": "@jupyter-widgets/base",
      "model_module_version": "1.2.0",
      "model_name": "LayoutModel",
      "state": {}
     },
     "f84040bdaaf04e5dac93b3672fc028d8": {
      "model_module": "@jupyter-widgets/controls",
      "model_module_version": "1.5.0",
      "model_name": "VBoxModel",
      "state": {
       "children": [
        "IPY_MODEL_d2df28c0bf734178959b85d49ef55e07",
        "IPY_MODEL_57289d91c5b9422da22adb1243602196"
       ],
       "layout": "IPY_MODEL_1fd862f3d2ce4d2dbca7b8a15d4e7d28"
      }
     },
     "f878e06c01c447509e63fb945a8fc295": {
      "model_module": "@jupyter-widgets/base",
      "model_module_version": "1.2.0",
      "model_name": "LayoutModel",
      "state": {
       "display": "none",
       "width": "auto"
      }
     },
     "f88220b3e8524a49b11e73d31908f9b3": {
      "model_module": "@jupyter-widgets/base",
      "model_module_version": "1.2.0",
      "model_name": "LayoutModel",
      "state": {}
     },
     "f8d587d272da4a84abc3890eb64bcad7": {
      "model_module": "@jupyter-widgets/controls",
      "model_module_version": "1.5.0",
      "model_name": "HTMLModel",
      "state": {
       "layout": "IPY_MODEL_9efdcb1a42d041d9a3cb599840ad4e59",
       "style": "IPY_MODEL_9383b06688dc416bbcfe7799d263eb86"
      }
     },
     "f94483b1fc7d481fb813a16256825a24": {
      "model_module": "@jupyter-widgets/controls",
      "model_module_version": "1.5.0",
      "model_name": "LabelModel",
      "state": {
       "layout": "IPY_MODEL_e16d1143a65940ee878f74c755b0b0ed",
       "style": "IPY_MODEL_4f0870f946a44fb99d2bc1b37bec3438",
       "value": "Monitoring folder"
      }
     },
     "f959249c6d744cf583be0daf2a1c9ba2": {
      "model_module": "@jupyter-widgets/controls",
      "model_module_version": "1.5.0",
      "model_name": "LabelModel",
      "state": {
       "layout": "IPY_MODEL_4a70aaba30ca46e4b8ef7bc5156c6310",
       "style": "IPY_MODEL_8ad9dd1003fb42a7b457809e6cecdde3",
       "value": "1D Mesh"
      }
     },
     "f97b910a00f44d5298ca29d37dd1fd13": {
      "model_module": "@jupyter-widgets/controls",
      "model_module_version": "1.5.0",
      "model_name": "DescriptionStyleModel",
      "state": {
       "description_width": ""
      }
     },
     "f992456c43b94fa5a1a88bb47af86568": {
      "model_module": "@jupyter-widgets/controls",
      "model_module_version": "1.5.0",
      "model_name": "DescriptionStyleModel",
      "state": {
       "description_width": "initial"
      }
     },
     "f9994cc3eafa4e6fb0f403f7b322c214": {
      "model_module": "@jupyter-widgets/controls",
      "model_module_version": "1.5.0",
      "model_name": "HBoxModel",
      "state": {
       "children": [
        "IPY_MODEL_e221f580db044910bb8acea073b53e21",
        "IPY_MODEL_db65dbe575df4f6d8d1a19fca0b4f191",
        "IPY_MODEL_db82a711e3624df2ba8392b815f2d9e0"
       ],
       "layout": "IPY_MODEL_49a53307b3b14dae91e040e65247cb71"
      }
     },
     "f9ab6b34e8394213876a7e50ed5ffbbf": {
      "model_module": "@jupyter-widgets/controls",
      "model_module_version": "1.5.0",
      "model_name": "ButtonStyleModel",
      "state": {}
     },
     "fa2b14b36ae146b09cb0c41f15b6e12b": {
      "model_module": "@jupyter-widgets/base",
      "model_module_version": "1.2.0",
      "model_name": "LayoutModel",
      "state": {}
     },
     "fa4bf1d256ac4656852c7f5be3856755": {
      "model_module": "@jupyter-widgets/controls",
      "model_module_version": "1.5.0",
      "model_name": "DescriptionStyleModel",
      "state": {
       "description_width": "initial"
      }
     },
     "fa8409af3913429d8154985580da7d61": {
      "model_module": "@jupyter-widgets/controls",
      "model_module_version": "1.5.0",
      "model_name": "GridBoxModel",
      "state": {
       "children": [
        "IPY_MODEL_10ff0c8c7a8f4cbc824154e9b8b61f9a",
        "IPY_MODEL_49c098b6ebee49fab986e9bd85861b0a",
        "IPY_MODEL_84237b847aa641b4bd6f8a34a5356a6b"
       ],
       "layout": "IPY_MODEL_bf5a15e842f849b1ad43ae177ab389b6"
      }
     },
     "fa8bf298ff424b13b78475091c20b78c": {
      "model_module": "@jupyter-widgets/controls",
      "model_module_version": "1.5.0",
      "model_name": "ButtonModel",
      "state": {
       "button_style": "danger",
       "description": "Compute",
       "icon": "check",
       "layout": "IPY_MODEL_967349196a1d4d05bb8aed26356f0639",
       "style": "IPY_MODEL_25075beb8b704e2fa4a577b8523ab16c",
       "tooltip": "Run computation"
      }
     },
     "fa8bf7fb58054e87bd6b656d6ee73b13": {
      "model_module": "@jupyter-widgets/controls",
      "model_module_version": "1.5.0",
      "model_name": "DescriptionStyleModel",
      "state": {
       "description_width": "initial"
      }
     },
     "fac1fc57b800464aa54e263e9949a412": {
      "model_module": "@jupyter-widgets/controls",
      "model_module_version": "1.5.0",
      "model_name": "DescriptionStyleModel",
      "state": {
       "description_width": ""
      }
     },
     "fb9e408e671b467fabd4aa05f57e5260": {
      "model_module": "@jupyter-widgets/base",
      "model_module_version": "1.2.0",
      "model_name": "LayoutModel",
      "state": {}
     },
     "fbc2c9cfb5c84ddaa51cb317a31654cc": {
      "model_module": "@jupyter-widgets/controls",
      "model_module_version": "1.5.0",
      "model_name": "DropdownModel",
      "state": {
       "_options_labels": [
        "C:\\Users\\dominiquef\\Documents\\GIT\\mira\\mirageoscience-apps\\docs\\content\\applications",
        "C:\\Users\\dominiquef\\Documents\\GIT\\mira\\mirageoscience-apps\\docs\\content",
        "C:\\Users\\dominiquef\\Documents\\GIT\\mira\\mirageoscience-apps\\docs",
        "C:\\Users\\dominiquef\\Documents\\GIT\\mira\\mirageoscience-apps",
        "C:\\Users\\dominiquef\\Documents\\GIT\\mira",
        "C:\\Users\\dominiquef\\Documents\\GIT",
        "C:\\Users\\dominiquef\\Documents",
        "C:\\Users\\dominiquef",
        "C:\\Users",
        "C:\\",
        "D:\\",
        "Z:\\"
       ],
       "index": 0,
       "layout": "IPY_MODEL_d7ee6f85dbaa42e5b54b56fd14939ec7",
       "style": "IPY_MODEL_e0a53a3f96e043f5bc5661ed6db956ef"
      }
     },
     "fbf1b8c0e6094fd1a8cb8b4a00823906": {
      "model_module": "@jupyter-widgets/base",
      "model_module_version": "1.2.0",
      "model_name": "LayoutModel",
      "state": {}
     },
     "fc4d47c6f7c446c48a8b4bd3342c6441": {
      "model_module": "@jupyter-widgets/controls",
      "model_module_version": "1.5.0",
      "model_name": "FloatTextModel",
      "state": {
       "description": "Air cells fill value",
       "layout": "IPY_MODEL_1ead3708fa6d4d918f03efe96b450295",
       "step": null,
       "style": "IPY_MODEL_47da10db0345421a8d14294cfa1554c8"
      }
     },
     "fccfcd31c11242f5a056c7349b45b92f": {
      "model_module": "@jupyter-widgets/controls",
      "model_module_version": "1.5.0",
      "model_name": "DescriptionStyleModel",
      "state": {
       "description_width": ""
      }
     },
     "fce333b79a0d4090aa934632fd4383df": {
      "model_module": "@jupyter-widgets/controls",
      "model_module_version": "1.5.0",
      "model_name": "ButtonModel",
      "state": {
       "button_style": "danger",
       "description": "Compute",
       "icon": "check",
       "layout": "IPY_MODEL_d61ee0af449a40ab9773f08ea0ab1600",
       "style": "IPY_MODEL_8a27fa47b7354f6fb5a493571a3c7217",
       "tooltip": "Run computation"
      }
     },
     "fcfa1b95e40941dc9a46126595f816fb": {
      "model_module": "@jupyter-widgets/base",
      "model_module_version": "1.2.0",
      "model_name": "LayoutModel",
      "state": {
       "grid_area": "filename",
       "width": "auto"
      }
     },
     "fd30714afa534ad48a09c95b8c0b8cc6": {
      "model_module": "@jupyter-widgets/controls",
      "model_module_version": "1.5.0",
      "model_name": "FloatTextModel",
      "state": {
       "description": "Max triangulation length",
       "layout": "IPY_MODEL_7576b7e38d30410785846a97530e3f11",
       "step": null,
       "style": "IPY_MODEL_c2c268e5fa10494c8ce7e37dc1588b62",
       "value": 1000
      }
     },
     "fd3a124546374fa6b289ed5be4d7db2e": {
      "model_module": "@jupyter-widgets/base",
      "model_module_version": "1.2.0",
      "model_name": "LayoutModel",
      "state": {
       "width": "auto"
      }
     },
     "fd554978dbfe4f10a32e58d1fdabf3b4": {
      "model_module": "@jupyter-widgets/controls",
      "model_module_version": "1.5.0",
      "model_name": "DescriptionStyleModel",
      "state": {
       "description_width": "initial"
      }
     },
     "fdb62fce58b94998b1669b0510f99df3": {
      "model_module": "@jupyter-widgets/controls",
      "model_module_version": "1.5.0",
      "model_name": "DescriptionStyleModel",
      "state": {
       "description_width": ""
      }
     },
     "fdc652c341a546e585fa3492b68d9592": {
      "model_module": "@jupyter-widgets/base",
      "model_module_version": "1.2.0",
      "model_name": "LayoutModel",
      "state": {
       "visibility": "hidden"
      }
     },
     "fde6b203843f485a8762a518c7a60680": {
      "model_module": "@jupyter-widgets/controls",
      "model_module_version": "1.5.0",
      "model_name": "GridBoxModel",
      "state": {
       "children": [
        "IPY_MODEL_39f64a0befe043798549273d49a7f7a1",
        "IPY_MODEL_dd53d91cd441474599646219a9a920de",
        "IPY_MODEL_b9098957e8c14cec9b8bd1c9a140d2d7"
       ],
       "layout": "IPY_MODEL_0ef25a16e0bc49a5b2fb234b557f829b"
      }
     },
     "fde9997309aa4661b69017e8001b52e4": {
      "model_module": "@jupyter-widgets/controls",
      "model_module_version": "1.5.0",
      "model_name": "DescriptionStyleModel",
      "state": {
       "description_width": ""
      }
     },
     "fe4c864074bf46559d60fadd564a97d1": {
      "model_module": "@jupyter-widgets/controls",
      "model_module_version": "1.5.0",
      "model_name": "ButtonModel",
      "state": {
       "description": "Create copy:",
       "layout": "IPY_MODEL_87d177f7778b434e84d554b3ea951200",
       "style": "IPY_MODEL_d247f02fa2b24cc6af1fef1b7af84800"
      }
     },
     "ff1a345ccc9b432b8f0fba0033dd62f6": {
      "model_module": "@jupyter-widgets/controls",
      "model_module_version": "1.5.0",
      "model_name": "DescriptionStyleModel",
      "state": {
       "description_width": "initial"
      }
     },
     "ff2861d9c7084aceb49f5bb7475d5c55": {
      "model_module": "@jupyter-widgets/controls",
      "model_module_version": "1.5.0",
      "model_name": "HBoxModel",
      "state": {
       "children": [
        "IPY_MODEL_3596148f22184fbb901b9f466ab72f07",
        "IPY_MODEL_97cfbdd71b934a1c9af55c3d95571c3c"
       ],
       "layout": "IPY_MODEL_aae2a54720014daca10d5e7ffb963e69"
      }
     },
     "ff363c9c34e940c0b691134613634623": {
      "model_module": "@jupyter-widgets/controls",
      "model_module_version": "1.5.0",
      "model_name": "DescriptionStyleModel",
      "state": {
       "description_width": ""
      }
     },
     "ff5425879de845faaaed5302827ab6d7": {
      "model_module": "@jupyter-widgets/controls",
      "model_module_version": "1.5.0",
      "model_name": "DescriptionStyleModel",
      "state": {
       "description_width": ""
      }
     },
     "ff7d409ce4d945ffab97094c5520c14c": {
      "model_module": "@jupyter-widgets/controls",
      "model_module_version": "1.5.0",
      "model_name": "DescriptionStyleModel",
      "state": {
       "description_width": ""
      }
     }
    },
    "version_major": 2,
    "version_minor": 0
   }
  }
 },
 "nbformat": 4,
 "nbformat_minor": 4
}

version https://git-lfs.github.com/spec/v1
oid sha256:5b56e9dc171baaf67133b4ea8c9757bb4332b50a816a99619c13923e0287ffa6
size 477763

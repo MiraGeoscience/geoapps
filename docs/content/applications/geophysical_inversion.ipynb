{
 "cells": [
  {
   "cell_type": "markdown",
   "metadata": {},
   "source": [
    "# Geophysical Inversion\n",
    "\n",
    "This application provides an interface to geophysical inversion using the [SimPEG](https://simpeg.xyz/) open-source algorithms. The application currently supports\n",
    "\n",
    " - Electromagnetic (time or frequency) data using a Laterally Constrained 1D approach\n",
    " - Gravity and magnetics (field and/or tensor) data using an octree mesh tiling approach.\n",
    "         \n",
    "\n",
    "  <img align=\"right\" width=\"50%\" src=\"./images/Geophysical_inversion_app.png\">\n",
    "  \n",
    "\n",
    "New user? Visit the [Getting Started](../installation.rst) page.\n",
    "\n",
    "---\n",
    "**NOTE**\n",
    " \n",
    "\n",
    "For 3D gravity and magnetic vector inversion, it is recommended to set your  from a solid-state drive (SSD), as sensitivities are stored in chunks and accessed in parallel using the [Dask](https://dask.org/) library.\n",
    "\n",
    "---"
   ]
  },
  {
   "cell_type": "markdown",
   "metadata": {},
   "source": [
    "## Application\n",
    "The following sections provide details on the different parameters controling the application. Interactive widgets shown below are for demonstration purposes only."
   ]
  },
  {
   "cell_type": "code",
   "execution_count": 1,
   "metadata": {
    "scrolled": false
   },
   "outputs": [
    {
     "data": {
      "application/vnd.jupyter.widget-view+json": {
       "model_id": "10c10c197683486bbb32e17fe72ebdd4",
       "version_major": 2,
       "version_minor": 0
      },
      "text/plain": [
       "VBox(children=(VBox(children=(Label(value='Workspace', style=DescriptionStyle(description_width='initial')), H…"
      ]
     },
     "metadata": {},
     "output_type": "display_data"
    }
   ],
   "source": [
    "from geoapps.inversion import InversionApp\n",
    "\n",
    "app = InversionApp(h5file=r\"../../../assets/FlinFlon.geoh5\")\n",
    "app.main"
   ]
  },
  {
   "cell_type": "markdown",
   "metadata": {},
   "source": [
    "## Project Selection\n",
    "\n",
    "Select and connect to an existing **geoh5** project file containing data. "
   ]
  },
  {
   "cell_type": "code",
   "execution_count": 2,
   "metadata": {},
   "outputs": [
    {
     "data": {
      "application/vnd.jupyter.widget-view+json": {
       "model_id": "f2dd8c8345794bffb15219be859142e8",
       "version_major": 2,
       "version_minor": 0
      },
      "text/plain": [
       "VBox(children=(Label(value='Workspace', style=DescriptionStyle(description_width='initial')), HBox(children=(F…"
      ]
     },
     "metadata": {},
     "output_type": "display_data"
    }
   ],
   "source": [
    "app.project_panel"
   ]
  },
  {
   "cell_type": "markdown",
   "metadata": {},
   "source": [
    "See the [Project Panel](base_application.ipynb#Project-Panel) page for more details."
   ]
  },
  {
   "cell_type": "markdown",
   "metadata": {},
   "source": [
    "## Object/Data Selection\n",
    "\n",
    "List of objects available containing geophysical data to be inverted. Currently supports objects of type `Points`, `Curve`, `Surface` and `Grid2D`. Multiple data channels and/or data groups can be selected. "
   ]
  },
  {
   "cell_type": "code",
   "execution_count": 3,
   "metadata": {
    "scrolled": true
   },
   "outputs": [
    {
     "data": {
      "application/vnd.jupyter.widget-view+json": {
       "model_id": "15f861d3b2034b0595ad590076bd7a9a",
       "version_major": 2,
       "version_minor": 0
      },
      "text/plain": [
       "VBox(children=(Dropdown(description='Object:', index=66, options=('', 'fault_splay1', 'fault_Cliff_Lake', 'fau…"
      ]
     },
     "metadata": {},
     "output_type": "display_data"
    }
   ],
   "source": [
    "app.data_panel"
   ]
  },
  {
   "cell_type": "markdown",
   "metadata": {},
   "source": [
    "## Window Selection\n",
    "\n",
    "Manual selection of an area of interest and data resolution. Positive (solid) and negative (dash) contour lines are traced immediately after changes made to the contour values."
   ]
  },
  {
   "cell_type": "code",
   "execution_count": 4,
   "metadata": {},
   "outputs": [
    {
     "data": {
      "application/vnd.jupyter.widget-view+json": {
       "model_id": "ee9714bc34624c3e9a7e7b9c50fbe96b",
       "version_major": 2,
       "version_minor": 0
      },
      "text/plain": [
       "VBox(children=(VBox(children=(FloatText(value=50.0, description='Grid Resolution (m)', style=DescriptionStyle(…"
      ]
     },
     "metadata": {},
     "output_type": "display_data"
    }
   ],
   "source": [
    "app.window_selection"
   ]
  },
  {
   "cell_type": "markdown",
   "metadata": {},
   "source": [
    "See the [Map View Selection](view_selection.ipynb#Map-View-Selection) page for more details."
   ]
  },
  {
   "cell_type": "markdown",
   "metadata": {},
   "source": [
    "## Data Channel Options\n",
    "\n",
    "Define geophysical data."
   ]
  },
  {
   "cell_type": "markdown",
   "metadata": {},
   "source": [
    "### Survey Type\n",
    "\n",
    "List of available survey types."
   ]
  },
  {
   "cell_type": "code",
   "execution_count": 5,
   "metadata": {},
   "outputs": [
    {
     "data": {
      "application/vnd.jupyter.widget-view+json": {
       "model_id": "03fe1f3c7ea746958964ff476ac6e744",
       "version_major": 2,
       "version_minor": 0
      },
      "text/plain": [
       "Dropdown(description='Survey Type: ', options=('Magnetics', 'Gravity', 'AeroTEM (2007)', 'AeroTEM (2010)', 'DI…"
      ]
     },
     "metadata": {},
     "output_type": "display_data"
    }
   ],
   "source": [
    "app.system"
   ]
  },
  {
   "cell_type": "markdown",
   "metadata": {},
   "source": [
    "The application will attempt to assign the correct system based on\n",
    "known data field name (e.g. *CPI* => *DIGHEM*).\n",
    "\n",
    "#### Inducing field parameters\n",
    "\n",
    "For magnetic data only, set the inducing field parameters:"
   ]
  },
  {
   "cell_type": "code",
   "execution_count": 6,
   "metadata": {},
   "outputs": [
    {
     "data": {
      "application/vnd.jupyter.widget-view+json": {
       "model_id": "5b6159c2b9db4b37b5e371479e1c3f4d",
       "version_major": 2,
       "version_minor": 0
      },
      "text/plain": [
       "Text(value='60000, 79, 11', description='Inducing Field [Amp, Inc, Dec]', style=DescriptionStyle(description_w…"
      ]
     },
     "metadata": {},
     "output_type": "display_data"
    }
   ],
   "source": [
    "app.inducing_field\n"
   ]
  },
  {
   "cell_type": "markdown",
   "metadata": {},
   "source": [
    "### Channel Options\n",
    "\n",
    "Set parameters to invividual [Data](#Object/Data-Selection) channels."
   ]
  },
  {
   "cell_type": "code",
   "execution_count": 7,
   "metadata": {},
   "outputs": [
    {
     "data": {
      "application/vnd.jupyter.widget-view+json": {
       "model_id": "424fc628a45a4bb38a4247865883d8f3",
       "version_major": 2,
       "version_minor": 0
      },
      "text/plain": [
       "VBox(children=(Checkbox(value=True, description='Active', style=DescriptionStyle(description_width='initial'))…"
      ]
     },
     "metadata": {},
     "output_type": "display_data"
    }
   ],
   "source": [
    "app.data_channel_choices.data_channel_options['tmi']"
   ]
  },
  {
   "cell_type": "markdown",
   "metadata": {},
   "source": [
    "#### Active\n",
    "\n",
    "Checked if the channel is to be used in the inversion\n",
    "\n",
    "#### Data channel:\n",
    "\n",
    "Association between the \"data channel\" and one of the expected \"system channel\".\n",
    "\n",
    "#### Error (%, floor)\n",
    "\n",
    "Estimated data uncertainties associated with the data channel, expressed as a\n",
    "percent (decimal) and floor value. \n",
    "\n",
    "As example for magnetic data: 0.1, 1 => $0.1 * |d_{tmi}| + 1\\;nT$\n",
    "\n",
    "#### Offsets (EM systems)\n",
    "\n",
    "Determine the constant offsets, in meters, between the receiver and the transmitter center location. \n",
    "\n",
    "Used for the numerical forward calculations. "
   ]
  },
  {
   "cell_type": "markdown",
   "metadata": {},
   "source": [
    "## Topography, Sensor and Line Options"
   ]
  },
  {
   "cell_type": "code",
   "execution_count": 8,
   "metadata": {},
   "outputs": [
    {
     "data": {
      "application/vnd.jupyter.widget-view+json": {
       "model_id": "e6e6a756374b469a945ea182b5302124",
       "version_major": 2,
       "version_minor": 0
      },
      "text/plain": [
       "Dropdown(options=('Topography', 'Sensor'), value='Topography')"
      ]
     },
     "metadata": {},
     "output_type": "display_data"
    }
   ],
   "source": [
    "app.spatial_choices"
   ]
  },
  {
   "cell_type": "markdown",
   "metadata": {},
   "source": [
    "### Topography\n",
    "\n",
    "Set the air/ground interface of the inversion model."
   ]
  },
  {
   "cell_type": "code",
   "execution_count": 9,
   "metadata": {},
   "outputs": [
    {
     "data": {
      "application/vnd.jupyter.widget-view+json": {
       "model_id": "6b66ed5627dc430bbb2744f9ef86be04",
       "version_major": 2,
       "version_minor": 0
      },
      "text/plain": [
       "VBox(children=(RadioButtons(description='Define by:', options=('Object', 'Relative to Sensor', 'Constant'), va…"
      ]
     },
     "metadata": {},
     "output_type": "display_data"
    }
   ],
   "source": [
    "app.topography.main"
   ]
  },
  {
   "cell_type": "markdown",
   "metadata": {},
   "source": [
    "#### Object\n",
    "\n",
    "Set the topography based on an object stored in the target `geoh5` project. The Z value of the cells/vertices can be assigned based on a chosen `Data` field.\n",
    "\n",
    "#### Relative to Sensor\n",
    "\n",
    "Topography is defined by a fixed vertical offset from a selected object position (vertices or centroids), also referred to as a \"draped height\".\n",
    "\n",
    "#### Constant\n",
    "\n",
    "Topography is defined as a flat surface with constant elevation."
   ]
  },
  {
   "cell_type": "markdown",
   "metadata": {},
   "source": [
    "### Sensor\n",
    "\n",
    "Defines the sensors position in 3D space."
   ]
  },
  {
   "cell_type": "code",
   "execution_count": 10,
   "metadata": {},
   "outputs": [
    {
     "data": {
      "application/vnd.jupyter.widget-view+json": {
       "model_id": "bc417b838640415db838fc8247b789da",
       "version_major": 2,
       "version_minor": 0
      },
      "text/plain": [
       "VBox(children=(RadioButtons(description='Define by:', index=1, options=('sensor location + (dx, dy, dz)', 'top…"
      ]
     },
     "metadata": {},
     "output_type": "display_data"
    }
   ],
   "source": [
    "app.sensor.main"
   ]
  },
  {
   "cell_type": "markdown",
   "metadata": {},
   "source": [
    "#### Sensor Location\n",
    "\n",
    "Sensor position defined by a constant offset from the vertices of the selected\n",
    "object. Typically used for towed system where the GPS receiver is on the\n",
    "aircraft.\n",
    "\n",
    "#### Topo and radar\n",
    "\n",
    "Receiver locations defined by the vertices horizontal positions [x, y] and z value\n",
    "interpolated from topography + clearance height. Typically used for gridded\n",
    "data with constant draped height or for airborne survey with inaccurate GPS\n",
    "elevation (radar height)."
   ]
  },
  {
   "cell_type": "markdown",
   "metadata": {},
   "source": [
    "### Line ID\n",
    "\n",
    "**(EM only)**: Line channel and line number to be inverted."
   ]
  },
  {
   "cell_type": "code",
   "execution_count": 11,
   "metadata": {},
   "outputs": [
    {
     "data": {
      "application/vnd.jupyter.widget-view+json": {
       "model_id": "7a6096c690f6456b8ae2ed84d758321e",
       "version_major": 2,
       "version_minor": 0
      },
      "text/plain": [
       "VBox(children=(Dropdown(description='Lines field', options=('', '--- Channels ---', 'Airborne_Gxx', 'Airborne_…"
      ]
     },
     "metadata": {},
     "output_type": "display_data"
    }
   ],
   "source": [
    "app.lines.main"
   ]
  },
  {
   "cell_type": "markdown",
   "metadata": {},
   "source": [
    "## Inversion Options\n",
    "\n",
    "List of parameters controlling the inversion."
   ]
  },
  {
   "cell_type": "code",
   "execution_count": 12,
   "metadata": {},
   "outputs": [
    {
     "data": {
      "application/vnd.jupyter.widget-view+json": {
       "model_id": "15c083de1d6a4371b439ab79e09a6c57",
       "version_major": 2,
       "version_minor": 0
      },
      "text/plain": [
       "VBox(children=(HBox(children=(Label(value='Inversion Options'),)), HBox(children=(Dropdown(options=('output na…"
      ]
     },
     "metadata": {},
     "output_type": "display_data"
    }
   ],
   "source": [
    "app.inversion_parameters.main"
   ]
  },
  {
   "cell_type": "markdown",
   "metadata": {},
   "source": [
    "### Output Name\n",
    "\n",
    "Name given to the inversion group added to the ANALYST project."
   ]
  },
  {
   "cell_type": "markdown",
   "metadata": {},
   "source": [
    "### Target Misfit\n",
    "\n",
    "Target data misfit where 1 = number of data"
   ]
  },
  {
   "cell_type": "code",
   "execution_count": 13,
   "metadata": {},
   "outputs": [
    {
     "data": {
      "application/vnd.jupyter.widget-view+json": {
       "model_id": "d97e31038ec84daaa0fed563c90d47d1",
       "version_major": 2,
       "version_minor": 0
      },
      "text/plain": [
       "FloatText(value=1.0, description='Target misfit')"
      ]
     },
     "metadata": {},
     "output_type": "display_data"
    }
   ],
   "source": [
    "app.inversion_parameters.chi_factor"
   ]
  },
  {
   "cell_type": "markdown",
   "metadata": {},
   "source": [
    "### Uncertainty mode\n",
    "\n",
    "(EM Only) Global change to the data uncertainties "
   ]
  },
  {
   "cell_type": "code",
   "execution_count": 14,
   "metadata": {},
   "outputs": [
    {
     "data": {
      "application/vnd.jupyter.widget-view+json": {
       "model_id": "497333e6afa24a4c99fba7cf820c1fab",
       "version_major": 2,
       "version_minor": 0
      },
      "text/plain": [
       "RadioButtons(index=1, options=('Estimated (%|data| + background)', 'User input (%|data| + floor)'), value='Use…"
      ]
     },
     "metadata": {},
     "output_type": "display_data"
    }
   ],
   "source": [
    "app.inversion_parameters.uncert_mode"
   ]
  },
  {
   "cell_type": "markdown",
   "metadata": {},
   "source": [
    "**Estimated** Floor uncertainties re-assgined based on the best-fitting halfspace model. Useful when dealing with fast time domain decays due to IP effects.\n",
    "\n",
    "**User Input** (Default) Keep the same uncertainties as defined in the [Channel Options](#Channel-Options) "
   ]
  },
  {
   "cell_type": "markdown",
   "metadata": {},
   "source": [
    "### Starting Model\n",
    "\n",
    "Initial model used to begin the inversion.\n"
   ]
  },
  {
   "cell_type": "code",
   "execution_count": 15,
   "metadata": {},
   "outputs": [
    {
     "data": {
      "application/vnd.jupyter.widget-view+json": {
       "model_id": "0bafa8e3f1cf422e87c74388cc3107b7",
       "version_major": 2,
       "version_minor": 0
      },
      "text/plain": [
       "VBox(children=(Label(value='Starting effective susceptibility'), VBox(children=(RadioButtons(index=1, options=…"
      ]
     },
     "metadata": {},
     "output_type": "display_data"
    }
   ],
   "source": [
    "app.inversion_parameters.starting_model.main"
   ]
  },
  {
   "cell_type": "markdown",
   "metadata": {},
   "source": [
    "#### Model\n",
    "\n",
    "Model object and values selected from any `Points`, `Curve`, `Surface`, `BlockModel` or `Octree` object.\n",
    "Values are interpolated onto the inversion mesh using a nearest neighbor approach.\n",
    "\n",
    "#### Constant\n",
    "\n",
    "Constant background half-space value."
   ]
  },
  {
   "cell_type": "markdown",
   "metadata": {},
   "source": [
    "### Susceptibility model \n",
    "\n",
    "**(FEM Only)**\n",
    "\n",
    "Susceptibility values used in the forward calculations only."
   ]
  },
  {
   "cell_type": "code",
   "execution_count": 16,
   "metadata": {},
   "outputs": [
    {
     "data": {
      "application/vnd.jupyter.widget-view+json": {
       "model_id": "0f7027aa0d49472caadea241b205c9e6",
       "version_major": 2,
       "version_minor": 0
      },
      "text/plain": [
       "VBox(children=(Label(value='Background susceptibility', style=DescriptionStyle(description_width='initial')), …"
      ]
     },
     "metadata": {},
     "output_type": "display_data"
    }
   ],
   "source": [
    "app.inversion_parameters.susceptibility_model.main"
   ]
  },
  {
   "cell_type": "markdown",
   "metadata": {},
   "source": [
    "#### None\n",
    "\n",
    "No susceptibility model used.\n",
    "\n",
    "#### Model\n",
    "\n",
    "Susceptibitlity model selected from any `Points`, `Curve`, `Surface`, `BlockModel` or `Octree` object.\n",
    "Values are interpolated onto the inversion mesh using a nearest neighbor approach.\n",
    "\n",
    "#### Constant\n",
    "\n",
    "Constant susceptibility half-space value."
   ]
  },
  {
   "cell_type": "markdown",
   "metadata": {},
   "source": [
    "### Regularization\n",
    "\n",
    "See the [Regularization Panel](#Regularization-Panel) section."
   ]
  },
  {
   "cell_type": "markdown",
   "metadata": {},
   "source": [
    "### Upper-Lower Bounds\n",
    "\n",
    "Upper and lower bound constraints applied on physical property model."
   ]
  },
  {
   "cell_type": "code",
   "execution_count": 17,
   "metadata": {},
   "outputs": [
    {
     "data": {
      "application/vnd.jupyter.widget-view+json": {
       "model_id": "5ff338d50185469ea7251b9508395dd2",
       "version_major": 2,
       "version_minor": 0
      },
      "text/plain": [
       "VBox(children=(Text(value='', description='Upper bound value'), Text(value='', description='Lower bound value'…"
      ]
     },
     "metadata": {},
     "output_type": "display_data"
    }
   ],
   "source": [
    "app.inversion_parameters.bound_panel"
   ]
  },
  {
   "cell_type": "markdown",
   "metadata": {},
   "source": [
    "If left empty, the inversion uses [$-\\infty$, $\\infty$] physical property bounds."
   ]
  },
  {
   "cell_type": "markdown",
   "metadata": {},
   "source": [
    "### Mesh\n",
    "\n",
    "See the [Mesh Design](#Mesh-Design) section."
   ]
  },
  {
   "cell_type": "markdown",
   "metadata": {},
   "source": [
    "### Ignore Values\n",
    "\n",
    "#### Data\n",
    "\n",
    "Flag value ignored by the inversion by assigning $\\infty$ uncertainties on the data points."
   ]
  },
  {
   "cell_type": "code",
   "execution_count": 18,
   "metadata": {},
   "outputs": [
    {
     "data": {
      "application/vnd.jupyter.widget-view+json": {
       "model_id": "c2696158939c43fcbb7eeee6816917eb",
       "version_major": 2,
       "version_minor": 0
      },
      "text/plain": [
       "Text(value='-99999', description='Data (i.e. <0 = no negatives)')"
      ]
     },
     "metadata": {},
     "output_type": "display_data"
    }
   ],
   "source": [
    "app.inversion_parameters.ignore_values"
   ]
  },
  {
   "cell_type": "markdown",
   "metadata": {},
   "source": [
    "#### Air cells\n",
    "\n",
    "Value assigned to the output model cells above topography. Defaults to $10^{-8}$ S/m for EM inversions"
   ]
  },
  {
   "cell_type": "code",
   "execution_count": 19,
   "metadata": {},
   "outputs": [
    {
     "data": {
      "application/vnd.jupyter.widget-view+json": {
       "model_id": "4b4ac977f2084699bcc3e2da26d015e2",
       "version_major": 2,
       "version_minor": 0
      },
      "text/plain": [
       "FloatText(value=0.0, description='Air cells fill value')"
      ]
     },
     "metadata": {},
     "output_type": "display_data"
    }
   ],
   "source": [
    "app.inversion_parameters.air_values"
   ]
  },
  {
   "cell_type": "markdown",
   "metadata": {},
   "source": [
    "### Optimization\n",
    "\n",
    "Parameters controlling various aspects of the projected Gauss-Newton inversion algorithm."
   ]
  },
  {
   "cell_type": "code",
   "execution_count": 20,
   "metadata": {},
   "outputs": [
    {
     "data": {
      "application/vnd.jupyter.widget-view+json": {
       "model_id": "964c3acf863f45e994b9743828c27d8a",
       "version_major": 2,
       "version_minor": 0
      },
      "text/plain": [
       "VBox(children=(IntText(value=25, description='Max beta Iterations', style=DescriptionStyle(description_width='…"
      ]
     },
     "metadata": {},
     "output_type": "display_data"
    }
   ],
   "source": [
    "app.inversion_parameters.optimization"
   ]
  },
  {
   "cell_type": "markdown",
   "metadata": {},
   "source": [
    "#### Max beta Iterations\n",
    "\n",
    "Maximum number of $\\beta$-iterations allowed.\n",
    "Note that when applying sparse norms, the inversion may require $>20$ iterations to converge.\n",
    "\n",
    "\n",
    "#### Target misfit\n",
    "\n",
    "Target data misfit where $\\chi=1$ corresponds to $\\phi_d=N$ (number of data). (See [Data Misfit and Uncertainties](https://giftoolscookbook.readthedocs.io/en/latest/content/fundamentals/Uncertainties.html#data-misfit-and-uncertainties))\n",
    "\n",
    "\n",
    "#### Starting trade-off ($\\beta$)\n",
    "\n",
    "**ratio**: Factor multiplying the initial $\\beta$ defined by the ratio between the initial misfit and regularization:\n",
    "\n",
    "\\begin{equation}\n",
    "\\beta_0 = \\gamma * \\frac{\\phi_d}{ \\phi_m}\n",
    "\\end{equation}\n",
    "\n",
    "**value**: Fixed $\\beta$ value specified by the user.\n",
    "\n",
    "#### Max CG Iterations\n",
    "\n",
    "Maximum number of Conjugate Gradient (CG) iterations per Gauss-Newton solve.\n",
    "\n",
    "\n",
    "#### CG Tolerance\n",
    "\n",
    "Threshold on the minimum Conjugate Gradient (CG) step to end the Gauss-Newton solve.\n",
    "\n",
    "\n",
    "#### Max CPUs\n",
    "\n",
    "Maximum number of threads used for the parallelization. Defaults to half the system thread count.\n",
    "\n",
    "\n",
    "#### Max RAM (Gb)\n",
    "\n",
    "Approximate memory (RAM) used during the inversion. The value is used to calculate the chunk size for the storage of the sensitivity matrix on solid-state drive.\n",
    "(See [dask.array.to_zarr](https://docs.dask.org/en/latest/array-api.html#dask.array.to_zarr))\n"
   ]
  },
  {
   "cell_type": "markdown",
   "metadata": {},
   "source": [
    "## Regularization Panel\n",
    "\n",
    "Parameters controlling the regularization function."
   ]
  },
  {
   "cell_type": "markdown",
   "metadata": {},
   "source": [
    "### Reference model\n",
    "\n",
    "Reference model values used to contrain the inversion."
   ]
  },
  {
   "cell_type": "code",
   "execution_count": 21,
   "metadata": {},
   "outputs": [
    {
     "data": {
      "application/vnd.jupyter.widget-view+json": {
       "model_id": "c02dd18836d8434f8e9176aabae852c5",
       "version_major": 2,
       "version_minor": 0
      },
      "text/plain": [
       "VBox(children=(Label(value='Reference effective susceptibility'), VBox(children=(RadioButtons(index=2, options…"
      ]
     },
     "metadata": {},
     "output_type": "display_data"
    }
   ],
   "source": [
    "app.inversion_parameters.reference_model.main"
   ]
  },
  {
   "cell_type": "markdown",
   "metadata": {},
   "source": [
    "#### None\n",
    "\n",
    "No reference model used. This is equivalent as setting the [Alphas](#Alpha-Parameters) `s` parameter to zero.\n",
    "\n",
    "#### Model\n",
    "\n",
    "Reference model selected from any `Points`, `Curve`, `Surface`, `BlockModel` or `Octree` object.\n",
    "Values are interpolated onto the inversion mesh using a nearest neighbor approach.\n",
    "\n",
    "#### Constant\n",
    "\n",
    "Constant reference half-space value.\n",
    "\n",
    "#### Best-fitting halfspace\n",
    "\n",
    "**(EM only)** Run a preliminary inversion to determine a best-fitting halfspace\n",
    "(single conductivity value) at each data station."
   ]
  },
  {
   "cell_type": "markdown",
   "metadata": {},
   "source": [
    "### Alpha Parameters\n",
    "\n",
    "Scaling between the components of the regularization function."
   ]
  },
  {
   "cell_type": "code",
   "execution_count": 22,
   "metadata": {},
   "outputs": [
    {
     "data": {
      "application/vnd.jupyter.widget-view+json": {
       "model_id": "756c6ba1d97244dcb08478ae73791521",
       "version_major": 2,
       "version_minor": 0
      },
      "text/plain": [
       "Text(value='1.0, 1.0, 1.0, 1.0', description='Scaling alpha_(s, x, y, z)')"
      ]
     },
     "metadata": {},
     "output_type": "display_data"
    }
   ],
   "source": [
    "app.inversion_parameters.alphas\n"
   ]
  },
  {
   "cell_type": "markdown",
   "metadata": {},
   "source": [
    "See the [SimPEG.API](https://docs.simpeg.xyz/content/api_core/api_Regularization.html#SimPEG.regularization.Simple) for technical details."
   ]
  },
  {
   "cell_type": "markdown",
   "metadata": {},
   "source": [
    "### $l_p$-norms\n",
    "\n",
    "Approximated norms applied to the components of the regularization."
   ]
  },
  {
   "cell_type": "code",
   "execution_count": 23,
   "metadata": {},
   "outputs": [
    {
     "data": {
      "application/vnd.jupyter.widget-view+json": {
       "model_id": "c0b246ec3b774c7fa8fb6f6ce2e17c27",
       "version_major": 2,
       "version_minor": 0
      },
      "text/plain": [
       "Text(value='0, 2, 2, 2', continuous_update=False, description='Norms p_(s, x, y, z)', style=DescriptionStyle(d…"
      ]
     },
     "metadata": {},
     "output_type": "display_data"
    }
   ],
   "source": [
    "app.inversion_parameters.norms\n"
   ]
  },
  {
   "cell_type": "markdown",
   "metadata": {},
   "source": [
    "See notes on [Sparse and Blocky Norms](https://giftoolscookbook.readthedocs.io/en/latest/content/fundamentals/Norms.html#sparse-and-blocky-norms) for technical details."
   ]
  },
  {
   "cell_type": "markdown",
   "metadata": {},
   "source": [
    "## Mesh Design\n",
    "\n",
    "Definition of the grid containing the physical property model.\n",
    "\n",
    "### Octree Mesh\n",
    "\n",
    "**(Gravity and magnetics)**\n",
    "\n",
    "Parameters used for the construction of a global `Octree` mesh."
   ]
  },
  {
   "cell_type": "code",
   "execution_count": 24,
   "metadata": {},
   "outputs": [
    {
     "data": {
      "application/vnd.jupyter.widget-view+json": {
       "model_id": "1264e508a3ba40378549f78f12921b50",
       "version_major": 2,
       "version_minor": 0
      },
      "text/plain": [
       "VBox(children=(Label(value='Octree Mesh'), Text(value='25, 25, 25', description='Smallest cells', style=Descri…"
      ]
     },
     "metadata": {},
     "output_type": "display_data"
    }
   ],
   "source": [
    "app.inversion_parameters.mesh.main"
   ]
  },
  {
   "cell_type": "markdown",
   "metadata": {},
   "source": [
    "#### Smallest cells\n",
    "\n",
    "Dimensions (x,y,z) of the smallest octree cells.\n",
    "\n",
    "\n",
    "####  Layers below topography\n",
    "\n",
    "\n",
    "Number of layers of cells at each octree level below the topography surface.\n",
    "As topography generally extends further, it is common practice to use only\n",
    "coarse cells once outside of the survey area.\n",
    "\n",
    "\n",
    "####  Layers below data\n",
    "\n",
    "Number of layers of cells at each octree level below the observation points.\n",
    "\n",
    "\n",
    "####  Minimum depth\n",
    "\n",
    "\n",
    "Minimum depth (m) of the mesh, rounded up to the next power of 2.\n",
    "\n",
    "\n",
    "####  Padding [W,E,N,S,D,U]\n",
    "\n",
    "Additional padding distance (m) along West, East, North, South, Down and Up,\n",
    "chosen by default to be half of the data extent in each direction. Additional\n",
    "padding can be added at depth, but it is recommended to set it through the\n",
    "[Minimum depth](#Minimum-depth) parameter.\n",
    "\n",
    "\n",
    "#### Max triangulation length\n",
    "\n",
    "\n",
    "Parameter controlling the Delaunay triangulation used for the refinement of\n",
    "the mesh around topography and observation points. Large triangles generated\n",
    "between points far apart are filtered out, reducing the number of small cells\n",
    "in regions without data."
   ]
  },
  {
   "cell_type": "markdown",
   "metadata": {},
   "source": [
    " <img align=\"center\" width=\"50%\" src=\"./images/Octree_refinement.png\">"
   ]
  },
  {
   "cell_type": "markdown",
   "metadata": {},
   "source": [
    "### 1D Mesh\n",
    "\n",
    "**(EM 1D only)**\n",
    "\n",
    "For the laterally constrained 1D inversion (time or frequency), the earth is\n",
    "discretized into layer models connected by the regularization function. The\n",
    "following parameters define the 1D mesh repeated below each transmitter/receiver pairs"
   ]
  },
  {
   "cell_type": "code",
   "execution_count": 25,
   "metadata": {},
   "outputs": [
    {
     "data": {
      "application/vnd.jupyter.widget-view+json": {
       "model_id": "2a91402a07a54b0789068ca7c6674429",
       "version_major": 2,
       "version_minor": 0
      },
      "text/plain": [
       "VBox(children=(Label(value='1D Mesh'), FloatText(value=10.0, description='Smallest cell (m):', style=Descripti…"
      ]
     },
     "metadata": {},
     "output_type": "display_data"
    }
   ],
   "source": [
    "app.mesh_1D.main"
   ]
  },
  {
   "cell_type": "markdown",
   "metadata": {},
   "source": [
    "#### Smallest cell (m)\n",
    "\n",
    "Smallest layer at the top of the 1D mesh.\n",
    "\n",
    "\n",
    "#### Expansion factor\n",
    "\n",
    "Rate of cell expansion from the smallest cell size.\n",
    "\n",
    "\n",
    "#### Number of cells\n",
    "\n",
    "Total number of layers below each station.\n",
    "\n",
    "\n",
    "#### Max depth\n",
    "\n",
    "Returns the full depth of the 1D mesh given the parameters selected above."
   ]
  },
  {
   "cell_type": "markdown",
   "metadata": {},
   "source": [
    "## Output panel\n",
    "\n",
    "Specify the working directory where the inversion occurs. For gravity and magnetic data inversion, it is **highly recommended** to chose a location on a **solid-state drive (SSD)** to fully take advantage of the `Dask` parallelization."
   ]
  },
  {
   "cell_type": "code",
   "execution_count": 26,
   "metadata": {},
   "outputs": [
    {
     "data": {
      "application/vnd.jupyter.widget-view+json": {
       "model_id": "415e3e69c84b4581be482f1ccc950d9e",
       "version_major": 2,
       "version_minor": 0
      },
      "text/plain": [
       "VBox(children=(FileChooser(path='C:\\Users\\dominiquef\\Documents\\GIT\\mira\\mirageoscience-apps\\docs\\content\\appli…"
      ]
     },
     "metadata": {},
     "output_type": "display_data"
    }
   ],
   "source": [
    "app.output_panel"
   ]
  },
  {
   "cell_type": "markdown",
   "metadata": {},
   "source": [
    "**Write inpute**: Click to write the input parameters to a `*.json` file\n",
    "\n",
    "**Run SimPEG**: Launch the inversion routine. Results will be written directly to the target `geoh5` project.\n",
    "\n",
    "### Command line execution\n",
    "\n",
    "Alternatively, the inversion can be launched on a different computer from command line:\n",
    "\n",
    "`activate geoapps`\n",
    "\n",
    "`python -m geoapps.pf_inversion [Name].json`\n",
    "\n",
    "This assumes that the geoapps have been installed and that the reference `*.json` and `*.geoh5` project are accessible."
   ]
  },
  {
   "cell_type": "code",
   "execution_count": 27,
   "metadata": {
    "nbsphinx": "hidden"
   },
   "outputs": [],
   "source": [
    "import matplotlib.pyplot as plt\n",
    "app.figure.savefig(\"images/inversion_thumbnail.png\", dpi=300, bbox_inches=\"tight\")"
   ]
  }
 ],
 "metadata": {
  "kernelspec": {
   "display_name": "Python 3",
   "language": "python",
   "name": "python3"
  },
  "language_info": {
   "codemirror_mode": {
    "name": "ipython",
    "version": 3
   },
   "file_extension": ".py",
   "mimetype": "text/x-python",
   "name": "python",
   "nbconvert_exporter": "python",
   "pygments_lexer": "ipython3",
   "version": "3.7.8"
  },
  "widgets": {
   "application/vnd.jupyter.widget-state+json": {
    "state": {
     "000ca1ddc4f840e8abe725b01cb34d22": {
      "model_module": "@jupyter-widgets/base",
      "model_module_version": "1.2.0",
      "model_name": "LayoutModel",
      "state": {
       "grid_area": "filename",
       "width": "auto"
      }
     },
     "00655fab4c9940d2b1151a514a70a61e": {
      "model_module": "@jupyter-widgets/controls",
      "model_module_version": "1.5.0",
      "model_name": "VBoxModel",
      "state": {
       "children": [
        "IPY_MODEL_3f4dfbd7340741a2b3b682245a90ce52",
        "IPY_MODEL_32cb1eb9a9024e38b2c6cde25a4dfc19",
        "IPY_MODEL_18eb217ad55e45b7872e7ba23530eb66"
       ],
       "layout": "IPY_MODEL_0bc32b03e11a4d44b5667ee54c1d7088"
      }
     },
     "0079005d2e9c4e3e910cd44c24f79cf9": {
      "model_module": "@jupyter-widgets/base",
      "model_module_version": "1.2.0",
      "model_name": "LayoutModel",
      "state": {}
     },
     "0173425bf0ad4dc0b36bb24331631e8a": {
      "model_module": "@jupyter-widgets/controls",
      "model_module_version": "1.5.0",
      "model_name": "ButtonModel",
      "state": {
       "description": "Select",
       "layout": "IPY_MODEL_fa5b788a71e84e8dad0f063ac63c997f",
       "style": "IPY_MODEL_183a094e96dd4d9cbddfe7ee0e448666"
      }
     },
     "01c7b9f601f64d77a40dd4fc864b735f": {
      "model_module": "@jupyter-widgets/base",
      "model_module_version": "1.2.0",
      "model_name": "LayoutModel",
      "state": {
       "display": "none",
       "grid_gap": "0px 0px",
       "grid_template_areas": "\n                    'pathlist pathlist'\n                    'dircontent dircontent'\n                    ",
       "grid_template_columns": "60% 40%",
       "grid_template_rows": "auto auto",
       "width": "500px"
      }
     },
     "02964a75f95e46d5b5d43f2cd4819dae": {
      "model_module": "@jupyter-widgets/base",
      "model_module_version": "1.2.0",
      "model_name": "LayoutModel",
      "state": {}
     },
     "02ac35b25f8a4f5d9f728ba653939015": {
      "model_module": "@jupyter-widgets/base",
      "model_module_version": "1.2.0",
      "model_name": "LayoutModel",
      "state": {
       "width": "auto"
      }
     },
     "02b1afed3c3f4ddab75b2a680fbcca90": {
      "model_module": "@jupyter-widgets/controls",
      "model_module_version": "1.5.0",
      "model_name": "ButtonModel",
      "state": {
       "description": "Cancel",
       "layout": "IPY_MODEL_829d085210af459099a9f1dcfc725855",
       "style": "IPY_MODEL_c30cfd73f1f04cbb9783c640255f90b6"
      }
     },
     "036dd8013d4b4afca08fce23be7c117b": {
      "model_module": "@jupyter-widgets/controls",
      "model_module_version": "1.5.0",
      "model_name": "IntTextModel",
      "state": {
       "description": "Max beta Iterations",
       "layout": "IPY_MODEL_667d2d604bad4f789fbf2baf6be01d79",
       "step": 1,
       "style": "IPY_MODEL_1786b984c4364483be5c02997519e3b3",
       "value": 25
      }
     },
     "0378235dac8e439da9a58a7ef3d24a51": {
      "model_module": "@jupyter-widgets/controls",
      "model_module_version": "1.5.0",
      "model_name": "CheckboxModel",
      "state": {
       "description": "Active",
       "disabled": false,
       "layout": "IPY_MODEL_a7522f4dd5584beebbd2c968b8238588",
       "style": "IPY_MODEL_431a6bcc5c044b6691dfd1c1bd6693c6",
       "value": false
      }
     },
     "0395a0157b3a471888f69ea4eb59b77f": {
      "model_module": "@jupyter-widgets/base",
      "model_module_version": "1.2.0",
      "model_name": "LayoutModel",
      "state": {}
     },
     "03b53294b2b2486782bb68c0b1e3bc67": {
      "model_module": "@jupyter-widgets/controls",
      "model_module_version": "1.5.0",
      "model_name": "FloatSliderModel",
      "state": {
       "continuous_update": false,
       "description": "Northing",
       "layout": "IPY_MODEL_0ede6db9592f4e15920c548e3d6696da",
       "max": 6076443.652111261,
       "min": 6065091.787108775,
       "orientation": "vertical",
       "step": 0.1,
       "style": "IPY_MODEL_5854d72fc3364eaf80d8dad2dc839bf0",
       "value": 6072200
      }
     },
     "03ce69e928384c14a400d2ba722bf2c8": {
      "model_module": "@jupyter-widgets/base",
      "model_module_version": "1.2.0",
      "model_name": "LayoutModel",
      "state": {}
     },
     "03d2ad2d91134950872dd4a9f3aa15ca": {
      "model_module": "@jupyter-widgets/controls",
      "model_module_version": "1.5.0",
      "model_name": "DropdownModel",
      "state": {
       "_options_labels": [
        "",
        "--- Channels ---",
        "Airborne_Gxx",
        "Airborne_Gxy",
        "Airborne_Gxz",
        "Airborne_Gyy",
        "Airborne_Gyz",
        "Airborne_Gz",
        "Airborne_Gzz",
        "Airborne_TMI",
        "Ground_Gz",
        "Z"
       ],
       "description": "Channel <=> Data:",
       "index": 9,
       "layout": "IPY_MODEL_f7c582e5948643a78122dfae02590f72",
       "style": "IPY_MODEL_be10487d379b468f81983d36eb72a1f0"
      }
     },
     "03fe1f3c7ea746958964ff476ac6e744": {
      "model_module": "@jupyter-widgets/controls",
      "model_module_version": "1.5.0",
      "model_name": "DropdownModel",
      "state": {
       "_options_labels": [
        "Magnetics",
        "Gravity",
        "AeroTEM (2007)",
        "AeroTEM (2010)",
        "DIGHEM",
        "GENESIS (2014)",
        "GEOTEM 75 Hz - 2082 Pulse",
        "HELITEM (35C)",
        "Hummingbird",
        "QUESTEM (1996)",
        "Resolve",
        "SandersGFEM",
        "Skytem 304M (HM)",
        "Skytem 306HP (LM)",
        "Skytem 306M HP (HM)",
        "Skytem 312HP (HM)",
        "Skytem 312HP v2 (HM)",
        "Skytem 312HP v3 (HM)",
        "Skytem 312HP v2 (LM)",
        "Skytem 312HP v3 (LM)",
        "Skytem 516M (HM)",
        "Spectrem (2000)",
        "Spectrem Plus",
        "VTEM (2007)",
        "VTEM Plus",
        "VTEM Max"
       ],
       "description": "Survey Type: ",
       "index": 0,
       "layout": "IPY_MODEL_b668f7c5fc8f450dbd6616647558b5d3",
       "style": "IPY_MODEL_40d95e688cb941ee8c48272a593b48c5"
      }
     },
     "043857e998914c68a49fa9fee1487bb9": {
      "model_module": "@jupyter-widgets/base",
      "model_module_version": "1.2.0",
      "model_name": "LayoutModel",
      "state": {}
     },
     "04bf0047c42b43de87096d013df17453": {
      "model_module": "@jupyter-widgets/controls",
      "model_module_version": "1.5.0",
      "model_name": "DescriptionStyleModel",
      "state": {
       "description_width": "initial"
      }
     },
     "04c7ae6e8c5849faa378ef9f6215f15b": {
      "model_module": "@jupyter-widgets/base",
      "model_module_version": "1.2.0",
      "model_name": "LayoutModel",
      "state": {}
     },
     "04d8c7f96b514ed68de910c85a476915": {
      "model_module": "@jupyter-widgets/controls",
      "model_module_version": "1.5.0",
      "model_name": "LabelModel",
      "state": {
       "layout": "IPY_MODEL_8ce2599de7024979898724c633a409df",
       "style": "IPY_MODEL_dbe9cf63bb1643009e819f5248b70a7c",
       "value": "Starting effective susceptibility"
      }
     },
     "04d9827494db4e3c803b1c3ff27abc99": {
      "model_module": "@jupyter-widgets/controls",
      "model_module_version": "1.5.0",
      "model_name": "ButtonModel",
      "state": {
       "description": "Cancel",
       "layout": "IPY_MODEL_1b73f44252bf4b80862a6101e8af3d6a",
       "style": "IPY_MODEL_59e42a6693c542a8b20405ff3f659757"
      }
     },
     "0511e7ef97ca4e92984d2a2759597290": {
      "model_module": "@jupyter-widgets/base",
      "model_module_version": "1.2.0",
      "model_name": "LayoutModel",
      "state": {
       "width": "auto"
      }
     },
     "0515da7854264307ba04dc9c9b5d8b85": {
      "model_module": "@jupyter-widgets/controls",
      "model_module_version": "1.5.0",
      "model_name": "VBoxModel",
      "state": {
       "children": [
        "IPY_MODEL_f5782fbab2e5492e9b5ae811809ac38a",
        "IPY_MODEL_7968bd0f20f84b938543113e0e3e9892"
       ],
       "layout": "IPY_MODEL_04c7ae6e8c5849faa378ef9f6215f15b"
      }
     },
     "0541841c6066488bbab197b0b6490946": {
      "model_module": "@jupyter-widgets/base",
      "model_module_version": "1.2.0",
      "model_name": "LayoutModel",
      "state": {}
     },
     "05827bde59534cec830659ff5877327c": {
      "model_module": "@jupyter-widgets/controls",
      "model_module_version": "1.5.0",
      "model_name": "DescriptionStyleModel",
      "state": {
       "description_width": "initial"
      }
     },
     "059f4fa5fe464a0c9c22628d2f80fbbd": {
      "model_module": "@jupyter-widgets/base",
      "model_module_version": "1.2.0",
      "model_name": "LayoutModel",
      "state": {}
     },
     "05a0ab9c947c4665a5703940509806b2": {
      "model_module": "@jupyter-widgets/controls",
      "model_module_version": "1.5.0",
      "model_name": "TextModel",
      "state": {
       "continuous_update": false,
       "description": "Group:",
       "layout": "IPY_MODEL_41af265e1714464391c72595323253dd",
       "style": "IPY_MODEL_083dc5303d034e0e844f9a0676258d53"
      }
     },
     "05d01d9703c64a02b965ad8fd22ff907": {
      "model_module": "@jupyter-widgets/base",
      "model_module_version": "1.2.0",
      "model_name": "LayoutModel",
      "state": {}
     },
     "05d7ee900fdc46ddb415f08508460d93": {
      "model_module": "@jupyter-widgets/controls",
      "model_module_version": "1.5.0",
      "model_name": "DescriptionStyleModel",
      "state": {
       "description_width": "initial"
      }
     },
     "05ddde1d089a4511810731759da1651f": {
      "model_module": "@jupyter-widgets/controls",
      "model_module_version": "1.5.0",
      "model_name": "VBoxModel",
      "state": {
       "children": [
        "IPY_MODEL_2239bccc79cd4702ba8419b5985a3e64",
        "IPY_MODEL_424fc628a45a4bb38a4247865883d8f3"
       ],
       "layout": "IPY_MODEL_f405ee2a2c134ccdbafa8f9dbcd79652"
      }
     },
     "06219254392f43e89b818eff1793bc08": {
      "model_module": "@jupyter-widgets/controls",
      "model_module_version": "1.5.0",
      "model_name": "DescriptionStyleModel",
      "state": {
       "description_width": ""
      }
     },
     "064466aef59b4025afea67fef7eb5027": {
      "model_module": "@jupyter-widgets/controls",
      "model_module_version": "1.5.0",
      "model_name": "DescriptionStyleModel",
      "state": {
       "description_width": "initial"
      }
     },
     "0669e0630d3e41309cdb59f1f317740f": {
      "model_module": "@jupyter-widgets/controls",
      "model_module_version": "1.5.0",
      "model_name": "DescriptionStyleModel",
      "state": {
       "description_width": ""
      }
     },
     "069f4986415642b997b8406b21e448d0": {
      "model_module": "@jupyter-widgets/controls",
      "model_module_version": "1.5.0",
      "model_name": "VBoxModel",
      "state": {
       "children": [
        "IPY_MODEL_c02dd18836d8434f8e9176aabae852c5",
        "IPY_MODEL_756c6ba1d97244dcb08478ae73791521",
        "IPY_MODEL_c0b246ec3b774c7fa8fb6f6ce2e17c27"
       ],
       "layout": "IPY_MODEL_bee89219053045fb8bc1879fa1ad6cc9"
      }
     },
     "06ac9e08d35d43f08089f14c97f570da": {
      "model_module": "@jupyter-widgets/base",
      "model_module_version": "1.2.0",
      "model_name": "LayoutModel",
      "state": {
       "grid_area": "dircontent",
       "width": "auto"
      }
     },
     "06df371e930f47709a5fd1a8a3c9a2c2": {
      "model_module": "@jupyter-widgets/controls",
      "model_module_version": "1.5.0",
      "model_name": "DescriptionStyleModel",
      "state": {
       "description_width": ""
      }
     },
     "070162353ff84c4282862fb7dc9fff3e": {
      "model_module": "@jupyter-widgets/base",
      "model_module_version": "1.2.0",
      "model_name": "LayoutModel",
      "state": {
       "visibility": "hidden"
      }
     },
     "079ab5067206481aa0f3c7b757dde941": {
      "model_module": "@jupyter-widgets/controls",
      "model_module_version": "1.5.0",
      "model_name": "CheckboxModel",
      "state": {
       "description": "GA Pro - Live link",
       "disabled": false,
       "indent": false,
       "layout": "IPY_MODEL_e07a18b258a64bef8c852bfd24aa6fb1",
       "style": "IPY_MODEL_f9dc5935e76842ee8bd7878c755c70f4",
       "value": false
      }
     },
     "07b355ea795a495198638d238cfcefd6": {
      "model_module": "@jupyter-widgets/controls",
      "model_module_version": "1.5.0",
      "model_name": "DescriptionStyleModel",
      "state": {
       "description_width": "initial"
      }
     },
     "07e2b53c44e34dd6860a448fa8f6558a": {
      "model_module": "@jupyter-widgets/controls",
      "model_module_version": "1.5.0",
      "model_name": "DescriptionStyleModel",
      "state": {
       "description_width": ""
      }
     },
     "083670e71af6419ba48de593c11763c5": {
      "model_module": "@jupyter-widgets/base",
      "model_module_version": "1.2.0",
      "model_name": "LayoutModel",
      "state": {}
     },
     "083dc5303d034e0e844f9a0676258d53": {
      "model_module": "@jupyter-widgets/controls",
      "model_module_version": "1.5.0",
      "model_name": "DescriptionStyleModel",
      "state": {
       "description_width": "initial"
      }
     },
     "084b786864564427ad41f99181a6f41e": {
      "model_module": "@jupyter-widgets/base",
      "model_module_version": "1.2.0",
      "model_name": "LayoutModel",
      "state": {
       "width": "auto"
      }
     },
     "08fe32030e6a4a7ca6f61b97419b09f7": {
      "model_module": "@jupyter-widgets/controls",
      "model_module_version": "1.5.0",
      "model_name": "DescriptionStyleModel",
      "state": {
       "description_width": ""
      }
     },
     "0932e90f036a43be993e41a7800a302a": {
      "model_module": "@jupyter-widgets/controls",
      "model_module_version": "1.5.0",
      "model_name": "ButtonModel",
      "state": {
       "button_style": "danger",
       "description": "Compute",
       "icon": "check",
       "layout": "IPY_MODEL_c736866c98204409b1798210ea06b369",
       "style": "IPY_MODEL_2bb3accb68664db6a4ff779651c80965",
       "tooltip": "Run computation"
      }
     },
     "097fc1615aa5423fb6cb06ce77b7ddf1": {
      "model_module": "@jupyter-widgets/base",
      "model_module_version": "1.2.0",
      "model_name": "LayoutModel",
      "state": {}
     },
     "09ee9588320942a48801b587118ddd93": {
      "model_module": "@jupyter-widgets/controls",
      "model_module_version": "1.5.0",
      "model_name": "SliderStyleModel",
      "state": {
       "description_width": ""
      }
     },
     "0a11dcfdc07041a6a1a18324cfb2c04a": {
      "model_module": "@jupyter-widgets/controls",
      "model_module_version": "1.5.0",
      "model_name": "DescriptionStyleModel",
      "state": {
       "description_width": ""
      }
     },
     "0a204297b9524a8d9528e47a1038fa46": {
      "model_module": "@jupyter-widgets/controls",
      "model_module_version": "1.5.0",
      "model_name": "TextModel",
      "state": {
       "description": "Error (%, floor)",
       "layout": "IPY_MODEL_9b250e03888c4eceb57799b552a3a974",
       "style": "IPY_MODEL_4763e5a8dff14019976d73aa0b029e4e",
       "value": "0, 13.58"
      }
     },
     "0a725a7b0ff6465597a71878f4faa063": {
      "model_module": "@jupyter-widgets/controls",
      "model_module_version": "1.5.0",
      "model_name": "LabelModel",
      "state": {
       "layout": "IPY_MODEL_f81c63c3706248b7b229e6abe82b0251",
       "style": "IPY_MODEL_05d7ee900fdc46ddb415f08508460d93",
       "value": "Workspace"
      }
     },
     "0a7ae31e289947ae8ae9b20b1a331d91": {
      "model_module": "@jupyter-widgets/base",
      "model_module_version": "1.2.0",
      "model_name": "LayoutModel",
      "state": {
       "grid_area": "dircontent",
       "width": "auto"
      }
     },
     "0ac85480ea074728ad918ae162edcaa6": {
      "model_module": "@jupyter-widgets/base",
      "model_module_version": "1.2.0",
      "model_name": "LayoutModel",
      "state": {
       "display": "none",
       "width": "auto"
      }
     },
     "0aea46d840fc4ef49b18f378915ef3f9": {
      "model_module": "@jupyter-widgets/controls",
      "model_module_version": "1.5.0",
      "model_name": "VBoxModel",
      "state": {
       "children": [
        "IPY_MODEL_8d75d6160b3c40fda84dda853f900b83",
        "IPY_MODEL_ef8501da58b6423aab87550856948075"
       ],
       "layout": "IPY_MODEL_f9b7c73a11f6403399524fd41f6f1250"
      }
     },
     "0af0efa00f2943df8284a6291c2cd1c0": {
      "model_module": "@jupyter-widgets/base",
      "model_module_version": "1.2.0",
      "model_name": "LayoutModel",
      "state": {
       "grid_area": "pathlist",
       "width": "auto"
      }
     },
     "0bafa8e3f1cf422e87c74388cc3107b7": {
      "model_module": "@jupyter-widgets/controls",
      "model_module_version": "1.5.0",
      "model_name": "VBoxModel",
      "state": {
       "children": [
        "IPY_MODEL_04d8c7f96b514ed68de910c85a476915",
        "IPY_MODEL_234524dd2a61419f90260c04faf392ae"
       ],
       "layout": "IPY_MODEL_d7de17f67fc34f519aedf8a57af7c331"
      }
     },
     "0bb634857da04e2e9cacb89cb3f8d54e": {
      "model_module": "@jupyter-widgets/base",
      "model_module_version": "1.2.0",
      "model_name": "LayoutModel",
      "state": {}
     },
     "0bc32b03e11a4d44b5667ee54c1d7088": {
      "model_module": "@jupyter-widgets/base",
      "model_module_version": "1.2.0",
      "model_name": "LayoutModel",
      "state": {
       "width": "auto"
      }
     },
     "0c49c5d2839e415192f92545c8cfd7fb": {
      "model_module": "@jupyter-widgets/base",
      "model_module_version": "1.2.0",
      "model_name": "LayoutModel",
      "state": {}
     },
     "0c9beeb2fa85469dada81ffefd8f9dcf": {
      "model_module": "@jupyter-widgets/controls",
      "model_module_version": "1.5.0",
      "model_name": "ButtonStyleModel",
      "state": {}
     },
     "0cb8cc45a4a548dfbf3f938af0391d01": {
      "model_module": "@jupyter-widgets/controls",
      "model_module_version": "1.5.0",
      "model_name": "ButtonStyleModel",
      "state": {}
     },
     "0d0d7f7589674b259e0a603d6e1e7be6": {
      "model_module": "@jupyter-widgets/controls",
      "model_module_version": "1.5.0",
      "model_name": "DescriptionStyleModel",
      "state": {
       "description_width": ""
      }
     },
     "0d3d6c089162438aa366dc8521564da8": {
      "model_module": "@jupyter-widgets/controls",
      "model_module_version": "1.5.0",
      "model_name": "LabelModel",
      "state": {
       "layout": "IPY_MODEL_2e1bb2697c1d43a3b3f339e325e9a660",
       "style": "IPY_MODEL_b2814f3266ad4ae3909940ebc88e81e4",
       "value": "No topography"
      }
     },
     "0dd0bce498eb4e99b9b91952d0e0cb8f": {
      "model_module": "@jupyter-widgets/controls",
      "model_module_version": "1.5.0",
      "model_name": "DescriptionStyleModel",
      "state": {
       "description_width": ""
      }
     },
     "0dfadd4306db4259aa148866399a840a": {
      "model_module": "@jupyter-widgets/base",
      "model_module_version": "1.2.0",
      "model_name": "LayoutModel",
      "state": {
       "display": "none",
       "width": "auto"
      }
     },
     "0e3380d90ff943a4847a363e1c9abbd7": {
      "model_module": "@jupyter-widgets/controls",
      "model_module_version": "1.5.0",
      "model_name": "DescriptionStyleModel",
      "state": {
       "description_width": "initial"
      }
     },
     "0e410f6237674485a4779e6ac072eba8": {
      "model_module": "@jupyter-widgets/controls",
      "model_module_version": "1.5.0",
      "model_name": "DescriptionStyleModel",
      "state": {
       "description_width": "initial"
      }
     },
     "0e5e592c11f7483e89dc280a5a6bbd6a": {
      "model_module": "@jupyter-widgets/base",
      "model_module_version": "1.2.0",
      "model_name": "LayoutModel",
      "state": {
       "display": "none",
       "grid_area": "filename",
       "width": "auto"
      }
     },
     "0eb4ea44468d4287b735f9791796f862": {
      "model_module": "@jupyter-widgets/controls",
      "model_module_version": "1.5.0",
      "model_name": "DescriptionStyleModel",
      "state": {
       "description_width": ""
      }
     },
     "0ed1aafcffeb40bea74044143994e469": {
      "model_module": "@jupyter-widgets/controls",
      "model_module_version": "1.5.0",
      "model_name": "ButtonModel",
      "state": {
       "button_style": "danger",
       "description": "Compute",
       "icon": "check",
       "layout": "IPY_MODEL_d526e989b77d4787b87fc2a605a28296",
       "style": "IPY_MODEL_dbdec926fe4d43c795c97473ff118a5a",
       "tooltip": "Run computation"
      }
     },
     "0ede6db9592f4e15920c548e3d6696da": {
      "model_module": "@jupyter-widgets/base",
      "model_module_version": "1.2.0",
      "model_name": "LayoutModel",
      "state": {}
     },
     "0f440e46500b4c478e22b18f5b55d09a": {
      "model_module": "@jupyter-widgets/controls",
      "model_module_version": "1.5.0",
      "model_name": "DescriptionStyleModel",
      "state": {
       "description_width": ""
      }
     },
     "0f7027aa0d49472caadea241b205c9e6": {
      "model_module": "@jupyter-widgets/controls",
      "model_module_version": "1.5.0",
      "model_name": "VBoxModel",
      "state": {
       "children": [
        "IPY_MODEL_404db630afd24f0e8df079b37d0b7bac",
        "IPY_MODEL_35551107618948b8a880908182fdb27a"
       ],
       "layout": "IPY_MODEL_382004a2970840a0b627ec64e7782a0d"
      }
     },
     "0fee7a9736b84d2b88e78201451c238e": {
      "model_module": "@jupyter-widgets/base",
      "model_module_version": "1.2.0",
      "model_name": "LayoutModel",
      "state": {
       "width": "auto"
      }
     },
     "102c54d34aa74f9395e7510c2cc7e586": {
      "model_module": "@jupyter-widgets/controls",
      "model_module_version": "1.5.0",
      "model_name": "LabelModel",
      "state": {
       "layout": "IPY_MODEL_2ad3829711bd4dc6877262167c9535e1",
       "style": "IPY_MODEL_cd8e0f92265f45588c2a5e4538fee5f3",
       "value": "Monitoring folder"
      }
     },
     "1065b526c87e494588d55ead0b029c32": {
      "model_module": "@jupyter-widgets/base",
      "model_module_version": "1.2.0",
      "model_name": "LayoutModel",
      "state": {}
     },
     "10a67e5f02ea4c1f9469357f1f99741f": {
      "model_module": "@jupyter-widgets/base",
      "model_module_version": "1.2.0",
      "model_name": "LayoutModel",
      "state": {
       "visibility": "hidden"
      }
     },
     "10c10c197683486bbb32e17fe72ebdd4": {
      "model_module": "@jupyter-widgets/controls",
      "model_module_version": "1.5.0",
      "model_name": "VBoxModel",
      "state": {
       "children": [
        "IPY_MODEL_f2dd8c8345794bffb15219be859142e8",
        "IPY_MODEL_9bba8b0a99984083b2d04926c3644fbd",
        "IPY_MODEL_ee9714bc34624c3e9a7e7b9c50fbe96b",
        "IPY_MODEL_0aea46d840fc4ef49b18f378915ef3f9",
        "IPY_MODEL_15c083de1d6a4371b439ab79e09a6c57",
        "IPY_MODEL_8178f63f08904f7db5c537b7a90e4656",
        "IPY_MODEL_415e3e69c84b4581be482f1ccc950d9e"
       ],
       "layout": "IPY_MODEL_2e07a23438744f2a9a6043d352cbe64b"
      }
     },
     "1109b3c2cea34ecf825d2ca0acd35553": {
      "model_module": "@jupyter-widgets/controls",
      "model_module_version": "1.5.0",
      "model_name": "VBoxModel",
      "state": {
       "children": [
        "IPY_MODEL_f39afe0851b0441e9a3dcdef129bc21d",
        "IPY_MODEL_2289e7f52ffe49298cdfa0cae30cf0ea"
       ],
       "layout": "IPY_MODEL_4af303adc1ac4d998619688664b2a575"
      }
     },
     "112f69493f3e45c9ae0df458325347c7": {
      "model_module": "@jupyter-widgets/base",
      "model_module_version": "1.2.0",
      "model_name": "LayoutModel",
      "state": {}
     },
     "114e97de8dcc4fb0a0e1ba486470fa25": {
      "model_module": "@jupyter-widgets/controls",
      "model_module_version": "1.5.0",
      "model_name": "ButtonModel",
      "state": {
       "description": "Cancel",
       "layout": "IPY_MODEL_0ac85480ea074728ad918ae162edcaa6",
       "style": "IPY_MODEL_c49bb86708b24fdc9c285dda808d35b4"
      }
     },
     "116978c6a8f24b1697c7d1f68b4b00b3": {
      "model_module": "@jupyter-widgets/base",
      "model_module_version": "1.2.0",
      "model_name": "LayoutModel",
      "state": {}
     },
     "11bd50c4f64d4be998b2e9f03014895f": {
      "model_module": "@jupyter-widgets/controls",
      "model_module_version": "1.5.0",
      "model_name": "VBoxModel",
      "state": {
       "children": [
        "IPY_MODEL_ea658c4f3e044efbb1e5f236ab2338f8",
        "IPY_MODEL_a0900327ccbf421eab00456158f84146",
        "IPY_MODEL_e5c0ae4a5c6c421098b516605561ab9e"
       ],
       "layout": "IPY_MODEL_a5cb31f4984344798dbfcb460954eaa2"
      }
     },
     "11c35ad092314eeca597fc397303a66e": {
      "model_module": "@jupyter-widgets/controls",
      "model_module_version": "1.5.0",
      "model_name": "DropdownModel",
      "state": {
       "_options_labels": [
        "",
        "fault_splay1",
        "fault_Cliff_Lake",
        "fault_Other_FlinFlon",
        "fault_Club_Lake_splay",
        "fault_Catherine_splay2",
        "fault_Birch_View",
        "fault_Dion_Lake",
        "fault_FlinFlon_splay",
        "fault_West_Mandy_Road",
        "fault_Channing",
        "fault_Ross_Lake",
        "fault_Louis_Hidden",
        "fault_Lake_View_thrust",
        "contact_Schist_Lake",
        "fault_Burley_Lake",
        "fault_Dion_Lake_splay",
        "fault_Green_Lake",
        "fault_FlinFlon",
        "fault_Catherine_splay1",
        "fault_East_Mandy_Road",
        "fault_Other_FlinFlon_South",
        "fault_Catherine_splay4",
        "contact_Stitt_Island",
        "fault_Club_Lake",
        "fault_Tailing_Pond",
        "35_Hidden_Reservoir_Hr5",
        "29_Hidden_Reservoir_Hr1a",
        "60_BlueLagoon_Fb2",
        "20_FlinFlon_Undivided_Int_Dykes_D2f",
        "04_Boundary_Intrusive_S4h",
        "53_Millrock_Rhyolite_Fm4b",
        "19_FlinFlon_Undivided_Int_Dykes_D2b",
        "18_FlinFlon_Undivided_Int_Dykes_777_D2b",
        "06_Phantom_Lake_Intrusive_S3a",
        "21_FlinFlon_Undivided_Int_Dykes_D3a",
        "43_Millrock_CHLSH_South",
        "56_Millrock_Basalt_Fm1ba",
        "17_FlinFlon_Undivided_Int_Dykes_D2",
        "32_Hidden_Reservoir_Hr1b_SW",
        "11_Missi_M3_NE",
        "13_Missi_M1",
        "07_Annabel_Granitoid_S1",
        "45_Millrock_Gabbro_South",
        "01_Late_Intrusive_S5b",
        "31_Hidden_Reservoir_Hr1c_SW",
        "52_Millrock_Rhyolite_Fm4_West_check",
        "55_Millrock_Basalt_Fm1bf",
        "34_Hidden_Reservoir_Hr2b",
        "03_Boundary_Intrusive_S4b",
        "42_Millrock_CHLSH_North",
        "26_Louis_L3",
        "23_FlinFlon_Undivided_Int_Felsic_D4g",
        "30_Hidden_Reservoir_Hr1b",
        "59_BlueLagoon_Fb3",
        "49_Millrock_MVR_Fm5d",
        "44_Millrock_Gabbro_North",
        "27_Hidden_Carlisle_Hc4",
        "22_FlinFlon_Undivided_Int_Felsic_D4e",
        "02_Boundary_Intrusive_S4a",
        "61_BlueLagoon_Fb1_NW",
        "05_Boundary_Intrusive_S4g",
        "39_Ore_Callinan",
        "38_Ore_Dan_Owens",
        "40_Ore_FlinFlon",
        "Inversion_VTEM_Model",
        "Gravity_Magnetics_drape60m",
        "CDI_VTEM_model",
        "Data_FEM_pseudo3D",
        "O2O_Interp_25m",
        "geochem",
        "Inversion_DIGHEM_Model",
        "Topography",
        "Data_TEM_pseudo3D"
       ],
       "description": "Object",
       "index": 0,
       "layout": "IPY_MODEL_74a600bd953f4358bcba7d803b20b1a2",
       "style": "IPY_MODEL_39b2759b796349e7aa55f1ee9eb4fd01"
      }
     },
     "11f4d58a62614344afb66009d205917c": {
      "model_module": "@jupyter-widgets/controls",
      "model_module_version": "1.5.0",
      "model_name": "DescriptionStyleModel",
      "state": {
       "description_width": ""
      }
     },
     "123ab3a609da44ae8fc06d60ce59e495": {
      "model_module": "@jupyter-widgets/base",
      "model_module_version": "1.2.0",
      "model_name": "LayoutModel",
      "state": {}
     },
     "12567b7513134729816476b96012e679": {
      "model_module": "@jupyter-widgets/controls",
      "model_module_version": "1.5.0",
      "model_name": "TextModel",
      "state": {
       "continuous_update": false,
       "description": "Contours",
       "layout": "IPY_MODEL_12d3a6d7194d46fa949fb67c3601b302",
       "style": "IPY_MODEL_40a94de3480f486196b4a3497a081ffd"
      }
     },
     "1259992f0a7741429e7f38c5afc45233": {
      "model_module": "@jupyter-widgets/base",
      "model_module_version": "1.2.0",
      "model_name": "LayoutModel",
      "state": {
       "grid_area": "dircontent",
       "width": "auto"
      }
     },
     "1264e508a3ba40378549f78f12921b50": {
      "model_module": "@jupyter-widgets/controls",
      "model_module_version": "1.5.0",
      "model_name": "VBoxModel",
      "state": {
       "children": [
        "IPY_MODEL_61c07cc650ac47688e884a449c7ed13f",
        "IPY_MODEL_613fbae278104a70bb1e318bc44b0522",
        "IPY_MODEL_49eefdff01434a6ba23b23211d8ad336",
        "IPY_MODEL_5f70869b86e04fa680d6f90182dddf34",
        "IPY_MODEL_21cb1dbfb67542c99653bd25dc29342b",
        "IPY_MODEL_fe1afaaebb9c4ccc9a7a314e145b9748",
        "IPY_MODEL_5cae3e59173f45a98314c9d5c11b340e"
       ],
       "layout": "IPY_MODEL_7ca21315b5f141729bd3dbd55bd0212f"
      }
     },
     "12886987b57f449bbdffc6949ca2fcc0": {
      "model_module": "@jupyter-widgets/controls",
      "model_module_version": "1.5.0",
      "model_name": "DescriptionStyleModel",
      "state": {
       "description_width": ""
      }
     },
     "12d3a6d7194d46fa949fb67c3601b302": {
      "model_module": "@jupyter-widgets/base",
      "model_module_version": "1.2.0",
      "model_name": "LayoutModel",
      "state": {}
     },
     "1314524f0d104a068308a3f9e4078aa6": {
      "model_module": "@jupyter-widgets/base",
      "model_module_version": "1.2.0",
      "model_name": "LayoutModel",
      "state": {}
     },
     "133a4fdccb99491eac76d23e9b8f7d6b": {
      "model_module": "@jupyter-widgets/controls",
      "model_module_version": "1.5.0",
      "model_name": "DescriptionStyleModel",
      "state": {
       "description_width": ""
      }
     },
     "138d053680384b7eae87a882bf7d94ef": {
      "model_module": "@jupyter-widgets/base",
      "model_module_version": "1.2.0",
      "model_name": "LayoutModel",
      "state": {}
     },
     "13d184ece3294ec8a253272eae2b0477": {
      "model_module": "@jupyter-widgets/controls",
      "model_module_version": "1.5.0",
      "model_name": "VBoxModel",
      "state": {
       "children": [
        "IPY_MODEL_5c97d8602ced4dc2b516e4cac3ecb012",
        "IPY_MODEL_851b96e1b6ec402bbc59aa3c713480f7"
       ],
       "layout": "IPY_MODEL_7063b2852250474ebdcc82a7a0931f9e"
      }
     },
     "13d90e8a299f4876afbc2c2db01919bf": {
      "model_module": "@jupyter-widgets/controls",
      "model_module_version": "1.5.0",
      "model_name": "DescriptionStyleModel",
      "state": {
       "description_width": "initial"
      }
     },
     "13eb08595eec455496e48a7f88ccbcc4": {
      "model_module": "@jupyter-widgets/base",
      "model_module_version": "1.2.0",
      "model_name": "LayoutModel",
      "state": {
       "grid_area": "dircontent",
       "width": "auto"
      }
     },
     "13f091de859141a6bb5c8e0b5da365b0": {
      "model_module": "@jupyter-widgets/controls",
      "model_module_version": "1.5.0",
      "model_name": "DescriptionStyleModel",
      "state": {
       "description_width": ""
      }
     },
     "1413bb6424cd4e5e85652eedd861367f": {
      "model_module": "@jupyter-widgets/controls",
      "model_module_version": "1.5.0",
      "model_name": "LabelModel",
      "state": {
       "layout": "IPY_MODEL_975c7e21bc0149d7ae94568ae142f4af",
       "style": "IPY_MODEL_a0a71e2a2d9346aea3dffd1a8d3cdf13",
       "value": "Monitoring folder"
      }
     },
     "143904a682db49e8a623007f8f66d07f": {
      "model_module": "@jupyter-widgets/controls",
      "model_module_version": "1.5.0",
      "model_name": "TextModel",
      "state": {
       "layout": "IPY_MODEL_ca3e7259ba5d4307ab824474f0ad5618",
       "placeholder": "output filename",
       "style": "IPY_MODEL_d599524083fa4b19b06b43185b2b8215"
      }
     },
     "1454fc76d0b24d26bf0c4324c1b93b97": {
      "model_module": "@jupyter-widgets/base",
      "model_module_version": "1.2.0",
      "model_name": "LayoutModel",
      "state": {
       "display": "none",
       "width": "auto"
      }
     },
     "14cbfd6e7cbf4369ba7c73585bcc6707": {
      "model_module": "@jupyter-widgets/base",
      "model_module_version": "1.2.0",
      "model_name": "LayoutModel",
      "state": {}
     },
     "14cc9c83ebcb4355bedbd8028b153e33": {
      "model_module": "@jupyter-widgets/controls",
      "model_module_version": "1.5.0",
      "model_name": "DescriptionStyleModel",
      "state": {
       "description_width": ""
      }
     },
     "14db0a0d9c2c4d1288ce9e132865bdcd": {
      "model_module": "@jupyter-widgets/controls",
      "model_module_version": "1.5.0",
      "model_name": "SelectModel",
      "state": {
       "_options_labels": [
        "..",
        "dask-worker-space",
        "images",
        "Untitled.ipynb",
        "base_application.ipynb",
        "calculator.ipynb",
        "clustering.ipynb",
        "contouring.ipynb",
        "coordinate_transformation.ipynb",
        "create_surface.ipynb",
        "data_interpolation.ipynb",
        "edge_detection.ipynb",
        "export.ipynb",
        "geophysical_inversion.ipynb",
        "object_data_selection.ipynb",
        "peak_finder.ipynb",
        "scatter.ipynb",
        "view_selection.ipynb"
       ],
       "index": null,
       "layout": "IPY_MODEL_99420d4d619841078419af2926c42b61",
       "rows": 8,
       "style": "IPY_MODEL_75a323791070495f94c56b88fc29dd95"
      }
     },
     "152c29a1d623456798c97d4ca8077704": {
      "model_module": "@jupyter-widgets/controls",
      "model_module_version": "1.5.0",
      "model_name": "DescriptionStyleModel",
      "state": {
       "description_width": ""
      }
     },
     "15325aabadbf4d05a8e6056f6cdb67ef": {
      "model_module": "@jupyter-widgets/controls",
      "model_module_version": "1.5.0",
      "model_name": "DescriptionStyleModel",
      "state": {
       "description_width": "initial"
      }
     },
     "1557a6b67bca4f9f890b3af1becc4720": {
      "model_module": "@jupyter-widgets/controls",
      "model_module_version": "1.5.0",
      "model_name": "DescriptionStyleModel",
      "state": {
       "description_width": ""
      }
     },
     "15aa3b17b8a1403bb1c11a7e543a5e8e": {
      "model_module": "@jupyter-widgets/base",
      "model_module_version": "1.2.0",
      "model_name": "LayoutModel",
      "state": {}
     },
     "15c083de1d6a4371b439ab79e09a6c57": {
      "model_module": "@jupyter-widgets/controls",
      "model_module_version": "1.5.0",
      "model_name": "VBoxModel",
      "state": {
       "children": [
        "IPY_MODEL_a507b8b1d214494a846ec2fbd5cddeb9",
        "IPY_MODEL_c6b8c8e7615b43b2b9d5ea24c3fa3bbc"
       ],
       "layout": "IPY_MODEL_716867d0a54740cf80dac41515c66eee"
      }
     },
     "15f861d3b2034b0595ad590076bd7a9a": {
      "model_module": "@jupyter-widgets/controls",
      "model_module_version": "1.5.0",
      "model_name": "VBoxModel",
      "state": {
       "children": [
        "IPY_MODEL_51661e5ed12f4ac4bc699f745f9a658a",
        "IPY_MODEL_e897ecf787284c9e919eab13e5164f8b"
       ],
       "layout": "IPY_MODEL_c47f332b7b13497d8a00b4ab2ffcab8f"
      }
     },
     "160f45041bf14b10abe6ff436527d61b": {
      "model_module": "@jupyter-widgets/base",
      "model_module_version": "1.2.0",
      "model_name": "LayoutModel",
      "state": {}
     },
     "16261ffa00684652911b2746eb88642e": {
      "model_module": "@jupyter-widgets/base",
      "model_module_version": "1.2.0",
      "model_name": "LayoutModel",
      "state": {
       "display": "none",
       "grid_area": "filename",
       "width": "auto"
      }
     },
     "1636504a2468407e9608d0991068f241": {
      "model_module": "@jupyter-widgets/controls",
      "model_module_version": "1.5.0",
      "model_name": "HTMLModel",
      "state": {
       "layout": "IPY_MODEL_54f478c1387b4ce4b29c85ebd34fbb94",
       "style": "IPY_MODEL_1d5a00ed8a974a27833c994d26c40538"
      }
     },
     "16d273c9efcd4299a33419db857bc182": {
      "model_module": "@jupyter-widgets/controls",
      "model_module_version": "1.5.0",
      "model_name": "DescriptionStyleModel",
      "state": {
       "description_width": ""
      }
     },
     "16ece1ccf9474941bea317d14d48b53e": {
      "model_module": "@jupyter-widgets/controls",
      "model_module_version": "1.5.0",
      "model_name": "ButtonModel",
      "state": {
       "description": "Cancel",
       "layout": "IPY_MODEL_4320dfc10e034dbab571580208f01afa",
       "style": "IPY_MODEL_41e19623796445a58badf33a6b394078"
      }
     },
     "1713cd8e55b1449c82b01dab4a22671e": {
      "model_module": "@jupyter-widgets/controls",
      "model_module_version": "1.5.0",
      "model_name": "FloatTextModel",
      "state": {
       "description": "phi_d/phi_m",
       "layout": "IPY_MODEL_ec1b5e4a7b984bd38b802ec187b4ad99",
       "step": null,
       "style": "IPY_MODEL_ba88445ee946475bb19df4a5ce9678ef",
       "value": 100
      }
     },
     "1745880839b84b97bf0f865f1be77f16": {
      "model_module": "@jupyter-widgets/controls",
      "model_module_version": "1.5.0",
      "model_name": "ButtonModel",
      "state": {
       "description": "Cancel",
       "layout": "IPY_MODEL_0dfadd4306db4259aa148866399a840a",
       "style": "IPY_MODEL_f53bf5e6492144f68387561788458776"
      }
     },
     "1750af48d42a40a590de247fdf672f82": {
      "model_module": "@jupyter-widgets/controls",
      "model_module_version": "1.5.0",
      "model_name": "TextModel",
      "state": {
       "description": "Error (%, floor)",
       "layout": "IPY_MODEL_738a58610271464c88c7febec54b01c3",
       "style": "IPY_MODEL_65a8e055047d43b08ab388c5700ee84b",
       "value": "0, 1"
      }
     },
     "1786b984c4364483be5c02997519e3b3": {
      "model_module": "@jupyter-widgets/controls",
      "model_module_version": "1.5.0",
      "model_name": "DescriptionStyleModel",
      "state": {
       "description_width": "initial"
      }
     },
     "178ca2440714468a96ad58eea9d80711": {
      "model_module": "@jupyter-widgets/controls",
      "model_module_version": "1.5.0",
      "model_name": "VBoxModel",
      "state": {
       "children": [
        "IPY_MODEL_25ef5a3d69534602bc980cdae0afeb15",
        "IPY_MODEL_2402a92de0cb4ef995c5e4c8f5130e3f",
        "IPY_MODEL_f7e9a12871bf4515af90ce09554130cc"
       ],
       "layout": "IPY_MODEL_546735d117a1419e91033efa3824bcf3"
      }
     },
     "179974f8118d4c249c23a4e72aa05402": {
      "model_module": "@jupyter-widgets/base",
      "model_module_version": "1.2.0",
      "model_name": "LayoutModel",
      "state": {}
     },
     "17a7cf63baf9490db611399fc31df150": {
      "model_module": "@jupyter-widgets/base",
      "model_module_version": "1.2.0",
      "model_name": "LayoutModel",
      "state": {}
     },
     "17c9bd572fd04805be58853558a92758": {
      "model_module": "@jupyter-widgets/base",
      "model_module_version": "1.2.0",
      "model_name": "LayoutModel",
      "state": {
       "width": "auto"
      }
     },
     "182a7d5de3af4a8ea0947770b325ba87": {
      "model_module": "@jupyter-widgets/base",
      "model_module_version": "1.2.0",
      "model_name": "LayoutModel",
      "state": {
       "display": "none"
      }
     },
     "183a094e96dd4d9cbddfe7ee0e448666": {
      "model_module": "@jupyter-widgets/controls",
      "model_module_version": "1.5.0",
      "model_name": "ButtonStyleModel",
      "state": {}
     },
     "1849e5aad49245d48d1ff0695e9e4176": {
      "model_module": "@jupyter-widgets/controls",
      "model_module_version": "1.5.0",
      "model_name": "DescriptionStyleModel",
      "state": {
       "description_width": ""
      }
     },
     "188f8c5e694047b88f81a48403453791": {
      "model_module": "@jupyter-widgets/base",
      "model_module_version": "1.2.0",
      "model_name": "LayoutModel",
      "state": {}
     },
     "1896428d088f498592525acb0167aa75": {
      "model_module": "@jupyter-widgets/controls",
      "model_module_version": "1.5.0",
      "model_name": "DescriptionStyleModel",
      "state": {
       "description_width": "initial"
      }
     },
     "18a40777ae6846e18e47fe21f1ddf069": {
      "model_module": "@jupyter-widgets/controls",
      "model_module_version": "1.5.0",
      "model_name": "ButtonModel",
      "state": {
       "description": "Cancel",
       "layout": "IPY_MODEL_890194ef14e24f569c3fdd993952a220",
       "style": "IPY_MODEL_8933032f1d324f3fb9043f5d5c2349c6"
      }
     },
     "18ddacbce4d745709d24f1ec71f8f6a6": {
      "model_module": "@jupyter-widgets/controls",
      "model_module_version": "1.5.0",
      "model_name": "DescriptionStyleModel",
      "state": {
       "description_width": "initial"
      }
     },
     "18eb217ad55e45b7872e7ba23530eb66": {
      "model_module": "@jupyter-widgets/controls",
      "model_module_version": "1.5.0",
      "model_name": "HBoxModel",
      "state": {
       "children": [
        "IPY_MODEL_1afe76ec7c884cd28d91900fb3a0db7b",
        "IPY_MODEL_54e7d35eda08477e9b87f8fd91e2c8c5",
        "IPY_MODEL_f0f475638ccd43a282651b6c55c206c2"
       ],
       "layout": "IPY_MODEL_4e5a02bbb37448ccbeba85ac9203bec4"
      }
     },
     "190c714e86a241f8b186976061e9c6e1": {
      "model_module": "@jupyter-widgets/base",
      "model_module_version": "1.2.0",
      "model_name": "LayoutModel",
      "state": {
       "width": "auto"
      }
     },
     "190d50aeab8045f187bbc525a4e0b92d": {
      "model_module": "@jupyter-widgets/controls",
      "model_module_version": "1.5.0",
      "model_name": "TextModel",
      "state": {
       "description": "Offsets (x,y,z)",
       "layout": "IPY_MODEL_264b2ce0a7ac474da1ed83193fa30d1a",
       "style": "IPY_MODEL_e53cfa92886341168e5f31778d9c9f7c",
       "value": "0, 0, 0"
      }
     },
     "1916bcb2c77f444ebe8b58eb5e28c7d7": {
      "model_module": "@jupyter-widgets/controls",
      "model_module_version": "1.5.0",
      "model_name": "DescriptionStyleModel",
      "state": {
       "description_width": ""
      }
     },
     "191ac813db5447f1b1c2359356be1b07": {
      "model_module": "@jupyter-widgets/controls",
      "model_module_version": "1.5.0",
      "model_name": "DescriptionStyleModel",
      "state": {
       "description_width": ""
      }
     },
     "194bd57bee2a4839a74198c5e9a57753": {
      "model_module": "@jupyter-widgets/base",
      "model_module_version": "1.2.0",
      "model_name": "LayoutModel",
      "state": {}
     },
     "197eb26368dc422690c1012429e770de": {
      "model_module": "@jupyter-widgets/controls",
      "model_module_version": "1.5.0",
      "model_name": "DescriptionStyleModel",
      "state": {
       "description_width": ""
      }
     },
     "1a411d0e53594c61ba126b6dc4e2e198": {
      "model_module": "@jupyter-widgets/controls",
      "model_module_version": "1.5.0",
      "model_name": "VBoxModel",
      "state": {
       "children": [
        "IPY_MODEL_56d8e7d466e64c4dbbdb41e6752ce642",
        "IPY_MODEL_becfe1ed62e84f2a8bc305c667f15aed"
       ],
       "layout": "IPY_MODEL_56969e9097864eb1a03280f4473c525d"
      }
     },
     "1a4180dab85041068405740d60fda454": {
      "model_module": "@jupyter-widgets/base",
      "model_module_version": "1.2.0",
      "model_name": "LayoutModel",
      "state": {}
     },
     "1ab1a5c37d6f4bfaae262aeb95141619": {
      "model_module": "@jupyter-widgets/controls",
      "model_module_version": "1.5.0",
      "model_name": "ButtonStyleModel",
      "state": {}
     },
     "1af948d1f03548eaa3a91129411ccae2": {
      "model_module": "@jupyter-widgets/controls",
      "model_module_version": "1.5.0",
      "model_name": "DescriptionStyleModel",
      "state": {
       "description_width": "initial"
      }
     },
     "1afe76ec7c884cd28d91900fb3a0db7b": {
      "model_module": "@jupyter-widgets/controls",
      "model_module_version": "1.5.0",
      "model_name": "ButtonModel",
      "state": {
       "description": "Select",
       "layout": "IPY_MODEL_712e649c9fac4dfaa56109e5d479cb55",
       "style": "IPY_MODEL_c1d3e42e313844928cfa1228eefbfd30"
      }
     },
     "1b1a4cc5592040c0a1e27f10efc7f977": {
      "model_module": "@jupyter-widgets/controls",
      "model_module_version": "1.5.0",
      "model_name": "ToggleButtonModel",
      "state": {
       "layout": "IPY_MODEL_d5bf5d5b8d4e463586e5b0b099fe327a",
       "style": "IPY_MODEL_b3d2ed858da243e9a69b50f210e7ae7a",
       "value": true
      }
     },
     "1b380cc028fe4bc9b279a2ddb6ef89a6": {
      "model_module": "@jupyter-widgets/base",
      "model_module_version": "1.2.0",
      "model_name": "LayoutModel",
      "state": {}
     },
     "1b73f44252bf4b80862a6101e8af3d6a": {
      "model_module": "@jupyter-widgets/base",
      "model_module_version": "1.2.0",
      "model_name": "LayoutModel",
      "state": {
       "display": "none",
       "width": "auto"
      }
     },
     "1b748dbfe10c49ae984e176cb16ceb37": {
      "model_module": "@jupyter-widgets/controls",
      "model_module_version": "1.5.0",
      "model_name": "TextModel",
      "state": {
       "description": "(dx, dy, dz) (+ve up)",
       "layout": "IPY_MODEL_91ccbc8069d44b6185b63d224567a6d8",
       "style": "IPY_MODEL_4fead2dff3bb44d89e3d5522d1e6a9f8",
       "value": "0, 0, 60"
      }
     },
     "1bc19c73ceaa4babb2fdd94ee783283a": {
      "model_module": "@jupyter-widgets/base",
      "model_module_version": "1.2.0",
      "model_name": "LayoutModel",
      "state": {}
     },
     "1bd9c05318694829bc9134c877fa7a61": {
      "model_module": "@jupyter-widgets/controls",
      "model_module_version": "1.5.0",
      "model_name": "DescriptionStyleModel",
      "state": {
       "description_width": "initial"
      }
     },
     "1bffb5c3430c49d0bf0070565c4baeea": {
      "model_module": "@jupyter-widgets/controls",
      "model_module_version": "1.5.0",
      "model_name": "VBoxModel",
      "state": {
       "children": [
        "IPY_MODEL_1413bb6424cd4e5e85652eedd861367f",
        "IPY_MODEL_580d62e37a724a7a8dd17a10cdd00f44"
       ],
       "layout": "IPY_MODEL_179974f8118d4c249c23a4e72aa05402"
      }
     },
     "1c103c6174f6481fbd92f64497f3185b": {
      "model_module": "@jupyter-widgets/controls",
      "model_module_version": "1.5.0",
      "model_name": "DescriptionStyleModel",
      "state": {
       "description_width": ""
      }
     },
     "1c56f2e7cfc54bae9bfd1518cbf0ad0b": {
      "model_module": "@jupyter-widgets/controls",
      "model_module_version": "1.5.0",
      "model_name": "TextModel",
      "state": {
       "description": "tmi",
       "layout": "IPY_MODEL_10a67e5f02ea4c1f9469357f1f99741f",
       "style": "IPY_MODEL_7042d1b709124de59d455814fd63c16c"
      }
     },
     "1c812c274daf4410a7fd813814e4963d": {
      "model_module": "@jupyter-widgets/controls",
      "model_module_version": "1.5.0",
      "model_name": "VBoxModel",
      "state": {
       "children": [
        "IPY_MODEL_46af6c93bae24251af878c657c5bdc1c",
        "IPY_MODEL_b8e43485607343cc8d0eabe6a32b9396",
        "IPY_MODEL_1e41ba255c36411a9970f25578d81fe7"
       ],
       "layout": "IPY_MODEL_e957dedcdb6c4014946876c0bbce7266"
      }
     },
     "1cb7e245bd434ced8402aa2b6d8bfbc2": {
      "model_module": "@jupyter-widgets/base",
      "model_module_version": "1.2.0",
      "model_name": "LayoutModel",
      "state": {}
     },
     "1ce98faf173245ecbf5e4d7a2ebe97d1": {
      "model_module": "@jupyter-widgets/controls",
      "model_module_version": "1.5.0",
      "model_name": "GridBoxModel",
      "state": {
       "children": [
        "IPY_MODEL_bfecae0ca3c54539871e93333b6df458",
        "IPY_MODEL_77f2ec9cd4c144c9827823f90889c615",
        "IPY_MODEL_b84f6b55752d4c4782dcc1fbcbfb866c"
       ],
       "layout": "IPY_MODEL_c795752329df46f594574c74064ef67b"
      }
     },
     "1cfd8b72e6ae4ba7898a575e6698dce3": {
      "model_module": "@jupyter-widgets/controls",
      "model_module_version": "1.5.0",
      "model_name": "TextModel",
      "state": {
       "disabled": true,
       "layout": "IPY_MODEL_16261ffa00684652911b2746eb88642e",
       "placeholder": "output filename",
       "style": "IPY_MODEL_3c1cb676ece647a3a54b48cce51b154b"
      }
     },
     "1d52e657ae424358a11cc93aa3f8f82e": {
      "model_module": "@jupyter-widgets/controls",
      "model_module_version": "1.5.0",
      "model_name": "DescriptionStyleModel",
      "state": {
       "description_width": ""
      }
     },
     "1d57947cae1245afb065d55a7d2eee26": {
      "model_module": "@jupyter-widgets/controls",
      "model_module_version": "1.5.0",
      "model_name": "DescriptionStyleModel",
      "state": {
       "description_width": "initial"
      }
     },
     "1d5a00ed8a974a27833c994d26c40538": {
      "model_module": "@jupyter-widgets/controls",
      "model_module_version": "1.5.0",
      "model_name": "DescriptionStyleModel",
      "state": {
       "description_width": ""
      }
     },
     "1d678a0215c24f8eba95bb1a203234c2": {
      "model_module": "@jupyter-widgets/base",
      "model_module_version": "1.2.0",
      "model_name": "LayoutModel",
      "state": {}
     },
     "1d72eb183e2a439eb30bb413e620de18": {
      "model_module": "@jupyter-widgets/controls",
      "model_module_version": "1.5.0",
      "model_name": "HTMLModel",
      "state": {
       "layout": "IPY_MODEL_d4edc540fe1e445ca367171165e20bc6",
       "placeholder": "",
       "style": "IPY_MODEL_d3a54b32064d46118ed7fab361438c3d",
       "value": "<span style=\"margin-left:10px; color:green;\">C:\\Users\\dominiquef\\Documents\\GIT\\mira\\mirageoscience-apps\\assets\\</span>"
      }
     },
     "1d792a49a40848a4a99eb236ac6a05f3": {
      "model_module": "@jupyter-widgets/controls",
      "model_module_version": "1.5.0",
      "model_name": "DropdownModel",
      "state": {
       "_options_labels": [
        "C:\\Users\\dominiquef\\Documents\\GIT\\mira\\mirageoscience-apps\\docs\\content\\applications",
        "C:\\Users\\dominiquef\\Documents\\GIT\\mira\\mirageoscience-apps\\docs\\content",
        "C:\\Users\\dominiquef\\Documents\\GIT\\mira\\mirageoscience-apps\\docs",
        "C:\\Users\\dominiquef\\Documents\\GIT\\mira\\mirageoscience-apps",
        "C:\\Users\\dominiquef\\Documents\\GIT\\mira",
        "C:\\Users\\dominiquef\\Documents\\GIT",
        "C:\\Users\\dominiquef\\Documents",
        "C:\\Users\\dominiquef",
        "C:\\Users",
        "C:\\",
        "D:\\",
        "Z:\\"
       ],
       "index": 0,
       "layout": "IPY_MODEL_b47aa883b44e404a8c2cd4b622e5079a",
       "style": "IPY_MODEL_78fdaa3523354708b6e457cc02920cd1"
      }
     },
     "1e123625445a491d81fe235228a9d7db": {
      "model_module": "@jupyter-widgets/controls",
      "model_module_version": "1.5.0",
      "model_name": "VBoxModel",
      "state": {
       "children": [
        "IPY_MODEL_0378235dac8e439da9a58a7ef3d24a51",
        "IPY_MODEL_774c0085707b4c709f163d0e8514aaab",
        "IPY_MODEL_8443d76953714a8abc5c1284fa128240",
        "IPY_MODEL_a3048a4b131940df8b40bc89ebf31663",
        "IPY_MODEL_aa51c1fdf31245c8b6e93be15ac8523e"
       ],
       "layout": "IPY_MODEL_fd54606df80443958665c38b4be085e6"
      }
     },
     "1e41ba255c36411a9970f25578d81fe7": {
      "model_module": "@jupyter-widgets/controls",
      "model_module_version": "1.5.0",
      "model_name": "HBoxModel",
      "state": {
       "children": [
        "IPY_MODEL_f9095fd6157e44ba8557489c20b453b7",
        "IPY_MODEL_89ea74d6eb9e467db6af81107a958954",
        "IPY_MODEL_20e1b5b572084489b3ba2dbfa9e72ccb"
       ],
       "layout": "IPY_MODEL_9c6caae850234d8882746bdd090aa238"
      }
     },
     "1e42fc1b31d7424a94f315a3d2d09197": {
      "model_module": "@jupyter-widgets/base",
      "model_module_version": "1.2.0",
      "model_name": "LayoutModel",
      "state": {}
     },
     "1e52a7aa29dc42eeaca56c201f3c5891": {
      "model_module": "@jupyter-widgets/base",
      "model_module_version": "1.2.0",
      "model_name": "LayoutModel",
      "state": {
       "display": "none",
       "width": "auto"
      }
     },
     "1e6b2543b85d496f9889d9efcb3e8ea6": {
      "model_module": "@jupyter-widgets/base",
      "model_module_version": "1.2.0",
      "model_name": "LayoutModel",
      "state": {}
     },
     "1e6e51cafcf642bf89c87538466b995d": {
      "model_module": "@jupyter-widgets/controls",
      "model_module_version": "1.5.0",
      "model_name": "DescriptionStyleModel",
      "state": {
       "description_width": ""
      }
     },
     "1e77e32eee8a42b1b6c0eb23e591003b": {
      "model_module": "@jupyter-widgets/controls",
      "model_module_version": "1.5.0",
      "model_name": "DescriptionStyleModel",
      "state": {
       "description_width": ""
      }
     },
     "1e7acd61dc4f4816bf5bd6152579c9c2": {
      "model_module": "@jupyter-widgets/base",
      "model_module_version": "1.2.0",
      "model_name": "LayoutModel",
      "state": {}
     },
     "1e9a495643044bcba28dc458fe60b606": {
      "model_module": "@jupyter-widgets/controls",
      "model_module_version": "1.5.0",
      "model_name": "TextModel",
      "state": {
       "description": "Layers below topo",
       "layout": "IPY_MODEL_41b743f350f049ef89cce4d02e8ef115",
       "style": "IPY_MODEL_fa1262c9bf854de08bebf7a44cb7f91f",
       "value": "0, 0, 0, 2"
      }
     },
     "1ebf6becbdbc4e57b157f154e7014f50": {
      "model_module": "@jupyter-widgets/base",
      "model_module_version": "1.2.0",
      "model_name": "LayoutModel",
      "state": {}
     },
     "1effb569616148b6aad06045fecc5814": {
      "model_module": "@jupyter-widgets/controls",
      "model_module_version": "1.5.0",
      "model_name": "SliderStyleModel",
      "state": {
       "description_width": "initial"
      }
     },
     "1f56ff9863ca419bba7845009cf507cd": {
      "model_module": "@jupyter-widgets/controls",
      "model_module_version": "1.5.0",
      "model_name": "DescriptionStyleModel",
      "state": {
       "description_width": ""
      }
     },
     "1fc48810dab240289c43b9b57292c78b": {
      "model_module": "@jupyter-widgets/controls",
      "model_module_version": "1.5.0",
      "model_name": "CheckboxModel",
      "state": {
       "description": "GA Pro - Live link",
       "disabled": false,
       "indent": false,
       "layout": "IPY_MODEL_b5052810f46f4fa58fbed2c32d7c51c2",
       "style": "IPY_MODEL_2750098e55ab464b84736aed1ee207f6",
       "value": false
      }
     },
     "1ff0c053ddb84b3db07aa523b2c45f90": {
      "model_module": "@jupyter-widgets/controls",
      "model_module_version": "1.5.0",
      "model_name": "DescriptionStyleModel",
      "state": {
       "description_width": "initial"
      }
     },
     "1ffad77d98b6483696b3a088e7872e37": {
      "model_module": "@jupyter-widgets/base",
      "model_module_version": "1.2.0",
      "model_name": "LayoutModel",
      "state": {
       "width": "auto"
      }
     },
     "202ee763bfc44fdb80f1c73723358ce7": {
      "model_module": "@jupyter-widgets/controls",
      "model_module_version": "1.5.0",
      "model_name": "DescriptionStyleModel",
      "state": {
       "description_width": ""
      }
     },
     "203a4b2c507747469aa460fb9381cebb": {
      "model_module": "@jupyter-widgets/base",
      "model_module_version": "1.2.0",
      "model_name": "LayoutModel",
      "state": {}
     },
     "20546f46a4ae401ab7603b94a37f0e82": {
      "model_module": "@jupyter-widgets/controls",
      "model_module_version": "1.5.0",
      "model_name": "TextModel",
      "state": {
       "description": "Padding [W,E,N,S,D,U] (m)",
       "layout": "IPY_MODEL_4b71f3e797b042ad8d3a18b01e7b21ce",
       "style": "IPY_MODEL_96dd04b282a44c25a55bc5160b612842",
       "value": "0, 0, 0, 0, 0, 0"
      }
     },
     "20549a635c914629aef8d50a54fbc80d": {
      "model_module": "@jupyter-widgets/controls",
      "model_module_version": "1.5.0",
      "model_name": "DescriptionStyleModel",
      "state": {
       "description_width": ""
      }
     },
     "20994af2b50c468f811372f8d9ea2771": {
      "model_module": "@jupyter-widgets/base",
      "model_module_version": "1.2.0",
      "model_name": "LayoutModel",
      "state": {}
     },
     "20e1b5b572084489b3ba2dbfa9e72ccb": {
      "model_module": "@jupyter-widgets/controls",
      "model_module_version": "1.5.0",
      "model_name": "HTMLModel",
      "state": {
       "layout": "IPY_MODEL_862e772513114cbb83de7c7bf7a1dca9",
       "placeholder": "",
       "style": "IPY_MODEL_cd6e93b1b97b417384ded0b80a0b6475",
       "value": "<span style=\"margin-left:10px; color:black;\">No file selected</span>"
      }
     },
     "2178346c848a41918a85f86a79671f77": {
      "model_module": "@jupyter-widgets/base",
      "model_module_version": "1.2.0",
      "model_name": "LayoutModel",
      "state": {}
     },
     "2185d13e0db74d2b822ad8b5b8e41ce7": {
      "model_module": "@jupyter-widgets/controls",
      "model_module_version": "1.5.0",
      "model_name": "DescriptionStyleModel",
      "state": {
       "description_width": "initial"
      }
     },
     "21cb1dbfb67542c99653bd25dc29342b": {
      "model_module": "@jupyter-widgets/controls",
      "model_module_version": "1.5.0",
      "model_name": "FloatTextModel",
      "state": {
       "description": "Minimum depth (m)",
       "layout": "IPY_MODEL_5a3f6e60665f4b5ea4ad3b13429c86ee",
       "step": null,
       "style": "IPY_MODEL_335b00b6bc7f403abe4ce170cb6a8a37",
       "value": 500
      }
     },
     "223584dfdeaa4da3b87379ba4f615ce9": {
      "model_module": "@jupyter-widgets/base",
      "model_module_version": "1.2.0",
      "model_name": "LayoutModel",
      "state": {}
     },
     "2239bccc79cd4702ba8419b5985a3e64": {
      "model_module": "@jupyter-widgets/controls",
      "model_module_version": "1.5.0",
      "model_name": "DropdownModel",
      "state": {
       "_options_labels": [
        "tmi",
        "bxx",
        "bxy",
        "bxz",
        "byy",
        "byz",
        "bzz"
       ],
       "index": 0,
       "layout": "IPY_MODEL_cd743dd8bbd54af882dc7e07d06c3341",
       "style": "IPY_MODEL_3eafa604226c4e418e27c235a918eeda"
      }
     },
     "22595caa1c904eb4adb476eb1cfd485e": {
      "model_module": "@jupyter-widgets/base",
      "model_module_version": "1.2.0",
      "model_name": "LayoutModel",
      "state": {
       "width": "auto"
      }
     },
     "227dab0b10dd4558bd0107e3ec6df801": {
      "model_module": "@jupyter-widgets/controls",
      "model_module_version": "1.5.0",
      "model_name": "VBoxModel",
      "state": {
       "children": [
        "IPY_MODEL_91665763b7d741d789b67cc6dd47ec6e",
        "IPY_MODEL_5f1de023d736418589493c1a8f59ccd6"
       ],
       "layout": "IPY_MODEL_afec6cd7fb674c699d5f48a7e5fb900e"
      }
     },
     "2289e7f52ffe49298cdfa0cae30cf0ea": {
      "model_module": "@jupyter-widgets/controls",
      "model_module_version": "1.5.0",
      "model_name": "HBoxModel",
      "state": {
       "children": [
        "IPY_MODEL_3865abe64a864a2bafbf8856cdd73be7",
        "IPY_MODEL_fece6b1dbaeb47cca40812cd6798ea5c"
       ],
       "layout": "IPY_MODEL_a4fd4499c4654220a4f1f55eb5e4ba23"
      }
     },
     "230dd943287a4d59a6c1298862f56488": {
      "model_module": "@jupyter-widgets/controls",
      "model_module_version": "1.5.0",
      "model_name": "DescriptionStyleModel",
      "state": {
       "description_width": ""
      }
     },
     "23374d9db6054febb83ff507c2739ec2": {
      "model_module": "@jupyter-widgets/controls",
      "model_module_version": "1.5.0",
      "model_name": "VBoxModel",
      "state": {
       "children": [
        "IPY_MODEL_f53e164be9ba49e38ddc8765ae5b800c",
        "IPY_MODEL_e377f597db1c4b8dafe222fe476034d4"
       ],
       "layout": "IPY_MODEL_c6a654558fe94189b97fc3892d53bd95"
      }
     },
     "23386f1d3f3e4c6f9efcdbe91c579256": {
      "model_module": "@jupyter-widgets/controls",
      "model_module_version": "1.5.0",
      "model_name": "DescriptionStyleModel",
      "state": {
       "description_width": ""
      }
     },
     "234524dd2a61419f90260c04faf392ae": {
      "model_module": "@jupyter-widgets/controls",
      "model_module_version": "1.5.0",
      "model_name": "VBoxModel",
      "state": {
       "children": [
        "IPY_MODEL_7be8e50958034e83ae02884c5aea2139",
        "IPY_MODEL_f87ca2ebb11747419c52bfeb1098fcbe"
       ],
       "layout": "IPY_MODEL_676939e283ab428389d5a0c5ba911cac"
      }
     },
     "235e393119fe4109b2202291c4a2abd1": {
      "model_module": "@jupyter-widgets/controls",
      "model_module_version": "1.5.0",
      "model_name": "ButtonStyleModel",
      "state": {}
     },
     "237499dbbe424c449d397297ac01766c": {
      "model_module": "@jupyter-widgets/controls",
      "model_module_version": "1.5.0",
      "model_name": "HBoxModel",
      "state": {
       "children": [
        "IPY_MODEL_405602754cce4803846a11b599d49c73",
        "IPY_MODEL_974f9b80cab547c29c2667380b988fd0"
       ],
       "layout": "IPY_MODEL_c8713eb97677428fbad84a4af1ecccea"
      }
     },
     "23fa66521d194ba8ace5aa9f18015305": {
      "model_module": "@jupyter-widgets/controls",
      "model_module_version": "1.5.0",
      "model_name": "HBoxModel",
      "state": {
       "children": [
        "IPY_MODEL_7e0aa9f442104ad1a3446f936dc15f37",
        "IPY_MODEL_1745880839b84b97bf0f865f1be77f16",
        "IPY_MODEL_716b33e81c4c4e088a36e0f30c6b9428"
       ],
       "layout": "IPY_MODEL_2e2366fd34ac46baa686d8a46c60ef20"
      }
     },
     "2402a92de0cb4ef995c5e4c8f5130e3f": {
      "model_module": "@jupyter-widgets/controls",
      "model_module_version": "1.5.0",
      "model_name": "GridBoxModel",
      "state": {
       "children": [
        "IPY_MODEL_fe773c196dd44d63a4c4a92bcb4e141b",
        "IPY_MODEL_890af09d9d354112bc7221a83e69e91e",
        "IPY_MODEL_99207a3a9d144f08b57ade0a957c8801"
       ],
       "layout": "IPY_MODEL_9cdaa127ef1e482caef340485634feb7"
      }
     },
     "249b3d40868e4eb5b4f5e49b98954c92": {
      "model_module": "@jupyter-widgets/controls",
      "model_module_version": "1.5.0",
      "model_name": "TextModel",
      "state": {
       "layout": "IPY_MODEL_34740acbe45745c99d01d39728aa662d",
       "placeholder": "output filename",
       "style": "IPY_MODEL_9d79d60e7ea94d8bb1a4083295bc6bd2"
      }
     },
     "24e725f55d9e4a48bcb0ef197cdc12b6": {
      "model_module": "@jupyter-widgets/base",
      "model_module_version": "1.2.0",
      "model_name": "LayoutModel",
      "state": {
       "grid_area": "dircontent",
       "width": "auto"
      }
     },
     "252561a012c845bcbe07a4f7aef68e47": {
      "model_module": "@jupyter-widgets/base",
      "model_module_version": "1.2.0",
      "model_name": "LayoutModel",
      "state": {
       "width": "auto"
      }
     },
     "253f845155c44c738950a7e81ec0f6ee": {
      "model_module": "@jupyter-widgets/controls",
      "model_module_version": "1.5.0",
      "model_name": "DescriptionStyleModel",
      "state": {
       "description_width": ""
      }
     },
     "2583f7eb036f4825a859c952612990fb": {
      "model_module": "@jupyter-widgets/base",
      "model_module_version": "1.2.0",
      "model_name": "LayoutModel",
      "state": {
       "grid_area": "dircontent",
       "width": "auto"
      }
     },
     "25ef5a3d69534602bc980cdae0afeb15": {
      "model_module": "@jupyter-widgets/controls",
      "model_module_version": "1.5.0",
      "model_name": "HTMLModel",
      "state": {
       "layout": "IPY_MODEL_182a7d5de3af4a8ea0947770b325ba87",
       "style": "IPY_MODEL_81114ef56b644dca9594945e27e9b760"
      }
     },
     "260bc2e864414c81b934fc0b9013b5b6": {
      "model_module": "@jupyter-widgets/controls",
      "model_module_version": "1.5.0",
      "model_name": "VBoxModel",
      "state": {
       "children": [
        "IPY_MODEL_93c22597e14145d9a44e036ce00b9da8",
        "IPY_MODEL_753e4123ad4d48da81d542a36d7fe3ab",
        "IPY_MODEL_60dacb8986714ffa8fe71524618b135d"
       ],
       "layout": "IPY_MODEL_d222ab79a7e04bc185bebf691d7e4ad7"
      }
     },
     "261a1264a493486db56de4898b48e15d": {
      "model_module": "@jupyter-widgets/controls",
      "model_module_version": "1.5.0",
      "model_name": "GridBoxModel",
      "state": {
       "children": [
        "IPY_MODEL_2c336319900c4195a6945b82250b9748",
        "IPY_MODEL_ab20437676b74ee092c324edeba0a04c",
        "IPY_MODEL_6e7261150b894bc5b48ce3f63d55be29"
       ],
       "layout": "IPY_MODEL_feb5fc384ba14fe7a75225f536e16d44"
      }
     },
     "2628f287de674f538ebc22902a5fa58b": {
      "model_module": "@jupyter-widgets/base",
      "model_module_version": "1.2.0",
      "model_name": "LayoutModel",
      "state": {}
     },
     "264868711e794163a750b2bfcc28ca30": {
      "model_module": "@jupyter-widgets/controls",
      "model_module_version": "1.5.0",
      "model_name": "DescriptionStyleModel",
      "state": {
       "description_width": ""
      }
     },
     "264b2ce0a7ac474da1ed83193fa30d1a": {
      "model_module": "@jupyter-widgets/base",
      "model_module_version": "1.2.0",
      "model_name": "LayoutModel",
      "state": {
       "visibility": "hidden"
      }
     },
     "264f2db623894e39a3f9522d74fcbacf": {
      "model_module": "@jupyter-widgets/base",
      "model_module_version": "1.2.0",
      "model_name": "LayoutModel",
      "state": {
       "display": "none",
       "grid_area": "filename",
       "width": "auto"
      }
     },
     "26cd13cb82d7487d81d20fbe6817f28b": {
      "model_module": "@jupyter-widgets/controls",
      "model_module_version": "1.5.0",
      "model_name": "DescriptionStyleModel",
      "state": {
       "description_width": ""
      }
     },
     "272551977d1d478686fb8c9d037ef7f6": {
      "model_module": "@jupyter-widgets/controls",
      "model_module_version": "1.5.0",
      "model_name": "ButtonModel",
      "state": {
       "description": "Select",
       "layout": "IPY_MODEL_0fee7a9736b84d2b88e78201451c238e",
       "style": "IPY_MODEL_4c8c5f32bd41446c98c288a5a248457e"
      }
     },
     "274263681a2c48aca19decc73c7260f0": {
      "model_module": "@jupyter-widgets/controls",
      "model_module_version": "1.5.0",
      "model_name": "ToggleButtonModel",
      "state": {
       "layout": "IPY_MODEL_17a7cf63baf9490db611399fc31df150",
       "style": "IPY_MODEL_8100e80cc53f4aa2ade65a4355ec4d90"
      }
     },
     "27432df66d6240c2bdac5cc679ef8235": {
      "model_module": "@jupyter-widgets/controls",
      "model_module_version": "1.5.0",
      "model_name": "DescriptionStyleModel",
      "state": {
       "description_width": ""
      }
     },
     "2750098e55ab464b84736aed1ee207f6": {
      "model_module": "@jupyter-widgets/controls",
      "model_module_version": "1.5.0",
      "model_name": "DescriptionStyleModel",
      "state": {
       "description_width": "initial"
      }
     },
     "27729ad36e414562895e0ce6193c0556": {
      "model_module": "@jupyter-widgets/base",
      "model_module_version": "1.2.0",
      "model_name": "LayoutModel",
      "state": {}
     },
     "27ca47ea6d2c4723969bd47046a315e4": {
      "model_module": "@jupyter-widgets/controls",
      "model_module_version": "1.5.0",
      "model_name": "ToggleButtonModel",
      "state": {
       "layout": "IPY_MODEL_188f8c5e694047b88f81a48403453791",
       "style": "IPY_MODEL_2f38ffbf1ab24c02a276725c4b1b9858",
       "value": true
      }
     },
     "27cdacb959d8428abcd664a840625106": {
      "model_module": "@jupyter-widgets/controls",
      "model_module_version": "1.5.0",
      "model_name": "DescriptionStyleModel",
      "state": {
       "description_width": "initial"
      }
     },
     "280c7d075cf64436a0c5a2ff76f85fbd": {
      "model_module": "@jupyter-widgets/base",
      "model_module_version": "1.2.0",
      "model_name": "LayoutModel",
      "state": {}
     },
     "280ca8ef3c4946648e1acfb0f62cb920": {
      "model_module": "@jupyter-widgets/base",
      "model_module_version": "1.2.0",
      "model_name": "LayoutModel",
      "state": {}
     },
     "287a798bb9a74cdebdf57de1861a47c7": {
      "model_module": "@jupyter-widgets/base",
      "model_module_version": "1.2.0",
      "model_name": "LayoutModel",
      "state": {}
     },
     "28bb69136c60403f98d11501651381a0": {
      "model_module": "@jupyter-widgets/controls",
      "model_module_version": "1.5.0",
      "model_name": "DescriptionStyleModel",
      "state": {
       "description_width": "initial"
      }
     },
     "28f974835f6b4b198177ca9418a3599f": {
      "model_module": "@jupyter-widgets/controls",
      "model_module_version": "1.5.0",
      "model_name": "ButtonStyleModel",
      "state": {}
     },
     "2965df6a95254258ae14b6857435bfbf": {
      "model_module": "@jupyter-widgets/controls",
      "model_module_version": "1.5.0",
      "model_name": "HTMLModel",
      "state": {
       "layout": "IPY_MODEL_36b5498b6fd249629a53a2b8e712de73",
       "style": "IPY_MODEL_51a9ec16a7044461889417deed1a34bd"
      }
     },
     "29b05136245c4a499f07973b5428295d": {
      "model_module": "@jupyter-widgets/controls",
      "model_module_version": "1.5.0",
      "model_name": "HTMLModel",
      "state": {
       "layout": "IPY_MODEL_f3d18535214e4451b83446dd39341104",
       "placeholder": "",
       "style": "IPY_MODEL_ba34be981d4d41b99fff7eb43036c1c8",
       "value": "<span style=\"margin-left:10px; color:orange;\">C:\\Users\\dominiquef\\Documents\\GIT\\mira\\mirageoscience-apps\\assets\\FlinFlon.geoh5</span>"
      }
     },
     "2a504351b49e4c4f89d354ff9a391170": {
      "model_module": "@jupyter-widgets/controls",
      "model_module_version": "1.5.0",
      "model_name": "DropdownModel",
      "state": {
       "_options_labels": [
        "",
        "fault_splay1",
        "fault_Cliff_Lake",
        "fault_Other_FlinFlon",
        "fault_Club_Lake_splay",
        "fault_Catherine_splay2",
        "fault_Birch_View",
        "fault_Dion_Lake",
        "fault_FlinFlon_splay",
        "fault_West_Mandy_Road",
        "fault_Channing",
        "fault_Ross_Lake",
        "fault_Louis_Hidden",
        "fault_Lake_View_thrust",
        "contact_Schist_Lake",
        "fault_Burley_Lake",
        "fault_Dion_Lake_splay",
        "fault_Green_Lake",
        "fault_FlinFlon",
        "fault_Catherine_splay1",
        "fault_East_Mandy_Road",
        "fault_Other_FlinFlon_South",
        "fault_Catherine_splay4",
        "contact_Stitt_Island",
        "fault_Club_Lake",
        "fault_Tailing_Pond",
        "35_Hidden_Reservoir_Hr5",
        "29_Hidden_Reservoir_Hr1a",
        "60_BlueLagoon_Fb2",
        "20_FlinFlon_Undivided_Int_Dykes_D2f",
        "04_Boundary_Intrusive_S4h",
        "53_Millrock_Rhyolite_Fm4b",
        "19_FlinFlon_Undivided_Int_Dykes_D2b",
        "18_FlinFlon_Undivided_Int_Dykes_777_D2b",
        "06_Phantom_Lake_Intrusive_S3a",
        "21_FlinFlon_Undivided_Int_Dykes_D3a",
        "43_Millrock_CHLSH_South",
        "56_Millrock_Basalt_Fm1ba",
        "17_FlinFlon_Undivided_Int_Dykes_D2",
        "32_Hidden_Reservoir_Hr1b_SW",
        "11_Missi_M3_NE",
        "13_Missi_M1",
        "07_Annabel_Granitoid_S1",
        "45_Millrock_Gabbro_South",
        "01_Late_Intrusive_S5b",
        "31_Hidden_Reservoir_Hr1c_SW",
        "52_Millrock_Rhyolite_Fm4_West_check",
        "55_Millrock_Basalt_Fm1bf",
        "34_Hidden_Reservoir_Hr2b",
        "03_Boundary_Intrusive_S4b",
        "42_Millrock_CHLSH_North",
        "26_Louis_L3",
        "23_FlinFlon_Undivided_Int_Felsic_D4g",
        "30_Hidden_Reservoir_Hr1b",
        "59_BlueLagoon_Fb3",
        "49_Millrock_MVR_Fm5d",
        "44_Millrock_Gabbro_North",
        "27_Hidden_Carlisle_Hc4",
        "22_FlinFlon_Undivided_Int_Felsic_D4e",
        "02_Boundary_Intrusive_S4a",
        "61_BlueLagoon_Fb1_NW",
        "05_Boundary_Intrusive_S4g",
        "39_Ore_Callinan",
        "38_Ore_Dan_Owens",
        "40_Ore_FlinFlon",
        "Inversion_VTEM_Model",
        "Gravity_Magnetics_drape60m",
        "CDI_VTEM_model",
        "Data_FEM_pseudo3D",
        "O2O_Interp_25m",
        "geochem",
        "Inversion_DIGHEM_Model",
        "Topography",
        "Data_TEM_pseudo3D"
       ],
       "description": "Object:",
       "index": 0,
       "layout": "IPY_MODEL_adff56da7c624645bcb17cba4684708c",
       "style": "IPY_MODEL_26cd13cb82d7487d81d20fbe6817f28b"
      }
     },
     "2a6d56b026af4e80ae8ff9f242c1ff48": {
      "model_module": "@jupyter-widgets/controls",
      "model_module_version": "1.5.0",
      "model_name": "HTMLModel",
      "state": {
       "layout": "IPY_MODEL_da8ef3edd31041398416e03593ab349d",
       "style": "IPY_MODEL_78f720386a204c248a3022f928301ea0"
      }
     },
     "2a91402a07a54b0789068ca7c6674429": {
      "model_module": "@jupyter-widgets/controls",
      "model_module_version": "1.5.0",
      "model_name": "VBoxModel",
      "state": {
       "children": [
        "IPY_MODEL_4ca5ee1c72854e2abeec99910875fd94",
        "IPY_MODEL_343d650fb1d444bdbc411088819d02c8",
        "IPY_MODEL_f21bc8fbae8b4946818f94c163e5673f",
        "IPY_MODEL_ef1ec62a161641a5aa5f3ce26b0aeacd",
        "IPY_MODEL_54bee32e7ac14803a6ad721928db2353"
       ],
       "layout": "IPY_MODEL_bfcaecf1f97744f899062797625fe69b"
      }
     },
     "2ab92b53d1854c84bda6345af1c08302": {
      "model_module": "@jupyter-widgets/base",
      "model_module_version": "1.2.0",
      "model_name": "LayoutModel",
      "state": {}
     },
     "2acad0075cb342f2ae132539766fd77a": {
      "model_module": "@jupyter-widgets/controls",
      "model_module_version": "1.5.0",
      "model_name": "TextModel",
      "state": {
       "description": "Offsets (x,y,z)",
       "layout": "IPY_MODEL_e4c4979da0054eef81e47c2889e744ac",
       "style": "IPY_MODEL_f13b5e75d79e4d44a753ef54fd4cfbfe",
       "value": "0, 0, 0"
      }
     },
     "2ad3829711bd4dc6877262167c9535e1": {
      "model_module": "@jupyter-widgets/base",
      "model_module_version": "1.2.0",
      "model_name": "LayoutModel",
      "state": {}
     },
     "2b0dacd74065456db653e2684c88b8f3": {
      "model_module": "@jupyter-widgets/base",
      "model_module_version": "1.2.0",
      "model_name": "LayoutModel",
      "state": {}
     },
     "2b9e7241381b4d268431e24948450b84": {
      "model_module": "@jupyter-widgets/controls",
      "model_module_version": "1.5.0",
      "model_name": "DescriptionStyleModel",
      "state": {
       "description_width": ""
      }
     },
     "2bae56d6dd774503b6538d15d57b0f21": {
      "model_module": "@jupyter-widgets/controls",
      "model_module_version": "1.5.0",
      "model_name": "DescriptionStyleModel",
      "state": {
       "description_width": ""
      }
     },
     "2bb3accb68664db6a4ff779651c80965": {
      "model_module": "@jupyter-widgets/controls",
      "model_module_version": "1.5.0",
      "model_name": "ButtonStyleModel",
      "state": {}
     },
     "2c0736eec82d4be4940688af5f5f0f71": {
      "model_module": "@jupyter-widgets/controls",
      "model_module_version": "1.5.0",
      "model_name": "DescriptionStyleModel",
      "state": {
       "description_width": ""
      }
     },
     "2c298fe615234d1e9b9c4ea0d544c1d1": {
      "model_module": "@jupyter-widgets/controls",
      "model_module_version": "1.5.0",
      "model_name": "DropdownModel",
      "state": {
       "_options_labels": [
        "C:\\Users\\dominiquef\\Documents\\GIT\\mira\\mirageoscience-apps\\docs\\content\\applications",
        "C:\\Users\\dominiquef\\Documents\\GIT\\mira\\mirageoscience-apps\\docs\\content",
        "C:\\Users\\dominiquef\\Documents\\GIT\\mira\\mirageoscience-apps\\docs",
        "C:\\Users\\dominiquef\\Documents\\GIT\\mira\\mirageoscience-apps",
        "C:\\Users\\dominiquef\\Documents\\GIT\\mira",
        "C:\\Users\\dominiquef\\Documents\\GIT",
        "C:\\Users\\dominiquef\\Documents",
        "C:\\Users\\dominiquef",
        "C:\\Users",
        "C:\\",
        "D:\\",
        "Z:\\"
       ],
       "index": 0,
       "layout": "IPY_MODEL_e39b63c6c7254cdb98db13e326f3c58e",
       "style": "IPY_MODEL_fdf1dbdd494d4b50a624b88efc9eb872"
      }
     },
     "2c336319900c4195a6945b82250b9748": {
      "model_module": "@jupyter-widgets/controls",
      "model_module_version": "1.5.0",
      "model_name": "DropdownModel",
      "state": {
       "_options_labels": [
        "C:\\Users\\dominiquef\\Documents\\GIT\\mira\\mirageoscience-apps\\docs\\content\\applications",
        "C:\\Users\\dominiquef\\Documents\\GIT\\mira\\mirageoscience-apps\\docs\\content",
        "C:\\Users\\dominiquef\\Documents\\GIT\\mira\\mirageoscience-apps\\docs",
        "C:\\Users\\dominiquef\\Documents\\GIT\\mira\\mirageoscience-apps",
        "C:\\Users\\dominiquef\\Documents\\GIT\\mira",
        "C:\\Users\\dominiquef\\Documents\\GIT",
        "C:\\Users\\dominiquef\\Documents",
        "C:\\Users\\dominiquef",
        "C:\\Users",
        "C:\\",
        "D:\\",
        "Z:\\"
       ],
       "index": 0,
       "layout": "IPY_MODEL_534beb3f3c9e488ea286ac337a8611fb",
       "style": "IPY_MODEL_52a9e4817d1e463aaf9c40cc8791c724"
      }
     },
     "2c548181115e458289edc8b75da2fa96": {
      "model_module": "@jupyter-widgets/base",
      "model_module_version": "1.2.0",
      "model_name": "LayoutModel",
      "state": {
       "grid_area": "dircontent",
       "width": "auto"
      }
     },
     "2c9ed306d04d4bcea5ce83df7c6dbb01": {
      "model_module": "@jupyter-widgets/controls",
      "model_module_version": "1.5.0",
      "model_name": "SliderStyleModel",
      "state": {
       "description_width": ""
      }
     },
     "2cdeb660711b4b43be7e27c3d2aed6da": {
      "model_module": "@jupyter-widgets/controls",
      "model_module_version": "1.5.0",
      "model_name": "ButtonModel",
      "state": {
       "description": "Change",
       "layout": "IPY_MODEL_4676d91f0fde4bbabf45a7079cb20b85",
       "style": "IPY_MODEL_28f974835f6b4b198177ca9418a3599f"
      }
     },
     "2cf47057450146618a93d5fa2ec780a7": {
      "model_module": "@jupyter-widgets/controls",
      "model_module_version": "1.5.0",
      "model_name": "VBoxModel",
      "state": {
       "children": [
        "IPY_MODEL_edf0743140b442438b15016df7a89208",
        "IPY_MODEL_d745e7ae03f4476bb8de8b0ba319bea1"
       ],
       "layout": "IPY_MODEL_6716393eb97e45e899e0f79399bb0137"
      }
     },
     "2d230af063904fe8b73ec4488d2f8597": {
      "model_module": "@jupyter-widgets/controls",
      "model_module_version": "1.5.0",
      "model_name": "DescriptionStyleModel",
      "state": {
       "description_width": ""
      }
     },
     "2de172a15e8b4840981a0cacd1c4a33f": {
      "model_module": "@jupyter-widgets/controls",
      "model_module_version": "1.5.0",
      "model_name": "DropdownModel",
      "state": {
       "_options_labels": [
        "C:\\Users\\dominiquef\\Documents\\GIT\\mira\\mirageoscience-apps\\docs\\content\\applications",
        "C:\\Users\\dominiquef\\Documents\\GIT\\mira\\mirageoscience-apps\\docs\\content",
        "C:\\Users\\dominiquef\\Documents\\GIT\\mira\\mirageoscience-apps\\docs",
        "C:\\Users\\dominiquef\\Documents\\GIT\\mira\\mirageoscience-apps",
        "C:\\Users\\dominiquef\\Documents\\GIT\\mira",
        "C:\\Users\\dominiquef\\Documents\\GIT",
        "C:\\Users\\dominiquef\\Documents",
        "C:\\Users\\dominiquef",
        "C:\\Users",
        "C:\\",
        "D:\\",
        "Z:\\"
       ],
       "index": 0,
       "layout": "IPY_MODEL_9da80574d5d04a6cacf38620f3a625a9",
       "style": "IPY_MODEL_133a4fdccb99491eac76d23e9b8f7d6b"
      }
     },
     "2e07a23438744f2a9a6043d352cbe64b": {
      "model_module": "@jupyter-widgets/base",
      "model_module_version": "1.2.0",
      "model_name": "LayoutModel",
      "state": {}
     },
     "2e1bb2697c1d43a3b3f339e325e9a660": {
      "model_module": "@jupyter-widgets/base",
      "model_module_version": "1.2.0",
      "model_name": "LayoutModel",
      "state": {}
     },
     "2e2366fd34ac46baa686d8a46c60ef20": {
      "model_module": "@jupyter-widgets/base",
      "model_module_version": "1.2.0",
      "model_name": "LayoutModel",
      "state": {
       "width": "auto"
      }
     },
     "2e303d0eb5064dd58c51cca1acec1268": {
      "model_module": "@jupyter-widgets/controls",
      "model_module_version": "1.5.0",
      "model_name": "VBoxModel",
      "state": {
       "children": [
        "IPY_MODEL_e8e08cbaefa8494b8c38a391fdb463f0",
        "IPY_MODEL_ccaa08e680084d978c15b385a6ac50bc"
       ],
       "layout": "IPY_MODEL_d3f083183de3427b81fd5a45af5338d5"
      }
     },
     "2e65e9bccbe04ea68d750b0c06afa098": {
      "model_module": "@jupyter-widgets/controls",
      "model_module_version": "1.5.0",
      "model_name": "GridBoxModel",
      "state": {
       "children": [
        "IPY_MODEL_2de172a15e8b4840981a0cacd1c4a33f",
        "IPY_MODEL_d56cafeb119144599b6820fb4336858b",
        "IPY_MODEL_378d3a18feb54faa875c3307dc02e14b"
       ],
       "layout": "IPY_MODEL_72429aaf7d114c76ba2ae3972ca16253"
      }
     },
     "2e733e52f51e442485d354213db32b68": {
      "model_module": "@jupyter-widgets/controls",
      "model_module_version": "1.5.0",
      "model_name": "DescriptionStyleModel",
      "state": {
       "description_width": ""
      }
     },
     "2f15bb46b0844fda81eaedb57d57bdc3": {
      "model_module": "@jupyter-widgets/base",
      "model_module_version": "1.2.0",
      "model_name": "LayoutModel",
      "state": {}
     },
     "2f38ffbf1ab24c02a276725c4b1b9858": {
      "model_module": "@jupyter-widgets/controls",
      "model_module_version": "1.5.0",
      "model_name": "DescriptionStyleModel",
      "state": {
       "description_width": ""
      }
     },
     "2fc5ca7e8c4f41ebbc363f7ea7de136b": {
      "model_module": "@jupyter-widgets/base",
      "model_module_version": "1.2.0",
      "model_name": "LayoutModel",
      "state": {}
     },
     "2fd5a7a9338b4a779db53ba4f03a7abd": {
      "model_module": "@jupyter-widgets/base",
      "model_module_version": "1.2.0",
      "model_name": "LayoutModel",
      "state": {}
     },
     "302bd9ab5367452eae5ea413e894d06b": {
      "model_module": "@jupyter-widgets/controls",
      "model_module_version": "1.5.0",
      "model_name": "DescriptionStyleModel",
      "state": {
       "description_width": "initial"
      }
     },
     "303796c67cbe4712a6b37f9c0b9c8e85": {
      "model_module": "@jupyter-widgets/base",
      "model_module_version": "1.2.0",
      "model_name": "LayoutModel",
      "state": {}
     },
     "3052cf4cb6be4789a97a6c51c96cd04a": {
      "model_module": "@jupyter-widgets/base",
      "model_module_version": "1.2.0",
      "model_name": "LayoutModel",
      "state": {
       "display": "none"
      }
     },
     "30f4309e8b23494f9dc1ca4f218326b5": {
      "model_module": "@jupyter-widgets/base",
      "model_module_version": "1.2.0",
      "model_name": "LayoutModel",
      "state": {}
     },
     "311f63dae73447bc81835899b58f3e87": {
      "model_module": "@jupyter-widgets/controls",
      "model_module_version": "1.5.0",
      "model_name": "DescriptionStyleModel",
      "state": {
       "description_width": "initial"
      }
     },
     "3124ff05f1474d4c9513cc8d60cfdf41": {
      "model_module": "@jupyter-widgets/controls",
      "model_module_version": "1.5.0",
      "model_name": "DropdownModel",
      "state": {
       "_options_labels": [
        "",
        "--- Channels ---",
        "Airborne_Gxx",
        "Airborne_Gxy",
        "Airborne_Gxz",
        "Airborne_Gyy",
        "Airborne_Gyz",
        "Airborne_Gz",
        "Airborne_Gzz",
        "Airborne_TMI",
        "Ground_Gz",
        "Z"
       ],
       "description": "Radar (Optional):",
       "index": 0,
       "layout": "IPY_MODEL_2fd5a7a9338b4a779db53ba4f03a7abd",
       "style": "IPY_MODEL_28bb69136c60403f98d11501651381a0"
      }
     },
     "3128e90979c942d496edd35d2597cbb6": {
      "model_module": "@jupyter-widgets/base",
      "model_module_version": "1.2.0",
      "model_name": "LayoutModel",
      "state": {}
     },
     "314efcf7f9184920af78a9a1f43b7bdd": {
      "model_module": "@jupyter-widgets/base",
      "model_module_version": "1.2.0",
      "model_name": "LayoutModel",
      "state": {}
     },
     "321d5f9f20c44fd49ab71b1dc05ac30e": {
      "model_module": "@jupyter-widgets/controls",
      "model_module_version": "1.5.0",
      "model_name": "ButtonStyleModel",
      "state": {}
     },
     "324ef6e181a24ea6b848647072be22df": {
      "model_module": "@jupyter-widgets/base",
      "model_module_version": "1.2.0",
      "model_name": "LayoutModel",
      "state": {
       "width": "auto"
      }
     },
     "32cb1eb9a9024e38b2c6cde25a4dfc19": {
      "model_module": "@jupyter-widgets/controls",
      "model_module_version": "1.5.0",
      "model_name": "GridBoxModel",
      "state": {
       "children": [
        "IPY_MODEL_f67654a75a794c4db54d6a851cb77d18",
        "IPY_MODEL_143904a682db49e8a623007f8f66d07f",
        "IPY_MODEL_3c43331400b7436d9adbc50a402502be"
       ],
       "layout": "IPY_MODEL_73f5b4104b8849a2b18fa2d1bd252cf1"
      }
     },
     "331db94b026b4381bcb592b6a9f46b28": {
      "model_module": "@jupyter-widgets/base",
      "model_module_version": "1.2.0",
      "model_name": "LayoutModel",
      "state": {
       "display": "none",
       "width": "auto"
      }
     },
     "33236a2d3ffc41979eb3780052fad3b1": {
      "model_module": "@jupyter-widgets/controls",
      "model_module_version": "1.5.0",
      "model_name": "DescriptionStyleModel",
      "state": {
       "description_width": "initial"
      }
     },
     "335b00b6bc7f403abe4ce170cb6a8a37": {
      "model_module": "@jupyter-widgets/controls",
      "model_module_version": "1.5.0",
      "model_name": "DescriptionStyleModel",
      "state": {
       "description_width": "initial"
      }
     },
     "3381ec0ee8c7421d8e3d6a2cc7e8b58e": {
      "model_module": "@jupyter-widgets/controls",
      "model_module_version": "1.5.0",
      "model_name": "VBoxModel",
      "state": {
       "children": [
        "IPY_MODEL_62d86d8ea9c64c0e8c0a5742ddf1d100"
       ],
       "layout": "IPY_MODEL_beba3f84b03344a999640fed56929ded"
      }
     },
     "340c517b3d6447ee9b5c1f3859d244a0": {
      "model_module": "@jupyter-widgets/controls",
      "model_module_version": "1.5.0",
      "model_name": "DescriptionStyleModel",
      "state": {
       "description_width": ""
      }
     },
     "343d650fb1d444bdbc411088819d02c8": {
      "model_module": "@jupyter-widgets/controls",
      "model_module_version": "1.5.0",
      "model_name": "FloatTextModel",
      "state": {
       "description": "Smallest cell (m):",
       "layout": "IPY_MODEL_d3059001b1ab454d8f5d196a8dac715c",
       "step": null,
       "style": "IPY_MODEL_c51face6c71545fdaf0f26ddae73bcfe",
       "value": 10
      }
     },
     "34740acbe45745c99d01d39728aa662d": {
      "model_module": "@jupyter-widgets/base",
      "model_module_version": "1.2.0",
      "model_name": "LayoutModel",
      "state": {
       "grid_area": "filename",
       "width": "auto"
      }
     },
     "35551107618948b8a880908182fdb27a": {
      "model_module": "@jupyter-widgets/controls",
      "model_module_version": "1.5.0",
      "model_name": "VBoxModel",
      "state": {
       "children": [
        "IPY_MODEL_f0fd8d40179b48a8be4911d085af7ae2",
        "IPY_MODEL_ae499764683e4629ad30bc6738e6af52"
       ],
       "layout": "IPY_MODEL_7337b78b726046528bf1b8260c1cdc63"
      }
     },
     "356e92ee1f754c79a6fc97527ba18d92": {
      "model_module": "@jupyter-widgets/controls",
      "model_module_version": "1.5.0",
      "model_name": "TextModel",
      "state": {
       "disabled": true,
       "layout": "IPY_MODEL_e2506b6ee5c448558a4db472403a7c08",
       "placeholder": "output filename",
       "style": "IPY_MODEL_6be7e9b10f7142c2943dcf1e8d59a170"
      }
     },
     "3573a7dd84494fe3aed29d476b99f40c": {
      "model_module": "@jupyter-widgets/controls",
      "model_module_version": "1.5.0",
      "model_name": "HBoxModel",
      "state": {
       "children": [
        "IPY_MODEL_a969de859bab42e88c29b62f7f37aeb3",
        "IPY_MODEL_74a800ea2ab147dd921c9b85e3872214",
        "IPY_MODEL_9ef9364ad5794d529cb65a184b8a9410"
       ],
       "layout": "IPY_MODEL_ffa12db4bae34c2684a4ddcca6641286"
      }
     },
     "3588b8bbb6904b31a8f13ab0661bfb21": {
      "model_module": "@jupyter-widgets/controls",
      "model_module_version": "1.5.0",
      "model_name": "DescriptionStyleModel",
      "state": {
       "description_width": "initial"
      }
     },
     "35b6dd7151c848b2b3cdd430f7f036cc": {
      "model_module": "@jupyter-widgets/base",
      "model_module_version": "1.2.0",
      "model_name": "LayoutModel",
      "state": {
       "width": "auto"
      }
     },
     "35c304c5495b4329bcc8adf3c3687260": {
      "model_module": "@jupyter-widgets/base",
      "model_module_version": "1.2.0",
      "model_name": "LayoutModel",
      "state": {}
     },
     "36315fa32713441eb515e0751b593100": {
      "model_module": "@jupyter-widgets/controls",
      "model_module_version": "1.5.0",
      "model_name": "ButtonStyleModel",
      "state": {}
     },
     "36a22e9758b14ec490c4813e794c5443": {
      "model_module": "@jupyter-widgets/controls",
      "model_module_version": "1.5.0",
      "model_name": "DescriptionStyleModel",
      "state": {
       "description_width": ""
      }
     },
     "36b5498b6fd249629a53a2b8e712de73": {
      "model_module": "@jupyter-widgets/base",
      "model_module_version": "1.2.0",
      "model_name": "LayoutModel",
      "state": {
       "display": "none"
      }
     },
     "37060397aeb542109f0b7ca8cffc1162": {
      "model_module": "@jupyter-widgets/controls",
      "model_module_version": "1.5.0",
      "model_name": "DescriptionStyleModel",
      "state": {
       "description_width": "initial"
      }
     },
     "37630b9469f043f197bf2be8d6361b9f": {
      "model_module": "@jupyter-widgets/base",
      "model_module_version": "1.2.0",
      "model_name": "LayoutModel",
      "state": {}
     },
     "37719a614c2b477aae6f0dfa223004b3": {
      "model_module": "@jupyter-widgets/controls",
      "model_module_version": "1.5.0",
      "model_name": "VBoxModel",
      "state": {
       "children": [
        "IPY_MODEL_bf0054860db6445080857f2e016faa0d",
        "IPY_MODEL_5cf261096bd74e1b9dc32b5d4392c42c",
        "IPY_MODEL_bfef1b5eb34b483e9cdb4c7bdf2bd939"
       ],
       "layout": "IPY_MODEL_e275e4296c704bafb7dbacfb105ad8ab"
      }
     },
     "377a5b800ef64a86b6802911c124d36e": {
      "model_module": "@jupyter-widgets/controls",
      "model_module_version": "1.5.0",
      "model_name": "DescriptionStyleModel",
      "state": {
       "description_width": ""
      }
     },
     "378d3a18feb54faa875c3307dc02e14b": {
      "model_module": "@jupyter-widgets/controls",
      "model_module_version": "1.5.0",
      "model_name": "SelectModel",
      "state": {
       "_options_labels": [
        "..",
        "dask-worker-space",
        "images",
        "Untitled.ipynb",
        "base_application.ipynb",
        "calculator.ipynb",
        "clustering.ipynb",
        "contouring.ipynb",
        "coordinate_transformation.ipynb",
        "create_surface.ipynb",
        "data_interpolation.ipynb",
        "edge_detection.ipynb",
        "export.ipynb",
        "geophysical_inversion.ipynb",
        "object_data_selection.ipynb",
        "peak_finder.ipynb",
        "scatter.ipynb",
        "view_selection.ipynb"
       ],
       "index": null,
       "layout": "IPY_MODEL_0a7ae31e289947ae8ae9b20b1a331d91",
       "rows": 8,
       "style": "IPY_MODEL_1d52e657ae424358a11cc93aa3f8f82e"
      }
     },
     "381d8571f5dd4295b275069a3c028009": {
      "model_module": "@jupyter-widgets/controls",
      "model_module_version": "1.5.0",
      "model_name": "ButtonStyleModel",
      "state": {}
     },
     "382004a2970840a0b627ec64e7782a0d": {
      "model_module": "@jupyter-widgets/base",
      "model_module_version": "1.2.0",
      "model_name": "LayoutModel",
      "state": {}
     },
     "3865abe64a864a2bafbf8856cdd73be7": {
      "model_module": "@jupyter-widgets/controls",
      "model_module_version": "1.5.0",
      "model_name": "VBoxModel",
      "state": {
       "children": [
        "IPY_MODEL_2965df6a95254258ae14b6857435bfbf",
        "IPY_MODEL_2e65e9bccbe04ea68d750b0c06afa098",
        "IPY_MODEL_692afc031ec34b759c52983712b6ea5d"
       ],
       "layout": "IPY_MODEL_252561a012c845bcbe07a4f7aef68e47"
      }
     },
     "38f068207e40436a8c8d4f9025731e7e": {
      "model_module": "@jupyter-widgets/controls",
      "model_module_version": "1.5.0",
      "model_name": "SelectModel",
      "state": {
       "_options_labels": [
        "..",
        "dask-worker-space",
        "images",
        "Untitled.ipynb",
        "base_application.ipynb",
        "calculator.ipynb",
        "clustering.ipynb",
        "contouring.ipynb",
        "coordinate_transformation.ipynb",
        "create_surface.ipynb",
        "data_interpolation.ipynb",
        "edge_detection.ipynb",
        "export.ipynb",
        "geophysical_inversion.ipynb",
        "object_data_selection.ipynb",
        "peak_finder.ipynb",
        "scatter.ipynb",
        "view_selection.ipynb"
       ],
       "index": null,
       "layout": "IPY_MODEL_24e725f55d9e4a48bcb0ef197cdc12b6",
       "rows": 8,
       "style": "IPY_MODEL_0a11dcfdc07041a6a1a18324cfb2c04a"
      }
     },
     "398f0b6d93e443c7bc7f3a6ec49b481b": {
      "model_module": "@jupyter-widgets/controls",
      "model_module_version": "1.5.0",
      "model_name": "DescriptionStyleModel",
      "state": {
       "description_width": ""
      }
     },
     "3999609dd5f942e4b6da4dba4743937b": {
      "model_module": "@jupyter-widgets/controls",
      "model_module_version": "1.5.0",
      "model_name": "ButtonStyleModel",
      "state": {}
     },
     "39b2759b796349e7aa55f1ee9eb4fd01": {
      "model_module": "@jupyter-widgets/controls",
      "model_module_version": "1.5.0",
      "model_name": "DescriptionStyleModel",
      "state": {
       "description_width": ""
      }
     },
     "39b35ba1c5c34b9787ef4f4cc94bd3c7": {
      "model_module": "@jupyter-widgets/base",
      "model_module_version": "1.2.0",
      "model_name": "LayoutModel",
      "state": {
       "width": "auto"
      }
     },
     "39dac4ef005d4df88106c9afc888e50c": {
      "model_module": "@jupyter-widgets/controls",
      "model_module_version": "1.5.0",
      "model_name": "VBoxModel",
      "state": {
       "children": [
        "IPY_MODEL_1109b3c2cea34ecf825d2ca0acd35553",
        "IPY_MODEL_13d184ece3294ec8a253272eae2b0477"
       ],
       "layout": "IPY_MODEL_737941bbdd754fedb3d169858b735444"
      }
     },
     "3ade7fb13a144119ab4b53c8803c75bb": {
      "model_module": "@jupyter-widgets/base",
      "model_module_version": "1.2.0",
      "model_name": "LayoutModel",
      "state": {}
     },
     "3aef5e5b88354044bd4f7ac1f3dcbe31": {
      "model_module": "@jupyter-widgets/controls",
      "model_module_version": "1.5.0",
      "model_name": "DropdownModel",
      "state": {
       "_options_labels": [
        "C:\\Users\\dominiquef\\Documents\\GIT\\mira\\mirageoscience-apps\\docs\\content\\applications",
        "C:\\Users\\dominiquef\\Documents\\GIT\\mira\\mirageoscience-apps\\docs\\content",
        "C:\\Users\\dominiquef\\Documents\\GIT\\mira\\mirageoscience-apps\\docs",
        "C:\\Users\\dominiquef\\Documents\\GIT\\mira\\mirageoscience-apps",
        "C:\\Users\\dominiquef\\Documents\\GIT\\mira",
        "C:\\Users\\dominiquef\\Documents\\GIT",
        "C:\\Users\\dominiquef\\Documents",
        "C:\\Users\\dominiquef",
        "C:\\Users",
        "C:\\",
        "D:\\",
        "Z:\\"
       ],
       "index": 0,
       "layout": "IPY_MODEL_89cd289a38db4fbca885b293a538aef0",
       "style": "IPY_MODEL_5f478e47805744ac81253cc4439ec470"
      }
     },
     "3b10ac488ec343bcb8c199e274125946": {
      "model_module": "@jupyter-widgets/controls",
      "model_module_version": "1.5.0",
      "model_name": "DescriptionStyleModel",
      "state": {
       "description_width": ""
      }
     },
     "3b1f5cf9b7b940ffa6ba5c8261f76e6e": {
      "model_module": "@jupyter-widgets/controls",
      "model_module_version": "1.5.0",
      "model_name": "TextModel",
      "state": {
       "disabled": true,
       "layout": "IPY_MODEL_88b3e7b4302a4fefa57f0c06cfb3d360",
       "placeholder": "output filename",
       "style": "IPY_MODEL_2c0736eec82d4be4940688af5f5f0f71"
      }
     },
     "3b5cb3f977f64b7ea3e140c1d31c9331": {
      "model_module": "@jupyter-widgets/base",
      "model_module_version": "1.2.0",
      "model_name": "LayoutModel",
      "state": {
       "grid_area": "filename",
       "width": "auto"
      }
     },
     "3b64390af89c4e8a826fd8c07c8ebea3": {
      "model_module": "@jupyter-widgets/base",
      "model_module_version": "1.2.0",
      "model_name": "LayoutModel",
      "state": {}
     },
     "3b6d269c71094ef38b573422d6fc5fe5": {
      "model_module": "@jupyter-widgets/controls",
      "model_module_version": "1.5.0",
      "model_name": "ToggleButtonModel",
      "state": {
       "layout": "IPY_MODEL_b485843686db47a99780e4477551e051",
       "style": "IPY_MODEL_5f65e1d2053b42fbbfef56c3398f4bd3",
       "value": true
      }
     },
     "3b71d77ccbb244c7a7f9d403ddd6fde2": {
      "model_module": "@jupyter-widgets/base",
      "model_module_version": "1.2.0",
      "model_name": "LayoutModel",
      "state": {
       "width": "auto"
      }
     },
     "3c18081b81e04b28acecff8792d958b7": {
      "model_module": "@jupyter-widgets/controls",
      "model_module_version": "1.5.0",
      "model_name": "SliderStyleModel",
      "state": {
       "description_width": ""
      }
     },
     "3c1cb676ece647a3a54b48cce51b154b": {
      "model_module": "@jupyter-widgets/controls",
      "model_module_version": "1.5.0",
      "model_name": "DescriptionStyleModel",
      "state": {
       "description_width": ""
      }
     },
     "3c43331400b7436d9adbc50a402502be": {
      "model_module": "@jupyter-widgets/controls",
      "model_module_version": "1.5.0",
      "model_name": "SelectModel",
      "state": {
       "_options_labels": [
        "..",
        "dask-worker-space",
        "images",
        "Untitled.ipynb",
        "base_application.ipynb",
        "calculator.ipynb",
        "clustering.ipynb",
        "contouring.ipynb",
        "coordinate_transformation.ipynb",
        "create_surface.ipynb",
        "data_interpolation.ipynb",
        "edge_detection.ipynb",
        "export.ipynb",
        "geophysical_inversion.ipynb",
        "object_data_selection.ipynb",
        "peak_finder.ipynb",
        "scatter.ipynb",
        "view_selection.ipynb"
       ],
       "index": null,
       "layout": "IPY_MODEL_13eb08595eec455496e48a7f88ccbcc4",
       "rows": 8,
       "style": "IPY_MODEL_990e127f25024caca2110727d2dd525e"
      }
     },
     "3c7efe126f2040a8ba3d5bc9846d712a": {
      "model_module": "@jupyter-widgets/controls",
      "model_module_version": "1.5.0",
      "model_name": "ToggleButtonModel",
      "state": {
       "layout": "IPY_MODEL_5082b2b1e7a643619a7f37425258274e",
       "style": "IPY_MODEL_4a966fa086984f53aac08205a67ea4aa",
       "value": true
      }
     },
     "3c8d1bb459304cc1b709dcb58fc7f0a0": {
      "model_module": "@jupyter-widgets/controls",
      "model_module_version": "1.5.0",
      "model_name": "DescriptionStyleModel",
      "state": {
       "description_width": ""
      }
     },
     "3c947443d51646bc831a55baa7258d07": {
      "model_module": "@jupyter-widgets/controls",
      "model_module_version": "1.5.0",
      "model_name": "ToggleButtonModel",
      "state": {
       "button_style": "danger",
       "description": "Run SimPEG",
       "icon": "check",
       "layout": "IPY_MODEL_e1e94fda42b64fa0bc03a4b00a8c5633",
       "style": "IPY_MODEL_0dd0bce498eb4e99b9b91952d0e0cb8f"
      }
     },
     "3cf3fade9f0d49d4a5b6039a6e0b0eab": {
      "model_module": "@jupyter-widgets/controls",
      "model_module_version": "1.5.0",
      "model_name": "FloatTextModel",
      "state": {
       "description": "CG Tolerance",
       "layout": "IPY_MODEL_05d01d9703c64a02b965ad8fd22ff907",
       "step": null,
       "style": "IPY_MODEL_ee5122c18c0d416a9df0b77306981e61",
       "value": 0.001
      }
     },
     "3d43869135ed4fb0aaf4eadc72aef4ba": {
      "model_module": "@jupyter-widgets/base",
      "model_module_version": "1.2.0",
      "model_name": "LayoutModel",
      "state": {
       "grid_area": "dircontent",
       "width": "auto"
      }
     },
     "3d8247e05ea7457686e1be0a7a6b41a7": {
      "model_module": "@jupyter-widgets/base",
      "model_module_version": "1.2.0",
      "model_name": "LayoutModel",
      "state": {}
     },
     "3df4841240f44ecfaa0ebbccb0c4c2f9": {
      "model_module": "@jupyter-widgets/controls",
      "model_module_version": "1.5.0",
      "model_name": "ButtonModel",
      "state": {
       "description": "Change",
       "layout": "IPY_MODEL_72dcf84e391d4e289adf7e43656ec998",
       "style": "IPY_MODEL_75d749d433604b5b9fa4e468d8a055c6"
      }
     },
     "3e60a57fa361467aa7f58686f1fe2604": {
      "model_module": "@jupyter-widgets/base",
      "model_module_version": "1.2.0",
      "model_name": "LayoutModel",
      "state": {}
     },
     "3ea9cbb023ae43f288363502a2ee0b90": {
      "model_module": "@jupyter-widgets/controls",
      "model_module_version": "1.5.0",
      "model_name": "VBoxModel",
      "state": {
       "children": [
        "IPY_MODEL_d3de196da0fb47e0840f5285a2f71fae",
        "IPY_MODEL_7e7bbf3b1bf248aa880b8eda97ac4bc2"
       ],
       "layout": "IPY_MODEL_787b00d8feb340eca07685956c44781a"
      }
     },
     "3eafa604226c4e418e27c235a918eeda": {
      "model_module": "@jupyter-widgets/controls",
      "model_module_version": "1.5.0",
      "model_name": "DescriptionStyleModel",
      "state": {
       "description_width": ""
      }
     },
     "3f154acbb913489d84a3c999f5147b17": {
      "model_module": "@jupyter-widgets/controls",
      "model_module_version": "1.5.0",
      "model_name": "DescriptionStyleModel",
      "state": {
       "description_width": "initial"
      }
     },
     "3f4a14de1e4a4bf8a770d2e3d83bc663": {
      "model_module": "@jupyter-widgets/controls",
      "model_module_version": "1.5.0",
      "model_name": "RadioButtonsModel",
      "state": {
       "_options_labels": [
        "sensor location + (dx, dy, dz)",
        "topo + radar + (dx, dy, dz)"
       ],
       "description": "Define by:",
       "index": 1,
       "layout": "IPY_MODEL_f0ca2a7aaeb34c5480d79457450661d5",
       "style": "IPY_MODEL_3588b8bbb6904b31a8f13ab0661bfb21"
      }
     },
     "3f4dfbd7340741a2b3b682245a90ce52": {
      "model_module": "@jupyter-widgets/controls",
      "model_module_version": "1.5.0",
      "model_name": "HTMLModel",
      "state": {
       "layout": "IPY_MODEL_e67dc75f42bd40f1a83f36144a1f503b",
       "style": "IPY_MODEL_3f8d617e4b5548808d58c89ea457b199"
      }
     },
     "3f87a65ac3f444e9beec308975b5be01": {
      "model_module": "@jupyter-widgets/controls",
      "model_module_version": "1.5.0",
      "model_name": "DescriptionStyleModel",
      "state": {
       "description_width": ""
      }
     },
     "3f8a1385531a4b3ca6b657afc074d4a2": {
      "model_module": "@jupyter-widgets/base",
      "model_module_version": "1.2.0",
      "model_name": "LayoutModel",
      "state": {
       "visibility": "hidden"
      }
     },
     "3f8d617e4b5548808d58c89ea457b199": {
      "model_module": "@jupyter-widgets/controls",
      "model_module_version": "1.5.0",
      "model_name": "DescriptionStyleModel",
      "state": {
       "description_width": ""
      }
     },
     "3fb5a9d4496f4728b265d0c0fb234580": {
      "model_module": "@jupyter-widgets/controls",
      "model_module_version": "1.5.0",
      "model_name": "TextModel",
      "state": {
       "continuous_update": false,
       "description": "Group:",
       "layout": "IPY_MODEL_aea970e421fb4fcb9ba219dfcc25de5c",
       "style": "IPY_MODEL_41a9f96475e54dbbb1ea21e955b877ab"
      }
     },
     "3fdd763e74c8439fbf58764b6e97410d": {
      "model_module": "@jupyter-widgets/base",
      "model_module_version": "1.2.0",
      "model_name": "LayoutModel",
      "state": {}
     },
     "40187741690d43268f5bb9ad43475bfd": {
      "model_module": "@jupyter-widgets/base",
      "model_module_version": "1.2.0",
      "model_name": "LayoutModel",
      "state": {
       "display": "none",
       "width": "auto"
      }
     },
     "403beb30a30c42ea80e1fd43f3e37726": {
      "model_module": "@jupyter-widgets/controls",
      "model_module_version": "1.5.0",
      "model_name": "LabelModel",
      "state": {
       "layout": "IPY_MODEL_ef4c80f2914144819a17d01a9abdfa3a",
       "style": "IPY_MODEL_ba09ac224c9c40408cc26fbaa26e287e",
       "value": "Workspace"
      }
     },
     "404db630afd24f0e8df079b37d0b7bac": {
      "model_module": "@jupyter-widgets/controls",
      "model_module_version": "1.5.0",
      "model_name": "LabelModel",
      "state": {
       "layout": "IPY_MODEL_9f6c0b293e8a4dda9a7a22f6f1e5328f",
       "style": "IPY_MODEL_04bf0047c42b43de87096d013df17453",
       "value": "Background susceptibility"
      }
     },
     "405602754cce4803846a11b599d49c73": {
      "model_module": "@jupyter-widgets/controls",
      "model_module_version": "1.5.0",
      "model_name": "VBoxModel",
      "state": {
       "children": [
        "IPY_MODEL_fb12ef625b0940dea2e65dad9846d421",
        "IPY_MODEL_b0674a6267de46f9a5000b475e5d7b13",
        "IPY_MODEL_4507741d23df46b98651beea4ba0545b"
       ],
       "layout": "IPY_MODEL_17c9bd572fd04805be58853558a92758"
      }
     },
     "408aa67a6d84449f9312fd27f17b19d9": {
      "model_module": "@jupyter-widgets/controls",
      "model_module_version": "1.5.0",
      "model_name": "DescriptionStyleModel",
      "state": {
       "description_width": ""
      }
     },
     "40a94de3480f486196b4a3497a081ffd": {
      "model_module": "@jupyter-widgets/controls",
      "model_module_version": "1.5.0",
      "model_name": "DescriptionStyleModel",
      "state": {
       "description_width": ""
      }
     },
     "40d95e688cb941ee8c48272a593b48c5": {
      "model_module": "@jupyter-widgets/controls",
      "model_module_version": "1.5.0",
      "model_name": "DescriptionStyleModel",
      "state": {
       "description_width": ""
      }
     },
     "415e3e69c84b4581be482f1ccc950d9e": {
      "model_module": "@jupyter-widgets/controls",
      "model_module_version": "1.5.0",
      "model_name": "VBoxModel",
      "state": {
       "children": [
        "IPY_MODEL_37719a614c2b477aae6f0dfa223004b3",
        "IPY_MODEL_c74fc2b0cb44433fae7a4bef0bccd151",
        "IPY_MODEL_3c947443d51646bc831a55baa7258d07"
       ],
       "layout": "IPY_MODEL_1bc19c73ceaa4babb2fdd94ee783283a"
      }
     },
     "417b3753e1a044fa83eb611cf11e0afb": {
      "model_module": "@jupyter-widgets/controls",
      "model_module_version": "1.5.0",
      "model_name": "HBoxModel",
      "state": {
       "children": [
        "IPY_MODEL_a99accb98b4547b2902c41f413b34cf3",
        "IPY_MODEL_b9cc2a9c4a61466bafaf774b949be43c",
        "IPY_MODEL_ff38699b5e4b47c1b66b66b6484e9cd4"
       ],
       "layout": "IPY_MODEL_700a689034734fc59baa3e38b7a367eb"
      }
     },
     "41a89c7b4bf44d31a22d85cffb1fd67a": {
      "model_module": "@jupyter-widgets/controls",
      "model_module_version": "1.5.0",
      "model_name": "DescriptionStyleModel",
      "state": {
       "description_width": ""
      }
     },
     "41a9f96475e54dbbb1ea21e955b877ab": {
      "model_module": "@jupyter-widgets/controls",
      "model_module_version": "1.5.0",
      "model_name": "DescriptionStyleModel",
      "state": {
       "description_width": "initial"
      }
     },
     "41af265e1714464391c72595323253dd": {
      "model_module": "@jupyter-widgets/base",
      "model_module_version": "1.2.0",
      "model_name": "LayoutModel",
      "state": {}
     },
     "41b1e13e016246c09caea2e34b6aa9f1": {
      "model_module": "@jupyter-widgets/base",
      "model_module_version": "1.2.0",
      "model_name": "LayoutModel",
      "state": {}
     },
     "41b743f350f049ef89cce4d02e8ef115": {
      "model_module": "@jupyter-widgets/base",
      "model_module_version": "1.2.0",
      "model_name": "LayoutModel",
      "state": {}
     },
     "41e19623796445a58badf33a6b394078": {
      "model_module": "@jupyter-widgets/controls",
      "model_module_version": "1.5.0",
      "model_name": "ButtonStyleModel",
      "state": {}
     },
     "4242f557abcd4b43905162d4f63235c7": {
      "model_module": "@jupyter-widgets/controls",
      "model_module_version": "1.5.0",
      "model_name": "LabelModel",
      "state": {
       "layout": "IPY_MODEL_8f295330fa9642298397d8a571dd9f8c",
       "style": "IPY_MODEL_826d9d1b50034f8bb18fa37c6e83f130",
       "value": "Monitoring folder"
      }
     },
     "424fc628a45a4bb38a4247865883d8f3": {
      "model_module": "@jupyter-widgets/controls",
      "model_module_version": "1.5.0",
      "model_name": "VBoxModel",
      "state": {
       "children": [
        "IPY_MODEL_a0e1e63d601e47c887455ef82a2b1348",
        "IPY_MODEL_1c56f2e7cfc54bae9bfd1518cbf0ad0b",
        "IPY_MODEL_03d2ad2d91134950872dd4a9f3aa15ca",
        "IPY_MODEL_0a204297b9524a8d9528e47a1038fa46",
        "IPY_MODEL_2acad0075cb342f2ae132539766fd77a"
       ],
       "layout": "IPY_MODEL_da806c26bc3446c0aa402f25678fb4f5"
      }
     },
     "42711b336c514412ac068cc4c00a391b": {
      "model_module": "@jupyter-widgets/controls",
      "model_module_version": "1.5.0",
      "model_name": "CheckboxModel",
      "state": {
       "description": "Active",
       "disabled": false,
       "layout": "IPY_MODEL_e387e9fc7c7e4a449ecbab9e46ef14d2",
       "style": "IPY_MODEL_df3f174ab07944a19d4312212d5d7d54",
       "value": false
      }
     },
     "431a6bcc5c044b6691dfd1c1bd6693c6": {
      "model_module": "@jupyter-widgets/controls",
      "model_module_version": "1.5.0",
      "model_name": "DescriptionStyleModel",
      "state": {
       "description_width": "initial"
      }
     },
     "4320dfc10e034dbab571580208f01afa": {
      "model_module": "@jupyter-widgets/base",
      "model_module_version": "1.2.0",
      "model_name": "LayoutModel",
      "state": {
       "display": "none",
       "width": "auto"
      }
     },
     "436743db67f7487e8888f5eea18b3e44": {
      "model_module": "@jupyter-widgets/base",
      "model_module_version": "1.2.0",
      "model_name": "LayoutModel",
      "state": {}
     },
     "437eebc190ed42e4a5eab81c0d5f6075": {
      "model_module": "@jupyter-widgets/base",
      "model_module_version": "1.2.0",
      "model_name": "LayoutModel",
      "state": {
       "width": "auto"
      }
     },
     "43b58733abab401f8fdaf7bba069aec9": {
      "model_module": "@jupyter-widgets/controls",
      "model_module_version": "1.5.0",
      "model_name": "DescriptionStyleModel",
      "state": {
       "description_width": ""
      }
     },
     "4432f334233a434c8ee994d0c5cc5dae": {
      "model_module": "@jupyter-widgets/controls",
      "model_module_version": "1.5.0",
      "model_name": "DropdownModel",
      "state": {
       "description": "Values",
       "index": null,
       "layout": "IPY_MODEL_194bd57bee2a4839a74198c5e9a57753",
       "style": "IPY_MODEL_c250e97bd89141e89644da0b06ceef68"
      }
     },
     "44b9af5c91964a4bbb91b544ccac9988": {
      "model_module": "@jupyter-widgets/controls",
      "model_module_version": "1.5.0",
      "model_name": "DescriptionStyleModel",
      "state": {
       "description_width": ""
      }
     },
     "44c93cff241940f6834b2d61a89a954a": {
      "model_module": "@jupyter-widgets/controls",
      "model_module_version": "1.5.0",
      "model_name": "DescriptionStyleModel",
      "state": {
       "description_width": ""
      }
     },
     "44e2f440272b4ab1af86b954e2dd8752": {
      "model_module": "@jupyter-widgets/base",
      "model_module_version": "1.2.0",
      "model_name": "LayoutModel",
      "state": {}
     },
     "44f8540e3a4949eb9daf4b2d55c8e1d1": {
      "model_module": "@jupyter-widgets/controls",
      "model_module_version": "1.5.0",
      "model_name": "ToggleButtonModel",
      "state": {
       "layout": "IPY_MODEL_fa805f244ab446a9bd4b1e282b5d1846",
       "style": "IPY_MODEL_f1a99b76a71b43d0be0a971dd45b5f5f",
       "value": true
      }
     },
     "4507741d23df46b98651beea4ba0545b": {
      "model_module": "@jupyter-widgets/controls",
      "model_module_version": "1.5.0",
      "model_name": "HBoxModel",
      "state": {
       "children": [
        "IPY_MODEL_3df4841240f44ecfaa0ebbccb0c4c2f9",
        "IPY_MODEL_114e97de8dcc4fb0a0e1ba486470fa25",
        "IPY_MODEL_29b05136245c4a499f07973b5428295d"
       ],
       "layout": "IPY_MODEL_72b43baf191c47b082c9a1dd9d5bac79"
      }
     },
     "45168016ed9c4c7dae77c2cd1b353764": {
      "model_module": "@jupyter-widgets/controls",
      "model_module_version": "1.5.0",
      "model_name": "HTMLModel",
      "state": {
       "layout": "IPY_MODEL_ef3e6579effb486da28f6b4d2ad785ff",
       "placeholder": "",
       "style": "IPY_MODEL_d7388eafb60c4eb4bd7e0e179f8d2156",
       "value": "<span style=\"margin-left:10px; color:black;\">No file selected</span>"
      }
     },
     "45ac68da394149399c321c95fff07e5d": {
      "model_module": "@jupyter-widgets/controls",
      "model_module_version": "1.5.0",
      "model_name": "DescriptionStyleModel",
      "state": {
       "description_width": ""
      }
     },
     "45d376b4dd394a49b98a72b44347beb8": {
      "model_module": "@jupyter-widgets/base",
      "model_module_version": "1.2.0",
      "model_name": "LayoutModel",
      "state": {
       "display": "none",
       "grid_area": "filename",
       "width": "auto"
      }
     },
     "4605b544ef2c45dbaa51e80b1387320f": {
      "model_module": "@jupyter-widgets/controls",
      "model_module_version": "1.5.0",
      "model_name": "HTMLModel",
      "state": {
       "layout": "IPY_MODEL_ef0825198a674da3a3207eef6293e9bf",
       "placeholder": "",
       "style": "IPY_MODEL_f17b0e5b98fa407394d9f4e9f653fa3c",
       "value": "<span style=\"margin-left:10px; color:black;\">No file selected</span>"
      }
     },
     "463cfc7f13a848aaa7cfdac3b33d92ad": {
      "model_module": "@jupyter-widgets/base",
      "model_module_version": "1.2.0",
      "model_name": "LayoutModel",
      "state": {}
     },
     "4657661d83524607b9ca29e84676351a": {
      "model_module": "@jupyter-widgets/base",
      "model_module_version": "1.2.0",
      "model_name": "LayoutModel",
      "state": {}
     },
     "4676d91f0fde4bbabf45a7079cb20b85": {
      "model_module": "@jupyter-widgets/base",
      "model_module_version": "1.2.0",
      "model_name": "LayoutModel",
      "state": {
       "width": "auto"
      }
     },
     "46af6c93bae24251af878c657c5bdc1c": {
      "model_module": "@jupyter-widgets/controls",
      "model_module_version": "1.5.0",
      "model_name": "HTMLModel",
      "state": {
       "layout": "IPY_MODEL_519e4dc9c2fc4b058061d10404dc48b7",
       "style": "IPY_MODEL_44c93cff241940f6834b2d61a89a954a"
      }
     },
     "46f5d13e65cb443d8dfe7c2db5ca0648": {
      "model_module": "@jupyter-widgets/base",
      "model_module_version": "1.2.0",
      "model_name": "LayoutModel",
      "state": {}
     },
     "471cadb7371b48018744d73ca88240fa": {
      "model_module": "@jupyter-widgets/base",
      "model_module_version": "1.2.0",
      "model_name": "LayoutModel",
      "state": {}
     },
     "4763e5a8dff14019976d73aa0b029e4e": {
      "model_module": "@jupyter-widgets/controls",
      "model_module_version": "1.5.0",
      "model_name": "DescriptionStyleModel",
      "state": {
       "description_width": "initial"
      }
     },
     "47e3aafe45ad43ab8d2bbedcbd1c4c51": {
      "model_module": "@jupyter-widgets/controls",
      "model_module_version": "1.5.0",
      "model_name": "SelectModel",
      "state": {
       "_options_labels": [
        "..",
        "SimPEG_PFInversion",
        "Temp",
        "dask-worker-space",
        "Crossplot.html",
        "FlinFlon.geoh5",
        "MtDore_TMI.geoh5"
       ],
       "index": 5,
       "layout": "IPY_MODEL_6da2b2af488b48b98ef7671072bf7a51",
       "rows": 8,
       "style": "IPY_MODEL_fc36c09c3b5e4ff2b139dc5f416e77eb"
      }
     },
     "47e4ec7160194460bb8e98cbf65341ee": {
      "model_module": "@jupyter-widgets/base",
      "model_module_version": "1.2.0",
      "model_name": "LayoutModel",
      "state": {}
     },
     "482624117a074db485484f4a718bf885": {
      "model_module": "@jupyter-widgets/base",
      "model_module_version": "1.2.0",
      "model_name": "LayoutModel",
      "state": {}
     },
     "48691e9f461143849411b3aa8b05674c": {
      "model_module": "@jupyter-widgets/base",
      "model_module_version": "1.2.0",
      "model_name": "LayoutModel",
      "state": {}
     },
     "4881bc71818c454ea774de91e713062f": {
      "model_module": "@jupyter-widgets/controls",
      "model_module_version": "1.5.0",
      "model_name": "DropdownModel",
      "state": {
       "_options_labels": [
        "",
        "--- Channels ---",
        "Airborne_Gxx",
        "Airborne_Gxy",
        "Airborne_Gxz",
        "Airborne_Gyy",
        "Airborne_Gyz",
        "Airborne_Gz",
        "Airborne_Gzz",
        "Airborne_TMI",
        "Ground_Gz",
        "Z"
       ],
       "description": "Channel <=> Data:",
       "index": 11,
       "layout": "IPY_MODEL_a493512c1c6f4fe5ab1dd200a43d0adc",
       "style": "IPY_MODEL_c17295d85f0f4f959fac4c56e2f76d72"
      }
     },
     "48a93bc5d8aa4510a4484260670a6fe4": {
      "model_module": "@jupyter-widgets/controls",
      "model_module_version": "1.5.0",
      "model_name": "ButtonStyleModel",
      "state": {}
     },
     "48b746b0d0f84925b20cf8088e30ee55": {
      "model_module": "@jupyter-widgets/controls",
      "model_module_version": "1.5.0",
      "model_name": "ToggleButtonModel",
      "state": {
       "description": "Zoom on selection",
       "icon": "check",
       "layout": "IPY_MODEL_7bcd83a4c30a42f2903e343e82645237",
       "style": "IPY_MODEL_e4125272de934d70b0b3f1c76273647a",
       "tooltip": "Keep plot extent on selection",
       "value": true
      }
     },
     "48d3a2697573483492bdce259dcbc166": {
      "model_module": "@jupyter-widgets/base",
      "model_module_version": "1.2.0",
      "model_name": "LayoutModel",
      "state": {
       "width": "auto"
      }
     },
     "49341c2bcdf64ecc9fa696deab51eb18": {
      "model_module": "@jupyter-widgets/base",
      "model_module_version": "1.2.0",
      "model_name": "LayoutModel",
      "state": {}
     },
     "494178a05b0547e5b085b1b43e6dd8c1": {
      "model_module": "@jupyter-widgets/controls",
      "model_module_version": "1.5.0",
      "model_name": "DescriptionStyleModel",
      "state": {
       "description_width": ""
      }
     },
     "496b6e5569dc4372bfc414b3b33108c6": {
      "model_module": "@jupyter-widgets/controls",
      "model_module_version": "1.5.0",
      "model_name": "DescriptionStyleModel",
      "state": {
       "description_width": ""
      }
     },
     "497333e6afa24a4c99fba7cf820c1fab": {
      "model_module": "@jupyter-widgets/controls",
      "model_module_version": "1.5.0",
      "model_name": "RadioButtonsModel",
      "state": {
       "_options_labels": [
        "Estimated (%|data| + background)",
        "User input (%|data| + floor)"
       ],
       "index": 1,
       "layout": "IPY_MODEL_81fdda919f704465b94127a0f0362227",
       "style": "IPY_MODEL_c737e65192ed4f748cfd13aab7fb1196"
      }
     },
     "4995863a11444239a03a0c6fb5860acc": {
      "model_module": "@jupyter-widgets/controls",
      "model_module_version": "1.5.0",
      "model_name": "DropdownModel",
      "state": {
       "_options_labels": [
        "output name",
        "uncertainties",
        "starting model",
        "regularization",
        "upper-lower bounds",
        "mesh",
        "ignore values",
        "optimization"
       ],
       "index": 0,
       "layout": "IPY_MODEL_fe90429366f84434b654117eff680e54",
       "style": "IPY_MODEL_d329f70e0afd4f9a8abbd22ca1fdec68"
      }
     },
     "49eefdff01434a6ba23b23211d8ad336": {
      "model_module": "@jupyter-widgets/controls",
      "model_module_version": "1.5.0",
      "model_name": "TextModel",
      "state": {
       "description": "Layers below topo",
       "layout": "IPY_MODEL_1e6b2543b85d496f9889d9efcb3e8ea6",
       "style": "IPY_MODEL_37060397aeb542109f0b7ca8cffc1162",
       "value": "0, 0, 0, 2"
      }
     },
     "4a08d42c83a842d2b7bad411bd895ec1": {
      "model_module": "@jupyter-widgets/controls",
      "model_module_version": "1.5.0",
      "model_name": "DescriptionStyleModel",
      "state": {
       "description_width": "initial"
      }
     },
     "4a966fa086984f53aac08205a67ea4aa": {
      "model_module": "@jupyter-widgets/controls",
      "model_module_version": "1.5.0",
      "model_name": "DescriptionStyleModel",
      "state": {
       "description_width": ""
      }
     },
     "4a998e96cccd43ffaf94d8b1da66f4f0": {
      "model_module": "@jupyter-widgets/base",
      "model_module_version": "1.2.0",
      "model_name": "LayoutModel",
      "state": {}
     },
     "4aa10b91da32453c8eb7f91a70d313a3": {
      "model_module": "@jupyter-widgets/base",
      "model_module_version": "1.2.0",
      "model_name": "LayoutModel",
      "state": {}
     },
     "4ae9ad33da38469990ba21feecc555d2": {
      "model_module": "@jupyter-widgets/controls",
      "model_module_version": "1.5.0",
      "model_name": "TextModel",
      "state": {
       "description": "Offsets (x,y,z)",
       "layout": "IPY_MODEL_b69e19752d6044f9ab206f161282da41",
       "style": "IPY_MODEL_d2da837864fb45b09bd2b2d0c6a3697c",
       "value": "0, 0, 0"
      }
     },
     "4af303adc1ac4d998619688664b2a575": {
      "model_module": "@jupyter-widgets/base",
      "model_module_version": "1.2.0",
      "model_name": "LayoutModel",
      "state": {}
     },
     "4b1ac93b1f5945a6af511b62651222d2": {
      "model_module": "@jupyter-widgets/controls",
      "model_module_version": "1.5.0",
      "model_name": "TextModel",
      "state": {
       "description": "Error (%, floor)",
       "layout": "IPY_MODEL_8554d51d71ea469b9bc838d48e60d58f",
       "style": "IPY_MODEL_d6e6b0341d2d4981b92bc1f78d5e17db",
       "value": "0, 1"
      }
     },
     "4b4ac977f2084699bcc3e2da26d015e2": {
      "model_module": "@jupyter-widgets/controls",
      "model_module_version": "1.5.0",
      "model_name": "FloatTextModel",
      "state": {
       "description": "Air cells fill value",
       "layout": "IPY_MODEL_cce01939db3f4546b1a2823b445d3773",
       "step": null,
       "style": "IPY_MODEL_a1be86ad8530447d86b26efbf3b56191"
      }
     },
     "4b5a3119feee41dca8b713deccdbdfed": {
      "model_module": "@jupyter-widgets/controls",
      "model_module_version": "1.5.0",
      "model_name": "DescriptionStyleModel",
      "state": {
       "description_width": "initial"
      }
     },
     "4b5d81a64f82407aac0a9850f6ea155c": {
      "model_module": "@jupyter-widgets/controls",
      "model_module_version": "1.5.0",
      "model_name": "DescriptionStyleModel",
      "state": {
       "description_width": ""
      }
     },
     "4b610660519048b0995d7a0bcbe4fc37": {
      "model_module": "@jupyter-widgets/controls",
      "model_module_version": "1.5.0",
      "model_name": "HBoxModel",
      "state": {
       "children": [
        "IPY_MODEL_6da8a9047a574539a862fa99b88f71b7",
        "IPY_MODEL_d6a08d0dd7e14f87b045cd598ed9c93d",
        "IPY_MODEL_9172ba6ec8254f10a9e0e4fa394885f9"
       ],
       "layout": "IPY_MODEL_f6d0eaca0902419d838de000c676bcea"
      }
     },
     "4b687dbf441049ffa7aa17e9c56aec59": {
      "model_module": "@jupyter-widgets/base",
      "model_module_version": "1.2.0",
      "model_name": "LayoutModel",
      "state": {
       "grid_area": "pathlist",
       "width": "auto"
      }
     },
     "4b71f3e797b042ad8d3a18b01e7b21ce": {
      "model_module": "@jupyter-widgets/base",
      "model_module_version": "1.2.0",
      "model_name": "LayoutModel",
      "state": {}
     },
     "4b8a1da4782d4200889afb47aa5a9ada": {
      "model_module": "@jupyter-widgets/base",
      "model_module_version": "1.2.0",
      "model_name": "LayoutModel",
      "state": {
       "grid_area": "filename",
       "width": "auto"
      }
     },
     "4bc3737f8ff2444a835a99516db85de3": {
      "model_module": "@jupyter-widgets/controls",
      "model_module_version": "1.5.0",
      "model_name": "ButtonStyleModel",
      "state": {}
     },
     "4c4fd3aa21654b869f5d43ceaf154b94": {
      "model_module": "@jupyter-widgets/controls",
      "model_module_version": "1.5.0",
      "model_name": "VBoxModel",
      "state": {
       "children": [
        "IPY_MODEL_c2696158939c43fcbb7eeee6816917eb",
        "IPY_MODEL_4b4ac977f2084699bcc3e2da26d015e2"
       ],
       "layout": "IPY_MODEL_3b64390af89c4e8a826fd8c07c8ebea3"
      }
     },
     "4c8c5f32bd41446c98c288a5a248457e": {
      "model_module": "@jupyter-widgets/controls",
      "model_module_version": "1.5.0",
      "model_name": "ButtonStyleModel",
      "state": {}
     },
     "4c9f070f6b0d4459a3bf0197398770e9": {
      "model_module": "@jupyter-widgets/base",
      "model_module_version": "1.2.0",
      "model_name": "LayoutModel",
      "state": {}
     },
     "4ca5ee1c72854e2abeec99910875fd94": {
      "model_module": "@jupyter-widgets/controls",
      "model_module_version": "1.5.0",
      "model_name": "LabelModel",
      "state": {
       "layout": "IPY_MODEL_48691e9f461143849411b3aa8b05674c",
       "style": "IPY_MODEL_c7eb69b3ceb949f0b1d409f43cc277be",
       "value": "1D Mesh"
      }
     },
     "4cccafb453a14e408b8c65852c7cd6b1": {
      "model_module": "@jupyter-widgets/base",
      "model_module_version": "1.2.0",
      "model_name": "LayoutModel",
      "state": {
       "width": "auto"
      }
     },
     "4cf9807c21644b0094bf71eab11c84d8": {
      "model_module": "@jupyter-widgets/controls",
      "model_module_version": "1.5.0",
      "model_name": "HTMLModel",
      "state": {
       "layout": "IPY_MODEL_b082566ee71f49a6901b68bf9baf648d",
       "placeholder": "",
       "style": "IPY_MODEL_b261da8458d247b781534b106d721869",
       "value": "<span style=\"margin-left:10px; color:black;\">No file selected</span>"
      }
     },
     "4d483d3ead8d4e658f63594eed9b2aa6": {
      "model_module": "@jupyter-widgets/controls",
      "model_module_version": "1.5.0",
      "model_name": "DescriptionStyleModel",
      "state": {
       "description_width": ""
      }
     },
     "4db2c480d1b047b588f0a7429c24285f": {
      "model_module": "@jupyter-widgets/controls",
      "model_module_version": "1.5.0",
      "model_name": "FloatSliderModel",
      "state": {
       "continuous_update": false,
       "description": "Azimuth",
       "layout": "IPY_MODEL_482624117a074db485484f4a718bf885",
       "max": 90,
       "min": -90,
       "step": 0.1,
       "style": "IPY_MODEL_8b6bb66e863b4b5dba7115e73651dde2",
       "value": -20
      }
     },
     "4dd63e199547426087796a83c44b5569": {
      "model_module": "@jupyter-widgets/controls",
      "model_module_version": "1.5.0",
      "model_name": "DescriptionStyleModel",
      "state": {
       "description_width": ""
      }
     },
     "4e4b5d29c3a842e7a5e5015c97102d69": {
      "model_module": "@jupyter-widgets/base",
      "model_module_version": "1.2.0",
      "model_name": "LayoutModel",
      "state": {}
     },
     "4e552ebe76fc4f7cb0e5062ccdba7fe8": {
      "model_module": "@jupyter-widgets/controls",
      "model_module_version": "1.5.0",
      "model_name": "RadioButtonsModel",
      "state": {
       "_options_labels": [
        "Object",
        "Relative to Sensor",
        "Constant"
       ],
       "description": "Define by:",
       "index": 0,
       "layout": "IPY_MODEL_138d053680384b7eae87a882bf7d94ef",
       "style": "IPY_MODEL_408aa67a6d84449f9312fd27f17b19d9"
      }
     },
     "4e5a02bbb37448ccbeba85ac9203bec4": {
      "model_module": "@jupyter-widgets/base",
      "model_module_version": "1.2.0",
      "model_name": "LayoutModel",
      "state": {
       "width": "auto"
      }
     },
     "4efd5b8c5a8f4e299eacb1e83e1ac150": {
      "model_module": "@jupyter-widgets/base",
      "model_module_version": "1.2.0",
      "model_name": "LayoutModel",
      "state": {}
     },
     "4f13e04a4b7d4c6da32cae0112eff3ac": {
      "model_module": "@jupyter-widgets/controls",
      "model_module_version": "1.5.0",
      "model_name": "DropdownModel",
      "state": {
       "_options_labels": [
        "",
        "fault_splay1",
        "fault_Cliff_Lake",
        "fault_Other_FlinFlon",
        "fault_Club_Lake_splay",
        "fault_Catherine_splay2",
        "fault_Birch_View",
        "fault_Dion_Lake",
        "fault_FlinFlon_splay",
        "fault_West_Mandy_Road",
        "fault_Channing",
        "fault_Ross_Lake",
        "fault_Louis_Hidden",
        "fault_Lake_View_thrust",
        "contact_Schist_Lake",
        "fault_Burley_Lake",
        "fault_Dion_Lake_splay",
        "fault_Green_Lake",
        "fault_FlinFlon",
        "fault_Catherine_splay1",
        "fault_East_Mandy_Road",
        "fault_Other_FlinFlon_South",
        "fault_Catherine_splay4",
        "contact_Stitt_Island",
        "fault_Club_Lake",
        "fault_Tailing_Pond",
        "35_Hidden_Reservoir_Hr5",
        "29_Hidden_Reservoir_Hr1a",
        "60_BlueLagoon_Fb2",
        "20_FlinFlon_Undivided_Int_Dykes_D2f",
        "04_Boundary_Intrusive_S4h",
        "53_Millrock_Rhyolite_Fm4b",
        "19_FlinFlon_Undivided_Int_Dykes_D2b",
        "18_FlinFlon_Undivided_Int_Dykes_777_D2b",
        "06_Phantom_Lake_Intrusive_S3a",
        "21_FlinFlon_Undivided_Int_Dykes_D3a",
        "43_Millrock_CHLSH_South",
        "56_Millrock_Basalt_Fm1ba",
        "17_FlinFlon_Undivided_Int_Dykes_D2",
        "32_Hidden_Reservoir_Hr1b_SW",
        "11_Missi_M3_NE",
        "13_Missi_M1",
        "07_Annabel_Granitoid_S1",
        "45_Millrock_Gabbro_South",
        "01_Late_Intrusive_S5b",
        "31_Hidden_Reservoir_Hr1c_SW",
        "52_Millrock_Rhyolite_Fm4_West_check",
        "55_Millrock_Basalt_Fm1bf",
        "34_Hidden_Reservoir_Hr2b",
        "03_Boundary_Intrusive_S4b",
        "42_Millrock_CHLSH_North",
        "26_Louis_L3",
        "23_FlinFlon_Undivided_Int_Felsic_D4g",
        "30_Hidden_Reservoir_Hr1b",
        "59_BlueLagoon_Fb3",
        "49_Millrock_MVR_Fm5d",
        "44_Millrock_Gabbro_North",
        "27_Hidden_Carlisle_Hc4",
        "22_FlinFlon_Undivided_Int_Felsic_D4e",
        "02_Boundary_Intrusive_S4a",
        "61_BlueLagoon_Fb1_NW",
        "05_Boundary_Intrusive_S4g",
        "39_Ore_Callinan",
        "38_Ore_Dan_Owens",
        "40_Ore_FlinFlon",
        "Inversion_VTEM_Model",
        "Gravity_Magnetics_drape60m",
        "CDI_VTEM_model",
        "Data_FEM_pseudo3D",
        "O2O_Interp_25m",
        "geochem",
        "Inversion_DIGHEM_Model",
        "Topography",
        "Data_TEM_pseudo3D"
       ],
       "description": "Object:",
       "index": 0,
       "layout": "IPY_MODEL_083670e71af6419ba48de593c11763c5",
       "style": "IPY_MODEL_9f54bb7c8c944f629aff03c1cad97420"
      }
     },
     "4f34d615df32484b8e5192490aeb4ac2": {
      "model_module": "@jupyter-widgets/controls",
      "model_module_version": "1.5.0",
      "model_name": "DescriptionStyleModel",
      "state": {
       "description_width": ""
      }
     },
     "4f3b97224cb8440cb09171bea12070d0": {
      "model_module": "@jupyter-widgets/controls",
      "model_module_version": "1.5.0",
      "model_name": "DescriptionStyleModel",
      "state": {
       "description_width": "initial"
      }
     },
     "4fb751c641dc480686f140bc0ffd3cfd": {
      "model_module": "@jupyter-widgets/controls",
      "model_module_version": "1.5.0",
      "model_name": "DescriptionStyleModel",
      "state": {
       "description_width": ""
      }
     },
     "4fe55cf733854f28ab8c44fc850651f5": {
      "model_module": "@jupyter-widgets/controls",
      "model_module_version": "1.5.0",
      "model_name": "VBoxModel",
      "state": {
       "children": [
        "IPY_MODEL_f1ad7de8b3014eab99099a23b5a6f79f",
        "IPY_MODEL_828b8f9ea9c84917b71403b922a895fe"
       ],
       "layout": "IPY_MODEL_631e541d5c074747b9694e9463f7d261"
      }
     },
     "4fead2dff3bb44d89e3d5522d1e6a9f8": {
      "model_module": "@jupyter-widgets/controls",
      "model_module_version": "1.5.0",
      "model_name": "DescriptionStyleModel",
      "state": {
       "description_width": "initial"
      }
     },
     "5014b5dbbb54493daee73e966427f94d": {
      "model_module": "@jupyter-widgets/controls",
      "model_module_version": "1.5.0",
      "model_name": "TextModel",
      "state": {
       "description": "Layers below data",
       "layout": "IPY_MODEL_5a907da57c2042ce97b19ee1a96ef2e0",
       "style": "IPY_MODEL_6956c10fae964fdba1270717a2d4c0af",
       "value": "5, 5, 5, 5"
      }
     },
     "5082b2b1e7a643619a7f37425258274e": {
      "model_module": "@jupyter-widgets/base",
      "model_module_version": "1.2.0",
      "model_name": "LayoutModel",
      "state": {}
     },
     "50de77a65c304e488823fb8c9468435a": {
      "model_module": "@jupyter-widgets/controls",
      "model_module_version": "1.5.0",
      "model_name": "DescriptionStyleModel",
      "state": {
       "description_width": ""
      }
     },
     "50f90e7e8154400b8ad3e2a19f9ae930": {
      "model_module": "@jupyter-widgets/controls",
      "model_module_version": "1.5.0",
      "model_name": "DescriptionStyleModel",
      "state": {
       "description_width": ""
      }
     },
     "511bed745e974ff49fd758173c781a6e": {
      "model_module": "@jupyter-widgets/base",
      "model_module_version": "1.2.0",
      "model_name": "LayoutModel",
      "state": {
       "grid_area": "pathlist",
       "width": "auto"
      }
     },
     "51661e5ed12f4ac4bc699f745f9a658a": {
      "model_module": "@jupyter-widgets/controls",
      "model_module_version": "1.5.0",
      "model_name": "DropdownModel",
      "state": {
       "_options_labels": [
        "",
        "fault_splay1",
        "fault_Cliff_Lake",
        "fault_Other_FlinFlon",
        "fault_Club_Lake_splay",
        "fault_Catherine_splay2",
        "fault_Birch_View",
        "fault_Dion_Lake",
        "fault_FlinFlon_splay",
        "fault_West_Mandy_Road",
        "fault_Channing",
        "fault_Ross_Lake",
        "fault_Louis_Hidden",
        "fault_Lake_View_thrust",
        "contact_Schist_Lake",
        "fault_Burley_Lake",
        "fault_Dion_Lake_splay",
        "fault_Green_Lake",
        "fault_FlinFlon",
        "fault_Catherine_splay1",
        "fault_East_Mandy_Road",
        "fault_Other_FlinFlon_South",
        "fault_Catherine_splay4",
        "contact_Stitt_Island",
        "fault_Club_Lake",
        "fault_Tailing_Pond",
        "35_Hidden_Reservoir_Hr5",
        "29_Hidden_Reservoir_Hr1a",
        "60_BlueLagoon_Fb2",
        "20_FlinFlon_Undivided_Int_Dykes_D2f",
        "04_Boundary_Intrusive_S4h",
        "53_Millrock_Rhyolite_Fm4b",
        "19_FlinFlon_Undivided_Int_Dykes_D2b",
        "18_FlinFlon_Undivided_Int_Dykes_777_D2b",
        "06_Phantom_Lake_Intrusive_S3a",
        "21_FlinFlon_Undivided_Int_Dykes_D3a",
        "43_Millrock_CHLSH_South",
        "56_Millrock_Basalt_Fm1ba",
        "17_FlinFlon_Undivided_Int_Dykes_D2",
        "32_Hidden_Reservoir_Hr1b_SW",
        "11_Missi_M3_NE",
        "13_Missi_M1",
        "07_Annabel_Granitoid_S1",
        "45_Millrock_Gabbro_South",
        "01_Late_Intrusive_S5b",
        "31_Hidden_Reservoir_Hr1c_SW",
        "52_Millrock_Rhyolite_Fm4_West_check",
        "55_Millrock_Basalt_Fm1bf",
        "34_Hidden_Reservoir_Hr2b",
        "03_Boundary_Intrusive_S4b",
        "42_Millrock_CHLSH_North",
        "26_Louis_L3",
        "23_FlinFlon_Undivided_Int_Felsic_D4g",
        "30_Hidden_Reservoir_Hr1b",
        "59_BlueLagoon_Fb3",
        "49_Millrock_MVR_Fm5d",
        "44_Millrock_Gabbro_North",
        "27_Hidden_Carlisle_Hc4",
        "22_FlinFlon_Undivided_Int_Felsic_D4e",
        "02_Boundary_Intrusive_S4a",
        "61_BlueLagoon_Fb1_NW",
        "05_Boundary_Intrusive_S4g",
        "39_Ore_Callinan",
        "38_Ore_Dan_Owens",
        "40_Ore_FlinFlon",
        "Inversion_VTEM_Model",
        "Gravity_Magnetics_drape60m",
        "CDI_VTEM_model",
        "Data_FEM_pseudo3D",
        "O2O_Interp_25m",
        "geochem",
        "Inversion_DIGHEM_Model",
        "Topography",
        "Data_TEM_pseudo3D"
       ],
       "description": "Object:",
       "index": 66,
       "layout": "IPY_MODEL_bea69d7c82ef4e988fbfdf7d28642ee0",
       "style": "IPY_MODEL_85483d0562d04549859b667be693c063"
      }
     },
     "519e4dc9c2fc4b058061d10404dc48b7": {
      "model_module": "@jupyter-widgets/base",
      "model_module_version": "1.2.0",
      "model_name": "LayoutModel",
      "state": {
       "display": "none"
      }
     },
     "51a9ec16a7044461889417deed1a34bd": {
      "model_module": "@jupyter-widgets/controls",
      "model_module_version": "1.5.0",
      "model_name": "DescriptionStyleModel",
      "state": {
       "description_width": ""
      }
     },
     "524c713e6fa64a1d954c5c4ce70a41a9": {
      "model_module": "@jupyter-widgets/controls",
      "model_module_version": "1.5.0",
      "model_name": "DescriptionStyleModel",
      "state": {
       "description_width": "initial"
      }
     },
     "5262c0124d5042bbbb8ba815d2b8b063": {
      "model_module": "@jupyter-widgets/controls",
      "model_module_version": "1.5.0",
      "model_name": "DescriptionStyleModel",
      "state": {
       "description_width": ""
      }
     },
     "52a9e4817d1e463aaf9c40cc8791c724": {
      "model_module": "@jupyter-widgets/controls",
      "model_module_version": "1.5.0",
      "model_name": "DescriptionStyleModel",
      "state": {
       "description_width": ""
      }
     },
     "5303491871a24f119636f6986ae42c92": {
      "model_module": "@jupyter-widgets/controls",
      "model_module_version": "1.5.0",
      "model_name": "FloatTextModel",
      "state": {
       "description": "Minimum depth (m)",
       "layout": "IPY_MODEL_981110dc016e4390b088244faf6ee15f",
       "step": null,
       "style": "IPY_MODEL_932edf28049e42c3a5fdb340b62cf50d",
       "value": 500
      }
     },
     "534beb3f3c9e488ea286ac337a8611fb": {
      "model_module": "@jupyter-widgets/base",
      "model_module_version": "1.2.0",
      "model_name": "LayoutModel",
      "state": {
       "grid_area": "pathlist",
       "width": "auto"
      }
     },
     "53a25278e3f24cb5a06a4186741aa438": {
      "model_module": "@jupyter-widgets/controls",
      "model_module_version": "1.5.0",
      "model_name": "FloatSliderModel",
      "state": {
       "continuous_update": false,
       "description": "Width",
       "layout": "IPY_MODEL_02964a75f95e46d5b5d43f2cd4819dae",
       "max": 7335.505938563321,
       "step": 0.1,
       "style": "IPY_MODEL_1effb569616148b6aad06045fecc5814",
       "value": 1000
      }
     },
     "53a7a0a064244147abf20af9db64275b": {
      "model_module": "@jupyter-widgets/controls",
      "model_module_version": "1.5.0",
      "model_name": "VBoxModel",
      "state": {
       "children": [
        "IPY_MODEL_ebf712f65f6d41868a20ea8bac8e44a5",
        "IPY_MODEL_b8b3c3fa9d0349e685074732cb8cabe2"
       ],
       "layout": "IPY_MODEL_b5c80c7098bf412cae9318628a7d6da5"
      }
     },
     "53d9db4c38f64b8f9d7d498c1d1a509e": {
      "model_module": "@jupyter-widgets/controls",
      "model_module_version": "1.5.0",
      "model_name": "ButtonModel",
      "state": {
       "description": "Create copy:",
       "layout": "IPY_MODEL_cf9f658bdfe24b818ae48d49f79945ef",
       "style": "IPY_MODEL_b6770703758848bfa75c83cc012d21b8"
      }
     },
     "54099c1cc8d948c78c18dc1246f152ed": {
      "model_module": "@jupyter-widgets/controls",
      "model_module_version": "1.5.0",
      "model_name": "ButtonStyleModel",
      "state": {}
     },
     "5423bde388d4449582d65d9a02143bed": {
      "model_module": "@jupyter-widgets/controls",
      "model_module_version": "1.5.0",
      "model_name": "DescriptionStyleModel",
      "state": {
       "description_width": ""
      }
     },
     "546735d117a1419e91033efa3824bcf3": {
      "model_module": "@jupyter-widgets/base",
      "model_module_version": "1.2.0",
      "model_name": "LayoutModel",
      "state": {
       "width": "auto"
      }
     },
     "54bee32e7ac14803a6ad721928db2353": {
      "model_module": "@jupyter-widgets/controls",
      "model_module_version": "1.5.0",
      "model_name": "LabelModel",
      "state": {
       "layout": "IPY_MODEL_4a998e96cccd43ffaf94d8b1da66f4f0",
       "style": "IPY_MODEL_e975585d80ea410cb7a7f645cc9cdc46",
       "value": "Max depth: 477.27 m"
      }
     },
     "54e7d35eda08477e9b87f8fd91e2c8c5": {
      "model_module": "@jupyter-widgets/controls",
      "model_module_version": "1.5.0",
      "model_name": "ButtonModel",
      "state": {
       "description": "Cancel",
       "layout": "IPY_MODEL_9e58fa3fad184dddbbf9a8a2aa54c9cb",
       "style": "IPY_MODEL_c249a9da51a249668753c5c5e179f342"
      }
     },
     "54f478c1387b4ce4b29c85ebd34fbb94": {
      "model_module": "@jupyter-widgets/base",
      "model_module_version": "1.2.0",
      "model_name": "LayoutModel",
      "state": {
       "display": "none"
      }
     },
     "555817b831cd4cadb7e1bbd64266e857": {
      "model_module": "@jupyter-widgets/base",
      "model_module_version": "1.2.0",
      "model_name": "LayoutModel",
      "state": {}
     },
     "55706e350c7c4022a37569a4d1a7d0e2": {
      "model_module": "@jupyter-widgets/controls",
      "model_module_version": "1.5.0",
      "model_name": "ButtonModel",
      "state": {
       "description": "Create copy:",
       "layout": "IPY_MODEL_9f73348cbe424bf59414d5e86a7a96cf",
       "style": "IPY_MODEL_af3d02c6858f499282c2bdc594e07e34"
      }
     },
     "5578c6a2f3714eb6a950269e4ea0ed4f": {
      "model_module": "@jupyter-widgets/base",
      "model_module_version": "1.2.0",
      "model_name": "LayoutModel",
      "state": {}
     },
     "55cf3731c89340189c1b4558ec2af04d": {
      "model_module": "@jupyter-widgets/controls",
      "model_module_version": "1.5.0",
      "model_name": "DescriptionStyleModel",
      "state": {
       "description_width": ""
      }
     },
     "55f432a526124e16b30ae9df45e08716": {
      "model_module": "@jupyter-widgets/controls",
      "model_module_version": "1.5.0",
      "model_name": "ButtonModel",
      "state": {
       "description": "Create copy:",
       "layout": "IPY_MODEL_8c0c841729cb49b5a3b4d4e5ea8e15f7",
       "style": "IPY_MODEL_e5625e092796495ba884751dbd34c1f8"
      }
     },
     "56969e9097864eb1a03280f4473c525d": {
      "model_module": "@jupyter-widgets/base",
      "model_module_version": "1.2.0",
      "model_name": "LayoutModel",
      "state": {}
     },
     "569887db2b444b728ac0fe15bce5cab8": {
      "model_module": "@jupyter-widgets/base",
      "model_module_version": "1.2.0",
      "model_name": "LayoutModel",
      "state": {
       "display": "none"
      }
     },
     "569e87b5a0ff44988b62e639f677376f": {
      "model_module": "@jupyter-widgets/controls",
      "model_module_version": "1.5.0",
      "model_name": "VBoxModel",
      "state": {
       "children": [
        "IPY_MODEL_ba46a7e4c7864d2cbd1fb4510abf6bc8",
        "IPY_MODEL_9dedc7e856174fe1a7fdc1c02de3bbf6",
        "IPY_MODEL_4b610660519048b0995d7a0bcbe4fc37"
       ],
       "layout": "IPY_MODEL_ef708d7168e94d4482a2291ab7e4dc0e"
      }
     },
     "56d8e7d466e64c4dbbdb41e6752ce642": {
      "model_module": "@jupyter-widgets/controls",
      "model_module_version": "1.5.0",
      "model_name": "DropdownModel",
      "state": {
       "_options_labels": [
        "",
        "fault_splay1",
        "fault_Cliff_Lake",
        "fault_Other_FlinFlon",
        "fault_Club_Lake_splay",
        "fault_Catherine_splay2",
        "fault_Birch_View",
        "fault_Dion_Lake",
        "fault_FlinFlon_splay",
        "fault_West_Mandy_Road",
        "fault_Channing",
        "fault_Ross_Lake",
        "fault_Louis_Hidden",
        "fault_Lake_View_thrust",
        "contact_Schist_Lake",
        "fault_Burley_Lake",
        "fault_Dion_Lake_splay",
        "fault_Green_Lake",
        "fault_FlinFlon",
        "fault_Catherine_splay1",
        "fault_East_Mandy_Road",
        "fault_Other_FlinFlon_South",
        "fault_Catherine_splay4",
        "contact_Stitt_Island",
        "fault_Club_Lake",
        "fault_Tailing_Pond",
        "35_Hidden_Reservoir_Hr5",
        "29_Hidden_Reservoir_Hr1a",
        "60_BlueLagoon_Fb2",
        "20_FlinFlon_Undivided_Int_Dykes_D2f",
        "04_Boundary_Intrusive_S4h",
        "53_Millrock_Rhyolite_Fm4b",
        "19_FlinFlon_Undivided_Int_Dykes_D2b",
        "18_FlinFlon_Undivided_Int_Dykes_777_D2b",
        "06_Phantom_Lake_Intrusive_S3a",
        "21_FlinFlon_Undivided_Int_Dykes_D3a",
        "43_Millrock_CHLSH_South",
        "56_Millrock_Basalt_Fm1ba",
        "17_FlinFlon_Undivided_Int_Dykes_D2",
        "32_Hidden_Reservoir_Hr1b_SW",
        "11_Missi_M3_NE",
        "13_Missi_M1",
        "07_Annabel_Granitoid_S1",
        "45_Millrock_Gabbro_South",
        "01_Late_Intrusive_S5b",
        "31_Hidden_Reservoir_Hr1c_SW",
        "52_Millrock_Rhyolite_Fm4_West_check",
        "55_Millrock_Basalt_Fm1bf",
        "34_Hidden_Reservoir_Hr2b",
        "03_Boundary_Intrusive_S4b",
        "42_Millrock_CHLSH_North",
        "26_Louis_L3",
        "23_FlinFlon_Undivided_Int_Felsic_D4g",
        "30_Hidden_Reservoir_Hr1b",
        "59_BlueLagoon_Fb3",
        "49_Millrock_MVR_Fm5d",
        "44_Millrock_Gabbro_North",
        "27_Hidden_Carlisle_Hc4",
        "22_FlinFlon_Undivided_Int_Felsic_D4e",
        "02_Boundary_Intrusive_S4a",
        "61_BlueLagoon_Fb1_NW",
        "05_Boundary_Intrusive_S4g",
        "39_Ore_Callinan",
        "38_Ore_Dan_Owens",
        "40_Ore_FlinFlon",
        "Inversion_VTEM_Model",
        "Gravity_Magnetics_drape60m",
        "CDI_VTEM_model",
        "Data_FEM_pseudo3D",
        "O2O_Interp_25m",
        "geochem",
        "Inversion_DIGHEM_Model",
        "Topography",
        "Data_TEM_pseudo3D"
       ],
       "description": "Object",
       "index": 0,
       "layout": "IPY_MODEL_8bdd1d32f9154e948059700cce84509a",
       "style": "IPY_MODEL_a7add0b5dd8a4c3aaf3c7979d203205d"
      }
     },
     "577cbc50bf1b40c3a73a4a3fe9e47b97": {
      "model_module": "@jupyter-widgets/controls",
      "model_module_version": "1.5.0",
      "model_name": "FloatTextModel",
      "state": {
       "description": "Max RAM (Gb)",
       "layout": "IPY_MODEL_471cadb7371b48018744d73ca88240fa",
       "step": null,
       "style": "IPY_MODEL_eb6e68afcdf0498d9a50b842361b3233",
       "value": 2
      }
     },
     "57c49051694645d6881e6cd8e52a1740": {
      "model_module": "@jupyter-widgets/controls",
      "model_module_version": "1.5.0",
      "model_name": "TextModel",
      "state": {
       "description": "bxy",
       "layout": "IPY_MODEL_76055ed207b04b3b8f5df980e8409edc",
       "style": "IPY_MODEL_311f63dae73447bc81835899b58f3e87"
      }
     },
     "580d62e37a724a7a8dd17a10cdd00f44": {
      "model_module": "@jupyter-widgets/controls",
      "model_module_version": "1.5.0",
      "model_name": "VBoxModel",
      "state": {
       "children": [
        "IPY_MODEL_b04397f70f584ec39cba527f405ae17f",
        "IPY_MODEL_f7911ac1cfb54b19883820f8b0fd1e1d",
        "IPY_MODEL_5980b489fd7444aa92403c6f2dd26020"
       ],
       "layout": "IPY_MODEL_7ef893888e4941bea4af55abcf9b11cb"
      }
     },
     "58334fb2bdb3440bbbd834cd61c792fd": {
      "model_module": "@jupyter-widgets/base",
      "model_module_version": "1.2.0",
      "model_name": "LayoutModel",
      "state": {
       "width": "auto"
      }
     },
     "5853394e0c1245189c3f050fd99caaaf": {
      "model_module": "@jupyter-widgets/base",
      "model_module_version": "1.2.0",
      "model_name": "LayoutModel",
      "state": {}
     },
     "5854d72fc3364eaf80d8dad2dc839bf0": {
      "model_module": "@jupyter-widgets/controls",
      "model_module_version": "1.5.0",
      "model_name": "SliderStyleModel",
      "state": {
       "description_width": "initial"
      }
     },
     "5887d0a978954ba796599bac85a9c03e": {
      "model_module": "@jupyter-widgets/controls",
      "model_module_version": "1.5.0",
      "model_name": "TextModel",
      "state": {
       "description": "Error (%, floor)",
       "layout": "IPY_MODEL_44e2f440272b4ab1af86b954e2dd8752",
       "style": "IPY_MODEL_5b19b7471e4747649ad0008e5d38f18d",
       "value": "0, 1"
      }
     },
     "588d76bdd6a4462b87803728fbce9e3e": {
      "model_module": "@jupyter-widgets/controls",
      "model_module_version": "1.5.0",
      "model_name": "VBoxModel",
      "state": {
       "children": [
        "IPY_MODEL_ec7084197dfe40d99c95e7d2e192fd3b",
        "IPY_MODEL_a0269f70f3214d4288c0096a917fba14"
       ],
       "layout": "IPY_MODEL_e64e92f5e6664ca69e42ace7a8e5d4df"
      }
     },
     "58a449a330a44344b77572a13e87b81a": {
      "model_module": "@jupyter-widgets/controls",
      "model_module_version": "1.5.0",
      "model_name": "ToggleButtonModel",
      "state": {
       "layout": "IPY_MODEL_287a798bb9a74cdebdf57de1861a47c7",
       "style": "IPY_MODEL_b383ac083db544018cb31d0ae555c37e",
       "value": true
      }
     },
     "58b9d13468984cd6a6dd5a49818a8605": {
      "model_module": "@jupyter-widgets/controls",
      "model_module_version": "1.5.0",
      "model_name": "LabelModel",
      "state": {
       "layout": "IPY_MODEL_1ebf6becbdbc4e57b157f154e7014f50",
       "style": "IPY_MODEL_5ce5e36015ad417bbaff2af6862377ee",
       "value": "Monitoring folder"
      }
     },
     "58f439fc4fee42ac810c582b84a242ce": {
      "model_module": "@jupyter-widgets/base",
      "model_module_version": "1.2.0",
      "model_name": "LayoutModel",
      "state": {}
     },
     "593a44a91e8a42bcb96c605242272520": {
      "model_module": "@jupyter-widgets/controls",
      "model_module_version": "1.5.0",
      "model_name": "DescriptionStyleModel",
      "state": {
       "description_width": ""
      }
     },
     "5940fedc35b443f185653c7a28e3e513": {
      "model_module": "@jupyter-widgets/controls",
      "model_module_version": "1.5.0",
      "model_name": "ButtonModel",
      "state": {
       "description": "Cancel",
       "layout": "IPY_MODEL_f791143e47b848499489c70fff5740e5",
       "style": "IPY_MODEL_3999609dd5f942e4b6da4dba4743937b"
      }
     },
     "5953db6c77aa4d65b7022419c8933115": {
      "model_module": "@jupyter-widgets/controls",
      "model_module_version": "1.5.0",
      "model_name": "VBoxModel",
      "state": {
       "children": [
        "IPY_MODEL_aa812a1866e8487db18a5190c40c5ba5",
        "IPY_MODEL_0515da7854264307ba04dc9c9b5d8b85"
       ],
       "layout": "IPY_MODEL_756660eb85ef461aabd82d7bd62117d5"
      }
     },
     "5980b489fd7444aa92403c6f2dd26020": {
      "model_module": "@jupyter-widgets/controls",
      "model_module_version": "1.5.0",
      "model_name": "HBoxModel",
      "state": {
       "children": [
        "IPY_MODEL_c1185817854044de816a1840fbd2609c",
        "IPY_MODEL_f6054b5655814703a1c989feda3b7234",
        "IPY_MODEL_45168016ed9c4c7dae77c2cd1b353764"
       ],
       "layout": "IPY_MODEL_02ac35b25f8a4f5d9f728ba653939015"
      }
     },
     "59e42a6693c542a8b20405ff3f659757": {
      "model_module": "@jupyter-widgets/controls",
      "model_module_version": "1.5.0",
      "model_name": "ButtonStyleModel",
      "state": {}
     },
     "5a3e7cf16fc24a23bebe7fd0022002b3": {
      "model_module": "@jupyter-widgets/controls",
      "model_module_version": "1.5.0",
      "model_name": "CheckboxModel",
      "state": {
       "description": "GA Pro - Live link",
       "disabled": false,
       "indent": false,
       "layout": "IPY_MODEL_9c6aaa0375a4416289cebd771ff38bcd",
       "style": "IPY_MODEL_77176b70c5f5490aa0be04403a7f3ca4",
       "value": false
      }
     },
     "5a3f6e60665f4b5ea4ad3b13429c86ee": {
      "model_module": "@jupyter-widgets/base",
      "model_module_version": "1.2.0",
      "model_name": "LayoutModel",
      "state": {}
     },
     "5a907da57c2042ce97b19ee1a96ef2e0": {
      "model_module": "@jupyter-widgets/base",
      "model_module_version": "1.2.0",
      "model_name": "LayoutModel",
      "state": {}
     },
     "5b19b7471e4747649ad0008e5d38f18d": {
      "model_module": "@jupyter-widgets/controls",
      "model_module_version": "1.5.0",
      "model_name": "DescriptionStyleModel",
      "state": {
       "description_width": "initial"
      }
     },
     "5b57937a804f4455979fa0ec1e66e888": {
      "model_module": "@jupyter-widgets/base",
      "model_module_version": "1.2.0",
      "model_name": "LayoutModel",
      "state": {}
     },
     "5b6159c2b9db4b37b5e371479e1c3f4d": {
      "model_module": "@jupyter-widgets/controls",
      "model_module_version": "1.5.0",
      "model_name": "TextModel",
      "state": {
       "description": "Inducing Field [Amp, Inc, Dec]",
       "layout": "IPY_MODEL_c3113a60db5f4fe08629efbbda8c3441",
       "style": "IPY_MODEL_de678afb29df4e63995013ba3eb7d26a",
       "value": "60000, 79, 11"
      }
     },
     "5bacc44f7bef47b992afff5bfe38bfaf": {
      "model_module": "@jupyter-widgets/base",
      "model_module_version": "1.2.0",
      "model_name": "LayoutModel",
      "state": {}
     },
     "5c253b6e77e0412280605f878f3e8c11": {
      "model_module": "@jupyter-widgets/base",
      "model_module_version": "1.2.0",
      "model_name": "LayoutModel",
      "state": {}
     },
     "5c38153a22ae405c9c2c69cfe6685bc4": {
      "model_module": "@jupyter-widgets/controls",
      "model_module_version": "1.5.0",
      "model_name": "DropdownModel",
      "state": {
       "_options_labels": [
        "C:\\Users\\dominiquef\\Documents\\GIT\\mira\\mirageoscience-apps\\docs\\content\\applications",
        "C:\\Users\\dominiquef\\Documents\\GIT\\mira\\mirageoscience-apps\\docs\\content",
        "C:\\Users\\dominiquef\\Documents\\GIT\\mira\\mirageoscience-apps\\docs",
        "C:\\Users\\dominiquef\\Documents\\GIT\\mira\\mirageoscience-apps",
        "C:\\Users\\dominiquef\\Documents\\GIT\\mira",
        "C:\\Users\\dominiquef\\Documents\\GIT",
        "C:\\Users\\dominiquef\\Documents",
        "C:\\Users\\dominiquef",
        "C:\\Users",
        "C:\\",
        "D:\\",
        "Z:\\"
       ],
       "index": 0,
       "layout": "IPY_MODEL_4b687dbf441049ffa7aa17e9c56aec59",
       "style": "IPY_MODEL_264868711e794163a750b2bfcc28ca30"
      }
     },
     "5c97d8602ced4dc2b516e4cac3ecb012": {
      "model_module": "@jupyter-widgets/controls",
      "model_module_version": "1.5.0",
      "model_name": "VBoxModel",
      "state": {
       "children": [
        "IPY_MODEL_b17bd60866ae424b894fe1dac9d9b84d",
        "IPY_MODEL_fc88df7f71aa43f7ab4b46897be1282a"
       ],
       "layout": "IPY_MODEL_03ce69e928384c14a400d2ba722bf2c8"
      }
     },
     "5cae3e59173f45a98314c9d5c11b340e": {
      "model_module": "@jupyter-widgets/controls",
      "model_module_version": "1.5.0",
      "model_name": "FloatTextModel",
      "state": {
       "description": "Max triangulation length",
       "layout": "IPY_MODEL_7ef5c6c270c341fab1c5e4ae642aedc0",
       "step": null,
       "style": "IPY_MODEL_7422739bc7514b64a6250581c9f68522",
       "value": 1000
      }
     },
     "5ce5e36015ad417bbaff2af6862377ee": {
      "model_module": "@jupyter-widgets/controls",
      "model_module_version": "1.5.0",
      "model_name": "DescriptionStyleModel",
      "state": {
       "description_width": "initial"
      }
     },
     "5cf261096bd74e1b9dc32b5d4392c42c": {
      "model_module": "@jupyter-widgets/controls",
      "model_module_version": "1.5.0",
      "model_name": "GridBoxModel",
      "state": {
       "children": [
        "IPY_MODEL_82f1bf73541944ff8b4d2955c129a9f3",
        "IPY_MODEL_1cfd8b72e6ae4ba7898a575e6698dce3",
        "IPY_MODEL_833b3edb30584c979eb9f25211f9c980"
       ],
       "layout": "IPY_MODEL_fd5f53d65c2e476cabc71ed6c384a26b"
      }
     },
     "5dd61b4bb6a14983ab46d2cd7b4cf07e": {
      "model_module": "@jupyter-widgets/controls",
      "model_module_version": "1.5.0",
      "model_name": "CheckboxModel",
      "state": {
       "description": "GA Pro - Live link",
       "disabled": false,
       "indent": false,
       "layout": "IPY_MODEL_3fdd763e74c8439fbf58764b6e97410d",
       "style": "IPY_MODEL_629ea28ebf3f4dfd8ec56a423f378af4",
       "value": false
      }
     },
     "5dfeb55433f04f5381924272af254f5e": {
      "model_module": "@jupyter-widgets/controls",
      "model_module_version": "1.5.0",
      "model_name": "VBoxModel",
      "state": {
       "children": [
        "IPY_MODEL_e9270e8ba3ff4edaa91e8a8f5970a1fe",
        "IPY_MODEL_178ca2440714468a96ad58eea9d80711"
       ],
       "layout": "IPY_MODEL_acbeb5beb4c14f0bbd6bd827001e89d1"
      }
     },
     "5ec7c5ae18a64aa7a244ead9c84ac746": {
      "model_module": "@jupyter-widgets/base",
      "model_module_version": "1.2.0",
      "model_name": "LayoutModel",
      "state": {}
     },
     "5f1de023d736418589493c1a8f59ccd6": {
      "model_module": "@jupyter-widgets/controls",
      "model_module_version": "1.5.0",
      "model_name": "VBoxModel",
      "state": {
       "children": [
        "IPY_MODEL_03fe1f3c7ea746958964ff476ac6e744",
        "IPY_MODEL_5b6159c2b9db4b37b5e371479e1c3f4d"
       ],
       "layout": "IPY_MODEL_c4bdd9a47995457e994f5f7ad5876612"
      }
     },
     "5f3debee43f3458fb2e5d86c6471b969": {
      "model_module": "@jupyter-widgets/base",
      "model_module_version": "1.2.0",
      "model_name": "LayoutModel",
      "state": {}
     },
     "5f478e47805744ac81253cc4439ec470": {
      "model_module": "@jupyter-widgets/controls",
      "model_module_version": "1.5.0",
      "model_name": "DescriptionStyleModel",
      "state": {
       "description_width": ""
      }
     },
     "5f4eeda07e144ae7a90d6fbaeecd4a51": {
      "model_module": "@jupyter-widgets/controls",
      "model_module_version": "1.5.0",
      "model_name": "DescriptionStyleModel",
      "state": {
       "description_width": ""
      }
     },
     "5f65e1d2053b42fbbfef56c3398f4bd3": {
      "model_module": "@jupyter-widgets/controls",
      "model_module_version": "1.5.0",
      "model_name": "DescriptionStyleModel",
      "state": {
       "description_width": ""
      }
     },
     "5f70869b86e04fa680d6f90182dddf34": {
      "model_module": "@jupyter-widgets/controls",
      "model_module_version": "1.5.0",
      "model_name": "TextModel",
      "state": {
       "description": "Layers below data",
       "layout": "IPY_MODEL_759fc728de77432db7219148d51b97a5",
       "style": "IPY_MODEL_f068bb3fd6374f3bb9a05b38f69520fd",
       "value": "5, 5, 5, 5"
      }
     },
     "5ff338d50185469ea7251b9508395dd2": {
      "model_module": "@jupyter-widgets/controls",
      "model_module_version": "1.5.0",
      "model_name": "VBoxModel",
      "state": {
       "children": [
        "IPY_MODEL_89272be142ed4d76afc468462074a822",
        "IPY_MODEL_e901d16e5e2247a4a2720113330feff0"
       ],
       "layout": "IPY_MODEL_a2fcce40d93d4309a8218b85e47fc952"
      }
     },
     "6003faec7bc44502a4cf2e63843eb359": {
      "model_module": "@jupyter-widgets/controls",
      "model_module_version": "1.5.0",
      "model_name": "ButtonStyleModel",
      "state": {}
     },
     "6048ecaf115841e58244ff51a39f1320": {
      "model_module": "@jupyter-widgets/controls",
      "model_module_version": "1.5.0",
      "model_name": "FloatTextModel",
      "state": {
       "description": "Vertical offset (+ve up)",
       "layout": "IPY_MODEL_85582b3af5b74a3fb74fe49173f0c9c5",
       "step": null,
       "style": "IPY_MODEL_230dd943287a4d59a6c1298862f56488"
      }
     },
     "60604919087b4b599fb0bffbc86e92d8": {
      "model_module": "@jupyter-widgets/controls",
      "model_module_version": "1.5.0",
      "model_name": "DescriptionStyleModel",
      "state": {
       "description_width": ""
      }
     },
     "6072db555e9a4eb59eb3e87dbfe0ed75": {
      "model_module": "@jupyter-widgets/base",
      "model_module_version": "1.2.0",
      "model_name": "LayoutModel",
      "state": {}
     },
     "60dacb8986714ffa8fe71524618b135d": {
      "model_module": "@jupyter-widgets/controls",
      "model_module_version": "1.5.0",
      "model_name": "HBoxModel",
      "state": {
       "children": [
        "IPY_MODEL_0173425bf0ad4dc0b36bb24331631e8a",
        "IPY_MODEL_04d9827494db4e3c803b1c3ff27abc99",
        "IPY_MODEL_cdf5883eb7164896b3c58ab7ee41c3de"
       ],
       "layout": "IPY_MODEL_39b35ba1c5c34b9787ef4f4cc94bd3c7"
      }
     },
     "60e78b0eb0a44728a75b83a3128a4b2f": {
      "model_module": "@jupyter-widgets/controls",
      "model_module_version": "1.5.0",
      "model_name": "TextModel",
      "state": {
       "continuous_update": false,
       "description": "Group:",
       "layout": "IPY_MODEL_e2db8938153141bdb4e0fc94a1fc2e4f",
       "style": "IPY_MODEL_0e410f6237674485a4779e6ac072eba8"
      }
     },
     "60fb6a6fb701409794a894e72bc451f5": {
      "model_module": "@jupyter-widgets/controls",
      "model_module_version": "1.5.0",
      "model_name": "HBoxModel",
      "state": {
       "children": [
        "IPY_MODEL_00655fab4c9940d2b1151a514a70a61e",
        "IPY_MODEL_ea021c40206f4f1b90af5785a3b28e6a"
       ],
       "layout": "IPY_MODEL_c26365e00e554c3aa88dfbc2215f2b3f"
      }
     },
     "611c8b3f5ee3450a835b3752c8fa46d0": {
      "model_module": "@jupyter-widgets/controls",
      "model_module_version": "1.5.0",
      "model_name": "ButtonModel",
      "state": {
       "button_style": "danger",
       "description": "Compute",
       "icon": "check",
       "layout": "IPY_MODEL_d9e71aa09bf44240a9c02537b14dcf10",
       "style": "IPY_MODEL_4bc3737f8ff2444a835a99516db85de3",
       "tooltip": "Run computation"
      }
     },
     "613fbae278104a70bb1e318bc44b0522": {
      "model_module": "@jupyter-widgets/controls",
      "model_module_version": "1.5.0",
      "model_name": "TextModel",
      "state": {
       "description": "Smallest cells",
       "layout": "IPY_MODEL_85c1364c4ed941d985f318f6f0e76adb",
       "style": "IPY_MODEL_bd40c5ba7b314522ac325ef5bde65580",
       "value": "25, 25, 25"
      }
     },
     "61bdc03be42046b795d7010da4010953": {
      "model_module": "@jupyter-widgets/controls",
      "model_module_version": "1.5.0",
      "model_name": "HTMLModel",
      "state": {
       "layout": "IPY_MODEL_5853394e0c1245189c3f050fd99caaaf",
       "placeholder": "",
       "style": "IPY_MODEL_b3169d6effe041d89670f08626dc6e8b",
       "value": "<span style=\"margin-left:10px; color:black;\">No file selected</span>"
      }
     },
     "61c07cc650ac47688e884a449c7ed13f": {
      "model_module": "@jupyter-widgets/controls",
      "model_module_version": "1.5.0",
      "model_name": "LabelModel",
      "state": {
       "layout": "IPY_MODEL_98317d24bbde4f469024d5c5027bd373",
       "style": "IPY_MODEL_df39631b8a1d494f829df52a11047c79",
       "value": "Octree Mesh"
      }
     },
     "61e64f2acdfc41828319d4ca1436dfa8": {
      "model_module": "@jupyter-widgets/controls",
      "model_module_version": "1.5.0",
      "model_name": "DescriptionStyleModel",
      "state": {
       "description_width": "initial"
      }
     },
     "6202a5b0faf74fc39d9f4d34efb1a018": {
      "model_module": "@jupyter-widgets/base",
      "model_module_version": "1.2.0",
      "model_name": "LayoutModel",
      "state": {}
     },
     "629ea28ebf3f4dfd8ec56a423f378af4": {
      "model_module": "@jupyter-widgets/controls",
      "model_module_version": "1.5.0",
      "model_name": "DescriptionStyleModel",
      "state": {
       "description_width": "initial"
      }
     },
     "62d86d8ea9c64c0e8c0a5742ddf1d100": {
      "model_module": "@jupyter-widgets/controls",
      "model_module_version": "1.5.0",
      "model_name": "CheckboxModel",
      "state": {
       "description": "GA Pro - Live link",
       "disabled": false,
       "indent": false,
       "layout": "IPY_MODEL_6b58f2da27a34a8e974e91d21e1809b8",
       "style": "IPY_MODEL_b1bdb9b017ca4eb181eab982b4d4e78c",
       "value": false
      }
     },
     "62e4d3b0da9942d99e1db563c0f0d7c1": {
      "model_module": "@jupyter-widgets/base",
      "model_module_version": "1.2.0",
      "model_name": "LayoutModel",
      "state": {}
     },
     "6308f60709ed4ba993e3476406de68c1": {
      "model_module": "@jupyter-widgets/controls",
      "model_module_version": "1.5.0",
      "model_name": "VBoxModel",
      "state": {
       "children": [
        "IPY_MODEL_712a43e85f5047c09fc089634092fde5"
       ],
       "layout": "IPY_MODEL_cc3bf2bea514428aa319d1edc8628426"
      }
     },
     "631e541d5c074747b9694e9463f7d261": {
      "model_module": "@jupyter-widgets/base",
      "model_module_version": "1.2.0",
      "model_name": "LayoutModel",
      "state": {}
     },
     "635abc35dec441079532624aedffc2dc": {
      "model_module": "@jupyter-widgets/controls",
      "model_module_version": "1.5.0",
      "model_name": "HBoxModel",
      "state": {
       "children": [
        "IPY_MODEL_dcc83c621aff47909ef5b971a4ae31f8",
        "IPY_MODEL_cd56515893f04a9eb39931fb66a0320e",
        "IPY_MODEL_ca0c9f7627534c6b856a12f60c2460cc"
       ],
       "layout": "IPY_MODEL_3b71d77ccbb244c7a7f9d403ddd6fde2"
      }
     },
     "646fcf772c9d42dda0c6cddcfa9133b2": {
      "model_module": "@jupyter-widgets/controls",
      "model_module_version": "1.5.0",
      "model_name": "ButtonStyleModel",
      "state": {}
     },
     "6515839292884da0b191d130791d4234": {
      "model_module": "@jupyter-widgets/controls",
      "model_module_version": "1.5.0",
      "model_name": "DescriptionStyleModel",
      "state": {
       "description_width": ""
      }
     },
     "6534d453900a4a16a0c6208f6c6fa1fa": {
      "model_module": "@jupyter-widgets/controls",
      "model_module_version": "1.5.0",
      "model_name": "VBoxModel",
      "state": {
       "children": [
        "IPY_MODEL_15f861d3b2034b0595ad590076bd7a9a",
        "IPY_MODEL_ee9714bc34624c3e9a7e7b9c50fbe96b"
       ],
       "layout": "IPY_MODEL_dc3bd4f5715c4e75b9d57272f64fef4b"
      }
     },
     "653fddbdcacf4b55801bfed69320c09c": {
      "model_module": "@jupyter-widgets/controls",
      "model_module_version": "1.5.0",
      "model_name": "DescriptionStyleModel",
      "state": {
       "description_width": ""
      }
     },
     "6544fb99361e47e28f083885b261ba91": {
      "model_module": "@jupyter-widgets/base",
      "model_module_version": "1.2.0",
      "model_name": "LayoutModel",
      "state": {
       "display": "none",
       "grid_gap": "0px 0px",
       "grid_template_areas": "\n                    'pathlist filename'\n                    'dircontent dircontent'\n                    ",
       "grid_template_columns": "60% 40%",
       "grid_template_rows": "auto auto",
       "width": "500px"
      }
     },
     "65a8e055047d43b08ab388c5700ee84b": {
      "model_module": "@jupyter-widgets/controls",
      "model_module_version": "1.5.0",
      "model_name": "DescriptionStyleModel",
      "state": {
       "description_width": "initial"
      }
     },
     "667d2d604bad4f789fbf2baf6be01d79": {
      "model_module": "@jupyter-widgets/base",
      "model_module_version": "1.2.0",
      "model_name": "LayoutModel",
      "state": {}
     },
     "66b55b27c7714a119f6b549ca8a5a8a7": {
      "model_module": "@jupyter-widgets/controls",
      "model_module_version": "1.5.0",
      "model_name": "ButtonStyleModel",
      "state": {}
     },
     "6716393eb97e45e899e0f79399bb0137": {
      "model_module": "@jupyter-widgets/base",
      "model_module_version": "1.2.0",
      "model_name": "LayoutModel",
      "state": {}
     },
     "675d7931726c43a29163b1233085f774": {
      "model_module": "@jupyter-widgets/controls",
      "model_module_version": "1.5.0",
      "model_name": "HBoxModel",
      "state": {
       "children": [
        "IPY_MODEL_569e87b5a0ff44988b62e639f677376f",
        "IPY_MODEL_a1178a7dcd0b40769a380757d7474b38"
       ],
       "layout": "IPY_MODEL_49341c2bcdf64ecc9fa696deab51eb18"
      }
     },
     "676939e283ab428389d5a0c5ba911cac": {
      "model_module": "@jupyter-widgets/base",
      "model_module_version": "1.2.0",
      "model_name": "LayoutModel",
      "state": {}
     },
     "67e3f2f3653b4274b75f64c4567bf8b5": {
      "model_module": "@jupyter-widgets/base",
      "model_module_version": "1.2.0",
      "model_name": "LayoutModel",
      "state": {}
     },
     "692afc031ec34b759c52983712b6ea5d": {
      "model_module": "@jupyter-widgets/controls",
      "model_module_version": "1.5.0",
      "model_name": "HBoxModel",
      "state": {
       "children": [
        "IPY_MODEL_d513e7c21e824ad99cd4884a8ebbf1da",
        "IPY_MODEL_8b47de247693491090352c912c197822",
        "IPY_MODEL_4cf9807c21644b0094bf71eab11c84d8"
       ],
       "layout": "IPY_MODEL_22595caa1c904eb4adb476eb1cfd485e"
      }
     },
     "6955da6af0f84485b2c3a5436c74636c": {
      "model_module": "@jupyter-widgets/controls",
      "model_module_version": "1.5.0",
      "model_name": "DescriptionStyleModel",
      "state": {
       "description_width": ""
      }
     },
     "6956c10fae964fdba1270717a2d4c0af": {
      "model_module": "@jupyter-widgets/controls",
      "model_module_version": "1.5.0",
      "model_name": "DescriptionStyleModel",
      "state": {
       "description_width": "initial"
      }
     },
     "69758ce3123b487ab3cae812f1a9fec6": {
      "model_module": "@jupyter-widgets/controls",
      "model_module_version": "1.5.0",
      "model_name": "ButtonStyleModel",
      "state": {}
     },
     "698d56fe734e4dbf94ced120e6db49ad": {
      "model_module": "@jupyter-widgets/controls",
      "model_module_version": "1.5.0",
      "model_name": "DescriptionStyleModel",
      "state": {
       "description_width": "initial"
      }
     },
     "69bdc32f14f44ff2b87dd6516a51077d": {
      "model_module": "@jupyter-widgets/base",
      "model_module_version": "1.2.0",
      "model_name": "LayoutModel",
      "state": {}
     },
     "6a097f6be1694451aeb47c8983dc9e2b": {
      "model_module": "@jupyter-widgets/controls",
      "model_module_version": "1.5.0",
      "model_name": "DescriptionStyleModel",
      "state": {
       "description_width": ""
      }
     },
     "6a1b8adb962d42f0b664f955a34be9c0": {
      "model_module": "@jupyter-widgets/base",
      "model_module_version": "1.2.0",
      "model_name": "LayoutModel",
      "state": {
       "display": "none",
       "grid_gap": "0px 0px",
       "grid_template_areas": "\n                    'pathlist filename'\n                    'dircontent dircontent'\n                    ",
       "grid_template_columns": "60% 40%",
       "grid_template_rows": "auto auto",
       "width": "500px"
      }
     },
     "6b58f2da27a34a8e974e91d21e1809b8": {
      "model_module": "@jupyter-widgets/base",
      "model_module_version": "1.2.0",
      "model_name": "LayoutModel",
      "state": {}
     },
     "6b66ed5627dc430bbb2744f9ef86be04": {
      "model_module": "@jupyter-widgets/controls",
      "model_module_version": "1.5.0",
      "model_name": "VBoxModel",
      "state": {
       "children": [
        "IPY_MODEL_4e552ebe76fc4f7cb0e5062ccdba7fe8",
        "IPY_MODEL_23374d9db6054febb83ff507c2739ec2"
       ],
       "layout": "IPY_MODEL_92c5521162bb456286cf762ecc8ffcb4"
      }
     },
     "6b74628f942c4f768701dcded500e9e3": {
      "model_module": "@jupyter-widgets/controls",
      "model_module_version": "1.5.0",
      "model_name": "DescriptionStyleModel",
      "state": {
       "description_width": "initial"
      }
     },
     "6be7e9b10f7142c2943dcf1e8d59a170": {
      "model_module": "@jupyter-widgets/controls",
      "model_module_version": "1.5.0",
      "model_name": "DescriptionStyleModel",
      "state": {
       "description_width": ""
      }
     },
     "6c0afc489b4444c295c247ba0f3287ae": {
      "model_module": "@jupyter-widgets/controls",
      "model_module_version": "1.5.0",
      "model_name": "DescriptionStyleModel",
      "state": {
       "description_width": ""
      }
     },
     "6c10a3e73cc54d149f1dafd891e05c48": {
      "model_module": "@jupyter-widgets/controls",
      "model_module_version": "1.5.0",
      "model_name": "ButtonStyleModel",
      "state": {}
     },
     "6c5ec514a24b420681a602caa6bfcece": {
      "model_module": "@jupyter-widgets/base",
      "model_module_version": "1.2.0",
      "model_name": "LayoutModel",
      "state": {
       "display": "none",
       "width": "auto"
      }
     },
     "6c694dd944c74303800e748d5ca9f34d": {
      "model_module": "@jupyter-widgets/controls",
      "model_module_version": "1.5.0",
      "model_name": "VBoxModel",
      "state": {
       "children": [
        "IPY_MODEL_cb47e7828d9348088fc80fff59d18507",
        "IPY_MODEL_9103895371fe4da6a510379191644de9",
        "IPY_MODEL_9a6bc9cce1bd4715b97433196041b9d0"
       ],
       "layout": "IPY_MODEL_4cccafb453a14e408b8c65852c7cd6b1"
      }
     },
     "6c7bce3ccada426594f0eb195b2d88ad": {
      "model_module": "@jupyter-widgets/base",
      "model_module_version": "1.2.0",
      "model_name": "LayoutModel",
      "state": {
       "display": "none",
       "grid_gap": "0px 0px",
       "grid_template_areas": "\n                    'pathlist pathlist'\n                    'dircontent dircontent'\n                    ",
       "grid_template_columns": "60% 40%",
       "grid_template_rows": "auto auto",
       "width": "500px"
      }
     },
     "6c7ffe1c326d4121ad0fa082c8f8bfee": {
      "model_module": "@jupyter-widgets/base",
      "model_module_version": "1.2.0",
      "model_name": "LayoutModel",
      "state": {}
     },
     "6cddd6e88c7044d8b19b67f870bd3583": {
      "model_module": "@jupyter-widgets/controls",
      "model_module_version": "1.5.0",
      "model_name": "HBoxModel",
      "state": {
       "children": [
        "IPY_MODEL_cc4eb26549a943e4a0be220d5477f71d",
        "IPY_MODEL_53d9db4c38f64b8f9d7d498c1d1a509e"
       ],
       "layout": "IPY_MODEL_463cfc7f13a848aaa7cfdac3b33d92ad"
      }
     },
     "6d142ce00cd243a589d6c11e9c425755": {
      "model_module": "@jupyter-widgets/controls",
      "model_module_version": "1.5.0",
      "model_name": "VBoxModel",
      "state": {
       "children": [
        "IPY_MODEL_e5160a150d014699a613b3c4f801265d",
        "IPY_MODEL_05ddde1d089a4511810731759da1651f"
       ],
       "layout": "IPY_MODEL_867b307b2ef244b29088b78a3def1559"
      }
     },
     "6d3446a26f654c019e36633d209dbb50": {
      "model_module": "@jupyter-widgets/controls",
      "model_module_version": "1.5.0",
      "model_name": "DescriptionStyleModel",
      "state": {
       "description_width": ""
      }
     },
     "6d5073554d2d498cb4e01d57665bc1e4": {
      "model_module": "@jupyter-widgets/controls",
      "model_module_version": "1.5.0",
      "model_name": "DescriptionStyleModel",
      "state": {
       "description_width": ""
      }
     },
     "6d6026a04d27496f8b7f8656a9f4769b": {
      "model_module": "@jupyter-widgets/controls",
      "model_module_version": "1.5.0",
      "model_name": "DescriptionStyleModel",
      "state": {
       "description_width": ""
      }
     },
     "6d6a415a338948b6bb30ed7a75ce13c8": {
      "model_module": "@jupyter-widgets/base",
      "model_module_version": "1.2.0",
      "model_name": "LayoutModel",
      "state": {
       "grid_area": "filename",
       "width": "auto"
      }
     },
     "6da2b2af488b48b98ef7671072bf7a51": {
      "model_module": "@jupyter-widgets/base",
      "model_module_version": "1.2.0",
      "model_name": "LayoutModel",
      "state": {
       "grid_area": "dircontent",
       "width": "auto"
      }
     },
     "6da8a9047a574539a862fa99b88f71b7": {
      "model_module": "@jupyter-widgets/controls",
      "model_module_version": "1.5.0",
      "model_name": "ButtonModel",
      "state": {
       "description": "Select",
       "layout": "IPY_MODEL_aad2aef820814e49979030be1fa78e90",
       "style": "IPY_MODEL_6c10a3e73cc54d149f1dafd891e05c48"
      }
     },
     "6de7ac94202b4b629a11c8fa179b7e39": {
      "model_module": "@jupyter-widgets/controls",
      "model_module_version": "1.5.0",
      "model_name": "SelectModel",
      "state": {
       "_options_labels": [
        "..",
        "dask-worker-space",
        "images"
       ],
       "index": null,
       "layout": "IPY_MODEL_db8dafa78557412891e611b9951b4a13",
       "rows": 8,
       "style": "IPY_MODEL_45ac68da394149399c321c95fff07e5d"
      }
     },
     "6e7261150b894bc5b48ce3f63d55be29": {
      "model_module": "@jupyter-widgets/controls",
      "model_module_version": "1.5.0",
      "model_name": "SelectModel",
      "state": {
       "_options_labels": [
        "..",
        "dask-worker-space",
        "images",
        "Untitled.ipynb",
        "base_application.ipynb",
        "calculator.ipynb",
        "clustering.ipynb",
        "contouring.ipynb",
        "coordinate_transformation.ipynb",
        "create_surface.ipynb",
        "data_interpolation.ipynb",
        "edge_detection.ipynb",
        "export.ipynb",
        "geophysical_inversion.ipynb",
        "object_data_selection.ipynb",
        "peak_finder.ipynb",
        "scatter.ipynb",
        "view_selection.ipynb"
       ],
       "index": null,
       "layout": "IPY_MODEL_f56ab9e21c1e4a12a44ba5c8a84b4f2e",
       "rows": 8,
       "style": "IPY_MODEL_14cc9c83ebcb4355bedbd8028b153e33"
      }
     },
     "6f192d27735d42d3a64a158dafd9e39a": {
      "model_module": "@jupyter-widgets/base",
      "model_module_version": "1.2.0",
      "model_name": "LayoutModel",
      "state": {}
     },
     "6f54f2436ca54b3b84777fbc8741f461": {
      "model_module": "@jupyter-widgets/base",
      "model_module_version": "1.2.0",
      "model_name": "LayoutModel",
      "state": {}
     },
     "6f7e9876b40b4e60aa4a4bbff2881e9e": {
      "model_module": "@jupyter-widgets/controls",
      "model_module_version": "1.5.0",
      "model_name": "DescriptionStyleModel",
      "state": {
       "description_width": ""
      }
     },
     "6f8a6ef10d084f109a6dcff655b307af": {
      "model_module": "@jupyter-widgets/controls",
      "model_module_version": "1.5.0",
      "model_name": "LabelModel",
      "state": {
       "layout": "IPY_MODEL_8027f8d3256749e98ff6dfc1e2f4b1e2",
       "style": "IPY_MODEL_15325aabadbf4d05a8e6056f6cdb67ef",
       "value": "Workspace"
      }
     },
     "6fae567556384844a59d8f121c57ed21": {
      "model_module": "@jupyter-widgets/base",
      "model_module_version": "1.2.0",
      "model_name": "LayoutModel",
      "state": {}
     },
     "700a689034734fc59baa3e38b7a367eb": {
      "model_module": "@jupyter-widgets/base",
      "model_module_version": "1.2.0",
      "model_name": "LayoutModel",
      "state": {
       "width": "auto"
      }
     },
     "7042d1b709124de59d455814fd63c16c": {
      "model_module": "@jupyter-widgets/controls",
      "model_module_version": "1.5.0",
      "model_name": "DescriptionStyleModel",
      "state": {
       "description_width": "initial"
      }
     },
     "7063b2852250474ebdcc82a7a0931f9e": {
      "model_module": "@jupyter-widgets/base",
      "model_module_version": "1.2.0",
      "model_name": "LayoutModel",
      "state": {}
     },
     "7066691199f04552a511db4908f31cd4": {
      "model_module": "@jupyter-widgets/controls",
      "model_module_version": "1.5.0",
      "model_name": "DescriptionStyleModel",
      "state": {
       "description_width": "initial"
      }
     },
     "7110cc1652f14c8db91eefeee7e7d6ee": {
      "model_module": "@jupyter-widgets/base",
      "model_module_version": "1.2.0",
      "model_name": "LayoutModel",
      "state": {
       "width": "auto"
      }
     },
     "7122600fd159412ca0be186b2c998884": {
      "model_module": "@jupyter-widgets/base",
      "model_module_version": "1.2.0",
      "model_name": "LayoutModel",
      "state": {}
     },
     "712a43e85f5047c09fc089634092fde5": {
      "model_module": "@jupyter-widgets/controls",
      "model_module_version": "1.5.0",
      "model_name": "CheckboxModel",
      "state": {
       "description": "GA Pro - Live link",
       "disabled": false,
       "indent": false,
       "layout": "IPY_MODEL_d9873301aec646bcae7f472b47e725de",
       "style": "IPY_MODEL_4b5a3119feee41dca8b713deccdbdfed",
       "value": false
      }
     },
     "712c914c9922488a8e3fdba8590e452d": {
      "model_module": "@jupyter-widgets/base",
      "model_module_version": "1.2.0",
      "model_name": "LayoutModel",
      "state": {}
     },
     "712e649c9fac4dfaa56109e5d479cb55": {
      "model_module": "@jupyter-widgets/base",
      "model_module_version": "1.2.0",
      "model_name": "LayoutModel",
      "state": {
       "width": "auto"
      }
     },
     "716867d0a54740cf80dac41515c66eee": {
      "model_module": "@jupyter-widgets/base",
      "model_module_version": "1.2.0",
      "model_name": "LayoutModel",
      "state": {
       "width": "100%"
      }
     },
     "716b33e81c4c4e088a36e0f30c6b9428": {
      "model_module": "@jupyter-widgets/controls",
      "model_module_version": "1.5.0",
      "model_name": "HTMLModel",
      "state": {
       "layout": "IPY_MODEL_bea6fd92e9d9428c9a9facde68caebca",
       "placeholder": "",
       "style": "IPY_MODEL_5262c0124d5042bbbb8ba815d2b8b063",
       "value": "<span style=\"margin-left:10px; color:black;\">No file selected</span>"
      }
     },
     "71c9e36aaeaa427387206fc0785d8578": {
      "model_module": "@jupyter-widgets/base",
      "model_module_version": "1.2.0",
      "model_name": "LayoutModel",
      "state": {
       "display": "none",
       "width": "auto"
      }
     },
     "72429aaf7d114c76ba2ae3972ca16253": {
      "model_module": "@jupyter-widgets/base",
      "model_module_version": "1.2.0",
      "model_name": "LayoutModel",
      "state": {
       "display": "none",
       "grid_gap": "0px 0px",
       "grid_template_areas": "\n                    'pathlist filename'\n                    'dircontent dircontent'\n                    ",
       "grid_template_columns": "60% 40%",
       "grid_template_rows": "auto auto",
       "width": "500px"
      }
     },
     "72b43baf191c47b082c9a1dd9d5bac79": {
      "model_module": "@jupyter-widgets/base",
      "model_module_version": "1.2.0",
      "model_name": "LayoutModel",
      "state": {
       "width": "auto"
      }
     },
     "72ca638cf7754936b221952a8d8a0e58": {
      "model_module": "@jupyter-widgets/controls",
      "model_module_version": "1.5.0",
      "model_name": "DescriptionStyleModel",
      "state": {
       "description_width": ""
      }
     },
     "72dcf84e391d4e289adf7e43656ec998": {
      "model_module": "@jupyter-widgets/base",
      "model_module_version": "1.2.0",
      "model_name": "LayoutModel",
      "state": {
       "width": "auto"
      }
     },
     "72ecc810e8474dca99eb2ddfe880f5e1": {
      "model_module": "@jupyter-widgets/controls",
      "model_module_version": "1.5.0",
      "model_name": "DescriptionStyleModel",
      "state": {
       "description_width": ""
      }
     },
     "72f228ab9fd7436aafd18ac2b26bf31b": {
      "model_module": "@jupyter-widgets/controls",
      "model_module_version": "1.5.0",
      "model_name": "DescriptionStyleModel",
      "state": {
       "description_width": ""
      }
     },
     "7337b78b726046528bf1b8260c1cdc63": {
      "model_module": "@jupyter-widgets/base",
      "model_module_version": "1.2.0",
      "model_name": "LayoutModel",
      "state": {}
     },
     "736d860da90a4648b982e3f0c924a1f4": {
      "model_module": "@jupyter-widgets/controls",
      "model_module_version": "1.5.0",
      "model_name": "VBoxModel",
      "state": {
       "children": [
        "IPY_MODEL_c049c49d7ee040729aa452cc88dec369",
        "IPY_MODEL_f7910df98abf4e149f4eacad226776ea"
       ],
       "layout": "IPY_MODEL_4aa10b91da32453c8eb7f91a70d313a3"
      }
     },
     "737941bbdd754fedb3d169858b735444": {
      "model_module": "@jupyter-widgets/base",
      "model_module_version": "1.2.0",
      "model_name": "LayoutModel",
      "state": {}
     },
     "738a58610271464c88c7febec54b01c3": {
      "model_module": "@jupyter-widgets/base",
      "model_module_version": "1.2.0",
      "model_name": "LayoutModel",
      "state": {}
     },
     "73ad3f1a52964a65bc3a8e6bc635eaa2": {
      "model_module": "@jupyter-widgets/controls",
      "model_module_version": "1.5.0",
      "model_name": "DescriptionStyleModel",
      "state": {
       "description_width": ""
      }
     },
     "73d8e8837be447afaab5df28a3645e0f": {
      "model_module": "@jupyter-widgets/controls",
      "model_module_version": "1.5.0",
      "model_name": "ButtonStyleModel",
      "state": {}
     },
     "73f5b4104b8849a2b18fa2d1bd252cf1": {
      "model_module": "@jupyter-widgets/base",
      "model_module_version": "1.2.0",
      "model_name": "LayoutModel",
      "state": {
       "display": "none",
       "grid_gap": "0px 0px",
       "grid_template_areas": "\n                    'pathlist filename'\n                    'dircontent dircontent'\n                    ",
       "grid_template_columns": "60% 40%",
       "grid_template_rows": "auto auto",
       "width": "500px"
      }
     },
     "7422739bc7514b64a6250581c9f68522": {
      "model_module": "@jupyter-widgets/controls",
      "model_module_version": "1.5.0",
      "model_name": "DescriptionStyleModel",
      "state": {
       "description_width": "initial"
      }
     },
     "74896f0517b54985b2f4ce6de9fa04b8": {
      "model_module": "@jupyter-widgets/controls",
      "model_module_version": "1.5.0",
      "model_name": "TextModel",
      "state": {
       "description": "Error (%, floor)",
       "layout": "IPY_MODEL_ca9c5cf676514345b852bafce77d9a65",
       "style": "IPY_MODEL_064466aef59b4025afea67fef7eb5027",
       "value": "0, 1"
      }
     },
     "74a600bd953f4358bcba7d803b20b1a2": {
      "model_module": "@jupyter-widgets/base",
      "model_module_version": "1.2.0",
      "model_name": "LayoutModel",
      "state": {}
     },
     "74a800ea2ab147dd921c9b85e3872214": {
      "model_module": "@jupyter-widgets/controls",
      "model_module_version": "1.5.0",
      "model_name": "ButtonModel",
      "state": {
       "description": "Cancel",
       "layout": "IPY_MODEL_331db94b026b4381bcb592b6a9f46b28",
       "style": "IPY_MODEL_7fde8483d1ae47baa3838b611f757e58"
      }
     },
     "74bd3138a1de42708e06f1f491af3c6f": {
      "model_module": "@jupyter-widgets/controls",
      "model_module_version": "1.5.0",
      "model_name": "DescriptionStyleModel",
      "state": {
       "description_width": ""
      }
     },
     "7511986b2c2a4470a49b2a078f204066": {
      "model_module": "@jupyter-widgets/controls",
      "model_module_version": "1.5.0",
      "model_name": "SliderStyleModel",
      "state": {
       "description_width": ""
      }
     },
     "753e4123ad4d48da81d542a36d7fe3ab": {
      "model_module": "@jupyter-widgets/controls",
      "model_module_version": "1.5.0",
      "model_name": "GridBoxModel",
      "state": {
       "children": [
        "IPY_MODEL_ba3a7aa4b69749b99239da408be0cfc1",
        "IPY_MODEL_3b1f5cf9b7b940ffa6ba5c8261f76e6e",
        "IPY_MODEL_6de7ac94202b4b629a11c8fa179b7e39"
       ],
       "layout": "IPY_MODEL_bdab7e189cb94b1dac5a8213c089ff4e"
      }
     },
     "75640aaca45b44c990add3763909caf9": {
      "model_module": "@jupyter-widgets/controls",
      "model_module_version": "1.5.0",
      "model_name": "HTMLModel",
      "state": {
       "layout": "IPY_MODEL_a834468d6d0042618cd784edd63a39b4",
       "placeholder": "",
       "style": "IPY_MODEL_27432df66d6240c2bdac5cc679ef8235",
       "value": "<span style=\"margin-left:10px; color:black;\">No file selected</span>"
      }
     },
     "756660eb85ef461aabd82d7bd62117d5": {
      "model_module": "@jupyter-widgets/base",
      "model_module_version": "1.2.0",
      "model_name": "LayoutModel",
      "state": {}
     },
     "756c6ba1d97244dcb08478ae73791521": {
      "model_module": "@jupyter-widgets/controls",
      "model_module_version": "1.5.0",
      "model_name": "TextModel",
      "state": {
       "description": "Scaling alpha_(s, x, y, z)",
       "layout": "IPY_MODEL_1b380cc028fe4bc9b279a2ddb6ef89a6",
       "style": "IPY_MODEL_41a89c7b4bf44d31a22d85cffb1fd67a",
       "value": "1.0, 1.0, 1.0, 1.0"
      }
     },
     "759fc728de77432db7219148d51b97a5": {
      "model_module": "@jupyter-widgets/base",
      "model_module_version": "1.2.0",
      "model_name": "LayoutModel",
      "state": {}
     },
     "75a323791070495f94c56b88fc29dd95": {
      "model_module": "@jupyter-widgets/controls",
      "model_module_version": "1.5.0",
      "model_name": "DescriptionStyleModel",
      "state": {
       "description_width": ""
      }
     },
     "75d749d433604b5b9fa4e468d8a055c6": {
      "model_module": "@jupyter-widgets/controls",
      "model_module_version": "1.5.0",
      "model_name": "ButtonStyleModel",
      "state": {}
     },
     "76055ed207b04b3b8f5df980e8409edc": {
      "model_module": "@jupyter-widgets/base",
      "model_module_version": "1.2.0",
      "model_name": "LayoutModel",
      "state": {
       "visibility": "hidden"
      }
     },
     "762874daa8ee47149527e2f842a4cf6c": {
      "model_module": "@jupyter-widgets/base",
      "model_module_version": "1.2.0",
      "model_name": "LayoutModel",
      "state": {}
     },
     "7672920e2c1848a59b5c866dfac3ab54": {
      "model_module": "@jupyter-widgets/controls",
      "model_module_version": "1.5.0",
      "model_name": "ButtonStyleModel",
      "state": {}
     },
     "76f72dfcdcb64c52b6fdb30c848fa616": {
      "model_module": "@jupyter-widgets/controls",
      "model_module_version": "1.5.0",
      "model_name": "DescriptionStyleModel",
      "state": {
       "description_width": ""
      }
     },
     "77176b70c5f5490aa0be04403a7f3ca4": {
      "model_module": "@jupyter-widgets/controls",
      "model_module_version": "1.5.0",
      "model_name": "DescriptionStyleModel",
      "state": {
       "description_width": "initial"
      }
     },
     "774c0085707b4c709f163d0e8514aaab": {
      "model_module": "@jupyter-widgets/controls",
      "model_module_version": "1.5.0",
      "model_name": "TextModel",
      "state": {
       "description": "byy",
       "layout": "IPY_MODEL_c00a3508393d437aa6818a94af0bbb1e",
       "style": "IPY_MODEL_784105a47b98462785ad417e97e1179d"
      }
     },
     "77c4edbb52b14b7b85123988ecc27e29": {
      "model_module": "@jupyter-widgets/controls",
      "model_module_version": "1.5.0",
      "model_name": "ButtonStyleModel",
      "state": {}
     },
     "77f2ec9cd4c144c9827823f90889c615": {
      "model_module": "@jupyter-widgets/controls",
      "model_module_version": "1.5.0",
      "model_name": "TextModel",
      "state": {
       "layout": "IPY_MODEL_e55f77c5dc5d4dc8bfac6f672879d3d6",
       "placeholder": "output filename",
       "style": "IPY_MODEL_edfecfbff891433489129c5a026cf4a3"
      }
     },
     "77fd5887b4ba41f69f6cadf01d5e055c": {
      "model_module": "@jupyter-widgets/controls",
      "model_module_version": "1.5.0",
      "model_name": "DescriptionStyleModel",
      "state": {
       "description_width": ""
      }
     },
     "781e3973e4444f8ba0b305e05b8ada26": {
      "model_module": "@jupyter-widgets/controls",
      "model_module_version": "1.5.0",
      "model_name": "DescriptionStyleModel",
      "state": {
       "description_width": ""
      }
     },
     "782cf9eee7d34bba9dbfe53d86edc4c0": {
      "model_module": "@jupyter-widgets/controls",
      "model_module_version": "1.5.0",
      "model_name": "VBoxModel",
      "state": {
       "children": [
        "IPY_MODEL_f280aec6ccd544b798a91370e74963b1",
        "IPY_MODEL_fbbc27ae7c0144478955e42d5b2ca6fb"
       ],
       "layout": "IPY_MODEL_3ade7fb13a144119ab4b53c8803c75bb"
      }
     },
     "783081a6498144809961cd426b92956a": {
      "model_module": "@jupyter-widgets/controls",
      "model_module_version": "1.5.0",
      "model_name": "SliderStyleModel",
      "state": {
       "description_width": ""
      }
     },
     "784105a47b98462785ad417e97e1179d": {
      "model_module": "@jupyter-widgets/controls",
      "model_module_version": "1.5.0",
      "model_name": "DescriptionStyleModel",
      "state": {
       "description_width": "initial"
      }
     },
     "7857c8266c344d7f8c18908585e1a8ea": {
      "model_module": "@jupyter-widgets/base",
      "model_module_version": "1.2.0",
      "model_name": "LayoutModel",
      "state": {
       "grid_area": "pathlist",
       "width": "auto"
      }
     },
     "786c2d5b00b14178a418ac3b91165a6d": {
      "model_module": "@jupyter-widgets/controls",
      "model_module_version": "1.5.0",
      "model_name": "DescriptionStyleModel",
      "state": {
       "description_width": ""
      }
     },
     "787b00d8feb340eca07685956c44781a": {
      "model_module": "@jupyter-widgets/base",
      "model_module_version": "1.2.0",
      "model_name": "LayoutModel",
      "state": {}
     },
     "789dc961c34c4b63847613e9725c3c19": {
      "model_module": "@jupyter-widgets/controls",
      "model_module_version": "1.5.0",
      "model_name": "GridBoxModel",
      "state": {
       "children": [
        "IPY_MODEL_1d792a49a40848a4a99eb236ac6a05f3",
        "IPY_MODEL_9cea47efc5fe433c8d9ba3dff44e4485",
        "IPY_MODEL_d9e4d4a07f4142e488a23653d05ed31d"
       ],
       "layout": "IPY_MODEL_6c7bce3ccada426594f0eb195b2d88ad"
      }
     },
     "78c9324b8f29465fbdb62c235099e8ad": {
      "model_module": "@jupyter-widgets/controls",
      "model_module_version": "1.5.0",
      "model_name": "SelectModel",
      "state": {
       "_options_labels": [
        "..",
        "dask-worker-space",
        "images"
       ],
       "index": null,
       "layout": "IPY_MODEL_06ac9e08d35d43f08089f14c97f570da",
       "rows": 8,
       "style": "IPY_MODEL_6c0afc489b4444c295c247ba0f3287ae"
      }
     },
     "78f720386a204c248a3022f928301ea0": {
      "model_module": "@jupyter-widgets/controls",
      "model_module_version": "1.5.0",
      "model_name": "DescriptionStyleModel",
      "state": {
       "description_width": ""
      }
     },
     "78fdaa3523354708b6e457cc02920cd1": {
      "model_module": "@jupyter-widgets/controls",
      "model_module_version": "1.5.0",
      "model_name": "DescriptionStyleModel",
      "state": {
       "description_width": ""
      }
     },
     "7968bd0f20f84b938543113e0e3e9892": {
      "model_module": "@jupyter-widgets/controls",
      "model_module_version": "1.5.0",
      "model_name": "VBoxModel",
      "state": {
       "children": [
        "IPY_MODEL_079ab5067206481aa0f3c7b757dde941"
       ],
       "layout": "IPY_MODEL_58f439fc4fee42ac810c582b84a242ce"
      }
     },
     "7a6096c690f6456b8ae2ed84d758321e": {
      "model_module": "@jupyter-widgets/controls",
      "model_module_version": "1.5.0",
      "model_name": "VBoxModel",
      "state": {
       "children": [
        "IPY_MODEL_eb5e6f4f08644fe8bc491a07560d812e",
        "IPY_MODEL_bcc6f2b1ea894f1b9a557de64df9724e"
       ],
       "layout": "IPY_MODEL_adbb5ef479d841b0a7bf749f571ada16"
      }
     },
     "7ac3b949851a4186ae4b6818920966b2": {
      "model_module": "@jupyter-widgets/base",
      "model_module_version": "1.2.0",
      "model_name": "LayoutModel",
      "state": {
       "grid_area": "pathlist",
       "width": "auto"
      }
     },
     "7aca934f96c84651a29aa01182126330": {
      "model_module": "@jupyter-widgets/base",
      "model_module_version": "1.2.0",
      "model_name": "LayoutModel",
      "state": {}
     },
     "7af7981bf94d41d4b1fef5563275b7fc": {
      "model_module": "@jupyter-widgets/controls",
      "model_module_version": "1.5.0",
      "model_name": "DescriptionStyleModel",
      "state": {
       "description_width": ""
      }
     },
     "7ba30795b16b4086bdd9e158323337f4": {
      "model_module": "@jupyter-widgets/controls",
      "model_module_version": "1.5.0",
      "model_name": "VBoxModel",
      "state": {
       "children": [
        "IPY_MODEL_2e303d0eb5064dd58c51cca1acec1268",
        "IPY_MODEL_eb2156c477fd4d06bec269a17ea704c6"
       ],
       "layout": "IPY_MODEL_116978c6a8f24b1697c7d1f68b4b00b3"
      }
     },
     "7bac1e8e611643b6b6c1a46c772162cc": {
      "model_module": "@jupyter-widgets/base",
      "model_module_version": "1.2.0",
      "model_name": "LayoutModel",
      "state": {}
     },
     "7bcd83a4c30a42f2903e343e82645237": {
      "model_module": "@jupyter-widgets/base",
      "model_module_version": "1.2.0",
      "model_name": "LayoutModel",
      "state": {}
     },
     "7bdb01c0a61542a7ab82358e97a701f1": {
      "model_module": "@jupyter-widgets/controls",
      "model_module_version": "1.5.0",
      "model_name": "FloatSliderModel",
      "state": {
       "continuous_update": false,
       "description": "Height",
       "layout": "IPY_MODEL_b0f3b2d298ef4f518c0b6c52992e0e78",
       "max": 11351.865002485923,
       "orientation": "vertical",
       "step": 0.1,
       "style": "IPY_MODEL_8167b500ba364dbfb4898d09fdb26ba3",
       "value": 1500
      }
     },
     "7be8e50958034e83ae02884c5aea2139": {
      "model_module": "@jupyter-widgets/controls",
      "model_module_version": "1.5.0",
      "model_name": "RadioButtonsModel",
      "state": {
       "_options_labels": [
        "Model",
        "Value"
       ],
       "index": 1,
       "layout": "IPY_MODEL_f59c0e0f463e4697933622f2cf5563aa",
       "style": "IPY_MODEL_6f7e9876b40b4e60aa4a4bbff2881e9e"
      }
     },
     "7c4eadd91dc64ba39c8332ab7f29e15b": {
      "model_module": "@jupyter-widgets/base",
      "model_module_version": "1.2.0",
      "model_name": "LayoutModel",
      "state": {
       "display": "none",
       "width": "auto"
      }
     },
     "7ca21315b5f141729bd3dbd55bd0212f": {
      "model_module": "@jupyter-widgets/base",
      "model_module_version": "1.2.0",
      "model_name": "LayoutModel",
      "state": {}
     },
     "7cc28b4af9ae4312b3632aa6110d6b09": {
      "model_module": "@jupyter-widgets/base",
      "model_module_version": "1.2.0",
      "model_name": "LayoutModel",
      "state": {}
     },
     "7d2dbdf4fe1e4e5e81bd792b68fe3ae6": {
      "model_module": "@jupyter-widgets/controls",
      "model_module_version": "1.5.0",
      "model_name": "VBoxModel",
      "state": {
       "children": [
        "IPY_MODEL_0932e90f036a43be993e41a7800a302a",
        "IPY_MODEL_05a0ab9c947c4665a5703940509806b2"
       ],
       "layout": "IPY_MODEL_af9678f0cb9443ab8ed1da39a348a012"
      }
     },
     "7dcc842914cd449ab64da432583929f1": {
      "model_module": "@jupyter-widgets/controls",
      "model_module_version": "1.5.0",
      "model_name": "DropdownModel",
      "state": {
       "description": "Values",
       "index": null,
       "layout": "IPY_MODEL_b9a596c2d52044768786286fe3fed65b",
       "style": "IPY_MODEL_3b10ac488ec343bcb8c199e274125946"
      }
     },
     "7e0aa9f442104ad1a3446f936dc15f37": {
      "model_module": "@jupyter-widgets/controls",
      "model_module_version": "1.5.0",
      "model_name": "ButtonModel",
      "state": {
       "description": "Select",
       "layout": "IPY_MODEL_8a25f2b0e7164a67b2f587a6b23a8a9b",
       "style": "IPY_MODEL_ef65ce82678645ff808f1cb035e47b65"
      }
     },
     "7e7bbf3b1bf248aa880b8eda97ac4bc2": {
      "model_module": "@jupyter-widgets/controls",
      "model_module_version": "1.5.0",
      "model_name": "VBoxModel",
      "state": {
       "children": [
        "IPY_MODEL_f03d581ff321409d9a3122ccf16a98a8"
       ],
       "layout": "IPY_MODEL_e31fd8606b1b475fb7624c15e21c1e85"
      }
     },
     "7ef5c6c270c341fab1c5e4ae642aedc0": {
      "model_module": "@jupyter-widgets/base",
      "model_module_version": "1.2.0",
      "model_name": "LayoutModel",
      "state": {}
     },
     "7ef893888e4941bea4af55abcf9b11cb": {
      "model_module": "@jupyter-widgets/base",
      "model_module_version": "1.2.0",
      "model_name": "LayoutModel",
      "state": {
       "width": "auto"
      }
     },
     "7f7888311b35432b8ba847668bba2a30": {
      "model_module": "@jupyter-widgets/base",
      "model_module_version": "1.2.0",
      "model_name": "LayoutModel",
      "state": {
       "display": "none",
       "grid_gap": "0px 0px",
       "grid_template_areas": "\n                    'pathlist pathlist'\n                    'dircontent dircontent'\n                    ",
       "grid_template_columns": "60% 40%",
       "grid_template_rows": "auto auto",
       "width": "500px"
      }
     },
     "7fa86af57a7041d3941d43d6371996b9": {
      "model_module": "@jupyter-widgets/controls",
      "model_module_version": "1.5.0",
      "model_name": "DescriptionStyleModel",
      "state": {
       "description_width": "initial"
      }
     },
     "7fde8483d1ae47baa3838b611f757e58": {
      "model_module": "@jupyter-widgets/controls",
      "model_module_version": "1.5.0",
      "model_name": "ButtonStyleModel",
      "state": {}
     },
     "8002721af65940fd936ab186d2f611d4": {
      "model_module": "@jupyter-widgets/controls",
      "model_module_version": "1.5.0",
      "model_name": "VBoxModel",
      "state": {
       "children": [
        "IPY_MODEL_d7f90d14bf724caaafe2aab75f888b47",
        "IPY_MODEL_1ce98faf173245ecbf5e4d7a2ebe97d1",
        "IPY_MODEL_635abc35dec441079532624aedffc2dc"
       ],
       "layout": "IPY_MODEL_dd36f1b20041416382133401a8d4018f"
      }
     },
     "8027f8d3256749e98ff6dfc1e2f4b1e2": {
      "model_module": "@jupyter-widgets/base",
      "model_module_version": "1.2.0",
      "model_name": "LayoutModel",
      "state": {}
     },
     "805e5697d53b4bc08bdd36387f1d9da4": {
      "model_module": "@jupyter-widgets/controls",
      "model_module_version": "1.5.0",
      "model_name": "VBoxModel",
      "state": {
       "children": [
        "IPY_MODEL_e01ab731731e46fa91d885ded1ee2121",
        "IPY_MODEL_8e1c4b4c43954713a718d8a36f7dd689",
        "IPY_MODEL_d1251e7c50e84689ad4b6c3bf6e3b775",
        "IPY_MODEL_74896f0517b54985b2f4ce6de9fa04b8",
        "IPY_MODEL_bbc1f3b7a20741c08e19cabe812628e4"
       ],
       "layout": "IPY_MODEL_37630b9469f043f197bf2be8d6361b9f"
      }
     },
     "8100e80cc53f4aa2ade65a4355ec4d90": {
      "model_module": "@jupyter-widgets/controls",
      "model_module_version": "1.5.0",
      "model_name": "DescriptionStyleModel",
      "state": {
       "description_width": ""
      }
     },
     "81114ef56b644dca9594945e27e9b760": {
      "model_module": "@jupyter-widgets/controls",
      "model_module_version": "1.5.0",
      "model_name": "DescriptionStyleModel",
      "state": {
       "description_width": ""
      }
     },
     "8167b500ba364dbfb4898d09fdb26ba3": {
      "model_module": "@jupyter-widgets/controls",
      "model_module_version": "1.5.0",
      "model_name": "SliderStyleModel",
      "state": {
       "description_width": "initial"
      }
     },
     "8178f63f08904f7db5c537b7a90e4656": {
      "model_module": "@jupyter-widgets/controls",
      "model_module_version": "1.5.0",
      "model_name": "CheckboxModel",
      "state": {
       "description": "Forward only",
       "disabled": false,
       "layout": "IPY_MODEL_27729ad36e414562895e0ce6193c0556",
       "style": "IPY_MODEL_340c517b3d6447ee9b5c1f3859d244a0",
       "value": false
      }
     },
     "81c0cc8e46c24cf7a674c1e45fedc000": {
      "model_module": "@jupyter-widgets/base",
      "model_module_version": "1.2.0",
      "model_name": "LayoutModel",
      "state": {
       "display": "none"
      }
     },
     "81dce8e1fd58485f9308232f9f088ef3": {
      "model_module": "@jupyter-widgets/controls",
      "model_module_version": "1.5.0",
      "model_name": "DescriptionStyleModel",
      "state": {
       "description_width": ""
      }
     },
     "81fdda919f704465b94127a0f0362227": {
      "model_module": "@jupyter-widgets/base",
      "model_module_version": "1.2.0",
      "model_name": "LayoutModel",
      "state": {}
     },
     "81fe32a86d714574b126f77653b80593": {
      "model_module": "@jupyter-widgets/controls",
      "model_module_version": "1.5.0",
      "model_name": "VBoxModel",
      "state": {
       "children": [
        "IPY_MODEL_42711b336c514412ac068cc4c00a391b",
        "IPY_MODEL_9a72e81baf95426886e71071b1c1ced6",
        "IPY_MODEL_4881bc71818c454ea774de91e713062f",
        "IPY_MODEL_5887d0a978954ba796599bac85a9c03e",
        "IPY_MODEL_9d5b5ee288464def960c77e8a752311d"
       ],
       "layout": "IPY_MODEL_de84f4e8b13d4c8c8f31470bc5c33925"
      }
     },
     "826d9d1b50034f8bb18fa37c6e83f130": {
      "model_module": "@jupyter-widgets/controls",
      "model_module_version": "1.5.0",
      "model_name": "DescriptionStyleModel",
      "state": {
       "description_width": "initial"
      }
     },
     "828b8f9ea9c84917b71403b922a895fe": {
      "model_module": "@jupyter-widgets/controls",
      "model_module_version": "1.5.0",
      "model_name": "HBoxModel",
      "state": {
       "children": [
        "IPY_MODEL_8002721af65940fd936ab186d2f611d4",
        "IPY_MODEL_55706e350c7c4022a37569a4d1a7d0e2"
       ],
       "layout": "IPY_MODEL_95a04918ad5f4808b8a26b554a2ee08e"
      }
     },
     "82950fc3f0e04428bec53b1a9f22e7b6": {
      "model_module": "@jupyter-widgets/base",
      "model_module_version": "1.2.0",
      "model_name": "LayoutModel",
      "state": {
       "display": "none"
      }
     },
     "829d085210af459099a9f1dcfc725855": {
      "model_module": "@jupyter-widgets/base",
      "model_module_version": "1.2.0",
      "model_name": "LayoutModel",
      "state": {
       "display": "none",
       "width": "auto"
      }
     },
     "82a80cf74fae46d990f6ca5c22bbced8": {
      "model_module": "@jupyter-widgets/controls",
      "model_module_version": "1.5.0",
      "model_name": "DescriptionStyleModel",
      "state": {
       "description_width": ""
      }
     },
     "82f1bf73541944ff8b4d2955c129a9f3": {
      "model_module": "@jupyter-widgets/controls",
      "model_module_version": "1.5.0",
      "model_name": "DropdownModel",
      "state": {
       "_options_labels": [
        "C:\\Users\\dominiquef\\Documents\\GIT\\mira\\mirageoscience-apps\\assets",
        "C:\\Users\\dominiquef\\Documents\\GIT\\mira\\mirageoscience-apps",
        "C:\\Users\\dominiquef\\Documents\\GIT\\mira",
        "C:\\Users\\dominiquef\\Documents\\GIT",
        "C:\\Users\\dominiquef\\Documents",
        "C:\\Users\\dominiquef",
        "C:\\Users",
        "C:\\",
        "D:\\",
        "Z:\\"
       ],
       "index": 0,
       "layout": "IPY_MODEL_511bed745e974ff49fd758173c781a6e",
       "style": "IPY_MODEL_f9fd17d5d8574ca996694ef3a2397dc1"
      }
     },
     "833b3edb30584c979eb9f25211f9c980": {
      "model_module": "@jupyter-widgets/controls",
      "model_module_version": "1.5.0",
      "model_name": "SelectModel",
      "state": {
       "_options_labels": [
        "..",
        "SimPEG_PFInversion",
        "Temp",
        "dask-worker-space"
       ],
       "index": null,
       "layout": "IPY_MODEL_8f133424583b4396bdbff6d584af133c",
       "rows": 8,
       "style": "IPY_MODEL_0f440e46500b4c478e22b18f5b55d09a"
      }
     },
     "837c0a0936de49fba43ffdce06316f23": {
      "model_module": "@jupyter-widgets/base",
      "model_module_version": "1.2.0",
      "model_name": "LayoutModel",
      "state": {}
     },
     "8388118ee8a94677a3ef2dcc8145542e": {
      "model_module": "@jupyter-widgets/controls",
      "model_module_version": "1.5.0",
      "model_name": "HBoxModel",
      "state": {
       "children": [
        "IPY_MODEL_272551977d1d478686fb8c9d037ef7f6",
        "IPY_MODEL_18a40777ae6846e18e47fe21f1ddf069",
        "IPY_MODEL_4605b544ef2c45dbaa51e80b1387320f"
       ],
       "layout": "IPY_MODEL_1ffad77d98b6483696b3a088e7872e37"
      }
     },
     "83b28594affb42e4833051c9120a83c6": {
      "model_module": "@jupyter-widgets/controls",
      "model_module_version": "1.5.0",
      "model_name": "TextModel",
      "state": {
       "layout": "IPY_MODEL_4b8a1da4782d4200889afb47aa5a9ada",
       "placeholder": "output filename",
       "style": "IPY_MODEL_1e6e51cafcf642bf89c87538466b995d"
      }
     },
     "83d4550b34654a4ab0919a4e0cf4c17f": {
      "model_module": "@jupyter-widgets/controls",
      "model_module_version": "1.5.0",
      "model_name": "DropdownModel",
      "state": {
       "_options_labels": [
        "C:\\Users\\dominiquef\\Documents\\GIT\\mira\\mirageoscience-apps\\docs\\content\\applications",
        "C:\\Users\\dominiquef\\Documents\\GIT\\mira\\mirageoscience-apps\\docs\\content",
        "C:\\Users\\dominiquef\\Documents\\GIT\\mira\\mirageoscience-apps\\docs",
        "C:\\Users\\dominiquef\\Documents\\GIT\\mira\\mirageoscience-apps",
        "C:\\Users\\dominiquef\\Documents\\GIT\\mira",
        "C:\\Users\\dominiquef\\Documents\\GIT",
        "C:\\Users\\dominiquef\\Documents",
        "C:\\Users\\dominiquef",
        "C:\\Users",
        "C:\\",
        "D:\\",
        "Z:\\"
       ],
       "index": 0,
       "layout": "IPY_MODEL_fd02ef701e9d41a5a94a094a82e5fc4d",
       "style": "IPY_MODEL_9603e573c2204291a849e498fd1b961c"
      }
     },
     "8443d76953714a8abc5c1284fa128240": {
      "model_module": "@jupyter-widgets/controls",
      "model_module_version": "1.5.0",
      "model_name": "DropdownModel",
      "state": {
       "_options_labels": [
        "",
        "--- Channels ---",
        "Airborne_Gxx",
        "Airborne_Gxy",
        "Airborne_Gxz",
        "Airborne_Gyy",
        "Airborne_Gyz",
        "Airborne_Gz",
        "Airborne_Gzz",
        "Airborne_TMI",
        "Ground_Gz",
        "Z"
       ],
       "description": "Channel <=> Data:",
       "index": 0,
       "layout": "IPY_MODEL_a80a8eadd4404446bf572f115482d254",
       "style": "IPY_MODEL_302bd9ab5367452eae5ea413e894d06b"
      }
     },
     "846556cc695f436ba51747515d0d69df": {
      "model_module": "@jupyter-widgets/controls",
      "model_module_version": "1.5.0",
      "model_name": "VBoxModel",
      "state": {
       "children": [
        "IPY_MODEL_1b748dbfe10c49ae984e176cb16ceb37",
        "IPY_MODEL_3124ff05f1474d4c9513cc8d60cfdf41"
       ],
       "layout": "IPY_MODEL_203a4b2c507747469aa460fb9381cebb"
      }
     },
     "848a972109d74455bbb6a3f62bcaa763": {
      "model_module": "@jupyter-widgets/base",
      "model_module_version": "1.2.0",
      "model_name": "LayoutModel",
      "state": {
       "visibility": "hidden"
      }
     },
     "84aa35aa6f044caaa4736f79a97f8b0e": {
      "model_module": "@jupyter-widgets/controls",
      "model_module_version": "1.5.0",
      "model_name": "DescriptionStyleModel",
      "state": {
       "description_width": ""
      }
     },
     "84b4363b8d70499b8b3d944bcbef0e6a": {
      "model_module": "@jupyter-widgets/controls",
      "model_module_version": "1.5.0",
      "model_name": "DescriptionStyleModel",
      "state": {
       "description_width": ""
      }
     },
     "84c7169db9184d0c88b8350fcd887262": {
      "model_module": "@jupyter-widgets/controls",
      "model_module_version": "1.5.0",
      "model_name": "LabelModel",
      "state": {
       "layout": "IPY_MODEL_3e60a57fa361467aa7f58686f1fe2604",
       "style": "IPY_MODEL_2185d13e0db74d2b822ad8b5b8e41ce7",
       "value": "Workspace"
      }
     },
     "84cda3a3d85a45f59f54b6a1fee31665": {
      "model_module": "@jupyter-widgets/controls",
      "model_module_version": "1.5.0",
      "model_name": "TextModel",
      "state": {
       "disabled": true,
       "layout": "IPY_MODEL_f729146ad71b4f5b888669219644a75d",
       "placeholder": "output filename",
       "style": "IPY_MODEL_d1738579ad22477aad939a6e75d1c496"
      }
     },
     "84f4d81470e24aaf989f73595cb85897": {
      "model_module": "@jupyter-widgets/base",
      "model_module_version": "1.2.0",
      "model_name": "LayoutModel",
      "state": {}
     },
     "84f8037d0be94e6a8d36fc1c0e99f293": {
      "model_module": "@jupyter-widgets/controls",
      "model_module_version": "1.5.0",
      "model_name": "DropdownModel",
      "state": {
       "_options_labels": [
        "",
        "--- Channels ---",
        "Airborne_Gxx",
        "Airborne_Gxy",
        "Airborne_Gxz",
        "Airborne_Gyy",
        "Airborne_Gyz",
        "Airborne_Gz",
        "Airborne_Gzz",
        "Airborne_TMI",
        "Ground_Gz",
        "Z"
       ],
       "description": "Channel <=> Data:",
       "index": 0,
       "layout": "IPY_MODEL_303796c67cbe4712a6b37f9c0b9c8e85",
       "style": "IPY_MODEL_1ff0c053ddb84b3db07aa523b2c45f90"
      }
     },
     "851b96e1b6ec402bbc59aa3c713480f7": {
      "model_module": "@jupyter-widgets/controls",
      "model_module_version": "1.5.0",
      "model_name": "VBoxModel",
      "state": {
       "children": [
        "IPY_MODEL_1fc48810dab240289c43b9b57292c78b"
       ],
       "layout": "IPY_MODEL_280c7d075cf64436a0c5a2ff76f85fbd"
      }
     },
     "85483d0562d04549859b667be693c063": {
      "model_module": "@jupyter-widgets/controls",
      "model_module_version": "1.5.0",
      "model_name": "DescriptionStyleModel",
      "state": {
       "description_width": "initial"
      }
     },
     "8554d51d71ea469b9bc838d48e60d58f": {
      "model_module": "@jupyter-widgets/base",
      "model_module_version": "1.2.0",
      "model_name": "LayoutModel",
      "state": {}
     },
     "85582b3af5b74a3fb74fe49173f0c9c5": {
      "model_module": "@jupyter-widgets/base",
      "model_module_version": "1.2.0",
      "model_name": "LayoutModel",
      "state": {}
     },
     "85704b1f212d4d09abebfbacb83ee55f": {
      "model_module": "@jupyter-widgets/controls",
      "model_module_version": "1.5.0",
      "model_name": "ButtonStyleModel",
      "state": {}
     },
     "859dbf71be3640cebbbb1f1e2d138807": {
      "model_module": "@jupyter-widgets/controls",
      "model_module_version": "1.5.0",
      "model_name": "DescriptionStyleModel",
      "state": {
       "description_width": ""
      }
     },
     "85bb19c30f1b494bad959547f0f3f367": {
      "model_module": "@jupyter-widgets/controls",
      "model_module_version": "1.5.0",
      "model_name": "VBoxModel",
      "state": {
       "children": [
        "IPY_MODEL_84c7169db9184d0c88b8350fcd887262",
        "IPY_MODEL_abe8c422faa2467cb2dc870708b597ed"
       ],
       "layout": "IPY_MODEL_d848a9b35e58499886cc67f3785cd12b"
      }
     },
     "85c1364c4ed941d985f318f6f0e76adb": {
      "model_module": "@jupyter-widgets/base",
      "model_module_version": "1.2.0",
      "model_name": "LayoutModel",
      "state": {}
     },
     "861deab2b4124c2abc93c9e0ab621648": {
      "model_module": "@jupyter-widgets/controls",
      "model_module_version": "1.5.0",
      "model_name": "GridBoxModel",
      "state": {
       "children": [
        "IPY_MODEL_2c298fe615234d1e9b9c4ea0d544c1d1",
        "IPY_MODEL_249b3d40868e4eb5b4f5e49b98954c92",
        "IPY_MODEL_14db0a0d9c2c4d1288ce9e132865bdcd"
       ],
       "layout": "IPY_MODEL_6544fb99361e47e28f083885b261ba91"
      }
     },
     "862e772513114cbb83de7c7bf7a1dca9": {
      "model_module": "@jupyter-widgets/base",
      "model_module_version": "1.2.0",
      "model_name": "LayoutModel",
      "state": {}
     },
     "8634775da5d441b094c9ee2eded3012a": {
      "model_module": "@jupyter-widgets/controls",
      "model_module_version": "1.5.0",
      "model_name": "ButtonStyleModel",
      "state": {}
     },
     "86519d48ece04134aaac248d98f5b200": {
      "model_module": "@jupyter-widgets/controls",
      "model_module_version": "1.5.0",
      "model_name": "DescriptionStyleModel",
      "state": {
       "description_width": ""
      }
     },
     "867b307b2ef244b29088b78a3def1559": {
      "model_module": "@jupyter-widgets/base",
      "model_module_version": "1.2.0",
      "model_name": "LayoutModel",
      "state": {}
     },
     "8692bf97f64e4d4893497bc376bcd9d3": {
      "model_module": "@jupyter-widgets/controls",
      "model_module_version": "1.5.0",
      "model_name": "VBoxModel",
      "state": {
       "children": [
        "IPY_MODEL_2a504351b49e4c4f89d354ff9a391170",
        "IPY_MODEL_3124ff05f1474d4c9513cc8d60cfdf41"
       ],
       "layout": "IPY_MODEL_ddf8f662994d4b05acfc7499ee8e2086"
      }
     },
     "86f03c4ca6534e49b659a44d9cffa907": {
      "model_module": "@jupyter-widgets/controls",
      "model_module_version": "1.5.0",
      "model_name": "GridBoxModel",
      "state": {
       "children": [
        "IPY_MODEL_83d4550b34654a4ab0919a4e0cf4c17f",
        "IPY_MODEL_d55df2884bad44c8b76222e04b96fff0",
        "IPY_MODEL_f1ed88adeaa8414ab59b50dd748f850f"
       ],
       "layout": "IPY_MODEL_c9a3f6fcce4d4ba2ad8a7549ca4d72a3"
      }
     },
     "870a637925f9410cb398c2a81836d694": {
      "model_module": "@jupyter-widgets/controls",
      "model_module_version": "1.5.0",
      "model_name": "TextModel",
      "state": {
       "description": "bxz",
       "layout": "IPY_MODEL_ca8b17cf58414e1983892141b42b5ebe",
       "style": "IPY_MODEL_daa2c32ee54a41aa84115b004a6a4c1c"
      }
     },
     "884b1e80c91e4e368b1551c61188c60a": {
      "model_module": "@jupyter-widgets/controls",
      "model_module_version": "1.5.0",
      "model_name": "VBoxModel",
      "state": {
       "children": [
        "IPY_MODEL_4242f557abcd4b43905162d4f63235c7",
        "IPY_MODEL_1c812c274daf4410a7fd813814e4963d"
       ],
       "layout": "IPY_MODEL_cae1fb7662b3424eaa595c91eb34ffd1"
      }
     },
     "88527f9ff7e44d8ea587a6906f75ddd8": {
      "model_module": "@jupyter-widgets/controls",
      "model_module_version": "1.5.0",
      "model_name": "DescriptionStyleModel",
      "state": {
       "description_width": ""
      }
     },
     "885a08b153174a248b257fcd36767092": {
      "model_module": "@jupyter-widgets/controls",
      "model_module_version": "1.5.0",
      "model_name": "DropdownModel",
      "state": {
       "_options_labels": [
        "C:\\Users\\dominiquef\\Documents\\GIT\\mira\\mirageoscience-apps\\docs\\content\\applications",
        "C:\\Users\\dominiquef\\Documents\\GIT\\mira\\mirageoscience-apps\\docs\\content",
        "C:\\Users\\dominiquef\\Documents\\GIT\\mira\\mirageoscience-apps\\docs",
        "C:\\Users\\dominiquef\\Documents\\GIT\\mira\\mirageoscience-apps",
        "C:\\Users\\dominiquef\\Documents\\GIT\\mira",
        "C:\\Users\\dominiquef\\Documents\\GIT",
        "C:\\Users\\dominiquef\\Documents",
        "C:\\Users\\dominiquef",
        "C:\\Users",
        "C:\\",
        "D:\\",
        "Z:\\"
       ],
       "index": 0,
       "layout": "IPY_MODEL_c54b8e9240a34119b786b0a26df864bc",
       "style": "IPY_MODEL_3f87a65ac3f444e9beec308975b5be01"
      }
     },
     "88b3e7b4302a4fefa57f0c06cfb3d360": {
      "model_module": "@jupyter-widgets/base",
      "model_module_version": "1.2.0",
      "model_name": "LayoutModel",
      "state": {
       "display": "none",
       "grid_area": "filename",
       "width": "auto"
      }
     },
     "88b3f50abf0642f98da759b18b49662f": {
      "model_module": "@jupyter-widgets/controls",
      "model_module_version": "1.5.0",
      "model_name": "DescriptionStyleModel",
      "state": {
       "description_width": ""
      }
     },
     "88bec67bbb1647c3afe00983a279d1a7": {
      "model_module": "@jupyter-widgets/controls",
      "model_module_version": "1.5.0",
      "model_name": "VBoxModel",
      "state": {
       "children": [
        "IPY_MODEL_958cce74e5b047e3a43b05de65e6290d",
        "IPY_MODEL_a35f7b2854a047f0b51dd068f7efe11e"
       ],
       "layout": "IPY_MODEL_4efd5b8c5a8f4e299eacb1e83e1ac150"
      }
     },
     "88d14c286d3841ee87eea1fcb26ef466": {
      "model_module": "@jupyter-widgets/controls",
      "model_module_version": "1.5.0",
      "model_name": "DescriptionStyleModel",
      "state": {
       "description_width": ""
      }
     },
     "890194ef14e24f569c3fdd993952a220": {
      "model_module": "@jupyter-widgets/base",
      "model_module_version": "1.2.0",
      "model_name": "LayoutModel",
      "state": {
       "display": "none",
       "width": "auto"
      }
     },
     "890af09d9d354112bc7221a83e69e91e": {
      "model_module": "@jupyter-widgets/controls",
      "model_module_version": "1.5.0",
      "model_name": "TextModel",
      "state": {
       "disabled": true,
       "layout": "IPY_MODEL_45d376b4dd394a49b98a72b44347beb8",
       "placeholder": "output filename",
       "style": "IPY_MODEL_fb352c266a8c4d2e8d582589100fe860"
      }
     },
     "89272be142ed4d76afc468462074a822": {
      "model_module": "@jupyter-widgets/controls",
      "model_module_version": "1.5.0",
      "model_name": "TextModel",
      "state": {
       "description": "Upper bound value",
       "layout": "IPY_MODEL_dae8f0482f63430890aec93950178de3",
       "style": "IPY_MODEL_88527f9ff7e44d8ea587a6906f75ddd8"
      }
     },
     "892a0130918b4908ad8c1368bcc4b11d": {
      "model_module": "@jupyter-widgets/base",
      "model_module_version": "1.2.0",
      "model_name": "LayoutModel",
      "state": {}
     },
     "8933032f1d324f3fb9043f5d5c2349c6": {
      "model_module": "@jupyter-widgets/controls",
      "model_module_version": "1.5.0",
      "model_name": "ButtonStyleModel",
      "state": {}
     },
     "89cd289a38db4fbca885b293a538aef0": {
      "model_module": "@jupyter-widgets/base",
      "model_module_version": "1.2.0",
      "model_name": "LayoutModel",
      "state": {
       "grid_area": "pathlist",
       "width": "auto"
      }
     },
     "89ea74d6eb9e467db6af81107a958954": {
      "model_module": "@jupyter-widgets/controls",
      "model_module_version": "1.5.0",
      "model_name": "ButtonModel",
      "state": {
       "description": "Cancel",
       "layout": "IPY_MODEL_1454fc76d0b24d26bf0c4324c1b93b97",
       "style": "IPY_MODEL_8b374aa62cfc41dbb137b7f4679bd2f2"
      }
     },
     "8a25f2b0e7164a67b2f587a6b23a8a9b": {
      "model_module": "@jupyter-widgets/base",
      "model_module_version": "1.2.0",
      "model_name": "LayoutModel",
      "state": {
       "width": "auto"
      }
     },
     "8a6084f5ad804438a46d2b51a21badf4": {
      "model_module": "@jupyter-widgets/controls",
      "model_module_version": "1.5.0",
      "model_name": "DescriptionStyleModel",
      "state": {
       "description_width": "initial"
      }
     },
     "8b374aa62cfc41dbb137b7f4679bd2f2": {
      "model_module": "@jupyter-widgets/controls",
      "model_module_version": "1.5.0",
      "model_name": "ButtonStyleModel",
      "state": {}
     },
     "8b47de247693491090352c912c197822": {
      "model_module": "@jupyter-widgets/controls",
      "model_module_version": "1.5.0",
      "model_name": "ButtonModel",
      "state": {
       "description": "Cancel",
       "layout": "IPY_MODEL_71c9e36aaeaa427387206fc0785d8578",
       "style": "IPY_MODEL_d7c0b71a4a5f48a0aee2d1093b7b30e8"
      }
     },
     "8b6bb66e863b4b5dba7115e73651dde2": {
      "model_module": "@jupyter-widgets/controls",
      "model_module_version": "1.5.0",
      "model_name": "SliderStyleModel",
      "state": {
       "description_width": "initial"
      }
     },
     "8bdd1d32f9154e948059700cce84509a": {
      "model_module": "@jupyter-widgets/base",
      "model_module_version": "1.2.0",
      "model_name": "LayoutModel",
      "state": {}
     },
     "8be59a727b7c4dde8241f4ee851b75a9": {
      "model_module": "@jupyter-widgets/base",
      "model_module_version": "1.2.0",
      "model_name": "LayoutModel",
      "state": {
       "display": "none"
      }
     },
     "8c0c6728865a441bb7b46b41cbd91ff4": {
      "model_module": "@jupyter-widgets/controls",
      "model_module_version": "1.5.0",
      "model_name": "HBoxModel",
      "state": {
       "children": [
        "IPY_MODEL_03b53294b2b2486782bb68c0b1e3bc67",
        "IPY_MODEL_7bdb01c0a61542a7ab82358e97a701f1",
        "IPY_MODEL_cb5c63ffce104f8a84ec76a5d20e99b3"
       ],
       "layout": "IPY_MODEL_cf59bad597bb4427999446091cad8488"
      }
     },
     "8c0c841729cb49b5a3b4d4e5ea8e15f7": {
      "model_module": "@jupyter-widgets/base",
      "model_module_version": "1.2.0",
      "model_name": "LayoutModel",
      "state": {}
     },
     "8c2218a48a1146948c3cc76991962b7b": {
      "model_module": "@jupyter-widgets/controls",
      "model_module_version": "1.5.0",
      "model_name": "DropdownModel",
      "state": {
       "_options_labels": [
        "",
        "fault_splay1",
        "fault_Cliff_Lake",
        "fault_Other_FlinFlon",
        "fault_Club_Lake_splay",
        "fault_Catherine_splay2",
        "fault_Birch_View",
        "fault_Dion_Lake",
        "fault_FlinFlon_splay",
        "fault_West_Mandy_Road",
        "fault_Channing",
        "fault_Ross_Lake",
        "fault_Louis_Hidden",
        "fault_Lake_View_thrust",
        "contact_Schist_Lake",
        "fault_Burley_Lake",
        "fault_Dion_Lake_splay",
        "fault_Green_Lake",
        "fault_FlinFlon",
        "fault_Catherine_splay1",
        "fault_East_Mandy_Road",
        "fault_Other_FlinFlon_South",
        "fault_Catherine_splay4",
        "contact_Stitt_Island",
        "fault_Club_Lake",
        "fault_Tailing_Pond",
        "35_Hidden_Reservoir_Hr5",
        "29_Hidden_Reservoir_Hr1a",
        "60_BlueLagoon_Fb2",
        "20_FlinFlon_Undivided_Int_Dykes_D2f",
        "04_Boundary_Intrusive_S4h",
        "53_Millrock_Rhyolite_Fm4b",
        "19_FlinFlon_Undivided_Int_Dykes_D2b",
        "18_FlinFlon_Undivided_Int_Dykes_777_D2b",
        "06_Phantom_Lake_Intrusive_S3a",
        "21_FlinFlon_Undivided_Int_Dykes_D3a",
        "43_Millrock_CHLSH_South",
        "56_Millrock_Basalt_Fm1ba",
        "17_FlinFlon_Undivided_Int_Dykes_D2",
        "32_Hidden_Reservoir_Hr1b_SW",
        "11_Missi_M3_NE",
        "13_Missi_M1",
        "07_Annabel_Granitoid_S1",
        "45_Millrock_Gabbro_South",
        "01_Late_Intrusive_S5b",
        "31_Hidden_Reservoir_Hr1c_SW",
        "52_Millrock_Rhyolite_Fm4_West_check",
        "55_Millrock_Basalt_Fm1bf",
        "34_Hidden_Reservoir_Hr2b",
        "03_Boundary_Intrusive_S4b",
        "42_Millrock_CHLSH_North",
        "26_Louis_L3",
        "23_FlinFlon_Undivided_Int_Felsic_D4g",
        "30_Hidden_Reservoir_Hr1b",
        "59_BlueLagoon_Fb3",
        "49_Millrock_MVR_Fm5d",
        "44_Millrock_Gabbro_North",
        "27_Hidden_Carlisle_Hc4",
        "22_FlinFlon_Undivided_Int_Felsic_D4e",
        "02_Boundary_Intrusive_S4a",
        "61_BlueLagoon_Fb1_NW",
        "05_Boundary_Intrusive_S4g",
        "39_Ore_Callinan",
        "38_Ore_Dan_Owens",
        "40_Ore_FlinFlon",
        "Inversion_VTEM_Model",
        "Gravity_Magnetics_drape60m",
        "CDI_VTEM_model",
        "Data_FEM_pseudo3D",
        "O2O_Interp_25m",
        "geochem",
        "Inversion_DIGHEM_Model",
        "Topography",
        "Data_TEM_pseudo3D"
       ],
       "description": "Object",
       "index": 0,
       "layout": "IPY_MODEL_0bb634857da04e2e9cacb89cb3f8d54e",
       "style": "IPY_MODEL_6955da6af0f84485b2c3a5436c74636c"
      }
     },
     "8c881d449268458e95a7ee3d529e23dc": {
      "model_module": "@jupyter-widgets/controls",
      "model_module_version": "1.5.0",
      "model_name": "DropdownModel",
      "state": {
       "_options_labels": [
        "C:\\Users\\dominiquef\\Documents\\GIT\\mira\\mirageoscience-apps\\docs\\content\\applications",
        "C:\\Users\\dominiquef\\Documents\\GIT\\mira\\mirageoscience-apps\\docs\\content",
        "C:\\Users\\dominiquef\\Documents\\GIT\\mira\\mirageoscience-apps\\docs",
        "C:\\Users\\dominiquef\\Documents\\GIT\\mira\\mirageoscience-apps",
        "C:\\Users\\dominiquef\\Documents\\GIT\\mira",
        "C:\\Users\\dominiquef\\Documents\\GIT",
        "C:\\Users\\dominiquef\\Documents",
        "C:\\Users\\dominiquef",
        "C:\\Users",
        "C:\\",
        "D:\\",
        "Z:\\"
       ],
       "index": 0,
       "layout": "IPY_MODEL_7857c8266c344d7f8c18908585e1a8ea",
       "style": "IPY_MODEL_20549a635c914629aef8d50a54fbc80d"
      }
     },
     "8ce2599de7024979898724c633a409df": {
      "model_module": "@jupyter-widgets/base",
      "model_module_version": "1.2.0",
      "model_name": "LayoutModel",
      "state": {}
     },
     "8d75d6160b3c40fda84dda853f900b83": {
      "model_module": "@jupyter-widgets/controls",
      "model_module_version": "1.5.0",
      "model_name": "LabelModel",
      "state": {
       "layout": "IPY_MODEL_1e7acd61dc4f4816bf5bd6152579c9c2",
       "style": "IPY_MODEL_e1365d53e0634ed590660e55167e076a",
       "value": "Topo, Sensor and Line Location Options"
      }
     },
     "8e1c4b4c43954713a718d8a36f7dd689": {
      "model_module": "@jupyter-widgets/controls",
      "model_module_version": "1.5.0",
      "model_name": "TextModel",
      "state": {
       "description": "byz",
       "layout": "IPY_MODEL_3f8a1385531a4b3ca6b657afc074d4a2",
       "style": "IPY_MODEL_0e3380d90ff943a4847a363e1c9abbd7"
      }
     },
     "8ea6800820b44ef1933c748ed7fbdf1e": {
      "model_module": "@jupyter-widgets/base",
      "model_module_version": "1.2.0",
      "model_name": "LayoutModel",
      "state": {
       "width": "auto"
      }
     },
     "8f133424583b4396bdbff6d584af133c": {
      "model_module": "@jupyter-widgets/base",
      "model_module_version": "1.2.0",
      "model_name": "LayoutModel",
      "state": {
       "grid_area": "dircontent",
       "width": "auto"
      }
     },
     "8f295330fa9642298397d8a571dd9f8c": {
      "model_module": "@jupyter-widgets/base",
      "model_module_version": "1.2.0",
      "model_name": "LayoutModel",
      "state": {}
     },
     "8f411978b8784a3da6657f8c87059db6": {
      "model_module": "@jupyter-widgets/controls",
      "model_module_version": "1.5.0",
      "model_name": "DescriptionStyleModel",
      "state": {
       "description_width": ""
      }
     },
     "8fc5b9ccc58745f0812a3b8f12654be6": {
      "model_module": "@jupyter-widgets/controls",
      "model_module_version": "1.5.0",
      "model_name": "DescriptionStyleModel",
      "state": {
       "description_width": "initial"
      }
     },
     "90b02caada2040368d5632dc25bd2b49": {
      "model_module": "@jupyter-widgets/base",
      "model_module_version": "1.2.0",
      "model_name": "LayoutModel",
      "state": {}
     },
     "90f3373d97904145848ee7a56f48f112": {
      "model_module": "@jupyter-widgets/controls",
      "model_module_version": "1.5.0",
      "model_name": "DescriptionStyleModel",
      "state": {
       "description_width": ""
      }
     },
     "9103895371fe4da6a510379191644de9": {
      "model_module": "@jupyter-widgets/controls",
      "model_module_version": "1.5.0",
      "model_name": "GridBoxModel",
      "state": {
       "children": [
        "IPY_MODEL_5c38153a22ae405c9c2c69cfe6685bc4",
        "IPY_MODEL_356e92ee1f754c79a6fc97527ba18d92",
        "IPY_MODEL_a86103ba8c6b41c5896870a065e1a528"
       ],
       "layout": "IPY_MODEL_01c7b9f601f64d77a40dd4fc864b735f"
      }
     },
     "91665763b7d741d789b67cc6dd47ec6e": {
      "model_module": "@jupyter-widgets/controls",
      "model_module_version": "1.5.0",
      "model_name": "LabelModel",
      "state": {
       "layout": "IPY_MODEL_c0cb6c7700d04669acd17fe4dfc24ed6",
       "style": "IPY_MODEL_81dce8e1fd58485f9308232f9f088ef3",
       "value": "Geophysical System"
      }
     },
     "9172ba6ec8254f10a9e0e4fa394885f9": {
      "model_module": "@jupyter-widgets/controls",
      "model_module_version": "1.5.0",
      "model_name": "HTMLModel",
      "state": {
       "layout": "IPY_MODEL_712c914c9922488a8e3fdba8590e452d",
       "placeholder": "",
       "style": "IPY_MODEL_6d6026a04d27496f8b7f8656a9f4769b",
       "value": "<span style=\"margin-left:10px; color:black;\">No file selected</span>"
      }
     },
     "919a2e71e5ae41e092a86a78705570a4": {
      "model_module": "@jupyter-widgets/controls",
      "model_module_version": "1.5.0",
      "model_name": "DescriptionStyleModel",
      "state": {
       "description_width": ""
      }
     },
     "91bd4673d5014ee1b92718228a6b7398": {
      "model_module": "@jupyter-widgets/controls",
      "model_module_version": "1.5.0",
      "model_name": "ButtonModel",
      "state": {
       "description": "Select",
       "layout": "IPY_MODEL_48d3a2697573483492bdce259dcbc166",
       "style": "IPY_MODEL_e0f82c713315479c94f05b7ba2c883d0"
      }
     },
     "91ccbc8069d44b6185b63d224567a6d8": {
      "model_module": "@jupyter-widgets/base",
      "model_module_version": "1.2.0",
      "model_name": "LayoutModel",
      "state": {}
     },
     "921eb8bc3de544be9a0803318b27585a": {
      "model_module": "@jupyter-widgets/controls",
      "model_module_version": "1.5.0",
      "model_name": "DescriptionStyleModel",
      "state": {
       "description_width": ""
      }
     },
     "92c5521162bb456286cf762ecc8ffcb4": {
      "model_module": "@jupyter-widgets/base",
      "model_module_version": "1.2.0",
      "model_name": "LayoutModel",
      "state": {}
     },
     "92d1ed52fe854cd1bdb0d7b800ce8854": {
      "model_module": "@jupyter-widgets/base",
      "model_module_version": "1.2.0",
      "model_name": "LayoutModel",
      "state": {
       "visibility": "hidden"
      }
     },
     "92e60ac87215465cb3ffecd0d5ad3864": {
      "model_module": "@jupyter-widgets/base",
      "model_module_version": "1.2.0",
      "model_name": "LayoutModel",
      "state": {}
     },
     "932edf28049e42c3a5fdb340b62cf50d": {
      "model_module": "@jupyter-widgets/controls",
      "model_module_version": "1.5.0",
      "model_name": "DescriptionStyleModel",
      "state": {
       "description_width": "initial"
      }
     },
     "934afde7ce51462885fc8357de7e5794": {
      "model_module": "@jupyter-widgets/controls",
      "model_module_version": "1.5.0",
      "model_name": "ToggleButtonModel",
      "state": {
       "layout": "IPY_MODEL_2f15bb46b0844fda81eaedb57d57bdc3",
       "style": "IPY_MODEL_bc36c4cb30194e8e9a4c1b7283ba89f6",
       "value": true
      }
     },
     "93c22597e14145d9a44e036ce00b9da8": {
      "model_module": "@jupyter-widgets/controls",
      "model_module_version": "1.5.0",
      "model_name": "HTMLModel",
      "state": {
       "layout": "IPY_MODEL_3052cf4cb6be4789a97a6c51c96cd04a",
       "style": "IPY_MODEL_3c8d1bb459304cc1b709dcb58fc7f0a0"
      }
     },
     "9453d3eec2a440a4a7c8912f7a3ed766": {
      "model_module": "@jupyter-widgets/controls",
      "model_module_version": "1.5.0",
      "model_name": "DescriptionStyleModel",
      "state": {
       "description_width": ""
      }
     },
     "958cce74e5b047e3a43b05de65e6290d": {
      "model_module": "@jupyter-widgets/controls",
      "model_module_version": "1.5.0",
      "model_name": "LabelModel",
      "state": {
       "layout": "IPY_MODEL_1e42fc1b31d7424a94f315a3d2d09197",
       "style": "IPY_MODEL_8a6084f5ad804438a46d2b51a21badf4",
       "value": "Monitoring folder"
      }
     },
     "95a04918ad5f4808b8a26b554a2ee08e": {
      "model_module": "@jupyter-widgets/base",
      "model_module_version": "1.2.0",
      "model_name": "LayoutModel",
      "state": {}
     },
     "95d7f6e922b04d38ba42eba651ab38a3": {
      "model_module": "@jupyter-widgets/controls",
      "model_module_version": "1.5.0",
      "model_name": "DescriptionStyleModel",
      "state": {
       "description_width": "initial"
      }
     },
     "9603e573c2204291a849e498fd1b961c": {
      "model_module": "@jupyter-widgets/controls",
      "model_module_version": "1.5.0",
      "model_name": "DescriptionStyleModel",
      "state": {
       "description_width": ""
      }
     },
     "962b3f2e6f0c47eaa54ebe96b19c51c3": {
      "model_module": "@jupyter-widgets/controls",
      "model_module_version": "1.5.0",
      "model_name": "DescriptionStyleModel",
      "state": {
       "description_width": "initial"
      }
     },
     "964af05e408e48399ad0febef2041b00": {
      "model_module": "@jupyter-widgets/controls",
      "model_module_version": "1.5.0",
      "model_name": "DescriptionStyleModel",
      "state": {
       "description_width": "initial"
      }
     },
     "964c3acf863f45e994b9743828c27d8a": {
      "model_module": "@jupyter-widgets/controls",
      "model_module_version": "1.5.0",
      "model_name": "VBoxModel",
      "state": {
       "children": [
        "IPY_MODEL_036dd8013d4b4afca08fce23be7c117b",
        "IPY_MODEL_d97e31038ec84daaa0fed563c90d47d1",
        "IPY_MODEL_e5a8dc83c1144166887d7ebd2fe9f293",
        "IPY_MODEL_a299f735d54946c196b48c9109bce4a6",
        "IPY_MODEL_3cf3fade9f0d49d4a5b6039a6e0b0eab",
        "IPY_MODEL_96ba3b35dcbb42c0991342a3ff88dcf6",
        "IPY_MODEL_577cbc50bf1b40c3a73a4a3fe9e47b97"
       ],
       "layout": "IPY_MODEL_2b0dacd74065456db653e2684c88b8f3"
      }
     },
     "96528717c7984188a7c71bf1e1ec5ac4": {
      "model_module": "@jupyter-widgets/base",
      "model_module_version": "1.2.0",
      "model_name": "LayoutModel",
      "state": {}
     },
     "96904cd39c3843049a113f36ad537507": {
      "model_module": "@jupyter-widgets/base",
      "model_module_version": "1.2.0",
      "model_name": "LayoutModel",
      "state": {
       "width": "auto"
      }
     },
     "96b0e1b6774e429db23bd69a0ad62b72": {
      "model_module": "@jupyter-widgets/controls",
      "model_module_version": "1.5.0",
      "model_name": "ButtonStyleModel",
      "state": {}
     },
     "96ba3b35dcbb42c0991342a3ff88dcf6": {
      "model_module": "@jupyter-widgets/controls",
      "model_module_version": "1.5.0",
      "model_name": "IntTextModel",
      "state": {
       "description": "Max CPUs",
       "layout": "IPY_MODEL_0c49c5d2839e415192f92545c8cfd7fb",
       "step": 1,
       "style": "IPY_MODEL_23386f1d3f3e4c6f9efcdbe91c579256",
       "value": 6
      }
     },
     "96da2d9fe52843b780fe14866f403b39": {
      "model_module": "@jupyter-widgets/controls",
      "model_module_version": "1.5.0",
      "model_name": "DescriptionStyleModel",
      "state": {
       "description_width": ""
      }
     },
     "96dd04b282a44c25a55bc5160b612842": {
      "model_module": "@jupyter-widgets/controls",
      "model_module_version": "1.5.0",
      "model_name": "DescriptionStyleModel",
      "state": {
       "description_width": "initial"
      }
     },
     "974f9b80cab547c29c2667380b988fd0": {
      "model_module": "@jupyter-widgets/controls",
      "model_module_version": "1.5.0",
      "model_name": "ButtonModel",
      "state": {
       "description": "Create copy:",
       "layout": "IPY_MODEL_df15b699b091492cabfebcd7b550f5f9",
       "style": "IPY_MODEL_8634775da5d441b094c9ee2eded3012a"
      }
     },
     "975c7e21bc0149d7ae94568ae142f4af": {
      "model_module": "@jupyter-widgets/base",
      "model_module_version": "1.2.0",
      "model_name": "LayoutModel",
      "state": {}
     },
     "981110dc016e4390b088244faf6ee15f": {
      "model_module": "@jupyter-widgets/base",
      "model_module_version": "1.2.0",
      "model_name": "LayoutModel",
      "state": {}
     },
     "98317d24bbde4f469024d5c5027bd373": {
      "model_module": "@jupyter-widgets/base",
      "model_module_version": "1.2.0",
      "model_name": "LayoutModel",
      "state": {}
     },
     "98418e906b5b436da987388cb10780e2": {
      "model_module": "@jupyter-widgets/controls",
      "model_module_version": "1.5.0",
      "model_name": "VBoxModel",
      "state": {
       "children": [
        "IPY_MODEL_8c2218a48a1146948c3cc76991962b7b",
        "IPY_MODEL_4432f334233a434c8ee994d0c5cc5dae"
       ],
       "layout": "IPY_MODEL_112f69493f3e45c9ae0df458325347c7"
      }
     },
     "984fb7efd7464dcc90fcfef303f734b4": {
      "model_module": "@jupyter-widgets/controls",
      "model_module_version": "1.5.0",
      "model_name": "DescriptionStyleModel",
      "state": {
       "description_width": ""
      }
     },
     "98df0ec17c4d4de1a4747c134b5a7f06": {
      "model_module": "@jupyter-widgets/controls",
      "model_module_version": "1.5.0",
      "model_name": "DescriptionStyleModel",
      "state": {
       "description_width": "initial"
      }
     },
     "990e127f25024caca2110727d2dd525e": {
      "model_module": "@jupyter-widgets/controls",
      "model_module_version": "1.5.0",
      "model_name": "DescriptionStyleModel",
      "state": {
       "description_width": ""
      }
     },
     "99207a3a9d144f08b57ade0a957c8801": {
      "model_module": "@jupyter-widgets/controls",
      "model_module_version": "1.5.0",
      "model_name": "SelectModel",
      "state": {
       "_options_labels": [
        "..",
        "dask-worker-space",
        "images"
       ],
       "index": null,
       "layout": "IPY_MODEL_3d43869135ed4fb0aaf4eadc72aef4ba",
       "rows": 8,
       "style": "IPY_MODEL_86519d48ece04134aaac248d98f5b200"
      }
     },
     "99420d4d619841078419af2926c42b61": {
      "model_module": "@jupyter-widgets/base",
      "model_module_version": "1.2.0",
      "model_name": "LayoutModel",
      "state": {
       "grid_area": "dircontent",
       "width": "auto"
      }
     },
     "9981b5a507144eedae744b2ccc580896": {
      "model_module": "@jupyter-widgets/controls",
      "model_module_version": "1.5.0",
      "model_name": "VBoxModel",
      "state": {
       "children": [
        "IPY_MODEL_f2dd8c8345794bffb15219be859142e8",
        "IPY_MODEL_9c16121282bd4f7f87cac3db3b5b0174"
       ],
       "layout": "IPY_MODEL_0395a0157b3a471888f69ea4eb59b77f"
      }
     },
     "99c7773ccf1e438abba37f5d75b51985": {
      "model_module": "@jupyter-widgets/base",
      "model_module_version": "1.2.0",
      "model_name": "LayoutModel",
      "state": {}
     },
     "99dbf180bb144fae9c78ea8333846cf7": {
      "model_module": "@jupyter-widgets/base",
      "model_module_version": "1.2.0",
      "model_name": "LayoutModel",
      "state": {}
     },
     "9a235972d404420287dd6b129f33a119": {
      "model_module": "@jupyter-widgets/controls",
      "model_module_version": "1.5.0",
      "model_name": "DescriptionStyleModel",
      "state": {
       "description_width": ""
      }
     },
     "9a59bd22c29b4de4b8d57213a0b33ef3": {
      "model_module": "@jupyter-widgets/controls",
      "model_module_version": "1.5.0",
      "model_name": "VBoxModel",
      "state": {
       "children": [
        "IPY_MODEL_ea05d58b832a4b29bf60c723b0a1afd7",
        "IPY_MODEL_c87d83535a7245c6bca3fecf54696ef8"
       ],
       "layout": "IPY_MODEL_99dbf180bb144fae9c78ea8333846cf7"
      }
     },
     "9a6bc9cce1bd4715b97433196041b9d0": {
      "model_module": "@jupyter-widgets/controls",
      "model_module_version": "1.5.0",
      "model_name": "HBoxModel",
      "state": {
       "children": [
        "IPY_MODEL_91bd4673d5014ee1b92718228a6b7398",
        "IPY_MODEL_b71a93a39e654495b2798a4301c7c0f5",
        "IPY_MODEL_75640aaca45b44c990add3763909caf9"
       ],
       "layout": "IPY_MODEL_35b6dd7151c848b2b3cdd430f7f036cc"
      }
     },
     "9a72e81baf95426886e71071b1c1ced6": {
      "model_module": "@jupyter-widgets/controls",
      "model_module_version": "1.5.0",
      "model_name": "TextModel",
      "state": {
       "description": "bzz",
       "layout": "IPY_MODEL_92d1ed52fe854cd1bdb0d7b800ce8854",
       "style": "IPY_MODEL_1896428d088f498592525acb0167aa75"
      }
     },
     "9aeae1589d2442f08cafabd11480d8d2": {
      "model_module": "@jupyter-widgets/base",
      "model_module_version": "1.2.0",
      "model_name": "LayoutModel",
      "state": {
       "display": "none",
       "grid_gap": "0px 0px",
       "grid_template_areas": "\n                    'pathlist pathlist'\n                    'dircontent dircontent'\n                    ",
       "grid_template_columns": "60% 40%",
       "grid_template_rows": "auto auto",
       "width": "500px"
      }
     },
     "9b250e03888c4eceb57799b552a3a974": {
      "model_module": "@jupyter-widgets/base",
      "model_module_version": "1.2.0",
      "model_name": "LayoutModel",
      "state": {}
     },
     "9bba8b0a99984083b2d04926c3644fbd": {
      "model_module": "@jupyter-widgets/controls",
      "model_module_version": "1.5.0",
      "model_name": "HBoxModel",
      "state": {
       "children": [
        "IPY_MODEL_15f861d3b2034b0595ad590076bd7a9a",
        "IPY_MODEL_b9af0356924c400ab1d4d813186a1898"
       ],
       "layout": "IPY_MODEL_d06b606a020e48fab0586bf7878715b2"
      }
     },
     "9bce4931b99d4f03ba6663970eccf394": {
      "model_module": "@jupyter-widgets/controls",
      "model_module_version": "1.5.0",
      "model_name": "VBoxModel",
      "state": {
       "children": [
        "IPY_MODEL_e43f165b7d9642f18dcf7452f3d19522",
        "IPY_MODEL_d9134cc54cd54481b393b9b5a2a7878f",
        "IPY_MODEL_1e9a495643044bcba28dc458fe60b606",
        "IPY_MODEL_5014b5dbbb54493daee73e966427f94d",
        "IPY_MODEL_5303491871a24f119636f6986ae42c92",
        "IPY_MODEL_20546f46a4ae401ab7603b94a37f0e82",
        "IPY_MODEL_9fc0e6c7e3c34cc7addb9a9b9c6a86cc"
       ],
       "layout": "IPY_MODEL_b4bd954d04a54a11ac0cd971773b7aa4"
      }
     },
     "9bcfe2866bda4414a2f53541757a506f": {
      "model_module": "@jupyter-widgets/controls",
      "model_module_version": "1.5.0",
      "model_name": "ButtonStyleModel",
      "state": {}
     },
     "9bd1d86538f442b6a9c46bffda29d8e7": {
      "model_module": "@jupyter-widgets/base",
      "model_module_version": "1.2.0",
      "model_name": "LayoutModel",
      "state": {}
     },
     "9c16121282bd4f7f87cac3db3b5b0174": {
      "model_module": "@jupyter-widgets/controls",
      "model_module_version": "1.5.0",
      "model_name": "VBoxModel",
      "state": {
       "children": [
        "IPY_MODEL_782cf9eee7d34bba9dbfe53d86edc4c0",
        "IPY_MODEL_6308f60709ed4ba993e3476406de68c1"
       ],
       "layout": "IPY_MODEL_de12a73c6b9a4515ae3811590c2d9c6f"
      }
     },
     "9c1e80ab1b92460c8ea60bf8f6e941d6": {
      "model_module": "@jupyter-widgets/base",
      "model_module_version": "1.2.0",
      "model_name": "LayoutModel",
      "state": {}
     },
     "9c6aaa0375a4416289cebd771ff38bcd": {
      "model_module": "@jupyter-widgets/base",
      "model_module_version": "1.2.0",
      "model_name": "LayoutModel",
      "state": {}
     },
     "9c6caae850234d8882746bdd090aa238": {
      "model_module": "@jupyter-widgets/base",
      "model_module_version": "1.2.0",
      "model_name": "LayoutModel",
      "state": {
       "width": "auto"
      }
     },
     "9c9f9c3cf5704c0babda1ab7708ac1ac": {
      "model_module": "@jupyter-widgets/controls",
      "model_module_version": "1.5.0",
      "model_name": "DescriptionStyleModel",
      "state": {
       "description_width": "initial"
      }
     },
     "9cdaa127ef1e482caef340485634feb7": {
      "model_module": "@jupyter-widgets/base",
      "model_module_version": "1.2.0",
      "model_name": "LayoutModel",
      "state": {
       "display": "none",
       "grid_gap": "0px 0px",
       "grid_template_areas": "\n                    'pathlist pathlist'\n                    'dircontent dircontent'\n                    ",
       "grid_template_columns": "60% 40%",
       "grid_template_rows": "auto auto",
       "width": "500px"
      }
     },
     "9ce0f9024a6c43e087804b3007e8629b": {
      "model_module": "@jupyter-widgets/controls",
      "model_module_version": "1.5.0",
      "model_name": "DescriptionStyleModel",
      "state": {
       "description_width": ""
      }
     },
     "9cea47efc5fe433c8d9ba3dff44e4485": {
      "model_module": "@jupyter-widgets/controls",
      "model_module_version": "1.5.0",
      "model_name": "TextModel",
      "state": {
       "disabled": true,
       "layout": "IPY_MODEL_f014cc4498294a08b26d00e4693c7029",
       "placeholder": "output filename",
       "style": "IPY_MODEL_4b5d81a64f82407aac0a9850f6ea155c"
      }
     },
     "9d57795777af4f9aa82932db355549e4": {
      "model_module": "@jupyter-widgets/controls",
      "model_module_version": "1.5.0",
      "model_name": "TextModel",
      "state": {
       "description": "Error (%, floor)",
       "layout": "IPY_MODEL_92e60ac87215465cb3ffecd0d5ad3864",
       "style": "IPY_MODEL_9f3f26e8b2ec40dcaf822b42ed0b715f",
       "value": "0, 1"
      }
     },
     "9d5b5ee288464def960c77e8a752311d": {
      "model_module": "@jupyter-widgets/controls",
      "model_module_version": "1.5.0",
      "model_name": "TextModel",
      "state": {
       "description": "Offsets (x,y,z)",
       "layout": "IPY_MODEL_848a972109d74455bbb6a3f62bcaa763",
       "style": "IPY_MODEL_962b3f2e6f0c47eaa54ebe96b19c51c3",
       "value": "0, 0, 0"
      }
     },
     "9d66b3d22c894437993eee92fe1f48a1": {
      "model_module": "@jupyter-widgets/controls",
      "model_module_version": "1.5.0",
      "model_name": "CheckboxModel",
      "state": {
       "description": "Active",
       "disabled": false,
       "layout": "IPY_MODEL_123ab3a609da44ae8fc06d60ce59e495",
       "style": "IPY_MODEL_ee54aeb05245463383b8080a3de48763",
       "value": false
      }
     },
     "9d79d60e7ea94d8bb1a4083295bc6bd2": {
      "model_module": "@jupyter-widgets/controls",
      "model_module_version": "1.5.0",
      "model_name": "DescriptionStyleModel",
      "state": {
       "description_width": ""
      }
     },
     "9da29d9746b74d89aaf4c901486000c8": {
      "model_module": "@jupyter-widgets/controls",
      "model_module_version": "1.5.0",
      "model_name": "VBoxModel",
      "state": {
       "children": [
        "IPY_MODEL_abe0698523e24a389b09c71e99f26d90",
        "IPY_MODEL_fd9d751580254b81a3f725f3953d89e7"
       ],
       "layout": "IPY_MODEL_6f192d27735d42d3a64a158dafd9e39a"
      }
     },
     "9da80574d5d04a6cacf38620f3a625a9": {
      "model_module": "@jupyter-widgets/base",
      "model_module_version": "1.2.0",
      "model_name": "LayoutModel",
      "state": {
       "grid_area": "pathlist",
       "width": "auto"
      }
     },
     "9db9382af5034f7f9e5b5eccb09e6051": {
      "model_module": "@jupyter-widgets/base",
      "model_module_version": "1.2.0",
      "model_name": "LayoutModel",
      "state": {
       "grid_area": "dircontent",
       "width": "auto"
      }
     },
     "9dedc7e856174fe1a7fdc1c02de3bbf6": {
      "model_module": "@jupyter-widgets/controls",
      "model_module_version": "1.5.0",
      "model_name": "GridBoxModel",
      "state": {
       "children": [
        "IPY_MODEL_8c881d449268458e95a7ee3d529e23dc",
        "IPY_MODEL_c6354f8e34dc4bbdb4a241ef10d03128",
        "IPY_MODEL_ad38f3341ec64feb8a5560346923858c"
       ],
       "layout": "IPY_MODEL_6a1b8adb962d42f0b664f955a34be9c0"
      }
     },
     "9e58fa3fad184dddbbf9a8a2aa54c9cb": {
      "model_module": "@jupyter-widgets/base",
      "model_module_version": "1.2.0",
      "model_name": "LayoutModel",
      "state": {
       "display": "none",
       "width": "auto"
      }
     },
     "9ef9364ad5794d529cb65a184b8a9410": {
      "model_module": "@jupyter-widgets/controls",
      "model_module_version": "1.5.0",
      "model_name": "HTMLModel",
      "state": {
       "layout": "IPY_MODEL_afc76053ed534343be7fbf70bf3de169",
       "placeholder": "",
       "style": "IPY_MODEL_4d483d3ead8d4e658f63594eed9b2aa6",
       "value": "<span style=\"margin-left:10px; color:black;\">No file selected</span>"
      }
     },
     "9f3f26e8b2ec40dcaf822b42ed0b715f": {
      "model_module": "@jupyter-widgets/controls",
      "model_module_version": "1.5.0",
      "model_name": "DescriptionStyleModel",
      "state": {
       "description_width": "initial"
      }
     },
     "9f54bb7c8c944f629aff03c1cad97420": {
      "model_module": "@jupyter-widgets/controls",
      "model_module_version": "1.5.0",
      "model_name": "DescriptionStyleModel",
      "state": {
       "description_width": ""
      }
     },
     "9f6c0b293e8a4dda9a7a22f6f1e5328f": {
      "model_module": "@jupyter-widgets/base",
      "model_module_version": "1.2.0",
      "model_name": "LayoutModel",
      "state": {}
     },
     "9f73348cbe424bf59414d5e86a7a96cf": {
      "model_module": "@jupyter-widgets/base",
      "model_module_version": "1.2.0",
      "model_name": "LayoutModel",
      "state": {}
     },
     "9fc0e6c7e3c34cc7addb9a9b9c6a86cc": {
      "model_module": "@jupyter-widgets/controls",
      "model_module_version": "1.5.0",
      "model_name": "FloatTextModel",
      "state": {
       "description": "Max triangulation length",
       "layout": "IPY_MODEL_6202a5b0faf74fc39d9f4d34efb1a018",
       "step": null,
       "style": "IPY_MODEL_7fa86af57a7041d3941d43d6371996b9",
       "value": 1000
      }
     },
     "9fe2ac6b157c4243a7984524c8751c7d": {
      "model_module": "@jupyter-widgets/controls",
      "model_module_version": "1.5.0",
      "model_name": "TextModel",
      "state": {
       "continuous_update": false,
       "description": "Group:",
       "layout": "IPY_MODEL_c489d75a62e54bf690145ecbb1939a31",
       "style": "IPY_MODEL_d557dbc7660445e6af3844bc2582e470"
      }
     },
     "a0269f70f3214d4288c0096a917fba14": {
      "model_module": "@jupyter-widgets/controls",
      "model_module_version": "1.5.0",
      "model_name": "TextModel",
      "state": {
       "continuous_update": false,
       "description": "Group:",
       "layout": "IPY_MODEL_ce741a77d8c444b9b5a40f00cdeb71e3",
       "style": "IPY_MODEL_13d90e8a299f4876afbc2c2db01919bf"
      }
     },
     "a0900327ccbf421eab00456158f84146": {
      "model_module": "@jupyter-widgets/controls",
      "model_module_version": "1.5.0",
      "model_name": "GridBoxModel",
      "state": {
       "children": [
        "IPY_MODEL_e0fb3ee218f54ccabc2ceaaaeb094bb5",
        "IPY_MODEL_83b28594affb42e4833051c9120a83c6",
        "IPY_MODEL_38f068207e40436a8c8d4f9025731e7e"
       ],
       "layout": "IPY_MODEL_cfeb369b8e794a6ea1cab387d6f8079b"
      }
     },
     "a09fa9ad98f54102a73516fe0d41a0d0": {
      "model_module": "@jupyter-widgets/controls",
      "model_module_version": "1.5.0",
      "model_name": "DescriptionStyleModel",
      "state": {
       "description_width": "initial"
      }
     },
     "a0a71e2a2d9346aea3dffd1a8d3cdf13": {
      "model_module": "@jupyter-widgets/controls",
      "model_module_version": "1.5.0",
      "model_name": "DescriptionStyleModel",
      "state": {
       "description_width": "initial"
      }
     },
     "a0e1e63d601e47c887455ef82a2b1348": {
      "model_module": "@jupyter-widgets/controls",
      "model_module_version": "1.5.0",
      "model_name": "CheckboxModel",
      "state": {
       "description": "Active",
       "disabled": false,
       "layout": "IPY_MODEL_df8cdfa6681341188d0d7ba8387ab488",
       "style": "IPY_MODEL_18ddacbce4d745709d24f1ec71f8f6a6",
       "value": true
      }
     },
     "a1178a7dcd0b40769a380757d7474b38": {
      "model_module": "@jupyter-widgets/controls",
      "model_module_version": "1.5.0",
      "model_name": "ButtonModel",
      "state": {
       "description": "Create copy:",
       "layout": "IPY_MODEL_c14478ccbc1345e187dcbbbb70cae540",
       "style": "IPY_MODEL_d3d456a30a894e04b21e43f812a28429"
      }
     },
     "a1be86ad8530447d86b26efbf3b56191": {
      "model_module": "@jupyter-widgets/controls",
      "model_module_version": "1.5.0",
      "model_name": "DescriptionStyleModel",
      "state": {
       "description_width": ""
      }
     },
     "a1c3bb2f07164d06b56c0bd1f613d69f": {
      "model_module": "@jupyter-widgets/base",
      "model_module_version": "1.2.0",
      "model_name": "LayoutModel",
      "state": {
       "visibility": "visible"
      }
     },
     "a1dc6dc0999a4f5588e8d6dd524f705d": {
      "model_module": "@jupyter-widgets/controls",
      "model_module_version": "1.5.0",
      "model_name": "LabelModel",
      "state": {
       "layout": "IPY_MODEL_deaa8a852dbd468e875db90e17af72f4",
       "style": "IPY_MODEL_494178a05b0547e5b085b1b43e6dd8c1",
       "value": "Data Count: 0"
      }
     },
     "a23e5c28b6354efd98f6f21456344d85": {
      "model_module": "@jupyter-widgets/controls",
      "model_module_version": "1.5.0",
      "model_name": "DescriptionStyleModel",
      "state": {
       "description_width": ""
      }
     },
     "a2507a2869ce41d2b5c0128c0ade0c67": {
      "model_module": "@jupyter-widgets/controls",
      "model_module_version": "1.5.0",
      "model_name": "DescriptionStyleModel",
      "state": {
       "description_width": "initial"
      }
     },
     "a299f735d54946c196b48c9109bce4a6": {
      "model_module": "@jupyter-widgets/controls",
      "model_module_version": "1.5.0",
      "model_name": "IntTextModel",
      "state": {
       "description": "Max CG Iterations",
       "layout": "IPY_MODEL_d900f4012e844b37983b7d28abd5c61a",
       "step": 1,
       "style": "IPY_MODEL_b51bd28eb5f24c1482f218bb4c78d2ca",
       "value": 30
      }
     },
     "a2fcce40d93d4309a8218b85e47fc952": {
      "model_module": "@jupyter-widgets/base",
      "model_module_version": "1.2.0",
      "model_name": "LayoutModel",
      "state": {}
     },
     "a3048a4b131940df8b40bc89ebf31663": {
      "model_module": "@jupyter-widgets/controls",
      "model_module_version": "1.5.0",
      "model_name": "TextModel",
      "state": {
       "description": "Error (%, floor)",
       "layout": "IPY_MODEL_c73e9c5ff5a243dea967e137c4653b35",
       "style": "IPY_MODEL_faff59fa7496414e94ef87d73bb9d652",
       "value": "0, 1"
      }
     },
     "a316cebb3e1d4555a030242306cd954c": {
      "model_module": "@jupyter-widgets/base",
      "model_module_version": "1.2.0",
      "model_name": "LayoutModel",
      "state": {}
     },
     "a35f7b2854a047f0b51dd068f7efe11e": {
      "model_module": "@jupyter-widgets/controls",
      "model_module_version": "1.5.0",
      "model_name": "VBoxModel",
      "state": {
       "children": [
        "IPY_MODEL_b7f215c8622a44fab1843c9b2d7b2f79",
        "IPY_MODEL_86f03c4ca6534e49b659a44d9cffa907",
        "IPY_MODEL_8388118ee8a94677a3ef2dcc8145542e"
       ],
       "layout": "IPY_MODEL_8ea6800820b44ef1933c748ed7fbdf1e"
      }
     },
     "a373259846084962a082fe35894f80dd": {
      "model_module": "@jupyter-widgets/controls",
      "model_module_version": "1.5.0",
      "model_name": "DescriptionStyleModel",
      "state": {
       "description_width": "initial"
      }
     },
     "a3ddeb5f1cb5423ea174cf8026ec305d": {
      "model_module": "@jupyter-widgets/base",
      "model_module_version": "1.2.0",
      "model_name": "LayoutModel",
      "state": {}
     },
     "a493512c1c6f4fe5ab1dd200a43d0adc": {
      "model_module": "@jupyter-widgets/base",
      "model_module_version": "1.2.0",
      "model_name": "LayoutModel",
      "state": {}
     },
     "a493d3d99d0e48428057a78655ef7b05": {
      "model_module": "@jupyter-widgets/base",
      "model_module_version": "1.2.0",
      "model_name": "LayoutModel",
      "state": {}
     },
     "a4a09805b0c54a709476222011f6c3e4": {
      "model_module": "@jupyter-widgets/controls",
      "model_module_version": "1.5.0",
      "model_name": "LabelModel",
      "state": {
       "layout": "IPY_MODEL_30f4309e8b23494f9dc1ca4f218326b5",
       "style": "IPY_MODEL_9453d3eec2a440a4a7c8912f7a3ed766",
       "value": "Reference effective susceptibility"
      }
     },
     "a4fd4499c4654220a4f1f55eb5e4ba23": {
      "model_module": "@jupyter-widgets/base",
      "model_module_version": "1.2.0",
      "model_name": "LayoutModel",
      "state": {}
     },
     "a507b8b1d214494a846ec2fbd5cddeb9": {
      "model_module": "@jupyter-widgets/controls",
      "model_module_version": "1.5.0",
      "model_name": "HBoxModel",
      "state": {
       "children": [
        "IPY_MODEL_d436e8a13aca401f99de91d5c09554a6"
       ],
       "layout": "IPY_MODEL_5b57937a804f4455979fa0ec1e66e888"
      }
     },
     "a556a11661c44b0c91206abbe3580a78": {
      "model_module": "@jupyter-widgets/base",
      "model_module_version": "1.2.0",
      "model_name": "LayoutModel",
      "state": {}
     },
     "a5cb31f4984344798dbfcb460954eaa2": {
      "model_module": "@jupyter-widgets/base",
      "model_module_version": "1.2.0",
      "model_name": "LayoutModel",
      "state": {
       "width": "auto"
      }
     },
     "a618900860ae49c49d0b534bb6d93d36": {
      "model_module": "@jupyter-widgets/controls",
      "model_module_version": "1.5.0",
      "model_name": "DescriptionStyleModel",
      "state": {
       "description_width": ""
      }
     },
     "a7522f4dd5584beebbd2c968b8238588": {
      "model_module": "@jupyter-widgets/base",
      "model_module_version": "1.2.0",
      "model_name": "LayoutModel",
      "state": {}
     },
     "a7a2b6e683694069be7df9ccc05f5df0": {
      "model_module": "@jupyter-widgets/output",
      "model_module_version": "1.0.0",
      "model_name": "OutputModel",
      "state": {
       "layout": "IPY_MODEL_837c0a0936de49fba43ffdce06316f23",
       "outputs": [
        {
         "data": {
          "image/png": "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\n",
          "text/plain": "<Figure size 720x720 with 1 Axes>"
         },
         "metadata": {
          "needs_background": "light"
         },
         "output_type": "display_data"
        }
       ]
      }
     },
     "a7add0b5dd8a4c3aaf3c7979d203205d": {
      "model_module": "@jupyter-widgets/controls",
      "model_module_version": "1.5.0",
      "model_name": "DescriptionStyleModel",
      "state": {
       "description_width": ""
      }
     },
     "a80a8eadd4404446bf572f115482d254": {
      "model_module": "@jupyter-widgets/base",
      "model_module_version": "1.2.0",
      "model_name": "LayoutModel",
      "state": {}
     },
     "a833195d04684ccca7e2c25fe0dc6ac1": {
      "model_module": "@jupyter-widgets/controls",
      "model_module_version": "1.5.0",
      "model_name": "DropdownModel",
      "state": {
       "_options_labels": [
        "",
        "--- Channels ---",
        "Airborne_Gxx",
        "Airborne_Gxy",
        "Airborne_Gxz",
        "Airborne_Gyy",
        "Airborne_Gyz",
        "Airborne_Gz",
        "Airborne_Gzz",
        "Airborne_TMI",
        "Ground_Gz",
        "Z"
       ],
       "description": "Channel <=> Data:",
       "index": 0,
       "layout": "IPY_MODEL_b0a7ea3646ca4b909cbfb7b2a08394d0",
       "style": "IPY_MODEL_05827bde59534cec830659ff5877327c"
      }
     },
     "a834468d6d0042618cd784edd63a39b4": {
      "model_module": "@jupyter-widgets/base",
      "model_module_version": "1.2.0",
      "model_name": "LayoutModel",
      "state": {}
     },
     "a85c6958be774cd28f0fbaaf8d0621ca": {
      "model_module": "@jupyter-widgets/base",
      "model_module_version": "1.2.0",
      "model_name": "LayoutModel",
      "state": {
       "grid_area": "pathlist",
       "width": "auto"
      }
     },
     "a86103ba8c6b41c5896870a065e1a528": {
      "model_module": "@jupyter-widgets/controls",
      "model_module_version": "1.5.0",
      "model_name": "SelectModel",
      "state": {
       "_options_labels": [
        "..",
        "dask-worker-space",
        "images"
       ],
       "index": null,
       "layout": "IPY_MODEL_1259992f0a7741429e7f38c5afc45233",
       "rows": 8,
       "style": "IPY_MODEL_72ecc810e8474dca99eb2ddfe880f5e1"
      }
     },
     "a8f94729e6d341219456cfb6e7510ff3": {
      "model_module": "@jupyter-widgets/controls",
      "model_module_version": "1.5.0",
      "model_name": "FloatSliderModel",
      "state": {
       "continuous_update": false,
       "description": "Easting",
       "layout": "IPY_MODEL_2fc5ca7e8c4f41ebbc363f7ea7de136b",
       "max": 319234.2051362576,
       "min": 311898.69919769425,
       "step": 0.1,
       "style": "IPY_MODEL_fcfd58193922439fb9dd50de18dbffd6",
       "value": 314600
      }
     },
     "a96098f94bf744e3ab9ee7045393327a": {
      "model_module": "@jupyter-widgets/controls",
      "model_module_version": "1.5.0",
      "model_name": "VBoxModel",
      "state": {
       "children": [
        "IPY_MODEL_d8432b5f7a034bfd81ede48d66be259b",
        "IPY_MODEL_3ea9cbb023ae43f288363502a2ee0b90"
       ],
       "layout": "IPY_MODEL_1314524f0d104a068308a3f9e4078aa6"
      }
     },
     "a969de859bab42e88c29b62f7f37aeb3": {
      "model_module": "@jupyter-widgets/controls",
      "model_module_version": "1.5.0",
      "model_name": "ButtonModel",
      "state": {
       "description": "Select",
       "layout": "IPY_MODEL_0511e7ef97ca4e92984d2a2759597290",
       "style": "IPY_MODEL_73d8e8837be447afaab5df28a3645e0f"
      }
     },
     "a99accb98b4547b2902c41f413b34cf3": {
      "model_module": "@jupyter-widgets/controls",
      "model_module_version": "1.5.0",
      "model_name": "ButtonModel",
      "state": {
       "description": "Select",
       "layout": "IPY_MODEL_d9ef24071153431c81cf736455f22b5f",
       "style": "IPY_MODEL_66b55b27c7714a119f6b549ca8a5a8a7"
      }
     },
     "aa51c1fdf31245c8b6e93be15ac8523e": {
      "model_module": "@jupyter-widgets/controls",
      "model_module_version": "1.5.0",
      "model_name": "TextModel",
      "state": {
       "description": "Offsets (x,y,z)",
       "layout": "IPY_MODEL_b6d279fff52848a48d9fbb99bdeb5de4",
       "style": "IPY_MODEL_3f154acbb913489d84a3c999f5147b17",
       "value": "0, 0, 0"
      }
     },
     "aa812a1866e8487db18a5190c40c5ba5": {
      "model_module": "@jupyter-widgets/controls",
      "model_module_version": "1.5.0",
      "model_name": "VBoxModel",
      "state": {
       "children": [
        "IPY_MODEL_403beb30a30c42ea80e1fd43f3e37726",
        "IPY_MODEL_675d7931726c43a29163b1233085f774"
       ],
       "layout": "IPY_MODEL_ec2ebcbf150242cc9057040abf5c5cd1"
      }
     },
     "aad2aef820814e49979030be1fa78e90": {
      "model_module": "@jupyter-widgets/base",
      "model_module_version": "1.2.0",
      "model_name": "LayoutModel",
      "state": {
       "width": "auto"
      }
     },
     "ab12919d40464efabe62ae27370e2db7": {
      "model_module": "@jupyter-widgets/controls",
      "model_module_version": "1.5.0",
      "model_name": "DescriptionStyleModel",
      "state": {
       "description_width": ""
      }
     },
     "ab20437676b74ee092c324edeba0a04c": {
      "model_module": "@jupyter-widgets/controls",
      "model_module_version": "1.5.0",
      "model_name": "TextModel",
      "state": {
       "layout": "IPY_MODEL_000ca1ddc4f840e8abe725b01cb34d22",
       "placeholder": "output filename",
       "style": "IPY_MODEL_ddac826d760d4236a107144ce06e5908"
      }
     },
     "ab81665b410a4dfdbe7803a1b559ed0c": {
      "model_module": "@jupyter-widgets/controls",
      "model_module_version": "1.5.0",
      "model_name": "VBoxModel",
      "state": {
       "children": [
        "IPY_MODEL_5a3e7cf16fc24a23bebe7fd0022002b3"
       ],
       "layout": "IPY_MODEL_043857e998914c68a49fa9fee1487bb9"
      }
     },
     "abe0698523e24a389b09c71e99f26d90": {
      "model_module": "@jupyter-widgets/controls",
      "model_module_version": "1.5.0",
      "model_name": "FloatTextModel",
      "state": {
       "description": "Grid Resolution (m)",
       "layout": "IPY_MODEL_ba6d871a576f4b24bdf8307b0bfe6f0e",
       "step": null,
       "style": "IPY_MODEL_b7556e56d29940c58c9bc1b879d5795a",
       "value": 50
      }
     },
     "abe8c422faa2467cb2dc870708b597ed": {
      "model_module": "@jupyter-widgets/controls",
      "model_module_version": "1.5.0",
      "model_name": "HBoxModel",
      "state": {
       "children": [
        "IPY_MODEL_ae5a83f808bb47f1b4a5c5f8bbc65771",
        "IPY_MODEL_55f432a526124e16b30ae9df45e08716"
       ],
       "layout": "IPY_MODEL_5bacc44f7bef47b992afff5bfe38bfaf"
      }
     },
     "ac1b511a579447e5a336de2639812f12": {
      "model_module": "@jupyter-widgets/controls",
      "model_module_version": "1.5.0",
      "model_name": "DescriptionStyleModel",
      "state": {
       "description_width": ""
      }
     },
     "ac45a3a9ee1c488982d2dd3a8181e317": {
      "model_module": "@jupyter-widgets/base",
      "model_module_version": "1.2.0",
      "model_name": "LayoutModel",
      "state": {}
     },
     "ac6a654f32f54c4b8d526daf4edc23de": {
      "model_module": "@jupyter-widgets/controls",
      "model_module_version": "1.5.0",
      "model_name": "DescriptionStyleModel",
      "state": {
       "description_width": ""
      }
     },
     "acb20634bfc84ea7aa82fa46e890e2a0": {
      "model_module": "@jupyter-widgets/base",
      "model_module_version": "1.2.0",
      "model_name": "LayoutModel",
      "state": {
       "width": "auto"
      }
     },
     "acbeb5beb4c14f0bbd6bd827001e89d1": {
      "model_module": "@jupyter-widgets/base",
      "model_module_version": "1.2.0",
      "model_name": "LayoutModel",
      "state": {}
     },
     "ad1060359c344bb7b85b210bca6fc9d0": {
      "model_module": "@jupyter-widgets/base",
      "model_module_version": "1.2.0",
      "model_name": "LayoutModel",
      "state": {
       "display": "none",
       "width": "auto"
      }
     },
     "ad38f3341ec64feb8a5560346923858c": {
      "model_module": "@jupyter-widgets/controls",
      "model_module_version": "1.5.0",
      "model_name": "SelectModel",
      "state": {
       "_options_labels": [
        "..",
        "dask-worker-space",
        "images",
        "Untitled.ipynb",
        "base_application.ipynb",
        "calculator.ipynb",
        "clustering.ipynb",
        "contouring.ipynb",
        "coordinate_transformation.ipynb",
        "create_surface.ipynb",
        "data_interpolation.ipynb",
        "edge_detection.ipynb",
        "export.ipynb",
        "geophysical_inversion.ipynb",
        "object_data_selection.ipynb",
        "peak_finder.ipynb",
        "scatter.ipynb",
        "view_selection.ipynb"
       ],
       "index": null,
       "layout": "IPY_MODEL_b24e24acfca14d35ba731b00724e3469",
       "rows": 8,
       "style": "IPY_MODEL_ebf6e4e8e14549a98d7a80e3b5f4a2dd"
      }
     },
     "adbb5ef479d841b0a7bf749f571ada16": {
      "model_module": "@jupyter-widgets/base",
      "model_module_version": "1.2.0",
      "model_name": "LayoutModel",
      "state": {}
     },
     "adff56da7c624645bcb17cba4684708c": {
      "model_module": "@jupyter-widgets/base",
      "model_module_version": "1.2.0",
      "model_name": "LayoutModel",
      "state": {}
     },
     "ae499764683e4629ad30bc6738e6af52": {
      "model_module": "@jupyter-widgets/controls",
      "model_module_version": "1.5.0",
      "model_name": "FloatTextModel",
      "state": {
       "description": "SI",
       "layout": "IPY_MODEL_070162353ff84c4282862fb7dc9fff3e",
       "step": null,
       "style": "IPY_MODEL_4dd63e199547426087796a83c44b5569"
      }
     },
     "ae5a83f808bb47f1b4a5c5f8bbc65771": {
      "model_module": "@jupyter-widgets/controls",
      "model_module_version": "1.5.0",
      "model_name": "VBoxModel",
      "state": {
       "children": [
        "IPY_MODEL_2a6d56b026af4e80ae8ff9f242c1ff48",
        "IPY_MODEL_861deab2b4124c2abc93c9e0ab621648",
        "IPY_MODEL_3573a7dd84494fe3aed29d476b99f40c"
       ],
       "layout": "IPY_MODEL_c76c859d7f0646898ad86708be3ccde4"
      }
     },
     "aea970e421fb4fcb9ba219dfcc25de5c": {
      "model_module": "@jupyter-widgets/base",
      "model_module_version": "1.2.0",
      "model_name": "LayoutModel",
      "state": {}
     },
     "af3d02c6858f499282c2bdc594e07e34": {
      "model_module": "@jupyter-widgets/controls",
      "model_module_version": "1.5.0",
      "model_name": "ButtonStyleModel",
      "state": {}
     },
     "af9678f0cb9443ab8ed1da39a348a012": {
      "model_module": "@jupyter-widgets/base",
      "model_module_version": "1.2.0",
      "model_name": "LayoutModel",
      "state": {}
     },
     "afc76053ed534343be7fbf70bf3de169": {
      "model_module": "@jupyter-widgets/base",
      "model_module_version": "1.2.0",
      "model_name": "LayoutModel",
      "state": {}
     },
     "afec6cd7fb674c699d5f48a7e5fb900e": {
      "model_module": "@jupyter-widgets/base",
      "model_module_version": "1.2.0",
      "model_name": "LayoutModel",
      "state": {}
     },
     "b04397f70f584ec39cba527f405ae17f": {
      "model_module": "@jupyter-widgets/controls",
      "model_module_version": "1.5.0",
      "model_name": "HTMLModel",
      "state": {
       "layout": "IPY_MODEL_ca1bf7a59ddd4f418629c12dd088058d",
       "style": "IPY_MODEL_984fb7efd7464dcc90fcfef303f734b4"
      }
     },
     "b0674a6267de46f9a5000b475e5d7b13": {
      "model_module": "@jupyter-widgets/controls",
      "model_module_version": "1.5.0",
      "model_name": "GridBoxModel",
      "state": {
       "children": [
        "IPY_MODEL_ead56d87abde44048e3035a172e62282",
        "IPY_MODEL_dfc4d4bb3d264a9b9928f068000b9a00",
        "IPY_MODEL_47e3aafe45ad43ab8d2bbedcbd1c4c51"
       ],
       "layout": "IPY_MODEL_efce456ea02f4eef839c5f06a444e8a1"
      }
     },
     "b082566ee71f49a6901b68bf9baf648d": {
      "model_module": "@jupyter-widgets/base",
      "model_module_version": "1.2.0",
      "model_name": "LayoutModel",
      "state": {}
     },
     "b0a7ea3646ca4b909cbfb7b2a08394d0": {
      "model_module": "@jupyter-widgets/base",
      "model_module_version": "1.2.0",
      "model_name": "LayoutModel",
      "state": {}
     },
     "b0f3b2d298ef4f518c0b6c52992e0e78": {
      "model_module": "@jupyter-widgets/base",
      "model_module_version": "1.2.0",
      "model_name": "LayoutModel",
      "state": {}
     },
     "b103e227852b441f8b765b52bdc5330f": {
      "model_module": "@jupyter-widgets/controls",
      "model_module_version": "1.5.0",
      "model_name": "DescriptionStyleModel",
      "state": {
       "description_width": ""
      }
     },
     "b15369b5dedc456884a3ee3660cd7761": {
      "model_module": "@jupyter-widgets/base",
      "model_module_version": "1.2.0",
      "model_name": "LayoutModel",
      "state": {}
     },
     "b17bd60866ae424b894fe1dac9d9b84d": {
      "model_module": "@jupyter-widgets/controls",
      "model_module_version": "1.5.0",
      "model_name": "ButtonModel",
      "state": {
       "button_style": "danger",
       "description": "Compute",
       "icon": "check",
       "layout": "IPY_MODEL_c3019b5deb9244cbaab1dd4c14ed8bfc",
       "style": "IPY_MODEL_0cb8cc45a4a548dfbf3f938af0391d01",
       "tooltip": "Run computation"
      }
     },
     "b1bdb9b017ca4eb181eab982b4d4e78c": {
      "model_module": "@jupyter-widgets/controls",
      "model_module_version": "1.5.0",
      "model_name": "DescriptionStyleModel",
      "state": {
       "description_width": "initial"
      }
     },
     "b24e24acfca14d35ba731b00724e3469": {
      "model_module": "@jupyter-widgets/base",
      "model_module_version": "1.2.0",
      "model_name": "LayoutModel",
      "state": {
       "grid_area": "dircontent",
       "width": "auto"
      }
     },
     "b261da8458d247b781534b106d721869": {
      "model_module": "@jupyter-widgets/controls",
      "model_module_version": "1.5.0",
      "model_name": "DescriptionStyleModel",
      "state": {
       "description_width": ""
      }
     },
     "b2814f3266ad4ae3909940ebc88e81e4": {
      "model_module": "@jupyter-widgets/controls",
      "model_module_version": "1.5.0",
      "model_name": "DescriptionStyleModel",
      "state": {
       "description_width": ""
      }
     },
     "b2a4cf83994a4bc299bb131849fa6fb7": {
      "model_module": "@jupyter-widgets/controls",
      "model_module_version": "1.5.0",
      "model_name": "DescriptionStyleModel",
      "state": {
       "description_width": ""
      }
     },
     "b3169d6effe041d89670f08626dc6e8b": {
      "model_module": "@jupyter-widgets/controls",
      "model_module_version": "1.5.0",
      "model_name": "DescriptionStyleModel",
      "state": {
       "description_width": ""
      }
     },
     "b3266fe94e8f44ac8f5de8af270c2194": {
      "model_module": "@jupyter-widgets/base",
      "model_module_version": "1.2.0",
      "model_name": "LayoutModel",
      "state": {}
     },
     "b383ac083db544018cb31d0ae555c37e": {
      "model_module": "@jupyter-widgets/controls",
      "model_module_version": "1.5.0",
      "model_name": "DescriptionStyleModel",
      "state": {
       "description_width": ""
      }
     },
     "b3b2595679d74cddbc17606d95798b85": {
      "model_module": "@jupyter-widgets/controls",
      "model_module_version": "1.5.0",
      "model_name": "VBoxModel",
      "state": {
       "children": [
        "IPY_MODEL_11c35ad092314eeca597fc397303a66e",
        "IPY_MODEL_7dcc842914cd449ab64da432583929f1"
       ],
       "layout": "IPY_MODEL_b15369b5dedc456884a3ee3660cd7761"
      }
     },
     "b3d2ed858da243e9a69b50f210e7ae7a": {
      "model_module": "@jupyter-widgets/controls",
      "model_module_version": "1.5.0",
      "model_name": "DescriptionStyleModel",
      "state": {
       "description_width": ""
      }
     },
     "b43774396980441f996c94e1a55adb02": {
      "model_module": "@jupyter-widgets/controls",
      "model_module_version": "1.5.0",
      "model_name": "DescriptionStyleModel",
      "state": {
       "description_width": ""
      }
     },
     "b47aa883b44e404a8c2cd4b622e5079a": {
      "model_module": "@jupyter-widgets/base",
      "model_module_version": "1.2.0",
      "model_name": "LayoutModel",
      "state": {
       "grid_area": "pathlist",
       "width": "auto"
      }
     },
     "b485843686db47a99780e4477551e051": {
      "model_module": "@jupyter-widgets/base",
      "model_module_version": "1.2.0",
      "model_name": "LayoutModel",
      "state": {}
     },
     "b4bd954d04a54a11ac0cd971773b7aa4": {
      "model_module": "@jupyter-widgets/base",
      "model_module_version": "1.2.0",
      "model_name": "LayoutModel",
      "state": {}
     },
     "b5052810f46f4fa58fbed2c32d7c51c2": {
      "model_module": "@jupyter-widgets/base",
      "model_module_version": "1.2.0",
      "model_name": "LayoutModel",
      "state": {}
     },
     "b51bd28eb5f24c1482f218bb4c78d2ca": {
      "model_module": "@jupyter-widgets/controls",
      "model_module_version": "1.5.0",
      "model_name": "DescriptionStyleModel",
      "state": {
       "description_width": ""
      }
     },
     "b5a14d183a85413b8bc666a70f746745": {
      "model_module": "@jupyter-widgets/base",
      "model_module_version": "1.2.0",
      "model_name": "LayoutModel",
      "state": {}
     },
     "b5c80c7098bf412cae9318628a7d6da5": {
      "model_module": "@jupyter-widgets/base",
      "model_module_version": "1.2.0",
      "model_name": "LayoutModel",
      "state": {}
     },
     "b5f297549e7045c79ea75a06cd7b4532": {
      "model_module": "@jupyter-widgets/base",
      "model_module_version": "1.2.0",
      "model_name": "LayoutModel",
      "state": {}
     },
     "b5f3b659ee6644e881fca0d007b5e5a8": {
      "model_module": "@jupyter-widgets/base",
      "model_module_version": "1.2.0",
      "model_name": "LayoutModel",
      "state": {}
     },
     "b64d30c23b824bffb825317d2080c54b": {
      "model_module": "@jupyter-widgets/controls",
      "model_module_version": "1.5.0",
      "model_name": "DescriptionStyleModel",
      "state": {
       "description_width": ""
      }
     },
     "b668f7c5fc8f450dbd6616647558b5d3": {
      "model_module": "@jupyter-widgets/base",
      "model_module_version": "1.2.0",
      "model_name": "LayoutModel",
      "state": {}
     },
     "b6770703758848bfa75c83cc012d21b8": {
      "model_module": "@jupyter-widgets/controls",
      "model_module_version": "1.5.0",
      "model_name": "ButtonStyleModel",
      "state": {}
     },
     "b69e19752d6044f9ab206f161282da41": {
      "model_module": "@jupyter-widgets/base",
      "model_module_version": "1.2.0",
      "model_name": "LayoutModel",
      "state": {
       "visibility": "hidden"
      }
     },
     "b6d279fff52848a48d9fbb99bdeb5de4": {
      "model_module": "@jupyter-widgets/base",
      "model_module_version": "1.2.0",
      "model_name": "LayoutModel",
      "state": {
       "visibility": "hidden"
      }
     },
     "b6ee5afb1e2e4441a3861a202be2bcb0": {
      "model_module": "@jupyter-widgets/controls",
      "model_module_version": "1.5.0",
      "model_name": "DescriptionStyleModel",
      "state": {
       "description_width": ""
      }
     },
     "b71a93a39e654495b2798a4301c7c0f5": {
      "model_module": "@jupyter-widgets/controls",
      "model_module_version": "1.5.0",
      "model_name": "ButtonModel",
      "state": {
       "description": "Cancel",
       "layout": "IPY_MODEL_6c5ec514a24b420681a602caa6bfcece",
       "style": "IPY_MODEL_54099c1cc8d948c78c18dc1246f152ed"
      }
     },
     "b7556e56d29940c58c9bc1b879d5795a": {
      "model_module": "@jupyter-widgets/controls",
      "model_module_version": "1.5.0",
      "model_name": "DescriptionStyleModel",
      "state": {
       "description_width": "initial"
      }
     },
     "b75793e854094bd4acd8933ff8225bf7": {
      "model_module": "@jupyter-widgets/controls",
      "model_module_version": "1.5.0",
      "model_name": "DescriptionStyleModel",
      "state": {
       "description_width": ""
      }
     },
     "b79fe8b59fb94e06a3543ae3dc3ced13": {
      "model_module": "@jupyter-widgets/controls",
      "model_module_version": "1.5.0",
      "model_name": "DescriptionStyleModel",
      "state": {
       "description_width": "initial"
      }
     },
     "b7a9b646d6e049d39986e122c9da159c": {
      "model_module": "@jupyter-widgets/base",
      "model_module_version": "1.2.0",
      "model_name": "LayoutModel",
      "state": {
       "width": "auto"
      }
     },
     "b7f215c8622a44fab1843c9b2d7b2f79": {
      "model_module": "@jupyter-widgets/controls",
      "model_module_version": "1.5.0",
      "model_name": "HTMLModel",
      "state": {
       "layout": "IPY_MODEL_f096ba8eb26644bba1da4c30d0243500",
       "style": "IPY_MODEL_859dbf71be3640cebbbb1f1e2d138807"
      }
     },
     "b81f198553d84aee9671e4c709e1ebdf": {
      "model_module": "@jupyter-widgets/controls",
      "model_module_version": "1.5.0",
      "model_name": "DescriptionStyleModel",
      "state": {
       "description_width": ""
      }
     },
     "b84f6b55752d4c4782dcc1fbcbfb866c": {
      "model_module": "@jupyter-widgets/controls",
      "model_module_version": "1.5.0",
      "model_name": "SelectModel",
      "state": {
       "_options_labels": [
        "..",
        "dask-worker-space",
        "images",
        "Untitled.ipynb",
        "base_application.ipynb",
        "calculator.ipynb",
        "clustering.ipynb",
        "contouring.ipynb",
        "coordinate_transformation.ipynb",
        "create_surface.ipynb",
        "data_interpolation.ipynb",
        "edge_detection.ipynb",
        "export.ipynb",
        "geophysical_inversion.ipynb",
        "object_data_selection.ipynb",
        "peak_finder.ipynb",
        "scatter.ipynb",
        "view_selection.ipynb"
       ],
       "index": null,
       "layout": "IPY_MODEL_9db9382af5034f7f9e5b5eccb09e6051",
       "rows": 8,
       "style": "IPY_MODEL_2b9e7241381b4d268431e24948450b84"
      }
     },
     "b8b3c3fa9d0349e685074732cb8cabe2": {
      "model_module": "@jupyter-widgets/controls",
      "model_module_version": "1.5.0",
      "model_name": "VBoxModel",
      "state": {
       "children": [
        "IPY_MODEL_588d76bdd6a4462b87803728fbce9e3e",
        "IPY_MODEL_ab81665b410a4dfdbe7803a1b559ed0c"
       ],
       "layout": "IPY_MODEL_e5c9e0d1d8c0458991876f6cdd7f262c"
      }
     },
     "b8cc73d7bfdb477a81605c34ffb837ab": {
      "model_module": "@jupyter-widgets/controls",
      "model_module_version": "1.5.0",
      "model_name": "CheckboxModel",
      "state": {
       "description": "Active",
       "disabled": false,
       "layout": "IPY_MODEL_c53b02d776304432b071331468fe41a1",
       "style": "IPY_MODEL_1d57947cae1245afb065d55a7d2eee26",
       "value": false
      }
     },
     "b8e191797f2d4770a019a1d64ffd2abd": {
      "model_module": "@jupyter-widgets/base",
      "model_module_version": "1.2.0",
      "model_name": "LayoutModel",
      "state": {
       "display": "none"
      }
     },
     "b8e43485607343cc8d0eabe6a32b9396": {
      "model_module": "@jupyter-widgets/controls",
      "model_module_version": "1.5.0",
      "model_name": "GridBoxModel",
      "state": {
       "children": [
        "IPY_MODEL_3aef5e5b88354044bd4f7ac1f3dcbe31",
        "IPY_MODEL_d9d87f75d4394b71841b4a90fa5da4e3",
        "IPY_MODEL_caf1b40b96884e05b5b22198454c7e83"
       ],
       "layout": "IPY_MODEL_7f7888311b35432b8ba847668bba2a30"
      }
     },
     "b9979660510e43fca6244ab8e7d22274": {
      "model_module": "@jupyter-widgets/controls",
      "model_module_version": "1.5.0",
      "model_name": "DescriptionStyleModel",
      "state": {
       "description_width": ""
      }
     },
     "b9a596c2d52044768786286fe3fed65b": {
      "model_module": "@jupyter-widgets/base",
      "model_module_version": "1.2.0",
      "model_name": "LayoutModel",
      "state": {}
     },
     "b9af0356924c400ab1d4d813186a1898": {
      "model_module": "@jupyter-widgets/controls",
      "model_module_version": "1.5.0",
      "model_name": "VBoxModel",
      "state": {
       "children": [
        "IPY_MODEL_227dab0b10dd4558bd0107e3ec6df801",
        "IPY_MODEL_6d142ce00cd243a589d6c11e9c425755"
       ],
       "layout": "IPY_MODEL_e6ccb613a3b94410aafef39ddc65af33"
      }
     },
     "b9cc2a9c4a61466bafaf774b949be43c": {
      "model_module": "@jupyter-widgets/controls",
      "model_module_version": "1.5.0",
      "model_name": "ButtonModel",
      "state": {
       "description": "Cancel",
       "layout": "IPY_MODEL_ad1060359c344bb7b85b210bca6fc9d0",
       "style": "IPY_MODEL_d396f614eb1d49b1b6c293cae9a2fa09"
      }
     },
     "ba09ac224c9c40408cc26fbaa26e287e": {
      "model_module": "@jupyter-widgets/controls",
      "model_module_version": "1.5.0",
      "model_name": "DescriptionStyleModel",
      "state": {
       "description_width": "initial"
      }
     },
     "ba34be981d4d41b99fff7eb43036c1c8": {
      "model_module": "@jupyter-widgets/controls",
      "model_module_version": "1.5.0",
      "model_name": "DescriptionStyleModel",
      "state": {
       "description_width": ""
      }
     },
     "ba3a7aa4b69749b99239da408be0cfc1": {
      "model_module": "@jupyter-widgets/controls",
      "model_module_version": "1.5.0",
      "model_name": "DropdownModel",
      "state": {
       "_options_labels": [
        "C:\\Users\\dominiquef\\Documents\\GIT\\mira\\mirageoscience-apps\\docs\\content\\applications",
        "C:\\Users\\dominiquef\\Documents\\GIT\\mira\\mirageoscience-apps\\docs\\content",
        "C:\\Users\\dominiquef\\Documents\\GIT\\mira\\mirageoscience-apps\\docs",
        "C:\\Users\\dominiquef\\Documents\\GIT\\mira\\mirageoscience-apps",
        "C:\\Users\\dominiquef\\Documents\\GIT\\mira",
        "C:\\Users\\dominiquef\\Documents\\GIT",
        "C:\\Users\\dominiquef\\Documents",
        "C:\\Users\\dominiquef",
        "C:\\Users",
        "C:\\",
        "D:\\",
        "Z:\\"
       ],
       "index": 0,
       "layout": "IPY_MODEL_e4f178f183784b618c5e066e47ba27fa",
       "style": "IPY_MODEL_90f3373d97904145848ee7a56f48f112"
      }
     },
     "ba46a7e4c7864d2cbd1fb4510abf6bc8": {
      "model_module": "@jupyter-widgets/controls",
      "model_module_version": "1.5.0",
      "model_name": "HTMLModel",
      "state": {
       "layout": "IPY_MODEL_e495ec8756f2404ab24f72f31a8f0829",
       "style": "IPY_MODEL_d0691249d2dd4bef8fb2b4d05a5c15e6"
      }
     },
     "ba4ad18f50294d7891da1b7cc7115f05": {
      "model_module": "@jupyter-widgets/base",
      "model_module_version": "1.2.0",
      "model_name": "LayoutModel",
      "state": {
       "visibility": "hidden"
      }
     },
     "ba6d871a576f4b24bdf8307b0bfe6f0e": {
      "model_module": "@jupyter-widgets/base",
      "model_module_version": "1.2.0",
      "model_name": "LayoutModel",
      "state": {}
     },
     "ba88445ee946475bb19df4a5ce9678ef": {
      "model_module": "@jupyter-widgets/controls",
      "model_module_version": "1.5.0",
      "model_name": "DescriptionStyleModel",
      "state": {
       "description_width": ""
      }
     },
     "bab0816b0920439a9977d95d3673d8a8": {
      "model_module": "@jupyter-widgets/controls",
      "model_module_version": "1.5.0",
      "model_name": "CheckboxModel",
      "state": {
       "description": "Active",
       "disabled": false,
       "layout": "IPY_MODEL_fb71db4af6b547b39abe78613e9a3e40",
       "style": "IPY_MODEL_1af948d1f03548eaa3a91129411ccae2",
       "value": false
      }
     },
     "bbc1f3b7a20741c08e19cabe812628e4": {
      "model_module": "@jupyter-widgets/controls",
      "model_module_version": "1.5.0",
      "model_name": "TextModel",
      "state": {
       "description": "Offsets (x,y,z)",
       "layout": "IPY_MODEL_ba4ad18f50294d7891da1b7cc7115f05",
       "style": "IPY_MODEL_4f3b97224cb8440cb09171bea12070d0",
       "value": "0, 0, 0"
      }
     },
     "bc2999ece17143ff98096799f948ea1f": {
      "model_module": "@jupyter-widgets/controls",
      "model_module_version": "1.5.0",
      "model_name": "DescriptionStyleModel",
      "state": {
       "description_width": ""
      }
     },
     "bc36c4cb30194e8e9a4c1b7283ba89f6": {
      "model_module": "@jupyter-widgets/controls",
      "model_module_version": "1.5.0",
      "model_name": "DescriptionStyleModel",
      "state": {
       "description_width": ""
      }
     },
     "bc417b838640415db838fc8247b789da": {
      "model_module": "@jupyter-widgets/controls",
      "model_module_version": "1.5.0",
      "model_name": "VBoxModel",
      "state": {
       "children": [
        "IPY_MODEL_3f4a14de1e4a4bf8a770d2e3d83bc663",
        "IPY_MODEL_846556cc695f436ba51747515d0d69df"
       ],
       "layout": "IPY_MODEL_6072db555e9a4eb59eb3e87dbfe0ed75"
      }
     },
     "bc96f3a7362d4251a05c70a2362a3243": {
      "model_module": "@jupyter-widgets/base",
      "model_module_version": "1.2.0",
      "model_name": "LayoutModel",
      "state": {
       "grid_area": "filename",
       "width": "auto"
      }
     },
     "bcc6f2b1ea894f1b9a557de64df9724e": {
      "model_module": "@jupyter-widgets/controls",
      "model_module_version": "1.5.0",
      "model_name": "SelectMultipleModel",
      "state": {
       "description": "Select lines:",
       "index": [],
       "layout": "IPY_MODEL_3d8247e05ea7457686e1be0a7a6b41a7",
       "rows": 5,
       "style": "IPY_MODEL_8f411978b8784a3da6657f8c87059db6"
      }
     },
     "bd31334d665c45d6920d68be82a84f00": {
      "model_module": "@jupyter-widgets/base",
      "model_module_version": "1.2.0",
      "model_name": "LayoutModel",
      "state": {
       "visibility": "hidden"
      }
     },
     "bd40c5ba7b314522ac325ef5bde65580": {
      "model_module": "@jupyter-widgets/controls",
      "model_module_version": "1.5.0",
      "model_name": "DescriptionStyleModel",
      "state": {
       "description_width": "initial"
      }
     },
     "bdab7e189cb94b1dac5a8213c089ff4e": {
      "model_module": "@jupyter-widgets/base",
      "model_module_version": "1.2.0",
      "model_name": "LayoutModel",
      "state": {
       "display": "none",
       "grid_gap": "0px 0px",
       "grid_template_areas": "\n                    'pathlist pathlist'\n                    'dircontent dircontent'\n                    ",
       "grid_template_columns": "60% 40%",
       "grid_template_rows": "auto auto",
       "width": "500px"
      }
     },
     "be10487d379b468f81983d36eb72a1f0": {
      "model_module": "@jupyter-widgets/controls",
      "model_module_version": "1.5.0",
      "model_name": "DescriptionStyleModel",
      "state": {
       "description_width": "initial"
      }
     },
     "bea69d7c82ef4e988fbfdf7d28642ee0": {
      "model_module": "@jupyter-widgets/base",
      "model_module_version": "1.2.0",
      "model_name": "LayoutModel",
      "state": {}
     },
     "bea6fd92e9d9428c9a9facde68caebca": {
      "model_module": "@jupyter-widgets/base",
      "model_module_version": "1.2.0",
      "model_name": "LayoutModel",
      "state": {}
     },
     "beba3f84b03344a999640fed56929ded": {
      "model_module": "@jupyter-widgets/base",
      "model_module_version": "1.2.0",
      "model_name": "LayoutModel",
      "state": {}
     },
     "becfe1ed62e84f2a8bc305c667f15aed": {
      "model_module": "@jupyter-widgets/controls",
      "model_module_version": "1.5.0",
      "model_name": "DropdownModel",
      "state": {
       "description": "Values",
       "index": null,
       "layout": "IPY_MODEL_4c9f070f6b0d4459a3bf0197398770e9",
       "style": "IPY_MODEL_593a44a91e8a42bcb96c605242272520"
      }
     },
     "bee89219053045fb8bc1879fa1ad6cc9": {
      "model_module": "@jupyter-widgets/base",
      "model_module_version": "1.2.0",
      "model_name": "LayoutModel",
      "state": {}
     },
     "bf0054860db6445080857f2e016faa0d": {
      "model_module": "@jupyter-widgets/controls",
      "model_module_version": "1.5.0",
      "model_name": "HTMLModel",
      "state": {
       "layout": "IPY_MODEL_c38764fc34ee4e3c8682a3d23116279c",
       "style": "IPY_MODEL_6515839292884da0b191d130791d4234"
      }
     },
     "bfcaecf1f97744f899062797625fe69b": {
      "model_module": "@jupyter-widgets/base",
      "model_module_version": "1.2.0",
      "model_name": "LayoutModel",
      "state": {}
     },
     "bfecae0ca3c54539871e93333b6df458": {
      "model_module": "@jupyter-widgets/controls",
      "model_module_version": "1.5.0",
      "model_name": "DropdownModel",
      "state": {
       "_options_labels": [
        "C:\\Users\\dominiquef\\Documents\\GIT\\mira\\mirageoscience-apps\\docs\\content\\applications",
        "C:\\Users\\dominiquef\\Documents\\GIT\\mira\\mirageoscience-apps\\docs\\content",
        "C:\\Users\\dominiquef\\Documents\\GIT\\mira\\mirageoscience-apps\\docs",
        "C:\\Users\\dominiquef\\Documents\\GIT\\mira\\mirageoscience-apps",
        "C:\\Users\\dominiquef\\Documents\\GIT\\mira",
        "C:\\Users\\dominiquef\\Documents\\GIT",
        "C:\\Users\\dominiquef\\Documents",
        "C:\\Users\\dominiquef",
        "C:\\Users",
        "C:\\",
        "D:\\",
        "Z:\\"
       ],
       "index": 0,
       "layout": "IPY_MODEL_f71c97e69eab41a48e9a0bca2c7748e1",
       "style": "IPY_MODEL_e66de98372bf41fd9f3aa6429aeed6d0"
      }
     },
     "bfef1b5eb34b483e9cdb4c7bdf2bd939": {
      "model_module": "@jupyter-widgets/controls",
      "model_module_version": "1.5.0",
      "model_name": "HBoxModel",
      "state": {
       "children": [
        "IPY_MODEL_2cdeb660711b4b43be7e27c3d2aed6da",
        "IPY_MODEL_16ece1ccf9474941bea317d14d48b53e",
        "IPY_MODEL_1d72eb183e2a439eb30bb413e620de18"
       ],
       "layout": "IPY_MODEL_eeac2904f81d4c99bba810b9ec6a5f69"
      }
     },
     "c00a3508393d437aa6818a94af0bbb1e": {
      "model_module": "@jupyter-widgets/base",
      "model_module_version": "1.2.0",
      "model_name": "LayoutModel",
      "state": {
       "visibility": "hidden"
      }
     },
     "c02dd18836d8434f8e9176aabae852c5": {
      "model_module": "@jupyter-widgets/controls",
      "model_module_version": "1.5.0",
      "model_name": "VBoxModel",
      "state": {
       "children": [
        "IPY_MODEL_a4a09805b0c54a709476222011f6c3e4",
        "IPY_MODEL_736d860da90a4648b982e3f0c924a1f4"
       ],
       "layout": "IPY_MODEL_7bac1e8e611643b6b6c1a46c772162cc"
      }
     },
     "c049c49d7ee040729aa452cc88dec369": {
      "model_module": "@jupyter-widgets/controls",
      "model_module_version": "1.5.0",
      "model_name": "RadioButtonsModel",
      "state": {
       "_options_labels": [
        "None",
        "Model",
        "Value"
       ],
       "index": 2,
       "layout": "IPY_MODEL_280ca8ef3c4946648e1acfb0f62cb920",
       "style": "IPY_MODEL_7af7981bf94d41d4b1fef5563275b7fc"
      }
     },
     "c074327831b7411eb08b16cc7b3ba36c": {
      "model_module": "@jupyter-widgets/controls",
      "model_module_version": "1.5.0",
      "model_name": "DescriptionStyleModel",
      "state": {
       "description_width": ""
      }
     },
     "c0b246ec3b774c7fa8fb6f6ce2e17c27": {
      "model_module": "@jupyter-widgets/controls",
      "model_module_version": "1.5.0",
      "model_name": "TextModel",
      "state": {
       "continuous_update": false,
       "description": "Norms p_(s, x, y, z)",
       "layout": "IPY_MODEL_14cbfd6e7cbf4369ba7c73585bcc6707",
       "style": "IPY_MODEL_eaff89d1e02e45a1b4a10fac54f099b5",
       "value": "0, 2, 2, 2"
      }
     },
     "c0cb6c7700d04669acd17fe4dfc24ed6": {
      "model_module": "@jupyter-widgets/base",
      "model_module_version": "1.2.0",
      "model_name": "LayoutModel",
      "state": {}
     },
     "c1185817854044de816a1840fbd2609c": {
      "model_module": "@jupyter-widgets/controls",
      "model_module_version": "1.5.0",
      "model_name": "ButtonModel",
      "state": {
       "description": "Select",
       "layout": "IPY_MODEL_58334fb2bdb3440bbbd834cd61c792fd",
       "style": "IPY_MODEL_0c9beeb2fa85469dada81ffefd8f9dcf"
      }
     },
     "c14478ccbc1345e187dcbbbb70cae540": {
      "model_module": "@jupyter-widgets/base",
      "model_module_version": "1.2.0",
      "model_name": "LayoutModel",
      "state": {}
     },
     "c17295d85f0f4f959fac4c56e2f76d72": {
      "model_module": "@jupyter-widgets/controls",
      "model_module_version": "1.5.0",
      "model_name": "DescriptionStyleModel",
      "state": {
       "description_width": "initial"
      }
     },
     "c1804630881d432390de7b7fc2b62a0f": {
      "model_module": "@jupyter-widgets/base",
      "model_module_version": "1.2.0",
      "model_name": "LayoutModel",
      "state": {
       "grid_area": "pathlist",
       "width": "auto"
      }
     },
     "c1d3e42e313844928cfa1228eefbfd30": {
      "model_module": "@jupyter-widgets/controls",
      "model_module_version": "1.5.0",
      "model_name": "ButtonStyleModel",
      "state": {}
     },
     "c249a9da51a249668753c5c5e179f342": {
      "model_module": "@jupyter-widgets/controls",
      "model_module_version": "1.5.0",
      "model_name": "ButtonStyleModel",
      "state": {}
     },
     "c250e97bd89141e89644da0b06ceef68": {
      "model_module": "@jupyter-widgets/controls",
      "model_module_version": "1.5.0",
      "model_name": "DescriptionStyleModel",
      "state": {
       "description_width": ""
      }
     },
     "c25b79b5ccc24d3c99bf7047a87c8657": {
      "model_module": "@jupyter-widgets/base",
      "model_module_version": "1.2.0",
      "model_name": "LayoutModel",
      "state": {}
     },
     "c26365e00e554c3aa88dfbc2215f2b3f": {
      "model_module": "@jupyter-widgets/base",
      "model_module_version": "1.2.0",
      "model_name": "LayoutModel",
      "state": {}
     },
     "c2696158939c43fcbb7eeee6816917eb": {
      "model_module": "@jupyter-widgets/controls",
      "model_module_version": "1.5.0",
      "model_name": "TextModel",
      "state": {
       "description": "Data (i.e. <0 = no negatives)",
       "layout": "IPY_MODEL_b5f297549e7045c79ea75a06cd7b4532",
       "style": "IPY_MODEL_e47c8113d6024cb083f9381f3a314fd0",
       "value": "-99999"
      }
     },
     "c3019b5deb9244cbaab1dd4c14ed8bfc": {
      "model_module": "@jupyter-widgets/base",
      "model_module_version": "1.2.0",
      "model_name": "LayoutModel",
      "state": {}
     },
     "c30cfd73f1f04cbb9783c640255f90b6": {
      "model_module": "@jupyter-widgets/controls",
      "model_module_version": "1.5.0",
      "model_name": "ButtonStyleModel",
      "state": {}
     },
     "c3113a60db5f4fe08629efbbda8c3441": {
      "model_module": "@jupyter-widgets/base",
      "model_module_version": "1.2.0",
      "model_name": "LayoutModel",
      "state": {}
     },
     "c329bd06d508439f8f39981a760091a9": {
      "model_module": "@jupyter-widgets/controls",
      "model_module_version": "1.5.0",
      "model_name": "ButtonModel",
      "state": {
       "description": "Select",
       "layout": "IPY_MODEL_324ef6e181a24ea6b848647072be22df",
       "style": "IPY_MODEL_9bcfe2866bda4414a2f53541757a506f"
      }
     },
     "c38764fc34ee4e3c8682a3d23116279c": {
      "model_module": "@jupyter-widgets/base",
      "model_module_version": "1.2.0",
      "model_name": "LayoutModel",
      "state": {
       "display": "none"
      }
     },
     "c3d332f1c5a144529c806d6a524df865": {
      "model_module": "@jupyter-widgets/controls",
      "model_module_version": "1.5.0",
      "model_name": "TextModel",
      "state": {
       "description": "Save to:",
       "layout": "IPY_MODEL_a493d3d99d0e48428057a78655ef7b05",
       "style": "IPY_MODEL_36a22e9758b14ec490c4813e794c5443",
       "value": "Inversion_"
      }
     },
     "c47f332b7b13497d8a00b4ab2ffcab8f": {
      "model_module": "@jupyter-widgets/base",
      "model_module_version": "1.2.0",
      "model_name": "LayoutModel",
      "state": {}
     },
     "c489d75a62e54bf690145ecbb1939a31": {
      "model_module": "@jupyter-widgets/base",
      "model_module_version": "1.2.0",
      "model_name": "LayoutModel",
      "state": {}
     },
     "c49bb86708b24fdc9c285dda808d35b4": {
      "model_module": "@jupyter-widgets/controls",
      "model_module_version": "1.5.0",
      "model_name": "ButtonStyleModel",
      "state": {}
     },
     "c4bdd9a47995457e994f5f7ad5876612": {
      "model_module": "@jupyter-widgets/base",
      "model_module_version": "1.2.0",
      "model_name": "LayoutModel",
      "state": {}
     },
     "c4be4f6719db4eebbf6443f4fc0a9649": {
      "model_module": "@jupyter-widgets/controls",
      "model_module_version": "1.5.0",
      "model_name": "VBoxModel",
      "state": {
       "children": [
        "IPY_MODEL_4f13e04a4b7d4c6da32cae0112eff3ac",
        "IPY_MODEL_eb5e6f4f08644fe8bc491a07560d812e"
       ],
       "layout": "IPY_MODEL_d804e3c9b7f74b6c9ee38db0ae0574f0"
      }
     },
     "c4cfc0170d9d486ca773a474da733e91": {
      "model_module": "@jupyter-widgets/controls",
      "model_module_version": "1.5.0",
      "model_name": "HTMLModel",
      "state": {
       "layout": "IPY_MODEL_569887db2b444b728ac0fe15bce5cab8",
       "style": "IPY_MODEL_653fddbdcacf4b55801bfed69320c09c"
      }
     },
     "c51face6c71545fdaf0f26ddae73bcfe": {
      "model_module": "@jupyter-widgets/controls",
      "model_module_version": "1.5.0",
      "model_name": "DescriptionStyleModel",
      "state": {
       "description_width": "initial"
      }
     },
     "c53b02d776304432b071331468fe41a1": {
      "model_module": "@jupyter-widgets/base",
      "model_module_version": "1.2.0",
      "model_name": "LayoutModel",
      "state": {}
     },
     "c549b436929d4bd89e9e76580c8dd622": {
      "model_module": "@jupyter-widgets/controls",
      "model_module_version": "1.5.0",
      "model_name": "DescriptionStyleModel",
      "state": {
       "description_width": "initial"
      }
     },
     "c54b8e9240a34119b786b0a26df864bc": {
      "model_module": "@jupyter-widgets/base",
      "model_module_version": "1.2.0",
      "model_name": "LayoutModel",
      "state": {
       "grid_area": "pathlist",
       "width": "auto"
      }
     },
     "c552fe5a9279486bb41845f9646e9383": {
      "model_module": "@jupyter-widgets/controls",
      "model_module_version": "1.5.0",
      "model_name": "HTMLModel",
      "state": {
       "layout": "IPY_MODEL_7122600fd159412ca0be186b2c998884",
       "placeholder": "",
       "style": "IPY_MODEL_88d14c286d3841ee87eea1fcb26ef466",
       "value": "<span style=\"margin-left:10px; color:black;\">No file selected</span>"
      }
     },
     "c5604cfff19d474fb8707611e1a115b4": {
      "model_module": "@jupyter-widgets/base",
      "model_module_version": "1.2.0",
      "model_name": "LayoutModel",
      "state": {}
     },
     "c5f9da5b96ec4cd78c20055d129d0b26": {
      "model_module": "@jupyter-widgets/controls",
      "model_module_version": "1.5.0",
      "model_name": "DescriptionStyleModel",
      "state": {
       "description_width": "initial"
      }
     },
     "c6354f8e34dc4bbdb4a241ef10d03128": {
      "model_module": "@jupyter-widgets/controls",
      "model_module_version": "1.5.0",
      "model_name": "TextModel",
      "state": {
       "layout": "IPY_MODEL_6d6a415a338948b6bb30ed7a75ce13c8",
       "placeholder": "output filename",
       "style": "IPY_MODEL_6d3446a26f654c019e36633d209dbb50"
      }
     },
     "c69b69a747bf46499d4617b968d7a9a2": {
      "model_module": "@jupyter-widgets/base",
      "model_module_version": "1.2.0",
      "model_name": "LayoutModel",
      "state": {}
     },
     "c6a654558fe94189b97fc3892d53bd95": {
      "model_module": "@jupyter-widgets/base",
      "model_module_version": "1.2.0",
      "model_name": "LayoutModel",
      "state": {}
     },
     "c6b8c8e7615b43b2b9d5ea24c3fa3bbc": {
      "model_module": "@jupyter-widgets/controls",
      "model_module_version": "1.5.0",
      "model_name": "HBoxModel",
      "state": {
       "children": [
        "IPY_MODEL_4995863a11444239a03a0c6fb5860acc",
        "IPY_MODEL_c3d332f1c5a144529c806d6a524df865"
       ],
       "layout": "IPY_MODEL_9bd1d86538f442b6a9c46bffda29d8e7"
      }
     },
     "c736866c98204409b1798210ea06b369": {
      "model_module": "@jupyter-widgets/base",
      "model_module_version": "1.2.0",
      "model_name": "LayoutModel",
      "state": {}
     },
     "c737e65192ed4f748cfd13aab7fb1196": {
      "model_module": "@jupyter-widgets/controls",
      "model_module_version": "1.5.0",
      "model_name": "DescriptionStyleModel",
      "state": {
       "description_width": ""
      }
     },
     "c73e9c5ff5a243dea967e137c4653b35": {
      "model_module": "@jupyter-widgets/base",
      "model_module_version": "1.2.0",
      "model_name": "LayoutModel",
      "state": {}
     },
     "c7415c7a6c3f438f98c7046de5ae8891": {
      "model_module": "@jupyter-widgets/controls",
      "model_module_version": "1.5.0",
      "model_name": "TextModel",
      "state": {
       "description": "Offsets (x,y,z)",
       "layout": "IPY_MODEL_ecd0a8f942f745979586837ec222316e",
       "style": "IPY_MODEL_c5f9da5b96ec4cd78c20055d129d0b26",
       "value": "0, 0, 0"
      }
     },
     "c74fc2b0cb44433fae7a4bef0bccd151": {
      "model_module": "@jupyter-widgets/controls",
      "model_module_version": "1.5.0",
      "model_name": "ToggleButtonModel",
      "state": {
       "button_style": "warning",
       "description": "Write input",
       "icon": "check",
       "layout": "IPY_MODEL_436743db67f7487e8888f5eea18b3e44",
       "style": "IPY_MODEL_fa8fb4713db248828e05d15a37afa987",
       "tooltip": "Write json input file"
      }
     },
     "c76c859d7f0646898ad86708be3ccde4": {
      "model_module": "@jupyter-widgets/base",
      "model_module_version": "1.2.0",
      "model_name": "LayoutModel",
      "state": {
       "width": "auto"
      }
     },
     "c777f8c0d4d54b30af68f9e2bba32adc": {
      "model_module": "@jupyter-widgets/controls",
      "model_module_version": "1.5.0",
      "model_name": "DescriptionStyleModel",
      "state": {
       "description_width": ""
      }
     },
     "c795752329df46f594574c74064ef67b": {
      "model_module": "@jupyter-widgets/base",
      "model_module_version": "1.2.0",
      "model_name": "LayoutModel",
      "state": {
       "display": "none",
       "grid_gap": "0px 0px",
       "grid_template_areas": "\n                    'pathlist filename'\n                    'dircontent dircontent'\n                    ",
       "grid_template_columns": "60% 40%",
       "grid_template_rows": "auto auto",
       "width": "500px"
      }
     },
     "c7eb69b3ceb949f0b1d409f43cc277be": {
      "model_module": "@jupyter-widgets/controls",
      "model_module_version": "1.5.0",
      "model_name": "DescriptionStyleModel",
      "state": {
       "description_width": ""
      }
     },
     "c8713eb97677428fbad84a4af1ecccea": {
      "model_module": "@jupyter-widgets/base",
      "model_module_version": "1.2.0",
      "model_name": "LayoutModel",
      "state": {}
     },
     "c87d83535a7245c6bca3fecf54696ef8": {
      "model_module": "@jupyter-widgets/controls",
      "model_module_version": "1.5.0",
      "model_name": "VBoxModel",
      "state": {
       "children": [
        "IPY_MODEL_f8b820032d8d4db7aaab6bb4c8b3e042"
       ],
       "layout": "IPY_MODEL_f0e8f81cf74d40f18102406a9a4a6d0a"
      }
     },
     "c90d3dd2ff604157b02c5b1321e872c8": {
      "model_module": "@jupyter-widgets/controls",
      "model_module_version": "1.5.0",
      "model_name": "LabelModel",
      "state": {
       "layout": "IPY_MODEL_5c253b6e77e0412280605f878f3e8c11",
       "style": "IPY_MODEL_07b355ea795a495198638d238cfcefd6",
       "value": "Workspace"
      }
     },
     "c972b54224c54938914f17d119fe387a": {
      "model_module": "@jupyter-widgets/controls",
      "model_module_version": "1.5.0",
      "model_name": "RadioButtonsModel",
      "state": {
       "_options_labels": [
        "value",
        "ratio"
       ],
       "description": "Starting tradeoff (beta):",
       "index": 1,
       "layout": "IPY_MODEL_96528717c7984188a7c71bf1e1ec5ac4",
       "style": "IPY_MODEL_72f228ab9fd7436aafd18ac2b26bf31b"
      }
     },
     "c9a3f6fcce4d4ba2ad8a7549ca4d72a3": {
      "model_module": "@jupyter-widgets/base",
      "model_module_version": "1.2.0",
      "model_name": "LayoutModel",
      "state": {
       "display": "none",
       "grid_gap": "0px 0px",
       "grid_template_areas": "\n                    'pathlist pathlist'\n                    'dircontent dircontent'\n                    ",
       "grid_template_columns": "60% 40%",
       "grid_template_rows": "auto auto",
       "width": "500px"
      }
     },
     "ca0c9f7627534c6b856a12f60c2460cc": {
      "model_module": "@jupyter-widgets/controls",
      "model_module_version": "1.5.0",
      "model_name": "HTMLModel",
      "state": {
       "layout": "IPY_MODEL_b3266fe94e8f44ac8f5de8af270c2194",
       "placeholder": "",
       "style": "IPY_MODEL_ce8549018b324fa78b90c45c996d984e",
       "value": "<span style=\"margin-left:10px; color:black;\">No file selected</span>"
      }
     },
     "ca1bf7a59ddd4f418629c12dd088058d": {
      "model_module": "@jupyter-widgets/base",
      "model_module_version": "1.2.0",
      "model_name": "LayoutModel",
      "state": {
       "display": "none"
      }
     },
     "ca3e7259ba5d4307ab824474f0ad5618": {
      "model_module": "@jupyter-widgets/base",
      "model_module_version": "1.2.0",
      "model_name": "LayoutModel",
      "state": {
       "grid_area": "filename",
       "width": "auto"
      }
     },
     "ca8b17cf58414e1983892141b42b5ebe": {
      "model_module": "@jupyter-widgets/base",
      "model_module_version": "1.2.0",
      "model_name": "LayoutModel",
      "state": {
       "visibility": "hidden"
      }
     },
     "ca9c5cf676514345b852bafce77d9a65": {
      "model_module": "@jupyter-widgets/base",
      "model_module_version": "1.2.0",
      "model_name": "LayoutModel",
      "state": {}
     },
     "cae1fb7662b3424eaa595c91eb34ffd1": {
      "model_module": "@jupyter-widgets/base",
      "model_module_version": "1.2.0",
      "model_name": "LayoutModel",
      "state": {}
     },
     "caf1b40b96884e05b5b22198454c7e83": {
      "model_module": "@jupyter-widgets/controls",
      "model_module_version": "1.5.0",
      "model_name": "SelectModel",
      "state": {
       "_options_labels": [
        "..",
        "dask-worker-space",
        "images"
       ],
       "index": null,
       "layout": "IPY_MODEL_d43487ab0b484a0d93d8f62e1250bbe5",
       "rows": 8,
       "style": "IPY_MODEL_191ac813db5447f1b1c2359356be1b07"
      }
     },
     "caff48d5178747548c1e7fc82f790562": {
      "model_module": "@jupyter-widgets/controls",
      "model_module_version": "1.5.0",
      "model_name": "FloatTextModel",
      "state": {
       "description": "Constant elevation (m)",
       "layout": "IPY_MODEL_c5604cfff19d474fb8707611e1a115b4",
       "step": null,
       "style": "IPY_MODEL_e43597c1f0db431f907cc7723d4bf529"
      }
     },
     "cb47e7828d9348088fc80fff59d18507": {
      "model_module": "@jupyter-widgets/controls",
      "model_module_version": "1.5.0",
      "model_name": "HTMLModel",
      "state": {
       "layout": "IPY_MODEL_b8e191797f2d4770a019a1d64ffd2abd",
       "style": "IPY_MODEL_398f0b6d93e443c7bc7f3a6ec49b481b"
      }
     },
     "cb5c63ffce104f8a84ec76a5d20e99b3": {
      "model_module": "@jupyter-widgets/controls",
      "model_module_version": "1.5.0",
      "model_name": "VBoxModel",
      "state": {
       "children": [
        "IPY_MODEL_53a25278e3f24cb5a06a4186741aa438",
        "IPY_MODEL_a8f94729e6d341219456cfb6e7510ff3",
        "IPY_MODEL_a7a2b6e683694069be7df9ccc05f5df0",
        "IPY_MODEL_4db2c480d1b047b588f0a7429c24285f",
        "IPY_MODEL_48b746b0d0f84925b20cf8088e30ee55"
       ],
       "layout": "IPY_MODEL_1d678a0215c24f8eba95bb1a203234c2"
      }
     },
     "cc3bf2bea514428aa319d1edc8628426": {
      "model_module": "@jupyter-widgets/base",
      "model_module_version": "1.2.0",
      "model_name": "LayoutModel",
      "state": {}
     },
     "cc4eb26549a943e4a0be220d5477f71d": {
      "model_module": "@jupyter-widgets/controls",
      "model_module_version": "1.5.0",
      "model_name": "VBoxModel",
      "state": {
       "children": [
        "IPY_MODEL_c4cfc0170d9d486ca773a474da733e91",
        "IPY_MODEL_261a1264a493486db56de4898b48e15d",
        "IPY_MODEL_23fa66521d194ba8ace5aa9f18015305"
       ],
       "layout": "IPY_MODEL_acb20634bfc84ea7aa82fa46e890e2a0"
      }
     },
     "ccaa08e680084d978c15b385a6ac50bc": {
      "model_module": "@jupyter-widgets/controls",
      "model_module_version": "1.5.0",
      "model_name": "TextModel",
      "state": {
       "continuous_update": false,
       "description": "Group:",
       "layout": "IPY_MODEL_fab1b0ba51334b82b84930c5d8dee062",
       "style": "IPY_MODEL_4a08d42c83a842d2b7bad411bd895ec1"
      }
     },
     "cce01939db3f4546b1a2823b445d3773": {
      "model_module": "@jupyter-widgets/base",
      "model_module_version": "1.2.0",
      "model_name": "LayoutModel",
      "state": {}
     },
     "cd4c8d3dae3e4eed9afa941558c2d205": {
      "model_module": "@jupyter-widgets/controls",
      "model_module_version": "1.5.0",
      "model_name": "HBoxModel",
      "state": {
       "children": [
        "IPY_MODEL_11bd50c4f64d4be998b2e9f03014895f",
        "IPY_MODEL_f111d092c0764431801cd847e8ed1336"
       ],
       "layout": "IPY_MODEL_dd1c215085dd40f39e015dce8ca6c10d"
      }
     },
     "cd531e6168784e11b658ecfe76d35517": {
      "model_module": "@jupyter-widgets/base",
      "model_module_version": "1.2.0",
      "model_name": "LayoutModel",
      "state": {}
     },
     "cd56515893f04a9eb39931fb66a0320e": {
      "model_module": "@jupyter-widgets/controls",
      "model_module_version": "1.5.0",
      "model_name": "ButtonModel",
      "state": {
       "description": "Cancel",
       "layout": "IPY_MODEL_40187741690d43268f5bb9ad43475bfd",
       "style": "IPY_MODEL_1ab1a5c37d6f4bfaae262aeb95141619"
      }
     },
     "cd6e93b1b97b417384ded0b80a0b6475": {
      "model_module": "@jupyter-widgets/controls",
      "model_module_version": "1.5.0",
      "model_name": "DescriptionStyleModel",
      "state": {
       "description_width": ""
      }
     },
     "cd743dd8bbd54af882dc7e07d06c3341": {
      "model_module": "@jupyter-widgets/base",
      "model_module_version": "1.2.0",
      "model_name": "LayoutModel",
      "state": {}
     },
     "cd8e0f92265f45588c2a5e4538fee5f3": {
      "model_module": "@jupyter-widgets/controls",
      "model_module_version": "1.5.0",
      "model_name": "DescriptionStyleModel",
      "state": {
       "description_width": "initial"
      }
     },
     "cdf5883eb7164896b3c58ab7ee41c3de": {
      "model_module": "@jupyter-widgets/controls",
      "model_module_version": "1.5.0",
      "model_name": "HTMLModel",
      "state": {
       "layout": "IPY_MODEL_35c304c5495b4329bcc8adf3c3687260",
       "placeholder": "",
       "style": "IPY_MODEL_06219254392f43e89b818eff1793bc08",
       "value": "<span style=\"margin-left:10px; color:black;\">No file selected</span>"
      }
     },
     "cdfdc5e649474e6099f20d21da925fd6": {
      "model_module": "@jupyter-widgets/controls",
      "model_module_version": "1.5.0",
      "model_name": "DescriptionStyleModel",
      "state": {
       "description_width": ""
      }
     },
     "ce4ba806bda84a1b8a594853e6dd31b0": {
      "model_module": "@jupyter-widgets/controls",
      "model_module_version": "1.5.0",
      "model_name": "VBoxModel",
      "state": {
       "children": [
        "IPY_MODEL_dd7204742211452a86c6542f188dadf0",
        "IPY_MODEL_e855d3c84b6d439f8e13108eeec99ae7"
       ],
       "layout": "IPY_MODEL_e1a1b71022b94c0cad4388f7c4285b9d"
      }
     },
     "ce741a77d8c444b9b5a40f00cdeb71e3": {
      "model_module": "@jupyter-widgets/base",
      "model_module_version": "1.2.0",
      "model_name": "LayoutModel",
      "state": {}
     },
     "ce8549018b324fa78b90c45c996d984e": {
      "model_module": "@jupyter-widgets/controls",
      "model_module_version": "1.5.0",
      "model_name": "DescriptionStyleModel",
      "state": {
       "description_width": ""
      }
     },
     "cf0a25591a4b42e0ae26341241b28776": {
      "model_module": "@jupyter-widgets/controls",
      "model_module_version": "1.5.0",
      "model_name": "LabelModel",
      "state": {
       "layout": "IPY_MODEL_5f3debee43f3458fb2e5d86c6471b969",
       "style": "IPY_MODEL_a373259846084962a082fe35894f80dd",
       "value": "Monitoring folder"
      }
     },
     "cf4d68e34f7f4958b6eb1a0639098a99": {
      "model_module": "@jupyter-widgets/base",
      "model_module_version": "1.2.0",
      "model_name": "LayoutModel",
      "state": {}
     },
     "cf59bad597bb4427999446091cad8488": {
      "model_module": "@jupyter-widgets/base",
      "model_module_version": "1.2.0",
      "model_name": "LayoutModel",
      "state": {
       "align_items": "center"
      }
     },
     "cf9f658bdfe24b818ae48d49f79945ef": {
      "model_module": "@jupyter-widgets/base",
      "model_module_version": "1.2.0",
      "model_name": "LayoutModel",
      "state": {}
     },
     "cfeb369b8e794a6ea1cab387d6f8079b": {
      "model_module": "@jupyter-widgets/base",
      "model_module_version": "1.2.0",
      "model_name": "LayoutModel",
      "state": {
       "display": "none",
       "grid_gap": "0px 0px",
       "grid_template_areas": "\n                    'pathlist filename'\n                    'dircontent dircontent'\n                    ",
       "grid_template_columns": "60% 40%",
       "grid_template_rows": "auto auto",
       "width": "500px"
      }
     },
     "d0691249d2dd4bef8fb2b4d05a5c15e6": {
      "model_module": "@jupyter-widgets/controls",
      "model_module_version": "1.5.0",
      "model_name": "DescriptionStyleModel",
      "state": {
       "description_width": ""
      }
     },
     "d06b606a020e48fab0586bf7878715b2": {
      "model_module": "@jupyter-widgets/base",
      "model_module_version": "1.2.0",
      "model_name": "LayoutModel",
      "state": {}
     },
     "d1251e7c50e84689ad4b6c3bf6e3b775": {
      "model_module": "@jupyter-widgets/controls",
      "model_module_version": "1.5.0",
      "model_name": "DropdownModel",
      "state": {
       "_options_labels": [
        "",
        "--- Channels ---",
        "Airborne_Gxx",
        "Airborne_Gxy",
        "Airborne_Gxz",
        "Airborne_Gyy",
        "Airborne_Gyz",
        "Airborne_Gz",
        "Airborne_Gzz",
        "Airborne_TMI",
        "Ground_Gz",
        "Z"
       ],
       "description": "Channel <=> Data:",
       "index": 11,
       "layout": "IPY_MODEL_9c1e80ab1b92460c8ea60bf8f6e941d6",
       "style": "IPY_MODEL_27cdacb959d8428abcd664a840625106"
      }
     },
     "d1738579ad22477aad939a6e75d1c496": {
      "model_module": "@jupyter-widgets/controls",
      "model_module_version": "1.5.0",
      "model_name": "DescriptionStyleModel",
      "state": {
       "description_width": ""
      }
     },
     "d222ab79a7e04bc185bebf691d7e4ad7": {
      "model_module": "@jupyter-widgets/base",
      "model_module_version": "1.2.0",
      "model_name": "LayoutModel",
      "state": {
       "width": "auto"
      }
     },
     "d2445dae110744199a6f2551bd0d25c2": {
      "model_module": "@jupyter-widgets/controls",
      "model_module_version": "1.5.0",
      "model_name": "FloatTextModel",
      "state": {
       "description": "Elevation (m)",
       "layout": "IPY_MODEL_da1792264dc3469dbb032e405af63493",
       "step": null,
       "style": "IPY_MODEL_11f4d58a62614344afb66009d205917c"
      }
     },
     "d28c7dd6fc664726937b41d57dbfde4c": {
      "model_module": "@jupyter-widgets/controls",
      "model_module_version": "1.5.0",
      "model_name": "DescriptionStyleModel",
      "state": {
       "description_width": "initial"
      }
     },
     "d2cfcebf22dd444f8a1c96cd5d94f6a0": {
      "model_module": "@jupyter-widgets/controls",
      "model_module_version": "1.5.0",
      "model_name": "DescriptionStyleModel",
      "state": {
       "description_width": ""
      }
     },
     "d2da837864fb45b09bd2b2d0c6a3697c": {
      "model_module": "@jupyter-widgets/controls",
      "model_module_version": "1.5.0",
      "model_name": "DescriptionStyleModel",
      "state": {
       "description_width": "initial"
      }
     },
     "d3059001b1ab454d8f5d196a8dac715c": {
      "model_module": "@jupyter-widgets/base",
      "model_module_version": "1.2.0",
      "model_name": "LayoutModel",
      "state": {}
     },
     "d329f70e0afd4f9a8abbd22ca1fdec68": {
      "model_module": "@jupyter-widgets/controls",
      "model_module_version": "1.5.0",
      "model_name": "DescriptionStyleModel",
      "state": {
       "description_width": ""
      }
     },
     "d32ae90fcd38452bb073b17dc00e8ed4": {
      "model_module": "@jupyter-widgets/controls",
      "model_module_version": "1.5.0",
      "model_name": "DescriptionStyleModel",
      "state": {
       "description_width": ""
      }
     },
     "d396f614eb1d49b1b6c293cae9a2fa09": {
      "model_module": "@jupyter-widgets/controls",
      "model_module_version": "1.5.0",
      "model_name": "ButtonStyleModel",
      "state": {}
     },
     "d3a54b32064d46118ed7fab361438c3d": {
      "model_module": "@jupyter-widgets/controls",
      "model_module_version": "1.5.0",
      "model_name": "DescriptionStyleModel",
      "state": {
       "description_width": ""
      }
     },
     "d3c51bddce40478c8d0b08afb6e61120": {
      "model_module": "@jupyter-widgets/controls",
      "model_module_version": "1.5.0",
      "model_name": "DescriptionStyleModel",
      "state": {
       "description_width": ""
      }
     },
     "d3d456a30a894e04b21e43f812a28429": {
      "model_module": "@jupyter-widgets/controls",
      "model_module_version": "1.5.0",
      "model_name": "ButtonStyleModel",
      "state": {}
     },
     "d3de196da0fb47e0840f5285a2f71fae": {
      "model_module": "@jupyter-widgets/controls",
      "model_module_version": "1.5.0",
      "model_name": "VBoxModel",
      "state": {
       "children": [
        "IPY_MODEL_f37674fdb45f4e1b8f0373aa3fbba1b3",
        "IPY_MODEL_9fe2ac6b157c4243a7984524c8751c7d"
       ],
       "layout": "IPY_MODEL_5ec7c5ae18a64aa7a244ead9c84ac746"
      }
     },
     "d3f083183de3427b81fd5a45af5338d5": {
      "model_module": "@jupyter-widgets/base",
      "model_module_version": "1.2.0",
      "model_name": "LayoutModel",
      "state": {}
     },
     "d4342e8a263f49d9ab73e2a65a07cda1": {
      "model_module": "@jupyter-widgets/controls",
      "model_module_version": "1.5.0",
      "model_name": "DescriptionStyleModel",
      "state": {
       "description_width": ""
      }
     },
     "d43487ab0b484a0d93d8f62e1250bbe5": {
      "model_module": "@jupyter-widgets/base",
      "model_module_version": "1.2.0",
      "model_name": "LayoutModel",
      "state": {
       "grid_area": "dircontent",
       "width": "auto"
      }
     },
     "d436e8a13aca401f99de91d5c09554a6": {
      "model_module": "@jupyter-widgets/controls",
      "model_module_version": "1.5.0",
      "model_name": "LabelModel",
      "state": {
       "layout": "IPY_MODEL_f1c370ea39e543748141aa099142640c",
       "style": "IPY_MODEL_e495ff07bacd4616bfb00e2f5cec0eb8",
       "value": "Inversion Options"
      }
     },
     "d4edc540fe1e445ca367171165e20bc6": {
      "model_module": "@jupyter-widgets/base",
      "model_module_version": "1.2.0",
      "model_name": "LayoutModel",
      "state": {}
     },
     "d513e7c21e824ad99cd4884a8ebbf1da": {
      "model_module": "@jupyter-widgets/controls",
      "model_module_version": "1.5.0",
      "model_name": "ButtonModel",
      "state": {
       "description": "Select",
       "layout": "IPY_MODEL_7110cc1652f14c8db91eefeee7e7d6ee",
       "style": "IPY_MODEL_f489a05d1bab4ea1a90f8bf2bf120c18"
      }
     },
     "d526e989b77d4787b87fc2a605a28296": {
      "model_module": "@jupyter-widgets/base",
      "model_module_version": "1.2.0",
      "model_name": "LayoutModel",
      "state": {}
     },
     "d557dbc7660445e6af3844bc2582e470": {
      "model_module": "@jupyter-widgets/controls",
      "model_module_version": "1.5.0",
      "model_name": "DescriptionStyleModel",
      "state": {
       "description_width": "initial"
      }
     },
     "d55df2884bad44c8b76222e04b96fff0": {
      "model_module": "@jupyter-widgets/controls",
      "model_module_version": "1.5.0",
      "model_name": "TextModel",
      "state": {
       "disabled": true,
       "layout": "IPY_MODEL_0e5e592c11f7483e89dc280a5a6bbd6a",
       "placeholder": "output filename",
       "style": "IPY_MODEL_1849e5aad49245d48d1ff0695e9e4176"
      }
     },
     "d56cafeb119144599b6820fb4336858b": {
      "model_module": "@jupyter-widgets/controls",
      "model_module_version": "1.5.0",
      "model_name": "TextModel",
      "state": {
       "layout": "IPY_MODEL_3b5cb3f977f64b7ea3e140c1d31c9331",
       "placeholder": "output filename",
       "style": "IPY_MODEL_08fe32030e6a4a7ca6f61b97419b09f7"
      }
     },
     "d599524083fa4b19b06b43185b2b8215": {
      "model_module": "@jupyter-widgets/controls",
      "model_module_version": "1.5.0",
      "model_name": "DescriptionStyleModel",
      "state": {
       "description_width": ""
      }
     },
     "d59acf46291e4cd184bbd2317dbea708": {
      "model_module": "@jupyter-widgets/base",
      "model_module_version": "1.2.0",
      "model_name": "LayoutModel",
      "state": {}
     },
     "d5bf5d5b8d4e463586e5b0b099fe327a": {
      "model_module": "@jupyter-widgets/base",
      "model_module_version": "1.2.0",
      "model_name": "LayoutModel",
      "state": {}
     },
     "d5eeca6705494c85a502569fd0633c21": {
      "model_module": "@jupyter-widgets/base",
      "model_module_version": "1.2.0",
      "model_name": "LayoutModel",
      "state": {}
     },
     "d5f1642328844fc0a2fc67f71466f49c": {
      "model_module": "@jupyter-widgets/controls",
      "model_module_version": "1.5.0",
      "model_name": "LabelModel",
      "state": {
       "layout": "IPY_MODEL_6c7ffe1c326d4121ad0fa082c8f8bfee",
       "style": "IPY_MODEL_c549b436929d4bd89e9e76580c8dd622",
       "value": "Workspace"
      }
     },
     "d699c0bca74c424698b51d45d6f3d692": {
      "model_module": "@jupyter-widgets/controls",
      "model_module_version": "1.5.0",
      "model_name": "DescriptionStyleModel",
      "state": {
       "description_width": ""
      }
     },
     "d699cd5a0ee6405c886cdb31f2b953a3": {
      "model_module": "@jupyter-widgets/base",
      "model_module_version": "1.2.0",
      "model_name": "LayoutModel",
      "state": {
       "width": "auto"
      }
     },
     "d6a08d0dd7e14f87b045cd598ed9c93d": {
      "model_module": "@jupyter-widgets/controls",
      "model_module_version": "1.5.0",
      "model_name": "ButtonModel",
      "state": {
       "description": "Cancel",
       "layout": "IPY_MODEL_7c4eadd91dc64ba39c8332ab7f29e15b",
       "style": "IPY_MODEL_7672920e2c1848a59b5c866dfac3ab54"
      }
     },
     "d6e6b0341d2d4981b92bc1f78d5e17db": {
      "model_module": "@jupyter-widgets/controls",
      "model_module_version": "1.5.0",
      "model_name": "DescriptionStyleModel",
      "state": {
       "description_width": "initial"
      }
     },
     "d7388eafb60c4eb4bd7e0e179f8d2156": {
      "model_module": "@jupyter-widgets/controls",
      "model_module_version": "1.5.0",
      "model_name": "DescriptionStyleModel",
      "state": {
       "description_width": ""
      }
     },
     "d745e7ae03f4476bb8de8b0ba319bea1": {
      "model_module": "@jupyter-widgets/controls",
      "model_module_version": "1.5.0",
      "model_name": "VBoxModel",
      "state": {
       "children": [
        "IPY_MODEL_1636504a2468407e9608d0991068f241",
        "IPY_MODEL_789dc961c34c4b63847613e9725c3c19",
        "IPY_MODEL_417b3753e1a044fa83eb611cf11e0afb"
       ],
       "layout": "IPY_MODEL_d699cd5a0ee6405c886cdb31f2b953a3"
      }
     },
     "d7c0b71a4a5f48a0aee2d1093b7b30e8": {
      "model_module": "@jupyter-widgets/controls",
      "model_module_version": "1.5.0",
      "model_name": "ButtonStyleModel",
      "state": {}
     },
     "d7de17f67fc34f519aedf8a57af7c331": {
      "model_module": "@jupyter-widgets/base",
      "model_module_version": "1.2.0",
      "model_name": "LayoutModel",
      "state": {}
     },
     "d7f90d14bf724caaafe2aab75f888b47": {
      "model_module": "@jupyter-widgets/controls",
      "model_module_version": "1.5.0",
      "model_name": "HTMLModel",
      "state": {
       "layout": "IPY_MODEL_82950fc3f0e04428bec53b1a9f22e7b6",
       "style": "IPY_MODEL_253f845155c44c738950a7e81ec0f6ee"
      }
     },
     "d804e3c9b7f74b6c9ee38db0ae0574f0": {
      "model_module": "@jupyter-widgets/base",
      "model_module_version": "1.2.0",
      "model_name": "LayoutModel",
      "state": {}
     },
     "d8432b5f7a034bfd81ede48d66be259b": {
      "model_module": "@jupyter-widgets/controls",
      "model_module_version": "1.5.0",
      "model_name": "VBoxModel",
      "state": {
       "children": [
        "IPY_MODEL_0a725a7b0ff6465597a71878f4faa063",
        "IPY_MODEL_60fb6a6fb701409794a894e72bc451f5"
       ],
       "layout": "IPY_MODEL_0541841c6066488bbab197b0b6490946"
      }
     },
     "d848a9b35e58499886cc67f3785cd12b": {
      "model_module": "@jupyter-widgets/base",
      "model_module_version": "1.2.0",
      "model_name": "LayoutModel",
      "state": {}
     },
     "d900f4012e844b37983b7d28abd5c61a": {
      "model_module": "@jupyter-widgets/base",
      "model_module_version": "1.2.0",
      "model_name": "LayoutModel",
      "state": {}
     },
     "d9134cc54cd54481b393b9b5a2a7878f": {
      "model_module": "@jupyter-widgets/controls",
      "model_module_version": "1.5.0",
      "model_name": "TextModel",
      "state": {
       "description": "Smallest cells",
       "layout": "IPY_MODEL_ac45a3a9ee1c488982d2dd3a8181e317",
       "style": "IPY_MODEL_7066691199f04552a511db4908f31cd4",
       "value": "25, 25, 25"
      }
     },
     "d97e31038ec84daaa0fed563c90d47d1": {
      "model_module": "@jupyter-widgets/controls",
      "model_module_version": "1.5.0",
      "model_name": "FloatTextModel",
      "state": {
       "description": "Target misfit",
       "layout": "IPY_MODEL_fc3a5b86c74e4383a53e60cf7ee1c270",
       "step": null,
       "style": "IPY_MODEL_13f091de859141a6bb5c8e0b5da365b0",
       "value": 1
      }
     },
     "d9873301aec646bcae7f472b47e725de": {
      "model_module": "@jupyter-widgets/base",
      "model_module_version": "1.2.0",
      "model_name": "LayoutModel",
      "state": {}
     },
     "d9d87f75d4394b71841b4a90fa5da4e3": {
      "model_module": "@jupyter-widgets/controls",
      "model_module_version": "1.5.0",
      "model_name": "TextModel",
      "state": {
       "disabled": true,
       "layout": "IPY_MODEL_264f2db623894e39a3f9522d74fcbacf",
       "placeholder": "output filename",
       "style": "IPY_MODEL_de58a49e800f4ef3928e3361e73f0181"
      }
     },
     "d9e4d4a07f4142e488a23653d05ed31d": {
      "model_module": "@jupyter-widgets/controls",
      "model_module_version": "1.5.0",
      "model_name": "SelectModel",
      "state": {
       "_options_labels": [
        "..",
        "dask-worker-space",
        "images"
       ],
       "index": null,
       "layout": "IPY_MODEL_2583f7eb036f4825a859c952612990fb",
       "rows": 8,
       "style": "IPY_MODEL_1557a6b67bca4f9f890b3af1becc4720"
      }
     },
     "d9e71aa09bf44240a9c02537b14dcf10": {
      "model_module": "@jupyter-widgets/base",
      "model_module_version": "1.2.0",
      "model_name": "LayoutModel",
      "state": {}
     },
     "d9ef24071153431c81cf736455f22b5f": {
      "model_module": "@jupyter-widgets/base",
      "model_module_version": "1.2.0",
      "model_name": "LayoutModel",
      "state": {
       "width": "auto"
      }
     },
     "da1792264dc3469dbb032e405af63493": {
      "model_module": "@jupyter-widgets/base",
      "model_module_version": "1.2.0",
      "model_name": "LayoutModel",
      "state": {}
     },
     "da806c26bc3446c0aa402f25678fb4f5": {
      "model_module": "@jupyter-widgets/base",
      "model_module_version": "1.2.0",
      "model_name": "LayoutModel",
      "state": {}
     },
     "da8ef3edd31041398416e03593ab349d": {
      "model_module": "@jupyter-widgets/base",
      "model_module_version": "1.2.0",
      "model_name": "LayoutModel",
      "state": {
       "display": "none"
      }
     },
     "daa2c32ee54a41aa84115b004a6a4c1c": {
      "model_module": "@jupyter-widgets/controls",
      "model_module_version": "1.5.0",
      "model_name": "DescriptionStyleModel",
      "state": {
       "description_width": "initial"
      }
     },
     "dae8f0482f63430890aec93950178de3": {
      "model_module": "@jupyter-widgets/base",
      "model_module_version": "1.2.0",
      "model_name": "LayoutModel",
      "state": {}
     },
     "db8dafa78557412891e611b9951b4a13": {
      "model_module": "@jupyter-widgets/base",
      "model_module_version": "1.2.0",
      "model_name": "LayoutModel",
      "state": {
       "grid_area": "dircontent",
       "width": "auto"
      }
     },
     "dbdec926fe4d43c795c97473ff118a5a": {
      "model_module": "@jupyter-widgets/controls",
      "model_module_version": "1.5.0",
      "model_name": "ButtonStyleModel",
      "state": {}
     },
     "dbe9cf63bb1643009e819f5248b70a7c": {
      "model_module": "@jupyter-widgets/controls",
      "model_module_version": "1.5.0",
      "model_name": "DescriptionStyleModel",
      "state": {
       "description_width": ""
      }
     },
     "dbebea0acff84855a4b1b814b1a0f0b5": {
      "model_module": "@jupyter-widgets/controls",
      "model_module_version": "1.5.0",
      "model_name": "VBoxModel",
      "state": {
       "children": [
        "IPY_MODEL_85bb19c30f1b494bad959547f0f3f367",
        "IPY_MODEL_9a59bd22c29b4de4b8d57213a0b33ef3"
       ],
       "layout": "IPY_MODEL_555817b831cd4cadb7e1bbd64266e857"
      }
     },
     "dc3bd4f5715c4e75b9d57272f64fef4b": {
      "model_module": "@jupyter-widgets/base",
      "model_module_version": "1.2.0",
      "model_name": "LayoutModel",
      "state": {}
     },
     "dc469fa54e714abdaa1bd3316334d2c0": {
      "model_module": "@jupyter-widgets/controls",
      "model_module_version": "1.5.0",
      "model_name": "DropdownModel",
      "state": {
       "_options_labels": [
        "",
        "--- Channels ---",
        "Airborne_Gxx",
        "Airborne_Gxy",
        "Airborne_Gxz",
        "Airborne_Gyy",
        "Airborne_Gyz",
        "Airborne_Gz",
        "Airborne_Gzz",
        "Airborne_TMI",
        "Ground_Gz",
        "Z"
       ],
       "description": "Channel <=> Data:",
       "index": 11,
       "layout": "IPY_MODEL_b5a14d183a85413b8bc666a70f746745",
       "style": "IPY_MODEL_a09fa9ad98f54102a73516fe0d41a0d0"
      }
     },
     "dcc83c621aff47909ef5b971a4ae31f8": {
      "model_module": "@jupyter-widgets/controls",
      "model_module_version": "1.5.0",
      "model_name": "ButtonModel",
      "state": {
       "description": "Select",
       "layout": "IPY_MODEL_437eebc190ed42e4a5eab81c0d5f6075",
       "style": "IPY_MODEL_6003faec7bc44502a4cf2e63843eb359"
      }
     },
     "dd1c215085dd40f39e015dce8ca6c10d": {
      "model_module": "@jupyter-widgets/base",
      "model_module_version": "1.2.0",
      "model_name": "LayoutModel",
      "state": {}
     },
     "dd36f1b20041416382133401a8d4018f": {
      "model_module": "@jupyter-widgets/base",
      "model_module_version": "1.2.0",
      "model_name": "LayoutModel",
      "state": {
       "width": "auto"
      }
     },
     "dd7204742211452a86c6542f188dadf0": {
      "model_module": "@jupyter-widgets/controls",
      "model_module_version": "1.5.0",
      "model_name": "VBoxModel",
      "state": {
       "children": [
        "IPY_MODEL_d5f1642328844fc0a2fc67f71466f49c",
        "IPY_MODEL_6cddd6e88c7044d8b19b67f870bd3583"
       ],
       "layout": "IPY_MODEL_5578c6a2f3714eb6a950269e4ea0ed4f"
      }
     },
     "dda229aa00e54ee7923c6b1389951bd7": {
      "model_module": "@jupyter-widgets/controls",
      "model_module_version": "1.5.0",
      "model_name": "ButtonStyleModel",
      "state": {}
     },
     "ddaab9117a234d4a87159b287bee46a5": {
      "model_module": "@jupyter-widgets/controls",
      "model_module_version": "1.5.0",
      "model_name": "ButtonStyleModel",
      "state": {}
     },
     "ddac826d760d4236a107144ce06e5908": {
      "model_module": "@jupyter-widgets/controls",
      "model_module_version": "1.5.0",
      "model_name": "DescriptionStyleModel",
      "state": {
       "description_width": ""
      }
     },
     "ddf8f662994d4b05acfc7499ee8e2086": {
      "model_module": "@jupyter-widgets/base",
      "model_module_version": "1.2.0",
      "model_name": "LayoutModel",
      "state": {}
     },
     "de12a73c6b9a4515ae3811590c2d9c6f": {
      "model_module": "@jupyter-widgets/base",
      "model_module_version": "1.2.0",
      "model_name": "LayoutModel",
      "state": {}
     },
     "de58a49e800f4ef3928e3361e73f0181": {
      "model_module": "@jupyter-widgets/controls",
      "model_module_version": "1.5.0",
      "model_name": "DescriptionStyleModel",
      "state": {
       "description_width": ""
      }
     },
     "de66ea27eee84295be9766f4c9b203a3": {
      "model_module": "@jupyter-widgets/controls",
      "model_module_version": "1.5.0",
      "model_name": "DescriptionStyleModel",
      "state": {
       "description_width": ""
      }
     },
     "de678afb29df4e63995013ba3eb7d26a": {
      "model_module": "@jupyter-widgets/controls",
      "model_module_version": "1.5.0",
      "model_name": "DescriptionStyleModel",
      "state": {
       "description_width": "initial"
      }
     },
     "de7adb1413bc416dbb2fcd068925326b": {
      "model_module": "@jupyter-widgets/controls",
      "model_module_version": "1.5.0",
      "model_name": "DescriptionStyleModel",
      "state": {
       "description_width": "initial"
      }
     },
     "de84f4e8b13d4c8c8f31470bc5c33925": {
      "model_module": "@jupyter-widgets/base",
      "model_module_version": "1.2.0",
      "model_name": "LayoutModel",
      "state": {}
     },
     "deaa8a852dbd468e875db90e17af72f4": {
      "model_module": "@jupyter-widgets/base",
      "model_module_version": "1.2.0",
      "model_name": "LayoutModel",
      "state": {}
     },
     "df15b699b091492cabfebcd7b550f5f9": {
      "model_module": "@jupyter-widgets/base",
      "model_module_version": "1.2.0",
      "model_name": "LayoutModel",
      "state": {}
     },
     "df39631b8a1d494f829df52a11047c79": {
      "model_module": "@jupyter-widgets/controls",
      "model_module_version": "1.5.0",
      "model_name": "DescriptionStyleModel",
      "state": {
       "description_width": ""
      }
     },
     "df3f174ab07944a19d4312212d5d7d54": {
      "model_module": "@jupyter-widgets/controls",
      "model_module_version": "1.5.0",
      "model_name": "DescriptionStyleModel",
      "state": {
       "description_width": "initial"
      }
     },
     "df8cdfa6681341188d0d7ba8387ab488": {
      "model_module": "@jupyter-widgets/base",
      "model_module_version": "1.2.0",
      "model_name": "LayoutModel",
      "state": {}
     },
     "dfc4d4bb3d264a9b9928f068000b9a00": {
      "model_module": "@jupyter-widgets/controls",
      "model_module_version": "1.5.0",
      "model_name": "TextModel",
      "state": {
       "layout": "IPY_MODEL_bc96f3a7362d4251a05c70a2362a3243",
       "placeholder": "output filename",
       "style": "IPY_MODEL_781e3973e4444f8ba0b305e05b8ada26",
       "value": "FlinFlon.geoh5"
      }
     },
     "dfca99e1dfd544d4ae5c4727cfb082bc": {
      "model_module": "@jupyter-widgets/controls",
      "model_module_version": "1.5.0",
      "model_name": "DescriptionStyleModel",
      "state": {
       "description_width": ""
      }
     },
     "e01ab731731e46fa91d885ded1ee2121": {
      "model_module": "@jupyter-widgets/controls",
      "model_module_version": "1.5.0",
      "model_name": "CheckboxModel",
      "state": {
       "description": "Active",
       "disabled": false,
       "layout": "IPY_MODEL_7cc28b4af9ae4312b3632aa6110d6b09",
       "style": "IPY_MODEL_1bd9c05318694829bc9134c877fa7a61",
       "value": false
      }
     },
     "e07a18b258a64bef8c852bfd24aa6fb1": {
      "model_module": "@jupyter-widgets/base",
      "model_module_version": "1.2.0",
      "model_name": "LayoutModel",
      "state": {}
     },
     "e0e4d0b4e11f4ac3b23069b01ca645a2": {
      "model_module": "@jupyter-widgets/controls",
      "model_module_version": "1.5.0",
      "model_name": "VBoxModel",
      "state": {
       "children": [
        "IPY_MODEL_bab0816b0920439a9977d95d3673d8a8",
        "IPY_MODEL_57c49051694645d6881e6cd8e52a1740",
        "IPY_MODEL_84f8037d0be94e6a8d36fc1c0e99f293",
        "IPY_MODEL_1750af48d42a40a590de247fdf672f82",
        "IPY_MODEL_c7415c7a6c3f438f98c7046de5ae8891"
       ],
       "layout": "IPY_MODEL_1cb7e245bd434ced8402aa2b6d8bfbc2"
      }
     },
     "e0f82c713315479c94f05b7ba2c883d0": {
      "model_module": "@jupyter-widgets/controls",
      "model_module_version": "1.5.0",
      "model_name": "ButtonStyleModel",
      "state": {}
     },
     "e0fb3ee218f54ccabc2ceaaaeb094bb5": {
      "model_module": "@jupyter-widgets/controls",
      "model_module_version": "1.5.0",
      "model_name": "DropdownModel",
      "state": {
       "_options_labels": [
        "C:\\Users\\dominiquef\\Documents\\GIT\\mira\\mirageoscience-apps\\docs\\content\\applications",
        "C:\\Users\\dominiquef\\Documents\\GIT\\mira\\mirageoscience-apps\\docs\\content",
        "C:\\Users\\dominiquef\\Documents\\GIT\\mira\\mirageoscience-apps\\docs",
        "C:\\Users\\dominiquef\\Documents\\GIT\\mira\\mirageoscience-apps",
        "C:\\Users\\dominiquef\\Documents\\GIT\\mira",
        "C:\\Users\\dominiquef\\Documents\\GIT",
        "C:\\Users\\dominiquef\\Documents",
        "C:\\Users\\dominiquef",
        "C:\\Users",
        "C:\\",
        "D:\\",
        "Z:\\"
       ],
       "index": 0,
       "layout": "IPY_MODEL_0af0efa00f2943df8284a6291c2cd1c0",
       "style": "IPY_MODEL_ab12919d40464efabe62ae27370e2db7"
      }
     },
     "e106c23a8bd34131ad351b3341dc7ad9": {
      "model_module": "@jupyter-widgets/controls",
      "model_module_version": "1.5.0",
      "model_name": "ButtonStyleModel",
      "state": {}
     },
     "e1365d53e0634ed590660e55167e076a": {
      "model_module": "@jupyter-widgets/controls",
      "model_module_version": "1.5.0",
      "model_name": "DescriptionStyleModel",
      "state": {
       "description_width": ""
      }
     },
     "e16e13e3381942ffafd61e050d2d75e9": {
      "model_module": "@jupyter-widgets/controls",
      "model_module_version": "1.5.0",
      "model_name": "VBoxModel",
      "state": {
       "children": [
        "IPY_MODEL_58b9d13468984cd6a6dd5a49818a8605",
        "IPY_MODEL_37719a614c2b477aae6f0dfa223004b3"
       ],
       "layout": "IPY_MODEL_41b1e13e016246c09caea2e34b6aa9f1"
      }
     },
     "e1a1b71022b94c0cad4388f7c4285b9d": {
      "model_module": "@jupyter-widgets/base",
      "model_module_version": "1.2.0",
      "model_name": "LayoutModel",
      "state": {}
     },
     "e1e94fda42b64fa0bc03a4b00a8c5633": {
      "model_module": "@jupyter-widgets/base",
      "model_module_version": "1.2.0",
      "model_name": "LayoutModel",
      "state": {}
     },
     "e2506b6ee5c448558a4db472403a7c08": {
      "model_module": "@jupyter-widgets/base",
      "model_module_version": "1.2.0",
      "model_name": "LayoutModel",
      "state": {
       "display": "none",
       "grid_area": "filename",
       "width": "auto"
      }
     },
     "e26678cd35974006854567d7a06f5869": {
      "model_module": "@jupyter-widgets/controls",
      "model_module_version": "1.5.0",
      "model_name": "DescriptionStyleModel",
      "state": {
       "description_width": ""
      }
     },
     "e275e4296c704bafb7dbacfb105ad8ab": {
      "model_module": "@jupyter-widgets/base",
      "model_module_version": "1.2.0",
      "model_name": "LayoutModel",
      "state": {
       "width": "auto"
      }
     },
     "e2db8938153141bdb4e0fc94a1fc2e4f": {
      "model_module": "@jupyter-widgets/base",
      "model_module_version": "1.2.0",
      "model_name": "LayoutModel",
      "state": {}
     },
     "e2f26b86eff8426e8e805aa0b937e870": {
      "model_module": "@jupyter-widgets/controls",
      "model_module_version": "1.5.0",
      "model_name": "VBoxModel",
      "state": {
       "children": [
        "IPY_MODEL_b8cc73d7bfdb477a81605c34ffb837ab",
        "IPY_MODEL_870a637925f9410cb398c2a81836d694",
        "IPY_MODEL_dc469fa54e714abdaa1bd3316334d2c0",
        "IPY_MODEL_9d57795777af4f9aa82932db355549e4",
        "IPY_MODEL_190d50aeab8045f187bbc525a4e0b92d"
       ],
       "layout": "IPY_MODEL_47e4ec7160194460bb8e98cbf65341ee"
      }
     },
     "e31fd8606b1b475fb7624c15e21c1e85": {
      "model_module": "@jupyter-widgets/base",
      "model_module_version": "1.2.0",
      "model_name": "LayoutModel",
      "state": {}
     },
     "e377f597db1c4b8dafe222fe476034d4": {
      "model_module": "@jupyter-widgets/controls",
      "model_module_version": "1.5.0",
      "model_name": "DropdownModel",
      "state": {
       "_options_labels": [
        "",
        "--- Channels ---",
        "elevation",
        "Z"
       ],
       "description": "Data: ",
       "index": 2,
       "layout": "IPY_MODEL_7aca934f96c84651a29aa01182126330",
       "style": "IPY_MODEL_6b74628f942c4f768701dcded500e9e3"
      }
     },
     "e387e9fc7c7e4a449ecbab9e46ef14d2": {
      "model_module": "@jupyter-widgets/base",
      "model_module_version": "1.2.0",
      "model_name": "LayoutModel",
      "state": {}
     },
     "e39b63c6c7254cdb98db13e326f3c58e": {
      "model_module": "@jupyter-widgets/base",
      "model_module_version": "1.2.0",
      "model_name": "LayoutModel",
      "state": {
       "grid_area": "pathlist",
       "width": "auto"
      }
     },
     "e4125272de934d70b0b3f1c76273647a": {
      "model_module": "@jupyter-widgets/controls",
      "model_module_version": "1.5.0",
      "model_name": "DescriptionStyleModel",
      "state": {
       "description_width": ""
      }
     },
     "e43597c1f0db431f907cc7723d4bf529": {
      "model_module": "@jupyter-widgets/controls",
      "model_module_version": "1.5.0",
      "model_name": "DescriptionStyleModel",
      "state": {
       "description_width": ""
      }
     },
     "e43f165b7d9642f18dcf7452f3d19522": {
      "model_module": "@jupyter-widgets/controls",
      "model_module_version": "1.5.0",
      "model_name": "LabelModel",
      "state": {
       "layout": "IPY_MODEL_a316cebb3e1d4555a030242306cd954c",
       "style": "IPY_MODEL_16d273c9efcd4299a33419db857bc182",
       "value": "Octree Mesh"
      }
     },
     "e47c8113d6024cb083f9381f3a314fd0": {
      "model_module": "@jupyter-widgets/controls",
      "model_module_version": "1.5.0",
      "model_name": "DescriptionStyleModel",
      "state": {
       "description_width": ""
      }
     },
     "e495ec8756f2404ab24f72f31a8f0829": {
      "model_module": "@jupyter-widgets/base",
      "model_module_version": "1.2.0",
      "model_name": "LayoutModel",
      "state": {
       "display": "none"
      }
     },
     "e495ff07bacd4616bfb00e2f5cec0eb8": {
      "model_module": "@jupyter-widgets/controls",
      "model_module_version": "1.5.0",
      "model_name": "DescriptionStyleModel",
      "state": {
       "description_width": ""
      }
     },
     "e4c4979da0054eef81e47c2889e744ac": {
      "model_module": "@jupyter-widgets/base",
      "model_module_version": "1.2.0",
      "model_name": "LayoutModel",
      "state": {
       "visibility": "hidden"
      }
     },
     "e4f178f183784b618c5e066e47ba27fa": {
      "model_module": "@jupyter-widgets/base",
      "model_module_version": "1.2.0",
      "model_name": "LayoutModel",
      "state": {
       "grid_area": "pathlist",
       "width": "auto"
      }
     },
     "e4f4f943bb884e938537db2273b9b906": {
      "model_module": "@jupyter-widgets/base",
      "model_module_version": "1.2.0",
      "model_name": "LayoutModel",
      "state": {}
     },
     "e5160a150d014699a613b3c4f801265d": {
      "model_module": "@jupyter-widgets/controls",
      "model_module_version": "1.5.0",
      "model_name": "LabelModel",
      "state": {
       "layout": "IPY_MODEL_b5f3b659ee6644e881fca0d007b5e5a8",
       "style": "IPY_MODEL_786c2d5b00b14178a418ac3b91165a6d",
       "value": "Channels"
      }
     },
     "e53cfa92886341168e5f31778d9c9f7c": {
      "model_module": "@jupyter-widgets/controls",
      "model_module_version": "1.5.0",
      "model_name": "DescriptionStyleModel",
      "state": {
       "description_width": "initial"
      }
     },
     "e55f77c5dc5d4dc8bfac6f672879d3d6": {
      "model_module": "@jupyter-widgets/base",
      "model_module_version": "1.2.0",
      "model_name": "LayoutModel",
      "state": {
       "grid_area": "filename",
       "width": "auto"
      }
     },
     "e5625e092796495ba884751dbd34c1f8": {
      "model_module": "@jupyter-widgets/controls",
      "model_module_version": "1.5.0",
      "model_name": "ButtonStyleModel",
      "state": {}
     },
     "e5a8dc83c1144166887d7ebd2fe9f293": {
      "model_module": "@jupyter-widgets/controls",
      "model_module_version": "1.5.0",
      "model_name": "HBoxModel",
      "state": {
       "children": [
        "IPY_MODEL_c972b54224c54938914f17d119fe387a",
        "IPY_MODEL_1713cd8e55b1449c82b01dab4a22671e"
       ],
       "layout": "IPY_MODEL_2178346c848a41918a85f86a79671f77"
      }
     },
     "e5c0ae4a5c6c421098b516605561ab9e": {
      "model_module": "@jupyter-widgets/controls",
      "model_module_version": "1.5.0",
      "model_name": "HBoxModel",
      "state": {
       "children": [
        "IPY_MODEL_e8ba72e98d684b50b4941502cae0ea25",
        "IPY_MODEL_02b1afed3c3f4ddab75b2a680fbcca90",
        "IPY_MODEL_c552fe5a9279486bb41845f9646e9383"
       ],
       "layout": "IPY_MODEL_96904cd39c3843049a113f36ad537507"
      }
     },
     "e5c9e0d1d8c0458991876f6cdd7f262c": {
      "model_module": "@jupyter-widgets/base",
      "model_module_version": "1.2.0",
      "model_name": "LayoutModel",
      "state": {}
     },
     "e64e92f5e6664ca69e42ace7a8e5d4df": {
      "model_module": "@jupyter-widgets/base",
      "model_module_version": "1.2.0",
      "model_name": "LayoutModel",
      "state": {}
     },
     "e66de98372bf41fd9f3aa6429aeed6d0": {
      "model_module": "@jupyter-widgets/controls",
      "model_module_version": "1.5.0",
      "model_name": "DescriptionStyleModel",
      "state": {
       "description_width": ""
      }
     },
     "e67dc75f42bd40f1a83f36144a1f503b": {
      "model_module": "@jupyter-widgets/base",
      "model_module_version": "1.2.0",
      "model_name": "LayoutModel",
      "state": {
       "display": "none"
      }
     },
     "e6b861bc60404b2489d1deb863972fe0": {
      "model_module": "@jupyter-widgets/controls",
      "model_module_version": "1.5.0",
      "model_name": "DescriptionStyleModel",
      "state": {
       "description_width": ""
      }
     },
     "e6bb941adcbd4be0bdfe69a170374d3f": {
      "model_module": "@jupyter-widgets/controls",
      "model_module_version": "1.5.0",
      "model_name": "DescriptionStyleModel",
      "state": {
       "description_width": ""
      }
     },
     "e6ccb613a3b94410aafef39ddc65af33": {
      "model_module": "@jupyter-widgets/base",
      "model_module_version": "1.2.0",
      "model_name": "LayoutModel",
      "state": {}
     },
     "e6e6a756374b469a945ea182b5302124": {
      "model_module": "@jupyter-widgets/controls",
      "model_module_version": "1.5.0",
      "model_name": "DropdownModel",
      "state": {
       "_options_labels": [
        "Topography",
        "Sensor"
       ],
       "index": 0,
       "layout": "IPY_MODEL_f058c0fb11fe4fce85d53bd7f5012425",
       "style": "IPY_MODEL_96da2d9fe52843b780fe14866f403b39"
      }
     },
     "e7f657966db845e98fbc58362937a9f1": {
      "model_module": "@jupyter-widgets/controls",
      "model_module_version": "1.5.0",
      "model_name": "ButtonStyleModel",
      "state": {}
     },
     "e855d3c84b6d439f8e13108eeec99ae7": {
      "model_module": "@jupyter-widgets/controls",
      "model_module_version": "1.5.0",
      "model_name": "VBoxModel",
      "state": {
       "children": [
        "IPY_MODEL_7d2dbdf4fe1e4e5e81bd792b68fe3ae6",
        "IPY_MODEL_3381ec0ee8c7421d8e3d6a2cc7e8b58e"
       ],
       "layout": "IPY_MODEL_4657661d83524607b9ca29e84676351a"
      }
     },
     "e897ecf787284c9e919eab13e5164f8b": {
      "model_module": "@jupyter-widgets/controls",
      "model_module_version": "1.5.0",
      "model_name": "SelectMultipleModel",
      "state": {
       "_options_labels": [
        "",
        "--- Channels ---",
        "Airborne_Gxx",
        "Airborne_Gxy",
        "Airborne_Gxz",
        "Airborne_Gyy",
        "Airborne_Gyz",
        "Airborne_Gz",
        "Airborne_Gzz",
        "Airborne_TMI",
        "Ground_Gz",
        "Z"
       ],
       "description": "Data: ",
       "index": [
        9
       ],
       "layout": "IPY_MODEL_84f4d81470e24aaf989f73595cb85897",
       "rows": 5,
       "style": "IPY_MODEL_f6b859e77d0a46a985c134da87632339"
      }
     },
     "e8ba72e98d684b50b4941502cae0ea25": {
      "model_module": "@jupyter-widgets/controls",
      "model_module_version": "1.5.0",
      "model_name": "ButtonModel",
      "state": {
       "description": "Select",
       "layout": "IPY_MODEL_b7a9b646d6e049d39986e122c9da159c",
       "style": "IPY_MODEL_ddaab9117a234d4a87159b287bee46a5"
      }
     },
     "e8e08cbaefa8494b8c38a391fdb463f0": {
      "model_module": "@jupyter-widgets/controls",
      "model_module_version": "1.5.0",
      "model_name": "ButtonModel",
      "state": {
       "button_style": "danger",
       "description": "Compute",
       "icon": "check",
       "layout": "IPY_MODEL_3128e90979c942d496edd35d2597cbb6",
       "style": "IPY_MODEL_e106c23a8bd34131ad351b3341dc7ad9",
       "tooltip": "Run computation"
      }
     },
     "e901d16e5e2247a4a2720113330feff0": {
      "model_module": "@jupyter-widgets/controls",
      "model_module_version": "1.5.0",
      "model_name": "TextModel",
      "state": {
       "description": "Lower bound value",
       "layout": "IPY_MODEL_4e4b5d29c3a842e7a5e5015c97102d69",
       "style": "IPY_MODEL_84aa35aa6f044caaa4736f79a97f8b0e"
      }
     },
     "e9270e8ba3ff4edaa91e8a8f5970a1fe": {
      "model_module": "@jupyter-widgets/controls",
      "model_module_version": "1.5.0",
      "model_name": "LabelModel",
      "state": {
       "layout": "IPY_MODEL_223584dfdeaa4da3b87379ba4f615ce9",
       "style": "IPY_MODEL_de7adb1413bc416dbb2fcd068925326b",
       "value": "Monitoring folder"
      }
     },
     "e957dedcdb6c4014946876c0bbce7266": {
      "model_module": "@jupyter-widgets/base",
      "model_module_version": "1.2.0",
      "model_name": "LayoutModel",
      "state": {
       "width": "auto"
      }
     },
     "e975585d80ea410cb7a7f645cc9cdc46": {
      "model_module": "@jupyter-widgets/controls",
      "model_module_version": "1.5.0",
      "model_name": "DescriptionStyleModel",
      "state": {
       "description_width": "initial"
      }
     },
     "ea021c40206f4f1b90af5785a3b28e6a": {
      "model_module": "@jupyter-widgets/controls",
      "model_module_version": "1.5.0",
      "model_name": "ButtonModel",
      "state": {
       "description": "Create copy:",
       "layout": "IPY_MODEL_059f4fa5fe464a0c9c22628d2f80fbbd",
       "style": "IPY_MODEL_fd7766ca4e594d91bcce3136b42a8b18"
      }
     },
     "ea05d58b832a4b29bf60c723b0a1afd7": {
      "model_module": "@jupyter-widgets/controls",
      "model_module_version": "1.5.0",
      "model_name": "VBoxModel",
      "state": {
       "children": [
        "IPY_MODEL_611c8b3f5ee3450a835b3752c8fa46d0",
        "IPY_MODEL_60e78b0eb0a44728a75b83a3128a4b2f"
       ],
       "layout": "IPY_MODEL_762874daa8ee47149527e2f842a4cf6c"
      }
     },
     "ea658c4f3e044efbb1e5f236ab2338f8": {
      "model_module": "@jupyter-widgets/controls",
      "model_module_version": "1.5.0",
      "model_name": "HTMLModel",
      "state": {
       "layout": "IPY_MODEL_8be59a727b7c4dde8241f4ee851b75a9",
       "style": "IPY_MODEL_202ee763bfc44fdb80f1c73723358ce7"
      }
     },
     "ead56d87abde44048e3035a172e62282": {
      "model_module": "@jupyter-widgets/controls",
      "model_module_version": "1.5.0",
      "model_name": "DropdownModel",
      "state": {
       "_options_labels": [
        "C:\\Users\\dominiquef\\Documents\\GIT\\mira\\mirageoscience-apps\\assets",
        "C:\\Users\\dominiquef\\Documents\\GIT\\mira\\mirageoscience-apps",
        "C:\\Users\\dominiquef\\Documents\\GIT\\mira",
        "C:\\Users\\dominiquef\\Documents\\GIT",
        "C:\\Users\\dominiquef\\Documents",
        "C:\\Users\\dominiquef",
        "C:\\Users",
        "C:\\",
        "D:\\",
        "Z:\\"
       ],
       "index": 0,
       "layout": "IPY_MODEL_7ac3b949851a4186ae4b6818920966b2",
       "style": "IPY_MODEL_55cf3731c89340189c1b4558ec2af04d"
      }
     },
     "eaff89d1e02e45a1b4a10fac54f099b5": {
      "model_module": "@jupyter-widgets/controls",
      "model_module_version": "1.5.0",
      "model_name": "DescriptionStyleModel",
      "state": {
       "description_width": "initial"
      }
     },
     "eb2156c477fd4d06bec269a17ea704c6": {
      "model_module": "@jupyter-widgets/controls",
      "model_module_version": "1.5.0",
      "model_name": "VBoxModel",
      "state": {
       "children": [
        "IPY_MODEL_5dd61b4bb6a14983ab46d2cd7b4cf07e"
       ],
       "layout": "IPY_MODEL_69bdc32f14f44ff2b87dd6516a51077d"
      }
     },
     "eb5e6f4f08644fe8bc491a07560d812e": {
      "model_module": "@jupyter-widgets/controls",
      "model_module_version": "1.5.0",
      "model_name": "DropdownModel",
      "state": {
       "_options_labels": [
        "",
        "--- Channels ---",
        "Airborne_Gxx",
        "Airborne_Gxy",
        "Airborne_Gxz",
        "Airborne_Gyy",
        "Airborne_Gyz",
        "Airborne_Gz",
        "Airborne_Gzz",
        "Airborne_TMI",
        "Ground_Gz",
        "Z"
       ],
       "description": "Lines field",
       "index": 0,
       "layout": "IPY_MODEL_62e4d3b0da9942d99e1db563c0f0d7c1",
       "style": "IPY_MODEL_de66ea27eee84295be9766f4c9b203a3"
      }
     },
     "eb6e68afcdf0498d9a50b842361b3233": {
      "model_module": "@jupyter-widgets/controls",
      "model_module_version": "1.5.0",
      "model_name": "DescriptionStyleModel",
      "state": {
       "description_width": ""
      }
     },
     "ebf6e4e8e14549a98d7a80e3b5f4a2dd": {
      "model_module": "@jupyter-widgets/controls",
      "model_module_version": "1.5.0",
      "model_name": "DescriptionStyleModel",
      "state": {
       "description_width": ""
      }
     },
     "ebf712f65f6d41868a20ea8bac8e44a5": {
      "model_module": "@jupyter-widgets/controls",
      "model_module_version": "1.5.0",
      "model_name": "VBoxModel",
      "state": {
       "children": [
        "IPY_MODEL_c90d3dd2ff604157b02c5b1321e872c8",
        "IPY_MODEL_cd4c8d3dae3e4eed9afa941558c2d205"
       ],
       "layout": "IPY_MODEL_99c7773ccf1e438abba37f5d75b51985"
      }
     },
     "ec1b5e4a7b984bd38b802ec187b4ad99": {
      "model_module": "@jupyter-widgets/base",
      "model_module_version": "1.2.0",
      "model_name": "LayoutModel",
      "state": {}
     },
     "ec2ebcbf150242cc9057040abf5c5cd1": {
      "model_module": "@jupyter-widgets/base",
      "model_module_version": "1.2.0",
      "model_name": "LayoutModel",
      "state": {}
     },
     "ec7084197dfe40d99c95e7d2e192fd3b": {
      "model_module": "@jupyter-widgets/controls",
      "model_module_version": "1.5.0",
      "model_name": "ButtonModel",
      "state": {
       "button_style": "danger",
       "description": "Compute",
       "icon": "check",
       "layout": "IPY_MODEL_15aa3b17b8a1403bb1c11a7e543a5e8e",
       "style": "IPY_MODEL_321d5f9f20c44fd49ab71b1dc05ac30e",
       "tooltip": "Run computation"
      }
     },
     "ecc64affbc9d422a83e60de33c9b45d1": {
      "model_module": "@jupyter-widgets/controls",
      "model_module_version": "1.5.0",
      "model_name": "VBoxModel",
      "state": {
       "children": [
        "IPY_MODEL_102c54d34aa74f9395e7510c2cc7e586",
        "IPY_MODEL_260bc2e864414c81b934fc0b9013b5b6"
       ],
       "layout": "IPY_MODEL_0079005d2e9c4e3e910cd44c24f79cf9"
      }
     },
     "eccda4e98085486bbf8b4c71caadd944": {
      "model_module": "@jupyter-widgets/controls",
      "model_module_version": "1.5.0",
      "model_name": "VBoxModel",
      "state": {
       "children": [
        "IPY_MODEL_9d66b3d22c894437993eee92fe1f48a1",
        "IPY_MODEL_ef16997053254e8fa15860a00ab0ab2a",
        "IPY_MODEL_a833195d04684ccca7e2c25fe0dc6ac1",
        "IPY_MODEL_4b1ac93b1f5945a6af511b62651222d2",
        "IPY_MODEL_4ae9ad33da38469990ba21feecc555d2"
       ],
       "layout": "IPY_MODEL_160f45041bf14b10abe6ff436527d61b"
      }
     },
     "ecd0a8f942f745979586837ec222316e": {
      "model_module": "@jupyter-widgets/base",
      "model_module_version": "1.2.0",
      "model_name": "LayoutModel",
      "state": {
       "visibility": "hidden"
      }
     },
     "ed36202e1ea9436e9910ca6ae7e1f9d1": {
      "model_module": "@jupyter-widgets/controls",
      "model_module_version": "1.5.0",
      "model_name": "DescriptionStyleModel",
      "state": {
       "description_width": ""
      }
     },
     "eda7f9cc34314a8085ed8c209a800983": {
      "model_module": "@jupyter-widgets/controls",
      "model_module_version": "1.5.0",
      "model_name": "DescriptionStyleModel",
      "state": {
       "description_width": ""
      }
     },
     "edb9e6df8e8644ea9505d38c265b369b": {
      "model_module": "@jupyter-widgets/controls",
      "model_module_version": "1.5.0",
      "model_name": "ButtonStyleModel",
      "state": {}
     },
     "edf0743140b442438b15016df7a89208": {
      "model_module": "@jupyter-widgets/controls",
      "model_module_version": "1.5.0",
      "model_name": "LabelModel",
      "state": {
       "layout": "IPY_MODEL_67e3f2f3653b4274b75f64c4567bf8b5",
       "style": "IPY_MODEL_95d7f6e922b04d38ba42eba651ab38a3",
       "value": "Monitoring folder"
      }
     },
     "edfecfbff891433489129c5a026cf4a3": {
      "model_module": "@jupyter-widgets/controls",
      "model_module_version": "1.5.0",
      "model_name": "DescriptionStyleModel",
      "state": {
       "description_width": ""
      }
     },
     "ee0aa255d80a4a9f9eb0055df8751a3c": {
      "model_module": "@jupyter-widgets/controls",
      "model_module_version": "1.5.0",
      "model_name": "DescriptionStyleModel",
      "state": {
       "description_width": ""
      }
     },
     "ee5122c18c0d416a9df0b77306981e61": {
      "model_module": "@jupyter-widgets/controls",
      "model_module_version": "1.5.0",
      "model_name": "DescriptionStyleModel",
      "state": {
       "description_width": ""
      }
     },
     "ee54aeb05245463383b8080a3de48763": {
      "model_module": "@jupyter-widgets/controls",
      "model_module_version": "1.5.0",
      "model_name": "DescriptionStyleModel",
      "state": {
       "description_width": "initial"
      }
     },
     "ee9714bc34624c3e9a7e7b9c50fbe96b": {
      "model_module": "@jupyter-widgets/controls",
      "model_module_version": "1.5.0",
      "model_name": "VBoxModel",
      "state": {
       "children": [
        "IPY_MODEL_9da29d9746b74d89aaf4c901486000c8",
        "IPY_MODEL_8c0c6728865a441bb7b46b41cbd91ff4"
       ],
       "layout": "IPY_MODEL_c25b79b5ccc24d3c99bf7047a87c8657"
      }
     },
     "eeac2904f81d4c99bba810b9ec6a5f69": {
      "model_module": "@jupyter-widgets/base",
      "model_module_version": "1.2.0",
      "model_name": "LayoutModel",
      "state": {
       "width": "auto"
      }
     },
     "ef0825198a674da3a3207eef6293e9bf": {
      "model_module": "@jupyter-widgets/base",
      "model_module_version": "1.2.0",
      "model_name": "LayoutModel",
      "state": {}
     },
     "ef16997053254e8fa15860a00ab0ab2a": {
      "model_module": "@jupyter-widgets/controls",
      "model_module_version": "1.5.0",
      "model_name": "TextModel",
      "state": {
       "description": "bxx",
       "layout": "IPY_MODEL_bd31334d665c45d6920d68be82a84f00",
       "style": "IPY_MODEL_9c9f9c3cf5704c0babda1ab7708ac1ac"
      }
     },
     "ef1ec62a161641a5aa5f3ce26b0aeacd": {
      "model_module": "@jupyter-widgets/controls",
      "model_module_version": "1.5.0",
      "model_name": "FloatTextModel",
      "state": {
       "description": "Number of cells:",
       "layout": "IPY_MODEL_46f5d13e65cb443d8dfe7c2db5ca0648",
       "step": null,
       "style": "IPY_MODEL_524c713e6fa64a1d954c5c4ce70a41a9",
       "value": 25
      }
     },
     "ef3e6579effb486da28f6b4d2ad785ff": {
      "model_module": "@jupyter-widgets/base",
      "model_module_version": "1.2.0",
      "model_name": "LayoutModel",
      "state": {}
     },
     "ef4c80f2914144819a17d01a9abdfa3a": {
      "model_module": "@jupyter-widgets/base",
      "model_module_version": "1.2.0",
      "model_name": "LayoutModel",
      "state": {}
     },
     "ef65ce82678645ff808f1cb035e47b65": {
      "model_module": "@jupyter-widgets/controls",
      "model_module_version": "1.5.0",
      "model_name": "ButtonStyleModel",
      "state": {}
     },
     "ef708d7168e94d4482a2291ab7e4dc0e": {
      "model_module": "@jupyter-widgets/base",
      "model_module_version": "1.2.0",
      "model_name": "LayoutModel",
      "state": {
       "width": "auto"
      }
     },
     "ef8501da58b6423aab87550856948075": {
      "model_module": "@jupyter-widgets/controls",
      "model_module_version": "1.5.0",
      "model_name": "VBoxModel",
      "state": {
       "children": [
        "IPY_MODEL_e6e6a756374b469a945ea182b5302124",
        "IPY_MODEL_6b66ed5627dc430bbb2744f9ef86be04"
       ],
       "layout": "IPY_MODEL_6f54f2436ca54b3b84777fbc8741f461"
      }
     },
     "efce456ea02f4eef839c5f06a444e8a1": {
      "model_module": "@jupyter-widgets/base",
      "model_module_version": "1.2.0",
      "model_name": "LayoutModel",
      "state": {
       "display": "none",
       "grid_gap": "0px 0px",
       "grid_template_areas": "\n                    'pathlist filename'\n                    'dircontent dircontent'\n                    ",
       "grid_template_columns": "60% 40%",
       "grid_template_rows": "auto auto",
       "width": "500px"
      }
     },
     "efe923b6f1704f689972438bd285a576": {
      "model_module": "@jupyter-widgets/controls",
      "model_module_version": "1.5.0",
      "model_name": "DescriptionStyleModel",
      "state": {
       "description_width": "initial"
      }
     },
     "f014cc4498294a08b26d00e4693c7029": {
      "model_module": "@jupyter-widgets/base",
      "model_module_version": "1.2.0",
      "model_name": "LayoutModel",
      "state": {
       "display": "none",
       "grid_area": "filename",
       "width": "auto"
      }
     },
     "f03d581ff321409d9a3122ccf16a98a8": {
      "model_module": "@jupyter-widgets/controls",
      "model_module_version": "1.5.0",
      "model_name": "CheckboxModel",
      "state": {
       "description": "GA Pro - Live link",
       "disabled": false,
       "indent": false,
       "layout": "IPY_MODEL_2628f287de674f538ebc22902a5fa58b",
       "style": "IPY_MODEL_964af05e408e48399ad0febef2041b00",
       "value": false
      }
     },
     "f058c0fb11fe4fce85d53bd7f5012425": {
      "model_module": "@jupyter-widgets/base",
      "model_module_version": "1.2.0",
      "model_name": "LayoutModel",
      "state": {}
     },
     "f068bb3fd6374f3bb9a05b38f69520fd": {
      "model_module": "@jupyter-widgets/controls",
      "model_module_version": "1.5.0",
      "model_name": "DescriptionStyleModel",
      "state": {
       "description_width": "initial"
      }
     },
     "f096ba8eb26644bba1da4c30d0243500": {
      "model_module": "@jupyter-widgets/base",
      "model_module_version": "1.2.0",
      "model_name": "LayoutModel",
      "state": {
       "display": "none"
      }
     },
     "f0ca2a7aaeb34c5480d79457450661d5": {
      "model_module": "@jupyter-widgets/base",
      "model_module_version": "1.2.0",
      "model_name": "LayoutModel",
      "state": {}
     },
     "f0e8f81cf74d40f18102406a9a4a6d0a": {
      "model_module": "@jupyter-widgets/base",
      "model_module_version": "1.2.0",
      "model_name": "LayoutModel",
      "state": {}
     },
     "f0f475638ccd43a282651b6c55c206c2": {
      "model_module": "@jupyter-widgets/controls",
      "model_module_version": "1.5.0",
      "model_name": "HTMLModel",
      "state": {
       "layout": "IPY_MODEL_1a4180dab85041068405740d60fda454",
       "placeholder": "",
       "style": "IPY_MODEL_b6ee5afb1e2e4441a3861a202be2bcb0",
       "value": "<span style=\"margin-left:10px; color:black;\">No file selected</span>"
      }
     },
     "f0fd8d40179b48a8be4911d085af7ae2": {
      "model_module": "@jupyter-widgets/controls",
      "model_module_version": "1.5.0",
      "model_name": "RadioButtonsModel",
      "state": {
       "_options_labels": [
        "None",
        "Model",
        "Value"
       ],
       "index": 0,
       "layout": "IPY_MODEL_d5eeca6705494c85a502569fd0633c21",
       "style": "IPY_MODEL_bc2999ece17143ff98096799f948ea1f"
      }
     },
     "f111d092c0764431801cd847e8ed1336": {
      "model_module": "@jupyter-widgets/controls",
      "model_module_version": "1.5.0",
      "model_name": "ButtonModel",
      "state": {
       "description": "Create copy:",
       "layout": "IPY_MODEL_1065b526c87e494588d55ead0b029c32",
       "style": "IPY_MODEL_381d8571f5dd4295b275069a3c028009"
      }
     },
     "f11da8fa9a4a424ea472dbcc6c9133ec": {
      "model_module": "@jupyter-widgets/base",
      "model_module_version": "1.2.0",
      "model_name": "LayoutModel",
      "state": {}
     },
     "f13b5e75d79e4d44a753ef54fd4cfbfe": {
      "model_module": "@jupyter-widgets/controls",
      "model_module_version": "1.5.0",
      "model_name": "DescriptionStyleModel",
      "state": {
       "description_width": "initial"
      }
     },
     "f17b0e5b98fa407394d9f4e9f653fa3c": {
      "model_module": "@jupyter-widgets/controls",
      "model_module_version": "1.5.0",
      "model_name": "DescriptionStyleModel",
      "state": {
       "description_width": ""
      }
     },
     "f1a99b76a71b43d0be0a971dd45b5f5f": {
      "model_module": "@jupyter-widgets/controls",
      "model_module_version": "1.5.0",
      "model_name": "DescriptionStyleModel",
      "state": {
       "description_width": ""
      }
     },
     "f1ad7de8b3014eab99099a23b5a6f79f": {
      "model_module": "@jupyter-widgets/controls",
      "model_module_version": "1.5.0",
      "model_name": "LabelModel",
      "state": {
       "layout": "IPY_MODEL_cf4d68e34f7f4958b6eb1a0639098a99",
       "style": "IPY_MODEL_efe923b6f1704f689972438bd285a576",
       "value": "Workspace"
      }
     },
     "f1c370ea39e543748141aa099142640c": {
      "model_module": "@jupyter-widgets/base",
      "model_module_version": "1.2.0",
      "model_name": "LayoutModel",
      "state": {}
     },
     "f1ed88adeaa8414ab59b50dd748f850f": {
      "model_module": "@jupyter-widgets/controls",
      "model_module_version": "1.5.0",
      "model_name": "SelectModel",
      "state": {
       "_options_labels": [
        "..",
        "dask-worker-space",
        "images"
       ],
       "index": null,
       "layout": "IPY_MODEL_2c548181115e458289edc8b75da2fa96",
       "rows": 8,
       "style": "IPY_MODEL_eda7f9cc34314a8085ed8c209a800983"
      }
     },
     "f21bc8fbae8b4946818f94c163e5673f": {
      "model_module": "@jupyter-widgets/controls",
      "model_module_version": "1.5.0",
      "model_name": "FloatTextModel",
      "state": {
       "description": "Expansion factor:",
       "layout": "IPY_MODEL_892a0130918b4908ad8c1368bcc4b11d",
       "step": null,
       "style": "IPY_MODEL_8fc5b9ccc58745f0812a3b8f12654be6",
       "value": 1.05
      }
     },
     "f24b24e0cdc7485a8ed6a582c002c506": {
      "model_module": "@jupyter-widgets/controls",
      "model_module_version": "1.5.0",
      "model_name": "ButtonStyleModel",
      "state": {}
     },
     "f280aec6ccd544b798a91370e74963b1": {
      "model_module": "@jupyter-widgets/controls",
      "model_module_version": "1.5.0",
      "model_name": "ButtonModel",
      "state": {
       "button_style": "danger",
       "description": "Compute",
       "icon": "check",
       "layout": "IPY_MODEL_90b02caada2040368d5632dc25bd2b49",
       "style": "IPY_MODEL_77c4edbb52b14b7b85123988ecc27e29",
       "tooltip": "Run computation"
      }
     },
     "f28e07901b6f421184c2f2ced97d8c27": {
      "model_module": "@jupyter-widgets/controls",
      "model_module_version": "1.5.0",
      "model_name": "VBoxModel",
      "state": {
       "children": [
        "IPY_MODEL_cf0a25591a4b42e0ae26341241b28776",
        "IPY_MODEL_6c694dd944c74303800e748d5ca9f34d"
       ],
       "layout": "IPY_MODEL_a556a11661c44b0c91206abbe3580a78"
      }
     },
     "f2d2e4c2dbb54c06bfcbb74dd2af3b2a": {
      "model_module": "@jupyter-widgets/controls",
      "model_module_version": "1.5.0",
      "model_name": "DescriptionStyleModel",
      "state": {
       "description_width": ""
      }
     },
     "f2dd8c8345794bffb15219be859142e8": {
      "model_module": "@jupyter-widgets/controls",
      "model_module_version": "1.5.0",
      "model_name": "VBoxModel",
      "state": {
       "children": [
        "IPY_MODEL_6f8a6ef10d084f109a6dcff655b307af",
        "IPY_MODEL_237499dbbe424c449d397297ac01766c"
       ],
       "layout": "IPY_MODEL_fdcd930654e14ba3a49ba322d94f63bf"
      }
     },
     "f36938fceb044d2b9272a1eed55c46e1": {
      "model_module": "@jupyter-widgets/controls",
      "model_module_version": "1.5.0",
      "model_name": "VBoxModel",
      "state": {
       "children": [
        "IPY_MODEL_4fe55cf733854f28ab8c44fc850651f5",
        "IPY_MODEL_7ba30795b16b4086bdd9e158323337f4"
       ],
       "layout": "IPY_MODEL_c69b69a747bf46499d4617b968d7a9a2"
      }
     },
     "f37674fdb45f4e1b8f0373aa3fbba1b3": {
      "model_module": "@jupyter-widgets/controls",
      "model_module_version": "1.5.0",
      "model_name": "ButtonModel",
      "state": {
       "button_style": "danger",
       "description": "Compute",
       "icon": "check",
       "layout": "IPY_MODEL_6fae567556384844a59d8f121c57ed21",
       "style": "IPY_MODEL_edb9e6df8e8644ea9505d38c265b369b",
       "tooltip": "Run computation"
      }
     },
     "f39afe0851b0441e9a3dcdef129bc21d": {
      "model_module": "@jupyter-widgets/controls",
      "model_module_version": "1.5.0",
      "model_name": "LabelModel",
      "state": {
       "layout": "IPY_MODEL_cd531e6168784e11b658ecfe76d35517",
       "style": "IPY_MODEL_a2507a2869ce41d2b5c0128c0ade0c67",
       "value": "Workspace"
      }
     },
     "f3b74919901d4af1a5ffdfa966e9d5e4": {
      "model_module": "@jupyter-widgets/controls",
      "model_module_version": "1.5.0",
      "model_name": "ButtonStyleModel",
      "state": {}
     },
     "f3d18535214e4451b83446dd39341104": {
      "model_module": "@jupyter-widgets/base",
      "model_module_version": "1.2.0",
      "model_name": "LayoutModel",
      "state": {}
     },
     "f405ee2a2c134ccdbafa8f9dbcd79652": {
      "model_module": "@jupyter-widgets/base",
      "model_module_version": "1.2.0",
      "model_name": "LayoutModel",
      "state": {}
     },
     "f489a05d1bab4ea1a90f8bf2bf120c18": {
      "model_module": "@jupyter-widgets/controls",
      "model_module_version": "1.5.0",
      "model_name": "ButtonStyleModel",
      "state": {}
     },
     "f49ee38d40764cffa264b36285236b65": {
      "model_module": "@jupyter-widgets/controls",
      "model_module_version": "1.5.0",
      "model_name": "IntTextModel",
      "state": {
       "description": "Starting Channel",
       "layout": "IPY_MODEL_a3ddeb5f1cb5423ea174cf8026ec305d",
       "step": 1,
       "style": "IPY_MODEL_c777f8c0d4d54b30af68f9e2bba32adc"
      }
     },
     "f53bf5e6492144f68387561788458776": {
      "model_module": "@jupyter-widgets/controls",
      "model_module_version": "1.5.0",
      "model_name": "ButtonStyleModel",
      "state": {}
     },
     "f53e164be9ba49e38ddc8765ae5b800c": {
      "model_module": "@jupyter-widgets/controls",
      "model_module_version": "1.5.0",
      "model_name": "DropdownModel",
      "state": {
       "_options_labels": [
        "",
        "fault_splay1",
        "fault_Cliff_Lake",
        "fault_Other_FlinFlon",
        "fault_Club_Lake_splay",
        "fault_Catherine_splay2",
        "fault_Birch_View",
        "fault_Dion_Lake",
        "fault_FlinFlon_splay",
        "fault_West_Mandy_Road",
        "fault_Channing",
        "fault_Ross_Lake",
        "fault_Louis_Hidden",
        "fault_Lake_View_thrust",
        "contact_Schist_Lake",
        "fault_Burley_Lake",
        "fault_Dion_Lake_splay",
        "fault_Green_Lake",
        "fault_FlinFlon",
        "fault_Catherine_splay1",
        "fault_East_Mandy_Road",
        "fault_Other_FlinFlon_South",
        "fault_Catherine_splay4",
        "contact_Stitt_Island",
        "fault_Club_Lake",
        "fault_Tailing_Pond",
        "35_Hidden_Reservoir_Hr5",
        "29_Hidden_Reservoir_Hr1a",
        "60_BlueLagoon_Fb2",
        "20_FlinFlon_Undivided_Int_Dykes_D2f",
        "04_Boundary_Intrusive_S4h",
        "53_Millrock_Rhyolite_Fm4b",
        "19_FlinFlon_Undivided_Int_Dykes_D2b",
        "18_FlinFlon_Undivided_Int_Dykes_777_D2b",
        "06_Phantom_Lake_Intrusive_S3a",
        "21_FlinFlon_Undivided_Int_Dykes_D3a",
        "43_Millrock_CHLSH_South",
        "56_Millrock_Basalt_Fm1ba",
        "17_FlinFlon_Undivided_Int_Dykes_D2",
        "32_Hidden_Reservoir_Hr1b_SW",
        "11_Missi_M3_NE",
        "13_Missi_M1",
        "07_Annabel_Granitoid_S1",
        "45_Millrock_Gabbro_South",
        "01_Late_Intrusive_S5b",
        "31_Hidden_Reservoir_Hr1c_SW",
        "52_Millrock_Rhyolite_Fm4_West_check",
        "55_Millrock_Basalt_Fm1bf",
        "34_Hidden_Reservoir_Hr2b",
        "03_Boundary_Intrusive_S4b",
        "42_Millrock_CHLSH_North",
        "26_Louis_L3",
        "23_FlinFlon_Undivided_Int_Felsic_D4g",
        "30_Hidden_Reservoir_Hr1b",
        "59_BlueLagoon_Fb3",
        "49_Millrock_MVR_Fm5d",
        "44_Millrock_Gabbro_North",
        "27_Hidden_Carlisle_Hc4",
        "22_FlinFlon_Undivided_Int_Felsic_D4e",
        "02_Boundary_Intrusive_S4a",
        "61_BlueLagoon_Fb1_NW",
        "05_Boundary_Intrusive_S4g",
        "39_Ore_Callinan",
        "38_Ore_Dan_Owens",
        "40_Ore_FlinFlon",
        "Inversion_VTEM_Model",
        "Gravity_Magnetics_drape60m",
        "CDI_VTEM_model",
        "Data_FEM_pseudo3D",
        "O2O_Interp_25m",
        "geochem",
        "Inversion_DIGHEM_Model",
        "Topography",
        "Data_TEM_pseudo3D"
       ],
       "description": "Object:",
       "index": 72,
       "layout": "IPY_MODEL_e4f4f943bb884e938537db2273b9b906",
       "style": "IPY_MODEL_61e64f2acdfc41828319d4ca1436dfa8"
      }
     },
     "f56ab9e21c1e4a12a44ba5c8a84b4f2e": {
      "model_module": "@jupyter-widgets/base",
      "model_module_version": "1.2.0",
      "model_name": "LayoutModel",
      "state": {
       "grid_area": "dircontent",
       "width": "auto"
      }
     },
     "f5782fbab2e5492e9b5ae811809ac38a": {
      "model_module": "@jupyter-widgets/controls",
      "model_module_version": "1.5.0",
      "model_name": "VBoxModel",
      "state": {
       "children": [
        "IPY_MODEL_0ed1aafcffeb40bea74044143994e469",
        "IPY_MODEL_3fb5a9d4496f4728b265d0c0fb234580"
       ],
       "layout": "IPY_MODEL_fdbe8742f5834c2f8dbdd848b5d80a73"
      }
     },
     "f59c0e0f463e4697933622f2cf5563aa": {
      "model_module": "@jupyter-widgets/base",
      "model_module_version": "1.2.0",
      "model_name": "LayoutModel",
      "state": {}
     },
     "f6054b5655814703a1c989feda3b7234": {
      "model_module": "@jupyter-widgets/controls",
      "model_module_version": "1.5.0",
      "model_name": "ButtonModel",
      "state": {
       "description": "Cancel",
       "layout": "IPY_MODEL_1e52a7aa29dc42eeaca56c201f3c5891",
       "style": "IPY_MODEL_36315fa32713441eb515e0751b593100"
      }
     },
     "f606ca7b05f246f78b919e1c9389e544": {
      "model_module": "@jupyter-widgets/controls",
      "model_module_version": "1.5.0",
      "model_name": "DescriptionStyleModel",
      "state": {
       "description_width": ""
      }
     },
     "f67654a75a794c4db54d6a851cb77d18": {
      "model_module": "@jupyter-widgets/controls",
      "model_module_version": "1.5.0",
      "model_name": "DropdownModel",
      "state": {
       "_options_labels": [
        "C:\\Users\\dominiquef\\Documents\\GIT\\mira\\mirageoscience-apps\\docs\\content\\applications",
        "C:\\Users\\dominiquef\\Documents\\GIT\\mira\\mirageoscience-apps\\docs\\content",
        "C:\\Users\\dominiquef\\Documents\\GIT\\mira\\mirageoscience-apps\\docs",
        "C:\\Users\\dominiquef\\Documents\\GIT\\mira\\mirageoscience-apps",
        "C:\\Users\\dominiquef\\Documents\\GIT\\mira",
        "C:\\Users\\dominiquef\\Documents\\GIT",
        "C:\\Users\\dominiquef\\Documents",
        "C:\\Users\\dominiquef",
        "C:\\Users",
        "C:\\",
        "D:\\",
        "Z:\\"
       ],
       "index": 0,
       "layout": "IPY_MODEL_c1804630881d432390de7b7fc2b62a0f",
       "style": "IPY_MODEL_496b6e5569dc4372bfc414b3b33108c6"
      }
     },
     "f6b859e77d0a46a985c134da87632339": {
      "model_module": "@jupyter-widgets/controls",
      "model_module_version": "1.5.0",
      "model_name": "DescriptionStyleModel",
      "state": {
       "description_width": "initial"
      }
     },
     "f6d0eaca0902419d838de000c676bcea": {
      "model_module": "@jupyter-widgets/base",
      "model_module_version": "1.2.0",
      "model_name": "LayoutModel",
      "state": {
       "width": "auto"
      }
     },
     "f71c97e69eab41a48e9a0bca2c7748e1": {
      "model_module": "@jupyter-widgets/base",
      "model_module_version": "1.2.0",
      "model_name": "LayoutModel",
      "state": {
       "grid_area": "pathlist",
       "width": "auto"
      }
     },
     "f729146ad71b4f5b888669219644a75d": {
      "model_module": "@jupyter-widgets/base",
      "model_module_version": "1.2.0",
      "model_name": "LayoutModel",
      "state": {
       "display": "none",
       "grid_area": "filename",
       "width": "auto"
      }
     },
     "f7910df98abf4e149f4eacad226776ea": {
      "model_module": "@jupyter-widgets/controls",
      "model_module_version": "1.5.0",
      "model_name": "FloatTextModel",
      "state": {
       "description": "SI",
       "layout": "IPY_MODEL_a1c3bb2f07164d06b56c0bd1f613d69f",
       "step": null,
       "style": "IPY_MODEL_72ca638cf7754936b221952a8d8a0e58"
      }
     },
     "f791143e47b848499489c70fff5740e5": {
      "model_module": "@jupyter-widgets/base",
      "model_module_version": "1.2.0",
      "model_name": "LayoutModel",
      "state": {
       "display": "none",
       "width": "auto"
      }
     },
     "f7911ac1cfb54b19883820f8b0fd1e1d": {
      "model_module": "@jupyter-widgets/controls",
      "model_module_version": "1.5.0",
      "model_name": "GridBoxModel",
      "state": {
       "children": [
        "IPY_MODEL_885a08b153174a248b257fcd36767092",
        "IPY_MODEL_84cda3a3d85a45f59f54b6a1fee31665",
        "IPY_MODEL_78c9324b8f29465fbdb62c235099e8ad"
       ],
       "layout": "IPY_MODEL_9aeae1589d2442f08cafabd11480d8d2"
      }
     },
     "f7c582e5948643a78122dfae02590f72": {
      "model_module": "@jupyter-widgets/base",
      "model_module_version": "1.2.0",
      "model_name": "LayoutModel",
      "state": {}
     },
     "f7e9a12871bf4515af90ce09554130cc": {
      "model_module": "@jupyter-widgets/controls",
      "model_module_version": "1.5.0",
      "model_name": "HBoxModel",
      "state": {
       "children": [
        "IPY_MODEL_c329bd06d508439f8f39981a760091a9",
        "IPY_MODEL_5940fedc35b443f185653c7a28e3e513",
        "IPY_MODEL_61bdc03be42046b795d7010da4010953"
       ],
       "layout": "IPY_MODEL_190c714e86a241f8b186976061e9c6e1"
      }
     },
     "f81c63c3706248b7b229e6abe82b0251": {
      "model_module": "@jupyter-widgets/base",
      "model_module_version": "1.2.0",
      "model_name": "LayoutModel",
      "state": {}
     },
     "f87ca2ebb11747419c52bfeb1098fcbe": {
      "model_module": "@jupyter-widgets/controls",
      "model_module_version": "1.5.0",
      "model_name": "FloatTextModel",
      "state": {
       "description": "SI",
       "layout": "IPY_MODEL_fdcfe15bd20640759b0ea06ee23e12d7",
       "step": null,
       "style": "IPY_MODEL_b64d30c23b824bffb825317d2080c54b",
       "value": 0.0001
      }
     },
     "f8b820032d8d4db7aaab6bb4c8b3e042": {
      "model_module": "@jupyter-widgets/controls",
      "model_module_version": "1.5.0",
      "model_name": "CheckboxModel",
      "state": {
       "description": "GA Pro - Live link",
       "disabled": false,
       "indent": false,
       "layout": "IPY_MODEL_097fc1615aa5423fb6cb06ce77b7ddf1",
       "style": "IPY_MODEL_698d56fe734e4dbf94ced120e6db49ad",
       "value": false
      }
     },
     "f9095fd6157e44ba8557489c20b453b7": {
      "model_module": "@jupyter-widgets/controls",
      "model_module_version": "1.5.0",
      "model_name": "ButtonModel",
      "state": {
       "description": "Select",
       "layout": "IPY_MODEL_084b786864564427ad41f99181a6f41e",
       "style": "IPY_MODEL_e7f657966db845e98fbc58362937a9f1"
      }
     },
     "f9b7c73a11f6403399524fd41f6f1250": {
      "model_module": "@jupyter-widgets/base",
      "model_module_version": "1.2.0",
      "model_name": "LayoutModel",
      "state": {}
     },
     "f9dc5935e76842ee8bd7878c755c70f4": {
      "model_module": "@jupyter-widgets/controls",
      "model_module_version": "1.5.0",
      "model_name": "DescriptionStyleModel",
      "state": {
       "description_width": "initial"
      }
     },
     "f9fd17d5d8574ca996694ef3a2397dc1": {
      "model_module": "@jupyter-widgets/controls",
      "model_module_version": "1.5.0",
      "model_name": "DescriptionStyleModel",
      "state": {
       "description_width": ""
      }
     },
     "fa1262c9bf854de08bebf7a44cb7f91f": {
      "model_module": "@jupyter-widgets/controls",
      "model_module_version": "1.5.0",
      "model_name": "DescriptionStyleModel",
      "state": {
       "description_width": "initial"
      }
     },
     "fa5b788a71e84e8dad0f063ac63c997f": {
      "model_module": "@jupyter-widgets/base",
      "model_module_version": "1.2.0",
      "model_name": "LayoutModel",
      "state": {
       "width": "auto"
      }
     },
     "fa805f244ab446a9bd4b1e282b5d1846": {
      "model_module": "@jupyter-widgets/base",
      "model_module_version": "1.2.0",
      "model_name": "LayoutModel",
      "state": {}
     },
     "fa8fb4713db248828e05d15a37afa987": {
      "model_module": "@jupyter-widgets/controls",
      "model_module_version": "1.5.0",
      "model_name": "DescriptionStyleModel",
      "state": {
       "description_width": ""
      }
     },
     "fab1b0ba51334b82b84930c5d8dee062": {
      "model_module": "@jupyter-widgets/base",
      "model_module_version": "1.2.0",
      "model_name": "LayoutModel",
      "state": {}
     },
     "faff59fa7496414e94ef87d73bb9d652": {
      "model_module": "@jupyter-widgets/controls",
      "model_module_version": "1.5.0",
      "model_name": "DescriptionStyleModel",
      "state": {
       "description_width": "initial"
      }
     },
     "fb12ef625b0940dea2e65dad9846d421": {
      "model_module": "@jupyter-widgets/controls",
      "model_module_version": "1.5.0",
      "model_name": "HTMLModel",
      "state": {
       "layout": "IPY_MODEL_81c0cc8e46c24cf7a674c1e45fedc000",
       "style": "IPY_MODEL_2e733e52f51e442485d354213db32b68"
      }
     },
     "fb352c266a8c4d2e8d582589100fe860": {
      "model_module": "@jupyter-widgets/controls",
      "model_module_version": "1.5.0",
      "model_name": "DescriptionStyleModel",
      "state": {
       "description_width": ""
      }
     },
     "fb71db4af6b547b39abe78613e9a3e40": {
      "model_module": "@jupyter-widgets/base",
      "model_module_version": "1.2.0",
      "model_name": "LayoutModel",
      "state": {}
     },
     "fbbc27ae7c0144478955e42d5b2ca6fb": {
      "model_module": "@jupyter-widgets/controls",
      "model_module_version": "1.5.0",
      "model_name": "TextModel",
      "state": {
       "continuous_update": false,
       "description": "Group:",
       "layout": "IPY_MODEL_2ab92b53d1854c84bda6345af1c08302",
       "style": "IPY_MODEL_b79fe8b59fb94e06a3543ae3dc3ced13"
      }
     },
     "fc03ee8ca86f471fbe062ac62dba28dc": {
      "model_module": "@jupyter-widgets/controls",
      "model_module_version": "1.5.0",
      "model_name": "DescriptionStyleModel",
      "state": {
       "description_width": ""
      }
     },
     "fc36ab1eecf54938a9e0ddf00999a9a6": {
      "model_module": "@jupyter-widgets/controls",
      "model_module_version": "1.5.0",
      "model_name": "DescriptionStyleModel",
      "state": {
       "description_width": ""
      }
     },
     "fc36c09c3b5e4ff2b139dc5f416e77eb": {
      "model_module": "@jupyter-widgets/controls",
      "model_module_version": "1.5.0",
      "model_name": "DescriptionStyleModel",
      "state": {
       "description_width": ""
      }
     },
     "fc3a5b86c74e4383a53e60cf7ee1c270": {
      "model_module": "@jupyter-widgets/base",
      "model_module_version": "1.2.0",
      "model_name": "LayoutModel",
      "state": {}
     },
     "fc88df7f71aa43f7ab4b46897be1282a": {
      "model_module": "@jupyter-widgets/controls",
      "model_module_version": "1.5.0",
      "model_name": "TextModel",
      "state": {
       "continuous_update": false,
       "description": "Group:",
       "layout": "IPY_MODEL_f11da8fa9a4a424ea472dbcc6c9133ec",
       "style": "IPY_MODEL_d28c7dd6fc664726937b41d57dbfde4c"
      }
     },
     "fcfd58193922439fb9dd50de18dbffd6": {
      "model_module": "@jupyter-widgets/controls",
      "model_module_version": "1.5.0",
      "model_name": "SliderStyleModel",
      "state": {
       "description_width": "initial"
      }
     },
     "fd02ef701e9d41a5a94a094a82e5fc4d": {
      "model_module": "@jupyter-widgets/base",
      "model_module_version": "1.2.0",
      "model_name": "LayoutModel",
      "state": {
       "grid_area": "pathlist",
       "width": "auto"
      }
     },
     "fd54606df80443958665c38b4be085e6": {
      "model_module": "@jupyter-widgets/base",
      "model_module_version": "1.2.0",
      "model_name": "LayoutModel",
      "state": {}
     },
     "fd5f53d65c2e476cabc71ed6c384a26b": {
      "model_module": "@jupyter-widgets/base",
      "model_module_version": "1.2.0",
      "model_name": "LayoutModel",
      "state": {
       "display": "none",
       "grid_gap": "0px 0px",
       "grid_template_areas": "\n                    'pathlist pathlist'\n                    'dircontent dircontent'\n                    ",
       "grid_template_columns": "60% 40%",
       "grid_template_rows": "auto auto",
       "width": "500px"
      }
     },
     "fd7766ca4e594d91bcce3136b42a8b18": {
      "model_module": "@jupyter-widgets/controls",
      "model_module_version": "1.5.0",
      "model_name": "ButtonStyleModel",
      "state": {}
     },
     "fd9d751580254b81a3f725f3953d89e7": {
      "model_module": "@jupyter-widgets/controls",
      "model_module_version": "1.5.0",
      "model_name": "LabelModel",
      "state": {
       "layout": "IPY_MODEL_d59acf46291e4cd184bbd2317dbea708",
       "style": "IPY_MODEL_5423bde388d4449582d65d9a02143bed",
       "value": "Data Count: 425"
      }
     },
     "fdbe8742f5834c2f8dbdd848b5d80a73": {
      "model_module": "@jupyter-widgets/base",
      "model_module_version": "1.2.0",
      "model_name": "LayoutModel",
      "state": {}
     },
     "fdcd930654e14ba3a49ba322d94f63bf": {
      "model_module": "@jupyter-widgets/base",
      "model_module_version": "1.2.0",
      "model_name": "LayoutModel",
      "state": {}
     },
     "fdcfe15bd20640759b0ea06ee23e12d7": {
      "model_module": "@jupyter-widgets/base",
      "model_module_version": "1.2.0",
      "model_name": "LayoutModel",
      "state": {}
     },
     "fdf1dbdd494d4b50a624b88efc9eb872": {
      "model_module": "@jupyter-widgets/controls",
      "model_module_version": "1.5.0",
      "model_name": "DescriptionStyleModel",
      "state": {
       "description_width": ""
      }
     },
     "fe0b8841e6cd4580b6cd269c56d647f6": {
      "model_module": "@jupyter-widgets/controls",
      "model_module_version": "1.5.0",
      "model_name": "DescriptionStyleModel",
      "state": {
       "description_width": ""
      }
     },
     "fe1afaaebb9c4ccc9a7a314e145b9748": {
      "model_module": "@jupyter-widgets/controls",
      "model_module_version": "1.5.0",
      "model_name": "TextModel",
      "state": {
       "description": "Padding [W,E,N,S,D,U] (m)",
       "layout": "IPY_MODEL_314efcf7f9184920af78a9a1f43b7bdd",
       "style": "IPY_MODEL_98df0ec17c4d4de1a4747c134b5a7f06",
       "value": "1000, 1000, 1000, 1000, 0, 0"
      }
     },
     "fe27f7488cbe4eb0aadfea4d35f60145": {
      "model_module": "@jupyter-widgets/base",
      "model_module_version": "1.2.0",
      "model_name": "LayoutModel",
      "state": {}
     },
     "fe773c196dd44d63a4c4a92bcb4e141b": {
      "model_module": "@jupyter-widgets/controls",
      "model_module_version": "1.5.0",
      "model_name": "DropdownModel",
      "state": {
       "_options_labels": [
        "C:\\Users\\dominiquef\\Documents\\GIT\\mira\\mirageoscience-apps\\docs\\content\\applications",
        "C:\\Users\\dominiquef\\Documents\\GIT\\mira\\mirageoscience-apps\\docs\\content",
        "C:\\Users\\dominiquef\\Documents\\GIT\\mira\\mirageoscience-apps\\docs",
        "C:\\Users\\dominiquef\\Documents\\GIT\\mira\\mirageoscience-apps",
        "C:\\Users\\dominiquef\\Documents\\GIT\\mira",
        "C:\\Users\\dominiquef\\Documents\\GIT",
        "C:\\Users\\dominiquef\\Documents",
        "C:\\Users\\dominiquef",
        "C:\\Users",
        "C:\\",
        "D:\\",
        "Z:\\"
       ],
       "index": 0,
       "layout": "IPY_MODEL_a85c6958be774cd28f0fbaaf8d0621ca",
       "style": "IPY_MODEL_fe0b8841e6cd4580b6cd269c56d647f6"
      }
     },
     "fe90429366f84434b654117eff680e54": {
      "model_module": "@jupyter-widgets/base",
      "model_module_version": "1.2.0",
      "model_name": "LayoutModel",
      "state": {}
     },
     "feb5fc384ba14fe7a75225f536e16d44": {
      "model_module": "@jupyter-widgets/base",
      "model_module_version": "1.2.0",
      "model_name": "LayoutModel",
      "state": {
       "display": "none",
       "grid_gap": "0px 0px",
       "grid_template_areas": "\n                    'pathlist filename'\n                    'dircontent dircontent'\n                    ",
       "grid_template_columns": "60% 40%",
       "grid_template_rows": "auto auto",
       "width": "500px"
      }
     },
     "fece6b1dbaeb47cca40812cd6798ea5c": {
      "model_module": "@jupyter-widgets/controls",
      "model_module_version": "1.5.0",
      "model_name": "ButtonModel",
      "state": {
       "description": "Create copy:",
       "layout": "IPY_MODEL_fe27f7488cbe4eb0aadfea4d35f60145",
       "style": "IPY_MODEL_646fcf772c9d42dda0c6cddcfa9133b2"
      }
     },
     "ff38699b5e4b47c1b66b66b6484e9cd4": {
      "model_module": "@jupyter-widgets/controls",
      "model_module_version": "1.5.0",
      "model_name": "HTMLModel",
      "state": {
       "layout": "IPY_MODEL_20994af2b50c468f811372f8d9ea2771",
       "placeholder": "",
       "style": "IPY_MODEL_b2a4cf83994a4bc299bb131849fa6fb7",
       "value": "<span style=\"margin-left:10px; color:black;\">No file selected</span>"
      }
     },
     "ffa12db4bae34c2684a4ddcca6641286": {
      "model_module": "@jupyter-widgets/base",
      "model_module_version": "1.2.0",
      "model_name": "LayoutModel",
      "state": {
       "width": "auto"
      }
     }
    },
    "version_major": 2,
    "version_minor": 0
   }
  }
 },
 "nbformat": 4,
 "nbformat_minor": 4
}

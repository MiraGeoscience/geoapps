{
 "cells": [
  {
   "cell_type": "markdown",
   "id": "particular-concept",
   "metadata": {},
   "source": [
    "# Geophysical Inversion\n",
    "\n",
    "This application provides an interface to the open-source [SimPEG](https://simpeg.xyz/) inversion algorithms. The application currently supports\n",
    "\n",
    "\n",
    "  <img align=\"right\" width=\"50%\" src=\"./images/Geophysical_inversion_app.png\">\n",
    "  \n",
    "  \n",
    " - Electromagnetic (time or frequency) data using a Laterally Constrained 1D approach\n",
    " - Gravity and Magnetic Vector Inversion (MVI) (field and/or tensor data) with a tiled octree mesh approach.\n",
    "\n",
    "New user? Visit the [Getting Started](../installation.rst) page.\n",
    "\n",
    "**NOTE**\n",
    " \n",
    "For gravity and magnetic 3D inversion, it is recommended to set the [Working Directory](#Output-panel) to a solid-state drive (SSD) to take full advantage of the [Dask](https://dask.org/) out-of-core parallelization.\n"
   ]
  },
  {
   "cell_type": "markdown",
   "id": "unnecessary-nerve",
   "metadata": {},
   "source": [
    "## Application\n",
    "The following sections provide details on the different parameters controlling the application. Interactive widgets shown below are for demonstration purposes only."
   ]
  },
  {
   "cell_type": "code",
   "execution_count": 1,
   "id": "collect-motel",
   "metadata": {
    "scrolled": false
   },
   "outputs": [
    {
     "data": {
      "application/vnd.jupyter.widget-view+json": {
       "model_id": "8122927b44654ceab00a4740605ce2d3",
       "version_major": 2,
       "version_minor": 0
      },
      "text/plain": [
       "VBox(children=(VBox(children=(Label(value='Workspace', style=DescriptionStyle(description_width='initial')), H…"
      ]
     },
     "metadata": {},
     "output_type": "display_data"
    }
   ],
   "source": [
    "from geoapps.inversion import InversionApp\n",
    "\n",
    "app = InversionApp(h5file=r\"../../../assets/FlinFlon.geoh5\")\n",
    "app.main"
   ]
  },
  {
   "cell_type": "markdown",
   "id": "adolescent-found",
   "metadata": {},
   "source": [
    "## Project Selection\n",
    "\n",
    "Select and connect to an existing **geoh5** project file containing data. "
   ]
  },
  {
   "cell_type": "code",
   "execution_count": 2,
   "id": "forbidden-newark",
   "metadata": {},
   "outputs": [
    {
     "data": {
      "application/vnd.jupyter.widget-view+json": {
       "model_id": "f14d2b1c60c649d8945eabcd498a97d8",
       "version_major": 2,
       "version_minor": 0
      },
      "text/plain": [
       "VBox(children=(Label(value='Workspace', style=DescriptionStyle(description_width='initial')), HBox(children=(F…"
      ]
     },
     "metadata": {},
     "output_type": "display_data"
    }
   ],
   "source": [
    "app.project_panel"
   ]
  },
  {
   "cell_type": "markdown",
   "id": "comprehensive-revelation",
   "metadata": {},
   "source": [
    "See the [Project Panel](base_application.ipynb#Project-Panel) page for more details."
   ]
  },
  {
   "cell_type": "markdown",
   "id": "specialized-visit",
   "metadata": {},
   "source": [
    "## Object/Data Selection\n",
    "\n",
    "List of objects available containing geophysical data to be inverted. Currently supports objects of type `Points`, `Curve`, `Surface` and `Grid2D`. Multiple data channels and/or data groups can be selected. "
   ]
  },
  {
   "cell_type": "code",
   "execution_count": 3,
   "id": "contrary-english",
   "metadata": {
    "scrolled": true
   },
   "outputs": [
    {
     "data": {
      "application/vnd.jupyter.widget-view+json": {
       "model_id": "717d7c5c79f844488f266819c2adbe1a",
       "version_major": 2,
       "version_minor": 0
      },
      "text/plain": [
       "VBox(children=(Dropdown(description='Object:', index=66, options=(['', None], ['fault_splay1', UUID('0febc8ad-…"
      ]
     },
     "metadata": {},
     "output_type": "display_data"
    }
   ],
   "source": [
    "app.data_panel"
   ]
  },
  {
   "cell_type": "markdown",
   "id": "defined-princeton",
   "metadata": {},
   "source": [
    "## Window Selection\n",
    "\n",
    "Manual selection of an area of interest and data resolution. Positive (solid) and negative (dash) contour lines are traced immediately after changes made to the contour values."
   ]
  },
  {
   "cell_type": "code",
   "execution_count": 4,
   "id": "opponent-canada",
   "metadata": {},
   "outputs": [
    {
     "data": {
      "application/vnd.jupyter.widget-view+json": {
       "model_id": "2a7512bb425b47fab951e4b0a5144d20",
       "version_major": 2,
       "version_minor": 0
      },
      "text/plain": [
       "VBox(children=(VBox(children=(FloatText(value=50.0, description='Grid Resolution (m)', style=DescriptionStyle(…"
      ]
     },
     "metadata": {},
     "output_type": "display_data"
    }
   ],
   "source": [
    "app.window_selection"
   ]
  },
  {
   "cell_type": "markdown",
   "id": "surface-rider",
   "metadata": {},
   "source": [
    "See the [Map View Selection](view_selection.ipynb#Map-View-Selection) page for more details."
   ]
  },
  {
   "cell_type": "markdown",
   "id": "angry-origin",
   "metadata": {},
   "source": [
    "## Data Channel Options\n",
    "\n",
    "Define geophysical data."
   ]
  },
  {
   "cell_type": "markdown",
   "id": "ruled-characteristic",
   "metadata": {},
   "source": [
    "### Survey Type\n",
    "\n",
    "List of available survey types."
   ]
  },
  {
   "cell_type": "code",
   "execution_count": 5,
   "id": "activated-retirement",
   "metadata": {},
   "outputs": [
    {
     "data": {
      "application/vnd.jupyter.widget-view+json": {
       "model_id": "391e114e7c9f4896af06610460a1efd4",
       "version_major": 2,
       "version_minor": 0
      },
      "text/plain": [
       "Dropdown(description='Survey Type: ', options=('MVI', 'Magnetics', 'Gravity', 'AeroTEM (2007)', 'AeroTEM (2010…"
      ]
     },
     "metadata": {},
     "output_type": "display_data"
    }
   ],
   "source": [
    "app.system"
   ]
  },
  {
   "cell_type": "markdown",
   "id": "accomplished-voice",
   "metadata": {},
   "source": [
    "The application will attempt to assign the correct system based on\n",
    "known data field name (e.g. *CPI* => *DIGHEM*).\n",
    "\n",
    "#### Inducing field parameters\n",
    "\n",
    "For magnetic data only, set the inducing field parameters:"
   ]
  },
  {
   "cell_type": "code",
   "execution_count": 6,
   "id": "intellectual-millennium",
   "metadata": {},
   "outputs": [
    {
     "data": {
      "application/vnd.jupyter.widget-view+json": {
       "model_id": "43e004b8e45247a689095f8289ec1af3",
       "version_major": 2,
       "version_minor": 0
      },
      "text/plain": [
       "Text(value='60000, 79, 11', description='Inducing Field [Amp, Inc, Dec]', style=DescriptionStyle(description_w…"
      ]
     },
     "metadata": {},
     "output_type": "display_data"
    }
   ],
   "source": [
    "app.inducing_field\n"
   ]
  },
  {
   "cell_type": "markdown",
   "id": "final-seeker",
   "metadata": {},
   "source": [
    "### Channel Options\n",
    "\n",
    "Set parameters to invividual [Data](#Object/Data-Selection) channels."
   ]
  },
  {
   "cell_type": "code",
   "execution_count": 7,
   "id": "baking-running",
   "metadata": {},
   "outputs": [
    {
     "data": {
      "application/vnd.jupyter.widget-view+json": {
       "model_id": "8513c2308b7d4bf98fc20b5a24d4413d",
       "version_major": 2,
       "version_minor": 0
      },
      "text/plain": [
       "VBox(children=(Checkbox(value=True, description='Active', style=DescriptionStyle(description_width='initial'))…"
      ]
     },
     "metadata": {},
     "output_type": "display_data"
    }
   ],
   "source": [
    "app.data_channel_choices.data_channel_options['tmi']"
   ]
  },
  {
   "cell_type": "markdown",
   "id": "annoying-comedy",
   "metadata": {},
   "source": [
    "#### Active\n",
    "\n",
    "Checked if the channel is to be used in the inversion\n",
    "\n",
    "#### Data channel:\n",
    "\n",
    "Association between the \"data channel\" and one of the expected \"system channel\".\n",
    "\n",
    "#### Error (%, floor)\n",
    "\n",
    "Estimated data uncertainties associated with the data channel, expressed as a\n",
    "percent (decimal) and floor value. \n",
    "\n",
    "As an example for magnetic data: 0.1, 1 => $0.1 * |d_{tmi}| + 1\\;nT$\n",
    "\n",
    "#### Offsets (EM systems)\n",
    "\n",
    "Determine the constant offsets, in meters, between the receiver and the transmitter center location. \n",
    "\n",
    "Used for the numerical forward calculations. "
   ]
  },
  {
   "cell_type": "markdown",
   "id": "artificial-madness",
   "metadata": {},
   "source": [
    "## Topography, Sensor and Line Options"
   ]
  },
  {
   "cell_type": "code",
   "execution_count": 8,
   "id": "interim-happiness",
   "metadata": {},
   "outputs": [
    {
     "data": {
      "application/vnd.jupyter.widget-view+json": {
       "model_id": "c2f07c2e6ed44bf4b85aef2fbb4d63e1",
       "version_major": 2,
       "version_minor": 0
      },
      "text/plain": [
       "Dropdown(options=('Topography', 'Sensor'), value='Topography')"
      ]
     },
     "metadata": {},
     "output_type": "display_data"
    }
   ],
   "source": [
    "app.spatial_choices"
   ]
  },
  {
   "cell_type": "markdown",
   "id": "earlier-verse",
   "metadata": {},
   "source": [
    "### Topography\n",
    "\n",
    "Set the air/ground interface of the inversion model."
   ]
  },
  {
   "cell_type": "code",
   "execution_count": 9,
   "id": "robust-prior",
   "metadata": {},
   "outputs": [
    {
     "data": {
      "application/vnd.jupyter.widget-view+json": {
       "model_id": "6d95a374b5b6472d822c6f42eaf62d1a",
       "version_major": 2,
       "version_minor": 0
      },
      "text/plain": [
       "VBox(children=(RadioButtons(description='Define by:', options=('Object', 'Relative to Sensor', 'Constant'), va…"
      ]
     },
     "metadata": {},
     "output_type": "display_data"
    }
   ],
   "source": [
    "app.topography.main"
   ]
  },
  {
   "cell_type": "markdown",
   "id": "atmospheric-globe",
   "metadata": {},
   "source": [
    "#### Object\n",
    "\n",
    "Set the topography based on an object stored in the target `geoh5` project. The Z value of the cells/vertices can be assigned based on a chosen `Data` field.\n",
    "\n",
    "#### Relative to Sensor\n",
    "\n",
    "Topography is defined by a fixed vertical offset from a selected object position (vertices or centroids), also referred to as a \"draped height\".\n",
    "\n",
    "#### Constant\n",
    "\n",
    "Topography is defined as a flat surface with constant elevation."
   ]
  },
  {
   "cell_type": "markdown",
   "id": "governing-emperor",
   "metadata": {},
   "source": [
    "### Sensor\n",
    "\n",
    "Defines the sensors position in 3D space."
   ]
  },
  {
   "cell_type": "code",
   "execution_count": 10,
   "id": "threatened-athens",
   "metadata": {},
   "outputs": [
    {
     "data": {
      "application/vnd.jupyter.widget-view+json": {
       "model_id": "8e222f4252f44e3ca0a66cf323f7107b",
       "version_major": 2,
       "version_minor": 0
      },
      "text/plain": [
       "VBox(children=(RadioButtons(description='Define by:', index=1, options=('sensor location + (dx, dy, dz)', 'top…"
      ]
     },
     "metadata": {},
     "output_type": "display_data"
    }
   ],
   "source": [
    "app.sensor.main"
   ]
  },
  {
   "cell_type": "markdown",
   "id": "expired-lesbian",
   "metadata": {},
   "source": [
    "#### Sensor Location\n",
    "\n",
    "Sensor position defined by a constant offset from the vertices of the selected\n",
    "object. Typically used for towed system where the GPS receiver is on the\n",
    "aircraft.\n",
    "\n",
    "#### Topo and radar\n",
    "\n",
    "Receiver locations defined by the vertices horizontal positions [x, y] and z value\n",
    "interpolated from topography + clearance height. Typically used for gridded\n",
    "data with constant draped height or for airborne survey with inaccurate GPS\n",
    "elevation (radar height)."
   ]
  },
  {
   "cell_type": "markdown",
   "id": "fatal-machinery",
   "metadata": {},
   "source": [
    "### Line ID\n",
    "\n",
    "**(EM only)**: Line channel and line number to be inverted."
   ]
  },
  {
   "cell_type": "code",
   "execution_count": 11,
   "id": "referenced-association",
   "metadata": {},
   "outputs": [
    {
     "data": {
      "application/vnd.jupyter.widget-view+json": {
       "model_id": "cc89fe8ccbd243a09ef3c6fc30cad327",
       "version_major": 2,
       "version_minor": 0
      },
      "text/plain": [
       "VBox(children=(Dropdown(description='Lines field', options=('', '--- Channels ---', 'Airborne_Gxx', 'Airborne_…"
      ]
     },
     "metadata": {},
     "output_type": "display_data"
    }
   ],
   "source": [
    "app.lines.main"
   ]
  },
  {
   "cell_type": "markdown",
   "id": "victorian-tiffany",
   "metadata": {},
   "source": [
    "## Inversion Options\n",
    "\n",
    "List of parameters controlling the inversion."
   ]
  },
  {
   "cell_type": "code",
   "execution_count": 12,
   "id": "incorrect-bidding",
   "metadata": {},
   "outputs": [
    {
     "data": {
      "application/vnd.jupyter.widget-view+json": {
       "model_id": "b7f4087ef5a64a9787e5e18585349545",
       "version_major": 2,
       "version_minor": 0
      },
      "text/plain": [
       "VBox(children=(HBox(children=(Label(value='Inversion Options'),)), HBox(children=(Dropdown(options=('output na…"
      ]
     },
     "metadata": {},
     "output_type": "display_data"
    }
   ],
   "source": [
    "app.inversion_parameters.main"
   ]
  },
  {
   "cell_type": "markdown",
   "id": "executive-revolution",
   "metadata": {},
   "source": [
    "### Output Name\n",
    "\n",
    "Name given to the inversion group added to the ANALYST project."
   ]
  },
  {
   "cell_type": "markdown",
   "id": "worse-norman",
   "metadata": {},
   "source": [
    "### Target Misfit\n",
    "\n",
    "Target data misfit where 1 = number of data"
   ]
  },
  {
   "cell_type": "code",
   "execution_count": 13,
   "id": "divine-trademark",
   "metadata": {},
   "outputs": [
    {
     "data": {
      "application/vnd.jupyter.widget-view+json": {
       "model_id": "00c2b2b9ea7f4c849f4e3bd5a71b3fa3",
       "version_major": 2,
       "version_minor": 0
      },
      "text/plain": [
       "FloatText(value=1.0, description='Target misfit')"
      ]
     },
     "metadata": {},
     "output_type": "display_data"
    }
   ],
   "source": [
    "app.inversion_parameters.chi_factor"
   ]
  },
  {
   "cell_type": "markdown",
   "id": "intensive-calgary",
   "metadata": {},
   "source": [
    "### Uncertainty mode\n",
    "\n",
    "(EM Only) Global change to the data uncertainties "
   ]
  },
  {
   "cell_type": "code",
   "execution_count": 14,
   "id": "interstate-composer",
   "metadata": {},
   "outputs": [
    {
     "data": {
      "application/vnd.jupyter.widget-view+json": {
       "model_id": "e10eaaf656a847e0bd2b6066fb8c3823",
       "version_major": 2,
       "version_minor": 0
      },
      "text/plain": [
       "RadioButtons(index=1, options=('Estimated (%|data| + background)', 'User input (%|data| + floor)'), value='Use…"
      ]
     },
     "metadata": {},
     "output_type": "display_data"
    }
   ],
   "source": [
    "app.inversion_parameters.uncert_mode"
   ]
  },
  {
   "cell_type": "markdown",
   "id": "unusual-jewel",
   "metadata": {},
   "source": [
    "**Estimated** Floor uncertainties re-assgined based on the best-fitting halfspace model. Useful when dealing with fast time domain decays due to IP effects.\n",
    "\n",
    "**User Input** (Default) Keep the same uncertainties as defined in the [Channel Options](#Channel-Options) "
   ]
  },
  {
   "cell_type": "markdown",
   "id": "traditional-latino",
   "metadata": {},
   "source": [
    "### Starting Model\n",
    "\n",
    "Initial model used to begin the inversion.\n"
   ]
  },
  {
   "cell_type": "code",
   "execution_count": 15,
   "id": "attractive-canvas",
   "metadata": {},
   "outputs": [
    {
     "data": {
      "application/vnd.jupyter.widget-view+json": {
       "model_id": "b64e1a012d394fb5b972d53e4695d4ec",
       "version_major": 2,
       "version_minor": 0
      },
      "text/plain": [
       "VBox(children=(Label(value='Starting effective susceptibility'), VBox(children=(RadioButtons(index=1, options=…"
      ]
     },
     "metadata": {},
     "output_type": "display_data"
    }
   ],
   "source": [
    "app.inversion_parameters.starting_model.main"
   ]
  },
  {
   "cell_type": "markdown",
   "id": "authentic-payroll",
   "metadata": {},
   "source": [
    "#### Model\n",
    "\n",
    "Model object and values selected from any `Points`, `Curve`, `Surface`, `BlockModel` or `Octree` object.\n",
    "Values are interpolated onto the inversion mesh using a nearest neighbor approach.\n",
    "\n",
    "#### Constant\n",
    "\n",
    "Constant background half-space value."
   ]
  },
  {
   "cell_type": "markdown",
   "id": "regulation-alliance",
   "metadata": {},
   "source": [
    "### Susceptibility model \n",
    "\n",
    "**(FEM Only)**\n",
    "\n",
    "Susceptibility values used in the forward calculations only."
   ]
  },
  {
   "cell_type": "code",
   "execution_count": 16,
   "id": "median-pillow",
   "metadata": {},
   "outputs": [
    {
     "data": {
      "application/vnd.jupyter.widget-view+json": {
       "model_id": "7239b31774394240958a7ce23d299d1f",
       "version_major": 2,
       "version_minor": 0
      },
      "text/plain": [
       "VBox(children=(Label(value='Background susceptibility', style=DescriptionStyle(description_width='initial')), …"
      ]
     },
     "metadata": {},
     "output_type": "display_data"
    }
   ],
   "source": [
    "app.inversion_parameters.susceptibility_model.main"
   ]
  },
  {
   "cell_type": "markdown",
   "id": "close-ranch",
   "metadata": {},
   "source": [
    "#### None\n",
    "\n",
    "No susceptibility model used.\n",
    "\n",
    "#### Model\n",
    "\n",
    "Susceptibitlity model selected from any `Points`, `Curve`, `Surface`, `BlockModel` or `Octree` object.\n",
    "Values are interpolated onto the inversion mesh using a nearest neighbor approach.\n",
    "\n",
    "#### Constant\n",
    "\n",
    "Constant susceptibility half-space value."
   ]
  },
  {
   "cell_type": "markdown",
   "id": "sophisticated-garden",
   "metadata": {},
   "source": [
    "### Regularization\n",
    "\n",
    "See the [Regularization Panel](#Regularization-Panel) section."
   ]
  },
  {
   "cell_type": "markdown",
   "id": "pacific-realtor",
   "metadata": {},
   "source": [
    "### Upper-Lower Bounds\n",
    "\n",
    "Upper and lower bound constraints applied on physical property model."
   ]
  },
  {
   "cell_type": "code",
   "execution_count": 17,
   "id": "liable-license",
   "metadata": {},
   "outputs": [
    {
     "data": {
      "application/vnd.jupyter.widget-view+json": {
       "model_id": "529cb0cb18c4458986a0a68e116a6b53",
       "version_major": 2,
       "version_minor": 0
      },
      "text/plain": [
       "VBox(children=(Text(value='', description='Upper bound value'), Text(value='', description='Lower bound value'…"
      ]
     },
     "metadata": {},
     "output_type": "display_data"
    }
   ],
   "source": [
    "app.inversion_parameters.bound_panel"
   ]
  },
  {
   "cell_type": "markdown",
   "id": "amber-migration",
   "metadata": {},
   "source": [
    "If left empty, the inversion uses [$-\\infty$, $\\infty$] physical property bounds."
   ]
  },
  {
   "cell_type": "markdown",
   "id": "split-delight",
   "metadata": {},
   "source": [
    "### Mesh\n",
    "\n",
    "See the [Mesh Design](#Mesh-Design) section."
   ]
  },
  {
   "cell_type": "markdown",
   "id": "preliminary-element",
   "metadata": {},
   "source": [
    "### Ignore Values\n",
    "\n",
    "#### Data\n",
    "\n",
    "Flag value ignored by the inversion by assigning $\\infty$ uncertainties on the data points."
   ]
  },
  {
   "cell_type": "code",
   "execution_count": 18,
   "id": "lesbian-crawford",
   "metadata": {},
   "outputs": [
    {
     "data": {
      "application/vnd.jupyter.widget-view+json": {
       "model_id": "e9ec1bedda144d9cbfec7c75d24c1ecb",
       "version_major": 2,
       "version_minor": 0
      },
      "text/plain": [
       "Text(value='-99999', description='Data (i.e. <0 = no negatives)')"
      ]
     },
     "metadata": {},
     "output_type": "display_data"
    }
   ],
   "source": [
    "app.inversion_parameters.ignore_values"
   ]
  },
  {
   "cell_type": "markdown",
   "id": "biological-welcome",
   "metadata": {},
   "source": [
    "#### Air cells\n",
    "\n",
    "Value assigned to the output model cells above topography. Defaults to $10^{-8}$ S/m for EM inversions"
   ]
  },
  {
   "cell_type": "code",
   "execution_count": 19,
   "id": "stock-conviction",
   "metadata": {},
   "outputs": [
    {
     "data": {
      "application/vnd.jupyter.widget-view+json": {
       "model_id": "bc0de40c3bfc4b2da8a103b21f5e37d0",
       "version_major": 2,
       "version_minor": 0
      },
      "text/plain": [
       "FloatText(value=0.0, description='Air cells fill value')"
      ]
     },
     "metadata": {},
     "output_type": "display_data"
    }
   ],
   "source": [
    "app.inversion_parameters.air_values"
   ]
  },
  {
   "cell_type": "markdown",
   "id": "flying-style",
   "metadata": {},
   "source": [
    "### Optimization\n",
    "\n",
    "Parameters controlling various aspects of the projected Gauss-Newton inversion algorithm."
   ]
  },
  {
   "cell_type": "code",
   "execution_count": 20,
   "id": "junior-devices",
   "metadata": {},
   "outputs": [
    {
     "data": {
      "application/vnd.jupyter.widget-view+json": {
       "model_id": "c829d21cf8c34f5caf8e73c75fa303b5",
       "version_major": 2,
       "version_minor": 0
      },
      "text/plain": [
       "VBox(children=(IntText(value=25, description='Max beta Iterations', style=DescriptionStyle(description_width='…"
      ]
     },
     "metadata": {},
     "output_type": "display_data"
    }
   ],
   "source": [
    "app.inversion_parameters.optimization"
   ]
  },
  {
   "cell_type": "markdown",
   "id": "pleased-respondent",
   "metadata": {},
   "source": [
    "#### Max beta Iterations\n",
    "\n",
    "Maximum number of $\\beta$-iterations allowed.\n",
    "Note that when applying sparse norms, the inversion may require $>20$ iterations to converge.\n",
    "\n",
    "\n",
    "#### Target misfit\n",
    "\n",
    "Target data misfit where $\\chi=1$ corresponds to $\\phi_d=N$ (number of data). (See [Data Misfit and Uncertainties](https://giftoolscookbook.readthedocs.io/en/latest/content/fundamentals/Uncertainties.html#data-misfit-and-uncertainties))\n",
    "\n",
    "\n",
    "#### Starting trade-off ($\\beta$)\n",
    "\n",
    "**ratio**: Factor multiplying the initial $\\beta$ defined by the ratio between the initial misfit and regularization:\n",
    "\n",
    "\\begin{equation}\n",
    "\\beta_0 = \\gamma * \\frac{\\phi_d}{ \\phi_m}\n",
    "\\end{equation}\n",
    "\n",
    "**value**: Fixed $\\beta$ value specified by the user.\n",
    "\n",
    "#### Max CG Iterations\n",
    "\n",
    "Maximum number of Conjugate Gradient (CG) iterations per Gauss-Newton solve.\n",
    "\n",
    "\n",
    "#### CG Tolerance\n",
    "\n",
    "Threshold on the minimum Conjugate Gradient (CG) step to end the Gauss-Newton solve.\n",
    "\n",
    "\n",
    "#### Max CPUs\n",
    "\n",
    "Maximum number of threads used for the parallelization. Defaults to half the system thread count.\n",
    "\n",
    "\n",
    "#### Max RAM (Gb)\n",
    "\n",
    "Approximate memory (RAM) used during the inversion. The value is used to calculate the chunk size for the storage of the sensitivity matrix on a solid-state drive.\n",
    "(See [dask.array.to_zarr](https://docs.dask.org/en/latest/array-api.html#dask.array.to_zarr))\n"
   ]
  },
  {
   "cell_type": "markdown",
   "id": "handed-journalism",
   "metadata": {},
   "source": [
    "## Regularization Panel\n",
    "\n",
    "Parameters controlling the regularization function."
   ]
  },
  {
   "cell_type": "markdown",
   "id": "russian-evidence",
   "metadata": {},
   "source": [
    "### Reference model\n",
    "\n",
    "Reference model values used to contrain the inversion."
   ]
  },
  {
   "cell_type": "code",
   "execution_count": 21,
   "id": "linear-climb",
   "metadata": {},
   "outputs": [
    {
     "data": {
      "application/vnd.jupyter.widget-view+json": {
       "model_id": "14cd624a09604c0486a17b3219f06d4c",
       "version_major": 2,
       "version_minor": 0
      },
      "text/plain": [
       "VBox(children=(Label(value='Reference effective susceptibility'), VBox(children=(RadioButtons(index=2, options…"
      ]
     },
     "metadata": {},
     "output_type": "display_data"
    }
   ],
   "source": [
    "app.inversion_parameters.reference_model.main"
   ]
  },
  {
   "cell_type": "markdown",
   "id": "obvious-advertiser",
   "metadata": {},
   "source": [
    "#### None\n",
    "\n",
    "No reference model used. This is equivalent as setting the [Alphas](#Alpha-Parameters) `s` parameter to zero.\n",
    "\n",
    "#### Model\n",
    "\n",
    "Reference model selected from any `Points`, `Curve`, `Surface`, `BlockModel` or `Octree` object.\n",
    "Values are interpolated onto the inversion mesh using a nearest neighbor approach.\n",
    "\n",
    "#### Constant\n",
    "\n",
    "Constant reference half-space value.\n",
    "\n",
    "#### Best-fitting halfspace\n",
    "\n",
    "**(EM only)** Run a preliminary inversion to determine a best-fitting halfspace\n",
    "(single conductivity value) at each data station."
   ]
  },
  {
   "cell_type": "markdown",
   "id": "differential-fifth",
   "metadata": {},
   "source": [
    "### Alpha Parameters\n",
    "\n",
    "Scaling between the components of the regularization function."
   ]
  },
  {
   "cell_type": "code",
   "execution_count": 22,
   "id": "metric-southwest",
   "metadata": {},
   "outputs": [
    {
     "data": {
      "application/vnd.jupyter.widget-view+json": {
       "model_id": "9e82e151c91540f39966c006e7f37380",
       "version_major": 2,
       "version_minor": 0
      },
      "text/plain": [
       "Text(value='1.0, 1.0, 1.0, 1.0', description='Scaling alpha_(s, x, y, z)')"
      ]
     },
     "metadata": {},
     "output_type": "display_data"
    }
   ],
   "source": [
    "app.inversion_parameters.alphas\n"
   ]
  },
  {
   "cell_type": "markdown",
   "id": "empty-meeting",
   "metadata": {},
   "source": [
    "See the [SimPEG.API](https://docs.simpeg.xyz/content/api_core/api_Regularization.html#SimPEG.regularization.Simple) for technical details."
   ]
  },
  {
   "cell_type": "markdown",
   "id": "intimate-fisher",
   "metadata": {},
   "source": [
    "### $l_p$-norms\n",
    "\n",
    "Approximated norms applied to the components of the regularization."
   ]
  },
  {
   "cell_type": "code",
   "execution_count": 23,
   "id": "potential-fifth",
   "metadata": {},
   "outputs": [
    {
     "data": {
      "application/vnd.jupyter.widget-view+json": {
       "model_id": "0791240ab28e413781993c3233505c38",
       "version_major": 2,
       "version_minor": 0
      },
      "text/plain": [
       "Text(value='0, 2, 2, 2', continuous_update=False, description='Norms p_(s, x, y, z)', style=DescriptionStyle(d…"
      ]
     },
     "metadata": {},
     "output_type": "display_data"
    }
   ],
   "source": [
    "app.inversion_parameters.norms\n"
   ]
  },
  {
   "cell_type": "markdown",
   "id": "middle-sweet",
   "metadata": {},
   "source": [
    "See notes on [Sparse and Blocky Norms](https://giftoolscookbook.readthedocs.io/en/latest/content/fundamentals/Norms.html#sparse-and-blocky-norms) for technical details."
   ]
  },
  {
   "cell_type": "markdown",
   "id": "spiritual-coating",
   "metadata": {},
   "source": [
    "## Mesh Design\n",
    "\n",
    "Definition of the grid containing the physical property model.\n",
    "\n",
    "### Octree Mesh\n",
    "\n",
    "**(Gravity and magnetics)**\n",
    "\n",
    "Parameters used for the construction of a global `Octree` mesh."
   ]
  },
  {
   "cell_type": "code",
   "execution_count": 24,
   "id": "committed-genealogy",
   "metadata": {},
   "outputs": [
    {
     "data": {
      "application/vnd.jupyter.widget-view+json": {
       "model_id": "96b378853bcc45c68522c5f3d4964008",
       "version_major": 2,
       "version_minor": 0
      },
      "text/plain": [
       "VBox(children=(Label(value='Octree Mesh'), Text(value='25, 25, 25', description='Smallest cells', style=Descri…"
      ]
     },
     "metadata": {},
     "output_type": "display_data"
    }
   ],
   "source": [
    "app.inversion_parameters.mesh.main"
   ]
  },
  {
   "cell_type": "markdown",
   "id": "resistant-albert",
   "metadata": {},
   "source": [
    "#### Smallest cells\n",
    "\n",
    "Dimensions (x,y,z) of the smallest octree cells.\n",
    "\n",
    "\n",
    "####  Layers below topography\n",
    "\n",
    "\n",
    "Number of layers of cells at each octree level below the topography surface.\n",
    "As topography generally extends further, it is common practice to use only\n",
    "coarse cells once outside of the survey area.\n",
    "\n",
    "\n",
    "####  Layers below data\n",
    "\n",
    "Number of layers of cells at each octree level below the observation points.\n",
    "\n",
    "\n",
    "####  Minimum depth\n",
    "\n",
    "\n",
    "Minimum depth (m) of the mesh, rounded up to the next power of 2.\n",
    "\n",
    "\n",
    "####  Padding [W,E,N,S,D,U]\n",
    "\n",
    "Additional padding distance (m) along West, East, North, South, Down and Up,\n",
    "chosen by default to be half of the data extent in each direction. Additional\n",
    "padding can be added at depth, but it is recommended to set it through the\n",
    "[Minimum depth](#Minimum-depth) parameter.\n",
    "\n",
    "\n",
    "#### Max triangulation length\n",
    "\n",
    "\n",
    "Parameter controlling the Delaunay triangulation used for the refinement of\n",
    "the mesh around topography and observation points. Large triangles generated\n",
    "between points far apart are filtered out, reducing the number of small cells\n",
    "in regions without data."
   ]
  },
  {
   "cell_type": "markdown",
   "id": "variable-arrival",
   "metadata": {},
   "source": [
    " <img align=\"center\" width=\"50%\" src=\"./images/Octree_refinement.png\">"
   ]
  },
  {
   "cell_type": "markdown",
   "id": "developmental-ebony",
   "metadata": {},
   "source": [
    "### 1D Mesh\n",
    "\n",
    "**(EM 1D only)**\n",
    "\n",
    "For the laterally constrained 1D inversion (time or frequency), the earth is\n",
    "discretized into layer models connected by the regularization function. The\n",
    "following parameters define the 1D mesh repeated below each transmitter/receiver pairs"
   ]
  },
  {
   "cell_type": "code",
   "execution_count": 25,
   "id": "special-camcorder",
   "metadata": {},
   "outputs": [
    {
     "data": {
      "application/vnd.jupyter.widget-view+json": {
       "model_id": "5a4f3d30825b449cb4bd9978742ae64e",
       "version_major": 2,
       "version_minor": 0
      },
      "text/plain": [
       "VBox(children=(Label(value='1D Mesh'), FloatText(value=10.0, description='Smallest cell (m):', style=Descripti…"
      ]
     },
     "metadata": {},
     "output_type": "display_data"
    }
   ],
   "source": [
    "app.mesh_1D.main"
   ]
  },
  {
   "cell_type": "markdown",
   "id": "coordinate-flush",
   "metadata": {},
   "source": [
    "#### Smallest cell (m)\n",
    "\n",
    "Smallest layer at the top of the 1D mesh.\n",
    "\n",
    "\n",
    "#### Expansion factor\n",
    "\n",
    "Rate of cell expansion from the smallest cell size.\n",
    "\n",
    "\n",
    "#### Number of cells\n",
    "\n",
    "Total number of layers below each station.\n",
    "\n",
    "\n",
    "#### Max depth\n",
    "\n",
    "Returns the full depth of the 1D mesh given the parameters selected above."
   ]
  },
  {
   "cell_type": "markdown",
   "id": "smart-notebook",
   "metadata": {},
   "source": [
    "## Output panel\n",
    "\n",
    "Specify the working directory where the inversion occurs. For gravity and magnetic data inversion, it is **highly recommended** to chose a location on a **solid-state drive (SSD)** to fully take advantage of the `Dask` parallelization."
   ]
  },
  {
   "cell_type": "code",
   "execution_count": 26,
   "id": "referenced-buffalo",
   "metadata": {},
   "outputs": [
    {
     "data": {
      "application/vnd.jupyter.widget-view+json": {
       "model_id": "3b5ba385e6e54049b8d405d06db2732f",
       "version_major": 2,
       "version_minor": 0
      },
      "text/plain": [
       "VBox(children=(FileChooser(path='C:\\Users\\dominiquef\\Documents\\GIT\\RichardScottOZ\\geoapps\\docs\\content\\applica…"
      ]
     },
     "metadata": {},
     "output_type": "display_data"
    }
   ],
   "source": [
    "app.output_panel"
   ]
  },
  {
   "cell_type": "markdown",
   "id": "valuable-peter",
   "metadata": {},
   "source": [
    "**Write inpute**: Click to write the input parameters to a `*.json` file\n",
    "\n",
    "**Run SimPEG**: Launch the inversion routine. Results will be written directly to the target `geoh5` project.\n",
    "\n",
    "### Command line execution\n",
    "\n",
    "Alternatively, the inversion can be launched on a different computer from command line:\n",
    "\n",
    "`activate geoapps`\n",
    "\n",
    "`python -m geoapps.pf_inversion [Name].json`\n",
    "\n",
    "This assumes that the geoapps have been installed and that the reference `*.json` and `*.geoh5` project are accessible."
   ]
  },
  {
   "cell_type": "code",
   "execution_count": 27,
   "id": "hairy-seeking",
   "metadata": {
    "nbsphinx": "hidden"
   },
   "outputs": [],
   "source": [
    "import matplotlib.pyplot as plt\n",
    "app.figure.savefig(\"images/inversion_thumbnail.png\", dpi=300, bbox_inches=\"tight\")"
   ]
  }
 ],
 "metadata": {
  "kernelspec": {
   "display_name": "Python 3",
   "language": "python",
   "name": "python3"
  },
  "language_info": {
   "codemirror_mode": {
    "name": "ipython",
    "version": 3
   },
   "file_extension": ".py",
   "mimetype": "text/x-python",
   "name": "python",
   "nbconvert_exporter": "python",
   "pygments_lexer": "ipython3",
   "version": "3.9.4"
  },
  "widgets": {
   "application/vnd.jupyter.widget-state+json": {
    "state": {
     "000443e4f277431c94cc2d36a76a9993": {
      "model_module": "@jupyter-widgets/controls",
      "model_module_version": "1.5.0",
      "model_name": "ButtonModel",
      "state": {
       "description": "Cancel",
       "layout": "IPY_MODEL_590df0a6fa2e459d87e191a0c6d2478d",
       "style": "IPY_MODEL_f99ac78a2b5340d8ad5a5570ff89f7b4"
      }
     },
     "000fdfdbd498470bb151b3880e1855ad": {
      "model_module": "@jupyter-widgets/controls",
      "model_module_version": "1.5.0",
      "model_name": "SelectModel",
      "state": {
       "_options_labels": [
        "..",
        "images",
        "base_application.ipynb",
        "calculator.ipynb",
        "clustering.ipynb",
        "contouring.ipynb",
        "coordinate_transformation.ipynb",
        "create_isosurface.ipynb",
        "create_surface.ipynb",
        "data_interpolation.ipynb",
        "edge_detection.ipynb",
        "export.ipynb",
        "geophysical_inversion.ipynb",
        "object_data_selection.ipynb",
        "octree_mesh_creation.png",
        "peak_finder.ipynb",
        "scatter.ipynb",
        "view_selection.ipynb"
       ],
       "index": null,
       "layout": "IPY_MODEL_31bdb2c809dc41b3924f1ee1eaf340b7",
       "rows": 8,
       "style": "IPY_MODEL_6259113ab266414493a361af14f3b334"
      }
     },
     "0013c9bb6e0840018a1cc75425fa757e": {
      "model_module": "@jupyter-widgets/controls",
      "model_module_version": "1.5.0",
      "model_name": "CheckboxModel",
      "state": {
       "description": "GA Pro - Live link",
       "disabled": false,
       "indent": false,
       "layout": "IPY_MODEL_3a1dfef538c0444bbefdb29c87ffab80",
       "style": "IPY_MODEL_c3249c4fc00c4f1aaf58dc64e67d7b15",
       "value": false
      }
     },
     "0020ab33f06b4b9795033d56aa2aa705": {
      "model_module": "@jupyter-widgets/controls",
      "model_module_version": "1.5.0",
      "model_name": "DescriptionStyleModel",
      "state": {
       "description_width": ""
      }
     },
     "0029d1c4d24340be9866f4646e8327c3": {
      "model_module": "@jupyter-widgets/controls",
      "model_module_version": "1.5.0",
      "model_name": "DescriptionStyleModel",
      "state": {
       "description_width": ""
      }
     },
     "003d8fb8dd4c4770838103ebb8aa510b": {
      "model_module": "@jupyter-widgets/controls",
      "model_module_version": "1.5.0",
      "model_name": "DescriptionStyleModel",
      "state": {
       "description_width": "initial"
      }
     },
     "00415aa09acd445396e05b29532dad74": {
      "model_module": "@jupyter-widgets/base",
      "model_module_version": "1.2.0",
      "model_name": "LayoutModel",
      "state": {}
     },
     "0053c2a3a6ba4014aa98ec3377ebeb97": {
      "model_module": "@jupyter-widgets/controls",
      "model_module_version": "1.5.0",
      "model_name": "GridBoxModel",
      "state": {
       "children": [
        "IPY_MODEL_8ba30e7ed730424ba851805a8d6dc649",
        "IPY_MODEL_0d81498600ad4f9a8212b9e3c5b302ac",
        "IPY_MODEL_dacc2c62f77042c79bf0d2528a231692"
       ],
       "layout": "IPY_MODEL_19ce7354d55a40a58e86df5c03b651b7"
      }
     },
     "005a5a7b66844671a5dd846c9e293f66": {
      "model_module": "@jupyter-widgets/base",
      "model_module_version": "1.2.0",
      "model_name": "LayoutModel",
      "state": {}
     },
     "00b541a96b824baf9e99e4be85f6b27b": {
      "model_module": "@jupyter-widgets/base",
      "model_module_version": "1.2.0",
      "model_name": "LayoutModel",
      "state": {}
     },
     "00c2b2b9ea7f4c849f4e3bd5a71b3fa3": {
      "model_module": "@jupyter-widgets/controls",
      "model_module_version": "1.5.0",
      "model_name": "FloatTextModel",
      "state": {
       "description": "Target misfit",
       "layout": "IPY_MODEL_ebde326360294a058a16342c3decf488",
       "step": null,
       "style": "IPY_MODEL_c166dd6dcf5947b78b07fc6c22e174ad",
       "value": 1
      }
     },
     "00d19d21261c48f0be216eef71ec209b": {
      "model_module": "@jupyter-widgets/controls",
      "model_module_version": "1.5.0",
      "model_name": "VBoxModel",
      "state": {
       "children": [
        "IPY_MODEL_effedb049b8a44378293eb999c01c672",
        "IPY_MODEL_195659acfb484f5389fecafd72ca05c4",
        "IPY_MODEL_206e1a4bc3c14f6a8c830358be19edfd",
        "IPY_MODEL_c0cb78dda6824a7ebc762212a287a552",
        "IPY_MODEL_b580e605ef5c401ea5e0a05ab6d1dd06"
       ],
       "layout": "IPY_MODEL_dff9dad22a8447369a0411d1fade0730"
      }
     },
     "00e421d89c78492486e1503c2bcf3207": {
      "model_module": "@jupyter-widgets/controls",
      "model_module_version": "1.5.0",
      "model_name": "DescriptionStyleModel",
      "state": {
       "description_width": ""
      }
     },
     "00ecc15a34534b33aea67718cc925166": {
      "model_module": "@jupyter-widgets/controls",
      "model_module_version": "1.5.0",
      "model_name": "VBoxModel",
      "state": {
       "children": [
        "IPY_MODEL_72cc9a1b76cf47109d8bb44e10ffd034",
        "IPY_MODEL_5f634438f670439e973b650d394ee19f",
        "IPY_MODEL_a7a72259dfc84dcfbf0879e600a24600"
       ],
       "layout": "IPY_MODEL_452c57cb0bc84ad886e36de147fdde72"
      }
     },
     "012570c145464280adffdd97750175c6": {
      "model_module": "@jupyter-widgets/base",
      "model_module_version": "1.2.0",
      "model_name": "LayoutModel",
      "state": {
       "display": "none",
       "grid_gap": "0px 0px",
       "grid_template_areas": "\n                    'pathlist filename'\n                    'dircontent dircontent'\n                    ",
       "grid_template_columns": "60% 40%",
       "grid_template_rows": "auto auto",
       "width": "500px"
      }
     },
     "0138d82e3d8e40cfa6dfada2ce67d965": {
      "model_module": "@jupyter-widgets/base",
      "model_module_version": "1.2.0",
      "model_name": "LayoutModel",
      "state": {}
     },
     "013a0ab48c3d459aa54ca93ea9eb3d23": {
      "model_module": "@jupyter-widgets/controls",
      "model_module_version": "1.5.0",
      "model_name": "ButtonModel",
      "state": {
       "button_style": "danger",
       "description": "Compute",
       "icon": "check",
       "layout": "IPY_MODEL_815d023d1a9140d68923fe53b8e4f7e8",
       "style": "IPY_MODEL_b7c3af2073cf4ede93445e1a1711a7a8",
       "tooltip": "Run computation"
      }
     },
     "016971c371204cc2bc3f1921a074e41f": {
      "model_module": "@jupyter-widgets/base",
      "model_module_version": "1.2.0",
      "model_name": "LayoutModel",
      "state": {}
     },
     "017cba3135e9453b9876f50b659729a6": {
      "model_module": "@jupyter-widgets/controls",
      "model_module_version": "1.5.0",
      "model_name": "HTMLModel",
      "state": {
       "layout": "IPY_MODEL_7087c324a4644466ae46c49466e72996",
       "style": "IPY_MODEL_ae24dc6a8a0645969e9f5b6c6f6187ad"
      }
     },
     "018d4c6a942342ebaf651dad724f1878": {
      "model_module": "@jupyter-widgets/controls",
      "model_module_version": "1.5.0",
      "model_name": "VBoxModel",
      "state": {
       "children": [
        "IPY_MODEL_800a7e88f2ff4541bc607b7989e3de9c",
        "IPY_MODEL_2de19b83a3d44b21a304c47b085908af"
       ],
       "layout": "IPY_MODEL_e07f097143cb49fb9888aaed13cdb7ca"
      }
     },
     "019936a05f8a40dc910441312aece77c": {
      "model_module": "@jupyter-widgets/controls",
      "model_module_version": "1.5.0",
      "model_name": "FloatTextModel",
      "state": {
       "description": "Constant elevation (m)",
       "layout": "IPY_MODEL_6ec412d098a24e2db4525cda5f67d869",
       "step": null,
       "style": "IPY_MODEL_927ef16217af4f808b6ff25a9530e7d2"
      }
     },
     "01bcef0c9d4448119ae57e02b8aa7fb9": {
      "model_module": "@jupyter-widgets/controls",
      "model_module_version": "1.5.0",
      "model_name": "DescriptionStyleModel",
      "state": {
       "description_width": ""
      }
     },
     "01c373ac5a96493292c3f3059808f6ef": {
      "model_module": "@jupyter-widgets/controls",
      "model_module_version": "1.5.0",
      "model_name": "DescriptionStyleModel",
      "state": {
       "description_width": ""
      }
     },
     "01c796adc8474b6e9a6b4d19b559a230": {
      "model_module": "@jupyter-widgets/controls",
      "model_module_version": "1.5.0",
      "model_name": "TextModel",
      "state": {
       "disabled": true,
       "layout": "IPY_MODEL_7c3ae66d72b6484eb473b98b28d00318",
       "placeholder": "output filename",
       "style": "IPY_MODEL_aa931c098caa4eb79760c63112675bf9"
      }
     },
     "01cacd5cf0b24332a9b16a9f6479dcf5": {
      "model_module": "@jupyter-widgets/base",
      "model_module_version": "1.2.0",
      "model_name": "LayoutModel",
      "state": {}
     },
     "01d8661b56224064987690f57cff59f0": {
      "model_module": "@jupyter-widgets/controls",
      "model_module_version": "1.5.0",
      "model_name": "DescriptionStyleModel",
      "state": {
       "description_width": ""
      }
     },
     "01dfc78b3ebd4d058ed78f2aa9702efb": {
      "model_module": "@jupyter-widgets/base",
      "model_module_version": "1.2.0",
      "model_name": "LayoutModel",
      "state": {
       "width": "auto"
      }
     },
     "01e0982f6660420eba595848d9709238": {
      "model_module": "@jupyter-widgets/controls",
      "model_module_version": "1.5.0",
      "model_name": "ToggleButtonModel",
      "state": {
       "description": "Zoom on selection",
       "icon": "check",
       "layout": "IPY_MODEL_9dac47e95b0346e2928d5c92cbca9e75",
       "style": "IPY_MODEL_600b772f3b2b40918292983227491326",
       "value": true
      }
     },
     "01e7734eb300495fb4a6c73f7e5661e6": {
      "model_module": "@jupyter-widgets/controls",
      "model_module_version": "1.5.0",
      "model_name": "ButtonStyleModel",
      "state": {}
     },
     "01eadafd60744cdc8dd3db6ef37e6248": {
      "model_module": "@jupyter-widgets/controls",
      "model_module_version": "1.5.0",
      "model_name": "DescriptionStyleModel",
      "state": {
       "description_width": "initial"
      }
     },
     "01f461d7dbd8426f86ea710147e2e1f3": {
      "model_module": "@jupyter-widgets/controls",
      "model_module_version": "1.5.0",
      "model_name": "TextModel",
      "state": {
       "description": "Lower bound value",
       "layout": "IPY_MODEL_394faa94dff54452a916c18672a22690",
       "style": "IPY_MODEL_11f7ec289f6b4f2da76e3be0d1a6fb8b"
      }
     },
     "025881cf7c634de7a4cbe5919e52a3e3": {
      "model_module": "@jupyter-widgets/controls",
      "model_module_version": "1.5.0",
      "model_name": "DescriptionStyleModel",
      "state": {
       "description_width": ""
      }
     },
     "02678964edf3486899234d891de574f1": {
      "model_module": "@jupyter-widgets/base",
      "model_module_version": "1.2.0",
      "model_name": "LayoutModel",
      "state": {
       "width": "auto"
      }
     },
     "0279a6f1e22f4f7996b8178180feece2": {
      "model_module": "@jupyter-widgets/controls",
      "model_module_version": "1.5.0",
      "model_name": "TextModel",
      "state": {
       "description": "Offsets (x,y,z)",
       "layout": "IPY_MODEL_88c58b5cbd184ca0857efa5c869e5bf2",
       "style": "IPY_MODEL_5b50a72c590f49ab937c913213f8dfb4",
       "value": "0, 0, 0"
      }
     },
     "027a85d114364aeea9759092ec6f1f25": {
      "model_module": "@jupyter-widgets/controls",
      "model_module_version": "1.5.0",
      "model_name": "DescriptionStyleModel",
      "state": {
       "description_width": ""
      }
     },
     "028a0c3b121842e68de8b69c9d01fbfc": {
      "model_module": "@jupyter-widgets/controls",
      "model_module_version": "1.5.0",
      "model_name": "IntTextModel",
      "state": {
       "description": "Max CG Iterations",
       "layout": "IPY_MODEL_5910611f33554073be30355aae068363",
       "step": 1,
       "style": "IPY_MODEL_d55f0c90777543ecac24481df7cc31e6",
       "value": 30
      }
     },
     "02a5061a8fcc4789979224378af381c7": {
      "model_module": "@jupyter-widgets/controls",
      "model_module_version": "1.5.0",
      "model_name": "TextModel",
      "state": {
       "description": "Upper bound value",
       "layout": "IPY_MODEL_69d7ac0d29a8478e9426d3da57fc88d6",
       "style": "IPY_MODEL_14dc088061934f79b6c3f1ee17ea0a05"
      }
     },
     "02b5bab9c4df4126a7d873974d0529fe": {
      "model_module": "@jupyter-widgets/base",
      "model_module_version": "1.2.0",
      "model_name": "LayoutModel",
      "state": {}
     },
     "02d45e0b77954b128d4f15ca7f34c813": {
      "model_module": "@jupyter-widgets/base",
      "model_module_version": "1.2.0",
      "model_name": "LayoutModel",
      "state": {}
     },
     "02d6e67d2f024d19a69c961ac0d580b2": {
      "model_module": "@jupyter-widgets/controls",
      "model_module_version": "1.5.0",
      "model_name": "DescriptionStyleModel",
      "state": {
       "description_width": ""
      }
     },
     "02ef0097c1df466da18c920473cdfeb8": {
      "model_module": "@jupyter-widgets/controls",
      "model_module_version": "1.5.0",
      "model_name": "VBoxModel",
      "state": {
       "children": [
        "IPY_MODEL_ebadbc39623d46a1b0e9e15386ecce8c",
        "IPY_MODEL_3fbe6446ea7c4d9da6cad71e11009ecc",
        "IPY_MODEL_9be924d7637f4bea9bb97d76b3a67a74",
        "IPY_MODEL_fd7c15ba3e4e41bd961677f16ae43349",
        "IPY_MODEL_2f9c35da62e142d499631c3ea7df6dc0"
       ],
       "layout": "IPY_MODEL_b92446fdff644014a62e75242938f5ab"
      }
     },
     "02f0a09757054181b3d65f3738a068e5": {
      "model_module": "@jupyter-widgets/controls",
      "model_module_version": "1.5.0",
      "model_name": "VBoxModel",
      "state": {
       "children": [
        "IPY_MODEL_c094da956d304c989f11be4671f0ed30",
        "IPY_MODEL_37967d463aa74bcbb305aca3735efce3"
       ],
       "layout": "IPY_MODEL_8a754e0556564380abb26aa8ce4cd758"
      }
     },
     "0312e3b28d724f78b44bf89b28e51ac7": {
      "model_module": "@jupyter-widgets/base",
      "model_module_version": "1.2.0",
      "model_name": "LayoutModel",
      "state": {}
     },
     "031e2c6621ec4063acff9f9f2d4006fc": {
      "model_module": "@jupyter-widgets/controls",
      "model_module_version": "1.5.0",
      "model_name": "HBoxModel",
      "state": {
       "children": [
        "IPY_MODEL_e83a3a1a74554cc6a9b20235a57e012e",
        "IPY_MODEL_15483cb38456434d8cfb297de292afee"
       ],
       "layout": "IPY_MODEL_f57cbdc204d8462fbe87b64574646ed5"
      }
     },
     "0329869d72fc45cdaeb9047180ce6ee7": {
      "model_module": "@jupyter-widgets/controls",
      "model_module_version": "1.5.0",
      "model_name": "DescriptionStyleModel",
      "state": {
       "description_width": ""
      }
     },
     "0331cc8f13764fa3bbee094a00ae13d7": {
      "model_module": "@jupyter-widgets/controls",
      "model_module_version": "1.5.0",
      "model_name": "DescriptionStyleModel",
      "state": {
       "description_width": ""
      }
     },
     "0344184f2cba4eb595ec251eaf622056": {
      "model_module": "@jupyter-widgets/controls",
      "model_module_version": "1.5.0",
      "model_name": "DescriptionStyleModel",
      "state": {
       "description_width": ""
      }
     },
     "0344a5a4c0a04cdaaad44702391cbc50": {
      "model_module": "@jupyter-widgets/base",
      "model_module_version": "1.2.0",
      "model_name": "LayoutModel",
      "state": {}
     },
     "038197cce37846bf968b5f0dff78e76b": {
      "model_module": "@jupyter-widgets/controls",
      "model_module_version": "1.5.0",
      "model_name": "ButtonStyleModel",
      "state": {}
     },
     "03ea2b108adb49fdb4c8c9ec9773266b": {
      "model_module": "@jupyter-widgets/controls",
      "model_module_version": "1.5.0",
      "model_name": "VBoxModel",
      "state": {
       "children": [
        "IPY_MODEL_67582cc324dd46639e530944f8870323",
        "IPY_MODEL_a7c9f7f086224c42b032a25b2f8fe2da"
       ],
       "layout": "IPY_MODEL_c3d6ae8f6f7449e2960621c689595cbc"
      }
     },
     "03eb75440c5740db9c3104f4ac00c799": {
      "model_module": "@jupyter-widgets/controls",
      "model_module_version": "1.5.0",
      "model_name": "HTMLModel",
      "state": {
       "layout": "IPY_MODEL_22c3e371586a4ede9e636146fc3345e9",
       "placeholder": "",
       "style": "IPY_MODEL_eca9103955ae4aa58c6464c64c68e5f6",
       "value": "<span style=\"margin-left:10px; color:black;\">No file selected</span>"
      }
     },
     "03f256f8e71046dcbde37d83cb401acd": {
      "model_module": "@jupyter-widgets/controls",
      "model_module_version": "1.5.0",
      "model_name": "TextModel",
      "state": {
       "disabled": true,
       "layout": "IPY_MODEL_41742799de684bd1a729170d88d59676",
       "placeholder": "output filename",
       "style": "IPY_MODEL_d1e34be0c24e48a9819f03545c98f5b1"
      }
     },
     "03f9ef29e0e14a54b79711c710596fed": {
      "model_module": "@jupyter-widgets/controls",
      "model_module_version": "1.5.0",
      "model_name": "DescriptionStyleModel",
      "state": {
       "description_width": ""
      }
     },
     "03fa40b522644ea89185e3d2fa5ef9b6": {
      "model_module": "@jupyter-widgets/controls",
      "model_module_version": "1.5.0",
      "model_name": "DescriptionStyleModel",
      "state": {
       "description_width": ""
      }
     },
     "04013d71eca44999b12b17944786de4b": {
      "model_module": "@jupyter-widgets/base",
      "model_module_version": "1.2.0",
      "model_name": "LayoutModel",
      "state": {}
     },
     "040d18e68d3346a697237e1bea437ed8": {
      "model_module": "@jupyter-widgets/controls",
      "model_module_version": "1.5.0",
      "model_name": "DescriptionStyleModel",
      "state": {
       "description_width": ""
      }
     },
     "04179467d33e41ef85cae986a3d7ad1f": {
      "model_module": "@jupyter-widgets/base",
      "model_module_version": "1.2.0",
      "model_name": "LayoutModel",
      "state": {}
     },
     "045af89d31db42a390c7217cf4f3c483": {
      "model_module": "@jupyter-widgets/controls",
      "model_module_version": "1.5.0",
      "model_name": "DropdownModel",
      "state": {
       "_options_labels": [
        "C:\\Users\\dominiquef\\Documents\\GIT\\RichardScottOZ\\geoapps\\docs\\content\\applications",
        "C:\\Users\\dominiquef\\Documents\\GIT\\RichardScottOZ\\geoapps\\docs\\content",
        "C:\\Users\\dominiquef\\Documents\\GIT\\RichardScottOZ\\geoapps\\docs",
        "C:\\Users\\dominiquef\\Documents\\GIT\\RichardScottOZ\\geoapps",
        "C:\\Users\\dominiquef\\Documents\\GIT\\RichardScottOZ",
        "C:\\Users\\dominiquef\\Documents\\GIT",
        "C:\\Users\\dominiquef\\Documents",
        "C:\\Users\\dominiquef",
        "C:\\Users",
        "C:\\",
        "D:\\",
        "Z:\\"
       ],
       "index": 0,
       "layout": "IPY_MODEL_32ddc71cf642430fad5130e9fbb0b324",
       "style": "IPY_MODEL_f118ce08b3ae4e91846e37f9e4a7fc26"
      }
     },
     "045f8b49a90245728eb879719fea4190": {
      "model_module": "@jupyter-widgets/controls",
      "model_module_version": "1.5.0",
      "model_name": "DescriptionStyleModel",
      "state": {
       "description_width": ""
      }
     },
     "0463f9338e764ff59d0d058de02a3653": {
      "model_module": "@jupyter-widgets/controls",
      "model_module_version": "1.5.0",
      "model_name": "DescriptionStyleModel",
      "state": {
       "description_width": ""
      }
     },
     "046c249d142e47f986b49b5f7383bbc5": {
      "model_module": "@jupyter-widgets/controls",
      "model_module_version": "1.5.0",
      "model_name": "ButtonStyleModel",
      "state": {}
     },
     "047f804cd0bd4983b7fbfc939b70ac84": {
      "model_module": "@jupyter-widgets/controls",
      "model_module_version": "1.5.0",
      "model_name": "LabelModel",
      "state": {
       "layout": "IPY_MODEL_39089548acdf4c8fa4186f286723bfb4",
       "style": "IPY_MODEL_20ee1d289bb842bfa5e9783376dfa7be",
       "value": "Octree Mesh"
      }
     },
     "049a5136f8a54cd38babc268c46afb5f": {
      "model_module": "@jupyter-widgets/base",
      "model_module_version": "1.2.0",
      "model_name": "LayoutModel",
      "state": {
       "grid_area": "pathlist",
       "width": "auto"
      }
     },
     "04b312a92cf74e3693ced6bd3ff0c395": {
      "model_module": "@jupyter-widgets/controls",
      "model_module_version": "1.5.0",
      "model_name": "DropdownModel",
      "state": {
       "_options_labels": [
        "C:\\Users\\dominiquef\\Documents\\GIT\\RichardScottOZ\\geoapps\\docs\\content\\applications",
        "C:\\Users\\dominiquef\\Documents\\GIT\\RichardScottOZ\\geoapps\\docs\\content",
        "C:\\Users\\dominiquef\\Documents\\GIT\\RichardScottOZ\\geoapps\\docs",
        "C:\\Users\\dominiquef\\Documents\\GIT\\RichardScottOZ\\geoapps",
        "C:\\Users\\dominiquef\\Documents\\GIT\\RichardScottOZ",
        "C:\\Users\\dominiquef\\Documents\\GIT",
        "C:\\Users\\dominiquef\\Documents",
        "C:\\Users\\dominiquef",
        "C:\\Users",
        "C:\\",
        "D:\\",
        "Z:\\"
       ],
       "index": 0,
       "layout": "IPY_MODEL_5a4fe677027447f586f6cb671a0b28ca",
       "style": "IPY_MODEL_29c392d86d6e4195a18e89a7977af623"
      }
     },
     "04c4bb276f994d1981dd3cb2dd4aa268": {
      "model_module": "@jupyter-widgets/controls",
      "model_module_version": "1.5.0",
      "model_name": "HBoxModel",
      "state": {
       "children": [
        "IPY_MODEL_c7fb9576d6b14763acd4d7afa41fd8f2",
        "IPY_MODEL_05a311aa3e884a5d9a41910a212fe9c9"
       ],
       "layout": "IPY_MODEL_40163f33881e456bb3aa9eb6c004149f"
      }
     },
     "04cbb1ec60c44895af844f68dad92e00": {
      "model_module": "@jupyter-widgets/controls",
      "model_module_version": "1.5.0",
      "model_name": "DescriptionStyleModel",
      "state": {
       "description_width": ""
      }
     },
     "050874a8e972482a8c915471a7c99df8": {
      "model_module": "@jupyter-widgets/controls",
      "model_module_version": "1.5.0",
      "model_name": "TextModel",
      "state": {
       "description": "Error (%, floor)",
       "layout": "IPY_MODEL_f65024eacd564f89a41b519e8255abdb",
       "style": "IPY_MODEL_0a0343e169d64f33a905dd440f4f686b",
       "value": "0, 1"
      }
     },
     "051bc5ac40064aabbd6b5927b873e16e": {
      "model_module": "@jupyter-widgets/base",
      "model_module_version": "1.2.0",
      "model_name": "LayoutModel",
      "state": {}
     },
     "051ee3cce45d4f258bd8c22d2ed6823b": {
      "model_module": "@jupyter-widgets/controls",
      "model_module_version": "1.5.0",
      "model_name": "ButtonStyleModel",
      "state": {}
     },
     "052fdfabfbe74f15b8316382014a75dc": {
      "model_module": "@jupyter-widgets/base",
      "model_module_version": "1.2.0",
      "model_name": "LayoutModel",
      "state": {}
     },
     "053540c5cd3b40b08c82ce63dd6bdb61": {
      "model_module": "@jupyter-widgets/controls",
      "model_module_version": "1.5.0",
      "model_name": "VBoxModel",
      "state": {
       "children": [
        "IPY_MODEL_5956f5e3292044a5bc24a5fe96194ef1",
        "IPY_MODEL_e24d0b18a43246adbe35c1991fc29b59"
       ],
       "layout": "IPY_MODEL_114c9c899d0948059fb5d151b327cbde"
      }
     },
     "054699f2425a44f7a5cc52ce88558c47": {
      "model_module": "@jupyter-widgets/controls",
      "model_module_version": "1.5.0",
      "model_name": "DescriptionStyleModel",
      "state": {
       "description_width": ""
      }
     },
     "054841de9e554bf99fcd0f0dfbd89c80": {
      "model_module": "@jupyter-widgets/base",
      "model_module_version": "1.2.0",
      "model_name": "LayoutModel",
      "state": {}
     },
     "054e41fa7f62447caa0cb83506bc16ee": {
      "model_module": "@jupyter-widgets/controls",
      "model_module_version": "1.5.0",
      "model_name": "TextModel",
      "state": {
       "layout": "IPY_MODEL_62bdc16ed3544dc394f7d25655886102",
       "placeholder": "output filename",
       "style": "IPY_MODEL_edb65b5dffd24b81bb69b47e96a297c7"
      }
     },
     "0588940099f440e595c9b97cc09a4394": {
      "model_module": "@jupyter-widgets/controls",
      "model_module_version": "1.5.0",
      "model_name": "DescriptionStyleModel",
      "state": {
       "description_width": ""
      }
     },
     "05a311aa3e884a5d9a41910a212fe9c9": {
      "model_module": "@jupyter-widgets/controls",
      "model_module_version": "1.5.0",
      "model_name": "TextModel",
      "state": {
       "description": "Save to:",
       "layout": "IPY_MODEL_4da6751e2eae442ca9baa2b3b0977552",
       "style": "IPY_MODEL_6808ac9d570d42dc88361a9eb71a94b4",
       "value": "Inversion_"
      }
     },
     "05ae36b4cd124881bf50699ec3113a62": {
      "model_module": "@jupyter-widgets/controls",
      "model_module_version": "1.5.0",
      "model_name": "FloatTextModel",
      "state": {
       "description": "Number of cells:",
       "layout": "IPY_MODEL_303a308c9f824b59baefe7b1acbfd3fc",
       "step": null,
       "style": "IPY_MODEL_5014ffd01a464dbea2e0b3fddeedceef",
       "value": 25
      }
     },
     "0621cf6a6cc7484c8cf58bef360adfaa": {
      "model_module": "@jupyter-widgets/controls",
      "model_module_version": "1.5.0",
      "model_name": "ToggleButtonModel",
      "state": {
       "layout": "IPY_MODEL_cab0dec0bec04309b94abfcc7886c8e4",
       "style": "IPY_MODEL_efd63a657c34487cad1fa3b0344a0b5d"
      }
     },
     "066ecca4d1c1411bb2c98abd487e55ee": {
      "model_module": "@jupyter-widgets/controls",
      "model_module_version": "1.5.0",
      "model_name": "DescriptionStyleModel",
      "state": {
       "description_width": ""
      }
     },
     "0689b3a01dc54477857a96242afaf1c3": {
      "model_module": "@jupyter-widgets/controls",
      "model_module_version": "1.5.0",
      "model_name": "SelectModel",
      "state": {
       "_options_labels": [
        "..",
        "Temp",
        "FlinFlon.geoh5",
        "Inversion_.json",
        "MtDore_TMI.geoh5"
       ],
       "index": 2,
       "layout": "IPY_MODEL_c8b48b2fbafe4be1905c30ff040a9d9c",
       "rows": 8,
       "style": "IPY_MODEL_f608f046bd044e68961334923e2e2cfa"
      }
     },
     "0691da1fb9ea41628882646f324771bc": {
      "model_module": "@jupyter-widgets/controls",
      "model_module_version": "1.5.0",
      "model_name": "TextModel",
      "state": {
       "description": "bxx",
       "layout": "IPY_MODEL_2c4cad40304748c1a7e1f9f4a84595c0",
       "style": "IPY_MODEL_4bd812cdb00144178da319f5b2ff10ab"
      }
     },
     "0699739976f74ec7a5562669ca13ede6": {
      "model_module": "@jupyter-widgets/base",
      "model_module_version": "1.2.0",
      "model_name": "LayoutModel",
      "state": {}
     },
     "06a35c20cb594cd4b2c05814c0118888": {
      "model_module": "@jupyter-widgets/controls",
      "model_module_version": "1.5.0",
      "model_name": "DescriptionStyleModel",
      "state": {
       "description_width": ""
      }
     },
     "06c66282fe7247ddb117b71bda37346f": {
      "model_module": "@jupyter-widgets/controls",
      "model_module_version": "1.5.0",
      "model_name": "VBoxModel",
      "state": {
       "children": [
        "IPY_MODEL_5c95bc8475234d5883815703eeb7c796",
        "IPY_MODEL_560a2c787ac149aa9d85bda4cb0aa023",
        "IPY_MODEL_efbbd25fdf974c8cb3eac12ec59242c4"
       ],
       "layout": "IPY_MODEL_3e5631f18bca49e7ad974822134b33f1"
      }
     },
     "06d85f3ffe184c2d946bb13e6de4da16": {
      "model_module": "@jupyter-widgets/base",
      "model_module_version": "1.2.0",
      "model_name": "LayoutModel",
      "state": {}
     },
     "06f1a676f81b4f5e8e6842412ce5a2e7": {
      "model_module": "@jupyter-widgets/controls",
      "model_module_version": "1.5.0",
      "model_name": "DescriptionStyleModel",
      "state": {
       "description_width": ""
      }
     },
     "07253500590d41a1b9d882f9bdc7ad18": {
      "model_module": "@jupyter-widgets/base",
      "model_module_version": "1.2.0",
      "model_name": "LayoutModel",
      "state": {}
     },
     "0726541eb1ec480db141f3fb9d3fdcc3": {
      "model_module": "@jupyter-widgets/base",
      "model_module_version": "1.2.0",
      "model_name": "LayoutModel",
      "state": {
       "grid_area": "pathlist",
       "width": "auto"
      }
     },
     "0734cd3c78a34cf3bacb566ee9eb9529": {
      "model_module": "@jupyter-widgets/controls",
      "model_module_version": "1.5.0",
      "model_name": "ButtonModel",
      "state": {
       "description": "Cancel",
       "layout": "IPY_MODEL_3b1c05a9e19b474e95e27dcb4af10923",
       "style": "IPY_MODEL_9f2e0251ff074890ad158e4603ec3eb2"
      }
     },
     "0737ea4cc5634c609db3fcff5846e027": {
      "model_module": "@jupyter-widgets/base",
      "model_module_version": "1.2.0",
      "model_name": "LayoutModel",
      "state": {
       "width": "auto"
      }
     },
     "07387732eb3e465c93c28d6eeea8acc3": {
      "model_module": "@jupyter-widgets/controls",
      "model_module_version": "1.5.0",
      "model_name": "DescriptionStyleModel",
      "state": {
       "description_width": "initial"
      }
     },
     "0785f77457fa4855b26db761c3b24499": {
      "model_module": "@jupyter-widgets/controls",
      "model_module_version": "1.5.0",
      "model_name": "DescriptionStyleModel",
      "state": {
       "description_width": ""
      }
     },
     "0791240ab28e413781993c3233505c38": {
      "model_module": "@jupyter-widgets/controls",
      "model_module_version": "1.5.0",
      "model_name": "TextModel",
      "state": {
       "continuous_update": false,
       "description": "Norms p_(s, x, y, z)",
       "layout": "IPY_MODEL_72ae1682dddc461a9f60edd65c3ef2d2",
       "style": "IPY_MODEL_9856b3a35f4640269782fbb8053e7a93",
       "value": "0, 2, 2, 2"
      }
     },
     "07be3a29a7a444bbb968247d14d915a7": {
      "model_module": "@jupyter-widgets/controls",
      "model_module_version": "1.5.0",
      "model_name": "DescriptionStyleModel",
      "state": {
       "description_width": "initial"
      }
     },
     "07d376eac62140f890da488f3047a820": {
      "model_module": "@jupyter-widgets/controls",
      "model_module_version": "1.5.0",
      "model_name": "ButtonModel",
      "state": {
       "description": "Cancel",
       "layout": "IPY_MODEL_3fc56027f9cb46388fa3990a7543edc3",
       "style": "IPY_MODEL_709a2fd756cd44308a98fb7b1448b240"
      }
     },
     "07ddab06cfd04ae393ac741170763caf": {
      "model_module": "@jupyter-widgets/controls",
      "model_module_version": "1.5.0",
      "model_name": "LabelModel",
      "state": {
       "layout": "IPY_MODEL_44db5dd55eed4e64aaeddd09bb91d60b",
       "style": "IPY_MODEL_fb7a2faa64744ff78458784a0c97a006",
       "value": "Workspace"
      }
     },
     "0818d7890cbc4033b067c5c8fc2fc17f": {
      "model_module": "@jupyter-widgets/controls",
      "model_module_version": "1.5.0",
      "model_name": "VBoxModel",
      "state": {
       "children": [
        "IPY_MODEL_6b07d66c96fd4fec8f62ee052bad1e93",
        "IPY_MODEL_b033c8faebf4424ba818c332fcc5099c"
       ],
       "layout": "IPY_MODEL_0138d82e3d8e40cfa6dfada2ce67d965"
      }
     },
     "081eb1c2d6ad4c7199d56f04dff21d0e": {
      "model_module": "@jupyter-widgets/controls",
      "model_module_version": "1.5.0",
      "model_name": "DescriptionStyleModel",
      "state": {
       "description_width": ""
      }
     },
     "082594f0760b4340a50c273559fb3f5b": {
      "model_module": "@jupyter-widgets/base",
      "model_module_version": "1.2.0",
      "model_name": "LayoutModel",
      "state": {
       "width": "auto"
      }
     },
     "0829826cc56a4c6ea6b0e284f4dd7ca8": {
      "model_module": "@jupyter-widgets/base",
      "model_module_version": "1.2.0",
      "model_name": "LayoutModel",
      "state": {}
     },
     "083693116d3a45da9d0b59236756e6be": {
      "model_module": "@jupyter-widgets/base",
      "model_module_version": "1.2.0",
      "model_name": "LayoutModel",
      "state": {
       "display": "none"
      }
     },
     "083b4448cff94e35a1c2c2ddde05d9c6": {
      "model_module": "@jupyter-widgets/base",
      "model_module_version": "1.2.0",
      "model_name": "LayoutModel",
      "state": {}
     },
     "083c58dd828a48c4b27600d5a23b0a78": {
      "model_module": "@jupyter-widgets/controls",
      "model_module_version": "1.5.0",
      "model_name": "ButtonStyleModel",
      "state": {}
     },
     "084fd3052d5b4979a13b7ccad65997e0": {
      "model_module": "@jupyter-widgets/base",
      "model_module_version": "1.2.0",
      "model_name": "LayoutModel",
      "state": {}
     },
     "086570202cab4b0aafd102e0904eea85": {
      "model_module": "@jupyter-widgets/controls",
      "model_module_version": "1.5.0",
      "model_name": "TextModel",
      "state": {
       "layout": "IPY_MODEL_fcb44beb4cf8495ebd2cef43b7957b21",
       "placeholder": "output filename",
       "style": "IPY_MODEL_f66ec1cbb84249ef9069bfd265bedd9a"
      }
     },
     "086fdf2d1eb34f4db7c7da880086db7f": {
      "model_module": "@jupyter-widgets/base",
      "model_module_version": "1.2.0",
      "model_name": "LayoutModel",
      "state": {
       "grid_area": "pathlist",
       "width": "auto"
      }
     },
     "0894616761d94e41896f4108ae0dc3d7": {
      "model_module": "@jupyter-widgets/base",
      "model_module_version": "1.2.0",
      "model_name": "LayoutModel",
      "state": {}
     },
     "0897132ab2574733af21ebc53a29ed80": {
      "model_module": "@jupyter-widgets/controls",
      "model_module_version": "1.5.0",
      "model_name": "LabelModel",
      "state": {
       "layout": "IPY_MODEL_e610eb664ace497d983761ee999e7ea3",
       "style": "IPY_MODEL_d411e89eb2e04a41b730ab5cb59d8b8f",
       "value": "Octree Mesh"
      }
     },
     "089830c877024188a6c7c6e5a1d37ebc": {
      "model_module": "@jupyter-widgets/base",
      "model_module_version": "1.2.0",
      "model_name": "LayoutModel",
      "state": {}
     },
     "08e916c2baad4decaa80da15e4781611": {
      "model_module": "@jupyter-widgets/base",
      "model_module_version": "1.2.0",
      "model_name": "LayoutModel",
      "state": {
       "grid_area": "dircontent",
       "width": "auto"
      }
     },
     "08edcba01e8f47ac8b6ecbed1e5feaac": {
      "model_module": "@jupyter-widgets/controls",
      "model_module_version": "1.5.0",
      "model_name": "SelectMultipleModel",
      "state": {
       "description": "Select lines:",
       "index": [],
       "layout": "IPY_MODEL_183c39d32e374ba4b98300ba97d50518",
       "rows": 5,
       "style": "IPY_MODEL_2f35ade58bc141789fd543d024c6e748"
      }
     },
     "093d58546821484fa45fa108d26331b8": {
      "model_module": "@jupyter-widgets/controls",
      "model_module_version": "1.5.0",
      "model_name": "SliderStyleModel",
      "state": {
       "description_width": "initial"
      }
     },
     "096761b697b9480195d2ba3034ff40b0": {
      "model_module": "@jupyter-widgets/controls",
      "model_module_version": "1.5.0",
      "model_name": "CheckboxModel",
      "state": {
       "description": "GA Pro - Live link",
       "disabled": false,
       "indent": false,
       "layout": "IPY_MODEL_ef7a63a231de416aa7224300d71a6bab",
       "style": "IPY_MODEL_003d8fb8dd4c4770838103ebb8aa510b",
       "value": false
      }
     },
     "09bd9207e8b8410594694ee00285c6a8": {
      "model_module": "@jupyter-widgets/base",
      "model_module_version": "1.2.0",
      "model_name": "LayoutModel",
      "state": {}
     },
     "09cb61bca1854700806d13e913901483": {
      "model_module": "@jupyter-widgets/controls",
      "model_module_version": "1.5.0",
      "model_name": "DropdownModel",
      "state": {
       "_options_labels": [
        "C:\\Users\\dominiquef\\Documents\\GIT\\mira\\mirageoscience-apps\\docs\\content\\applications",
        "C:\\Users\\dominiquef\\Documents\\GIT\\mira\\mirageoscience-apps\\docs\\content",
        "C:\\Users\\dominiquef\\Documents\\GIT\\mira\\mirageoscience-apps\\docs",
        "C:\\Users\\dominiquef\\Documents\\GIT\\mira\\mirageoscience-apps",
        "C:\\Users\\dominiquef\\Documents\\GIT\\mira",
        "C:\\Users\\dominiquef\\Documents\\GIT",
        "C:\\Users\\dominiquef\\Documents",
        "C:\\Users\\dominiquef",
        "C:\\Users",
        "C:\\",
        "D:\\",
        "Z:\\"
       ],
       "index": 0,
       "layout": "IPY_MODEL_eb3582b9c2734ca091718fe96a0fbd6e",
       "style": "IPY_MODEL_20f583b304634df888d16f9bb1ee7ef4"
      }
     },
     "09f11065c46f492fb717279c756fb79b": {
      "model_module": "@jupyter-widgets/base",
      "model_module_version": "1.2.0",
      "model_name": "LayoutModel",
      "state": {
       "width": "auto"
      }
     },
     "09f5c1660fe64cd983319b45956ee69c": {
      "model_module": "@jupyter-widgets/base",
      "model_module_version": "1.2.0",
      "model_name": "LayoutModel",
      "state": {}
     },
     "09fb15980d8844d1a05f5757ddfb5ee5": {
      "model_module": "@jupyter-widgets/controls",
      "model_module_version": "1.5.0",
      "model_name": "DescriptionStyleModel",
      "state": {
       "description_width": "initial"
      }
     },
     "0a0343e169d64f33a905dd440f4f686b": {
      "model_module": "@jupyter-widgets/controls",
      "model_module_version": "1.5.0",
      "model_name": "DescriptionStyleModel",
      "state": {
       "description_width": "initial"
      }
     },
     "0a1797c7bd33414b85446828e8a21053": {
      "model_module": "@jupyter-widgets/base",
      "model_module_version": "1.2.0",
      "model_name": "LayoutModel",
      "state": {}
     },
     "0a8effa69f7342339305cde09f2e5a21": {
      "model_module": "@jupyter-widgets/base",
      "model_module_version": "1.2.0",
      "model_name": "LayoutModel",
      "state": {
       "display": "none",
       "grid_gap": "0px 0px",
       "grid_template_areas": "\n                    'pathlist pathlist'\n                    'dircontent dircontent'\n                    ",
       "grid_template_columns": "60% 40%",
       "grid_template_rows": "auto auto",
       "width": "500px"
      }
     },
     "0ab007407d904cf789682235f9ef2ac4": {
      "model_module": "@jupyter-widgets/controls",
      "model_module_version": "1.5.0",
      "model_name": "HTMLModel",
      "state": {
       "layout": "IPY_MODEL_57a9de14170a44c2aee501c978467cfa",
       "style": "IPY_MODEL_89512facedb24ccbaadc1b2f27d91d68"
      }
     },
     "0ad18d9c0f29489b8281ed6e69727591": {
      "model_module": "@jupyter-widgets/controls",
      "model_module_version": "1.5.0",
      "model_name": "LabelModel",
      "state": {
       "layout": "IPY_MODEL_36c072ee43f44e2abbdadeca36e3f8fe",
       "style": "IPY_MODEL_12a7b4ed93fc4cafa19fae20b2472b18",
       "value": "Monitoring folder"
      }
     },
     "0ad3498a54814852b847245a0671f064": {
      "model_module": "@jupyter-widgets/base",
      "model_module_version": "1.2.0",
      "model_name": "LayoutModel",
      "state": {
       "grid_area": "pathlist",
       "width": "auto"
      }
     },
     "0add7cce2aea47918934b2963471323a": {
      "model_module": "@jupyter-widgets/base",
      "model_module_version": "1.2.0",
      "model_name": "LayoutModel",
      "state": {
       "grid_area": "pathlist",
       "width": "auto"
      }
     },
     "0af3604512f649f1bdf569cdead9a606": {
      "model_module": "@jupyter-widgets/base",
      "model_module_version": "1.2.0",
      "model_name": "LayoutModel",
      "state": {
       "visibility": "hidden"
      }
     },
     "0af83f04cc0f4a9fba2516829718e673": {
      "model_module": "@jupyter-widgets/controls",
      "model_module_version": "1.5.0",
      "model_name": "ButtonModel",
      "state": {
       "description": "Select",
       "layout": "IPY_MODEL_b9fed83164e645ac945b5d5a0ed7a395",
       "style": "IPY_MODEL_24420428b42b4b18bab8c1a3cd70df16"
      }
     },
     "0afb996dba804ba98d5868fd7ff44b9c": {
      "model_module": "@jupyter-widgets/base",
      "model_module_version": "1.2.0",
      "model_name": "LayoutModel",
      "state": {
       "display": "none"
      }
     },
     "0b467551b7664bcbbec109e1303dc214": {
      "model_module": "@jupyter-widgets/controls",
      "model_module_version": "1.5.0",
      "model_name": "TextModel",
      "state": {
       "description": "Error (%, floor)",
       "layout": "IPY_MODEL_2a2c821ebf3041d382902fabd52427f8",
       "style": "IPY_MODEL_285bef7c13d442348af9c62a38068b77",
       "value": "0, 13.58"
      }
     },
     "0b4e2ada4d7b40d2af4664afdee5be53": {
      "model_module": "@jupyter-widgets/base",
      "model_module_version": "1.2.0",
      "model_name": "LayoutModel",
      "state": {}
     },
     "0b5cf70dda3d422d90b1bc671940283c": {
      "model_module": "@jupyter-widgets/controls",
      "model_module_version": "1.5.0",
      "model_name": "DropdownModel",
      "state": {
       "_options_labels": [
        "C:\\Users\\dominiquef\\Documents\\GIT\\RichardScottOZ\\geoapps\\docs\\content\\applications",
        "C:\\Users\\dominiquef\\Documents\\GIT\\RichardScottOZ\\geoapps\\docs\\content",
        "C:\\Users\\dominiquef\\Documents\\GIT\\RichardScottOZ\\geoapps\\docs",
        "C:\\Users\\dominiquef\\Documents\\GIT\\RichardScottOZ\\geoapps",
        "C:\\Users\\dominiquef\\Documents\\GIT\\RichardScottOZ",
        "C:\\Users\\dominiquef\\Documents\\GIT",
        "C:\\Users\\dominiquef\\Documents",
        "C:\\Users\\dominiquef",
        "C:\\Users",
        "C:\\",
        "D:\\",
        "Z:\\"
       ],
       "index": 0,
       "layout": "IPY_MODEL_ee77b0a34ea34bcb9d42ab7bcdd95cc8",
       "style": "IPY_MODEL_75553ef1f16b41a69fa7afd521da9e69"
      }
     },
     "0b8ea36fcdb44e1385850a0f865ad2d7": {
      "model_module": "@jupyter-widgets/base",
      "model_module_version": "1.2.0",
      "model_name": "LayoutModel",
      "state": {}
     },
     "0ba90ca974f347e3bc00dd6500f473aa": {
      "model_module": "@jupyter-widgets/base",
      "model_module_version": "1.2.0",
      "model_name": "LayoutModel",
      "state": {}
     },
     "0c13f605b1e44309aaeca48cf482046a": {
      "model_module": "@jupyter-widgets/controls",
      "model_module_version": "1.5.0",
      "model_name": "DescriptionStyleModel",
      "state": {
       "description_width": ""
      }
     },
     "0c564e2b0b3343ba866b7597fa4a1c38": {
      "model_module": "@jupyter-widgets/base",
      "model_module_version": "1.2.0",
      "model_name": "LayoutModel",
      "state": {}
     },
     "0c56568fbda54ceab942d1597af99341": {
      "model_module": "@jupyter-widgets/controls",
      "model_module_version": "1.5.0",
      "model_name": "DescriptionStyleModel",
      "state": {
       "description_width": ""
      }
     },
     "0c57e0053b8b4724af75cd658446a9e9": {
      "model_module": "@jupyter-widgets/controls",
      "model_module_version": "1.5.0",
      "model_name": "ButtonModel",
      "state": {
       "button_style": "danger",
       "description": "Compute",
       "icon": "check",
       "layout": "IPY_MODEL_8267492cce8549a9a1c4d01c031b4dca",
       "style": "IPY_MODEL_fcbe6e04a7d94e88af1f2fc12cb0bb35",
       "tooltip": "Run computation"
      }
     },
     "0c6a0aefd96143958697317af8f9844f": {
      "model_module": "@jupyter-widgets/base",
      "model_module_version": "1.2.0",
      "model_name": "LayoutModel",
      "state": {
       "width": "auto"
      }
     },
     "0ca4645c0fb94b38aca25cfed1c4fccc": {
      "model_module": "@jupyter-widgets/base",
      "model_module_version": "1.2.0",
      "model_name": "LayoutModel",
      "state": {}
     },
     "0cb155c0b5224e499fd33a6d896f4208": {
      "model_module": "@jupyter-widgets/controls",
      "model_module_version": "1.5.0",
      "model_name": "SliderStyleModel",
      "state": {
       "description_width": ""
      }
     },
     "0cb2a8a311c347b8994abc11432c6638": {
      "model_module": "@jupyter-widgets/controls",
      "model_module_version": "1.5.0",
      "model_name": "DescriptionStyleModel",
      "state": {
       "description_width": ""
      }
     },
     "0ccb230007974e67b87cc831a8b23b04": {
      "model_module": "@jupyter-widgets/controls",
      "model_module_version": "1.5.0",
      "model_name": "VBoxModel",
      "state": {
       "children": [
        "IPY_MODEL_cd65d944d1cb4214829164672479e8b8",
        "IPY_MODEL_32f38fa5f2f64124b0627a987dd7d1d4",
        "IPY_MODEL_9e9eb823ece54546a6fe530a151561bb"
       ],
       "layout": "IPY_MODEL_bbb5f2331bec45868a7f8896090c6118"
      }
     },
     "0d13e921ed154c3d9967521c7df2b76b": {
      "model_module": "@jupyter-widgets/base",
      "model_module_version": "1.2.0",
      "model_name": "LayoutModel",
      "state": {
       "width": "auto"
      }
     },
     "0d17ba201ef34b36a809063cb9968cc6": {
      "model_module": "@jupyter-widgets/controls",
      "model_module_version": "1.5.0",
      "model_name": "DescriptionStyleModel",
      "state": {
       "description_width": ""
      }
     },
     "0d1f21d76cf84d629db38f948cfd9195": {
      "model_module": "@jupyter-widgets/base",
      "model_module_version": "1.2.0",
      "model_name": "LayoutModel",
      "state": {}
     },
     "0d6876b9c45140bd8e946c9aa25003ac": {
      "model_module": "@jupyter-widgets/controls",
      "model_module_version": "1.5.0",
      "model_name": "DescriptionStyleModel",
      "state": {
       "description_width": ""
      }
     },
     "0d6b7f7886a34474adf57caf416d6550": {
      "model_module": "@jupyter-widgets/base",
      "model_module_version": "1.2.0",
      "model_name": "LayoutModel",
      "state": {}
     },
     "0d7aa266399747c4a8a3ae27a3e7034a": {
      "model_module": "@jupyter-widgets/controls",
      "model_module_version": "1.5.0",
      "model_name": "DescriptionStyleModel",
      "state": {
       "description_width": ""
      }
     },
     "0d81498600ad4f9a8212b9e3c5b302ac": {
      "model_module": "@jupyter-widgets/controls",
      "model_module_version": "1.5.0",
      "model_name": "TextModel",
      "state": {
       "disabled": true,
       "layout": "IPY_MODEL_3678cb8998ec43dab0692f0566165a46",
       "placeholder": "output filename",
       "style": "IPY_MODEL_b4ada5b207f44d209d707f986237cd8a"
      }
     },
     "0d8f7b46f1fa4f94b96447692bd6e1be": {
      "model_module": "@jupyter-widgets/base",
      "model_module_version": "1.2.0",
      "model_name": "LayoutModel",
      "state": {}
     },
     "0db022eafe6b4b9bb12ab814dcb4a675": {
      "model_module": "@jupyter-widgets/base",
      "model_module_version": "1.2.0",
      "model_name": "LayoutModel",
      "state": {}
     },
     "0dd391d7717d49d0a1b5c2aacd488d21": {
      "model_module": "@jupyter-widgets/controls",
      "model_module_version": "1.5.0",
      "model_name": "HTMLModel",
      "state": {
       "layout": "IPY_MODEL_a8fb5c60e5ac4987b381ddccd024a8ba",
       "style": "IPY_MODEL_bb5c36edd76c462dace4f13da51cda9f"
      }
     },
     "0dd8073a353242aaa0db76275158efc9": {
      "model_module": "@jupyter-widgets/base",
      "model_module_version": "1.2.0",
      "model_name": "LayoutModel",
      "state": {
       "display": "none",
       "width": "auto"
      }
     },
     "0de6dde67f1245b7aa7fe4655674405e": {
      "model_module": "@jupyter-widgets/controls",
      "model_module_version": "1.5.0",
      "model_name": "ButtonStyleModel",
      "state": {}
     },
     "0e17ec28eecd40a98e08a7b23049ef5d": {
      "model_module": "@jupyter-widgets/base",
      "model_module_version": "1.2.0",
      "model_name": "LayoutModel",
      "state": {}
     },
     "0e291ce5db0e4fc8a7c571075dbdbcfc": {
      "model_module": "@jupyter-widgets/base",
      "model_module_version": "1.2.0",
      "model_name": "LayoutModel",
      "state": {}
     },
     "0e2f0832677143c888956178cdec8e32": {
      "model_module": "@jupyter-widgets/base",
      "model_module_version": "1.2.0",
      "model_name": "LayoutModel",
      "state": {
       "display": "none"
      }
     },
     "0e37f15ec9254d59b00c845114b4eec2": {
      "model_module": "@jupyter-widgets/controls",
      "model_module_version": "1.5.0",
      "model_name": "VBoxModel",
      "state": {
       "children": [
        "IPY_MODEL_6b21e6bad4ee46b7add78d667275b37d",
        "IPY_MODEL_6564fc3eef7d4f889808452e1064cb81"
       ],
       "layout": "IPY_MODEL_b62fc386832246079fd254882fda5d37"
      }
     },
     "0e88fefa206c4b40968c734f7ac20501": {
      "model_module": "@jupyter-widgets/controls",
      "model_module_version": "1.5.0",
      "model_name": "LabelModel",
      "state": {
       "layout": "IPY_MODEL_129b415b95354be0befbb95488a08a4a",
       "style": "IPY_MODEL_040d18e68d3346a697237e1bea437ed8",
       "value": "Data Count: 425"
      }
     },
     "0e8af023321e4c47ba351e02aa777fa6": {
      "model_module": "@jupyter-widgets/controls",
      "model_module_version": "1.5.0",
      "model_name": "TextModel",
      "state": {
       "description": "bxz",
       "layout": "IPY_MODEL_678d196cb3694b23ac974c466820f31c",
       "style": "IPY_MODEL_1c38e179caa34fbb9f0988b9c17de44f"
      }
     },
     "0e8d6775c3f440bb9612db3008dc3036": {
      "model_module": "@jupyter-widgets/controls",
      "model_module_version": "1.5.0",
      "model_name": "ToggleButtonModel",
      "state": {
       "layout": "IPY_MODEL_0829826cc56a4c6ea6b0e284f4dd7ca8",
       "style": "IPY_MODEL_d9ace0380ef2459391ba9b46a16afdbe",
       "value": true
      }
     },
     "0eb77d9e15fb467f86c5a4123ae11344": {
      "model_module": "@jupyter-widgets/controls",
      "model_module_version": "1.5.0",
      "model_name": "DropdownModel",
      "state": {
       "_options_labels": [
        "C:\\Users\\dominiquef\\Documents\\GIT\\RichardScottOZ\\geoapps\\docs\\content\\applications",
        "C:\\Users\\dominiquef\\Documents\\GIT\\RichardScottOZ\\geoapps\\docs\\content",
        "C:\\Users\\dominiquef\\Documents\\GIT\\RichardScottOZ\\geoapps\\docs",
        "C:\\Users\\dominiquef\\Documents\\GIT\\RichardScottOZ\\geoapps",
        "C:\\Users\\dominiquef\\Documents\\GIT\\RichardScottOZ",
        "C:\\Users\\dominiquef\\Documents\\GIT",
        "C:\\Users\\dominiquef\\Documents",
        "C:\\Users\\dominiquef",
        "C:\\Users",
        "C:\\",
        "D:\\",
        "Z:\\"
       ],
       "index": 0,
       "layout": "IPY_MODEL_0add7cce2aea47918934b2963471323a",
       "style": "IPY_MODEL_69162551ecbf41a0a79e7e0fb2268498"
      }
     },
     "0ee4a3c8961a457faf763e0bf010ddc2": {
      "model_module": "@jupyter-widgets/base",
      "model_module_version": "1.2.0",
      "model_name": "LayoutModel",
      "state": {}
     },
     "0ef9e393005447c09b2268b235b5c5a5": {
      "model_module": "@jupyter-widgets/controls",
      "model_module_version": "1.5.0",
      "model_name": "DescriptionStyleModel",
      "state": {
       "description_width": ""
      }
     },
     "0f19e8548da14120851d24395ea39197": {
      "model_module": "@jupyter-widgets/controls",
      "model_module_version": "1.5.0",
      "model_name": "VBoxModel",
      "state": {
       "children": [
        "IPY_MODEL_53746da609034641bee560917096a443",
        "IPY_MODEL_81d897cfaf6043939e6f3dfeb30aa632"
       ],
       "layout": "IPY_MODEL_374b7fea19f24afdbef3480be8a37248"
      }
     },
     "0f360a7e6b924352af55417f7b3755dc": {
      "model_module": "@jupyter-widgets/controls",
      "model_module_version": "1.5.0",
      "model_name": "LabelModel",
      "state": {
       "layout": "IPY_MODEL_81ed5d9e57ce41c4b9f8c04fe20f4204",
       "style": "IPY_MODEL_cd22c3c8d4004db6b339825f7f0b955d",
       "value": "Starting effective susceptibility"
      }
     },
     "0f39687534ce413b9ffb2841bce5992c": {
      "model_module": "@jupyter-widgets/base",
      "model_module_version": "1.2.0",
      "model_name": "LayoutModel",
      "state": {}
     },
     "0f5edc8a70aa4ccf855a7783acb81967": {
      "model_module": "@jupyter-widgets/base",
      "model_module_version": "1.2.0",
      "model_name": "LayoutModel",
      "state": {}
     },
     "0f5f7a2017db480e9360150a6faa3075": {
      "model_module": "@jupyter-widgets/controls",
      "model_module_version": "1.5.0",
      "model_name": "DescriptionStyleModel",
      "state": {
       "description_width": ""
      }
     },
     "0f728632a48a499099113b6bf1cdfac7": {
      "model_module": "@jupyter-widgets/base",
      "model_module_version": "1.2.0",
      "model_name": "LayoutModel",
      "state": {
       "visibility": "hidden"
      }
     },
     "0f76e50c2a2f4a76bb54a2df5682b469": {
      "model_module": "@jupyter-widgets/base",
      "model_module_version": "1.2.0",
      "model_name": "LayoutModel",
      "state": {}
     },
     "0f8e6045ef3e4cf69c6fd7dd42575fcb": {
      "model_module": "@jupyter-widgets/base",
      "model_module_version": "1.2.0",
      "model_name": "LayoutModel",
      "state": {}
     },
     "0f9915acef0f4579ab7f0383e847da94": {
      "model_module": "@jupyter-widgets/base",
      "model_module_version": "1.2.0",
      "model_name": "LayoutModel",
      "state": {}
     },
     "0fced3c6f8e64e639810f2f916d8b17e": {
      "model_module": "@jupyter-widgets/base",
      "model_module_version": "1.2.0",
      "model_name": "LayoutModel",
      "state": {
       "grid_area": "pathlist",
       "width": "auto"
      }
     },
     "0fdc58023cbc459db9607560983c5349": {
      "model_module": "@jupyter-widgets/controls",
      "model_module_version": "1.5.0",
      "model_name": "DescriptionStyleModel",
      "state": {
       "description_width": ""
      }
     },
     "0fe692dac67b4c888ecd424fad054427": {
      "model_module": "@jupyter-widgets/base",
      "model_module_version": "1.2.0",
      "model_name": "LayoutModel",
      "state": {
       "grid_area": "filename",
       "width": "auto"
      }
     },
     "0fe7207847154386a76e43aa4d09d822": {
      "model_module": "@jupyter-widgets/controls",
      "model_module_version": "1.5.0",
      "model_name": "DescriptionStyleModel",
      "state": {
       "description_width": ""
      }
     },
     "0fee391190674449a488b50a0d5ac133": {
      "model_module": "@jupyter-widgets/base",
      "model_module_version": "1.2.0",
      "model_name": "LayoutModel",
      "state": {}
     },
     "1011b0d976b84d2da348da190898f651": {
      "model_module": "@jupyter-widgets/controls",
      "model_module_version": "1.5.0",
      "model_name": "VBoxModel",
      "state": {
       "children": [
        "IPY_MODEL_f3a5ff703624495695052f61b02c372b",
        "IPY_MODEL_12fecc1ed36347eaaff9e77b5e67ce19"
       ],
       "layout": "IPY_MODEL_57ed9928092044899c376edc11f3f30c"
      }
     },
     "103386da628c42d28fc8434892dc076b": {
      "model_module": "@jupyter-widgets/base",
      "model_module_version": "1.2.0",
      "model_name": "LayoutModel",
      "state": {}
     },
     "1069119a54534da5b3ccad12bcfa4f4b": {
      "model_module": "@jupyter-widgets/base",
      "model_module_version": "1.2.0",
      "model_name": "LayoutModel",
      "state": {
       "grid_area": "pathlist",
       "width": "auto"
      }
     },
     "10b1f4463fe94ffead159e08255ff991": {
      "model_module": "@jupyter-widgets/base",
      "model_module_version": "1.2.0",
      "model_name": "LayoutModel",
      "state": {}
     },
     "10cdbc93e2c74daeb116c768f928e89b": {
      "model_module": "@jupyter-widgets/base",
      "model_module_version": "1.2.0",
      "model_name": "LayoutModel",
      "state": {
       "display": "none"
      }
     },
     "10e02c98011e4ada8b555e6ebd056c85": {
      "model_module": "@jupyter-widgets/controls",
      "model_module_version": "1.5.0",
      "model_name": "ButtonStyleModel",
      "state": {}
     },
     "112915e869c04d69b7e6abdd3c6729bf": {
      "model_module": "@jupyter-widgets/base",
      "model_module_version": "1.2.0",
      "model_name": "LayoutModel",
      "state": {}
     },
     "1134e1b90fb24e3f9c604ac540fe4ccc": {
      "model_module": "@jupyter-widgets/controls",
      "model_module_version": "1.5.0",
      "model_name": "DescriptionStyleModel",
      "state": {
       "description_width": ""
      }
     },
     "114016669cdc45b5b356040c4feafa48": {
      "model_module": "@jupyter-widgets/controls",
      "model_module_version": "1.5.0",
      "model_name": "DescriptionStyleModel",
      "state": {
       "description_width": ""
      }
     },
     "114c9c899d0948059fb5d151b327cbde": {
      "model_module": "@jupyter-widgets/base",
      "model_module_version": "1.2.0",
      "model_name": "LayoutModel",
      "state": {}
     },
     "116ea45b6e2949ceb8ba295fa474444e": {
      "model_module": "@jupyter-widgets/controls",
      "model_module_version": "1.5.0",
      "model_name": "VBoxModel",
      "state": {
       "children": [
        "IPY_MODEL_8a90c312934540758644f61872769830",
        "IPY_MODEL_194d96c2e9f043c4b28ca0c38661afd5",
        "IPY_MODEL_9f10c8753e9a448f8db096943be86a66"
       ],
       "layout": "IPY_MODEL_5268d0354c854525b2284600566e60c9"
      }
     },
     "11823b8e2ad14e7488bbe37f4460cc98": {
      "model_module": "@jupyter-widgets/base",
      "model_module_version": "1.2.0",
      "model_name": "LayoutModel",
      "state": {}
     },
     "11bd8d1fbd2a4ee184cc6c1904fe1fe4": {
      "model_module": "@jupyter-widgets/base",
      "model_module_version": "1.2.0",
      "model_name": "LayoutModel",
      "state": {}
     },
     "11c7451056ff456eaa2f97c5ab3ce5db": {
      "model_module": "@jupyter-widgets/base",
      "model_module_version": "1.2.0",
      "model_name": "LayoutModel",
      "state": {}
     },
     "11ccefa9b7cb4215bc2ec4d845b24813": {
      "model_module": "@jupyter-widgets/base",
      "model_module_version": "1.2.0",
      "model_name": "LayoutModel",
      "state": {}
     },
     "11f4b899025345dc93a812d4d82c3776": {
      "model_module": "@jupyter-widgets/base",
      "model_module_version": "1.2.0",
      "model_name": "LayoutModel",
      "state": {}
     },
     "11f7ec289f6b4f2da76e3be0d1a6fb8b": {
      "model_module": "@jupyter-widgets/controls",
      "model_module_version": "1.5.0",
      "model_name": "DescriptionStyleModel",
      "state": {
       "description_width": ""
      }
     },
     "120f22c5038b4f8c9cfd5099f4223f57": {
      "model_module": "@jupyter-widgets/controls",
      "model_module_version": "1.5.0",
      "model_name": "HTMLModel",
      "state": {
       "layout": "IPY_MODEL_20ddfc0b14b94fcca9d62fa6f5803cfd",
       "style": "IPY_MODEL_114016669cdc45b5b356040c4feafa48"
      }
     },
     "1217a428e89b46f48df14d6bb6cf9f6a": {
      "model_module": "@jupyter-widgets/controls",
      "model_module_version": "1.5.0",
      "model_name": "VBoxModel",
      "state": {
       "children": [
        "IPY_MODEL_8b634d436b8f4eac8b7a67b864d38ac1",
        "IPY_MODEL_29dee17c2113459c9e8bb7ecec0e03e4"
       ],
       "layout": "IPY_MODEL_8ffd34daa9d64bb2a0def06556f5af3e"
      }
     },
     "12229db8b763489496964ac3600602a6": {
      "model_module": "@jupyter-widgets/controls",
      "model_module_version": "1.5.0",
      "model_name": "ButtonStyleModel",
      "state": {}
     },
     "123b345b0bdc4860936752c025207be4": {
      "model_module": "@jupyter-widgets/base",
      "model_module_version": "1.2.0",
      "model_name": "LayoutModel",
      "state": {}
     },
     "1240ac68c9544c12a7317ce822e93083": {
      "model_module": "@jupyter-widgets/controls",
      "model_module_version": "1.5.0",
      "model_name": "DescriptionStyleModel",
      "state": {
       "description_width": "initial"
      }
     },
     "1269a46cd25a49a784d6cee2df4c413e": {
      "model_module": "@jupyter-widgets/controls",
      "model_module_version": "1.5.0",
      "model_name": "ButtonStyleModel",
      "state": {}
     },
     "129b415b95354be0befbb95488a08a4a": {
      "model_module": "@jupyter-widgets/base",
      "model_module_version": "1.2.0",
      "model_name": "LayoutModel",
      "state": {}
     },
     "12a7b4ed93fc4cafa19fae20b2472b18": {
      "model_module": "@jupyter-widgets/controls",
      "model_module_version": "1.5.0",
      "model_name": "DescriptionStyleModel",
      "state": {
       "description_width": "initial"
      }
     },
     "12b3c1649c214c2aaae39fd3779cd999": {
      "model_module": "@jupyter-widgets/base",
      "model_module_version": "1.2.0",
      "model_name": "LayoutModel",
      "state": {}
     },
     "12de35da529f427494e1568975104526": {
      "model_module": "@jupyter-widgets/controls",
      "model_module_version": "1.5.0",
      "model_name": "HBoxModel",
      "state": {
       "children": [
        "IPY_MODEL_55b1f1b3b76b43feadcc21be7866fece",
        "IPY_MODEL_24e083c8480f4877a53553de8ed122f7"
       ],
       "layout": "IPY_MODEL_e667bd83031b427eb8fb867d5cd75672"
      }
     },
     "12e8625a02df4f1fbc008f598923c6da": {
      "model_module": "@jupyter-widgets/controls",
      "model_module_version": "1.5.0",
      "model_name": "TextModel",
      "state": {
       "disabled": true,
       "layout": "IPY_MODEL_2d636158f02b4623aed3334b3d6d2988",
       "placeholder": "output filename",
       "style": "IPY_MODEL_d968b9af2e1945219b207043127cf860"
      }
     },
     "12fecc1ed36347eaaff9e77b5e67ce19": {
      "model_module": "@jupyter-widgets/controls",
      "model_module_version": "1.5.0",
      "model_name": "DropdownModel",
      "state": {
       "_options_labels": [
        "",
        "--- Channels ---",
        "Airborne_Gxx",
        "Airborne_Gxy",
        "Airborne_Gxz",
        "Airborne_Gyy",
        "Airborne_Gyz",
        "Airborne_Gz",
        "Airborne_Gzz",
        "Airborne_TMI",
        "Ground_Gz",
        "Z"
       ],
       "description": "Radar (Optional):",
       "index": 0,
       "layout": "IPY_MODEL_76df71aeb88c46a38241fb675e147422",
       "style": "IPY_MODEL_3984907a1f354f92a9c7d9bd89dc49dd"
      }
     },
     "13073d28310b4cffa0539a3b92342f63": {
      "model_module": "@jupyter-widgets/base",
      "model_module_version": "1.2.0",
      "model_name": "LayoutModel",
      "state": {}
     },
     "130e66d5daf34253b674b04e3ebe2c40": {
      "model_module": "@jupyter-widgets/controls",
      "model_module_version": "1.5.0",
      "model_name": "CheckboxModel",
      "state": {
       "description": "GA Pro - Live link",
       "disabled": false,
       "indent": false,
       "layout": "IPY_MODEL_938eed7c272a4abb867de7bbafd37c3a",
       "style": "IPY_MODEL_cfdf2c9947a8477b955f1864e2d99dc1",
       "value": false
      }
     },
     "1313fb9cfb06461da6e3095e933cd066": {
      "model_module": "@jupyter-widgets/controls",
      "model_module_version": "1.5.0",
      "model_name": "CheckboxModel",
      "state": {
       "description": "GA Pro - Live link",
       "disabled": false,
       "indent": false,
       "layout": "IPY_MODEL_529d27e1395947f087255b2fa0c50bcf",
       "style": "IPY_MODEL_733fb55c8e814f25b56a8c55832d01ec",
       "value": false
      }
     },
     "1320ab6ae40d44db8e7cff84c6e98a39": {
      "model_module": "@jupyter-widgets/base",
      "model_module_version": "1.2.0",
      "model_name": "LayoutModel",
      "state": {
       "grid_area": "filename",
       "width": "auto"
      }
     },
     "132b7852d81b4da5ac8e402afb6a7400": {
      "model_module": "@jupyter-widgets/controls",
      "model_module_version": "1.5.0",
      "model_name": "DescriptionStyleModel",
      "state": {
       "description_width": ""
      }
     },
     "135232a08e96423f8651f9d58f4d8c68": {
      "model_module": "@jupyter-widgets/controls",
      "model_module_version": "1.5.0",
      "model_name": "DescriptionStyleModel",
      "state": {
       "description_width": "initial"
      }
     },
     "138f3499fa334eeda7650f5b268aa4bb": {
      "model_module": "@jupyter-widgets/controls",
      "model_module_version": "1.5.0",
      "model_name": "VBoxModel",
      "state": {
       "children": [
        "IPY_MODEL_120f22c5038b4f8c9cfd5099f4223f57",
        "IPY_MODEL_fa9258f2ce1340b491e09e391e81c99d",
        "IPY_MODEL_872e79d21cd24d0a95fe17a45e84a223"
       ],
       "layout": "IPY_MODEL_39ea32558108418798f634158c5175eb"
      }
     },
     "13a67cb60f3b4da9a7ec2c6ec7c8c1cf": {
      "model_module": "@jupyter-widgets/controls",
      "model_module_version": "1.5.0",
      "model_name": "VBoxModel",
      "state": {
       "children": [
        "IPY_MODEL_bd47041ca45541368cdd6d035780f3f6",
        "IPY_MODEL_187a1c213b3c4bd08aa91600ee54680c"
       ],
       "layout": "IPY_MODEL_26792128e2fe4e48b29968ff231c7f5a"
      }
     },
     "13ab748a679043fda79b731638053ee0": {
      "model_module": "@jupyter-widgets/base",
      "model_module_version": "1.2.0",
      "model_name": "LayoutModel",
      "state": {}
     },
     "13ad3168e8814e1f87057fda153a0f5c": {
      "model_module": "@jupyter-widgets/controls",
      "model_module_version": "1.5.0",
      "model_name": "DropdownModel",
      "state": {
       "_options_labels": [
        "C:\\Users\\dominiquef\\Documents\\GIT\\mira\\mirageoscience-apps\\docs\\content\\applications",
        "C:\\Users\\dominiquef\\Documents\\GIT\\mira\\mirageoscience-apps\\docs\\content",
        "C:\\Users\\dominiquef\\Documents\\GIT\\mira\\mirageoscience-apps\\docs",
        "C:\\Users\\dominiquef\\Documents\\GIT\\mira\\mirageoscience-apps",
        "C:\\Users\\dominiquef\\Documents\\GIT\\mira",
        "C:\\Users\\dominiquef\\Documents\\GIT",
        "C:\\Users\\dominiquef\\Documents",
        "C:\\Users\\dominiquef",
        "C:\\Users",
        "C:\\",
        "D:\\",
        "Z:\\"
       ],
       "index": 0,
       "layout": "IPY_MODEL_049a5136f8a54cd38babc268c46afb5f",
       "style": "IPY_MODEL_e0d36fe607244647a71ce55bc9a1df5c"
      }
     },
     "13bdb5432822459da3b9942936039473": {
      "model_module": "@jupyter-widgets/controls",
      "model_module_version": "1.5.0",
      "model_name": "CheckboxModel",
      "state": {
       "description": "GA Pro - Live link",
       "disabled": false,
       "indent": false,
       "layout": "IPY_MODEL_c9cd646a6f1240deb916f8c715aa6a44",
       "style": "IPY_MODEL_2b5a51d58a814379ad47454a0154933b",
       "value": false
      }
     },
     "13da95165a49409a95fcc0c06f6089b4": {
      "model_module": "@jupyter-widgets/base",
      "model_module_version": "1.2.0",
      "model_name": "LayoutModel",
      "state": {}
     },
     "13e13f94ba3443d2998d00299ee74377": {
      "model_module": "@jupyter-widgets/controls",
      "model_module_version": "1.5.0",
      "model_name": "FloatTextModel",
      "state": {
       "description": "Grid Resolution (m)",
       "layout": "IPY_MODEL_fb4ca7a58b2045f88b5ceab0cab2f689",
       "step": null,
       "style": "IPY_MODEL_7118f225048d4167894ab3146ad87e0d",
       "value": 50
      }
     },
     "13ee6eb5c0fa4025806db15311248310": {
      "model_module": "@jupyter-widgets/controls",
      "model_module_version": "1.5.0",
      "model_name": "SelectModel",
      "state": {
       "_options_labels": [
        "..",
        "images",
        "base_application.ipynb",
        "calculator.ipynb",
        "clustering.ipynb",
        "contouring.ipynb",
        "coordinate_transformation.ipynb",
        "create_isosurface.ipynb",
        "create_surface.ipynb",
        "data_interpolation.ipynb",
        "edge_detection.ipynb",
        "export.ipynb",
        "geophysical_inversion.ipynb",
        "object_data_selection.ipynb",
        "octree_mesh_creation.png",
        "peak_finder.ipynb",
        "scatter.ipynb",
        "view_selection.ipynb"
       ],
       "index": null,
       "layout": "IPY_MODEL_a6c5c0fdeca147ffb36e1e4aef154d8e",
       "rows": 8,
       "style": "IPY_MODEL_39b370dcd63b422ba49b3d1f5af8a41f"
      }
     },
     "13f45ce32a4d4feb9e553081e044b2ed": {
      "model_module": "@jupyter-widgets/controls",
      "model_module_version": "1.5.0",
      "model_name": "DescriptionStyleModel",
      "state": {
       "description_width": ""
      }
     },
     "13f729e9c8dc4f48907b35d049859c39": {
      "model_module": "@jupyter-widgets/base",
      "model_module_version": "1.2.0",
      "model_name": "LayoutModel",
      "state": {}
     },
     "14090f99d8664b83bbbe178aff5def2c": {
      "model_module": "@jupyter-widgets/controls",
      "model_module_version": "1.5.0",
      "model_name": "DescriptionStyleModel",
      "state": {
       "description_width": ""
      }
     },
     "14266968de3d4b2698bc25d4f7e42e8d": {
      "model_module": "@jupyter-widgets/controls",
      "model_module_version": "1.5.0",
      "model_name": "VBoxModel",
      "state": {
       "children": [
        "IPY_MODEL_c3bc06915fee46f087f546abb3f25b0b",
        "IPY_MODEL_83f9a3f13f0c45869c7eee562b574bdd"
       ],
       "layout": "IPY_MODEL_c1547db741de4361af19dd9e8b4c7505"
      }
     },
     "144dd43b69524df9bfbc335015af047d": {
      "model_module": "@jupyter-widgets/controls",
      "model_module_version": "1.5.0",
      "model_name": "ButtonStyleModel",
      "state": {}
     },
     "149062197a97490dae4f43e4d2e45a25": {
      "model_module": "@jupyter-widgets/controls",
      "model_module_version": "1.5.0",
      "model_name": "DescriptionStyleModel",
      "state": {
       "description_width": ""
      }
     },
     "14b4877a2229490c893fbac4e7302fdc": {
      "model_module": "@jupyter-widgets/controls",
      "model_module_version": "1.5.0",
      "model_name": "DescriptionStyleModel",
      "state": {
       "description_width": "initial"
      }
     },
     "14b6e042755646f09f1c4640bc8a8931": {
      "model_module": "@jupyter-widgets/controls",
      "model_module_version": "1.5.0",
      "model_name": "DescriptionStyleModel",
      "state": {
       "description_width": ""
      }
     },
     "14cd624a09604c0486a17b3219f06d4c": {
      "model_module": "@jupyter-widgets/controls",
      "model_module_version": "1.5.0",
      "model_name": "VBoxModel",
      "state": {
       "children": [
        "IPY_MODEL_2edc9b260b9b46aab97cfd67e20dc5ff",
        "IPY_MODEL_486768eb6cb14178955046e5660cf9fd"
       ],
       "layout": "IPY_MODEL_64fb46fea52a4a5a8d38b3403faa3b7a"
      }
     },
     "14dc088061934f79b6c3f1ee17ea0a05": {
      "model_module": "@jupyter-widgets/controls",
      "model_module_version": "1.5.0",
      "model_name": "DescriptionStyleModel",
      "state": {
       "description_width": ""
      }
     },
     "14e5e070c2194c72abfb9fd9983e88b4": {
      "model_module": "@jupyter-widgets/controls",
      "model_module_version": "1.5.0",
      "model_name": "ButtonStyleModel",
      "state": {}
     },
     "1532e11a689f433eba2243e24ea441a0": {
      "model_module": "@jupyter-widgets/controls",
      "model_module_version": "1.5.0",
      "model_name": "DescriptionStyleModel",
      "state": {
       "description_width": ""
      }
     },
     "15483cb38456434d8cfb297de292afee": {
      "model_module": "@jupyter-widgets/controls",
      "model_module_version": "1.5.0",
      "model_name": "ButtonModel",
      "state": {
       "description": "Create copy:",
       "layout": "IPY_MODEL_dc5901b02cfd4015a091e46d53f9fcb9",
       "style": "IPY_MODEL_d6b822a76b7143c1bb42046dc024595f"
      }
     },
     "154895e159164aef91eb0a273b259523": {
      "model_module": "@jupyter-widgets/base",
      "model_module_version": "1.2.0",
      "model_name": "LayoutModel",
      "state": {}
     },
     "155bd79e58784f23b7243668ec6096f4": {
      "model_module": "@jupyter-widgets/base",
      "model_module_version": "1.2.0",
      "model_name": "LayoutModel",
      "state": {}
     },
     "1570fbb35c5242119e77fd19d53eebee": {
      "model_module": "@jupyter-widgets/controls",
      "model_module_version": "1.5.0",
      "model_name": "SelectModel",
      "state": {
       "_options_labels": [
        "..",
        "dask-worker-space",
        "images"
       ],
       "index": null,
       "layout": "IPY_MODEL_28396b21f11b407abf17ef0af3809405",
       "rows": 8,
       "style": "IPY_MODEL_c3446d9e33fd4e4b99776f708b61ccf7"
      }
     },
     "1575d5f3111f4841a4d8ef7b714d693a": {
      "model_module": "@jupyter-widgets/controls",
      "model_module_version": "1.5.0",
      "model_name": "SelectModel",
      "state": {
       "_options_labels": [
        "..",
        "images"
       ],
       "index": null,
       "layout": "IPY_MODEL_ead605c1826c49ddba60e83f3bc0f02c",
       "rows": 8,
       "style": "IPY_MODEL_94fc31a818cb44f3b3f599804f971d7d"
      }
     },
     "15b79ab109d146399c4ccc05063e46fa": {
      "model_module": "@jupyter-widgets/controls",
      "model_module_version": "1.5.0",
      "model_name": "VBoxModel",
      "state": {
       "children": [
        "IPY_MODEL_35ae02ee47cc4b12ba9e7d97cb6df22f",
        "IPY_MODEL_6d19934433ee45f4b54682fd1840447b"
       ],
       "layout": "IPY_MODEL_a5963e6adf294fbc9ccb715c1deb8d85"
      }
     },
     "15c303452eaf47c9bcb9813442c77554": {
      "model_module": "@jupyter-widgets/controls",
      "model_module_version": "1.5.0",
      "model_name": "DescriptionStyleModel",
      "state": {
       "description_width": "initial"
      }
     },
     "15d59d5439f04025b67cd0f467f63cc4": {
      "model_module": "@jupyter-widgets/controls",
      "model_module_version": "1.5.0",
      "model_name": "DescriptionStyleModel",
      "state": {
       "description_width": ""
      }
     },
     "15ea86094c89406584a3bf8ab34cf7d4": {
      "model_module": "@jupyter-widgets/controls",
      "model_module_version": "1.5.0",
      "model_name": "ButtonStyleModel",
      "state": {}
     },
     "15ec95e764b34fc2b79dac60a5f2c891": {
      "model_module": "@jupyter-widgets/controls",
      "model_module_version": "1.5.0",
      "model_name": "RadioButtonsModel",
      "state": {
       "_options_labels": [
        "None",
        "Model",
        "Value"
       ],
       "index": 2,
       "layout": "IPY_MODEL_be18b144ba044fe690a1e627a9018a43",
       "style": "IPY_MODEL_3fa26ebd66584dd0a2ad0a17d5dd78c5"
      }
     },
     "1612c4406213407199e96c8c4456ddc9": {
      "model_module": "@jupyter-widgets/controls",
      "model_module_version": "1.5.0",
      "model_name": "TextModel",
      "state": {
       "description": "(dx, dy, dz) (+ve up)",
       "layout": "IPY_MODEL_31085b17e434494c8fa41ac5dfe9376d",
       "style": "IPY_MODEL_d7efca6aebd34ec88f61883826974ed0",
       "value": "0, 0, 60"
      }
     },
     "1629784b73f7454ca01f4980b7b872fa": {
      "model_module": "@jupyter-widgets/controls",
      "model_module_version": "1.5.0",
      "model_name": "VBoxModel",
      "state": {
       "children": [
        "IPY_MODEL_b1353f4f86474acfb9097c6843b9f22a",
        "IPY_MODEL_4a5091d7c24c47469156aa204743d613",
        "IPY_MODEL_f4f81aef8ec84764b78d12860e65d9c0",
        "IPY_MODEL_6a8fc788fb0b408f8f9ac5c99ec530da",
        "IPY_MODEL_c559467ec3e149779c5bee91887b2b17"
       ],
       "layout": "IPY_MODEL_95e39b8b69694f87b0b7374eaea6acec"
      }
     },
     "164591b93bd745a187790ee84f4a5da4": {
      "model_module": "@jupyter-widgets/controls",
      "model_module_version": "1.5.0",
      "model_name": "DescriptionStyleModel",
      "state": {
       "description_width": ""
      }
     },
     "167bb5377e0a4b9aadc0f3706a6c2eed": {
      "model_module": "@jupyter-widgets/base",
      "model_module_version": "1.2.0",
      "model_name": "LayoutModel",
      "state": {}
     },
     "167f562eda3340b5b6ab77fa39f3b919": {
      "model_module": "@jupyter-widgets/controls",
      "model_module_version": "1.5.0",
      "model_name": "DescriptionStyleModel",
      "state": {
       "description_width": ""
      }
     },
     "168508d492b14a7b98cf03d7c37a504d": {
      "model_module": "@jupyter-widgets/base",
      "model_module_version": "1.2.0",
      "model_name": "LayoutModel",
      "state": {}
     },
     "169e2b9d456147a8b6df50f8010a62aa": {
      "model_module": "@jupyter-widgets/controls",
      "model_module_version": "1.5.0",
      "model_name": "SelectModel",
      "state": {
       "_options_labels": [
        "..",
        "FlinFlon.geoh5",
        "MtDore_TMI.geoh5",
        "input.ui.json",
        "options_tree.json"
       ],
       "index": 1,
       "layout": "IPY_MODEL_679250808d0049298ebc90aee106170f",
       "rows": 8,
       "style": "IPY_MODEL_d7526a0a04f9418396b09372a2c52ca4"
      }
     },
     "16b2370afaa54799b9b14a32cd0f02e1": {
      "model_module": "@jupyter-widgets/controls",
      "model_module_version": "1.5.0",
      "model_name": "ButtonStyleModel",
      "state": {}
     },
     "16c14386dd884589b5ea6beba4b1fb78": {
      "model_module": "@jupyter-widgets/controls",
      "model_module_version": "1.5.0",
      "model_name": "ButtonStyleModel",
      "state": {}
     },
     "16c29548864445869af05713358f7f67": {
      "model_module": "@jupyter-widgets/controls",
      "model_module_version": "1.5.0",
      "model_name": "TextModel",
      "state": {
       "description": "Inducing Field [Amp, Inc, Dec]",
       "layout": "IPY_MODEL_d9eb50cf75e24c28a6774e490001833d",
       "style": "IPY_MODEL_c48b80d39a314c82af6a247a8468f951",
       "value": "60000, 79, 11"
      }
     },
     "171127c470c14724b1391827b1f4842a": {
      "model_module": "@jupyter-widgets/controls",
      "model_module_version": "1.5.0",
      "model_name": "DescriptionStyleModel",
      "state": {
       "description_width": ""
      }
     },
     "17672a6a254f454895914e7b07f6429e": {
      "model_module": "@jupyter-widgets/base",
      "model_module_version": "1.2.0",
      "model_name": "LayoutModel",
      "state": {}
     },
     "179601dc51cb474e97e4b3013b2f7e13": {
      "model_module": "@jupyter-widgets/controls",
      "model_module_version": "1.5.0",
      "model_name": "VBoxModel",
      "state": {
       "children": [
        "IPY_MODEL_dccfabcccdff4285826bf54fef76c12f"
       ],
       "layout": "IPY_MODEL_604b72bb54244067922c4ec6f7a99268"
      }
     },
     "17a857d2940342c799f4d2ed509bc521": {
      "model_module": "@jupyter-widgets/controls",
      "model_module_version": "1.5.0",
      "model_name": "HBoxModel",
      "state": {
       "children": [
        "IPY_MODEL_437af7e99167494aa10e17a1fa0a06a5",
        "IPY_MODEL_07d376eac62140f890da488f3047a820",
        "IPY_MODEL_03eb75440c5740db9c3104f4ac00c799"
       ],
       "layout": "IPY_MODEL_b1936034fd9043ab92a748e6e2dfef2b"
      }
     },
     "17da73a7e57f43a59e6e2adf2d96c33e": {
      "model_module": "@jupyter-widgets/base",
      "model_module_version": "1.2.0",
      "model_name": "LayoutModel",
      "state": {
       "display": "none",
       "width": "auto"
      }
     },
     "17f140d5ad444a8e8454b110c525988e": {
      "model_module": "@jupyter-widgets/base",
      "model_module_version": "1.2.0",
      "model_name": "LayoutModel",
      "state": {}
     },
     "18140c5ebb7d43e198941793142ef070": {
      "model_module": "@jupyter-widgets/controls",
      "model_module_version": "1.5.0",
      "model_name": "VBoxModel",
      "state": {
       "children": [
        "IPY_MODEL_974222caf75644a792a030e9fd67fcb2",
        "IPY_MODEL_7b53440276eb49bab3b1f82dfcdeed70",
        "IPY_MODEL_9bd89d3daee040a4b230196de923e7d1"
       ],
       "layout": "IPY_MODEL_99d0c1623d214b6d994e0f31af0da841"
      }
     },
     "182f07b02bf24b409b5363642d1f0547": {
      "model_module": "@jupyter-widgets/controls",
      "model_module_version": "1.5.0",
      "model_name": "DescriptionStyleModel",
      "state": {
       "description_width": ""
      }
     },
     "1837782aaf4d41d1b5f8d0efe6a905aa": {
      "model_module": "@jupyter-widgets/controls",
      "model_module_version": "1.5.0",
      "model_name": "DropdownModel",
      "state": {
       "_options_labels": [
        "C:\\Users\\dominiquef\\Documents\\GIT\\mira\\mirageoscience-apps\\docs\\content\\applications",
        "C:\\Users\\dominiquef\\Documents\\GIT\\mira\\mirageoscience-apps\\docs\\content",
        "C:\\Users\\dominiquef\\Documents\\GIT\\mira\\mirageoscience-apps\\docs",
        "C:\\Users\\dominiquef\\Documents\\GIT\\mira\\mirageoscience-apps",
        "C:\\Users\\dominiquef\\Documents\\GIT\\mira",
        "C:\\Users\\dominiquef\\Documents\\GIT",
        "C:\\Users\\dominiquef\\Documents",
        "C:\\Users\\dominiquef",
        "C:\\Users",
        "C:\\",
        "D:\\",
        "Z:\\"
       ],
       "index": 0,
       "layout": "IPY_MODEL_bd3e1fc1c3a1428697ed5dc42c1eb8cc",
       "style": "IPY_MODEL_7cb8e60b2e204831a68c4877b025228d"
      }
     },
     "183c39d32e374ba4b98300ba97d50518": {
      "model_module": "@jupyter-widgets/base",
      "model_module_version": "1.2.0",
      "model_name": "LayoutModel",
      "state": {}
     },
     "1847cb6ee6f34a048b43bea1d0f9e259": {
      "model_module": "@jupyter-widgets/controls",
      "model_module_version": "1.5.0",
      "model_name": "ButtonModel",
      "state": {
       "description": "Select",
       "layout": "IPY_MODEL_19069525943a40e28a781e94f5887738",
       "style": "IPY_MODEL_fa974a55264446af9267eaf2ec441ba5"
      }
     },
     "1862a21c5d864405b7c03b8f1f8a84f0": {
      "model_module": "@jupyter-widgets/base",
      "model_module_version": "1.2.0",
      "model_name": "LayoutModel",
      "state": {}
     },
     "187a1c213b3c4bd08aa91600ee54680c": {
      "model_module": "@jupyter-widgets/controls",
      "model_module_version": "1.5.0",
      "model_name": "VBoxModel",
      "state": {
       "children": [
        "IPY_MODEL_096761b697b9480195d2ba3034ff40b0"
       ],
       "layout": "IPY_MODEL_63d14eb59fcc447797ce4a1e2e286566"
      }
     },
     "1880849f0b544c6f85a0668cb587cbfb": {
      "model_module": "@jupyter-widgets/base",
      "model_module_version": "1.2.0",
      "model_name": "LayoutModel",
      "state": {
       "display": "none",
       "grid_gap": "0px 0px",
       "grid_template_areas": "\n                    'pathlist pathlist'\n                    'dircontent dircontent'\n                    ",
       "grid_template_columns": "60% 40%",
       "grid_template_rows": "auto auto",
       "width": "500px"
      }
     },
     "188d46ea3b1248569247b813b0d13fe1": {
      "model_module": "@jupyter-widgets/controls",
      "model_module_version": "1.5.0",
      "model_name": "DescriptionStyleModel",
      "state": {
       "description_width": ""
      }
     },
     "1905c6aa6e6648319013799d37e89d5c": {
      "model_module": "@jupyter-widgets/base",
      "model_module_version": "1.2.0",
      "model_name": "LayoutModel",
      "state": {}
     },
     "19069525943a40e28a781e94f5887738": {
      "model_module": "@jupyter-widgets/base",
      "model_module_version": "1.2.0",
      "model_name": "LayoutModel",
      "state": {
       "width": "auto"
      }
     },
     "193807aa175b4176ba34fc7a447937ae": {
      "model_module": "@jupyter-widgets/controls",
      "model_module_version": "1.5.0",
      "model_name": "ButtonModel",
      "state": {
       "description": "Create copy:",
       "layout": "IPY_MODEL_f4db4632a9444ed1b823fcc0378b833f",
       "style": "IPY_MODEL_7e85dba503564fd1a805edb0aa9fb3a2"
      }
     },
     "19430ca0d61d42cf9c768acaee4367ae": {
      "model_module": "@jupyter-widgets/base",
      "model_module_version": "1.2.0",
      "model_name": "LayoutModel",
      "state": {}
     },
     "194d96c2e9f043c4b28ca0c38661afd5": {
      "model_module": "@jupyter-widgets/controls",
      "model_module_version": "1.5.0",
      "model_name": "GridBoxModel",
      "state": {
       "children": [
        "IPY_MODEL_d1eb055e1e0a45a09503a389c251f56c",
        "IPY_MODEL_ab47085635fe47d49a4bdf96e1234696",
        "IPY_MODEL_d695e1eab03e4b37b6472ef542a10e1f"
       ],
       "layout": "IPY_MODEL_2951b6666d2d4e99ac60740b3228a7aa"
      }
     },
     "195659acfb484f5389fecafd72ca05c4": {
      "model_module": "@jupyter-widgets/controls",
      "model_module_version": "1.5.0",
      "model_name": "TextModel",
      "state": {
       "description": "byz",
       "layout": "IPY_MODEL_453e0d0cdac34d7fb800b64577fb0fd8",
       "style": "IPY_MODEL_d97ba5d86d3a4737a5f3048a5e4e06d9"
      }
     },
     "1964b2212db646c1b1719b073c2eff6a": {
      "model_module": "@jupyter-widgets/controls",
      "model_module_version": "1.5.0",
      "model_name": "TextModel",
      "state": {
       "continuous_update": false,
       "description": "Group:",
       "layout": "IPY_MODEL_aa8c4622609a4e6caab69cb1c5f185de",
       "style": "IPY_MODEL_f141bddec2f04f01b83b0e1f0835c706"
      }
     },
     "198e1642c66944e6bf47a8dd959e635d": {
      "model_module": "@jupyter-widgets/controls",
      "model_module_version": "1.5.0",
      "model_name": "VBoxModel",
      "state": {
       "children": [
        "IPY_MODEL_fd628fcb625741a2bf499813377ec9d7",
        "IPY_MODEL_7549aa53a5d846509544896af1eff7c6",
        "IPY_MODEL_9927c433f9ca4c7984871000721275ea"
       ],
       "layout": "IPY_MODEL_d14e8dc040c44142973fc6de3344d416"
      }
     },
     "198e23b415f24ecf9ca7f89ff4a5a5f0": {
      "model_module": "@jupyter-widgets/controls",
      "model_module_version": "1.5.0",
      "model_name": "HBoxModel",
      "state": {
       "children": [
        "IPY_MODEL_287ca01b4f074c45b7972c02f230fa7d",
        "IPY_MODEL_a13b5118e7184941bc93d972ff2a4b8b",
        "IPY_MODEL_1dadcdc7bc7848fbbe40d8b66a010c67"
       ],
       "layout": "IPY_MODEL_63c0ee38a02c4b6ea8b54eac8b72eb65"
      }
     },
     "19ce7354d55a40a58e86df5c03b651b7": {
      "model_module": "@jupyter-widgets/base",
      "model_module_version": "1.2.0",
      "model_name": "LayoutModel",
      "state": {
       "display": "none",
       "grid_gap": "0px 0px",
       "grid_template_areas": "\n                    'pathlist pathlist'\n                    'dircontent dircontent'\n                    ",
       "grid_template_columns": "60% 40%",
       "grid_template_rows": "auto auto",
       "width": "500px"
      }
     },
     "19f9bfa96cae4f74a9acb8994de38ecb": {
      "model_module": "@jupyter-widgets/controls",
      "model_module_version": "1.5.0",
      "model_name": "TextModel",
      "state": {
       "layout": "IPY_MODEL_e5eed8cb0b0948168f17930998382618",
       "placeholder": "output filename",
       "style": "IPY_MODEL_cf44398376b0461c98422632d418ac0a"
      }
     },
     "1a07cb3ed0844fe4bdbeaa06e8e51e01": {
      "model_module": "@jupyter-widgets/base",
      "model_module_version": "1.2.0",
      "model_name": "LayoutModel",
      "state": {}
     },
     "1a2d1e05191147d0919e506d98fd3e89": {
      "model_module": "@jupyter-widgets/controls",
      "model_module_version": "1.5.0",
      "model_name": "HTMLModel",
      "state": {
       "layout": "IPY_MODEL_eb98dfad599a4c4c97a9fee55b2de4e6",
       "placeholder": "",
       "style": "IPY_MODEL_43abf1c297484ec9b7c347647d5414b4",
       "value": "<span style=\"margin-left:10px; color:black;\">No file selected</span>"
      }
     },
     "1a3268f418c24c8ebbf0ec8a66e95921": {
      "model_module": "@jupyter-widgets/controls",
      "model_module_version": "1.5.0",
      "model_name": "DropdownModel",
      "state": {
       "_options_labels": [
        "",
        "fault_splay1",
        "fault_Cliff_Lake",
        "fault_Other_FlinFlon",
        "fault_Club_Lake_splay",
        "fault_Catherine_splay2",
        "fault_Birch_View",
        "fault_Dion_Lake",
        "fault_FlinFlon_splay",
        "fault_West_Mandy_Road",
        "fault_Channing",
        "fault_Ross_Lake",
        "fault_Louis_Hidden",
        "fault_Lake_View_thrust",
        "contact_Schist_Lake",
        "fault_Burley_Lake",
        "fault_Dion_Lake_splay",
        "fault_Green_Lake",
        "fault_FlinFlon",
        "fault_Catherine_splay1",
        "fault_East_Mandy_Road",
        "fault_Other_FlinFlon_South",
        "fault_Catherine_splay4",
        "contact_Stitt_Island",
        "fault_Club_Lake",
        "fault_Tailing_Pond",
        "35_Hidden_Reservoir_Hr5",
        "29_Hidden_Reservoir_Hr1a",
        "60_BlueLagoon_Fb2",
        "20_FlinFlon_Undivided_Int_Dykes_D2f",
        "04_Boundary_Intrusive_S4h",
        "53_Millrock_Rhyolite_Fm4b",
        "19_FlinFlon_Undivided_Int_Dykes_D2b",
        "18_FlinFlon_Undivided_Int_Dykes_777_D2b",
        "06_Phantom_Lake_Intrusive_S3a",
        "21_FlinFlon_Undivided_Int_Dykes_D3a",
        "43_Millrock_CHLSH_South",
        "56_Millrock_Basalt_Fm1ba",
        "17_FlinFlon_Undivided_Int_Dykes_D2",
        "32_Hidden_Reservoir_Hr1b_SW",
        "11_Missi_M3_NE",
        "13_Missi_M1",
        "07_Annabel_Granitoid_S1",
        "45_Millrock_Gabbro_South",
        "01_Late_Intrusive_S5b",
        "31_Hidden_Reservoir_Hr1c_SW",
        "52_Millrock_Rhyolite_Fm4_West_check",
        "55_Millrock_Basalt_Fm1bf",
        "34_Hidden_Reservoir_Hr2b",
        "03_Boundary_Intrusive_S4b",
        "42_Millrock_CHLSH_North",
        "26_Louis_L3",
        "23_FlinFlon_Undivided_Int_Felsic_D4g",
        "30_Hidden_Reservoir_Hr1b",
        "59_BlueLagoon_Fb3",
        "49_Millrock_MVR_Fm5d",
        "44_Millrock_Gabbro_North",
        "27_Hidden_Carlisle_Hc4",
        "22_FlinFlon_Undivided_Int_Felsic_D4e",
        "02_Boundary_Intrusive_S4a",
        "61_BlueLagoon_Fb1_NW",
        "05_Boundary_Intrusive_S4g",
        "39_Ore_Callinan",
        "38_Ore_Dan_Owens",
        "40_Ore_FlinFlon",
        "Inversion_VTEM_Model",
        "Gravity_Magnetics_drape60m",
        "CDI_VTEM_model",
        "Data_FEM_pseudo3D",
        "O2O_Interp_25m",
        "geochem",
        "Inversion_DIGHEM_Model",
        "Topography",
        "Data_TEM_pseudo3D",
        "Data_ZTEM"
       ],
       "description": "Object:",
       "index": 66,
       "layout": "IPY_MODEL_68b6dbe4a3964438b68e807fceeae9b9",
       "style": "IPY_MODEL_849619b7a05d46a1a917e995bb4b360f"
      }
     },
     "1a519fd23dd1403ab9459d8e93027da4": {
      "model_module": "@jupyter-widgets/base",
      "model_module_version": "1.2.0",
      "model_name": "LayoutModel",
      "state": {}
     },
     "1a52e4d1f4e1439eafd5993720fcd1ac": {
      "model_module": "@jupyter-widgets/controls",
      "model_module_version": "1.5.0",
      "model_name": "DescriptionStyleModel",
      "state": {
       "description_width": ""
      }
     },
     "1aa4669673a64115946be951fbbd659f": {
      "model_module": "@jupyter-widgets/controls",
      "model_module_version": "1.5.0",
      "model_name": "DescriptionStyleModel",
      "state": {
       "description_width": ""
      }
     },
     "1ab9eec556ae402492dd82c96f63f0b1": {
      "model_module": "@jupyter-widgets/controls",
      "model_module_version": "1.5.0",
      "model_name": "DescriptionStyleModel",
      "state": {
       "description_width": "initial"
      }
     },
     "1ad005b9067641aca2cc7557cc5bb88a": {
      "model_module": "@jupyter-widgets/controls",
      "model_module_version": "1.5.0",
      "model_name": "DropdownModel",
      "state": {
       "_options_labels": [
        "C:\\Users\\dominiquef\\Documents\\GIT\\RichardScottOZ\\geoapps\\docs\\content\\applications",
        "C:\\Users\\dominiquef\\Documents\\GIT\\RichardScottOZ\\geoapps\\docs\\content",
        "C:\\Users\\dominiquef\\Documents\\GIT\\RichardScottOZ\\geoapps\\docs",
        "C:\\Users\\dominiquef\\Documents\\GIT\\RichardScottOZ\\geoapps",
        "C:\\Users\\dominiquef\\Documents\\GIT\\RichardScottOZ",
        "C:\\Users\\dominiquef\\Documents\\GIT",
        "C:\\Users\\dominiquef\\Documents",
        "C:\\Users\\dominiquef",
        "C:\\Users",
        "C:\\",
        "D:\\",
        "Z:\\"
       ],
       "index": 0,
       "layout": "IPY_MODEL_4e84151a0e264ddcbfd57fe2f33f3ad1",
       "style": "IPY_MODEL_3a47795df539456890939a9e60f3e5ef"
      }
     },
     "1ae14b0075f44ca28a8efa1e2bbeaf6a": {
      "model_module": "@jupyter-widgets/base",
      "model_module_version": "1.2.0",
      "model_name": "LayoutModel",
      "state": {}
     },
     "1b1bf99608934329b0449ae7378d66ac": {
      "model_module": "@jupyter-widgets/controls",
      "model_module_version": "1.5.0",
      "model_name": "DescriptionStyleModel",
      "state": {
       "description_width": "initial"
      }
     },
     "1b28f9c95cb1471bbaf24b949d2eab8a": {
      "model_module": "@jupyter-widgets/base",
      "model_module_version": "1.2.0",
      "model_name": "LayoutModel",
      "state": {
       "width": "auto"
      }
     },
     "1b35f67bbf70498c8fb7a3bf96a3bcd3": {
      "model_module": "@jupyter-widgets/controls",
      "model_module_version": "1.5.0",
      "model_name": "DescriptionStyleModel",
      "state": {
       "description_width": ""
      }
     },
     "1b60c83fd95e4dfe9ca17714eaa92333": {
      "model_module": "@jupyter-widgets/controls",
      "model_module_version": "1.5.0",
      "model_name": "VBoxModel",
      "state": {
       "children": [
        "IPY_MODEL_4b09a383b44444249bc915aeda1f8ac7",
        "IPY_MODEL_1e33d95407514c279b531392e337ed63"
       ],
       "layout": "IPY_MODEL_bfa061d9d6dc4973a526c5737390569b"
      }
     },
     "1bb51723a86e4df395d464a48f32da30": {
      "model_module": "@jupyter-widgets/controls",
      "model_module_version": "1.5.0",
      "model_name": "DescriptionStyleModel",
      "state": {
       "description_width": "initial"
      }
     },
     "1bb7ad7af40a48da9ec0176484183d5a": {
      "model_module": "@jupyter-widgets/controls",
      "model_module_version": "1.5.0",
      "model_name": "DescriptionStyleModel",
      "state": {
       "description_width": "initial"
      }
     },
     "1bbba73a94ea42ccafb78812ba704814": {
      "model_module": "@jupyter-widgets/controls",
      "model_module_version": "1.5.0",
      "model_name": "HTMLModel",
      "state": {
       "layout": "IPY_MODEL_3a031489d47943a28f67da3d0a67fee4",
       "placeholder": "",
       "style": "IPY_MODEL_33177d6bfad7445ab286ba1d27696766",
       "value": "<span style=\"margin-left:10px; color:orange;\">C:\\Users\\dominiquef\\Documents\\GIT\\mira\\mirageoscience-apps\\assets\\FlinFlon.geoh5</span>"
      }
     },
     "1bcbebcaf5c141b889c632db07ac95d5": {
      "model_module": "@jupyter-widgets/controls",
      "model_module_version": "1.5.0",
      "model_name": "HBoxModel",
      "state": {
       "children": [
        "IPY_MODEL_3ec303ca92d84913bde47f770a7e151a",
        "IPY_MODEL_fc4d6c523fc54817b53aece00a310f0e"
       ],
       "layout": "IPY_MODEL_9278a14961074ff19fc9b047db27337e"
      }
     },
     "1bdfe4dbc5854900b9d6a206447764d1": {
      "model_module": "@jupyter-widgets/base",
      "model_module_version": "1.2.0",
      "model_name": "LayoutModel",
      "state": {}
     },
     "1bf513fa431e4ccf957c4f413801f01b": {
      "model_module": "@jupyter-widgets/controls",
      "model_module_version": "1.5.0",
      "model_name": "ButtonModel",
      "state": {
       "button_style": "danger",
       "description": "Compute",
       "icon": "check",
       "layout": "IPY_MODEL_e848ee7cf44b490f8c3553f48a0e2c34",
       "style": "IPY_MODEL_d843fb85afd74271b7a1f868b1ef2999",
       "tooltip": "Run computation"
      }
     },
     "1c17152c916f4ebb8ca084cb5fbfe7b8": {
      "model_module": "@jupyter-widgets/base",
      "model_module_version": "1.2.0",
      "model_name": "LayoutModel",
      "state": {}
     },
     "1c38e179caa34fbb9f0988b9c17de44f": {
      "model_module": "@jupyter-widgets/controls",
      "model_module_version": "1.5.0",
      "model_name": "DescriptionStyleModel",
      "state": {
       "description_width": "initial"
      }
     },
     "1c66c5ff31a748ea82be3a22f725f2a1": {
      "model_module": "@jupyter-widgets/controls",
      "model_module_version": "1.5.0",
      "model_name": "DescriptionStyleModel",
      "state": {
       "description_width": ""
      }
     },
     "1c922372a2c24248896c6e0c33ffaa53": {
      "model_module": "@jupyter-widgets/controls",
      "model_module_version": "1.5.0",
      "model_name": "ButtonModel",
      "state": {
       "description": "Select",
       "layout": "IPY_MODEL_b2a9036e896b41879bcaaec9a9575e50",
       "style": "IPY_MODEL_42bf312c45f2412f9c99020c192d903a"
      }
     },
     "1cda22c88eac483094b2a16b1a42a2ce": {
      "model_module": "@jupyter-widgets/base",
      "model_module_version": "1.2.0",
      "model_name": "LayoutModel",
      "state": {}
     },
     "1d03a3dd001e4611b1f24d52bd541555": {
      "model_module": "@jupyter-widgets/controls",
      "model_module_version": "1.5.0",
      "model_name": "HTMLModel",
      "state": {
       "layout": "IPY_MODEL_649750b940c24dc380551b3c5232ae6f",
       "placeholder": "",
       "style": "IPY_MODEL_8299241fcf4049d4b325840de4cd6b1b",
       "value": "<span style=\"margin-left:10px; color:black;\">No file selected</span>"
      }
     },
     "1d0edc89c4ff42cf804948fce881dfb8": {
      "model_module": "@jupyter-widgets/controls",
      "model_module_version": "1.5.0",
      "model_name": "VBoxModel",
      "state": {
       "children": [
        "IPY_MODEL_7359166fd0124861a9a07fe512215243",
        "IPY_MODEL_4583294ac8d140d6871fc95874d025c9",
        "IPY_MODEL_17a857d2940342c799f4d2ed509bc521"
       ],
       "layout": "IPY_MODEL_613c3095ac41483e9f0d0c5e8d9c711b"
      }
     },
     "1d155e78220346789e77efb012c2bcce": {
      "model_module": "@jupyter-widgets/controls",
      "model_module_version": "1.5.0",
      "model_name": "VBoxModel",
      "state": {
       "children": [
        "IPY_MODEL_fa8158615c1b4911b25661b0acae86af",
        "IPY_MODEL_568847ccf6844604add09e65040f04d5"
       ],
       "layout": "IPY_MODEL_812863c96a494a028f795f1d531359ec"
      }
     },
     "1d47f08f7b694033b7151774450a6754": {
      "model_module": "@jupyter-widgets/controls",
      "model_module_version": "1.5.0",
      "model_name": "SelectModel",
      "state": {
       "_options_labels": [
        "..",
        "dask-worker-space",
        "images"
       ],
       "index": null,
       "layout": "IPY_MODEL_23529b1a2dcc498d99bc6f6230cce402",
       "rows": 8,
       "style": "IPY_MODEL_164591b93bd745a187790ee84f4a5da4"
      }
     },
     "1d4e9b1094774c6faef3243e3cbf0e9b": {
      "model_module": "@jupyter-widgets/controls",
      "model_module_version": "1.5.0",
      "model_name": "CheckboxModel",
      "state": {
       "description": "Active",
       "disabled": false,
       "layout": "IPY_MODEL_eb1a2b3ff5454229845e8a580b9ab32e",
       "style": "IPY_MODEL_f30049531df04a8a8866845341848433",
       "value": true
      }
     },
     "1d545815fe4646e2b94d08be8c778b3f": {
      "model_module": "@jupyter-widgets/controls",
      "model_module_version": "1.5.0",
      "model_name": "DescriptionStyleModel",
      "state": {
       "description_width": ""
      }
     },
     "1d6e90899943497d8831e743397d101f": {
      "model_module": "@jupyter-widgets/controls",
      "model_module_version": "1.5.0",
      "model_name": "DescriptionStyleModel",
      "state": {
       "description_width": ""
      }
     },
     "1dadcdc7bc7848fbbe40d8b66a010c67": {
      "model_module": "@jupyter-widgets/controls",
      "model_module_version": "1.5.0",
      "model_name": "HTMLModel",
      "state": {
       "layout": "IPY_MODEL_afd857408a304f0ab7d29e8346fc5e98",
       "placeholder": "",
       "style": "IPY_MODEL_9ad4df3b48534db793faa39d27da8996",
       "value": "<span style=\"margin-left:10px; color:black;\">No file selected</span>"
      }
     },
     "1dc546c7e0744d7f832808f40df6dca2": {
      "model_module": "@jupyter-widgets/base",
      "model_module_version": "1.2.0",
      "model_name": "LayoutModel",
      "state": {
       "width": "auto"
      }
     },
     "1e33d95407514c279b531392e337ed63": {
      "model_module": "@jupyter-widgets/controls",
      "model_module_version": "1.5.0",
      "model_name": "VBoxModel",
      "state": {
       "children": [
        "IPY_MODEL_217f623b097f4c298606f8f14d339615",
        "IPY_MODEL_b147f94a857a4e7285d78f5c83867ad2"
       ],
       "layout": "IPY_MODEL_ae46cbd9db56410e94c517ab14188c15"
      }
     },
     "1e3a81da7a374f2d86a6f9aa2390efba": {
      "model_module": "@jupyter-widgets/controls",
      "model_module_version": "1.5.0",
      "model_name": "ButtonStyleModel",
      "state": {}
     },
     "1e527aed02ab4fbf93bd0c369a659465": {
      "model_module": "@jupyter-widgets/base",
      "model_module_version": "1.2.0",
      "model_name": "LayoutModel",
      "state": {}
     },
     "1e6ff2afacb345a084c0da39815f6c09": {
      "model_module": "@jupyter-widgets/controls",
      "model_module_version": "1.5.0",
      "model_name": "DescriptionStyleModel",
      "state": {
       "description_width": ""
      }
     },
     "1e854b2d83b14a959131a8dc8e71aa06": {
      "model_module": "@jupyter-widgets/controls",
      "model_module_version": "1.5.0",
      "model_name": "ButtonStyleModel",
      "state": {}
     },
     "1e9049d674fe460396d8999280b59c72": {
      "model_module": "@jupyter-widgets/base",
      "model_module_version": "1.2.0",
      "model_name": "LayoutModel",
      "state": {
       "visibility": "visible"
      }
     },
     "1eb2f744a5624f02bcea1d59495ce78f": {
      "model_module": "@jupyter-widgets/controls",
      "model_module_version": "1.5.0",
      "model_name": "DropdownModel",
      "state": {
       "_options_labels": [
        "C:\\Users\\dominiquef\\Documents\\GIT\\mira\\mirageoscience-apps\\docs\\content\\applications",
        "C:\\Users\\dominiquef\\Documents\\GIT\\mira\\mirageoscience-apps\\docs\\content",
        "C:\\Users\\dominiquef\\Documents\\GIT\\mira\\mirageoscience-apps\\docs",
        "C:\\Users\\dominiquef\\Documents\\GIT\\mira\\mirageoscience-apps",
        "C:\\Users\\dominiquef\\Documents\\GIT\\mira",
        "C:\\Users\\dominiquef\\Documents\\GIT",
        "C:\\Users\\dominiquef\\Documents",
        "C:\\Users\\dominiquef",
        "C:\\Users",
        "C:\\",
        "D:\\",
        "Z:\\"
       ],
       "index": 0,
       "layout": "IPY_MODEL_5a89f938ec684b65998eaedf65871de5",
       "style": "IPY_MODEL_a5993bdf0a9847d6b8e0a5606ae991bb"
      }
     },
     "1f7118bd3e57468e9782fe3d4aad98f7": {
      "model_module": "@jupyter-widgets/base",
      "model_module_version": "1.2.0",
      "model_name": "LayoutModel",
      "state": {
       "width": "auto"
      }
     },
     "1f9a9ed0c2584db1bd0e31bfecaf68f6": {
      "model_module": "@jupyter-widgets/controls",
      "model_module_version": "1.5.0",
      "model_name": "ToggleButtonModel",
      "state": {
       "layout": "IPY_MODEL_2a887191e8ab42e7947a390d9107a7a0",
       "style": "IPY_MODEL_6e7ededc1e9e4122ba08c57716c1063c",
       "value": true
      }
     },
     "1fac8a2077fe4c019d9b659f469af67c": {
      "model_module": "@jupyter-widgets/controls",
      "model_module_version": "1.5.0",
      "model_name": "HBoxModel",
      "state": {
       "children": [
        "IPY_MODEL_43dfc39eeaaf4f3cbc14e68782c6a103",
        "IPY_MODEL_4f5c531c410348c28b5d0771aba36798",
        "IPY_MODEL_d5a24ef4daf14eb294c76fa46acb8a93"
       ],
       "layout": "IPY_MODEL_777d13992a6c4d9db31a0d3860b37576"
      }
     },
     "1fc563ff9fb5460485de5ea7a8d1b15b": {
      "model_module": "@jupyter-widgets/base",
      "model_module_version": "1.2.0",
      "model_name": "LayoutModel",
      "state": {
       "display": "none",
       "width": "auto"
      }
     },
     "1fcb75ea84c04964ab8cc0b6664da5c1": {
      "model_module": "@jupyter-widgets/base",
      "model_module_version": "1.2.0",
      "model_name": "LayoutModel",
      "state": {}
     },
     "1fddc6dd58794cf8bd2e3a0b4d39525d": {
      "model_module": "@jupyter-widgets/controls",
      "model_module_version": "1.5.0",
      "model_name": "DescriptionStyleModel",
      "state": {
       "description_width": "initial"
      }
     },
     "1fde9b24e0e741719edfeafd6e9fda8f": {
      "model_module": "@jupyter-widgets/controls",
      "model_module_version": "1.5.0",
      "model_name": "VBoxModel",
      "state": {
       "children": [
        "IPY_MODEL_69e63d34b2fe49bfa27a1200e16fb9ea",
        "IPY_MODEL_2381ac3080a04e81b3ae6403ec6c9dd6",
        "IPY_MODEL_c532b4dbbeae48afa1ef9cae205998b5",
        "IPY_MODEL_f5f4b89b644c491f9b9bb45a1bba9860",
        "IPY_MODEL_9a196bfbecd8463cb58f6bb7929693f9"
       ],
       "layout": "IPY_MODEL_09bd9207e8b8410594694ee00285c6a8"
      }
     },
     "20058a5efddb402e923ca9cdcbe953d4": {
      "model_module": "@jupyter-widgets/base",
      "model_module_version": "1.2.0",
      "model_name": "LayoutModel",
      "state": {
       "grid_area": "dircontent",
       "width": "auto"
      }
     },
     "20146b5c397f4440aff190fa6c0f0479": {
      "model_module": "@jupyter-widgets/controls",
      "model_module_version": "1.5.0",
      "model_name": "DescriptionStyleModel",
      "state": {
       "description_width": "initial"
      }
     },
     "201dfaf0597b4bbb9f75cb8edbad5fca": {
      "model_module": "@jupyter-widgets/base",
      "model_module_version": "1.2.0",
      "model_name": "LayoutModel",
      "state": {}
     },
     "20258cbd098140bfac6d18ff44b9b5a7": {
      "model_module": "@jupyter-widgets/base",
      "model_module_version": "1.2.0",
      "model_name": "LayoutModel",
      "state": {
       "display": "none",
       "grid_area": "filename",
       "width": "auto"
      }
     },
     "204a2178f1be4312b78972c4d055cab6": {
      "model_module": "@jupyter-widgets/controls",
      "model_module_version": "1.5.0",
      "model_name": "ButtonModel",
      "state": {
       "description": "Select",
       "layout": "IPY_MODEL_c2b85d65df364350863ac92204d8f33b",
       "style": "IPY_MODEL_eb2175fe722e42c4985b2179c6e53c41"
      }
     },
     "20508e31ae8f4d42816ddd5cfa9acebc": {
      "model_module": "@jupyter-widgets/base",
      "model_module_version": "1.2.0",
      "model_name": "LayoutModel",
      "state": {
       "display": "none",
       "width": "auto"
      }
     },
     "206e1a4bc3c14f6a8c830358be19edfd": {
      "model_module": "@jupyter-widgets/controls",
      "model_module_version": "1.5.0",
      "model_name": "DropdownModel",
      "state": {
       "_options_labels": [
        "",
        "--- Channels ---",
        "Airborne_Gxx",
        "Airborne_Gxy",
        "Airborne_Gxz",
        "Airborne_Gyy",
        "Airborne_Gyz",
        "Airborne_Gz",
        "Airborne_Gzz",
        "Airborne_TMI",
        "Ground_Gz",
        "Z"
       ],
       "description": "Channel <=> Data:",
       "index": 11,
       "layout": "IPY_MODEL_794610df59634d7192654d7ce882dcbd",
       "style": "IPY_MODEL_5bea7497b24c41df9987b86f46d85191"
      }
     },
     "207f01bc7a1a4f3c84685bb74341e84f": {
      "model_module": "@jupyter-widgets/base",
      "model_module_version": "1.2.0",
      "model_name": "LayoutModel",
      "state": {}
     },
     "20a43db676664679a4c01870475afb14": {
      "model_module": "@jupyter-widgets/controls",
      "model_module_version": "1.5.0",
      "model_name": "DescriptionStyleModel",
      "state": {
       "description_width": "initial"
      }
     },
     "20ace14200c2486cadbdbd581869f56b": {
      "model_module": "@jupyter-widgets/controls",
      "model_module_version": "1.5.0",
      "model_name": "ToggleButtonModel",
      "state": {
       "layout": "IPY_MODEL_f81776752ddb4417bc91820230c4dac0",
       "style": "IPY_MODEL_15d59d5439f04025b67cd0f467f63cc4",
       "value": true
      }
     },
     "20b571e8d12143abbe7124087f08a5d2": {
      "model_module": "@jupyter-widgets/base",
      "model_module_version": "1.2.0",
      "model_name": "LayoutModel",
      "state": {
       "visibility": "hidden"
      }
     },
     "20ddfc0b14b94fcca9d62fa6f5803cfd": {
      "model_module": "@jupyter-widgets/base",
      "model_module_version": "1.2.0",
      "model_name": "LayoutModel",
      "state": {
       "display": "none"
      }
     },
     "20ee1d289bb842bfa5e9783376dfa7be": {
      "model_module": "@jupyter-widgets/controls",
      "model_module_version": "1.5.0",
      "model_name": "DescriptionStyleModel",
      "state": {
       "description_width": ""
      }
     },
     "20f583b304634df888d16f9bb1ee7ef4": {
      "model_module": "@jupyter-widgets/controls",
      "model_module_version": "1.5.0",
      "model_name": "DescriptionStyleModel",
      "state": {
       "description_width": ""
      }
     },
     "213431057e814b23831795fe6a91c3c4": {
      "model_module": "@jupyter-widgets/controls",
      "model_module_version": "1.5.0",
      "model_name": "GridBoxModel",
      "state": {
       "children": [
        "IPY_MODEL_6f8adf65bd82452a8bed842bb0728148",
        "IPY_MODEL_7f90b8299ce74b2eb00e0bf0c2cf26ba",
        "IPY_MODEL_488553933d4e4218956926bfc9dc67c5"
       ],
       "layout": "IPY_MODEL_6831c3e4e9204fed8f4f55efd9f3c8c7"
      }
     },
     "214f2eaaaae3465c9808463299559309": {
      "model_module": "@jupyter-widgets/base",
      "model_module_version": "1.2.0",
      "model_name": "LayoutModel",
      "state": {}
     },
     "217f623b097f4c298606f8f14d339615": {
      "model_module": "@jupyter-widgets/controls",
      "model_module_version": "1.5.0",
      "model_name": "VBoxModel",
      "state": {
       "children": [
        "IPY_MODEL_13e13f94ba3443d2998d00299ee74377",
        "IPY_MODEL_ca721dc992b3466197f2c866722eacac"
       ],
       "layout": "IPY_MODEL_4187ba3840094db68f19e8f2f53bc34f"
      }
     },
     "21967e9e947e4fd8bb2a6c24423e4f09": {
      "model_module": "@jupyter-widgets/controls",
      "model_module_version": "1.5.0",
      "model_name": "VBoxModel",
      "state": {
       "children": [
        "IPY_MODEL_f8a4f76f476c4c55b21e43d27d85094b",
        "IPY_MODEL_8baa9f1d326f4fd1b533896b66cb32e9"
       ],
       "layout": "IPY_MODEL_04179467d33e41ef85cae986a3d7ad1f"
      }
     },
     "21a290cd437a475f8087b4b549180826": {
      "model_module": "@jupyter-widgets/base",
      "model_module_version": "1.2.0",
      "model_name": "LayoutModel",
      "state": {
       "display": "none",
       "grid_gap": "0px 0px",
       "grid_template_areas": "\n                    'pathlist filename'\n                    'dircontent dircontent'\n                    ",
       "grid_template_columns": "60% 40%",
       "grid_template_rows": "auto auto",
       "width": "500px"
      }
     },
     "21ebc12b07bc4d8e9ebf92c88fc84ca5": {
      "model_module": "@jupyter-widgets/base",
      "model_module_version": "1.2.0",
      "model_name": "LayoutModel",
      "state": {}
     },
     "2203ba261e5d439b92c79ba1f190e188": {
      "model_module": "@jupyter-widgets/controls",
      "model_module_version": "1.5.0",
      "model_name": "DescriptionStyleModel",
      "state": {
       "description_width": ""
      }
     },
     "2230bd415ccd454da247f6df2ede7b33": {
      "model_module": "@jupyter-widgets/base",
      "model_module_version": "1.2.0",
      "model_name": "LayoutModel",
      "state": {
       "visibility": "hidden"
      }
     },
     "2281243570b24d5c8f854b9eaa341fb6": {
      "model_module": "@jupyter-widgets/base",
      "model_module_version": "1.2.0",
      "model_name": "LayoutModel",
      "state": {
       "display": "none"
      }
     },
     "228e8b4086b14c109d5bd739dc6d9671": {
      "model_module": "@jupyter-widgets/controls",
      "model_module_version": "1.5.0",
      "model_name": "TextModel",
      "state": {
       "description": "bzz",
       "layout": "IPY_MODEL_cebfb1206def4eb8821af79222e2597a",
       "style": "IPY_MODEL_4df4290c19264680a1757ba0456b4735"
      }
     },
     "22997b38b6fd48068cbe47811ce4aabb": {
      "model_module": "@jupyter-widgets/controls",
      "model_module_version": "1.5.0",
      "model_name": "DescriptionStyleModel",
      "state": {
       "description_width": ""
      }
     },
     "22a98e81a30e4725a6199f6133cad056": {
      "model_module": "@jupyter-widgets/base",
      "model_module_version": "1.2.0",
      "model_name": "LayoutModel",
      "state": {}
     },
     "22c3e371586a4ede9e636146fc3345e9": {
      "model_module": "@jupyter-widgets/base",
      "model_module_version": "1.2.0",
      "model_name": "LayoutModel",
      "state": {}
     },
     "230e53d92a9445d19f9871ea76e5b46a": {
      "model_module": "@jupyter-widgets/controls",
      "model_module_version": "1.5.0",
      "model_name": "VBoxModel",
      "state": {
       "children": [
        "IPY_MODEL_59af44a95a1446d78359de60f95e5abf",
        "IPY_MODEL_bb025f807f6348c2a14469dc38233c9c"
       ],
       "layout": "IPY_MODEL_7373112081784e4e8f65e8d9bfb7089c"
      }
     },
     "232ac6ca422d421cba7f2ff75eba9c18": {
      "model_module": "@jupyter-widgets/controls",
      "model_module_version": "1.5.0",
      "model_name": "ButtonStyleModel",
      "state": {}
     },
     "2334c972321e4317a9af354ed6bce93e": {
      "model_module": "@jupyter-widgets/base",
      "model_module_version": "1.2.0",
      "model_name": "LayoutModel",
      "state": {}
     },
     "23529b1a2dcc498d99bc6f6230cce402": {
      "model_module": "@jupyter-widgets/base",
      "model_module_version": "1.2.0",
      "model_name": "LayoutModel",
      "state": {
       "grid_area": "dircontent",
       "width": "auto"
      }
     },
     "2381ac3080a04e81b3ae6403ec6c9dd6": {
      "model_module": "@jupyter-widgets/controls",
      "model_module_version": "1.5.0",
      "model_name": "TextModel",
      "state": {
       "description": "bxy",
       "layout": "IPY_MODEL_b39ea5f3f024488b9bd395b11b8937fa",
       "style": "IPY_MODEL_a71e241dca54433396812f37f38dc6db"
      }
     },
     "238565893367481c9a90b3ba16c34549": {
      "model_module": "@jupyter-widgets/controls",
      "model_module_version": "1.5.0",
      "model_name": "LabelModel",
      "state": {
       "layout": "IPY_MODEL_0312e3b28d724f78b44bf89b28e51ac7",
       "style": "IPY_MODEL_03fa40b522644ea89185e3d2fa5ef9b6",
       "value": "Starting effective susceptibility"
      }
     },
     "23a2c10d785148d691d41670b09379fb": {
      "model_module": "@jupyter-widgets/base",
      "model_module_version": "1.2.0",
      "model_name": "LayoutModel",
      "state": {}
     },
     "23ba21c09f5b41da9729463588e3e942": {
      "model_module": "@jupyter-widgets/controls",
      "model_module_version": "1.5.0",
      "model_name": "DescriptionStyleModel",
      "state": {
       "description_width": ""
      }
     },
     "23bac64059c44f1ca0fa259ef2125f99": {
      "model_module": "@jupyter-widgets/controls",
      "model_module_version": "1.5.0",
      "model_name": "DescriptionStyleModel",
      "state": {
       "description_width": ""
      }
     },
     "23e872c9826248cfab7958a910746629": {
      "model_module": "@jupyter-widgets/controls",
      "model_module_version": "1.5.0",
      "model_name": "CheckboxModel",
      "state": {
       "description": "GA Pro - Live link",
       "disabled": false,
       "indent": false,
       "layout": "IPY_MODEL_21ebc12b07bc4d8e9ebf92c88fc84ca5",
       "style": "IPY_MODEL_464a65328ceb4f86874625e4ce02fb6a",
       "value": false
      }
     },
     "241ceae3a01d4bb9822aa1b45ff4bbf9": {
      "model_module": "@jupyter-widgets/controls",
      "model_module_version": "1.5.0",
      "model_name": "GridBoxModel",
      "state": {
       "children": [
        "IPY_MODEL_907161d40ae3447085564655cd4b2299",
        "IPY_MODEL_694f06f5dbbc41cfbbd86e86b11ef14d",
        "IPY_MODEL_77d04e514d54493c97927fbd46947f3c"
       ],
       "layout": "IPY_MODEL_5a0cfc36849b46fca3eb2117d11e7f57"
      }
     },
     "24420428b42b4b18bab8c1a3cd70df16": {
      "model_module": "@jupyter-widgets/controls",
      "model_module_version": "1.5.0",
      "model_name": "ButtonStyleModel",
      "state": {}
     },
     "2469d2a68e7f4f89b7d8ee102ec318b7": {
      "model_module": "@jupyter-widgets/base",
      "model_module_version": "1.2.0",
      "model_name": "LayoutModel",
      "state": {
       "width": "100%"
      }
     },
     "24984e99c3124b378647e8c72996267b": {
      "model_module": "@jupyter-widgets/controls",
      "model_module_version": "1.5.0",
      "model_name": "DescriptionStyleModel",
      "state": {
       "description_width": "initial"
      }
     },
     "24adf4871f514e23a7c4d4c36d91647f": {
      "model_module": "@jupyter-widgets/base",
      "model_module_version": "1.2.0",
      "model_name": "LayoutModel",
      "state": {}
     },
     "24c1887d106e429da989a23c1fe04ec3": {
      "model_module": "@jupyter-widgets/controls",
      "model_module_version": "1.5.0",
      "model_name": "DescriptionStyleModel",
      "state": {
       "description_width": ""
      }
     },
     "24c91ea63cc8462a8afbf1a77ac3e057": {
      "model_module": "@jupyter-widgets/controls",
      "model_module_version": "1.5.0",
      "model_name": "DescriptionStyleModel",
      "state": {
       "description_width": "initial"
      }
     },
     "24e083c8480f4877a53553de8ed122f7": {
      "model_module": "@jupyter-widgets/controls",
      "model_module_version": "1.5.0",
      "model_name": "ButtonModel",
      "state": {
       "description": "Create copy:",
       "layout": "IPY_MODEL_0699739976f74ec7a5562669ca13ede6",
       "style": "IPY_MODEL_6b5fef27ca2442648728322a43627bc9"
      }
     },
     "24fa86a6632e4d59a99175bf44632fb5": {
      "model_module": "@jupyter-widgets/controls",
      "model_module_version": "1.5.0",
      "model_name": "DescriptionStyleModel",
      "state": {
       "description_width": ""
      }
     },
     "2502c4330b1b406eb2d89adc3f360539": {
      "model_module": "@jupyter-widgets/controls",
      "model_module_version": "1.5.0",
      "model_name": "ButtonStyleModel",
      "state": {}
     },
     "250db4e121804b18a7b92635d95c1e64": {
      "model_module": "@jupyter-widgets/controls",
      "model_module_version": "1.5.0",
      "model_name": "DescriptionStyleModel",
      "state": {
       "description_width": ""
      }
     },
     "252878a45708467dac7ae33a880da488": {
      "model_module": "@jupyter-widgets/base",
      "model_module_version": "1.2.0",
      "model_name": "LayoutModel",
      "state": {}
     },
     "253017c63711467e8406c5a8db44ad9f": {
      "model_module": "@jupyter-widgets/base",
      "model_module_version": "1.2.0",
      "model_name": "LayoutModel",
      "state": {
       "width": "auto"
      }
     },
     "25339a54f3204aa4adfb106dc8f5371c": {
      "model_module": "@jupyter-widgets/base",
      "model_module_version": "1.2.0",
      "model_name": "LayoutModel",
      "state": {}
     },
     "25d15ec650434b2281b584d2a16a3a68": {
      "model_module": "@jupyter-widgets/controls",
      "model_module_version": "1.5.0",
      "model_name": "VBoxModel",
      "state": {
       "children": [
        "IPY_MODEL_3cc35ceeb8104a53a67761d2528a6ca9",
        "IPY_MODEL_37ff912f608c46a6911134d5fe6879a3",
        "IPY_MODEL_5931902348bf4797945faa5be1a29bbf"
       ],
       "layout": "IPY_MODEL_c2aa364c1c2d4e8e945ef838c2771d9b"
      }
     },
     "25d4762372964fb194dc66c0d529bc4b": {
      "model_module": "@jupyter-widgets/base",
      "model_module_version": "1.2.0",
      "model_name": "LayoutModel",
      "state": {
       "width": "auto"
      }
     },
     "261e8706b4174d66853c5acd94fadbe2": {
      "model_module": "@jupyter-widgets/base",
      "model_module_version": "1.2.0",
      "model_name": "LayoutModel",
      "state": {}
     },
     "2636470214064ea4968745db7f97ffda": {
      "model_module": "@jupyter-widgets/controls",
      "model_module_version": "1.5.0",
      "model_name": "DescriptionStyleModel",
      "state": {
       "description_width": ""
      }
     },
     "2637a03535e44091a5f667ad576a2c21": {
      "model_module": "@jupyter-widgets/controls",
      "model_module_version": "1.5.0",
      "model_name": "VBoxModel",
      "state": {
       "children": [
        "IPY_MODEL_4db54e4c2f9148be80dc45c60eeb65e6",
        "IPY_MODEL_4dd6ddce2cfb486fb49e08a327e7f921"
       ],
       "layout": "IPY_MODEL_69a66e60a4f04184bb2bbf085b2d2e7e"
      }
     },
     "26481802d05b4326996e791b3e75d894": {
      "model_module": "@jupyter-widgets/controls",
      "model_module_version": "1.5.0",
      "model_name": "DescriptionStyleModel",
      "state": {
       "description_width": ""
      }
     },
     "2671cb2dca2a43c7b3e43dd88e0bc4d0": {
      "model_module": "@jupyter-widgets/base",
      "model_module_version": "1.2.0",
      "model_name": "LayoutModel",
      "state": {}
     },
     "26792128e2fe4e48b29968ff231c7f5a": {
      "model_module": "@jupyter-widgets/base",
      "model_module_version": "1.2.0",
      "model_name": "LayoutModel",
      "state": {}
     },
     "26a7cf1ece9146328f07e3d06ff0d0b8": {
      "model_module": "@jupyter-widgets/controls",
      "model_module_version": "1.5.0",
      "model_name": "RadioButtonsModel",
      "state": {
       "_options_labels": [
        "Estimated (%|data| + background)",
        "User input (%|data| + floor)"
       ],
       "index": 1,
       "layout": "IPY_MODEL_69af209e397d41c3b94a5ce203ac8c46",
       "style": "IPY_MODEL_1532e11a689f433eba2243e24ea441a0"
      }
     },
     "26ab6cd52b9b43dda9775335507a70f7": {
      "model_module": "@jupyter-widgets/base",
      "model_module_version": "1.2.0",
      "model_name": "LayoutModel",
      "state": {
       "visibility": "hidden"
      }
     },
     "26cd9e92cf0044c9ab9cc7b73947c0de": {
      "model_module": "@jupyter-widgets/controls",
      "model_module_version": "1.5.0",
      "model_name": "DescriptionStyleModel",
      "state": {
       "description_width": ""
      }
     },
     "26ff7a9770784b0b8322652ef5e8696f": {
      "model_module": "@jupyter-widgets/base",
      "model_module_version": "1.2.0",
      "model_name": "LayoutModel",
      "state": {}
     },
     "271fa8a7d8cc4b85ba2b9ed8a2e558ce": {
      "model_module": "@jupyter-widgets/base",
      "model_module_version": "1.2.0",
      "model_name": "LayoutModel",
      "state": {
       "grid_area": "pathlist",
       "width": "auto"
      }
     },
     "272eebd411dc4aa9b5408cc7a8fe17c8": {
      "model_module": "@jupyter-widgets/base",
      "model_module_version": "1.2.0",
      "model_name": "LayoutModel",
      "state": {
       "width": "auto"
      }
     },
     "274a2819a3a84d89848e3f0ee8dcc6fb": {
      "model_module": "@jupyter-widgets/controls",
      "model_module_version": "1.5.0",
      "model_name": "ButtonStyleModel",
      "state": {}
     },
     "27567512f8314f40b5edab13e1b82aee": {
      "model_module": "@jupyter-widgets/controls",
      "model_module_version": "1.5.0",
      "model_name": "ButtonStyleModel",
      "state": {}
     },
     "279167f0d2bf4c14b5bcab34c87a62ea": {
      "model_module": "@jupyter-widgets/controls",
      "model_module_version": "1.5.0",
      "model_name": "VBoxModel",
      "state": {
       "children": [
        "IPY_MODEL_5860af25ee014959b17f5da5851bc305",
        "IPY_MODEL_bc5112e42f6147f2bf621af0fc768aeb"
       ],
       "layout": "IPY_MODEL_995b807715c24020a143e21a01c2d9a3"
      }
     },
     "27d2d7f4b872497a839ea07bd7ad8011": {
      "model_module": "@jupyter-widgets/controls",
      "model_module_version": "1.5.0",
      "model_name": "DescriptionStyleModel",
      "state": {
       "description_width": ""
      }
     },
     "27d8f6dcc83b46e2b409353519008ce1": {
      "model_module": "@jupyter-widgets/controls",
      "model_module_version": "1.5.0",
      "model_name": "DropdownModel",
      "state": {
       "_options_labels": [
        "",
        "--- Channels ---",
        "Airborne_Gxx",
        "Airborne_Gxy",
        "Airborne_Gxz",
        "Airborne_Gyy",
        "Airborne_Gyz",
        "Airborne_Gz",
        "Airborne_Gzz",
        "Airborne_TMI",
        "Ground_Gz",
        "Z"
       ],
       "description": "Channel <=> Data:",
       "index": 9,
       "layout": "IPY_MODEL_9e2e2ef10b4149c0a457897f2910c23d",
       "style": "IPY_MODEL_55a270d58c574a9aa81bb97067de9481"
      }
     },
     "27da9b860b7b478e9b39ef3af18110c7": {
      "model_module": "@jupyter-widgets/controls",
      "model_module_version": "1.5.0",
      "model_name": "VBoxModel",
      "state": {
       "children": [
        "IPY_MODEL_0013c9bb6e0840018a1cc75425fa757e"
       ],
       "layout": "IPY_MODEL_0e17ec28eecd40a98e08a7b23049ef5d"
      }
     },
     "2801cbe7b04a4c4f8d71ad430caf2757": {
      "model_module": "@jupyter-widgets/controls",
      "model_module_version": "1.5.0",
      "model_name": "FloatTextModel",
      "state": {
       "description": "Elevation (m)",
       "layout": "IPY_MODEL_bc2bbcaf8bb442b0a84e5eed9546b74f",
       "step": null,
       "style": "IPY_MODEL_1a52e4d1f4e1439eafd5993720fcd1ac"
      }
     },
     "28396b21f11b407abf17ef0af3809405": {
      "model_module": "@jupyter-widgets/base",
      "model_module_version": "1.2.0",
      "model_name": "LayoutModel",
      "state": {
       "grid_area": "dircontent",
       "width": "auto"
      }
     },
     "285bef7c13d442348af9c62a38068b77": {
      "model_module": "@jupyter-widgets/controls",
      "model_module_version": "1.5.0",
      "model_name": "DescriptionStyleModel",
      "state": {
       "description_width": "initial"
      }
     },
     "287ca01b4f074c45b7972c02f230fa7d": {
      "model_module": "@jupyter-widgets/controls",
      "model_module_version": "1.5.0",
      "model_name": "ButtonModel",
      "state": {
       "description": "Select",
       "layout": "IPY_MODEL_76933c15e1b14798b422e9fdf4a19466",
       "style": "IPY_MODEL_9070547132814c37862b64b2cf42ae65"
      }
     },
     "28b0e271131e4d4ca4cfc4008dddbbc6": {
      "model_module": "@jupyter-widgets/controls",
      "model_module_version": "1.5.0",
      "model_name": "HBoxModel",
      "state": {
       "children": [
        "IPY_MODEL_4b09a383b44444249bc915aeda1f8ac7",
        "IPY_MODEL_e5e8efa47aa4422783afd26195bcab89"
       ],
       "layout": "IPY_MODEL_d0a575dc614f4d4da96eb4a3c9133534"
      }
     },
     "28fff2ff69c1440db7fb50f0967eb2bd": {
      "model_module": "@jupyter-widgets/base",
      "model_module_version": "1.2.0",
      "model_name": "LayoutModel",
      "state": {}
     },
     "292c5a113c9e4ae490657d6abf98a8c8": {
      "model_module": "@jupyter-widgets/controls",
      "model_module_version": "1.5.0",
      "model_name": "DescriptionStyleModel",
      "state": {
       "description_width": ""
      }
     },
     "2951b6666d2d4e99ac60740b3228a7aa": {
      "model_module": "@jupyter-widgets/base",
      "model_module_version": "1.2.0",
      "model_name": "LayoutModel",
      "state": {
       "display": "none",
       "grid_gap": "0px 0px",
       "grid_template_areas": "\n                    'pathlist filename'\n                    'dircontent dircontent'\n                    ",
       "grid_template_columns": "60% 40%",
       "grid_template_rows": "auto auto",
       "width": "500px"
      }
     },
     "295a939922a94f53b0c6a4d1750a25ab": {
      "model_module": "@jupyter-widgets/base",
      "model_module_version": "1.2.0",
      "model_name": "LayoutModel",
      "state": {}
     },
     "295f0649646c45d8b49a37a10beec4ce": {
      "model_module": "@jupyter-widgets/controls",
      "model_module_version": "1.5.0",
      "model_name": "DescriptionStyleModel",
      "state": {
       "description_width": "initial"
      }
     },
     "29a81dd19fa84ff5b84c77a757ab99f2": {
      "model_module": "@jupyter-widgets/controls",
      "model_module_version": "1.5.0",
      "model_name": "HBoxModel",
      "state": {
       "children": [
        "IPY_MODEL_198e1642c66944e6bf47a8dd959e635d",
        "IPY_MODEL_9c97f8b6cf654e2492586739afc206e4"
       ],
       "layout": "IPY_MODEL_f6ffb4446e9d45b0abda7bf38bc26746"
      }
     },
     "29a9fcbcab5342a9a8a778f9ba21df73": {
      "model_module": "@jupyter-widgets/controls",
      "model_module_version": "1.5.0",
      "model_name": "RadioButtonsModel",
      "state": {
       "_options_labels": [
        "value",
        "ratio"
       ],
       "description": "Starting tradeoff (beta):",
       "index": 1,
       "layout": "IPY_MODEL_e1b4d50677e54b82b3e2f83e45b194ca",
       "style": "IPY_MODEL_db2ca417135e4d6582e642c89072fc1a"
      }
     },
     "29b97a6729304e2ca6c5e5a2a3fd9949": {
      "model_module": "@jupyter-widgets/controls",
      "model_module_version": "1.5.0",
      "model_name": "DescriptionStyleModel",
      "state": {
       "description_width": ""
      }
     },
     "29bd6b6361384c06a5758812a10b2b26": {
      "model_module": "@jupyter-widgets/controls",
      "model_module_version": "1.5.0",
      "model_name": "VBoxModel",
      "state": {
       "children": [
        "IPY_MODEL_b11f368a1ef3485d8b86bd2d4dff02d1",
        "IPY_MODEL_66497336d41443c99618976ca272d1a7",
        "IPY_MODEL_6cb621ff9b14433988b91c2e4bd1c3c8"
       ],
       "layout": "IPY_MODEL_ea86697da01b48429dc6267f875e1714"
      }
     },
     "29c392d86d6e4195a18e89a7977af623": {
      "model_module": "@jupyter-widgets/controls",
      "model_module_version": "1.5.0",
      "model_name": "DescriptionStyleModel",
      "state": {
       "description_width": ""
      }
     },
     "29ce0bf17f8a4f95890106e2d0fc16d0": {
      "model_module": "@jupyter-widgets/controls",
      "model_module_version": "1.5.0",
      "model_name": "DescriptionStyleModel",
      "state": {
       "description_width": ""
      }
     },
     "29dee17c2113459c9e8bb7ecec0e03e4": {
      "model_module": "@jupyter-widgets/controls",
      "model_module_version": "1.5.0",
      "model_name": "TextModel",
      "state": {
       "continuous_update": false,
       "description": "Group:",
       "layout": "IPY_MODEL_28fff2ff69c1440db7fb50f0967eb2bd",
       "style": "IPY_MODEL_d6f80ba21d3f499dac9cba85e2ccb579"
      }
     },
     "29f5d5d7642d41daaae5fb16b970c37b": {
      "model_module": "@jupyter-widgets/controls",
      "model_module_version": "1.5.0",
      "model_name": "DropdownModel",
      "state": {
       "_options_labels": [
        "MVI",
        "Magnetics",
        "Gravity",
        "AeroTEM (2007)",
        "AeroTEM (2010)",
        "DIGHEM",
        "GENESIS (2014)",
        "GEOTEM 75 Hz - 2082 Pulse",
        "HELITEM (35C)",
        "Hummingbird",
        "QUESTEM (1996)",
        "Resolve",
        "SandersGFEM",
        "Skytem 304M (HM)",
        "Skytem 306HP (LM)",
        "Skytem 306M HP (HM)",
        "Skytem 312HP (HM)",
        "Skytem 312HP v2 (HM)",
        "Skytem 312HP v3 (HM)",
        "Skytem 312HP v2 (LM)",
        "Skytem 312HP v3 (LM)",
        "Skytem 516M (HM)",
        "Spectrem (2000)",
        "Spectrem Plus",
        "VTEM (2007)",
        "VTEM Plus",
        "VTEM Max",
        "Xcite"
       ],
       "description": "Survey Type: ",
       "index": 0,
       "layout": "IPY_MODEL_fc70d189029043fa93a4af6c259ecee9",
       "style": "IPY_MODEL_167f562eda3340b5b6ab77fa39f3b919"
      }
     },
     "2a0c8349e2f54976aaac7640d1b51b70": {
      "model_module": "@jupyter-widgets/controls",
      "model_module_version": "1.5.0",
      "model_name": "VBoxModel",
      "state": {
       "children": [
        "IPY_MODEL_961c9aa184f8435fb3573c88882e047d"
       ],
       "layout": "IPY_MODEL_f5fb51b53b254ee2a10c59b730332b46"
      }
     },
     "2a11e0d6e2e5471184be445f41fcbad6": {
      "model_module": "@jupyter-widgets/controls",
      "model_module_version": "1.5.0",
      "model_name": "DescriptionStyleModel",
      "state": {
       "description_width": ""
      }
     },
     "2a240bde69f54a30a88a8b44cf74c6b4": {
      "model_module": "@jupyter-widgets/controls",
      "model_module_version": "1.5.0",
      "model_name": "DescriptionStyleModel",
      "state": {
       "description_width": ""
      }
     },
     "2a2c821ebf3041d382902fabd52427f8": {
      "model_module": "@jupyter-widgets/base",
      "model_module_version": "1.2.0",
      "model_name": "LayoutModel",
      "state": {}
     },
     "2a3d03cfc7fa44ac8f5367de6a266271": {
      "model_module": "@jupyter-widgets/controls",
      "model_module_version": "1.5.0",
      "model_name": "GridBoxModel",
      "state": {
       "children": [
        "IPY_MODEL_f9269b10b0794e42b0ae08c61e751ed2",
        "IPY_MODEL_a56983deca2c42f9b4ebe6c1b6bf2ebb",
        "IPY_MODEL_0689b3a01dc54477857a96242afaf1c3"
       ],
       "layout": "IPY_MODEL_84c44127766545e2953b4f690ce60625"
      }
     },
     "2a5510301e4847e98d4ccedef7e91e0a": {
      "model_module": "@jupyter-widgets/controls",
      "model_module_version": "1.5.0",
      "model_name": "ButtonModel",
      "state": {
       "description": "Select",
       "layout": "IPY_MODEL_9842289d27dc4cd8bbce7cb8d284922f",
       "style": "IPY_MODEL_274a2819a3a84d89848e3f0ee8dcc6fb"
      }
     },
     "2a613da6c6944c6ea1227cd2090c0549": {
      "model_module": "@jupyter-widgets/controls",
      "model_module_version": "1.5.0",
      "model_name": "DescriptionStyleModel",
      "state": {
       "description_width": "initial"
      }
     },
     "2a7512bb425b47fab951e4b0a5144d20": {
      "model_module": "@jupyter-widgets/controls",
      "model_module_version": "1.5.0",
      "model_name": "VBoxModel",
      "state": {
       "children": [
        "IPY_MODEL_cc0373df949743d8bf9a8a24d22004fe",
        "IPY_MODEL_c8ea1e32e95a413d8e9bf8e44e0c3b6c"
       ],
       "layout": "IPY_MODEL_f4a3603ceff043aa8764ec51aeae92c6"
      }
     },
     "2a80b2fffc81492da51da61f53cd342b": {
      "model_module": "@jupyter-widgets/base",
      "model_module_version": "1.2.0",
      "model_name": "LayoutModel",
      "state": {
       "display": "none",
       "width": "auto"
      }
     },
     "2a887191e8ab42e7947a390d9107a7a0": {
      "model_module": "@jupyter-widgets/base",
      "model_module_version": "1.2.0",
      "model_name": "LayoutModel",
      "state": {}
     },
     "2a90c1f0d2fa40fe8cdfd3480a713736": {
      "model_module": "@jupyter-widgets/base",
      "model_module_version": "1.2.0",
      "model_name": "LayoutModel",
      "state": {}
     },
     "2a9f482f1022491da0b57153f375b2c5": {
      "model_module": "@jupyter-widgets/base",
      "model_module_version": "1.2.0",
      "model_name": "LayoutModel",
      "state": {}
     },
     "2ad617dfd36c45bda95219cd41cb3cf0": {
      "model_module": "@jupyter-widgets/controls",
      "model_module_version": "1.5.0",
      "model_name": "DescriptionStyleModel",
      "state": {
       "description_width": ""
      }
     },
     "2afbbeb5a8214cba91ca7a127893ecd2": {
      "model_module": "@jupyter-widgets/controls",
      "model_module_version": "1.5.0",
      "model_name": "DescriptionStyleModel",
      "state": {
       "description_width": ""
      }
     },
     "2b2d8eac05f645c8b0abf1a6f38ba3e3": {
      "model_module": "@jupyter-widgets/controls",
      "model_module_version": "1.5.0",
      "model_name": "FloatTextModel",
      "state": {
       "description": "SI",
       "layout": "IPY_MODEL_445954a5c217418a88b40b38e0318c1c",
       "step": null,
       "style": "IPY_MODEL_dc590134344f4a5a94fec81de23e230b"
      }
     },
     "2b5a51d58a814379ad47454a0154933b": {
      "model_module": "@jupyter-widgets/controls",
      "model_module_version": "1.5.0",
      "model_name": "DescriptionStyleModel",
      "state": {
       "description_width": "initial"
      }
     },
     "2b767bcd7d294e74bfb4a24f8bcd5ff2": {
      "model_module": "@jupyter-widgets/controls",
      "model_module_version": "1.5.0",
      "model_name": "DropdownModel",
      "state": {
       "_options_labels": [
        "C:\\Users\\dominiquef\\Documents\\GIT\\RichardScottOZ\\geoapps\\docs\\content\\applications",
        "C:\\Users\\dominiquef\\Documents\\GIT\\RichardScottOZ\\geoapps\\docs\\content",
        "C:\\Users\\dominiquef\\Documents\\GIT\\RichardScottOZ\\geoapps\\docs",
        "C:\\Users\\dominiquef\\Documents\\GIT\\RichardScottOZ\\geoapps",
        "C:\\Users\\dominiquef\\Documents\\GIT\\RichardScottOZ",
        "C:\\Users\\dominiquef\\Documents\\GIT",
        "C:\\Users\\dominiquef\\Documents",
        "C:\\Users\\dominiquef",
        "C:\\Users",
        "C:\\",
        "D:\\",
        "Z:\\"
       ],
       "index": 0,
       "layout": "IPY_MODEL_0ad3498a54814852b847245a0671f064",
       "style": "IPY_MODEL_ae97d48e07074d0c839e1517cac77ede"
      }
     },
     "2b8130baa53d4793ada0601275515ab9": {
      "model_module": "@jupyter-widgets/controls",
      "model_module_version": "1.5.0",
      "model_name": "DescriptionStyleModel",
      "state": {
       "description_width": ""
      }
     },
     "2b8bdd85dff747f9b4d0ba89c92cf49d": {
      "model_module": "@jupyter-widgets/controls",
      "model_module_version": "1.5.0",
      "model_name": "SelectModel",
      "state": {
       "_options_labels": [
        "..",
        "dask-worker-space",
        "images",
        "GEOSCIENCEtemp",
        "Untitled.ipynb",
        "base_application.ipynb",
        "calculator.ipynb",
        "clustering.ipynb",
        "contouring.ipynb",
        "coordinate_transformation.ipynb",
        "create_isosurface.ipynb",
        "create_surface.ipynb",
        "data_interpolation.ipynb",
        "edge_detection.ipynb",
        "export.ipynb",
        "geophysical_inversion.ipynb",
        "object_data_selection.ipynb",
        "peak_finder.ipynb",
        "scatter.ipynb",
        "view_selection.ipynb"
       ],
       "index": null,
       "layout": "IPY_MODEL_bf507be428254a30b4244b542502e4a7",
       "rows": 8,
       "style": "IPY_MODEL_4d97e46442ef4e73b2d64a3bc1216d0f"
      }
     },
     "2bac1bd5a08f4bed98a64e2377beb2be": {
      "model_module": "@jupyter-widgets/controls",
      "model_module_version": "1.5.0",
      "model_name": "DescriptionStyleModel",
      "state": {
       "description_width": "initial"
      }
     },
     "2be097732d1746b4abdd66fb7a3b986b": {
      "model_module": "@jupyter-widgets/controls",
      "model_module_version": "1.5.0",
      "model_name": "GridBoxModel",
      "state": {
       "children": [
        "IPY_MODEL_f147928cfba24d2cadd73b2201567a82",
        "IPY_MODEL_b321c7c70d4a429f99b6c07abdea7174",
        "IPY_MODEL_2b8bdd85dff747f9b4d0ba89c92cf49d"
       ],
       "layout": "IPY_MODEL_86b0bcacbbbe4090991adb6e43919007"
      }
     },
     "2c104468f56b4c34aae9ab779b5145a2": {
      "model_module": "@jupyter-widgets/base",
      "model_module_version": "1.2.0",
      "model_name": "LayoutModel",
      "state": {
       "width": "auto"
      }
     },
     "2c438a0130c64675b2af8d519df020a2": {
      "model_module": "@jupyter-widgets/base",
      "model_module_version": "1.2.0",
      "model_name": "LayoutModel",
      "state": {
       "width": "auto"
      }
     },
     "2c4cad40304748c1a7e1f9f4a84595c0": {
      "model_module": "@jupyter-widgets/base",
      "model_module_version": "1.2.0",
      "model_name": "LayoutModel",
      "state": {
       "visibility": "hidden"
      }
     },
     "2c72ad43ff674596b721ebf28192a24b": {
      "model_module": "@jupyter-widgets/controls",
      "model_module_version": "1.5.0",
      "model_name": "HTMLModel",
      "state": {
       "layout": "IPY_MODEL_c15be90f44ec4dd38691b6521ac56ae0",
       "placeholder": "",
       "style": "IPY_MODEL_5bc59ca4ad6244d58ed15b4c2dd041ee",
       "value": "<span style=\"margin-left:10px; color:black;\">No file selected</span>"
      }
     },
     "2c7cb61472f8462fb617eef053e48cb3": {
      "model_module": "@jupyter-widgets/controls",
      "model_module_version": "1.5.0",
      "model_name": "ButtonModel",
      "state": {
       "description": "Select",
       "layout": "IPY_MODEL_cd4a5e0ccf1e425ba4648c4371f4d88c",
       "style": "IPY_MODEL_6a8d1e87a6cd4af4a9cab862adb7c402"
      }
     },
     "2c850a4076e8415098be79bc6aa191a4": {
      "model_module": "@jupyter-widgets/controls",
      "model_module_version": "1.5.0",
      "model_name": "SliderStyleModel",
      "state": {
       "description_width": "initial"
      }
     },
     "2c94433243ef4e1ba40007db3a85330b": {
      "model_module": "@jupyter-widgets/controls",
      "model_module_version": "1.5.0",
      "model_name": "VBoxModel",
      "state": {
       "children": [
        "IPY_MODEL_88677b944a664b169b9bbdeeefbbd6ae"
       ],
       "layout": "IPY_MODEL_23a2c10d785148d691d41670b09379fb"
      }
     },
     "2c944d4b072040b580be056388b4b38a": {
      "model_module": "@jupyter-widgets/controls",
      "model_module_version": "1.5.0",
      "model_name": "RadioButtonsModel",
      "state": {
       "_options_labels": [
        "Object",
        "Relative to Sensor",
        "Constant"
       ],
       "description": "Define by:",
       "index": 0,
       "layout": "IPY_MODEL_8a63f360d80545b7827277288d05ac7c",
       "style": "IPY_MODEL_a1eddc26df174bc38b07c86874f4dde9"
      }
     },
     "2c98be9875534e389ecd31074bb6ae4e": {
      "model_module": "@jupyter-widgets/controls",
      "model_module_version": "1.5.0",
      "model_name": "ButtonStyleModel",
      "state": {}
     },
     "2ca25b7c9bd144ccbfdf28e4098686c2": {
      "model_module": "@jupyter-widgets/base",
      "model_module_version": "1.2.0",
      "model_name": "LayoutModel",
      "state": {
       "width": "auto"
      }
     },
     "2cb779dddeb348eea2d72eccd5078fd0": {
      "model_module": "@jupyter-widgets/controls",
      "model_module_version": "1.5.0",
      "model_name": "ButtonModel",
      "state": {
       "button_style": "danger",
       "description": "Compute",
       "icon": "check",
       "layout": "IPY_MODEL_9c3345fa81b24aada82ae14d6c3b84da",
       "style": "IPY_MODEL_33b8ba991c9b4e8eb6f0001feb2a92f2",
       "tooltip": "Run computation"
      }
     },
     "2cbd01b56571457d987065c908384f4b": {
      "model_module": "@jupyter-widgets/controls",
      "model_module_version": "1.5.0",
      "model_name": "DropdownModel",
      "state": {
       "_options_labels": [
        "",
        "Data_TEM_pseudo3DEPSG_4326",
        "Gravity_Magnetics_drape60mEPSG_4326",
        "Iso_Iteration_7_model_0.015",
        "Iso_Iteration_7_model_0.01",
        "Iso_Iteration_7_model_0.02",
        "Iso_Iteration_7_model_0.005",
        "Iso_Iteration_7_model_0.0025",
        "fault_splay1",
        "fault_Cliff_Lake",
        "fault_Other_FlinFlon",
        "fault_Club_Lake_splay",
        "fault_Catherine_splay2",
        "fault_Birch_View",
        "fault_Dion_Lake",
        "fault_FlinFlon_splay",
        "fault_West_Mandy_Road",
        "fault_Channing",
        "fault_Ross_Lake",
        "fault_Louis_Hidden",
        "fault_Lake_View_thrust",
        "contact_Schist_Lake",
        "fault_Burley_Lake",
        "fault_Dion_Lake_splay",
        "fault_Green_Lake",
        "fault_FlinFlon",
        "fault_Catherine_splay1",
        "fault_East_Mandy_Road",
        "fault_Other_FlinFlon_South",
        "fault_Catherine_splay4",
        "contact_Stitt_Island",
        "fault_Club_Lake",
        "fault_Tailing_Pond",
        "35_Hidden_Reservoir_Hr5",
        "29_Hidden_Reservoir_Hr1a",
        "60_BlueLagoon_Fb2",
        "20_FlinFlon_Undivided_Int_Dykes_D2f",
        "04_Boundary_Intrusive_S4h",
        "53_Millrock_Rhyolite_Fm4b",
        "19_FlinFlon_Undivided_Int_Dykes_D2b",
        "18_FlinFlon_Undivided_Int_Dykes_777_D2b",
        "06_Phantom_Lake_Intrusive_S3a",
        "21_FlinFlon_Undivided_Int_Dykes_D3a",
        "43_Millrock_CHLSH_South",
        "56_Millrock_Basalt_Fm1ba",
        "17_FlinFlon_Undivided_Int_Dykes_D2",
        "32_Hidden_Reservoir_Hr1b_SW",
        "11_Missi_M3_NE",
        "13_Missi_M1",
        "07_Annabel_Granitoid_S1",
        "45_Millrock_Gabbro_South",
        "01_Late_Intrusive_S5b",
        "31_Hidden_Reservoir_Hr1c_SW",
        "52_Millrock_Rhyolite_Fm4_West_check",
        "55_Millrock_Basalt_Fm1bf",
        "34_Hidden_Reservoir_Hr2b",
        "03_Boundary_Intrusive_S4b",
        "42_Millrock_CHLSH_North",
        "26_Louis_L3",
        "23_FlinFlon_Undivided_Int_Felsic_D4g",
        "30_Hidden_Reservoir_Hr1b",
        "59_BlueLagoon_Fb3",
        "49_Millrock_MVR_Fm5d",
        "44_Millrock_Gabbro_North",
        "27_Hidden_Carlisle_Hc4",
        "22_FlinFlon_Undivided_Int_Felsic_D4e",
        "02_Boundary_Intrusive_S4a",
        "61_BlueLagoon_Fb1_NW",
        "05_Boundary_Intrusive_S4g",
        "39_Ore_Callinan",
        "38_Ore_Dan_Owens",
        "40_Ore_FlinFlon",
        "Inversion_VTEM_Model",
        "Gravity_Magnetics_drape60m",
        "CDI_VTEM_model",
        "Data_FEM_pseudo3D",
        "O2O_Interp_25m",
        "geochem",
        "Inversion_DIGHEM_Model",
        "Topography",
        "Data_TEM_pseudo3D"
       ],
       "description": "Object",
       "index": 0,
       "layout": "IPY_MODEL_8ca5bab043694649a048d7c533e4182b",
       "style": "IPY_MODEL_73077abb08f7402a89ebf4bbd16c2d74"
      }
     },
     "2d29bf63861c4d179192db82c418e2c9": {
      "model_module": "@jupyter-widgets/controls",
      "model_module_version": "1.5.0",
      "model_name": "HBoxModel",
      "state": {
       "children": [
        "IPY_MODEL_3d155b6c34634a71bd67774c847a4d53",
        "IPY_MODEL_ccb13a51c500404ab02fd221f4f78537",
        "IPY_MODEL_2d3f06886be14c77a835547504704bad"
       ],
       "layout": "IPY_MODEL_a3362023658145ccb26c9c729769f853"
      }
     },
     "2d3ab53d09594e5aa51ffe5219cf8630": {
      "model_module": "@jupyter-widgets/base",
      "model_module_version": "1.2.0",
      "model_name": "LayoutModel",
      "state": {
       "width": "auto"
      }
     },
     "2d3f06886be14c77a835547504704bad": {
      "model_module": "@jupyter-widgets/controls",
      "model_module_version": "1.5.0",
      "model_name": "HTMLModel",
      "state": {
       "layout": "IPY_MODEL_765180ec0104441d91cfaa40382cf37a",
       "placeholder": "",
       "style": "IPY_MODEL_864e45bfec6047d7ab2663d98fa0d283",
       "value": "<span style=\"margin-left:10px; color:black;\">No file selected</span>"
      }
     },
     "2d636158f02b4623aed3334b3d6d2988": {
      "model_module": "@jupyter-widgets/base",
      "model_module_version": "1.2.0",
      "model_name": "LayoutModel",
      "state": {
       "display": "none",
       "grid_area": "filename",
       "width": "auto"
      }
     },
     "2d7a17c1a5954b71ae8678ca2d17d494": {
      "model_module": "@jupyter-widgets/controls",
      "model_module_version": "1.5.0",
      "model_name": "VBoxModel",
      "state": {
       "children": [
        "IPY_MODEL_d12252ccf05a44968a5c8e30a1c18103"
       ],
       "layout": "IPY_MODEL_34b12da50f354295a6f08ecbab24e685"
      }
     },
     "2d8654d1a2de4eac9f17645e132e0c02": {
      "model_module": "@jupyter-widgets/base",
      "model_module_version": "1.2.0",
      "model_name": "LayoutModel",
      "state": {
       "visibility": "hidden"
      }
     },
     "2d8d9eef68924e98a3d901cc25195af8": {
      "model_module": "@jupyter-widgets/controls",
      "model_module_version": "1.5.0",
      "model_name": "DescriptionStyleModel",
      "state": {
       "description_width": ""
      }
     },
     "2da9be5f63ea49f7b86c98f980701f4f": {
      "model_module": "@jupyter-widgets/controls",
      "model_module_version": "1.5.0",
      "model_name": "VBoxModel",
      "state": {
       "children": [
        "IPY_MODEL_989cf9e3b6a149eb838ce4457bdc549a",
        "IPY_MODEL_28b0e271131e4d4ca4cfc4008dddbbc6",
        "IPY_MODEL_1e33d95407514c279b531392e337ed63",
        "IPY_MODEL_053540c5cd3b40b08c82ce63dd6bdb61",
        "IPY_MODEL_3974086156874440910e082b9d4528e7",
        "IPY_MODEL_8bdb29f289b14f7bbf44284a9c7447a4",
        "IPY_MODEL_a372ae2086f34172935c099cfc40887f"
       ],
       "layout": "IPY_MODEL_0b4e2ada4d7b40d2af4664afdee5be53"
      }
     },
     "2dadb0d0021c4f6f9f7f3fd5e6e59526": {
      "model_module": "@jupyter-widgets/controls",
      "model_module_version": "1.5.0",
      "model_name": "DescriptionStyleModel",
      "state": {
       "description_width": ""
      }
     },
     "2ddd69afbd6e46e3bbd0d6be040d8bf4": {
      "model_module": "@jupyter-widgets/controls",
      "model_module_version": "1.5.0",
      "model_name": "ButtonModel",
      "state": {
       "description": "Create copy:",
       "layout": "IPY_MODEL_1ae14b0075f44ca28a8efa1e2bbeaf6a",
       "style": "IPY_MODEL_12229db8b763489496964ac3600602a6"
      }
     },
     "2de19b83a3d44b21a304c47b085908af": {
      "model_module": "@jupyter-widgets/controls",
      "model_module_version": "1.5.0",
      "model_name": "TextModel",
      "state": {
       "continuous_update": false,
       "description": "Group:",
       "layout": "IPY_MODEL_ee23f4080e2b41348b438983be14f627",
       "style": "IPY_MODEL_99ec6b1ba8aa4ad4b14a3549e09f49dd"
      }
     },
     "2df18d8915ee4f5393d8e1fdf7009069": {
      "model_module": "@jupyter-widgets/base",
      "model_module_version": "1.2.0",
      "model_name": "LayoutModel",
      "state": {}
     },
     "2dfd017b9b6d4b1c882c0eac6ecc4c41": {
      "model_module": "@jupyter-widgets/base",
      "model_module_version": "1.2.0",
      "model_name": "LayoutModel",
      "state": {}
     },
     "2e4838d5b25d4e8c802fec4507606e74": {
      "model_module": "@jupyter-widgets/base",
      "model_module_version": "1.2.0",
      "model_name": "LayoutModel",
      "state": {}
     },
     "2e651b1d42434e7d8bab2846f124ca47": {
      "model_module": "@jupyter-widgets/controls",
      "model_module_version": "1.5.0",
      "model_name": "DescriptionStyleModel",
      "state": {
       "description_width": ""
      }
     },
     "2e73d409f20b4fd6895f03261ed9a61d": {
      "model_module": "@jupyter-widgets/controls",
      "model_module_version": "1.5.0",
      "model_name": "DescriptionStyleModel",
      "state": {
       "description_width": "initial"
      }
     },
     "2e7edaf53c4542cab2c3d14fa11fd078": {
      "model_module": "@jupyter-widgets/base",
      "model_module_version": "1.2.0",
      "model_name": "LayoutModel",
      "state": {}
     },
     "2e88b914aad541d88c1e521c07077100": {
      "model_module": "@jupyter-widgets/controls",
      "model_module_version": "1.5.0",
      "model_name": "DescriptionStyleModel",
      "state": {
       "description_width": "initial"
      }
     },
     "2e9894104f93404caeb883ad7cabdec1": {
      "model_module": "@jupyter-widgets/base",
      "model_module_version": "1.2.0",
      "model_name": "LayoutModel",
      "state": {}
     },
     "2eb7e02f6dc34737b7a47fcc8a768de0": {
      "model_module": "@jupyter-widgets/controls",
      "model_module_version": "1.5.0",
      "model_name": "FloatSliderModel",
      "state": {
       "continuous_update": false,
       "description": "Width",
       "layout": "IPY_MODEL_8cfe021624ac4f9da4bde25a8179a74d",
       "max": 7335.505938563321,
       "step": 10,
       "style": "IPY_MODEL_868ad830f2c740f8be50c664a036fb80",
       "value": 1000
      }
     },
     "2ecd070e5a614bd6a8bf49b69582c30d": {
      "model_module": "@jupyter-widgets/controls",
      "model_module_version": "1.5.0",
      "model_name": "DescriptionStyleModel",
      "state": {
       "description_width": "initial"
      }
     },
     "2edc9b260b9b46aab97cfd67e20dc5ff": {
      "model_module": "@jupyter-widgets/controls",
      "model_module_version": "1.5.0",
      "model_name": "LabelModel",
      "state": {
       "layout": "IPY_MODEL_be286406d6f34788854806847012230c",
       "style": "IPY_MODEL_027a85d114364aeea9759092ec6f1f25",
       "value": "Reference effective susceptibility"
      }
     },
     "2eec9c2b24324b9086d6e6c9aebabae9": {
      "model_module": "@jupyter-widgets/controls",
      "model_module_version": "1.5.0",
      "model_name": "FloatTextModel",
      "state": {
       "description": "Smallest cell (m):",
       "layout": "IPY_MODEL_fbb80fb6017c4c01ba2a6400f28c8ff2",
       "step": null,
       "style": "IPY_MODEL_b67545184507490b80b38a3cd9e31a79",
       "value": 10
      }
     },
     "2ef224af465347459d1307f99716ac89": {
      "model_module": "@jupyter-widgets/controls",
      "model_module_version": "1.5.0",
      "model_name": "DescriptionStyleModel",
      "state": {
       "description_width": ""
      }
     },
     "2f049a35c62045d1a1e2be9620e1d861": {
      "model_module": "@jupyter-widgets/controls",
      "model_module_version": "1.5.0",
      "model_name": "HTMLModel",
      "state": {
       "layout": "IPY_MODEL_de2c885cca6549a49cf7a2730019fd79",
       "style": "IPY_MODEL_38b4951ad81c4cd2901d1f4904ef22cb"
      }
     },
     "2f0a36916f654009bc7c98349eb58328": {
      "model_module": "@jupyter-widgets/controls",
      "model_module_version": "1.5.0",
      "model_name": "DescriptionStyleModel",
      "state": {
       "description_width": ""
      }
     },
     "2f29cebfe67747839064a033989e53bc": {
      "model_module": "@jupyter-widgets/controls",
      "model_module_version": "1.5.0",
      "model_name": "DescriptionStyleModel",
      "state": {
       "description_width": ""
      }
     },
     "2f35ade58bc141789fd543d024c6e748": {
      "model_module": "@jupyter-widgets/controls",
      "model_module_version": "1.5.0",
      "model_name": "DescriptionStyleModel",
      "state": {
       "description_width": ""
      }
     },
     "2f4149af9cd8432d83ef721ffa7190b2": {
      "model_module": "@jupyter-widgets/controls",
      "model_module_version": "1.5.0",
      "model_name": "LabelModel",
      "state": {
       "layout": "IPY_MODEL_1e527aed02ab4fbf93bd0c369a659465",
       "style": "IPY_MODEL_7c3ff5dff9a241259388afc5f66cc825",
       "value": "Max depth: 477.27 m"
      }
     },
     "2f756b492d0844659faa4589967fc4fc": {
      "model_module": "@jupyter-widgets/controls",
      "model_module_version": "1.5.0",
      "model_name": "HTMLModel",
      "state": {
       "layout": "IPY_MODEL_3306bfa1b75b4d52baf7fd8b9aa47af9",
       "style": "IPY_MODEL_326a1126ebb540ada541e8dac8011082"
      }
     },
     "2f88aa3f87f84233bc83e8aaf17c1d8b": {
      "model_module": "@jupyter-widgets/controls",
      "model_module_version": "1.5.0",
      "model_name": "VBoxModel",
      "state": {
       "children": [
        "IPY_MODEL_47e69065861846128c8f135711a3f7e6"
       ],
       "layout": "IPY_MODEL_c85429c4d5724dfda29eee70b083bb37"
      }
     },
     "2f9c35da62e142d499631c3ea7df6dc0": {
      "model_module": "@jupyter-widgets/controls",
      "model_module_version": "1.5.0",
      "model_name": "TextModel",
      "state": {
       "description": "Offsets (x,y,z)",
       "layout": "IPY_MODEL_f010119d74384cf383d65bd82d5f094a",
       "style": "IPY_MODEL_1ab9eec556ae402492dd82c96f63f0b1",
       "value": "0, 0, 0"
      }
     },
     "2fa9b239fcd94745b8b694674c765df7": {
      "model_module": "@jupyter-widgets/base",
      "model_module_version": "1.2.0",
      "model_name": "LayoutModel",
      "state": {
       "display": "none",
       "grid_area": "filename",
       "width": "auto"
      }
     },
     "2fc39989af76484bacf43ef5d1460995": {
      "model_module": "@jupyter-widgets/controls",
      "model_module_version": "1.5.0",
      "model_name": "DescriptionStyleModel",
      "state": {
       "description_width": ""
      }
     },
     "302591f5f5624582835a9275b26e1f83": {
      "model_module": "@jupyter-widgets/controls",
      "model_module_version": "1.5.0",
      "model_name": "VBoxModel",
      "state": {
       "children": [
        "IPY_MODEL_71ceed7d7e5f4faeb85216976ea6c7a5",
        "IPY_MODEL_29a81dd19fa84ff5b84c77a757ab99f2"
       ],
       "layout": "IPY_MODEL_dde3eea253724dc78ac6a8b07e37d239"
      }
     },
     "3027c92a158a45b0b2893a10cec7cd7f": {
      "model_module": "@jupyter-widgets/controls",
      "model_module_version": "1.5.0",
      "model_name": "DescriptionStyleModel",
      "state": {
       "description_width": ""
      }
     },
     "303207877bb943ac92349badc48ee567": {
      "model_module": "@jupyter-widgets/controls",
      "model_module_version": "1.5.0",
      "model_name": "DescriptionStyleModel",
      "state": {
       "description_width": ""
      }
     },
     "303a308c9f824b59baefe7b1acbfd3fc": {
      "model_module": "@jupyter-widgets/base",
      "model_module_version": "1.2.0",
      "model_name": "LayoutModel",
      "state": {}
     },
     "303f946ed5274554bec8d2de34c6f420": {
      "model_module": "@jupyter-widgets/controls",
      "model_module_version": "1.5.0",
      "model_name": "ButtonModel",
      "state": {
       "description": "Select",
       "layout": "IPY_MODEL_02678964edf3486899234d891de574f1",
       "style": "IPY_MODEL_52997ed32c474d05b03958fb23f494a4"
      }
     },
     "305a7ce58c104139a353c10533828db0": {
      "model_module": "@jupyter-widgets/base",
      "model_module_version": "1.2.0",
      "model_name": "LayoutModel",
      "state": {}
     },
     "306da646e2724bfba07bc25b36ec6b32": {
      "model_module": "@jupyter-widgets/controls",
      "model_module_version": "1.5.0",
      "model_name": "HTMLModel",
      "state": {
       "layout": "IPY_MODEL_8c6c5346e1ad4612830958e9256f7077",
       "placeholder": "",
       "style": "IPY_MODEL_ad2251a816034d558ae825df0532e8f8",
       "value": "<span style=\"margin-left:10px; color:black;\">No file selected</span>"
      }
     },
     "307dc3217b7c4f3aa8ed6b5e81da5e41": {
      "model_module": "@jupyter-widgets/controls",
      "model_module_version": "1.5.0",
      "model_name": "DropdownModel",
      "state": {
       "_options_labels": [
        "C:\\Users\\dominiquef\\Documents\\GIT\\mira\\mirageoscience-apps\\assets",
        "C:\\Users\\dominiquef\\Documents\\GIT\\mira\\mirageoscience-apps",
        "C:\\Users\\dominiquef\\Documents\\GIT\\mira",
        "C:\\Users\\dominiquef\\Documents\\GIT",
        "C:\\Users\\dominiquef\\Documents",
        "C:\\Users\\dominiquef",
        "C:\\Users",
        "C:\\",
        "D:\\",
        "Z:\\"
       ],
       "index": 0,
       "layout": "IPY_MODEL_e18c16b1f5e24564bdc08521b6769d19",
       "style": "IPY_MODEL_2d8d9eef68924e98a3d901cc25195af8"
      }
     },
     "30bf12063acd4598ab97df412e65d6b0": {
      "model_module": "@jupyter-widgets/controls",
      "model_module_version": "1.5.0",
      "model_name": "ButtonStyleModel",
      "state": {}
     },
     "31085b17e434494c8fa41ac5dfe9376d": {
      "model_module": "@jupyter-widgets/base",
      "model_module_version": "1.2.0",
      "model_name": "LayoutModel",
      "state": {}
     },
     "3118e33b1d5c49a8a8e1e1465e931370": {
      "model_module": "@jupyter-widgets/controls",
      "model_module_version": "1.5.0",
      "model_name": "GridBoxModel",
      "state": {
       "children": [
        "IPY_MODEL_9b78d48127074af4b7f2280b3a6ed436",
        "IPY_MODEL_eab5c7d3cee045edbd761cfce73c0031",
        "IPY_MODEL_8dab19f7a80a479cbb64132b272f56dc"
       ],
       "layout": "IPY_MODEL_83db54f80da34cb1acdb4069f2c45438"
      }
     },
     "3132ee1ab28c4b39b1105b91aef462f9": {
      "model_module": "@jupyter-widgets/base",
      "model_module_version": "1.2.0",
      "model_name": "LayoutModel",
      "state": {}
     },
     "31517648be5f410da0791d07a9b38f58": {
      "model_module": "@jupyter-widgets/base",
      "model_module_version": "1.2.0",
      "model_name": "LayoutModel",
      "state": {
       "width": "auto"
      }
     },
     "3172751249c642a99d734fd1a45a6e82": {
      "model_module": "@jupyter-widgets/controls",
      "model_module_version": "1.5.0",
      "model_name": "TextModel",
      "state": {
       "description": "Offsets (x,y,z)",
       "layout": "IPY_MODEL_5b93fd35e1204be8be0a0070dc502c37",
       "style": "IPY_MODEL_8fb31c5c3e8542448207def3cb98ebca",
       "value": "0, 0, 0"
      }
     },
     "319315af4b034470b2a01c594d6da9a3": {
      "model_module": "@jupyter-widgets/base",
      "model_module_version": "1.2.0",
      "model_name": "LayoutModel",
      "state": {
       "visibility": "hidden"
      }
     },
     "319904e9c0464c97a6df62d8a6c60b13": {
      "model_module": "@jupyter-widgets/controls",
      "model_module_version": "1.5.0",
      "model_name": "HBoxModel",
      "state": {
       "children": [
        "IPY_MODEL_717d7c5c79f844488f266819c2adbe1a",
        "IPY_MODEL_f6be674be1cc4e5bb018d04d92bdc1dc"
       ],
       "layout": "IPY_MODEL_fce474069be441f8ac98c994d323568d"
      }
     },
     "31bdb2c809dc41b3924f1ee1eaf340b7": {
      "model_module": "@jupyter-widgets/base",
      "model_module_version": "1.2.0",
      "model_name": "LayoutModel",
      "state": {
       "grid_area": "dircontent",
       "width": "auto"
      }
     },
     "31c5e3e437954008b1913de2ffbe0002": {
      "model_module": "@jupyter-widgets/controls",
      "model_module_version": "1.5.0",
      "model_name": "ToggleButtonModel",
      "state": {
       "layout": "IPY_MODEL_a7eea3331ae54bdc82862bb8bdecbaaa",
       "style": "IPY_MODEL_dc6e42d72e2042dbbc22b0e7d529056b",
       "value": true
      }
     },
     "31d2795d61d649fda18fdb3e1d48d446": {
      "model_module": "@jupyter-widgets/controls",
      "model_module_version": "1.5.0",
      "model_name": "FloatSliderModel",
      "state": {
       "continuous_update": false,
       "description": "Azimuth",
       "layout": "IPY_MODEL_cd54e065a61f433795c0c2ef8c1a3e28",
       "max": 90,
       "min": -90,
       "step": 5,
       "style": "IPY_MODEL_093d58546821484fa45fa108d26331b8",
       "value": -20
      }
     },
     "32143499e3714876876af681436d7476": {
      "model_module": "@jupyter-widgets/base",
      "model_module_version": "1.2.0",
      "model_name": "LayoutModel",
      "state": {
       "align_items": "center"
      }
     },
     "32326b64b5284d74a717e37d75babcfe": {
      "model_module": "@jupyter-widgets/controls",
      "model_module_version": "1.5.0",
      "model_name": "DescriptionStyleModel",
      "state": {
       "description_width": ""
      }
     },
     "326a1126ebb540ada541e8dac8011082": {
      "model_module": "@jupyter-widgets/controls",
      "model_module_version": "1.5.0",
      "model_name": "DescriptionStyleModel",
      "state": {
       "description_width": ""
      }
     },
     "32780e86bee345d986cb03ff6b5e9571": {
      "model_module": "@jupyter-widgets/controls",
      "model_module_version": "1.5.0",
      "model_name": "ButtonStyleModel",
      "state": {}
     },
     "32896635a96e4c9eb5a9a15936af0792": {
      "model_module": "@jupyter-widgets/controls",
      "model_module_version": "1.5.0",
      "model_name": "FloatSliderModel",
      "state": {
       "continuous_update": false,
       "description": "Height",
       "layout": "IPY_MODEL_91082e0787fd49b7826dad53102de710",
       "max": 13622.238002983107,
       "orientation": "vertical",
       "step": 10,
       "style": "IPY_MODEL_7010ae17a54f4337a531307d5e607233",
       "value": 1500
      }
     },
     "3297720073cf4d8e9251e33e6d2ab28b": {
      "model_module": "@jupyter-widgets/controls",
      "model_module_version": "1.5.0",
      "model_name": "DescriptionStyleModel",
      "state": {
       "description_width": "initial"
      }
     },
     "329e3f7590884e14a0ee6472c0134d60": {
      "model_module": "@jupyter-widgets/controls",
      "model_module_version": "1.5.0",
      "model_name": "ButtonModel",
      "state": {
       "description": "Cancel",
       "layout": "IPY_MODEL_a8d74a8875424d198a07f0b5903d4c45",
       "style": "IPY_MODEL_2c98be9875534e389ecd31074bb6ae4e"
      }
     },
     "32bdb7b2c985463c97fe9a84e936d364": {
      "model_module": "@jupyter-widgets/controls",
      "model_module_version": "1.5.0",
      "model_name": "VBoxModel",
      "state": {
       "children": [
        "IPY_MODEL_54d344670eeb474787dac91f09c2b38b",
        "IPY_MODEL_e8dbdc8ef92d4d599a2d01b599ddd0ef",
        "IPY_MODEL_b245c35d3c8d4538bd370144f04c9652"
       ],
       "layout": "IPY_MODEL_25d4762372964fb194dc66c0d529bc4b"
      }
     },
     "32c485298e3b40c58c32fe1e16bb1076": {
      "model_module": "@jupyter-widgets/controls",
      "model_module_version": "1.5.0",
      "model_name": "DescriptionStyleModel",
      "state": {
       "description_width": ""
      }
     },
     "32d2dd7bad6743ab8f8c181efed4a59c": {
      "model_module": "@jupyter-widgets/controls",
      "model_module_version": "1.5.0",
      "model_name": "VBoxModel",
      "state": {
       "children": [
        "IPY_MODEL_d612b4dc54f64e0781da818f8ff1ab5d",
        "IPY_MODEL_406c6efa17e8422aa04bce7a3ccc1cfc"
       ],
       "layout": "IPY_MODEL_0d6b7f7886a34474adf57caf416d6550"
      }
     },
     "32ddc71cf642430fad5130e9fbb0b324": {
      "model_module": "@jupyter-widgets/base",
      "model_module_version": "1.2.0",
      "model_name": "LayoutModel",
      "state": {
       "grid_area": "pathlist",
       "width": "auto"
      }
     },
     "32e64f003fd448aa90c98b97d33bb6dc": {
      "model_module": "@jupyter-widgets/base",
      "model_module_version": "1.2.0",
      "model_name": "LayoutModel",
      "state": {
       "grid_area": "pathlist",
       "width": "auto"
      }
     },
     "32f38fa5f2f64124b0627a987dd7d1d4": {
      "model_module": "@jupyter-widgets/controls",
      "model_module_version": "1.5.0",
      "model_name": "GridBoxModel",
      "state": {
       "children": [
        "IPY_MODEL_0b5cf70dda3d422d90b1bc671940283c",
        "IPY_MODEL_086570202cab4b0aafd102e0904eea85",
        "IPY_MODEL_13ee6eb5c0fa4025806db15311248310"
       ],
       "layout": "IPY_MODEL_7eff75a6d16f44d48972434b30bdfef5"
      }
     },
     "32f6bb5386fe4bc1bb11676346c821b9": {
      "model_module": "@jupyter-widgets/controls",
      "model_module_version": "1.5.0",
      "model_name": "DescriptionStyleModel",
      "state": {
       "description_width": ""
      }
     },
     "3306bfa1b75b4d52baf7fd8b9aa47af9": {
      "model_module": "@jupyter-widgets/base",
      "model_module_version": "1.2.0",
      "model_name": "LayoutModel",
      "state": {
       "display": "none"
      }
     },
     "33177d6bfad7445ab286ba1d27696766": {
      "model_module": "@jupyter-widgets/controls",
      "model_module_version": "1.5.0",
      "model_name": "DescriptionStyleModel",
      "state": {
       "description_width": ""
      }
     },
     "332ece55b2d440c5b3fd3877cedc8afc": {
      "model_module": "@jupyter-widgets/controls",
      "model_module_version": "1.5.0",
      "model_name": "DescriptionStyleModel",
      "state": {
       "description_width": "initial"
      }
     },
     "3333af7068804c0ebad42e3def87fac1": {
      "model_module": "@jupyter-widgets/controls",
      "model_module_version": "1.5.0",
      "model_name": "ButtonStyleModel",
      "state": {}
     },
     "33377f5b31d04038b2545935db9fa58f": {
      "model_module": "@jupyter-widgets/controls",
      "model_module_version": "1.5.0",
      "model_name": "DescriptionStyleModel",
      "state": {
       "description_width": ""
      }
     },
     "335c5ed8534a4be3943b26b58ac94657": {
      "model_module": "@jupyter-widgets/controls",
      "model_module_version": "1.5.0",
      "model_name": "DescriptionStyleModel",
      "state": {
       "description_width": ""
      }
     },
     "336735ff407c46fa8e3091bc5ac7d451": {
      "model_module": "@jupyter-widgets/controls",
      "model_module_version": "1.5.0",
      "model_name": "TextModel",
      "state": {
       "disabled": true,
       "layout": "IPY_MODEL_ecad282356874699ba605f917ee9fae3",
       "placeholder": "output filename",
       "style": "IPY_MODEL_fddfaa182a0049ac8a1b48513b09e839"
      }
     },
     "33b8ba991c9b4e8eb6f0001feb2a92f2": {
      "model_module": "@jupyter-widgets/controls",
      "model_module_version": "1.5.0",
      "model_name": "ButtonStyleModel",
      "state": {}
     },
     "33e69ccb2929422d91fd6716832b2259": {
      "model_module": "@jupyter-widgets/controls",
      "model_module_version": "1.5.0",
      "model_name": "VBoxModel",
      "state": {
       "children": [
        "IPY_MODEL_8cf5b6cdb3974347a31dba273a7142f5",
        "IPY_MODEL_737e4b3a961e47db8a0443b9f1bd4a89"
       ],
       "layout": "IPY_MODEL_af600494434d43d2a2a565d915611a54"
      }
     },
     "340a68260bc04e9ba1ed4e8a5fe3f35e": {
      "model_module": "@jupyter-widgets/controls",
      "model_module_version": "1.5.0",
      "model_name": "ButtonModel",
      "state": {
       "button_style": "danger",
       "description": "Compute",
       "icon": "check",
       "layout": "IPY_MODEL_22a98e81a30e4725a6199f6133cad056",
       "style": "IPY_MODEL_961336ab413847e592f2c6cf5d60b859",
       "tooltip": "Run computation"
      }
     },
     "340e61877eb4455ab0a904ae9afafbea": {
      "model_module": "@jupyter-widgets/controls",
      "model_module_version": "1.5.0",
      "model_name": "TextModel",
      "state": {
       "description": "Save to:",
       "layout": "IPY_MODEL_2334c972321e4317a9af354ed6bce93e",
       "style": "IPY_MODEL_04cbb1ec60c44895af844f68dad92e00",
       "value": "Inversion_"
      }
     },
     "340f9d10e4134eecb644bbba4924d452": {
      "model_module": "@jupyter-widgets/base",
      "model_module_version": "1.2.0",
      "model_name": "LayoutModel",
      "state": {
       "width": "100%"
      }
     },
     "343cc1fa93ab4486a36ced2d8208729e": {
      "model_module": "@jupyter-widgets/base",
      "model_module_version": "1.2.0",
      "model_name": "LayoutModel",
      "state": {}
     },
     "34840c53230d4acc9164914d9b3fadc8": {
      "model_module": "@jupyter-widgets/controls",
      "model_module_version": "1.5.0",
      "model_name": "DescriptionStyleModel",
      "state": {
       "description_width": "initial"
      }
     },
     "349c52dc86414993a31cafb897d61a35": {
      "model_module": "@jupyter-widgets/controls",
      "model_module_version": "1.5.0",
      "model_name": "TextModel",
      "state": {
       "continuous_update": false,
       "description": "Group:",
       "layout": "IPY_MODEL_fccdf9d5fd434837a97777761402dad7",
       "style": "IPY_MODEL_7a470100af03463fb8639c5888552f07"
      }
     },
     "34b12da50f354295a6f08ecbab24e685": {
      "model_module": "@jupyter-widgets/base",
      "model_module_version": "1.2.0",
      "model_name": "LayoutModel",
      "state": {}
     },
     "34b2edcad06e4077a76c307f99caa62a": {
      "model_module": "@jupyter-widgets/base",
      "model_module_version": "1.2.0",
      "model_name": "LayoutModel",
      "state": {}
     },
     "34b5fc4b854b4711952bf68c8db36ff1": {
      "model_module": "@jupyter-widgets/controls",
      "model_module_version": "1.5.0",
      "model_name": "GridBoxModel",
      "state": {
       "children": [
        "IPY_MODEL_9cbc5935aac44f1a9fb46f2553864e69",
        "IPY_MODEL_c67fb2c6f4f74a8b88415c421d46a95f",
        "IPY_MODEL_000fdfdbd498470bb151b3880e1855ad"
       ],
       "layout": "IPY_MODEL_a9eec34239e543a4b6ce147eb7e3cab8"
      }
     },
     "34b6c48c42f948d1be2e8bd368f423f5": {
      "model_module": "@jupyter-widgets/controls",
      "model_module_version": "1.5.0",
      "model_name": "DescriptionStyleModel",
      "state": {
       "description_width": "initial"
      }
     },
     "34cffd8aace9461f88b3caa93a256e67": {
      "model_module": "@jupyter-widgets/controls",
      "model_module_version": "1.5.0",
      "model_name": "ButtonModel",
      "state": {
       "button_style": "danger",
       "description": "Compute",
       "icon": "check",
       "layout": "IPY_MODEL_112915e869c04d69b7e6abdd3c6729bf",
       "style": "IPY_MODEL_3333af7068804c0ebad42e3def87fac1",
       "tooltip": "Run computation"
      }
     },
     "3517127799a74566955170cdba6ea6f7": {
      "model_module": "@jupyter-widgets/controls",
      "model_module_version": "1.5.0",
      "model_name": "VBoxModel",
      "state": {
       "children": [
        "IPY_MODEL_340a68260bc04e9ba1ed4e8a5fe3f35e",
        "IPY_MODEL_349c52dc86414993a31cafb897d61a35"
       ],
       "layout": "IPY_MODEL_ceb26722254c4641b31022a953a7d416"
      }
     },
     "3571920fcd4041e78f5a8deeda864bfb": {
      "model_module": "@jupyter-widgets/controls",
      "model_module_version": "1.5.0",
      "model_name": "ButtonStyleModel",
      "state": {}
     },
     "35846430e4424f99b6c9efae7eba2294": {
      "model_module": "@jupyter-widgets/base",
      "model_module_version": "1.2.0",
      "model_name": "LayoutModel",
      "state": {}
     },
     "35ae02ee47cc4b12ba9e7d97cb6df22f": {
      "model_module": "@jupyter-widgets/controls",
      "model_module_version": "1.5.0",
      "model_name": "LabelModel",
      "state": {
       "layout": "IPY_MODEL_2e7edaf53c4542cab2c3d14fa11fd078",
       "style": "IPY_MODEL_1b1bf99608934329b0449ae7378d66ac",
       "value": "Workspace"
      }
     },
     "35b8ef037a0c4759bcfe96e1892a3eb9": {
      "model_module": "@jupyter-widgets/base",
      "model_module_version": "1.2.0",
      "model_name": "LayoutModel",
      "state": {}
     },
     "35bbffbfd0084a78958546344c4f4614": {
      "model_module": "@jupyter-widgets/controls",
      "model_module_version": "1.5.0",
      "model_name": "ButtonStyleModel",
      "state": {}
     },
     "35bfc664fb01447390cb9fb47eb35807": {
      "model_module": "@jupyter-widgets/controls",
      "model_module_version": "1.5.0",
      "model_name": "DescriptionStyleModel",
      "state": {
       "description_width": "initial"
      }
     },
     "35e9ed98e5de460682edb395d655cd46": {
      "model_module": "@jupyter-widgets/controls",
      "model_module_version": "1.5.0",
      "model_name": "DescriptionStyleModel",
      "state": {
       "description_width": ""
      }
     },
     "35ed24fd81c946f991631fe26cf44201": {
      "model_module": "@jupyter-widgets/controls",
      "model_module_version": "1.5.0",
      "model_name": "SelectModel",
      "state": {
       "_options_labels": [
        "..",
        "images"
       ],
       "index": null,
       "layout": "IPY_MODEL_b51c96fd7d2c416e9fe8ffdafb41ed59",
       "rows": 8,
       "style": "IPY_MODEL_025881cf7c634de7a4cbe5919e52a3e3"
      }
     },
     "35f91158dcc442568114901ba11a63bc": {
      "model_module": "@jupyter-widgets/base",
      "model_module_version": "1.2.0",
      "model_name": "LayoutModel",
      "state": {}
     },
     "3647044520284bce9406565b80ba4dfb": {
      "model_module": "@jupyter-widgets/controls",
      "model_module_version": "1.5.0",
      "model_name": "TextModel",
      "state": {
       "continuous_update": false,
       "description": "Contours",
       "layout": "IPY_MODEL_e900d44af00b4c7da5fce8720a1b8f04",
       "style": "IPY_MODEL_50bed70d5d2a43c696ba97b5d4c8eff8"
      }
     },
     "3650c6ee31ef4f46a9f49339863b38f9": {
      "model_module": "@jupyter-widgets/controls",
      "model_module_version": "1.5.0",
      "model_name": "DescriptionStyleModel",
      "state": {
       "description_width": "initial"
      }
     },
     "3660ac10509d4ce4bb5420639f323f50": {
      "model_module": "@jupyter-widgets/controls",
      "model_module_version": "1.5.0",
      "model_name": "DescriptionStyleModel",
      "state": {
       "description_width": "initial"
      }
     },
     "3678cb8998ec43dab0692f0566165a46": {
      "model_module": "@jupyter-widgets/base",
      "model_module_version": "1.2.0",
      "model_name": "LayoutModel",
      "state": {
       "display": "none",
       "grid_area": "filename",
       "width": "auto"
      }
     },
     "3689b93f50744c8b9ed1ceae353fbd84": {
      "model_module": "@jupyter-widgets/controls",
      "model_module_version": "1.5.0",
      "model_name": "IntTextModel",
      "state": {
       "description": "Starting Channel",
       "layout": "IPY_MODEL_f6dfba604edf4e43b530a80d593dc28a",
       "step": 1,
       "style": "IPY_MODEL_e4e95d89a4904af99712034b94e88c13"
      }
     },
     "36bb358a51034ca79eef2c39d066eb60": {
      "model_module": "@jupyter-widgets/base",
      "model_module_version": "1.2.0",
      "model_name": "LayoutModel",
      "state": {
       "width": "auto"
      }
     },
     "36c072ee43f44e2abbdadeca36e3f8fe": {
      "model_module": "@jupyter-widgets/base",
      "model_module_version": "1.2.0",
      "model_name": "LayoutModel",
      "state": {}
     },
     "36e192cad93647afa1ea942247cd4b74": {
      "model_module": "@jupyter-widgets/controls",
      "model_module_version": "1.5.0",
      "model_name": "ButtonStyleModel",
      "state": {}
     },
     "371812bf457a498aa3dbc4e6ead013db": {
      "model_module": "@jupyter-widgets/controls",
      "model_module_version": "1.5.0",
      "model_name": "DropdownModel",
      "state": {
       "_options_labels": [
        "C:\\Users\\dominiquef\\Documents\\GIT\\RichardScottOZ\\geoapps\\docs\\content\\applications",
        "C:\\Users\\dominiquef\\Documents\\GIT\\RichardScottOZ\\geoapps\\docs\\content",
        "C:\\Users\\dominiquef\\Documents\\GIT\\RichardScottOZ\\geoapps\\docs",
        "C:\\Users\\dominiquef\\Documents\\GIT\\RichardScottOZ\\geoapps",
        "C:\\Users\\dominiquef\\Documents\\GIT\\RichardScottOZ",
        "C:\\Users\\dominiquef\\Documents\\GIT",
        "C:\\Users\\dominiquef\\Documents",
        "C:\\Users\\dominiquef",
        "C:\\Users",
        "C:\\",
        "D:\\",
        "Z:\\"
       ],
       "index": 0,
       "layout": "IPY_MODEL_55a3162cfd314a96ae179ede85811274",
       "style": "IPY_MODEL_5ff32bd644f84fcca484aa1b9ecab2d0"
      }
     },
     "37338cc20a34428492ee5125b384e438": {
      "model_module": "@jupyter-widgets/controls",
      "model_module_version": "1.5.0",
      "model_name": "VBoxModel",
      "state": {
       "children": [
        "IPY_MODEL_2eb7e02f6dc34737b7a47fcc8a768de0",
        "IPY_MODEL_ff139bdbeb5a4911950a8d84522e3051",
        "IPY_MODEL_b26803b63ecf4ee6a8a0010f42b20fae",
        "IPY_MODEL_9846a6132982456fbce9e876a9a65a31",
        "IPY_MODEL_a417c2acb6f14a2eb42dbbce4dd4be98"
       ],
       "layout": "IPY_MODEL_ccbbd879637a4e56b4ea5236da12ee61"
      }
     },
     "374b7fea19f24afdbef3480be8a37248": {
      "model_module": "@jupyter-widgets/base",
      "model_module_version": "1.2.0",
      "model_name": "LayoutModel",
      "state": {}
     },
     "3759bb0a181d41278d0d6f6abc85c965": {
      "model_module": "@jupyter-widgets/controls",
      "model_module_version": "1.5.0",
      "model_name": "VBoxModel",
      "state": {
       "children": [
        "IPY_MODEL_673f1fe1ed794017a2c406c23e565435",
        "IPY_MODEL_f8e2f936177b40a1be1b44f1888ca54e"
       ],
       "layout": "IPY_MODEL_47cb94546dcf4b4a8605a147e7476703"
      }
     },
     "376add82229547159e8c44bd55e20a9b": {
      "model_module": "@jupyter-widgets/base",
      "model_module_version": "1.2.0",
      "model_name": "LayoutModel",
      "state": {}
     },
     "376fc84a9e524c688d950a2f903682c5": {
      "model_module": "@jupyter-widgets/controls",
      "model_module_version": "1.5.0",
      "model_name": "VBoxModel",
      "state": {
       "children": [
        "IPY_MODEL_29f5d5d7642d41daaae5fb16b970c37b",
        "IPY_MODEL_16c29548864445869af05713358f7f67"
       ],
       "layout": "IPY_MODEL_f2ba6e3cdb86474b8d11e97f02bd1fe8"
      }
     },
     "37967d463aa74bcbb305aca3735efce3": {
      "model_module": "@jupyter-widgets/controls",
      "model_module_version": "1.5.0",
      "model_name": "FloatTextModel",
      "state": {
       "description": "SI",
       "layout": "IPY_MODEL_98dce7b671814a97b07f85799487bda0",
       "step": null,
       "style": "IPY_MODEL_01c373ac5a96493292c3f3059808f6ef"
      }
     },
     "37d53874704a443d9451a3090db41a99": {
      "model_module": "@jupyter-widgets/controls",
      "model_module_version": "1.5.0",
      "model_name": "VBoxModel",
      "state": {
       "children": [
        "IPY_MODEL_b14c3d1a9b3a4e379fb3ddd34f323413",
        "IPY_MODEL_7104422c5d594caba914b20d743516ad"
       ],
       "layout": "IPY_MODEL_55974c1af11d4073b69561978db7c23f"
      }
     },
     "37e11f3fc48e4dbfb9ab5926a8b28847": {
      "model_module": "@jupyter-widgets/controls",
      "model_module_version": "1.5.0",
      "model_name": "DescriptionStyleModel",
      "state": {
       "description_width": "initial"
      }
     },
     "37e7fabaf13d4d14b4bd198ed12c19a5": {
      "model_module": "@jupyter-widgets/controls",
      "model_module_version": "1.5.0",
      "model_name": "ButtonModel",
      "state": {
       "description": "Cancel",
       "layout": "IPY_MODEL_b7613036fe9d4029bba0d5dfc654b25e",
       "style": "IPY_MODEL_d4c2f5f64851447581ee99376a34f3cf"
      }
     },
     "37f658045d2f475c9a032ff93d910d22": {
      "model_module": "@jupyter-widgets/controls",
      "model_module_version": "1.5.0",
      "model_name": "DescriptionStyleModel",
      "state": {
       "description_width": ""
      }
     },
     "37ff912f608c46a6911134d5fe6879a3": {
      "model_module": "@jupyter-widgets/controls",
      "model_module_version": "1.5.0",
      "model_name": "GridBoxModel",
      "state": {
       "children": [
        "IPY_MODEL_1837782aaf4d41d1b5f8d0efe6a905aa",
        "IPY_MODEL_12e8625a02df4f1fbc008f598923c6da",
        "IPY_MODEL_e0d099fd2fcd4e878a680d133cfba291"
       ],
       "layout": "IPY_MODEL_438912cced3440a8a8acec7893f7f0f6"
      }
     },
     "3804daf7548d42ffbdb438958ed7e837": {
      "model_module": "@jupyter-widgets/base",
      "model_module_version": "1.2.0",
      "model_name": "LayoutModel",
      "state": {
       "grid_area": "dircontent",
       "width": "auto"
      }
     },
     "3805352f7d8f43ae9003a5a4789abd66": {
      "model_module": "@jupyter-widgets/controls",
      "model_module_version": "1.5.0",
      "model_name": "VBoxModel",
      "state": {
       "children": [
        "IPY_MODEL_be49c945443f4f4f9285cc1359c1aac5"
       ],
       "layout": "IPY_MODEL_546c821bd7ff4ac2bb6e736b6177807f"
      }
     },
     "383fb201d08940c7afdc92356403c93e": {
      "model_module": "@jupyter-widgets/controls",
      "model_module_version": "1.5.0",
      "model_name": "TextModel",
      "state": {
       "description": "Padding [W,E,N,S,D,U] (m)",
       "layout": "IPY_MODEL_586076b003984835b0710b6c112c1d6a",
       "style": "IPY_MODEL_34b6c48c42f948d1be2e8bd368f423f5",
       "value": "0, 0, 0, 0, 0, 0"
      }
     },
     "3853a79f84e544faab621e0cac918cf5": {
      "model_module": "@jupyter-widgets/base",
      "model_module_version": "1.2.0",
      "model_name": "LayoutModel",
      "state": {}
     },
     "385d88d212804dd99ba0e2f57d25066b": {
      "model_module": "@jupyter-widgets/controls",
      "model_module_version": "1.5.0",
      "model_name": "HBoxModel",
      "state": {
       "children": [
        "IPY_MODEL_bbf07c2d07ad4cc5a66b182c8d86a8d3",
        "IPY_MODEL_c7e8868cb1364590852f4bb5ffbb70ab",
        "IPY_MODEL_6ba0a579f8e84ba6a62a752af504413f"
       ],
       "layout": "IPY_MODEL_3cfd2c4c4004477d9310aa38ef093b12"
      }
     },
     "385edfe242cf44fda28dd66bc4a019d8": {
      "model_module": "@jupyter-widgets/controls",
      "model_module_version": "1.5.0",
      "model_name": "SliderStyleModel",
      "state": {
       "description_width": ""
      }
     },
     "3862fd42e0b64141ac097cfde182d518": {
      "model_module": "@jupyter-widgets/controls",
      "model_module_version": "1.5.0",
      "model_name": "DescriptionStyleModel",
      "state": {
       "description_width": ""
      }
     },
     "3875f24c59e74c119c75f8eae01af4d8": {
      "model_module": "@jupyter-widgets/base",
      "model_module_version": "1.2.0",
      "model_name": "LayoutModel",
      "state": {
       "display": "none",
       "grid_gap": "0px 0px",
       "grid_template_areas": "\n                    'pathlist pathlist'\n                    'dircontent dircontent'\n                    ",
       "grid_template_columns": "60% 40%",
       "grid_template_rows": "auto auto",
       "width": "500px"
      }
     },
     "3879300a77f34ed295f2352f9ba0e088": {
      "model_module": "@jupyter-widgets/controls",
      "model_module_version": "1.5.0",
      "model_name": "VBoxModel",
      "state": {
       "children": [
        "IPY_MODEL_cbe07a4a77594402829f47220b54eebd",
        "IPY_MODEL_179601dc51cb474e97e4b3013b2f7e13"
       ],
       "layout": "IPY_MODEL_43784e76ec00468d84a1259bf9e0d0c7"
      }
     },
     "388b604ed9be437aacc26bb0ecd1c50d": {
      "model_module": "@jupyter-widgets/base",
      "model_module_version": "1.2.0",
      "model_name": "LayoutModel",
      "state": {}
     },
     "38ad0f6e01cd4a608e60e74aba8bc642": {
      "model_module": "@jupyter-widgets/base",
      "model_module_version": "1.2.0",
      "model_name": "LayoutModel",
      "state": {}
     },
     "38b4951ad81c4cd2901d1f4904ef22cb": {
      "model_module": "@jupyter-widgets/controls",
      "model_module_version": "1.5.0",
      "model_name": "DescriptionStyleModel",
      "state": {
       "description_width": ""
      }
     },
     "38cf3cb61f68427584ba1b4d1a223ee7": {
      "model_module": "@jupyter-widgets/base",
      "model_module_version": "1.2.0",
      "model_name": "LayoutModel",
      "state": {}
     },
     "38e0ca38819b4b35b512da085875f6c6": {
      "model_module": "@jupyter-widgets/controls",
      "model_module_version": "1.5.0",
      "model_name": "VBoxModel",
      "state": {
       "children": [
        "IPY_MODEL_a715d936a3ba464394d4ccbb9b7e7528",
        "IPY_MODEL_bced32f254b04d57802c62c8666070cb"
       ],
       "layout": "IPY_MODEL_6b2bb85dcdb840d3bfe81f30a63366d9"
      }
     },
     "38e2ee15bee3442f9da13cf479098d54": {
      "model_module": "@jupyter-widgets/controls",
      "model_module_version": "1.5.0",
      "model_name": "ButtonModel",
      "state": {
       "description": "Select",
       "layout": "IPY_MODEL_66af2991a44f4b6badedafecebee343c",
       "style": "IPY_MODEL_9822f5abd05843d6b29f5da4acf5770e"
      }
     },
     "38fdd39b2b814279a67257801f190a79": {
      "model_module": "@jupyter-widgets/base",
      "model_module_version": "1.2.0",
      "model_name": "LayoutModel",
      "state": {}
     },
     "3906a9a5f00a4cedada22e65bdeba2b3": {
      "model_module": "@jupyter-widgets/controls",
      "model_module_version": "1.5.0",
      "model_name": "LabelModel",
      "state": {
       "layout": "IPY_MODEL_51b7790fa7ec41ce9d8d2e05658ae3e2",
       "style": "IPY_MODEL_d63e03be90da4c5f877a4d504ddf6144",
       "value": "Monitoring folder"
      }
     },
     "39089548acdf4c8fa4186f286723bfb4": {
      "model_module": "@jupyter-widgets/base",
      "model_module_version": "1.2.0",
      "model_name": "LayoutModel",
      "state": {}
     },
     "391e114e7c9f4896af06610460a1efd4": {
      "model_module": "@jupyter-widgets/controls",
      "model_module_version": "1.5.0",
      "model_name": "DropdownModel",
      "state": {
       "_options_labels": [
        "MVI",
        "Magnetics",
        "Gravity",
        "AeroTEM (2007)",
        "AeroTEM (2010)",
        "DIGHEM",
        "GENESIS (2014)",
        "GEOTEM 75 Hz - 2082 Pulse",
        "HELITEM (35C)",
        "Hummingbird",
        "QUESTEM (1996)",
        "Resolve",
        "SandersGFEM",
        "Skytem 304M (HM)",
        "Skytem 306HP (LM)",
        "Skytem 306M HP (HM)",
        "Skytem 312HP (HM)",
        "Skytem 312HP v2 (HM)",
        "Skytem 312HP v3 (HM)",
        "Skytem 312HP v2 (LM)",
        "Skytem 312HP v3 (LM)",
        "Skytem 516M (HM)",
        "Spectrem (2000)",
        "Spectrem Plus",
        "Spectrem (2009)",
        "VTEM (2007)",
        "VTEM Plus",
        "VTEM Max",
        "Xcite"
       ],
       "description": "Survey Type: ",
       "index": 0,
       "layout": "IPY_MODEL_852cb73a0d434d2a88941199627b7642",
       "style": "IPY_MODEL_e558870ccfe14d48b05feed750a49a4e"
      }
     },
     "3930add7f70744bb922bbeaefead2367": {
      "model_module": "@jupyter-widgets/controls",
      "model_module_version": "1.5.0",
      "model_name": "DescriptionStyleModel",
      "state": {
       "description_width": "initial"
      }
     },
     "394faa94dff54452a916c18672a22690": {
      "model_module": "@jupyter-widgets/base",
      "model_module_version": "1.2.0",
      "model_name": "LayoutModel",
      "state": {}
     },
     "395cfaec248146369b8c0a090cd35a67": {
      "model_module": "@jupyter-widgets/controls",
      "model_module_version": "1.5.0",
      "model_name": "VBoxModel",
      "state": {
       "children": [
        "IPY_MODEL_cf5ea8866c324affa90a682d6d2ed2d8",
        "IPY_MODEL_e89aad6a4703444cafb2af211349316e",
        "IPY_MODEL_fdaa5aa9bbba4fadab7b52505d2b791b",
        "IPY_MODEL_7b4b0d36f9c14cd9b00ac6a59c0d7649",
        "IPY_MODEL_6828f572b4e949ac91b0700f37223aa2"
       ],
       "layout": "IPY_MODEL_74eb5cfa32cc420e9cbb6b8244db5428"
      }
     },
     "3974086156874440910e082b9d4528e7": {
      "model_module": "@jupyter-widgets/controls",
      "model_module_version": "1.5.0",
      "model_name": "VBoxModel",
      "state": {
       "children": [
        "IPY_MODEL_4289b112ee25443a8c5c4d110175325e",
        "IPY_MODEL_e24d68963c334e18b4ca4e79e4178ee0"
       ],
       "layout": "IPY_MODEL_340f9d10e4134eecb644bbba4924d452"
      }
     },
     "3984907a1f354f92a9c7d9bd89dc49dd": {
      "model_module": "@jupyter-widgets/controls",
      "model_module_version": "1.5.0",
      "model_name": "DescriptionStyleModel",
      "state": {
       "description_width": "initial"
      }
     },
     "39b370dcd63b422ba49b3d1f5af8a41f": {
      "model_module": "@jupyter-widgets/controls",
      "model_module_version": "1.5.0",
      "model_name": "DescriptionStyleModel",
      "state": {
       "description_width": ""
      }
     },
     "39cd90d38724475089c57867fb9ce12c": {
      "model_module": "@jupyter-widgets/controls",
      "model_module_version": "1.5.0",
      "model_name": "DescriptionStyleModel",
      "state": {
       "description_width": "initial"
      }
     },
     "39ea32558108418798f634158c5175eb": {
      "model_module": "@jupyter-widgets/base",
      "model_module_version": "1.2.0",
      "model_name": "LayoutModel",
      "state": {
       "width": "auto"
      }
     },
     "3a031489d47943a28f67da3d0a67fee4": {
      "model_module": "@jupyter-widgets/base",
      "model_module_version": "1.2.0",
      "model_name": "LayoutModel",
      "state": {}
     },
     "3a0b53c5a65741399aa978aa732202ab": {
      "model_module": "@jupyter-widgets/controls",
      "model_module_version": "1.5.0",
      "model_name": "DescriptionStyleModel",
      "state": {
       "description_width": ""
      }
     },
     "3a0d0eaa737b4dcebdd42c6e497baacf": {
      "model_module": "@jupyter-widgets/controls",
      "model_module_version": "1.5.0",
      "model_name": "HBoxModel",
      "state": {
       "children": [
        "IPY_MODEL_4e1643d9681e40f3812eb4a1b8e38a68",
        "IPY_MODEL_79fbfd310aa948b8af7d975e67299070"
       ],
       "layout": "IPY_MODEL_0f39687534ce413b9ffb2841bce5992c"
      }
     },
     "3a1dfef538c0444bbefdb29c87ffab80": {
      "model_module": "@jupyter-widgets/base",
      "model_module_version": "1.2.0",
      "model_name": "LayoutModel",
      "state": {}
     },
     "3a47795df539456890939a9e60f3e5ef": {
      "model_module": "@jupyter-widgets/controls",
      "model_module_version": "1.5.0",
      "model_name": "DescriptionStyleModel",
      "state": {
       "description_width": ""
      }
     },
     "3ae023ebc01d4ff1b1a758573af611ce": {
      "model_module": "@jupyter-widgets/base",
      "model_module_version": "1.2.0",
      "model_name": "LayoutModel",
      "state": {}
     },
     "3b1c05a9e19b474e95e27dcb4af10923": {
      "model_module": "@jupyter-widgets/base",
      "model_module_version": "1.2.0",
      "model_name": "LayoutModel",
      "state": {
       "display": "none",
       "width": "auto"
      }
     },
     "3b25863f45bf40788b65319637a59602": {
      "model_module": "@jupyter-widgets/controls",
      "model_module_version": "1.5.0",
      "model_name": "DescriptionStyleModel",
      "state": {
       "description_width": ""
      }
     },
     "3b262ac073f94acfb1ebc55cf8c90d4d": {
      "model_module": "@jupyter-widgets/controls",
      "model_module_version": "1.5.0",
      "model_name": "DescriptionStyleModel",
      "state": {
       "description_width": ""
      }
     },
     "3b42b269cb33441d9114b77d033e18a5": {
      "model_module": "@jupyter-widgets/base",
      "model_module_version": "1.2.0",
      "model_name": "LayoutModel",
      "state": {}
     },
     "3b5ba385e6e54049b8d405d06db2732f": {
      "model_module": "@jupyter-widgets/controls",
      "model_module_version": "1.5.0",
      "model_name": "VBoxModel",
      "state": {
       "children": [
        "IPY_MODEL_8b7b5d8ed56f4c8a97c8d347e185a90a",
        "IPY_MODEL_7a1cf99298444523adcac5f4b0ebe03d",
        "IPY_MODEL_f73dc7f961be4bdc81fc8ea008f52f85"
       ],
       "layout": "IPY_MODEL_834335e64b184280bdb5c5b5c6f7e902"
      }
     },
     "3b7fb40190e8421f84bffdbf75fe352d": {
      "model_module": "@jupyter-widgets/base",
      "model_module_version": "1.2.0",
      "model_name": "LayoutModel",
      "state": {}
     },
     "3b800ba0b779496991f5abeb1dcbfb05": {
      "model_module": "@jupyter-widgets/controls",
      "model_module_version": "1.5.0",
      "model_name": "VBoxModel",
      "state": {
       "children": [
        "IPY_MODEL_4ec4819258574dbc804a29cb440c9965",
        "IPY_MODEL_32bdb7b2c985463c97fe9a84e936d364"
       ],
       "layout": "IPY_MODEL_1a519fd23dd1403ab9459d8e93027da4"
      }
     },
     "3b970acefe3c45f99850379ebaf5d9e3": {
      "model_module": "@jupyter-widgets/base",
      "model_module_version": "1.2.0",
      "model_name": "LayoutModel",
      "state": {}
     },
     "3bfcf624d0ab42f880c2431546dd4338": {
      "model_module": "@jupyter-widgets/base",
      "model_module_version": "1.2.0",
      "model_name": "LayoutModel",
      "state": {}
     },
     "3c1df92c3e744e608c98734e2184c004": {
      "model_module": "@jupyter-widgets/controls",
      "model_module_version": "1.5.0",
      "model_name": "DescriptionStyleModel",
      "state": {
       "description_width": ""
      }
     },
     "3c5a0c488edd406f9a7c476120516799": {
      "model_module": "@jupyter-widgets/controls",
      "model_module_version": "1.5.0",
      "model_name": "TextModel",
      "state": {
       "description": "Layers below topo",
       "layout": "IPY_MODEL_3cd6597cb2154d1ca30665c4f59fad51",
       "style": "IPY_MODEL_44f8a7d0f217461e8fbb1b290cc9161b",
       "value": "0, 0, 0, 2"
      }
     },
     "3c5bccf20b24411bab4de4813ffbe3f5": {
      "model_module": "@jupyter-widgets/controls",
      "model_module_version": "1.5.0",
      "model_name": "VBoxModel",
      "state": {
       "children": [
        "IPY_MODEL_4bd2e08ebd0b4be388afcda20e203920",
        "IPY_MODEL_cec1d49a75a04ecab71b387c0ec7c3b9"
       ],
       "layout": "IPY_MODEL_708e7227feb54bf8acf3043e583f334e"
      }
     },
     "3c8e505d4aac4098b8399cde94ea032a": {
      "model_module": "@jupyter-widgets/base",
      "model_module_version": "1.2.0",
      "model_name": "LayoutModel",
      "state": {}
     },
     "3c8f02e84624419b9723a29e3f3a8c6e": {
      "model_module": "@jupyter-widgets/controls",
      "model_module_version": "1.5.0",
      "model_name": "DescriptionStyleModel",
      "state": {
       "description_width": ""
      }
     },
     "3cc35ceeb8104a53a67761d2528a6ca9": {
      "model_module": "@jupyter-widgets/controls",
      "model_module_version": "1.5.0",
      "model_name": "HTMLModel",
      "state": {
       "layout": "IPY_MODEL_3e057dfc51c04d9984c0204554b4d4be",
       "style": "IPY_MODEL_47094311bcda47fea50a788b89b30040"
      }
     },
     "3cd6597cb2154d1ca30665c4f59fad51": {
      "model_module": "@jupyter-widgets/base",
      "model_module_version": "1.2.0",
      "model_name": "LayoutModel",
      "state": {}
     },
     "3cdb10f80c314e2b9a0bcf314f9da291": {
      "model_module": "@jupyter-widgets/controls",
      "model_module_version": "1.5.0",
      "model_name": "DescriptionStyleModel",
      "state": {
       "description_width": ""
      }
     },
     "3cf35457210646298298d1854346670f": {
      "model_module": "@jupyter-widgets/controls",
      "model_module_version": "1.5.0",
      "model_name": "ButtonStyleModel",
      "state": {}
     },
     "3cfd2c4c4004477d9310aa38ef093b12": {
      "model_module": "@jupyter-widgets/base",
      "model_module_version": "1.2.0",
      "model_name": "LayoutModel",
      "state": {
       "width": "auto"
      }
     },
     "3d155b6c34634a71bd67774c847a4d53": {
      "model_module": "@jupyter-widgets/controls",
      "model_module_version": "1.5.0",
      "model_name": "ButtonModel",
      "state": {
       "description": "Select",
       "layout": "IPY_MODEL_bf1dafdaa0a741bd8c12314377513754",
       "style": "IPY_MODEL_d0d2c200b06d437a956e20ae4b53581c"
      }
     },
     "3d1a621d0e544e7f96d8307ec3c0172f": {
      "model_module": "@jupyter-widgets/base",
      "model_module_version": "1.2.0",
      "model_name": "LayoutModel",
      "state": {}
     },
     "3d5b1c983df5407ab2ac332a53b9ad88": {
      "model_module": "@jupyter-widgets/base",
      "model_module_version": "1.2.0",
      "model_name": "LayoutModel",
      "state": {}
     },
     "3d84932a6c5a4cdcb41aae19d3e2576c": {
      "model_module": "@jupyter-widgets/controls",
      "model_module_version": "1.5.0",
      "model_name": "DescriptionStyleModel",
      "state": {
       "description_width": "initial"
      }
     },
     "3dc253b3db3f46f1815c7f4a40f45107": {
      "model_module": "@jupyter-widgets/controls",
      "model_module_version": "1.5.0",
      "model_name": "DescriptionStyleModel",
      "state": {
       "description_width": "initial"
      }
     },
     "3e057dfc51c04d9984c0204554b4d4be": {
      "model_module": "@jupyter-widgets/base",
      "model_module_version": "1.2.0",
      "model_name": "LayoutModel",
      "state": {
       "display": "none"
      }
     },
     "3e143846de954cd99445f77aeabaab27": {
      "model_module": "@jupyter-widgets/controls",
      "model_module_version": "1.5.0",
      "model_name": "DescriptionStyleModel",
      "state": {
       "description_width": ""
      }
     },
     "3e5631f18bca49e7ad974822134b33f1": {
      "model_module": "@jupyter-widgets/base",
      "model_module_version": "1.2.0",
      "model_name": "LayoutModel",
      "state": {
       "width": "auto"
      }
     },
     "3ec303ca92d84913bde47f770a7e151a": {
      "model_module": "@jupyter-widgets/controls",
      "model_module_version": "1.5.0",
      "model_name": "RadioButtonsModel",
      "state": {
       "_options_labels": [
        "value",
        "ratio"
       ],
       "description": "Starting tradeoff (beta):",
       "index": 1,
       "layout": "IPY_MODEL_c28a0c8ab5664c3dbc2efdc068168ec9",
       "style": "IPY_MODEL_9ab1a1cabd2f470fbee26534d20e19e5"
      }
     },
     "3ef2c74b06254eefaad5e355e9c9af23": {
      "model_module": "@jupyter-widgets/base",
      "model_module_version": "1.2.0",
      "model_name": "LayoutModel",
      "state": {
       "grid_area": "dircontent",
       "width": "auto"
      }
     },
     "3f0f46f4e11349c1b2b8fb9c1efdea67": {
      "model_module": "@jupyter-widgets/controls",
      "model_module_version": "1.5.0",
      "model_name": "DescriptionStyleModel",
      "state": {
       "description_width": ""
      }
     },
     "3f55b93b043247d5b04d416fcb9b9152": {
      "model_module": "@jupyter-widgets/controls",
      "model_module_version": "1.5.0",
      "model_name": "ButtonStyleModel",
      "state": {}
     },
     "3f60de1859b74adc93faa6d4cceaf3c4": {
      "model_module": "@jupyter-widgets/controls",
      "model_module_version": "1.5.0",
      "model_name": "DescriptionStyleModel",
      "state": {
       "description_width": ""
      }
     },
     "3f753f693aae4cd6ae61c3129d2a718b": {
      "model_module": "@jupyter-widgets/controls",
      "model_module_version": "1.5.0",
      "model_name": "DescriptionStyleModel",
      "state": {
       "description_width": ""
      }
     },
     "3f833a5cf5c243b681d927e9bb30b058": {
      "model_module": "@jupyter-widgets/controls",
      "model_module_version": "1.5.0",
      "model_name": "DescriptionStyleModel",
      "state": {
       "description_width": ""
      }
     },
     "3f8f9d4a704d4c88ba50b0c6dc658c2a": {
      "model_module": "@jupyter-widgets/controls",
      "model_module_version": "1.5.0",
      "model_name": "VBoxModel",
      "state": {
       "children": [
        "IPY_MODEL_559bb7997a0d4aba8aa0ac74dff48906",
        "IPY_MODEL_51a3c91b48254750a39344f59934605d",
        "IPY_MODEL_3c5a0c488edd406f9a7c476120516799",
        "IPY_MODEL_ebebe77b6985409c8e83d655e41c2965",
        "IPY_MODEL_584e813d6443409185f224102a126cc8",
        "IPY_MODEL_383fb201d08940c7afdc92356403c93e",
        "IPY_MODEL_a1a653d92e784182a4aa190d2dfcc97b"
       ],
       "layout": "IPY_MODEL_41f31a39a49d45858032ad571a489229"
      }
     },
     "3f9ac585b99343c0b550420c9d136cfe": {
      "model_module": "@jupyter-widgets/controls",
      "model_module_version": "1.5.0",
      "model_name": "DescriptionStyleModel",
      "state": {
       "description_width": ""
      }
     },
     "3fa26ebd66584dd0a2ad0a17d5dd78c5": {
      "model_module": "@jupyter-widgets/controls",
      "model_module_version": "1.5.0",
      "model_name": "DescriptionStyleModel",
      "state": {
       "description_width": ""
      }
     },
     "3fa4da4663e54b36b2be5e5bd9c59449": {
      "model_module": "@jupyter-widgets/base",
      "model_module_version": "1.2.0",
      "model_name": "LayoutModel",
      "state": {
       "display": "none",
       "grid_gap": "0px 0px",
       "grid_template_areas": "\n                    'pathlist filename'\n                    'dircontent dircontent'\n                    ",
       "grid_template_columns": "60% 40%",
       "grid_template_rows": "auto auto",
       "width": "500px"
      }
     },
     "3fabf3ef817140bf91a207fd7722e430": {
      "model_module": "@jupyter-widgets/controls",
      "model_module_version": "1.5.0",
      "model_name": "ButtonModel",
      "state": {
       "description": "Create copy:",
       "layout": "IPY_MODEL_f8bacf827385406aa9605a3830e1e846",
       "style": "IPY_MODEL_61a69482844e4a2180f824737eb3dca6"
      }
     },
     "3fbe6446ea7c4d9da6cad71e11009ecc": {
      "model_module": "@jupyter-widgets/controls",
      "model_module_version": "1.5.0",
      "model_name": "TextModel",
      "state": {
       "description": "bzz",
       "layout": "IPY_MODEL_48793366f78841dfb215ba230a0c6eab",
       "style": "IPY_MODEL_43d541399e9443a0907efb4f780172de"
      }
     },
     "3fc56027f9cb46388fa3990a7543edc3": {
      "model_module": "@jupyter-widgets/base",
      "model_module_version": "1.2.0",
      "model_name": "LayoutModel",
      "state": {
       "display": "none",
       "width": "auto"
      }
     },
     "3fc84c4972ad4d0d99cf7de4d94e81ba": {
      "model_module": "@jupyter-widgets/controls",
      "model_module_version": "1.5.0",
      "model_name": "DescriptionStyleModel",
      "state": {
       "description_width": "initial"
      }
     },
     "40163f33881e456bb3aa9eb6c004149f": {
      "model_module": "@jupyter-widgets/base",
      "model_module_version": "1.2.0",
      "model_name": "LayoutModel",
      "state": {}
     },
     "404eaa0614a4463da1e70f5b720015b5": {
      "model_module": "@jupyter-widgets/base",
      "model_module_version": "1.2.0",
      "model_name": "LayoutModel",
      "state": {}
     },
     "4064bff2c44a495d989b9462abbfdc70": {
      "model_module": "@jupyter-widgets/base",
      "model_module_version": "1.2.0",
      "model_name": "LayoutModel",
      "state": {}
     },
     "406c6efa17e8422aa04bce7a3ccc1cfc": {
      "model_module": "@jupyter-widgets/controls",
      "model_module_version": "1.5.0",
      "model_name": "HBoxModel",
      "state": {
       "children": [
        "IPY_MODEL_d10b4911b4ae472cbefa3a2d3b778cc1",
        "IPY_MODEL_51e328f058bb465d8d0746fe313ab9ca"
       ],
       "layout": "IPY_MODEL_e282fa86b8c34c298cc9486fca955dec"
      }
     },
     "407cbb0a69e741c985f6b9990c6cb828": {
      "model_module": "@jupyter-widgets/controls",
      "model_module_version": "1.5.0",
      "model_name": "LabelModel",
      "state": {
       "layout": "IPY_MODEL_811eb5b4b5a04d2dbf36d0d369549493",
       "style": "IPY_MODEL_539e3f6f29924dff91224f6811fa915a",
       "value": "1D Mesh"
      }
     },
     "40a3e816157b48bcb383422e0a4a346f": {
      "model_module": "@jupyter-widgets/controls",
      "model_module_version": "1.5.0",
      "model_name": "DescriptionStyleModel",
      "state": {
       "description_width": "initial"
      }
     },
     "40e8b6bb3d604eafbebb1e0ee7f7e098": {
      "model_module": "@jupyter-widgets/controls",
      "model_module_version": "1.5.0",
      "model_name": "FloatSliderModel",
      "state": {
       "continuous_update": false,
       "description": "Northing",
       "layout": "IPY_MODEL_3d1a621d0e544e7f96d8307ec3c0172f",
       "max": 6077578.83861151,
       "min": 6063956.600608527,
       "orientation": "vertical",
       "step": 10,
       "style": "IPY_MODEL_5c68566342794ff79a00fde8916898e2",
       "value": 6072200
      }
     },
     "410f3207b5da4de5a66713e11a771924": {
      "model_module": "@jupyter-widgets/controls",
      "model_module_version": "1.5.0",
      "model_name": "DescriptionStyleModel",
      "state": {
       "description_width": ""
      }
     },
     "412af3e1f9944bcea2e2063e9d01b312": {
      "model_module": "@jupyter-widgets/controls",
      "model_module_version": "1.5.0",
      "model_name": "VBoxModel",
      "state": {
       "children": [
        "IPY_MODEL_38e0ca38819b4b35b512da085875f6c6",
        "IPY_MODEL_c0fd48bf219448eda565e203664014fa"
       ],
       "layout": "IPY_MODEL_af8ab7ff994c4dbb918379e571ac826b"
      }
     },
     "415bbf2d436b402683f7ffb5279dfc25": {
      "model_module": "@jupyter-widgets/controls",
      "model_module_version": "1.5.0",
      "model_name": "SelectModel",
      "state": {
       "_options_labels": [
        "..",
        "dask-worker-space",
        "images",
        "GEOSCIENCEtemp",
        "Untitled.ipynb",
        "base_application.ipynb",
        "calculator.ipynb",
        "clustering.ipynb",
        "contouring.ipynb",
        "coordinate_transformation.ipynb",
        "create_isosurface.ipynb",
        "create_surface.ipynb",
        "data_interpolation.ipynb",
        "edge_detection.ipynb",
        "export.ipynb",
        "geophysical_inversion.ipynb",
        "object_data_selection.ipynb",
        "peak_finder.ipynb",
        "scatter.ipynb",
        "view_selection.ipynb"
       ],
       "index": null,
       "layout": "IPY_MODEL_a6a52c2ce94748f6a51204c682a1ceb3",
       "rows": 8,
       "style": "IPY_MODEL_effa0e3afeb9424297dc4c6ce7c57279"
      }
     },
     "416e6e7e984941e0badea5abdae546bc": {
      "model_module": "@jupyter-widgets/base",
      "model_module_version": "1.2.0",
      "model_name": "LayoutModel",
      "state": {
       "display": "none",
       "grid_gap": "0px 0px",
       "grid_template_areas": "\n                    'pathlist filename'\n                    'dircontent dircontent'\n                    ",
       "grid_template_columns": "60% 40%",
       "grid_template_rows": "auto auto",
       "width": "500px"
      }
     },
     "41742799de684bd1a729170d88d59676": {
      "model_module": "@jupyter-widgets/base",
      "model_module_version": "1.2.0",
      "model_name": "LayoutModel",
      "state": {
       "display": "none",
       "grid_area": "filename",
       "width": "auto"
      }
     },
     "417f5ddfd5f2420f8642500646cad05b": {
      "model_module": "@jupyter-widgets/controls",
      "model_module_version": "1.5.0",
      "model_name": "DescriptionStyleModel",
      "state": {
       "description_width": ""
      }
     },
     "4187ba3840094db68f19e8f2f53bc34f": {
      "model_module": "@jupyter-widgets/base",
      "model_module_version": "1.2.0",
      "model_name": "LayoutModel",
      "state": {}
     },
     "41a59c7075544c14a1bfb76c74d9386e": {
      "model_module": "@jupyter-widgets/base",
      "model_module_version": "1.2.0",
      "model_name": "LayoutModel",
      "state": {}
     },
     "41c7ce6f18b34dda82846d10581d6dcd": {
      "model_module": "@jupyter-widgets/controls",
      "model_module_version": "1.5.0",
      "model_name": "VBoxModel",
      "state": {
       "children": [
        "IPY_MODEL_7ba02de37978420cacb839b7b13b9e3a",
        "IPY_MODEL_c1d920fdf1b34cc88f93065469992a9e"
       ],
       "layout": "IPY_MODEL_9f39c7a8c9ca4cf68ee2f842b439e514"
      }
     },
     "41f31a39a49d45858032ad571a489229": {
      "model_module": "@jupyter-widgets/base",
      "model_module_version": "1.2.0",
      "model_name": "LayoutModel",
      "state": {}
     },
     "41fb0edbdec240868601478ebd611f09": {
      "model_module": "@jupyter-widgets/controls",
      "model_module_version": "1.5.0",
      "model_name": "ButtonStyleModel",
      "state": {}
     },
     "421ded201ffa4ac89542117568472606": {
      "model_module": "@jupyter-widgets/controls",
      "model_module_version": "1.5.0",
      "model_name": "TextModel",
      "state": {
       "description": "Smallest cells",
       "layout": "IPY_MODEL_e1acb614e5244add9011ca5e84f1d60f",
       "style": "IPY_MODEL_7c0b3a3180a04b6c818da0de75210278",
       "value": "25, 25, 25"
      }
     },
     "424f9982866b4d9d9a34d5851c6991a1": {
      "model_module": "@jupyter-widgets/base",
      "model_module_version": "1.2.0",
      "model_name": "LayoutModel",
      "state": {}
     },
     "426d342bd48a4c9aa8973330068c14ae": {
      "model_module": "@jupyter-widgets/controls",
      "model_module_version": "1.5.0",
      "model_name": "DescriptionStyleModel",
      "state": {
       "description_width": ""
      }
     },
     "4289b112ee25443a8c5c4d110175325e": {
      "model_module": "@jupyter-widgets/controls",
      "model_module_version": "1.5.0",
      "model_name": "HBoxModel",
      "state": {
       "children": [
        "IPY_MODEL_7ebec1369db1452ea5f57d7aec4deb7f"
       ],
       "layout": "IPY_MODEL_517e60a3529e46ee9f8bc4cdc5921874"
      }
     },
     "42a34ff35b1c47d8be4c631e6637374b": {
      "model_module": "@jupyter-widgets/controls",
      "model_module_version": "1.5.0",
      "model_name": "VBoxModel",
      "state": {
       "children": [
        "IPY_MODEL_302591f5f5624582835a9275b26e1f83",
        "IPY_MODEL_7e575b2e95684c729d25f520dc9576e4"
       ],
       "layout": "IPY_MODEL_92fca49e6d00415480d89bb25c3ba07f"
      }
     },
     "42bf312c45f2412f9c99020c192d903a": {
      "model_module": "@jupyter-widgets/controls",
      "model_module_version": "1.5.0",
      "model_name": "ButtonStyleModel",
      "state": {}
     },
     "42d6e91c11904cc0a44bebbed755d9ca": {
      "model_module": "@jupyter-widgets/base",
      "model_module_version": "1.2.0",
      "model_name": "LayoutModel",
      "state": {}
     },
     "43053e272ec745fc809ae2fb0cf7ffd2": {
      "model_module": "@jupyter-widgets/controls",
      "model_module_version": "1.5.0",
      "model_name": "TextModel",
      "state": {
       "description": "Padding [W,E,N,S,D,U] (m)",
       "layout": "IPY_MODEL_81d01879aa4d467f9bc62af5683bace6",
       "style": "IPY_MODEL_8d225b546d9d4ec793acd205c7c63c6e",
       "value": "0, 0, 0, 0, 0, 0"
      }
     },
     "4335d55a061c45179e4593655af30198": {
      "model_module": "@jupyter-widgets/base",
      "model_module_version": "1.2.0",
      "model_name": "LayoutModel",
      "state": {
       "display": "none"
      }
     },
     "43784e76ec00468d84a1259bf9e0d0c7": {
      "model_module": "@jupyter-widgets/base",
      "model_module_version": "1.2.0",
      "model_name": "LayoutModel",
      "state": {}
     },
     "437af7e99167494aa10e17a1fa0a06a5": {
      "model_module": "@jupyter-widgets/controls",
      "model_module_version": "1.5.0",
      "model_name": "ButtonModel",
      "state": {
       "description": "Select",
       "layout": "IPY_MODEL_894ba5dc7d4f47a1ac4f3cdc4188725e",
       "style": "IPY_MODEL_10e02c98011e4ada8b555e6ebd056c85"
      }
     },
     "438912cced3440a8a8acec7893f7f0f6": {
      "model_module": "@jupyter-widgets/base",
      "model_module_version": "1.2.0",
      "model_name": "LayoutModel",
      "state": {
       "display": "none",
       "grid_gap": "0px 0px",
       "grid_template_areas": "\n                    'pathlist pathlist'\n                    'dircontent dircontent'\n                    ",
       "grid_template_columns": "60% 40%",
       "grid_template_rows": "auto auto",
       "width": "500px"
      }
     },
     "43993a5213e341088e74c807c27acecc": {
      "model_module": "@jupyter-widgets/controls",
      "model_module_version": "1.5.0",
      "model_name": "GridBoxModel",
      "state": {
       "children": [
        "IPY_MODEL_ac84e74506cc4ce08a65a25d5c0ca227",
        "IPY_MODEL_e3dce0bc7b074ffb97c49e410593ef0b",
        "IPY_MODEL_62d4c38a2aa94aa1b9695ad5135b41f2"
       ],
       "layout": "IPY_MODEL_ad3489d2921a4d46b7f187226835e083"
      }
     },
     "439c7167969341bb9362e7ef11adc9d6": {
      "model_module": "@jupyter-widgets/base",
      "model_module_version": "1.2.0",
      "model_name": "LayoutModel",
      "state": {}
     },
     "439e0bc7d72e464f8924741edf0c6cbe": {
      "model_module": "@jupyter-widgets/base",
      "model_module_version": "1.2.0",
      "model_name": "LayoutModel",
      "state": {}
     },
     "43abf1c297484ec9b7c347647d5414b4": {
      "model_module": "@jupyter-widgets/controls",
      "model_module_version": "1.5.0",
      "model_name": "DescriptionStyleModel",
      "state": {
       "description_width": ""
      }
     },
     "43b22c1d71904f508726f07043dca08e": {
      "model_module": "@jupyter-widgets/controls",
      "model_module_version": "1.5.0",
      "model_name": "HTMLModel",
      "state": {
       "layout": "IPY_MODEL_2e9894104f93404caeb883ad7cabdec1",
       "placeholder": "",
       "style": "IPY_MODEL_c4bd479b7ebe40218a3e24ffaabf69a6",
       "value": "<span style=\"margin-left:10px; color:black;\">No file selected</span>"
      }
     },
     "43b97ad1f14e47728f49ab29f4a85199": {
      "model_module": "@jupyter-widgets/controls",
      "model_module_version": "1.5.0",
      "model_name": "DescriptionStyleModel",
      "state": {
       "description_width": ""
      }
     },
     "43d541399e9443a0907efb4f780172de": {
      "model_module": "@jupyter-widgets/controls",
      "model_module_version": "1.5.0",
      "model_name": "DescriptionStyleModel",
      "state": {
       "description_width": "initial"
      }
     },
     "43dfc39eeaaf4f3cbc14e68782c6a103": {
      "model_module": "@jupyter-widgets/controls",
      "model_module_version": "1.5.0",
      "model_name": "ButtonModel",
      "state": {
       "description": "Select",
       "layout": "IPY_MODEL_86cb288b764d4f179a4f0c96399539b9",
       "style": "IPY_MODEL_27567512f8314f40b5edab13e1b82aee"
      }
     },
     "43e004b8e45247a689095f8289ec1af3": {
      "model_module": "@jupyter-widgets/controls",
      "model_module_version": "1.5.0",
      "model_name": "TextModel",
      "state": {
       "description": "Inducing Field [Amp, Inc, Dec]",
       "layout": "IPY_MODEL_b16c71bcb784448195c717d344bd0bf6",
       "style": "IPY_MODEL_998a78c2ba53495b9e74d029367a4e58",
       "value": "60000, 79, 11"
      }
     },
     "43ed34fba5d341b6908406df19b4ddd7": {
      "model_module": "@jupyter-widgets/controls",
      "model_module_version": "1.5.0",
      "model_name": "VBoxModel",
      "state": {
       "children": [
        "IPY_MODEL_f08d5758a6f34416af9bdb92df650f91",
        "IPY_MODEL_9c61c68b620d4565aabc1433762325e4",
        "IPY_MODEL_e2ca97f003004aac93d26824a2b59495",
        "IPY_MODEL_9e989c46a0894c3490ac78ed040e6ee9",
        "IPY_MODEL_ce13b4b116544501a7560dc78baaadf7"
       ],
       "layout": "IPY_MODEL_7b3a71badc9c4af89e7bc29985955708"
      }
     },
     "43f6ae261e634c3e9b73fbdf502a5cfb": {
      "model_module": "@jupyter-widgets/controls",
      "model_module_version": "1.5.0",
      "model_name": "DescriptionStyleModel",
      "state": {
       "description_width": "initial"
      }
     },
     "4414f77d866b4fe5a9740610c0c9fd7c": {
      "model_module": "@jupyter-widgets/base",
      "model_module_version": "1.2.0",
      "model_name": "LayoutModel",
      "state": {}
     },
     "4429722dd5414eaaab4d381a706d550d": {
      "model_module": "@jupyter-widgets/controls",
      "model_module_version": "1.5.0",
      "model_name": "DescriptionStyleModel",
      "state": {
       "description_width": ""
      }
     },
     "445954a5c217418a88b40b38e0318c1c": {
      "model_module": "@jupyter-widgets/base",
      "model_module_version": "1.2.0",
      "model_name": "LayoutModel",
      "state": {
       "visibility": "visible"
      }
     },
     "44602b63beb24bbfb8c8fe4fb65a4f2f": {
      "model_module": "@jupyter-widgets/base",
      "model_module_version": "1.2.0",
      "model_name": "LayoutModel",
      "state": {}
     },
     "4494ed3da2454fabb355b9beb1c4980f": {
      "model_module": "@jupyter-widgets/base",
      "model_module_version": "1.2.0",
      "model_name": "LayoutModel",
      "state": {}
     },
     "44c1a2bd49c84d26875cebffbadc0b77": {
      "model_module": "@jupyter-widgets/base",
      "model_module_version": "1.2.0",
      "model_name": "LayoutModel",
      "state": {}
     },
     "44db5dd55eed4e64aaeddd09bb91d60b": {
      "model_module": "@jupyter-widgets/base",
      "model_module_version": "1.2.0",
      "model_name": "LayoutModel",
      "state": {}
     },
     "44e04cb7e937449ba121b5c42db9d5ff": {
      "model_module": "@jupyter-widgets/base",
      "model_module_version": "1.2.0",
      "model_name": "LayoutModel",
      "state": {}
     },
     "44f8a7d0f217461e8fbb1b290cc9161b": {
      "model_module": "@jupyter-widgets/controls",
      "model_module_version": "1.5.0",
      "model_name": "DescriptionStyleModel",
      "state": {
       "description_width": "initial"
      }
     },
     "44fdd409795642749f9b53d84533d684": {
      "model_module": "@jupyter-widgets/controls",
      "model_module_version": "1.5.0",
      "model_name": "HTMLModel",
      "state": {
       "layout": "IPY_MODEL_2281243570b24d5c8f854b9eaa341fb6",
       "style": "IPY_MODEL_e16262aa1d7f4ae0b953c54407cd0d30"
      }
     },
     "4508ac42d3044d25b4cd230eef2eb8e9": {
      "model_module": "@jupyter-widgets/controls",
      "model_module_version": "1.5.0",
      "model_name": "DescriptionStyleModel",
      "state": {
       "description_width": ""
      }
     },
     "450d87d6114c4eed8a154e8faeb8642f": {
      "model_module": "@jupyter-widgets/controls",
      "model_module_version": "1.5.0",
      "model_name": "DropdownModel",
      "state": {
       "description": "Values",
       "index": null,
       "layout": "IPY_MODEL_1c17152c916f4ebb8ca084cb5fbfe7b8",
       "style": "IPY_MODEL_2f0a36916f654009bc7c98349eb58328"
      }
     },
     "452150a2866f41d8a6dd6d2f8f527835": {
      "model_module": "@jupyter-widgets/base",
      "model_module_version": "1.2.0",
      "model_name": "LayoutModel",
      "state": {}
     },
     "452c57cb0bc84ad886e36de147fdde72": {
      "model_module": "@jupyter-widgets/base",
      "model_module_version": "1.2.0",
      "model_name": "LayoutModel",
      "state": {
       "width": "auto"
      }
     },
     "453e0d0cdac34d7fb800b64577fb0fd8": {
      "model_module": "@jupyter-widgets/base",
      "model_module_version": "1.2.0",
      "model_name": "LayoutModel",
      "state": {
       "visibility": "hidden"
      }
     },
     "456dab278ef943b68111e34186aacddb": {
      "model_module": "@jupyter-widgets/base",
      "model_module_version": "1.2.0",
      "model_name": "LayoutModel",
      "state": {}
     },
     "457631363461413f883fa61da61e6295": {
      "model_module": "@jupyter-widgets/controls",
      "model_module_version": "1.5.0",
      "model_name": "DescriptionStyleModel",
      "state": {
       "description_width": ""
      }
     },
     "457ac9ae2de540bdadb9bc7f41babc86": {
      "model_module": "@jupyter-widgets/controls",
      "model_module_version": "1.5.0",
      "model_name": "VBoxModel",
      "state": {
       "children": [
        "IPY_MODEL_8232c4fc260a4d7d8bd60c266c93a6c8",
        "IPY_MODEL_f5e901cc239e476a993f8f7f0fb8d93b"
       ],
       "layout": "IPY_MODEL_11823b8e2ad14e7488bbe37f4460cc98"
      }
     },
     "4583294ac8d140d6871fc95874d025c9": {
      "model_module": "@jupyter-widgets/controls",
      "model_module_version": "1.5.0",
      "model_name": "GridBoxModel",
      "state": {
       "children": [
        "IPY_MODEL_7ecd52647ac041fb9e498d4f88271d01",
        "IPY_MODEL_4e7fd80271994c4c999981452993ae9c",
        "IPY_MODEL_4c9e221627324ca692384f179436ffe1"
       ],
       "layout": "IPY_MODEL_a4981bc2452c4bfd90f1929061ae0f68"
      }
     },
     "458a1428975544e9bbb08bc421fdd67b": {
      "model_module": "@jupyter-widgets/controls",
      "model_module_version": "1.5.0",
      "model_name": "SliderStyleModel",
      "state": {
       "description_width": ""
      }
     },
     "45957f04fa3647c48bb1ebfc9f925529": {
      "model_module": "@jupyter-widgets/controls",
      "model_module_version": "1.5.0",
      "model_name": "TextModel",
      "state": {
       "disabled": true,
       "layout": "IPY_MODEL_a502092be2c34d27a32ba8a346abff5f",
       "placeholder": "output filename",
       "style": "IPY_MODEL_a4b6b9400bb84eb8928ce176c14b219f"
      }
     },
     "4598deea504d4b75abaf508835f3d5c5": {
      "model_module": "@jupyter-widgets/base",
      "model_module_version": "1.2.0",
      "model_name": "LayoutModel",
      "state": {}
     },
     "45c15d81a2324d569bbdbb8ab71f7420": {
      "model_module": "@jupyter-widgets/controls",
      "model_module_version": "1.5.0",
      "model_name": "CheckboxModel",
      "state": {
       "description": "GA Pro - Live link",
       "disabled": false,
       "indent": false,
       "layout": "IPY_MODEL_38ad0f6e01cd4a608e60e74aba8bc642",
       "style": "IPY_MODEL_1bb7ad7af40a48da9ec0176484183d5a",
       "value": false
      }
     },
     "463a76fc200f4beaa952bfe73cc36224": {
      "model_module": "@jupyter-widgets/base",
      "model_module_version": "1.2.0",
      "model_name": "LayoutModel",
      "state": {}
     },
     "4646e20a6da84e3b82095d6ede1229b0": {
      "model_module": "@jupyter-widgets/controls",
      "model_module_version": "1.5.0",
      "model_name": "ButtonModel",
      "state": {
       "button_style": "danger",
       "description": "Compute",
       "icon": "check",
       "layout": "IPY_MODEL_4e9fb1efc0304cda9ebb2a929f96bb84",
       "style": "IPY_MODEL_9433c8015f1e4a3e89a563feb32e7ecd",
       "tooltip": "Run computation"
      }
     },
     "464a65328ceb4f86874625e4ce02fb6a": {
      "model_module": "@jupyter-widgets/controls",
      "model_module_version": "1.5.0",
      "model_name": "DescriptionStyleModel",
      "state": {
       "description_width": "initial"
      }
     },
     "465b3bf3f70b456889253e82a59049fb": {
      "model_module": "@jupyter-widgets/controls",
      "model_module_version": "1.5.0",
      "model_name": "HTMLModel",
      "state": {
       "layout": "IPY_MODEL_7e6a456ee3eb40d187421620676d498e",
       "style": "IPY_MODEL_bb944099dffb4a3e8f8bd2a521c210af"
      }
     },
     "469f1d94b29a4b7ea80aa0baad9e574a": {
      "model_module": "@jupyter-widgets/controls",
      "model_module_version": "1.5.0",
      "model_name": "DropdownModel",
      "state": {
       "_options_labels": [
        "",
        "fault_splay1",
        "fault_Cliff_Lake",
        "fault_Other_FlinFlon",
        "fault_Club_Lake_splay",
        "fault_Catherine_splay2",
        "fault_Birch_View",
        "fault_Dion_Lake",
        "fault_FlinFlon_splay",
        "fault_West_Mandy_Road",
        "fault_Channing",
        "fault_Ross_Lake",
        "fault_Louis_Hidden",
        "fault_Lake_View_thrust",
        "contact_Schist_Lake",
        "fault_Burley_Lake",
        "fault_Dion_Lake_splay",
        "fault_Green_Lake",
        "fault_FlinFlon",
        "fault_Catherine_splay1",
        "fault_East_Mandy_Road",
        "fault_Other_FlinFlon_South",
        "fault_Catherine_splay4",
        "contact_Stitt_Island",
        "fault_Club_Lake",
        "fault_Tailing_Pond",
        "35_Hidden_Reservoir_Hr5",
        "29_Hidden_Reservoir_Hr1a",
        "60_BlueLagoon_Fb2",
        "20_FlinFlon_Undivided_Int_Dykes_D2f",
        "04_Boundary_Intrusive_S4h",
        "53_Millrock_Rhyolite_Fm4b",
        "19_FlinFlon_Undivided_Int_Dykes_D2b",
        "18_FlinFlon_Undivided_Int_Dykes_777_D2b",
        "06_Phantom_Lake_Intrusive_S3a",
        "21_FlinFlon_Undivided_Int_Dykes_D3a",
        "43_Millrock_CHLSH_South",
        "56_Millrock_Basalt_Fm1ba",
        "17_FlinFlon_Undivided_Int_Dykes_D2",
        "32_Hidden_Reservoir_Hr1b_SW",
        "11_Missi_M3_NE",
        "13_Missi_M1",
        "07_Annabel_Granitoid_S1",
        "45_Millrock_Gabbro_South",
        "01_Late_Intrusive_S5b",
        "31_Hidden_Reservoir_Hr1c_SW",
        "52_Millrock_Rhyolite_Fm4_West_check",
        "55_Millrock_Basalt_Fm1bf",
        "34_Hidden_Reservoir_Hr2b",
        "03_Boundary_Intrusive_S4b",
        "42_Millrock_CHLSH_North",
        "26_Louis_L3",
        "23_FlinFlon_Undivided_Int_Felsic_D4g",
        "30_Hidden_Reservoir_Hr1b",
        "59_BlueLagoon_Fb3",
        "49_Millrock_MVR_Fm5d",
        "44_Millrock_Gabbro_North",
        "27_Hidden_Carlisle_Hc4",
        "22_FlinFlon_Undivided_Int_Felsic_D4e",
        "02_Boundary_Intrusive_S4a",
        "61_BlueLagoon_Fb1_NW",
        "05_Boundary_Intrusive_S4g",
        "39_Ore_Callinan",
        "38_Ore_Dan_Owens",
        "40_Ore_FlinFlon",
        "Inversion_VTEM_Model",
        "Gravity_Magnetics_drape60m",
        "CDI_VTEM_model",
        "Data_FEM_pseudo3D",
        "O2O_Interp_25m",
        "geochem",
        "Inversion_DIGHEM_Model",
        "Topography",
        "Data_TEM_pseudo3D",
        "Data_ZTEM"
       ],
       "description": "Object:",
       "index": 72,
       "layout": "IPY_MODEL_00415aa09acd445396e05b29532dad74",
       "style": "IPY_MODEL_5275ec1ca81a4c91b0f787ace957c50e"
      }
     },
     "46aaa9e5d36e4af98784e6153c98e495": {
      "model_module": "@jupyter-widgets/base",
      "model_module_version": "1.2.0",
      "model_name": "LayoutModel",
      "state": {}
     },
     "46fbc519b8d247e2b9be2f29fd83b79b": {
      "model_module": "@jupyter-widgets/controls",
      "model_module_version": "1.5.0",
      "model_name": "TextModel",
      "state": {
       "description": "tmi",
       "layout": "IPY_MODEL_c2c24aed1ebc466b8d484e2aada8ec92",
       "style": "IPY_MODEL_8a41e07726184ffeabea9e860caf1295"
      }
     },
     "47094311bcda47fea50a788b89b30040": {
      "model_module": "@jupyter-widgets/controls",
      "model_module_version": "1.5.0",
      "model_name": "DescriptionStyleModel",
      "state": {
       "description_width": ""
      }
     },
     "47373c84188e4e2593e8be4718645cd7": {
      "model_module": "@jupyter-widgets/controls",
      "model_module_version": "1.5.0",
      "model_name": "DescriptionStyleModel",
      "state": {
       "description_width": "initial"
      }
     },
     "47650f177f0943a0b93ee53d0cbb4241": {
      "model_module": "@jupyter-widgets/controls",
      "model_module_version": "1.5.0",
      "model_name": "VBoxModel",
      "state": {
       "children": [
        "IPY_MODEL_9a5eee23fb04447ab8f92917f9bd41b5",
        "IPY_MODEL_9b7ef5c409274f57bcc875d61cb22366"
       ],
       "layout": "IPY_MODEL_8187b62dbf2d4c3fbf781e5e38e2e8dc"
      }
     },
     "47805e3f4b4248ff8b022416d6cc4fd5": {
      "model_module": "@jupyter-widgets/base",
      "model_module_version": "1.2.0",
      "model_name": "LayoutModel",
      "state": {}
     },
     "4797bcf9390b48da8710d6b99de99d17": {
      "model_module": "@jupyter-widgets/base",
      "model_module_version": "1.2.0",
      "model_name": "LayoutModel",
      "state": {}
     },
     "47980fc6b22e42818100f9e2e1ea987b": {
      "model_module": "@jupyter-widgets/base",
      "model_module_version": "1.2.0",
      "model_name": "LayoutModel",
      "state": {}
     },
     "47c7e45fc18d4f71b3eef9b0c4d8bc9d": {
      "model_module": "@jupyter-widgets/base",
      "model_module_version": "1.2.0",
      "model_name": "LayoutModel",
      "state": {}
     },
     "47cb94546dcf4b4a8605a147e7476703": {
      "model_module": "@jupyter-widgets/base",
      "model_module_version": "1.2.0",
      "model_name": "LayoutModel",
      "state": {}
     },
     "47e69065861846128c8f135711a3f7e6": {
      "model_module": "@jupyter-widgets/controls",
      "model_module_version": "1.5.0",
      "model_name": "CheckboxModel",
      "state": {
       "description": "GA Pro - Live link",
       "disabled": false,
       "indent": false,
       "layout": "IPY_MODEL_f9acf3fff87e41e3840ac4d6ec979d75",
       "style": "IPY_MODEL_ed6563d0149e4722bd83e80476094759",
       "value": false
      }
     },
     "47f5a5ed78e14276a5666bcea59b663f": {
      "model_module": "@jupyter-widgets/controls",
      "model_module_version": "1.5.0",
      "model_name": "LabelModel",
      "state": {
       "layout": "IPY_MODEL_9bce0e6f0ff449198b2bd25e079e12b8",
       "style": "IPY_MODEL_2e88b914aad541d88c1e521c07077100",
       "value": "Monitoring folder"
      }
     },
     "4855b13c76a741adbc4a639fc0dad9e6": {
      "model_module": "@jupyter-widgets/controls",
      "model_module_version": "1.5.0",
      "model_name": "HBoxModel",
      "state": {
       "children": [
        "IPY_MODEL_fc4571d4a7d0490683a77e2622c7d205"
       ],
       "layout": "IPY_MODEL_dcf8f1f1b3e24807aaa19a7c90e19116"
      }
     },
     "486768eb6cb14178955046e5660cf9fd": {
      "model_module": "@jupyter-widgets/controls",
      "model_module_version": "1.5.0",
      "model_name": "VBoxModel",
      "state": {
       "children": [
        "IPY_MODEL_15ec95e764b34fc2b79dac60a5f2c891",
        "IPY_MODEL_2b2d8eac05f645c8b0abf1a6f38ba3e3"
       ],
       "layout": "IPY_MODEL_11bd8d1fbd2a4ee184cc6c1904fe1fe4"
      }
     },
     "48793366f78841dfb215ba230a0c6eab": {
      "model_module": "@jupyter-widgets/base",
      "model_module_version": "1.2.0",
      "model_name": "LayoutModel",
      "state": {
       "visibility": "hidden"
      }
     },
     "488553933d4e4218956926bfc9dc67c5": {
      "model_module": "@jupyter-widgets/controls",
      "model_module_version": "1.5.0",
      "model_name": "SelectModel",
      "state": {
       "_options_labels": [
        "..",
        "dask-worker-space",
        "images",
        "GEOSCIENCEtemp",
        "Untitled.ipynb",
        "base_application.ipynb",
        "calculator.ipynb",
        "clustering.ipynb",
        "contouring.ipynb",
        "coordinate_transformation.ipynb",
        "create_isosurface.ipynb",
        "create_surface.ipynb",
        "data_interpolation.ipynb",
        "edge_detection.ipynb",
        "export.ipynb",
        "geophysical_inversion.ipynb",
        "object_data_selection.ipynb",
        "peak_finder.ipynb",
        "scatter.ipynb",
        "view_selection.ipynb"
       ],
       "index": null,
       "layout": "IPY_MODEL_54e4d5251a2943d5a363ea5853df3711",
       "rows": 8,
       "style": "IPY_MODEL_bbc1d4d51bea4583916e76c8d09414dd"
      }
     },
     "489fd23579ee4ff9be4865ad3ab3b732": {
      "model_module": "@jupyter-widgets/controls",
      "model_module_version": "1.5.0",
      "model_name": "DescriptionStyleModel",
      "state": {
       "description_width": ""
      }
     },
     "491fe3807f9346eb9d26dff56a037e55": {
      "model_module": "@jupyter-widgets/controls",
      "model_module_version": "1.5.0",
      "model_name": "DescriptionStyleModel",
      "state": {
       "description_width": "initial"
      }
     },
     "493889d792184f3db14fa0820a56669c": {
      "model_module": "@jupyter-widgets/controls",
      "model_module_version": "1.5.0",
      "model_name": "DescriptionStyleModel",
      "state": {
       "description_width": ""
      }
     },
     "494a8d7953034990800bb533ac421b3e": {
      "model_module": "@jupyter-widgets/base",
      "model_module_version": "1.2.0",
      "model_name": "LayoutModel",
      "state": {}
     },
     "499e5fc8352e4750bcc32cf3cb4411b7": {
      "model_module": "@jupyter-widgets/controls",
      "model_module_version": "1.5.0",
      "model_name": "LabelModel",
      "state": {
       "layout": "IPY_MODEL_02d45e0b77954b128d4f15ca7f34c813",
       "style": "IPY_MODEL_39cd90d38724475089c57867fb9ce12c",
       "value": "Monitoring folder"
      }
     },
     "49e034b91c6b48c187521914e8e7bcd8": {
      "model_module": "@jupyter-widgets/base",
      "model_module_version": "1.2.0",
      "model_name": "LayoutModel",
      "state": {}
     },
     "4a0a56f2a070422cb7eefa1e6128e60a": {
      "model_module": "@jupyter-widgets/base",
      "model_module_version": "1.2.0",
      "model_name": "LayoutModel",
      "state": {}
     },
     "4a0a8e7db6e84c90954b9dd79501da40": {
      "model_module": "@jupyter-widgets/controls",
      "model_module_version": "1.5.0",
      "model_name": "FloatTextModel",
      "state": {
       "description": "Constant elevation (m)",
       "layout": "IPY_MODEL_8180023761d44ef6bfcf9f6695bd96e9",
       "step": null,
       "style": "IPY_MODEL_6886c2ce43d245d6a3f39f4b22014d84"
      }
     },
     "4a1683b5bfc54dfba898be0b3738d1b2": {
      "model_module": "@jupyter-widgets/base",
      "model_module_version": "1.2.0",
      "model_name": "LayoutModel",
      "state": {}
     },
     "4a197adbfa5141479f8f987d9684f791": {
      "model_module": "@jupyter-widgets/controls",
      "model_module_version": "1.5.0",
      "model_name": "VBoxModel",
      "state": {
       "children": [
        "IPY_MODEL_469f1d94b29a4b7ea80aa0baad9e574a",
        "IPY_MODEL_f0c111cfbfcc4176a6eb1a3f8d9e5f8b"
       ],
       "layout": "IPY_MODEL_41a59c7075544c14a1bfb76c74d9386e"
      }
     },
     "4a29ab84e4b7434a80420b405efa6770": {
      "model_module": "@jupyter-widgets/controls",
      "model_module_version": "1.5.0",
      "model_name": "ButtonModel",
      "state": {
       "description": "Cancel",
       "layout": "IPY_MODEL_7f61b9b25edf4e0db452b693b3e02c0e",
       "style": "IPY_MODEL_f69fd67b0c8f4fa3bdaa89f705f76ccc"
      }
     },
     "4a5091d7c24c47469156aa204743d613": {
      "model_module": "@jupyter-widgets/controls",
      "model_module_version": "1.5.0",
      "model_name": "TextModel",
      "state": {
       "description": "byz",
       "layout": "IPY_MODEL_0f728632a48a499099113b6bf1cdfac7",
       "style": "IPY_MODEL_bea7e12b722d4a76a0e11c4b01a45e6f"
      }
     },
     "4a52deb2b134411faf2f2e004cfb9670": {
      "model_module": "@jupyter-widgets/controls",
      "model_module_version": "1.5.0",
      "model_name": "CheckboxModel",
      "state": {
       "description": "Active",
       "disabled": false,
       "layout": "IPY_MODEL_d3db13420c1d4c1db4bb6754cdc0ee06",
       "style": "IPY_MODEL_f78c555b9d914e21bb686cb9b0a5a967",
       "value": true
      }
     },
     "4a662db89da34068a4bad861758d9f9e": {
      "model_module": "@jupyter-widgets/controls",
      "model_module_version": "1.5.0",
      "model_name": "DescriptionStyleModel",
      "state": {
       "description_width": "initial"
      }
     },
     "4a7a9ae564c6410989da48c4b382786f": {
      "model_module": "@jupyter-widgets/base",
      "model_module_version": "1.2.0",
      "model_name": "LayoutModel",
      "state": {
       "display": "none",
       "grid_gap": "0px 0px",
       "grid_template_areas": "\n                    'pathlist pathlist'\n                    'dircontent dircontent'\n                    ",
       "grid_template_columns": "60% 40%",
       "grid_template_rows": "auto auto",
       "width": "500px"
      }
     },
     "4aba720a1c6b4227bfda18f0bbe24770": {
      "model_module": "@jupyter-widgets/controls",
      "model_module_version": "1.5.0",
      "model_name": "VBoxModel",
      "state": {
       "children": [
        "IPY_MODEL_0c57e0053b8b4724af75cd658446a9e9",
        "IPY_MODEL_c25557ec33a14c75962b3b93e1522aa3"
       ],
       "layout": "IPY_MODEL_95322f0683d542e583f9b78b749b0cb7"
      }
     },
     "4acca38696884bb1ac2efd4b3ded9421": {
      "model_module": "@jupyter-widgets/base",
      "model_module_version": "1.2.0",
      "model_name": "LayoutModel",
      "state": {}
     },
     "4ade76550a3b4e729d8a4bf1ba801e6b": {
      "model_module": "@jupyter-widgets/base",
      "model_module_version": "1.2.0",
      "model_name": "LayoutModel",
      "state": {
       "width": "auto"
      }
     },
     "4af367d574bc44ca9f9c6b223ceed0aa": {
      "model_module": "@jupyter-widgets/base",
      "model_module_version": "1.2.0",
      "model_name": "LayoutModel",
      "state": {
       "display": "none",
       "width": "auto"
      }
     },
     "4b09a383b44444249bc915aeda1f8ac7": {
      "model_module": "@jupyter-widgets/controls",
      "model_module_version": "1.5.0",
      "model_name": "VBoxModel",
      "state": {
       "children": [
        "IPY_MODEL_b5f73aa5762c4e268b1ca4526ca096f9",
        "IPY_MODEL_b69456c01bc041fa9dae2a701561125b"
       ],
       "layout": "IPY_MODEL_e20af906d60545e2a3aa49d4f65b4ef3"
      }
     },
     "4b0e49d0afb1431e961264aace6126bb": {
      "model_module": "@jupyter-widgets/base",
      "model_module_version": "1.2.0",
      "model_name": "LayoutModel",
      "state": {}
     },
     "4b3f539d6dcc4ec7beb103201b28301b": {
      "model_module": "@jupyter-widgets/controls",
      "model_module_version": "1.5.0",
      "model_name": "DescriptionStyleModel",
      "state": {
       "description_width": ""
      }
     },
     "4b47c32badd148848e219055fd64c1ed": {
      "model_module": "@jupyter-widgets/base",
      "model_module_version": "1.2.0",
      "model_name": "LayoutModel",
      "state": {
       "width": "auto"
      }
     },
     "4b685303f1344847ab0ac4918f380838": {
      "model_module": "@jupyter-widgets/controls",
      "model_module_version": "1.5.0",
      "model_name": "FloatTextModel",
      "state": {
       "description": "Number of cells:",
       "layout": "IPY_MODEL_c3070d28b5194cce913bd8683dde0f4b",
       "step": null,
       "style": "IPY_MODEL_e5e6f67ce10c42928c90059af153880d",
       "value": 25
      }
     },
     "4b8e8f34031e412dbf1fa5692d96736d": {
      "model_module": "@jupyter-widgets/base",
      "model_module_version": "1.2.0",
      "model_name": "LayoutModel",
      "state": {
       "width": "auto"
      }
     },
     "4b9724f33b4446a381673369311b5738": {
      "model_module": "@jupyter-widgets/base",
      "model_module_version": "1.2.0",
      "model_name": "LayoutModel",
      "state": {
       "display": "none",
       "grid_gap": "0px 0px",
       "grid_template_areas": "\n                    'pathlist filename'\n                    'dircontent dircontent'\n                    ",
       "grid_template_columns": "60% 40%",
       "grid_template_rows": "auto auto",
       "width": "500px"
      }
     },
     "4b9f557944ed40d39c04afc28db47888": {
      "model_module": "@jupyter-widgets/controls",
      "model_module_version": "1.5.0",
      "model_name": "TextModel",
      "state": {
       "description": "Error (%, floor)",
       "layout": "IPY_MODEL_79ac4aca888e489ea9e92e790b6bd8b7",
       "style": "IPY_MODEL_fc97eb841ea84bd591003e06b4c38ed7",
       "value": "0, 1"
      }
     },
     "4bc4cec658a245b4b27800a8e410ce9f": {
      "model_module": "@jupyter-widgets/controls",
      "model_module_version": "1.5.0",
      "model_name": "GridBoxModel",
      "state": {
       "children": [
        "IPY_MODEL_613d165c697e42ef8fa11ded2a6de578",
        "IPY_MODEL_836f729b2ef443e7a1f187b27fc58f29",
        "IPY_MODEL_8890033b95cd47cc83daddbcbe27d442"
       ],
       "layout": "IPY_MODEL_8ccc077f6dd148e395dbd8515a2e229e"
      }
     },
     "4bc4dbedc4044112a74b8fcc2905f64a": {
      "model_module": "@jupyter-widgets/controls",
      "model_module_version": "1.5.0",
      "model_name": "DescriptionStyleModel",
      "state": {
       "description_width": ""
      }
     },
     "4bc8ce142709451d83f5fc4c403fc29e": {
      "model_module": "@jupyter-widgets/controls",
      "model_module_version": "1.5.0",
      "model_name": "ButtonModel",
      "state": {
       "description": "Cancel",
       "layout": "IPY_MODEL_ce1734c014d24ec4adeaba281b7e95f4",
       "style": "IPY_MODEL_1e3a81da7a374f2d86a6f9aa2390efba"
      }
     },
     "4bd2e08ebd0b4be388afcda20e203920": {
      "model_module": "@jupyter-widgets/controls",
      "model_module_version": "1.5.0",
      "model_name": "DropdownModel",
      "state": {
       "_options_labels": [
        "",
        "--- Channels ---",
        "Airborne_Gxx",
        "Airborne_Gxy",
        "Airborne_Gxz",
        "Airborne_Gyy",
        "Airborne_Gyz",
        "Airborne_Gz",
        "Airborne_Gzz",
        "Airborne_TMI",
        "Ground_Gz",
        "Z"
       ],
       "description": "Lines field",
       "index": 0,
       "layout": "IPY_MODEL_bb102fdd73bf49b0a954c2be96c6642c",
       "style": "IPY_MODEL_0331cc8f13764fa3bbee094a00ae13d7"
      }
     },
     "4bd812cdb00144178da319f5b2ff10ab": {
      "model_module": "@jupyter-widgets/controls",
      "model_module_version": "1.5.0",
      "model_name": "DescriptionStyleModel",
      "state": {
       "description_width": "initial"
      }
     },
     "4be2061e38234503a88464ca8e1964d4": {
      "model_module": "@jupyter-widgets/controls",
      "model_module_version": "1.5.0",
      "model_name": "HBoxModel",
      "state": {
       "children": [
        "IPY_MODEL_79c5536aad584425b2cd1bcc47dc02bc",
        "IPY_MODEL_fc5b53e2a9554bc1a0a11e3ef6657112",
        "IPY_MODEL_9116bb054dcc4df795137d7943c4fc7a"
       ],
       "layout": "IPY_MODEL_36bb358a51034ca79eef2c39d066eb60"
      }
     },
     "4be8a51237f549a58887405c5e272687": {
      "model_module": "@jupyter-widgets/controls",
      "model_module_version": "1.5.0",
      "model_name": "DescriptionStyleModel",
      "state": {
       "description_width": "initial"
      }
     },
     "4bee1aeec44147beb81ab6abbf0a4824": {
      "model_module": "@jupyter-widgets/controls",
      "model_module_version": "1.5.0",
      "model_name": "VBoxModel",
      "state": {
       "children": [
        "IPY_MODEL_e2744ef7b62c4aeab9e5ce7c469612a8",
        "IPY_MODEL_f063b3c885b741c0a5b76832fe6bdc07"
       ],
       "layout": "IPY_MODEL_b213160335774d27a7f89ce10d4d8293"
      }
     },
     "4bfe4c59083a4b8a886f808d8bc23a79": {
      "model_module": "@jupyter-widgets/controls",
      "model_module_version": "1.5.0",
      "model_name": "DescriptionStyleModel",
      "state": {
       "description_width": ""
      }
     },
     "4c764169d04e472a809c150369e5ed1d": {
      "model_module": "@jupyter-widgets/controls",
      "model_module_version": "1.5.0",
      "model_name": "ButtonStyleModel",
      "state": {}
     },
     "4c774fcf4037426596b26523152ac051": {
      "model_module": "@jupyter-widgets/controls",
      "model_module_version": "1.5.0",
      "model_name": "DropdownModel",
      "state": {
       "_options_labels": [
        "",
        "Data_TEM_pseudo3DEPSG_4326",
        "Gravity_Magnetics_drape60mEPSG_4326",
        "Iso_Iteration_7_model_0.015",
        "Iso_Iteration_7_model_0.01",
        "Iso_Iteration_7_model_0.02",
        "Iso_Iteration_7_model_0.005",
        "Iso_Iteration_7_model_0.0025",
        "fault_splay1",
        "fault_Cliff_Lake",
        "fault_Other_FlinFlon",
        "fault_Club_Lake_splay",
        "fault_Catherine_splay2",
        "fault_Birch_View",
        "fault_Dion_Lake",
        "fault_FlinFlon_splay",
        "fault_West_Mandy_Road",
        "fault_Channing",
        "fault_Ross_Lake",
        "fault_Louis_Hidden",
        "fault_Lake_View_thrust",
        "contact_Schist_Lake",
        "fault_Burley_Lake",
        "fault_Dion_Lake_splay",
        "fault_Green_Lake",
        "fault_FlinFlon",
        "fault_Catherine_splay1",
        "fault_East_Mandy_Road",
        "fault_Other_FlinFlon_South",
        "fault_Catherine_splay4",
        "contact_Stitt_Island",
        "fault_Club_Lake",
        "fault_Tailing_Pond",
        "35_Hidden_Reservoir_Hr5",
        "29_Hidden_Reservoir_Hr1a",
        "60_BlueLagoon_Fb2",
        "20_FlinFlon_Undivided_Int_Dykes_D2f",
        "04_Boundary_Intrusive_S4h",
        "53_Millrock_Rhyolite_Fm4b",
        "19_FlinFlon_Undivided_Int_Dykes_D2b",
        "18_FlinFlon_Undivided_Int_Dykes_777_D2b",
        "06_Phantom_Lake_Intrusive_S3a",
        "21_FlinFlon_Undivided_Int_Dykes_D3a",
        "43_Millrock_CHLSH_South",
        "56_Millrock_Basalt_Fm1ba",
        "17_FlinFlon_Undivided_Int_Dykes_D2",
        "32_Hidden_Reservoir_Hr1b_SW",
        "11_Missi_M3_NE",
        "13_Missi_M1",
        "07_Annabel_Granitoid_S1",
        "45_Millrock_Gabbro_South",
        "01_Late_Intrusive_S5b",
        "31_Hidden_Reservoir_Hr1c_SW",
        "52_Millrock_Rhyolite_Fm4_West_check",
        "55_Millrock_Basalt_Fm1bf",
        "34_Hidden_Reservoir_Hr2b",
        "03_Boundary_Intrusive_S4b",
        "42_Millrock_CHLSH_North",
        "26_Louis_L3",
        "23_FlinFlon_Undivided_Int_Felsic_D4g",
        "30_Hidden_Reservoir_Hr1b",
        "59_BlueLagoon_Fb3",
        "49_Millrock_MVR_Fm5d",
        "44_Millrock_Gabbro_North",
        "27_Hidden_Carlisle_Hc4",
        "22_FlinFlon_Undivided_Int_Felsic_D4e",
        "02_Boundary_Intrusive_S4a",
        "61_BlueLagoon_Fb1_NW",
        "05_Boundary_Intrusive_S4g",
        "39_Ore_Callinan",
        "38_Ore_Dan_Owens",
        "40_Ore_FlinFlon",
        "Inversion_VTEM_Model",
        "Gravity_Magnetics_drape60m",
        "CDI_VTEM_model",
        "Data_FEM_pseudo3D",
        "O2O_Interp_25m",
        "geochem",
        "Inversion_DIGHEM_Model",
        "Topography",
        "Data_TEM_pseudo3D"
       ],
       "description": "Object",
       "index": 0,
       "layout": "IPY_MODEL_084fd3052d5b4979a13b7ccad65997e0",
       "style": "IPY_MODEL_ddf5e33079c14c16b8f2dd1c37dd9a60"
      }
     },
     "4c9e221627324ca692384f179436ffe1": {
      "model_module": "@jupyter-widgets/controls",
      "model_module_version": "1.5.0",
      "model_name": "SelectModel",
      "state": {
       "_options_labels": [
        "..",
        "dask-worker-space",
        "images",
        "GEOSCIENCEtemp",
        "Untitled.ipynb",
        "base_application.ipynb",
        "calculator.ipynb",
        "clustering.ipynb",
        "contouring.ipynb",
        "coordinate_transformation.ipynb",
        "create_isosurface.ipynb",
        "create_surface.ipynb",
        "data_interpolation.ipynb",
        "edge_detection.ipynb",
        "export.ipynb",
        "geophysical_inversion.ipynb",
        "object_data_selection.ipynb",
        "peak_finder.ipynb",
        "scatter.ipynb",
        "view_selection.ipynb"
       ],
       "index": null,
       "layout": "IPY_MODEL_c371dd8c360041b4b78580e649fc2efd",
       "rows": 8,
       "style": "IPY_MODEL_e2ff39a02dce409db6790b56b32505a9"
      }
     },
     "4cb58da6d8d343afa3b3389ccf44eb72": {
      "model_module": "@jupyter-widgets/controls",
      "model_module_version": "1.5.0",
      "model_name": "ButtonModel",
      "state": {
       "description": "Select",
       "layout": "IPY_MODEL_85ab0c1646a64dfcb62c58176117c609",
       "style": "IPY_MODEL_aa41fd80406843a9a25afaa08f55fb0b"
      }
     },
     "4ce95637083544b0a16a687d4f13f1fb": {
      "model_module": "@jupyter-widgets/controls",
      "model_module_version": "1.5.0",
      "model_name": "DescriptionStyleModel",
      "state": {
       "description_width": ""
      }
     },
     "4d08cd984a69455a9168e8cc26a586a1": {
      "model_module": "@jupyter-widgets/controls",
      "model_module_version": "1.5.0",
      "model_name": "DescriptionStyleModel",
      "state": {
       "description_width": ""
      }
     },
     "4d2f386e59c2479da56b05fdaf741b10": {
      "model_module": "@jupyter-widgets/controls",
      "model_module_version": "1.5.0",
      "model_name": "LabelModel",
      "state": {
       "layout": "IPY_MODEL_214f2eaaaae3465c9808463299559309",
       "style": "IPY_MODEL_2e73d409f20b4fd6895f03261ed9a61d",
       "value": "Workspace"
      }
     },
     "4d56d6e956954623827198a6eb8c0396": {
      "model_module": "@jupyter-widgets/controls",
      "model_module_version": "1.5.0",
      "model_name": "DescriptionStyleModel",
      "state": {
       "description_width": "initial"
      }
     },
     "4d6897076dce408fa0587f95fc3fa907": {
      "model_module": "@jupyter-widgets/controls",
      "model_module_version": "1.5.0",
      "model_name": "TextModel",
      "state": {
       "layout": "IPY_MODEL_802f123c81774fa68fb3e2623afb34d8",
       "placeholder": "output filename",
       "style": "IPY_MODEL_f281209d51dc46b8b847caa9465b711b"
      }
     },
     "4d97e46442ef4e73b2d64a3bc1216d0f": {
      "model_module": "@jupyter-widgets/controls",
      "model_module_version": "1.5.0",
      "model_name": "DescriptionStyleModel",
      "state": {
       "description_width": ""
      }
     },
     "4da6751e2eae442ca9baa2b3b0977552": {
      "model_module": "@jupyter-widgets/base",
      "model_module_version": "1.2.0",
      "model_name": "LayoutModel",
      "state": {}
     },
     "4db54e4c2f9148be80dc45c60eeb65e6": {
      "model_module": "@jupyter-widgets/controls",
      "model_module_version": "1.5.0",
      "model_name": "LabelModel",
      "state": {
       "layout": "IPY_MODEL_e607bd9996dd42779ed15343d9e09205",
       "style": "IPY_MODEL_d6eb52e42bbd4c42bfb389713f3bb72f",
       "value": "Monitoring folder"
      }
     },
     "4dd6ddce2cfb486fb49e08a327e7f921": {
      "model_module": "@jupyter-widgets/controls",
      "model_module_version": "1.5.0",
      "model_name": "VBoxModel",
      "state": {
       "children": [
        "IPY_MODEL_e627dfa1de504d46b0ec6b571344cc5f",
        "IPY_MODEL_c7a903d8666f4494b97360aa5a77e19e",
        "IPY_MODEL_ce569a34e4ee4522a1876320df14af78"
       ],
       "layout": "IPY_MODEL_6df4b4712e5a4f6d9be44f5ed32fc3aa"
      }
     },
     "4de88ef93c5a4091a5a28fbaf096cdb2": {
      "model_module": "@jupyter-widgets/controls",
      "model_module_version": "1.5.0",
      "model_name": "ButtonModel",
      "state": {
       "description": "Select",
       "layout": "IPY_MODEL_272eebd411dc4aa9b5408cc7a8fe17c8",
       "style": "IPY_MODEL_aa932bef735c494fb78f31d2d7bdc9ac"
      }
     },
     "4df4290c19264680a1757ba0456b4735": {
      "model_module": "@jupyter-widgets/controls",
      "model_module_version": "1.5.0",
      "model_name": "DescriptionStyleModel",
      "state": {
       "description_width": "initial"
      }
     },
     "4e1643d9681e40f3812eb4a1b8e38a68": {
      "model_module": "@jupyter-widgets/controls",
      "model_module_version": "1.5.0",
      "model_name": "VBoxModel",
      "state": {
       "children": [
        "IPY_MODEL_60ba082078f94461b8e3e95d2f2038b7",
        "IPY_MODEL_54512d33835045948e8a0a5d88d7a6a3",
        "IPY_MODEL_198e23b415f24ecf9ca7f89ff4a5a5f0"
       ],
       "layout": "IPY_MODEL_2c104468f56b4c34aae9ab779b5145a2"
      }
     },
     "4e168e84a4914a89a05fc9cc0ebc457d": {
      "model_module": "@jupyter-widgets/controls",
      "model_module_version": "1.5.0",
      "model_name": "DropdownModel",
      "state": {
       "description": "Values",
       "index": null,
       "layout": "IPY_MODEL_a3f82832e673442694991fa30c24d872",
       "style": "IPY_MODEL_5db20c95c7be4ba0b1bd8a39624b6b2d"
      }
     },
     "4e1e939b9e2d4a87b7b9b72c0ec4f10c": {
      "model_module": "@jupyter-widgets/controls",
      "model_module_version": "1.5.0",
      "model_name": "VBoxModel",
      "state": {
       "children": [
        "IPY_MODEL_997182002dad4c84b04cb0d0809b4c1c",
        "IPY_MODEL_06c66282fe7247ddb117b71bda37346f"
       ],
       "layout": "IPY_MODEL_6760fb0a954e498d9e0240b7d45d34d1"
      }
     },
     "4e2d70495e274e30be60d625c1c43537": {
      "model_module": "@jupyter-widgets/base",
      "model_module_version": "1.2.0",
      "model_name": "LayoutModel",
      "state": {}
     },
     "4e40e82f9b94418884b55232ed199087": {
      "model_module": "@jupyter-widgets/controls",
      "model_module_version": "1.5.0",
      "model_name": "TextModel",
      "state": {
       "description": "Offsets (x,y,z)",
       "layout": "IPY_MODEL_d29519a7d24942d1aa8fec13a101bcf6",
       "style": "IPY_MODEL_5110130d5a4745cbae2707f11f1bdbb2",
       "value": "0, 0, 0"
      }
     },
     "4e5589eae4014271b6ceeb2f39faf719": {
      "model_module": "@jupyter-widgets/base",
      "model_module_version": "1.2.0",
      "model_name": "LayoutModel",
      "state": {}
     },
     "4e5a99bd77574b0fbd2e643b38fedb73": {
      "model_module": "@jupyter-widgets/controls",
      "model_module_version": "1.5.0",
      "model_name": "DropdownModel",
      "state": {
       "_options_labels": [
        "",
        "Data_TEM_pseudo3DEPSG_4326",
        "Gravity_Magnetics_drape60mEPSG_4326",
        "Iso_Iteration_7_model_0.015",
        "Iso_Iteration_7_model_0.01",
        "Iso_Iteration_7_model_0.02",
        "Iso_Iteration_7_model_0.005",
        "Iso_Iteration_7_model_0.0025",
        "fault_splay1",
        "fault_Cliff_Lake",
        "fault_Other_FlinFlon",
        "fault_Club_Lake_splay",
        "fault_Catherine_splay2",
        "fault_Birch_View",
        "fault_Dion_Lake",
        "fault_FlinFlon_splay",
        "fault_West_Mandy_Road",
        "fault_Channing",
        "fault_Ross_Lake",
        "fault_Louis_Hidden",
        "fault_Lake_View_thrust",
        "contact_Schist_Lake",
        "fault_Burley_Lake",
        "fault_Dion_Lake_splay",
        "fault_Green_Lake",
        "fault_FlinFlon",
        "fault_Catherine_splay1",
        "fault_East_Mandy_Road",
        "fault_Other_FlinFlon_South",
        "fault_Catherine_splay4",
        "contact_Stitt_Island",
        "fault_Club_Lake",
        "fault_Tailing_Pond",
        "35_Hidden_Reservoir_Hr5",
        "29_Hidden_Reservoir_Hr1a",
        "60_BlueLagoon_Fb2",
        "20_FlinFlon_Undivided_Int_Dykes_D2f",
        "04_Boundary_Intrusive_S4h",
        "53_Millrock_Rhyolite_Fm4b",
        "19_FlinFlon_Undivided_Int_Dykes_D2b",
        "18_FlinFlon_Undivided_Int_Dykes_777_D2b",
        "06_Phantom_Lake_Intrusive_S3a",
        "21_FlinFlon_Undivided_Int_Dykes_D3a",
        "43_Millrock_CHLSH_South",
        "56_Millrock_Basalt_Fm1ba",
        "17_FlinFlon_Undivided_Int_Dykes_D2",
        "32_Hidden_Reservoir_Hr1b_SW",
        "11_Missi_M3_NE",
        "13_Missi_M1",
        "07_Annabel_Granitoid_S1",
        "45_Millrock_Gabbro_South",
        "01_Late_Intrusive_S5b",
        "31_Hidden_Reservoir_Hr1c_SW",
        "52_Millrock_Rhyolite_Fm4_West_check",
        "55_Millrock_Basalt_Fm1bf",
        "34_Hidden_Reservoir_Hr2b",
        "03_Boundary_Intrusive_S4b",
        "42_Millrock_CHLSH_North",
        "26_Louis_L3",
        "23_FlinFlon_Undivided_Int_Felsic_D4g",
        "30_Hidden_Reservoir_Hr1b",
        "59_BlueLagoon_Fb3",
        "49_Millrock_MVR_Fm5d",
        "44_Millrock_Gabbro_North",
        "27_Hidden_Carlisle_Hc4",
        "22_FlinFlon_Undivided_Int_Felsic_D4e",
        "02_Boundary_Intrusive_S4a",
        "61_BlueLagoon_Fb1_NW",
        "05_Boundary_Intrusive_S4g",
        "39_Ore_Callinan",
        "38_Ore_Dan_Owens",
        "40_Ore_FlinFlon",
        "Inversion_VTEM_Model",
        "Gravity_Magnetics_drape60m",
        "CDI_VTEM_model",
        "Data_FEM_pseudo3D",
        "O2O_Interp_25m",
        "geochem",
        "Inversion_DIGHEM_Model",
        "Topography",
        "Data_TEM_pseudo3D"
       ],
       "description": "Object:",
       "index": 79,
       "layout": "IPY_MODEL_1a07cb3ed0844fe4bdbeaa06e8e51e01",
       "style": "IPY_MODEL_d070a81d5cc244efa00235235bbf2979"
      }
     },
     "4e7fd80271994c4c999981452993ae9c": {
      "model_module": "@jupyter-widgets/controls",
      "model_module_version": "1.5.0",
      "model_name": "TextModel",
      "state": {
       "layout": "IPY_MODEL_7b3d199423b34f488686c35cf363a40e",
       "placeholder": "output filename",
       "style": "IPY_MODEL_303207877bb943ac92349badc48ee567"
      }
     },
     "4e84151a0e264ddcbfd57fe2f33f3ad1": {
      "model_module": "@jupyter-widgets/base",
      "model_module_version": "1.2.0",
      "model_name": "LayoutModel",
      "state": {
       "grid_area": "pathlist",
       "width": "auto"
      }
     },
     "4e9fb1efc0304cda9ebb2a929f96bb84": {
      "model_module": "@jupyter-widgets/base",
      "model_module_version": "1.2.0",
      "model_name": "LayoutModel",
      "state": {}
     },
     "4eac15c19dfc4c18b8d5ff62680d1860": {
      "model_module": "@jupyter-widgets/base",
      "model_module_version": "1.2.0",
      "model_name": "LayoutModel",
      "state": {
       "display": "none"
      }
     },
     "4ec2bc1974a54a039cef5a5f2d1c5fb6": {
      "model_module": "@jupyter-widgets/base",
      "model_module_version": "1.2.0",
      "model_name": "LayoutModel",
      "state": {}
     },
     "4ec4819258574dbc804a29cb440c9965": {
      "model_module": "@jupyter-widgets/controls",
      "model_module_version": "1.5.0",
      "model_name": "LabelModel",
      "state": {
       "layout": "IPY_MODEL_0a1797c7bd33414b85446828e8a21053",
       "style": "IPY_MODEL_c2306c1c541d475faea7c6b30e159bca",
       "value": "Monitoring folder"
      }
     },
     "4f5c531c410348c28b5d0771aba36798": {
      "model_module": "@jupyter-widgets/controls",
      "model_module_version": "1.5.0",
      "model_name": "ButtonModel",
      "state": {
       "description": "Cancel",
       "layout": "IPY_MODEL_78d8472dcbb34474b602011c4c64febf",
       "style": "IPY_MODEL_b2d420e9a31d4a44b3d301f37909fe45"
      }
     },
     "4f5fed0e526b482586729da029b5d3cb": {
      "model_module": "@jupyter-widgets/controls",
      "model_module_version": "1.5.0",
      "model_name": "TextModel",
      "state": {
       "layout": "IPY_MODEL_1320ab6ae40d44db8e7cff84c6e98a39",
       "placeholder": "output filename",
       "style": "IPY_MODEL_b669c79f87f143c8b9104da98ae8ef44"
      }
     },
     "4f8610d6014e47b89acb1a71939ed725": {
      "model_module": "@jupyter-widgets/base",
      "model_module_version": "1.2.0",
      "model_name": "LayoutModel",
      "state": {
       "grid_area": "dircontent",
       "width": "auto"
      }
     },
     "4f93e30361c54b7cb9188b7b61fde18d": {
      "model_module": "@jupyter-widgets/controls",
      "model_module_version": "1.5.0",
      "model_name": "LabelModel",
      "state": {
       "layout": "IPY_MODEL_b683f9e25203463bb2cb6ea09e190b71",
       "style": "IPY_MODEL_c172a88c690d442d935519b88afae825",
       "value": "Workspace"
      }
     },
     "4fb65851001a43de9c74a644ce51714e": {
      "model_module": "@jupyter-widgets/base",
      "model_module_version": "1.2.0",
      "model_name": "LayoutModel",
      "state": {}
     },
     "4fbee1331b4843e19dded79aa0475a02": {
      "model_module": "@jupyter-widgets/base",
      "model_module_version": "1.2.0",
      "model_name": "LayoutModel",
      "state": {}
     },
     "4fc16b5dfdc64850b86cabb6f40e358a": {
      "model_module": "@jupyter-widgets/controls",
      "model_module_version": "1.5.0",
      "model_name": "DescriptionStyleModel",
      "state": {
       "description_width": ""
      }
     },
     "4fd3d6399cce416bbc424c33a4dbe72f": {
      "model_module": "@jupyter-widgets/controls",
      "model_module_version": "1.5.0",
      "model_name": "HTMLModel",
      "state": {
       "layout": "IPY_MODEL_76df669d1ad54f5083c15a06ba545ba1",
       "placeholder": "",
       "style": "IPY_MODEL_b71f8cc47745468594174499e92b67bf",
       "value": "<span style=\"margin-left:10px; color:black;\">No file selected</span>"
      }
     },
     "4ff6dceebfc14731afafc7c419ebf94e": {
      "model_module": "@jupyter-widgets/controls",
      "model_module_version": "1.5.0",
      "model_name": "DescriptionStyleModel",
      "state": {
       "description_width": ""
      }
     },
     "500d701acb464a99823e8bd7ae074580": {
      "model_module": "@jupyter-widgets/base",
      "model_module_version": "1.2.0",
      "model_name": "LayoutModel",
      "state": {}
     },
     "5014ffd01a464dbea2e0b3fddeedceef": {
      "model_module": "@jupyter-widgets/controls",
      "model_module_version": "1.5.0",
      "model_name": "DescriptionStyleModel",
      "state": {
       "description_width": "initial"
      }
     },
     "501fdcbe13824145acf36dfa58c47f00": {
      "model_module": "@jupyter-widgets/base",
      "model_module_version": "1.2.0",
      "model_name": "LayoutModel",
      "state": {
       "grid_area": "pathlist",
       "width": "auto"
      }
     },
     "504f8222e5a24fd4a5ec7108cb10b707": {
      "model_module": "@jupyter-widgets/controls",
      "model_module_version": "1.5.0",
      "model_name": "VBoxModel",
      "state": {
       "children": [
        "IPY_MODEL_b697abac9d234795a41c16614d92f030",
        "IPY_MODEL_0053c2a3a6ba4014aa98ec3377ebeb97",
        "IPY_MODEL_624ae8b57c4f433ca1e0ea15b03bec83"
       ],
       "layout": "IPY_MODEL_fa908ab7e6e04b14b98d2116b7fc258d"
      }
     },
     "5097c0a682b8479189f1d67e9fbac0b6": {
      "model_module": "@jupyter-widgets/base",
      "model_module_version": "1.2.0",
      "model_name": "LayoutModel",
      "state": {
       "width": "auto"
      }
     },
     "50ac1f41ff624aff84df61e5a212c678": {
      "model_module": "@jupyter-widgets/controls",
      "model_module_version": "1.5.0",
      "model_name": "HTMLModel",
      "state": {
       "layout": "IPY_MODEL_0db022eafe6b4b9bb12ab814dcb4a675",
       "placeholder": "",
       "style": "IPY_MODEL_ad20803bfd654ba6bbfba3aa39d5af51",
       "value": "<span style=\"margin-left:10px; color:black;\">No file selected</span>"
      }
     },
     "50bed70d5d2a43c696ba97b5d4c8eff8": {
      "model_module": "@jupyter-widgets/controls",
      "model_module_version": "1.5.0",
      "model_name": "DescriptionStyleModel",
      "state": {
       "description_width": ""
      }
     },
     "50f6723cddb14b3ca80f73fee7c79561": {
      "model_module": "@jupyter-widgets/controls",
      "model_module_version": "1.5.0",
      "model_name": "ButtonStyleModel",
      "state": {}
     },
     "5110130d5a4745cbae2707f11f1bdbb2": {
      "model_module": "@jupyter-widgets/controls",
      "model_module_version": "1.5.0",
      "model_name": "DescriptionStyleModel",
      "state": {
       "description_width": "initial"
      }
     },
     "51564f80147b4b7c8511a5948850a5b3": {
      "model_module": "@jupyter-widgets/controls",
      "model_module_version": "1.5.0",
      "model_name": "VBoxModel",
      "state": {
       "children": [
        "IPY_MODEL_2f756b492d0844659faa4589967fc4fc",
        "IPY_MODEL_34b5fc4b854b4711952bf68c8db36ff1",
        "IPY_MODEL_6acc39b2306345a58dc6d4f4a8241266"
       ],
       "layout": "IPY_MODEL_1f7118bd3e57468e9782fe3d4aad98f7"
      }
     },
     "517e60a3529e46ee9f8bc4cdc5921874": {
      "model_module": "@jupyter-widgets/base",
      "model_module_version": "1.2.0",
      "model_name": "LayoutModel",
      "state": {}
     },
     "518a711262044c94bbf66eddc982f337": {
      "model_module": "@jupyter-widgets/base",
      "model_module_version": "1.2.0",
      "model_name": "LayoutModel",
      "state": {
       "grid_area": "pathlist",
       "width": "auto"
      }
     },
     "5199f3a9894c422fa0c99e93fa0140eb": {
      "model_module": "@jupyter-widgets/base",
      "model_module_version": "1.2.0",
      "model_name": "LayoutModel",
      "state": {}
     },
     "519e66bd8f5d407898e3c5af9e826908": {
      "model_module": "@jupyter-widgets/base",
      "model_module_version": "1.2.0",
      "model_name": "LayoutModel",
      "state": {}
     },
     "51a3c91b48254750a39344f59934605d": {
      "model_module": "@jupyter-widgets/controls",
      "model_module_version": "1.5.0",
      "model_name": "TextModel",
      "state": {
       "description": "Smallest cells",
       "layout": "IPY_MODEL_d9df1e155db64864ac7222e602601a4a",
       "style": "IPY_MODEL_3660ac10509d4ce4bb5420639f323f50",
       "value": "25, 25, 25"
      }
     },
     "51b2543ca5ff43edb06b3185ec06f6fd": {
      "model_module": "@jupyter-widgets/base",
      "model_module_version": "1.2.0",
      "model_name": "LayoutModel",
      "state": {}
     },
     "51b7790fa7ec41ce9d8d2e05658ae3e2": {
      "model_module": "@jupyter-widgets/base",
      "model_module_version": "1.2.0",
      "model_name": "LayoutModel",
      "state": {}
     },
     "51c0d76c96244f72b63dacbb82a30fec": {
      "model_module": "@jupyter-widgets/controls",
      "model_module_version": "1.5.0",
      "model_name": "DescriptionStyleModel",
      "state": {
       "description_width": "initial"
      }
     },
     "51e328f058bb465d8d0746fe313ab9ca": {
      "model_module": "@jupyter-widgets/controls",
      "model_module_version": "1.5.0",
      "model_name": "ButtonModel",
      "state": {
       "description": "Create copy:",
       "layout": "IPY_MODEL_7ed9598ce08d40568e4a668b3c2aa156",
       "style": "IPY_MODEL_083c58dd828a48c4b27600d5a23b0a78"
      }
     },
     "51fbba03e02f4b4aa4db5006b4110cfe": {
      "model_module": "@jupyter-widgets/controls",
      "model_module_version": "1.5.0",
      "model_name": "HBoxModel",
      "state": {
       "children": [
        "IPY_MODEL_67a0558203e746b5a04de92e9ea9258e",
        "IPY_MODEL_8ca8ce37b7c24bc7938215252d6bd4ff",
        "IPY_MODEL_d52fe223a44f47ac9e24b7bef87a9bb9"
       ],
       "layout": "IPY_MODEL_0737ea4cc5634c609db3fcff5846e027"
      }
     },
     "52062827e13e4e538df0e1659583ca66": {
      "model_module": "@jupyter-widgets/base",
      "model_module_version": "1.2.0",
      "model_name": "LayoutModel",
      "state": {}
     },
     "52088395fd8e49aea078f84a4ad35b08": {
      "model_module": "@jupyter-widgets/controls",
      "model_module_version": "1.5.0",
      "model_name": "ButtonStyleModel",
      "state": {}
     },
     "52118b734986417fb2a5343374f34ffa": {
      "model_module": "@jupyter-widgets/controls",
      "model_module_version": "1.5.0",
      "model_name": "DescriptionStyleModel",
      "state": {
       "description_width": "initial"
      }
     },
     "5268d0354c854525b2284600566e60c9": {
      "model_module": "@jupyter-widgets/base",
      "model_module_version": "1.2.0",
      "model_name": "LayoutModel",
      "state": {
       "width": "auto"
      }
     },
     "5275ec1ca81a4c91b0f787ace957c50e": {
      "model_module": "@jupyter-widgets/controls",
      "model_module_version": "1.5.0",
      "model_name": "DescriptionStyleModel",
      "state": {
       "description_width": "initial"
      }
     },
     "5277bedecec0416da57bfaee4af5b489": {
      "model_module": "@jupyter-widgets/controls",
      "model_module_version": "1.5.0",
      "model_name": "DescriptionStyleModel",
      "state": {
       "description_width": ""
      }
     },
     "527fe96380b746eeaf60108b126d3a59": {
      "model_module": "@jupyter-widgets/controls",
      "model_module_version": "1.5.0",
      "model_name": "ButtonStyleModel",
      "state": {}
     },
     "52997ed32c474d05b03958fb23f494a4": {
      "model_module": "@jupyter-widgets/controls",
      "model_module_version": "1.5.0",
      "model_name": "ButtonStyleModel",
      "state": {}
     },
     "529cb0cb18c4458986a0a68e116a6b53": {
      "model_module": "@jupyter-widgets/controls",
      "model_module_version": "1.5.0",
      "model_name": "VBoxModel",
      "state": {
       "children": [
        "IPY_MODEL_80b70fe9aee54ad7a09493acbb1776d4",
        "IPY_MODEL_78b3855f50a94cc1905e4e5c1de50acd"
       ],
       "layout": "IPY_MODEL_8444b29b605b4ecead808e2e97b374ea"
      }
     },
     "529d27e1395947f087255b2fa0c50bcf": {
      "model_module": "@jupyter-widgets/base",
      "model_module_version": "1.2.0",
      "model_name": "LayoutModel",
      "state": {}
     },
     "52b1eca62f0a47d1959d1606ccb3d236": {
      "model_module": "@jupyter-widgets/base",
      "model_module_version": "1.2.0",
      "model_name": "LayoutModel",
      "state": {}
     },
     "52d2ae2ce6664e58bb0426a242008fef": {
      "model_module": "@jupyter-widgets/base",
      "model_module_version": "1.2.0",
      "model_name": "LayoutModel",
      "state": {
       "grid_area": "dircontent",
       "width": "auto"
      }
     },
     "53020c77f5374740a970153db2ac22b6": {
      "model_module": "@jupyter-widgets/controls",
      "model_module_version": "1.5.0",
      "model_name": "VBoxModel",
      "state": {
       "children": [
        "IPY_MODEL_7e24c4735b114063bf8eed6c7830ebff",
        "IPY_MODEL_376fc84a9e524c688d950a2f903682c5"
       ],
       "layout": "IPY_MODEL_af12d3ff40de4ba7a94148d07c489efd"
      }
     },
     "5317091fae96418083f41eb2fbb0ef30": {
      "model_module": "@jupyter-widgets/controls",
      "model_module_version": "1.5.0",
      "model_name": "DescriptionStyleModel",
      "state": {
       "description_width": ""
      }
     },
     "53295316eed045fcb1874a8ad3114095": {
      "model_module": "@jupyter-widgets/base",
      "model_module_version": "1.2.0",
      "model_name": "LayoutModel",
      "state": {
       "width": "auto"
      }
     },
     "532ca7fb722b4c278b7a2d52bcec9dbe": {
      "model_module": "@jupyter-widgets/controls",
      "model_module_version": "1.5.0",
      "model_name": "HBoxModel",
      "state": {
       "children": [
        "IPY_MODEL_29a9fcbcab5342a9a8a778f9ba21df73",
        "IPY_MODEL_acb8565a41124c75be86f6995d4020cd"
       ],
       "layout": "IPY_MODEL_388b604ed9be437aacc26bb0ecd1c50d"
      }
     },
     "53746da609034641bee560917096a443": {
      "model_module": "@jupyter-widgets/controls",
      "model_module_version": "1.5.0",
      "model_name": "DropdownModel",
      "state": {
       "_options_labels": [
        "",
        "fault_splay1",
        "fault_Cliff_Lake",
        "fault_Other_FlinFlon",
        "fault_Club_Lake_splay",
        "fault_Catherine_splay2",
        "fault_Birch_View",
        "fault_Dion_Lake",
        "fault_FlinFlon_splay",
        "fault_West_Mandy_Road",
        "fault_Channing",
        "fault_Ross_Lake",
        "fault_Louis_Hidden",
        "fault_Lake_View_thrust",
        "contact_Schist_Lake",
        "fault_Burley_Lake",
        "fault_Dion_Lake_splay",
        "fault_Green_Lake",
        "fault_FlinFlon",
        "fault_Catherine_splay1",
        "fault_East_Mandy_Road",
        "fault_Other_FlinFlon_South",
        "fault_Catherine_splay4",
        "contact_Stitt_Island",
        "fault_Club_Lake",
        "fault_Tailing_Pond",
        "35_Hidden_Reservoir_Hr5",
        "29_Hidden_Reservoir_Hr1a",
        "60_BlueLagoon_Fb2",
        "20_FlinFlon_Undivided_Int_Dykes_D2f",
        "04_Boundary_Intrusive_S4h",
        "53_Millrock_Rhyolite_Fm4b",
        "19_FlinFlon_Undivided_Int_Dykes_D2b",
        "18_FlinFlon_Undivided_Int_Dykes_777_D2b",
        "06_Phantom_Lake_Intrusive_S3a",
        "21_FlinFlon_Undivided_Int_Dykes_D3a",
        "43_Millrock_CHLSH_South",
        "56_Millrock_Basalt_Fm1ba",
        "17_FlinFlon_Undivided_Int_Dykes_D2",
        "32_Hidden_Reservoir_Hr1b_SW",
        "11_Missi_M3_NE",
        "13_Missi_M1",
        "07_Annabel_Granitoid_S1",
        "45_Millrock_Gabbro_South",
        "01_Late_Intrusive_S5b",
        "31_Hidden_Reservoir_Hr1c_SW",
        "52_Millrock_Rhyolite_Fm4_West_check",
        "55_Millrock_Basalt_Fm1bf",
        "34_Hidden_Reservoir_Hr2b",
        "03_Boundary_Intrusive_S4b",
        "42_Millrock_CHLSH_North",
        "26_Louis_L3",
        "23_FlinFlon_Undivided_Int_Felsic_D4g",
        "30_Hidden_Reservoir_Hr1b",
        "59_BlueLagoon_Fb3",
        "49_Millrock_MVR_Fm5d",
        "44_Millrock_Gabbro_North",
        "27_Hidden_Carlisle_Hc4",
        "22_FlinFlon_Undivided_Int_Felsic_D4e",
        "02_Boundary_Intrusive_S4a",
        "61_BlueLagoon_Fb1_NW",
        "05_Boundary_Intrusive_S4g",
        "39_Ore_Callinan",
        "38_Ore_Dan_Owens",
        "40_Ore_FlinFlon",
        "Inversion_VTEM_Model",
        "Gravity_Magnetics_drape60m",
        "CDI_VTEM_model",
        "Data_FEM_pseudo3D",
        "O2O_Interp_25m",
        "geochem",
        "Inversion_DIGHEM_Model",
        "Topography",
        "Data_TEM_pseudo3D",
        "Data_ZTEM"
       ],
       "description": "Object",
       "index": 0,
       "layout": "IPY_MODEL_69d492a15bb84d288560acbc7567dc10",
       "style": "IPY_MODEL_86293f902a26434ebfeeef94f6a45ca8"
      }
     },
     "5389974605d94459badf648045680f6b": {
      "model_module": "@jupyter-widgets/base",
      "model_module_version": "1.2.0",
      "model_name": "LayoutModel",
      "state": {}
     },
     "539e3f6f29924dff91224f6811fa915a": {
      "model_module": "@jupyter-widgets/controls",
      "model_module_version": "1.5.0",
      "model_name": "DescriptionStyleModel",
      "state": {
       "description_width": ""
      }
     },
     "542b0cdfdbcc449b830c185d3874e9f1": {
      "model_module": "@jupyter-widgets/base",
      "model_module_version": "1.2.0",
      "model_name": "LayoutModel",
      "state": {}
     },
     "544da086ffe54562aa13c409f2750628": {
      "model_module": "@jupyter-widgets/base",
      "model_module_version": "1.2.0",
      "model_name": "LayoutModel",
      "state": {
       "visibility": "hidden"
      }
     },
     "54512d33835045948e8a0a5d88d7a6a3": {
      "model_module": "@jupyter-widgets/controls",
      "model_module_version": "1.5.0",
      "model_name": "GridBoxModel",
      "state": {
       "children": [
        "IPY_MODEL_d9d4e9aaed704a8db82aef4a7165b7c8",
        "IPY_MODEL_4f5fed0e526b482586729da029b5d3cb",
        "IPY_MODEL_dbf9d1b760e9410ba73c1bdff4884078"
       ],
       "layout": "IPY_MODEL_4b9724f33b4446a381673369311b5738"
      }
     },
     "546c821bd7ff4ac2bb6e736b6177807f": {
      "model_module": "@jupyter-widgets/base",
      "model_module_version": "1.2.0",
      "model_name": "LayoutModel",
      "state": {}
     },
     "54719905abeb454b874b7deb84cd3dfd": {
      "model_module": "@jupyter-widgets/base",
      "model_module_version": "1.2.0",
      "model_name": "LayoutModel",
      "state": {}
     },
     "54c744d53c1949aba358c5fca0000d69": {
      "model_module": "@jupyter-widgets/base",
      "model_module_version": "1.2.0",
      "model_name": "LayoutModel",
      "state": {}
     },
     "54d344670eeb474787dac91f09c2b38b": {
      "model_module": "@jupyter-widgets/controls",
      "model_module_version": "1.5.0",
      "model_name": "HTMLModel",
      "state": {
       "layout": "IPY_MODEL_0afb996dba804ba98d5868fd7ff44b9c",
       "style": "IPY_MODEL_81cfa5c3ddce449aa4d63bc63adbae98"
      }
     },
     "54d6db8fba074171b465f6453cf70aee": {
      "model_module": "@jupyter-widgets/controls",
      "model_module_version": "1.5.0",
      "model_name": "VBoxModel",
      "state": {
       "children": [
        "IPY_MODEL_5b678cc1ac564d159c73dcbc6afc1698",
        "IPY_MODEL_8da54c9271eb45a285e8dec35e61f6fb"
       ],
       "layout": "IPY_MODEL_e5e5a26e22434102a6950c6cdab84d74"
      }
     },
     "54e272c4fc87490ca6e8929b506b5393": {
      "model_module": "@jupyter-widgets/base",
      "model_module_version": "1.2.0",
      "model_name": "LayoutModel",
      "state": {}
     },
     "54e4a1ef152840aca150dbf607cdd51c": {
      "model_module": "@jupyter-widgets/controls",
      "model_module_version": "1.5.0",
      "model_name": "SelectModel",
      "state": {
       "_options_labels": [
        "..",
        "images"
       ],
       "index": null,
       "layout": "IPY_MODEL_a649c77e94aa4fdbab94e8c7c9d07748",
       "rows": 8,
       "style": "IPY_MODEL_2203ba261e5d439b92c79ba1f190e188"
      }
     },
     "54e4d5251a2943d5a363ea5853df3711": {
      "model_module": "@jupyter-widgets/base",
      "model_module_version": "1.2.0",
      "model_name": "LayoutModel",
      "state": {
       "grid_area": "dircontent",
       "width": "auto"
      }
     },
     "54e8864584f942e99289f785e1844241": {
      "model_module": "@jupyter-widgets/base",
      "model_module_version": "1.2.0",
      "model_name": "LayoutModel",
      "state": {}
     },
     "5519363c2e3e4ab28e2031cbf9e89186": {
      "model_module": "@jupyter-widgets/base",
      "model_module_version": "1.2.0",
      "model_name": "LayoutModel",
      "state": {}
     },
     "55200f7bfd0b4bb7b5a02ea2d385dddf": {
      "model_module": "@jupyter-widgets/controls",
      "model_module_version": "1.5.0",
      "model_name": "TextModel",
      "state": {
       "layout": "IPY_MODEL_a204d74c77b3421c8884b198b3bbbe92",
       "placeholder": "output filename",
       "style": "IPY_MODEL_972286efc6e946d6857a228be60a6300"
      }
     },
     "554c504087c2448eb7858a41fc8a443b": {
      "model_module": "@jupyter-widgets/base",
      "model_module_version": "1.2.0",
      "model_name": "LayoutModel",
      "state": {}
     },
     "5550014fb85e45579d59697ef5476444": {
      "model_module": "@jupyter-widgets/base",
      "model_module_version": "1.2.0",
      "model_name": "LayoutModel",
      "state": {
       "width": "auto"
      }
     },
     "5586b1bc1a2948ac93e7a449c2e377a8": {
      "model_module": "@jupyter-widgets/controls",
      "model_module_version": "1.5.0",
      "model_name": "DescriptionStyleModel",
      "state": {
       "description_width": "initial"
      }
     },
     "55974c1af11d4073b69561978db7c23f": {
      "model_module": "@jupyter-widgets/base",
      "model_module_version": "1.2.0",
      "model_name": "LayoutModel",
      "state": {}
     },
     "559bb7997a0d4aba8aa0ac74dff48906": {
      "model_module": "@jupyter-widgets/controls",
      "model_module_version": "1.5.0",
      "model_name": "LabelModel",
      "state": {
       "layout": "IPY_MODEL_69423ab55aad4ad791c48fc95c12f8d7",
       "style": "IPY_MODEL_949136348ae54861a3c3b0f06baa92dc",
       "value": "Octree Mesh"
      }
     },
     "55a270d58c574a9aa81bb97067de9481": {
      "model_module": "@jupyter-widgets/controls",
      "model_module_version": "1.5.0",
      "model_name": "DescriptionStyleModel",
      "state": {
       "description_width": "initial"
      }
     },
     "55a3162cfd314a96ae179ede85811274": {
      "model_module": "@jupyter-widgets/base",
      "model_module_version": "1.2.0",
      "model_name": "LayoutModel",
      "state": {
       "grid_area": "pathlist",
       "width": "auto"
      }
     },
     "55b1f1b3b76b43feadcc21be7866fece": {
      "model_module": "@jupyter-widgets/controls",
      "model_module_version": "1.5.0",
      "model_name": "VBoxModel",
      "state": {
       "children": [
        "IPY_MODEL_ff02f78d9d224312ac6a80ace29300bf",
        "IPY_MODEL_2a3d03cfc7fa44ac8f5367de6a266271",
        "IPY_MODEL_87c701d9fb02472c9f4134cfc739c1fd"
       ],
       "layout": "IPY_MODEL_9f2d4e5cf4c642ae83fca87381b83810"
      }
     },
     "55b35ca6280b4f72b9975826488ba79f": {
      "model_module": "@jupyter-widgets/base",
      "model_module_version": "1.2.0",
      "model_name": "LayoutModel",
      "state": {}
     },
     "55c1c9cc8f4343d891bc34c8edf0c530": {
      "model_module": "@jupyter-widgets/controls",
      "model_module_version": "1.5.0",
      "model_name": "VBoxModel",
      "state": {
       "children": [
        "IPY_MODEL_9ac537d4f7094878ac50e1780c2e2734",
        "IPY_MODEL_efb28c4ff3f642d8b6601fd202c222c9"
       ],
       "layout": "IPY_MODEL_af8afbea16304de6ae28868d48b32e5c"
      }
     },
     "560a2c787ac149aa9d85bda4cb0aa023": {
      "model_module": "@jupyter-widgets/controls",
      "model_module_version": "1.5.0",
      "model_name": "GridBoxModel",
      "state": {
       "children": [
        "IPY_MODEL_952e841d1e8f4254a4780028432dc480",
        "IPY_MODEL_a75780a8f4bd4ca9a28e74c167b70054",
        "IPY_MODEL_80760981f09b45348ccdf334e4ffb8e3"
       ],
       "layout": "IPY_MODEL_1880849f0b544c6f85a0668cb587cbfb"
      }
     },
     "5614fb9c32d644c3888ae98c1ad3c468": {
      "model_module": "@jupyter-widgets/controls",
      "model_module_version": "1.5.0",
      "model_name": "HTMLModel",
      "state": {
       "layout": "IPY_MODEL_e19dd2b1e6cf4aefa6320851e22c5eba",
       "style": "IPY_MODEL_43b97ad1f14e47728f49ab29f4a85199"
      }
     },
     "561824b4a5134badb34361099859914a": {
      "model_module": "@jupyter-widgets/base",
      "model_module_version": "1.2.0",
      "model_name": "LayoutModel",
      "state": {}
     },
     "5632a585140549c0b93b7dbdea5b0885": {
      "model_module": "@jupyter-widgets/controls",
      "model_module_version": "1.5.0",
      "model_name": "DescriptionStyleModel",
      "state": {
       "description_width": ""
      }
     },
     "5650619ed9794f0daaaffbacec45e711": {
      "model_module": "@jupyter-widgets/base",
      "model_module_version": "1.2.0",
      "model_name": "LayoutModel",
      "state": {}
     },
     "568847ccf6844604add09e65040f04d5": {
      "model_module": "@jupyter-widgets/controls",
      "model_module_version": "1.5.0",
      "model_name": "VBoxModel",
      "state": {
       "children": [
        "IPY_MODEL_e26cdaff62674f4191151a9f101a83f2",
        "IPY_MODEL_7b9d32ede6384c5e8246b7e61fca8e8e",
        "IPY_MODEL_2d29bf63861c4d179192db82c418e2c9"
       ],
       "layout": "IPY_MODEL_803bb96df64543ba952a34ee50b5a915"
      }
     },
     "5715167512a54aef98673c2b9a87c186": {
      "model_module": "@jupyter-widgets/controls",
      "model_module_version": "1.5.0",
      "model_name": "LabelModel",
      "state": {
       "layout": "IPY_MODEL_7f29163b713d4096855a2e2257285c62",
       "style": "IPY_MODEL_d2b566a65e7e469598dd88ac651f4663",
       "value": "Data Count: 0"
      }
     },
     "5743e8a9557b414da62b3e53951c4115": {
      "model_module": "@jupyter-widgets/controls",
      "model_module_version": "1.5.0",
      "model_name": "DescriptionStyleModel",
      "state": {
       "description_width": "initial"
      }
     },
     "5755d5613d5d43d5bd74ca3088fbb387": {
      "model_module": "@jupyter-widgets/base",
      "model_module_version": "1.2.0",
      "model_name": "LayoutModel",
      "state": {
       "display": "none"
      }
     },
     "57566e2c2d744cf48aebd9d6f7a4988f": {
      "model_module": "@jupyter-widgets/controls",
      "model_module_version": "1.5.0",
      "model_name": "DescriptionStyleModel",
      "state": {
       "description_width": "initial"
      }
     },
     "575e3a264b4043248eb09518fc7860dc": {
      "model_module": "@jupyter-widgets/controls",
      "model_module_version": "1.5.0",
      "model_name": "ButtonStyleModel",
      "state": {}
     },
     "57667f07d80b4f1e87c55a04978cb207": {
      "model_module": "@jupyter-widgets/controls",
      "model_module_version": "1.5.0",
      "model_name": "VBoxModel",
      "state": {
       "children": [
        "IPY_MODEL_fa05464129d0476aaabe55cbae09d457",
        "IPY_MODEL_031e2c6621ec4063acff9f9f2d4006fc"
       ],
       "layout": "IPY_MODEL_11ccefa9b7cb4215bc2ec4d845b24813"
      }
     },
     "578bd78c2c224b2cbf68681f097a380e": {
      "model_module": "@jupyter-widgets/base",
      "model_module_version": "1.2.0",
      "model_name": "LayoutModel",
      "state": {}
     },
     "57a9de14170a44c2aee501c978467cfa": {
      "model_module": "@jupyter-widgets/base",
      "model_module_version": "1.2.0",
      "model_name": "LayoutModel",
      "state": {
       "display": "none"
      }
     },
     "57c8985dad194b38a589e497c49e58f6": {
      "model_module": "@jupyter-widgets/controls",
      "model_module_version": "1.5.0",
      "model_name": "DescriptionStyleModel",
      "state": {
       "description_width": "initial"
      }
     },
     "57ed9928092044899c376edc11f3f30c": {
      "model_module": "@jupyter-widgets/base",
      "model_module_version": "1.2.0",
      "model_name": "LayoutModel",
      "state": {}
     },
     "5837febe9582430ea6124f6344651ee7": {
      "model_module": "@jupyter-widgets/controls",
      "model_module_version": "1.5.0",
      "model_name": "DescriptionStyleModel",
      "state": {
       "description_width": "initial"
      }
     },
     "584adf1b724f49f896067a16c77b9a0d": {
      "model_module": "@jupyter-widgets/controls",
      "model_module_version": "1.5.0",
      "model_name": "HBoxModel",
      "state": {
       "children": [
        "IPY_MODEL_cae9343f50a04c8b858ef31dbb04b066",
        "IPY_MODEL_882439c99eae41279ba35b5cd933f130",
        "IPY_MODEL_d4e9c683ab0a410085531c48293ef2f7"
       ],
       "layout": "IPY_MODEL_e299427d58544fbc8ee90379c1552aea"
      }
     },
     "584e813d6443409185f224102a126cc8": {
      "model_module": "@jupyter-widgets/controls",
      "model_module_version": "1.5.0",
      "model_name": "FloatTextModel",
      "state": {
       "description": "Minimum depth (m)",
       "layout": "IPY_MODEL_0fee391190674449a488b50a0d5ac133",
       "step": null,
       "style": "IPY_MODEL_cd6ccb3015984fe2bea5d6c4e5db4476",
       "value": 500
      }
     },
     "5855a926de0f4c1a8c9d65b04dd8f9c6": {
      "model_module": "@jupyter-widgets/base",
      "model_module_version": "1.2.0",
      "model_name": "LayoutModel",
      "state": {}
     },
     "586076b003984835b0710b6c112c1d6a": {
      "model_module": "@jupyter-widgets/base",
      "model_module_version": "1.2.0",
      "model_name": "LayoutModel",
      "state": {}
     },
     "5860af25ee014959b17f5da5851bc305": {
      "model_module": "@jupyter-widgets/controls",
      "model_module_version": "1.5.0",
      "model_name": "DropdownModel",
      "state": {
       "_options_labels": [
        "",
        "Data_TEM_pseudo3DEPSG_4326",
        "Gravity_Magnetics_drape60mEPSG_4326",
        "Iso_Iteration_7_model_0.015",
        "Iso_Iteration_7_model_0.01",
        "Iso_Iteration_7_model_0.02",
        "Iso_Iteration_7_model_0.005",
        "Iso_Iteration_7_model_0.0025",
        "fault_splay1",
        "fault_Cliff_Lake",
        "fault_Other_FlinFlon",
        "fault_Club_Lake_splay",
        "fault_Catherine_splay2",
        "fault_Birch_View",
        "fault_Dion_Lake",
        "fault_FlinFlon_splay",
        "fault_West_Mandy_Road",
        "fault_Channing",
        "fault_Ross_Lake",
        "fault_Louis_Hidden",
        "fault_Lake_View_thrust",
        "contact_Schist_Lake",
        "fault_Burley_Lake",
        "fault_Dion_Lake_splay",
        "fault_Green_Lake",
        "fault_FlinFlon",
        "fault_Catherine_splay1",
        "fault_East_Mandy_Road",
        "fault_Other_FlinFlon_South",
        "fault_Catherine_splay4",
        "contact_Stitt_Island",
        "fault_Club_Lake",
        "fault_Tailing_Pond",
        "35_Hidden_Reservoir_Hr5",
        "29_Hidden_Reservoir_Hr1a",
        "60_BlueLagoon_Fb2",
        "20_FlinFlon_Undivided_Int_Dykes_D2f",
        "04_Boundary_Intrusive_S4h",
        "53_Millrock_Rhyolite_Fm4b",
        "19_FlinFlon_Undivided_Int_Dykes_D2b",
        "18_FlinFlon_Undivided_Int_Dykes_777_D2b",
        "06_Phantom_Lake_Intrusive_S3a",
        "21_FlinFlon_Undivided_Int_Dykes_D3a",
        "43_Millrock_CHLSH_South",
        "56_Millrock_Basalt_Fm1ba",
        "17_FlinFlon_Undivided_Int_Dykes_D2",
        "32_Hidden_Reservoir_Hr1b_SW",
        "11_Missi_M3_NE",
        "13_Missi_M1",
        "07_Annabel_Granitoid_S1",
        "45_Millrock_Gabbro_South",
        "01_Late_Intrusive_S5b",
        "31_Hidden_Reservoir_Hr1c_SW",
        "52_Millrock_Rhyolite_Fm4_West_check",
        "55_Millrock_Basalt_Fm1bf",
        "34_Hidden_Reservoir_Hr2b",
        "03_Boundary_Intrusive_S4b",
        "42_Millrock_CHLSH_North",
        "26_Louis_L3",
        "23_FlinFlon_Undivided_Int_Felsic_D4g",
        "30_Hidden_Reservoir_Hr1b",
        "59_BlueLagoon_Fb3",
        "49_Millrock_MVR_Fm5d",
        "44_Millrock_Gabbro_North",
        "27_Hidden_Carlisle_Hc4",
        "22_FlinFlon_Undivided_Int_Felsic_D4e",
        "02_Boundary_Intrusive_S4a",
        "61_BlueLagoon_Fb1_NW",
        "05_Boundary_Intrusive_S4g",
        "39_Ore_Callinan",
        "38_Ore_Dan_Owens",
        "40_Ore_FlinFlon",
        "Inversion_VTEM_Model",
        "Gravity_Magnetics_drape60m",
        "CDI_VTEM_model",
        "Data_FEM_pseudo3D",
        "O2O_Interp_25m",
        "geochem",
        "Inversion_DIGHEM_Model",
        "Topography",
        "Data_TEM_pseudo3D"
       ],
       "description": "Object:",
       "index": 0,
       "layout": "IPY_MODEL_dbcead9448b94f02b23e9a9fc1e679fb",
       "style": "IPY_MODEL_b1c1dcdf4ca84cf7a3661f211e312a07"
      }
     },
     "58a0ee7091f949139664d959e05b12b9": {
      "model_module": "@jupyter-widgets/controls",
      "model_module_version": "1.5.0",
      "model_name": "TextModel",
      "state": {
       "description": "Error (%, floor)",
       "layout": "IPY_MODEL_5389974605d94459badf648045680f6b",
       "style": "IPY_MODEL_afb555ef760b4b56b1b35094568fa176",
       "value": "0, 1"
      }
     },
     "58c56015d9e2494a854ef5d785d20dc3": {
      "model_module": "@jupyter-widgets/controls",
      "model_module_version": "1.5.0",
      "model_name": "VBoxModel",
      "state": {
       "children": [
        "IPY_MODEL_9347534d7d7f43718a364f6e6de8a384",
        "IPY_MODEL_c2e98116a8e9473694cc267174cd2476",
        "IPY_MODEL_a4278290f72c47c8a1faaf58e9b1ef04",
        "IPY_MODEL_4b9f557944ed40d39c04afc28db47888",
        "IPY_MODEL_4e40e82f9b94418884b55232ed199087"
       ],
       "layout": "IPY_MODEL_ef7d9ccdf9d047a9b195ad296778a1e4"
      }
     },
     "58c624adf4a7453d9fb361c3cbea346b": {
      "model_module": "@jupyter-widgets/controls",
      "model_module_version": "1.5.0",
      "model_name": "HBoxModel",
      "state": {
       "children": [
        "IPY_MODEL_4cb58da6d8d343afa3b3389ccf44eb72",
        "IPY_MODEL_a1801a25d4db407dabcfc3a20573c6cc",
        "IPY_MODEL_84eed57c8a4f4cc7901055bbfc57b9ed"
       ],
       "layout": "IPY_MODEL_2ca25b7c9bd144ccbfdf28e4098686c2"
      }
     },
     "58d3e6a3c91d4910b51885f08741b6ea": {
      "model_module": "@jupyter-widgets/controls",
      "model_module_version": "1.5.0",
      "model_name": "VBoxModel",
      "state": {
       "children": [
        "IPY_MODEL_391e114e7c9f4896af06610460a1efd4",
        "IPY_MODEL_43e004b8e45247a689095f8289ec1af3"
       ],
       "layout": "IPY_MODEL_d633ecf86e334d91bd79ea62680d1d85"
      }
     },
     "58f10cede6534c9ba28b9af99e6a7aa2": {
      "model_module": "@jupyter-widgets/controls",
      "model_module_version": "1.5.0",
      "model_name": "DescriptionStyleModel",
      "state": {
       "description_width": ""
      }
     },
     "590df0a6fa2e459d87e191a0c6d2478d": {
      "model_module": "@jupyter-widgets/base",
      "model_module_version": "1.2.0",
      "model_name": "LayoutModel",
      "state": {
       "display": "none",
       "width": "auto"
      }
     },
     "5910611f33554073be30355aae068363": {
      "model_module": "@jupyter-widgets/base",
      "model_module_version": "1.2.0",
      "model_name": "LayoutModel",
      "state": {}
     },
     "5931902348bf4797945faa5be1a29bbf": {
      "model_module": "@jupyter-widgets/controls",
      "model_module_version": "1.5.0",
      "model_name": "HBoxModel",
      "state": {
       "children": [
        "IPY_MODEL_38e2ee15bee3442f9da13cf479098d54",
        "IPY_MODEL_f2d66fed7aa54d6292a2a3c6f6c6ae87",
        "IPY_MODEL_b506700f35b6464294efc2aec831816b"
       ],
       "layout": "IPY_MODEL_e3d5ed96cf704d6f99e68508f6f83af1"
      }
     },
     "593a30b6217c496f9651d4aefa3f1789": {
      "model_module": "@jupyter-widgets/base",
      "model_module_version": "1.2.0",
      "model_name": "LayoutModel",
      "state": {}
     },
     "59558b19d46440c8b59114937b13951f": {
      "model_module": "@jupyter-widgets/base",
      "model_module_version": "1.2.0",
      "model_name": "LayoutModel",
      "state": {
       "grid_area": "dircontent",
       "width": "auto"
      }
     },
     "5956f5e3292044a5bc24a5fe96194ef1": {
      "model_module": "@jupyter-widgets/controls",
      "model_module_version": "1.5.0",
      "model_name": "LabelModel",
      "state": {
       "layout": "IPY_MODEL_744a0d84c2a949c19dc3a566543e8b56",
       "style": "IPY_MODEL_691a90840063488595ee80db456c18c4",
       "value": "Topo, Sensor and Line Location Options"
      }
     },
     "596fc2ab46b147888dfc6fe90d953319": {
      "model_module": "@jupyter-widgets/controls",
      "model_module_version": "1.5.0",
      "model_name": "GridBoxModel",
      "state": {
       "children": [
        "IPY_MODEL_76458853439a4b97bd4b6125eb9e01c0",
        "IPY_MODEL_855c907a593d4d4898a35ea85cb9417b",
        "IPY_MODEL_169e2b9d456147a8b6df50f8010a62aa"
       ],
       "layout": "IPY_MODEL_3fa4da4663e54b36b2be5e5bd9c59449"
      }
     },
     "59af44a95a1446d78359de60f95e5abf": {
      "model_module": "@jupyter-widgets/controls",
      "model_module_version": "1.5.0",
      "model_name": "VBoxModel",
      "state": {
       "children": [
        "IPY_MODEL_b64e3d5356814fa889da7c6a61ee13c4",
        "IPY_MODEL_1964b2212db646c1b1719b073c2eff6a"
       ],
       "layout": "IPY_MODEL_2a9f482f1022491da0b57153f375b2c5"
      }
     },
     "59b88fed85ff404ba29e886b58586290": {
      "model_module": "@jupyter-widgets/base",
      "model_module_version": "1.2.0",
      "model_name": "LayoutModel",
      "state": {}
     },
     "59c25f7e2ff143c2b5cc31c4871727c2": {
      "model_module": "@jupyter-widgets/controls",
      "model_module_version": "1.5.0",
      "model_name": "TextModel",
      "state": {
       "description": "Offsets (x,y,z)",
       "layout": "IPY_MODEL_c96bd5465e1f48318a13b3961cd47ebd",
       "style": "IPY_MODEL_e1a014daa56c48da999f1cebb72df532",
       "value": "0, 0, 0"
      }
     },
     "59c991f9fc4f472cabacf3cd2994b99e": {
      "model_module": "@jupyter-widgets/controls",
      "model_module_version": "1.5.0",
      "model_name": "CheckboxModel",
      "state": {
       "description": "Forward only",
       "disabled": false,
       "layout": "IPY_MODEL_0ba90ca974f347e3bc00dd6500f473aa",
       "style": "IPY_MODEL_b485fe891f7f4939ae468f85bea1ac56",
       "value": false
      }
     },
     "59de52258ccd4de784f26a5efe6a6e05": {
      "model_module": "@jupyter-widgets/controls",
      "model_module_version": "1.5.0",
      "model_name": "VBoxModel",
      "state": {
       "children": [
        "IPY_MODEL_7a0169ef6996451ba1bcaacceb99efff",
        "IPY_MODEL_a525a9f46c2b4737880df30964bcf10d"
       ],
       "layout": "IPY_MODEL_6c22f53f26c94b9a91f687a81292ad32"
      }
     },
     "5a0cfc36849b46fca3eb2117d11e7f57": {
      "model_module": "@jupyter-widgets/base",
      "model_module_version": "1.2.0",
      "model_name": "LayoutModel",
      "state": {
       "display": "none",
       "grid_gap": "0px 0px",
       "grid_template_areas": "\n                    'pathlist pathlist'\n                    'dircontent dircontent'\n                    ",
       "grid_template_columns": "60% 40%",
       "grid_template_rows": "auto auto",
       "width": "500px"
      }
     },
     "5a1d9ddb37b84204bd6b72941b6173e1": {
      "model_module": "@jupyter-widgets/controls",
      "model_module_version": "1.5.0",
      "model_name": "TextModel",
      "state": {
       "disabled": true,
       "layout": "IPY_MODEL_e19fbcf2fd4b426c8e366c9a92522827",
       "placeholder": "output filename",
       "style": "IPY_MODEL_b65cf557614f4971bf3a4ee20519e136"
      }
     },
     "5a4f3d30825b449cb4bd9978742ae64e": {
      "model_module": "@jupyter-widgets/controls",
      "model_module_version": "1.5.0",
      "model_name": "VBoxModel",
      "state": {
       "children": [
        "IPY_MODEL_dc20dcaf352c4f238fd179bc28cadca7",
        "IPY_MODEL_7c58193440b041a8b584b05c28484fbb",
        "IPY_MODEL_fee3a511cc4540329aa225d7520da684",
        "IPY_MODEL_4b685303f1344847ab0ac4918f380838",
        "IPY_MODEL_2f4149af9cd8432d83ef721ffa7190b2"
       ],
       "layout": "IPY_MODEL_ab8a246a58274b7e8019f3672dd95baa"
      }
     },
     "5a4fe677027447f586f6cb671a0b28ca": {
      "model_module": "@jupyter-widgets/base",
      "model_module_version": "1.2.0",
      "model_name": "LayoutModel",
      "state": {
       "grid_area": "pathlist",
       "width": "auto"
      }
     },
     "5a70489d23e248aeb9e7a3b8c7cd28cc": {
      "model_module": "@jupyter-widgets/controls",
      "model_module_version": "1.5.0",
      "model_name": "DropdownModel",
      "state": {
       "_options_labels": [
        "Topography",
        "Sensor"
       ],
       "index": 0,
       "layout": "IPY_MODEL_e2f03acc78b94b1fad64a15a49a8df3e",
       "style": "IPY_MODEL_87e4647b6a34480190508138936eada9"
      }
     },
     "5a8308984d2246e7bd7dcb6bf50bbd29": {
      "model_module": "@jupyter-widgets/base",
      "model_module_version": "1.2.0",
      "model_name": "LayoutModel",
      "state": {}
     },
     "5a89f938ec684b65998eaedf65871de5": {
      "model_module": "@jupyter-widgets/base",
      "model_module_version": "1.2.0",
      "model_name": "LayoutModel",
      "state": {
       "grid_area": "pathlist",
       "width": "auto"
      }
     },
     "5a8aed90402949a3b2d67c36bf3058b6": {
      "model_module": "@jupyter-widgets/base",
      "model_module_version": "1.2.0",
      "model_name": "LayoutModel",
      "state": {}
     },
     "5a9971c0a73f46c6a89e60735515f524": {
      "model_module": "@jupyter-widgets/base",
      "model_module_version": "1.2.0",
      "model_name": "LayoutModel",
      "state": {}
     },
     "5aa70e371b9c4ef79723eec9f6f102a0": {
      "model_module": "@jupyter-widgets/controls",
      "model_module_version": "1.5.0",
      "model_name": "DescriptionStyleModel",
      "state": {
       "description_width": "initial"
      }
     },
     "5aaeb0e1e549474f846cd31458bc2fa5": {
      "model_module": "@jupyter-widgets/controls",
      "model_module_version": "1.5.0",
      "model_name": "DescriptionStyleModel",
      "state": {
       "description_width": ""
      }
     },
     "5ac217b4acb340c2b5e883cdef67a367": {
      "model_module": "@jupyter-widgets/controls",
      "model_module_version": "1.5.0",
      "model_name": "VBoxModel",
      "state": {
       "children": [
        "IPY_MODEL_4c774fcf4037426596b26523152ac051",
        "IPY_MODEL_450d87d6114c4eed8a154e8faeb8642f"
       ],
       "layout": "IPY_MODEL_47805e3f4b4248ff8b022416d6cc4fd5"
      }
     },
     "5b0a93ba47d644d4910269a7dbabd815": {
      "model_module": "@jupyter-widgets/controls",
      "model_module_version": "1.5.0",
      "model_name": "HTMLModel",
      "state": {
       "layout": "IPY_MODEL_2e4838d5b25d4e8c802fec4507606e74",
       "placeholder": "",
       "style": "IPY_MODEL_f9302fccb2e445af9f1ffb08fa59630c",
       "value": "<span style=\"margin-left:10px; color:black;\">No file selected</span>"
      }
     },
     "5b2529fbf41f40e8b21c578637f78beb": {
      "model_module": "@jupyter-widgets/base",
      "model_module_version": "1.2.0",
      "model_name": "LayoutModel",
      "state": {}
     },
     "5b496fc2b96e49839477874832b18ba7": {
      "model_module": "@jupyter-widgets/controls",
      "model_module_version": "1.5.0",
      "model_name": "VBoxModel",
      "state": {
       "children": [
        "IPY_MODEL_690fa11f557a4203b5646c31fe3fa03e",
        "IPY_MODEL_9589fc88c1494d9aaf03775e45bb12ca",
        "IPY_MODEL_385d88d212804dd99ba0e2f57d25066b"
       ],
       "layout": "IPY_MODEL_76a9d56a65994a7bb35ce882fc24fd3b"
      }
     },
     "5b50a72c590f49ab937c913213f8dfb4": {
      "model_module": "@jupyter-widgets/controls",
      "model_module_version": "1.5.0",
      "model_name": "DescriptionStyleModel",
      "state": {
       "description_width": "initial"
      }
     },
     "5b678cc1ac564d159c73dcbc6afc1698": {
      "model_module": "@jupyter-widgets/controls",
      "model_module_version": "1.5.0",
      "model_name": "LabelModel",
      "state": {
       "layout": "IPY_MODEL_5a9971c0a73f46c6a89e60735515f524",
       "style": "IPY_MODEL_40a3e816157b48bcb383422e0a4a346f",
       "value": "Background susceptibility"
      }
     },
     "5b93fd35e1204be8be0a0070dc502c37": {
      "model_module": "@jupyter-widgets/base",
      "model_module_version": "1.2.0",
      "model_name": "LayoutModel",
      "state": {
       "visibility": "hidden"
      }
     },
     "5b9b482e41574d7792ac2700747a99a8": {
      "model_module": "@jupyter-widgets/controls",
      "model_module_version": "1.5.0",
      "model_name": "VBoxModel",
      "state": {
       "children": [
        "IPY_MODEL_a36b502c29f445bf829dbdc9a39553a7"
       ],
       "layout": "IPY_MODEL_3bfcf624d0ab42f880c2431546dd4338"
      }
     },
     "5bc59ca4ad6244d58ed15b4c2dd041ee": {
      "model_module": "@jupyter-widgets/controls",
      "model_module_version": "1.5.0",
      "model_name": "DescriptionStyleModel",
      "state": {
       "description_width": ""
      }
     },
     "5bcb65625f4e49fca1b702aafd289b54": {
      "model_module": "@jupyter-widgets/controls",
      "model_module_version": "1.5.0",
      "model_name": "DescriptionStyleModel",
      "state": {
       "description_width": "initial"
      }
     },
     "5bcb93deff134d54b74623fcd8d61000": {
      "model_module": "@jupyter-widgets/base",
      "model_module_version": "1.2.0",
      "model_name": "LayoutModel",
      "state": {}
     },
     "5bea7497b24c41df9987b86f46d85191": {
      "model_module": "@jupyter-widgets/controls",
      "model_module_version": "1.5.0",
      "model_name": "DescriptionStyleModel",
      "state": {
       "description_width": "initial"
      }
     },
     "5beea77940854608800f486c4f75a28d": {
      "model_module": "@jupyter-widgets/controls",
      "model_module_version": "1.5.0",
      "model_name": "VBoxModel",
      "state": {
       "children": [
        "IPY_MODEL_f99658b8b667427fb79d7546234727ee",
        "IPY_MODEL_c49e648c570842919b763aadd6f87106"
       ],
       "layout": "IPY_MODEL_8dc5ebf66d8e4df5a7fc0905125286e0"
      }
     },
     "5c02db0e88f84d18915d6615e6049c25": {
      "model_module": "@jupyter-widgets/controls",
      "model_module_version": "1.5.0",
      "model_name": "ButtonModel",
      "state": {
       "description": "Select",
       "layout": "IPY_MODEL_082594f0760b4340a50c273559fb3f5b",
       "style": "IPY_MODEL_15ea86094c89406584a3bf8ab34cf7d4"
      }
     },
     "5c68566342794ff79a00fde8916898e2": {
      "model_module": "@jupyter-widgets/controls",
      "model_module_version": "1.5.0",
      "model_name": "SliderStyleModel",
      "state": {
       "description_width": "initial"
      }
     },
     "5c95bc8475234d5883815703eeb7c796": {
      "model_module": "@jupyter-widgets/controls",
      "model_module_version": "1.5.0",
      "model_name": "HTMLModel",
      "state": {
       "layout": "IPY_MODEL_da0e73c3c48046fc910cd8de22b87431",
       "style": "IPY_MODEL_045f8b49a90245728eb879719fea4190"
      }
     },
     "5c9e90860dec4587a456eafcad3a8b31": {
      "model_module": "@jupyter-widgets/controls",
      "model_module_version": "1.5.0",
      "model_name": "CheckboxModel",
      "state": {
       "description": "Active",
       "disabled": false,
       "layout": "IPY_MODEL_5bcb93deff134d54b74623fcd8d61000",
       "style": "IPY_MODEL_85a136d68d2e4750a95a47de562c9eee",
       "value": false
      }
     },
     "5ca5eeb7465d4da5a40d8cdf14b87aee": {
      "model_module": "@jupyter-widgets/controls",
      "model_module_version": "1.5.0",
      "model_name": "HTMLModel",
      "state": {
       "layout": "IPY_MODEL_e2034b4a131949bbaf8bd001a92ebc81",
       "style": "IPY_MODEL_e8650f7b8d964b3c95b373c0cee7616c"
      }
     },
     "5cc0a34130a141719a9dc1e22efded3b": {
      "model_module": "@jupyter-widgets/controls",
      "model_module_version": "1.5.0",
      "model_name": "LabelModel",
      "state": {
       "layout": "IPY_MODEL_c87a880760e2448e8beb44c700aef93f",
       "style": "IPY_MODEL_e6535bbe6c1e498b90329a9fd894a4d0",
       "value": "Background susceptibility"
      }
     },
     "5ccf04ffdc224e749974e39b7edae863": {
      "model_module": "@jupyter-widgets/base",
      "model_module_version": "1.2.0",
      "model_name": "LayoutModel",
      "state": {}
     },
     "5cdecc3f91ff49edb4dc2a889d769848": {
      "model_module": "@jupyter-widgets/controls",
      "model_module_version": "1.5.0",
      "model_name": "DescriptionStyleModel",
      "state": {
       "description_width": ""
      }
     },
     "5cea82c6761c4a0c9dff78369e42bc85": {
      "model_module": "@jupyter-widgets/controls",
      "model_module_version": "1.5.0",
      "model_name": "DescriptionStyleModel",
      "state": {
       "description_width": ""
      }
     },
     "5d666412ed2d4d37a22bad2442547d96": {
      "model_module": "@jupyter-widgets/controls",
      "model_module_version": "1.5.0",
      "model_name": "FloatTextModel",
      "state": {
       "description": "CG Tolerance",
       "layout": "IPY_MODEL_44e04cb7e937449ba121b5c42db9d5ff",
       "step": null,
       "style": "IPY_MODEL_2b8130baa53d4793ada0601275515ab9",
       "value": 0.001
      }
     },
     "5d8012f7b96e44159ec4483b258b5131": {
      "model_module": "@jupyter-widgets/base",
      "model_module_version": "1.2.0",
      "model_name": "LayoutModel",
      "state": {}
     },
     "5d989b274fd84ad48788ae7077b42706": {
      "model_module": "@jupyter-widgets/controls",
      "model_module_version": "1.5.0",
      "model_name": "DescriptionStyleModel",
      "state": {
       "description_width": ""
      }
     },
     "5da378e7d4914c28b982ad3a2e977345": {
      "model_module": "@jupyter-widgets/controls",
      "model_module_version": "1.5.0",
      "model_name": "DescriptionStyleModel",
      "state": {
       "description_width": ""
      }
     },
     "5db20c95c7be4ba0b1bd8a39624b6b2d": {
      "model_module": "@jupyter-widgets/controls",
      "model_module_version": "1.5.0",
      "model_name": "DescriptionStyleModel",
      "state": {
       "description_width": ""
      }
     },
     "5e014c92006d47c88a4136f45769d3cc": {
      "model_module": "@jupyter-widgets/controls",
      "model_module_version": "1.5.0",
      "model_name": "DescriptionStyleModel",
      "state": {
       "description_width": ""
      }
     },
     "5e0a30548af845d7b2387c7022d03c2e": {
      "model_module": "@jupyter-widgets/controls",
      "model_module_version": "1.5.0",
      "model_name": "TextModel",
      "state": {
       "description": "Scaling alpha_(s, x, y, z)",
       "layout": "IPY_MODEL_c40c37975f6e4e1cb65f4d57245150dc",
       "style": "IPY_MODEL_5f82699397b441caa3913c5974187bfb",
       "value": "1.0, 1.0, 1.0, 1.0"
      }
     },
     "5e1d85770188450d987c0afe508f5006": {
      "model_module": "@jupyter-widgets/controls",
      "model_module_version": "1.5.0",
      "model_name": "DropdownModel",
      "state": {
       "_options_labels": [
        "",
        "fault_splay1",
        "fault_Cliff_Lake",
        "fault_Other_FlinFlon",
        "fault_Club_Lake_splay",
        "fault_Catherine_splay2",
        "fault_Birch_View",
        "fault_Dion_Lake",
        "fault_FlinFlon_splay",
        "fault_West_Mandy_Road",
        "fault_Channing",
        "fault_Ross_Lake",
        "fault_Louis_Hidden",
        "fault_Lake_View_thrust",
        "contact_Schist_Lake",
        "fault_Burley_Lake",
        "fault_Dion_Lake_splay",
        "fault_Green_Lake",
        "fault_FlinFlon",
        "fault_Catherine_splay1",
        "fault_East_Mandy_Road",
        "fault_Other_FlinFlon_South",
        "fault_Catherine_splay4",
        "contact_Stitt_Island",
        "fault_Club_Lake",
        "fault_Tailing_Pond",
        "35_Hidden_Reservoir_Hr5",
        "29_Hidden_Reservoir_Hr1a",
        "60_BlueLagoon_Fb2",
        "20_FlinFlon_Undivided_Int_Dykes_D2f",
        "04_Boundary_Intrusive_S4h",
        "53_Millrock_Rhyolite_Fm4b",
        "19_FlinFlon_Undivided_Int_Dykes_D2b",
        "18_FlinFlon_Undivided_Int_Dykes_777_D2b",
        "06_Phantom_Lake_Intrusive_S3a",
        "21_FlinFlon_Undivided_Int_Dykes_D3a",
        "43_Millrock_CHLSH_South",
        "56_Millrock_Basalt_Fm1ba",
        "17_FlinFlon_Undivided_Int_Dykes_D2",
        "32_Hidden_Reservoir_Hr1b_SW",
        "11_Missi_M3_NE",
        "13_Missi_M1",
        "07_Annabel_Granitoid_S1",
        "45_Millrock_Gabbro_South",
        "01_Late_Intrusive_S5b",
        "31_Hidden_Reservoir_Hr1c_SW",
        "52_Millrock_Rhyolite_Fm4_West_check",
        "55_Millrock_Basalt_Fm1bf",
        "34_Hidden_Reservoir_Hr2b",
        "03_Boundary_Intrusive_S4b",
        "42_Millrock_CHLSH_North",
        "26_Louis_L3",
        "23_FlinFlon_Undivided_Int_Felsic_D4g",
        "30_Hidden_Reservoir_Hr1b",
        "59_BlueLagoon_Fb3",
        "49_Millrock_MVR_Fm5d",
        "44_Millrock_Gabbro_North",
        "27_Hidden_Carlisle_Hc4",
        "22_FlinFlon_Undivided_Int_Felsic_D4e",
        "02_Boundary_Intrusive_S4a",
        "61_BlueLagoon_Fb1_NW",
        "05_Boundary_Intrusive_S4g",
        "39_Ore_Callinan",
        "38_Ore_Dan_Owens",
        "40_Ore_FlinFlon",
        "Inversion_VTEM_Model",
        "Gravity_Magnetics_drape60m",
        "CDI_VTEM_model",
        "Data_FEM_pseudo3D",
        "O2O_Interp_25m",
        "geochem",
        "Inversion_DIGHEM_Model",
        "Topography",
        "Data_TEM_pseudo3D",
        "Data_ZTEM"
       ],
       "description": "Object",
       "index": 0,
       "layout": "IPY_MODEL_4e5589eae4014271b6ceeb2f39faf719",
       "style": "IPY_MODEL_aa49b487553e4d1ea5dc83604bca15be"
      }
     },
     "5e497095f21f4ab1b0556723534fab4d": {
      "model_module": "@jupyter-widgets/controls",
      "model_module_version": "1.5.0",
      "model_name": "DescriptionStyleModel",
      "state": {
       "description_width": ""
      }
     },
     "5e4b04341c454bb585517dc49e0521b8": {
      "model_module": "@jupyter-widgets/controls",
      "model_module_version": "1.5.0",
      "model_name": "SliderStyleModel",
      "state": {
       "description_width": "initial"
      }
     },
     "5e50b84872c9441d9b84c15546a669fd": {
      "model_module": "@jupyter-widgets/controls",
      "model_module_version": "1.5.0",
      "model_name": "TextModel",
      "state": {
       "description": "Data (i.e. <0 = no negatives)",
       "layout": "IPY_MODEL_ac972b43d23b49f7be111d9533bc9b60",
       "style": "IPY_MODEL_93073e5576e544bf96c8c0deb08e0c25",
       "value": "-99999"
      }
     },
     "5ea8b338808240029ebe265dd7b4b91c": {
      "model_module": "@jupyter-widgets/controls",
      "model_module_version": "1.5.0",
      "model_name": "DescriptionStyleModel",
      "state": {
       "description_width": ""
      }
     },
     "5f10013bedab4ffaaa8cdd6edf7c1d6f": {
      "model_module": "@jupyter-widgets/controls",
      "model_module_version": "1.5.0",
      "model_name": "DescriptionStyleModel",
      "state": {
       "description_width": ""
      }
     },
     "5f11e9b2a447498baa64fdf8cbc3c9e0": {
      "model_module": "@jupyter-widgets/base",
      "model_module_version": "1.2.0",
      "model_name": "LayoutModel",
      "state": {}
     },
     "5f3770fb24604902a1c22f4b5473c9fd": {
      "model_module": "@jupyter-widgets/controls",
      "model_module_version": "1.5.0",
      "model_name": "HBoxModel",
      "state": {
       "children": [
        "IPY_MODEL_91a8e9380d454322bf0745b424ca9e59",
        "IPY_MODEL_a026ac448202431c8db8093353e15731",
        "IPY_MODEL_306da646e2724bfba07bc25b36ec6b32"
       ],
       "layout": "IPY_MODEL_f38383c08f1f45c68a182c3cce49f6e5"
      }
     },
     "5f45ab26edc34df0a17108d03cb18bbd": {
      "model_module": "@jupyter-widgets/controls",
      "model_module_version": "1.5.0",
      "model_name": "HBoxModel",
      "state": {
       "children": [
        "IPY_MODEL_8e777b2c0b6f48e5961e974e223596d5",
        "IPY_MODEL_b0308418e47949e2bfd81c8fc77f0914"
       ],
       "layout": "IPY_MODEL_1905c6aa6e6648319013799d37e89d5c"
      }
     },
     "5f60ab19f1a84408b393e3bf41c4fd7b": {
      "model_module": "@jupyter-widgets/controls",
      "model_module_version": "1.5.0",
      "model_name": "DescriptionStyleModel",
      "state": {
       "description_width": ""
      }
     },
     "5f634438f670439e973b650d394ee19f": {
      "model_module": "@jupyter-widgets/controls",
      "model_module_version": "1.5.0",
      "model_name": "GridBoxModel",
      "state": {
       "children": [
        "IPY_MODEL_13ad3168e8814e1f87057fda153a0f5c",
        "IPY_MODEL_5a1d9ddb37b84204bd6b72941b6173e1",
        "IPY_MODEL_1d47f08f7b694033b7151774450a6754"
       ],
       "layout": "IPY_MODEL_7d5ce371037740b2a18c4b2ff2aad088"
      }
     },
     "5f6710aaad9f4deab4f0084c9125bac4": {
      "model_module": "@jupyter-widgets/controls",
      "model_module_version": "1.5.0",
      "model_name": "DescriptionStyleModel",
      "state": {
       "description_width": ""
      }
     },
     "5f6b85d936ca43f29fda34bbd8b17a20": {
      "model_module": "@jupyter-widgets/controls",
      "model_module_version": "1.5.0",
      "model_name": "ButtonStyleModel",
      "state": {}
     },
     "5f82699397b441caa3913c5974187bfb": {
      "model_module": "@jupyter-widgets/controls",
      "model_module_version": "1.5.0",
      "model_name": "DescriptionStyleModel",
      "state": {
       "description_width": ""
      }
     },
     "5fd9972d67d841d98a783a293868e967": {
      "model_module": "@jupyter-widgets/base",
      "model_module_version": "1.2.0",
      "model_name": "LayoutModel",
      "state": {
       "width": "auto"
      }
     },
     "5fe702fa04074a16be83e77d61ec02a8": {
      "model_module": "@jupyter-widgets/base",
      "model_module_version": "1.2.0",
      "model_name": "LayoutModel",
      "state": {}
     },
     "5ff32bd644f84fcca484aa1b9ecab2d0": {
      "model_module": "@jupyter-widgets/controls",
      "model_module_version": "1.5.0",
      "model_name": "DescriptionStyleModel",
      "state": {
       "description_width": ""
      }
     },
     "5ff4978715fd4177a5ec1dde75c57755": {
      "model_module": "@jupyter-widgets/controls",
      "model_module_version": "1.5.0",
      "model_name": "VBoxModel",
      "state": {
       "children": [
        "IPY_MODEL_2cb779dddeb348eea2d72eccd5078fd0",
        "IPY_MODEL_b70e7816989a48c4b1f985dec718022c"
       ],
       "layout": "IPY_MODEL_d57259a1c58b491e9d8379b60c21d0dc"
      }
     },
     "5ff92b4688ac4d1f9cc6e90ff0c1acd8": {
      "model_module": "@jupyter-widgets/base",
      "model_module_version": "1.2.0",
      "model_name": "LayoutModel",
      "state": {}
     },
     "600b772f3b2b40918292983227491326": {
      "model_module": "@jupyter-widgets/controls",
      "model_module_version": "1.5.0",
      "model_name": "DescriptionStyleModel",
      "state": {
       "description_width": ""
      }
     },
     "6011bbea1840449c9d7de954fc5a5283": {
      "model_module": "@jupyter-widgets/base",
      "model_module_version": "1.2.0",
      "model_name": "LayoutModel",
      "state": {}
     },
     "604b72bb54244067922c4ec6f7a99268": {
      "model_module": "@jupyter-widgets/base",
      "model_module_version": "1.2.0",
      "model_name": "LayoutModel",
      "state": {}
     },
     "605fbcd1453e462bb11710e624262c08": {
      "model_module": "@jupyter-widgets/base",
      "model_module_version": "1.2.0",
      "model_name": "LayoutModel",
      "state": {}
     },
     "60ba082078f94461b8e3e95d2f2038b7": {
      "model_module": "@jupyter-widgets/controls",
      "model_module_version": "1.5.0",
      "model_name": "HTMLModel",
      "state": {
       "layout": "IPY_MODEL_fc45f4b4545e4340ae6558bac9b209cb",
       "style": "IPY_MODEL_457631363461413f883fa61da61e6295"
      }
     },
     "60bd71305fd348f8ace0b7073cb2b57c": {
      "model_module": "@jupyter-widgets/base",
      "model_module_version": "1.2.0",
      "model_name": "LayoutModel",
      "state": {
       "visibility": "hidden"
      }
     },
     "613c3095ac41483e9f0d0c5e8d9c711b": {
      "model_module": "@jupyter-widgets/base",
      "model_module_version": "1.2.0",
      "model_name": "LayoutModel",
      "state": {
       "width": "auto"
      }
     },
     "613d165c697e42ef8fa11ded2a6de578": {
      "model_module": "@jupyter-widgets/controls",
      "model_module_version": "1.5.0",
      "model_name": "DropdownModel",
      "state": {
       "_options_labels": [
        "C:\\Users\\dominiquef\\Documents\\GIT\\mira\\mirageoscience-apps\\docs\\content\\applications",
        "C:\\Users\\dominiquef\\Documents\\GIT\\mira\\mirageoscience-apps\\docs\\content",
        "C:\\Users\\dominiquef\\Documents\\GIT\\mira\\mirageoscience-apps\\docs",
        "C:\\Users\\dominiquef\\Documents\\GIT\\mira\\mirageoscience-apps",
        "C:\\Users\\dominiquef\\Documents\\GIT\\mira",
        "C:\\Users\\dominiquef\\Documents\\GIT",
        "C:\\Users\\dominiquef\\Documents",
        "C:\\Users\\dominiquef",
        "C:\\Users",
        "C:\\",
        "D:\\",
        "Z:\\"
       ],
       "index": 0,
       "layout": "IPY_MODEL_fa13f02f8cad41449d427646bd1412f1",
       "style": "IPY_MODEL_a03b3a4f24db428491c9033aa205bcfe"
      }
     },
     "61a69482844e4a2180f824737eb3dca6": {
      "model_module": "@jupyter-widgets/controls",
      "model_module_version": "1.5.0",
      "model_name": "ButtonStyleModel",
      "state": {}
     },
     "61ce6b56521d47bd8e8b9d57ee8c0675": {
      "model_module": "@jupyter-widgets/base",
      "model_module_version": "1.2.0",
      "model_name": "LayoutModel",
      "state": {}
     },
     "620b652f1729455bb0d5cf546acc3017": {
      "model_module": "@jupyter-widgets/base",
      "model_module_version": "1.2.0",
      "model_name": "LayoutModel",
      "state": {}
     },
     "624ae8b57c4f433ca1e0ea15b03bec83": {
      "model_module": "@jupyter-widgets/controls",
      "model_module_version": "1.5.0",
      "model_name": "HBoxModel",
      "state": {
       "children": [
        "IPY_MODEL_5c02db0e88f84d18915d6615e6049c25",
        "IPY_MODEL_9302b000e9b64f56b270391d1db90bc4",
        "IPY_MODEL_b2fe569db2e04bb09f5f3a6c620698c7"
       ],
       "layout": "IPY_MODEL_7d1fd305fa0f4b6d8734801db4194060"
      }
     },
     "6259113ab266414493a361af14f3b334": {
      "model_module": "@jupyter-widgets/controls",
      "model_module_version": "1.5.0",
      "model_name": "DescriptionStyleModel",
      "state": {
       "description_width": ""
      }
     },
     "6263887fb25c4f34b12b25bc5bf71690": {
      "model_module": "@jupyter-widgets/controls",
      "model_module_version": "1.5.0",
      "model_name": "TextModel",
      "state": {
       "continuous_update": false,
       "description": "Group:",
       "layout": "IPY_MODEL_f964ff9d81f74314a9704451b6d48b76",
       "style": "IPY_MODEL_877925041ca84a7391dba2ff6b2042cd"
      }
     },
     "6280dddbc33247c08a44d2bb7f30af63": {
      "model_module": "@jupyter-widgets/base",
      "model_module_version": "1.2.0",
      "model_name": "LayoutModel",
      "state": {}
     },
     "62810faf7c324efd89532452828ba6fb": {
      "model_module": "@jupyter-widgets/controls",
      "model_module_version": "1.5.0",
      "model_name": "DescriptionStyleModel",
      "state": {
       "description_width": ""
      }
     },
     "6292b03c6a4c44e088a6355a415cca01": {
      "model_module": "@jupyter-widgets/controls",
      "model_module_version": "1.5.0",
      "model_name": "DescriptionStyleModel",
      "state": {
       "description_width": ""
      }
     },
     "62931003de45417eae886dd167f320ba": {
      "model_module": "@jupyter-widgets/controls",
      "model_module_version": "1.5.0",
      "model_name": "DescriptionStyleModel",
      "state": {
       "description_width": "initial"
      }
     },
     "62bdc16ed3544dc394f7d25655886102": {
      "model_module": "@jupyter-widgets/base",
      "model_module_version": "1.2.0",
      "model_name": "LayoutModel",
      "state": {
       "grid_area": "filename",
       "width": "auto"
      }
     },
     "62d4c38a2aa94aa1b9695ad5135b41f2": {
      "model_module": "@jupyter-widgets/controls",
      "model_module_version": "1.5.0",
      "model_name": "SelectModel",
      "state": {
       "_options_labels": [
        "..",
        "images",
        "base_application.ipynb",
        "calculator.ipynb",
        "clustering.ipynb",
        "contouring.ipynb",
        "coordinate_transformation.ipynb",
        "create_isosurface.ipynb",
        "create_surface.ipynb",
        "data_interpolation.ipynb",
        "edge_detection.ipynb",
        "export.ipynb",
        "geophysical_inversion.ipynb",
        "object_data_selection.ipynb",
        "octree_mesh_creation.png",
        "peak_finder.ipynb",
        "scatter.ipynb",
        "view_selection.ipynb"
       ],
       "index": null,
       "layout": "IPY_MODEL_7ea202e4e9224fa7bf956b07529492d7",
       "rows": 8,
       "style": "IPY_MODEL_92794d5fb399474ba8b7cda8fdd63088"
      }
     },
     "62eda6fefa9e40159caae2d6261a4657": {
      "model_module": "@jupyter-widgets/controls",
      "model_module_version": "1.5.0",
      "model_name": "DescriptionStyleModel",
      "state": {
       "description_width": "initial"
      }
     },
     "62f5bedf403b453ba4c93df2e5058e79": {
      "model_module": "@jupyter-widgets/base",
      "model_module_version": "1.2.0",
      "model_name": "LayoutModel",
      "state": {}
     },
     "634c2a6234d144b0987b3a3fadbea2e8": {
      "model_module": "@jupyter-widgets/controls",
      "model_module_version": "1.5.0",
      "model_name": "CheckboxModel",
      "state": {
       "description": "GA Pro - Live link",
       "disabled": false,
       "indent": false,
       "layout": "IPY_MODEL_44602b63beb24bbfb8c8fe4fb65a4f2f",
       "style": "IPY_MODEL_c2d4d2952dee4911bb8fd95dca4b716f",
       "value": false
      }
     },
     "635f687ec11d474bb0486d6c37dd0c27": {
      "model_module": "@jupyter-widgets/controls",
      "model_module_version": "1.5.0",
      "model_name": "FloatTextModel",
      "state": {
       "description": "Vertical offset (+ve up)",
       "layout": "IPY_MODEL_85f52e3502c647cf80118a8be21bdc63",
       "step": null,
       "style": "IPY_MODEL_0785f77457fa4855b26db761c3b24499"
      }
     },
     "63c0ee38a02c4b6ea8b54eac8b72eb65": {
      "model_module": "@jupyter-widgets/base",
      "model_module_version": "1.2.0",
      "model_name": "LayoutModel",
      "state": {
       "width": "auto"
      }
     },
     "63d14eb59fcc447797ce4a1e2e286566": {
      "model_module": "@jupyter-widgets/base",
      "model_module_version": "1.2.0",
      "model_name": "LayoutModel",
      "state": {}
     },
     "6410a82f6c884cceb57daa1c14ed36de": {
      "model_module": "@jupyter-widgets/controls",
      "model_module_version": "1.5.0",
      "model_name": "DescriptionStyleModel",
      "state": {
       "description_width": ""
      }
     },
     "642498f5601c40d98b3540b9afc29d7f": {
      "model_module": "@jupyter-widgets/base",
      "model_module_version": "1.2.0",
      "model_name": "LayoutModel",
      "state": {}
     },
     "64302da6eaa64dba8a43133fe326d47b": {
      "model_module": "@jupyter-widgets/base",
      "model_module_version": "1.2.0",
      "model_name": "LayoutModel",
      "state": {
       "display": "none"
      }
     },
     "649750b940c24dc380551b3c5232ae6f": {
      "model_module": "@jupyter-widgets/base",
      "model_module_version": "1.2.0",
      "model_name": "LayoutModel",
      "state": {}
     },
     "64be0f7caefb4301bebb862ae9864b87": {
      "model_module": "@jupyter-widgets/controls",
      "model_module_version": "1.5.0",
      "model_name": "TextModel",
      "state": {
       "description": "Layers below topo",
       "layout": "IPY_MODEL_424f9982866b4d9d9a34d5851c6991a1",
       "style": "IPY_MODEL_dbc37774e8f443e8af92d7c6e177f9de",
       "value": "0, 0, 0, 2"
      }
     },
     "64cddc53bfc64289abc526086ebbc637": {
      "model_module": "@jupyter-widgets/controls",
      "model_module_version": "1.5.0",
      "model_name": "DescriptionStyleModel",
      "state": {
       "description_width": ""
      }
     },
     "64fb46fea52a4a5a8d38b3403faa3b7a": {
      "model_module": "@jupyter-widgets/base",
      "model_module_version": "1.2.0",
      "model_name": "LayoutModel",
      "state": {}
     },
     "6564fc3eef7d4f889808452e1064cb81": {
      "model_module": "@jupyter-widgets/controls",
      "model_module_version": "1.5.0",
      "model_name": "VBoxModel",
      "state": {
       "children": [
        "IPY_MODEL_4a52deb2b134411faf2f2e004cfb9670",
        "IPY_MODEL_46fbc519b8d247e2b9be2f29fd83b79b",
        "IPY_MODEL_6974d802fbdc4f11949fb5a168232b20",
        "IPY_MODEL_e24464d6600745e6948a2fd57c968c0e",
        "IPY_MODEL_3172751249c642a99d734fd1a45a6e82"
       ],
       "layout": "IPY_MODEL_7cc811ff91dd4ec68a307b0eb3ea2100"
      }
     },
     "656a2dc4637c42b184ab153c271cb9e3": {
      "model_module": "@jupyter-widgets/base",
      "model_module_version": "1.2.0",
      "model_name": "LayoutModel",
      "state": {
       "grid_area": "dircontent",
       "width": "auto"
      }
     },
     "65799ba5d837441e9b0cb06d046c52a9": {
      "model_module": "@jupyter-widgets/controls",
      "model_module_version": "1.5.0",
      "model_name": "VBoxModel",
      "state": {
       "children": [
        "IPY_MODEL_1bf513fa431e4ccf957c4f413801f01b",
        "IPY_MODEL_eee50d70021a48bfbe8d71b09515ab69"
       ],
       "layout": "IPY_MODEL_7a8dc55a892d4b0db180b1088285a7ae"
      }
     },
     "65a7445b7e38420fbe3726c815febf55": {
      "model_module": "@jupyter-widgets/base",
      "model_module_version": "1.2.0",
      "model_name": "LayoutModel",
      "state": {
       "display": "none",
       "grid_area": "filename",
       "width": "auto"
      }
     },
     "65c0d78853fe4710a261bde525d0918f": {
      "model_module": "@jupyter-widgets/controls",
      "model_module_version": "1.5.0",
      "model_name": "DescriptionStyleModel",
      "state": {
       "description_width": ""
      }
     },
     "65db114339c046dc954cdbd0f673d6dd": {
      "model_module": "@jupyter-widgets/controls",
      "model_module_version": "1.5.0",
      "model_name": "VBoxModel",
      "state": {
       "children": [
        "IPY_MODEL_e9ec1bedda144d9cbfec7c75d24c1ecb",
        "IPY_MODEL_bc0de40c3bfc4b2da8a103b21f5e37d0"
       ],
       "layout": "IPY_MODEL_1cda22c88eac483094b2a16b1a42a2ce"
      }
     },
     "65de867674814277868849e4991f5f96": {
      "model_module": "@jupyter-widgets/base",
      "model_module_version": "1.2.0",
      "model_name": "LayoutModel",
      "state": {}
     },
     "660f566af62d4301a0b50389e20da2d7": {
      "model_module": "@jupyter-widgets/base",
      "model_module_version": "1.2.0",
      "model_name": "LayoutModel",
      "state": {}
     },
     "6610ed7a5ea0476aaa7fc01d9c4a8b0e": {
      "model_module": "@jupyter-widgets/controls",
      "model_module_version": "1.5.0",
      "model_name": "SliderStyleModel",
      "state": {
       "description_width": ""
      }
     },
     "66497336d41443c99618976ca272d1a7": {
      "model_module": "@jupyter-widgets/controls",
      "model_module_version": "1.5.0",
      "model_name": "GridBoxModel",
      "state": {
       "children": [
        "IPY_MODEL_1ad005b9067641aca2cc7557cc5bb88a",
        "IPY_MODEL_bc82931e34b94bb68b4f6d967bf4df30",
        "IPY_MODEL_d8b94bc4bb0c41eba7c5e587de36e53e"
       ],
       "layout": "IPY_MODEL_ab171c519085433e9942f1c34869026a"
      }
     },
     "66af2991a44f4b6badedafecebee343c": {
      "model_module": "@jupyter-widgets/base",
      "model_module_version": "1.2.0",
      "model_name": "LayoutModel",
      "state": {
       "width": "auto"
      }
     },
     "66b1efec92184ae0b2331bef2ca2a5fa": {
      "model_module": "@jupyter-widgets/controls",
      "model_module_version": "1.5.0",
      "model_name": "DescriptionStyleModel",
      "state": {
       "description_width": "initial"
      }
     },
     "66b3637336fe4e509878b4b18f91280f": {
      "model_module": "@jupyter-widgets/controls",
      "model_module_version": "1.5.0",
      "model_name": "FloatTextModel",
      "state": {
       "description": "Minimum depth (m)",
       "layout": "IPY_MODEL_deaa21c6ce95447586059f34674ac216",
       "step": null,
       "style": "IPY_MODEL_4d56d6e956954623827198a6eb8c0396",
       "value": 500
      }
     },
     "67245090a6bb4cbc8a6b4534411e89da": {
      "model_module": "@jupyter-widgets/base",
      "model_module_version": "1.2.0",
      "model_name": "LayoutModel",
      "state": {}
     },
     "6735444b1b2543708fb4f917ec90f0b0": {
      "model_module": "@jupyter-widgets/controls",
      "model_module_version": "1.5.0",
      "model_name": "DescriptionStyleModel",
      "state": {
       "description_width": "initial"
      }
     },
     "673e202d68b24524889cf74cdca55eb1": {
      "model_module": "@jupyter-widgets/controls",
      "model_module_version": "1.5.0",
      "model_name": "DescriptionStyleModel",
      "state": {
       "description_width": ""
      }
     },
     "673f1fe1ed794017a2c406c23e565435": {
      "model_module": "@jupyter-widgets/controls",
      "model_module_version": "1.5.0",
      "model_name": "VBoxModel",
      "state": {
       "children": [
        "IPY_MODEL_804e208a025f45c390b9e14020770ace",
        "IPY_MODEL_eb9fb719e6744d4a8a44f1e140439438"
       ],
       "layout": "IPY_MODEL_5b2529fbf41f40e8b21c578637f78beb"
      }
     },
     "674f1e54b35648439abf8a0da5392a26": {
      "model_module": "@jupyter-widgets/controls",
      "model_module_version": "1.5.0",
      "model_name": "ButtonStyleModel",
      "state": {}
     },
     "67582cc324dd46639e530944f8870323": {
      "model_module": "@jupyter-widgets/controls",
      "model_module_version": "1.5.0",
      "model_name": "ButtonModel",
      "state": {
       "button_style": "danger",
       "description": "Compute",
       "icon": "check",
       "layout": "IPY_MODEL_5ccf04ffdc224e749974e39b7edae863",
       "style": "IPY_MODEL_ffb8cfe9d7984723b93afde4034273eb",
       "tooltip": "Run computation"
      }
     },
     "675e748dad5a43e9bd4c56c037340d9f": {
      "model_module": "@jupyter-widgets/controls",
      "model_module_version": "1.5.0",
      "model_name": "IntTextModel",
      "state": {
       "description": "Max CG Iterations",
       "layout": "IPY_MODEL_810f36438f3641b0bb3c09adb6afc6a7",
       "step": 1,
       "style": "IPY_MODEL_e3d409cf0ea048b997d19c570268395e",
       "value": 30
      }
     },
     "6760fb0a954e498d9e0240b7d45d34d1": {
      "model_module": "@jupyter-widgets/base",
      "model_module_version": "1.2.0",
      "model_name": "LayoutModel",
      "state": {}
     },
     "6764fca896db47e5b328d0f4807ab67e": {
      "model_module": "@jupyter-widgets/controls",
      "model_module_version": "1.5.0",
      "model_name": "ToggleButtonModel",
      "state": {
       "layout": "IPY_MODEL_99eddf9e2f5e443da8c9317c0776837b",
       "style": "IPY_MODEL_92d8accd1ff241519ed7e73583638372",
       "value": true
      }
     },
     "676f156dfe644a929988f2737d579e5c": {
      "model_module": "@jupyter-widgets/controls",
      "model_module_version": "1.5.0",
      "model_name": "ButtonStyleModel",
      "state": {}
     },
     "678d196cb3694b23ac974c466820f31c": {
      "model_module": "@jupyter-widgets/base",
      "model_module_version": "1.2.0",
      "model_name": "LayoutModel",
      "state": {
       "visibility": "hidden"
      }
     },
     "679250808d0049298ebc90aee106170f": {
      "model_module": "@jupyter-widgets/base",
      "model_module_version": "1.2.0",
      "model_name": "LayoutModel",
      "state": {
       "grid_area": "dircontent",
       "width": "auto"
      }
     },
     "67a0558203e746b5a04de92e9ea9258e": {
      "model_module": "@jupyter-widgets/controls",
      "model_module_version": "1.5.0",
      "model_name": "ButtonModel",
      "state": {
       "description": "Select",
       "layout": "IPY_MODEL_c90ef88948bc43b19ab9fe9d71a364d3",
       "style": "IPY_MODEL_52088395fd8e49aea078f84a4ad35b08"
      }
     },
     "67a44d1e420a4b7488bb6f9df955cfd3": {
      "model_module": "@jupyter-widgets/controls",
      "model_module_version": "1.5.0",
      "model_name": "VBoxModel",
      "state": {
       "children": [
        "IPY_MODEL_b2da21e89f094ed499b9c83852cff65e",
        "IPY_MODEL_c9093d8b872c45e988950ececd1fdc26"
       ],
       "layout": "IPY_MODEL_38fdd39b2b814279a67257801f190a79"
      }
     },
     "67b97ea0416d4e05b797c2a34a3f5050": {
      "model_module": "@jupyter-widgets/base",
      "model_module_version": "1.2.0",
      "model_name": "LayoutModel",
      "state": {
       "width": "auto"
      }
     },
     "67ea87843ea14c599068d3781c3f660e": {
      "model_module": "@jupyter-widgets/base",
      "model_module_version": "1.2.0",
      "model_name": "LayoutModel",
      "state": {
       "display": "none"
      }
     },
     "6805a2db9e89435aa20f0ac5acf3535a": {
      "model_module": "@jupyter-widgets/controls",
      "model_module_version": "1.5.0",
      "model_name": "DescriptionStyleModel",
      "state": {
       "description_width": ""
      }
     },
     "6808ac9d570d42dc88361a9eb71a94b4": {
      "model_module": "@jupyter-widgets/controls",
      "model_module_version": "1.5.0",
      "model_name": "DescriptionStyleModel",
      "state": {
       "description_width": ""
      }
     },
     "681acdc20e0a4007b58d9825991274cb": {
      "model_module": "@jupyter-widgets/controls",
      "model_module_version": "1.5.0",
      "model_name": "ButtonStyleModel",
      "state": {}
     },
     "6820eec5bc5847d09a186fb1e584c483": {
      "model_module": "@jupyter-widgets/controls",
      "model_module_version": "1.5.0",
      "model_name": "DescriptionStyleModel",
      "state": {
       "description_width": ""
      }
     },
     "6828f572b4e949ac91b0700f37223aa2": {
      "model_module": "@jupyter-widgets/controls",
      "model_module_version": "1.5.0",
      "model_name": "TextModel",
      "state": {
       "description": "Offsets (x,y,z)",
       "layout": "IPY_MODEL_a31bc608236448ecbe3e42c8119eb107",
       "style": "IPY_MODEL_4a662db89da34068a4bad861758d9f9e",
       "value": "0, 0, 0"
      }
     },
     "6831c3e4e9204fed8f4f55efd9f3c8c7": {
      "model_module": "@jupyter-widgets/base",
      "model_module_version": "1.2.0",
      "model_name": "LayoutModel",
      "state": {
       "display": "none",
       "grid_gap": "0px 0px",
       "grid_template_areas": "\n                    'pathlist filename'\n                    'dircontent dircontent'\n                    ",
       "grid_template_columns": "60% 40%",
       "grid_template_rows": "auto auto",
       "width": "500px"
      }
     },
     "6842c45a9a2a4eb6ab4d0af06754516b": {
      "model_module": "@jupyter-widgets/base",
      "model_module_version": "1.2.0",
      "model_name": "LayoutModel",
      "state": {}
     },
     "6886c2ce43d245d6a3f39f4b22014d84": {
      "model_module": "@jupyter-widgets/controls",
      "model_module_version": "1.5.0",
      "model_name": "DescriptionStyleModel",
      "state": {
       "description_width": ""
      }
     },
     "68a17b8a625f4c83b84e3d123f913854": {
      "model_module": "@jupyter-widgets/controls",
      "model_module_version": "1.5.0",
      "model_name": "DescriptionStyleModel",
      "state": {
       "description_width": ""
      }
     },
     "68b6dbe4a3964438b68e807fceeae9b9": {
      "model_module": "@jupyter-widgets/base",
      "model_module_version": "1.2.0",
      "model_name": "LayoutModel",
      "state": {}
     },
     "690fa11f557a4203b5646c31fe3fa03e": {
      "model_module": "@jupyter-widgets/controls",
      "model_module_version": "1.5.0",
      "model_name": "HTMLModel",
      "state": {
       "layout": "IPY_MODEL_0e2f0832677143c888956178cdec8e32",
       "style": "IPY_MODEL_24c1887d106e429da989a23c1fe04ec3"
      }
     },
     "69162551ecbf41a0a79e7e0fb2268498": {
      "model_module": "@jupyter-widgets/controls",
      "model_module_version": "1.5.0",
      "model_name": "DescriptionStyleModel",
      "state": {
       "description_width": ""
      }
     },
     "691a90840063488595ee80db456c18c4": {
      "model_module": "@jupyter-widgets/controls",
      "model_module_version": "1.5.0",
      "model_name": "DescriptionStyleModel",
      "state": {
       "description_width": ""
      }
     },
     "69423ab55aad4ad791c48fc95c12f8d7": {
      "model_module": "@jupyter-widgets/base",
      "model_module_version": "1.2.0",
      "model_name": "LayoutModel",
      "state": {}
     },
     "694d10fa8d564ebd9ed3682f3e0fba95": {
      "model_module": "@jupyter-widgets/controls",
      "model_module_version": "1.5.0",
      "model_name": "DescriptionStyleModel",
      "state": {
       "description_width": "initial"
      }
     },
     "694dd590f1c24899a6e8102f74a56291": {
      "model_module": "@jupyter-widgets/controls",
      "model_module_version": "1.5.0",
      "model_name": "DescriptionStyleModel",
      "state": {
       "description_width": "initial"
      }
     },
     "694f06f5dbbc41cfbbd86e86b11ef14d": {
      "model_module": "@jupyter-widgets/controls",
      "model_module_version": "1.5.0",
      "model_name": "TextModel",
      "state": {
       "disabled": true,
       "layout": "IPY_MODEL_20258cbd098140bfac6d18ff44b9b5a7",
       "placeholder": "output filename",
       "style": "IPY_MODEL_b2608c81d6594e22bfcd4e6a51189199"
      }
     },
     "6974d802fbdc4f11949fb5a168232b20": {
      "model_module": "@jupyter-widgets/controls",
      "model_module_version": "1.5.0",
      "model_name": "DropdownModel",
      "state": {
       "_options_labels": [
        "",
        "--- Channels ---",
        "Airborne_Gxx",
        "Airborne_Gxy",
        "Airborne_Gxz",
        "Airborne_Gyy",
        "Airborne_Gyz",
        "Airborne_Gz",
        "Airborne_Gzz",
        "Airborne_TMI",
        "Ground_Gz",
        "Z"
       ],
       "description": "Channel <=> Data:",
       "index": 9,
       "layout": "IPY_MODEL_878c60b8c3f54ff69e40428dfcf6c08b",
       "style": "IPY_MODEL_07387732eb3e465c93c28d6eeea8acc3"
      }
     },
     "69809c7b22dd4d5cb02056884659212f": {
      "model_module": "@jupyter-widgets/controls",
      "model_module_version": "1.5.0",
      "model_name": "SelectModel",
      "state": {
       "_options_labels": [
        "..",
        "images",
        "base_application.ipynb",
        "calculator.ipynb",
        "clustering.ipynb",
        "contouring.ipynb",
        "coordinate_transformation.ipynb",
        "create_isosurface.ipynb",
        "create_surface.ipynb",
        "data_interpolation.ipynb",
        "edge_detection.ipynb",
        "export.ipynb",
        "geophysical_inversion.ipynb",
        "object_data_selection.ipynb",
        "octree_mesh_creation.png",
        "peak_finder.ipynb",
        "scatter.ipynb",
        "view_selection.ipynb"
       ],
       "index": null,
       "layout": "IPY_MODEL_656a2dc4637c42b184ab153c271cb9e3",
       "rows": 8,
       "style": "IPY_MODEL_0d7aa266399747c4a8a3ae27a3e7034a"
      }
     },
     "69a66e60a4f04184bb2bbf085b2d2e7e": {
      "model_module": "@jupyter-widgets/base",
      "model_module_version": "1.2.0",
      "model_name": "LayoutModel",
      "state": {}
     },
     "69af209e397d41c3b94a5ce203ac8c46": {
      "model_module": "@jupyter-widgets/base",
      "model_module_version": "1.2.0",
      "model_name": "LayoutModel",
      "state": {}
     },
     "69d492a15bb84d288560acbc7567dc10": {
      "model_module": "@jupyter-widgets/base",
      "model_module_version": "1.2.0",
      "model_name": "LayoutModel",
      "state": {}
     },
     "69d7ac0d29a8478e9426d3da57fc88d6": {
      "model_module": "@jupyter-widgets/base",
      "model_module_version": "1.2.0",
      "model_name": "LayoutModel",
      "state": {}
     },
     "69d7e23c47aa4d1d97e7cc2731023db1": {
      "model_module": "@jupyter-widgets/base",
      "model_module_version": "1.2.0",
      "model_name": "LayoutModel",
      "state": {
       "display": "none"
      }
     },
     "69e63d34b2fe49bfa27a1200e16fb9ea": {
      "model_module": "@jupyter-widgets/controls",
      "model_module_version": "1.5.0",
      "model_name": "CheckboxModel",
      "state": {
       "description": "Active",
       "disabled": false,
       "layout": "IPY_MODEL_5d8012f7b96e44159ec4483b258b5131",
       "style": "IPY_MODEL_bc48089926b0428a9aa6ffd81068bdd0",
       "value": false
      }
     },
     "69e67a394482410e97dd0e555570ad91": {
      "model_module": "@jupyter-widgets/controls",
      "model_module_version": "1.5.0",
      "model_name": "DescriptionStyleModel",
      "state": {
       "description_width": "initial"
      }
     },
     "6a5080e020a74aaab9dce319b954aaa3": {
      "model_module": "@jupyter-widgets/controls",
      "model_module_version": "1.5.0",
      "model_name": "ButtonModel",
      "state": {
       "description": "Select",
       "layout": "IPY_MODEL_fe2b1a2f5c144244acac9a5a9fb99216",
       "style": "IPY_MODEL_232ac6ca422d421cba7f2ff75eba9c18"
      }
     },
     "6a8d1e87a6cd4af4a9cab862adb7c402": {
      "model_module": "@jupyter-widgets/controls",
      "model_module_version": "1.5.0",
      "model_name": "ButtonStyleModel",
      "state": {}
     },
     "6a8fc788fb0b408f8f9ac5c99ec530da": {
      "model_module": "@jupyter-widgets/controls",
      "model_module_version": "1.5.0",
      "model_name": "TextModel",
      "state": {
       "description": "Error (%, floor)",
       "layout": "IPY_MODEL_439c7167969341bb9362e7ef11adc9d6",
       "style": "IPY_MODEL_7d58ca074c1a4e7b9922d81c111d83c3",
       "value": "0, 1"
      }
     },
     "6aa8535f36954a22b37c03cccfa04f4e": {
      "model_module": "@jupyter-widgets/base",
      "model_module_version": "1.2.0",
      "model_name": "LayoutModel",
      "state": {}
     },
     "6abab149f31643869be98cdeb72adb2a": {
      "model_module": "@jupyter-widgets/base",
      "model_module_version": "1.2.0",
      "model_name": "LayoutModel",
      "state": {
       "display": "none",
       "width": "auto"
      }
     },
     "6acc39b2306345a58dc6d4f4a8241266": {
      "model_module": "@jupyter-widgets/controls",
      "model_module_version": "1.5.0",
      "model_name": "HBoxModel",
      "state": {
       "children": [
        "IPY_MODEL_a8f89ecdfe494ef194c57da2c624c3e4",
        "IPY_MODEL_9e2b476932d643a6869dd48d91f81fd6",
        "IPY_MODEL_1d03a3dd001e4611b1f24d52bd541555"
       ],
       "layout": "IPY_MODEL_6b43791a87c34a6eb0360b2249b4f7a0"
      }
     },
     "6ace7630d86f4ce8b745a9a4b8ea5ccf": {
      "model_module": "@jupyter-widgets/controls",
      "model_module_version": "1.5.0",
      "model_name": "DescriptionStyleModel",
      "state": {
       "description_width": ""
      }
     },
     "6af84847c2ff4d738152c5c7f3027517": {
      "model_module": "@jupyter-widgets/controls",
      "model_module_version": "1.5.0",
      "model_name": "VBoxModel",
      "state": {
       "children": [
        "IPY_MODEL_a5930b60f92847b0b67e3374550df870",
        "IPY_MODEL_18140c5ebb7d43e198941793142ef070"
       ],
       "layout": "IPY_MODEL_620b652f1729455bb0d5cf546acc3017"
      }
     },
     "6b07d66c96fd4fec8f62ee052bad1e93": {
      "model_module": "@jupyter-widgets/controls",
      "model_module_version": "1.5.0",
      "model_name": "VBoxModel",
      "state": {
       "children": [
        "IPY_MODEL_07ddab06cfd04ae393ac741170763caf",
        "IPY_MODEL_5f45ab26edc34df0a17108d03cb18bbd"
       ],
       "layout": "IPY_MODEL_1862a21c5d864405b7c03b8f1f8a84f0"
      }
     },
     "6b21e6bad4ee46b7add78d667275b37d": {
      "model_module": "@jupyter-widgets/controls",
      "model_module_version": "1.5.0",
      "model_name": "DropdownModel",
      "state": {
       "_options_labels": [
        "tmi",
        "bxx",
        "bxy",
        "bxz",
        "byy",
        "byz",
        "bzz"
       ],
       "index": 0,
       "layout": "IPY_MODEL_dcb72f79e72f4dbfb54393451fb3653b",
       "style": "IPY_MODEL_2636470214064ea4968745db7f97ffda"
      }
     },
     "6b288a11514c40df9cf89b97c5765a51": {
      "model_module": "@jupyter-widgets/base",
      "model_module_version": "1.2.0",
      "model_name": "LayoutModel",
      "state": {}
     },
     "6b2bb85dcdb840d3bfe81f30a63366d9": {
      "model_module": "@jupyter-widgets/base",
      "model_module_version": "1.2.0",
      "model_name": "LayoutModel",
      "state": {}
     },
     "6b4266d76d61489fbf46374a3808a37e": {
      "model_module": "@jupyter-widgets/base",
      "model_module_version": "1.2.0",
      "model_name": "LayoutModel",
      "state": {
       "visibility": "hidden"
      }
     },
     "6b43791a87c34a6eb0360b2249b4f7a0": {
      "model_module": "@jupyter-widgets/base",
      "model_module_version": "1.2.0",
      "model_name": "LayoutModel",
      "state": {
       "width": "auto"
      }
     },
     "6b5fef27ca2442648728322a43627bc9": {
      "model_module": "@jupyter-widgets/controls",
      "model_module_version": "1.5.0",
      "model_name": "ButtonStyleModel",
      "state": {}
     },
     "6b801beab9944b509bf63199ab0268de": {
      "model_module": "@jupyter-widgets/controls",
      "model_module_version": "1.5.0",
      "model_name": "DescriptionStyleModel",
      "state": {
       "description_width": "initial"
      }
     },
     "6b8c4f6539e8490b9777e165bbe3fc7f": {
      "model_module": "@jupyter-widgets/controls",
      "model_module_version": "1.5.0",
      "model_name": "DescriptionStyleModel",
      "state": {
       "description_width": "initial"
      }
     },
     "6ba0a579f8e84ba6a62a752af504413f": {
      "model_module": "@jupyter-widgets/controls",
      "model_module_version": "1.5.0",
      "model_name": "HTMLModel",
      "state": {
       "layout": "IPY_MODEL_494a8d7953034990800bb533ac421b3e",
       "placeholder": "",
       "style": "IPY_MODEL_4b3f539d6dcc4ec7beb103201b28301b",
       "value": "<span style=\"margin-left:10px; color:black;\">No file selected</span>"
      }
     },
     "6ba5bf10230949ea9feb9d4f63d51f1d": {
      "model_module": "@jupyter-widgets/controls",
      "model_module_version": "1.5.0",
      "model_name": "SliderStyleModel",
      "state": {
       "description_width": ""
      }
     },
     "6bae3910cae64dc09b246c89f1579f92": {
      "model_module": "@jupyter-widgets/controls",
      "model_module_version": "1.5.0",
      "model_name": "ButtonStyleModel",
      "state": {}
     },
     "6bc59e0f08a247c7a25bcf12b38f1251": {
      "model_module": "@jupyter-widgets/controls",
      "model_module_version": "1.5.0",
      "model_name": "DescriptionStyleModel",
      "state": {
       "description_width": ""
      }
     },
     "6bc86cb7b8fc4a15bd026daf11187c72": {
      "model_module": "@jupyter-widgets/controls",
      "model_module_version": "1.5.0",
      "model_name": "LabelModel",
      "state": {
       "layout": "IPY_MODEL_25339a54f3204aa4adfb106dc8f5371c",
       "style": "IPY_MODEL_c9f5b9cba2bb40079055dfc483d9c5be",
       "value": "Channels"
      }
     },
     "6bec8c7e7b744fe6a494b2fd457bb046": {
      "model_module": "@jupyter-widgets/base",
      "model_module_version": "1.2.0",
      "model_name": "LayoutModel",
      "state": {}
     },
     "6bf65b880d114b7c945c748ffffbe554": {
      "model_module": "@jupyter-widgets/base",
      "model_module_version": "1.2.0",
      "model_name": "LayoutModel",
      "state": {
       "display": "none",
       "grid_area": "filename",
       "width": "auto"
      }
     },
     "6c22f53f26c94b9a91f687a81292ad32": {
      "model_module": "@jupyter-widgets/base",
      "model_module_version": "1.2.0",
      "model_name": "LayoutModel",
      "state": {}
     },
     "6c7ef487389640f4abc8538222bcb75a": {
      "model_module": "@jupyter-widgets/controls",
      "model_module_version": "1.5.0",
      "model_name": "DescriptionStyleModel",
      "state": {
       "description_width": ""
      }
     },
     "6cb621ff9b14433988b91c2e4bd1c3c8": {
      "model_module": "@jupyter-widgets/controls",
      "model_module_version": "1.5.0",
      "model_name": "HBoxModel",
      "state": {
       "children": [
        "IPY_MODEL_ef933de175494267bb0d1fd6f6527fa1",
        "IPY_MODEL_843203ca8718428a85f7a4f2cf6e0ea7",
        "IPY_MODEL_2c72ad43ff674596b721ebf28192a24b"
       ],
       "layout": "IPY_MODEL_db66b6dd31a1489cb05bcad513cdef21"
      }
     },
     "6cf561d316914f2bb7c946c2ab3b3198": {
      "model_module": "@jupyter-widgets/controls",
      "model_module_version": "1.5.0",
      "model_name": "VBoxModel",
      "state": {
       "children": [
        "IPY_MODEL_fb938f2ab790406c9301200d1cac88db",
        "IPY_MODEL_138f3499fa334eeda7650f5b268aa4bb"
       ],
       "layout": "IPY_MODEL_9b6a786318fd47b3b3c6c4a48a484fe3"
      }
     },
     "6d10731eba784a0eaa424d2f983898b0": {
      "model_module": "@jupyter-widgets/controls",
      "model_module_version": "1.5.0",
      "model_name": "DescriptionStyleModel",
      "state": {
       "description_width": ""
      }
     },
     "6d19934433ee45f4b54682fd1840447b": {
      "model_module": "@jupyter-widgets/controls",
      "model_module_version": "1.5.0",
      "model_name": "HBoxModel",
      "state": {
       "children": [
        "IPY_MODEL_c54014f96c9e43209ab5516717ebace2",
        "IPY_MODEL_78ca1c2b712243a79c42b019e3597e63"
       ],
       "layout": "IPY_MODEL_38cf3cb61f68427584ba1b4d1a223ee7"
      }
     },
     "6d511b50a3e74802b98099361318f01f": {
      "model_module": "@jupyter-widgets/base",
      "model_module_version": "1.2.0",
      "model_name": "LayoutModel",
      "state": {}
     },
     "6d73ff36cb1c4e4f925bfe218c5ae895": {
      "model_module": "@jupyter-widgets/controls",
      "model_module_version": "1.5.0",
      "model_name": "DropdownModel",
      "state": {
       "_options_labels": [
        "",
        "--- Channels ---",
        "Airborne_Gxx",
        "Airborne_Gxy",
        "Airborne_Gxz",
        "Airborne_Gyy",
        "Airborne_Gyz",
        "Airborne_Gz",
        "Airborne_Gzz",
        "Airborne_TMI",
        "Ground_Gz",
        "Z"
       ],
       "description": "Channel <=> Data:",
       "index": 11,
       "layout": "IPY_MODEL_123b345b0bdc4860936752c025207be4",
       "style": "IPY_MODEL_57566e2c2d744cf48aebd9d6f7a4988f"
      }
     },
     "6d8f8f2c03d243b7920cdf3fc74ad7b0": {
      "model_module": "@jupyter-widgets/base",
      "model_module_version": "1.2.0",
      "model_name": "LayoutModel",
      "state": {
       "grid_area": "dircontent",
       "width": "auto"
      }
     },
     "6d95a374b5b6472d822c6f42eaf62d1a": {
      "model_module": "@jupyter-widgets/controls",
      "model_module_version": "1.5.0",
      "model_name": "VBoxModel",
      "state": {
       "children": [
        "IPY_MODEL_d73d0b9bdaf848039356a432a4e5de72",
        "IPY_MODEL_4a197adbfa5141479f8f987d9684f791"
       ],
       "layout": "IPY_MODEL_0ee4a3c8961a457faf763e0bf010ddc2"
      }
     },
     "6dc3cc7bf2f04b66b90181eefe83f0cb": {
      "model_module": "@jupyter-widgets/controls",
      "model_module_version": "1.5.0",
      "model_name": "DescriptionStyleModel",
      "state": {
       "description_width": ""
      }
     },
     "6df4b4712e5a4f6d9be44f5ed32fc3aa": {
      "model_module": "@jupyter-widgets/base",
      "model_module_version": "1.2.0",
      "model_name": "LayoutModel",
      "state": {
       "width": "auto"
      }
     },
     "6dfa5252663f4c379bb31c08492caca1": {
      "model_module": "@jupyter-widgets/controls",
      "model_module_version": "1.5.0",
      "model_name": "DescriptionStyleModel",
      "state": {
       "description_width": ""
      }
     },
     "6e259b99d6644234a15526ab5b0407fc": {
      "model_module": "@jupyter-widgets/base",
      "model_module_version": "1.2.0",
      "model_name": "LayoutModel",
      "state": {}
     },
     "6e3221a3205b400b8e37f03a862675eb": {
      "model_module": "@jupyter-widgets/base",
      "model_module_version": "1.2.0",
      "model_name": "LayoutModel",
      "state": {
       "width": "auto"
      }
     },
     "6e65036a859b49e48d2e7c50d9262a84": {
      "model_module": "@jupyter-widgets/base",
      "model_module_version": "1.2.0",
      "model_name": "LayoutModel",
      "state": {}
     },
     "6e6b8230a52f4ff0bbba135206882e46": {
      "model_module": "@jupyter-widgets/controls",
      "model_module_version": "1.5.0",
      "model_name": "DescriptionStyleModel",
      "state": {
       "description_width": "initial"
      }
     },
     "6e7ededc1e9e4122ba08c57716c1063c": {
      "model_module": "@jupyter-widgets/controls",
      "model_module_version": "1.5.0",
      "model_name": "DescriptionStyleModel",
      "state": {
       "description_width": ""
      }
     },
     "6e9dc587c1f5447bbe7ab7294a3671be": {
      "model_module": "@jupyter-widgets/base",
      "model_module_version": "1.2.0",
      "model_name": "LayoutModel",
      "state": {
       "width": "auto"
      }
     },
     "6ea9c081b7354289aaeb224e774da6cc": {
      "model_module": "@jupyter-widgets/controls",
      "model_module_version": "1.5.0",
      "model_name": "TextModel",
      "state": {
       "description": "Smallest cells",
       "layout": "IPY_MODEL_201dfaf0597b4bbb9f75cb8edbad5fca",
       "style": "IPY_MODEL_b84f80888f634bcfaa5a894a80f1a252",
       "value": "25, 25, 25"
      }
     },
     "6eb0cdefb72d4a9ab4559d4b43f41f3a": {
      "model_module": "@jupyter-widgets/base",
      "model_module_version": "1.2.0",
      "model_name": "LayoutModel",
      "state": {}
     },
     "6eb30f810cf0470d954e75695668040d": {
      "model_module": "@jupyter-widgets/controls",
      "model_module_version": "1.5.0",
      "model_name": "DescriptionStyleModel",
      "state": {
       "description_width": ""
      }
     },
     "6ebfc15e701e46709286fe2a0c404d02": {
      "model_module": "@jupyter-widgets/controls",
      "model_module_version": "1.5.0",
      "model_name": "LabelModel",
      "state": {
       "layout": "IPY_MODEL_c0e847d278934e30bb8cfa19681dd790",
       "style": "IPY_MODEL_2ecd070e5a614bd6a8bf49b69582c30d",
       "value": "Workspace"
      }
     },
     "6ec412d098a24e2db4525cda5f67d869": {
      "model_module": "@jupyter-widgets/base",
      "model_module_version": "1.2.0",
      "model_name": "LayoutModel",
      "state": {}
     },
     "6ed820c41ecc4d258fb60217947d842d": {
      "model_module": "@jupyter-widgets/controls",
      "model_module_version": "1.5.0",
      "model_name": "DescriptionStyleModel",
      "state": {
       "description_width": ""
      }
     },
     "6f0d027cf0fb4e24acbb2e7240224f09": {
      "model_module": "@jupyter-widgets/base",
      "model_module_version": "1.2.0",
      "model_name": "LayoutModel",
      "state": {}
     },
     "6f45a0c24ab4485ca1435e70950ad63a": {
      "model_module": "@jupyter-widgets/controls",
      "model_module_version": "1.5.0",
      "model_name": "ButtonModel",
      "state": {
       "description": "Cancel",
       "layout": "IPY_MODEL_e3a01f1dce55488099dc1a5ee59ff3a7",
       "style": "IPY_MODEL_f26a3c02aa104687babe49733fb3fc96"
      }
     },
     "6f6abafc03bd47d7898fdabac69ea623": {
      "model_module": "@jupyter-widgets/base",
      "model_module_version": "1.2.0",
      "model_name": "LayoutModel",
      "state": {}
     },
     "6f812a5121cf486d83f2e76ccb22e82d": {
      "model_module": "@jupyter-widgets/base",
      "model_module_version": "1.2.0",
      "model_name": "LayoutModel",
      "state": {}
     },
     "6f8adf65bd82452a8bed842bb0728148": {
      "model_module": "@jupyter-widgets/controls",
      "model_module_version": "1.5.0",
      "model_name": "DropdownModel",
      "state": {
       "_options_labels": [
        "C:\\Users\\dominiquef\\Documents\\GIT\\mira\\mirageoscience-apps\\docs\\content\\applications",
        "C:\\Users\\dominiquef\\Documents\\GIT\\mira\\mirageoscience-apps\\docs\\content",
        "C:\\Users\\dominiquef\\Documents\\GIT\\mira\\mirageoscience-apps\\docs",
        "C:\\Users\\dominiquef\\Documents\\GIT\\mira\\mirageoscience-apps",
        "C:\\Users\\dominiquef\\Documents\\GIT\\mira",
        "C:\\Users\\dominiquef\\Documents\\GIT",
        "C:\\Users\\dominiquef\\Documents",
        "C:\\Users\\dominiquef",
        "C:\\Users",
        "C:\\",
        "D:\\",
        "Z:\\"
       ],
       "index": 0,
       "layout": "IPY_MODEL_32e64f003fd448aa90c98b97d33bb6dc",
       "style": "IPY_MODEL_d41172cc6c4c4b63805ef7e3cd2d4a5e"
      }
     },
     "6fa741a0d68645a9bc12679a9554e885": {
      "model_module": "@jupyter-widgets/controls",
      "model_module_version": "1.5.0",
      "model_name": "ButtonStyleModel",
      "state": {}
     },
     "7010ae17a54f4337a531307d5e607233": {
      "model_module": "@jupyter-widgets/controls",
      "model_module_version": "1.5.0",
      "model_name": "SliderStyleModel",
      "state": {
       "description_width": "initial"
      }
     },
     "70684f5cd3364bc9bd80b1a5626ed97c": {
      "model_module": "@jupyter-widgets/controls",
      "model_module_version": "1.5.0",
      "model_name": "DescriptionStyleModel",
      "state": {
       "description_width": "initial"
      }
     },
     "7073cf95167d49e0a5fa4459683cccce": {
      "model_module": "@jupyter-widgets/controls",
      "model_module_version": "1.5.0",
      "model_name": "VBoxModel",
      "state": {
       "children": [
        "IPY_MODEL_3906a9a5f00a4cedada22e65bdeba2b3",
        "IPY_MODEL_e200a0d0d2ae4f9bb3bc45304c7edcbc"
       ],
       "layout": "IPY_MODEL_62f5bedf403b453ba4c93df2e5058e79"
      }
     },
     "7087c324a4644466ae46c49466e72996": {
      "model_module": "@jupyter-widgets/base",
      "model_module_version": "1.2.0",
      "model_name": "LayoutModel",
      "state": {
       "display": "none"
      }
     },
     "708e7227feb54bf8acf3043e583f334e": {
      "model_module": "@jupyter-widgets/base",
      "model_module_version": "1.2.0",
      "model_name": "LayoutModel",
      "state": {}
     },
     "7090c3d702944505ad9588a76c9579a1": {
      "model_module": "@jupyter-widgets/base",
      "model_module_version": "1.2.0",
      "model_name": "LayoutModel",
      "state": {}
     },
     "709495c3a3c44b23b310b6bc027853b1": {
      "model_module": "@jupyter-widgets/controls",
      "model_module_version": "1.5.0",
      "model_name": "DescriptionStyleModel",
      "state": {
       "description_width": ""
      }
     },
     "70987a5be18646b9a606695325c9bce0": {
      "model_module": "@jupyter-widgets/controls",
      "model_module_version": "1.5.0",
      "model_name": "TextModel",
      "state": {
       "layout": "IPY_MODEL_d98534fba9124b179085c92b256f0955",
       "placeholder": "output filename",
       "style": "IPY_MODEL_9c7e5a6461c94bfcaddf2c51637e5b41"
      }
     },
     "7099bf9f4ae9431b86f15f91461daad6": {
      "model_module": "@jupyter-widgets/controls",
      "model_module_version": "1.5.0",
      "model_name": "VBoxModel",
      "state": {
       "children": [
        "IPY_MODEL_67a44d1e420a4b7488bb6f9df955cfd3",
        "IPY_MODEL_d06ba5662ddf416a945fc22f836bf3d4"
       ],
       "layout": "IPY_MODEL_0f9915acef0f4579ab7f0383e847da94"
      }
     },
     "709a2fd756cd44308a98fb7b1448b240": {
      "model_module": "@jupyter-widgets/controls",
      "model_module_version": "1.5.0",
      "model_name": "ButtonStyleModel",
      "state": {}
     },
     "70b43defd4c34e7ca45ab68b5bd34be9": {
      "model_module": "@jupyter-widgets/controls",
      "model_module_version": "1.5.0",
      "model_name": "DescriptionStyleModel",
      "state": {
       "description_width": "initial"
      }
     },
     "70b5bf072f7f44ce859f0bb34c19b9fb": {
      "model_module": "@jupyter-widgets/controls",
      "model_module_version": "1.5.0",
      "model_name": "FloatTextModel",
      "state": {
       "description": "Expansion factor:",
       "layout": "IPY_MODEL_7aa9260178174e03bbfe201a763bbf06",
       "step": null,
       "style": "IPY_MODEL_c17aff5dd6cf492d8d9883f0b8872a36",
       "value": 1.05
      }
     },
     "70d94065457b496ea2b5b0c78a139d7c": {
      "model_module": "@jupyter-widgets/controls",
      "model_module_version": "1.5.0",
      "model_name": "DescriptionStyleModel",
      "state": {
       "description_width": ""
      }
     },
     "70ef1db6e6ec42cd9b12631e82ebe199": {
      "model_module": "@jupyter-widgets/base",
      "model_module_version": "1.2.0",
      "model_name": "LayoutModel",
      "state": {
       "display": "none",
       "width": "auto"
      }
     },
     "7104422c5d594caba914b20d743516ad": {
      "model_module": "@jupyter-widgets/controls",
      "model_module_version": "1.5.0",
      "model_name": "VBoxModel",
      "state": {
       "children": [
        "IPY_MODEL_0dd391d7717d49d0a1b5c2aacd488d21",
        "IPY_MODEL_bb0dfcbdb94048bbadeec42292e1f5f5",
        "IPY_MODEL_d4c7085dc3614bf8af0290e4993aa13a"
       ],
       "layout": "IPY_MODEL_767b42f97a9a4beab33fcecbd8d9cd32"
      }
     },
     "710e9dca18684d9a9bf0b0f64ca36806": {
      "model_module": "@jupyter-widgets/base",
      "model_module_version": "1.2.0",
      "model_name": "LayoutModel",
      "state": {}
     },
     "7118f225048d4167894ab3146ad87e0d": {
      "model_module": "@jupyter-widgets/controls",
      "model_module_version": "1.5.0",
      "model_name": "DescriptionStyleModel",
      "state": {
       "description_width": "initial"
      }
     },
     "7121de44556c4cc2b9d8f6d5de821e23": {
      "model_module": "@jupyter-widgets/controls",
      "model_module_version": "1.5.0",
      "model_name": "DescriptionStyleModel",
      "state": {
       "description_width": ""
      }
     },
     "717d7c5c79f844488f266819c2adbe1a": {
      "model_module": "@jupyter-widgets/controls",
      "model_module_version": "1.5.0",
      "model_name": "VBoxModel",
      "state": {
       "children": [
        "IPY_MODEL_1a3268f418c24c8ebbf0ec8a66e95921",
        "IPY_MODEL_f3f1726511bd4497b901934c9244dbd5"
       ],
       "layout": "IPY_MODEL_10b1f4463fe94ffead159e08255ff991"
      }
     },
     "71877785713f43fe8ff37eee65753ac0": {
      "model_module": "@jupyter-widgets/base",
      "model_module_version": "1.2.0",
      "model_name": "LayoutModel",
      "state": {}
     },
     "71c7f0121c4a4d2bb865dfb370faf402": {
      "model_module": "@jupyter-widgets/controls",
      "model_module_version": "1.5.0",
      "model_name": "DescriptionStyleModel",
      "state": {
       "description_width": ""
      }
     },
     "71ceed7d7e5f4faeb85216976ea6c7a5": {
      "model_module": "@jupyter-widgets/controls",
      "model_module_version": "1.5.0",
      "model_name": "LabelModel",
      "state": {
       "layout": "IPY_MODEL_a41687e1089e4be2b09dc26883b0a54f",
       "style": "IPY_MODEL_d7fbbcc615574cdeb780b7561a040ca9",
       "value": "Workspace"
      }
     },
     "71e3371569054239ba0c1276d7e41f9f": {
      "model_module": "@jupyter-widgets/controls",
      "model_module_version": "1.5.0",
      "model_name": "VBoxModel",
      "state": {
       "children": [
        "IPY_MODEL_f14d2b1c60c649d8945eabcd498a97d8",
        "IPY_MODEL_93f0efa0097542eca038c3c23020875c"
       ],
       "layout": "IPY_MODEL_dec1b63bcc4544ed82a8e46392520152"
      }
     },
     "71f1cd0f334148a9a59c61df708563ee": {
      "model_module": "@jupyter-widgets/base",
      "model_module_version": "1.2.0",
      "model_name": "LayoutModel",
      "state": {}
     },
     "72130e301ee347c98ab3e5d38de25e7a": {
      "model_module": "@jupyter-widgets/controls",
      "model_module_version": "1.5.0",
      "model_name": "DescriptionStyleModel",
      "state": {
       "description_width": ""
      }
     },
     "7239b31774394240958a7ce23d299d1f": {
      "model_module": "@jupyter-widgets/controls",
      "model_module_version": "1.5.0",
      "model_name": "VBoxModel",
      "state": {
       "children": [
        "IPY_MODEL_5cc0a34130a141719a9dc1e22efded3b",
        "IPY_MODEL_02f0a09757054181b3d65f3738a068e5"
       ],
       "layout": "IPY_MODEL_ada611f729d5482ab23ffcc4b2910fc7"
      }
     },
     "723e63622801464aaa3ff333d05f7706": {
      "model_module": "@jupyter-widgets/controls",
      "model_module_version": "1.5.0",
      "model_name": "DescriptionStyleModel",
      "state": {
       "description_width": ""
      }
     },
     "7266e931945d4edc927c8343b9262427": {
      "model_module": "@jupyter-widgets/base",
      "model_module_version": "1.2.0",
      "model_name": "LayoutModel",
      "state": {
       "grid_area": "dircontent",
       "width": "auto"
      }
     },
     "728567e4bd0648229d7d664f29f12ddb": {
      "model_module": "@jupyter-widgets/base",
      "model_module_version": "1.2.0",
      "model_name": "LayoutModel",
      "state": {}
     },
     "7291bbde0f2d405b87b1fd7e5ed0e6d7": {
      "model_module": "@jupyter-widgets/controls",
      "model_module_version": "1.5.0",
      "model_name": "ToggleButtonModel",
      "state": {
       "layout": "IPY_MODEL_83d117af2e6d43a39f50139120c7ddf0",
       "style": "IPY_MODEL_d6a86223656a42bca7ecea85aa6d3d8e",
       "value": true
      }
     },
     "729d89e7e783436aae2b7be8c321add4": {
      "model_module": "@jupyter-widgets/controls",
      "model_module_version": "1.5.0",
      "model_name": "ButtonModel",
      "state": {
       "description": "Create copy:",
       "layout": "IPY_MODEL_519e66bd8f5d407898e3c5af9e826908",
       "style": "IPY_MODEL_9602ba97346f40949c83db04c829a2ae"
      }
     },
     "72ae1682dddc461a9f60edd65c3ef2d2": {
      "model_module": "@jupyter-widgets/base",
      "model_module_version": "1.2.0",
      "model_name": "LayoutModel",
      "state": {}
     },
     "72cc9a1b76cf47109d8bb44e10ffd034": {
      "model_module": "@jupyter-widgets/controls",
      "model_module_version": "1.5.0",
      "model_name": "HTMLModel",
      "state": {
       "layout": "IPY_MODEL_f581b74ad9944ef6b9326fe8ea825328",
       "style": "IPY_MODEL_188d46ea3b1248569247b813b0d13fe1"
      }
     },
     "73077abb08f7402a89ebf4bbd16c2d74": {
      "model_module": "@jupyter-widgets/controls",
      "model_module_version": "1.5.0",
      "model_name": "DescriptionStyleModel",
      "state": {
       "description_width": ""
      }
     },
     "733fb55c8e814f25b56a8c55832d01ec": {
      "model_module": "@jupyter-widgets/controls",
      "model_module_version": "1.5.0",
      "model_name": "DescriptionStyleModel",
      "state": {
       "description_width": "initial"
      }
     },
     "7359166fd0124861a9a07fe512215243": {
      "model_module": "@jupyter-widgets/controls",
      "model_module_version": "1.5.0",
      "model_name": "HTMLModel",
      "state": {
       "layout": "IPY_MODEL_8be2194c0c0f410ca0bc47ce69b3c915",
       "style": "IPY_MODEL_3cdb10f80c314e2b9a0bcf314f9da291"
      }
     },
     "7373112081784e4e8f65e8d9bfb7089c": {
      "model_module": "@jupyter-widgets/base",
      "model_module_version": "1.2.0",
      "model_name": "LayoutModel",
      "state": {}
     },
     "737e4b3a961e47db8a0443b9f1bd4a89": {
      "model_module": "@jupyter-widgets/controls",
      "model_module_version": "1.5.0",
      "model_name": "DropdownModel",
      "state": {
       "description": "Values",
       "index": null,
       "layout": "IPY_MODEL_5650619ed9794f0daaaffbacec45e711",
       "style": "IPY_MODEL_e52a2b883d474930a1f987cf5ec3722d"
      }
     },
     "738bc12900124acf958ed6ef240146b9": {
      "model_module": "@jupyter-widgets/controls",
      "model_module_version": "1.5.0",
      "model_name": "SliderStyleModel",
      "state": {
       "description_width": "initial"
      }
     },
     "73c9ece9ffeb4c888f807dacbdf8aa7f": {
      "model_module": "@jupyter-widgets/controls",
      "model_module_version": "1.5.0",
      "model_name": "ButtonStyleModel",
      "state": {}
     },
     "73e2f276c6044efc85942dddeafd72bd": {
      "model_module": "@jupyter-widgets/base",
      "model_module_version": "1.2.0",
      "model_name": "LayoutModel",
      "state": {
       "grid_area": "filename",
       "width": "auto"
      }
     },
     "73e6e12e04334a42892ee7cb04195998": {
      "model_module": "@jupyter-widgets/base",
      "model_module_version": "1.2.0",
      "model_name": "LayoutModel",
      "state": {
       "display": "none",
       "width": "auto"
      }
     },
     "7415343dd38243ba8313193250047641": {
      "model_module": "@jupyter-widgets/controls",
      "model_module_version": "1.5.0",
      "model_name": "ToggleButtonModel",
      "state": {
       "button_style": "warning",
       "description": "Write input",
       "icon": "check",
       "layout": "IPY_MODEL_7649c6fb9bd14676b7fb627348d38527",
       "style": "IPY_MODEL_fc717cb4fad14675b0ce0bd3911acc39"
      }
     },
     "744a0d84c2a949c19dc3a566543e8b56": {
      "model_module": "@jupyter-widgets/base",
      "model_module_version": "1.2.0",
      "model_name": "LayoutModel",
      "state": {}
     },
     "7471a8ccc223466388ca192f98ceacde": {
      "model_module": "@jupyter-widgets/base",
      "model_module_version": "1.2.0",
      "model_name": "LayoutModel",
      "state": {
       "grid_area": "filename",
       "width": "auto"
      }
     },
     "74b0431d9d96450689c45c1778bbee1a": {
      "model_module": "@jupyter-widgets/controls",
      "model_module_version": "1.5.0",
      "model_name": "DescriptionStyleModel",
      "state": {
       "description_width": "initial"
      }
     },
     "74c52dddf2254e9ca1731ee22981a0d4": {
      "model_module": "@jupyter-widgets/controls",
      "model_module_version": "1.5.0",
      "model_name": "DescriptionStyleModel",
      "state": {
       "description_width": "initial"
      }
     },
     "74e35c03e90e462cafd8ad99b75b3ec0": {
      "model_module": "@jupyter-widgets/controls",
      "model_module_version": "1.5.0",
      "model_name": "DescriptionStyleModel",
      "state": {
       "description_width": ""
      }
     },
     "74eb5cfa32cc420e9cbb6b8244db5428": {
      "model_module": "@jupyter-widgets/base",
      "model_module_version": "1.2.0",
      "model_name": "LayoutModel",
      "state": {}
     },
     "750194b522b74d279525bfa90a299b82": {
      "model_module": "@jupyter-widgets/controls",
      "model_module_version": "1.5.0",
      "model_name": "DescriptionStyleModel",
      "state": {
       "description_width": ""
      }
     },
     "751019cf026449b48f0eef285263768e": {
      "model_module": "@jupyter-widgets/base",
      "model_module_version": "1.2.0",
      "model_name": "LayoutModel",
      "state": {}
     },
     "7512eaaabc284bb8a1c661df4630036e": {
      "model_module": "@jupyter-widgets/controls",
      "model_module_version": "1.5.0",
      "model_name": "VBoxModel",
      "state": {
       "children": [
        "IPY_MODEL_adc1772e144b44608fcf1c8262bf5371",
        "IPY_MODEL_2c94433243ef4e1ba40007db3a85330b"
       ],
       "layout": "IPY_MODEL_86bc0f8769bc4cde93d28a5b5d05a6c7"
      }
     },
     "7549aa53a5d846509544896af1eff7c6": {
      "model_module": "@jupyter-widgets/controls",
      "model_module_version": "1.5.0",
      "model_name": "GridBoxModel",
      "state": {
       "children": [
        "IPY_MODEL_0eb77d9e15fb467f86c5a4123ae11344",
        "IPY_MODEL_55200f7bfd0b4bb7b5a02ea2d385dddf",
        "IPY_MODEL_9ad02c4c0a7a47ca93e903666d17302c"
       ],
       "layout": "IPY_MODEL_012570c145464280adffdd97750175c6"
      }
     },
     "75553ef1f16b41a69fa7afd521da9e69": {
      "model_module": "@jupyter-widgets/controls",
      "model_module_version": "1.5.0",
      "model_name": "DescriptionStyleModel",
      "state": {
       "description_width": ""
      }
     },
     "755b5386698e47ddbd16f7641bf1a106": {
      "model_module": "@jupyter-widgets/base",
      "model_module_version": "1.2.0",
      "model_name": "LayoutModel",
      "state": {
       "grid_area": "dircontent",
       "width": "auto"
      }
     },
     "756f27603a6d4ecb9c841947e701b156": {
      "model_module": "@jupyter-widgets/controls",
      "model_module_version": "1.5.0",
      "model_name": "TextModel",
      "state": {
       "description": "Offsets (x,y,z)",
       "layout": "IPY_MODEL_20b571e8d12143abbe7124087f08a5d2",
       "style": "IPY_MODEL_8fa5f031f58c44e5a93e9e168089aae5",
       "value": "0, 0, 0"
      }
     },
     "757f687f402f4206b1de393c12b3f69b": {
      "model_module": "@jupyter-widgets/base",
      "model_module_version": "1.2.0",
      "model_name": "LayoutModel",
      "state": {}
     },
     "75c1eb1b2ea7473683851fb3c4a536d1": {
      "model_module": "@jupyter-widgets/controls",
      "model_module_version": "1.5.0",
      "model_name": "DescriptionStyleModel",
      "state": {
       "description_width": "initial"
      }
     },
     "75e9ff7842e748e595cd45550941e16a": {
      "model_module": "@jupyter-widgets/controls",
      "model_module_version": "1.5.0",
      "model_name": "FloatTextModel",
      "state": {
       "description": "Vertical offset (+ve up)",
       "layout": "IPY_MODEL_17f140d5ad444a8e8454b110c525988e",
       "step": null,
       "style": "IPY_MODEL_f4275fe7cafd4de48feac1d37fefd4b0"
      }
     },
     "75ee7c14ee174524bbe38f906e6f2fe5": {
      "model_module": "@jupyter-widgets/controls",
      "model_module_version": "1.5.0",
      "model_name": "DescriptionStyleModel",
      "state": {
       "description_width": ""
      }
     },
     "760d0c34618d46de8bdc5fab1e1218b4": {
      "model_module": "@jupyter-widgets/base",
      "model_module_version": "1.2.0",
      "model_name": "LayoutModel",
      "state": {
       "display": "none",
       "grid_gap": "0px 0px",
       "grid_template_areas": "\n                    'pathlist pathlist'\n                    'dircontent dircontent'\n                    ",
       "grid_template_columns": "60% 40%",
       "grid_template_rows": "auto auto",
       "width": "500px"
      }
     },
     "762a17bc5d7a48b7acc4b110a482e552": {
      "model_module": "@jupyter-widgets/base",
      "model_module_version": "1.2.0",
      "model_name": "LayoutModel",
      "state": {}
     },
     "76458853439a4b97bd4b6125eb9e01c0": {
      "model_module": "@jupyter-widgets/controls",
      "model_module_version": "1.5.0",
      "model_name": "DropdownModel",
      "state": {
       "_options_labels": [
        "C:\\Users\\dominiquef\\Documents\\GIT\\RichardScottOZ\\geoapps\\assets",
        "C:\\Users\\dominiquef\\Documents\\GIT\\RichardScottOZ\\geoapps",
        "C:\\Users\\dominiquef\\Documents\\GIT\\RichardScottOZ",
        "C:\\Users\\dominiquef\\Documents\\GIT",
        "C:\\Users\\dominiquef\\Documents",
        "C:\\Users\\dominiquef",
        "C:\\Users",
        "C:\\",
        "D:\\",
        "Z:\\"
       ],
       "index": 0,
       "layout": "IPY_MODEL_501fdcbe13824145acf36dfa58c47f00",
       "style": "IPY_MODEL_cd9d51d406734779979bf877d3b3eaf0"
      }
     },
     "7649c6fb9bd14676b7fb627348d38527": {
      "model_module": "@jupyter-widgets/base",
      "model_module_version": "1.2.0",
      "model_name": "LayoutModel",
      "state": {}
     },
     "765180ec0104441d91cfaa40382cf37a": {
      "model_module": "@jupyter-widgets/base",
      "model_module_version": "1.2.0",
      "model_name": "LayoutModel",
      "state": {}
     },
     "767b42f97a9a4beab33fcecbd8d9cd32": {
      "model_module": "@jupyter-widgets/base",
      "model_module_version": "1.2.0",
      "model_name": "LayoutModel",
      "state": {
       "width": "auto"
      }
     },
     "768ca00c54274c8b8f863189ec8f3456": {
      "model_module": "@jupyter-widgets/base",
      "model_module_version": "1.2.0",
      "model_name": "LayoutModel",
      "state": {}
     },
     "76933c15e1b14798b422e9fdf4a19466": {
      "model_module": "@jupyter-widgets/base",
      "model_module_version": "1.2.0",
      "model_name": "LayoutModel",
      "state": {
       "width": "auto"
      }
     },
     "76a9d56a65994a7bb35ce882fc24fd3b": {
      "model_module": "@jupyter-widgets/base",
      "model_module_version": "1.2.0",
      "model_name": "LayoutModel",
      "state": {
       "width": "auto"
      }
     },
     "76df669d1ad54f5083c15a06ba545ba1": {
      "model_module": "@jupyter-widgets/base",
      "model_module_version": "1.2.0",
      "model_name": "LayoutModel",
      "state": {}
     },
     "76df71aeb88c46a38241fb675e147422": {
      "model_module": "@jupyter-widgets/base",
      "model_module_version": "1.2.0",
      "model_name": "LayoutModel",
      "state": {}
     },
     "770d908c97834b649f0478223ccb703d": {
      "model_module": "@jupyter-widgets/controls",
      "model_module_version": "1.5.0",
      "model_name": "GridBoxModel",
      "state": {
       "children": [
        "IPY_MODEL_371812bf457a498aa3dbc4e6ead013db",
        "IPY_MODEL_c83c346dbcd240b68a3c8c7089c8914d",
        "IPY_MODEL_94a6e31eaa8349f1b1ee06b250b32e3d"
       ],
       "layout": "IPY_MODEL_e9cc8dbb75834eb3a7776a23aac9a4ab"
      }
     },
     "77117768da36416cb41649413eceb55e": {
      "model_module": "@jupyter-widgets/controls",
      "model_module_version": "1.5.0",
      "model_name": "ButtonModel",
      "state": {
       "description": "Change",
       "layout": "IPY_MODEL_cb657a3494644017880a4034032b29f6",
       "style": "IPY_MODEL_ee0149286c4f4f41a57eb635da80f29c"
      }
     },
     "777d13992a6c4d9db31a0d3860b37576": {
      "model_module": "@jupyter-widgets/base",
      "model_module_version": "1.2.0",
      "model_name": "LayoutModel",
      "state": {
       "width": "auto"
      }
     },
     "777ff6b0184a4bbebaa836c679607d6b": {
      "model_module": "@jupyter-widgets/controls",
      "model_module_version": "1.5.0",
      "model_name": "DescriptionStyleModel",
      "state": {
       "description_width": ""
      }
     },
     "77842088849e4f89b3b10b92f8e24540": {
      "model_module": "@jupyter-widgets/controls",
      "model_module_version": "1.5.0",
      "model_name": "HTMLModel",
      "state": {
       "layout": "IPY_MODEL_f8b7583e1c64494c87db491010176696",
       "placeholder": "",
       "style": "IPY_MODEL_f16d45f9cc0b4213bebe83879dbef7fb",
       "value": "<span style=\"margin-left:10px; color:black;\">No file selected</span>"
      }
     },
     "77d04e514d54493c97927fbd46947f3c": {
      "model_module": "@jupyter-widgets/controls",
      "model_module_version": "1.5.0",
      "model_name": "SelectModel",
      "state": {
       "_options_labels": [
        "..",
        "dask-worker-space",
        "images"
       ],
       "index": null,
       "layout": "IPY_MODEL_6d8f8f2c03d243b7920cdf3fc74ad7b0",
       "rows": 8,
       "style": "IPY_MODEL_8c101b05a4684bbead61e3b187da66fe"
      }
     },
     "78136a5009c147f392dfc0f12c8c02ac": {
      "model_module": "@jupyter-widgets/base",
      "model_module_version": "1.2.0",
      "model_name": "LayoutModel",
      "state": {
       "visibility": "hidden"
      }
     },
     "7834dddae78441bfa1c7281d76438c47": {
      "model_module": "@jupyter-widgets/base",
      "model_module_version": "1.2.0",
      "model_name": "LayoutModel",
      "state": {
       "display": "none",
       "width": "auto"
      }
     },
     "784a2b5e7186406f90026a8f271e37e4": {
      "model_module": "@jupyter-widgets/controls",
      "model_module_version": "1.5.0",
      "model_name": "DescriptionStyleModel",
      "state": {
       "description_width": ""
      }
     },
     "78694fd00de0406ea3865806563e1757": {
      "model_module": "@jupyter-widgets/base",
      "model_module_version": "1.2.0",
      "model_name": "LayoutModel",
      "state": {}
     },
     "788b8823e10446cf9fe1e5a1d5739dbf": {
      "model_module": "@jupyter-widgets/controls",
      "model_module_version": "1.5.0",
      "model_name": "DescriptionStyleModel",
      "state": {
       "description_width": "initial"
      }
     },
     "78b3855f50a94cc1905e4e5c1de50acd": {
      "model_module": "@jupyter-widgets/controls",
      "model_module_version": "1.5.0",
      "model_name": "TextModel",
      "state": {
       "description": "Lower bound value",
       "layout": "IPY_MODEL_7f0002d01470497d8fc5e21b9f20f2c9",
       "style": "IPY_MODEL_8441556356964350ad01a417e84288cd"
      }
     },
     "78c11272274249b186199e945bf875e5": {
      "model_module": "@jupyter-widgets/controls",
      "model_module_version": "1.5.0",
      "model_name": "DescriptionStyleModel",
      "state": {
       "description_width": ""
      }
     },
     "78ca1c2b712243a79c42b019e3597e63": {
      "model_module": "@jupyter-widgets/controls",
      "model_module_version": "1.5.0",
      "model_name": "ButtonModel",
      "state": {
       "description": "Create copy:",
       "layout": "IPY_MODEL_13f729e9c8dc4f48907b35d049859c39",
       "style": "IPY_MODEL_16b2370afaa54799b9b14a32cd0f02e1"
      }
     },
     "78d1b12f09b94e40adcae6b679b7e5c9": {
      "model_module": "@jupyter-widgets/base",
      "model_module_version": "1.2.0",
      "model_name": "LayoutModel",
      "state": {
       "grid_area": "filename",
       "width": "auto"
      }
     },
     "78d8472dcbb34474b602011c4c64febf": {
      "model_module": "@jupyter-widgets/base",
      "model_module_version": "1.2.0",
      "model_name": "LayoutModel",
      "state": {
       "display": "none",
       "width": "auto"
      }
     },
     "78e064d87dfd4b988f193a468c95cca8": {
      "model_module": "@jupyter-widgets/controls",
      "model_module_version": "1.5.0",
      "model_name": "VBoxModel",
      "state": {
       "children": [
        "IPY_MODEL_0f360a7e6b924352af55417f7b3755dc",
        "IPY_MODEL_21967e9e947e4fd8bb2a6c24423e4f09"
       ],
       "layout": "IPY_MODEL_fe978b1f72bf4a5bbc84b907d67d6c1d"
      }
     },
     "791a8122a8d14aac863ae6caca081086": {
      "model_module": "@jupyter-widgets/controls",
      "model_module_version": "1.5.0",
      "model_name": "FloatSliderModel",
      "state": {
       "continuous_update": false,
       "description": "Northing",
       "layout": "IPY_MODEL_12b3c1649c214c2aaae39fd3779cd999",
       "max": 6076443.652111261,
       "min": 6065091.787108775,
       "orientation": "vertical",
       "step": 10,
       "style": "IPY_MODEL_ec2873b9ae5c41248cb604202d0c0a33",
       "value": 6072200
      }
     },
     "793606d415fd495581657c27d8d950d0": {
      "model_module": "@jupyter-widgets/base",
      "model_module_version": "1.2.0",
      "model_name": "LayoutModel",
      "state": {}
     },
     "794610df59634d7192654d7ce882dcbd": {
      "model_module": "@jupyter-widgets/base",
      "model_module_version": "1.2.0",
      "model_name": "LayoutModel",
      "state": {}
     },
     "7951d54945be4b17bf9dee70e95efdd7": {
      "model_module": "@jupyter-widgets/controls",
      "model_module_version": "1.5.0",
      "model_name": "TextModel",
      "state": {
       "continuous_update": false,
       "description": "Contours",
       "layout": "IPY_MODEL_aaa262035ef847fc80bcaaeed7cd6ce0",
       "style": "IPY_MODEL_9cd901c18dda45dba5d5449127e8891c"
      }
     },
     "79745843cffd455d8ef570806147f26c": {
      "model_module": "@jupyter-widgets/base",
      "model_module_version": "1.2.0",
      "model_name": "LayoutModel",
      "state": {
       "display": "none",
       "width": "auto"
      }
     },
     "79760e792e074e4b8ea0f56c2fa717dc": {
      "model_module": "@jupyter-widgets/controls",
      "model_module_version": "1.5.0",
      "model_name": "GridBoxModel",
      "state": {
       "children": [
        "IPY_MODEL_045af89d31db42a390c7217cf4f3c483",
        "IPY_MODEL_dc68b6d8c825414db55c03479a53fb4c",
        "IPY_MODEL_69809c7b22dd4d5cb02056884659212f"
       ],
       "layout": "IPY_MODEL_adc07d4ce272438db364719680160651"
      }
     },
     "79ac4aca888e489ea9e92e790b6bd8b7": {
      "model_module": "@jupyter-widgets/base",
      "model_module_version": "1.2.0",
      "model_name": "LayoutModel",
      "state": {}
     },
     "79c5536aad584425b2cd1bcc47dc02bc": {
      "model_module": "@jupyter-widgets/controls",
      "model_module_version": "1.5.0",
      "model_name": "ButtonModel",
      "state": {
       "description": "Select",
       "layout": "IPY_MODEL_b838d3fc46134772b95fefccc1be3d66",
       "style": "IPY_MODEL_dde8ecda5b1e4e10bbf680fde825b6a4"
      }
     },
     "79f445dd7d3b44309e331219a4083728": {
      "model_module": "@jupyter-widgets/controls",
      "model_module_version": "1.5.0",
      "model_name": "DescriptionStyleModel",
      "state": {
       "description_width": ""
      }
     },
     "79fb6e99275642d88a9e8beb36dbbc40": {
      "model_module": "@jupyter-widgets/base",
      "model_module_version": "1.2.0",
      "model_name": "LayoutModel",
      "state": {}
     },
     "79fbfd310aa948b8af7d975e67299070": {
      "model_module": "@jupyter-widgets/controls",
      "model_module_version": "1.5.0",
      "model_name": "ButtonModel",
      "state": {
       "description": "Create copy:",
       "layout": "IPY_MODEL_bae38a0705c04c91b11b093dc396813e",
       "style": "IPY_MODEL_dad0d50bef0d4121aff3f8fcbecae8da"
      }
     },
     "7a0169ef6996451ba1bcaacceb99efff": {
      "model_module": "@jupyter-widgets/controls",
      "model_module_version": "1.5.0",
      "model_name": "LabelModel",
      "state": {
       "layout": "IPY_MODEL_261e8706b4174d66853c5acd94fadbe2",
       "style": "IPY_MODEL_22997b38b6fd48068cbe47811ce4aabb",
       "value": "Reference effective susceptibility"
      }
     },
     "7a1cf99298444523adcac5f4b0ebe03d": {
      "model_module": "@jupyter-widgets/controls",
      "model_module_version": "1.5.0",
      "model_name": "ToggleButtonModel",
      "state": {
       "button_style": "warning",
       "description": "Write input",
       "icon": "check",
       "layout": "IPY_MODEL_f525df926d224bceb60494de234fd0d9",
       "style": "IPY_MODEL_dccc117b49bf4700bcdfa290d7555272"
      }
     },
     "7a33bbbef35f4afdb9b004af534e5051": {
      "model_module": "@jupyter-widgets/controls",
      "model_module_version": "1.5.0",
      "model_name": "RadioButtonsModel",
      "state": {
       "_options_labels": [
        "None",
        "Model",
        "Value"
       ],
       "index": 2,
       "layout": "IPY_MODEL_61ce6b56521d47bd8e8b9d57ee8c0675",
       "style": "IPY_MODEL_3f833a5cf5c243b681d927e9bb30b058"
      }
     },
     "7a3fcf97cfcd44769ad503027ab7ac13": {
      "model_module": "@jupyter-widgets/base",
      "model_module_version": "1.2.0",
      "model_name": "LayoutModel",
      "state": {}
     },
     "7a40adb91bdf4ba4b1cb75f4f28ce0a9": {
      "model_module": "@jupyter-widgets/base",
      "model_module_version": "1.2.0",
      "model_name": "LayoutModel",
      "state": {}
     },
     "7a470100af03463fb8639c5888552f07": {
      "model_module": "@jupyter-widgets/controls",
      "model_module_version": "1.5.0",
      "model_name": "DescriptionStyleModel",
      "state": {
       "description_width": "initial"
      }
     },
     "7a6fbbae7f234fa6b3b20f24001bd95c": {
      "model_module": "@jupyter-widgets/controls",
      "model_module_version": "1.5.0",
      "model_name": "DescriptionStyleModel",
      "state": {
       "description_width": "initial"
      }
     },
     "7a8dc55a892d4b0db180b1088285a7ae": {
      "model_module": "@jupyter-widgets/base",
      "model_module_version": "1.2.0",
      "model_name": "LayoutModel",
      "state": {}
     },
     "7aa9260178174e03bbfe201a763bbf06": {
      "model_module": "@jupyter-widgets/base",
      "model_module_version": "1.2.0",
      "model_name": "LayoutModel",
      "state": {}
     },
     "7aae623f886e47c48396cf8e2a9774c9": {
      "model_module": "@jupyter-widgets/base",
      "model_module_version": "1.2.0",
      "model_name": "LayoutModel",
      "state": {}
     },
     "7abde23351aa4a63a83721e9542b4418": {
      "model_module": "@jupyter-widgets/base",
      "model_module_version": "1.2.0",
      "model_name": "LayoutModel",
      "state": {
       "width": "auto"
      }
     },
     "7ae05aa808304b21899a44b279055e00": {
      "model_module": "@jupyter-widgets/base",
      "model_module_version": "1.2.0",
      "model_name": "LayoutModel",
      "state": {
       "display": "none",
       "width": "auto"
      }
     },
     "7aec668623d64349b61d2aad4fcaee70": {
      "model_module": "@jupyter-widgets/controls",
      "model_module_version": "1.5.0",
      "model_name": "DescriptionStyleModel",
      "state": {
       "description_width": "initial"
      }
     },
     "7af9d156c70c4a67b8aea8f7430cd489": {
      "model_module": "@jupyter-widgets/controls",
      "model_module_version": "1.5.0",
      "model_name": "ButtonModel",
      "state": {
       "description": "Create copy:",
       "layout": "IPY_MODEL_feaeeda7cbd2427388c0d96b0de71b2e",
       "style": "IPY_MODEL_0de6dde67f1245b7aa7fe4655674405e"
      }
     },
     "7b3a71badc9c4af89e7bc29985955708": {
      "model_module": "@jupyter-widgets/base",
      "model_module_version": "1.2.0",
      "model_name": "LayoutModel",
      "state": {}
     },
     "7b3d199423b34f488686c35cf363a40e": {
      "model_module": "@jupyter-widgets/base",
      "model_module_version": "1.2.0",
      "model_name": "LayoutModel",
      "state": {
       "grid_area": "filename",
       "width": "auto"
      }
     },
     "7b4b0d36f9c14cd9b00ac6a59c0d7649": {
      "model_module": "@jupyter-widgets/controls",
      "model_module_version": "1.5.0",
      "model_name": "TextModel",
      "state": {
       "description": "Error (%, floor)",
       "layout": "IPY_MODEL_04013d71eca44999b12b17944786de4b",
       "style": "IPY_MODEL_491fe3807f9346eb9d26dff56a037e55",
       "value": "0, 1"
      }
     },
     "7b53440276eb49bab3b1f82dfcdeed70": {
      "model_module": "@jupyter-widgets/controls",
      "model_module_version": "1.5.0",
      "model_name": "GridBoxModel",
      "state": {
       "children": [
        "IPY_MODEL_307dc3217b7c4f3aa8ed6b5e81da5e41",
        "IPY_MODEL_01c796adc8474b6e9a6b4d19b559a230",
        "IPY_MODEL_dd7e6684040a48c29df006a7bb294d53"
       ],
       "layout": "IPY_MODEL_848d3bee543a4e388feec3bf5e02ec47"
      }
     },
     "7b99da9171e7470598ef92db932a3cf3": {
      "model_module": "@jupyter-widgets/controls",
      "model_module_version": "1.5.0",
      "model_name": "VBoxModel",
      "state": {
       "children": [
        "IPY_MODEL_a928b65de0154b54b204a210a7f54e3e",
        "IPY_MODEL_228e8b4086b14c109d5bd739dc6d9671",
        "IPY_MODEL_9fbff4228b2c4dbabd58649297eae6ba",
        "IPY_MODEL_7bff8b81d4e64837b51a1a54fc08343a",
        "IPY_MODEL_fa9fcd44791d4a00b49cb3ab933f4917"
       ],
       "layout": "IPY_MODEL_e14a02756d1e4ff7b01707a3dda9fc6d"
      }
     },
     "7b9d32ede6384c5e8246b7e61fca8e8e": {
      "model_module": "@jupyter-widgets/controls",
      "model_module_version": "1.5.0",
      "model_name": "GridBoxModel",
      "state": {
       "children": [
        "IPY_MODEL_2b767bcd7d294e74bfb4a24f8bcd5ff2",
        "IPY_MODEL_e2002c0fedb842d4b1bc1e6735f912ec",
        "IPY_MODEL_54e4a1ef152840aca150dbf607cdd51c"
       ],
       "layout": "IPY_MODEL_f092e38da58c454d8734e1711c350468"
      }
     },
     "7ba02de37978420cacb839b7b13b9e3a": {
      "model_module": "@jupyter-widgets/controls",
      "model_module_version": "1.5.0",
      "model_name": "LabelModel",
      "state": {
       "layout": "IPY_MODEL_ee88cfc727044337b0e73b33b1c1fdfc",
       "style": "IPY_MODEL_74b0431d9d96450689c45c1778bbee1a",
       "value": "Workspace"
      }
     },
     "7be34fe7b1c744309f48ef16183cd3a5": {
      "model_module": "@jupyter-widgets/controls",
      "model_module_version": "1.5.0",
      "model_name": "HTMLModel",
      "state": {
       "layout": "IPY_MODEL_64302da6eaa64dba8a43133fe326d47b",
       "style": "IPY_MODEL_dfa73521c528428d8fa3b4393acc57a9"
      }
     },
     "7bff8b81d4e64837b51a1a54fc08343a": {
      "model_module": "@jupyter-widgets/controls",
      "model_module_version": "1.5.0",
      "model_name": "TextModel",
      "state": {
       "description": "Error (%, floor)",
       "layout": "IPY_MODEL_f952efababaa4be7b995ea31fdeb9b0e",
       "style": "IPY_MODEL_2bac1bd5a08f4bed98a64e2377beb2be",
       "value": "0, 1"
      }
     },
     "7c0b3a3180a04b6c818da0de75210278": {
      "model_module": "@jupyter-widgets/controls",
      "model_module_version": "1.5.0",
      "model_name": "DescriptionStyleModel",
      "state": {
       "description_width": "initial"
      }
     },
     "7c138207342f492990af3d40e136fbae": {
      "model_module": "@jupyter-widgets/base",
      "model_module_version": "1.2.0",
      "model_name": "LayoutModel",
      "state": {}
     },
     "7c3ae66d72b6484eb473b98b28d00318": {
      "model_module": "@jupyter-widgets/base",
      "model_module_version": "1.2.0",
      "model_name": "LayoutModel",
      "state": {
       "display": "none",
       "grid_area": "filename",
       "width": "auto"
      }
     },
     "7c3ff5dff9a241259388afc5f66cc825": {
      "model_module": "@jupyter-widgets/controls",
      "model_module_version": "1.5.0",
      "model_name": "DescriptionStyleModel",
      "state": {
       "description_width": "initial"
      }
     },
     "7c53d701750841c0b0cfab076007b093": {
      "model_module": "@jupyter-widgets/controls",
      "model_module_version": "1.5.0",
      "model_name": "DescriptionStyleModel",
      "state": {
       "description_width": "initial"
      }
     },
     "7c5684fd060e4ba18626380d3fd9a60e": {
      "model_module": "@jupyter-widgets/base",
      "model_module_version": "1.2.0",
      "model_name": "LayoutModel",
      "state": {
       "display": "none",
       "width": "auto"
      }
     },
     "7c58193440b041a8b584b05c28484fbb": {
      "model_module": "@jupyter-widgets/controls",
      "model_module_version": "1.5.0",
      "model_name": "FloatTextModel",
      "state": {
       "description": "Smallest cell (m):",
       "layout": "IPY_MODEL_2df18d8915ee4f5393d8e1fdf7009069",
       "step": null,
       "style": "IPY_MODEL_b6b295f954f146c0aded3fc5afea3fb9",
       "value": 10
      }
     },
     "7c6046f19c4c49f78325c115e5321c0c": {
      "model_module": "@jupyter-widgets/controls",
      "model_module_version": "1.5.0",
      "model_name": "ButtonModel",
      "state": {
       "description": "Select",
       "layout": "IPY_MODEL_8dcb27c05cf74d42909fa05ddc2b3a70",
       "style": "IPY_MODEL_35bbffbfd0084a78958546344c4f4614"
      }
     },
     "7c77d1029402473eaed34d011396c5ba": {
      "model_module": "@jupyter-widgets/controls",
      "model_module_version": "1.5.0",
      "model_name": "TextModel",
      "state": {
       "description": "bxz",
       "layout": "IPY_MODEL_319315af4b034470b2a01c594d6da9a3",
       "style": "IPY_MODEL_fe76431c229f4bd8aa99b77809c529c2"
      }
     },
     "7cb8e60b2e204831a68c4877b025228d": {
      "model_module": "@jupyter-widgets/controls",
      "model_module_version": "1.5.0",
      "model_name": "DescriptionStyleModel",
      "state": {
       "description_width": ""
      }
     },
     "7cc811ff91dd4ec68a307b0eb3ea2100": {
      "model_module": "@jupyter-widgets/base",
      "model_module_version": "1.2.0",
      "model_name": "LayoutModel",
      "state": {}
     },
     "7ccb954061ed4f76b83ce2df24fa93ee": {
      "model_module": "@jupyter-widgets/controls",
      "model_module_version": "1.5.0",
      "model_name": "ButtonModel",
      "state": {
       "description": "Cancel",
       "layout": "IPY_MODEL_79745843cffd455d8ef570806147f26c",
       "style": "IPY_MODEL_575e3a264b4043248eb09518fc7860dc"
      }
     },
     "7d0d1f38755d4f81ac948767a212e8a2": {
      "model_module": "@jupyter-widgets/base",
      "model_module_version": "1.2.0",
      "model_name": "LayoutModel",
      "state": {}
     },
     "7d1fd305fa0f4b6d8734801db4194060": {
      "model_module": "@jupyter-widgets/base",
      "model_module_version": "1.2.0",
      "model_name": "LayoutModel",
      "state": {
       "width": "auto"
      }
     },
     "7d43a0f35a8042fea51614591df91ec3": {
      "model_module": "@jupyter-widgets/controls",
      "model_module_version": "1.5.0",
      "model_name": "DescriptionStyleModel",
      "state": {
       "description_width": ""
      }
     },
     "7d458c0540e34247b45a360842cd23b2": {
      "model_module": "@jupyter-widgets/controls",
      "model_module_version": "1.5.0",
      "model_name": "DescriptionStyleModel",
      "state": {
       "description_width": ""
      }
     },
     "7d58329214d64e4683dc1a06f50e7d8c": {
      "model_module": "@jupyter-widgets/base",
      "model_module_version": "1.2.0",
      "model_name": "LayoutModel",
      "state": {}
     },
     "7d58ca074c1a4e7b9922d81c111d83c3": {
      "model_module": "@jupyter-widgets/controls",
      "model_module_version": "1.5.0",
      "model_name": "DescriptionStyleModel",
      "state": {
       "description_width": "initial"
      }
     },
     "7d5ce371037740b2a18c4b2ff2aad088": {
      "model_module": "@jupyter-widgets/base",
      "model_module_version": "1.2.0",
      "model_name": "LayoutModel",
      "state": {
       "display": "none",
       "grid_gap": "0px 0px",
       "grid_template_areas": "\n                    'pathlist pathlist'\n                    'dircontent dircontent'\n                    ",
       "grid_template_columns": "60% 40%",
       "grid_template_rows": "auto auto",
       "width": "500px"
      }
     },
     "7d86a023ffbb4da098d1eeff0f19fbb5": {
      "model_module": "@jupyter-widgets/controls",
      "model_module_version": "1.5.0",
      "model_name": "TextModel",
      "state": {
       "continuous_update": false,
       "description": "Group:",
       "layout": "IPY_MODEL_eec295642dac42edbbb3d78f4ec4a6ac",
       "style": "IPY_MODEL_3fc84c4972ad4d0d99cf7de4d94e81ba"
      }
     },
     "7ddd94befaf84ecfa796aab78fa9e1dc": {
      "model_module": "@jupyter-widgets/base",
      "model_module_version": "1.2.0",
      "model_name": "LayoutModel",
      "state": {}
     },
     "7de2c3d9721c47eda69407a97b66725b": {
      "model_module": "@jupyter-widgets/controls",
      "model_module_version": "1.5.0",
      "model_name": "ToggleButtonModel",
      "state": {
       "layout": "IPY_MODEL_0c564e2b0b3343ba866b7597fa4a1c38",
       "style": "IPY_MODEL_7d458c0540e34247b45a360842cd23b2",
       "value": true
      }
     },
     "7e1a059a47094475b0e9d54c7260dd20": {
      "model_module": "@jupyter-widgets/controls",
      "model_module_version": "1.5.0",
      "model_name": "DescriptionStyleModel",
      "state": {
       "description_width": ""
      }
     },
     "7e24c4735b114063bf8eed6c7830ebff": {
      "model_module": "@jupyter-widgets/controls",
      "model_module_version": "1.5.0",
      "model_name": "LabelModel",
      "state": {
       "layout": "IPY_MODEL_728567e4bd0648229d7d664f29f12ddb",
       "style": "IPY_MODEL_081eb1c2d6ad4c7199d56f04dff21d0e",
       "value": "Geophysical System"
      }
     },
     "7e281ac3ac3449ca8e32b0d96c97cbe3": {
      "model_module": "@jupyter-widgets/controls",
      "model_module_version": "1.5.0",
      "model_name": "VBoxModel",
      "state": {
       "children": [
        "IPY_MODEL_b4b7e27da7d1498ab0527d0f5294dd3e",
        "IPY_MODEL_8b7b5d8ed56f4c8a97c8d347e185a90a"
       ],
       "layout": "IPY_MODEL_54e8864584f942e99289f785e1844241"
      }
     },
     "7e4a9a30b8b5430bb5e5a213aa1d5350": {
      "model_module": "@jupyter-widgets/controls",
      "model_module_version": "1.5.0",
      "model_name": "HBoxModel",
      "state": {
       "children": [
        "IPY_MODEL_116ea45b6e2949ceb8ba295fa474444e",
        "IPY_MODEL_729d89e7e783436aae2b7be8c321add4"
       ],
       "layout": "IPY_MODEL_ce4c5e3be52642e98a2062f3df331c2d"
      }
     },
     "7e575b2e95684c729d25f520dc9576e4": {
      "model_module": "@jupyter-widgets/controls",
      "model_module_version": "1.5.0",
      "model_name": "VBoxModel",
      "state": {
       "children": [
        "IPY_MODEL_fd0ab82a7ae940bfb80dd14caf3b7c3b",
        "IPY_MODEL_2d7a17c1a5954b71ae8678ca2d17d494"
       ],
       "layout": "IPY_MODEL_4a1683b5bfc54dfba898be0b3738d1b2"
      }
     },
     "7e665ad52a36412381f994ac6c306755": {
      "model_module": "@jupyter-widgets/controls",
      "model_module_version": "1.5.0",
      "model_name": "ButtonModel",
      "state": {
       "description": "Select",
       "layout": "IPY_MODEL_8c559d4e4d5e49249ead8ca2034a7196",
       "style": "IPY_MODEL_30bf12063acd4598ab97df412e65d6b0"
      }
     },
     "7e6a456ee3eb40d187421620676d498e": {
      "model_module": "@jupyter-widgets/base",
      "model_module_version": "1.2.0",
      "model_name": "LayoutModel",
      "state": {
       "display": "none"
      }
     },
     "7e85dba503564fd1a805edb0aa9fb3a2": {
      "model_module": "@jupyter-widgets/controls",
      "model_module_version": "1.5.0",
      "model_name": "ButtonStyleModel",
      "state": {}
     },
     "7e990bd9dc1f4606b52e9b5f1b4d3fbd": {
      "model_module": "@jupyter-widgets/controls",
      "model_module_version": "1.5.0",
      "model_name": "DropdownModel",
      "state": {
       "_options_labels": [
        "C:\\Users\\dominiquef\\Documents\\GIT\\RichardScottOZ\\geoapps\\docs\\content\\applications",
        "C:\\Users\\dominiquef\\Documents\\GIT\\RichardScottOZ\\geoapps\\docs\\content",
        "C:\\Users\\dominiquef\\Documents\\GIT\\RichardScottOZ\\geoapps\\docs",
        "C:\\Users\\dominiquef\\Documents\\GIT\\RichardScottOZ\\geoapps",
        "C:\\Users\\dominiquef\\Documents\\GIT\\RichardScottOZ",
        "C:\\Users\\dominiquef\\Documents\\GIT",
        "C:\\Users\\dominiquef\\Documents",
        "C:\\Users\\dominiquef",
        "C:\\Users",
        "C:\\",
        "D:\\",
        "Z:\\"
       ],
       "index": 0,
       "layout": "IPY_MODEL_086fdf2d1eb34f4db7c7da880086db7f",
       "style": "IPY_MODEL_ce0314cfa8cd40c9bc6bcaf5b055e270"
      }
     },
     "7ea202e4e9224fa7bf956b07529492d7": {
      "model_module": "@jupyter-widgets/base",
      "model_module_version": "1.2.0",
      "model_name": "LayoutModel",
      "state": {
       "grid_area": "dircontent",
       "width": "auto"
      }
     },
     "7ebec1369db1452ea5f57d7aec4deb7f": {
      "model_module": "@jupyter-widgets/controls",
      "model_module_version": "1.5.0",
      "model_name": "LabelModel",
      "state": {
       "layout": "IPY_MODEL_ae313fcee5154a81b315b87d0e15c208",
       "style": "IPY_MODEL_0d17ba201ef34b36a809063cb9968cc6",
       "value": "Inversion Options"
      }
     },
     "7ec36b927c7545e7947566192a149b6e": {
      "model_module": "@jupyter-widgets/controls",
      "model_module_version": "1.5.0",
      "model_name": "DescriptionStyleModel",
      "state": {
       "description_width": ""
      }
     },
     "7ecd52647ac041fb9e498d4f88271d01": {
      "model_module": "@jupyter-widgets/controls",
      "model_module_version": "1.5.0",
      "model_name": "DropdownModel",
      "state": {
       "_options_labels": [
        "C:\\Users\\dominiquef\\Documents\\GIT\\mira\\mirageoscience-apps\\docs\\content\\applications",
        "C:\\Users\\dominiquef\\Documents\\GIT\\mira\\mirageoscience-apps\\docs\\content",
        "C:\\Users\\dominiquef\\Documents\\GIT\\mira\\mirageoscience-apps\\docs",
        "C:\\Users\\dominiquef\\Documents\\GIT\\mira\\mirageoscience-apps",
        "C:\\Users\\dominiquef\\Documents\\GIT\\mira",
        "C:\\Users\\dominiquef\\Documents\\GIT",
        "C:\\Users\\dominiquef\\Documents",
        "C:\\Users\\dominiquef",
        "C:\\Users",
        "C:\\",
        "D:\\",
        "Z:\\"
       ],
       "index": 0,
       "layout": "IPY_MODEL_a255514035324706831972d293f7672c",
       "style": "IPY_MODEL_13f45ce32a4d4feb9e553081e044b2ed"
      }
     },
     "7ed9598ce08d40568e4a668b3c2aa156": {
      "model_module": "@jupyter-widgets/base",
      "model_module_version": "1.2.0",
      "model_name": "LayoutModel",
      "state": {}
     },
     "7eff75a6d16f44d48972434b30bdfef5": {
      "model_module": "@jupyter-widgets/base",
      "model_module_version": "1.2.0",
      "model_name": "LayoutModel",
      "state": {
       "display": "none",
       "grid_gap": "0px 0px",
       "grid_template_areas": "\n                    'pathlist filename'\n                    'dircontent dircontent'\n                    ",
       "grid_template_columns": "60% 40%",
       "grid_template_rows": "auto auto",
       "width": "500px"
      }
     },
     "7effad3c207c4e1ca1901f514634621d": {
      "model_module": "@jupyter-widgets/base",
      "model_module_version": "1.2.0",
      "model_name": "LayoutModel",
      "state": {}
     },
     "7f0002d01470497d8fc5e21b9f20f2c9": {
      "model_module": "@jupyter-widgets/base",
      "model_module_version": "1.2.0",
      "model_name": "LayoutModel",
      "state": {}
     },
     "7f22aa62d591456ba5dffe8392bf83fe": {
      "model_module": "@jupyter-widgets/controls",
      "model_module_version": "1.5.0",
      "model_name": "VBoxModel",
      "state": {
       "children": [
        "IPY_MODEL_23e872c9826248cfab7958a910746629"
       ],
       "layout": "IPY_MODEL_cc75eae678e5445f97fc4683587ca470"
      }
     },
     "7f29163b713d4096855a2e2257285c62": {
      "model_module": "@jupyter-widgets/base",
      "model_module_version": "1.2.0",
      "model_name": "LayoutModel",
      "state": {}
     },
     "7f3903a2e13a4a1e91d2ee087bdcb350": {
      "model_module": "@jupyter-widgets/base",
      "model_module_version": "1.2.0",
      "model_name": "LayoutModel",
      "state": {}
     },
     "7f53cbbf052c4a1db0f4eb10dce0e694": {
      "model_module": "@jupyter-widgets/controls",
      "model_module_version": "1.5.0",
      "model_name": "GridBoxModel",
      "state": {
       "children": [
        "IPY_MODEL_81aa5ef62a334616b12dac08c8bf6218",
        "IPY_MODEL_19f9bfa96cae4f74a9acb8994de38ecb",
        "IPY_MODEL_eecc22bf0ab6458583115d0362037ed9"
       ],
       "layout": "IPY_MODEL_ad6a9615f92041f78f0cc1a0d237a0de"
      }
     },
     "7f61b9b25edf4e0db452b693b3e02c0e": {
      "model_module": "@jupyter-widgets/base",
      "model_module_version": "1.2.0",
      "model_name": "LayoutModel",
      "state": {
       "display": "none",
       "width": "auto"
      }
     },
     "7f8b6ed62ae445498cf0b9b0d5ac1c71": {
      "model_module": "@jupyter-widgets/base",
      "model_module_version": "1.2.0",
      "model_name": "LayoutModel",
      "state": {}
     },
     "7f90b8299ce74b2eb00e0bf0c2cf26ba": {
      "model_module": "@jupyter-widgets/controls",
      "model_module_version": "1.5.0",
      "model_name": "TextModel",
      "state": {
       "layout": "IPY_MODEL_f3a7a4f33764452d8dceac8673d928f3",
       "placeholder": "output filename",
       "style": "IPY_MODEL_723e63622801464aaa3ff333d05f7706"
      }
     },
     "800a7e88f2ff4541bc607b7989e3de9c": {
      "model_module": "@jupyter-widgets/controls",
      "model_module_version": "1.5.0",
      "model_name": "ButtonModel",
      "state": {
       "button_style": "danger",
       "description": "Compute",
       "icon": "check",
       "layout": "IPY_MODEL_6e65036a859b49e48d2e7c50d9262a84",
       "style": "IPY_MODEL_50f6723cddb14b3ca80f73fee7c79561",
       "tooltip": "Run computation"
      }
     },
     "80235734c218429eb5decb56e0a1f9a2": {
      "model_module": "@jupyter-widgets/controls",
      "model_module_version": "1.5.0",
      "model_name": "VBoxModel",
      "state": {
       "children": [
        "IPY_MODEL_1612c4406213407199e96c8c4456ddc9",
        "IPY_MODEL_12fecc1ed36347eaaff9e77b5e67ce19"
       ],
       "layout": "IPY_MODEL_7f8b6ed62ae445498cf0b9b0d5ac1c71"
      }
     },
     "802f123c81774fa68fb3e2623afb34d8": {
      "model_module": "@jupyter-widgets/base",
      "model_module_version": "1.2.0",
      "model_name": "LayoutModel",
      "state": {
       "grid_area": "filename",
       "width": "auto"
      }
     },
     "80352681b52f4f7693fe15e1191e4cba": {
      "model_module": "@jupyter-widgets/controls",
      "model_module_version": "1.5.0",
      "model_name": "DescriptionStyleModel",
      "state": {
       "description_width": ""
      }
     },
     "803bb96df64543ba952a34ee50b5a915": {
      "model_module": "@jupyter-widgets/base",
      "model_module_version": "1.2.0",
      "model_name": "LayoutModel",
      "state": {
       "width": "auto"
      }
     },
     "804e208a025f45c390b9e14020770ace": {
      "model_module": "@jupyter-widgets/controls",
      "model_module_version": "1.5.0",
      "model_name": "LabelModel",
      "state": {
       "layout": "IPY_MODEL_a9f625f715944cd3b92639da12c35e8d",
       "style": "IPY_MODEL_01eadafd60744cdc8dd3db6ef37e6248",
       "value": "Workspace"
      }
     },
     "80760981f09b45348ccdf334e4ffb8e3": {
      "model_module": "@jupyter-widgets/controls",
      "model_module_version": "1.5.0",
      "model_name": "SelectModel",
      "state": {
       "_options_labels": [
        "..",
        "images"
       ],
       "index": null,
       "layout": "IPY_MODEL_9575814ac11d46e784eacc8185e2bf9f",
       "rows": 8,
       "style": "IPY_MODEL_db0a67b3bd3e4c0c8d47b44fea0cd7ef"
      }
     },
     "809c09afa1484aec895a914967087a26": {
      "model_module": "@jupyter-widgets/controls",
      "model_module_version": "1.5.0",
      "model_name": "DescriptionStyleModel",
      "state": {
       "description_width": ""
      }
     },
     "80a94b398fe54a0b91d494df2734bf7b": {
      "model_module": "@jupyter-widgets/controls",
      "model_module_version": "1.5.0",
      "model_name": "ToggleButtonModel",
      "state": {
       "layout": "IPY_MODEL_a83beff3bba4413b8fbad2325a53797b",
       "style": "IPY_MODEL_65c0d78853fe4710a261bde525d0918f",
       "value": true
      }
     },
     "80b70fe9aee54ad7a09493acbb1776d4": {
      "model_module": "@jupyter-widgets/controls",
      "model_module_version": "1.5.0",
      "model_name": "TextModel",
      "state": {
       "description": "Upper bound value",
       "layout": "IPY_MODEL_ae9e4f0ba6564688802d8b949419335f",
       "style": "IPY_MODEL_0c56568fbda54ceab942d1597af99341"
      }
     },
     "810e932a76a04aaca315d1084220ae71": {
      "model_module": "@jupyter-widgets/base",
      "model_module_version": "1.2.0",
      "model_name": "LayoutModel",
      "state": {}
     },
     "810f36438f3641b0bb3c09adb6afc6a7": {
      "model_module": "@jupyter-widgets/base",
      "model_module_version": "1.2.0",
      "model_name": "LayoutModel",
      "state": {}
     },
     "811eb5b4b5a04d2dbf36d0d369549493": {
      "model_module": "@jupyter-widgets/base",
      "model_module_version": "1.2.0",
      "model_name": "LayoutModel",
      "state": {}
     },
     "8122927b44654ceab00a4740605ce2d3": {
      "model_module": "@jupyter-widgets/controls",
      "model_module_version": "1.5.0",
      "model_name": "VBoxModel",
      "state": {
       "children": [
        "IPY_MODEL_f14d2b1c60c649d8945eabcd498a97d8",
        "IPY_MODEL_319904e9c0464c97a6df62d8a6c60b13",
        "IPY_MODEL_2a7512bb425b47fab951e4b0a5144d20",
        "IPY_MODEL_55c1c9cc8f4343d891bc34c8edf0c530",
        "IPY_MODEL_b7f4087ef5a64a9787e5e18585349545",
        "IPY_MODEL_59c991f9fc4f472cabacf3cd2994b99e",
        "IPY_MODEL_3b5ba385e6e54049b8d405d06db2732f"
       ],
       "layout": "IPY_MODEL_5a8308984d2246e7bd7dcb6bf50bbd29"
      }
     },
     "812863c96a494a028f795f1d531359ec": {
      "model_module": "@jupyter-widgets/base",
      "model_module_version": "1.2.0",
      "model_name": "LayoutModel",
      "state": {}
     },
     "8158c15f5f694eabb41dd661e08e8ed2": {
      "model_module": "@jupyter-widgets/base",
      "model_module_version": "1.2.0",
      "model_name": "LayoutModel",
      "state": {}
     },
     "815d023d1a9140d68923fe53b8e4f7e8": {
      "model_module": "@jupyter-widgets/base",
      "model_module_version": "1.2.0",
      "model_name": "LayoutModel",
      "state": {}
     },
     "8180023761d44ef6bfcf9f6695bd96e9": {
      "model_module": "@jupyter-widgets/base",
      "model_module_version": "1.2.0",
      "model_name": "LayoutModel",
      "state": {}
     },
     "8187b62dbf2d4c3fbf781e5e38e2e8dc": {
      "model_module": "@jupyter-widgets/base",
      "model_module_version": "1.2.0",
      "model_name": "LayoutModel",
      "state": {}
     },
     "8188f840128b4864b0ac6560be37dfc0": {
      "model_module": "@jupyter-widgets/controls",
      "model_module_version": "1.5.0",
      "model_name": "VBoxModel",
      "state": {
       "children": [
        "IPY_MODEL_5ff4978715fd4177a5ec1dde75c57755",
        "IPY_MODEL_7f22aa62d591456ba5dffe8392bf83fe"
       ],
       "layout": "IPY_MODEL_13da95165a49409a95fcc0c06f6089b4"
      }
     },
     "81aa5ef62a334616b12dac08c8bf6218": {
      "model_module": "@jupyter-widgets/controls",
      "model_module_version": "1.5.0",
      "model_name": "DropdownModel",
      "state": {
       "_options_labels": [
        "C:\\Users\\dominiquef\\Documents\\GIT\\mira\\mirageoscience-apps\\docs\\content\\applications",
        "C:\\Users\\dominiquef\\Documents\\GIT\\mira\\mirageoscience-apps\\docs\\content",
        "C:\\Users\\dominiquef\\Documents\\GIT\\mira\\mirageoscience-apps\\docs",
        "C:\\Users\\dominiquef\\Documents\\GIT\\mira\\mirageoscience-apps",
        "C:\\Users\\dominiquef\\Documents\\GIT\\mira",
        "C:\\Users\\dominiquef\\Documents\\GIT",
        "C:\\Users\\dominiquef\\Documents",
        "C:\\Users\\dominiquef",
        "C:\\Users",
        "C:\\",
        "D:\\",
        "Z:\\"
       ],
       "index": 0,
       "layout": "IPY_MODEL_271fa8a7d8cc4b85ba2b9ed8a2e558ce",
       "style": "IPY_MODEL_f753b850cd1842b38884cceba7fbfc7f"
      }
     },
     "81cfa5c3ddce449aa4d63bc63adbae98": {
      "model_module": "@jupyter-widgets/controls",
      "model_module_version": "1.5.0",
      "model_name": "DescriptionStyleModel",
      "state": {
       "description_width": ""
      }
     },
     "81d01879aa4d467f9bc62af5683bace6": {
      "model_module": "@jupyter-widgets/base",
      "model_module_version": "1.2.0",
      "model_name": "LayoutModel",
      "state": {}
     },
     "81d75655673f4b5095c5ad7717af6bf3": {
      "model_module": "@jupyter-widgets/base",
      "model_module_version": "1.2.0",
      "model_name": "LayoutModel",
      "state": {
       "display": "none",
       "width": "auto"
      }
     },
     "81d897cfaf6043939e6f3dfeb30aa632": {
      "model_module": "@jupyter-widgets/controls",
      "model_module_version": "1.5.0",
      "model_name": "DropdownModel",
      "state": {
       "description": "Values",
       "index": null,
       "layout": "IPY_MODEL_7effad3c207c4e1ca1901f514634621d",
       "style": "IPY_MODEL_c15ca77f984541b894e3111c7aafe2fa"
      }
     },
     "81ed5d9e57ce41c4b9f8c04fe20f4204": {
      "model_module": "@jupyter-widgets/base",
      "model_module_version": "1.2.0",
      "model_name": "LayoutModel",
      "state": {}
     },
     "81ff4f0e49614b76aa0ebf2eeaa7a6b8": {
      "model_module": "@jupyter-widgets/controls",
      "model_module_version": "1.5.0",
      "model_name": "ButtonStyleModel",
      "state": {}
     },
     "822f69e425aa4fed8ed85f6ef110a078": {
      "model_module": "@jupyter-widgets/base",
      "model_module_version": "1.2.0",
      "model_name": "LayoutModel",
      "state": {}
     },
     "8232c4fc260a4d7d8bd60c266c93a6c8": {
      "model_module": "@jupyter-widgets/controls",
      "model_module_version": "1.5.0",
      "model_name": "VBoxModel",
      "state": {
       "children": [
        "IPY_MODEL_4646e20a6da84e3b82095d6ede1229b0",
        "IPY_MODEL_7d86a023ffbb4da098d1eeff0f19fbb5"
       ],
       "layout": "IPY_MODEL_47c7e45fc18d4f71b3eef9b0c4d8bc9d"
      }
     },
     "8247f48060994f32ac7e0de355dfd914": {
      "model_module": "@jupyter-widgets/base",
      "model_module_version": "1.2.0",
      "model_name": "LayoutModel",
      "state": {}
     },
     "825b028c312f4f7eaf733483dfd2c2a0": {
      "model_module": "@jupyter-widgets/controls",
      "model_module_version": "1.5.0",
      "model_name": "DropdownModel",
      "state": {
       "_options_labels": [
        "output name",
        "uncertainties",
        "starting model",
        "regularization",
        "upper-lower bounds",
        "mesh",
        "ignore values",
        "optimization"
       ],
       "index": 0,
       "layout": "IPY_MODEL_e5aa96076ab04fb7bb5ea4e7dd47628b",
       "style": "IPY_MODEL_6dc3cc7bf2f04b66b90181eefe83f0cb"
      }
     },
     "8267492cce8549a9a1c4d01c031b4dca": {
      "model_module": "@jupyter-widgets/base",
      "model_module_version": "1.2.0",
      "model_name": "LayoutModel",
      "state": {}
     },
     "828ef93e6bb041d3950566d1896b0bf2": {
      "model_module": "@jupyter-widgets/base",
      "model_module_version": "1.2.0",
      "model_name": "LayoutModel",
      "state": {}
     },
     "8299241fcf4049d4b325840de4cd6b1b": {
      "model_module": "@jupyter-widgets/controls",
      "model_module_version": "1.5.0",
      "model_name": "DescriptionStyleModel",
      "state": {
       "description_width": ""
      }
     },
     "82a1dc06e01a4af8b411054e13988105": {
      "model_module": "@jupyter-widgets/base",
      "model_module_version": "1.2.0",
      "model_name": "LayoutModel",
      "state": {}
     },
     "82a24ac673934a5293f30a3210ee3de2": {
      "model_module": "@jupyter-widgets/base",
      "model_module_version": "1.2.0",
      "model_name": "LayoutModel",
      "state": {
       "grid_area": "dircontent",
       "width": "auto"
      }
     },
     "82a7920b4d2a4edb9627b0258077ae86": {
      "model_module": "@jupyter-widgets/controls",
      "model_module_version": "1.5.0",
      "model_name": "DescriptionStyleModel",
      "state": {
       "description_width": "initial"
      }
     },
     "83231bc845fe458f8b4f1bd95fbe4513": {
      "model_module": "@jupyter-widgets/controls",
      "model_module_version": "1.5.0",
      "model_name": "DescriptionStyleModel",
      "state": {
       "description_width": ""
      }
     },
     "832e03224765405085ebcb6567d69076": {
      "model_module": "@jupyter-widgets/base",
      "model_module_version": "1.2.0",
      "model_name": "LayoutModel",
      "state": {}
     },
     "834335e64b184280bdb5c5b5c6f7e902": {
      "model_module": "@jupyter-widgets/base",
      "model_module_version": "1.2.0",
      "model_name": "LayoutModel",
      "state": {}
     },
     "834ea113ae104bfdbe28834fd4724a40": {
      "model_module": "@jupyter-widgets/controls",
      "model_module_version": "1.5.0",
      "model_name": "DescriptionStyleModel",
      "state": {
       "description_width": ""
      }
     },
     "836f729b2ef443e7a1f187b27fc58f29": {
      "model_module": "@jupyter-widgets/controls",
      "model_module_version": "1.5.0",
      "model_name": "TextModel",
      "state": {
       "disabled": true,
       "layout": "IPY_MODEL_b2a3fc562e864c8ca27359e5d02c4ecd",
       "placeholder": "output filename",
       "style": "IPY_MODEL_e7e27192775e4d35a5fee6b5ea65f436"
      }
     },
     "838ace60a2174f15abc464b912aab464": {
      "model_module": "@jupyter-widgets/controls",
      "model_module_version": "1.5.0",
      "model_name": "DescriptionStyleModel",
      "state": {
       "description_width": ""
      }
     },
     "838d9a2d78134a54bdf0f8221238d027": {
      "model_module": "@jupyter-widgets/controls",
      "model_module_version": "1.5.0",
      "model_name": "DescriptionStyleModel",
      "state": {
       "description_width": "initial"
      }
     },
     "8396b0a91aee42adaee3cf0f4666a0f8": {
      "model_module": "@jupyter-widgets/controls",
      "model_module_version": "1.5.0",
      "model_name": "DescriptionStyleModel",
      "state": {
       "description_width": ""
      }
     },
     "83d117af2e6d43a39f50139120c7ddf0": {
      "model_module": "@jupyter-widgets/base",
      "model_module_version": "1.2.0",
      "model_name": "LayoutModel",
      "state": {}
     },
     "83db54f80da34cb1acdb4069f2c45438": {
      "model_module": "@jupyter-widgets/base",
      "model_module_version": "1.2.0",
      "model_name": "LayoutModel",
      "state": {
       "display": "none",
       "grid_gap": "0px 0px",
       "grid_template_areas": "\n                    'pathlist pathlist'\n                    'dircontent dircontent'\n                    ",
       "grid_template_columns": "60% 40%",
       "grid_template_rows": "auto auto",
       "width": "500px"
      }
     },
     "83f8d866d2924b3eb4d21105be68b343": {
      "model_module": "@jupyter-widgets/controls",
      "model_module_version": "1.5.0",
      "model_name": "VBoxModel",
      "state": {
       "children": [
        "IPY_MODEL_4f93e30361c54b7cb9188b7b61fde18d",
        "IPY_MODEL_af37f6abfafd47fcb55f249c8ca303ab"
       ],
       "layout": "IPY_MODEL_e7e25cacc8ba43ff8ae046fd2bf5e63d"
      }
     },
     "83f9a3f13f0c45869c7eee562b574bdd": {
      "model_module": "@jupyter-widgets/controls",
      "model_module_version": "1.5.0",
      "model_name": "VBoxModel",
      "state": {
       "children": [
        "IPY_MODEL_8cb943f6d33d470a8314e2195a16b7df",
        "IPY_MODEL_bc5112e42f6147f2bf621af0fc768aeb"
       ],
       "layout": "IPY_MODEL_b2307be7798a47d0a75d01030e96c9a0"
      }
     },
     "843203ca8718428a85f7a4f2cf6e0ea7": {
      "model_module": "@jupyter-widgets/controls",
      "model_module_version": "1.5.0",
      "model_name": "ButtonModel",
      "state": {
       "description": "Cancel",
       "layout": "IPY_MODEL_ff2f5d83559b4ffc98bb3a64b4759539",
       "style": "IPY_MODEL_f6a1d57d42474b2ca21a36b056f800a1"
      }
     },
     "8441556356964350ad01a417e84288cd": {
      "model_module": "@jupyter-widgets/controls",
      "model_module_version": "1.5.0",
      "model_name": "DescriptionStyleModel",
      "state": {
       "description_width": ""
      }
     },
     "8444b29b605b4ecead808e2e97b374ea": {
      "model_module": "@jupyter-widgets/base",
      "model_module_version": "1.2.0",
      "model_name": "LayoutModel",
      "state": {}
     },
     "845ad1f436864625bbc40f4676bed2dd": {
      "model_module": "@jupyter-widgets/base",
      "model_module_version": "1.2.0",
      "model_name": "LayoutModel",
      "state": {}
     },
     "848d3bee543a4e388feec3bf5e02ec47": {
      "model_module": "@jupyter-widgets/base",
      "model_module_version": "1.2.0",
      "model_name": "LayoutModel",
      "state": {
       "display": "none",
       "grid_gap": "0px 0px",
       "grid_template_areas": "\n                    'pathlist pathlist'\n                    'dircontent dircontent'\n                    ",
       "grid_template_columns": "60% 40%",
       "grid_template_rows": "auto auto",
       "width": "500px"
      }
     },
     "849619b7a05d46a1a917e995bb4b360f": {
      "model_module": "@jupyter-widgets/controls",
      "model_module_version": "1.5.0",
      "model_name": "DescriptionStyleModel",
      "state": {
       "description_width": "initial"
      }
     },
     "849f194f79c6492785ed809b169003bb": {
      "model_module": "@jupyter-widgets/controls",
      "model_module_version": "1.5.0",
      "model_name": "DescriptionStyleModel",
      "state": {
       "description_width": ""
      }
     },
     "84b28590f5ef4cffad31cb98cdfaacdc": {
      "model_module": "@jupyter-widgets/controls",
      "model_module_version": "1.5.0",
      "model_name": "ButtonStyleModel",
      "state": {}
     },
     "84bdb2a21a3344e8b6bf0ac2da48e1bd": {
      "model_module": "@jupyter-widgets/controls",
      "model_module_version": "1.5.0",
      "model_name": "LabelModel",
      "state": {
       "layout": "IPY_MODEL_500d701acb464a99823e8bd7ae074580",
       "style": "IPY_MODEL_0020ab33f06b4b9795033d56aa2aa705",
       "value": "No topography"
      }
     },
     "84c44127766545e2953b4f690ce60625": {
      "model_module": "@jupyter-widgets/base",
      "model_module_version": "1.2.0",
      "model_name": "LayoutModel",
      "state": {
       "display": "none",
       "grid_gap": "0px 0px",
       "grid_template_areas": "\n                    'pathlist filename'\n                    'dircontent dircontent'\n                    ",
       "grid_template_columns": "60% 40%",
       "grid_template_rows": "auto auto",
       "width": "500px"
      }
     },
     "84eed57c8a4f4cc7901055bbfc57b9ed": {
      "model_module": "@jupyter-widgets/controls",
      "model_module_version": "1.5.0",
      "model_name": "HTMLModel",
      "state": {
       "layout": "IPY_MODEL_6842c45a9a2a4eb6ab4d0af06754516b",
       "placeholder": "",
       "style": "IPY_MODEL_d691c34832524bbdb60a46403aa8ea7f",
       "value": "<span style=\"margin-left:10px; color:black;\">No file selected</span>"
      }
     },
     "8513c2308b7d4bf98fc20b5a24d4413d": {
      "model_module": "@jupyter-widgets/controls",
      "model_module_version": "1.5.0",
      "model_name": "VBoxModel",
      "state": {
       "children": [
        "IPY_MODEL_1d4e9b1094774c6faef3243e3cbf0e9b",
        "IPY_MODEL_b9c4434c1c3e4386a773ac5eca625d1c",
        "IPY_MODEL_27d8f6dcc83b46e2b409353519008ce1",
        "IPY_MODEL_0b467551b7664bcbbec109e1303dc214",
        "IPY_MODEL_0279a6f1e22f4f7996b8178180feece2"
       ],
       "layout": "IPY_MODEL_d6815a3ca80a494d9d92e0c8d25313f9"
      }
     },
     "8520cf4a098640d399c7ffffb52bb0e4": {
      "model_module": "@jupyter-widgets/controls",
      "model_module_version": "1.5.0",
      "model_name": "DescriptionStyleModel",
      "state": {
       "description_width": ""
      }
     },
     "852cb73a0d434d2a88941199627b7642": {
      "model_module": "@jupyter-widgets/base",
      "model_module_version": "1.2.0",
      "model_name": "LayoutModel",
      "state": {}
     },
     "855c907a593d4d4898a35ea85cb9417b": {
      "model_module": "@jupyter-widgets/controls",
      "model_module_version": "1.5.0",
      "model_name": "TextModel",
      "state": {
       "layout": "IPY_MODEL_7471a8ccc223466388ca192f98ceacde",
       "placeholder": "output filename",
       "style": "IPY_MODEL_2f29cebfe67747839064a033989e53bc",
       "value": "FlinFlon.geoh5"
      }
     },
     "85a136d68d2e4750a95a47de562c9eee": {
      "model_module": "@jupyter-widgets/controls",
      "model_module_version": "1.5.0",
      "model_name": "DescriptionStyleModel",
      "state": {
       "description_width": "initial"
      }
     },
     "85ab0c1646a64dfcb62c58176117c609": {
      "model_module": "@jupyter-widgets/base",
      "model_module_version": "1.2.0",
      "model_name": "LayoutModel",
      "state": {
       "width": "auto"
      }
     },
     "85f08d9abf444e65a67d6dc352f50f52": {
      "model_module": "@jupyter-widgets/controls",
      "model_module_version": "1.5.0",
      "model_name": "HTMLModel",
      "state": {
       "layout": "IPY_MODEL_5755d5613d5d43d5bd74ca3088fbb387",
       "style": "IPY_MODEL_5cea82c6761c4a0c9dff78369e42bc85"
      }
     },
     "85f14378f33143f482964246f714d61c": {
      "model_module": "@jupyter-widgets/controls",
      "model_module_version": "1.5.0",
      "model_name": "VBoxModel",
      "state": {
       "children": [
        "IPY_MODEL_2c944d4b072040b580be056388b4b38a",
        "IPY_MODEL_d4e98ab5d4344212ae63e9c9ebd4962d"
       ],
       "layout": "IPY_MODEL_dd7e4152ba9e4f1a971bade708612ea4"
      }
     },
     "85f52e3502c647cf80118a8be21bdc63": {
      "model_module": "@jupyter-widgets/base",
      "model_module_version": "1.2.0",
      "model_name": "LayoutModel",
      "state": {}
     },
     "860dd63515594760a1dfc1868a9f2632": {
      "model_module": "@jupyter-widgets/base",
      "model_module_version": "1.2.0",
      "model_name": "LayoutModel",
      "state": {}
     },
     "8627d6ad07b249a188c4cacadd41bd6c": {
      "model_module": "@jupyter-widgets/controls",
      "model_module_version": "1.5.0",
      "model_name": "DescriptionStyleModel",
      "state": {
       "description_width": ""
      }
     },
     "86293f902a26434ebfeeef94f6a45ca8": {
      "model_module": "@jupyter-widgets/controls",
      "model_module_version": "1.5.0",
      "model_name": "DescriptionStyleModel",
      "state": {
       "description_width": ""
      }
     },
     "864e45bfec6047d7ab2663d98fa0d283": {
      "model_module": "@jupyter-widgets/controls",
      "model_module_version": "1.5.0",
      "model_name": "DescriptionStyleModel",
      "state": {
       "description_width": ""
      }
     },
     "868ad830f2c740f8be50c664a036fb80": {
      "model_module": "@jupyter-widgets/controls",
      "model_module_version": "1.5.0",
      "model_name": "SliderStyleModel",
      "state": {
       "description_width": "initial"
      }
     },
     "86b0bcacbbbe4090991adb6e43919007": {
      "model_module": "@jupyter-widgets/base",
      "model_module_version": "1.2.0",
      "model_name": "LayoutModel",
      "state": {
       "display": "none",
       "grid_gap": "0px 0px",
       "grid_template_areas": "\n                    'pathlist filename'\n                    'dircontent dircontent'\n                    ",
       "grid_template_columns": "60% 40%",
       "grid_template_rows": "auto auto",
       "width": "500px"
      }
     },
     "86bc0f8769bc4cde93d28a5b5d05a6c7": {
      "model_module": "@jupyter-widgets/base",
      "model_module_version": "1.2.0",
      "model_name": "LayoutModel",
      "state": {}
     },
     "86c3296db90e4115b5871cf790ce4da0": {
      "model_module": "@jupyter-widgets/controls",
      "model_module_version": "1.5.0",
      "model_name": "ButtonModel",
      "state": {
       "button_style": "danger",
       "description": "Compute",
       "icon": "check",
       "layout": "IPY_MODEL_822f69e425aa4fed8ed85f6ef110a078",
       "style": "IPY_MODEL_b8f687fb25b643888364000805f77e21",
       "tooltip": "Run computation"
      }
     },
     "86cb288b764d4f179a4f0c96399539b9": {
      "model_module": "@jupyter-widgets/base",
      "model_module_version": "1.2.0",
      "model_name": "LayoutModel",
      "state": {
       "width": "auto"
      }
     },
     "86ecdad59c09451f9c440bf10b200c8a": {
      "model_module": "@jupyter-widgets/controls",
      "model_module_version": "1.5.0",
      "model_name": "DescriptionStyleModel",
      "state": {
       "description_width": ""
      }
     },
     "87138cc32b7c4a79992b79e580195803": {
      "model_module": "@jupyter-widgets/controls",
      "model_module_version": "1.5.0",
      "model_name": "ButtonStyleModel",
      "state": {}
     },
     "871d100aedc44edcb7e515f62f192a99": {
      "model_module": "@jupyter-widgets/controls",
      "model_module_version": "1.5.0",
      "model_name": "VBoxModel",
      "state": {
       "children": [
        "IPY_MODEL_047f804cd0bd4983b7fbfc939b70ac84",
        "IPY_MODEL_aa7198487aec4745aa211f5443ca9616",
        "IPY_MODEL_e2463c916e0241299d0e206c554e8a5b",
        "IPY_MODEL_8bce4b05d95f4b0a97febae3e822ea2a",
        "IPY_MODEL_66b3637336fe4e509878b4b18f91280f",
        "IPY_MODEL_fba0174a62e949c0a053da40fffebb0c",
        "IPY_MODEL_a02ac654b54c4f9190155d77aed5941e"
       ],
       "layout": "IPY_MODEL_7ddd94befaf84ecfa796aab78fa9e1dc"
      }
     },
     "872e79d21cd24d0a95fe17a45e84a223": {
      "model_module": "@jupyter-widgets/controls",
      "model_module_version": "1.5.0",
      "model_name": "HBoxModel",
      "state": {
       "children": [
        "IPY_MODEL_d4b1e12b3c44493baa54d3b2fbae9a03",
        "IPY_MODEL_a032760f095146b9bedfa91429059942",
        "IPY_MODEL_f18fa5d7917349038c52a5f67cae399d"
       ],
       "layout": "IPY_MODEL_4b47c32badd148848e219055fd64c1ed"
      }
     },
     "87359f5b012c403a936e05165155c777": {
      "model_module": "@jupyter-widgets/controls",
      "model_module_version": "1.5.0",
      "model_name": "LabelModel",
      "state": {
       "layout": "IPY_MODEL_faf36b6dd99342988169e621e74a121d",
       "style": "IPY_MODEL_3297720073cf4d8e9251e33e6d2ab28b",
       "value": "Workspace"
      }
     },
     "8748befcc8d44064871c478fd9dc11db": {
      "model_module": "@jupyter-widgets/controls",
      "model_module_version": "1.5.0",
      "model_name": "DescriptionStyleModel",
      "state": {
       "description_width": ""
      }
     },
     "8765bc2ce5134aeb9b26a3b022e63ce8": {
      "model_module": "@jupyter-widgets/controls",
      "model_module_version": "1.5.0",
      "model_name": "VBoxModel",
      "state": {
       "children": [
        "IPY_MODEL_14cd624a09604c0486a17b3219f06d4c",
        "IPY_MODEL_9e82e151c91540f39966c006e7f37380",
        "IPY_MODEL_0791240ab28e413781993c3233505c38"
       ],
       "layout": "IPY_MODEL_0f8e6045ef3e4cf69c6fd7dd42575fcb"
      }
     },
     "877925041ca84a7391dba2ff6b2042cd": {
      "model_module": "@jupyter-widgets/controls",
      "model_module_version": "1.5.0",
      "model_name": "DescriptionStyleModel",
      "state": {
       "description_width": "initial"
      }
     },
     "878c60b8c3f54ff69e40428dfcf6c08b": {
      "model_module": "@jupyter-widgets/base",
      "model_module_version": "1.2.0",
      "model_name": "LayoutModel",
      "state": {}
     },
     "87a5934091b14abc8f4552233befc8b6": {
      "model_module": "@jupyter-widgets/controls",
      "model_module_version": "1.5.0",
      "model_name": "DescriptionStyleModel",
      "state": {
       "description_width": ""
      }
     },
     "87c701d9fb02472c9f4134cfc739c1fd": {
      "model_module": "@jupyter-widgets/controls",
      "model_module_version": "1.5.0",
      "model_name": "HBoxModel",
      "state": {
       "children": [
        "IPY_MODEL_cdf0a19495594eaba29fca621c1e6720",
        "IPY_MODEL_a333f1004a64450eaa1e0199094230ed",
        "IPY_MODEL_1bbba73a94ea42ccafb78812ba704814"
       ],
       "layout": "IPY_MODEL_da5a1a4ad34148a0b27c66d83d4eb2e5"
      }
     },
     "87e4647b6a34480190508138936eada9": {
      "model_module": "@jupyter-widgets/controls",
      "model_module_version": "1.5.0",
      "model_name": "DescriptionStyleModel",
      "state": {
       "description_width": ""
      }
     },
     "8806b95abcf24700ad31d1ca27f63994": {
      "model_module": "@jupyter-widgets/controls",
      "model_module_version": "1.5.0",
      "model_name": "DescriptionStyleModel",
      "state": {
       "description_width": ""
      }
     },
     "882439c99eae41279ba35b5cd933f130": {
      "model_module": "@jupyter-widgets/controls",
      "model_module_version": "1.5.0",
      "model_name": "ButtonModel",
      "state": {
       "description": "Cancel",
       "layout": "IPY_MODEL_1fc563ff9fb5460485de5ea7a8d1b15b",
       "style": "IPY_MODEL_4c764169d04e472a809c150369e5ed1d"
      }
     },
     "88677b944a664b169b9bbdeeefbbd6ae": {
      "model_module": "@jupyter-widgets/controls",
      "model_module_version": "1.5.0",
      "model_name": "CheckboxModel",
      "state": {
       "description": "GA Pro - Live link",
       "disabled": false,
       "indent": false,
       "layout": "IPY_MODEL_cf9b8905b0244f7ab74ee75c9a96b28d",
       "style": "IPY_MODEL_6b801beab9944b509bf63199ab0268de",
       "value": false
      }
     },
     "8890033b95cd47cc83daddbcbe27d442": {
      "model_module": "@jupyter-widgets/controls",
      "model_module_version": "1.5.0",
      "model_name": "SelectModel",
      "state": {
       "_options_labels": [
        "..",
        "dask-worker-space",
        "images"
       ],
       "index": null,
       "layout": "IPY_MODEL_52d2ae2ce6664e58bb0426a242008fef",
       "rows": 8,
       "style": "IPY_MODEL_6805a2db9e89435aa20f0ac5acf3535a"
      }
     },
     "88b644e42da449e18df09cbad860da51": {
      "model_module": "@jupyter-widgets/controls",
      "model_module_version": "1.5.0",
      "model_name": "DescriptionStyleModel",
      "state": {
       "description_width": "initial"
      }
     },
     "88c58b5cbd184ca0857efa5c869e5bf2": {
      "model_module": "@jupyter-widgets/base",
      "model_module_version": "1.2.0",
      "model_name": "LayoutModel",
      "state": {
       "visibility": "hidden"
      }
     },
     "8921468823c94f048bec2257944d6f36": {
      "model_module": "@jupyter-widgets/base",
      "model_module_version": "1.2.0",
      "model_name": "LayoutModel",
      "state": {}
     },
     "894ba5dc7d4f47a1ac4f3cdc4188725e": {
      "model_module": "@jupyter-widgets/base",
      "model_module_version": "1.2.0",
      "model_name": "LayoutModel",
      "state": {
       "width": "auto"
      }
     },
     "89512facedb24ccbaadc1b2f27d91d68": {
      "model_module": "@jupyter-widgets/controls",
      "model_module_version": "1.5.0",
      "model_name": "DescriptionStyleModel",
      "state": {
       "description_width": ""
      }
     },
     "897422813d2246e8b0f9fc18158c3c67": {
      "model_module": "@jupyter-widgets/controls",
      "model_module_version": "1.5.0",
      "model_name": "DescriptionStyleModel",
      "state": {
       "description_width": ""
      }
     },
     "89811e5cc64943ec82cf4d9c99889065": {
      "model_module": "@jupyter-widgets/base",
      "model_module_version": "1.2.0",
      "model_name": "LayoutModel",
      "state": {}
     },
     "8a248dd990954df99550a750fa686caa": {
      "model_module": "@jupyter-widgets/controls",
      "model_module_version": "1.5.0",
      "model_name": "ButtonStyleModel",
      "state": {}
     },
     "8a34481f1dc047b5bbb6493b389107d4": {
      "model_module": "@jupyter-widgets/controls",
      "model_module_version": "1.5.0",
      "model_name": "VBoxModel",
      "state": {
       "children": [
        "IPY_MODEL_2cbd01b56571457d987065c908384f4b",
        "IPY_MODEL_4e168e84a4914a89a05fc9cc0ebc457d"
       ],
       "layout": "IPY_MODEL_47980fc6b22e42818100f9e2e1ea987b"
      }
     },
     "8a41e07726184ffeabea9e860caf1295": {
      "model_module": "@jupyter-widgets/controls",
      "model_module_version": "1.5.0",
      "model_name": "DescriptionStyleModel",
      "state": {
       "description_width": "initial"
      }
     },
     "8a4fddeebeff4d7a91ffe6c1c6da3ca8": {
      "model_module": "@jupyter-widgets/controls",
      "model_module_version": "1.5.0",
      "model_name": "VBoxModel",
      "state": {
       "children": [
        "IPY_MODEL_717d7c5c79f844488f266819c2adbe1a",
        "IPY_MODEL_2a7512bb425b47fab951e4b0a5144d20"
       ],
       "layout": "IPY_MODEL_828ef93e6bb041d3950566d1896b0bf2"
      }
     },
     "8a63f360d80545b7827277288d05ac7c": {
      "model_module": "@jupyter-widgets/base",
      "model_module_version": "1.2.0",
      "model_name": "LayoutModel",
      "state": {}
     },
     "8a754e0556564380abb26aa8ce4cd758": {
      "model_module": "@jupyter-widgets/base",
      "model_module_version": "1.2.0",
      "model_name": "LayoutModel",
      "state": {}
     },
     "8a90c312934540758644f61872769830": {
      "model_module": "@jupyter-widgets/controls",
      "model_module_version": "1.5.0",
      "model_name": "HTMLModel",
      "state": {
       "layout": "IPY_MODEL_67ea87843ea14c599068d3781c3f660e",
       "style": "IPY_MODEL_bccb1192e3034c43b8cdc9f483de884d"
      }
     },
     "8ab3159126c44f44abb6010386c31c44": {
      "model_module": "@jupyter-widgets/controls",
      "model_module_version": "1.5.0",
      "model_name": "FloatTextModel",
      "state": {
       "description": "Grid Resolution (m)",
       "layout": "IPY_MODEL_46aaa9e5d36e4af98784e6153c98e495",
       "step": null,
       "style": "IPY_MODEL_d1fa2176dd284b0abec84409b18457c0",
       "value": 50
      }
     },
     "8ae62a936f7f47b68e77807432a9695a": {
      "model_module": "@jupyter-widgets/controls",
      "model_module_version": "1.5.0",
      "model_name": "HTMLModel",
      "state": {
       "layout": "IPY_MODEL_19430ca0d61d42cf9c768acaee4367ae",
       "placeholder": "",
       "style": "IPY_MODEL_72130e301ee347c98ab3e5d38de25e7a",
       "value": "<span style=\"margin-left:10px; color:orange;\">C:\\Users\\dominiquef\\Documents\\GIT\\RichardScottOZ\\geoapps\\assets\\FlinFlon.geoh5</span>"
      }
     },
     "8b00623f79c84345810059602887220e": {
      "model_module": "@jupyter-widgets/base",
      "model_module_version": "1.2.0",
      "model_name": "LayoutModel",
      "state": {}
     },
     "8b0b528e894b41bd80eb66e416b907aa": {
      "model_module": "@jupyter-widgets/controls",
      "model_module_version": "1.5.0",
      "model_name": "ButtonStyleModel",
      "state": {}
     },
     "8b24a20f6bad45ce9ee871cd7dd664ff": {
      "model_module": "@jupyter-widgets/controls",
      "model_module_version": "1.5.0",
      "model_name": "IntTextModel",
      "state": {
       "description": "Max beta Iterations",
       "layout": "IPY_MODEL_a5248e55d7fc4421a20cbc51ce797512",
       "step": 1,
       "style": "IPY_MODEL_ed1886a4ca1c40ec91297827221184b8",
       "value": 25
      }
     },
     "8b32d2c360f34622bfeb7ee072243f8e": {
      "model_module": "@jupyter-widgets/base",
      "model_module_version": "1.2.0",
      "model_name": "LayoutModel",
      "state": {
       "grid_area": "pathlist",
       "width": "auto"
      }
     },
     "8b53b045f3104bf798af02f32ab7a02e": {
      "model_module": "@jupyter-widgets/controls",
      "model_module_version": "1.5.0",
      "model_name": "ToggleButtonModel",
      "state": {
       "layout": "IPY_MODEL_df3d62322c144212841bf9eb5ed90ea2",
       "style": "IPY_MODEL_b84590680bbb4f60b3c2eec9c9151939",
       "value": true
      }
     },
     "8b634d436b8f4eac8b7a67b864d38ac1": {
      "model_module": "@jupyter-widgets/controls",
      "model_module_version": "1.5.0",
      "model_name": "ButtonModel",
      "state": {
       "button_style": "danger",
       "description": "Compute",
       "icon": "check",
       "layout": "IPY_MODEL_376add82229547159e8c44bd55e20a9b",
       "style": "IPY_MODEL_2502c4330b1b406eb2d89adc3f360539",
       "tooltip": "Run computation"
      }
     },
     "8b7b5d8ed56f4c8a97c8d347e185a90a": {
      "model_module": "@jupyter-widgets/controls",
      "model_module_version": "1.5.0",
      "model_name": "VBoxModel",
      "state": {
       "children": [
        "IPY_MODEL_8c1737baa1314b4497d4d91cb1cac5d2",
        "IPY_MODEL_d0c07be731fa4d2bb9ca480fafe85327",
        "IPY_MODEL_584adf1b724f49f896067a16c77b9a0d"
       ],
       "layout": "IPY_MODEL_2d3ab53d09594e5aa51ffe5219cf8630"
      }
     },
     "8ba30e7ed730424ba851805a8d6dc649": {
      "model_module": "@jupyter-widgets/controls",
      "model_module_version": "1.5.0",
      "model_name": "DropdownModel",
      "state": {
       "_options_labels": [
        "C:\\Users\\dominiquef\\Documents\\GIT\\mira\\mirageoscience-apps\\docs\\content\\applications",
        "C:\\Users\\dominiquef\\Documents\\GIT\\mira\\mirageoscience-apps\\docs\\content",
        "C:\\Users\\dominiquef\\Documents\\GIT\\mira\\mirageoscience-apps\\docs",
        "C:\\Users\\dominiquef\\Documents\\GIT\\mira\\mirageoscience-apps",
        "C:\\Users\\dominiquef\\Documents\\GIT\\mira",
        "C:\\Users\\dominiquef\\Documents\\GIT",
        "C:\\Users\\dominiquef\\Documents",
        "C:\\Users\\dominiquef",
        "C:\\Users",
        "C:\\",
        "D:\\",
        "Z:\\"
       ],
       "index": 0,
       "layout": "IPY_MODEL_e8f44393c9604ab4ac639419b326816c",
       "style": "IPY_MODEL_e7626b6c7baf47fcad7b43774f25c2cc"
      }
     },
     "8baa9f1d326f4fd1b533896b66cb32e9": {
      "model_module": "@jupyter-widgets/controls",
      "model_module_version": "1.5.0",
      "model_name": "FloatTextModel",
      "state": {
       "description": "SI",
       "layout": "IPY_MODEL_167bb5377e0a4b9aadc0f3706a6c2eed",
       "step": null,
       "style": "IPY_MODEL_23bac64059c44f1ca0fa259ef2125f99",
       "value": 0.0001
      }
     },
     "8bc7cf314f35443c8106e089b5ff46b2": {
      "model_module": "@jupyter-widgets/controls",
      "model_module_version": "1.5.0",
      "model_name": "DescriptionStyleModel",
      "state": {
       "description_width": "initial"
      }
     },
     "8bce4b05d95f4b0a97febae3e822ea2a": {
      "model_module": "@jupyter-widgets/controls",
      "model_module_version": "1.5.0",
      "model_name": "TextModel",
      "state": {
       "description": "Layers below data",
       "layout": "IPY_MODEL_cee9576536504bb69cc188e4637a5ead",
       "style": "IPY_MODEL_a0092c490e1f4141a23f3c1562241b2a",
       "value": "5, 5, 5, 5"
      }
     },
     "8bdb29f289b14f7bbf44284a9c7447a4": {
      "model_module": "@jupyter-widgets/controls",
      "model_module_version": "1.5.0",
      "model_name": "CheckboxModel",
      "state": {
       "description": "Forward only",
       "disabled": false,
       "layout": "IPY_MODEL_456dab278ef943b68111e34186aacddb",
       "style": "IPY_MODEL_23ba21c09f5b41da9729463588e3e942",
       "value": false
      }
     },
     "8bde1e6719884240abe146cb12e2c5e2": {
      "model_module": "@jupyter-widgets/base",
      "model_module_version": "1.2.0",
      "model_name": "LayoutModel",
      "state": {}
     },
     "8be2194c0c0f410ca0bc47ce69b3c915": {
      "model_module": "@jupyter-widgets/base",
      "model_module_version": "1.2.0",
      "model_name": "LayoutModel",
      "state": {
       "display": "none"
      }
     },
     "8c101b05a4684bbead61e3b187da66fe": {
      "model_module": "@jupyter-widgets/controls",
      "model_module_version": "1.5.0",
      "model_name": "DescriptionStyleModel",
      "state": {
       "description_width": ""
      }
     },
     "8c1737baa1314b4497d4d91cb1cac5d2": {
      "model_module": "@jupyter-widgets/controls",
      "model_module_version": "1.5.0",
      "model_name": "HTMLModel",
      "state": {
       "layout": "IPY_MODEL_c707e7c4944d408fa36e92b50b50dab0",
       "style": "IPY_MODEL_809c09afa1484aec895a914967087a26"
      }
     },
     "8c559d4e4d5e49249ead8ca2034a7196": {
      "model_module": "@jupyter-widgets/base",
      "model_module_version": "1.2.0",
      "model_name": "LayoutModel",
      "state": {
       "width": "auto"
      }
     },
     "8c6c5346e1ad4612830958e9256f7077": {
      "model_module": "@jupyter-widgets/base",
      "model_module_version": "1.2.0",
      "model_name": "LayoutModel",
      "state": {}
     },
     "8c8801c1edb642389872408a0f397cd5": {
      "model_module": "@jupyter-widgets/base",
      "model_module_version": "1.2.0",
      "model_name": "LayoutModel",
      "state": {
       "grid_area": "pathlist",
       "width": "auto"
      }
     },
     "8c9aed54e44144328e327e6f495024fb": {
      "model_module": "@jupyter-widgets/controls",
      "model_module_version": "1.5.0",
      "model_name": "DescriptionStyleModel",
      "state": {
       "description_width": "initial"
      }
     },
     "8ca5bab043694649a048d7c533e4182b": {
      "model_module": "@jupyter-widgets/base",
      "model_module_version": "1.2.0",
      "model_name": "LayoutModel",
      "state": {}
     },
     "8ca8ce37b7c24bc7938215252d6bd4ff": {
      "model_module": "@jupyter-widgets/controls",
      "model_module_version": "1.5.0",
      "model_name": "ButtonModel",
      "state": {
       "description": "Cancel",
       "layout": "IPY_MODEL_4af367d574bc44ca9f9c6b223ceed0aa",
       "style": "IPY_MODEL_046c249d142e47f986b49b5f7383bbc5"
      }
     },
     "8ca997f363c34a07a2f17d4ea10a073d": {
      "model_module": "@jupyter-widgets/controls",
      "model_module_version": "1.5.0",
      "model_name": "ButtonStyleModel",
      "state": {}
     },
     "8cb943f6d33d470a8314e2195a16b7df": {
      "model_module": "@jupyter-widgets/controls",
      "model_module_version": "1.5.0",
      "model_name": "TextModel",
      "state": {
       "description": "(dx, dy, dz) (+ve up)",
       "layout": "IPY_MODEL_a755eddad0664a548437b720320c6a86",
       "style": "IPY_MODEL_07be3a29a7a444bbb968247d14d915a7",
       "value": "0, 0, 60"
      }
     },
     "8ccc077f6dd148e395dbd8515a2e229e": {
      "model_module": "@jupyter-widgets/base",
      "model_module_version": "1.2.0",
      "model_name": "LayoutModel",
      "state": {
       "display": "none",
       "grid_gap": "0px 0px",
       "grid_template_areas": "\n                    'pathlist pathlist'\n                    'dircontent dircontent'\n                    ",
       "grid_template_columns": "60% 40%",
       "grid_template_rows": "auto auto",
       "width": "500px"
      }
     },
     "8ccedf177f2a4d5b81660b97d3fc3ba8": {
      "model_module": "@jupyter-widgets/controls",
      "model_module_version": "1.5.0",
      "model_name": "DescriptionStyleModel",
      "state": {
       "description_width": ""
      }
     },
     "8cf5b6cdb3974347a31dba273a7142f5": {
      "model_module": "@jupyter-widgets/controls",
      "model_module_version": "1.5.0",
      "model_name": "DropdownModel",
      "state": {
       "_options_labels": [
        "",
        "fault_splay1",
        "fault_Cliff_Lake",
        "fault_Other_FlinFlon",
        "fault_Club_Lake_splay",
        "fault_Catherine_splay2",
        "fault_Birch_View",
        "fault_Dion_Lake",
        "fault_FlinFlon_splay",
        "fault_West_Mandy_Road",
        "fault_Channing",
        "fault_Ross_Lake",
        "fault_Louis_Hidden",
        "fault_Lake_View_thrust",
        "contact_Schist_Lake",
        "fault_Burley_Lake",
        "fault_Dion_Lake_splay",
        "fault_Green_Lake",
        "fault_FlinFlon",
        "fault_Catherine_splay1",
        "fault_East_Mandy_Road",
        "fault_Other_FlinFlon_South",
        "fault_Catherine_splay4",
        "contact_Stitt_Island",
        "fault_Club_Lake",
        "fault_Tailing_Pond",
        "35_Hidden_Reservoir_Hr5",
        "29_Hidden_Reservoir_Hr1a",
        "60_BlueLagoon_Fb2",
        "20_FlinFlon_Undivided_Int_Dykes_D2f",
        "04_Boundary_Intrusive_S4h",
        "53_Millrock_Rhyolite_Fm4b",
        "19_FlinFlon_Undivided_Int_Dykes_D2b",
        "18_FlinFlon_Undivided_Int_Dykes_777_D2b",
        "06_Phantom_Lake_Intrusive_S3a",
        "21_FlinFlon_Undivided_Int_Dykes_D3a",
        "43_Millrock_CHLSH_South",
        "56_Millrock_Basalt_Fm1ba",
        "17_FlinFlon_Undivided_Int_Dykes_D2",
        "32_Hidden_Reservoir_Hr1b_SW",
        "11_Missi_M3_NE",
        "13_Missi_M1",
        "07_Annabel_Granitoid_S1",
        "45_Millrock_Gabbro_South",
        "01_Late_Intrusive_S5b",
        "31_Hidden_Reservoir_Hr1c_SW",
        "52_Millrock_Rhyolite_Fm4_West_check",
        "55_Millrock_Basalt_Fm1bf",
        "34_Hidden_Reservoir_Hr2b",
        "03_Boundary_Intrusive_S4b",
        "42_Millrock_CHLSH_North",
        "26_Louis_L3",
        "23_FlinFlon_Undivided_Int_Felsic_D4g",
        "30_Hidden_Reservoir_Hr1b",
        "59_BlueLagoon_Fb3",
        "49_Millrock_MVR_Fm5d",
        "44_Millrock_Gabbro_North",
        "27_Hidden_Carlisle_Hc4",
        "22_FlinFlon_Undivided_Int_Felsic_D4e",
        "02_Boundary_Intrusive_S4a",
        "61_BlueLagoon_Fb1_NW",
        "05_Boundary_Intrusive_S4g",
        "39_Ore_Callinan",
        "38_Ore_Dan_Owens",
        "40_Ore_FlinFlon",
        "Inversion_VTEM_Model",
        "Gravity_Magnetics_drape60m",
        "CDI_VTEM_model",
        "Data_FEM_pseudo3D",
        "O2O_Interp_25m",
        "geochem",
        "Inversion_DIGHEM_Model",
        "Topography",
        "Data_TEM_pseudo3D",
        "Data_ZTEM"
       ],
       "description": "Object",
       "index": 0,
       "layout": "IPY_MODEL_a14197c8cfda4a998aebca6fa1091cfe",
       "style": "IPY_MODEL_182f07b02bf24b409b5363642d1f0547"
      }
     },
     "8cfe021624ac4f9da4bde25a8179a74d": {
      "model_module": "@jupyter-widgets/base",
      "model_module_version": "1.2.0",
      "model_name": "LayoutModel",
      "state": {}
     },
     "8d03108bd90342009dc95279631f677d": {
      "model_module": "@jupyter-widgets/controls",
      "model_module_version": "1.5.0",
      "model_name": "DescriptionStyleModel",
      "state": {
       "description_width": ""
      }
     },
     "8d112535af1f42359f71e168b4a71e8f": {
      "model_module": "@jupyter-widgets/controls",
      "model_module_version": "1.5.0",
      "model_name": "DescriptionStyleModel",
      "state": {
       "description_width": ""
      }
     },
     "8d225b546d9d4ec793acd205c7c63c6e": {
      "model_module": "@jupyter-widgets/controls",
      "model_module_version": "1.5.0",
      "model_name": "DescriptionStyleModel",
      "state": {
       "description_width": "initial"
      }
     },
     "8d6170ddfc6c47a6a92332725e227619": {
      "model_module": "@jupyter-widgets/base",
      "model_module_version": "1.2.0",
      "model_name": "LayoutModel",
      "state": {}
     },
     "8da54c9271eb45a285e8dec35e61f6fb": {
      "model_module": "@jupyter-widgets/controls",
      "model_module_version": "1.5.0",
      "model_name": "VBoxModel",
      "state": {
       "children": [
        "IPY_MODEL_a9cae119c0fb442889ea0da099172d3d",
        "IPY_MODEL_91514c27b6804a518db71c581c295065"
       ],
       "layout": "IPY_MODEL_79fb6e99275642d88a9e8beb36dbbc40"
      }
     },
     "8dab19f7a80a479cbb64132b272f56dc": {
      "model_module": "@jupyter-widgets/controls",
      "model_module_version": "1.5.0",
      "model_name": "SelectModel",
      "state": {
       "_options_labels": [
        "..",
        "images"
       ],
       "index": null,
       "layout": "IPY_MODEL_8e3b1e20abb24833bb965a828c1fa1e1",
       "rows": 8,
       "style": "IPY_MODEL_8ccedf177f2a4d5b81660b97d3fc3ba8"
      }
     },
     "8db08b7ca56f4da3af490c5237e20499": {
      "model_module": "@jupyter-widgets/controls",
      "model_module_version": "1.5.0",
      "model_name": "TextModel",
      "state": {
       "description": "Layers below data",
       "layout": "IPY_MODEL_11c7451056ff456eaa2f97c5ab3ce5db",
       "style": "IPY_MODEL_b6d49346de704c0a9bbb38877dbe38e7",
       "value": "5, 5, 5, 5"
      }
     },
     "8dc5ebf66d8e4df5a7fc0905125286e0": {
      "model_module": "@jupyter-widgets/base",
      "model_module_version": "1.2.0",
      "model_name": "LayoutModel",
      "state": {}
     },
     "8dcb27c05cf74d42909fa05ddc2b3a70": {
      "model_module": "@jupyter-widgets/base",
      "model_module_version": "1.2.0",
      "model_name": "LayoutModel",
      "state": {
       "width": "auto"
      }
     },
     "8dcf6be05a434ed8905a2e1a3d11c1e3": {
      "model_module": "@jupyter-widgets/controls",
      "model_module_version": "1.5.0",
      "model_name": "VBoxModel",
      "state": {
       "children": [
        "IPY_MODEL_130e66d5daf34253b674b04e3ebe2c40"
       ],
       "layout": "IPY_MODEL_90d5b64f35fd4e9f971abbe9a3f832eb"
      }
     },
     "8dd0d6b7110143c087353457136878b7": {
      "model_module": "@jupyter-widgets/base",
      "model_module_version": "1.2.0",
      "model_name": "LayoutModel",
      "state": {
       "visibility": "hidden"
      }
     },
     "8e143fab1d314712bdcd21d2b399ea84": {
      "model_module": "@jupyter-widgets/controls",
      "model_module_version": "1.5.0",
      "model_name": "VBoxModel",
      "state": {
       "children": [
        "IPY_MODEL_7be34fe7b1c744309f48ef16183cd3a5",
        "IPY_MODEL_596fc2ab46b147888dfc6fe90d953319",
        "IPY_MODEL_bada6463bcec487ba7150081d65723f8"
       ],
       "layout": "IPY_MODEL_eb3c525135e8477c88468290f9072e40"
      }
     },
     "8e222f4252f44e3ca0a66cf323f7107b": {
      "model_module": "@jupyter-widgets/controls",
      "model_module_version": "1.5.0",
      "model_name": "VBoxModel",
      "state": {
       "children": [
        "IPY_MODEL_e17e02db4a634f83b08d99b3f667176d",
        "IPY_MODEL_80235734c218429eb5decb56e0a1f9a2"
       ],
       "layout": "IPY_MODEL_8247f48060994f32ac7e0de355dfd914"
      }
     },
     "8e3b1e20abb24833bb965a828c1fa1e1": {
      "model_module": "@jupyter-widgets/base",
      "model_module_version": "1.2.0",
      "model_name": "LayoutModel",
      "state": {
       "grid_area": "dircontent",
       "width": "auto"
      }
     },
     "8e48dd1ecdea44a3be155683f531b017": {
      "model_module": "@jupyter-widgets/controls",
      "model_module_version": "1.5.0",
      "model_name": "DescriptionStyleModel",
      "state": {
       "description_width": ""
      }
     },
     "8e6dbe7b1dd14bf190067d780430f520": {
      "model_module": "@jupyter-widgets/controls",
      "model_module_version": "1.5.0",
      "model_name": "DescriptionStyleModel",
      "state": {
       "description_width": ""
      }
     },
     "8e777b2c0b6f48e5961e974e223596d5": {
      "model_module": "@jupyter-widgets/controls",
      "model_module_version": "1.5.0",
      "model_name": "VBoxModel",
      "state": {
       "children": [
        "IPY_MODEL_5614fb9c32d644c3888ae98c1ad3c468",
        "IPY_MODEL_dbb8688d6bba4c2ea2364e695210c134",
        "IPY_MODEL_cd5c55df9c564419b95470038e340f01"
       ],
       "layout": "IPY_MODEL_6e9dc587c1f5447bbe7ab7294a3671be"
      }
     },
     "8eba27c12f2948ef948188e7d2fa4567": {
      "model_module": "@jupyter-widgets/base",
      "model_module_version": "1.2.0",
      "model_name": "LayoutModel",
      "state": {
       "display": "none",
       "width": "auto"
      }
     },
     "8ebefe2a4e694372b8c155878c78b56d": {
      "model_module": "@jupyter-widgets/controls",
      "model_module_version": "1.5.0",
      "model_name": "DescriptionStyleModel",
      "state": {
       "description_width": "initial"
      }
     },
     "8ef5403dab894d1f8997d18e10e1964c": {
      "model_module": "@jupyter-widgets/base",
      "model_module_version": "1.2.0",
      "model_name": "LayoutModel",
      "state": {
       "grid_area": "filename",
       "width": "auto"
      }
     },
     "8f49889a3b8a49c2970e9e340f4c753a": {
      "model_module": "@jupyter-widgets/controls",
      "model_module_version": "1.5.0",
      "model_name": "FloatTextModel",
      "state": {
       "description": "Max RAM (Gb)",
       "layout": "IPY_MODEL_35846430e4424f99b6c9efae7eba2294",
       "step": null,
       "style": "IPY_MODEL_c1168fbd20b948c1817e5c00036db5b5",
       "value": 2
      }
     },
     "8f69e9850f87440797db8673b9b02715": {
      "model_module": "@jupyter-widgets/base",
      "model_module_version": "1.2.0",
      "model_name": "LayoutModel",
      "state": {}
     },
     "8fa5f031f58c44e5a93e9e168089aae5": {
      "model_module": "@jupyter-widgets/controls",
      "model_module_version": "1.5.0",
      "model_name": "DescriptionStyleModel",
      "state": {
       "description_width": "initial"
      }
     },
     "8fb31c5c3e8542448207def3cb98ebca": {
      "model_module": "@jupyter-widgets/controls",
      "model_module_version": "1.5.0",
      "model_name": "DescriptionStyleModel",
      "state": {
       "description_width": "initial"
      }
     },
     "8fe405b928ec425d9c7bd2136062e8b2": {
      "model_module": "@jupyter-widgets/controls",
      "model_module_version": "1.5.0",
      "model_name": "ButtonStyleModel",
      "state": {}
     },
     "8ff7a205e3984fc998386247f874ac19": {
      "model_module": "@jupyter-widgets/controls",
      "model_module_version": "1.5.0",
      "model_name": "HTMLModel",
      "state": {
       "layout": "IPY_MODEL_5519363c2e3e4ab28e2031cbf9e89186",
       "placeholder": "",
       "style": "IPY_MODEL_2ad617dfd36c45bda95219cd41cb3cf0",
       "value": "<span style=\"margin-left:10px; color:black;\">No file selected</span>"
      }
     },
     "8ffd34daa9d64bb2a0def06556f5af3e": {
      "model_module": "@jupyter-widgets/base",
      "model_module_version": "1.2.0",
      "model_name": "LayoutModel",
      "state": {}
     },
     "902425f1dec74a2e91d6d7a7b44fe435": {
      "model_module": "@jupyter-widgets/controls",
      "model_module_version": "1.5.0",
      "model_name": "DescriptionStyleModel",
      "state": {
       "description_width": "initial"
      }
     },
     "904ca9959bd0426da73fdda332281d87": {
      "model_module": "@jupyter-widgets/base",
      "model_module_version": "1.2.0",
      "model_name": "LayoutModel",
      "state": {}
     },
     "905605c7087c466489c0a4bb68e3b863": {
      "model_module": "@jupyter-widgets/controls",
      "model_module_version": "1.5.0",
      "model_name": "ToggleButtonModel",
      "state": {
       "layout": "IPY_MODEL_593a30b6217c496f9651d4aefa3f1789",
       "style": "IPY_MODEL_7e1a059a47094475b0e9d54c7260dd20",
       "value": true
      }
     },
     "9070547132814c37862b64b2cf42ae65": {
      "model_module": "@jupyter-widgets/controls",
      "model_module_version": "1.5.0",
      "model_name": "ButtonStyleModel",
      "state": {}
     },
     "907161d40ae3447085564655cd4b2299": {
      "model_module": "@jupyter-widgets/controls",
      "model_module_version": "1.5.0",
      "model_name": "DropdownModel",
      "state": {
       "_options_labels": [
        "C:\\Users\\dominiquef\\Documents\\GIT\\mira\\mirageoscience-apps\\docs\\content\\applications",
        "C:\\Users\\dominiquef\\Documents\\GIT\\mira\\mirageoscience-apps\\docs\\content",
        "C:\\Users\\dominiquef\\Documents\\GIT\\mira\\mirageoscience-apps\\docs",
        "C:\\Users\\dominiquef\\Documents\\GIT\\mira\\mirageoscience-apps",
        "C:\\Users\\dominiquef\\Documents\\GIT\\mira",
        "C:\\Users\\dominiquef\\Documents\\GIT",
        "C:\\Users\\dominiquef\\Documents",
        "C:\\Users\\dominiquef",
        "C:\\Users",
        "C:\\",
        "D:\\",
        "Z:\\"
       ],
       "index": 0,
       "layout": "IPY_MODEL_c4333e23f06a49ca850c2f0205f932ca",
       "style": "IPY_MODEL_5cdecc3f91ff49edb4dc2a889d769848"
      }
     },
     "90d5b64f35fd4e9f971abbe9a3f832eb": {
      "model_module": "@jupyter-widgets/base",
      "model_module_version": "1.2.0",
      "model_name": "LayoutModel",
      "state": {}
     },
     "91082e0787fd49b7826dad53102de710": {
      "model_module": "@jupyter-widgets/base",
      "model_module_version": "1.2.0",
      "model_name": "LayoutModel",
      "state": {}
     },
     "9116bb054dcc4df795137d7943c4fc7a": {
      "model_module": "@jupyter-widgets/controls",
      "model_module_version": "1.5.0",
      "model_name": "HTMLModel",
      "state": {
       "layout": "IPY_MODEL_7aae623f886e47c48396cf8e2a9774c9",
       "placeholder": "",
       "style": "IPY_MODEL_2a240bde69f54a30a88a8b44cf74c6b4",
       "value": "<span style=\"margin-left:10px; color:black;\">No file selected</span>"
      }
     },
     "91360068cff24dc1899c184f8199437d": {
      "model_module": "@jupyter-widgets/controls",
      "model_module_version": "1.5.0",
      "model_name": "LabelModel",
      "state": {
       "layout": "IPY_MODEL_54719905abeb454b874b7deb84cd3dfd",
       "style": "IPY_MODEL_e0ca19e4365e432192d835a30bb6f429",
       "value": "Workspace"
      }
     },
     "9143946caf194ac48a0c2fa32c7ddf37": {
      "model_module": "@jupyter-widgets/controls",
      "model_module_version": "1.5.0",
      "model_name": "DescriptionStyleModel",
      "state": {
       "description_width": "initial"
      }
     },
     "914dcaf845ec49c793747748e67614f8": {
      "model_module": "@jupyter-widgets/base",
      "model_module_version": "1.2.0",
      "model_name": "LayoutModel",
      "state": {}
     },
     "91514c27b6804a518db71c581c295065": {
      "model_module": "@jupyter-widgets/controls",
      "model_module_version": "1.5.0",
      "model_name": "FloatTextModel",
      "state": {
       "description": "SI",
       "layout": "IPY_MODEL_cbf3a5bfdf8a495c83313147c40c95bf",
       "step": null,
       "style": "IPY_MODEL_149062197a97490dae4f43e4d2e45a25"
      }
     },
     "91a8e9380d454322bf0745b424ca9e59": {
      "model_module": "@jupyter-widgets/controls",
      "model_module_version": "1.5.0",
      "model_name": "ButtonModel",
      "state": {
       "description": "Select",
       "layout": "IPY_MODEL_6e3221a3205b400b8e37f03a862675eb",
       "style": "IPY_MODEL_f1d10d1b390c4d5cb3d9d22e93d5d1db"
      }
     },
     "91be1f192f234887bb0c853d918a3fc8": {
      "model_module": "@jupyter-widgets/controls",
      "model_module_version": "1.5.0",
      "model_name": "FloatTextModel",
      "state": {
       "description": "SI",
       "layout": "IPY_MODEL_a68fde875cde4f2d97e06c5b54e4740c",
       "step": null,
       "style": "IPY_MODEL_32c485298e3b40c58c32fe1e16bb1076",
       "value": 0.0001
      }
     },
     "91bfdc185e2f472c9187ce7331a6a871": {
      "model_module": "@jupyter-widgets/controls",
      "model_module_version": "1.5.0",
      "model_name": "DescriptionStyleModel",
      "state": {
       "description_width": ""
      }
     },
     "924c085693b7439e8ed53b918b8785cf": {
      "model_module": "@jupyter-widgets/base",
      "model_module_version": "1.2.0",
      "model_name": "LayoutModel",
      "state": {}
     },
     "925289b43e6043c5949c54e0f4ecea99": {
      "model_module": "@jupyter-widgets/base",
      "model_module_version": "1.2.0",
      "model_name": "LayoutModel",
      "state": {}
     },
     "92530041c43e4663bbefbae849efb115": {
      "model_module": "@jupyter-widgets/controls",
      "model_module_version": "1.5.0",
      "model_name": "GridBoxModel",
      "state": {
       "children": [
        "IPY_MODEL_09cb61bca1854700806d13e913901483",
        "IPY_MODEL_4d6897076dce408fa0587f95fc3fa907",
        "IPY_MODEL_415bbf2d436b402683f7ffb5279dfc25"
       ],
       "layout": "IPY_MODEL_21a290cd437a475f8087b4b549180826"
      }
     },
     "925aec604dd3467ba7b83ca6d40cd25e": {
      "model_module": "@jupyter-widgets/controls",
      "model_module_version": "1.5.0",
      "model_name": "VBoxModel",
      "state": {
       "children": [
        "IPY_MODEL_d7e85eddd1c9411c82413195583c7d93",
        "IPY_MODEL_7e4a9a30b8b5430bb5e5a213aa1d5350"
       ],
       "layout": "IPY_MODEL_52b1eca62f0a47d1959d1606ccb3d236"
      }
     },
     "9261ffdd6d7749429c073417c05d7466": {
      "model_module": "@jupyter-widgets/controls",
      "model_module_version": "1.5.0",
      "model_name": "HTMLModel",
      "state": {
       "layout": "IPY_MODEL_083693116d3a45da9d0b59236756e6be",
       "style": "IPY_MODEL_3f753f693aae4cd6ae61c3129d2a718b"
      }
     },
     "9278a14961074ff19fc9b047db27337e": {
      "model_module": "@jupyter-widgets/base",
      "model_module_version": "1.2.0",
      "model_name": "LayoutModel",
      "state": {}
     },
     "92794d5fb399474ba8b7cda8fdd63088": {
      "model_module": "@jupyter-widgets/controls",
      "model_module_version": "1.5.0",
      "model_name": "DescriptionStyleModel",
      "state": {
       "description_width": ""
      }
     },
     "927ef16217af4f808b6ff25a9530e7d2": {
      "model_module": "@jupyter-widgets/controls",
      "model_module_version": "1.5.0",
      "model_name": "DescriptionStyleModel",
      "state": {
       "description_width": ""
      }
     },
     "928188a4f6564a21b2f22b391cc6f9c8": {
      "model_module": "@jupyter-widgets/controls",
      "model_module_version": "1.5.0",
      "model_name": "VBoxModel",
      "state": {
       "children": [
        "IPY_MODEL_47f5a5ed78e14276a5666bcea59b663f",
        "IPY_MODEL_29bd6b6361384c06a5758812a10b2b26"
       ],
       "layout": "IPY_MODEL_7d58329214d64e4683dc1a06f50e7d8c"
      }
     },
     "928bbe1e86524772af43467e9174fd20": {
      "model_module": "@jupyter-widgets/controls",
      "model_module_version": "1.5.0",
      "model_name": "ButtonModel",
      "state": {
       "button_style": "danger",
       "description": "Compute",
       "icon": "check",
       "layout": "IPY_MODEL_642498f5601c40d98b3540b9afc29d7f",
       "style": "IPY_MODEL_bbc067c35d08417f98e1f148b683513d",
       "tooltip": "Run computation"
      }
     },
     "92c206d25e3e4520bc7065db427eef77": {
      "model_module": "@jupyter-widgets/base",
      "model_module_version": "1.2.0",
      "model_name": "LayoutModel",
      "state": {
       "width": "auto"
      }
     },
     "92d8accd1ff241519ed7e73583638372": {
      "model_module": "@jupyter-widgets/controls",
      "model_module_version": "1.5.0",
      "model_name": "DescriptionStyleModel",
      "state": {
       "description_width": ""
      }
     },
     "92ea3ff0d82047ed8e6b666d39205733": {
      "model_module": "@jupyter-widgets/controls",
      "model_module_version": "1.5.0",
      "model_name": "DropdownModel",
      "state": {
       "_options_labels": [
        "",
        "--- Channels ---",
        "elevation",
        "Z"
       ],
       "description": "Data: ",
       "index": 2,
       "layout": "IPY_MODEL_ddc8961a7c9843999df090db13ced613",
       "style": "IPY_MODEL_135232a08e96423f8651f9d58f4d8c68"
      }
     },
     "92fca49e6d00415480d89bb25c3ba07f": {
      "model_module": "@jupyter-widgets/base",
      "model_module_version": "1.2.0",
      "model_name": "LayoutModel",
      "state": {}
     },
     "9302b000e9b64f56b270391d1db90bc4": {
      "model_module": "@jupyter-widgets/controls",
      "model_module_version": "1.5.0",
      "model_name": "ButtonModel",
      "state": {
       "description": "Cancel",
       "layout": "IPY_MODEL_73e6e12e04334a42892ee7cb04195998",
       "style": "IPY_MODEL_527fe96380b746eeaf60108b126d3a59"
      }
     },
     "93073e5576e544bf96c8c0deb08e0c25": {
      "model_module": "@jupyter-widgets/controls",
      "model_module_version": "1.5.0",
      "model_name": "DescriptionStyleModel",
      "state": {
       "description_width": ""
      }
     },
     "9347534d7d7f43718a364f6e6de8a384": {
      "model_module": "@jupyter-widgets/controls",
      "model_module_version": "1.5.0",
      "model_name": "CheckboxModel",
      "state": {
       "description": "Active",
       "disabled": false,
       "layout": "IPY_MODEL_103386da628c42d28fc8434892dc076b",
       "style": "IPY_MODEL_cccf322600d64c41ac7e5e607249e330",
       "value": false
      }
     },
     "938eed7c272a4abb867de7bbafd37c3a": {
      "model_module": "@jupyter-widgets/base",
      "model_module_version": "1.2.0",
      "model_name": "LayoutModel",
      "state": {}
     },
     "9399d3ac29184a77b583346db40a9226": {
      "model_module": "@jupyter-widgets/base",
      "model_module_version": "1.2.0",
      "model_name": "LayoutModel",
      "state": {}
     },
     "93a5e6d1f18a4e30a55f0e6b2c6c8d29": {
      "model_module": "@jupyter-widgets/controls",
      "model_module_version": "1.5.0",
      "model_name": "DescriptionStyleModel",
      "state": {
       "description_width": ""
      }
     },
     "93d0a72db82f479d8c036ae134f536dc": {
      "model_module": "@jupyter-widgets/controls",
      "model_module_version": "1.5.0",
      "model_name": "ButtonStyleModel",
      "state": {}
     },
     "93f0efa0097542eca038c3c23020875c": {
      "model_module": "@jupyter-widgets/controls",
      "model_module_version": "1.5.0",
      "model_name": "VBoxModel",
      "state": {
       "children": [
        "IPY_MODEL_018d4c6a942342ebaf651dad724f1878",
        "IPY_MODEL_2a0c8349e2f54976aaac7640d1b51b70"
       ],
       "layout": "IPY_MODEL_ff9682dda0904896849f5ba8e5f4aa1c"
      }
     },
     "9433c8015f1e4a3e89a563feb32e7ecd": {
      "model_module": "@jupyter-widgets/controls",
      "model_module_version": "1.5.0",
      "model_name": "ButtonStyleModel",
      "state": {}
     },
     "9438df172f8c4d7db8e53b1bd6cb5781": {
      "model_module": "@jupyter-widgets/base",
      "model_module_version": "1.2.0",
      "model_name": "LayoutModel",
      "state": {}
     },
     "943c053fe53c4368a509ecdc0cf8d4da": {
      "model_module": "@jupyter-widgets/base",
      "model_module_version": "1.2.0",
      "model_name": "LayoutModel",
      "state": {}
     },
     "949136348ae54861a3c3b0f06baa92dc": {
      "model_module": "@jupyter-widgets/controls",
      "model_module_version": "1.5.0",
      "model_name": "DescriptionStyleModel",
      "state": {
       "description_width": ""
      }
     },
     "94a6e31eaa8349f1b1ee06b250b32e3d": {
      "model_module": "@jupyter-widgets/controls",
      "model_module_version": "1.5.0",
      "model_name": "SelectModel",
      "state": {
       "_options_labels": [
        "..",
        "images"
       ],
       "index": null,
       "layout": "IPY_MODEL_9d2ff4749c9f4a5abca1ccfcfcd0d200",
       "rows": 8,
       "style": "IPY_MODEL_9b8561b7f00b4820a8fd7c1c0c8f3d84"
      }
     },
     "94fc31a818cb44f3b3f599804f971d7d": {
      "model_module": "@jupyter-widgets/controls",
      "model_module_version": "1.5.0",
      "model_name": "DescriptionStyleModel",
      "state": {
       "description_width": ""
      }
     },
     "952e841d1e8f4254a4780028432dc480": {
      "model_module": "@jupyter-widgets/controls",
      "model_module_version": "1.5.0",
      "model_name": "DropdownModel",
      "state": {
       "_options_labels": [
        "C:\\Users\\dominiquef\\Documents\\GIT\\RichardScottOZ\\geoapps\\docs\\content\\applications",
        "C:\\Users\\dominiquef\\Documents\\GIT\\RichardScottOZ\\geoapps\\docs\\content",
        "C:\\Users\\dominiquef\\Documents\\GIT\\RichardScottOZ\\geoapps\\docs",
        "C:\\Users\\dominiquef\\Documents\\GIT\\RichardScottOZ\\geoapps",
        "C:\\Users\\dominiquef\\Documents\\GIT\\RichardScottOZ",
        "C:\\Users\\dominiquef\\Documents\\GIT",
        "C:\\Users\\dominiquef\\Documents",
        "C:\\Users\\dominiquef",
        "C:\\Users",
        "C:\\",
        "D:\\",
        "Z:\\"
       ],
       "index": 0,
       "layout": "IPY_MODEL_f64471617e9a4d4686ee3cd257a8c368",
       "style": "IPY_MODEL_a399dacb52a6488eb37c115cc5211efa"
      }
     },
     "95322f0683d542e583f9b78b749b0cb7": {
      "model_module": "@jupyter-widgets/base",
      "model_module_version": "1.2.0",
      "model_name": "LayoutModel",
      "state": {}
     },
     "953441bc9433408d852259c2ac8edd6f": {
      "model_module": "@jupyter-widgets/base",
      "model_module_version": "1.2.0",
      "model_name": "LayoutModel",
      "state": {}
     },
     "955e5da80d2446218099769d2dbf0f01": {
      "model_module": "@jupyter-widgets/controls",
      "model_module_version": "1.5.0",
      "model_name": "DescriptionStyleModel",
      "state": {
       "description_width": ""
      }
     },
     "956ee1f7f4894b6d8b3f01d53cb60ad4": {
      "model_module": "@jupyter-widgets/controls",
      "model_module_version": "1.5.0",
      "model_name": "VBoxModel",
      "state": {
       "children": [
        "IPY_MODEL_d6b45fc3cfda459ba07cd7b067e1505a",
        "IPY_MODEL_4bc4cec658a245b4b27800a8e410ce9f",
        "IPY_MODEL_5f3770fb24604902a1c22f4b5473c9fd"
       ],
       "layout": "IPY_MODEL_f7656cdcfc9f49f8930cc61e21b7b4ec"
      }
     },
     "9575814ac11d46e784eacc8185e2bf9f": {
      "model_module": "@jupyter-widgets/base",
      "model_module_version": "1.2.0",
      "model_name": "LayoutModel",
      "state": {
       "grid_area": "dircontent",
       "width": "auto"
      }
     },
     "9589fc88c1494d9aaf03775e45bb12ca": {
      "model_module": "@jupyter-widgets/controls",
      "model_module_version": "1.5.0",
      "model_name": "GridBoxModel",
      "state": {
       "children": [
        "IPY_MODEL_ebdd14c5ab5e4adbb7a7f03ebec36698",
        "IPY_MODEL_70987a5be18646b9a606695325c9bce0",
        "IPY_MODEL_d4b2042697cc451f9d86742774aca7d5"
       ],
       "layout": "IPY_MODEL_416e6e7e984941e0badea5abdae546bc"
      }
     },
     "95b6c526d8fb405eb8c460d97b762f17": {
      "model_module": "@jupyter-widgets/controls",
      "model_module_version": "1.5.0",
      "model_name": "ButtonStyleModel",
      "state": {}
     },
     "95e39b8b69694f87b0b7374eaea6acec": {
      "model_module": "@jupyter-widgets/base",
      "model_module_version": "1.2.0",
      "model_name": "LayoutModel",
      "state": {}
     },
     "9602ba97346f40949c83db04c829a2ae": {
      "model_module": "@jupyter-widgets/controls",
      "model_module_version": "1.5.0",
      "model_name": "ButtonStyleModel",
      "state": {}
     },
     "961336ab413847e592f2c6cf5d60b859": {
      "model_module": "@jupyter-widgets/controls",
      "model_module_version": "1.5.0",
      "model_name": "ButtonStyleModel",
      "state": {}
     },
     "961c9aa184f8435fb3573c88882e047d": {
      "model_module": "@jupyter-widgets/controls",
      "model_module_version": "1.5.0",
      "model_name": "CheckboxModel",
      "state": {
       "description": "GA Pro - Live link",
       "disabled": false,
       "indent": false,
       "layout": "IPY_MODEL_b7d0cd6ebead4237a1279e1f53ccf46f",
       "style": "IPY_MODEL_35bfc664fb01447390cb9fb47eb35807",
       "value": false
      }
     },
     "9688ecdc57c741e9b42468a1a6bf3600": {
      "model_module": "@jupyter-widgets/base",
      "model_module_version": "1.2.0",
      "model_name": "LayoutModel",
      "state": {}
     },
     "96b378853bcc45c68522c5f3d4964008": {
      "model_module": "@jupyter-widgets/controls",
      "model_module_version": "1.5.0",
      "model_name": "VBoxModel",
      "state": {
       "children": [
        "IPY_MODEL_0897132ab2574733af21ebc53a29ed80",
        "IPY_MODEL_421ded201ffa4ac89542117568472606",
        "IPY_MODEL_9caa69857ba54849be9feb0bd893249e",
        "IPY_MODEL_8db08b7ca56f4da3af490c5237e20499",
        "IPY_MODEL_d0b42f68f4c74b97bdf2ab77b15e2525",
        "IPY_MODEL_d984ce2d90b543b9b7a8cccc96b47a9a",
        "IPY_MODEL_af56532c6ae94495a36a5be4ff4a9535"
       ],
       "layout": "IPY_MODEL_c3bab7ccd7e44933a269b114cf3ae52e"
      }
     },
     "96b51b61fe1b4c4dac44da780c6facb8": {
      "model_module": "@jupyter-widgets/controls",
      "model_module_version": "1.5.0",
      "model_name": "DescriptionStyleModel",
      "state": {
       "description_width": "initial"
      }
     },
     "96cac2a8ad484f45907a2d4dfd74dd28": {
      "model_module": "@jupyter-widgets/base",
      "model_module_version": "1.2.0",
      "model_name": "LayoutModel",
      "state": {}
     },
     "96d2c19c77664afa8c0a960350442656": {
      "model_module": "@jupyter-widgets/base",
      "model_module_version": "1.2.0",
      "model_name": "LayoutModel",
      "state": {
       "display": "none",
       "width": "auto"
      }
     },
     "96f56ddfcafe4b3493d95a7e933f7552": {
      "model_module": "@jupyter-widgets/controls",
      "model_module_version": "1.5.0",
      "model_name": "DescriptionStyleModel",
      "state": {
       "description_width": ""
      }
     },
     "972286efc6e946d6857a228be60a6300": {
      "model_module": "@jupyter-widgets/controls",
      "model_module_version": "1.5.0",
      "model_name": "DescriptionStyleModel",
      "state": {
       "description_width": ""
      }
     },
     "974222caf75644a792a030e9fd67fcb2": {
      "model_module": "@jupyter-widgets/controls",
      "model_module_version": "1.5.0",
      "model_name": "HTMLModel",
      "state": {
       "layout": "IPY_MODEL_4eac15c19dfc4c18b8d5ff62680d1860",
       "style": "IPY_MODEL_838ace60a2174f15abc464b912aab464"
      }
     },
     "9742e3dfb2604673b3fbfa0d2d7bfe31": {
      "model_module": "@jupyter-widgets/base",
      "model_module_version": "1.2.0",
      "model_name": "LayoutModel",
      "state": {
       "display": "none",
       "grid_area": "filename",
       "width": "auto"
      }
     },
     "9756e4f3071d47a4b079795c1faf371f": {
      "model_module": "@jupyter-widgets/base",
      "model_module_version": "1.2.0",
      "model_name": "LayoutModel",
      "state": {
       "display": "none",
       "width": "auto"
      }
     },
     "97795b2f8d47412a9bb4695d4ede5992": {
      "model_module": "@jupyter-widgets/base",
      "model_module_version": "1.2.0",
      "model_name": "LayoutModel",
      "state": {}
     },
     "978e8befb89940f3a11ad955c3b4b3e0": {
      "model_module": "@jupyter-widgets/base",
      "model_module_version": "1.2.0",
      "model_name": "LayoutModel",
      "state": {}
     },
     "97a1ff4a219b413f904d722bdfad0f7f": {
      "model_module": "@jupyter-widgets/controls",
      "model_module_version": "1.5.0",
      "model_name": "TextModel",
      "state": {
       "disabled": true,
       "layout": "IPY_MODEL_9742e3dfb2604673b3fbfa0d2d7bfe31",
       "placeholder": "output filename",
       "style": "IPY_MODEL_0329869d72fc45cdaeb9047180ce6ee7"
      }
     },
     "97e2072803cd4b09aff45fcceeacf1ad": {
      "model_module": "@jupyter-widgets/controls",
      "model_module_version": "1.5.0",
      "model_name": "ButtonModel",
      "state": {
       "button_style": "danger",
       "description": "Compute",
       "icon": "check",
       "layout": "IPY_MODEL_d122afd3e2b64a45bd135c54f36c4554",
       "style": "IPY_MODEL_9f8bcc16c9464543af63537a37c212bf",
       "tooltip": "Run computation"
      }
     },
     "981a97f48fff4797990f9f8598da6230": {
      "model_module": "@jupyter-widgets/base",
      "model_module_version": "1.2.0",
      "model_name": "LayoutModel",
      "state": {}
     },
     "981b18788a10416d889ac2652275f079": {
      "model_module": "@jupyter-widgets/base",
      "model_module_version": "1.2.0",
      "model_name": "LayoutModel",
      "state": {}
     },
     "9822f5abd05843d6b29f5da4acf5770e": {
      "model_module": "@jupyter-widgets/controls",
      "model_module_version": "1.5.0",
      "model_name": "ButtonStyleModel",
      "state": {}
     },
     "9842289d27dc4cd8bbce7cb8d284922f": {
      "model_module": "@jupyter-widgets/base",
      "model_module_version": "1.2.0",
      "model_name": "LayoutModel",
      "state": {
       "width": "auto"
      }
     },
     "9846a6132982456fbce9e876a9a65a31": {
      "model_module": "@jupyter-widgets/controls",
      "model_module_version": "1.5.0",
      "model_name": "FloatSliderModel",
      "state": {
       "continuous_update": false,
       "description": "Azimuth",
       "layout": "IPY_MODEL_943c053fe53c4368a509ecdc0cf8d4da",
       "max": 90,
       "min": -90,
       "step": 5,
       "style": "IPY_MODEL_738bc12900124acf958ed6ef240146b9",
       "value": -20
      }
     },
     "9856b3a35f4640269782fbb8053e7a93": {
      "model_module": "@jupyter-widgets/controls",
      "model_module_version": "1.5.0",
      "model_name": "DescriptionStyleModel",
      "state": {
       "description_width": "initial"
      }
     },
     "98682ba27fc9452597681e313f4320cb": {
      "model_module": "@jupyter-widgets/base",
      "model_module_version": "1.2.0",
      "model_name": "LayoutModel",
      "state": {
       "visibility": "hidden"
      }
     },
     "989cf9e3b6a149eb838ce4457bdc549a": {
      "model_module": "@jupyter-widgets/controls",
      "model_module_version": "1.5.0",
      "model_name": "VBoxModel",
      "state": {
       "children": [
        "IPY_MODEL_87359f5b012c403a936e05165155c777",
        "IPY_MODEL_12de35da529f427494e1568975104526"
       ],
       "layout": "IPY_MODEL_d89e07164f8848718d6c9caae0783d9c"
      }
     },
     "98a4f44f94254875845732f439d5a0aa": {
      "model_module": "@jupyter-widgets/controls",
      "model_module_version": "1.5.0",
      "model_name": "DescriptionStyleModel",
      "state": {
       "description_width": ""
      }
     },
     "98b4dbaedd8349c1a760496e1bed8030": {
      "model_module": "@jupyter-widgets/controls",
      "model_module_version": "1.5.0",
      "model_name": "VBoxModel",
      "state": {
       "children": [
        "IPY_MODEL_02a5061a8fcc4789979224378af381c7",
        "IPY_MODEL_01f461d7dbd8426f86ea710147e2e1f3"
       ],
       "layout": "IPY_MODEL_4a0a56f2a070422cb7eefa1e6128e60a"
      }
     },
     "98bf2ef3c55e427198b0929c0c3b5d9a": {
      "model_module": "@jupyter-widgets/controls",
      "model_module_version": "1.5.0",
      "model_name": "LabelModel",
      "state": {
       "layout": "IPY_MODEL_0e291ce5db0e4fc8a7c571075dbdbcfc",
       "style": "IPY_MODEL_ff59029ec61a461cb1c48ffb0469ddb3",
       "value": "No topography"
      }
     },
     "98cd387e92b940af891a0d745a4d5b6f": {
      "model_module": "@jupyter-widgets/controls",
      "model_module_version": "1.5.0",
      "model_name": "SliderStyleModel",
      "state": {
       "description_width": "initial"
      }
     },
     "98dce7b671814a97b07f85799487bda0": {
      "model_module": "@jupyter-widgets/base",
      "model_module_version": "1.2.0",
      "model_name": "LayoutModel",
      "state": {
       "visibility": "hidden"
      }
     },
     "9927c433f9ca4c7984871000721275ea": {
      "model_module": "@jupyter-widgets/controls",
      "model_module_version": "1.5.0",
      "model_name": "HBoxModel",
      "state": {
       "children": [
        "IPY_MODEL_7e665ad52a36412381f994ac6c306755",
        "IPY_MODEL_37e7fabaf13d4d14b4bd198ed12c19a5",
        "IPY_MODEL_50ac1f41ff624aff84df61e5a212c678"
       ],
       "layout": "IPY_MODEL_7abde23351aa4a63a83721e9542b4418"
      }
     },
     "995b807715c24020a143e21a01c2d9a3": {
      "model_module": "@jupyter-widgets/base",
      "model_module_version": "1.2.0",
      "model_name": "LayoutModel",
      "state": {}
     },
     "99615aaeff0d4aea99a86b55333dfcaf": {
      "model_module": "@jupyter-widgets/base",
      "model_module_version": "1.2.0",
      "model_name": "LayoutModel",
      "state": {
       "display": "none",
       "grid_area": "filename",
       "width": "auto"
      }
     },
     "997182002dad4c84b04cb0d0809b4c1c": {
      "model_module": "@jupyter-widgets/controls",
      "model_module_version": "1.5.0",
      "model_name": "LabelModel",
      "state": {
       "layout": "IPY_MODEL_ae85b496bc044208941c2939a48ddc87",
       "style": "IPY_MODEL_bdb3b02dc9724906bdc2e689b1c54a39",
       "value": "Monitoring folder"
      }
     },
     "998a78c2ba53495b9e74d029367a4e58": {
      "model_module": "@jupyter-widgets/controls",
      "model_module_version": "1.5.0",
      "model_name": "DescriptionStyleModel",
      "state": {
       "description_width": "initial"
      }
     },
     "99d0c1623d214b6d994e0f31af0da841": {
      "model_module": "@jupyter-widgets/base",
      "model_module_version": "1.2.0",
      "model_name": "LayoutModel",
      "state": {
       "width": "auto"
      }
     },
     "99ec6b1ba8aa4ad4b14a3549e09f49dd": {
      "model_module": "@jupyter-widgets/controls",
      "model_module_version": "1.5.0",
      "model_name": "DescriptionStyleModel",
      "state": {
       "description_width": "initial"
      }
     },
     "99eddf9e2f5e443da8c9317c0776837b": {
      "model_module": "@jupyter-widgets/base",
      "model_module_version": "1.2.0",
      "model_name": "LayoutModel",
      "state": {}
     },
     "9a196bfbecd8463cb58f6bb7929693f9": {
      "model_module": "@jupyter-widgets/controls",
      "model_module_version": "1.5.0",
      "model_name": "TextModel",
      "state": {
       "description": "Offsets (x,y,z)",
       "layout": "IPY_MODEL_6b4266d76d61489fbf46374a3808a37e",
       "style": "IPY_MODEL_70b43defd4c34e7ca45ab68b5bd34be9",
       "value": "0, 0, 0"
      }
     },
     "9a5eee23fb04447ab8f92917f9bd41b5": {
      "model_module": "@jupyter-widgets/controls",
      "model_module_version": "1.5.0",
      "model_name": "VBoxModel",
      "state": {
       "children": [
        "IPY_MODEL_bfae0d7e07f64c1d959dab812c1f49bd",
        "IPY_MODEL_f45574d8becf451ab70f7cdec708b3dd"
       ],
       "layout": "IPY_MODEL_295a939922a94f53b0c6a4d1750a25ab"
      }
     },
     "9a779180a97f4714ace2763e6d7b99b9": {
      "model_module": "@jupyter-widgets/controls",
      "model_module_version": "1.5.0",
      "model_name": "VBoxModel",
      "state": {
       "children": [
        "IPY_MODEL_fa4431468c8b421c9de048c3a608111f",
        "IPY_MODEL_d771b658c31a45d39cc203b188982e24",
        "IPY_MODEL_e5f2f681a12d45c3ad0d2e5573b2b5b3",
        "IPY_MODEL_31d2795d61d649fda18fdb3e1d48d446",
        "IPY_MODEL_01e0982f6660420eba595848d9709238"
       ],
       "layout": "IPY_MODEL_d6b60ca4ed7748c19f5289408308fa96"
      }
     },
     "9a9258dc066a4cbb9a86619300c5b40e": {
      "model_module": "@jupyter-widgets/controls",
      "model_module_version": "1.5.0",
      "model_name": "DescriptionStyleModel",
      "state": {
       "description_width": ""
      }
     },
     "9ab1a1cabd2f470fbee26534d20e19e5": {
      "model_module": "@jupyter-widgets/controls",
      "model_module_version": "1.5.0",
      "model_name": "DescriptionStyleModel",
      "state": {
       "description_width": ""
      }
     },
     "9ac537d4f7094878ac50e1780c2e2734": {
      "model_module": "@jupyter-widgets/controls",
      "model_module_version": "1.5.0",
      "model_name": "LabelModel",
      "state": {
       "layout": "IPY_MODEL_d9dffcb57bf04bcea474f5361f05a42f",
       "style": "IPY_MODEL_b94c9ed3282240718743b726ffa416f2",
       "value": "Topo, Sensor and Line Location Options"
      }
     },
     "9ad02c4c0a7a47ca93e903666d17302c": {
      "model_module": "@jupyter-widgets/controls",
      "model_module_version": "1.5.0",
      "model_name": "SelectModel",
      "state": {
       "_options_labels": [
        "..",
        "images",
        "base_application.ipynb",
        "calculator.ipynb",
        "clustering.ipynb",
        "contouring.ipynb",
        "coordinate_transformation.ipynb",
        "create_isosurface.ipynb",
        "create_surface.ipynb",
        "data_interpolation.ipynb",
        "edge_detection.ipynb",
        "export.ipynb",
        "geophysical_inversion.ipynb",
        "object_data_selection.ipynb",
        "octree_mesh_creation.png",
        "peak_finder.ipynb",
        "scatter.ipynb",
        "view_selection.ipynb"
       ],
       "index": null,
       "layout": "IPY_MODEL_7266e931945d4edc927c8343b9262427",
       "rows": 8,
       "style": "IPY_MODEL_a21ee9ad56884ddcb77ba42af59922a0"
      }
     },
     "9ad4df3b48534db793faa39d27da8996": {
      "model_module": "@jupyter-widgets/controls",
      "model_module_version": "1.5.0",
      "model_name": "DescriptionStyleModel",
      "state": {
       "description_width": ""
      }
     },
     "9ad899d9dd31401c82edabcabda19251": {
      "model_module": "@jupyter-widgets/base",
      "model_module_version": "1.2.0",
      "model_name": "LayoutModel",
      "state": {}
     },
     "9b0b908703b34700be4c6896cae8052a": {
      "model_module": "@jupyter-widgets/controls",
      "model_module_version": "1.5.0",
      "model_name": "VBoxModel",
      "state": {
       "children": [
        "IPY_MODEL_b6e37033336c4e91b906ce889681639b",
        "IPY_MODEL_8513c2308b7d4bf98fc20b5a24d4413d"
       ],
       "layout": "IPY_MODEL_09f5c1660fe64cd983319b45956ee69c"
      }
     },
     "9b22dfd9eb5347ab86021b78f2866d46": {
      "model_module": "@jupyter-widgets/controls",
      "model_module_version": "1.5.0",
      "model_name": "VBoxModel",
      "state": {
       "children": [
        "IPY_MODEL_0ad18d9c0f29489b8281ed6e69727591",
        "IPY_MODEL_cd35c206ce6541d6b1ec811d883ed755"
       ],
       "layout": "IPY_MODEL_005a5a7b66844671a5dd846c9e293f66"
      }
     },
     "9b2834215ff14f17ab5c2c44d1664628": {
      "model_module": "@jupyter-widgets/base",
      "model_module_version": "1.2.0",
      "model_name": "LayoutModel",
      "state": {}
     },
     "9b6a786318fd47b3b3c6c4a48a484fe3": {
      "model_module": "@jupyter-widgets/base",
      "model_module_version": "1.2.0",
      "model_name": "LayoutModel",
      "state": {}
     },
     "9b78d48127074af4b7f2280b3a6ed436": {
      "model_module": "@jupyter-widgets/controls",
      "model_module_version": "1.5.0",
      "model_name": "DropdownModel",
      "state": {
       "_options_labels": [
        "C:\\Users\\dominiquef\\Documents\\GIT\\RichardScottOZ\\geoapps\\docs\\content\\applications",
        "C:\\Users\\dominiquef\\Documents\\GIT\\RichardScottOZ\\geoapps\\docs\\content",
        "C:\\Users\\dominiquef\\Documents\\GIT\\RichardScottOZ\\geoapps\\docs",
        "C:\\Users\\dominiquef\\Documents\\GIT\\RichardScottOZ\\geoapps",
        "C:\\Users\\dominiquef\\Documents\\GIT\\RichardScottOZ",
        "C:\\Users\\dominiquef\\Documents\\GIT",
        "C:\\Users\\dominiquef\\Documents",
        "C:\\Users\\dominiquef",
        "C:\\Users",
        "C:\\",
        "D:\\",
        "Z:\\"
       ],
       "index": 0,
       "layout": "IPY_MODEL_a6c44e4e16e14814b48ed31f6dab5cac",
       "style": "IPY_MODEL_6820eec5bc5847d09a186fb1e584c483"
      }
     },
     "9b7ef5c409274f57bcc875d61cb22366": {
      "model_module": "@jupyter-widgets/controls",
      "model_module_version": "1.5.0",
      "model_name": "VBoxModel",
      "state": {
       "children": [
        "IPY_MODEL_4aba720a1c6b4227bfda18f0bbe24770",
        "IPY_MODEL_d50cfcf0f2824076b7872f7cc29c10b9"
       ],
       "layout": "IPY_MODEL_d4c005ef967a42a59d4d2068e057db30"
      }
     },
     "9b8561b7f00b4820a8fd7c1c0c8f3d84": {
      "model_module": "@jupyter-widgets/controls",
      "model_module_version": "1.5.0",
      "model_name": "DescriptionStyleModel",
      "state": {
       "description_width": ""
      }
     },
     "9bce0e6f0ff449198b2bd25e079e12b8": {
      "model_module": "@jupyter-widgets/base",
      "model_module_version": "1.2.0",
      "model_name": "LayoutModel",
      "state": {}
     },
     "9bd89d3daee040a4b230196de923e7d1": {
      "model_module": "@jupyter-widgets/controls",
      "model_module_version": "1.5.0",
      "model_name": "HBoxModel",
      "state": {
       "children": [
        "IPY_MODEL_b397acb1534d454ea94a0e759aa50dbb",
        "IPY_MODEL_e534e0bc5b154516bcbdefc9236fe4fe",
        "IPY_MODEL_b1c5715a96644771bb75328d9178de42"
       ],
       "layout": "IPY_MODEL_67b97ea0416d4e05b797c2a34a3f5050"
      }
     },
     "9be924d7637f4bea9bb97d76b3a67a74": {
      "model_module": "@jupyter-widgets/controls",
      "model_module_version": "1.5.0",
      "model_name": "DropdownModel",
      "state": {
       "_options_labels": [
        "",
        "--- Channels ---",
        "Airborne_Gxx",
        "Airborne_Gxy",
        "Airborne_Gxz",
        "Airborne_Gyy",
        "Airborne_Gyz",
        "Airborne_Gz",
        "Airborne_Gzz",
        "Airborne_TMI",
        "Ground_Gz",
        "Z"
       ],
       "description": "Channel <=> Data:",
       "index": 11,
       "layout": "IPY_MODEL_9ad899d9dd31401c82edabcabda19251",
       "style": "IPY_MODEL_c016586393c74c9cafc2b9910885e236"
      }
     },
     "9c3345fa81b24aada82ae14d6c3b84da": {
      "model_module": "@jupyter-widgets/base",
      "model_module_version": "1.2.0",
      "model_name": "LayoutModel",
      "state": {}
     },
     "9c33ed1e54a949c6b362351cfdf180b5": {
      "model_module": "@jupyter-widgets/controls",
      "model_module_version": "1.5.0",
      "model_name": "DescriptionStyleModel",
      "state": {
       "description_width": "initial"
      }
     },
     "9c61c68b620d4565aabc1433762325e4": {
      "model_module": "@jupyter-widgets/controls",
      "model_module_version": "1.5.0",
      "model_name": "TextModel",
      "state": {
       "description": "byy",
       "layout": "IPY_MODEL_ce323bfb629b4af3b701b313d4dc4a3e",
       "style": "IPY_MODEL_43f6ae261e634c3e9b73fbdf502a5cfb"
      }
     },
     "9c7c02d8149447ecb264c836177c1dd9": {
      "model_module": "@jupyter-widgets/base",
      "model_module_version": "1.2.0",
      "model_name": "LayoutModel",
      "state": {}
     },
     "9c7e5a6461c94bfcaddf2c51637e5b41": {
      "model_module": "@jupyter-widgets/controls",
      "model_module_version": "1.5.0",
      "model_name": "DescriptionStyleModel",
      "state": {
       "description_width": ""
      }
     },
     "9c92dd5b9fb24f7f909ddacd275af26a": {
      "model_module": "@jupyter-widgets/controls",
      "model_module_version": "1.5.0",
      "model_name": "FloatSliderModel",
      "state": {
       "continuous_update": false,
       "description": "Height",
       "layout": "IPY_MODEL_4414f77d866b4fe5a9740610c0c9fd7c",
       "max": 11351.865002485923,
       "orientation": "vertical",
       "step": 10,
       "style": "IPY_MODEL_d72fa429651148beb7ce95e9b26c28f4",
       "value": 1500
      }
     },
     "9c97f8b6cf654e2492586739afc206e4": {
      "model_module": "@jupyter-widgets/controls",
      "model_module_version": "1.5.0",
      "model_name": "ButtonModel",
      "state": {
       "description": "Create copy:",
       "layout": "IPY_MODEL_8b00623f79c84345810059602887220e",
       "style": "IPY_MODEL_ae7c4bc46c0c44ed8c529c9967f67357"
      }
     },
     "9ca69dc42e234d018804dfa191441755": {
      "model_module": "@jupyter-widgets/base",
      "model_module_version": "1.2.0",
      "model_name": "LayoutModel",
      "state": {
       "align_items": "center"
      }
     },
     "9caa69857ba54849be9feb0bd893249e": {
      "model_module": "@jupyter-widgets/controls",
      "model_module_version": "1.5.0",
      "model_name": "TextModel",
      "state": {
       "description": "Layers below topo",
       "layout": "IPY_MODEL_0f76e50c2a2f4a76bb54a2df5682b469",
       "style": "IPY_MODEL_afbf427011874914a2210dc9e7a0da30",
       "value": "0, 0, 0, 2"
      }
     },
     "9cbc5935aac44f1a9fb46f2553864e69": {
      "model_module": "@jupyter-widgets/controls",
      "model_module_version": "1.5.0",
      "model_name": "DropdownModel",
      "state": {
       "_options_labels": [
        "C:\\Users\\dominiquef\\Documents\\GIT\\RichardScottOZ\\geoapps\\docs\\content\\applications",
        "C:\\Users\\dominiquef\\Documents\\GIT\\RichardScottOZ\\geoapps\\docs\\content",
        "C:\\Users\\dominiquef\\Documents\\GIT\\RichardScottOZ\\geoapps\\docs",
        "C:\\Users\\dominiquef\\Documents\\GIT\\RichardScottOZ\\geoapps",
        "C:\\Users\\dominiquef\\Documents\\GIT\\RichardScottOZ",
        "C:\\Users\\dominiquef\\Documents\\GIT",
        "C:\\Users\\dominiquef\\Documents",
        "C:\\Users\\dominiquef",
        "C:\\Users",
        "C:\\",
        "D:\\",
        "Z:\\"
       ],
       "index": 0,
       "layout": "IPY_MODEL_0726541eb1ec480db141f3fb9d3fdcc3",
       "style": "IPY_MODEL_1d545815fe4646e2b94d08be8c778b3f"
      }
     },
     "9cd901c18dda45dba5d5449127e8891c": {
      "model_module": "@jupyter-widgets/controls",
      "model_module_version": "1.5.0",
      "model_name": "DescriptionStyleModel",
      "state": {
       "description_width": ""
      }
     },
     "9d2ff4749c9f4a5abca1ccfcfcd0d200": {
      "model_module": "@jupyter-widgets/base",
      "model_module_version": "1.2.0",
      "model_name": "LayoutModel",
      "state": {
       "grid_area": "dircontent",
       "width": "auto"
      }
     },
     "9d76a25818e844468af0082a40ea6d43": {
      "model_module": "@jupyter-widgets/controls",
      "model_module_version": "1.5.0",
      "model_name": "DescriptionStyleModel",
      "state": {
       "description_width": ""
      }
     },
     "9dac47e95b0346e2928d5c92cbca9e75": {
      "model_module": "@jupyter-widgets/base",
      "model_module_version": "1.2.0",
      "model_name": "LayoutModel",
      "state": {}
     },
     "9db89b7068764396a73296ed4e21434c": {
      "model_module": "@jupyter-widgets/controls",
      "model_module_version": "1.5.0",
      "model_name": "DescriptionStyleModel",
      "state": {
       "description_width": "initial"
      }
     },
     "9de0ae1bab5c4218860db76814e6d90b": {
      "model_module": "@jupyter-widgets/controls",
      "model_module_version": "1.5.0",
      "model_name": "DescriptionStyleModel",
      "state": {
       "description_width": "initial"
      }
     },
     "9def178517c64c2bbe5d56c174ff7d6f": {
      "model_module": "@jupyter-widgets/base",
      "model_module_version": "1.2.0",
      "model_name": "LayoutModel",
      "state": {}
     },
     "9e2b476932d643a6869dd48d91f81fd6": {
      "model_module": "@jupyter-widgets/controls",
      "model_module_version": "1.5.0",
      "model_name": "ButtonModel",
      "state": {
       "description": "Cancel",
       "layout": "IPY_MODEL_70ef1db6e6ec42cd9b12631e82ebe199",
       "style": "IPY_MODEL_ed05ab5fc3d4460582f638fc1ab48eb5"
      }
     },
     "9e2e2ef10b4149c0a457897f2910c23d": {
      "model_module": "@jupyter-widgets/base",
      "model_module_version": "1.2.0",
      "model_name": "LayoutModel",
      "state": {}
     },
     "9e82e151c91540f39966c006e7f37380": {
      "model_module": "@jupyter-widgets/controls",
      "model_module_version": "1.5.0",
      "model_name": "TextModel",
      "state": {
       "description": "Scaling alpha_(s, x, y, z)",
       "layout": "IPY_MODEL_a774af78c99745cd8e6e9b2060230877",
       "style": "IPY_MODEL_80352681b52f4f7693fe15e1191e4cba",
       "value": "1.0, 1.0, 1.0, 1.0"
      }
     },
     "9e989c46a0894c3490ac78ed040e6ee9": {
      "model_module": "@jupyter-widgets/controls",
      "model_module_version": "1.5.0",
      "model_name": "TextModel",
      "state": {
       "description": "Error (%, floor)",
       "layout": "IPY_MODEL_e1cd5bca784e437fbb4d921a11649b3a",
       "style": "IPY_MODEL_5837febe9582430ea6124f6344651ee7",
       "value": "0, 1"
      }
     },
     "9e9eb823ece54546a6fe530a151561bb": {
      "model_module": "@jupyter-widgets/controls",
      "model_module_version": "1.5.0",
      "model_name": "HBoxModel",
      "state": {
       "children": [
        "IPY_MODEL_cf884fb53e6947078fb2c088cf2dca28",
        "IPY_MODEL_f1b4654c34944fa2a0e342fe88a06c7e",
        "IPY_MODEL_43b22c1d71904f508726f07043dca08e"
       ],
       "layout": "IPY_MODEL_ead37f707ac0497b886d852cf13ec240"
      }
     },
     "9eded77019114cb781cf8cdd3a75f116": {
      "model_module": "@jupyter-widgets/controls",
      "model_module_version": "1.5.0",
      "model_name": "DescriptionStyleModel",
      "state": {
       "description_width": "initial"
      }
     },
     "9f023a6458ca418a98aeddd4f0737f89": {
      "model_module": "@jupyter-widgets/base",
      "model_module_version": "1.2.0",
      "model_name": "LayoutModel",
      "state": {}
     },
     "9f10c8753e9a448f8db096943be86a66": {
      "model_module": "@jupyter-widgets/controls",
      "model_module_version": "1.5.0",
      "model_name": "HBoxModel",
      "state": {
       "children": [
        "IPY_MODEL_303f946ed5274554bec8d2de34c6f420",
        "IPY_MODEL_fb53fea8c1a94bcfaf46be75829ec495",
        "IPY_MODEL_9f669ad686974e35bae99df628fdeae8"
       ],
       "layout": "IPY_MODEL_a5ac6999c83f4e09a35eb1a67419ee3f"
      }
     },
     "9f2d4e5cf4c642ae83fca87381b83810": {
      "model_module": "@jupyter-widgets/base",
      "model_module_version": "1.2.0",
      "model_name": "LayoutModel",
      "state": {
       "width": "auto"
      }
     },
     "9f2e0251ff074890ad158e4603ec3eb2": {
      "model_module": "@jupyter-widgets/controls",
      "model_module_version": "1.5.0",
      "model_name": "ButtonStyleModel",
      "state": {}
     },
     "9f39c7a8c9ca4cf68ee2f842b439e514": {
      "model_module": "@jupyter-widgets/base",
      "model_module_version": "1.2.0",
      "model_name": "LayoutModel",
      "state": {}
     },
     "9f550cac1daa42c2a294a9aabd930fe9": {
      "model_module": "@jupyter-widgets/base",
      "model_module_version": "1.2.0",
      "model_name": "LayoutModel",
      "state": {
       "grid_area": "filename",
       "width": "auto"
      }
     },
     "9f669ad686974e35bae99df628fdeae8": {
      "model_module": "@jupyter-widgets/controls",
      "model_module_version": "1.5.0",
      "model_name": "HTMLModel",
      "state": {
       "layout": "IPY_MODEL_914dcaf845ec49c793747748e67614f8",
       "placeholder": "",
       "style": "IPY_MODEL_c053d18c7b04465790c938ad9f12e9de",
       "value": "<span style=\"margin-left:10px; color:black;\">No file selected</span>"
      }
     },
     "9f691649f1ed4897a82f7f7b681ca47c": {
      "model_module": "@jupyter-widgets/controls",
      "model_module_version": "1.5.0",
      "model_name": "LabelModel",
      "state": {
       "layout": "IPY_MODEL_a86493ef75ea47e6a3be8dca72e82a44",
       "style": "IPY_MODEL_a42ab7955474433aab53e470a3262dd2",
       "value": "Data Count: 0"
      }
     },
     "9f6d24458ef740b19efbb31a693dfb17": {
      "model_module": "@jupyter-widgets/controls",
      "model_module_version": "1.5.0",
      "model_name": "ButtonStyleModel",
      "state": {}
     },
     "9f6fe3e1331641a4a4ae149df88d7d3b": {
      "model_module": "@jupyter-widgets/controls",
      "model_module_version": "1.5.0",
      "model_name": "SliderStyleModel",
      "state": {
       "description_width": ""
      }
     },
     "9f8bcc16c9464543af63537a37c212bf": {
      "model_module": "@jupyter-widgets/controls",
      "model_module_version": "1.5.0",
      "model_name": "ButtonStyleModel",
      "state": {}
     },
     "9fbff4228b2c4dbabd58649297eae6ba": {
      "model_module": "@jupyter-widgets/controls",
      "model_module_version": "1.5.0",
      "model_name": "DropdownModel",
      "state": {
       "_options_labels": [
        "",
        "--- Channels ---",
        "Airborne_Gxx",
        "Airborne_Gxy",
        "Airborne_Gxz",
        "Airborne_Gyy",
        "Airborne_Gyz",
        "Airborne_Gz",
        "Airborne_Gzz",
        "Airborne_TMI",
        "Ground_Gz",
        "Z"
       ],
       "description": "Channel <=> Data:",
       "index": 11,
       "layout": "IPY_MODEL_605fbcd1453e462bb11710e624262c08",
       "style": "IPY_MODEL_3d84932a6c5a4cdcb41aae19d3e2576c"
      }
     },
     "9ff5eacb431e48e49a96422a347e02f4": {
      "model_module": "@jupyter-widgets/controls",
      "model_module_version": "1.5.0",
      "model_name": "DescriptionStyleModel",
      "state": {
       "description_width": ""
      }
     },
     "a0092c490e1f4141a23f3c1562241b2a": {
      "model_module": "@jupyter-widgets/controls",
      "model_module_version": "1.5.0",
      "model_name": "DescriptionStyleModel",
      "state": {
       "description_width": "initial"
      }
     },
     "a026ac448202431c8db8093353e15731": {
      "model_module": "@jupyter-widgets/controls",
      "model_module_version": "1.5.0",
      "model_name": "ButtonModel",
      "state": {
       "description": "Cancel",
       "layout": "IPY_MODEL_7ae05aa808304b21899a44b279055e00",
       "style": "IPY_MODEL_a1cf16983b44455f96299971f06caeb0"
      }
     },
     "a02ac654b54c4f9190155d77aed5941e": {
      "model_module": "@jupyter-widgets/controls",
      "model_module_version": "1.5.0",
      "model_name": "FloatTextModel",
      "state": {
       "description": "Max triangulation length",
       "layout": "IPY_MODEL_3b7fb40190e8421f84bffdbf75fe352d",
       "step": null,
       "style": "IPY_MODEL_295f0649646c45d8b49a37a10beec4ce",
       "value": 1000
      }
     },
     "a032760f095146b9bedfa91429059942": {
      "model_module": "@jupyter-widgets/controls",
      "model_module_version": "1.5.0",
      "model_name": "ButtonModel",
      "state": {
       "description": "Cancel",
       "layout": "IPY_MODEL_81d75655673f4b5095c5ad7717af6bf3",
       "style": "IPY_MODEL_14e5e070c2194c72abfb9fd9983e88b4"
      }
     },
     "a03b3a4f24db428491c9033aa205bcfe": {
      "model_module": "@jupyter-widgets/controls",
      "model_module_version": "1.5.0",
      "model_name": "DescriptionStyleModel",
      "state": {
       "description_width": ""
      }
     },
     "a07eca3f65dc479bb519b10c19fa9c75": {
      "model_module": "@jupyter-widgets/base",
      "model_module_version": "1.2.0",
      "model_name": "LayoutModel",
      "state": {}
     },
     "a0b71a76070c419ea8f105369691f3e9": {
      "model_module": "@jupyter-widgets/controls",
      "model_module_version": "1.5.0",
      "model_name": "DropdownModel",
      "state": {
       "_options_labels": [
        "C:\\Users\\dominiquef\\Documents\\GIT\\RichardScottOZ\\geoapps\\assets",
        "C:\\Users\\dominiquef\\Documents\\GIT\\RichardScottOZ\\geoapps",
        "C:\\Users\\dominiquef\\Documents\\GIT\\RichardScottOZ",
        "C:\\Users\\dominiquef\\Documents\\GIT",
        "C:\\Users\\dominiquef\\Documents",
        "C:\\Users\\dominiquef",
        "C:\\Users",
        "C:\\",
        "D:\\",
        "Z:\\"
       ],
       "index": 0,
       "layout": "IPY_MODEL_a22bb438ebb04d089aed2745f0289d95",
       "style": "IPY_MODEL_5f6710aaad9f4deab4f0084c9125bac4"
      }
     },
     "a0c6b879982548c0ad6cf54cff790d1a": {
      "model_module": "@jupyter-widgets/base",
      "model_module_version": "1.2.0",
      "model_name": "LayoutModel",
      "state": {}
     },
     "a0d2de85f3ef4b34a682beafdf675cf0": {
      "model_module": "@jupyter-widgets/controls",
      "model_module_version": "1.5.0",
      "model_name": "SelectModel",
      "state": {
       "_options_labels": [
        ".."
       ],
       "index": null,
       "layout": "IPY_MODEL_ce7112db88ae409cb7a3d5e92bca2d4e",
       "rows": 8,
       "style": "IPY_MODEL_4fc16b5dfdc64850b86cabb6f40e358a"
      }
     },
     "a0deda55ecb64fbfacc207330bddee11": {
      "model_module": "@jupyter-widgets/controls",
      "model_module_version": "1.5.0",
      "model_name": "DescriptionStyleModel",
      "state": {
       "description_width": ""
      }
     },
     "a1357169cc544681a9099176d1c55753": {
      "model_module": "@jupyter-widgets/controls",
      "model_module_version": "1.5.0",
      "model_name": "DescriptionStyleModel",
      "state": {
       "description_width": "initial"
      }
     },
     "a13b5118e7184941bc93d972ff2a4b8b": {
      "model_module": "@jupyter-widgets/controls",
      "model_module_version": "1.5.0",
      "model_name": "ButtonModel",
      "state": {
       "description": "Cancel",
       "layout": "IPY_MODEL_96d2c19c77664afa8c0a960350442656",
       "style": "IPY_MODEL_681acdc20e0a4007b58d9825991274cb"
      }
     },
     "a14030e28d464404b4df2657863db6f9": {
      "model_module": "@jupyter-widgets/base",
      "model_module_version": "1.2.0",
      "model_name": "LayoutModel",
      "state": {}
     },
     "a14197c8cfda4a998aebca6fa1091cfe": {
      "model_module": "@jupyter-widgets/base",
      "model_module_version": "1.2.0",
      "model_name": "LayoutModel",
      "state": {}
     },
     "a1801a25d4db407dabcfc3a20573c6cc": {
      "model_module": "@jupyter-widgets/controls",
      "model_module_version": "1.5.0",
      "model_name": "ButtonModel",
      "state": {
       "description": "Cancel",
       "layout": "IPY_MODEL_db10df704c7d4af99d84a170e3322618",
       "style": "IPY_MODEL_1269a46cd25a49a784d6cee2df4c413e"
      }
     },
     "a19391936fa740d8a0fba1f2927c2138": {
      "model_module": "@jupyter-widgets/controls",
      "model_module_version": "1.5.0",
      "model_name": "LabelModel",
      "state": {
       "layout": "IPY_MODEL_a6b61cd1c132441d90bcffc0690eb884",
       "style": "IPY_MODEL_c41d0b64f8224d3f8093187937825169",
       "value": "Octree Mesh"
      }
     },
     "a1a653d92e784182a4aa190d2dfcc97b": {
      "model_module": "@jupyter-widgets/controls",
      "model_module_version": "1.5.0",
      "model_name": "FloatTextModel",
      "state": {
       "description": "Max triangulation length",
       "layout": "IPY_MODEL_6eb0cdefb72d4a9ab4559d4b43f41f3a",
       "step": null,
       "style": "IPY_MODEL_62eda6fefa9e40159caae2d6261a4657",
       "value": 1000
      }
     },
     "a1b1cba50f53404ea53d7a628ef16879": {
      "model_module": "@jupyter-widgets/controls",
      "model_module_version": "1.5.0",
      "model_name": "DropdownModel",
      "state": {
       "description": "Values",
       "index": null,
       "layout": "IPY_MODEL_35f91158dcc442568114901ba11a63bc",
       "style": "IPY_MODEL_5632a585140549c0b93b7dbdea5b0885"
      }
     },
     "a1b563bb85294ba0aa07aaeeb00902ee": {
      "model_module": "@jupyter-widgets/controls",
      "model_module_version": "1.5.0",
      "model_name": "DescriptionStyleModel",
      "state": {
       "description_width": ""
      }
     },
     "a1c6a752f4f543b892695709f6055301": {
      "model_module": "@jupyter-widgets/controls",
      "model_module_version": "1.5.0",
      "model_name": "ToggleButtonModel",
      "state": {
       "layout": "IPY_MODEL_ee96db45ccae44d392f8d23c5371a4a6",
       "style": "IPY_MODEL_cba4c806e68c4322b06b7158f3dffab4",
       "value": true
      }
     },
     "a1cf16983b44455f96299971f06caeb0": {
      "model_module": "@jupyter-widgets/controls",
      "model_module_version": "1.5.0",
      "model_name": "ButtonStyleModel",
      "state": {}
     },
     "a1eddc26df174bc38b07c86874f4dde9": {
      "model_module": "@jupyter-widgets/controls",
      "model_module_version": "1.5.0",
      "model_name": "DescriptionStyleModel",
      "state": {
       "description_width": ""
      }
     },
     "a204d74c77b3421c8884b198b3bbbe92": {
      "model_module": "@jupyter-widgets/base",
      "model_module_version": "1.2.0",
      "model_name": "LayoutModel",
      "state": {
       "grid_area": "filename",
       "width": "auto"
      }
     },
     "a217a91fb3114abf9016ae74c517bd26": {
      "model_module": "@jupyter-widgets/controls",
      "model_module_version": "1.5.0",
      "model_name": "DescriptionStyleModel",
      "state": {
       "description_width": ""
      }
     },
     "a21ee9ad56884ddcb77ba42af59922a0": {
      "model_module": "@jupyter-widgets/controls",
      "model_module_version": "1.5.0",
      "model_name": "DescriptionStyleModel",
      "state": {
       "description_width": ""
      }
     },
     "a22bb438ebb04d089aed2745f0289d95": {
      "model_module": "@jupyter-widgets/base",
      "model_module_version": "1.2.0",
      "model_name": "LayoutModel",
      "state": {
       "grid_area": "pathlist",
       "width": "auto"
      }
     },
     "a243827b2f7f4eb285208dbf0b944366": {
      "model_module": "@jupyter-widgets/controls",
      "model_module_version": "1.5.0",
      "model_name": "DescriptionStyleModel",
      "state": {
       "description_width": ""
      }
     },
     "a255514035324706831972d293f7672c": {
      "model_module": "@jupyter-widgets/base",
      "model_module_version": "1.2.0",
      "model_name": "LayoutModel",
      "state": {
       "grid_area": "pathlist",
       "width": "auto"
      }
     },
     "a298d77392064fad9f543ea6c4609851": {
      "model_module": "@jupyter-widgets/controls",
      "model_module_version": "1.5.0",
      "model_name": "DescriptionStyleModel",
      "state": {
       "description_width": "initial"
      }
     },
     "a300edcfd2a046e3ba4cbe55c16f5eb1": {
      "model_module": "@jupyter-widgets/controls",
      "model_module_version": "1.5.0",
      "model_name": "FloatTextModel",
      "state": {
       "description": "Max triangulation length",
       "layout": "IPY_MODEL_660f566af62d4301a0b50389e20da2d7",
       "step": null,
       "style": "IPY_MODEL_9db89b7068764396a73296ed4e21434c",
       "value": 1000
      }
     },
     "a31bc608236448ecbe3e42c8119eb107": {
      "model_module": "@jupyter-widgets/base",
      "model_module_version": "1.2.0",
      "model_name": "LayoutModel",
      "state": {
       "visibility": "hidden"
      }
     },
     "a333f1004a64450eaa1e0199094230ed": {
      "model_module": "@jupyter-widgets/controls",
      "model_module_version": "1.5.0",
      "model_name": "ButtonModel",
      "state": {
       "description": "Cancel",
       "layout": "IPY_MODEL_7834dddae78441bfa1c7281d76438c47",
       "style": "IPY_MODEL_3f55b93b043247d5b04d416fcb9b9152"
      }
     },
     "a3362023658145ccb26c9c729769f853": {
      "model_module": "@jupyter-widgets/base",
      "model_module_version": "1.2.0",
      "model_name": "LayoutModel",
      "state": {
       "width": "auto"
      }
     },
     "a34d4fba03f04a0091a0b70db07ff029": {
      "model_module": "@jupyter-widgets/controls",
      "model_module_version": "1.5.0",
      "model_name": "DescriptionStyleModel",
      "state": {
       "description_width": ""
      }
     },
     "a36b502c29f445bf829dbdc9a39553a7": {
      "model_module": "@jupyter-widgets/controls",
      "model_module_version": "1.5.0",
      "model_name": "CheckboxModel",
      "state": {
       "description": "GA Pro - Live link",
       "disabled": false,
       "indent": false,
       "layout": "IPY_MODEL_561824b4a5134badb34361099859914a",
       "style": "IPY_MODEL_e4e5e6803e8d49b7a02339dc06ccd8b2",
       "value": false
      }
     },
     "a372ae2086f34172935c099cfc40887f": {
      "model_module": "@jupyter-widgets/controls",
      "model_module_version": "1.5.0",
      "model_name": "VBoxModel",
      "state": {
       "children": [
        "IPY_MODEL_18140c5ebb7d43e198941793142ef070",
        "IPY_MODEL_7415343dd38243ba8313193250047641",
        "IPY_MODEL_b858799956474b8fb46dbad98a715267"
       ],
       "layout": "IPY_MODEL_b2005ac3b1b641e1b15a9ef2e0e92e13"
      }
     },
     "a399dacb52a6488eb37c115cc5211efa": {
      "model_module": "@jupyter-widgets/controls",
      "model_module_version": "1.5.0",
      "model_name": "DescriptionStyleModel",
      "state": {
       "description_width": ""
      }
     },
     "a3d77c3dbd784c88ab8a8f37dff89c8c": {
      "model_module": "@jupyter-widgets/controls",
      "model_module_version": "1.5.0",
      "model_name": "HBoxModel",
      "state": {
       "children": [
        "IPY_MODEL_2a5510301e4847e98d4ccedef7e91e0a",
        "IPY_MODEL_6f45a0c24ab4485ca1435e70950ad63a",
        "IPY_MODEL_ad8ee944b76c4fd3862daba2c77475ae"
       ],
       "layout": "IPY_MODEL_d106f81c6346450cb4f32636afdbf5e8"
      }
     },
     "a3edbc60316b4ba0ada4a586210e7b9d": {
      "model_module": "@jupyter-widgets/controls",
      "model_module_version": "1.5.0",
      "model_name": "DescriptionStyleModel",
      "state": {
       "description_width": "initial"
      }
     },
     "a3f82832e673442694991fa30c24d872": {
      "model_module": "@jupyter-widgets/base",
      "model_module_version": "1.2.0",
      "model_name": "LayoutModel",
      "state": {}
     },
     "a41687e1089e4be2b09dc26883b0a54f": {
      "model_module": "@jupyter-widgets/base",
      "model_module_version": "1.2.0",
      "model_name": "LayoutModel",
      "state": {}
     },
     "a417c2acb6f14a2eb42dbbce4dd4be98": {
      "model_module": "@jupyter-widgets/controls",
      "model_module_version": "1.5.0",
      "model_name": "ToggleButtonModel",
      "state": {
       "description": "Zoom on selection",
       "icon": "check",
       "layout": "IPY_MODEL_bdb6eaa0a7df4d0e970f065ad9e60c05",
       "style": "IPY_MODEL_784a2b5e7186406f90026a8f271e37e4",
       "value": true
      }
     },
     "a4278290f72c47c8a1faaf58e9b1ef04": {
      "model_module": "@jupyter-widgets/controls",
      "model_module_version": "1.5.0",
      "model_name": "DropdownModel",
      "state": {
       "_options_labels": [
        "",
        "--- Channels ---",
        "Airborne_Gxx",
        "Airborne_Gxy",
        "Airborne_Gxz",
        "Airborne_Gyy",
        "Airborne_Gyz",
        "Airborne_Gz",
        "Airborne_Gzz",
        "Airborne_TMI",
        "Ground_Gz",
        "Z"
       ],
       "description": "Channel <=> Data:",
       "index": 0,
       "layout": "IPY_MODEL_df0d3b392768488eb7f04ffe9e3856ac",
       "style": "IPY_MODEL_fe94c078444c4080a1191c8ce15f0d36"
      }
     },
     "a42ab7955474433aab53e470a3262dd2": {
      "model_module": "@jupyter-widgets/controls",
      "model_module_version": "1.5.0",
      "model_name": "DescriptionStyleModel",
      "state": {
       "description_width": ""
      }
     },
     "a45a8c10a0da4b71bb4a1913d6531477": {
      "model_module": "@jupyter-widgets/controls",
      "model_module_version": "1.5.0",
      "model_name": "DescriptionStyleModel",
      "state": {
       "description_width": ""
      }
     },
     "a469b31d5bb340ca9cc51d03ab8aebf4": {
      "model_module": "@jupyter-widgets/controls",
      "model_module_version": "1.5.0",
      "model_name": "DescriptionStyleModel",
      "state": {
       "description_width": ""
      }
     },
     "a4981bc2452c4bfd90f1929061ae0f68": {
      "model_module": "@jupyter-widgets/base",
      "model_module_version": "1.2.0",
      "model_name": "LayoutModel",
      "state": {
       "display": "none",
       "grid_gap": "0px 0px",
       "grid_template_areas": "\n                    'pathlist filename'\n                    'dircontent dircontent'\n                    ",
       "grid_template_columns": "60% 40%",
       "grid_template_rows": "auto auto",
       "width": "500px"
      }
     },
     "a4b6b9400bb84eb8928ce176c14b219f": {
      "model_module": "@jupyter-widgets/controls",
      "model_module_version": "1.5.0",
      "model_name": "DescriptionStyleModel",
      "state": {
       "description_width": ""
      }
     },
     "a4f59a5bc7c243f0ae298dde5612b15b": {
      "model_module": "@jupyter-widgets/controls",
      "model_module_version": "1.5.0",
      "model_name": "VBoxModel",
      "state": {
       "children": [
        "IPY_MODEL_ffb69c7d62be4557b3b99617a8a4f54c",
        "IPY_MODEL_c8c9a5e1249a4c6183225d27fae1bec0"
       ],
       "layout": "IPY_MODEL_f010d1ab73f3418f8f76fb7620ee5661"
      }
     },
     "a502092be2c34d27a32ba8a346abff5f": {
      "model_module": "@jupyter-widgets/base",
      "model_module_version": "1.2.0",
      "model_name": "LayoutModel",
      "state": {
       "display": "none",
       "grid_area": "filename",
       "width": "auto"
      }
     },
     "a50c964a74284205a4ee3972e17e1dda": {
      "model_module": "@jupyter-widgets/controls",
      "model_module_version": "1.5.0",
      "model_name": "FloatTextModel",
      "state": {
       "description": "Max RAM (Gb)",
       "layout": "IPY_MODEL_c226100161954256a2f5aee3b7b65a96",
       "step": null,
       "style": "IPY_MODEL_b4eb1598af144c3490379e53e95a926a",
       "value": 2
      }
     },
     "a5248e55d7fc4421a20cbc51ce797512": {
      "model_module": "@jupyter-widgets/base",
      "model_module_version": "1.2.0",
      "model_name": "LayoutModel",
      "state": {}
     },
     "a525a9f46c2b4737880df30964bcf10d": {
      "model_module": "@jupyter-widgets/controls",
      "model_module_version": "1.5.0",
      "model_name": "VBoxModel",
      "state": {
       "children": [
        "IPY_MODEL_7a33bbbef35f4afdb9b004af534e5051",
        "IPY_MODEL_abd27a6a0e5642f6bfd4a2110b337567"
       ],
       "layout": "IPY_MODEL_3ae023ebc01d4ff1b1a758573af611ce"
      }
     },
     "a530b93d288d436986fffbb33e8be6ed": {
      "model_module": "@jupyter-widgets/base",
      "model_module_version": "1.2.0",
      "model_name": "LayoutModel",
      "state": {
       "display": "none",
       "width": "auto"
      }
     },
     "a54a0470b8544960af0e48c0b51b22e4": {
      "model_module": "@jupyter-widgets/controls",
      "model_module_version": "1.5.0",
      "model_name": "VBoxModel",
      "state": {
       "children": [
        "IPY_MODEL_41c7ce6f18b34dda82846d10581d6dcd",
        "IPY_MODEL_8188f840128b4864b0ac6560be37dfc0"
       ],
       "layout": "IPY_MODEL_f2dcd107eaf340e4a26c3f43ed8f7423"
      }
     },
     "a56983deca2c42f9b4ebe6c1b6bf2ebb": {
      "model_module": "@jupyter-widgets/controls",
      "model_module_version": "1.5.0",
      "model_name": "TextModel",
      "state": {
       "layout": "IPY_MODEL_8ef5403dab894d1f8997d18e10e1964c",
       "placeholder": "output filename",
       "style": "IPY_MODEL_5f60ab19f1a84408b393e3bf41c4fd7b",
       "value": "FlinFlon.geoh5"
      }
     },
     "a5930b60f92847b0b67e3374550df870": {
      "model_module": "@jupyter-widgets/controls",
      "model_module_version": "1.5.0",
      "model_name": "LabelModel",
      "state": {
       "layout": "IPY_MODEL_9399d3ac29184a77b583346db40a9226",
       "style": "IPY_MODEL_24984e99c3124b378647e8c72996267b",
       "value": "Monitoring folder"
      }
     },
     "a5963e6adf294fbc9ccb715c1deb8d85": {
      "model_module": "@jupyter-widgets/base",
      "model_module_version": "1.2.0",
      "model_name": "LayoutModel",
      "state": {}
     },
     "a5993bdf0a9847d6b8e0a5606ae991bb": {
      "model_module": "@jupyter-widgets/controls",
      "model_module_version": "1.5.0",
      "model_name": "DescriptionStyleModel",
      "state": {
       "description_width": ""
      }
     },
     "a5ac6999c83f4e09a35eb1a67419ee3f": {
      "model_module": "@jupyter-widgets/base",
      "model_module_version": "1.2.0",
      "model_name": "LayoutModel",
      "state": {
       "width": "auto"
      }
     },
     "a5c12425db844ec0881199335d0a18c1": {
      "model_module": "@jupyter-widgets/controls",
      "model_module_version": "1.5.0",
      "model_name": "DescriptionStyleModel",
      "state": {
       "description_width": ""
      }
     },
     "a5dc293b8d064b7ba35bbcc3114f18a0": {
      "model_module": "@jupyter-widgets/base",
      "model_module_version": "1.2.0",
      "model_name": "LayoutModel",
      "state": {
       "visibility": "hidden"
      }
     },
     "a5e3a609b67b4079a2d8e9ac8655d385": {
      "model_module": "@jupyter-widgets/controls",
      "model_module_version": "1.5.0",
      "model_name": "VBoxModel",
      "state": {
       "children": [
        "IPY_MODEL_925aec604dd3467ba7b83ca6d40cd25e",
        "IPY_MODEL_457ac9ae2de540bdadb9bc7f41babc86"
       ],
       "layout": "IPY_MODEL_ee02a52f7ec146e6a40c0a708d410d3a"
      }
     },
     "a5f5807869264adaaaddbc5d47683336": {
      "model_module": "@jupyter-widgets/base",
      "model_module_version": "1.2.0",
      "model_name": "LayoutModel",
      "state": {}
     },
     "a5fa2e5720194eb6acb7cd848b9a5e63": {
      "model_module": "@jupyter-widgets/controls",
      "model_module_version": "1.5.0",
      "model_name": "DescriptionStyleModel",
      "state": {
       "description_width": ""
      }
     },
     "a637290ad3bc4ab9b6def387fba92e6e": {
      "model_module": "@jupyter-widgets/base",
      "model_module_version": "1.2.0",
      "model_name": "LayoutModel",
      "state": {}
     },
     "a649c77e94aa4fdbab94e8c7c9d07748": {
      "model_module": "@jupyter-widgets/base",
      "model_module_version": "1.2.0",
      "model_name": "LayoutModel",
      "state": {
       "grid_area": "dircontent",
       "width": "auto"
      }
     },
     "a65a9128190c4e599604df041c643bca": {
      "model_module": "@jupyter-widgets/base",
      "model_module_version": "1.2.0",
      "model_name": "LayoutModel",
      "state": {}
     },
     "a68fde875cde4f2d97e06c5b54e4740c": {
      "model_module": "@jupyter-widgets/base",
      "model_module_version": "1.2.0",
      "model_name": "LayoutModel",
      "state": {}
     },
     "a69a2e144caa4d019ae175a045a3a300": {
      "model_module": "@jupyter-widgets/controls",
      "model_module_version": "1.5.0",
      "model_name": "DescriptionStyleModel",
      "state": {
       "description_width": "initial"
      }
     },
     "a6a52c2ce94748f6a51204c682a1ceb3": {
      "model_module": "@jupyter-widgets/base",
      "model_module_version": "1.2.0",
      "model_name": "LayoutModel",
      "state": {
       "grid_area": "dircontent",
       "width": "auto"
      }
     },
     "a6b61cd1c132441d90bcffc0690eb884": {
      "model_module": "@jupyter-widgets/base",
      "model_module_version": "1.2.0",
      "model_name": "LayoutModel",
      "state": {}
     },
     "a6c44e4e16e14814b48ed31f6dab5cac": {
      "model_module": "@jupyter-widgets/base",
      "model_module_version": "1.2.0",
      "model_name": "LayoutModel",
      "state": {
       "grid_area": "pathlist",
       "width": "auto"
      }
     },
     "a6c5c0fdeca147ffb36e1e4aef154d8e": {
      "model_module": "@jupyter-widgets/base",
      "model_module_version": "1.2.0",
      "model_name": "LayoutModel",
      "state": {
       "grid_area": "dircontent",
       "width": "auto"
      }
     },
     "a6cd3f3dd86947b8af7dd5c373fa7502": {
      "model_module": "@jupyter-widgets/base",
      "model_module_version": "1.2.0",
      "model_name": "LayoutModel",
      "state": {
       "grid_area": "dircontent",
       "width": "auto"
      }
     },
     "a6e059c6a1a144b98475bc6613e90e47": {
      "model_module": "@jupyter-widgets/controls",
      "model_module_version": "1.5.0",
      "model_name": "DescriptionStyleModel",
      "state": {
       "description_width": "initial"
      }
     },
     "a715d936a3ba464394d4ccbb9b7e7528": {
      "model_module": "@jupyter-widgets/controls",
      "model_module_version": "1.5.0",
      "model_name": "LabelModel",
      "state": {
       "layout": "IPY_MODEL_cab23e14e4844f6f9f4020caf9f9c3bb",
       "style": "IPY_MODEL_88b644e42da449e18df09cbad860da51",
       "value": "Workspace"
      }
     },
     "a71e241dca54433396812f37f38dc6db": {
      "model_module": "@jupyter-widgets/controls",
      "model_module_version": "1.5.0",
      "model_name": "DescriptionStyleModel",
      "state": {
       "description_width": "initial"
      }
     },
     "a755eddad0664a548437b720320c6a86": {
      "model_module": "@jupyter-widgets/base",
      "model_module_version": "1.2.0",
      "model_name": "LayoutModel",
      "state": {}
     },
     "a75780a8f4bd4ca9a28e74c167b70054": {
      "model_module": "@jupyter-widgets/controls",
      "model_module_version": "1.5.0",
      "model_name": "TextModel",
      "state": {
       "disabled": true,
       "layout": "IPY_MODEL_99615aaeff0d4aea99a86b55333dfcaf",
       "placeholder": "output filename",
       "style": "IPY_MODEL_0463f9338e764ff59d0d058de02a3653"
      }
     },
     "a774af78c99745cd8e6e9b2060230877": {
      "model_module": "@jupyter-widgets/base",
      "model_module_version": "1.2.0",
      "model_name": "LayoutModel",
      "state": {}
     },
     "a7a72259dfc84dcfbf0879e600a24600": {
      "model_module": "@jupyter-widgets/controls",
      "model_module_version": "1.5.0",
      "model_name": "HBoxModel",
      "state": {
       "children": [
        "IPY_MODEL_2c7cb61472f8462fb617eef053e48cb3",
        "IPY_MODEL_329e3f7590884e14a0ee6472c0134d60",
        "IPY_MODEL_f86b79f9d445423cb5e627fb4582d8d2"
       ],
       "layout": "IPY_MODEL_0d13e921ed154c3d9967521c7df2b76b"
      }
     },
     "a7c9f7f086224c42b032a25b2f8fe2da": {
      "model_module": "@jupyter-widgets/controls",
      "model_module_version": "1.5.0",
      "model_name": "TextModel",
      "state": {
       "continuous_update": false,
       "description": "Group:",
       "layout": "IPY_MODEL_5ff92b4688ac4d1f9cc6e90ff0c1acd8",
       "style": "IPY_MODEL_aae3f08233b74a7288ab22c25d187933"
      }
     },
     "a7eea3331ae54bdc82862bb8bdecbaaa": {
      "model_module": "@jupyter-widgets/base",
      "model_module_version": "1.2.0",
      "model_name": "LayoutModel",
      "state": {}
     },
     "a81060c0c97242eebcfe0a03bab5af86": {
      "model_module": "@jupyter-widgets/base",
      "model_module_version": "1.2.0",
      "model_name": "LayoutModel",
      "state": {}
     },
     "a83beff3bba4413b8fbad2325a53797b": {
      "model_module": "@jupyter-widgets/base",
      "model_module_version": "1.2.0",
      "model_name": "LayoutModel",
      "state": {}
     },
     "a86493ef75ea47e6a3be8dca72e82a44": {
      "model_module": "@jupyter-widgets/base",
      "model_module_version": "1.2.0",
      "model_name": "LayoutModel",
      "state": {}
     },
     "a892ec70a7624a23860cc30f5d83e207": {
      "model_module": "@jupyter-widgets/controls",
      "model_module_version": "1.5.0",
      "model_name": "DescriptionStyleModel",
      "state": {
       "description_width": ""
      }
     },
     "a89367a3a6b94af48612c1a4a90f23cb": {
      "model_module": "@jupyter-widgets/controls",
      "model_module_version": "1.5.0",
      "model_name": "TextModel",
      "state": {
       "continuous_update": false,
       "description": "Group:",
       "layout": "IPY_MODEL_0d8f7b46f1fa4f94b96447692bd6e1be",
       "style": "IPY_MODEL_20146b5c397f4440aff190fa6c0f0479"
      }
     },
     "a8a3abd85b54487883e55946ff725e3f": {
      "model_module": "@jupyter-widgets/controls",
      "model_module_version": "1.5.0",
      "model_name": "VBoxModel",
      "state": {
       "children": [
        "IPY_MODEL_465b3bf3f70b456889253e82a59049fb",
        "IPY_MODEL_92530041c43e4663bbefbae849efb115",
        "IPY_MODEL_a3d77c3dbd784c88ab8a8f37dff89c8c"
       ],
       "layout": "IPY_MODEL_d93667433cca4311bd851868ce7776cc"
      }
     },
     "a8b7a0bcadc842a392640517f17ffd4c": {
      "model_module": "@jupyter-widgets/controls",
      "model_module_version": "1.5.0",
      "model_name": "DescriptionStyleModel",
      "state": {
       "description_width": ""
      }
     },
     "a8d74a8875424d198a07f0b5903d4c45": {
      "model_module": "@jupyter-widgets/base",
      "model_module_version": "1.2.0",
      "model_name": "LayoutModel",
      "state": {
       "display": "none",
       "width": "auto"
      }
     },
     "a8f89ecdfe494ef194c57da2c624c3e4": {
      "model_module": "@jupyter-widgets/controls",
      "model_module_version": "1.5.0",
      "model_name": "ButtonModel",
      "state": {
       "description": "Select",
       "layout": "IPY_MODEL_add6ddfde3d24e1c8c1e6f07d7645753",
       "style": "IPY_MODEL_8b0b528e894b41bd80eb66e416b907aa"
      }
     },
     "a8fac7080cc04bd8a091c4d6c138c846": {
      "model_module": "@jupyter-widgets/base",
      "model_module_version": "1.2.0",
      "model_name": "LayoutModel",
      "state": {}
     },
     "a8fb5c60e5ac4987b381ddccd024a8ba": {
      "model_module": "@jupyter-widgets/base",
      "model_module_version": "1.2.0",
      "model_name": "LayoutModel",
      "state": {
       "display": "none"
      }
     },
     "a928b65de0154b54b204a210a7f54e3e": {
      "model_module": "@jupyter-widgets/controls",
      "model_module_version": "1.5.0",
      "model_name": "CheckboxModel",
      "state": {
       "description": "Active",
       "disabled": false,
       "layout": "IPY_MODEL_343cc1fa93ab4486a36ced2d8208729e",
       "style": "IPY_MODEL_75c1eb1b2ea7473683851fb3c4a536d1",
       "value": false
      }
     },
     "a92a567bce754601b38c72a2d52fb3f1": {
      "model_module": "@jupyter-widgets/controls",
      "model_module_version": "1.5.0",
      "model_name": "ButtonStyleModel",
      "state": {}
     },
     "a92f7c4494e74ddf854d2a7bb0c5bfa9": {
      "model_module": "@jupyter-widgets/controls",
      "model_module_version": "1.5.0",
      "model_name": "DescriptionStyleModel",
      "state": {
       "description_width": ""
      }
     },
     "a9cae119c0fb442889ea0da099172d3d": {
      "model_module": "@jupyter-widgets/controls",
      "model_module_version": "1.5.0",
      "model_name": "RadioButtonsModel",
      "state": {
       "_options_labels": [
        "None",
        "Model",
        "Value"
       ],
       "index": 0,
       "layout": "IPY_MODEL_5f11e9b2a447498baa64fdf8cbc3c9e0",
       "style": "IPY_MODEL_faf81aa22d874b93aad9ba49d134beac"
      }
     },
     "a9d60273f8f548d4bd338cf63e2aead4": {
      "model_module": "@jupyter-widgets/controls",
      "model_module_version": "1.5.0",
      "model_name": "DescriptionStyleModel",
      "state": {
       "description_width": "initial"
      }
     },
     "a9eec34239e543a4b6ce147eb7e3cab8": {
      "model_module": "@jupyter-widgets/base",
      "model_module_version": "1.2.0",
      "model_name": "LayoutModel",
      "state": {
       "display": "none",
       "grid_gap": "0px 0px",
       "grid_template_areas": "\n                    'pathlist filename'\n                    'dircontent dircontent'\n                    ",
       "grid_template_columns": "60% 40%",
       "grid_template_rows": "auto auto",
       "width": "500px"
      }
     },
     "a9f625f715944cd3b92639da12c35e8d": {
      "model_module": "@jupyter-widgets/base",
      "model_module_version": "1.2.0",
      "model_name": "LayoutModel",
      "state": {}
     },
     "a9fced2213b348b3b20be3c1b983f22b": {
      "model_module": "@jupyter-widgets/base",
      "model_module_version": "1.2.0",
      "model_name": "LayoutModel",
      "state": {}
     },
     "aa1d09cc05c24242a3de2b6cf5a04bee": {
      "model_module": "@jupyter-widgets/base",
      "model_module_version": "1.2.0",
      "model_name": "LayoutModel",
      "state": {}
     },
     "aa41fd80406843a9a25afaa08f55fb0b": {
      "model_module": "@jupyter-widgets/controls",
      "model_module_version": "1.5.0",
      "model_name": "ButtonStyleModel",
      "state": {}
     },
     "aa49b487553e4d1ea5dc83604bca15be": {
      "model_module": "@jupyter-widgets/controls",
      "model_module_version": "1.5.0",
      "model_name": "DescriptionStyleModel",
      "state": {
       "description_width": ""
      }
     },
     "aa5ac49d8e3d496e8e74072763239283": {
      "model_module": "@jupyter-widgets/controls",
      "model_module_version": "1.5.0",
      "model_name": "DescriptionStyleModel",
      "state": {
       "description_width": ""
      }
     },
     "aa6d35a8d6a944c793f0ba16ed8bb451": {
      "model_module": "@jupyter-widgets/controls",
      "model_module_version": "1.5.0",
      "model_name": "VBoxModel",
      "state": {
       "children": [
        "IPY_MODEL_499e5fc8352e4750bcc32cf3cb4411b7",
        "IPY_MODEL_00ecc15a34534b33aea67718cc925166"
       ],
       "layout": "IPY_MODEL_82a1dc06e01a4af8b411054e13988105"
      }
     },
     "aa7198487aec4745aa211f5443ca9616": {
      "model_module": "@jupyter-widgets/controls",
      "model_module_version": "1.5.0",
      "model_name": "TextModel",
      "state": {
       "description": "Smallest cells",
       "layout": "IPY_MODEL_01cacd5cf0b24332a9b16a9f6479dcf5",
       "style": "IPY_MODEL_d8c825d13b03427bbcb4869b826be8bf",
       "value": "25, 25, 25"
      }
     },
     "aa7ef9bcdc754d6aa441e22c4f4c8d86": {
      "model_module": "@jupyter-widgets/base",
      "model_module_version": "1.2.0",
      "model_name": "LayoutModel",
      "state": {}
     },
     "aa8c4622609a4e6caab69cb1c5f185de": {
      "model_module": "@jupyter-widgets/base",
      "model_module_version": "1.2.0",
      "model_name": "LayoutModel",
      "state": {}
     },
     "aa931c098caa4eb79760c63112675bf9": {
      "model_module": "@jupyter-widgets/controls",
      "model_module_version": "1.5.0",
      "model_name": "DescriptionStyleModel",
      "state": {
       "description_width": ""
      }
     },
     "aa932bef735c494fb78f31d2d7bdc9ac": {
      "model_module": "@jupyter-widgets/controls",
      "model_module_version": "1.5.0",
      "model_name": "ButtonStyleModel",
      "state": {}
     },
     "aa9e6111eacf4e04ad1e84f3ac417465": {
      "model_module": "@jupyter-widgets/controls",
      "model_module_version": "1.5.0",
      "model_name": "ButtonModel",
      "state": {
       "description": "Cancel",
       "layout": "IPY_MODEL_2a80b2fffc81492da51da61f53cd342b",
       "style": "IPY_MODEL_8fe405b928ec425d9c7bd2136062e8b2"
      }
     },
     "aaa262035ef847fc80bcaaeed7cd6ce0": {
      "model_module": "@jupyter-widgets/base",
      "model_module_version": "1.2.0",
      "model_name": "LayoutModel",
      "state": {}
     },
     "aaa3f64b5c5841c297f8daa6be6ba0f1": {
      "model_module": "@jupyter-widgets/controls",
      "model_module_version": "1.5.0",
      "model_name": "DescriptionStyleModel",
      "state": {
       "description_width": "initial"
      }
     },
     "aab79543e2e14d6184958684b611d625": {
      "model_module": "@jupyter-widgets/base",
      "model_module_version": "1.2.0",
      "model_name": "LayoutModel",
      "state": {
       "display": "none",
       "grid_area": "filename",
       "width": "auto"
      }
     },
     "aae3f08233b74a7288ab22c25d187933": {
      "model_module": "@jupyter-widgets/controls",
      "model_module_version": "1.5.0",
      "model_name": "DescriptionStyleModel",
      "state": {
       "description_width": "initial"
      }
     },
     "ab171c519085433e9942f1c34869026a": {
      "model_module": "@jupyter-widgets/base",
      "model_module_version": "1.2.0",
      "model_name": "LayoutModel",
      "state": {
       "display": "none",
       "grid_gap": "0px 0px",
       "grid_template_areas": "\n                    'pathlist pathlist'\n                    'dircontent dircontent'\n                    ",
       "grid_template_columns": "60% 40%",
       "grid_template_rows": "auto auto",
       "width": "500px"
      }
     },
     "ab204151687a4a7f9e0702aee0de37a3": {
      "model_module": "@jupyter-widgets/controls",
      "model_module_version": "1.5.0",
      "model_name": "FloatTextModel",
      "state": {
       "description": "Elevation (m)",
       "layout": "IPY_MODEL_4494ed3da2454fabb355b9beb1c4980f",
       "step": null,
       "style": "IPY_MODEL_29b97a6729304e2ca6c5e5a2a3fd9949"
      }
     },
     "ab2093fb6f834115a6773d843cd38011": {
      "model_module": "@jupyter-widgets/controls",
      "model_module_version": "1.5.0",
      "model_name": "LabelModel",
      "state": {
       "layout": "IPY_MODEL_3132ee1ab28c4b39b1105b91aef462f9",
       "style": "IPY_MODEL_f8632923f35945caa0049f80ebc7e493",
       "value": "Monitoring folder"
      }
     },
     "ab47085635fe47d49a4bdf96e1234696": {
      "model_module": "@jupyter-widgets/controls",
      "model_module_version": "1.5.0",
      "model_name": "TextModel",
      "state": {
       "layout": "IPY_MODEL_78d1b12f09b94e40adcae6b679b7e5c9",
       "placeholder": "output filename",
       "style": "IPY_MODEL_8748befcc8d44064871c478fd9dc11db"
      }
     },
     "ab8a246a58274b7e8019f3672dd95baa": {
      "model_module": "@jupyter-widgets/base",
      "model_module_version": "1.2.0",
      "model_name": "LayoutModel",
      "state": {}
     },
     "ab8fad5b61ad44ba84c4a83f7780e0d2": {
      "model_module": "@jupyter-widgets/base",
      "model_module_version": "1.2.0",
      "model_name": "LayoutModel",
      "state": {}
     },
     "abd27a6a0e5642f6bfd4a2110b337567": {
      "model_module": "@jupyter-widgets/controls",
      "model_module_version": "1.5.0",
      "model_name": "FloatTextModel",
      "state": {
       "description": "SI",
       "layout": "IPY_MODEL_1e9049d674fe460396d8999280b59c72",
       "step": null,
       "style": "IPY_MODEL_26cd9e92cf0044c9ab9cc7b73947c0de"
      }
     },
     "ac02953d58d34170b6a65057b49f0d34": {
      "model_module": "@jupyter-widgets/controls",
      "model_module_version": "1.5.0",
      "model_name": "TextModel",
      "state": {
       "continuous_update": false,
       "description": "Group:",
       "layout": "IPY_MODEL_0ca4645c0fb94b38aca25cfed1c4fccc",
       "style": "IPY_MODEL_332ece55b2d440c5b3fd3877cedc8afc"
      }
     },
     "ac2149199cc4469dae60c6a7ea777c48": {
      "model_module": "@jupyter-widgets/controls",
      "model_module_version": "1.5.0",
      "model_name": "VBoxModel",
      "state": {
       "children": [
        "IPY_MODEL_5ca5eeb7465d4da5a40d8cdf14b87aee",
        "IPY_MODEL_241ceae3a01d4bb9822aa1b45ff4bbf9",
        "IPY_MODEL_ecacd7a0012f4df6b50425e055e3a6db"
       ],
       "layout": "IPY_MODEL_5550014fb85e45579d59697ef5476444"
      }
     },
     "ac4d5bea977a430b8e0d3220b4f5743e": {
      "model_module": "@jupyter-widgets/controls",
      "model_module_version": "1.5.0",
      "model_name": "ButtonStyleModel",
      "state": {}
     },
     "ac620226b351480dbad5186f22903515": {
      "model_module": "@jupyter-widgets/base",
      "model_module_version": "1.2.0",
      "model_name": "LayoutModel",
      "state": {
       "width": "auto"
      }
     },
     "ac6b22662ca442a5b1834f818c157de2": {
      "model_module": "@jupyter-widgets/base",
      "model_module_version": "1.2.0",
      "model_name": "LayoutModel",
      "state": {
       "width": "auto"
      }
     },
     "ac6dcc32fb0f442f800222382e0fc5c9": {
      "model_module": "@jupyter-widgets/controls",
      "model_module_version": "1.5.0",
      "model_name": "VBoxModel",
      "state": {
       "children": [
        "IPY_MODEL_ec51ccf5901c42ea9dd383f091e8d2a1",
        "IPY_MODEL_ff62df12cf9942439bd05b0b2874a092"
       ],
       "layout": "IPY_MODEL_4fb65851001a43de9c74a644ce51714e"
      }
     },
     "ac84e74506cc4ce08a65a25d5c0ca227": {
      "model_module": "@jupyter-widgets/controls",
      "model_module_version": "1.5.0",
      "model_name": "DropdownModel",
      "state": {
       "_options_labels": [
        "C:\\Users\\dominiquef\\Documents\\GIT\\RichardScottOZ\\geoapps\\docs\\content\\applications",
        "C:\\Users\\dominiquef\\Documents\\GIT\\RichardScottOZ\\geoapps\\docs\\content",
        "C:\\Users\\dominiquef\\Documents\\GIT\\RichardScottOZ\\geoapps\\docs",
        "C:\\Users\\dominiquef\\Documents\\GIT\\RichardScottOZ\\geoapps",
        "C:\\Users\\dominiquef\\Documents\\GIT\\RichardScottOZ",
        "C:\\Users\\dominiquef\\Documents\\GIT",
        "C:\\Users\\dominiquef\\Documents",
        "C:\\Users\\dominiquef",
        "C:\\Users",
        "C:\\",
        "D:\\",
        "Z:\\"
       ],
       "index": 0,
       "layout": "IPY_MODEL_ec4eae1f0ff6470cb2542884e1a3c356",
       "style": "IPY_MODEL_68a17b8a625f4c83b84e3d123f913854"
      }
     },
     "ac8927cddabc4dbab8e38cf66f82fff7": {
      "model_module": "@jupyter-widgets/controls",
      "model_module_version": "1.5.0",
      "model_name": "DescriptionStyleModel",
      "state": {
       "description_width": ""
      }
     },
     "ac972b43d23b49f7be111d9533bc9b60": {
      "model_module": "@jupyter-widgets/base",
      "model_module_version": "1.2.0",
      "model_name": "LayoutModel",
      "state": {}
     },
     "acb8565a41124c75be86f6995d4020cd": {
      "model_module": "@jupyter-widgets/controls",
      "model_module_version": "1.5.0",
      "model_name": "FloatTextModel",
      "state": {
       "description": "phi_d/phi_m",
       "layout": "IPY_MODEL_17672a6a254f454895914e7b07f6429e",
       "step": null,
       "style": "IPY_MODEL_3e143846de954cd99445f77aeabaab27",
       "value": 100
      }
     },
     "acebf1cd02c84ffd93abe2e868641d31": {
      "model_module": "@jupyter-widgets/controls",
      "model_module_version": "1.5.0",
      "model_name": "DescriptionStyleModel",
      "state": {
       "description_width": "initial"
      }
     },
     "ad20803bfd654ba6bbfba3aa39d5af51": {
      "model_module": "@jupyter-widgets/controls",
      "model_module_version": "1.5.0",
      "model_name": "DescriptionStyleModel",
      "state": {
       "description_width": ""
      }
     },
     "ad2251a816034d558ae825df0532e8f8": {
      "model_module": "@jupyter-widgets/controls",
      "model_module_version": "1.5.0",
      "model_name": "DescriptionStyleModel",
      "state": {
       "description_width": ""
      }
     },
     "ad3489d2921a4d46b7f187226835e083": {
      "model_module": "@jupyter-widgets/base",
      "model_module_version": "1.2.0",
      "model_name": "LayoutModel",
      "state": {
       "display": "none",
       "grid_gap": "0px 0px",
       "grid_template_areas": "\n                    'pathlist filename'\n                    'dircontent dircontent'\n                    ",
       "grid_template_columns": "60% 40%",
       "grid_template_rows": "auto auto",
       "width": "500px"
      }
     },
     "ad6a9615f92041f78f0cc1a0d237a0de": {
      "model_module": "@jupyter-widgets/base",
      "model_module_version": "1.2.0",
      "model_name": "LayoutModel",
      "state": {
       "display": "none",
       "grid_gap": "0px 0px",
       "grid_template_areas": "\n                    'pathlist filename'\n                    'dircontent dircontent'\n                    ",
       "grid_template_columns": "60% 40%",
       "grid_template_rows": "auto auto",
       "width": "500px"
      }
     },
     "ad7ff1766d3f47c888b96b215b555dda": {
      "model_module": "@jupyter-widgets/controls",
      "model_module_version": "1.5.0",
      "model_name": "ButtonStyleModel",
      "state": {}
     },
     "ad8ee944b76c4fd3862daba2c77475ae": {
      "model_module": "@jupyter-widgets/controls",
      "model_module_version": "1.5.0",
      "model_name": "HTMLModel",
      "state": {
       "layout": "IPY_MODEL_7a40adb91bdf4ba4b1cb75f4f28ce0a9",
       "placeholder": "",
       "style": "IPY_MODEL_dd008d7f70bc415988eb5cbfab800b36",
       "value": "<span style=\"margin-left:10px; color:black;\">No file selected</span>"
      }
     },
     "ada611f729d5482ab23ffcc4b2910fc7": {
      "model_module": "@jupyter-widgets/base",
      "model_module_version": "1.2.0",
      "model_name": "LayoutModel",
      "state": {}
     },
     "adc07d4ce272438db364719680160651": {
      "model_module": "@jupyter-widgets/base",
      "model_module_version": "1.2.0",
      "model_name": "LayoutModel",
      "state": {
       "display": "none",
       "grid_gap": "0px 0px",
       "grid_template_areas": "\n                    'pathlist filename'\n                    'dircontent dircontent'\n                    ",
       "grid_template_columns": "60% 40%",
       "grid_template_rows": "auto auto",
       "width": "500px"
      }
     },
     "adc1772e144b44608fcf1c8262bf5371": {
      "model_module": "@jupyter-widgets/controls",
      "model_module_version": "1.5.0",
      "model_name": "VBoxModel",
      "state": {
       "children": [
        "IPY_MODEL_97e2072803cd4b09aff45fcceeacf1ad",
        "IPY_MODEL_d185828b03564f5190f97c3baa4df713"
       ],
       "layout": "IPY_MODEL_02b5bab9c4df4126a7d873974d0529fe"
      }
     },
     "add6ddfde3d24e1c8c1e6f07d7645753": {
      "model_module": "@jupyter-widgets/base",
      "model_module_version": "1.2.0",
      "model_name": "LayoutModel",
      "state": {
       "width": "auto"
      }
     },
     "adebce33eb834ea18336876396357035": {
      "model_module": "@jupyter-widgets/controls",
      "model_module_version": "1.5.0",
      "model_name": "DescriptionStyleModel",
      "state": {
       "description_width": ""
      }
     },
     "ae24dc6a8a0645969e9f5b6c6f6187ad": {
      "model_module": "@jupyter-widgets/controls",
      "model_module_version": "1.5.0",
      "model_name": "DescriptionStyleModel",
      "state": {
       "description_width": ""
      }
     },
     "ae313fcee5154a81b315b87d0e15c208": {
      "model_module": "@jupyter-widgets/base",
      "model_module_version": "1.2.0",
      "model_name": "LayoutModel",
      "state": {}
     },
     "ae46cbd9db56410e94c517ab14188c15": {
      "model_module": "@jupyter-widgets/base",
      "model_module_version": "1.2.0",
      "model_name": "LayoutModel",
      "state": {}
     },
     "ae5998073a0e44a88d37fe1f3bbe9a36": {
      "model_module": "@jupyter-widgets/controls",
      "model_module_version": "1.5.0",
      "model_name": "DescriptionStyleModel",
      "state": {
       "description_width": ""
      }
     },
     "ae7c4bc46c0c44ed8c529c9967f67357": {
      "model_module": "@jupyter-widgets/controls",
      "model_module_version": "1.5.0",
      "model_name": "ButtonStyleModel",
      "state": {}
     },
     "ae85b496bc044208941c2939a48ddc87": {
      "model_module": "@jupyter-widgets/base",
      "model_module_version": "1.2.0",
      "model_name": "LayoutModel",
      "state": {}
     },
     "ae97d48e07074d0c839e1517cac77ede": {
      "model_module": "@jupyter-widgets/controls",
      "model_module_version": "1.5.0",
      "model_name": "DescriptionStyleModel",
      "state": {
       "description_width": ""
      }
     },
     "ae9e4f0ba6564688802d8b949419335f": {
      "model_module": "@jupyter-widgets/base",
      "model_module_version": "1.2.0",
      "model_name": "LayoutModel",
      "state": {}
     },
     "aefab5ae9dc347d0a374ab147ae8ca43": {
      "model_module": "@jupyter-widgets/controls",
      "model_module_version": "1.5.0",
      "model_name": "TextModel",
      "state": {
       "description": "Offsets (x,y,z)",
       "layout": "IPY_MODEL_0af3604512f649f1bdf569cdead9a606",
       "style": "IPY_MODEL_d0a989598eab4f189f41c9a77588d6bf",
       "value": "0, 0, 0"
      }
     },
     "af12d3ff40de4ba7a94148d07c489efd": {
      "model_module": "@jupyter-widgets/base",
      "model_module_version": "1.2.0",
      "model_name": "LayoutModel",
      "state": {}
     },
     "af19ea0acc414fe2bcdf1046936fd406": {
      "model_module": "@jupyter-widgets/base",
      "model_module_version": "1.2.0",
      "model_name": "LayoutModel",
      "state": {}
     },
     "af37f6abfafd47fcb55f249c8ca303ab": {
      "model_module": "@jupyter-widgets/controls",
      "model_module_version": "1.5.0",
      "model_name": "HBoxModel",
      "state": {
       "children": [
        "IPY_MODEL_0ccb230007974e67b87cc831a8b23b04",
        "IPY_MODEL_3fabf3ef817140bf91a207fd7722e430"
       ],
       "layout": "IPY_MODEL_ff37628db36f4f0a9217ffc374899d70"
      }
     },
     "af54b70cccb545d8b9f769ccfa100229": {
      "model_module": "@jupyter-widgets/controls",
      "model_module_version": "1.5.0",
      "model_name": "DescriptionStyleModel",
      "state": {
       "description_width": ""
      }
     },
     "af56532c6ae94495a36a5be4ff4a9535": {
      "model_module": "@jupyter-widgets/controls",
      "model_module_version": "1.5.0",
      "model_name": "FloatTextModel",
      "state": {
       "description": "Max triangulation length",
       "layout": "IPY_MODEL_a9fced2213b348b3b20be3c1b983f22b",
       "step": null,
       "style": "IPY_MODEL_838d9a2d78134a54bdf0f8221238d027",
       "value": 1000
      }
     },
     "af600494434d43d2a2a565d915611a54": {
      "model_module": "@jupyter-widgets/base",
      "model_module_version": "1.2.0",
      "model_name": "LayoutModel",
      "state": {}
     },
     "af6eeac674314302944f5f3bdfa898cc": {
      "model_module": "@jupyter-widgets/base",
      "model_module_version": "1.2.0",
      "model_name": "LayoutModel",
      "state": {}
     },
     "af8ab7ff994c4dbb918379e571ac826b": {
      "model_module": "@jupyter-widgets/base",
      "model_module_version": "1.2.0",
      "model_name": "LayoutModel",
      "state": {}
     },
     "af8afbea16304de6ae28868d48b32e5c": {
      "model_module": "@jupyter-widgets/base",
      "model_module_version": "1.2.0",
      "model_name": "LayoutModel",
      "state": {}
     },
     "afb555ef760b4b56b1b35094568fa176": {
      "model_module": "@jupyter-widgets/controls",
      "model_module_version": "1.5.0",
      "model_name": "DescriptionStyleModel",
      "state": {
       "description_width": "initial"
      }
     },
     "afbf427011874914a2210dc9e7a0da30": {
      "model_module": "@jupyter-widgets/controls",
      "model_module_version": "1.5.0",
      "model_name": "DescriptionStyleModel",
      "state": {
       "description_width": "initial"
      }
     },
     "afbf4a3036254de48dcecc7d9b734885": {
      "model_module": "@jupyter-widgets/controls",
      "model_module_version": "1.5.0",
      "model_name": "DropdownModel",
      "state": {
       "_options_labels": [
        "C:\\Users\\dominiquef\\Documents\\GIT\\mira\\mirageoscience-apps\\docs\\content\\applications",
        "C:\\Users\\dominiquef\\Documents\\GIT\\mira\\mirageoscience-apps\\docs\\content",
        "C:\\Users\\dominiquef\\Documents\\GIT\\mira\\mirageoscience-apps\\docs",
        "C:\\Users\\dominiquef\\Documents\\GIT\\mira\\mirageoscience-apps",
        "C:\\Users\\dominiquef\\Documents\\GIT\\mira",
        "C:\\Users\\dominiquef\\Documents\\GIT",
        "C:\\Users\\dominiquef\\Documents",
        "C:\\Users\\dominiquef",
        "C:\\Users",
        "C:\\",
        "D:\\",
        "Z:\\"
       ],
       "index": 0,
       "layout": "IPY_MODEL_8b32d2c360f34622bfeb7ee072243f8e",
       "style": "IPY_MODEL_1d6e90899943497d8831e743397d101f"
      }
     },
     "afd857408a304f0ab7d29e8346fc5e98": {
      "model_module": "@jupyter-widgets/base",
      "model_module_version": "1.2.0",
      "model_name": "LayoutModel",
      "state": {}
     },
     "b0308418e47949e2bfd81c8fc77f0914": {
      "model_module": "@jupyter-widgets/controls",
      "model_module_version": "1.5.0",
      "model_name": "ButtonModel",
      "state": {
       "description": "Create copy:",
       "layout": "IPY_MODEL_e223cae63b7f46d6a71538741c6dfb24",
       "style": "IPY_MODEL_3cf35457210646298298d1854346670f"
      }
     },
     "b033c8faebf4424ba818c332fcc5099c": {
      "model_module": "@jupyter-widgets/controls",
      "model_module_version": "1.5.0",
      "model_name": "VBoxModel",
      "state": {
       "children": [
        "IPY_MODEL_03ea2b108adb49fdb4c8c9ec9773266b",
        "IPY_MODEL_2f88aa3f87f84233bc83e8aaf17c1d8b"
       ],
       "layout": "IPY_MODEL_904ca9959bd0426da73fdda332281d87"
      }
     },
     "b07e822b34bf42c3a4cebde1f9d1a3f6": {
      "model_module": "@jupyter-widgets/controls",
      "model_module_version": "1.5.0",
      "model_name": "DropdownModel",
      "state": {
       "description": "Values",
       "index": null,
       "layout": "IPY_MODEL_f0d0bc71db0f452e96ac670256ca4024",
       "style": "IPY_MODEL_8520cf4a098640d399c7ffffb52bb0e4"
      }
     },
     "b08383aaf6944098bec8f6d05defbbba": {
      "model_module": "@jupyter-widgets/controls",
      "model_module_version": "1.5.0",
      "model_name": "ButtonStyleModel",
      "state": {}
     },
     "b09b4501237a4462ae0864a3fc088a89": {
      "model_module": "@jupyter-widgets/controls",
      "model_module_version": "1.5.0",
      "model_name": "DropdownModel",
      "state": {
       "_options_labels": [
        "",
        "Data_TEM_pseudo3DEPSG_4326",
        "Gravity_Magnetics_drape60mEPSG_4326",
        "Iso_Iteration_7_model_0.015",
        "Iso_Iteration_7_model_0.01",
        "Iso_Iteration_7_model_0.02",
        "Iso_Iteration_7_model_0.005",
        "Iso_Iteration_7_model_0.0025",
        "fault_splay1",
        "fault_Cliff_Lake",
        "fault_Other_FlinFlon",
        "fault_Club_Lake_splay",
        "fault_Catherine_splay2",
        "fault_Birch_View",
        "fault_Dion_Lake",
        "fault_FlinFlon_splay",
        "fault_West_Mandy_Road",
        "fault_Channing",
        "fault_Ross_Lake",
        "fault_Louis_Hidden",
        "fault_Lake_View_thrust",
        "contact_Schist_Lake",
        "fault_Burley_Lake",
        "fault_Dion_Lake_splay",
        "fault_Green_Lake",
        "fault_FlinFlon",
        "fault_Catherine_splay1",
        "fault_East_Mandy_Road",
        "fault_Other_FlinFlon_South",
        "fault_Catherine_splay4",
        "contact_Stitt_Island",
        "fault_Club_Lake",
        "fault_Tailing_Pond",
        "35_Hidden_Reservoir_Hr5",
        "29_Hidden_Reservoir_Hr1a",
        "60_BlueLagoon_Fb2",
        "20_FlinFlon_Undivided_Int_Dykes_D2f",
        "04_Boundary_Intrusive_S4h",
        "53_Millrock_Rhyolite_Fm4b",
        "19_FlinFlon_Undivided_Int_Dykes_D2b",
        "18_FlinFlon_Undivided_Int_Dykes_777_D2b",
        "06_Phantom_Lake_Intrusive_S3a",
        "21_FlinFlon_Undivided_Int_Dykes_D3a",
        "43_Millrock_CHLSH_South",
        "56_Millrock_Basalt_Fm1ba",
        "17_FlinFlon_Undivided_Int_Dykes_D2",
        "32_Hidden_Reservoir_Hr1b_SW",
        "11_Missi_M3_NE",
        "13_Missi_M1",
        "07_Annabel_Granitoid_S1",
        "45_Millrock_Gabbro_South",
        "01_Late_Intrusive_S5b",
        "31_Hidden_Reservoir_Hr1c_SW",
        "52_Millrock_Rhyolite_Fm4_West_check",
        "55_Millrock_Basalt_Fm1bf",
        "34_Hidden_Reservoir_Hr2b",
        "03_Boundary_Intrusive_S4b",
        "42_Millrock_CHLSH_North",
        "26_Louis_L3",
        "23_FlinFlon_Undivided_Int_Felsic_D4g",
        "30_Hidden_Reservoir_Hr1b",
        "59_BlueLagoon_Fb3",
        "49_Millrock_MVR_Fm5d",
        "44_Millrock_Gabbro_North",
        "27_Hidden_Carlisle_Hc4",
        "22_FlinFlon_Undivided_Int_Felsic_D4e",
        "02_Boundary_Intrusive_S4a",
        "61_BlueLagoon_Fb1_NW",
        "05_Boundary_Intrusive_S4g",
        "39_Ore_Callinan",
        "38_Ore_Dan_Owens",
        "40_Ore_FlinFlon",
        "Inversion_VTEM_Model",
        "Gravity_Magnetics_drape60m",
        "CDI_VTEM_model",
        "Data_FEM_pseudo3D",
        "O2O_Interp_25m",
        "geochem",
        "Inversion_DIGHEM_Model",
        "Topography",
        "Data_TEM_pseudo3D"
       ],
       "description": "Object:",
       "index": 0,
       "layout": "IPY_MODEL_083b4448cff94e35a1c2c2ddde05d9c6",
       "style": "IPY_MODEL_d2ccb36b42f74ede9f8b1d270bf66ad4"
      }
     },
     "b09c5d76359b435f9146ff16c2963b4c": {
      "model_module": "@jupyter-widgets/base",
      "model_module_version": "1.2.0",
      "model_name": "LayoutModel",
      "state": {}
     },
     "b0f70e5f5ef74422b3a9cee12f003a17": {
      "model_module": "@jupyter-widgets/base",
      "model_module_version": "1.2.0",
      "model_name": "LayoutModel",
      "state": {}
     },
     "b11f368a1ef3485d8b86bd2d4dff02d1": {
      "model_module": "@jupyter-widgets/controls",
      "model_module_version": "1.5.0",
      "model_name": "HTMLModel",
      "state": {
       "layout": "IPY_MODEL_beda7f9f424d40b795776dff245eb1d2",
       "style": "IPY_MODEL_4bfe4c59083a4b8a886f808d8bc23a79"
      }
     },
     "b1254b42d1bb41d78483deb79b3e354a": {
      "model_module": "@jupyter-widgets/base",
      "model_module_version": "1.2.0",
      "model_name": "LayoutModel",
      "state": {}
     },
     "b13076602ea54093a01e0588e04f1937": {
      "model_module": "@jupyter-widgets/controls",
      "model_module_version": "1.5.0",
      "model_name": "LabelModel",
      "state": {
       "layout": "IPY_MODEL_d4fa55c79944478ca8bad6b9f3f33ecc",
       "style": "IPY_MODEL_fdc0a9c517e94f45a9b0ac6b3e20d1c9",
       "value": "Monitoring folder"
      }
     },
     "b1353f4f86474acfb9097c6843b9f22a": {
      "model_module": "@jupyter-widgets/controls",
      "model_module_version": "1.5.0",
      "model_name": "CheckboxModel",
      "state": {
       "description": "Active",
       "disabled": false,
       "layout": "IPY_MODEL_9c7c02d8149447ecb264c836177c1dd9",
       "style": "IPY_MODEL_d9f20db7a3a7495f8d24c8eea11367cb",
       "value": false
      }
     },
     "b147f94a857a4e7285d78f5c83867ad2": {
      "model_module": "@jupyter-widgets/controls",
      "model_module_version": "1.5.0",
      "model_name": "HBoxModel",
      "state": {
       "children": [
        "IPY_MODEL_791a8122a8d14aac863ae6caca081086",
        "IPY_MODEL_9c92dd5b9fb24f7f909ddacd275af26a",
        "IPY_MODEL_37338cc20a34428492ee5125b384e438"
       ],
       "layout": "IPY_MODEL_9ca69dc42e234d018804dfa191441755"
      }
     },
     "b14c3d1a9b3a4e379fb3ddd34f323413": {
      "model_module": "@jupyter-widgets/controls",
      "model_module_version": "1.5.0",
      "model_name": "LabelModel",
      "state": {
       "layout": "IPY_MODEL_9def178517c64c2bbe5d56c174ff7d6f",
       "style": "IPY_MODEL_5bcb65625f4e49fca1b702aafd289b54",
       "value": "Monitoring folder"
      }
     },
     "b16c71bcb784448195c717d344bd0bf6": {
      "model_module": "@jupyter-widgets/base",
      "model_module_version": "1.2.0",
      "model_name": "LayoutModel",
      "state": {}
     },
     "b17fd4c18afe47299929533e6b4f11ca": {
      "model_module": "@jupyter-widgets/controls",
      "model_module_version": "1.5.0",
      "model_name": "CheckboxModel",
      "state": {
       "description": "GA Pro - Live link",
       "disabled": false,
       "indent": false,
       "layout": "IPY_MODEL_016971c371204cc2bc3f1921a074e41f",
       "style": "IPY_MODEL_1bb51723a86e4df395d464a48f32da30",
       "value": false
      }
     },
     "b1936034fd9043ab92a748e6e2dfef2b": {
      "model_module": "@jupyter-widgets/base",
      "model_module_version": "1.2.0",
      "model_name": "LayoutModel",
      "state": {
       "width": "auto"
      }
     },
     "b19504469f854ccf80fcc052234504e9": {
      "model_module": "@jupyter-widgets/controls",
      "model_module_version": "1.5.0",
      "model_name": "VBoxModel",
      "state": {
       "children": [
        "IPY_MODEL_86c3296db90e4115b5871cf790ce4da0",
        "IPY_MODEL_6263887fb25c4f34b12b25bc5bf71690"
       ],
       "layout": "IPY_MODEL_f1ce58ae7f1b476e80d093001efff964"
      }
     },
     "b1c1dcdf4ca84cf7a3661f211e312a07": {
      "model_module": "@jupyter-widgets/controls",
      "model_module_version": "1.5.0",
      "model_name": "DescriptionStyleModel",
      "state": {
       "description_width": ""
      }
     },
     "b1c5715a96644771bb75328d9178de42": {
      "model_module": "@jupyter-widgets/controls",
      "model_module_version": "1.5.0",
      "model_name": "HTMLModel",
      "state": {
       "layout": "IPY_MODEL_0b8ea36fcdb44e1385850a0f865ad2d7",
       "placeholder": "",
       "style": "IPY_MODEL_a34d4fba03f04a0091a0b70db07ff029",
       "value": "<span style=\"margin-left:10px; color:green;\">C:\\Users\\dominiquef\\Documents\\GIT\\mira\\mirageoscience-apps\\assets\\</span>"
      }
     },
     "b2005ac3b1b641e1b15a9ef2e0e92e13": {
      "model_module": "@jupyter-widgets/base",
      "model_module_version": "1.2.0",
      "model_name": "LayoutModel",
      "state": {}
     },
     "b2100110b2104fb99f4441355127f6e3": {
      "model_module": "@jupyter-widgets/controls",
      "model_module_version": "1.5.0",
      "model_name": "DescriptionStyleModel",
      "state": {
       "description_width": ""
      }
     },
     "b213160335774d27a7f89ce10d4d8293": {
      "model_module": "@jupyter-widgets/base",
      "model_module_version": "1.2.0",
      "model_name": "LayoutModel",
      "state": {}
     },
     "b2307be7798a47d0a75d01030e96c9a0": {
      "model_module": "@jupyter-widgets/base",
      "model_module_version": "1.2.0",
      "model_name": "LayoutModel",
      "state": {}
     },
     "b23f0258a49e4c78b808adad91af1f8a": {
      "model_module": "@jupyter-widgets/controls",
      "model_module_version": "1.5.0",
      "model_name": "DescriptionStyleModel",
      "state": {
       "description_width": ""
      }
     },
     "b245c35d3c8d4538bd370144f04c9652": {
      "model_module": "@jupyter-widgets/controls",
      "model_module_version": "1.5.0",
      "model_name": "HBoxModel",
      "state": {
       "children": [
        "IPY_MODEL_c9e8e605dc82497b91e2fae7ae4b01ee",
        "IPY_MODEL_fddcd78dff0d49af92211e010a734a74",
        "IPY_MODEL_f6a05c6a718345aba030fc3fea82a000"
       ],
       "layout": "IPY_MODEL_31517648be5f410da0791d07a9b38f58"
      }
     },
     "b251aeb6d6ad4de9b988b4b927c9be3e": {
      "model_module": "@jupyter-widgets/controls",
      "model_module_version": "1.5.0",
      "model_name": "VBoxModel",
      "state": {
       "children": [
        "IPY_MODEL_32d2dd7bad6743ab8f8c181efed4a59c",
        "IPY_MODEL_3879300a77f34ed295f2352f9ba0e088"
       ],
       "layout": "IPY_MODEL_9688ecdc57c741e9b42468a1a6bf3600"
      }
     },
     "b26023a8519743fdb4cfd4b12c6b6bfc": {
      "model_module": "@jupyter-widgets/controls",
      "model_module_version": "1.5.0",
      "model_name": "DescriptionStyleModel",
      "state": {
       "description_width": ""
      }
     },
     "b2608c81d6594e22bfcd4e6a51189199": {
      "model_module": "@jupyter-widgets/controls",
      "model_module_version": "1.5.0",
      "model_name": "DescriptionStyleModel",
      "state": {
       "description_width": ""
      }
     },
     "b26803b63ecf4ee6a8a0010f42b20fae": {
      "model_module": "@jupyter-widgets/output",
      "model_module_version": "1.0.0",
      "model_name": "OutputModel",
      "state": {
       "layout": "IPY_MODEL_054841de9e554bf99fcd0f0dfbd89c80",
       "outputs": [
        {
         "data": {
          "image/png": "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\n",
          "text/plain": "<Figure size 720x720 with 1 Axes>"
         },
         "metadata": {
          "needs_background": "light"
         },
         "output_type": "display_data"
        }
       ]
      }
     },
     "b2a3fc562e864c8ca27359e5d02c4ecd": {
      "model_module": "@jupyter-widgets/base",
      "model_module_version": "1.2.0",
      "model_name": "LayoutModel",
      "state": {
       "display": "none",
       "grid_area": "filename",
       "width": "auto"
      }
     },
     "b2a9036e896b41879bcaaec9a9575e50": {
      "model_module": "@jupyter-widgets/base",
      "model_module_version": "1.2.0",
      "model_name": "LayoutModel",
      "state": {
       "width": "auto"
      }
     },
     "b2d420e9a31d4a44b3d301f37909fe45": {
      "model_module": "@jupyter-widgets/controls",
      "model_module_version": "1.5.0",
      "model_name": "ButtonStyleModel",
      "state": {}
     },
     "b2da21e89f094ed499b9c83852cff65e": {
      "model_module": "@jupyter-widgets/controls",
      "model_module_version": "1.5.0",
      "model_name": "LabelModel",
      "state": {
       "layout": "IPY_MODEL_8d6170ddfc6c47a6a92332725e227619",
       "style": "IPY_MODEL_3dc253b3db3f46f1815c7f4a40f45107",
       "value": "Workspace"
      }
     },
     "b2f36814ff9d453594e4306c5f6220d1": {
      "model_module": "@jupyter-widgets/base",
      "model_module_version": "1.2.0",
      "model_name": "LayoutModel",
      "state": {}
     },
     "b2fe569db2e04bb09f5f3a6c620698c7": {
      "model_module": "@jupyter-widgets/controls",
      "model_module_version": "1.5.0",
      "model_name": "HTMLModel",
      "state": {
       "layout": "IPY_MODEL_bd9bf60b62b840ec9c9993635e3ceeaa",
       "placeholder": "",
       "style": "IPY_MODEL_7d43a0f35a8042fea51614591df91ec3",
       "value": "<span style=\"margin-left:10px; color:black;\">No file selected</span>"
      }
     },
     "b321c7c70d4a429f99b6c07abdea7174": {
      "model_module": "@jupyter-widgets/controls",
      "model_module_version": "1.5.0",
      "model_name": "TextModel",
      "state": {
       "layout": "IPY_MODEL_fe368b55945c4ad199a917c4c6947aee",
       "placeholder": "output filename",
       "style": "IPY_MODEL_ebdda7cd0b014bc6bba2ba0a4518f16a"
      }
     },
     "b33d1c2d79854f77803b0df7acf646f7": {
      "model_module": "@jupyter-widgets/controls",
      "model_module_version": "1.5.0",
      "model_name": "DescriptionStyleModel",
      "state": {
       "description_width": ""
      }
     },
     "b35236db23e9494981fbe0866c4c3f4a": {
      "model_module": "@jupyter-widgets/controls",
      "model_module_version": "1.5.0",
      "model_name": "DescriptionStyleModel",
      "state": {
       "description_width": ""
      }
     },
     "b36ed5d393a54ed4961d5bd4a3c9c0d5": {
      "model_module": "@jupyter-widgets/controls",
      "model_module_version": "1.5.0",
      "model_name": "DescriptionStyleModel",
      "state": {
       "description_width": ""
      }
     },
     "b392cd5a872f448aa093561badfcd286": {
      "model_module": "@jupyter-widgets/controls",
      "model_module_version": "1.5.0",
      "model_name": "TextModel",
      "state": {
       "continuous_update": false,
       "description": "Norms p_(s, x, y, z)",
       "layout": "IPY_MODEL_ebb930df7b9646fbac23748f22970ed3",
       "style": "IPY_MODEL_ea52d1d971ac47a9b4ffc3b12c7d083b",
       "value": "0, 2, 2, 2"
      }
     },
     "b397acb1534d454ea94a0e759aa50dbb": {
      "model_module": "@jupyter-widgets/controls",
      "model_module_version": "1.5.0",
      "model_name": "ButtonModel",
      "state": {
       "description": "Change",
       "layout": "IPY_MODEL_253017c63711467e8406c5a8db44ad9f",
       "style": "IPY_MODEL_a92a567bce754601b38c72a2d52fb3f1"
      }
     },
     "b39ea5f3f024488b9bd395b11b8937fa": {
      "model_module": "@jupyter-widgets/base",
      "model_module_version": "1.2.0",
      "model_name": "LayoutModel",
      "state": {
       "visibility": "hidden"
      }
     },
     "b485fe891f7f4939ae468f85bea1ac56": {
      "model_module": "@jupyter-widgets/controls",
      "model_module_version": "1.5.0",
      "model_name": "DescriptionStyleModel",
      "state": {
       "description_width": ""
      }
     },
     "b4ada5b207f44d209d707f986237cd8a": {
      "model_module": "@jupyter-widgets/controls",
      "model_module_version": "1.5.0",
      "model_name": "DescriptionStyleModel",
      "state": {
       "description_width": ""
      }
     },
     "b4b7e27da7d1498ab0527d0f5294dd3e": {
      "model_module": "@jupyter-widgets/controls",
      "model_module_version": "1.5.0",
      "model_name": "LabelModel",
      "state": {
       "layout": "IPY_MODEL_a8fac7080cc04bd8a091c4d6c138c846",
       "style": "IPY_MODEL_96b51b61fe1b4c4dac44da780c6facb8",
       "value": "Monitoring folder"
      }
     },
     "b4c23f612b0943e2a1d48312ec3d4866": {
      "model_module": "@jupyter-widgets/controls",
      "model_module_version": "1.5.0",
      "model_name": "DescriptionStyleModel",
      "state": {
       "description_width": ""
      }
     },
     "b4eb1598af144c3490379e53e95a926a": {
      "model_module": "@jupyter-widgets/controls",
      "model_module_version": "1.5.0",
      "model_name": "DescriptionStyleModel",
      "state": {
       "description_width": ""
      }
     },
     "b504131eaf074fc38bb3133f4f272716": {
      "model_module": "@jupyter-widgets/base",
      "model_module_version": "1.2.0",
      "model_name": "LayoutModel",
      "state": {}
     },
     "b506700f35b6464294efc2aec831816b": {
      "model_module": "@jupyter-widgets/controls",
      "model_module_version": "1.5.0",
      "model_name": "HTMLModel",
      "state": {
       "layout": "IPY_MODEL_6011bbea1840449c9d7de954fc5a5283",
       "placeholder": "",
       "style": "IPY_MODEL_3c8f02e84624419b9723a29e3f3a8c6e",
       "value": "<span style=\"margin-left:10px; color:black;\">No file selected</span>"
      }
     },
     "b51c96fd7d2c416e9fe8ffdafb41ed59": {
      "model_module": "@jupyter-widgets/base",
      "model_module_version": "1.2.0",
      "model_name": "LayoutModel",
      "state": {
       "grid_area": "dircontent",
       "width": "auto"
      }
     },
     "b578b005d0df4601852bd8fdcae6659d": {
      "model_module": "@jupyter-widgets/controls",
      "model_module_version": "1.5.0",
      "model_name": "IntTextModel",
      "state": {
       "description": "Max beta Iterations",
       "layout": "IPY_MODEL_793606d415fd495581657c27d8d950d0",
       "step": 1,
       "style": "IPY_MODEL_20a43db676664679a4c01870475afb14",
       "value": 25
      }
     },
     "b580e605ef5c401ea5e0a05ab6d1dd06": {
      "model_module": "@jupyter-widgets/controls",
      "model_module_version": "1.5.0",
      "model_name": "TextModel",
      "state": {
       "description": "Offsets (x,y,z)",
       "layout": "IPY_MODEL_60bd71305fd348f8ace0b7073cb2b57c",
       "style": "IPY_MODEL_a69a2e144caa4d019ae175a045a3a300",
       "value": "0, 0, 0"
      }
     },
     "b5898853b5e14e4698b1f7c76254fcea": {
      "model_module": "@jupyter-widgets/controls",
      "model_module_version": "1.5.0",
      "model_name": "TextModel",
      "state": {
       "continuous_update": false,
       "description": "Group:",
       "layout": "IPY_MODEL_3853a79f84e544faab621e0cac918cf5",
       "style": "IPY_MODEL_b7bf02fcf76743a391e0d81a3afd918d"
      }
     },
     "b590d1ca99dd4525abd5604cf177fde9": {
      "model_module": "@jupyter-widgets/controls",
      "model_module_version": "1.5.0",
      "model_name": "DescriptionStyleModel",
      "state": {
       "description_width": "initial"
      }
     },
     "b5f73aa5762c4e268b1ca4526ca096f9": {
      "model_module": "@jupyter-widgets/controls",
      "model_module_version": "1.5.0",
      "model_name": "DropdownModel",
      "state": {
       "_options_labels": [
        "",
        "Data_TEM_pseudo3DEPSG_4326",
        "Gravity_Magnetics_drape60mEPSG_4326",
        "Iso_Iteration_7_model_0.015",
        "Iso_Iteration_7_model_0.01",
        "Iso_Iteration_7_model_0.02",
        "Iso_Iteration_7_model_0.005",
        "Iso_Iteration_7_model_0.0025",
        "fault_splay1",
        "fault_Cliff_Lake",
        "fault_Other_FlinFlon",
        "fault_Club_Lake_splay",
        "fault_Catherine_splay2",
        "fault_Birch_View",
        "fault_Dion_Lake",
        "fault_FlinFlon_splay",
        "fault_West_Mandy_Road",
        "fault_Channing",
        "fault_Ross_Lake",
        "fault_Louis_Hidden",
        "fault_Lake_View_thrust",
        "contact_Schist_Lake",
        "fault_Burley_Lake",
        "fault_Dion_Lake_splay",
        "fault_Green_Lake",
        "fault_FlinFlon",
        "fault_Catherine_splay1",
        "fault_East_Mandy_Road",
        "fault_Other_FlinFlon_South",
        "fault_Catherine_splay4",
        "contact_Stitt_Island",
        "fault_Club_Lake",
        "fault_Tailing_Pond",
        "35_Hidden_Reservoir_Hr5",
        "29_Hidden_Reservoir_Hr1a",
        "60_BlueLagoon_Fb2",
        "20_FlinFlon_Undivided_Int_Dykes_D2f",
        "04_Boundary_Intrusive_S4h",
        "53_Millrock_Rhyolite_Fm4b",
        "19_FlinFlon_Undivided_Int_Dykes_D2b",
        "18_FlinFlon_Undivided_Int_Dykes_777_D2b",
        "06_Phantom_Lake_Intrusive_S3a",
        "21_FlinFlon_Undivided_Int_Dykes_D3a",
        "43_Millrock_CHLSH_South",
        "56_Millrock_Basalt_Fm1ba",
        "17_FlinFlon_Undivided_Int_Dykes_D2",
        "32_Hidden_Reservoir_Hr1b_SW",
        "11_Missi_M3_NE",
        "13_Missi_M1",
        "07_Annabel_Granitoid_S1",
        "45_Millrock_Gabbro_South",
        "01_Late_Intrusive_S5b",
        "31_Hidden_Reservoir_Hr1c_SW",
        "52_Millrock_Rhyolite_Fm4_West_check",
        "55_Millrock_Basalt_Fm1bf",
        "34_Hidden_Reservoir_Hr2b",
        "03_Boundary_Intrusive_S4b",
        "42_Millrock_CHLSH_North",
        "26_Louis_L3",
        "23_FlinFlon_Undivided_Int_Felsic_D4g",
        "30_Hidden_Reservoir_Hr1b",
        "59_BlueLagoon_Fb3",
        "49_Millrock_MVR_Fm5d",
        "44_Millrock_Gabbro_North",
        "27_Hidden_Carlisle_Hc4",
        "22_FlinFlon_Undivided_Int_Felsic_D4e",
        "02_Boundary_Intrusive_S4a",
        "61_BlueLagoon_Fb1_NW",
        "05_Boundary_Intrusive_S4g",
        "39_Ore_Callinan",
        "38_Ore_Dan_Owens",
        "40_Ore_FlinFlon",
        "Inversion_VTEM_Model",
        "Gravity_Magnetics_drape60m",
        "CDI_VTEM_model",
        "Data_FEM_pseudo3D",
        "O2O_Interp_25m",
        "geochem",
        "Inversion_DIGHEM_Model",
        "Topography",
        "Data_TEM_pseudo3D"
       ],
       "description": "Object:",
       "index": 73,
       "layout": "IPY_MODEL_96cac2a8ad484f45907a2d4dfd74dd28",
       "style": "IPY_MODEL_b590d1ca99dd4525abd5604cf177fde9"
      }
     },
     "b60dc0bbca184283a348592e8d23059b": {
      "model_module": "@jupyter-widgets/controls",
      "model_module_version": "1.5.0",
      "model_name": "VBoxModel",
      "state": {
       "children": [
        "IPY_MODEL_5e50b84872c9441d9b84c15546a669fd",
        "IPY_MODEL_e0a7f9f7a19146c49814ad7bc4e576cc"
       ],
       "layout": "IPY_MODEL_06d85f3ffe184c2d946bb13e6de4da16"
      }
     },
     "b62fc386832246079fd254882fda5d37": {
      "model_module": "@jupyter-widgets/base",
      "model_module_version": "1.2.0",
      "model_name": "LayoutModel",
      "state": {}
     },
     "b64e1a012d394fb5b972d53e4695d4ec": {
      "model_module": "@jupyter-widgets/controls",
      "model_module_version": "1.5.0",
      "model_name": "VBoxModel",
      "state": {
       "children": [
        "IPY_MODEL_238565893367481c9a90b3ba16c34549",
        "IPY_MODEL_fa7ba379af3440cc93928179fd33a353"
       ],
       "layout": "IPY_MODEL_a637290ad3bc4ab9b6def387fba92e6e"
      }
     },
     "b64e3d5356814fa889da7c6a61ee13c4": {
      "model_module": "@jupyter-widgets/controls",
      "model_module_version": "1.5.0",
      "model_name": "ButtonModel",
      "state": {
       "button_style": "danger",
       "description": "Compute",
       "icon": "check",
       "layout": "IPY_MODEL_e89e30fff9d3496a8e3b6ebb4a5d6733",
       "style": "IPY_MODEL_1e854b2d83b14a959131a8dc8e71aa06",
       "tooltip": "Run computation"
      }
     },
     "b65cf557614f4971bf3a4ee20519e136": {
      "model_module": "@jupyter-widgets/controls",
      "model_module_version": "1.5.0",
      "model_name": "DescriptionStyleModel",
      "state": {
       "description_width": ""
      }
     },
     "b669c79f87f143c8b9104da98ae8ef44": {
      "model_module": "@jupyter-widgets/controls",
      "model_module_version": "1.5.0",
      "model_name": "DescriptionStyleModel",
      "state": {
       "description_width": ""
      }
     },
     "b67545184507490b80b38a3cd9e31a79": {
      "model_module": "@jupyter-widgets/controls",
      "model_module_version": "1.5.0",
      "model_name": "DescriptionStyleModel",
      "state": {
       "description_width": "initial"
      }
     },
     "b683f9e25203463bb2cb6ea09e190b71": {
      "model_module": "@jupyter-widgets/base",
      "model_module_version": "1.2.0",
      "model_name": "LayoutModel",
      "state": {}
     },
     "b69456c01bc041fa9dae2a701561125b": {
      "model_module": "@jupyter-widgets/controls",
      "model_module_version": "1.5.0",
      "model_name": "SelectMultipleModel",
      "state": {
       "_options_labels": [
        "",
        "--- Channels ---",
        "Airborne_Gxx",
        "Airborne_Gxy",
        "Airborne_Gxz",
        "Airborne_Gyy",
        "Airborne_Gyz",
        "Airborne_Gz",
        "Airborne_Gzz",
        "Airborne_TMI",
        "Ground_Gz",
        "Z"
       ],
       "description": "Data: ",
       "index": [
        9
       ],
       "layout": "IPY_MODEL_768ca00c54274c8b8f863189ec8f3456",
       "rows": 5,
       "style": "IPY_MODEL_3930add7f70744bb922bbeaefead2367"
      }
     },
     "b697abac9d234795a41c16614d92f030": {
      "model_module": "@jupyter-widgets/controls",
      "model_module_version": "1.5.0",
      "model_name": "HTMLModel",
      "state": {
       "layout": "IPY_MODEL_b827e7863ed24313bbf0a720e75eb72d",
       "style": "IPY_MODEL_066ecca4d1c1411bb2c98abd487e55ee"
      }
     },
     "b6aae3d4e9b24cf38e742242a5e43c44": {
      "model_module": "@jupyter-widgets/controls",
      "model_module_version": "1.5.0",
      "model_name": "DescriptionStyleModel",
      "state": {
       "description_width": ""
      }
     },
     "b6b295f954f146c0aded3fc5afea3fb9": {
      "model_module": "@jupyter-widgets/controls",
      "model_module_version": "1.5.0",
      "model_name": "DescriptionStyleModel",
      "state": {
       "description_width": "initial"
      }
     },
     "b6d49346de704c0a9bbb38877dbe38e7": {
      "model_module": "@jupyter-widgets/controls",
      "model_module_version": "1.5.0",
      "model_name": "DescriptionStyleModel",
      "state": {
       "description_width": "initial"
      }
     },
     "b6e37033336c4e91b906ce889681639b": {
      "model_module": "@jupyter-widgets/controls",
      "model_module_version": "1.5.0",
      "model_name": "DropdownModel",
      "state": {
       "_options_labels": [
        "tmi",
        "bxx",
        "bxy",
        "bxz",
        "byy",
        "byz",
        "bzz"
       ],
       "index": 0,
       "layout": "IPY_MODEL_34b2edcad06e4077a76c307f99caa62a",
       "style": "IPY_MODEL_3c1df92c3e744e608c98734e2184c004"
      }
     },
     "b6f3b2e0834d431abd39bf65af505dde": {
      "model_module": "@jupyter-widgets/controls",
      "model_module_version": "1.5.0",
      "model_name": "ButtonModel",
      "state": {
       "description": "Cancel",
       "layout": "IPY_MODEL_f1020c248a374157a76706d9033cbff3",
       "style": "IPY_MODEL_73c9ece9ffeb4c888f807dacbdf8aa7f"
      }
     },
     "b70e7816989a48c4b1f985dec718022c": {
      "model_module": "@jupyter-widgets/controls",
      "model_module_version": "1.5.0",
      "model_name": "TextModel",
      "state": {
       "continuous_update": false,
       "description": "Group:",
       "layout": "IPY_MODEL_13073d28310b4cffa0539a3b92342f63",
       "style": "IPY_MODEL_34840c53230d4acc9164914d9b3fadc8"
      }
     },
     "b71f8cc47745468594174499e92b67bf": {
      "model_module": "@jupyter-widgets/controls",
      "model_module_version": "1.5.0",
      "model_name": "DescriptionStyleModel",
      "state": {
       "description_width": ""
      }
     },
     "b7613036fe9d4029bba0d5dfc654b25e": {
      "model_module": "@jupyter-widgets/base",
      "model_module_version": "1.2.0",
      "model_name": "LayoutModel",
      "state": {
       "display": "none",
       "width": "auto"
      }
     },
     "b7793b30c8ec417bad1b1cff350d906c": {
      "model_module": "@jupyter-widgets/controls",
      "model_module_version": "1.5.0",
      "model_name": "DescriptionStyleModel",
      "state": {
       "description_width": ""
      }
     },
     "b7b4d404b8dc4009873d3b20bb3525ef": {
      "model_module": "@jupyter-widgets/controls",
      "model_module_version": "1.5.0",
      "model_name": "SliderStyleModel",
      "state": {
       "description_width": ""
      }
     },
     "b7bb8101904e4816847c54754bbe7bea": {
      "model_module": "@jupyter-widgets/base",
      "model_module_version": "1.2.0",
      "model_name": "LayoutModel",
      "state": {
       "width": "auto"
      }
     },
     "b7bf02fcf76743a391e0d81a3afd918d": {
      "model_module": "@jupyter-widgets/controls",
      "model_module_version": "1.5.0",
      "model_name": "DescriptionStyleModel",
      "state": {
       "description_width": "initial"
      }
     },
     "b7c3af2073cf4ede93445e1a1711a7a8": {
      "model_module": "@jupyter-widgets/controls",
      "model_module_version": "1.5.0",
      "model_name": "ButtonStyleModel",
      "state": {}
     },
     "b7d0cd6ebead4237a1279e1f53ccf46f": {
      "model_module": "@jupyter-widgets/base",
      "model_module_version": "1.2.0",
      "model_name": "LayoutModel",
      "state": {}
     },
     "b7f4087ef5a64a9787e5e18585349545": {
      "model_module": "@jupyter-widgets/controls",
      "model_module_version": "1.5.0",
      "model_name": "VBoxModel",
      "state": {
       "children": [
        "IPY_MODEL_4855b13c76a741adbc4a639fc0dad9e6",
        "IPY_MODEL_04c4bb276f994d1981dd3cb2dd4aa268"
       ],
       "layout": "IPY_MODEL_2469d2a68e7f4f89b7d8ee102ec318b7"
      }
     },
     "b827e7863ed24313bbf0a720e75eb72d": {
      "model_module": "@jupyter-widgets/base",
      "model_module_version": "1.2.0",
      "model_name": "LayoutModel",
      "state": {
       "display": "none"
      }
     },
     "b838d3fc46134772b95fefccc1be3d66": {
      "model_module": "@jupyter-widgets/base",
      "model_module_version": "1.2.0",
      "model_name": "LayoutModel",
      "state": {
       "width": "auto"
      }
     },
     "b84590680bbb4f60b3c2eec9c9151939": {
      "model_module": "@jupyter-widgets/controls",
      "model_module_version": "1.5.0",
      "model_name": "DescriptionStyleModel",
      "state": {
       "description_width": ""
      }
     },
     "b84f80888f634bcfaa5a894a80f1a252": {
      "model_module": "@jupyter-widgets/controls",
      "model_module_version": "1.5.0",
      "model_name": "DescriptionStyleModel",
      "state": {
       "description_width": "initial"
      }
     },
     "b858799956474b8fb46dbad98a715267": {
      "model_module": "@jupyter-widgets/controls",
      "model_module_version": "1.5.0",
      "model_name": "ToggleButtonModel",
      "state": {
       "button_style": "danger",
       "description": "Run SimPEG",
       "icon": "check",
       "layout": "IPY_MODEL_953441bc9433408d852259c2ac8edd6f",
       "style": "IPY_MODEL_0f5f7a2017db480e9360150a6faa3075"
      }
     },
     "b8bfa875a928408fbea78affe7e2744e": {
      "model_module": "@jupyter-widgets/base",
      "model_module_version": "1.2.0",
      "model_name": "LayoutModel",
      "state": {}
     },
     "b8f687fb25b643888364000805f77e21": {
      "model_module": "@jupyter-widgets/controls",
      "model_module_version": "1.5.0",
      "model_name": "ButtonStyleModel",
      "state": {}
     },
     "b91029afe1564ae982dc28e08b9dabf4": {
      "model_module": "@jupyter-widgets/controls",
      "model_module_version": "1.5.0",
      "model_name": "SliderStyleModel",
      "state": {
       "description_width": ""
      }
     },
     "b92446fdff644014a62e75242938f5ab": {
      "model_module": "@jupyter-widgets/base",
      "model_module_version": "1.2.0",
      "model_name": "LayoutModel",
      "state": {}
     },
     "b94c9ed3282240718743b726ffa416f2": {
      "model_module": "@jupyter-widgets/controls",
      "model_module_version": "1.5.0",
      "model_name": "DescriptionStyleModel",
      "state": {
       "description_width": ""
      }
     },
     "b98c5aaedc7640eba7c60b7856b3a2e0": {
      "model_module": "@jupyter-widgets/controls",
      "model_module_version": "1.5.0",
      "model_name": "DescriptionStyleModel",
      "state": {
       "description_width": "initial"
      }
     },
     "b99e6acbd6df4df9a8177c12431d56f3": {
      "model_module": "@jupyter-widgets/controls",
      "model_module_version": "1.5.0",
      "model_name": "DescriptionStyleModel",
      "state": {
       "description_width": ""
      }
     },
     "b9c4434c1c3e4386a773ac5eca625d1c": {
      "model_module": "@jupyter-widgets/controls",
      "model_module_version": "1.5.0",
      "model_name": "TextModel",
      "state": {
       "description": "tmi",
       "layout": "IPY_MODEL_78136a5009c147f392dfc0f12c8c02ac",
       "style": "IPY_MODEL_47373c84188e4e2593e8be4718645cd7"
      }
     },
     "b9d80277dfa2426ebe020239a08821ba": {
      "model_module": "@jupyter-widgets/base",
      "model_module_version": "1.2.0",
      "model_name": "LayoutModel",
      "state": {}
     },
     "b9fed83164e645ac945b5d5a0ed7a395": {
      "model_module": "@jupyter-widgets/base",
      "model_module_version": "1.2.0",
      "model_name": "LayoutModel",
      "state": {
       "width": "auto"
      }
     },
     "ba333ec2ff2644e3afa5123295443144": {
      "model_module": "@jupyter-widgets/base",
      "model_module_version": "1.2.0",
      "model_name": "LayoutModel",
      "state": {}
     },
     "ba49879af2c7484486f60d952b7fc41c": {
      "model_module": "@jupyter-widgets/controls",
      "model_module_version": "1.5.0",
      "model_name": "VBoxModel",
      "state": {
       "children": [
        "IPY_MODEL_e8dab143b7e74d08a444e4fdc2096821",
        "IPY_MODEL_7c77d1029402473eaed34d011396c5ba",
        "IPY_MODEL_f30cb6d1b7ad4a22a0fe6ee2086a8221",
        "IPY_MODEL_d77055086b184299a6614eebd3fcc726",
        "IPY_MODEL_59c25f7e2ff143c2b5cc31c4871727c2"
       ],
       "layout": "IPY_MODEL_3b42b269cb33441d9114b77d033e18a5"
      }
     },
     "ba946a6227f747448cacb9fec6fee6c7": {
      "model_module": "@jupyter-widgets/base",
      "model_module_version": "1.2.0",
      "model_name": "LayoutModel",
      "state": {
       "display": "none"
      }
     },
     "bab676914f4446d7922261b03b657499": {
      "model_module": "@jupyter-widgets/controls",
      "model_module_version": "1.5.0",
      "model_name": "DescriptionStyleModel",
      "state": {
       "description_width": "initial"
      }
     },
     "bada6463bcec487ba7150081d65723f8": {
      "model_module": "@jupyter-widgets/controls",
      "model_module_version": "1.5.0",
      "model_name": "HBoxModel",
      "state": {
       "children": [
        "IPY_MODEL_77117768da36416cb41649413eceb55e",
        "IPY_MODEL_000443e4f277431c94cc2d36a76a9993",
        "IPY_MODEL_8ae62a936f7f47b68e77807432a9695a"
       ],
       "layout": "IPY_MODEL_5097c0a682b8479189f1d67e9fbac0b6"
      }
     },
     "bae38a0705c04c91b11b093dc396813e": {
      "model_module": "@jupyter-widgets/base",
      "model_module_version": "1.2.0",
      "model_name": "LayoutModel",
      "state": {}
     },
     "baf5bb08cae94741b7a966cbc60b0a38": {
      "model_module": "@jupyter-widgets/base",
      "model_module_version": "1.2.0",
      "model_name": "LayoutModel",
      "state": {}
     },
     "bb025f807f6348c2a14469dc38233c9c": {
      "model_module": "@jupyter-widgets/controls",
      "model_module_version": "1.5.0",
      "model_name": "VBoxModel",
      "state": {
       "children": [
        "IPY_MODEL_b17fd4c18afe47299929533e6b4f11ca"
       ],
       "layout": "IPY_MODEL_cd2f81533d83483f9dcd8b46070475bb"
      }
     },
     "bb0dfcbdb94048bbadeec42292e1f5f5": {
      "model_module": "@jupyter-widgets/controls",
      "model_module_version": "1.5.0",
      "model_name": "GridBoxModel",
      "state": {
       "children": [
        "IPY_MODEL_7e990bd9dc1f4606b52e9b5f1b4d3fbd",
        "IPY_MODEL_45957f04fa3647c48bb1ebfc9f925529",
        "IPY_MODEL_35ed24fd81c946f991631fe26cf44201"
       ],
       "layout": "IPY_MODEL_3875f24c59e74c119c75f8eae01af4d8"
      }
     },
     "bb102fdd73bf49b0a954c2be96c6642c": {
      "model_module": "@jupyter-widgets/base",
      "model_module_version": "1.2.0",
      "model_name": "LayoutModel",
      "state": {}
     },
     "bb5c36edd76c462dace4f13da51cda9f": {
      "model_module": "@jupyter-widgets/controls",
      "model_module_version": "1.5.0",
      "model_name": "DescriptionStyleModel",
      "state": {
       "description_width": ""
      }
     },
     "bb944099dffb4a3e8f8bd2a521c210af": {
      "model_module": "@jupyter-widgets/controls",
      "model_module_version": "1.5.0",
      "model_name": "DescriptionStyleModel",
      "state": {
       "description_width": ""
      }
     },
     "bb95f38b60f543e5918055d6989fa3fb": {
      "model_module": "@jupyter-widgets/controls",
      "model_module_version": "1.5.0",
      "model_name": "TextModel",
      "state": {
       "continuous_update": false,
       "description": "Group:",
       "layout": "IPY_MODEL_bdbed894276d4728b1d60488b7b8b8cc",
       "style": "IPY_MODEL_4be8a51237f549a58887405c5e272687"
      }
     },
     "bbb5f2331bec45868a7f8896090c6118": {
      "model_module": "@jupyter-widgets/base",
      "model_module_version": "1.2.0",
      "model_name": "LayoutModel",
      "state": {
       "width": "auto"
      }
     },
     "bbc067c35d08417f98e1f148b683513d": {
      "model_module": "@jupyter-widgets/controls",
      "model_module_version": "1.5.0",
      "model_name": "ButtonStyleModel",
      "state": {}
     },
     "bbc1d4d51bea4583916e76c8d09414dd": {
      "model_module": "@jupyter-widgets/controls",
      "model_module_version": "1.5.0",
      "model_name": "DescriptionStyleModel",
      "state": {
       "description_width": ""
      }
     },
     "bbf07c2d07ad4cc5a66b182c8d86a8d3": {
      "model_module": "@jupyter-widgets/controls",
      "model_module_version": "1.5.0",
      "model_name": "ButtonModel",
      "state": {
       "description": "Select",
       "layout": "IPY_MODEL_ef4b135ec0e3488495e66e1c476e46b2",
       "style": "IPY_MODEL_93d0a72db82f479d8c036ae134f536dc"
      }
     },
     "bc0de40c3bfc4b2da8a103b21f5e37d0": {
      "model_module": "@jupyter-widgets/controls",
      "model_module_version": "1.5.0",
      "model_name": "FloatTextModel",
      "state": {
       "description": "Air cells fill value",
       "layout": "IPY_MODEL_6b288a11514c40df9cf89b97c5765a51",
       "step": null,
       "style": "IPY_MODEL_b26023a8519743fdb4cfd4b12c6b6bfc"
      }
     },
     "bc1b52a021c64080b0a4dc9f59249edc": {
      "model_module": "@jupyter-widgets/base",
      "model_module_version": "1.2.0",
      "model_name": "LayoutModel",
      "state": {}
     },
     "bc2bbcaf8bb442b0a84e5eed9546b74f": {
      "model_module": "@jupyter-widgets/base",
      "model_module_version": "1.2.0",
      "model_name": "LayoutModel",
      "state": {}
     },
     "bc48089926b0428a9aa6ffd81068bdd0": {
      "model_module": "@jupyter-widgets/controls",
      "model_module_version": "1.5.0",
      "model_name": "DescriptionStyleModel",
      "state": {
       "description_width": "initial"
      }
     },
     "bc5112e42f6147f2bf621af0fc768aeb": {
      "model_module": "@jupyter-widgets/controls",
      "model_module_version": "1.5.0",
      "model_name": "DropdownModel",
      "state": {
       "_options_labels": [
        "",
        "--- Channels ---",
        "Airborne_Gxx",
        "Airborne_Gxy",
        "Airborne_Gxz",
        "Airborne_Gyy",
        "Airborne_Gyz",
        "Airborne_Gz",
        "Airborne_Gzz",
        "Airborne_TMI",
        "Ground_Gz",
        "Z"
       ],
       "description": "Radar (Optional):",
       "index": 0,
       "layout": "IPY_MODEL_42d6e91c11904cc0a44bebbed755d9ca",
       "style": "IPY_MODEL_62931003de45417eae886dd167f320ba"
      }
     },
     "bc5ded4ea0a04b668b2e92cd2c5b21c1": {
      "model_module": "@jupyter-widgets/controls",
      "model_module_version": "1.5.0",
      "model_name": "ButtonStyleModel",
      "state": {}
     },
     "bc82931e34b94bb68b4f6d967bf4df30": {
      "model_module": "@jupyter-widgets/controls",
      "model_module_version": "1.5.0",
      "model_name": "TextModel",
      "state": {
       "disabled": true,
       "layout": "IPY_MODEL_aab79543e2e14d6184958684b611d625",
       "placeholder": "output filename",
       "style": "IPY_MODEL_c68c051c95184d3b8fd42453851b265b"
      }
     },
     "bccb1192e3034c43b8cdc9f483de884d": {
      "model_module": "@jupyter-widgets/controls",
      "model_module_version": "1.5.0",
      "model_name": "DescriptionStyleModel",
      "state": {
       "description_width": ""
      }
     },
     "bced32f254b04d57802c62c8666070cb": {
      "model_module": "@jupyter-widgets/controls",
      "model_module_version": "1.5.0",
      "model_name": "HBoxModel",
      "state": {
       "children": [
        "IPY_MODEL_ece5005b13954ae3ac271381a00ff893",
        "IPY_MODEL_d14253d008fb402dbe82d88c88fca407"
       ],
       "layout": "IPY_MODEL_4b0e49d0afb1431e961264aace6126bb"
      }
     },
     "bd040833b7724585a95e2871530d8cf4": {
      "model_module": "@jupyter-widgets/controls",
      "model_module_version": "1.5.0",
      "model_name": "DescriptionStyleModel",
      "state": {
       "description_width": ""
      }
     },
     "bd1302e8a1d1499fb36e324182c99e4a": {
      "model_module": "@jupyter-widgets/controls",
      "model_module_version": "1.5.0",
      "model_name": "TextModel",
      "state": {
       "description": "Error (%, floor)",
       "layout": "IPY_MODEL_6aa8535f36954a22b37c03cccfa04f4e",
       "style": "IPY_MODEL_a298d77392064fad9f543ea6c4609851",
       "value": "0, 1"
      }
     },
     "bd3e1fc1c3a1428697ed5dc42c1eb8cc": {
      "model_module": "@jupyter-widgets/base",
      "model_module_version": "1.2.0",
      "model_name": "LayoutModel",
      "state": {
       "grid_area": "pathlist",
       "width": "auto"
      }
     },
     "bd47041ca45541368cdd6d035780f3f6": {
      "model_module": "@jupyter-widgets/controls",
      "model_module_version": "1.5.0",
      "model_name": "VBoxModel",
      "state": {
       "children": [
        "IPY_MODEL_e82139c3bc334bccbc279624229a9749",
        "IPY_MODEL_a89367a3a6b94af48612c1a4a90f23cb"
       ],
       "layout": "IPY_MODEL_3d5b1c983df5407ab2ac332a53b9ad88"
      }
     },
     "bd7924467c1c428bb653dbcf1223ca84": {
      "model_module": "@jupyter-widgets/controls",
      "model_module_version": "1.5.0",
      "model_name": "ButtonStyleModel",
      "state": {}
     },
     "bd921ee75fe84943b2c4e14e4cf8a005": {
      "model_module": "@jupyter-widgets/controls",
      "model_module_version": "1.5.0",
      "model_name": "DescriptionStyleModel",
      "state": {
       "description_width": "initial"
      }
     },
     "bd978894c80f4e199469b8b1c455b7f4": {
      "model_module": "@jupyter-widgets/controls",
      "model_module_version": "1.5.0",
      "model_name": "DescriptionStyleModel",
      "state": {
       "description_width": ""
      }
     },
     "bd9bf60b62b840ec9c9993635e3ceeaa": {
      "model_module": "@jupyter-widgets/base",
      "model_module_version": "1.2.0",
      "model_name": "LayoutModel",
      "state": {}
     },
     "bdb3b02dc9724906bdc2e689b1c54a39": {
      "model_module": "@jupyter-widgets/controls",
      "model_module_version": "1.5.0",
      "model_name": "DescriptionStyleModel",
      "state": {
       "description_width": "initial"
      }
     },
     "bdb4c481939846c9b91725451f16eb5d": {
      "model_module": "@jupyter-widgets/controls",
      "model_module_version": "1.5.0",
      "model_name": "DescriptionStyleModel",
      "state": {
       "description_width": ""
      }
     },
     "bdb6eaa0a7df4d0e970f065ad9e60c05": {
      "model_module": "@jupyter-widgets/base",
      "model_module_version": "1.2.0",
      "model_name": "LayoutModel",
      "state": {}
     },
     "bdbed894276d4728b1d60488b7b8b8cc": {
      "model_module": "@jupyter-widgets/base",
      "model_module_version": "1.2.0",
      "model_name": "LayoutModel",
      "state": {}
     },
     "be0e266ff05943eeaf24d0f63b6357f1": {
      "model_module": "@jupyter-widgets/base",
      "model_module_version": "1.2.0",
      "model_name": "LayoutModel",
      "state": {}
     },
     "be1596b783bf42c99112ce8674f00461": {
      "model_module": "@jupyter-widgets/controls",
      "model_module_version": "1.5.0",
      "model_name": "DescriptionStyleModel",
      "state": {
       "description_width": ""
      }
     },
     "be18b144ba044fe690a1e627a9018a43": {
      "model_module": "@jupyter-widgets/base",
      "model_module_version": "1.2.0",
      "model_name": "LayoutModel",
      "state": {}
     },
     "be286406d6f34788854806847012230c": {
      "model_module": "@jupyter-widgets/base",
      "model_module_version": "1.2.0",
      "model_name": "LayoutModel",
      "state": {}
     },
     "be49c945443f4f4f9285cc1359c1aac5": {
      "model_module": "@jupyter-widgets/controls",
      "model_module_version": "1.5.0",
      "model_name": "CheckboxModel",
      "state": {
       "description": "GA Pro - Live link",
       "disabled": false,
       "indent": false,
       "layout": "IPY_MODEL_ccfa83db5cf14e0b9b6f4fc5bc6d6a7a",
       "style": "IPY_MODEL_09fb15980d8844d1a05f5757ddfb5ee5",
       "value": false
      }
     },
     "bea7e12b722d4a76a0e11c4b01a45e6f": {
      "model_module": "@jupyter-widgets/controls",
      "model_module_version": "1.5.0",
      "model_name": "DescriptionStyleModel",
      "state": {
       "description_width": "initial"
      }
     },
     "beda7f9f424d40b795776dff245eb1d2": {
      "model_module": "@jupyter-widgets/base",
      "model_module_version": "1.2.0",
      "model_name": "LayoutModel",
      "state": {
       "display": "none"
      }
     },
     "bf10f04ff2484548bc6eda42e8e5d5e9": {
      "model_module": "@jupyter-widgets/controls",
      "model_module_version": "1.5.0",
      "model_name": "DropdownModel",
      "state": {
       "_options_labels": [
        "",
        "--- Channels ---",
        "Airborne_Gxx",
        "Airborne_Gxy",
        "Airborne_Gxz",
        "Airborne_Gyy",
        "Airborne_Gyz",
        "Airborne_Gz",
        "Airborne_Gzz",
        "Airborne_TMI",
        "Ground_Gz",
        "Z"
       ],
       "description": "Channel <=> Data:",
       "index": 0,
       "layout": "IPY_MODEL_089830c877024188a6c7c6e5a1d37ebc",
       "style": "IPY_MODEL_57c8985dad194b38a589e497c49e58f6"
      }
     },
     "bf1dafdaa0a741bd8c12314377513754": {
      "model_module": "@jupyter-widgets/base",
      "model_module_version": "1.2.0",
      "model_name": "LayoutModel",
      "state": {
       "width": "auto"
      }
     },
     "bf507be428254a30b4244b542502e4a7": {
      "model_module": "@jupyter-widgets/base",
      "model_module_version": "1.2.0",
      "model_name": "LayoutModel",
      "state": {
       "grid_area": "dircontent",
       "width": "auto"
      }
     },
     "bf6447e031b04ebda9568cb7618a55b3": {
      "model_module": "@jupyter-widgets/controls",
      "model_module_version": "1.5.0",
      "model_name": "DescriptionStyleModel",
      "state": {
       "description_width": ""
      }
     },
     "bfa061d9d6dc4973a526c5737390569b": {
      "model_module": "@jupyter-widgets/base",
      "model_module_version": "1.2.0",
      "model_name": "LayoutModel",
      "state": {}
     },
     "bfae0d7e07f64c1d959dab812c1f49bd": {
      "model_module": "@jupyter-widgets/controls",
      "model_module_version": "1.5.0",
      "model_name": "LabelModel",
      "state": {
       "layout": "IPY_MODEL_6f0d027cf0fb4e24acbb2e7240224f09",
       "style": "IPY_MODEL_bab676914f4446d7922261b03b657499",
       "value": "Workspace"
      }
     },
     "c016586393c74c9cafc2b9910885e236": {
      "model_module": "@jupyter-widgets/controls",
      "model_module_version": "1.5.0",
      "model_name": "DescriptionStyleModel",
      "state": {
       "description_width": "initial"
      }
     },
     "c053d18c7b04465790c938ad9f12e9de": {
      "model_module": "@jupyter-widgets/controls",
      "model_module_version": "1.5.0",
      "model_name": "DescriptionStyleModel",
      "state": {
       "description_width": ""
      }
     },
     "c066d547e1ba48419895c1c8f5b2b96b": {
      "model_module": "@jupyter-widgets/controls",
      "model_module_version": "1.5.0",
      "model_name": "TextModel",
      "state": {
       "description": "Offsets (x,y,z)",
       "layout": "IPY_MODEL_8dd0d6b7110143c087353457136878b7",
       "style": "IPY_MODEL_1240ac68c9544c12a7317ce822e93083",
       "value": "0, 0, 0"
      }
     },
     "c07f0c0e8220484e93de93b246bc6b1c": {
      "model_module": "@jupyter-widgets/controls",
      "model_module_version": "1.5.0",
      "model_name": "ButtonStyleModel",
      "state": {}
     },
     "c094da956d304c989f11be4671f0ed30": {
      "model_module": "@jupyter-widgets/controls",
      "model_module_version": "1.5.0",
      "model_name": "RadioButtonsModel",
      "state": {
       "_options_labels": [
        "None",
        "Model",
        "Value"
       ],
       "index": 0,
       "layout": "IPY_MODEL_fa3dff759457459fbce06ca65d27392d",
       "style": "IPY_MODEL_f2564c43b3e94de7b36ea5e1390fd0b0"
      }
     },
     "c0cb78dda6824a7ebc762212a287a552": {
      "model_module": "@jupyter-widgets/controls",
      "model_module_version": "1.5.0",
      "model_name": "TextModel",
      "state": {
       "description": "Error (%, floor)",
       "layout": "IPY_MODEL_0894616761d94e41896f4108ae0dc3d7",
       "style": "IPY_MODEL_c21fa108d7854611ac798d4b503b378f",
       "value": "0, 1"
      }
     },
     "c0e847d278934e30bb8cfa19681dd790": {
      "model_module": "@jupyter-widgets/base",
      "model_module_version": "1.2.0",
      "model_name": "LayoutModel",
      "state": {}
     },
     "c0fd48bf219448eda565e203664014fa": {
      "model_module": "@jupyter-widgets/controls",
      "model_module_version": "1.5.0",
      "model_name": "VBoxModel",
      "state": {
       "children": [
        "IPY_MODEL_ac6dcc32fb0f442f800222382e0fc5c9",
        "IPY_MODEL_5b9b482e41574d7792ac2700747a99a8"
       ],
       "layout": "IPY_MODEL_f1e69a505db1427793797ee15e92a57f"
      }
     },
     "c107e63207434750a32bc431a97b434a": {
      "model_module": "@jupyter-widgets/base",
      "model_module_version": "1.2.0",
      "model_name": "LayoutModel",
      "state": {}
     },
     "c1168fbd20b948c1817e5c00036db5b5": {
      "model_module": "@jupyter-widgets/controls",
      "model_module_version": "1.5.0",
      "model_name": "DescriptionStyleModel",
      "state": {
       "description_width": ""
      }
     },
     "c13b8f1d670c47e1b815e41b07e0d24f": {
      "model_module": "@jupyter-widgets/base",
      "model_module_version": "1.2.0",
      "model_name": "LayoutModel",
      "state": {}
     },
     "c1547db741de4361af19dd9e8b4c7505": {
      "model_module": "@jupyter-widgets/base",
      "model_module_version": "1.2.0",
      "model_name": "LayoutModel",
      "state": {}
     },
     "c15be90f44ec4dd38691b6521ac56ae0": {
      "model_module": "@jupyter-widgets/base",
      "model_module_version": "1.2.0",
      "model_name": "LayoutModel",
      "state": {}
     },
     "c15ca77f984541b894e3111c7aafe2fa": {
      "model_module": "@jupyter-widgets/controls",
      "model_module_version": "1.5.0",
      "model_name": "DescriptionStyleModel",
      "state": {
       "description_width": ""
      }
     },
     "c166dd6dcf5947b78b07fc6c22e174ad": {
      "model_module": "@jupyter-widgets/controls",
      "model_module_version": "1.5.0",
      "model_name": "DescriptionStyleModel",
      "state": {
       "description_width": ""
      }
     },
     "c170f1d6eb334cc8a2a3c1505c7e65f2": {
      "model_module": "@jupyter-widgets/controls",
      "model_module_version": "1.5.0",
      "model_name": "DescriptionStyleModel",
      "state": {
       "description_width": ""
      }
     },
     "c172a88c690d442d935519b88afae825": {
      "model_module": "@jupyter-widgets/controls",
      "model_module_version": "1.5.0",
      "model_name": "DescriptionStyleModel",
      "state": {
       "description_width": "initial"
      }
     },
     "c17aff5dd6cf492d8d9883f0b8872a36": {
      "model_module": "@jupyter-widgets/controls",
      "model_module_version": "1.5.0",
      "model_name": "DescriptionStyleModel",
      "state": {
       "description_width": "initial"
      }
     },
     "c1d920fdf1b34cc88f93065469992a9e": {
      "model_module": "@jupyter-widgets/controls",
      "model_module_version": "1.5.0",
      "model_name": "HBoxModel",
      "state": {
       "children": [
        "IPY_MODEL_a8a3abd85b54487883e55946ff725e3f",
        "IPY_MODEL_2ddd69afbd6e46e3bbd0d6be040d8bf4"
       ],
       "layout": "IPY_MODEL_89811e5cc64943ec82cf4d9c99889065"
      }
     },
     "c21fa108d7854611ac798d4b503b378f": {
      "model_module": "@jupyter-widgets/controls",
      "model_module_version": "1.5.0",
      "model_name": "DescriptionStyleModel",
      "state": {
       "description_width": "initial"
      }
     },
     "c226100161954256a2f5aee3b7b65a96": {
      "model_module": "@jupyter-widgets/base",
      "model_module_version": "1.2.0",
      "model_name": "LayoutModel",
      "state": {}
     },
     "c2306c1c541d475faea7c6b30e159bca": {
      "model_module": "@jupyter-widgets/controls",
      "model_module_version": "1.5.0",
      "model_name": "DescriptionStyleModel",
      "state": {
       "description_width": "initial"
      }
     },
     "c23d0c66924642aabe5045be5f254dba": {
      "model_module": "@jupyter-widgets/base",
      "model_module_version": "1.2.0",
      "model_name": "LayoutModel",
      "state": {}
     },
     "c25557ec33a14c75962b3b93e1522aa3": {
      "model_module": "@jupyter-widgets/controls",
      "model_module_version": "1.5.0",
      "model_name": "TextModel",
      "state": {
       "continuous_update": false,
       "description": "Group:",
       "layout": "IPY_MODEL_252878a45708467dac7ae33a880da488",
       "style": "IPY_MODEL_acebf1cd02c84ffd93abe2e868641d31"
      }
     },
     "c28a0c8ab5664c3dbc2efdc068168ec9": {
      "model_module": "@jupyter-widgets/base",
      "model_module_version": "1.2.0",
      "model_name": "LayoutModel",
      "state": {}
     },
     "c2aa364c1c2d4e8e945ef838c2771d9b": {
      "model_module": "@jupyter-widgets/base",
      "model_module_version": "1.2.0",
      "model_name": "LayoutModel",
      "state": {
       "width": "auto"
      }
     },
     "c2b0f360f04b4f5e992ff15c88334f76": {
      "model_module": "@jupyter-widgets/controls",
      "model_module_version": "1.5.0",
      "model_name": "VBoxModel",
      "state": {
       "children": [
        "IPY_MODEL_df39f3de92934967a7ef179122c54df4",
        "IPY_MODEL_fa68476e56ce42b4825f915529d88d3d",
        "IPY_MODEL_e6f90776d5444b09bc6e477a36bdeb57",
        "IPY_MODEL_050874a8e972482a8c915471a7c99df8",
        "IPY_MODEL_756f27603a6d4ecb9c841947e701b156"
       ],
       "layout": "IPY_MODEL_d688d25b81c64796b8a3430da698c454"
      }
     },
     "c2b85d65df364350863ac92204d8f33b": {
      "model_module": "@jupyter-widgets/base",
      "model_module_version": "1.2.0",
      "model_name": "LayoutModel",
      "state": {
       "width": "auto"
      }
     },
     "c2c24aed1ebc466b8d484e2aada8ec92": {
      "model_module": "@jupyter-widgets/base",
      "model_module_version": "1.2.0",
      "model_name": "LayoutModel",
      "state": {
       "visibility": "hidden"
      }
     },
     "c2d4d2952dee4911bb8fd95dca4b716f": {
      "model_module": "@jupyter-widgets/controls",
      "model_module_version": "1.5.0",
      "model_name": "DescriptionStyleModel",
      "state": {
       "description_width": "initial"
      }
     },
     "c2e98116a8e9473694cc267174cd2476": {
      "model_module": "@jupyter-widgets/controls",
      "model_module_version": "1.5.0",
      "model_name": "TextModel",
      "state": {
       "description": "byy",
       "layout": "IPY_MODEL_2230bd415ccd454da247f6df2ede7b33",
       "style": "IPY_MODEL_9eded77019114cb781cf8cdd3a75f116"
      }
     },
     "c2f07c2e6ed44bf4b85aef2fbb4d63e1": {
      "model_module": "@jupyter-widgets/controls",
      "model_module_version": "1.5.0",
      "model_name": "DropdownModel",
      "state": {
       "_options_labels": [
        "Topography",
        "Sensor"
       ],
       "index": 0,
       "layout": "IPY_MODEL_6bec8c7e7b744fe6a494b2fd457bb046",
       "style": "IPY_MODEL_0c13f605b1e44309aaeca48cf482046a"
      }
     },
     "c3070d28b5194cce913bd8683dde0f4b": {
      "model_module": "@jupyter-widgets/base",
      "model_module_version": "1.2.0",
      "model_name": "LayoutModel",
      "state": {}
     },
     "c3249c4fc00c4f1aaf58dc64e67d7b15": {
      "model_module": "@jupyter-widgets/controls",
      "model_module_version": "1.5.0",
      "model_name": "DescriptionStyleModel",
      "state": {
       "description_width": "initial"
      }
     },
     "c3350a8695144440bfccf333fe208480": {
      "model_module": "@jupyter-widgets/controls",
      "model_module_version": "1.5.0",
      "model_name": "DescriptionStyleModel",
      "state": {
       "description_width": ""
      }
     },
     "c3444a09aa804e14a3a3faf0973a0b40": {
      "model_module": "@jupyter-widgets/controls",
      "model_module_version": "1.5.0",
      "model_name": "DescriptionStyleModel",
      "state": {
       "description_width": ""
      }
     },
     "c3446d9e33fd4e4b99776f708b61ccf7": {
      "model_module": "@jupyter-widgets/controls",
      "model_module_version": "1.5.0",
      "model_name": "DescriptionStyleModel",
      "state": {
       "description_width": ""
      }
     },
     "c371dd8c360041b4b78580e649fc2efd": {
      "model_module": "@jupyter-widgets/base",
      "model_module_version": "1.2.0",
      "model_name": "LayoutModel",
      "state": {
       "grid_area": "dircontent",
       "width": "auto"
      }
     },
     "c3a3d087cf434a9fb569e4f93770079f": {
      "model_module": "@jupyter-widgets/controls",
      "model_module_version": "1.5.0",
      "model_name": "DescriptionStyleModel",
      "state": {
       "description_width": ""
      }
     },
     "c3bab7ccd7e44933a269b114cf3ae52e": {
      "model_module": "@jupyter-widgets/base",
      "model_module_version": "1.2.0",
      "model_name": "LayoutModel",
      "state": {}
     },
     "c3bc06915fee46f087f546abb3f25b0b": {
      "model_module": "@jupyter-widgets/controls",
      "model_module_version": "1.5.0",
      "model_name": "RadioButtonsModel",
      "state": {
       "_options_labels": [
        "sensor location + (dx, dy, dz)",
        "topo + radar + (dx, dy, dz)"
       ],
       "description": "Define by:",
       "index": 1,
       "layout": "IPY_MODEL_9438df172f8c4d7db8e53b1bd6cb5781",
       "style": "IPY_MODEL_f6ed8758dcc44eab8358d1ddefb123d3"
      }
     },
     "c3c30cbd87204ac5a39da6b2c303dcc2": {
      "model_module": "@jupyter-widgets/base",
      "model_module_version": "1.2.0",
      "model_name": "LayoutModel",
      "state": {}
     },
     "c3c7d991fb714c0db9b120c83bcf689e": {
      "model_module": "@jupyter-widgets/base",
      "model_module_version": "1.2.0",
      "model_name": "LayoutModel",
      "state": {
       "display": "none",
       "grid_gap": "0px 0px",
       "grid_template_areas": "\n                    'pathlist filename'\n                    'dircontent dircontent'\n                    ",
       "grid_template_columns": "60% 40%",
       "grid_template_rows": "auto auto",
       "width": "500px"
      }
     },
     "c3cd9b47104b487081b4ec42572ee1e6": {
      "model_module": "@jupyter-widgets/controls",
      "model_module_version": "1.5.0",
      "model_name": "DescriptionStyleModel",
      "state": {
       "description_width": ""
      }
     },
     "c3d6ae8f6f7449e2960621c689595cbc": {
      "model_module": "@jupyter-widgets/base",
      "model_module_version": "1.2.0",
      "model_name": "LayoutModel",
      "state": {}
     },
     "c40c37975f6e4e1cb65f4d57245150dc": {
      "model_module": "@jupyter-widgets/base",
      "model_module_version": "1.2.0",
      "model_name": "LayoutModel",
      "state": {}
     },
     "c4151debcda047d093030bdf19073e0e": {
      "model_module": "@jupyter-widgets/base",
      "model_module_version": "1.2.0",
      "model_name": "LayoutModel",
      "state": {}
     },
     "c41d0b64f8224d3f8093187937825169": {
      "model_module": "@jupyter-widgets/controls",
      "model_module_version": "1.5.0",
      "model_name": "DescriptionStyleModel",
      "state": {
       "description_width": ""
      }
     },
     "c4333e23f06a49ca850c2f0205f932ca": {
      "model_module": "@jupyter-widgets/base",
      "model_module_version": "1.2.0",
      "model_name": "LayoutModel",
      "state": {
       "grid_area": "pathlist",
       "width": "auto"
      }
     },
     "c48b80d39a314c82af6a247a8468f951": {
      "model_module": "@jupyter-widgets/controls",
      "model_module_version": "1.5.0",
      "model_name": "DescriptionStyleModel",
      "state": {
       "description_width": "initial"
      }
     },
     "c49e648c570842919b763aadd6f87106": {
      "model_module": "@jupyter-widgets/controls",
      "model_module_version": "1.5.0",
      "model_name": "DropdownModel",
      "state": {
       "_options_labels": [
        "",
        "--- Channels ---",
        "Airborne_Gxx",
        "Airborne_Gxy",
        "Airborne_Gxz",
        "Airborne_Gyy",
        "Airborne_Gyz",
        "Airborne_Gz",
        "Airborne_Gzz",
        "Airborne_TMI",
        "Ground_Gz",
        "Z"
       ],
       "description": "Lines field",
       "index": 0,
       "layout": "IPY_MODEL_11f4b899025345dc93a812d4d82c3776",
       "style": "IPY_MODEL_4bc4dbedc4044112a74b8fcc2905f64a"
      }
     },
     "c4bd479b7ebe40218a3e24ffaabf69a6": {
      "model_module": "@jupyter-widgets/controls",
      "model_module_version": "1.5.0",
      "model_name": "DescriptionStyleModel",
      "state": {
       "description_width": ""
      }
     },
     "c509855e3ea0481a9566a026a3763312": {
      "model_module": "@jupyter-widgets/controls",
      "model_module_version": "1.5.0",
      "model_name": "DescriptionStyleModel",
      "state": {
       "description_width": "initial"
      }
     },
     "c51bf1055b6549c495239fb3e2b1c6f4": {
      "model_module": "@jupyter-widgets/base",
      "model_module_version": "1.2.0",
      "model_name": "LayoutModel",
      "state": {}
     },
     "c5259765c83e44ee860dc0fcfe245caf": {
      "model_module": "@jupyter-widgets/controls",
      "model_module_version": "1.5.0",
      "model_name": "HBoxModel",
      "state": {
       "children": [
        "IPY_MODEL_204a2178f1be4312b78972c4d055cab6",
        "IPY_MODEL_4a29ab84e4b7434a80420b405efa6770",
        "IPY_MODEL_d453b91ef7b24951bbfb8d70c7d56046"
       ],
       "layout": "IPY_MODEL_b7bb8101904e4816847c54754bbe7bea"
      }
     },
     "c532b4dbbeae48afa1ef9cae205998b5": {
      "model_module": "@jupyter-widgets/controls",
      "model_module_version": "1.5.0",
      "model_name": "DropdownModel",
      "state": {
       "_options_labels": [
        "",
        "--- Channels ---",
        "Airborne_Gxx",
        "Airborne_Gxy",
        "Airborne_Gxz",
        "Airborne_Gyy",
        "Airborne_Gyz",
        "Airborne_Gz",
        "Airborne_Gzz",
        "Airborne_TMI",
        "Ground_Gz",
        "Z"
       ],
       "description": "Channel <=> Data:",
       "index": 0,
       "layout": "IPY_MODEL_97795b2f8d47412a9bb4695d4ede5992",
       "style": "IPY_MODEL_5586b1bc1a2948ac93e7a449c2e377a8"
      }
     },
     "c54014f96c9e43209ab5516717ebace2": {
      "model_module": "@jupyter-widgets/controls",
      "model_module_version": "1.5.0",
      "model_name": "VBoxModel",
      "state": {
       "children": [
        "IPY_MODEL_0ab007407d904cf789682235f9ef2ac4",
        "IPY_MODEL_213431057e814b23831795fe6a91c3c4",
        "IPY_MODEL_d67c2f4b90984fd094450264d1a37bd3"
       ],
       "layout": "IPY_MODEL_ed12d453026244798bdd099ef9b4dc5f"
      }
     },
     "c559467ec3e149779c5bee91887b2b17": {
      "model_module": "@jupyter-widgets/controls",
      "model_module_version": "1.5.0",
      "model_name": "TextModel",
      "state": {
       "description": "Offsets (x,y,z)",
       "layout": "IPY_MODEL_2d8654d1a2de4eac9f17645e132e0c02",
       "style": "IPY_MODEL_51c0d76c96244f72b63dacbb82a30fec",
       "value": "0, 0, 0"
      }
     },
     "c576f2806faa4312a6f32bf2163cdf9b": {
      "model_module": "@jupyter-widgets/base",
      "model_module_version": "1.2.0",
      "model_name": "LayoutModel",
      "state": {}
     },
     "c5e0dacc92f04fb59b8f3420049e79c8": {
      "model_module": "@jupyter-widgets/controls",
      "model_module_version": "1.5.0",
      "model_name": "HTMLModel",
      "state": {
       "layout": "IPY_MODEL_ba946a6227f747448cacb9fec6fee6c7",
       "style": "IPY_MODEL_37f658045d2f475c9a032ff93d910d22"
      }
     },
     "c64506faed9043939428ca608e825ff4": {
      "model_module": "@jupyter-widgets/controls",
      "model_module_version": "1.5.0",
      "model_name": "DescriptionStyleModel",
      "state": {
       "description_width": ""
      }
     },
     "c65b49b538f34c669a84f39b6c1b1cd0": {
      "model_module": "@jupyter-widgets/base",
      "model_module_version": "1.2.0",
      "model_name": "LayoutModel",
      "state": {}
     },
     "c67f81c1b1f04faab37fecf8b830838b": {
      "model_module": "@jupyter-widgets/controls",
      "model_module_version": "1.5.0",
      "model_name": "ButtonStyleModel",
      "state": {}
     },
     "c67fb2c6f4f74a8b88415c421d46a95f": {
      "model_module": "@jupyter-widgets/controls",
      "model_module_version": "1.5.0",
      "model_name": "TextModel",
      "state": {
       "layout": "IPY_MODEL_0fe692dac67b4c888ecd424fad054427",
       "placeholder": "output filename",
       "style": "IPY_MODEL_d511bc35db704abbbca91c30d2543b42"
      }
     },
     "c68c051c95184d3b8fd42453851b265b": {
      "model_module": "@jupyter-widgets/controls",
      "model_module_version": "1.5.0",
      "model_name": "DescriptionStyleModel",
      "state": {
       "description_width": ""
      }
     },
     "c6954f24d5524e05962ceaa51d0d2ec8": {
      "model_module": "@jupyter-widgets/controls",
      "model_module_version": "1.5.0",
      "model_name": "ButtonStyleModel",
      "state": {}
     },
     "c707e7c4944d408fa36e92b50b50dab0": {
      "model_module": "@jupyter-widgets/base",
      "model_module_version": "1.2.0",
      "model_name": "LayoutModel",
      "state": {
       "display": "none"
      }
     },
     "c745b348bbe64c76b23070662756c7ab": {
      "model_module": "@jupyter-widgets/controls",
      "model_module_version": "1.5.0",
      "model_name": "DescriptionStyleModel",
      "state": {
       "description_width": ""
      }
     },
     "c7561b7c75e04edf9b43bd36758d7695": {
      "model_module": "@jupyter-widgets/controls",
      "model_module_version": "1.5.0",
      "model_name": "DescriptionStyleModel",
      "state": {
       "description_width": ""
      }
     },
     "c757ed62900a4f99ac367a34c88d3bd4": {
      "model_module": "@jupyter-widgets/controls",
      "model_module_version": "1.5.0",
      "model_name": "ButtonStyleModel",
      "state": {}
     },
     "c757f0d091204d19ba47ebf8b254b511": {
      "model_module": "@jupyter-widgets/controls",
      "model_module_version": "1.5.0",
      "model_name": "HTMLModel",
      "state": {
       "layout": "IPY_MODEL_762a17bc5d7a48b7acc4b110a482e552",
       "placeholder": "",
       "style": "IPY_MODEL_5f10013bedab4ffaaa8cdd6edf7c1d6f",
       "value": "<span style=\"margin-left:10px; color:black;\">No file selected</span>"
      }
     },
     "c7a903d8666f4494b97360aa5a77e19e": {
      "model_module": "@jupyter-widgets/controls",
      "model_module_version": "1.5.0",
      "model_name": "GridBoxModel",
      "state": {
       "children": [
        "IPY_MODEL_1eb2f744a5624f02bcea1d59495ce78f",
        "IPY_MODEL_336735ff407c46fa8e3091bc5ac7d451",
        "IPY_MODEL_e37c834f1f3545d891c4d0fa7025c4dc"
       ],
       "layout": "IPY_MODEL_4a7a9ae564c6410989da48c4b382786f"
      }
     },
     "c7ad7d66ff634b678609eb35f8e250a8": {
      "model_module": "@jupyter-widgets/controls",
      "model_module_version": "1.5.0",
      "model_name": "DescriptionStyleModel",
      "state": {
       "description_width": ""
      }
     },
     "c7e8868cb1364590852f4bb5ffbb70ab": {
      "model_module": "@jupyter-widgets/controls",
      "model_module_version": "1.5.0",
      "model_name": "ButtonModel",
      "state": {
       "description": "Cancel",
       "layout": "IPY_MODEL_8eba27c12f2948ef948188e7d2fa4567",
       "style": "IPY_MODEL_8ca997f363c34a07a2f17d4ea10a073d"
      }
     },
     "c7fb9576d6b14763acd4d7afa41fd8f2": {
      "model_module": "@jupyter-widgets/controls",
      "model_module_version": "1.5.0",
      "model_name": "DropdownModel",
      "state": {
       "_options_labels": [
        "output name",
        "uncertainties",
        "starting model",
        "regularization",
        "upper-lower bounds",
        "mesh",
        "ignore values",
        "optimization"
       ],
       "index": 0,
       "layout": "IPY_MODEL_207f01bc7a1a4f3c84685bb74341e84f",
       "style": "IPY_MODEL_3f9ac585b99343c0b550420c9d136cfe"
      }
     },
     "c829d21cf8c34f5caf8e73c75fa303b5": {
      "model_module": "@jupyter-widgets/controls",
      "model_module_version": "1.5.0",
      "model_name": "VBoxModel",
      "state": {
       "children": [
        "IPY_MODEL_8b24a20f6bad45ce9ee871cd7dd664ff",
        "IPY_MODEL_00c2b2b9ea7f4c849f4e3bd5a71b3fa3",
        "IPY_MODEL_1bcbebcaf5c141b889c632db07ac95d5",
        "IPY_MODEL_028a0c3b121842e68de8b69c9d01fbfc",
        "IPY_MODEL_f4c786fe2156419987f893ba19563c9f",
        "IPY_MODEL_d74257e773114a3f8e2d9f333be98c3c",
        "IPY_MODEL_8f49889a3b8a49c2970e9e340f4c753a"
       ],
       "layout": "IPY_MODEL_ea59109968084eda81d191471ae0dd12"
      }
     },
     "c83c346dbcd240b68a3c8c7089c8914d": {
      "model_module": "@jupyter-widgets/controls",
      "model_module_version": "1.5.0",
      "model_name": "TextModel",
      "state": {
       "disabled": true,
       "layout": "IPY_MODEL_65a7445b7e38420fbe3726c815febf55",
       "placeholder": "output filename",
       "style": "IPY_MODEL_70d94065457b496ea2b5b0c78a139d7c"
      }
     },
     "c85429c4d5724dfda29eee70b083bb37": {
      "model_module": "@jupyter-widgets/base",
      "model_module_version": "1.2.0",
      "model_name": "LayoutModel",
      "state": {}
     },
     "c86c535f41004af990eaf4e40fc0e2cb": {
      "model_module": "@jupyter-widgets/base",
      "model_module_version": "1.2.0",
      "model_name": "LayoutModel",
      "state": {
       "width": "auto"
      }
     },
     "c87a880760e2448e8beb44c700aef93f": {
      "model_module": "@jupyter-widgets/base",
      "model_module_version": "1.2.0",
      "model_name": "LayoutModel",
      "state": {}
     },
     "c891fda561504deeb6dd4b03ff126783": {
      "model_module": "@jupyter-widgets/base",
      "model_module_version": "1.2.0",
      "model_name": "LayoutModel",
      "state": {
       "grid_area": "dircontent",
       "width": "auto"
      }
     },
     "c8b48b2fbafe4be1905c30ff040a9d9c": {
      "model_module": "@jupyter-widgets/base",
      "model_module_version": "1.2.0",
      "model_name": "LayoutModel",
      "state": {
       "grid_area": "dircontent",
       "width": "auto"
      }
     },
     "c8c9a5e1249a4c6183225d27fae1bec0": {
      "model_module": "@jupyter-widgets/controls",
      "model_module_version": "1.5.0",
      "model_name": "VBoxModel",
      "state": {
       "children": [
        "IPY_MODEL_3517127799a74566955170cdba6ea6f7",
        "IPY_MODEL_3805352f7d8f43ae9003a5a4789abd66"
       ],
       "layout": "IPY_MODEL_2671cb2dca2a43c7b3e43dd88e0bc4d0"
      }
     },
     "c8ea1e32e95a413d8e9bf8e44e0c3b6c": {
      "model_module": "@jupyter-widgets/controls",
      "model_module_version": "1.5.0",
      "model_name": "HBoxModel",
      "state": {
       "children": [
        "IPY_MODEL_40e8b6bb3d604eafbebb1e0ee7f7e098",
        "IPY_MODEL_32896635a96e4c9eb5a9a15936af0792",
        "IPY_MODEL_9a779180a97f4714ace2763e6d7b99b9"
       ],
       "layout": "IPY_MODEL_32143499e3714876876af681436d7476"
      }
     },
     "c9093d8b872c45e988950ececd1fdc26": {
      "model_module": "@jupyter-widgets/controls",
      "model_module_version": "1.5.0",
      "model_name": "HBoxModel",
      "state": {
       "children": [
        "IPY_MODEL_1d0edc89c4ff42cf804948fce881dfb8",
        "IPY_MODEL_d3517e5efc1d4dc5acca22c0054b59d0"
       ],
       "layout": "IPY_MODEL_981a97f48fff4797990f9f8598da6230"
      }
     },
     "c90ef88948bc43b19ab9fe9d71a364d3": {
      "model_module": "@jupyter-widgets/base",
      "model_module_version": "1.2.0",
      "model_name": "LayoutModel",
      "state": {
       "width": "auto"
      }
     },
     "c96bd5465e1f48318a13b3961cd47ebd": {
      "model_module": "@jupyter-widgets/base",
      "model_module_version": "1.2.0",
      "model_name": "LayoutModel",
      "state": {
       "visibility": "hidden"
      }
     },
     "c999026df3ce48cb87ddf563d3601235": {
      "model_module": "@jupyter-widgets/controls",
      "model_module_version": "1.5.0",
      "model_name": "VBoxModel",
      "state": {
       "children": [
        "IPY_MODEL_57667f07d80b4f1e87c55a04978cb207",
        "IPY_MODEL_230e53d92a9445d19f9871ea76e5b46a"
       ],
       "layout": "IPY_MODEL_154895e159164aef91eb0a273b259523"
      }
     },
     "c9cd646a6f1240deb916f8c715aa6a44": {
      "model_module": "@jupyter-widgets/base",
      "model_module_version": "1.2.0",
      "model_name": "LayoutModel",
      "state": {}
     },
     "c9e8e605dc82497b91e2fae7ae4b01ee": {
      "model_module": "@jupyter-widgets/controls",
      "model_module_version": "1.5.0",
      "model_name": "ButtonModel",
      "state": {
       "description": "Select",
       "layout": "IPY_MODEL_4ade76550a3b4e729d8a4bf1ba801e6b",
       "style": "IPY_MODEL_bd7924467c1c428bb653dbcf1223ca84"
      }
     },
     "c9f5b9cba2bb40079055dfc483d9c5be": {
      "model_module": "@jupyter-widgets/controls",
      "model_module_version": "1.5.0",
      "model_name": "DescriptionStyleModel",
      "state": {
       "description_width": ""
      }
     },
     "ca721dc992b3466197f2c866722eacac": {
      "model_module": "@jupyter-widgets/controls",
      "model_module_version": "1.5.0",
      "model_name": "LabelModel",
      "state": {
       "layout": "IPY_MODEL_439e0bc7d72e464f8924741edf0c6cbe",
       "style": "IPY_MODEL_64cddc53bfc64289abc526086ebbc637",
       "value": "Data Count: 425"
      }
     },
     "cab0dec0bec04309b94abfcc7886c8e4": {
      "model_module": "@jupyter-widgets/base",
      "model_module_version": "1.2.0",
      "model_name": "LayoutModel",
      "state": {}
     },
     "cab23e14e4844f6f9f4020caf9f9c3bb": {
      "model_module": "@jupyter-widgets/base",
      "model_module_version": "1.2.0",
      "model_name": "LayoutModel",
      "state": {}
     },
     "cae9343f50a04c8b858ef31dbb04b066": {
      "model_module": "@jupyter-widgets/controls",
      "model_module_version": "1.5.0",
      "model_name": "ButtonModel",
      "state": {
       "description": "Change",
       "layout": "IPY_MODEL_53295316eed045fcb1874a8ad3114095",
       "style": "IPY_MODEL_c757ed62900a4f99ac367a34c88d3bd4"
      }
     },
     "caef2e40cc5c4dbc8d5463f64ee1c765": {
      "model_module": "@jupyter-widgets/base",
      "model_module_version": "1.2.0",
      "model_name": "LayoutModel",
      "state": {}
     },
     "cb657a3494644017880a4034032b29f6": {
      "model_module": "@jupyter-widgets/base",
      "model_module_version": "1.2.0",
      "model_name": "LayoutModel",
      "state": {
       "width": "auto"
      }
     },
     "cb99d5d1746e44d49fa056bb51e43e81": {
      "model_module": "@jupyter-widgets/controls",
      "model_module_version": "1.5.0",
      "model_name": "VBoxModel",
      "state": {
       "children": [
        "IPY_MODEL_989cf9e3b6a149eb838ce4457bdc549a",
        "IPY_MODEL_7512eaaabc284bb8a1c661df4630036e"
       ],
       "layout": "IPY_MODEL_860dd63515594760a1dfc1868a9f2632"
      }
     },
     "cba4c806e68c4322b06b7158f3dffab4": {
      "model_module": "@jupyter-widgets/controls",
      "model_module_version": "1.5.0",
      "model_name": "DescriptionStyleModel",
      "state": {
       "description_width": ""
      }
     },
     "cbe07a4a77594402829f47220b54eebd": {
      "model_module": "@jupyter-widgets/controls",
      "model_module_version": "1.5.0",
      "model_name": "VBoxModel",
      "state": {
       "children": [
        "IPY_MODEL_928bbe1e86524772af43467e9174fd20",
        "IPY_MODEL_ac02953d58d34170b6a65057b49f0d34"
       ],
       "layout": "IPY_MODEL_554c504087c2448eb7858a41fc8a443b"
      }
     },
     "cbf3a5bfdf8a495c83313147c40c95bf": {
      "model_module": "@jupyter-widgets/base",
      "model_module_version": "1.2.0",
      "model_name": "LayoutModel",
      "state": {
       "visibility": "hidden"
      }
     },
     "cc0373df949743d8bf9a8a24d22004fe": {
      "model_module": "@jupyter-widgets/controls",
      "model_module_version": "1.5.0",
      "model_name": "VBoxModel",
      "state": {
       "children": [
        "IPY_MODEL_8ab3159126c44f44abb6010386c31c44",
        "IPY_MODEL_0e88fefa206c4b40968c734f7ac20501"
       ],
       "layout": "IPY_MODEL_ea3305dfcf8e41cf93baad0fca1180b9"
      }
     },
     "cc243ed756624348a630b3d4796db787": {
      "model_module": "@jupyter-widgets/controls",
      "model_module_version": "1.5.0",
      "model_name": "VBoxModel",
      "state": {
       "children": [
        "IPY_MODEL_f86a4defa1fe4872892bcdf6d90de1be",
        "IPY_MODEL_9b0b908703b34700be4c6896cae8052a"
       ],
       "layout": "IPY_MODEL_4598deea504d4b75abaf508835f3d5c5"
      }
     },
     "cc75eae678e5445f97fc4683587ca470": {
      "model_module": "@jupyter-widgets/base",
      "model_module_version": "1.2.0",
      "model_name": "LayoutModel",
      "state": {}
     },
     "cc89fe8ccbd243a09ef3c6fc30cad327": {
      "model_module": "@jupyter-widgets/controls",
      "model_module_version": "1.5.0",
      "model_name": "VBoxModel",
      "state": {
       "children": [
        "IPY_MODEL_c49e648c570842919b763aadd6f87106",
        "IPY_MODEL_08edcba01e8f47ac8b6ecbed1e5feaac"
       ],
       "layout": "IPY_MODEL_71f1cd0f334148a9a59c61df708563ee"
      }
     },
     "ccb13a51c500404ab02fd221f4f78537": {
      "model_module": "@jupyter-widgets/controls",
      "model_module_version": "1.5.0",
      "model_name": "ButtonModel",
      "state": {
       "description": "Cancel",
       "layout": "IPY_MODEL_6abab149f31643869be98cdeb72adb2a",
       "style": "IPY_MODEL_32780e86bee345d986cb03ff6b5e9571"
      }
     },
     "ccba8bfe477e44439b9d203db7432373": {
      "model_module": "@jupyter-widgets/controls",
      "model_module_version": "1.5.0",
      "model_name": "DescriptionStyleModel",
      "state": {
       "description_width": ""
      }
     },
     "ccbbd879637a4e56b4ea5236da12ee61": {
      "model_module": "@jupyter-widgets/base",
      "model_module_version": "1.2.0",
      "model_name": "LayoutModel",
      "state": {}
     },
     "cccf322600d64c41ac7e5e607249e330": {
      "model_module": "@jupyter-widgets/controls",
      "model_module_version": "1.5.0",
      "model_name": "DescriptionStyleModel",
      "state": {
       "description_width": "initial"
      }
     },
     "ccfa83db5cf14e0b9b6f4fc5bc6d6a7a": {
      "model_module": "@jupyter-widgets/base",
      "model_module_version": "1.2.0",
      "model_name": "LayoutModel",
      "state": {}
     },
     "cd22c3c8d4004db6b339825f7f0b955d": {
      "model_module": "@jupyter-widgets/controls",
      "model_module_version": "1.5.0",
      "model_name": "DescriptionStyleModel",
      "state": {
       "description_width": ""
      }
     },
     "cd2d7b6882df4febb11ede7eafb525a2": {
      "model_module": "@jupyter-widgets/controls",
      "model_module_version": "1.5.0",
      "model_name": "RadioButtonsModel",
      "state": {
       "_options_labels": [
        "Model",
        "Value"
       ],
       "index": 1,
       "layout": "IPY_MODEL_ba333ec2ff2644e3afa5123295443144",
       "style": "IPY_MODEL_6c7ef487389640f4abc8538222bcb75a"
      }
     },
     "cd2f81533d83483f9dcd8b46070475bb": {
      "model_module": "@jupyter-widgets/base",
      "model_module_version": "1.2.0",
      "model_name": "LayoutModel",
      "state": {}
     },
     "cd35c206ce6541d6b1ec811d883ed755": {
      "model_module": "@jupyter-widgets/controls",
      "model_module_version": "1.5.0",
      "model_name": "VBoxModel",
      "state": {
       "children": [
        "IPY_MODEL_c5e0dacc92f04fb59b8f3420049e79c8",
        "IPY_MODEL_3118e33b1d5c49a8a8e1e1465e931370",
        "IPY_MODEL_1fac8a2077fe4c019d9b659f469af67c"
       ],
       "layout": "IPY_MODEL_2c438a0130c64675b2af8d519df020a2"
      }
     },
     "cd4a5e0ccf1e425ba4648c4371f4d88c": {
      "model_module": "@jupyter-widgets/base",
      "model_module_version": "1.2.0",
      "model_name": "LayoutModel",
      "state": {
       "width": "auto"
      }
     },
     "cd54e065a61f433795c0c2ef8c1a3e28": {
      "model_module": "@jupyter-widgets/base",
      "model_module_version": "1.2.0",
      "model_name": "LayoutModel",
      "state": {}
     },
     "cd5c55df9c564419b95470038e340f01": {
      "model_module": "@jupyter-widgets/controls",
      "model_module_version": "1.5.0",
      "model_name": "HBoxModel",
      "state": {
       "children": [
        "IPY_MODEL_6a5080e020a74aaab9dce319b954aaa3",
        "IPY_MODEL_0734cd3c78a34cf3bacb566ee9eb9529",
        "IPY_MODEL_c757f0d091204d19ba47ebf8b254b511"
       ],
       "layout": "IPY_MODEL_1dc546c7e0744d7f832808f40df6dca2"
      }
     },
     "cd65d944d1cb4214829164672479e8b8": {
      "model_module": "@jupyter-widgets/controls",
      "model_module_version": "1.5.0",
      "model_name": "HTMLModel",
      "state": {
       "layout": "IPY_MODEL_4335d55a061c45179e4593655af30198",
       "style": "IPY_MODEL_7121de44556c4cc2b9d8f6d5de821e23"
      }
     },
     "cd6ccb3015984fe2bea5d6c4e5db4476": {
      "model_module": "@jupyter-widgets/controls",
      "model_module_version": "1.5.0",
      "model_name": "DescriptionStyleModel",
      "state": {
       "description_width": "initial"
      }
     },
     "cd9d51d406734779979bf877d3b3eaf0": {
      "model_module": "@jupyter-widgets/controls",
      "model_module_version": "1.5.0",
      "model_name": "DescriptionStyleModel",
      "state": {
       "description_width": ""
      }
     },
     "cdc81faf900f482787104d8fb0cc2af3": {
      "model_module": "@jupyter-widgets/controls",
      "model_module_version": "1.5.0",
      "model_name": "ButtonStyleModel",
      "state": {}
     },
     "cdf0a19495594eaba29fca621c1e6720": {
      "model_module": "@jupyter-widgets/controls",
      "model_module_version": "1.5.0",
      "model_name": "ButtonModel",
      "state": {
       "description": "Change",
       "layout": "IPY_MODEL_92c206d25e3e4520bc7065db427eef77",
       "style": "IPY_MODEL_e9aba81c83514172ba58e08dc7d7c0c9"
      }
     },
     "ce0314cfa8cd40c9bc6bcaf5b055e270": {
      "model_module": "@jupyter-widgets/controls",
      "model_module_version": "1.5.0",
      "model_name": "DescriptionStyleModel",
      "state": {
       "description_width": ""
      }
     },
     "ce054a81116d477bb3ed11fa2db23c09": {
      "model_module": "@jupyter-widgets/controls",
      "model_module_version": "1.5.0",
      "model_name": "DescriptionStyleModel",
      "state": {
       "description_width": ""
      }
     },
     "ce13b4b116544501a7560dc78baaadf7": {
      "model_module": "@jupyter-widgets/controls",
      "model_module_version": "1.5.0",
      "model_name": "TextModel",
      "state": {
       "description": "Offsets (x,y,z)",
       "layout": "IPY_MODEL_98682ba27fc9452597681e313f4320cb",
       "style": "IPY_MODEL_b98c5aaedc7640eba7c60b7856b3a2e0",
       "value": "0, 0, 0"
      }
     },
     "ce1734c014d24ec4adeaba281b7e95f4": {
      "model_module": "@jupyter-widgets/base",
      "model_module_version": "1.2.0",
      "model_name": "LayoutModel",
      "state": {
       "display": "none",
       "width": "auto"
      }
     },
     "ce265a560f434d3fb47120014f46fc5e": {
      "model_module": "@jupyter-widgets/controls",
      "model_module_version": "1.5.0",
      "model_name": "DescriptionStyleModel",
      "state": {
       "description_width": ""
      }
     },
     "ce292120d91c4c4aabd8d399ea79bd19": {
      "model_module": "@jupyter-widgets/controls",
      "model_module_version": "1.5.0",
      "model_name": "ButtonModel",
      "state": {
       "description": "Cancel",
       "layout": "IPY_MODEL_a530b93d288d436986fffbb33e8be6ed",
       "style": "IPY_MODEL_ad7ff1766d3f47c888b96b215b555dda"
      }
     },
     "ce323bfb629b4af3b701b313d4dc4a3e": {
      "model_module": "@jupyter-widgets/base",
      "model_module_version": "1.2.0",
      "model_name": "LayoutModel",
      "state": {
       "visibility": "hidden"
      }
     },
     "ce4c5e3be52642e98a2062f3df331c2d": {
      "model_module": "@jupyter-widgets/base",
      "model_module_version": "1.2.0",
      "model_name": "LayoutModel",
      "state": {}
     },
     "ce569a34e4ee4522a1876320df14af78": {
      "model_module": "@jupyter-widgets/controls",
      "model_module_version": "1.5.0",
      "model_name": "HBoxModel",
      "state": {
       "children": [
        "IPY_MODEL_d919f6e6b63d429d8f2ca7cc9b95f322",
        "IPY_MODEL_7ccb954061ed4f76b83ce2df24fa93ee",
        "IPY_MODEL_5b0a93ba47d644d4910269a7dbabd815"
       ],
       "layout": "IPY_MODEL_1b28f9c95cb1471bbaf24b949d2eab8a"
      }
     },
     "ce7112db88ae409cb7a3d5e92bca2d4e": {
      "model_module": "@jupyter-widgets/base",
      "model_module_version": "1.2.0",
      "model_name": "LayoutModel",
      "state": {
       "grid_area": "dircontent",
       "width": "auto"
      }
     },
     "ce92f6ae811140d7aa02b1ce55a35a19": {
      "model_module": "@jupyter-widgets/controls",
      "model_module_version": "1.5.0",
      "model_name": "ButtonStyleModel",
      "state": {}
     },
     "ceb26722254c4641b31022a953a7d416": {
      "model_module": "@jupyter-widgets/base",
      "model_module_version": "1.2.0",
      "model_name": "LayoutModel",
      "state": {}
     },
     "cebfb1206def4eb8821af79222e2597a": {
      "model_module": "@jupyter-widgets/base",
      "model_module_version": "1.2.0",
      "model_name": "LayoutModel",
      "state": {
       "visibility": "hidden"
      }
     },
     "cec1d49a75a04ecab71b387c0ec7c3b9": {
      "model_module": "@jupyter-widgets/controls",
      "model_module_version": "1.5.0",
      "model_name": "SelectMultipleModel",
      "state": {
       "description": "Select lines:",
       "index": [],
       "layout": "IPY_MODEL_925289b43e6043c5949c54e0f4ecea99",
       "rows": 5,
       "style": "IPY_MODEL_c3350a8695144440bfccf333fe208480"
      }
     },
     "cee9576536504bb69cc188e4637a5ead": {
      "model_module": "@jupyter-widgets/base",
      "model_module_version": "1.2.0",
      "model_name": "LayoutModel",
      "state": {}
     },
     "cef7242bb44e44489d02d8c2a0e49115": {
      "model_module": "@jupyter-widgets/controls",
      "model_module_version": "1.5.0",
      "model_name": "VBoxModel",
      "state": {
       "children": [
        "IPY_MODEL_34cffd8aace9461f88b3caa93a256e67",
        "IPY_MODEL_bb95f38b60f543e5918055d6989fa3fb"
       ],
       "layout": "IPY_MODEL_67245090a6bb4cbc8a6b4534411e89da"
      }
     },
     "cf1d85bbcc7e4781b85a9bb6beee7335": {
      "model_module": "@jupyter-widgets/controls",
      "model_module_version": "1.5.0",
      "model_name": "VBoxModel",
      "state": {
       "children": [
        "IPY_MODEL_b13076602ea54093a01e0588e04f1937",
        "IPY_MODEL_504f8222e5a24fd4a5ec7108cb10b707"
       ],
       "layout": "IPY_MODEL_751019cf026449b48f0eef285263768e"
      }
     },
     "cf3bcc8c0eb145a4abf92e01b1dde4d1": {
      "model_module": "@jupyter-widgets/controls",
      "model_module_version": "1.5.0",
      "model_name": "DropdownModel",
      "state": {
       "_options_labels": [
        "",
        "Data_TEM_pseudo3DEPSG_4326",
        "Gravity_Magnetics_drape60mEPSG_4326",
        "Iso_Iteration_7_model_0.015",
        "Iso_Iteration_7_model_0.01",
        "Iso_Iteration_7_model_0.02",
        "Iso_Iteration_7_model_0.005",
        "Iso_Iteration_7_model_0.0025",
        "fault_splay1",
        "fault_Cliff_Lake",
        "fault_Other_FlinFlon",
        "fault_Club_Lake_splay",
        "fault_Catherine_splay2",
        "fault_Birch_View",
        "fault_Dion_Lake",
        "fault_FlinFlon_splay",
        "fault_West_Mandy_Road",
        "fault_Channing",
        "fault_Ross_Lake",
        "fault_Louis_Hidden",
        "fault_Lake_View_thrust",
        "contact_Schist_Lake",
        "fault_Burley_Lake",
        "fault_Dion_Lake_splay",
        "fault_Green_Lake",
        "fault_FlinFlon",
        "fault_Catherine_splay1",
        "fault_East_Mandy_Road",
        "fault_Other_FlinFlon_South",
        "fault_Catherine_splay4",
        "contact_Stitt_Island",
        "fault_Club_Lake",
        "fault_Tailing_Pond",
        "35_Hidden_Reservoir_Hr5",
        "29_Hidden_Reservoir_Hr1a",
        "60_BlueLagoon_Fb2",
        "20_FlinFlon_Undivided_Int_Dykes_D2f",
        "04_Boundary_Intrusive_S4h",
        "53_Millrock_Rhyolite_Fm4b",
        "19_FlinFlon_Undivided_Int_Dykes_D2b",
        "18_FlinFlon_Undivided_Int_Dykes_777_D2b",
        "06_Phantom_Lake_Intrusive_S3a",
        "21_FlinFlon_Undivided_Int_Dykes_D3a",
        "43_Millrock_CHLSH_South",
        "56_Millrock_Basalt_Fm1ba",
        "17_FlinFlon_Undivided_Int_Dykes_D2",
        "32_Hidden_Reservoir_Hr1b_SW",
        "11_Missi_M3_NE",
        "13_Missi_M1",
        "07_Annabel_Granitoid_S1",
        "45_Millrock_Gabbro_South",
        "01_Late_Intrusive_S5b",
        "31_Hidden_Reservoir_Hr1c_SW",
        "52_Millrock_Rhyolite_Fm4_West_check",
        "55_Millrock_Basalt_Fm1bf",
        "34_Hidden_Reservoir_Hr2b",
        "03_Boundary_Intrusive_S4b",
        "42_Millrock_CHLSH_North",
        "26_Louis_L3",
        "23_FlinFlon_Undivided_Int_Felsic_D4g",
        "30_Hidden_Reservoir_Hr1b",
        "59_BlueLagoon_Fb3",
        "49_Millrock_MVR_Fm5d",
        "44_Millrock_Gabbro_North",
        "27_Hidden_Carlisle_Hc4",
        "22_FlinFlon_Undivided_Int_Felsic_D4e",
        "02_Boundary_Intrusive_S4a",
        "61_BlueLagoon_Fb1_NW",
        "05_Boundary_Intrusive_S4g",
        "39_Ore_Callinan",
        "38_Ore_Dan_Owens",
        "40_Ore_FlinFlon",
        "Inversion_VTEM_Model",
        "Gravity_Magnetics_drape60m",
        "CDI_VTEM_model",
        "Data_FEM_pseudo3D",
        "O2O_Interp_25m",
        "geochem",
        "Inversion_DIGHEM_Model",
        "Topography",
        "Data_TEM_pseudo3D"
       ],
       "description": "Object",
       "index": 0,
       "layout": "IPY_MODEL_e9f708d9ba874ca09dda3bad8a1f0aae",
       "style": "IPY_MODEL_750194b522b74d279525bfa90a299b82"
      }
     },
     "cf3ff934131d4afaa6527ddaa0843ce7": {
      "model_module": "@jupyter-widgets/controls",
      "model_module_version": "1.5.0",
      "model_name": "ButtonStyleModel",
      "state": {}
     },
     "cf44398376b0461c98422632d418ac0a": {
      "model_module": "@jupyter-widgets/controls",
      "model_module_version": "1.5.0",
      "model_name": "DescriptionStyleModel",
      "state": {
       "description_width": ""
      }
     },
     "cf5ea8866c324affa90a682d6d2ed2d8": {
      "model_module": "@jupyter-widgets/controls",
      "model_module_version": "1.5.0",
      "model_name": "CheckboxModel",
      "state": {
       "description": "Active",
       "disabled": false,
       "layout": "IPY_MODEL_c576f2806faa4312a6f32bf2163cdf9b",
       "style": "IPY_MODEL_902425f1dec74a2e91d6d7a7b44fe435",
       "value": false
      }
     },
     "cf884fb53e6947078fb2c088cf2dca28": {
      "model_module": "@jupyter-widgets/controls",
      "model_module_version": "1.5.0",
      "model_name": "ButtonModel",
      "state": {
       "description": "Select",
       "layout": "IPY_MODEL_e1032075dbf54572bed20a5a5bf4763b",
       "style": "IPY_MODEL_36e192cad93647afa1ea942247cd4b74"
      }
     },
     "cf9b8905b0244f7ab74ee75c9a96b28d": {
      "model_module": "@jupyter-widgets/base",
      "model_module_version": "1.2.0",
      "model_name": "LayoutModel",
      "state": {}
     },
     "cfc76730f5c7422b8f573ce818ed6e81": {
      "model_module": "@jupyter-widgets/controls",
      "model_module_version": "1.5.0",
      "model_name": "DescriptionStyleModel",
      "state": {
       "description_width": ""
      }
     },
     "cfdf2c9947a8477b955f1864e2d99dc1": {
      "model_module": "@jupyter-widgets/controls",
      "model_module_version": "1.5.0",
      "model_name": "DescriptionStyleModel",
      "state": {
       "description_width": "initial"
      }
     },
     "d06ba5662ddf416a945fc22f836bf3d4": {
      "model_module": "@jupyter-widgets/controls",
      "model_module_version": "1.5.0",
      "model_name": "VBoxModel",
      "state": {
       "children": [
        "IPY_MODEL_65799ba5d837441e9b0cb06d046c52a9",
        "IPY_MODEL_27da9b860b7b478e9b39ef3af18110c7"
       ],
       "layout": "IPY_MODEL_b9d80277dfa2426ebe020239a08821ba"
      }
     },
     "d070a81d5cc244efa00235235bbf2979": {
      "model_module": "@jupyter-widgets/controls",
      "model_module_version": "1.5.0",
      "model_name": "DescriptionStyleModel",
      "state": {
       "description_width": "initial"
      }
     },
     "d07e79274143432fbb9a5c0374ec9e64": {
      "model_module": "@jupyter-widgets/controls",
      "model_module_version": "1.5.0",
      "model_name": "DescriptionStyleModel",
      "state": {
       "description_width": ""
      }
     },
     "d0a575dc614f4d4da96eb4a3c9133534": {
      "model_module": "@jupyter-widgets/base",
      "model_module_version": "1.2.0",
      "model_name": "LayoutModel",
      "state": {}
     },
     "d0a989598eab4f189f41c9a77588d6bf": {
      "model_module": "@jupyter-widgets/controls",
      "model_module_version": "1.5.0",
      "model_name": "DescriptionStyleModel",
      "state": {
       "description_width": "initial"
      }
     },
     "d0b42f68f4c74b97bdf2ab77b15e2525": {
      "model_module": "@jupyter-widgets/controls",
      "model_module_version": "1.5.0",
      "model_name": "FloatTextModel",
      "state": {
       "description": "Minimum depth (m)",
       "layout": "IPY_MODEL_a07eca3f65dc479bb519b10c19fa9c75",
       "step": null,
       "style": "IPY_MODEL_6735444b1b2543708fb4f917ec90f0b0",
       "value": 500
      }
     },
     "d0c07be731fa4d2bb9ca480fafe85327": {
      "model_module": "@jupyter-widgets/controls",
      "model_module_version": "1.5.0",
      "model_name": "GridBoxModel",
      "state": {
       "children": [
        "IPY_MODEL_a0b71a76070c419ea8f105369691f3e9",
        "IPY_MODEL_97a1ff4a219b413f904d722bdfad0f7f",
        "IPY_MODEL_a0d2de85f3ef4b34a682beafdf675cf0"
       ],
       "layout": "IPY_MODEL_e6be0c6445bd4dbcaa2894c34e8ae823"
      }
     },
     "d0d2c200b06d437a956e20ae4b53581c": {
      "model_module": "@jupyter-widgets/controls",
      "model_module_version": "1.5.0",
      "model_name": "ButtonStyleModel",
      "state": {}
     },
     "d101e095bd304a3fb32d4653781e9e6a": {
      "model_module": "@jupyter-widgets/base",
      "model_module_version": "1.2.0",
      "model_name": "LayoutModel",
      "state": {
       "display": "none",
       "grid_area": "filename",
       "width": "auto"
      }
     },
     "d106f81c6346450cb4f32636afdbf5e8": {
      "model_module": "@jupyter-widgets/base",
      "model_module_version": "1.2.0",
      "model_name": "LayoutModel",
      "state": {
       "width": "auto"
      }
     },
     "d10b4911b4ae472cbefa3a2d3b778cc1": {
      "model_module": "@jupyter-widgets/controls",
      "model_module_version": "1.5.0",
      "model_name": "VBoxModel",
      "state": {
       "children": [
        "IPY_MODEL_017cba3135e9453b9876f50b659729a6",
        "IPY_MODEL_2be097732d1746b4abdd66fb7a3b986b",
        "IPY_MODEL_c5259765c83e44ee860dc0fcfe245caf"
       ],
       "layout": "IPY_MODEL_ac620226b351480dbad5186f22903515"
      }
     },
     "d12252ccf05a44968a5c8e30a1c18103": {
      "model_module": "@jupyter-widgets/controls",
      "model_module_version": "1.5.0",
      "model_name": "CheckboxModel",
      "state": {
       "description": "GA Pro - Live link",
       "disabled": false,
       "indent": false,
       "layout": "IPY_MODEL_051bc5ac40064aabbd6b5927b873e16e",
       "style": "IPY_MODEL_7aec668623d64349b61d2aad4fcaee70",
       "value": false
      }
     },
     "d122afd3e2b64a45bd135c54f36c4554": {
      "model_module": "@jupyter-widgets/base",
      "model_module_version": "1.2.0",
      "model_name": "LayoutModel",
      "state": {}
     },
     "d12606f4ea4d4a3fa4d049a73db7c289": {
      "model_module": "@jupyter-widgets/base",
      "model_module_version": "1.2.0",
      "model_name": "LayoutModel",
      "state": {}
     },
     "d14253d008fb402dbe82d88c88fca407": {
      "model_module": "@jupyter-widgets/controls",
      "model_module_version": "1.5.0",
      "model_name": "ButtonModel",
      "state": {
       "description": "Create copy:",
       "layout": "IPY_MODEL_3c8e505d4aac4098b8399cde94ea032a",
       "style": "IPY_MODEL_144dd43b69524df9bfbc335015af047d"
      }
     },
     "d14e8dc040c44142973fc6de3344d416": {
      "model_module": "@jupyter-widgets/base",
      "model_module_version": "1.2.0",
      "model_name": "LayoutModel",
      "state": {
       "width": "auto"
      }
     },
     "d185828b03564f5190f97c3baa4df713": {
      "model_module": "@jupyter-widgets/controls",
      "model_module_version": "1.5.0",
      "model_name": "TextModel",
      "state": {
       "continuous_update": false,
       "description": "Group:",
       "layout": "IPY_MODEL_4797bcf9390b48da8710d6b99de99d17",
       "style": "IPY_MODEL_8ebefe2a4e694372b8c155878c78b56d"
      }
     },
     "d187579e24b5409ba5d1f576e64e8f3d": {
      "model_module": "@jupyter-widgets/controls",
      "model_module_version": "1.5.0",
      "model_name": "VBoxModel",
      "state": {
       "children": [
        "IPY_MODEL_a19391936fa740d8a0fba1f2927c2138",
        "IPY_MODEL_6ea9c081b7354289aaeb224e774da6cc",
        "IPY_MODEL_64be0f7caefb4301bebb862ae9864b87",
        "IPY_MODEL_d1ffa0405f4941119fc4291b9b3989b6",
        "IPY_MODEL_eae8338ec3ce48ed9891428b919a590c",
        "IPY_MODEL_43053e272ec745fc809ae2fb0cf7ffd2",
        "IPY_MODEL_a300edcfd2a046e3ba4cbe55c16f5eb1"
       ],
       "layout": "IPY_MODEL_e31b542b19e64f9cbac5df27e9d40679"
      }
     },
     "d1e34be0c24e48a9819f03545c98f5b1": {
      "model_module": "@jupyter-widgets/controls",
      "model_module_version": "1.5.0",
      "model_name": "DescriptionStyleModel",
      "state": {
       "description_width": ""
      }
     },
     "d1eb055e1e0a45a09503a389c251f56c": {
      "model_module": "@jupyter-widgets/controls",
      "model_module_version": "1.5.0",
      "model_name": "DropdownModel",
      "state": {
       "_options_labels": [
        "C:\\Users\\dominiquef\\Documents\\GIT\\mira\\mirageoscience-apps\\docs\\content\\applications",
        "C:\\Users\\dominiquef\\Documents\\GIT\\mira\\mirageoscience-apps\\docs\\content",
        "C:\\Users\\dominiquef\\Documents\\GIT\\mira\\mirageoscience-apps\\docs",
        "C:\\Users\\dominiquef\\Documents\\GIT\\mira\\mirageoscience-apps",
        "C:\\Users\\dominiquef\\Documents\\GIT\\mira",
        "C:\\Users\\dominiquef\\Documents\\GIT",
        "C:\\Users\\dominiquef\\Documents",
        "C:\\Users\\dominiquef",
        "C:\\Users",
        "C:\\",
        "D:\\",
        "Z:\\"
       ],
       "index": 0,
       "layout": "IPY_MODEL_1069119a54534da5b3ccad12bcfa4f4b",
       "style": "IPY_MODEL_3f0f46f4e11349c1b2b8fb9c1efdea67"
      }
     },
     "d1fa2176dd284b0abec84409b18457c0": {
      "model_module": "@jupyter-widgets/controls",
      "model_module_version": "1.5.0",
      "model_name": "DescriptionStyleModel",
      "state": {
       "description_width": "initial"
      }
     },
     "d1ffa0405f4941119fc4291b9b3989b6": {
      "model_module": "@jupyter-widgets/controls",
      "model_module_version": "1.5.0",
      "model_name": "TextModel",
      "state": {
       "description": "Layers below data",
       "layout": "IPY_MODEL_d4d42dea42174a87991473d77257ff42",
       "style": "IPY_MODEL_74c52dddf2254e9ca1731ee22981a0d4",
       "value": "5, 5, 5, 5"
      }
     },
     "d209bac742914cbe983962d0dc68513c": {
      "model_module": "@jupyter-widgets/controls",
      "model_module_version": "1.5.0",
      "model_name": "DescriptionStyleModel",
      "state": {
       "description_width": ""
      }
     },
     "d273d5acd5b64050bf17b54630a0308d": {
      "model_module": "@jupyter-widgets/base",
      "model_module_version": "1.2.0",
      "model_name": "LayoutModel",
      "state": {}
     },
     "d286e27474d1409799e98e1d9fd8dbe8": {
      "model_module": "@jupyter-widgets/controls",
      "model_module_version": "1.5.0",
      "model_name": "ToggleButtonModel",
      "state": {
       "layout": "IPY_MODEL_24adf4871f514e23a7c4d4c36d91647f",
       "style": "IPY_MODEL_5277bedecec0416da57bfaee4af5b489",
       "value": true
      }
     },
     "d29519a7d24942d1aa8fec13a101bcf6": {
      "model_module": "@jupyter-widgets/base",
      "model_module_version": "1.2.0",
      "model_name": "LayoutModel",
      "state": {
       "visibility": "hidden"
      }
     },
     "d2a5276322394a8882a91b58f89f60c5": {
      "model_module": "@jupyter-widgets/controls",
      "model_module_version": "1.5.0",
      "model_name": "FloatTextModel",
      "state": {
       "description": "Target misfit",
       "layout": "IPY_MODEL_924c085693b7439e8ed53b918b8785cf",
       "step": null,
       "style": "IPY_MODEL_bdb4c481939846c9b91725451f16eb5d",
       "value": 1
      }
     },
     "d2b566a65e7e469598dd88ac651f4663": {
      "model_module": "@jupyter-widgets/controls",
      "model_module_version": "1.5.0",
      "model_name": "DescriptionStyleModel",
      "state": {
       "description_width": ""
      }
     },
     "d2ccb36b42f74ede9f8b1d270bf66ad4": {
      "model_module": "@jupyter-widgets/controls",
      "model_module_version": "1.5.0",
      "model_name": "DescriptionStyleModel",
      "state": {
       "description_width": ""
      }
     },
     "d2f2621dd0504d1aa5a0fa11bb72bc72": {
      "model_module": "@jupyter-widgets/controls",
      "model_module_version": "1.5.0",
      "model_name": "DescriptionStyleModel",
      "state": {
       "description_width": "initial"
      }
     },
     "d3517e5efc1d4dc5acca22c0054b59d0": {
      "model_module": "@jupyter-widgets/controls",
      "model_module_version": "1.5.0",
      "model_name": "ButtonModel",
      "state": {
       "description": "Create copy:",
       "layout": "IPY_MODEL_13ab748a679043fda79b731638053ee0",
       "style": "IPY_MODEL_5f6b85d936ca43f29fda34bbd8b17a20"
      }
     },
     "d3d9b3788156438aaf743542f7f142cd": {
      "model_module": "@jupyter-widgets/controls",
      "model_module_version": "1.5.0",
      "model_name": "VBoxModel",
      "state": {
       "children": [
        "IPY_MODEL_6bc86cb7b8fc4a15bd026daf11187c72",
        "IPY_MODEL_0e37f15ec9254d59b00c845114b4eec2"
       ],
       "layout": "IPY_MODEL_0f5edc8a70aa4ccf855a7783acb81967"
      }
     },
     "d3db13420c1d4c1db4bb6754cdc0ee06": {
      "model_module": "@jupyter-widgets/base",
      "model_module_version": "1.2.0",
      "model_name": "LayoutModel",
      "state": {}
     },
     "d401239ae6164cc28c327c36ada5ba8c": {
      "model_module": "@jupyter-widgets/controls",
      "model_module_version": "1.5.0",
      "model_name": "DescriptionStyleModel",
      "state": {
       "description_width": ""
      }
     },
     "d41172cc6c4c4b63805ef7e3cd2d4a5e": {
      "model_module": "@jupyter-widgets/controls",
      "model_module_version": "1.5.0",
      "model_name": "DescriptionStyleModel",
      "state": {
       "description_width": ""
      }
     },
     "d411e89eb2e04a41b730ab5cb59d8b8f": {
      "model_module": "@jupyter-widgets/controls",
      "model_module_version": "1.5.0",
      "model_name": "DescriptionStyleModel",
      "state": {
       "description_width": ""
      }
     },
     "d453b91ef7b24951bbfb8d70c7d56046": {
      "model_module": "@jupyter-widgets/controls",
      "model_module_version": "1.5.0",
      "model_name": "HTMLModel",
      "state": {
       "layout": "IPY_MODEL_7c138207342f492990af3d40e136fbae",
       "placeholder": "",
       "style": "IPY_MODEL_8e48dd1ecdea44a3be155683f531b017",
       "value": "<span style=\"margin-left:10px; color:black;\">No file selected</span>"
      }
     },
     "d4b1e12b3c44493baa54d3b2fbae9a03": {
      "model_module": "@jupyter-widgets/controls",
      "model_module_version": "1.5.0",
      "model_name": "ButtonModel",
      "state": {
       "description": "Select",
       "layout": "IPY_MODEL_09f11065c46f492fb717279c756fb79b",
       "style": "IPY_MODEL_e2f83aec78dc4b2e96dc3152b0aa562d"
      }
     },
     "d4b2042697cc451f9d86742774aca7d5": {
      "model_module": "@jupyter-widgets/controls",
      "model_module_version": "1.5.0",
      "model_name": "SelectModel",
      "state": {
       "_options_labels": [
        "..",
        "dask-worker-space",
        "images",
        "GEOSCIENCEtemp",
        "Untitled.ipynb",
        "base_application.ipynb",
        "calculator.ipynb",
        "clustering.ipynb",
        "contouring.ipynb",
        "coordinate_transformation.ipynb",
        "create_isosurface.ipynb",
        "create_surface.ipynb",
        "data_interpolation.ipynb",
        "edge_detection.ipynb",
        "export.ipynb",
        "geophysical_inversion.ipynb",
        "object_data_selection.ipynb",
        "peak_finder.ipynb",
        "scatter.ipynb",
        "view_selection.ipynb"
       ],
       "index": null,
       "layout": "IPY_MODEL_08e916c2baad4decaa80da15e4781611",
       "rows": 8,
       "style": "IPY_MODEL_27d2d7f4b872497a839ea07bd7ad8011"
      }
     },
     "d4b68b52444849b4a72f75b75cec8a54": {
      "model_module": "@jupyter-widgets/base",
      "model_module_version": "1.2.0",
      "model_name": "LayoutModel",
      "state": {}
     },
     "d4bfd5e83328492f8cafcabd77c09159": {
      "model_module": "@jupyter-widgets/base",
      "model_module_version": "1.2.0",
      "model_name": "LayoutModel",
      "state": {
       "display": "none",
       "width": "auto"
      }
     },
     "d4c005ef967a42a59d4d2068e057db30": {
      "model_module": "@jupyter-widgets/base",
      "model_module_version": "1.2.0",
      "model_name": "LayoutModel",
      "state": {}
     },
     "d4c2f5f64851447581ee99376a34f3cf": {
      "model_module": "@jupyter-widgets/controls",
      "model_module_version": "1.5.0",
      "model_name": "ButtonStyleModel",
      "state": {}
     },
     "d4c7085dc3614bf8af0290e4993aa13a": {
      "model_module": "@jupyter-widgets/controls",
      "model_module_version": "1.5.0",
      "model_name": "HBoxModel",
      "state": {
       "children": [
        "IPY_MODEL_4de88ef93c5a4091a5a28fbaf096cdb2",
        "IPY_MODEL_ce292120d91c4c4aabd8d399ea79bd19",
        "IPY_MODEL_4fd3d6399cce416bbc424c33a4dbe72f"
       ],
       "layout": "IPY_MODEL_4b8e8f34031e412dbf1fa5692d96736d"
      }
     },
     "d4d42dea42174a87991473d77257ff42": {
      "model_module": "@jupyter-widgets/base",
      "model_module_version": "1.2.0",
      "model_name": "LayoutModel",
      "state": {}
     },
     "d4d5a6e7d8914a37a8459d96cdf0bbfa": {
      "model_module": "@jupyter-widgets/base",
      "model_module_version": "1.2.0",
      "model_name": "LayoutModel",
      "state": {
       "width": "auto"
      }
     },
     "d4e98ab5d4344212ae63e9c9ebd4962d": {
      "model_module": "@jupyter-widgets/controls",
      "model_module_version": "1.5.0",
      "model_name": "VBoxModel",
      "state": {
       "children": [
        "IPY_MODEL_4e5a99bd77574b0fbd2e643b38fedb73",
        "IPY_MODEL_92ea3ff0d82047ed8e6b666d39205733"
       ],
       "layout": "IPY_MODEL_d12606f4ea4d4a3fa4d049a73db7c289"
      }
     },
     "d4e9c683ab0a410085531c48293ef2f7": {
      "model_module": "@jupyter-widgets/controls",
      "model_module_version": "1.5.0",
      "model_name": "HTMLModel",
      "state": {
       "layout": "IPY_MODEL_dd30327b7baf4c4d93f412b0d2ea9d5b",
       "placeholder": "",
       "style": "IPY_MODEL_a5fa2e5720194eb6acb7cd848b9a5e63",
       "value": "<span style=\"margin-left:10px; color:green;\">C:\\Users\\dominiquef\\Documents\\GIT\\RichardScottOZ\\geoapps\\assets\\</span>"
      }
     },
     "d4fa55c79944478ca8bad6b9f3f33ecc": {
      "model_module": "@jupyter-widgets/base",
      "model_module_version": "1.2.0",
      "model_name": "LayoutModel",
      "state": {}
     },
     "d50cfcf0f2824076b7872f7cc29c10b9": {
      "model_module": "@jupyter-widgets/controls",
      "model_module_version": "1.5.0",
      "model_name": "VBoxModel",
      "state": {
       "children": [
        "IPY_MODEL_13bdb5432822459da3b9942936039473"
       ],
       "layout": "IPY_MODEL_35b8ef037a0c4759bcfe96e1892a3eb9"
      }
     },
     "d511bc35db704abbbca91c30d2543b42": {
      "model_module": "@jupyter-widgets/controls",
      "model_module_version": "1.5.0",
      "model_name": "DescriptionStyleModel",
      "state": {
       "description_width": ""
      }
     },
     "d52fe223a44f47ac9e24b7bef87a9bb9": {
      "model_module": "@jupyter-widgets/controls",
      "model_module_version": "1.5.0",
      "model_name": "HTMLModel",
      "state": {
       "layout": "IPY_MODEL_2dfd017b9b6d4b1c882c0eac6ecc4c41",
       "placeholder": "",
       "style": "IPY_MODEL_e66ca3bebcd046c1831a431bd5d2b543",
       "value": "<span style=\"margin-left:10px; color:black;\">No file selected</span>"
      }
     },
     "d55f0c90777543ecac24481df7cc31e6": {
      "model_module": "@jupyter-widgets/controls",
      "model_module_version": "1.5.0",
      "model_name": "DescriptionStyleModel",
      "state": {
       "description_width": ""
      }
     },
     "d57259a1c58b491e9d8379b60c21d0dc": {
      "model_module": "@jupyter-widgets/base",
      "model_module_version": "1.2.0",
      "model_name": "LayoutModel",
      "state": {}
     },
     "d59d8954644c476fb72a24a78d4fa3f0": {
      "model_module": "@jupyter-widgets/controls",
      "model_module_version": "1.5.0",
      "model_name": "DescriptionStyleModel",
      "state": {
       "description_width": ""
      }
     },
     "d5a24ef4daf14eb294c76fa46acb8a93": {
      "model_module": "@jupyter-widgets/controls",
      "model_module_version": "1.5.0",
      "model_name": "HTMLModel",
      "state": {
       "layout": "IPY_MODEL_8921468823c94f048bec2257944d6f36",
       "placeholder": "",
       "style": "IPY_MODEL_a217a91fb3114abf9016ae74c517bd26",
       "value": "<span style=\"margin-left:10px; color:black;\">No file selected</span>"
      }
     },
     "d612b4dc54f64e0781da818f8ff1ab5d": {
      "model_module": "@jupyter-widgets/controls",
      "model_module_version": "1.5.0",
      "model_name": "LabelModel",
      "state": {
       "layout": "IPY_MODEL_de94958429f94e609075e74f1cdd7ebc",
       "style": "IPY_MODEL_df5c3d7d6d4e44c384a35335037be837",
       "value": "Workspace"
      }
     },
     "d633ecf86e334d91bd79ea62680d1d85": {
      "model_module": "@jupyter-widgets/base",
      "model_module_version": "1.2.0",
      "model_name": "LayoutModel",
      "state": {}
     },
     "d63e03be90da4c5f877a4d504ddf6144": {
      "model_module": "@jupyter-widgets/controls",
      "model_module_version": "1.5.0",
      "model_name": "DescriptionStyleModel",
      "state": {
       "description_width": "initial"
      }
     },
     "d67c2f4b90984fd094450264d1a37bd3": {
      "model_module": "@jupyter-widgets/controls",
      "model_module_version": "1.5.0",
      "model_name": "HBoxModel",
      "state": {
       "children": [
        "IPY_MODEL_7c6046f19c4c49f78325c115e5321c0c",
        "IPY_MODEL_aa9e6111eacf4e04ad1e84f3ac417465",
        "IPY_MODEL_77842088849e4f89b3b10b92f8e24540"
       ],
       "layout": "IPY_MODEL_ac6b22662ca442a5b1834f818c157de2"
      }
     },
     "d6815a3ca80a494d9d92e0c8d25313f9": {
      "model_module": "@jupyter-widgets/base",
      "model_module_version": "1.2.0",
      "model_name": "LayoutModel",
      "state": {}
     },
     "d688d25b81c64796b8a3430da698c454": {
      "model_module": "@jupyter-widgets/base",
      "model_module_version": "1.2.0",
      "model_name": "LayoutModel",
      "state": {}
     },
     "d691c34832524bbdb60a46403aa8ea7f": {
      "model_module": "@jupyter-widgets/controls",
      "model_module_version": "1.5.0",
      "model_name": "DescriptionStyleModel",
      "state": {
       "description_width": ""
      }
     },
     "d695e1eab03e4b37b6472ef542a10e1f": {
      "model_module": "@jupyter-widgets/controls",
      "model_module_version": "1.5.0",
      "model_name": "SelectModel",
      "state": {
       "_options_labels": [
        "..",
        "dask-worker-space",
        "images",
        "GEOSCIENCEtemp",
        "Untitled.ipynb",
        "base_application.ipynb",
        "calculator.ipynb",
        "clustering.ipynb",
        "contouring.ipynb",
        "coordinate_transformation.ipynb",
        "create_isosurface.ipynb",
        "create_surface.ipynb",
        "data_interpolation.ipynb",
        "edge_detection.ipynb",
        "export.ipynb",
        "geophysical_inversion.ipynb",
        "object_data_selection.ipynb",
        "peak_finder.ipynb",
        "scatter.ipynb",
        "view_selection.ipynb"
       ],
       "index": null,
       "layout": "IPY_MODEL_59558b19d46440c8b59114937b13951f",
       "rows": 8,
       "style": "IPY_MODEL_71c7f0121c4a4d2bb865dfb370faf402"
      }
     },
     "d6a86223656a42bca7ecea85aa6d3d8e": {
      "model_module": "@jupyter-widgets/controls",
      "model_module_version": "1.5.0",
      "model_name": "DescriptionStyleModel",
      "state": {
       "description_width": ""
      }
     },
     "d6b45fc3cfda459ba07cd7b067e1505a": {
      "model_module": "@jupyter-widgets/controls",
      "model_module_version": "1.5.0",
      "model_name": "HTMLModel",
      "state": {
       "layout": "IPY_MODEL_10cdbc93e2c74daeb116c768f928e89b",
       "style": "IPY_MODEL_96f56ddfcafe4b3493d95a7e933f7552"
      }
     },
     "d6b60ca4ed7748c19f5289408308fa96": {
      "model_module": "@jupyter-widgets/base",
      "model_module_version": "1.2.0",
      "model_name": "LayoutModel",
      "state": {}
     },
     "d6b822a76b7143c1bb42046dc024595f": {
      "model_module": "@jupyter-widgets/controls",
      "model_module_version": "1.5.0",
      "model_name": "ButtonStyleModel",
      "state": {}
     },
     "d6dd146994b443cfbd63ba924fcef0bb": {
      "model_module": "@jupyter-widgets/base",
      "model_module_version": "1.2.0",
      "model_name": "LayoutModel",
      "state": {
       "width": "auto"
      }
     },
     "d6eb52e42bbd4c42bfb389713f3bb72f": {
      "model_module": "@jupyter-widgets/controls",
      "model_module_version": "1.5.0",
      "model_name": "DescriptionStyleModel",
      "state": {
       "description_width": "initial"
      }
     },
     "d6f80ba21d3f499dac9cba85e2ccb579": {
      "model_module": "@jupyter-widgets/controls",
      "model_module_version": "1.5.0",
      "model_name": "DescriptionStyleModel",
      "state": {
       "description_width": "initial"
      }
     },
     "d700b10bea3842e18ca3449644f4e1cd": {
      "model_module": "@jupyter-widgets/controls",
      "model_module_version": "1.5.0",
      "model_name": "DescriptionStyleModel",
      "state": {
       "description_width": ""
      }
     },
     "d72fa429651148beb7ce95e9b26c28f4": {
      "model_module": "@jupyter-widgets/controls",
      "model_module_version": "1.5.0",
      "model_name": "SliderStyleModel",
      "state": {
       "description_width": "initial"
      }
     },
     "d73d0b9bdaf848039356a432a4e5de72": {
      "model_module": "@jupyter-widgets/controls",
      "model_module_version": "1.5.0",
      "model_name": "RadioButtonsModel",
      "state": {
       "_options_labels": [
        "Object",
        "Relative to Sensor",
        "Constant"
       ],
       "description": "Define by:",
       "index": 0,
       "layout": "IPY_MODEL_c51bf1055b6549c495239fb3e2b1c6f4",
       "style": "IPY_MODEL_ed4ad4171b3a40b38f53294e3edd6dd6"
      }
     },
     "d74257e773114a3f8e2d9f333be98c3c": {
      "model_module": "@jupyter-widgets/controls",
      "model_module_version": "1.5.0",
      "model_name": "IntTextModel",
      "state": {
       "description": "Max CPUs",
       "layout": "IPY_MODEL_845ad1f436864625bbc40f4676bed2dd",
       "step": 1,
       "style": "IPY_MODEL_af54b70cccb545d8b9f769ccfa100229",
       "value": 6
      }
     },
     "d7526a0a04f9418396b09372a2c52ca4": {
      "model_module": "@jupyter-widgets/controls",
      "model_module_version": "1.5.0",
      "model_name": "DescriptionStyleModel",
      "state": {
       "description_width": ""
      }
     },
     "d76015d7ae404cea924e05a528abf349": {
      "model_module": "@jupyter-widgets/controls",
      "model_module_version": "1.5.0",
      "model_name": "DescriptionStyleModel",
      "state": {
       "description_width": ""
      }
     },
     "d77055086b184299a6614eebd3fcc726": {
      "model_module": "@jupyter-widgets/controls",
      "model_module_version": "1.5.0",
      "model_name": "TextModel",
      "state": {
       "description": "Error (%, floor)",
       "layout": "IPY_MODEL_00b541a96b824baf9e99e4be85f6b27b",
       "style": "IPY_MODEL_a1357169cc544681a9099176d1c55753",
       "value": "0, 1"
      }
     },
     "d771b658c31a45d39cc203b188982e24": {
      "model_module": "@jupyter-widgets/controls",
      "model_module_version": "1.5.0",
      "model_name": "FloatSliderModel",
      "state": {
       "continuous_update": false,
       "description": "Easting",
       "layout": "IPY_MODEL_5199f3a9894c422fa0c99e93fa0140eb",
       "max": 319967.7557301139,
       "min": 311165.14860383794,
       "step": 10,
       "style": "IPY_MODEL_5e4b04341c454bb585517dc49e0521b8",
       "value": 314600
      }
     },
     "d77629da07594be3a020ebf6a2ae833d": {
      "model_module": "@jupyter-widgets/controls",
      "model_module_version": "1.5.0",
      "model_name": "HBoxModel",
      "state": {
       "children": [
        "IPY_MODEL_8e143fab1d314712bdcd21d2b399ea84",
        "IPY_MODEL_193807aa175b4176ba34fc7a447937ae"
       ],
       "layout": "IPY_MODEL_710e9dca18684d9a9bf0b0f64ca36806"
      }
     },
     "d7bad3b910d840eda6fc20b47838176a": {
      "model_module": "@jupyter-widgets/controls",
      "model_module_version": "1.5.0",
      "model_name": "ButtonModel",
      "state": {
       "description": "Create copy:",
       "layout": "IPY_MODEL_4064bff2c44a495d989b9462abbfdc70",
       "style": "IPY_MODEL_674f1e54b35648439abf8a0da5392a26"
      }
     },
     "d7c38dc0808d44719ceef4ba892af97e": {
      "model_module": "@jupyter-widgets/base",
      "model_module_version": "1.2.0",
      "model_name": "LayoutModel",
      "state": {
       "width": "auto"
      }
     },
     "d7e85eddd1c9411c82413195583c7d93": {
      "model_module": "@jupyter-widgets/controls",
      "model_module_version": "1.5.0",
      "model_name": "LabelModel",
      "state": {
       "layout": "IPY_MODEL_1bdfe4dbc5854900b9d6a206447764d1",
       "style": "IPY_MODEL_24c91ea63cc8462a8afbf1a77ac3e057",
       "value": "Workspace"
      }
     },
     "d7efca6aebd34ec88f61883826974ed0": {
      "model_module": "@jupyter-widgets/controls",
      "model_module_version": "1.5.0",
      "model_name": "DescriptionStyleModel",
      "state": {
       "description_width": "initial"
      }
     },
     "d7fbbcc615574cdeb780b7561a040ca9": {
      "model_module": "@jupyter-widgets/controls",
      "model_module_version": "1.5.0",
      "model_name": "DescriptionStyleModel",
      "state": {
       "description_width": "initial"
      }
     },
     "d811245366ce474887ea1391809d7ed6": {
      "model_module": "@jupyter-widgets/controls",
      "model_module_version": "1.5.0",
      "model_name": "ToggleButtonModel",
      "state": {
       "layout": "IPY_MODEL_5855a926de0f4c1a8c9d65b04dd8f9c6",
       "style": "IPY_MODEL_c7ad7d66ff634b678609eb35f8e250a8",
       "value": true
      }
     },
     "d8317828d27147d998be4fc2a096d2c7": {
      "model_module": "@jupyter-widgets/controls",
      "model_module_version": "1.5.0",
      "model_name": "VBoxModel",
      "state": {
       "children": [
        "IPY_MODEL_59de52258ccd4de784f26a5efe6a6e05",
        "IPY_MODEL_5e0a30548af845d7b2387c7022d03c2e",
        "IPY_MODEL_b392cd5a872f448aa093561badfcd286"
       ],
       "layout": "IPY_MODEL_ed728392f6ef459982ffb2855b87bb5e"
      }
     },
     "d8432b609cfa4302ad234f53e2b00cea": {
      "model_module": "@jupyter-widgets/controls",
      "model_module_version": "1.5.0",
      "model_name": "DescriptionStyleModel",
      "state": {
       "description_width": ""
      }
     },
     "d843fb85afd74271b7a1f868b1ef2999": {
      "model_module": "@jupyter-widgets/controls",
      "model_module_version": "1.5.0",
      "model_name": "ButtonStyleModel",
      "state": {}
     },
     "d89e07164f8848718d6c9caae0783d9c": {
      "model_module": "@jupyter-widgets/base",
      "model_module_version": "1.2.0",
      "model_name": "LayoutModel",
      "state": {}
     },
     "d8b94bc4bb0c41eba7c5e587de36e53e": {
      "model_module": "@jupyter-widgets/controls",
      "model_module_version": "1.5.0",
      "model_name": "SelectModel",
      "state": {
       "_options_labels": [
        "..",
        "images"
       ],
       "index": null,
       "layout": "IPY_MODEL_3ef2c74b06254eefaad5e355e9c9af23",
       "rows": 8,
       "style": "IPY_MODEL_ea2831271a954a439672052284b95592"
      }
     },
     "d8c825d13b03427bbcb4869b826be8bf": {
      "model_module": "@jupyter-widgets/controls",
      "model_module_version": "1.5.0",
      "model_name": "DescriptionStyleModel",
      "state": {
       "description_width": "initial"
      }
     },
     "d8ef465d6c8047dd92f096836a73dd5a": {
      "model_module": "@jupyter-widgets/controls",
      "model_module_version": "1.5.0",
      "model_name": "TextModel",
      "state": {
       "disabled": true,
       "layout": "IPY_MODEL_6bf65b880d114b7c945c748ffffbe554",
       "placeholder": "output filename",
       "style": "IPY_MODEL_6d10731eba784a0eaa424d2f983898b0"
      }
     },
     "d919f6e6b63d429d8f2ca7cc9b95f322": {
      "model_module": "@jupyter-widgets/controls",
      "model_module_version": "1.5.0",
      "model_name": "ButtonModel",
      "state": {
       "description": "Select",
       "layout": "IPY_MODEL_d4d5a6e7d8914a37a8459d96cdf0bbfa",
       "style": "IPY_MODEL_16c14386dd884589b5ea6beba4b1fb78"
      }
     },
     "d93667433cca4311bd851868ce7776cc": {
      "model_module": "@jupyter-widgets/base",
      "model_module_version": "1.2.0",
      "model_name": "LayoutModel",
      "state": {
       "width": "auto"
      }
     },
     "d968b9af2e1945219b207043127cf860": {
      "model_module": "@jupyter-widgets/controls",
      "model_module_version": "1.5.0",
      "model_name": "DescriptionStyleModel",
      "state": {
       "description_width": ""
      }
     },
     "d97ba5d86d3a4737a5f3048a5e4e06d9": {
      "model_module": "@jupyter-widgets/controls",
      "model_module_version": "1.5.0",
      "model_name": "DescriptionStyleModel",
      "state": {
       "description_width": "initial"
      }
     },
     "d984ce2d90b543b9b7a8cccc96b47a9a": {
      "model_module": "@jupyter-widgets/controls",
      "model_module_version": "1.5.0",
      "model_name": "TextModel",
      "state": {
       "description": "Padding [W,E,N,S,D,U] (m)",
       "layout": "IPY_MODEL_65de867674814277868849e4991f5f96",
       "style": "IPY_MODEL_a9d60273f8f548d4bd338cf63e2aead4",
       "value": "1000, 1000, 1000, 1000, 0, 0"
      }
     },
     "d98534fba9124b179085c92b256f0955": {
      "model_module": "@jupyter-widgets/base",
      "model_module_version": "1.2.0",
      "model_name": "LayoutModel",
      "state": {
       "grid_area": "filename",
       "width": "auto"
      }
     },
     "d99f6ee6460f41e394d6f40ba1d36eaa": {
      "model_module": "@jupyter-widgets/base",
      "model_module_version": "1.2.0",
      "model_name": "LayoutModel",
      "state": {}
     },
     "d9ace0380ef2459391ba9b46a16afdbe": {
      "model_module": "@jupyter-widgets/controls",
      "model_module_version": "1.5.0",
      "model_name": "DescriptionStyleModel",
      "state": {
       "description_width": ""
      }
     },
     "d9b4c1f18d004665b33b9d0dcec328e2": {
      "model_module": "@jupyter-widgets/controls",
      "model_module_version": "1.5.0",
      "model_name": "DescriptionStyleModel",
      "state": {
       "description_width": ""
      }
     },
     "d9d4e9aaed704a8db82aef4a7165b7c8": {
      "model_module": "@jupyter-widgets/controls",
      "model_module_version": "1.5.0",
      "model_name": "DropdownModel",
      "state": {
       "_options_labels": [
        "C:\\Users\\dominiquef\\Documents\\GIT\\RichardScottOZ\\geoapps\\docs\\content\\applications",
        "C:\\Users\\dominiquef\\Documents\\GIT\\RichardScottOZ\\geoapps\\docs\\content",
        "C:\\Users\\dominiquef\\Documents\\GIT\\RichardScottOZ\\geoapps\\docs",
        "C:\\Users\\dominiquef\\Documents\\GIT\\RichardScottOZ\\geoapps",
        "C:\\Users\\dominiquef\\Documents\\GIT\\RichardScottOZ",
        "C:\\Users\\dominiquef\\Documents\\GIT",
        "C:\\Users\\dominiquef\\Documents",
        "C:\\Users\\dominiquef",
        "C:\\Users",
        "C:\\",
        "D:\\",
        "Z:\\"
       ],
       "index": 0,
       "layout": "IPY_MODEL_0fced3c6f8e64e639810f2f916d8b17e",
       "style": "IPY_MODEL_24fa86a6632e4d59a99175bf44632fb5"
      }
     },
     "d9dd1478a19f4645b0226c7a9d4d7d8b": {
      "model_module": "@jupyter-widgets/controls",
      "model_module_version": "1.5.0",
      "model_name": "VBoxModel",
      "state": {
       "children": [
        "IPY_MODEL_634c2a6234d144b0987b3a3fadbea2e8"
       ],
       "layout": "IPY_MODEL_7090c3d702944505ad9588a76c9579a1"
      }
     },
     "d9df1e155db64864ac7222e602601a4a": {
      "model_module": "@jupyter-widgets/base",
      "model_module_version": "1.2.0",
      "model_name": "LayoutModel",
      "state": {}
     },
     "d9dffcb57bf04bcea474f5361f05a42f": {
      "model_module": "@jupyter-widgets/base",
      "model_module_version": "1.2.0",
      "model_name": "LayoutModel",
      "state": {}
     },
     "d9e88e94b2cf4f3a8f6278b24d221ea4": {
      "model_module": "@jupyter-widgets/base",
      "model_module_version": "1.2.0",
      "model_name": "LayoutModel",
      "state": {
       "display": "none"
      }
     },
     "d9eb50cf75e24c28a6774e490001833d": {
      "model_module": "@jupyter-widgets/base",
      "model_module_version": "1.2.0",
      "model_name": "LayoutModel",
      "state": {}
     },
     "d9f20db7a3a7495f8d24c8eea11367cb": {
      "model_module": "@jupyter-widgets/controls",
      "model_module_version": "1.5.0",
      "model_name": "DescriptionStyleModel",
      "state": {
       "description_width": "initial"
      }
     },
     "da0e73c3c48046fc910cd8de22b87431": {
      "model_module": "@jupyter-widgets/base",
      "model_module_version": "1.2.0",
      "model_name": "LayoutModel",
      "state": {
       "display": "none"
      }
     },
     "da5a1a4ad34148a0b27c66d83d4eb2e5": {
      "model_module": "@jupyter-widgets/base",
      "model_module_version": "1.2.0",
      "model_name": "LayoutModel",
      "state": {
       "width": "auto"
      }
     },
     "dacc2c62f77042c79bf0d2528a231692": {
      "model_module": "@jupyter-widgets/controls",
      "model_module_version": "1.5.0",
      "model_name": "SelectModel",
      "state": {
       "_options_labels": [
        "..",
        "dask-worker-space",
        "images"
       ],
       "index": null,
       "layout": "IPY_MODEL_a6cd3f3dd86947b8af7dd5c373fa7502",
       "rows": 8,
       "style": "IPY_MODEL_d700b10bea3842e18ca3449644f4e1cd"
      }
     },
     "dad0d50bef0d4121aff3f8fcbecae8da": {
      "model_module": "@jupyter-widgets/controls",
      "model_module_version": "1.5.0",
      "model_name": "ButtonStyleModel",
      "state": {}
     },
     "db0a67b3bd3e4c0c8d47b44fea0cd7ef": {
      "model_module": "@jupyter-widgets/controls",
      "model_module_version": "1.5.0",
      "model_name": "DescriptionStyleModel",
      "state": {
       "description_width": ""
      }
     },
     "db10df704c7d4af99d84a170e3322618": {
      "model_module": "@jupyter-widgets/base",
      "model_module_version": "1.2.0",
      "model_name": "LayoutModel",
      "state": {
       "display": "none",
       "width": "auto"
      }
     },
     "db2ca417135e4d6582e642c89072fc1a": {
      "model_module": "@jupyter-widgets/controls",
      "model_module_version": "1.5.0",
      "model_name": "DescriptionStyleModel",
      "state": {
       "description_width": ""
      }
     },
     "db33974025144c14a2a73afd0d976c5e": {
      "model_module": "@jupyter-widgets/controls",
      "model_module_version": "1.5.0",
      "model_name": "DescriptionStyleModel",
      "state": {
       "description_width": ""
      }
     },
     "db66b6dd31a1489cb05bcad513cdef21": {
      "model_module": "@jupyter-widgets/base",
      "model_module_version": "1.2.0",
      "model_name": "LayoutModel",
      "state": {
       "width": "auto"
      }
     },
     "dbb8688d6bba4c2ea2364e695210c134": {
      "model_module": "@jupyter-widgets/controls",
      "model_module_version": "1.5.0",
      "model_name": "GridBoxModel",
      "state": {
       "children": [
        "IPY_MODEL_04b312a92cf74e3693ced6bd3ff0c395",
        "IPY_MODEL_054e41fa7f62447caa0cb83506bc16ee",
        "IPY_MODEL_f412ab7d2744442884c844208e2d40f7"
       ],
       "layout": "IPY_MODEL_c3c7d991fb714c0db9b120c83bcf689e"
      }
     },
     "dbc37774e8f443e8af92d7c6e177f9de": {
      "model_module": "@jupyter-widgets/controls",
      "model_module_version": "1.5.0",
      "model_name": "DescriptionStyleModel",
      "state": {
       "description_width": "initial"
      }
     },
     "dbcead9448b94f02b23e9a9fc1e679fb": {
      "model_module": "@jupyter-widgets/base",
      "model_module_version": "1.2.0",
      "model_name": "LayoutModel",
      "state": {}
     },
     "dbf9d1b760e9410ba73c1bdff4884078": {
      "model_module": "@jupyter-widgets/controls",
      "model_module_version": "1.5.0",
      "model_name": "SelectModel",
      "state": {
       "_options_labels": [
        "..",
        "images",
        "base_application.ipynb",
        "calculator.ipynb",
        "clustering.ipynb",
        "contouring.ipynb",
        "coordinate_transformation.ipynb",
        "create_isosurface.ipynb",
        "create_surface.ipynb",
        "data_interpolation.ipynb",
        "edge_detection.ipynb",
        "export.ipynb",
        "geophysical_inversion.ipynb",
        "object_data_selection.ipynb",
        "octree_mesh_creation.png",
        "peak_finder.ipynb",
        "scatter.ipynb",
        "view_selection.ipynb"
       ],
       "index": null,
       "layout": "IPY_MODEL_3804daf7548d42ffbdb438958ed7e837",
       "rows": 8,
       "style": "IPY_MODEL_06f1a676f81b4f5e8e6842412ce5a2e7"
      }
     },
     "dc041b6366b54df88cb8c44029e51563": {
      "model_module": "@jupyter-widgets/base",
      "model_module_version": "1.2.0",
      "model_name": "LayoutModel",
      "state": {
       "display": "none"
      }
     },
     "dc20dcaf352c4f238fd179bc28cadca7": {
      "model_module": "@jupyter-widgets/controls",
      "model_module_version": "1.5.0",
      "model_name": "LabelModel",
      "state": {
       "layout": "IPY_MODEL_404eaa0614a4463da1e70f5b720015b5",
       "style": "IPY_MODEL_a5c12425db844ec0881199335d0a18c1",
       "value": "1D Mesh"
      }
     },
     "dc3e3aa42e0644cf9355b2808a42f4b6": {
      "model_module": "@jupyter-widgets/controls",
      "model_module_version": "1.5.0",
      "model_name": "DescriptionStyleModel",
      "state": {
       "description_width": ""
      }
     },
     "dc590134344f4a5a94fec81de23e230b": {
      "model_module": "@jupyter-widgets/controls",
      "model_module_version": "1.5.0",
      "model_name": "DescriptionStyleModel",
      "state": {
       "description_width": ""
      }
     },
     "dc5901b02cfd4015a091e46d53f9fcb9": {
      "model_module": "@jupyter-widgets/base",
      "model_module_version": "1.2.0",
      "model_name": "LayoutModel",
      "state": {}
     },
     "dc5da942e37843a696f62eb17d783980": {
      "model_module": "@jupyter-widgets/controls",
      "model_module_version": "1.5.0",
      "model_name": "VBoxModel",
      "state": {
       "children": [
        "IPY_MODEL_45c15d81a2324d569bbdbb8ab71f7420"
       ],
       "layout": "IPY_MODEL_6e259b99d6644234a15526ab5b0407fc"
      }
     },
     "dc68b6d8c825414db55c03479a53fb4c": {
      "model_module": "@jupyter-widgets/controls",
      "model_module_version": "1.5.0",
      "model_name": "TextModel",
      "state": {
       "layout": "IPY_MODEL_73e2f276c6044efc85942dddeafd72bd",
       "placeholder": "output filename",
       "style": "IPY_MODEL_5e014c92006d47c88a4136f45769d3cc"
      }
     },
     "dc6e42d72e2042dbbc22b0e7d529056b": {
      "model_module": "@jupyter-widgets/controls",
      "model_module_version": "1.5.0",
      "model_name": "DescriptionStyleModel",
      "state": {
       "description_width": ""
      }
     },
     "dcb72f79e72f4dbfb54393451fb3653b": {
      "model_module": "@jupyter-widgets/base",
      "model_module_version": "1.2.0",
      "model_name": "LayoutModel",
      "state": {}
     },
     "dccc117b49bf4700bcdfa290d7555272": {
      "model_module": "@jupyter-widgets/controls",
      "model_module_version": "1.5.0",
      "model_name": "DescriptionStyleModel",
      "state": {
       "description_width": ""
      }
     },
     "dccfabcccdff4285826bf54fef76c12f": {
      "model_module": "@jupyter-widgets/controls",
      "model_module_version": "1.5.0",
      "model_name": "CheckboxModel",
      "state": {
       "description": "GA Pro - Live link",
       "disabled": false,
       "indent": false,
       "layout": "IPY_MODEL_578bd78c2c224b2cbf68681f097a380e",
       "style": "IPY_MODEL_e9a3af70291e4540a856922bcfed060b",
       "value": false
      }
     },
     "dcf8f1f1b3e24807aaa19a7c90e19116": {
      "model_module": "@jupyter-widgets/base",
      "model_module_version": "1.2.0",
      "model_name": "LayoutModel",
      "state": {}
     },
     "dd008d7f70bc415988eb5cbfab800b36": {
      "model_module": "@jupyter-widgets/controls",
      "model_module_version": "1.5.0",
      "model_name": "DescriptionStyleModel",
      "state": {
       "description_width": ""
      }
     },
     "dd30327b7baf4c4d93f412b0d2ea9d5b": {
      "model_module": "@jupyter-widgets/base",
      "model_module_version": "1.2.0",
      "model_name": "LayoutModel",
      "state": {}
     },
     "dd7e4152ba9e4f1a971bade708612ea4": {
      "model_module": "@jupyter-widgets/base",
      "model_module_version": "1.2.0",
      "model_name": "LayoutModel",
      "state": {}
     },
     "dd7e6684040a48c29df006a7bb294d53": {
      "model_module": "@jupyter-widgets/controls",
      "model_module_version": "1.5.0",
      "model_name": "SelectModel",
      "state": {
       "_options_labels": [
        "..",
        "Temp"
       ],
       "index": null,
       "layout": "IPY_MODEL_20058a5efddb402e923ca9cdcbe953d4",
       "rows": 8,
       "style": "IPY_MODEL_6ace7630d86f4ce8b745a9a4b8ea5ccf"
      }
     },
     "ddc8961a7c9843999df090db13ced613": {
      "model_module": "@jupyter-widgets/base",
      "model_module_version": "1.2.0",
      "model_name": "LayoutModel",
      "state": {}
     },
     "dde3eea253724dc78ac6a8b07e37d239": {
      "model_module": "@jupyter-widgets/base",
      "model_module_version": "1.2.0",
      "model_name": "LayoutModel",
      "state": {}
     },
     "dde8ecda5b1e4e10bbf680fde825b6a4": {
      "model_module": "@jupyter-widgets/controls",
      "model_module_version": "1.5.0",
      "model_name": "ButtonStyleModel",
      "state": {}
     },
     "ddf5e33079c14c16b8f2dd1c37dd9a60": {
      "model_module": "@jupyter-widgets/controls",
      "model_module_version": "1.5.0",
      "model_name": "DescriptionStyleModel",
      "state": {
       "description_width": ""
      }
     },
     "de00168e26b84b17b699ba1675b6d72b": {
      "model_module": "@jupyter-widgets/controls",
      "model_module_version": "1.5.0",
      "model_name": "HBoxModel",
      "state": {
       "children": [
        "IPY_MODEL_51564f80147b4b7c8511a5948850a5b3",
        "IPY_MODEL_d7bad3b910d840eda6fc20b47838176a"
       ],
       "layout": "IPY_MODEL_5a8aed90402949a3b2d67c36bf3058b6"
      }
     },
     "de2c885cca6549a49cf7a2730019fd79": {
      "model_module": "@jupyter-widgets/base",
      "model_module_version": "1.2.0",
      "model_name": "LayoutModel",
      "state": {
       "display": "none"
      }
     },
     "de94958429f94e609075e74f1cdd7ebc": {
      "model_module": "@jupyter-widgets/base",
      "model_module_version": "1.2.0",
      "model_name": "LayoutModel",
      "state": {}
     },
     "deaa21c6ce95447586059f34674ac216": {
      "model_module": "@jupyter-widgets/base",
      "model_module_version": "1.2.0",
      "model_name": "LayoutModel",
      "state": {}
     },
     "dec1b63bcc4544ed82a8e46392520152": {
      "model_module": "@jupyter-widgets/base",
      "model_module_version": "1.2.0",
      "model_name": "LayoutModel",
      "state": {}
     },
     "df0d3b392768488eb7f04ffe9e3856ac": {
      "model_module": "@jupyter-widgets/base",
      "model_module_version": "1.2.0",
      "model_name": "LayoutModel",
      "state": {}
     },
     "df39f3de92934967a7ef179122c54df4": {
      "model_module": "@jupyter-widgets/controls",
      "model_module_version": "1.5.0",
      "model_name": "CheckboxModel",
      "state": {
       "description": "Active",
       "disabled": false,
       "layout": "IPY_MODEL_51b2543ca5ff43edb06b3185ec06f6fd",
       "style": "IPY_MODEL_3650c6ee31ef4f46a9f49339863b38f9",
       "value": false
      }
     },
     "df3d62322c144212841bf9eb5ed90ea2": {
      "model_module": "@jupyter-widgets/base",
      "model_module_version": "1.2.0",
      "model_name": "LayoutModel",
      "state": {}
     },
     "df5c3d7d6d4e44c384a35335037be837": {
      "model_module": "@jupyter-widgets/controls",
      "model_module_version": "1.5.0",
      "model_name": "DescriptionStyleModel",
      "state": {
       "description_width": "initial"
      }
     },
     "dfa73521c528428d8fa3b4393acc57a9": {
      "model_module": "@jupyter-widgets/controls",
      "model_module_version": "1.5.0",
      "model_name": "DescriptionStyleModel",
      "state": {
       "description_width": ""
      }
     },
     "dff9dad22a8447369a0411d1fade0730": {
      "model_module": "@jupyter-widgets/base",
      "model_module_version": "1.2.0",
      "model_name": "LayoutModel",
      "state": {}
     },
     "e020a0594dd84f81b0228df550c1e4d1": {
      "model_module": "@jupyter-widgets/controls",
      "model_module_version": "1.5.0",
      "model_name": "DescriptionStyleModel",
      "state": {
       "description_width": ""
      }
     },
     "e07f097143cb49fb9888aaed13cdb7ca": {
      "model_module": "@jupyter-widgets/base",
      "model_module_version": "1.2.0",
      "model_name": "LayoutModel",
      "state": {}
     },
     "e0a7f9f7a19146c49814ad7bc4e576cc": {
      "model_module": "@jupyter-widgets/controls",
      "model_module_version": "1.5.0",
      "model_name": "FloatTextModel",
      "state": {
       "description": "Air cells fill value",
       "layout": "IPY_MODEL_e8384cff75524d81bb5654e42bf9589b",
       "step": null,
       "style": "IPY_MODEL_eb3fdace947b4db79ee32fbb5dadc376"
      }
     },
     "e0c3eaaf196b445d8b5f8825ed1fd2c1": {
      "model_module": "@jupyter-widgets/controls",
      "model_module_version": "1.5.0",
      "model_name": "DescriptionStyleModel",
      "state": {
       "description_width": ""
      }
     },
     "e0ca19e4365e432192d835a30bb6f429": {
      "model_module": "@jupyter-widgets/controls",
      "model_module_version": "1.5.0",
      "model_name": "DescriptionStyleModel",
      "state": {
       "description_width": "initial"
      }
     },
     "e0d099fd2fcd4e878a680d133cfba291": {
      "model_module": "@jupyter-widgets/controls",
      "model_module_version": "1.5.0",
      "model_name": "SelectModel",
      "state": {
       "_options_labels": [
        "..",
        "dask-worker-space",
        "images"
       ],
       "index": null,
       "layout": "IPY_MODEL_82a24ac673934a5293f30a3210ee3de2",
       "rows": 8,
       "style": "IPY_MODEL_0cb2a8a311c347b8994abc11432c6638"
      }
     },
     "e0d36fe607244647a71ce55bc9a1df5c": {
      "model_module": "@jupyter-widgets/controls",
      "model_module_version": "1.5.0",
      "model_name": "DescriptionStyleModel",
      "state": {
       "description_width": ""
      }
     },
     "e1032075dbf54572bed20a5a5bf4763b": {
      "model_module": "@jupyter-widgets/base",
      "model_module_version": "1.2.0",
      "model_name": "LayoutModel",
      "state": {
       "width": "auto"
      }
     },
     "e10eaaf656a847e0bd2b6066fb8c3823": {
      "model_module": "@jupyter-widgets/controls",
      "model_module_version": "1.5.0",
      "model_name": "RadioButtonsModel",
      "state": {
       "_options_labels": [
        "Estimated (%|data| + background)",
        "User input (%|data| + floor)"
       ],
       "index": 1,
       "layout": "IPY_MODEL_71877785713f43fe8ff37eee65753ac0",
       "style": "IPY_MODEL_f07676436ec14f088beac3b85475cde7"
      }
     },
     "e11f5e0b91e84c9990f520922c78b606": {
      "model_module": "@jupyter-widgets/base",
      "model_module_version": "1.2.0",
      "model_name": "LayoutModel",
      "state": {
       "grid_area": "pathlist",
       "width": "auto"
      }
     },
     "e14a02756d1e4ff7b01707a3dda9fc6d": {
      "model_module": "@jupyter-widgets/base",
      "model_module_version": "1.2.0",
      "model_name": "LayoutModel",
      "state": {}
     },
     "e16262aa1d7f4ae0b953c54407cd0d30": {
      "model_module": "@jupyter-widgets/controls",
      "model_module_version": "1.5.0",
      "model_name": "DescriptionStyleModel",
      "state": {
       "description_width": ""
      }
     },
     "e17e02db4a634f83b08d99b3f667176d": {
      "model_module": "@jupyter-widgets/controls",
      "model_module_version": "1.5.0",
      "model_name": "RadioButtonsModel",
      "state": {
       "_options_labels": [
        "sensor location + (dx, dy, dz)",
        "topo + radar + (dx, dy, dz)"
       ],
       "description": "Define by:",
       "index": 1,
       "layout": "IPY_MODEL_155bd79e58784f23b7243668ec6096f4",
       "style": "IPY_MODEL_8c9aed54e44144328e327e6f495024fb"
      }
     },
     "e18c16b1f5e24564bdc08521b6769d19": {
      "model_module": "@jupyter-widgets/base",
      "model_module_version": "1.2.0",
      "model_name": "LayoutModel",
      "state": {
       "grid_area": "pathlist",
       "width": "auto"
      }
     },
     "e19dd2b1e6cf4aefa6320851e22c5eba": {
      "model_module": "@jupyter-widgets/base",
      "model_module_version": "1.2.0",
      "model_name": "LayoutModel",
      "state": {
       "display": "none"
      }
     },
     "e19fbcf2fd4b426c8e366c9a92522827": {
      "model_module": "@jupyter-widgets/base",
      "model_module_version": "1.2.0",
      "model_name": "LayoutModel",
      "state": {
       "display": "none",
       "grid_area": "filename",
       "width": "auto"
      }
     },
     "e1a014daa56c48da999f1cebb72df532": {
      "model_module": "@jupyter-widgets/controls",
      "model_module_version": "1.5.0",
      "model_name": "DescriptionStyleModel",
      "state": {
       "description_width": "initial"
      }
     },
     "e1acb614e5244add9011ca5e84f1d60f": {
      "model_module": "@jupyter-widgets/base",
      "model_module_version": "1.2.0",
      "model_name": "LayoutModel",
      "state": {}
     },
     "e1b4d50677e54b82b3e2f83e45b194ca": {
      "model_module": "@jupyter-widgets/base",
      "model_module_version": "1.2.0",
      "model_name": "LayoutModel",
      "state": {}
     },
     "e1cd5bca784e437fbb4d921a11649b3a": {
      "model_module": "@jupyter-widgets/base",
      "model_module_version": "1.2.0",
      "model_name": "LayoutModel",
      "state": {}
     },
     "e2002c0fedb842d4b1bc1e6735f912ec": {
      "model_module": "@jupyter-widgets/controls",
      "model_module_version": "1.5.0",
      "model_name": "TextModel",
      "state": {
       "disabled": true,
       "layout": "IPY_MODEL_d101e095bd304a3fb32d4653781e9e6a",
       "placeholder": "output filename",
       "style": "IPY_MODEL_4ce95637083544b0a16a687d4f13f1fb"
      }
     },
     "e200a0d0d2ae4f9bb3bc45304c7edcbc": {
      "model_module": "@jupyter-widgets/controls",
      "model_module_version": "1.5.0",
      "model_name": "VBoxModel",
      "state": {
       "children": [
        "IPY_MODEL_44fdd409795642749f9b53d84533d684",
        "IPY_MODEL_770d908c97834b649f0478223ccb703d",
        "IPY_MODEL_58c624adf4a7453d9fb361c3cbea346b"
       ],
       "layout": "IPY_MODEL_d6dd146994b443cfbd63ba924fcef0bb"
      }
     },
     "e2034b4a131949bbaf8bd001a92ebc81": {
      "model_module": "@jupyter-widgets/base",
      "model_module_version": "1.2.0",
      "model_name": "LayoutModel",
      "state": {
       "display": "none"
      }
     },
     "e20af906d60545e2a3aa49d4f65b4ef3": {
      "model_module": "@jupyter-widgets/base",
      "model_module_version": "1.2.0",
      "model_name": "LayoutModel",
      "state": {}
     },
     "e223cae63b7f46d6a71538741c6dfb24": {
      "model_module": "@jupyter-widgets/base",
      "model_module_version": "1.2.0",
      "model_name": "LayoutModel",
      "state": {}
     },
     "e24464d6600745e6948a2fd57c968c0e": {
      "model_module": "@jupyter-widgets/controls",
      "model_module_version": "1.5.0",
      "model_name": "TextModel",
      "state": {
       "description": "Error (%, floor)",
       "layout": "IPY_MODEL_c65b49b538f34c669a84f39b6c1b1cd0",
       "style": "IPY_MODEL_a3edbc60316b4ba0ada4a586210e7b9d",
       "value": "0, 1"
      }
     },
     "e2463c916e0241299d0e206c554e8a5b": {
      "model_module": "@jupyter-widgets/controls",
      "model_module_version": "1.5.0",
      "model_name": "TextModel",
      "state": {
       "description": "Layers below topo",
       "layout": "IPY_MODEL_c23d0c66924642aabe5045be5f254dba",
       "style": "IPY_MODEL_7a6fbbae7f234fa6b3b20f24001bd95c",
       "value": "0, 0, 0, 2"
      }
     },
     "e24d0b18a43246adbe35c1991fc29b59": {
      "model_module": "@jupyter-widgets/controls",
      "model_module_version": "1.5.0",
      "model_name": "VBoxModel",
      "state": {
       "children": [
        "IPY_MODEL_5a70489d23e248aeb9e7a3b8c7cd28cc",
        "IPY_MODEL_85f14378f33143f482964246f714d61c"
       ],
       "layout": "IPY_MODEL_4acca38696884bb1ac2efd4b3ded9421"
      }
     },
     "e24d68963c334e18b4ca4e79e4178ee0": {
      "model_module": "@jupyter-widgets/controls",
      "model_module_version": "1.5.0",
      "model_name": "HBoxModel",
      "state": {
       "children": [
        "IPY_MODEL_825b028c312f4f7eaf733483dfd2c2a0",
        "IPY_MODEL_340e61877eb4455ab0a904ae9afafbea"
       ],
       "layout": "IPY_MODEL_af6eeac674314302944f5f3bdfa898cc"
      }
     },
     "e26cdaff62674f4191151a9f101a83f2": {
      "model_module": "@jupyter-widgets/controls",
      "model_module_version": "1.5.0",
      "model_name": "HTMLModel",
      "state": {
       "layout": "IPY_MODEL_d9e88e94b2cf4f3a8f6278b24d221ea4",
       "style": "IPY_MODEL_a243827b2f7f4eb285208dbf0b944366"
      }
     },
     "e26f0308d0ca47bab6143455f13b76f7": {
      "model_module": "@jupyter-widgets/controls",
      "model_module_version": "1.5.0",
      "model_name": "ToggleButtonModel",
      "state": {
       "layout": "IPY_MODEL_be0e266ff05943eeaf24d0f63b6357f1",
       "style": "IPY_MODEL_8e6dbe7b1dd14bf190067d780430f520"
      }
     },
     "e2744ef7b62c4aeab9e5ce7c469612a8": {
      "model_module": "@jupyter-widgets/controls",
      "model_module_version": "1.5.0",
      "model_name": "VBoxModel",
      "state": {
       "children": [
        "IPY_MODEL_4d2f386e59c2479da56b05fdaf741b10",
        "IPY_MODEL_3a0d0eaa737b4dcebdd42c6e497baacf"
       ],
       "layout": "IPY_MODEL_49e034b91c6b48c187521914e8e7bcd8"
      }
     },
     "e282fa86b8c34c298cc9486fca955dec": {
      "model_module": "@jupyter-widgets/base",
      "model_module_version": "1.2.0",
      "model_name": "LayoutModel",
      "state": {}
     },
     "e299427d58544fbc8ee90379c1552aea": {
      "model_module": "@jupyter-widgets/base",
      "model_module_version": "1.2.0",
      "model_name": "LayoutModel",
      "state": {
       "width": "auto"
      }
     },
     "e2c82b8c0ba546f992bfb6b50bbb9b95": {
      "model_module": "@jupyter-widgets/controls",
      "model_module_version": "1.5.0",
      "model_name": "VBoxModel",
      "state": {
       "children": [
        "IPY_MODEL_5c9e90860dec4587a456eafcad3a8b31",
        "IPY_MODEL_0e8af023321e4c47ba351e02aa777fa6",
        "IPY_MODEL_6d73ff36cb1c4e4f925bfe218c5ae895",
        "IPY_MODEL_58a0ee7091f949139664d959e05b12b9",
        "IPY_MODEL_c066d547e1ba48419895c1c8f5b2b96b"
       ],
       "layout": "IPY_MODEL_2a90c1f0d2fa40fe8cdfd3480a713736"
      }
     },
     "e2ca97f003004aac93d26824a2b59495": {
      "model_module": "@jupyter-widgets/controls",
      "model_module_version": "1.5.0",
      "model_name": "DropdownModel",
      "state": {
       "_options_labels": [
        "",
        "--- Channels ---",
        "Airborne_Gxx",
        "Airborne_Gxy",
        "Airborne_Gxz",
        "Airborne_Gyy",
        "Airborne_Gyz",
        "Airborne_Gz",
        "Airborne_Gzz",
        "Airborne_TMI",
        "Ground_Gz",
        "Z"
       ],
       "description": "Channel <=> Data:",
       "index": 0,
       "layout": "IPY_MODEL_c3c30cbd87204ac5a39da6b2c303dcc2",
       "style": "IPY_MODEL_5743e8a9557b414da62b3e53951c4115"
      }
     },
     "e2f03acc78b94b1fad64a15a49a8df3e": {
      "model_module": "@jupyter-widgets/base",
      "model_module_version": "1.2.0",
      "model_name": "LayoutModel",
      "state": {}
     },
     "e2f83aec78dc4b2e96dc3152b0aa562d": {
      "model_module": "@jupyter-widgets/controls",
      "model_module_version": "1.5.0",
      "model_name": "ButtonStyleModel",
      "state": {}
     },
     "e2ff39a02dce409db6790b56b32505a9": {
      "model_module": "@jupyter-widgets/controls",
      "model_module_version": "1.5.0",
      "model_name": "DescriptionStyleModel",
      "state": {
       "description_width": ""
      }
     },
     "e31b542b19e64f9cbac5df27e9d40679": {
      "model_module": "@jupyter-widgets/base",
      "model_module_version": "1.2.0",
      "model_name": "LayoutModel",
      "state": {}
     },
     "e336b2750eab4126a13cbbe09a4c5865": {
      "model_module": "@jupyter-widgets/controls",
      "model_module_version": "1.5.0",
      "model_name": "DescriptionStyleModel",
      "state": {
       "description_width": "initial"
      }
     },
     "e37318cd232144a098b57ed4b84666ed": {
      "model_module": "@jupyter-widgets/controls",
      "model_module_version": "1.5.0",
      "model_name": "DescriptionStyleModel",
      "state": {
       "description_width": ""
      }
     },
     "e37c834f1f3545d891c4d0fa7025c4dc": {
      "model_module": "@jupyter-widgets/controls",
      "model_module_version": "1.5.0",
      "model_name": "SelectModel",
      "state": {
       "_options_labels": [
        "..",
        "dask-worker-space",
        "images"
       ],
       "index": null,
       "layout": "IPY_MODEL_c891fda561504deeb6dd4b03ff126783",
       "rows": 8,
       "style": "IPY_MODEL_493889d792184f3db14fa0820a56669c"
      }
     },
     "e3a01f1dce55488099dc1a5ee59ff3a7": {
      "model_module": "@jupyter-widgets/base",
      "model_module_version": "1.2.0",
      "model_name": "LayoutModel",
      "state": {
       "display": "none",
       "width": "auto"
      }
     },
     "e3ba5e607b8b4121baae3f882280c306": {
      "model_module": "@jupyter-widgets/base",
      "model_module_version": "1.2.0",
      "model_name": "LayoutModel",
      "state": {
       "width": "auto"
      }
     },
     "e3d409cf0ea048b997d19c570268395e": {
      "model_module": "@jupyter-widgets/controls",
      "model_module_version": "1.5.0",
      "model_name": "DescriptionStyleModel",
      "state": {
       "description_width": ""
      }
     },
     "e3d5ed96cf704d6f99e68508f6f83af1": {
      "model_module": "@jupyter-widgets/base",
      "model_module_version": "1.2.0",
      "model_name": "LayoutModel",
      "state": {
       "width": "auto"
      }
     },
     "e3dce0bc7b074ffb97c49e410593ef0b": {
      "model_module": "@jupyter-widgets/controls",
      "model_module_version": "1.5.0",
      "model_name": "TextModel",
      "state": {
       "layout": "IPY_MODEL_9f550cac1daa42c2a294a9aabd930fe9",
       "placeholder": "output filename",
       "style": "IPY_MODEL_410f3207b5da4de5a66713e11a771924"
      }
     },
     "e432961a508343e38bdb0ccae7822be9": {
      "model_module": "@jupyter-widgets/base",
      "model_module_version": "1.2.0",
      "model_name": "LayoutModel",
      "state": {
       "width": "auto"
      }
     },
     "e486c8cf75f2427487c703cb589641ef": {
      "model_module": "@jupyter-widgets/controls",
      "model_module_version": "1.5.0",
      "model_name": "IntTextModel",
      "state": {
       "description": "Max CPUs",
       "layout": "IPY_MODEL_d4b68b52444849b4a72f75b75cec8a54",
       "step": 1,
       "style": "IPY_MODEL_e9d95999cdd04093a496f6a9175b7a75",
       "value": 6
      }
     },
     "e4e5e6803e8d49b7a02339dc06ccd8b2": {
      "model_module": "@jupyter-widgets/controls",
      "model_module_version": "1.5.0",
      "model_name": "DescriptionStyleModel",
      "state": {
       "description_width": "initial"
      }
     },
     "e4e95d89a4904af99712034b94e88c13": {
      "model_module": "@jupyter-widgets/controls",
      "model_module_version": "1.5.0",
      "model_name": "DescriptionStyleModel",
      "state": {
       "description_width": ""
      }
     },
     "e52a2b883d474930a1f987cf5ec3722d": {
      "model_module": "@jupyter-widgets/controls",
      "model_module_version": "1.5.0",
      "model_name": "DescriptionStyleModel",
      "state": {
       "description_width": ""
      }
     },
     "e534e0bc5b154516bcbdefc9236fe4fe": {
      "model_module": "@jupyter-widgets/controls",
      "model_module_version": "1.5.0",
      "model_name": "ButtonModel",
      "state": {
       "description": "Cancel",
       "layout": "IPY_MODEL_17da73a7e57f43a59e6e2adf2d96c33e",
       "style": "IPY_MODEL_038197cce37846bf968b5f0dff78e76b"
      }
     },
     "e558870ccfe14d48b05feed750a49a4e": {
      "model_module": "@jupyter-widgets/controls",
      "model_module_version": "1.5.0",
      "model_name": "DescriptionStyleModel",
      "state": {
       "description_width": ""
      }
     },
     "e5958acb71584396a12725fd7582e1ab": {
      "model_module": "@jupyter-widgets/controls",
      "model_module_version": "1.5.0",
      "model_name": "DescriptionStyleModel",
      "state": {
       "description_width": ""
      }
     },
     "e5aa96076ab04fb7bb5ea4e7dd47628b": {
      "model_module": "@jupyter-widgets/base",
      "model_module_version": "1.2.0",
      "model_name": "LayoutModel",
      "state": {}
     },
     "e5bbc2fc798f40a4afc5eb4ac2eb413a": {
      "model_module": "@jupyter-widgets/controls",
      "model_module_version": "1.5.0",
      "model_name": "SliderStyleModel",
      "state": {
       "description_width": ""
      }
     },
     "e5e5a26e22434102a6950c6cdab84d74": {
      "model_module": "@jupyter-widgets/base",
      "model_module_version": "1.2.0",
      "model_name": "LayoutModel",
      "state": {}
     },
     "e5e6f67ce10c42928c90059af153880d": {
      "model_module": "@jupyter-widgets/controls",
      "model_module_version": "1.5.0",
      "model_name": "DescriptionStyleModel",
      "state": {
       "description_width": "initial"
      }
     },
     "e5e8efa47aa4422783afd26195bcab89": {
      "model_module": "@jupyter-widgets/controls",
      "model_module_version": "1.5.0",
      "model_name": "VBoxModel",
      "state": {
       "children": [
        "IPY_MODEL_53020c77f5374740a970153db2ac22b6",
        "IPY_MODEL_d3d9b3788156438aaf743542f7f142cd"
       ],
       "layout": "IPY_MODEL_7a3fcf97cfcd44769ad503027ab7ac13"
      }
     },
     "e5eed8cb0b0948168f17930998382618": {
      "model_module": "@jupyter-widgets/base",
      "model_module_version": "1.2.0",
      "model_name": "LayoutModel",
      "state": {
       "grid_area": "filename",
       "width": "auto"
      }
     },
     "e5f2f681a12d45c3ad0d2e5573b2b5b3": {
      "model_module": "@jupyter-widgets/output",
      "model_module_version": "1.0.0",
      "model_name": "OutputModel",
      "state": {
       "layout": "IPY_MODEL_55b35ca6280b4f72b9975826488ba79f",
       "outputs": [
        {
         "data": {
          "image/png": "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\n",
          "text/plain": "<Figure size 720x720 with 1 Axes>"
         },
         "metadata": {
          "needs_background": "light"
         },
         "output_type": "display_data"
        }
       ]
      }
     },
     "e5f901216c504e368498907f20ca6152": {
      "model_module": "@jupyter-widgets/controls",
      "model_module_version": "1.5.0",
      "model_name": "VBoxModel",
      "state": {
       "children": [
        "IPY_MODEL_407cbb0a69e741c985f6b9990c6cb828",
        "IPY_MODEL_2eec9c2b24324b9086d6e6c9aebabae9",
        "IPY_MODEL_70b5bf072f7f44ce859f0bb34c19b9fb",
        "IPY_MODEL_05ae36b4cd124881bf50699ec3113a62",
        "IPY_MODEL_f10b2ea4a1994f3fa672e08804775271"
       ],
       "layout": "IPY_MODEL_4e2d70495e274e30be60d625c1c43537"
      }
     },
     "e607bd9996dd42779ed15343d9e09205": {
      "model_module": "@jupyter-widgets/base",
      "model_module_version": "1.2.0",
      "model_name": "LayoutModel",
      "state": {}
     },
     "e610eb664ace497d983761ee999e7ea3": {
      "model_module": "@jupyter-widgets/base",
      "model_module_version": "1.2.0",
      "model_name": "LayoutModel",
      "state": {}
     },
     "e627dfa1de504d46b0ec6b571344cc5f": {
      "model_module": "@jupyter-widgets/controls",
      "model_module_version": "1.5.0",
      "model_name": "HTMLModel",
      "state": {
       "layout": "IPY_MODEL_dc041b6366b54df88cb8c44029e51563",
       "style": "IPY_MODEL_c3a3d087cf434a9fb569e4f93770079f"
      }
     },
     "e647543ce58d446b9b57b7d9bfa32dcd": {
      "model_module": "@jupyter-widgets/controls",
      "model_module_version": "1.5.0",
      "model_name": "DescriptionStyleModel",
      "state": {
       "description_width": ""
      }
     },
     "e6535bbe6c1e498b90329a9fd894a4d0": {
      "model_module": "@jupyter-widgets/controls",
      "model_module_version": "1.5.0",
      "model_name": "DescriptionStyleModel",
      "state": {
       "description_width": "initial"
      }
     },
     "e667bd83031b427eb8fb867d5cd75672": {
      "model_module": "@jupyter-widgets/base",
      "model_module_version": "1.2.0",
      "model_name": "LayoutModel",
      "state": {}
     },
     "e66ca3bebcd046c1831a431bd5d2b543": {
      "model_module": "@jupyter-widgets/controls",
      "model_module_version": "1.5.0",
      "model_name": "DescriptionStyleModel",
      "state": {
       "description_width": ""
      }
     },
     "e6be0c6445bd4dbcaa2894c34e8ae823": {
      "model_module": "@jupyter-widgets/base",
      "model_module_version": "1.2.0",
      "model_name": "LayoutModel",
      "state": {
       "display": "none",
       "grid_gap": "0px 0px",
       "grid_template_areas": "\n                    'pathlist pathlist'\n                    'dircontent dircontent'\n                    ",
       "grid_template_columns": "60% 40%",
       "grid_template_rows": "auto auto",
       "width": "500px"
      }
     },
     "e6f90776d5444b09bc6e477a36bdeb57": {
      "model_module": "@jupyter-widgets/controls",
      "model_module_version": "1.5.0",
      "model_name": "DropdownModel",
      "state": {
       "_options_labels": [
        "",
        "--- Channels ---",
        "Airborne_Gxx",
        "Airborne_Gxy",
        "Airborne_Gxz",
        "Airborne_Gyy",
        "Airborne_Gyz",
        "Airborne_Gz",
        "Airborne_Gzz",
        "Airborne_TMI",
        "Ground_Gz",
        "Z"
       ],
       "description": "Channel <=> Data:",
       "index": 0,
       "layout": "IPY_MODEL_3b970acefe3c45f99850379ebaf5d9e3",
       "style": "IPY_MODEL_aaa3f64b5c5841c297f8daa6be6ba0f1"
      }
     },
     "e71043234e5042149da6f4a1d73f8acf": {
      "model_module": "@jupyter-widgets/controls",
      "model_module_version": "1.5.0",
      "model_name": "VBoxModel",
      "state": {
       "children": [
        "IPY_MODEL_ab2093fb6f834115a6773d843cd38011",
        "IPY_MODEL_956ee1f7f4894b6d8b3f01d53cb60ad4"
       ],
       "layout": "IPY_MODEL_305a7ce58c104139a353c10533828db0"
      }
     },
     "e714c69b9fbc4193ad3cfca2632e3f6f": {
      "model_module": "@jupyter-widgets/controls",
      "model_module_version": "1.5.0",
      "model_name": "LabelModel",
      "state": {
       "layout": "IPY_MODEL_0344a5a4c0a04cdaaad44702391cbc50",
       "style": "IPY_MODEL_d8432b609cfa4302ad234f53e2b00cea",
       "value": "Geophysical System"
      }
     },
     "e7626b6c7baf47fcad7b43774f25c2cc": {
      "model_module": "@jupyter-widgets/controls",
      "model_module_version": "1.5.0",
      "model_name": "DescriptionStyleModel",
      "state": {
       "description_width": ""
      }
     },
     "e76a004e9050439b819837d0991b2a61": {
      "model_module": "@jupyter-widgets/controls",
      "model_module_version": "1.5.0",
      "model_name": "VBoxModel",
      "state": {
       "children": [
        "IPY_MODEL_5e1d85770188450d987c0afe508f5006",
        "IPY_MODEL_a1b1cba50f53404ea53d7a628ef16879"
       ],
       "layout": "IPY_MODEL_54e272c4fc87490ca6e8929b506b5393"
      }
     },
     "e7e25cacc8ba43ff8ae046fd2bf5e63d": {
      "model_module": "@jupyter-widgets/base",
      "model_module_version": "1.2.0",
      "model_name": "LayoutModel",
      "state": {}
     },
     "e7e27192775e4d35a5fee6b5ea65f436": {
      "model_module": "@jupyter-widgets/controls",
      "model_module_version": "1.5.0",
      "model_name": "DescriptionStyleModel",
      "state": {
       "description_width": ""
      }
     },
     "e7efed729c91433babb0cb9ae5444f40": {
      "model_module": "@jupyter-widgets/controls",
      "model_module_version": "1.5.0",
      "model_name": "ButtonStyleModel",
      "state": {}
     },
     "e82139c3bc334bccbc279624229a9749": {
      "model_module": "@jupyter-widgets/controls",
      "model_module_version": "1.5.0",
      "model_name": "ButtonModel",
      "state": {
       "button_style": "danger",
       "description": "Compute",
       "icon": "check",
       "layout": "IPY_MODEL_4ec2bc1974a54a039cef5a5f2d1c5fb6",
       "style": "IPY_MODEL_01e7734eb300495fb4a6c73f7e5661e6",
       "tooltip": "Run computation"
      }
     },
     "e8384cff75524d81bb5654e42bf9589b": {
      "model_module": "@jupyter-widgets/base",
      "model_module_version": "1.2.0",
      "model_name": "LayoutModel",
      "state": {}
     },
     "e83a3a1a74554cc6a9b20235a57e012e": {
      "model_module": "@jupyter-widgets/controls",
      "model_module_version": "1.5.0",
      "model_name": "VBoxModel",
      "state": {
       "children": [
        "IPY_MODEL_9261ffdd6d7749429c073417c05d7466",
        "IPY_MODEL_79760e792e074e4b8ea0f56c2fa717dc",
        "IPY_MODEL_f5168bd0211c46ebbe5c37458daae113"
       ],
       "layout": "IPY_MODEL_c86c535f41004af990eaf4e40fc0e2cb"
      }
     },
     "e848ee7cf44b490f8c3553f48a0e2c34": {
      "model_module": "@jupyter-widgets/base",
      "model_module_version": "1.2.0",
      "model_name": "LayoutModel",
      "state": {}
     },
     "e8650f7b8d964b3c95b373c0cee7616c": {
      "model_module": "@jupyter-widgets/controls",
      "model_module_version": "1.5.0",
      "model_name": "DescriptionStyleModel",
      "state": {
       "description_width": ""
      }
     },
     "e89aad6a4703444cafb2af211349316e": {
      "model_module": "@jupyter-widgets/controls",
      "model_module_version": "1.5.0",
      "model_name": "TextModel",
      "state": {
       "description": "bxx",
       "layout": "IPY_MODEL_26ab6cd52b9b43dda9775335507a70f7",
       "style": "IPY_MODEL_c509855e3ea0481a9566a026a3763312"
      }
     },
     "e89e30fff9d3496a8e3b6ebb4a5d6733": {
      "model_module": "@jupyter-widgets/base",
      "model_module_version": "1.2.0",
      "model_name": "LayoutModel",
      "state": {}
     },
     "e8b213b78ff94e92a432be9d3e2cf8ac": {
      "model_module": "@jupyter-widgets/base",
      "model_module_version": "1.2.0",
      "model_name": "LayoutModel",
      "state": {
       "display": "none",
       "width": "auto"
      }
     },
     "e8b780d837d84b5b80bdb2cafc7584d3": {
      "model_module": "@jupyter-widgets/controls",
      "model_module_version": "1.5.0",
      "model_name": "VBoxModel",
      "state": {
       "children": [
        "IPY_MODEL_e714c69b9fbc4193ad3cfca2632e3f6f",
        "IPY_MODEL_58d3e6a3c91d4910b51885f08741b6ea"
       ],
       "layout": "IPY_MODEL_52062827e13e4e538df0e1659583ca66"
      }
     },
     "e8c2214dd334451e9939be1856ef8569": {
      "model_module": "@jupyter-widgets/controls",
      "model_module_version": "1.5.0",
      "model_name": "DescriptionStyleModel",
      "state": {
       "description_width": ""
      }
     },
     "e8d481db84534b0abfb8766bccef6832": {
      "model_module": "@jupyter-widgets/controls",
      "model_module_version": "1.5.0",
      "model_name": "DescriptionStyleModel",
      "state": {
       "description_width": ""
      }
     },
     "e8dab143b7e74d08a444e4fdc2096821": {
      "model_module": "@jupyter-widgets/controls",
      "model_module_version": "1.5.0",
      "model_name": "CheckboxModel",
      "state": {
       "description": "Active",
       "disabled": false,
       "layout": "IPY_MODEL_c13b8f1d670c47e1b815e41b07e0d24f",
       "style": "IPY_MODEL_8bc7cf314f35443c8106e089b5ff46b2",
       "value": false
      }
     },
     "e8dbdc8ef92d4d599a2d01b599ddd0ef": {
      "model_module": "@jupyter-widgets/controls",
      "model_module_version": "1.5.0",
      "model_name": "GridBoxModel",
      "state": {
       "children": [
        "IPY_MODEL_afbf4a3036254de48dcecc7d9b734885",
        "IPY_MODEL_03f256f8e71046dcbde37d83cb401acd",
        "IPY_MODEL_1570fbb35c5242119e77fd19d53eebee"
       ],
       "layout": "IPY_MODEL_0a8effa69f7342339305cde09f2e5a21"
      }
     },
     "e8f44393c9604ab4ac639419b326816c": {
      "model_module": "@jupyter-widgets/base",
      "model_module_version": "1.2.0",
      "model_name": "LayoutModel",
      "state": {
       "grid_area": "pathlist",
       "width": "auto"
      }
     },
     "e900d44af00b4c7da5fce8720a1b8f04": {
      "model_module": "@jupyter-widgets/base",
      "model_module_version": "1.2.0",
      "model_name": "LayoutModel",
      "state": {}
     },
     "e9a3af70291e4540a856922bcfed060b": {
      "model_module": "@jupyter-widgets/controls",
      "model_module_version": "1.5.0",
      "model_name": "DescriptionStyleModel",
      "state": {
       "description_width": "initial"
      }
     },
     "e9aba81c83514172ba58e08dc7d7c0c9": {
      "model_module": "@jupyter-widgets/controls",
      "model_module_version": "1.5.0",
      "model_name": "ButtonStyleModel",
      "state": {}
     },
     "e9cc8dbb75834eb3a7776a23aac9a4ab": {
      "model_module": "@jupyter-widgets/base",
      "model_module_version": "1.2.0",
      "model_name": "LayoutModel",
      "state": {
       "display": "none",
       "grid_gap": "0px 0px",
       "grid_template_areas": "\n                    'pathlist pathlist'\n                    'dircontent dircontent'\n                    ",
       "grid_template_columns": "60% 40%",
       "grid_template_rows": "auto auto",
       "width": "500px"
      }
     },
     "e9d95999cdd04093a496f6a9175b7a75": {
      "model_module": "@jupyter-widgets/controls",
      "model_module_version": "1.5.0",
      "model_name": "DescriptionStyleModel",
      "state": {
       "description_width": ""
      }
     },
     "e9ec1bedda144d9cbfec7c75d24c1ecb": {
      "model_module": "@jupyter-widgets/controls",
      "model_module_version": "1.5.0",
      "model_name": "TextModel",
      "state": {
       "description": "Data (i.e. <0 = no negatives)",
       "layout": "IPY_MODEL_542b0cdfdbcc449b830c185d3874e9f1",
       "style": "IPY_MODEL_01bcef0c9d4448119ae57e02b8aa7fb9",
       "value": "-99999"
      }
     },
     "e9f708d9ba874ca09dda3bad8a1f0aae": {
      "model_module": "@jupyter-widgets/base",
      "model_module_version": "1.2.0",
      "model_name": "LayoutModel",
      "state": {}
     },
     "ea2831271a954a439672052284b95592": {
      "model_module": "@jupyter-widgets/controls",
      "model_module_version": "1.5.0",
      "model_name": "DescriptionStyleModel",
      "state": {
       "description_width": ""
      }
     },
     "ea3305dfcf8e41cf93baad0fca1180b9": {
      "model_module": "@jupyter-widgets/base",
      "model_module_version": "1.2.0",
      "model_name": "LayoutModel",
      "state": {}
     },
     "ea52d1d971ac47a9b4ffc3b12c7d083b": {
      "model_module": "@jupyter-widgets/controls",
      "model_module_version": "1.5.0",
      "model_name": "DescriptionStyleModel",
      "state": {
       "description_width": "initial"
      }
     },
     "ea54053234cb41239017bc12383c6be0": {
      "model_module": "@jupyter-widgets/controls",
      "model_module_version": "1.5.0",
      "model_name": "VBoxModel",
      "state": {
       "children": [
        "IPY_MODEL_ef78acdc0cd045b6b635b2cbce7d41cf",
        "IPY_MODEL_ac2149199cc4469dae60c6a7ea777c48"
       ],
       "layout": "IPY_MODEL_c4151debcda047d093030bdf19073e0e"
      }
     },
     "ea59109968084eda81d191471ae0dd12": {
      "model_module": "@jupyter-widgets/base",
      "model_module_version": "1.2.0",
      "model_name": "LayoutModel",
      "state": {}
     },
     "ea86697da01b48429dc6267f875e1714": {
      "model_module": "@jupyter-widgets/base",
      "model_module_version": "1.2.0",
      "model_name": "LayoutModel",
      "state": {
       "width": "auto"
      }
     },
     "eab5c7d3cee045edbd761cfce73c0031": {
      "model_module": "@jupyter-widgets/controls",
      "model_module_version": "1.5.0",
      "model_name": "TextModel",
      "state": {
       "disabled": true,
       "layout": "IPY_MODEL_2fa9b239fcd94745b8b694674c765df7",
       "placeholder": "output filename",
       "style": "IPY_MODEL_74e35c03e90e462cafd8ad99b75b3ec0"
      }
     },
     "ead37f707ac0497b886d852cf13ec240": {
      "model_module": "@jupyter-widgets/base",
      "model_module_version": "1.2.0",
      "model_name": "LayoutModel",
      "state": {
       "width": "auto"
      }
     },
     "ead605c1826c49ddba60e83f3bc0f02c": {
      "model_module": "@jupyter-widgets/base",
      "model_module_version": "1.2.0",
      "model_name": "LayoutModel",
      "state": {
       "grid_area": "dircontent",
       "width": "auto"
      }
     },
     "eae8338ec3ce48ed9891428b919a590c": {
      "model_module": "@jupyter-widgets/controls",
      "model_module_version": "1.5.0",
      "model_name": "FloatTextModel",
      "state": {
       "description": "Minimum depth (m)",
       "layout": "IPY_MODEL_463a76fc200f4beaa952bfe73cc36224",
       "step": null,
       "style": "IPY_MODEL_14b4877a2229490c893fbac4e7302fdc",
       "value": 500
      }
     },
     "eb1a2b3ff5454229845e8a580b9ab32e": {
      "model_module": "@jupyter-widgets/base",
      "model_module_version": "1.2.0",
      "model_name": "LayoutModel",
      "state": {}
     },
     "eb2175fe722e42c4985b2179c6e53c41": {
      "model_module": "@jupyter-widgets/controls",
      "model_module_version": "1.5.0",
      "model_name": "ButtonStyleModel",
      "state": {}
     },
     "eb3582b9c2734ca091718fe96a0fbd6e": {
      "model_module": "@jupyter-widgets/base",
      "model_module_version": "1.2.0",
      "model_name": "LayoutModel",
      "state": {
       "grid_area": "pathlist",
       "width": "auto"
      }
     },
     "eb3c525135e8477c88468290f9072e40": {
      "model_module": "@jupyter-widgets/base",
      "model_module_version": "1.2.0",
      "model_name": "LayoutModel",
      "state": {
       "width": "auto"
      }
     },
     "eb3fdace947b4db79ee32fbb5dadc376": {
      "model_module": "@jupyter-widgets/controls",
      "model_module_version": "1.5.0",
      "model_name": "DescriptionStyleModel",
      "state": {
       "description_width": ""
      }
     },
     "eb98dfad599a4c4c97a9fee55b2de4e6": {
      "model_module": "@jupyter-widgets/base",
      "model_module_version": "1.2.0",
      "model_name": "LayoutModel",
      "state": {}
     },
     "eb9fb719e6744d4a8a44f1e140439438": {
      "model_module": "@jupyter-widgets/controls",
      "model_module_version": "1.5.0",
      "model_name": "HBoxModel",
      "state": {
       "children": [
        "IPY_MODEL_f6a6242e03ed4f65aa2532cc16335bea",
        "IPY_MODEL_7af9d156c70c4a67b8aea8f7430cd489"
       ],
       "layout": "IPY_MODEL_f8c2af5c1a194a989242829fe4197e50"
      }
     },
     "ebadbc39623d46a1b0e9e15386ecce8c": {
      "model_module": "@jupyter-widgets/controls",
      "model_module_version": "1.5.0",
      "model_name": "CheckboxModel",
      "state": {
       "description": "Active",
       "disabled": false,
       "layout": "IPY_MODEL_fe0f4ff04fe64821874de05c4907f4c5",
       "style": "IPY_MODEL_9de0ae1bab5c4218860db76814e6d90b",
       "value": false
      }
     },
     "ebb930df7b9646fbac23748f22970ed3": {
      "model_module": "@jupyter-widgets/base",
      "model_module_version": "1.2.0",
      "model_name": "LayoutModel",
      "state": {}
     },
     "ebbd2a020b0947b5b77cd30c209a3b05": {
      "model_module": "@jupyter-widgets/controls",
      "model_module_version": "1.5.0",
      "model_name": "DescriptionStyleModel",
      "state": {
       "description_width": ""
      }
     },
     "ebbf6d755bd942b58723ebbdbf2ab6da": {
      "model_module": "@jupyter-widgets/base",
      "model_module_version": "1.2.0",
      "model_name": "LayoutModel",
      "state": {}
     },
     "ebdd14c5ab5e4adbb7a7f03ebec36698": {
      "model_module": "@jupyter-widgets/controls",
      "model_module_version": "1.5.0",
      "model_name": "DropdownModel",
      "state": {
       "_options_labels": [
        "C:\\Users\\dominiquef\\Documents\\GIT\\mira\\mirageoscience-apps\\docs\\content\\applications",
        "C:\\Users\\dominiquef\\Documents\\GIT\\mira\\mirageoscience-apps\\docs\\content",
        "C:\\Users\\dominiquef\\Documents\\GIT\\mira\\mirageoscience-apps\\docs",
        "C:\\Users\\dominiquef\\Documents\\GIT\\mira\\mirageoscience-apps",
        "C:\\Users\\dominiquef\\Documents\\GIT\\mira",
        "C:\\Users\\dominiquef\\Documents\\GIT",
        "C:\\Users\\dominiquef\\Documents",
        "C:\\Users\\dominiquef",
        "C:\\Users",
        "C:\\",
        "D:\\",
        "Z:\\"
       ],
       "index": 0,
       "layout": "IPY_MODEL_e11f5e0b91e84c9990f520922c78b606",
       "style": "IPY_MODEL_171127c470c14724b1391827b1f4842a"
      }
     },
     "ebdda7cd0b014bc6bba2ba0a4518f16a": {
      "model_module": "@jupyter-widgets/controls",
      "model_module_version": "1.5.0",
      "model_name": "DescriptionStyleModel",
      "state": {
       "description_width": ""
      }
     },
     "ebde326360294a058a16342c3decf488": {
      "model_module": "@jupyter-widgets/base",
      "model_module_version": "1.2.0",
      "model_name": "LayoutModel",
      "state": {}
     },
     "ebebe77b6985409c8e83d655e41c2965": {
      "model_module": "@jupyter-widgets/controls",
      "model_module_version": "1.5.0",
      "model_name": "TextModel",
      "state": {
       "description": "Layers below data",
       "layout": "IPY_MODEL_aa7ef9bcdc754d6aa441e22c4f4c8d86",
       "style": "IPY_MODEL_37e11f3fc48e4dbfb9ab5926a8b28847",
       "value": "5, 5, 5, 5"
      }
     },
     "ec2873b9ae5c41248cb604202d0c0a33": {
      "model_module": "@jupyter-widgets/controls",
      "model_module_version": "1.5.0",
      "model_name": "SliderStyleModel",
      "state": {
       "description_width": "initial"
      }
     },
     "ec4eae1f0ff6470cb2542884e1a3c356": {
      "model_module": "@jupyter-widgets/base",
      "model_module_version": "1.2.0",
      "model_name": "LayoutModel",
      "state": {
       "grid_area": "pathlist",
       "width": "auto"
      }
     },
     "ec51ccf5901c42ea9dd383f091e8d2a1": {
      "model_module": "@jupyter-widgets/controls",
      "model_module_version": "1.5.0",
      "model_name": "ButtonModel",
      "state": {
       "button_style": "danger",
       "description": "Compute",
       "icon": "check",
       "layout": "IPY_MODEL_fd7279f9b2634a8c8346072bd27090cb",
       "style": "IPY_MODEL_cf3ff934131d4afaa6527ddaa0843ce7",
       "tooltip": "Run computation"
      }
     },
     "ec7135833a7a45dcb03f9e5470fc10c2": {
      "model_module": "@jupyter-widgets/base",
      "model_module_version": "1.2.0",
      "model_name": "LayoutModel",
      "state": {}
     },
     "eca9103955ae4aa58c6464c64c68e5f6": {
      "model_module": "@jupyter-widgets/controls",
      "model_module_version": "1.5.0",
      "model_name": "DescriptionStyleModel",
      "state": {
       "description_width": ""
      }
     },
     "ecacd7a0012f4df6b50425e055e3a6db": {
      "model_module": "@jupyter-widgets/controls",
      "model_module_version": "1.5.0",
      "model_name": "HBoxModel",
      "state": {
       "children": [
        "IPY_MODEL_0af83f04cc0f4a9fba2516829718e673",
        "IPY_MODEL_eecdaf5f6ecf40499e83fe13b6ea1420",
        "IPY_MODEL_8ff7a205e3984fc998386247f874ac19"
       ],
       "layout": "IPY_MODEL_e3ba5e607b8b4121baae3f882280c306"
      }
     },
     "ecad282356874699ba605f917ee9fae3": {
      "model_module": "@jupyter-widgets/base",
      "model_module_version": "1.2.0",
      "model_name": "LayoutModel",
      "state": {
       "display": "none",
       "grid_area": "filename",
       "width": "auto"
      }
     },
     "ecd9e9b5e19b4e4da11fd0acdcad5749": {
      "model_module": "@jupyter-widgets/controls",
      "model_module_version": "1.5.0",
      "model_name": "ButtonStyleModel",
      "state": {}
     },
     "ece5005b13954ae3ac271381a00ff893": {
      "model_module": "@jupyter-widgets/controls",
      "model_module_version": "1.5.0",
      "model_name": "VBoxModel",
      "state": {
       "children": [
        "IPY_MODEL_85f08d9abf444e65a67d6dc352f50f52",
        "IPY_MODEL_7f53cbbf052c4a1db0f4eb10dce0e694",
        "IPY_MODEL_51fbba03e02f4b4aa4db5006b4110cfe"
       ],
       "layout": "IPY_MODEL_01dfc78b3ebd4d058ed78f2aa9702efb"
      }
     },
     "ed05ab5fc3d4460582f638fc1ab48eb5": {
      "model_module": "@jupyter-widgets/controls",
      "model_module_version": "1.5.0",
      "model_name": "ButtonStyleModel",
      "state": {}
     },
     "ed12d453026244798bdd099ef9b4dc5f": {
      "model_module": "@jupyter-widgets/base",
      "model_module_version": "1.2.0",
      "model_name": "LayoutModel",
      "state": {
       "width": "auto"
      }
     },
     "ed1886a4ca1c40ec91297827221184b8": {
      "model_module": "@jupyter-widgets/controls",
      "model_module_version": "1.5.0",
      "model_name": "DescriptionStyleModel",
      "state": {
       "description_width": "initial"
      }
     },
     "ed4ad4171b3a40b38f53294e3edd6dd6": {
      "model_module": "@jupyter-widgets/controls",
      "model_module_version": "1.5.0",
      "model_name": "DescriptionStyleModel",
      "state": {
       "description_width": ""
      }
     },
     "ed6563d0149e4722bd83e80476094759": {
      "model_module": "@jupyter-widgets/controls",
      "model_module_version": "1.5.0",
      "model_name": "DescriptionStyleModel",
      "state": {
       "description_width": "initial"
      }
     },
     "ed6f1cd3f8274b96948a765bdf21a359": {
      "model_module": "@jupyter-widgets/base",
      "model_module_version": "1.2.0",
      "model_name": "LayoutModel",
      "state": {}
     },
     "ed728392f6ef459982ffb2855b87bb5e": {
      "model_module": "@jupyter-widgets/base",
      "model_module_version": "1.2.0",
      "model_name": "LayoutModel",
      "state": {}
     },
     "edb65b5dffd24b81bb69b47e96a297c7": {
      "model_module": "@jupyter-widgets/controls",
      "model_module_version": "1.5.0",
      "model_name": "DescriptionStyleModel",
      "state": {
       "description_width": ""
      }
     },
     "ee0149286c4f4f41a57eb635da80f29c": {
      "model_module": "@jupyter-widgets/controls",
      "model_module_version": "1.5.0",
      "model_name": "ButtonStyleModel",
      "state": {}
     },
     "ee02a52f7ec146e6a40c0a708d410d3a": {
      "model_module": "@jupyter-widgets/base",
      "model_module_version": "1.2.0",
      "model_name": "LayoutModel",
      "state": {}
     },
     "ee23f4080e2b41348b438983be14f627": {
      "model_module": "@jupyter-widgets/base",
      "model_module_version": "1.2.0",
      "model_name": "LayoutModel",
      "state": {}
     },
     "ee77b0a34ea34bcb9d42ab7bcdd95cc8": {
      "model_module": "@jupyter-widgets/base",
      "model_module_version": "1.2.0",
      "model_name": "LayoutModel",
      "state": {
       "grid_area": "pathlist",
       "width": "auto"
      }
     },
     "ee88cfc727044337b0e73b33b1c1fdfc": {
      "model_module": "@jupyter-widgets/base",
      "model_module_version": "1.2.0",
      "model_name": "LayoutModel",
      "state": {}
     },
     "ee96db45ccae44d392f8d23c5371a4a6": {
      "model_module": "@jupyter-widgets/base",
      "model_module_version": "1.2.0",
      "model_name": "LayoutModel",
      "state": {}
     },
     "eeae7b8cd3e84a14b7adce2ebac8b349": {
      "model_module": "@jupyter-widgets/controls",
      "model_module_version": "1.5.0",
      "model_name": "ToggleButtonModel",
      "state": {
       "layout": "IPY_MODEL_4fbee1331b4843e19dded79aa0475a02",
       "style": "IPY_MODEL_f1eed451ca464eb69f4bd2ce772842be",
       "value": true
      }
     },
     "eec295642dac42edbbb3d78f4ec4a6ac": {
      "model_module": "@jupyter-widgets/base",
      "model_module_version": "1.2.0",
      "model_name": "LayoutModel",
      "state": {}
     },
     "eecc22bf0ab6458583115d0362037ed9": {
      "model_module": "@jupyter-widgets/controls",
      "model_module_version": "1.5.0",
      "model_name": "SelectModel",
      "state": {
       "_options_labels": [
        "..",
        "dask-worker-space",
        "images",
        "GEOSCIENCEtemp",
        "Untitled.ipynb",
        "base_application.ipynb",
        "calculator.ipynb",
        "clustering.ipynb",
        "contouring.ipynb",
        "coordinate_transformation.ipynb",
        "create_isosurface.ipynb",
        "create_surface.ipynb",
        "data_interpolation.ipynb",
        "edge_detection.ipynb",
        "export.ipynb",
        "geophysical_inversion.ipynb",
        "object_data_selection.ipynb",
        "peak_finder.ipynb",
        "scatter.ipynb",
        "view_selection.ipynb"
       ],
       "index": null,
       "layout": "IPY_MODEL_755b5386698e47ddbd16f7641bf1a106",
       "rows": 8,
       "style": "IPY_MODEL_33377f5b31d04038b2545935db9fa58f"
      }
     },
     "eecdaf5f6ecf40499e83fe13b6ea1420": {
      "model_module": "@jupyter-widgets/controls",
      "model_module_version": "1.5.0",
      "model_name": "ButtonModel",
      "state": {
       "description": "Cancel",
       "layout": "IPY_MODEL_e8b213b78ff94e92a432be9d3e2cf8ac",
       "style": "IPY_MODEL_b08383aaf6944098bec8f6d05defbbba"
      }
     },
     "eee50d70021a48bfbe8d71b09515ab69": {
      "model_module": "@jupyter-widgets/controls",
      "model_module_version": "1.5.0",
      "model_name": "TextModel",
      "state": {
       "continuous_update": false,
       "description": "Group:",
       "layout": "IPY_MODEL_af19ea0acc414fe2bcdf1046936fd406",
       "style": "IPY_MODEL_694dd590f1c24899a6e8102f74a56291"
      }
     },
     "ef31619529544a488c955d8009bb819c": {
      "model_module": "@jupyter-widgets/controls",
      "model_module_version": "1.5.0",
      "model_name": "IntTextModel",
      "state": {
       "description": "Starting Channel",
       "layout": "IPY_MODEL_ed6f1cd3f8274b96948a765bdf21a359",
       "step": 1,
       "style": "IPY_MODEL_d401239ae6164cc28c327c36ada5ba8c"
      }
     },
     "ef4b135ec0e3488495e66e1c476e46b2": {
      "model_module": "@jupyter-widgets/base",
      "model_module_version": "1.2.0",
      "model_name": "LayoutModel",
      "state": {
       "width": "auto"
      }
     },
     "ef598f985fd44bdf8d213d2d26b18954": {
      "model_module": "@jupyter-widgets/base",
      "model_module_version": "1.2.0",
      "model_name": "LayoutModel",
      "state": {}
     },
     "ef78acdc0cd045b6b635b2cbce7d41cf": {
      "model_module": "@jupyter-widgets/controls",
      "model_module_version": "1.5.0",
      "model_name": "LabelModel",
      "state": {
       "layout": "IPY_MODEL_6d511b50a3e74802b98099361318f01f",
       "style": "IPY_MODEL_9143946caf194ac48a0c2fa32c7ddf37",
       "value": "Monitoring folder"
      }
     },
     "ef7a63a231de416aa7224300d71a6bab": {
      "model_module": "@jupyter-widgets/base",
      "model_module_version": "1.2.0",
      "model_name": "LayoutModel",
      "state": {}
     },
     "ef7d9ccdf9d047a9b195ad296778a1e4": {
      "model_module": "@jupyter-widgets/base",
      "model_module_version": "1.2.0",
      "model_name": "LayoutModel",
      "state": {}
     },
     "ef8464454dcd4ff5971f9c1e6a85092c": {
      "model_module": "@jupyter-widgets/controls",
      "model_module_version": "1.5.0",
      "model_name": "DescriptionStyleModel",
      "state": {
       "description_width": "initial"
      }
     },
     "ef933de175494267bb0d1fd6f6527fa1": {
      "model_module": "@jupyter-widgets/controls",
      "model_module_version": "1.5.0",
      "model_name": "ButtonModel",
      "state": {
       "description": "Select",
       "layout": "IPY_MODEL_0c6a0aefd96143958697317af8f9844f",
       "style": "IPY_MODEL_c6954f24d5524e05962ceaa51d0d2ec8"
      }
     },
     "efb28c4ff3f642d8b6601fd202c222c9": {
      "model_module": "@jupyter-widgets/controls",
      "model_module_version": "1.5.0",
      "model_name": "VBoxModel",
      "state": {
       "children": [
        "IPY_MODEL_c2f07c2e6ed44bf4b85aef2fbb4d63e1",
        "IPY_MODEL_6d95a374b5b6472d822c6f42eaf62d1a"
       ],
       "layout": "IPY_MODEL_b8bfa875a928408fbea78affe7e2744e"
      }
     },
     "efbbd25fdf974c8cb3eac12ec59242c4": {
      "model_module": "@jupyter-widgets/controls",
      "model_module_version": "1.5.0",
      "model_name": "HBoxModel",
      "state": {
       "children": [
        "IPY_MODEL_1c922372a2c24248896c6e0c33ffaa53",
        "IPY_MODEL_4bc8ce142709451d83f5fc4c403fc29e",
        "IPY_MODEL_f972d30b85fe4f40bc327ca0806505ef"
       ],
       "layout": "IPY_MODEL_d7c38dc0808d44719ceef4ba892af97e"
      }
     },
     "efd63a657c34487cad1fa3b0344a0b5d": {
      "model_module": "@jupyter-widgets/controls",
      "model_module_version": "1.5.0",
      "model_name": "DescriptionStyleModel",
      "state": {
       "description_width": ""
      }
     },
     "effa0e3afeb9424297dc4c6ce7c57279": {
      "model_module": "@jupyter-widgets/controls",
      "model_module_version": "1.5.0",
      "model_name": "DescriptionStyleModel",
      "state": {
       "description_width": ""
      }
     },
     "effedb049b8a44378293eb999c01c672": {
      "model_module": "@jupyter-widgets/controls",
      "model_module_version": "1.5.0",
      "model_name": "CheckboxModel",
      "state": {
       "description": "Active",
       "disabled": false,
       "layout": "IPY_MODEL_d99f6ee6460f41e394d6f40ba1d36eaa",
       "style": "IPY_MODEL_7c53d701750841c0b0cfab076007b093",
       "value": false
      }
     },
     "f010119d74384cf383d65bd82d5f094a": {
      "model_module": "@jupyter-widgets/base",
      "model_module_version": "1.2.0",
      "model_name": "LayoutModel",
      "state": {
       "visibility": "hidden"
      }
     },
     "f010d1ab73f3418f8f76fb7620ee5661": {
      "model_module": "@jupyter-widgets/base",
      "model_module_version": "1.2.0",
      "model_name": "LayoutModel",
      "state": {}
     },
     "f063b3c885b741c0a5b76832fe6bdc07": {
      "model_module": "@jupyter-widgets/controls",
      "model_module_version": "1.5.0",
      "model_name": "VBoxModel",
      "state": {
       "children": [
        "IPY_MODEL_cef7242bb44e44489d02d8c2a0e49115",
        "IPY_MODEL_d9dd1478a19f4645b0226c7a9d4d7d8b"
       ],
       "layout": "IPY_MODEL_6280dddbc33247c08a44d2bb7f30af63"
      }
     },
     "f07676436ec14f088beac3b85475cde7": {
      "model_module": "@jupyter-widgets/controls",
      "model_module_version": "1.5.0",
      "model_name": "DescriptionStyleModel",
      "state": {
       "description_width": ""
      }
     },
     "f08d5758a6f34416af9bdb92df650f91": {
      "model_module": "@jupyter-widgets/controls",
      "model_module_version": "1.5.0",
      "model_name": "CheckboxModel",
      "state": {
       "description": "Active",
       "disabled": false,
       "layout": "IPY_MODEL_168508d492b14a7b98cf03d7c37a504d",
       "style": "IPY_MODEL_6b8c4f6539e8490b9777e165bbe3fc7f",
       "value": false
      }
     },
     "f092e38da58c454d8734e1711c350468": {
      "model_module": "@jupyter-widgets/base",
      "model_module_version": "1.2.0",
      "model_name": "LayoutModel",
      "state": {
       "display": "none",
       "grid_gap": "0px 0px",
       "grid_template_areas": "\n                    'pathlist pathlist'\n                    'dircontent dircontent'\n                    ",
       "grid_template_columns": "60% 40%",
       "grid_template_rows": "auto auto",
       "width": "500px"
      }
     },
     "f09407985ea64b9596cb4a8c1501b27e": {
      "model_module": "@jupyter-widgets/controls",
      "model_module_version": "1.5.0",
      "model_name": "VBoxModel",
      "state": {
       "children": [
        "IPY_MODEL_fdfe0909b81d46c29fcc22ded992f877",
        "IPY_MODEL_0691da1fb9ea41628882646f324771bc",
        "IPY_MODEL_bf10f04ff2484548bc6eda42e8e5d5e9",
        "IPY_MODEL_bd1302e8a1d1499fb36e324182c99e4a",
        "IPY_MODEL_aefab5ae9dc347d0a374ab147ae8ca43"
       ],
       "layout": "IPY_MODEL_8f69e9850f87440797db8673b9b02715"
      }
     },
     "f0c111cfbfcc4176a6eb1a3f8d9e5f8b": {
      "model_module": "@jupyter-widgets/controls",
      "model_module_version": "1.5.0",
      "model_name": "DropdownModel",
      "state": {
       "_options_labels": [
        "",
        "--- Channels ---",
        "elevation",
        "Z"
       ],
       "description": "Data: ",
       "index": 2,
       "layout": "IPY_MODEL_5fe702fa04074a16be83e77d61ec02a8",
       "style": "IPY_MODEL_2a613da6c6944c6ea1227cd2090c0549"
      }
     },
     "f0d0bc71db0f452e96ac670256ca4024": {
      "model_module": "@jupyter-widgets/base",
      "model_module_version": "1.2.0",
      "model_name": "LayoutModel",
      "state": {}
     },
     "f1020c248a374157a76706d9033cbff3": {
      "model_module": "@jupyter-widgets/base",
      "model_module_version": "1.2.0",
      "model_name": "LayoutModel",
      "state": {
       "display": "none",
       "width": "auto"
      }
     },
     "f10b2ea4a1994f3fa672e08804775271": {
      "model_module": "@jupyter-widgets/controls",
      "model_module_version": "1.5.0",
      "model_name": "LabelModel",
      "state": {
       "layout": "IPY_MODEL_052fdfabfbe74f15b8316382014a75dc",
       "style": "IPY_MODEL_70684f5cd3364bc9bd80b1a5626ed97c",
       "value": "Max depth: 477.27 m"
      }
     },
     "f118ce08b3ae4e91846e37f9e4a7fc26": {
      "model_module": "@jupyter-widgets/controls",
      "model_module_version": "1.5.0",
      "model_name": "DescriptionStyleModel",
      "state": {
       "description_width": ""
      }
     },
     "f11a05abcee645dc821929b8be83de59": {
      "model_module": "@jupyter-widgets/controls",
      "model_module_version": "1.5.0",
      "model_name": "VBoxModel",
      "state": {
       "children": [
        "IPY_MODEL_b09b4501237a4462ae0864a3fc088a89",
        "IPY_MODEL_4bd2e08ebd0b4be388afcda20e203920"
       ],
       "layout": "IPY_MODEL_8158c15f5f694eabb41dd661e08e8ed2"
      }
     },
     "f135050829e24015abe523c2390f600a": {
      "model_module": "@jupyter-widgets/controls",
      "model_module_version": "1.5.0",
      "model_name": "VBoxModel",
      "state": {
       "children": [
        "IPY_MODEL_cf3bcc8c0eb145a4abf92e01b1dde4d1",
        "IPY_MODEL_b07e822b34bf42c3a4cebde1f9d1a3f6"
       ],
       "layout": "IPY_MODEL_a0c6b879982548c0ad6cf54cff790d1a"
      }
     },
     "f141bddec2f04f01b83b0e1f0835c706": {
      "model_module": "@jupyter-widgets/controls",
      "model_module_version": "1.5.0",
      "model_name": "DescriptionStyleModel",
      "state": {
       "description_width": "initial"
      }
     },
     "f147928cfba24d2cadd73b2201567a82": {
      "model_module": "@jupyter-widgets/controls",
      "model_module_version": "1.5.0",
      "model_name": "DropdownModel",
      "state": {
       "_options_labels": [
        "C:\\Users\\dominiquef\\Documents\\GIT\\mira\\mirageoscience-apps\\docs\\content\\applications",
        "C:\\Users\\dominiquef\\Documents\\GIT\\mira\\mirageoscience-apps\\docs\\content",
        "C:\\Users\\dominiquef\\Documents\\GIT\\mira\\mirageoscience-apps\\docs",
        "C:\\Users\\dominiquef\\Documents\\GIT\\mira\\mirageoscience-apps",
        "C:\\Users\\dominiquef\\Documents\\GIT\\mira",
        "C:\\Users\\dominiquef\\Documents\\GIT",
        "C:\\Users\\dominiquef\\Documents",
        "C:\\Users\\dominiquef",
        "C:\\Users",
        "C:\\",
        "D:\\",
        "Z:\\"
       ],
       "index": 0,
       "layout": "IPY_MODEL_8c8801c1edb642389872408a0f397cd5",
       "style": "IPY_MODEL_fade1954425f445e88c9168b2d4196d9"
      }
     },
     "f149c01fa57a4b64a04bb5cb936037b0": {
      "model_module": "@jupyter-widgets/base",
      "model_module_version": "1.2.0",
      "model_name": "LayoutModel",
      "state": {
       "grid_area": "pathlist",
       "width": "auto"
      }
     },
     "f14d2b1c60c649d8945eabcd498a97d8": {
      "model_module": "@jupyter-widgets/controls",
      "model_module_version": "1.5.0",
      "model_name": "VBoxModel",
      "state": {
       "children": [
        "IPY_MODEL_6ebfc15e701e46709286fe2a0c404d02",
        "IPY_MODEL_d77629da07594be3a020ebf6a2ae833d"
       ],
       "layout": "IPY_MODEL_ab8fad5b61ad44ba84c4a83f7780e0d2"
      }
     },
     "f16d45f9cc0b4213bebe83879dbef7fb": {
      "model_module": "@jupyter-widgets/controls",
      "model_module_version": "1.5.0",
      "model_name": "DescriptionStyleModel",
      "state": {
       "description_width": ""
      }
     },
     "f18fa5d7917349038c52a5f67cae399d": {
      "model_module": "@jupyter-widgets/controls",
      "model_module_version": "1.5.0",
      "model_name": "HTMLModel",
      "state": {
       "layout": "IPY_MODEL_b09c5d76359b435f9146ff16c2963b4c",
       "placeholder": "",
       "style": "IPY_MODEL_0588940099f440e595c9b97cc09a4394",
       "value": "<span style=\"margin-left:10px; color:black;\">No file selected</span>"
      }
     },
     "f1b4654c34944fa2a0e342fe88a06c7e": {
      "model_module": "@jupyter-widgets/controls",
      "model_module_version": "1.5.0",
      "model_name": "ButtonModel",
      "state": {
       "description": "Cancel",
       "layout": "IPY_MODEL_9756e4f3071d47a4b079795c1faf371f",
       "style": "IPY_MODEL_41fb0edbdec240868601478ebd611f09"
      }
     },
     "f1ce58ae7f1b476e80d093001efff964": {
      "model_module": "@jupyter-widgets/base",
      "model_module_version": "1.2.0",
      "model_name": "LayoutModel",
      "state": {}
     },
     "f1d10d1b390c4d5cb3d9d22e93d5d1db": {
      "model_module": "@jupyter-widgets/controls",
      "model_module_version": "1.5.0",
      "model_name": "ButtonStyleModel",
      "state": {}
     },
     "f1e69a505db1427793797ee15e92a57f": {
      "model_module": "@jupyter-widgets/base",
      "model_module_version": "1.2.0",
      "model_name": "LayoutModel",
      "state": {}
     },
     "f1eed451ca464eb69f4bd2ce772842be": {
      "model_module": "@jupyter-widgets/controls",
      "model_module_version": "1.5.0",
      "model_name": "DescriptionStyleModel",
      "state": {
       "description_width": ""
      }
     },
     "f1f042c87fa3430d83f629d7a5d0718b": {
      "model_module": "@jupyter-widgets/controls",
      "model_module_version": "1.5.0",
      "model_name": "DescriptionStyleModel",
      "state": {
       "description_width": ""
      }
     },
     "f2564c43b3e94de7b36ea5e1390fd0b0": {
      "model_module": "@jupyter-widgets/controls",
      "model_module_version": "1.5.0",
      "model_name": "DescriptionStyleModel",
      "state": {
       "description_width": ""
      }
     },
     "f26a3c02aa104687babe49733fb3fc96": {
      "model_module": "@jupyter-widgets/controls",
      "model_module_version": "1.5.0",
      "model_name": "ButtonStyleModel",
      "state": {}
     },
     "f281209d51dc46b8b847caa9465b711b": {
      "model_module": "@jupyter-widgets/controls",
      "model_module_version": "1.5.0",
      "model_name": "DescriptionStyleModel",
      "state": {
       "description_width": ""
      }
     },
     "f2ba6e3cdb86474b8d11e97f02bd1fe8": {
      "model_module": "@jupyter-widgets/base",
      "model_module_version": "1.2.0",
      "model_name": "LayoutModel",
      "state": {}
     },
     "f2c4ce131b4844d0b5174aa1f214986b": {
      "model_module": "@jupyter-widgets/controls",
      "model_module_version": "1.5.0",
      "model_name": "VBoxModel",
      "state": {
       "children": [
        "IPY_MODEL_83f8d866d2924b3eb4d21105be68b343",
        "IPY_MODEL_13a67cb60f3b4da9a7ec2c6ec7c8c1cf"
       ],
       "layout": "IPY_MODEL_ec7135833a7a45dcb03f9e5470fc10c2"
      }
     },
     "f2d66fed7aa54d6292a2a3c6f6c6ae87": {
      "model_module": "@jupyter-widgets/controls",
      "model_module_version": "1.5.0",
      "model_name": "ButtonModel",
      "state": {
       "description": "Cancel",
       "layout": "IPY_MODEL_d4bfd5e83328492f8cafcabd77c09159",
       "style": "IPY_MODEL_81ff4f0e49614b76aa0ebf2eeaa7a6b8"
      }
     },
     "f2dcd107eaf340e4a26c3f43ed8f7423": {
      "model_module": "@jupyter-widgets/base",
      "model_module_version": "1.2.0",
      "model_name": "LayoutModel",
      "state": {}
     },
     "f30049531df04a8a8866845341848433": {
      "model_module": "@jupyter-widgets/controls",
      "model_module_version": "1.5.0",
      "model_name": "DescriptionStyleModel",
      "state": {
       "description_width": "initial"
      }
     },
     "f30cb6d1b7ad4a22a0fe6ee2086a8221": {
      "model_module": "@jupyter-widgets/controls",
      "model_module_version": "1.5.0",
      "model_name": "DropdownModel",
      "state": {
       "_options_labels": [
        "",
        "--- Channels ---",
        "Airborne_Gxx",
        "Airborne_Gxy",
        "Airborne_Gxz",
        "Airborne_Gyy",
        "Airborne_Gyz",
        "Airborne_Gz",
        "Airborne_Gzz",
        "Airborne_TMI",
        "Ground_Gz",
        "Z"
       ],
       "description": "Channel <=> Data:",
       "index": 11,
       "layout": "IPY_MODEL_7f3903a2e13a4a1e91d2ee087bdcb350",
       "style": "IPY_MODEL_5aa70e371b9c4ef79723eec9f6f102a0"
      }
     },
     "f38383c08f1f45c68a182c3cce49f6e5": {
      "model_module": "@jupyter-widgets/base",
      "model_module_version": "1.2.0",
      "model_name": "LayoutModel",
      "state": {
       "width": "auto"
      }
     },
     "f3a5ff703624495695052f61b02c372b": {
      "model_module": "@jupyter-widgets/controls",
      "model_module_version": "1.5.0",
      "model_name": "DropdownModel",
      "state": {
       "_options_labels": [
        "",
        "fault_splay1",
        "fault_Cliff_Lake",
        "fault_Other_FlinFlon",
        "fault_Club_Lake_splay",
        "fault_Catherine_splay2",
        "fault_Birch_View",
        "fault_Dion_Lake",
        "fault_FlinFlon_splay",
        "fault_West_Mandy_Road",
        "fault_Channing",
        "fault_Ross_Lake",
        "fault_Louis_Hidden",
        "fault_Lake_View_thrust",
        "contact_Schist_Lake",
        "fault_Burley_Lake",
        "fault_Dion_Lake_splay",
        "fault_Green_Lake",
        "fault_FlinFlon",
        "fault_Catherine_splay1",
        "fault_East_Mandy_Road",
        "fault_Other_FlinFlon_South",
        "fault_Catherine_splay4",
        "contact_Stitt_Island",
        "fault_Club_Lake",
        "fault_Tailing_Pond",
        "35_Hidden_Reservoir_Hr5",
        "29_Hidden_Reservoir_Hr1a",
        "60_BlueLagoon_Fb2",
        "20_FlinFlon_Undivided_Int_Dykes_D2f",
        "04_Boundary_Intrusive_S4h",
        "53_Millrock_Rhyolite_Fm4b",
        "19_FlinFlon_Undivided_Int_Dykes_D2b",
        "18_FlinFlon_Undivided_Int_Dykes_777_D2b",
        "06_Phantom_Lake_Intrusive_S3a",
        "21_FlinFlon_Undivided_Int_Dykes_D3a",
        "43_Millrock_CHLSH_South",
        "56_Millrock_Basalt_Fm1ba",
        "17_FlinFlon_Undivided_Int_Dykes_D2",
        "32_Hidden_Reservoir_Hr1b_SW",
        "11_Missi_M3_NE",
        "13_Missi_M1",
        "07_Annabel_Granitoid_S1",
        "45_Millrock_Gabbro_South",
        "01_Late_Intrusive_S5b",
        "31_Hidden_Reservoir_Hr1c_SW",
        "52_Millrock_Rhyolite_Fm4_West_check",
        "55_Millrock_Basalt_Fm1bf",
        "34_Hidden_Reservoir_Hr2b",
        "03_Boundary_Intrusive_S4b",
        "42_Millrock_CHLSH_North",
        "26_Louis_L3",
        "23_FlinFlon_Undivided_Int_Felsic_D4g",
        "30_Hidden_Reservoir_Hr1b",
        "59_BlueLagoon_Fb3",
        "49_Millrock_MVR_Fm5d",
        "44_Millrock_Gabbro_North",
        "27_Hidden_Carlisle_Hc4",
        "22_FlinFlon_Undivided_Int_Felsic_D4e",
        "02_Boundary_Intrusive_S4a",
        "61_BlueLagoon_Fb1_NW",
        "05_Boundary_Intrusive_S4g",
        "39_Ore_Callinan",
        "38_Ore_Dan_Owens",
        "40_Ore_FlinFlon",
        "Inversion_VTEM_Model",
        "Gravity_Magnetics_drape60m",
        "CDI_VTEM_model",
        "Data_FEM_pseudo3D",
        "O2O_Interp_25m",
        "geochem",
        "Inversion_DIGHEM_Model",
        "Topography",
        "Data_TEM_pseudo3D",
        "Data_ZTEM"
       ],
       "description": "Object:",
       "index": 0,
       "layout": "IPY_MODEL_b1254b42d1bb41d78483deb79b3e354a",
       "style": "IPY_MODEL_3a0b53c5a65741399aa978aa732202ab"
      }
     },
     "f3a7a4f33764452d8dceac8673d928f3": {
      "model_module": "@jupyter-widgets/base",
      "model_module_version": "1.2.0",
      "model_name": "LayoutModel",
      "state": {
       "grid_area": "filename",
       "width": "auto"
      }
     },
     "f3f1726511bd4497b901934c9244dbd5": {
      "model_module": "@jupyter-widgets/controls",
      "model_module_version": "1.5.0",
      "model_name": "SelectMultipleModel",
      "state": {
       "_options_labels": [
        "",
        "--- Channels ---",
        "Airborne_Gxx",
        "Airborne_Gxy",
        "Airborne_Gxz",
        "Airborne_Gyy",
        "Airborne_Gyz",
        "Airborne_Gz",
        "Airborne_Gzz",
        "Airborne_TMI",
        "Ground_Gz",
        "Z"
       ],
       "description": "Data: ",
       "index": [
        9
       ],
       "layout": "IPY_MODEL_ebbf6d755bd942b58723ebbdbf2ab6da",
       "rows": 5,
       "style": "IPY_MODEL_69e67a394482410e97dd0e555570ad91"
      }
     },
     "f412ab7d2744442884c844208e2d40f7": {
      "model_module": "@jupyter-widgets/controls",
      "model_module_version": "1.5.0",
      "model_name": "SelectModel",
      "state": {
       "_options_labels": [
        "..",
        "images",
        "base_application.ipynb",
        "calculator.ipynb",
        "clustering.ipynb",
        "contouring.ipynb",
        "coordinate_transformation.ipynb",
        "create_isosurface.ipynb",
        "create_surface.ipynb",
        "data_interpolation.ipynb",
        "edge_detection.ipynb",
        "export.ipynb",
        "geophysical_inversion.ipynb",
        "object_data_selection.ipynb",
        "octree_mesh_creation.png",
        "peak_finder.ipynb",
        "scatter.ipynb",
        "view_selection.ipynb"
       ],
       "index": null,
       "layout": "IPY_MODEL_4f8610d6014e47b89acb1a71939ed725",
       "rows": 8,
       "style": "IPY_MODEL_26481802d05b4326996e791b3e75d894"
      }
     },
     "f42438a351334633b1d826a9ef993efd": {
      "model_module": "@jupyter-widgets/controls",
      "model_module_version": "1.5.0",
      "model_name": "ButtonStyleModel",
      "state": {}
     },
     "f4275fe7cafd4de48feac1d37fefd4b0": {
      "model_module": "@jupyter-widgets/controls",
      "model_module_version": "1.5.0",
      "model_name": "DescriptionStyleModel",
      "state": {
       "description_width": ""
      }
     },
     "f431ccb8c0524effab9218c65bba66d5": {
      "model_module": "@jupyter-widgets/base",
      "model_module_version": "1.2.0",
      "model_name": "LayoutModel",
      "state": {
       "display": "none"
      }
     },
     "f45574d8becf451ab70f7cdec708b3dd": {
      "model_module": "@jupyter-widgets/controls",
      "model_module_version": "1.5.0",
      "model_name": "HBoxModel",
      "state": {
       "children": [
        "IPY_MODEL_5b496fc2b96e49839477874832b18ba7",
        "IPY_MODEL_febdd51b82ea4b70b9f16f08c1e67355"
       ],
       "layout": "IPY_MODEL_6f6abafc03bd47d7898fdabac69ea623"
      }
     },
     "f4a3603ceff043aa8764ec51aeae92c6": {
      "model_module": "@jupyter-widgets/base",
      "model_module_version": "1.2.0",
      "model_name": "LayoutModel",
      "state": {}
     },
     "f4c786fe2156419987f893ba19563c9f": {
      "model_module": "@jupyter-widgets/controls",
      "model_module_version": "1.5.0",
      "model_name": "FloatTextModel",
      "state": {
       "description": "CG Tolerance",
       "layout": "IPY_MODEL_59b88fed85ff404ba29e886b58586290",
       "step": null,
       "style": "IPY_MODEL_b36ed5d393a54ed4961d5bd4a3c9c0d5",
       "value": 0.001
      }
     },
     "f4db4632a9444ed1b823fcc0378b833f": {
      "model_module": "@jupyter-widgets/base",
      "model_module_version": "1.2.0",
      "model_name": "LayoutModel",
      "state": {}
     },
     "f4f81aef8ec84764b78d12860e65d9c0": {
      "model_module": "@jupyter-widgets/controls",
      "model_module_version": "1.5.0",
      "model_name": "DropdownModel",
      "state": {
       "_options_labels": [
        "",
        "--- Channels ---",
        "Airborne_Gxx",
        "Airborne_Gxy",
        "Airborne_Gxz",
        "Airborne_Gyy",
        "Airborne_Gyz",
        "Airborne_Gz",
        "Airborne_Gzz",
        "Airborne_TMI",
        "Ground_Gz",
        "Z"
       ],
       "description": "Channel <=> Data:",
       "index": 11,
       "layout": "IPY_MODEL_78694fd00de0406ea3865806563e1757",
       "style": "IPY_MODEL_15c303452eaf47c9bcb9813442c77554"
      }
     },
     "f5168bd0211c46ebbe5c37458daae113": {
      "model_module": "@jupyter-widgets/controls",
      "model_module_version": "1.5.0",
      "model_name": "HBoxModel",
      "state": {
       "children": [
        "IPY_MODEL_1847cb6ee6f34a048b43bea1d0f9e259",
        "IPY_MODEL_b6f3b2e0834d431abd39bf65af505dde",
        "IPY_MODEL_1a2d1e05191147d0919e506d98fd3e89"
       ],
       "layout": "IPY_MODEL_5fd9972d67d841d98a783a293868e967"
      }
     },
     "f525df926d224bceb60494de234fd0d9": {
      "model_module": "@jupyter-widgets/base",
      "model_module_version": "1.2.0",
      "model_name": "LayoutModel",
      "state": {}
     },
     "f544e180e04c4bbdae4797aa61c9009a": {
      "model_module": "@jupyter-widgets/controls",
      "model_module_version": "1.5.0",
      "model_name": "VBoxModel",
      "state": {
       "children": [
        "IPY_MODEL_15b79ab109d146399c4ccc05063e46fa",
        "IPY_MODEL_f9e18b838680415f965e41199443aceb"
       ],
       "layout": "IPY_MODEL_832e03224765405085ebcb6567d69076"
      }
     },
     "f57cbdc204d8462fbe87b64574646ed5": {
      "model_module": "@jupyter-widgets/base",
      "model_module_version": "1.2.0",
      "model_name": "LayoutModel",
      "state": {}
     },
     "f581b74ad9944ef6b9326fe8ea825328": {
      "model_module": "@jupyter-widgets/base",
      "model_module_version": "1.2.0",
      "model_name": "LayoutModel",
      "state": {
       "display": "none"
      }
     },
     "f5e901cc239e476a993f8f7f0fb8d93b": {
      "model_module": "@jupyter-widgets/controls",
      "model_module_version": "1.5.0",
      "model_name": "VBoxModel",
      "state": {
       "children": [
        "IPY_MODEL_1313fb9cfb06461da6e3095e933cd066"
       ],
       "layout": "IPY_MODEL_f8de1a3c22d949898f106afdd94e8ac4"
      }
     },
     "f5f4b89b644c491f9b9bb45a1bba9860": {
      "model_module": "@jupyter-widgets/controls",
      "model_module_version": "1.5.0",
      "model_name": "TextModel",
      "state": {
       "description": "Error (%, floor)",
       "layout": "IPY_MODEL_f7a6b2d2bf754a10a8fb1a70818d564f",
       "style": "IPY_MODEL_f9a4d74825f9411f840a49d7ce8f236a",
       "value": "0, 1"
      }
     },
     "f5fb51b53b254ee2a10c59b730332b46": {
      "model_module": "@jupyter-widgets/base",
      "model_module_version": "1.2.0",
      "model_name": "LayoutModel",
      "state": {}
     },
     "f608f046bd044e68961334923e2e2cfa": {
      "model_module": "@jupyter-widgets/controls",
      "model_module_version": "1.5.0",
      "model_name": "DescriptionStyleModel",
      "state": {
       "description_width": ""
      }
     },
     "f64471617e9a4d4686ee3cd257a8c368": {
      "model_module": "@jupyter-widgets/base",
      "model_module_version": "1.2.0",
      "model_name": "LayoutModel",
      "state": {
       "grid_area": "pathlist",
       "width": "auto"
      }
     },
     "f65024eacd564f89a41b519e8255abdb": {
      "model_module": "@jupyter-widgets/base",
      "model_module_version": "1.2.0",
      "model_name": "LayoutModel",
      "state": {}
     },
     "f65cc504c2c240f48247b9f9ac04619c": {
      "model_module": "@jupyter-widgets/controls",
      "model_module_version": "1.5.0",
      "model_name": "DescriptionStyleModel",
      "state": {
       "description_width": ""
      }
     },
     "f66ec1cbb84249ef9069bfd265bedd9a": {
      "model_module": "@jupyter-widgets/controls",
      "model_module_version": "1.5.0",
      "model_name": "DescriptionStyleModel",
      "state": {
       "description_width": ""
      }
     },
     "f69fd67b0c8f4fa3bdaa89f705f76ccc": {
      "model_module": "@jupyter-widgets/controls",
      "model_module_version": "1.5.0",
      "model_name": "ButtonStyleModel",
      "state": {}
     },
     "f6a05c6a718345aba030fc3fea82a000": {
      "model_module": "@jupyter-widgets/controls",
      "model_module_version": "1.5.0",
      "model_name": "HTMLModel",
      "state": {
       "layout": "IPY_MODEL_810e932a76a04aaca315d1084220ae71",
       "placeholder": "",
       "style": "IPY_MODEL_2a11e0d6e2e5471184be445f41fcbad6",
       "value": "<span style=\"margin-left:10px; color:black;\">No file selected</span>"
      }
     },
     "f6a1d57d42474b2ca21a36b056f800a1": {
      "model_module": "@jupyter-widgets/controls",
      "model_module_version": "1.5.0",
      "model_name": "ButtonStyleModel",
      "state": {}
     },
     "f6a6242e03ed4f65aa2532cc16335bea": {
      "model_module": "@jupyter-widgets/controls",
      "model_module_version": "1.5.0",
      "model_name": "VBoxModel",
      "state": {
       "children": [
        "IPY_MODEL_2f049a35c62045d1a1e2be9620e1d861",
        "IPY_MODEL_43993a5213e341088e74c807c27acecc",
        "IPY_MODEL_4be2061e38234503a88464ca8e1964d4"
       ],
       "layout": "IPY_MODEL_e432961a508343e38bdb0ccae7822be9"
      }
     },
     "f6be674be1cc4e5bb018d04d92bdc1dc": {
      "model_module": "@jupyter-widgets/controls",
      "model_module_version": "1.5.0",
      "model_name": "VBoxModel",
      "state": {
       "children": [
        "IPY_MODEL_e8b780d837d84b5b80bdb2cafc7584d3",
        "IPY_MODEL_cc243ed756624348a630b3d4796db787"
       ],
       "layout": "IPY_MODEL_a14030e28d464404b4df2657863db6f9"
      }
     },
     "f6dfba604edf4e43b530a80d593dc28a": {
      "model_module": "@jupyter-widgets/base",
      "model_module_version": "1.2.0",
      "model_name": "LayoutModel",
      "state": {}
     },
     "f6ed8758dcc44eab8358d1ddefb123d3": {
      "model_module": "@jupyter-widgets/controls",
      "model_module_version": "1.5.0",
      "model_name": "DescriptionStyleModel",
      "state": {
       "description_width": "initial"
      }
     },
     "f6f8fb5edc994eb28bb1f64364606713": {
      "model_module": "@jupyter-widgets/controls",
      "model_module_version": "1.5.0",
      "model_name": "VBoxModel",
      "state": {
       "children": [
        "IPY_MODEL_b578b005d0df4601852bd8fdcae6659d",
        "IPY_MODEL_d2a5276322394a8882a91b58f89f60c5",
        "IPY_MODEL_532ca7fb722b4c278b7a2d52bcec9dbe",
        "IPY_MODEL_675e748dad5a43e9bd4c56c037340d9f",
        "IPY_MODEL_5d666412ed2d4d37a22bad2442547d96",
        "IPY_MODEL_e486c8cf75f2427487c703cb589641ef",
        "IPY_MODEL_a50c964a74284205a4ee3972e17e1dda"
       ],
       "layout": "IPY_MODEL_26ff7a9770784b0b8322652ef5e8696f"
      }
     },
     "f6ffb4446e9d45b0abda7bf38bc26746": {
      "model_module": "@jupyter-widgets/base",
      "model_module_version": "1.2.0",
      "model_name": "LayoutModel",
      "state": {}
     },
     "f73dc7f961be4bdc81fc8ea008f52f85": {
      "model_module": "@jupyter-widgets/controls",
      "model_module_version": "1.5.0",
      "model_name": "ToggleButtonModel",
      "state": {
       "button_style": "danger",
       "description": "Run SimPEG",
       "icon": "check",
       "layout": "IPY_MODEL_ef598f985fd44bdf8d213d2d26b18954",
       "style": "IPY_MODEL_a8b7a0bcadc842a392640517f17ffd4c"
      }
     },
     "f753b850cd1842b38884cceba7fbfc7f": {
      "model_module": "@jupyter-widgets/controls",
      "model_module_version": "1.5.0",
      "model_name": "DescriptionStyleModel",
      "state": {
       "description_width": ""
      }
     },
     "f7656cdcfc9f49f8930cc61e21b7b4ec": {
      "model_module": "@jupyter-widgets/base",
      "model_module_version": "1.2.0",
      "model_name": "LayoutModel",
      "state": {
       "width": "auto"
      }
     },
     "f78c555b9d914e21bb686cb9b0a5a967": {
      "model_module": "@jupyter-widgets/controls",
      "model_module_version": "1.5.0",
      "model_name": "DescriptionStyleModel",
      "state": {
       "description_width": "initial"
      }
     },
     "f7a6b2d2bf754a10a8fb1a70818d564f": {
      "model_module": "@jupyter-widgets/base",
      "model_module_version": "1.2.0",
      "model_name": "LayoutModel",
      "state": {}
     },
     "f81776752ddb4417bc91820230c4dac0": {
      "model_module": "@jupyter-widgets/base",
      "model_module_version": "1.2.0",
      "model_name": "LayoutModel",
      "state": {}
     },
     "f8632923f35945caa0049f80ebc7e493": {
      "model_module": "@jupyter-widgets/controls",
      "model_module_version": "1.5.0",
      "model_name": "DescriptionStyleModel",
      "state": {
       "description_width": "initial"
      }
     },
     "f86a4defa1fe4872892bcdf6d90de1be": {
      "model_module": "@jupyter-widgets/controls",
      "model_module_version": "1.5.0",
      "model_name": "LabelModel",
      "state": {
       "layout": "IPY_MODEL_6f812a5121cf486d83f2e76ccb22e82d",
       "style": "IPY_MODEL_4508ac42d3044d25b4cd230eef2eb8e9",
       "value": "Channels"
      }
     },
     "f86b79f9d445423cb5e627fb4582d8d2": {
      "model_module": "@jupyter-widgets/controls",
      "model_module_version": "1.5.0",
      "model_name": "HTMLModel",
      "state": {
       "layout": "IPY_MODEL_9b2834215ff14f17ab5c2c44d1664628",
       "placeholder": "",
       "style": "IPY_MODEL_fcded272cf17495baccf15b6c03ff003",
       "value": "<span style=\"margin-left:10px; color:black;\">No file selected</span>"
      }
     },
     "f8a4f76f476c4c55b21e43d27d85094b": {
      "model_module": "@jupyter-widgets/controls",
      "model_module_version": "1.5.0",
      "model_name": "RadioButtonsModel",
      "state": {
       "_options_labels": [
        "Model",
        "Value"
       ],
       "index": 1,
       "layout": "IPY_MODEL_1fcb75ea84c04964ab8cc0b6664da5c1",
       "style": "IPY_MODEL_9a9258dc066a4cbb9a86619300c5b40e"
      }
     },
     "f8b7583e1c64494c87db491010176696": {
      "model_module": "@jupyter-widgets/base",
      "model_module_version": "1.2.0",
      "model_name": "LayoutModel",
      "state": {}
     },
     "f8bacf827385406aa9605a3830e1e846": {
      "model_module": "@jupyter-widgets/base",
      "model_module_version": "1.2.0",
      "model_name": "LayoutModel",
      "state": {}
     },
     "f8c2af5c1a194a989242829fe4197e50": {
      "model_module": "@jupyter-widgets/base",
      "model_module_version": "1.2.0",
      "model_name": "LayoutModel",
      "state": {}
     },
     "f8da3b02e3f7497589874e8ed8413b61": {
      "model_module": "@jupyter-widgets/controls",
      "model_module_version": "1.5.0",
      "model_name": "LabelModel",
      "state": {
       "layout": "IPY_MODEL_757f687f402f4206b1de393c12b3f69b",
       "style": "IPY_MODEL_6e6b8230a52f4ff0bbba135206882e46",
       "value": "Monitoring folder"
      }
     },
     "f8de1a3c22d949898f106afdd94e8ac4": {
      "model_module": "@jupyter-widgets/base",
      "model_module_version": "1.2.0",
      "model_name": "LayoutModel",
      "state": {}
     },
     "f8e2f936177b40a1be1b44f1888ca54e": {
      "model_module": "@jupyter-widgets/controls",
      "model_module_version": "1.5.0",
      "model_name": "VBoxModel",
      "state": {
       "children": [
        "IPY_MODEL_b19504469f854ccf80fcc052234504e9",
        "IPY_MODEL_dc5da942e37843a696f62eb17d783980"
       ],
       "layout": "IPY_MODEL_c107e63207434750a32bc431a97b434a"
      }
     },
     "f9269b10b0794e42b0ae08c61e751ed2": {
      "model_module": "@jupyter-widgets/controls",
      "model_module_version": "1.5.0",
      "model_name": "DropdownModel",
      "state": {
       "_options_labels": [
        "C:\\Users\\dominiquef\\Documents\\GIT\\mira\\mirageoscience-apps\\assets",
        "C:\\Users\\dominiquef\\Documents\\GIT\\mira\\mirageoscience-apps",
        "C:\\Users\\dominiquef\\Documents\\GIT\\mira",
        "C:\\Users\\dominiquef\\Documents\\GIT",
        "C:\\Users\\dominiquef\\Documents",
        "C:\\Users\\dominiquef",
        "C:\\Users",
        "C:\\",
        "D:\\",
        "Z:\\"
       ],
       "index": 0,
       "layout": "IPY_MODEL_f149c01fa57a4b64a04bb5cb936037b0",
       "style": "IPY_MODEL_06a35c20cb594cd4b2c05814c0118888"
      }
     },
     "f9302fccb2e445af9f1ffb08fa59630c": {
      "model_module": "@jupyter-widgets/controls",
      "model_module_version": "1.5.0",
      "model_name": "DescriptionStyleModel",
      "state": {
       "description_width": ""
      }
     },
     "f952efababaa4be7b995ea31fdeb9b0e": {
      "model_module": "@jupyter-widgets/base",
      "model_module_version": "1.2.0",
      "model_name": "LayoutModel",
      "state": {}
     },
     "f964ff9d81f74314a9704451b6d48b76": {
      "model_module": "@jupyter-widgets/base",
      "model_module_version": "1.2.0",
      "model_name": "LayoutModel",
      "state": {}
     },
     "f972d30b85fe4f40bc327ca0806505ef": {
      "model_module": "@jupyter-widgets/controls",
      "model_module_version": "1.5.0",
      "model_name": "HTMLModel",
      "state": {
       "layout": "IPY_MODEL_bc1b52a021c64080b0a4dc9f59249edc",
       "placeholder": "",
       "style": "IPY_MODEL_335c5ed8534a4be3943b26b58ac94657",
       "value": "<span style=\"margin-left:10px; color:black;\">No file selected</span>"
      }
     },
     "f97469a190784f52a1098a1335d3733b": {
      "model_module": "@jupyter-widgets/controls",
      "model_module_version": "1.5.0",
      "model_name": "DescriptionStyleModel",
      "state": {
       "description_width": "initial"
      }
     },
     "f99658b8b667427fb79d7546234727ee": {
      "model_module": "@jupyter-widgets/controls",
      "model_module_version": "1.5.0",
      "model_name": "DropdownModel",
      "state": {
       "_options_labels": [
        "",
        "fault_splay1",
        "fault_Cliff_Lake",
        "fault_Other_FlinFlon",
        "fault_Club_Lake_splay",
        "fault_Catherine_splay2",
        "fault_Birch_View",
        "fault_Dion_Lake",
        "fault_FlinFlon_splay",
        "fault_West_Mandy_Road",
        "fault_Channing",
        "fault_Ross_Lake",
        "fault_Louis_Hidden",
        "fault_Lake_View_thrust",
        "contact_Schist_Lake",
        "fault_Burley_Lake",
        "fault_Dion_Lake_splay",
        "fault_Green_Lake",
        "fault_FlinFlon",
        "fault_Catherine_splay1",
        "fault_East_Mandy_Road",
        "fault_Other_FlinFlon_South",
        "fault_Catherine_splay4",
        "contact_Stitt_Island",
        "fault_Club_Lake",
        "fault_Tailing_Pond",
        "35_Hidden_Reservoir_Hr5",
        "29_Hidden_Reservoir_Hr1a",
        "60_BlueLagoon_Fb2",
        "20_FlinFlon_Undivided_Int_Dykes_D2f",
        "04_Boundary_Intrusive_S4h",
        "53_Millrock_Rhyolite_Fm4b",
        "19_FlinFlon_Undivided_Int_Dykes_D2b",
        "18_FlinFlon_Undivided_Int_Dykes_777_D2b",
        "06_Phantom_Lake_Intrusive_S3a",
        "21_FlinFlon_Undivided_Int_Dykes_D3a",
        "43_Millrock_CHLSH_South",
        "56_Millrock_Basalt_Fm1ba",
        "17_FlinFlon_Undivided_Int_Dykes_D2",
        "32_Hidden_Reservoir_Hr1b_SW",
        "11_Missi_M3_NE",
        "13_Missi_M1",
        "07_Annabel_Granitoid_S1",
        "45_Millrock_Gabbro_South",
        "01_Late_Intrusive_S5b",
        "31_Hidden_Reservoir_Hr1c_SW",
        "52_Millrock_Rhyolite_Fm4_West_check",
        "55_Millrock_Basalt_Fm1bf",
        "34_Hidden_Reservoir_Hr2b",
        "03_Boundary_Intrusive_S4b",
        "42_Millrock_CHLSH_North",
        "26_Louis_L3",
        "23_FlinFlon_Undivided_Int_Felsic_D4g",
        "30_Hidden_Reservoir_Hr1b",
        "59_BlueLagoon_Fb3",
        "49_Millrock_MVR_Fm5d",
        "44_Millrock_Gabbro_North",
        "27_Hidden_Carlisle_Hc4",
        "22_FlinFlon_Undivided_Int_Felsic_D4e",
        "02_Boundary_Intrusive_S4a",
        "61_BlueLagoon_Fb1_NW",
        "05_Boundary_Intrusive_S4g",
        "39_Ore_Callinan",
        "38_Ore_Dan_Owens",
        "40_Ore_FlinFlon",
        "Inversion_VTEM_Model",
        "Gravity_Magnetics_drape60m",
        "CDI_VTEM_model",
        "Data_FEM_pseudo3D",
        "O2O_Interp_25m",
        "geochem",
        "Inversion_DIGHEM_Model",
        "Topography",
        "Data_TEM_pseudo3D",
        "Data_ZTEM"
       ],
       "description": "Object:",
       "index": 0,
       "layout": "IPY_MODEL_7d0d1f38755d4f81ac948767a212e8a2",
       "style": "IPY_MODEL_4ff6dceebfc14731afafc7c419ebf94e"
      }
     },
     "f99ac78a2b5340d8ad5a5570ff89f7b4": {
      "model_module": "@jupyter-widgets/controls",
      "model_module_version": "1.5.0",
      "model_name": "ButtonStyleModel",
      "state": {}
     },
     "f9a4d74825f9411f840a49d7ce8f236a": {
      "model_module": "@jupyter-widgets/controls",
      "model_module_version": "1.5.0",
      "model_name": "DescriptionStyleModel",
      "state": {
       "description_width": "initial"
      }
     },
     "f9acf3fff87e41e3840ac4d6ec979d75": {
      "model_module": "@jupyter-widgets/base",
      "model_module_version": "1.2.0",
      "model_name": "LayoutModel",
      "state": {}
     },
     "f9e18b838680415f965e41199443aceb": {
      "model_module": "@jupyter-widgets/controls",
      "model_module_version": "1.5.0",
      "model_name": "VBoxModel",
      "state": {
       "children": [
        "IPY_MODEL_1217a428e89b46f48df14d6bb6cf9f6a",
        "IPY_MODEL_8dcf6be05a434ed8905a2e1a3d11c1e3"
       ],
       "layout": "IPY_MODEL_baf5bb08cae94741b7a966cbc60b0a38"
      }
     },
     "fa05464129d0476aaabe55cbae09d457": {
      "model_module": "@jupyter-widgets/controls",
      "model_module_version": "1.5.0",
      "model_name": "LabelModel",
      "state": {
       "layout": "IPY_MODEL_452150a2866f41d8a6dd6d2f8f527835",
       "style": "IPY_MODEL_ef8464454dcd4ff5971f9c1e6a85092c",
       "value": "Workspace"
      }
     },
     "fa13f02f8cad41449d427646bd1412f1": {
      "model_module": "@jupyter-widgets/base",
      "model_module_version": "1.2.0",
      "model_name": "LayoutModel",
      "state": {
       "grid_area": "pathlist",
       "width": "auto"
      }
     },
     "fa3dff759457459fbce06ca65d27392d": {
      "model_module": "@jupyter-widgets/base",
      "model_module_version": "1.2.0",
      "model_name": "LayoutModel",
      "state": {}
     },
     "fa4431468c8b421c9de048c3a608111f": {
      "model_module": "@jupyter-widgets/controls",
      "model_module_version": "1.5.0",
      "model_name": "FloatSliderModel",
      "state": {
       "continuous_update": false,
       "description": "Width",
       "layout": "IPY_MODEL_44c1a2bd49c84d26875cebffbadc0b77",
       "max": 8802.607126275985,
       "step": 10,
       "style": "IPY_MODEL_98cd387e92b940af891a0d745a4d5b6f",
       "value": 1000
      }
     },
     "fa68476e56ce42b4825f915529d88d3d": {
      "model_module": "@jupyter-widgets/controls",
      "model_module_version": "1.5.0",
      "model_name": "TextModel",
      "state": {
       "description": "bxy",
       "layout": "IPY_MODEL_544da086ffe54562aa13c409f2750628",
       "style": "IPY_MODEL_9c33ed1e54a949c6b362351cfdf180b5"
      }
     },
     "fa7ba379af3440cc93928179fd33a353": {
      "model_module": "@jupyter-widgets/controls",
      "model_module_version": "1.5.0",
      "model_name": "VBoxModel",
      "state": {
       "children": [
        "IPY_MODEL_cd2d7b6882df4febb11ede7eafb525a2",
        "IPY_MODEL_91be1f192f234887bb0c853d918a3fc8"
       ],
       "layout": "IPY_MODEL_a65a9128190c4e599604df041c643bca"
      }
     },
     "fa8158615c1b4911b25661b0acae86af": {
      "model_module": "@jupyter-widgets/controls",
      "model_module_version": "1.5.0",
      "model_name": "LabelModel",
      "state": {
       "layout": "IPY_MODEL_b504131eaf074fc38bb3133f4f272716",
       "style": "IPY_MODEL_a6e059c6a1a144b98475bc6613e90e47",
       "value": "Monitoring folder"
      }
     },
     "fa908ab7e6e04b14b98d2116b7fc258d": {
      "model_module": "@jupyter-widgets/base",
      "model_module_version": "1.2.0",
      "model_name": "LayoutModel",
      "state": {
       "width": "auto"
      }
     },
     "fa9258f2ce1340b491e09e391e81c99d": {
      "model_module": "@jupyter-widgets/controls",
      "model_module_version": "1.5.0",
      "model_name": "GridBoxModel",
      "state": {
       "children": [
        "IPY_MODEL_fe43293429ed40f287c4282ea6dffb1f",
        "IPY_MODEL_d8ef465d6c8047dd92f096836a73dd5a",
        "IPY_MODEL_1575d5f3111f4841a4d8ef7b714d693a"
       ],
       "layout": "IPY_MODEL_760d0c34618d46de8bdc5fab1e1218b4"
      }
     },
     "fa974a55264446af9267eaf2ec441ba5": {
      "model_module": "@jupyter-widgets/controls",
      "model_module_version": "1.5.0",
      "model_name": "ButtonStyleModel",
      "state": {}
     },
     "fa9fcd44791d4a00b49cb3ab933f4917": {
      "model_module": "@jupyter-widgets/controls",
      "model_module_version": "1.5.0",
      "model_name": "TextModel",
      "state": {
       "description": "Offsets (x,y,z)",
       "layout": "IPY_MODEL_a5dc293b8d064b7ba35bbcc3114f18a0",
       "style": "IPY_MODEL_f97469a190784f52a1098a1335d3733b",
       "value": "0, 0, 0"
      }
     },
     "fade1954425f445e88c9168b2d4196d9": {
      "model_module": "@jupyter-widgets/controls",
      "model_module_version": "1.5.0",
      "model_name": "DescriptionStyleModel",
      "state": {
       "description_width": ""
      }
     },
     "faf36b6dd99342988169e621e74a121d": {
      "model_module": "@jupyter-widgets/base",
      "model_module_version": "1.2.0",
      "model_name": "LayoutModel",
      "state": {}
     },
     "faf81aa22d874b93aad9ba49d134beac": {
      "model_module": "@jupyter-widgets/controls",
      "model_module_version": "1.5.0",
      "model_name": "DescriptionStyleModel",
      "state": {
       "description_width": ""
      }
     },
     "fafaedf790c04ed99629f803d061ed96": {
      "model_module": "@jupyter-widgets/controls",
      "model_module_version": "1.5.0",
      "model_name": "SliderStyleModel",
      "state": {
       "description_width": ""
      }
     },
     "fb4ca7a58b2045f88b5ceab0cab2f689": {
      "model_module": "@jupyter-widgets/base",
      "model_module_version": "1.2.0",
      "model_name": "LayoutModel",
      "state": {}
     },
     "fb53fea8c1a94bcfaf46be75829ec495": {
      "model_module": "@jupyter-widgets/controls",
      "model_module_version": "1.5.0",
      "model_name": "ButtonModel",
      "state": {
       "description": "Cancel",
       "layout": "IPY_MODEL_7c5684fd060e4ba18626380d3fd9a60e",
       "style": "IPY_MODEL_ac4d5bea977a430b8e0d3220b4f5743e"
      }
     },
     "fb7a2faa64744ff78458784a0c97a006": {
      "model_module": "@jupyter-widgets/controls",
      "model_module_version": "1.5.0",
      "model_name": "DescriptionStyleModel",
      "state": {
       "description_width": "initial"
      }
     },
     "fb938f2ab790406c9301200d1cac88db": {
      "model_module": "@jupyter-widgets/controls",
      "model_module_version": "1.5.0",
      "model_name": "LabelModel",
      "state": {
       "layout": "IPY_MODEL_978e8befb89940f3a11ad955c3b4b3e0",
       "style": "IPY_MODEL_694d10fa8d564ebd9ed3682f3e0fba95",
       "value": "Monitoring folder"
      }
     },
     "fba0174a62e949c0a053da40fffebb0c": {
      "model_module": "@jupyter-widgets/controls",
      "model_module_version": "1.5.0",
      "model_name": "TextModel",
      "state": {
       "description": "Padding [W,E,N,S,D,U] (m)",
       "layout": "IPY_MODEL_d273d5acd5b64050bf17b54630a0308d",
       "style": "IPY_MODEL_bd921ee75fe84943b2c4e14e4cf8a005",
       "value": "1000, 1000, 1000, 1000, 0, 0"
      }
     },
     "fbb80fb6017c4c01ba2a6400f28c8ff2": {
      "model_module": "@jupyter-widgets/base",
      "model_module_version": "1.2.0",
      "model_name": "LayoutModel",
      "state": {}
     },
     "fc1f9ae0988a4113a31feb06af8520da": {
      "model_module": "@jupyter-widgets/controls",
      "model_module_version": "1.5.0",
      "model_name": "DescriptionStyleModel",
      "state": {
       "description_width": ""
      }
     },
     "fc4571d4a7d0490683a77e2622c7d205": {
      "model_module": "@jupyter-widgets/controls",
      "model_module_version": "1.5.0",
      "model_name": "LabelModel",
      "state": {
       "layout": "IPY_MODEL_a5f5807869264adaaaddbc5d47683336",
       "style": "IPY_MODEL_5aaeb0e1e549474f846cd31458bc2fa5",
       "value": "Inversion Options"
      }
     },
     "fc45f4b4545e4340ae6558bac9b209cb": {
      "model_module": "@jupyter-widgets/base",
      "model_module_version": "1.2.0",
      "model_name": "LayoutModel",
      "state": {
       "display": "none"
      }
     },
     "fc4d6c523fc54817b53aece00a310f0e": {
      "model_module": "@jupyter-widgets/controls",
      "model_module_version": "1.5.0",
      "model_name": "FloatTextModel",
      "state": {
       "description": "phi_d/phi_m",
       "layout": "IPY_MODEL_caef2e40cc5c4dbc8d5463f64ee1c765",
       "step": null,
       "style": "IPY_MODEL_1e6ff2afacb345a084c0da39815f6c09",
       "value": 100
      }
     },
     "fc5b53e2a9554bc1a0a11e3ef6657112": {
      "model_module": "@jupyter-widgets/controls",
      "model_module_version": "1.5.0",
      "model_name": "ButtonModel",
      "state": {
       "description": "Cancel",
       "layout": "IPY_MODEL_20508e31ae8f4d42816ddd5cfa9acebc",
       "style": "IPY_MODEL_f42438a351334633b1d826a9ef993efd"
      }
     },
     "fc70d189029043fa93a4af6c259ecee9": {
      "model_module": "@jupyter-widgets/base",
      "model_module_version": "1.2.0",
      "model_name": "LayoutModel",
      "state": {}
     },
     "fc717cb4fad14675b0ce0bd3911acc39": {
      "model_module": "@jupyter-widgets/controls",
      "model_module_version": "1.5.0",
      "model_name": "DescriptionStyleModel",
      "state": {
       "description_width": ""
      }
     },
     "fc97eb841ea84bd591003e06b4c38ed7": {
      "model_module": "@jupyter-widgets/controls",
      "model_module_version": "1.5.0",
      "model_name": "DescriptionStyleModel",
      "state": {
       "description_width": "initial"
      }
     },
     "fcb44beb4cf8495ebd2cef43b7957b21": {
      "model_module": "@jupyter-widgets/base",
      "model_module_version": "1.2.0",
      "model_name": "LayoutModel",
      "state": {
       "grid_area": "filename",
       "width": "auto"
      }
     },
     "fcbe6e04a7d94e88af1f2fc12cb0bb35": {
      "model_module": "@jupyter-widgets/controls",
      "model_module_version": "1.5.0",
      "model_name": "ButtonStyleModel",
      "state": {}
     },
     "fccdf9d5fd434837a97777761402dad7": {
      "model_module": "@jupyter-widgets/base",
      "model_module_version": "1.2.0",
      "model_name": "LayoutModel",
      "state": {}
     },
     "fcded272cf17495baccf15b6c03ff003": {
      "model_module": "@jupyter-widgets/controls",
      "model_module_version": "1.5.0",
      "model_name": "DescriptionStyleModel",
      "state": {
       "description_width": ""
      }
     },
     "fce474069be441f8ac98c994d323568d": {
      "model_module": "@jupyter-widgets/base",
      "model_module_version": "1.2.0",
      "model_name": "LayoutModel",
      "state": {}
     },
     "fd0ab82a7ae940bfb80dd14caf3b7c3b": {
      "model_module": "@jupyter-widgets/controls",
      "model_module_version": "1.5.0",
      "model_name": "VBoxModel",
      "state": {
       "children": [
        "IPY_MODEL_013a0ab48c3d459aa54ca93ea9eb3d23",
        "IPY_MODEL_b5898853b5e14e4698b1f7c76254fcea"
       ],
       "layout": "IPY_MODEL_9f023a6458ca418a98aeddd4f0737f89"
      }
     },
     "fd51942b64ce49d5a109c9249b84db31": {
      "model_module": "@jupyter-widgets/controls",
      "model_module_version": "1.5.0",
      "model_name": "ButtonStyleModel",
      "state": {}
     },
     "fd628fcb625741a2bf499813377ec9d7": {
      "model_module": "@jupyter-widgets/controls",
      "model_module_version": "1.5.0",
      "model_name": "HTMLModel",
      "state": {
       "layout": "IPY_MODEL_f431ccb8c0524effab9218c65bba66d5",
       "style": "IPY_MODEL_0ef9e393005447c09b2268b235b5c5a5"
      }
     },
     "fd7279f9b2634a8c8346072bd27090cb": {
      "model_module": "@jupyter-widgets/base",
      "model_module_version": "1.2.0",
      "model_name": "LayoutModel",
      "state": {}
     },
     "fd7c15ba3e4e41bd961677f16ae43349": {
      "model_module": "@jupyter-widgets/controls",
      "model_module_version": "1.5.0",
      "model_name": "TextModel",
      "state": {
       "description": "Error (%, floor)",
       "layout": "IPY_MODEL_8bde1e6719884240abe146cb12e2c5e2",
       "style": "IPY_MODEL_52118b734986417fb2a5343374f34ffa",
       "value": "0, 1"
      }
     },
     "fdaa5aa9bbba4fadab7b52505d2b791b": {
      "model_module": "@jupyter-widgets/controls",
      "model_module_version": "1.5.0",
      "model_name": "DropdownModel",
      "state": {
       "_options_labels": [
        "",
        "--- Channels ---",
        "Airborne_Gxx",
        "Airborne_Gxy",
        "Airborne_Gxz",
        "Airborne_Gyy",
        "Airborne_Gyz",
        "Airborne_Gz",
        "Airborne_Gzz",
        "Airborne_TMI",
        "Ground_Gz",
        "Z"
       ],
       "description": "Channel <=> Data:",
       "index": 0,
       "layout": "IPY_MODEL_981b18788a10416d889ac2652275f079",
       "style": "IPY_MODEL_788b8823e10446cf9fe1e5a1d5739dbf"
      }
     },
     "fdc0a9c517e94f45a9b0ac6b3e20d1c9": {
      "model_module": "@jupyter-widgets/controls",
      "model_module_version": "1.5.0",
      "model_name": "DescriptionStyleModel",
      "state": {
       "description_width": "initial"
      }
     },
     "fddcd78dff0d49af92211e010a734a74": {
      "model_module": "@jupyter-widgets/controls",
      "model_module_version": "1.5.0",
      "model_name": "ButtonModel",
      "state": {
       "description": "Cancel",
       "layout": "IPY_MODEL_0dd8073a353242aaa0db76275158efc9",
       "style": "IPY_MODEL_6fa741a0d68645a9bc12679a9554e885"
      }
     },
     "fddfaa182a0049ac8a1b48513b09e839": {
      "model_module": "@jupyter-widgets/controls",
      "model_module_version": "1.5.0",
      "model_name": "DescriptionStyleModel",
      "state": {
       "description_width": ""
      }
     },
     "fdfe0909b81d46c29fcc22ded992f877": {
      "model_module": "@jupyter-widgets/controls",
      "model_module_version": "1.5.0",
      "model_name": "CheckboxModel",
      "state": {
       "description": "Active",
       "disabled": false,
       "layout": "IPY_MODEL_b0f70e5f5ef74422b3a9cee12f003a17",
       "style": "IPY_MODEL_82a7920b4d2a4edb9627b0258077ae86",
       "value": false
      }
     },
     "fe0f4ff04fe64821874de05c4907f4c5": {
      "model_module": "@jupyter-widgets/base",
      "model_module_version": "1.2.0",
      "model_name": "LayoutModel",
      "state": {}
     },
     "fe2b1a2f5c144244acac9a5a9fb99216": {
      "model_module": "@jupyter-widgets/base",
      "model_module_version": "1.2.0",
      "model_name": "LayoutModel",
      "state": {
       "width": "auto"
      }
     },
     "fe368b55945c4ad199a917c4c6947aee": {
      "model_module": "@jupyter-widgets/base",
      "model_module_version": "1.2.0",
      "model_name": "LayoutModel",
      "state": {
       "grid_area": "filename",
       "width": "auto"
      }
     },
     "fe43293429ed40f287c4282ea6dffb1f": {
      "model_module": "@jupyter-widgets/controls",
      "model_module_version": "1.5.0",
      "model_name": "DropdownModel",
      "state": {
       "_options_labels": [
        "C:\\Users\\dominiquef\\Documents\\GIT\\RichardScottOZ\\geoapps\\docs\\content\\applications",
        "C:\\Users\\dominiquef\\Documents\\GIT\\RichardScottOZ\\geoapps\\docs\\content",
        "C:\\Users\\dominiquef\\Documents\\GIT\\RichardScottOZ\\geoapps\\docs",
        "C:\\Users\\dominiquef\\Documents\\GIT\\RichardScottOZ\\geoapps",
        "C:\\Users\\dominiquef\\Documents\\GIT\\RichardScottOZ",
        "C:\\Users\\dominiquef\\Documents\\GIT",
        "C:\\Users\\dominiquef\\Documents",
        "C:\\Users\\dominiquef",
        "C:\\Users",
        "C:\\",
        "D:\\",
        "Z:\\"
       ],
       "index": 0,
       "layout": "IPY_MODEL_518a711262044c94bbf66eddc982f337",
       "style": "IPY_MODEL_78c11272274249b186199e945bf875e5"
      }
     },
     "fe76431c229f4bd8aa99b77809c529c2": {
      "model_module": "@jupyter-widgets/controls",
      "model_module_version": "1.5.0",
      "model_name": "DescriptionStyleModel",
      "state": {
       "description_width": "initial"
      }
     },
     "fe9244f33c3c454fbd86f879ae1332d5": {
      "model_module": "@jupyter-widgets/controls",
      "model_module_version": "1.5.0",
      "model_name": "DescriptionStyleModel",
      "state": {
       "description_width": ""
      }
     },
     "fe94c078444c4080a1191c8ce15f0d36": {
      "model_module": "@jupyter-widgets/controls",
      "model_module_version": "1.5.0",
      "model_name": "DescriptionStyleModel",
      "state": {
       "description_width": "initial"
      }
     },
     "fe978b1f72bf4a5bbc84b907d67d6c1d": {
      "model_module": "@jupyter-widgets/base",
      "model_module_version": "1.2.0",
      "model_name": "LayoutModel",
      "state": {}
     },
     "feaeeda7cbd2427388c0d96b0de71b2e": {
      "model_module": "@jupyter-widgets/base",
      "model_module_version": "1.2.0",
      "model_name": "LayoutModel",
      "state": {}
     },
     "febdd51b82ea4b70b9f16f08c1e67355": {
      "model_module": "@jupyter-widgets/controls",
      "model_module_version": "1.5.0",
      "model_name": "ButtonModel",
      "state": {
       "description": "Create copy:",
       "layout": "IPY_MODEL_0d1f21d76cf84d629db38f948cfd9195",
       "style": "IPY_MODEL_e7efed729c91433babb0cb9ae5444f40"
      }
     },
     "fee3a511cc4540329aa225d7520da684": {
      "model_module": "@jupyter-widgets/controls",
      "model_module_version": "1.5.0",
      "model_name": "FloatTextModel",
      "state": {
       "description": "Expansion factor:",
       "layout": "IPY_MODEL_54c744d53c1949aba358c5fca0000d69",
       "step": null,
       "style": "IPY_MODEL_d2f2621dd0504d1aa5a0fa11bb72bc72",
       "value": 1.05
      }
     },
     "ff02f78d9d224312ac6a80ace29300bf": {
      "model_module": "@jupyter-widgets/controls",
      "model_module_version": "1.5.0",
      "model_name": "HTMLModel",
      "state": {
       "layout": "IPY_MODEL_69d7e23c47aa4d1d97e7cc2731023db1",
       "style": "IPY_MODEL_2afbbeb5a8214cba91ca7a127893ecd2"
      }
     },
     "ff139bdbeb5a4911950a8d84522e3051": {
      "model_module": "@jupyter-widgets/controls",
      "model_module_version": "1.5.0",
      "model_name": "FloatSliderModel",
      "state": {
       "continuous_update": false,
       "description": "Easting",
       "layout": "IPY_MODEL_aa1d09cc05c24242a3de2b6cf5a04bee",
       "max": 319234.2051362576,
       "min": 311898.69919769425,
       "step": 10,
       "style": "IPY_MODEL_2c850a4076e8415098be79bc6aa191a4",
       "value": 314600
      }
     },
     "ff2f5d83559b4ffc98bb3a64b4759539": {
      "model_module": "@jupyter-widgets/base",
      "model_module_version": "1.2.0",
      "model_name": "LayoutModel",
      "state": {
       "display": "none",
       "width": "auto"
      }
     },
     "ff37628db36f4f0a9217ffc374899d70": {
      "model_module": "@jupyter-widgets/base",
      "model_module_version": "1.2.0",
      "model_name": "LayoutModel",
      "state": {}
     },
     "ff59029ec61a461cb1c48ffb0469ddb3": {
      "model_module": "@jupyter-widgets/controls",
      "model_module_version": "1.5.0",
      "model_name": "DescriptionStyleModel",
      "state": {
       "description_width": ""
      }
     },
     "ff62df12cf9942439bd05b0b2874a092": {
      "model_module": "@jupyter-widgets/controls",
      "model_module_version": "1.5.0",
      "model_name": "TextModel",
      "state": {
       "continuous_update": false,
       "description": "Group:",
       "layout": "IPY_MODEL_07253500590d41a1b9d882f9bdc7ad18",
       "style": "IPY_MODEL_1fddc6dd58794cf8bd2e3a0b4d39525d"
      }
     },
     "ff9682dda0904896849f5ba8e5f4aa1c": {
      "model_module": "@jupyter-widgets/base",
      "model_module_version": "1.2.0",
      "model_name": "LayoutModel",
      "state": {}
     },
     "ffb69c7d62be4557b3b99617a8a4f54c": {
      "model_module": "@jupyter-widgets/controls",
      "model_module_version": "1.5.0",
      "model_name": "VBoxModel",
      "state": {
       "children": [
        "IPY_MODEL_91360068cff24dc1899c184f8199437d",
        "IPY_MODEL_de00168e26b84b17b699ba1675b6d72b"
       ],
       "layout": "IPY_MODEL_b2f36814ff9d453594e4306c5f6220d1"
      }
     },
     "ffb8cfe9d7984723b93afde4034273eb": {
      "model_module": "@jupyter-widgets/controls",
      "model_module_version": "1.5.0",
      "model_name": "ButtonStyleModel",
      "state": {}
     },
     "ffd8ad61162843a2ae45eab45876ba8e": {
      "model_module": "@jupyter-widgets/controls",
      "model_module_version": "1.5.0",
      "model_name": "VBoxModel",
      "state": {
       "children": [
        "IPY_MODEL_f8da3b02e3f7497589874e8ed8413b61",
        "IPY_MODEL_25d15ec650434b2281b584d2a16a3a68"
       ],
       "layout": "IPY_MODEL_a81060c0c97242eebcfe0a03bab5af86"
      }
     }
    },
    "version_major": 2,
    "version_minor": 0
   }
  }
 },
 "nbformat": 4,
 "nbformat_minor": 5
}

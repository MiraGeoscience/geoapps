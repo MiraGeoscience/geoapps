{
 "cells": [
  {
   "cell_type": "markdown",
   "id": "particular-concept",
   "metadata": {},
   "source": [
    "# Geophysical Inversion\n",
    "\n",
    "This application provides an interface to the open-source [SimPEG](https://simpeg.xyz/) inversion algorithms. The application currently supports\n",
    "\n",
    "\n",
    "  <img align=\"right\" width=\"50%\" src=\"./images/Geophysical_inversion_app.png\">\n",
    "  \n",
    "  \n",
    " - Electromagnetic (time or frequency) data using a Laterally Constrained 1D approach\n",
    " - Gravity and Magnetic Vector Inversion (MVI) (field and/or tensor data) with a tiled octree mesh approach.\n",
    "\n",
    "New user? Visit the [Getting Started](../installation.rst) page.\n",
    "\n",
    "**NOTE**\n",
    " \n",
    "For gravity and magnetic 3D inversion, it is recommended to set the [Working Directory](#Output-panel) to a solid-state drive (SSD) to take full advantage of the [Dask](https://dask.org/) out-of-core parallelization.\n"
   ]
  },
  {
   "cell_type": "markdown",
   "id": "unnecessary-nerve",
   "metadata": {},
   "source": [
    "## Application\n",
    "The following sections provide details on the different parameters controling the application. Interactive widgets shown below are for demonstration purposes only."
   ]
  },
  {
   "cell_type": "code",
   "execution_count": 1,
   "id": "collect-motel",
   "metadata": {
    "scrolled": false
   },
   "outputs": [
    {
     "data": {
      "application/vnd.jupyter.widget-view+json": {
       "model_id": "2da9be5f63ea49f7b86c98f980701f4f",
       "version_major": 2,
       "version_minor": 0
      },
      "text/plain": [
       "VBox(children=(VBox(children=(Label(value='Workspace', style=DescriptionStyle(description_width='initial')), H…"
      ]
     },
     "metadata": {},
     "output_type": "display_data"
    }
   ],
   "source": [
    "from geoapps.inversion import InversionApp\n",
    "\n",
    "app = InversionApp(h5file=r\"../../../assets/FlinFlon.geoh5\")\n",
    "app.main"
   ]
  },
  {
   "cell_type": "markdown",
   "id": "adolescent-found",
   "metadata": {},
   "source": [
    "## Project Selection\n",
    "\n",
    "Select and connect to an existing **geoh5** project file containing data. "
   ]
  },
  {
   "cell_type": "code",
   "execution_count": 2,
   "id": "forbidden-newark",
   "metadata": {},
   "outputs": [
    {
     "data": {
      "application/vnd.jupyter.widget-view+json": {
       "model_id": "989cf9e3b6a149eb838ce4457bdc549a",
       "version_major": 2,
       "version_minor": 0
      },
      "text/plain": [
       "VBox(children=(Label(value='Workspace', style=DescriptionStyle(description_width='initial')), HBox(children=(F…"
      ]
     },
     "metadata": {},
     "output_type": "display_data"
    }
   ],
   "source": [
    "app.project_panel"
   ]
  },
  {
   "cell_type": "markdown",
   "id": "comprehensive-revelation",
   "metadata": {},
   "source": [
    "See the [Project Panel](base_application.ipynb#Project-Panel) page for more details."
   ]
  },
  {
   "cell_type": "markdown",
   "id": "specialized-visit",
   "metadata": {},
   "source": [
    "## Object/Data Selection\n",
    "\n",
    "List of objects available containing geophysical data to be inverted. Currently supports objects of type `Points`, `Curve`, `Surface` and `Grid2D`. Multiple data channels and/or data groups can be selected. "
   ]
  },
  {
   "cell_type": "code",
   "execution_count": 3,
   "id": "contrary-english",
   "metadata": {
    "scrolled": true
   },
   "outputs": [
    {
     "data": {
      "application/vnd.jupyter.widget-view+json": {
       "model_id": "4b09a383b44444249bc915aeda1f8ac7",
       "version_major": 2,
       "version_minor": 0
      },
      "text/plain": [
       "VBox(children=(Dropdown(description='Object:', index=73, options=('', 'Data_TEM_pseudo3DEPSG_4326', 'Gravity_M…"
      ]
     },
     "metadata": {},
     "output_type": "display_data"
    }
   ],
   "source": [
    "app.data_panel"
   ]
  },
  {
   "cell_type": "markdown",
   "id": "defined-princeton",
   "metadata": {},
   "source": [
    "## Window Selection\n",
    "\n",
    "Manual selection of an area of interest and data resolution. Positive (solid) and negative (dash) contour lines are traced immediately after changes made to the contour values."
   ]
  },
  {
   "cell_type": "code",
   "execution_count": 4,
   "id": "opponent-canada",
   "metadata": {},
   "outputs": [
    {
     "data": {
      "application/vnd.jupyter.widget-view+json": {
       "model_id": "1e33d95407514c279b531392e337ed63",
       "version_major": 2,
       "version_minor": 0
      },
      "text/plain": [
       "VBox(children=(VBox(children=(FloatText(value=50.0, description='Grid Resolution (m)', style=DescriptionStyle(…"
      ]
     },
     "metadata": {},
     "output_type": "display_data"
    }
   ],
   "source": [
    "app.window_selection"
   ]
  },
  {
   "cell_type": "markdown",
   "id": "surface-rider",
   "metadata": {},
   "source": [
    "See the [Map View Selection](view_selection.ipynb#Map-View-Selection) page for more details."
   ]
  },
  {
   "cell_type": "markdown",
   "id": "angry-origin",
   "metadata": {},
   "source": [
    "## Data Channel Options\n",
    "\n",
    "Define geophysical data."
   ]
  },
  {
   "cell_type": "markdown",
   "id": "ruled-characteristic",
   "metadata": {},
   "source": [
    "### Survey Type\n",
    "\n",
    "List of available survey types."
   ]
  },
  {
   "cell_type": "code",
   "execution_count": 5,
   "id": "activated-retirement",
   "metadata": {},
   "outputs": [
    {
     "data": {
      "application/vnd.jupyter.widget-view+json": {
       "model_id": "29f5d5d7642d41daaae5fb16b970c37b",
       "version_major": 2,
       "version_minor": 0
      },
      "text/plain": [
       "Dropdown(description='Survey Type: ', options=('MVI', 'Magnetics', 'Gravity', 'AeroTEM (2007)', 'AeroTEM (2010…"
      ]
     },
     "metadata": {},
     "output_type": "display_data"
    }
   ],
   "source": [
    "app.system"
   ]
  },
  {
   "cell_type": "markdown",
   "id": "accomplished-voice",
   "metadata": {},
   "source": [
    "The application will attempt to assign the correct system based on\n",
    "known data field name (e.g. *CPI* => *DIGHEM*).\n",
    "\n",
    "#### Inducing field parameters\n",
    "\n",
    "For magnetic data only, set the inducing field parameters:"
   ]
  },
  {
   "cell_type": "code",
   "execution_count": 6,
   "id": "intellectual-millennium",
   "metadata": {},
   "outputs": [
    {
     "data": {
      "application/vnd.jupyter.widget-view+json": {
       "model_id": "16c29548864445869af05713358f7f67",
       "version_major": 2,
       "version_minor": 0
      },
      "text/plain": [
       "Text(value='60000, 79, 11', description='Inducing Field [Amp, Inc, Dec]', style=DescriptionStyle(description_w…"
      ]
     },
     "metadata": {},
     "output_type": "display_data"
    }
   ],
   "source": [
    "app.inducing_field\n"
   ]
  },
  {
   "cell_type": "markdown",
   "id": "final-seeker",
   "metadata": {},
   "source": [
    "### Channel Options\n",
    "\n",
    "Set parameters to invividual [Data](#Object/Data-Selection) channels."
   ]
  },
  {
   "cell_type": "code",
   "execution_count": 7,
   "id": "baking-running",
   "metadata": {},
   "outputs": [
    {
     "data": {
      "application/vnd.jupyter.widget-view+json": {
       "model_id": "6564fc3eef7d4f889808452e1064cb81",
       "version_major": 2,
       "version_minor": 0
      },
      "text/plain": [
       "VBox(children=(Checkbox(value=True, description='Active', style=DescriptionStyle(description_width='initial'))…"
      ]
     },
     "metadata": {},
     "output_type": "display_data"
    }
   ],
   "source": [
    "app.data_channel_choices.data_channel_options['tmi']"
   ]
  },
  {
   "cell_type": "markdown",
   "id": "annoying-comedy",
   "metadata": {},
   "source": [
    "#### Active\n",
    "\n",
    "Checked if the channel is to be used in the inversion\n",
    "\n",
    "#### Data channel:\n",
    "\n",
    "Association between the \"data channel\" and one of the expected \"system channel\".\n",
    "\n",
    "#### Error (%, floor)\n",
    "\n",
    "Estimated data uncertainties associated with the data channel, expressed as a\n",
    "percent (decimal) and floor value. \n",
    "\n",
    "As an example for magnetic data: 0.1, 1 => $0.1 * |d_{tmi}| + 1\\;nT$\n",
    "\n",
    "#### Offsets (EM systems)\n",
    "\n",
    "Determine the constant offsets, in meters, between the receiver and the transmitter center location. \n",
    "\n",
    "Used for the numerical forward calculations. "
   ]
  },
  {
   "cell_type": "markdown",
   "id": "artificial-madness",
   "metadata": {},
   "source": [
    "## Topography, Sensor and Line Options"
   ]
  },
  {
   "cell_type": "code",
   "execution_count": 8,
   "id": "interim-happiness",
   "metadata": {},
   "outputs": [
    {
     "data": {
      "application/vnd.jupyter.widget-view+json": {
       "model_id": "5a70489d23e248aeb9e7a3b8c7cd28cc",
       "version_major": 2,
       "version_minor": 0
      },
      "text/plain": [
       "Dropdown(options=('Topography', 'Sensor'), value='Topography')"
      ]
     },
     "metadata": {},
     "output_type": "display_data"
    }
   ],
   "source": [
    "app.spatial_choices"
   ]
  },
  {
   "cell_type": "markdown",
   "id": "earlier-verse",
   "metadata": {},
   "source": [
    "### Topography\n",
    "\n",
    "Set the air/ground interface of the inversion model."
   ]
  },
  {
   "cell_type": "code",
   "execution_count": 9,
   "id": "robust-prior",
   "metadata": {},
   "outputs": [
    {
     "data": {
      "application/vnd.jupyter.widget-view+json": {
       "model_id": "85f14378f33143f482964246f714d61c",
       "version_major": 2,
       "version_minor": 0
      },
      "text/plain": [
       "VBox(children=(RadioButtons(description='Define by:', options=('Object', 'Relative to Sensor', 'Constant'), va…"
      ]
     },
     "metadata": {},
     "output_type": "display_data"
    }
   ],
   "source": [
    "app.topography.main"
   ]
  },
  {
   "cell_type": "markdown",
   "id": "atmospheric-globe",
   "metadata": {},
   "source": [
    "#### Object\n",
    "\n",
    "Set the topography based on an object stored in the target `geoh5` project. The Z value of the cells/vertices can be assigned based on a chosen `Data` field.\n",
    "\n",
    "#### Relative to Sensor\n",
    "\n",
    "Topography is defined by a fixed vertical offset from a selected object position (vertices or centroids), also referred to as a \"draped height\".\n",
    "\n",
    "#### Constant\n",
    "\n",
    "Topography is defined as a flat surface with constant elevation."
   ]
  },
  {
   "cell_type": "markdown",
   "id": "governing-emperor",
   "metadata": {},
   "source": [
    "### Sensor\n",
    "\n",
    "Defines the sensors position in 3D space."
   ]
  },
  {
   "cell_type": "code",
   "execution_count": 10,
   "id": "threatened-athens",
   "metadata": {},
   "outputs": [
    {
     "data": {
      "application/vnd.jupyter.widget-view+json": {
       "model_id": "14266968de3d4b2698bc25d4f7e42e8d",
       "version_major": 2,
       "version_minor": 0
      },
      "text/plain": [
       "VBox(children=(RadioButtons(description='Define by:', index=1, options=('sensor location + (dx, dy, dz)', 'top…"
      ]
     },
     "metadata": {},
     "output_type": "display_data"
    }
   ],
   "source": [
    "app.sensor.main"
   ]
  },
  {
   "cell_type": "markdown",
   "id": "expired-lesbian",
   "metadata": {},
   "source": [
    "#### Sensor Location\n",
    "\n",
    "Sensor position defined by a constant offset from the vertices of the selected\n",
    "object. Typically used for towed system where the GPS receiver is on the\n",
    "aircraft.\n",
    "\n",
    "#### Topo and radar\n",
    "\n",
    "Receiver locations defined by the vertices horizontal positions [x, y] and z value\n",
    "interpolated from topography + clearance height. Typically used for gridded\n",
    "data with constant draped height or for airborne survey with inaccurate GPS\n",
    "elevation (radar height)."
   ]
  },
  {
   "cell_type": "markdown",
   "id": "fatal-machinery",
   "metadata": {},
   "source": [
    "### Line ID\n",
    "\n",
    "**(EM only)**: Line channel and line number to be inverted."
   ]
  },
  {
   "cell_type": "code",
   "execution_count": 11,
   "id": "referenced-association",
   "metadata": {},
   "outputs": [
    {
     "data": {
      "application/vnd.jupyter.widget-view+json": {
       "model_id": "3c5bccf20b24411bab4de4813ffbe3f5",
       "version_major": 2,
       "version_minor": 0
      },
      "text/plain": [
       "VBox(children=(Dropdown(description='Lines field', options=('', '--- Channels ---', 'Airborne_Gxx', 'Airborne_…"
      ]
     },
     "metadata": {},
     "output_type": "display_data"
    }
   ],
   "source": [
    "app.lines.main"
   ]
  },
  {
   "cell_type": "markdown",
   "id": "victorian-tiffany",
   "metadata": {},
   "source": [
    "## Inversion Options\n",
    "\n",
    "List of parameters controlling the inversion."
   ]
  },
  {
   "cell_type": "code",
   "execution_count": 12,
   "id": "incorrect-bidding",
   "metadata": {},
   "outputs": [
    {
     "data": {
      "application/vnd.jupyter.widget-view+json": {
       "model_id": "3974086156874440910e082b9d4528e7",
       "version_major": 2,
       "version_minor": 0
      },
      "text/plain": [
       "VBox(children=(HBox(children=(Label(value='Inversion Options'),)), HBox(children=(Dropdown(options=('output na…"
      ]
     },
     "metadata": {},
     "output_type": "display_data"
    }
   ],
   "source": [
    "app.inversion_parameters.main"
   ]
  },
  {
   "cell_type": "markdown",
   "id": "executive-revolution",
   "metadata": {},
   "source": [
    "### Output Name\n",
    "\n",
    "Name given to the inversion group added to the ANALYST project."
   ]
  },
  {
   "cell_type": "markdown",
   "id": "worse-norman",
   "metadata": {},
   "source": [
    "### Target Misfit\n",
    "\n",
    "Target data misfit where 1 = number of data"
   ]
  },
  {
   "cell_type": "code",
   "execution_count": 13,
   "id": "divine-trademark",
   "metadata": {},
   "outputs": [
    {
     "data": {
      "application/vnd.jupyter.widget-view+json": {
       "model_id": "d2a5276322394a8882a91b58f89f60c5",
       "version_major": 2,
       "version_minor": 0
      },
      "text/plain": [
       "FloatText(value=1.0, description='Target misfit')"
      ]
     },
     "metadata": {},
     "output_type": "display_data"
    }
   ],
   "source": [
    "app.inversion_parameters.chi_factor"
   ]
  },
  {
   "cell_type": "markdown",
   "id": "intensive-calgary",
   "metadata": {},
   "source": [
    "### Uncertainty mode\n",
    "\n",
    "(EM Only) Global change to the data uncertainties "
   ]
  },
  {
   "cell_type": "code",
   "execution_count": 14,
   "id": "interstate-composer",
   "metadata": {},
   "outputs": [
    {
     "data": {
      "application/vnd.jupyter.widget-view+json": {
       "model_id": "26a7cf1ece9146328f07e3d06ff0d0b8",
       "version_major": 2,
       "version_minor": 0
      },
      "text/plain": [
       "RadioButtons(index=1, options=('Estimated (%|data| + background)', 'User input (%|data| + floor)'), value='Use…"
      ]
     },
     "metadata": {},
     "output_type": "display_data"
    }
   ],
   "source": [
    "app.inversion_parameters.uncert_mode"
   ]
  },
  {
   "cell_type": "markdown",
   "id": "unusual-jewel",
   "metadata": {},
   "source": [
    "**Estimated** Floor uncertainties re-assgined based on the best-fitting halfspace model. Useful when dealing with fast time domain decays due to IP effects.\n",
    "\n",
    "**User Input** (Default) Keep the same uncertainties as defined in the [Channel Options](#Channel-Options) "
   ]
  },
  {
   "cell_type": "markdown",
   "id": "traditional-latino",
   "metadata": {},
   "source": [
    "### Starting Model\n",
    "\n",
    "Initial model used to begin the inversion.\n"
   ]
  },
  {
   "cell_type": "code",
   "execution_count": 15,
   "id": "attractive-canvas",
   "metadata": {},
   "outputs": [
    {
     "data": {
      "application/vnd.jupyter.widget-view+json": {
       "model_id": "78e064d87dfd4b988f193a468c95cca8",
       "version_major": 2,
       "version_minor": 0
      },
      "text/plain": [
       "VBox(children=(Label(value='Starting effective susceptibility'), VBox(children=(RadioButtons(index=1, options=…"
      ]
     },
     "metadata": {},
     "output_type": "display_data"
    }
   ],
   "source": [
    "app.inversion_parameters.starting_model.main"
   ]
  },
  {
   "cell_type": "markdown",
   "id": "authentic-payroll",
   "metadata": {},
   "source": [
    "#### Model\n",
    "\n",
    "Model object and values selected from any `Points`, `Curve`, `Surface`, `BlockModel` or `Octree` object.\n",
    "Values are interpolated onto the inversion mesh using a nearest neighbor approach.\n",
    "\n",
    "#### Constant\n",
    "\n",
    "Constant background half-space value."
   ]
  },
  {
   "cell_type": "markdown",
   "id": "regulation-alliance",
   "metadata": {},
   "source": [
    "### Susceptibility model \n",
    "\n",
    "**(FEM Only)**\n",
    "\n",
    "Susceptibility values used in the forward calculations only."
   ]
  },
  {
   "cell_type": "code",
   "execution_count": 16,
   "id": "median-pillow",
   "metadata": {},
   "outputs": [
    {
     "data": {
      "application/vnd.jupyter.widget-view+json": {
       "model_id": "54d6db8fba074171b465f6453cf70aee",
       "version_major": 2,
       "version_minor": 0
      },
      "text/plain": [
       "VBox(children=(Label(value='Background susceptibility', style=DescriptionStyle(description_width='initial')), …"
      ]
     },
     "metadata": {},
     "output_type": "display_data"
    }
   ],
   "source": [
    "app.inversion_parameters.susceptibility_model.main"
   ]
  },
  {
   "cell_type": "markdown",
   "id": "close-ranch",
   "metadata": {},
   "source": [
    "#### None\n",
    "\n",
    "No susceptibility model used.\n",
    "\n",
    "#### Model\n",
    "\n",
    "Susceptibitlity model selected from any `Points`, `Curve`, `Surface`, `BlockModel` or `Octree` object.\n",
    "Values are interpolated onto the inversion mesh using a nearest neighbor approach.\n",
    "\n",
    "#### Constant\n",
    "\n",
    "Constant susceptibility half-space value."
   ]
  },
  {
   "cell_type": "markdown",
   "id": "sophisticated-garden",
   "metadata": {},
   "source": [
    "### Regularization\n",
    "\n",
    "See the [Regularization Panel](#Regularization-Panel) section."
   ]
  },
  {
   "cell_type": "markdown",
   "id": "pacific-realtor",
   "metadata": {},
   "source": [
    "### Upper-Lower Bounds\n",
    "\n",
    "Upper and lower bound constraints applied on physical property model."
   ]
  },
  {
   "cell_type": "code",
   "execution_count": 17,
   "id": "liable-license",
   "metadata": {},
   "outputs": [
    {
     "data": {
      "application/vnd.jupyter.widget-view+json": {
       "model_id": "98b4dbaedd8349c1a760496e1bed8030",
       "version_major": 2,
       "version_minor": 0
      },
      "text/plain": [
       "VBox(children=(Text(value='', description='Upper bound value'), Text(value='', description='Lower bound value'…"
      ]
     },
     "metadata": {},
     "output_type": "display_data"
    }
   ],
   "source": [
    "app.inversion_parameters.bound_panel"
   ]
  },
  {
   "cell_type": "markdown",
   "id": "amber-migration",
   "metadata": {},
   "source": [
    "If left empty, the inversion uses [$-\\infty$, $\\infty$] physical property bounds."
   ]
  },
  {
   "cell_type": "markdown",
   "id": "split-delight",
   "metadata": {},
   "source": [
    "### Mesh\n",
    "\n",
    "See the [Mesh Design](#Mesh-Design) section."
   ]
  },
  {
   "cell_type": "markdown",
   "id": "preliminary-element",
   "metadata": {},
   "source": [
    "### Ignore Values\n",
    "\n",
    "#### Data\n",
    "\n",
    "Flag value ignored by the inversion by assigning $\\infty$ uncertainties on the data points."
   ]
  },
  {
   "cell_type": "code",
   "execution_count": 18,
   "id": "lesbian-crawford",
   "metadata": {},
   "outputs": [
    {
     "data": {
      "application/vnd.jupyter.widget-view+json": {
       "model_id": "5e50b84872c9441d9b84c15546a669fd",
       "version_major": 2,
       "version_minor": 0
      },
      "text/plain": [
       "Text(value='-99999', description='Data (i.e. <0 = no negatives)')"
      ]
     },
     "metadata": {},
     "output_type": "display_data"
    }
   ],
   "source": [
    "app.inversion_parameters.ignore_values"
   ]
  },
  {
   "cell_type": "markdown",
   "id": "biological-welcome",
   "metadata": {},
   "source": [
    "#### Air cells\n",
    "\n",
    "Value assigned to the output model cells above topography. Defaults to $10^{-8}$ S/m for EM inversions"
   ]
  },
  {
   "cell_type": "code",
   "execution_count": 19,
   "id": "stock-conviction",
   "metadata": {},
   "outputs": [
    {
     "data": {
      "application/vnd.jupyter.widget-view+json": {
       "model_id": "e0a7f9f7a19146c49814ad7bc4e576cc",
       "version_major": 2,
       "version_minor": 0
      },
      "text/plain": [
       "FloatText(value=0.0, description='Air cells fill value')"
      ]
     },
     "metadata": {},
     "output_type": "display_data"
    }
   ],
   "source": [
    "app.inversion_parameters.air_values"
   ]
  },
  {
   "cell_type": "markdown",
   "id": "flying-style",
   "metadata": {},
   "source": [
    "### Optimization\n",
    "\n",
    "Parameters controlling various aspects of the projected Gauss-Newton inversion algorithm."
   ]
  },
  {
   "cell_type": "code",
   "execution_count": 20,
   "id": "junior-devices",
   "metadata": {},
   "outputs": [
    {
     "data": {
      "application/vnd.jupyter.widget-view+json": {
       "model_id": "f6f8fb5edc994eb28bb1f64364606713",
       "version_major": 2,
       "version_minor": 0
      },
      "text/plain": [
       "VBox(children=(IntText(value=25, description='Max beta Iterations', style=DescriptionStyle(description_width='…"
      ]
     },
     "metadata": {},
     "output_type": "display_data"
    }
   ],
   "source": [
    "app.inversion_parameters.optimization"
   ]
  },
  {
   "cell_type": "markdown",
   "id": "pleased-respondent",
   "metadata": {},
   "source": [
    "#### Max beta Iterations\n",
    "\n",
    "Maximum number of $\\beta$-iterations allowed.\n",
    "Note that when applying sparse norms, the inversion may require $>20$ iterations to converge.\n",
    "\n",
    "\n",
    "#### Target misfit\n",
    "\n",
    "Target data misfit where $\\chi=1$ corresponds to $\\phi_d=N$ (number of data). (See [Data Misfit and Uncertainties](https://giftoolscookbook.readthedocs.io/en/latest/content/fundamentals/Uncertainties.html#data-misfit-and-uncertainties))\n",
    "\n",
    "\n",
    "#### Starting trade-off ($\\beta$)\n",
    "\n",
    "**ratio**: Factor multiplying the initial $\\beta$ defined by the ratio between the initial misfit and regularization:\n",
    "\n",
    "\\begin{equation}\n",
    "\\beta_0 = \\gamma * \\frac{\\phi_d}{ \\phi_m}\n",
    "\\end{equation}\n",
    "\n",
    "**value**: Fixed $\\beta$ value specified by the user.\n",
    "\n",
    "#### Max CG Iterations\n",
    "\n",
    "Maximum number of Conjugate Gradient (CG) iterations per Gauss-Newton solve.\n",
    "\n",
    "\n",
    "#### CG Tolerance\n",
    "\n",
    "Threshold on the minimum Conjugate Gradient (CG) step to end the Gauss-Newton solve.\n",
    "\n",
    "\n",
    "#### Max CPUs\n",
    "\n",
    "Maximum number of threads used for the parallelization. Defaults to half the system thread count.\n",
    "\n",
    "\n",
    "#### Max RAM (Gb)\n",
    "\n",
    "Approximate memory (RAM) used during the inversion. The value is used to calculate the chunk size for the storage of the sensitivity matrix on solid-state drive.\n",
    "(See [dask.array.to_zarr](https://docs.dask.org/en/latest/array-api.html#dask.array.to_zarr))\n"
   ]
  },
  {
   "cell_type": "markdown",
   "id": "handed-journalism",
   "metadata": {},
   "source": [
    "## Regularization Panel\n",
    "\n",
    "Parameters controlling the regularization function."
   ]
  },
  {
   "cell_type": "markdown",
   "id": "russian-evidence",
   "metadata": {},
   "source": [
    "### Reference model\n",
    "\n",
    "Reference model values used to contrain the inversion."
   ]
  },
  {
   "cell_type": "code",
   "execution_count": 21,
   "id": "linear-climb",
   "metadata": {},
   "outputs": [
    {
     "data": {
      "application/vnd.jupyter.widget-view+json": {
       "model_id": "59de52258ccd4de784f26a5efe6a6e05",
       "version_major": 2,
       "version_minor": 0
      },
      "text/plain": [
       "VBox(children=(Label(value='Reference effective susceptibility'), VBox(children=(RadioButtons(index=2, options…"
      ]
     },
     "metadata": {},
     "output_type": "display_data"
    }
   ],
   "source": [
    "app.inversion_parameters.reference_model.main"
   ]
  },
  {
   "cell_type": "markdown",
   "id": "obvious-advertiser",
   "metadata": {},
   "source": [
    "#### None\n",
    "\n",
    "No reference model used. This is equivalent as setting the [Alphas](#Alpha-Parameters) `s` parameter to zero.\n",
    "\n",
    "#### Model\n",
    "\n",
    "Reference model selected from any `Points`, `Curve`, `Surface`, `BlockModel` or `Octree` object.\n",
    "Values are interpolated onto the inversion mesh using a nearest neighbor approach.\n",
    "\n",
    "#### Constant\n",
    "\n",
    "Constant reference half-space value.\n",
    "\n",
    "#### Best-fitting halfspace\n",
    "\n",
    "**(EM only)** Run a preliminary inversion to determine a best-fitting halfspace\n",
    "(single conductivity value) at each data station."
   ]
  },
  {
   "cell_type": "markdown",
   "id": "differential-fifth",
   "metadata": {},
   "source": [
    "### Alpha Parameters\n",
    "\n",
    "Scaling between the components of the regularization function."
   ]
  },
  {
   "cell_type": "code",
   "execution_count": 22,
   "id": "metric-southwest",
   "metadata": {},
   "outputs": [
    {
     "data": {
      "application/vnd.jupyter.widget-view+json": {
       "model_id": "5e0a30548af845d7b2387c7022d03c2e",
       "version_major": 2,
       "version_minor": 0
      },
      "text/plain": [
       "Text(value='1.0, 1.0, 1.0, 1.0', description='Scaling alpha_(s, x, y, z)')"
      ]
     },
     "metadata": {},
     "output_type": "display_data"
    }
   ],
   "source": [
    "app.inversion_parameters.alphas\n"
   ]
  },
  {
   "cell_type": "markdown",
   "id": "empty-meeting",
   "metadata": {},
   "source": [
    "See the [SimPEG.API](https://docs.simpeg.xyz/content/api_core/api_Regularization.html#SimPEG.regularization.Simple) for technical details."
   ]
  },
  {
   "cell_type": "markdown",
   "id": "intimate-fisher",
   "metadata": {},
   "source": [
    "### $l_p$-norms\n",
    "\n",
    "Approximated norms applied to the components of the regularization."
   ]
  },
  {
   "cell_type": "code",
   "execution_count": 23,
   "id": "potential-fifth",
   "metadata": {},
   "outputs": [
    {
     "data": {
      "application/vnd.jupyter.widget-view+json": {
       "model_id": "b392cd5a872f448aa093561badfcd286",
       "version_major": 2,
       "version_minor": 0
      },
      "text/plain": [
       "Text(value='0, 2, 2, 2', continuous_update=False, description='Norms p_(s, x, y, z)', style=DescriptionStyle(d…"
      ]
     },
     "metadata": {},
     "output_type": "display_data"
    }
   ],
   "source": [
    "app.inversion_parameters.norms\n"
   ]
  },
  {
   "cell_type": "markdown",
   "id": "middle-sweet",
   "metadata": {},
   "source": [
    "See notes on [Sparse and Blocky Norms](https://giftoolscookbook.readthedocs.io/en/latest/content/fundamentals/Norms.html#sparse-and-blocky-norms) for technical details."
   ]
  },
  {
   "cell_type": "markdown",
   "id": "spiritual-coating",
   "metadata": {},
   "source": [
    "## Mesh Design\n",
    "\n",
    "Definition of the grid containing the physical property model.\n",
    "\n",
    "### Octree Mesh\n",
    "\n",
    "**(Gravity and magnetics)**\n",
    "\n",
    "Parameters used for the construction of a global `Octree` mesh."
   ]
  },
  {
   "cell_type": "code",
   "execution_count": 24,
   "id": "committed-genealogy",
   "metadata": {},
   "outputs": [
    {
     "data": {
      "application/vnd.jupyter.widget-view+json": {
       "model_id": "871d100aedc44edcb7e515f62f192a99",
       "version_major": 2,
       "version_minor": 0
      },
      "text/plain": [
       "VBox(children=(Label(value='Octree Mesh'), Text(value='25, 25, 25', description='Smallest cells', style=Descri…"
      ]
     },
     "metadata": {},
     "output_type": "display_data"
    }
   ],
   "source": [
    "app.inversion_parameters.mesh.main"
   ]
  },
  {
   "cell_type": "markdown",
   "id": "resistant-albert",
   "metadata": {},
   "source": [
    "#### Smallest cells\n",
    "\n",
    "Dimensions (x,y,z) of the smallest octree cells.\n",
    "\n",
    "\n",
    "####  Layers below topography\n",
    "\n",
    "\n",
    "Number of layers of cells at each octree level below the topography surface.\n",
    "As topography generally extends further, it is common practice to use only\n",
    "coarse cells once outside of the survey area.\n",
    "\n",
    "\n",
    "####  Layers below data\n",
    "\n",
    "Number of layers of cells at each octree level below the observation points.\n",
    "\n",
    "\n",
    "####  Minimum depth\n",
    "\n",
    "\n",
    "Minimum depth (m) of the mesh, rounded up to the next power of 2.\n",
    "\n",
    "\n",
    "####  Padding [W,E,N,S,D,U]\n",
    "\n",
    "Additional padding distance (m) along West, East, North, South, Down and Up,\n",
    "chosen by default to be half of the data extent in each direction. Additional\n",
    "padding can be added at depth, but it is recommended to set it through the\n",
    "[Minimum depth](#Minimum-depth) parameter.\n",
    "\n",
    "\n",
    "#### Max triangulation length\n",
    "\n",
    "\n",
    "Parameter controlling the Delaunay triangulation used for the refinement of\n",
    "the mesh around topography and observation points. Large triangles generated\n",
    "between points far apart are filtered out, reducing the number of small cells\n",
    "in regions without data."
   ]
  },
  {
   "cell_type": "markdown",
   "id": "variable-arrival",
   "metadata": {},
   "source": [
    " <img align=\"center\" width=\"50%\" src=\"./images/Octree_refinement.png\">"
   ]
  },
  {
   "cell_type": "markdown",
   "id": "developmental-ebony",
   "metadata": {},
   "source": [
    "### 1D Mesh\n",
    "\n",
    "**(EM 1D only)**\n",
    "\n",
    "For the laterally constrained 1D inversion (time or frequency), the earth is\n",
    "discretized into layer models connected by the regularization function. The\n",
    "following parameters define the 1D mesh repeated below each transmitter/receiver pairs"
   ]
  },
  {
   "cell_type": "code",
   "execution_count": 25,
   "id": "special-camcorder",
   "metadata": {},
   "outputs": [
    {
     "data": {
      "application/vnd.jupyter.widget-view+json": {
       "model_id": "e5f901216c504e368498907f20ca6152",
       "version_major": 2,
       "version_minor": 0
      },
      "text/plain": [
       "VBox(children=(Label(value='1D Mesh'), FloatText(value=10.0, description='Smallest cell (m):', style=Descripti…"
      ]
     },
     "metadata": {},
     "output_type": "display_data"
    }
   ],
   "source": [
    "app.mesh_1D.main"
   ]
  },
  {
   "cell_type": "markdown",
   "id": "coordinate-flush",
   "metadata": {},
   "source": [
    "#### Smallest cell (m)\n",
    "\n",
    "Smallest layer at the top of the 1D mesh.\n",
    "\n",
    "\n",
    "#### Expansion factor\n",
    "\n",
    "Rate of cell expansion from the smallest cell size.\n",
    "\n",
    "\n",
    "#### Number of cells\n",
    "\n",
    "Total number of layers below each station.\n",
    "\n",
    "\n",
    "#### Max depth\n",
    "\n",
    "Returns the full depth of the 1D mesh given the parameters selected above."
   ]
  },
  {
   "cell_type": "markdown",
   "id": "smart-notebook",
   "metadata": {},
   "source": [
    "## Output panel\n",
    "\n",
    "Specify the working directory where the inversion occurs. For gravity and magnetic data inversion, it is **highly recommended** to chose a location on a **solid-state drive (SSD)** to fully take advantage of the `Dask` parallelization."
   ]
  },
  {
   "cell_type": "code",
   "execution_count": 26,
   "id": "referenced-buffalo",
   "metadata": {},
   "outputs": [
    {
     "data": {
      "application/vnd.jupyter.widget-view+json": {
       "model_id": "a372ae2086f34172935c099cfc40887f",
       "version_major": 2,
       "version_minor": 0
      },
      "text/plain": [
       "VBox(children=(FileChooser(path='C:\\Users\\dominiquef\\Documents\\GIT\\mira\\mirageoscience-apps\\docs\\content\\appli…"
      ]
     },
     "metadata": {},
     "output_type": "display_data"
    }
   ],
   "source": [
    "app.output_panel"
   ]
  },
  {
   "cell_type": "markdown",
   "id": "valuable-peter",
   "metadata": {},
   "source": [
    "**Write inpute**: Click to write the input parameters to a `*.json` file\n",
    "\n",
    "**Run SimPEG**: Launch the inversion routine. Results will be written directly to the target `geoh5` project.\n",
    "\n",
    "### Command line execution\n",
    "\n",
    "Alternatively, the inversion can be launched on a different computer from command line:\n",
    "\n",
    "`activate geoapps`\n",
    "\n",
    "`python -m geoapps.pf_inversion [Name].json`\n",
    "\n",
    "This assumes that the geoapps have been installed and that the reference `*.json` and `*.geoh5` project are accessible."
   ]
  },
  {
   "cell_type": "code",
   "execution_count": 27,
   "id": "hairy-seeking",
   "metadata": {
    "nbsphinx": "hidden"
   },
   "outputs": [],
   "source": [
    "import matplotlib.pyplot as plt\n",
    "app.figure.savefig(\"images/inversion_thumbnail.png\", dpi=300, bbox_inches=\"tight\")"
   ]
  }
 ],
 "metadata": {
  "kernelspec": {
   "display_name": "Python 3",
   "language": "python",
   "name": "python3"
  },
  "language_info": {
   "codemirror_mode": {
    "name": "ipython",
    "version": 3
   },
   "file_extension": ".py",
   "mimetype": "text/x-python",
   "name": "python",
   "nbconvert_exporter": "python",
   "pygments_lexer": "ipython3",
   "version": "3.7.10"
  },
  "widgets": {
   "application/vnd.jupyter.widget-state+json": {
    "state": {
     "0013c9bb6e0840018a1cc75425fa757e": {
      "model_module": "@jupyter-widgets/controls",
      "model_module_version": "1.5.0",
      "model_name": "CheckboxModel",
      "state": {
       "description": "GA Pro - Live link",
       "disabled": false,
       "indent": false,
       "layout": "IPY_MODEL_3a1dfef538c0444bbefdb29c87ffab80",
       "style": "IPY_MODEL_c3249c4fc00c4f1aaf58dc64e67d7b15",
       "value": false
      }
     },
     "0020ab33f06b4b9795033d56aa2aa705": {
      "model_module": "@jupyter-widgets/controls",
      "model_module_version": "1.5.0",
      "model_name": "DescriptionStyleModel",
      "state": {
       "description_width": ""
      }
     },
     "0053c2a3a6ba4014aa98ec3377ebeb97": {
      "model_module": "@jupyter-widgets/controls",
      "model_module_version": "1.5.0",
      "model_name": "GridBoxModel",
      "state": {
       "children": [
        "IPY_MODEL_8ba30e7ed730424ba851805a8d6dc649",
        "IPY_MODEL_0d81498600ad4f9a8212b9e3c5b302ac",
        "IPY_MODEL_dacc2c62f77042c79bf0d2528a231692"
       ],
       "layout": "IPY_MODEL_19ce7354d55a40a58e86df5c03b651b7"
      }
     },
     "00b541a96b824baf9e99e4be85f6b27b": {
      "model_module": "@jupyter-widgets/base",
      "model_module_version": "1.2.0",
      "model_name": "LayoutModel",
      "state": {}
     },
     "00ecc15a34534b33aea67718cc925166": {
      "model_module": "@jupyter-widgets/controls",
      "model_module_version": "1.5.0",
      "model_name": "VBoxModel",
      "state": {
       "children": [
        "IPY_MODEL_72cc9a1b76cf47109d8bb44e10ffd034",
        "IPY_MODEL_5f634438f670439e973b650d394ee19f",
        "IPY_MODEL_a7a72259dfc84dcfbf0879e600a24600"
       ],
       "layout": "IPY_MODEL_452c57cb0bc84ad886e36de147fdde72"
      }
     },
     "017cba3135e9453b9876f50b659729a6": {
      "model_module": "@jupyter-widgets/controls",
      "model_module_version": "1.5.0",
      "model_name": "HTMLModel",
      "state": {
       "layout": "IPY_MODEL_7087c324a4644466ae46c49466e72996",
       "style": "IPY_MODEL_ae24dc6a8a0645969e9f5b6c6f6187ad"
      }
     },
     "01c796adc8474b6e9a6b4d19b559a230": {
      "model_module": "@jupyter-widgets/controls",
      "model_module_version": "1.5.0",
      "model_name": "TextModel",
      "state": {
       "disabled": true,
       "layout": "IPY_MODEL_7c3ae66d72b6484eb473b98b28d00318",
       "placeholder": "output filename",
       "style": "IPY_MODEL_aa931c098caa4eb79760c63112675bf9"
      }
     },
     "01cacd5cf0b24332a9b16a9f6479dcf5": {
      "model_module": "@jupyter-widgets/base",
      "model_module_version": "1.2.0",
      "model_name": "LayoutModel",
      "state": {}
     },
     "01d8661b56224064987690f57cff59f0": {
      "model_module": "@jupyter-widgets/controls",
      "model_module_version": "1.5.0",
      "model_name": "DescriptionStyleModel",
      "state": {
       "description_width": ""
      }
     },
     "01dfc78b3ebd4d058ed78f2aa9702efb": {
      "model_module": "@jupyter-widgets/base",
      "model_module_version": "1.2.0",
      "model_name": "LayoutModel",
      "state": {
       "width": "auto"
      }
     },
     "01f461d7dbd8426f86ea710147e2e1f3": {
      "model_module": "@jupyter-widgets/controls",
      "model_module_version": "1.5.0",
      "model_name": "TextModel",
      "state": {
       "description": "Lower bound value",
       "layout": "IPY_MODEL_394faa94dff54452a916c18672a22690",
       "style": "IPY_MODEL_11f7ec289f6b4f2da76e3be0d1a6fb8b"
      }
     },
     "02678964edf3486899234d891de574f1": {
      "model_module": "@jupyter-widgets/base",
      "model_module_version": "1.2.0",
      "model_name": "LayoutModel",
      "state": {
       "width": "auto"
      }
     },
     "02a5061a8fcc4789979224378af381c7": {
      "model_module": "@jupyter-widgets/controls",
      "model_module_version": "1.5.0",
      "model_name": "TextModel",
      "state": {
       "description": "Upper bound value",
       "layout": "IPY_MODEL_69d7ac0d29a8478e9426d3da57fc88d6",
       "style": "IPY_MODEL_14dc088061934f79b6c3f1ee17ea0a05"
      }
     },
     "02b5bab9c4df4126a7d873974d0529fe": {
      "model_module": "@jupyter-widgets/base",
      "model_module_version": "1.2.0",
      "model_name": "LayoutModel",
      "state": {}
     },
     "02d45e0b77954b128d4f15ca7f34c813": {
      "model_module": "@jupyter-widgets/base",
      "model_module_version": "1.2.0",
      "model_name": "LayoutModel",
      "state": {}
     },
     "02ef0097c1df466da18c920473cdfeb8": {
      "model_module": "@jupyter-widgets/controls",
      "model_module_version": "1.5.0",
      "model_name": "VBoxModel",
      "state": {
       "children": [
        "IPY_MODEL_ebadbc39623d46a1b0e9e15386ecce8c",
        "IPY_MODEL_3fbe6446ea7c4d9da6cad71e11009ecc",
        "IPY_MODEL_9be924d7637f4bea9bb97d76b3a67a74",
        "IPY_MODEL_fd7c15ba3e4e41bd961677f16ae43349",
        "IPY_MODEL_2f9c35da62e142d499631c3ea7df6dc0"
       ],
       "layout": "IPY_MODEL_b92446fdff644014a62e75242938f5ab"
      }
     },
     "0331cc8f13764fa3bbee094a00ae13d7": {
      "model_module": "@jupyter-widgets/controls",
      "model_module_version": "1.5.0",
      "model_name": "DescriptionStyleModel",
      "state": {
       "description_width": ""
      }
     },
     "0344184f2cba4eb595ec251eaf622056": {
      "model_module": "@jupyter-widgets/controls",
      "model_module_version": "1.5.0",
      "model_name": "DescriptionStyleModel",
      "state": {
       "description_width": ""
      }
     },
     "038197cce37846bf968b5f0dff78e76b": {
      "model_module": "@jupyter-widgets/controls",
      "model_module_version": "1.5.0",
      "model_name": "ButtonStyleModel",
      "state": {}
     },
     "03eb75440c5740db9c3104f4ac00c799": {
      "model_module": "@jupyter-widgets/controls",
      "model_module_version": "1.5.0",
      "model_name": "HTMLModel",
      "state": {
       "layout": "IPY_MODEL_22c3e371586a4ede9e636146fc3345e9",
       "placeholder": "",
       "style": "IPY_MODEL_eca9103955ae4aa58c6464c64c68e5f6",
       "value": "<span style=\"margin-left:10px; color:black;\">No file selected</span>"
      }
     },
     "03f256f8e71046dcbde37d83cb401acd": {
      "model_module": "@jupyter-widgets/controls",
      "model_module_version": "1.5.0",
      "model_name": "TextModel",
      "state": {
       "disabled": true,
       "layout": "IPY_MODEL_41742799de684bd1a729170d88d59676",
       "placeholder": "output filename",
       "style": "IPY_MODEL_d1e34be0c24e48a9819f03545c98f5b1"
      }
     },
     "04013d71eca44999b12b17944786de4b": {
      "model_module": "@jupyter-widgets/base",
      "model_module_version": "1.2.0",
      "model_name": "LayoutModel",
      "state": {}
     },
     "04179467d33e41ef85cae986a3d7ad1f": {
      "model_module": "@jupyter-widgets/base",
      "model_module_version": "1.2.0",
      "model_name": "LayoutModel",
      "state": {}
     },
     "046c249d142e47f986b49b5f7383bbc5": {
      "model_module": "@jupyter-widgets/controls",
      "model_module_version": "1.5.0",
      "model_name": "ButtonStyleModel",
      "state": {}
     },
     "047f804cd0bd4983b7fbfc939b70ac84": {
      "model_module": "@jupyter-widgets/controls",
      "model_module_version": "1.5.0",
      "model_name": "LabelModel",
      "state": {
       "layout": "IPY_MODEL_39089548acdf4c8fa4186f286723bfb4",
       "style": "IPY_MODEL_20ee1d289bb842bfa5e9783376dfa7be",
       "value": "Octree Mesh"
      }
     },
     "049a5136f8a54cd38babc268c46afb5f": {
      "model_module": "@jupyter-widgets/base",
      "model_module_version": "1.2.0",
      "model_name": "LayoutModel",
      "state": {
       "grid_area": "pathlist",
       "width": "auto"
      }
     },
     "04cbb1ec60c44895af844f68dad92e00": {
      "model_module": "@jupyter-widgets/controls",
      "model_module_version": "1.5.0",
      "model_name": "DescriptionStyleModel",
      "state": {
       "description_width": ""
      }
     },
     "051ee3cce45d4f258bd8c22d2ed6823b": {
      "model_module": "@jupyter-widgets/controls",
      "model_module_version": "1.5.0",
      "model_name": "ButtonStyleModel",
      "state": {}
     },
     "052fdfabfbe74f15b8316382014a75dc": {
      "model_module": "@jupyter-widgets/base",
      "model_module_version": "1.2.0",
      "model_name": "LayoutModel",
      "state": {}
     },
     "053540c5cd3b40b08c82ce63dd6bdb61": {
      "model_module": "@jupyter-widgets/controls",
      "model_module_version": "1.5.0",
      "model_name": "VBoxModel",
      "state": {
       "children": [
        "IPY_MODEL_5956f5e3292044a5bc24a5fe96194ef1",
        "IPY_MODEL_e24d0b18a43246adbe35c1991fc29b59"
       ],
       "layout": "IPY_MODEL_114c9c899d0948059fb5d151b327cbde"
      }
     },
     "054699f2425a44f7a5cc52ce88558c47": {
      "model_module": "@jupyter-widgets/controls",
      "model_module_version": "1.5.0",
      "model_name": "DescriptionStyleModel",
      "state": {
       "description_width": ""
      }
     },
     "054841de9e554bf99fcd0f0dfbd89c80": {
      "model_module": "@jupyter-widgets/base",
      "model_module_version": "1.2.0",
      "model_name": "LayoutModel",
      "state": {}
     },
     "05ae36b4cd124881bf50699ec3113a62": {
      "model_module": "@jupyter-widgets/controls",
      "model_module_version": "1.5.0",
      "model_name": "FloatTextModel",
      "state": {
       "description": "Number of cells:",
       "layout": "IPY_MODEL_303a308c9f824b59baefe7b1acbfd3fc",
       "step": null,
       "style": "IPY_MODEL_5014ffd01a464dbea2e0b3fddeedceef",
       "value": 25
      }
     },
     "066ecca4d1c1411bb2c98abd487e55ee": {
      "model_module": "@jupyter-widgets/controls",
      "model_module_version": "1.5.0",
      "model_name": "DescriptionStyleModel",
      "state": {
       "description_width": ""
      }
     },
     "0689b3a01dc54477857a96242afaf1c3": {
      "model_module": "@jupyter-widgets/controls",
      "model_module_version": "1.5.0",
      "model_name": "SelectModel",
      "state": {
       "_options_labels": [
        "..",
        "Temp",
        "FlinFlon.geoh5",
        "Inversion_.json",
        "MtDore_TMI.geoh5"
       ],
       "index": 2,
       "layout": "IPY_MODEL_c8b48b2fbafe4be1905c30ff040a9d9c",
       "rows": 8,
       "style": "IPY_MODEL_f608f046bd044e68961334923e2e2cfa"
      }
     },
     "0699739976f74ec7a5562669ca13ede6": {
      "model_module": "@jupyter-widgets/base",
      "model_module_version": "1.2.0",
      "model_name": "LayoutModel",
      "state": {}
     },
     "06a35c20cb594cd4b2c05814c0118888": {
      "model_module": "@jupyter-widgets/controls",
      "model_module_version": "1.5.0",
      "model_name": "DescriptionStyleModel",
      "state": {
       "description_width": ""
      }
     },
     "06d85f3ffe184c2d946bb13e6de4da16": {
      "model_module": "@jupyter-widgets/base",
      "model_module_version": "1.2.0",
      "model_name": "LayoutModel",
      "state": {}
     },
     "07253500590d41a1b9d882f9bdc7ad18": {
      "model_module": "@jupyter-widgets/base",
      "model_module_version": "1.2.0",
      "model_name": "LayoutModel",
      "state": {}
     },
     "0737ea4cc5634c609db3fcff5846e027": {
      "model_module": "@jupyter-widgets/base",
      "model_module_version": "1.2.0",
      "model_name": "LayoutModel",
      "state": {
       "width": "auto"
      }
     },
     "07387732eb3e465c93c28d6eeea8acc3": {
      "model_module": "@jupyter-widgets/controls",
      "model_module_version": "1.5.0",
      "model_name": "DescriptionStyleModel",
      "state": {
       "description_width": "initial"
      }
     },
     "07be3a29a7a444bbb968247d14d915a7": {
      "model_module": "@jupyter-widgets/controls",
      "model_module_version": "1.5.0",
      "model_name": "DescriptionStyleModel",
      "state": {
       "description_width": "initial"
      }
     },
     "07d376eac62140f890da488f3047a820": {
      "model_module": "@jupyter-widgets/controls",
      "model_module_version": "1.5.0",
      "model_name": "ButtonModel",
      "state": {
       "description": "Cancel",
       "layout": "IPY_MODEL_3fc56027f9cb46388fa3990a7543edc3",
       "style": "IPY_MODEL_709a2fd756cd44308a98fb7b1448b240"
      }
     },
     "081eb1c2d6ad4c7199d56f04dff21d0e": {
      "model_module": "@jupyter-widgets/controls",
      "model_module_version": "1.5.0",
      "model_name": "DescriptionStyleModel",
      "state": {
       "description_width": ""
      }
     },
     "082594f0760b4340a50c273559fb3f5b": {
      "model_module": "@jupyter-widgets/base",
      "model_module_version": "1.2.0",
      "model_name": "LayoutModel",
      "state": {
       "width": "auto"
      }
     },
     "083b4448cff94e35a1c2c2ddde05d9c6": {
      "model_module": "@jupyter-widgets/base",
      "model_module_version": "1.2.0",
      "model_name": "LayoutModel",
      "state": {}
     },
     "083c58dd828a48c4b27600d5a23b0a78": {
      "model_module": "@jupyter-widgets/controls",
      "model_module_version": "1.5.0",
      "model_name": "ButtonStyleModel",
      "state": {}
     },
     "084fd3052d5b4979a13b7ccad65997e0": {
      "model_module": "@jupyter-widgets/base",
      "model_module_version": "1.2.0",
      "model_name": "LayoutModel",
      "state": {}
     },
     "08e916c2baad4decaa80da15e4781611": {
      "model_module": "@jupyter-widgets/base",
      "model_module_version": "1.2.0",
      "model_name": "LayoutModel",
      "state": {
       "grid_area": "dircontent",
       "width": "auto"
      }
     },
     "09bd9207e8b8410594694ee00285c6a8": {
      "model_module": "@jupyter-widgets/base",
      "model_module_version": "1.2.0",
      "model_name": "LayoutModel",
      "state": {}
     },
     "09cb61bca1854700806d13e913901483": {
      "model_module": "@jupyter-widgets/controls",
      "model_module_version": "1.5.0",
      "model_name": "DropdownModel",
      "state": {
       "_options_labels": [
        "C:\\Users\\dominiquef\\Documents\\GIT\\mira\\mirageoscience-apps\\docs\\content\\applications",
        "C:\\Users\\dominiquef\\Documents\\GIT\\mira\\mirageoscience-apps\\docs\\content",
        "C:\\Users\\dominiquef\\Documents\\GIT\\mira\\mirageoscience-apps\\docs",
        "C:\\Users\\dominiquef\\Documents\\GIT\\mira\\mirageoscience-apps",
        "C:\\Users\\dominiquef\\Documents\\GIT\\mira",
        "C:\\Users\\dominiquef\\Documents\\GIT",
        "C:\\Users\\dominiquef\\Documents",
        "C:\\Users\\dominiquef",
        "C:\\Users",
        "C:\\",
        "D:\\",
        "Z:\\"
       ],
       "index": 0,
       "layout": "IPY_MODEL_eb3582b9c2734ca091718fe96a0fbd6e",
       "style": "IPY_MODEL_20f583b304634df888d16f9bb1ee7ef4"
      }
     },
     "0a1797c7bd33414b85446828e8a21053": {
      "model_module": "@jupyter-widgets/base",
      "model_module_version": "1.2.0",
      "model_name": "LayoutModel",
      "state": {}
     },
     "0a8effa69f7342339305cde09f2e5a21": {
      "model_module": "@jupyter-widgets/base",
      "model_module_version": "1.2.0",
      "model_name": "LayoutModel",
      "state": {
       "display": "none",
       "grid_gap": "0px 0px",
       "grid_template_areas": "\n                    'pathlist pathlist'\n                    'dircontent dircontent'\n                    ",
       "grid_template_columns": "60% 40%",
       "grid_template_rows": "auto auto",
       "width": "500px"
      }
     },
     "0ab007407d904cf789682235f9ef2ac4": {
      "model_module": "@jupyter-widgets/controls",
      "model_module_version": "1.5.0",
      "model_name": "HTMLModel",
      "state": {
       "layout": "IPY_MODEL_57a9de14170a44c2aee501c978467cfa",
       "style": "IPY_MODEL_89512facedb24ccbaadc1b2f27d91d68"
      }
     },
     "0af83f04cc0f4a9fba2516829718e673": {
      "model_module": "@jupyter-widgets/controls",
      "model_module_version": "1.5.0",
      "model_name": "ButtonModel",
      "state": {
       "description": "Select",
       "layout": "IPY_MODEL_b9fed83164e645ac945b5d5a0ed7a395",
       "style": "IPY_MODEL_24420428b42b4b18bab8c1a3cd70df16"
      }
     },
     "0afb996dba804ba98d5868fd7ff44b9c": {
      "model_module": "@jupyter-widgets/base",
      "model_module_version": "1.2.0",
      "model_name": "LayoutModel",
      "state": {
       "display": "none"
      }
     },
     "0b4e2ada4d7b40d2af4664afdee5be53": {
      "model_module": "@jupyter-widgets/base",
      "model_module_version": "1.2.0",
      "model_name": "LayoutModel",
      "state": {}
     },
     "0b8ea36fcdb44e1385850a0f865ad2d7": {
      "model_module": "@jupyter-widgets/base",
      "model_module_version": "1.2.0",
      "model_name": "LayoutModel",
      "state": {}
     },
     "0c564e2b0b3343ba866b7597fa4a1c38": {
      "model_module": "@jupyter-widgets/base",
      "model_module_version": "1.2.0",
      "model_name": "LayoutModel",
      "state": {}
     },
     "0c57e0053b8b4724af75cd658446a9e9": {
      "model_module": "@jupyter-widgets/controls",
      "model_module_version": "1.5.0",
      "model_name": "ButtonModel",
      "state": {
       "button_style": "danger",
       "description": "Compute",
       "icon": "check",
       "layout": "IPY_MODEL_8267492cce8549a9a1c4d01c031b4dca",
       "style": "IPY_MODEL_fcbe6e04a7d94e88af1f2fc12cb0bb35",
       "tooltip": "Run computation"
      }
     },
     "0ca4645c0fb94b38aca25cfed1c4fccc": {
      "model_module": "@jupyter-widgets/base",
      "model_module_version": "1.2.0",
      "model_name": "LayoutModel",
      "state": {}
     },
     "0cb2a8a311c347b8994abc11432c6638": {
      "model_module": "@jupyter-widgets/controls",
      "model_module_version": "1.5.0",
      "model_name": "DescriptionStyleModel",
      "state": {
       "description_width": ""
      }
     },
     "0d13e921ed154c3d9967521c7df2b76b": {
      "model_module": "@jupyter-widgets/base",
      "model_module_version": "1.2.0",
      "model_name": "LayoutModel",
      "state": {
       "width": "auto"
      }
     },
     "0d17ba201ef34b36a809063cb9968cc6": {
      "model_module": "@jupyter-widgets/controls",
      "model_module_version": "1.5.0",
      "model_name": "DescriptionStyleModel",
      "state": {
       "description_width": ""
      }
     },
     "0d1f21d76cf84d629db38f948cfd9195": {
      "model_module": "@jupyter-widgets/base",
      "model_module_version": "1.2.0",
      "model_name": "LayoutModel",
      "state": {}
     },
     "0d6876b9c45140bd8e946c9aa25003ac": {
      "model_module": "@jupyter-widgets/controls",
      "model_module_version": "1.5.0",
      "model_name": "DescriptionStyleModel",
      "state": {
       "description_width": ""
      }
     },
     "0d6b7f7886a34474adf57caf416d6550": {
      "model_module": "@jupyter-widgets/base",
      "model_module_version": "1.2.0",
      "model_name": "LayoutModel",
      "state": {}
     },
     "0d81498600ad4f9a8212b9e3c5b302ac": {
      "model_module": "@jupyter-widgets/controls",
      "model_module_version": "1.5.0",
      "model_name": "TextModel",
      "state": {
       "disabled": true,
       "layout": "IPY_MODEL_3678cb8998ec43dab0692f0566165a46",
       "placeholder": "output filename",
       "style": "IPY_MODEL_b4ada5b207f44d209d707f986237cd8a"
      }
     },
     "0dd8073a353242aaa0db76275158efc9": {
      "model_module": "@jupyter-widgets/base",
      "model_module_version": "1.2.0",
      "model_name": "LayoutModel",
      "state": {
       "display": "none",
       "width": "auto"
      }
     },
     "0e17ec28eecd40a98e08a7b23049ef5d": {
      "model_module": "@jupyter-widgets/base",
      "model_module_version": "1.2.0",
      "model_name": "LayoutModel",
      "state": {}
     },
     "0e2f0832677143c888956178cdec8e32": {
      "model_module": "@jupyter-widgets/base",
      "model_module_version": "1.2.0",
      "model_name": "LayoutModel",
      "state": {
       "display": "none"
      }
     },
     "0e37f15ec9254d59b00c845114b4eec2": {
      "model_module": "@jupyter-widgets/controls",
      "model_module_version": "1.5.0",
      "model_name": "VBoxModel",
      "state": {
       "children": [
        "IPY_MODEL_6b21e6bad4ee46b7add78d667275b37d",
        "IPY_MODEL_6564fc3eef7d4f889808452e1064cb81"
       ],
       "layout": "IPY_MODEL_b62fc386832246079fd254882fda5d37"
      }
     },
     "0f360a7e6b924352af55417f7b3755dc": {
      "model_module": "@jupyter-widgets/controls",
      "model_module_version": "1.5.0",
      "model_name": "LabelModel",
      "state": {
       "layout": "IPY_MODEL_81ed5d9e57ce41c4b9f8c04fe20f4204",
       "style": "IPY_MODEL_cd22c3c8d4004db6b339825f7f0b955d",
       "value": "Starting effective susceptibility"
      }
     },
     "0f5edc8a70aa4ccf855a7783acb81967": {
      "model_module": "@jupyter-widgets/base",
      "model_module_version": "1.2.0",
      "model_name": "LayoutModel",
      "state": {}
     },
     "0f5f7a2017db480e9360150a6faa3075": {
      "model_module": "@jupyter-widgets/controls",
      "model_module_version": "1.5.0",
      "model_name": "DescriptionStyleModel",
      "state": {
       "description_width": ""
      }
     },
     "0f728632a48a499099113b6bf1cdfac7": {
      "model_module": "@jupyter-widgets/base",
      "model_module_version": "1.2.0",
      "model_name": "LayoutModel",
      "state": {
       "visibility": "hidden"
      }
     },
     "0f9915acef0f4579ab7f0383e847da94": {
      "model_module": "@jupyter-widgets/base",
      "model_module_version": "1.2.0",
      "model_name": "LayoutModel",
      "state": {}
     },
     "0fdc58023cbc459db9607560983c5349": {
      "model_module": "@jupyter-widgets/controls",
      "model_module_version": "1.5.0",
      "model_name": "DescriptionStyleModel",
      "state": {
       "description_width": ""
      }
     },
     "0fe7207847154386a76e43aa4d09d822": {
      "model_module": "@jupyter-widgets/controls",
      "model_module_version": "1.5.0",
      "model_name": "DescriptionStyleModel",
      "state": {
       "description_width": ""
      }
     },
     "1069119a54534da5b3ccad12bcfa4f4b": {
      "model_module": "@jupyter-widgets/base",
      "model_module_version": "1.2.0",
      "model_name": "LayoutModel",
      "state": {
       "grid_area": "pathlist",
       "width": "auto"
      }
     },
     "10cdbc93e2c74daeb116c768f928e89b": {
      "model_module": "@jupyter-widgets/base",
      "model_module_version": "1.2.0",
      "model_name": "LayoutModel",
      "state": {
       "display": "none"
      }
     },
     "10e02c98011e4ada8b555e6ebd056c85": {
      "model_module": "@jupyter-widgets/controls",
      "model_module_version": "1.5.0",
      "model_name": "ButtonStyleModel",
      "state": {}
     },
     "1134e1b90fb24e3f9c604ac540fe4ccc": {
      "model_module": "@jupyter-widgets/controls",
      "model_module_version": "1.5.0",
      "model_name": "DescriptionStyleModel",
      "state": {
       "description_width": ""
      }
     },
     "114c9c899d0948059fb5d151b327cbde": {
      "model_module": "@jupyter-widgets/base",
      "model_module_version": "1.2.0",
      "model_name": "LayoutModel",
      "state": {}
     },
     "116ea45b6e2949ceb8ba295fa474444e": {
      "model_module": "@jupyter-widgets/controls",
      "model_module_version": "1.5.0",
      "model_name": "VBoxModel",
      "state": {
       "children": [
        "IPY_MODEL_8a90c312934540758644f61872769830",
        "IPY_MODEL_194d96c2e9f043c4b28ca0c38661afd5",
        "IPY_MODEL_9f10c8753e9a448f8db096943be86a66"
       ],
       "layout": "IPY_MODEL_5268d0354c854525b2284600566e60c9"
      }
     },
     "11823b8e2ad14e7488bbe37f4460cc98": {
      "model_module": "@jupyter-widgets/base",
      "model_module_version": "1.2.0",
      "model_name": "LayoutModel",
      "state": {}
     },
     "11f7ec289f6b4f2da76e3be0d1a6fb8b": {
      "model_module": "@jupyter-widgets/controls",
      "model_module_version": "1.5.0",
      "model_name": "DescriptionStyleModel",
      "state": {
       "description_width": ""
      }
     },
     "1217a428e89b46f48df14d6bb6cf9f6a": {
      "model_module": "@jupyter-widgets/controls",
      "model_module_version": "1.5.0",
      "model_name": "VBoxModel",
      "state": {
       "children": [
        "IPY_MODEL_8b634d436b8f4eac8b7a67b864d38ac1",
        "IPY_MODEL_29dee17c2113459c9e8bb7ecec0e03e4"
       ],
       "layout": "IPY_MODEL_8ffd34daa9d64bb2a0def06556f5af3e"
      }
     },
     "12229db8b763489496964ac3600602a6": {
      "model_module": "@jupyter-widgets/controls",
      "model_module_version": "1.5.0",
      "model_name": "ButtonStyleModel",
      "state": {}
     },
     "12b3c1649c214c2aaae39fd3779cd999": {
      "model_module": "@jupyter-widgets/base",
      "model_module_version": "1.2.0",
      "model_name": "LayoutModel",
      "state": {}
     },
     "12de35da529f427494e1568975104526": {
      "model_module": "@jupyter-widgets/controls",
      "model_module_version": "1.5.0",
      "model_name": "HBoxModel",
      "state": {
       "children": [
        "IPY_MODEL_55b1f1b3b76b43feadcc21be7866fece",
        "IPY_MODEL_24e083c8480f4877a53553de8ed122f7"
       ],
       "layout": "IPY_MODEL_e667bd83031b427eb8fb867d5cd75672"
      }
     },
     "12e8625a02df4f1fbc008f598923c6da": {
      "model_module": "@jupyter-widgets/controls",
      "model_module_version": "1.5.0",
      "model_name": "TextModel",
      "state": {
       "disabled": true,
       "layout": "IPY_MODEL_2d636158f02b4623aed3334b3d6d2988",
       "placeholder": "output filename",
       "style": "IPY_MODEL_d968b9af2e1945219b207043127cf860"
      }
     },
     "13073d28310b4cffa0539a3b92342f63": {
      "model_module": "@jupyter-widgets/base",
      "model_module_version": "1.2.0",
      "model_name": "LayoutModel",
      "state": {}
     },
     "130e66d5daf34253b674b04e3ebe2c40": {
      "model_module": "@jupyter-widgets/controls",
      "model_module_version": "1.5.0",
      "model_name": "CheckboxModel",
      "state": {
       "description": "GA Pro - Live link",
       "disabled": false,
       "indent": false,
       "layout": "IPY_MODEL_938eed7c272a4abb867de7bbafd37c3a",
       "style": "IPY_MODEL_cfdf2c9947a8477b955f1864e2d99dc1",
       "value": false
      }
     },
     "1313fb9cfb06461da6e3095e933cd066": {
      "model_module": "@jupyter-widgets/controls",
      "model_module_version": "1.5.0",
      "model_name": "CheckboxModel",
      "state": {
       "description": "GA Pro - Live link",
       "disabled": false,
       "indent": false,
       "layout": "IPY_MODEL_529d27e1395947f087255b2fa0c50bcf",
       "style": "IPY_MODEL_733fb55c8e814f25b56a8c55832d01ec",
       "value": false
      }
     },
     "135232a08e96423f8651f9d58f4d8c68": {
      "model_module": "@jupyter-widgets/controls",
      "model_module_version": "1.5.0",
      "model_name": "DescriptionStyleModel",
      "state": {
       "description_width": "initial"
      }
     },
     "13ab748a679043fda79b731638053ee0": {
      "model_module": "@jupyter-widgets/base",
      "model_module_version": "1.2.0",
      "model_name": "LayoutModel",
      "state": {}
     },
     "13ad3168e8814e1f87057fda153a0f5c": {
      "model_module": "@jupyter-widgets/controls",
      "model_module_version": "1.5.0",
      "model_name": "DropdownModel",
      "state": {
       "_options_labels": [
        "C:\\Users\\dominiquef\\Documents\\GIT\\mira\\mirageoscience-apps\\docs\\content\\applications",
        "C:\\Users\\dominiquef\\Documents\\GIT\\mira\\mirageoscience-apps\\docs\\content",
        "C:\\Users\\dominiquef\\Documents\\GIT\\mira\\mirageoscience-apps\\docs",
        "C:\\Users\\dominiquef\\Documents\\GIT\\mira\\mirageoscience-apps",
        "C:\\Users\\dominiquef\\Documents\\GIT\\mira",
        "C:\\Users\\dominiquef\\Documents\\GIT",
        "C:\\Users\\dominiquef\\Documents",
        "C:\\Users\\dominiquef",
        "C:\\Users",
        "C:\\",
        "D:\\",
        "Z:\\"
       ],
       "index": 0,
       "layout": "IPY_MODEL_049a5136f8a54cd38babc268c46afb5f",
       "style": "IPY_MODEL_e0d36fe607244647a71ce55bc9a1df5c"
      }
     },
     "13bdb5432822459da3b9942936039473": {
      "model_module": "@jupyter-widgets/controls",
      "model_module_version": "1.5.0",
      "model_name": "CheckboxModel",
      "state": {
       "description": "GA Pro - Live link",
       "disabled": false,
       "indent": false,
       "layout": "IPY_MODEL_c9cd646a6f1240deb916f8c715aa6a44",
       "style": "IPY_MODEL_2b5a51d58a814379ad47454a0154933b",
       "value": false
      }
     },
     "13da95165a49409a95fcc0c06f6089b4": {
      "model_module": "@jupyter-widgets/base",
      "model_module_version": "1.2.0",
      "model_name": "LayoutModel",
      "state": {}
     },
     "13e13f94ba3443d2998d00299ee74377": {
      "model_module": "@jupyter-widgets/controls",
      "model_module_version": "1.5.0",
      "model_name": "FloatTextModel",
      "state": {
       "description": "Grid Resolution (m)",
       "layout": "IPY_MODEL_fb4ca7a58b2045f88b5ceab0cab2f689",
       "step": null,
       "style": "IPY_MODEL_7118f225048d4167894ab3146ad87e0d",
       "value": 50
      }
     },
     "13f45ce32a4d4feb9e553081e044b2ed": {
      "model_module": "@jupyter-widgets/controls",
      "model_module_version": "1.5.0",
      "model_name": "DescriptionStyleModel",
      "state": {
       "description_width": ""
      }
     },
     "13f729e9c8dc4f48907b35d049859c39": {
      "model_module": "@jupyter-widgets/base",
      "model_module_version": "1.2.0",
      "model_name": "LayoutModel",
      "state": {}
     },
     "14266968de3d4b2698bc25d4f7e42e8d": {
      "model_module": "@jupyter-widgets/controls",
      "model_module_version": "1.5.0",
      "model_name": "VBoxModel",
      "state": {
       "children": [
        "IPY_MODEL_c3bc06915fee46f087f546abb3f25b0b",
        "IPY_MODEL_83f9a3f13f0c45869c7eee562b574bdd"
       ],
       "layout": "IPY_MODEL_c1547db741de4361af19dd9e8b4c7505"
      }
     },
     "144dd43b69524df9bfbc335015af047d": {
      "model_module": "@jupyter-widgets/controls",
      "model_module_version": "1.5.0",
      "model_name": "ButtonStyleModel",
      "state": {}
     },
     "149062197a97490dae4f43e4d2e45a25": {
      "model_module": "@jupyter-widgets/controls",
      "model_module_version": "1.5.0",
      "model_name": "DescriptionStyleModel",
      "state": {
       "description_width": ""
      }
     },
     "14b4877a2229490c893fbac4e7302fdc": {
      "model_module": "@jupyter-widgets/controls",
      "model_module_version": "1.5.0",
      "model_name": "DescriptionStyleModel",
      "state": {
       "description_width": "initial"
      }
     },
     "14b6e042755646f09f1c4640bc8a8931": {
      "model_module": "@jupyter-widgets/controls",
      "model_module_version": "1.5.0",
      "model_name": "DescriptionStyleModel",
      "state": {
       "description_width": ""
      }
     },
     "14dc088061934f79b6c3f1ee17ea0a05": {
      "model_module": "@jupyter-widgets/controls",
      "model_module_version": "1.5.0",
      "model_name": "DescriptionStyleModel",
      "state": {
       "description_width": ""
      }
     },
     "1532e11a689f433eba2243e24ea441a0": {
      "model_module": "@jupyter-widgets/controls",
      "model_module_version": "1.5.0",
      "model_name": "DescriptionStyleModel",
      "state": {
       "description_width": ""
      }
     },
     "1570fbb35c5242119e77fd19d53eebee": {
      "model_module": "@jupyter-widgets/controls",
      "model_module_version": "1.5.0",
      "model_name": "SelectModel",
      "state": {
       "_options_labels": [
        "..",
        "dask-worker-space",
        "images"
       ],
       "index": null,
       "layout": "IPY_MODEL_28396b21f11b407abf17ef0af3809405",
       "rows": 8,
       "style": "IPY_MODEL_c3446d9e33fd4e4b99776f708b61ccf7"
      }
     },
     "15b79ab109d146399c4ccc05063e46fa": {
      "model_module": "@jupyter-widgets/controls",
      "model_module_version": "1.5.0",
      "model_name": "VBoxModel",
      "state": {
       "children": [
        "IPY_MODEL_35ae02ee47cc4b12ba9e7d97cb6df22f",
        "IPY_MODEL_6d19934433ee45f4b54682fd1840447b"
       ],
       "layout": "IPY_MODEL_a5963e6adf294fbc9ccb715c1deb8d85"
      }
     },
     "15c303452eaf47c9bcb9813442c77554": {
      "model_module": "@jupyter-widgets/controls",
      "model_module_version": "1.5.0",
      "model_name": "DescriptionStyleModel",
      "state": {
       "description_width": "initial"
      }
     },
     "15ea86094c89406584a3bf8ab34cf7d4": {
      "model_module": "@jupyter-widgets/controls",
      "model_module_version": "1.5.0",
      "model_name": "ButtonStyleModel",
      "state": {}
     },
     "1629784b73f7454ca01f4980b7b872fa": {
      "model_module": "@jupyter-widgets/controls",
      "model_module_version": "1.5.0",
      "model_name": "VBoxModel",
      "state": {
       "children": [
        "IPY_MODEL_b1353f4f86474acfb9097c6843b9f22a",
        "IPY_MODEL_4a5091d7c24c47469156aa204743d613",
        "IPY_MODEL_f4f81aef8ec84764b78d12860e65d9c0",
        "IPY_MODEL_6a8fc788fb0b408f8f9ac5c99ec530da",
        "IPY_MODEL_c559467ec3e149779c5bee91887b2b17"
       ],
       "layout": "IPY_MODEL_95e39b8b69694f87b0b7374eaea6acec"
      }
     },
     "164591b93bd745a187790ee84f4a5da4": {
      "model_module": "@jupyter-widgets/controls",
      "model_module_version": "1.5.0",
      "model_name": "DescriptionStyleModel",
      "state": {
       "description_width": ""
      }
     },
     "167bb5377e0a4b9aadc0f3706a6c2eed": {
      "model_module": "@jupyter-widgets/base",
      "model_module_version": "1.2.0",
      "model_name": "LayoutModel",
      "state": {}
     },
     "167f562eda3340b5b6ab77fa39f3b919": {
      "model_module": "@jupyter-widgets/controls",
      "model_module_version": "1.5.0",
      "model_name": "DescriptionStyleModel",
      "state": {
       "description_width": ""
      }
     },
     "168508d492b14a7b98cf03d7c37a504d": {
      "model_module": "@jupyter-widgets/base",
      "model_module_version": "1.2.0",
      "model_name": "LayoutModel",
      "state": {}
     },
     "16b2370afaa54799b9b14a32cd0f02e1": {
      "model_module": "@jupyter-widgets/controls",
      "model_module_version": "1.5.0",
      "model_name": "ButtonStyleModel",
      "state": {}
     },
     "16c14386dd884589b5ea6beba4b1fb78": {
      "model_module": "@jupyter-widgets/controls",
      "model_module_version": "1.5.0",
      "model_name": "ButtonStyleModel",
      "state": {}
     },
     "16c29548864445869af05713358f7f67": {
      "model_module": "@jupyter-widgets/controls",
      "model_module_version": "1.5.0",
      "model_name": "TextModel",
      "state": {
       "description": "Inducing Field [Amp, Inc, Dec]",
       "layout": "IPY_MODEL_d9eb50cf75e24c28a6774e490001833d",
       "style": "IPY_MODEL_c48b80d39a314c82af6a247a8468f951",
       "value": "60000, 79, 11"
      }
     },
     "171127c470c14724b1391827b1f4842a": {
      "model_module": "@jupyter-widgets/controls",
      "model_module_version": "1.5.0",
      "model_name": "DescriptionStyleModel",
      "state": {
       "description_width": ""
      }
     },
     "17672a6a254f454895914e7b07f6429e": {
      "model_module": "@jupyter-widgets/base",
      "model_module_version": "1.2.0",
      "model_name": "LayoutModel",
      "state": {}
     },
     "179601dc51cb474e97e4b3013b2f7e13": {
      "model_module": "@jupyter-widgets/controls",
      "model_module_version": "1.5.0",
      "model_name": "VBoxModel",
      "state": {
       "children": [
        "IPY_MODEL_dccfabcccdff4285826bf54fef76c12f"
       ],
       "layout": "IPY_MODEL_604b72bb54244067922c4ec6f7a99268"
      }
     },
     "17a857d2940342c799f4d2ed509bc521": {
      "model_module": "@jupyter-widgets/controls",
      "model_module_version": "1.5.0",
      "model_name": "HBoxModel",
      "state": {
       "children": [
        "IPY_MODEL_437af7e99167494aa10e17a1fa0a06a5",
        "IPY_MODEL_07d376eac62140f890da488f3047a820",
        "IPY_MODEL_03eb75440c5740db9c3104f4ac00c799"
       ],
       "layout": "IPY_MODEL_b1936034fd9043ab92a748e6e2dfef2b"
      }
     },
     "17da73a7e57f43a59e6e2adf2d96c33e": {
      "model_module": "@jupyter-widgets/base",
      "model_module_version": "1.2.0",
      "model_name": "LayoutModel",
      "state": {
       "display": "none",
       "width": "auto"
      }
     },
     "17f140d5ad444a8e8454b110c525988e": {
      "model_module": "@jupyter-widgets/base",
      "model_module_version": "1.2.0",
      "model_name": "LayoutModel",
      "state": {}
     },
     "18140c5ebb7d43e198941793142ef070": {
      "model_module": "@jupyter-widgets/controls",
      "model_module_version": "1.5.0",
      "model_name": "VBoxModel",
      "state": {
       "children": [
        "IPY_MODEL_974222caf75644a792a030e9fd67fcb2",
        "IPY_MODEL_7b53440276eb49bab3b1f82dfcdeed70",
        "IPY_MODEL_9bd89d3daee040a4b230196de923e7d1"
       ],
       "layout": "IPY_MODEL_99d0c1623d214b6d994e0f31af0da841"
      }
     },
     "1837782aaf4d41d1b5f8d0efe6a905aa": {
      "model_module": "@jupyter-widgets/controls",
      "model_module_version": "1.5.0",
      "model_name": "DropdownModel",
      "state": {
       "_options_labels": [
        "C:\\Users\\dominiquef\\Documents\\GIT\\mira\\mirageoscience-apps\\docs\\content\\applications",
        "C:\\Users\\dominiquef\\Documents\\GIT\\mira\\mirageoscience-apps\\docs\\content",
        "C:\\Users\\dominiquef\\Documents\\GIT\\mira\\mirageoscience-apps\\docs",
        "C:\\Users\\dominiquef\\Documents\\GIT\\mira\\mirageoscience-apps",
        "C:\\Users\\dominiquef\\Documents\\GIT\\mira",
        "C:\\Users\\dominiquef\\Documents\\GIT",
        "C:\\Users\\dominiquef\\Documents",
        "C:\\Users\\dominiquef",
        "C:\\Users",
        "C:\\",
        "D:\\",
        "Z:\\"
       ],
       "index": 0,
       "layout": "IPY_MODEL_bd3e1fc1c3a1428697ed5dc42c1eb8cc",
       "style": "IPY_MODEL_7cb8e60b2e204831a68c4877b025228d"
      }
     },
     "188d46ea3b1248569247b813b0d13fe1": {
      "model_module": "@jupyter-widgets/controls",
      "model_module_version": "1.5.0",
      "model_name": "DescriptionStyleModel",
      "state": {
       "description_width": ""
      }
     },
     "194d96c2e9f043c4b28ca0c38661afd5": {
      "model_module": "@jupyter-widgets/controls",
      "model_module_version": "1.5.0",
      "model_name": "GridBoxModel",
      "state": {
       "children": [
        "IPY_MODEL_d1eb055e1e0a45a09503a389c251f56c",
        "IPY_MODEL_ab47085635fe47d49a4bdf96e1234696",
        "IPY_MODEL_d695e1eab03e4b37b6472ef542a10e1f"
       ],
       "layout": "IPY_MODEL_2951b6666d2d4e99ac60740b3228a7aa"
      }
     },
     "19ce7354d55a40a58e86df5c03b651b7": {
      "model_module": "@jupyter-widgets/base",
      "model_module_version": "1.2.0",
      "model_name": "LayoutModel",
      "state": {
       "display": "none",
       "grid_gap": "0px 0px",
       "grid_template_areas": "\n                    'pathlist pathlist'\n                    'dircontent dircontent'\n                    ",
       "grid_template_columns": "60% 40%",
       "grid_template_rows": "auto auto",
       "width": "500px"
      }
     },
     "19f9bfa96cae4f74a9acb8994de38ecb": {
      "model_module": "@jupyter-widgets/controls",
      "model_module_version": "1.5.0",
      "model_name": "TextModel",
      "state": {
       "layout": "IPY_MODEL_e5eed8cb0b0948168f17930998382618",
       "placeholder": "output filename",
       "style": "IPY_MODEL_cf44398376b0461c98422632d418ac0a"
      }
     },
     "1a07cb3ed0844fe4bdbeaa06e8e51e01": {
      "model_module": "@jupyter-widgets/base",
      "model_module_version": "1.2.0",
      "model_name": "LayoutModel",
      "state": {}
     },
     "1a519fd23dd1403ab9459d8e93027da4": {
      "model_module": "@jupyter-widgets/base",
      "model_module_version": "1.2.0",
      "model_name": "LayoutModel",
      "state": {}
     },
     "1ab9eec556ae402492dd82c96f63f0b1": {
      "model_module": "@jupyter-widgets/controls",
      "model_module_version": "1.5.0",
      "model_name": "DescriptionStyleModel",
      "state": {
       "description_width": "initial"
      }
     },
     "1ae14b0075f44ca28a8efa1e2bbeaf6a": {
      "model_module": "@jupyter-widgets/base",
      "model_module_version": "1.2.0",
      "model_name": "LayoutModel",
      "state": {}
     },
     "1b1bf99608934329b0449ae7378d66ac": {
      "model_module": "@jupyter-widgets/controls",
      "model_module_version": "1.5.0",
      "model_name": "DescriptionStyleModel",
      "state": {
       "description_width": "initial"
      }
     },
     "1b28f9c95cb1471bbaf24b949d2eab8a": {
      "model_module": "@jupyter-widgets/base",
      "model_module_version": "1.2.0",
      "model_name": "LayoutModel",
      "state": {
       "width": "auto"
      }
     },
     "1b60c83fd95e4dfe9ca17714eaa92333": {
      "model_module": "@jupyter-widgets/controls",
      "model_module_version": "1.5.0",
      "model_name": "VBoxModel",
      "state": {
       "children": [
        "IPY_MODEL_4b09a383b44444249bc915aeda1f8ac7",
        "IPY_MODEL_1e33d95407514c279b531392e337ed63"
       ],
       "layout": "IPY_MODEL_bfa061d9d6dc4973a526c5737390569b"
      }
     },
     "1bbba73a94ea42ccafb78812ba704814": {
      "model_module": "@jupyter-widgets/controls",
      "model_module_version": "1.5.0",
      "model_name": "HTMLModel",
      "state": {
       "layout": "IPY_MODEL_3a031489d47943a28f67da3d0a67fee4",
       "placeholder": "",
       "style": "IPY_MODEL_33177d6bfad7445ab286ba1d27696766",
       "value": "<span style=\"margin-left:10px; color:orange;\">C:\\Users\\dominiquef\\Documents\\GIT\\mira\\mirageoscience-apps\\assets\\FlinFlon.geoh5</span>"
      }
     },
     "1bdfe4dbc5854900b9d6a206447764d1": {
      "model_module": "@jupyter-widgets/base",
      "model_module_version": "1.2.0",
      "model_name": "LayoutModel",
      "state": {}
     },
     "1bf513fa431e4ccf957c4f413801f01b": {
      "model_module": "@jupyter-widgets/controls",
      "model_module_version": "1.5.0",
      "model_name": "ButtonModel",
      "state": {
       "button_style": "danger",
       "description": "Compute",
       "icon": "check",
       "layout": "IPY_MODEL_e848ee7cf44b490f8c3553f48a0e2c34",
       "style": "IPY_MODEL_d843fb85afd74271b7a1f868b1ef2999",
       "tooltip": "Run computation"
      }
     },
     "1c17152c916f4ebb8ca084cb5fbfe7b8": {
      "model_module": "@jupyter-widgets/base",
      "model_module_version": "1.2.0",
      "model_name": "LayoutModel",
      "state": {}
     },
     "1c66c5ff31a748ea82be3a22f725f2a1": {
      "model_module": "@jupyter-widgets/controls",
      "model_module_version": "1.5.0",
      "model_name": "DescriptionStyleModel",
      "state": {
       "description_width": ""
      }
     },
     "1d0edc89c4ff42cf804948fce881dfb8": {
      "model_module": "@jupyter-widgets/controls",
      "model_module_version": "1.5.0",
      "model_name": "VBoxModel",
      "state": {
       "children": [
        "IPY_MODEL_7359166fd0124861a9a07fe512215243",
        "IPY_MODEL_4583294ac8d140d6871fc95874d025c9",
        "IPY_MODEL_17a857d2940342c799f4d2ed509bc521"
       ],
       "layout": "IPY_MODEL_613c3095ac41483e9f0d0c5e8d9c711b"
      }
     },
     "1d47f08f7b694033b7151774450a6754": {
      "model_module": "@jupyter-widgets/controls",
      "model_module_version": "1.5.0",
      "model_name": "SelectModel",
      "state": {
       "_options_labels": [
        "..",
        "dask-worker-space",
        "images"
       ],
       "index": null,
       "layout": "IPY_MODEL_23529b1a2dcc498d99bc6f6230cce402",
       "rows": 8,
       "style": "IPY_MODEL_164591b93bd745a187790ee84f4a5da4"
      }
     },
     "1d6e90899943497d8831e743397d101f": {
      "model_module": "@jupyter-widgets/controls",
      "model_module_version": "1.5.0",
      "model_name": "DescriptionStyleModel",
      "state": {
       "description_width": ""
      }
     },
     "1e33d95407514c279b531392e337ed63": {
      "model_module": "@jupyter-widgets/controls",
      "model_module_version": "1.5.0",
      "model_name": "VBoxModel",
      "state": {
       "children": [
        "IPY_MODEL_217f623b097f4c298606f8f14d339615",
        "IPY_MODEL_b147f94a857a4e7285d78f5c83867ad2"
       ],
       "layout": "IPY_MODEL_ae46cbd9db56410e94c517ab14188c15"
      }
     },
     "1e9049d674fe460396d8999280b59c72": {
      "model_module": "@jupyter-widgets/base",
      "model_module_version": "1.2.0",
      "model_name": "LayoutModel",
      "state": {
       "visibility": "visible"
      }
     },
     "1eb2f744a5624f02bcea1d59495ce78f": {
      "model_module": "@jupyter-widgets/controls",
      "model_module_version": "1.5.0",
      "model_name": "DropdownModel",
      "state": {
       "_options_labels": [
        "C:\\Users\\dominiquef\\Documents\\GIT\\mira\\mirageoscience-apps\\docs\\content\\applications",
        "C:\\Users\\dominiquef\\Documents\\GIT\\mira\\mirageoscience-apps\\docs\\content",
        "C:\\Users\\dominiquef\\Documents\\GIT\\mira\\mirageoscience-apps\\docs",
        "C:\\Users\\dominiquef\\Documents\\GIT\\mira\\mirageoscience-apps",
        "C:\\Users\\dominiquef\\Documents\\GIT\\mira",
        "C:\\Users\\dominiquef\\Documents\\GIT",
        "C:\\Users\\dominiquef\\Documents",
        "C:\\Users\\dominiquef",
        "C:\\Users",
        "C:\\",
        "D:\\",
        "Z:\\"
       ],
       "index": 0,
       "layout": "IPY_MODEL_5a89f938ec684b65998eaedf65871de5",
       "style": "IPY_MODEL_a5993bdf0a9847d6b8e0a5606ae991bb"
      }
     },
     "1fcb75ea84c04964ab8cc0b6664da5c1": {
      "model_module": "@jupyter-widgets/base",
      "model_module_version": "1.2.0",
      "model_name": "LayoutModel",
      "state": {}
     },
     "1fddc6dd58794cf8bd2e3a0b4d39525d": {
      "model_module": "@jupyter-widgets/controls",
      "model_module_version": "1.5.0",
      "model_name": "DescriptionStyleModel",
      "state": {
       "description_width": "initial"
      }
     },
     "1fde9b24e0e741719edfeafd6e9fda8f": {
      "model_module": "@jupyter-widgets/controls",
      "model_module_version": "1.5.0",
      "model_name": "VBoxModel",
      "state": {
       "children": [
        "IPY_MODEL_69e63d34b2fe49bfa27a1200e16fb9ea",
        "IPY_MODEL_2381ac3080a04e81b3ae6403ec6c9dd6",
        "IPY_MODEL_c532b4dbbeae48afa1ef9cae205998b5",
        "IPY_MODEL_f5f4b89b644c491f9b9bb45a1bba9860",
        "IPY_MODEL_9a196bfbecd8463cb58f6bb7929693f9"
       ],
       "layout": "IPY_MODEL_09bd9207e8b8410594694ee00285c6a8"
      }
     },
     "20058a5efddb402e923ca9cdcbe953d4": {
      "model_module": "@jupyter-widgets/base",
      "model_module_version": "1.2.0",
      "model_name": "LayoutModel",
      "state": {
       "grid_area": "dircontent",
       "width": "auto"
      }
     },
     "201dfaf0597b4bbb9f75cb8edbad5fca": {
      "model_module": "@jupyter-widgets/base",
      "model_module_version": "1.2.0",
      "model_name": "LayoutModel",
      "state": {}
     },
     "20258cbd098140bfac6d18ff44b9b5a7": {
      "model_module": "@jupyter-widgets/base",
      "model_module_version": "1.2.0",
      "model_name": "LayoutModel",
      "state": {
       "display": "none",
       "grid_area": "filename",
       "width": "auto"
      }
     },
     "204a2178f1be4312b78972c4d055cab6": {
      "model_module": "@jupyter-widgets/controls",
      "model_module_version": "1.5.0",
      "model_name": "ButtonModel",
      "state": {
       "description": "Select",
       "layout": "IPY_MODEL_c2b85d65df364350863ac92204d8f33b",
       "style": "IPY_MODEL_eb2175fe722e42c4985b2179c6e53c41"
      }
     },
     "20a43db676664679a4c01870475afb14": {
      "model_module": "@jupyter-widgets/controls",
      "model_module_version": "1.5.0",
      "model_name": "DescriptionStyleModel",
      "state": {
       "description_width": "initial"
      }
     },
     "20ee1d289bb842bfa5e9783376dfa7be": {
      "model_module": "@jupyter-widgets/controls",
      "model_module_version": "1.5.0",
      "model_name": "DescriptionStyleModel",
      "state": {
       "description_width": ""
      }
     },
     "20f583b304634df888d16f9bb1ee7ef4": {
      "model_module": "@jupyter-widgets/controls",
      "model_module_version": "1.5.0",
      "model_name": "DescriptionStyleModel",
      "state": {
       "description_width": ""
      }
     },
     "213431057e814b23831795fe6a91c3c4": {
      "model_module": "@jupyter-widgets/controls",
      "model_module_version": "1.5.0",
      "model_name": "GridBoxModel",
      "state": {
       "children": [
        "IPY_MODEL_6f8adf65bd82452a8bed842bb0728148",
        "IPY_MODEL_7f90b8299ce74b2eb00e0bf0c2cf26ba",
        "IPY_MODEL_488553933d4e4218956926bfc9dc67c5"
       ],
       "layout": "IPY_MODEL_6831c3e4e9204fed8f4f55efd9f3c8c7"
      }
     },
     "217f623b097f4c298606f8f14d339615": {
      "model_module": "@jupyter-widgets/controls",
      "model_module_version": "1.5.0",
      "model_name": "VBoxModel",
      "state": {
       "children": [
        "IPY_MODEL_13e13f94ba3443d2998d00299ee74377",
        "IPY_MODEL_ca721dc992b3466197f2c866722eacac"
       ],
       "layout": "IPY_MODEL_4187ba3840094db68f19e8f2f53bc34f"
      }
     },
     "21967e9e947e4fd8bb2a6c24423e4f09": {
      "model_module": "@jupyter-widgets/controls",
      "model_module_version": "1.5.0",
      "model_name": "VBoxModel",
      "state": {
       "children": [
        "IPY_MODEL_f8a4f76f476c4c55b21e43d27d85094b",
        "IPY_MODEL_8baa9f1d326f4fd1b533896b66cb32e9"
       ],
       "layout": "IPY_MODEL_04179467d33e41ef85cae986a3d7ad1f"
      }
     },
     "21a290cd437a475f8087b4b549180826": {
      "model_module": "@jupyter-widgets/base",
      "model_module_version": "1.2.0",
      "model_name": "LayoutModel",
      "state": {
       "display": "none",
       "grid_gap": "0px 0px",
       "grid_template_areas": "\n                    'pathlist filename'\n                    'dircontent dircontent'\n                    ",
       "grid_template_columns": "60% 40%",
       "grid_template_rows": "auto auto",
       "width": "500px"
      }
     },
     "21ebc12b07bc4d8e9ebf92c88fc84ca5": {
      "model_module": "@jupyter-widgets/base",
      "model_module_version": "1.2.0",
      "model_name": "LayoutModel",
      "state": {}
     },
     "22997b38b6fd48068cbe47811ce4aabb": {
      "model_module": "@jupyter-widgets/controls",
      "model_module_version": "1.5.0",
      "model_name": "DescriptionStyleModel",
      "state": {
       "description_width": ""
      }
     },
     "22c3e371586a4ede9e636146fc3345e9": {
      "model_module": "@jupyter-widgets/base",
      "model_module_version": "1.2.0",
      "model_name": "LayoutModel",
      "state": {}
     },
     "2334c972321e4317a9af354ed6bce93e": {
      "model_module": "@jupyter-widgets/base",
      "model_module_version": "1.2.0",
      "model_name": "LayoutModel",
      "state": {}
     },
     "23529b1a2dcc498d99bc6f6230cce402": {
      "model_module": "@jupyter-widgets/base",
      "model_module_version": "1.2.0",
      "model_name": "LayoutModel",
      "state": {
       "grid_area": "dircontent",
       "width": "auto"
      }
     },
     "2381ac3080a04e81b3ae6403ec6c9dd6": {
      "model_module": "@jupyter-widgets/controls",
      "model_module_version": "1.5.0",
      "model_name": "TextModel",
      "state": {
       "description": "bxy",
       "layout": "IPY_MODEL_b39ea5f3f024488b9bd395b11b8937fa",
       "style": "IPY_MODEL_a71e241dca54433396812f37f38dc6db"
      }
     },
     "23a2c10d785148d691d41670b09379fb": {
      "model_module": "@jupyter-widgets/base",
      "model_module_version": "1.2.0",
      "model_name": "LayoutModel",
      "state": {}
     },
     "23ba21c09f5b41da9729463588e3e942": {
      "model_module": "@jupyter-widgets/controls",
      "model_module_version": "1.5.0",
      "model_name": "DescriptionStyleModel",
      "state": {
       "description_width": ""
      }
     },
     "23bac64059c44f1ca0fa259ef2125f99": {
      "model_module": "@jupyter-widgets/controls",
      "model_module_version": "1.5.0",
      "model_name": "DescriptionStyleModel",
      "state": {
       "description_width": ""
      }
     },
     "23e872c9826248cfab7958a910746629": {
      "model_module": "@jupyter-widgets/controls",
      "model_module_version": "1.5.0",
      "model_name": "CheckboxModel",
      "state": {
       "description": "GA Pro - Live link",
       "disabled": false,
       "indent": false,
       "layout": "IPY_MODEL_21ebc12b07bc4d8e9ebf92c88fc84ca5",
       "style": "IPY_MODEL_464a65328ceb4f86874625e4ce02fb6a",
       "value": false
      }
     },
     "241ceae3a01d4bb9822aa1b45ff4bbf9": {
      "model_module": "@jupyter-widgets/controls",
      "model_module_version": "1.5.0",
      "model_name": "GridBoxModel",
      "state": {
       "children": [
        "IPY_MODEL_907161d40ae3447085564655cd4b2299",
        "IPY_MODEL_694f06f5dbbc41cfbbd86e86b11ef14d",
        "IPY_MODEL_77d04e514d54493c97927fbd46947f3c"
       ],
       "layout": "IPY_MODEL_5a0cfc36849b46fca3eb2117d11e7f57"
      }
     },
     "24420428b42b4b18bab8c1a3cd70df16": {
      "model_module": "@jupyter-widgets/controls",
      "model_module_version": "1.5.0",
      "model_name": "ButtonStyleModel",
      "state": {}
     },
     "24984e99c3124b378647e8c72996267b": {
      "model_module": "@jupyter-widgets/controls",
      "model_module_version": "1.5.0",
      "model_name": "DescriptionStyleModel",
      "state": {
       "description_width": "initial"
      }
     },
     "24adf4871f514e23a7c4d4c36d91647f": {
      "model_module": "@jupyter-widgets/base",
      "model_module_version": "1.2.0",
      "model_name": "LayoutModel",
      "state": {}
     },
     "24c1887d106e429da989a23c1fe04ec3": {
      "model_module": "@jupyter-widgets/controls",
      "model_module_version": "1.5.0",
      "model_name": "DescriptionStyleModel",
      "state": {
       "description_width": ""
      }
     },
     "24c91ea63cc8462a8afbf1a77ac3e057": {
      "model_module": "@jupyter-widgets/controls",
      "model_module_version": "1.5.0",
      "model_name": "DescriptionStyleModel",
      "state": {
       "description_width": "initial"
      }
     },
     "24e083c8480f4877a53553de8ed122f7": {
      "model_module": "@jupyter-widgets/controls",
      "model_module_version": "1.5.0",
      "model_name": "ButtonModel",
      "state": {
       "description": "Create copy:",
       "layout": "IPY_MODEL_0699739976f74ec7a5562669ca13ede6",
       "style": "IPY_MODEL_6b5fef27ca2442648728322a43627bc9"
      }
     },
     "2502c4330b1b406eb2d89adc3f360539": {
      "model_module": "@jupyter-widgets/controls",
      "model_module_version": "1.5.0",
      "model_name": "ButtonStyleModel",
      "state": {}
     },
     "250db4e121804b18a7b92635d95c1e64": {
      "model_module": "@jupyter-widgets/controls",
      "model_module_version": "1.5.0",
      "model_name": "DescriptionStyleModel",
      "state": {
       "description_width": ""
      }
     },
     "252878a45708467dac7ae33a880da488": {
      "model_module": "@jupyter-widgets/base",
      "model_module_version": "1.2.0",
      "model_name": "LayoutModel",
      "state": {}
     },
     "253017c63711467e8406c5a8db44ad9f": {
      "model_module": "@jupyter-widgets/base",
      "model_module_version": "1.2.0",
      "model_name": "LayoutModel",
      "state": {
       "width": "auto"
      }
     },
     "25339a54f3204aa4adfb106dc8f5371c": {
      "model_module": "@jupyter-widgets/base",
      "model_module_version": "1.2.0",
      "model_name": "LayoutModel",
      "state": {}
     },
     "25d15ec650434b2281b584d2a16a3a68": {
      "model_module": "@jupyter-widgets/controls",
      "model_module_version": "1.5.0",
      "model_name": "VBoxModel",
      "state": {
       "children": [
        "IPY_MODEL_3cc35ceeb8104a53a67761d2528a6ca9",
        "IPY_MODEL_37ff912f608c46a6911134d5fe6879a3",
        "IPY_MODEL_5931902348bf4797945faa5be1a29bbf"
       ],
       "layout": "IPY_MODEL_c2aa364c1c2d4e8e945ef838c2771d9b"
      }
     },
     "25d4762372964fb194dc66c0d529bc4b": {
      "model_module": "@jupyter-widgets/base",
      "model_module_version": "1.2.0",
      "model_name": "LayoutModel",
      "state": {
       "width": "auto"
      }
     },
     "261e8706b4174d66853c5acd94fadbe2": {
      "model_module": "@jupyter-widgets/base",
      "model_module_version": "1.2.0",
      "model_name": "LayoutModel",
      "state": {}
     },
     "2636470214064ea4968745db7f97ffda": {
      "model_module": "@jupyter-widgets/controls",
      "model_module_version": "1.5.0",
      "model_name": "DescriptionStyleModel",
      "state": {
       "description_width": ""
      }
     },
     "2637a03535e44091a5f667ad576a2c21": {
      "model_module": "@jupyter-widgets/controls",
      "model_module_version": "1.5.0",
      "model_name": "VBoxModel",
      "state": {
       "children": [
        "IPY_MODEL_4db54e4c2f9148be80dc45c60eeb65e6",
        "IPY_MODEL_4dd6ddce2cfb486fb49e08a327e7f921"
       ],
       "layout": "IPY_MODEL_69a66e60a4f04184bb2bbf085b2d2e7e"
      }
     },
     "26a7cf1ece9146328f07e3d06ff0d0b8": {
      "model_module": "@jupyter-widgets/controls",
      "model_module_version": "1.5.0",
      "model_name": "RadioButtonsModel",
      "state": {
       "_options_labels": [
        "Estimated (%|data| + background)",
        "User input (%|data| + floor)"
       ],
       "index": 1,
       "layout": "IPY_MODEL_69af209e397d41c3b94a5ce203ac8c46",
       "style": "IPY_MODEL_1532e11a689f433eba2243e24ea441a0"
      }
     },
     "26ab6cd52b9b43dda9775335507a70f7": {
      "model_module": "@jupyter-widgets/base",
      "model_module_version": "1.2.0",
      "model_name": "LayoutModel",
      "state": {
       "visibility": "hidden"
      }
     },
     "26cd9e92cf0044c9ab9cc7b73947c0de": {
      "model_module": "@jupyter-widgets/controls",
      "model_module_version": "1.5.0",
      "model_name": "DescriptionStyleModel",
      "state": {
       "description_width": ""
      }
     },
     "26ff7a9770784b0b8322652ef5e8696f": {
      "model_module": "@jupyter-widgets/base",
      "model_module_version": "1.2.0",
      "model_name": "LayoutModel",
      "state": {}
     },
     "271fa8a7d8cc4b85ba2b9ed8a2e558ce": {
      "model_module": "@jupyter-widgets/base",
      "model_module_version": "1.2.0",
      "model_name": "LayoutModel",
      "state": {
       "grid_area": "pathlist",
       "width": "auto"
      }
     },
     "274a2819a3a84d89848e3f0ee8dcc6fb": {
      "model_module": "@jupyter-widgets/controls",
      "model_module_version": "1.5.0",
      "model_name": "ButtonStyleModel",
      "state": {}
     },
     "279167f0d2bf4c14b5bcab34c87a62ea": {
      "model_module": "@jupyter-widgets/controls",
      "model_module_version": "1.5.0",
      "model_name": "VBoxModel",
      "state": {
       "children": [
        "IPY_MODEL_5860af25ee014959b17f5da5851bc305",
        "IPY_MODEL_bc5112e42f6147f2bf621af0fc768aeb"
       ],
       "layout": "IPY_MODEL_995b807715c24020a143e21a01c2d9a3"
      }
     },
     "27d2d7f4b872497a839ea07bd7ad8011": {
      "model_module": "@jupyter-widgets/controls",
      "model_module_version": "1.5.0",
      "model_name": "DescriptionStyleModel",
      "state": {
       "description_width": ""
      }
     },
     "27da9b860b7b478e9b39ef3af18110c7": {
      "model_module": "@jupyter-widgets/controls",
      "model_module_version": "1.5.0",
      "model_name": "VBoxModel",
      "state": {
       "children": [
        "IPY_MODEL_0013c9bb6e0840018a1cc75425fa757e"
       ],
       "layout": "IPY_MODEL_0e17ec28eecd40a98e08a7b23049ef5d"
      }
     },
     "28396b21f11b407abf17ef0af3809405": {
      "model_module": "@jupyter-widgets/base",
      "model_module_version": "1.2.0",
      "model_name": "LayoutModel",
      "state": {
       "grid_area": "dircontent",
       "width": "auto"
      }
     },
     "28b0e271131e4d4ca4cfc4008dddbbc6": {
      "model_module": "@jupyter-widgets/controls",
      "model_module_version": "1.5.0",
      "model_name": "HBoxModel",
      "state": {
       "children": [
        "IPY_MODEL_4b09a383b44444249bc915aeda1f8ac7",
        "IPY_MODEL_e5e8efa47aa4422783afd26195bcab89"
       ],
       "layout": "IPY_MODEL_d0a575dc614f4d4da96eb4a3c9133534"
      }
     },
     "28fff2ff69c1440db7fb50f0967eb2bd": {
      "model_module": "@jupyter-widgets/base",
      "model_module_version": "1.2.0",
      "model_name": "LayoutModel",
      "state": {}
     },
     "292c5a113c9e4ae490657d6abf98a8c8": {
      "model_module": "@jupyter-widgets/controls",
      "model_module_version": "1.5.0",
      "model_name": "DescriptionStyleModel",
      "state": {
       "description_width": ""
      }
     },
     "2951b6666d2d4e99ac60740b3228a7aa": {
      "model_module": "@jupyter-widgets/base",
      "model_module_version": "1.2.0",
      "model_name": "LayoutModel",
      "state": {
       "display": "none",
       "grid_gap": "0px 0px",
       "grid_template_areas": "\n                    'pathlist filename'\n                    'dircontent dircontent'\n                    ",
       "grid_template_columns": "60% 40%",
       "grid_template_rows": "auto auto",
       "width": "500px"
      }
     },
     "295a939922a94f53b0c6a4d1750a25ab": {
      "model_module": "@jupyter-widgets/base",
      "model_module_version": "1.2.0",
      "model_name": "LayoutModel",
      "state": {}
     },
     "295f0649646c45d8b49a37a10beec4ce": {
      "model_module": "@jupyter-widgets/controls",
      "model_module_version": "1.5.0",
      "model_name": "DescriptionStyleModel",
      "state": {
       "description_width": "initial"
      }
     },
     "29a9fcbcab5342a9a8a778f9ba21df73": {
      "model_module": "@jupyter-widgets/controls",
      "model_module_version": "1.5.0",
      "model_name": "RadioButtonsModel",
      "state": {
       "_options_labels": [
        "value",
        "ratio"
       ],
       "description": "Starting tradeoff (beta):",
       "index": 1,
       "layout": "IPY_MODEL_e1b4d50677e54b82b3e2f83e45b194ca",
       "style": "IPY_MODEL_db2ca417135e4d6582e642c89072fc1a"
      }
     },
     "29b97a6729304e2ca6c5e5a2a3fd9949": {
      "model_module": "@jupyter-widgets/controls",
      "model_module_version": "1.5.0",
      "model_name": "DescriptionStyleModel",
      "state": {
       "description_width": ""
      }
     },
     "29ce0bf17f8a4f95890106e2d0fc16d0": {
      "model_module": "@jupyter-widgets/controls",
      "model_module_version": "1.5.0",
      "model_name": "DescriptionStyleModel",
      "state": {
       "description_width": ""
      }
     },
     "29dee17c2113459c9e8bb7ecec0e03e4": {
      "model_module": "@jupyter-widgets/controls",
      "model_module_version": "1.5.0",
      "model_name": "TextModel",
      "state": {
       "continuous_update": false,
       "description": "Group:",
       "layout": "IPY_MODEL_28fff2ff69c1440db7fb50f0967eb2bd",
       "style": "IPY_MODEL_d6f80ba21d3f499dac9cba85e2ccb579"
      }
     },
     "29f5d5d7642d41daaae5fb16b970c37b": {
      "model_module": "@jupyter-widgets/controls",
      "model_module_version": "1.5.0",
      "model_name": "DropdownModel",
      "state": {
       "_options_labels": [
        "MVI",
        "Magnetics",
        "Gravity",
        "AeroTEM (2007)",
        "AeroTEM (2010)",
        "DIGHEM",
        "GENESIS (2014)",
        "GEOTEM 75 Hz - 2082 Pulse",
        "HELITEM (35C)",
        "Hummingbird",
        "QUESTEM (1996)",
        "Resolve",
        "SandersGFEM",
        "Skytem 304M (HM)",
        "Skytem 306HP (LM)",
        "Skytem 306M HP (HM)",
        "Skytem 312HP (HM)",
        "Skytem 312HP v2 (HM)",
        "Skytem 312HP v3 (HM)",
        "Skytem 312HP v2 (LM)",
        "Skytem 312HP v3 (LM)",
        "Skytem 516M (HM)",
        "Spectrem (2000)",
        "Spectrem Plus",
        "VTEM (2007)",
        "VTEM Plus",
        "VTEM Max",
        "Xcite"
       ],
       "description": "Survey Type: ",
       "index": 0,
       "layout": "IPY_MODEL_fc70d189029043fa93a4af6c259ecee9",
       "style": "IPY_MODEL_167f562eda3340b5b6ab77fa39f3b919"
      }
     },
     "2a11e0d6e2e5471184be445f41fcbad6": {
      "model_module": "@jupyter-widgets/controls",
      "model_module_version": "1.5.0",
      "model_name": "DescriptionStyleModel",
      "state": {
       "description_width": ""
      }
     },
     "2a3d03cfc7fa44ac8f5367de6a266271": {
      "model_module": "@jupyter-widgets/controls",
      "model_module_version": "1.5.0",
      "model_name": "GridBoxModel",
      "state": {
       "children": [
        "IPY_MODEL_f9269b10b0794e42b0ae08c61e751ed2",
        "IPY_MODEL_a56983deca2c42f9b4ebe6c1b6bf2ebb",
        "IPY_MODEL_0689b3a01dc54477857a96242afaf1c3"
       ],
       "layout": "IPY_MODEL_84c44127766545e2953b4f690ce60625"
      }
     },
     "2a5510301e4847e98d4ccedef7e91e0a": {
      "model_module": "@jupyter-widgets/controls",
      "model_module_version": "1.5.0",
      "model_name": "ButtonModel",
      "state": {
       "description": "Select",
       "layout": "IPY_MODEL_9842289d27dc4cd8bbce7cb8d284922f",
       "style": "IPY_MODEL_274a2819a3a84d89848e3f0ee8dcc6fb"
      }
     },
     "2a80b2fffc81492da51da61f53cd342b": {
      "model_module": "@jupyter-widgets/base",
      "model_module_version": "1.2.0",
      "model_name": "LayoutModel",
      "state": {
       "display": "none",
       "width": "auto"
      }
     },
     "2ad617dfd36c45bda95219cd41cb3cf0": {
      "model_module": "@jupyter-widgets/controls",
      "model_module_version": "1.5.0",
      "model_name": "DescriptionStyleModel",
      "state": {
       "description_width": ""
      }
     },
     "2afbbeb5a8214cba91ca7a127893ecd2": {
      "model_module": "@jupyter-widgets/controls",
      "model_module_version": "1.5.0",
      "model_name": "DescriptionStyleModel",
      "state": {
       "description_width": ""
      }
     },
     "2b5a51d58a814379ad47454a0154933b": {
      "model_module": "@jupyter-widgets/controls",
      "model_module_version": "1.5.0",
      "model_name": "DescriptionStyleModel",
      "state": {
       "description_width": "initial"
      }
     },
     "2b8130baa53d4793ada0601275515ab9": {
      "model_module": "@jupyter-widgets/controls",
      "model_module_version": "1.5.0",
      "model_name": "DescriptionStyleModel",
      "state": {
       "description_width": ""
      }
     },
     "2b8bdd85dff747f9b4d0ba89c92cf49d": {
      "model_module": "@jupyter-widgets/controls",
      "model_module_version": "1.5.0",
      "model_name": "SelectModel",
      "state": {
       "_options_labels": [
        "..",
        "dask-worker-space",
        "images",
        "GEOSCIENCEtemp",
        "Untitled.ipynb",
        "base_application.ipynb",
        "calculator.ipynb",
        "clustering.ipynb",
        "contouring.ipynb",
        "coordinate_transformation.ipynb",
        "create_isosurface.ipynb",
        "create_surface.ipynb",
        "data_interpolation.ipynb",
        "edge_detection.ipynb",
        "export.ipynb",
        "geophysical_inversion.ipynb",
        "object_data_selection.ipynb",
        "peak_finder.ipynb",
        "scatter.ipynb",
        "view_selection.ipynb"
       ],
       "index": null,
       "layout": "IPY_MODEL_bf507be428254a30b4244b542502e4a7",
       "rows": 8,
       "style": "IPY_MODEL_4d97e46442ef4e73b2d64a3bc1216d0f"
      }
     },
     "2be097732d1746b4abdd66fb7a3b986b": {
      "model_module": "@jupyter-widgets/controls",
      "model_module_version": "1.5.0",
      "model_name": "GridBoxModel",
      "state": {
       "children": [
        "IPY_MODEL_f147928cfba24d2cadd73b2201567a82",
        "IPY_MODEL_b321c7c70d4a429f99b6c07abdea7174",
        "IPY_MODEL_2b8bdd85dff747f9b4d0ba89c92cf49d"
       ],
       "layout": "IPY_MODEL_86b0bcacbbbe4090991adb6e43919007"
      }
     },
     "2c7cb61472f8462fb617eef053e48cb3": {
      "model_module": "@jupyter-widgets/controls",
      "model_module_version": "1.5.0",
      "model_name": "ButtonModel",
      "state": {
       "description": "Select",
       "layout": "IPY_MODEL_cd4a5e0ccf1e425ba4648c4371f4d88c",
       "style": "IPY_MODEL_6a8d1e87a6cd4af4a9cab862adb7c402"
      }
     },
     "2c850a4076e8415098be79bc6aa191a4": {
      "model_module": "@jupyter-widgets/controls",
      "model_module_version": "1.5.0",
      "model_name": "SliderStyleModel",
      "state": {
       "description_width": "initial"
      }
     },
     "2c94433243ef4e1ba40007db3a85330b": {
      "model_module": "@jupyter-widgets/controls",
      "model_module_version": "1.5.0",
      "model_name": "VBoxModel",
      "state": {
       "children": [
        "IPY_MODEL_88677b944a664b169b9bbdeeefbbd6ae"
       ],
       "layout": "IPY_MODEL_23a2c10d785148d691d41670b09379fb"
      }
     },
     "2c944d4b072040b580be056388b4b38a": {
      "model_module": "@jupyter-widgets/controls",
      "model_module_version": "1.5.0",
      "model_name": "RadioButtonsModel",
      "state": {
       "_options_labels": [
        "Object",
        "Relative to Sensor",
        "Constant"
       ],
       "description": "Define by:",
       "index": 0,
       "layout": "IPY_MODEL_8a63f360d80545b7827277288d05ac7c",
       "style": "IPY_MODEL_a1eddc26df174bc38b07c86874f4dde9"
      }
     },
     "2c98be9875534e389ecd31074bb6ae4e": {
      "model_module": "@jupyter-widgets/controls",
      "model_module_version": "1.5.0",
      "model_name": "ButtonStyleModel",
      "state": {}
     },
     "2cb779dddeb348eea2d72eccd5078fd0": {
      "model_module": "@jupyter-widgets/controls",
      "model_module_version": "1.5.0",
      "model_name": "ButtonModel",
      "state": {
       "button_style": "danger",
       "description": "Compute",
       "icon": "check",
       "layout": "IPY_MODEL_9c3345fa81b24aada82ae14d6c3b84da",
       "style": "IPY_MODEL_33b8ba991c9b4e8eb6f0001feb2a92f2",
       "tooltip": "Run computation"
      }
     },
     "2cbd01b56571457d987065c908384f4b": {
      "model_module": "@jupyter-widgets/controls",
      "model_module_version": "1.5.0",
      "model_name": "DropdownModel",
      "state": {
       "_options_labels": [
        "",
        "Data_TEM_pseudo3DEPSG_4326",
        "Gravity_Magnetics_drape60mEPSG_4326",
        "Iso_Iteration_7_model_0.015",
        "Iso_Iteration_7_model_0.01",
        "Iso_Iteration_7_model_0.02",
        "Iso_Iteration_7_model_0.005",
        "Iso_Iteration_7_model_0.0025",
        "fault_splay1",
        "fault_Cliff_Lake",
        "fault_Other_FlinFlon",
        "fault_Club_Lake_splay",
        "fault_Catherine_splay2",
        "fault_Birch_View",
        "fault_Dion_Lake",
        "fault_FlinFlon_splay",
        "fault_West_Mandy_Road",
        "fault_Channing",
        "fault_Ross_Lake",
        "fault_Louis_Hidden",
        "fault_Lake_View_thrust",
        "contact_Schist_Lake",
        "fault_Burley_Lake",
        "fault_Dion_Lake_splay",
        "fault_Green_Lake",
        "fault_FlinFlon",
        "fault_Catherine_splay1",
        "fault_East_Mandy_Road",
        "fault_Other_FlinFlon_South",
        "fault_Catherine_splay4",
        "contact_Stitt_Island",
        "fault_Club_Lake",
        "fault_Tailing_Pond",
        "35_Hidden_Reservoir_Hr5",
        "29_Hidden_Reservoir_Hr1a",
        "60_BlueLagoon_Fb2",
        "20_FlinFlon_Undivided_Int_Dykes_D2f",
        "04_Boundary_Intrusive_S4h",
        "53_Millrock_Rhyolite_Fm4b",
        "19_FlinFlon_Undivided_Int_Dykes_D2b",
        "18_FlinFlon_Undivided_Int_Dykes_777_D2b",
        "06_Phantom_Lake_Intrusive_S3a",
        "21_FlinFlon_Undivided_Int_Dykes_D3a",
        "43_Millrock_CHLSH_South",
        "56_Millrock_Basalt_Fm1ba",
        "17_FlinFlon_Undivided_Int_Dykes_D2",
        "32_Hidden_Reservoir_Hr1b_SW",
        "11_Missi_M3_NE",
        "13_Missi_M1",
        "07_Annabel_Granitoid_S1",
        "45_Millrock_Gabbro_South",
        "01_Late_Intrusive_S5b",
        "31_Hidden_Reservoir_Hr1c_SW",
        "52_Millrock_Rhyolite_Fm4_West_check",
        "55_Millrock_Basalt_Fm1bf",
        "34_Hidden_Reservoir_Hr2b",
        "03_Boundary_Intrusive_S4b",
        "42_Millrock_CHLSH_North",
        "26_Louis_L3",
        "23_FlinFlon_Undivided_Int_Felsic_D4g",
        "30_Hidden_Reservoir_Hr1b",
        "59_BlueLagoon_Fb3",
        "49_Millrock_MVR_Fm5d",
        "44_Millrock_Gabbro_North",
        "27_Hidden_Carlisle_Hc4",
        "22_FlinFlon_Undivided_Int_Felsic_D4e",
        "02_Boundary_Intrusive_S4a",
        "61_BlueLagoon_Fb1_NW",
        "05_Boundary_Intrusive_S4g",
        "39_Ore_Callinan",
        "38_Ore_Dan_Owens",
        "40_Ore_FlinFlon",
        "Inversion_VTEM_Model",
        "Gravity_Magnetics_drape60m",
        "CDI_VTEM_model",
        "Data_FEM_pseudo3D",
        "O2O_Interp_25m",
        "geochem",
        "Inversion_DIGHEM_Model",
        "Topography",
        "Data_TEM_pseudo3D"
       ],
       "description": "Object",
       "index": 0,
       "layout": "IPY_MODEL_8ca5bab043694649a048d7c533e4182b",
       "style": "IPY_MODEL_73077abb08f7402a89ebf4bbd16c2d74"
      }
     },
     "2d636158f02b4623aed3334b3d6d2988": {
      "model_module": "@jupyter-widgets/base",
      "model_module_version": "1.2.0",
      "model_name": "LayoutModel",
      "state": {
       "display": "none",
       "grid_area": "filename",
       "width": "auto"
      }
     },
     "2d8654d1a2de4eac9f17645e132e0c02": {
      "model_module": "@jupyter-widgets/base",
      "model_module_version": "1.2.0",
      "model_name": "LayoutModel",
      "state": {
       "visibility": "hidden"
      }
     },
     "2d8d9eef68924e98a3d901cc25195af8": {
      "model_module": "@jupyter-widgets/controls",
      "model_module_version": "1.5.0",
      "model_name": "DescriptionStyleModel",
      "state": {
       "description_width": ""
      }
     },
     "2da9be5f63ea49f7b86c98f980701f4f": {
      "model_module": "@jupyter-widgets/controls",
      "model_module_version": "1.5.0",
      "model_name": "VBoxModel",
      "state": {
       "children": [
        "IPY_MODEL_989cf9e3b6a149eb838ce4457bdc549a",
        "IPY_MODEL_28b0e271131e4d4ca4cfc4008dddbbc6",
        "IPY_MODEL_1e33d95407514c279b531392e337ed63",
        "IPY_MODEL_053540c5cd3b40b08c82ce63dd6bdb61",
        "IPY_MODEL_3974086156874440910e082b9d4528e7",
        "IPY_MODEL_8bdb29f289b14f7bbf44284a9c7447a4",
        "IPY_MODEL_a372ae2086f34172935c099cfc40887f"
       ],
       "layout": "IPY_MODEL_0b4e2ada4d7b40d2af4664afdee5be53"
      }
     },
     "2ddd69afbd6e46e3bbd0d6be040d8bf4": {
      "model_module": "@jupyter-widgets/controls",
      "model_module_version": "1.5.0",
      "model_name": "ButtonModel",
      "state": {
       "description": "Create copy:",
       "layout": "IPY_MODEL_1ae14b0075f44ca28a8efa1e2bbeaf6a",
       "style": "IPY_MODEL_12229db8b763489496964ac3600602a6"
      }
     },
     "2dfd017b9b6d4b1c882c0eac6ecc4c41": {
      "model_module": "@jupyter-widgets/base",
      "model_module_version": "1.2.0",
      "model_name": "LayoutModel",
      "state": {}
     },
     "2e4838d5b25d4e8c802fec4507606e74": {
      "model_module": "@jupyter-widgets/base",
      "model_module_version": "1.2.0",
      "model_name": "LayoutModel",
      "state": {}
     },
     "2e7edaf53c4542cab2c3d14fa11fd078": {
      "model_module": "@jupyter-widgets/base",
      "model_module_version": "1.2.0",
      "model_name": "LayoutModel",
      "state": {}
     },
     "2eb7e02f6dc34737b7a47fcc8a768de0": {
      "model_module": "@jupyter-widgets/controls",
      "model_module_version": "1.5.0",
      "model_name": "FloatSliderModel",
      "state": {
       "continuous_update": false,
       "description": "Width",
       "layout": "IPY_MODEL_8cfe021624ac4f9da4bde25a8179a74d",
       "max": 7335.505938563321,
       "step": 10,
       "style": "IPY_MODEL_868ad830f2c740f8be50c664a036fb80",
       "value": 1000
      }
     },
     "2eec9c2b24324b9086d6e6c9aebabae9": {
      "model_module": "@jupyter-widgets/controls",
      "model_module_version": "1.5.0",
      "model_name": "FloatTextModel",
      "state": {
       "description": "Smallest cell (m):",
       "layout": "IPY_MODEL_fbb80fb6017c4c01ba2a6400f28c8ff2",
       "step": null,
       "style": "IPY_MODEL_b67545184507490b80b38a3cd9e31a79",
       "value": 10
      }
     },
     "2f0a36916f654009bc7c98349eb58328": {
      "model_module": "@jupyter-widgets/controls",
      "model_module_version": "1.5.0",
      "model_name": "DescriptionStyleModel",
      "state": {
       "description_width": ""
      }
     },
     "2f9c35da62e142d499631c3ea7df6dc0": {
      "model_module": "@jupyter-widgets/controls",
      "model_module_version": "1.5.0",
      "model_name": "TextModel",
      "state": {
       "description": "Offsets (x,y,z)",
       "layout": "IPY_MODEL_f010119d74384cf383d65bd82d5f094a",
       "style": "IPY_MODEL_1ab9eec556ae402492dd82c96f63f0b1",
       "value": "0, 0, 0"
      }
     },
     "2fc39989af76484bacf43ef5d1460995": {
      "model_module": "@jupyter-widgets/controls",
      "model_module_version": "1.5.0",
      "model_name": "DescriptionStyleModel",
      "state": {
       "description_width": ""
      }
     },
     "303207877bb943ac92349badc48ee567": {
      "model_module": "@jupyter-widgets/controls",
      "model_module_version": "1.5.0",
      "model_name": "DescriptionStyleModel",
      "state": {
       "description_width": ""
      }
     },
     "303a308c9f824b59baefe7b1acbfd3fc": {
      "model_module": "@jupyter-widgets/base",
      "model_module_version": "1.2.0",
      "model_name": "LayoutModel",
      "state": {}
     },
     "303f946ed5274554bec8d2de34c6f420": {
      "model_module": "@jupyter-widgets/controls",
      "model_module_version": "1.5.0",
      "model_name": "ButtonModel",
      "state": {
       "description": "Select",
       "layout": "IPY_MODEL_02678964edf3486899234d891de574f1",
       "style": "IPY_MODEL_52997ed32c474d05b03958fb23f494a4"
      }
     },
     "305a7ce58c104139a353c10533828db0": {
      "model_module": "@jupyter-widgets/base",
      "model_module_version": "1.2.0",
      "model_name": "LayoutModel",
      "state": {}
     },
     "306da646e2724bfba07bc25b36ec6b32": {
      "model_module": "@jupyter-widgets/controls",
      "model_module_version": "1.5.0",
      "model_name": "HTMLModel",
      "state": {
       "layout": "IPY_MODEL_8c6c5346e1ad4612830958e9256f7077",
       "placeholder": "",
       "style": "IPY_MODEL_ad2251a816034d558ae825df0532e8f8",
       "value": "<span style=\"margin-left:10px; color:black;\">No file selected</span>"
      }
     },
     "307dc3217b7c4f3aa8ed6b5e81da5e41": {
      "model_module": "@jupyter-widgets/controls",
      "model_module_version": "1.5.0",
      "model_name": "DropdownModel",
      "state": {
       "_options_labels": [
        "C:\\Users\\dominiquef\\Documents\\GIT\\mira\\mirageoscience-apps\\assets",
        "C:\\Users\\dominiquef\\Documents\\GIT\\mira\\mirageoscience-apps",
        "C:\\Users\\dominiquef\\Documents\\GIT\\mira",
        "C:\\Users\\dominiquef\\Documents\\GIT",
        "C:\\Users\\dominiquef\\Documents",
        "C:\\Users\\dominiquef",
        "C:\\Users",
        "C:\\",
        "D:\\",
        "Z:\\"
       ],
       "index": 0,
       "layout": "IPY_MODEL_e18c16b1f5e24564bdc08521b6769d19",
       "style": "IPY_MODEL_2d8d9eef68924e98a3d901cc25195af8"
      }
     },
     "3132ee1ab28c4b39b1105b91aef462f9": {
      "model_module": "@jupyter-widgets/base",
      "model_module_version": "1.2.0",
      "model_name": "LayoutModel",
      "state": {}
     },
     "31517648be5f410da0791d07a9b38f58": {
      "model_module": "@jupyter-widgets/base",
      "model_module_version": "1.2.0",
      "model_name": "LayoutModel",
      "state": {
       "width": "auto"
      }
     },
     "3172751249c642a99d734fd1a45a6e82": {
      "model_module": "@jupyter-widgets/controls",
      "model_module_version": "1.5.0",
      "model_name": "TextModel",
      "state": {
       "description": "Offsets (x,y,z)",
       "layout": "IPY_MODEL_5b93fd35e1204be8be0a0070dc502c37",
       "style": "IPY_MODEL_8fb31c5c3e8542448207def3cb98ebca",
       "value": "0, 0, 0"
      }
     },
     "319315af4b034470b2a01c594d6da9a3": {
      "model_module": "@jupyter-widgets/base",
      "model_module_version": "1.2.0",
      "model_name": "LayoutModel",
      "state": {
       "visibility": "hidden"
      }
     },
     "3297720073cf4d8e9251e33e6d2ab28b": {
      "model_module": "@jupyter-widgets/controls",
      "model_module_version": "1.5.0",
      "model_name": "DescriptionStyleModel",
      "state": {
       "description_width": "initial"
      }
     },
     "329e3f7590884e14a0ee6472c0134d60": {
      "model_module": "@jupyter-widgets/controls",
      "model_module_version": "1.5.0",
      "model_name": "ButtonModel",
      "state": {
       "description": "Cancel",
       "layout": "IPY_MODEL_a8d74a8875424d198a07f0b5903d4c45",
       "style": "IPY_MODEL_2c98be9875534e389ecd31074bb6ae4e"
      }
     },
     "32bdb7b2c985463c97fe9a84e936d364": {
      "model_module": "@jupyter-widgets/controls",
      "model_module_version": "1.5.0",
      "model_name": "VBoxModel",
      "state": {
       "children": [
        "IPY_MODEL_54d344670eeb474787dac91f09c2b38b",
        "IPY_MODEL_e8dbdc8ef92d4d599a2d01b599ddd0ef",
        "IPY_MODEL_b245c35d3c8d4538bd370144f04c9652"
       ],
       "layout": "IPY_MODEL_25d4762372964fb194dc66c0d529bc4b"
      }
     },
     "32d2dd7bad6743ab8f8c181efed4a59c": {
      "model_module": "@jupyter-widgets/controls",
      "model_module_version": "1.5.0",
      "model_name": "VBoxModel",
      "state": {
       "children": [
        "IPY_MODEL_d612b4dc54f64e0781da818f8ff1ab5d",
        "IPY_MODEL_406c6efa17e8422aa04bce7a3ccc1cfc"
       ],
       "layout": "IPY_MODEL_0d6b7f7886a34474adf57caf416d6550"
      }
     },
     "32e64f003fd448aa90c98b97d33bb6dc": {
      "model_module": "@jupyter-widgets/base",
      "model_module_version": "1.2.0",
      "model_name": "LayoutModel",
      "state": {
       "grid_area": "pathlist",
       "width": "auto"
      }
     },
     "32f6bb5386fe4bc1bb11676346c821b9": {
      "model_module": "@jupyter-widgets/controls",
      "model_module_version": "1.5.0",
      "model_name": "DescriptionStyleModel",
      "state": {
       "description_width": ""
      }
     },
     "33177d6bfad7445ab286ba1d27696766": {
      "model_module": "@jupyter-widgets/controls",
      "model_module_version": "1.5.0",
      "model_name": "DescriptionStyleModel",
      "state": {
       "description_width": ""
      }
     },
     "332ece55b2d440c5b3fd3877cedc8afc": {
      "model_module": "@jupyter-widgets/controls",
      "model_module_version": "1.5.0",
      "model_name": "DescriptionStyleModel",
      "state": {
       "description_width": "initial"
      }
     },
     "33377f5b31d04038b2545935db9fa58f": {
      "model_module": "@jupyter-widgets/controls",
      "model_module_version": "1.5.0",
      "model_name": "DescriptionStyleModel",
      "state": {
       "description_width": ""
      }
     },
     "336735ff407c46fa8e3091bc5ac7d451": {
      "model_module": "@jupyter-widgets/controls",
      "model_module_version": "1.5.0",
      "model_name": "TextModel",
      "state": {
       "disabled": true,
       "layout": "IPY_MODEL_ecad282356874699ba605f917ee9fae3",
       "placeholder": "output filename",
       "style": "IPY_MODEL_fddfaa182a0049ac8a1b48513b09e839"
      }
     },
     "33b8ba991c9b4e8eb6f0001feb2a92f2": {
      "model_module": "@jupyter-widgets/controls",
      "model_module_version": "1.5.0",
      "model_name": "ButtonStyleModel",
      "state": {}
     },
     "340e61877eb4455ab0a904ae9afafbea": {
      "model_module": "@jupyter-widgets/controls",
      "model_module_version": "1.5.0",
      "model_name": "TextModel",
      "state": {
       "description": "Save to:",
       "layout": "IPY_MODEL_2334c972321e4317a9af354ed6bce93e",
       "style": "IPY_MODEL_04cbb1ec60c44895af844f68dad92e00",
       "value": "Inversion_"
      }
     },
     "340f9d10e4134eecb644bbba4924d452": {
      "model_module": "@jupyter-widgets/base",
      "model_module_version": "1.2.0",
      "model_name": "LayoutModel",
      "state": {
       "width": "100%"
      }
     },
     "34840c53230d4acc9164914d9b3fadc8": {
      "model_module": "@jupyter-widgets/controls",
      "model_module_version": "1.5.0",
      "model_name": "DescriptionStyleModel",
      "state": {
       "description_width": "initial"
      }
     },
     "3571920fcd4041e78f5a8deeda864bfb": {
      "model_module": "@jupyter-widgets/controls",
      "model_module_version": "1.5.0",
      "model_name": "ButtonStyleModel",
      "state": {}
     },
     "35ae02ee47cc4b12ba9e7d97cb6df22f": {
      "model_module": "@jupyter-widgets/controls",
      "model_module_version": "1.5.0",
      "model_name": "LabelModel",
      "state": {
       "layout": "IPY_MODEL_2e7edaf53c4542cab2c3d14fa11fd078",
       "style": "IPY_MODEL_1b1bf99608934329b0449ae7378d66ac",
       "value": "Workspace"
      }
     },
     "35b8ef037a0c4759bcfe96e1892a3eb9": {
      "model_module": "@jupyter-widgets/base",
      "model_module_version": "1.2.0",
      "model_name": "LayoutModel",
      "state": {}
     },
     "35bbffbfd0084a78958546344c4f4614": {
      "model_module": "@jupyter-widgets/controls",
      "model_module_version": "1.5.0",
      "model_name": "ButtonStyleModel",
      "state": {}
     },
     "3647044520284bce9406565b80ba4dfb": {
      "model_module": "@jupyter-widgets/controls",
      "model_module_version": "1.5.0",
      "model_name": "TextModel",
      "state": {
       "continuous_update": false,
       "description": "Contours",
       "layout": "IPY_MODEL_e900d44af00b4c7da5fce8720a1b8f04",
       "style": "IPY_MODEL_50bed70d5d2a43c696ba97b5d4c8eff8"
      }
     },
     "3678cb8998ec43dab0692f0566165a46": {
      "model_module": "@jupyter-widgets/base",
      "model_module_version": "1.2.0",
      "model_name": "LayoutModel",
      "state": {
       "display": "none",
       "grid_area": "filename",
       "width": "auto"
      }
     },
     "3689b93f50744c8b9ed1ceae353fbd84": {
      "model_module": "@jupyter-widgets/controls",
      "model_module_version": "1.5.0",
      "model_name": "IntTextModel",
      "state": {
       "description": "Starting Channel",
       "layout": "IPY_MODEL_f6dfba604edf4e43b530a80d593dc28a",
       "step": 1,
       "style": "IPY_MODEL_e4e95d89a4904af99712034b94e88c13"
      }
     },
     "37338cc20a34428492ee5125b384e438": {
      "model_module": "@jupyter-widgets/controls",
      "model_module_version": "1.5.0",
      "model_name": "VBoxModel",
      "state": {
       "children": [
        "IPY_MODEL_2eb7e02f6dc34737b7a47fcc8a768de0",
        "IPY_MODEL_ff139bdbeb5a4911950a8d84522e3051",
        "IPY_MODEL_b26803b63ecf4ee6a8a0010f42b20fae",
        "IPY_MODEL_9846a6132982456fbce9e876a9a65a31",
        "IPY_MODEL_a417c2acb6f14a2eb42dbbce4dd4be98"
       ],
       "layout": "IPY_MODEL_ccbbd879637a4e56b4ea5236da12ee61"
      }
     },
     "376add82229547159e8c44bd55e20a9b": {
      "model_module": "@jupyter-widgets/base",
      "model_module_version": "1.2.0",
      "model_name": "LayoutModel",
      "state": {}
     },
     "376fc84a9e524c688d950a2f903682c5": {
      "model_module": "@jupyter-widgets/controls",
      "model_module_version": "1.5.0",
      "model_name": "VBoxModel",
      "state": {
       "children": [
        "IPY_MODEL_29f5d5d7642d41daaae5fb16b970c37b",
        "IPY_MODEL_16c29548864445869af05713358f7f67"
       ],
       "layout": "IPY_MODEL_f2ba6e3cdb86474b8d11e97f02bd1fe8"
      }
     },
     "37ff912f608c46a6911134d5fe6879a3": {
      "model_module": "@jupyter-widgets/controls",
      "model_module_version": "1.5.0",
      "model_name": "GridBoxModel",
      "state": {
       "children": [
        "IPY_MODEL_1837782aaf4d41d1b5f8d0efe6a905aa",
        "IPY_MODEL_12e8625a02df4f1fbc008f598923c6da",
        "IPY_MODEL_e0d099fd2fcd4e878a680d133cfba291"
       ],
       "layout": "IPY_MODEL_438912cced3440a8a8acec7893f7f0f6"
      }
     },
     "385d88d212804dd99ba0e2f57d25066b": {
      "model_module": "@jupyter-widgets/controls",
      "model_module_version": "1.5.0",
      "model_name": "HBoxModel",
      "state": {
       "children": [
        "IPY_MODEL_bbf07c2d07ad4cc5a66b182c8d86a8d3",
        "IPY_MODEL_c7e8868cb1364590852f4bb5ffbb70ab",
        "IPY_MODEL_6ba0a579f8e84ba6a62a752af504413f"
       ],
       "layout": "IPY_MODEL_3cfd2c4c4004477d9310aa38ef093b12"
      }
     },
     "385edfe242cf44fda28dd66bc4a019d8": {
      "model_module": "@jupyter-widgets/controls",
      "model_module_version": "1.5.0",
      "model_name": "SliderStyleModel",
      "state": {
       "description_width": ""
      }
     },
     "3862fd42e0b64141ac097cfde182d518": {
      "model_module": "@jupyter-widgets/controls",
      "model_module_version": "1.5.0",
      "model_name": "DescriptionStyleModel",
      "state": {
       "description_width": ""
      }
     },
     "3879300a77f34ed295f2352f9ba0e088": {
      "model_module": "@jupyter-widgets/controls",
      "model_module_version": "1.5.0",
      "model_name": "VBoxModel",
      "state": {
       "children": [
        "IPY_MODEL_cbe07a4a77594402829f47220b54eebd",
        "IPY_MODEL_179601dc51cb474e97e4b3013b2f7e13"
       ],
       "layout": "IPY_MODEL_43784e76ec00468d84a1259bf9e0d0c7"
      }
     },
     "388b604ed9be437aacc26bb0ecd1c50d": {
      "model_module": "@jupyter-widgets/base",
      "model_module_version": "1.2.0",
      "model_name": "LayoutModel",
      "state": {}
     },
     "38cf3cb61f68427584ba1b4d1a223ee7": {
      "model_module": "@jupyter-widgets/base",
      "model_module_version": "1.2.0",
      "model_name": "LayoutModel",
      "state": {}
     },
     "38e0ca38819b4b35b512da085875f6c6": {
      "model_module": "@jupyter-widgets/controls",
      "model_module_version": "1.5.0",
      "model_name": "VBoxModel",
      "state": {
       "children": [
        "IPY_MODEL_a715d936a3ba464394d4ccbb9b7e7528",
        "IPY_MODEL_bced32f254b04d57802c62c8666070cb"
       ],
       "layout": "IPY_MODEL_6b2bb85dcdb840d3bfe81f30a63366d9"
      }
     },
     "38e2ee15bee3442f9da13cf479098d54": {
      "model_module": "@jupyter-widgets/controls",
      "model_module_version": "1.5.0",
      "model_name": "ButtonModel",
      "state": {
       "description": "Select",
       "layout": "IPY_MODEL_66af2991a44f4b6badedafecebee343c",
       "style": "IPY_MODEL_9822f5abd05843d6b29f5da4acf5770e"
      }
     },
     "38fdd39b2b814279a67257801f190a79": {
      "model_module": "@jupyter-widgets/base",
      "model_module_version": "1.2.0",
      "model_name": "LayoutModel",
      "state": {}
     },
     "39089548acdf4c8fa4186f286723bfb4": {
      "model_module": "@jupyter-widgets/base",
      "model_module_version": "1.2.0",
      "model_name": "LayoutModel",
      "state": {}
     },
     "3930add7f70744bb922bbeaefead2367": {
      "model_module": "@jupyter-widgets/controls",
      "model_module_version": "1.5.0",
      "model_name": "DescriptionStyleModel",
      "state": {
       "description_width": "initial"
      }
     },
     "394faa94dff54452a916c18672a22690": {
      "model_module": "@jupyter-widgets/base",
      "model_module_version": "1.2.0",
      "model_name": "LayoutModel",
      "state": {}
     },
     "395cfaec248146369b8c0a090cd35a67": {
      "model_module": "@jupyter-widgets/controls",
      "model_module_version": "1.5.0",
      "model_name": "VBoxModel",
      "state": {
       "children": [
        "IPY_MODEL_cf5ea8866c324affa90a682d6d2ed2d8",
        "IPY_MODEL_e89aad6a4703444cafb2af211349316e",
        "IPY_MODEL_fdaa5aa9bbba4fadab7b52505d2b791b",
        "IPY_MODEL_7b4b0d36f9c14cd9b00ac6a59c0d7649",
        "IPY_MODEL_6828f572b4e949ac91b0700f37223aa2"
       ],
       "layout": "IPY_MODEL_74eb5cfa32cc420e9cbb6b8244db5428"
      }
     },
     "3974086156874440910e082b9d4528e7": {
      "model_module": "@jupyter-widgets/controls",
      "model_module_version": "1.5.0",
      "model_name": "VBoxModel",
      "state": {
       "children": [
        "IPY_MODEL_4289b112ee25443a8c5c4d110175325e",
        "IPY_MODEL_e24d68963c334e18b4ca4e79e4178ee0"
       ],
       "layout": "IPY_MODEL_340f9d10e4134eecb644bbba4924d452"
      }
     },
     "39cd90d38724475089c57867fb9ce12c": {
      "model_module": "@jupyter-widgets/controls",
      "model_module_version": "1.5.0",
      "model_name": "DescriptionStyleModel",
      "state": {
       "description_width": "initial"
      }
     },
     "3a031489d47943a28f67da3d0a67fee4": {
      "model_module": "@jupyter-widgets/base",
      "model_module_version": "1.2.0",
      "model_name": "LayoutModel",
      "state": {}
     },
     "3a1dfef538c0444bbefdb29c87ffab80": {
      "model_module": "@jupyter-widgets/base",
      "model_module_version": "1.2.0",
      "model_name": "LayoutModel",
      "state": {}
     },
     "3ae023ebc01d4ff1b1a758573af611ce": {
      "model_module": "@jupyter-widgets/base",
      "model_module_version": "1.2.0",
      "model_name": "LayoutModel",
      "state": {}
     },
     "3b42b269cb33441d9114b77d033e18a5": {
      "model_module": "@jupyter-widgets/base",
      "model_module_version": "1.2.0",
      "model_name": "LayoutModel",
      "state": {}
     },
     "3b7fb40190e8421f84bffdbf75fe352d": {
      "model_module": "@jupyter-widgets/base",
      "model_module_version": "1.2.0",
      "model_name": "LayoutModel",
      "state": {}
     },
     "3b800ba0b779496991f5abeb1dcbfb05": {
      "model_module": "@jupyter-widgets/controls",
      "model_module_version": "1.5.0",
      "model_name": "VBoxModel",
      "state": {
       "children": [
        "IPY_MODEL_4ec4819258574dbc804a29cb440c9965",
        "IPY_MODEL_32bdb7b2c985463c97fe9a84e936d364"
       ],
       "layout": "IPY_MODEL_1a519fd23dd1403ab9459d8e93027da4"
      }
     },
     "3bfcf624d0ab42f880c2431546dd4338": {
      "model_module": "@jupyter-widgets/base",
      "model_module_version": "1.2.0",
      "model_name": "LayoutModel",
      "state": {}
     },
     "3c5bccf20b24411bab4de4813ffbe3f5": {
      "model_module": "@jupyter-widgets/controls",
      "model_module_version": "1.5.0",
      "model_name": "VBoxModel",
      "state": {
       "children": [
        "IPY_MODEL_4bd2e08ebd0b4be388afcda20e203920",
        "IPY_MODEL_cec1d49a75a04ecab71b387c0ec7c3b9"
       ],
       "layout": "IPY_MODEL_708e7227feb54bf8acf3043e583f334e"
      }
     },
     "3c8e505d4aac4098b8399cde94ea032a": {
      "model_module": "@jupyter-widgets/base",
      "model_module_version": "1.2.0",
      "model_name": "LayoutModel",
      "state": {}
     },
     "3c8f02e84624419b9723a29e3f3a8c6e": {
      "model_module": "@jupyter-widgets/controls",
      "model_module_version": "1.5.0",
      "model_name": "DescriptionStyleModel",
      "state": {
       "description_width": ""
      }
     },
     "3cc35ceeb8104a53a67761d2528a6ca9": {
      "model_module": "@jupyter-widgets/controls",
      "model_module_version": "1.5.0",
      "model_name": "HTMLModel",
      "state": {
       "layout": "IPY_MODEL_3e057dfc51c04d9984c0204554b4d4be",
       "style": "IPY_MODEL_47094311bcda47fea50a788b89b30040"
      }
     },
     "3cdb10f80c314e2b9a0bcf314f9da291": {
      "model_module": "@jupyter-widgets/controls",
      "model_module_version": "1.5.0",
      "model_name": "DescriptionStyleModel",
      "state": {
       "description_width": ""
      }
     },
     "3cfd2c4c4004477d9310aa38ef093b12": {
      "model_module": "@jupyter-widgets/base",
      "model_module_version": "1.2.0",
      "model_name": "LayoutModel",
      "state": {
       "width": "auto"
      }
     },
     "3dc253b3db3f46f1815c7f4a40f45107": {
      "model_module": "@jupyter-widgets/controls",
      "model_module_version": "1.5.0",
      "model_name": "DescriptionStyleModel",
      "state": {
       "description_width": "initial"
      }
     },
     "3e057dfc51c04d9984c0204554b4d4be": {
      "model_module": "@jupyter-widgets/base",
      "model_module_version": "1.2.0",
      "model_name": "LayoutModel",
      "state": {
       "display": "none"
      }
     },
     "3e143846de954cd99445f77aeabaab27": {
      "model_module": "@jupyter-widgets/controls",
      "model_module_version": "1.5.0",
      "model_name": "DescriptionStyleModel",
      "state": {
       "description_width": ""
      }
     },
     "3f0f46f4e11349c1b2b8fb9c1efdea67": {
      "model_module": "@jupyter-widgets/controls",
      "model_module_version": "1.5.0",
      "model_name": "DescriptionStyleModel",
      "state": {
       "description_width": ""
      }
     },
     "3f55b93b043247d5b04d416fcb9b9152": {
      "model_module": "@jupyter-widgets/controls",
      "model_module_version": "1.5.0",
      "model_name": "ButtonStyleModel",
      "state": {}
     },
     "3f60de1859b74adc93faa6d4cceaf3c4": {
      "model_module": "@jupyter-widgets/controls",
      "model_module_version": "1.5.0",
      "model_name": "DescriptionStyleModel",
      "state": {
       "description_width": ""
      }
     },
     "3f833a5cf5c243b681d927e9bb30b058": {
      "model_module": "@jupyter-widgets/controls",
      "model_module_version": "1.5.0",
      "model_name": "DescriptionStyleModel",
      "state": {
       "description_width": ""
      }
     },
     "3fbe6446ea7c4d9da6cad71e11009ecc": {
      "model_module": "@jupyter-widgets/controls",
      "model_module_version": "1.5.0",
      "model_name": "TextModel",
      "state": {
       "description": "bzz",
       "layout": "IPY_MODEL_48793366f78841dfb215ba230a0c6eab",
       "style": "IPY_MODEL_43d541399e9443a0907efb4f780172de"
      }
     },
     "3fc56027f9cb46388fa3990a7543edc3": {
      "model_module": "@jupyter-widgets/base",
      "model_module_version": "1.2.0",
      "model_name": "LayoutModel",
      "state": {
       "display": "none",
       "width": "auto"
      }
     },
     "3fc84c4972ad4d0d99cf7de4d94e81ba": {
      "model_module": "@jupyter-widgets/controls",
      "model_module_version": "1.5.0",
      "model_name": "DescriptionStyleModel",
      "state": {
       "description_width": "initial"
      }
     },
     "406c6efa17e8422aa04bce7a3ccc1cfc": {
      "model_module": "@jupyter-widgets/controls",
      "model_module_version": "1.5.0",
      "model_name": "HBoxModel",
      "state": {
       "children": [
        "IPY_MODEL_d10b4911b4ae472cbefa3a2d3b778cc1",
        "IPY_MODEL_51e328f058bb465d8d0746fe313ab9ca"
       ],
       "layout": "IPY_MODEL_e282fa86b8c34c298cc9486fca955dec"
      }
     },
     "407cbb0a69e741c985f6b9990c6cb828": {
      "model_module": "@jupyter-widgets/controls",
      "model_module_version": "1.5.0",
      "model_name": "LabelModel",
      "state": {
       "layout": "IPY_MODEL_811eb5b4b5a04d2dbf36d0d369549493",
       "style": "IPY_MODEL_539e3f6f29924dff91224f6811fa915a",
       "value": "1D Mesh"
      }
     },
     "40a3e816157b48bcb383422e0a4a346f": {
      "model_module": "@jupyter-widgets/controls",
      "model_module_version": "1.5.0",
      "model_name": "DescriptionStyleModel",
      "state": {
       "description_width": "initial"
      }
     },
     "412af3e1f9944bcea2e2063e9d01b312": {
      "model_module": "@jupyter-widgets/controls",
      "model_module_version": "1.5.0",
      "model_name": "VBoxModel",
      "state": {
       "children": [
        "IPY_MODEL_38e0ca38819b4b35b512da085875f6c6",
        "IPY_MODEL_c0fd48bf219448eda565e203664014fa"
       ],
       "layout": "IPY_MODEL_af8ab7ff994c4dbb918379e571ac826b"
      }
     },
     "415bbf2d436b402683f7ffb5279dfc25": {
      "model_module": "@jupyter-widgets/controls",
      "model_module_version": "1.5.0",
      "model_name": "SelectModel",
      "state": {
       "_options_labels": [
        "..",
        "dask-worker-space",
        "images",
        "GEOSCIENCEtemp",
        "Untitled.ipynb",
        "base_application.ipynb",
        "calculator.ipynb",
        "clustering.ipynb",
        "contouring.ipynb",
        "coordinate_transformation.ipynb",
        "create_isosurface.ipynb",
        "create_surface.ipynb",
        "data_interpolation.ipynb",
        "edge_detection.ipynb",
        "export.ipynb",
        "geophysical_inversion.ipynb",
        "object_data_selection.ipynb",
        "peak_finder.ipynb",
        "scatter.ipynb",
        "view_selection.ipynb"
       ],
       "index": null,
       "layout": "IPY_MODEL_a6a52c2ce94748f6a51204c682a1ceb3",
       "rows": 8,
       "style": "IPY_MODEL_effa0e3afeb9424297dc4c6ce7c57279"
      }
     },
     "416e6e7e984941e0badea5abdae546bc": {
      "model_module": "@jupyter-widgets/base",
      "model_module_version": "1.2.0",
      "model_name": "LayoutModel",
      "state": {
       "display": "none",
       "grid_gap": "0px 0px",
       "grid_template_areas": "\n                    'pathlist filename'\n                    'dircontent dircontent'\n                    ",
       "grid_template_columns": "60% 40%",
       "grid_template_rows": "auto auto",
       "width": "500px"
      }
     },
     "41742799de684bd1a729170d88d59676": {
      "model_module": "@jupyter-widgets/base",
      "model_module_version": "1.2.0",
      "model_name": "LayoutModel",
      "state": {
       "display": "none",
       "grid_area": "filename",
       "width": "auto"
      }
     },
     "417f5ddfd5f2420f8642500646cad05b": {
      "model_module": "@jupyter-widgets/controls",
      "model_module_version": "1.5.0",
      "model_name": "DescriptionStyleModel",
      "state": {
       "description_width": ""
      }
     },
     "4187ba3840094db68f19e8f2f53bc34f": {
      "model_module": "@jupyter-widgets/base",
      "model_module_version": "1.2.0",
      "model_name": "LayoutModel",
      "state": {}
     },
     "41c7ce6f18b34dda82846d10581d6dcd": {
      "model_module": "@jupyter-widgets/controls",
      "model_module_version": "1.5.0",
      "model_name": "VBoxModel",
      "state": {
       "children": [
        "IPY_MODEL_7ba02de37978420cacb839b7b13b9e3a",
        "IPY_MODEL_c1d920fdf1b34cc88f93065469992a9e"
       ],
       "layout": "IPY_MODEL_9f39c7a8c9ca4cf68ee2f842b439e514"
      }
     },
     "424f9982866b4d9d9a34d5851c6991a1": {
      "model_module": "@jupyter-widgets/base",
      "model_module_version": "1.2.0",
      "model_name": "LayoutModel",
      "state": {}
     },
     "4289b112ee25443a8c5c4d110175325e": {
      "model_module": "@jupyter-widgets/controls",
      "model_module_version": "1.5.0",
      "model_name": "HBoxModel",
      "state": {
       "children": [
        "IPY_MODEL_7ebec1369db1452ea5f57d7aec4deb7f"
       ],
       "layout": "IPY_MODEL_517e60a3529e46ee9f8bc4cdc5921874"
      }
     },
     "42d6e91c11904cc0a44bebbed755d9ca": {
      "model_module": "@jupyter-widgets/base",
      "model_module_version": "1.2.0",
      "model_name": "LayoutModel",
      "state": {}
     },
     "43053e272ec745fc809ae2fb0cf7ffd2": {
      "model_module": "@jupyter-widgets/controls",
      "model_module_version": "1.5.0",
      "model_name": "TextModel",
      "state": {
       "description": "Padding [W,E,N,S,D,U] (m)",
       "layout": "IPY_MODEL_81d01879aa4d467f9bc62af5683bace6",
       "style": "IPY_MODEL_8d225b546d9d4ec793acd205c7c63c6e",
       "value": "0, 0, 0, 0, 0, 0"
      }
     },
     "43784e76ec00468d84a1259bf9e0d0c7": {
      "model_module": "@jupyter-widgets/base",
      "model_module_version": "1.2.0",
      "model_name": "LayoutModel",
      "state": {}
     },
     "437af7e99167494aa10e17a1fa0a06a5": {
      "model_module": "@jupyter-widgets/controls",
      "model_module_version": "1.5.0",
      "model_name": "ButtonModel",
      "state": {
       "description": "Select",
       "layout": "IPY_MODEL_894ba5dc7d4f47a1ac4f3cdc4188725e",
       "style": "IPY_MODEL_10e02c98011e4ada8b555e6ebd056c85"
      }
     },
     "438912cced3440a8a8acec7893f7f0f6": {
      "model_module": "@jupyter-widgets/base",
      "model_module_version": "1.2.0",
      "model_name": "LayoutModel",
      "state": {
       "display": "none",
       "grid_gap": "0px 0px",
       "grid_template_areas": "\n                    'pathlist pathlist'\n                    'dircontent dircontent'\n                    ",
       "grid_template_columns": "60% 40%",
       "grid_template_rows": "auto auto",
       "width": "500px"
      }
     },
     "439c7167969341bb9362e7ef11adc9d6": {
      "model_module": "@jupyter-widgets/base",
      "model_module_version": "1.2.0",
      "model_name": "LayoutModel",
      "state": {}
     },
     "439e0bc7d72e464f8924741edf0c6cbe": {
      "model_module": "@jupyter-widgets/base",
      "model_module_version": "1.2.0",
      "model_name": "LayoutModel",
      "state": {}
     },
     "43d541399e9443a0907efb4f780172de": {
      "model_module": "@jupyter-widgets/controls",
      "model_module_version": "1.5.0",
      "model_name": "DescriptionStyleModel",
      "state": {
       "description_width": "initial"
      }
     },
     "43ed34fba5d341b6908406df19b4ddd7": {
      "model_module": "@jupyter-widgets/controls",
      "model_module_version": "1.5.0",
      "model_name": "VBoxModel",
      "state": {
       "children": [
        "IPY_MODEL_f08d5758a6f34416af9bdb92df650f91",
        "IPY_MODEL_9c61c68b620d4565aabc1433762325e4",
        "IPY_MODEL_e2ca97f003004aac93d26824a2b59495",
        "IPY_MODEL_9e989c46a0894c3490ac78ed040e6ee9",
        "IPY_MODEL_ce13b4b116544501a7560dc78baaadf7"
       ],
       "layout": "IPY_MODEL_7b3a71badc9c4af89e7bc29985955708"
      }
     },
     "43f6ae261e634c3e9b73fbdf502a5cfb": {
      "model_module": "@jupyter-widgets/controls",
      "model_module_version": "1.5.0",
      "model_name": "DescriptionStyleModel",
      "state": {
       "description_width": "initial"
      }
     },
     "4414f77d866b4fe5a9740610c0c9fd7c": {
      "model_module": "@jupyter-widgets/base",
      "model_module_version": "1.2.0",
      "model_name": "LayoutModel",
      "state": {}
     },
     "4429722dd5414eaaab4d381a706d550d": {
      "model_module": "@jupyter-widgets/controls",
      "model_module_version": "1.5.0",
      "model_name": "DescriptionStyleModel",
      "state": {
       "description_width": ""
      }
     },
     "4494ed3da2454fabb355b9beb1c4980f": {
      "model_module": "@jupyter-widgets/base",
      "model_module_version": "1.2.0",
      "model_name": "LayoutModel",
      "state": {}
     },
     "44e04cb7e937449ba121b5c42db9d5ff": {
      "model_module": "@jupyter-widgets/base",
      "model_module_version": "1.2.0",
      "model_name": "LayoutModel",
      "state": {}
     },
     "450d87d6114c4eed8a154e8faeb8642f": {
      "model_module": "@jupyter-widgets/controls",
      "model_module_version": "1.5.0",
      "model_name": "DropdownModel",
      "state": {
       "description": "Values",
       "index": null,
       "layout": "IPY_MODEL_1c17152c916f4ebb8ca084cb5fbfe7b8",
       "style": "IPY_MODEL_2f0a36916f654009bc7c98349eb58328"
      }
     },
     "452c57cb0bc84ad886e36de147fdde72": {
      "model_module": "@jupyter-widgets/base",
      "model_module_version": "1.2.0",
      "model_name": "LayoutModel",
      "state": {
       "width": "auto"
      }
     },
     "456dab278ef943b68111e34186aacddb": {
      "model_module": "@jupyter-widgets/base",
      "model_module_version": "1.2.0",
      "model_name": "LayoutModel",
      "state": {}
     },
     "457ac9ae2de540bdadb9bc7f41babc86": {
      "model_module": "@jupyter-widgets/controls",
      "model_module_version": "1.5.0",
      "model_name": "VBoxModel",
      "state": {
       "children": [
        "IPY_MODEL_8232c4fc260a4d7d8bd60c266c93a6c8",
        "IPY_MODEL_f5e901cc239e476a993f8f7f0fb8d93b"
       ],
       "layout": "IPY_MODEL_11823b8e2ad14e7488bbe37f4460cc98"
      }
     },
     "4583294ac8d140d6871fc95874d025c9": {
      "model_module": "@jupyter-widgets/controls",
      "model_module_version": "1.5.0",
      "model_name": "GridBoxModel",
      "state": {
       "children": [
        "IPY_MODEL_7ecd52647ac041fb9e498d4f88271d01",
        "IPY_MODEL_4e7fd80271994c4c999981452993ae9c",
        "IPY_MODEL_4c9e221627324ca692384f179436ffe1"
       ],
       "layout": "IPY_MODEL_a4981bc2452c4bfd90f1929061ae0f68"
      }
     },
     "463a76fc200f4beaa952bfe73cc36224": {
      "model_module": "@jupyter-widgets/base",
      "model_module_version": "1.2.0",
      "model_name": "LayoutModel",
      "state": {}
     },
     "4646e20a6da84e3b82095d6ede1229b0": {
      "model_module": "@jupyter-widgets/controls",
      "model_module_version": "1.5.0",
      "model_name": "ButtonModel",
      "state": {
       "button_style": "danger",
       "description": "Compute",
       "icon": "check",
       "layout": "IPY_MODEL_4e9fb1efc0304cda9ebb2a929f96bb84",
       "style": "IPY_MODEL_9433c8015f1e4a3e89a563feb32e7ecd",
       "tooltip": "Run computation"
      }
     },
     "464a65328ceb4f86874625e4ce02fb6a": {
      "model_module": "@jupyter-widgets/controls",
      "model_module_version": "1.5.0",
      "model_name": "DescriptionStyleModel",
      "state": {
       "description_width": "initial"
      }
     },
     "465b3bf3f70b456889253e82a59049fb": {
      "model_module": "@jupyter-widgets/controls",
      "model_module_version": "1.5.0",
      "model_name": "HTMLModel",
      "state": {
       "layout": "IPY_MODEL_7e6a456ee3eb40d187421620676d498e",
       "style": "IPY_MODEL_bb944099dffb4a3e8f8bd2a521c210af"
      }
     },
     "46fbc519b8d247e2b9be2f29fd83b79b": {
      "model_module": "@jupyter-widgets/controls",
      "model_module_version": "1.5.0",
      "model_name": "TextModel",
      "state": {
       "description": "tmi",
       "layout": "IPY_MODEL_c2c24aed1ebc466b8d484e2aada8ec92",
       "style": "IPY_MODEL_8a41e07726184ffeabea9e860caf1295"
      }
     },
     "47094311bcda47fea50a788b89b30040": {
      "model_module": "@jupyter-widgets/controls",
      "model_module_version": "1.5.0",
      "model_name": "DescriptionStyleModel",
      "state": {
       "description_width": ""
      }
     },
     "47650f177f0943a0b93ee53d0cbb4241": {
      "model_module": "@jupyter-widgets/controls",
      "model_module_version": "1.5.0",
      "model_name": "VBoxModel",
      "state": {
       "children": [
        "IPY_MODEL_9a5eee23fb04447ab8f92917f9bd41b5",
        "IPY_MODEL_9b7ef5c409274f57bcc875d61cb22366"
       ],
       "layout": "IPY_MODEL_8187b62dbf2d4c3fbf781e5e38e2e8dc"
      }
     },
     "47805e3f4b4248ff8b022416d6cc4fd5": {
      "model_module": "@jupyter-widgets/base",
      "model_module_version": "1.2.0",
      "model_name": "LayoutModel",
      "state": {}
     },
     "4797bcf9390b48da8710d6b99de99d17": {
      "model_module": "@jupyter-widgets/base",
      "model_module_version": "1.2.0",
      "model_name": "LayoutModel",
      "state": {}
     },
     "47980fc6b22e42818100f9e2e1ea987b": {
      "model_module": "@jupyter-widgets/base",
      "model_module_version": "1.2.0",
      "model_name": "LayoutModel",
      "state": {}
     },
     "47c7e45fc18d4f71b3eef9b0c4d8bc9d": {
      "model_module": "@jupyter-widgets/base",
      "model_module_version": "1.2.0",
      "model_name": "LayoutModel",
      "state": {}
     },
     "48793366f78841dfb215ba230a0c6eab": {
      "model_module": "@jupyter-widgets/base",
      "model_module_version": "1.2.0",
      "model_name": "LayoutModel",
      "state": {
       "visibility": "hidden"
      }
     },
     "488553933d4e4218956926bfc9dc67c5": {
      "model_module": "@jupyter-widgets/controls",
      "model_module_version": "1.5.0",
      "model_name": "SelectModel",
      "state": {
       "_options_labels": [
        "..",
        "dask-worker-space",
        "images",
        "GEOSCIENCEtemp",
        "Untitled.ipynb",
        "base_application.ipynb",
        "calculator.ipynb",
        "clustering.ipynb",
        "contouring.ipynb",
        "coordinate_transformation.ipynb",
        "create_isosurface.ipynb",
        "create_surface.ipynb",
        "data_interpolation.ipynb",
        "edge_detection.ipynb",
        "export.ipynb",
        "geophysical_inversion.ipynb",
        "object_data_selection.ipynb",
        "peak_finder.ipynb",
        "scatter.ipynb",
        "view_selection.ipynb"
       ],
       "index": null,
       "layout": "IPY_MODEL_54e4d5251a2943d5a363ea5853df3711",
       "rows": 8,
       "style": "IPY_MODEL_bbc1d4d51bea4583916e76c8d09414dd"
      }
     },
     "489fd23579ee4ff9be4865ad3ab3b732": {
      "model_module": "@jupyter-widgets/controls",
      "model_module_version": "1.5.0",
      "model_name": "DescriptionStyleModel",
      "state": {
       "description_width": ""
      }
     },
     "491fe3807f9346eb9d26dff56a037e55": {
      "model_module": "@jupyter-widgets/controls",
      "model_module_version": "1.5.0",
      "model_name": "DescriptionStyleModel",
      "state": {
       "description_width": "initial"
      }
     },
     "493889d792184f3db14fa0820a56669c": {
      "model_module": "@jupyter-widgets/controls",
      "model_module_version": "1.5.0",
      "model_name": "DescriptionStyleModel",
      "state": {
       "description_width": ""
      }
     },
     "494a8d7953034990800bb533ac421b3e": {
      "model_module": "@jupyter-widgets/base",
      "model_module_version": "1.2.0",
      "model_name": "LayoutModel",
      "state": {}
     },
     "499e5fc8352e4750bcc32cf3cb4411b7": {
      "model_module": "@jupyter-widgets/controls",
      "model_module_version": "1.5.0",
      "model_name": "LabelModel",
      "state": {
       "layout": "IPY_MODEL_02d45e0b77954b128d4f15ca7f34c813",
       "style": "IPY_MODEL_39cd90d38724475089c57867fb9ce12c",
       "value": "Monitoring folder"
      }
     },
     "4a0a56f2a070422cb7eefa1e6128e60a": {
      "model_module": "@jupyter-widgets/base",
      "model_module_version": "1.2.0",
      "model_name": "LayoutModel",
      "state": {}
     },
     "4a0a8e7db6e84c90954b9dd79501da40": {
      "model_module": "@jupyter-widgets/controls",
      "model_module_version": "1.5.0",
      "model_name": "FloatTextModel",
      "state": {
       "description": "Constant elevation (m)",
       "layout": "IPY_MODEL_8180023761d44ef6bfcf9f6695bd96e9",
       "step": null,
       "style": "IPY_MODEL_6886c2ce43d245d6a3f39f4b22014d84"
      }
     },
     "4a29ab84e4b7434a80420b405efa6770": {
      "model_module": "@jupyter-widgets/controls",
      "model_module_version": "1.5.0",
      "model_name": "ButtonModel",
      "state": {
       "description": "Cancel",
       "layout": "IPY_MODEL_7f61b9b25edf4e0db452b693b3e02c0e",
       "style": "IPY_MODEL_f69fd67b0c8f4fa3bdaa89f705f76ccc"
      }
     },
     "4a5091d7c24c47469156aa204743d613": {
      "model_module": "@jupyter-widgets/controls",
      "model_module_version": "1.5.0",
      "model_name": "TextModel",
      "state": {
       "description": "byz",
       "layout": "IPY_MODEL_0f728632a48a499099113b6bf1cdfac7",
       "style": "IPY_MODEL_bea7e12b722d4a76a0e11c4b01a45e6f"
      }
     },
     "4a52deb2b134411faf2f2e004cfb9670": {
      "model_module": "@jupyter-widgets/controls",
      "model_module_version": "1.5.0",
      "model_name": "CheckboxModel",
      "state": {
       "description": "Active",
       "disabled": false,
       "layout": "IPY_MODEL_d3db13420c1d4c1db4bb6754cdc0ee06",
       "style": "IPY_MODEL_f78c555b9d914e21bb686cb9b0a5a967",
       "value": true
      }
     },
     "4a662db89da34068a4bad861758d9f9e": {
      "model_module": "@jupyter-widgets/controls",
      "model_module_version": "1.5.0",
      "model_name": "DescriptionStyleModel",
      "state": {
       "description_width": "initial"
      }
     },
     "4a7a9ae564c6410989da48c4b382786f": {
      "model_module": "@jupyter-widgets/base",
      "model_module_version": "1.2.0",
      "model_name": "LayoutModel",
      "state": {
       "display": "none",
       "grid_gap": "0px 0px",
       "grid_template_areas": "\n                    'pathlist pathlist'\n                    'dircontent dircontent'\n                    ",
       "grid_template_columns": "60% 40%",
       "grid_template_rows": "auto auto",
       "width": "500px"
      }
     },
     "4aba720a1c6b4227bfda18f0bbe24770": {
      "model_module": "@jupyter-widgets/controls",
      "model_module_version": "1.5.0",
      "model_name": "VBoxModel",
      "state": {
       "children": [
        "IPY_MODEL_0c57e0053b8b4724af75cd658446a9e9",
        "IPY_MODEL_c25557ec33a14c75962b3b93e1522aa3"
       ],
       "layout": "IPY_MODEL_95322f0683d542e583f9b78b749b0cb7"
      }
     },
     "4acca38696884bb1ac2efd4b3ded9421": {
      "model_module": "@jupyter-widgets/base",
      "model_module_version": "1.2.0",
      "model_name": "LayoutModel",
      "state": {}
     },
     "4ade76550a3b4e729d8a4bf1ba801e6b": {
      "model_module": "@jupyter-widgets/base",
      "model_module_version": "1.2.0",
      "model_name": "LayoutModel",
      "state": {
       "width": "auto"
      }
     },
     "4af367d574bc44ca9f9c6b223ceed0aa": {
      "model_module": "@jupyter-widgets/base",
      "model_module_version": "1.2.0",
      "model_name": "LayoutModel",
      "state": {
       "display": "none",
       "width": "auto"
      }
     },
     "4b09a383b44444249bc915aeda1f8ac7": {
      "model_module": "@jupyter-widgets/controls",
      "model_module_version": "1.5.0",
      "model_name": "VBoxModel",
      "state": {
       "children": [
        "IPY_MODEL_b5f73aa5762c4e268b1ca4526ca096f9",
        "IPY_MODEL_b69456c01bc041fa9dae2a701561125b"
       ],
       "layout": "IPY_MODEL_e20af906d60545e2a3aa49d4f65b4ef3"
      }
     },
     "4b0e49d0afb1431e961264aace6126bb": {
      "model_module": "@jupyter-widgets/base",
      "model_module_version": "1.2.0",
      "model_name": "LayoutModel",
      "state": {}
     },
     "4b3f539d6dcc4ec7beb103201b28301b": {
      "model_module": "@jupyter-widgets/controls",
      "model_module_version": "1.5.0",
      "model_name": "DescriptionStyleModel",
      "state": {
       "description_width": ""
      }
     },
     "4bc4cec658a245b4b27800a8e410ce9f": {
      "model_module": "@jupyter-widgets/controls",
      "model_module_version": "1.5.0",
      "model_name": "GridBoxModel",
      "state": {
       "children": [
        "IPY_MODEL_613d165c697e42ef8fa11ded2a6de578",
        "IPY_MODEL_836f729b2ef443e7a1f187b27fc58f29",
        "IPY_MODEL_8890033b95cd47cc83daddbcbe27d442"
       ],
       "layout": "IPY_MODEL_8ccc077f6dd148e395dbd8515a2e229e"
      }
     },
     "4bd2e08ebd0b4be388afcda20e203920": {
      "model_module": "@jupyter-widgets/controls",
      "model_module_version": "1.5.0",
      "model_name": "DropdownModel",
      "state": {
       "_options_labels": [
        "",
        "--- Channels ---",
        "Airborne_Gxx",
        "Airborne_Gxy",
        "Airborne_Gxz",
        "Airborne_Gyy",
        "Airborne_Gyz",
        "Airborne_Gz",
        "Airborne_Gzz",
        "Airborne_TMI",
        "Ground_Gz",
        "Z"
       ],
       "description": "Lines field",
       "index": 0,
       "layout": "IPY_MODEL_bb102fdd73bf49b0a954c2be96c6642c",
       "style": "IPY_MODEL_0331cc8f13764fa3bbee094a00ae13d7"
      }
     },
     "4c774fcf4037426596b26523152ac051": {
      "model_module": "@jupyter-widgets/controls",
      "model_module_version": "1.5.0",
      "model_name": "DropdownModel",
      "state": {
       "_options_labels": [
        "",
        "Data_TEM_pseudo3DEPSG_4326",
        "Gravity_Magnetics_drape60mEPSG_4326",
        "Iso_Iteration_7_model_0.015",
        "Iso_Iteration_7_model_0.01",
        "Iso_Iteration_7_model_0.02",
        "Iso_Iteration_7_model_0.005",
        "Iso_Iteration_7_model_0.0025",
        "fault_splay1",
        "fault_Cliff_Lake",
        "fault_Other_FlinFlon",
        "fault_Club_Lake_splay",
        "fault_Catherine_splay2",
        "fault_Birch_View",
        "fault_Dion_Lake",
        "fault_FlinFlon_splay",
        "fault_West_Mandy_Road",
        "fault_Channing",
        "fault_Ross_Lake",
        "fault_Louis_Hidden",
        "fault_Lake_View_thrust",
        "contact_Schist_Lake",
        "fault_Burley_Lake",
        "fault_Dion_Lake_splay",
        "fault_Green_Lake",
        "fault_FlinFlon",
        "fault_Catherine_splay1",
        "fault_East_Mandy_Road",
        "fault_Other_FlinFlon_South",
        "fault_Catherine_splay4",
        "contact_Stitt_Island",
        "fault_Club_Lake",
        "fault_Tailing_Pond",
        "35_Hidden_Reservoir_Hr5",
        "29_Hidden_Reservoir_Hr1a",
        "60_BlueLagoon_Fb2",
        "20_FlinFlon_Undivided_Int_Dykes_D2f",
        "04_Boundary_Intrusive_S4h",
        "53_Millrock_Rhyolite_Fm4b",
        "19_FlinFlon_Undivided_Int_Dykes_D2b",
        "18_FlinFlon_Undivided_Int_Dykes_777_D2b",
        "06_Phantom_Lake_Intrusive_S3a",
        "21_FlinFlon_Undivided_Int_Dykes_D3a",
        "43_Millrock_CHLSH_South",
        "56_Millrock_Basalt_Fm1ba",
        "17_FlinFlon_Undivided_Int_Dykes_D2",
        "32_Hidden_Reservoir_Hr1b_SW",
        "11_Missi_M3_NE",
        "13_Missi_M1",
        "07_Annabel_Granitoid_S1",
        "45_Millrock_Gabbro_South",
        "01_Late_Intrusive_S5b",
        "31_Hidden_Reservoir_Hr1c_SW",
        "52_Millrock_Rhyolite_Fm4_West_check",
        "55_Millrock_Basalt_Fm1bf",
        "34_Hidden_Reservoir_Hr2b",
        "03_Boundary_Intrusive_S4b",
        "42_Millrock_CHLSH_North",
        "26_Louis_L3",
        "23_FlinFlon_Undivided_Int_Felsic_D4g",
        "30_Hidden_Reservoir_Hr1b",
        "59_BlueLagoon_Fb3",
        "49_Millrock_MVR_Fm5d",
        "44_Millrock_Gabbro_North",
        "27_Hidden_Carlisle_Hc4",
        "22_FlinFlon_Undivided_Int_Felsic_D4e",
        "02_Boundary_Intrusive_S4a",
        "61_BlueLagoon_Fb1_NW",
        "05_Boundary_Intrusive_S4g",
        "39_Ore_Callinan",
        "38_Ore_Dan_Owens",
        "40_Ore_FlinFlon",
        "Inversion_VTEM_Model",
        "Gravity_Magnetics_drape60m",
        "CDI_VTEM_model",
        "Data_FEM_pseudo3D",
        "O2O_Interp_25m",
        "geochem",
        "Inversion_DIGHEM_Model",
        "Topography",
        "Data_TEM_pseudo3D"
       ],
       "description": "Object",
       "index": 0,
       "layout": "IPY_MODEL_084fd3052d5b4979a13b7ccad65997e0",
       "style": "IPY_MODEL_ddf5e33079c14c16b8f2dd1c37dd9a60"
      }
     },
     "4c9e221627324ca692384f179436ffe1": {
      "model_module": "@jupyter-widgets/controls",
      "model_module_version": "1.5.0",
      "model_name": "SelectModel",
      "state": {
       "_options_labels": [
        "..",
        "dask-worker-space",
        "images",
        "GEOSCIENCEtemp",
        "Untitled.ipynb",
        "base_application.ipynb",
        "calculator.ipynb",
        "clustering.ipynb",
        "contouring.ipynb",
        "coordinate_transformation.ipynb",
        "create_isosurface.ipynb",
        "create_surface.ipynb",
        "data_interpolation.ipynb",
        "edge_detection.ipynb",
        "export.ipynb",
        "geophysical_inversion.ipynb",
        "object_data_selection.ipynb",
        "peak_finder.ipynb",
        "scatter.ipynb",
        "view_selection.ipynb"
       ],
       "index": null,
       "layout": "IPY_MODEL_c371dd8c360041b4b78580e649fc2efd",
       "rows": 8,
       "style": "IPY_MODEL_e2ff39a02dce409db6790b56b32505a9"
      }
     },
     "4d08cd984a69455a9168e8cc26a586a1": {
      "model_module": "@jupyter-widgets/controls",
      "model_module_version": "1.5.0",
      "model_name": "DescriptionStyleModel",
      "state": {
       "description_width": ""
      }
     },
     "4d56d6e956954623827198a6eb8c0396": {
      "model_module": "@jupyter-widgets/controls",
      "model_module_version": "1.5.0",
      "model_name": "DescriptionStyleModel",
      "state": {
       "description_width": "initial"
      }
     },
     "4d6897076dce408fa0587f95fc3fa907": {
      "model_module": "@jupyter-widgets/controls",
      "model_module_version": "1.5.0",
      "model_name": "TextModel",
      "state": {
       "layout": "IPY_MODEL_802f123c81774fa68fb3e2623afb34d8",
       "placeholder": "output filename",
       "style": "IPY_MODEL_f281209d51dc46b8b847caa9465b711b"
      }
     },
     "4d97e46442ef4e73b2d64a3bc1216d0f": {
      "model_module": "@jupyter-widgets/controls",
      "model_module_version": "1.5.0",
      "model_name": "DescriptionStyleModel",
      "state": {
       "description_width": ""
      }
     },
     "4db54e4c2f9148be80dc45c60eeb65e6": {
      "model_module": "@jupyter-widgets/controls",
      "model_module_version": "1.5.0",
      "model_name": "LabelModel",
      "state": {
       "layout": "IPY_MODEL_e607bd9996dd42779ed15343d9e09205",
       "style": "IPY_MODEL_d6eb52e42bbd4c42bfb389713f3bb72f",
       "value": "Monitoring folder"
      }
     },
     "4dd6ddce2cfb486fb49e08a327e7f921": {
      "model_module": "@jupyter-widgets/controls",
      "model_module_version": "1.5.0",
      "model_name": "VBoxModel",
      "state": {
       "children": [
        "IPY_MODEL_e627dfa1de504d46b0ec6b571344cc5f",
        "IPY_MODEL_c7a903d8666f4494b97360aa5a77e19e",
        "IPY_MODEL_ce569a34e4ee4522a1876320df14af78"
       ],
       "layout": "IPY_MODEL_6df4b4712e5a4f6d9be44f5ed32fc3aa"
      }
     },
     "4e168e84a4914a89a05fc9cc0ebc457d": {
      "model_module": "@jupyter-widgets/controls",
      "model_module_version": "1.5.0",
      "model_name": "DropdownModel",
      "state": {
       "description": "Values",
       "index": null,
       "layout": "IPY_MODEL_a3f82832e673442694991fa30c24d872",
       "style": "IPY_MODEL_5db20c95c7be4ba0b1bd8a39624b6b2d"
      }
     },
     "4e2d70495e274e30be60d625c1c43537": {
      "model_module": "@jupyter-widgets/base",
      "model_module_version": "1.2.0",
      "model_name": "LayoutModel",
      "state": {}
     },
     "4e5a99bd77574b0fbd2e643b38fedb73": {
      "model_module": "@jupyter-widgets/controls",
      "model_module_version": "1.5.0",
      "model_name": "DropdownModel",
      "state": {
       "_options_labels": [
        "",
        "Data_TEM_pseudo3DEPSG_4326",
        "Gravity_Magnetics_drape60mEPSG_4326",
        "Iso_Iteration_7_model_0.015",
        "Iso_Iteration_7_model_0.01",
        "Iso_Iteration_7_model_0.02",
        "Iso_Iteration_7_model_0.005",
        "Iso_Iteration_7_model_0.0025",
        "fault_splay1",
        "fault_Cliff_Lake",
        "fault_Other_FlinFlon",
        "fault_Club_Lake_splay",
        "fault_Catherine_splay2",
        "fault_Birch_View",
        "fault_Dion_Lake",
        "fault_FlinFlon_splay",
        "fault_West_Mandy_Road",
        "fault_Channing",
        "fault_Ross_Lake",
        "fault_Louis_Hidden",
        "fault_Lake_View_thrust",
        "contact_Schist_Lake",
        "fault_Burley_Lake",
        "fault_Dion_Lake_splay",
        "fault_Green_Lake",
        "fault_FlinFlon",
        "fault_Catherine_splay1",
        "fault_East_Mandy_Road",
        "fault_Other_FlinFlon_South",
        "fault_Catherine_splay4",
        "contact_Stitt_Island",
        "fault_Club_Lake",
        "fault_Tailing_Pond",
        "35_Hidden_Reservoir_Hr5",
        "29_Hidden_Reservoir_Hr1a",
        "60_BlueLagoon_Fb2",
        "20_FlinFlon_Undivided_Int_Dykes_D2f",
        "04_Boundary_Intrusive_S4h",
        "53_Millrock_Rhyolite_Fm4b",
        "19_FlinFlon_Undivided_Int_Dykes_D2b",
        "18_FlinFlon_Undivided_Int_Dykes_777_D2b",
        "06_Phantom_Lake_Intrusive_S3a",
        "21_FlinFlon_Undivided_Int_Dykes_D3a",
        "43_Millrock_CHLSH_South",
        "56_Millrock_Basalt_Fm1ba",
        "17_FlinFlon_Undivided_Int_Dykes_D2",
        "32_Hidden_Reservoir_Hr1b_SW",
        "11_Missi_M3_NE",
        "13_Missi_M1",
        "07_Annabel_Granitoid_S1",
        "45_Millrock_Gabbro_South",
        "01_Late_Intrusive_S5b",
        "31_Hidden_Reservoir_Hr1c_SW",
        "52_Millrock_Rhyolite_Fm4_West_check",
        "55_Millrock_Basalt_Fm1bf",
        "34_Hidden_Reservoir_Hr2b",
        "03_Boundary_Intrusive_S4b",
        "42_Millrock_CHLSH_North",
        "26_Louis_L3",
        "23_FlinFlon_Undivided_Int_Felsic_D4g",
        "30_Hidden_Reservoir_Hr1b",
        "59_BlueLagoon_Fb3",
        "49_Millrock_MVR_Fm5d",
        "44_Millrock_Gabbro_North",
        "27_Hidden_Carlisle_Hc4",
        "22_FlinFlon_Undivided_Int_Felsic_D4e",
        "02_Boundary_Intrusive_S4a",
        "61_BlueLagoon_Fb1_NW",
        "05_Boundary_Intrusive_S4g",
        "39_Ore_Callinan",
        "38_Ore_Dan_Owens",
        "40_Ore_FlinFlon",
        "Inversion_VTEM_Model",
        "Gravity_Magnetics_drape60m",
        "CDI_VTEM_model",
        "Data_FEM_pseudo3D",
        "O2O_Interp_25m",
        "geochem",
        "Inversion_DIGHEM_Model",
        "Topography",
        "Data_TEM_pseudo3D"
       ],
       "description": "Object:",
       "index": 79,
       "layout": "IPY_MODEL_1a07cb3ed0844fe4bdbeaa06e8e51e01",
       "style": "IPY_MODEL_d070a81d5cc244efa00235235bbf2979"
      }
     },
     "4e7fd80271994c4c999981452993ae9c": {
      "model_module": "@jupyter-widgets/controls",
      "model_module_version": "1.5.0",
      "model_name": "TextModel",
      "state": {
       "layout": "IPY_MODEL_7b3d199423b34f488686c35cf363a40e",
       "placeholder": "output filename",
       "style": "IPY_MODEL_303207877bb943ac92349badc48ee567"
      }
     },
     "4e9fb1efc0304cda9ebb2a929f96bb84": {
      "model_module": "@jupyter-widgets/base",
      "model_module_version": "1.2.0",
      "model_name": "LayoutModel",
      "state": {}
     },
     "4eac15c19dfc4c18b8d5ff62680d1860": {
      "model_module": "@jupyter-widgets/base",
      "model_module_version": "1.2.0",
      "model_name": "LayoutModel",
      "state": {
       "display": "none"
      }
     },
     "4ec4819258574dbc804a29cb440c9965": {
      "model_module": "@jupyter-widgets/controls",
      "model_module_version": "1.5.0",
      "model_name": "LabelModel",
      "state": {
       "layout": "IPY_MODEL_0a1797c7bd33414b85446828e8a21053",
       "style": "IPY_MODEL_c2306c1c541d475faea7c6b30e159bca",
       "value": "Monitoring folder"
      }
     },
     "4fb65851001a43de9c74a644ce51714e": {
      "model_module": "@jupyter-widgets/base",
      "model_module_version": "1.2.0",
      "model_name": "LayoutModel",
      "state": {}
     },
     "4fbee1331b4843e19dded79aa0475a02": {
      "model_module": "@jupyter-widgets/base",
      "model_module_version": "1.2.0",
      "model_name": "LayoutModel",
      "state": {}
     },
     "500d701acb464a99823e8bd7ae074580": {
      "model_module": "@jupyter-widgets/base",
      "model_module_version": "1.2.0",
      "model_name": "LayoutModel",
      "state": {}
     },
     "5014ffd01a464dbea2e0b3fddeedceef": {
      "model_module": "@jupyter-widgets/controls",
      "model_module_version": "1.5.0",
      "model_name": "DescriptionStyleModel",
      "state": {
       "description_width": "initial"
      }
     },
     "504f8222e5a24fd4a5ec7108cb10b707": {
      "model_module": "@jupyter-widgets/controls",
      "model_module_version": "1.5.0",
      "model_name": "VBoxModel",
      "state": {
       "children": [
        "IPY_MODEL_b697abac9d234795a41c16614d92f030",
        "IPY_MODEL_0053c2a3a6ba4014aa98ec3377ebeb97",
        "IPY_MODEL_624ae8b57c4f433ca1e0ea15b03bec83"
       ],
       "layout": "IPY_MODEL_fa908ab7e6e04b14b98d2116b7fc258d"
      }
     },
     "50bed70d5d2a43c696ba97b5d4c8eff8": {
      "model_module": "@jupyter-widgets/controls",
      "model_module_version": "1.5.0",
      "model_name": "DescriptionStyleModel",
      "state": {
       "description_width": ""
      }
     },
     "517e60a3529e46ee9f8bc4cdc5921874": {
      "model_module": "@jupyter-widgets/base",
      "model_module_version": "1.2.0",
      "model_name": "LayoutModel",
      "state": {}
     },
     "519e66bd8f5d407898e3c5af9e826908": {
      "model_module": "@jupyter-widgets/base",
      "model_module_version": "1.2.0",
      "model_name": "LayoutModel",
      "state": {}
     },
     "51c0d76c96244f72b63dacbb82a30fec": {
      "model_module": "@jupyter-widgets/controls",
      "model_module_version": "1.5.0",
      "model_name": "DescriptionStyleModel",
      "state": {
       "description_width": "initial"
      }
     },
     "51e328f058bb465d8d0746fe313ab9ca": {
      "model_module": "@jupyter-widgets/controls",
      "model_module_version": "1.5.0",
      "model_name": "ButtonModel",
      "state": {
       "description": "Create copy:",
       "layout": "IPY_MODEL_7ed9598ce08d40568e4a668b3c2aa156",
       "style": "IPY_MODEL_083c58dd828a48c4b27600d5a23b0a78"
      }
     },
     "51fbba03e02f4b4aa4db5006b4110cfe": {
      "model_module": "@jupyter-widgets/controls",
      "model_module_version": "1.5.0",
      "model_name": "HBoxModel",
      "state": {
       "children": [
        "IPY_MODEL_67a0558203e746b5a04de92e9ea9258e",
        "IPY_MODEL_8ca8ce37b7c24bc7938215252d6bd4ff",
        "IPY_MODEL_d52fe223a44f47ac9e24b7bef87a9bb9"
       ],
       "layout": "IPY_MODEL_0737ea4cc5634c609db3fcff5846e027"
      }
     },
     "52088395fd8e49aea078f84a4ad35b08": {
      "model_module": "@jupyter-widgets/controls",
      "model_module_version": "1.5.0",
      "model_name": "ButtonStyleModel",
      "state": {}
     },
     "52118b734986417fb2a5343374f34ffa": {
      "model_module": "@jupyter-widgets/controls",
      "model_module_version": "1.5.0",
      "model_name": "DescriptionStyleModel",
      "state": {
       "description_width": "initial"
      }
     },
     "5268d0354c854525b2284600566e60c9": {
      "model_module": "@jupyter-widgets/base",
      "model_module_version": "1.2.0",
      "model_name": "LayoutModel",
      "state": {
       "width": "auto"
      }
     },
     "5277bedecec0416da57bfaee4af5b489": {
      "model_module": "@jupyter-widgets/controls",
      "model_module_version": "1.5.0",
      "model_name": "DescriptionStyleModel",
      "state": {
       "description_width": ""
      }
     },
     "527fe96380b746eeaf60108b126d3a59": {
      "model_module": "@jupyter-widgets/controls",
      "model_module_version": "1.5.0",
      "model_name": "ButtonStyleModel",
      "state": {}
     },
     "52997ed32c474d05b03958fb23f494a4": {
      "model_module": "@jupyter-widgets/controls",
      "model_module_version": "1.5.0",
      "model_name": "ButtonStyleModel",
      "state": {}
     },
     "529d27e1395947f087255b2fa0c50bcf": {
      "model_module": "@jupyter-widgets/base",
      "model_module_version": "1.2.0",
      "model_name": "LayoutModel",
      "state": {}
     },
     "52b1eca62f0a47d1959d1606ccb3d236": {
      "model_module": "@jupyter-widgets/base",
      "model_module_version": "1.2.0",
      "model_name": "LayoutModel",
      "state": {}
     },
     "52d2ae2ce6664e58bb0426a242008fef": {
      "model_module": "@jupyter-widgets/base",
      "model_module_version": "1.2.0",
      "model_name": "LayoutModel",
      "state": {
       "grid_area": "dircontent",
       "width": "auto"
      }
     },
     "53020c77f5374740a970153db2ac22b6": {
      "model_module": "@jupyter-widgets/controls",
      "model_module_version": "1.5.0",
      "model_name": "VBoxModel",
      "state": {
       "children": [
        "IPY_MODEL_7e24c4735b114063bf8eed6c7830ebff",
        "IPY_MODEL_376fc84a9e524c688d950a2f903682c5"
       ],
       "layout": "IPY_MODEL_af12d3ff40de4ba7a94148d07c489efd"
      }
     },
     "5317091fae96418083f41eb2fbb0ef30": {
      "model_module": "@jupyter-widgets/controls",
      "model_module_version": "1.5.0",
      "model_name": "DescriptionStyleModel",
      "state": {
       "description_width": ""
      }
     },
     "532ca7fb722b4c278b7a2d52bcec9dbe": {
      "model_module": "@jupyter-widgets/controls",
      "model_module_version": "1.5.0",
      "model_name": "HBoxModel",
      "state": {
       "children": [
        "IPY_MODEL_29a9fcbcab5342a9a8a778f9ba21df73",
        "IPY_MODEL_acb8565a41124c75be86f6995d4020cd"
       ],
       "layout": "IPY_MODEL_388b604ed9be437aacc26bb0ecd1c50d"
      }
     },
     "539e3f6f29924dff91224f6811fa915a": {
      "model_module": "@jupyter-widgets/controls",
      "model_module_version": "1.5.0",
      "model_name": "DescriptionStyleModel",
      "state": {
       "description_width": ""
      }
     },
     "54d344670eeb474787dac91f09c2b38b": {
      "model_module": "@jupyter-widgets/controls",
      "model_module_version": "1.5.0",
      "model_name": "HTMLModel",
      "state": {
       "layout": "IPY_MODEL_0afb996dba804ba98d5868fd7ff44b9c",
       "style": "IPY_MODEL_81cfa5c3ddce449aa4d63bc63adbae98"
      }
     },
     "54d6db8fba074171b465f6453cf70aee": {
      "model_module": "@jupyter-widgets/controls",
      "model_module_version": "1.5.0",
      "model_name": "VBoxModel",
      "state": {
       "children": [
        "IPY_MODEL_5b678cc1ac564d159c73dcbc6afc1698",
        "IPY_MODEL_8da54c9271eb45a285e8dec35e61f6fb"
       ],
       "layout": "IPY_MODEL_e5e5a26e22434102a6950c6cdab84d74"
      }
     },
     "54e4d5251a2943d5a363ea5853df3711": {
      "model_module": "@jupyter-widgets/base",
      "model_module_version": "1.2.0",
      "model_name": "LayoutModel",
      "state": {
       "grid_area": "dircontent",
       "width": "auto"
      }
     },
     "5519363c2e3e4ab28e2031cbf9e89186": {
      "model_module": "@jupyter-widgets/base",
      "model_module_version": "1.2.0",
      "model_name": "LayoutModel",
      "state": {}
     },
     "554c504087c2448eb7858a41fc8a443b": {
      "model_module": "@jupyter-widgets/base",
      "model_module_version": "1.2.0",
      "model_name": "LayoutModel",
      "state": {}
     },
     "5550014fb85e45579d59697ef5476444": {
      "model_module": "@jupyter-widgets/base",
      "model_module_version": "1.2.0",
      "model_name": "LayoutModel",
      "state": {
       "width": "auto"
      }
     },
     "5586b1bc1a2948ac93e7a449c2e377a8": {
      "model_module": "@jupyter-widgets/controls",
      "model_module_version": "1.5.0",
      "model_name": "DescriptionStyleModel",
      "state": {
       "description_width": "initial"
      }
     },
     "55b1f1b3b76b43feadcc21be7866fece": {
      "model_module": "@jupyter-widgets/controls",
      "model_module_version": "1.5.0",
      "model_name": "VBoxModel",
      "state": {
       "children": [
        "IPY_MODEL_ff02f78d9d224312ac6a80ace29300bf",
        "IPY_MODEL_2a3d03cfc7fa44ac8f5367de6a266271",
        "IPY_MODEL_87c701d9fb02472c9f4134cfc739c1fd"
       ],
       "layout": "IPY_MODEL_9f2d4e5cf4c642ae83fca87381b83810"
      }
     },
     "561824b4a5134badb34361099859914a": {
      "model_module": "@jupyter-widgets/base",
      "model_module_version": "1.2.0",
      "model_name": "LayoutModel",
      "state": {}
     },
     "5715167512a54aef98673c2b9a87c186": {
      "model_module": "@jupyter-widgets/controls",
      "model_module_version": "1.5.0",
      "model_name": "LabelModel",
      "state": {
       "layout": "IPY_MODEL_7f29163b713d4096855a2e2257285c62",
       "style": "IPY_MODEL_d2b566a65e7e469598dd88ac651f4663",
       "value": "Data Count: 0"
      }
     },
     "5743e8a9557b414da62b3e53951c4115": {
      "model_module": "@jupyter-widgets/controls",
      "model_module_version": "1.5.0",
      "model_name": "DescriptionStyleModel",
      "state": {
       "description_width": "initial"
      }
     },
     "5755d5613d5d43d5bd74ca3088fbb387": {
      "model_module": "@jupyter-widgets/base",
      "model_module_version": "1.2.0",
      "model_name": "LayoutModel",
      "state": {
       "display": "none"
      }
     },
     "575e3a264b4043248eb09518fc7860dc": {
      "model_module": "@jupyter-widgets/controls",
      "model_module_version": "1.5.0",
      "model_name": "ButtonStyleModel",
      "state": {}
     },
     "578bd78c2c224b2cbf68681f097a380e": {
      "model_module": "@jupyter-widgets/base",
      "model_module_version": "1.2.0",
      "model_name": "LayoutModel",
      "state": {}
     },
     "57a9de14170a44c2aee501c978467cfa": {
      "model_module": "@jupyter-widgets/base",
      "model_module_version": "1.2.0",
      "model_name": "LayoutModel",
      "state": {
       "display": "none"
      }
     },
     "5837febe9582430ea6124f6344651ee7": {
      "model_module": "@jupyter-widgets/controls",
      "model_module_version": "1.5.0",
      "model_name": "DescriptionStyleModel",
      "state": {
       "description_width": "initial"
      }
     },
     "5860af25ee014959b17f5da5851bc305": {
      "model_module": "@jupyter-widgets/controls",
      "model_module_version": "1.5.0",
      "model_name": "DropdownModel",
      "state": {
       "_options_labels": [
        "",
        "Data_TEM_pseudo3DEPSG_4326",
        "Gravity_Magnetics_drape60mEPSG_4326",
        "Iso_Iteration_7_model_0.015",
        "Iso_Iteration_7_model_0.01",
        "Iso_Iteration_7_model_0.02",
        "Iso_Iteration_7_model_0.005",
        "Iso_Iteration_7_model_0.0025",
        "fault_splay1",
        "fault_Cliff_Lake",
        "fault_Other_FlinFlon",
        "fault_Club_Lake_splay",
        "fault_Catherine_splay2",
        "fault_Birch_View",
        "fault_Dion_Lake",
        "fault_FlinFlon_splay",
        "fault_West_Mandy_Road",
        "fault_Channing",
        "fault_Ross_Lake",
        "fault_Louis_Hidden",
        "fault_Lake_View_thrust",
        "contact_Schist_Lake",
        "fault_Burley_Lake",
        "fault_Dion_Lake_splay",
        "fault_Green_Lake",
        "fault_FlinFlon",
        "fault_Catherine_splay1",
        "fault_East_Mandy_Road",
        "fault_Other_FlinFlon_South",
        "fault_Catherine_splay4",
        "contact_Stitt_Island",
        "fault_Club_Lake",
        "fault_Tailing_Pond",
        "35_Hidden_Reservoir_Hr5",
        "29_Hidden_Reservoir_Hr1a",
        "60_BlueLagoon_Fb2",
        "20_FlinFlon_Undivided_Int_Dykes_D2f",
        "04_Boundary_Intrusive_S4h",
        "53_Millrock_Rhyolite_Fm4b",
        "19_FlinFlon_Undivided_Int_Dykes_D2b",
        "18_FlinFlon_Undivided_Int_Dykes_777_D2b",
        "06_Phantom_Lake_Intrusive_S3a",
        "21_FlinFlon_Undivided_Int_Dykes_D3a",
        "43_Millrock_CHLSH_South",
        "56_Millrock_Basalt_Fm1ba",
        "17_FlinFlon_Undivided_Int_Dykes_D2",
        "32_Hidden_Reservoir_Hr1b_SW",
        "11_Missi_M3_NE",
        "13_Missi_M1",
        "07_Annabel_Granitoid_S1",
        "45_Millrock_Gabbro_South",
        "01_Late_Intrusive_S5b",
        "31_Hidden_Reservoir_Hr1c_SW",
        "52_Millrock_Rhyolite_Fm4_West_check",
        "55_Millrock_Basalt_Fm1bf",
        "34_Hidden_Reservoir_Hr2b",
        "03_Boundary_Intrusive_S4b",
        "42_Millrock_CHLSH_North",
        "26_Louis_L3",
        "23_FlinFlon_Undivided_Int_Felsic_D4g",
        "30_Hidden_Reservoir_Hr1b",
        "59_BlueLagoon_Fb3",
        "49_Millrock_MVR_Fm5d",
        "44_Millrock_Gabbro_North",
        "27_Hidden_Carlisle_Hc4",
        "22_FlinFlon_Undivided_Int_Felsic_D4e",
        "02_Boundary_Intrusive_S4a",
        "61_BlueLagoon_Fb1_NW",
        "05_Boundary_Intrusive_S4g",
        "39_Ore_Callinan",
        "38_Ore_Dan_Owens",
        "40_Ore_FlinFlon",
        "Inversion_VTEM_Model",
        "Gravity_Magnetics_drape60m",
        "CDI_VTEM_model",
        "Data_FEM_pseudo3D",
        "O2O_Interp_25m",
        "geochem",
        "Inversion_DIGHEM_Model",
        "Topography",
        "Data_TEM_pseudo3D"
       ],
       "description": "Object:",
       "index": 0,
       "layout": "IPY_MODEL_dbcead9448b94f02b23e9a9fc1e679fb",
       "style": "IPY_MODEL_b1c1dcdf4ca84cf7a3661f211e312a07"
      }
     },
     "5931902348bf4797945faa5be1a29bbf": {
      "model_module": "@jupyter-widgets/controls",
      "model_module_version": "1.5.0",
      "model_name": "HBoxModel",
      "state": {
       "children": [
        "IPY_MODEL_38e2ee15bee3442f9da13cf479098d54",
        "IPY_MODEL_f2d66fed7aa54d6292a2a3c6f6c6ae87",
        "IPY_MODEL_b506700f35b6464294efc2aec831816b"
       ],
       "layout": "IPY_MODEL_e3d5ed96cf704d6f99e68508f6f83af1"
      }
     },
     "59558b19d46440c8b59114937b13951f": {
      "model_module": "@jupyter-widgets/base",
      "model_module_version": "1.2.0",
      "model_name": "LayoutModel",
      "state": {
       "grid_area": "dircontent",
       "width": "auto"
      }
     },
     "5956f5e3292044a5bc24a5fe96194ef1": {
      "model_module": "@jupyter-widgets/controls",
      "model_module_version": "1.5.0",
      "model_name": "LabelModel",
      "state": {
       "layout": "IPY_MODEL_744a0d84c2a949c19dc3a566543e8b56",
       "style": "IPY_MODEL_691a90840063488595ee80db456c18c4",
       "value": "Topo, Sensor and Line Location Options"
      }
     },
     "59c25f7e2ff143c2b5cc31c4871727c2": {
      "model_module": "@jupyter-widgets/controls",
      "model_module_version": "1.5.0",
      "model_name": "TextModel",
      "state": {
       "description": "Offsets (x,y,z)",
       "layout": "IPY_MODEL_c96bd5465e1f48318a13b3961cd47ebd",
       "style": "IPY_MODEL_e1a014daa56c48da999f1cebb72df532",
       "value": "0, 0, 0"
      }
     },
     "59de52258ccd4de784f26a5efe6a6e05": {
      "model_module": "@jupyter-widgets/controls",
      "model_module_version": "1.5.0",
      "model_name": "VBoxModel",
      "state": {
       "children": [
        "IPY_MODEL_7a0169ef6996451ba1bcaacceb99efff",
        "IPY_MODEL_a525a9f46c2b4737880df30964bcf10d"
       ],
       "layout": "IPY_MODEL_6c22f53f26c94b9a91f687a81292ad32"
      }
     },
     "5a0cfc36849b46fca3eb2117d11e7f57": {
      "model_module": "@jupyter-widgets/base",
      "model_module_version": "1.2.0",
      "model_name": "LayoutModel",
      "state": {
       "display": "none",
       "grid_gap": "0px 0px",
       "grid_template_areas": "\n                    'pathlist pathlist'\n                    'dircontent dircontent'\n                    ",
       "grid_template_columns": "60% 40%",
       "grid_template_rows": "auto auto",
       "width": "500px"
      }
     },
     "5a1d9ddb37b84204bd6b72941b6173e1": {
      "model_module": "@jupyter-widgets/controls",
      "model_module_version": "1.5.0",
      "model_name": "TextModel",
      "state": {
       "disabled": true,
       "layout": "IPY_MODEL_e19fbcf2fd4b426c8e366c9a92522827",
       "placeholder": "output filename",
       "style": "IPY_MODEL_b65cf557614f4971bf3a4ee20519e136"
      }
     },
     "5a70489d23e248aeb9e7a3b8c7cd28cc": {
      "model_module": "@jupyter-widgets/controls",
      "model_module_version": "1.5.0",
      "model_name": "DropdownModel",
      "state": {
       "_options_labels": [
        "Topography",
        "Sensor"
       ],
       "index": 0,
       "layout": "IPY_MODEL_e2f03acc78b94b1fad64a15a49a8df3e",
       "style": "IPY_MODEL_87e4647b6a34480190508138936eada9"
      }
     },
     "5a89f938ec684b65998eaedf65871de5": {
      "model_module": "@jupyter-widgets/base",
      "model_module_version": "1.2.0",
      "model_name": "LayoutModel",
      "state": {
       "grid_area": "pathlist",
       "width": "auto"
      }
     },
     "5a9971c0a73f46c6a89e60735515f524": {
      "model_module": "@jupyter-widgets/base",
      "model_module_version": "1.2.0",
      "model_name": "LayoutModel",
      "state": {}
     },
     "5aa70e371b9c4ef79723eec9f6f102a0": {
      "model_module": "@jupyter-widgets/controls",
      "model_module_version": "1.5.0",
      "model_name": "DescriptionStyleModel",
      "state": {
       "description_width": "initial"
      }
     },
     "5ac217b4acb340c2b5e883cdef67a367": {
      "model_module": "@jupyter-widgets/controls",
      "model_module_version": "1.5.0",
      "model_name": "VBoxModel",
      "state": {
       "children": [
        "IPY_MODEL_4c774fcf4037426596b26523152ac051",
        "IPY_MODEL_450d87d6114c4eed8a154e8faeb8642f"
       ],
       "layout": "IPY_MODEL_47805e3f4b4248ff8b022416d6cc4fd5"
      }
     },
     "5b0a93ba47d644d4910269a7dbabd815": {
      "model_module": "@jupyter-widgets/controls",
      "model_module_version": "1.5.0",
      "model_name": "HTMLModel",
      "state": {
       "layout": "IPY_MODEL_2e4838d5b25d4e8c802fec4507606e74",
       "placeholder": "",
       "style": "IPY_MODEL_f9302fccb2e445af9f1ffb08fa59630c",
       "value": "<span style=\"margin-left:10px; color:black;\">No file selected</span>"
      }
     },
     "5b496fc2b96e49839477874832b18ba7": {
      "model_module": "@jupyter-widgets/controls",
      "model_module_version": "1.5.0",
      "model_name": "VBoxModel",
      "state": {
       "children": [
        "IPY_MODEL_690fa11f557a4203b5646c31fe3fa03e",
        "IPY_MODEL_9589fc88c1494d9aaf03775e45bb12ca",
        "IPY_MODEL_385d88d212804dd99ba0e2f57d25066b"
       ],
       "layout": "IPY_MODEL_76a9d56a65994a7bb35ce882fc24fd3b"
      }
     },
     "5b678cc1ac564d159c73dcbc6afc1698": {
      "model_module": "@jupyter-widgets/controls",
      "model_module_version": "1.5.0",
      "model_name": "LabelModel",
      "state": {
       "layout": "IPY_MODEL_5a9971c0a73f46c6a89e60735515f524",
       "style": "IPY_MODEL_40a3e816157b48bcb383422e0a4a346f",
       "value": "Background susceptibility"
      }
     },
     "5b93fd35e1204be8be0a0070dc502c37": {
      "model_module": "@jupyter-widgets/base",
      "model_module_version": "1.2.0",
      "model_name": "LayoutModel",
      "state": {
       "visibility": "hidden"
      }
     },
     "5b9b482e41574d7792ac2700747a99a8": {
      "model_module": "@jupyter-widgets/controls",
      "model_module_version": "1.5.0",
      "model_name": "VBoxModel",
      "state": {
       "children": [
        "IPY_MODEL_a36b502c29f445bf829dbdc9a39553a7"
       ],
       "layout": "IPY_MODEL_3bfcf624d0ab42f880c2431546dd4338"
      }
     },
     "5c02db0e88f84d18915d6615e6049c25": {
      "model_module": "@jupyter-widgets/controls",
      "model_module_version": "1.5.0",
      "model_name": "ButtonModel",
      "state": {
       "description": "Select",
       "layout": "IPY_MODEL_082594f0760b4340a50c273559fb3f5b",
       "style": "IPY_MODEL_15ea86094c89406584a3bf8ab34cf7d4"
      }
     },
     "5ca5eeb7465d4da5a40d8cdf14b87aee": {
      "model_module": "@jupyter-widgets/controls",
      "model_module_version": "1.5.0",
      "model_name": "HTMLModel",
      "state": {
       "layout": "IPY_MODEL_e2034b4a131949bbaf8bd001a92ebc81",
       "style": "IPY_MODEL_e8650f7b8d964b3c95b373c0cee7616c"
      }
     },
     "5cdecc3f91ff49edb4dc2a889d769848": {
      "model_module": "@jupyter-widgets/controls",
      "model_module_version": "1.5.0",
      "model_name": "DescriptionStyleModel",
      "state": {
       "description_width": ""
      }
     },
     "5cea82c6761c4a0c9dff78369e42bc85": {
      "model_module": "@jupyter-widgets/controls",
      "model_module_version": "1.5.0",
      "model_name": "DescriptionStyleModel",
      "state": {
       "description_width": ""
      }
     },
     "5d666412ed2d4d37a22bad2442547d96": {
      "model_module": "@jupyter-widgets/controls",
      "model_module_version": "1.5.0",
      "model_name": "FloatTextModel",
      "state": {
       "description": "CG Tolerance",
       "layout": "IPY_MODEL_44e04cb7e937449ba121b5c42db9d5ff",
       "step": null,
       "style": "IPY_MODEL_2b8130baa53d4793ada0601275515ab9",
       "value": 0.001
      }
     },
     "5d8012f7b96e44159ec4483b258b5131": {
      "model_module": "@jupyter-widgets/base",
      "model_module_version": "1.2.0",
      "model_name": "LayoutModel",
      "state": {}
     },
     "5d989b274fd84ad48788ae7077b42706": {
      "model_module": "@jupyter-widgets/controls",
      "model_module_version": "1.5.0",
      "model_name": "DescriptionStyleModel",
      "state": {
       "description_width": ""
      }
     },
     "5da378e7d4914c28b982ad3a2e977345": {
      "model_module": "@jupyter-widgets/controls",
      "model_module_version": "1.5.0",
      "model_name": "DescriptionStyleModel",
      "state": {
       "description_width": ""
      }
     },
     "5db20c95c7be4ba0b1bd8a39624b6b2d": {
      "model_module": "@jupyter-widgets/controls",
      "model_module_version": "1.5.0",
      "model_name": "DescriptionStyleModel",
      "state": {
       "description_width": ""
      }
     },
     "5e0a30548af845d7b2387c7022d03c2e": {
      "model_module": "@jupyter-widgets/controls",
      "model_module_version": "1.5.0",
      "model_name": "TextModel",
      "state": {
       "description": "Scaling alpha_(s, x, y, z)",
       "layout": "IPY_MODEL_c40c37975f6e4e1cb65f4d57245150dc",
       "style": "IPY_MODEL_5f82699397b441caa3913c5974187bfb",
       "value": "1.0, 1.0, 1.0, 1.0"
      }
     },
     "5e50b84872c9441d9b84c15546a669fd": {
      "model_module": "@jupyter-widgets/controls",
      "model_module_version": "1.5.0",
      "model_name": "TextModel",
      "state": {
       "description": "Data (i.e. <0 = no negatives)",
       "layout": "IPY_MODEL_ac972b43d23b49f7be111d9533bc9b60",
       "style": "IPY_MODEL_93073e5576e544bf96c8c0deb08e0c25",
       "value": "-99999"
      }
     },
     "5ea8b338808240029ebe265dd7b4b91c": {
      "model_module": "@jupyter-widgets/controls",
      "model_module_version": "1.5.0",
      "model_name": "DescriptionStyleModel",
      "state": {
       "description_width": ""
      }
     },
     "5f11e9b2a447498baa64fdf8cbc3c9e0": {
      "model_module": "@jupyter-widgets/base",
      "model_module_version": "1.2.0",
      "model_name": "LayoutModel",
      "state": {}
     },
     "5f3770fb24604902a1c22f4b5473c9fd": {
      "model_module": "@jupyter-widgets/controls",
      "model_module_version": "1.5.0",
      "model_name": "HBoxModel",
      "state": {
       "children": [
        "IPY_MODEL_91a8e9380d454322bf0745b424ca9e59",
        "IPY_MODEL_a026ac448202431c8db8093353e15731",
        "IPY_MODEL_306da646e2724bfba07bc25b36ec6b32"
       ],
       "layout": "IPY_MODEL_f38383c08f1f45c68a182c3cce49f6e5"
      }
     },
     "5f60ab19f1a84408b393e3bf41c4fd7b": {
      "model_module": "@jupyter-widgets/controls",
      "model_module_version": "1.5.0",
      "model_name": "DescriptionStyleModel",
      "state": {
       "description_width": ""
      }
     },
     "5f634438f670439e973b650d394ee19f": {
      "model_module": "@jupyter-widgets/controls",
      "model_module_version": "1.5.0",
      "model_name": "GridBoxModel",
      "state": {
       "children": [
        "IPY_MODEL_13ad3168e8814e1f87057fda153a0f5c",
        "IPY_MODEL_5a1d9ddb37b84204bd6b72941b6173e1",
        "IPY_MODEL_1d47f08f7b694033b7151774450a6754"
       ],
       "layout": "IPY_MODEL_7d5ce371037740b2a18c4b2ff2aad088"
      }
     },
     "5f6b85d936ca43f29fda34bbd8b17a20": {
      "model_module": "@jupyter-widgets/controls",
      "model_module_version": "1.5.0",
      "model_name": "ButtonStyleModel",
      "state": {}
     },
     "5f82699397b441caa3913c5974187bfb": {
      "model_module": "@jupyter-widgets/controls",
      "model_module_version": "1.5.0",
      "model_name": "DescriptionStyleModel",
      "state": {
       "description_width": ""
      }
     },
     "5ff4978715fd4177a5ec1dde75c57755": {
      "model_module": "@jupyter-widgets/controls",
      "model_module_version": "1.5.0",
      "model_name": "VBoxModel",
      "state": {
       "children": [
        "IPY_MODEL_2cb779dddeb348eea2d72eccd5078fd0",
        "IPY_MODEL_b70e7816989a48c4b1f985dec718022c"
       ],
       "layout": "IPY_MODEL_d57259a1c58b491e9d8379b60c21d0dc"
      }
     },
     "6011bbea1840449c9d7de954fc5a5283": {
      "model_module": "@jupyter-widgets/base",
      "model_module_version": "1.2.0",
      "model_name": "LayoutModel",
      "state": {}
     },
     "604b72bb54244067922c4ec6f7a99268": {
      "model_module": "@jupyter-widgets/base",
      "model_module_version": "1.2.0",
      "model_name": "LayoutModel",
      "state": {}
     },
     "613c3095ac41483e9f0d0c5e8d9c711b": {
      "model_module": "@jupyter-widgets/base",
      "model_module_version": "1.2.0",
      "model_name": "LayoutModel",
      "state": {
       "width": "auto"
      }
     },
     "613d165c697e42ef8fa11ded2a6de578": {
      "model_module": "@jupyter-widgets/controls",
      "model_module_version": "1.5.0",
      "model_name": "DropdownModel",
      "state": {
       "_options_labels": [
        "C:\\Users\\dominiquef\\Documents\\GIT\\mira\\mirageoscience-apps\\docs\\content\\applications",
        "C:\\Users\\dominiquef\\Documents\\GIT\\mira\\mirageoscience-apps\\docs\\content",
        "C:\\Users\\dominiquef\\Documents\\GIT\\mira\\mirageoscience-apps\\docs",
        "C:\\Users\\dominiquef\\Documents\\GIT\\mira\\mirageoscience-apps",
        "C:\\Users\\dominiquef\\Documents\\GIT\\mira",
        "C:\\Users\\dominiquef\\Documents\\GIT",
        "C:\\Users\\dominiquef\\Documents",
        "C:\\Users\\dominiquef",
        "C:\\Users",
        "C:\\",
        "D:\\",
        "Z:\\"
       ],
       "index": 0,
       "layout": "IPY_MODEL_fa13f02f8cad41449d427646bd1412f1",
       "style": "IPY_MODEL_a03b3a4f24db428491c9033aa205bcfe"
      }
     },
     "61ce6b56521d47bd8e8b9d57ee8c0675": {
      "model_module": "@jupyter-widgets/base",
      "model_module_version": "1.2.0",
      "model_name": "LayoutModel",
      "state": {}
     },
     "620b652f1729455bb0d5cf546acc3017": {
      "model_module": "@jupyter-widgets/base",
      "model_module_version": "1.2.0",
      "model_name": "LayoutModel",
      "state": {}
     },
     "624ae8b57c4f433ca1e0ea15b03bec83": {
      "model_module": "@jupyter-widgets/controls",
      "model_module_version": "1.5.0",
      "model_name": "HBoxModel",
      "state": {
       "children": [
        "IPY_MODEL_5c02db0e88f84d18915d6615e6049c25",
        "IPY_MODEL_9302b000e9b64f56b270391d1db90bc4",
        "IPY_MODEL_b2fe569db2e04bb09f5f3a6c620698c7"
       ],
       "layout": "IPY_MODEL_7d1fd305fa0f4b6d8734801db4194060"
      }
     },
     "6292b03c6a4c44e088a6355a415cca01": {
      "model_module": "@jupyter-widgets/controls",
      "model_module_version": "1.5.0",
      "model_name": "DescriptionStyleModel",
      "state": {
       "description_width": ""
      }
     },
     "62931003de45417eae886dd167f320ba": {
      "model_module": "@jupyter-widgets/controls",
      "model_module_version": "1.5.0",
      "model_name": "DescriptionStyleModel",
      "state": {
       "description_width": "initial"
      }
     },
     "642498f5601c40d98b3540b9afc29d7f": {
      "model_module": "@jupyter-widgets/base",
      "model_module_version": "1.2.0",
      "model_name": "LayoutModel",
      "state": {}
     },
     "64be0f7caefb4301bebb862ae9864b87": {
      "model_module": "@jupyter-widgets/controls",
      "model_module_version": "1.5.0",
      "model_name": "TextModel",
      "state": {
       "description": "Layers below topo",
       "layout": "IPY_MODEL_424f9982866b4d9d9a34d5851c6991a1",
       "style": "IPY_MODEL_dbc37774e8f443e8af92d7c6e177f9de",
       "value": "0, 0, 0, 2"
      }
     },
     "64cddc53bfc64289abc526086ebbc637": {
      "model_module": "@jupyter-widgets/controls",
      "model_module_version": "1.5.0",
      "model_name": "DescriptionStyleModel",
      "state": {
       "description_width": ""
      }
     },
     "6564fc3eef7d4f889808452e1064cb81": {
      "model_module": "@jupyter-widgets/controls",
      "model_module_version": "1.5.0",
      "model_name": "VBoxModel",
      "state": {
       "children": [
        "IPY_MODEL_4a52deb2b134411faf2f2e004cfb9670",
        "IPY_MODEL_46fbc519b8d247e2b9be2f29fd83b79b",
        "IPY_MODEL_6974d802fbdc4f11949fb5a168232b20",
        "IPY_MODEL_e24464d6600745e6948a2fd57c968c0e",
        "IPY_MODEL_3172751249c642a99d734fd1a45a6e82"
       ],
       "layout": "IPY_MODEL_7cc811ff91dd4ec68a307b0eb3ea2100"
      }
     },
     "65799ba5d837441e9b0cb06d046c52a9": {
      "model_module": "@jupyter-widgets/controls",
      "model_module_version": "1.5.0",
      "model_name": "VBoxModel",
      "state": {
       "children": [
        "IPY_MODEL_1bf513fa431e4ccf957c4f413801f01b",
        "IPY_MODEL_eee50d70021a48bfbe8d71b09515ab69"
       ],
       "layout": "IPY_MODEL_7a8dc55a892d4b0db180b1088285a7ae"
      }
     },
     "65c0d78853fe4710a261bde525d0918f": {
      "model_module": "@jupyter-widgets/controls",
      "model_module_version": "1.5.0",
      "model_name": "DescriptionStyleModel",
      "state": {
       "description_width": ""
      }
     },
     "660f566af62d4301a0b50389e20da2d7": {
      "model_module": "@jupyter-widgets/base",
      "model_module_version": "1.2.0",
      "model_name": "LayoutModel",
      "state": {}
     },
     "6610ed7a5ea0476aaa7fc01d9c4a8b0e": {
      "model_module": "@jupyter-widgets/controls",
      "model_module_version": "1.5.0",
      "model_name": "SliderStyleModel",
      "state": {
       "description_width": ""
      }
     },
     "66af2991a44f4b6badedafecebee343c": {
      "model_module": "@jupyter-widgets/base",
      "model_module_version": "1.2.0",
      "model_name": "LayoutModel",
      "state": {
       "width": "auto"
      }
     },
     "66b1efec92184ae0b2331bef2ca2a5fa": {
      "model_module": "@jupyter-widgets/controls",
      "model_module_version": "1.5.0",
      "model_name": "DescriptionStyleModel",
      "state": {
       "description_width": "initial"
      }
     },
     "66b3637336fe4e509878b4b18f91280f": {
      "model_module": "@jupyter-widgets/controls",
      "model_module_version": "1.5.0",
      "model_name": "FloatTextModel",
      "state": {
       "description": "Minimum depth (m)",
       "layout": "IPY_MODEL_deaa21c6ce95447586059f34674ac216",
       "step": null,
       "style": "IPY_MODEL_4d56d6e956954623827198a6eb8c0396",
       "value": 500
      }
     },
     "673e202d68b24524889cf74cdca55eb1": {
      "model_module": "@jupyter-widgets/controls",
      "model_module_version": "1.5.0",
      "model_name": "DescriptionStyleModel",
      "state": {
       "description_width": ""
      }
     },
     "675e748dad5a43e9bd4c56c037340d9f": {
      "model_module": "@jupyter-widgets/controls",
      "model_module_version": "1.5.0",
      "model_name": "IntTextModel",
      "state": {
       "description": "Max CG Iterations",
       "layout": "IPY_MODEL_810f36438f3641b0bb3c09adb6afc6a7",
       "step": 1,
       "style": "IPY_MODEL_e3d409cf0ea048b997d19c570268395e",
       "value": 30
      }
     },
     "67a0558203e746b5a04de92e9ea9258e": {
      "model_module": "@jupyter-widgets/controls",
      "model_module_version": "1.5.0",
      "model_name": "ButtonModel",
      "state": {
       "description": "Select",
       "layout": "IPY_MODEL_c90ef88948bc43b19ab9fe9d71a364d3",
       "style": "IPY_MODEL_52088395fd8e49aea078f84a4ad35b08"
      }
     },
     "67a44d1e420a4b7488bb6f9df955cfd3": {
      "model_module": "@jupyter-widgets/controls",
      "model_module_version": "1.5.0",
      "model_name": "VBoxModel",
      "state": {
       "children": [
        "IPY_MODEL_b2da21e89f094ed499b9c83852cff65e",
        "IPY_MODEL_c9093d8b872c45e988950ececd1fdc26"
       ],
       "layout": "IPY_MODEL_38fdd39b2b814279a67257801f190a79"
      }
     },
     "67b97ea0416d4e05b797c2a34a3f5050": {
      "model_module": "@jupyter-widgets/base",
      "model_module_version": "1.2.0",
      "model_name": "LayoutModel",
      "state": {
       "width": "auto"
      }
     },
     "67ea87843ea14c599068d3781c3f660e": {
      "model_module": "@jupyter-widgets/base",
      "model_module_version": "1.2.0",
      "model_name": "LayoutModel",
      "state": {
       "display": "none"
      }
     },
     "6805a2db9e89435aa20f0ac5acf3535a": {
      "model_module": "@jupyter-widgets/controls",
      "model_module_version": "1.5.0",
      "model_name": "DescriptionStyleModel",
      "state": {
       "description_width": ""
      }
     },
     "6828f572b4e949ac91b0700f37223aa2": {
      "model_module": "@jupyter-widgets/controls",
      "model_module_version": "1.5.0",
      "model_name": "TextModel",
      "state": {
       "description": "Offsets (x,y,z)",
       "layout": "IPY_MODEL_a31bc608236448ecbe3e42c8119eb107",
       "style": "IPY_MODEL_4a662db89da34068a4bad861758d9f9e",
       "value": "0, 0, 0"
      }
     },
     "6831c3e4e9204fed8f4f55efd9f3c8c7": {
      "model_module": "@jupyter-widgets/base",
      "model_module_version": "1.2.0",
      "model_name": "LayoutModel",
      "state": {
       "display": "none",
       "grid_gap": "0px 0px",
       "grid_template_areas": "\n                    'pathlist filename'\n                    'dircontent dircontent'\n                    ",
       "grid_template_columns": "60% 40%",
       "grid_template_rows": "auto auto",
       "width": "500px"
      }
     },
     "6886c2ce43d245d6a3f39f4b22014d84": {
      "model_module": "@jupyter-widgets/controls",
      "model_module_version": "1.5.0",
      "model_name": "DescriptionStyleModel",
      "state": {
       "description_width": ""
      }
     },
     "690fa11f557a4203b5646c31fe3fa03e": {
      "model_module": "@jupyter-widgets/controls",
      "model_module_version": "1.5.0",
      "model_name": "HTMLModel",
      "state": {
       "layout": "IPY_MODEL_0e2f0832677143c888956178cdec8e32",
       "style": "IPY_MODEL_24c1887d106e429da989a23c1fe04ec3"
      }
     },
     "691a90840063488595ee80db456c18c4": {
      "model_module": "@jupyter-widgets/controls",
      "model_module_version": "1.5.0",
      "model_name": "DescriptionStyleModel",
      "state": {
       "description_width": ""
      }
     },
     "694dd590f1c24899a6e8102f74a56291": {
      "model_module": "@jupyter-widgets/controls",
      "model_module_version": "1.5.0",
      "model_name": "DescriptionStyleModel",
      "state": {
       "description_width": "initial"
      }
     },
     "694f06f5dbbc41cfbbd86e86b11ef14d": {
      "model_module": "@jupyter-widgets/controls",
      "model_module_version": "1.5.0",
      "model_name": "TextModel",
      "state": {
       "disabled": true,
       "layout": "IPY_MODEL_20258cbd098140bfac6d18ff44b9b5a7",
       "placeholder": "output filename",
       "style": "IPY_MODEL_b2608c81d6594e22bfcd4e6a51189199"
      }
     },
     "6974d802fbdc4f11949fb5a168232b20": {
      "model_module": "@jupyter-widgets/controls",
      "model_module_version": "1.5.0",
      "model_name": "DropdownModel",
      "state": {
       "_options_labels": [
        "",
        "--- Channels ---",
        "Airborne_Gxx",
        "Airborne_Gxy",
        "Airborne_Gxz",
        "Airborne_Gyy",
        "Airborne_Gyz",
        "Airborne_Gz",
        "Airborne_Gzz",
        "Airborne_TMI",
        "Ground_Gz",
        "Z"
       ],
       "description": "Channel <=> Data:",
       "index": 9,
       "layout": "IPY_MODEL_878c60b8c3f54ff69e40428dfcf6c08b",
       "style": "IPY_MODEL_07387732eb3e465c93c28d6eeea8acc3"
      }
     },
     "69a66e60a4f04184bb2bbf085b2d2e7e": {
      "model_module": "@jupyter-widgets/base",
      "model_module_version": "1.2.0",
      "model_name": "LayoutModel",
      "state": {}
     },
     "69af209e397d41c3b94a5ce203ac8c46": {
      "model_module": "@jupyter-widgets/base",
      "model_module_version": "1.2.0",
      "model_name": "LayoutModel",
      "state": {}
     },
     "69d7ac0d29a8478e9426d3da57fc88d6": {
      "model_module": "@jupyter-widgets/base",
      "model_module_version": "1.2.0",
      "model_name": "LayoutModel",
      "state": {}
     },
     "69d7e23c47aa4d1d97e7cc2731023db1": {
      "model_module": "@jupyter-widgets/base",
      "model_module_version": "1.2.0",
      "model_name": "LayoutModel",
      "state": {
       "display": "none"
      }
     },
     "69e63d34b2fe49bfa27a1200e16fb9ea": {
      "model_module": "@jupyter-widgets/controls",
      "model_module_version": "1.5.0",
      "model_name": "CheckboxModel",
      "state": {
       "description": "Active",
       "disabled": false,
       "layout": "IPY_MODEL_5d8012f7b96e44159ec4483b258b5131",
       "style": "IPY_MODEL_bc48089926b0428a9aa6ffd81068bdd0",
       "value": false
      }
     },
     "6a8d1e87a6cd4af4a9cab862adb7c402": {
      "model_module": "@jupyter-widgets/controls",
      "model_module_version": "1.5.0",
      "model_name": "ButtonStyleModel",
      "state": {}
     },
     "6a8fc788fb0b408f8f9ac5c99ec530da": {
      "model_module": "@jupyter-widgets/controls",
      "model_module_version": "1.5.0",
      "model_name": "TextModel",
      "state": {
       "description": "Error (%, floor)",
       "layout": "IPY_MODEL_439c7167969341bb9362e7ef11adc9d6",
       "style": "IPY_MODEL_7d58ca074c1a4e7b9922d81c111d83c3",
       "value": "0, 1"
      }
     },
     "6ace7630d86f4ce8b745a9a4b8ea5ccf": {
      "model_module": "@jupyter-widgets/controls",
      "model_module_version": "1.5.0",
      "model_name": "DescriptionStyleModel",
      "state": {
       "description_width": ""
      }
     },
     "6af84847c2ff4d738152c5c7f3027517": {
      "model_module": "@jupyter-widgets/controls",
      "model_module_version": "1.5.0",
      "model_name": "VBoxModel",
      "state": {
       "children": [
        "IPY_MODEL_a5930b60f92847b0b67e3374550df870",
        "IPY_MODEL_18140c5ebb7d43e198941793142ef070"
       ],
       "layout": "IPY_MODEL_620b652f1729455bb0d5cf546acc3017"
      }
     },
     "6b21e6bad4ee46b7add78d667275b37d": {
      "model_module": "@jupyter-widgets/controls",
      "model_module_version": "1.5.0",
      "model_name": "DropdownModel",
      "state": {
       "_options_labels": [
        "tmi",
        "bxx",
        "bxy",
        "bxz",
        "byy",
        "byz",
        "bzz"
       ],
       "index": 0,
       "layout": "IPY_MODEL_dcb72f79e72f4dbfb54393451fb3653b",
       "style": "IPY_MODEL_2636470214064ea4968745db7f97ffda"
      }
     },
     "6b2bb85dcdb840d3bfe81f30a63366d9": {
      "model_module": "@jupyter-widgets/base",
      "model_module_version": "1.2.0",
      "model_name": "LayoutModel",
      "state": {}
     },
     "6b4266d76d61489fbf46374a3808a37e": {
      "model_module": "@jupyter-widgets/base",
      "model_module_version": "1.2.0",
      "model_name": "LayoutModel",
      "state": {
       "visibility": "hidden"
      }
     },
     "6b5fef27ca2442648728322a43627bc9": {
      "model_module": "@jupyter-widgets/controls",
      "model_module_version": "1.5.0",
      "model_name": "ButtonStyleModel",
      "state": {}
     },
     "6b801beab9944b509bf63199ab0268de": {
      "model_module": "@jupyter-widgets/controls",
      "model_module_version": "1.5.0",
      "model_name": "DescriptionStyleModel",
      "state": {
       "description_width": "initial"
      }
     },
     "6b8c4f6539e8490b9777e165bbe3fc7f": {
      "model_module": "@jupyter-widgets/controls",
      "model_module_version": "1.5.0",
      "model_name": "DescriptionStyleModel",
      "state": {
       "description_width": "initial"
      }
     },
     "6ba0a579f8e84ba6a62a752af504413f": {
      "model_module": "@jupyter-widgets/controls",
      "model_module_version": "1.5.0",
      "model_name": "HTMLModel",
      "state": {
       "layout": "IPY_MODEL_494a8d7953034990800bb533ac421b3e",
       "placeholder": "",
       "style": "IPY_MODEL_4b3f539d6dcc4ec7beb103201b28301b",
       "value": "<span style=\"margin-left:10px; color:black;\">No file selected</span>"
      }
     },
     "6bae3910cae64dc09b246c89f1579f92": {
      "model_module": "@jupyter-widgets/controls",
      "model_module_version": "1.5.0",
      "model_name": "ButtonStyleModel",
      "state": {}
     },
     "6bc86cb7b8fc4a15bd026daf11187c72": {
      "model_module": "@jupyter-widgets/controls",
      "model_module_version": "1.5.0",
      "model_name": "LabelModel",
      "state": {
       "layout": "IPY_MODEL_25339a54f3204aa4adfb106dc8f5371c",
       "style": "IPY_MODEL_c9f5b9cba2bb40079055dfc483d9c5be",
       "value": "Channels"
      }
     },
     "6c22f53f26c94b9a91f687a81292ad32": {
      "model_module": "@jupyter-widgets/base",
      "model_module_version": "1.2.0",
      "model_name": "LayoutModel",
      "state": {}
     },
     "6d19934433ee45f4b54682fd1840447b": {
      "model_module": "@jupyter-widgets/controls",
      "model_module_version": "1.5.0",
      "model_name": "HBoxModel",
      "state": {
       "children": [
        "IPY_MODEL_c54014f96c9e43209ab5516717ebace2",
        "IPY_MODEL_78ca1c2b712243a79c42b019e3597e63"
       ],
       "layout": "IPY_MODEL_38cf3cb61f68427584ba1b4d1a223ee7"
      }
     },
     "6d511b50a3e74802b98099361318f01f": {
      "model_module": "@jupyter-widgets/base",
      "model_module_version": "1.2.0",
      "model_name": "LayoutModel",
      "state": {}
     },
     "6d8f8f2c03d243b7920cdf3fc74ad7b0": {
      "model_module": "@jupyter-widgets/base",
      "model_module_version": "1.2.0",
      "model_name": "LayoutModel",
      "state": {
       "grid_area": "dircontent",
       "width": "auto"
      }
     },
     "6dc3cc7bf2f04b66b90181eefe83f0cb": {
      "model_module": "@jupyter-widgets/controls",
      "model_module_version": "1.5.0",
      "model_name": "DescriptionStyleModel",
      "state": {
       "description_width": ""
      }
     },
     "6df4b4712e5a4f6d9be44f5ed32fc3aa": {
      "model_module": "@jupyter-widgets/base",
      "model_module_version": "1.2.0",
      "model_name": "LayoutModel",
      "state": {
       "width": "auto"
      }
     },
     "6e3221a3205b400b8e37f03a862675eb": {
      "model_module": "@jupyter-widgets/base",
      "model_module_version": "1.2.0",
      "model_name": "LayoutModel",
      "state": {
       "width": "auto"
      }
     },
     "6e6b8230a52f4ff0bbba135206882e46": {
      "model_module": "@jupyter-widgets/controls",
      "model_module_version": "1.5.0",
      "model_name": "DescriptionStyleModel",
      "state": {
       "description_width": "initial"
      }
     },
     "6ea9c081b7354289aaeb224e774da6cc": {
      "model_module": "@jupyter-widgets/controls",
      "model_module_version": "1.5.0",
      "model_name": "TextModel",
      "state": {
       "description": "Smallest cells",
       "layout": "IPY_MODEL_201dfaf0597b4bbb9f75cb8edbad5fca",
       "style": "IPY_MODEL_b84f80888f634bcfaa5a894a80f1a252",
       "value": "25, 25, 25"
      }
     },
     "6ed820c41ecc4d258fb60217947d842d": {
      "model_module": "@jupyter-widgets/controls",
      "model_module_version": "1.5.0",
      "model_name": "DescriptionStyleModel",
      "state": {
       "description_width": ""
      }
     },
     "6f0d027cf0fb4e24acbb2e7240224f09": {
      "model_module": "@jupyter-widgets/base",
      "model_module_version": "1.2.0",
      "model_name": "LayoutModel",
      "state": {}
     },
     "6f45a0c24ab4485ca1435e70950ad63a": {
      "model_module": "@jupyter-widgets/controls",
      "model_module_version": "1.5.0",
      "model_name": "ButtonModel",
      "state": {
       "description": "Cancel",
       "layout": "IPY_MODEL_e3a01f1dce55488099dc1a5ee59ff3a7",
       "style": "IPY_MODEL_f26a3c02aa104687babe49733fb3fc96"
      }
     },
     "6f6abafc03bd47d7898fdabac69ea623": {
      "model_module": "@jupyter-widgets/base",
      "model_module_version": "1.2.0",
      "model_name": "LayoutModel",
      "state": {}
     },
     "6f8adf65bd82452a8bed842bb0728148": {
      "model_module": "@jupyter-widgets/controls",
      "model_module_version": "1.5.0",
      "model_name": "DropdownModel",
      "state": {
       "_options_labels": [
        "C:\\Users\\dominiquef\\Documents\\GIT\\mira\\mirageoscience-apps\\docs\\content\\applications",
        "C:\\Users\\dominiquef\\Documents\\GIT\\mira\\mirageoscience-apps\\docs\\content",
        "C:\\Users\\dominiquef\\Documents\\GIT\\mira\\mirageoscience-apps\\docs",
        "C:\\Users\\dominiquef\\Documents\\GIT\\mira\\mirageoscience-apps",
        "C:\\Users\\dominiquef\\Documents\\GIT\\mira",
        "C:\\Users\\dominiquef\\Documents\\GIT",
        "C:\\Users\\dominiquef\\Documents",
        "C:\\Users\\dominiquef",
        "C:\\Users",
        "C:\\",
        "D:\\",
        "Z:\\"
       ],
       "index": 0,
       "layout": "IPY_MODEL_32e64f003fd448aa90c98b97d33bb6dc",
       "style": "IPY_MODEL_d41172cc6c4c4b63805ef7e3cd2d4a5e"
      }
     },
     "6fa741a0d68645a9bc12679a9554e885": {
      "model_module": "@jupyter-widgets/controls",
      "model_module_version": "1.5.0",
      "model_name": "ButtonStyleModel",
      "state": {}
     },
     "70684f5cd3364bc9bd80b1a5626ed97c": {
      "model_module": "@jupyter-widgets/controls",
      "model_module_version": "1.5.0",
      "model_name": "DescriptionStyleModel",
      "state": {
       "description_width": "initial"
      }
     },
     "7087c324a4644466ae46c49466e72996": {
      "model_module": "@jupyter-widgets/base",
      "model_module_version": "1.2.0",
      "model_name": "LayoutModel",
      "state": {
       "display": "none"
      }
     },
     "708e7227feb54bf8acf3043e583f334e": {
      "model_module": "@jupyter-widgets/base",
      "model_module_version": "1.2.0",
      "model_name": "LayoutModel",
      "state": {}
     },
     "709495c3a3c44b23b310b6bc027853b1": {
      "model_module": "@jupyter-widgets/controls",
      "model_module_version": "1.5.0",
      "model_name": "DescriptionStyleModel",
      "state": {
       "description_width": ""
      }
     },
     "70987a5be18646b9a606695325c9bce0": {
      "model_module": "@jupyter-widgets/controls",
      "model_module_version": "1.5.0",
      "model_name": "TextModel",
      "state": {
       "layout": "IPY_MODEL_d98534fba9124b179085c92b256f0955",
       "placeholder": "output filename",
       "style": "IPY_MODEL_9c7e5a6461c94bfcaddf2c51637e5b41"
      }
     },
     "7099bf9f4ae9431b86f15f91461daad6": {
      "model_module": "@jupyter-widgets/controls",
      "model_module_version": "1.5.0",
      "model_name": "VBoxModel",
      "state": {
       "children": [
        "IPY_MODEL_67a44d1e420a4b7488bb6f9df955cfd3",
        "IPY_MODEL_d06ba5662ddf416a945fc22f836bf3d4"
       ],
       "layout": "IPY_MODEL_0f9915acef0f4579ab7f0383e847da94"
      }
     },
     "709a2fd756cd44308a98fb7b1448b240": {
      "model_module": "@jupyter-widgets/controls",
      "model_module_version": "1.5.0",
      "model_name": "ButtonStyleModel",
      "state": {}
     },
     "70b43defd4c34e7ca45ab68b5bd34be9": {
      "model_module": "@jupyter-widgets/controls",
      "model_module_version": "1.5.0",
      "model_name": "DescriptionStyleModel",
      "state": {
       "description_width": "initial"
      }
     },
     "70b5bf072f7f44ce859f0bb34c19b9fb": {
      "model_module": "@jupyter-widgets/controls",
      "model_module_version": "1.5.0",
      "model_name": "FloatTextModel",
      "state": {
       "description": "Expansion factor:",
       "layout": "IPY_MODEL_7aa9260178174e03bbfe201a763bbf06",
       "step": null,
       "style": "IPY_MODEL_c17aff5dd6cf492d8d9883f0b8872a36",
       "value": 1.05
      }
     },
     "7118f225048d4167894ab3146ad87e0d": {
      "model_module": "@jupyter-widgets/controls",
      "model_module_version": "1.5.0",
      "model_name": "DescriptionStyleModel",
      "state": {
       "description_width": "initial"
      }
     },
     "71c7f0121c4a4d2bb865dfb370faf402": {
      "model_module": "@jupyter-widgets/controls",
      "model_module_version": "1.5.0",
      "model_name": "DescriptionStyleModel",
      "state": {
       "description_width": ""
      }
     },
     "723e63622801464aaa3ff333d05f7706": {
      "model_module": "@jupyter-widgets/controls",
      "model_module_version": "1.5.0",
      "model_name": "DescriptionStyleModel",
      "state": {
       "description_width": ""
      }
     },
     "728567e4bd0648229d7d664f29f12ddb": {
      "model_module": "@jupyter-widgets/base",
      "model_module_version": "1.2.0",
      "model_name": "LayoutModel",
      "state": {}
     },
     "7291bbde0f2d405b87b1fd7e5ed0e6d7": {
      "model_module": "@jupyter-widgets/controls",
      "model_module_version": "1.5.0",
      "model_name": "ToggleButtonModel",
      "state": {
       "layout": "IPY_MODEL_83d117af2e6d43a39f50139120c7ddf0",
       "style": "IPY_MODEL_d6a86223656a42bca7ecea85aa6d3d8e",
       "value": true
      }
     },
     "729d89e7e783436aae2b7be8c321add4": {
      "model_module": "@jupyter-widgets/controls",
      "model_module_version": "1.5.0",
      "model_name": "ButtonModel",
      "state": {
       "description": "Create copy:",
       "layout": "IPY_MODEL_519e66bd8f5d407898e3c5af9e826908",
       "style": "IPY_MODEL_9602ba97346f40949c83db04c829a2ae"
      }
     },
     "72cc9a1b76cf47109d8bb44e10ffd034": {
      "model_module": "@jupyter-widgets/controls",
      "model_module_version": "1.5.0",
      "model_name": "HTMLModel",
      "state": {
       "layout": "IPY_MODEL_f581b74ad9944ef6b9326fe8ea825328",
       "style": "IPY_MODEL_188d46ea3b1248569247b813b0d13fe1"
      }
     },
     "73077abb08f7402a89ebf4bbd16c2d74": {
      "model_module": "@jupyter-widgets/controls",
      "model_module_version": "1.5.0",
      "model_name": "DescriptionStyleModel",
      "state": {
       "description_width": ""
      }
     },
     "733fb55c8e814f25b56a8c55832d01ec": {
      "model_module": "@jupyter-widgets/controls",
      "model_module_version": "1.5.0",
      "model_name": "DescriptionStyleModel",
      "state": {
       "description_width": "initial"
      }
     },
     "7359166fd0124861a9a07fe512215243": {
      "model_module": "@jupyter-widgets/controls",
      "model_module_version": "1.5.0",
      "model_name": "HTMLModel",
      "state": {
       "layout": "IPY_MODEL_8be2194c0c0f410ca0bc47ce69b3c915",
       "style": "IPY_MODEL_3cdb10f80c314e2b9a0bcf314f9da291"
      }
     },
     "738bc12900124acf958ed6ef240146b9": {
      "model_module": "@jupyter-widgets/controls",
      "model_module_version": "1.5.0",
      "model_name": "SliderStyleModel",
      "state": {
       "description_width": "initial"
      }
     },
     "73e6e12e04334a42892ee7cb04195998": {
      "model_module": "@jupyter-widgets/base",
      "model_module_version": "1.2.0",
      "model_name": "LayoutModel",
      "state": {
       "display": "none",
       "width": "auto"
      }
     },
     "7415343dd38243ba8313193250047641": {
      "model_module": "@jupyter-widgets/controls",
      "model_module_version": "1.5.0",
      "model_name": "ToggleButtonModel",
      "state": {
       "button_style": "warning",
       "description": "Write input",
       "icon": "check",
       "layout": "IPY_MODEL_7649c6fb9bd14676b7fb627348d38527",
       "style": "IPY_MODEL_fc717cb4fad14675b0ce0bd3911acc39"
      }
     },
     "744a0d84c2a949c19dc3a566543e8b56": {
      "model_module": "@jupyter-widgets/base",
      "model_module_version": "1.2.0",
      "model_name": "LayoutModel",
      "state": {}
     },
     "74b0431d9d96450689c45c1778bbee1a": {
      "model_module": "@jupyter-widgets/controls",
      "model_module_version": "1.5.0",
      "model_name": "DescriptionStyleModel",
      "state": {
       "description_width": "initial"
      }
     },
     "74c52dddf2254e9ca1731ee22981a0d4": {
      "model_module": "@jupyter-widgets/controls",
      "model_module_version": "1.5.0",
      "model_name": "DescriptionStyleModel",
      "state": {
       "description_width": "initial"
      }
     },
     "74eb5cfa32cc420e9cbb6b8244db5428": {
      "model_module": "@jupyter-widgets/base",
      "model_module_version": "1.2.0",
      "model_name": "LayoutModel",
      "state": {}
     },
     "750194b522b74d279525bfa90a299b82": {
      "model_module": "@jupyter-widgets/controls",
      "model_module_version": "1.5.0",
      "model_name": "DescriptionStyleModel",
      "state": {
       "description_width": ""
      }
     },
     "751019cf026449b48f0eef285263768e": {
      "model_module": "@jupyter-widgets/base",
      "model_module_version": "1.2.0",
      "model_name": "LayoutModel",
      "state": {}
     },
     "7512eaaabc284bb8a1c661df4630036e": {
      "model_module": "@jupyter-widgets/controls",
      "model_module_version": "1.5.0",
      "model_name": "VBoxModel",
      "state": {
       "children": [
        "IPY_MODEL_adc1772e144b44608fcf1c8262bf5371",
        "IPY_MODEL_2c94433243ef4e1ba40007db3a85330b"
       ],
       "layout": "IPY_MODEL_86bc0f8769bc4cde93d28a5b5d05a6c7"
      }
     },
     "755b5386698e47ddbd16f7641bf1a106": {
      "model_module": "@jupyter-widgets/base",
      "model_module_version": "1.2.0",
      "model_name": "LayoutModel",
      "state": {
       "grid_area": "dircontent",
       "width": "auto"
      }
     },
     "757f687f402f4206b1de393c12b3f69b": {
      "model_module": "@jupyter-widgets/base",
      "model_module_version": "1.2.0",
      "model_name": "LayoutModel",
      "state": {}
     },
     "75e9ff7842e748e595cd45550941e16a": {
      "model_module": "@jupyter-widgets/controls",
      "model_module_version": "1.5.0",
      "model_name": "FloatTextModel",
      "state": {
       "description": "Vertical offset (+ve up)",
       "layout": "IPY_MODEL_17f140d5ad444a8e8454b110c525988e",
       "step": null,
       "style": "IPY_MODEL_f4275fe7cafd4de48feac1d37fefd4b0"
      }
     },
     "7649c6fb9bd14676b7fb627348d38527": {
      "model_module": "@jupyter-widgets/base",
      "model_module_version": "1.2.0",
      "model_name": "LayoutModel",
      "state": {}
     },
     "768ca00c54274c8b8f863189ec8f3456": {
      "model_module": "@jupyter-widgets/base",
      "model_module_version": "1.2.0",
      "model_name": "LayoutModel",
      "state": {}
     },
     "76a9d56a65994a7bb35ce882fc24fd3b": {
      "model_module": "@jupyter-widgets/base",
      "model_module_version": "1.2.0",
      "model_name": "LayoutModel",
      "state": {
       "width": "auto"
      }
     },
     "777ff6b0184a4bbebaa836c679607d6b": {
      "model_module": "@jupyter-widgets/controls",
      "model_module_version": "1.5.0",
      "model_name": "DescriptionStyleModel",
      "state": {
       "description_width": ""
      }
     },
     "77842088849e4f89b3b10b92f8e24540": {
      "model_module": "@jupyter-widgets/controls",
      "model_module_version": "1.5.0",
      "model_name": "HTMLModel",
      "state": {
       "layout": "IPY_MODEL_f8b7583e1c64494c87db491010176696",
       "placeholder": "",
       "style": "IPY_MODEL_f16d45f9cc0b4213bebe83879dbef7fb",
       "value": "<span style=\"margin-left:10px; color:black;\">No file selected</span>"
      }
     },
     "77d04e514d54493c97927fbd46947f3c": {
      "model_module": "@jupyter-widgets/controls",
      "model_module_version": "1.5.0",
      "model_name": "SelectModel",
      "state": {
       "_options_labels": [
        "..",
        "dask-worker-space",
        "images"
       ],
       "index": null,
       "layout": "IPY_MODEL_6d8f8f2c03d243b7920cdf3fc74ad7b0",
       "rows": 8,
       "style": "IPY_MODEL_8c101b05a4684bbead61e3b187da66fe"
      }
     },
     "7834dddae78441bfa1c7281d76438c47": {
      "model_module": "@jupyter-widgets/base",
      "model_module_version": "1.2.0",
      "model_name": "LayoutModel",
      "state": {
       "display": "none",
       "width": "auto"
      }
     },
     "784a2b5e7186406f90026a8f271e37e4": {
      "model_module": "@jupyter-widgets/controls",
      "model_module_version": "1.5.0",
      "model_name": "DescriptionStyleModel",
      "state": {
       "description_width": ""
      }
     },
     "78694fd00de0406ea3865806563e1757": {
      "model_module": "@jupyter-widgets/base",
      "model_module_version": "1.2.0",
      "model_name": "LayoutModel",
      "state": {}
     },
     "788b8823e10446cf9fe1e5a1d5739dbf": {
      "model_module": "@jupyter-widgets/controls",
      "model_module_version": "1.5.0",
      "model_name": "DescriptionStyleModel",
      "state": {
       "description_width": "initial"
      }
     },
     "78ca1c2b712243a79c42b019e3597e63": {
      "model_module": "@jupyter-widgets/controls",
      "model_module_version": "1.5.0",
      "model_name": "ButtonModel",
      "state": {
       "description": "Create copy:",
       "layout": "IPY_MODEL_13f729e9c8dc4f48907b35d049859c39",
       "style": "IPY_MODEL_16b2370afaa54799b9b14a32cd0f02e1"
      }
     },
     "78d1b12f09b94e40adcae6b679b7e5c9": {
      "model_module": "@jupyter-widgets/base",
      "model_module_version": "1.2.0",
      "model_name": "LayoutModel",
      "state": {
       "grid_area": "filename",
       "width": "auto"
      }
     },
     "78e064d87dfd4b988f193a468c95cca8": {
      "model_module": "@jupyter-widgets/controls",
      "model_module_version": "1.5.0",
      "model_name": "VBoxModel",
      "state": {
       "children": [
        "IPY_MODEL_0f360a7e6b924352af55417f7b3755dc",
        "IPY_MODEL_21967e9e947e4fd8bb2a6c24423e4f09"
       ],
       "layout": "IPY_MODEL_fe978b1f72bf4a5bbc84b907d67d6c1d"
      }
     },
     "791a8122a8d14aac863ae6caca081086": {
      "model_module": "@jupyter-widgets/controls",
      "model_module_version": "1.5.0",
      "model_name": "FloatSliderModel",
      "state": {
       "continuous_update": false,
       "description": "Northing",
       "layout": "IPY_MODEL_12b3c1649c214c2aaae39fd3779cd999",
       "max": 6076443.652111261,
       "min": 6065091.787108775,
       "orientation": "vertical",
       "step": 10,
       "style": "IPY_MODEL_ec2873b9ae5c41248cb604202d0c0a33",
       "value": 6072200
      }
     },
     "793606d415fd495581657c27d8d950d0": {
      "model_module": "@jupyter-widgets/base",
      "model_module_version": "1.2.0",
      "model_name": "LayoutModel",
      "state": {}
     },
     "79745843cffd455d8ef570806147f26c": {
      "model_module": "@jupyter-widgets/base",
      "model_module_version": "1.2.0",
      "model_name": "LayoutModel",
      "state": {
       "display": "none",
       "width": "auto"
      }
     },
     "79f445dd7d3b44309e331219a4083728": {
      "model_module": "@jupyter-widgets/controls",
      "model_module_version": "1.5.0",
      "model_name": "DescriptionStyleModel",
      "state": {
       "description_width": ""
      }
     },
     "79fb6e99275642d88a9e8beb36dbbc40": {
      "model_module": "@jupyter-widgets/base",
      "model_module_version": "1.2.0",
      "model_name": "LayoutModel",
      "state": {}
     },
     "7a0169ef6996451ba1bcaacceb99efff": {
      "model_module": "@jupyter-widgets/controls",
      "model_module_version": "1.5.0",
      "model_name": "LabelModel",
      "state": {
       "layout": "IPY_MODEL_261e8706b4174d66853c5acd94fadbe2",
       "style": "IPY_MODEL_22997b38b6fd48068cbe47811ce4aabb",
       "value": "Reference effective susceptibility"
      }
     },
     "7a33bbbef35f4afdb9b004af534e5051": {
      "model_module": "@jupyter-widgets/controls",
      "model_module_version": "1.5.0",
      "model_name": "RadioButtonsModel",
      "state": {
       "_options_labels": [
        "None",
        "Model",
        "Value"
       ],
       "index": 2,
       "layout": "IPY_MODEL_61ce6b56521d47bd8e8b9d57ee8c0675",
       "style": "IPY_MODEL_3f833a5cf5c243b681d927e9bb30b058"
      }
     },
     "7a3fcf97cfcd44769ad503027ab7ac13": {
      "model_module": "@jupyter-widgets/base",
      "model_module_version": "1.2.0",
      "model_name": "LayoutModel",
      "state": {}
     },
     "7a40adb91bdf4ba4b1cb75f4f28ce0a9": {
      "model_module": "@jupyter-widgets/base",
      "model_module_version": "1.2.0",
      "model_name": "LayoutModel",
      "state": {}
     },
     "7a6fbbae7f234fa6b3b20f24001bd95c": {
      "model_module": "@jupyter-widgets/controls",
      "model_module_version": "1.5.0",
      "model_name": "DescriptionStyleModel",
      "state": {
       "description_width": "initial"
      }
     },
     "7a8dc55a892d4b0db180b1088285a7ae": {
      "model_module": "@jupyter-widgets/base",
      "model_module_version": "1.2.0",
      "model_name": "LayoutModel",
      "state": {}
     },
     "7aa9260178174e03bbfe201a763bbf06": {
      "model_module": "@jupyter-widgets/base",
      "model_module_version": "1.2.0",
      "model_name": "LayoutModel",
      "state": {}
     },
     "7ae05aa808304b21899a44b279055e00": {
      "model_module": "@jupyter-widgets/base",
      "model_module_version": "1.2.0",
      "model_name": "LayoutModel",
      "state": {
       "display": "none",
       "width": "auto"
      }
     },
     "7b3a71badc9c4af89e7bc29985955708": {
      "model_module": "@jupyter-widgets/base",
      "model_module_version": "1.2.0",
      "model_name": "LayoutModel",
      "state": {}
     },
     "7b3d199423b34f488686c35cf363a40e": {
      "model_module": "@jupyter-widgets/base",
      "model_module_version": "1.2.0",
      "model_name": "LayoutModel",
      "state": {
       "grid_area": "filename",
       "width": "auto"
      }
     },
     "7b4b0d36f9c14cd9b00ac6a59c0d7649": {
      "model_module": "@jupyter-widgets/controls",
      "model_module_version": "1.5.0",
      "model_name": "TextModel",
      "state": {
       "description": "Error (%, floor)",
       "layout": "IPY_MODEL_04013d71eca44999b12b17944786de4b",
       "style": "IPY_MODEL_491fe3807f9346eb9d26dff56a037e55",
       "value": "0, 1"
      }
     },
     "7b53440276eb49bab3b1f82dfcdeed70": {
      "model_module": "@jupyter-widgets/controls",
      "model_module_version": "1.5.0",
      "model_name": "GridBoxModel",
      "state": {
       "children": [
        "IPY_MODEL_307dc3217b7c4f3aa8ed6b5e81da5e41",
        "IPY_MODEL_01c796adc8474b6e9a6b4d19b559a230",
        "IPY_MODEL_dd7e6684040a48c29df006a7bb294d53"
       ],
       "layout": "IPY_MODEL_848d3bee543a4e388feec3bf5e02ec47"
      }
     },
     "7ba02de37978420cacb839b7b13b9e3a": {
      "model_module": "@jupyter-widgets/controls",
      "model_module_version": "1.5.0",
      "model_name": "LabelModel",
      "state": {
       "layout": "IPY_MODEL_ee88cfc727044337b0e73b33b1c1fdfc",
       "style": "IPY_MODEL_74b0431d9d96450689c45c1778bbee1a",
       "value": "Workspace"
      }
     },
     "7c138207342f492990af3d40e136fbae": {
      "model_module": "@jupyter-widgets/base",
      "model_module_version": "1.2.0",
      "model_name": "LayoutModel",
      "state": {}
     },
     "7c3ae66d72b6484eb473b98b28d00318": {
      "model_module": "@jupyter-widgets/base",
      "model_module_version": "1.2.0",
      "model_name": "LayoutModel",
      "state": {
       "display": "none",
       "grid_area": "filename",
       "width": "auto"
      }
     },
     "7c5684fd060e4ba18626380d3fd9a60e": {
      "model_module": "@jupyter-widgets/base",
      "model_module_version": "1.2.0",
      "model_name": "LayoutModel",
      "state": {
       "display": "none",
       "width": "auto"
      }
     },
     "7c6046f19c4c49f78325c115e5321c0c": {
      "model_module": "@jupyter-widgets/controls",
      "model_module_version": "1.5.0",
      "model_name": "ButtonModel",
      "state": {
       "description": "Select",
       "layout": "IPY_MODEL_8dcb27c05cf74d42909fa05ddc2b3a70",
       "style": "IPY_MODEL_35bbffbfd0084a78958546344c4f4614"
      }
     },
     "7c77d1029402473eaed34d011396c5ba": {
      "model_module": "@jupyter-widgets/controls",
      "model_module_version": "1.5.0",
      "model_name": "TextModel",
      "state": {
       "description": "bxz",
       "layout": "IPY_MODEL_319315af4b034470b2a01c594d6da9a3",
       "style": "IPY_MODEL_fe76431c229f4bd8aa99b77809c529c2"
      }
     },
     "7cb8e60b2e204831a68c4877b025228d": {
      "model_module": "@jupyter-widgets/controls",
      "model_module_version": "1.5.0",
      "model_name": "DescriptionStyleModel",
      "state": {
       "description_width": ""
      }
     },
     "7cc811ff91dd4ec68a307b0eb3ea2100": {
      "model_module": "@jupyter-widgets/base",
      "model_module_version": "1.2.0",
      "model_name": "LayoutModel",
      "state": {}
     },
     "7ccb954061ed4f76b83ce2df24fa93ee": {
      "model_module": "@jupyter-widgets/controls",
      "model_module_version": "1.5.0",
      "model_name": "ButtonModel",
      "state": {
       "description": "Cancel",
       "layout": "IPY_MODEL_79745843cffd455d8ef570806147f26c",
       "style": "IPY_MODEL_575e3a264b4043248eb09518fc7860dc"
      }
     },
     "7d1fd305fa0f4b6d8734801db4194060": {
      "model_module": "@jupyter-widgets/base",
      "model_module_version": "1.2.0",
      "model_name": "LayoutModel",
      "state": {
       "width": "auto"
      }
     },
     "7d43a0f35a8042fea51614591df91ec3": {
      "model_module": "@jupyter-widgets/controls",
      "model_module_version": "1.5.0",
      "model_name": "DescriptionStyleModel",
      "state": {
       "description_width": ""
      }
     },
     "7d458c0540e34247b45a360842cd23b2": {
      "model_module": "@jupyter-widgets/controls",
      "model_module_version": "1.5.0",
      "model_name": "DescriptionStyleModel",
      "state": {
       "description_width": ""
      }
     },
     "7d58ca074c1a4e7b9922d81c111d83c3": {
      "model_module": "@jupyter-widgets/controls",
      "model_module_version": "1.5.0",
      "model_name": "DescriptionStyleModel",
      "state": {
       "description_width": "initial"
      }
     },
     "7d5ce371037740b2a18c4b2ff2aad088": {
      "model_module": "@jupyter-widgets/base",
      "model_module_version": "1.2.0",
      "model_name": "LayoutModel",
      "state": {
       "display": "none",
       "grid_gap": "0px 0px",
       "grid_template_areas": "\n                    'pathlist pathlist'\n                    'dircontent dircontent'\n                    ",
       "grid_template_columns": "60% 40%",
       "grid_template_rows": "auto auto",
       "width": "500px"
      }
     },
     "7d86a023ffbb4da098d1eeff0f19fbb5": {
      "model_module": "@jupyter-widgets/controls",
      "model_module_version": "1.5.0",
      "model_name": "TextModel",
      "state": {
       "continuous_update": false,
       "description": "Group:",
       "layout": "IPY_MODEL_eec295642dac42edbbb3d78f4ec4a6ac",
       "style": "IPY_MODEL_3fc84c4972ad4d0d99cf7de4d94e81ba"
      }
     },
     "7ddd94befaf84ecfa796aab78fa9e1dc": {
      "model_module": "@jupyter-widgets/base",
      "model_module_version": "1.2.0",
      "model_name": "LayoutModel",
      "state": {}
     },
     "7de2c3d9721c47eda69407a97b66725b": {
      "model_module": "@jupyter-widgets/controls",
      "model_module_version": "1.5.0",
      "model_name": "ToggleButtonModel",
      "state": {
       "layout": "IPY_MODEL_0c564e2b0b3343ba866b7597fa4a1c38",
       "style": "IPY_MODEL_7d458c0540e34247b45a360842cd23b2",
       "value": true
      }
     },
     "7e24c4735b114063bf8eed6c7830ebff": {
      "model_module": "@jupyter-widgets/controls",
      "model_module_version": "1.5.0",
      "model_name": "LabelModel",
      "state": {
       "layout": "IPY_MODEL_728567e4bd0648229d7d664f29f12ddb",
       "style": "IPY_MODEL_081eb1c2d6ad4c7199d56f04dff21d0e",
       "value": "Geophysical System"
      }
     },
     "7e4a9a30b8b5430bb5e5a213aa1d5350": {
      "model_module": "@jupyter-widgets/controls",
      "model_module_version": "1.5.0",
      "model_name": "HBoxModel",
      "state": {
       "children": [
        "IPY_MODEL_116ea45b6e2949ceb8ba295fa474444e",
        "IPY_MODEL_729d89e7e783436aae2b7be8c321add4"
       ],
       "layout": "IPY_MODEL_ce4c5e3be52642e98a2062f3df331c2d"
      }
     },
     "7e6a456ee3eb40d187421620676d498e": {
      "model_module": "@jupyter-widgets/base",
      "model_module_version": "1.2.0",
      "model_name": "LayoutModel",
      "state": {
       "display": "none"
      }
     },
     "7ebec1369db1452ea5f57d7aec4deb7f": {
      "model_module": "@jupyter-widgets/controls",
      "model_module_version": "1.5.0",
      "model_name": "LabelModel",
      "state": {
       "layout": "IPY_MODEL_ae313fcee5154a81b315b87d0e15c208",
       "style": "IPY_MODEL_0d17ba201ef34b36a809063cb9968cc6",
       "value": "Inversion Options"
      }
     },
     "7ec36b927c7545e7947566192a149b6e": {
      "model_module": "@jupyter-widgets/controls",
      "model_module_version": "1.5.0",
      "model_name": "DescriptionStyleModel",
      "state": {
       "description_width": ""
      }
     },
     "7ecd52647ac041fb9e498d4f88271d01": {
      "model_module": "@jupyter-widgets/controls",
      "model_module_version": "1.5.0",
      "model_name": "DropdownModel",
      "state": {
       "_options_labels": [
        "C:\\Users\\dominiquef\\Documents\\GIT\\mira\\mirageoscience-apps\\docs\\content\\applications",
        "C:\\Users\\dominiquef\\Documents\\GIT\\mira\\mirageoscience-apps\\docs\\content",
        "C:\\Users\\dominiquef\\Documents\\GIT\\mira\\mirageoscience-apps\\docs",
        "C:\\Users\\dominiquef\\Documents\\GIT\\mira\\mirageoscience-apps",
        "C:\\Users\\dominiquef\\Documents\\GIT\\mira",
        "C:\\Users\\dominiquef\\Documents\\GIT",
        "C:\\Users\\dominiquef\\Documents",
        "C:\\Users\\dominiquef",
        "C:\\Users",
        "C:\\",
        "D:\\",
        "Z:\\"
       ],
       "index": 0,
       "layout": "IPY_MODEL_a255514035324706831972d293f7672c",
       "style": "IPY_MODEL_13f45ce32a4d4feb9e553081e044b2ed"
      }
     },
     "7ed9598ce08d40568e4a668b3c2aa156": {
      "model_module": "@jupyter-widgets/base",
      "model_module_version": "1.2.0",
      "model_name": "LayoutModel",
      "state": {}
     },
     "7f22aa62d591456ba5dffe8392bf83fe": {
      "model_module": "@jupyter-widgets/controls",
      "model_module_version": "1.5.0",
      "model_name": "VBoxModel",
      "state": {
       "children": [
        "IPY_MODEL_23e872c9826248cfab7958a910746629"
       ],
       "layout": "IPY_MODEL_cc75eae678e5445f97fc4683587ca470"
      }
     },
     "7f29163b713d4096855a2e2257285c62": {
      "model_module": "@jupyter-widgets/base",
      "model_module_version": "1.2.0",
      "model_name": "LayoutModel",
      "state": {}
     },
     "7f3903a2e13a4a1e91d2ee087bdcb350": {
      "model_module": "@jupyter-widgets/base",
      "model_module_version": "1.2.0",
      "model_name": "LayoutModel",
      "state": {}
     },
     "7f53cbbf052c4a1db0f4eb10dce0e694": {
      "model_module": "@jupyter-widgets/controls",
      "model_module_version": "1.5.0",
      "model_name": "GridBoxModel",
      "state": {
       "children": [
        "IPY_MODEL_81aa5ef62a334616b12dac08c8bf6218",
        "IPY_MODEL_19f9bfa96cae4f74a9acb8994de38ecb",
        "IPY_MODEL_eecc22bf0ab6458583115d0362037ed9"
       ],
       "layout": "IPY_MODEL_ad6a9615f92041f78f0cc1a0d237a0de"
      }
     },
     "7f61b9b25edf4e0db452b693b3e02c0e": {
      "model_module": "@jupyter-widgets/base",
      "model_module_version": "1.2.0",
      "model_name": "LayoutModel",
      "state": {
       "display": "none",
       "width": "auto"
      }
     },
     "7f90b8299ce74b2eb00e0bf0c2cf26ba": {
      "model_module": "@jupyter-widgets/controls",
      "model_module_version": "1.5.0",
      "model_name": "TextModel",
      "state": {
       "layout": "IPY_MODEL_f3a7a4f33764452d8dceac8673d928f3",
       "placeholder": "output filename",
       "style": "IPY_MODEL_723e63622801464aaa3ff333d05f7706"
      }
     },
     "802f123c81774fa68fb3e2623afb34d8": {
      "model_module": "@jupyter-widgets/base",
      "model_module_version": "1.2.0",
      "model_name": "LayoutModel",
      "state": {
       "grid_area": "filename",
       "width": "auto"
      }
     },
     "80a94b398fe54a0b91d494df2734bf7b": {
      "model_module": "@jupyter-widgets/controls",
      "model_module_version": "1.5.0",
      "model_name": "ToggleButtonModel",
      "state": {
       "layout": "IPY_MODEL_a83beff3bba4413b8fbad2325a53797b",
       "style": "IPY_MODEL_65c0d78853fe4710a261bde525d0918f",
       "value": true
      }
     },
     "810e932a76a04aaca315d1084220ae71": {
      "model_module": "@jupyter-widgets/base",
      "model_module_version": "1.2.0",
      "model_name": "LayoutModel",
      "state": {}
     },
     "810f36438f3641b0bb3c09adb6afc6a7": {
      "model_module": "@jupyter-widgets/base",
      "model_module_version": "1.2.0",
      "model_name": "LayoutModel",
      "state": {}
     },
     "811eb5b4b5a04d2dbf36d0d369549493": {
      "model_module": "@jupyter-widgets/base",
      "model_module_version": "1.2.0",
      "model_name": "LayoutModel",
      "state": {}
     },
     "8158c15f5f694eabb41dd661e08e8ed2": {
      "model_module": "@jupyter-widgets/base",
      "model_module_version": "1.2.0",
      "model_name": "LayoutModel",
      "state": {}
     },
     "8180023761d44ef6bfcf9f6695bd96e9": {
      "model_module": "@jupyter-widgets/base",
      "model_module_version": "1.2.0",
      "model_name": "LayoutModel",
      "state": {}
     },
     "8187b62dbf2d4c3fbf781e5e38e2e8dc": {
      "model_module": "@jupyter-widgets/base",
      "model_module_version": "1.2.0",
      "model_name": "LayoutModel",
      "state": {}
     },
     "8188f840128b4864b0ac6560be37dfc0": {
      "model_module": "@jupyter-widgets/controls",
      "model_module_version": "1.5.0",
      "model_name": "VBoxModel",
      "state": {
       "children": [
        "IPY_MODEL_5ff4978715fd4177a5ec1dde75c57755",
        "IPY_MODEL_7f22aa62d591456ba5dffe8392bf83fe"
       ],
       "layout": "IPY_MODEL_13da95165a49409a95fcc0c06f6089b4"
      }
     },
     "81aa5ef62a334616b12dac08c8bf6218": {
      "model_module": "@jupyter-widgets/controls",
      "model_module_version": "1.5.0",
      "model_name": "DropdownModel",
      "state": {
       "_options_labels": [
        "C:\\Users\\dominiquef\\Documents\\GIT\\mira\\mirageoscience-apps\\docs\\content\\applications",
        "C:\\Users\\dominiquef\\Documents\\GIT\\mira\\mirageoscience-apps\\docs\\content",
        "C:\\Users\\dominiquef\\Documents\\GIT\\mira\\mirageoscience-apps\\docs",
        "C:\\Users\\dominiquef\\Documents\\GIT\\mira\\mirageoscience-apps",
        "C:\\Users\\dominiquef\\Documents\\GIT\\mira",
        "C:\\Users\\dominiquef\\Documents\\GIT",
        "C:\\Users\\dominiquef\\Documents",
        "C:\\Users\\dominiquef",
        "C:\\Users",
        "C:\\",
        "D:\\",
        "Z:\\"
       ],
       "index": 0,
       "layout": "IPY_MODEL_271fa8a7d8cc4b85ba2b9ed8a2e558ce",
       "style": "IPY_MODEL_f753b850cd1842b38884cceba7fbfc7f"
      }
     },
     "81cfa5c3ddce449aa4d63bc63adbae98": {
      "model_module": "@jupyter-widgets/controls",
      "model_module_version": "1.5.0",
      "model_name": "DescriptionStyleModel",
      "state": {
       "description_width": ""
      }
     },
     "81d01879aa4d467f9bc62af5683bace6": {
      "model_module": "@jupyter-widgets/base",
      "model_module_version": "1.2.0",
      "model_name": "LayoutModel",
      "state": {}
     },
     "81ed5d9e57ce41c4b9f8c04fe20f4204": {
      "model_module": "@jupyter-widgets/base",
      "model_module_version": "1.2.0",
      "model_name": "LayoutModel",
      "state": {}
     },
     "81ff4f0e49614b76aa0ebf2eeaa7a6b8": {
      "model_module": "@jupyter-widgets/controls",
      "model_module_version": "1.5.0",
      "model_name": "ButtonStyleModel",
      "state": {}
     },
     "8232c4fc260a4d7d8bd60c266c93a6c8": {
      "model_module": "@jupyter-widgets/controls",
      "model_module_version": "1.5.0",
      "model_name": "VBoxModel",
      "state": {
       "children": [
        "IPY_MODEL_4646e20a6da84e3b82095d6ede1229b0",
        "IPY_MODEL_7d86a023ffbb4da098d1eeff0f19fbb5"
       ],
       "layout": "IPY_MODEL_47c7e45fc18d4f71b3eef9b0c4d8bc9d"
      }
     },
     "825b028c312f4f7eaf733483dfd2c2a0": {
      "model_module": "@jupyter-widgets/controls",
      "model_module_version": "1.5.0",
      "model_name": "DropdownModel",
      "state": {
       "_options_labels": [
        "output name",
        "uncertainties",
        "starting model",
        "regularization",
        "upper-lower bounds",
        "mesh",
        "ignore values",
        "optimization"
       ],
       "index": 0,
       "layout": "IPY_MODEL_e5aa96076ab04fb7bb5ea4e7dd47628b",
       "style": "IPY_MODEL_6dc3cc7bf2f04b66b90181eefe83f0cb"
      }
     },
     "8267492cce8549a9a1c4d01c031b4dca": {
      "model_module": "@jupyter-widgets/base",
      "model_module_version": "1.2.0",
      "model_name": "LayoutModel",
      "state": {}
     },
     "82a1dc06e01a4af8b411054e13988105": {
      "model_module": "@jupyter-widgets/base",
      "model_module_version": "1.2.0",
      "model_name": "LayoutModel",
      "state": {}
     },
     "82a24ac673934a5293f30a3210ee3de2": {
      "model_module": "@jupyter-widgets/base",
      "model_module_version": "1.2.0",
      "model_name": "LayoutModel",
      "state": {
       "grid_area": "dircontent",
       "width": "auto"
      }
     },
     "832e03224765405085ebcb6567d69076": {
      "model_module": "@jupyter-widgets/base",
      "model_module_version": "1.2.0",
      "model_name": "LayoutModel",
      "state": {}
     },
     "834ea113ae104bfdbe28834fd4724a40": {
      "model_module": "@jupyter-widgets/controls",
      "model_module_version": "1.5.0",
      "model_name": "DescriptionStyleModel",
      "state": {
       "description_width": ""
      }
     },
     "836f729b2ef443e7a1f187b27fc58f29": {
      "model_module": "@jupyter-widgets/controls",
      "model_module_version": "1.5.0",
      "model_name": "TextModel",
      "state": {
       "disabled": true,
       "layout": "IPY_MODEL_b2a3fc562e864c8ca27359e5d02c4ecd",
       "placeholder": "output filename",
       "style": "IPY_MODEL_e7e27192775e4d35a5fee6b5ea65f436"
      }
     },
     "838ace60a2174f15abc464b912aab464": {
      "model_module": "@jupyter-widgets/controls",
      "model_module_version": "1.5.0",
      "model_name": "DescriptionStyleModel",
      "state": {
       "description_width": ""
      }
     },
     "83d117af2e6d43a39f50139120c7ddf0": {
      "model_module": "@jupyter-widgets/base",
      "model_module_version": "1.2.0",
      "model_name": "LayoutModel",
      "state": {}
     },
     "83f9a3f13f0c45869c7eee562b574bdd": {
      "model_module": "@jupyter-widgets/controls",
      "model_module_version": "1.5.0",
      "model_name": "VBoxModel",
      "state": {
       "children": [
        "IPY_MODEL_8cb943f6d33d470a8314e2195a16b7df",
        "IPY_MODEL_bc5112e42f6147f2bf621af0fc768aeb"
       ],
       "layout": "IPY_MODEL_b2307be7798a47d0a75d01030e96c9a0"
      }
     },
     "848d3bee543a4e388feec3bf5e02ec47": {
      "model_module": "@jupyter-widgets/base",
      "model_module_version": "1.2.0",
      "model_name": "LayoutModel",
      "state": {
       "display": "none",
       "grid_gap": "0px 0px",
       "grid_template_areas": "\n                    'pathlist pathlist'\n                    'dircontent dircontent'\n                    ",
       "grid_template_columns": "60% 40%",
       "grid_template_rows": "auto auto",
       "width": "500px"
      }
     },
     "849f194f79c6492785ed809b169003bb": {
      "model_module": "@jupyter-widgets/controls",
      "model_module_version": "1.5.0",
      "model_name": "DescriptionStyleModel",
      "state": {
       "description_width": ""
      }
     },
     "84bdb2a21a3344e8b6bf0ac2da48e1bd": {
      "model_module": "@jupyter-widgets/controls",
      "model_module_version": "1.5.0",
      "model_name": "LabelModel",
      "state": {
       "layout": "IPY_MODEL_500d701acb464a99823e8bd7ae074580",
       "style": "IPY_MODEL_0020ab33f06b4b9795033d56aa2aa705",
       "value": "No topography"
      }
     },
     "84c44127766545e2953b4f690ce60625": {
      "model_module": "@jupyter-widgets/base",
      "model_module_version": "1.2.0",
      "model_name": "LayoutModel",
      "state": {
       "display": "none",
       "grid_gap": "0px 0px",
       "grid_template_areas": "\n                    'pathlist filename'\n                    'dircontent dircontent'\n                    ",
       "grid_template_columns": "60% 40%",
       "grid_template_rows": "auto auto",
       "width": "500px"
      }
     },
     "8520cf4a098640d399c7ffffb52bb0e4": {
      "model_module": "@jupyter-widgets/controls",
      "model_module_version": "1.5.0",
      "model_name": "DescriptionStyleModel",
      "state": {
       "description_width": ""
      }
     },
     "85f08d9abf444e65a67d6dc352f50f52": {
      "model_module": "@jupyter-widgets/controls",
      "model_module_version": "1.5.0",
      "model_name": "HTMLModel",
      "state": {
       "layout": "IPY_MODEL_5755d5613d5d43d5bd74ca3088fbb387",
       "style": "IPY_MODEL_5cea82c6761c4a0c9dff78369e42bc85"
      }
     },
     "85f14378f33143f482964246f714d61c": {
      "model_module": "@jupyter-widgets/controls",
      "model_module_version": "1.5.0",
      "model_name": "VBoxModel",
      "state": {
       "children": [
        "IPY_MODEL_2c944d4b072040b580be056388b4b38a",
        "IPY_MODEL_d4e98ab5d4344212ae63e9c9ebd4962d"
       ],
       "layout": "IPY_MODEL_dd7e4152ba9e4f1a971bade708612ea4"
      }
     },
     "860dd63515594760a1dfc1868a9f2632": {
      "model_module": "@jupyter-widgets/base",
      "model_module_version": "1.2.0",
      "model_name": "LayoutModel",
      "state": {}
     },
     "868ad830f2c740f8be50c664a036fb80": {
      "model_module": "@jupyter-widgets/controls",
      "model_module_version": "1.5.0",
      "model_name": "SliderStyleModel",
      "state": {
       "description_width": "initial"
      }
     },
     "86b0bcacbbbe4090991adb6e43919007": {
      "model_module": "@jupyter-widgets/base",
      "model_module_version": "1.2.0",
      "model_name": "LayoutModel",
      "state": {
       "display": "none",
       "grid_gap": "0px 0px",
       "grid_template_areas": "\n                    'pathlist filename'\n                    'dircontent dircontent'\n                    ",
       "grid_template_columns": "60% 40%",
       "grid_template_rows": "auto auto",
       "width": "500px"
      }
     },
     "86bc0f8769bc4cde93d28a5b5d05a6c7": {
      "model_module": "@jupyter-widgets/base",
      "model_module_version": "1.2.0",
      "model_name": "LayoutModel",
      "state": {}
     },
     "871d100aedc44edcb7e515f62f192a99": {
      "model_module": "@jupyter-widgets/controls",
      "model_module_version": "1.5.0",
      "model_name": "VBoxModel",
      "state": {
       "children": [
        "IPY_MODEL_047f804cd0bd4983b7fbfc939b70ac84",
        "IPY_MODEL_aa7198487aec4745aa211f5443ca9616",
        "IPY_MODEL_e2463c916e0241299d0e206c554e8a5b",
        "IPY_MODEL_8bce4b05d95f4b0a97febae3e822ea2a",
        "IPY_MODEL_66b3637336fe4e509878b4b18f91280f",
        "IPY_MODEL_fba0174a62e949c0a053da40fffebb0c",
        "IPY_MODEL_a02ac654b54c4f9190155d77aed5941e"
       ],
       "layout": "IPY_MODEL_7ddd94befaf84ecfa796aab78fa9e1dc"
      }
     },
     "87359f5b012c403a936e05165155c777": {
      "model_module": "@jupyter-widgets/controls",
      "model_module_version": "1.5.0",
      "model_name": "LabelModel",
      "state": {
       "layout": "IPY_MODEL_faf36b6dd99342988169e621e74a121d",
       "style": "IPY_MODEL_3297720073cf4d8e9251e33e6d2ab28b",
       "value": "Workspace"
      }
     },
     "8748befcc8d44064871c478fd9dc11db": {
      "model_module": "@jupyter-widgets/controls",
      "model_module_version": "1.5.0",
      "model_name": "DescriptionStyleModel",
      "state": {
       "description_width": ""
      }
     },
     "878c60b8c3f54ff69e40428dfcf6c08b": {
      "model_module": "@jupyter-widgets/base",
      "model_module_version": "1.2.0",
      "model_name": "LayoutModel",
      "state": {}
     },
     "87c701d9fb02472c9f4134cfc739c1fd": {
      "model_module": "@jupyter-widgets/controls",
      "model_module_version": "1.5.0",
      "model_name": "HBoxModel",
      "state": {
       "children": [
        "IPY_MODEL_cdf0a19495594eaba29fca621c1e6720",
        "IPY_MODEL_a333f1004a64450eaa1e0199094230ed",
        "IPY_MODEL_1bbba73a94ea42ccafb78812ba704814"
       ],
       "layout": "IPY_MODEL_da5a1a4ad34148a0b27c66d83d4eb2e5"
      }
     },
     "87e4647b6a34480190508138936eada9": {
      "model_module": "@jupyter-widgets/controls",
      "model_module_version": "1.5.0",
      "model_name": "DescriptionStyleModel",
      "state": {
       "description_width": ""
      }
     },
     "88677b944a664b169b9bbdeeefbbd6ae": {
      "model_module": "@jupyter-widgets/controls",
      "model_module_version": "1.5.0",
      "model_name": "CheckboxModel",
      "state": {
       "description": "GA Pro - Live link",
       "disabled": false,
       "indent": false,
       "layout": "IPY_MODEL_cf9b8905b0244f7ab74ee75c9a96b28d",
       "style": "IPY_MODEL_6b801beab9944b509bf63199ab0268de",
       "value": false
      }
     },
     "8890033b95cd47cc83daddbcbe27d442": {
      "model_module": "@jupyter-widgets/controls",
      "model_module_version": "1.5.0",
      "model_name": "SelectModel",
      "state": {
       "_options_labels": [
        "..",
        "dask-worker-space",
        "images"
       ],
       "index": null,
       "layout": "IPY_MODEL_52d2ae2ce6664e58bb0426a242008fef",
       "rows": 8,
       "style": "IPY_MODEL_6805a2db9e89435aa20f0ac5acf3535a"
      }
     },
     "88b644e42da449e18df09cbad860da51": {
      "model_module": "@jupyter-widgets/controls",
      "model_module_version": "1.5.0",
      "model_name": "DescriptionStyleModel",
      "state": {
       "description_width": "initial"
      }
     },
     "894ba5dc7d4f47a1ac4f3cdc4188725e": {
      "model_module": "@jupyter-widgets/base",
      "model_module_version": "1.2.0",
      "model_name": "LayoutModel",
      "state": {
       "width": "auto"
      }
     },
     "89512facedb24ccbaadc1b2f27d91d68": {
      "model_module": "@jupyter-widgets/controls",
      "model_module_version": "1.5.0",
      "model_name": "DescriptionStyleModel",
      "state": {
       "description_width": ""
      }
     },
     "897422813d2246e8b0f9fc18158c3c67": {
      "model_module": "@jupyter-widgets/controls",
      "model_module_version": "1.5.0",
      "model_name": "DescriptionStyleModel",
      "state": {
       "description_width": ""
      }
     },
     "89811e5cc64943ec82cf4d9c99889065": {
      "model_module": "@jupyter-widgets/base",
      "model_module_version": "1.2.0",
      "model_name": "LayoutModel",
      "state": {}
     },
     "8a34481f1dc047b5bbb6493b389107d4": {
      "model_module": "@jupyter-widgets/controls",
      "model_module_version": "1.5.0",
      "model_name": "VBoxModel",
      "state": {
       "children": [
        "IPY_MODEL_2cbd01b56571457d987065c908384f4b",
        "IPY_MODEL_4e168e84a4914a89a05fc9cc0ebc457d"
       ],
       "layout": "IPY_MODEL_47980fc6b22e42818100f9e2e1ea987b"
      }
     },
     "8a41e07726184ffeabea9e860caf1295": {
      "model_module": "@jupyter-widgets/controls",
      "model_module_version": "1.5.0",
      "model_name": "DescriptionStyleModel",
      "state": {
       "description_width": "initial"
      }
     },
     "8a63f360d80545b7827277288d05ac7c": {
      "model_module": "@jupyter-widgets/base",
      "model_module_version": "1.2.0",
      "model_name": "LayoutModel",
      "state": {}
     },
     "8a90c312934540758644f61872769830": {
      "model_module": "@jupyter-widgets/controls",
      "model_module_version": "1.5.0",
      "model_name": "HTMLModel",
      "state": {
       "layout": "IPY_MODEL_67ea87843ea14c599068d3781c3f660e",
       "style": "IPY_MODEL_bccb1192e3034c43b8cdc9f483de884d"
      }
     },
     "8b32d2c360f34622bfeb7ee072243f8e": {
      "model_module": "@jupyter-widgets/base",
      "model_module_version": "1.2.0",
      "model_name": "LayoutModel",
      "state": {
       "grid_area": "pathlist",
       "width": "auto"
      }
     },
     "8b53b045f3104bf798af02f32ab7a02e": {
      "model_module": "@jupyter-widgets/controls",
      "model_module_version": "1.5.0",
      "model_name": "ToggleButtonModel",
      "state": {
       "layout": "IPY_MODEL_df3d62322c144212841bf9eb5ed90ea2",
       "style": "IPY_MODEL_b84590680bbb4f60b3c2eec9c9151939",
       "value": true
      }
     },
     "8b634d436b8f4eac8b7a67b864d38ac1": {
      "model_module": "@jupyter-widgets/controls",
      "model_module_version": "1.5.0",
      "model_name": "ButtonModel",
      "state": {
       "button_style": "danger",
       "description": "Compute",
       "icon": "check",
       "layout": "IPY_MODEL_376add82229547159e8c44bd55e20a9b",
       "style": "IPY_MODEL_2502c4330b1b406eb2d89adc3f360539",
       "tooltip": "Run computation"
      }
     },
     "8ba30e7ed730424ba851805a8d6dc649": {
      "model_module": "@jupyter-widgets/controls",
      "model_module_version": "1.5.0",
      "model_name": "DropdownModel",
      "state": {
       "_options_labels": [
        "C:\\Users\\dominiquef\\Documents\\GIT\\mira\\mirageoscience-apps\\docs\\content\\applications",
        "C:\\Users\\dominiquef\\Documents\\GIT\\mira\\mirageoscience-apps\\docs\\content",
        "C:\\Users\\dominiquef\\Documents\\GIT\\mira\\mirageoscience-apps\\docs",
        "C:\\Users\\dominiquef\\Documents\\GIT\\mira\\mirageoscience-apps",
        "C:\\Users\\dominiquef\\Documents\\GIT\\mira",
        "C:\\Users\\dominiquef\\Documents\\GIT",
        "C:\\Users\\dominiquef\\Documents",
        "C:\\Users\\dominiquef",
        "C:\\Users",
        "C:\\",
        "D:\\",
        "Z:\\"
       ],
       "index": 0,
       "layout": "IPY_MODEL_e8f44393c9604ab4ac639419b326816c",
       "style": "IPY_MODEL_e7626b6c7baf47fcad7b43774f25c2cc"
      }
     },
     "8baa9f1d326f4fd1b533896b66cb32e9": {
      "model_module": "@jupyter-widgets/controls",
      "model_module_version": "1.5.0",
      "model_name": "FloatTextModel",
      "state": {
       "description": "SI",
       "layout": "IPY_MODEL_167bb5377e0a4b9aadc0f3706a6c2eed",
       "step": null,
       "style": "IPY_MODEL_23bac64059c44f1ca0fa259ef2125f99",
       "value": 0.0001
      }
     },
     "8bc7cf314f35443c8106e089b5ff46b2": {
      "model_module": "@jupyter-widgets/controls",
      "model_module_version": "1.5.0",
      "model_name": "DescriptionStyleModel",
      "state": {
       "description_width": "initial"
      }
     },
     "8bce4b05d95f4b0a97febae3e822ea2a": {
      "model_module": "@jupyter-widgets/controls",
      "model_module_version": "1.5.0",
      "model_name": "TextModel",
      "state": {
       "description": "Layers below data",
       "layout": "IPY_MODEL_cee9576536504bb69cc188e4637a5ead",
       "style": "IPY_MODEL_a0092c490e1f4141a23f3c1562241b2a",
       "value": "5, 5, 5, 5"
      }
     },
     "8bdb29f289b14f7bbf44284a9c7447a4": {
      "model_module": "@jupyter-widgets/controls",
      "model_module_version": "1.5.0",
      "model_name": "CheckboxModel",
      "state": {
       "description": "Forward only",
       "disabled": false,
       "layout": "IPY_MODEL_456dab278ef943b68111e34186aacddb",
       "style": "IPY_MODEL_23ba21c09f5b41da9729463588e3e942",
       "value": false
      }
     },
     "8bde1e6719884240abe146cb12e2c5e2": {
      "model_module": "@jupyter-widgets/base",
      "model_module_version": "1.2.0",
      "model_name": "LayoutModel",
      "state": {}
     },
     "8be2194c0c0f410ca0bc47ce69b3c915": {
      "model_module": "@jupyter-widgets/base",
      "model_module_version": "1.2.0",
      "model_name": "LayoutModel",
      "state": {
       "display": "none"
      }
     },
     "8c101b05a4684bbead61e3b187da66fe": {
      "model_module": "@jupyter-widgets/controls",
      "model_module_version": "1.5.0",
      "model_name": "DescriptionStyleModel",
      "state": {
       "description_width": ""
      }
     },
     "8c6c5346e1ad4612830958e9256f7077": {
      "model_module": "@jupyter-widgets/base",
      "model_module_version": "1.2.0",
      "model_name": "LayoutModel",
      "state": {}
     },
     "8c8801c1edb642389872408a0f397cd5": {
      "model_module": "@jupyter-widgets/base",
      "model_module_version": "1.2.0",
      "model_name": "LayoutModel",
      "state": {
       "grid_area": "pathlist",
       "width": "auto"
      }
     },
     "8ca5bab043694649a048d7c533e4182b": {
      "model_module": "@jupyter-widgets/base",
      "model_module_version": "1.2.0",
      "model_name": "LayoutModel",
      "state": {}
     },
     "8ca8ce37b7c24bc7938215252d6bd4ff": {
      "model_module": "@jupyter-widgets/controls",
      "model_module_version": "1.5.0",
      "model_name": "ButtonModel",
      "state": {
       "description": "Cancel",
       "layout": "IPY_MODEL_4af367d574bc44ca9f9c6b223ceed0aa",
       "style": "IPY_MODEL_046c249d142e47f986b49b5f7383bbc5"
      }
     },
     "8ca997f363c34a07a2f17d4ea10a073d": {
      "model_module": "@jupyter-widgets/controls",
      "model_module_version": "1.5.0",
      "model_name": "ButtonStyleModel",
      "state": {}
     },
     "8cb943f6d33d470a8314e2195a16b7df": {
      "model_module": "@jupyter-widgets/controls",
      "model_module_version": "1.5.0",
      "model_name": "TextModel",
      "state": {
       "description": "(dx, dy, dz) (+ve up)",
       "layout": "IPY_MODEL_a755eddad0664a548437b720320c6a86",
       "style": "IPY_MODEL_07be3a29a7a444bbb968247d14d915a7",
       "value": "0, 0, 60"
      }
     },
     "8ccc077f6dd148e395dbd8515a2e229e": {
      "model_module": "@jupyter-widgets/base",
      "model_module_version": "1.2.0",
      "model_name": "LayoutModel",
      "state": {
       "display": "none",
       "grid_gap": "0px 0px",
       "grid_template_areas": "\n                    'pathlist pathlist'\n                    'dircontent dircontent'\n                    ",
       "grid_template_columns": "60% 40%",
       "grid_template_rows": "auto auto",
       "width": "500px"
      }
     },
     "8cfe021624ac4f9da4bde25a8179a74d": {
      "model_module": "@jupyter-widgets/base",
      "model_module_version": "1.2.0",
      "model_name": "LayoutModel",
      "state": {}
     },
     "8d112535af1f42359f71e168b4a71e8f": {
      "model_module": "@jupyter-widgets/controls",
      "model_module_version": "1.5.0",
      "model_name": "DescriptionStyleModel",
      "state": {
       "description_width": ""
      }
     },
     "8d225b546d9d4ec793acd205c7c63c6e": {
      "model_module": "@jupyter-widgets/controls",
      "model_module_version": "1.5.0",
      "model_name": "DescriptionStyleModel",
      "state": {
       "description_width": "initial"
      }
     },
     "8d6170ddfc6c47a6a92332725e227619": {
      "model_module": "@jupyter-widgets/base",
      "model_module_version": "1.2.0",
      "model_name": "LayoutModel",
      "state": {}
     },
     "8da54c9271eb45a285e8dec35e61f6fb": {
      "model_module": "@jupyter-widgets/controls",
      "model_module_version": "1.5.0",
      "model_name": "VBoxModel",
      "state": {
       "children": [
        "IPY_MODEL_a9cae119c0fb442889ea0da099172d3d",
        "IPY_MODEL_91514c27b6804a518db71c581c295065"
       ],
       "layout": "IPY_MODEL_79fb6e99275642d88a9e8beb36dbbc40"
      }
     },
     "8dcb27c05cf74d42909fa05ddc2b3a70": {
      "model_module": "@jupyter-widgets/base",
      "model_module_version": "1.2.0",
      "model_name": "LayoutModel",
      "state": {
       "width": "auto"
      }
     },
     "8dcf6be05a434ed8905a2e1a3d11c1e3": {
      "model_module": "@jupyter-widgets/controls",
      "model_module_version": "1.5.0",
      "model_name": "VBoxModel",
      "state": {
       "children": [
        "IPY_MODEL_130e66d5daf34253b674b04e3ebe2c40"
       ],
       "layout": "IPY_MODEL_90d5b64f35fd4e9f971abbe9a3f832eb"
      }
     },
     "8e48dd1ecdea44a3be155683f531b017": {
      "model_module": "@jupyter-widgets/controls",
      "model_module_version": "1.5.0",
      "model_name": "DescriptionStyleModel",
      "state": {
       "description_width": ""
      }
     },
     "8e6dbe7b1dd14bf190067d780430f520": {
      "model_module": "@jupyter-widgets/controls",
      "model_module_version": "1.5.0",
      "model_name": "DescriptionStyleModel",
      "state": {
       "description_width": ""
      }
     },
     "8eba27c12f2948ef948188e7d2fa4567": {
      "model_module": "@jupyter-widgets/base",
      "model_module_version": "1.2.0",
      "model_name": "LayoutModel",
      "state": {
       "display": "none",
       "width": "auto"
      }
     },
     "8ebefe2a4e694372b8c155878c78b56d": {
      "model_module": "@jupyter-widgets/controls",
      "model_module_version": "1.5.0",
      "model_name": "DescriptionStyleModel",
      "state": {
       "description_width": "initial"
      }
     },
     "8ef5403dab894d1f8997d18e10e1964c": {
      "model_module": "@jupyter-widgets/base",
      "model_module_version": "1.2.0",
      "model_name": "LayoutModel",
      "state": {
       "grid_area": "filename",
       "width": "auto"
      }
     },
     "8fb31c5c3e8542448207def3cb98ebca": {
      "model_module": "@jupyter-widgets/controls",
      "model_module_version": "1.5.0",
      "model_name": "DescriptionStyleModel",
      "state": {
       "description_width": "initial"
      }
     },
     "8fe405b928ec425d9c7bd2136062e8b2": {
      "model_module": "@jupyter-widgets/controls",
      "model_module_version": "1.5.0",
      "model_name": "ButtonStyleModel",
      "state": {}
     },
     "8ff7a205e3984fc998386247f874ac19": {
      "model_module": "@jupyter-widgets/controls",
      "model_module_version": "1.5.0",
      "model_name": "HTMLModel",
      "state": {
       "layout": "IPY_MODEL_5519363c2e3e4ab28e2031cbf9e89186",
       "placeholder": "",
       "style": "IPY_MODEL_2ad617dfd36c45bda95219cd41cb3cf0",
       "value": "<span style=\"margin-left:10px; color:black;\">No file selected</span>"
      }
     },
     "8ffd34daa9d64bb2a0def06556f5af3e": {
      "model_module": "@jupyter-widgets/base",
      "model_module_version": "1.2.0",
      "model_name": "LayoutModel",
      "state": {}
     },
     "902425f1dec74a2e91d6d7a7b44fe435": {
      "model_module": "@jupyter-widgets/controls",
      "model_module_version": "1.5.0",
      "model_name": "DescriptionStyleModel",
      "state": {
       "description_width": "initial"
      }
     },
     "907161d40ae3447085564655cd4b2299": {
      "model_module": "@jupyter-widgets/controls",
      "model_module_version": "1.5.0",
      "model_name": "DropdownModel",
      "state": {
       "_options_labels": [
        "C:\\Users\\dominiquef\\Documents\\GIT\\mira\\mirageoscience-apps\\docs\\content\\applications",
        "C:\\Users\\dominiquef\\Documents\\GIT\\mira\\mirageoscience-apps\\docs\\content",
        "C:\\Users\\dominiquef\\Documents\\GIT\\mira\\mirageoscience-apps\\docs",
        "C:\\Users\\dominiquef\\Documents\\GIT\\mira\\mirageoscience-apps",
        "C:\\Users\\dominiquef\\Documents\\GIT\\mira",
        "C:\\Users\\dominiquef\\Documents\\GIT",
        "C:\\Users\\dominiquef\\Documents",
        "C:\\Users\\dominiquef",
        "C:\\Users",
        "C:\\",
        "D:\\",
        "Z:\\"
       ],
       "index": 0,
       "layout": "IPY_MODEL_c4333e23f06a49ca850c2f0205f932ca",
       "style": "IPY_MODEL_5cdecc3f91ff49edb4dc2a889d769848"
      }
     },
     "90d5b64f35fd4e9f971abbe9a3f832eb": {
      "model_module": "@jupyter-widgets/base",
      "model_module_version": "1.2.0",
      "model_name": "LayoutModel",
      "state": {}
     },
     "9143946caf194ac48a0c2fa32c7ddf37": {
      "model_module": "@jupyter-widgets/controls",
      "model_module_version": "1.5.0",
      "model_name": "DescriptionStyleModel",
      "state": {
       "description_width": "initial"
      }
     },
     "914dcaf845ec49c793747748e67614f8": {
      "model_module": "@jupyter-widgets/base",
      "model_module_version": "1.2.0",
      "model_name": "LayoutModel",
      "state": {}
     },
     "91514c27b6804a518db71c581c295065": {
      "model_module": "@jupyter-widgets/controls",
      "model_module_version": "1.5.0",
      "model_name": "FloatTextModel",
      "state": {
       "description": "SI",
       "layout": "IPY_MODEL_cbf3a5bfdf8a495c83313147c40c95bf",
       "step": null,
       "style": "IPY_MODEL_149062197a97490dae4f43e4d2e45a25"
      }
     },
     "91a8e9380d454322bf0745b424ca9e59": {
      "model_module": "@jupyter-widgets/controls",
      "model_module_version": "1.5.0",
      "model_name": "ButtonModel",
      "state": {
       "description": "Select",
       "layout": "IPY_MODEL_6e3221a3205b400b8e37f03a862675eb",
       "style": "IPY_MODEL_f1d10d1b390c4d5cb3d9d22e93d5d1db"
      }
     },
     "924c085693b7439e8ed53b918b8785cf": {
      "model_module": "@jupyter-widgets/base",
      "model_module_version": "1.2.0",
      "model_name": "LayoutModel",
      "state": {}
     },
     "925289b43e6043c5949c54e0f4ecea99": {
      "model_module": "@jupyter-widgets/base",
      "model_module_version": "1.2.0",
      "model_name": "LayoutModel",
      "state": {}
     },
     "92530041c43e4663bbefbae849efb115": {
      "model_module": "@jupyter-widgets/controls",
      "model_module_version": "1.5.0",
      "model_name": "GridBoxModel",
      "state": {
       "children": [
        "IPY_MODEL_09cb61bca1854700806d13e913901483",
        "IPY_MODEL_4d6897076dce408fa0587f95fc3fa907",
        "IPY_MODEL_415bbf2d436b402683f7ffb5279dfc25"
       ],
       "layout": "IPY_MODEL_21a290cd437a475f8087b4b549180826"
      }
     },
     "925aec604dd3467ba7b83ca6d40cd25e": {
      "model_module": "@jupyter-widgets/controls",
      "model_module_version": "1.5.0",
      "model_name": "VBoxModel",
      "state": {
       "children": [
        "IPY_MODEL_d7e85eddd1c9411c82413195583c7d93",
        "IPY_MODEL_7e4a9a30b8b5430bb5e5a213aa1d5350"
       ],
       "layout": "IPY_MODEL_52b1eca62f0a47d1959d1606ccb3d236"
      }
     },
     "928bbe1e86524772af43467e9174fd20": {
      "model_module": "@jupyter-widgets/controls",
      "model_module_version": "1.5.0",
      "model_name": "ButtonModel",
      "state": {
       "button_style": "danger",
       "description": "Compute",
       "icon": "check",
       "layout": "IPY_MODEL_642498f5601c40d98b3540b9afc29d7f",
       "style": "IPY_MODEL_bbc067c35d08417f98e1f148b683513d",
       "tooltip": "Run computation"
      }
     },
     "92c206d25e3e4520bc7065db427eef77": {
      "model_module": "@jupyter-widgets/base",
      "model_module_version": "1.2.0",
      "model_name": "LayoutModel",
      "state": {
       "width": "auto"
      }
     },
     "92ea3ff0d82047ed8e6b666d39205733": {
      "model_module": "@jupyter-widgets/controls",
      "model_module_version": "1.5.0",
      "model_name": "DropdownModel",
      "state": {
       "_options_labels": [
        "",
        "--- Channels ---",
        "elevation",
        "Z"
       ],
       "description": "Data: ",
       "index": 2,
       "layout": "IPY_MODEL_ddc8961a7c9843999df090db13ced613",
       "style": "IPY_MODEL_135232a08e96423f8651f9d58f4d8c68"
      }
     },
     "9302b000e9b64f56b270391d1db90bc4": {
      "model_module": "@jupyter-widgets/controls",
      "model_module_version": "1.5.0",
      "model_name": "ButtonModel",
      "state": {
       "description": "Cancel",
       "layout": "IPY_MODEL_73e6e12e04334a42892ee7cb04195998",
       "style": "IPY_MODEL_527fe96380b746eeaf60108b126d3a59"
      }
     },
     "93073e5576e544bf96c8c0deb08e0c25": {
      "model_module": "@jupyter-widgets/controls",
      "model_module_version": "1.5.0",
      "model_name": "DescriptionStyleModel",
      "state": {
       "description_width": ""
      }
     },
     "938eed7c272a4abb867de7bbafd37c3a": {
      "model_module": "@jupyter-widgets/base",
      "model_module_version": "1.2.0",
      "model_name": "LayoutModel",
      "state": {}
     },
     "9399d3ac29184a77b583346db40a9226": {
      "model_module": "@jupyter-widgets/base",
      "model_module_version": "1.2.0",
      "model_name": "LayoutModel",
      "state": {}
     },
     "93a5e6d1f18a4e30a55f0e6b2c6c8d29": {
      "model_module": "@jupyter-widgets/controls",
      "model_module_version": "1.5.0",
      "model_name": "DescriptionStyleModel",
      "state": {
       "description_width": ""
      }
     },
     "93d0a72db82f479d8c036ae134f536dc": {
      "model_module": "@jupyter-widgets/controls",
      "model_module_version": "1.5.0",
      "model_name": "ButtonStyleModel",
      "state": {}
     },
     "9433c8015f1e4a3e89a563feb32e7ecd": {
      "model_module": "@jupyter-widgets/controls",
      "model_module_version": "1.5.0",
      "model_name": "ButtonStyleModel",
      "state": {}
     },
     "9438df172f8c4d7db8e53b1bd6cb5781": {
      "model_module": "@jupyter-widgets/base",
      "model_module_version": "1.2.0",
      "model_name": "LayoutModel",
      "state": {}
     },
     "943c053fe53c4368a509ecdc0cf8d4da": {
      "model_module": "@jupyter-widgets/base",
      "model_module_version": "1.2.0",
      "model_name": "LayoutModel",
      "state": {}
     },
     "95322f0683d542e583f9b78b749b0cb7": {
      "model_module": "@jupyter-widgets/base",
      "model_module_version": "1.2.0",
      "model_name": "LayoutModel",
      "state": {}
     },
     "953441bc9433408d852259c2ac8edd6f": {
      "model_module": "@jupyter-widgets/base",
      "model_module_version": "1.2.0",
      "model_name": "LayoutModel",
      "state": {}
     },
     "955e5da80d2446218099769d2dbf0f01": {
      "model_module": "@jupyter-widgets/controls",
      "model_module_version": "1.5.0",
      "model_name": "DescriptionStyleModel",
      "state": {
       "description_width": ""
      }
     },
     "956ee1f7f4894b6d8b3f01d53cb60ad4": {
      "model_module": "@jupyter-widgets/controls",
      "model_module_version": "1.5.0",
      "model_name": "VBoxModel",
      "state": {
       "children": [
        "IPY_MODEL_d6b45fc3cfda459ba07cd7b067e1505a",
        "IPY_MODEL_4bc4cec658a245b4b27800a8e410ce9f",
        "IPY_MODEL_5f3770fb24604902a1c22f4b5473c9fd"
       ],
       "layout": "IPY_MODEL_f7656cdcfc9f49f8930cc61e21b7b4ec"
      }
     },
     "9589fc88c1494d9aaf03775e45bb12ca": {
      "model_module": "@jupyter-widgets/controls",
      "model_module_version": "1.5.0",
      "model_name": "GridBoxModel",
      "state": {
       "children": [
        "IPY_MODEL_ebdd14c5ab5e4adbb7a7f03ebec36698",
        "IPY_MODEL_70987a5be18646b9a606695325c9bce0",
        "IPY_MODEL_d4b2042697cc451f9d86742774aca7d5"
       ],
       "layout": "IPY_MODEL_416e6e7e984941e0badea5abdae546bc"
      }
     },
     "95b6c526d8fb405eb8c460d97b762f17": {
      "model_module": "@jupyter-widgets/controls",
      "model_module_version": "1.5.0",
      "model_name": "ButtonStyleModel",
      "state": {}
     },
     "95e39b8b69694f87b0b7374eaea6acec": {
      "model_module": "@jupyter-widgets/base",
      "model_module_version": "1.2.0",
      "model_name": "LayoutModel",
      "state": {}
     },
     "9602ba97346f40949c83db04c829a2ae": {
      "model_module": "@jupyter-widgets/controls",
      "model_module_version": "1.5.0",
      "model_name": "ButtonStyleModel",
      "state": {}
     },
     "9688ecdc57c741e9b42468a1a6bf3600": {
      "model_module": "@jupyter-widgets/base",
      "model_module_version": "1.2.0",
      "model_name": "LayoutModel",
      "state": {}
     },
     "96cac2a8ad484f45907a2d4dfd74dd28": {
      "model_module": "@jupyter-widgets/base",
      "model_module_version": "1.2.0",
      "model_name": "LayoutModel",
      "state": {}
     },
     "96f56ddfcafe4b3493d95a7e933f7552": {
      "model_module": "@jupyter-widgets/controls",
      "model_module_version": "1.5.0",
      "model_name": "DescriptionStyleModel",
      "state": {
       "description_width": ""
      }
     },
     "974222caf75644a792a030e9fd67fcb2": {
      "model_module": "@jupyter-widgets/controls",
      "model_module_version": "1.5.0",
      "model_name": "HTMLModel",
      "state": {
       "layout": "IPY_MODEL_4eac15c19dfc4c18b8d5ff62680d1860",
       "style": "IPY_MODEL_838ace60a2174f15abc464b912aab464"
      }
     },
     "97795b2f8d47412a9bb4695d4ede5992": {
      "model_module": "@jupyter-widgets/base",
      "model_module_version": "1.2.0",
      "model_name": "LayoutModel",
      "state": {}
     },
     "97e2072803cd4b09aff45fcceeacf1ad": {
      "model_module": "@jupyter-widgets/controls",
      "model_module_version": "1.5.0",
      "model_name": "ButtonModel",
      "state": {
       "button_style": "danger",
       "description": "Compute",
       "icon": "check",
       "layout": "IPY_MODEL_d122afd3e2b64a45bd135c54f36c4554",
       "style": "IPY_MODEL_9f8bcc16c9464543af63537a37c212bf",
       "tooltip": "Run computation"
      }
     },
     "981a97f48fff4797990f9f8598da6230": {
      "model_module": "@jupyter-widgets/base",
      "model_module_version": "1.2.0",
      "model_name": "LayoutModel",
      "state": {}
     },
     "981b18788a10416d889ac2652275f079": {
      "model_module": "@jupyter-widgets/base",
      "model_module_version": "1.2.0",
      "model_name": "LayoutModel",
      "state": {}
     },
     "9822f5abd05843d6b29f5da4acf5770e": {
      "model_module": "@jupyter-widgets/controls",
      "model_module_version": "1.5.0",
      "model_name": "ButtonStyleModel",
      "state": {}
     },
     "9842289d27dc4cd8bbce7cb8d284922f": {
      "model_module": "@jupyter-widgets/base",
      "model_module_version": "1.2.0",
      "model_name": "LayoutModel",
      "state": {
       "width": "auto"
      }
     },
     "9846a6132982456fbce9e876a9a65a31": {
      "model_module": "@jupyter-widgets/controls",
      "model_module_version": "1.5.0",
      "model_name": "FloatSliderModel",
      "state": {
       "continuous_update": false,
       "description": "Azimuth",
       "layout": "IPY_MODEL_943c053fe53c4368a509ecdc0cf8d4da",
       "max": 90,
       "min": -90,
       "step": 5,
       "style": "IPY_MODEL_738bc12900124acf958ed6ef240146b9",
       "value": -20
      }
     },
     "98682ba27fc9452597681e313f4320cb": {
      "model_module": "@jupyter-widgets/base",
      "model_module_version": "1.2.0",
      "model_name": "LayoutModel",
      "state": {
       "visibility": "hidden"
      }
     },
     "989cf9e3b6a149eb838ce4457bdc549a": {
      "model_module": "@jupyter-widgets/controls",
      "model_module_version": "1.5.0",
      "model_name": "VBoxModel",
      "state": {
       "children": [
        "IPY_MODEL_87359f5b012c403a936e05165155c777",
        "IPY_MODEL_12de35da529f427494e1568975104526"
       ],
       "layout": "IPY_MODEL_d89e07164f8848718d6c9caae0783d9c"
      }
     },
     "98b4dbaedd8349c1a760496e1bed8030": {
      "model_module": "@jupyter-widgets/controls",
      "model_module_version": "1.5.0",
      "model_name": "VBoxModel",
      "state": {
       "children": [
        "IPY_MODEL_02a5061a8fcc4789979224378af381c7",
        "IPY_MODEL_01f461d7dbd8426f86ea710147e2e1f3"
       ],
       "layout": "IPY_MODEL_4a0a56f2a070422cb7eefa1e6128e60a"
      }
     },
     "995b807715c24020a143e21a01c2d9a3": {
      "model_module": "@jupyter-widgets/base",
      "model_module_version": "1.2.0",
      "model_name": "LayoutModel",
      "state": {}
     },
     "99d0c1623d214b6d994e0f31af0da841": {
      "model_module": "@jupyter-widgets/base",
      "model_module_version": "1.2.0",
      "model_name": "LayoutModel",
      "state": {
       "width": "auto"
      }
     },
     "9a196bfbecd8463cb58f6bb7929693f9": {
      "model_module": "@jupyter-widgets/controls",
      "model_module_version": "1.5.0",
      "model_name": "TextModel",
      "state": {
       "description": "Offsets (x,y,z)",
       "layout": "IPY_MODEL_6b4266d76d61489fbf46374a3808a37e",
       "style": "IPY_MODEL_70b43defd4c34e7ca45ab68b5bd34be9",
       "value": "0, 0, 0"
      }
     },
     "9a5eee23fb04447ab8f92917f9bd41b5": {
      "model_module": "@jupyter-widgets/controls",
      "model_module_version": "1.5.0",
      "model_name": "VBoxModel",
      "state": {
       "children": [
        "IPY_MODEL_bfae0d7e07f64c1d959dab812c1f49bd",
        "IPY_MODEL_f45574d8becf451ab70f7cdec708b3dd"
       ],
       "layout": "IPY_MODEL_295a939922a94f53b0c6a4d1750a25ab"
      }
     },
     "9a9258dc066a4cbb9a86619300c5b40e": {
      "model_module": "@jupyter-widgets/controls",
      "model_module_version": "1.5.0",
      "model_name": "DescriptionStyleModel",
      "state": {
       "description_width": ""
      }
     },
     "9ad899d9dd31401c82edabcabda19251": {
      "model_module": "@jupyter-widgets/base",
      "model_module_version": "1.2.0",
      "model_name": "LayoutModel",
      "state": {}
     },
     "9b2834215ff14f17ab5c2c44d1664628": {
      "model_module": "@jupyter-widgets/base",
      "model_module_version": "1.2.0",
      "model_name": "LayoutModel",
      "state": {}
     },
     "9b7ef5c409274f57bcc875d61cb22366": {
      "model_module": "@jupyter-widgets/controls",
      "model_module_version": "1.5.0",
      "model_name": "VBoxModel",
      "state": {
       "children": [
        "IPY_MODEL_4aba720a1c6b4227bfda18f0bbe24770",
        "IPY_MODEL_d50cfcf0f2824076b7872f7cc29c10b9"
       ],
       "layout": "IPY_MODEL_d4c005ef967a42a59d4d2068e057db30"
      }
     },
     "9bd89d3daee040a4b230196de923e7d1": {
      "model_module": "@jupyter-widgets/controls",
      "model_module_version": "1.5.0",
      "model_name": "HBoxModel",
      "state": {
       "children": [
        "IPY_MODEL_b397acb1534d454ea94a0e759aa50dbb",
        "IPY_MODEL_e534e0bc5b154516bcbdefc9236fe4fe",
        "IPY_MODEL_b1c5715a96644771bb75328d9178de42"
       ],
       "layout": "IPY_MODEL_67b97ea0416d4e05b797c2a34a3f5050"
      }
     },
     "9be924d7637f4bea9bb97d76b3a67a74": {
      "model_module": "@jupyter-widgets/controls",
      "model_module_version": "1.5.0",
      "model_name": "DropdownModel",
      "state": {
       "_options_labels": [
        "",
        "--- Channels ---",
        "Airborne_Gxx",
        "Airborne_Gxy",
        "Airborne_Gxz",
        "Airborne_Gyy",
        "Airborne_Gyz",
        "Airborne_Gz",
        "Airborne_Gzz",
        "Airborne_TMI",
        "Ground_Gz",
        "Z"
       ],
       "description": "Channel <=> Data:",
       "index": 11,
       "layout": "IPY_MODEL_9ad899d9dd31401c82edabcabda19251",
       "style": "IPY_MODEL_c016586393c74c9cafc2b9910885e236"
      }
     },
     "9c3345fa81b24aada82ae14d6c3b84da": {
      "model_module": "@jupyter-widgets/base",
      "model_module_version": "1.2.0",
      "model_name": "LayoutModel",
      "state": {}
     },
     "9c61c68b620d4565aabc1433762325e4": {
      "model_module": "@jupyter-widgets/controls",
      "model_module_version": "1.5.0",
      "model_name": "TextModel",
      "state": {
       "description": "byy",
       "layout": "IPY_MODEL_ce323bfb629b4af3b701b313d4dc4a3e",
       "style": "IPY_MODEL_43f6ae261e634c3e9b73fbdf502a5cfb"
      }
     },
     "9c7c02d8149447ecb264c836177c1dd9": {
      "model_module": "@jupyter-widgets/base",
      "model_module_version": "1.2.0",
      "model_name": "LayoutModel",
      "state": {}
     },
     "9c7e5a6461c94bfcaddf2c51637e5b41": {
      "model_module": "@jupyter-widgets/controls",
      "model_module_version": "1.5.0",
      "model_name": "DescriptionStyleModel",
      "state": {
       "description_width": ""
      }
     },
     "9c92dd5b9fb24f7f909ddacd275af26a": {
      "model_module": "@jupyter-widgets/controls",
      "model_module_version": "1.5.0",
      "model_name": "FloatSliderModel",
      "state": {
       "continuous_update": false,
       "description": "Height",
       "layout": "IPY_MODEL_4414f77d866b4fe5a9740610c0c9fd7c",
       "max": 11351.865002485923,
       "orientation": "vertical",
       "step": 10,
       "style": "IPY_MODEL_d72fa429651148beb7ce95e9b26c28f4",
       "value": 1500
      }
     },
     "9ca69dc42e234d018804dfa191441755": {
      "model_module": "@jupyter-widgets/base",
      "model_module_version": "1.2.0",
      "model_name": "LayoutModel",
      "state": {
       "align_items": "center"
      }
     },
     "9d76a25818e844468af0082a40ea6d43": {
      "model_module": "@jupyter-widgets/controls",
      "model_module_version": "1.5.0",
      "model_name": "DescriptionStyleModel",
      "state": {
       "description_width": ""
      }
     },
     "9db89b7068764396a73296ed4e21434c": {
      "model_module": "@jupyter-widgets/controls",
      "model_module_version": "1.5.0",
      "model_name": "DescriptionStyleModel",
      "state": {
       "description_width": "initial"
      }
     },
     "9de0ae1bab5c4218860db76814e6d90b": {
      "model_module": "@jupyter-widgets/controls",
      "model_module_version": "1.5.0",
      "model_name": "DescriptionStyleModel",
      "state": {
       "description_width": "initial"
      }
     },
     "9e989c46a0894c3490ac78ed040e6ee9": {
      "model_module": "@jupyter-widgets/controls",
      "model_module_version": "1.5.0",
      "model_name": "TextModel",
      "state": {
       "description": "Error (%, floor)",
       "layout": "IPY_MODEL_e1cd5bca784e437fbb4d921a11649b3a",
       "style": "IPY_MODEL_5837febe9582430ea6124f6344651ee7",
       "value": "0, 1"
      }
     },
     "9f10c8753e9a448f8db096943be86a66": {
      "model_module": "@jupyter-widgets/controls",
      "model_module_version": "1.5.0",
      "model_name": "HBoxModel",
      "state": {
       "children": [
        "IPY_MODEL_303f946ed5274554bec8d2de34c6f420",
        "IPY_MODEL_fb53fea8c1a94bcfaf46be75829ec495",
        "IPY_MODEL_9f669ad686974e35bae99df628fdeae8"
       ],
       "layout": "IPY_MODEL_a5ac6999c83f4e09a35eb1a67419ee3f"
      }
     },
     "9f2d4e5cf4c642ae83fca87381b83810": {
      "model_module": "@jupyter-widgets/base",
      "model_module_version": "1.2.0",
      "model_name": "LayoutModel",
      "state": {
       "width": "auto"
      }
     },
     "9f39c7a8c9ca4cf68ee2f842b439e514": {
      "model_module": "@jupyter-widgets/base",
      "model_module_version": "1.2.0",
      "model_name": "LayoutModel",
      "state": {}
     },
     "9f669ad686974e35bae99df628fdeae8": {
      "model_module": "@jupyter-widgets/controls",
      "model_module_version": "1.5.0",
      "model_name": "HTMLModel",
      "state": {
       "layout": "IPY_MODEL_914dcaf845ec49c793747748e67614f8",
       "placeholder": "",
       "style": "IPY_MODEL_c053d18c7b04465790c938ad9f12e9de",
       "value": "<span style=\"margin-left:10px; color:black;\">No file selected</span>"
      }
     },
     "9f6d24458ef740b19efbb31a693dfb17": {
      "model_module": "@jupyter-widgets/controls",
      "model_module_version": "1.5.0",
      "model_name": "ButtonStyleModel",
      "state": {}
     },
     "9f6fe3e1331641a4a4ae149df88d7d3b": {
      "model_module": "@jupyter-widgets/controls",
      "model_module_version": "1.5.0",
      "model_name": "SliderStyleModel",
      "state": {
       "description_width": ""
      }
     },
     "9f8bcc16c9464543af63537a37c212bf": {
      "model_module": "@jupyter-widgets/controls",
      "model_module_version": "1.5.0",
      "model_name": "ButtonStyleModel",
      "state": {}
     },
     "9ff5eacb431e48e49a96422a347e02f4": {
      "model_module": "@jupyter-widgets/controls",
      "model_module_version": "1.5.0",
      "model_name": "DescriptionStyleModel",
      "state": {
       "description_width": ""
      }
     },
     "a0092c490e1f4141a23f3c1562241b2a": {
      "model_module": "@jupyter-widgets/controls",
      "model_module_version": "1.5.0",
      "model_name": "DescriptionStyleModel",
      "state": {
       "description_width": "initial"
      }
     },
     "a026ac448202431c8db8093353e15731": {
      "model_module": "@jupyter-widgets/controls",
      "model_module_version": "1.5.0",
      "model_name": "ButtonModel",
      "state": {
       "description": "Cancel",
       "layout": "IPY_MODEL_7ae05aa808304b21899a44b279055e00",
       "style": "IPY_MODEL_a1cf16983b44455f96299971f06caeb0"
      }
     },
     "a02ac654b54c4f9190155d77aed5941e": {
      "model_module": "@jupyter-widgets/controls",
      "model_module_version": "1.5.0",
      "model_name": "FloatTextModel",
      "state": {
       "description": "Max triangulation length",
       "layout": "IPY_MODEL_3b7fb40190e8421f84bffdbf75fe352d",
       "step": null,
       "style": "IPY_MODEL_295f0649646c45d8b49a37a10beec4ce",
       "value": 1000
      }
     },
     "a03b3a4f24db428491c9033aa205bcfe": {
      "model_module": "@jupyter-widgets/controls",
      "model_module_version": "1.5.0",
      "model_name": "DescriptionStyleModel",
      "state": {
       "description_width": ""
      }
     },
     "a0c6b879982548c0ad6cf54cff790d1a": {
      "model_module": "@jupyter-widgets/base",
      "model_module_version": "1.2.0",
      "model_name": "LayoutModel",
      "state": {}
     },
     "a0deda55ecb64fbfacc207330bddee11": {
      "model_module": "@jupyter-widgets/controls",
      "model_module_version": "1.5.0",
      "model_name": "DescriptionStyleModel",
      "state": {
       "description_width": ""
      }
     },
     "a1357169cc544681a9099176d1c55753": {
      "model_module": "@jupyter-widgets/controls",
      "model_module_version": "1.5.0",
      "model_name": "DescriptionStyleModel",
      "state": {
       "description_width": "initial"
      }
     },
     "a19391936fa740d8a0fba1f2927c2138": {
      "model_module": "@jupyter-widgets/controls",
      "model_module_version": "1.5.0",
      "model_name": "LabelModel",
      "state": {
       "layout": "IPY_MODEL_a6b61cd1c132441d90bcffc0690eb884",
       "style": "IPY_MODEL_c41d0b64f8224d3f8093187937825169",
       "value": "Octree Mesh"
      }
     },
     "a1c6a752f4f543b892695709f6055301": {
      "model_module": "@jupyter-widgets/controls",
      "model_module_version": "1.5.0",
      "model_name": "ToggleButtonModel",
      "state": {
       "layout": "IPY_MODEL_ee96db45ccae44d392f8d23c5371a4a6",
       "style": "IPY_MODEL_cba4c806e68c4322b06b7158f3dffab4",
       "value": true
      }
     },
     "a1cf16983b44455f96299971f06caeb0": {
      "model_module": "@jupyter-widgets/controls",
      "model_module_version": "1.5.0",
      "model_name": "ButtonStyleModel",
      "state": {}
     },
     "a1eddc26df174bc38b07c86874f4dde9": {
      "model_module": "@jupyter-widgets/controls",
      "model_module_version": "1.5.0",
      "model_name": "DescriptionStyleModel",
      "state": {
       "description_width": ""
      }
     },
     "a255514035324706831972d293f7672c": {
      "model_module": "@jupyter-widgets/base",
      "model_module_version": "1.2.0",
      "model_name": "LayoutModel",
      "state": {
       "grid_area": "pathlist",
       "width": "auto"
      }
     },
     "a300edcfd2a046e3ba4cbe55c16f5eb1": {
      "model_module": "@jupyter-widgets/controls",
      "model_module_version": "1.5.0",
      "model_name": "FloatTextModel",
      "state": {
       "description": "Max triangulation length",
       "layout": "IPY_MODEL_660f566af62d4301a0b50389e20da2d7",
       "step": null,
       "style": "IPY_MODEL_9db89b7068764396a73296ed4e21434c",
       "value": 1000
      }
     },
     "a31bc608236448ecbe3e42c8119eb107": {
      "model_module": "@jupyter-widgets/base",
      "model_module_version": "1.2.0",
      "model_name": "LayoutModel",
      "state": {
       "visibility": "hidden"
      }
     },
     "a333f1004a64450eaa1e0199094230ed": {
      "model_module": "@jupyter-widgets/controls",
      "model_module_version": "1.5.0",
      "model_name": "ButtonModel",
      "state": {
       "description": "Cancel",
       "layout": "IPY_MODEL_7834dddae78441bfa1c7281d76438c47",
       "style": "IPY_MODEL_3f55b93b043247d5b04d416fcb9b9152"
      }
     },
     "a34d4fba03f04a0091a0b70db07ff029": {
      "model_module": "@jupyter-widgets/controls",
      "model_module_version": "1.5.0",
      "model_name": "DescriptionStyleModel",
      "state": {
       "description_width": ""
      }
     },
     "a36b502c29f445bf829dbdc9a39553a7": {
      "model_module": "@jupyter-widgets/controls",
      "model_module_version": "1.5.0",
      "model_name": "CheckboxModel",
      "state": {
       "description": "GA Pro - Live link",
       "disabled": false,
       "indent": false,
       "layout": "IPY_MODEL_561824b4a5134badb34361099859914a",
       "style": "IPY_MODEL_e4e5e6803e8d49b7a02339dc06ccd8b2",
       "value": false
      }
     },
     "a372ae2086f34172935c099cfc40887f": {
      "model_module": "@jupyter-widgets/controls",
      "model_module_version": "1.5.0",
      "model_name": "VBoxModel",
      "state": {
       "children": [
        "IPY_MODEL_18140c5ebb7d43e198941793142ef070",
        "IPY_MODEL_7415343dd38243ba8313193250047641",
        "IPY_MODEL_b858799956474b8fb46dbad98a715267"
       ],
       "layout": "IPY_MODEL_b2005ac3b1b641e1b15a9ef2e0e92e13"
      }
     },
     "a3d77c3dbd784c88ab8a8f37dff89c8c": {
      "model_module": "@jupyter-widgets/controls",
      "model_module_version": "1.5.0",
      "model_name": "HBoxModel",
      "state": {
       "children": [
        "IPY_MODEL_2a5510301e4847e98d4ccedef7e91e0a",
        "IPY_MODEL_6f45a0c24ab4485ca1435e70950ad63a",
        "IPY_MODEL_ad8ee944b76c4fd3862daba2c77475ae"
       ],
       "layout": "IPY_MODEL_d106f81c6346450cb4f32636afdbf5e8"
      }
     },
     "a3edbc60316b4ba0ada4a586210e7b9d": {
      "model_module": "@jupyter-widgets/controls",
      "model_module_version": "1.5.0",
      "model_name": "DescriptionStyleModel",
      "state": {
       "description_width": "initial"
      }
     },
     "a3f82832e673442694991fa30c24d872": {
      "model_module": "@jupyter-widgets/base",
      "model_module_version": "1.2.0",
      "model_name": "LayoutModel",
      "state": {}
     },
     "a417c2acb6f14a2eb42dbbce4dd4be98": {
      "model_module": "@jupyter-widgets/controls",
      "model_module_version": "1.5.0",
      "model_name": "ToggleButtonModel",
      "state": {
       "description": "Zoom on selection",
       "icon": "check",
       "layout": "IPY_MODEL_bdb6eaa0a7df4d0e970f065ad9e60c05",
       "style": "IPY_MODEL_784a2b5e7186406f90026a8f271e37e4",
       "value": true
      }
     },
     "a45a8c10a0da4b71bb4a1913d6531477": {
      "model_module": "@jupyter-widgets/controls",
      "model_module_version": "1.5.0",
      "model_name": "DescriptionStyleModel",
      "state": {
       "description_width": ""
      }
     },
     "a469b31d5bb340ca9cc51d03ab8aebf4": {
      "model_module": "@jupyter-widgets/controls",
      "model_module_version": "1.5.0",
      "model_name": "DescriptionStyleModel",
      "state": {
       "description_width": ""
      }
     },
     "a4981bc2452c4bfd90f1929061ae0f68": {
      "model_module": "@jupyter-widgets/base",
      "model_module_version": "1.2.0",
      "model_name": "LayoutModel",
      "state": {
       "display": "none",
       "grid_gap": "0px 0px",
       "grid_template_areas": "\n                    'pathlist filename'\n                    'dircontent dircontent'\n                    ",
       "grid_template_columns": "60% 40%",
       "grid_template_rows": "auto auto",
       "width": "500px"
      }
     },
     "a50c964a74284205a4ee3972e17e1dda": {
      "model_module": "@jupyter-widgets/controls",
      "model_module_version": "1.5.0",
      "model_name": "FloatTextModel",
      "state": {
       "description": "Max RAM (Gb)",
       "layout": "IPY_MODEL_c226100161954256a2f5aee3b7b65a96",
       "step": null,
       "style": "IPY_MODEL_b4eb1598af144c3490379e53e95a926a",
       "value": 2
      }
     },
     "a525a9f46c2b4737880df30964bcf10d": {
      "model_module": "@jupyter-widgets/controls",
      "model_module_version": "1.5.0",
      "model_name": "VBoxModel",
      "state": {
       "children": [
        "IPY_MODEL_7a33bbbef35f4afdb9b004af534e5051",
        "IPY_MODEL_abd27a6a0e5642f6bfd4a2110b337567"
       ],
       "layout": "IPY_MODEL_3ae023ebc01d4ff1b1a758573af611ce"
      }
     },
     "a54a0470b8544960af0e48c0b51b22e4": {
      "model_module": "@jupyter-widgets/controls",
      "model_module_version": "1.5.0",
      "model_name": "VBoxModel",
      "state": {
       "children": [
        "IPY_MODEL_41c7ce6f18b34dda82846d10581d6dcd",
        "IPY_MODEL_8188f840128b4864b0ac6560be37dfc0"
       ],
       "layout": "IPY_MODEL_f2dcd107eaf340e4a26c3f43ed8f7423"
      }
     },
     "a56983deca2c42f9b4ebe6c1b6bf2ebb": {
      "model_module": "@jupyter-widgets/controls",
      "model_module_version": "1.5.0",
      "model_name": "TextModel",
      "state": {
       "layout": "IPY_MODEL_8ef5403dab894d1f8997d18e10e1964c",
       "placeholder": "output filename",
       "style": "IPY_MODEL_5f60ab19f1a84408b393e3bf41c4fd7b",
       "value": "FlinFlon.geoh5"
      }
     },
     "a5930b60f92847b0b67e3374550df870": {
      "model_module": "@jupyter-widgets/controls",
      "model_module_version": "1.5.0",
      "model_name": "LabelModel",
      "state": {
       "layout": "IPY_MODEL_9399d3ac29184a77b583346db40a9226",
       "style": "IPY_MODEL_24984e99c3124b378647e8c72996267b",
       "value": "Monitoring folder"
      }
     },
     "a5963e6adf294fbc9ccb715c1deb8d85": {
      "model_module": "@jupyter-widgets/base",
      "model_module_version": "1.2.0",
      "model_name": "LayoutModel",
      "state": {}
     },
     "a5993bdf0a9847d6b8e0a5606ae991bb": {
      "model_module": "@jupyter-widgets/controls",
      "model_module_version": "1.5.0",
      "model_name": "DescriptionStyleModel",
      "state": {
       "description_width": ""
      }
     },
     "a5ac6999c83f4e09a35eb1a67419ee3f": {
      "model_module": "@jupyter-widgets/base",
      "model_module_version": "1.2.0",
      "model_name": "LayoutModel",
      "state": {
       "width": "auto"
      }
     },
     "a5e3a609b67b4079a2d8e9ac8655d385": {
      "model_module": "@jupyter-widgets/controls",
      "model_module_version": "1.5.0",
      "model_name": "VBoxModel",
      "state": {
       "children": [
        "IPY_MODEL_925aec604dd3467ba7b83ca6d40cd25e",
        "IPY_MODEL_457ac9ae2de540bdadb9bc7f41babc86"
       ],
       "layout": "IPY_MODEL_ee02a52f7ec146e6a40c0a708d410d3a"
      }
     },
     "a6a52c2ce94748f6a51204c682a1ceb3": {
      "model_module": "@jupyter-widgets/base",
      "model_module_version": "1.2.0",
      "model_name": "LayoutModel",
      "state": {
       "grid_area": "dircontent",
       "width": "auto"
      }
     },
     "a6b61cd1c132441d90bcffc0690eb884": {
      "model_module": "@jupyter-widgets/base",
      "model_module_version": "1.2.0",
      "model_name": "LayoutModel",
      "state": {}
     },
     "a6cd3f3dd86947b8af7dd5c373fa7502": {
      "model_module": "@jupyter-widgets/base",
      "model_module_version": "1.2.0",
      "model_name": "LayoutModel",
      "state": {
       "grid_area": "dircontent",
       "width": "auto"
      }
     },
     "a715d936a3ba464394d4ccbb9b7e7528": {
      "model_module": "@jupyter-widgets/controls",
      "model_module_version": "1.5.0",
      "model_name": "LabelModel",
      "state": {
       "layout": "IPY_MODEL_cab23e14e4844f6f9f4020caf9f9c3bb",
       "style": "IPY_MODEL_88b644e42da449e18df09cbad860da51",
       "value": "Workspace"
      }
     },
     "a71e241dca54433396812f37f38dc6db": {
      "model_module": "@jupyter-widgets/controls",
      "model_module_version": "1.5.0",
      "model_name": "DescriptionStyleModel",
      "state": {
       "description_width": "initial"
      }
     },
     "a755eddad0664a548437b720320c6a86": {
      "model_module": "@jupyter-widgets/base",
      "model_module_version": "1.2.0",
      "model_name": "LayoutModel",
      "state": {}
     },
     "a7a72259dfc84dcfbf0879e600a24600": {
      "model_module": "@jupyter-widgets/controls",
      "model_module_version": "1.5.0",
      "model_name": "HBoxModel",
      "state": {
       "children": [
        "IPY_MODEL_2c7cb61472f8462fb617eef053e48cb3",
        "IPY_MODEL_329e3f7590884e14a0ee6472c0134d60",
        "IPY_MODEL_f86b79f9d445423cb5e627fb4582d8d2"
       ],
       "layout": "IPY_MODEL_0d13e921ed154c3d9967521c7df2b76b"
      }
     },
     "a81060c0c97242eebcfe0a03bab5af86": {
      "model_module": "@jupyter-widgets/base",
      "model_module_version": "1.2.0",
      "model_name": "LayoutModel",
      "state": {}
     },
     "a83beff3bba4413b8fbad2325a53797b": {
      "model_module": "@jupyter-widgets/base",
      "model_module_version": "1.2.0",
      "model_name": "LayoutModel",
      "state": {}
     },
     "a892ec70a7624a23860cc30f5d83e207": {
      "model_module": "@jupyter-widgets/controls",
      "model_module_version": "1.5.0",
      "model_name": "DescriptionStyleModel",
      "state": {
       "description_width": ""
      }
     },
     "a8a3abd85b54487883e55946ff725e3f": {
      "model_module": "@jupyter-widgets/controls",
      "model_module_version": "1.5.0",
      "model_name": "VBoxModel",
      "state": {
       "children": [
        "IPY_MODEL_465b3bf3f70b456889253e82a59049fb",
        "IPY_MODEL_92530041c43e4663bbefbae849efb115",
        "IPY_MODEL_a3d77c3dbd784c88ab8a8f37dff89c8c"
       ],
       "layout": "IPY_MODEL_d93667433cca4311bd851868ce7776cc"
      }
     },
     "a8d74a8875424d198a07f0b5903d4c45": {
      "model_module": "@jupyter-widgets/base",
      "model_module_version": "1.2.0",
      "model_name": "LayoutModel",
      "state": {
       "display": "none",
       "width": "auto"
      }
     },
     "a92a567bce754601b38c72a2d52fb3f1": {
      "model_module": "@jupyter-widgets/controls",
      "model_module_version": "1.5.0",
      "model_name": "ButtonStyleModel",
      "state": {}
     },
     "a9cae119c0fb442889ea0da099172d3d": {
      "model_module": "@jupyter-widgets/controls",
      "model_module_version": "1.5.0",
      "model_name": "RadioButtonsModel",
      "state": {
       "_options_labels": [
        "None",
        "Model",
        "Value"
       ],
       "index": 0,
       "layout": "IPY_MODEL_5f11e9b2a447498baa64fdf8cbc3c9e0",
       "style": "IPY_MODEL_faf81aa22d874b93aad9ba49d134beac"
      }
     },
     "aa1d09cc05c24242a3de2b6cf5a04bee": {
      "model_module": "@jupyter-widgets/base",
      "model_module_version": "1.2.0",
      "model_name": "LayoutModel",
      "state": {}
     },
     "aa6d35a8d6a944c793f0ba16ed8bb451": {
      "model_module": "@jupyter-widgets/controls",
      "model_module_version": "1.5.0",
      "model_name": "VBoxModel",
      "state": {
       "children": [
        "IPY_MODEL_499e5fc8352e4750bcc32cf3cb4411b7",
        "IPY_MODEL_00ecc15a34534b33aea67718cc925166"
       ],
       "layout": "IPY_MODEL_82a1dc06e01a4af8b411054e13988105"
      }
     },
     "aa7198487aec4745aa211f5443ca9616": {
      "model_module": "@jupyter-widgets/controls",
      "model_module_version": "1.5.0",
      "model_name": "TextModel",
      "state": {
       "description": "Smallest cells",
       "layout": "IPY_MODEL_01cacd5cf0b24332a9b16a9f6479dcf5",
       "style": "IPY_MODEL_d8c825d13b03427bbcb4869b826be8bf",
       "value": "25, 25, 25"
      }
     },
     "aa931c098caa4eb79760c63112675bf9": {
      "model_module": "@jupyter-widgets/controls",
      "model_module_version": "1.5.0",
      "model_name": "DescriptionStyleModel",
      "state": {
       "description_width": ""
      }
     },
     "aa9e6111eacf4e04ad1e84f3ac417465": {
      "model_module": "@jupyter-widgets/controls",
      "model_module_version": "1.5.0",
      "model_name": "ButtonModel",
      "state": {
       "description": "Cancel",
       "layout": "IPY_MODEL_2a80b2fffc81492da51da61f53cd342b",
       "style": "IPY_MODEL_8fe405b928ec425d9c7bd2136062e8b2"
      }
     },
     "ab204151687a4a7f9e0702aee0de37a3": {
      "model_module": "@jupyter-widgets/controls",
      "model_module_version": "1.5.0",
      "model_name": "FloatTextModel",
      "state": {
       "description": "Elevation (m)",
       "layout": "IPY_MODEL_4494ed3da2454fabb355b9beb1c4980f",
       "step": null,
       "style": "IPY_MODEL_29b97a6729304e2ca6c5e5a2a3fd9949"
      }
     },
     "ab2093fb6f834115a6773d843cd38011": {
      "model_module": "@jupyter-widgets/controls",
      "model_module_version": "1.5.0",
      "model_name": "LabelModel",
      "state": {
       "layout": "IPY_MODEL_3132ee1ab28c4b39b1105b91aef462f9",
       "style": "IPY_MODEL_f8632923f35945caa0049f80ebc7e493",
       "value": "Monitoring folder"
      }
     },
     "ab47085635fe47d49a4bdf96e1234696": {
      "model_module": "@jupyter-widgets/controls",
      "model_module_version": "1.5.0",
      "model_name": "TextModel",
      "state": {
       "layout": "IPY_MODEL_78d1b12f09b94e40adcae6b679b7e5c9",
       "placeholder": "output filename",
       "style": "IPY_MODEL_8748befcc8d44064871c478fd9dc11db"
      }
     },
     "abd27a6a0e5642f6bfd4a2110b337567": {
      "model_module": "@jupyter-widgets/controls",
      "model_module_version": "1.5.0",
      "model_name": "FloatTextModel",
      "state": {
       "description": "SI",
       "layout": "IPY_MODEL_1e9049d674fe460396d8999280b59c72",
       "step": null,
       "style": "IPY_MODEL_26cd9e92cf0044c9ab9cc7b73947c0de"
      }
     },
     "ac02953d58d34170b6a65057b49f0d34": {
      "model_module": "@jupyter-widgets/controls",
      "model_module_version": "1.5.0",
      "model_name": "TextModel",
      "state": {
       "continuous_update": false,
       "description": "Group:",
       "layout": "IPY_MODEL_0ca4645c0fb94b38aca25cfed1c4fccc",
       "style": "IPY_MODEL_332ece55b2d440c5b3fd3877cedc8afc"
      }
     },
     "ac2149199cc4469dae60c6a7ea777c48": {
      "model_module": "@jupyter-widgets/controls",
      "model_module_version": "1.5.0",
      "model_name": "VBoxModel",
      "state": {
       "children": [
        "IPY_MODEL_5ca5eeb7465d4da5a40d8cdf14b87aee",
        "IPY_MODEL_241ceae3a01d4bb9822aa1b45ff4bbf9",
        "IPY_MODEL_ecacd7a0012f4df6b50425e055e3a6db"
       ],
       "layout": "IPY_MODEL_5550014fb85e45579d59697ef5476444"
      }
     },
     "ac4d5bea977a430b8e0d3220b4f5743e": {
      "model_module": "@jupyter-widgets/controls",
      "model_module_version": "1.5.0",
      "model_name": "ButtonStyleModel",
      "state": {}
     },
     "ac620226b351480dbad5186f22903515": {
      "model_module": "@jupyter-widgets/base",
      "model_module_version": "1.2.0",
      "model_name": "LayoutModel",
      "state": {
       "width": "auto"
      }
     },
     "ac6b22662ca442a5b1834f818c157de2": {
      "model_module": "@jupyter-widgets/base",
      "model_module_version": "1.2.0",
      "model_name": "LayoutModel",
      "state": {
       "width": "auto"
      }
     },
     "ac6dcc32fb0f442f800222382e0fc5c9": {
      "model_module": "@jupyter-widgets/controls",
      "model_module_version": "1.5.0",
      "model_name": "VBoxModel",
      "state": {
       "children": [
        "IPY_MODEL_ec51ccf5901c42ea9dd383f091e8d2a1",
        "IPY_MODEL_ff62df12cf9942439bd05b0b2874a092"
       ],
       "layout": "IPY_MODEL_4fb65851001a43de9c74a644ce51714e"
      }
     },
     "ac8927cddabc4dbab8e38cf66f82fff7": {
      "model_module": "@jupyter-widgets/controls",
      "model_module_version": "1.5.0",
      "model_name": "DescriptionStyleModel",
      "state": {
       "description_width": ""
      }
     },
     "ac972b43d23b49f7be111d9533bc9b60": {
      "model_module": "@jupyter-widgets/base",
      "model_module_version": "1.2.0",
      "model_name": "LayoutModel",
      "state": {}
     },
     "acb8565a41124c75be86f6995d4020cd": {
      "model_module": "@jupyter-widgets/controls",
      "model_module_version": "1.5.0",
      "model_name": "FloatTextModel",
      "state": {
       "description": "phi_d/phi_m",
       "layout": "IPY_MODEL_17672a6a254f454895914e7b07f6429e",
       "step": null,
       "style": "IPY_MODEL_3e143846de954cd99445f77aeabaab27",
       "value": 100
      }
     },
     "acebf1cd02c84ffd93abe2e868641d31": {
      "model_module": "@jupyter-widgets/controls",
      "model_module_version": "1.5.0",
      "model_name": "DescriptionStyleModel",
      "state": {
       "description_width": "initial"
      }
     },
     "ad2251a816034d558ae825df0532e8f8": {
      "model_module": "@jupyter-widgets/controls",
      "model_module_version": "1.5.0",
      "model_name": "DescriptionStyleModel",
      "state": {
       "description_width": ""
      }
     },
     "ad6a9615f92041f78f0cc1a0d237a0de": {
      "model_module": "@jupyter-widgets/base",
      "model_module_version": "1.2.0",
      "model_name": "LayoutModel",
      "state": {
       "display": "none",
       "grid_gap": "0px 0px",
       "grid_template_areas": "\n                    'pathlist filename'\n                    'dircontent dircontent'\n                    ",
       "grid_template_columns": "60% 40%",
       "grid_template_rows": "auto auto",
       "width": "500px"
      }
     },
     "ad8ee944b76c4fd3862daba2c77475ae": {
      "model_module": "@jupyter-widgets/controls",
      "model_module_version": "1.5.0",
      "model_name": "HTMLModel",
      "state": {
       "layout": "IPY_MODEL_7a40adb91bdf4ba4b1cb75f4f28ce0a9",
       "placeholder": "",
       "style": "IPY_MODEL_dd008d7f70bc415988eb5cbfab800b36",
       "value": "<span style=\"margin-left:10px; color:black;\">No file selected</span>"
      }
     },
     "adc1772e144b44608fcf1c8262bf5371": {
      "model_module": "@jupyter-widgets/controls",
      "model_module_version": "1.5.0",
      "model_name": "VBoxModel",
      "state": {
       "children": [
        "IPY_MODEL_97e2072803cd4b09aff45fcceeacf1ad",
        "IPY_MODEL_d185828b03564f5190f97c3baa4df713"
       ],
       "layout": "IPY_MODEL_02b5bab9c4df4126a7d873974d0529fe"
      }
     },
     "ae24dc6a8a0645969e9f5b6c6f6187ad": {
      "model_module": "@jupyter-widgets/controls",
      "model_module_version": "1.5.0",
      "model_name": "DescriptionStyleModel",
      "state": {
       "description_width": ""
      }
     },
     "ae313fcee5154a81b315b87d0e15c208": {
      "model_module": "@jupyter-widgets/base",
      "model_module_version": "1.2.0",
      "model_name": "LayoutModel",
      "state": {}
     },
     "ae46cbd9db56410e94c517ab14188c15": {
      "model_module": "@jupyter-widgets/base",
      "model_module_version": "1.2.0",
      "model_name": "LayoutModel",
      "state": {}
     },
     "ae5998073a0e44a88d37fe1f3bbe9a36": {
      "model_module": "@jupyter-widgets/controls",
      "model_module_version": "1.5.0",
      "model_name": "DescriptionStyleModel",
      "state": {
       "description_width": ""
      }
     },
     "af12d3ff40de4ba7a94148d07c489efd": {
      "model_module": "@jupyter-widgets/base",
      "model_module_version": "1.2.0",
      "model_name": "LayoutModel",
      "state": {}
     },
     "af19ea0acc414fe2bcdf1046936fd406": {
      "model_module": "@jupyter-widgets/base",
      "model_module_version": "1.2.0",
      "model_name": "LayoutModel",
      "state": {}
     },
     "af6eeac674314302944f5f3bdfa898cc": {
      "model_module": "@jupyter-widgets/base",
      "model_module_version": "1.2.0",
      "model_name": "LayoutModel",
      "state": {}
     },
     "af8ab7ff994c4dbb918379e571ac826b": {
      "model_module": "@jupyter-widgets/base",
      "model_module_version": "1.2.0",
      "model_name": "LayoutModel",
      "state": {}
     },
     "afbf4a3036254de48dcecc7d9b734885": {
      "model_module": "@jupyter-widgets/controls",
      "model_module_version": "1.5.0",
      "model_name": "DropdownModel",
      "state": {
       "_options_labels": [
        "C:\\Users\\dominiquef\\Documents\\GIT\\mira\\mirageoscience-apps\\docs\\content\\applications",
        "C:\\Users\\dominiquef\\Documents\\GIT\\mira\\mirageoscience-apps\\docs\\content",
        "C:\\Users\\dominiquef\\Documents\\GIT\\mira\\mirageoscience-apps\\docs",
        "C:\\Users\\dominiquef\\Documents\\GIT\\mira\\mirageoscience-apps",
        "C:\\Users\\dominiquef\\Documents\\GIT\\mira",
        "C:\\Users\\dominiquef\\Documents\\GIT",
        "C:\\Users\\dominiquef\\Documents",
        "C:\\Users\\dominiquef",
        "C:\\Users",
        "C:\\",
        "D:\\",
        "Z:\\"
       ],
       "index": 0,
       "layout": "IPY_MODEL_8b32d2c360f34622bfeb7ee072243f8e",
       "style": "IPY_MODEL_1d6e90899943497d8831e743397d101f"
      }
     },
     "b07e822b34bf42c3a4cebde1f9d1a3f6": {
      "model_module": "@jupyter-widgets/controls",
      "model_module_version": "1.5.0",
      "model_name": "DropdownModel",
      "state": {
       "description": "Values",
       "index": null,
       "layout": "IPY_MODEL_f0d0bc71db0f452e96ac670256ca4024",
       "style": "IPY_MODEL_8520cf4a098640d399c7ffffb52bb0e4"
      }
     },
     "b08383aaf6944098bec8f6d05defbbba": {
      "model_module": "@jupyter-widgets/controls",
      "model_module_version": "1.5.0",
      "model_name": "ButtonStyleModel",
      "state": {}
     },
     "b09b4501237a4462ae0864a3fc088a89": {
      "model_module": "@jupyter-widgets/controls",
      "model_module_version": "1.5.0",
      "model_name": "DropdownModel",
      "state": {
       "_options_labels": [
        "",
        "Data_TEM_pseudo3DEPSG_4326",
        "Gravity_Magnetics_drape60mEPSG_4326",
        "Iso_Iteration_7_model_0.015",
        "Iso_Iteration_7_model_0.01",
        "Iso_Iteration_7_model_0.02",
        "Iso_Iteration_7_model_0.005",
        "Iso_Iteration_7_model_0.0025",
        "fault_splay1",
        "fault_Cliff_Lake",
        "fault_Other_FlinFlon",
        "fault_Club_Lake_splay",
        "fault_Catherine_splay2",
        "fault_Birch_View",
        "fault_Dion_Lake",
        "fault_FlinFlon_splay",
        "fault_West_Mandy_Road",
        "fault_Channing",
        "fault_Ross_Lake",
        "fault_Louis_Hidden",
        "fault_Lake_View_thrust",
        "contact_Schist_Lake",
        "fault_Burley_Lake",
        "fault_Dion_Lake_splay",
        "fault_Green_Lake",
        "fault_FlinFlon",
        "fault_Catherine_splay1",
        "fault_East_Mandy_Road",
        "fault_Other_FlinFlon_South",
        "fault_Catherine_splay4",
        "contact_Stitt_Island",
        "fault_Club_Lake",
        "fault_Tailing_Pond",
        "35_Hidden_Reservoir_Hr5",
        "29_Hidden_Reservoir_Hr1a",
        "60_BlueLagoon_Fb2",
        "20_FlinFlon_Undivided_Int_Dykes_D2f",
        "04_Boundary_Intrusive_S4h",
        "53_Millrock_Rhyolite_Fm4b",
        "19_FlinFlon_Undivided_Int_Dykes_D2b",
        "18_FlinFlon_Undivided_Int_Dykes_777_D2b",
        "06_Phantom_Lake_Intrusive_S3a",
        "21_FlinFlon_Undivided_Int_Dykes_D3a",
        "43_Millrock_CHLSH_South",
        "56_Millrock_Basalt_Fm1ba",
        "17_FlinFlon_Undivided_Int_Dykes_D2",
        "32_Hidden_Reservoir_Hr1b_SW",
        "11_Missi_M3_NE",
        "13_Missi_M1",
        "07_Annabel_Granitoid_S1",
        "45_Millrock_Gabbro_South",
        "01_Late_Intrusive_S5b",
        "31_Hidden_Reservoir_Hr1c_SW",
        "52_Millrock_Rhyolite_Fm4_West_check",
        "55_Millrock_Basalt_Fm1bf",
        "34_Hidden_Reservoir_Hr2b",
        "03_Boundary_Intrusive_S4b",
        "42_Millrock_CHLSH_North",
        "26_Louis_L3",
        "23_FlinFlon_Undivided_Int_Felsic_D4g",
        "30_Hidden_Reservoir_Hr1b",
        "59_BlueLagoon_Fb3",
        "49_Millrock_MVR_Fm5d",
        "44_Millrock_Gabbro_North",
        "27_Hidden_Carlisle_Hc4",
        "22_FlinFlon_Undivided_Int_Felsic_D4e",
        "02_Boundary_Intrusive_S4a",
        "61_BlueLagoon_Fb1_NW",
        "05_Boundary_Intrusive_S4g",
        "39_Ore_Callinan",
        "38_Ore_Dan_Owens",
        "40_Ore_FlinFlon",
        "Inversion_VTEM_Model",
        "Gravity_Magnetics_drape60m",
        "CDI_VTEM_model",
        "Data_FEM_pseudo3D",
        "O2O_Interp_25m",
        "geochem",
        "Inversion_DIGHEM_Model",
        "Topography",
        "Data_TEM_pseudo3D"
       ],
       "description": "Object:",
       "index": 0,
       "layout": "IPY_MODEL_083b4448cff94e35a1c2c2ddde05d9c6",
       "style": "IPY_MODEL_d2ccb36b42f74ede9f8b1d270bf66ad4"
      }
     },
     "b13076602ea54093a01e0588e04f1937": {
      "model_module": "@jupyter-widgets/controls",
      "model_module_version": "1.5.0",
      "model_name": "LabelModel",
      "state": {
       "layout": "IPY_MODEL_d4fa55c79944478ca8bad6b9f3f33ecc",
       "style": "IPY_MODEL_fdc0a9c517e94f45a9b0ac6b3e20d1c9",
       "value": "Monitoring folder"
      }
     },
     "b1353f4f86474acfb9097c6843b9f22a": {
      "model_module": "@jupyter-widgets/controls",
      "model_module_version": "1.5.0",
      "model_name": "CheckboxModel",
      "state": {
       "description": "Active",
       "disabled": false,
       "layout": "IPY_MODEL_9c7c02d8149447ecb264c836177c1dd9",
       "style": "IPY_MODEL_d9f20db7a3a7495f8d24c8eea11367cb",
       "value": false
      }
     },
     "b147f94a857a4e7285d78f5c83867ad2": {
      "model_module": "@jupyter-widgets/controls",
      "model_module_version": "1.5.0",
      "model_name": "HBoxModel",
      "state": {
       "children": [
        "IPY_MODEL_791a8122a8d14aac863ae6caca081086",
        "IPY_MODEL_9c92dd5b9fb24f7f909ddacd275af26a",
        "IPY_MODEL_37338cc20a34428492ee5125b384e438"
       ],
       "layout": "IPY_MODEL_9ca69dc42e234d018804dfa191441755"
      }
     },
     "b1936034fd9043ab92a748e6e2dfef2b": {
      "model_module": "@jupyter-widgets/base",
      "model_module_version": "1.2.0",
      "model_name": "LayoutModel",
      "state": {
       "width": "auto"
      }
     },
     "b1c1dcdf4ca84cf7a3661f211e312a07": {
      "model_module": "@jupyter-widgets/controls",
      "model_module_version": "1.5.0",
      "model_name": "DescriptionStyleModel",
      "state": {
       "description_width": ""
      }
     },
     "b1c5715a96644771bb75328d9178de42": {
      "model_module": "@jupyter-widgets/controls",
      "model_module_version": "1.5.0",
      "model_name": "HTMLModel",
      "state": {
       "layout": "IPY_MODEL_0b8ea36fcdb44e1385850a0f865ad2d7",
       "placeholder": "",
       "style": "IPY_MODEL_a34d4fba03f04a0091a0b70db07ff029",
       "value": "<span style=\"margin-left:10px; color:green;\">C:\\Users\\dominiquef\\Documents\\GIT\\mira\\mirageoscience-apps\\assets\\</span>"
      }
     },
     "b2005ac3b1b641e1b15a9ef2e0e92e13": {
      "model_module": "@jupyter-widgets/base",
      "model_module_version": "1.2.0",
      "model_name": "LayoutModel",
      "state": {}
     },
     "b2307be7798a47d0a75d01030e96c9a0": {
      "model_module": "@jupyter-widgets/base",
      "model_module_version": "1.2.0",
      "model_name": "LayoutModel",
      "state": {}
     },
     "b245c35d3c8d4538bd370144f04c9652": {
      "model_module": "@jupyter-widgets/controls",
      "model_module_version": "1.5.0",
      "model_name": "HBoxModel",
      "state": {
       "children": [
        "IPY_MODEL_c9e8e605dc82497b91e2fae7ae4b01ee",
        "IPY_MODEL_fddcd78dff0d49af92211e010a734a74",
        "IPY_MODEL_f6a05c6a718345aba030fc3fea82a000"
       ],
       "layout": "IPY_MODEL_31517648be5f410da0791d07a9b38f58"
      }
     },
     "b251aeb6d6ad4de9b988b4b927c9be3e": {
      "model_module": "@jupyter-widgets/controls",
      "model_module_version": "1.5.0",
      "model_name": "VBoxModel",
      "state": {
       "children": [
        "IPY_MODEL_32d2dd7bad6743ab8f8c181efed4a59c",
        "IPY_MODEL_3879300a77f34ed295f2352f9ba0e088"
       ],
       "layout": "IPY_MODEL_9688ecdc57c741e9b42468a1a6bf3600"
      }
     },
     "b2608c81d6594e22bfcd4e6a51189199": {
      "model_module": "@jupyter-widgets/controls",
      "model_module_version": "1.5.0",
      "model_name": "DescriptionStyleModel",
      "state": {
       "description_width": ""
      }
     },
     "b26803b63ecf4ee6a8a0010f42b20fae": {
      "model_module": "@jupyter-widgets/output",
      "model_module_version": "1.0.0",
      "model_name": "OutputModel",
      "state": {
       "layout": "IPY_MODEL_054841de9e554bf99fcd0f0dfbd89c80",
       "outputs": [
        {
         "data": {
          "image/png": "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\n",
          "text/plain": "<Figure size 720x720 with 1 Axes>"
         },
         "metadata": {
          "needs_background": "light"
         },
         "output_type": "display_data"
        }
       ]
      }
     },
     "b2a3fc562e864c8ca27359e5d02c4ecd": {
      "model_module": "@jupyter-widgets/base",
      "model_module_version": "1.2.0",
      "model_name": "LayoutModel",
      "state": {
       "display": "none",
       "grid_area": "filename",
       "width": "auto"
      }
     },
     "b2da21e89f094ed499b9c83852cff65e": {
      "model_module": "@jupyter-widgets/controls",
      "model_module_version": "1.5.0",
      "model_name": "LabelModel",
      "state": {
       "layout": "IPY_MODEL_8d6170ddfc6c47a6a92332725e227619",
       "style": "IPY_MODEL_3dc253b3db3f46f1815c7f4a40f45107",
       "value": "Workspace"
      }
     },
     "b2fe569db2e04bb09f5f3a6c620698c7": {
      "model_module": "@jupyter-widgets/controls",
      "model_module_version": "1.5.0",
      "model_name": "HTMLModel",
      "state": {
       "layout": "IPY_MODEL_bd9bf60b62b840ec9c9993635e3ceeaa",
       "placeholder": "",
       "style": "IPY_MODEL_7d43a0f35a8042fea51614591df91ec3",
       "value": "<span style=\"margin-left:10px; color:black;\">No file selected</span>"
      }
     },
     "b321c7c70d4a429f99b6c07abdea7174": {
      "model_module": "@jupyter-widgets/controls",
      "model_module_version": "1.5.0",
      "model_name": "TextModel",
      "state": {
       "layout": "IPY_MODEL_fe368b55945c4ad199a917c4c6947aee",
       "placeholder": "output filename",
       "style": "IPY_MODEL_ebdda7cd0b014bc6bba2ba0a4518f16a"
      }
     },
     "b392cd5a872f448aa093561badfcd286": {
      "model_module": "@jupyter-widgets/controls",
      "model_module_version": "1.5.0",
      "model_name": "TextModel",
      "state": {
       "continuous_update": false,
       "description": "Norms p_(s, x, y, z)",
       "layout": "IPY_MODEL_ebb930df7b9646fbac23748f22970ed3",
       "style": "IPY_MODEL_ea52d1d971ac47a9b4ffc3b12c7d083b",
       "value": "0, 2, 2, 2"
      }
     },
     "b397acb1534d454ea94a0e759aa50dbb": {
      "model_module": "@jupyter-widgets/controls",
      "model_module_version": "1.5.0",
      "model_name": "ButtonModel",
      "state": {
       "description": "Change",
       "layout": "IPY_MODEL_253017c63711467e8406c5a8db44ad9f",
       "style": "IPY_MODEL_a92a567bce754601b38c72a2d52fb3f1"
      }
     },
     "b39ea5f3f024488b9bd395b11b8937fa": {
      "model_module": "@jupyter-widgets/base",
      "model_module_version": "1.2.0",
      "model_name": "LayoutModel",
      "state": {
       "visibility": "hidden"
      }
     },
     "b4ada5b207f44d209d707f986237cd8a": {
      "model_module": "@jupyter-widgets/controls",
      "model_module_version": "1.5.0",
      "model_name": "DescriptionStyleModel",
      "state": {
       "description_width": ""
      }
     },
     "b4eb1598af144c3490379e53e95a926a": {
      "model_module": "@jupyter-widgets/controls",
      "model_module_version": "1.5.0",
      "model_name": "DescriptionStyleModel",
      "state": {
       "description_width": ""
      }
     },
     "b506700f35b6464294efc2aec831816b": {
      "model_module": "@jupyter-widgets/controls",
      "model_module_version": "1.5.0",
      "model_name": "HTMLModel",
      "state": {
       "layout": "IPY_MODEL_6011bbea1840449c9d7de954fc5a5283",
       "placeholder": "",
       "style": "IPY_MODEL_3c8f02e84624419b9723a29e3f3a8c6e",
       "value": "<span style=\"margin-left:10px; color:black;\">No file selected</span>"
      }
     },
     "b578b005d0df4601852bd8fdcae6659d": {
      "model_module": "@jupyter-widgets/controls",
      "model_module_version": "1.5.0",
      "model_name": "IntTextModel",
      "state": {
       "description": "Max beta Iterations",
       "layout": "IPY_MODEL_793606d415fd495581657c27d8d950d0",
       "step": 1,
       "style": "IPY_MODEL_20a43db676664679a4c01870475afb14",
       "value": 25
      }
     },
     "b590d1ca99dd4525abd5604cf177fde9": {
      "model_module": "@jupyter-widgets/controls",
      "model_module_version": "1.5.0",
      "model_name": "DescriptionStyleModel",
      "state": {
       "description_width": "initial"
      }
     },
     "b5f73aa5762c4e268b1ca4526ca096f9": {
      "model_module": "@jupyter-widgets/controls",
      "model_module_version": "1.5.0",
      "model_name": "DropdownModel",
      "state": {
       "_options_labels": [
        "",
        "Data_TEM_pseudo3DEPSG_4326",
        "Gravity_Magnetics_drape60mEPSG_4326",
        "Iso_Iteration_7_model_0.015",
        "Iso_Iteration_7_model_0.01",
        "Iso_Iteration_7_model_0.02",
        "Iso_Iteration_7_model_0.005",
        "Iso_Iteration_7_model_0.0025",
        "fault_splay1",
        "fault_Cliff_Lake",
        "fault_Other_FlinFlon",
        "fault_Club_Lake_splay",
        "fault_Catherine_splay2",
        "fault_Birch_View",
        "fault_Dion_Lake",
        "fault_FlinFlon_splay",
        "fault_West_Mandy_Road",
        "fault_Channing",
        "fault_Ross_Lake",
        "fault_Louis_Hidden",
        "fault_Lake_View_thrust",
        "contact_Schist_Lake",
        "fault_Burley_Lake",
        "fault_Dion_Lake_splay",
        "fault_Green_Lake",
        "fault_FlinFlon",
        "fault_Catherine_splay1",
        "fault_East_Mandy_Road",
        "fault_Other_FlinFlon_South",
        "fault_Catherine_splay4",
        "contact_Stitt_Island",
        "fault_Club_Lake",
        "fault_Tailing_Pond",
        "35_Hidden_Reservoir_Hr5",
        "29_Hidden_Reservoir_Hr1a",
        "60_BlueLagoon_Fb2",
        "20_FlinFlon_Undivided_Int_Dykes_D2f",
        "04_Boundary_Intrusive_S4h",
        "53_Millrock_Rhyolite_Fm4b",
        "19_FlinFlon_Undivided_Int_Dykes_D2b",
        "18_FlinFlon_Undivided_Int_Dykes_777_D2b",
        "06_Phantom_Lake_Intrusive_S3a",
        "21_FlinFlon_Undivided_Int_Dykes_D3a",
        "43_Millrock_CHLSH_South",
        "56_Millrock_Basalt_Fm1ba",
        "17_FlinFlon_Undivided_Int_Dykes_D2",
        "32_Hidden_Reservoir_Hr1b_SW",
        "11_Missi_M3_NE",
        "13_Missi_M1",
        "07_Annabel_Granitoid_S1",
        "45_Millrock_Gabbro_South",
        "01_Late_Intrusive_S5b",
        "31_Hidden_Reservoir_Hr1c_SW",
        "52_Millrock_Rhyolite_Fm4_West_check",
        "55_Millrock_Basalt_Fm1bf",
        "34_Hidden_Reservoir_Hr2b",
        "03_Boundary_Intrusive_S4b",
        "42_Millrock_CHLSH_North",
        "26_Louis_L3",
        "23_FlinFlon_Undivided_Int_Felsic_D4g",
        "30_Hidden_Reservoir_Hr1b",
        "59_BlueLagoon_Fb3",
        "49_Millrock_MVR_Fm5d",
        "44_Millrock_Gabbro_North",
        "27_Hidden_Carlisle_Hc4",
        "22_FlinFlon_Undivided_Int_Felsic_D4e",
        "02_Boundary_Intrusive_S4a",
        "61_BlueLagoon_Fb1_NW",
        "05_Boundary_Intrusive_S4g",
        "39_Ore_Callinan",
        "38_Ore_Dan_Owens",
        "40_Ore_FlinFlon",
        "Inversion_VTEM_Model",
        "Gravity_Magnetics_drape60m",
        "CDI_VTEM_model",
        "Data_FEM_pseudo3D",
        "O2O_Interp_25m",
        "geochem",
        "Inversion_DIGHEM_Model",
        "Topography",
        "Data_TEM_pseudo3D"
       ],
       "description": "Object:",
       "index": 73,
       "layout": "IPY_MODEL_96cac2a8ad484f45907a2d4dfd74dd28",
       "style": "IPY_MODEL_b590d1ca99dd4525abd5604cf177fde9"
      }
     },
     "b60dc0bbca184283a348592e8d23059b": {
      "model_module": "@jupyter-widgets/controls",
      "model_module_version": "1.5.0",
      "model_name": "VBoxModel",
      "state": {
       "children": [
        "IPY_MODEL_5e50b84872c9441d9b84c15546a669fd",
        "IPY_MODEL_e0a7f9f7a19146c49814ad7bc4e576cc"
       ],
       "layout": "IPY_MODEL_06d85f3ffe184c2d946bb13e6de4da16"
      }
     },
     "b62fc386832246079fd254882fda5d37": {
      "model_module": "@jupyter-widgets/base",
      "model_module_version": "1.2.0",
      "model_name": "LayoutModel",
      "state": {}
     },
     "b65cf557614f4971bf3a4ee20519e136": {
      "model_module": "@jupyter-widgets/controls",
      "model_module_version": "1.5.0",
      "model_name": "DescriptionStyleModel",
      "state": {
       "description_width": ""
      }
     },
     "b67545184507490b80b38a3cd9e31a79": {
      "model_module": "@jupyter-widgets/controls",
      "model_module_version": "1.5.0",
      "model_name": "DescriptionStyleModel",
      "state": {
       "description_width": "initial"
      }
     },
     "b69456c01bc041fa9dae2a701561125b": {
      "model_module": "@jupyter-widgets/controls",
      "model_module_version": "1.5.0",
      "model_name": "SelectMultipleModel",
      "state": {
       "_options_labels": [
        "",
        "--- Channels ---",
        "Airborne_Gxx",
        "Airborne_Gxy",
        "Airborne_Gxz",
        "Airborne_Gyy",
        "Airborne_Gyz",
        "Airborne_Gz",
        "Airborne_Gzz",
        "Airborne_TMI",
        "Ground_Gz",
        "Z"
       ],
       "description": "Data: ",
       "index": [
        9
       ],
       "layout": "IPY_MODEL_768ca00c54274c8b8f863189ec8f3456",
       "rows": 5,
       "style": "IPY_MODEL_3930add7f70744bb922bbeaefead2367"
      }
     },
     "b697abac9d234795a41c16614d92f030": {
      "model_module": "@jupyter-widgets/controls",
      "model_module_version": "1.5.0",
      "model_name": "HTMLModel",
      "state": {
       "layout": "IPY_MODEL_b827e7863ed24313bbf0a720e75eb72d",
       "style": "IPY_MODEL_066ecca4d1c1411bb2c98abd487e55ee"
      }
     },
     "b70e7816989a48c4b1f985dec718022c": {
      "model_module": "@jupyter-widgets/controls",
      "model_module_version": "1.5.0",
      "model_name": "TextModel",
      "state": {
       "continuous_update": false,
       "description": "Group:",
       "layout": "IPY_MODEL_13073d28310b4cffa0539a3b92342f63",
       "style": "IPY_MODEL_34840c53230d4acc9164914d9b3fadc8"
      }
     },
     "b7bb8101904e4816847c54754bbe7bea": {
      "model_module": "@jupyter-widgets/base",
      "model_module_version": "1.2.0",
      "model_name": "LayoutModel",
      "state": {
       "width": "auto"
      }
     },
     "b827e7863ed24313bbf0a720e75eb72d": {
      "model_module": "@jupyter-widgets/base",
      "model_module_version": "1.2.0",
      "model_name": "LayoutModel",
      "state": {
       "display": "none"
      }
     },
     "b84590680bbb4f60b3c2eec9c9151939": {
      "model_module": "@jupyter-widgets/controls",
      "model_module_version": "1.5.0",
      "model_name": "DescriptionStyleModel",
      "state": {
       "description_width": ""
      }
     },
     "b84f80888f634bcfaa5a894a80f1a252": {
      "model_module": "@jupyter-widgets/controls",
      "model_module_version": "1.5.0",
      "model_name": "DescriptionStyleModel",
      "state": {
       "description_width": "initial"
      }
     },
     "b858799956474b8fb46dbad98a715267": {
      "model_module": "@jupyter-widgets/controls",
      "model_module_version": "1.5.0",
      "model_name": "ToggleButtonModel",
      "state": {
       "button_style": "danger",
       "description": "Run SimPEG",
       "icon": "check",
       "layout": "IPY_MODEL_953441bc9433408d852259c2ac8edd6f",
       "style": "IPY_MODEL_0f5f7a2017db480e9360150a6faa3075"
      }
     },
     "b91029afe1564ae982dc28e08b9dabf4": {
      "model_module": "@jupyter-widgets/controls",
      "model_module_version": "1.5.0",
      "model_name": "SliderStyleModel",
      "state": {
       "description_width": ""
      }
     },
     "b92446fdff644014a62e75242938f5ab": {
      "model_module": "@jupyter-widgets/base",
      "model_module_version": "1.2.0",
      "model_name": "LayoutModel",
      "state": {}
     },
     "b98c5aaedc7640eba7c60b7856b3a2e0": {
      "model_module": "@jupyter-widgets/controls",
      "model_module_version": "1.5.0",
      "model_name": "DescriptionStyleModel",
      "state": {
       "description_width": "initial"
      }
     },
     "b9d80277dfa2426ebe020239a08821ba": {
      "model_module": "@jupyter-widgets/base",
      "model_module_version": "1.2.0",
      "model_name": "LayoutModel",
      "state": {}
     },
     "b9fed83164e645ac945b5d5a0ed7a395": {
      "model_module": "@jupyter-widgets/base",
      "model_module_version": "1.2.0",
      "model_name": "LayoutModel",
      "state": {
       "width": "auto"
      }
     },
     "ba49879af2c7484486f60d952b7fc41c": {
      "model_module": "@jupyter-widgets/controls",
      "model_module_version": "1.5.0",
      "model_name": "VBoxModel",
      "state": {
       "children": [
        "IPY_MODEL_e8dab143b7e74d08a444e4fdc2096821",
        "IPY_MODEL_7c77d1029402473eaed34d011396c5ba",
        "IPY_MODEL_f30cb6d1b7ad4a22a0fe6ee2086a8221",
        "IPY_MODEL_d77055086b184299a6614eebd3fcc726",
        "IPY_MODEL_59c25f7e2ff143c2b5cc31c4871727c2"
       ],
       "layout": "IPY_MODEL_3b42b269cb33441d9114b77d033e18a5"
      }
     },
     "bab676914f4446d7922261b03b657499": {
      "model_module": "@jupyter-widgets/controls",
      "model_module_version": "1.5.0",
      "model_name": "DescriptionStyleModel",
      "state": {
       "description_width": "initial"
      }
     },
     "baf5bb08cae94741b7a966cbc60b0a38": {
      "model_module": "@jupyter-widgets/base",
      "model_module_version": "1.2.0",
      "model_name": "LayoutModel",
      "state": {}
     },
     "bb102fdd73bf49b0a954c2be96c6642c": {
      "model_module": "@jupyter-widgets/base",
      "model_module_version": "1.2.0",
      "model_name": "LayoutModel",
      "state": {}
     },
     "bb944099dffb4a3e8f8bd2a521c210af": {
      "model_module": "@jupyter-widgets/controls",
      "model_module_version": "1.5.0",
      "model_name": "DescriptionStyleModel",
      "state": {
       "description_width": ""
      }
     },
     "bbc067c35d08417f98e1f148b683513d": {
      "model_module": "@jupyter-widgets/controls",
      "model_module_version": "1.5.0",
      "model_name": "ButtonStyleModel",
      "state": {}
     },
     "bbc1d4d51bea4583916e76c8d09414dd": {
      "model_module": "@jupyter-widgets/controls",
      "model_module_version": "1.5.0",
      "model_name": "DescriptionStyleModel",
      "state": {
       "description_width": ""
      }
     },
     "bbf07c2d07ad4cc5a66b182c8d86a8d3": {
      "model_module": "@jupyter-widgets/controls",
      "model_module_version": "1.5.0",
      "model_name": "ButtonModel",
      "state": {
       "description": "Select",
       "layout": "IPY_MODEL_ef4b135ec0e3488495e66e1c476e46b2",
       "style": "IPY_MODEL_93d0a72db82f479d8c036ae134f536dc"
      }
     },
     "bc48089926b0428a9aa6ffd81068bdd0": {
      "model_module": "@jupyter-widgets/controls",
      "model_module_version": "1.5.0",
      "model_name": "DescriptionStyleModel",
      "state": {
       "description_width": "initial"
      }
     },
     "bc5112e42f6147f2bf621af0fc768aeb": {
      "model_module": "@jupyter-widgets/controls",
      "model_module_version": "1.5.0",
      "model_name": "DropdownModel",
      "state": {
       "_options_labels": [
        "",
        "--- Channels ---",
        "Airborne_Gxx",
        "Airborne_Gxy",
        "Airborne_Gxz",
        "Airborne_Gyy",
        "Airborne_Gyz",
        "Airborne_Gz",
        "Airborne_Gzz",
        "Airborne_TMI",
        "Ground_Gz",
        "Z"
       ],
       "description": "Radar (Optional):",
       "index": 0,
       "layout": "IPY_MODEL_42d6e91c11904cc0a44bebbed755d9ca",
       "style": "IPY_MODEL_62931003de45417eae886dd167f320ba"
      }
     },
     "bc5ded4ea0a04b668b2e92cd2c5b21c1": {
      "model_module": "@jupyter-widgets/controls",
      "model_module_version": "1.5.0",
      "model_name": "ButtonStyleModel",
      "state": {}
     },
     "bccb1192e3034c43b8cdc9f483de884d": {
      "model_module": "@jupyter-widgets/controls",
      "model_module_version": "1.5.0",
      "model_name": "DescriptionStyleModel",
      "state": {
       "description_width": ""
      }
     },
     "bced32f254b04d57802c62c8666070cb": {
      "model_module": "@jupyter-widgets/controls",
      "model_module_version": "1.5.0",
      "model_name": "HBoxModel",
      "state": {
       "children": [
        "IPY_MODEL_ece5005b13954ae3ac271381a00ff893",
        "IPY_MODEL_d14253d008fb402dbe82d88c88fca407"
       ],
       "layout": "IPY_MODEL_4b0e49d0afb1431e961264aace6126bb"
      }
     },
     "bd040833b7724585a95e2871530d8cf4": {
      "model_module": "@jupyter-widgets/controls",
      "model_module_version": "1.5.0",
      "model_name": "DescriptionStyleModel",
      "state": {
       "description_width": ""
      }
     },
     "bd3e1fc1c3a1428697ed5dc42c1eb8cc": {
      "model_module": "@jupyter-widgets/base",
      "model_module_version": "1.2.0",
      "model_name": "LayoutModel",
      "state": {
       "grid_area": "pathlist",
       "width": "auto"
      }
     },
     "bd7924467c1c428bb653dbcf1223ca84": {
      "model_module": "@jupyter-widgets/controls",
      "model_module_version": "1.5.0",
      "model_name": "ButtonStyleModel",
      "state": {}
     },
     "bd921ee75fe84943b2c4e14e4cf8a005": {
      "model_module": "@jupyter-widgets/controls",
      "model_module_version": "1.5.0",
      "model_name": "DescriptionStyleModel",
      "state": {
       "description_width": "initial"
      }
     },
     "bd9bf60b62b840ec9c9993635e3ceeaa": {
      "model_module": "@jupyter-widgets/base",
      "model_module_version": "1.2.0",
      "model_name": "LayoutModel",
      "state": {}
     },
     "bdb4c481939846c9b91725451f16eb5d": {
      "model_module": "@jupyter-widgets/controls",
      "model_module_version": "1.5.0",
      "model_name": "DescriptionStyleModel",
      "state": {
       "description_width": ""
      }
     },
     "bdb6eaa0a7df4d0e970f065ad9e60c05": {
      "model_module": "@jupyter-widgets/base",
      "model_module_version": "1.2.0",
      "model_name": "LayoutModel",
      "state": {}
     },
     "be0e266ff05943eeaf24d0f63b6357f1": {
      "model_module": "@jupyter-widgets/base",
      "model_module_version": "1.2.0",
      "model_name": "LayoutModel",
      "state": {}
     },
     "be1596b783bf42c99112ce8674f00461": {
      "model_module": "@jupyter-widgets/controls",
      "model_module_version": "1.5.0",
      "model_name": "DescriptionStyleModel",
      "state": {
       "description_width": ""
      }
     },
     "bea7e12b722d4a76a0e11c4b01a45e6f": {
      "model_module": "@jupyter-widgets/controls",
      "model_module_version": "1.5.0",
      "model_name": "DescriptionStyleModel",
      "state": {
       "description_width": "initial"
      }
     },
     "bf507be428254a30b4244b542502e4a7": {
      "model_module": "@jupyter-widgets/base",
      "model_module_version": "1.2.0",
      "model_name": "LayoutModel",
      "state": {
       "grid_area": "dircontent",
       "width": "auto"
      }
     },
     "bf6447e031b04ebda9568cb7618a55b3": {
      "model_module": "@jupyter-widgets/controls",
      "model_module_version": "1.5.0",
      "model_name": "DescriptionStyleModel",
      "state": {
       "description_width": ""
      }
     },
     "bfa061d9d6dc4973a526c5737390569b": {
      "model_module": "@jupyter-widgets/base",
      "model_module_version": "1.2.0",
      "model_name": "LayoutModel",
      "state": {}
     },
     "bfae0d7e07f64c1d959dab812c1f49bd": {
      "model_module": "@jupyter-widgets/controls",
      "model_module_version": "1.5.0",
      "model_name": "LabelModel",
      "state": {
       "layout": "IPY_MODEL_6f0d027cf0fb4e24acbb2e7240224f09",
       "style": "IPY_MODEL_bab676914f4446d7922261b03b657499",
       "value": "Workspace"
      }
     },
     "c016586393c74c9cafc2b9910885e236": {
      "model_module": "@jupyter-widgets/controls",
      "model_module_version": "1.5.0",
      "model_name": "DescriptionStyleModel",
      "state": {
       "description_width": "initial"
      }
     },
     "c053d18c7b04465790c938ad9f12e9de": {
      "model_module": "@jupyter-widgets/controls",
      "model_module_version": "1.5.0",
      "model_name": "DescriptionStyleModel",
      "state": {
       "description_width": ""
      }
     },
     "c0fd48bf219448eda565e203664014fa": {
      "model_module": "@jupyter-widgets/controls",
      "model_module_version": "1.5.0",
      "model_name": "VBoxModel",
      "state": {
       "children": [
        "IPY_MODEL_ac6dcc32fb0f442f800222382e0fc5c9",
        "IPY_MODEL_5b9b482e41574d7792ac2700747a99a8"
       ],
       "layout": "IPY_MODEL_f1e69a505db1427793797ee15e92a57f"
      }
     },
     "c13b8f1d670c47e1b815e41b07e0d24f": {
      "model_module": "@jupyter-widgets/base",
      "model_module_version": "1.2.0",
      "model_name": "LayoutModel",
      "state": {}
     },
     "c1547db741de4361af19dd9e8b4c7505": {
      "model_module": "@jupyter-widgets/base",
      "model_module_version": "1.2.0",
      "model_name": "LayoutModel",
      "state": {}
     },
     "c17aff5dd6cf492d8d9883f0b8872a36": {
      "model_module": "@jupyter-widgets/controls",
      "model_module_version": "1.5.0",
      "model_name": "DescriptionStyleModel",
      "state": {
       "description_width": "initial"
      }
     },
     "c1d920fdf1b34cc88f93065469992a9e": {
      "model_module": "@jupyter-widgets/controls",
      "model_module_version": "1.5.0",
      "model_name": "HBoxModel",
      "state": {
       "children": [
        "IPY_MODEL_a8a3abd85b54487883e55946ff725e3f",
        "IPY_MODEL_2ddd69afbd6e46e3bbd0d6be040d8bf4"
       ],
       "layout": "IPY_MODEL_89811e5cc64943ec82cf4d9c99889065"
      }
     },
     "c226100161954256a2f5aee3b7b65a96": {
      "model_module": "@jupyter-widgets/base",
      "model_module_version": "1.2.0",
      "model_name": "LayoutModel",
      "state": {}
     },
     "c2306c1c541d475faea7c6b30e159bca": {
      "model_module": "@jupyter-widgets/controls",
      "model_module_version": "1.5.0",
      "model_name": "DescriptionStyleModel",
      "state": {
       "description_width": "initial"
      }
     },
     "c23d0c66924642aabe5045be5f254dba": {
      "model_module": "@jupyter-widgets/base",
      "model_module_version": "1.2.0",
      "model_name": "LayoutModel",
      "state": {}
     },
     "c25557ec33a14c75962b3b93e1522aa3": {
      "model_module": "@jupyter-widgets/controls",
      "model_module_version": "1.5.0",
      "model_name": "TextModel",
      "state": {
       "continuous_update": false,
       "description": "Group:",
       "layout": "IPY_MODEL_252878a45708467dac7ae33a880da488",
       "style": "IPY_MODEL_acebf1cd02c84ffd93abe2e868641d31"
      }
     },
     "c2aa364c1c2d4e8e945ef838c2771d9b": {
      "model_module": "@jupyter-widgets/base",
      "model_module_version": "1.2.0",
      "model_name": "LayoutModel",
      "state": {
       "width": "auto"
      }
     },
     "c2b85d65df364350863ac92204d8f33b": {
      "model_module": "@jupyter-widgets/base",
      "model_module_version": "1.2.0",
      "model_name": "LayoutModel",
      "state": {
       "width": "auto"
      }
     },
     "c2c24aed1ebc466b8d484e2aada8ec92": {
      "model_module": "@jupyter-widgets/base",
      "model_module_version": "1.2.0",
      "model_name": "LayoutModel",
      "state": {
       "visibility": "hidden"
      }
     },
     "c3249c4fc00c4f1aaf58dc64e67d7b15": {
      "model_module": "@jupyter-widgets/controls",
      "model_module_version": "1.5.0",
      "model_name": "DescriptionStyleModel",
      "state": {
       "description_width": "initial"
      }
     },
     "c3350a8695144440bfccf333fe208480": {
      "model_module": "@jupyter-widgets/controls",
      "model_module_version": "1.5.0",
      "model_name": "DescriptionStyleModel",
      "state": {
       "description_width": ""
      }
     },
     "c3444a09aa804e14a3a3faf0973a0b40": {
      "model_module": "@jupyter-widgets/controls",
      "model_module_version": "1.5.0",
      "model_name": "DescriptionStyleModel",
      "state": {
       "description_width": ""
      }
     },
     "c3446d9e33fd4e4b99776f708b61ccf7": {
      "model_module": "@jupyter-widgets/controls",
      "model_module_version": "1.5.0",
      "model_name": "DescriptionStyleModel",
      "state": {
       "description_width": ""
      }
     },
     "c371dd8c360041b4b78580e649fc2efd": {
      "model_module": "@jupyter-widgets/base",
      "model_module_version": "1.2.0",
      "model_name": "LayoutModel",
      "state": {
       "grid_area": "dircontent",
       "width": "auto"
      }
     },
     "c3a3d087cf434a9fb569e4f93770079f": {
      "model_module": "@jupyter-widgets/controls",
      "model_module_version": "1.5.0",
      "model_name": "DescriptionStyleModel",
      "state": {
       "description_width": ""
      }
     },
     "c3bc06915fee46f087f546abb3f25b0b": {
      "model_module": "@jupyter-widgets/controls",
      "model_module_version": "1.5.0",
      "model_name": "RadioButtonsModel",
      "state": {
       "_options_labels": [
        "sensor location + (dx, dy, dz)",
        "topo + radar + (dx, dy, dz)"
       ],
       "description": "Define by:",
       "index": 1,
       "layout": "IPY_MODEL_9438df172f8c4d7db8e53b1bd6cb5781",
       "style": "IPY_MODEL_f6ed8758dcc44eab8358d1ddefb123d3"
      }
     },
     "c3c30cbd87204ac5a39da6b2c303dcc2": {
      "model_module": "@jupyter-widgets/base",
      "model_module_version": "1.2.0",
      "model_name": "LayoutModel",
      "state": {}
     },
     "c3cd9b47104b487081b4ec42572ee1e6": {
      "model_module": "@jupyter-widgets/controls",
      "model_module_version": "1.5.0",
      "model_name": "DescriptionStyleModel",
      "state": {
       "description_width": ""
      }
     },
     "c40c37975f6e4e1cb65f4d57245150dc": {
      "model_module": "@jupyter-widgets/base",
      "model_module_version": "1.2.0",
      "model_name": "LayoutModel",
      "state": {}
     },
     "c4151debcda047d093030bdf19073e0e": {
      "model_module": "@jupyter-widgets/base",
      "model_module_version": "1.2.0",
      "model_name": "LayoutModel",
      "state": {}
     },
     "c41d0b64f8224d3f8093187937825169": {
      "model_module": "@jupyter-widgets/controls",
      "model_module_version": "1.5.0",
      "model_name": "DescriptionStyleModel",
      "state": {
       "description_width": ""
      }
     },
     "c4333e23f06a49ca850c2f0205f932ca": {
      "model_module": "@jupyter-widgets/base",
      "model_module_version": "1.2.0",
      "model_name": "LayoutModel",
      "state": {
       "grid_area": "pathlist",
       "width": "auto"
      }
     },
     "c48b80d39a314c82af6a247a8468f951": {
      "model_module": "@jupyter-widgets/controls",
      "model_module_version": "1.5.0",
      "model_name": "DescriptionStyleModel",
      "state": {
       "description_width": "initial"
      }
     },
     "c509855e3ea0481a9566a026a3763312": {
      "model_module": "@jupyter-widgets/controls",
      "model_module_version": "1.5.0",
      "model_name": "DescriptionStyleModel",
      "state": {
       "description_width": "initial"
      }
     },
     "c5259765c83e44ee860dc0fcfe245caf": {
      "model_module": "@jupyter-widgets/controls",
      "model_module_version": "1.5.0",
      "model_name": "HBoxModel",
      "state": {
       "children": [
        "IPY_MODEL_204a2178f1be4312b78972c4d055cab6",
        "IPY_MODEL_4a29ab84e4b7434a80420b405efa6770",
        "IPY_MODEL_d453b91ef7b24951bbfb8d70c7d56046"
       ],
       "layout": "IPY_MODEL_b7bb8101904e4816847c54754bbe7bea"
      }
     },
     "c532b4dbbeae48afa1ef9cae205998b5": {
      "model_module": "@jupyter-widgets/controls",
      "model_module_version": "1.5.0",
      "model_name": "DropdownModel",
      "state": {
       "_options_labels": [
        "",
        "--- Channels ---",
        "Airborne_Gxx",
        "Airborne_Gxy",
        "Airborne_Gxz",
        "Airborne_Gyy",
        "Airborne_Gyz",
        "Airborne_Gz",
        "Airborne_Gzz",
        "Airborne_TMI",
        "Ground_Gz",
        "Z"
       ],
       "description": "Channel <=> Data:",
       "index": 0,
       "layout": "IPY_MODEL_97795b2f8d47412a9bb4695d4ede5992",
       "style": "IPY_MODEL_5586b1bc1a2948ac93e7a449c2e377a8"
      }
     },
     "c54014f96c9e43209ab5516717ebace2": {
      "model_module": "@jupyter-widgets/controls",
      "model_module_version": "1.5.0",
      "model_name": "VBoxModel",
      "state": {
       "children": [
        "IPY_MODEL_0ab007407d904cf789682235f9ef2ac4",
        "IPY_MODEL_213431057e814b23831795fe6a91c3c4",
        "IPY_MODEL_d67c2f4b90984fd094450264d1a37bd3"
       ],
       "layout": "IPY_MODEL_ed12d453026244798bdd099ef9b4dc5f"
      }
     },
     "c559467ec3e149779c5bee91887b2b17": {
      "model_module": "@jupyter-widgets/controls",
      "model_module_version": "1.5.0",
      "model_name": "TextModel",
      "state": {
       "description": "Offsets (x,y,z)",
       "layout": "IPY_MODEL_2d8654d1a2de4eac9f17645e132e0c02",
       "style": "IPY_MODEL_51c0d76c96244f72b63dacbb82a30fec",
       "value": "0, 0, 0"
      }
     },
     "c576f2806faa4312a6f32bf2163cdf9b": {
      "model_module": "@jupyter-widgets/base",
      "model_module_version": "1.2.0",
      "model_name": "LayoutModel",
      "state": {}
     },
     "c64506faed9043939428ca608e825ff4": {
      "model_module": "@jupyter-widgets/controls",
      "model_module_version": "1.5.0",
      "model_name": "DescriptionStyleModel",
      "state": {
       "description_width": ""
      }
     },
     "c65b49b538f34c669a84f39b6c1b1cd0": {
      "model_module": "@jupyter-widgets/base",
      "model_module_version": "1.2.0",
      "model_name": "LayoutModel",
      "state": {}
     },
     "c67f81c1b1f04faab37fecf8b830838b": {
      "model_module": "@jupyter-widgets/controls",
      "model_module_version": "1.5.0",
      "model_name": "ButtonStyleModel",
      "state": {}
     },
     "c7a903d8666f4494b97360aa5a77e19e": {
      "model_module": "@jupyter-widgets/controls",
      "model_module_version": "1.5.0",
      "model_name": "GridBoxModel",
      "state": {
       "children": [
        "IPY_MODEL_1eb2f744a5624f02bcea1d59495ce78f",
        "IPY_MODEL_336735ff407c46fa8e3091bc5ac7d451",
        "IPY_MODEL_e37c834f1f3545d891c4d0fa7025c4dc"
       ],
       "layout": "IPY_MODEL_4a7a9ae564c6410989da48c4b382786f"
      }
     },
     "c7e8868cb1364590852f4bb5ffbb70ab": {
      "model_module": "@jupyter-widgets/controls",
      "model_module_version": "1.5.0",
      "model_name": "ButtonModel",
      "state": {
       "description": "Cancel",
       "layout": "IPY_MODEL_8eba27c12f2948ef948188e7d2fa4567",
       "style": "IPY_MODEL_8ca997f363c34a07a2f17d4ea10a073d"
      }
     },
     "c891fda561504deeb6dd4b03ff126783": {
      "model_module": "@jupyter-widgets/base",
      "model_module_version": "1.2.0",
      "model_name": "LayoutModel",
      "state": {
       "grid_area": "dircontent",
       "width": "auto"
      }
     },
     "c8b48b2fbafe4be1905c30ff040a9d9c": {
      "model_module": "@jupyter-widgets/base",
      "model_module_version": "1.2.0",
      "model_name": "LayoutModel",
      "state": {
       "grid_area": "dircontent",
       "width": "auto"
      }
     },
     "c9093d8b872c45e988950ececd1fdc26": {
      "model_module": "@jupyter-widgets/controls",
      "model_module_version": "1.5.0",
      "model_name": "HBoxModel",
      "state": {
       "children": [
        "IPY_MODEL_1d0edc89c4ff42cf804948fce881dfb8",
        "IPY_MODEL_d3517e5efc1d4dc5acca22c0054b59d0"
       ],
       "layout": "IPY_MODEL_981a97f48fff4797990f9f8598da6230"
      }
     },
     "c90ef88948bc43b19ab9fe9d71a364d3": {
      "model_module": "@jupyter-widgets/base",
      "model_module_version": "1.2.0",
      "model_name": "LayoutModel",
      "state": {
       "width": "auto"
      }
     },
     "c96bd5465e1f48318a13b3961cd47ebd": {
      "model_module": "@jupyter-widgets/base",
      "model_module_version": "1.2.0",
      "model_name": "LayoutModel",
      "state": {
       "visibility": "hidden"
      }
     },
     "c9cd646a6f1240deb916f8c715aa6a44": {
      "model_module": "@jupyter-widgets/base",
      "model_module_version": "1.2.0",
      "model_name": "LayoutModel",
      "state": {}
     },
     "c9e8e605dc82497b91e2fae7ae4b01ee": {
      "model_module": "@jupyter-widgets/controls",
      "model_module_version": "1.5.0",
      "model_name": "ButtonModel",
      "state": {
       "description": "Select",
       "layout": "IPY_MODEL_4ade76550a3b4e729d8a4bf1ba801e6b",
       "style": "IPY_MODEL_bd7924467c1c428bb653dbcf1223ca84"
      }
     },
     "c9f5b9cba2bb40079055dfc483d9c5be": {
      "model_module": "@jupyter-widgets/controls",
      "model_module_version": "1.5.0",
      "model_name": "DescriptionStyleModel",
      "state": {
       "description_width": ""
      }
     },
     "ca721dc992b3466197f2c866722eacac": {
      "model_module": "@jupyter-widgets/controls",
      "model_module_version": "1.5.0",
      "model_name": "LabelModel",
      "state": {
       "layout": "IPY_MODEL_439e0bc7d72e464f8924741edf0c6cbe",
       "style": "IPY_MODEL_64cddc53bfc64289abc526086ebbc637",
       "value": "Data Count: 425"
      }
     },
     "cab23e14e4844f6f9f4020caf9f9c3bb": {
      "model_module": "@jupyter-widgets/base",
      "model_module_version": "1.2.0",
      "model_name": "LayoutModel",
      "state": {}
     },
     "cb99d5d1746e44d49fa056bb51e43e81": {
      "model_module": "@jupyter-widgets/controls",
      "model_module_version": "1.5.0",
      "model_name": "VBoxModel",
      "state": {
       "children": [
        "IPY_MODEL_989cf9e3b6a149eb838ce4457bdc549a",
        "IPY_MODEL_7512eaaabc284bb8a1c661df4630036e"
       ],
       "layout": "IPY_MODEL_860dd63515594760a1dfc1868a9f2632"
      }
     },
     "cba4c806e68c4322b06b7158f3dffab4": {
      "model_module": "@jupyter-widgets/controls",
      "model_module_version": "1.5.0",
      "model_name": "DescriptionStyleModel",
      "state": {
       "description_width": ""
      }
     },
     "cbe07a4a77594402829f47220b54eebd": {
      "model_module": "@jupyter-widgets/controls",
      "model_module_version": "1.5.0",
      "model_name": "VBoxModel",
      "state": {
       "children": [
        "IPY_MODEL_928bbe1e86524772af43467e9174fd20",
        "IPY_MODEL_ac02953d58d34170b6a65057b49f0d34"
       ],
       "layout": "IPY_MODEL_554c504087c2448eb7858a41fc8a443b"
      }
     },
     "cbf3a5bfdf8a495c83313147c40c95bf": {
      "model_module": "@jupyter-widgets/base",
      "model_module_version": "1.2.0",
      "model_name": "LayoutModel",
      "state": {
       "visibility": "hidden"
      }
     },
     "cc75eae678e5445f97fc4683587ca470": {
      "model_module": "@jupyter-widgets/base",
      "model_module_version": "1.2.0",
      "model_name": "LayoutModel",
      "state": {}
     },
     "ccbbd879637a4e56b4ea5236da12ee61": {
      "model_module": "@jupyter-widgets/base",
      "model_module_version": "1.2.0",
      "model_name": "LayoutModel",
      "state": {}
     },
     "cd22c3c8d4004db6b339825f7f0b955d": {
      "model_module": "@jupyter-widgets/controls",
      "model_module_version": "1.5.0",
      "model_name": "DescriptionStyleModel",
      "state": {
       "description_width": ""
      }
     },
     "cd4a5e0ccf1e425ba4648c4371f4d88c": {
      "model_module": "@jupyter-widgets/base",
      "model_module_version": "1.2.0",
      "model_name": "LayoutModel",
      "state": {
       "width": "auto"
      }
     },
     "cdf0a19495594eaba29fca621c1e6720": {
      "model_module": "@jupyter-widgets/controls",
      "model_module_version": "1.5.0",
      "model_name": "ButtonModel",
      "state": {
       "description": "Change",
       "layout": "IPY_MODEL_92c206d25e3e4520bc7065db427eef77",
       "style": "IPY_MODEL_e9aba81c83514172ba58e08dc7d7c0c9"
      }
     },
     "ce13b4b116544501a7560dc78baaadf7": {
      "model_module": "@jupyter-widgets/controls",
      "model_module_version": "1.5.0",
      "model_name": "TextModel",
      "state": {
       "description": "Offsets (x,y,z)",
       "layout": "IPY_MODEL_98682ba27fc9452597681e313f4320cb",
       "style": "IPY_MODEL_b98c5aaedc7640eba7c60b7856b3a2e0",
       "value": "0, 0, 0"
      }
     },
     "ce323bfb629b4af3b701b313d4dc4a3e": {
      "model_module": "@jupyter-widgets/base",
      "model_module_version": "1.2.0",
      "model_name": "LayoutModel",
      "state": {
       "visibility": "hidden"
      }
     },
     "ce4c5e3be52642e98a2062f3df331c2d": {
      "model_module": "@jupyter-widgets/base",
      "model_module_version": "1.2.0",
      "model_name": "LayoutModel",
      "state": {}
     },
     "ce569a34e4ee4522a1876320df14af78": {
      "model_module": "@jupyter-widgets/controls",
      "model_module_version": "1.5.0",
      "model_name": "HBoxModel",
      "state": {
       "children": [
        "IPY_MODEL_d919f6e6b63d429d8f2ca7cc9b95f322",
        "IPY_MODEL_7ccb954061ed4f76b83ce2df24fa93ee",
        "IPY_MODEL_5b0a93ba47d644d4910269a7dbabd815"
       ],
       "layout": "IPY_MODEL_1b28f9c95cb1471bbaf24b949d2eab8a"
      }
     },
     "cec1d49a75a04ecab71b387c0ec7c3b9": {
      "model_module": "@jupyter-widgets/controls",
      "model_module_version": "1.5.0",
      "model_name": "SelectMultipleModel",
      "state": {
       "description": "Select lines:",
       "index": [],
       "layout": "IPY_MODEL_925289b43e6043c5949c54e0f4ecea99",
       "rows": 5,
       "style": "IPY_MODEL_c3350a8695144440bfccf333fe208480"
      }
     },
     "cee9576536504bb69cc188e4637a5ead": {
      "model_module": "@jupyter-widgets/base",
      "model_module_version": "1.2.0",
      "model_name": "LayoutModel",
      "state": {}
     },
     "cf1d85bbcc7e4781b85a9bb6beee7335": {
      "model_module": "@jupyter-widgets/controls",
      "model_module_version": "1.5.0",
      "model_name": "VBoxModel",
      "state": {
       "children": [
        "IPY_MODEL_b13076602ea54093a01e0588e04f1937",
        "IPY_MODEL_504f8222e5a24fd4a5ec7108cb10b707"
       ],
       "layout": "IPY_MODEL_751019cf026449b48f0eef285263768e"
      }
     },
     "cf3bcc8c0eb145a4abf92e01b1dde4d1": {
      "model_module": "@jupyter-widgets/controls",
      "model_module_version": "1.5.0",
      "model_name": "DropdownModel",
      "state": {
       "_options_labels": [
        "",
        "Data_TEM_pseudo3DEPSG_4326",
        "Gravity_Magnetics_drape60mEPSG_4326",
        "Iso_Iteration_7_model_0.015",
        "Iso_Iteration_7_model_0.01",
        "Iso_Iteration_7_model_0.02",
        "Iso_Iteration_7_model_0.005",
        "Iso_Iteration_7_model_0.0025",
        "fault_splay1",
        "fault_Cliff_Lake",
        "fault_Other_FlinFlon",
        "fault_Club_Lake_splay",
        "fault_Catherine_splay2",
        "fault_Birch_View",
        "fault_Dion_Lake",
        "fault_FlinFlon_splay",
        "fault_West_Mandy_Road",
        "fault_Channing",
        "fault_Ross_Lake",
        "fault_Louis_Hidden",
        "fault_Lake_View_thrust",
        "contact_Schist_Lake",
        "fault_Burley_Lake",
        "fault_Dion_Lake_splay",
        "fault_Green_Lake",
        "fault_FlinFlon",
        "fault_Catherine_splay1",
        "fault_East_Mandy_Road",
        "fault_Other_FlinFlon_South",
        "fault_Catherine_splay4",
        "contact_Stitt_Island",
        "fault_Club_Lake",
        "fault_Tailing_Pond",
        "35_Hidden_Reservoir_Hr5",
        "29_Hidden_Reservoir_Hr1a",
        "60_BlueLagoon_Fb2",
        "20_FlinFlon_Undivided_Int_Dykes_D2f",
        "04_Boundary_Intrusive_S4h",
        "53_Millrock_Rhyolite_Fm4b",
        "19_FlinFlon_Undivided_Int_Dykes_D2b",
        "18_FlinFlon_Undivided_Int_Dykes_777_D2b",
        "06_Phantom_Lake_Intrusive_S3a",
        "21_FlinFlon_Undivided_Int_Dykes_D3a",
        "43_Millrock_CHLSH_South",
        "56_Millrock_Basalt_Fm1ba",
        "17_FlinFlon_Undivided_Int_Dykes_D2",
        "32_Hidden_Reservoir_Hr1b_SW",
        "11_Missi_M3_NE",
        "13_Missi_M1",
        "07_Annabel_Granitoid_S1",
        "45_Millrock_Gabbro_South",
        "01_Late_Intrusive_S5b",
        "31_Hidden_Reservoir_Hr1c_SW",
        "52_Millrock_Rhyolite_Fm4_West_check",
        "55_Millrock_Basalt_Fm1bf",
        "34_Hidden_Reservoir_Hr2b",
        "03_Boundary_Intrusive_S4b",
        "42_Millrock_CHLSH_North",
        "26_Louis_L3",
        "23_FlinFlon_Undivided_Int_Felsic_D4g",
        "30_Hidden_Reservoir_Hr1b",
        "59_BlueLagoon_Fb3",
        "49_Millrock_MVR_Fm5d",
        "44_Millrock_Gabbro_North",
        "27_Hidden_Carlisle_Hc4",
        "22_FlinFlon_Undivided_Int_Felsic_D4e",
        "02_Boundary_Intrusive_S4a",
        "61_BlueLagoon_Fb1_NW",
        "05_Boundary_Intrusive_S4g",
        "39_Ore_Callinan",
        "38_Ore_Dan_Owens",
        "40_Ore_FlinFlon",
        "Inversion_VTEM_Model",
        "Gravity_Magnetics_drape60m",
        "CDI_VTEM_model",
        "Data_FEM_pseudo3D",
        "O2O_Interp_25m",
        "geochem",
        "Inversion_DIGHEM_Model",
        "Topography",
        "Data_TEM_pseudo3D"
       ],
       "description": "Object",
       "index": 0,
       "layout": "IPY_MODEL_e9f708d9ba874ca09dda3bad8a1f0aae",
       "style": "IPY_MODEL_750194b522b74d279525bfa90a299b82"
      }
     },
     "cf3ff934131d4afaa6527ddaa0843ce7": {
      "model_module": "@jupyter-widgets/controls",
      "model_module_version": "1.5.0",
      "model_name": "ButtonStyleModel",
      "state": {}
     },
     "cf44398376b0461c98422632d418ac0a": {
      "model_module": "@jupyter-widgets/controls",
      "model_module_version": "1.5.0",
      "model_name": "DescriptionStyleModel",
      "state": {
       "description_width": ""
      }
     },
     "cf5ea8866c324affa90a682d6d2ed2d8": {
      "model_module": "@jupyter-widgets/controls",
      "model_module_version": "1.5.0",
      "model_name": "CheckboxModel",
      "state": {
       "description": "Active",
       "disabled": false,
       "layout": "IPY_MODEL_c576f2806faa4312a6f32bf2163cdf9b",
       "style": "IPY_MODEL_902425f1dec74a2e91d6d7a7b44fe435",
       "value": false
      }
     },
     "cf9b8905b0244f7ab74ee75c9a96b28d": {
      "model_module": "@jupyter-widgets/base",
      "model_module_version": "1.2.0",
      "model_name": "LayoutModel",
      "state": {}
     },
     "cfdf2c9947a8477b955f1864e2d99dc1": {
      "model_module": "@jupyter-widgets/controls",
      "model_module_version": "1.5.0",
      "model_name": "DescriptionStyleModel",
      "state": {
       "description_width": "initial"
      }
     },
     "d06ba5662ddf416a945fc22f836bf3d4": {
      "model_module": "@jupyter-widgets/controls",
      "model_module_version": "1.5.0",
      "model_name": "VBoxModel",
      "state": {
       "children": [
        "IPY_MODEL_65799ba5d837441e9b0cb06d046c52a9",
        "IPY_MODEL_27da9b860b7b478e9b39ef3af18110c7"
       ],
       "layout": "IPY_MODEL_b9d80277dfa2426ebe020239a08821ba"
      }
     },
     "d070a81d5cc244efa00235235bbf2979": {
      "model_module": "@jupyter-widgets/controls",
      "model_module_version": "1.5.0",
      "model_name": "DescriptionStyleModel",
      "state": {
       "description_width": "initial"
      }
     },
     "d07e79274143432fbb9a5c0374ec9e64": {
      "model_module": "@jupyter-widgets/controls",
      "model_module_version": "1.5.0",
      "model_name": "DescriptionStyleModel",
      "state": {
       "description_width": ""
      }
     },
     "d0a575dc614f4d4da96eb4a3c9133534": {
      "model_module": "@jupyter-widgets/base",
      "model_module_version": "1.2.0",
      "model_name": "LayoutModel",
      "state": {}
     },
     "d106f81c6346450cb4f32636afdbf5e8": {
      "model_module": "@jupyter-widgets/base",
      "model_module_version": "1.2.0",
      "model_name": "LayoutModel",
      "state": {
       "width": "auto"
      }
     },
     "d10b4911b4ae472cbefa3a2d3b778cc1": {
      "model_module": "@jupyter-widgets/controls",
      "model_module_version": "1.5.0",
      "model_name": "VBoxModel",
      "state": {
       "children": [
        "IPY_MODEL_017cba3135e9453b9876f50b659729a6",
        "IPY_MODEL_2be097732d1746b4abdd66fb7a3b986b",
        "IPY_MODEL_c5259765c83e44ee860dc0fcfe245caf"
       ],
       "layout": "IPY_MODEL_ac620226b351480dbad5186f22903515"
      }
     },
     "d122afd3e2b64a45bd135c54f36c4554": {
      "model_module": "@jupyter-widgets/base",
      "model_module_version": "1.2.0",
      "model_name": "LayoutModel",
      "state": {}
     },
     "d12606f4ea4d4a3fa4d049a73db7c289": {
      "model_module": "@jupyter-widgets/base",
      "model_module_version": "1.2.0",
      "model_name": "LayoutModel",
      "state": {}
     },
     "d14253d008fb402dbe82d88c88fca407": {
      "model_module": "@jupyter-widgets/controls",
      "model_module_version": "1.5.0",
      "model_name": "ButtonModel",
      "state": {
       "description": "Create copy:",
       "layout": "IPY_MODEL_3c8e505d4aac4098b8399cde94ea032a",
       "style": "IPY_MODEL_144dd43b69524df9bfbc335015af047d"
      }
     },
     "d185828b03564f5190f97c3baa4df713": {
      "model_module": "@jupyter-widgets/controls",
      "model_module_version": "1.5.0",
      "model_name": "TextModel",
      "state": {
       "continuous_update": false,
       "description": "Group:",
       "layout": "IPY_MODEL_4797bcf9390b48da8710d6b99de99d17",
       "style": "IPY_MODEL_8ebefe2a4e694372b8c155878c78b56d"
      }
     },
     "d187579e24b5409ba5d1f576e64e8f3d": {
      "model_module": "@jupyter-widgets/controls",
      "model_module_version": "1.5.0",
      "model_name": "VBoxModel",
      "state": {
       "children": [
        "IPY_MODEL_a19391936fa740d8a0fba1f2927c2138",
        "IPY_MODEL_6ea9c081b7354289aaeb224e774da6cc",
        "IPY_MODEL_64be0f7caefb4301bebb862ae9864b87",
        "IPY_MODEL_d1ffa0405f4941119fc4291b9b3989b6",
        "IPY_MODEL_eae8338ec3ce48ed9891428b919a590c",
        "IPY_MODEL_43053e272ec745fc809ae2fb0cf7ffd2",
        "IPY_MODEL_a300edcfd2a046e3ba4cbe55c16f5eb1"
       ],
       "layout": "IPY_MODEL_e31b542b19e64f9cbac5df27e9d40679"
      }
     },
     "d1e34be0c24e48a9819f03545c98f5b1": {
      "model_module": "@jupyter-widgets/controls",
      "model_module_version": "1.5.0",
      "model_name": "DescriptionStyleModel",
      "state": {
       "description_width": ""
      }
     },
     "d1eb055e1e0a45a09503a389c251f56c": {
      "model_module": "@jupyter-widgets/controls",
      "model_module_version": "1.5.0",
      "model_name": "DropdownModel",
      "state": {
       "_options_labels": [
        "C:\\Users\\dominiquef\\Documents\\GIT\\mira\\mirageoscience-apps\\docs\\content\\applications",
        "C:\\Users\\dominiquef\\Documents\\GIT\\mira\\mirageoscience-apps\\docs\\content",
        "C:\\Users\\dominiquef\\Documents\\GIT\\mira\\mirageoscience-apps\\docs",
        "C:\\Users\\dominiquef\\Documents\\GIT\\mira\\mirageoscience-apps",
        "C:\\Users\\dominiquef\\Documents\\GIT\\mira",
        "C:\\Users\\dominiquef\\Documents\\GIT",
        "C:\\Users\\dominiquef\\Documents",
        "C:\\Users\\dominiquef",
        "C:\\Users",
        "C:\\",
        "D:\\",
        "Z:\\"
       ],
       "index": 0,
       "layout": "IPY_MODEL_1069119a54534da5b3ccad12bcfa4f4b",
       "style": "IPY_MODEL_3f0f46f4e11349c1b2b8fb9c1efdea67"
      }
     },
     "d1ffa0405f4941119fc4291b9b3989b6": {
      "model_module": "@jupyter-widgets/controls",
      "model_module_version": "1.5.0",
      "model_name": "TextModel",
      "state": {
       "description": "Layers below data",
       "layout": "IPY_MODEL_d4d42dea42174a87991473d77257ff42",
       "style": "IPY_MODEL_74c52dddf2254e9ca1731ee22981a0d4",
       "value": "5, 5, 5, 5"
      }
     },
     "d273d5acd5b64050bf17b54630a0308d": {
      "model_module": "@jupyter-widgets/base",
      "model_module_version": "1.2.0",
      "model_name": "LayoutModel",
      "state": {}
     },
     "d286e27474d1409799e98e1d9fd8dbe8": {
      "model_module": "@jupyter-widgets/controls",
      "model_module_version": "1.5.0",
      "model_name": "ToggleButtonModel",
      "state": {
       "layout": "IPY_MODEL_24adf4871f514e23a7c4d4c36d91647f",
       "style": "IPY_MODEL_5277bedecec0416da57bfaee4af5b489",
       "value": true
      }
     },
     "d2a5276322394a8882a91b58f89f60c5": {
      "model_module": "@jupyter-widgets/controls",
      "model_module_version": "1.5.0",
      "model_name": "FloatTextModel",
      "state": {
       "description": "Target misfit",
       "layout": "IPY_MODEL_924c085693b7439e8ed53b918b8785cf",
       "step": null,
       "style": "IPY_MODEL_bdb4c481939846c9b91725451f16eb5d",
       "value": 1
      }
     },
     "d2b566a65e7e469598dd88ac651f4663": {
      "model_module": "@jupyter-widgets/controls",
      "model_module_version": "1.5.0",
      "model_name": "DescriptionStyleModel",
      "state": {
       "description_width": ""
      }
     },
     "d2ccb36b42f74ede9f8b1d270bf66ad4": {
      "model_module": "@jupyter-widgets/controls",
      "model_module_version": "1.5.0",
      "model_name": "DescriptionStyleModel",
      "state": {
       "description_width": ""
      }
     },
     "d3517e5efc1d4dc5acca22c0054b59d0": {
      "model_module": "@jupyter-widgets/controls",
      "model_module_version": "1.5.0",
      "model_name": "ButtonModel",
      "state": {
       "description": "Create copy:",
       "layout": "IPY_MODEL_13ab748a679043fda79b731638053ee0",
       "style": "IPY_MODEL_5f6b85d936ca43f29fda34bbd8b17a20"
      }
     },
     "d3d9b3788156438aaf743542f7f142cd": {
      "model_module": "@jupyter-widgets/controls",
      "model_module_version": "1.5.0",
      "model_name": "VBoxModel",
      "state": {
       "children": [
        "IPY_MODEL_6bc86cb7b8fc4a15bd026daf11187c72",
        "IPY_MODEL_0e37f15ec9254d59b00c845114b4eec2"
       ],
       "layout": "IPY_MODEL_0f5edc8a70aa4ccf855a7783acb81967"
      }
     },
     "d3db13420c1d4c1db4bb6754cdc0ee06": {
      "model_module": "@jupyter-widgets/base",
      "model_module_version": "1.2.0",
      "model_name": "LayoutModel",
      "state": {}
     },
     "d41172cc6c4c4b63805ef7e3cd2d4a5e": {
      "model_module": "@jupyter-widgets/controls",
      "model_module_version": "1.5.0",
      "model_name": "DescriptionStyleModel",
      "state": {
       "description_width": ""
      }
     },
     "d453b91ef7b24951bbfb8d70c7d56046": {
      "model_module": "@jupyter-widgets/controls",
      "model_module_version": "1.5.0",
      "model_name": "HTMLModel",
      "state": {
       "layout": "IPY_MODEL_7c138207342f492990af3d40e136fbae",
       "placeholder": "",
       "style": "IPY_MODEL_8e48dd1ecdea44a3be155683f531b017",
       "value": "<span style=\"margin-left:10px; color:black;\">No file selected</span>"
      }
     },
     "d4b2042697cc451f9d86742774aca7d5": {
      "model_module": "@jupyter-widgets/controls",
      "model_module_version": "1.5.0",
      "model_name": "SelectModel",
      "state": {
       "_options_labels": [
        "..",
        "dask-worker-space",
        "images",
        "GEOSCIENCEtemp",
        "Untitled.ipynb",
        "base_application.ipynb",
        "calculator.ipynb",
        "clustering.ipynb",
        "contouring.ipynb",
        "coordinate_transformation.ipynb",
        "create_isosurface.ipynb",
        "create_surface.ipynb",
        "data_interpolation.ipynb",
        "edge_detection.ipynb",
        "export.ipynb",
        "geophysical_inversion.ipynb",
        "object_data_selection.ipynb",
        "peak_finder.ipynb",
        "scatter.ipynb",
        "view_selection.ipynb"
       ],
       "index": null,
       "layout": "IPY_MODEL_08e916c2baad4decaa80da15e4781611",
       "rows": 8,
       "style": "IPY_MODEL_27d2d7f4b872497a839ea07bd7ad8011"
      }
     },
     "d4b68b52444849b4a72f75b75cec8a54": {
      "model_module": "@jupyter-widgets/base",
      "model_module_version": "1.2.0",
      "model_name": "LayoutModel",
      "state": {}
     },
     "d4bfd5e83328492f8cafcabd77c09159": {
      "model_module": "@jupyter-widgets/base",
      "model_module_version": "1.2.0",
      "model_name": "LayoutModel",
      "state": {
       "display": "none",
       "width": "auto"
      }
     },
     "d4c005ef967a42a59d4d2068e057db30": {
      "model_module": "@jupyter-widgets/base",
      "model_module_version": "1.2.0",
      "model_name": "LayoutModel",
      "state": {}
     },
     "d4d42dea42174a87991473d77257ff42": {
      "model_module": "@jupyter-widgets/base",
      "model_module_version": "1.2.0",
      "model_name": "LayoutModel",
      "state": {}
     },
     "d4d5a6e7d8914a37a8459d96cdf0bbfa": {
      "model_module": "@jupyter-widgets/base",
      "model_module_version": "1.2.0",
      "model_name": "LayoutModel",
      "state": {
       "width": "auto"
      }
     },
     "d4e98ab5d4344212ae63e9c9ebd4962d": {
      "model_module": "@jupyter-widgets/controls",
      "model_module_version": "1.5.0",
      "model_name": "VBoxModel",
      "state": {
       "children": [
        "IPY_MODEL_4e5a99bd77574b0fbd2e643b38fedb73",
        "IPY_MODEL_92ea3ff0d82047ed8e6b666d39205733"
       ],
       "layout": "IPY_MODEL_d12606f4ea4d4a3fa4d049a73db7c289"
      }
     },
     "d4fa55c79944478ca8bad6b9f3f33ecc": {
      "model_module": "@jupyter-widgets/base",
      "model_module_version": "1.2.0",
      "model_name": "LayoutModel",
      "state": {}
     },
     "d50cfcf0f2824076b7872f7cc29c10b9": {
      "model_module": "@jupyter-widgets/controls",
      "model_module_version": "1.5.0",
      "model_name": "VBoxModel",
      "state": {
       "children": [
        "IPY_MODEL_13bdb5432822459da3b9942936039473"
       ],
       "layout": "IPY_MODEL_35b8ef037a0c4759bcfe96e1892a3eb9"
      }
     },
     "d52fe223a44f47ac9e24b7bef87a9bb9": {
      "model_module": "@jupyter-widgets/controls",
      "model_module_version": "1.5.0",
      "model_name": "HTMLModel",
      "state": {
       "layout": "IPY_MODEL_2dfd017b9b6d4b1c882c0eac6ecc4c41",
       "placeholder": "",
       "style": "IPY_MODEL_e66ca3bebcd046c1831a431bd5d2b543",
       "value": "<span style=\"margin-left:10px; color:black;\">No file selected</span>"
      }
     },
     "d57259a1c58b491e9d8379b60c21d0dc": {
      "model_module": "@jupyter-widgets/base",
      "model_module_version": "1.2.0",
      "model_name": "LayoutModel",
      "state": {}
     },
     "d612b4dc54f64e0781da818f8ff1ab5d": {
      "model_module": "@jupyter-widgets/controls",
      "model_module_version": "1.5.0",
      "model_name": "LabelModel",
      "state": {
       "layout": "IPY_MODEL_de94958429f94e609075e74f1cdd7ebc",
       "style": "IPY_MODEL_df5c3d7d6d4e44c384a35335037be837",
       "value": "Workspace"
      }
     },
     "d67c2f4b90984fd094450264d1a37bd3": {
      "model_module": "@jupyter-widgets/controls",
      "model_module_version": "1.5.0",
      "model_name": "HBoxModel",
      "state": {
       "children": [
        "IPY_MODEL_7c6046f19c4c49f78325c115e5321c0c",
        "IPY_MODEL_aa9e6111eacf4e04ad1e84f3ac417465",
        "IPY_MODEL_77842088849e4f89b3b10b92f8e24540"
       ],
       "layout": "IPY_MODEL_ac6b22662ca442a5b1834f818c157de2"
      }
     },
     "d695e1eab03e4b37b6472ef542a10e1f": {
      "model_module": "@jupyter-widgets/controls",
      "model_module_version": "1.5.0",
      "model_name": "SelectModel",
      "state": {
       "_options_labels": [
        "..",
        "dask-worker-space",
        "images",
        "GEOSCIENCEtemp",
        "Untitled.ipynb",
        "base_application.ipynb",
        "calculator.ipynb",
        "clustering.ipynb",
        "contouring.ipynb",
        "coordinate_transformation.ipynb",
        "create_isosurface.ipynb",
        "create_surface.ipynb",
        "data_interpolation.ipynb",
        "edge_detection.ipynb",
        "export.ipynb",
        "geophysical_inversion.ipynb",
        "object_data_selection.ipynb",
        "peak_finder.ipynb",
        "scatter.ipynb",
        "view_selection.ipynb"
       ],
       "index": null,
       "layout": "IPY_MODEL_59558b19d46440c8b59114937b13951f",
       "rows": 8,
       "style": "IPY_MODEL_71c7f0121c4a4d2bb865dfb370faf402"
      }
     },
     "d6a86223656a42bca7ecea85aa6d3d8e": {
      "model_module": "@jupyter-widgets/controls",
      "model_module_version": "1.5.0",
      "model_name": "DescriptionStyleModel",
      "state": {
       "description_width": ""
      }
     },
     "d6b45fc3cfda459ba07cd7b067e1505a": {
      "model_module": "@jupyter-widgets/controls",
      "model_module_version": "1.5.0",
      "model_name": "HTMLModel",
      "state": {
       "layout": "IPY_MODEL_10cdbc93e2c74daeb116c768f928e89b",
       "style": "IPY_MODEL_96f56ddfcafe4b3493d95a7e933f7552"
      }
     },
     "d6eb52e42bbd4c42bfb389713f3bb72f": {
      "model_module": "@jupyter-widgets/controls",
      "model_module_version": "1.5.0",
      "model_name": "DescriptionStyleModel",
      "state": {
       "description_width": "initial"
      }
     },
     "d6f80ba21d3f499dac9cba85e2ccb579": {
      "model_module": "@jupyter-widgets/controls",
      "model_module_version": "1.5.0",
      "model_name": "DescriptionStyleModel",
      "state": {
       "description_width": "initial"
      }
     },
     "d700b10bea3842e18ca3449644f4e1cd": {
      "model_module": "@jupyter-widgets/controls",
      "model_module_version": "1.5.0",
      "model_name": "DescriptionStyleModel",
      "state": {
       "description_width": ""
      }
     },
     "d72fa429651148beb7ce95e9b26c28f4": {
      "model_module": "@jupyter-widgets/controls",
      "model_module_version": "1.5.0",
      "model_name": "SliderStyleModel",
      "state": {
       "description_width": "initial"
      }
     },
     "d76015d7ae404cea924e05a528abf349": {
      "model_module": "@jupyter-widgets/controls",
      "model_module_version": "1.5.0",
      "model_name": "DescriptionStyleModel",
      "state": {
       "description_width": ""
      }
     },
     "d77055086b184299a6614eebd3fcc726": {
      "model_module": "@jupyter-widgets/controls",
      "model_module_version": "1.5.0",
      "model_name": "TextModel",
      "state": {
       "description": "Error (%, floor)",
       "layout": "IPY_MODEL_00b541a96b824baf9e99e4be85f6b27b",
       "style": "IPY_MODEL_a1357169cc544681a9099176d1c55753",
       "value": "0, 1"
      }
     },
     "d7e85eddd1c9411c82413195583c7d93": {
      "model_module": "@jupyter-widgets/controls",
      "model_module_version": "1.5.0",
      "model_name": "LabelModel",
      "state": {
       "layout": "IPY_MODEL_1bdfe4dbc5854900b9d6a206447764d1",
       "style": "IPY_MODEL_24c91ea63cc8462a8afbf1a77ac3e057",
       "value": "Workspace"
      }
     },
     "d8317828d27147d998be4fc2a096d2c7": {
      "model_module": "@jupyter-widgets/controls",
      "model_module_version": "1.5.0",
      "model_name": "VBoxModel",
      "state": {
       "children": [
        "IPY_MODEL_59de52258ccd4de784f26a5efe6a6e05",
        "IPY_MODEL_5e0a30548af845d7b2387c7022d03c2e",
        "IPY_MODEL_b392cd5a872f448aa093561badfcd286"
       ],
       "layout": "IPY_MODEL_ed728392f6ef459982ffb2855b87bb5e"
      }
     },
     "d843fb85afd74271b7a1f868b1ef2999": {
      "model_module": "@jupyter-widgets/controls",
      "model_module_version": "1.5.0",
      "model_name": "ButtonStyleModel",
      "state": {}
     },
     "d89e07164f8848718d6c9caae0783d9c": {
      "model_module": "@jupyter-widgets/base",
      "model_module_version": "1.2.0",
      "model_name": "LayoutModel",
      "state": {}
     },
     "d8c825d13b03427bbcb4869b826be8bf": {
      "model_module": "@jupyter-widgets/controls",
      "model_module_version": "1.5.0",
      "model_name": "DescriptionStyleModel",
      "state": {
       "description_width": "initial"
      }
     },
     "d919f6e6b63d429d8f2ca7cc9b95f322": {
      "model_module": "@jupyter-widgets/controls",
      "model_module_version": "1.5.0",
      "model_name": "ButtonModel",
      "state": {
       "description": "Select",
       "layout": "IPY_MODEL_d4d5a6e7d8914a37a8459d96cdf0bbfa",
       "style": "IPY_MODEL_16c14386dd884589b5ea6beba4b1fb78"
      }
     },
     "d93667433cca4311bd851868ce7776cc": {
      "model_module": "@jupyter-widgets/base",
      "model_module_version": "1.2.0",
      "model_name": "LayoutModel",
      "state": {
       "width": "auto"
      }
     },
     "d968b9af2e1945219b207043127cf860": {
      "model_module": "@jupyter-widgets/controls",
      "model_module_version": "1.5.0",
      "model_name": "DescriptionStyleModel",
      "state": {
       "description_width": ""
      }
     },
     "d98534fba9124b179085c92b256f0955": {
      "model_module": "@jupyter-widgets/base",
      "model_module_version": "1.2.0",
      "model_name": "LayoutModel",
      "state": {
       "grid_area": "filename",
       "width": "auto"
      }
     },
     "d9b4c1f18d004665b33b9d0dcec328e2": {
      "model_module": "@jupyter-widgets/controls",
      "model_module_version": "1.5.0",
      "model_name": "DescriptionStyleModel",
      "state": {
       "description_width": ""
      }
     },
     "d9eb50cf75e24c28a6774e490001833d": {
      "model_module": "@jupyter-widgets/base",
      "model_module_version": "1.2.0",
      "model_name": "LayoutModel",
      "state": {}
     },
     "d9f20db7a3a7495f8d24c8eea11367cb": {
      "model_module": "@jupyter-widgets/controls",
      "model_module_version": "1.5.0",
      "model_name": "DescriptionStyleModel",
      "state": {
       "description_width": "initial"
      }
     },
     "da5a1a4ad34148a0b27c66d83d4eb2e5": {
      "model_module": "@jupyter-widgets/base",
      "model_module_version": "1.2.0",
      "model_name": "LayoutModel",
      "state": {
       "width": "auto"
      }
     },
     "dacc2c62f77042c79bf0d2528a231692": {
      "model_module": "@jupyter-widgets/controls",
      "model_module_version": "1.5.0",
      "model_name": "SelectModel",
      "state": {
       "_options_labels": [
        "..",
        "dask-worker-space",
        "images"
       ],
       "index": null,
       "layout": "IPY_MODEL_a6cd3f3dd86947b8af7dd5c373fa7502",
       "rows": 8,
       "style": "IPY_MODEL_d700b10bea3842e18ca3449644f4e1cd"
      }
     },
     "db2ca417135e4d6582e642c89072fc1a": {
      "model_module": "@jupyter-widgets/controls",
      "model_module_version": "1.5.0",
      "model_name": "DescriptionStyleModel",
      "state": {
       "description_width": ""
      }
     },
     "dbc37774e8f443e8af92d7c6e177f9de": {
      "model_module": "@jupyter-widgets/controls",
      "model_module_version": "1.5.0",
      "model_name": "DescriptionStyleModel",
      "state": {
       "description_width": "initial"
      }
     },
     "dbcead9448b94f02b23e9a9fc1e679fb": {
      "model_module": "@jupyter-widgets/base",
      "model_module_version": "1.2.0",
      "model_name": "LayoutModel",
      "state": {}
     },
     "dc041b6366b54df88cb8c44029e51563": {
      "model_module": "@jupyter-widgets/base",
      "model_module_version": "1.2.0",
      "model_name": "LayoutModel",
      "state": {
       "display": "none"
      }
     },
     "dc3e3aa42e0644cf9355b2808a42f4b6": {
      "model_module": "@jupyter-widgets/controls",
      "model_module_version": "1.5.0",
      "model_name": "DescriptionStyleModel",
      "state": {
       "description_width": ""
      }
     },
     "dcb72f79e72f4dbfb54393451fb3653b": {
      "model_module": "@jupyter-widgets/base",
      "model_module_version": "1.2.0",
      "model_name": "LayoutModel",
      "state": {}
     },
     "dccfabcccdff4285826bf54fef76c12f": {
      "model_module": "@jupyter-widgets/controls",
      "model_module_version": "1.5.0",
      "model_name": "CheckboxModel",
      "state": {
       "description": "GA Pro - Live link",
       "disabled": false,
       "indent": false,
       "layout": "IPY_MODEL_578bd78c2c224b2cbf68681f097a380e",
       "style": "IPY_MODEL_e9a3af70291e4540a856922bcfed060b",
       "value": false
      }
     },
     "dd008d7f70bc415988eb5cbfab800b36": {
      "model_module": "@jupyter-widgets/controls",
      "model_module_version": "1.5.0",
      "model_name": "DescriptionStyleModel",
      "state": {
       "description_width": ""
      }
     },
     "dd7e4152ba9e4f1a971bade708612ea4": {
      "model_module": "@jupyter-widgets/base",
      "model_module_version": "1.2.0",
      "model_name": "LayoutModel",
      "state": {}
     },
     "dd7e6684040a48c29df006a7bb294d53": {
      "model_module": "@jupyter-widgets/controls",
      "model_module_version": "1.5.0",
      "model_name": "SelectModel",
      "state": {
       "_options_labels": [
        "..",
        "Temp"
       ],
       "index": null,
       "layout": "IPY_MODEL_20058a5efddb402e923ca9cdcbe953d4",
       "rows": 8,
       "style": "IPY_MODEL_6ace7630d86f4ce8b745a9a4b8ea5ccf"
      }
     },
     "ddc8961a7c9843999df090db13ced613": {
      "model_module": "@jupyter-widgets/base",
      "model_module_version": "1.2.0",
      "model_name": "LayoutModel",
      "state": {}
     },
     "ddf5e33079c14c16b8f2dd1c37dd9a60": {
      "model_module": "@jupyter-widgets/controls",
      "model_module_version": "1.5.0",
      "model_name": "DescriptionStyleModel",
      "state": {
       "description_width": ""
      }
     },
     "de94958429f94e609075e74f1cdd7ebc": {
      "model_module": "@jupyter-widgets/base",
      "model_module_version": "1.2.0",
      "model_name": "LayoutModel",
      "state": {}
     },
     "deaa21c6ce95447586059f34674ac216": {
      "model_module": "@jupyter-widgets/base",
      "model_module_version": "1.2.0",
      "model_name": "LayoutModel",
      "state": {}
     },
     "df3d62322c144212841bf9eb5ed90ea2": {
      "model_module": "@jupyter-widgets/base",
      "model_module_version": "1.2.0",
      "model_name": "LayoutModel",
      "state": {}
     },
     "df5c3d7d6d4e44c384a35335037be837": {
      "model_module": "@jupyter-widgets/controls",
      "model_module_version": "1.5.0",
      "model_name": "DescriptionStyleModel",
      "state": {
       "description_width": "initial"
      }
     },
     "e020a0594dd84f81b0228df550c1e4d1": {
      "model_module": "@jupyter-widgets/controls",
      "model_module_version": "1.5.0",
      "model_name": "DescriptionStyleModel",
      "state": {
       "description_width": ""
      }
     },
     "e0a7f9f7a19146c49814ad7bc4e576cc": {
      "model_module": "@jupyter-widgets/controls",
      "model_module_version": "1.5.0",
      "model_name": "FloatTextModel",
      "state": {
       "description": "Air cells fill value",
       "layout": "IPY_MODEL_e8384cff75524d81bb5654e42bf9589b",
       "step": null,
       "style": "IPY_MODEL_eb3fdace947b4db79ee32fbb5dadc376"
      }
     },
     "e0c3eaaf196b445d8b5f8825ed1fd2c1": {
      "model_module": "@jupyter-widgets/controls",
      "model_module_version": "1.5.0",
      "model_name": "DescriptionStyleModel",
      "state": {
       "description_width": ""
      }
     },
     "e0d099fd2fcd4e878a680d133cfba291": {
      "model_module": "@jupyter-widgets/controls",
      "model_module_version": "1.5.0",
      "model_name": "SelectModel",
      "state": {
       "_options_labels": [
        "..",
        "dask-worker-space",
        "images"
       ],
       "index": null,
       "layout": "IPY_MODEL_82a24ac673934a5293f30a3210ee3de2",
       "rows": 8,
       "style": "IPY_MODEL_0cb2a8a311c347b8994abc11432c6638"
      }
     },
     "e0d36fe607244647a71ce55bc9a1df5c": {
      "model_module": "@jupyter-widgets/controls",
      "model_module_version": "1.5.0",
      "model_name": "DescriptionStyleModel",
      "state": {
       "description_width": ""
      }
     },
     "e11f5e0b91e84c9990f520922c78b606": {
      "model_module": "@jupyter-widgets/base",
      "model_module_version": "1.2.0",
      "model_name": "LayoutModel",
      "state": {
       "grid_area": "pathlist",
       "width": "auto"
      }
     },
     "e18c16b1f5e24564bdc08521b6769d19": {
      "model_module": "@jupyter-widgets/base",
      "model_module_version": "1.2.0",
      "model_name": "LayoutModel",
      "state": {
       "grid_area": "pathlist",
       "width": "auto"
      }
     },
     "e19fbcf2fd4b426c8e366c9a92522827": {
      "model_module": "@jupyter-widgets/base",
      "model_module_version": "1.2.0",
      "model_name": "LayoutModel",
      "state": {
       "display": "none",
       "grid_area": "filename",
       "width": "auto"
      }
     },
     "e1a014daa56c48da999f1cebb72df532": {
      "model_module": "@jupyter-widgets/controls",
      "model_module_version": "1.5.0",
      "model_name": "DescriptionStyleModel",
      "state": {
       "description_width": "initial"
      }
     },
     "e1b4d50677e54b82b3e2f83e45b194ca": {
      "model_module": "@jupyter-widgets/base",
      "model_module_version": "1.2.0",
      "model_name": "LayoutModel",
      "state": {}
     },
     "e1cd5bca784e437fbb4d921a11649b3a": {
      "model_module": "@jupyter-widgets/base",
      "model_module_version": "1.2.0",
      "model_name": "LayoutModel",
      "state": {}
     },
     "e2034b4a131949bbaf8bd001a92ebc81": {
      "model_module": "@jupyter-widgets/base",
      "model_module_version": "1.2.0",
      "model_name": "LayoutModel",
      "state": {
       "display": "none"
      }
     },
     "e20af906d60545e2a3aa49d4f65b4ef3": {
      "model_module": "@jupyter-widgets/base",
      "model_module_version": "1.2.0",
      "model_name": "LayoutModel",
      "state": {}
     },
     "e24464d6600745e6948a2fd57c968c0e": {
      "model_module": "@jupyter-widgets/controls",
      "model_module_version": "1.5.0",
      "model_name": "TextModel",
      "state": {
       "description": "Error (%, floor)",
       "layout": "IPY_MODEL_c65b49b538f34c669a84f39b6c1b1cd0",
       "style": "IPY_MODEL_a3edbc60316b4ba0ada4a586210e7b9d",
       "value": "0, 1"
      }
     },
     "e2463c916e0241299d0e206c554e8a5b": {
      "model_module": "@jupyter-widgets/controls",
      "model_module_version": "1.5.0",
      "model_name": "TextModel",
      "state": {
       "description": "Layers below topo",
       "layout": "IPY_MODEL_c23d0c66924642aabe5045be5f254dba",
       "style": "IPY_MODEL_7a6fbbae7f234fa6b3b20f24001bd95c",
       "value": "0, 0, 0, 2"
      }
     },
     "e24d0b18a43246adbe35c1991fc29b59": {
      "model_module": "@jupyter-widgets/controls",
      "model_module_version": "1.5.0",
      "model_name": "VBoxModel",
      "state": {
       "children": [
        "IPY_MODEL_5a70489d23e248aeb9e7a3b8c7cd28cc",
        "IPY_MODEL_85f14378f33143f482964246f714d61c"
       ],
       "layout": "IPY_MODEL_4acca38696884bb1ac2efd4b3ded9421"
      }
     },
     "e24d68963c334e18b4ca4e79e4178ee0": {
      "model_module": "@jupyter-widgets/controls",
      "model_module_version": "1.5.0",
      "model_name": "HBoxModel",
      "state": {
       "children": [
        "IPY_MODEL_825b028c312f4f7eaf733483dfd2c2a0",
        "IPY_MODEL_340e61877eb4455ab0a904ae9afafbea"
       ],
       "layout": "IPY_MODEL_af6eeac674314302944f5f3bdfa898cc"
      }
     },
     "e26f0308d0ca47bab6143455f13b76f7": {
      "model_module": "@jupyter-widgets/controls",
      "model_module_version": "1.5.0",
      "model_name": "ToggleButtonModel",
      "state": {
       "layout": "IPY_MODEL_be0e266ff05943eeaf24d0f63b6357f1",
       "style": "IPY_MODEL_8e6dbe7b1dd14bf190067d780430f520"
      }
     },
     "e282fa86b8c34c298cc9486fca955dec": {
      "model_module": "@jupyter-widgets/base",
      "model_module_version": "1.2.0",
      "model_name": "LayoutModel",
      "state": {}
     },
     "e2ca97f003004aac93d26824a2b59495": {
      "model_module": "@jupyter-widgets/controls",
      "model_module_version": "1.5.0",
      "model_name": "DropdownModel",
      "state": {
       "_options_labels": [
        "",
        "--- Channels ---",
        "Airborne_Gxx",
        "Airborne_Gxy",
        "Airborne_Gxz",
        "Airborne_Gyy",
        "Airborne_Gyz",
        "Airborne_Gz",
        "Airborne_Gzz",
        "Airborne_TMI",
        "Ground_Gz",
        "Z"
       ],
       "description": "Channel <=> Data:",
       "index": 0,
       "layout": "IPY_MODEL_c3c30cbd87204ac5a39da6b2c303dcc2",
       "style": "IPY_MODEL_5743e8a9557b414da62b3e53951c4115"
      }
     },
     "e2f03acc78b94b1fad64a15a49a8df3e": {
      "model_module": "@jupyter-widgets/base",
      "model_module_version": "1.2.0",
      "model_name": "LayoutModel",
      "state": {}
     },
     "e2ff39a02dce409db6790b56b32505a9": {
      "model_module": "@jupyter-widgets/controls",
      "model_module_version": "1.5.0",
      "model_name": "DescriptionStyleModel",
      "state": {
       "description_width": ""
      }
     },
     "e31b542b19e64f9cbac5df27e9d40679": {
      "model_module": "@jupyter-widgets/base",
      "model_module_version": "1.2.0",
      "model_name": "LayoutModel",
      "state": {}
     },
     "e37c834f1f3545d891c4d0fa7025c4dc": {
      "model_module": "@jupyter-widgets/controls",
      "model_module_version": "1.5.0",
      "model_name": "SelectModel",
      "state": {
       "_options_labels": [
        "..",
        "dask-worker-space",
        "images"
       ],
       "index": null,
       "layout": "IPY_MODEL_c891fda561504deeb6dd4b03ff126783",
       "rows": 8,
       "style": "IPY_MODEL_493889d792184f3db14fa0820a56669c"
      }
     },
     "e3a01f1dce55488099dc1a5ee59ff3a7": {
      "model_module": "@jupyter-widgets/base",
      "model_module_version": "1.2.0",
      "model_name": "LayoutModel",
      "state": {
       "display": "none",
       "width": "auto"
      }
     },
     "e3ba5e607b8b4121baae3f882280c306": {
      "model_module": "@jupyter-widgets/base",
      "model_module_version": "1.2.0",
      "model_name": "LayoutModel",
      "state": {
       "width": "auto"
      }
     },
     "e3d409cf0ea048b997d19c570268395e": {
      "model_module": "@jupyter-widgets/controls",
      "model_module_version": "1.5.0",
      "model_name": "DescriptionStyleModel",
      "state": {
       "description_width": ""
      }
     },
     "e3d5ed96cf704d6f99e68508f6f83af1": {
      "model_module": "@jupyter-widgets/base",
      "model_module_version": "1.2.0",
      "model_name": "LayoutModel",
      "state": {
       "width": "auto"
      }
     },
     "e486c8cf75f2427487c703cb589641ef": {
      "model_module": "@jupyter-widgets/controls",
      "model_module_version": "1.5.0",
      "model_name": "IntTextModel",
      "state": {
       "description": "Max CPUs",
       "layout": "IPY_MODEL_d4b68b52444849b4a72f75b75cec8a54",
       "step": 1,
       "style": "IPY_MODEL_e9d95999cdd04093a496f6a9175b7a75",
       "value": 6
      }
     },
     "e4e5e6803e8d49b7a02339dc06ccd8b2": {
      "model_module": "@jupyter-widgets/controls",
      "model_module_version": "1.5.0",
      "model_name": "DescriptionStyleModel",
      "state": {
       "description_width": "initial"
      }
     },
     "e4e95d89a4904af99712034b94e88c13": {
      "model_module": "@jupyter-widgets/controls",
      "model_module_version": "1.5.0",
      "model_name": "DescriptionStyleModel",
      "state": {
       "description_width": ""
      }
     },
     "e534e0bc5b154516bcbdefc9236fe4fe": {
      "model_module": "@jupyter-widgets/controls",
      "model_module_version": "1.5.0",
      "model_name": "ButtonModel",
      "state": {
       "description": "Cancel",
       "layout": "IPY_MODEL_17da73a7e57f43a59e6e2adf2d96c33e",
       "style": "IPY_MODEL_038197cce37846bf968b5f0dff78e76b"
      }
     },
     "e5958acb71584396a12725fd7582e1ab": {
      "model_module": "@jupyter-widgets/controls",
      "model_module_version": "1.5.0",
      "model_name": "DescriptionStyleModel",
      "state": {
       "description_width": ""
      }
     },
     "e5aa96076ab04fb7bb5ea4e7dd47628b": {
      "model_module": "@jupyter-widgets/base",
      "model_module_version": "1.2.0",
      "model_name": "LayoutModel",
      "state": {}
     },
     "e5bbc2fc798f40a4afc5eb4ac2eb413a": {
      "model_module": "@jupyter-widgets/controls",
      "model_module_version": "1.5.0",
      "model_name": "SliderStyleModel",
      "state": {
       "description_width": ""
      }
     },
     "e5e5a26e22434102a6950c6cdab84d74": {
      "model_module": "@jupyter-widgets/base",
      "model_module_version": "1.2.0",
      "model_name": "LayoutModel",
      "state": {}
     },
     "e5e8efa47aa4422783afd26195bcab89": {
      "model_module": "@jupyter-widgets/controls",
      "model_module_version": "1.5.0",
      "model_name": "VBoxModel",
      "state": {
       "children": [
        "IPY_MODEL_53020c77f5374740a970153db2ac22b6",
        "IPY_MODEL_d3d9b3788156438aaf743542f7f142cd"
       ],
       "layout": "IPY_MODEL_7a3fcf97cfcd44769ad503027ab7ac13"
      }
     },
     "e5eed8cb0b0948168f17930998382618": {
      "model_module": "@jupyter-widgets/base",
      "model_module_version": "1.2.0",
      "model_name": "LayoutModel",
      "state": {
       "grid_area": "filename",
       "width": "auto"
      }
     },
     "e5f901216c504e368498907f20ca6152": {
      "model_module": "@jupyter-widgets/controls",
      "model_module_version": "1.5.0",
      "model_name": "VBoxModel",
      "state": {
       "children": [
        "IPY_MODEL_407cbb0a69e741c985f6b9990c6cb828",
        "IPY_MODEL_2eec9c2b24324b9086d6e6c9aebabae9",
        "IPY_MODEL_70b5bf072f7f44ce859f0bb34c19b9fb",
        "IPY_MODEL_05ae36b4cd124881bf50699ec3113a62",
        "IPY_MODEL_f10b2ea4a1994f3fa672e08804775271"
       ],
       "layout": "IPY_MODEL_4e2d70495e274e30be60d625c1c43537"
      }
     },
     "e607bd9996dd42779ed15343d9e09205": {
      "model_module": "@jupyter-widgets/base",
      "model_module_version": "1.2.0",
      "model_name": "LayoutModel",
      "state": {}
     },
     "e627dfa1de504d46b0ec6b571344cc5f": {
      "model_module": "@jupyter-widgets/controls",
      "model_module_version": "1.5.0",
      "model_name": "HTMLModel",
      "state": {
       "layout": "IPY_MODEL_dc041b6366b54df88cb8c44029e51563",
       "style": "IPY_MODEL_c3a3d087cf434a9fb569e4f93770079f"
      }
     },
     "e667bd83031b427eb8fb867d5cd75672": {
      "model_module": "@jupyter-widgets/base",
      "model_module_version": "1.2.0",
      "model_name": "LayoutModel",
      "state": {}
     },
     "e66ca3bebcd046c1831a431bd5d2b543": {
      "model_module": "@jupyter-widgets/controls",
      "model_module_version": "1.5.0",
      "model_name": "DescriptionStyleModel",
      "state": {
       "description_width": ""
      }
     },
     "e71043234e5042149da6f4a1d73f8acf": {
      "model_module": "@jupyter-widgets/controls",
      "model_module_version": "1.5.0",
      "model_name": "VBoxModel",
      "state": {
       "children": [
        "IPY_MODEL_ab2093fb6f834115a6773d843cd38011",
        "IPY_MODEL_956ee1f7f4894b6d8b3f01d53cb60ad4"
       ],
       "layout": "IPY_MODEL_305a7ce58c104139a353c10533828db0"
      }
     },
     "e7626b6c7baf47fcad7b43774f25c2cc": {
      "model_module": "@jupyter-widgets/controls",
      "model_module_version": "1.5.0",
      "model_name": "DescriptionStyleModel",
      "state": {
       "description_width": ""
      }
     },
     "e7e27192775e4d35a5fee6b5ea65f436": {
      "model_module": "@jupyter-widgets/controls",
      "model_module_version": "1.5.0",
      "model_name": "DescriptionStyleModel",
      "state": {
       "description_width": ""
      }
     },
     "e7efed729c91433babb0cb9ae5444f40": {
      "model_module": "@jupyter-widgets/controls",
      "model_module_version": "1.5.0",
      "model_name": "ButtonStyleModel",
      "state": {}
     },
     "e8384cff75524d81bb5654e42bf9589b": {
      "model_module": "@jupyter-widgets/base",
      "model_module_version": "1.2.0",
      "model_name": "LayoutModel",
      "state": {}
     },
     "e848ee7cf44b490f8c3553f48a0e2c34": {
      "model_module": "@jupyter-widgets/base",
      "model_module_version": "1.2.0",
      "model_name": "LayoutModel",
      "state": {}
     },
     "e8650f7b8d964b3c95b373c0cee7616c": {
      "model_module": "@jupyter-widgets/controls",
      "model_module_version": "1.5.0",
      "model_name": "DescriptionStyleModel",
      "state": {
       "description_width": ""
      }
     },
     "e89aad6a4703444cafb2af211349316e": {
      "model_module": "@jupyter-widgets/controls",
      "model_module_version": "1.5.0",
      "model_name": "TextModel",
      "state": {
       "description": "bxx",
       "layout": "IPY_MODEL_26ab6cd52b9b43dda9775335507a70f7",
       "style": "IPY_MODEL_c509855e3ea0481a9566a026a3763312"
      }
     },
     "e8b213b78ff94e92a432be9d3e2cf8ac": {
      "model_module": "@jupyter-widgets/base",
      "model_module_version": "1.2.0",
      "model_name": "LayoutModel",
      "state": {
       "display": "none",
       "width": "auto"
      }
     },
     "e8c2214dd334451e9939be1856ef8569": {
      "model_module": "@jupyter-widgets/controls",
      "model_module_version": "1.5.0",
      "model_name": "DescriptionStyleModel",
      "state": {
       "description_width": ""
      }
     },
     "e8d481db84534b0abfb8766bccef6832": {
      "model_module": "@jupyter-widgets/controls",
      "model_module_version": "1.5.0",
      "model_name": "DescriptionStyleModel",
      "state": {
       "description_width": ""
      }
     },
     "e8dab143b7e74d08a444e4fdc2096821": {
      "model_module": "@jupyter-widgets/controls",
      "model_module_version": "1.5.0",
      "model_name": "CheckboxModel",
      "state": {
       "description": "Active",
       "disabled": false,
       "layout": "IPY_MODEL_c13b8f1d670c47e1b815e41b07e0d24f",
       "style": "IPY_MODEL_8bc7cf314f35443c8106e089b5ff46b2",
       "value": false
      }
     },
     "e8dbdc8ef92d4d599a2d01b599ddd0ef": {
      "model_module": "@jupyter-widgets/controls",
      "model_module_version": "1.5.0",
      "model_name": "GridBoxModel",
      "state": {
       "children": [
        "IPY_MODEL_afbf4a3036254de48dcecc7d9b734885",
        "IPY_MODEL_03f256f8e71046dcbde37d83cb401acd",
        "IPY_MODEL_1570fbb35c5242119e77fd19d53eebee"
       ],
       "layout": "IPY_MODEL_0a8effa69f7342339305cde09f2e5a21"
      }
     },
     "e8f44393c9604ab4ac639419b326816c": {
      "model_module": "@jupyter-widgets/base",
      "model_module_version": "1.2.0",
      "model_name": "LayoutModel",
      "state": {
       "grid_area": "pathlist",
       "width": "auto"
      }
     },
     "e900d44af00b4c7da5fce8720a1b8f04": {
      "model_module": "@jupyter-widgets/base",
      "model_module_version": "1.2.0",
      "model_name": "LayoutModel",
      "state": {}
     },
     "e9a3af70291e4540a856922bcfed060b": {
      "model_module": "@jupyter-widgets/controls",
      "model_module_version": "1.5.0",
      "model_name": "DescriptionStyleModel",
      "state": {
       "description_width": "initial"
      }
     },
     "e9aba81c83514172ba58e08dc7d7c0c9": {
      "model_module": "@jupyter-widgets/controls",
      "model_module_version": "1.5.0",
      "model_name": "ButtonStyleModel",
      "state": {}
     },
     "e9d95999cdd04093a496f6a9175b7a75": {
      "model_module": "@jupyter-widgets/controls",
      "model_module_version": "1.5.0",
      "model_name": "DescriptionStyleModel",
      "state": {
       "description_width": ""
      }
     },
     "e9f708d9ba874ca09dda3bad8a1f0aae": {
      "model_module": "@jupyter-widgets/base",
      "model_module_version": "1.2.0",
      "model_name": "LayoutModel",
      "state": {}
     },
     "ea52d1d971ac47a9b4ffc3b12c7d083b": {
      "model_module": "@jupyter-widgets/controls",
      "model_module_version": "1.5.0",
      "model_name": "DescriptionStyleModel",
      "state": {
       "description_width": "initial"
      }
     },
     "ea54053234cb41239017bc12383c6be0": {
      "model_module": "@jupyter-widgets/controls",
      "model_module_version": "1.5.0",
      "model_name": "VBoxModel",
      "state": {
       "children": [
        "IPY_MODEL_ef78acdc0cd045b6b635b2cbce7d41cf",
        "IPY_MODEL_ac2149199cc4469dae60c6a7ea777c48"
       ],
       "layout": "IPY_MODEL_c4151debcda047d093030bdf19073e0e"
      }
     },
     "eae8338ec3ce48ed9891428b919a590c": {
      "model_module": "@jupyter-widgets/controls",
      "model_module_version": "1.5.0",
      "model_name": "FloatTextModel",
      "state": {
       "description": "Minimum depth (m)",
       "layout": "IPY_MODEL_463a76fc200f4beaa952bfe73cc36224",
       "step": null,
       "style": "IPY_MODEL_14b4877a2229490c893fbac4e7302fdc",
       "value": 500
      }
     },
     "eb2175fe722e42c4985b2179c6e53c41": {
      "model_module": "@jupyter-widgets/controls",
      "model_module_version": "1.5.0",
      "model_name": "ButtonStyleModel",
      "state": {}
     },
     "eb3582b9c2734ca091718fe96a0fbd6e": {
      "model_module": "@jupyter-widgets/base",
      "model_module_version": "1.2.0",
      "model_name": "LayoutModel",
      "state": {
       "grid_area": "pathlist",
       "width": "auto"
      }
     },
     "eb3fdace947b4db79ee32fbb5dadc376": {
      "model_module": "@jupyter-widgets/controls",
      "model_module_version": "1.5.0",
      "model_name": "DescriptionStyleModel",
      "state": {
       "description_width": ""
      }
     },
     "ebadbc39623d46a1b0e9e15386ecce8c": {
      "model_module": "@jupyter-widgets/controls",
      "model_module_version": "1.5.0",
      "model_name": "CheckboxModel",
      "state": {
       "description": "Active",
       "disabled": false,
       "layout": "IPY_MODEL_fe0f4ff04fe64821874de05c4907f4c5",
       "style": "IPY_MODEL_9de0ae1bab5c4218860db76814e6d90b",
       "value": false
      }
     },
     "ebb930df7b9646fbac23748f22970ed3": {
      "model_module": "@jupyter-widgets/base",
      "model_module_version": "1.2.0",
      "model_name": "LayoutModel",
      "state": {}
     },
     "ebdd14c5ab5e4adbb7a7f03ebec36698": {
      "model_module": "@jupyter-widgets/controls",
      "model_module_version": "1.5.0",
      "model_name": "DropdownModel",
      "state": {
       "_options_labels": [
        "C:\\Users\\dominiquef\\Documents\\GIT\\mira\\mirageoscience-apps\\docs\\content\\applications",
        "C:\\Users\\dominiquef\\Documents\\GIT\\mira\\mirageoscience-apps\\docs\\content",
        "C:\\Users\\dominiquef\\Documents\\GIT\\mira\\mirageoscience-apps\\docs",
        "C:\\Users\\dominiquef\\Documents\\GIT\\mira\\mirageoscience-apps",
        "C:\\Users\\dominiquef\\Documents\\GIT\\mira",
        "C:\\Users\\dominiquef\\Documents\\GIT",
        "C:\\Users\\dominiquef\\Documents",
        "C:\\Users\\dominiquef",
        "C:\\Users",
        "C:\\",
        "D:\\",
        "Z:\\"
       ],
       "index": 0,
       "layout": "IPY_MODEL_e11f5e0b91e84c9990f520922c78b606",
       "style": "IPY_MODEL_171127c470c14724b1391827b1f4842a"
      }
     },
     "ebdda7cd0b014bc6bba2ba0a4518f16a": {
      "model_module": "@jupyter-widgets/controls",
      "model_module_version": "1.5.0",
      "model_name": "DescriptionStyleModel",
      "state": {
       "description_width": ""
      }
     },
     "ec2873b9ae5c41248cb604202d0c0a33": {
      "model_module": "@jupyter-widgets/controls",
      "model_module_version": "1.5.0",
      "model_name": "SliderStyleModel",
      "state": {
       "description_width": "initial"
      }
     },
     "ec51ccf5901c42ea9dd383f091e8d2a1": {
      "model_module": "@jupyter-widgets/controls",
      "model_module_version": "1.5.0",
      "model_name": "ButtonModel",
      "state": {
       "button_style": "danger",
       "description": "Compute",
       "icon": "check",
       "layout": "IPY_MODEL_fd7279f9b2634a8c8346072bd27090cb",
       "style": "IPY_MODEL_cf3ff934131d4afaa6527ddaa0843ce7",
       "tooltip": "Run computation"
      }
     },
     "eca9103955ae4aa58c6464c64c68e5f6": {
      "model_module": "@jupyter-widgets/controls",
      "model_module_version": "1.5.0",
      "model_name": "DescriptionStyleModel",
      "state": {
       "description_width": ""
      }
     },
     "ecacd7a0012f4df6b50425e055e3a6db": {
      "model_module": "@jupyter-widgets/controls",
      "model_module_version": "1.5.0",
      "model_name": "HBoxModel",
      "state": {
       "children": [
        "IPY_MODEL_0af83f04cc0f4a9fba2516829718e673",
        "IPY_MODEL_eecdaf5f6ecf40499e83fe13b6ea1420",
        "IPY_MODEL_8ff7a205e3984fc998386247f874ac19"
       ],
       "layout": "IPY_MODEL_e3ba5e607b8b4121baae3f882280c306"
      }
     },
     "ecad282356874699ba605f917ee9fae3": {
      "model_module": "@jupyter-widgets/base",
      "model_module_version": "1.2.0",
      "model_name": "LayoutModel",
      "state": {
       "display": "none",
       "grid_area": "filename",
       "width": "auto"
      }
     },
     "ece5005b13954ae3ac271381a00ff893": {
      "model_module": "@jupyter-widgets/controls",
      "model_module_version": "1.5.0",
      "model_name": "VBoxModel",
      "state": {
       "children": [
        "IPY_MODEL_85f08d9abf444e65a67d6dc352f50f52",
        "IPY_MODEL_7f53cbbf052c4a1db0f4eb10dce0e694",
        "IPY_MODEL_51fbba03e02f4b4aa4db5006b4110cfe"
       ],
       "layout": "IPY_MODEL_01dfc78b3ebd4d058ed78f2aa9702efb"
      }
     },
     "ed12d453026244798bdd099ef9b4dc5f": {
      "model_module": "@jupyter-widgets/base",
      "model_module_version": "1.2.0",
      "model_name": "LayoutModel",
      "state": {
       "width": "auto"
      }
     },
     "ed728392f6ef459982ffb2855b87bb5e": {
      "model_module": "@jupyter-widgets/base",
      "model_module_version": "1.2.0",
      "model_name": "LayoutModel",
      "state": {}
     },
     "ee02a52f7ec146e6a40c0a708d410d3a": {
      "model_module": "@jupyter-widgets/base",
      "model_module_version": "1.2.0",
      "model_name": "LayoutModel",
      "state": {}
     },
     "ee88cfc727044337b0e73b33b1c1fdfc": {
      "model_module": "@jupyter-widgets/base",
      "model_module_version": "1.2.0",
      "model_name": "LayoutModel",
      "state": {}
     },
     "ee96db45ccae44d392f8d23c5371a4a6": {
      "model_module": "@jupyter-widgets/base",
      "model_module_version": "1.2.0",
      "model_name": "LayoutModel",
      "state": {}
     },
     "eeae7b8cd3e84a14b7adce2ebac8b349": {
      "model_module": "@jupyter-widgets/controls",
      "model_module_version": "1.5.0",
      "model_name": "ToggleButtonModel",
      "state": {
       "layout": "IPY_MODEL_4fbee1331b4843e19dded79aa0475a02",
       "style": "IPY_MODEL_f1eed451ca464eb69f4bd2ce772842be",
       "value": true
      }
     },
     "eec295642dac42edbbb3d78f4ec4a6ac": {
      "model_module": "@jupyter-widgets/base",
      "model_module_version": "1.2.0",
      "model_name": "LayoutModel",
      "state": {}
     },
     "eecc22bf0ab6458583115d0362037ed9": {
      "model_module": "@jupyter-widgets/controls",
      "model_module_version": "1.5.0",
      "model_name": "SelectModel",
      "state": {
       "_options_labels": [
        "..",
        "dask-worker-space",
        "images",
        "GEOSCIENCEtemp",
        "Untitled.ipynb",
        "base_application.ipynb",
        "calculator.ipynb",
        "clustering.ipynb",
        "contouring.ipynb",
        "coordinate_transformation.ipynb",
        "create_isosurface.ipynb",
        "create_surface.ipynb",
        "data_interpolation.ipynb",
        "edge_detection.ipynb",
        "export.ipynb",
        "geophysical_inversion.ipynb",
        "object_data_selection.ipynb",
        "peak_finder.ipynb",
        "scatter.ipynb",
        "view_selection.ipynb"
       ],
       "index": null,
       "layout": "IPY_MODEL_755b5386698e47ddbd16f7641bf1a106",
       "rows": 8,
       "style": "IPY_MODEL_33377f5b31d04038b2545935db9fa58f"
      }
     },
     "eecdaf5f6ecf40499e83fe13b6ea1420": {
      "model_module": "@jupyter-widgets/controls",
      "model_module_version": "1.5.0",
      "model_name": "ButtonModel",
      "state": {
       "description": "Cancel",
       "layout": "IPY_MODEL_e8b213b78ff94e92a432be9d3e2cf8ac",
       "style": "IPY_MODEL_b08383aaf6944098bec8f6d05defbbba"
      }
     },
     "eee50d70021a48bfbe8d71b09515ab69": {
      "model_module": "@jupyter-widgets/controls",
      "model_module_version": "1.5.0",
      "model_name": "TextModel",
      "state": {
       "continuous_update": false,
       "description": "Group:",
       "layout": "IPY_MODEL_af19ea0acc414fe2bcdf1046936fd406",
       "style": "IPY_MODEL_694dd590f1c24899a6e8102f74a56291"
      }
     },
     "ef4b135ec0e3488495e66e1c476e46b2": {
      "model_module": "@jupyter-widgets/base",
      "model_module_version": "1.2.0",
      "model_name": "LayoutModel",
      "state": {
       "width": "auto"
      }
     },
     "ef78acdc0cd045b6b635b2cbce7d41cf": {
      "model_module": "@jupyter-widgets/controls",
      "model_module_version": "1.5.0",
      "model_name": "LabelModel",
      "state": {
       "layout": "IPY_MODEL_6d511b50a3e74802b98099361318f01f",
       "style": "IPY_MODEL_9143946caf194ac48a0c2fa32c7ddf37",
       "value": "Monitoring folder"
      }
     },
     "effa0e3afeb9424297dc4c6ce7c57279": {
      "model_module": "@jupyter-widgets/controls",
      "model_module_version": "1.5.0",
      "model_name": "DescriptionStyleModel",
      "state": {
       "description_width": ""
      }
     },
     "f010119d74384cf383d65bd82d5f094a": {
      "model_module": "@jupyter-widgets/base",
      "model_module_version": "1.2.0",
      "model_name": "LayoutModel",
      "state": {
       "visibility": "hidden"
      }
     },
     "f08d5758a6f34416af9bdb92df650f91": {
      "model_module": "@jupyter-widgets/controls",
      "model_module_version": "1.5.0",
      "model_name": "CheckboxModel",
      "state": {
       "description": "Active",
       "disabled": false,
       "layout": "IPY_MODEL_168508d492b14a7b98cf03d7c37a504d",
       "style": "IPY_MODEL_6b8c4f6539e8490b9777e165bbe3fc7f",
       "value": false
      }
     },
     "f0d0bc71db0f452e96ac670256ca4024": {
      "model_module": "@jupyter-widgets/base",
      "model_module_version": "1.2.0",
      "model_name": "LayoutModel",
      "state": {}
     },
     "f10b2ea4a1994f3fa672e08804775271": {
      "model_module": "@jupyter-widgets/controls",
      "model_module_version": "1.5.0",
      "model_name": "LabelModel",
      "state": {
       "layout": "IPY_MODEL_052fdfabfbe74f15b8316382014a75dc",
       "style": "IPY_MODEL_70684f5cd3364bc9bd80b1a5626ed97c",
       "value": "Max depth: 477.27 m"
      }
     },
     "f11a05abcee645dc821929b8be83de59": {
      "model_module": "@jupyter-widgets/controls",
      "model_module_version": "1.5.0",
      "model_name": "VBoxModel",
      "state": {
       "children": [
        "IPY_MODEL_b09b4501237a4462ae0864a3fc088a89",
        "IPY_MODEL_4bd2e08ebd0b4be388afcda20e203920"
       ],
       "layout": "IPY_MODEL_8158c15f5f694eabb41dd661e08e8ed2"
      }
     },
     "f135050829e24015abe523c2390f600a": {
      "model_module": "@jupyter-widgets/controls",
      "model_module_version": "1.5.0",
      "model_name": "VBoxModel",
      "state": {
       "children": [
        "IPY_MODEL_cf3bcc8c0eb145a4abf92e01b1dde4d1",
        "IPY_MODEL_b07e822b34bf42c3a4cebde1f9d1a3f6"
       ],
       "layout": "IPY_MODEL_a0c6b879982548c0ad6cf54cff790d1a"
      }
     },
     "f147928cfba24d2cadd73b2201567a82": {
      "model_module": "@jupyter-widgets/controls",
      "model_module_version": "1.5.0",
      "model_name": "DropdownModel",
      "state": {
       "_options_labels": [
        "C:\\Users\\dominiquef\\Documents\\GIT\\mira\\mirageoscience-apps\\docs\\content\\applications",
        "C:\\Users\\dominiquef\\Documents\\GIT\\mira\\mirageoscience-apps\\docs\\content",
        "C:\\Users\\dominiquef\\Documents\\GIT\\mira\\mirageoscience-apps\\docs",
        "C:\\Users\\dominiquef\\Documents\\GIT\\mira\\mirageoscience-apps",
        "C:\\Users\\dominiquef\\Documents\\GIT\\mira",
        "C:\\Users\\dominiquef\\Documents\\GIT",
        "C:\\Users\\dominiquef\\Documents",
        "C:\\Users\\dominiquef",
        "C:\\Users",
        "C:\\",
        "D:\\",
        "Z:\\"
       ],
       "index": 0,
       "layout": "IPY_MODEL_8c8801c1edb642389872408a0f397cd5",
       "style": "IPY_MODEL_fade1954425f445e88c9168b2d4196d9"
      }
     },
     "f149c01fa57a4b64a04bb5cb936037b0": {
      "model_module": "@jupyter-widgets/base",
      "model_module_version": "1.2.0",
      "model_name": "LayoutModel",
      "state": {
       "grid_area": "pathlist",
       "width": "auto"
      }
     },
     "f16d45f9cc0b4213bebe83879dbef7fb": {
      "model_module": "@jupyter-widgets/controls",
      "model_module_version": "1.5.0",
      "model_name": "DescriptionStyleModel",
      "state": {
       "description_width": ""
      }
     },
     "f1d10d1b390c4d5cb3d9d22e93d5d1db": {
      "model_module": "@jupyter-widgets/controls",
      "model_module_version": "1.5.0",
      "model_name": "ButtonStyleModel",
      "state": {}
     },
     "f1e69a505db1427793797ee15e92a57f": {
      "model_module": "@jupyter-widgets/base",
      "model_module_version": "1.2.0",
      "model_name": "LayoutModel",
      "state": {}
     },
     "f1eed451ca464eb69f4bd2ce772842be": {
      "model_module": "@jupyter-widgets/controls",
      "model_module_version": "1.5.0",
      "model_name": "DescriptionStyleModel",
      "state": {
       "description_width": ""
      }
     },
     "f1f042c87fa3430d83f629d7a5d0718b": {
      "model_module": "@jupyter-widgets/controls",
      "model_module_version": "1.5.0",
      "model_name": "DescriptionStyleModel",
      "state": {
       "description_width": ""
      }
     },
     "f26a3c02aa104687babe49733fb3fc96": {
      "model_module": "@jupyter-widgets/controls",
      "model_module_version": "1.5.0",
      "model_name": "ButtonStyleModel",
      "state": {}
     },
     "f281209d51dc46b8b847caa9465b711b": {
      "model_module": "@jupyter-widgets/controls",
      "model_module_version": "1.5.0",
      "model_name": "DescriptionStyleModel",
      "state": {
       "description_width": ""
      }
     },
     "f2ba6e3cdb86474b8d11e97f02bd1fe8": {
      "model_module": "@jupyter-widgets/base",
      "model_module_version": "1.2.0",
      "model_name": "LayoutModel",
      "state": {}
     },
     "f2d66fed7aa54d6292a2a3c6f6c6ae87": {
      "model_module": "@jupyter-widgets/controls",
      "model_module_version": "1.5.0",
      "model_name": "ButtonModel",
      "state": {
       "description": "Cancel",
       "layout": "IPY_MODEL_d4bfd5e83328492f8cafcabd77c09159",
       "style": "IPY_MODEL_81ff4f0e49614b76aa0ebf2eeaa7a6b8"
      }
     },
     "f2dcd107eaf340e4a26c3f43ed8f7423": {
      "model_module": "@jupyter-widgets/base",
      "model_module_version": "1.2.0",
      "model_name": "LayoutModel",
      "state": {}
     },
     "f30cb6d1b7ad4a22a0fe6ee2086a8221": {
      "model_module": "@jupyter-widgets/controls",
      "model_module_version": "1.5.0",
      "model_name": "DropdownModel",
      "state": {
       "_options_labels": [
        "",
        "--- Channels ---",
        "Airborne_Gxx",
        "Airborne_Gxy",
        "Airborne_Gxz",
        "Airborne_Gyy",
        "Airborne_Gyz",
        "Airborne_Gz",
        "Airborne_Gzz",
        "Airborne_TMI",
        "Ground_Gz",
        "Z"
       ],
       "description": "Channel <=> Data:",
       "index": 11,
       "layout": "IPY_MODEL_7f3903a2e13a4a1e91d2ee087bdcb350",
       "style": "IPY_MODEL_5aa70e371b9c4ef79723eec9f6f102a0"
      }
     },
     "f38383c08f1f45c68a182c3cce49f6e5": {
      "model_module": "@jupyter-widgets/base",
      "model_module_version": "1.2.0",
      "model_name": "LayoutModel",
      "state": {
       "width": "auto"
      }
     },
     "f3a7a4f33764452d8dceac8673d928f3": {
      "model_module": "@jupyter-widgets/base",
      "model_module_version": "1.2.0",
      "model_name": "LayoutModel",
      "state": {
       "grid_area": "filename",
       "width": "auto"
      }
     },
     "f4275fe7cafd4de48feac1d37fefd4b0": {
      "model_module": "@jupyter-widgets/controls",
      "model_module_version": "1.5.0",
      "model_name": "DescriptionStyleModel",
      "state": {
       "description_width": ""
      }
     },
     "f45574d8becf451ab70f7cdec708b3dd": {
      "model_module": "@jupyter-widgets/controls",
      "model_module_version": "1.5.0",
      "model_name": "HBoxModel",
      "state": {
       "children": [
        "IPY_MODEL_5b496fc2b96e49839477874832b18ba7",
        "IPY_MODEL_febdd51b82ea4b70b9f16f08c1e67355"
       ],
       "layout": "IPY_MODEL_6f6abafc03bd47d7898fdabac69ea623"
      }
     },
     "f4f81aef8ec84764b78d12860e65d9c0": {
      "model_module": "@jupyter-widgets/controls",
      "model_module_version": "1.5.0",
      "model_name": "DropdownModel",
      "state": {
       "_options_labels": [
        "",
        "--- Channels ---",
        "Airborne_Gxx",
        "Airborne_Gxy",
        "Airborne_Gxz",
        "Airborne_Gyy",
        "Airborne_Gyz",
        "Airborne_Gz",
        "Airborne_Gzz",
        "Airborne_TMI",
        "Ground_Gz",
        "Z"
       ],
       "description": "Channel <=> Data:",
       "index": 11,
       "layout": "IPY_MODEL_78694fd00de0406ea3865806563e1757",
       "style": "IPY_MODEL_15c303452eaf47c9bcb9813442c77554"
      }
     },
     "f544e180e04c4bbdae4797aa61c9009a": {
      "model_module": "@jupyter-widgets/controls",
      "model_module_version": "1.5.0",
      "model_name": "VBoxModel",
      "state": {
       "children": [
        "IPY_MODEL_15b79ab109d146399c4ccc05063e46fa",
        "IPY_MODEL_f9e18b838680415f965e41199443aceb"
       ],
       "layout": "IPY_MODEL_832e03224765405085ebcb6567d69076"
      }
     },
     "f581b74ad9944ef6b9326fe8ea825328": {
      "model_module": "@jupyter-widgets/base",
      "model_module_version": "1.2.0",
      "model_name": "LayoutModel",
      "state": {
       "display": "none"
      }
     },
     "f5e901cc239e476a993f8f7f0fb8d93b": {
      "model_module": "@jupyter-widgets/controls",
      "model_module_version": "1.5.0",
      "model_name": "VBoxModel",
      "state": {
       "children": [
        "IPY_MODEL_1313fb9cfb06461da6e3095e933cd066"
       ],
       "layout": "IPY_MODEL_f8de1a3c22d949898f106afdd94e8ac4"
      }
     },
     "f5f4b89b644c491f9b9bb45a1bba9860": {
      "model_module": "@jupyter-widgets/controls",
      "model_module_version": "1.5.0",
      "model_name": "TextModel",
      "state": {
       "description": "Error (%, floor)",
       "layout": "IPY_MODEL_f7a6b2d2bf754a10a8fb1a70818d564f",
       "style": "IPY_MODEL_f9a4d74825f9411f840a49d7ce8f236a",
       "value": "0, 1"
      }
     },
     "f608f046bd044e68961334923e2e2cfa": {
      "model_module": "@jupyter-widgets/controls",
      "model_module_version": "1.5.0",
      "model_name": "DescriptionStyleModel",
      "state": {
       "description_width": ""
      }
     },
     "f69fd67b0c8f4fa3bdaa89f705f76ccc": {
      "model_module": "@jupyter-widgets/controls",
      "model_module_version": "1.5.0",
      "model_name": "ButtonStyleModel",
      "state": {}
     },
     "f6a05c6a718345aba030fc3fea82a000": {
      "model_module": "@jupyter-widgets/controls",
      "model_module_version": "1.5.0",
      "model_name": "HTMLModel",
      "state": {
       "layout": "IPY_MODEL_810e932a76a04aaca315d1084220ae71",
       "placeholder": "",
       "style": "IPY_MODEL_2a11e0d6e2e5471184be445f41fcbad6",
       "value": "<span style=\"margin-left:10px; color:black;\">No file selected</span>"
      }
     },
     "f6dfba604edf4e43b530a80d593dc28a": {
      "model_module": "@jupyter-widgets/base",
      "model_module_version": "1.2.0",
      "model_name": "LayoutModel",
      "state": {}
     },
     "f6ed8758dcc44eab8358d1ddefb123d3": {
      "model_module": "@jupyter-widgets/controls",
      "model_module_version": "1.5.0",
      "model_name": "DescriptionStyleModel",
      "state": {
       "description_width": "initial"
      }
     },
     "f6f8fb5edc994eb28bb1f64364606713": {
      "model_module": "@jupyter-widgets/controls",
      "model_module_version": "1.5.0",
      "model_name": "VBoxModel",
      "state": {
       "children": [
        "IPY_MODEL_b578b005d0df4601852bd8fdcae6659d",
        "IPY_MODEL_d2a5276322394a8882a91b58f89f60c5",
        "IPY_MODEL_532ca7fb722b4c278b7a2d52bcec9dbe",
        "IPY_MODEL_675e748dad5a43e9bd4c56c037340d9f",
        "IPY_MODEL_5d666412ed2d4d37a22bad2442547d96",
        "IPY_MODEL_e486c8cf75f2427487c703cb589641ef",
        "IPY_MODEL_a50c964a74284205a4ee3972e17e1dda"
       ],
       "layout": "IPY_MODEL_26ff7a9770784b0b8322652ef5e8696f"
      }
     },
     "f753b850cd1842b38884cceba7fbfc7f": {
      "model_module": "@jupyter-widgets/controls",
      "model_module_version": "1.5.0",
      "model_name": "DescriptionStyleModel",
      "state": {
       "description_width": ""
      }
     },
     "f7656cdcfc9f49f8930cc61e21b7b4ec": {
      "model_module": "@jupyter-widgets/base",
      "model_module_version": "1.2.0",
      "model_name": "LayoutModel",
      "state": {
       "width": "auto"
      }
     },
     "f78c555b9d914e21bb686cb9b0a5a967": {
      "model_module": "@jupyter-widgets/controls",
      "model_module_version": "1.5.0",
      "model_name": "DescriptionStyleModel",
      "state": {
       "description_width": "initial"
      }
     },
     "f7a6b2d2bf754a10a8fb1a70818d564f": {
      "model_module": "@jupyter-widgets/base",
      "model_module_version": "1.2.0",
      "model_name": "LayoutModel",
      "state": {}
     },
     "f8632923f35945caa0049f80ebc7e493": {
      "model_module": "@jupyter-widgets/controls",
      "model_module_version": "1.5.0",
      "model_name": "DescriptionStyleModel",
      "state": {
       "description_width": "initial"
      }
     },
     "f86b79f9d445423cb5e627fb4582d8d2": {
      "model_module": "@jupyter-widgets/controls",
      "model_module_version": "1.5.0",
      "model_name": "HTMLModel",
      "state": {
       "layout": "IPY_MODEL_9b2834215ff14f17ab5c2c44d1664628",
       "placeholder": "",
       "style": "IPY_MODEL_fcded272cf17495baccf15b6c03ff003",
       "value": "<span style=\"margin-left:10px; color:black;\">No file selected</span>"
      }
     },
     "f8a4f76f476c4c55b21e43d27d85094b": {
      "model_module": "@jupyter-widgets/controls",
      "model_module_version": "1.5.0",
      "model_name": "RadioButtonsModel",
      "state": {
       "_options_labels": [
        "Model",
        "Value"
       ],
       "index": 1,
       "layout": "IPY_MODEL_1fcb75ea84c04964ab8cc0b6664da5c1",
       "style": "IPY_MODEL_9a9258dc066a4cbb9a86619300c5b40e"
      }
     },
     "f8b7583e1c64494c87db491010176696": {
      "model_module": "@jupyter-widgets/base",
      "model_module_version": "1.2.0",
      "model_name": "LayoutModel",
      "state": {}
     },
     "f8da3b02e3f7497589874e8ed8413b61": {
      "model_module": "@jupyter-widgets/controls",
      "model_module_version": "1.5.0",
      "model_name": "LabelModel",
      "state": {
       "layout": "IPY_MODEL_757f687f402f4206b1de393c12b3f69b",
       "style": "IPY_MODEL_6e6b8230a52f4ff0bbba135206882e46",
       "value": "Monitoring folder"
      }
     },
     "f8de1a3c22d949898f106afdd94e8ac4": {
      "model_module": "@jupyter-widgets/base",
      "model_module_version": "1.2.0",
      "model_name": "LayoutModel",
      "state": {}
     },
     "f9269b10b0794e42b0ae08c61e751ed2": {
      "model_module": "@jupyter-widgets/controls",
      "model_module_version": "1.5.0",
      "model_name": "DropdownModel",
      "state": {
       "_options_labels": [
        "C:\\Users\\dominiquef\\Documents\\GIT\\mira\\mirageoscience-apps\\assets",
        "C:\\Users\\dominiquef\\Documents\\GIT\\mira\\mirageoscience-apps",
        "C:\\Users\\dominiquef\\Documents\\GIT\\mira",
        "C:\\Users\\dominiquef\\Documents\\GIT",
        "C:\\Users\\dominiquef\\Documents",
        "C:\\Users\\dominiquef",
        "C:\\Users",
        "C:\\",
        "D:\\",
        "Z:\\"
       ],
       "index": 0,
       "layout": "IPY_MODEL_f149c01fa57a4b64a04bb5cb936037b0",
       "style": "IPY_MODEL_06a35c20cb594cd4b2c05814c0118888"
      }
     },
     "f9302fccb2e445af9f1ffb08fa59630c": {
      "model_module": "@jupyter-widgets/controls",
      "model_module_version": "1.5.0",
      "model_name": "DescriptionStyleModel",
      "state": {
       "description_width": ""
      }
     },
     "f9a4d74825f9411f840a49d7ce8f236a": {
      "model_module": "@jupyter-widgets/controls",
      "model_module_version": "1.5.0",
      "model_name": "DescriptionStyleModel",
      "state": {
       "description_width": "initial"
      }
     },
     "f9e18b838680415f965e41199443aceb": {
      "model_module": "@jupyter-widgets/controls",
      "model_module_version": "1.5.0",
      "model_name": "VBoxModel",
      "state": {
       "children": [
        "IPY_MODEL_1217a428e89b46f48df14d6bb6cf9f6a",
        "IPY_MODEL_8dcf6be05a434ed8905a2e1a3d11c1e3"
       ],
       "layout": "IPY_MODEL_baf5bb08cae94741b7a966cbc60b0a38"
      }
     },
     "fa13f02f8cad41449d427646bd1412f1": {
      "model_module": "@jupyter-widgets/base",
      "model_module_version": "1.2.0",
      "model_name": "LayoutModel",
      "state": {
       "grid_area": "pathlist",
       "width": "auto"
      }
     },
     "fa908ab7e6e04b14b98d2116b7fc258d": {
      "model_module": "@jupyter-widgets/base",
      "model_module_version": "1.2.0",
      "model_name": "LayoutModel",
      "state": {
       "width": "auto"
      }
     },
     "fade1954425f445e88c9168b2d4196d9": {
      "model_module": "@jupyter-widgets/controls",
      "model_module_version": "1.5.0",
      "model_name": "DescriptionStyleModel",
      "state": {
       "description_width": ""
      }
     },
     "faf36b6dd99342988169e621e74a121d": {
      "model_module": "@jupyter-widgets/base",
      "model_module_version": "1.2.0",
      "model_name": "LayoutModel",
      "state": {}
     },
     "faf81aa22d874b93aad9ba49d134beac": {
      "model_module": "@jupyter-widgets/controls",
      "model_module_version": "1.5.0",
      "model_name": "DescriptionStyleModel",
      "state": {
       "description_width": ""
      }
     },
     "fb4ca7a58b2045f88b5ceab0cab2f689": {
      "model_module": "@jupyter-widgets/base",
      "model_module_version": "1.2.0",
      "model_name": "LayoutModel",
      "state": {}
     },
     "fb53fea8c1a94bcfaf46be75829ec495": {
      "model_module": "@jupyter-widgets/controls",
      "model_module_version": "1.5.0",
      "model_name": "ButtonModel",
      "state": {
       "description": "Cancel",
       "layout": "IPY_MODEL_7c5684fd060e4ba18626380d3fd9a60e",
       "style": "IPY_MODEL_ac4d5bea977a430b8e0d3220b4f5743e"
      }
     },
     "fba0174a62e949c0a053da40fffebb0c": {
      "model_module": "@jupyter-widgets/controls",
      "model_module_version": "1.5.0",
      "model_name": "TextModel",
      "state": {
       "description": "Padding [W,E,N,S,D,U] (m)",
       "layout": "IPY_MODEL_d273d5acd5b64050bf17b54630a0308d",
       "style": "IPY_MODEL_bd921ee75fe84943b2c4e14e4cf8a005",
       "value": "1000, 1000, 1000, 1000, 0, 0"
      }
     },
     "fbb80fb6017c4c01ba2a6400f28c8ff2": {
      "model_module": "@jupyter-widgets/base",
      "model_module_version": "1.2.0",
      "model_name": "LayoutModel",
      "state": {}
     },
     "fc70d189029043fa93a4af6c259ecee9": {
      "model_module": "@jupyter-widgets/base",
      "model_module_version": "1.2.0",
      "model_name": "LayoutModel",
      "state": {}
     },
     "fc717cb4fad14675b0ce0bd3911acc39": {
      "model_module": "@jupyter-widgets/controls",
      "model_module_version": "1.5.0",
      "model_name": "DescriptionStyleModel",
      "state": {
       "description_width": ""
      }
     },
     "fcbe6e04a7d94e88af1f2fc12cb0bb35": {
      "model_module": "@jupyter-widgets/controls",
      "model_module_version": "1.5.0",
      "model_name": "ButtonStyleModel",
      "state": {}
     },
     "fcded272cf17495baccf15b6c03ff003": {
      "model_module": "@jupyter-widgets/controls",
      "model_module_version": "1.5.0",
      "model_name": "DescriptionStyleModel",
      "state": {
       "description_width": ""
      }
     },
     "fd51942b64ce49d5a109c9249b84db31": {
      "model_module": "@jupyter-widgets/controls",
      "model_module_version": "1.5.0",
      "model_name": "ButtonStyleModel",
      "state": {}
     },
     "fd7279f9b2634a8c8346072bd27090cb": {
      "model_module": "@jupyter-widgets/base",
      "model_module_version": "1.2.0",
      "model_name": "LayoutModel",
      "state": {}
     },
     "fd7c15ba3e4e41bd961677f16ae43349": {
      "model_module": "@jupyter-widgets/controls",
      "model_module_version": "1.5.0",
      "model_name": "TextModel",
      "state": {
       "description": "Error (%, floor)",
       "layout": "IPY_MODEL_8bde1e6719884240abe146cb12e2c5e2",
       "style": "IPY_MODEL_52118b734986417fb2a5343374f34ffa",
       "value": "0, 1"
      }
     },
     "fdaa5aa9bbba4fadab7b52505d2b791b": {
      "model_module": "@jupyter-widgets/controls",
      "model_module_version": "1.5.0",
      "model_name": "DropdownModel",
      "state": {
       "_options_labels": [
        "",
        "--- Channels ---",
        "Airborne_Gxx",
        "Airborne_Gxy",
        "Airborne_Gxz",
        "Airborne_Gyy",
        "Airborne_Gyz",
        "Airborne_Gz",
        "Airborne_Gzz",
        "Airborne_TMI",
        "Ground_Gz",
        "Z"
       ],
       "description": "Channel <=> Data:",
       "index": 0,
       "layout": "IPY_MODEL_981b18788a10416d889ac2652275f079",
       "style": "IPY_MODEL_788b8823e10446cf9fe1e5a1d5739dbf"
      }
     },
     "fdc0a9c517e94f45a9b0ac6b3e20d1c9": {
      "model_module": "@jupyter-widgets/controls",
      "model_module_version": "1.5.0",
      "model_name": "DescriptionStyleModel",
      "state": {
       "description_width": "initial"
      }
     },
     "fddcd78dff0d49af92211e010a734a74": {
      "model_module": "@jupyter-widgets/controls",
      "model_module_version": "1.5.0",
      "model_name": "ButtonModel",
      "state": {
       "description": "Cancel",
       "layout": "IPY_MODEL_0dd8073a353242aaa0db76275158efc9",
       "style": "IPY_MODEL_6fa741a0d68645a9bc12679a9554e885"
      }
     },
     "fddfaa182a0049ac8a1b48513b09e839": {
      "model_module": "@jupyter-widgets/controls",
      "model_module_version": "1.5.0",
      "model_name": "DescriptionStyleModel",
      "state": {
       "description_width": ""
      }
     },
     "fe0f4ff04fe64821874de05c4907f4c5": {
      "model_module": "@jupyter-widgets/base",
      "model_module_version": "1.2.0",
      "model_name": "LayoutModel",
      "state": {}
     },
     "fe368b55945c4ad199a917c4c6947aee": {
      "model_module": "@jupyter-widgets/base",
      "model_module_version": "1.2.0",
      "model_name": "LayoutModel",
      "state": {
       "grid_area": "filename",
       "width": "auto"
      }
     },
     "fe76431c229f4bd8aa99b77809c529c2": {
      "model_module": "@jupyter-widgets/controls",
      "model_module_version": "1.5.0",
      "model_name": "DescriptionStyleModel",
      "state": {
       "description_width": "initial"
      }
     },
     "fe9244f33c3c454fbd86f879ae1332d5": {
      "model_module": "@jupyter-widgets/controls",
      "model_module_version": "1.5.0",
      "model_name": "DescriptionStyleModel",
      "state": {
       "description_width": ""
      }
     },
     "fe978b1f72bf4a5bbc84b907d67d6c1d": {
      "model_module": "@jupyter-widgets/base",
      "model_module_version": "1.2.0",
      "model_name": "LayoutModel",
      "state": {}
     },
     "febdd51b82ea4b70b9f16f08c1e67355": {
      "model_module": "@jupyter-widgets/controls",
      "model_module_version": "1.5.0",
      "model_name": "ButtonModel",
      "state": {
       "description": "Create copy:",
       "layout": "IPY_MODEL_0d1f21d76cf84d629db38f948cfd9195",
       "style": "IPY_MODEL_e7efed729c91433babb0cb9ae5444f40"
      }
     },
     "ff02f78d9d224312ac6a80ace29300bf": {
      "model_module": "@jupyter-widgets/controls",
      "model_module_version": "1.5.0",
      "model_name": "HTMLModel",
      "state": {
       "layout": "IPY_MODEL_69d7e23c47aa4d1d97e7cc2731023db1",
       "style": "IPY_MODEL_2afbbeb5a8214cba91ca7a127893ecd2"
      }
     },
     "ff139bdbeb5a4911950a8d84522e3051": {
      "model_module": "@jupyter-widgets/controls",
      "model_module_version": "1.5.0",
      "model_name": "FloatSliderModel",
      "state": {
       "continuous_update": false,
       "description": "Easting",
       "layout": "IPY_MODEL_aa1d09cc05c24242a3de2b6cf5a04bee",
       "max": 319234.2051362576,
       "min": 311898.69919769425,
       "step": 10,
       "style": "IPY_MODEL_2c850a4076e8415098be79bc6aa191a4",
       "value": 314600
      }
     },
     "ff62df12cf9942439bd05b0b2874a092": {
      "model_module": "@jupyter-widgets/controls",
      "model_module_version": "1.5.0",
      "model_name": "TextModel",
      "state": {
       "continuous_update": false,
       "description": "Group:",
       "layout": "IPY_MODEL_07253500590d41a1b9d882f9bdc7ad18",
       "style": "IPY_MODEL_1fddc6dd58794cf8bd2e3a0b4d39525d"
      }
     },
     "ffd8ad61162843a2ae45eab45876ba8e": {
      "model_module": "@jupyter-widgets/controls",
      "model_module_version": "1.5.0",
      "model_name": "VBoxModel",
      "state": {
       "children": [
        "IPY_MODEL_f8da3b02e3f7497589874e8ed8413b61",
        "IPY_MODEL_25d15ec650434b2281b584d2a16a3a68"
       ],
       "layout": "IPY_MODEL_a81060c0c97242eebcfe0a03bab5af86"
      }
     }
    },
    "version_major": 2,
    "version_minor": 0
   }
  }
 },
 "nbformat": 4,
 "nbformat_minor": 5
}

{
 "cells": [
  {
   "cell_type": "markdown",
   "metadata": {},
   "source": [
    "# Geophysical Inversion\n",
    "\n",
    "This application provides an interface to geophysical inversion using the [SimPEG](https://simpeg.xyz/) open-source algorithms. The application currently supports\n",
    "\n",
    "\n",
    "  <img align=\"right\" width=\"50%\" src=\"./images/Geophysical_inversion_app.png\">\n",
    "  \n",
    "  \n",
    " - Electromagnetic (time or frequency) data using a Laterally Constrained 1D approach\n",
    " - Gravity and Magnetic Vector Inversion (MVI) (field and/or tensor data) with a tiled octree mesh approach.\n",
    "\n",
    "New user? Visit the [Getting Started](../installation.rst) page.\n",
    "\n",
    "**NOTE**\n",
    " \n",
    "For gravity and magnetic 3D inversion, it is recommended to set the [Working Directory](#Output-panel) to a solid-state drive (SSD) to take full advantage of the [Dask](https://dask.org/) out-of-core parallelization.\n"
   ]
  },
  {
   "cell_type": "markdown",
   "metadata": {},
   "source": [
    "## Application\n",
    "The following sections provide details on the different parameters controling the application. Interactive widgets shown below are for demonstration purposes only."
   ]
  },
  {
   "cell_type": "code",
   "execution_count": 1,
   "metadata": {
    "scrolled": false
   },
   "outputs": [
    {
     "data": {
      "application/vnd.jupyter.widget-view+json": {
       "model_id": "18d6cdcb51a04f8b8c07d4db3bda0c8a",
       "version_major": 2,
       "version_minor": 0
      },
      "text/plain": [
       "VBox(children=(VBox(children=(Label(value='Workspace', style=DescriptionStyle(description_width='initial')), H…"
      ]
     },
     "metadata": {},
     "output_type": "display_data"
    }
   ],
   "source": [
    "from geoapps.inversion import InversionApp\n",
    "\n",
    "app = InversionApp(h5file=r\"../../../assets/FlinFlon.geoh5\")\n",
    "app.main"
   ]
  },
  {
   "cell_type": "markdown",
   "metadata": {},
   "source": [
    "## Project Selection\n",
    "\n",
    "Select and connect to an existing **geoh5** project file containing data. "
   ]
  },
  {
   "cell_type": "code",
   "execution_count": 2,
   "metadata": {},
   "outputs": [
    {
     "data": {
      "application/vnd.jupyter.widget-view+json": {
       "model_id": "e5d32bf28c56447a9d8667bf2f8037b9",
       "version_major": 2,
       "version_minor": 0
      },
      "text/plain": [
       "VBox(children=(Label(value='Workspace', style=DescriptionStyle(description_width='initial')), HBox(children=(F…"
      ]
     },
     "metadata": {},
     "output_type": "display_data"
    }
   ],
   "source": [
    "app.project_panel"
   ]
  },
  {
   "cell_type": "markdown",
   "metadata": {},
   "source": [
    "See the [Project Panel](base_application.ipynb#Project-Panel) page for more details."
   ]
  },
  {
   "cell_type": "markdown",
   "metadata": {},
   "source": [
    "## Object/Data Selection\n",
    "\n",
    "List of objects available containing geophysical data to be inverted. Currently supports objects of type `Points`, `Curve`, `Surface` and `Grid2D`. Multiple data channels and/or data groups can be selected. "
   ]
  },
  {
   "cell_type": "code",
   "execution_count": 3,
   "metadata": {
    "scrolled": true
   },
   "outputs": [
    {
     "data": {
      "application/vnd.jupyter.widget-view+json": {
       "model_id": "a75bd0a98fcb492a88ce5feb9a32e0f9",
       "version_major": 2,
       "version_minor": 0
      },
      "text/plain": [
       "VBox(children=(Dropdown(description='Object:', index=66, options=('', 'fault_splay1', 'fault_Cliff_Lake', 'fau…"
      ]
     },
     "metadata": {},
     "output_type": "display_data"
    }
   ],
   "source": [
    "app.data_panel"
   ]
  },
  {
   "cell_type": "markdown",
   "metadata": {},
   "source": [
    "## Window Selection\n",
    "\n",
    "Manual selection of an area of interest and data resolution. Positive (solid) and negative (dash) contour lines are traced immediately after changes made to the contour values."
   ]
  },
  {
   "cell_type": "code",
   "execution_count": 4,
   "metadata": {},
   "outputs": [
    {
     "data": {
      "application/vnd.jupyter.widget-view+json": {
       "model_id": "5b8fd09721af4f52aa7f129646dbfbab",
       "version_major": 2,
       "version_minor": 0
      },
      "text/plain": [
       "VBox(children=(VBox(children=(FloatText(value=50.0, description='Grid Resolution (m)', style=DescriptionStyle(…"
      ]
     },
     "metadata": {},
     "output_type": "display_data"
    }
   ],
   "source": [
    "app.window_selection"
   ]
  },
  {
   "cell_type": "markdown",
   "metadata": {},
   "source": [
    "See the [Map View Selection](view_selection.ipynb#Map-View-Selection) page for more details."
   ]
  },
  {
   "cell_type": "markdown",
   "metadata": {},
   "source": [
    "## Data Channel Options\n",
    "\n",
    "Define geophysical data."
   ]
  },
  {
   "cell_type": "markdown",
   "metadata": {},
   "source": [
    "### Survey Type\n",
    "\n",
    "List of available survey types."
   ]
  },
  {
   "cell_type": "code",
   "execution_count": 5,
   "metadata": {},
   "outputs": [
    {
     "data": {
      "application/vnd.jupyter.widget-view+json": {
       "model_id": "e86ae23e739c42f19d6a74dbd59b951f",
       "version_major": 2,
       "version_minor": 0
      },
      "text/plain": [
       "Dropdown(description='Survey Type: ', options=('Magnetics', 'Gravity', 'AeroTEM (2007)', 'AeroTEM (2010)', 'DI…"
      ]
     },
     "metadata": {},
     "output_type": "display_data"
    }
   ],
   "source": [
    "app.system"
   ]
  },
  {
   "cell_type": "markdown",
   "metadata": {},
   "source": [
    "The application will attempt to assign the correct system based on\n",
    "known data field name (e.g. *CPI* => *DIGHEM*).\n",
    "\n",
    "#### Inducing field parameters\n",
    "\n",
    "For magnetic data only, set the inducing field parameters:"
   ]
  },
  {
   "cell_type": "code",
   "execution_count": 6,
   "metadata": {},
   "outputs": [
    {
     "data": {
      "application/vnd.jupyter.widget-view+json": {
       "model_id": "3b870999edc540ed82fe173db466a9fc",
       "version_major": 2,
       "version_minor": 0
      },
      "text/plain": [
       "Text(value='60000, 79, 11', description='Inducing Field [Amp, Inc, Dec]', style=DescriptionStyle(description_w…"
      ]
     },
     "metadata": {},
     "output_type": "display_data"
    }
   ],
   "source": [
    "app.inducing_field\n"
   ]
  },
  {
   "cell_type": "markdown",
   "metadata": {},
   "source": [
    "### Channel Options\n",
    "\n",
    "Set parameters to invividual [Data](#Object/Data-Selection) channels."
   ]
  },
  {
   "cell_type": "code",
   "execution_count": 7,
   "metadata": {},
   "outputs": [
    {
     "data": {
      "application/vnd.jupyter.widget-view+json": {
       "model_id": "e6ec6301c96a49498a54ea23bd11ebb8",
       "version_major": 2,
       "version_minor": 0
      },
      "text/plain": [
       "VBox(children=(Checkbox(value=True, description='Active', style=DescriptionStyle(description_width='initial'))…"
      ]
     },
     "metadata": {},
     "output_type": "display_data"
    }
   ],
   "source": [
    "app.data_channel_choices.data_channel_options['tmi']"
   ]
  },
  {
   "cell_type": "markdown",
   "metadata": {},
   "source": [
    "#### Active\n",
    "\n",
    "Checked if the channel is to be used in the inversion\n",
    "\n",
    "#### Data channel:\n",
    "\n",
    "Association between the \"data channel\" and one of the expected \"system channel\".\n",
    "\n",
    "#### Error (%, floor)\n",
    "\n",
    "Estimated data uncertainties associated with the data channel, expressed as a\n",
    "percent (decimal) and floor value. \n",
    "\n",
    "As example for magnetic data: 0.1, 1 => $0.1 * |d_{tmi}| + 1\\;nT$\n",
    "\n",
    "#### Offsets (EM systems)\n",
    "\n",
    "Determine the constant offsets, in meters, between the receiver and the transmitter center location. \n",
    "\n",
    "Used for the numerical forward calculations. "
   ]
  },
  {
   "cell_type": "markdown",
   "metadata": {},
   "source": [
    "## Topography, Sensor and Line Options"
   ]
  },
  {
   "cell_type": "code",
   "execution_count": 8,
   "metadata": {},
   "outputs": [
    {
     "data": {
      "application/vnd.jupyter.widget-view+json": {
       "model_id": "ecac9bb9933f48508d68300ae1e0c1c4",
       "version_major": 2,
       "version_minor": 0
      },
      "text/plain": [
       "Dropdown(options=('Topography', 'Sensor'), value='Topography')"
      ]
     },
     "metadata": {},
     "output_type": "display_data"
    }
   ],
   "source": [
    "app.spatial_choices"
   ]
  },
  {
   "cell_type": "markdown",
   "metadata": {},
   "source": [
    "### Topography\n",
    "\n",
    "Set the air/ground interface of the inversion model."
   ]
  },
  {
   "cell_type": "code",
   "execution_count": 9,
   "metadata": {},
   "outputs": [
    {
     "data": {
      "application/vnd.jupyter.widget-view+json": {
       "model_id": "f7b445e52dc64f32a1c6395c4e7ddee3",
       "version_major": 2,
       "version_minor": 0
      },
      "text/plain": [
       "VBox(children=(RadioButtons(description='Define by:', options=('Object', 'Relative to Sensor', 'Constant'), va…"
      ]
     },
     "metadata": {},
     "output_type": "display_data"
    }
   ],
   "source": [
    "app.topography.main"
   ]
  },
  {
   "cell_type": "markdown",
   "metadata": {},
   "source": [
    "#### Object\n",
    "\n",
    "Set the topography based on an object stored in the target `geoh5` project. The Z value of the cells/vertices can be assigned based on a chosen `Data` field.\n",
    "\n",
    "#### Relative to Sensor\n",
    "\n",
    "Topography is defined by a fixed vertical offset from a selected object position (vertices or centroids), also referred to as a \"draped height\".\n",
    "\n",
    "#### Constant\n",
    "\n",
    "Topography is defined as a flat surface with constant elevation."
   ]
  },
  {
   "cell_type": "markdown",
   "metadata": {},
   "source": [
    "### Sensor\n",
    "\n",
    "Defines the sensors position in 3D space."
   ]
  },
  {
   "cell_type": "code",
   "execution_count": 10,
   "metadata": {},
   "outputs": [
    {
     "data": {
      "application/vnd.jupyter.widget-view+json": {
       "model_id": "00ef4db3a4a04f55b73e0e34e67a85d6",
       "version_major": 2,
       "version_minor": 0
      },
      "text/plain": [
       "VBox(children=(RadioButtons(description='Define by:', index=1, options=('sensor location + (dx, dy, dz)', 'top…"
      ]
     },
     "metadata": {},
     "output_type": "display_data"
    }
   ],
   "source": [
    "app.sensor.main"
   ]
  },
  {
   "cell_type": "markdown",
   "metadata": {},
   "source": [
    "#### Sensor Location\n",
    "\n",
    "Sensor position defined by a constant offset from the vertices of the selected\n",
    "object. Typically used for towed system where the GPS receiver is on the\n",
    "aircraft.\n",
    "\n",
    "#### Topo and radar\n",
    "\n",
    "Receiver locations defined by the vertices horizontal positions [x, y] and z value\n",
    "interpolated from topography + clearance height. Typically used for gridded\n",
    "data with constant draped height or for airborne survey with inaccurate GPS\n",
    "elevation (radar height)."
   ]
  },
  {
   "cell_type": "markdown",
   "metadata": {},
   "source": [
    "### Line ID\n",
    "\n",
    "**(EM only)**: Line channel and line number to be inverted."
   ]
  },
  {
   "cell_type": "code",
   "execution_count": 11,
   "metadata": {},
   "outputs": [
    {
     "data": {
      "application/vnd.jupyter.widget-view+json": {
       "model_id": "787e7ee7a8bc41869e61bee5771065f0",
       "version_major": 2,
       "version_minor": 0
      },
      "text/plain": [
       "VBox(children=(Dropdown(description='Lines field', options=('', '--- Channels ---', 'Airborne_Gxx', 'Airborne_…"
      ]
     },
     "metadata": {},
     "output_type": "display_data"
    }
   ],
   "source": [
    "app.lines.main"
   ]
  },
  {
   "cell_type": "markdown",
   "metadata": {},
   "source": [
    "## Inversion Options\n",
    "\n",
    "List of parameters controlling the inversion."
   ]
  },
  {
   "cell_type": "code",
   "execution_count": 12,
   "metadata": {},
   "outputs": [
    {
     "data": {
      "application/vnd.jupyter.widget-view+json": {
       "model_id": "f21d4848b0a64454a5f639424f3fba66",
       "version_major": 2,
       "version_minor": 0
      },
      "text/plain": [
       "VBox(children=(HBox(children=(Label(value='Inversion Options'),)), HBox(children=(Dropdown(options=('output na…"
      ]
     },
     "metadata": {},
     "output_type": "display_data"
    }
   ],
   "source": [
    "app.inversion_parameters.main"
   ]
  },
  {
   "cell_type": "markdown",
   "metadata": {},
   "source": [
    "### Output Name\n",
    "\n",
    "Name given to the inversion group added to the ANALYST project."
   ]
  },
  {
   "cell_type": "markdown",
   "metadata": {},
   "source": [
    "### Target Misfit\n",
    "\n",
    "Target data misfit where 1 = number of data"
   ]
  },
  {
   "cell_type": "code",
   "execution_count": 13,
   "metadata": {},
   "outputs": [
    {
     "data": {
      "application/vnd.jupyter.widget-view+json": {
       "model_id": "522604fc188f43c98cc2bc4514616ecd",
       "version_major": 2,
       "version_minor": 0
      },
      "text/plain": [
       "FloatText(value=1.0, description='Target misfit')"
      ]
     },
     "metadata": {},
     "output_type": "display_data"
    }
   ],
   "source": [
    "app.inversion_parameters.chi_factor"
   ]
  },
  {
   "cell_type": "markdown",
   "metadata": {},
   "source": [
    "### Uncertainty mode\n",
    "\n",
    "(EM Only) Global change to the data uncertainties "
   ]
  },
  {
   "cell_type": "code",
   "execution_count": 14,
   "metadata": {},
   "outputs": [
    {
     "data": {
      "application/vnd.jupyter.widget-view+json": {
       "model_id": "1a968f0fa23544ebb8e69729d5bf4daf",
       "version_major": 2,
       "version_minor": 0
      },
      "text/plain": [
       "RadioButtons(index=1, options=('Estimated (%|data| + background)', 'User input (%|data| + floor)'), value='Use…"
      ]
     },
     "metadata": {},
     "output_type": "display_data"
    }
   ],
   "source": [
    "app.inversion_parameters.uncert_mode"
   ]
  },
  {
   "cell_type": "markdown",
   "metadata": {},
   "source": [
    "**Estimated** Floor uncertainties re-assgined based on the best-fitting halfspace model. Useful when dealing with fast time domain decays due to IP effects.\n",
    "\n",
    "**User Input** (Default) Keep the same uncertainties as defined in the [Channel Options](#Channel-Options) "
   ]
  },
  {
   "cell_type": "markdown",
   "metadata": {},
   "source": [
    "### Starting Model\n",
    "\n",
    "Initial model used to begin the inversion.\n"
   ]
  },
  {
   "cell_type": "code",
   "execution_count": 15,
   "metadata": {},
   "outputs": [
    {
     "data": {
      "application/vnd.jupyter.widget-view+json": {
       "model_id": "820b634a569c42b5a4bb0faa1981c182",
       "version_major": 2,
       "version_minor": 0
      },
      "text/plain": [
       "VBox(children=(Label(value='Starting effective susceptibility'), VBox(children=(RadioButtons(index=1, options=…"
      ]
     },
     "metadata": {},
     "output_type": "display_data"
    }
   ],
   "source": [
    "app.inversion_parameters.starting_model.main"
   ]
  },
  {
   "cell_type": "markdown",
   "metadata": {},
   "source": [
    "#### Model\n",
    "\n",
    "Model object and values selected from any `Points`, `Curve`, `Surface`, `BlockModel` or `Octree` object.\n",
    "Values are interpolated onto the inversion mesh using a nearest neighbor approach.\n",
    "\n",
    "#### Constant\n",
    "\n",
    "Constant background half-space value."
   ]
  },
  {
   "cell_type": "markdown",
   "metadata": {},
   "source": [
    "### Susceptibility model \n",
    "\n",
    "**(FEM Only)**\n",
    "\n",
    "Susceptibility values used in the forward calculations only."
   ]
  },
  {
   "cell_type": "code",
   "execution_count": 16,
   "metadata": {},
   "outputs": [
    {
     "data": {
      "application/vnd.jupyter.widget-view+json": {
       "model_id": "0a31b5a504ee4a41ae880e4d620897f1",
       "version_major": 2,
       "version_minor": 0
      },
      "text/plain": [
       "VBox(children=(Label(value='Background susceptibility', style=DescriptionStyle(description_width='initial')), …"
      ]
     },
     "metadata": {},
     "output_type": "display_data"
    }
   ],
   "source": [
    "app.inversion_parameters.susceptibility_model.main"
   ]
  },
  {
   "cell_type": "markdown",
   "metadata": {},
   "source": [
    "#### None\n",
    "\n",
    "No susceptibility model used.\n",
    "\n",
    "#### Model\n",
    "\n",
    "Susceptibitlity model selected from any `Points`, `Curve`, `Surface`, `BlockModel` or `Octree` object.\n",
    "Values are interpolated onto the inversion mesh using a nearest neighbor approach.\n",
    "\n",
    "#### Constant\n",
    "\n",
    "Constant susceptibility half-space value."
   ]
  },
  {
   "cell_type": "markdown",
   "metadata": {},
   "source": [
    "### Regularization\n",
    "\n",
    "See the [Regularization Panel](#Regularization-Panel) section."
   ]
  },
  {
   "cell_type": "markdown",
   "metadata": {},
   "source": [
    "### Upper-Lower Bounds\n",
    "\n",
    "Upper and lower bound constraints applied on physical property model."
   ]
  },
  {
   "cell_type": "code",
   "execution_count": 17,
   "metadata": {},
   "outputs": [
    {
     "data": {
      "application/vnd.jupyter.widget-view+json": {
       "model_id": "fb06179f77014986904938d9c7f35571",
       "version_major": 2,
       "version_minor": 0
      },
      "text/plain": [
       "VBox(children=(Text(value='', description='Upper bound value'), Text(value='', description='Lower bound value'…"
      ]
     },
     "metadata": {},
     "output_type": "display_data"
    }
   ],
   "source": [
    "app.inversion_parameters.bound_panel"
   ]
  },
  {
   "cell_type": "markdown",
   "metadata": {},
   "source": [
    "If left empty, the inversion uses [$-\\infty$, $\\infty$] physical property bounds."
   ]
  },
  {
   "cell_type": "markdown",
   "metadata": {},
   "source": [
    "### Mesh\n",
    "\n",
    "See the [Mesh Design](#Mesh-Design) section."
   ]
  },
  {
   "cell_type": "markdown",
   "metadata": {},
   "source": [
    "### Ignore Values\n",
    "\n",
    "#### Data\n",
    "\n",
    "Flag value ignored by the inversion by assigning $\\infty$ uncertainties on the data points."
   ]
  },
  {
   "cell_type": "code",
   "execution_count": 18,
   "metadata": {},
   "outputs": [
    {
     "data": {
      "application/vnd.jupyter.widget-view+json": {
       "model_id": "17ea43961df844d9bd82ffe6e7ed17a6",
       "version_major": 2,
       "version_minor": 0
      },
      "text/plain": [
       "Text(value='-99999', description='Data (i.e. <0 = no negatives)')"
      ]
     },
     "metadata": {},
     "output_type": "display_data"
    }
   ],
   "source": [
    "app.inversion_parameters.ignore_values"
   ]
  },
  {
   "cell_type": "markdown",
   "metadata": {},
   "source": [
    "#### Air cells\n",
    "\n",
    "Value assigned to the output model cells above topography. Defaults to $10^{-8}$ S/m for EM inversions"
   ]
  },
  {
   "cell_type": "code",
   "execution_count": 19,
   "metadata": {},
   "outputs": [
    {
     "data": {
      "application/vnd.jupyter.widget-view+json": {
       "model_id": "f36456e1e7ac4060b38286d92174b855",
       "version_major": 2,
       "version_minor": 0
      },
      "text/plain": [
       "FloatText(value=0.0, description='Air cells fill value')"
      ]
     },
     "metadata": {},
     "output_type": "display_data"
    }
   ],
   "source": [
    "app.inversion_parameters.air_values"
   ]
  },
  {
   "cell_type": "markdown",
   "metadata": {},
   "source": [
    "### Optimization\n",
    "\n",
    "Parameters controlling various aspects of the projected Gauss-Newton inversion algorithm."
   ]
  },
  {
   "cell_type": "code",
   "execution_count": 20,
   "metadata": {},
   "outputs": [
    {
     "data": {
      "application/vnd.jupyter.widget-view+json": {
       "model_id": "0d90f55936f84ccaa2ff0f3693ce9856",
       "version_major": 2,
       "version_minor": 0
      },
      "text/plain": [
       "VBox(children=(IntText(value=25, description='Max beta Iterations', style=DescriptionStyle(description_width='…"
      ]
     },
     "metadata": {},
     "output_type": "display_data"
    }
   ],
   "source": [
    "app.inversion_parameters.optimization"
   ]
  },
  {
   "cell_type": "markdown",
   "metadata": {},
   "source": [
    "#### Max beta Iterations\n",
    "\n",
    "Maximum number of $\\beta$-iterations allowed.\n",
    "Note that when applying sparse norms, the inversion may require $>20$ iterations to converge.\n",
    "\n",
    "\n",
    "#### Target misfit\n",
    "\n",
    "Target data misfit where $\\chi=1$ corresponds to $\\phi_d=N$ (number of data). (See [Data Misfit and Uncertainties](https://giftoolscookbook.readthedocs.io/en/latest/content/fundamentals/Uncertainties.html#data-misfit-and-uncertainties))\n",
    "\n",
    "\n",
    "#### Starting trade-off ($\\beta$)\n",
    "\n",
    "**ratio**: Factor multiplying the initial $\\beta$ defined by the ratio between the initial misfit and regularization:\n",
    "\n",
    "\\begin{equation}\n",
    "\\beta_0 = \\gamma * \\frac{\\phi_d}{ \\phi_m}\n",
    "\\end{equation}\n",
    "\n",
    "**value**: Fixed $\\beta$ value specified by the user.\n",
    "\n",
    "#### Max CG Iterations\n",
    "\n",
    "Maximum number of Conjugate Gradient (CG) iterations per Gauss-Newton solve.\n",
    "\n",
    "\n",
    "#### CG Tolerance\n",
    "\n",
    "Threshold on the minimum Conjugate Gradient (CG) step to end the Gauss-Newton solve.\n",
    "\n",
    "\n",
    "#### Max CPUs\n",
    "\n",
    "Maximum number of threads used for the parallelization. Defaults to half the system thread count.\n",
    "\n",
    "\n",
    "#### Max RAM (Gb)\n",
    "\n",
    "Approximate memory (RAM) used during the inversion. The value is used to calculate the chunk size for the storage of the sensitivity matrix on solid-state drive.\n",
    "(See [dask.array.to_zarr](https://docs.dask.org/en/latest/array-api.html#dask.array.to_zarr))\n"
   ]
  },
  {
   "cell_type": "markdown",
   "metadata": {},
   "source": [
    "## Regularization Panel\n",
    "\n",
    "Parameters controlling the regularization function."
   ]
  },
  {
   "cell_type": "markdown",
   "metadata": {},
   "source": [
    "### Reference model\n",
    "\n",
    "Reference model values used to contrain the inversion."
   ]
  },
  {
   "cell_type": "code",
   "execution_count": 21,
   "metadata": {},
   "outputs": [
    {
     "data": {
      "application/vnd.jupyter.widget-view+json": {
       "model_id": "da375818b0124bbb8e4c5133815ecdbd",
       "version_major": 2,
       "version_minor": 0
      },
      "text/plain": [
       "VBox(children=(Label(value='Reference effective susceptibility'), VBox(children=(RadioButtons(index=2, options…"
      ]
     },
     "metadata": {},
     "output_type": "display_data"
    }
   ],
   "source": [
    "app.inversion_parameters.reference_model.main"
   ]
  },
  {
   "cell_type": "markdown",
   "metadata": {},
   "source": [
    "#### None\n",
    "\n",
    "No reference model used. This is equivalent as setting the [Alphas](#Alpha-Parameters) `s` parameter to zero.\n",
    "\n",
    "#### Model\n",
    "\n",
    "Reference model selected from any `Points`, `Curve`, `Surface`, `BlockModel` or `Octree` object.\n",
    "Values are interpolated onto the inversion mesh using a nearest neighbor approach.\n",
    "\n",
    "#### Constant\n",
    "\n",
    "Constant reference half-space value.\n",
    "\n",
    "#### Best-fitting halfspace\n",
    "\n",
    "**(EM only)** Run a preliminary inversion to determine a best-fitting halfspace\n",
    "(single conductivity value) at each data station."
   ]
  },
  {
   "cell_type": "markdown",
   "metadata": {},
   "source": [
    "### Alpha Parameters\n",
    "\n",
    "Scaling between the components of the regularization function."
   ]
  },
  {
   "cell_type": "code",
   "execution_count": 22,
   "metadata": {},
   "outputs": [
    {
     "data": {
      "application/vnd.jupyter.widget-view+json": {
       "model_id": "f403cc848dd44d0d8497c7fe43505f07",
       "version_major": 2,
       "version_minor": 0
      },
      "text/plain": [
       "Text(value='1.0, 1.0, 1.0, 1.0', description='Scaling alpha_(s, x, y, z)')"
      ]
     },
     "metadata": {},
     "output_type": "display_data"
    }
   ],
   "source": [
    "app.inversion_parameters.alphas\n"
   ]
  },
  {
   "cell_type": "markdown",
   "metadata": {},
   "source": [
    "See the [SimPEG.API](https://docs.simpeg.xyz/content/api_core/api_Regularization.html#SimPEG.regularization.Simple) for technical details."
   ]
  },
  {
   "cell_type": "markdown",
   "metadata": {},
   "source": [
    "### $l_p$-norms\n",
    "\n",
    "Approximated norms applied to the components of the regularization."
   ]
  },
  {
   "cell_type": "code",
   "execution_count": 23,
   "metadata": {},
   "outputs": [
    {
     "data": {
      "application/vnd.jupyter.widget-view+json": {
       "model_id": "5632b39dc4734a5297b8ccc5be5f9fd8",
       "version_major": 2,
       "version_minor": 0
      },
      "text/plain": [
       "Text(value='0, 2, 2, 2', continuous_update=False, description='Norms p_(s, x, y, z)', style=DescriptionStyle(d…"
      ]
     },
     "metadata": {},
     "output_type": "display_data"
    }
   ],
   "source": [
    "app.inversion_parameters.norms\n"
   ]
  },
  {
   "cell_type": "markdown",
   "metadata": {},
   "source": [
    "See notes on [Sparse and Blocky Norms](https://giftoolscookbook.readthedocs.io/en/latest/content/fundamentals/Norms.html#sparse-and-blocky-norms) for technical details."
   ]
  },
  {
   "cell_type": "markdown",
   "metadata": {},
   "source": [
    "## Mesh Design\n",
    "\n",
    "Definition of the grid containing the physical property model.\n",
    "\n",
    "### Octree Mesh\n",
    "\n",
    "**(Gravity and magnetics)**\n",
    "\n",
    "Parameters used for the construction of a global `Octree` mesh."
   ]
  },
  {
   "cell_type": "code",
   "execution_count": 24,
   "metadata": {},
   "outputs": [
    {
     "data": {
      "application/vnd.jupyter.widget-view+json": {
       "model_id": "436dd58243f04759bb120dfb261971b9",
       "version_major": 2,
       "version_minor": 0
      },
      "text/plain": [
       "VBox(children=(Label(value='Octree Mesh'), Text(value='25, 25, 25', description='Smallest cells', style=Descri…"
      ]
     },
     "metadata": {},
     "output_type": "display_data"
    }
   ],
   "source": [
    "app.inversion_parameters.mesh.main"
   ]
  },
  {
   "cell_type": "markdown",
   "metadata": {},
   "source": [
    "#### Smallest cells\n",
    "\n",
    "Dimensions (x,y,z) of the smallest octree cells.\n",
    "\n",
    "\n",
    "####  Layers below topography\n",
    "\n",
    "\n",
    "Number of layers of cells at each octree level below the topography surface.\n",
    "As topography generally extends further, it is common practice to use only\n",
    "coarse cells once outside of the survey area.\n",
    "\n",
    "\n",
    "####  Layers below data\n",
    "\n",
    "Number of layers of cells at each octree level below the observation points.\n",
    "\n",
    "\n",
    "####  Minimum depth\n",
    "\n",
    "\n",
    "Minimum depth (m) of the mesh, rounded up to the next power of 2.\n",
    "\n",
    "\n",
    "####  Padding [W,E,N,S,D,U]\n",
    "\n",
    "Additional padding distance (m) along West, East, North, South, Down and Up,\n",
    "chosen by default to be half of the data extent in each direction. Additional\n",
    "padding can be added at depth, but it is recommended to set it through the\n",
    "[Minimum depth](#Minimum-depth) parameter.\n",
    "\n",
    "\n",
    "#### Max triangulation length\n",
    "\n",
    "\n",
    "Parameter controlling the Delaunay triangulation used for the refinement of\n",
    "the mesh around topography and observation points. Large triangles generated\n",
    "between points far apart are filtered out, reducing the number of small cells\n",
    "in regions without data."
   ]
  },
  {
   "cell_type": "markdown",
   "metadata": {},
   "source": [
    " <img align=\"center\" width=\"50%\" src=\"./images/Octree_refinement.png\">"
   ]
  },
  {
   "cell_type": "markdown",
   "metadata": {},
   "source": [
    "### 1D Mesh\n",
    "\n",
    "**(EM 1D only)**\n",
    "\n",
    "For the laterally constrained 1D inversion (time or frequency), the earth is\n",
    "discretized into layer models connected by the regularization function. The\n",
    "following parameters define the 1D mesh repeated below each transmitter/receiver pairs"
   ]
  },
  {
   "cell_type": "code",
   "execution_count": 25,
   "metadata": {},
   "outputs": [
    {
     "data": {
      "application/vnd.jupyter.widget-view+json": {
       "model_id": "541c8d27050444a49a6156639e8b3242",
       "version_major": 2,
       "version_minor": 0
      },
      "text/plain": [
       "VBox(children=(Label(value='1D Mesh'), FloatText(value=10.0, description='Smallest cell (m):', style=Descripti…"
      ]
     },
     "metadata": {},
     "output_type": "display_data"
    }
   ],
   "source": [
    "app.mesh_1D.main"
   ]
  },
  {
   "cell_type": "markdown",
   "metadata": {},
   "source": [
    "#### Smallest cell (m)\n",
    "\n",
    "Smallest layer at the top of the 1D mesh.\n",
    "\n",
    "\n",
    "#### Expansion factor\n",
    "\n",
    "Rate of cell expansion from the smallest cell size.\n",
    "\n",
    "\n",
    "#### Number of cells\n",
    "\n",
    "Total number of layers below each station.\n",
    "\n",
    "\n",
    "#### Max depth\n",
    "\n",
    "Returns the full depth of the 1D mesh given the parameters selected above."
   ]
  },
  {
   "cell_type": "markdown",
   "metadata": {},
   "source": [
    "## Output panel\n",
    "\n",
    "Specify the working directory where the inversion occurs. For gravity and magnetic data inversion, it is **highly recommended** to chose a location on a **solid-state drive (SSD)** to fully take advantage of the `Dask` parallelization."
   ]
  },
  {
   "cell_type": "code",
   "execution_count": 26,
   "metadata": {},
   "outputs": [
    {
     "data": {
      "application/vnd.jupyter.widget-view+json": {
       "model_id": "704c83b58a1b40878240299d5043685e",
       "version_major": 2,
       "version_minor": 0
      },
      "text/plain": [
       "VBox(children=(FileChooser(path='C:\\Users\\dominiquef\\Documents\\GIT\\mira\\mirageoscience-apps\\docs\\content\\appli…"
      ]
     },
     "metadata": {},
     "output_type": "display_data"
    }
   ],
   "source": [
    "app.output_panel"
   ]
  },
  {
   "cell_type": "markdown",
   "metadata": {},
   "source": [
    "**Write inpute**: Click to write the input parameters to a `*.json` file\n",
    "\n",
    "**Run SimPEG**: Launch the inversion routine. Results will be written directly to the target `geoh5` project.\n",
    "\n",
    "### Command line execution\n",
    "\n",
    "Alternatively, the inversion can be launched on a different computer from command line:\n",
    "\n",
    "`activate geoapps`\n",
    "\n",
    "`python -m geoapps.pf_inversion [Name].json`\n",
    "\n",
    "This assumes that the geoapps have been installed and that the reference `*.json` and `*.geoh5` project are accessible."
   ]
  },
  {
   "cell_type": "code",
   "execution_count": 27,
   "metadata": {
    "nbsphinx": "hidden"
   },
   "outputs": [],
   "source": [
    "import matplotlib.pyplot as plt\n",
    "app.figure.savefig(\"images/inversion_thumbnail.png\", dpi=300, bbox_inches=\"tight\")"
   ]
  }
 ],
 "metadata": {
  "kernelspec": {
   "display_name": "Python 3",
   "language": "python",
   "name": "python3"
  },
  "language_info": {
   "codemirror_mode": {
    "name": "ipython",
    "version": 3
   },
   "file_extension": ".py",
   "mimetype": "text/x-python",
   "name": "python",
   "nbconvert_exporter": "python",
   "pygments_lexer": "ipython3",
   "version": "3.7.8"
  },
  "widgets": {
   "application/vnd.jupyter.widget-state+json": {
    "state": {
     "0003d2ac73ca47689bbee01627978039": {
      "model_module": "@jupyter-widgets/controls",
      "model_module_version": "1.5.0",
      "model_name": "DescriptionStyleModel",
      "state": {
       "description_width": ""
      }
     },
     "0066129c2ad147eb83d6e32dd5644a1a": {
      "model_module": "@jupyter-widgets/controls",
      "model_module_version": "1.5.0",
      "model_name": "DescriptionStyleModel",
      "state": {
       "description_width": ""
      }
     },
     "0093e0b68651490393687f0b54b749d6": {
      "model_module": "@jupyter-widgets/controls",
      "model_module_version": "1.5.0",
      "model_name": "ButtonStyleModel",
      "state": {}
     },
     "00e5aa3bc80b4d10918cad45fccfd73b": {
      "model_module": "@jupyter-widgets/controls",
      "model_module_version": "1.5.0",
      "model_name": "DropdownModel",
      "state": {
       "_options_labels": [
        "C:\\Users\\dominiquef\\Documents\\GIT\\mira\\mirageoscience-apps\\docs\\content\\applications",
        "C:\\Users\\dominiquef\\Documents\\GIT\\mira\\mirageoscience-apps\\docs\\content",
        "C:\\Users\\dominiquef\\Documents\\GIT\\mira\\mirageoscience-apps\\docs",
        "C:\\Users\\dominiquef\\Documents\\GIT\\mira\\mirageoscience-apps",
        "C:\\Users\\dominiquef\\Documents\\GIT\\mira",
        "C:\\Users\\dominiquef\\Documents\\GIT",
        "C:\\Users\\dominiquef\\Documents",
        "C:\\Users\\dominiquef",
        "C:\\Users",
        "C:\\",
        "D:\\",
        "Z:\\"
       ],
       "index": 0,
       "layout": "IPY_MODEL_a658f500ce25486babef9c3b10d1e4d9",
       "style": "IPY_MODEL_c608a1ea86e740d8bd18491756f2e9b0"
      }
     },
     "00ef4db3a4a04f55b73e0e34e67a85d6": {
      "model_module": "@jupyter-widgets/controls",
      "model_module_version": "1.5.0",
      "model_name": "VBoxModel",
      "state": {
       "children": [
        "IPY_MODEL_ae351a0c03cf4e7b92a1efce36b9a8c7",
        "IPY_MODEL_f790885dd8554dd8aa94deedd2e81ee4"
       ],
       "layout": "IPY_MODEL_1043f8a866c0437da5d8dc87db6997b6"
      }
     },
     "0131ee9558524707ab4e06a133913b3e": {
      "model_module": "@jupyter-widgets/controls",
      "model_module_version": "1.5.0",
      "model_name": "DropdownModel",
      "state": {
       "_options_labels": [
        "C:\\Users\\dominiquef\\Documents\\GIT\\mira\\mirageoscience-apps\\docs\\content\\applications",
        "C:\\Users\\dominiquef\\Documents\\GIT\\mira\\mirageoscience-apps\\docs\\content",
        "C:\\Users\\dominiquef\\Documents\\GIT\\mira\\mirageoscience-apps\\docs",
        "C:\\Users\\dominiquef\\Documents\\GIT\\mira\\mirageoscience-apps",
        "C:\\Users\\dominiquef\\Documents\\GIT\\mira",
        "C:\\Users\\dominiquef\\Documents\\GIT",
        "C:\\Users\\dominiquef\\Documents",
        "C:\\Users\\dominiquef",
        "C:\\Users",
        "C:\\",
        "D:\\",
        "Z:\\"
       ],
       "index": 0,
       "layout": "IPY_MODEL_5fecfa42e38d4958af5b0da214d35f3c",
       "style": "IPY_MODEL_fbd565da99da4df7ba506c5732c164bd"
      }
     },
     "0159a26510d4481ea2df29db0f4e18db": {
      "model_module": "@jupyter-widgets/base",
      "model_module_version": "1.2.0",
      "model_name": "LayoutModel",
      "state": {}
     },
     "015eb0319355456ba37691160bfdad18": {
      "model_module": "@jupyter-widgets/controls",
      "model_module_version": "1.5.0",
      "model_name": "TextModel",
      "state": {
       "description": "Smallest cells",
       "layout": "IPY_MODEL_403a0bdd35424060a30c068d8a7b331b",
       "style": "IPY_MODEL_18559dcb2f704eef865b64c3476dc4f9",
       "value": "25, 25, 25"
      }
     },
     "017f72fabc1240bb891563d2c6bddcab": {
      "model_module": "@jupyter-widgets/controls",
      "model_module_version": "1.5.0",
      "model_name": "LabelModel",
      "state": {
       "layout": "IPY_MODEL_05d8975f5b9a47918c5ec5e1d8ca8434",
       "style": "IPY_MODEL_2307498e1ab347b996ffe1b5d3a26efe",
       "value": "Topo, Sensor and Line Location Options"
      }
     },
     "019827f9f0b04334a572c9d45b523b56": {
      "model_module": "@jupyter-widgets/controls",
      "model_module_version": "1.5.0",
      "model_name": "DescriptionStyleModel",
      "state": {
       "description_width": ""
      }
     },
     "01db6a7068244fea9315dd4204e848b2": {
      "model_module": "@jupyter-widgets/base",
      "model_module_version": "1.2.0",
      "model_name": "LayoutModel",
      "state": {}
     },
     "0267d698cbb342e2910d50b38ccd4a6f": {
      "model_module": "@jupyter-widgets/controls",
      "model_module_version": "1.5.0",
      "model_name": "DescriptionStyleModel",
      "state": {
       "description_width": ""
      }
     },
     "0270e899c31442799f2f83c61c294f99": {
      "model_module": "@jupyter-widgets/base",
      "model_module_version": "1.2.0",
      "model_name": "LayoutModel",
      "state": {}
     },
     "028dee8cb5224949894f4dfac47e95c3": {
      "model_module": "@jupyter-widgets/base",
      "model_module_version": "1.2.0",
      "model_name": "LayoutModel",
      "state": {}
     },
     "032b0ccc371f40a38adcb1384d83a6ea": {
      "model_module": "@jupyter-widgets/controls",
      "model_module_version": "1.5.0",
      "model_name": "FloatTextModel",
      "state": {
       "description": "Elevation (m)",
       "layout": "IPY_MODEL_3a47508882b947f290c2e854fe98fcbf",
       "step": null,
       "style": "IPY_MODEL_5d5e2989340e4fecb02830e1365e3dbe"
      }
     },
     "032f90b19e98460bae043974bd7fde74": {
      "model_module": "@jupyter-widgets/controls",
      "model_module_version": "1.5.0",
      "model_name": "DescriptionStyleModel",
      "state": {
       "description_width": ""
      }
     },
     "037ccedd69d340f58138d54e43249226": {
      "model_module": "@jupyter-widgets/base",
      "model_module_version": "1.2.0",
      "model_name": "LayoutModel",
      "state": {
       "grid_area": "dircontent",
       "width": "auto"
      }
     },
     "038e37fa534742228a56659b6357df3d": {
      "model_module": "@jupyter-widgets/controls",
      "model_module_version": "1.5.0",
      "model_name": "DescriptionStyleModel",
      "state": {
       "description_width": "initial"
      }
     },
     "03deacf90513428eb6fb419d96973cd7": {
      "model_module": "@jupyter-widgets/controls",
      "model_module_version": "1.5.0",
      "model_name": "ButtonModel",
      "state": {
       "description": "Cancel",
       "layout": "IPY_MODEL_e21c4093615e4dce88346e240a25ccda",
       "style": "IPY_MODEL_0093e0b68651490393687f0b54b749d6"
      }
     },
     "03e9b01328f9489f9be77c92b99b0e3e": {
      "model_module": "@jupyter-widgets/base",
      "model_module_version": "1.2.0",
      "model_name": "LayoutModel",
      "state": {}
     },
     "040809c36117429193b495e325e552bb": {
      "model_module": "@jupyter-widgets/controls",
      "model_module_version": "1.5.0",
      "model_name": "HBoxModel",
      "state": {
       "children": [
        "IPY_MODEL_2a4f3a632de04aee9e9a89f2fc39231d",
        "IPY_MODEL_52bb524a1a914f74bf0d86f9c3dd9dad",
        "IPY_MODEL_749c59cdf96c417dbb726f8a2c212152"
       ],
       "layout": "IPY_MODEL_f56d35a2a8b64db6b2811fab7b7e9fb5"
      }
     },
     "0411fa34c8824869867dd10d105c1dca": {
      "model_module": "@jupyter-widgets/controls",
      "model_module_version": "1.5.0",
      "model_name": "CheckboxModel",
      "state": {
       "description": "Forward only",
       "disabled": false,
       "layout": "IPY_MODEL_9fdeb65c337b445abe8128e5c9ba8bf6",
       "style": "IPY_MODEL_eb59c8db65584df3b0983593e72df079",
       "value": false
      }
     },
     "042dff69c46f48fca8961b55e640867d": {
      "model_module": "@jupyter-widgets/controls",
      "model_module_version": "1.5.0",
      "model_name": "SelectModel",
      "state": {
       "_options_labels": [
        "..",
        "dask-worker-space",
        "images",
        "base_application.ipynb",
        "calculator.ipynb",
        "clustering.ipynb",
        "contouring.ipynb",
        "coordinate_transformation.ipynb",
        "create_surface.ipynb",
        "data_interpolation.ipynb",
        "edge_detection.ipynb",
        "export.ipynb",
        "geophysical_inversion.ipynb",
        "object_data_selection.ipynb",
        "peak_finder.ipynb",
        "scatter.ipynb",
        "view_selection.ipynb"
       ],
       "index": null,
       "layout": "IPY_MODEL_de6accbc358e46c584f83b097610a239",
       "rows": 8,
       "style": "IPY_MODEL_97442673455e4cc78c10b35bec2c57ab"
      }
     },
     "044c8939862742c198ccfd499f97c6d8": {
      "model_module": "@jupyter-widgets/controls",
      "model_module_version": "1.5.0",
      "model_name": "DescriptionStyleModel",
      "state": {
       "description_width": ""
      }
     },
     "04645ae643e94bc6b49467fd377a5009": {
      "model_module": "@jupyter-widgets/controls",
      "model_module_version": "1.5.0",
      "model_name": "ButtonStyleModel",
      "state": {}
     },
     "04d86648aa084c2082e2b899e558cf4e": {
      "model_module": "@jupyter-widgets/base",
      "model_module_version": "1.2.0",
      "model_name": "LayoutModel",
      "state": {}
     },
     "04de3ba4195f4b1495d5629c7bd2509f": {
      "model_module": "@jupyter-widgets/base",
      "model_module_version": "1.2.0",
      "model_name": "LayoutModel",
      "state": {}
     },
     "053c0b9cf05f47b8b06b7badb4e64518": {
      "model_module": "@jupyter-widgets/base",
      "model_module_version": "1.2.0",
      "model_name": "LayoutModel",
      "state": {}
     },
     "055e8b029394445880de64ef12faac1d": {
      "model_module": "@jupyter-widgets/controls",
      "model_module_version": "1.5.0",
      "model_name": "ButtonStyleModel",
      "state": {}
     },
     "05d8975f5b9a47918c5ec5e1d8ca8434": {
      "model_module": "@jupyter-widgets/base",
      "model_module_version": "1.2.0",
      "model_name": "LayoutModel",
      "state": {}
     },
     "0632ad24fcc749afa80cd5d8472d6d15": {
      "model_module": "@jupyter-widgets/controls",
      "model_module_version": "1.5.0",
      "model_name": "TextModel",
      "state": {
       "description": "bxz",
       "layout": "IPY_MODEL_e2148870a2a9488abd038725a4465964",
       "style": "IPY_MODEL_96d70068556744daa5285b745dcad32f"
      }
     },
     "063e7f5f3e394310b26272512a998bfa": {
      "model_module": "@jupyter-widgets/controls",
      "model_module_version": "1.5.0",
      "model_name": "DescriptionStyleModel",
      "state": {
       "description_width": ""
      }
     },
     "065f04e283224aa8b7176996b1975092": {
      "model_module": "@jupyter-widgets/controls",
      "model_module_version": "1.5.0",
      "model_name": "ButtonModel",
      "state": {
       "description": "Select",
       "layout": "IPY_MODEL_58647055505d431292c3b8c21ae5297a",
       "style": "IPY_MODEL_efb6c6cf681f45a79db62c694b6f332d"
      }
     },
     "0687ba3f003d40daa25ea703d257b936": {
      "model_module": "@jupyter-widgets/base",
      "model_module_version": "1.2.0",
      "model_name": "LayoutModel",
      "state": {}
     },
     "06e58c0786c945f9bab4ded8d3f4f364": {
      "model_module": "@jupyter-widgets/base",
      "model_module_version": "1.2.0",
      "model_name": "LayoutModel",
      "state": {
       "width": "auto"
      }
     },
     "073174a90c3b4793bbf0020e29fb90de": {
      "model_module": "@jupyter-widgets/base",
      "model_module_version": "1.2.0",
      "model_name": "LayoutModel",
      "state": {
       "grid_area": "pathlist",
       "width": "auto"
      }
     },
     "07447ff6b95f4321ad3b43e111e31bce": {
      "model_module": "@jupyter-widgets/base",
      "model_module_version": "1.2.0",
      "model_name": "LayoutModel",
      "state": {}
     },
     "07568a0dbed84eda80f38ff9f342e47b": {
      "model_module": "@jupyter-widgets/controls",
      "model_module_version": "1.5.0",
      "model_name": "LabelModel",
      "state": {
       "layout": "IPY_MODEL_7f418c73a7274ce5bd996a6c6f1e1a03",
       "style": "IPY_MODEL_b1b27ad850514cd3bab2ed8e3922aaba",
       "value": "Max depth: 477.27 m"
      }
     },
     "0799ae35af224b21ae1fbd1f13721c8b": {
      "model_module": "@jupyter-widgets/base",
      "model_module_version": "1.2.0",
      "model_name": "LayoutModel",
      "state": {}
     },
     "07b92266541e438f86c2764480f47416": {
      "model_module": "@jupyter-widgets/controls",
      "model_module_version": "1.5.0",
      "model_name": "DescriptionStyleModel",
      "state": {
       "description_width": ""
      }
     },
     "07dfcd8a2beb44d89840fade0c51c593": {
      "model_module": "@jupyter-widgets/base",
      "model_module_version": "1.2.0",
      "model_name": "LayoutModel",
      "state": {}
     },
     "089147aaa6ba45ce8f97518501d4f0c7": {
      "model_module": "@jupyter-widgets/controls",
      "model_module_version": "1.5.0",
      "model_name": "DescriptionStyleModel",
      "state": {
       "description_width": "initial"
      }
     },
     "08f4a72c81734bd68f0d6b071b1ca88d": {
      "model_module": "@jupyter-widgets/controls",
      "model_module_version": "1.5.0",
      "model_name": "DescriptionStyleModel",
      "state": {
       "description_width": "initial"
      }
     },
     "095303c03f9e4679a877c540c318958c": {
      "model_module": "@jupyter-widgets/controls",
      "model_module_version": "1.5.0",
      "model_name": "DescriptionStyleModel",
      "state": {
       "description_width": ""
      }
     },
     "096862cc7efa407b9f07a670ebb5f5a0": {
      "model_module": "@jupyter-widgets/base",
      "model_module_version": "1.2.0",
      "model_name": "LayoutModel",
      "state": {}
     },
     "09700398f42b40cc9dadc1cdb0dd1ebb": {
      "model_module": "@jupyter-widgets/base",
      "model_module_version": "1.2.0",
      "model_name": "LayoutModel",
      "state": {}
     },
     "09887e0a2e3c41a1843a17da54502a93": {
      "model_module": "@jupyter-widgets/controls",
      "model_module_version": "1.5.0",
      "model_name": "DescriptionStyleModel",
      "state": {
       "description_width": ""
      }
     },
     "09aebbc790cf44b3a4db78395034d73f": {
      "model_module": "@jupyter-widgets/base",
      "model_module_version": "1.2.0",
      "model_name": "LayoutModel",
      "state": {}
     },
     "09bdbb92c1a045a0a17860319c0ef831": {
      "model_module": "@jupyter-widgets/controls",
      "model_module_version": "1.5.0",
      "model_name": "CheckboxModel",
      "state": {
       "description": "GA Pro - Live link",
       "disabled": false,
       "indent": false,
       "layout": "IPY_MODEL_ceff33e8267443d5899df443990dfac9",
       "style": "IPY_MODEL_038e37fa534742228a56659b6357df3d",
       "value": false
      }
     },
     "09dd26ceefbf45ab84255b5d41172ba0": {
      "model_module": "@jupyter-widgets/controls",
      "model_module_version": "1.5.0",
      "model_name": "ButtonModel",
      "state": {
       "button_style": "danger",
       "description": "Compute",
       "icon": "check",
       "layout": "IPY_MODEL_6f03ecd9dde742afa60075ea371d9373",
       "style": "IPY_MODEL_95b5ada2f24848c597659f4ef3ceb8a7",
       "tooltip": "Run computation"
      }
     },
     "09fdb91187824373b0132da03d8dd29d": {
      "model_module": "@jupyter-widgets/base",
      "model_module_version": "1.2.0",
      "model_name": "LayoutModel",
      "state": {}
     },
     "0a0fe3aae73e4e298e5752a8750199d9": {
      "model_module": "@jupyter-widgets/controls",
      "model_module_version": "1.5.0",
      "model_name": "ButtonStyleModel",
      "state": {}
     },
     "0a1372acde5143e7ab702a7aa631336c": {
      "model_module": "@jupyter-widgets/controls",
      "model_module_version": "1.5.0",
      "model_name": "FloatTextModel",
      "state": {
       "description": "Max triangulation length",
       "layout": "IPY_MODEL_7b6430e132094da2b2ced90ebfb86614",
       "step": null,
       "style": "IPY_MODEL_a14ca3040a1d44f8b01ce487a9b637a9",
       "value": 1000
      }
     },
     "0a31b5a504ee4a41ae880e4d620897f1": {
      "model_module": "@jupyter-widgets/controls",
      "model_module_version": "1.5.0",
      "model_name": "VBoxModel",
      "state": {
       "children": [
        "IPY_MODEL_53d305b3344a4d91a4f7289d90a4c919",
        "IPY_MODEL_1ec7dd2727274a1684deb5cd10bf3107"
       ],
       "layout": "IPY_MODEL_0d68d81d3919452b8376875337c434d2"
      }
     },
     "0ae9116f2e784a4589504f1755327d54": {
      "model_module": "@jupyter-widgets/base",
      "model_module_version": "1.2.0",
      "model_name": "LayoutModel",
      "state": {}
     },
     "0b1e0c3090df43b8a11eb0b82b576963": {
      "model_module": "@jupyter-widgets/base",
      "model_module_version": "1.2.0",
      "model_name": "LayoutModel",
      "state": {
       "grid_area": "dircontent",
       "width": "auto"
      }
     },
     "0b507799477145dd8cc7952baf7260c4": {
      "model_module": "@jupyter-widgets/controls",
      "model_module_version": "1.5.0",
      "model_name": "ButtonModel",
      "state": {
       "description": "Select",
       "layout": "IPY_MODEL_0dae6dfa5a4b48d58f52eaf6bd67e38a",
       "style": "IPY_MODEL_138ca9b2b5dd42f2b708194eb3ece4f8"
      }
     },
     "0b651ededfec4f658adaaedcd4ba13b5": {
      "model_module": "@jupyter-widgets/base",
      "model_module_version": "1.2.0",
      "model_name": "LayoutModel",
      "state": {}
     },
     "0b6f28cb50664f898798d8687073ae3c": {
      "model_module": "@jupyter-widgets/controls",
      "model_module_version": "1.5.0",
      "model_name": "TextModel",
      "state": {
       "description": "bxx",
       "layout": "IPY_MODEL_0e988b613fed4b2390a21b1bf97484a9",
       "style": "IPY_MODEL_cbcae91a0ef44c9587f85d8f75faaab9"
      }
     },
     "0b857102e49d46a3b976ccffa3508985": {
      "model_module": "@jupyter-widgets/controls",
      "model_module_version": "1.5.0",
      "model_name": "DescriptionStyleModel",
      "state": {
       "description_width": ""
      }
     },
     "0b89589e9bb34f32bbf4d5485c0e71d5": {
      "model_module": "@jupyter-widgets/base",
      "model_module_version": "1.2.0",
      "model_name": "LayoutModel",
      "state": {
       "width": "auto"
      }
     },
     "0c4062bf60f74b68b3bfe3a9c6760056": {
      "model_module": "@jupyter-widgets/base",
      "model_module_version": "1.2.0",
      "model_name": "LayoutModel",
      "state": {
       "display": "none",
       "width": "auto"
      }
     },
     "0c7a56f0b05b49f0bcdc6656681246ea": {
      "model_module": "@jupyter-widgets/controls",
      "model_module_version": "1.5.0",
      "model_name": "ButtonStyleModel",
      "state": {}
     },
     "0ca6d822a6e7449797a4527f769b7b1a": {
      "model_module": "@jupyter-widgets/controls",
      "model_module_version": "1.5.0",
      "model_name": "DescriptionStyleModel",
      "state": {
       "description_width": "initial"
      }
     },
     "0cacebd2fa1645bab94f5ca603d1be07": {
      "model_module": "@jupyter-widgets/controls",
      "model_module_version": "1.5.0",
      "model_name": "SliderStyleModel",
      "state": {
       "description_width": "initial"
      }
     },
     "0cf8b8267afa4b09a284ebe5db5b0c3d": {
      "model_module": "@jupyter-widgets/controls",
      "model_module_version": "1.5.0",
      "model_name": "TextModel",
      "state": {
       "description": "tmi",
       "layout": "IPY_MODEL_7b71cd224189409f87e57707ffb6c566",
       "style": "IPY_MODEL_56ef9cdff9c14c0fb58891a33268f2b9"
      }
     },
     "0d68d81d3919452b8376875337c434d2": {
      "model_module": "@jupyter-widgets/base",
      "model_module_version": "1.2.0",
      "model_name": "LayoutModel",
      "state": {}
     },
     "0d90f55936f84ccaa2ff0f3693ce9856": {
      "model_module": "@jupyter-widgets/controls",
      "model_module_version": "1.5.0",
      "model_name": "VBoxModel",
      "state": {
       "children": [
        "IPY_MODEL_9820d4e1b2a5473494c758088373a788",
        "IPY_MODEL_522604fc188f43c98cc2bc4514616ecd",
        "IPY_MODEL_1217b9c685b4497b962489d591c1c07e",
        "IPY_MODEL_cf1df7fadaeb4169805b72c1cbfe3e14",
        "IPY_MODEL_3995a334945148a5a0d388d1f570016a",
        "IPY_MODEL_b5bcb31650e44eba859ff0f2147187d5",
        "IPY_MODEL_ebf8ca1a205943f59d39ddf1a28457e2"
       ],
       "layout": "IPY_MODEL_103bbe2e915e499ea541747884d5afba"
      }
     },
     "0dae6dfa5a4b48d58f52eaf6bd67e38a": {
      "model_module": "@jupyter-widgets/base",
      "model_module_version": "1.2.0",
      "model_name": "LayoutModel",
      "state": {
       "width": "auto"
      }
     },
     "0db9a81a4948412198001e62f4c372d5": {
      "model_module": "@jupyter-widgets/controls",
      "model_module_version": "1.5.0",
      "model_name": "ButtonModel",
      "state": {
       "button_style": "danger",
       "description": "Compute",
       "icon": "check",
       "layout": "IPY_MODEL_9fe98fe07d69463386318fa99526837e",
       "style": "IPY_MODEL_636511c2bb4c48938214de9eae3ef6e5",
       "tooltip": "Run computation"
      }
     },
     "0e289ff64a3148668f139eb50ee3eee4": {
      "model_module": "@jupyter-widgets/base",
      "model_module_version": "1.2.0",
      "model_name": "LayoutModel",
      "state": {}
     },
     "0e6b96df581e4d3b82edb1394ced8315": {
      "model_module": "@jupyter-widgets/controls",
      "model_module_version": "1.5.0",
      "model_name": "ButtonModel",
      "state": {
       "description": "Cancel",
       "layout": "IPY_MODEL_d2c326c7ea0e488393ce95dfed02aea4",
       "style": "IPY_MODEL_17c3ed68b928472480f8ec11f7da4e48"
      }
     },
     "0e80d10921ff46acbf842322c2138be9": {
      "model_module": "@jupyter-widgets/controls",
      "model_module_version": "1.5.0",
      "model_name": "LabelModel",
      "state": {
       "layout": "IPY_MODEL_955fd309f617429a94fa4331d2f4ec71",
       "style": "IPY_MODEL_a1c9c60006ae4c82845f93b20c6f26ce",
       "value": "Monitoring folder"
      }
     },
     "0e8387b6a7904ee798a838ab1d0d29c9": {
      "model_module": "@jupyter-widgets/base",
      "model_module_version": "1.2.0",
      "model_name": "LayoutModel",
      "state": {}
     },
     "0e988b613fed4b2390a21b1bf97484a9": {
      "model_module": "@jupyter-widgets/base",
      "model_module_version": "1.2.0",
      "model_name": "LayoutModel",
      "state": {
       "visibility": "hidden"
      }
     },
     "0ea9de17b22949aea458bff9ee980f75": {
      "model_module": "@jupyter-widgets/controls",
      "model_module_version": "1.5.0",
      "model_name": "TextModel",
      "state": {
       "continuous_update": false,
       "description": "Group:",
       "layout": "IPY_MODEL_1c90bf7be63345979920f9fcb7a14327",
       "style": "IPY_MODEL_cb15bf47dc254792b82166cd960b8a0d"
      }
     },
     "0edd75590073465c8978f4635fcbbca0": {
      "model_module": "@jupyter-widgets/controls",
      "model_module_version": "1.5.0",
      "model_name": "DescriptionStyleModel",
      "state": {
       "description_width": "initial"
      }
     },
     "0ee49f37438449efaaf8eeb3d2a42c79": {
      "model_module": "@jupyter-widgets/base",
      "model_module_version": "1.2.0",
      "model_name": "LayoutModel",
      "state": {}
     },
     "0ee7fe1fd4aa40a9a9dc102f1ba37023": {
      "model_module": "@jupyter-widgets/controls",
      "model_module_version": "1.5.0",
      "model_name": "DescriptionStyleModel",
      "state": {
       "description_width": "initial"
      }
     },
     "0eea75b42bbc439286a36324417f8a30": {
      "model_module": "@jupyter-widgets/controls",
      "model_module_version": "1.5.0",
      "model_name": "DescriptionStyleModel",
      "state": {
       "description_width": "initial"
      }
     },
     "0f3c6f12676d405d911e94ab240c6df9": {
      "model_module": "@jupyter-widgets/controls",
      "model_module_version": "1.5.0",
      "model_name": "DescriptionStyleModel",
      "state": {
       "description_width": ""
      }
     },
     "0fa8407361c445399454151cf294c5de": {
      "model_module": "@jupyter-widgets/controls",
      "model_module_version": "1.5.0",
      "model_name": "DescriptionStyleModel",
      "state": {
       "description_width": ""
      }
     },
     "0faff41d8bfc4058ba2df8a36a714673": {
      "model_module": "@jupyter-widgets/controls",
      "model_module_version": "1.5.0",
      "model_name": "DescriptionStyleModel",
      "state": {
       "description_width": ""
      }
     },
     "10033b8e3f5941239e4d171f51cbc0f0": {
      "model_module": "@jupyter-widgets/controls",
      "model_module_version": "1.5.0",
      "model_name": "DescriptionStyleModel",
      "state": {
       "description_width": "initial"
      }
     },
     "1006234277e14d61acb906e833416748": {
      "model_module": "@jupyter-widgets/controls",
      "model_module_version": "1.5.0",
      "model_name": "FloatSliderModel",
      "state": {
       "continuous_update": false,
       "description": "Height",
       "layout": "IPY_MODEL_04d86648aa084c2082e2b899e558cf4e",
       "max": 11351.865002485923,
       "orientation": "vertical",
       "step": 0.1,
       "style": "IPY_MODEL_7ffced3a1e684469b2fa78dda9dca58f",
       "value": 1500
      }
     },
     "10127e952eb24feb8cbb12a7683f6306": {
      "model_module": "@jupyter-widgets/controls",
      "model_module_version": "1.5.0",
      "model_name": "ButtonModel",
      "state": {
       "description": "Cancel",
       "layout": "IPY_MODEL_b6541c7eca024060bd992d556dc7e916",
       "style": "IPY_MODEL_124dff84a2d241ed876baac38867fc4d"
      }
     },
     "103bbe2e915e499ea541747884d5afba": {
      "model_module": "@jupyter-widgets/base",
      "model_module_version": "1.2.0",
      "model_name": "LayoutModel",
      "state": {}
     },
     "1043f8a866c0437da5d8dc87db6997b6": {
      "model_module": "@jupyter-widgets/base",
      "model_module_version": "1.2.0",
      "model_name": "LayoutModel",
      "state": {}
     },
     "1079fb59bcc949e49e5687684a818390": {
      "model_module": "@jupyter-widgets/controls",
      "model_module_version": "1.5.0",
      "model_name": "TextModel",
      "state": {
       "description": "Layers below topo",
       "layout": "IPY_MODEL_58ec6586d5fd40fb8161221baf6580c7",
       "style": "IPY_MODEL_cef2f5d7177749d6bccc76950c111922",
       "value": "0, 0, 0, 2"
      }
     },
     "109942c7b6d248f48f49a06b5502be82": {
      "model_module": "@jupyter-widgets/controls",
      "model_module_version": "1.5.0",
      "model_name": "HBoxModel",
      "state": {
       "children": [
        "IPY_MODEL_f57aed99e9af428f8cc0698815d0ae74",
        "IPY_MODEL_804830e63adc4f5e8b4c4fabec765162",
        "IPY_MODEL_a6a411f0d8174f46b7ccd02667e20c67"
       ],
       "layout": "IPY_MODEL_683eaf978fe241458ccd3ae0bdf5601d"
      }
     },
     "111d7f9f115c4e9d95dd636a4c0c97b9": {
      "model_module": "@jupyter-widgets/base",
      "model_module_version": "1.2.0",
      "model_name": "LayoutModel",
      "state": {}
     },
     "1128b30c34c44a11ad06744663f40c19": {
      "model_module": "@jupyter-widgets/controls",
      "model_module_version": "1.5.0",
      "model_name": "DescriptionStyleModel",
      "state": {
       "description_width": ""
      }
     },
     "115a964bc94042ef93fd2060eaa0a781": {
      "model_module": "@jupyter-widgets/base",
      "model_module_version": "1.2.0",
      "model_name": "LayoutModel",
      "state": {
       "visibility": "hidden"
      }
     },
     "118f3f7206bb4f118a2c0aef413299ab": {
      "model_module": "@jupyter-widgets/base",
      "model_module_version": "1.2.0",
      "model_name": "LayoutModel",
      "state": {
       "display": "none"
      }
     },
     "11ae9813e28845689a04b6e2e02b5592": {
      "model_module": "@jupyter-widgets/base",
      "model_module_version": "1.2.0",
      "model_name": "LayoutModel",
      "state": {
       "visibility": "hidden"
      }
     },
     "11b6d19cd4794367b2e65db3e4cee920": {
      "model_module": "@jupyter-widgets/controls",
      "model_module_version": "1.5.0",
      "model_name": "DescriptionStyleModel",
      "state": {
       "description_width": ""
      }
     },
     "11d57ef828744925bcb1fd4facd829f3": {
      "model_module": "@jupyter-widgets/controls",
      "model_module_version": "1.5.0",
      "model_name": "ButtonModel",
      "state": {
       "description": "Cancel",
       "layout": "IPY_MODEL_7e4249f783334340976f3549ee0e8d64",
       "style": "IPY_MODEL_57713e42dda547d5bf38bf5808aec2f2"
      }
     },
     "11db98036f3f4982a028c752bbcffec8": {
      "model_module": "@jupyter-widgets/controls",
      "model_module_version": "1.5.0",
      "model_name": "DescriptionStyleModel",
      "state": {
       "description_width": ""
      }
     },
     "11fbf7ebc9b04511afc36db044daec11": {
      "model_module": "@jupyter-widgets/controls",
      "model_module_version": "1.5.0",
      "model_name": "DescriptionStyleModel",
      "state": {
       "description_width": "initial"
      }
     },
     "1217b9c685b4497b962489d591c1c07e": {
      "model_module": "@jupyter-widgets/controls",
      "model_module_version": "1.5.0",
      "model_name": "HBoxModel",
      "state": {
       "children": [
        "IPY_MODEL_7efbe70b47304b8daf254f66cff4d12f",
        "IPY_MODEL_a6ef4e87142c4e599eb2533290268e8c"
       ],
       "layout": "IPY_MODEL_6f82c9a7bf8244cbbe4bde7159708650"
      }
     },
     "124dff84a2d241ed876baac38867fc4d": {
      "model_module": "@jupyter-widgets/controls",
      "model_module_version": "1.5.0",
      "model_name": "ButtonStyleModel",
      "state": {}
     },
     "12b3528dca2940ba9f99db12374a4f9c": {
      "model_module": "@jupyter-widgets/controls",
      "model_module_version": "1.5.0",
      "model_name": "DescriptionStyleModel",
      "state": {
       "description_width": ""
      }
     },
     "12dc7b8f5f7e4676bc10ab4bcc8b6049": {
      "model_module": "@jupyter-widgets/base",
      "model_module_version": "1.2.0",
      "model_name": "LayoutModel",
      "state": {
       "width": "auto"
      }
     },
     "138ca9b2b5dd42f2b708194eb3ece4f8": {
      "model_module": "@jupyter-widgets/controls",
      "model_module_version": "1.5.0",
      "model_name": "ButtonStyleModel",
      "state": {}
     },
     "145adb3352b24c32918ef01588a7a44c": {
      "model_module": "@jupyter-widgets/base",
      "model_module_version": "1.2.0",
      "model_name": "LayoutModel",
      "state": {}
     },
     "1467a0597af94ab29cf04ccbab14debe": {
      "model_module": "@jupyter-widgets/controls",
      "model_module_version": "1.5.0",
      "model_name": "VBoxModel",
      "state": {
       "children": [
        "IPY_MODEL_ef903a47a2854da9b667514faa5dbbb3",
        "IPY_MODEL_f3207da0cbbd494eb7bad28fc498d7cc"
       ],
       "layout": "IPY_MODEL_fd7c79828db140f4afc106fc79d4f551"
      }
     },
     "1473c0b05c20489098ede47621ea9f9f": {
      "model_module": "@jupyter-widgets/controls",
      "model_module_version": "1.5.0",
      "model_name": "CheckboxModel",
      "state": {
       "description": "GA Pro - Live link",
       "disabled": false,
       "indent": false,
       "layout": "IPY_MODEL_e6008364aa754c28a8481ff0c2277179",
       "style": "IPY_MODEL_704b0fc0b4df4738a289349724052989",
       "value": false
      }
     },
     "14a8215aaf0e4189a626172b18bba83b": {
      "model_module": "@jupyter-widgets/controls",
      "model_module_version": "1.5.0",
      "model_name": "HBoxModel",
      "state": {
       "children": [
        "IPY_MODEL_2b0bb651a3cc41f78d5b2d232fca5ff5",
        "IPY_MODEL_60a327271eae445f803a51e288ff4317"
       ],
       "layout": "IPY_MODEL_096862cc7efa407b9f07a670ebb5f5a0"
      }
     },
     "14add60fbd1c4f388f46bd9258dce4a0": {
      "model_module": "@jupyter-widgets/controls",
      "model_module_version": "1.5.0",
      "model_name": "GridBoxModel",
      "state": {
       "children": [
        "IPY_MODEL_0131ee9558524707ab4e06a133913b3e",
        "IPY_MODEL_d0e865c11f1c40dc9e1b9d1667f88d2c",
        "IPY_MODEL_7932730f8d414d7e8b4cc8244deb9c8e"
       ],
       "layout": "IPY_MODEL_33b57e3f8fa344d7a5b6da319e4d983e"
      }
     },
     "152ff059e49046fc81697f0177618715": {
      "model_module": "@jupyter-widgets/base",
      "model_module_version": "1.2.0",
      "model_name": "LayoutModel",
      "state": {}
     },
     "155ef7c24f4445948f5e32a0bddbea24": {
      "model_module": "@jupyter-widgets/base",
      "model_module_version": "1.2.0",
      "model_name": "LayoutModel",
      "state": {}
     },
     "156dc44b20674da2ae6543c2b730e3ff": {
      "model_module": "@jupyter-widgets/controls",
      "model_module_version": "1.5.0",
      "model_name": "ButtonModel",
      "state": {
       "description": "Select",
       "layout": "IPY_MODEL_7e4e2fe3f2dd4b448edad1571d2f2da9",
       "style": "IPY_MODEL_2881ea64e7774a5ba73cb563e7634d55"
      }
     },
     "156e430f1ff7415095b481bb27d6bef7": {
      "model_module": "@jupyter-widgets/base",
      "model_module_version": "1.2.0",
      "model_name": "LayoutModel",
      "state": {
       "width": "auto"
      }
     },
     "15709f3e8f3f41bb8326d44049e1b4c1": {
      "model_module": "@jupyter-widgets/base",
      "model_module_version": "1.2.0",
      "model_name": "LayoutModel",
      "state": {
       "display": "none",
       "grid_gap": "0px 0px",
       "grid_template_areas": "\n                    'pathlist filename'\n                    'dircontent dircontent'\n                    ",
       "grid_template_columns": "60% 40%",
       "grid_template_rows": "auto auto",
       "width": "500px"
      }
     },
     "15dd26fb2a014438af2e53d6ef123f85": {
      "model_module": "@jupyter-widgets/controls",
      "model_module_version": "1.5.0",
      "model_name": "GridBoxModel",
      "state": {
       "children": [
        "IPY_MODEL_d4543fc14c484e8484d65ca00eef1856",
        "IPY_MODEL_b1d8e3b1401e4183a8087144942e551c",
        "IPY_MODEL_c93ce0581858475e808249d2cf95382c"
       ],
       "layout": "IPY_MODEL_bdfa947aa6a0418997cc9980cb825627"
      }
     },
     "15f933e7a99d4d598ebadc84a7eba81f": {
      "model_module": "@jupyter-widgets/controls",
      "model_module_version": "1.5.0",
      "model_name": "DescriptionStyleModel",
      "state": {
       "description_width": "initial"
      }
     },
     "1607f0e75c784e57a2937a99bbfec16b": {
      "model_module": "@jupyter-widgets/controls",
      "model_module_version": "1.5.0",
      "model_name": "VBoxModel",
      "state": {
       "children": [
        "IPY_MODEL_92dc07835451461291e009d3399ad243"
       ],
       "layout": "IPY_MODEL_9a9a40260e844c2b8b15364d7d7fb9df"
      }
     },
     "164f2b7e56a64e258bc585cfdb831a3f": {
      "model_module": "@jupyter-widgets/controls",
      "model_module_version": "1.5.0",
      "model_name": "HBoxModel",
      "state": {
       "children": [
        "IPY_MODEL_a75bd0a98fcb492a88ce5feb9a32e0f9",
        "IPY_MODEL_29e9f7f20a84416d808ed7d3df8f7f24"
       ],
       "layout": "IPY_MODEL_fd6b46af12f14c1a8fa25877ec405ee0"
      }
     },
     "1710505716fd48d0a1b1e7dcae6c3094": {
      "model_module": "@jupyter-widgets/controls",
      "model_module_version": "1.5.0",
      "model_name": "DescriptionStyleModel",
      "state": {
       "description_width": ""
      }
     },
     "175294d83da946e792b1552dcb011d81": {
      "model_module": "@jupyter-widgets/controls",
      "model_module_version": "1.5.0",
      "model_name": "HTMLModel",
      "state": {
       "layout": "IPY_MODEL_dd9c8e770840485a80d260016bada1c5",
       "style": "IPY_MODEL_de22efb0aa314936928566129ed23427"
      }
     },
     "177767ca4ead49ac80741c6546888e8c": {
      "model_module": "@jupyter-widgets/controls",
      "model_module_version": "1.5.0",
      "model_name": "CheckboxModel",
      "state": {
       "description": "GA Pro - Live link",
       "disabled": false,
       "indent": false,
       "layout": "IPY_MODEL_b24f0a9177924efd81122373a02fffd9",
       "style": "IPY_MODEL_55416900dfe04b3cbf0dd5eccd3c369e",
       "value": false
      }
     },
     "17bd53b7d4bc42a89a023ea02e3c93a5": {
      "model_module": "@jupyter-widgets/controls",
      "model_module_version": "1.5.0",
      "model_name": "RadioButtonsModel",
      "state": {
       "_options_labels": [
        "None",
        "Model",
        "Value"
       ],
       "index": 0,
       "layout": "IPY_MODEL_a5de1d6c83274b5094c009a9d279497d",
       "style": "IPY_MODEL_1c29617c69d04cda8ae9c112502820ab"
      }
     },
     "17c3ed68b928472480f8ec11f7da4e48": {
      "model_module": "@jupyter-widgets/controls",
      "model_module_version": "1.5.0",
      "model_name": "ButtonStyleModel",
      "state": {}
     },
     "17ea43961df844d9bd82ffe6e7ed17a6": {
      "model_module": "@jupyter-widgets/controls",
      "model_module_version": "1.5.0",
      "model_name": "TextModel",
      "state": {
       "description": "Data (i.e. <0 = no negatives)",
       "layout": "IPY_MODEL_f09c3fcce9a24146a6dabd7fdfb9055e",
       "style": "IPY_MODEL_019827f9f0b04334a572c9d45b523b56",
       "value": "-99999"
      }
     },
     "18559dcb2f704eef865b64c3476dc4f9": {
      "model_module": "@jupyter-widgets/controls",
      "model_module_version": "1.5.0",
      "model_name": "DescriptionStyleModel",
      "state": {
       "description_width": "initial"
      }
     },
     "1857f2e5bc28405a8b41c3c3db539b0f": {
      "model_module": "@jupyter-widgets/controls",
      "model_module_version": "1.5.0",
      "model_name": "VBoxModel",
      "state": {
       "children": [
        "IPY_MODEL_5428c6dbbc7246a8b0b14b968ae87094"
       ],
       "layout": "IPY_MODEL_0270e899c31442799f2f83c61c294f99"
      }
     },
     "189693ee5a0447a2a13508ee730182da": {
      "model_module": "@jupyter-widgets/controls",
      "model_module_version": "1.5.0",
      "model_name": "DescriptionStyleModel",
      "state": {
       "description_width": "initial"
      }
     },
     "189b24f65a5646a78788c4aaadf79c0f": {
      "model_module": "@jupyter-widgets/base",
      "model_module_version": "1.2.0",
      "model_name": "LayoutModel",
      "state": {}
     },
     "18a66ba959124367a3cd334d7176d5e7": {
      "model_module": "@jupyter-widgets/base",
      "model_module_version": "1.2.0",
      "model_name": "LayoutModel",
      "state": {}
     },
     "18d6cdcb51a04f8b8c07d4db3bda0c8a": {
      "model_module": "@jupyter-widgets/controls",
      "model_module_version": "1.5.0",
      "model_name": "VBoxModel",
      "state": {
       "children": [
        "IPY_MODEL_e5d32bf28c56447a9d8667bf2f8037b9",
        "IPY_MODEL_164f2b7e56a64e258bc585cfdb831a3f",
        "IPY_MODEL_5b8fd09721af4f52aa7f129646dbfbab",
        "IPY_MODEL_c3e9420e16d5448db345c6551aabe4fd",
        "IPY_MODEL_f21d4848b0a64454a5f639424f3fba66",
        "IPY_MODEL_0411fa34c8824869867dd10d105c1dca",
        "IPY_MODEL_704c83b58a1b40878240299d5043685e"
       ],
       "layout": "IPY_MODEL_3c9342bf6650486288abd8df64c3a940"
      }
     },
     "18fb1776a55f4ced893a4f0fbf9c4886": {
      "model_module": "@jupyter-widgets/controls",
      "model_module_version": "1.5.0",
      "model_name": "DescriptionStyleModel",
      "state": {
       "description_width": ""
      }
     },
     "18fdc1578c35417f9b65d2a07b3d326e": {
      "model_module": "@jupyter-widgets/base",
      "model_module_version": "1.2.0",
      "model_name": "LayoutModel",
      "state": {}
     },
     "1926ac97112c42d487c65907365b774d": {
      "model_module": "@jupyter-widgets/controls",
      "model_module_version": "1.5.0",
      "model_name": "VBoxModel",
      "state": {
       "children": [
        "IPY_MODEL_4969832ded92412fb0b919dd454205dd",
        "IPY_MODEL_eaf9a99143c8476bae7c6ae984428896"
       ],
       "layout": "IPY_MODEL_df417c7cc54a40bca11d1be50187778f"
      }
     },
     "19ad9dad157c49ee8ccfc84f42b54419": {
      "model_module": "@jupyter-widgets/controls",
      "model_module_version": "1.5.0",
      "model_name": "TextModel",
      "state": {
       "description": "Save to:",
       "layout": "IPY_MODEL_94a252690e574d50b84f85185cf68580",
       "style": "IPY_MODEL_77c22807601b48158e7e5a9f004f9717",
       "value": "Inversion_"
      }
     },
     "19d149f427744636a22daa7be30c3bfb": {
      "model_module": "@jupyter-widgets/base",
      "model_module_version": "1.2.0",
      "model_name": "LayoutModel",
      "state": {}
     },
     "19f45a84a8334f99ba242f4270369b8e": {
      "model_module": "@jupyter-widgets/base",
      "model_module_version": "1.2.0",
      "model_name": "LayoutModel",
      "state": {}
     },
     "1a732057db4845c983caf117279cc1f3": {
      "model_module": "@jupyter-widgets/controls",
      "model_module_version": "1.5.0",
      "model_name": "HTMLModel",
      "state": {
       "layout": "IPY_MODEL_841fe736f7f04fb9baab54a4887cd9b2",
       "placeholder": "",
       "style": "IPY_MODEL_0066129c2ad147eb83d6e32dd5644a1a",
       "value": "<span style=\"margin-left:10px; color:black;\">No file selected</span>"
      }
     },
     "1a968f0fa23544ebb8e69729d5bf4daf": {
      "model_module": "@jupyter-widgets/controls",
      "model_module_version": "1.5.0",
      "model_name": "RadioButtonsModel",
      "state": {
       "_options_labels": [
        "Estimated (%|data| + background)",
        "User input (%|data| + floor)"
       ],
       "index": 1,
       "layout": "IPY_MODEL_a725fe7acaf347a8b6c87dc49b2d4684",
       "style": "IPY_MODEL_cb2533677d3640038bfed31a8ff0f01c"
      }
     },
     "1b56b3a5cb1c47db8895933bfaf02232": {
      "model_module": "@jupyter-widgets/controls",
      "model_module_version": "1.5.0",
      "model_name": "DescriptionStyleModel",
      "state": {
       "description_width": "initial"
      }
     },
     "1b790c39a8814f08ae12f92ea685e209": {
      "model_module": "@jupyter-widgets/base",
      "model_module_version": "1.2.0",
      "model_name": "LayoutModel",
      "state": {}
     },
     "1b8bf1f62b1744b7962194508d757fee": {
      "model_module": "@jupyter-widgets/controls",
      "model_module_version": "1.5.0",
      "model_name": "HTMLModel",
      "state": {
       "layout": "IPY_MODEL_ac30df07bee741cbacf29279034ecb7c",
       "style": "IPY_MODEL_c83f7271bd3d4e4aaa7a015cb3955cf5"
      }
     },
     "1ba33a7a47f449ed872896d728a1572e": {
      "model_module": "@jupyter-widgets/base",
      "model_module_version": "1.2.0",
      "model_name": "LayoutModel",
      "state": {
       "width": "auto"
      }
     },
     "1bef642396ff44389055bab2de26f084": {
      "model_module": "@jupyter-widgets/base",
      "model_module_version": "1.2.0",
      "model_name": "LayoutModel",
      "state": {}
     },
     "1c29617c69d04cda8ae9c112502820ab": {
      "model_module": "@jupyter-widgets/controls",
      "model_module_version": "1.5.0",
      "model_name": "DescriptionStyleModel",
      "state": {
       "description_width": ""
      }
     },
     "1c90bf7be63345979920f9fcb7a14327": {
      "model_module": "@jupyter-widgets/base",
      "model_module_version": "1.2.0",
      "model_name": "LayoutModel",
      "state": {}
     },
     "1c98b7aec66f4394a97e0bace5f7d41f": {
      "model_module": "@jupyter-widgets/controls",
      "model_module_version": "1.5.0",
      "model_name": "DescriptionStyleModel",
      "state": {
       "description_width": "initial"
      }
     },
     "1d23fd41616049f18061d840b11f5f30": {
      "model_module": "@jupyter-widgets/controls",
      "model_module_version": "1.5.0",
      "model_name": "HBoxModel",
      "state": {
       "children": [
        "IPY_MODEL_e14c8fa21b894efd99680fc570a8fc79",
        "IPY_MODEL_a5c7eb89385148b5aa3b025fadba6507"
       ],
       "layout": "IPY_MODEL_b72ce404b80645b6810c7f3bdd58d2c7"
      }
     },
     "1dc797b880df432cbc81b95be09ad7a5": {
      "model_module": "@jupyter-widgets/controls",
      "model_module_version": "1.5.0",
      "model_name": "DescriptionStyleModel",
      "state": {
       "description_width": ""
      }
     },
     "1e06d108c2374885ade6bb8195a11207": {
      "model_module": "@jupyter-widgets/controls",
      "model_module_version": "1.5.0",
      "model_name": "DescriptionStyleModel",
      "state": {
       "description_width": ""
      }
     },
     "1e27c5f0b0a04e738951f4da9f1d2667": {
      "model_module": "@jupyter-widgets/controls",
      "model_module_version": "1.5.0",
      "model_name": "DescriptionStyleModel",
      "state": {
       "description_width": ""
      }
     },
     "1ec7dd2727274a1684deb5cd10bf3107": {
      "model_module": "@jupyter-widgets/controls",
      "model_module_version": "1.5.0",
      "model_name": "VBoxModel",
      "state": {
       "children": [
        "IPY_MODEL_17bd53b7d4bc42a89a023ea02e3c93a5",
        "IPY_MODEL_45fc423f2ced428f9e61ad67768f6235"
       ],
       "layout": "IPY_MODEL_9898d8b304164858be4a428a09eefd66"
      }
     },
     "1ecaf1241d9f4869a3047ce73d1e155b": {
      "model_module": "@jupyter-widgets/base",
      "model_module_version": "1.2.0",
      "model_name": "LayoutModel",
      "state": {
       "display": "none"
      }
     },
     "1f5a4d55bc7e46f38b6ef3d001d859f9": {
      "model_module": "@jupyter-widgets/base",
      "model_module_version": "1.2.0",
      "model_name": "LayoutModel",
      "state": {
       "visibility": "hidden"
      }
     },
     "204eaf27e0ad483ca450bffc79970a21": {
      "model_module": "@jupyter-widgets/controls",
      "model_module_version": "1.5.0",
      "model_name": "DescriptionStyleModel",
      "state": {
       "description_width": ""
      }
     },
     "20c0265ad9d54279ac4be78d29425983": {
      "model_module": "@jupyter-widgets/controls",
      "model_module_version": "1.5.0",
      "model_name": "VBoxModel",
      "state": {
       "children": [
        "IPY_MODEL_466f5f30327646ef93d378a6bf74c07d",
        "IPY_MODEL_0b6f28cb50664f898798d8687073ae3c",
        "IPY_MODEL_87cb9406f4b34063bc2b94f7b20d6dfd",
        "IPY_MODEL_b86c5e8514454c0fb98f6e526e5a7c04",
        "IPY_MODEL_4697e5c3bb3648cb8d3980148ba2d773"
       ],
       "layout": "IPY_MODEL_cb2de0ca78434dc5a1a67a2a81a48636"
      }
     },
     "2119e398b854455388f56c6b6f8ff337": {
      "model_module": "@jupyter-widgets/controls",
      "model_module_version": "1.5.0",
      "model_name": "HTMLModel",
      "state": {
       "layout": "IPY_MODEL_118f3f7206bb4f118a2c0aef413299ab",
       "style": "IPY_MODEL_871de11d48324c0c8352ca496237b125"
      }
     },
     "218869da369d4e3a88a99f8ac7203e21": {
      "model_module": "@jupyter-widgets/controls",
      "model_module_version": "1.5.0",
      "model_name": "HBoxModel",
      "state": {
       "children": [
        "IPY_MODEL_47a23ffdfbbd4a989fea0a9e1e2575b2",
        "IPY_MODEL_21f72974c01d4c9199574ca9e5f7b4dd",
        "IPY_MODEL_bd5af849c7b34b9ca11fa96e15e5d4c6"
       ],
       "layout": "IPY_MODEL_81e6a755a6024a938a4504a637bd411a"
      }
     },
     "21d27ac0b423447ca990bfdd8fd0917c": {
      "model_module": "@jupyter-widgets/controls",
      "model_module_version": "1.5.0",
      "model_name": "DescriptionStyleModel",
      "state": {
       "description_width": "initial"
      }
     },
     "21ec4a0c944f4d3d890c84265dbe2fa6": {
      "model_module": "@jupyter-widgets/controls",
      "model_module_version": "1.5.0",
      "model_name": "DescriptionStyleModel",
      "state": {
       "description_width": ""
      }
     },
     "21f72974c01d4c9199574ca9e5f7b4dd": {
      "model_module": "@jupyter-widgets/controls",
      "model_module_version": "1.5.0",
      "model_name": "ButtonModel",
      "state": {
       "description": "Cancel",
       "layout": "IPY_MODEL_dbfcb017867d43c081c423eef5ca7a86",
       "style": "IPY_MODEL_9e896d5b54654bac87a7b9abb4cbb9a3"
      }
     },
     "2252887cc31b4bb8bb7063f80179d650": {
      "model_module": "@jupyter-widgets/controls",
      "model_module_version": "1.5.0",
      "model_name": "ToggleButtonModel",
      "state": {
       "button_style": "danger",
       "description": "Run SimPEG",
       "icon": "check",
       "layout": "IPY_MODEL_65179e82e5894494a93e4c59891b8c46",
       "style": "IPY_MODEL_60b59e678a7e4f0b82352769e7a570ea"
      }
     },
     "225b7dde001b4ce68ba18584f79c6b22": {
      "model_module": "@jupyter-widgets/base",
      "model_module_version": "1.2.0",
      "model_name": "LayoutModel",
      "state": {}
     },
     "227192c36aa94785bd5c8856eefb7482": {
      "model_module": "@jupyter-widgets/controls",
      "model_module_version": "1.5.0",
      "model_name": "DescriptionStyleModel",
      "state": {
       "description_width": "initial"
      }
     },
     "229be9a1843b4580abac93cfe8b511a7": {
      "model_module": "@jupyter-widgets/base",
      "model_module_version": "1.2.0",
      "model_name": "LayoutModel",
      "state": {}
     },
     "2307498e1ab347b996ffe1b5d3a26efe": {
      "model_module": "@jupyter-widgets/controls",
      "model_module_version": "1.5.0",
      "model_name": "DescriptionStyleModel",
      "state": {
       "description_width": ""
      }
     },
     "232a95845d204e22ad9bdf1c40028e51": {
      "model_module": "@jupyter-widgets/base",
      "model_module_version": "1.2.0",
      "model_name": "LayoutModel",
      "state": {
       "width": "auto"
      }
     },
     "23506ece2a594729be756d4ff932c177": {
      "model_module": "@jupyter-widgets/base",
      "model_module_version": "1.2.0",
      "model_name": "LayoutModel",
      "state": {}
     },
     "235facb021b04df4a8c87bb76e504398": {
      "model_module": "@jupyter-widgets/base",
      "model_module_version": "1.2.0",
      "model_name": "LayoutModel",
      "state": {}
     },
     "2379608bcb544b1facb0d646688327cc": {
      "model_module": "@jupyter-widgets/controls",
      "model_module_version": "1.5.0",
      "model_name": "DescriptionStyleModel",
      "state": {
       "description_width": ""
      }
     },
     "23ca1189e3d740229aa689553a6286de": {
      "model_module": "@jupyter-widgets/controls",
      "model_module_version": "1.5.0",
      "model_name": "DescriptionStyleModel",
      "state": {
       "description_width": ""
      }
     },
     "23f357a690eb47198801ab7e181e0a12": {
      "model_module": "@jupyter-widgets/controls",
      "model_module_version": "1.5.0",
      "model_name": "DescriptionStyleModel",
      "state": {
       "description_width": ""
      }
     },
     "243b1045db754e5bae406043588fc434": {
      "model_module": "@jupyter-widgets/controls",
      "model_module_version": "1.5.0",
      "model_name": "DropdownModel",
      "state": {
       "_options_labels": [
        "",
        "--- Channels ---",
        "Airborne_Gxx",
        "Airborne_Gxy",
        "Airborne_Gxz",
        "Airborne_Gyy",
        "Airborne_Gyz",
        "Airborne_Gz",
        "Airborne_Gzz",
        "Airborne_TMI",
        "Ground_Gz",
        "Z"
       ],
       "description": "Channel <=> Data:",
       "index": 0,
       "layout": "IPY_MODEL_4b28385070cc41f09da4e6e6b2320ea8",
       "style": "IPY_MODEL_d7f0f79a322544fea508d084c7794c12"
      }
     },
     "24652879efc64a698b3fa272237d3a2f": {
      "model_module": "@jupyter-widgets/controls",
      "model_module_version": "1.5.0",
      "model_name": "DescriptionStyleModel",
      "state": {
       "description_width": "initial"
      }
     },
     "246a636875f04136b939fcbbd0b80910": {
      "model_module": "@jupyter-widgets/controls",
      "model_module_version": "1.5.0",
      "model_name": "DropdownModel",
      "state": {
       "description": "Values",
       "index": null,
       "layout": "IPY_MODEL_fc52e3551c3e4d7d9bbacef51a9cfbc3",
       "style": "IPY_MODEL_7f5cd16177df454c90adcc6df3069692"
      }
     },
     "248ad9123223463991c398534eac4952": {
      "model_module": "@jupyter-widgets/controls",
      "model_module_version": "1.5.0",
      "model_name": "DescriptionStyleModel",
      "state": {
       "description_width": ""
      }
     },
     "24fc84ea6084424ebc3428948c233703": {
      "model_module": "@jupyter-widgets/controls",
      "model_module_version": "1.5.0",
      "model_name": "DescriptionStyleModel",
      "state": {
       "description_width": ""
      }
     },
     "2515ee91ac4e41b58a12690a7da4098a": {
      "model_module": "@jupyter-widgets/controls",
      "model_module_version": "1.5.0",
      "model_name": "HBoxModel",
      "state": {
       "children": [
        "IPY_MODEL_8558df9ee1e0498ca9b50d446ef846c3",
        "IPY_MODEL_4578ab6c20f846ed92fdb61172ef2c26"
       ],
       "layout": "IPY_MODEL_a822e5c405c848fb9c3e3ff51b58609f"
      }
     },
     "2541bccd94284704a4aa90ca643173e7": {
      "model_module": "@jupyter-widgets/base",
      "model_module_version": "1.2.0",
      "model_name": "LayoutModel",
      "state": {}
     },
     "260f292e59c74c6d8d321f44c68f7c50": {
      "model_module": "@jupyter-widgets/controls",
      "model_module_version": "1.5.0",
      "model_name": "DescriptionStyleModel",
      "state": {
       "description_width": ""
      }
     },
     "268863a668b846fca4a93a464bfcb399": {
      "model_module": "@jupyter-widgets/controls",
      "model_module_version": "1.5.0",
      "model_name": "VBoxModel",
      "state": {
       "children": [
        "IPY_MODEL_3f06e18f73bd43c3b4760da69db427e2",
        "IPY_MODEL_9dad4ff5f6a1484a99b95ad1049dfaed",
        "IPY_MODEL_dfa952d071fe4efba662eccf2f567317",
        "IPY_MODEL_dd41d3c66a8d4e6cb75510de03c385b3",
        "IPY_MODEL_c9d2c423576d457cbbb2ab2ba9eb2656"
       ],
       "layout": "IPY_MODEL_8c7db378dbc649afab110d586f38aa76"
      }
     },
     "270fe65eee1741f693172f4476912a3f": {
      "model_module": "@jupyter-widgets/base",
      "model_module_version": "1.2.0",
      "model_name": "LayoutModel",
      "state": {
       "width": "auto"
      }
     },
     "271e0353b06644b2bcbf7ab7fbf5c6fb": {
      "model_module": "@jupyter-widgets/controls",
      "model_module_version": "1.5.0",
      "model_name": "CheckboxModel",
      "state": {
       "description": "Active",
       "disabled": false,
       "layout": "IPY_MODEL_eb956181616842a1b8e3afeb1a7631de",
       "style": "IPY_MODEL_7916808b323f4236aad23c37c8b0cfb9",
       "value": false
      }
     },
     "27422311c9624110b48bbda7744c6d45": {
      "model_module": "@jupyter-widgets/base",
      "model_module_version": "1.2.0",
      "model_name": "LayoutModel",
      "state": {
       "width": "auto"
      }
     },
     "2791ad2daa0b4e7eb8bce18aa429936b": {
      "model_module": "@jupyter-widgets/controls",
      "model_module_version": "1.5.0",
      "model_name": "TextModel",
      "state": {
       "description": "Error (%, floor)",
       "layout": "IPY_MODEL_03e9b01328f9489f9be77c92b99b0e3e",
       "style": "IPY_MODEL_2aeabe1dadb8470f8f3a7e6b1ed40b7b",
       "value": "0, 13.58"
      }
     },
     "279f419dc25d4509b27f27e14c1cc754": {
      "model_module": "@jupyter-widgets/controls",
      "model_module_version": "1.5.0",
      "model_name": "LabelModel",
      "state": {
       "layout": "IPY_MODEL_a3f0309ccc324e3890b6e531446f47b4",
       "style": "IPY_MODEL_5c44a0c3a82649009e97e57df2de1f4f",
       "value": "Workspace"
      }
     },
     "27cdb2877c444cb3bff99d80f95985dd": {
      "model_module": "@jupyter-widgets/controls",
      "model_module_version": "1.5.0",
      "model_name": "DescriptionStyleModel",
      "state": {
       "description_width": ""
      }
     },
     "27f2c0645ad748d5bd783169ca8a7f24": {
      "model_module": "@jupyter-widgets/controls",
      "model_module_version": "1.5.0",
      "model_name": "TextModel",
      "state": {
       "description": "Offsets (x,y,z)",
       "layout": "IPY_MODEL_d97ac5f4a7704594b188bed77849c486",
       "style": "IPY_MODEL_37fccc408a9c40bc9231b3566c40aa5c",
       "value": "0, 0, 0"
      }
     },
     "2803a0cca4ce459cba98e64cdc797bcf": {
      "model_module": "@jupyter-widgets/controls",
      "model_module_version": "1.5.0",
      "model_name": "DescriptionStyleModel",
      "state": {
       "description_width": ""
      }
     },
     "282865dbe0b1458b975200bba981d280": {
      "model_module": "@jupyter-widgets/controls",
      "model_module_version": "1.5.0",
      "model_name": "TextModel",
      "state": {
       "description": "Offsets (x,y,z)",
       "layout": "IPY_MODEL_7f8213b3a1af46249d17d53428f4c9c2",
       "style": "IPY_MODEL_7209f810ee0f4821adada4490186041e",
       "value": "0, 0, 0"
      }
     },
     "2842a4571e854f8b898ebfd65b5439f9": {
      "model_module": "@jupyter-widgets/base",
      "model_module_version": "1.2.0",
      "model_name": "LayoutModel",
      "state": {}
     },
     "284f381e6f0941e692ab2a9c30627bd3": {
      "model_module": "@jupyter-widgets/controls",
      "model_module_version": "1.5.0",
      "model_name": "DescriptionStyleModel",
      "state": {
       "description_width": ""
      }
     },
     "2881ea64e7774a5ba73cb563e7634d55": {
      "model_module": "@jupyter-widgets/controls",
      "model_module_version": "1.5.0",
      "model_name": "ButtonStyleModel",
      "state": {}
     },
     "28b7487436d34667bdfa9cbc64b16fff": {
      "model_module": "@jupyter-widgets/controls",
      "model_module_version": "1.5.0",
      "model_name": "ButtonStyleModel",
      "state": {}
     },
     "28c77ae0ce4b4f0c96976c6ef4d16a19": {
      "model_module": "@jupyter-widgets/controls",
      "model_module_version": "1.5.0",
      "model_name": "DropdownModel",
      "state": {
       "_options_labels": [
        "C:\\Users\\dominiquef\\Documents\\GIT\\mira\\mirageoscience-apps\\docs\\content\\applications",
        "C:\\Users\\dominiquef\\Documents\\GIT\\mira\\mirageoscience-apps\\docs\\content",
        "C:\\Users\\dominiquef\\Documents\\GIT\\mira\\mirageoscience-apps\\docs",
        "C:\\Users\\dominiquef\\Documents\\GIT\\mira\\mirageoscience-apps",
        "C:\\Users\\dominiquef\\Documents\\GIT\\mira",
        "C:\\Users\\dominiquef\\Documents\\GIT",
        "C:\\Users\\dominiquef\\Documents",
        "C:\\Users\\dominiquef",
        "C:\\Users",
        "C:\\",
        "D:\\",
        "Z:\\"
       ],
       "index": 0,
       "layout": "IPY_MODEL_f3c64a84cc5d4238a04afb13df9ec7e1",
       "style": "IPY_MODEL_f41a0f6cd6844a96a41186fe13467552"
      }
     },
     "28c8a5b3b5704b81a866244ac860230d": {
      "model_module": "@jupyter-widgets/controls",
      "model_module_version": "1.5.0",
      "model_name": "DescriptionStyleModel",
      "state": {
       "description_width": ""
      }
     },
     "28cebc18f8d14682ab1958644ffaa1ec": {
      "model_module": "@jupyter-widgets/base",
      "model_module_version": "1.2.0",
      "model_name": "LayoutModel",
      "state": {}
     },
     "290c8dcde4da41169bf6e03f6095983e": {
      "model_module": "@jupyter-widgets/controls",
      "model_module_version": "1.5.0",
      "model_name": "DropdownModel",
      "state": {
       "_options_labels": [
        "C:\\Users\\dominiquef\\Documents\\GIT\\mira\\mirageoscience-apps\\docs\\content\\applications",
        "C:\\Users\\dominiquef\\Documents\\GIT\\mira\\mirageoscience-apps\\docs\\content",
        "C:\\Users\\dominiquef\\Documents\\GIT\\mira\\mirageoscience-apps\\docs",
        "C:\\Users\\dominiquef\\Documents\\GIT\\mira\\mirageoscience-apps",
        "C:\\Users\\dominiquef\\Documents\\GIT\\mira",
        "C:\\Users\\dominiquef\\Documents\\GIT",
        "C:\\Users\\dominiquef\\Documents",
        "C:\\Users\\dominiquef",
        "C:\\Users",
        "C:\\",
        "D:\\",
        "Z:\\"
       ],
       "index": 0,
       "layout": "IPY_MODEL_409c24cc59cb4e079245f236da54a60c",
       "style": "IPY_MODEL_4ba16601372a4558ae6cda87cf683106"
      }
     },
     "291e7d39c42d44539eb0f16d4f2f1a43": {
      "model_module": "@jupyter-widgets/base",
      "model_module_version": "1.2.0",
      "model_name": "LayoutModel",
      "state": {}
     },
     "29658ce5d23a42fe8e35200d4275fa52": {
      "model_module": "@jupyter-widgets/controls",
      "model_module_version": "1.5.0",
      "model_name": "DescriptionStyleModel",
      "state": {
       "description_width": ""
      }
     },
     "29e9f7f20a84416d808ed7d3df8f7f24": {
      "model_module": "@jupyter-widgets/controls",
      "model_module_version": "1.5.0",
      "model_name": "VBoxModel",
      "state": {
       "children": [
        "IPY_MODEL_ceab50c8b5ff4f61bd651ab5247796af",
        "IPY_MODEL_48ad8a2b323c442798415ccc2021e4e9"
       ],
       "layout": "IPY_MODEL_a12d923ce97c438f9318f48409858a46"
      }
     },
     "2a3f974a4c204cfba48d4583e5f69df6": {
      "model_module": "@jupyter-widgets/controls",
      "model_module_version": "1.5.0",
      "model_name": "DescriptionStyleModel",
      "state": {
       "description_width": ""
      }
     },
     "2a4f3a632de04aee9e9a89f2fc39231d": {
      "model_module": "@jupyter-widgets/controls",
      "model_module_version": "1.5.0",
      "model_name": "ButtonModel",
      "state": {
       "description": "Select",
       "layout": "IPY_MODEL_9d1797477f1140aabb1bb15580d99384",
       "style": "IPY_MODEL_a35950d484ad4595a5ae0cdc9e584395"
      }
     },
     "2a9f216c26fc413386d5915dc32b32dd": {
      "model_module": "@jupyter-widgets/controls",
      "model_module_version": "1.5.0",
      "model_name": "DescriptionStyleModel",
      "state": {
       "description_width": ""
      }
     },
     "2ae0bfa894bc4f6f92fb7d7fb1f7d67f": {
      "model_module": "@jupyter-widgets/controls",
      "model_module_version": "1.5.0",
      "model_name": "LabelModel",
      "state": {
       "layout": "IPY_MODEL_6dfe5b088fc44534a8722c7279ff2bae",
       "style": "IPY_MODEL_7b96e4aeb16f49e7adca5e2dc74752ac",
       "value": "1D Mesh"
      }
     },
     "2aeabe1dadb8470f8f3a7e6b1ed40b7b": {
      "model_module": "@jupyter-widgets/controls",
      "model_module_version": "1.5.0",
      "model_name": "DescriptionStyleModel",
      "state": {
       "description_width": "initial"
      }
     },
     "2b064379ed9f417292dfd6ed35ca3af0": {
      "model_module": "@jupyter-widgets/controls",
      "model_module_version": "1.5.0",
      "model_name": "VBoxModel",
      "state": {
       "children": [
        "IPY_MODEL_9f1ba2698e154ecaaa95b3bf6d442217",
        "IPY_MODEL_bc66f866afd641e2ac03dd5d1621a0e1"
       ],
       "layout": "IPY_MODEL_95cd31741cb94e749800a7b529f08502"
      }
     },
     "2b0bb651a3cc41f78d5b2d232fca5ff5": {
      "model_module": "@jupyter-widgets/controls",
      "model_module_version": "1.5.0",
      "model_name": "VBoxModel",
      "state": {
       "children": [
        "IPY_MODEL_6464d3a03b8e47fc8e791362a11fc0d4",
        "IPY_MODEL_b465bbc32a324369a54ad26b86734601",
        "IPY_MODEL_4fe2dee2b35c441f9e50ce2678dbd76c"
       ],
       "layout": "IPY_MODEL_b84bd51b257e46c0b232cfe95853816a"
      }
     },
     "2b1fa5f1b0eb458abd3419008b2b0c6f": {
      "model_module": "@jupyter-widgets/controls",
      "model_module_version": "1.5.0",
      "model_name": "VBoxModel",
      "state": {
       "children": [
        "IPY_MODEL_17ea43961df844d9bd82ffe6e7ed17a6",
        "IPY_MODEL_f36456e1e7ac4060b38286d92174b855"
       ],
       "layout": "IPY_MODEL_46e522a29c384db8bc8167ef6afc113e"
      }
     },
     "2b918f5a49a44811a6e276d79dea2f80": {
      "model_module": "@jupyter-widgets/controls",
      "model_module_version": "1.5.0",
      "model_name": "DescriptionStyleModel",
      "state": {
       "description_width": "initial"
      }
     },
     "2bb9e08d8f4d43a9a073d0ee03cada25": {
      "model_module": "@jupyter-widgets/controls",
      "model_module_version": "1.5.0",
      "model_name": "DescriptionStyleModel",
      "state": {
       "description_width": ""
      }
     },
     "2bc8137b95cc4677b7ae26119259b304": {
      "model_module": "@jupyter-widgets/controls",
      "model_module_version": "1.5.0",
      "model_name": "DescriptionStyleModel",
      "state": {
       "description_width": "initial"
      }
     },
     "2c77abbe602f485aa9f6adcfeee69fd7": {
      "model_module": "@jupyter-widgets/base",
      "model_module_version": "1.2.0",
      "model_name": "LayoutModel",
      "state": {}
     },
     "2cc8b2247ed3432c94cd5ee04e8640ea": {
      "model_module": "@jupyter-widgets/controls",
      "model_module_version": "1.5.0",
      "model_name": "DescriptionStyleModel",
      "state": {
       "description_width": "initial"
      }
     },
     "2cc8ed407c664bcfa30874f473cbdf5a": {
      "model_module": "@jupyter-widgets/controls",
      "model_module_version": "1.5.0",
      "model_name": "DropdownModel",
      "state": {
       "_options_labels": [
        "",
        "fault_splay1",
        "fault_Cliff_Lake",
        "fault_Other_FlinFlon",
        "fault_Club_Lake_splay",
        "fault_Catherine_splay2",
        "fault_Birch_View",
        "fault_Dion_Lake",
        "fault_FlinFlon_splay",
        "fault_West_Mandy_Road",
        "fault_Channing",
        "fault_Ross_Lake",
        "fault_Louis_Hidden",
        "fault_Lake_View_thrust",
        "contact_Schist_Lake",
        "fault_Burley_Lake",
        "fault_Dion_Lake_splay",
        "fault_Green_Lake",
        "fault_FlinFlon",
        "fault_Catherine_splay1",
        "fault_East_Mandy_Road",
        "fault_Other_FlinFlon_South",
        "fault_Catherine_splay4",
        "contact_Stitt_Island",
        "fault_Club_Lake",
        "fault_Tailing_Pond",
        "35_Hidden_Reservoir_Hr5",
        "29_Hidden_Reservoir_Hr1a",
        "60_BlueLagoon_Fb2",
        "20_FlinFlon_Undivided_Int_Dykes_D2f",
        "04_Boundary_Intrusive_S4h",
        "53_Millrock_Rhyolite_Fm4b",
        "19_FlinFlon_Undivided_Int_Dykes_D2b",
        "18_FlinFlon_Undivided_Int_Dykes_777_D2b",
        "06_Phantom_Lake_Intrusive_S3a",
        "21_FlinFlon_Undivided_Int_Dykes_D3a",
        "43_Millrock_CHLSH_South",
        "56_Millrock_Basalt_Fm1ba",
        "17_FlinFlon_Undivided_Int_Dykes_D2",
        "32_Hidden_Reservoir_Hr1b_SW",
        "11_Missi_M3_NE",
        "13_Missi_M1",
        "07_Annabel_Granitoid_S1",
        "45_Millrock_Gabbro_South",
        "01_Late_Intrusive_S5b",
        "31_Hidden_Reservoir_Hr1c_SW",
        "52_Millrock_Rhyolite_Fm4_West_check",
        "55_Millrock_Basalt_Fm1bf",
        "34_Hidden_Reservoir_Hr2b",
        "03_Boundary_Intrusive_S4b",
        "42_Millrock_CHLSH_North",
        "26_Louis_L3",
        "23_FlinFlon_Undivided_Int_Felsic_D4g",
        "30_Hidden_Reservoir_Hr1b",
        "59_BlueLagoon_Fb3",
        "49_Millrock_MVR_Fm5d",
        "44_Millrock_Gabbro_North",
        "27_Hidden_Carlisle_Hc4",
        "22_FlinFlon_Undivided_Int_Felsic_D4e",
        "02_Boundary_Intrusive_S4a",
        "61_BlueLagoon_Fb1_NW",
        "05_Boundary_Intrusive_S4g",
        "39_Ore_Callinan",
        "38_Ore_Dan_Owens",
        "40_Ore_FlinFlon",
        "Inversion_VTEM_Model",
        "Gravity_Magnetics_drape60m",
        "CDI_VTEM_model",
        "Data_FEM_pseudo3D",
        "O2O_Interp_25m",
        "geochem",
        "Inversion_DIGHEM_Model",
        "Topography",
        "Data_TEM_pseudo3D"
       ],
       "description": "Object:",
       "index": 72,
       "layout": "IPY_MODEL_745e66d4735045cea95bec16e39761ee",
       "style": "IPY_MODEL_df5c5b11811145cc8fac5aa76ac779ab"
      }
     },
     "2cf9a5db1d2e4f1fa228a31b15282811": {
      "model_module": "@jupyter-widgets/controls",
      "model_module_version": "1.5.0",
      "model_name": "DescriptionStyleModel",
      "state": {
       "description_width": ""
      }
     },
     "2dc77f413e12476da8cab93598436bad": {
      "model_module": "@jupyter-widgets/base",
      "model_module_version": "1.2.0",
      "model_name": "LayoutModel",
      "state": {}
     },
     "2de4ee3fbbcd4c2da59bf1b476776b2a": {
      "model_module": "@jupyter-widgets/controls",
      "model_module_version": "1.5.0",
      "model_name": "HBoxModel",
      "state": {
       "children": [
        "IPY_MODEL_065f04e283224aa8b7176996b1975092",
        "IPY_MODEL_a51efac2dfdf4b87b9a0fef275f7bcd2",
        "IPY_MODEL_c6c644a7c2814473a67549eea59a3aa6"
       ],
       "layout": "IPY_MODEL_9f28081ff12248b696caddb5fb8ed352"
      }
     },
     "2e92069b1caa48efa9f41e7c3771fd54": {
      "model_module": "@jupyter-widgets/controls",
      "model_module_version": "1.5.0",
      "model_name": "TextModel",
      "state": {
       "description": "Error (%, floor)",
       "layout": "IPY_MODEL_0b651ededfec4f658adaaedcd4ba13b5",
       "style": "IPY_MODEL_995d7281e1174d2cb0deb6203147596c",
       "value": "0, 1"
      }
     },
     "2eae080dc44942b99dc21492aff3ea0f": {
      "model_module": "@jupyter-widgets/controls",
      "model_module_version": "1.5.0",
      "model_name": "DropdownModel",
      "state": {
       "_options_labels": [
        "C:\\Users\\dominiquef\\Documents\\GIT\\mira\\mirageoscience-apps\\docs\\content\\applications",
        "C:\\Users\\dominiquef\\Documents\\GIT\\mira\\mirageoscience-apps\\docs\\content",
        "C:\\Users\\dominiquef\\Documents\\GIT\\mira\\mirageoscience-apps\\docs",
        "C:\\Users\\dominiquef\\Documents\\GIT\\mira\\mirageoscience-apps",
        "C:\\Users\\dominiquef\\Documents\\GIT\\mira",
        "C:\\Users\\dominiquef\\Documents\\GIT",
        "C:\\Users\\dominiquef\\Documents",
        "C:\\Users\\dominiquef",
        "C:\\Users",
        "C:\\",
        "D:\\",
        "Z:\\"
       ],
       "index": 0,
       "layout": "IPY_MODEL_c9af20638cba4d4ea919580eace313b8",
       "style": "IPY_MODEL_1e27c5f0b0a04e738951f4da9f1d2667"
      }
     },
     "2f8e3e51805949c29cca407ed10d3683": {
      "model_module": "@jupyter-widgets/controls",
      "model_module_version": "1.5.0",
      "model_name": "DescriptionStyleModel",
      "state": {
       "description_width": ""
      }
     },
     "2fa74629042a4cdaba5f923c5c4ef3eb": {
      "model_module": "@jupyter-widgets/controls",
      "model_module_version": "1.5.0",
      "model_name": "DescriptionStyleModel",
      "state": {
       "description_width": ""
      }
     },
     "2fa94a813e1b42bb864dea2ca65829e5": {
      "model_module": "@jupyter-widgets/controls",
      "model_module_version": "1.5.0",
      "model_name": "VBoxModel",
      "state": {
       "children": [
        "IPY_MODEL_da375818b0124bbb8e4c5133815ecdbd",
        "IPY_MODEL_f403cc848dd44d0d8497c7fe43505f07",
        "IPY_MODEL_5632b39dc4734a5297b8ccc5be5f9fd8"
       ],
       "layout": "IPY_MODEL_bc09ed4fee764b4784720b9c76f9dd2e"
      }
     },
     "300d807c1b6d45a49f01ec848d5a46f3": {
      "model_module": "@jupyter-widgets/base",
      "model_module_version": "1.2.0",
      "model_name": "LayoutModel",
      "state": {
       "width": "auto"
      }
     },
     "303a797485a246509081812a50af29a5": {
      "model_module": "@jupyter-widgets/base",
      "model_module_version": "1.2.0",
      "model_name": "LayoutModel",
      "state": {}
     },
     "307039b11b9d4fb08662a3aa4556dfb6": {
      "model_module": "@jupyter-widgets/controls",
      "model_module_version": "1.5.0",
      "model_name": "DescriptionStyleModel",
      "state": {
       "description_width": ""
      }
     },
     "30a7b262f54d403783a80321ea25b625": {
      "model_module": "@jupyter-widgets/base",
      "model_module_version": "1.2.0",
      "model_name": "LayoutModel",
      "state": {}
     },
     "30df1568ac3741a382b764a9abe9dd65": {
      "model_module": "@jupyter-widgets/controls",
      "model_module_version": "1.5.0",
      "model_name": "DescriptionStyleModel",
      "state": {
       "description_width": ""
      }
     },
     "311017a2aa7c48c28240f47e81d93dba": {
      "model_module": "@jupyter-widgets/controls",
      "model_module_version": "1.5.0",
      "model_name": "DescriptionStyleModel",
      "state": {
       "description_width": ""
      }
     },
     "312932cc752f4569a841db212237268f": {
      "model_module": "@jupyter-widgets/controls",
      "model_module_version": "1.5.0",
      "model_name": "TextModel",
      "state": {
       "continuous_update": false,
       "description": "Group:",
       "layout": "IPY_MODEL_7c7b7113f0da4796a720525e026a3fc7",
       "style": "IPY_MODEL_4eaaab846645482985c1f47827205ec3"
      }
     },
     "31de15be3bc6435ba4deec393261c65c": {
      "model_module": "@jupyter-widgets/base",
      "model_module_version": "1.2.0",
      "model_name": "LayoutModel",
      "state": {}
     },
     "322ffa7e0e0849c9a7760a5a19832869": {
      "model_module": "@jupyter-widgets/controls",
      "model_module_version": "1.5.0",
      "model_name": "VBoxModel",
      "state": {
       "children": [
        "IPY_MODEL_36743e98759f4677884aba1a48f092ff",
        "IPY_MODEL_f7411f195a104abdb5feca8e3cb74ce4"
       ],
       "layout": "IPY_MODEL_3d739bbd7d2f457daf17abf8d0350f68"
      }
     },
     "323432bfdd1e429e87f2b847827993c1": {
      "model_module": "@jupyter-widgets/base",
      "model_module_version": "1.2.0",
      "model_name": "LayoutModel",
      "state": {
       "display": "none",
       "grid_area": "filename",
       "width": "auto"
      }
     },
     "3243bd64d3c14e1d8dc45ae291ca4a2c": {
      "model_module": "@jupyter-widgets/base",
      "model_module_version": "1.2.0",
      "model_name": "LayoutModel",
      "state": {}
     },
     "325a9e594fbf4a36b5fed14e8dd09d80": {
      "model_module": "@jupyter-widgets/controls",
      "model_module_version": "1.5.0",
      "model_name": "VBoxModel",
      "state": {
       "children": [
        "IPY_MODEL_445d0acf58f94d74a34d501c4f573429",
        "IPY_MODEL_b91de549616245979ce75c1bbc1f0dfc"
       ],
       "layout": "IPY_MODEL_e840a44dd37d49e988f3a8e5e33e8d46"
      }
     },
     "326b5f7869ee4c00bb612f3a5f464b7e": {
      "model_module": "@jupyter-widgets/controls",
      "model_module_version": "1.5.0",
      "model_name": "ButtonModel",
      "state": {
       "button_style": "danger",
       "description": "Compute",
       "icon": "check",
       "layout": "IPY_MODEL_d941364312804d2aa853c9718d2c4995",
       "style": "IPY_MODEL_94b8c965bd3a41aa9715a06784d360af",
       "tooltip": "Run computation"
      }
     },
     "32c57cb99ea24cae991f4a0c9f24e556": {
      "model_module": "@jupyter-widgets/controls",
      "model_module_version": "1.5.0",
      "model_name": "TextModel",
      "state": {
       "layout": "IPY_MODEL_45d8037ee7564f91b7f6533fab77eb34",
       "placeholder": "output filename",
       "style": "IPY_MODEL_284f381e6f0941e692ab2a9c30627bd3"
      }
     },
     "33610c8c21c448ec9d67dcf07621688e": {
      "model_module": "@jupyter-widgets/base",
      "model_module_version": "1.2.0",
      "model_name": "LayoutModel",
      "state": {
       "display": "none",
       "width": "auto"
      }
     },
     "337974e5b2294cc892b45cd291cf04f2": {
      "model_module": "@jupyter-widgets/controls",
      "model_module_version": "1.5.0",
      "model_name": "DescriptionStyleModel",
      "state": {
       "description_width": ""
      }
     },
     "339c4652d3ac49f78b098ab21975ff49": {
      "model_module": "@jupyter-widgets/base",
      "model_module_version": "1.2.0",
      "model_name": "LayoutModel",
      "state": {
       "display": "none"
      }
     },
     "33b57e3f8fa344d7a5b6da319e4d983e": {
      "model_module": "@jupyter-widgets/base",
      "model_module_version": "1.2.0",
      "model_name": "LayoutModel",
      "state": {
       "display": "none",
       "grid_gap": "0px 0px",
       "grid_template_areas": "\n                    'pathlist pathlist'\n                    'dircontent dircontent'\n                    ",
       "grid_template_columns": "60% 40%",
       "grid_template_rows": "auto auto",
       "width": "500px"
      }
     },
     "33f2325fa25c49ee8873e112a3b88b0a": {
      "model_module": "@jupyter-widgets/base",
      "model_module_version": "1.2.0",
      "model_name": "LayoutModel",
      "state": {}
     },
     "34092896f01447e18d83ca8cfc7878c8": {
      "model_module": "@jupyter-widgets/controls",
      "model_module_version": "1.5.0",
      "model_name": "DescriptionStyleModel",
      "state": {
       "description_width": "initial"
      }
     },
     "3432b50834e24cbbbe355d3d90104974": {
      "model_module": "@jupyter-widgets/controls",
      "model_module_version": "1.5.0",
      "model_name": "VBoxModel",
      "state": {
       "children": [
        "IPY_MODEL_e3075c9042c747d2b752a297f328da3f",
        "IPY_MODEL_aa1c589bcfed4c1786f08d5be2d8ffaf"
       ],
       "layout": "IPY_MODEL_cc8bf0ab0cff4d01a908b41ea3a61590"
      }
     },
     "34509e3a8f2a4715baeb941fea18e905": {
      "model_module": "@jupyter-widgets/controls",
      "model_module_version": "1.5.0",
      "model_name": "DescriptionStyleModel",
      "state": {
       "description_width": ""
      }
     },
     "348879e0ab5942e39273675ffacccc7c": {
      "model_module": "@jupyter-widgets/controls",
      "model_module_version": "1.5.0",
      "model_name": "ButtonModel",
      "state": {
       "description": "Select",
       "layout": "IPY_MODEL_491e9880fd2d49ff8ca80e9d9f3eac6a",
       "style": "IPY_MODEL_8db2d811f83c408ca5b058af1767badf"
      }
     },
     "34a64f034dc445c4b8b127ea165e2a9c": {
      "model_module": "@jupyter-widgets/base",
      "model_module_version": "1.2.0",
      "model_name": "LayoutModel",
      "state": {
       "display": "none",
       "grid_gap": "0px 0px",
       "grid_template_areas": "\n                    'pathlist filename'\n                    'dircontent dircontent'\n                    ",
       "grid_template_columns": "60% 40%",
       "grid_template_rows": "auto auto",
       "width": "500px"
      }
     },
     "34f3def82ccb4ba98a22a8e81043c29b": {
      "model_module": "@jupyter-widgets/base",
      "model_module_version": "1.2.0",
      "model_name": "LayoutModel",
      "state": {}
     },
     "35102568fad648e3945e80321dd85f6b": {
      "model_module": "@jupyter-widgets/controls",
      "model_module_version": "1.5.0",
      "model_name": "DescriptionStyleModel",
      "state": {
       "description_width": ""
      }
     },
     "3516f08413654bf3bfca5969c4773bf6": {
      "model_module": "@jupyter-widgets/controls",
      "model_module_version": "1.5.0",
      "model_name": "VBoxModel",
      "state": {
       "children": [
        "IPY_MODEL_b447adee005540b8a78a1c137e713004",
        "IPY_MODEL_e9da9a2f8ddf41a9813c53806b9881a9"
       ],
       "layout": "IPY_MODEL_5d8e1b66db254176a5c0a306794cc345"
      }
     },
     "352fc57442f2405ab31caf50ec3cd2d5": {
      "model_module": "@jupyter-widgets/base",
      "model_module_version": "1.2.0",
      "model_name": "LayoutModel",
      "state": {
       "grid_area": "pathlist",
       "width": "auto"
      }
     },
     "3557b293388946039b9cbd10a9ae4fd5": {
      "model_module": "@jupyter-widgets/controls",
      "model_module_version": "1.5.0",
      "model_name": "VBoxModel",
      "state": {
       "children": [
        "IPY_MODEL_45b308ad1f9f46ea88cd13d0ef71320a",
        "IPY_MODEL_e702e73bdcc246aaaf5ec8f342295040"
       ],
       "layout": "IPY_MODEL_ec57402258f64c8b824f6f0a48e2acdf"
      }
     },
     "358617fcc7bd4db8815cec5a3f23f410": {
      "model_module": "@jupyter-widgets/base",
      "model_module_version": "1.2.0",
      "model_name": "LayoutModel",
      "state": {}
     },
     "36743e98759f4677884aba1a48f092ff": {
      "model_module": "@jupyter-widgets/controls",
      "model_module_version": "1.5.0",
      "model_name": "RadioButtonsModel",
      "state": {
       "_options_labels": [
        "None",
        "Model",
        "Value"
       ],
       "index": 2,
       "layout": "IPY_MODEL_04de3ba4195f4b1495d5629c7bd2509f",
       "style": "IPY_MODEL_8e595aa8d2fa459ba6393bb8f15b9bd7"
      }
     },
     "368c50af4e63464d8f3522496feaadd6": {
      "model_module": "@jupyter-widgets/base",
      "model_module_version": "1.2.0",
      "model_name": "LayoutModel",
      "state": {
       "grid_area": "dircontent",
       "width": "auto"
      }
     },
     "369cebf070b644668091f82b0a9824c4": {
      "model_module": "@jupyter-widgets/controls",
      "model_module_version": "1.5.0",
      "model_name": "SliderStyleModel",
      "state": {
       "description_width": "initial"
      }
     },
     "36c1c7fe6a17493eb668f5c24b8bd9f4": {
      "model_module": "@jupyter-widgets/base",
      "model_module_version": "1.2.0",
      "model_name": "LayoutModel",
      "state": {
       "grid_area": "pathlist",
       "width": "auto"
      }
     },
     "36e0cdc5a942410792b029b7b5484c59": {
      "model_module": "@jupyter-widgets/controls",
      "model_module_version": "1.5.0",
      "model_name": "GridBoxModel",
      "state": {
       "children": [
        "IPY_MODEL_2eae080dc44942b99dc21492aff3ea0f",
        "IPY_MODEL_a8c4f6df892d4a9c89a836b7bac872a2",
        "IPY_MODEL_a337183149ef4129924f5009fdf96d45"
       ],
       "layout": "IPY_MODEL_9cd6df4d37d9422ba994e02a8004b9b8"
      }
     },
     "371cf54f68b844f6a040862481e4a390": {
      "model_module": "@jupyter-widgets/controls",
      "model_module_version": "1.5.0",
      "model_name": "ButtonStyleModel",
      "state": {}
     },
     "37783455127c4f89b6f832d928937b81": {
      "model_module": "@jupyter-widgets/base",
      "model_module_version": "1.2.0",
      "model_name": "LayoutModel",
      "state": {}
     },
     "37dc4be782da45ceba674bf896f786b0": {
      "model_module": "@jupyter-widgets/controls",
      "model_module_version": "1.5.0",
      "model_name": "ButtonStyleModel",
      "state": {}
     },
     "37fccc408a9c40bc9231b3566c40aa5c": {
      "model_module": "@jupyter-widgets/controls",
      "model_module_version": "1.5.0",
      "model_name": "DescriptionStyleModel",
      "state": {
       "description_width": "initial"
      }
     },
     "38079bbc38ae4098bb42afd3299da394": {
      "model_module": "@jupyter-widgets/base",
      "model_module_version": "1.2.0",
      "model_name": "LayoutModel",
      "state": {
       "width": "auto"
      }
     },
     "3834ce3117f542e6b23455c6181dd4a5": {
      "model_module": "@jupyter-widgets/base",
      "model_module_version": "1.2.0",
      "model_name": "LayoutModel",
      "state": {}
     },
     "384db409ab7c4384a2090fe4d271b4d5": {
      "model_module": "@jupyter-widgets/controls",
      "model_module_version": "1.5.0",
      "model_name": "DescriptionStyleModel",
      "state": {
       "description_width": ""
      }
     },
     "386704c81fb746c1b74d910f941d7a12": {
      "model_module": "@jupyter-widgets/base",
      "model_module_version": "1.2.0",
      "model_name": "LayoutModel",
      "state": {}
     },
     "387112fb1b7e4bbabff228fb3ab83746": {
      "model_module": "@jupyter-widgets/controls",
      "model_module_version": "1.5.0",
      "model_name": "HTMLModel",
      "state": {
       "layout": "IPY_MODEL_c34319b1c45f4391852e098f02a4a991",
       "style": "IPY_MODEL_3ef2de3c233440babe077c3803e471ed"
      }
     },
     "38a14d420a4345efa0ace6f230e7354b": {
      "model_module": "@jupyter-widgets/controls",
      "model_module_version": "1.5.0",
      "model_name": "VBoxModel",
      "state": {
       "children": [
        "IPY_MODEL_c7c4852ae1a44b02907b58a85dcbdfb4",
        "IPY_MODEL_246a636875f04136b939fcbbd0b80910"
       ],
       "layout": "IPY_MODEL_ac9187905b2143e8b213ccb3b697df92"
      }
     },
     "38df7a14be5746f28a7de2498b855a0b": {
      "model_module": "@jupyter-widgets/base",
      "model_module_version": "1.2.0",
      "model_name": "LayoutModel",
      "state": {}
     },
     "38e02994555646bd87f4e9bf2bbf4423": {
      "model_module": "@jupyter-widgets/base",
      "model_module_version": "1.2.0",
      "model_name": "LayoutModel",
      "state": {}
     },
     "38e5c8b9a1144eae93988ecec9369b1e": {
      "model_module": "@jupyter-widgets/controls",
      "model_module_version": "1.5.0",
      "model_name": "SelectModel",
      "state": {
       "_options_labels": [
        "..",
        "dask-worker-space",
        "images",
        "base_application.ipynb",
        "calculator.ipynb",
        "clustering.ipynb",
        "contouring.ipynb",
        "coordinate_transformation.ipynb",
        "create_surface.ipynb",
        "data_interpolation.ipynb",
        "edge_detection.ipynb",
        "export.ipynb",
        "geophysical_inversion.ipynb",
        "object_data_selection.ipynb",
        "peak_finder.ipynb",
        "scatter.ipynb",
        "view_selection.ipynb"
       ],
       "index": null,
       "layout": "IPY_MODEL_b7682584a2454ecfb76083c5f26832b1",
       "rows": 8,
       "style": "IPY_MODEL_a6cfe7a554c04782a048b16548cc1a8a"
      }
     },
     "390fd089ca804f9bafbf2fde74af2f7f": {
      "model_module": "@jupyter-widgets/base",
      "model_module_version": "1.2.0",
      "model_name": "LayoutModel",
      "state": {}
     },
     "396d220e5ad547548d652663e8d39fa0": {
      "model_module": "@jupyter-widgets/controls",
      "model_module_version": "1.5.0",
      "model_name": "DescriptionStyleModel",
      "state": {
       "description_width": ""
      }
     },
     "397a7c9edf5b431f86ac461fe5caaed4": {
      "model_module": "@jupyter-widgets/base",
      "model_module_version": "1.2.0",
      "model_name": "LayoutModel",
      "state": {
       "display": "none"
      }
     },
     "3995a334945148a5a0d388d1f570016a": {
      "model_module": "@jupyter-widgets/controls",
      "model_module_version": "1.5.0",
      "model_name": "FloatTextModel",
      "state": {
       "description": "CG Tolerance",
       "layout": "IPY_MODEL_5bd2067ecea247d78917579f023411ec",
       "step": null,
       "style": "IPY_MODEL_9b8c0b226dc1421f885ae0642fed71b8",
       "value": 0.001
      }
     },
     "39ff87c67e014ea99b6014ab5f518d9f": {
      "model_module": "@jupyter-widgets/base",
      "model_module_version": "1.2.0",
      "model_name": "LayoutModel",
      "state": {
       "grid_area": "pathlist",
       "width": "auto"
      }
     },
     "3a47508882b947f290c2e854fe98fcbf": {
      "model_module": "@jupyter-widgets/base",
      "model_module_version": "1.2.0",
      "model_name": "LayoutModel",
      "state": {}
     },
     "3a5ac48177d245669ed684e668e80a4d": {
      "model_module": "@jupyter-widgets/controls",
      "model_module_version": "1.5.0",
      "model_name": "VBoxModel",
      "state": {
       "children": [
        "IPY_MODEL_f541a150cdb04502aeef6265c5095c6a",
        "IPY_MODEL_4ef33878fd05473bba6c0c5c7b4622c0"
       ],
       "layout": "IPY_MODEL_23506ece2a594729be756d4ff932c177"
      }
     },
     "3a7f36ab90154f1099af3944cff53345": {
      "model_module": "@jupyter-widgets/controls",
      "model_module_version": "1.5.0",
      "model_name": "DropdownModel",
      "state": {
       "_options_labels": [
        "",
        "fault_splay1",
        "fault_Cliff_Lake",
        "fault_Other_FlinFlon",
        "fault_Club_Lake_splay",
        "fault_Catherine_splay2",
        "fault_Birch_View",
        "fault_Dion_Lake",
        "fault_FlinFlon_splay",
        "fault_West_Mandy_Road",
        "fault_Channing",
        "fault_Ross_Lake",
        "fault_Louis_Hidden",
        "fault_Lake_View_thrust",
        "contact_Schist_Lake",
        "fault_Burley_Lake",
        "fault_Dion_Lake_splay",
        "fault_Green_Lake",
        "fault_FlinFlon",
        "fault_Catherine_splay1",
        "fault_East_Mandy_Road",
        "fault_Other_FlinFlon_South",
        "fault_Catherine_splay4",
        "contact_Stitt_Island",
        "fault_Club_Lake",
        "fault_Tailing_Pond",
        "35_Hidden_Reservoir_Hr5",
        "29_Hidden_Reservoir_Hr1a",
        "60_BlueLagoon_Fb2",
        "20_FlinFlon_Undivided_Int_Dykes_D2f",
        "04_Boundary_Intrusive_S4h",
        "53_Millrock_Rhyolite_Fm4b",
        "19_FlinFlon_Undivided_Int_Dykes_D2b",
        "18_FlinFlon_Undivided_Int_Dykes_777_D2b",
        "06_Phantom_Lake_Intrusive_S3a",
        "21_FlinFlon_Undivided_Int_Dykes_D3a",
        "43_Millrock_CHLSH_South",
        "56_Millrock_Basalt_Fm1ba",
        "17_FlinFlon_Undivided_Int_Dykes_D2",
        "32_Hidden_Reservoir_Hr1b_SW",
        "11_Missi_M3_NE",
        "13_Missi_M1",
        "07_Annabel_Granitoid_S1",
        "45_Millrock_Gabbro_South",
        "01_Late_Intrusive_S5b",
        "31_Hidden_Reservoir_Hr1c_SW",
        "52_Millrock_Rhyolite_Fm4_West_check",
        "55_Millrock_Basalt_Fm1bf",
        "34_Hidden_Reservoir_Hr2b",
        "03_Boundary_Intrusive_S4b",
        "42_Millrock_CHLSH_North",
        "26_Louis_L3",
        "23_FlinFlon_Undivided_Int_Felsic_D4g",
        "30_Hidden_Reservoir_Hr1b",
        "59_BlueLagoon_Fb3",
        "49_Millrock_MVR_Fm5d",
        "44_Millrock_Gabbro_North",
        "27_Hidden_Carlisle_Hc4",
        "22_FlinFlon_Undivided_Int_Felsic_D4e",
        "02_Boundary_Intrusive_S4a",
        "61_BlueLagoon_Fb1_NW",
        "05_Boundary_Intrusive_S4g",
        "39_Ore_Callinan",
        "38_Ore_Dan_Owens",
        "40_Ore_FlinFlon",
        "Inversion_VTEM_Model",
        "Gravity_Magnetics_drape60m",
        "CDI_VTEM_model",
        "Data_FEM_pseudo3D",
        "O2O_Interp_25m",
        "geochem",
        "Inversion_DIGHEM_Model",
        "Topography",
        "Data_TEM_pseudo3D"
       ],
       "description": "Object:",
       "index": 66,
       "layout": "IPY_MODEL_9222c4ade04c403387f3b172d38a1364",
       "style": "IPY_MODEL_6ab3c3d64f664ed5bb34b48e28bc0c63"
      }
     },
     "3abb63b23f724b03aaecc172bfddfbf0": {
      "model_module": "@jupyter-widgets/controls",
      "model_module_version": "1.5.0",
      "model_name": "DescriptionStyleModel",
      "state": {
       "description_width": ""
      }
     },
     "3aecf9434399475c8aa01f7afb773a5a": {
      "model_module": "@jupyter-widgets/base",
      "model_module_version": "1.2.0",
      "model_name": "LayoutModel",
      "state": {}
     },
     "3b1995960ab64f28b977d2c74d5976bb": {
      "model_module": "@jupyter-widgets/base",
      "model_module_version": "1.2.0",
      "model_name": "LayoutModel",
      "state": {}
     },
     "3b1cb606655a42aaa08b68c8f539d7c2": {
      "model_module": "@jupyter-widgets/controls",
      "model_module_version": "1.5.0",
      "model_name": "DescriptionStyleModel",
      "state": {
       "description_width": ""
      }
     },
     "3b77dfb280be411caad13171b91cc070": {
      "model_module": "@jupyter-widgets/controls",
      "model_module_version": "1.5.0",
      "model_name": "DescriptionStyleModel",
      "state": {
       "description_width": "initial"
      }
     },
     "3b83cdd014414f78a29af56bb148d3f0": {
      "model_module": "@jupyter-widgets/controls",
      "model_module_version": "1.5.0",
      "model_name": "ButtonStyleModel",
      "state": {}
     },
     "3b870999edc540ed82fe173db466a9fc": {
      "model_module": "@jupyter-widgets/controls",
      "model_module_version": "1.5.0",
      "model_name": "TextModel",
      "state": {
       "description": "Inducing Field [Amp, Inc, Dec]",
       "layout": "IPY_MODEL_358617fcc7bd4db8815cec5a3f23f410",
       "style": "IPY_MODEL_21d27ac0b423447ca990bfdd8fd0917c",
       "value": "60000, 79, 11"
      }
     },
     "3be13dce8dcb4670a6326aed065652fb": {
      "model_module": "@jupyter-widgets/base",
      "model_module_version": "1.2.0",
      "model_name": "LayoutModel",
      "state": {}
     },
     "3c3fd285fa264d3683b3f62eeefc0f6f": {
      "model_module": "@jupyter-widgets/controls",
      "model_module_version": "1.5.0",
      "model_name": "ButtonStyleModel",
      "state": {}
     },
     "3c5d2739bf94404ebc1442c9bec6728b": {
      "model_module": "@jupyter-widgets/base",
      "model_module_version": "1.2.0",
      "model_name": "LayoutModel",
      "state": {}
     },
     "3c663ae00561469f82bcd87eac24a493": {
      "model_module": "@jupyter-widgets/base",
      "model_module_version": "1.2.0",
      "model_name": "LayoutModel",
      "state": {}
     },
     "3c9342bf6650486288abd8df64c3a940": {
      "model_module": "@jupyter-widgets/base",
      "model_module_version": "1.2.0",
      "model_name": "LayoutModel",
      "state": {}
     },
     "3cde91a89c284953bc39264cc88927bc": {
      "model_module": "@jupyter-widgets/controls",
      "model_module_version": "1.5.0",
      "model_name": "DescriptionStyleModel",
      "state": {
       "description_width": ""
      }
     },
     "3d65088b5461455696baf42cdb2401b1": {
      "model_module": "@jupyter-widgets/controls",
      "model_module_version": "1.5.0",
      "model_name": "TextModel",
      "state": {
       "description": "(dx, dy, dz) (+ve up)",
       "layout": "IPY_MODEL_9433208cdee74962ac6a098d8c00d7db",
       "style": "IPY_MODEL_1b56b3a5cb1c47db8895933bfaf02232",
       "value": "0, 0, 60"
      }
     },
     "3d739bbd7d2f457daf17abf8d0350f68": {
      "model_module": "@jupyter-widgets/base",
      "model_module_version": "1.2.0",
      "model_name": "LayoutModel",
      "state": {}
     },
     "3d9cc85d98e743e89bb2df302e3d86b0": {
      "model_module": "@jupyter-widgets/base",
      "model_module_version": "1.2.0",
      "model_name": "LayoutModel",
      "state": {
       "grid_area": "dircontent",
       "width": "auto"
      }
     },
     "3d9f503624bb43bcac1ea0641b8000a4": {
      "model_module": "@jupyter-widgets/controls",
      "model_module_version": "1.5.0",
      "model_name": "DescriptionStyleModel",
      "state": {
       "description_width": ""
      }
     },
     "3ddc86fba7f74b86a0bb89de4256a741": {
      "model_module": "@jupyter-widgets/controls",
      "model_module_version": "1.5.0",
      "model_name": "HBoxModel",
      "state": {
       "children": [
        "IPY_MODEL_488a644e804e4036ad10a06862a27025",
        "IPY_MODEL_b170651ea30d4ea99e1717900d9ca41e"
       ],
       "layout": "IPY_MODEL_a76e8cd91ac840ed85cc201ab8dbcaf3"
      }
     },
     "3dde5dd31c00469385d1613c3cf9c81f": {
      "model_module": "@jupyter-widgets/controls",
      "model_module_version": "1.5.0",
      "model_name": "DescriptionStyleModel",
      "state": {
       "description_width": ""
      }
     },
     "3df29e9521794e26b237d7a72ea9fe9c": {
      "model_module": "@jupyter-widgets/base",
      "model_module_version": "1.2.0",
      "model_name": "LayoutModel",
      "state": {}
     },
     "3dff867295ce471ca71fa11e1de2114e": {
      "model_module": "@jupyter-widgets/base",
      "model_module_version": "1.2.0",
      "model_name": "LayoutModel",
      "state": {}
     },
     "3e0f9ed224de4788ac87acc331cb477a": {
      "model_module": "@jupyter-widgets/controls",
      "model_module_version": "1.5.0",
      "model_name": "HTMLModel",
      "state": {
       "layout": "IPY_MODEL_397a7c9edf5b431f86ac461fe5caaed4",
       "style": "IPY_MODEL_754ec1ac850d48d8b5e2a7c14fd7613c"
      }
     },
     "3e4929d40ecc4237a6d84c1bda357329": {
      "model_module": "@jupyter-widgets/controls",
      "model_module_version": "1.5.0",
      "model_name": "DescriptionStyleModel",
      "state": {
       "description_width": "initial"
      }
     },
     "3e6459ff739d4c3d88dd30c50975b5e4": {
      "model_module": "@jupyter-widgets/base",
      "model_module_version": "1.2.0",
      "model_name": "LayoutModel",
      "state": {
       "display": "none",
       "grid_gap": "0px 0px",
       "grid_template_areas": "\n                    'pathlist pathlist'\n                    'dircontent dircontent'\n                    ",
       "grid_template_columns": "60% 40%",
       "grid_template_rows": "auto auto",
       "width": "500px"
      }
     },
     "3e72276e48eb4b4d9daaab00f3e434f2": {
      "model_module": "@jupyter-widgets/controls",
      "model_module_version": "1.5.0",
      "model_name": "DescriptionStyleModel",
      "state": {
       "description_width": ""
      }
     },
     "3e7d374e71b54149b6a9085063b4f2ac": {
      "model_module": "@jupyter-widgets/controls",
      "model_module_version": "1.5.0",
      "model_name": "VBoxModel",
      "state": {
       "children": [
        "IPY_MODEL_7e7b3f4d33814de3a6a86a33fa1da54c",
        "IPY_MODEL_785a9a3e7db64e38869f5c62850bc71b",
        "IPY_MODEL_6c6c961d1582498cb059e5cbef8316fe"
       ],
       "layout": "IPY_MODEL_7cb7b60045a4477cb4e471234d8e19ec"
      }
     },
     "3e9892facc74455b9774e9d12d46637c": {
      "model_module": "@jupyter-widgets/base",
      "model_module_version": "1.2.0",
      "model_name": "LayoutModel",
      "state": {}
     },
     "3ebd881f19ec49f3b4e7433201ccaa39": {
      "model_module": "@jupyter-widgets/controls",
      "model_module_version": "1.5.0",
      "model_name": "ButtonModel",
      "state": {
       "description": "Create copy:",
       "layout": "IPY_MODEL_d5e5255528694fc49fd09e39e42afeda",
       "style": "IPY_MODEL_28b7487436d34667bdfa9cbc64b16fff"
      }
     },
     "3ec853f4f25940078fa11d3b974a64c2": {
      "model_module": "@jupyter-widgets/controls",
      "model_module_version": "1.5.0",
      "model_name": "LabelModel",
      "state": {
       "layout": "IPY_MODEL_ef0db34c95f54a35b86c4de378faf1ec",
       "style": "IPY_MODEL_24652879efc64a698b3fa272237d3a2f",
       "value": "Workspace"
      }
     },
     "3ed1fc598ee0444d950371f2a189280b": {
      "model_module": "@jupyter-widgets/controls",
      "model_module_version": "1.5.0",
      "model_name": "GridBoxModel",
      "state": {
       "children": [
        "IPY_MODEL_950304d11ca84c799d3165d09932d595",
        "IPY_MODEL_8bc486761d974e37b59138d5067d884c",
        "IPY_MODEL_d3afb1e96d854a31a482e311c38551f1"
       ],
       "layout": "IPY_MODEL_dfb36699f95240b19124d2961befdf4a"
      }
     },
     "3ee598e56dd440e1917c2f688e616996": {
      "model_module": "@jupyter-widgets/base",
      "model_module_version": "1.2.0",
      "model_name": "LayoutModel",
      "state": {}
     },
     "3ef2de3c233440babe077c3803e471ed": {
      "model_module": "@jupyter-widgets/controls",
      "model_module_version": "1.5.0",
      "model_name": "DescriptionStyleModel",
      "state": {
       "description_width": ""
      }
     },
     "3f06e18f73bd43c3b4760da69db427e2": {
      "model_module": "@jupyter-widgets/controls",
      "model_module_version": "1.5.0",
      "model_name": "FloatSliderModel",
      "state": {
       "continuous_update": false,
       "description": "Width",
       "layout": "IPY_MODEL_0799ae35af224b21ae1fbd1f13721c8b",
       "max": 7335.505938563321,
       "step": 0.1,
       "style": "IPY_MODEL_44fa1b2a1ab341c2ae2a954223f9b5d7",
       "value": 1000
      }
     },
     "3fcd9f949f0d43c5845a160ded833258": {
      "model_module": "@jupyter-widgets/controls",
      "model_module_version": "1.5.0",
      "model_name": "TextModel",
      "state": {
       "description": "Padding [W,E,N,S,D,U] (m)",
       "layout": "IPY_MODEL_903cc08c1e844753a1ed79d5f9ebcf33",
       "style": "IPY_MODEL_e799f74f386d48d9a80d01da6f82ee0d",
       "value": "0, 0, 0, 0, 0, 0"
      }
     },
     "403a0bdd35424060a30c068d8a7b331b": {
      "model_module": "@jupyter-widgets/base",
      "model_module_version": "1.2.0",
      "model_name": "LayoutModel",
      "state": {}
     },
     "40442f91d9424213b30bc98190a44dc5": {
      "model_module": "@jupyter-widgets/controls",
      "model_module_version": "1.5.0",
      "model_name": "VBoxModel",
      "state": {
       "children": [
        "IPY_MODEL_e79f9c76a3734e7c94fa1f04c43f789f",
        "IPY_MODEL_5f3f2e1e5a064263bf1d28c257be0980"
       ],
       "layout": "IPY_MODEL_c12852abbb894cf2976b9aff1ee9dd0d"
      }
     },
     "4045fb3b4c964d15bc0957e3c39d0b26": {
      "model_module": "@jupyter-widgets/controls",
      "model_module_version": "1.5.0",
      "model_name": "HTMLModel",
      "state": {
       "layout": "IPY_MODEL_8990d70e6e004211a90a09fccdeb2d37",
       "style": "IPY_MODEL_b3eb2b7fd1e048c6ad4c26eff6925180"
      }
     },
     "409c24cc59cb4e079245f236da54a60c": {
      "model_module": "@jupyter-widgets/base",
      "model_module_version": "1.2.0",
      "model_name": "LayoutModel",
      "state": {
       "grid_area": "pathlist",
       "width": "auto"
      }
     },
     "40d4a08519094f2fb208a37e0b553201": {
      "model_module": "@jupyter-widgets/controls",
      "model_module_version": "1.5.0",
      "model_name": "DescriptionStyleModel",
      "state": {
       "description_width": ""
      }
     },
     "40d8ebfa072e447bb398a1fbad3ebaeb": {
      "model_module": "@jupyter-widgets/controls",
      "model_module_version": "1.5.0",
      "model_name": "SelectModel",
      "state": {
       "_options_labels": [
        "..",
        "dask-worker-space",
        "images"
       ],
       "index": null,
       "layout": "IPY_MODEL_71766c09984a412e8866cddca10d85ed",
       "rows": 8,
       "style": "IPY_MODEL_b5831a4345354ab9bbda834e8e7c8c7f"
      }
     },
     "4107613c328c46b294f5108a4589254b": {
      "model_module": "@jupyter-widgets/controls",
      "model_module_version": "1.5.0",
      "model_name": "DescriptionStyleModel",
      "state": {
       "description_width": "initial"
      }
     },
     "411ea0607fc043dc93635ac7730c3aac": {
      "model_module": "@jupyter-widgets/controls",
      "model_module_version": "1.5.0",
      "model_name": "TextModel",
      "state": {
       "description": "Offsets (x,y,z)",
       "layout": "IPY_MODEL_115a964bc94042ef93fd2060eaa0a781",
       "style": "IPY_MODEL_0eea75b42bbc439286a36324417f8a30",
       "value": "0, 0, 0"
      }
     },
     "41312062cc7f41f5b56ea2f6f46c0836": {
      "model_module": "@jupyter-widgets/base",
      "model_module_version": "1.2.0",
      "model_name": "LayoutModel",
      "state": {}
     },
     "41c96d689b1440fb918a3bdaddacd745": {
      "model_module": "@jupyter-widgets/controls",
      "model_module_version": "1.5.0",
      "model_name": "DescriptionStyleModel",
      "state": {
       "description_width": ""
      }
     },
     "4200c6f897a24317a2edcfde9618eeae": {
      "model_module": "@jupyter-widgets/controls",
      "model_module_version": "1.5.0",
      "model_name": "LabelModel",
      "state": {
       "layout": "IPY_MODEL_faeb6158ea6c49cbaa1bc7797f6bcbcc",
       "style": "IPY_MODEL_b953720f02914b4ba418e78cae7f835d",
       "value": "Reference effective susceptibility"
      }
     },
     "42027dca1458489fa04d3dfcde8e7dba": {
      "model_module": "@jupyter-widgets/controls",
      "model_module_version": "1.5.0",
      "model_name": "DescriptionStyleModel",
      "state": {
       "description_width": ""
      }
     },
     "42978899cf6145fd91e0932d408f1896": {
      "model_module": "@jupyter-widgets/base",
      "model_module_version": "1.2.0",
      "model_name": "LayoutModel",
      "state": {
       "display": "none",
       "grid_area": "filename",
       "width": "auto"
      }
     },
     "43249230b59f47ba8cb3b0ac517b4149": {
      "model_module": "@jupyter-widgets/base",
      "model_module_version": "1.2.0",
      "model_name": "LayoutModel",
      "state": {}
     },
     "43311edf2c334234b28ea8d181f37673": {
      "model_module": "@jupyter-widgets/base",
      "model_module_version": "1.2.0",
      "model_name": "LayoutModel",
      "state": {
       "visibility": "hidden"
      }
     },
     "433a572db740440db0cb69b7d7f4eeb3": {
      "model_module": "@jupyter-widgets/controls",
      "model_module_version": "1.5.0",
      "model_name": "DescriptionStyleModel",
      "state": {
       "description_width": ""
      }
     },
     "4342bdf11e084d5f933849ec0c1fb1eb": {
      "model_module": "@jupyter-widgets/controls",
      "model_module_version": "1.5.0",
      "model_name": "DescriptionStyleModel",
      "state": {
       "description_width": ""
      }
     },
     "436dd58243f04759bb120dfb261971b9": {
      "model_module": "@jupyter-widgets/controls",
      "model_module_version": "1.5.0",
      "model_name": "VBoxModel",
      "state": {
       "children": [
        "IPY_MODEL_500b1730b72448f98270b17f5b3b1b39",
        "IPY_MODEL_015eb0319355456ba37691160bfdad18",
        "IPY_MODEL_7f2dd895365d443daac3059671e4c3af",
        "IPY_MODEL_b411759153f94514b3fde8deb59e2e9d",
        "IPY_MODEL_cdc4e17a9baf453fa791ad739a3c04f9",
        "IPY_MODEL_80f785197ce24fcf918d751b4fcbf895",
        "IPY_MODEL_d7b8b4dbaa784814948cec37e1c88848"
       ],
       "layout": "IPY_MODEL_b29fa8e542054783b9e990c3f88b5333"
      }
     },
     "43893c0652d043bc99fe5a6f70945254": {
      "model_module": "@jupyter-widgets/base",
      "model_module_version": "1.2.0",
      "model_name": "LayoutModel",
      "state": {}
     },
     "43bce0a3c2cb421d8e654957618e11e4": {
      "model_module": "@jupyter-widgets/controls",
      "model_module_version": "1.5.0",
      "model_name": "VBoxModel",
      "state": {
       "children": [
        "IPY_MODEL_ae412b15a28b4203838debc8397faf76",
        "IPY_MODEL_7a352debc3c247eb841a625383b25ce6",
        "IPY_MODEL_e0c1638c944d451d8f6faeffe9284a82"
       ],
       "layout": "IPY_MODEL_5e4948c585d44746a4fb88552628a639"
      }
     },
     "43dada2f62034f6cb92b6ef5748d2ef2": {
      "model_module": "@jupyter-widgets/controls",
      "model_module_version": "1.5.0",
      "model_name": "DescriptionStyleModel",
      "state": {
       "description_width": ""
      }
     },
     "43ef8132d8a8407d9ff2746ea22fbb31": {
      "model_module": "@jupyter-widgets/base",
      "model_module_version": "1.2.0",
      "model_name": "LayoutModel",
      "state": {
       "visibility": "hidden"
      }
     },
     "4424a437ee5f4eefa2baf68f608de801": {
      "model_module": "@jupyter-widgets/controls",
      "model_module_version": "1.5.0",
      "model_name": "ButtonModel",
      "state": {
       "description": "Select",
       "layout": "IPY_MODEL_c35e266757da4dc083537ad51d49bd05",
       "style": "IPY_MODEL_61733e96946d4ffea730a7786abfcb4f"
      }
     },
     "445d0acf58f94d74a34d501c4f573429": {
      "model_module": "@jupyter-widgets/controls",
      "model_module_version": "1.5.0",
      "model_name": "LabelModel",
      "state": {
       "layout": "IPY_MODEL_766ec73f27d849148211e6241377fe8e",
       "style": "IPY_MODEL_6d1fabf6b5c14a9596bf8554390d0c5c",
       "value": "Monitoring folder"
      }
     },
     "44f6d3dd74db46a9848b1fc1c146f54c": {
      "model_module": "@jupyter-widgets/controls",
      "model_module_version": "1.5.0",
      "model_name": "TextModel",
      "state": {
       "continuous_update": false,
       "description": "Group:",
       "layout": "IPY_MODEL_09aebbc790cf44b3a4db78395034d73f",
       "style": "IPY_MODEL_488229cfa8b74e1580b64413969ec196"
      }
     },
     "44fa1b2a1ab341c2ae2a954223f9b5d7": {
      "model_module": "@jupyter-widgets/controls",
      "model_module_version": "1.5.0",
      "model_name": "SliderStyleModel",
      "state": {
       "description_width": "initial"
      }
     },
     "4578ab6c20f846ed92fdb61172ef2c26": {
      "model_module": "@jupyter-widgets/controls",
      "model_module_version": "1.5.0",
      "model_name": "ButtonModel",
      "state": {
       "description": "Create copy:",
       "layout": "IPY_MODEL_bc17238b58594bf190df37ca6d61b137",
       "style": "IPY_MODEL_bea9e7a4633045969cb34bf176b2781b"
      }
     },
     "45b308ad1f9f46ea88cd13d0ef71320a": {
      "model_module": "@jupyter-widgets/controls",
      "model_module_version": "1.5.0",
      "model_name": "VBoxModel",
      "state": {
       "children": [
        "IPY_MODEL_920425e401c04df8a532827a8034c707",
        "IPY_MODEL_dbaa3497257c4b6b96b608dac3feb6b0"
       ],
       "layout": "IPY_MODEL_ce5d8814a544497cb5f4159e2e9ef03e"
      }
     },
     "45d6ea8a14134dbbaca3b5a839fe4632": {
      "model_module": "@jupyter-widgets/base",
      "model_module_version": "1.2.0",
      "model_name": "LayoutModel",
      "state": {}
     },
     "45d8037ee7564f91b7f6533fab77eb34": {
      "model_module": "@jupyter-widgets/base",
      "model_module_version": "1.2.0",
      "model_name": "LayoutModel",
      "state": {
       "grid_area": "filename",
       "width": "auto"
      }
     },
     "45fc423f2ced428f9e61ad67768f6235": {
      "model_module": "@jupyter-widgets/controls",
      "model_module_version": "1.5.0",
      "model_name": "FloatTextModel",
      "state": {
       "description": "SI",
       "layout": "IPY_MODEL_bafecdf87055498ab592e33a67285156",
       "step": null,
       "style": "IPY_MODEL_7a1acf556d214799932a0381c86fc852"
      }
     },
     "465dfbe18fd7486c98bf3f7ed667f6ba": {
      "model_module": "@jupyter-widgets/controls",
      "model_module_version": "1.5.0",
      "model_name": "CheckboxModel",
      "state": {
       "description": "Active",
       "disabled": false,
       "layout": "IPY_MODEL_eeb6f5ab1d30431b81b431db3c48fc2d",
       "style": "IPY_MODEL_60beaa9623b047afb6966093c4bac9d4",
       "value": false
      }
     },
     "466f5f30327646ef93d378a6bf74c07d": {
      "model_module": "@jupyter-widgets/controls",
      "model_module_version": "1.5.0",
      "model_name": "CheckboxModel",
      "state": {
       "description": "Active",
       "disabled": false,
       "layout": "IPY_MODEL_5f47082d65b84df38c0301a3bf109a37",
       "style": "IPY_MODEL_75b34aedd722456198fffc0f3afb5321",
       "value": false
      }
     },
     "4697e5c3bb3648cb8d3980148ba2d773": {
      "model_module": "@jupyter-widgets/controls",
      "model_module_version": "1.5.0",
      "model_name": "TextModel",
      "state": {
       "description": "Offsets (x,y,z)",
       "layout": "IPY_MODEL_1f5a4d55bc7e46f38b6ef3d001d859f9",
       "style": "IPY_MODEL_cc955c86d4a34c569d581175d1716f9a",
       "value": "0, 0, 0"
      }
     },
     "46e522a29c384db8bc8167ef6afc113e": {
      "model_module": "@jupyter-widgets/base",
      "model_module_version": "1.2.0",
      "model_name": "LayoutModel",
      "state": {}
     },
     "46ea233d99664ddc8d5bc19b40bcc001": {
      "model_module": "@jupyter-widgets/controls",
      "model_module_version": "1.5.0",
      "model_name": "DescriptionStyleModel",
      "state": {
       "description_width": ""
      }
     },
     "46ed07dfcd1a40558a15ae30a79131b9": {
      "model_module": "@jupyter-widgets/controls",
      "model_module_version": "1.5.0",
      "model_name": "DescriptionStyleModel",
      "state": {
       "description_width": ""
      }
     },
     "47015e1336c44bb4929d79ce8bcb9af9": {
      "model_module": "@jupyter-widgets/controls",
      "model_module_version": "1.5.0",
      "model_name": "DescriptionStyleModel",
      "state": {
       "description_width": ""
      }
     },
     "472592cc45b74626a5d06f760a047d26": {
      "model_module": "@jupyter-widgets/controls",
      "model_module_version": "1.5.0",
      "model_name": "DescriptionStyleModel",
      "state": {
       "description_width": "initial"
      }
     },
     "4737f07601a843fa8d27fbe30d05f5c0": {
      "model_module": "@jupyter-widgets/base",
      "model_module_version": "1.2.0",
      "model_name": "LayoutModel",
      "state": {}
     },
     "47a23ffdfbbd4a989fea0a9e1e2575b2": {
      "model_module": "@jupyter-widgets/controls",
      "model_module_version": "1.5.0",
      "model_name": "ButtonModel",
      "state": {
       "description": "Change",
       "layout": "IPY_MODEL_54e408cc92014915ad997ae5573be1fc",
       "style": "IPY_MODEL_0a0fe3aae73e4e298e5752a8750199d9"
      }
     },
     "47c7013d7bda44f09093aa5f5aaf9e1d": {
      "model_module": "@jupyter-widgets/controls",
      "model_module_version": "1.5.0",
      "model_name": "HBoxModel",
      "state": {
       "children": [
        "IPY_MODEL_0b507799477145dd8cc7952baf7260c4",
        "IPY_MODEL_6da1cf56669e4ffc999d2298c01566cc",
        "IPY_MODEL_be32061919c64677895690001968ed8f"
       ],
       "layout": "IPY_MODEL_270fe65eee1741f693172f4476912a3f"
      }
     },
     "483dbac556cb4f87a8a38ff5c165ce6f": {
      "model_module": "@jupyter-widgets/controls",
      "model_module_version": "1.5.0",
      "model_name": "DescriptionStyleModel",
      "state": {
       "description_width": ""
      }
     },
     "484a11a5a217446d99d6ebe5cd9a7074": {
      "model_module": "@jupyter-widgets/base",
      "model_module_version": "1.2.0",
      "model_name": "LayoutModel",
      "state": {}
     },
     "488229cfa8b74e1580b64413969ec196": {
      "model_module": "@jupyter-widgets/controls",
      "model_module_version": "1.5.0",
      "model_name": "DescriptionStyleModel",
      "state": {
       "description_width": "initial"
      }
     },
     "488a644e804e4036ad10a06862a27025": {
      "model_module": "@jupyter-widgets/controls",
      "model_module_version": "1.5.0",
      "model_name": "VBoxModel",
      "state": {
       "children": [
        "IPY_MODEL_6f640b9877d746919a309e3bd2dd595b",
        "IPY_MODEL_7a29702f104846d6b83da6a3d6f5ed79",
        "IPY_MODEL_f9d056dc9ccc443e8933e502a51042a7"
       ],
       "layout": "IPY_MODEL_dd55d32d5951491794c6c2c82b2840e0"
      }
     },
     "48ad8a2b323c442798415ccc2021e4e9": {
      "model_module": "@jupyter-widgets/controls",
      "model_module_version": "1.5.0",
      "model_name": "VBoxModel",
      "state": {
       "children": [
        "IPY_MODEL_df75290df199440692945dfaf807aa50",
        "IPY_MODEL_6244fe85d90c4322aa7410d310be29de"
       ],
       "layout": "IPY_MODEL_386704c81fb746c1b74d910f941d7a12"
      }
     },
     "491dbc06959d4918b9ff2fa778cc9b24": {
      "model_module": "@jupyter-widgets/controls",
      "model_module_version": "1.5.0",
      "model_name": "DescriptionStyleModel",
      "state": {
       "description_width": ""
      }
     },
     "491e9880fd2d49ff8ca80e9d9f3eac6a": {
      "model_module": "@jupyter-widgets/base",
      "model_module_version": "1.2.0",
      "model_name": "LayoutModel",
      "state": {
       "width": "auto"
      }
     },
     "4969832ded92412fb0b919dd454205dd": {
      "model_module": "@jupyter-widgets/controls",
      "model_module_version": "1.5.0",
      "model_name": "VBoxModel",
      "state": {
       "children": [
        "IPY_MODEL_279f419dc25d4509b27f27e14c1cc754",
        "IPY_MODEL_c86f1c8915c14640b74bb4f09f3c9dae"
       ],
       "layout": "IPY_MODEL_145adb3352b24c32918ef01588a7a44c"
      }
     },
     "4aee4d5685ac41bda7ec5a0fb8d02650": {
      "model_module": "@jupyter-widgets/controls",
      "model_module_version": "1.5.0",
      "model_name": "DropdownModel",
      "state": {
       "_options_labels": [
        "",
        "--- Channels ---",
        "elevation",
        "Z"
       ],
       "description": "Data: ",
       "index": 2,
       "layout": "IPY_MODEL_bfcc242ad44c46a8bf161c886ddef2a9",
       "style": "IPY_MODEL_f9904b5c3fa24c3aa4bfc5834943b289"
      }
     },
     "4b28385070cc41f09da4e6e6b2320ea8": {
      "model_module": "@jupyter-widgets/base",
      "model_module_version": "1.2.0",
      "model_name": "LayoutModel",
      "state": {}
     },
     "4b35dc9265c74ff797074d709d057304": {
      "model_module": "@jupyter-widgets/controls",
      "model_module_version": "1.5.0",
      "model_name": "DescriptionStyleModel",
      "state": {
       "description_width": ""
      }
     },
     "4b97f734712c4155af1498bbae90162f": {
      "model_module": "@jupyter-widgets/controls",
      "model_module_version": "1.5.0",
      "model_name": "DescriptionStyleModel",
      "state": {
       "description_width": "initial"
      }
     },
     "4ba16601372a4558ae6cda87cf683106": {
      "model_module": "@jupyter-widgets/controls",
      "model_module_version": "1.5.0",
      "model_name": "DescriptionStyleModel",
      "state": {
       "description_width": ""
      }
     },
     "4ba29b9ad9be4098ae9670beca674009": {
      "model_module": "@jupyter-widgets/controls",
      "model_module_version": "1.5.0",
      "model_name": "VBoxModel",
      "state": {
       "children": [
        "IPY_MODEL_ae6cfe4de28347fa9d5af4b92940b9a1",
        "IPY_MODEL_77d56b74ed534dc5a94365ad5f256a86",
        "IPY_MODEL_aed698a321ff4ee3831be43d5220abea"
       ],
       "layout": "IPY_MODEL_e6af7ba195aa4d768fba3da2871b716c"
      }
     },
     "4c10782f667d4d58a5e3a58d09dfc3f5": {
      "model_module": "@jupyter-widgets/base",
      "model_module_version": "1.2.0",
      "model_name": "LayoutModel",
      "state": {}
     },
     "4c3832fc7c0d4dd9be89835deaa62428": {
      "model_module": "@jupyter-widgets/controls",
      "model_module_version": "1.5.0",
      "model_name": "DescriptionStyleModel",
      "state": {
       "description_width": "initial"
      }
     },
     "4c5151a75ebf45289d48363eeb343316": {
      "model_module": "@jupyter-widgets/base",
      "model_module_version": "1.2.0",
      "model_name": "LayoutModel",
      "state": {
       "visibility": "visible"
      }
     },
     "4d5c45317215449285be807ec6cb7835": {
      "model_module": "@jupyter-widgets/controls",
      "model_module_version": "1.5.0",
      "model_name": "DescriptionStyleModel",
      "state": {
       "description_width": ""
      }
     },
     "4d6dcdee5c344f50bb2310c9826069e7": {
      "model_module": "@jupyter-widgets/base",
      "model_module_version": "1.2.0",
      "model_name": "LayoutModel",
      "state": {}
     },
     "4d73dbe80e034fb8a3e089a07559e49d": {
      "model_module": "@jupyter-widgets/controls",
      "model_module_version": "1.5.0",
      "model_name": "FloatTextModel",
      "state": {
       "description": "Number of cells:",
       "layout": "IPY_MODEL_f9270e56ac184034a3f50cd5b83a4030",
       "step": null,
       "style": "IPY_MODEL_2cc8b2247ed3432c94cd5ee04e8640ea",
       "value": 25
      }
     },
     "4d7c8b891d9d452180cac2edb1cfd0ff": {
      "model_module": "@jupyter-widgets/controls",
      "model_module_version": "1.5.0",
      "model_name": "CheckboxModel",
      "state": {
       "description": "Active",
       "disabled": false,
       "layout": "IPY_MODEL_3834ce3117f542e6b23455c6181dd4a5",
       "style": "IPY_MODEL_534d6a7a55a54060ae819a570bab6197",
       "value": false
      }
     },
     "4da04506d02944cdba4f33725edb23d4": {
      "model_module": "@jupyter-widgets/base",
      "model_module_version": "1.2.0",
      "model_name": "LayoutModel",
      "state": {}
     },
     "4eaaab846645482985c1f47827205ec3": {
      "model_module": "@jupyter-widgets/controls",
      "model_module_version": "1.5.0",
      "model_name": "DescriptionStyleModel",
      "state": {
       "description_width": "initial"
      }
     },
     "4ec2aa02c51e43798c357ffd10ce61b8": {
      "model_module": "@jupyter-widgets/base",
      "model_module_version": "1.2.0",
      "model_name": "LayoutModel",
      "state": {}
     },
     "4ed50191e83e4f8cbdbeda7022c34585": {
      "model_module": "@jupyter-widgets/controls",
      "model_module_version": "1.5.0",
      "model_name": "DescriptionStyleModel",
      "state": {
       "description_width": ""
      }
     },
     "4ee4e5900195438cb526bb35442a9d21": {
      "model_module": "@jupyter-widgets/controls",
      "model_module_version": "1.5.0",
      "model_name": "DescriptionStyleModel",
      "state": {
       "description_width": ""
      }
     },
     "4ef33878fd05473bba6c0c5c7b4622c0": {
      "model_module": "@jupyter-widgets/controls",
      "model_module_version": "1.5.0",
      "model_name": "FloatTextModel",
      "state": {
       "description": "SI",
       "layout": "IPY_MODEL_6e94dd14d66547b5b87e01f1ea388250",
       "step": null,
       "style": "IPY_MODEL_09887e0a2e3c41a1843a17da54502a93",
       "value": 0.0001
      }
     },
     "4fe2dee2b35c441f9e50ce2678dbd76c": {
      "model_module": "@jupyter-widgets/controls",
      "model_module_version": "1.5.0",
      "model_name": "HBoxModel",
      "state": {
       "children": [
        "IPY_MODEL_348879e0ab5942e39273675ffacccc7c",
        "IPY_MODEL_03deacf90513428eb6fb419d96973cd7",
        "IPY_MODEL_c4010b249d874f36b3fb298fc0962283"
       ],
       "layout": "IPY_MODEL_a6a3bb92220e4d44aea140198bff92af"
      }
     },
     "500b1730b72448f98270b17f5b3b1b39": {
      "model_module": "@jupyter-widgets/controls",
      "model_module_version": "1.5.0",
      "model_name": "LabelModel",
      "state": {
       "layout": "IPY_MODEL_45d6ea8a14134dbbaca3b5a839fe4632",
       "style": "IPY_MODEL_3cde91a89c284953bc39264cc88927bc",
       "value": "Octree Mesh"
      }
     },
     "5083005406704c518c2fe4f1570a385a": {
      "model_module": "@jupyter-widgets/base",
      "model_module_version": "1.2.0",
      "model_name": "LayoutModel",
      "state": {
       "grid_area": "dircontent",
       "width": "auto"
      }
     },
     "50c497543ec6427eaadcb18732445963": {
      "model_module": "@jupyter-widgets/base",
      "model_module_version": "1.2.0",
      "model_name": "LayoutModel",
      "state": {
       "width": "auto"
      }
     },
     "50d58597ade24c6786dd738207c7bb51": {
      "model_module": "@jupyter-widgets/controls",
      "model_module_version": "1.5.0",
      "model_name": "DescriptionStyleModel",
      "state": {
       "description_width": ""
      }
     },
     "51c6f63821134f8d933219f490132505": {
      "model_module": "@jupyter-widgets/base",
      "model_module_version": "1.2.0",
      "model_name": "LayoutModel",
      "state": {
       "grid_area": "pathlist",
       "width": "auto"
      }
     },
     "51e1e356ceb3418b99d989b6a9fcbe2b": {
      "model_module": "@jupyter-widgets/base",
      "model_module_version": "1.2.0",
      "model_name": "LayoutModel",
      "state": {
       "grid_area": "pathlist",
       "width": "auto"
      }
     },
     "521d418f48d547fa8384112112f22c18": {
      "model_module": "@jupyter-widgets/controls",
      "model_module_version": "1.5.0",
      "model_name": "VBoxModel",
      "state": {
       "children": [
        "IPY_MODEL_99847a1402754fcaac5b4c63ba44a45a",
        "IPY_MODEL_5fa24fa430e24717b1e324da3d0426b5",
        "IPY_MODEL_bcc539742d584ab0b1d756532918a435",
        "IPY_MODEL_75e5665e0db74ccc8fcd763642112b57",
        "IPY_MODEL_6b8e6f9cd3d94b0a91910c8a5d14d182"
       ],
       "layout": "IPY_MODEL_43893c0652d043bc99fe5a6f70945254"
      }
     },
     "522604fc188f43c98cc2bc4514616ecd": {
      "model_module": "@jupyter-widgets/controls",
      "model_module_version": "1.5.0",
      "model_name": "FloatTextModel",
      "state": {
       "description": "Target misfit",
       "layout": "IPY_MODEL_6a655879d0514adcb7074a0228a93b49",
       "step": null,
       "style": "IPY_MODEL_91898567acb649d8897c989a6315a877",
       "value": 1
      }
     },
     "52a5509749a844f893a4d12fe24986a2": {
      "model_module": "@jupyter-widgets/base",
      "model_module_version": "1.2.0",
      "model_name": "LayoutModel",
      "state": {}
     },
     "52b3935aa2ca453a94fbe41d2ba76f53": {
      "model_module": "@jupyter-widgets/base",
      "model_module_version": "1.2.0",
      "model_name": "LayoutModel",
      "state": {}
     },
     "52bb524a1a914f74bf0d86f9c3dd9dad": {
      "model_module": "@jupyter-widgets/controls",
      "model_module_version": "1.5.0",
      "model_name": "ButtonModel",
      "state": {
       "description": "Cancel",
       "layout": "IPY_MODEL_7b0d05c72507453188fca855d52f5057",
       "style": "IPY_MODEL_caf20b9ff6db45c098261ca7291c2993"
      }
     },
     "52c259cd4c46418dac2550f09b05df4b": {
      "model_module": "@jupyter-widgets/base",
      "model_module_version": "1.2.0",
      "model_name": "LayoutModel",
      "state": {
       "display": "none",
       "grid_area": "filename",
       "width": "auto"
      }
     },
     "5320138707394a26bb7f19b22d832b6d": {
      "model_module": "@jupyter-widgets/controls",
      "model_module_version": "1.5.0",
      "model_name": "DescriptionStyleModel",
      "state": {
       "description_width": "initial"
      }
     },
     "534780c34e244a16875307a54d079dcd": {
      "model_module": "@jupyter-widgets/controls",
      "model_module_version": "1.5.0",
      "model_name": "DescriptionStyleModel",
      "state": {
       "description_width": ""
      }
     },
     "53486e9a4610446d8f6b19fe21473a68": {
      "model_module": "@jupyter-widgets/base",
      "model_module_version": "1.2.0",
      "model_name": "LayoutModel",
      "state": {
       "grid_area": "filename",
       "width": "auto"
      }
     },
     "534d6a7a55a54060ae819a570bab6197": {
      "model_module": "@jupyter-widgets/controls",
      "model_module_version": "1.5.0",
      "model_name": "DescriptionStyleModel",
      "state": {
       "description_width": "initial"
      }
     },
     "5356dd9b28cd4176ac6c6d8f5ba0e3a2": {
      "model_module": "@jupyter-widgets/base",
      "model_module_version": "1.2.0",
      "model_name": "LayoutModel",
      "state": {
       "display": "none"
      }
     },
     "5380163e68854a62a1f061c9f144b6e1": {
      "model_module": "@jupyter-widgets/base",
      "model_module_version": "1.2.0",
      "model_name": "LayoutModel",
      "state": {
       "display": "none",
       "width": "auto"
      }
     },
     "53ceb9a8b28a4e479efeff795cab5cbb": {
      "model_module": "@jupyter-widgets/controls",
      "model_module_version": "1.5.0",
      "model_name": "DescriptionStyleModel",
      "state": {
       "description_width": "initial"
      }
     },
     "53d305b3344a4d91a4f7289d90a4c919": {
      "model_module": "@jupyter-widgets/controls",
      "model_module_version": "1.5.0",
      "model_name": "LabelModel",
      "state": {
       "layout": "IPY_MODEL_a7062c9c111f43ed9133778fd0717979",
       "style": "IPY_MODEL_5320138707394a26bb7f19b22d832b6d",
       "value": "Background susceptibility"
      }
     },
     "540f2d5ec3e54a4b88ad47e7a12aef54": {
      "model_module": "@jupyter-widgets/controls",
      "model_module_version": "1.5.0",
      "model_name": "ToggleButtonModel",
      "state": {
       "layout": "IPY_MODEL_851aed580c8f45eab7d8b915e19459f3",
       "style": "IPY_MODEL_063e7f5f3e394310b26272512a998bfa",
       "value": true
      }
     },
     "541c8d27050444a49a6156639e8b3242": {
      "model_module": "@jupyter-widgets/controls",
      "model_module_version": "1.5.0",
      "model_name": "VBoxModel",
      "state": {
       "children": [
        "IPY_MODEL_2ae0bfa894bc4f6f92fb7d7fb1f7d67f",
        "IPY_MODEL_8a7173055fc74a0c9b3ed1253842afa2",
        "IPY_MODEL_db24e15415cd4b4689d736eaf526556e",
        "IPY_MODEL_4d73dbe80e034fb8a3e089a07559e49d",
        "IPY_MODEL_07568a0dbed84eda80f38ff9f342e47b"
       ],
       "layout": "IPY_MODEL_7b59a36f4acd4f74b8f61ac0de6de5cf"
      }
     },
     "5428c6dbbc7246a8b0b14b968ae87094": {
      "model_module": "@jupyter-widgets/controls",
      "model_module_version": "1.5.0",
      "model_name": "CheckboxModel",
      "state": {
       "description": "GA Pro - Live link",
       "disabled": false,
       "indent": false,
       "layout": "IPY_MODEL_30a7b262f54d403783a80321ea25b625",
       "style": "IPY_MODEL_a26b69c92ad648e198c36275649b7e11",
       "value": false
      }
     },
     "54745696388c459fa2b88a17c1e1c44f": {
      "model_module": "@jupyter-widgets/base",
      "model_module_version": "1.2.0",
      "model_name": "LayoutModel",
      "state": {}
     },
     "5474daba73bd4643a1aa15571b4370ef": {
      "model_module": "@jupyter-widgets/controls",
      "model_module_version": "1.5.0",
      "model_name": "TextModel",
      "state": {
       "description": "Upper bound value",
       "layout": "IPY_MODEL_a389265247bd4a7db40e028b9bd50145",
       "style": "IPY_MODEL_ccfcc799fe804c7fbe3bc9e1ab711278"
      }
     },
     "54e0ecb953c143adb690f44aad5f6579": {
      "model_module": "@jupyter-widgets/controls",
      "model_module_version": "1.5.0",
      "model_name": "DescriptionStyleModel",
      "state": {
       "description_width": ""
      }
     },
     "54e408cc92014915ad997ae5573be1fc": {
      "model_module": "@jupyter-widgets/base",
      "model_module_version": "1.2.0",
      "model_name": "LayoutModel",
      "state": {
       "width": "auto"
      }
     },
     "54e942225100433793a2f366629a6272": {
      "model_module": "@jupyter-widgets/base",
      "model_module_version": "1.2.0",
      "model_name": "LayoutModel",
      "state": {}
     },
     "55416900dfe04b3cbf0dd5eccd3c369e": {
      "model_module": "@jupyter-widgets/controls",
      "model_module_version": "1.5.0",
      "model_name": "DescriptionStyleModel",
      "state": {
       "description_width": "initial"
      }
     },
     "555d62c7f8304696b10cd266edc30ca4": {
      "model_module": "@jupyter-widgets/controls",
      "model_module_version": "1.5.0",
      "model_name": "LabelModel",
      "state": {
       "layout": "IPY_MODEL_189b24f65a5646a78788c4aaadf79c0f",
       "style": "IPY_MODEL_85bb07af70f641a8a55cbe96caa77d7d",
       "value": "Monitoring folder"
      }
     },
     "557ca291207449789ac47ab36dc5162e": {
      "model_module": "@jupyter-widgets/controls",
      "model_module_version": "1.5.0",
      "model_name": "VBoxModel",
      "state": {
       "children": [
        "IPY_MODEL_0e80d10921ff46acbf842322c2138be9",
        "IPY_MODEL_9ba7bbce0ea34fada576c62913ada906"
       ],
       "layout": "IPY_MODEL_38e02994555646bd87f4e9bf2bbf4423"
      }
     },
     "55cf331969944f578ef3e16f7e56937d": {
      "model_module": "@jupyter-widgets/controls",
      "model_module_version": "1.5.0",
      "model_name": "ButtonStyleModel",
      "state": {}
     },
     "5632b39dc4734a5297b8ccc5be5f9fd8": {
      "model_module": "@jupyter-widgets/controls",
      "model_module_version": "1.5.0",
      "model_name": "TextModel",
      "state": {
       "continuous_update": false,
       "description": "Norms p_(s, x, y, z)",
       "layout": "IPY_MODEL_07447ff6b95f4321ad3b43e111e31bce",
       "style": "IPY_MODEL_a6b99f39a5e441298f36ec6f288e270a",
       "value": "0, 2, 2, 2"
      }
     },
     "56986249f6ec4347bc8b6b04f590c96e": {
      "model_module": "@jupyter-widgets/controls",
      "model_module_version": "1.5.0",
      "model_name": "DescriptionStyleModel",
      "state": {
       "description_width": ""
      }
     },
     "56ef9cdff9c14c0fb58891a33268f2b9": {
      "model_module": "@jupyter-widgets/controls",
      "model_module_version": "1.5.0",
      "model_name": "DescriptionStyleModel",
      "state": {
       "description_width": "initial"
      }
     },
     "5735d2fc418e421bb63e6e621fb497e9": {
      "model_module": "@jupyter-widgets/controls",
      "model_module_version": "1.5.0",
      "model_name": "DescriptionStyleModel",
      "state": {
       "description_width": "initial"
      }
     },
     "573f10ef45cb49c790161ab5870896bf": {
      "model_module": "@jupyter-widgets/controls",
      "model_module_version": "1.5.0",
      "model_name": "DropdownModel",
      "state": {
       "_options_labels": [
        "",
        "--- Channels ---",
        "Airborne_Gxx",
        "Airborne_Gxy",
        "Airborne_Gxz",
        "Airborne_Gyy",
        "Airborne_Gyz",
        "Airborne_Gz",
        "Airborne_Gzz",
        "Airborne_TMI",
        "Ground_Gz",
        "Z"
       ],
       "description": "Channel <=> Data:",
       "index": 9,
       "layout": "IPY_MODEL_4c10782f667d4d58a5e3a58d09dfc3f5",
       "style": "IPY_MODEL_0edd75590073465c8978f4635fcbbca0"
      }
     },
     "57713e42dda547d5bf38bf5808aec2f2": {
      "model_module": "@jupyter-widgets/controls",
      "model_module_version": "1.5.0",
      "model_name": "ButtonStyleModel",
      "state": {}
     },
     "579f02df265d405599ef0f64d24b227c": {
      "model_module": "@jupyter-widgets/controls",
      "model_module_version": "1.5.0",
      "model_name": "ButtonStyleModel",
      "state": {}
     },
     "57bc1c12e8fd4fc89be4ab8b5e852eaf": {
      "model_module": "@jupyter-widgets/controls",
      "model_module_version": "1.5.0",
      "model_name": "SelectModel",
      "state": {
       "_options_labels": [
        "..",
        "dask-worker-space",
        "images"
       ],
       "index": null,
       "layout": "IPY_MODEL_0b1e0c3090df43b8a11eb0b82b576963",
       "rows": 8,
       "style": "IPY_MODEL_1e06d108c2374885ade6bb8195a11207"
      }
     },
     "57c9ea8cb39844cc86f67a7f7d8e7b5b": {
      "model_module": "@jupyter-widgets/controls",
      "model_module_version": "1.5.0",
      "model_name": "TextModel",
      "state": {
       "layout": "IPY_MODEL_bf3b96ec70d8428cab9e1e5f545348b7",
       "placeholder": "output filename",
       "style": "IPY_MODEL_24fc84ea6084424ebc3428948c233703"
      }
     },
     "57fab14ffc994e8aabf23165a5911c29": {
      "model_module": "@jupyter-widgets/base",
      "model_module_version": "1.2.0",
      "model_name": "LayoutModel",
      "state": {
       "width": "auto"
      }
     },
     "5802aad9f32a4712af41c832ba3e945f": {
      "model_module": "@jupyter-widgets/controls",
      "model_module_version": "1.5.0",
      "model_name": "VBoxModel",
      "state": {
       "children": [
        "IPY_MODEL_555d62c7f8304696b10cd266edc30ca4",
        "IPY_MODEL_c698e3a0f66f40da88d5e28cd8349210"
       ],
       "layout": "IPY_MODEL_43249230b59f47ba8cb3b0ac517b4149"
      }
     },
     "58647055505d431292c3b8c21ae5297a": {
      "model_module": "@jupyter-widgets/base",
      "model_module_version": "1.2.0",
      "model_name": "LayoutModel",
      "state": {
       "width": "auto"
      }
     },
     "5869db11ef6f429c8920f77530ec39be": {
      "model_module": "@jupyter-widgets/controls",
      "model_module_version": "1.5.0",
      "model_name": "TextModel",
      "state": {
       "continuous_update": false,
       "description": "Group:",
       "layout": "IPY_MODEL_a1247041f6b14b509543050773d63f67",
       "style": "IPY_MODEL_3e4929d40ecc4237a6d84c1bda357329"
      }
     },
     "58ec6586d5fd40fb8161221baf6580c7": {
      "model_module": "@jupyter-widgets/base",
      "model_module_version": "1.2.0",
      "model_name": "LayoutModel",
      "state": {}
     },
     "594836ff5ac3435fb387c77dceac913f": {
      "model_module": "@jupyter-widgets/controls",
      "model_module_version": "1.5.0",
      "model_name": "DescriptionStyleModel",
      "state": {
       "description_width": ""
      }
     },
     "5968c8bb18d64ccb8e37d8f6cb3296e0": {
      "model_module": "@jupyter-widgets/base",
      "model_module_version": "1.2.0",
      "model_name": "LayoutModel",
      "state": {}
     },
     "59bc286243dc4a35ae75772352cd327b": {
      "model_module": "@jupyter-widgets/controls",
      "model_module_version": "1.5.0",
      "model_name": "ToggleButtonModel",
      "state": {
       "layout": "IPY_MODEL_b2634bdd78fd418b8d39f129bbe0abdc",
       "style": "IPY_MODEL_9e4491ce14e54d4b83ccc70d5727799e",
       "value": true
      }
     },
     "59c2878c163440a299aa2a94a283fd51": {
      "model_module": "@jupyter-widgets/base",
      "model_module_version": "1.2.0",
      "model_name": "LayoutModel",
      "state": {}
     },
     "5a49febac9864b46816f00b2c9feeefd": {
      "model_module": "@jupyter-widgets/base",
      "model_module_version": "1.2.0",
      "model_name": "LayoutModel",
      "state": {
       "grid_area": "pathlist",
       "width": "auto"
      }
     },
     "5a69bfe2fdfb48398787b9828c22e24a": {
      "model_module": "@jupyter-widgets/controls",
      "model_module_version": "1.5.0",
      "model_name": "SelectModel",
      "state": {
       "_options_labels": [
        "..",
        "SimPEG_PFInversion",
        "Temp",
        "dask-worker-space",
        "FlinFlon.geoh5",
        "MtDore_TMI.geoh5"
       ],
       "index": 4,
       "layout": "IPY_MODEL_6f369324688346479b5a2fd7aa094be3",
       "rows": 8,
       "style": "IPY_MODEL_23ca1189e3d740229aa689553a6286de"
      }
     },
     "5abc0193b4134511bb3c74f5f5cb9bf7": {
      "model_module": "@jupyter-widgets/controls",
      "model_module_version": "1.5.0",
      "model_name": "HBoxModel",
      "state": {
       "children": [
        "IPY_MODEL_d1f74e796e0245d0a88bc3617a59ccde",
        "IPY_MODEL_19ad9dad157c49ee8ccfc84f42b54419"
       ],
       "layout": "IPY_MODEL_3c663ae00561469f82bcd87eac24a493"
      }
     },
     "5aeba23002234470872e8449e8caf6f5": {
      "model_module": "@jupyter-widgets/controls",
      "model_module_version": "1.5.0",
      "model_name": "HTMLModel",
      "state": {
       "layout": "IPY_MODEL_1ecaf1241d9f4869a3047ce73d1e155b",
       "style": "IPY_MODEL_786854c0b2514cf4a8be64f9c8a55d1d"
      }
     },
     "5b61e0635c4040b4b3a37f61f41e797a": {
      "model_module": "@jupyter-widgets/controls",
      "model_module_version": "1.5.0",
      "model_name": "HTMLModel",
      "state": {
       "layout": "IPY_MODEL_635f59aec5604644ad6ac0a22f9b00ba",
       "placeholder": "",
       "style": "IPY_MODEL_2f8e3e51805949c29cca407ed10d3683",
       "value": "<span style=\"margin-left:10px; color:black;\">No file selected</span>"
      }
     },
     "5b8fd09721af4f52aa7f129646dbfbab": {
      "model_module": "@jupyter-widgets/controls",
      "model_module_version": "1.5.0",
      "model_name": "VBoxModel",
      "state": {
       "children": [
        "IPY_MODEL_7e67817e9a5e48d1a21752aaab7483e4",
        "IPY_MODEL_77c881fe00c341e7828e170326dfdd59"
       ],
       "layout": "IPY_MODEL_c1bceee8b5d0490f8ee1cb08f0fb70b8"
      }
     },
     "5bbb745108184237b91a2a23c165f6d0": {
      "model_module": "@jupyter-widgets/controls",
      "model_module_version": "1.5.0",
      "model_name": "SelectMultipleModel",
      "state": {
       "description": "Select lines:",
       "index": [],
       "layout": "IPY_MODEL_9578bc3e347d4c499cd915b365fde111",
       "rows": 5,
       "style": "IPY_MODEL_fd8b7b62b9a1468a87324d4245513d85"
      }
     },
     "5bc2ae132580444d90bb4cc234eb1fd2": {
      "model_module": "@jupyter-widgets/base",
      "model_module_version": "1.2.0",
      "model_name": "LayoutModel",
      "state": {}
     },
     "5bceddae3de64c049046c65d458d7efa": {
      "model_module": "@jupyter-widgets/controls",
      "model_module_version": "1.5.0",
      "model_name": "VBoxModel",
      "state": {
       "children": [
        "IPY_MODEL_c764de50c8534b598407f1b6c35b1f3e"
       ],
       "layout": "IPY_MODEL_a019343d7fa5446f9d8a1a849740296c"
      }
     },
     "5bd2067ecea247d78917579f023411ec": {
      "model_module": "@jupyter-widgets/base",
      "model_module_version": "1.2.0",
      "model_name": "LayoutModel",
      "state": {}
     },
     "5c0f36061a9546f88cb2e35416c861d1": {
      "model_module": "@jupyter-widgets/controls",
      "model_module_version": "1.5.0",
      "model_name": "VBoxModel",
      "state": {
       "children": [
        "IPY_MODEL_d4b639aa209a4ea385bc90d86c459cf1",
        "IPY_MODEL_82ece9a5798b47c4be85ad062b30ea5a",
        "IPY_MODEL_2de4ee3fbbcd4c2da59bf1b476776b2a"
       ],
       "layout": "IPY_MODEL_fd724a13800e495e8fd21aa359b7df4b"
      }
     },
     "5c44a0c3a82649009e97e57df2de1f4f": {
      "model_module": "@jupyter-widgets/controls",
      "model_module_version": "1.5.0",
      "model_name": "DescriptionStyleModel",
      "state": {
       "description_width": "initial"
      }
     },
     "5c48e19b19de48619292d4b5afcab7ef": {
      "model_module": "@jupyter-widgets/base",
      "model_module_version": "1.2.0",
      "model_name": "LayoutModel",
      "state": {}
     },
     "5cdebb60a204401fa3326f6ed51da423": {
      "model_module": "@jupyter-widgets/controls",
      "model_module_version": "1.5.0",
      "model_name": "ButtonStyleModel",
      "state": {}
     },
     "5d040f2a8bf74586a0773acfce82cc08": {
      "model_module": "@jupyter-widgets/controls",
      "model_module_version": "1.5.0",
      "model_name": "ButtonModel",
      "state": {
       "description": "Cancel",
       "layout": "IPY_MODEL_33610c8c21c448ec9d67dcf07621688e",
       "style": "IPY_MODEL_f5e7bdbfde344f738a4ece810bb14c7e"
      }
     },
     "5d2bfc89d7dd4a62a4cd19cae3fe90b1": {
      "model_module": "@jupyter-widgets/controls",
      "model_module_version": "1.5.0",
      "model_name": "DescriptionStyleModel",
      "state": {
       "description_width": ""
      }
     },
     "5d5e2989340e4fecb02830e1365e3dbe": {
      "model_module": "@jupyter-widgets/controls",
      "model_module_version": "1.5.0",
      "model_name": "DescriptionStyleModel",
      "state": {
       "description_width": ""
      }
     },
     "5d7cb215c6874c7687da5fbf5a0e9c95": {
      "model_module": "@jupyter-widgets/controls",
      "model_module_version": "1.5.0",
      "model_name": "ToggleButtonModel",
      "state": {
       "button_style": "warning",
       "description": "Write input",
       "icon": "check",
       "layout": "IPY_MODEL_152ff059e49046fc81697f0177618715",
       "style": "IPY_MODEL_21ec4a0c944f4d3d890c84265dbe2fa6",
       "tooltip": "Write json input file"
      }
     },
     "5d7f47147f4340c483d3b19c68e5a825": {
      "model_module": "@jupyter-widgets/controls",
      "model_module_version": "1.5.0",
      "model_name": "TextModel",
      "state": {
       "description": "Error (%, floor)",
       "layout": "IPY_MODEL_de84278834874a6a86a30dee23c664f7",
       "style": "IPY_MODEL_84af5460f955455fbd97cbb107499369",
       "value": "0, 1"
      }
     },
     "5d8e1b66db254176a5c0a306794cc345": {
      "model_module": "@jupyter-widgets/base",
      "model_module_version": "1.2.0",
      "model_name": "LayoutModel",
      "state": {}
     },
     "5dbdcad3d0bf48e4bf38dcb8110674ac": {
      "model_module": "@jupyter-widgets/controls",
      "model_module_version": "1.5.0",
      "model_name": "FloatTextModel",
      "state": {
       "description": "Constant elevation (m)",
       "layout": "IPY_MODEL_6483ead99dce43d09e0e3d195d3fda9d",
       "step": null,
       "style": "IPY_MODEL_044c8939862742c198ccfd499f97c6d8"
      }
     },
     "5e28e0ccac76496996ee50a2c2c14329": {
      "model_module": "@jupyter-widgets/controls",
      "model_module_version": "1.5.0",
      "model_name": "HBoxModel",
      "state": {
       "children": [
        "IPY_MODEL_e9e0f994b6614d8a8cda34378607a56f",
        "IPY_MODEL_11d57ef828744925bcb1fd4facd829f3",
        "IPY_MODEL_fc927261979241d49b0e3ead11f0e1fe"
       ],
       "layout": "IPY_MODEL_7e5a1a65c9ba4d2abe15793446708fba"
      }
     },
     "5e3e4862960f477ba136e28ac3a62e33": {
      "model_module": "@jupyter-widgets/controls",
      "model_module_version": "1.5.0",
      "model_name": "HTMLModel",
      "state": {
       "layout": "IPY_MODEL_7c50d97ad560401593d13682104d0ad4",
       "placeholder": "",
       "style": "IPY_MODEL_894073a71f4943679b945cc9b818a15f",
       "value": "<span style=\"margin-left:10px; color:black;\">No file selected</span>"
      }
     },
     "5e4872346753400a9d2d6e130ef37f90": {
      "model_module": "@jupyter-widgets/controls",
      "model_module_version": "1.5.0",
      "model_name": "DescriptionStyleModel",
      "state": {
       "description_width": ""
      }
     },
     "5e4948c585d44746a4fb88552628a639": {
      "model_module": "@jupyter-widgets/base",
      "model_module_version": "1.2.0",
      "model_name": "LayoutModel",
      "state": {
       "width": "auto"
      }
     },
     "5eed586a0ef04479b21bda376875c38a": {
      "model_module": "@jupyter-widgets/controls",
      "model_module_version": "1.5.0",
      "model_name": "DescriptionStyleModel",
      "state": {
       "description_width": "initial"
      }
     },
     "5ef49434409e4d269641ae7cf97b5a77": {
      "model_module": "@jupyter-widgets/controls",
      "model_module_version": "1.5.0",
      "model_name": "ButtonStyleModel",
      "state": {}
     },
     "5f0771e0a8ec4061881b1d06096b5dc3": {
      "model_module": "@jupyter-widgets/base",
      "model_module_version": "1.2.0",
      "model_name": "LayoutModel",
      "state": {
       "grid_area": "filename",
       "width": "auto"
      }
     },
     "5f3603614641489daeb19b8a3c648161": {
      "model_module": "@jupyter-widgets/base",
      "model_module_version": "1.2.0",
      "model_name": "LayoutModel",
      "state": {}
     },
     "5f3f2e1e5a064263bf1d28c257be0980": {
      "model_module": "@jupyter-widgets/controls",
      "model_module_version": "1.5.0",
      "model_name": "HBoxModel",
      "state": {
       "children": [
        "IPY_MODEL_85d8b91bc87b4547add747a68e647878",
        "IPY_MODEL_e7b17a9d48d0499fa1b00e65f8b52d39"
       ],
       "layout": "IPY_MODEL_5f9ea4647ee549b5b5d3517a46e48fd5"
      }
     },
     "5f47082d65b84df38c0301a3bf109a37": {
      "model_module": "@jupyter-widgets/base",
      "model_module_version": "1.2.0",
      "model_name": "LayoutModel",
      "state": {}
     },
     "5f9ea4647ee549b5b5d3517a46e48fd5": {
      "model_module": "@jupyter-widgets/base",
      "model_module_version": "1.2.0",
      "model_name": "LayoutModel",
      "state": {}
     },
     "5fa24fa430e24717b1e324da3d0426b5": {
      "model_module": "@jupyter-widgets/controls",
      "model_module_version": "1.5.0",
      "model_name": "TextModel",
      "state": {
       "description": "byz",
       "layout": "IPY_MODEL_43311edf2c334234b28ea8d181f37673",
       "style": "IPY_MODEL_a1125394a8c04e18bc2bc6716d00ac57"
      }
     },
     "5fecfa42e38d4958af5b0da214d35f3c": {
      "model_module": "@jupyter-widgets/base",
      "model_module_version": "1.2.0",
      "model_name": "LayoutModel",
      "state": {
       "grid_area": "pathlist",
       "width": "auto"
      }
     },
     "5fed0704f6354d018052b93e4095da5c": {
      "model_module": "@jupyter-widgets/base",
      "model_module_version": "1.2.0",
      "model_name": "LayoutModel",
      "state": {
       "display": "none"
      }
     },
     "6017dd1fb40940e1b2ca976969c1cdcd": {
      "model_module": "@jupyter-widgets/controls",
      "model_module_version": "1.5.0",
      "model_name": "TextModel",
      "state": {
       "continuous_update": false,
       "description": "Group:",
       "layout": "IPY_MODEL_f1c62d2fd5ff4e84b903cdea62a3ace0",
       "style": "IPY_MODEL_e2ceff7c8d5a499d8d19deecf8760532"
      }
     },
     "60505f73d5324970a713a2d93dc822e0": {
      "model_module": "@jupyter-widgets/controls",
      "model_module_version": "1.5.0",
      "model_name": "DropdownModel",
      "state": {
       "_options_labels": [
        "tmi",
        "bxx",
        "bxy",
        "bxz",
        "byy",
        "byz",
        "bzz"
       ],
       "index": 0,
       "layout": "IPY_MODEL_e53dfa0e86bc44a79f5c6cc0868f4516",
       "style": "IPY_MODEL_f76bb004fa4c4dfdb504fdd1958e415a"
      }
     },
     "60a327271eae445f803a51e288ff4317": {
      "model_module": "@jupyter-widgets/controls",
      "model_module_version": "1.5.0",
      "model_name": "ButtonModel",
      "state": {
       "description": "Create copy:",
       "layout": "IPY_MODEL_2dc77f413e12476da8cab93598436bad",
       "style": "IPY_MODEL_7952520995b04780962a603af1ad469a"
      }
     },
     "60aad70049fd4ec99ff9134ee097cf54": {
      "model_module": "@jupyter-widgets/base",
      "model_module_version": "1.2.0",
      "model_name": "LayoutModel",
      "state": {}
     },
     "60b59e678a7e4f0b82352769e7a570ea": {
      "model_module": "@jupyter-widgets/controls",
      "model_module_version": "1.5.0",
      "model_name": "DescriptionStyleModel",
      "state": {
       "description_width": ""
      }
     },
     "60beaa9623b047afb6966093c4bac9d4": {
      "model_module": "@jupyter-widgets/controls",
      "model_module_version": "1.5.0",
      "model_name": "DescriptionStyleModel",
      "state": {
       "description_width": "initial"
      }
     },
     "60bece9e7d75491a8d68ef69ab6a9350": {
      "model_module": "@jupyter-widgets/controls",
      "model_module_version": "1.5.0",
      "model_name": "TextModel",
      "state": {
       "description": "Offsets (x,y,z)",
       "layout": "IPY_MODEL_11ae9813e28845689a04b6e2e02b5592",
       "style": "IPY_MODEL_4107613c328c46b294f5108a4589254b",
       "value": "0, 0, 0"
      }
     },
     "60df8db0e86b449f9628ef933b3b8dd3": {
      "model_module": "@jupyter-widgets/controls",
      "model_module_version": "1.5.0",
      "model_name": "DescriptionStyleModel",
      "state": {
       "description_width": "initial"
      }
     },
     "60e64869dc234a06abf1dd2ec7a39845": {
      "model_module": "@jupyter-widgets/controls",
      "model_module_version": "1.5.0",
      "model_name": "ButtonStyleModel",
      "state": {}
     },
     "6116091bab8e4995a2df30389a9cd81c": {
      "model_module": "@jupyter-widgets/base",
      "model_module_version": "1.2.0",
      "model_name": "LayoutModel",
      "state": {
       "display": "none",
       "grid_area": "filename",
       "width": "auto"
      }
     },
     "61733e96946d4ffea730a7786abfcb4f": {
      "model_module": "@jupyter-widgets/controls",
      "model_module_version": "1.5.0",
      "model_name": "ButtonStyleModel",
      "state": {}
     },
     "6244fe85d90c4322aa7410d310be29de": {
      "model_module": "@jupyter-widgets/controls",
      "model_module_version": "1.5.0",
      "model_name": "VBoxModel",
      "state": {
       "children": [
        "IPY_MODEL_60505f73d5324970a713a2d93dc822e0",
        "IPY_MODEL_e6ec6301c96a49498a54ea23bd11ebb8"
       ],
       "layout": "IPY_MODEL_852136e781564c979993db2b119faedd"
      }
     },
     "6257cc951dbe4e368e27694085e1ce73": {
      "model_module": "@jupyter-widgets/controls",
      "model_module_version": "1.5.0",
      "model_name": "ToggleButtonModel",
      "state": {
       "layout": "IPY_MODEL_6e29b29bac72485e898b1597f220d08e",
       "style": "IPY_MODEL_260f292e59c74c6d8d321f44c68f7c50",
       "value": true
      }
     },
     "6293b95fe6744bc897a8768ad0c521c9": {
      "model_module": "@jupyter-widgets/controls",
      "model_module_version": "1.5.0",
      "model_name": "ButtonStyleModel",
      "state": {}
     },
     "62d1e9acab38428db0dafd70f5089648": {
      "model_module": "@jupyter-widgets/base",
      "model_module_version": "1.2.0",
      "model_name": "LayoutModel",
      "state": {
       "width": "auto"
      }
     },
     "634de41447ab430cb03e314629a13e91": {
      "model_module": "@jupyter-widgets/controls",
      "model_module_version": "1.5.0",
      "model_name": "VBoxModel",
      "state": {
       "children": [
        "IPY_MODEL_7ee2defa17354d6d9fcc68182fcf9d9f",
        "IPY_MODEL_8f9d0632752643f2b779181c2de103e3",
        "IPY_MODEL_8a9b4f781ac44f88b147c6b375fa44d7",
        "IPY_MODEL_5d7f47147f4340c483d3b19c68e5a825",
        "IPY_MODEL_27f2c0645ad748d5bd783169ca8a7f24"
       ],
       "layout": "IPY_MODEL_71651acdd3194188be46134b998dbaa6"
      }
     },
     "635f59aec5604644ad6ac0a22f9b00ba": {
      "model_module": "@jupyter-widgets/base",
      "model_module_version": "1.2.0",
      "model_name": "LayoutModel",
      "state": {}
     },
     "636511c2bb4c48938214de9eae3ef6e5": {
      "model_module": "@jupyter-widgets/controls",
      "model_module_version": "1.5.0",
      "model_name": "ButtonStyleModel",
      "state": {}
     },
     "63708cf2c04644a893a8f6388e957953": {
      "model_module": "@jupyter-widgets/controls",
      "model_module_version": "1.5.0",
      "model_name": "DescriptionStyleModel",
      "state": {
       "description_width": ""
      }
     },
     "641e2fddab0a46fc812c4a7bd89d4ef0": {
      "model_module": "@jupyter-widgets/controls",
      "model_module_version": "1.5.0",
      "model_name": "DescriptionStyleModel",
      "state": {
       "description_width": ""
      }
     },
     "64211187250b47d3813a3cb3fc65c2f8": {
      "model_module": "@jupyter-widgets/controls",
      "model_module_version": "1.5.0",
      "model_name": "DescriptionStyleModel",
      "state": {
       "description_width": ""
      }
     },
     "64284e70c4104f06a5c59e4a3c6341f9": {
      "model_module": "@jupyter-widgets/base",
      "model_module_version": "1.2.0",
      "model_name": "LayoutModel",
      "state": {}
     },
     "64381c6807ae4f1e9e1f9dc1da0b47af": {
      "model_module": "@jupyter-widgets/controls",
      "model_module_version": "1.5.0",
      "model_name": "DescriptionStyleModel",
      "state": {
       "description_width": "initial"
      }
     },
     "6464d3a03b8e47fc8e791362a11fc0d4": {
      "model_module": "@jupyter-widgets/controls",
      "model_module_version": "1.5.0",
      "model_name": "HTMLModel",
      "state": {
       "layout": "IPY_MODEL_e6ceb1cf937d47509a3c9dbda76bef88",
       "style": "IPY_MODEL_2a9f216c26fc413386d5915dc32b32dd"
      }
     },
     "6483ead99dce43d09e0e3d195d3fda9d": {
      "model_module": "@jupyter-widgets/base",
      "model_module_version": "1.2.0",
      "model_name": "LayoutModel",
      "state": {}
     },
     "64a7c15d27044434be485d993fdb5ac1": {
      "model_module": "@jupyter-widgets/base",
      "model_module_version": "1.2.0",
      "model_name": "LayoutModel",
      "state": {
       "display": "none",
       "grid_area": "filename",
       "width": "auto"
      }
     },
     "64f5fb7b32f5479ea96c0d1650c3b6f0": {
      "model_module": "@jupyter-widgets/base",
      "model_module_version": "1.2.0",
      "model_name": "LayoutModel",
      "state": {}
     },
     "65179e82e5894494a93e4c59891b8c46": {
      "model_module": "@jupyter-widgets/base",
      "model_module_version": "1.2.0",
      "model_name": "LayoutModel",
      "state": {}
     },
     "65750c6fba034bb08bb5e249fa3484f6": {
      "model_module": "@jupyter-widgets/controls",
      "model_module_version": "1.5.0",
      "model_name": "DescriptionStyleModel",
      "state": {
       "description_width": ""
      }
     },
     "65822fc17ca543a883f515024eda6111": {
      "model_module": "@jupyter-widgets/controls",
      "model_module_version": "1.5.0",
      "model_name": "DescriptionStyleModel",
      "state": {
       "description_width": ""
      }
     },
     "659db91fee6846b9ac4dcd67dbe53f7b": {
      "model_module": "@jupyter-widgets/controls",
      "model_module_version": "1.5.0",
      "model_name": "VBoxModel",
      "state": {
       "children": [
        "IPY_MODEL_758ef678ce86422caebe37d386a103d4",
        "IPY_MODEL_baf77c03bede4667a74808d6c731ce2c"
       ],
       "layout": "IPY_MODEL_984ef65e83934274b83d8bc4d2516e67"
      }
     },
     "660a6a6eae79479ebe1e037113bdf90a": {
      "model_module": "@jupyter-widgets/controls",
      "model_module_version": "1.5.0",
      "model_name": "ButtonStyleModel",
      "state": {}
     },
     "66c9a11156474eea8d2cf9b642382ccb": {
      "model_module": "@jupyter-widgets/controls",
      "model_module_version": "1.5.0",
      "model_name": "DescriptionStyleModel",
      "state": {
       "description_width": "initial"
      }
     },
     "66d3c320fce9459cb2bc34377dc41d89": {
      "model_module": "@jupyter-widgets/controls",
      "model_module_version": "1.5.0",
      "model_name": "VBoxModel",
      "state": {
       "children": [
        "IPY_MODEL_f383ae963b8f4be6a0c10e877aa50c87",
        "IPY_MODEL_5bceddae3de64c049046c65d458d7efa"
       ],
       "layout": "IPY_MODEL_9c833581e39f4567974dde3cadebd7a8"
      }
     },
     "671583b66e9540da9d1d289796289cdd": {
      "model_module": "@jupyter-widgets/controls",
      "model_module_version": "1.5.0",
      "model_name": "VBoxModel",
      "state": {
       "children": [
        "IPY_MODEL_6f1a936e2dd94befa528b0100cacf6c8",
        "IPY_MODEL_43bce0a3c2cb421d8e654957618e11e4"
       ],
       "layout": "IPY_MODEL_5bc2ae132580444d90bb4cc234eb1fd2"
      }
     },
     "67262902a9be497bb93374a69b574d9b": {
      "model_module": "@jupyter-widgets/controls",
      "model_module_version": "1.5.0",
      "model_name": "DescriptionStyleModel",
      "state": {
       "description_width": "initial"
      }
     },
     "672a7117cb1849379d629213f9699f08": {
      "model_module": "@jupyter-widgets/controls",
      "model_module_version": "1.5.0",
      "model_name": "SelectModel",
      "state": {
       "_options_labels": [
        "..",
        "dask-worker-space",
        "images"
       ],
       "index": null,
       "layout": "IPY_MODEL_3d9cc85d98e743e89bb2df302e3d86b0",
       "rows": 8,
       "style": "IPY_MODEL_fcfe5f49c39148a6b5d03824ba5527b3"
      }
     },
     "6735e73943b64036b076180daecd8ab4": {
      "model_module": "@jupyter-widgets/controls",
      "model_module_version": "1.5.0",
      "model_name": "DescriptionStyleModel",
      "state": {
       "description_width": ""
      }
     },
     "67720c0e7d5c4a8f82f0bc64bfbb16ad": {
      "model_module": "@jupyter-widgets/base",
      "model_module_version": "1.2.0",
      "model_name": "LayoutModel",
      "state": {}
     },
     "6792d102600740c88851a97b36fc0d4d": {
      "model_module": "@jupyter-widgets/controls",
      "model_module_version": "1.5.0",
      "model_name": "DescriptionStyleModel",
      "state": {
       "description_width": ""
      }
     },
     "67ca92986f8c4158a93bc32c35944993": {
      "model_module": "@jupyter-widgets/base",
      "model_module_version": "1.2.0",
      "model_name": "LayoutModel",
      "state": {}
     },
     "67d20bd6a85b407c9015fe65d3214dce": {
      "model_module": "@jupyter-widgets/controls",
      "model_module_version": "1.5.0",
      "model_name": "ToggleButtonModel",
      "state": {
       "layout": "IPY_MODEL_5c48e19b19de48619292d4b5afcab7ef",
       "style": "IPY_MODEL_b005caae3cd0475d9ee8b8d9c2fafa23",
       "value": true
      }
     },
     "681c000d978b454da015d9d23f1b6fd5": {
      "model_module": "@jupyter-widgets/base",
      "model_module_version": "1.2.0",
      "model_name": "LayoutModel",
      "state": {
       "display": "none",
       "grid_gap": "0px 0px",
       "grid_template_areas": "\n                    'pathlist pathlist'\n                    'dircontent dircontent'\n                    ",
       "grid_template_columns": "60% 40%",
       "grid_template_rows": "auto auto",
       "width": "500px"
      }
     },
     "682021c5672a4686ae6c61f175b82130": {
      "model_module": "@jupyter-widgets/controls",
      "model_module_version": "1.5.0",
      "model_name": "LabelModel",
      "state": {
       "layout": "IPY_MODEL_6fbaa3212c914f4a9ac52114060c3bf5",
       "style": "IPY_MODEL_189693ee5a0447a2a13508ee730182da",
       "value": "Monitoring folder"
      }
     },
     "68294376139a40a996f20d43ed923915": {
      "model_module": "@jupyter-widgets/controls",
      "model_module_version": "1.5.0",
      "model_name": "DescriptionStyleModel",
      "state": {
       "description_width": ""
      }
     },
     "683c270886924b1a95ed0eef91eeb464": {
      "model_module": "@jupyter-widgets/controls",
      "model_module_version": "1.5.0",
      "model_name": "DropdownModel",
      "state": {
       "_options_labels": [
        "",
        "fault_splay1",
        "fault_Cliff_Lake",
        "fault_Other_FlinFlon",
        "fault_Club_Lake_splay",
        "fault_Catherine_splay2",
        "fault_Birch_View",
        "fault_Dion_Lake",
        "fault_FlinFlon_splay",
        "fault_West_Mandy_Road",
        "fault_Channing",
        "fault_Ross_Lake",
        "fault_Louis_Hidden",
        "fault_Lake_View_thrust",
        "contact_Schist_Lake",
        "fault_Burley_Lake",
        "fault_Dion_Lake_splay",
        "fault_Green_Lake",
        "fault_FlinFlon",
        "fault_Catherine_splay1",
        "fault_East_Mandy_Road",
        "fault_Other_FlinFlon_South",
        "fault_Catherine_splay4",
        "contact_Stitt_Island",
        "fault_Club_Lake",
        "fault_Tailing_Pond",
        "35_Hidden_Reservoir_Hr5",
        "29_Hidden_Reservoir_Hr1a",
        "60_BlueLagoon_Fb2",
        "20_FlinFlon_Undivided_Int_Dykes_D2f",
        "04_Boundary_Intrusive_S4h",
        "53_Millrock_Rhyolite_Fm4b",
        "19_FlinFlon_Undivided_Int_Dykes_D2b",
        "18_FlinFlon_Undivided_Int_Dykes_777_D2b",
        "06_Phantom_Lake_Intrusive_S3a",
        "21_FlinFlon_Undivided_Int_Dykes_D3a",
        "43_Millrock_CHLSH_South",
        "56_Millrock_Basalt_Fm1ba",
        "17_FlinFlon_Undivided_Int_Dykes_D2",
        "32_Hidden_Reservoir_Hr1b_SW",
        "11_Missi_M3_NE",
        "13_Missi_M1",
        "07_Annabel_Granitoid_S1",
        "45_Millrock_Gabbro_South",
        "01_Late_Intrusive_S5b",
        "31_Hidden_Reservoir_Hr1c_SW",
        "52_Millrock_Rhyolite_Fm4_West_check",
        "55_Millrock_Basalt_Fm1bf",
        "34_Hidden_Reservoir_Hr2b",
        "03_Boundary_Intrusive_S4b",
        "42_Millrock_CHLSH_North",
        "26_Louis_L3",
        "23_FlinFlon_Undivided_Int_Felsic_D4g",
        "30_Hidden_Reservoir_Hr1b",
        "59_BlueLagoon_Fb3",
        "49_Millrock_MVR_Fm5d",
        "44_Millrock_Gabbro_North",
        "27_Hidden_Carlisle_Hc4",
        "22_FlinFlon_Undivided_Int_Felsic_D4e",
        "02_Boundary_Intrusive_S4a",
        "61_BlueLagoon_Fb1_NW",
        "05_Boundary_Intrusive_S4g",
        "39_Ore_Callinan",
        "38_Ore_Dan_Owens",
        "40_Ore_FlinFlon",
        "Inversion_VTEM_Model",
        "Gravity_Magnetics_drape60m",
        "CDI_VTEM_model",
        "Data_FEM_pseudo3D",
        "O2O_Interp_25m",
        "geochem",
        "Inversion_DIGHEM_Model",
        "Topography",
        "Data_TEM_pseudo3D"
       ],
       "description": "Object:",
       "index": 0,
       "layout": "IPY_MODEL_8267d136893b4845bae5d38576e64c0d",
       "style": "IPY_MODEL_fd6c844508db46158ae0cb3fa744909b"
      }
     },
     "683eaf978fe241458ccd3ae0bdf5601d": {
      "model_module": "@jupyter-widgets/base",
      "model_module_version": "1.2.0",
      "model_name": "LayoutModel",
      "state": {
       "width": "auto"
      }
     },
     "68e9e9a16b994ca2b9aa26798ef46af8": {
      "model_module": "@jupyter-widgets/controls",
      "model_module_version": "1.5.0",
      "model_name": "GridBoxModel",
      "state": {
       "children": [
        "IPY_MODEL_d5f64d912d1e4e8b8abea6aee3fe8867",
        "IPY_MODEL_d57b884e72d648f2b4f10a21b467ad36",
        "IPY_MODEL_38e5c8b9a1144eae93988ecec9369b1e"
       ],
       "layout": "IPY_MODEL_e7c5f925e5ba439689117ab45e46bc4a"
      }
     },
     "6913e3c007984b30a4f16f81af7c9f2f": {
      "model_module": "@jupyter-widgets/controls",
      "model_module_version": "1.5.0",
      "model_name": "ButtonModel",
      "state": {
       "button_style": "danger",
       "description": "Compute",
       "icon": "check",
       "layout": "IPY_MODEL_5968c8bb18d64ccb8e37d8f6cb3296e0",
       "style": "IPY_MODEL_ef909b123dbe4a8d8e6a13af16cfc6ac",
       "tooltip": "Run computation"
      }
     },
     "693c19dc629e45279730cf9d7dc736e3": {
      "model_module": "@jupyter-widgets/base",
      "model_module_version": "1.2.0",
      "model_name": "LayoutModel",
      "state": {}
     },
     "69be6f3ff2a54969b4878d4e185d5656": {
      "model_module": "@jupyter-widgets/base",
      "model_module_version": "1.2.0",
      "model_name": "LayoutModel",
      "state": {}
     },
     "6a655879d0514adcb7074a0228a93b49": {
      "model_module": "@jupyter-widgets/base",
      "model_module_version": "1.2.0",
      "model_name": "LayoutModel",
      "state": {}
     },
     "6ab3c3d64f664ed5bb34b48e28bc0c63": {
      "model_module": "@jupyter-widgets/controls",
      "model_module_version": "1.5.0",
      "model_name": "DescriptionStyleModel",
      "state": {
       "description_width": "initial"
      }
     },
     "6ad1e38c261e4efdaad342a1056fd959": {
      "model_module": "@jupyter-widgets/base",
      "model_module_version": "1.2.0",
      "model_name": "LayoutModel",
      "state": {}
     },
     "6ad8a8d5a1464a44af1cbc84d8e0a21f": {
      "model_module": "@jupyter-widgets/controls",
      "model_module_version": "1.5.0",
      "model_name": "DescriptionStyleModel",
      "state": {
       "description_width": ""
      }
     },
     "6b33e9d9f74f40daa321163056a9e299": {
      "model_module": "@jupyter-widgets/controls",
      "model_module_version": "1.5.0",
      "model_name": "VBoxModel",
      "state": {
       "children": [
        "IPY_MODEL_a84da0e466e941b79161b48b0a058786",
        "IPY_MODEL_a583ee5f17fe49bc80d1a5125aacba18"
       ],
       "layout": "IPY_MODEL_a75383f9239a4dbfb424898369b50839"
      }
     },
     "6b8e6f9cd3d94b0a91910c8a5d14d182": {
      "model_module": "@jupyter-widgets/controls",
      "model_module_version": "1.5.0",
      "model_name": "TextModel",
      "state": {
       "description": "Offsets (x,y,z)",
       "layout": "IPY_MODEL_b7c72a34682749fdb9684bd76dce81f8",
       "style": "IPY_MODEL_3b77dfb280be411caad13171b91cc070",
       "value": "0, 0, 0"
      }
     },
     "6b8f1d09b90e47369af3974d701352ca": {
      "model_module": "@jupyter-widgets/base",
      "model_module_version": "1.2.0",
      "model_name": "LayoutModel",
      "state": {
       "display": "none"
      }
     },
     "6be6056e90fe4e3b8c0735ec32ca2d11": {
      "model_module": "@jupyter-widgets/base",
      "model_module_version": "1.2.0",
      "model_name": "LayoutModel",
      "state": {}
     },
     "6bea87f9cdca40078c22d0171517fc14": {
      "model_module": "@jupyter-widgets/controls",
      "model_module_version": "1.5.0",
      "model_name": "DescriptionStyleModel",
      "state": {
       "description_width": ""
      }
     },
     "6c1acf57813c41d783b701bf8d9e03c7": {
      "model_module": "@jupyter-widgets/base",
      "model_module_version": "1.2.0",
      "model_name": "LayoutModel",
      "state": {}
     },
     "6c1fbe34b98d4c5c8df00f78dbd2f15f": {
      "model_module": "@jupyter-widgets/base",
      "model_module_version": "1.2.0",
      "model_name": "LayoutModel",
      "state": {}
     },
     "6c6c961d1582498cb059e5cbef8316fe": {
      "model_module": "@jupyter-widgets/controls",
      "model_module_version": "1.5.0",
      "model_name": "HBoxModel",
      "state": {
       "children": [
        "IPY_MODEL_156dc44b20674da2ae6543c2b730e3ff",
        "IPY_MODEL_a19f555cc047473e9cc77d4a1e0166c9",
        "IPY_MODEL_f3fb77464826457bba96832bdd7e2b20"
       ],
       "layout": "IPY_MODEL_38079bbc38ae4098bb42afd3299da394"
      }
     },
     "6caeab1c1f6046e0b05804f08972622d": {
      "model_module": "@jupyter-widgets/controls",
      "model_module_version": "1.5.0",
      "model_name": "DescriptionStyleModel",
      "state": {
       "description_width": ""
      }
     },
     "6cf7ba4a9f9449e1b89e701065f57108": {
      "model_module": "@jupyter-widgets/base",
      "model_module_version": "1.2.0",
      "model_name": "LayoutModel",
      "state": {}
     },
     "6d18928f0f984921924101ca239c6d3d": {
      "model_module": "@jupyter-widgets/controls",
      "model_module_version": "1.5.0",
      "model_name": "DescriptionStyleModel",
      "state": {
       "description_width": ""
      }
     },
     "6d1c41a3f1ae4ba2ad8ad09c09e73f15": {
      "model_module": "@jupyter-widgets/base",
      "model_module_version": "1.2.0",
      "model_name": "LayoutModel",
      "state": {
       "display": "none",
       "grid_area": "filename",
       "width": "auto"
      }
     },
     "6d1fabf6b5c14a9596bf8554390d0c5c": {
      "model_module": "@jupyter-widgets/controls",
      "model_module_version": "1.5.0",
      "model_name": "DescriptionStyleModel",
      "state": {
       "description_width": "initial"
      }
     },
     "6d20c0a46ed544f38b3205d0c1164dd4": {
      "model_module": "@jupyter-widgets/controls",
      "model_module_version": "1.5.0",
      "model_name": "ButtonModel",
      "state": {
       "description": "Change",
       "layout": "IPY_MODEL_f79fb14099714cdf90ee719c37ad2d75",
       "style": "IPY_MODEL_ebfaa76db9044c7a8e4656b8410f17bc"
      }
     },
     "6d3af188a642424dba52aa822c677efd": {
      "model_module": "@jupyter-widgets/controls",
      "model_module_version": "1.5.0",
      "model_name": "SelectModel",
      "state": {
       "_options_labels": [
        "..",
        "dask-worker-space",
        "images",
        "base_application.ipynb",
        "calculator.ipynb",
        "clustering.ipynb",
        "contouring.ipynb",
        "coordinate_transformation.ipynb",
        "create_surface.ipynb",
        "data_interpolation.ipynb",
        "edge_detection.ipynb",
        "export.ipynb",
        "geophysical_inversion.ipynb",
        "object_data_selection.ipynb",
        "peak_finder.ipynb",
        "scatter.ipynb",
        "view_selection.ipynb"
       ],
       "index": null,
       "layout": "IPY_MODEL_7a1b01bf293b415ba1e128afe045e4ec",
       "rows": 8,
       "style": "IPY_MODEL_6735e73943b64036b076180daecd8ab4"
      }
     },
     "6da0772794044abf88dff66d291d4599": {
      "model_module": "@jupyter-widgets/base",
      "model_module_version": "1.2.0",
      "model_name": "LayoutModel",
      "state": {}
     },
     "6da1cf56669e4ffc999d2298c01566cc": {
      "model_module": "@jupyter-widgets/controls",
      "model_module_version": "1.5.0",
      "model_name": "ButtonModel",
      "state": {
       "description": "Cancel",
       "layout": "IPY_MODEL_0c4062bf60f74b68b3bfe3a9c6760056",
       "style": "IPY_MODEL_579f02df265d405599ef0f64d24b227c"
      }
     },
     "6db3419aec974adc9fafcaee375ee6fa": {
      "model_module": "@jupyter-widgets/controls",
      "model_module_version": "1.5.0",
      "model_name": "DropdownModel",
      "state": {
       "_options_labels": [
        "C:\\Users\\dominiquef\\Documents\\GIT\\mira\\mirageoscience-apps\\assets",
        "C:\\Users\\dominiquef\\Documents\\GIT\\mira\\mirageoscience-apps",
        "C:\\Users\\dominiquef\\Documents\\GIT\\mira",
        "C:\\Users\\dominiquef\\Documents\\GIT",
        "C:\\Users\\dominiquef\\Documents",
        "C:\\Users\\dominiquef",
        "C:\\Users",
        "C:\\",
        "D:\\",
        "Z:\\"
       ],
       "index": 0,
       "layout": "IPY_MODEL_36c1c7fe6a17493eb668f5c24b8bd9f4",
       "style": "IPY_MODEL_641e2fddab0a46fc812c4a7bd89d4ef0"
      }
     },
     "6dede74ee489415eb2aeef195c1197ee": {
      "model_module": "@jupyter-widgets/controls",
      "model_module_version": "1.5.0",
      "model_name": "FloatTextModel",
      "state": {
       "description": "Vertical offset (+ve up)",
       "layout": "IPY_MODEL_0e8387b6a7904ee798a838ab1d0d29c9",
       "step": null,
       "style": "IPY_MODEL_90ce61e69ab04679a443e78b0f9686ce"
      }
     },
     "6df2d4660fde40d0ae2399e1887ceb34": {
      "model_module": "@jupyter-widgets/controls",
      "model_module_version": "1.5.0",
      "model_name": "DescriptionStyleModel",
      "state": {
       "description_width": ""
      }
     },
     "6df602b11ee84c4d944112e2d15071ca": {
      "model_module": "@jupyter-widgets/base",
      "model_module_version": "1.2.0",
      "model_name": "LayoutModel",
      "state": {}
     },
     "6dfe5b088fc44534a8722c7279ff2bae": {
      "model_module": "@jupyter-widgets/base",
      "model_module_version": "1.2.0",
      "model_name": "LayoutModel",
      "state": {}
     },
     "6e29b29bac72485e898b1597f220d08e": {
      "model_module": "@jupyter-widgets/base",
      "model_module_version": "1.2.0",
      "model_name": "LayoutModel",
      "state": {}
     },
     "6e94dd14d66547b5b87e01f1ea388250": {
      "model_module": "@jupyter-widgets/base",
      "model_module_version": "1.2.0",
      "model_name": "LayoutModel",
      "state": {}
     },
     "6ea06d591d6147aeac2e1b20736c7247": {
      "model_module": "@jupyter-widgets/base",
      "model_module_version": "1.2.0",
      "model_name": "LayoutModel",
      "state": {}
     },
     "6ede19db2dd9472b9c839c79a39b30e9": {
      "model_module": "@jupyter-widgets/controls",
      "model_module_version": "1.5.0",
      "model_name": "DescriptionStyleModel",
      "state": {
       "description_width": ""
      }
     },
     "6f03ecd9dde742afa60075ea371d9373": {
      "model_module": "@jupyter-widgets/base",
      "model_module_version": "1.2.0",
      "model_name": "LayoutModel",
      "state": {}
     },
     "6f1a936e2dd94befa528b0100cacf6c8": {
      "model_module": "@jupyter-widgets/controls",
      "model_module_version": "1.5.0",
      "model_name": "LabelModel",
      "state": {
       "layout": "IPY_MODEL_31de15be3bc6435ba4deec393261c65c",
       "style": "IPY_MODEL_f1d19e82d3f9412baca74177be7b4ae7",
       "value": "Monitoring folder"
      }
     },
     "6f369324688346479b5a2fd7aa094be3": {
      "model_module": "@jupyter-widgets/base",
      "model_module_version": "1.2.0",
      "model_name": "LayoutModel",
      "state": {
       "grid_area": "dircontent",
       "width": "auto"
      }
     },
     "6f4a3f6a9e7d425181f265ddd37a4f40": {
      "model_module": "@jupyter-widgets/base",
      "model_module_version": "1.2.0",
      "model_name": "LayoutModel",
      "state": {}
     },
     "6f563d05dd3d473091d3d2942c44179f": {
      "model_module": "@jupyter-widgets/controls",
      "model_module_version": "1.5.0",
      "model_name": "LabelModel",
      "state": {
       "layout": "IPY_MODEL_09700398f42b40cc9dadc1cdb0dd1ebb",
       "style": "IPY_MODEL_d0c475aafd744b009b172034a491a28f",
       "value": "Workspace"
      }
     },
     "6f640b9877d746919a309e3bd2dd595b": {
      "model_module": "@jupyter-widgets/controls",
      "model_module_version": "1.5.0",
      "model_name": "HTMLModel",
      "state": {
       "layout": "IPY_MODEL_ad844d6859e94738acd124ab7b6dbce4",
       "style": "IPY_MODEL_29658ce5d23a42fe8e35200d4275fa52"
      }
     },
     "6f82c9a7bf8244cbbe4bde7159708650": {
      "model_module": "@jupyter-widgets/base",
      "model_module_version": "1.2.0",
      "model_name": "LayoutModel",
      "state": {}
     },
     "6f844192d25b45ccb1e478fc5fbd69f6": {
      "model_module": "@jupyter-widgets/controls",
      "model_module_version": "1.5.0",
      "model_name": "ButtonStyleModel",
      "state": {}
     },
     "6fbaa3212c914f4a9ac52114060c3bf5": {
      "model_module": "@jupyter-widgets/base",
      "model_module_version": "1.2.0",
      "model_name": "LayoutModel",
      "state": {}
     },
     "6fe58d960ac84614aa29cf4401b1de2f": {
      "model_module": "@jupyter-widgets/base",
      "model_module_version": "1.2.0",
      "model_name": "LayoutModel",
      "state": {
       "display": "none",
       "grid_area": "filename",
       "width": "auto"
      }
     },
     "704b0fc0b4df4738a289349724052989": {
      "model_module": "@jupyter-widgets/controls",
      "model_module_version": "1.5.0",
      "model_name": "DescriptionStyleModel",
      "state": {
       "description_width": "initial"
      }
     },
     "704c83b58a1b40878240299d5043685e": {
      "model_module": "@jupyter-widgets/controls",
      "model_module_version": "1.5.0",
      "model_name": "VBoxModel",
      "state": {
       "children": [
        "IPY_MODEL_7d40fa0c45264e22ba476213d1ca5094",
        "IPY_MODEL_5d7cb215c6874c7687da5fbf5a0e9c95",
        "IPY_MODEL_2252887cc31b4bb8bb7063f80179d650"
       ],
       "layout": "IPY_MODEL_693c19dc629e45279730cf9d7dc736e3"
      }
     },
     "70b2879134474ed78bcc6db1ba605a34": {
      "model_module": "@jupyter-widgets/base",
      "model_module_version": "1.2.0",
      "model_name": "LayoutModel",
      "state": {}
     },
     "70d794afd0aa4b6db1a6841ce621dc8b": {
      "model_module": "@jupyter-widgets/controls",
      "model_module_version": "1.5.0",
      "model_name": "DescriptionStyleModel",
      "state": {
       "description_width": "initial"
      }
     },
     "71651acdd3194188be46134b998dbaa6": {
      "model_module": "@jupyter-widgets/base",
      "model_module_version": "1.2.0",
      "model_name": "LayoutModel",
      "state": {}
     },
     "71766c09984a412e8866cddca10d85ed": {
      "model_module": "@jupyter-widgets/base",
      "model_module_version": "1.2.0",
      "model_name": "LayoutModel",
      "state": {
       "grid_area": "dircontent",
       "width": "auto"
      }
     },
     "71ecd879612b46719c2743816328931f": {
      "model_module": "@jupyter-widgets/base",
      "model_module_version": "1.2.0",
      "model_name": "LayoutModel",
      "state": {}
     },
     "7209f810ee0f4821adada4490186041e": {
      "model_module": "@jupyter-widgets/controls",
      "model_module_version": "1.5.0",
      "model_name": "DescriptionStyleModel",
      "state": {
       "description_width": "initial"
      }
     },
     "729b5f37e5cf46a6a2cff9f0bbf28557": {
      "model_module": "@jupyter-widgets/controls",
      "model_module_version": "1.5.0",
      "model_name": "DescriptionStyleModel",
      "state": {
       "description_width": ""
      }
     },
     "72e5aa1c11364ea49eef9922e01fb973": {
      "model_module": "@jupyter-widgets/base",
      "model_module_version": "1.2.0",
      "model_name": "LayoutModel",
      "state": {}
     },
     "7332d05183cc4f368ba7f7eaf63b3338": {
      "model_module": "@jupyter-widgets/base",
      "model_module_version": "1.2.0",
      "model_name": "LayoutModel",
      "state": {}
     },
     "7341a5751f3d43debb819d092d7ae548": {
      "model_module": "@jupyter-widgets/controls",
      "model_module_version": "1.5.0",
      "model_name": "TextModel",
      "state": {
       "layout": "IPY_MODEL_aa1798af6de1497eb3e238b9c1d6baec",
       "placeholder": "output filename",
       "style": "IPY_MODEL_4d5c45317215449285be807ec6cb7835",
       "value": "FlinFlon.geoh5"
      }
     },
     "73f13a58b7f94967aa41f2f4237c2fd7": {
      "model_module": "@jupyter-widgets/controls",
      "model_module_version": "1.5.0",
      "model_name": "DropdownModel",
      "state": {
       "_options_labels": [
        "C:\\Users\\dominiquef\\Documents\\GIT\\mira\\mirageoscience-apps\\docs\\content\\applications",
        "C:\\Users\\dominiquef\\Documents\\GIT\\mira\\mirageoscience-apps\\docs\\content",
        "C:\\Users\\dominiquef\\Documents\\GIT\\mira\\mirageoscience-apps\\docs",
        "C:\\Users\\dominiquef\\Documents\\GIT\\mira\\mirageoscience-apps",
        "C:\\Users\\dominiquef\\Documents\\GIT\\mira",
        "C:\\Users\\dominiquef\\Documents\\GIT",
        "C:\\Users\\dominiquef\\Documents",
        "C:\\Users\\dominiquef",
        "C:\\Users",
        "C:\\",
        "D:\\",
        "Z:\\"
       ],
       "index": 0,
       "layout": "IPY_MODEL_d50a364f22e948508ab0184320e0de6e",
       "style": "IPY_MODEL_db5f751d350b4e88b9929f11eaaba7c2"
      }
     },
     "7413117dc4db480899604c73fa3d31a1": {
      "model_module": "@jupyter-widgets/controls",
      "model_module_version": "1.5.0",
      "model_name": "DescriptionStyleModel",
      "state": {
       "description_width": ""
      }
     },
     "7419c9853908494c9edbb50c30be2f55": {
      "model_module": "@jupyter-widgets/controls",
      "model_module_version": "1.5.0",
      "model_name": "ButtonModel",
      "state": {
       "button_style": "danger",
       "description": "Compute",
       "icon": "check",
       "layout": "IPY_MODEL_f93d8c3b2cd14749b87ee6e3e3eedaa2",
       "style": "IPY_MODEL_6293b95fe6744bc897a8768ad0c521c9",
       "tooltip": "Run computation"
      }
     },
     "745e66d4735045cea95bec16e39761ee": {
      "model_module": "@jupyter-widgets/base",
      "model_module_version": "1.2.0",
      "model_name": "LayoutModel",
      "state": {}
     },
     "746830e1f92845bda261220c911741de": {
      "model_module": "@jupyter-widgets/controls",
      "model_module_version": "1.5.0",
      "model_name": "VBoxModel",
      "state": {
       "children": [
        "IPY_MODEL_dfa33bcdf9854819b78b986423840ea9"
       ],
       "layout": "IPY_MODEL_d54cd6fa013f45ef8800ccfe52e29d06"
      }
     },
     "74982fe99c56470e9356b7189a333c65": {
      "model_module": "@jupyter-widgets/controls",
      "model_module_version": "1.5.0",
      "model_name": "DescriptionStyleModel",
      "state": {
       "description_width": "initial"
      }
     },
     "749c59cdf96c417dbb726f8a2c212152": {
      "model_module": "@jupyter-widgets/controls",
      "model_module_version": "1.5.0",
      "model_name": "HTMLModel",
      "state": {
       "layout": "IPY_MODEL_a9795a816e14482ab4e3bb0c56930652",
       "placeholder": "",
       "style": "IPY_MODEL_3dde5dd31c00469385d1613c3cf9c81f",
       "value": "<span style=\"margin-left:10px; color:black;\">No file selected</span>"
      }
     },
     "74adcb0ac3d3425aa1e8a61f7040123c": {
      "model_module": "@jupyter-widgets/base",
      "model_module_version": "1.2.0",
      "model_name": "LayoutModel",
      "state": {}
     },
     "754ec1ac850d48d8b5e2a7c14fd7613c": {
      "model_module": "@jupyter-widgets/controls",
      "model_module_version": "1.5.0",
      "model_name": "DescriptionStyleModel",
      "state": {
       "description_width": ""
      }
     },
     "754fae2c12fd48d9b55ba7c6634cfbed": {
      "model_module": "@jupyter-widgets/base",
      "model_module_version": "1.2.0",
      "model_name": "LayoutModel",
      "state": {}
     },
     "758ef678ce86422caebe37d386a103d4": {
      "model_module": "@jupyter-widgets/controls",
      "model_module_version": "1.5.0",
      "model_name": "ButtonModel",
      "state": {
       "button_style": "danger",
       "description": "Compute",
       "icon": "check",
       "layout": "IPY_MODEL_befe83978e944134abd426fc0471544d",
       "style": "IPY_MODEL_c7fba2e22e2e45a48dd272d95fbe9145",
       "tooltip": "Run computation"
      }
     },
     "75b34aedd722456198fffc0f3afb5321": {
      "model_module": "@jupyter-widgets/controls",
      "model_module_version": "1.5.0",
      "model_name": "DescriptionStyleModel",
      "state": {
       "description_width": "initial"
      }
     },
     "75e5665e0db74ccc8fcd763642112b57": {
      "model_module": "@jupyter-widgets/controls",
      "model_module_version": "1.5.0",
      "model_name": "TextModel",
      "state": {
       "description": "Error (%, floor)",
       "layout": "IPY_MODEL_be8a67612e1d4faf9d161bc34cbd2018",
       "style": "IPY_MODEL_74982fe99c56470e9356b7189a333c65",
       "value": "0, 1"
      }
     },
     "7634e4cd9ad1409e8ff7f0fa75027f21": {
      "model_module": "@jupyter-widgets/controls",
      "model_module_version": "1.5.0",
      "model_name": "FloatTextModel",
      "state": {
       "description": "Minimum depth (m)",
       "layout": "IPY_MODEL_64f5fb7b32f5479ea96c0d1650c3b6f0",
       "step": null,
       "style": "IPY_MODEL_2b918f5a49a44811a6e276d79dea2f80",
       "value": 500
      }
     },
     "766ec73f27d849148211e6241377fe8e": {
      "model_module": "@jupyter-widgets/base",
      "model_module_version": "1.2.0",
      "model_name": "LayoutModel",
      "state": {}
     },
     "7771f4cb6aaa4dfc88e54f68458c84ca": {
      "model_module": "@jupyter-widgets/controls",
      "model_module_version": "1.5.0",
      "model_name": "LabelModel",
      "state": {
       "layout": "IPY_MODEL_7332d05183cc4f368ba7f7eaf63b3338",
       "style": "IPY_MODEL_1710505716fd48d0a1b1e7dcae6c3094",
       "value": "Data Count: 0"
      }
     },
     "77c22807601b48158e7e5a9f004f9717": {
      "model_module": "@jupyter-widgets/controls",
      "model_module_version": "1.5.0",
      "model_name": "DescriptionStyleModel",
      "state": {
       "description_width": ""
      }
     },
     "77c881fe00c341e7828e170326dfdd59": {
      "model_module": "@jupyter-widgets/controls",
      "model_module_version": "1.5.0",
      "model_name": "HBoxModel",
      "state": {
       "children": [
        "IPY_MODEL_ffd365f0eed1477db3a5b45c66cdbdce",
        "IPY_MODEL_1006234277e14d61acb906e833416748",
        "IPY_MODEL_268863a668b846fca4a93a464bfcb399"
       ],
       "layout": "IPY_MODEL_b6a5bb28f0ce46898dfb344e9dd62a6c"
      }
     },
     "77d461b0ed0946c385348c51000f2513": {
      "model_module": "@jupyter-widgets/controls",
      "model_module_version": "1.5.0",
      "model_name": "DescriptionStyleModel",
      "state": {
       "description_width": ""
      }
     },
     "77d56b74ed534dc5a94365ad5f256a86": {
      "model_module": "@jupyter-widgets/controls",
      "model_module_version": "1.5.0",
      "model_name": "GridBoxModel",
      "state": {
       "children": [
        "IPY_MODEL_290c8dcde4da41169bf6e03f6095983e",
        "IPY_MODEL_eacfc1f1d5264a1494c0761659b0dc44",
        "IPY_MODEL_a6eb07c1adc846be8cb54c5515ca9c91"
       ],
       "layout": "IPY_MODEL_681c000d978b454da015d9d23f1b6fd5"
      }
     },
     "7808e7e7fc834a71b2d6546b8587dc65": {
      "model_module": "@jupyter-widgets/base",
      "model_module_version": "1.2.0",
      "model_name": "LayoutModel",
      "state": {
       "visibility": "hidden"
      }
     },
     "785a9a3e7db64e38869f5c62850bc71b": {
      "model_module": "@jupyter-widgets/controls",
      "model_module_version": "1.5.0",
      "model_name": "GridBoxModel",
      "state": {
       "children": [
        "IPY_MODEL_a2714171f06f42ddaead90d99fd67e97",
        "IPY_MODEL_a1e17ca5f25e46448e68099794ec96e1",
        "IPY_MODEL_672a7117cb1849379d629213f9699f08"
       ],
       "layout": "IPY_MODEL_9073728ad9c44694a55ba46740e3b809"
      }
     },
     "786854c0b2514cf4a8be64f9c8a55d1d": {
      "model_module": "@jupyter-widgets/controls",
      "model_module_version": "1.5.0",
      "model_name": "DescriptionStyleModel",
      "state": {
       "description_width": ""
      }
     },
     "787e7ee7a8bc41869e61bee5771065f0": {
      "model_module": "@jupyter-widgets/controls",
      "model_module_version": "1.5.0",
      "model_name": "VBoxModel",
      "state": {
       "children": [
        "IPY_MODEL_c97895aded704e298e49828d92a8aa87",
        "IPY_MODEL_5bbb745108184237b91a2a23c165f6d0"
       ],
       "layout": "IPY_MODEL_6df602b11ee84c4d944112e2d15071ca"
      }
     },
     "78a554c21f5044e8bbb47e0018212c79": {
      "model_module": "@jupyter-widgets/controls",
      "model_module_version": "1.5.0",
      "model_name": "SliderStyleModel",
      "state": {
       "description_width": ""
      }
     },
     "7916808b323f4236aad23c37c8b0cfb9": {
      "model_module": "@jupyter-widgets/controls",
      "model_module_version": "1.5.0",
      "model_name": "DescriptionStyleModel",
      "state": {
       "description_width": "initial"
      }
     },
     "7932730f8d414d7e8b4cc8244deb9c8e": {
      "model_module": "@jupyter-widgets/controls",
      "model_module_version": "1.5.0",
      "model_name": "SelectModel",
      "state": {
       "_options_labels": [
        "..",
        "dask-worker-space",
        "images"
       ],
       "index": null,
       "layout": "IPY_MODEL_368c50af4e63464d8f3522496feaadd6",
       "rows": 8,
       "style": "IPY_MODEL_032f90b19e98460bae043974bd7fde74"
      }
     },
     "7952520995b04780962a603af1ad469a": {
      "model_module": "@jupyter-widgets/controls",
      "model_module_version": "1.5.0",
      "model_name": "ButtonStyleModel",
      "state": {}
     },
     "796043d07f7f47118d57127d68fd84e3": {
      "model_module": "@jupyter-widgets/controls",
      "model_module_version": "1.5.0",
      "model_name": "DropdownModel",
      "state": {
       "_options_labels": [
        "",
        "fault_splay1",
        "fault_Cliff_Lake",
        "fault_Other_FlinFlon",
        "fault_Club_Lake_splay",
        "fault_Catherine_splay2",
        "fault_Birch_View",
        "fault_Dion_Lake",
        "fault_FlinFlon_splay",
        "fault_West_Mandy_Road",
        "fault_Channing",
        "fault_Ross_Lake",
        "fault_Louis_Hidden",
        "fault_Lake_View_thrust",
        "contact_Schist_Lake",
        "fault_Burley_Lake",
        "fault_Dion_Lake_splay",
        "fault_Green_Lake",
        "fault_FlinFlon",
        "fault_Catherine_splay1",
        "fault_East_Mandy_Road",
        "fault_Other_FlinFlon_South",
        "fault_Catherine_splay4",
        "contact_Stitt_Island",
        "fault_Club_Lake",
        "fault_Tailing_Pond",
        "35_Hidden_Reservoir_Hr5",
        "29_Hidden_Reservoir_Hr1a",
        "60_BlueLagoon_Fb2",
        "20_FlinFlon_Undivided_Int_Dykes_D2f",
        "04_Boundary_Intrusive_S4h",
        "53_Millrock_Rhyolite_Fm4b",
        "19_FlinFlon_Undivided_Int_Dykes_D2b",
        "18_FlinFlon_Undivided_Int_Dykes_777_D2b",
        "06_Phantom_Lake_Intrusive_S3a",
        "21_FlinFlon_Undivided_Int_Dykes_D3a",
        "43_Millrock_CHLSH_South",
        "56_Millrock_Basalt_Fm1ba",
        "17_FlinFlon_Undivided_Int_Dykes_D2",
        "32_Hidden_Reservoir_Hr1b_SW",
        "11_Missi_M3_NE",
        "13_Missi_M1",
        "07_Annabel_Granitoid_S1",
        "45_Millrock_Gabbro_South",
        "01_Late_Intrusive_S5b",
        "31_Hidden_Reservoir_Hr1c_SW",
        "52_Millrock_Rhyolite_Fm4_West_check",
        "55_Millrock_Basalt_Fm1bf",
        "34_Hidden_Reservoir_Hr2b",
        "03_Boundary_Intrusive_S4b",
        "42_Millrock_CHLSH_North",
        "26_Louis_L3",
        "23_FlinFlon_Undivided_Int_Felsic_D4g",
        "30_Hidden_Reservoir_Hr1b",
        "59_BlueLagoon_Fb3",
        "49_Millrock_MVR_Fm5d",
        "44_Millrock_Gabbro_North",
        "27_Hidden_Carlisle_Hc4",
        "22_FlinFlon_Undivided_Int_Felsic_D4e",
        "02_Boundary_Intrusive_S4a",
        "61_BlueLagoon_Fb1_NW",
        "05_Boundary_Intrusive_S4g",
        "39_Ore_Callinan",
        "38_Ore_Dan_Owens",
        "40_Ore_FlinFlon",
        "Inversion_VTEM_Model",
        "Gravity_Magnetics_drape60m",
        "CDI_VTEM_model",
        "Data_FEM_pseudo3D",
        "O2O_Interp_25m",
        "geochem",
        "Inversion_DIGHEM_Model",
        "Topography",
        "Data_TEM_pseudo3D"
       ],
       "description": "Object",
       "index": 0,
       "layout": "IPY_MODEL_303a797485a246509081812a50af29a5",
       "style": "IPY_MODEL_483dbac556cb4f87a8a38ff5c165ce6f"
      }
     },
     "796a7ea5945d42e1a1a6f3015a74368b": {
      "model_module": "@jupyter-widgets/controls",
      "model_module_version": "1.5.0",
      "model_name": "DescriptionStyleModel",
      "state": {
       "description_width": "initial"
      }
     },
     "79f1bc441df9431cb17ccaf5fca58a09": {
      "model_module": "@jupyter-widgets/controls",
      "model_module_version": "1.5.0",
      "model_name": "VBoxModel",
      "state": {
       "children": [
        "IPY_MODEL_1b8bf1f62b1744b7962194508d757fee",
        "IPY_MODEL_68e9e9a16b994ca2b9aa26798ef46af8",
        "IPY_MODEL_c95f81be56c1428997b599a787a30f3a"
       ],
       "layout": "IPY_MODEL_98d773d3df7f4ce78bd0beeefb244690"
      }
     },
     "7a0efe72e7f0448fab5fdd9ff33e9705": {
      "model_module": "@jupyter-widgets/controls",
      "model_module_version": "1.5.0",
      "model_name": "DescriptionStyleModel",
      "state": {
       "description_width": ""
      }
     },
     "7a1acf556d214799932a0381c86fc852": {
      "model_module": "@jupyter-widgets/controls",
      "model_module_version": "1.5.0",
      "model_name": "DescriptionStyleModel",
      "state": {
       "description_width": ""
      }
     },
     "7a1b01bf293b415ba1e128afe045e4ec": {
      "model_module": "@jupyter-widgets/base",
      "model_module_version": "1.2.0",
      "model_name": "LayoutModel",
      "state": {
       "grid_area": "dircontent",
       "width": "auto"
      }
     },
     "7a29702f104846d6b83da6a3d6f5ed79": {
      "model_module": "@jupyter-widgets/controls",
      "model_module_version": "1.5.0",
      "model_name": "GridBoxModel",
      "state": {
       "children": [
        "IPY_MODEL_b4256c4eb0714b48bd7c551003e0b6c0",
        "IPY_MODEL_57c9ea8cb39844cc86f67a7f7d8e7b5b",
        "IPY_MODEL_6d3af188a642424dba52aa822c677efd"
       ],
       "layout": "IPY_MODEL_98b9734ba617415987b47343d0b9d34e"
      }
     },
     "7a2f52035a0044afb6d91fe15f0e9690": {
      "model_module": "@jupyter-widgets/base",
      "model_module_version": "1.2.0",
      "model_name": "LayoutModel",
      "state": {}
     },
     "7a352debc3c247eb841a625383b25ce6": {
      "model_module": "@jupyter-widgets/controls",
      "model_module_version": "1.5.0",
      "model_name": "GridBoxModel",
      "state": {
       "children": [
        "IPY_MODEL_00e5aa3bc80b4d10918cad45fccfd73b",
        "IPY_MODEL_c85555cba1b546d8bf584a086b9f8384",
        "IPY_MODEL_57bc1c12e8fd4fc89be4ab8b5e852eaf"
       ],
       "layout": "IPY_MODEL_3e6459ff739d4c3d88dd30c50975b5e4"
      }
     },
     "7a54f9e599a042f292444fe4e7e9d788": {
      "model_module": "@jupyter-widgets/base",
      "model_module_version": "1.2.0",
      "model_name": "LayoutModel",
      "state": {
       "grid_area": "dircontent",
       "width": "auto"
      }
     },
     "7aaf0e45d0074b598bc73d7ee1c6e601": {
      "model_module": "@jupyter-widgets/controls",
      "model_module_version": "1.5.0",
      "model_name": "DescriptionStyleModel",
      "state": {
       "description_width": ""
      }
     },
     "7adbe10fafaf4a2399c74bd5ab94a0df": {
      "model_module": "@jupyter-widgets/controls",
      "model_module_version": "1.5.0",
      "model_name": "VBoxModel",
      "state": {
       "children": [
        "IPY_MODEL_ecac9bb9933f48508d68300ae1e0c1c4",
        "IPY_MODEL_f7b445e52dc64f32a1c6395c4e7ddee3"
       ],
       "layout": "IPY_MODEL_8cc50309b2d14f9497d7fe24e080b276"
      }
     },
     "7b0d05c72507453188fca855d52f5057": {
      "model_module": "@jupyter-widgets/base",
      "model_module_version": "1.2.0",
      "model_name": "LayoutModel",
      "state": {
       "display": "none",
       "width": "auto"
      }
     },
     "7b59a36f4acd4f74b8f61ac0de6de5cf": {
      "model_module": "@jupyter-widgets/base",
      "model_module_version": "1.2.0",
      "model_name": "LayoutModel",
      "state": {}
     },
     "7b6430e132094da2b2ced90ebfb86614": {
      "model_module": "@jupyter-widgets/base",
      "model_module_version": "1.2.0",
      "model_name": "LayoutModel",
      "state": {}
     },
     "7b71cd224189409f87e57707ffb6c566": {
      "model_module": "@jupyter-widgets/base",
      "model_module_version": "1.2.0",
      "model_name": "LayoutModel",
      "state": {
       "visibility": "hidden"
      }
     },
     "7b952d71928844ac8c69b6e8e069c4f1": {
      "model_module": "@jupyter-widgets/controls",
      "model_module_version": "1.5.0",
      "model_name": "DescriptionStyleModel",
      "state": {
       "description_width": ""
      }
     },
     "7b96e4aeb16f49e7adca5e2dc74752ac": {
      "model_module": "@jupyter-widgets/controls",
      "model_module_version": "1.5.0",
      "model_name": "DescriptionStyleModel",
      "state": {
       "description_width": ""
      }
     },
     "7bbf8a732a1b41ceb518faada4c6bd03": {
      "model_module": "@jupyter-widgets/controls",
      "model_module_version": "1.5.0",
      "model_name": "GridBoxModel",
      "state": {
       "children": [
        "IPY_MODEL_dc0f7574947b4a2997505c731287c45a",
        "IPY_MODEL_f07c428e70284f54828eaae8fed7f486",
        "IPY_MODEL_e27a55a4b33f4da283260b979d6c4201"
       ],
       "layout": "IPY_MODEL_9c30b590157d4bac9bf0c9518d1b5825"
      }
     },
     "7bcc182fb731496eb212121954a3c6e1": {
      "model_module": "@jupyter-widgets/controls",
      "model_module_version": "1.5.0",
      "model_name": "LabelModel",
      "state": {
       "layout": "IPY_MODEL_3dff867295ce471ca71fa11e1de2114e",
       "style": "IPY_MODEL_64381c6807ae4f1e9e1f9dc1da0b47af",
       "value": "Workspace"
      }
     },
     "7c0e3c144bc641bcb87358eed4b0f01b": {
      "model_module": "@jupyter-widgets/base",
      "model_module_version": "1.2.0",
      "model_name": "LayoutModel",
      "state": {}
     },
     "7c41cffd74e64b85affc0312ce6aab22": {
      "model_module": "@jupyter-widgets/controls",
      "model_module_version": "1.5.0",
      "model_name": "DescriptionStyleModel",
      "state": {
       "description_width": ""
      }
     },
     "7c50d97ad560401593d13682104d0ad4": {
      "model_module": "@jupyter-widgets/base",
      "model_module_version": "1.2.0",
      "model_name": "LayoutModel",
      "state": {}
     },
     "7c7b7113f0da4796a720525e026a3fc7": {
      "model_module": "@jupyter-widgets/base",
      "model_module_version": "1.2.0",
      "model_name": "LayoutModel",
      "state": {}
     },
     "7cb7b60045a4477cb4e471234d8e19ec": {
      "model_module": "@jupyter-widgets/base",
      "model_module_version": "1.2.0",
      "model_name": "LayoutModel",
      "state": {
       "width": "auto"
      }
     },
     "7d2a883b20db4949b042013052c07f09": {
      "model_module": "@jupyter-widgets/base",
      "model_module_version": "1.2.0",
      "model_name": "LayoutModel",
      "state": {
       "display": "none",
       "width": "auto"
      }
     },
     "7d2f839a2f374e01b8141127e37bbb3c": {
      "model_module": "@jupyter-widgets/controls",
      "model_module_version": "1.5.0",
      "model_name": "ButtonModel",
      "state": {
       "button_style": "danger",
       "description": "Compute",
       "icon": "check",
       "layout": "IPY_MODEL_e0e5a19d47f441afa212c15f6f4e6424",
       "style": "IPY_MODEL_d133305dcb134211a8aaee091bf8b1b1",
       "tooltip": "Run computation"
      }
     },
     "7d40fa0c45264e22ba476213d1ca5094": {
      "model_module": "@jupyter-widgets/controls",
      "model_module_version": "1.5.0",
      "model_name": "VBoxModel",
      "state": {
       "children": [
        "IPY_MODEL_d2d4f57ffec94b1ba12a1ea14ea07946",
        "IPY_MODEL_15dd26fb2a014438af2e53d6ef123f85",
        "IPY_MODEL_218869da369d4e3a88a99f8ac7203e21"
       ],
       "layout": "IPY_MODEL_c9bcb3bc2f81451abf5b3848538333b4"
      }
     },
     "7dada21399d7471ea2c87d62954bdd7e": {
      "model_module": "@jupyter-widgets/controls",
      "model_module_version": "1.5.0",
      "model_name": "ToggleButtonModel",
      "state": {
       "layout": "IPY_MODEL_3be13dce8dcb4670a6326aed065652fb",
       "style": "IPY_MODEL_d6b5b56330c442b4914ab4999598ef4f",
       "value": true
      }
     },
     "7df92364a43c4504b17fa4645e4ca640": {
      "model_module": "@jupyter-widgets/controls",
      "model_module_version": "1.5.0",
      "model_name": "SelectModel",
      "state": {
       "_options_labels": [
        "..",
        "dask-worker-space",
        "images",
        "base_application.ipynb",
        "calculator.ipynb",
        "clustering.ipynb",
        "contouring.ipynb",
        "coordinate_transformation.ipynb",
        "create_surface.ipynb",
        "data_interpolation.ipynb",
        "edge_detection.ipynb",
        "export.ipynb",
        "geophysical_inversion.ipynb",
        "object_data_selection.ipynb",
        "peak_finder.ipynb",
        "scatter.ipynb",
        "view_selection.ipynb"
       ],
       "index": null,
       "layout": "IPY_MODEL_99a3be5fee5d414ca080c7975bf8b7e8",
       "rows": 8,
       "style": "IPY_MODEL_a961a2121dc74a199e8edf4c5cb7069d"
      }
     },
     "7df9253aab6b423daaf68d98053b3d5f": {
      "model_module": "@jupyter-widgets/base",
      "model_module_version": "1.2.0",
      "model_name": "LayoutModel",
      "state": {}
     },
     "7e22dab10c894a97adb8b646d8882a17": {
      "model_module": "@jupyter-widgets/controls",
      "model_module_version": "1.5.0",
      "model_name": "ToggleButtonModel",
      "state": {
       "layout": "IPY_MODEL_a1243121091949d99b0302bb8dadca5a",
       "style": "IPY_MODEL_2fa74629042a4cdaba5f923c5c4ef3eb"
      }
     },
     "7e4249f783334340976f3549ee0e8d64": {
      "model_module": "@jupyter-widgets/base",
      "model_module_version": "1.2.0",
      "model_name": "LayoutModel",
      "state": {
       "display": "none",
       "width": "auto"
      }
     },
     "7e4e2fe3f2dd4b448edad1571d2f2da9": {
      "model_module": "@jupyter-widgets/base",
      "model_module_version": "1.2.0",
      "model_name": "LayoutModel",
      "state": {
       "width": "auto"
      }
     },
     "7e522716920b420f81d20dd931264802": {
      "model_module": "@jupyter-widgets/base",
      "model_module_version": "1.2.0",
      "model_name": "LayoutModel",
      "state": {}
     },
     "7e5a1a65c9ba4d2abe15793446708fba": {
      "model_module": "@jupyter-widgets/base",
      "model_module_version": "1.2.0",
      "model_name": "LayoutModel",
      "state": {
       "width": "auto"
      }
     },
     "7e5c5071f5f3462abb9559ae18f5f081": {
      "model_module": "@jupyter-widgets/controls",
      "model_module_version": "1.5.0",
      "model_name": "SelectModel",
      "state": {
       "_options_labels": [
        "..",
        "dask-worker-space",
        "images"
       ],
       "index": null,
       "layout": "IPY_MODEL_9a47140fa6a742a3aa2e2240f4f8650d",
       "rows": 8,
       "style": "IPY_MODEL_40d4a08519094f2fb208a37e0b553201"
      }
     },
     "7e67817e9a5e48d1a21752aaab7483e4": {
      "model_module": "@jupyter-widgets/controls",
      "model_module_version": "1.5.0",
      "model_name": "VBoxModel",
      "state": {
       "children": [
        "IPY_MODEL_cc21ed0955514abb97f73ce6a6c01766",
        "IPY_MODEL_d0d568cf689e4693b45d5240fc4350fe"
       ],
       "layout": "IPY_MODEL_67720c0e7d5c4a8f82f0bc64bfbb16ad"
      }
     },
     "7e7b3f4d33814de3a6a86a33fa1da54c": {
      "model_module": "@jupyter-widgets/controls",
      "model_module_version": "1.5.0",
      "model_name": "HTMLModel",
      "state": {
       "layout": "IPY_MODEL_afb0097b94994b5591e50e1d21cc12a6",
       "style": "IPY_MODEL_dee2eb62ba364f48a76c916396063ea7"
      }
     },
     "7e92884e0ce24747a45d60f4b9e238df": {
      "model_module": "@jupyter-widgets/controls",
      "model_module_version": "1.5.0",
      "model_name": "CheckboxModel",
      "state": {
       "description": "Active",
       "disabled": false,
       "layout": "IPY_MODEL_81b6dc99557546ccb0091e5b612edba1",
       "style": "IPY_MODEL_b472676d75c642998fe97a3f643bd5b5",
       "value": true
      }
     },
     "7ee2defa17354d6d9fcc68182fcf9d9f": {
      "model_module": "@jupyter-widgets/controls",
      "model_module_version": "1.5.0",
      "model_name": "CheckboxModel",
      "state": {
       "description": "Active",
       "disabled": false,
       "layout": "IPY_MODEL_28cebc18f8d14682ab1958644ffaa1ec",
       "style": "IPY_MODEL_089147aaa6ba45ce8f97518501d4f0c7",
       "value": false
      }
     },
     "7efbe70b47304b8daf254f66cff4d12f": {
      "model_module": "@jupyter-widgets/controls",
      "model_module_version": "1.5.0",
      "model_name": "RadioButtonsModel",
      "state": {
       "_options_labels": [
        "value",
        "ratio"
       ],
       "description": "Starting tradeoff (beta):",
       "index": 1,
       "layout": "IPY_MODEL_09fdb91187824373b0132da03d8dd29d",
       "style": "IPY_MODEL_6bea87f9cdca40078c22d0171517fc14"
      }
     },
     "7f1b325f285f40d9a70cb21dda303d3c": {
      "model_module": "@jupyter-widgets/controls",
      "model_module_version": "1.5.0",
      "model_name": "ToggleButtonModel",
      "state": {
       "layout": "IPY_MODEL_0ee49f37438449efaaf8eeb3d2a42c79",
       "style": "IPY_MODEL_f12bf6273cca4b7d864a39d584596fba",
       "value": true
      }
     },
     "7f2dd895365d443daac3059671e4c3af": {
      "model_module": "@jupyter-widgets/controls",
      "model_module_version": "1.5.0",
      "model_name": "TextModel",
      "state": {
       "description": "Layers below topo",
       "layout": "IPY_MODEL_decf6badd22340a09064b466e2a83c7b",
       "style": "IPY_MODEL_8d3de26f1f6f4692bc27cb2d3bb16a14",
       "value": "0, 0, 0, 2"
      }
     },
     "7f3bc8b98ec240bca1cd3be972e11b03": {
      "model_module": "@jupyter-widgets/controls",
      "model_module_version": "1.5.0",
      "model_name": "HBoxModel",
      "state": {
       "children": [
        "IPY_MODEL_ed7fc53774764cfd8969690d53c317af"
       ],
       "layout": "IPY_MODEL_bfe8175c18044b979cae90adf6b677f9"
      }
     },
     "7f418c73a7274ce5bd996a6c6f1e1a03": {
      "model_module": "@jupyter-widgets/base",
      "model_module_version": "1.2.0",
      "model_name": "LayoutModel",
      "state": {}
     },
     "7f5cd16177df454c90adcc6df3069692": {
      "model_module": "@jupyter-widgets/controls",
      "model_module_version": "1.5.0",
      "model_name": "DescriptionStyleModel",
      "state": {
       "description_width": ""
      }
     },
     "7f809591ee7e43e2bc566674fa8aecc2": {
      "model_module": "@jupyter-widgets/controls",
      "model_module_version": "1.5.0",
      "model_name": "HTMLModel",
      "state": {
       "layout": "IPY_MODEL_028dee8cb5224949894f4dfac47e95c3",
       "placeholder": "",
       "style": "IPY_MODEL_ceb1b3738ad342cb86b21befd041fe1f",
       "value": "<span style=\"margin-left:10px; color:black;\">No file selected</span>"
      }
     },
     "7f8213b3a1af46249d17d53428f4c9c2": {
      "model_module": "@jupyter-widgets/base",
      "model_module_version": "1.2.0",
      "model_name": "LayoutModel",
      "state": {
       "visibility": "hidden"
      }
     },
     "7ffced3a1e684469b2fa78dda9dca58f": {
      "model_module": "@jupyter-widgets/controls",
      "model_module_version": "1.5.0",
      "model_name": "SliderStyleModel",
      "state": {
       "description_width": "initial"
      }
     },
     "804830e63adc4f5e8b4c4fabec765162": {
      "model_module": "@jupyter-widgets/controls",
      "model_module_version": "1.5.0",
      "model_name": "ButtonModel",
      "state": {
       "description": "Cancel",
       "layout": "IPY_MODEL_9bab19b222c34b5baf601c047c2756c2",
       "style": "IPY_MODEL_55cf331969944f578ef3e16f7e56937d"
      }
     },
     "808d58e6ce364e3daad455564d6e56bb": {
      "model_module": "@jupyter-widgets/controls",
      "model_module_version": "1.5.0",
      "model_name": "DescriptionStyleModel",
      "state": {
       "description_width": ""
      }
     },
     "80c8cf0f75884fa0a333ce4ce29939c2": {
      "model_module": "@jupyter-widgets/base",
      "model_module_version": "1.2.0",
      "model_name": "LayoutModel",
      "state": {
       "width": "auto"
      }
     },
     "80f785197ce24fcf918d751b4fcbf895": {
      "model_module": "@jupyter-widgets/controls",
      "model_module_version": "1.5.0",
      "model_name": "TextModel",
      "state": {
       "description": "Padding [W,E,N,S,D,U] (m)",
       "layout": "IPY_MODEL_1b790c39a8814f08ae12f92ea685e209",
       "style": "IPY_MODEL_0ee7fe1fd4aa40a9a9dc102f1ba37023",
       "value": "1000, 1000, 1000, 1000, 0, 0"
      }
     },
     "8102952487ef4e0e8aa01bd17ed00caf": {
      "model_module": "@jupyter-widgets/base",
      "model_module_version": "1.2.0",
      "model_name": "LayoutModel",
      "state": {}
     },
     "81b6dc99557546ccb0091e5b612edba1": {
      "model_module": "@jupyter-widgets/base",
      "model_module_version": "1.2.0",
      "model_name": "LayoutModel",
      "state": {}
     },
     "81d820b2b24b4b49b814eb5d39174f7a": {
      "model_module": "@jupyter-widgets/base",
      "model_module_version": "1.2.0",
      "model_name": "LayoutModel",
      "state": {
       "width": "auto"
      }
     },
     "81e6a755a6024a938a4504a637bd411a": {
      "model_module": "@jupyter-widgets/base",
      "model_module_version": "1.2.0",
      "model_name": "LayoutModel",
      "state": {
       "width": "auto"
      }
     },
     "81ec4255ed7345549b8418502a5b11bb": {
      "model_module": "@jupyter-widgets/controls",
      "model_module_version": "1.5.0",
      "model_name": "DescriptionStyleModel",
      "state": {
       "description_width": ""
      }
     },
     "820a173d45994eefbf9fa61b585d1d39": {
      "model_module": "@jupyter-widgets/controls",
      "model_module_version": "1.5.0",
      "model_name": "DescriptionStyleModel",
      "state": {
       "description_width": ""
      }
     },
     "820b634a569c42b5a4bb0faa1981c182": {
      "model_module": "@jupyter-widgets/controls",
      "model_module_version": "1.5.0",
      "model_name": "VBoxModel",
      "state": {
       "children": [
        "IPY_MODEL_b1815de4484d47e8871c3dbba7cf85ae",
        "IPY_MODEL_3a5ac48177d245669ed684e668e80a4d"
       ],
       "layout": "IPY_MODEL_235facb021b04df4a8c87bb76e504398"
      }
     },
     "8267d136893b4845bae5d38576e64c0d": {
      "model_module": "@jupyter-widgets/base",
      "model_module_version": "1.2.0",
      "model_name": "LayoutModel",
      "state": {}
     },
     "82ece9a5798b47c4be85ad062b30ea5a": {
      "model_module": "@jupyter-widgets/controls",
      "model_module_version": "1.5.0",
      "model_name": "GridBoxModel",
      "state": {
       "children": [
        "IPY_MODEL_ebf9e409362e443fb2be38aef8b62320",
        "IPY_MODEL_32c57cb99ea24cae991f4a0c9f24e556",
        "IPY_MODEL_89062e57864d4827a58cb29ac544d389"
       ],
       "layout": "IPY_MODEL_34a64f034dc445c4b8b127ea165e2a9c"
      }
     },
     "83ffe340f74a409a8d14db10f93fd44a": {
      "model_module": "@jupyter-widgets/controls",
      "model_module_version": "1.5.0",
      "model_name": "DescriptionStyleModel",
      "state": {
       "description_width": ""
      }
     },
     "8418d56789a64d3a87e5071c968713c9": {
      "model_module": "@jupyter-widgets/base",
      "model_module_version": "1.2.0",
      "model_name": "LayoutModel",
      "state": {}
     },
     "841fe736f7f04fb9baab54a4887cd9b2": {
      "model_module": "@jupyter-widgets/base",
      "model_module_version": "1.2.0",
      "model_name": "LayoutModel",
      "state": {}
     },
     "84586a815fbc4c199be248e26ff1d747": {
      "model_module": "@jupyter-widgets/controls",
      "model_module_version": "1.5.0",
      "model_name": "ButtonModel",
      "state": {
       "description": "Select",
       "layout": "IPY_MODEL_d3429277e137420994b10303b981fa0f",
       "style": "IPY_MODEL_3b83cdd014414f78a29af56bb148d3f0"
      }
     },
     "846e41ce74854fa1a571644498372318": {
      "model_module": "@jupyter-widgets/controls",
      "model_module_version": "1.5.0",
      "model_name": "VBoxModel",
      "state": {
       "children": [
        "IPY_MODEL_40442f91d9424213b30bc98190a44dc5",
        "IPY_MODEL_ba99bf7a95ff4ff5aa7b967060b3de55"
       ],
       "layout": "IPY_MODEL_33f2325fa25c49ee8873e112a3b88b0a"
      }
     },
     "849f4e9682cc43c3aa7ddb4c1b149a97": {
      "model_module": "@jupyter-widgets/controls",
      "model_module_version": "1.5.0",
      "model_name": "TextModel",
      "state": {
       "description": "Layers below data",
       "layout": "IPY_MODEL_a546602e93764155a3b217ab02f4e229",
       "style": "IPY_MODEL_d65b82a662b7497d9b1d513f274f1894",
       "value": "5, 5, 5, 5"
      }
     },
     "84af5460f955455fbd97cbb107499369": {
      "model_module": "@jupyter-widgets/controls",
      "model_module_version": "1.5.0",
      "model_name": "DescriptionStyleModel",
      "state": {
       "description_width": "initial"
      }
     },
     "851493352f66463e9c761343be9ece96": {
      "model_module": "@jupyter-widgets/controls",
      "model_module_version": "1.5.0",
      "model_name": "DescriptionStyleModel",
      "state": {
       "description_width": ""
      }
     },
     "851aed580c8f45eab7d8b915e19459f3": {
      "model_module": "@jupyter-widgets/base",
      "model_module_version": "1.2.0",
      "model_name": "LayoutModel",
      "state": {}
     },
     "852136e781564c979993db2b119faedd": {
      "model_module": "@jupyter-widgets/base",
      "model_module_version": "1.2.0",
      "model_name": "LayoutModel",
      "state": {}
     },
     "8558df9ee1e0498ca9b50d446ef846c3": {
      "model_module": "@jupyter-widgets/controls",
      "model_module_version": "1.5.0",
      "model_name": "VBoxModel",
      "state": {
       "children": [
        "IPY_MODEL_387112fb1b7e4bbabff228fb3ab83746",
        "IPY_MODEL_36e0cdc5a942410792b029b7b5484c59",
        "IPY_MODEL_8b8c19faa44b48269f918feef714de8f"
       ],
       "layout": "IPY_MODEL_9bfbdec16bb94b6585b57a1fcaaa7976"
      }
     },
     "85bb07af70f641a8a55cbe96caa77d7d": {
      "model_module": "@jupyter-widgets/controls",
      "model_module_version": "1.5.0",
      "model_name": "DescriptionStyleModel",
      "state": {
       "description_width": "initial"
      }
     },
     "85d8b91bc87b4547add747a68e647878": {
      "model_module": "@jupyter-widgets/controls",
      "model_module_version": "1.5.0",
      "model_name": "VBoxModel",
      "state": {
       "children": [
        "IPY_MODEL_ab9c39c19e89474fbac39ea95565966f",
        "IPY_MODEL_3ed1fc598ee0444d950371f2a189280b",
        "IPY_MODEL_47c7013d7bda44f09093aa5f5aaf9e1d"
       ],
       "layout": "IPY_MODEL_62d1e9acab38428db0dafd70f5089648"
      }
     },
     "85fc03b61e3f4adc83268af133ffb3d0": {
      "model_module": "@jupyter-widgets/base",
      "model_module_version": "1.2.0",
      "model_name": "LayoutModel",
      "state": {}
     },
     "8603e275619d4e20a6b6be787f9b2ea2": {
      "model_module": "@jupyter-widgets/controls",
      "model_module_version": "1.5.0",
      "model_name": "VBoxModel",
      "state": {
       "children": [
        "IPY_MODEL_271e0353b06644b2bcbf7ab7fbf5c6fb",
        "IPY_MODEL_a67bbe63bd15458383390f2ec1b0ec6b",
        "IPY_MODEL_fb6ae0ac386b48a29bd1926b0c607c85",
        "IPY_MODEL_dd9c6951d2ed42f586b3302044e7c44b",
        "IPY_MODEL_a8823f882b624ed3837a1d126823fe8e"
       ],
       "layout": "IPY_MODEL_e4bba4e964c041aeb0fa9709c0fb4a0b"
      }
     },
     "86627bba96ca4f038dab107e5dfc1995": {
      "model_module": "@jupyter-widgets/controls",
      "model_module_version": "1.5.0",
      "model_name": "HTMLModel",
      "state": {
       "layout": "IPY_MODEL_5356dd9b28cd4176ac6c6d8f5ba0e3a2",
       "style": "IPY_MODEL_6d18928f0f984921924101ca239c6d3d"
      }
     },
     "866f4c30fbc3494a85cccf3a76a1b510": {
      "model_module": "@jupyter-widgets/controls",
      "model_module_version": "1.5.0",
      "model_name": "DropdownModel",
      "state": {
       "_options_labels": [
        "",
        "--- Channels ---",
        "Airborne_Gxx",
        "Airborne_Gxy",
        "Airborne_Gxz",
        "Airborne_Gyy",
        "Airborne_Gyz",
        "Airborne_Gz",
        "Airborne_Gzz",
        "Airborne_TMI",
        "Ground_Gz",
        "Z"
       ],
       "description": "Radar (Optional):",
       "index": 0,
       "layout": "IPY_MODEL_6be6056e90fe4e3b8c0735ec32ca2d11",
       "style": "IPY_MODEL_fd1a278b457b4ee199fe53c7973b6484"
      }
     },
     "86d1ccf4c3e740ab989bd096c464bc72": {
      "model_module": "@jupyter-widgets/controls",
      "model_module_version": "1.5.0",
      "model_name": "DescriptionStyleModel",
      "state": {
       "description_width": ""
      }
     },
     "86d8ea98eef74081a6006d8b17ecae66": {
      "model_module": "@jupyter-widgets/controls",
      "model_module_version": "1.5.0",
      "model_name": "VBoxModel",
      "state": {
       "children": [
        "IPY_MODEL_b29f7b3a5ca44a7ca6babb6f1911fe4f",
        "IPY_MODEL_2b064379ed9f417292dfd6ed35ca3af0"
       ],
       "layout": "IPY_MODEL_c273378308f742ce9e5f676722f61c9a"
      }
     },
     "871de11d48324c0c8352ca496237b125": {
      "model_module": "@jupyter-widgets/controls",
      "model_module_version": "1.5.0",
      "model_name": "DescriptionStyleModel",
      "state": {
       "description_width": ""
      }
     },
     "873bbfc9f2114242b34773c44e7eb449": {
      "model_module": "@jupyter-widgets/controls",
      "model_module_version": "1.5.0",
      "model_name": "HBoxModel",
      "state": {
       "children": [
        "IPY_MODEL_4424a437ee5f4eefa2baf68f608de801",
        "IPY_MODEL_9edf18c23d3f46248e84e93f95ccf750",
        "IPY_MODEL_9756e51da125400a97365216452a6325"
       ],
       "layout": "IPY_MODEL_27422311c9624110b48bbda7744c6d45"
      }
     },
     "87cb9406f4b34063bc2b94f7b20d6dfd": {
      "model_module": "@jupyter-widgets/controls",
      "model_module_version": "1.5.0",
      "model_name": "DropdownModel",
      "state": {
       "_options_labels": [
        "",
        "--- Channels ---",
        "Airborne_Gxx",
        "Airborne_Gxy",
        "Airborne_Gxz",
        "Airborne_Gyy",
        "Airborne_Gyz",
        "Airborne_Gz",
        "Airborne_Gzz",
        "Airborne_TMI",
        "Ground_Gz",
        "Z"
       ],
       "description": "Channel <=> Data:",
       "index": 0,
       "layout": "IPY_MODEL_dd06a226fe41436ca2c1e5da61677d28",
       "style": "IPY_MODEL_34092896f01447e18d83ca8cfc7878c8"
      }
     },
     "880e254d2cd842e1be53703c99e47866": {
      "model_module": "@jupyter-widgets/controls",
      "model_module_version": "1.5.0",
      "model_name": "DescriptionStyleModel",
      "state": {
       "description_width": "initial"
      }
     },
     "88b58a493402445399d1e9b78b4c4335": {
      "model_module": "@jupyter-widgets/controls",
      "model_module_version": "1.5.0",
      "model_name": "DescriptionStyleModel",
      "state": {
       "description_width": "initial"
      }
     },
     "89062e57864d4827a58cb29ac544d389": {
      "model_module": "@jupyter-widgets/controls",
      "model_module_version": "1.5.0",
      "model_name": "SelectModel",
      "state": {
       "_options_labels": [
        "..",
        "dask-worker-space",
        "images",
        "base_application.ipynb",
        "calculator.ipynb",
        "clustering.ipynb",
        "contouring.ipynb",
        "coordinate_transformation.ipynb",
        "create_surface.ipynb",
        "data_interpolation.ipynb",
        "edge_detection.ipynb",
        "export.ipynb",
        "geophysical_inversion.ipynb",
        "object_data_selection.ipynb",
        "peak_finder.ipynb",
        "scatter.ipynb",
        "view_selection.ipynb"
       ],
       "index": null,
       "layout": "IPY_MODEL_037ccedd69d340f58138d54e43249226",
       "rows": 8,
       "style": "IPY_MODEL_851493352f66463e9c761343be9ece96"
      }
     },
     "894073a71f4943679b945cc9b818a15f": {
      "model_module": "@jupyter-widgets/controls",
      "model_module_version": "1.5.0",
      "model_name": "DescriptionStyleModel",
      "state": {
       "description_width": ""
      }
     },
     "8990d70e6e004211a90a09fccdeb2d37": {
      "model_module": "@jupyter-widgets/base",
      "model_module_version": "1.2.0",
      "model_name": "LayoutModel",
      "state": {
       "display": "none"
      }
     },
     "89b9ff0765464c4cbdc67941043229f6": {
      "model_module": "@jupyter-widgets/controls",
      "model_module_version": "1.5.0",
      "model_name": "GridBoxModel",
      "state": {
       "children": [
        "IPY_MODEL_28c77ae0ce4b4f0c96976c6ef4d16a19",
        "IPY_MODEL_c34c663c5d484611a7fe2d65521e9d2a",
        "IPY_MODEL_042dff69c46f48fca8961b55e640867d"
       ],
       "layout": "IPY_MODEL_ccaa346652c649f89985f59d41199586"
      }
     },
     "8a024ae851204a98a574650b531daab6": {
      "model_module": "@jupyter-widgets/controls",
      "model_module_version": "1.5.0",
      "model_name": "DescriptionStyleModel",
      "state": {
       "description_width": ""
      }
     },
     "8a49bb0196114355a5b7b3588c4bd0d1": {
      "model_module": "@jupyter-widgets/controls",
      "model_module_version": "1.5.0",
      "model_name": "ButtonModel",
      "state": {
       "description": "Select",
       "layout": "IPY_MODEL_ce0a3d020419437babe9c9fccd412e40",
       "style": "IPY_MODEL_c1e387da126d4c5d8f175123e37ac1e2"
      }
     },
     "8a7173055fc74a0c9b3ed1253842afa2": {
      "model_module": "@jupyter-widgets/controls",
      "model_module_version": "1.5.0",
      "model_name": "FloatTextModel",
      "state": {
       "description": "Smallest cell (m):",
       "layout": "IPY_MODEL_3c5d2739bf94404ebc1442c9bec6728b",
       "step": null,
       "style": "IPY_MODEL_53ceb9a8b28a4e479efeff795cab5cbb",
       "value": 10
      }
     },
     "8a9b4f781ac44f88b147c6b375fa44d7": {
      "model_module": "@jupyter-widgets/controls",
      "model_module_version": "1.5.0",
      "model_name": "DropdownModel",
      "state": {
       "_options_labels": [
        "",
        "--- Channels ---",
        "Airborne_Gxx",
        "Airborne_Gxy",
        "Airborne_Gxz",
        "Airborne_Gyy",
        "Airborne_Gyz",
        "Airborne_Gz",
        "Airborne_Gzz",
        "Airborne_TMI",
        "Ground_Gz",
        "Z"
       ],
       "description": "Channel <=> Data:",
       "index": 11,
       "layout": "IPY_MODEL_54e942225100433793a2f366629a6272",
       "style": "IPY_MODEL_5eed586a0ef04479b21bda376875c38a"
      }
     },
     "8b41a23f02444afb9aadea2057b08848": {
      "model_module": "@jupyter-widgets/controls",
      "model_module_version": "1.5.0",
      "model_name": "DescriptionStyleModel",
      "state": {
       "description_width": ""
      }
     },
     "8b48170e416b4f21a94bf65ce7b6ecac": {
      "model_module": "@jupyter-widgets/base",
      "model_module_version": "1.2.0",
      "model_name": "LayoutModel",
      "state": {}
     },
     "8b51f38be240401f80e0be8514aff01b": {
      "model_module": "@jupyter-widgets/controls",
      "model_module_version": "1.5.0",
      "model_name": "DescriptionStyleModel",
      "state": {
       "description_width": ""
      }
     },
     "8b8c19faa44b48269f918feef714de8f": {
      "model_module": "@jupyter-widgets/controls",
      "model_module_version": "1.5.0",
      "model_name": "HBoxModel",
      "state": {
       "children": [
        "IPY_MODEL_9a24880e0ab04d50bba050c1239ddb23",
        "IPY_MODEL_fdd75ecac26d4802bd1b16468fdeec68",
        "IPY_MODEL_1a732057db4845c983caf117279cc1f3"
       ],
       "layout": "IPY_MODEL_80c8cf0f75884fa0a333ce4ce29939c2"
      }
     },
     "8ba9bdfc899647c0921bbc69e040cb62": {
      "model_module": "@jupyter-widgets/controls",
      "model_module_version": "1.5.0",
      "model_name": "ButtonStyleModel",
      "state": {}
     },
     "8bc486761d974e37b59138d5067d884c": {
      "model_module": "@jupyter-widgets/controls",
      "model_module_version": "1.5.0",
      "model_name": "TextModel",
      "state": {
       "layout": "IPY_MODEL_53486e9a4610446d8f6b19fe21473a68",
       "placeholder": "output filename",
       "style": "IPY_MODEL_2cf9a5db1d2e4f1fa228a31b15282811"
      }
     },
     "8c7db378dbc649afab110d586f38aa76": {
      "model_module": "@jupyter-widgets/base",
      "model_module_version": "1.2.0",
      "model_name": "LayoutModel",
      "state": {}
     },
     "8ca6300f874c4d50ba8cd323e7e6277c": {
      "model_module": "@jupyter-widgets/controls",
      "model_module_version": "1.5.0",
      "model_name": "GridBoxModel",
      "state": {
       "children": [
        "IPY_MODEL_6db3419aec974adc9fafcaee375ee6fa",
        "IPY_MODEL_7341a5751f3d43debb819d092d7ae548",
        "IPY_MODEL_5a69bfe2fdfb48398787b9828c22e24a"
       ],
       "layout": "IPY_MODEL_15709f3e8f3f41bb8326d44049e1b4c1"
      }
     },
     "8cc50309b2d14f9497d7fe24e080b276": {
      "model_module": "@jupyter-widgets/base",
      "model_module_version": "1.2.0",
      "model_name": "LayoutModel",
      "state": {}
     },
     "8d0a56c4bc8944eea9cbc422618d510a": {
      "model_module": "@jupyter-widgets/controls",
      "model_module_version": "1.5.0",
      "model_name": "DescriptionStyleModel",
      "state": {
       "description_width": ""
      }
     },
     "8d3de26f1f6f4692bc27cb2d3bb16a14": {
      "model_module": "@jupyter-widgets/controls",
      "model_module_version": "1.5.0",
      "model_name": "DescriptionStyleModel",
      "state": {
       "description_width": "initial"
      }
     },
     "8d556a0b84744f5aa17b94d69e05fbbe": {
      "model_module": "@jupyter-widgets/controls",
      "model_module_version": "1.5.0",
      "model_name": "ButtonModel",
      "state": {
       "description": "Cancel",
       "layout": "IPY_MODEL_5380163e68854a62a1f061c9f144b6e1",
       "style": "IPY_MODEL_60e64869dc234a06abf1dd2ec7a39845"
      }
     },
     "8d705d2128104e6e834a0f70912ccecc": {
      "model_module": "@jupyter-widgets/controls",
      "model_module_version": "1.5.0",
      "model_name": "DescriptionStyleModel",
      "state": {
       "description_width": "initial"
      }
     },
     "8dadf9a37d2d4accb098fffc51eff777": {
      "model_module": "@jupyter-widgets/base",
      "model_module_version": "1.2.0",
      "model_name": "LayoutModel",
      "state": {
       "display": "none",
       "grid_area": "filename",
       "width": "auto"
      }
     },
     "8db2d811f83c408ca5b058af1767badf": {
      "model_module": "@jupyter-widgets/controls",
      "model_module_version": "1.5.0",
      "model_name": "ButtonStyleModel",
      "state": {}
     },
     "8e508c213d7d4fdea228021a1cc32619": {
      "model_module": "@jupyter-widgets/controls",
      "model_module_version": "1.5.0",
      "model_name": "TextModel",
      "state": {
       "description": "byy",
       "layout": "IPY_MODEL_7808e7e7fc834a71b2d6546b8587dc65",
       "style": "IPY_MODEL_d7c42f7a10814737a74f1cfaa94090b1"
      }
     },
     "8e539f4db14744f8986b2ff8c142ef01": {
      "model_module": "@jupyter-widgets/base",
      "model_module_version": "1.2.0",
      "model_name": "LayoutModel",
      "state": {}
     },
     "8e595aa8d2fa459ba6393bb8f15b9bd7": {
      "model_module": "@jupyter-widgets/controls",
      "model_module_version": "1.5.0",
      "model_name": "DescriptionStyleModel",
      "state": {
       "description_width": ""
      }
     },
     "8e7f85c534404e63a775bc2318edb81a": {
      "model_module": "@jupyter-widgets/base",
      "model_module_version": "1.2.0",
      "model_name": "LayoutModel",
      "state": {}
     },
     "8ef9ab2586e94b48a2287f0682796b38": {
      "model_module": "@jupyter-widgets/controls",
      "model_module_version": "1.5.0",
      "model_name": "ButtonModel",
      "state": {
       "description": "Select",
       "layout": "IPY_MODEL_96a68450c2484c9aa2353aa580c68437",
       "style": "IPY_MODEL_e46079b551744a61b381fd1daf889012"
      }
     },
     "8f2633662a06469dadb654609eae2efb": {
      "model_module": "@jupyter-widgets/base",
      "model_module_version": "1.2.0",
      "model_name": "LayoutModel",
      "state": {}
     },
     "8f5b8ead76504e14be50c37dd5acfc8c": {
      "model_module": "@jupyter-widgets/controls",
      "model_module_version": "1.5.0",
      "model_name": "DescriptionStyleModel",
      "state": {
       "description_width": ""
      }
     },
     "8f8e508ca3ca493a8fa1f88013fcc82d": {
      "model_module": "@jupyter-widgets/base",
      "model_module_version": "1.2.0",
      "model_name": "LayoutModel",
      "state": {}
     },
     "8f9d0632752643f2b779181c2de103e3": {
      "model_module": "@jupyter-widgets/controls",
      "model_module_version": "1.5.0",
      "model_name": "TextModel",
      "state": {
       "description": "bzz",
       "layout": "IPY_MODEL_43ef8132d8a8407d9ff2746ea22fbb31",
       "style": "IPY_MODEL_4c3832fc7c0d4dd9be89835deaa62428"
      }
     },
     "8fbb8c77aa1646788224698614f55d80": {
      "model_module": "@jupyter-widgets/controls",
      "model_module_version": "1.5.0",
      "model_name": "DescriptionStyleModel",
      "state": {
       "description_width": ""
      }
     },
     "8fec24dfc4fa4014ac4a736e56f30377": {
      "model_module": "@jupyter-widgets/controls",
      "model_module_version": "1.5.0",
      "model_name": "DescriptionStyleModel",
      "state": {
       "description_width": ""
      }
     },
     "8fee0b6c9d394b0eb85cdfe3b9b8d80f": {
      "model_module": "@jupyter-widgets/base",
      "model_module_version": "1.2.0",
      "model_name": "LayoutModel",
      "state": {}
     },
     "903cc08c1e844753a1ed79d5f9ebcf33": {
      "model_module": "@jupyter-widgets/base",
      "model_module_version": "1.2.0",
      "model_name": "LayoutModel",
      "state": {}
     },
     "9073728ad9c44694a55ba46740e3b809": {
      "model_module": "@jupyter-widgets/base",
      "model_module_version": "1.2.0",
      "model_name": "LayoutModel",
      "state": {
       "display": "none",
       "grid_gap": "0px 0px",
       "grid_template_areas": "\n                    'pathlist pathlist'\n                    'dircontent dircontent'\n                    ",
       "grid_template_columns": "60% 40%",
       "grid_template_rows": "auto auto",
       "width": "500px"
      }
     },
     "9082556ef1d141f2b92802d77b47a3d9": {
      "model_module": "@jupyter-widgets/controls",
      "model_module_version": "1.5.0",
      "model_name": "VBoxModel",
      "state": {
       "children": [
        "IPY_MODEL_e5d32bf28c56447a9d8667bf2f8037b9",
        "IPY_MODEL_1467a0597af94ab29cf04ccbab14debe"
       ],
       "layout": "IPY_MODEL_aa5b52ad1805450b970e0f3aaf246461"
      }
     },
     "908e6cecbbb54bd3a821d146e535a08f": {
      "model_module": "@jupyter-widgets/base",
      "model_module_version": "1.2.0",
      "model_name": "LayoutModel",
      "state": {}
     },
     "90ce61e69ab04679a443e78b0f9686ce": {
      "model_module": "@jupyter-widgets/controls",
      "model_module_version": "1.5.0",
      "model_name": "DescriptionStyleModel",
      "state": {
       "description_width": ""
      }
     },
     "91898567acb649d8897c989a6315a877": {
      "model_module": "@jupyter-widgets/controls",
      "model_module_version": "1.5.0",
      "model_name": "DescriptionStyleModel",
      "state": {
       "description_width": ""
      }
     },
     "919c662e51a245e79e4f91466f85e9d9": {
      "model_module": "@jupyter-widgets/base",
      "model_module_version": "1.2.0",
      "model_name": "LayoutModel",
      "state": {}
     },
     "92041575be0f41de8f3f5cfe73b48671": {
      "model_module": "@jupyter-widgets/base",
      "model_module_version": "1.2.0",
      "model_name": "LayoutModel",
      "state": {}
     },
     "920425e401c04df8a532827a8034c707": {
      "model_module": "@jupyter-widgets/controls",
      "model_module_version": "1.5.0",
      "model_name": "LabelModel",
      "state": {
       "layout": "IPY_MODEL_484a11a5a217446d99d6ebe5cd9a7074",
       "style": "IPY_MODEL_e16ad5e0febc43359efe778a12e7bab5",
       "value": "Workspace"
      }
     },
     "9222c4ade04c403387f3b172d38a1364": {
      "model_module": "@jupyter-widgets/base",
      "model_module_version": "1.2.0",
      "model_name": "LayoutModel",
      "state": {}
     },
     "922fe0edd8ec470dbc0b4a9e441813d5": {
      "model_module": "@jupyter-widgets/controls",
      "model_module_version": "1.5.0",
      "model_name": "DescriptionStyleModel",
      "state": {
       "description_width": ""
      }
     },
     "923fe71fa4e747d6bb3b4572ccd9aaaf": {
      "model_module": "@jupyter-widgets/base",
      "model_module_version": "1.2.0",
      "model_name": "LayoutModel",
      "state": {}
     },
     "924b745b62254dc1a514e3f8d964496c": {
      "model_module": "@jupyter-widgets/controls",
      "model_module_version": "1.5.0",
      "model_name": "DescriptionStyleModel",
      "state": {
       "description_width": ""
      }
     },
     "92dc07835451461291e009d3399ad243": {
      "model_module": "@jupyter-widgets/controls",
      "model_module_version": "1.5.0",
      "model_name": "CheckboxModel",
      "state": {
       "description": "GA Pro - Live link",
       "disabled": false,
       "indent": false,
       "layout": "IPY_MODEL_d094258bb6e4403c83f55068785bb917",
       "style": "IPY_MODEL_f010e4b1ace34d21bf4edbf0f6a164f8",
       "value": false
      }
     },
     "93a1877923f04aeda1357c97d26bfb10": {
      "model_module": "@jupyter-widgets/controls",
      "model_module_version": "1.5.0",
      "model_name": "ButtonStyleModel",
      "state": {}
     },
     "93ab16b8b8644a5387e8c3c0ae97922e": {
      "model_module": "@jupyter-widgets/controls",
      "model_module_version": "1.5.0",
      "model_name": "HTMLModel",
      "state": {
       "layout": "IPY_MODEL_3243bd64d3c14e1d8dc45ae291ca4a2c",
       "placeholder": "",
       "style": "IPY_MODEL_c65416f3f65b4504aac550674c16d4b1",
       "value": "<span style=\"margin-left:10px; color:black;\">No file selected</span>"
      }
     },
     "93edc8317c504d3ca524ee3e1beb752e": {
      "model_module": "@jupyter-widgets/base",
      "model_module_version": "1.2.0",
      "model_name": "LayoutModel",
      "state": {}
     },
     "93f69cf76733490ab91a54cc2b48f329": {
      "model_module": "@jupyter-widgets/controls",
      "model_module_version": "1.5.0",
      "model_name": "DescriptionStyleModel",
      "state": {
       "description_width": ""
      }
     },
     "93fb761e2e614d9d94d82b25e873123d": {
      "model_module": "@jupyter-widgets/controls",
      "model_module_version": "1.5.0",
      "model_name": "VBoxModel",
      "state": {
       "children": [
        "IPY_MODEL_9778766481854add817b3ac9b9ee17ba",
        "IPY_MODEL_4ba29b9ad9be4098ae9670beca674009"
       ],
       "layout": "IPY_MODEL_4da04506d02944cdba4f33725edb23d4"
      }
     },
     "9433208cdee74962ac6a098d8c00d7db": {
      "model_module": "@jupyter-widgets/base",
      "model_module_version": "1.2.0",
      "model_name": "LayoutModel",
      "state": {}
     },
     "94a252690e574d50b84f85185cf68580": {
      "model_module": "@jupyter-widgets/base",
      "model_module_version": "1.2.0",
      "model_name": "LayoutModel",
      "state": {}
     },
     "94b8c965bd3a41aa9715a06784d360af": {
      "model_module": "@jupyter-widgets/controls",
      "model_module_version": "1.5.0",
      "model_name": "ButtonStyleModel",
      "state": {}
     },
     "94d66bf8883e48e693a257d5d817efb1": {
      "model_module": "@jupyter-widgets/controls",
      "model_module_version": "1.5.0",
      "model_name": "ButtonStyleModel",
      "state": {}
     },
     "950304d11ca84c799d3165d09932d595": {
      "model_module": "@jupyter-widgets/controls",
      "model_module_version": "1.5.0",
      "model_name": "DropdownModel",
      "state": {
       "_options_labels": [
        "C:\\Users\\dominiquef\\Documents\\GIT\\mira\\mirageoscience-apps\\docs\\content\\applications",
        "C:\\Users\\dominiquef\\Documents\\GIT\\mira\\mirageoscience-apps\\docs\\content",
        "C:\\Users\\dominiquef\\Documents\\GIT\\mira\\mirageoscience-apps\\docs",
        "C:\\Users\\dominiquef\\Documents\\GIT\\mira\\mirageoscience-apps",
        "C:\\Users\\dominiquef\\Documents\\GIT\\mira",
        "C:\\Users\\dominiquef\\Documents\\GIT",
        "C:\\Users\\dominiquef\\Documents",
        "C:\\Users\\dominiquef",
        "C:\\Users",
        "C:\\",
        "D:\\",
        "Z:\\"
       ],
       "index": 0,
       "layout": "IPY_MODEL_51e1e356ceb3418b99d989b6a9fcbe2b",
       "style": "IPY_MODEL_8f5b8ead76504e14be50c37dd5acfc8c"
      }
     },
     "951775515f5f4b71aa597688737b1a5c": {
      "model_module": "@jupyter-widgets/controls",
      "model_module_version": "1.5.0",
      "model_name": "DescriptionStyleModel",
      "state": {
       "description_width": ""
      }
     },
     "955fd309f617429a94fa4331d2f4ec71": {
      "model_module": "@jupyter-widgets/base",
      "model_module_version": "1.2.0",
      "model_name": "LayoutModel",
      "state": {}
     },
     "9578bc3e347d4c499cd915b365fde111": {
      "model_module": "@jupyter-widgets/base",
      "model_module_version": "1.2.0",
      "model_name": "LayoutModel",
      "state": {}
     },
     "9585982ba4f948dc888631ae6cced9d3": {
      "model_module": "@jupyter-widgets/base",
      "model_module_version": "1.2.0",
      "model_name": "LayoutModel",
      "state": {}
     },
     "95b5ada2f24848c597659f4ef3ceb8a7": {
      "model_module": "@jupyter-widgets/controls",
      "model_module_version": "1.5.0",
      "model_name": "ButtonStyleModel",
      "state": {}
     },
     "95cd31741cb94e749800a7b529f08502": {
      "model_module": "@jupyter-widgets/base",
      "model_module_version": "1.2.0",
      "model_name": "LayoutModel",
      "state": {}
     },
     "962fec214e02477dbf30e3737ba217ff": {
      "model_module": "@jupyter-widgets/controls",
      "model_module_version": "1.5.0",
      "model_name": "DescriptionStyleModel",
      "state": {
       "description_width": ""
      }
     },
     "969ef41e4bd9499ab17daf2e6a965f0c": {
      "model_module": "@jupyter-widgets/controls",
      "model_module_version": "1.5.0",
      "model_name": "DescriptionStyleModel",
      "state": {
       "description_width": ""
      }
     },
     "969ffd0b9a354f7caec7455526505ae4": {
      "model_module": "@jupyter-widgets/base",
      "model_module_version": "1.2.0",
      "model_name": "LayoutModel",
      "state": {
       "grid_area": "filename",
       "width": "auto"
      }
     },
     "96a68450c2484c9aa2353aa580c68437": {
      "model_module": "@jupyter-widgets/base",
      "model_module_version": "1.2.0",
      "model_name": "LayoutModel",
      "state": {
       "width": "auto"
      }
     },
     "96bdaae89e064d1bb3a44b9c0ca0b0ed": {
      "model_module": "@jupyter-widgets/controls",
      "model_module_version": "1.5.0",
      "model_name": "DescriptionStyleModel",
      "state": {
       "description_width": ""
      }
     },
     "96d70068556744daa5285b745dcad32f": {
      "model_module": "@jupyter-widgets/controls",
      "model_module_version": "1.5.0",
      "model_name": "DescriptionStyleModel",
      "state": {
       "description_width": "initial"
      }
     },
     "97442673455e4cc78c10b35bec2c57ab": {
      "model_module": "@jupyter-widgets/controls",
      "model_module_version": "1.5.0",
      "model_name": "DescriptionStyleModel",
      "state": {
       "description_width": ""
      }
     },
     "9756e51da125400a97365216452a6325": {
      "model_module": "@jupyter-widgets/controls",
      "model_module_version": "1.5.0",
      "model_name": "HTMLModel",
      "state": {
       "layout": "IPY_MODEL_7c0e3c144bc641bcb87358eed4b0f01b",
       "placeholder": "",
       "style": "IPY_MODEL_ee786c5b29214cc89619e7fd9789646e",
       "value": "<span style=\"margin-left:10px; color:black;\">No file selected</span>"
      }
     },
     "975d92d7caa74f5e9953fbad33753d26": {
      "model_module": "@jupyter-widgets/controls",
      "model_module_version": "1.5.0",
      "model_name": "VBoxModel",
      "state": {
       "children": [
        "IPY_MODEL_e86ae23e739c42f19d6a74dbd59b951f",
        "IPY_MODEL_3b870999edc540ed82fe173db466a9fc"
       ],
       "layout": "IPY_MODEL_d767c23294df4380aa98acc55e97b98b"
      }
     },
     "9778766481854add817b3ac9b9ee17ba": {
      "model_module": "@jupyter-widgets/controls",
      "model_module_version": "1.5.0",
      "model_name": "LabelModel",
      "state": {
       "layout": "IPY_MODEL_8e7f85c534404e63a775bc2318edb81a",
       "style": "IPY_MODEL_4b97f734712c4155af1498bbae90162f",
       "value": "Monitoring folder"
      }
     },
     "98007fdc7bdb4a4c99a907fe0181b3dd": {
      "model_module": "@jupyter-widgets/base",
      "model_module_version": "1.2.0",
      "model_name": "LayoutModel",
      "state": {
       "visibility": "hidden"
      }
     },
     "9813925d98f642a6a9210510a45e4875": {
      "model_module": "@jupyter-widgets/controls",
      "model_module_version": "1.5.0",
      "model_name": "TextModel",
      "state": {
       "continuous_update": false,
       "description": "Group:",
       "layout": "IPY_MODEL_8f8e508ca3ca493a8fa1f88013fcc82d",
       "style": "IPY_MODEL_880e254d2cd842e1be53703c99e47866"
      }
     },
     "9820d4e1b2a5473494c758088373a788": {
      "model_module": "@jupyter-widgets/controls",
      "model_module_version": "1.5.0",
      "model_name": "IntTextModel",
      "state": {
       "description": "Max beta Iterations",
       "layout": "IPY_MODEL_fa3b2a33e1e04b0da02b3f391324a593",
       "step": 1,
       "style": "IPY_MODEL_f3523918122a421285fc9b7e4688e6d3",
       "value": 25
      }
     },
     "984ef65e83934274b83d8bc4d2516e67": {
      "model_module": "@jupyter-widgets/base",
      "model_module_version": "1.2.0",
      "model_name": "LayoutModel",
      "state": {}
     },
     "9898d8b304164858be4a428a09eefd66": {
      "model_module": "@jupyter-widgets/base",
      "model_module_version": "1.2.0",
      "model_name": "LayoutModel",
      "state": {}
     },
     "98a5ac9650914006aeba96d0dc2bc7ac": {
      "model_module": "@jupyter-widgets/controls",
      "model_module_version": "1.5.0",
      "model_name": "CheckboxModel",
      "state": {
       "description": "GA Pro - Live link",
       "disabled": false,
       "indent": false,
       "layout": "IPY_MODEL_fd581b02aae64054ab94b1ae92e60fdb",
       "style": "IPY_MODEL_2bc8137b95cc4677b7ae26119259b304",
       "value": false
      }
     },
     "98b9734ba617415987b47343d0b9d34e": {
      "model_module": "@jupyter-widgets/base",
      "model_module_version": "1.2.0",
      "model_name": "LayoutModel",
      "state": {
       "display": "none",
       "grid_gap": "0px 0px",
       "grid_template_areas": "\n                    'pathlist filename'\n                    'dircontent dircontent'\n                    ",
       "grid_template_columns": "60% 40%",
       "grid_template_rows": "auto auto",
       "width": "500px"
      }
     },
     "98d773d3df7f4ce78bd0beeefb244690": {
      "model_module": "@jupyter-widgets/base",
      "model_module_version": "1.2.0",
      "model_name": "LayoutModel",
      "state": {
       "width": "auto"
      }
     },
     "9944bf8dcd4e46188ac7fd908f39470c": {
      "model_module": "@jupyter-widgets/controls",
      "model_module_version": "1.5.0",
      "model_name": "VBoxModel",
      "state": {
       "children": [
        "IPY_MODEL_e2b9cb5201ea4c1ea93cb75ec3a19788",
        "IPY_MODEL_bc53cede522d451889399c131bdeac9e",
        "IPY_MODEL_1079fb59bcc949e49e5687684a818390",
        "IPY_MODEL_849f4e9682cc43c3aa7ddb4c1b149a97",
        "IPY_MODEL_7634e4cd9ad1409e8ff7f0fa75027f21",
        "IPY_MODEL_3fcd9f949f0d43c5845a160ded833258",
        "IPY_MODEL_0a1372acde5143e7ab702a7aa631336c"
       ],
       "layout": "IPY_MODEL_52a5509749a844f893a4d12fe24986a2"
      }
     },
     "9946aad072224a199261dc81b950e66b": {
      "model_module": "@jupyter-widgets/controls",
      "model_module_version": "1.5.0",
      "model_name": "TextModel",
      "state": {
       "layout": "IPY_MODEL_e76565271ee846c09bf688b512578ebc",
       "placeholder": "output filename",
       "style": "IPY_MODEL_8d0a56c4bc8944eea9cbc422618d510a"
      }
     },
     "995d7281e1174d2cb0deb6203147596c": {
      "model_module": "@jupyter-widgets/controls",
      "model_module_version": "1.5.0",
      "model_name": "DescriptionStyleModel",
      "state": {
       "description_width": "initial"
      }
     },
     "99847a1402754fcaac5b4c63ba44a45a": {
      "model_module": "@jupyter-widgets/controls",
      "model_module_version": "1.5.0",
      "model_name": "CheckboxModel",
      "state": {
       "description": "Active",
       "disabled": false,
       "layout": "IPY_MODEL_e94d26b26934494990b616a208762597",
       "style": "IPY_MODEL_70d794afd0aa4b6db1a6841ce621dc8b",
       "value": false
      }
     },
     "99a3be5fee5d414ca080c7975bf8b7e8": {
      "model_module": "@jupyter-widgets/base",
      "model_module_version": "1.2.0",
      "model_name": "LayoutModel",
      "state": {
       "grid_area": "dircontent",
       "width": "auto"
      }
     },
     "9a24880e0ab04d50bba050c1239ddb23": {
      "model_module": "@jupyter-widgets/controls",
      "model_module_version": "1.5.0",
      "model_name": "ButtonModel",
      "state": {
       "description": "Select",
       "layout": "IPY_MODEL_156e430f1ff7415095b481bb27d6bef7",
       "style": "IPY_MODEL_5cdebb60a204401fa3326f6ed51da423"
      }
     },
     "9a47140fa6a742a3aa2e2240f4f8650d": {
      "model_module": "@jupyter-widgets/base",
      "model_module_version": "1.2.0",
      "model_name": "LayoutModel",
      "state": {
       "grid_area": "dircontent",
       "width": "auto"
      }
     },
     "9a92c14df9884ec1bb998e358f4d052e": {
      "model_module": "@jupyter-widgets/base",
      "model_module_version": "1.2.0",
      "model_name": "LayoutModel",
      "state": {}
     },
     "9a9a40260e844c2b8b15364d7d7fb9df": {
      "model_module": "@jupyter-widgets/base",
      "model_module_version": "1.2.0",
      "model_name": "LayoutModel",
      "state": {}
     },
     "9b0bad389c9e4608becc741558a3f33e": {
      "model_module": "@jupyter-widgets/controls",
      "model_module_version": "1.5.0",
      "model_name": "VBoxModel",
      "state": {
       "children": [
        "IPY_MODEL_2cc8ed407c664bcfa30874f473cbdf5a",
        "IPY_MODEL_4aee4d5685ac41bda7ec5a0fb8d02650"
       ],
       "layout": "IPY_MODEL_6f4a3f6a9e7d425181f265ddd37a4f40"
      }
     },
     "9b771a695e9a41b78c90de6557e4269e": {
      "model_module": "@jupyter-widgets/base",
      "model_module_version": "1.2.0",
      "model_name": "LayoutModel",
      "state": {}
     },
     "9b8c0b226dc1421f885ae0642fed71b8": {
      "model_module": "@jupyter-widgets/controls",
      "model_module_version": "1.5.0",
      "model_name": "DescriptionStyleModel",
      "state": {
       "description_width": ""
      }
     },
     "9b9733f670674fb5b41d377353abf1fb": {
      "model_module": "@jupyter-widgets/controls",
      "model_module_version": "1.5.0",
      "model_name": "DescriptionStyleModel",
      "state": {
       "description_width": "initial"
      }
     },
     "9ba7bbce0ea34fada576c62913ada906": {
      "model_module": "@jupyter-widgets/controls",
      "model_module_version": "1.5.0",
      "model_name": "VBoxModel",
      "state": {
       "children": [
        "IPY_MODEL_4045fb3b4c964d15bc0957e3c39d0b26",
        "IPY_MODEL_7bbf8a732a1b41ceb518faada4c6bd03",
        "IPY_MODEL_5e28e0ccac76496996ee50a2c2c14329"
       ],
       "layout": "IPY_MODEL_9fb4cbe697b54158be8214de220354d1"
      }
     },
     "9bab19b222c34b5baf601c047c2756c2": {
      "model_module": "@jupyter-widgets/base",
      "model_module_version": "1.2.0",
      "model_name": "LayoutModel",
      "state": {
       "display": "none",
       "width": "auto"
      }
     },
     "9bb6f63b1a4d4e9d9dda2855f4363b0c": {
      "model_module": "@jupyter-widgets/controls",
      "model_module_version": "1.5.0",
      "model_name": "DescriptionStyleModel",
      "state": {
       "description_width": "initial"
      }
     },
     "9be8b88c1e35442186023c9d07ea4435": {
      "model_module": "@jupyter-widgets/controls",
      "model_module_version": "1.5.0",
      "model_name": "LabelModel",
      "state": {
       "layout": "IPY_MODEL_41312062cc7f41f5b56ea2f6f46c0836",
       "style": "IPY_MODEL_f5612135dfaa468fbc89c894065dbdbd",
       "value": "Geophysical System"
      }
     },
     "9bf833b50c754e56ad9ff572fa2757f7": {
      "model_module": "@jupyter-widgets/controls",
      "model_module_version": "1.5.0",
      "model_name": "ButtonStyleModel",
      "state": {}
     },
     "9bfbdec16bb94b6585b57a1fcaaa7976": {
      "model_module": "@jupyter-widgets/base",
      "model_module_version": "1.2.0",
      "model_name": "LayoutModel",
      "state": {
       "width": "auto"
      }
     },
     "9c0ae7c737594b76b52aa0120111cf30": {
      "model_module": "@jupyter-widgets/base",
      "model_module_version": "1.2.0",
      "model_name": "LayoutModel",
      "state": {}
     },
     "9c30b590157d4bac9bf0c9518d1b5825": {
      "model_module": "@jupyter-widgets/base",
      "model_module_version": "1.2.0",
      "model_name": "LayoutModel",
      "state": {
       "display": "none",
       "grid_gap": "0px 0px",
       "grid_template_areas": "\n                    'pathlist pathlist'\n                    'dircontent dircontent'\n                    ",
       "grid_template_columns": "60% 40%",
       "grid_template_rows": "auto auto",
       "width": "500px"
      }
     },
     "9c833581e39f4567974dde3cadebd7a8": {
      "model_module": "@jupyter-widgets/base",
      "model_module_version": "1.2.0",
      "model_name": "LayoutModel",
      "state": {}
     },
     "9cd6df4d37d9422ba994e02a8004b9b8": {
      "model_module": "@jupyter-widgets/base",
      "model_module_version": "1.2.0",
      "model_name": "LayoutModel",
      "state": {
       "display": "none",
       "grid_gap": "0px 0px",
       "grid_template_areas": "\n                    'pathlist filename'\n                    'dircontent dircontent'\n                    ",
       "grid_template_columns": "60% 40%",
       "grid_template_rows": "auto auto",
       "width": "500px"
      }
     },
     "9d1797477f1140aabb1bb15580d99384": {
      "model_module": "@jupyter-widgets/base",
      "model_module_version": "1.2.0",
      "model_name": "LayoutModel",
      "state": {
       "width": "auto"
      }
     },
     "9d9e73f73d2742fc94fe50500ba3a241": {
      "model_module": "@jupyter-widgets/controls",
      "model_module_version": "1.5.0",
      "model_name": "DescriptionStyleModel",
      "state": {
       "description_width": ""
      }
     },
     "9dad4ff5f6a1484a99b95ad1049dfaed": {
      "model_module": "@jupyter-widgets/controls",
      "model_module_version": "1.5.0",
      "model_name": "FloatSliderModel",
      "state": {
       "continuous_update": false,
       "description": "Easting",
       "layout": "IPY_MODEL_f1785ef9c6444df8aaa23fded579010f",
       "max": 319234.2051362576,
       "min": 311898.69919769425,
       "step": 0.1,
       "style": "IPY_MODEL_0cacebd2fa1645bab94f5ca603d1be07",
       "value": 314600
      }
     },
     "9db88254e5034df58610a40274645ae3": {
      "model_module": "@jupyter-widgets/controls",
      "model_module_version": "1.5.0",
      "model_name": "DescriptionStyleModel",
      "state": {
       "description_width": ""
      }
     },
     "9dc61337f4e94e42a7336206fa8254e0": {
      "model_module": "@jupyter-widgets/controls",
      "model_module_version": "1.5.0",
      "model_name": "DescriptionStyleModel",
      "state": {
       "description_width": ""
      }
     },
     "9dfa9adc5ce6466abe683c889aa41ee8": {
      "model_module": "@jupyter-widgets/controls",
      "model_module_version": "1.5.0",
      "model_name": "VBoxModel",
      "state": {
       "children": [
        "IPY_MODEL_fa51640895b944d8b8916b71fa14595f",
        "IPY_MODEL_312932cc752f4569a841db212237268f"
       ],
       "layout": "IPY_MODEL_4d6dcdee5c344f50bb2310c9826069e7"
      }
     },
     "9e4491ce14e54d4b83ccc70d5727799e": {
      "model_module": "@jupyter-widgets/controls",
      "model_module_version": "1.5.0",
      "model_name": "DescriptionStyleModel",
      "state": {
       "description_width": ""
      }
     },
     "9e896d5b54654bac87a7b9abb4cbb9a3": {
      "model_module": "@jupyter-widgets/controls",
      "model_module_version": "1.5.0",
      "model_name": "ButtonStyleModel",
      "state": {}
     },
     "9edf18c23d3f46248e84e93f95ccf750": {
      "model_module": "@jupyter-widgets/controls",
      "model_module_version": "1.5.0",
      "model_name": "ButtonModel",
      "state": {
       "description": "Cancel",
       "layout": "IPY_MODEL_ca2c767400804cd3a294b382ecc42f6c",
       "style": "IPY_MODEL_93a1877923f04aeda1357c97d26bfb10"
      }
     },
     "9eea42559468447e81fd5730bc3d6ecc": {
      "model_module": "@jupyter-widgets/controls",
      "model_module_version": "1.5.0",
      "model_name": "LabelModel",
      "state": {
       "layout": "IPY_MODEL_74adcb0ac3d3425aa1e8a61f7040123c",
       "style": "IPY_MODEL_9b9733f670674fb5b41d377353abf1fb",
       "value": "Workspace"
      }
     },
     "9f1ba2698e154ecaaa95b3bf6d442217": {
      "model_module": "@jupyter-widgets/controls",
      "model_module_version": "1.5.0",
      "model_name": "VBoxModel",
      "state": {
       "children": [
        "IPY_MODEL_7d2f839a2f374e01b8141127e37bbb3c",
        "IPY_MODEL_5869db11ef6f429c8920f77530ec39be"
       ],
       "layout": "IPY_MODEL_01db6a7068244fea9315dd4204e848b2"
      }
     },
     "9f28081ff12248b696caddb5fb8ed352": {
      "model_module": "@jupyter-widgets/base",
      "model_module_version": "1.2.0",
      "model_name": "LayoutModel",
      "state": {
       "width": "auto"
      }
     },
     "9fb4cbe697b54158be8214de220354d1": {
      "model_module": "@jupyter-widgets/base",
      "model_module_version": "1.2.0",
      "model_name": "LayoutModel",
      "state": {
       "width": "auto"
      }
     },
     "9fdeb65c337b445abe8128e5c9ba8bf6": {
      "model_module": "@jupyter-widgets/base",
      "model_module_version": "1.2.0",
      "model_name": "LayoutModel",
      "state": {}
     },
     "9fe2b55a2e6a4fe4ad18bb584a6d5de8": {
      "model_module": "@jupyter-widgets/controls",
      "model_module_version": "1.5.0",
      "model_name": "ButtonStyleModel",
      "state": {}
     },
     "9fe98fe07d69463386318fa99526837e": {
      "model_module": "@jupyter-widgets/base",
      "model_module_version": "1.2.0",
      "model_name": "LayoutModel",
      "state": {}
     },
     "a019343d7fa5446f9d8a1a849740296c": {
      "model_module": "@jupyter-widgets/base",
      "model_module_version": "1.2.0",
      "model_name": "LayoutModel",
      "state": {}
     },
     "a0e7c71b46c74a2b9f611137711ca7f9": {
      "model_module": "@jupyter-widgets/base",
      "model_module_version": "1.2.0",
      "model_name": "LayoutModel",
      "state": {
       "display": "none",
       "width": "auto"
      }
     },
     "a1125394a8c04e18bc2bc6716d00ac57": {
      "model_module": "@jupyter-widgets/controls",
      "model_module_version": "1.5.0",
      "model_name": "DescriptionStyleModel",
      "state": {
       "description_width": "initial"
      }
     },
     "a11677872fa14b698701e6cfe9f2a089": {
      "model_module": "@jupyter-widgets/controls",
      "model_module_version": "1.5.0",
      "model_name": "DescriptionStyleModel",
      "state": {
       "description_width": ""
      }
     },
     "a1243121091949d99b0302bb8dadca5a": {
      "model_module": "@jupyter-widgets/base",
      "model_module_version": "1.2.0",
      "model_name": "LayoutModel",
      "state": {}
     },
     "a1247041f6b14b509543050773d63f67": {
      "model_module": "@jupyter-widgets/base",
      "model_module_version": "1.2.0",
      "model_name": "LayoutModel",
      "state": {}
     },
     "a12d923ce97c438f9318f48409858a46": {
      "model_module": "@jupyter-widgets/base",
      "model_module_version": "1.2.0",
      "model_name": "LayoutModel",
      "state": {}
     },
     "a1321564ca46474799ccdcf3723037bf": {
      "model_module": "@jupyter-widgets/controls",
      "model_module_version": "1.5.0",
      "model_name": "LabelModel",
      "state": {
       "layout": "IPY_MODEL_754fae2c12fd48d9b55ba7c6634cfbed",
       "style": "IPY_MODEL_60df8db0e86b449f9628ef933b3b8dd3",
       "value": "Monitoring folder"
      }
     },
     "a14ca3040a1d44f8b01ce487a9b637a9": {
      "model_module": "@jupyter-widgets/controls",
      "model_module_version": "1.5.0",
      "model_name": "DescriptionStyleModel",
      "state": {
       "description_width": "initial"
      }
     },
     "a164b80e163a47dba9c1d45a8f480490": {
      "model_module": "@jupyter-widgets/base",
      "model_module_version": "1.2.0",
      "model_name": "LayoutModel",
      "state": {
       "width": "100%"
      }
     },
     "a19f555cc047473e9cc77d4a1e0166c9": {
      "model_module": "@jupyter-widgets/controls",
      "model_module_version": "1.5.0",
      "model_name": "ButtonModel",
      "state": {
       "description": "Cancel",
       "layout": "IPY_MODEL_c2f58bdadd034a008c61d99b13ab763d",
       "style": "IPY_MODEL_8ba9bdfc899647c0921bbc69e040cb62"
      }
     },
     "a1c9c60006ae4c82845f93b20c6f26ce": {
      "model_module": "@jupyter-widgets/controls",
      "model_module_version": "1.5.0",
      "model_name": "DescriptionStyleModel",
      "state": {
       "description_width": "initial"
      }
     },
     "a1d777a401844549bc1e30ce8a80a860": {
      "model_module": "@jupyter-widgets/controls",
      "model_module_version": "1.5.0",
      "model_name": "SliderStyleModel",
      "state": {
       "description_width": "initial"
      }
     },
     "a1e17ca5f25e46448e68099794ec96e1": {
      "model_module": "@jupyter-widgets/controls",
      "model_module_version": "1.5.0",
      "model_name": "TextModel",
      "state": {
       "disabled": true,
       "layout": "IPY_MODEL_8dadf9a37d2d4accb098fffc51eff777",
       "placeholder": "output filename",
       "style": "IPY_MODEL_0b857102e49d46a3b976ccffa3508985"
      }
     },
     "a22e2b7b547d4dcd87640a640ab5b552": {
      "model_module": "@jupyter-widgets/controls",
      "model_module_version": "1.5.0",
      "model_name": "VBoxModel",
      "state": {
       "children": [
        "IPY_MODEL_683c270886924b1a95ed0eef91eeb464",
        "IPY_MODEL_866f4c30fbc3494a85cccf3a76a1b510"
       ],
       "layout": "IPY_MODEL_38df7a14be5746f28a7de2498b855a0b"
      }
     },
     "a257488bc2da4232ae7d0428eb93d25d": {
      "model_module": "@jupyter-widgets/controls",
      "model_module_version": "1.5.0",
      "model_name": "VBoxModel",
      "state": {
       "children": [
        "IPY_MODEL_6913e3c007984b30a4f16f81af7c9f2f",
        "IPY_MODEL_b73ab68fa7cd4302a311a5773d1109bd"
       ],
       "layout": "IPY_MODEL_70b2879134474ed78bcc6db1ba605a34"
      }
     },
     "a26b69c92ad648e198c36275649b7e11": {
      "model_module": "@jupyter-widgets/controls",
      "model_module_version": "1.5.0",
      "model_name": "DescriptionStyleModel",
      "state": {
       "description_width": "initial"
      }
     },
     "a2714171f06f42ddaead90d99fd67e97": {
      "model_module": "@jupyter-widgets/controls",
      "model_module_version": "1.5.0",
      "model_name": "DropdownModel",
      "state": {
       "_options_labels": [
        "C:\\Users\\dominiquef\\Documents\\GIT\\mira\\mirageoscience-apps\\docs\\content\\applications",
        "C:\\Users\\dominiquef\\Documents\\GIT\\mira\\mirageoscience-apps\\docs\\content",
        "C:\\Users\\dominiquef\\Documents\\GIT\\mira\\mirageoscience-apps\\docs",
        "C:\\Users\\dominiquef\\Documents\\GIT\\mira\\mirageoscience-apps",
        "C:\\Users\\dominiquef\\Documents\\GIT\\mira",
        "C:\\Users\\dominiquef\\Documents\\GIT",
        "C:\\Users\\dominiquef\\Documents",
        "C:\\Users\\dominiquef",
        "C:\\Users",
        "C:\\",
        "D:\\",
        "Z:\\"
       ],
       "index": 0,
       "layout": "IPY_MODEL_de8199a790764ae4b3d2818de69eb631",
       "style": "IPY_MODEL_ca00089f11624c9fb603d31e0e9c8769"
      }
     },
     "a337183149ef4129924f5009fdf96d45": {
      "model_module": "@jupyter-widgets/controls",
      "model_module_version": "1.5.0",
      "model_name": "SelectModel",
      "state": {
       "_options_labels": [
        "..",
        "dask-worker-space",
        "images",
        "base_application.ipynb",
        "calculator.ipynb",
        "clustering.ipynb",
        "contouring.ipynb",
        "coordinate_transformation.ipynb",
        "create_surface.ipynb",
        "data_interpolation.ipynb",
        "edge_detection.ipynb",
        "export.ipynb",
        "geophysical_inversion.ipynb",
        "object_data_selection.ipynb",
        "peak_finder.ipynb",
        "scatter.ipynb",
        "view_selection.ipynb"
       ],
       "index": null,
       "layout": "IPY_MODEL_b7dc92d24a434a8db15fc953268366d2",
       "rows": 8,
       "style": "IPY_MODEL_204eaf27e0ad483ca450bffc79970a21"
      }
     },
     "a35950d484ad4595a5ae0cdc9e584395": {
      "model_module": "@jupyter-widgets/controls",
      "model_module_version": "1.5.0",
      "model_name": "ButtonStyleModel",
      "state": {}
     },
     "a389265247bd4a7db40e028b9bd50145": {
      "model_module": "@jupyter-widgets/base",
      "model_module_version": "1.2.0",
      "model_name": "LayoutModel",
      "state": {}
     },
     "a3a4ebc2f7124400a910a1985abddd7e": {
      "model_module": "@jupyter-widgets/controls",
      "model_module_version": "1.5.0",
      "model_name": "LabelModel",
      "state": {
       "layout": "IPY_MODEL_e0f2d5b603d44c8c86c12608035e911c",
       "style": "IPY_MODEL_491dbc06959d4918b9ff2fa778cc9b24",
       "value": "No topography"
      }
     },
     "a3ec1926b6c5411db5540342cf6eef39": {
      "model_module": "@jupyter-widgets/base",
      "model_module_version": "1.2.0",
      "model_name": "LayoutModel",
      "state": {}
     },
     "a3f0309ccc324e3890b6e531446f47b4": {
      "model_module": "@jupyter-widgets/base",
      "model_module_version": "1.2.0",
      "model_name": "LayoutModel",
      "state": {}
     },
     "a51efac2dfdf4b87b9a0fef275f7bcd2": {
      "model_module": "@jupyter-widgets/controls",
      "model_module_version": "1.5.0",
      "model_name": "ButtonModel",
      "state": {
       "description": "Cancel",
       "layout": "IPY_MODEL_7d2a883b20db4949b042013052c07f09",
       "style": "IPY_MODEL_6f844192d25b45ccb1e478fc5fbd69f6"
      }
     },
     "a546602e93764155a3b217ab02f4e229": {
      "model_module": "@jupyter-widgets/base",
      "model_module_version": "1.2.0",
      "model_name": "LayoutModel",
      "state": {}
     },
     "a583ee5f17fe49bc80d1a5125aacba18": {
      "model_module": "@jupyter-widgets/controls",
      "model_module_version": "1.5.0",
      "model_name": "VBoxModel",
      "state": {
       "children": [
        "IPY_MODEL_5aeba23002234470872e8449e8caf6f5",
        "IPY_MODEL_14add60fbd1c4f388f46bd9258dce4a0",
        "IPY_MODEL_040809c36117429193b495e325e552bb"
       ],
       "layout": "IPY_MODEL_81d820b2b24b4b49b814eb5d39174f7a"
      }
     },
     "a5c7eb89385148b5aa3b025fadba6507": {
      "model_module": "@jupyter-widgets/controls",
      "model_module_version": "1.5.0",
      "model_name": "ButtonModel",
      "state": {
       "description": "Create copy:",
       "layout": "IPY_MODEL_c3a384ca521a4b13bcd898886241fcdd",
       "style": "IPY_MODEL_0c7a56f0b05b49f0bcdc6656681246ea"
      }
     },
     "a5de1d6c83274b5094c009a9d279497d": {
      "model_module": "@jupyter-widgets/base",
      "model_module_version": "1.2.0",
      "model_name": "LayoutModel",
      "state": {}
     },
     "a658f500ce25486babef9c3b10d1e4d9": {
      "model_module": "@jupyter-widgets/base",
      "model_module_version": "1.2.0",
      "model_name": "LayoutModel",
      "state": {
       "grid_area": "pathlist",
       "width": "auto"
      }
     },
     "a67bbe63bd15458383390f2ec1b0ec6b": {
      "model_module": "@jupyter-widgets/controls",
      "model_module_version": "1.5.0",
      "model_name": "TextModel",
      "state": {
       "description": "bxy",
       "layout": "IPY_MODEL_98007fdc7bdb4a4c99a907fe0181b3dd",
       "style": "IPY_MODEL_0ca6d822a6e7449797a4527f769b7b1a"
      }
     },
     "a68b69c99a70470bbd83fd371334e4c5": {
      "model_module": "@jupyter-widgets/base",
      "model_module_version": "1.2.0",
      "model_name": "LayoutModel",
      "state": {}
     },
     "a6a3bb92220e4d44aea140198bff92af": {
      "model_module": "@jupyter-widgets/base",
      "model_module_version": "1.2.0",
      "model_name": "LayoutModel",
      "state": {
       "width": "auto"
      }
     },
     "a6a411f0d8174f46b7ccd02667e20c67": {
      "model_module": "@jupyter-widgets/controls",
      "model_module_version": "1.5.0",
      "model_name": "HTMLModel",
      "state": {
       "layout": "IPY_MODEL_e33c6f2438cf4e748f766848bccdf878",
       "placeholder": "",
       "style": "IPY_MODEL_924b745b62254dc1a514e3f8d964496c",
       "value": "<span style=\"margin-left:10px; color:black;\">No file selected</span>"
      }
     },
     "a6b99f39a5e441298f36ec6f288e270a": {
      "model_module": "@jupyter-widgets/controls",
      "model_module_version": "1.5.0",
      "model_name": "DescriptionStyleModel",
      "state": {
       "description_width": "initial"
      }
     },
     "a6cfe7a554c04782a048b16548cc1a8a": {
      "model_module": "@jupyter-widgets/controls",
      "model_module_version": "1.5.0",
      "model_name": "DescriptionStyleModel",
      "state": {
       "description_width": ""
      }
     },
     "a6eb07c1adc846be8cb54c5515ca9c91": {
      "model_module": "@jupyter-widgets/controls",
      "model_module_version": "1.5.0",
      "model_name": "SelectModel",
      "state": {
       "_options_labels": [
        "..",
        "dask-worker-space",
        "images"
       ],
       "index": null,
       "layout": "IPY_MODEL_5083005406704c518c2fe4f1570a385a",
       "rows": 8,
       "style": "IPY_MODEL_9dc61337f4e94e42a7336206fa8254e0"
      }
     },
     "a6ef4e87142c4e599eb2533290268e8c": {
      "model_module": "@jupyter-widgets/controls",
      "model_module_version": "1.5.0",
      "model_name": "FloatTextModel",
      "state": {
       "description": "phi_d/phi_m",
       "layout": "IPY_MODEL_f492dfe0330c4023bd69fea4346a3a89",
       "step": null,
       "style": "IPY_MODEL_65822fc17ca543a883f515024eda6111",
       "value": 100
      }
     },
     "a7062c9c111f43ed9133778fd0717979": {
      "model_module": "@jupyter-widgets/base",
      "model_module_version": "1.2.0",
      "model_name": "LayoutModel",
      "state": {}
     },
     "a725fe7acaf347a8b6c87dc49b2d4684": {
      "model_module": "@jupyter-widgets/base",
      "model_module_version": "1.2.0",
      "model_name": "LayoutModel",
      "state": {}
     },
     "a75383f9239a4dbfb424898369b50839": {
      "model_module": "@jupyter-widgets/base",
      "model_module_version": "1.2.0",
      "model_name": "LayoutModel",
      "state": {}
     },
     "a75bd0a98fcb492a88ce5feb9a32e0f9": {
      "model_module": "@jupyter-widgets/controls",
      "model_module_version": "1.5.0",
      "model_name": "VBoxModel",
      "state": {
       "children": [
        "IPY_MODEL_3a7f36ab90154f1099af3944cff53345",
        "IPY_MODEL_ab1f30a68eaf40bbb65cab624fea5848"
       ],
       "layout": "IPY_MODEL_8418d56789a64d3a87e5071c968713c9"
      }
     },
     "a76e8cd91ac840ed85cc201ab8dbcaf3": {
      "model_module": "@jupyter-widgets/base",
      "model_module_version": "1.2.0",
      "model_name": "LayoutModel",
      "state": {}
     },
     "a822e5c405c848fb9c3e3ff51b58609f": {
      "model_module": "@jupyter-widgets/base",
      "model_module_version": "1.2.0",
      "model_name": "LayoutModel",
      "state": {}
     },
     "a844bfe31d3043eda175e831ed6ec47a": {
      "model_module": "@jupyter-widgets/base",
      "model_module_version": "1.2.0",
      "model_name": "LayoutModel",
      "state": {}
     },
     "a84da0e466e941b79161b48b0a058786": {
      "model_module": "@jupyter-widgets/controls",
      "model_module_version": "1.5.0",
      "model_name": "LabelModel",
      "state": {
       "layout": "IPY_MODEL_a9c52d1d3f784d84a43467a94cccfe5e",
       "style": "IPY_MODEL_9bb6f63b1a4d4e9d9dda2855f4363b0c",
       "value": "Monitoring folder"
      }
     },
     "a8823f882b624ed3837a1d126823fe8e": {
      "model_module": "@jupyter-widgets/controls",
      "model_module_version": "1.5.0",
      "model_name": "TextModel",
      "state": {
       "description": "Offsets (x,y,z)",
       "layout": "IPY_MODEL_ecca42b58caa45609c501d2782aa0c05",
       "style": "IPY_MODEL_66c9a11156474eea8d2cf9b642382ccb",
       "value": "0, 0, 0"
      }
     },
     "a8c4f6df892d4a9c89a836b7bac872a2": {
      "model_module": "@jupyter-widgets/controls",
      "model_module_version": "1.5.0",
      "model_name": "TextModel",
      "state": {
       "layout": "IPY_MODEL_c66164c58b55483c8058f75ea050c47c",
       "placeholder": "output filename",
       "style": "IPY_MODEL_8a024ae851204a98a574650b531daab6"
      }
     },
     "a912d6b593694b1dbcc078c18994656d": {
      "model_module": "@jupyter-widgets/base",
      "model_module_version": "1.2.0",
      "model_name": "LayoutModel",
      "state": {}
     },
     "a961a2121dc74a199e8edf4c5cb7069d": {
      "model_module": "@jupyter-widgets/controls",
      "model_module_version": "1.5.0",
      "model_name": "DescriptionStyleModel",
      "state": {
       "description_width": ""
      }
     },
     "a9795a816e14482ab4e3bb0c56930652": {
      "model_module": "@jupyter-widgets/base",
      "model_module_version": "1.2.0",
      "model_name": "LayoutModel",
      "state": {}
     },
     "a9c52d1d3f784d84a43467a94cccfe5e": {
      "model_module": "@jupyter-widgets/base",
      "model_module_version": "1.2.0",
      "model_name": "LayoutModel",
      "state": {}
     },
     "a9e879e10b164c41b050b1ce58609b09": {
      "model_module": "@jupyter-widgets/controls",
      "model_module_version": "1.5.0",
      "model_name": "DescriptionStyleModel",
      "state": {
       "description_width": ""
      }
     },
     "a9f002d59201428eb9376e0a7d16be76": {
      "model_module": "@jupyter-widgets/base",
      "model_module_version": "1.2.0",
      "model_name": "LayoutModel",
      "state": {}
     },
     "aa1798af6de1497eb3e238b9c1d6baec": {
      "model_module": "@jupyter-widgets/base",
      "model_module_version": "1.2.0",
      "model_name": "LayoutModel",
      "state": {
       "grid_area": "filename",
       "width": "auto"
      }
     },
     "aa1c589bcfed4c1786f08d5be2d8ffaf": {
      "model_module": "@jupyter-widgets/controls",
      "model_module_version": "1.5.0",
      "model_name": "VBoxModel",
      "state": {
       "children": [
        "IPY_MODEL_a257488bc2da4232ae7d0428eb93d25d",
        "IPY_MODEL_746830e1f92845bda261220c911741de"
       ],
       "layout": "IPY_MODEL_390fd089ca804f9bafbf2fde74af2f7f"
      }
     },
     "aa5b52ad1805450b970e0f3aaf246461": {
      "model_module": "@jupyter-widgets/base",
      "model_module_version": "1.2.0",
      "model_name": "LayoutModel",
      "state": {}
     },
     "ab1f30a68eaf40bbb65cab624fea5848": {
      "model_module": "@jupyter-widgets/controls",
      "model_module_version": "1.5.0",
      "model_name": "SelectMultipleModel",
      "state": {
       "_options_labels": [
        "",
        "--- Channels ---",
        "Airborne_Gxx",
        "Airborne_Gxy",
        "Airborne_Gxz",
        "Airborne_Gyy",
        "Airborne_Gyz",
        "Airborne_Gz",
        "Airborne_Gzz",
        "Airborne_TMI",
        "Ground_Gz",
        "Z"
       ],
       "description": "Data: ",
       "index": [
        9
       ],
       "layout": "IPY_MODEL_3e9892facc74455b9774e9d12d46637c",
       "rows": 5,
       "style": "IPY_MODEL_f92111c2f6a74335bd18ce203da2ab9f"
      }
     },
     "ab9c39c19e89474fbac39ea95565966f": {
      "model_module": "@jupyter-widgets/controls",
      "model_module_version": "1.5.0",
      "model_name": "HTMLModel",
      "state": {
       "layout": "IPY_MODEL_6b8f1d09b90e47369af3974d701352ca",
       "style": "IPY_MODEL_63708cf2c04644a893a8f6388e957953"
      }
     },
     "abf369d0e9c34c8d88743a28fb5b5ce0": {
      "model_module": "@jupyter-widgets/controls",
      "model_module_version": "1.5.0",
      "model_name": "DescriptionStyleModel",
      "state": {
       "description_width": ""
      }
     },
     "ac30df07bee741cbacf29279034ecb7c": {
      "model_module": "@jupyter-widgets/base",
      "model_module_version": "1.2.0",
      "model_name": "LayoutModel",
      "state": {
       "display": "none"
      }
     },
     "ac9187905b2143e8b213ccb3b697df92": {
      "model_module": "@jupyter-widgets/base",
      "model_module_version": "1.2.0",
      "model_name": "LayoutModel",
      "state": {}
     },
     "acba46f1e46d46e6b9c957852292ef2b": {
      "model_module": "@jupyter-widgets/controls",
      "model_module_version": "1.5.0",
      "model_name": "DescriptionStyleModel",
      "state": {
       "description_width": ""
      }
     },
     "acbac81341c54fa28b6cf5b030c39f6b": {
      "model_module": "@jupyter-widgets/controls",
      "model_module_version": "1.5.0",
      "model_name": "ButtonStyleModel",
      "state": {}
     },
     "ad844d6859e94738acd124ab7b6dbce4": {
      "model_module": "@jupyter-widgets/base",
      "model_module_version": "1.2.0",
      "model_name": "LayoutModel",
      "state": {
       "display": "none"
      }
     },
     "ae22b3afe6f94c51ad2ae80d3c93c9fa": {
      "model_module": "@jupyter-widgets/controls",
      "model_module_version": "1.5.0",
      "model_name": "DescriptionStyleModel",
      "state": {
       "description_width": ""
      }
     },
     "ae351a0c03cf4e7b92a1efce36b9a8c7": {
      "model_module": "@jupyter-widgets/controls",
      "model_module_version": "1.5.0",
      "model_name": "RadioButtonsModel",
      "state": {
       "_options_labels": [
        "sensor location + (dx, dy, dz)",
        "topo + radar + (dx, dy, dz)"
       ],
       "description": "Define by:",
       "index": 1,
       "layout": "IPY_MODEL_0ae9116f2e784a4589504f1755327d54",
       "style": "IPY_MODEL_bbdcede4cd6548b99c20efe4efcf72b7"
      }
     },
     "ae412b15a28b4203838debc8397faf76": {
      "model_module": "@jupyter-widgets/controls",
      "model_module_version": "1.5.0",
      "model_name": "HTMLModel",
      "state": {
       "layout": "IPY_MODEL_e06fa298385c4ed9baf6f4bbfd2c656d",
       "style": "IPY_MODEL_35102568fad648e3945e80321dd85f6b"
      }
     },
     "ae6cfe4de28347fa9d5af4b92940b9a1": {
      "model_module": "@jupyter-widgets/controls",
      "model_module_version": "1.5.0",
      "model_name": "HTMLModel",
      "state": {
       "layout": "IPY_MODEL_5fed0704f6354d018052b93e4095da5c",
       "style": "IPY_MODEL_ae22b3afe6f94c51ad2ae80d3c93c9fa"
      }
     },
     "aed698a321ff4ee3831be43d5220abea": {
      "model_module": "@jupyter-widgets/controls",
      "model_module_version": "1.5.0",
      "model_name": "HBoxModel",
      "state": {
       "children": [
        "IPY_MODEL_f7b969f030864b5db9299243d7014eda",
        "IPY_MODEL_cb717fdac7994485ac137480196f087c",
        "IPY_MODEL_93ab16b8b8644a5387e8c3c0ae97922e"
       ],
       "layout": "IPY_MODEL_f2758eee70ff444195ac09ae65b8119b"
      }
     },
     "afb0097b94994b5591e50e1d21cc12a6": {
      "model_module": "@jupyter-widgets/base",
      "model_module_version": "1.2.0",
      "model_name": "LayoutModel",
      "state": {
       "display": "none"
      }
     },
     "b005caae3cd0475d9ee8b8d9c2fafa23": {
      "model_module": "@jupyter-widgets/controls",
      "model_module_version": "1.5.0",
      "model_name": "DescriptionStyleModel",
      "state": {
       "description_width": ""
      }
     },
     "b100db2b4f2e4d9899bafe73db9affb1": {
      "model_module": "@jupyter-widgets/controls",
      "model_module_version": "1.5.0",
      "model_name": "DescriptionStyleModel",
      "state": {
       "description_width": ""
      }
     },
     "b170651ea30d4ea99e1717900d9ca41e": {
      "model_module": "@jupyter-widgets/controls",
      "model_module_version": "1.5.0",
      "model_name": "ButtonModel",
      "state": {
       "description": "Create copy:",
       "layout": "IPY_MODEL_9585982ba4f948dc888631ae6cced9d3",
       "style": "IPY_MODEL_94d66bf8883e48e693a257d5d817efb1"
      }
     },
     "b1815de4484d47e8871c3dbba7cf85ae": {
      "model_module": "@jupyter-widgets/controls",
      "model_module_version": "1.5.0",
      "model_name": "LabelModel",
      "state": {
       "layout": "IPY_MODEL_b7ee4e53c4764648bcf955d6d3cb0ee1",
       "style": "IPY_MODEL_42027dca1458489fa04d3dfcde8e7dba",
       "value": "Starting effective susceptibility"
      }
     },
     "b1b27ad850514cd3bab2ed8e3922aaba": {
      "model_module": "@jupyter-widgets/controls",
      "model_module_version": "1.5.0",
      "model_name": "DescriptionStyleModel",
      "state": {
       "description_width": "initial"
      }
     },
     "b1d8e3b1401e4183a8087144942e551c": {
      "model_module": "@jupyter-widgets/controls",
      "model_module_version": "1.5.0",
      "model_name": "TextModel",
      "state": {
       "disabled": true,
       "layout": "IPY_MODEL_6116091bab8e4995a2df30389a9cd81c",
       "placeholder": "output filename",
       "style": "IPY_MODEL_64211187250b47d3813a3cb3fc65c2f8"
      }
     },
     "b1e5f22c52e846fc884fbe010aef52fc": {
      "model_module": "@jupyter-widgets/base",
      "model_module_version": "1.2.0",
      "model_name": "LayoutModel",
      "state": {}
     },
     "b2142178f34946778b099ddf1904c8f8": {
      "model_module": "@jupyter-widgets/base",
      "model_module_version": "1.2.0",
      "model_name": "LayoutModel",
      "state": {
       "width": "auto"
      }
     },
     "b247bb4002754624b2057ce712d5a9ba": {
      "model_module": "@jupyter-widgets/controls",
      "model_module_version": "1.5.0",
      "model_name": "DescriptionStyleModel",
      "state": {
       "description_width": ""
      }
     },
     "b24f0a9177924efd81122373a02fffd9": {
      "model_module": "@jupyter-widgets/base",
      "model_module_version": "1.2.0",
      "model_name": "LayoutModel",
      "state": {}
     },
     "b2627366bda2489da633a1e7d3491512": {
      "model_module": "@jupyter-widgets/controls",
      "model_module_version": "1.5.0",
      "model_name": "DescriptionStyleModel",
      "state": {
       "description_width": ""
      }
     },
     "b2634bdd78fd418b8d39f129bbe0abdc": {
      "model_module": "@jupyter-widgets/base",
      "model_module_version": "1.2.0",
      "model_name": "LayoutModel",
      "state": {}
     },
     "b29f7b3a5ca44a7ca6babb6f1911fe4f": {
      "model_module": "@jupyter-widgets/controls",
      "model_module_version": "1.5.0",
      "model_name": "VBoxModel",
      "state": {
       "children": [
        "IPY_MODEL_3ec853f4f25940078fa11d3b974a64c2",
        "IPY_MODEL_e981bb0208484de4a3f9a8b1deb05736"
       ],
       "layout": "IPY_MODEL_b42c50ec8f6a42fdb3242751944774d8"
      }
     },
     "b29fa8e542054783b9e990c3f88b5333": {
      "model_module": "@jupyter-widgets/base",
      "model_module_version": "1.2.0",
      "model_name": "LayoutModel",
      "state": {}
     },
     "b3eb2b7fd1e048c6ad4c26eff6925180": {
      "model_module": "@jupyter-widgets/controls",
      "model_module_version": "1.5.0",
      "model_name": "DescriptionStyleModel",
      "state": {
       "description_width": ""
      }
     },
     "b3f365ba1b52446c9f12fa9fdb81adb6": {
      "model_module": "@jupyter-widgets/base",
      "model_module_version": "1.2.0",
      "model_name": "LayoutModel",
      "state": {}
     },
     "b411759153f94514b3fde8deb59e2e9d": {
      "model_module": "@jupyter-widgets/controls",
      "model_module_version": "1.5.0",
      "model_name": "TextModel",
      "state": {
       "description": "Layers below data",
       "layout": "IPY_MODEL_bf53afa7f6b641abb87977dae836739b",
       "style": "IPY_MODEL_e7834474abad4cc3baeab66f77302818",
       "value": "5, 5, 5, 5"
      }
     },
     "b4256c4eb0714b48bd7c551003e0b6c0": {
      "model_module": "@jupyter-widgets/controls",
      "model_module_version": "1.5.0",
      "model_name": "DropdownModel",
      "state": {
       "_options_labels": [
        "C:\\Users\\dominiquef\\Documents\\GIT\\mira\\mirageoscience-apps\\docs\\content\\applications",
        "C:\\Users\\dominiquef\\Documents\\GIT\\mira\\mirageoscience-apps\\docs\\content",
        "C:\\Users\\dominiquef\\Documents\\GIT\\mira\\mirageoscience-apps\\docs",
        "C:\\Users\\dominiquef\\Documents\\GIT\\mira\\mirageoscience-apps",
        "C:\\Users\\dominiquef\\Documents\\GIT\\mira",
        "C:\\Users\\dominiquef\\Documents\\GIT",
        "C:\\Users\\dominiquef\\Documents",
        "C:\\Users\\dominiquef",
        "C:\\Users",
        "C:\\",
        "D:\\",
        "Z:\\"
       ],
       "index": 0,
       "layout": "IPY_MODEL_352fc57442f2405ab31caf50ec3cd2d5",
       "style": "IPY_MODEL_248ad9123223463991c398534eac4952"
      }
     },
     "b42c50ec8f6a42fdb3242751944774d8": {
      "model_module": "@jupyter-widgets/base",
      "model_module_version": "1.2.0",
      "model_name": "LayoutModel",
      "state": {}
     },
     "b447adee005540b8a78a1c137e713004": {
      "model_module": "@jupyter-widgets/controls",
      "model_module_version": "1.5.0",
      "model_name": "VBoxModel",
      "state": {
       "children": [
        "IPY_MODEL_6f563d05dd3d473091d3d2942c44179f",
        "IPY_MODEL_3ddc86fba7f74b86a0bb89de4256a741"
       ],
       "layout": "IPY_MODEL_ea5f1fc208964f9889e81647625cad47"
      }
     },
     "b465bbc32a324369a54ad26b86734601": {
      "model_module": "@jupyter-widgets/controls",
      "model_module_version": "1.5.0",
      "model_name": "GridBoxModel",
      "state": {
       "children": [
        "IPY_MODEL_f30fadc194e44959a07cc930753ca007",
        "IPY_MODEL_9946aad072224a199261dc81b950e66b",
        "IPY_MODEL_7df92364a43c4504b17fa4645e4ca640"
       ],
       "layout": "IPY_MODEL_b92669765d334663889e9f79f65dfa4b"
      }
     },
     "b472676d75c642998fe97a3f643bd5b5": {
      "model_module": "@jupyter-widgets/controls",
      "model_module_version": "1.5.0",
      "model_name": "DescriptionStyleModel",
      "state": {
       "description_width": "initial"
      }
     },
     "b4ae7596460544a18133cf609f470b98": {
      "model_module": "@jupyter-widgets/base",
      "model_module_version": "1.2.0",
      "model_name": "LayoutModel",
      "state": {}
     },
     "b4e373f8a12442df94d30b19e461f346": {
      "model_module": "@jupyter-widgets/controls",
      "model_module_version": "1.5.0",
      "model_name": "DescriptionStyleModel",
      "state": {
       "description_width": ""
      }
     },
     "b5831a4345354ab9bbda834e8e7c8c7f": {
      "model_module": "@jupyter-widgets/controls",
      "model_module_version": "1.5.0",
      "model_name": "DescriptionStyleModel",
      "state": {
       "description_width": ""
      }
     },
     "b5bcb31650e44eba859ff0f2147187d5": {
      "model_module": "@jupyter-widgets/controls",
      "model_module_version": "1.5.0",
      "model_name": "IntTextModel",
      "state": {
       "description": "Max CPUs",
       "layout": "IPY_MODEL_a3ec1926b6c5411db5540342cf6eef39",
       "step": 1,
       "style": "IPY_MODEL_8fec24dfc4fa4014ac4a736e56f30377",
       "value": 6
      }
     },
     "b6541c7eca024060bd992d556dc7e916": {
      "model_module": "@jupyter-widgets/base",
      "model_module_version": "1.2.0",
      "model_name": "LayoutModel",
      "state": {
       "display": "none",
       "width": "auto"
      }
     },
     "b6a5bb28f0ce46898dfb344e9dd62a6c": {
      "model_module": "@jupyter-widgets/base",
      "model_module_version": "1.2.0",
      "model_name": "LayoutModel",
      "state": {
       "align_items": "center"
      }
     },
     "b72ce404b80645b6810c7f3bdd58d2c7": {
      "model_module": "@jupyter-widgets/base",
      "model_module_version": "1.2.0",
      "model_name": "LayoutModel",
      "state": {}
     },
     "b73ab68fa7cd4302a311a5773d1109bd": {
      "model_module": "@jupyter-widgets/controls",
      "model_module_version": "1.5.0",
      "model_name": "TextModel",
      "state": {
       "continuous_update": false,
       "description": "Group:",
       "layout": "IPY_MODEL_18a66ba959124367a3cd334d7176d5e7",
       "style": "IPY_MODEL_e5a71b7b59f64f2ca0c9119615ed540d"
      }
     },
     "b7682584a2454ecfb76083c5f26832b1": {
      "model_module": "@jupyter-widgets/base",
      "model_module_version": "1.2.0",
      "model_name": "LayoutModel",
      "state": {
       "grid_area": "dircontent",
       "width": "auto"
      }
     },
     "b7c72a34682749fdb9684bd76dce81f8": {
      "model_module": "@jupyter-widgets/base",
      "model_module_version": "1.2.0",
      "model_name": "LayoutModel",
      "state": {
       "visibility": "hidden"
      }
     },
     "b7dc92d24a434a8db15fc953268366d2": {
      "model_module": "@jupyter-widgets/base",
      "model_module_version": "1.2.0",
      "model_name": "LayoutModel",
      "state": {
       "grid_area": "dircontent",
       "width": "auto"
      }
     },
     "b7ee4e53c4764648bcf955d6d3cb0ee1": {
      "model_module": "@jupyter-widgets/base",
      "model_module_version": "1.2.0",
      "model_name": "LayoutModel",
      "state": {}
     },
     "b84bd51b257e46c0b232cfe95853816a": {
      "model_module": "@jupyter-widgets/base",
      "model_module_version": "1.2.0",
      "model_name": "LayoutModel",
      "state": {
       "width": "auto"
      }
     },
     "b86c5e8514454c0fb98f6e526e5a7c04": {
      "model_module": "@jupyter-widgets/controls",
      "model_module_version": "1.5.0",
      "model_name": "TextModel",
      "state": {
       "description": "Error (%, floor)",
       "layout": "IPY_MODEL_8f2633662a06469dadb654609eae2efb",
       "style": "IPY_MODEL_227192c36aa94785bd5c8856eefb7482",
       "value": "0, 1"
      }
     },
     "b90700d01fe94e829405bbf04993abbb": {
      "model_module": "@jupyter-widgets/controls",
      "model_module_version": "1.5.0",
      "model_name": "DescriptionStyleModel",
      "state": {
       "description_width": ""
      }
     },
     "b90878059e964c0cab161536b432b2e4": {
      "model_module": "@jupyter-widgets/controls",
      "model_module_version": "1.5.0",
      "model_name": "ButtonModel",
      "state": {
       "description": "Cancel",
       "layout": "IPY_MODEL_a0e7c71b46c74a2b9f611137711ca7f9",
       "style": "IPY_MODEL_055e8b029394445880de64ef12faac1d"
      }
     },
     "b91de549616245979ce75c1bbc1f0dfc": {
      "model_module": "@jupyter-widgets/controls",
      "model_module_version": "1.5.0",
      "model_name": "VBoxModel",
      "state": {
       "children": [
        "IPY_MODEL_175294d83da946e792b1552dcb011d81",
        "IPY_MODEL_ebcc70cbb9e64675aac6d54ec333a81c",
        "IPY_MODEL_de692f00982f493a8ba0812a691ac7ac"
       ],
       "layout": "IPY_MODEL_50c497543ec6427eaadcb18732445963"
      }
     },
     "b92669765d334663889e9f79f65dfa4b": {
      "model_module": "@jupyter-widgets/base",
      "model_module_version": "1.2.0",
      "model_name": "LayoutModel",
      "state": {
       "display": "none",
       "grid_gap": "0px 0px",
       "grid_template_areas": "\n                    'pathlist filename'\n                    'dircontent dircontent'\n                    ",
       "grid_template_columns": "60% 40%",
       "grid_template_rows": "auto auto",
       "width": "500px"
      }
     },
     "b953720f02914b4ba418e78cae7f835d": {
      "model_module": "@jupyter-widgets/controls",
      "model_module_version": "1.5.0",
      "model_name": "DescriptionStyleModel",
      "state": {
       "description_width": ""
      }
     },
     "b97d09212d8747698a9934d452c2bb58": {
      "model_module": "@jupyter-widgets/controls",
      "model_module_version": "1.5.0",
      "model_name": "VBoxModel",
      "state": {
       "children": [
        "IPY_MODEL_7419c9853908494c9edbb50c30be2f55",
        "IPY_MODEL_44f6d3dd74db46a9848b1fc1c146f54c"
       ],
       "layout": "IPY_MODEL_6ad1e38c261e4efdaad342a1056fd959"
      }
     },
     "b9cdf025243e408da8dc55a00c77c164": {
      "model_module": "@jupyter-widgets/controls",
      "model_module_version": "1.5.0",
      "model_name": "VBoxModel",
      "state": {
       "children": [
        "IPY_MODEL_796043d07f7f47118d57127d68fd84e3",
        "IPY_MODEL_cfdfa7b50e1548a2bc7429965f59cf71"
       ],
       "layout": "IPY_MODEL_0159a26510d4481ea2df29db0f4e18db"
      }
     },
     "b9de3dd02580461face75a552e1c66bc": {
      "model_module": "@jupyter-widgets/controls",
      "model_module_version": "1.5.0",
      "model_name": "ButtonModel",
      "state": {
       "description": "Create copy:",
       "layout": "IPY_MODEL_7a2f52035a0044afb6d91fe15f0e9690",
       "style": "IPY_MODEL_371cf54f68b844f6a040862481e4a390"
      }
     },
     "ba99bf7a95ff4ff5aa7b967060b3de55": {
      "model_module": "@jupyter-widgets/controls",
      "model_module_version": "1.5.0",
      "model_name": "VBoxModel",
      "state": {
       "children": [
        "IPY_MODEL_c9634b2d67cc426d93d79ed4d544bfa1",
        "IPY_MODEL_cc8c3af96c7c499482666dd9b41805b1"
       ],
       "layout": "IPY_MODEL_f6375df0631d42eaa3d1324596d2384b"
      }
     },
     "bacb5658b86442b8a34c2f6a6896fce7": {
      "model_module": "@jupyter-widgets/controls",
      "model_module_version": "1.5.0",
      "model_name": "DescriptionStyleModel",
      "state": {
       "description_width": ""
      }
     },
     "badb3854e99240408f153cd08401ab62": {
      "model_module": "@jupyter-widgets/base",
      "model_module_version": "1.2.0",
      "model_name": "LayoutModel",
      "state": {
       "display": "none",
       "width": "auto"
      }
     },
     "baf77c03bede4667a74808d6c731ce2c": {
      "model_module": "@jupyter-widgets/controls",
      "model_module_version": "1.5.0",
      "model_name": "TextModel",
      "state": {
       "continuous_update": false,
       "description": "Group:",
       "layout": "IPY_MODEL_52b3935aa2ca453a94fbe41d2ba76f53",
       "style": "IPY_MODEL_67262902a9be497bb93374a69b574d9b"
      }
     },
     "bafecdf87055498ab592e33a67285156": {
      "model_module": "@jupyter-widgets/base",
      "model_module_version": "1.2.0",
      "model_name": "LayoutModel",
      "state": {
       "visibility": "hidden"
      }
     },
     "bb405a777c2d4cf885fc9f0415ab2019": {
      "model_module": "@jupyter-widgets/controls",
      "model_module_version": "1.5.0",
      "model_name": "VBoxModel",
      "state": {
       "children": [
        "IPY_MODEL_ead620fa9331409a8314d8a17ffe0ea5",
        "IPY_MODEL_dae460353c804597ad5d7a7b3acaea81"
       ],
       "layout": "IPY_MODEL_9c0ae7c737594b76b52aa0120111cf30"
      }
     },
     "bb9509d54a7f4017820293161ef9e73e": {
      "model_module": "@jupyter-widgets/controls",
      "model_module_version": "1.5.0",
      "model_name": "ButtonStyleModel",
      "state": {}
     },
     "bbdcede4cd6548b99c20efe4efcf72b7": {
      "model_module": "@jupyter-widgets/controls",
      "model_module_version": "1.5.0",
      "model_name": "DescriptionStyleModel",
      "state": {
       "description_width": "initial"
      }
     },
     "bbf91c920cdd4fa989f9a8f930f49125": {
      "model_module": "@jupyter-widgets/controls",
      "model_module_version": "1.5.0",
      "model_name": "DescriptionStyleModel",
      "state": {
       "description_width": ""
      }
     },
     "bc09ed4fee764b4784720b9c76f9dd2e": {
      "model_module": "@jupyter-widgets/base",
      "model_module_version": "1.2.0",
      "model_name": "LayoutModel",
      "state": {}
     },
     "bc17238b58594bf190df37ca6d61b137": {
      "model_module": "@jupyter-widgets/base",
      "model_module_version": "1.2.0",
      "model_name": "LayoutModel",
      "state": {}
     },
     "bc53cede522d451889399c131bdeac9e": {
      "model_module": "@jupyter-widgets/controls",
      "model_module_version": "1.5.0",
      "model_name": "TextModel",
      "state": {
       "description": "Smallest cells",
       "layout": "IPY_MODEL_67ca92986f8c4158a93bc32c35944993",
       "style": "IPY_MODEL_d38100de8e5f4d9eaffa2efb01318b73",
       "value": "25, 25, 25"
      }
     },
     "bc66f866afd641e2ac03dd5d1621a0e1": {
      "model_module": "@jupyter-widgets/controls",
      "model_module_version": "1.5.0",
      "model_name": "VBoxModel",
      "state": {
       "children": [
        "IPY_MODEL_09bdbb92c1a045a0a17860319c0ef831"
       ],
       "layout": "IPY_MODEL_f5d876677e1748d4b008812e427213a0"
      }
     },
     "bc739bef8dab4eca8d6f30daedefc026": {
      "model_module": "@jupyter-widgets/controls",
      "model_module_version": "1.5.0",
      "model_name": "DescriptionStyleModel",
      "state": {
       "description_width": "initial"
      }
     },
     "bc75f4ac7cc64ad08b2d1b7f467d84f9": {
      "model_module": "@jupyter-widgets/controls",
      "model_module_version": "1.5.0",
      "model_name": "DescriptionStyleModel",
      "state": {
       "description_width": ""
      }
     },
     "bcc539742d584ab0b1d756532918a435": {
      "model_module": "@jupyter-widgets/controls",
      "model_module_version": "1.5.0",
      "model_name": "DropdownModel",
      "state": {
       "_options_labels": [
        "",
        "--- Channels ---",
        "Airborne_Gxx",
        "Airborne_Gxy",
        "Airborne_Gxz",
        "Airborne_Gyy",
        "Airborne_Gyz",
        "Airborne_Gz",
        "Airborne_Gzz",
        "Airborne_TMI",
        "Ground_Gz",
        "Z"
       ],
       "description": "Channel <=> Data:",
       "index": 11,
       "layout": "IPY_MODEL_54745696388c459fa2b88a17c1e1c44f",
       "style": "IPY_MODEL_c0162fdd072a4e3eae085eaf9852e13b"
      }
     },
     "bcd6785df45f463cbbb73f9928fb7d32": {
      "model_module": "@jupyter-widgets/base",
      "model_module_version": "1.2.0",
      "model_name": "LayoutModel",
      "state": {
       "display": "none",
       "grid_gap": "0px 0px",
       "grid_template_areas": "\n                    'pathlist pathlist'\n                    'dircontent dircontent'\n                    ",
       "grid_template_columns": "60% 40%",
       "grid_template_rows": "auto auto",
       "width": "500px"
      }
     },
     "bd5af849c7b34b9ca11fa96e15e5d4c6": {
      "model_module": "@jupyter-widgets/controls",
      "model_module_version": "1.5.0",
      "model_name": "HTMLModel",
      "state": {
       "layout": "IPY_MODEL_8e539f4db14744f8986b2ff8c142ef01",
       "placeholder": "",
       "style": "IPY_MODEL_81ec4255ed7345549b8418502a5b11bb",
       "value": "<span style=\"margin-left:10px; color:green;\">C:\\Users\\dominiquef\\Documents\\GIT\\mira\\mirageoscience-apps\\assets\\</span>"
      }
     },
     "bdfa947aa6a0418997cc9980cb825627": {
      "model_module": "@jupyter-widgets/base",
      "model_module_version": "1.2.0",
      "model_name": "LayoutModel",
      "state": {
       "display": "none",
       "grid_gap": "0px 0px",
       "grid_template_areas": "\n                    'pathlist pathlist'\n                    'dircontent dircontent'\n                    ",
       "grid_template_columns": "60% 40%",
       "grid_template_rows": "auto auto",
       "width": "500px"
      }
     },
     "be32061919c64677895690001968ed8f": {
      "model_module": "@jupyter-widgets/controls",
      "model_module_version": "1.5.0",
      "model_name": "HTMLModel",
      "state": {
       "layout": "IPY_MODEL_3ee598e56dd440e1917c2f688e616996",
       "placeholder": "",
       "style": "IPY_MODEL_7b952d71928844ac8c69b6e8e069c4f1",
       "value": "<span style=\"margin-left:10px; color:black;\">No file selected</span>"
      }
     },
     "be8a67612e1d4faf9d161bc34cbd2018": {
      "model_module": "@jupyter-widgets/base",
      "model_module_version": "1.2.0",
      "model_name": "LayoutModel",
      "state": {}
     },
     "bea9e7a4633045969cb34bf176b2781b": {
      "model_module": "@jupyter-widgets/controls",
      "model_module_version": "1.5.0",
      "model_name": "ButtonStyleModel",
      "state": {}
     },
     "bec385aff18c457d91c06699cd59c4f9": {
      "model_module": "@jupyter-widgets/controls",
      "model_module_version": "1.5.0",
      "model_name": "SliderStyleModel",
      "state": {
       "description_width": ""
      }
     },
     "befe83978e944134abd426fc0471544d": {
      "model_module": "@jupyter-widgets/base",
      "model_module_version": "1.2.0",
      "model_name": "LayoutModel",
      "state": {}
     },
     "bf100585a057461fb811af5cf9ee394b": {
      "model_module": "@jupyter-widgets/controls",
      "model_module_version": "1.5.0",
      "model_name": "HTMLModel",
      "state": {
       "layout": "IPY_MODEL_908e6cecbbb54bd3a821d146e535a08f",
       "placeholder": "",
       "style": "IPY_MODEL_65750c6fba034bb08bb5e249fa3484f6",
       "value": "<span style=\"margin-left:10px; color:orange;\">C:\\Users\\dominiquef\\Documents\\GIT\\mira\\mirageoscience-apps\\assets\\FlinFlon.geoh5</span>"
      }
     },
     "bf10c309722944cbaabaffa61f7ce04f": {
      "model_module": "@jupyter-widgets/base",
      "model_module_version": "1.2.0",
      "model_name": "LayoutModel",
      "state": {
       "grid_area": "dircontent",
       "width": "auto"
      }
     },
     "bf3b96ec70d8428cab9e1e5f545348b7": {
      "model_module": "@jupyter-widgets/base",
      "model_module_version": "1.2.0",
      "model_name": "LayoutModel",
      "state": {
       "grid_area": "filename",
       "width": "auto"
      }
     },
     "bf4332222e904ff5bef4c98bc5499c94": {
      "model_module": "@jupyter-widgets/base",
      "model_module_version": "1.2.0",
      "model_name": "LayoutModel",
      "state": {}
     },
     "bf53afa7f6b641abb87977dae836739b": {
      "model_module": "@jupyter-widgets/base",
      "model_module_version": "1.2.0",
      "model_name": "LayoutModel",
      "state": {}
     },
     "bf5e4cb10bcf49de8ed532a5e45f4e54": {
      "model_module": "@jupyter-widgets/controls",
      "model_module_version": "1.5.0",
      "model_name": "ButtonStyleModel",
      "state": {}
     },
     "bfcc242ad44c46a8bf161c886ddef2a9": {
      "model_module": "@jupyter-widgets/base",
      "model_module_version": "1.2.0",
      "model_name": "LayoutModel",
      "state": {}
     },
     "bfe8175c18044b979cae90adf6b677f9": {
      "model_module": "@jupyter-widgets/base",
      "model_module_version": "1.2.0",
      "model_name": "LayoutModel",
      "state": {}
     },
     "bff58be3351d4e979ddd23ee469079ba": {
      "model_module": "@jupyter-widgets/controls",
      "model_module_version": "1.5.0",
      "model_name": "DropdownModel",
      "state": {
       "_options_labels": [
        "C:\\Users\\dominiquef\\Documents\\GIT\\mira\\mirageoscience-apps\\docs\\content\\applications",
        "C:\\Users\\dominiquef\\Documents\\GIT\\mira\\mirageoscience-apps\\docs\\content",
        "C:\\Users\\dominiquef\\Documents\\GIT\\mira\\mirageoscience-apps\\docs",
        "C:\\Users\\dominiquef\\Documents\\GIT\\mira\\mirageoscience-apps",
        "C:\\Users\\dominiquef\\Documents\\GIT\\mira",
        "C:\\Users\\dominiquef\\Documents\\GIT",
        "C:\\Users\\dominiquef\\Documents",
        "C:\\Users\\dominiquef",
        "C:\\Users",
        "C:\\",
        "D:\\",
        "Z:\\"
       ],
       "index": 0,
       "layout": "IPY_MODEL_d48c491584854c11866284e58f5b53bb",
       "style": "IPY_MODEL_f775af3de83a4fd7b6921f158fb5c1f0"
      }
     },
     "c0162fdd072a4e3eae085eaf9852e13b": {
      "model_module": "@jupyter-widgets/controls",
      "model_module_version": "1.5.0",
      "model_name": "DescriptionStyleModel",
      "state": {
       "description_width": "initial"
      }
     },
     "c1023bc3b59f484c8b48128b9ecb0a15": {
      "model_module": "@jupyter-widgets/controls",
      "model_module_version": "1.5.0",
      "model_name": "DescriptionStyleModel",
      "state": {
       "description_width": ""
      }
     },
     "c12852abbb894cf2976b9aff1ee9dd0d": {
      "model_module": "@jupyter-widgets/base",
      "model_module_version": "1.2.0",
      "model_name": "LayoutModel",
      "state": {}
     },
     "c162632357ad464289900b56a94092f4": {
      "model_module": "@jupyter-widgets/controls",
      "model_module_version": "1.5.0",
      "model_name": "VBoxModel",
      "state": {
       "children": [
        "IPY_MODEL_a1321564ca46474799ccdcf3723037bf",
        "IPY_MODEL_3e7d374e71b54149b6a9085063b4f2ac"
       ],
       "layout": "IPY_MODEL_07dfcd8a2beb44d89840fade0c51c593"
      }
     },
     "c179c2be49524a278573e0fee8bb5a0b": {
      "model_module": "@jupyter-widgets/controls",
      "model_module_version": "1.5.0",
      "model_name": "ButtonStyleModel",
      "state": {}
     },
     "c1bceee8b5d0490f8ee1cb08f0fb70b8": {
      "model_module": "@jupyter-widgets/base",
      "model_module_version": "1.2.0",
      "model_name": "LayoutModel",
      "state": {}
     },
     "c1e387da126d4c5d8f175123e37ac1e2": {
      "model_module": "@jupyter-widgets/controls",
      "model_module_version": "1.5.0",
      "model_name": "ButtonStyleModel",
      "state": {}
     },
     "c20020129152418a903b969792083306": {
      "model_module": "@jupyter-widgets/base",
      "model_module_version": "1.2.0",
      "model_name": "LayoutModel",
      "state": {}
     },
     "c273378308f742ce9e5f676722f61c9a": {
      "model_module": "@jupyter-widgets/base",
      "model_module_version": "1.2.0",
      "model_name": "LayoutModel",
      "state": {}
     },
     "c2e25c19a0334592b977dc720e4cb647": {
      "model_module": "@jupyter-widgets/base",
      "model_module_version": "1.2.0",
      "model_name": "LayoutModel",
      "state": {}
     },
     "c2f016c4492f46009d1f0b7fe274221a": {
      "model_module": "@jupyter-widgets/controls",
      "model_module_version": "1.5.0",
      "model_name": "ButtonModel",
      "state": {
       "description": "Create copy:",
       "layout": "IPY_MODEL_69be6f3ff2a54969b4878d4e185d5656",
       "style": "IPY_MODEL_bf5e4cb10bcf49de8ed532a5e45f4e54"
      }
     },
     "c2f58bdadd034a008c61d99b13ab763d": {
      "model_module": "@jupyter-widgets/base",
      "model_module_version": "1.2.0",
      "model_name": "LayoutModel",
      "state": {
       "display": "none",
       "width": "auto"
      }
     },
     "c34319b1c45f4391852e098f02a4a991": {
      "model_module": "@jupyter-widgets/base",
      "model_module_version": "1.2.0",
      "model_name": "LayoutModel",
      "state": {
       "display": "none"
      }
     },
     "c34c663c5d484611a7fe2d65521e9d2a": {
      "model_module": "@jupyter-widgets/controls",
      "model_module_version": "1.5.0",
      "model_name": "TextModel",
      "state": {
       "layout": "IPY_MODEL_5f0771e0a8ec4061881b1d06096b5dc3",
       "placeholder": "output filename",
       "style": "IPY_MODEL_307039b11b9d4fb08662a3aa4556dfb6"
      }
     },
     "c35e266757da4dc083537ad51d49bd05": {
      "model_module": "@jupyter-widgets/base",
      "model_module_version": "1.2.0",
      "model_name": "LayoutModel",
      "state": {
       "width": "auto"
      }
     },
     "c39cc196499e4849bd392578d6e9480b": {
      "model_module": "@jupyter-widgets/controls",
      "model_module_version": "1.5.0",
      "model_name": "VBoxModel",
      "state": {
       "children": [
        "IPY_MODEL_682021c5672a4686ae6c61f175b82130",
        "IPY_MODEL_7d40fa0c45264e22ba476213d1ca5094"
       ],
       "layout": "IPY_MODEL_6cf7ba4a9f9449e1b89e701065f57108"
      }
     },
     "c3a384ca521a4b13bcd898886241fcdd": {
      "model_module": "@jupyter-widgets/base",
      "model_module_version": "1.2.0",
      "model_name": "LayoutModel",
      "state": {}
     },
     "c3e9420e16d5448db345c6551aabe4fd": {
      "model_module": "@jupyter-widgets/controls",
      "model_module_version": "1.5.0",
      "model_name": "VBoxModel",
      "state": {
       "children": [
        "IPY_MODEL_017f72fabc1240bb891563d2c6bddcab",
        "IPY_MODEL_7adbe10fafaf4a2399c74bd5ab94a0df"
       ],
       "layout": "IPY_MODEL_7df9253aab6b423daaf68d98053b3d5f"
      }
     },
     "c4010b249d874f36b3fb298fc0962283": {
      "model_module": "@jupyter-widgets/controls",
      "model_module_version": "1.5.0",
      "model_name": "HTMLModel",
      "state": {
       "layout": "IPY_MODEL_8fee0b6c9d394b0eb85cdfe3b9b8d80f",
       "placeholder": "",
       "style": "IPY_MODEL_46ed07dfcd1a40558a15ae30a79131b9",
       "value": "<span style=\"margin-left:10px; color:black;\">No file selected</span>"
      }
     },
     "c4519fdf064e43c882c39b2c6d91d8a9": {
      "model_module": "@jupyter-widgets/controls",
      "model_module_version": "1.5.0",
      "model_name": "SliderStyleModel",
      "state": {
       "description_width": ""
      }
     },
     "c4839dc9753d49abb61dc1b60d7a6596": {
      "model_module": "@jupyter-widgets/controls",
      "model_module_version": "1.5.0",
      "model_name": "ButtonStyleModel",
      "state": {}
     },
     "c4a10616a4b74cc29a71fbd64150df4c": {
      "model_module": "@jupyter-widgets/base",
      "model_module_version": "1.2.0",
      "model_name": "LayoutModel",
      "state": {}
     },
     "c4a7803072c848789c9ab69332903d33": {
      "model_module": "@jupyter-widgets/controls",
      "model_module_version": "1.5.0",
      "model_name": "VBoxModel",
      "state": {
       "children": [
        "IPY_MODEL_f577e27b22e047a5bef73cb984c1f334",
        "IPY_MODEL_66d3c320fce9459cb2bc34377dc41d89"
       ],
       "layout": "IPY_MODEL_85fc03b61e3f4adc83268af133ffb3d0"
      }
     },
     "c53d932b7e254d1a8a85f31f27d529a1": {
      "model_module": "@jupyter-widgets/base",
      "model_module_version": "1.2.0",
      "model_name": "LayoutModel",
      "state": {}
     },
     "c5bcafb8097645dd9f858871f2fc9cd2": {
      "model_module": "@jupyter-widgets/controls",
      "model_module_version": "1.5.0",
      "model_name": "HTMLModel",
      "state": {
       "layout": "IPY_MODEL_053c0b9cf05f47b8b06b7badb4e64518",
       "placeholder": "",
       "style": "IPY_MODEL_a11677872fa14b698701e6cfe9f2a089",
       "value": "<span style=\"margin-left:10px; color:black;\">No file selected</span>"
      }
     },
     "c5cc7840d476471c8fe5b32dc8d01875": {
      "model_module": "@jupyter-widgets/controls",
      "model_module_version": "1.5.0",
      "model_name": "DescriptionStyleModel",
      "state": {
       "description_width": "initial"
      }
     },
     "c5e153e1e31649b9b8cdcb66dfbbe8ac": {
      "model_module": "@jupyter-widgets/controls",
      "model_module_version": "1.5.0",
      "model_name": "DescriptionStyleModel",
      "state": {
       "description_width": ""
      }
     },
     "c608a1ea86e740d8bd18491756f2e9b0": {
      "model_module": "@jupyter-widgets/controls",
      "model_module_version": "1.5.0",
      "model_name": "DescriptionStyleModel",
      "state": {
       "description_width": ""
      }
     },
     "c645fb06c6a14105bee301bfc276e4e7": {
      "model_module": "@jupyter-widgets/controls",
      "model_module_version": "1.5.0",
      "model_name": "DescriptionStyleModel",
      "state": {
       "description_width": ""
      }
     },
     "c65416f3f65b4504aac550674c16d4b1": {
      "model_module": "@jupyter-widgets/controls",
      "model_module_version": "1.5.0",
      "model_name": "DescriptionStyleModel",
      "state": {
       "description_width": ""
      }
     },
     "c66164c58b55483c8058f75ea050c47c": {
      "model_module": "@jupyter-widgets/base",
      "model_module_version": "1.2.0",
      "model_name": "LayoutModel",
      "state": {
       "grid_area": "filename",
       "width": "auto"
      }
     },
     "c682dcad8dec4b838ad3e78143cc05e5": {
      "model_module": "@jupyter-widgets/base",
      "model_module_version": "1.2.0",
      "model_name": "LayoutModel",
      "state": {}
     },
     "c698e3a0f66f40da88d5e28cd8349210": {
      "model_module": "@jupyter-widgets/controls",
      "model_module_version": "1.5.0",
      "model_name": "VBoxModel",
      "state": {
       "children": [
        "IPY_MODEL_86627bba96ca4f038dab107e5dfc1995",
        "IPY_MODEL_d2ebce13fccf4788b5c8ce2bcebedc6a",
        "IPY_MODEL_109942c7b6d248f48f49a06b5502be82"
       ],
       "layout": "IPY_MODEL_b2142178f34946778b099ddf1904c8f8"
      }
     },
     "c6c644a7c2814473a67549eea59a3aa6": {
      "model_module": "@jupyter-widgets/controls",
      "model_module_version": "1.5.0",
      "model_name": "HTMLModel",
      "state": {
       "layout": "IPY_MODEL_c20020129152418a903b969792083306",
       "placeholder": "",
       "style": "IPY_MODEL_6df2d4660fde40d0ae2399e1887ceb34",
       "value": "<span style=\"margin-left:10px; color:black;\">No file selected</span>"
      }
     },
     "c705e5e0cb644941952776c78f77069e": {
      "model_module": "@jupyter-widgets/controls",
      "model_module_version": "1.5.0",
      "model_name": "DescriptionStyleModel",
      "state": {
       "description_width": ""
      }
     },
     "c72cae218cfd4d9f8a8a10b1e5f5dc42": {
      "model_module": "@jupyter-widgets/controls",
      "model_module_version": "1.5.0",
      "model_name": "DescriptionStyleModel",
      "state": {
       "description_width": ""
      }
     },
     "c732e835442f4755a4f8472ae5972764": {
      "model_module": "@jupyter-widgets/controls",
      "model_module_version": "1.5.0",
      "model_name": "VBoxModel",
      "state": {
       "children": [
        "IPY_MODEL_3e0f9ed224de4788ac87acc331cb477a",
        "IPY_MODEL_89b9ff0765464c4cbdc67941043229f6",
        "IPY_MODEL_873bbfc9f2114242b34773c44e7eb449"
       ],
       "layout": "IPY_MODEL_57fab14ffc994e8aabf23165a5911c29"
      }
     },
     "c764de50c8534b598407f1b6c35b1f3e": {
      "model_module": "@jupyter-widgets/controls",
      "model_module_version": "1.5.0",
      "model_name": "CheckboxModel",
      "state": {
       "description": "GA Pro - Live link",
       "disabled": false,
       "indent": false,
       "layout": "IPY_MODEL_f51a2e19327c4d20be2afcab5e8a57ea",
       "style": "IPY_MODEL_15f933e7a99d4d598ebadc84a7eba81f",
       "value": false
      }
     },
     "c7c4852ae1a44b02907b58a85dcbdfb4": {
      "model_module": "@jupyter-widgets/controls",
      "model_module_version": "1.5.0",
      "model_name": "DropdownModel",
      "state": {
       "_options_labels": [
        "",
        "fault_splay1",
        "fault_Cliff_Lake",
        "fault_Other_FlinFlon",
        "fault_Club_Lake_splay",
        "fault_Catherine_splay2",
        "fault_Birch_View",
        "fault_Dion_Lake",
        "fault_FlinFlon_splay",
        "fault_West_Mandy_Road",
        "fault_Channing",
        "fault_Ross_Lake",
        "fault_Louis_Hidden",
        "fault_Lake_View_thrust",
        "contact_Schist_Lake",
        "fault_Burley_Lake",
        "fault_Dion_Lake_splay",
        "fault_Green_Lake",
        "fault_FlinFlon",
        "fault_Catherine_splay1",
        "fault_East_Mandy_Road",
        "fault_Other_FlinFlon_South",
        "fault_Catherine_splay4",
        "contact_Stitt_Island",
        "fault_Club_Lake",
        "fault_Tailing_Pond",
        "35_Hidden_Reservoir_Hr5",
        "29_Hidden_Reservoir_Hr1a",
        "60_BlueLagoon_Fb2",
        "20_FlinFlon_Undivided_Int_Dykes_D2f",
        "04_Boundary_Intrusive_S4h",
        "53_Millrock_Rhyolite_Fm4b",
        "19_FlinFlon_Undivided_Int_Dykes_D2b",
        "18_FlinFlon_Undivided_Int_Dykes_777_D2b",
        "06_Phantom_Lake_Intrusive_S3a",
        "21_FlinFlon_Undivided_Int_Dykes_D3a",
        "43_Millrock_CHLSH_South",
        "56_Millrock_Basalt_Fm1ba",
        "17_FlinFlon_Undivided_Int_Dykes_D2",
        "32_Hidden_Reservoir_Hr1b_SW",
        "11_Missi_M3_NE",
        "13_Missi_M1",
        "07_Annabel_Granitoid_S1",
        "45_Millrock_Gabbro_South",
        "01_Late_Intrusive_S5b",
        "31_Hidden_Reservoir_Hr1c_SW",
        "52_Millrock_Rhyolite_Fm4_West_check",
        "55_Millrock_Basalt_Fm1bf",
        "34_Hidden_Reservoir_Hr2b",
        "03_Boundary_Intrusive_S4b",
        "42_Millrock_CHLSH_North",
        "26_Louis_L3",
        "23_FlinFlon_Undivided_Int_Felsic_D4g",
        "30_Hidden_Reservoir_Hr1b",
        "59_BlueLagoon_Fb3",
        "49_Millrock_MVR_Fm5d",
        "44_Millrock_Gabbro_North",
        "27_Hidden_Carlisle_Hc4",
        "22_FlinFlon_Undivided_Int_Felsic_D4e",
        "02_Boundary_Intrusive_S4a",
        "61_BlueLagoon_Fb1_NW",
        "05_Boundary_Intrusive_S4g",
        "39_Ore_Callinan",
        "38_Ore_Dan_Owens",
        "40_Ore_FlinFlon",
        "Inversion_VTEM_Model",
        "Gravity_Magnetics_drape60m",
        "CDI_VTEM_model",
        "Data_FEM_pseudo3D",
        "O2O_Interp_25m",
        "geochem",
        "Inversion_DIGHEM_Model",
        "Topography",
        "Data_TEM_pseudo3D"
       ],
       "description": "Object",
       "index": 0,
       "layout": "IPY_MODEL_ebb1942b7d124087855e44c6eaaf8c7c",
       "style": "IPY_MODEL_e5afadd9e4f64c0aaa519b32063ae226"
      }
     },
     "c7fba2e22e2e45a48dd272d95fbe9145": {
      "model_module": "@jupyter-widgets/controls",
      "model_module_version": "1.5.0",
      "model_name": "ButtonStyleModel",
      "state": {}
     },
     "c83f7271bd3d4e4aaa7a015cb3955cf5": {
      "model_module": "@jupyter-widgets/controls",
      "model_module_version": "1.5.0",
      "model_name": "DescriptionStyleModel",
      "state": {
       "description_width": ""
      }
     },
     "c85555cba1b546d8bf584a086b9f8384": {
      "model_module": "@jupyter-widgets/controls",
      "model_module_version": "1.5.0",
      "model_name": "TextModel",
      "state": {
       "disabled": true,
       "layout": "IPY_MODEL_52c259cd4c46418dac2550f09b05df4b",
       "placeholder": "output filename",
       "style": "IPY_MODEL_47015e1336c44bb4929d79ce8bcb9af9"
      }
     },
     "c86f1c8915c14640b74bb4f09f3c9dae": {
      "model_module": "@jupyter-widgets/controls",
      "model_module_version": "1.5.0",
      "model_name": "HBoxModel",
      "state": {
       "children": [
        "IPY_MODEL_5c0f36061a9546f88cb2e35416c861d1",
        "IPY_MODEL_3ebd881f19ec49f3b4e7433201ccaa39"
       ],
       "layout": "IPY_MODEL_59c2878c163440a299aa2a94a283fd51"
      }
     },
     "c93ce0581858475e808249d2cf95382c": {
      "model_module": "@jupyter-widgets/controls",
      "model_module_version": "1.5.0",
      "model_name": "SelectModel",
      "state": {
       "_options_labels": [
        "..",
        "SimPEG_PFInversion",
        "Temp",
        "dask-worker-space"
       ],
       "index": null,
       "layout": "IPY_MODEL_bf10c309722944cbaabaffa61f7ce04f",
       "rows": 8,
       "style": "IPY_MODEL_2379608bcb544b1facb0d646688327cc"
      }
     },
     "c95f81be56c1428997b599a787a30f3a": {
      "model_module": "@jupyter-widgets/controls",
      "model_module_version": "1.5.0",
      "model_name": "HBoxModel",
      "state": {
       "children": [
        "IPY_MODEL_84586a815fbc4c199be248e26ff1d747",
        "IPY_MODEL_8d556a0b84744f5aa17b94d69e05fbbe",
        "IPY_MODEL_7f809591ee7e43e2bc566674fa8aecc2"
       ],
       "layout": "IPY_MODEL_1ba33a7a47f449ed872896d728a1572e"
      }
     },
     "c9634b2d67cc426d93d79ed4d544bfa1": {
      "model_module": "@jupyter-widgets/controls",
      "model_module_version": "1.5.0",
      "model_name": "VBoxModel",
      "state": {
       "children": [
        "IPY_MODEL_0db9a81a4948412198001e62f4c372d5",
        "IPY_MODEL_0ea9de17b22949aea458bff9ee980f75"
       ],
       "layout": "IPY_MODEL_a9f002d59201428eb9376e0a7d16be76"
      }
     },
     "c97895aded704e298e49828d92a8aa87": {
      "model_module": "@jupyter-widgets/controls",
      "model_module_version": "1.5.0",
      "model_name": "DropdownModel",
      "state": {
       "_options_labels": [
        "",
        "--- Channels ---",
        "Airborne_Gxx",
        "Airborne_Gxy",
        "Airborne_Gxz",
        "Airborne_Gyy",
        "Airborne_Gyz",
        "Airborne_Gz",
        "Airborne_Gzz",
        "Airborne_TMI",
        "Ground_Gz",
        "Z"
       ],
       "description": "Lines field",
       "index": 0,
       "layout": "IPY_MODEL_0e289ff64a3148668f139eb50ee3eee4",
       "style": "IPY_MODEL_d360740247644da7a3d17b0c3b9b5fda"
      }
     },
     "c98ce4fd478b4862a1774e57e85664a3": {
      "model_module": "@jupyter-widgets/controls",
      "model_module_version": "1.5.0",
      "model_name": "ButtonStyleModel",
      "state": {}
     },
     "c9af20638cba4d4ea919580eace313b8": {
      "model_module": "@jupyter-widgets/base",
      "model_module_version": "1.2.0",
      "model_name": "LayoutModel",
      "state": {
       "grid_area": "pathlist",
       "width": "auto"
      }
     },
     "c9bcb3bc2f81451abf5b3848538333b4": {
      "model_module": "@jupyter-widgets/base",
      "model_module_version": "1.2.0",
      "model_name": "LayoutModel",
      "state": {
       "width": "auto"
      }
     },
     "c9d2c423576d457cbbb2ab2ba9eb2656": {
      "model_module": "@jupyter-widgets/controls",
      "model_module_version": "1.5.0",
      "model_name": "ToggleButtonModel",
      "state": {
       "description": "Zoom on selection",
       "icon": "check",
       "layout": "IPY_MODEL_d16a91e7af4b4fd9948dcccc570a6b71",
       "style": "IPY_MODEL_8b41a23f02444afb9aadea2057b08848",
       "tooltip": "Keep plot extent on selection",
       "value": true
      }
     },
     "ca00089f11624c9fb603d31e0e9c8769": {
      "model_module": "@jupyter-widgets/controls",
      "model_module_version": "1.5.0",
      "model_name": "DescriptionStyleModel",
      "state": {
       "description_width": ""
      }
     },
     "ca2c767400804cd3a294b382ecc42f6c": {
      "model_module": "@jupyter-widgets/base",
      "model_module_version": "1.2.0",
      "model_name": "LayoutModel",
      "state": {
       "display": "none",
       "width": "auto"
      }
     },
     "caf20b9ff6db45c098261ca7291c2993": {
      "model_module": "@jupyter-widgets/controls",
      "model_module_version": "1.5.0",
      "model_name": "ButtonStyleModel",
      "state": {}
     },
     "cb15bf47dc254792b82166cd960b8a0d": {
      "model_module": "@jupyter-widgets/controls",
      "model_module_version": "1.5.0",
      "model_name": "DescriptionStyleModel",
      "state": {
       "description_width": "initial"
      }
     },
     "cb2533677d3640038bfed31a8ff0f01c": {
      "model_module": "@jupyter-widgets/controls",
      "model_module_version": "1.5.0",
      "model_name": "DescriptionStyleModel",
      "state": {
       "description_width": ""
      }
     },
     "cb2de0ca78434dc5a1a67a2a81a48636": {
      "model_module": "@jupyter-widgets/base",
      "model_module_version": "1.2.0",
      "model_name": "LayoutModel",
      "state": {}
     },
     "cb717fdac7994485ac137480196f087c": {
      "model_module": "@jupyter-widgets/controls",
      "model_module_version": "1.5.0",
      "model_name": "ButtonModel",
      "state": {
       "description": "Cancel",
       "layout": "IPY_MODEL_badb3854e99240408f153cd08401ab62",
       "style": "IPY_MODEL_04645ae643e94bc6b49467fd377a5009"
      }
     },
     "cb82d73bab25493481d5b2951bab2452": {
      "model_module": "@jupyter-widgets/controls",
      "model_module_version": "1.5.0",
      "model_name": "DescriptionStyleModel",
      "state": {
       "description_width": ""
      }
     },
     "cbcae91a0ef44c9587f85d8f75faaab9": {
      "model_module": "@jupyter-widgets/controls",
      "model_module_version": "1.5.0",
      "model_name": "DescriptionStyleModel",
      "state": {
       "description_width": "initial"
      }
     },
     "cc21ed0955514abb97f73ce6a6c01766": {
      "model_module": "@jupyter-widgets/controls",
      "model_module_version": "1.5.0",
      "model_name": "FloatTextModel",
      "state": {
       "description": "Grid Resolution (m)",
       "layout": "IPY_MODEL_7e522716920b420f81d20dd931264802",
       "step": null,
       "style": "IPY_MODEL_8d705d2128104e6e834a0f70912ccecc",
       "value": 50
      }
     },
     "cc8bf0ab0cff4d01a908b41ea3a61590": {
      "model_module": "@jupyter-widgets/base",
      "model_module_version": "1.2.0",
      "model_name": "LayoutModel",
      "state": {}
     },
     "cc8c3af96c7c499482666dd9b41805b1": {
      "model_module": "@jupyter-widgets/controls",
      "model_module_version": "1.5.0",
      "model_name": "VBoxModel",
      "state": {
       "children": [
        "IPY_MODEL_1473c0b05c20489098ede47621ea9f9f"
       ],
       "layout": "IPY_MODEL_0687ba3f003d40daa25ea703d257b936"
      }
     },
     "cc955c86d4a34c569d581175d1716f9a": {
      "model_module": "@jupyter-widgets/controls",
      "model_module_version": "1.5.0",
      "model_name": "DescriptionStyleModel",
      "state": {
       "description_width": "initial"
      }
     },
     "ccaa346652c649f89985f59d41199586": {
      "model_module": "@jupyter-widgets/base",
      "model_module_version": "1.2.0",
      "model_name": "LayoutModel",
      "state": {
       "display": "none",
       "grid_gap": "0px 0px",
       "grid_template_areas": "\n                    'pathlist filename'\n                    'dircontent dircontent'\n                    ",
       "grid_template_columns": "60% 40%",
       "grid_template_rows": "auto auto",
       "width": "500px"
      }
     },
     "ccfcc799fe804c7fbe3bc9e1ab711278": {
      "model_module": "@jupyter-widgets/controls",
      "model_module_version": "1.5.0",
      "model_name": "DescriptionStyleModel",
      "state": {
       "description_width": ""
      }
     },
     "cdafcca4356f4b73a79ccd961314f906": {
      "model_module": "@jupyter-widgets/base",
      "model_module_version": "1.2.0",
      "model_name": "LayoutModel",
      "state": {}
     },
     "cdc4e17a9baf453fa791ad739a3c04f9": {
      "model_module": "@jupyter-widgets/controls",
      "model_module_version": "1.5.0",
      "model_name": "FloatTextModel",
      "state": {
       "description": "Minimum depth (m)",
       "layout": "IPY_MODEL_e6bf15a29928489694a87fc6394399a3",
       "step": null,
       "style": "IPY_MODEL_ce38277acac9428e9f621ce68f06d405",
       "value": 500
      }
     },
     "ce0a3d020419437babe9c9fccd412e40": {
      "model_module": "@jupyter-widgets/base",
      "model_module_version": "1.2.0",
      "model_name": "LayoutModel",
      "state": {
       "width": "auto"
      }
     },
     "ce38277acac9428e9f621ce68f06d405": {
      "model_module": "@jupyter-widgets/controls",
      "model_module_version": "1.5.0",
      "model_name": "DescriptionStyleModel",
      "state": {
       "description_width": "initial"
      }
     },
     "ce5d8814a544497cb5f4159e2e9ef03e": {
      "model_module": "@jupyter-widgets/base",
      "model_module_version": "1.2.0",
      "model_name": "LayoutModel",
      "state": {}
     },
     "ceab50c8b5ff4f61bd651ab5247796af": {
      "model_module": "@jupyter-widgets/controls",
      "model_module_version": "1.5.0",
      "model_name": "VBoxModel",
      "state": {
       "children": [
        "IPY_MODEL_9be8b88c1e35442186023c9d07ea4435",
        "IPY_MODEL_975d92d7caa74f5e9953fbad33753d26"
       ],
       "layout": "IPY_MODEL_64284e70c4104f06a5c59e4a3c6341f9"
      }
     },
     "ceb1b3738ad342cb86b21befd041fe1f": {
      "model_module": "@jupyter-widgets/controls",
      "model_module_version": "1.5.0",
      "model_name": "DescriptionStyleModel",
      "state": {
       "description_width": ""
      }
     },
     "cef2f5d7177749d6bccc76950c111922": {
      "model_module": "@jupyter-widgets/controls",
      "model_module_version": "1.5.0",
      "model_name": "DescriptionStyleModel",
      "state": {
       "description_width": "initial"
      }
     },
     "ceff33e8267443d5899df443990dfac9": {
      "model_module": "@jupyter-widgets/base",
      "model_module_version": "1.2.0",
      "model_name": "LayoutModel",
      "state": {}
     },
     "cf1df7fadaeb4169805b72c1cbfe3e14": {
      "model_module": "@jupyter-widgets/controls",
      "model_module_version": "1.5.0",
      "model_name": "IntTextModel",
      "state": {
       "description": "Max CG Iterations",
       "layout": "IPY_MODEL_92041575be0f41de8f3f5cfe73b48671",
       "step": 1,
       "style": "IPY_MODEL_5d2bfc89d7dd4a62a4cd19cae3fe90b1",
       "value": 30
      }
     },
     "cf229abbadbf4dcca109086968b7da00": {
      "model_module": "@jupyter-widgets/controls",
      "model_module_version": "1.5.0",
      "model_name": "ButtonStyleModel",
      "state": {}
     },
     "cfdfa7b50e1548a2bc7429965f59cf71": {
      "model_module": "@jupyter-widgets/controls",
      "model_module_version": "1.5.0",
      "model_name": "DropdownModel",
      "state": {
       "description": "Values",
       "index": null,
       "layout": "IPY_MODEL_8b48170e416b4f21a94bf65ce7b6ecac",
       "style": "IPY_MODEL_2803a0cca4ce459cba98e64cdc797bcf"
      }
     },
     "d0400669142d4c9fbae5b6d012ef0cea": {
      "model_module": "@jupyter-widgets/controls",
      "model_module_version": "1.5.0",
      "model_name": "DescriptionStyleModel",
      "state": {
       "description_width": ""
      }
     },
     "d06fce7d06a54bd0a49d1654615f4af2": {
      "model_module": "@jupyter-widgets/base",
      "model_module_version": "1.2.0",
      "model_name": "LayoutModel",
      "state": {}
     },
     "d094258bb6e4403c83f55068785bb917": {
      "model_module": "@jupyter-widgets/base",
      "model_module_version": "1.2.0",
      "model_name": "LayoutModel",
      "state": {}
     },
     "d0c475aafd744b009b172034a491a28f": {
      "model_module": "@jupyter-widgets/controls",
      "model_module_version": "1.5.0",
      "model_name": "DescriptionStyleModel",
      "state": {
       "description_width": "initial"
      }
     },
     "d0d568cf689e4693b45d5240fc4350fe": {
      "model_module": "@jupyter-widgets/controls",
      "model_module_version": "1.5.0",
      "model_name": "LabelModel",
      "state": {
       "layout": "IPY_MODEL_bf4332222e904ff5bef4c98bc5499c94",
       "style": "IPY_MODEL_337974e5b2294cc892b45cd291cf04f2",
       "value": "Data Count: 425"
      }
     },
     "d0e865c11f1c40dc9e1b9d1667f88d2c": {
      "model_module": "@jupyter-widgets/controls",
      "model_module_version": "1.5.0",
      "model_name": "TextModel",
      "state": {
       "disabled": true,
       "layout": "IPY_MODEL_6d1c41a3f1ae4ba2ad8ad09c09e73f15",
       "placeholder": "output filename",
       "style": "IPY_MODEL_7413117dc4db480899604c73fa3d31a1"
      }
     },
     "d133305dcb134211a8aaee091bf8b1b1": {
      "model_module": "@jupyter-widgets/controls",
      "model_module_version": "1.5.0",
      "model_name": "ButtonStyleModel",
      "state": {}
     },
     "d16a91e7af4b4fd9948dcccc570a6b71": {
      "model_module": "@jupyter-widgets/base",
      "model_module_version": "1.2.0",
      "model_name": "LayoutModel",
      "state": {}
     },
     "d1f74e796e0245d0a88bc3617a59ccde": {
      "model_module": "@jupyter-widgets/controls",
      "model_module_version": "1.5.0",
      "model_name": "DropdownModel",
      "state": {
       "_options_labels": [
        "output name",
        "uncertainties",
        "starting model",
        "regularization",
        "upper-lower bounds",
        "mesh",
        "ignore values",
        "optimization"
       ],
       "index": 0,
       "layout": "IPY_MODEL_34f3def82ccb4ba98a22a8e81043c29b",
       "style": "IPY_MODEL_9d9e73f73d2742fc94fe50500ba3a241"
      }
     },
     "d2c326c7ea0e488393ce95dfed02aea4": {
      "model_module": "@jupyter-widgets/base",
      "model_module_version": "1.2.0",
      "model_name": "LayoutModel",
      "state": {
       "display": "none",
       "width": "auto"
      }
     },
     "d2d4f57ffec94b1ba12a1ea14ea07946": {
      "model_module": "@jupyter-widgets/controls",
      "model_module_version": "1.5.0",
      "model_name": "HTMLModel",
      "state": {
       "layout": "IPY_MODEL_e0effe3e28034388b4c6afbf9fd9b7ab",
       "style": "IPY_MODEL_2a3f974a4c204cfba48d4583e5f69df6"
      }
     },
     "d2ebce13fccf4788b5c8ce2bcebedc6a": {
      "model_module": "@jupyter-widgets/controls",
      "model_module_version": "1.5.0",
      "model_name": "GridBoxModel",
      "state": {
       "children": [
        "IPY_MODEL_73f13a58b7f94967aa41f2f4237c2fd7",
        "IPY_MODEL_d5c55b134b944101ba68025d31cf1094",
        "IPY_MODEL_7e5c5071f5f3462abb9559ae18f5f081"
       ],
       "layout": "IPY_MODEL_bcd6785df45f463cbbb73f9928fb7d32"
      }
     },
     "d3429277e137420994b10303b981fa0f": {
      "model_module": "@jupyter-widgets/base",
      "model_module_version": "1.2.0",
      "model_name": "LayoutModel",
      "state": {
       "width": "auto"
      }
     },
     "d360740247644da7a3d17b0c3b9b5fda": {
      "model_module": "@jupyter-widgets/controls",
      "model_module_version": "1.5.0",
      "model_name": "DescriptionStyleModel",
      "state": {
       "description_width": ""
      }
     },
     "d38100de8e5f4d9eaffa2efb01318b73": {
      "model_module": "@jupyter-widgets/controls",
      "model_module_version": "1.5.0",
      "model_name": "DescriptionStyleModel",
      "state": {
       "description_width": "initial"
      }
     },
     "d3afb1e96d854a31a482e311c38551f1": {
      "model_module": "@jupyter-widgets/controls",
      "model_module_version": "1.5.0",
      "model_name": "SelectModel",
      "state": {
       "_options_labels": [
        "..",
        "dask-worker-space",
        "images",
        "base_application.ipynb",
        "calculator.ipynb",
        "clustering.ipynb",
        "contouring.ipynb",
        "coordinate_transformation.ipynb",
        "create_surface.ipynb",
        "data_interpolation.ipynb",
        "edge_detection.ipynb",
        "export.ipynb",
        "geophysical_inversion.ipynb",
        "object_data_selection.ipynb",
        "peak_finder.ipynb",
        "scatter.ipynb",
        "view_selection.ipynb"
       ],
       "index": null,
       "layout": "IPY_MODEL_7a54f9e599a042f292444fe4e7e9d788",
       "rows": 8,
       "style": "IPY_MODEL_cb82d73bab25493481d5b2951bab2452"
      }
     },
     "d420c75eb2a947e68307f675ae3d3766": {
      "model_module": "@jupyter-widgets/base",
      "model_module_version": "1.2.0",
      "model_name": "LayoutModel",
      "state": {
       "grid_area": "dircontent",
       "width": "auto"
      }
     },
     "d4543fc14c484e8484d65ca00eef1856": {
      "model_module": "@jupyter-widgets/controls",
      "model_module_version": "1.5.0",
      "model_name": "DropdownModel",
      "state": {
       "_options_labels": [
        "C:\\Users\\dominiquef\\Documents\\GIT\\mira\\mirageoscience-apps\\assets",
        "C:\\Users\\dominiquef\\Documents\\GIT\\mira\\mirageoscience-apps",
        "C:\\Users\\dominiquef\\Documents\\GIT\\mira",
        "C:\\Users\\dominiquef\\Documents\\GIT",
        "C:\\Users\\dominiquef\\Documents",
        "C:\\Users\\dominiquef",
        "C:\\Users",
        "C:\\",
        "D:\\",
        "Z:\\"
       ],
       "index": 0,
       "layout": "IPY_MODEL_39ff87c67e014ea99b6014ab5f518d9f",
       "style": "IPY_MODEL_8b51f38be240401f80e0be8514aff01b"
      }
     },
     "d48c491584854c11866284e58f5b53bb": {
      "model_module": "@jupyter-widgets/base",
      "model_module_version": "1.2.0",
      "model_name": "LayoutModel",
      "state": {
       "grid_area": "pathlist",
       "width": "auto"
      }
     },
     "d4b639aa209a4ea385bc90d86c459cf1": {
      "model_module": "@jupyter-widgets/controls",
      "model_module_version": "1.5.0",
      "model_name": "HTMLModel",
      "state": {
       "layout": "IPY_MODEL_339c4652d3ac49f78b098ab21975ff49",
       "style": "IPY_MODEL_729b5f37e5cf46a6a2cff9f0bbf28557"
      }
     },
     "d50a364f22e948508ab0184320e0de6e": {
      "model_module": "@jupyter-widgets/base",
      "model_module_version": "1.2.0",
      "model_name": "LayoutModel",
      "state": {
       "grid_area": "pathlist",
       "width": "auto"
      }
     },
     "d54cd6fa013f45ef8800ccfe52e29d06": {
      "model_module": "@jupyter-widgets/base",
      "model_module_version": "1.2.0",
      "model_name": "LayoutModel",
      "state": {}
     },
     "d5604ee6dbac4e76be18327a537e2f59": {
      "model_module": "@jupyter-widgets/base",
      "model_module_version": "1.2.0",
      "model_name": "LayoutModel",
      "state": {}
     },
     "d57b884e72d648f2b4f10a21b467ad36": {
      "model_module": "@jupyter-widgets/controls",
      "model_module_version": "1.5.0",
      "model_name": "TextModel",
      "state": {
       "layout": "IPY_MODEL_969ffd0b9a354f7caec7455526505ae4",
       "placeholder": "output filename",
       "style": "IPY_MODEL_922fe0edd8ec470dbc0b4a9e441813d5"
      }
     },
     "d5c55b134b944101ba68025d31cf1094": {
      "model_module": "@jupyter-widgets/controls",
      "model_module_version": "1.5.0",
      "model_name": "TextModel",
      "state": {
       "disabled": true,
       "layout": "IPY_MODEL_323432bfdd1e429e87f2b847827993c1",
       "placeholder": "output filename",
       "style": "IPY_MODEL_433a572db740440db0cb69b7d7f4eeb3"
      }
     },
     "d5e5255528694fc49fd09e39e42afeda": {
      "model_module": "@jupyter-widgets/base",
      "model_module_version": "1.2.0",
      "model_name": "LayoutModel",
      "state": {}
     },
     "d5f28d56772348a9b7897c1f4fc664f7": {
      "model_module": "@jupyter-widgets/controls",
      "model_module_version": "1.5.0",
      "model_name": "DescriptionStyleModel",
      "state": {
       "description_width": ""
      }
     },
     "d5f64d912d1e4e8b8abea6aee3fe8867": {
      "model_module": "@jupyter-widgets/controls",
      "model_module_version": "1.5.0",
      "model_name": "DropdownModel",
      "state": {
       "_options_labels": [
        "C:\\Users\\dominiquef\\Documents\\GIT\\mira\\mirageoscience-apps\\docs\\content\\applications",
        "C:\\Users\\dominiquef\\Documents\\GIT\\mira\\mirageoscience-apps\\docs\\content",
        "C:\\Users\\dominiquef\\Documents\\GIT\\mira\\mirageoscience-apps\\docs",
        "C:\\Users\\dominiquef\\Documents\\GIT\\mira\\mirageoscience-apps",
        "C:\\Users\\dominiquef\\Documents\\GIT\\mira",
        "C:\\Users\\dominiquef\\Documents\\GIT",
        "C:\\Users\\dominiquef\\Documents",
        "C:\\Users\\dominiquef",
        "C:\\Users",
        "C:\\",
        "D:\\",
        "Z:\\"
       ],
       "index": 0,
       "layout": "IPY_MODEL_51c6f63821134f8d933219f490132505",
       "style": "IPY_MODEL_ebaa3279a5774b22aca109166b56c285"
      }
     },
     "d65b82a662b7497d9b1d513f274f1894": {
      "model_module": "@jupyter-widgets/controls",
      "model_module_version": "1.5.0",
      "model_name": "DescriptionStyleModel",
      "state": {
       "description_width": "initial"
      }
     },
     "d6b5b56330c442b4914ab4999598ef4f": {
      "model_module": "@jupyter-widgets/controls",
      "model_module_version": "1.5.0",
      "model_name": "DescriptionStyleModel",
      "state": {
       "description_width": ""
      }
     },
     "d6d2ded5694b4a9c81965416323a249a": {
      "model_module": "@jupyter-widgets/controls",
      "model_module_version": "1.5.0",
      "model_name": "DescriptionStyleModel",
      "state": {
       "description_width": ""
      }
     },
     "d71538e6d64e46738132761e1b641e41": {
      "model_module": "@jupyter-widgets/controls",
      "model_module_version": "1.5.0",
      "model_name": "LabelModel",
      "state": {
       "layout": "IPY_MODEL_9b771a695e9a41b78c90de6557e4269e",
       "style": "IPY_MODEL_c5cc7840d476471c8fe5b32dc8d01875",
       "value": "Workspace"
      }
     },
     "d767c23294df4380aa98acc55e97b98b": {
      "model_module": "@jupyter-widgets/base",
      "model_module_version": "1.2.0",
      "model_name": "LayoutModel",
      "state": {}
     },
     "d7b8b4dbaa784814948cec37e1c88848": {
      "model_module": "@jupyter-widgets/controls",
      "model_module_version": "1.5.0",
      "model_name": "FloatTextModel",
      "state": {
       "description": "Max triangulation length",
       "layout": "IPY_MODEL_3b1995960ab64f28b977d2c74d5976bb",
       "step": null,
       "style": "IPY_MODEL_88b58a493402445399d1e9b78b4c4335",
       "value": 1000
      }
     },
     "d7c42f7a10814737a74f1cfaa94090b1": {
      "model_module": "@jupyter-widgets/controls",
      "model_module_version": "1.5.0",
      "model_name": "DescriptionStyleModel",
      "state": {
       "description_width": "initial"
      }
     },
     "d7f0f79a322544fea508d084c7794c12": {
      "model_module": "@jupyter-widgets/controls",
      "model_module_version": "1.5.0",
      "model_name": "DescriptionStyleModel",
      "state": {
       "description_width": "initial"
      }
     },
     "d8354189b4c7423c92b033e07439ab1c": {
      "model_module": "@jupyter-widgets/base",
      "model_module_version": "1.2.0",
      "model_name": "LayoutModel",
      "state": {}
     },
     "d87ec12b69144d08bd0f08a33f6bb06c": {
      "model_module": "@jupyter-widgets/controls",
      "model_module_version": "1.5.0",
      "model_name": "IntTextModel",
      "state": {
       "description": "Starting Channel",
       "layout": "IPY_MODEL_71ecd879612b46719c2743816328931f",
       "step": 1,
       "style": "IPY_MODEL_3abb63b23f724b03aaecc172bfddfbf0"
      }
     },
     "d941364312804d2aa853c9718d2c4995": {
      "model_module": "@jupyter-widgets/base",
      "model_module_version": "1.2.0",
      "model_name": "LayoutModel",
      "state": {}
     },
     "d97ac5f4a7704594b188bed77849c486": {
      "model_module": "@jupyter-widgets/base",
      "model_module_version": "1.2.0",
      "model_name": "LayoutModel",
      "state": {
       "visibility": "hidden"
      }
     },
     "d9f3b3bc7b3d461ab54e2baaa409cb6a": {
      "model_module": "@jupyter-widgets/controls",
      "model_module_version": "1.5.0",
      "model_name": "DescriptionStyleModel",
      "state": {
       "description_width": ""
      }
     },
     "da375818b0124bbb8e4c5133815ecdbd": {
      "model_module": "@jupyter-widgets/controls",
      "model_module_version": "1.5.0",
      "model_name": "VBoxModel",
      "state": {
       "children": [
        "IPY_MODEL_4200c6f897a24317a2edcfde9618eeae",
        "IPY_MODEL_322ffa7e0e0849c9a7760a5a19832869"
       ],
       "layout": "IPY_MODEL_6ea06d591d6147aeac2e1b20736c7247"
      }
     },
     "da65eb45e4b64311afc824eb8e860d28": {
      "model_module": "@jupyter-widgets/base",
      "model_module_version": "1.2.0",
      "model_name": "LayoutModel",
      "state": {
       "display": "none",
       "grid_gap": "0px 0px",
       "grid_template_areas": "\n                    'pathlist pathlist'\n                    'dircontent dircontent'\n                    ",
       "grid_template_columns": "60% 40%",
       "grid_template_rows": "auto auto",
       "width": "500px"
      }
     },
     "dae460353c804597ad5d7a7b3acaea81": {
      "model_module": "@jupyter-widgets/controls",
      "model_module_version": "1.5.0",
      "model_name": "DropdownModel",
      "state": {
       "description": "Values",
       "index": null,
       "layout": "IPY_MODEL_d5604ee6dbac4e76be18327a537e2f59",
       "style": "IPY_MODEL_f798bbb2039f4201ad8612fc8910ab07"
      }
     },
     "db24e15415cd4b4689d736eaf526556e": {
      "model_module": "@jupyter-widgets/controls",
      "model_module_version": "1.5.0",
      "model_name": "FloatTextModel",
      "state": {
       "description": "Expansion factor:",
       "layout": "IPY_MODEL_9a92c14df9884ec1bb998e358f4d052e",
       "step": null,
       "style": "IPY_MODEL_08f4a72c81734bd68f0d6b071b1ca88d",
       "value": 1.05
      }
     },
     "db2da29846494cf89fca76555dfe1155": {
      "model_module": "@jupyter-widgets/base",
      "model_module_version": "1.2.0",
      "model_name": "LayoutModel",
      "state": {}
     },
     "db5f751d350b4e88b9929f11eaaba7c2": {
      "model_module": "@jupyter-widgets/controls",
      "model_module_version": "1.5.0",
      "model_name": "DescriptionStyleModel",
      "state": {
       "description_width": ""
      }
     },
     "dbaa3497257c4b6b96b608dac3feb6b0": {
      "model_module": "@jupyter-widgets/controls",
      "model_module_version": "1.5.0",
      "model_name": "HBoxModel",
      "state": {
       "children": [
        "IPY_MODEL_79f1bc441df9431cb17ccaf5fca58a09",
        "IPY_MODEL_b9de3dd02580461face75a552e1c66bc"
       ],
       "layout": "IPY_MODEL_c2e25c19a0334592b977dc720e4cb647"
      }
     },
     "dbfcb017867d43c081c423eef5ca7a86": {
      "model_module": "@jupyter-widgets/base",
      "model_module_version": "1.2.0",
      "model_name": "LayoutModel",
      "state": {
       "display": "none",
       "width": "auto"
      }
     },
     "dc0f7574947b4a2997505c731287c45a": {
      "model_module": "@jupyter-widgets/controls",
      "model_module_version": "1.5.0",
      "model_name": "DropdownModel",
      "state": {
       "_options_labels": [
        "C:\\Users\\dominiquef\\Documents\\GIT\\mira\\mirageoscience-apps\\docs\\content\\applications",
        "C:\\Users\\dominiquef\\Documents\\GIT\\mira\\mirageoscience-apps\\docs\\content",
        "C:\\Users\\dominiquef\\Documents\\GIT\\mira\\mirageoscience-apps\\docs",
        "C:\\Users\\dominiquef\\Documents\\GIT\\mira\\mirageoscience-apps",
        "C:\\Users\\dominiquef\\Documents\\GIT\\mira",
        "C:\\Users\\dominiquef\\Documents\\GIT",
        "C:\\Users\\dominiquef\\Documents",
        "C:\\Users\\dominiquef",
        "C:\\Users",
        "C:\\",
        "D:\\",
        "Z:\\"
       ],
       "index": 0,
       "layout": "IPY_MODEL_5a49febac9864b46816f00b2c9feeefd",
       "style": "IPY_MODEL_311017a2aa7c48c28240f47e81d93dba"
      }
     },
     "dd01e4863fd74e2aae353991ff98b075": {
      "model_module": "@jupyter-widgets/base",
      "model_module_version": "1.2.0",
      "model_name": "LayoutModel",
      "state": {
       "width": "auto"
      }
     },
     "dd06a226fe41436ca2c1e5da61677d28": {
      "model_module": "@jupyter-widgets/base",
      "model_module_version": "1.2.0",
      "model_name": "LayoutModel",
      "state": {}
     },
     "dd41d3c66a8d4e6cb75510de03c385b3": {
      "model_module": "@jupyter-widgets/controls",
      "model_module_version": "1.5.0",
      "model_name": "FloatSliderModel",
      "state": {
       "continuous_update": false,
       "description": "Azimuth",
       "layout": "IPY_MODEL_19d149f427744636a22daa7be30c3bfb",
       "max": 90,
       "min": -90,
       "step": 0.1,
       "style": "IPY_MODEL_a1d777a401844549bc1e30ce8a80a860",
       "value": -20
      }
     },
     "dd55d32d5951491794c6c2c82b2840e0": {
      "model_module": "@jupyter-widgets/base",
      "model_module_version": "1.2.0",
      "model_name": "LayoutModel",
      "state": {
       "width": "auto"
      }
     },
     "dd9c6951d2ed42f586b3302044e7c44b": {
      "model_module": "@jupyter-widgets/controls",
      "model_module_version": "1.5.0",
      "model_name": "TextModel",
      "state": {
       "description": "Error (%, floor)",
       "layout": "IPY_MODEL_2c77abbe602f485aa9f6adcfeee69fd7",
       "style": "IPY_MODEL_796a7ea5945d42e1a1a6f3015a74368b",
       "value": "0, 1"
      }
     },
     "dd9c8e770840485a80d260016bada1c5": {
      "model_module": "@jupyter-widgets/base",
      "model_module_version": "1.2.0",
      "model_name": "LayoutModel",
      "state": {
       "display": "none"
      }
     },
     "de22efb0aa314936928566129ed23427": {
      "model_module": "@jupyter-widgets/controls",
      "model_module_version": "1.5.0",
      "model_name": "DescriptionStyleModel",
      "state": {
       "description_width": ""
      }
     },
     "de692f00982f493a8ba0812a691ac7ac": {
      "model_module": "@jupyter-widgets/controls",
      "model_module_version": "1.5.0",
      "model_name": "HBoxModel",
      "state": {
       "children": [
        "IPY_MODEL_8ef9ab2586e94b48a2287f0682796b38",
        "IPY_MODEL_0e6b96df581e4d3b82edb1394ced8315",
        "IPY_MODEL_5b61e0635c4040b4b3a37f61f41e797a"
       ],
       "layout": "IPY_MODEL_f89d80bda5af4e0dba6891c5824fbb35"
      }
     },
     "de6accbc358e46c584f83b097610a239": {
      "model_module": "@jupyter-widgets/base",
      "model_module_version": "1.2.0",
      "model_name": "LayoutModel",
      "state": {
       "grid_area": "dircontent",
       "width": "auto"
      }
     },
     "de6c8d04b0a74317a344b2b4c465a8de": {
      "model_module": "@jupyter-widgets/base",
      "model_module_version": "1.2.0",
      "model_name": "LayoutModel",
      "state": {}
     },
     "de8199a790764ae4b3d2818de69eb631": {
      "model_module": "@jupyter-widgets/base",
      "model_module_version": "1.2.0",
      "model_name": "LayoutModel",
      "state": {
       "grid_area": "pathlist",
       "width": "auto"
      }
     },
     "de84278834874a6a86a30dee23c664f7": {
      "model_module": "@jupyter-widgets/base",
      "model_module_version": "1.2.0",
      "model_name": "LayoutModel",
      "state": {}
     },
     "decf6badd22340a09064b466e2a83c7b": {
      "model_module": "@jupyter-widgets/base",
      "model_module_version": "1.2.0",
      "model_name": "LayoutModel",
      "state": {}
     },
     "dee2eb62ba364f48a76c916396063ea7": {
      "model_module": "@jupyter-widgets/controls",
      "model_module_version": "1.5.0",
      "model_name": "DescriptionStyleModel",
      "state": {
       "description_width": ""
      }
     },
     "df13354bf238482e8cec336763e47730": {
      "model_module": "@jupyter-widgets/controls",
      "model_module_version": "1.5.0",
      "model_name": "DescriptionStyleModel",
      "state": {
       "description_width": ""
      }
     },
     "df417c7cc54a40bca11d1be50187778f": {
      "model_module": "@jupyter-widgets/base",
      "model_module_version": "1.2.0",
      "model_name": "LayoutModel",
      "state": {}
     },
     "df5c5b11811145cc8fac5aa76ac779ab": {
      "model_module": "@jupyter-widgets/controls",
      "model_module_version": "1.5.0",
      "model_name": "DescriptionStyleModel",
      "state": {
       "description_width": "initial"
      }
     },
     "df75290df199440692945dfaf807aa50": {
      "model_module": "@jupyter-widgets/controls",
      "model_module_version": "1.5.0",
      "model_name": "LabelModel",
      "state": {
       "layout": "IPY_MODEL_c53d932b7e254d1a8a85f31f27d529a1",
       "style": "IPY_MODEL_46ea233d99664ddc8d5bc19b40bcc001",
       "value": "Channels"
      }
     },
     "df78345be54d4e5c850c27c6ad57c910": {
      "model_module": "@jupyter-widgets/controls",
      "model_module_version": "1.5.0",
      "model_name": "ButtonModel",
      "state": {
       "description": "Select",
       "layout": "IPY_MODEL_300d807c1b6d45a49f01ec848d5a46f3",
       "style": "IPY_MODEL_5ef49434409e4d269641ae7cf97b5a77"
      }
     },
     "dfa33bcdf9854819b78b986423840ea9": {
      "model_module": "@jupyter-widgets/controls",
      "model_module_version": "1.5.0",
      "model_name": "CheckboxModel",
      "state": {
       "description": "GA Pro - Live link",
       "disabled": false,
       "indent": false,
       "layout": "IPY_MODEL_6da0772794044abf88dff66d291d4599",
       "style": "IPY_MODEL_472592cc45b74626a5d06f760a047d26",
       "value": false
      }
     },
     "dfa952d071fe4efba662eccf2f567317": {
      "model_module": "@jupyter-widgets/output",
      "model_module_version": "1.0.0",
      "model_name": "OutputModel",
      "state": {
       "layout": "IPY_MODEL_e307b2533ec540b8b7c59fbf0e3add66",
       "outputs": [
        {
         "data": {
          "image/png": "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\n",
          "text/plain": "<Figure size 720x720 with 1 Axes>"
         },
         "metadata": {
          "needs_background": "light"
         },
         "output_type": "display_data"
        }
       ]
      }
     },
     "dfb36699f95240b19124d2961befdf4a": {
      "model_module": "@jupyter-widgets/base",
      "model_module_version": "1.2.0",
      "model_name": "LayoutModel",
      "state": {
       "display": "none",
       "grid_gap": "0px 0px",
       "grid_template_areas": "\n                    'pathlist filename'\n                    'dircontent dircontent'\n                    ",
       "grid_template_columns": "60% 40%",
       "grid_template_rows": "auto auto",
       "width": "500px"
      }
     },
     "e059db8a57a7430ebc8882df0d9a27b8": {
      "model_module": "@jupyter-widgets/controls",
      "model_module_version": "1.5.0",
      "model_name": "ButtonStyleModel",
      "state": {}
     },
     "e06fa298385c4ed9baf6f4bbfd2c656d": {
      "model_module": "@jupyter-widgets/base",
      "model_module_version": "1.2.0",
      "model_name": "LayoutModel",
      "state": {
       "display": "none"
      }
     },
     "e0c1638c944d451d8f6faeffe9284a82": {
      "model_module": "@jupyter-widgets/controls",
      "model_module_version": "1.5.0",
      "model_name": "HBoxModel",
      "state": {
       "children": [
        "IPY_MODEL_8a49bb0196114355a5b7b3588c4bd0d1",
        "IPY_MODEL_5d040f2a8bf74586a0773acfce82cc08",
        "IPY_MODEL_5e3e4862960f477ba136e28ac3a62e33"
       ],
       "layout": "IPY_MODEL_e6648ba522ce4ae08c615383ab4ef425"
      }
     },
     "e0e5a19d47f441afa212c15f6f4e6424": {
      "model_module": "@jupyter-widgets/base",
      "model_module_version": "1.2.0",
      "model_name": "LayoutModel",
      "state": {}
     },
     "e0effe3e28034388b4c6afbf9fd9b7ab": {
      "model_module": "@jupyter-widgets/base",
      "model_module_version": "1.2.0",
      "model_name": "LayoutModel",
      "state": {
       "display": "none"
      }
     },
     "e0f2d5b603d44c8c86c12608035e911c": {
      "model_module": "@jupyter-widgets/base",
      "model_module_version": "1.2.0",
      "model_name": "LayoutModel",
      "state": {}
     },
     "e1123603fde5472dae60c3941a516e7c": {
      "model_module": "@jupyter-widgets/controls",
      "model_module_version": "1.5.0",
      "model_name": "DescriptionStyleModel",
      "state": {
       "description_width": ""
      }
     },
     "e14c8fa21b894efd99680fc570a8fc79": {
      "model_module": "@jupyter-widgets/controls",
      "model_module_version": "1.5.0",
      "model_name": "VBoxModel",
      "state": {
       "children": [
        "IPY_MODEL_2119e398b854455388f56c6b6f8ff337",
        "IPY_MODEL_8ca6300f874c4d50ba8cd323e7e6277c",
        "IPY_MODEL_f18444a363d1431ab0ee332a4637a872"
       ],
       "layout": "IPY_MODEL_232a95845d204e22ad9bdf1c40028e51"
      }
     },
     "e16ad5e0febc43359efe778a12e7bab5": {
      "model_module": "@jupyter-widgets/controls",
      "model_module_version": "1.5.0",
      "model_name": "DescriptionStyleModel",
      "state": {
       "description_width": "initial"
      }
     },
     "e1a38066b7ce48ffb91694f1ffab55ff": {
      "model_module": "@jupyter-widgets/controls",
      "model_module_version": "1.5.0",
      "model_name": "DescriptionStyleModel",
      "state": {
       "description_width": ""
      }
     },
     "e1ddeaf7c5ff416087a7fb4ce7c3af5c": {
      "model_module": "@jupyter-widgets/controls",
      "model_module_version": "1.5.0",
      "model_name": "ToggleButtonModel",
      "state": {
       "layout": "IPY_MODEL_1bef642396ff44389055bab2de26f084",
       "style": "IPY_MODEL_4b35dc9265c74ff797074d709d057304",
       "value": true
      }
     },
     "e2148870a2a9488abd038725a4465964": {
      "model_module": "@jupyter-widgets/base",
      "model_module_version": "1.2.0",
      "model_name": "LayoutModel",
      "state": {
       "visibility": "hidden"
      }
     },
     "e21c4093615e4dce88346e240a25ccda": {
      "model_module": "@jupyter-widgets/base",
      "model_module_version": "1.2.0",
      "model_name": "LayoutModel",
      "state": {
       "display": "none",
       "width": "auto"
      }
     },
     "e27a55a4b33f4da283260b979d6c4201": {
      "model_module": "@jupyter-widgets/controls",
      "model_module_version": "1.5.0",
      "model_name": "SelectModel",
      "state": {
       "_options_labels": [
        "..",
        "dask-worker-space",
        "images"
       ],
       "index": null,
       "layout": "IPY_MODEL_d420c75eb2a947e68307f675ae3d3766",
       "rows": 8,
       "style": "IPY_MODEL_6792d102600740c88851a97b36fc0d4d"
      }
     },
     "e2b9cb5201ea4c1ea93cb75ec3a19788": {
      "model_module": "@jupyter-widgets/controls",
      "model_module_version": "1.5.0",
      "model_name": "LabelModel",
      "state": {
       "layout": "IPY_MODEL_fe42d607484641ffa60751a0287006e0",
       "style": "IPY_MODEL_d6d2ded5694b4a9c81965416323a249a",
       "value": "Octree Mesh"
      }
     },
     "e2ceff7c8d5a499d8d19deecf8760532": {
      "model_module": "@jupyter-widgets/controls",
      "model_module_version": "1.5.0",
      "model_name": "DescriptionStyleModel",
      "state": {
       "description_width": "initial"
      }
     },
     "e3075c9042c747d2b752a297f328da3f": {
      "model_module": "@jupyter-widgets/controls",
      "model_module_version": "1.5.0",
      "model_name": "VBoxModel",
      "state": {
       "children": [
        "IPY_MODEL_9eea42559468447e81fd5730bc3d6ecc",
        "IPY_MODEL_2515ee91ac4e41b58a12690a7da4098a"
       ],
       "layout": "IPY_MODEL_2541bccd94284704a4aa90ca643173e7"
      }
     },
     "e307b2533ec540b8b7c59fbf0e3add66": {
      "model_module": "@jupyter-widgets/base",
      "model_module_version": "1.2.0",
      "model_name": "LayoutModel",
      "state": {}
     },
     "e33c6f2438cf4e748f766848bccdf878": {
      "model_module": "@jupyter-widgets/base",
      "model_module_version": "1.2.0",
      "model_name": "LayoutModel",
      "state": {}
     },
     "e3cdcfcb0cbc46ff843ee1997591b02f": {
      "model_module": "@jupyter-widgets/controls",
      "model_module_version": "1.5.0",
      "model_name": "SliderStyleModel",
      "state": {
       "description_width": ""
      }
     },
     "e46079b551744a61b381fd1daf889012": {
      "model_module": "@jupyter-widgets/controls",
      "model_module_version": "1.5.0",
      "model_name": "ButtonStyleModel",
      "state": {}
     },
     "e4bba4e964c041aeb0fa9709c0fb4a0b": {
      "model_module": "@jupyter-widgets/base",
      "model_module_version": "1.2.0",
      "model_name": "LayoutModel",
      "state": {}
     },
     "e52e077724934f289394e61ebbb3cc7d": {
      "model_module": "@jupyter-widgets/controls",
      "model_module_version": "1.5.0",
      "model_name": "DescriptionStyleModel",
      "state": {
       "description_width": ""
      }
     },
     "e53dfa0e86bc44a79f5c6cc0868f4516": {
      "model_module": "@jupyter-widgets/base",
      "model_module_version": "1.2.0",
      "model_name": "LayoutModel",
      "state": {}
     },
     "e5a71b7b59f64f2ca0c9119615ed540d": {
      "model_module": "@jupyter-widgets/controls",
      "model_module_version": "1.5.0",
      "model_name": "DescriptionStyleModel",
      "state": {
       "description_width": "initial"
      }
     },
     "e5afadd9e4f64c0aaa519b32063ae226": {
      "model_module": "@jupyter-widgets/controls",
      "model_module_version": "1.5.0",
      "model_name": "DescriptionStyleModel",
      "state": {
       "description_width": ""
      }
     },
     "e5be2c027bfd4619a85b7516b2e883b8": {
      "model_module": "@jupyter-widgets/controls",
      "model_module_version": "1.5.0",
      "model_name": "SliderStyleModel",
      "state": {
       "description_width": ""
      }
     },
     "e5d32bf28c56447a9d8667bf2f8037b9": {
      "model_module": "@jupyter-widgets/controls",
      "model_module_version": "1.5.0",
      "model_name": "VBoxModel",
      "state": {
       "children": [
        "IPY_MODEL_7bcc182fb731496eb212121954a3c6e1",
        "IPY_MODEL_1d23fd41616049f18061d840b11f5f30"
       ],
       "layout": "IPY_MODEL_fa7695d109ca4bbc872832ce0f6d606a"
      }
     },
     "e5fa9b9509a248f59bbf5694d38e7164": {
      "model_module": "@jupyter-widgets/base",
      "model_module_version": "1.2.0",
      "model_name": "LayoutModel",
      "state": {}
     },
     "e6008364aa754c28a8481ff0c2277179": {
      "model_module": "@jupyter-widgets/base",
      "model_module_version": "1.2.0",
      "model_name": "LayoutModel",
      "state": {}
     },
     "e6648ba522ce4ae08c615383ab4ef425": {
      "model_module": "@jupyter-widgets/base",
      "model_module_version": "1.2.0",
      "model_name": "LayoutModel",
      "state": {
       "width": "auto"
      }
     },
     "e6af7ba195aa4d768fba3da2871b716c": {
      "model_module": "@jupyter-widgets/base",
      "model_module_version": "1.2.0",
      "model_name": "LayoutModel",
      "state": {
       "width": "auto"
      }
     },
     "e6bf15a29928489694a87fc6394399a3": {
      "model_module": "@jupyter-widgets/base",
      "model_module_version": "1.2.0",
      "model_name": "LayoutModel",
      "state": {}
     },
     "e6ceb1cf937d47509a3c9dbda76bef88": {
      "model_module": "@jupyter-widgets/base",
      "model_module_version": "1.2.0",
      "model_name": "LayoutModel",
      "state": {
       "display": "none"
      }
     },
     "e6ec6301c96a49498a54ea23bd11ebb8": {
      "model_module": "@jupyter-widgets/controls",
      "model_module_version": "1.5.0",
      "model_name": "VBoxModel",
      "state": {
       "children": [
        "IPY_MODEL_7e92884e0ce24747a45d60f4b9e238df",
        "IPY_MODEL_0cf8b8267afa4b09a284ebe5db5b0c3d",
        "IPY_MODEL_573f10ef45cb49c790161ab5870896bf",
        "IPY_MODEL_2791ad2daa0b4e7eb8bce18aa429936b",
        "IPY_MODEL_411ea0607fc043dc93635ac7730c3aac"
       ],
       "layout": "IPY_MODEL_919c662e51a245e79e4f91466f85e9d9"
      }
     },
     "e702e73bdcc246aaaf5ec8f342295040": {
      "model_module": "@jupyter-widgets/controls",
      "model_module_version": "1.5.0",
      "model_name": "VBoxModel",
      "state": {
       "children": [
        "IPY_MODEL_b97d09212d8747698a9934d452c2bb58",
        "IPY_MODEL_1607f0e75c784e57a2937a99bbfec16b"
       ],
       "layout": "IPY_MODEL_8102952487ef4e0e8aa01bd17ed00caf"
      }
     },
     "e76565271ee846c09bf688b512578ebc": {
      "model_module": "@jupyter-widgets/base",
      "model_module_version": "1.2.0",
      "model_name": "LayoutModel",
      "state": {
       "grid_area": "filename",
       "width": "auto"
      }
     },
     "e7834474abad4cc3baeab66f77302818": {
      "model_module": "@jupyter-widgets/controls",
      "model_module_version": "1.5.0",
      "model_name": "DescriptionStyleModel",
      "state": {
       "description_width": "initial"
      }
     },
     "e799f74f386d48d9a80d01da6f82ee0d": {
      "model_module": "@jupyter-widgets/controls",
      "model_module_version": "1.5.0",
      "model_name": "DescriptionStyleModel",
      "state": {
       "description_width": "initial"
      }
     },
     "e79f9c76a3734e7c94fa1f04c43f789f": {
      "model_module": "@jupyter-widgets/controls",
      "model_module_version": "1.5.0",
      "model_name": "LabelModel",
      "state": {
       "layout": "IPY_MODEL_111d7f9f115c4e9d95dd636a4c0c97b9",
       "style": "IPY_MODEL_10033b8e3f5941239e4d171f51cbc0f0",
       "value": "Workspace"
      }
     },
     "e7b17a9d48d0499fa1b00e65f8b52d39": {
      "model_module": "@jupyter-widgets/controls",
      "model_module_version": "1.5.0",
      "model_name": "ButtonModel",
      "state": {
       "description": "Create copy:",
       "layout": "IPY_MODEL_c4a10616a4b74cc29a71fbd64150df4c",
       "style": "IPY_MODEL_c4839dc9753d49abb61dc1b60d7a6596"
      }
     },
     "e7b841e46f35476ab8db1af973b0e424": {
      "model_module": "@jupyter-widgets/controls",
      "model_module_version": "1.5.0",
      "model_name": "DescriptionStyleModel",
      "state": {
       "description_width": ""
      }
     },
     "e7c5f925e5ba439689117ab45e46bc4a": {
      "model_module": "@jupyter-widgets/base",
      "model_module_version": "1.2.0",
      "model_name": "LayoutModel",
      "state": {
       "display": "none",
       "grid_gap": "0px 0px",
       "grid_template_areas": "\n                    'pathlist filename'\n                    'dircontent dircontent'\n                    ",
       "grid_template_columns": "60% 40%",
       "grid_template_rows": "auto auto",
       "width": "500px"
      }
     },
     "e813f3a3297d45f7bf31b3b56fbaf8f5": {
      "model_module": "@jupyter-widgets/controls",
      "model_module_version": "1.5.0",
      "model_name": "TextModel",
      "state": {
       "description": "Error (%, floor)",
       "layout": "IPY_MODEL_60aad70049fd4ec99ff9134ee097cf54",
       "style": "IPY_MODEL_11fbf7ebc9b04511afc36db044daec11",
       "value": "0, 1"
      }
     },
     "e840a44dd37d49e988f3a8e5e33e8d46": {
      "model_module": "@jupyter-widgets/base",
      "model_module_version": "1.2.0",
      "model_name": "LayoutModel",
      "state": {}
     },
     "e86ae23e739c42f19d6a74dbd59b951f": {
      "model_module": "@jupyter-widgets/controls",
      "model_module_version": "1.5.0",
      "model_name": "DropdownModel",
      "state": {
       "_options_labels": [
        "Magnetics",
        "Gravity",
        "AeroTEM (2007)",
        "AeroTEM (2010)",
        "DIGHEM",
        "GENESIS (2014)",
        "GEOTEM 75 Hz - 2082 Pulse",
        "HELITEM (35C)",
        "Hummingbird",
        "QUESTEM (1996)",
        "Resolve",
        "SandersGFEM",
        "Skytem 304M (HM)",
        "Skytem 306HP (LM)",
        "Skytem 306M HP (HM)",
        "Skytem 312HP (HM)",
        "Skytem 312HP v2 (HM)",
        "Skytem 312HP v3 (HM)",
        "Skytem 312HP v2 (LM)",
        "Skytem 312HP v3 (LM)",
        "Skytem 516M (HM)",
        "Spectrem (2000)",
        "Spectrem Plus",
        "VTEM (2007)",
        "VTEM Plus",
        "VTEM Max"
       ],
       "description": "Survey Type: ",
       "index": 0,
       "layout": "IPY_MODEL_291e7d39c42d44539eb0f16d4f2f1a43",
       "style": "IPY_MODEL_3d9f503624bb43bcac1ea0641b8000a4"
      }
     },
     "e93271e8f05648b98feb11618cfd267a": {
      "model_module": "@jupyter-widgets/base",
      "model_module_version": "1.2.0",
      "model_name": "LayoutModel",
      "state": {}
     },
     "e94d26b26934494990b616a208762597": {
      "model_module": "@jupyter-widgets/base",
      "model_module_version": "1.2.0",
      "model_name": "LayoutModel",
      "state": {}
     },
     "e981bb0208484de4a3f9a8b1deb05736": {
      "model_module": "@jupyter-widgets/controls",
      "model_module_version": "1.5.0",
      "model_name": "HBoxModel",
      "state": {
       "children": [
        "IPY_MODEL_c732e835442f4755a4f8472ae5972764",
        "IPY_MODEL_c2f016c4492f46009d1f0b7fe274221a"
       ],
       "layout": "IPY_MODEL_e5fa9b9509a248f59bbf5694d38e7164"
      }
     },
     "e982db75485f460b8ab52ff33df6da9b": {
      "model_module": "@jupyter-widgets/controls",
      "model_module_version": "1.5.0",
      "model_name": "ButtonStyleModel",
      "state": {}
     },
     "e9da9a2f8ddf41a9813c53806b9881a9": {
      "model_module": "@jupyter-widgets/controls",
      "model_module_version": "1.5.0",
      "model_name": "VBoxModel",
      "state": {
       "children": [
        "IPY_MODEL_9dfa9adc5ce6466abe683c889aa41ee8",
        "IPY_MODEL_1857f2e5bc28405a8b41c3c3db539b0f"
       ],
       "layout": "IPY_MODEL_d06fce7d06a54bd0a49d1654615f4af2"
      }
     },
     "e9e0f994b6614d8a8cda34378607a56f": {
      "model_module": "@jupyter-widgets/controls",
      "model_module_version": "1.5.0",
      "model_name": "ButtonModel",
      "state": {
       "description": "Select",
       "layout": "IPY_MODEL_0b89589e9bb34f32bbf4d5485c0e71d5",
       "style": "IPY_MODEL_cf229abbadbf4dcca109086968b7da00"
      }
     },
     "ea5f1fc208964f9889e81647625cad47": {
      "model_module": "@jupyter-widgets/base",
      "model_module_version": "1.2.0",
      "model_name": "LayoutModel",
      "state": {}
     },
     "eacfc1f1d5264a1494c0761659b0dc44": {
      "model_module": "@jupyter-widgets/controls",
      "model_module_version": "1.5.0",
      "model_name": "TextModel",
      "state": {
       "disabled": true,
       "layout": "IPY_MODEL_42978899cf6145fd91e0932d408f1896",
       "placeholder": "output filename",
       "style": "IPY_MODEL_9db88254e5034df58610a40274645ae3"
      }
     },
     "ead620fa9331409a8314d8a17ffe0ea5": {
      "model_module": "@jupyter-widgets/controls",
      "model_module_version": "1.5.0",
      "model_name": "DropdownModel",
      "state": {
       "_options_labels": [
        "",
        "fault_splay1",
        "fault_Cliff_Lake",
        "fault_Other_FlinFlon",
        "fault_Club_Lake_splay",
        "fault_Catherine_splay2",
        "fault_Birch_View",
        "fault_Dion_Lake",
        "fault_FlinFlon_splay",
        "fault_West_Mandy_Road",
        "fault_Channing",
        "fault_Ross_Lake",
        "fault_Louis_Hidden",
        "fault_Lake_View_thrust",
        "contact_Schist_Lake",
        "fault_Burley_Lake",
        "fault_Dion_Lake_splay",
        "fault_Green_Lake",
        "fault_FlinFlon",
        "fault_Catherine_splay1",
        "fault_East_Mandy_Road",
        "fault_Other_FlinFlon_South",
        "fault_Catherine_splay4",
        "contact_Stitt_Island",
        "fault_Club_Lake",
        "fault_Tailing_Pond",
        "35_Hidden_Reservoir_Hr5",
        "29_Hidden_Reservoir_Hr1a",
        "60_BlueLagoon_Fb2",
        "20_FlinFlon_Undivided_Int_Dykes_D2f",
        "04_Boundary_Intrusive_S4h",
        "53_Millrock_Rhyolite_Fm4b",
        "19_FlinFlon_Undivided_Int_Dykes_D2b",
        "18_FlinFlon_Undivided_Int_Dykes_777_D2b",
        "06_Phantom_Lake_Intrusive_S3a",
        "21_FlinFlon_Undivided_Int_Dykes_D3a",
        "43_Millrock_CHLSH_South",
        "56_Millrock_Basalt_Fm1ba",
        "17_FlinFlon_Undivided_Int_Dykes_D2",
        "32_Hidden_Reservoir_Hr1b_SW",
        "11_Missi_M3_NE",
        "13_Missi_M1",
        "07_Annabel_Granitoid_S1",
        "45_Millrock_Gabbro_South",
        "01_Late_Intrusive_S5b",
        "31_Hidden_Reservoir_Hr1c_SW",
        "52_Millrock_Rhyolite_Fm4_West_check",
        "55_Millrock_Basalt_Fm1bf",
        "34_Hidden_Reservoir_Hr2b",
        "03_Boundary_Intrusive_S4b",
        "42_Millrock_CHLSH_North",
        "26_Louis_L3",
        "23_FlinFlon_Undivided_Int_Felsic_D4g",
        "30_Hidden_Reservoir_Hr1b",
        "59_BlueLagoon_Fb3",
        "49_Millrock_MVR_Fm5d",
        "44_Millrock_Gabbro_North",
        "27_Hidden_Carlisle_Hc4",
        "22_FlinFlon_Undivided_Int_Felsic_D4e",
        "02_Boundary_Intrusive_S4a",
        "61_BlueLagoon_Fb1_NW",
        "05_Boundary_Intrusive_S4g",
        "39_Ore_Callinan",
        "38_Ore_Dan_Owens",
        "40_Ore_FlinFlon",
        "Inversion_VTEM_Model",
        "Gravity_Magnetics_drape60m",
        "CDI_VTEM_model",
        "Data_FEM_pseudo3D",
        "O2O_Interp_25m",
        "geochem",
        "Inversion_DIGHEM_Model",
        "Topography",
        "Data_TEM_pseudo3D"
       ],
       "description": "Object",
       "index": 0,
       "layout": "IPY_MODEL_229be9a1843b4580abac93cfe8b511a7",
       "style": "IPY_MODEL_7c41cffd74e64b85affc0312ce6aab22"
      }
     },
     "eaf9a99143c8476bae7c6ae984428896": {
      "model_module": "@jupyter-widgets/controls",
      "model_module_version": "1.5.0",
      "model_name": "VBoxModel",
      "state": {
       "children": [
        "IPY_MODEL_659db91fee6846b9ac4dcd67dbe53f7b",
        "IPY_MODEL_fe51a786ea1f4def9b52120e6464ec06"
       ],
       "layout": "IPY_MODEL_2842a4571e854f8b898ebfd65b5439f9"
      }
     },
     "eb4e1872ecee4eba8f4cdc44bc52d165": {
      "model_module": "@jupyter-widgets/controls",
      "model_module_version": "1.5.0",
      "model_name": "DescriptionStyleModel",
      "state": {
       "description_width": ""
      }
     },
     "eb59c8db65584df3b0983593e72df079": {
      "model_module": "@jupyter-widgets/controls",
      "model_module_version": "1.5.0",
      "model_name": "DescriptionStyleModel",
      "state": {
       "description_width": ""
      }
     },
     "eb956181616842a1b8e3afeb1a7631de": {
      "model_module": "@jupyter-widgets/base",
      "model_module_version": "1.2.0",
      "model_name": "LayoutModel",
      "state": {}
     },
     "ebaa3279a5774b22aca109166b56c285": {
      "model_module": "@jupyter-widgets/controls",
      "model_module_version": "1.5.0",
      "model_name": "DescriptionStyleModel",
      "state": {
       "description_width": ""
      }
     },
     "ebb1942b7d124087855e44c6eaaf8c7c": {
      "model_module": "@jupyter-widgets/base",
      "model_module_version": "1.2.0",
      "model_name": "LayoutModel",
      "state": {}
     },
     "ebcc70cbb9e64675aac6d54ec333a81c": {
      "model_module": "@jupyter-widgets/controls",
      "model_module_version": "1.5.0",
      "model_name": "GridBoxModel",
      "state": {
       "children": [
        "IPY_MODEL_bff58be3351d4e979ddd23ee469079ba",
        "IPY_MODEL_ef70c5d9ccf346bb85125ed11402e07d",
        "IPY_MODEL_40d8ebfa072e447bb398a1fbad3ebaeb"
       ],
       "layout": "IPY_MODEL_da65eb45e4b64311afc824eb8e860d28"
      }
     },
     "ebf8ca1a205943f59d39ddf1a28457e2": {
      "model_module": "@jupyter-widgets/controls",
      "model_module_version": "1.5.0",
      "model_name": "FloatTextModel",
      "state": {
       "description": "Max RAM (Gb)",
       "layout": "IPY_MODEL_c682dcad8dec4b838ad3e78143cc05e5",
       "step": null,
       "style": "IPY_MODEL_12b3528dca2940ba9f99db12374a4f9c",
       "value": 2
      }
     },
     "ebf9e409362e443fb2be38aef8b62320": {
      "model_module": "@jupyter-widgets/controls",
      "model_module_version": "1.5.0",
      "model_name": "DropdownModel",
      "state": {
       "_options_labels": [
        "C:\\Users\\dominiquef\\Documents\\GIT\\mira\\mirageoscience-apps\\docs\\content\\applications",
        "C:\\Users\\dominiquef\\Documents\\GIT\\mira\\mirageoscience-apps\\docs\\content",
        "C:\\Users\\dominiquef\\Documents\\GIT\\mira\\mirageoscience-apps\\docs",
        "C:\\Users\\dominiquef\\Documents\\GIT\\mira\\mirageoscience-apps",
        "C:\\Users\\dominiquef\\Documents\\GIT\\mira",
        "C:\\Users\\dominiquef\\Documents\\GIT",
        "C:\\Users\\dominiquef\\Documents",
        "C:\\Users\\dominiquef",
        "C:\\Users",
        "C:\\",
        "D:\\",
        "Z:\\"
       ],
       "index": 0,
       "layout": "IPY_MODEL_073174a90c3b4793bbf0020e29fb90de",
       "style": "IPY_MODEL_eeeca352fcb8434a9f1b47adf8073624"
      }
     },
     "ebfaa76db9044c7a8e4656b8410f17bc": {
      "model_module": "@jupyter-widgets/controls",
      "model_module_version": "1.5.0",
      "model_name": "ButtonStyleModel",
      "state": {}
     },
     "ec57402258f64c8b824f6f0a48e2acdf": {
      "model_module": "@jupyter-widgets/base",
      "model_module_version": "1.2.0",
      "model_name": "LayoutModel",
      "state": {}
     },
     "ec81b3d1ad2d4fbc848591bbd79a5b62": {
      "model_module": "@jupyter-widgets/controls",
      "model_module_version": "1.5.0",
      "model_name": "VBoxModel",
      "state": {
       "children": [
        "IPY_MODEL_4d7c8b891d9d452180cac2edb1cfd0ff",
        "IPY_MODEL_0632ad24fcc749afa80cd5d8472d6d15",
        "IPY_MODEL_f40b6ab26c414c9db5ce3f5f13612ccd",
        "IPY_MODEL_2e92069b1caa48efa9f41e7c3771fd54",
        "IPY_MODEL_282865dbe0b1458b975200bba981d280"
       ],
       "layout": "IPY_MODEL_18fdc1578c35417f9b65d2a07b3d326e"
      }
     },
     "ecac9bb9933f48508d68300ae1e0c1c4": {
      "model_module": "@jupyter-widgets/controls",
      "model_module_version": "1.5.0",
      "model_name": "DropdownModel",
      "state": {
       "_options_labels": [
        "Topography",
        "Sensor"
       ],
       "index": 0,
       "layout": "IPY_MODEL_4737f07601a843fa8d27fbe30d05f5c0",
       "style": "IPY_MODEL_11b6d19cd4794367b2e65db3e4cee920"
      }
     },
     "ecca42b58caa45609c501d2782aa0c05": {
      "model_module": "@jupyter-widgets/base",
      "model_module_version": "1.2.0",
      "model_name": "LayoutModel",
      "state": {
       "visibility": "hidden"
      }
     },
     "ed7fc53774764cfd8969690d53c317af": {
      "model_module": "@jupyter-widgets/controls",
      "model_module_version": "1.5.0",
      "model_name": "LabelModel",
      "state": {
       "layout": "IPY_MODEL_4ec2aa02c51e43798c357ffd10ce61b8",
       "style": "IPY_MODEL_5e4872346753400a9d2d6e130ef37f90",
       "value": "Inversion Options"
      }
     },
     "ee786c5b29214cc89619e7fd9789646e": {
      "model_module": "@jupyter-widgets/controls",
      "model_module_version": "1.5.0",
      "model_name": "DescriptionStyleModel",
      "state": {
       "description_width": ""
      }
     },
     "ee87f3e8c8ea46f78788d47a19f1ac8e": {
      "model_module": "@jupyter-widgets/controls",
      "model_module_version": "1.5.0",
      "model_name": "ButtonStyleModel",
      "state": {}
     },
     "eeb6f5ab1d30431b81b431db3c48fc2d": {
      "model_module": "@jupyter-widgets/base",
      "model_module_version": "1.2.0",
      "model_name": "LayoutModel",
      "state": {}
     },
     "eeeca352fcb8434a9f1b47adf8073624": {
      "model_module": "@jupyter-widgets/controls",
      "model_module_version": "1.5.0",
      "model_name": "DescriptionStyleModel",
      "state": {
       "description_width": ""
      }
     },
     "ef0db34c95f54a35b86c4de378faf1ec": {
      "model_module": "@jupyter-widgets/base",
      "model_module_version": "1.2.0",
      "model_name": "LayoutModel",
      "state": {}
     },
     "ef70c5d9ccf346bb85125ed11402e07d": {
      "model_module": "@jupyter-widgets/controls",
      "model_module_version": "1.5.0",
      "model_name": "TextModel",
      "state": {
       "disabled": true,
       "layout": "IPY_MODEL_6fe58d960ac84614aa29cf4401b1de2f",
       "placeholder": "output filename",
       "style": "IPY_MODEL_7a0efe72e7f0448fab5fdd9ff33e9705"
      }
     },
     "ef903a47a2854da9b667514faa5dbbb3": {
      "model_module": "@jupyter-widgets/controls",
      "model_module_version": "1.5.0",
      "model_name": "VBoxModel",
      "state": {
       "children": [
        "IPY_MODEL_09dd26ceefbf45ab84255b5d41172ba0",
        "IPY_MODEL_6017dd1fb40940e1b2ca976969c1cdcd"
       ],
       "layout": "IPY_MODEL_e93271e8f05648b98feb11618cfd267a"
      }
     },
     "ef909b123dbe4a8d8e6a13af16cfc6ac": {
      "model_module": "@jupyter-widgets/controls",
      "model_module_version": "1.5.0",
      "model_name": "ButtonStyleModel",
      "state": {}
     },
     "efb6c6cf681f45a79db62c694b6f332d": {
      "model_module": "@jupyter-widgets/controls",
      "model_module_version": "1.5.0",
      "model_name": "ButtonStyleModel",
      "state": {}
     },
     "f010e4b1ace34d21bf4edbf0f6a164f8": {
      "model_module": "@jupyter-widgets/controls",
      "model_module_version": "1.5.0",
      "model_name": "DescriptionStyleModel",
      "state": {
       "description_width": "initial"
      }
     },
     "f0401038b241488db22dfcc175550da3": {
      "model_module": "@jupyter-widgets/controls",
      "model_module_version": "1.5.0",
      "model_name": "RadioButtonsModel",
      "state": {
       "_options_labels": [
        "Object",
        "Relative to Sensor",
        "Constant"
       ],
       "description": "Define by:",
       "index": 0,
       "layout": "IPY_MODEL_5f3603614641489daeb19b8a3c648161",
       "style": "IPY_MODEL_6ede19db2dd9472b9c839c79a39b30e9"
      }
     },
     "f07c428e70284f54828eaae8fed7f486": {
      "model_module": "@jupyter-widgets/controls",
      "model_module_version": "1.5.0",
      "model_name": "TextModel",
      "state": {
       "disabled": true,
       "layout": "IPY_MODEL_64a7c15d27044434be485d993fdb5ac1",
       "placeholder": "output filename",
       "style": "IPY_MODEL_e52e077724934f289394e61ebbb3cc7d"
      }
     },
     "f09c3fcce9a24146a6dabd7fdfb9055e": {
      "model_module": "@jupyter-widgets/base",
      "model_module_version": "1.2.0",
      "model_name": "LayoutModel",
      "state": {}
     },
     "f0a200fca5664d57b7ebcc5379b63879": {
      "model_module": "@jupyter-widgets/controls",
      "model_module_version": "1.5.0",
      "model_name": "DropdownModel",
      "state": {
       "_options_labels": [
        "",
        "fault_splay1",
        "fault_Cliff_Lake",
        "fault_Other_FlinFlon",
        "fault_Club_Lake_splay",
        "fault_Catherine_splay2",
        "fault_Birch_View",
        "fault_Dion_Lake",
        "fault_FlinFlon_splay",
        "fault_West_Mandy_Road",
        "fault_Channing",
        "fault_Ross_Lake",
        "fault_Louis_Hidden",
        "fault_Lake_View_thrust",
        "contact_Schist_Lake",
        "fault_Burley_Lake",
        "fault_Dion_Lake_splay",
        "fault_Green_Lake",
        "fault_FlinFlon",
        "fault_Catherine_splay1",
        "fault_East_Mandy_Road",
        "fault_Other_FlinFlon_South",
        "fault_Catherine_splay4",
        "contact_Stitt_Island",
        "fault_Club_Lake",
        "fault_Tailing_Pond",
        "35_Hidden_Reservoir_Hr5",
        "29_Hidden_Reservoir_Hr1a",
        "60_BlueLagoon_Fb2",
        "20_FlinFlon_Undivided_Int_Dykes_D2f",
        "04_Boundary_Intrusive_S4h",
        "53_Millrock_Rhyolite_Fm4b",
        "19_FlinFlon_Undivided_Int_Dykes_D2b",
        "18_FlinFlon_Undivided_Int_Dykes_777_D2b",
        "06_Phantom_Lake_Intrusive_S3a",
        "21_FlinFlon_Undivided_Int_Dykes_D3a",
        "43_Millrock_CHLSH_South",
        "56_Millrock_Basalt_Fm1ba",
        "17_FlinFlon_Undivided_Int_Dykes_D2",
        "32_Hidden_Reservoir_Hr1b_SW",
        "11_Missi_M3_NE",
        "13_Missi_M1",
        "07_Annabel_Granitoid_S1",
        "45_Millrock_Gabbro_South",
        "01_Late_Intrusive_S5b",
        "31_Hidden_Reservoir_Hr1c_SW",
        "52_Millrock_Rhyolite_Fm4_West_check",
        "55_Millrock_Basalt_Fm1bf",
        "34_Hidden_Reservoir_Hr2b",
        "03_Boundary_Intrusive_S4b",
        "42_Millrock_CHLSH_North",
        "26_Louis_L3",
        "23_FlinFlon_Undivided_Int_Felsic_D4g",
        "30_Hidden_Reservoir_Hr1b",
        "59_BlueLagoon_Fb3",
        "49_Millrock_MVR_Fm5d",
        "44_Millrock_Gabbro_North",
        "27_Hidden_Carlisle_Hc4",
        "22_FlinFlon_Undivided_Int_Felsic_D4e",
        "02_Boundary_Intrusive_S4a",
        "61_BlueLagoon_Fb1_NW",
        "05_Boundary_Intrusive_S4g",
        "39_Ore_Callinan",
        "38_Ore_Dan_Owens",
        "40_Ore_FlinFlon",
        "Inversion_VTEM_Model",
        "Gravity_Magnetics_drape60m",
        "CDI_VTEM_model",
        "Data_FEM_pseudo3D",
        "O2O_Interp_25m",
        "geochem",
        "Inversion_DIGHEM_Model",
        "Topography",
        "Data_TEM_pseudo3D"
       ],
       "description": "Object:",
       "index": 0,
       "layout": "IPY_MODEL_225b7dde001b4ce68ba18584f79c6b22",
       "style": "IPY_MODEL_969ef41e4bd9499ab17daf2e6a965f0c"
      }
     },
     "f12bf6273cca4b7d864a39d584596fba": {
      "model_module": "@jupyter-widgets/controls",
      "model_module_version": "1.5.0",
      "model_name": "DescriptionStyleModel",
      "state": {
       "description_width": ""
      }
     },
     "f12d86c2292f40c29bc1762b05361765": {
      "model_module": "@jupyter-widgets/controls",
      "model_module_version": "1.5.0",
      "model_name": "DescriptionStyleModel",
      "state": {
       "description_width": ""
      }
     },
     "f1785ef9c6444df8aaa23fded579010f": {
      "model_module": "@jupyter-widgets/base",
      "model_module_version": "1.2.0",
      "model_name": "LayoutModel",
      "state": {}
     },
     "f18444a363d1431ab0ee332a4637a872": {
      "model_module": "@jupyter-widgets/controls",
      "model_module_version": "1.5.0",
      "model_name": "HBoxModel",
      "state": {
       "children": [
        "IPY_MODEL_6d20c0a46ed544f38b3205d0c1164dd4",
        "IPY_MODEL_10127e952eb24feb8cbb12a7683f6306",
        "IPY_MODEL_bf100585a057461fb811af5cf9ee394b"
       ],
       "layout": "IPY_MODEL_fc6baec7b0224475ac8363c0011a7eb8"
      }
     },
     "f1c62d2fd5ff4e84b903cdea62a3ace0": {
      "model_module": "@jupyter-widgets/base",
      "model_module_version": "1.2.0",
      "model_name": "LayoutModel",
      "state": {}
     },
     "f1d19e82d3f9412baca74177be7b4ae7": {
      "model_module": "@jupyter-widgets/controls",
      "model_module_version": "1.5.0",
      "model_name": "DescriptionStyleModel",
      "state": {
       "description_width": "initial"
      }
     },
     "f21d4848b0a64454a5f639424f3fba66": {
      "model_module": "@jupyter-widgets/controls",
      "model_module_version": "1.5.0",
      "model_name": "VBoxModel",
      "state": {
       "children": [
        "IPY_MODEL_7f3bc8b98ec240bca1cd3be972e11b03",
        "IPY_MODEL_5abc0193b4134511bb3c74f5f5cb9bf7"
       ],
       "layout": "IPY_MODEL_a164b80e163a47dba9c1d45a8f480490"
      }
     },
     "f2758eee70ff444195ac09ae65b8119b": {
      "model_module": "@jupyter-widgets/base",
      "model_module_version": "1.2.0",
      "model_name": "LayoutModel",
      "state": {
       "width": "auto"
      }
     },
     "f2aa040829d3461e9e3133e67d4318db": {
      "model_module": "@jupyter-widgets/controls",
      "model_module_version": "1.5.0",
      "model_name": "TextModel",
      "state": {
       "description": "Lower bound value",
       "layout": "IPY_MODEL_3df29e9521794e26b237d7a72ea9fe9c",
       "style": "IPY_MODEL_3b1cb606655a42aaa08b68c8f539d7c2"
      }
     },
     "f30fadc194e44959a07cc930753ca007": {
      "model_module": "@jupyter-widgets/controls",
      "model_module_version": "1.5.0",
      "model_name": "DropdownModel",
      "state": {
       "_options_labels": [
        "C:\\Users\\dominiquef\\Documents\\GIT\\mira\\mirageoscience-apps\\docs\\content\\applications",
        "C:\\Users\\dominiquef\\Documents\\GIT\\mira\\mirageoscience-apps\\docs\\content",
        "C:\\Users\\dominiquef\\Documents\\GIT\\mira\\mirageoscience-apps\\docs",
        "C:\\Users\\dominiquef\\Documents\\GIT\\mira\\mirageoscience-apps",
        "C:\\Users\\dominiquef\\Documents\\GIT\\mira",
        "C:\\Users\\dominiquef\\Documents\\GIT",
        "C:\\Users\\dominiquef\\Documents",
        "C:\\Users\\dominiquef",
        "C:\\Users",
        "C:\\",
        "D:\\",
        "Z:\\"
       ],
       "index": 0,
       "layout": "IPY_MODEL_f5e52bbd36bb4fc79eaebd1d23d50405",
       "style": "IPY_MODEL_6caeab1c1f6046e0b05804f08972622d"
      }
     },
     "f3207da0cbbd494eb7bad28fc498d7cc": {
      "model_module": "@jupyter-widgets/controls",
      "model_module_version": "1.5.0",
      "model_name": "VBoxModel",
      "state": {
       "children": [
        "IPY_MODEL_177767ca4ead49ac80741c6546888e8c"
       ],
       "layout": "IPY_MODEL_b4ae7596460544a18133cf609f470b98"
      }
     },
     "f3523918122a421285fc9b7e4688e6d3": {
      "model_module": "@jupyter-widgets/controls",
      "model_module_version": "1.5.0",
      "model_name": "DescriptionStyleModel",
      "state": {
       "description_width": "initial"
      }
     },
     "f36456e1e7ac4060b38286d92174b855": {
      "model_module": "@jupyter-widgets/controls",
      "model_module_version": "1.5.0",
      "model_name": "FloatTextModel",
      "state": {
       "description": "Air cells fill value",
       "layout": "IPY_MODEL_3aecf9434399475c8aa01f7afb773a5a",
       "step": null,
       "style": "IPY_MODEL_0003d2ac73ca47689bbee01627978039"
      }
     },
     "f383ae963b8f4be6a0c10e877aa50c87": {
      "model_module": "@jupyter-widgets/controls",
      "model_module_version": "1.5.0",
      "model_name": "VBoxModel",
      "state": {
       "children": [
        "IPY_MODEL_326b5f7869ee4c00bb612f3a5f464b7e",
        "IPY_MODEL_9813925d98f642a6a9210510a45e4875"
       ],
       "layout": "IPY_MODEL_b1e5f22c52e846fc884fbe010aef52fc"
      }
     },
     "f3c64a84cc5d4238a04afb13df9ec7e1": {
      "model_module": "@jupyter-widgets/base",
      "model_module_version": "1.2.0",
      "model_name": "LayoutModel",
      "state": {
       "grid_area": "pathlist",
       "width": "auto"
      }
     },
     "f3df2cd7f585432c9180310dd77aa985": {
      "model_module": "@jupyter-widgets/controls",
      "model_module_version": "1.5.0",
      "model_name": "VBoxModel",
      "state": {
       "children": [
        "IPY_MODEL_465dfbe18fd7486c98bf3f7ed667f6ba",
        "IPY_MODEL_8e508c213d7d4fdea228021a1cc32619",
        "IPY_MODEL_243b1045db754e5bae406043588fc434",
        "IPY_MODEL_e813f3a3297d45f7bf31b3b56fbaf8f5",
        "IPY_MODEL_60bece9e7d75491a8d68ef69ab6a9350"
       ],
       "layout": "IPY_MODEL_37783455127c4f89b6f832d928937b81"
      }
     },
     "f3f3b72eb3494718883d543f5bdff86e": {
      "model_module": "@jupyter-widgets/controls",
      "model_module_version": "1.5.0",
      "model_name": "TextModel",
      "state": {
       "continuous_update": false,
       "description": "Contours",
       "layout": "IPY_MODEL_a68b69c99a70470bbd83fd371334e4c5",
       "style": "IPY_MODEL_e1123603fde5472dae60c3941a516e7c"
      }
     },
     "f3fb77464826457bba96832bdd7e2b20": {
      "model_module": "@jupyter-widgets/controls",
      "model_module_version": "1.5.0",
      "model_name": "HTMLModel",
      "state": {
       "layout": "IPY_MODEL_a844bfe31d3043eda175e831ed6ec47a",
       "placeholder": "",
       "style": "IPY_MODEL_4342bdf11e084d5f933849ec0c1fb1eb",
       "value": "<span style=\"margin-left:10px; color:black;\">No file selected</span>"
      }
     },
     "f403cc848dd44d0d8497c7fe43505f07": {
      "model_module": "@jupyter-widgets/controls",
      "model_module_version": "1.5.0",
      "model_name": "TextModel",
      "state": {
       "description": "Scaling alpha_(s, x, y, z)",
       "layout": "IPY_MODEL_f76874f852f44643904a660b746b36ab",
       "style": "IPY_MODEL_77d461b0ed0946c385348c51000f2513",
       "value": "1.0, 1.0, 1.0, 1.0"
      }
     },
     "f40b6ab26c414c9db5ce3f5f13612ccd": {
      "model_module": "@jupyter-widgets/controls",
      "model_module_version": "1.5.0",
      "model_name": "DropdownModel",
      "state": {
       "_options_labels": [
        "",
        "--- Channels ---",
        "Airborne_Gxx",
        "Airborne_Gxy",
        "Airborne_Gxz",
        "Airborne_Gyy",
        "Airborne_Gyz",
        "Airborne_Gz",
        "Airborne_Gzz",
        "Airborne_TMI",
        "Ground_Gz",
        "Z"
       ],
       "description": "Channel <=> Data:",
       "index": 11,
       "layout": "IPY_MODEL_de6c8d04b0a74317a344b2b4c465a8de",
       "style": "IPY_MODEL_5735d2fc418e421bb63e6e621fb497e9"
      }
     },
     "f41a0f6cd6844a96a41186fe13467552": {
      "model_module": "@jupyter-widgets/controls",
      "model_module_version": "1.5.0",
      "model_name": "DescriptionStyleModel",
      "state": {
       "description_width": ""
      }
     },
     "f492dfe0330c4023bd69fea4346a3a89": {
      "model_module": "@jupyter-widgets/base",
      "model_module_version": "1.2.0",
      "model_name": "LayoutModel",
      "state": {}
     },
     "f51a2e19327c4d20be2afcab5e8a57ea": {
      "model_module": "@jupyter-widgets/base",
      "model_module_version": "1.2.0",
      "model_name": "LayoutModel",
      "state": {}
     },
     "f541a150cdb04502aeef6265c5095c6a": {
      "model_module": "@jupyter-widgets/controls",
      "model_module_version": "1.5.0",
      "model_name": "RadioButtonsModel",
      "state": {
       "_options_labels": [
        "Model",
        "Value"
       ],
       "index": 1,
       "layout": "IPY_MODEL_155ef7c24f4445948f5e32a0bddbea24",
       "style": "IPY_MODEL_6ad8a8d5a1464a44af1cbc84d8e0a21f"
      }
     },
     "f5612135dfaa468fbc89c894065dbdbd": {
      "model_module": "@jupyter-widgets/controls",
      "model_module_version": "1.5.0",
      "model_name": "DescriptionStyleModel",
      "state": {
       "description_width": ""
      }
     },
     "f56d35a2a8b64db6b2811fab7b7e9fb5": {
      "model_module": "@jupyter-widgets/base",
      "model_module_version": "1.2.0",
      "model_name": "LayoutModel",
      "state": {
       "width": "auto"
      }
     },
     "f577e27b22e047a5bef73cb984c1f334": {
      "model_module": "@jupyter-widgets/controls",
      "model_module_version": "1.5.0",
      "model_name": "VBoxModel",
      "state": {
       "children": [
        "IPY_MODEL_d71538e6d64e46738132761e1b641e41",
        "IPY_MODEL_14a8215aaf0e4189a626172b18bba83b"
       ],
       "layout": "IPY_MODEL_19f45a84a8334f99ba242f4270369b8e"
      }
     },
     "f57aed99e9af428f8cc0698815d0ae74": {
      "model_module": "@jupyter-widgets/controls",
      "model_module_version": "1.5.0",
      "model_name": "ButtonModel",
      "state": {
       "description": "Select",
       "layout": "IPY_MODEL_12dc7b8f5f7e4676bc10ab4bcc8b6049",
       "style": "IPY_MODEL_e059db8a57a7430ebc8882df0d9a27b8"
      }
     },
     "f5d876677e1748d4b008812e427213a0": {
      "model_module": "@jupyter-widgets/base",
      "model_module_version": "1.2.0",
      "model_name": "LayoutModel",
      "state": {}
     },
     "f5e52bbd36bb4fc79eaebd1d23d50405": {
      "model_module": "@jupyter-widgets/base",
      "model_module_version": "1.2.0",
      "model_name": "LayoutModel",
      "state": {
       "grid_area": "pathlist",
       "width": "auto"
      }
     },
     "f5e7bdbfde344f738a4ece810bb14c7e": {
      "model_module": "@jupyter-widgets/controls",
      "model_module_version": "1.5.0",
      "model_name": "ButtonStyleModel",
      "state": {}
     },
     "f6375df0631d42eaa3d1324596d2384b": {
      "model_module": "@jupyter-widgets/base",
      "model_module_version": "1.2.0",
      "model_name": "LayoutModel",
      "state": {}
     },
     "f7411f195a104abdb5feca8e3cb74ce4": {
      "model_module": "@jupyter-widgets/controls",
      "model_module_version": "1.5.0",
      "model_name": "FloatTextModel",
      "state": {
       "description": "SI",
       "layout": "IPY_MODEL_4c5151a75ebf45289d48363eeb343316",
       "step": null,
       "style": "IPY_MODEL_fc133902d2814c8899e1fd781c7af0d0"
      }
     },
     "f76874f852f44643904a660b746b36ab": {
      "model_module": "@jupyter-widgets/base",
      "model_module_version": "1.2.0",
      "model_name": "LayoutModel",
      "state": {}
     },
     "f76bb004fa4c4dfdb504fdd1958e415a": {
      "model_module": "@jupyter-widgets/controls",
      "model_module_version": "1.5.0",
      "model_name": "DescriptionStyleModel",
      "state": {
       "description_width": ""
      }
     },
     "f775af3de83a4fd7b6921f158fb5c1f0": {
      "model_module": "@jupyter-widgets/controls",
      "model_module_version": "1.5.0",
      "model_name": "DescriptionStyleModel",
      "state": {
       "description_width": ""
      }
     },
     "f790885dd8554dd8aa94deedd2e81ee4": {
      "model_module": "@jupyter-widgets/controls",
      "model_module_version": "1.5.0",
      "model_name": "VBoxModel",
      "state": {
       "children": [
        "IPY_MODEL_3d65088b5461455696baf42cdb2401b1",
        "IPY_MODEL_866f4c30fbc3494a85cccf3a76a1b510"
       ],
       "layout": "IPY_MODEL_cdafcca4356f4b73a79ccd961314f906"
      }
     },
     "f798bbb2039f4201ad8612fc8910ab07": {
      "model_module": "@jupyter-widgets/controls",
      "model_module_version": "1.5.0",
      "model_name": "DescriptionStyleModel",
      "state": {
       "description_width": ""
      }
     },
     "f79fb14099714cdf90ee719c37ad2d75": {
      "model_module": "@jupyter-widgets/base",
      "model_module_version": "1.2.0",
      "model_name": "LayoutModel",
      "state": {
       "width": "auto"
      }
     },
     "f7b445e52dc64f32a1c6395c4e7ddee3": {
      "model_module": "@jupyter-widgets/controls",
      "model_module_version": "1.5.0",
      "model_name": "VBoxModel",
      "state": {
       "children": [
        "IPY_MODEL_f0401038b241488db22dfcc175550da3",
        "IPY_MODEL_9b0bad389c9e4608becc741558a3f33e"
       ],
       "layout": "IPY_MODEL_93edc8317c504d3ca524ee3e1beb752e"
      }
     },
     "f7b969f030864b5db9299243d7014eda": {
      "model_module": "@jupyter-widgets/controls",
      "model_module_version": "1.5.0",
      "model_name": "ButtonModel",
      "state": {
       "description": "Select",
       "layout": "IPY_MODEL_dd01e4863fd74e2aae353991ff98b075",
       "style": "IPY_MODEL_ee87f3e8c8ea46f78788d47a19f1ac8e"
      }
     },
     "f89d80bda5af4e0dba6891c5824fbb35": {
      "model_module": "@jupyter-widgets/base",
      "model_module_version": "1.2.0",
      "model_name": "LayoutModel",
      "state": {
       "width": "auto"
      }
     },
     "f92111c2f6a74335bd18ce203da2ab9f": {
      "model_module": "@jupyter-widgets/controls",
      "model_module_version": "1.5.0",
      "model_name": "DescriptionStyleModel",
      "state": {
       "description_width": "initial"
      }
     },
     "f9270e56ac184034a3f50cd5b83a4030": {
      "model_module": "@jupyter-widgets/base",
      "model_module_version": "1.2.0",
      "model_name": "LayoutModel",
      "state": {}
     },
     "f93d8c3b2cd14749b87ee6e3e3eedaa2": {
      "model_module": "@jupyter-widgets/base",
      "model_module_version": "1.2.0",
      "model_name": "LayoutModel",
      "state": {}
     },
     "f9904b5c3fa24c3aa4bfc5834943b289": {
      "model_module": "@jupyter-widgets/controls",
      "model_module_version": "1.5.0",
      "model_name": "DescriptionStyleModel",
      "state": {
       "description_width": "initial"
      }
     },
     "f9d056dc9ccc443e8933e502a51042a7": {
      "model_module": "@jupyter-widgets/controls",
      "model_module_version": "1.5.0",
      "model_name": "HBoxModel",
      "state": {
       "children": [
        "IPY_MODEL_df78345be54d4e5c850c27c6ad57c910",
        "IPY_MODEL_b90878059e964c0cab161536b432b2e4",
        "IPY_MODEL_c5bcafb8097645dd9f858871f2fc9cd2"
       ],
       "layout": "IPY_MODEL_06e58c0786c945f9bab4ded8d3f4f364"
      }
     },
     "fa3b2a33e1e04b0da02b3f391324a593": {
      "model_module": "@jupyter-widgets/base",
      "model_module_version": "1.2.0",
      "model_name": "LayoutModel",
      "state": {}
     },
     "fa51640895b944d8b8916b71fa14595f": {
      "model_module": "@jupyter-widgets/controls",
      "model_module_version": "1.5.0",
      "model_name": "ButtonModel",
      "state": {
       "button_style": "danger",
       "description": "Compute",
       "icon": "check",
       "layout": "IPY_MODEL_923fe71fa4e747d6bb3b4572ccd9aaaf",
       "style": "IPY_MODEL_37dc4be782da45ceba674bf896f786b0",
       "tooltip": "Run computation"
      }
     },
     "fa7695d109ca4bbc872832ce0f6d606a": {
      "model_module": "@jupyter-widgets/base",
      "model_module_version": "1.2.0",
      "model_name": "LayoutModel",
      "state": {}
     },
     "faeb6158ea6c49cbaa1bc7797f6bcbcc": {
      "model_module": "@jupyter-widgets/base",
      "model_module_version": "1.2.0",
      "model_name": "LayoutModel",
      "state": {}
     },
     "fb06179f77014986904938d9c7f35571": {
      "model_module": "@jupyter-widgets/controls",
      "model_module_version": "1.5.0",
      "model_name": "VBoxModel",
      "state": {
       "children": [
        "IPY_MODEL_5474daba73bd4643a1aa15571b4370ef",
        "IPY_MODEL_f2aa040829d3461e9e3133e67d4318db"
       ],
       "layout": "IPY_MODEL_db2da29846494cf89fca76555dfe1155"
      }
     },
     "fb6ae0ac386b48a29bd1926b0c607c85": {
      "model_module": "@jupyter-widgets/controls",
      "model_module_version": "1.5.0",
      "model_name": "DropdownModel",
      "state": {
       "_options_labels": [
        "",
        "--- Channels ---",
        "Airborne_Gxx",
        "Airborne_Gxy",
        "Airborne_Gxz",
        "Airborne_Gyy",
        "Airborne_Gyz",
        "Airborne_Gz",
        "Airborne_Gzz",
        "Airborne_TMI",
        "Ground_Gz",
        "Z"
       ],
       "description": "Channel <=> Data:",
       "index": 0,
       "layout": "IPY_MODEL_d8354189b4c7423c92b033e07439ab1c",
       "style": "IPY_MODEL_1c98b7aec66f4394a97e0bace5f7d41f"
      }
     },
     "fbcde7fd4fff4e428fffe3b3261576ea": {
      "model_module": "@jupyter-widgets/controls",
      "model_module_version": "1.5.0",
      "model_name": "VBoxModel",
      "state": {
       "children": [
        "IPY_MODEL_f0a200fca5664d57b7ebcc5379b63879",
        "IPY_MODEL_c97895aded704e298e49828d92a8aa87"
       ],
       "layout": "IPY_MODEL_b3f365ba1b52446c9f12fa9fdb81adb6"
      }
     },
     "fbd565da99da4df7ba506c5732c164bd": {
      "model_module": "@jupyter-widgets/controls",
      "model_module_version": "1.5.0",
      "model_name": "DescriptionStyleModel",
      "state": {
       "description_width": ""
      }
     },
     "fc133902d2814c8899e1fd781c7af0d0": {
      "model_module": "@jupyter-widgets/controls",
      "model_module_version": "1.5.0",
      "model_name": "DescriptionStyleModel",
      "state": {
       "description_width": ""
      }
     },
     "fc52e3551c3e4d7d9bbacef51a9cfbc3": {
      "model_module": "@jupyter-widgets/base",
      "model_module_version": "1.2.0",
      "model_name": "LayoutModel",
      "state": {}
     },
     "fc6baec7b0224475ac8363c0011a7eb8": {
      "model_module": "@jupyter-widgets/base",
      "model_module_version": "1.2.0",
      "model_name": "LayoutModel",
      "state": {
       "width": "auto"
      }
     },
     "fc927261979241d49b0e3ead11f0e1fe": {
      "model_module": "@jupyter-widgets/controls",
      "model_module_version": "1.5.0",
      "model_name": "HTMLModel",
      "state": {
       "layout": "IPY_MODEL_a912d6b593694b1dbcc078c18994656d",
       "placeholder": "",
       "style": "IPY_MODEL_2bb9e08d8f4d43a9a073d0ee03cada25",
       "value": "<span style=\"margin-left:10px; color:black;\">No file selected</span>"
      }
     },
     "fcfe5f49c39148a6b5d03824ba5527b3": {
      "model_module": "@jupyter-widgets/controls",
      "model_module_version": "1.5.0",
      "model_name": "DescriptionStyleModel",
      "state": {
       "description_width": ""
      }
     },
     "fd1a278b457b4ee199fe53c7973b6484": {
      "model_module": "@jupyter-widgets/controls",
      "model_module_version": "1.5.0",
      "model_name": "DescriptionStyleModel",
      "state": {
       "description_width": "initial"
      }
     },
     "fd581b02aae64054ab94b1ae92e60fdb": {
      "model_module": "@jupyter-widgets/base",
      "model_module_version": "1.2.0",
      "model_name": "LayoutModel",
      "state": {}
     },
     "fd6b46af12f14c1a8fa25877ec405ee0": {
      "model_module": "@jupyter-widgets/base",
      "model_module_version": "1.2.0",
      "model_name": "LayoutModel",
      "state": {}
     },
     "fd6c844508db46158ae0cb3fa744909b": {
      "model_module": "@jupyter-widgets/controls",
      "model_module_version": "1.5.0",
      "model_name": "DescriptionStyleModel",
      "state": {
       "description_width": ""
      }
     },
     "fd724a13800e495e8fd21aa359b7df4b": {
      "model_module": "@jupyter-widgets/base",
      "model_module_version": "1.2.0",
      "model_name": "LayoutModel",
      "state": {
       "width": "auto"
      }
     },
     "fd7c79828db140f4afc106fc79d4f551": {
      "model_module": "@jupyter-widgets/base",
      "model_module_version": "1.2.0",
      "model_name": "LayoutModel",
      "state": {}
     },
     "fd8b7b62b9a1468a87324d4245513d85": {
      "model_module": "@jupyter-widgets/controls",
      "model_module_version": "1.5.0",
      "model_name": "DescriptionStyleModel",
      "state": {
       "description_width": ""
      }
     },
     "fdd75ecac26d4802bd1b16468fdeec68": {
      "model_module": "@jupyter-widgets/controls",
      "model_module_version": "1.5.0",
      "model_name": "ButtonModel",
      "state": {
       "description": "Cancel",
       "layout": "IPY_MODEL_ffd56f9da96143be9402bfcbc84a0ccc",
       "style": "IPY_MODEL_c98ce4fd478b4862a1774e57e85664a3"
      }
     },
     "fe0f778c79e343b6bac3bb8339fc7025": {
      "model_module": "@jupyter-widgets/controls",
      "model_module_version": "1.5.0",
      "model_name": "VBoxModel",
      "state": {
       "children": [
        "IPY_MODEL_a75bd0a98fcb492a88ce5feb9a32e0f9",
        "IPY_MODEL_5b8fd09721af4f52aa7f129646dbfbab"
       ],
       "layout": "IPY_MODEL_6c1fbe34b98d4c5c8df00f78dbd2f15f"
      }
     },
     "fe42d607484641ffa60751a0287006e0": {
      "model_module": "@jupyter-widgets/base",
      "model_module_version": "1.2.0",
      "model_name": "LayoutModel",
      "state": {}
     },
     "fe51a786ea1f4def9b52120e6464ec06": {
      "model_module": "@jupyter-widgets/controls",
      "model_module_version": "1.5.0",
      "model_name": "VBoxModel",
      "state": {
       "children": [
        "IPY_MODEL_98a5ac9650914006aeba96d0dc2bc7ac"
       ],
       "layout": "IPY_MODEL_6c1acf57813c41d783b701bf8d9e03c7"
      }
     },
     "ffd365f0eed1477db3a5b45c66cdbdce": {
      "model_module": "@jupyter-widgets/controls",
      "model_module_version": "1.5.0",
      "model_name": "FloatSliderModel",
      "state": {
       "continuous_update": false,
       "description": "Northing",
       "layout": "IPY_MODEL_72e5aa1c11364ea49eef9922e01fb973",
       "max": 6076443.652111261,
       "min": 6065091.787108775,
       "orientation": "vertical",
       "step": 0.1,
       "style": "IPY_MODEL_369cebf070b644668091f82b0a9824c4",
       "value": 6072200
      }
     },
     "ffd56f9da96143be9402bfcbc84a0ccc": {
      "model_module": "@jupyter-widgets/base",
      "model_module_version": "1.2.0",
      "model_name": "LayoutModel",
      "state": {
       "display": "none",
       "width": "auto"
      }
     }
    },
    "version_major": 2,
    "version_minor": 0
   }
  }
 },
 "nbformat": 4,
 "nbformat_minor": 4
}

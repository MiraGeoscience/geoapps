{
 "cells": [
  {
   "cell_type": "markdown",
   "id": "intellectual-rebecca",
   "metadata": {},
   "source": [
    "# Scatter Plot\n",
    "\n",
    "This application lets users visualize up to 5D of data pulled from any\n",
    "[Geoscience ANALYST](https://mirageoscience.com/mining-industry-software/geoscience-analyst/)\n",
    "objects. The application uses the rich graphical interface of\n",
    "[Plotly](https://plotly.com/). This application allows users to:\n",
    "\n",
    "- Easily flip between 2D and 3D cross-plots.\n",
    "- Plot positive and negative values in log scale (symmetric-log)\n",
    "- Change the color and size of markers based on property values\n",
    "- Zoom, pan, rotate and export figures.\n",
    "\n",
    "\n",
    "  <img align=\"right\" width=\"50%\" src=\"./images/scatter_thumbnail.png\">\n",
    "\n",
    "\n",
    "New user? Visit the [Getting Started](../installation.rst) page."
   ]
  },
  {
   "cell_type": "markdown",
   "id": "difficult-release",
   "metadata": {},
   "source": [
    "## Application\n",
    "The following sections provide details on the different parameters controlling the application. Interactive widgets shown below are for demonstration purposes only."
   ]
  },
  {
   "cell_type": "code",
   "execution_count": 1,
   "id": "beginning-weight",
   "metadata": {},
   "outputs": [
    {
     "data": {
      "application/vnd.jupyter.widget-view+json": {
       "model_id": "5d901afd2c7a459baf7e66f13247b150",
       "version_major": 2,
       "version_minor": 0
      },
      "text/plain": [
       "VBox(children=(VBox(children=(Label(value='Workspace', style=DescriptionStyle(description_width='initial')), H…"
      ]
     },
     "metadata": {},
     "output_type": "display_data"
    }
   ],
   "source": [
    "from geoapps.scatter_plot import ScatterPlots\n",
    "\n",
    "app = ScatterPlots(h5file=r\"../../../assets/FlinFlon.geoh5\")\n",
    "app()"
   ]
  },
  {
   "cell_type": "markdown",
   "id": "future-uniform",
   "metadata": {},
   "source": [
    "## Project Selection\n",
    "\n",
    "Select and connect to an existing **geoh5** project file containing data. "
   ]
  },
  {
   "cell_type": "code",
   "execution_count": 2,
   "id": "lesser-findings",
   "metadata": {
    "scrolled": true
   },
   "outputs": [
    {
     "data": {
      "application/vnd.jupyter.widget-view+json": {
       "model_id": "976fdbeb2bbd457b8026c6465fe9ab8a",
       "version_major": 2,
       "version_minor": 0
      },
      "text/plain": [
       "VBox(children=(Label(value='Workspace', style=DescriptionStyle(description_width='initial')), HBox(children=(F…"
      ]
     },
     "metadata": {},
     "output_type": "display_data"
    }
   ],
   "source": [
    "app.project_panel"
   ]
  },
  {
   "cell_type": "markdown",
   "id": "bearing-housing",
   "metadata": {},
   "source": [
    "See the [Project Panel](base_application.ipynb#Project-Panel) page for more details."
   ]
  },
  {
   "cell_type": "markdown",
   "id": "mysterious-startup",
   "metadata": {},
   "source": [
    "## Object and Data Selection\n",
    "\n",
    "List of objects available for export from the target `geoh5` project. "
   ]
  },
  {
   "cell_type": "code",
   "execution_count": 3,
   "id": "accomplished-behalf",
   "metadata": {
    "scrolled": true
   },
   "outputs": [
    {
     "data": {
      "application/vnd.jupyter.widget-view+json": {
       "model_id": "cd85813702bf4831899a96bc89a92a78",
       "version_major": 2,
       "version_minor": 0
      },
      "text/plain": [
       "VBox(children=(Dropdown(description='Object:', index=11, options=(['', None], ['Labels/Label3', UUID('39b2d390…"
      ]
     },
     "metadata": {},
     "output_type": "display_data"
    }
   ],
   "source": [
    "app.data_panel"
   ]
  },
  {
   "cell_type": "markdown",
   "id": "specified-minneapolis",
   "metadata": {},
   "source": [
    "## Axes options\n",
    "\n",
    "Adjust the data channels used by the scatter plot."
   ]
  },
  {
   "cell_type": "code",
   "execution_count": 4,
   "id": "middle-observer",
   "metadata": {},
   "outputs": [
    {
     "data": {
      "application/vnd.jupyter.widget-view+json": {
       "model_id": "325eeedb9fcf4edf86c905cc60e6e0b3",
       "version_major": 2,
       "version_minor": 0
      },
      "text/plain": [
       "Dropdown(layout=Layout(width='300px'), options=('X-axis', 'Y-axis', 'Z-axis', 'Color', 'Size'), style=Descript…"
      ]
     },
     "metadata": {},
     "output_type": "display_data"
    }
   ],
   "source": [
    "app.axes_pannels"
   ]
  },
  {
   "cell_type": "markdown",
   "id": "handled-seminar",
   "metadata": {},
   "source": [
    "### 3D Axes\n",
    "\n",
    "Set the Cartesian axes, color and marker size."
   ]
  },
  {
   "cell_type": "code",
   "execution_count": 5,
   "id": "exclusive-clark",
   "metadata": {},
   "outputs": [
    {
     "data": {
      "application/vnd.jupyter.widget-view+json": {
       "model_id": "5cdce4d125da4ac5a2e27949e5dff651",
       "version_major": 2,
       "version_minor": 0
      },
      "text/plain": [
       "VBox(children=(Checkbox(value=True, description='Active', indent=False, style=DescriptionStyle(description_wid…"
      ]
     },
     "metadata": {},
     "output_type": "display_data"
    }
   ],
   "source": [
    "app._x_panel"
   ]
  },
  {
   "cell_type": "markdown",
   "id": "instant-enforcement",
   "metadata": {},
   "source": [
    "**Active**: Turn the selected axis on/off. A 3D scatter plot is displayed if ALL of X, Y and Z axis are active.\n",
    "\n",
    "**Data**: Select the property to be displayed by the axis.\n",
    "\n",
    "**Log10**: Scale the values using a symmlog stretch.\n",
    "\n",
    "**Threshold**: Small value around zero defining the transition between linear to log.\n",
    "\n",
    "**Min**: Set a lower bound on values displayed by the axis.\n",
    "\n",
    "**Max**: Set an upper bound on values displayed by the axis."
   ]
  },
  {
   "cell_type": "markdown",
   "id": "meaningful-macro",
   "metadata": {},
   "source": [
    "#### Color\n",
    "Select a color scheme from the list of colormaps"
   ]
  },
  {
   "cell_type": "code",
   "execution_count": 6,
   "id": "catholic-equilibrium",
   "metadata": {},
   "outputs": [
    {
     "data": {
      "application/vnd.jupyter.widget-view+json": {
       "model_id": "95d204f025524bfa9b3b09cc5f61095c",
       "version_major": 2,
       "version_minor": 0
      },
      "text/plain": [
       "Dropdown(description='Colormaps', index=20, options=('aggrnyl', 'agsunset', 'blackbody', 'bluered', 'blues', '…"
      ]
     },
     "metadata": {},
     "output_type": "display_data"
    }
   ],
   "source": [
    "app.color_maps"
   ]
  },
  {
   "cell_type": "markdown",
   "id": "precious-movement",
   "metadata": {},
   "source": [
    "#### Size\n",
    "\n",
    "Set the maximum marker size to scale values from. "
   ]
  },
  {
   "cell_type": "code",
   "execution_count": 7,
   "id": "extra-guidance",
   "metadata": {},
   "outputs": [
    {
     "data": {
      "application/vnd.jupyter.widget-view+json": {
       "model_id": "60f42f7304644ca9ab046d49d0ad09f0",
       "version_major": 2,
       "version_minor": 0
      },
      "text/plain": [
       "IntSlider(value=20, continuous_update=False, description='Marker size', min=1, style=SliderStyle(description_w…"
      ]
     },
     "metadata": {},
     "output_type": "display_data"
    }
   ],
   "source": [
    "app.size_markers"
   ]
  },
  {
   "cell_type": "markdown",
   "id": "modern-gauge",
   "metadata": {},
   "source": [
    "## Save HTML\n",
    "\n",
    "Save an interactive crossplot to an HTML file."
   ]
  },
  {
   "cell_type": "code",
   "execution_count": 8,
   "id": "vocational-market",
   "metadata": {},
   "outputs": [
    {
     "data": {
      "application/vnd.jupyter.widget-view+json": {
       "model_id": "71f6307931f64de7891a12da7abb536c",
       "version_major": 2,
       "version_minor": 0
      },
      "text/plain": [
       "Button(button_style='danger', description='Save HTML', icon='check', style=ButtonStyle(), tooltip='Run computa…"
      ]
     },
     "metadata": {},
     "output_type": "display_data"
    }
   ],
   "source": [
    "app.trigger"
   ]
  },
  {
   "cell_type": "markdown",
   "id": "viral-witness",
   "metadata": {},
   "source": [
    "Need help? Contact us at support@mirageoscience.com"
   ]
  },
  {
   "cell_type": "code",
   "execution_count": 9,
   "id": "defined-equipment",
   "metadata": {
    "nbsphinx": "hidden"
   },
   "outputs": [],
   "source": [
    "app.figure.write_image(\"images/scatter_thumbnail.png\")"
   ]
  }
 ],
 "metadata": {
  "kernelspec": {
   "display_name": "Python 3 (ipykernel)",
   "language": "python",
   "name": "python3"
  },
  "language_info": {
   "codemirror_mode": {
    "name": "ipython",
    "version": 3
   },
   "file_extension": ".py",
   "mimetype": "text/x-python",
   "name": "python",
   "nbconvert_exporter": "python",
   "pygments_lexer": "ipython3",
   "version": "3.9.13"
  },
  "widgets": {
   "application/vnd.jupyter.widget-state+json": {
    "state": {
     "00534c29b6324504b004568d6db3b253": {
      "model_module": "@jupyter-widgets/controls",
      "model_module_version": "1.5.0",
      "model_name": "DescriptionStyleModel",
      "state": {
       "description_width": ""
      }
     },
     "00fcec4ed9764206a8b7d15a8ec2b6bc": {
      "model_module": "@jupyter-widgets/controls",
      "model_module_version": "1.5.0",
      "model_name": "VBoxModel",
      "state": {
       "children": [
        "IPY_MODEL_52d20788db37476cbdcc0a3f7234abac",
        "IPY_MODEL_c944d65a8fbb401c828c118c9aac477f"
       ],
       "layout": "IPY_MODEL_1a9a089d69114ba8a510b3cc136faea9"
      }
     },
     "01609879b00e407481195df0ce80169d": {
      "model_module": "@jupyter-widgets/controls",
      "model_module_version": "1.5.0",
      "model_name": "DescriptionStyleModel",
      "state": {
       "description_width": ""
      }
     },
     "01a8bdc660f24e3a91f15729e63bb151": {
      "model_module": "@jupyter-widgets/base",
      "model_module_version": "1.2.0",
      "model_name": "LayoutModel",
      "state": {}
     },
     "02098ed74752478eb091279035579573": {
      "model_module": "@jupyter-widgets/controls",
      "model_module_version": "1.5.0",
      "model_name": "FloatTextModel",
      "state": {
       "description": "Max",
       "layout": "IPY_MODEL_355cb043e474428dbabe443c3eb88e08",
       "step": null,
       "style": "IPY_MODEL_4decc6c2288d4701bcc538f8c35f5532",
       "value": 25.5
      }
     },
     "0244125ca45d4e669325039b2f2c56e5": {
      "model_module": "@jupyter-widgets/controls",
      "model_module_version": "1.5.0",
      "model_name": "DescriptionStyleModel",
      "state": {
       "description_width": "initial"
      }
     },
     "03d73c9499c545cb8e1d06f270d9612f": {
      "model_module": "@jupyter-widgets/base",
      "model_module_version": "1.2.0",
      "model_name": "LayoutModel",
      "state": {}
     },
     "03ed311cbe304cd8aa0046ab6525edb7": {
      "model_module": "@jupyter-widgets/controls",
      "model_module_version": "1.5.0",
      "model_name": "DescriptionStyleModel",
      "state": {
       "description_width": ""
      }
     },
     "03f2236386aa4faba9ffc2f9843d6cad": {
      "model_module": "@jupyter-widgets/controls",
      "model_module_version": "1.5.0",
      "model_name": "DescriptionStyleModel",
      "state": {
       "description_width": ""
      }
     },
     "041f13aa1149423897cb9f2c3ec6f519": {
      "model_module": "@jupyter-widgets/controls",
      "model_module_version": "1.5.0",
      "model_name": "DescriptionStyleModel",
      "state": {
       "description_width": ""
      }
     },
     "042a6457f2154836a107ea06b11c45f6": {
      "model_module": "@jupyter-widgets/controls",
      "model_module_version": "1.5.0",
      "model_name": "DescriptionStyleModel",
      "state": {
       "description_width": "initial"
      }
     },
     "0439067eaffb4372a23bedb8b06208e0": {
      "model_module": "@jupyter-widgets/base",
      "model_module_version": "1.2.0",
      "model_name": "LayoutModel",
      "state": {}
     },
     "0482b4c5ab9342caa9b1cdf28112eaae": {
      "model_module": "@jupyter-widgets/base",
      "model_module_version": "1.2.0",
      "model_name": "LayoutModel",
      "state": {
       "width": "300px"
      }
     },
     "0483385c61994507a8a03fa2ee22cfd2": {
      "model_module": "@jupyter-widgets/controls",
      "model_module_version": "1.5.0",
      "model_name": "ButtonModel",
      "state": {
       "description": "Cancel",
       "layout": "IPY_MODEL_1a7f04178e5d4b6080c37cbefa52c2bd",
       "style": "IPY_MODEL_d9cde71824ee4bf89eb4a4f168466a59"
      }
     },
     "04a15b6b24b6493ba352383d9ae6c656": {
      "model_module": "@jupyter-widgets/controls",
      "model_module_version": "1.5.0",
      "model_name": "HTMLModel",
      "state": {
       "layout": "IPY_MODEL_214d65d9504540a5980eca9eeb3ea4af",
       "placeholder": "",
       "style": "IPY_MODEL_414eacf6312f4036b99ab32e959c265a",
       "value": "<span style=\"color:green;\">C:\\Users\\dominiquef\\Documents\\GIT\\mira\\geoapps\\assets\\Temp\\</span>"
      }
     },
     "04dc741370c04716bdb4be86b14aa62a": {
      "model_module": "@jupyter-widgets/base",
      "model_module_version": "1.2.0",
      "model_name": "LayoutModel",
      "state": {}
     },
     "059c098e924a45d781dd5cba6193d446": {
      "model_module": "@jupyter-widgets/base",
      "model_module_version": "1.2.0",
      "model_name": "LayoutModel",
      "state": {
       "margin": "0 0 0 1em"
      }
     },
     "0636a691119042e69a34ddb657940286": {
      "model_module": "@jupyter-widgets/controls",
      "model_module_version": "1.5.0",
      "model_name": "VBoxModel",
      "state": {
       "children": [
        "IPY_MODEL_82b7d9b4298a42a98e9707951808cfff",
        "IPY_MODEL_3eb6db2d93ae48698783abbc55f53093"
       ],
       "layout": "IPY_MODEL_1dd50f3356b1460ca71768f38e718c71"
      }
     },
     "06644883199d411ea3b2b3476d3f9c05": {
      "model_module": "@jupyter-widgets/controls",
      "model_module_version": "1.5.0",
      "model_name": "DescriptionStyleModel",
      "state": {
       "description_width": "initial"
      }
     },
     "06b5587339314152ab2fe037e682bdd9": {
      "model_module": "@jupyter-widgets/controls",
      "model_module_version": "1.5.0",
      "model_name": "VBoxModel",
      "state": {
       "children": [
        "IPY_MODEL_2de51ed06ea14947b988f737129d9a9d",
        "IPY_MODEL_4143cf97bbf64efaaa13398539abf845",
        "IPY_MODEL_8cb391a7edeb4e309ddafd12634bffd7"
       ],
       "layout": "IPY_MODEL_901c06e4360146dea89a50a3bf3e87df"
      }
     },
     "07460701b40742658f177cfb38586da1": {
      "model_module": "@jupyter-widgets/controls",
      "model_module_version": "1.5.0",
      "model_name": "DescriptionStyleModel",
      "state": {
       "description_width": "initial"
      }
     },
     "082e98bfbe214aa7be96e8bda00b537d": {
      "model_module": "@jupyter-widgets/controls",
      "model_module_version": "1.5.0",
      "model_name": "HBoxModel",
      "state": {
       "children": [
        "IPY_MODEL_d8267c0ace354569b0e947799024c9c1",
        "IPY_MODEL_97a06641cf23492dbac29c8552775e5f"
       ],
       "layout": "IPY_MODEL_527c4c4e97ad442fb19b5bc350de7a2b"
      }
     },
     "0845a38262d144f98968e2846e687475": {
      "model_module": "@jupyter-widgets/controls",
      "model_module_version": "1.5.0",
      "model_name": "DescriptionStyleModel",
      "state": {
       "description_width": "initial"
      }
     },
     "087cb39668d14d039ac94d281a5d689c": {
      "model_module": "@jupyter-widgets/base",
      "model_module_version": "1.2.0",
      "model_name": "LayoutModel",
      "state": {}
     },
     "08b5694f5faa420c91665e4521e8edc2": {
      "model_module": "@jupyter-widgets/controls",
      "model_module_version": "1.5.0",
      "model_name": "ButtonModel",
      "state": {
       "description": "Create copy:",
       "layout": "IPY_MODEL_0439067eaffb4372a23bedb8b06208e0",
       "style": "IPY_MODEL_4a689da2140d4af39349fac16da6dedc"
      }
     },
     "08d4955c5b2047e1b529b4b73a8c4884": {
      "model_module": "@jupyter-widgets/controls",
      "model_module_version": "1.5.0",
      "model_name": "FloatTextModel",
      "state": {
       "description": "Max",
       "layout": "IPY_MODEL_d3e7e51445a848b6b41a2bea6e03a686",
       "step": null,
       "style": "IPY_MODEL_5bf43b072216490f808287fce6b858a0",
       "value": 29.8
      }
     },
     "09064b0f91194bc3af71f5b00b59e21c": {
      "model_module": "@jupyter-widgets/controls",
      "model_module_version": "1.5.0",
      "model_name": "DescriptionStyleModel",
      "state": {
       "description_width": "initial"
      }
     },
     "095095653fdc4f6c97a367c3f7a8f35f": {
      "model_module": "@jupyter-widgets/base",
      "model_module_version": "1.2.0",
      "model_name": "LayoutModel",
      "state": {
       "display": "none",
       "grid_gap": "0px 0px",
       "grid_template_areas": "\n                    'pathlist pathlist'\n                    'dircontent dircontent'\n                    ",
       "grid_template_columns": "60% 40%",
       "grid_template_rows": "auto auto",
       "width": "auto"
      }
     },
     "098b51fdce9043e6b6cae16d51e5555f": {
      "model_module": "@jupyter-widgets/controls",
      "model_module_version": "1.5.0",
      "model_name": "LabelModel",
      "state": {
       "layout": "IPY_MODEL_611eb86840be4c32a46d000e2cbf1e82",
       "style": "IPY_MODEL_c114496e6e2643eb8f18c45c793e5762",
       "value": "Downsampling"
      }
     },
     "09ec718471454bb8be3f3b7b52245c2b": {
      "model_module": "@jupyter-widgets/controls",
      "model_module_version": "1.5.0",
      "model_name": "CheckboxModel",
      "state": {
       "description": "Log10",
       "disabled": false,
       "indent": false,
       "layout": "IPY_MODEL_beb76dd580584d638780c22115b5cb85",
       "style": "IPY_MODEL_caee9080c40e46429894f10715d8905b",
       "value": true
      }
     },
     "0a0c31e7cec240198e9928e341c7f97e": {
      "model_module": "@jupyter-widgets/controls",
      "model_module_version": "1.5.0",
      "model_name": "DescriptionStyleModel",
      "state": {
       "description_width": "initial"
      }
     },
     "0a6d49bf6f4d40f9870a022f297b9997": {
      "model_module": "@jupyter-widgets/base",
      "model_module_version": "1.2.0",
      "model_name": "LayoutModel",
      "state": {
       "display": "none",
       "min_width": "6em",
       "width": "6em"
      }
     },
     "0ac29ca77db14f3cbe3b94c28e04ed23": {
      "model_module": "@jupyter-widgets/controls",
      "model_module_version": "1.5.0",
      "model_name": "HBoxModel",
      "state": {
       "children": [
        "IPY_MODEL_63b51df43a5649c48458548afc8a23d8"
       ],
       "layout": "IPY_MODEL_a3dc96f5c05b4937969650138d74c5df"
      }
     },
     "0b0a29888ea244eb80c7abfe43246f23": {
      "model_module": "@jupyter-widgets/base",
      "model_module_version": "1.2.0",
      "model_name": "LayoutModel",
      "state": {}
     },
     "0c584614ca2441e180eac505285c1c54": {
      "model_module": "@jupyter-widgets/controls",
      "model_module_version": "1.5.0",
      "model_name": "DescriptionStyleModel",
      "state": {
       "description_width": "initial"
      }
     },
     "0cc61fb20a1249e291dfad28c7fcc514": {
      "model_module": "@jupyter-widgets/base",
      "model_module_version": "1.2.0",
      "model_name": "LayoutModel",
      "state": {}
     },
     "0d8cf285ee5f48368c9c93fc6949a143": {
      "model_module": "@jupyter-widgets/controls",
      "model_module_version": "1.5.0",
      "model_name": "HBoxModel",
      "state": {
       "children": [
        "IPY_MODEL_f496e60909bf4dc684c0da8916bcb4bb",
        "IPY_MODEL_08b5694f5faa420c91665e4521e8edc2"
       ],
       "layout": "IPY_MODEL_f226fd9d9603451da527ac5a4214e6fc"
      }
     },
     "0e1526995de747829e4a9d32fb109892": {
      "model_module": "@jupyter-widgets/controls",
      "model_module_version": "1.5.0",
      "model_name": "DescriptionStyleModel",
      "state": {
       "description_width": "initial"
      }
     },
     "0e1a83581bf44e24a1724a0d4384e916": {
      "model_module": "@jupyter-widgets/controls",
      "model_module_version": "1.5.0",
      "model_name": "GridBoxModel",
      "state": {
       "children": [
        "IPY_MODEL_b43bb8e58b3940ecabaac5c412b47b30",
        "IPY_MODEL_fc9a052cc81a46cd8be0b23a0e21a995",
        "IPY_MODEL_7426638c24a1483aa06d32e5a61f48ae"
       ],
       "layout": "IPY_MODEL_58b03a4b68574a1f82bf9b3b2e39a426"
      }
     },
     "0e6a9130a8ae47deaeca21c62fa44346": {
      "model_module": "@jupyter-widgets/controls",
      "model_module_version": "1.5.0",
      "model_name": "DescriptionStyleModel",
      "state": {
       "description_width": ""
      }
     },
     "0ebd028d0ee54017907c814808d6a40d": {
      "model_module": "@jupyter-widgets/controls",
      "model_module_version": "1.5.0",
      "model_name": "HBoxModel",
      "state": {
       "children": [
        "IPY_MODEL_d4a046b2cf064e97b422d1a26a20631f",
        "IPY_MODEL_1dbafbb7bfc449ea9fd2d20114d6263a"
       ],
       "layout": "IPY_MODEL_c330a935cce54ba0817ce136cb0294fa"
      }
     },
     "0ee369afddb64f398779ad6dab745fc8": {
      "model_module": "@jupyter-widgets/controls",
      "model_module_version": "1.5.0",
      "model_name": "DescriptionStyleModel",
      "state": {
       "description_width": "initial"
      }
     },
     "0fac8dc3fa924ce69184a7431f7e2cea": {
      "model_module": "@jupyter-widgets/controls",
      "model_module_version": "1.5.0",
      "model_name": "DescriptionStyleModel",
      "state": {
       "description_width": "initial"
      }
     },
     "0fc81169f28047108b8b075a5fe01395": {
      "model_module": "@jupyter-widgets/base",
      "model_module_version": "1.2.0",
      "model_name": "LayoutModel",
      "state": {}
     },
     "0fec855124df417883c076e418b4c847": {
      "model_module": "@jupyter-widgets/base",
      "model_module_version": "1.2.0",
      "model_name": "LayoutModel",
      "state": {}
     },
     "0ff8163cda604eb2b807599c553976d8": {
      "model_module": "@jupyter-widgets/controls",
      "model_module_version": "1.5.0",
      "model_name": "DescriptionStyleModel",
      "state": {
       "description_width": "initial"
      }
     },
     "113310d37a6a41908326ac60e5a2451f": {
      "model_module": "@jupyter-widgets/controls",
      "model_module_version": "1.5.0",
      "model_name": "DescriptionStyleModel",
      "state": {
       "description_width": ""
      }
     },
     "11f9562206ee440589dbb989b455052c": {
      "model_module": "@jupyter-widgets/controls",
      "model_module_version": "1.5.0",
      "model_name": "DescriptionStyleModel",
      "state": {
       "description_width": ""
      }
     },
     "124a927cc6e24c3d914c731852958791": {
      "model_module": "@jupyter-widgets/base",
      "model_module_version": "1.2.0",
      "model_name": "LayoutModel",
      "state": {
       "width": "auto"
      }
     },
     "1283f3078c8041edbe9a97162431b17c": {
      "model_module": "@jupyter-widgets/controls",
      "model_module_version": "1.5.0",
      "model_name": "DescriptionStyleModel",
      "state": {
       "description_width": ""
      }
     },
     "12c2d436381444b0a83d23739bc5ad04": {
      "model_module": "@jupyter-widgets/controls",
      "model_module_version": "1.5.0",
      "model_name": "DescriptionStyleModel",
      "state": {
       "description_width": ""
      }
     },
     "12c5fa36ae0441dcafd85c69b91b1dec": {
      "model_module": "@jupyter-widgets/base",
      "model_module_version": "1.2.0",
      "model_name": "LayoutModel",
      "state": {}
     },
     "13394751bcbf4a1dab008e7ec1e2522f": {
      "model_module": "@jupyter-widgets/controls",
      "model_module_version": "1.5.0",
      "model_name": "DescriptionStyleModel",
      "state": {
       "description_width": ""
      }
     },
     "134fbcee54054aeca0a537baaa8e8eef": {
      "model_module": "@jupyter-widgets/controls",
      "model_module_version": "1.5.0",
      "model_name": "DescriptionStyleModel",
      "state": {
       "description_width": ""
      }
     },
     "13b737bc940048ad8c842bb3978d7053": {
      "model_module": "@jupyter-widgets/controls",
      "model_module_version": "1.5.0",
      "model_name": "TextModel",
      "state": {
       "continuous_update": false,
       "description": "Group:",
       "layout": "IPY_MODEL_a92d74cabc1143f38bbb616646e85eb2",
       "style": "IPY_MODEL_da019839253a4d69a6fb4441a5b47d7b"
      }
     },
     "13d6300a458e42faa4ca0040920a0eb0": {
      "model_module": "@jupyter-widgets/controls",
      "model_module_version": "1.5.0",
      "model_name": "HTMLModel",
      "state": {
       "layout": "IPY_MODEL_f0ffc43ccc524923b6f6c05e35de9d48",
       "style": "IPY_MODEL_45b52c0ded564317b734dbf394e7b58c"
      }
     },
     "14709175f6484883b462eadd442df2fe": {
      "model_module": "@jupyter-widgets/base",
      "model_module_version": "1.2.0",
      "model_name": "LayoutModel",
      "state": {}
     },
     "147109147806494eb37ee8716e1c355f": {
      "model_module": "@jupyter-widgets/controls",
      "model_module_version": "1.5.0",
      "model_name": "DescriptionStyleModel",
      "state": {
       "description_width": ""
      }
     },
     "14b98a32723346fb9d71dac241a39f80": {
      "model_module": "@jupyter-widgets/controls",
      "model_module_version": "1.5.0",
      "model_name": "DescriptionStyleModel",
      "state": {
       "description_width": "initial"
      }
     },
     "14f9176f9ed44c8daf614143f35c7d93": {
      "model_module": "@jupyter-widgets/controls",
      "model_module_version": "1.5.0",
      "model_name": "HBoxModel",
      "state": {
       "children": [
        "IPY_MODEL_d22425ebea0d443f9b761633127ed06c",
        "IPY_MODEL_1b213e1508d84e17b71a6dea710ca30c"
       ],
       "layout": "IPY_MODEL_9de0ef6fc3e94151840339e04d8c1505"
      }
     },
     "1581eb79fd94403fbc7c2ab2f823fb99": {
      "model_module": "@jupyter-widgets/controls",
      "model_module_version": "1.5.0",
      "model_name": "DescriptionStyleModel",
      "state": {
       "description_width": ""
      }
     },
     "15e9f4808fc944b5bca45e0b89c4c929": {
      "model_module": "@jupyter-widgets/controls",
      "model_module_version": "1.5.0",
      "model_name": "DescriptionStyleModel",
      "state": {
       "description_width": "initial"
      }
     },
     "15f36b69f4314c6f82d4713d2143dad2": {
      "model_module": "@jupyter-widgets/controls",
      "model_module_version": "1.5.0",
      "model_name": "DropdownModel",
      "state": {
       "_options_labels": [
        "CaO",
        "MgO",
        "V",
        "Ba",
        "Al2O3"
       ],
       "description": "Data:",
       "index": 0,
       "layout": "IPY_MODEL_a8f09b3fe9124580833e8661f33a149c",
       "style": "IPY_MODEL_8ba60c65ca804b108a3bc90ea6db952c"
      }
     },
     "17551e57743a4394b1a405c6ce477970": {
      "model_module": "@jupyter-widgets/controls",
      "model_module_version": "1.5.0",
      "model_name": "DescriptionStyleModel",
      "state": {
       "description_width": "initial"
      }
     },
     "176219f4253947a5af8502b6d86edd44": {
      "model_module": "@jupyter-widgets/base",
      "model_module_version": "1.2.0",
      "model_name": "LayoutModel",
      "state": {}
     },
     "192d8150807740a7ba2e23a17cbd8470": {
      "model_module": "@jupyter-widgets/controls",
      "model_module_version": "1.5.0",
      "model_name": "HBoxModel",
      "state": {
       "children": [
        "IPY_MODEL_e82b93bbda004129b88fe4194ffc628b",
        "IPY_MODEL_eaab1de79dc54cf3b356915810609ea4"
       ],
       "layout": "IPY_MODEL_d9d2e7c5eea943cdbc7f310a00ecd46c"
      }
     },
     "1931ce04c165498da2bdedcf05adc223": {
      "model_module": "@jupyter-widgets/base",
      "model_module_version": "1.2.0",
      "model_name": "LayoutModel",
      "state": {}
     },
     "195687aa39e34692a5507ce83930cd3f": {
      "model_module": "@jupyter-widgets/base",
      "model_module_version": "1.2.0",
      "model_name": "LayoutModel",
      "state": {}
     },
     "195d0d482148455387808a188d79348d": {
      "model_module": "@jupyter-widgets/controls",
      "model_module_version": "1.5.0",
      "model_name": "DescriptionStyleModel",
      "state": {
       "description_width": "initial"
      }
     },
     "19d279da31db4b698b4bf7f1b5a172fa": {
      "model_module": "@jupyter-widgets/controls",
      "model_module_version": "1.5.0",
      "model_name": "CheckboxModel",
      "state": {
       "description": "Geoscience ANALYST Pro - Live link",
       "disabled": false,
       "indent": false,
       "layout": "IPY_MODEL_f1a85964f39c45af8b31522a0df7bf0d",
       "style": "IPY_MODEL_7baef6f2af89457ba592f8d11d6b5213",
       "value": false
      }
     },
     "1a7f04178e5d4b6080c37cbefa52c2bd": {
      "model_module": "@jupyter-widgets/base",
      "model_module_version": "1.2.0",
      "model_name": "LayoutModel",
      "state": {
       "display": "none",
       "min_width": "6em",
       "width": "6em"
      }
     },
     "1a9a089d69114ba8a510b3cc136faea9": {
      "model_module": "@jupyter-widgets/base",
      "model_module_version": "1.2.0",
      "model_name": "LayoutModel",
      "state": {}
     },
     "1acca499fe5944b582acd5df6cd22aa1": {
      "model_module": "@jupyter-widgets/controls",
      "model_module_version": "1.5.0",
      "model_name": "CheckboxModel",
      "state": {
       "description": "Log10",
       "disabled": false,
       "indent": false,
       "layout": "IPY_MODEL_c3420b9526c74919ab1fc5573ac283df",
       "style": "IPY_MODEL_ac77a3219aed409bb46d9f43cf0cdff4",
       "value": false
      }
     },
     "1b213e1508d84e17b71a6dea710ca30c": {
      "model_module": "@jupyter-widgets/controls",
      "model_module_version": "1.5.0",
      "model_name": "FloatTextModel",
      "state": {
       "description": "Max",
       "layout": "IPY_MODEL_5058e2bce57a4d6eb6633dbed5791292",
       "step": null,
       "style": "IPY_MODEL_d73a2bc76d3b4a32bf08a6362895c281",
       "value": 3200
      }
     },
     "1b85fcc485744eb59f0b61d37b4920b7": {
      "model_module": "@jupyter-widgets/controls",
      "model_module_version": "1.5.0",
      "model_name": "DescriptionStyleModel",
      "state": {
       "description_width": ""
      }
     },
     "1bcfa7f13d444711974aff384d17dff7": {
      "model_module": "@jupyter-widgets/controls",
      "model_module_version": "1.5.0",
      "model_name": "DescriptionStyleModel",
      "state": {
       "description_width": "initial"
      }
     },
     "1c2bba7629a8426c8c2b1bb2982f739a": {
      "model_module": "@jupyter-widgets/controls",
      "model_module_version": "1.5.0",
      "model_name": "SelectModel",
      "state": {
       "_options_labels": [
        "📁 .."
       ],
       "index": null,
       "layout": "IPY_MODEL_884cd53348e04a43a2e55e0f777f87f6",
       "rows": 8,
       "style": "IPY_MODEL_82b126ec013542abbe1630fe44b3621f"
      }
     },
     "1c762e2843d94c209388271f592a5051": {
      "model_module": "@jupyter-widgets/controls",
      "model_module_version": "1.5.0",
      "model_name": "HBoxModel",
      "state": {
       "children": [
        "IPY_MODEL_d632d79bdeaf41d0a5342b2c9caf16f7"
       ],
       "layout": "IPY_MODEL_c5bc6354497845c283795e22d972b425"
      }
     },
     "1cb75943911345939360db3268ccf0b1": {
      "model_module": "@jupyter-widgets/controls",
      "model_module_version": "1.5.0",
      "model_name": "DescriptionStyleModel",
      "state": {
       "description_width": "initial"
      }
     },
     "1d626aa67551436ca5e858a7dcb2d7ad": {
      "model_module": "@jupyter-widgets/controls",
      "model_module_version": "1.5.0",
      "model_name": "BoxModel",
      "state": {
       "children": [
        "IPY_MODEL_2587c0395642472ab70a4f64626399ca"
       ],
       "layout": "IPY_MODEL_97313a927e0f4856bf5a7658e560afa4"
      }
     },
     "1dbafbb7bfc449ea9fd2d20114d6263a": {
      "model_module": "@jupyter-widgets/controls",
      "model_module_version": "1.5.0",
      "model_name": "FloatTextModel",
      "state": {
       "description": "Threshold",
       "layout": "IPY_MODEL_56022e3bc8864ca3b2a724c653c66cc7",
       "step": null,
       "style": "IPY_MODEL_ca1cab020c234fe0ba907ec2d9e136ed",
       "value": 0.1
      }
     },
     "1dd50f3356b1460ca71768f38e718c71": {
      "model_module": "@jupyter-widgets/base",
      "model_module_version": "1.2.0",
      "model_name": "LayoutModel",
      "state": {}
     },
     "1e7dcb87e8fa4243a47e2a2be37a985a": {
      "model_module": "@jupyter-widgets/controls",
      "model_module_version": "1.5.0",
      "model_name": "HBoxModel",
      "state": {
       "children": [
        "IPY_MODEL_549d7058124d421b9d474af63717c941",
        "IPY_MODEL_f86855d6011646e192e2195151d64fbd"
       ],
       "layout": "IPY_MODEL_a65965f6fae74cf79d182f8a569fdd52"
      }
     },
     "1e81bbd162bf4921a428423d92219f1e": {
      "model_module": "@jupyter-widgets/controls",
      "model_module_version": "1.5.0",
      "model_name": "DescriptionStyleModel",
      "state": {
       "description_width": "initial"
      }
     },
     "1ec1e8e9c0e5440cbca7c1d1e52a7a6e": {
      "model_module": "@jupyter-widgets/controls",
      "model_module_version": "1.5.0",
      "model_name": "DescriptionStyleModel",
      "state": {
       "description_width": "initial"
      }
     },
     "1f709e12ddd745d09add31bbb9b7df50": {
      "model_module": "@jupyter-widgets/base",
      "model_module_version": "1.2.0",
      "model_name": "LayoutModel",
      "state": {}
     },
     "20105d12c4c7492098b2c46090d1a632": {
      "model_module": "@jupyter-widgets/base",
      "model_module_version": "1.2.0",
      "model_name": "LayoutModel",
      "state": {}
     },
     "20cdce0f84a549e88b3ce5f4a6428150": {
      "model_module": "@jupyter-widgets/base",
      "model_module_version": "1.2.0",
      "model_name": "LayoutModel",
      "state": {
       "grid_area": "dircontent",
       "width": "auto"
      }
     },
     "21319ccba95c40d09c58e9708a500d79": {
      "model_module": "@jupyter-widgets/controls",
      "model_module_version": "1.5.0",
      "model_name": "DescriptionStyleModel",
      "state": {
       "description_width": "initial"
      }
     },
     "214d65d9504540a5980eca9eeb3ea4af": {
      "model_module": "@jupyter-widgets/base",
      "model_module_version": "1.2.0",
      "model_name": "LayoutModel",
      "state": {
       "margin": "0 0 0 1em"
      }
     },
     "2172ae429e9b40c48d75a7aed9ecdb64": {
      "model_module": "@jupyter-widgets/controls",
      "model_module_version": "1.5.0",
      "model_name": "SliderStyleModel",
      "state": {
       "description_width": "initial"
      }
     },
     "21fc39c1f6684131b154abfac55019f3": {
      "model_module": "@jupyter-widgets/base",
      "model_module_version": "1.2.0",
      "model_name": "LayoutModel",
      "state": {}
     },
     "22158bf4b4b84e74a669b085418608a0": {
      "model_module": "@jupyter-widgets/controls",
      "model_module_version": "1.5.0",
      "model_name": "DescriptionStyleModel",
      "state": {
       "description_width": ""
      }
     },
     "22984bb302134d77900e1910186084e0": {
      "model_module": "@jupyter-widgets/controls",
      "model_module_version": "1.5.0",
      "model_name": "DescriptionStyleModel",
      "state": {
       "description_width": "initial"
      }
     },
     "22d63d71622c4456a6f84d7951aaa7d3": {
      "model_module": "@jupyter-widgets/controls",
      "model_module_version": "1.5.0",
      "model_name": "FloatTextModel",
      "state": {
       "description": "Threshold",
       "layout": "IPY_MODEL_d15ebae92dae46dc8320e7dd9a307a35",
       "step": null,
       "style": "IPY_MODEL_35bde114a57a47708d72db5376177473",
       "value": 0.1
      }
     },
     "23985b2f646f465aa582822261a7fba2": {
      "model_module": "@jupyter-widgets/controls",
      "model_module_version": "1.5.0",
      "model_name": "HTMLModel",
      "state": {
       "layout": "IPY_MODEL_6e8d0a7389354a7ba28e2e0c38b1182b",
       "placeholder": "",
       "style": "IPY_MODEL_39d7d1ce561c4fb9a787612f688f7781",
       "value": "<span style=\"color:green;\">C:\\Users\\dominiquef\\Documents\\GIT\\mira\\geoapps\\assets\\Temp\\</span>"
      }
     },
     "23f962f1afe54d58ae3a2f395b19e0dd": {
      "model_module": "@jupyter-widgets/base",
      "model_module_version": "1.2.0",
      "model_name": "LayoutModel",
      "state": {}
     },
     "2475debb739444e6b1e77d1461febba2": {
      "model_module": "@jupyter-widgets/base",
      "model_module_version": "1.2.0",
      "model_name": "LayoutModel",
      "state": {}
     },
     "24cb7249382d41019324c89489726077": {
      "model_module": "@jupyter-widgets/controls",
      "model_module_version": "1.5.0",
      "model_name": "DropdownModel",
      "state": {
       "_options_labels": [
        "CaO",
        "MgO",
        "V",
        "Ba",
        "Al2O3"
       ],
       "description": "Data:",
       "index": 1,
       "layout": "IPY_MODEL_7ada8e9f1de24ab98ae2ab3159b1d31b",
       "style": "IPY_MODEL_1e81bbd162bf4921a428423d92219f1e"
      }
     },
     "25200d351e8f4cd68c92850b29bf564d": {
      "model_module": "@jupyter-widgets/controls",
      "model_module_version": "1.5.0",
      "model_name": "DescriptionStyleModel",
      "state": {
       "description_width": "initial"
      }
     },
     "2587c0395642472ab70a4f64626399ca": {
      "model_module": "@jupyter-widgets/controls",
      "model_module_version": "1.5.0",
      "model_name": "HTMLModel",
      "state": {
       "layout": "IPY_MODEL_99ad7643eaeb4fef8419839bebd73d46",
       "placeholder": "",
       "style": "IPY_MODEL_50349d6790b34cbc84caa489b7c475cf",
       "value": "<span style=\"color:orange;\">C:\\Users\\dominiquef\\Documents\\GIT\\mira\\geoapps\\assets\\FlinFlon.geoh5</span>"
      }
     },
     "25b2e051abc049b0a4716e3016f12d74": {
      "model_module": "@jupyter-widgets/controls",
      "model_module_version": "1.5.0",
      "model_name": "DescriptionStyleModel",
      "state": {
       "description_width": ""
      }
     },
     "2677b0b18a2a4078a8943ecb15c0681e": {
      "model_module": "@jupyter-widgets/controls",
      "model_module_version": "1.5.0",
      "model_name": "LabelModel",
      "state": {
       "layout": "IPY_MODEL_0b0a29888ea244eb80c7abfe43246f23",
       "style": "IPY_MODEL_b0c5c7a44dfd4b538acd8781f5ae5b39",
       "value": "Workspace"
      }
     },
     "268187cf4278438294a7d40ac82c4d97": {
      "model_module": "@jupyter-widgets/controls",
      "model_module_version": "1.5.0",
      "model_name": "HBoxModel",
      "state": {
       "children": [
        "IPY_MODEL_ee38f63071a241bc8e5934366d144c03"
       ],
       "layout": "IPY_MODEL_a3c82a6cb98746688d9f78faa02bce98"
      }
     },
     "2692a41d80d8484da2b51e886d5cc049": {
      "model_module": "@jupyter-widgets/controls",
      "model_module_version": "1.5.0",
      "model_name": "ButtonModel",
      "state": {
       "description": "Cancel",
       "layout": "IPY_MODEL_283953522f92402696d70eab2346e68b",
       "style": "IPY_MODEL_3b0e0c3c097f4235bac05b6591471c26"
      }
     },
     "26b3cc24a12043aa9496a76fb6c81b47": {
      "model_module": "@jupyter-widgets/controls",
      "model_module_version": "1.5.0",
      "model_name": "DescriptionStyleModel",
      "state": {
       "description_width": "initial"
      }
     },
     "26e0ebcedeaa403b96333964417b5b65": {
      "model_module": "@jupyter-widgets/controls",
      "model_module_version": "1.5.0",
      "model_name": "ButtonModel",
      "state": {
       "description": "Change",
       "layout": "IPY_MODEL_620781e589e1496688c00ff9528f17ef",
       "style": "IPY_MODEL_6c18009af6924f33a47ad6856b00c59b"
      }
     },
     "270536a01c1449f699a7333cd567166c": {
      "model_module": "@jupyter-widgets/controls",
      "model_module_version": "1.5.0",
      "model_name": "DescriptionStyleModel",
      "state": {
       "description_width": "initial"
      }
     },
     "27dddbf436e0483d9a07118fd239b105": {
      "model_module": "@jupyter-widgets/base",
      "model_module_version": "1.2.0",
      "model_name": "LayoutModel",
      "state": {}
     },
     "27f2e5857af049a9835b1f117c5a7853": {
      "model_module": "@jupyter-widgets/controls",
      "model_module_version": "1.5.0",
      "model_name": "DescriptionStyleModel",
      "state": {
       "description_width": ""
      }
     },
     "280c93228c2a429b864eb09ebbcc3480": {
      "model_module": "@jupyter-widgets/controls",
      "model_module_version": "1.5.0",
      "model_name": "VBoxModel",
      "state": {
       "children": [
        "IPY_MODEL_2677b0b18a2a4078a8943ecb15c0681e",
        "IPY_MODEL_7de9727394d04be3ac52a1b98f28b256"
       ],
       "layout": "IPY_MODEL_7e7ca3442e944b5a8ef50fa9cff124a9"
      }
     },
     "283953522f92402696d70eab2346e68b": {
      "model_module": "@jupyter-widgets/base",
      "model_module_version": "1.2.0",
      "model_name": "LayoutModel",
      "state": {
       "display": "none",
       "min_width": "6em",
       "width": "6em"
      }
     },
     "28c4dbe7c9dc4362bae4d0ee440556d6": {
      "model_module": "@jupyter-widgets/controls",
      "model_module_version": "1.5.0",
      "model_name": "ButtonStyleModel",
      "state": {}
     },
     "28cd8f1404f9479d927039525d041f24": {
      "model_module": "@jupyter-widgets/controls",
      "model_module_version": "1.5.0",
      "model_name": "BoxModel",
      "state": {
       "children": [
        "IPY_MODEL_beccefc846c94550b4d48e03409e3693"
       ],
       "layout": "IPY_MODEL_f0ec61452e294fbb84bc15e9d667a195"
      }
     },
     "291bdedda9534257a963820e5ef4d354": {
      "model_module": "@jupyter-widgets/controls",
      "model_module_version": "1.5.0",
      "model_name": "GridBoxModel",
      "state": {
       "children": [
        "IPY_MODEL_d6efc0adab9843d09729b57e2d104006",
        "IPY_MODEL_a1aa9bd0c4d84b37a2d08e9bc66419fc",
        "IPY_MODEL_1c2bba7629a8426c8c2b1bb2982f739a"
       ],
       "layout": "IPY_MODEL_095095653fdc4f6c97a367c3f7a8f35f"
      }
     },
     "29568550e22b452e9ebb8a56526acdd0": {
      "model_module": "@jupyter-widgets/base",
      "model_module_version": "1.2.0",
      "model_name": "LayoutModel",
      "state": {
       "grid_area": "pathlist",
       "width": "auto"
      }
     },
     "295faecc68684c8ab9feb685c9527b7e": {
      "model_module": "@jupyter-widgets/base",
      "model_module_version": "1.2.0",
      "model_name": "LayoutModel",
      "state": {}
     },
     "29a2545998ef41e1bd7c630280d83a8f": {
      "model_module": "@jupyter-widgets/controls",
      "model_module_version": "1.5.0",
      "model_name": "ButtonStyleModel",
      "state": {}
     },
     "29c0aebcbb1e46438c0ff0a573693e4e": {
      "model_module": "@jupyter-widgets/controls",
      "model_module_version": "1.5.0",
      "model_name": "DescriptionStyleModel",
      "state": {
       "description_width": ""
      }
     },
     "2a061fa504f04fb7967bedc9bc094e72": {
      "model_module": "@jupyter-widgets/controls",
      "model_module_version": "1.5.0",
      "model_name": "TextModel",
      "state": {
       "layout": "IPY_MODEL_3c6eb20125c64a2da1242bcdfcea9f55",
       "placeholder": "output filename",
       "style": "IPY_MODEL_f03925c0fb994d5b9b506c6270e0da67",
       "value": "FlinFlon.geoh5"
      }
     },
     "2a69d39913c346c19593ef4239e1bdfd": {
      "model_module": "@jupyter-widgets/controls",
      "model_module_version": "1.5.0",
      "model_name": "DescriptionStyleModel",
      "state": {
       "description_width": "initial"
      }
     },
     "2b816341548d4da38add28327f09cc22": {
      "model_module": "@jupyter-widgets/controls",
      "model_module_version": "1.5.0",
      "model_name": "LabelModel",
      "state": {
       "layout": "IPY_MODEL_5d631043864b42c2844912fae4d28ed4",
       "style": "IPY_MODEL_27f2e5857af049a9835b1f117c5a7853",
       "value": "Downsampling"
      }
     },
     "2b9ab2794590498493dcf3016c827f45": {
      "model_module": "@jupyter-widgets/controls",
      "model_module_version": "1.5.0",
      "model_name": "ButtonStyleModel",
      "state": {}
     },
     "2be56c131ed6463fae1b1b81b9e4c239": {
      "model_module": "@jupyter-widgets/base",
      "model_module_version": "1.2.0",
      "model_name": "LayoutModel",
      "state": {}
     },
     "2c04f077da7d4bcd81bcaf02c5c87642": {
      "model_module": "@jupyter-widgets/controls",
      "model_module_version": "1.5.0",
      "model_name": "FloatTextModel",
      "state": {
       "description": "Min",
       "layout": "IPY_MODEL_9d006f5372284b63b13959ccb58678f5",
       "step": null,
       "style": "IPY_MODEL_0a0c31e7cec240198e9928e341c7f97e",
       "value": -17
      }
     },
     "2c8ea5f2c5ec4f548a81990b02e1cf28": {
      "model_module": "@jupyter-widgets/base",
      "model_module_version": "1.2.0",
      "model_name": "LayoutModel",
      "state": {}
     },
     "2d177b9326ca497789338226360cee26": {
      "model_module": "@jupyter-widgets/controls",
      "model_module_version": "1.5.0",
      "model_name": "DescriptionStyleModel",
      "state": {
       "description_width": ""
      }
     },
     "2d7744cad8a143648738f24e20fde948": {
      "model_module": "@jupyter-widgets/controls",
      "model_module_version": "1.5.0",
      "model_name": "DescriptionStyleModel",
      "state": {
       "description_width": "initial"
      }
     },
     "2d82422784ab41e38c86d0b99b2b5095": {
      "model_module": "@jupyter-widgets/controls",
      "model_module_version": "1.5.0",
      "model_name": "ButtonModel",
      "state": {
       "button_style": "danger",
       "description": "Save HTML",
       "icon": "check",
       "layout": "IPY_MODEL_d8fc3aa8399c4e68b1cc8622b852fc85",
       "style": "IPY_MODEL_29a2545998ef41e1bd7c630280d83a8f",
       "tooltip": "Run computation"
      }
     },
     "2d8e14bdd4f54a34ae6259f30d7d032e": {
      "model_module": "@jupyter-widgets/controls",
      "model_module_version": "1.5.0",
      "model_name": "DescriptionStyleModel",
      "state": {
       "description_width": ""
      }
     },
     "2de51ed06ea14947b988f737129d9a9d": {
      "model_module": "@jupyter-widgets/controls",
      "model_module_version": "1.5.0",
      "model_name": "HTMLModel",
      "state": {
       "layout": "IPY_MODEL_5217c480fb70411d9557fbcd4734d35b",
       "style": "IPY_MODEL_587fbf9cb8d24403827d8d0a8e914392"
      }
     },
     "2e436c70bead443e91872d663433261a": {
      "model_module": "@jupyter-widgets/controls",
      "model_module_version": "1.5.0",
      "model_name": "DescriptionStyleModel",
      "state": {
       "description_width": "initial"
      }
     },
     "2f1c04dedf2a479e8856182155627530": {
      "model_module": "@jupyter-widgets/controls",
      "model_module_version": "1.5.0",
      "model_name": "DescriptionStyleModel",
      "state": {
       "description_width": "initial"
      }
     },
     "304c3dd4c8e141138872963381f95c5a": {
      "model_module": "@jupyter-widgets/controls",
      "model_module_version": "1.5.0",
      "model_name": "DescriptionStyleModel",
      "state": {
       "description_width": "initial"
      }
     },
     "308fe4484824481388b2f647db0608eb": {
      "model_module": "@jupyter-widgets/controls",
      "model_module_version": "1.5.0",
      "model_name": "ButtonStyleModel",
      "state": {}
     },
     "30a172f136c2462c8438109d260b519e": {
      "model_module": "@jupyter-widgets/base",
      "model_module_version": "1.2.0",
      "model_name": "LayoutModel",
      "state": {}
     },
     "325eeedb9fcf4edf86c905cc60e6e0b3": {
      "model_module": "@jupyter-widgets/controls",
      "model_module_version": "1.5.0",
      "model_name": "DropdownModel",
      "state": {
       "_options_labels": [
        "X-axis",
        "Y-axis",
        "Z-axis",
        "Color",
        "Size"
       ],
       "index": 0,
       "layout": "IPY_MODEL_65140579aeda4d9f9f24148461bb8335",
       "style": "IPY_MODEL_5ca55807d28a4cc5a79a1fdaca293670"
      }
     },
     "3285923be8d245b886390d0d7312cdf8": {
      "model_module": "@jupyter-widgets/controls",
      "model_module_version": "1.5.0",
      "model_name": "CheckboxModel",
      "state": {
       "description": "Log10",
       "disabled": false,
       "indent": false,
       "layout": "IPY_MODEL_dccc22cc06cc4755939c1d4984653897",
       "style": "IPY_MODEL_cc1719c57fc94502943d2d0ea80a1b48",
       "value": true
      }
     },
     "32e2e4bdf604435695ce73d5d58fe64e": {
      "model_module": "@jupyter-widgets/controls",
      "model_module_version": "1.5.0",
      "model_name": "VBoxModel",
      "state": {
       "children": [
        "IPY_MODEL_2d82422784ab41e38c86d0b99b2b5095",
        "IPY_MODEL_f8acbb0e3f404963a05bbb728867f65e"
       ],
       "layout": "IPY_MODEL_ece5cf7020c342da89093de4b2bf2483"
      }
     },
     "334483afd54941fd88b7c9cc2a5f613f": {
      "model_module": "@jupyter-widgets/controls",
      "model_module_version": "1.5.0",
      "model_name": "HBoxModel",
      "state": {
       "children": [
        "IPY_MODEL_cf5bce3b153b4dcbaf3f2c4719582ecd"
       ],
       "layout": "IPY_MODEL_655ac304bc9e42e0b9d5694c15d70522"
      }
     },
     "336440861a48448891ecc7d585c02a6f": {
      "model_module": "@jupyter-widgets/controls",
      "model_module_version": "1.5.0",
      "model_name": "VBoxModel",
      "state": {
       "children": [
        "IPY_MODEL_860dc753bd10472a92fcdded0525ace1",
        "IPY_MODEL_0ac29ca77db14f3cbe3b94c28e04ed23",
        "IPY_MODEL_7a67333b97c94cf0ae0524a0e016695f",
        "IPY_MODEL_14f9176f9ed44c8daf614143f35c7d93"
       ],
       "layout": "IPY_MODEL_a140204fcf5b4491b0a9d07652f8516b"
      }
     },
     "34745939e8d7404c92bbdc3204f96376": {
      "model_module": "@jupyter-widgets/controls",
      "model_module_version": "1.5.0",
      "model_name": "ButtonStyleModel",
      "state": {}
     },
     "351a68bd4cdb455099e46c2197f844cb": {
      "model_module": "@jupyter-widgets/controls",
      "model_module_version": "1.5.0",
      "model_name": "DescriptionStyleModel",
      "state": {
       "description_width": "initial"
      }
     },
     "35591d7bdaf3439bba9599290ac59f03": {
      "model_module": "@jupyter-widgets/controls",
      "model_module_version": "1.5.0",
      "model_name": "SliderStyleModel",
      "state": {
       "description_width": "initial"
      }
     },
     "355cb043e474428dbabe443c3eb88e08": {
      "model_module": "@jupyter-widgets/base",
      "model_module_version": "1.2.0",
      "model_name": "LayoutModel",
      "state": {}
     },
     "35a60aa567574e90b22b8af8e8911be1": {
      "model_module": "@jupyter-widgets/controls",
      "model_module_version": "1.5.0",
      "model_name": "DescriptionStyleModel",
      "state": {
       "description_width": ""
      }
     },
     "35bde114a57a47708d72db5376177473": {
      "model_module": "@jupyter-widgets/controls",
      "model_module_version": "1.5.0",
      "model_name": "DescriptionStyleModel",
      "state": {
       "description_width": "initial"
      }
     },
     "35cfcc934e9d4692bd8502d84f195bd1": {
      "model_module": "@jupyter-widgets/controls",
      "model_module_version": "1.5.0",
      "model_name": "HBoxModel",
      "state": {
       "children": [
        "IPY_MODEL_402d36fb532d497abec037a2daa7584e",
        "IPY_MODEL_60d8a20fc98d4bd1bfd3a3e89e66ba13"
       ],
       "layout": "IPY_MODEL_93bce183f2db47809374199cec1499f6"
      }
     },
     "361d11692eaa40f288ea67e4d4b4686a": {
      "model_module": "@jupyter-widgets/controls",
      "model_module_version": "1.5.0",
      "model_name": "ButtonStyleModel",
      "state": {}
     },
     "36a509f8d93f4b6ab5ba4194b9206844": {
      "model_module": "@jupyter-widgets/controls",
      "model_module_version": "1.5.0",
      "model_name": "HBoxModel",
      "state": {
       "children": [
        "IPY_MODEL_3285923be8d245b886390d0d7312cdf8",
        "IPY_MODEL_3778f3740cb04ad18f6a3a4fd55bab02"
       ],
       "layout": "IPY_MODEL_db0c8fab223d48f1a3ffbfe024b7ea2e"
      }
     },
     "36b238b368e9483baf2169c51d7e020d": {
      "model_module": "@jupyter-widgets/controls",
      "model_module_version": "1.5.0",
      "model_name": "CheckboxModel",
      "state": {
       "description": "Log10",
       "disabled": false,
       "indent": false,
       "layout": "IPY_MODEL_7abdde7b7ef3402cbb8c922a5ec6940d",
       "style": "IPY_MODEL_0ff8163cda604eb2b807599c553976d8",
       "value": false
      }
     },
     "36b7ee8a3ff7487e8722405106f2bcd3": {
      "model_module": "@jupyter-widgets/controls",
      "model_module_version": "1.5.0",
      "model_name": "ButtonModel",
      "state": {
       "description": "Change",
       "layout": "IPY_MODEL_c86a3c76e6ff46a0a76c60fbf78f6881",
       "style": "IPY_MODEL_28c4dbe7c9dc4362bae4d0ee440556d6"
      }
     },
     "3778f3740cb04ad18f6a3a4fd55bab02": {
      "model_module": "@jupyter-widgets/controls",
      "model_module_version": "1.5.0",
      "model_name": "FloatTextModel",
      "state": {
       "description": "Threshold",
       "layout": "IPY_MODEL_4f07221def854484a6990ed39544d924",
       "step": null,
       "style": "IPY_MODEL_22984bb302134d77900e1910186084e0",
       "value": 0.1
      }
     },
     "378429bacd05472b990ba3bed42e4af6": {
      "model_module": "@jupyter-widgets/base",
      "model_module_version": "1.2.0",
      "model_name": "LayoutModel",
      "state": {
       "grid_area": "pathlist",
       "width": "auto"
      }
     },
     "378d65bbce1a44ba9b48ef8bdc00b303": {
      "model_module": "@jupyter-widgets/controls",
      "model_module_version": "1.5.0",
      "model_name": "DropdownModel",
      "state": {
       "_options_labels": [
        "CaO",
        "MgO",
        "V",
        "Ba",
        "Al2O3"
       ],
       "description": "Data:",
       "index": 2,
       "layout": "IPY_MODEL_ae40766957e74697b764bd162a1d146a",
       "style": "IPY_MODEL_99fe625722d54b4ca6a929ab3b2d1404"
      }
     },
     "388f9179316247a0906b80313c8b8873": {
      "model_module": "@jupyter-widgets/base",
      "model_module_version": "1.2.0",
      "model_name": "LayoutModel",
      "state": {}
     },
     "392b9008d0b8463cae8b05aaf8ac7473": {
      "model_module": "@jupyter-widgets/controls",
      "model_module_version": "1.5.0",
      "model_name": "DropdownModel",
      "state": {
       "_options_labels": [
        "CaO",
        "MgO",
        "V",
        "Ba",
        "Al2O3"
       ],
       "description": "Data:",
       "index": 4,
       "layout": "IPY_MODEL_54b5630985a3401e901c1f83a9e54d4f",
       "style": "IPY_MODEL_e50af92aae87475d81254fe694dafb17"
      }
     },
     "39d7d1ce561c4fb9a787612f688f7781": {
      "model_module": "@jupyter-widgets/controls",
      "model_module_version": "1.5.0",
      "model_name": "DescriptionStyleModel",
      "state": {
       "description_width": ""
      }
     },
     "3a42315bc5e84fd99cc269ed5927c711": {
      "buffers": [
       {
        "data": "HTC0cmbN3T8NSIY4GM/IP8+xMAAJOeE/u72WX1dG3D9C1NGg9FDbPwSaG4EdTdc/rKcvg6CH0D8AK3bg3xzXP0R4IVvgC9A/+fUhxj3Q2T+Bcww7cxvOP7SsTxbVQa0//YJ2rJJY1j/99IpIgP61P71h5hlDAdE/xsAji7tU1D8eY9sq+9XlP/2CdqySWNY/R5vacHyZzT9IKDJ0pT7eP8FpD8SLM90/FhhQRTSisT+ZKn1CgxSnPy2TQJdzleY/4Pyx8VAo6D/vNkoJHNfgP4kAaPUdpeA/6u8J1qkwqj/DDV9+d+7RPwFJZeveG88//3iY8DJP6D9DoUpxx5znP5kqfUKDFKc/ul/FGhxk3z+Xv//3B33XP8q3njbxkcw/+0jf0T6PtD8GOzR9czzmPwf4WOw8nM4/X4PweEQM0z8Bn7p6aXLgPxDBNw0V4uY/BJobgR1N1z//6SBrs0/kP/gQi1GMXsU/ZiQ6soio2j8U7ukBbrPlP9RoNfN0aOQ/seEU68+15j+dt+MOK2LSPxDmACv59Zo/qL1P/9u14D/zdp79vdrkP/0mJQoUabc/CyF7Qif14T8CDMFe2XfZPxDmACv59Zo/4IvLWk9flD+YPavT5I27P5e///cHfdc/AAAXqAG6oD8AABeoAbqgP3hsRKiDCpE/wH/Eko4M3T8Q5gAr+fWaP7+VNuPNUto/4IvLWk9flD/7ESbsHOPqP0R4IVvgC9A/kDexjpBeiz9uS6PyP5vpP4B+K3yhHcc/Q20zK2Wy0z8/PQGGiwvnP5kqfUKDFKc/kDexjpBeiz8Q5gAr+fWaP7HAPZOdsuQ/vsMoU1ge2T9giE/jcvPUP0HJ43B5994/4IvLWk9flD+jPPpEH5XmP2Qrm3qNKNI/AFwKI3MU6j+383ZRPBajP//hEPUAAeg/2Ec0Gok47T+7vZZfV0bcP1If77ijJtY/ZCubeo0o0j8WGFBFNKKxPwAAF6gBuqA/z7EwAAk54T8AABeoAbqgP22GSr5ukuk/sFQd76oq6z+/AdOZ+HXpP/h0tMGLt+E/3RsbWDXF5z/NVRHYKHXsPwSaG4EdTdc/9oxSqAXr5D/6N9A/573pP0XyIAoEZuk/UOUYg6R06j9mCnhSqkbmPwSaG4EdTdc/hDbUg7XB1T83qoKXyiLpPz/xS7aDM5U/emX2nsBY6D/1oc2t9/DpPxaA8MEoJLA/68npR00C6T882P+DYlTlP1hKa7uTJ9U/9RxVcf6N5j8wgPC54ibpP50GiXxtpus/v9/M4c6o5D8BQqn3FWnrP/tI39E+j7Q/mD2r0+SNuz8EkBNOBUrQP7CXzUahiOE/Oux+b7mHvD9U3L0icH7pP5A3sY6QXos/6u8J1qkwqj/WmYAgsrDtP+DZEnfmKOE/kDexjpBeiz+wxaVpKyvnP9Rh2Du2muc/+SVphgsF5z9EeCFb4AvQPwshe0In9eE/bYZKvm6S6T8AXAojcxTqP1wETu6Xiek/uaA+ooZV4j+wl81GoYjhP5A3sY6QXos/oEkFHfGV2D/gi8taT1+UP7uk7au87eE/vFyGnUCPsz/0resSSE3eP+CgGNdd2Oc/Ha7tn2fK0j/C9eDpyGbsP8bAI4u7VNQ/33oskXq65j8WgPDBKCSwP1hKa7uTJ9U/c/fupNdvpz8heeDV+afhPz89AYaLC+c/kDexjpBeiz+QN7GOkF6LP8Vq93lems8/kMyh9+hN6D/IUqBb8ADlP0cGL4H0N+Q/HkSPEzzt6T/RINZscqrqP1GzNOATw+g/PT4CZbab6D8Ga+2S4nPnPzNRemXSYMw//qd3c53m6D/tKomqQl/nP39wycRxftw/4IvLWk9flD/RY7aTGvLiPxAvfJnm/eI/uwJK+wLh6T+Xv//3B33XP9SYUWmTj+Q/3206bNEo5D9BScLkZIPgP+CLy1pPX5Q/nsoyKvwL5T9NR0+oynvtP+vJ6UdNAuk/AAAAAAAAAACEs1VRgo7rP4Jtw3zSp+I/eGxEqIMKkT+JaMnzLu3nP93tQjWrIuI/BmvtkuJz5z+uLKAHtsroP3hsRKiDCpE/BmvtkuJz5z94bESogwqRPyXkpZkR7aM/mSp9QoMUpz+qFdiLPs/nP7GAdYjaWOg/qvjJh1bd6D+nztUlFELpPwGzMXKWaec/yVJBsBVs6D8zExkoiU/qP3hsRKiDCpE/FD2vfGNp5D8l5KWZEe2jP98e5NE1MeY/JeSlmRHtoz/+F/mNPfLpPwKK3WiYSOU//hf5jT3y6T8iB1H7mLLqP+CLy1pPX5Q/euR1blr01T9ZDhBgNn/oP7tz0nWD4eU/AbMxcpZp5z+f2LBZ4wPmP1p879m2FOg//SYlChRptz8/BxNsmbXrP/cxBGqVWes//SYlChRptz+HyPWRe/XbPwNGWuA8kug/YIhP43Lz1D+OAEFrWiTlP+BxV4rPO+g/g4dk0ALH6T+JAGj1HaXgP4B+K3yhHcc/t/x1qjTR7D94bESogwqRPwAAF6gBuqA/AAAAAAAAAACbE5RUP6fdP8FpD8SLM90/FoDwwSgksD/g2RJ35ijhP8BRIl8NoOY/4IvLWk9flD94bESogwqRP3hsRKiDCpE/JeSlmRHtoz/q7wnWqTCqP6fO1SUUQuk/eGxEqIMKkT8AABeoAbqgP+D8sfFQKOg/Pz0BhosL5z8WgPDBKCSwP3hsRKiDCpE/eGxEqIMKkT/q7wnWqTCqP0IfZ3uGbeM/eGxEqIMKkT+RgUaDloy/P1j2fQ+fGuY/0SDWbHKq6j+YPavT5I27P8ucT6SNYOU/tKxPFtVBrT/BaQ/EizPdPxaA8MEoJLA/+0jf0T6PtD8YccRVMBuzPyvb6/Mf++o/FoDwwSgksD94bESogwqRP/30ikiA/rU/AAAXqAG6oD8uIFi3zb7lP4C2Izo+/co/y347cjzM6z+QN7GOkF6LP7SsTxbVQa0/6J6gP1N87D+ENtSDtcHVP4GipLUupNk/vWS0N/174j8H+FjsPJzOP+DZEnfmKOE/70x2hFYC5z99hVCwX23mPwE6mYFjGu8/PRnTV7TE0D8l5KWZEe2jP4fI9ZF79ds//1qp5TNQ4D8H+FjsPJzOP7FyXM4q8dg/MxMZKIlP6j+CnoHTJRrmP5A3sY6QXos/ZLZ9yNzr4D9D1lJ8hKzpP04Zd4VA2ec/oXPpPTx74z/+GADuHefkP4fI9ZF79ds//LdgiyiK1j+26GPHJTDkPysfVS7d1+0/ewJleVnz3T/Kt5428ZHMP35Rd4KnWOI/AgzBXtl32T/HtDmVz4fmP1kOEGA2f+g/6A3CG6fK5j8AABeoAbqgPwcaE6GRWeg/C97K6jCX6z8+N8Jis8PYP7ObKZPr6NM/tn4/Y1rl3D+t7HP3GEDnP6BJBR3xldg/AYVZTwzH4T805xYNYDrrP0z+ItnW+uo/AAAXqAG6oD9nEWplIbTuP4kAaPUdpeA/FOleX4br6D/75TiusizsP5GBRoOWjL8/3J6dfP9j3j8hNjB+A0rrP2TBOp3wy+M/zAVMd3ff6j9zMZz+M9vTP4SYqM9G2+k/1OyXL+4q7T/RY4bEaAjhP7Oy8E5w4eI/aAkxWMx92j+AtiM6Pv3aP/sRJuwc4+o/YIhP43Lz1D9OkF/MrgLjPx351u1WSOc/9zEEapVZ6z/9iYhonufgP/95n1ATRNM/PH1e07RUwj8dkbNNhXjrP/30ikiA/rU//fSKSID+tT8YccRVMBuzPygGmxKBdec/6u8J1qkwqj/q7wnWqTCqPzLPbAFO9uY/JeSlmRHtoz8EgPNhoKzXP6BJBR3xldg/DUiGOBjPyD/cHKeUbPLfPwf4WOw8nM4/sXJczirx2D8WgPDBKCSwPxaA8MEoJLA/4wyQbiiz5T/7SN/RPo+0PxhxxFUwG7M/YIhP43Lz1D8FMcrxbIXLPz0Z01e0xNA/6u8J1qkwqj+eyjIq/AvlP7ObKZPr6NM/mSp9QoMUpz//eZ9QE0TTPzWpGXDzHOo/FFfzlkqW3D8AABeoAbqgP71ktDf9e+I/fv6K/lLO5D/ZvYP5cnvTPxDmACv59Zo/QtTRoPRQ2z8Enos1l6/HP+CLy1pPX5Q/eGxEqIMKkT8N5HQXkD7iP51K/Hwb9+c/ACt24N8c1z/hRSKIOuzkP3hsRKiDCpE/gLYjOj79yj8PBKenS5TgP04Zd4VA2ec/FoDwwSgksD94bESogwqRP45+vSGXKOY/VxOB8EIRwT+/38zhzqjkP+D8sfFQKOg/AAAXqAG6oD8AABeoAbqgPzFKCCGmNec/pk6h6E304z94bESogwqRP/30ikiA/rU/HmPbKvvV5T/bmorYofbuP3hsRKiDCpE/fuJzsATU0j94bESogwqRP/GYzxgQaeY/8ZjPGBBp5j/xmM8YEGnmP9QvSIfkiOM/C97K6jCX6z+QN7GOkF6LP7TkmbHTUuY/kDexjpBeiz8Kx91cKN/sPxaA8MEoJLA/mSp9QoMUpz8B+2XjGEnhP7BUHe+qKus/RHghW+AL0D8AABeoAbqgPwAAF6gBuqA/AAAXqAG6oD+0QWjU7+DmPwE6mYFjGu8/+fUhxj3Q2T9kK5t6jSjSP2Qrm3qNKNI/4IvLWk9flD8x/UQk2JjsP/KNO1801uY/3wfrmXDL5j9XE4HwQhHBPwAAF6gBuqA/JyxiQKPw7j8eY9sq+9XlP0R4IVvgC9A/dXKBbvy36D/9JiUKFGm3P/30ikiA/rU//SYlChRptz+0rE8W1UGtP5234w4rYtI/AgzBXtl32T/91U+WJ4neP+CLy1pPX5Q/20bgmChD1j+fZyjfYgPqP15L3FPCUOQ/11n48Lz/5D9FFlwUKKjpP+rvCdapMKo/AAAXqAG6oD8JIj/L8Z/lPwAAF6gBuqA/A1Pub3ti6D9HvSXoS2fnP2vk2nMBsOI/hDbUg7XB1T+zLUhJv+nhPwGzMXKWaec/pjX54XhB6D8AABeoAbqgP+CLy1pPX5Q/X7W05fKc7T9Oiv//wNnjP+CLy1pPX5Q/AAAXqAG6oD9ux0BBp13uP55JOdRjBOI/nbhOum1u3D+9MkxGCIrUP5A3sY6QXos/gLYjOj792j8AABeoAbqgPyAs7DHe7+g/fwBjuwPT6j+fZyjfYgPqP5kqfUKDFKc/sVKdZVC24j/QYdI2Au3lP7UKedvS+uk/QcnjcHn33j9kK5t6jSjSPwIMwV7Zd9k/4IvLWk9flD/d7UI1qyLiPz3cYSOWrug/sMWlaSsr5z/Kt5428ZHMP1wETu6Xiek/kYFGg5aMvz/ryelHTQLpPxDmACv59Zo/4N2PMJK16T/cHKeUbPLfP5A3sY6QXos/AAAAAAAAAAAhp7j4g0rnPz+YYcWoIOc/JeSlmRHtoz+5Y06izlHrP/9ZooVTW9U/JNFoYlzB6D/Wh9ATR6LqP98e5NE1MeY/vWHmGUMB0T+0rE8W1UGtP2YkOrKIqNo/euR1blr01T+ILkAYqEfmP5Q7zlRpgeo/sYB1iNpY6D/RINZscqrqP380C0ZpyuU/XtZ1yw3n4z89PgJltpvoPwAAF6gBuqA/euR1blr01T+BoqS1LqTZP9aH0BNHouo/4bJiCE890T8AABeoAbqgP0goMnSlPt4/yreeNvGRzD/q7wnWqTC6P//hEPUAAeg/fD4k9hgZ3j8ASWXr3hvfP7SsTxbVQa0/+HS0wYu34T/QkV7n8qrmP/n1IcY90Nk/pT1GHuTmvD+RNceyySLrPxhxxFUwG7M/p87VJRRC6T/8t2CLKIrmPwAAF6gBuqA/vWHmGUMB0T8mDmE0UQzMP38AY7sD09o/lW9p803s1j/zdp79vdrkP5234w4rYtI/X4PweEQM0z+ddxH37abnP7+VNuPNUto/u3PSdYPh5T8AAAAAAAAAABbjwKTRrOk/p87VJRRC6T+eWaqvewvpP7oPmMMQXek/CCw9j+OA3T/gcVeKzzvoP6oD4Mi0zNs/PjfCYrPD2D+7vZZfV0bcP/4YAO4d5+Q/XcYQHog52D8DRlrgPJLoP0NtMytlstM/nsoyKvwL5T/XhwWfhEXoPz/MeAsLC+s/3aqS3bTE6z9fg/B4RAzTP9GNN0XS7d0/sXJczirx2D9WA3r0o8HkP1FQGtbn29c//3mfUBNE0z9kJtbUnKzrPw8e5/sfZ+Y/W5kzf5fp6T8AABeoAbqgP7ykBiOx+ec/68npR00C6T+iI//r5a7mP4VRm16OAdo/jqSMv3rq5j9e1nXLDefjP7FSnWVQtuI/XnNnml5Q5z8WGFBFNKKxP/N2nv292uQ/pT1GHuTmvD+8IQTgBh7cP3w+JPYYGd4/pXNxPgoP4z+Vb2nzTezWP/tI39E+j7Q/3x7k0TUx5j9giE/jcvPUP37+iv5SzuQ/1pZ6K9Km5z/A9osw51TnP92qkt20xOs/Dt+yOMlg4T+LrF763Xy9P85AGwGnkeU/BJ6LNZevxz8GUkpjkVzkP3AWgSyxQOI/ALQ40nZe4j//SYKZ7r3cP36CRFJC2+Q/qPpTH/vf4j/QkV7n8qrmP98e5NE1MeY/AAAXqAG6oD+PGq8JFfnrPwFDsFf2XeY/AbMxcpZp5z+AtiM6Pv3aP5GBRoOWjL8/zD0VqRMy6D9FlhBm3wroP8KfpBC5O74/4N2PMJK16T+xclzOKvHYP0HJ43B5994/2SVTz4dc6T8hp7j4g0rnP9rRR0V0FO8/UVAa1ufb1z8AKT4Go+vmPwAAAAAAAAAAAAAAAAAAAAAheeDV+afhPwGFWU8Mx+E/tO3VSakt4D+gEm0pNKvRP2djKbTZcOU/vWS0N/174j9My6hWsfDnP1FQGtbn29c/IXng1fmn4T8XFg3qh0/WPwTV0WW8kew/h8j1kXv12z/QkV7n8qrmPwH7ZeMYSeE/v5U2481S2j/ezVEYDbHnP9FjhsRoCOE//3mfUBNE4z/cbLK1F1TpPz9Kw8OPE+I/gm3DfNKn4j94bESogwqRPwSA82GgrNc/QAYSjW4l6j/f35V9d/jlP4guQBioR+Y/I0Lx3NzB5D/ryelHTQLpP9CRXufyquY/Dy5LQg344D/xmM8YEGnmP3XLS5QRQMg/LiBYt82+5T+t7HP3GEDnP4guQBioR+Y//1qp5TNQ4D9Wu+kf8lHjP9/flX13+OU/AAAXqAG6oD+k4SdkpALRPz0+AmW2m+g/Pz0BhosL5z/8t2CLKIrmP5/YsFnjA+Y/oKnR1nhs5T8AABeoAbqgP5RVIJY7g/A/7SqJqkJf5z8AABeoAbqgP77DKFNYHtk/An1J2Vl45T9SD7AkKX/mPz7GOegyw+w/4ADPD0877D/q7wnWqTC6P6U9Rh7k5rw/adpe01yv5T9XE4HwQhHBPwBcCiNzFOo/ul/FGhxk3z+gocFgxh3pP83GmVKpdeg/aAkxWMx92j8B7tFT2njhP3tPyR7ns8E/IwITxvkS6z8L3srqMJfrPyGnuPiDSuc/uwMV1Qcf1D+AtiM6Pv3aP5E1x7LJIus/6u8J1qkwqj8LIXtCJ/XhP4C2Izo+/co/esrBqTOA4z+Afit8oR3HP5VvafNN7NY/lDvOVGmB6j+RgUaDloy/Pzgz6QdYxsQ/h8j1kXv12z81qRlw8xzqP4B+K3yhHcc/2ttyBHJ62z8CDMFe2XfpP5A3sY6QXos/JeSlmRHtoz//eJjwMk/oP0av2cs4MqQ/kDexjpBeiz+Vb2nzTezWP51K/Hwb9+c/Aftl4xhJ4T/q7wnWqTCqP5/YsFnjA+Y/tn4/Y1rl3D9EeCFb4AvQPyqQ3ahd2Ok/1L6/DGSI5z9oCTFYzH3aP/4rk47vvtQ/B/hY7Dyczj9C1NGg9FDbP6ChwWDGHek/SeJP+JtP4j+7AxXVBx/UP7FyXM4q8dg/tQp529L66T/cnp18/2PeP9rbcgRyets/TyMM+xRA3z9dxhAeiDnYP/2JiGie5+A/uo78ixzP3z/UmFFpk4/kP6i9T//bteA/EOYAK/n1mj+Vb2nzTezWP7Oy8E5w4eI/Yxpx8Tgn2z8EkBNOBUrQP+GyYghPPdE/3J6dfP9j3j8ILD2P44DdPzx9XtO0VMI/SecKGCd+5z/q7wnWqTC6PwHu0VPaeNE/P/FLtoMzlT9XE4HwQhHBPwSeizWXr8c/3206bNEo5D89GdNXtMTQP/6nd3Od5ug/Ae7RU9p44T8EkBNOBUrQP6U9Rh7k5rw/Kx6cSxZZ4T8FMcrxbIXLPwSQE04FStA/v5U2481S2j/0IqqqvnPKP7ObKZPr6NM/9CKqqr5zyj9+4nOwBNTSP1hKa7uTJ9U/PH1e07RUwj8uIFi3zb7lPy/yf5RDHOA/GHHEVTAbsz8l5KWZEe2jP8bAI4u7VNQ/PT4CZbab6D+BoqS1LqTZP5VvafNN7NY/n6rYNllh4D+0rE8W1UGtP13GEB6IOdg/mSp9QoMUpz/7SN/RPo+0P2Qrm3qNKNI/BJATTgVK0D//SYKZ7r3cP/cz4wBTFs0/vWS0N/174j/7KOkFqYriPz0Z01e0xNA/Ae7RU9p40T+DC0qE9pDDP4FzDDtzG84/vTJMRgiK1D+2w6ZnvWzAP1+D8HhEDNM/6u8J1qkwqj+ZKn1CgxSnP4fI9ZF79ds/qL1P/9u14D/tKomqQl/nP5GBRoOWjL8/wWkPxIsz3T81KsdkVpjhP5kqfUKDFKc//LdgiyiKxj8+rokADAzjP6U9Rh7k5rw/ODPpB1jGxD8+TBcF42fYPxDmACv59Zo/xwYSZefV4T+f1wwSvqyiP4FzDDtzG84/BZ7ibJ+r3z9ADiIDIXTmPwSeizWXr8c/ACk+BqPr5j+8IQTgBh7cPwL8439+LMQ/Emd1VPQ/5j+ENtSDtcHVPzUqx2RWmOE/Pz0BhosL5z8Sa4ef7QvqP4C2Izo+/do/klwlRyT1xT9WaATRIgzZPxJrh5/tC+o/ACt24N8c1z+ZKn1CgxSnP7bDpme9bMA/L/J/lEMc4D8BhVlPDMfhPycTNbaHMus/O91iAsE+6j8NSIY4GM+4P2YkOrKIqNo/EOYAK/n1mj8l5KWZEe2jP/4ZDqvBO74/mSp9QoMUpz8ZzDPuopvuPwHu0VPaeNE/LiBYt82+5T+6jvyLHM/fP5w6WS3D+eI/An1J2Vl45T/8t2CLKIrGP9dZ+PC8/+Q/Aash/OMa6z+5Y06izlHrP2UGcmi9euU/9zPjAFMWzT+9YeYZQwHRPwAAF6gBuqA/AAAXqAG6oD9lSYqFjCfaPy+B9xnDG+Q/qgPgyLTM2z+HyPWRe/XbP2VJioWMJ9o/fD4k9hgZ3j8zExkoiU/qP0LU0aD0UNs/CbZkKlKb0j+6X8UaHGTfP/4rk47vvtQ/ALQ40nZe4j9SH++4oybWPx2Rs02FeOs/A0Za4DyS6D+DC0qE9pDDP/y3YIsoitY/vWHmGUMB0T+vOVGRZrvWP2gJMVjMfdo/aAkxWMx92j8BszFylmnnPxDmACv59Zo//LdgiyiK1j8oAL+os47VP7SsTxbVQa0//+EQ9QAB6D99LGMh3XDqP9eHBZ+EReg/rzlRkWa71j94bESogwqRP3/Siph5MOU/NMIXRh6u3j/PsTAACTnhP/y3YIsoitY/3N06MJhU5T94bESogwqRP0OhSnHHnOc/dXKBbvy36D+JvbedJ0fqP71h5hlDAdE/HmPbKvvV5T+Dh2TQAsfpPxaA8MEoJLA//LdgiyiK5j/7SN/RPo+0P2LLuZDxbuk/4Pyx8VAo6D8+N8Jis8PYPwL8439+LMQ/tKxPFtVBrT8Q5gAr+fWaPwAAAAAAAAAAvtTAsOfoyT9CH2d7hm3jP63sc/cYQOc/pAOHe7uA6T/59SHGPdDZP/Qiqqq+c8o/8ZjPGBBp5j8Q5gAr+fWaP/cz4wBTFs0/tn4/Y1rl3D/7ESbsHOPqPy6vzzxNvuk/JeSlmRHtoz/xmM8YEGnmP8mi3MS6uuo/C97K6jCX6z+QN7GOkF6LPz43wmKzw9g/BlJKY5Fc5D9lSYqFjCfaP+CLy1pPX5Q/Q6FKccec5z+lPUYe5Oa8P7FyXM4q8dg/C4hEgOQt6j9Hm9pwfJnNP8w9FakTMug/sMWlaSsr5z+xclzOKvHYPzTCF0Yert4/y5xPpI1g5T8WgPDBKCSwPxP6/iRtC+4//0mCme693D+oep+n5VfqP39hAh75L+k/An1J2Vl45T8BhVlPDMfhP/4ZDqvBO74/nXcR9+2m5z8PLktCDfjgP9rbcgRyets/gLYjOj792j9afO/ZthToP6oD4Mi0zNs/3jXDvPpt7D8weOBDMNjsPyIHUfuYsuo/BJ6LNZevxz/WkOfp2eXhP8B/xJKODN0/nXcR9+2m5z8YccRVMBuzP+DdjzCStek/Iae4+INK5z9uuDdK0Z7rP116+4dihOk/mxOUVD+n3T+YPavT5I27P+DZEnfmKOE/3RsbWDXF5z9YHiQXy3nqPwH7ZeMYSeE/VyRWMim96z+7c9J1g+HlP6/+x+QrKOM/ZiQ6soio2j8NXDvVsaPbP0IfZ3uGbeM/KpDdqF3Y6T/7ESbsHOPqP0LU0aD0UNs/BNXRZbyR7D/BaQ/EizPdP57KMir8C+U/Ms9sAU725j+/lTbjzVLaP6ZOoehN9OM/K2IFhtM15D9+/or+Us7kPzFKCCGmNec/z7EwAAk54T/Favd5XprPP//hEPUAAeg/4IvLWk9flD9giE/jcvPkP9rbcgRyets/Tor//8DZ4z//6SBrs0/kPwSaG4EdTdc/11n48Lz/5D8BQqn3FWnrPz3cYSOWrug/Y53hbWfM4z8+TBcF42fYP7TkmbHTUuY/zZjBLx/T4j8AABeoAbqgPw/B9k9VNuo/8mr39YXG4D+ILkAYqEfmPwHu0VPaeOE/Wnzv2bYU6D8o5VyT/Y/lP77DKFNYHtk/Qh9ne4Zt4z9/AGO7A9PaP/h0tMGLt+E/HdRjpXvW4T9oCTFYzH3aP6Gc2KrUd+o/vTJMRgiK1D9+04t3pMDmP+82Sgkc1+A/fD4k9hgZ3j+KhsikCmHtP563alj/rec//4niRf227z89GdNXtMTQPxqeW8sY+eg/4IvLWk9flD8/SsPDjxPiPwZr7ZLic+c/Ym4gqFEI8D+gocFgxh3pPx3UY6V71uE/8ZjPGBBp5j8k0WhiXMHoP9+fL61Z3u0/tn4/Y1rl3D9mJDqyiKjaP4qGyKQKYe0/gm3DfNKn4j/+K5OO777UP57KMir8C+U/ZTz/iZDX7T/gi8taT1+UP6hMx4RbteQ/qEzHhFu15D8EmhuBHU3XP5GBRoOWjL8/+fUhxj3Q2T+nztUlFELpPz5MFwXjZ9g/EOYAK/n1mj+ENtSDtcHVP7SsTxbVQa0/DwSnp0uU4D8Q5gAr+fWaPxaA8MEoJLA/AAAXqAG6oD8AABeoAbqgPwSaG4EdTdc/qL1P/9u14D/q7wnWqTCqPyNC8dzcweQ/4UN/Z0WZ4j9+OtgZGRbwPyXkpZkR7aM/X4PweEQM0z+spy+DoIfQP+82Sgkc1+A/AUll694bzz8WGFBFNKKxP/9ZooVTW9U/sJfNRqGI4T/gi8taT1+UP5A3sY6QXos/lW9p803s1j/cHKeUbPLfP6fO1SUUQuk/vtTAsOfoyT97T8ke57PRP7whBOAGHtw/BJ6LNZevxz+lPUYe5Oa8PycTNbaHMus/EePg3zxL2T9kK5t6jSjSP2Qrm3qNKNI/EOYAK/n1mj/q7wnWqTCqP1wETu6Xiek/zVUR2Ch17D/A9osw51TnP37ic7AE1NI/kDexjpBeiz+kA4d7u4DpP4GipLUupNk/9zPjAFMWzT9YSmu7kyfVP5A3sY6QXos/YIhP43Lz1D+HyPWRe/XbPwFCqfcVaes/WQ4QYDZ/6D+QN7GOkF6LPzgz6QdYxsQ/VrvpH/JR4z8Q5gAr+fWaP2MacfE4J9s/euR1blr01T+v/sfkKyjjP+CLy1pPX5Q/v5U2481S2j/gi8taT1+UP/0mJQoUabc/JeSlmRHtoz+ZKn1CgxSnP7CXzUahiOE/z4+qWYyP6z/hsmIITz3RP4fI9ZF79ds/1pmAILKw7T9RUBrW59vXP2LLuZDxbuk/DVw71bGj2z+eyjIq/AvlPwAAF6gBuqA/ib23nSdH6j+eKE+GBa7rPw1cO9Wxo9s/+yjpBamK4j8BszFylmnnP6Fz6T08e+M/XtZ1yw3n4z8AABeoAbqgP1a76R/yUeM//1KZb4EB5D8twBK9MITlPwFCqfcVaes/nkk51GME4j8W48Ck0azpP7SqJfKyz+k/Lq/PPE2+6T+0qiXyss/pP8p0BKIwGOU/QAYSjW4l6j8BSWXr3hvPPwFDsFf2XeY/AAAXqAG6oD8Q5gAr+fWaPwAAF6gBuqA/JeSlmRHtoz81qRlw8xzqPyqQ3ahd2Ok/2YrkcX+W4z/cbLK1F1TpP6QDh3u7gOk/pk6h6E304z/W3DB4qA7kPx5j2yr71eU/1twweKgO5D/cHKeUbPLfP9mK5HF/luM/gm3DfNKn4j/99IpIgP61P+GyYghPPdE/oXPpPTx74z+83DUoHhbnP89ugKgS2+o/fSxjId1w6j80whdGHq7eP7ljTqLOUes/0GHSNgLt5T+JaMnzLu3nP06K///A2eM/qgPgyLTM2z9PIwz7FEDfP6QDh3u7gOk/HdRjpXvW4T+CbcN80qfiP1wETu6Xiek/PH1e07RUwj9w09DUuuLrP6Fz6T08e+M/AUOwV/Zd5j+xUp1lULbiP2Od4W1nzOM/BJobgR1N1z9fg/B4RAzTPxYmcfzHCuA/oKnR1nhs5T+2fj9jWuXcPw1cO9Wxo9s/euR1blr01T9YSmu7kyfVP8nKJ8cXA+s/wjiRQb/E4j/8t2CLKIrWP/9SmW+BAeQ/tKxPFtVBrT/dPtqSjbHjPxYYUEU0orE/BJATTgVK0D+1Cnnb0vrpP/95n1ATROM/ww1ffnfu0T9lSYqFjCfaPw1IhjgYz8g/PdxhI5au6D8ILD2P44DdP/3VT5Ynid4/wjiRQb/E4j9jGnHxOCfbPzTCF0Yert4/2b2D+XJ70z97T8ke57PRP/4X+Y098uk//hkOq8E7vj+wVB3vqirrP7ObKZPr6NM/PdxhI5au6D9dxhAeiDnYP4fI9ZF79ds/FuPApNGs6T/fKooU28rtPy/yf5RDHOA/Ms9sAU725j8DRlrgPJLoPzCA8LniJuk/Q20zK2Wy0z+05Jmx01LmP64soAe2yug/3T7ako2x4z/XWfjwvP/kPy6vzzxNvuk/HdRjpXvW4T89GdNXtMTQP7sDFdUHH9Q/HUAc8KLp6T8WGFBFNKKxPxYYUEU0orE/P0rDw48T4j+3/HWqNNHsP2CIT+Ny89Q/vsMoU1ge2T+f2LBZ4wPmP29EWU874+c/uWNOos5R6z//WaKFU1vVPwSaG4EdTdc/3GyytRdU6T8LIXtCJ/XhP/4rk47vvtQ/PkwXBeNn2D+9ZLQ3/XviP+GiI37JQuQ/HmPbKvvV5T+AtiM6Pv3aPwIMwV7Zd+k/wH/Eko4M3T8Kx91cKN/sP8+xMAAJOeE/2ttyBHJ62z/WkOfp2eXhP9m9g/lye9M/n6rYNllh4D9fg/B4RAzTP+FDf2dFmeI/4UN/Z0WZ4j9dxhAeiDnYP6BJBR3xldg/+fUhxj3Q2T/c3TowmFTlP6YL8ZBXlu0/3wfrmXDL5j8WGFBFNKKxP40YEjmSHu4/fzQLRmnK5T/g5/TYGEvpPw1cO9Wxo9s/BTHK8WyFyz+H5CFvU4/uP82YwS8f0+I/FD2vfGNp5D/yjTtfNNbmP9mZkMoCNOw/z4+qWYyP6z+wl81GoYjhP0ifn6Cl8es/vWHmGUMB0T8/zHgLCwvrP9/flX13+OU/35ZiH/DK6j805xYNYDrrP7EP7Q1aWOw/vTJMRgiK1D8AcYh6gADsP/4ZDqvBO74/Oe/JjzaA6z8T+v4kbQvuP/N2nv292uQ/nihPhgWu6z/3MQRqlVnrP/4ZDqvBO74//1mihVNb1T+FhT3Hz3DrP+BxV4rPO+g/Dy5LQg344D+/lTbjzVLaP77qFOfpN+8/IXng1fmn4T8EGIK9su/iP28UtPkitew/qHqfp+VX6j9oCTFYzH3aP4qGyKQKYe0/3g/7DyMa4z/+gHGSC6TpPytiBYbTNeQ/Kx6cSxZZ4T8Q5gAr+fWaPwuIRIDkLeo//1mihVNb1T/q7wnWqTC6P+GyYghPPdE//qd3c53m6D/Af8SSjgzdP/y3YIsoiuY/uwMV1Qcf1D/+K5OO777UP4EppW0H/Nk//hf5jT3y6T8oAL+os47VP5kqfUKDFKc//YmIaJ7n4D+ZKn1CgxSnP+rvCdapMKo/rzlRkWa71j++wyhTWB7ZP/y3YIsoitY/L4H3GcMb5D8EgPNhoKzXP7HhFOvPteY/AAAXqAG6oD//SYKZ7r3cP2RaG0+9Me0/ZFobT70x7T/gi8taT1+UPygAv6izjtU/EOYAK/n1mj8FMcrxbIXLP4fI9ZF79ds/EOYAK/n1mj89GdNXtMTQP8+xMAAJOeE/QAYSjW4l6j81qRlw8xzqP+CLy1pPX5Q/oEkFHfGV2D//eZ9QE0TjPw1cO9Wxo9s/tsOmZ71swD/XWfjwvP/kP94P+w8jGuM/nQaJfG2m6z+dSvx8G/fnP4FzDDtzG84/Jg5hNFEMzD/3M+MAUxbNP5234w4rYtI/gLYjOj792j8F7pDaRQ/mPz0Z01e0xNA/Uh/vuKMm1j8EmhuBHU3XP08jDPsUQN8/6u8J1qkwqj+/38zhzqjkP70yTEYIitQ//1mihVNb1T+07dVJqS3gP8q3njbxkcw/gSmlbQf82T9FlhBm3wrYP37ic7AE1NI/1ofQE0ei6j9C1NGg9FDbPxHj4N88S9k/euR1blr01T9ZDhBgNn/oP0niT/ibT+I/DVw71bGj2z/8t2CLKIrGPyXkpZkR7aM/JNFoYlzB6D/7SN/RPo+0P/9ZooVTW9U/RZYQZt8K2D//eZ9QE0TTP5A3sY6QXos//YJ2rJJY1j+ENtSDtcHVP0XyIAoEZuk//YJ2rJJY1j+7AxXVBx/UP9Bh0jYC7eU/vNw1KB4W5z8YccRVMBuzPyXkpZkR7aM/1JhRaZOP5D+dt+MOK2LSP3hsRKiDCpE/tsOmZ71swD+fZyjfYgPqP8bAI4u7VNQ/4UN/Z0WZ4j+wxaVpKyvnP7TkmbHTUuY/2b2D+XJ70z8heeDV+afhP2CIT+Ny89Q/vsMoU1ge2T/AUSJfDaDmPwArduDfHNc/BJobgR1N1z8hNjB+A0rrPxqeW8sY+eg/eGxEqIMKkT9DIPksjgjvPz8HE2yZtes/358vrVne7T+fZyjfYgPqP5e///cHfdc/kDexjpBeiz81KsdkVpjhP7Tt1UmpLeA/wPaLMOdU5z/+gHGSC6TpP1p879m2FOg/E/r+JG0L7j805xYNYDrrP803Is0pduQ/4bJiCE890T+7MCIejYPvP9NVoRGdMe4/Kx6cSxZZ4T/UL0iH5IjjP+rvCdapMKo/um8Qp13R7T/75TiusizsP7f8dao00ew/NMIXRh6u3j8DC7r++ILuP8bAI4u7VNQ/8ZjPGBBp5j/COJFBv8TiP3XLS5QRQMg/B/hY7Dyczj8EGIK9su/iPyWaeWk/2+s/wFEiXw2g5j/gi8taT1+UP8D2izDnVOc/s5spk+vo0z/8t2CLKIrmP9QvSIfkiOM/KAC/qLOO1T/+GADuHefkP8FpD8SLM90/B/hY7Dyczj9lSYqFjCfaPwAAF6gBuqA/v9/M4c6o5D/QYdI2Au3lPyjlXJP9j+U/Tor//8DZ4z9Oiv//wNnjPw1cO9Wxo9s/2b2D+XJ70z9PIwz7FEDfPxRX85ZKltw/4IvLWk9flD9OGXeFQNnnP0LU0aD0UNs/wFEiXw2g5j+QN7GOkF6LP0IfZ3uGbeM/ZiQ6soio2j+0qiXyss/pP7whBOAGHtw/3o9sTLYx4j/A9osw51TnP6r4yYdW3eg/dXKBbvy36D+9YeYZQwHRP+vJ6UdNAuk/KOVck/2P5T/59SHGPdDZPwSA82GgrNc/R5vacHyZzT8WGFBFNKKxP4vJePwAv+M/3206bNEo5D8NSIY4GM/IP0nnChgnfuc/39+VfXf45T/g/LHxUCjoPwB4kZBSWt0/Ae7RU9p40T/8t2CLKIrWP+CLy1pPX5Q/wWkPxIsz3T9thkq+bpLpP7uSjFqHHug/NakZcPMc6j/fbTps0SjkPyXkpZkR7aM/uwMV1Qcf1D//eZ9QE0TjP97NURgNsec/AUOwV/Zd5j+QN7GOkF6LPwSaG4EdTdc/pAOHe7uA6T8LIXtCJ/XhPx1AHPCi6ek/qvjJh1bd6D8EGIK9su/iP77UwLDn6Mk/gH4rfKEdxz//WaKFU1vVP685UZFmu9Y/AAAXqAG6oD+QN7GOkF6LP2Od4W1nzOM/FoDwwSgksD/ej2xMtjHiP5kqfUKDFKc/fzQLRmnK5T//eZ9QE0TTP1hKa7uTJ9U/+fUhxj3Q2T9OGXeFQNnnPx5j2yr71eU/JeSlmRHtoz8l5KWZEe2jPyXkpZkR7aM/Yxpx8Tgn2z+vOVGRZrvWP44AQWtaJOU/eGxEqIMKkT+LaqLD9IffPyXkpZkR7aM/vCEE4AYe7D8NSIY4GM/IP7qO/Iscz98/JeSlmRHtoz+7Akr7AuHpP+rvCdapMKo/B/hY7Dyczj+6X8UaHGTfP+82Sgkc1+A//fSKSID+tT9EeCFb4AvQP15/olLXGPA/AAAXqAG6oD8Q5gAr+fWaPxDmACv59Zo/GHHEVTAbsz8ckrQssAjtP8rljByxGOE/GHHEVTAbsz+AtiM6Pv3KP9m9g/lye9M/3ky89L/T6z8WGFBFNKKxP7whBOAGHuw/Awu6/viC7j8Q5gAr+fWaP5+q2DZZYeA/+0jf0T6PtD/QkV7n8qrmPz9Kw8OPE+I/aAkxWMx92j++wyhTWB7ZP5e///cHfdc/l7//9wd91z+2fj9jWuXcP7zcNSgeFuc/L/J/lEMc4D9DbTMrZbLTPz6uiQAMDOM/8o07XzTW5j+/lTbjzVLaP2VJioWMJ9o/tsOmZ71swD8AABeoAbqgP7+VNuPNUto/0WOGxGgI4T9YSmu7kyfVPzUqx2RWmOE/8mr39YXG4D+7koxahx7oPxhxxFUwG7M/FhhQRTSisT97AmV5WfPdP+rvCdapMKo/AAAXqAG6oD8dMLRyZs3dP9Tsly/uKu0/WEpru5Mn1T9giE/jcvPkP8nKJ8cXA+s/sQ/tDVpY7D+HXBg7MurrP1kOEGA2f+g/vCEE4AYe3D/jDJBuKLPlPwZr7ZLic+c/PjfCYrPD2D/+p3dzneboP/4rk47vvtQ/8ZjPGBBp5j8EmhuBHU3XPwWZxbVsFu0/qL1P/9u14D+ZKn1CgxSnPx0wtHJmzd0/AAAAAAAAAACv/sfkKyjjP+vJ6UdNAuk/R5vacHyZzT9PIwz7FEDfP/y3YIsoiuY//1qp5TNQ4D9XE4HwQhHBP3AWgSyxQOI/euR1blr01T+6jvyLHM/fP6i9T//bteA//jbv+Bzm7D8Q5gAr+fWaP+CLy1pPX5Q/Yxpx8Tgn2z/+p3dzneboP+CLy1pPX5Q/RZYQZt8K2D8Bn7p6aXLgP0eb2nB8mc0/X4PweEQM0z8ur888Tb7pP0LU0aD0UNs/3aqS3bTE6z/DDV9+d+7RPz43wmKzw9g/XcYQHog52D9dxhAeiDnYPz88+iWrFuw/AAAAAAAAAAAAABeoAbqgP/9aqeUzUOA/wtES/RxR7D9CzyKUUT/tP9mK5HF/luM/JeSlmRHtoz9jGnHxOCfbP6U9Rh7k5rw/BTHK8WyFyz9giE/jcvPUP6Cp0dZ4bOU/n6rYNllh4D8yz2wBTvbmPwAAF6gBuqA/AAAXqAG6oD8AABeoAbqgP5A3sY6QXos/xsAji7tU1D8gLOwx3u/oP3rkdW5a9NU/QtTRoPRQ2z8AK3bg3xzXPxqeW8sY+eg/NOcWDWA66z+ILkAYqEfmPwTV0WW8kew/BNXRZbyR7D8BszFylmnnP8//oAqkFOk/ul/FGhxk3z/vNkoJHNfgP13GEB6IOdg/wjiRQb/E4j/8t2CLKIrWPw8Ep6dLlOA/R5vacHyZzT+fqtg2WWHgP1Dih4wj8+o/6u8J1qkwqj+Bcww7cxvOPxDmACv59Zo/Y53hbWfM4z+qA+DItMzbPzCA8LniJuk/6u8J1qkwqj9tunaJk3buPwSaG4EdTdc/bsdAQadd7j8hp7j4g0rnP06K///A2eM/SCgydKU+3j8AKT4Go+vmP7SsTxbVQa0/uo78ixzP3z+7AxXVBx/UP0R4IVvgC9A/3aqS3bTE6z8EkBNOBUrQPwSQE04FStA/mxOUVD+n3T8ILD2P44DdP1FQGtbn29c/vsMoU1ge2T9mJDqyiKjaPw/R/KR2lHs/nsoyKvwL5T8qkN2oXdjpPwSQE04FStA/AAAXqAG6oD80whdGHq7ePw/R/KR2lHs/A1Pub3ti6D8P0fykdpR7P4MLSoT2kMM/z/+gCqQU6T+QN7GOkF6LP2YkOrKIqNo/kDexjpBeiz8BuLWLIuvqPxP6/iRtC+4/n2co32ID6j8v8n+UQxzgP+CLy1pPX5Q/zcaZUql16D/K5YwcsRjhPwuIRIDkLeo//1qp5TNQ4D+gocFgxh3pP7uSjFqHHug/sQ/tDVpY7D+yb0D3eYPsP30sYyHdcOo/fSxjId1w6j8EmhuBHU3XPwSeizWXr8c/0SDWbHKq6j+uLKAHtsroP7SsTxbVQa0/e0/JHuez0T/gi8taT1+UPxDmACv59Zo/qHqfp+VX6j8BszFylmnnPznvyY82gOs/AAAXqAG6oD/C+IXr4ZHqP+AAzw9PO+w/4IvLWk9flD+QN7GOkF6LP9+WYh/wyuo/r/7H5Cso4z8F7pDaRQ/mPyMCE8b5Eus/fD4k9hgZ3j8Q5gAr+fWaP3VygW78t+g/HJK0LLAI7T9mRYsXn0LkP8nKJ8cXA+s/HTC0cmbN3T8LIXtCJ/XhPz9Kw8OPE+I/kDexjpBeiz8Q5gAr+fWaP4fI9ZF79ds/mUoiwBZG7T/C9eDpyGbsP5A3sY6QXos/8o07XzTW5j+QN7GOkF6LP5kqfUKDFKc/jgBBa1ok5T9afO/ZthToP/94mPAyT+g/Jg5hNFEMzD+8IQTgBh7cP+rvCdapMKo/AAAXqAG6oD/8t2CLKIrGP/4ZDqvBO74/6u8J1qkwqj8AABeoAbqgP5A3sY6QXos/QcnjcHn33j9ADiIDIXTmP7cU5SPXB+U/AEll694b3z/q7wnWqTCqP4OHZNACx+k/SCgydKU+3j/RY4bEaAjhPwZr7ZLic+c/uWNOos5R6z+JvbedJ0fqP/HtNXKPR+Y/FFS6sJV16z+Afit8oR3HP9m9g/lye9M/GgGV2rwL3D9uS6PyP5vpPyvb6/Mf++o/6u8J1qkwqj/q7wnWqTCqP28UtPkitew/X7LFwIwm5D+QN7GOkF6LP/tI39E+j7Q/4bJiCE890T+QN7GOkF6LP5A3sY6QXos/6u8J1qkwqj/MPRWpEzLoP5A3sY6QXos/SeJP+JtP4j/JUkGwFWzoP5234w4rYtI/oKHBYMYd6T8W48Ck0azpP70yTEYIitQ/X8DHa6jeqj/AiQrP18LqP30sYyHdcOo/bkuj8j+b6T+QN7GOkF6LP+rvCdapMKo/gXMMO3Mbzj+QN7GOkF6LP5A3sY6QXos/2ttyBHJ62z+QN7GOkF6LP5e///cHfdc/ITYwfgNK6z/99IpIgP61PwUxyvFshcs/AgzBXtl36T8r2+vzH/vqP5A3sY6QXos/t/x1qjTR7D+PGq8JFfnrP5lKIsAWRu0/i2qiw/SH3z8+V4Ubg1PpP4iWoRa5j+0/EOYAK/n1mj+QN7GOkF6LP98LF6zH6+o/AFwKI3MU6j+bAHg9BiXrPxRX85ZKltw/WEpru5Mn1T8UPa98Y2nkPwAAAAAAAAAAkDexjpBeiz8nEzW2hzLrP9aQ5+nZ5eE/EePg3zxL2T/xPL6NeRnoP+0qiapCX+c/QUnC5GSD4D8nEzW2hzLrPw7rmuoWmuo/iJahFrmP7T+3/HWqNNHsPyWaeWk/2+s/l7//9wd91z9C3LYjkA/tP9+2UzyOPOU/6u8J1qkwqj8ASWXr3hvfP5A3sY6QXos/XbH6O8pD5z+QN7GOkF6LPxhxxFUwG7M/NakZcPMc6j9afO/ZthToPzJfMADrYu0/33bMA51QzD/q7wnWqTCqP8B/xJKODN0/n9iwWeMD5j/xmw10kzjmP51K/Hwb9+c/qHqfp+VX6j873WICwT7qP2Qrm3qNKNI/sXJczirx2D/8t2CLKIrmP5+q2DZZYeA/0GHSNgLt5T8/mGHFqCDnP/cxBGqVWes/kDexjpBeiz/C0RL9HFHsPwHu0VPaeOE/FiPYtryK6z8Q5gAr+fWaP38AY7sD0+o/kDexjpBeiz//4RD1AAHoP+CLy1pPX5Q/Dy5LQg344D+zmymT6+jTP+CLy1pPX5Q/AAAXqAG6oD+QN7GOkF6LP6Eiu7ZeJew//YJ2rJJY1j+QN7GOkF6LP0OhSnHHnOc/kDexjpBeiz/99IpIgP61Pw8uS0IN+OA/kDexjpBeiz9C1NGg9FDbPx1AHPCi6ek/3e1CNasi4j8/ObUO5NLePxhxxFUwG7M/gwtKhPaQwz+QN7GOkF6LPxDmACv59Zo/EOYAK/n1mj+QN7GOkF6LP9e4vJQJOek/FoDwwSgksD+7Akr7AuHpP4loyfMu7ec/P5hhxagg5z8lmnlpP9vrP5A3sY6QXos/4IvLWk9flD+QN7GOkF6LP9dZ+PC8/+Q/Aash/OMa6z8AABeoAbqgP3AWgSyxQOI/kDexjpBeiz+QN7GOkF6LP4m9t50nR+o/gSmlbQf82T97T8ke57PBP3yByN8ku+c/B/hY7Dyczj//eJjwMk/oP/9aqeUzUOA/FiZx/McK4D84M+kHWMbEP9S+vwxkiOc//0mCme693D9C1NGg9FDbPzx9XtO0VMI/6u8J1qkwuj/UmFFpk4/kP+GyYghPPdE/Be6Q2kUP5j8EGIK9su/iP/y3YIsoisY/Duua6haa6j/cSfN6v2ftP+rvCdapMLo/brg3StGe6z8BSWXr3hvPP4MLSoT2kMM/zTcizSl25D8Q5gAr+fWaPw1IhjgYz7g/4Pyx8VAo6D/c3TowmFTlP2VJioWMJ9o/zZjBLx/T4j9giE/jcvPkPzUqx2RWmOE/fwBjuwPT2j/9JiUKFGm3PwSeizWXr8c/eGxEqIMKkT9tvCttwJvlP6Fz6T08e+M/jxqvCRX56z/99IpIgP61PyAs7DHe7+g/wH/Eko4M3T+CbcN80qfiP380C0ZpyuU//hf5jT3y6T+9MkxGCIrUP3DT0NS64us/b0RZTzvj5z9SD7AkKX/mP513Efftpuc/v5U2481S2j/KdASiMBjlP3tPyR7ns9E/uwMV1Qcf1D/+Nu/4HObsP380C0ZpyuU/6u8J1qkwuj9tvCttwJvlPxDsy0Hwn+w/ICzsMd7v6D/fny+tWd7tP/9Jgpnuvdw/kTXHsski6z/DDV9+d+7RP6QDh3u7gOk/rKcvg6CH0D+dSvx8G/fnP/2JiGie5+A/PkwXBeNn2D9ByeNweffePwGFWU8Mx+E/f9KKmHkw5T9gn4bS8ADnP0FJwuRkg+A/oEkFHfGV2D/q7wnWqTCqP8ucT6SNYOU/Dy5LQg344D+fqtg2WWHgP7xF+lL5PuA/QtTRoPRQ2z/COJFBv8TiPxHj4N88S9k/AAAXqAG6oD9uS6PyP5vpP0APKWMBaeE/HxG2nL0UxT81qRlw8xzqPwKK3WiYSOU/4aIjfslC5D+LaqLD9IffP/9Jgpnuvdw/QAYSjW4l6j8CDMFe2XfZP8MNX3537tE/gLYjOj79yj8Bn7p6aXLgP/9aqeUzUOA/klwlRyT1xT+ZKn1CgxSnP0NtMytlstM/FiZx/McK4D+oCRctZVfuPz5MFwXjZ9g//LdgiyiK5j+Xv//3B33XP8+xMAAJOeE/VrvpH/JR4z8+N8Jis8PYP7xF+lL5PuA/oEkFHfGV2D8L3srqMJfrP0WWEGbfCtg/7SqJqkJf5z9/AGO7A9PaP803Is0pduQ/ZCubeo0o0j9kK5t6jSjSP2VJioWMJ9o/XcYQHog52D+hIru2XiXsP1pEfYRLD+w//EbYEKiJ6j+JAGj1HaXgP0IfZ3uGbeM/klwlRyT1xT8Sa4ef7QvqP4fI9ZF79ds/XcYQHog52D8CfUnZWXjlP/y3YIsoitY/sJfNRqGI4T8iB1H7mLLqP0APKWMBaeE/Ae7RU9p40T/99IpIgP61P25Lo/I/m+k/JeSlmRHtoz+qFdiLPs/nP5A3sY6QXos/VrvpH/JR4z8+TBcF42fYPwAAF6gBuqA/fwBjuwPT6j+07dVJqS3gP6i9T//bteA/ozz6RB+V5j//eZ9QE0TTP+CLy1pPX5Q/JNFoYlzB6D9/AGO7A9PqP9+2UzyOPOU/ozz6RB+V5j/+p3dzneboP2YkOrKIqNo//hkOq8E7vj/ezVEYDbHnPwFCqfcVaes/mD2r0+SNuz8hllgiPWDqPwIMwV7Zd+k/3Enzer9n7T8+rokADAzjPysenEsWWeE/TUdPqMp77T/42++cSevtP2YkOrKIqNo/AUi6Ap2K7D+LyXj8AL/jP7DFpWkrK+c/vCEE4AYe7D8Ga+2S4nPnP/y3YIsoiuY/Pq6JAAwM4z8NSIY4GM+4P0HJ43B5994/KpDdqF3Y6T/q7wnWqTCqPwSQE04FStA/Uh/vuKMm1j/ZvYP5cnvTP6U9Rh7k5rw/Avzjf34sxD+Vb2nzTezWPzx9XtO0VMI/i2qiw/SH3z8oAL+os47VP/gQi1GMXsU/NSrHZFaY4T/ZvYP5cnvTP5e///cHfdc/wH/Eko4M3T+tG2W4GyTtPwSaG4EdTdc/vTJMRgiK1D+zmymT6+jTP5234w4rYtI//iuTju++1D+BoqS1LqTZP9QvSIfkiOM/nbhOum1u3D/onqA/U3zsP9e4vJQJOek/AAAAAAAAAAABQqn3FWnrP6hMx4RbteQ/gLYjOj79yj9vFLT5IrXsPz89AYaLC+c/AAAAAAAAAAAGOzR9czzmP9S+vwxkiOc/++U4rrIs7D8hllgiPWDqP9aZgCCysO0/7zZKCRzX4D/LnE+kjWDlP37ic7AE1NI/FhhQRTSisT/AUSJfDaDmPxYYUEU0orE/Pzm1DuTS3j+Bcww7cxvOPyTRaGJcweg//fSKSID+tT9DoUpxx5znPwYPmgub/u0/RZYQZt8K6D/cSfN6v2ftP+HFwvgzQus/BVWPW5Nf7D8hp7j4g0rnP7whBOAGHtw/xWr3eV6azz8F7pDaRQ/mP+CLy1pPX5Q/Qh9ne4Zt4z+7vZZfV0bcPz9Kw8OPE+I/kDexjpBeiz/eNcO8+m3sP9xJ83q/Z+0/sQ/tDVpY7D+3/HWqNNHsPx2Rs02FeOs/wtES/RxR7D9vRFlPO+PnPwG4tYsi6+o/2ZmQygI07D8Sa4ef7QvqP3Gc4dud/O4/+y9uxg9+8D+ovU//27XgP4Jtw3zSp+I/b0RZTzvj5z/99IpIgP61PwXukNpFD+Y/AAAXqAG6oD/c3TowmFTlP+CLy1pPX5Q/kDexjpBeiz+QN7GOkF6LP5A3sY6QXos/mxOUVD+n3T8AABeoAbqgPyIIWFt5p+U/v3/6gZdC7D8CDMFe2XfpPxYYUEU0orE/f2ECHvkv6T/q7wnWqTCqP06K///A2eM/kDexjpBeiz+qA+DItMzbPzTnFg1gOus/FoDwwSgksD+KhsikCmHtP0B3mgfvJeY/dn5weCml6D9PIwz7FEDfP8D2izDnVOc//fSKSID+tT9Hm9pwfJnNP70yTEYIitQ/7JsRJcNf4z/q7wnWqTC6Pz2vit82nOQ/uwJK+wLh6T/+p3dzneboP9/flX13+OU/yreeNvGRzD/9JiUKFGm3P0B3mgfvJeY/yVJBsBVs6D9EeCFb4AvQP7IBnvsiau4/ALQ40nZe4j/3M+MAUxbNP5A3sY6QXos/3BynlGzy3z+eKE+GBa7rPwHu0VPaeNE/vWHmGUMB0T+Bcww7cxvOP6ynL4Ogh9A/BJATTgVK0D97T8ke57PRP/sRJuwc4+o/kDexjpBeiz/yjTtfNNbmPwIMwV7Zd9k/4IvLWk9flD+JaMnzLu3nP5A3sY6QXos/3ky89L/T6z/zdp79vdrkP7u9ll9XRtw/h8j1kXv12z//eZ9QE0TTP1hKa7uTJ9U/KAC/qLOO1T/g3Y8wkrXpP/2JiGie5+A/AAAAAAAAAACqA+DItMzbP+CLy1pPX5Q/QUnC5GSD4D/q7wnWqTC6P4GipLUupNk/6u8J1qkwqj+QN7GOkF6LP+rvCdapMKo/ACt24N8c1z8AABeoAbqgP55Zqq97C+k/eGxEqIMKkT+xclzOKvHYP9bcMHioDuQ/sVKdZVC24j/QkV7n8qrmP/5caaHYTO0/HZGzTYV46z+BoqS1LqTZP44AQWtaJOU/PkwXBeNn2D+JvbedJ0fqP7Tt1UmpLeA/ww1ffnfu0T/xmM8YEGnmPygAv6izjtU/kTXHsski6z/Favd5XprPP7xF+lL5PuA/z7EwAAk54T8dkbNNhXjrP/tI39E+j7Q/f2ECHvkv6T+QN7GOkF6LP+Dn9NgYS+k/boyeZgnU6D+/lTbjzVLaP38AY7sD09o/yconxxcD6z//eZ9QE0TTPwshe0In9eE/tKol8rLP6T+QN7GOkF6LPyGWWCI9YOo/tn4/Y1rl3D8DRlrgPJLoPwHu0VPaeNE/uwJK+wLh6T/ezVEYDbHnP/3VT5Ynid4/kDexjpBeiz8/zHgLCwvrP7whBOAGHtw/bxS0+SK17D/gi8taT1+UPwFJZeveG88/68npR00C6T9F8iAKBGbpPz3cYSOWrug/kDexjpBeiz9cBE7ul4npP7DFpWkrK+c//LdgiyiKxj+QN7GOkF6LP92qkt20xOs/0unmc1XE7T/8t2CLKIrmP4qGyKQKYe0/g4dk0ALH6T+QN7GOkF6LP5A3sY6QXos/kDexjpBeiz/q7wnWqTCqP5lKIsAWRu0/kDexjpBeiz/sWGHNzAHtP/9Jgpnuvdw/kDexjpBeiz+xUp1lULbiP5A3sY6QXos/gXMMO3Mbzj8/BxNsmbXrP3tPyR7ns9E/sYB1iNpY6D97T8ke57PBP8Vq93lems8/fv6K/lLO5D/Favd5XprPP77UwLDn6Mk/CbZkKlKb0j/PboCoEtvqP63sc/cYQOc//LdgiyiK1j/gi8taT1+UP/95n1ATRNM/FhhQRTSisT+QN7GOkF6LPz5MFwXjZ9g/kDexjpBeiz+Bcww7cxvOPwFDsFf2XeY/4NkSd+Yo4T+QN7GOkF6LPwGzMXKWaec/8o07XzTW5j+9MkxGCIrUPyYOYTRRDMw/kDexjpBeiz/Favd5XprPP+CLy1pPX5Q/EOYAK/n1mj+AtiM6Pv3KP6h6n6flV+o/B/hY7Dyczj8H+FjsPJzOP8p0BKIwGOU/BTHK8WyFyz+LaqLD9IffP1IPsCQpf+Y/mSp9QoMUpz8DU+5ve2LoPxaA8MEoJLA/Q6FKccec5z9DbTMrZbLTP264N0rRnus/Ysu5kPFu6T+7Akr7AuHpP9dZ+PC8/+Q/BmvtkuJz5z8WgPDBKCSwP/so6QWpiuI//YmIaJ7n4D/S6eZzVcTtPysenEsWWeE/DtWp4byI6D8AABeoAbqgP8MNX3537tE/3o9sTLYx4j8B7tFT2njhPz85tQ7k0t4/3N06MJhU5T8Q5gAr+fWaPxDmACv59Zo/3e1CNasi4j//eZ9QE0TTP+rvCdapMKo/iC5AGKhH5j/4dLTBi7fhP79/+oGXQuw/3Enzer9n7T+HyPWRe/XbPw7rmuoWmuo/CyF7Qif14T/yavf1hcbgP/3VT5Ynid4/ICzsMd7v6D8AABeoAbqgPwAAF6gBuqA/vTJMRgiK1D9uuDdK0Z7rPwBJZeveG98/AordaJhI5T/l1Ch8mZLnP97NURgNsec/kYFGg5aMvz+CbcN80qfiP6oD4Mi0zNs/37ZTPI485T8WgPDBKCSwP97NURgNsec/vEX6Uvk+4D+6jvyLHM/fP0eb2nB8mc0/CCw9j+OA3T8vgfcZwxvkPxDmACv59Zo/AFwKI3MU6j8EGIK9su/iP+7zmbEleeo/Dy5LQg344D++1MCw5+jJP17WdcsN5+M/RZYQZt8K2D8/ObUO5NLeP5A3sY6QXos/qvjJh1bd6D+q+MmHVt3oP5JcJUck9cU/UVAa1ufb1z8YccRVMBuzP/tI39E+j7Q/ODPpB1jGxD81KsdkVpjhP+82Sgkc1+A/6u8J1qkwqj/0IqqqvnPKP3AWgSyxQOI/sFQd76oq6z/DDV9+d+7RPw/B9k9VNuo/gLYjOj792j9e1nXLDefjPy3AEr0whOU/Avzjf34sxD/BaQ/EizPdP/427/gc5uw/JeSlmRHtoz/tKomqQl/nP7uSjFqHHug/AAAXqAG6oD+xD+0NWljsP8D2izDnVOc/ZCubeo0o0j/dPtqSjbHjP7qO/Iscz98/sXJczirx2D+gSQUd8ZXYP6oV2Is+z+c/Bjs0fXM85j8GUkpjkVzkP+CLy1pPX5Q/X4PweEQM0z++1MCw5+jJPxDmACv59Zo/2b2D+XJ70z8BQ7BX9l3mPwAAAAAAAAAAAAAAAAAAAAC9YeYZQwHRPz85tQ7k0t4/P5hhxagg5z/gi8taT1+UPwAAAAAAAAAAuo78ixzP3z+spy+DoIfQP+rvCdapMKo/v5U2481S2j8Ga+2S4nPnP/y3YIsoisY/oSK7tl4l7D+SXCVHJPXFP8I4kUG/xOI/sJfNRqGI4T8WgPDBKCSwP9wcp5Rs8t8/CyF7Qif14T8FnuJsn6vfP/tI39E+j7Q/2b2D+XJ70z8AABeoAbqgP/n1IcY90Nk/qEzHhFu15D+QN7GOkF6LP5A3sY6QXos/BJobgR1N1z9Hm9pwfJnNP9zdOjCYVOU/4aIjfslC5D+vOVGRZrvWPz3cYSOWrug/BJ6LNZevxz9C1NGg9FDbPxHj4N88S9k/3jXDvPpt7D/K5YwcsRjhP3tPyR7ns9E/wPaLMOdU5z/+GQ6rwTu+P4Q21IO1wdU/z/+gCqQU6T+kA4d7u4DpP7/fzOHOqOQ/wviF6+GR6j8hllgiPWDqP5A3sY6QXos/LcASvTCE5T8jAhPG+RLrPzH9RCTYmOw/mSp9QoMUpz965HVuWvTVP4guQBioR+Y/wFEiXw2g5j8eY9sq+9XlP7FyXM4q8dg/oKnR1nhs5T/7SN/RPo+0Px1AHPCi6ek/bkuj8j+b6T8NXDvVsaPbPz88+iWrFuw/uWNOos5R6z9FlhBm3wroP1j2fQ+fGuY/yconxxcD6z97T8ke57PBP6fO1SUUQuk/zVUR2Ch17D9Y9n0PnxrmP7BUHe+qKus/PmvZqBWu7D/7ESbsHOPqP+0qiapCX+c/eGxEqIMKkT/AiQrP18LqP/y3YIsoitY/Ld2nX9dg7z/gi8taT1+UP9rRR0V0FO8/gXMMO3Mbzj+7Akr7AuHpP6h6n6flV+o/CbZkKlKb0j9ZDhBgNn/oP1wETu6Xiek/f2ECHvkv6T/Wh9ATR6LqPwFIugKdiuw/YIhP43Lz5D8BszFylmnnP1FQGtbn29c/0JFe5/Kq5j+ZKn1CgxSnPwAAF6gBuqA/BlJKY5Fc5D8/PPolqxbsP25Lo/I/m+k//SYlChRptz8AABeoAbqgPxDmACv59Zo/wFEiXw2g5j+vOVGRZrvWP/2JiGie5+A/7SqJqkJf5z8qkN2oXdjpP9QvSIfkiOM/4N2PMJK16T/3M+MAUxbNP380C0ZpyuU/qgPgyLTM2z/RY4bEaAjhP5234w4rYtI/oKnR1nhs5T9vRFlPO+PnP4FzDDtzG84/Mf1EJNiY7D8ILD2P44DdP+0qiapCX+c/h1wYOzLq6z8AABeoAbqgP7uSjFqHHug/sVKdZVC24j//4RD1AAHoP99tOmzRKOQ/tKxPFtVBrT+ddxH37abnPwGzMXKWaec/zcaZUql16D8oAL+os47VP6ynL4Ogh9A/ftOLd6TA5j//eZ9QE0TTP2/FUGCLqfA/JeSlmRHtoz/4EItRjF7FP/KNO1801uY/kDexjpBeiz+0rE8W1UGtP/6mcBO98e0/7SqJqkJf5z89PgJltpvoP9+WYh/wyuo/sQ/tDVpY7D8CgcaSBQXuP+CLy1pPX5Q/HUAc8KLp6T8DU+5ve2LoP3Z+cHgppeg/kDexjpBeiz8l5KWZEe2jP5RVIJY7g/A/ug+YwxBd6T8WgPDBKCSwP7UKedvS+uk/AgzBXtl36T8Kx91cKN/sP9mZkMoCNOw/yVJBsBVs6D/u85mxJXnqP9m9g/lye9M/pAOHe7uA6T/smxElw1/jP/n1IcY90Nk/IgdR+5iy6j/gAM8PTzvsP5A3sY6QXos/++U4rrIs7D91coFu/LfoP4EppW0H/Nk/kDexjpBeiz8AABeoAbqgP+rvCdapMKo/0WOGxGgI4T+0rE8W1UGtP9mK5HF/luM/EOYAK/n1mj//eZ9QE0TjP5Q7zlRpgeo/WkR9hEsP7D/dPtqSjbHjPyXkpZkR7aM/mSp9QoMUpz/xmM8YEGnmPyAs7DHe7+g/B/hY7Dyczj+Vb2nzTezWP5sTlFQ/p90/jgBBa1ok5T+0rE8W1UGtPwAAF6gBuqA/kTXHsski6z+6D5jDEF3pP6QDh3u7gOk/kDexjpBeiz9jGnHxOCfbPwQYgr2y7+I/n9iwWeMD5j+ZKn1CgxSnP97MSrgsvOw/JeSlmRHtoz+nztUlFELpP/Jq9/WFxuA/4IvLWk9flD+Bcww7cxvOP5A3sY6QXos/FoDwwSgksD+7vZZfV0bcP0HYOWrkguQ/gLYjOj79yj+QN7GOkF6LP7FyXM4q8dg/6u8J1qkwqj+yb0D3eYPsP2Qrm3qNKNI/wPaLMOdU5z/fB+uZcMvmPy4gWLfNvuU/6u8J1qkwqj9giE/jcvPUP+0qiapCX+c/Be6Q2kUP5j/ezVEYDbHnPy6vzzxNvuk/Aftl4xhJ4T+YPavT5I27P+rvCdapMKo/EOYAK/n1mj+QN7GOkF6LP0nnChgnfuc/kDexjpBeiz/gi8taT1+UP6Fz6T08e+M/mSp9QoMUpz/gi8taT1+UP+rvCdapMKo/KAC/qLOO1T8NSIY4GM/IPz5MFwXjZ9g/vCEE4AYe7D/hsmIITz3RPwAAF6gBuqA//hgA7h3n5D/8RtgQqInqP2CIT+Ny89Q/gaKktS6k2T9lSYqFjCfaP/4ZDqvBO74/e0/JHuezwT9+4nOwBNTSP7TkmbHTUuY/vsMoU1ge2T/99IpIgP61P5kqfUKDFKc/ww1ffnfu0T+BKaVtB/zZP+BxV4rPO+g//fSKSID+tT8hNjB+A0rrP+CLy1pPX5Q/AUll694bzz9SH++4oybWP/h0tMGLt+E/4IvLWk9flD/7SN/RPo+0P+7zmbEleeo/Yxpx8Tgn2z+dSvx8G/fnP6ynL4Ogh9A/mSp9QoMUpz+6RQ+IslzJP7JvQPd5g+w/Wnzv2bYU6D/xmM8YEGnmP/gQi1GMXsU/wPaLMOdU5z+oTMeEW7XkPzx9XtO0VMI/Iae4+INK5z/z8FelcoLtP+rvCdapMKo/4bJiCE890T9dk8VzF4ntP98H65lwy+Y/ZCubeo0o0j9kK5t6jSjSP5A3sY6QXos/HmPbKvvV5T88CjpGIFHuP/sRJuwc4+o//fSKSID+tT/q7wnWqTCqP5A3sY6QXos/Iae4+INK5z8Q5gAr+fWaPy/yf5RDHOA/brg3StGe6z/GwCOLu1TUP+BxV4rPO+g/SeJP+JtP4j8Q5gAr+fWaP2CIT+Ny89Q/+yjpBamK4j8Q5gAr+fWaP8nKJ8cXA+s/8/BXpXKC7T+SXCVHJPXFPzMTGSiJT+o/EOYAK/n1mj/c3TowmFTlP7u9ll9XRtw/BlJKY5Fc5D8FnuJsn6vfP+CLy1pPX5Q/Aash/OMa6z8AeJGQUlrdPwVVj1uTX+w/iQBo9R2l4D8W48Ck0azpP7SsTxbVQa0/Ae7RU9p44T8/BxNsmbXrP95MvPS/0+s/Avzjf34sxD+0rE8W1UGtP5A3sY6QXos/Uh/vuKMm1j/a23IEcnrbP+HFwvgzQus/dctLlBFAyD8Q5gAr+fWaP/xG2BCoieo/AUll694bzz+0rE8W1UGtP/9ZooVTW9U/9zPjAFMWzT8UV/OWSpbcP9m9g/lye9M/JeSlmRHtoz+6X8UaHGTfPzTnFg1gOus/Avzjf34sxD/7SN/RPo+0PwArduDfHNc/LcASvTCE5T+YPavT5I27P/30ikiA/rU/AAAXqAG6oD+QN7GOkF6LPyXkpZkR7aM/6u8J1qkwuj/C9eDpyGbsPyE2MH4DSus/kDexjpBeiz97T8ke57PBP380C0ZpyuU//+kga7NP5D/0IqqqvnPKPwZr7ZLic+c/XtZ1yw3n4z8B7tFT2njRP5A3sY6QXos/Ysu5kPFu6T8UV/OWSpbcPxDmACv59Zo/Ms9sAU725j8AABeoAbqgP+XUKHyZkuc/kDexjpBeiz/3MQRqlVnrPwFJZeveG88/3g/7DyMa4z/dqpLdtMTrP8Vq93lems8/R5vacHyZzT8Q5gAr+fWaP2Qrm3qNKNI/Gp5byxj56D8BQ7BX9l3mP2CIT+Ny89Q/JNFoYlzB6D/9gnaskljWP/n1IcY90Nk/CbZkKlKb0j/hsmIITz3RP7GAdYjaWOg/kDexjpBeiz/gi8taT1+UPwArduDfHNc/AAAXqAG6oD8AABeoAbqgP5A3sY6QXos/euR1blr01T9ujJ5mCdToP2gJMVjMfdo/zD0VqRMy6D9giE/jcvPUP7/fzOHOqOQ/C4hEgOQt6j8YccRVMBuzPwSaG4EdTdc/BTHK8WyFyz+vOVGRZrvWPwB4kZBSWt0/EOYAK/n1mj+QN7GOkF6LP6i9T//bteA/dXKBbvy36D8Q5gAr+fWaP5234w4rYtI/Ae7RU9p40T8xu5CbJjbjPwY7NH1zPOY/P5hhxagg5z8Sa4ef7QvqP1ckVjIpves/EOYAK/n1mj/hsmIITz3RPyGnuPiDSuc/fwBjuwPT2j8NSIY4GM+4PzUqx2RWmOE/yreeNvGRzD+FhT3Hz3DrPwZr7ZLic+c/6u8J1qkwuj8l5KWZEe2jP4OHZNACx+k/Bjs0fXM85j8B+2XjGEnhP4Jtw3zSp+I/ozz6RB+V5j+ZKn1CgxSnP13GEB6IOdg/rzlRkWa71j8YccRVMBuzP3VygW78t+g/gSmlbQf82T/gi8taT1+UP0eb2nB8mc0/Dy5LQg344D8UV/OWSpbcP7whBOAGHuw/uo78ixzP3z9ABhKNbiXqPxHj4N88S9k/DtWp4byI6D/gi8taT1+UP4FzDDtzG84/qvjJh1bd6D+ZKn1CgxSnP0eb2nB8mc0/DwSnp0uU4D+Vb2nzTezWP9Eg1mxyquo/u5KMWoce6D/AUSJfDaDmP+vJ6UdNAuk/AAAXqAG6oD8AeJGQUlrdPwveyuowl+s/oEkFHfGV2D8Q5gAr+fWaP37ic7AE1NI/f2ECHvkv6T893GEjlq7oP08jDPsUQN8/+BCLUYxexT97T8ke57PBPyXkpZkR7aM/4IvLWk9flD92fnB4KaXoP/6nd3Od5ug/11n48Lz/5D/fB+uZcMvmP8q3njbxkcw/nkk51GME4j+6X8UaHGTfP30sYyHdcOo/QUnC5GSD4D8Q5gAr+fWaP82YwS8f0+I/pk6h6E304z89PgJltpvoP+GyYghPPdE/qgPgyLTM2z+mTqHoTfTjP6oD4Mi0zNs/Ms9sAU725j/+F/mNPfLpP4OHZNACx+k/6J6gP1N87D9/YQIe+S/pP9+WYh/wyuo/gXMMO3Mbzj8hllgiPWDqPy4gWLfNvuU/z/+gCqQU6T8CDMFe2XfpP37ic7AE1NI/HTC0cmbN3T9jGnHxOCfbP+XUKHyZkuc/qhXYiz7P5z8+rokADAzjPz0+AmW2m+g/3sxKuCy87D9kWhtPvTHtPzwKOkYgUe4/Pz0BhosL5z9Ad5oH7yXmP6oV2Is+z+c/Q20zK2Wy0z8Sa4ef7QvqP0WWEGbfCtg/JxM1tocy6z+hc+k9PHvjPwQYgr2y7+I//qd3c53m6D+O30W4h43wP6oD4Mi0zNs/Thl3hUDZ5z9teXsVyj3vPz43wmKzw9g/AYVZTwzH4T9BScLkZIPgP64soAe2yug/klwlRyT1xT8BuLWLIuvqPyqQ3ahd2Ok/Bg+aC5v+7T/c3TowmFTlP8CJCs/Xwuo/fzQLRmnK5T+dBol8babrP380C0ZpyuU/boyeZgnU6D+eWaqvewvpPwFIugKdiuw/fv6K/lLO5D+AtiM6Pv3KPyTRaGJcweg/y5xPpI1g5T89GdNXtMTQP1Z4Ocj78+w/WPZ9D58a5j92fnB4KaXoPwDzRlfWRvA/z26AqBLb6j/QYdI2Au3lPyIHUfuYsuo/nihPhgWu6z97T8ke57PBPx3UY6V71uE/9zPjAFMWzT8DU+5ve2LoP/N2nv292uQ/nbfjDiti0j+07dVJqS3gP1cTgfBCEcE/FuPApNGs6T9Y9n0PnxrmP8lSQbAVbOg/f9KKmHkw5T+spy+DoIfQPwUxyvFshcs/Qty2I5AP7T+HXBg7MurrP52HgtIFru4/DUiGOBjPyD/tKomqQl/nPxRX85ZKltw/n9iwWeMD5j8CfUnZWXjlPxDmACv59Zo/vWHmGUMB0T/gi8taT1+UPyjlXJP9j+U/kYFGg5aMvz+ZKn1CgxSnPzCA8LniJuk/Be6Q2kUP5j+ddxH37abnP5g9q9Pkjbs/D9H8pHaUez/+F/mNPfLpP38AY7sD09o/iWjJ8y7t5z/xJ0eej2jqP6Cp0dZ4bOU/iWjJ8y7t5z/ezVEYDbHnP9S+vwxkiOc/n2co32ID6j+1Cnnb0vrpP4loyfMu7ec/IZZYIj1g6j+Afit8oR3HP29EWU874+c/QAYSjW4l6j+qFdiLPs/nPzLPbAFO9uY/GHHEVTAbsz8iB1H7mLLqP7pFD4iyXMk/PdxhI5au6D+mTqHoTfTjP8BRIl8NoOY/vNw1KB4W5z+JAGj1HaXgP524Trptbtw/gLYjOj792j/99IpIgP61P5sTlFQ/p90/JeSlmRHtoz+AtiM6Pv3aP4kAaPUdpeA/tsOmZ71swD/9iYhonufgP83GmVKpdeg/FoDwwSgksD+8IQTgBh7cP7pfxRocZN8/wviF6+GR6j+JaMnzLu3nP7FyXM4q8dg/hDbUg7XB1T+mTqHoTfTjPxYYUEU0orE/PT4CZbab6D+7Akr7AuHpP4GipLUupNk/fuJzsATU0j+7AxXVBx/UP/so6QWpiuI/f9KKmHkw5T965HVuWvTVP7Z+P2Na5dw/qvjJh1bd6D+xUp1lULbiP9rbcgRyets/RZYQZt8K2D+9y1oC5vrsP4fI9ZF79ds/NakZcPMc6j+vOVGRZrvWPwAAF6gBuqA/Ae7RU9p40T+ddxH37abnP4FzDDtzG84/euR1blr01T+ajdIXDaTjP9VNN5Ljh+s//LdgiyiK1j97T8ke57PRPyYOYTRRDMw/KAC/qLOO1T+Xv//3B33XP/cxBGqVWes/vsMoU1ge2T9ujJ5mCdToPycTNbaHMus/kDexjpBeiz+eWaqvewvpP6oV2Is+z+c/dXKBbvy36D8hNjB+A0rrP2LLuZDxbuk/1L6/DGSI5z9DoUpxx5znP6i9T//bteA/EOYAK/n1mj/XhwWfhEXoPw1cO9Wxo9s/nkk51GME4j/eD/sPIxrjPxDmACv59Zo/KpDdqF3Y6T8Enos1l6/HP+GyYghPPdE/+HS0wYu34T8Q5gAr+fWaP82YwS8f0+I/HUAc8KLp6T+gocFgxh3pP8L4hevhkeo/EOYAK/n1mj/flmIf8MrqPyGWWCI9YOo/AAAAAAAAAAAAAAAAAAAAACE2MH4DSus/tKol8rLP6T8B7tFT2njRPwSQE04FStA/AUOwV/Zd5j8l5KWZEe2jPw/B9k9VNuo/BJATTgVK0D/UmFFpk4/kPxDmACv59Zo/hDbUg7XB1T8VEZnHW0/vPxYYUEU0orE/jRgSOZIe7j8hNjB+A0rrP+BxV4rPO+g//1KZb4EB5D8jQvHc3MHkP4kAaPUdpeA/QA8pYwFp4T+8RfpS+T7gPzUqx2RWmOE/11n48Lz/5D8AtDjSdl7iP8+xMAAJOeE/nkk51GME4j8Q5gAr+fWaPwNT7m97Yug/+xEm7Bzj6j8twBK9MITlP7CXzUahiOE/nsoyKvwL5T/4dLTBi7fhP51K/Hwb9+c/u3PSdYPh5T+RgUaDloy/Pw8Ep6dLlOA/IgdR+5iy6j9DoUpxx5znPz+YYcWoIOc/7SqJqkJf5z8FMcrxbIXLPyGnuPiDSuc/LU4w2ldh6z/Favd5XprPP9SYUWmTj+Q/3BynlGzy3z8zExkoiU/qP9/flX13+OU/iQBo9R2l4D/eTLz0v9PrP1+1tOXynO0/oSK7tl4l7D8jAhPG+RLrP/cxBGqVWes/HTC0cmbN3T/C0RL9HFHsP//pIGuzT+Q/Kx9VLt3X7T/ZvYP5cnvTPwSQE04FStA/z4+qWYyP6z9tvCttwJvlPwAAF6gBuqA/Uh/vuKMm1j+/f/qBl0LsPxYYUEU0orE/MxMZKIlP6j8BSWXr3hvPP8+PqlmMj+s/BmvtkuJz5z+dBol8babrPygAv6izjtU/g4dk0ALH6T+kA4d7u4DpP9VNN5Ljh+s/xWr3eV6azz/4EItRjF7FP5A3sY6QXos/Ysu5kPFu6T+QN7GOkF6LP82YwS8f0+I/1L6/DGSI5z8FMcrxbIXLP2Qrm3qNKNI/+fUhxj3Q2T8/ObUO5NLeP4loyfMu7ec/BVWPW5Nf7D8wBxtUj7upPxDmACv59Zo/g8nKSVC+4z+8uyb6wlzpPxaA8MEoJLA/xWr3eV6azz9EeCFb4AvQP1Yaydf78Ok/kYFGg5aMvz+5Y06izlHrP0HJ43B5994/pT1GHuTmvD8UV/OWSpbcP/95n1ATRNM/FuPApNGs6T+dt+MOK2LSP4C2Izo+/co/BJATTgVK0D+PGq8JFfnrP0NtMytlstM/Qh9ne4Zt4z8PwfZPVTbqP7Oy8E5w4eI//fSKSID+tT8l5KWZEe2jPxaA8MEoJLA/e0/JHuez0T8UV/OWSpbcP5E1x7LJIus/25qK2KH27j8NSIY4GM+4P9hHNBqJOO0/s5spk+vo0z+6RQ+IslzJP8lSQbAVbOg/vTJMRgiK1D/QYdI2Au3lPwSQE04FStA/AaDFkbbzwj/cnp18/2PeP/tI39E+j7Q/Ms9sAU725j+OAEFrWiTlP6U9Rh7k5rw/kDexjpBeiz/+GQ6rwTu+P7bDpme9bMA//YJ2rJJY1j/+pnATvfHtP4C2Izo+/do/brg3StGe6z+BKhMl3EnsPwGgxZG288I/4N2PMJK16T/ryelHTQLpPyIHUfuYsuo/Uh/vuKMm1j9cBE7ul4npPzCA8LniJuk/dXKBbvy36D/QYdI2Au3lP/4ZDqvBO74/nQaJfG2m6z++wyhTWB7ZPxYYUEU0orE/mD2r0+SNuz/8t2CLKIrmP3XLS5QRQMg/9zEEapVZ6z97T8ke57PRP+rvCdapMLo/RfIgCgRm6T+6RQ+IslzJPzgz6QdYxsQ/9JNBj+en7j+wxaVpKyvnPwIMwV7Zd+k/brg3StGe6z8WJnH8xwrgP3Z+cHgppeg/AHGIeoAA7D/cbLK1F1TpP/cxBGqVWes/zcaZUql16D8FMcrxbIXLPwFJZeveG88/vNw1KB4W5z8FVY9bk1/sP6Cp0dZ4bOU/kYFGg5aMvz+7AxXVBx/UP17WdcsN5+M/b0RZTzvj5z8LR9dMKdPrP+Dn9NgYS+k/11n48Lz/5D8anlvLGPnoPyGWWCI9YOo//hkOq8E7vj/4EItRjF7FP4qGyKQKYe0//1mihVNb1T//WaKFU1vVPwKK3WiYSOU/PH1e07RUwj9ADyljAWnhPwAAAAAAAAAAAordaJhI5T9wFoEssUDiP380C0ZpyuU/qEzHhFu15D/JUkGwFWzoP7+VNuPNUto/oEkFHfGV2D8B7tFT2njhPwTV0WW8kew//hf5jT3y6T8/ObUO5NLeP7IdLvaNRO4/uwJK+wLh6T/+GADuHefkP3sCZXlZ890/QAYSjW4l6j8Q5gAr+fWaPyIIWFt5p+U/PkwXBeNn2D9J5woYJ37nPz3cYSOWrug/aAkxWMx92j8GOzR9czzmP/N2nv292uQ/tEFo1O/g5j91coFu/LfoP83GmVKpdeg/jRgSOZIe7j8Q5gAr+fWaPwIMwV7Zd+k//SYlChRptz9SH++4oybWPwAAAAAAAAAA4IvLWk9flD9Ad5oH7yXmP8CJCs/Xwuo/Dy5LQg344D+Vb2nzTezWP/9ZooVTW9U/u72WX1dG3D/3MQRqlVnrPw/B9k9VNuo/Q20zK2Wy0z/xJ0eej2jqP5+q2DZZYeA/X4PweEQM0z8C/ON/fizEP7u9ll9XRtw/AAAAAAAAAAA8fV7TtFTCPx9Pi6xI7+8/vCEE4AYe7D+0rE8W1UGtP1wETu6Xiek/DwSnp0uU4D8PwfZPVTbqP/tI39E+j7Q/9CKqqr5zyj9CH2d7hm3jP7uSjFqHHug/sMWlaSsr5z+OAEFrWiTlP228K23Am+U/tsOmZ71swD8DRlrgPJLoPwGgxZG288I/pAOHe7uA6T+zsvBOcOHiPwNGWuA8kug/37ZTPI485T//WaKFU1vVP8rljByxGOE//3iY8DJP6D8EkBNOBUrQPwArduDfHNc//+EQ9QAB6D8twBK9MITlP4OHZNACx+k/lDvOVGmB6j/xJ0eej2jqP2gJMVjMfdo/r/7H5Cso4z/JyifHFwPrPzWpGXDzHOo/LuV3A83e4D+QN7GOkF6LPwNGWuA8kug/g4dk0ALH6T8AABeoAbqgPwAAAAAAAAAAFFfzlkqW3D/q7wnWqTC6PwAAAAAAAAAA6bI72yEG5z+6RQ+IslzJP77UwLDn6Mk/ww1ffnfu0T97T8ke57PBP0R4IVvgC9A/EOYAK/n1mj8C/ON/fizEP1cTgfBCEcE//LdgiyiKxj/7SN/RPo+0P8CJCs/Xwuo/X1vgNEC76z8WGFBFNKKxP+CLy1pPX5Q/AAAAAAAAAACvOVGRZrvWP+rvCdapMLo/gwtKhPaQwz88fV7TtFTCP2Qrm3qNKNI/6u8J1qkwqj8BoMWRtvPCPzx9XtO0VMI/kDexjpBeiz8AAAAAAAAAAKi9T//bteA/uwMV1Qcf1D8WgPDBKCSwPwAAAAAAAAAAnbfjDiti0j/9JiUKFGm3P685UZFmu9Y/u72WX1dG3D8AAAAAAAAAADgz6QdYxsQ/AZ+6emly4D+gSQUd8ZXYP0FJwuRkg+A/RZYQZt8K6D8vgfcZwxvkP//pIGuzT+Q/NSrHZFaY4T/WkOfp2eXhP98H65lwy+Y/Dy5LQg344D8AAAAAAAAAAJA3sY6QXos/sVKdZVC24j/8RtgQqInqP38AY7sD09o/fD4k9hgZ3j9ADyljAWnhP2YkOrKIqNo/BJobgR1N1z8ILD2P44DdP2gJMVjMfdo/ynQEojAY5T/gi8taT1+UP7sDFdUHH9Q//fSKSID+tT+IlqEWuY/tP9wcp5Rs8t8/2b2D+XJ70z/0IqqqvnPKP0NtMytlstM/BTHK8WyFyz9fg/B4RAzTP5VvafNN7NY/AAAAAAAAAAAAAAAAAAAAAH7ic7AE1NI/2b2D+XJ70z+dt+MOK2LSP/y3YIsoitY/mSp9QoMUpz9mJDqyiKjaP4C2Izo+/do/s5spk+vo0z8AAAAAAAAAAMB/xJKODN0/aAkxWMx92j8R4+DfPEvZPy/yf5RDHOA/Qdg5auSC5D8PBKenS5TgP4GipLUupNk/6u8J1qkwqj//eJjwMk/oP4C2Izo+/co/MIDwueIm6T8oAL+os47VPxhxxFUwG7M/AAAAAAAAAADcHKeUbPLfP7FyXM4q8dg/TyMM+xRA3z8B+2XjGEnhPwAAAAAAAAAAbbwrbcCb5T8heeDV+afhP7CXzUahiOE/AAAAAAAAAAAAAAAAAAAAAP9Jgpnuvdw/QHeaB+8l5j/YtNe+kxPmP70yTEYIitQ/gaKktS6k2T8CDMFe2XfZP4B+K3yhHcc/1pDn6dnl4T8AAAAAAAAAAH8AY7sD09o/4Pyx8VAo6D+xclzOKvHYPyIIWFt5p+U/H9lvQPov6T/NNyLNKXbkPwHu0VPaeNE/RZYQZt8K2D+YPavT5I27P6DRspIcvug/4IvLWk9flD/+K5OO777UPyGnuPiDSuc/2PoiDC830D+QN7GOkF6LP6BJBR3xldg/PjfCYrPD2D9DbTMrZbLTP8Vq93lems8/XcYQHog52D/ej2xMtjHiP6i9T//bteA/yreeNvGRzD+9MkxGCIrUPwNT7m97Yug/l7//9wd91z/KdASiMBjlP38AY7sD09o/11n48Lz/5D+QN7GOkF6LP9mK5HF/luM/oEkFHfGV2D8+TBcF42fYPwveyuowl+s/UVAa1ufb1z8AK3bg3xzXP1If77ijJtY/HTC0cmbN3T/8t2CLKIrWP77UwLDn6Mk/6u8J1qkwuj8Bn7p6aXLgP5e///cHfdc/CyF7Qif14T8LIXtCJ/XhP1a76R/yUeM/vCEE4AYe3D8l5KWZEe2jP5JcJUck9cU/Q20zK2Wy0z9fg/B4RAzTP6oD4Mi0zNs/AZ+6emly4D8AAAAAAAAAAMucT6SNYOU/h8j1kXv12z8heeDV+afhP0NtMytlstM/Pzm1DuTS3j8wgPC54ibpPwAAAAAAAAAA2b2D+XJ70z/hsmIITz3RPxHj4N88S9k/aAkxWMx92j8AAAAAAAAAANm9g/lye9M/tQp529L66T+HyPWRe/XbPwNT7m97Yug/AAAAAAAAAAA/SsPDjxPiP3tPyR7ns8E/iC5AGKhH5j+OAEFrWiTlP5A3sY6QXos/4IvLWk9flD98PiT2GBnePyXkpZkR7aM/AYVZTwzH4T+QN7GOkF6LP4dcGDsy6us/dLIS2Vf36T/9gnaskljWPyXkpZkR7aM//LdgiyiKxj+xclzOKvHYPwAAAAAAAAAAAAAAAAAAAADg5/TYGEvpP7sDFdUHH9Q/Ae7RU9p40T8mDmE0UQzMP/4ZDqvBO74/1UceJ+uB5z8qJi0BMEPeP7+VNuPNUto/9x1cnyWd5z+Bcww7cxvOPwAAAAAAAAAASecKGCd+5z+ZKn1CgxSnP9CRXufyquY/AAAAAAAAAAAAAAAAAAAAAGgJMVjMfdo/AAAAAAAAAAAAAAAAAAAAACWaeWk/2+s//LdgiyiK1j8AAAAAAAAAAAAAAAAAAAAAtn4/Y1rl3D/XuLyUCTnpP/9SmW+BAeQ//oBxkguk6T+/38zhzqjkP9S+vwxkiOc//LdgiyiK1j8AAAAAAAAAAFa76R/yUeM/3T7ako2x4z/NxplSqXXoP7/fzOHOqOQ/Aash/OMa6z9jneFtZ8zjP8ucT6SNYOU/MUoIIaY15z8anlvLGPnoP4OHZNACx+k/QA8pYwFp4T+0qiXyss/pP90bG1g1xec/dLcMe3MK4z/99IpIgP61Pw7rmuoWmuo/euR1blr01T8gLOwx3u/oPwAAAAAAAAAAA0Za4DyS6D/JotzEurrqP3neneQggOo/DtWp4byI6D89PgJltpvoP7oPmMMQXek//fSKSID+tT8AAAAAAAAAACXkpZkR7aM/AAAAAAAAAAC83DUoHhbnPzCA8LniJuk/WkR9hEsP7D9mguydX93CP9xJ83q/Z+0/Aash/OMa6z8AAAAAAAAAAH/Siph5MOU/qvjJh1bd6D9dnO2XQbvmP/tI39E+j7Q/AUll694bzz+oTMeEW7XkPwAAAAAAAAAA1pDn6dnl4T/JUkGwFWzoP8p0BKIwGOU/AAAAAAAAAABWu+kf8lHjPyXkpZkR7aM/EOYAK/n1mj/Af8SSjgzdP5A3sY6QXos/xsAji7tU1D/99IpIgP61P5234w4rYtI/WarH/EC37T9ZDhBgNn/oP9+2UzyOPOU/AAAAAAAAAAA+N8Jis8PYPwAAAAAAAAAAIae4+INK5z8r/jpjAE/fP/1Ne3S+gdU/mxOUVD+n3T9B2Dlq5ILkP/N2nv292uQ//dVPlieJ3j/RINZscqrqP5e///cHfdc/vCEE4AYe3D+0rE8W1UGtP2gJMVjMfdo/IcWnA4NJ7z8yz2wBTvbmPwVVj1uTX+w/kDexjpBeiz8dMLRyZs3dP7uSjFqHHug/dXKBbvy36D/K5YwcsRjhPwIMwV7Zd9k/tQp529L66T9oCTFYzH3aPwAAAAAAAAAA1pDn6dnl4T8AAAAAAAAAACXkpZkR7aM/AAAAAAAAAACZKn1CgxSnPwFJZeveG88/e0/JHuez0T/7SN/RPo+0Pz43wmKzw9g/nXcR9+2m5z/g5/TYGEvpP4fI9ZF79ds/1JhRaZOP5D8ckrQssAjtP/y3YIsoitY/+NvvnEnr7T+oep+n5VfqPwAAAAAAAAAAdXKBbvy36D/yjTtfNNbmP0IfZ3uGbeM/fD4k9hgZ3j+8RfpS+T7gP4EppW0H/Nk/MbuQmyY24z8qkN2oXdjpP1Dih4wj8+o/39+VfXf45T8PwfZPVTbqP685UZFmu9Y/MxMZKIlP6j8GOzR9czzmP/gQi1GMXsU/Avzjf34sxD9WeDnI+/PsP1cTgfBCEcE/VxOB8EIRwT8GOzR9czzmP37+iv5SzuQ/Ae7RU9p40T9afO/ZthToPwAAAAAAAAAAu5KMWoce6D8iCFhbeaflP+rvCdapMKo/VxOB8EIRwT8AAAAAAAAAAHtPyR7ns9E/AAAXqAG6oD9+/or+Us7kP7GAdYjaWOg/f9KKmHkw5T8DRlrgPJLoP3hsRKiDCpE/AAAAAAAAAACQN7GOkF6LP5A3sY6QXos/mD2r0+SNuz8Q5gAr+fWaP+rvCdapMLo/eGxEqIMKkT94bESogwqRP3rkdW5a9NU/XtZ1yw3n4z+2w6ZnvWzAP7FSnWVQtuI/eGxEqIMKkT94bESogwqRP5kqfUKDFKc/AaDFkbbzwj8WgPDBKCSwPwAAAAAAAAAAEOYAK/n1mj+9YeYZQwHRP8Vq93lems8/DUiGOBjPuD/MPRWpEzLoPyjlXJP9j+U/AAAAAAAAAADg/LHxUCjoP7SsTxbVQa0/tsOmZ71swD8AAAAAAAAAAEniT/ibT+I/3e1CNasi4j/a23IEcnrbP4fI9ZF79ds/s5spk+vo0z97T8ke57PBP5JcJUck9cU/dXKBbvy36D8UPa98Y2nkP7SsTxbVQa0/3g/7DyMa4z+fZyjfYgPqPw1IhjgYz7g/W4ct3EFt4j9IKDJ0pT7eP26MnmYJ1Og/e0/JHuez0T/gi8taT1+UP/0Umy1vc+I/u72WX1dG3D+QN7GOkF6LPwAAF6gBuqA/2ttyBHJ62z9SH++4oybWP5A3sY6QXos/wWkPxIsz3T+ENtSDtcHVPwAAAAAAAAAAAAAAAAAAAAAAAAAAAAAAAAAAAAAAAAAA6u8J1qkwqj9Y9n0PnxrmPygAv6izjtU/GHHEVTAbsz8AAAAAAAAAAAAAAAAAAAAAQ20zK2Wy0z/+GQ6rwTu+P1+D8HhEDNM//LdgiyiKxj/4EItRjF7FP2cRamUhtO4/3aqS3bTE6z+ZKn1CgxSnPxYYUEU0orE/Avzjf34sxD+0rE8W1UGtPwAAAAAAAAAA9CKqqr5zyj9giE/jcvPUP6BJBR3xldg/AAAAAAAAAABlSYqFjCfaP8q3njbxkcw/AAAAAAAAAACZKn1CgxSnP0zOYuLOu+Q/gSoTJdxJ7D9YSmu7kyfVP9yenXz/Y94/tn4/Y1rl3D8B7tFT2njRP+rvCdapMKo/+fUhxj3Q2T/yavf1hcbgP4Jtw3zSp+I/EePg3zxL2T8Q5gAr+fWaP93tQjWrIuI/FoDwwSgksD+6D5jDEF3pP5A3sY6QXos/AAAAAAAAAAAAAAAAAAAAAJA3sY6QXos/Pq6JAAwM4z8AAAAAAAAAANwcp5Rs8t8/AAAAAAAAAAAAABeoAbqgP4EppW0H/Nk/kDexjpBeiz/NVRHYKHXsPwm2ZCpSm9I/UOKHjCPz6j+9MkxGCIrUP7DFpWkrK+c/kDexjpBeiz//WaKFU1vVPwNGWuA8kug/HmPbKvvV5T8eY9sq+9XlPwAAAAAAAAAAAAAAAAAAAAAQ5gAr+fWaP6ynL4Ogh9A/pT1GHuTmvD/+gHGSC6TpPz5MFwXjZ9g/EOYAK/n1mj/AaZVujBXoPxDmACv59Zo/Gp5byxj56D+DC0qE9pDDP9+2UzyOPOU/FhhQRTSisT9C1NGg9FDbPwm2ZCpSm9I/tO3VSakt4D/+K5OO777UPwAAAAAAAAAAAAAAAAAAAABSH++4oybWPwAAAAAAAAAAewJleVnz3T8AAAAAAAAAAAAAAAAAAAAAAAAAAAAAAADS+kSuT6jBP9m9g/lye9M/AAAAAAAAAAA93GEjlq7oPyvb6/Mf++o/vNw1KB4W5z8AAAAAAAAAAK85UZFmu9Y/AAAAAAAAAABRUBrW59vXP/y3YIsoitY/l7//9wd91z8AAAAAAAAAAJkqfUKDFKc/AAAAAAAAAADGwCOLu1TUP/y3YIsoisY//LdgiyiK1j8AAAAAAAAAAAHu0VPaeNE/pT1GHuTmvD9ujJ5mCdToPwAAAAAAAAAA4IvLWk9flD8C/ON/fizEP9e4vJQJOek/K2IFhtM15D/cbLK1F1TpPwAAAAAAAAAAgXMMO3Mbzj8AAAAAAAAAAOCLy1pPX5Q/6u8J1qkwuj+nztUlFELpP89ugKgS2+o//LdgiyiK1j8AAAAAAAAAAHXLS5QRQMg/tKxPFtVBrT9vRFlPO+PnP/N2nv292uQ/4ADPD0877D8AAAAAAAAAAK4soAe2yug/1ofQE0ei6j8zExkoiU/qP7ObKZPr6NM/nsoyKvwL5T8mDmE0UQzMPwAAAAAAAAAAAAAAAAAAAABRUBrW59vXP7u9ll9XRtw/Wnzv2bYU6D9dxhAeiDnYP6eod8pv+u8//1mihVNb1T/smxElw1/jP2xHL/8EMNk/ZUmKhYwn2j+xclzOKvHYPwAAAAAAAAAAThl3hUDZ5z+dt+MOK2LSP/6nd3Od5ug/AFwKI3MU6j8BSWXr3hvPPwAAAAAAAAAA8ZjPGBBp5j/8RtgQqInqPwArduDfHNc/BZ7ibJ+r3z+uRtPKH9XVPysIKQGb9cw/gH4rfKEdxz+YPavT5I27PwJ9SdlZeOU/AAAAAAAAAAAsz2mTxTrmP5Q7zlRpgeo/eGxEqIMKkT+Xv//3B33XPwAAAAAAAAAATor//8DZ4z/XBjlQRNrjP30sYyHdcOo/RHghW+AL0D81KsdkVpjhP7pFD4iyXMk//fSKSID+tT9SH++4oybWPwAAAAAAAAAA4UN/Z0WZ4j/+F/mNPfLpP524Trptbtw/AZ+6emly4D/Kt5428ZHMPwAAAAAAAAAA3J6dfP9j3j+7vZZfV0bcP5234w4rYtI/RchnwG9Z8D9oCTFYzH3aP+OWTlf7bto/AAAAAAAAAAC9ZLQ3/XviPwAAAAAAAAAADwSnp0uU4D8AAAAAAAAAAMq3njbxkcw/P0rDw48T4j9oCTFYzH3aP/2CdqySWNY/AAAAAAAAAACDC0qE9pDDPz+YYcWoIOc/PH1e07RUwj8AAAAAAAAAAELU0aD0UNs/iQBo9R2l4D8AAAAAAAAAAAAAAAAAAAAAv5U2481S2j8lmnlpP9vrP2CIT+Ny89Q/mUoiwBZG7T8AAAAAAAAAAGMacfE4J9s/PH1e07RUwj8jAhPG+RLrP1wyJhEiLO8/AAAAAAAAAAAFMcrxbIXLP3rkdW5a9NU/AAAXqAG6oD8r2+vzH/vqP8p0BKIwGOU/3GyytRdU6T+ajdIXDaTjP4m9t50nR+o/AAAAAAAAAADUvr8MZIjnP5kqfUKDFKc/NakZcPMc6j8AAAAAAAAAAAGrIfzjGus/HdRjpXvW4T+uLKAHtsroP8L4hevhkeo/AAAXqAG6oD8AAAAAAAAAAGRXs8F3COo/dXKBbvy36D8AAAAAAAAAAFwETu6Xiek/RfIgCgRm6T9+/or+Us7kPwAAAAAAAAAAmSp9QoMUpz8weOBDMNjsP8lSQbAVbOg/HTC0cmbN3T8AAAAAAAAAANQvSIfkiOM/AAAAAAAAAAAk0WhiXMHoPzH9RCTYmOw/AAAAAAAAAAAAAAAAAAAAAP95n1ATRNM/AAAAAAAAAACILkAYqEfmPwIMwV7Zd+k/t/x1qjTR7D8AcYh6gADsPw/B9k9VNuo/X4PweEQM0z81KsdkVpjhP5JcJUck9cU/JxM1tocy6z8+TBcF42fYP4kAaPUdpeA//fSKSID+tT/Uvr8MZIjnPwC0ONJ2XuI/s7LwTnDh4j9EeCFb4AvQP5234w4rYtI//+kga7NP5D+ZKn1CgxSnP0HYOWrkguQ/fSxjId1w6j/q7wnWqTC6P2Od4W1nzOM/p87VJRRC6T8O1anhvIjoPwIMwV7Zd9k/GHHEVTAbsz8QL3yZ5v3iP+vJ6UdNAuk/Q6FKccec5z8AABeoAbqgP1+D8HhEDNM/NOcWDWA66z8oAL+os47VP3w+JPYYGd4/fuJzsATU0j8H+FjsPJzOP83GmVKpdeg/nbhOum1u3D+JaMnzLu3nP5XZIaWuQ+Q/gXMMO3Mbzj8WgPDBKCSwPwDYKF4WzMk/Jg5hNFEMzD9kK5t6jSjSPy3AEr0whOU/AHiRkFJa3T8AABeoAbqgP3tPyR7ns9E/f2ECHvkv6T/GbF1JSVvMP3ESv2us4OM/SCgydKU+3j++wyhTWB7ZPwAAF6gBuqA/9wre/8rY5D+yO9AO90PgPwB4kZBSWt0/seEU68+15j/TPZffRsHlP2t55m0zfuc/ib23nSdH6j+/lTbjzVLaP2gJMVjMfdo/jj9qgdho5j+7vZZfV0bcP8qNuSUSAME/FhhQRTSisT+uLKAHtsroP2MacfE4J9s/brg3StGe6z8yz2wBTvbmP7sDFdUHH9Q/vWHmGUMB0T//SYKZ7r3cP+rvCdapMKo/oXPpPTx74z89r4rfNpzkPw1cO9Wxo9s/EOzLQfCf7D8Q5gAr+fWaP5dhFlApTMM/3e1CNasi4j/Br9l0/BDGP6pqABCVGcU/gSmlbQf82T+AtiM6Pv3aP77DKFNYHtk/fwBjuwPT2j+fqtg2WWHgP3XLS5QRQMg/ufkDr8Ti5D+SXCVHJPXFP7RBaNTv4OY/gXMMO3Mbzj/BaQ/EizPdP2CIT+Ny89Q/A/dHgSyGwD8EkBNOBUrQPwAAAAAAAAAA0GHSNgLt5T+Afit8oR3HP55JOdRjBOI/ZCubeo0o0j8+TBcF42fYP71h5hlDAdE/tsOmZ71swD+ZKn1CgxSnP4GipLUupNk/Pz0BhosL5z/4EItRjF7FP4C2Izo+/co/WLPNt6i87z+Xv//3B33XPwB4kZBSWt0//dVPlieJ3j8UV/OWSpbcP9yenXz/Y94/PjfCYrPD2D8rYgWG0zXkP6BJBR3xldg/nbfjDiti0j+HyPWRe/XbP5E1x7LJIus/FhhQRTSisT/q7wnWqTCqP7whBOAGHuw/rzlRkWa71j8AeJGQUlrdP2Qrm3qNKNI//iuTju++1D9SD7AkKX/mPwHu0VPaeOE/Yxpx8Tgn2z/8t2CLKIrGP/sRJuwc4+o/vsMoU1ge2T8oAL+os47VPw1IhjgYz8g/vTJMRgiK1D//SYKZ7r3cP9CRXufyquY/p87VJRRC6T9mJDqyiKjaP4kAaPUdpeA/AAAXqAG6oD/8t2CLKIrWPwSaG4EdTdc/CCw9j+OA3T9oCTFYzH3aP71ktDf9e+I/ODPpB1jGxD/BaQ/EizPdP6BJBR3xldg/fD4k9hgZ3j/99IpIgP61P8BRIl8NoOY/AaDFkbbzwj+t7HP3GEDnPz+YYcWoIOc/HmPbKvvV5T9/AGO7A9PqP6oD4Mi0zNs/B/hY7Dyczj/cHKeUbPLfP7ljTqLOUes/vTJMRgiK1D+7vZZfV0bcP0goMnSlPt4/xsAji7tU1D+ZKn1CgxSnPwL8439+LMQ/wWkPxIsz3T/9iYhonufgP/2JiGie5+A/aAkxWMx92j9dxhAeiDnYPz85tQ7k0t4/fuJzsATU0j+nztUlFELpP7SsTxbVQa0/mSp9QoMUpz/cnp18/2PeP7pFD4iyXMk/euR1blr01T/Favd5XprPPyDVkBsO7ew/mD2r0+SNuz8uIFi3zb7lPz6uiQAMDOM/CbZkKlKb0j+duE66bW7cP7Z+P2Na5dw/3e1CNasi4j9/AGO7A9PqP64soAe2yug/6u8J1qkwqj8ILD2P44DdP8q3njbxkcw/tKol8rLP6T9SH++4oybWP9m9g/lye9M/Q20zK2Wy0z/q7wnWqTCqP9mK5HF/luM/l7//9wd91z/Af8SSjgzdP/tI39E+j7Q/ukUPiLJcyT/0IqqqvnPKPwFJZeveG88/6u8J1qkwqj+vOVGRZrvWP7SsTxbVQa0//1qp5TNQ4D8WgPDBKCSwP0NtMytlstM/BJobgR1N1z9Hm9pwfJnNP6BJBR3xldg/R5vacHyZzT/8t2CLKIrGPyXkpZkR7aM/WEpru5Mn1T8WGFBFNKKxPz0Z01e0xNA/mD2r0+SNuz+9YeYZQwHRPwBJZeveG98/Ae7RU9p40T97T8ke57PRP/Jq9/WFxuA/rKcvg6CH0D/Favd5XprPPzTCF0Yert4/gLYjOj79yj8CDMFe2XfZP9m9g/lye9M/Pq6JAAwM4z8=",
        "encoding": "base64",
        "path": [
         "_data",
         0,
         "marker",
         "color",
         "value"
        ]
       },
       {
        "data": "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",
        "encoding": "base64",
        "path": [
         "_data",
         0,
         "marker",
         "size",
         "value"
        ]
       },
       {
        "data": "AAAAwMzMMUAAAACgmRkhQAAAAEAzMzJAAAAAYGZmL0AAAAAAAAAuQAAAAKCZmSxAAAAAwMzMLEAAAADAzMwtQAAAAGBmZixAAAAAYGZmLUAAAABAMzMsQAAAAIDrUSJAAAAAgMJ1KEAAAACAPYoqQAAAAGBmZitAAAAAwMzML0AAAABAMzMuQAAAAEAzMyxAAAAAAACAMEAAAABAMzMsQAAAAMDMzCtAAAAAoJmZLkAAAABAMzMoQAAAAEAKFzBAAAAAYGbmLUAAAADAzMwuQAAAACCFayZAAAAAwMzMJ0AAAACgmZkpQAAAAKCZmTFAAAAAoJkZKkAAAAAghWspQAAAAEAzMy5AAAAAQDMzLEAAAABAMzMrQAAAAKCZmSlAAAAAwMzMKkAAAADAHoUwQAAAAMDMzC5AAAAAQDMzLUAAAACgmRkxQAAAAAApXDBAAAAAAAAALkAAAAAAAAApQAAAAMDMzCxAAAAAYGZmLEAAAAAgXA8vQAAAAIA9Ci5AAAAAAAAALUAAAAAgXI8pQAAAAGCPwh9AAAAAoJmZMEAAAABgZmYrQAAAAKCZmSZAAAAAwMzMMUAAAAAA16MoQAAAACBcDyFAAAAAoJmZJUAAAADAHoUmQAAAAGBm5jBAAAAAoEdhJUAAAABgj8IiQAAAAEDh+ihAAAAAwMzMKkAAAAAAAAAqQAAAAEAzMy1AAAAAwPWoI0AAAAAAAIAsQAAAAEAzMyhAAAAAAAAAKEAAAAAAAIAsQAAAAAAAgDBAAAAAwMzMLEAAAAAgrscrQAAAAEAzMyhAAAAAwMzMKkAAAABAMzMnQAAAAGBm5i1AAAAAoJmZKEAAAADAzMwuQAAAAKCZGTJAAAAAoJmZJkAAAADAzMwrQAAAAAAAACxAAAAAQDOzLUAAAACgR2EqQAAAAKCZmS1AAAAAAAAALEAAAADAzMwtQAAAAGBmZi5AAAAAwMzMLkAAAAAgXI8qQAAAAMDMzCdAAAAAoJmZL0AAAAAghWsoQAAAAADXYzFAAAAAgBSuKkAAAABA4foyQAAAAAAAACNAAAAAANcjLUAAAABgZiYzQAAAAEAzMy5AAAAAoEchMkAAAAAAAEA1QAAAAGBmZitAAAAAAABAM0AAAACAPQovQAAAAGBmZjJAAAAAAAAALkAAAADgUTgzQAAAAIDrUSpAAAAAQAqXM0AAAADAzMwzQAAAAEAKVypAAAAAACncLEAAAACAPYotQAAAAMDMzC9AAAAAIK4HMEAAAACA61EsQAAAAOB6FDBAAAAAQDMzLkAAAABgj8IrQAAAAAAAAC9AAAAA4HqUKkAAAACA61EsQAAAAAAAACtAAAAA4HoULkAAAADgepQvQAAAAEAzsyNAAAAAoHC9LUAAAACgR2EsQAAAAMDMzChAAAAAwMzMJ0AAAACgR2EtQAAAAEDh+i5AAAAAQDMzJ0AAAADAzEwrQAAAAAAAACZAAAAAQDOzMEAAAACgmRknQAAAAGC4HiZAAAAAoJkZLUAAAADgo3AtQAAAAMDMzCdAAAAA4FE4LUAAAACgmZkmQAAAAIDCdSxAAAAA4FE4IEAAAABAClcmQAAAAMAeBS1AAAAAQArXD0AAAADAzMwrQAAAAEAK1yZAAAAA4HqULUAAAACA61EpQAAAAAAAAC9AAAAAwMzM7D8AAAAghessQAAAAMAeBShAAAAAYGZmKEAAAABAMzMoQAAAAADXIytAAAAAQOG6MUAAAABguB4tQAAAAMD1qCxAAAAAoJmZM0AAAACgmZksQAAAAOCjcC5AAAAA4KPwJ0AAAABAMzMqQAAAAEAK1y5AAAAAACncJkAAAABgj8ImQAAAAADXoydAAAAAYGZmKEAAAACA65EyQAAAAKCZmSZAAAAAoJmZLEAAAABgZmYtQAAAAAAAAC9AAAAAwMzMLkAAAABAMzMsQAAAAMDMzCRAAAAAoJmZL0AAAAAgXE8wQAAAAEDh+itAAAAAIIXrKEAAAACgmZkxQAAAAEAzMzBAAAAAwPUoKEAAAADAHoUvQAAAAAAAgC5AAAAAYI9CLEAAAACgR2EvQAAAAKBHYSVAAAAA4FE4K0AAAADAHoUqQAAAAIDC9SlAAAAAwB6FKUAAAACA61EtQAAAAIAUbjBAAAAA4KNwLkAAAADgUTgvQAAAACBcjy9AAAAAIIXrMEAAAADgepQqQAAAAADXoylAAAAA4HoUK0AAAABgZmYkQAAAAIA9iihAAAAAIIVrJEAAAABAM7MrQAAAAKBwPTBAAAAAYGYmMUAAAACAPYovQAAAAGBmZiVAAAAAwB6FL0AAAACgR2EtQAAAAAApXC1AAAAAoJkZLkAAAABA4fowQAAAAOCj8CxAAAAAQDMzKEAAAABA4XoxQAAAAEDhei5AAAAAQDMzKEAAAADAHoUaQAAAAAApXCxAAAAAAAAALUAAAAAAAAAuQAAAAOB6lCxAAAAAIK7HLEAAAABAMzMvQAAAAIAULiVAAAAAIFyPLEAAAAAAAAApQAAAAAAAgClAAAAAAAAAJUAAAAAA1yMhQAAAAKCZmRpAAAAAwMzMKEAAAACgcD0bQAAAAGBmZi5AAAAAAAAAKEAAAACgR2EpQAAAAIDCdSZAAAAA4KPwKkAAAACAwnUlQAAAACBcDy1AAAAAIK7HKEAAAAAghWsoQAAAAAAAgC1AAAAAAACALUAAAADAzMwoQAAAAMAeBSdAAAAA4KPwKEAAAADAzMwnQAAAAIA9Ci1AAAAAgOtRKEAAAAAAAIAoQAAAAEDh+ilAAAAAYI9CMUAAAABgZmYpQAAAAMDMTC1AAAAAwMzMJkAAAABAMzMsQAAAAIDCdStAAAAAQDMzKkAAAAAAAIAqQAAAAIAULi5AAAAAwPUoJkAAAADAHoUnQAAAAGBmZilAAAAAoJmZJkAAAAAA1yMkQAAAAMDMzCxAAAAAgBQuK0AAAACgmZknQAAAAKCZmSZAAAAAYI/CLEAAAABAMzMyQAAAAKCZmSxAAAAAwMzMKEAAAABAMzMuQAAAAMDMzC9AAAAA4KPwLkAAAACgmZkwQAAAAIA9SjBAAAAAoJmZKkAAAABgZmYnQAAAAGBmZi1AAAAAQDMzMUAAAACgcD0pQAAAAMD1KClAAAAAANdjMEAAAADAHoUmQAAAAMDMzCVAAAAAANdjMEAAAAAAKdwrQAAAACBcjyxAAAAAQDMzKkAAAACgmZksQAAAAGBmZilAAAAAoJmZKUAAAADA9SgsQAAAAGCPQixAAAAAYGZmK0AAAAAA16MbQAAAAKBHYS1AAAAAQDMzKkAAAABA4fosQAAAAOBReDFAAAAAoHD9MEAAAADAHgUlQAAAAOBROCdAAAAAQDOzK0AAAADAzMwrQAAAAKBwPSJAAAAAQDMzMEAAAACgmZkrQAAAAAAAACpAAAAAwMzMK0AAAACgcD0tQAAAAGBmZixAAAAAgD2KJ0AAAACAFC4sQAAAAKCZmStAAAAAgML1KUAAAACAwvUvQAAAAEAzMy5AAAAAYGZmK0AAAAAAAIAqQAAAAGCPQitAAAAAYLieK0AAAADAzMwTQAAAAAAAACtAAAAAoEchMkAAAABgZmYwQAAAAGCPAjBAAAAAYGZmLUAAAACgmZkwQAAAAAAp3ChAAAAAgOtRLkAAAABAM7MtQAAAAOB6FC5AAAAAgMJ1K0AAAABgZmYrQAAAAGBmZitAAAAA4FG4IkAAAACAPYoqQAAAAIDr0SNAAAAAgOvRI0AAAABAM7MiQAAAAOCj8CxAAAAAANcjKEAAAAAA1yMoQAAAAEDh+ixAAAAAoJkZJ0AAAABAMzMwQAAAAGBmZixAAAAAoJmZK0AAAACgmZktQAAAAEAzMypAAAAAwMzMK0AAAAAAAAAqQAAAAGBmZipAAAAAIFwPLUAAAADAzEwnQAAAAOB6lClAAAAAAAAALEAAAABgj8IpQAAAAEAzMy1AAAAAYGbmKEAAAACAwvUvQAAAAAAAACpAAAAAgD2KKEAAAACAFK4pQAAAAIA9CjFAAAAAoJmZLEAAAACgmZknQAAAAOCj8CpAAAAAoHC9LEAAAADgepQpQAAAAEAzMylAAAAAwPUoKkAAAAAAAIAiQAAAAGBmZiZAAAAAgOvRKkAAAADgUbgrQAAAAIDr0SxAAAAAoJmZK0AAAABA4forQAAAACBcDyhAAAAAoJmZK0AAAABAMzMrQAAAAOBROC9AAAAAAAAAJ0AAAACAFC4oQAAAAMDMzCpAAAAAAACAKUAAAACAPQotQAAAAKCZmSxAAAAAYLgeKkAAAABACtcmQAAAAKCZGS5AAAAAYI/CKUAAAAAgXI8rQAAAAKCZmSFAAAAAwMxMKEAAAAAgXA8uQAAAAKBHYSZAAAAAAClcLUAAAABgj8IkQAAAAMDMTC1AAAAA4HqUK0AAAADgepQrQAAAAIA9Ci9AAAAAANcjK0AAAAAAAAAlQAAAAMD1KC9AAAAAQDMzKkAAAABgZuYrQAAAAAApXCZAAAAAwMxMJkAAAABAMzMlQAAAAKCZWTFAAAAAYGZmJ0AAAACgmRkkQAAAAGC4niVAAAAAgOvRJUAAAACAPYotQAAAAAAp3CxAAAAAoJkZK0AAAACA69ElQAAAAIDr0SVAAAAAoJmZJkAAAADgozAwQAAAAKBwPSZAAAAAIK5HJ0AAAACgcL0nQAAAAGCPQihAAAAAwPUoLUAAAABAMzMrQAAAAMDMzCdAAAAAgBRuMUAAAABguJ4mQAAAAAAAACtAAAAAgMJ1JUAAAAAAAIAmQAAAAGBmZilAAAAAwMzMJkAAAABgZmYqQAAAAGBmZiZAAAAAgOtRFUAAAADgUXgyQAAAAMD16DFAAAAAgOvRLkAAAAAAKZwyQAAAAKCZmShAAAAA4HqUKEAAAACgmRknQAAAACCF6yhAAAAAIFwPK0AAAABAMzMuQAAAAIAULi9AAAAAAClcHkAAAADgepQqQAAAAGCPQixAAAAAIK7HLUAAAAAgheskQAAAAGBmZiRAAAAAgOvRKEAAAADAzMwtQAAAAAAAAClAAAAAIFyPKEAAAAAAKdwrQAAAAGBmZjJAAAAAYLgeG0AAAABAMzMsQAAAAKCZmSZAAAAAQDMzKkAAAADA9SgpQAAAAOBROCxAAAAAoJkZLkAAAABAMzMuQAAAAIA9iitAAAAAYGZmK0AAAAAgheslQAAAAAAAACVAAAAAYGZmKUAAAAAgXI8kQAAAAAAAACpAAAAAoJmZKEAAAADAzMwlQAAAAOCjcC5AAAAAACncM0AAAABAMzMyQAAAACCuxytAAAAAACncJEAAAACgR+ErQAAAAEAzMydAAAAAAClcLUAAAABAMzMuQAAAAGBmZiZAAAAAoJkZMUAAAADAzEwxQAAAAIDrUTFAAAAAgD0KI0AAAACgR2EvQAAAAMDMzC1AAAAAIFyPLkAAAACAPQovQAAAAMD1qCRAAAAAoJmZMEAAAACgmRkjQAAAAAAAgDJAAAAAoJmZL0AAAADAzMwuQAAAAKCZmS1AAAAAgD0KKEAAAACA61EuQAAAAIAULi1AAAAAQDMzLUAAAACgmZkvQAAAAOCj8CZAAAAAAAAALEAAAABAMzMxQAAAAAAAQDFAAAAAwMzMJ0AAAABgZmYpQAAAAEAzMytAAAAAAAAALkAAAACgR2EnQAAAAGC4Hi5AAAAAQDMzK0AAAABAMzMvQAAAAMDMzChAAAAA4KPwJUAAAAAA16MtQAAAAEAzMydAAAAAgOtRHkAAAADgepQtQAAAAIAUrihAAAAAYLheMEAAAACgmZkpQAAAACCuxyVAAAAAoJmZJUAAAADAzMwvQAAAAGBmZi5AAAAAoJmZLkAAAAAAAAAtQAAAAOBRuCNAAAAAwPWoI0AAAADAzMwsQAAAAMDMzCVAAAAAwB4FMkAAAAAAAAAsQAAAACCuRy1AAAAAgBQuL0AAAAAA16MrQAAAAEAKVyxAAAAAwMzMKEAAAADAHoUuQAAAAGBmZi1AAAAAAAAAKEAAAABgZmYrQAAAAGBmZi9AAAAAYGZmJkAAAAAA12MwQAAAAEAzMyxAAAAAoJmZKEAAAACAwnUtQAAAAOCj8C1AAAAAwPWoLkAAAACgmZkkQAAAAIDCdStAAAAAYGZmKEAAAADAzMwqQAAAAGBmZiVAAAAAYGZmLEAAAACAFO4xQAAAAEDhei1AAAAAACmcMEAAAADgehQnQAAAAOB6FC5AAAAA4FG4K0AAAADAHoUsQAAAAOCjcCtAAAAAwMzMLkAAAADAzMwuQAAAAAAAAC5AAAAAACncK0AAAABAMzMkQAAAAGBmZi9AAAAAwMzMJUAAAAAAAAAuQAAAAEAzMyRAAAAAoHA9LUAAAADgo/ArQAAAAIAULiRAAAAAYGbmL0AAAADAzMwnQAAAAAAAACxAAAAA4KNwLkAAAABA4XotQAAAACCFay1AAAAA4KPwLUAAAAAAAAAIQAAAAKBHYS5AAAAAAAAAJkAAAADAzMwuQAAAAGBmZjBAAAAA4KPwIUAAAABAMzM0QAAAAMD1qC5AAAAA4FG4KkAAAACAPYouQAAAAOCjMDBAAAAAYGZmJ0AAAADAzEwvQAAAAAAAACxAAAAAgOtRLEAAAACAPQoYQAAAAOB6FCNAAAAAwB4FMEAAAACAwvUvQAAAAOBRuCpAAAAAQOH6MEAAAADAzMwvQAAAAMDMzCtAAAAAYLgeMEAAAAAAAEAwQAAAAIDr0TFAAAAAYGZmMUAAAADAzMwqQAAAAOCj8CJAAAAAoJmZKUAAAABAMzMwQAAAAEAzMydAAAAAYGZmJkAAAAAgrkcVQAAAAGC4Hi9AAAAAYGZmLkAAAABgZiYxQAAAAAAAAChAAAAAAAAALkAAAABguJ4tQAAAAKBH4StAAAAAYGZmK0AAAADgUbgyQAAAAAAAACpAAAAAYLgeNUAAAADgo/AuQAAAAGBmZihAAAAAgD2KLEAAAACAPUoxQAAAAAAAgCBAAAAAQOH6J0AAAAAA16MlQAAAAMD1KBhAAAAA4KNwKkAAAABgj0IuQAAAAEAK1yZAAAAAYI9CMEAAAABAMzMuQAAAAIDr0S1AAAAAQDMzK0AAAAAAKRwyQAAAAEAzMy9AAAAAgD2KL0AAAACA61EwQAAAAIAULi5AAAAAIK7HK0AAAABgj0IxQAAAAGBm5jJAAAAAwMzMJEAAAABA4XoqQAAAAEAzczFAAAAAYGYmMUAAAAAghasxQAAAAOCjcC5AAAAAoHC9KkAAAABAM7MmQAAAAKBHoTdAAAAAQDMzLUAAAADgUTgnQAAAACBcjy9AAAAAIIXrJUAAAADgUTgvQAAAAKBH4S5AAAAAYGZmMUAAAABgZmYnQAAAAMDMzCZAAAAAAAAAMUAAAACgmZknQAAAAIDr0S5AAAAA4FG4HUAAAADA9agvQAAAAMD1KCxAAAAAgML1I0AAAADgepQoQAAAAMDMzClAAAAAgD2KLUAAAACAwnUwQAAAAADXIylAAAAAwMzMJUAAAABAMzMlQAAAAOBRuCxAAAAAYGZmLEAAAACgmZktQAAAAGC4HhxAAAAAgBQuLEAAAADAzMwnQAAAAGBmZiVAAAAAYLgeK0AAAADAzMwyQAAAAGBm5jRAAAAAYGZmJUAAAAAgXA8tQAAAAMDMzCxAAAAAYGZmKkAAAAAgrscqQAAAAMDMzCVAAAAA4HoUIkAAAAAgXA8qQAAAAKBH4S5AAAAAAAAAKUAAAABAMzMsQAAAAAAAAClAAAAAwMxMMEAAAABgj0IpQAAAAIA9CixAAAAAAAAAL0AAAABgZmYoQAAAAKCZWTFAAAAAQDMzJ0AAAADAzMwsQAAAAGBmZixAAAAAQDMzLUAAAAAAAAAuQAAAAOBRuCpAAAAAYI9CLkAAAADAzMwrQAAAAAAAADFAAAAAoEfhKkAAAABgZmYvQAAAAEAzMy1AAAAAYGZmLkAAAACgmZkuQAAAAAAAAC1AAAAAoJmZLEAAAAAA16MmQAAAAGBmZi1AAAAAQDMzKUAAAACgmRkwQAAAAADXIzBAAAAAoJmZLEAAAABgZmYnQAAAAKCZmS1AAAAAQDOzMUAAAACgmZkuQAAAAKCZmS9AAAAAwMzML0AAAAAghesjQAAAAGBmZitAAAAAYLgeK0AAAACgmZkqQAAAAKCZGTBAAAAAQDMzMkAAAABgZmYxQAAAAMDMTDFAAAAAoJmZLkAAAADAzMwuQAAAAKCZmSVAAAAAwMzML0AAAADAzMwqQAAAAEAzszBAAAAAoJmZLkAAAABAMzMsQAAAAKCZGTFAAAAAYGZmLkAAAABgZmYvQAAAAKCZmTBAAAAAYGZmKEAAAACgcL0sQAAAAMDMTDBAAAAAYGZmLkAAAABgZmYpQAAAAEAzszBAAAAAoJmZKEAAAADAzMwsQAAAAEAzMy9AAAAAoJmZLUAAAADAzEwzQAAAAKCZGTBAAAAAgBQuIUAAAABgZmYrQAAAAKCZmTBAAAAAYGZmLkAAAAAAAAAnQAAAAKCZmStAAAAAAADAMEAAAABgZmYqQAAAAGBmZipAAAAAAAAALEAAAADgUbglQAAAAGBmZitAAAAAwMzMK0AAAACgmZkoQAAAAMDMzCtAAAAAgBQuKEAAAABAMzMqQAAAAMDMzClAAAAAoJmZKkAAAADAzMwqQAAAAGBmZipAAAAAoEfhLEAAAADAzMwuQAAAAMDMzClAAAAAoJmZKUAAAAAA1yMrQAAAAKCZmShAAAAAwMzMKUAAAAAAAIAwQAAAAAAAACZAAAAA4KPwLEAAAAAA1yMmQAAAAMAehSNAAAAAAAAALEAAAABgZmYwQAAAAEAzMypAAAAAAAAAMUAAAADAzMwrQAAAAMDMzClAAAAAIIXrLUAAAACgmZkzQAAAAEAzMy9AAAAAYGZmKkAAAABA4TowQAAAAKCZmS1AAAAAQDMzKUAAAADAHoUsQAAAAMDMzClAAAAAYGZmLkAAAABAMzMlQAAAAGBmZiZAAAAAYGZmMEAAAABgZmYsQAAAAOB6FC9AAAAA4KMwMEAAAABAMzMuQAAAAKCZmSxAAAAAYGZmJ0AAAACgmZkoQAAAAKCZmSZAAAAAQDMzJ0AAAAAAAAAsQAAAAGBmZitAAAAAoJmZMEAAAABgZmYrQAAAAEAzMyZAAAAAwMzMLUAAAABgZmYvQAAAAKCZmS1AAAAAoJkZKUAAAAAAAAApQAAAACCFayxAAAAAAAAALEAAAABAMzMpQAAAAMDMzCZAAAAAAAAAKEAAAADAzMwrQAAAAAAAAClAAAAA4KPwIkAAAAAAAAAvQAAAAAAAADFAAAAAAAAAKUAAAADgUTgqQAAAAEAzMy5AAAAAAAAAKkAAAABAMzMmQAAAAMDMzCxAAAAAYGZmKUAAAABgZmYrQAAAACCuRy9AAAAAYGZmKkAAAABgZmYoQAAAAAAAACZAAAAA4KNwHkAAAABgZmYvQAAAAAAAACtAAAAAoJmZK0AAAABA4fosQAAAAGBmZiZAAAAAgD2KIUAAAABAMzMrQAAAAAAp3ChAAAAA4FG4LEAAAADA9SgrQAAAAKBH4ShAAAAAoJmZKkAAAADgo/AmQAAAAIDCtTBAAAAAYGZmIkAAAAAAKdwvQAAAAGBm5jFAAAAAQDOzMkAAAABAM7MmQAAAACBcjypAAAAAoEdhK0AAAAAghestQAAAAKCZmS1AAAAAAAAAK0AAAADgo/AvQAAAAEAzsylAAAAAoJmZLEAAAABgZmYpQAAAACCF6ytAAAAAQDPzMEAAAAAAKVwpQAAAAAAAACpAAAAAIIXrKEAAAACgmZknQAAAAGBmZipAAAAAQDMzL0AAAAAAAAAtQAAAAIDrETFAAAAAQOH6KkAAAABgZmYbQAAAAEAK1xdAAAAAYGbmLUAAAADAzMwnQAAAAAAAACpAAAAAAAAALUAAAACgmZkrQAAAACCuRy9AAAAAQOH6I0AAAABgZiYyQAAAAMD1KCZAAAAAgMJ1LEAAAABAMzMqQAAAAKCZmRhAAAAAwPUoL0AAAABgZmYkQAAAAGBmZidAAAAAYLieKUAAAABAMzMpQAAAAEAzczBAAAAAQOF6LUAAAABgZmYqQAAAAOBRuC5AAAAAYGZmLEAAAACgR+ERQAAAAEAzMyZAAAAAQOH6LEAAAACAFK4jQAAAAIA9ii1AAAAAAAAAK0AAAADgUTgsQAAAAGC4nipAAAAAYGbmMUAAAABAMzMvQAAAAMDMzCxAAAAAgML1LkAAAADAzMwwQAAAAKCZmSxAAAAAYGZmLEAAAADgehQnQAAAAAAp3CdAAAAAwPUoLkAAAADgepQqQAAAAGC4Hi5AAAAAYGZmLUAAAABgZmYrQAAAAGBmZipAAAAAQArXLEAAAABgZmYtQAAAAEAzMytAAAAAIIWrMEAAAAAAKVwtQAAAAAApXDFAAAAAAACAMEAAAABAMzMuQAAAAAAAACpAAAAAAAAAJUAAAABgjwIxQAAAAGBmZipAAAAAoJmZK0AAAABgZmYsQAAAACCuxyRAAAAAwMzMKEAAAABAMzMyQAAAAEAzMy5AAAAAIIVrLEAAAABgZmYrQAAAAEAKVytAAAAAgBSuLUAAAACgmRkhQAAAAEDhei9AAAAAYGZmKkAAAADAzMwqQAAAAKCZmSJAAAAAoJmZLkAAAADAzMwnQAAAAAAAACtAAAAAwMzMLkAAAABAMzMuQAAAAIDr0S1AAAAAoEfhI0AAAABAMzMyQAAAAEAzsy1AAAAA4KPwJ0AAAACgmZkuQAAAAAAAACxAAAAAANcjKkAAAACgmZkuQAAAAGCPwi5AAAAAAAAAKUAAAADAzMwsQAAAAAAAgC1AAAAAQDMzLkAAAACgmZkoQAAAAKBHYSxAAAAAAAAAMkAAAABgZmYrQAAAAKCZGTFAAAAAwMzML0AAAACAwnUwQAAAAKCZmSxAAAAAwMzMMkAAAABgZmYtQAAAAKCZGTJAAAAAQDMzLkAAAAAAAAAsQAAAAIDr0ShAAAAAoJmZKEAAAADgehQsQAAAAKCZmS1AAAAAoJmZK0AAAABAM7MrQAAAAOB6FCZAAAAAwB6FK0AAAACAFC4oQAAAAMD1qC5AAAAAwMzMJEAAAABgZmYtQAAAAEAzMypAAAAAIIXrLEAAAABgZmYtQAAAAOB6FBZAAAAAAAAAMUAAAACAFC4vQAAAACBcjytAAAAAQDMzKEAAAABAM7MxQAAAAGC4nilAAAAA4KNwLkAAAABAMzMuQAAAAGBmZipAAAAAgOvRLkAAAABAMzMlQAAAAOCj8CpAAAAA4KPwKkAAAAAAAAAtQAAAAAAAAC9AAAAAQDMzMEAAAABgZmYqQAAAAMDMzC1AAAAAQDMzJUAAAADAzMwuQAAAAAAAACdAAAAAwMzMLEAAAACgmZkqQAAAAMDMzChAAAAAQDMzJ0AAAABgZmYlQAAAAEAzMyxAAAAA4HoULUAAAABAMzMoQAAAAAAAAC1AAAAAoJkZMEAAAADA9SguQAAAAOBROCVAAAAAwMzMK0AAAADAzEwxQAAAAMDMTDBAAAAAQDMzLEAAAACgmZklQAAAAEAzMytAAAAAYGZmLEAAAACgR2EoQAAAAEAzMydAAAAAYGZmLEAAAADAzMwrQAAAAIA9iipAAAAAYGZmK0AAAABAMzMtQAAAACBcjxdAAAAAoJmZK0AAAADAHgUmQAAAAMAeBTBAAAAAYGZmLEAAAAAAAAAuQAAAAAAAAC5AAAAAAACAIEAAAAAAAAAoQAAAAEDhei1AAAAAgD1KMEAAAABAMzMqQAAAAGBmZilAAAAAAAAAKkAAAAAAAAAsQAAAAGBmZi1AAAAAQDMzL0AAAADAzMwmQAAAAKCZmSZAAAAAQDMzMUAAAACgmZkrQAAAAEAK1y5AAAAAAAAALEAAAABgZmYpQAAAAGBmZiFAAAAAoJkZM0AAAACgmZkpQAAAAGBmZipAAAAAoJmZM0AAAABAM7MxQAAAAMDMzChAAAAAQDMzMkAAAAAAAAAlQAAAAGBmZiZAAAAAwMzMJUAAAABgZmYlQAAAAMDMTDFAAAAAgBSuK0AAAACgmZkrQAAAAEDhehtAAAAAIFyPLkAAAADAzMwrQAAAAGBmZi1AAAAAAAAANUAAAADgo7AyQAAAAADXoydAAAAAQDMzLEAAAAAgrkctQAAAAEAzMyxAAAAAYGbmMEAAAAAAAAArQAAAAAAAADJAAAAAQDMzMEAAAAAAAAAmQAAAAMDMzCdAAAAAYGZmKUAAAABAMzMnQAAAAEAzszBAAAAAwMzMJEAAAAAAAAAoQAAAAMDMzChAAAAAYGZmKUAAAABAMzMsQAAAAKCZmSlAAAAAAAAAK0AAAADAzMwtQAAAAAAAAC1AAAAAoJmZJkAAAAAAAAAmQAAAAEAzMyZAAAAAAAAAJUAAAABAMzMqQAAAAKCZmSpAAAAAYGZmL0AAAABAMzMrQAAAAEAzMylAAAAAYGbmMEAAAABgZuYwQAAAAKCZmS1AAAAAQDOzMUAAAABAMzMrQAAAAEAzMzBAAAAAQDMzK0AAAABgZmYnQAAAAEAzMyhAAAAAwMzMMEAAAACgmZkpQAAAAMDMzDBAAAAAQDMzLUAAAABAMzMnQAAAAAAAACpAAAAAAACAMUAAAACgmZkqQAAAAGBmZipAAAAAYGZmK0AAAABgZmYqQAAAAMDMzCxAAAAAoJmZJUAAAABgZuYxQAAAAMDMzDBAAAAAgD0KGUAAAACgmZktQAAAAKCZGTRAAAAAwMzMJkAAAABgZmYtQAAAAGBm5jJAAAAAYGZmJUAAAACgmZkjQAAAAIDrUSBAAAAAQDMzJ0AAAABAMzMvQAAAAAAAAC5AAAAAQOH6IEAAAADAzMwmQAAAACCuxy1AAAAAoJmZKEAAAABAMzMoQAAAAAAAAC5AAAAAwMzMLUAAAABAM7MyQAAAAEAzMy5AAAAAwMzMLUAAAABgZmYtQAAAAKCZmSZAAAAAYGZmL0AAAABgZmYuQAAAAGBmZi5AAAAAoHA9MEAAAAAAAAAtQAAAAEAzMzVAAAAAwMxMMUAAAACgmZktQAAAAGCPwhlAAAAAoJmZKkAAAADAzMwsQAAAAGBmZipAAAAAoJkZMEAAAAAAAAAtQAAAAEAzMy5AAAAAoJmZJkAAAACgmZktQAAAAGBmZhhAAAAAYGZmLUAAAADAzMwsQAAAAKCZmSxAAAAAoJmZJkAAAADAzMwsQAAAAEAzMylAAAAAQDMzFUAAAAAAAAAuQAAAAEAzszBAAAAAAAAAK0AAAADAzEwwQAAAAEAzMy5AAAAAQDMzJ0AAAACgmZksQAAAAKCZmRdAAAAAYGZmLEAAAADAzMwmQAAAAGBmZiZAAAAAQDMzMEAAAACgmZkzQAAAAGBmZidAAAAAYLieIkAAAAAAAAAuQAAAAGBmZitAAAAAoJmZKUAAAABAMzMlQAAAAEAzsyBAAAAAAAAALEAAAACgmZkpQAAAAEAK1xdAAAAAQDMzFkAAAACgmZkqQAAAAKCZmS9AAAAAAAAALEAAAADAzMwpQAAAAMDMzCxAAAAAACncIkAAAACgmZkvQAAAAMDMTDBAAAAAYGZmE0AAAABAMzMtQAAAAEAzMy5AAAAAQDMzLEAAAADAzMwsQAAAAAAAAC5AAAAAAAAALkAAAACgmZknQAAAAEAzMzBAAAAAwMzMLEAAAAAAAAAyQAAAAEAzMy1AAAAAYGZmLkAAAABAMzMoQAAAAEAzMy5AAAAAQDMzLkAAAAAAAAApQAAAAMDMzBdAAAAAwMzMLEAAAACA69EuQAAAAGBm5jFAAAAAAAAALEAAAADAzMwtQAAAAMDMzCxAAAAAwMzMKkAAAAAAAAApQAAAAMDMzCxAAAAAwMzMLUAAAACgmZkpQAAAAMDMzCxAAAAAAAAAJ0AAAADgUbgtQAAAAAAAACxAAAAAQDMzK0AAAAAAAAAqQAAAAKCZmShAAAAAwMzMLEAAAABAMzMrQAAAAEDh+ihAAAAAoJmZK0AAAADAzMwnQAAAAEAzMy5AAAAAoJmZNEAAAABgZmYsQAAAAKCZmSlAAAAAIK5HJ0AAAABAMzMtQAAAAEAzMyxAAAAAwB6FI0AAAAAAAAArQAAAACCFay9AAAAAACkcMEAAAAAAAAAsQAAAAKBwPS5AAAAAAAAAKUAAAAAAAAArQAAAAGBmZjFAAAAAYGZmLEAAAACgmZkoQAAAAMAehSxAAAAAQDMzLEAAAAAAAAArQAAAAKCZmStAAAAAAClcL0AAAADAzEwwQAAAAAAAAChAAAAAoJmZJkAAAADA9agsQAAAAMDMzCxAAAAAYGZmLEAAAADAzMwsQAAAAMD1qCpAAAAAIK7HLkAAAACgcD0hQAAAAGBmZidAAAAAQDMzKkAAAABgZmYwQAAAAKCZmSpAAAAAAAAAK0AAAACgmZksQAAAAAAAACdAAAAAQDMzJkAAAADAzMwsQAAAAADXIy9AAAAAANcjL0AAAACgmZklQAAAAMDMzCxAAAAA4KPwIkAAAACgmZksQAAAAGBmZixAAAAAoJmZIEAAAACgmZksQAAAAEAK1ypAAAAAoJmZKkAAAAAAAAArQAAAAKCZmSVAAAAAQDMzLUAAAABgZmYsQAAAAAAAAC1AAAAAAAAAMEAAAABAMzMpQAAAAAAAAC1AAAAAYGbmLEAAAACgmZkoQAAAAMDMzCtAAAAAQDMzLEAAAADAzMwsQAAAAAAAgDBAAAAAoJmZK0AAAAAAKdwsQAAAAMDMzCxAAAAAAAAAK0AAAAAAAAAuQAAAAOB6FCZAAAAAwMzMJUAAAADAzMwsQAAAAMDMzC5AAAAAQDMzLUAAAABAMzMpQAAAAEAzMy9AAAAAoJmZLkAAAADgelQwQAAAAAAAACxAAAAAQDMzL0AAAABgZmYsQAAAAMDMzC5AAAAAAAAALkAAAAAgrkcuQAAAAMDMzClAAAAAAAAALUAAAAAAAAAyQAAAAEAzMylAAAAAYLgeMEAAAABACtcmQAAAAEAzMylAAAAAYGZmLEAAAADAzMwqQAAAAAAAACZAAAAAgD0KK0AAAADAzMwqQAAAAGBmZi9AAAAAoJmZLUAAAABAMzMuQAAAAAApXCxAAAAA4FE4LUAAAABAClcrQAAAAAAAACtAAAAAAAAAL0AAAAAAAIAxQAAAAIDrUSdAAAAAYGZmKkAAAAAA16MwQAAAAGBmZi1AAAAAAACAMkAAAABgZmYpQAAAAMDMzCpAAAAAwMzMLkAAAACgmZksQAAAAMDMzCtAAAAAYGZmK0AAAACgmRksQAAAAAAAACtAAAAAwMzMK0AAAABA4forQAAAAAApXCtAAAAAIFwPJ0AAAABAM7MtQAAAAGBmZi1AAAAA4FE4L0AAAACAFK4tQAAAAEAzMylAAAAAQDMzLUAAAAAAAAAtQAAAAMDMzC9AAAAAYGZmK0AAAAAgrkcuQAAAAKBwPS9AAAAAAAAALkAAAADgo3ArQAAAAMAehS9AAAAA4KNwFEAAAABA4XouQAAAAGCPQi9AAAAAIFyPLUAAAABA4XosQAAAAAAAgChAAAAAwMzML0AAAADAHgUtQAAAAEAzsy9AAAAAwMzMLUAAAACAFC4tQAAAAAAAADFAAAAAIIXrKUAAAADA9WgyQAAAAEAzMyxAAAAAoJmZK0AAAABAMzMtQAAAAKBwPS9AAAAAgML1MEAAAACgR+EjQAAAAEAKlzFAAAAAoJkZMEAAAAAgrkctQAAAAIAUbjNAAAAAwMzMKkAAAABAClchQAAAAGBm5jBAAAAAYGZmK0AAAADAzEwzQAAAAMDMzCdAAAAAgBSuK0AAAACgmZksQAAAAIDC9SxAAAAAoEehMUAAAABgZmYsQAAAAAAAACxAAAAAAACAMUAAAADAzMwrQAAAAADXoydAAAAAYI/CIkAAAAAAAAAvQAAAAKCZmSxAAAAA4HoULkAAAABgZmYoQAAAAMDMzClAAAAAwMzMK0AAAACgmZkqQAAAAGBmZi1AAAAAYGZmLEAAAAAA12MwQAAAAAApHDFAAAAAQDOzL0AAAAAAAIAwQAAAAGCPgjBAAAAAoEchMkAAAABAMzMqQAAAAEAzMy5AAAAAwMzMLEAAAABguB4YQAAAAEAzMyNAAAAAwMzMLkAAAACA61EvQAAAAKBwPTBAAAAAwMzMK0AAAABgj0IsQAAAAGBmZi1AAAAAgMJ1KEAAAACgmZktQAAAAMDMzChAAAAAQDMzLEAAAACgR2EuQAAAAGBmZilAAAAAYGbmLUAAAACgRyEzQAAAACBcjx5AAAAAoJmZLUAAAADAzMwkQAAAAADXoy9AAAAAYI9CJUAAAAAAAAAmQAAAAGBmZi5AAAAAoJkZK0AAAABAMzMrQAAAAGCPwitAAAAAQDMzLEAAAAAAAAApQAAAAEAzczBAAAAAwMzMLkAAAABgZmYrQAAAAKCZmS1AAAAAYLgeKEAAAACA61EjQAAAAIA9iixAAAAAAAAAKkAAAACgmRkqQAAAAIDrUSdAAAAAwMzMKEAAAADAzMwuQAAAAKCZmStAAAAAoEdhJEAAAABACtcrQAAAAEDh+i1AAAAAwPWoKkAAAADA9agqQAAAAMD1KCdAAAAAYGZmFUAAAADAzMwvQAAAACBcjy9AAAAAQOH6JkAAAABgZmYtQAAAAKBwPSpAAAAAYGZmMkAAAAAAAAAvQAAAAIDrURBAAAAAAAAAKkAAAAAgXI8vQAAAAAAAAClAAAAA4KPwJ0AAAABAMzMwQAAAAEAzMytAAAAAYGZmJkAAAACgmZknQAAAAGC4nilAAAAAACncJUAAAADAzMwkQAAAAGBmZiRAAAAA4FE4LUAAAACAPYouQAAAAKCZmS1AAAAAwMzMKkAAAADAHoUsQAAAAGBmZixAAAAAIK7HLkAAAAAgrkcjQAAAAGBmZitAAAAAYI9CL0AAAAAgrscoQAAAAGBmZjFAAAAAoJmZKkAAAADAzMwpQAAAAMD1KC5AAAAAoJmZLkAAAABAMzMvQAAAAGBmZipAAAAAwMzMLkAAAAAAAAArQAAAAEAzMy1AAAAAoJmZKUAAAAAAAAArQAAAAADXIy5AAAAAwMzMKEAAAAAAAAArQAAAAMDMzCxAAAAAoJmZLkAAAABAMzMnQAAAAAAAAC9AAAAAYGZmKkAAAACgmZksQAAAAEAzMy9AAAAAQDMzLUAAAADAzEwtQAAAAMD1KCdAAAAAwMzMKkAAAABgZmYrQAAAAKBwPRdAAAAAwMzMJ0AAAADAzMwtQAAAAKCZmS1AAAAAAAAALEAAAADAzMwqQAAAACBcjy1AAAAAQApXLUAAAACAwnUtQAAAAKCZmShAAAAAoJmZK0AAAACAPYoiQAAAACBcjyNAAAAAQDMzK0AAAADAzEwxQAAAAGBmZitAAAAAQDPzM0AAAAAAAAAcQAAAAAAAAC5AAAAAYGZmLkAAAABAMzMrQAAAAMDMzC5AAAAAoJmZJkAAAADAzEw0QAAAACCuRy5AAAAAQDMzK0AAAABAMzMrQAAAAKCZmStAAAAA4FE4LEAAAADAzMwtQAAAAEAzMy9AAAAAAAAALEAAAABAMzMrQAAAAGBmZitAAAAAgD0KK0AAAABgZmYmQAAAAMDMzCZAAAAAwMzMLkAAAADAzMwrQAAAAMDMzCZAAAAAAAAALUAAAABAMzMvQAAAAKCZmSdAAAAAYI9CKUAAAAAAAAAwQAAAAEAzMyxAAAAAgD0KLUAAAADAzMw1QAAAAMDMzCpAAAAAwMzMKkAAAADAzMwqQAAAACCFaytAAAAAAAAAMkAAAABgZmYnQAAAAEAzMy5AAAAA4KPwK0AAAADAHoUsQAAAAMDMzClAAAAAwB6FJkAAAADAzMwpQAAAAKCZmSpAAAAAwPWoLEAAAABgZmYtQAAAAGBmZi1AAAAAQArXK0AAAADAzEwwQAAAAKCZmSRAAAAAYLgeJ0AAAABguB4nQAAAACBcDyJAAAAAwMzML0AAAAAghesuQAAAAMDMzC1AAAAAoJmZK0AAAAAAAAAsQAAAAIA9iitAAAAAYI9CLkAAAABgj8ItQAAAAGBmJjFAAAAAYGYmMUAAAAAAAAAlQAAAAGC4Hi5AAAAAAAAAL0AAAADAzMwoQAAAAGBmZjBAAAAAYLgeKEAAAACgR+EbQAAAAADXoyBAAAAAoJmZLEAAAAAAAAAtQAAAAADXIyxAAAAAQOF6JUAAAACgmZk2QAAAAKCZmSZAAAAAQDMzK0AAAABAMzMvQAAAAMDMzCpAAAAAYGZmKUAAAAAgXI8qQAAAAAAAAClAAAAAAAAALUAAAACAPQotQAAAAIDC9S5AAAAAAAAAL0AAAADAHoUuQAAAAEAzMypAAAAAoJmZK0AAAABgZmYtQAAAAKCZmSxAAAAAAClcLEAAAAAAAIApQAAAAAAAgClAAAAAoJmZK0AAAAAAAAAwQAAAAMDMzC9AAAAAoJkZMUAAAADAzMwsQAAAAGBm5idAAAAAQOH6MUAAAACAPYotQAAAAAAAAC1AAAAA4KNwJkAAAACgmZkrQAAAAGCPQiZAAAAAwMwMMkAAAACgcL0mQAAAAGBmZidAAAAAAClcK0AAAADAzMwmQAAAAMAeBSpAAAAAwPWoKkAAAACgmZksQAAAAKCZmS1AAAAAQDMzK0AAAABAMzMsQAAAAGBmZiVAAAAAQDMzKkAAAADA9agpQAAAAMDMzCtAAAAAoJmZK0AAAAAAAAAqQAAAAGBmZixAAAAAoJmZKUAAAADgo3AwQAAAACCF6yxAAAAAIIXrLEAAAAAAAAAyQAAAAKCZmSxAAAAAQDMzLEAAAABgZmYtQAAAAEAzMyRAAAAAoJmZJkAAAAAAAAAlQAAAAMDMzCRAAAAAYGZmLkAAAACAPQotQAAAAAAAACxAAAAAwMzMJ0AAAABAMzMsQAAAAMDMzChAAAAAQDMzJkAAAAAAAAAmQAAAAEAzMzFAAAAAIK7HLUAAAACgmZktQAAAAKCZmSlAAAAAYGZmLEAAAADAzMwlQAAAAIDC9SxAAAAAwMwMM0AAAAAAAAAxQAAAAEAzMyxAAAAAoJmZK0AAAADAzEwxQAAAAKCZmS9AAAAAQDMzJkAAAACgmZkoQAAAAKCZmTNAAAAAANejK0AAAACgR2EqQAAAAMDMzCdAAAAAYGZmL0AAAABAMzMmQAAAAAAAAChAAAAAAAAAL0AAAACgmZktQAAAAADXoy1AAAAAwMzMKkAAAABAMzMrQAAAAMAeBSdAAAAAYGZmJ0AAAABAM7MyQAAAAMDMzC5AAAAAANcjKEAAAAAgrscjQAAAAGBmZiZAAAAAYGZmLEAAAADAzMwtQAAAACBcjzBAAAAAYGZmLUAAAACgmZkoQAAAAOBReDBAAAAAYGZmMEAAAABAMzMrQAAAAEAK1ytAAAAAYGZmK0AAAABA4XoqQAAAAEAzczBAAAAAQDOzLEAAAADAHoUtQAAAAAAAAC1AAAAAQDOzK0AAAADA9agsQAAAAGBmZipAAAAAoHC9JUAAAADAHoUnQAAAAAAAAC5AAAAAgOtRKUAAAAAAAAAlQAAAAMDMzCRAAAAAoJmZMUAAAAAAAAAnQAAAAAAAACRAAAAAAAAAKkAAAAAgrscyQAAAAAAAACdAAAAAYGZmLUAAAABAMzMqQAAAAAAAADBAAAAAAADAMEAAAAAAAAApQAAAAAAAAC9AAAAAYI/CJkAAAADAzMwsQAAAAMD1qC1AAAAAIK5HMEAAAACA61EiQAAAAMDMzCtAAAAAQApXKEAAAAAAAAApQAAAAAAAACdAAAAAYGZmLUAAAAAAAAAmQAAAAGBmZi9AAAAAoJmZK0AAAACgmZklQAAAAEAzMypAAAAAgMJ1LkAAAABgj8IuQAAAAEAzMyRAAAAAIFwPLEAAAABgZmYuQAAAAEAzszNAAAAAQDMzK0AAAADgepQrQAAAAMD1qCxAAAAAYGZmJ0AAAADAzMwnQAAAAKBH4SxAAAAAwMzML0AAAABgZuYvQAAAAAAAACxAAAAA4KNwLUAAAABgZmYtQAAAAMDMzChAAAAAoJmZJ0AAAADAzMwqQAAAAADXIyxAAAAAQApXIEAAAABACtcpQAAAAMDMzDFAAAAAQDMzK0AAAACgmZkrQAAAACCuhzBAAAAAwMyMMUAAAACgR+ErQAAAAAAAACpAAAAAoJmZJ0AAAAAAAAArQAAAAGBmJjBAAAAAgD0KKUAAAACgmZksQAAAAAAAACZAAAAAYI/CLEAAAABAMzMlQAAAAKCZmSdAAAAAIK7HKkAAAADAzMwtQAAAAOCj8C9AAAAAwMzMKkAAAADAzMwkQAAAAGBmZi5AAAAAoJmZK0AAAAAgrkcpQAAAAOBR+DBAAAAAoJkZMEAAAACgR+EuQAAAAKCZmSdAAAAAoJmZKEAAAAAAAAAsQAAAAGBmZi1AAAAAIFyPLUAAAAAgXA8yQAAAAKBHYS1AAAAAQDMzJUAAAABgZmYsQAAAAMD1KB5AAAAAgOvRLkAAAABgZmYnQAAAAEAzMyxAAAAAYGZmJUAAAABgZmYyQAAAAKCZmSRAAAAAAAAALUAAAABAMzMsQAAAAAAAACVAAAAAQDMzJ0AAAABAMzMmQAAAAKCZmSxAAAAAwMzMLUAAAADAzMwtQAAAAAAp3CtAAAAAAAAAJ0AAAACAFK7XPwAAAGBmZitAAAAAAAAAJkAAAABgZmYuQAAAAEAzMyxAAAAAwMzMK0AAAAAAAIAzQAAAAEAzMylAAAAAAAAAKUAAAABgZmYmQAAAAAAp3CFAAAAAAAAAJ0AAAABAMzMnQAAAAMDMzC5AAAAAYGZmJUAAAACgmZkpQAAAAAAAACxAAAAA4FG4LUAAAADAzMwvQAAAAEAzMyVAAAAAYGZmJkAAAABgZmYkQAAAAIDrETJAAAAAoJmZKkAAAACgmZkmQAAAAAAAAC1AAAAAAAAAKEAAAAAAAAAuQAAAAGBmZi1AAAAAYGZmL0AAAABAMzMyQAAAAMDMTDFAAAAA4KPwL0AAAAAAAAAtQAAAAEAzMy1AAAAAYGZmKUAAAADAzMwuQAAAAIDr0S1AAAAAQDMzJ0AAAACgmZkwQAAAAGBmZjJAAAAAAACAMEAAAAAAAAAzQAAAAGBmZipAAAAAgOtRMEAAAABgZmYqQAAAAMAehS5AAAAAwMwMMEAAAACgcD0vQAAAAAAAADHAAAAAwMzMLUAAAABAM7MxQAAAAMDMzCdAAAAAANejLEAAAABAMzMkQAAAAOBRuCJAAAAAIK5HLkAAAAAA16MuQAAAAMDMzCxAAAAAQDPzMUAAAACgR2EtQAAAAADXoypAAAAAwMzMMUAAAACgmZkpQAAAAKCZmSpAAAAAwPUoKEAAAADgUTgrQAAAAKBwPSxAAAAAoJmZL0AAAABA4fokQAAAAKCZmS9AAAAAYGZmKkAAAACgcD0vQAAAAGCPQi5AAAAAwPUoMEAAAADAHgUyQAAAACCuxytAAAAA4HoUL0AAAACAPQouQAAAAOB6lCtAAAAA4FE4K0AAAACAwjUxQAAAAAAAACdAAAAAoJmZJkAAAABAM7MrQAAAAEDheitAAAAAIIVrJUAAAABAMzMvQAAAAOCj8CdAAAAAQDOzK0AAAAAAAAAsQAAAAEAK1ypAAAAAoJmZL0AAAACAFC4hQAAAAADXoy5AAAAAgMJ1IkAAAAAAKVwsQAAAAMDMzC1AAAAAQDMzLkAAAACgmZksQAAAAKCZGSlAAAAAoHB9MEAAAABgZmYqQAAAAEDh+iJAAAAAQApXI0AAAABAMzMuQAAAAAApXCdAAAAAQDMzLkAAAACgmZkqQAAAAAAAgDJAAAAAYGZmK0AAAACgcD0lQAAAAGBmZjBAAAAAoHC9JkAAAADA9SgoQAAAAEAzszBAAAAAwPUoLkAAAADA9agqQAAAAAAAADFAAAAAANejGkAAAABgZmYrQAAAAEAzMypAAAAAIFyPJ0AAAAAAAAArQAAAAKCZmSxAAAAAAAAAMEAAAADAzMwqQAAAAGBmZi1AAAAAwMzMLkAAAABAMzMpQAAAAGBmZi1AAAAAACncIEAAAABgZmYsQAAAACCF6yJAAAAA4FG4LkAAAADAzIwwQAAAAAAp3CFAAAAAAAAAL0AAAACAwnUnQAAAAEAzMw1AAAAAQArXKkAAAABgZmYrQAAAACCuRylAAAAAQArXLUAAAACgmZksQAAAAEAzsytAAAAAYLgeL0AAAABguB4vQAAAAGCPQilAAAAAAACAMkAAAAAAKVwpQAAAACCF6ypAAAAAAAAALEAAAABAMzMfQAAAAKCZmRdAAAAAYGZmJ0AAAACgmZkrQAAAAAAAACtAAAAAAAAAKkAAAABAMzMsQAAAAADXIzFAAAAAwMzMK0AAAACgmZktQAAAACCuxyhAAAAAQDMzLUAAAACgmZkxQAAAAADXoy9AAAAAYGZmJkAAAAAgXI8uQAAAAAAAACVAAAAA4HqUJUAAAADAzMwqQAAAAMDMzCdAAAAA4FE4K0AAAACgmZkvQAAAAGBmZi5AAAAAgOtRMkAAAAAgXI8tQAAAAKCZmSZAAAAAoHC9LEAAAAAghSsxQAAAAMD1qDBAAAAAYGZmKkAAAADgehQsQAAAAAAAADFAAAAAYGZmKEAAAADgUTgnQAAAAMAexTFAAAAAwMzMLEAAAABACtcuQAAAAADXIy1AAAAAIIXrLEAAAACA69EiQAAAAAAAgDBAAAAAAACALUAAAADAHkUxQAAAAAAAgDBAAAAAANcjLkAAAABgZmYsQAAAAAAp3DBAAAAAAABAMEAAAACAFK4xQAAAAEAzMy1AAAAAgD2KIUAAAABgj0IrQAAAAKCZmTFAAAAAoJkZMEAAAACgcL0mQAAAAMDMzCxAAAAAAAAAL0AAAADAzMwqQAAAAMDMzC1AAAAAwMzMKkAAAACgmZktQAAAAGBmZilAAAAAYGZmLkAAAADAzMwuQAAAAIDr0SNAAAAAwMzMLEAAAAAA16MhQAAAAGBm5iNAAAAAYGZmJkAAAABguB4rQAAAAEAzszBAAAAAQDOzMEAAAADAzEwwQAAAAGBmZipAAAAAwMzMLEAAAACgmZkuQAAAAMDMzCtAAAAAYGZmLkAAAACAPQoyQAAAAAAAACxAAAAAYGZmJkAAAABguB4tQAAAAADXIzBAAAAAQDMzLEAAAACAPQosQAAAAAAAADBAAAAAYI9CIkAAAABACtcuQAAAAOCjcC1AAAAAIFyPLUAAAABA4folQAAAAIAULi5AAAAAYGZmLUAAAACgmZktQAAAAEAzMytAAAAAoJmZLkAAAABgj4IwQAAAAKCZmSlAAAAAwB4FLUAAAACA69EtQAAAAIDrUS5AAAAAQOF6KUAAAADAzMwtQAAAAKBwfTFAAAAAgBQuLUAAAAAgXI8pQAAAAKCZmSlAAAAA4KMwMkAAAACAPQotQAAAAMDMzCtAAAAAAACAOUAAAABA4boxQAAAAIDCdSNAAAAA4HoUKEAAAACgmZkqQAAAAKCZmSpAAAAAwMzMJEAAAADAzMwqQAAAAGBmZixAAAAAwMzML0AAAADAzMwwQAAAAMDMzCxAAAAAAACAMEAAAADgUXgxQAAAAEAzMy9AAAAAYGZmLEAAAABAMzMuQAAAAKCZmSxAAAAAwMzMLkAAAABAMzMXQAAAAMDMzC1AAAAAAAAALkAAAAAAAAAnQAAAAIDrETFAAAAAoJmZJkAAAAAAAAAuQAAAAKCZmShAAAAAQDMzJ0AAAABAMzMqQAAAAEAzMydAAAAAoJmZM0AAAABAMzMnQAAAAKCZmSpAAAAAIIXrLEAAAACgmZksQAAAAMDMzCdAAAAAoHA9MUAAAABgZmYoQAAAAGBmZilAAAAAwMzMJ0AAAAAAAAAqQAAAAKCZmSxAAAAAAAAAJEAAAADAHgUvQAAAAEAzMytAAAAAwMzMK0AAAACgmZkoQAAAAAAAAC9AAAAAYGZmJkAAAABAMzMuQAAAAMDMzDBAAAAAoJmZLUAAAACgmZkuQAAAAKCZGTFAAAAAoHA9LEAAAACgmZkuQAAAAKCZGTBAAAAAYGZmKkAAAABgZmYkQAAAAEAKVyxAAAAAAAAALUAAAADAzMwqQAAAAKCZmTRAAAAAYGZmLUAAAABAMzMvQAAAAGBmZiVAAAAAwMxMMEAAAAAgrkcsQAAAACBcDy9AAAAAAAAAK0AAAACgmZkuQAAAAEAzMy1AAAAAQDMzKkAAAACgmZkoQAAAACBcDytAAAAAQDMzKUAAAACAPcoxQAAAAKCZmS9AAAAAAAAAKEAAAADAHgUsQAAAAMDMzChAAAAAgD2KLkAAAACgmZkuQAAAAKCZmS5AAAAAwMzMKUAAAADAzMwoQAAAAEAzMzFAAAAAAAAAL0AAAACA69ErQAAAAMDMzChAAAAAAAAAJkAAAACgmZktQAAAAKCZmSlAAAAAwMzMLUAAAAAAAAAxwAAAAAAAADFAAAAAoJkZJ0AAAAAAAAAmQAAAAOBRuCZAAAAAYGZmMUAAAACgcL0nQAAAAMAeBS5AAAAAoEdhJkAAAABAMzMpQAAAACBcjzBAAAAAgMJ1LUAAAADgo/AtQAAAAOB6FCtAAAAA4KNwKkAAAACgmRkwQAAAAIAUri5AAAAAQDOzMkAAAABgj0IyQAAAACCuRyFAAAAAwMzMKEAAAACAwnUtQAAAAGBmZjBAAAAAQOH6LkAAAADA9aguQAAAAMD1KCRAAAAAwMzMMUAAAACgcL0tQAAAAAApXCpAAAAAgD2KLEAAAACgmZkmQAAAAAAp3CpAAAAAwMyMMEAAAABAMzMpQAAAAEAzMzRAAAAAwMwMMUAAAABguJ4vQAAAAEAKVytAAAAAYI+CM0AAAACgmZkoQAAAAGBmZjNAAAAAwPUoLEAAAABAM/MwQAAAAEAzMy5AAAAAgBTuNEAAAACgR2EoQAAAAAAAADNAAAAAAAAAJ0AAAABgj4IwQAAAAOBROC5AAAAAACncLkAAAADAzMwtQAAAAGBmZi9AAAAAACkcMEAAAADA9SguQAAAAAAAACtAAAAAAAAAK0AAAAAgrscpQAAAACBcDzFAAAAAAAAALEAAAADAzMwlQAAAACBcTzFAAAAAwB4FLkAAAABACpcyQAAAACCuRyxAAAAAoHA9LEAAAABAMzMmQAAAAEAzMyVAAAAAAAAAK0AAAABACtcnQAAAAMDMzDBAAAAAYI/CI0AAAADgo/AuQAAAAAAAAC5AAAAAwMzMJUAAAADAzMwsQAAAAAAAAC5AAAAAQDMzLUAAAAAghWsuQAAAAMDMzCpAAAAAANejK0AAAACA61EnQAAAAMDMzCxAAAAAYGZmIUAAAABgjwIwQAAAAGBmZitAAAAAQDMzKEAAAADAHoUsQAAAACCF6y9AAAAAoJmZLkAAAACgmZkmQAAAAMDMzCtAAAAAIK5HJkAAAADAzMwmQAAAAAAAAC1AAAAAYGZmJ0AAAAAAAAAuQAAAAEAz8zFAAAAAIK7HJUAAAABgZmYnQAAAAEAzMy5AAAAAgMI1MUAAAAAAAAAwQAAAAEAzMzBAAAAAQDMzJkAAAADAzMwrQAAAAAAAACdAAAAAYGZmJ0AAAAAAAAAuQAAAAKBHYS5AAAAAAAAAL0AAAADAzMwuQAAAAIDr0S1AAAAAQDMzL0AAAADAzMwxQAAAAGBmZjFAAAAAYGZmJkAAAABAMzMtQAAAAEAzMyZAAAAAAAAAL0AAAACgmZkvQAAAAGBmZixAAAAAwMzMKkAAAABguB4vQAAAAEAzsy5AAAAAYI8CNEAAAAAAAAAlQAAAAKCZmS5AAAAAQDOzIkAAAABAMzMqQAAAACBcDy9AAAAAoJmZLkAAAABAMzMmQAAAAAAAAC9AAAAAAAAAJUAAAABAClcwQAAAAKBH4SxAAAAAANejLEAAAAAAAAAmQAAAAAApXCtAAAAA4KNwGkAAAADAzMwrQAAAAKBwvSZAAAAAYGZmJkAAAACgcD0vQAAAAIA9CixAAAAAgD2KLkAAAADgUbgwQAAAAIDC9S5AAAAAIK7HI0AAAACAwnUgQAAAAMDMzDBAAAAAYGZmMEAAAADAzMwkQAAAAMDMzCRAAAAAQDMzKEAAAABgZmYuQAAAAKBwPSpAAAAAAClcLEAAAACgR2EtQAAAAIDC9S1AAAAA4HqUJkAAAACgcD0aQAAAAMDMzCtAAAAAwMzMMEAAAABgZmYmQAAAAGBmZi5AAAAAQDMzLEAAAADAHoUtQAAAAAAAAC9AAAAAAAAAKUAAAABgZmYtQAAAAEAzMyhAAAAAgBQuLUAAAACgcD0qQAAAAEAzMy5AAAAAoJmZIEAAAADAzMwtQAAAAIDCdTBAAAAAQDMzKEAAAAAAKdwgQAAAAAAAAChAAAAAYGZmLEAAAAAAKVwsQAAAAMDMzClAAAAAwMzMLkAAAABgj8IqQAAAAMDMzClAAAAAoJmZLkAAAACAFC4rQAAAAAAAgDFAAAAAgML1JkAAAACgmZkvQAAAAKCZmSxAAAAAQDMzLUAAAADAzMwqQAAAAMD1qCtAAAAAwMzMKUAAAACAFK4xQAAAAAAAACtAAAAAAAAAMEAAAAAAAAAvQAAAACBcTzBAAAAAYGZmJUAAAACgmRkzQAAAACCuBzFAAAAAoJmZJUAAAABgZmYuQAAAAKBHITNAAAAAwPUoJkAAAABAMzMsQAAAAGBm5jBAAAAAQDMzNEAAAAAAAAAsQAAAAEAKlzFAAAAAwMzMK0AAAABgZmYvQAAAAAAAAChAAAAAwMxMMkAAAAAAAAAvQAAAAMDMzCdAAAAAoJkZNEAAAAAA1yMwQAAAAGBmZilAAAAAwMzMJ0AAAAAAAAAuQAAAAMD1qCpAAAAAwMzMK0AAAAAAAAAnQAAAAEAzMyZAAAAAQDMzL0AAAACgmZkuQAAAAIDC9SZAAAAAIFwPKEAAAABAMzMxQAAAAKCZmS5AAAAAoJmZLUAAAABAM7MrQAAAAEAz8zFAAAAAwB6FIEAAAADAzMwpQAAAAAAAACxAAAAAwB7FMEAAAAAAAIAyQAAAAGBmZihAAAAAYI9CIUAAAAAAAAAmQAAAAEAzMzBAAAAA4FF4MkAAAAAAAAAoQAAAAMDMzCZAAAAAYGZmKEAAAABgZmYwQAAAAEAzMzBAAAAAQDMzLUAAAAAAAAArQAAAAADXoy1AAAAAoJmZLUAAAADAzMwzQAAAAAAAAC5AAAAAoJmZK0AAAAAghesuQAAAAEAzMy1AAAAAYGZmLUAAAACgmZkrQAAAACCFayxAAAAAgOtRL0AAAACgmZksQAAAAAAAwDBAAAAA4HqULEAAAAAAAAArQAAAAEAzMyZAAAAAYLgeLEAAAABACtctQAAAAKCZmStAAAAAQDMzKUAAAACgmRkxQAAAAIDrUTJAAAAAoEdhLEAAAACAwnUoQAAAAEAzMzFAAAAAANejMUAAAADAzMwrQAAAAIDrUTJAAAAA4FE4K0AAAACgmRkyQAAAAKCZmSxAAAAAQDMzK0AAAADAzMwsQAAAAIDCNTBAAAAAoJmZK0AAAADAzMwpQAAAAMDMzCtAAAAAwMzMLkAAAADgUXgzQAAAAKCZmSpAAAAAQDMzK0AAAAAAAAAqQAAAAKCZGStAAAAAoEdhKUAAAACgmZkrQAAAAAAAAC9AAAAAYGZmLkAAAACgmZknQAAAAGBmZixAAAAAoJmZH0AAAABguJ4wQAAAAEAzMytAAAAAoJmZLkAAAAAA16MtQAAAAKCZGTBAAAAAwMxMLkAAAACAwnUtQAAAAMD1qC5AAAAAwMzMLkAAAACgmdkxQAAAAIDCNTBAAAAAQDMzLUAAAAAAAAAoQAAAAEAzMypAAAAAoHA9KkAAAABguJ4sQAAAAEAK1y5AAAAAgMJ1J0AAAACgmRknQAAAAMDMzChAAAAAwMzMLUAAAAAAAAArQAAAAMDMTDJAAAAAwMzMKUAAAADAzMwqQAAAAMD1KCdAAAAAwMzMKkAAAADAzEwuQAAAAIAUri5AAAAAgD2KKkAAAABAMzMrQAAAAGBmZi1AAAAAwMxMM0AAAABgZmYtQAAAAEAzMy1AAAAAoHA9LEAAAACA61EvQAAAAEAzMzFAAAAAoJmZLUAAAABAMzMmQAAAAMAehSdAAAAAQDMzMEAAAAAAAAAuQAAAAGCPwi5AAAAAAAAAJkAAAAAAAAAtQAAAAEAzMyxAAAAAgML1L0AAAAAAAAArQAAAAGBmZilAAAAAoJkZMkAAAABAMzMxQAAAAAAAAC5AAAAAQDMzKkAAAACgmZkoQAAAAEAzMy9AAAAAoJmZJUAAAAAAAAAoQAAAAOCj8CxAAAAAYGZmKkAAAADAzMwsQAAAAAAAAC5AAAAAAAAALEAAAACAFC4qQAAAAGBmZiZAAAAA4FE4MEAAAADAzEwwQAAAAOB6FC9AAAAAYGZmJ0AAAAAAAAAmQAAAAAAAAC5AAAAAwMzMJ0AAAADgehTmPwAAACCuRzJAAAAAQApXLkAAAAAghWstQAAAAMDMzC1AAAAAQDMzK0AAAABAMzMpQAAAAKCZmStAAAAAgBSuL0AAAAAAAAArQAAAAKCZmTBAAAAAYGZmKkAAAADgo/AtQAAAAIA9iiJAAAAAwMzML0AAAAAAKVwsQAAAAKCZmS1AAAAAYGZmKEAAAACAFK4fQAAAAGBmZitAAAAAYGZmLEAAAAAAAAAnQAAAACCuRyBAAAAAIIXrIkAAAACgcL0uQAAAAEAzszBAAAAAYGZmL0AAAACAPYosQAAAAAAAACtAAAAAQOH6I0AAAADgehQxQAAAAKCZGTFAAAAAoHA9KkAAAABAMzMtQAAAAKCZmS9AAAAAwMzMKkAAAABAMzMnQAAAAEAzMy9AAAAAoJmZKUAAAABAMzMqQAAAAKCZmTFAAAAAAAAAJkAAAABAMzMyQAAAAIAUripAAAAAwMzMK0AAAACgmZknQAAAAMAehTJAAAAAYGZmKEAAAACgcD0vQAAAAKCZmSlAAAAAgD2KIkAAAABgZuYwQAAAAMDMzCZAAAAAQDMzKEAAAABAMzMrQAAAAAAAAC5AAAAAwMzMLEAAAABgZmYlQAAAAEAzMy9AAAAAoJmZKEAAAABgZqYwQAAAAOB6lCtAAAAAAAAALUAAAABACtcoQAAAAEAKFzBAAAAAAAAAMEAAAAAAAAAtQAAAACBcDy1AAAAAQAqXMEAAAABAMzMvQAAAACBcDytAAAAAQDMzLEAAAAAAAAAnQAAAAGBmZihAAAAAwMzMJkAAAADAzMwkQAAAAEAzMytAAAAAwMzMJUAAAACgmZkkQAAAAAAAADFAAAAAoJmZJEAAAABAMzMnQAAAAGBmZiRAAAAAQDMzK0AAAAAgrscmQAAAAKCZmTBAAAAAgD2KKkAAAADAzMwuQAAAAKCZmSdAAAAAQDOzJUAAAADA9SgtQAAAAMDMzDJAAAAAoJmZLkAAAAAAAIAwQAAAAAAAACdAAAAAAAAAK0AAAABAMzMuQAAAAOB6lCZAAAAAAAAAMUAAAAAAAAArQAAAAAAAACVAAAAAwB4FMEAAAADAzMwqQAAAAMAeBSVAAAAAQDMzKEAAAAAAAIArQAAAAAAAACdAAAAAwMzMLEAAAACgmZkpQAAAAGC4niJAAAAAAAAAKUAAAADAzMwkQAAAAEAzszBAAAAAQDMzL0AAAADA9agtQAAAAEAzMy5AAAAAwMzMKUAAAADAzMwqQAAAAOBROC5AAAAAAAAAKkAAAADAHgUsQAAAAEAzsyxAAAAAQApXLEAAAACgcD0nQAAAAKCZmStAAAAAoEfhL0AAAABA4XosQAAAAMDMzCZAAAAAQDMzL0AAAAAAAAAwQAAAAEDhujNAAAAAYGZmLEAAAABgZmYsQAAAAGBmZi1AAAAAoJnZMkAAAAAA1yMwQAAAAAAAgCxAAAAAYGZmLUAAAABgZmYoQAAAAMDMzCdAAAAAgOvRMEAAAADgo3AmQAAAAMDMzCxAAAAAYI/CMEAAAADA9egwQAAAACBcDzRAAAAAoEfhIkAAAAAghesnQAAAAEAzMzBAAAAAYGZmL0AAAADgUbgoQAAAAEAKVytAAAAAYI9CKUAAAABgZmYuQAAAAAAAwDBAAAAAoJmZJkAAAAAghWspQAAAAGBmZixAAAAAgOvRLEAAAAAAAAAuQAAAAAAAACdAAAAAgML1LUAAAADAzMwsQAAAAIAULilAAAAAYGZmLEAAAADAzMwtQAAAAIDC9SdAAAAA4HqUJEAAAACAFO4wQAAAAAApXC5AAAAAwMzMKUAAAACgmZkpQAAAAKCZmSZAAAAAQDMzLEAAAADAzMwvQAAAAIA9Ci5AAAAAgD0KLUAAAABgZmYlQAAAAAAAQDFAAAAAwMzMKUAAAABgZmYnQAAAAAAAgC5AAAAAAAAAMEAAAABgZmYtQAAAAMDMzC5AAAAAwMzMJEAAAACgmRkwQAAAAGC4XjFAAAAAAAAAL0AAAABgZmYqQAAAAGBmZixAAAAAYGbmKEAAAABA4XrkPwAAAKCZmSpAAAAAoJmZKEAAAAAAAAAnQAAAAAAAAClAAAAAYI/CKkAAAAAA16MuQAAAAGC4XjFAAAAAQDMzKEAAAABgZmYsQAAAAEAK1yxAAAAAAAAAKkAAAAAAAAAmQAAAACBcDyZAAAAA4KPwI0AAAAAAAAApQAAAACBcjyNAAAAAYLjeMEAAAAAAAAAuQAAAAOCj8ChAAAAAwMzMK0AAAABgj8LVPwAAAOBRuC5AAAAAoJmZJkAAAADAHgUuQAAAAKCZmS5AAAAAoJkZMEAAAAAgXI8sQAAAAIAUri5AAAAA4FG4LkAAAABgZmYoQAAAAGBmZi5AAAAAIFxPMkAAAAAA1yMpQAAAAKCZmTBAAAAAQDOzMEAAAADAzMwrQAAAAKCZmStAAAAAQDMzLUAAAACgmZkuQAAAAAApXDFAAAAAQDMzJEAAAAAAAAAlQAAAAEAzMytAAAAAwMzMJkAAAABAMzMnQAAAAGBmZixAAAAAQDMzLkAAAACA61EtQAAAACCF6xtAAAAAwB6FLkAAAACgcL0iQAAAAEAzczFAAAAAANfjMkAAAACAPQrXPwAAAOB6FCNAAAAAwPWoKEAAAADAzMwtQAAAAEDheiNAAAAAoJmZKEAAAABAM7MjQAAAAKCZmSpAAAAAQOF6LUAAAACAFK4pQAAAAIDC9RxAAAAAoJmZLEAAAACgcL0jQAAAAGC4ni1AAAAAQOG6MUAAAACgmZk1QAAAAIDC9S1AAAAAQDMzKEAAAABAMzMmQAAAAAAAAC5AAAAAoJmZK0AAAABgj8IjQAAAACCF6ytAAAAAYGZmMEAAAADA9WgxQAAAAIAUritAAAAAwMzML0AAAACgmZkoQAAAAMDMTC9AAAAAgBQuL0AAAAAAKZwzQAAAACCuxzdAAAAA4FE4LEAAAADAzMwpQAAAAOB6FBJAAAAAoEehMEAAAAAAAAAqQAAAAMD1qCxAAAAAoJmZLUAAAACgmZknQAAAAAAAACpAAAAAwMzML0AAAADAzMwqQAAAAIDC9SxAAAAAYGZmK0AAAACgRyEwQAAAAGBmZi1AAAAAIK5HMEAAAADAzMwnQAAAAGBmZihAAAAAgMI1MUAAAACgmZklQAAAAKCZmSdAAAAAQDMzKkAAAABgZmYvQAAAAEDh+ipAAAAAgD0KNEAAAAAAAIArQAAAAEAzsy1AAAAAQDMzKUAAAABgZmYqQAAAAIDr0StAAAAA4KPwJUAAAABAMzMpQAAAAIDC9SpAAAAAIIVrMEAAAACAwjUzQAAAAKBw/TJAAAAAoJmZKUAAAACgmZksQAAAAAAAACVAAAAAAAAAJkAAAAAgXI8sQAAAAGBmpjBAAAAAIFwPLEAAAACAPQorQAAAAAAAAClAAAAAQApXJ0AAAADgehQuQAAAAAAAACxAAAAAQDMzL0AAAABgZmYlQAAAAOBROCZAAAAAANcjKEAAAACAPYotQAAAAAAAADNAAAAAQDMzKkAAAABAMzMvQAAAAEAzMypAAAAAIIWrMUAAAACAwvUuQAAAAGCPgjBAAAAAYGZmLEAAAACAFC4tQAAAAGCPwi1AAAAAwMzMMEAAAADA9agvQAAAAEAzMyxAAAAAgBTuMUAAAADgepQwQAAAAEAzMy5AAAAAYGZmLUAAAADgepQsQAAAACCuhzJAAAAAIIXrLEAAAAAAAIAkQAAAAEAzMzNAAAAAYGZmKkAAAABgZmYsQAAAAAAAACtAAAAAIIUrM0AAAABgZmYuQAAAAEAzszBAAAAAYGZmLkAAAAAAAAApQAAAAMDMzC5AAAAAYGZmLEAAAADAzEwwQAAAAAAAgCtAAAAAoJmZLUAAAAAA1yMvQAAAAMDMzDFAAAAAYGZmKEAAAABgZmYtQAAAAIAUriZAAAAAANcjL0AAAAAAAAAvQAAAAGC43jFAAAAAAAAALEAAAABgZmYvQAAAAMDMzCxAAAAAwMzMLEAAAADAzMwtQAAAAGBmZi9AAAAA4KPwLUAAAABguB4rQAAAAMDMzC1AAAAAgBSuLkAAAAAAAAAuQAAAAEAzszBAAAAAAAAALkAAAAAAAAAuQAAAAEAzszNAAAAAQDMzLkAAAABAMzMuQAAAAGBmZi5AAAAAwB4FLUAAAADAzMwvQAAAAEAzMzVAAAAAAAAALEAAAADAzMwoQAAAAKCZmThAAAAAYGZmLUAAAACAPQouQAAAAGBmZiZAAAAAoJmZL0AAAABgZmYtQAAAAAAAACxAAAAAYGZmKkAAAAAAKdwsQAAAAAAAAC9AAAAAYGZmLUAAAACgmZktQAAAAMAehTJAAAAAAAAALEAAAADAHgUiQAAAAKCZmTBAAAAAoEdhLUAAAACgmZkuQAAAAEAzMy1AAAAAgBQuL0AAAADAzMwsQAAAAKBwPR9AAAAAwMzMLUAAAADAzMwsQAAAAKCZmSdAAAAAYGZmIEAAAABAMzMnQAAAAMAeBTBAAAAAQDMzKkAAAABAMzMoQAAAAAAAgDBAAAAAAACALkAAAABgZmYsQAAAAKCZmSpAAAAAYLieJUAAAACgmZkzQAAAAKCZmS9AAAAAQOG6MkAAAABgZmYuQAAAAADXYzBAAAAAoJkZM0AAAABgZuYwQAAAAEDh+i1AAAAAACmcMEAAAACgmRkyQAAAAOB6lCtAAAAAAADAMUAAAABgZmYuQAAAAADXIy5AAAAA4FG4LUAAAACgmRkqQAAAAGBm5jNAAAAAAAAAKkAAAADgUbguQAAAAMDMTCxAAAAAQDMzL0AAAABgZmY0QAAAAMAeBSxAAAAA4KPwLEAAAAAAAAAtQAAAAKCZmSpAAAAAAAAALUAAAADAzEwqQAAAAMDMzC9AAAAAwMzMKkAAAACgmZkuQAAAAMDMzDBAAAAAoJmZKkAAAAAAAAAtQAAAAEDhOjBAAAAAoJmZKEAAAADAzMwqQAAAAMDMzC1AAAAAQArXLUAAAAAgXA8rQAAAAGBmZipAAAAAwMxMMUAAAADAzMwsQAAAAMDMzClAAAAAgMJ1K0AAAACAwjUwQAAAAEAKVyhAAAAAQDMzL0AAAABAMzMvQAAAAEAzMy1AAAAAQDMzJkAAAADAzMwvQAAAAKCZGTBAAAAAQDMzKkAAAABguJ4sQAAAAKCZmTBAAAAAAAAAK0AAAADAHgUxQAAAAEAzMyhAAAAAAACAMUAAAADAzMwtQAAAAAAAACZAAAAAAAAALEAAAABAMzMvQAAAAKBH4ShAAAAAwMzML0AAAAAAAIAwQAAAAGBmZitAAAAAQDMzLkAAAAAgrgcwQAAAAKCZGTNAAAAAAACAMEAAAABAM7MxQAAAAGBmZilAAAAAwMzMMkAAAACA69EvQAAAAKBH4S5AAAAAAAAAKEAAAAAgXA8sQAAAAMDMzC5AAAAAwMzML0AAAACgcD0xQAAAAKBH4StAAAAAgD1KMUAAAACgmRk0QAAAAEDh+itAAAAAgML1I0AAAACgmZkuQAAAAEAzMyVAAAAAQArXKkAAAADgo3ApQAAAAIAUridAAAAAQDMzKkAAAABgZmYvQAAAAMDMTDJAAAAAoJmZIUAAAAAghesrQAAAAOB6lCJAAAAA4FE4L0AAAACgcH0yQAAAAAApXC5AAAAAwPWoJ0AAAACgcL0sQAAAAGC4HixAAAAAoJmZLEAAAADAzMwuQAAAAIAUbjBAAAAAQApXLEAAAADAzMwtQAAAAIDrUTBAAAAAIIVrK0AAAACAFC4rQAAAAGC4HixAAAAAAACAMEAAAAAAAIAmQAAAAOBROCdAAAAAoJmZMkAAAAAghWsuQAAAAKCZmStAAAAAgOvRKkAAAACA69EsQAAAAKBHoTFAAAAAIIWrM0AAAABguB4yQAAAAIA9CiZAAAAAgD0KJkAAAAAA1yMiQAAAAEDhOjBAAAAAIIXrLEAAAABgZuYnQAAAAEAKVyBAAAAAYI/CI0AAAADgUbgnQAAAAKBH4SZAAAAAwB6FKUAAAACAFC4vQAAAAMDMzCJAAAAAQOH6LUAAAAAAKVwnQAAAACBcDzBAAAAAYI/CLEAAAABAMzMpQAAAACCF6xtAAAAAoEdhK0AAAADgelQwQAAAAOBRuChAAAAAwPUoL0AAAABAMzMpQAAAACBcDzBAAAAAQApXLEAAAABguB4oQAAAAEAK1ytAAAAAYGZmLEAAAADgUTgwQAAAAIDrUS9AAAAAwPWoLkAAAABA4fowQAAAACCFayxAAAAAgML1LEAAAAAghWsvQAAAAIA9Ci5AAAAAQOH6KUAAAAAgXI8sQAAAACBcTzBAAAAAYLieLUAAAAAghestQAAAAEAzMy9AAAAAgOuRMEAAAABguJ4nQAAAAADXoyhAAAAAIK7HK0AAAABAMzMuQAAAAGBmZihAAAAAgD0KMEAAAABAMzMrQAAAAKBwvS5AAAAAgOvRLUAAAADAHoUsQAAAAGBmZi1AAAAAgD0KM0AAAABACtcwQAAAAOB6FC1AAAAA4FE4L0AAAAAAAAAoQAAAAMDMzCZAAAAA4HrUMEAAAADAzMwlQAAAAEAzMy5AAAAAQDPzMEAAAACgmZkuQAAAAMDMzC5AAAAAYGZmKkAAAACgmZktQAAAAOB6VDBAAAAAIFwPK0AAAACgR+EiQAAAAGBmZiZAAAAAANcjLEAAAAAgXA8xQAAAAEAzMypAAAAAAAAALkAAAACAFC4uQAAAACCFayxAAAAAoJmZKEAAAACA69EuQAAAAGC4HhlAAAAAoJmZLkAAAACAFC4pQAAAAMDMzC5AAAAAYGZmLUAAAABAMzMuQAAAAMDMTCJAAAAAwPUoL0AAAACgmZksQAAAAGBmZixAAAAAwMxMMEAAAAAgrocwQAAAAAAAAC1AAAAAoJmZJkAAAACgmZkoQAAAAKCZmShAAAAAAAAAMEAAAAAAAAAqQAAAAOBRuCxAAAAA4FE4LEAAAADAzMwrQAAAAOBRuCtAAAAAwMzMLUAAAAAAAAAvQAAAAGBm5jBAAAAAAAAAL0AAAADAzMwwQAAAAGBmZi5AAAAAAAAALkAAAABgZmYsQAAAAEAzMytAAAAAoJmZMUAAAACAFK4tQAAAAMDMzClAAAAAwMzMJEAAAABgZmYvQAAAAKCZmStAAAAAgML1H0AAAABA4fotQAAAAAAAAC5AAAAAoJmZLkAAAAAAKdwqQAAAAMDMzChAAAAAQArXL0AAAABAClcuQAAAAEAzszBAAAAAQDMzLkAAAAAgrgcxQAAAAIDr0S1AAAAAgBQuLEAAAABgj8ItQAAAAMDMzC1AAAAAQDMzLEAAAACgmZkvQAAAAIDrUSxAAAAAYI+CMEAAAAAgXA8rQAAAAKCZmSlAAAAAgOvRLUAAAABgZmYtQAAAAAAAAClAAAAAQDPzMEAAAAAghesoQAAAAOCjcClAAAAAQApXLEAAAADAzMwpQAAAAIAUbjJAAAAAgBRuMEAAAACgcL0rQAAAAEDhujJAAAAAIK7HL0AAAAAgXA8vQAAAAKBH4S5AAAAAANcjLUAAAADAHoUtQAAAAGC4HitAAAAAgBQuMEAAAACAwnU1QAAAAGCPwi9AAAAAwMzMLkAAAADAzMwqQAAAAGBmZi9AAAAAYI/CK0AAAACgcL0qQAAAAEDheixAAAAAYGZmLUAAAADAzMwuQAAAAAAAACxAAAAAYGZmK0AAAABguB4rQAAAAMDMzCtAAAAAoHC9K0AAAACgcL0rQAAAAKCZmSxAAAAAgD2KK0AAAAAghWstQAAAAGBmZitAAAAAoJmZKkAAAABgZmYsQAAAAOBReDBAAAAAQOF6LUAAAACgcL0sQAAAAEAzMy5AAAAAAAAAMEAAAABAMzMnQAAAAKBwvSxAAAAAYLgeL0AAAADgUbgrQAAAAOBRuCxAAAAAYGZmLkAAAADAHoUrQAAAAADXoxxAAAAAgOtRMEAAAADAzMwqQAAAAEAzMy9AAAAAoJmZK0AAAADgepQsQAAAAKBHITBAAAAAAAAAMEAAAAAgXI8vQAAAAEAzMy5AAAAAwB6FL0AAAABgj0IuQAAAAMD1KC5AAAAAANejK0AAAABAMzMnQAAAAEAzMy1AAAAAAAAAKEAAAADAHoUSQAAAAAAAADBAAAAAQDMzKEAAAADAzMwwQAAAAKBHYStAAAAAgBQuLUAAAADgo3AvQAAAAOB6FCxAAAAAYLieLEAAAACgcL0uQAAAAEAzMy9AAAAAQArXL0AAAACA69ErQAAAAGC4nidAAAAAYI/CMEAAAACA61EsQAAAACCFaypAAAAAAAAALEAAAAAAAIAtQAAAAIDrUS1AAAAAQOH6KkAAAADgepQjQAAAAEAzMy9AAAAAAACAJ0AAAAAA16MsQAAAAGBmZitAAAAA4FE4KkAAAABAMzMsQAAAAGCPwi5AAAAAAAAALkAAAABAMzMsQAAAAMD1KC5AAAAAAAAALUAAAAAAAAA0QAAAAKCZGTBAAAAAIK7HLUAAAAAAAAAtQAAAAGBmZi1AAAAAQApXL0AAAADAzMwmQAAAAEAzMy9AAAAAQDMzLEAAAABAMzMwQAAAAMDMzDBAAAAAwMzMLkAAAAAAAIAwQAAAAEAzMy9AAAAAQOE6MEAAAAAAAAAxQAAAAKCZmSxAAAAAwMzMMEAAAADAzMwsQAAAAMDMTC9AAAAAAACAI0AAAAAAAAApQAAAAIDCdTBAAAAAwMzMJ0AAAABgZmYnQAAAAGBmZi9AAAAAYGZmMUAAAAAAAAAqQAAAAAAAACxAAAAAANejMUAAAACgmZkrQAAAAEAzMydAAAAAwMzMLUAAAACgmZkvQAAAAGBmZi1AAAAAoJmZJkAAAAAAAAAvQAAAAAAAAC1AAAAAwMzMLkAAAACgmZklQAAAAOB6FC1AAAAAgMJ1LEAAAABgZmYlQAAAAGBmZiZAAAAAYGZmKUAAAAAAAAArQAAAAEAzMyxAAAAAYGZmL0AAAACgmZkuQAAAAMDMzC1AAAAAQDMzJ0AAAAAAAAAvQAAAAKCZmTBAAAAAAAAAJkAAAAAAAAAmQAAAAKCZmS5AAAAAQDMzMUAAAABgZmYlQAAAAGBmZixAAAAAQDOzM0AAAABgZmYmQAAAAKCZmSVAAAAAoJmZMUAAAADAzMwnQAAAAMDMzCdAAAAAAAAALUAAAAAAAIAwQAAAAKCZmS9AAAAAwMzMKUAAAABgZmYtQAAAAKCZmSxAAAAAQApXLkAAAADAzMwwQAAAAIDrUSxAAAAAQDMzLEAAAADAzMwuQAAAAAAAACdAAAAAwPWoLUAAAADAzMwvQAAAAAAAAC9AAAAAAAAAKkAAAADAzMwtQAAAAKCZmS5AAAAAAAAALkAAAAAAAAArQAAAAGBmZi1AAAAAQDMzMUAAAACgmZktQAAAAAAAgDBAAAAAQDMzLkAAAADAzMwqQAAAAAAAADNAAAAAoJkZMkAAAABAM7MwQAAAAKCZmS1AAAAAQDOzMUAAAABgZmYtQAAAAKCZGTBAAAAAwMzMJUAAAABgZmYnQAAAAGBmZi5AAAAAoJmZLkAAAADAzEwwQAAAAMDMzCtAAAAAoJmZKEAAAABgZmYqQAAAAKCZmS1AAAAAwMzMLEAAAABAMzMpQAAAAAAAAC1AAAAAYGZmLEAAAADAzMwwQAAAAKCZmTBAAAAAQDOzMEAAAAAAAAAtQAAAAEAzMyxAAAAAIK7HJkAAAACgcH00QAAAAEAzszFAAAAAQDOzLEAAAABAM7MwQAAAAGBmZixAAAAAYGZmLEAAAABgZuYwQAAAAKCZmSxAAAAAwMzMLkAAAADAHkUwQAAAAKCZmSdAAAAAgMI1MkAAAAAAAAAtQAAAAEAzMzBAAAAAoJmZK0AAAABAMzMnQAAAAEAzMyxAAAAAIFxPM0AAAACAPQotQAAAAEAzMzNAAAAAwB6FFUAAAAAAAAArQAAAAIA9iihAAAAAoJmZLEAAAAAAAAAqQAAAAKCZmSRAAAAAwMxMLEAAAABAM7MwQAAAAEAzMyhAAAAAgOsRMkAAAACgmZktQAAAAAAAAClAAAAAwMxMMkAAAACgmZkpQAAAAMDMDDBAAAAAAAAAJ0AAAADAzEwwQAAAAEAKVy9AAAAAoEfhLUAAAAAAAAAnQAAAAIA9CipAAAAAYGZmLUAAAADAzEwzQAAAAEAzMytAAAAAAACAM0AAAADAzIwyQAAAAAAAACxAAAAAoJmZMEAAAACgmZkuQAAAAGBmZjFAAAAAwMzMLUAAAABAMzMtQAAAAKCZmS1AAAAAwB4FMkAAAABAMzMlQAAAAAAAAClAAAAAYGZmKkAAAADAzMwrQAAAAKCZmTBAAAAAoJmZK0AAAABgZmYrQAAAAGBmZixAAAAAYGZmKkAAAAAAAAAuQAAAAAAAACpAAAAAAAAAMcAAAADAzMwtQAAAAOB6lDBAAAAAoJkZMUAAAABAMzMtQAAAAKCZmS5AAAAAYGZmLkAAAABAM7MjQAAAAGBmZitAAAAAwPWoLkAAAADAzMwsQAAAAMDMzDBAAAAAoJmZLEAAAAAAAAAwQAAAAKCZmS1AAAAAoJmZLUAAAABAMzMrQAAAAGBmZixAAAAAAAAAMEAAAABgZqYwQAAAAGBmZiVAAAAAoJmZLkAAAAAAAAAwQAAAAKCZmTFAAAAAYGZmLkAAAADAzMwuQAAAAGBmZixAAAAAIIXrLkAAAADAzEw0QAAAAMDMDDRAAAAAQDMzKUAAAADAzMwsQAAAAEAzszBAAAAAYGZmK0AAAADA9agxQAAAAGBmZihAAAAAQDMzJ0AAAABAMzMqQAAAAMDMzChAAAAAAAAAMkAAAACgmZkmQAAAAIDrUS1AAAAAYI/CMEAAAACgmRkwQAAAAOB6lCFAAAAAACncLEAAAABguJ4uQAAAAKCZmSxAAAAAAAAAJkAAAAAgrscrQAAAAMDMzC1AAAAAwPUoL0AAAAAAAAAyQAAAAIDr0SpAAAAAAClcLkAAAABACtcjQAAAAAAAAC9AAAAAoHC9L0AAAAAgXI8vQAAAAGBmZi5AAAAAoHA9MUAAAABgZmYpQAAAAMDMTCpAAAAAYGZmJEAAAADAzMwnQAAAAEAzMzFAAAAAoJmZJkAAAACgmZknQAAAAMAeBS1AAAAAoJmZMEAAAAAAAAAqQAAAAMDMzCpAAAAA4FE4LUAAAADgUTgwQAAAAOCj8CtAAAAAYGZmMEAAAABgZmYuQAAAAGBmpjBAAAAAwMxMMEAAAADAzMwrQAAAAEAzszFAAAAA4KNwLUAAAAAAAAArQAAAAMAehS5AAAAAQOE6MEAAAAAghWsuQAAAAGCPgjFAAAAAAAAAK0AAAADgUfgyQAAAAGC4nipAAAAAAClcIUAAAACgmZkpQAAAAGBmZilAAAAAANcjJkAAAABgZmYlQAAAAGBmZjFAAAAAQArXJEAAAAAA1yMuQAAAAMDMzCpAAAAAYGZmKkAAAAAAAAAwQAAAAIAULi1AAAAAANejMkAAAACAFK4tQAAAAGBm5ixAAAAAYGZmKUAAAABAMzMpQAAAAMDMzCdAAAAAAAAAKUAAAACAPQozQAAAAAApHDBAAAAAYLgeLEAAAACA61ESQAAAACCuRyxAAAAAQDMzLkAAAABgZmYqQAAAAEDhei1AAAAAoHD9MUAAAABAM7MqQAAAAEAK1yNAAAAAAAAAK0AAAADA9SguQAAAAAAAACpAAAAAIIVrIEAAAAAghesqQAAAAEAzMy1AAAAAwMzMJ0AAAAAAAIAxQAAAAKCZmS5AAAAAoJmZJUAAAABACtcfQAAAAKCZmSZAAAAAQDMzLUAAAADAzMwoQAAAAGC4ni9AAAAAAACALEAAAADgUXgzQAAAAOBROC9AAAAAAAAAKkAAAADAzMwtQAAAAGBmZiZAAAAAQOH6LUAAAACgmZkZQAAAAMAehQVAAAAAoJmZG0AAAADgo3AuQAAAAMD1KC5AAAAAQDOzMkAAAAAghaswQAAAAGBmZhNAAAAAoJkZMEAAAACgmZknQAAAAGC4HitAAAAAgD2KLEAAAABACtcvQAAAAIA9Ci5AAAAAoJmZJUAAAACAwnUrQAAAAAAAAC1AAAAAIIXrLEAAAAAAAIAwQAAAAMD1KCtAAAAAwPUoMEAAAABA4XoqQAAAAEAzMylAAAAAYI9CJEAAAABgZmYnQAAAAKBwPSpAAAAAQDMzKEAAAABgZmYrQAAAAGBmZi5AAAAAAAAAMEAAAABAMzMpQAAAAGBmZilAAAAAgD0KMEAAAACAPYosQAAAAAAAgCpAAAAAoJmZLEAAAAAgXA8sQAAAAKBHoTFAAAAAgMJ1LEAAAACgcD0sQAAAAEAzMyxAAAAAoHA9KkAAAABgZuYtQAAAAEDh+iRAAAAAIK5HLEAAAACAFC4sQAAAAKCZGTBAAAAAwMzMLUAAAADgetQwQAAAAGCPQi5AAAAAgOvRLEAAAABgZmYwQAAAAGBmZjJAAAAAgD2KLUAAAAAA16MsQAAAAAAAAC9AAAAA4HqULEAAAACAwvUqQAAAAADXIy9AAAAAANcjL0AAAABgj8IsQAAAAIAULi1AAAAAwPWoL0AAAACA69EuQAAAAGBm5jBAAAAAwMzMLUAAAAAgXI8vQAAAAAAAAClAAAAAAClcLEAAAAAAAAAlQAAAAEAzMy5AAAAAYGZmKEAAAADAzMwvQAAAACCF6yVAAAAAgOvRLUAAAACgmZktQAAAAIDC9ShAAAAAAAAAJ0AAAABAMzMnQAAAAEAzMydAAAAAAACAKkAAAABAMzMmQAAAAIA9iipAAAAAoHC9IkAAAACgcL0iQAAAAKCZmS5AAAAAgML1LUAAAABgZmYvQAAAAKCZmS1AAAAAYI9CJ0AAAABgj0InQAAAAIDr0SRAAAAA4KPwLEAAAAAgXA8iQAAAAKCZGTBAAAAAQDMzJ0AAAADAzMwuQAAAAAAAAC9AAAAAAAAALUAAAADAzMwqQAAAAMDMzC9AAAAAQDMzKUAAAACgmZkrQAAAAKCZmShAAAAAYGZmLEAAAACgmZkkQAAAAMDMzCxAAAAAwMzMMkAAAABAMzMrQAAAAOB6lCxAAAAAAACANEAAAADAHgUsQAAAAMDMTDRAAAAAgOtRLkAAAABgZmYoQAAAAEAzMytAAAAAQDMzLEAAAADA9agxQAAAAKCZmStAAAAAQDMzMEAAAACgmRkxQAAAAEAzszFAAAAAwMwMMEAAAAAAAAAmQAAAAOCj8CBAAAAAoJmZKUAAAABAMzMmQAAAAAAAACZAAAAAIIVrKUAAAAAAAAArQAAAAEAzMyVAAAAAoJmZMUAAAAAAAAAtQAAAAMDMzCxAAAAAQDMzJUAAAABgZmYlQAAAAAAAAC5AAAAAQDMzK0AAAABAClcuQAAAAAAAACpAAAAAoJmZKkAAAAAAAAAmQAAAAKCZmS5AAAAAoJmZLUAAAACgmRkwQAAAAMDMzC1AAAAAoEdhLEAAAAAgXI8sQAAAAMDMTCpAAAAAAACAL0AAAADAzMwpQAAAAKCZmSxAAAAAAAAALEAAAABgZmYrQAAAAGCPwiJAAAAAoHC9IUAAAAAAAAAsQAAAAEAzMyRAAAAAoJkZMUAAAAAAAAAwQAAAAEAzMyNAAAAAYGZmJ0AAAACgmZknQAAAAOBROCRAAAAAANcjK0AAAACgmZkuQAAAAGBmZixAAAAAwMzMLEAAAABAM7MwQAAAAAAAACRAAAAAwMzMLkAAAABgZmYvQAAAAEAzMyxAAAAAYGZmMUAAAAAAAAApQAAAAAAAACxAAAAAwMzMJ0AAAACAwnUwQAAAAOBRuCNAAAAAoJmZLEAAAABAMzMsQAAAAEAzMypAAAAAwMzMLkAAAADAzMwuQAAAAGBmZi1AAAAAQDMzK0AAAABgZmYqQAAAAGBmZjRAAAAAwMzMJ0AAAAAA1yMuQAAAAKCZmSxAAAAAYGZmLkAAAACgmZkuQAAAAEDhOjBAAAAAYGZmJ0AAAACgmZkwQAAAAOB6FC1AAAAAwMzMLkAAAAAghesuQAAAAAAAAPh/AAAAAAAAKEAAAABAMzMoQAAAAGBmZi5AAAAAYGZmKkAAAADAzIwyQAAAAEAzMyhAAAAAYGZmJUAAAACgR+EiQAAAAAAAACpAAAAAQOH6MUAAAACgmZknQAAAAMDMzC1AAAAAwMzMK0AAAADAzMwsQAAAAKCZmS5AAAAAYGZmLUAAAACgmRkxQAAAAKCZmSZAAAAAwMzMKEAAAABAMzMsQAAAAEAzMyxAAAAAwMzMK0AAAABAMzMqQAAAAAAAACVAAAAAYGZmKkAAAABgj0IpQAAAAMDMzC1AAAAAYGZmKkAAAACAwjUxQAAAAOB6lCxAAAAAYI8CMkAAAACgmZkoQAAAAMDMzCtAAAAAoJmZKkAAAABgZmY0QAAAAMDMzCxAAAAAYGZmLUAAAACgmZkxQAAAAKCZmSxAAAAAAAAAK0AAAABAMzMuQAAAACCFay1AAAAAQDMzK0AAAACgmZkuQAAAAGBmZidAAAAAgOtRKUAAAACAFC4vQAAAAEAzMytAAAAAQDMzKkAAAACgmZkqQAAAAGCPwjBAAAAAwB6FMEAAAADgUTgvQAAAAMDMzC1AAAAAwMzMMEAAAACgmZkrQAAAAGBmZidAAAAAYGZmKkAAAABgj8IpQAAAAOBRuC1AAAAAoJmZLEAAAACgmZkxQAAAAAAAgDFAAAAAYGZmKkAAAABgj0IqQAAAAOB6FC9AAAAAgD2KLUAAAABAMzMtQAAAAMDMzC1AAAAAQDMzMEAAAAAgrsctQAAAAAAAACxAAAAAwB6FL0AAAABAM7MwQAAAAAAAgDFAAAAAAACAMkAAAADAzMwpQAAAAGCPwixAAAAAgML1LkAAAACgmZktQAAAAMDMTCxAAAAAYGZmK0AAAACgR+EuQAAAAMDMzBVAAAAAAAAAMEAAAADgo/AsQAAAAGBmZitAAAAAIIWrMUAAAADgepQvQAAAAMD1KCpAAAAAgMJ1MkAAAABgZmYxQAAAAKCZmTBAAAAAANejLEAAAACgR+EsQAAAAEAzMypAAAAAgD2KKkAAAAAghesjQAAAAOB6FC5AAAAAwMzMKkAAAABgZmYqQAAAAGBmpjFAAAAAAAAALEAAAACgR2EqQAAAAMDMzCxAAAAAYLgeJEAAAABgZuYxQAAAAGBm5jFAAAAAAAAAKUAAAADA9WgxQAAAAOCj8CxAAAAAwMzMKkAAAABA4fokQAAAAOCjcCtAAAAAwMzMKkAAAADAzMwkQAAAAMDMzDFAAAAAoEfhIkAAAAAA16MxQAAAAKCZmS9AAAAAwPUoFUAAAAAgrsctQAAAAMDMzCpAAAAAAAAAHkAAAABAMzMsQAAAAOBReDFAAAAAoHC9LkAAAABAMzMsQAAAAKCZmSJAAAAAQDMzLUAAAACAFC4iQAAAAMDMzC9AAAAAwPWoJUAAAADAzMwmQAAAAAAAADFAAAAAAAAAM0AAAAAAAIAyQAAAAKCZmSdAAAAAwMzMKUAAAACA69EqQAAAAIDr0TFAAAAAwMzMKkAAAADAzMwuQAAAAEDheipAAAAAQDMzKkAAAABgZmYpQAAAAEAzMzFAAAAAwMzMLUAAAABgj8IrQAAAAMDMTCtAAAAAwB5FMUAAAABAMzMsQAAAAGCPQipAAAAAIK7HKUAAAAAgrkcvQAAAAGCPQi5AAAAAoJmZLEAAAABgZuYqQAAAAMDMTDFAAAAAwMzMKEAAAADgUTgvQAAAAOBRuCxAAAAAoJmZLUAAAABAMzMvQAAAAGCPQi5AAAAAwMzMLUAAAABA4fovQAAAAMDMzCdAAAAAIIUrMEAAAACgmZktQAAAAGBmZjJAAAAAYGZmKkAAAADAHkUyQAAAAGBmJjBAAAAA4KNwJUAAAACgmZkwQAAAACCuRy1AAAAAAClcMUAAAAAAAAAyQAAAAKBH4S1AAAAAQOG6MEAAAABgZmYrQAAAAKCZmStAAAAAoEdhI0AAAADgUbgtQAAAAEAKlzBAAAAAAAAALUAAAACgmZkrQAAAAGCPQi9AAAAAQDMzLEAAAACgR+EtQAAAAEAzsy9AAAAAQDMzL0AAAABgZmYuQAAAAGBm5jBAAAAAoJkZMEAAAABA4fosQAAAAADXIzFAAAAAgOtRK0AAAACAFK4sQAAAAKBHYS9AAAAAgD2KMUAAAACgmZktQAAAACCuRy1AAAAAAAAALkAAAAAAAAAvQAAAAMD1qClAAAAAAAAAKkAAAAAAKVwuQAAAAKCZmSBAAAAA4FG4KkAAAADAzMwwQAAAAGBm5jFAAAAAoHA9LkAAAABA4fogQAAAAIAUri5AAAAAwB6FK0AAAABAMzMrQAAAAOB6FCxAAAAAIIVrLEAAAADAHgUqQAAAAGBm5idAAAAAAAAAL0AAAACA61EoQAAAAIA9ii1AAAAAIIXrKEAAAACgmZkrQAAAAKCZmSxAAAAAQDOzLEAAAADA9egwQAAAAGC4HihAAAAAYI9CL0AAAACgmZksQAAAAMDMTCxAAAAAYGZmKEAAAADgehQmQAAAAKCZmSpAAAAAwMzMJEAAAADAzMwrQAAAAOBROC9AAAAAwB4FL0AAAADAzEwxQAAAAOCjcC9AAAAAgML1J0AAAAAAKVwrQAAAAAAAgDVAAAAAgBSuLEAAAAAA16MqQAAAAKBH4SlAAAAAoJkZIkAAAABgZmYxQAAAAKCZGSxAAAAA4FE4L0AAAACAwvUiQAAAACCuRyhAAAAAAAAAK0AAAAAA1yMsQAAAAIA9ii1AAAAAYI9CLkAAAABAMzMtQAAAAKCZmS9AAAAAIFwPLEAAAABAMzMsQAAAAADXoyZAAAAAoEdhJ0AAAACA69EyQAAAAOBROChAAAAAgD0KMUAAAACgmRkuQAAAAMDMzC9AAAAAwMzML0AAAADAzMwyQAAAAEAzMyxAAAAAAAAAL0AAAABgj8IuQAAAAADXIyhAAAAAwPWoKkAAAABAMzMoQAAAAIAUrihAAAAAoJkZMEAAAACAFC4sQAAAAADXIy5AAAAAwMxMM0AAAADAzEwpQAAAAMDMzCtAAAAAgD0KKkAAAAAA1yMnQAAAAMDMzCpAAAAA4KPwLkAAAAAgrscqQAAAAMAeBSVAAAAAoJmZMUAAAABguJ4pQAAAAAAAgDBAAAAA4HoUJEAAAACgmZkoQAAAAGCPwhhAAAAAACncL0AAAABAMzMsQAAAAIDrUS5AAAAAoJmZKUAAAAAgXI8nQAAAAMD1qC5AAAAAoJmZLkAAAAAAAAAsQAAAAIAULilAAAAAgBQuMkAAAABgj8IuQAAAAAAAwDFAAAAAwPWoLEAAAABACtcjQAAAAIA9iilAAAAAYGZmLUAAAADAzMwuQAAAAOB6lCpAAAAAYGbmMkAAAABAMzMuQAAAAGBmZi9AAAAAwMzMIUAAAACAwvUpQAAAAMD1KCxAAAAAQDMzLkAAAACgR2EoQAAAAKBHYS9AAAAAAAAALkAAAACgR+EoQAAAAEDhujJAAAAAYGZmMEAAAACAFC4uQAAAAAAAACNAAAAAoJkZKkAAAAAgXA8uQAAAAGBm5i5AAAAA4FH4MEAAAABgZmYrQAAAAGBmZi9AAAAAwMzMLUAAAAAAKdwsQAAAAGCPwihAAAAAYLieMEAAAAAAAAArQAAAAAAAADFAAAAAQDMzK0AAAABAMzMsQAAAAGBmZi5AAAAAgBSuK0AAAAAAAAAwQAAAAKCZGTFAAAAAoJmZKkAAAACgmZkzQAAAAKCZmS1AAAAAQOH6K0AAAAAAAAAvQAAAAADXIy1AAAAAoEdhKkAAAADgepQuQAAAAKBwvS5AAAAAgD0KL0AAAAAAAAAuQAAAAMAeBShAAAAAgML1IkAAAAAAAIAwQAAAAIDr0SpAAAAAQDMzKkAAAADAHoUqQAAAAIA9CipAAAAAYGZmMEAAAADAzMwmQAAAAAAAADBAAAAAAClcKkAAAABgZmYlQAAAAOBRuBxAAAAAwB4FKkAAAAAgXA8vQAAAAADXox9AAAAAoJmZLUAAAAAA1yMrQAAAAGBmZitAAAAAAAAAJ0AAAADgo3AYQAAAAKCZmSxAAAAAoJmZKUAAAABAMzMvQAAAAEAKVy9AAAAA4FG4KUAAAABAMzMuQAAAAOCj8CFAAAAAwMzMK0AAAABAMzMtQAAAAKCZmSxAAAAAIK5HIkAAAABACtctQAAAAIDr0S5AAAAAQOF6K0AAAABA4foiQAAAAAAAACxAAAAAYLheMUAAAABgZmYsQAAAAAAAAC5AAAAAYGZmKEAAAACA61ErQAAAAKCZmS9AAAAAQDMzK0AAAADAzEwxQAAAAKBwPStAAAAAgD0KMEAAAAAgrkcvQAAAAMAeBS5AAAAAIK7HLkAAAABAMzMpQAAAAMDMzCpAAAAAQDMzLUAAAADAzEwsQAAAAAAAADBAAAAAYGZmLkAAAABgZmYpQAAAAGBmZjBAAAAAwMzMLkAAAAAAKVwtQAAAAKCZmSlAAAAAAAAAKkAAAABAMzMtQAAAAIAUri1AAAAA4FE4KkAAAACAPQouQAAAAMDMzCxAAAAAwMxML0AAAACAFK4uQAAAAKCZGTBAAAAAoJkZL0AAAABguJ4uQAAAAAAAACxAAAAAIIXrJUAAAAAgrkcrQAAAAMAexTBAAAAAgML1JEA=",
        "encoding": "base64",
        "path": [
         "_data",
         0,
         "x",
         "value"
        ]
       },
       {
        "data": "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",
        "encoding": "base64",
        "path": [
         "_data",
         0,
         "y",
         "value"
        ]
       },
       {
        "data": "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",
        "encoding": "base64",
        "path": [
         "_data",
         0,
         "z",
         "value"
        ]
       },
       {
        "data": "AAAAAAAAMcAAAAAAAIAZwAAAAAAAABFAAAAAAADALUAAAAAAAIA5QA==",
        "encoding": "base64",
        "path": [
         "_layout",
         "xaxis",
         "tickvals",
         "value"
        ]
       },
       {
        "data": "B9aREC3dAcCQH4NAreTwv+DO1gH6D78/bPm9gKzG9D/0Qq+wLM4DQA==",
        "encoding": "base64",
        "path": [
         "_layout",
         "yaxis",
         "tickvals",
         "value"
        ]
       },
       {
        "data": "AAAAAAAAMcAAAAAAAIAZwAAAAAAAABFAAAAAAADALUAAAAAAAIA5QA==",
        "encoding": "base64",
        "path": [
         "_layout",
         "scene",
         "xaxis",
         "tickvals",
         "value"
        ]
       },
       {
        "data": "B9aREC3dAcCQH4NAreTwv+DO1gH6D78/bPm9gKzG9D/0Qq+wLM4DQA==",
        "encoding": "base64",
        "path": [
         "_layout",
         "scene",
         "yaxis",
         "tickvals",
         "value"
        ]
       },
       {
        "data": "Vy33DfJsAsDU/vj5Qjzjv9pb9SGhnfE/j5tz4LFsBkCYRPaXSQUSQA==",
        "encoding": "base64",
        "path": [
         "_layout",
         "scene",
         "zaxis",
         "tickvals",
         "value"
        ]
       }
      ],
      "model_module": "jupyterlab-plotly",
      "model_module_version": "^5.9.0",
      "model_name": "FigureModel",
      "state": {
       "_config": {
        "plotlyServerURL": "https://plot.ly"
       },
       "_data": [
        {
         "marker": {
          "color": {
           "dtype": "float64",
           "shape": [
            4438
           ]
          },
          "colorscale": [
           [
            0,
            "#000004"
           ],
           [
            0.1111111111111111,
            "#1b0c41"
           ],
           [
            0.2222222222222222,
            "#4a0c6b"
           ],
           [
            0.3333333333333333,
            "#781c6d"
           ],
           [
            0.4444444444444444,
            "#a52c60"
           ],
           [
            0.5555555555555556,
            "#cf4446"
           ],
           [
            0.6666666666666666,
            "#ed6925"
           ],
           [
            0.7777777777777778,
            "#fb9b06"
           ],
           [
            0.8888888888888888,
            "#f7d13d"
           ],
           [
            1,
            "#fcffa4"
           ]
          ],
          "size": {
           "dtype": "float64",
           "shape": [
            4438
           ]
          }
         },
         "mode": "markers",
         "type": "scatter3d",
         "uid": "49126dbb-c134-4a21-8d4c-1db33ec3e7d5",
         "x": {
          "dtype": "float64",
          "shape": [
           4438
          ]
         },
         "y": {
          "dtype": "float64",
          "shape": [
           4438
          ]
         },
         "z": {
          "dtype": "float64",
          "shape": [
           4438
          ]
         }
        }
       ],
       "_js2py_layoutDelta": {
        "layout_delta": {
         "activeshape": {
          "fillcolor": "rgb(255,0,255)",
          "opacity": 0.5
         },
         "annotations": [],
         "autosize": true,
         "autotypenumbers": "strict",
         "calendar": "gregorian",
         "clickmode": "event",
         "colorscale": {
          "diverging": [
           [
            0,
            "#8e0152"
           ],
           [
            0.1,
            "#c51b7d"
           ],
           [
            0.2,
            "#de77ae"
           ],
           [
            0.3,
            "#f1b6da"
           ],
           [
            0.4,
            "#fde0ef"
           ],
           [
            0.5,
            "#f7f7f7"
           ],
           [
            0.6,
            "#e6f5d0"
           ],
           [
            0.7,
            "#b8e186"
           ],
           [
            0.8,
            "#7fbc41"
           ],
           [
            0.9,
            "#4d9221"
           ],
           [
            1,
            "#276419"
           ]
          ],
          "sequential": [
           [
            0,
            "#0d0887"
           ],
           [
            0.1111111111111111,
            "#46039f"
           ],
           [
            0.2222222222222222,
            "#7201a8"
           ],
           [
            0.3333333333333333,
            "#9c179e"
           ],
           [
            0.4444444444444444,
            "#bd3786"
           ],
           [
            0.5555555555555556,
            "#d8576b"
           ],
           [
            0.6666666666666666,
            "#ed7953"
           ],
           [
            0.7777777777777778,
            "#fb9f3a"
           ],
           [
            0.8888888888888888,
            "#fdca26"
           ],
           [
            1,
            "#f0f921"
           ]
          ],
          "sequentialminus": [
           [
            0,
            "#0d0887"
           ],
           [
            0.1111111111111111,
            "#46039f"
           ],
           [
            0.2222222222222222,
            "#7201a8"
           ],
           [
            0.3333333333333333,
            "#9c179e"
           ],
           [
            0.4444444444444444,
            "#bd3786"
           ],
           [
            0.5555555555555556,
            "#d8576b"
           ],
           [
            0.6666666666666666,
            "#ed7953"
           ],
           [
            0.7777777777777778,
            "#fb9f3a"
           ],
           [
            0.8888888888888888,
            "#fdca26"
           ],
           [
            1,
            "#f0f921"
           ]
          ]
         },
         "colorway": [
          "#636efa",
          "#EF553B",
          "#00cc96",
          "#ab63fa",
          "#FFA15A",
          "#19d3f3",
          "#FF6692",
          "#B6E880",
          "#FF97FF",
          "#FECB52"
         ],
         "dragmode": "zoom",
         "font": {
          "color": "#2a3f5f",
          "family": "\"Open Sans\", verdana, arial, sans-serif",
          "size": 12
         },
         "height": 450,
         "hidesources": false,
         "hoverdistance": 20,
         "hoverlabel": {
          "align": "left",
          "font": {
           "family": "Arial, sans-serif",
           "size": 13
          },
          "grouptitlefont": {
           "family": "Arial, sans-serif",
           "size": 13
          },
          "namelength": 15
         },
         "hovermode": "closest",
         "images": [],
         "margin": {
          "autoexpand": true,
          "pad": 0
         },
         "modebar": {
          "activecolor": "rgba(68, 68, 68, 0.7)",
          "add": "",
          "bgcolor": "rgba(255, 255, 255, 0.5)",
          "color": "rgba(68, 68, 68, 0.3)",
          "orientation": "h",
          "remove": ""
         },
         "newshape": {
          "drawdirection": "diagonal",
          "fillcolor": "rgba(0,0,0,0)",
          "fillrule": "evenodd",
          "layer": "above",
          "line": {
           "color": "#444",
           "dash": "solid",
           "width": 4
          },
          "opacity": 1
         },
         "paper_bgcolor": "white",
         "scene": {
          "annotations": [],
          "aspectmode": "auto",
          "aspectratio": {
           "x": 1,
           "y": 1,
           "z": 1
          },
          "bgcolor": "rgba(0,0,0,0)",
          "camera": {
           "center": {
            "x": 0,
            "y": 0,
            "z": 0
           },
           "eye": {
            "x": 1.25,
            "y": 1.25,
            "z": 1.25
           },
           "projection": {
            "type": "perspective"
           },
           "up": {
            "x": 0,
            "y": 0,
            "z": 1
           }
          },
          "domain": {
           "x": [
            0,
            1
           ],
           "y": [
            0,
            1
           ]
          },
          "dragmode": "turntable",
          "hovermode": "closest",
          "xaxis": {
           "autorange": true,
           "autotypenumbers": "strict",
           "backgroundcolor": "#E5ECF6",
           "color": "#444",
           "exponentformat": "B",
           "gridcolor": "white",
           "griddash": "solid",
           "gridwidth": 2,
           "hoverformat": "",
           "minexponent": 3,
           "range": [
            -1,
            6
           ],
           "rangemode": "normal",
           "separatethousands": false,
           "showaxeslabels": true,
           "showbackground": true,
           "showexponent": "all",
           "showgrid": true,
           "showline": false,
           "showspikes": true,
           "showticklabels": true,
           "spikecolor": "#444",
           "spikesides": true,
           "spikethickness": 2,
           "tickangle": "auto",
           "tickfont": {
            "color": "#2a3f5f",
            "family": "\"Open Sans\", verdana, arial, sans-serif",
            "size": 12
           },
           "tickformat": "",
           "tickmode": "array",
           "tickprefix": "",
           "ticks": "",
           "ticksuffix": "",
           "title": {
            "font": {
             "color": "#2a3f5f",
             "family": "\"Open Sans\", verdana, arial, sans-serif",
             "size": 14
            }
           },
           "type": "linear",
           "visible": true,
           "zeroline": true,
           "zerolinecolor": "white",
           "zerolinewidth": 1
          },
          "yaxis": {
           "autorange": true,
           "autotypenumbers": "strict",
           "backgroundcolor": "#E5ECF6",
           "color": "#444",
           "exponentformat": "B",
           "gridcolor": "white",
           "griddash": "solid",
           "gridwidth": 2,
           "hoverformat": "",
           "minexponent": 3,
           "range": [
            -1,
            4
           ],
           "rangemode": "normal",
           "separatethousands": false,
           "showaxeslabels": true,
           "showbackground": true,
           "showexponent": "all",
           "showgrid": true,
           "showline": false,
           "showspikes": true,
           "showticklabels": true,
           "spikecolor": "#444",
           "spikesides": true,
           "spikethickness": 2,
           "tickangle": "auto",
           "tickfont": {
            "color": "#2a3f5f",
            "family": "\"Open Sans\", verdana, arial, sans-serif",
            "size": 12
           },
           "tickformat": "",
           "tickmode": "array",
           "tickprefix": "",
           "ticks": "",
           "ticksuffix": "",
           "title": {
            "font": {
             "color": "#2a3f5f",
             "family": "\"Open Sans\", verdana, arial, sans-serif",
             "size": 14
            }
           },
           "type": "linear",
           "visible": true,
           "zeroline": true,
           "zerolinecolor": "white",
           "zerolinewidth": 1
          },
          "zaxis": {
           "autorange": true,
           "autotypenumbers": "strict",
           "backgroundcolor": "#E5ECF6",
           "color": "#444",
           "exponentformat": "B",
           "gridcolor": "white",
           "griddash": "solid",
           "gridwidth": 2,
           "hoverformat": "",
           "minexponent": 3,
           "range": [
            -1,
            6
           ],
           "rangemode": "normal",
           "separatethousands": false,
           "showaxeslabels": true,
           "showbackground": true,
           "showexponent": "all",
           "showgrid": true,
           "showline": false,
           "showspikes": true,
           "showticklabels": true,
           "spikecolor": "#444",
           "spikesides": true,
           "spikethickness": 2,
           "tickangle": "auto",
           "tickfont": {
            "color": "#2a3f5f",
            "family": "\"Open Sans\", verdana, arial, sans-serif",
            "size": 12
           },
           "tickformat": "",
           "tickmode": "array",
           "tickprefix": "",
           "ticks": "",
           "ticksuffix": "",
           "title": {
            "font": {
             "color": "#2a3f5f",
             "family": "\"Open Sans\", verdana, arial, sans-serif",
             "size": 14
            }
           },
           "type": "linear",
           "visible": true,
           "zeroline": true,
           "zerolinecolor": "white",
           "zerolinewidth": 1
          }
         },
         "separators": ".,",
         "shapes": [],
         "showlegend": false,
         "sliders": [],
         "spikedistance": -1,
         "title": {
          "font": {
           "color": "#2a3f5f",
           "family": "\"Open Sans\", verdana, arial, sans-serif",
           "size": 17
          },
          "pad": {
           "b": 0,
           "l": 0,
           "r": 0,
           "t": 0
          },
          "text": "Click to enter Plot title",
          "x": 0.05,
          "xanchor": "auto",
          "xref": "container",
          "y": "auto",
          "yanchor": "auto",
          "yref": "container"
         },
         "uniformtext": {
          "mode": false
         },
         "updatemenus": [],
         "width": 983.862
        },
        "layout_edit_id": 32
       },
       "_js2py_pointsCallback": {},
       "_js2py_relayout": {
        "relayout_data": {
         "autosize": true
        },
        "source_view_id": "b25657"
       },
       "_js2py_restyle": {},
       "_js2py_update": {},
       "_last_layout_edit_id": 32,
       "_last_trace_edit_id": 32,
       "_layout": {
        "margin": {
         "b": 0,
         "l": 0,
         "r": 0,
         "t": 0
        },
        "scene": {
         "xaxis": {
          "tickvals": {
           "dtype": "float64",
           "shape": [
            5
           ]
          },
          "title": {
           "text": "Al2O3"
          }
         },
         "yaxis": {
          "tickvals": {
           "dtype": "float64",
           "shape": [
            5
           ]
          },
          "title": {
           "text": "Log(CaO)"
          }
         },
         "zaxis": {
          "tickvals": {
           "dtype": "float64",
           "shape": [
            5
           ]
          },
          "title": {
           "text": "Log(Ba)"
          }
         }
        },
        "template": {
         "data": {
          "bar": [
           {
            "error_x": {
             "color": "#2a3f5f"
            },
            "error_y": {
             "color": "#2a3f5f"
            },
            "marker": {
             "line": {
              "color": "#E5ECF6",
              "width": 0.5
             },
             "pattern": {
              "fillmode": "overlay",
              "size": 10,
              "solidity": 0.2
             }
            },
            "type": "bar"
           }
          ],
          "barpolar": [
           {
            "marker": {
             "line": {
              "color": "#E5ECF6",
              "width": 0.5
             },
             "pattern": {
              "fillmode": "overlay",
              "size": 10,
              "solidity": 0.2
             }
            },
            "type": "barpolar"
           }
          ],
          "carpet": [
           {
            "aaxis": {
             "endlinecolor": "#2a3f5f",
             "gridcolor": "white",
             "linecolor": "white",
             "minorgridcolor": "white",
             "startlinecolor": "#2a3f5f"
            },
            "baxis": {
             "endlinecolor": "#2a3f5f",
             "gridcolor": "white",
             "linecolor": "white",
             "minorgridcolor": "white",
             "startlinecolor": "#2a3f5f"
            },
            "type": "carpet"
           }
          ],
          "choropleth": [
           {
            "colorbar": {
             "outlinewidth": 0,
             "ticks": ""
            },
            "type": "choropleth"
           }
          ],
          "contour": [
           {
            "colorbar": {
             "outlinewidth": 0,
             "ticks": ""
            },
            "colorscale": [
             [
              0,
              "#0d0887"
             ],
             [
              0.1111111111111111,
              "#46039f"
             ],
             [
              0.2222222222222222,
              "#7201a8"
             ],
             [
              0.3333333333333333,
              "#9c179e"
             ],
             [
              0.4444444444444444,
              "#bd3786"
             ],
             [
              0.5555555555555556,
              "#d8576b"
             ],
             [
              0.6666666666666666,
              "#ed7953"
             ],
             [
              0.7777777777777778,
              "#fb9f3a"
             ],
             [
              0.8888888888888888,
              "#fdca26"
             ],
             [
              1,
              "#f0f921"
             ]
            ],
            "type": "contour"
           }
          ],
          "contourcarpet": [
           {
            "colorbar": {
             "outlinewidth": 0,
             "ticks": ""
            },
            "type": "contourcarpet"
           }
          ],
          "heatmap": [
           {
            "colorbar": {
             "outlinewidth": 0,
             "ticks": ""
            },
            "colorscale": [
             [
              0,
              "#0d0887"
             ],
             [
              0.1111111111111111,
              "#46039f"
             ],
             [
              0.2222222222222222,
              "#7201a8"
             ],
             [
              0.3333333333333333,
              "#9c179e"
             ],
             [
              0.4444444444444444,
              "#bd3786"
             ],
             [
              0.5555555555555556,
              "#d8576b"
             ],
             [
              0.6666666666666666,
              "#ed7953"
             ],
             [
              0.7777777777777778,
              "#fb9f3a"
             ],
             [
              0.8888888888888888,
              "#fdca26"
             ],
             [
              1,
              "#f0f921"
             ]
            ],
            "type": "heatmap"
           }
          ],
          "heatmapgl": [
           {
            "colorbar": {
             "outlinewidth": 0,
             "ticks": ""
            },
            "colorscale": [
             [
              0,
              "#0d0887"
             ],
             [
              0.1111111111111111,
              "#46039f"
             ],
             [
              0.2222222222222222,
              "#7201a8"
             ],
             [
              0.3333333333333333,
              "#9c179e"
             ],
             [
              0.4444444444444444,
              "#bd3786"
             ],
             [
              0.5555555555555556,
              "#d8576b"
             ],
             [
              0.6666666666666666,
              "#ed7953"
             ],
             [
              0.7777777777777778,
              "#fb9f3a"
             ],
             [
              0.8888888888888888,
              "#fdca26"
             ],
             [
              1,
              "#f0f921"
             ]
            ],
            "type": "heatmapgl"
           }
          ],
          "histogram": [
           {
            "marker": {
             "pattern": {
              "fillmode": "overlay",
              "size": 10,
              "solidity": 0.2
             }
            },
            "type": "histogram"
           }
          ],
          "histogram2d": [
           {
            "colorbar": {
             "outlinewidth": 0,
             "ticks": ""
            },
            "colorscale": [
             [
              0,
              "#0d0887"
             ],
             [
              0.1111111111111111,
              "#46039f"
             ],
             [
              0.2222222222222222,
              "#7201a8"
             ],
             [
              0.3333333333333333,
              "#9c179e"
             ],
             [
              0.4444444444444444,
              "#bd3786"
             ],
             [
              0.5555555555555556,
              "#d8576b"
             ],
             [
              0.6666666666666666,
              "#ed7953"
             ],
             [
              0.7777777777777778,
              "#fb9f3a"
             ],
             [
              0.8888888888888888,
              "#fdca26"
             ],
             [
              1,
              "#f0f921"
             ]
            ],
            "type": "histogram2d"
           }
          ],
          "histogram2dcontour": [
           {
            "colorbar": {
             "outlinewidth": 0,
             "ticks": ""
            },
            "colorscale": [
             [
              0,
              "#0d0887"
             ],
             [
              0.1111111111111111,
              "#46039f"
             ],
             [
              0.2222222222222222,
              "#7201a8"
             ],
             [
              0.3333333333333333,
              "#9c179e"
             ],
             [
              0.4444444444444444,
              "#bd3786"
             ],
             [
              0.5555555555555556,
              "#d8576b"
             ],
             [
              0.6666666666666666,
              "#ed7953"
             ],
             [
              0.7777777777777778,
              "#fb9f3a"
             ],
             [
              0.8888888888888888,
              "#fdca26"
             ],
             [
              1,
              "#f0f921"
             ]
            ],
            "type": "histogram2dcontour"
           }
          ],
          "mesh3d": [
           {
            "colorbar": {
             "outlinewidth": 0,
             "ticks": ""
            },
            "type": "mesh3d"
           }
          ],
          "parcoords": [
           {
            "line": {
             "colorbar": {
              "outlinewidth": 0,
              "ticks": ""
             }
            },
            "type": "parcoords"
           }
          ],
          "pie": [
           {
            "automargin": true,
            "type": "pie"
           }
          ],
          "scatter": [
           {
            "fillpattern": {
             "fillmode": "overlay",
             "size": 10,
             "solidity": 0.2
            },
            "type": "scatter"
           }
          ],
          "scatter3d": [
           {
            "line": {
             "colorbar": {
              "outlinewidth": 0,
              "ticks": ""
             }
            },
            "marker": {
             "colorbar": {
              "outlinewidth": 0,
              "ticks": ""
             }
            },
            "type": "scatter3d"
           }
          ],
          "scattercarpet": [
           {
            "marker": {
             "colorbar": {
              "outlinewidth": 0,
              "ticks": ""
             }
            },
            "type": "scattercarpet"
           }
          ],
          "scattergeo": [
           {
            "marker": {
             "colorbar": {
              "outlinewidth": 0,
              "ticks": ""
             }
            },
            "type": "scattergeo"
           }
          ],
          "scattergl": [
           {
            "marker": {
             "colorbar": {
              "outlinewidth": 0,
              "ticks": ""
             }
            },
            "type": "scattergl"
           }
          ],
          "scattermapbox": [
           {
            "marker": {
             "colorbar": {
              "outlinewidth": 0,
              "ticks": ""
             }
            },
            "type": "scattermapbox"
           }
          ],
          "scatterpolar": [
           {
            "marker": {
             "colorbar": {
              "outlinewidth": 0,
              "ticks": ""
             }
            },
            "type": "scatterpolar"
           }
          ],
          "scatterpolargl": [
           {
            "marker": {
             "colorbar": {
              "outlinewidth": 0,
              "ticks": ""
             }
            },
            "type": "scatterpolargl"
           }
          ],
          "scatterternary": [
           {
            "marker": {
             "colorbar": {
              "outlinewidth": 0,
              "ticks": ""
             }
            },
            "type": "scatterternary"
           }
          ],
          "surface": [
           {
            "colorbar": {
             "outlinewidth": 0,
             "ticks": ""
            },
            "colorscale": [
             [
              0,
              "#0d0887"
             ],
             [
              0.1111111111111111,
              "#46039f"
             ],
             [
              0.2222222222222222,
              "#7201a8"
             ],
             [
              0.3333333333333333,
              "#9c179e"
             ],
             [
              0.4444444444444444,
              "#bd3786"
             ],
             [
              0.5555555555555556,
              "#d8576b"
             ],
             [
              0.6666666666666666,
              "#ed7953"
             ],
             [
              0.7777777777777778,
              "#fb9f3a"
             ],
             [
              0.8888888888888888,
              "#fdca26"
             ],
             [
              1,
              "#f0f921"
             ]
            ],
            "type": "surface"
           }
          ],
          "table": [
           {
            "cells": {
             "fill": {
              "color": "#EBF0F8"
             },
             "line": {
              "color": "white"
             }
            },
            "header": {
             "fill": {
              "color": "#C8D4E3"
             },
             "line": {
              "color": "white"
             }
            },
            "type": "table"
           }
          ]
         },
         "layout": {
          "annotationdefaults": {
           "arrowcolor": "#2a3f5f",
           "arrowhead": 0,
           "arrowwidth": 1
          },
          "autotypenumbers": "strict",
          "coloraxis": {
           "colorbar": {
            "outlinewidth": 0,
            "ticks": ""
           }
          },
          "colorscale": {
           "diverging": [
            [
             0,
             "#8e0152"
            ],
            [
             0.1,
             "#c51b7d"
            ],
            [
             0.2,
             "#de77ae"
            ],
            [
             0.3,
             "#f1b6da"
            ],
            [
             0.4,
             "#fde0ef"
            ],
            [
             0.5,
             "#f7f7f7"
            ],
            [
             0.6,
             "#e6f5d0"
            ],
            [
             0.7,
             "#b8e186"
            ],
            [
             0.8,
             "#7fbc41"
            ],
            [
             0.9,
             "#4d9221"
            ],
            [
             1,
             "#276419"
            ]
           ],
           "sequential": [
            [
             0,
             "#0d0887"
            ],
            [
             0.1111111111111111,
             "#46039f"
            ],
            [
             0.2222222222222222,
             "#7201a8"
            ],
            [
             0.3333333333333333,
             "#9c179e"
            ],
            [
             0.4444444444444444,
             "#bd3786"
            ],
            [
             0.5555555555555556,
             "#d8576b"
            ],
            [
             0.6666666666666666,
             "#ed7953"
            ],
            [
             0.7777777777777778,
             "#fb9f3a"
            ],
            [
             0.8888888888888888,
             "#fdca26"
            ],
            [
             1,
             "#f0f921"
            ]
           ],
           "sequentialminus": [
            [
             0,
             "#0d0887"
            ],
            [
             0.1111111111111111,
             "#46039f"
            ],
            [
             0.2222222222222222,
             "#7201a8"
            ],
            [
             0.3333333333333333,
             "#9c179e"
            ],
            [
             0.4444444444444444,
             "#bd3786"
            ],
            [
             0.5555555555555556,
             "#d8576b"
            ],
            [
             0.6666666666666666,
             "#ed7953"
            ],
            [
             0.7777777777777778,
             "#fb9f3a"
            ],
            [
             0.8888888888888888,
             "#fdca26"
            ],
            [
             1,
             "#f0f921"
            ]
           ]
          },
          "colorway": [
           "#636efa",
           "#EF553B",
           "#00cc96",
           "#ab63fa",
           "#FFA15A",
           "#19d3f3",
           "#FF6692",
           "#B6E880",
           "#FF97FF",
           "#FECB52"
          ],
          "font": {
           "color": "#2a3f5f"
          },
          "geo": {
           "bgcolor": "white",
           "lakecolor": "white",
           "landcolor": "#E5ECF6",
           "showlakes": true,
           "showland": true,
           "subunitcolor": "white"
          },
          "hoverlabel": {
           "align": "left"
          },
          "hovermode": "closest",
          "mapbox": {
           "style": "light"
          },
          "paper_bgcolor": "white",
          "plot_bgcolor": "#E5ECF6",
          "polar": {
           "angularaxis": {
            "gridcolor": "white",
            "linecolor": "white",
            "ticks": ""
           },
           "bgcolor": "#E5ECF6",
           "radialaxis": {
            "gridcolor": "white",
            "linecolor": "white",
            "ticks": ""
           }
          },
          "scene": {
           "xaxis": {
            "backgroundcolor": "#E5ECF6",
            "gridcolor": "white",
            "gridwidth": 2,
            "linecolor": "white",
            "showbackground": true,
            "ticks": "",
            "zerolinecolor": "white"
           },
           "yaxis": {
            "backgroundcolor": "#E5ECF6",
            "gridcolor": "white",
            "gridwidth": 2,
            "linecolor": "white",
            "showbackground": true,
            "ticks": "",
            "zerolinecolor": "white"
           },
           "zaxis": {
            "backgroundcolor": "#E5ECF6",
            "gridcolor": "white",
            "gridwidth": 2,
            "linecolor": "white",
            "showbackground": true,
            "ticks": "",
            "zerolinecolor": "white"
           }
          },
          "shapedefaults": {
           "line": {
            "color": "#2a3f5f"
           }
          },
          "ternary": {
           "aaxis": {
            "gridcolor": "white",
            "linecolor": "white",
            "ticks": ""
           },
           "baxis": {
            "gridcolor": "white",
            "linecolor": "white",
            "ticks": ""
           },
           "bgcolor": "#E5ECF6",
           "caxis": {
            "gridcolor": "white",
            "linecolor": "white",
            "ticks": ""
           }
          },
          "title": {
           "x": 0.05
          },
          "xaxis": {
           "automargin": true,
           "gridcolor": "white",
           "linecolor": "white",
           "ticks": "",
           "title": {
            "standoff": 15
           },
           "zerolinecolor": "white",
           "zerolinewidth": 2
          },
          "yaxis": {
           "automargin": true,
           "gridcolor": "white",
           "linecolor": "white",
           "ticks": "",
           "title": {
            "standoff": 15
           },
           "zerolinecolor": "white",
           "zerolinewidth": 2
          }
         }
        },
        "xaxis": {
         "exponentformat": "e",
         "tickvals": {
          "dtype": "float64",
          "shape": [
           5
          ]
         },
         "title": {
          "text": "Al2O3"
         }
        },
        "yaxis": {
         "exponentformat": "e",
         "tickvals": {
          "dtype": "float64",
          "shape": [
           5
          ]
         },
         "title": {
          "text": "Log(CaO)"
         }
        }
       },
       "_py2js_animate": {},
       "_py2js_moveTraces": {},
       "_py2js_removeLayoutProps": {},
       "_py2js_removeTraceProps": {},
       "_py2js_restyle": {},
       "_view_count": 1
      }
     },
     "3a475e371a4b41bbafe2138f5b166297": {
      "model_module": "@jupyter-widgets/base",
      "model_module_version": "1.2.0",
      "model_name": "LayoutModel",
      "state": {}
     },
     "3a7fbcbfa2724b4da3f20625b3278d17": {
      "model_module": "@jupyter-widgets/controls",
      "model_module_version": "1.5.0",
      "model_name": "DescriptionStyleModel",
      "state": {
       "description_width": "initial"
      }
     },
     "3a82e3f8a2a643d281490f720511fdfd": {
      "model_module": "@jupyter-widgets/controls",
      "model_module_version": "1.5.0",
      "model_name": "DescriptionStyleModel",
      "state": {
       "description_width": "initial"
      }
     },
     "3acea637f4fb430aae39a939130fedca": {
      "model_module": "@jupyter-widgets/controls",
      "model_module_version": "1.5.0",
      "model_name": "ToggleButtonModel",
      "state": {
       "description": "Refresh Plot",
       "layout": "IPY_MODEL_388f9179316247a0906b80313c8b8873",
       "style": "IPY_MODEL_480e04100970404985b8319b464840f5",
       "value": true
      }
     },
     "3ad039bf959c4002893f6b067aae29b4": {
      "model_module": "@jupyter-widgets/controls",
      "model_module_version": "1.5.0",
      "model_name": "DescriptionStyleModel",
      "state": {
       "description_width": "initial"
      }
     },
     "3b0e0c3c097f4235bac05b6591471c26": {
      "model_module": "@jupyter-widgets/controls",
      "model_module_version": "1.5.0",
      "model_name": "ButtonStyleModel",
      "state": {}
     },
     "3b25a8f9179a48bfa4768f2f72773493": {
      "model_module": "@jupyter-widgets/controls",
      "model_module_version": "1.5.0",
      "model_name": "DescriptionStyleModel",
      "state": {
       "description_width": ""
      }
     },
     "3b399fec1a624f8e85940d64c8a90b0a": {
      "model_module": "@jupyter-widgets/base",
      "model_module_version": "1.2.0",
      "model_name": "LayoutModel",
      "state": {
       "min_width": "6em",
       "width": "6em"
      }
     },
     "3b6852499a9a44b7a556322f2bd824b9": {
      "model_module": "@jupyter-widgets/controls",
      "model_module_version": "1.5.0",
      "model_name": "HBoxModel",
      "state": {
       "children": [
        "IPY_MODEL_57050e4e774e49b98c8ddab2f4170581",
        "IPY_MODEL_99dab7e6c69f4d8995ea9ce0e0641e87"
       ],
       "layout": "IPY_MODEL_df87d10e38cb466db053f6f46d69172f"
      }
     },
     "3c11a1f52f9d48c5b22066bb4b184b81": {
      "model_module": "@jupyter-widgets/controls",
      "model_module_version": "1.5.0",
      "model_name": "CheckboxModel",
      "state": {
       "description": "Active",
       "disabled": false,
       "indent": false,
       "layout": "IPY_MODEL_14709175f6484883b462eadd442df2fe",
       "style": "IPY_MODEL_25200d351e8f4cd68c92850b29bf564d",
       "value": true
      }
     },
     "3c6eb20125c64a2da1242bcdfcea9f55": {
      "model_module": "@jupyter-widgets/base",
      "model_module_version": "1.2.0",
      "model_name": "LayoutModel",
      "state": {
       "grid_area": "filename",
       "width": "auto"
      }
     },
     "3db8a8de28bb4961bb4409602467d080": {
      "model_module": "@jupyter-widgets/base",
      "model_module_version": "1.2.0",
      "model_name": "LayoutModel",
      "state": {}
     },
     "3e7fbe55edc3432089d1e6219793c5e8": {
      "model_module": "@jupyter-widgets/controls",
      "model_module_version": "1.5.0",
      "model_name": "DescriptionStyleModel",
      "state": {
       "description_width": "initial"
      }
     },
     "3e83fc93007e4b7eb518bf602f70abbc": {
      "model_module": "@jupyter-widgets/base",
      "model_module_version": "1.2.0",
      "model_name": "LayoutModel",
      "state": {}
     },
     "3eb6db2d93ae48698783abbc55f53093": {
      "model_module": "@jupyter-widgets/controls",
      "model_module_version": "1.5.0",
      "model_name": "SelectMultipleModel",
      "state": {
       "_options_labels": [
        "",
        "--- Channels ---",
        "Ag",
        "Al2O3",
        "As",
        "Au",
        "Ba",
        "Be",
        "Bi",
        "CaO",
        "Cd",
        "Ce",
        "Cl",
        "Co",
        "Cr",
        "Cr2O3",
        "Cs",
        "Ctot",
        "Cu",
        "Dy",
        "Er",
        "Eu",
        "F",
        "Fe2O3",
        "Ga",
        "Gd",
        "Ge",
        "Hf",
        "Hg",
        "Ho",
        "In",
        "Ir",
        "K2O",
        "LOI",
        "La",
        "Li",
        "Lu",
        "MgO",
        "MnO",
        "Mo",
        "Na2O",
        "Nb",
        "Nd",
        "Ni",
        "Ni2",
        "P2O5",
        "Pb",
        "Pr",
        "Rb",
        "SUM",
        "Sb",
        "Sc",
        "Se",
        "SiO2",
        "Sm",
        "Sn",
        "Sr",
        "Stot",
        "Ta",
        "Tb",
        "Th",
        "Ti",
        "TiO2",
        "Tl",
        "Tm",
        "U",
        "V",
        "W",
        "Y_",
        "Yb",
        "Zn",
        "Zr",
        "interval_length",
        "X",
        "Y",
        "Z"
       ],
       "description": "Data: ",
       "index": [
        9,
        37,
        66,
        6,
        3
       ],
       "layout": "IPY_MODEL_7ae9a6cbaa7146c5bbae32c859695a7a",
       "rows": 5,
       "style": "IPY_MODEL_8bea4ecee2b345779a299e3fd6ceecdd"
      }
     },
     "3ff0792bc6f7450796840933609d06a7": {
      "model_module": "@jupyter-widgets/base",
      "model_module_version": "1.2.0",
      "model_name": "LayoutModel",
      "state": {}
     },
     "3ff719e05d734fbe9c6a68b08ec62fa1": {
      "model_module": "@jupyter-widgets/controls",
      "model_module_version": "1.5.0",
      "model_name": "VBoxModel",
      "state": {
       "children": [
        "IPY_MODEL_db085e05f44b4e4b856d8ba3092d5aef",
        "IPY_MODEL_8cafc79c8165444c942fdf3074254850"
       ],
       "layout": "IPY_MODEL_8acbffa0d27e4fd190a296b66ba78556"
      }
     },
     "402d36fb532d497abec037a2daa7584e": {
      "model_module": "@jupyter-widgets/controls",
      "model_module_version": "1.5.0",
      "model_name": "CheckboxModel",
      "state": {
       "description": "Log10",
       "disabled": false,
       "indent": false,
       "layout": "IPY_MODEL_e9776c708da34cc6aab2efe915bc7278",
       "style": "IPY_MODEL_97ed1c6f8e7c4f63900df37e3b983b7c",
       "value": true
      }
     },
     "4051ca48a1b149a5aa8521d313678547": {
      "model_module": "@jupyter-widgets/controls",
      "model_module_version": "1.5.0",
      "model_name": "DescriptionStyleModel",
      "state": {
       "description_width": "initial"
      }
     },
     "4082b1c34b2d4f22ba3403aad67c05e9": {
      "model_module": "@jupyter-widgets/controls",
      "model_module_version": "1.5.0",
      "model_name": "DescriptionStyleModel",
      "state": {
       "description_width": "initial"
      }
     },
     "4143cf97bbf64efaaa13398539abf845": {
      "model_module": "@jupyter-widgets/controls",
      "model_module_version": "1.5.0",
      "model_name": "GridBoxModel",
      "state": {
       "children": [
        "IPY_MODEL_b8e84ebf4de343d88c7bf5f2f971a27b",
        "IPY_MODEL_97fea917d0ac4e4a94a379a587a5b3b5",
        "IPY_MODEL_54fe67daebba4c67803be3edd0dd7d51"
       ],
       "layout": "IPY_MODEL_c7f25163a6af4a978d6de13124dcde9d"
      }
     },
     "414dcad65a9f49ddacafb07e9c3f91e0": {
      "model_module": "@jupyter-widgets/base",
      "model_module_version": "1.2.0",
      "model_name": "LayoutModel",
      "state": {}
     },
     "414eacf6312f4036b99ab32e959c265a": {
      "model_module": "@jupyter-widgets/controls",
      "model_module_version": "1.5.0",
      "model_name": "DescriptionStyleModel",
      "state": {
       "description_width": ""
      }
     },
     "415d811749ec4e19ab84dc6b6c502a72": {
      "model_module": "@jupyter-widgets/base",
      "model_module_version": "1.2.0",
      "model_name": "LayoutModel",
      "state": {}
     },
     "416de360239d402da95567c246950966": {
      "model_module": "@jupyter-widgets/controls",
      "model_module_version": "1.5.0",
      "model_name": "SliderStyleModel",
      "state": {
       "description_width": "initial"
      }
     },
     "42a1fe9e6ae047d6aa5f85271dddfe26": {
      "model_module": "@jupyter-widgets/controls",
      "model_module_version": "1.5.0",
      "model_name": "DescriptionStyleModel",
      "state": {
       "description_width": "initial"
      }
     },
     "42dc7437c1584bd19721ea88a8a1b7e6": {
      "model_module": "@jupyter-widgets/base",
      "model_module_version": "1.2.0",
      "model_name": "LayoutModel",
      "state": {}
     },
     "4327c81a940f417c8bd0b1208580e0ce": {
      "model_module": "@jupyter-widgets/controls",
      "model_module_version": "1.5.0",
      "model_name": "DescriptionStyleModel",
      "state": {
       "description_width": "initial"
      }
     },
     "437540c8cbb941c68fb44288e426bb34": {
      "model_module": "@jupyter-widgets/controls",
      "model_module_version": "1.5.0",
      "model_name": "DescriptionStyleModel",
      "state": {
       "description_width": "initial"
      }
     },
     "43c0de023d1c48d48e2534e4339a8169": {
      "model_module": "@jupyter-widgets/controls",
      "model_module_version": "1.5.0",
      "model_name": "FloatTextModel",
      "state": {
       "description": "Max",
       "layout": "IPY_MODEL_c44bc43ad5e847c2b83033493b194472",
       "step": null,
       "style": "IPY_MODEL_4082b1c34b2d4f22ba3403aad67c05e9",
       "value": 640
      }
     },
     "45b52c0ded564317b734dbf394e7b58c": {
      "model_module": "@jupyter-widgets/controls",
      "model_module_version": "1.5.0",
      "model_name": "DescriptionStyleModel",
      "state": {
       "description_width": ""
      }
     },
     "460c44f8bc7d41efb93f74b72c01a96d": {
      "model_module": "@jupyter-widgets/controls",
      "model_module_version": "1.5.0",
      "model_name": "DescriptionStyleModel",
      "state": {
       "description_width": ""
      }
     },
     "46391be8d7ef442e8a690185472db4ba": {
      "model_module": "@jupyter-widgets/controls",
      "model_module_version": "1.5.0",
      "model_name": "DescriptionStyleModel",
      "state": {
       "description_width": "initial"
      }
     },
     "467581a74e4b43279a476e6579f56c38": {
      "model_module": "@jupyter-widgets/controls",
      "model_module_version": "1.5.0",
      "model_name": "VBoxModel",
      "state": {
       "children": [
        "IPY_MODEL_9ee3d3cc35954d7e9b9922e1e81cf0f1",
        "IPY_MODEL_c148ed72efb24680a7444d21f7e71269",
        "IPY_MODEL_cf324896ecff4dcd81605ad6fffdd4e8",
        "IPY_MODEL_36a509f8d93f4b6ab5ba4194b9206844",
        "IPY_MODEL_9ca24395379a409291e263400c7cc3f9"
       ],
       "layout": "IPY_MODEL_92d84bfa256b4ec1b3882787497f7efb"
      }
     },
     "467c11f2c57b42218fd03eb821a7a9b3": {
      "model_module": "@jupyter-widgets/controls",
      "model_module_version": "1.5.0",
      "model_name": "DescriptionStyleModel",
      "state": {
       "description_width": "initial"
      }
     },
     "46acb825efa743f1984777855c6ae105": {
      "model_module": "@jupyter-widgets/controls",
      "model_module_version": "1.5.0",
      "model_name": "SliderStyleModel",
      "state": {
       "description_width": "initial"
      }
     },
     "470ce012d6d44050b7e9c5bf346d3ac3": {
      "model_module": "@jupyter-widgets/controls",
      "model_module_version": "1.5.0",
      "model_name": "DescriptionStyleModel",
      "state": {
       "description_width": ""
      }
     },
     "47500cd910764c76ae5079052631abe2": {
      "model_module": "@jupyter-widgets/controls",
      "model_module_version": "1.5.0",
      "model_name": "DescriptionStyleModel",
      "state": {
       "description_width": "initial"
      }
     },
     "4804910515e447488b933fc4e65a8416": {
      "model_module": "@jupyter-widgets/controls",
      "model_module_version": "1.5.0",
      "model_name": "DescriptionStyleModel",
      "state": {
       "description_width": ""
      }
     },
     "480e04100970404985b8319b464840f5": {
      "model_module": "@jupyter-widgets/controls",
      "model_module_version": "1.5.0",
      "model_name": "DescriptionStyleModel",
      "state": {
       "description_width": "initial"
      }
     },
     "489218f2ea2e4a70ba80aa7e609a2b75": {
      "model_module": "@jupyter-widgets/controls",
      "model_module_version": "1.5.0",
      "model_name": "HBoxModel",
      "state": {
       "children": [
        "IPY_MODEL_f4ac822e01b94932aa4cc1d4571a7279"
       ],
       "layout": "IPY_MODEL_dde6430a083f4910afcbe143e8dd3fec"
      }
     },
     "4967287dac3849eaaaa2b90d3520635f": {
      "model_module": "@jupyter-widgets/base",
      "model_module_version": "1.2.0",
      "model_name": "LayoutModel",
      "state": {}
     },
     "4a689da2140d4af39349fac16da6dedc": {
      "model_module": "@jupyter-widgets/controls",
      "model_module_version": "1.5.0",
      "model_name": "ButtonStyleModel",
      "state": {}
     },
     "4a9187a24b624897a1851729c4002161": {
      "model_module": "@jupyter-widgets/controls",
      "model_module_version": "1.5.0",
      "model_name": "SelectMultipleModel",
      "state": {
       "_options_labels": [
        "",
        "--- Channels ---",
        "Ag",
        "Al2O3",
        "As",
        "Au",
        "Ba",
        "Be",
        "Bi",
        "CaO",
        "Cd",
        "Ce",
        "Cl",
        "Co",
        "Cr",
        "Cr2O3",
        "Cs",
        "Ctot",
        "Cu",
        "Dy",
        "Er",
        "Eu",
        "F",
        "Fe2O3",
        "Ga",
        "Gd",
        "Ge",
        "Hf",
        "Hg",
        "Ho",
        "In",
        "Ir",
        "K2O",
        "LOI",
        "La",
        "Li",
        "Lu",
        "MgO",
        "MnO",
        "Mo",
        "Na2O",
        "Nb",
        "Nd",
        "Ni",
        "Ni2",
        "P2O5",
        "Pb",
        "Pr",
        "Rb",
        "SUM",
        "Sb",
        "Sc",
        "Se",
        "SiO2",
        "Sm",
        "Sn",
        "Sr",
        "Stot",
        "Ta",
        "Tb",
        "Th",
        "Ti",
        "TiO2",
        "Tl",
        "Tm",
        "U",
        "V",
        "W",
        "Y_",
        "Yb",
        "Zn",
        "Zr",
        "interval_length",
        "X",
        "Y",
        "Z"
       ],
       "description": "Data: ",
       "index": [
        9,
        37,
        66,
        6,
        3
       ],
       "layout": "IPY_MODEL_2c8ea5f2c5ec4f548a81990b02e1cf28",
       "rows": 5,
       "style": "IPY_MODEL_84228fe2ff804d6c99839f6f049e67be"
      }
     },
     "4b1103559fa4431799ac03f71be077a7": {
      "model_module": "@jupyter-widgets/controls",
      "model_module_version": "1.5.0",
      "model_name": "HBoxModel",
      "state": {
       "children": [
        "IPY_MODEL_d67a7db2f6b4435e8fbea019540d0e34",
        "IPY_MODEL_74d6fab753f840f59bf9b85d29ef28f8"
       ],
       "layout": "IPY_MODEL_eade694707074f99bdeb6deacd8314a3"
      }
     },
     "4b9703c327de444a9df4ec89d8240ed0": {
      "model_module": "@jupyter-widgets/base",
      "model_module_version": "1.2.0",
      "model_name": "LayoutModel",
      "state": {}
     },
     "4ba685122f954f0ba8b15668d7897921": {
      "model_module": "@jupyter-widgets/base",
      "model_module_version": "1.2.0",
      "model_name": "LayoutModel",
      "state": {}
     },
     "4c8037beaf1941f6a59a7d137da7d185": {
      "model_module": "@jupyter-widgets/base",
      "model_module_version": "1.2.0",
      "model_name": "LayoutModel",
      "state": {}
     },
     "4cc647925b8647c4bdd98ac57c788b12": {
      "model_module": "@jupyter-widgets/base",
      "model_module_version": "1.2.0",
      "model_name": "LayoutModel",
      "state": {}
     },
     "4decc6c2288d4701bcc538f8c35f5532": {
      "model_module": "@jupyter-widgets/controls",
      "model_module_version": "1.5.0",
      "model_name": "DescriptionStyleModel",
      "state": {
       "description_width": "initial"
      }
     },
     "4f07221def854484a6990ed39544d924": {
      "model_module": "@jupyter-widgets/base",
      "model_module_version": "1.2.0",
      "model_name": "LayoutModel",
      "state": {}
     },
     "4f326c76662e4a4782c8b0a9e0aabc80": {
      "model_module": "@jupyter-widgets/controls",
      "model_module_version": "1.5.0",
      "model_name": "DescriptionStyleModel",
      "state": {
       "description_width": ""
      }
     },
     "4fb7d92babb54835a3fe975ce2255764": {
      "model_module": "@jupyter-widgets/controls",
      "model_module_version": "1.5.0",
      "model_name": "ButtonStyleModel",
      "state": {}
     },
     "50349d6790b34cbc84caa489b7c475cf": {
      "model_module": "@jupyter-widgets/controls",
      "model_module_version": "1.5.0",
      "model_name": "DescriptionStyleModel",
      "state": {
       "description_width": ""
      }
     },
     "504a6ac3ab534effbf6e10996d7b1f4e": {
      "model_module": "@jupyter-widgets/controls",
      "model_module_version": "1.5.0",
      "model_name": "DescriptionStyleModel",
      "state": {
       "description_width": ""
      }
     },
     "5058e2bce57a4d6eb6633dbed5791292": {
      "model_module": "@jupyter-widgets/base",
      "model_module_version": "1.2.0",
      "model_name": "LayoutModel",
      "state": {}
     },
     "50a0b675304645dbbf949e3b5931f142": {
      "model_module": "@jupyter-widgets/controls",
      "model_module_version": "1.5.0",
      "model_name": "DescriptionStyleModel",
      "state": {
       "description_width": "initial"
      }
     },
     "5117a2b2fde046749732a9702a93274b": {
      "model_module": "@jupyter-widgets/controls",
      "model_module_version": "1.5.0",
      "model_name": "DescriptionStyleModel",
      "state": {
       "description_width": ""
      }
     },
     "5139f506465248f9888586fdc48f58ba": {
      "model_module": "@jupyter-widgets/controls",
      "model_module_version": "1.5.0",
      "model_name": "DescriptionStyleModel",
      "state": {
       "description_width": ""
      }
     },
     "51d810f45bc74bf19c5046b5daad8dd7": {
      "model_module": "@jupyter-widgets/controls",
      "model_module_version": "1.5.0",
      "model_name": "DescriptionStyleModel",
      "state": {
       "description_width": "initial"
      }
     },
     "5217c480fb70411d9557fbcd4734d35b": {
      "model_module": "@jupyter-widgets/base",
      "model_module_version": "1.2.0",
      "model_name": "LayoutModel",
      "state": {
       "display": "none"
      }
     },
     "527c4c4e97ad442fb19b5bc350de7a2b": {
      "model_module": "@jupyter-widgets/base",
      "model_module_version": "1.2.0",
      "model_name": "LayoutModel",
      "state": {}
     },
     "529370bedf1f4a4b950c54b7385ed0cb": {
      "model_module": "@jupyter-widgets/controls",
      "model_module_version": "1.5.0",
      "model_name": "DescriptionStyleModel",
      "state": {
       "description_width": "initial"
      }
     },
     "52c4efc7b79940599af0595925e322e0": {
      "model_module": "@jupyter-widgets/base",
      "model_module_version": "1.2.0",
      "model_name": "LayoutModel",
      "state": {}
     },
     "52d20788db37476cbdcc0a3f7234abac": {
      "model_module": "@jupyter-widgets/controls",
      "model_module_version": "1.5.0",
      "model_name": "VBoxModel",
      "state": {
       "children": [
        "IPY_MODEL_71f6307931f64de7891a12da7abb536c",
        "IPY_MODEL_13b737bc940048ad8c842bb3978d7053"
       ],
       "layout": "IPY_MODEL_905a78f6a27f46b799c7fa1848616f9c"
      }
     },
     "5328d721568e4faba88ccb2076d1a413": {
      "model_module": "@jupyter-widgets/controls",
      "model_module_version": "1.5.0",
      "model_name": "DescriptionStyleModel",
      "state": {
       "description_width": ""
      }
     },
     "5382b7d83aae46c5bb704663c2693001": {
      "model_module": "@jupyter-widgets/controls",
      "model_module_version": "1.5.0",
      "model_name": "DescriptionStyleModel",
      "state": {
       "description_width": "initial"
      }
     },
     "538329c6e8564d27a4eafca5bced25f9": {
      "model_module": "@jupyter-widgets/controls",
      "model_module_version": "1.5.0",
      "model_name": "SliderStyleModel",
      "state": {
       "description_width": "initial"
      }
     },
     "53d2ba44bab44ae2b491d5d571dec255": {
      "model_module": "@jupyter-widgets/controls",
      "model_module_version": "1.5.0",
      "model_name": "ButtonModel",
      "state": {
       "description": "Cancel",
       "layout": "IPY_MODEL_0a6d49bf6f4d40f9870a022f297b9997",
       "style": "IPY_MODEL_8cd70b2ef8c248d3a2e3682fe345a815"
      }
     },
     "543d394e35a0415a899e5286f7fa9f0c": {
      "model_module": "@jupyter-widgets/controls",
      "model_module_version": "1.5.0",
      "model_name": "DescriptionStyleModel",
      "state": {
       "description_width": "initial"
      }
     },
     "549d7058124d421b9d474af63717c941": {
      "model_module": "@jupyter-widgets/controls",
      "model_module_version": "1.5.0",
      "model_name": "CheckboxModel",
      "state": {
       "description": "Log10",
       "disabled": false,
       "indent": false,
       "layout": "IPY_MODEL_21fc39c1f6684131b154abfac55019f3",
       "style": "IPY_MODEL_2e436c70bead443e91872d663433261a",
       "value": true
      }
     },
     "54b5630985a3401e901c1f83a9e54d4f": {
      "model_module": "@jupyter-widgets/base",
      "model_module_version": "1.2.0",
      "model_name": "LayoutModel",
      "state": {}
     },
     "54fe67daebba4c67803be3edd0dd7d51": {
      "model_module": "@jupyter-widgets/controls",
      "model_module_version": "1.5.0",
      "model_name": "SelectModel",
      "state": {
       "_options_labels": [
        "📁 .."
       ],
       "index": null,
       "layout": "IPY_MODEL_e51bf351ef9245959e789d42090c3853",
       "rows": 8,
       "style": "IPY_MODEL_84b8d1c5b1e8426fb6623ae05111a8ab"
      }
     },
     "552adea05b1845408d582394fe5a98a3": {
      "model_module": "@jupyter-widgets/controls",
      "model_module_version": "1.5.0",
      "model_name": "DescriptionStyleModel",
      "state": {
       "description_width": "initial"
      }
     },
     "552b95f616f84d02aa92973ee456b0ba": {
      "model_module": "@jupyter-widgets/base",
      "model_module_version": "1.2.0",
      "model_name": "LayoutModel",
      "state": {}
     },
     "555fc45bf5fd48d5bb3bfab7acef1758": {
      "model_module": "@jupyter-widgets/base",
      "model_module_version": "1.2.0",
      "model_name": "LayoutModel",
      "state": {
       "display": "none",
       "min_width": "6em",
       "width": "6em"
      }
     },
     "55a66ae8af7546988792281bfe84c2b6": {
      "model_module": "@jupyter-widgets/base",
      "model_module_version": "1.2.0",
      "model_name": "LayoutModel",
      "state": {}
     },
     "55c179176be84e44a74f95e1e97b9145": {
      "model_module": "@jupyter-widgets/controls",
      "model_module_version": "1.5.0",
      "model_name": "DescriptionStyleModel",
      "state": {
       "description_width": "initial"
      }
     },
     "56022e3bc8864ca3b2a724c653c66cc7": {
      "model_module": "@jupyter-widgets/base",
      "model_module_version": "1.2.0",
      "model_name": "LayoutModel",
      "state": {}
     },
     "561246d681c5472295e8d81a7b3530fc": {
      "model_module": "@jupyter-widgets/controls",
      "model_module_version": "1.5.0",
      "model_name": "HBoxModel",
      "state": {
       "children": [
        "IPY_MODEL_26e0ebcedeaa403b96333964417b5b65",
        "IPY_MODEL_0483385c61994507a8a03fa2ee22cfd2",
        "IPY_MODEL_28cd8f1404f9479d927039525d041f24"
       ],
       "layout": "IPY_MODEL_e693a392c29d413785da07daa5601e46"
      }
     },
     "562f7e6ef17f4e45bbeb330c3dbfe01c": {
      "model_module": "@jupyter-widgets/controls",
      "model_module_version": "1.5.0",
      "model_name": "HBoxModel",
      "state": {
       "children": [
        "IPY_MODEL_24cb7249382d41019324c89489726077"
       ],
       "layout": "IPY_MODEL_eb4c0eae8f0d48d08d88adb1345b6416"
      }
     },
     "57050e4e774e49b98c8ddab2f4170581": {
      "model_module": "@jupyter-widgets/controls",
      "model_module_version": "1.5.0",
      "model_name": "CheckboxModel",
      "state": {
       "description": "Log10",
       "disabled": false,
       "indent": false,
       "layout": "IPY_MODEL_e59cc668760e45d699933c076d5c7487",
       "style": "IPY_MODEL_cb54faf5589b4f8c83554280d643cb51",
       "value": false
      }
     },
     "572081a155a245a48b144c13fa36ea15": {
      "model_module": "@jupyter-widgets/controls",
      "model_module_version": "1.5.0",
      "model_name": "VBoxModel",
      "state": {
       "children": [
        "IPY_MODEL_2b816341548d4da38add28327f09cc22",
        "IPY_MODEL_5c2124582407483aaf7051c18e76313f"
       ],
       "layout": "IPY_MODEL_bda1de32219941d3bec93a4c9dd689b2"
      }
     },
     "5721d0057af1454ab1e85307c351f722": {
      "model_module": "@jupyter-widgets/base",
      "model_module_version": "1.2.0",
      "model_name": "LayoutModel",
      "state": {
       "display": "none"
      }
     },
     "587fbf9cb8d24403827d8d0a8e914392": {
      "model_module": "@jupyter-widgets/controls",
      "model_module_version": "1.5.0",
      "model_name": "DescriptionStyleModel",
      "state": {
       "description_width": ""
      }
     },
     "58b03a4b68574a1f82bf9b3b2e39a426": {
      "model_module": "@jupyter-widgets/base",
      "model_module_version": "1.2.0",
      "model_name": "LayoutModel",
      "state": {
       "display": "none",
       "grid_gap": "0px 0px",
       "grid_template_areas": "\n                    'pathlist filename'\n                    'dircontent dircontent'\n                    ",
       "grid_template_columns": "60% 40%",
       "grid_template_rows": "auto auto",
       "width": "auto"
      }
     },
     "59557c8466ec4d218742ac476cad4144": {
      "model_module": "@jupyter-widgets/controls",
      "model_module_version": "1.5.0",
      "model_name": "DescriptionStyleModel",
      "state": {
       "description_width": ""
      }
     },
     "5a3879eb136941cfbfe13a86b4f148bf": {
      "model_module": "@jupyter-widgets/controls",
      "model_module_version": "1.5.0",
      "model_name": "DescriptionStyleModel",
      "state": {
       "description_width": ""
      }
     },
     "5adf03b5fce345639a335ffd75c3a319": {
      "model_module": "@jupyter-widgets/controls",
      "model_module_version": "1.5.0",
      "model_name": "DescriptionStyleModel",
      "state": {
       "description_width": ""
      }
     },
     "5b995731dd31499ca760be6bd3f2398b": {
      "model_module": "@jupyter-widgets/controls",
      "model_module_version": "1.5.0",
      "model_name": "DescriptionStyleModel",
      "state": {
       "description_width": ""
      }
     },
     "5bf43b072216490f808287fce6b858a0": {
      "model_module": "@jupyter-widgets/controls",
      "model_module_version": "1.5.0",
      "model_name": "DescriptionStyleModel",
      "state": {
       "description_width": "initial"
      }
     },
     "5c17662d32ea4cfa834e4ca5f4f9ab0a": {
      "model_module": "@jupyter-widgets/base",
      "model_module_version": "1.2.0",
      "model_name": "LayoutModel",
      "state": {}
     },
     "5c2124582407483aaf7051c18e76313f": {
      "model_module": "@jupyter-widgets/controls",
      "model_module_version": "1.5.0",
      "model_name": "IntSliderModel",
      "state": {
       "continuous_update": false,
       "description": "Population Downsampling:",
       "layout": "IPY_MODEL_c38e94e2340146edb5247c93b2a2f8fe",
       "max": 4438,
       "min": 1,
       "style": "IPY_MODEL_2172ae429e9b40c48d75a7aed9ecdb64",
       "value": 4438
      }
     },
     "5c5e8ce24d7a444ba9e010f2aa34bfe2": {
      "model_module": "@jupyter-widgets/controls",
      "model_module_version": "1.5.0",
      "model_name": "DescriptionStyleModel",
      "state": {
       "description_width": ""
      }
     },
     "5ca55807d28a4cc5a79a1fdaca293670": {
      "model_module": "@jupyter-widgets/controls",
      "model_module_version": "1.5.0",
      "model_name": "DescriptionStyleModel",
      "state": {
       "description_width": "initial"
      }
     },
     "5cdce4d125da4ac5a2e27949e5dff651": {
      "model_module": "@jupyter-widgets/controls",
      "model_module_version": "1.5.0",
      "model_name": "VBoxModel",
      "state": {
       "children": [
        "IPY_MODEL_ea2e3ce09fd643e9ab0b17d716a68f0c",
        "IPY_MODEL_489218f2ea2e4a70ba80aa7e609a2b75",
        "IPY_MODEL_082e98bfbe214aa7be96e8bda00b537d",
        "IPY_MODEL_be40471537574e3a81922c386f7e54bf"
       ],
       "layout": "IPY_MODEL_9c074cb5fd674ea884d614f2777afa92"
      }
     },
     "5d2156252cd442279cd4d40b311c70d8": {
      "model_module": "@jupyter-widgets/base",
      "model_module_version": "1.2.0",
      "model_name": "LayoutModel",
      "state": {}
     },
     "5d631043864b42c2844912fae4d28ed4": {
      "model_module": "@jupyter-widgets/base",
      "model_module_version": "1.2.0",
      "model_name": "LayoutModel",
      "state": {}
     },
     "5d901afd2c7a459baf7e66f13247b150": {
      "model_module": "@jupyter-widgets/controls",
      "model_module_version": "1.5.0",
      "model_name": "VBoxModel",
      "state": {
       "children": [
        "IPY_MODEL_976fdbeb2bbd457b8026c6465fe9ab8a",
        "IPY_MODEL_5ea3848fb36241eb823636b79bd7aabd",
        "IPY_MODEL_572081a155a245a48b144c13fa36ea15",
        "IPY_MODEL_6636026f8fdc41edb890b9cc5db2eb53",
        "IPY_MODEL_3acea637f4fb430aae39a939130fedca",
        "IPY_MODEL_3a42315bc5e84fd99cc269ed5927c711",
        "IPY_MODEL_71f6307931f64de7891a12da7abb536c"
       ],
       "layout": "IPY_MODEL_5c17662d32ea4cfa834e4ca5f4f9ab0a"
      }
     },
     "5e0abb7ee06040fdba1a816dca7dfc09": {
      "model_module": "@jupyter-widgets/base",
      "model_module_version": "1.2.0",
      "model_name": "LayoutModel",
      "state": {}
     },
     "5e64784b0a274d2fb885fff949a39226": {
      "model_module": "@jupyter-widgets/base",
      "model_module_version": "1.2.0",
      "model_name": "LayoutModel",
      "state": {}
     },
     "5ea3848fb36241eb823636b79bd7aabd": {
      "model_module": "@jupyter-widgets/controls",
      "model_module_version": "1.5.0",
      "model_name": "HBoxModel",
      "state": {
       "children": [
        "IPY_MODEL_7ded18e97b5f4045b53debc375b8aafd",
        "IPY_MODEL_4a9187a24b624897a1851729c4002161"
       ],
       "layout": "IPY_MODEL_7de247b78b00495b8765c08b64240a5d"
      }
     },
     "5eb453bc287a4db7adf6158f053a46c7": {
      "model_module": "@jupyter-widgets/base",
      "model_module_version": "1.2.0",
      "model_name": "LayoutModel",
      "state": {}
     },
     "5f1d514f079b4e3b8cb194c0a4f3bca6": {
      "model_module": "@jupyter-widgets/controls",
      "model_module_version": "1.5.0",
      "model_name": "DescriptionStyleModel",
      "state": {
       "description_width": "initial"
      }
     },
     "5f2c949a97ed430ea84777c5272a2a3d": {
      "model_module": "@jupyter-widgets/controls",
      "model_module_version": "1.5.0",
      "model_name": "DropdownModel",
      "state": {
       "_options_labels": [
        "CaO",
        "MgO",
        "V",
        "Ba",
        "Al2O3"
       ],
       "description": "Data:",
       "index": 0,
       "layout": "IPY_MODEL_e736d5f31f564a8898046b5988d36d90",
       "style": "IPY_MODEL_467c11f2c57b42218fd03eb821a7a9b3"
      }
     },
     "5fde75cf1ddc4ad390531b2b521ef255": {
      "model_module": "@jupyter-widgets/controls",
      "model_module_version": "1.5.0",
      "model_name": "HBoxModel",
      "state": {
       "children": [
        "IPY_MODEL_15f36b69f4314c6f82d4713d2143dad2"
       ],
       "layout": "IPY_MODEL_8af5174f4a2c4307beb788e23255882e"
      }
     },
     "5ffc402e3a91419bb715a98239b0ff68": {
      "model_module": "@jupyter-widgets/base",
      "model_module_version": "1.2.0",
      "model_name": "LayoutModel",
      "state": {
       "grid_area": "pathlist",
       "width": "auto"
      }
     },
     "606ff26005854e919f1a4bbbbdda8b3e": {
      "model_module": "@jupyter-widgets/controls",
      "model_module_version": "1.5.0",
      "model_name": "CheckboxModel",
      "state": {
       "description": "Active",
       "disabled": false,
       "indent": false,
       "layout": "IPY_MODEL_5d2156252cd442279cd4d40b311c70d8",
       "style": "IPY_MODEL_8851e78a743e4fa0a2680aa6632e78e9",
       "value": true
      }
     },
     "60d8a20fc98d4bd1bfd3a3e89e66ba13": {
      "model_module": "@jupyter-widgets/controls",
      "model_module_version": "1.5.0",
      "model_name": "FloatTextModel",
      "state": {
       "description": "Threshold",
       "layout": "IPY_MODEL_befeb84b146f44fb8bf647bea51b3973",
       "step": null,
       "style": "IPY_MODEL_15e9f4808fc944b5bca45e0b89c4c929",
       "value": 0.1
      }
     },
     "60f42f7304644ca9ab046d49d0ad09f0": {
      "model_module": "@jupyter-widgets/controls",
      "model_module_version": "1.5.0",
      "model_name": "IntSliderModel",
      "state": {
       "continuous_update": false,
       "description": "Marker size",
       "layout": "IPY_MODEL_552b95f616f84d02aa92973ee456b0ba",
       "min": 1,
       "style": "IPY_MODEL_46acb825efa743f1984777855c6ae105",
       "value": 20
      }
     },
     "611eb86840be4c32a46d000e2cbf1e82": {
      "model_module": "@jupyter-widgets/base",
      "model_module_version": "1.2.0",
      "model_name": "LayoutModel",
      "state": {}
     },
     "620781e589e1496688c00ff9528f17ef": {
      "model_module": "@jupyter-widgets/base",
      "model_module_version": "1.2.0",
      "model_name": "LayoutModel",
      "state": {
       "min_width": "6em",
       "width": "6em"
      }
     },
     "62df0d2775724e57841ea2f4876a2436": {
      "model_module": "@jupyter-widgets/controls",
      "model_module_version": "1.5.0",
      "model_name": "DropdownModel",
      "state": {
       "_options_labels": [
        "C:\\Users\\dominiquef\\Documents\\GIT\\mira\\geoapps\\assets",
        "C:\\Users\\dominiquef\\Documents\\GIT\\mira\\geoapps",
        "C:\\Users\\dominiquef\\Documents\\GIT\\mira",
        "C:\\Users\\dominiquef\\Documents\\GIT",
        "C:\\Users\\dominiquef\\Documents",
        "C:\\Users\\dominiquef",
        "C:\\Users",
        "C:\\",
        "D:\\",
        "\\\\EgnyteDrive\\mirageoscience\\",
        "G:\\"
       ],
       "index": 0,
       "layout": "IPY_MODEL_67e71bc9ea3d4244b62f5ebaad83eed0",
       "style": "IPY_MODEL_d7f564d5fc1340a38cbb990096e2a050"
      }
     },
     "630266e740f2462ca797696840ffd873": {
      "model_module": "@jupyter-widgets/controls",
      "model_module_version": "1.5.0",
      "model_name": "DescriptionStyleModel",
      "state": {
       "description_width": "initial"
      }
     },
     "63b51df43a5649c48458548afc8a23d8": {
      "model_module": "@jupyter-widgets/controls",
      "model_module_version": "1.5.0",
      "model_name": "DropdownModel",
      "state": {
       "_options_labels": [
        "CaO",
        "MgO",
        "V",
        "Ba",
        "Al2O3"
       ],
       "description": "Data:",
       "index": 3,
       "layout": "IPY_MODEL_1f709e12ddd745d09add31bbb9b7df50",
       "style": "IPY_MODEL_8d6056be3c474a0a8472707cd6148945"
      }
     },
     "6450b615d2ea4d4c999172bc0e4a0ff4": {
      "buffers": [
       {
        "data": "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",
        "encoding": "base64",
        "path": [
         "_data",
         0,
         "marker",
         "color",
         "value"
        ]
       },
       {
        "data": "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",
        "encoding": "base64",
        "path": [
         "_data",
         0,
         "marker",
         "size",
         "value"
        ]
       },
       {
        "data": "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",
        "encoding": "base64",
        "path": [
         "_data",
         0,
         "x",
         "value"
        ]
       },
       {
        "data": "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",
        "encoding": "base64",
        "path": [
         "_data",
         0,
         "y",
         "value"
        ]
       },
       {
        "data": "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",
        "encoding": "base64",
        "path": [
         "_data",
         0,
         "z",
         "value"
        ]
       },
       {
        "data": "AAAAAAAAMcAAAAAAAIAZwAAAAAAAABFAAAAAAADALUAAAAAAAIA5QA==",
        "encoding": "base64",
        "path": [
         "_layout",
         "xaxis",
         "tickvals",
         "value"
        ]
       },
       {
        "data": "B9aREC3dAcCQH4NAreTwv+DO1gH6D78/bPm9gKzG9D/0Qq+wLM4DQA==",
        "encoding": "base64",
        "path": [
         "_layout",
         "yaxis",
         "tickvals",
         "value"
        ]
       },
       {
        "data": "AAAAAAAAMcAAAAAAAIAZwAAAAAAAABFAAAAAAADALUAAAAAAAIA5QA==",
        "encoding": "base64",
        "path": [
         "_layout",
         "scene",
         "xaxis",
         "tickvals",
         "value"
        ]
       },
       {
        "data": "B9aREC3dAcCQH4NAreTwv+DO1gH6D78/bPm9gKzG9D/0Qq+wLM4DQA==",
        "encoding": "base64",
        "path": [
         "_layout",
         "scene",
         "yaxis",
         "tickvals",
         "value"
        ]
       },
       {
        "data": "Vy33DfJsAsDU/vj5Qjzjv9pb9SGhnfE/j5tz4LFsBkCYRPaXSQUSQA==",
        "encoding": "base64",
        "path": [
         "_layout",
         "scene",
         "zaxis",
         "tickvals",
         "value"
        ]
       }
      ],
      "model_module": "jupyterlab-plotly",
      "model_module_version": "^5.9.0",
      "model_name": "FigureModel",
      "state": {
       "_config": {
        "plotlyServerURL": "https://plot.ly"
       },
       "_data": [
        {
         "marker": {
          "color": {
           "dtype": "float64",
           "shape": [
            4438
           ]
          },
          "colorscale": [
           [
            0,
            "#000004"
           ],
           [
            0.1111111111111111,
            "#1b0c41"
           ],
           [
            0.2222222222222222,
            "#4a0c6b"
           ],
           [
            0.3333333333333333,
            "#781c6d"
           ],
           [
            0.4444444444444444,
            "#a52c60"
           ],
           [
            0.5555555555555556,
            "#cf4446"
           ],
           [
            0.6666666666666666,
            "#ed6925"
           ],
           [
            0.7777777777777778,
            "#fb9b06"
           ],
           [
            0.8888888888888888,
            "#f7d13d"
           ],
           [
            1,
            "#fcffa4"
           ]
          ],
          "size": {
           "dtype": "float64",
           "shape": [
            4438
           ]
          }
         },
         "mode": "markers",
         "type": "scatter3d",
         "uid": "d653c363-e170-49b5-aac0-7b22ab2706a1",
         "x": {
          "dtype": "float64",
          "shape": [
           4438
          ]
         },
         "y": {
          "dtype": "float64",
          "shape": [
           4438
          ]
         },
         "z": {
          "dtype": "float64",
          "shape": [
           4438
          ]
         }
        }
       ],
       "_js2py_pointsCallback": {
        "device_state": null,
        "event_type": "plotly_hover",
        "points": {
         "point_indexes": [
          2208
         ],
         "trace_indexes": [
          0
         ],
         "xs": [
          25.5
         ],
         "ys": [
          1.5865873035987614
         ],
         "zs": [
          3.9754777631658746
         ]
        },
        "selector": null
       },
       "_js2py_restyle": {},
       "_js2py_update": {},
       "_last_layout_edit_id": 33,
       "_last_trace_edit_id": 32,
       "_layout": {
        "autosize": true,
        "margin": {
         "b": 0,
         "l": 0,
         "r": 0,
         "t": 0
        },
        "scene": {
         "xaxis": {
          "tickvals": {
           "dtype": "float64",
           "shape": [
            5
           ]
          },
          "title": {
           "text": "Al2O3"
          }
         },
         "yaxis": {
          "tickvals": {
           "dtype": "float64",
           "shape": [
            5
           ]
          },
          "title": {
           "text": "Log(CaO)"
          }
         },
         "zaxis": {
          "tickvals": {
           "dtype": "float64",
           "shape": [
            5
           ]
          },
          "title": {
           "text": "Log(Ba)"
          }
         }
        },
        "template": {
         "data": {
          "bar": [
           {
            "error_x": {
             "color": "#2a3f5f"
            },
            "error_y": {
             "color": "#2a3f5f"
            },
            "marker": {
             "line": {
              "color": "#E5ECF6",
              "width": 0.5
             },
             "pattern": {
              "fillmode": "overlay",
              "size": 10,
              "solidity": 0.2
             }
            },
            "type": "bar"
           }
          ],
          "barpolar": [
           {
            "marker": {
             "line": {
              "color": "#E5ECF6",
              "width": 0.5
             },
             "pattern": {
              "fillmode": "overlay",
              "size": 10,
              "solidity": 0.2
             }
            },
            "type": "barpolar"
           }
          ],
          "carpet": [
           {
            "aaxis": {
             "endlinecolor": "#2a3f5f",
             "gridcolor": "white",
             "linecolor": "white",
             "minorgridcolor": "white",
             "startlinecolor": "#2a3f5f"
            },
            "baxis": {
             "endlinecolor": "#2a3f5f",
             "gridcolor": "white",
             "linecolor": "white",
             "minorgridcolor": "white",
             "startlinecolor": "#2a3f5f"
            },
            "type": "carpet"
           }
          ],
          "choropleth": [
           {
            "colorbar": {
             "outlinewidth": 0,
             "ticks": ""
            },
            "type": "choropleth"
           }
          ],
          "contour": [
           {
            "colorbar": {
             "outlinewidth": 0,
             "ticks": ""
            },
            "colorscale": [
             [
              0,
              "#0d0887"
             ],
             [
              0.1111111111111111,
              "#46039f"
             ],
             [
              0.2222222222222222,
              "#7201a8"
             ],
             [
              0.3333333333333333,
              "#9c179e"
             ],
             [
              0.4444444444444444,
              "#bd3786"
             ],
             [
              0.5555555555555556,
              "#d8576b"
             ],
             [
              0.6666666666666666,
              "#ed7953"
             ],
             [
              0.7777777777777778,
              "#fb9f3a"
             ],
             [
              0.8888888888888888,
              "#fdca26"
             ],
             [
              1,
              "#f0f921"
             ]
            ],
            "type": "contour"
           }
          ],
          "contourcarpet": [
           {
            "colorbar": {
             "outlinewidth": 0,
             "ticks": ""
            },
            "type": "contourcarpet"
           }
          ],
          "heatmap": [
           {
            "colorbar": {
             "outlinewidth": 0,
             "ticks": ""
            },
            "colorscale": [
             [
              0,
              "#0d0887"
             ],
             [
              0.1111111111111111,
              "#46039f"
             ],
             [
              0.2222222222222222,
              "#7201a8"
             ],
             [
              0.3333333333333333,
              "#9c179e"
             ],
             [
              0.4444444444444444,
              "#bd3786"
             ],
             [
              0.5555555555555556,
              "#d8576b"
             ],
             [
              0.6666666666666666,
              "#ed7953"
             ],
             [
              0.7777777777777778,
              "#fb9f3a"
             ],
             [
              0.8888888888888888,
              "#fdca26"
             ],
             [
              1,
              "#f0f921"
             ]
            ],
            "type": "heatmap"
           }
          ],
          "heatmapgl": [
           {
            "colorbar": {
             "outlinewidth": 0,
             "ticks": ""
            },
            "colorscale": [
             [
              0,
              "#0d0887"
             ],
             [
              0.1111111111111111,
              "#46039f"
             ],
             [
              0.2222222222222222,
              "#7201a8"
             ],
             [
              0.3333333333333333,
              "#9c179e"
             ],
             [
              0.4444444444444444,
              "#bd3786"
             ],
             [
              0.5555555555555556,
              "#d8576b"
             ],
             [
              0.6666666666666666,
              "#ed7953"
             ],
             [
              0.7777777777777778,
              "#fb9f3a"
             ],
             [
              0.8888888888888888,
              "#fdca26"
             ],
             [
              1,
              "#f0f921"
             ]
            ],
            "type": "heatmapgl"
           }
          ],
          "histogram": [
           {
            "marker": {
             "pattern": {
              "fillmode": "overlay",
              "size": 10,
              "solidity": 0.2
             }
            },
            "type": "histogram"
           }
          ],
          "histogram2d": [
           {
            "colorbar": {
             "outlinewidth": 0,
             "ticks": ""
            },
            "colorscale": [
             [
              0,
              "#0d0887"
             ],
             [
              0.1111111111111111,
              "#46039f"
             ],
             [
              0.2222222222222222,
              "#7201a8"
             ],
             [
              0.3333333333333333,
              "#9c179e"
             ],
             [
              0.4444444444444444,
              "#bd3786"
             ],
             [
              0.5555555555555556,
              "#d8576b"
             ],
             [
              0.6666666666666666,
              "#ed7953"
             ],
             [
              0.7777777777777778,
              "#fb9f3a"
             ],
             [
              0.8888888888888888,
              "#fdca26"
             ],
             [
              1,
              "#f0f921"
             ]
            ],
            "type": "histogram2d"
           }
          ],
          "histogram2dcontour": [
           {
            "colorbar": {
             "outlinewidth": 0,
             "ticks": ""
            },
            "colorscale": [
             [
              0,
              "#0d0887"
             ],
             [
              0.1111111111111111,
              "#46039f"
             ],
             [
              0.2222222222222222,
              "#7201a8"
             ],
             [
              0.3333333333333333,
              "#9c179e"
             ],
             [
              0.4444444444444444,
              "#bd3786"
             ],
             [
              0.5555555555555556,
              "#d8576b"
             ],
             [
              0.6666666666666666,
              "#ed7953"
             ],
             [
              0.7777777777777778,
              "#fb9f3a"
             ],
             [
              0.8888888888888888,
              "#fdca26"
             ],
             [
              1,
              "#f0f921"
             ]
            ],
            "type": "histogram2dcontour"
           }
          ],
          "mesh3d": [
           {
            "colorbar": {
             "outlinewidth": 0,
             "ticks": ""
            },
            "type": "mesh3d"
           }
          ],
          "parcoords": [
           {
            "line": {
             "colorbar": {
              "outlinewidth": 0,
              "ticks": ""
             }
            },
            "type": "parcoords"
           }
          ],
          "pie": [
           {
            "automargin": true,
            "type": "pie"
           }
          ],
          "scatter": [
           {
            "fillpattern": {
             "fillmode": "overlay",
             "size": 10,
             "solidity": 0.2
            },
            "type": "scatter"
           }
          ],
          "scatter3d": [
           {
            "line": {
             "colorbar": {
              "outlinewidth": 0,
              "ticks": ""
             }
            },
            "marker": {
             "colorbar": {
              "outlinewidth": 0,
              "ticks": ""
             }
            },
            "type": "scatter3d"
           }
          ],
          "scattercarpet": [
           {
            "marker": {
             "colorbar": {
              "outlinewidth": 0,
              "ticks": ""
             }
            },
            "type": "scattercarpet"
           }
          ],
          "scattergeo": [
           {
            "marker": {
             "colorbar": {
              "outlinewidth": 0,
              "ticks": ""
             }
            },
            "type": "scattergeo"
           }
          ],
          "scattergl": [
           {
            "marker": {
             "colorbar": {
              "outlinewidth": 0,
              "ticks": ""
             }
            },
            "type": "scattergl"
           }
          ],
          "scattermapbox": [
           {
            "marker": {
             "colorbar": {
              "outlinewidth": 0,
              "ticks": ""
             }
            },
            "type": "scattermapbox"
           }
          ],
          "scatterpolar": [
           {
            "marker": {
             "colorbar": {
              "outlinewidth": 0,
              "ticks": ""
             }
            },
            "type": "scatterpolar"
           }
          ],
          "scatterpolargl": [
           {
            "marker": {
             "colorbar": {
              "outlinewidth": 0,
              "ticks": ""
             }
            },
            "type": "scatterpolargl"
           }
          ],
          "scatterternary": [
           {
            "marker": {
             "colorbar": {
              "outlinewidth": 0,
              "ticks": ""
             }
            },
            "type": "scatterternary"
           }
          ],
          "surface": [
           {
            "colorbar": {
             "outlinewidth": 0,
             "ticks": ""
            },
            "colorscale": [
             [
              0,
              "#0d0887"
             ],
             [
              0.1111111111111111,
              "#46039f"
             ],
             [
              0.2222222222222222,
              "#7201a8"
             ],
             [
              0.3333333333333333,
              "#9c179e"
             ],
             [
              0.4444444444444444,
              "#bd3786"
             ],
             [
              0.5555555555555556,
              "#d8576b"
             ],
             [
              0.6666666666666666,
              "#ed7953"
             ],
             [
              0.7777777777777778,
              "#fb9f3a"
             ],
             [
              0.8888888888888888,
              "#fdca26"
             ],
             [
              1,
              "#f0f921"
             ]
            ],
            "type": "surface"
           }
          ],
          "table": [
           {
            "cells": {
             "fill": {
              "color": "#EBF0F8"
             },
             "line": {
              "color": "white"
             }
            },
            "header": {
             "fill": {
              "color": "#C8D4E3"
             },
             "line": {
              "color": "white"
             }
            },
            "type": "table"
           }
          ]
         },
         "layout": {
          "annotationdefaults": {
           "arrowcolor": "#2a3f5f",
           "arrowhead": 0,
           "arrowwidth": 1
          },
          "autotypenumbers": "strict",
          "coloraxis": {
           "colorbar": {
            "outlinewidth": 0,
            "ticks": ""
           }
          },
          "colorscale": {
           "diverging": [
            [
             0,
             "#8e0152"
            ],
            [
             0.1,
             "#c51b7d"
            ],
            [
             0.2,
             "#de77ae"
            ],
            [
             0.3,
             "#f1b6da"
            ],
            [
             0.4,
             "#fde0ef"
            ],
            [
             0.5,
             "#f7f7f7"
            ],
            [
             0.6,
             "#e6f5d0"
            ],
            [
             0.7,
             "#b8e186"
            ],
            [
             0.8,
             "#7fbc41"
            ],
            [
             0.9,
             "#4d9221"
            ],
            [
             1,
             "#276419"
            ]
           ],
           "sequential": [
            [
             0,
             "#0d0887"
            ],
            [
             0.1111111111111111,
             "#46039f"
            ],
            [
             0.2222222222222222,
             "#7201a8"
            ],
            [
             0.3333333333333333,
             "#9c179e"
            ],
            [
             0.4444444444444444,
             "#bd3786"
            ],
            [
             0.5555555555555556,
             "#d8576b"
            ],
            [
             0.6666666666666666,
             "#ed7953"
            ],
            [
             0.7777777777777778,
             "#fb9f3a"
            ],
            [
             0.8888888888888888,
             "#fdca26"
            ],
            [
             1,
             "#f0f921"
            ]
           ],
           "sequentialminus": [
            [
             0,
             "#0d0887"
            ],
            [
             0.1111111111111111,
             "#46039f"
            ],
            [
             0.2222222222222222,
             "#7201a8"
            ],
            [
             0.3333333333333333,
             "#9c179e"
            ],
            [
             0.4444444444444444,
             "#bd3786"
            ],
            [
             0.5555555555555556,
             "#d8576b"
            ],
            [
             0.6666666666666666,
             "#ed7953"
            ],
            [
             0.7777777777777778,
             "#fb9f3a"
            ],
            [
             0.8888888888888888,
             "#fdca26"
            ],
            [
             1,
             "#f0f921"
            ]
           ]
          },
          "colorway": [
           "#636efa",
           "#EF553B",
           "#00cc96",
           "#ab63fa",
           "#FFA15A",
           "#19d3f3",
           "#FF6692",
           "#B6E880",
           "#FF97FF",
           "#FECB52"
          ],
          "font": {
           "color": "#2a3f5f"
          },
          "geo": {
           "bgcolor": "white",
           "lakecolor": "white",
           "landcolor": "#E5ECF6",
           "showlakes": true,
           "showland": true,
           "subunitcolor": "white"
          },
          "hoverlabel": {
           "align": "left"
          },
          "hovermode": "closest",
          "mapbox": {
           "style": "light"
          },
          "paper_bgcolor": "white",
          "plot_bgcolor": "#E5ECF6",
          "polar": {
           "angularaxis": {
            "gridcolor": "white",
            "linecolor": "white",
            "ticks": ""
           },
           "bgcolor": "#E5ECF6",
           "radialaxis": {
            "gridcolor": "white",
            "linecolor": "white",
            "ticks": ""
           }
          },
          "scene": {
           "xaxis": {
            "backgroundcolor": "#E5ECF6",
            "gridcolor": "white",
            "gridwidth": 2,
            "linecolor": "white",
            "showbackground": true,
            "ticks": "",
            "zerolinecolor": "white"
           },
           "yaxis": {
            "backgroundcolor": "#E5ECF6",
            "gridcolor": "white",
            "gridwidth": 2,
            "linecolor": "white",
            "showbackground": true,
            "ticks": "",
            "zerolinecolor": "white"
           },
           "zaxis": {
            "backgroundcolor": "#E5ECF6",
            "gridcolor": "white",
            "gridwidth": 2,
            "linecolor": "white",
            "showbackground": true,
            "ticks": "",
            "zerolinecolor": "white"
           }
          },
          "shapedefaults": {
           "line": {
            "color": "#2a3f5f"
           }
          },
          "ternary": {
           "aaxis": {
            "gridcolor": "white",
            "linecolor": "white",
            "ticks": ""
           },
           "baxis": {
            "gridcolor": "white",
            "linecolor": "white",
            "ticks": ""
           },
           "bgcolor": "#E5ECF6",
           "caxis": {
            "gridcolor": "white",
            "linecolor": "white",
            "ticks": ""
           }
          },
          "title": {
           "x": 0.05
          },
          "xaxis": {
           "automargin": true,
           "gridcolor": "white",
           "linecolor": "white",
           "ticks": "",
           "title": {
            "standoff": 15
           },
           "zerolinecolor": "white",
           "zerolinewidth": 2
          },
          "yaxis": {
           "automargin": true,
           "gridcolor": "white",
           "linecolor": "white",
           "ticks": "",
           "title": {
            "standoff": 15
           },
           "zerolinecolor": "white",
           "zerolinewidth": 2
          }
         }
        },
        "xaxis": {
         "exponentformat": "e",
         "tickvals": {
          "dtype": "float64",
          "shape": [
           5
          ]
         },
         "title": {
          "text": "Al2O3"
         }
        },
        "yaxis": {
         "exponentformat": "e",
         "tickvals": {
          "dtype": "float64",
          "shape": [
           5
          ]
         },
         "title": {
          "text": "Log(CaO)"
         }
        }
       },
       "_py2js_animate": {},
       "_py2js_moveTraces": {},
       "_py2js_removeLayoutProps": {},
       "_py2js_removeTraceProps": {},
       "_py2js_restyle": {},
       "_view_count": 0
      }
     },
     "64bd4cb8444d476a8f73edb8566b5cc9": {
      "model_module": "@jupyter-widgets/controls",
      "model_module_version": "1.5.0",
      "model_name": "DescriptionStyleModel",
      "state": {
       "description_width": ""
      }
     },
     "64e58b19694f442f9778c1bbf0e3b1e4": {
      "model_module": "@jupyter-widgets/base",
      "model_module_version": "1.2.0",
      "model_name": "LayoutModel",
      "state": {}
     },
     "65140579aeda4d9f9f24148461bb8335": {
      "model_module": "@jupyter-widgets/base",
      "model_module_version": "1.2.0",
      "model_name": "LayoutModel",
      "state": {
       "width": "300px"
      }
     },
     "655ac304bc9e42e0b9d5694c15d70522": {
      "model_module": "@jupyter-widgets/base",
      "model_module_version": "1.2.0",
      "model_name": "LayoutModel",
      "state": {}
     },
     "6636026f8fdc41edb890b9cc5db2eb53": {
      "model_module": "@jupyter-widgets/controls",
      "model_module_version": "1.5.0",
      "model_name": "VBoxModel",
      "state": {
       "children": [
        "IPY_MODEL_325eeedb9fcf4edf86c905cc60e6e0b3",
        "IPY_MODEL_5cdce4d125da4ac5a2e27949e5dff651"
       ],
       "layout": "IPY_MODEL_7323b117c8404756aa8e16c0dfd8399c"
      }
     },
     "66b0494130f24739b238ce0e0d164bdc": {
      "model_module": "@jupyter-widgets/controls",
      "model_module_version": "1.5.0",
      "model_name": "HBoxModel",
      "state": {
       "children": [
        "IPY_MODEL_392b9008d0b8463cae8b05aaf8ac7473"
       ],
       "layout": "IPY_MODEL_0cc61fb20a1249e291dfad28c7fcc514"
      }
     },
     "67063ea094104683892fda0ccf551dfe": {
      "model_module": "@jupyter-widgets/controls",
      "model_module_version": "1.5.0",
      "model_name": "DescriptionStyleModel",
      "state": {
       "description_width": "initial"
      }
     },
     "67296045c1e3445a86b016bd597333de": {
      "model_module": "@jupyter-widgets/controls",
      "model_module_version": "1.5.0",
      "model_name": "DescriptionStyleModel",
      "state": {
       "description_width": ""
      }
     },
     "67e71bc9ea3d4244b62f5ebaad83eed0": {
      "model_module": "@jupyter-widgets/base",
      "model_module_version": "1.2.0",
      "model_name": "LayoutModel",
      "state": {
       "grid_area": "pathlist",
       "width": "auto"
      }
     },
     "683cf0371bf44a0191682ddbf4082214": {
      "model_module": "@jupyter-widgets/base",
      "model_module_version": "1.2.0",
      "model_name": "LayoutModel",
      "state": {}
     },
     "68d04ea93fe4471fb500206f639e243c": {
      "model_module": "@jupyter-widgets/output",
      "model_module_version": "1.0.0",
      "model_name": "OutputModel",
      "state": {
       "layout": "IPY_MODEL_087cb39668d14d039ac94d281a5d689c"
      }
     },
     "6914d2afc66e45659bdfb8e5149dd5d8": {
      "model_module": "@jupyter-widgets/controls",
      "model_module_version": "1.5.0",
      "model_name": "ButtonModel",
      "state": {
       "description": "Change",
       "layout": "IPY_MODEL_3b399fec1a624f8e85940d64c8a90b0a",
       "style": "IPY_MODEL_bfabf89f2db943ae81bbacc98296e406"
      }
     },
     "693e0d9d239c42e687aaf5ff5129ef9b": {
      "model_module": "@jupyter-widgets/controls",
      "model_module_version": "1.5.0",
      "model_name": "DescriptionStyleModel",
      "state": {
       "description_width": "initial"
      }
     },
     "6a22ca1b1c774d9baa2373d390546a64": {
      "model_module": "@jupyter-widgets/controls",
      "model_module_version": "1.5.0",
      "model_name": "DescriptionStyleModel",
      "state": {
       "description_width": ""
      }
     },
     "6b82efe61d464103bf344cb248a203e1": {
      "model_module": "@jupyter-widgets/controls",
      "model_module_version": "1.5.0",
      "model_name": "DescriptionStyleModel",
      "state": {
       "description_width": ""
      }
     },
     "6bdce1b4c4e34de996444e132b09cea5": {
      "model_module": "@jupyter-widgets/controls",
      "model_module_version": "1.5.0",
      "model_name": "CheckboxModel",
      "state": {
       "description": "Log10",
       "disabled": false,
       "indent": false,
       "layout": "IPY_MODEL_9f7c6eded66b49a587f9d86a2fcb1038",
       "style": "IPY_MODEL_0ee369afddb64f398779ad6dab745fc8",
       "value": true
      }
     },
     "6bec0a3942194acf88f9a1198873b0b7": {
      "model_module": "@jupyter-widgets/controls",
      "model_module_version": "1.5.0",
      "model_name": "DescriptionStyleModel",
      "state": {
       "description_width": "initial"
      }
     },
     "6c18009af6924f33a47ad6856b00c59b": {
      "model_module": "@jupyter-widgets/controls",
      "model_module_version": "1.5.0",
      "model_name": "ButtonStyleModel",
      "state": {}
     },
     "6c1c15087a454d0798f19c1b95ed412a": {
      "model_module": "@jupyter-widgets/controls",
      "model_module_version": "1.5.0",
      "model_name": "HBoxModel",
      "state": {
       "children": [
        "IPY_MODEL_a781d9abd9504173825b4798d6673373",
        "IPY_MODEL_f41b32e9ea664001abafe536b527dd44"
       ],
       "layout": "IPY_MODEL_b076a2dd7c8247988432d082d5c66385"
      }
     },
     "6d781fb0adfd4d0a88f99a5610a41d50": {
      "model_module": "@jupyter-widgets/controls",
      "model_module_version": "1.5.0",
      "model_name": "HBoxModel",
      "state": {
       "children": [
        "IPY_MODEL_a678c7ba084348f7b803cb0f49c10864",
        "IPY_MODEL_2692a41d80d8484da2b51e886d5cc049",
        "IPY_MODEL_cc3bd0124aac4255ba3e3fb3747ee907"
       ],
       "layout": "IPY_MODEL_f1c04391af1e4724963f67c920791db0"
      }
     },
     "6dd36f8fa2434b6c989cc4ee28fd9963": {
      "model_module": "@jupyter-widgets/controls",
      "model_module_version": "1.5.0",
      "model_name": "ToggleButtonModel",
      "state": {
       "description": "Refresh Plot",
       "layout": "IPY_MODEL_683cf0371bf44a0191682ddbf4082214",
       "style": "IPY_MODEL_eaa4bbf71f5c4ac6b52932b07a692c3a",
       "value": true
      }
     },
     "6df3b4ca18754f49af690a8db3e378bd": {
      "model_module": "@jupyter-widgets/controls",
      "model_module_version": "1.5.0",
      "model_name": "DescriptionStyleModel",
      "state": {
       "description_width": "initial"
      }
     },
     "6e8d0a7389354a7ba28e2e0c38b1182b": {
      "model_module": "@jupyter-widgets/base",
      "model_module_version": "1.2.0",
      "model_name": "LayoutModel",
      "state": {
       "margin": "0 0 0 1em"
      }
     },
     "6fe07aacbe724d7ea82cd91e83c0ad2e": {
      "model_module": "@jupyter-widgets/controls",
      "model_module_version": "1.5.0",
      "model_name": "BoxModel",
      "state": {
       "children": [
        "IPY_MODEL_04a15b6b24b6493ba352383d9ae6c656"
       ],
       "layout": "IPY_MODEL_df8282cd284c4106b4aeb68db38ae124"
      }
     },
     "6febefb4353847c4a3495df587375375": {
      "model_module": "@jupyter-widgets/controls",
      "model_module_version": "1.5.0",
      "model_name": "DescriptionStyleModel",
      "state": {
       "description_width": ""
      }
     },
     "707fe906519242f6a711c2b6b186b9b8": {
      "model_module": "@jupyter-widgets/base",
      "model_module_version": "1.2.0",
      "model_name": "LayoutModel",
      "state": {
       "overflow": "auto"
      }
     },
     "719e93c7282043afa66353d16a1709ee": {
      "model_module": "@jupyter-widgets/controls",
      "model_module_version": "1.5.0",
      "model_name": "DescriptionStyleModel",
      "state": {
       "description_width": "initial"
      }
     },
     "71dfa5f5749741c8a42ac434d90cd6e0": {
      "model_module": "@jupyter-widgets/controls",
      "model_module_version": "1.5.0",
      "model_name": "VBoxModel",
      "state": {
       "children": [
        "IPY_MODEL_b80b2ae84b904a8bbeb59ae38074119b",
        "IPY_MODEL_1c762e2843d94c209388271f592a5051",
        "IPY_MODEL_95d204f025524bfa9b3b09cc5f61095c",
        "IPY_MODEL_0ebd028d0ee54017907c814808d6a40d",
        "IPY_MODEL_ea7380251ef9470cbec81496378c6c3a"
       ],
       "layout": "IPY_MODEL_20105d12c4c7492098b2c46090d1a632"
      }
     },
     "71f6307931f64de7891a12da7abb536c": {
      "model_module": "@jupyter-widgets/controls",
      "model_module_version": "1.5.0",
      "model_name": "ButtonModel",
      "state": {
       "button_style": "danger",
       "description": "Save HTML",
       "icon": "check",
       "layout": "IPY_MODEL_e06bdc5edd9a4d1994a7d9d04df6eb9d",
       "style": "IPY_MODEL_f5b4dff6bea3475092f0d4ee1d2e1370",
       "tooltip": "Run computation"
      }
     },
     "724c65408bb24ac48a442a296e583f88": {
      "model_module": "@jupyter-widgets/controls",
      "model_module_version": "1.5.0",
      "model_name": "DescriptionStyleModel",
      "state": {
       "description_width": "initial"
      }
     },
     "7323b117c8404756aa8e16c0dfd8399c": {
      "model_module": "@jupyter-widgets/base",
      "model_module_version": "1.2.0",
      "model_name": "LayoutModel",
      "state": {}
     },
     "7426638c24a1483aa06d32e5a61f48ae": {
      "model_module": "@jupyter-widgets/controls",
      "model_module_version": "1.5.0",
      "model_name": "SelectModel",
      "state": {
       "_options_labels": [
        "📁 ..",
        "📁 Temp",
        "📁 uijson",
        "FlinFlon.geoh5",
        "FlinFlon_dcip.geoh5",
        "FlinFlon_dcip_v4.geoh5",
        "FlinFlon_natural_sources.geoh5",
        "FlinFlon_natural_sources_v4.geoh5",
        "MtDore_TMI.geoh5"
       ],
       "index": 3,
       "layout": "IPY_MODEL_8182d0ee35c341038415c02af70db55e",
       "rows": 8,
       "style": "IPY_MODEL_113310d37a6a41908326ac60e5a2451f"
      }
     },
     "7459345adec14a9fb6b2f7055cbe83e9": {
      "model_module": "@jupyter-widgets/controls",
      "model_module_version": "1.5.0",
      "model_name": "DescriptionStyleModel",
      "state": {
       "description_width": ""
      }
     },
     "747ec0b7b88f4f928676acaa62d449b4": {
      "model_module": "@jupyter-widgets/controls",
      "model_module_version": "1.5.0",
      "model_name": "VBoxModel",
      "state": {
       "children": [
        "IPY_MODEL_99c579a6c24140f6a66165919fac2242",
        "IPY_MODEL_e58a4a50098346608476586ccace75ca"
       ],
       "layout": "IPY_MODEL_c63794b4107d4ae5abeba1e770ab9d18"
      }
     },
     "7482e290145848f29f6f5629409a0f0e": {
      "model_module": "@jupyter-widgets/controls",
      "model_module_version": "1.5.0",
      "model_name": "DescriptionStyleModel",
      "state": {
       "description_width": "initial"
      }
     },
     "74d6fab753f840f59bf9b85d29ef28f8": {
      "model_module": "@jupyter-widgets/controls",
      "model_module_version": "1.5.0",
      "model_name": "FloatTextModel",
      "state": {
       "description": "Max",
       "layout": "IPY_MODEL_2475debb739444e6b1e77d1461febba2",
       "step": null,
       "style": "IPY_MODEL_6df3b4ca18754f49af690a8db3e378bd",
       "value": 25.5
      }
     },
     "76be45e45b0f4b95828c8f645823dbc7": {
      "model_module": "@jupyter-widgets/controls",
      "model_module_version": "1.5.0",
      "model_name": "HBoxModel",
      "state": {
       "children": [
        "IPY_MODEL_f54a1890991f416b8df4276e91aa3965",
        "IPY_MODEL_add73912c74347bfa9de126bea30432a"
       ],
       "layout": "IPY_MODEL_f5b8cfeb454345749ea65f212f524a9f"
      }
     },
     "76f66e8f3c8b45d996ba9c54b248f1ce": {
      "model_module": "@jupyter-widgets/controls",
      "model_module_version": "1.5.0",
      "model_name": "DescriptionStyleModel",
      "state": {
       "description_width": ""
      }
     },
     "77815908a77841a8b33a56319248dc6f": {
      "model_module": "@jupyter-widgets/controls",
      "model_module_version": "1.5.0",
      "model_name": "DescriptionStyleModel",
      "state": {
       "description_width": ""
      }
     },
     "781e500da3b84405ab3d70a9df5a4089": {
      "model_module": "@jupyter-widgets/controls",
      "model_module_version": "1.5.0",
      "model_name": "LabelModel",
      "state": {
       "layout": "IPY_MODEL_4ba685122f954f0ba8b15668d7897921",
       "style": "IPY_MODEL_c3a669dd52b341b19dbfddee383c8217",
       "value": "Save to:"
      }
     },
     "79063bde62a24d89ad5975e4252a45ff": {
      "model_module": "@jupyter-widgets/controls",
      "model_module_version": "1.5.0",
      "model_name": "LabelModel",
      "state": {
       "layout": "IPY_MODEL_64e58b19694f442f9778c1bbf0e3b1e4",
       "style": "IPY_MODEL_693e0d9d239c42e687aaf5ff5129ef9b",
       "value": "Save to:"
      }
     },
     "7a67333b97c94cf0ae0524a0e016695f": {
      "model_module": "@jupyter-widgets/controls",
      "model_module_version": "1.5.0",
      "model_name": "HBoxModel",
      "state": {
       "children": [
        "IPY_MODEL_09ec718471454bb8be3f3b7b52245c2b",
        "IPY_MODEL_22d63d71622c4456a6f84d7951aaa7d3"
       ],
       "layout": "IPY_MODEL_176219f4253947a5af8502b6d86edd44"
      }
     },
     "7a9daa3fd4284d6b9d5b70a7aa8018f6": {
      "model_module": "@jupyter-widgets/controls",
      "model_module_version": "1.5.0",
      "model_name": "VBoxModel",
      "state": {
       "children": [
        "IPY_MODEL_13d6300a458e42faa4ca0040920a0eb0",
        "IPY_MODEL_d77147ca1d0c4fe19e2c59634bcaeaa4",
        "IPY_MODEL_561246d681c5472295e8d81a7b3530fc"
       ],
       "layout": "IPY_MODEL_901c06e4360146dea89a50a3bf3e87df"
      }
     },
     "7abdde7b7ef3402cbb8c922a5ec6940d": {
      "model_module": "@jupyter-widgets/base",
      "model_module_version": "1.2.0",
      "model_name": "LayoutModel",
      "state": {}
     },
     "7ada8e9f1de24ab98ae2ab3159b1d31b": {
      "model_module": "@jupyter-widgets/base",
      "model_module_version": "1.2.0",
      "model_name": "LayoutModel",
      "state": {}
     },
     "7ae9a6cbaa7146c5bbae32c859695a7a": {
      "model_module": "@jupyter-widgets/base",
      "model_module_version": "1.2.0",
      "model_name": "LayoutModel",
      "state": {}
     },
     "7b24baa49e4f4e85817e9403d8ae92e9": {
      "model_module": "@jupyter-widgets/controls",
      "model_module_version": "1.5.0",
      "model_name": "DescriptionStyleModel",
      "state": {
       "description_width": "initial"
      }
     },
     "7b43e9bbecaf4454bc358440df4fafb2": {
      "model_module": "@jupyter-widgets/controls",
      "model_module_version": "1.5.0",
      "model_name": "HBoxModel",
      "state": {
       "children": [
        "IPY_MODEL_f94a5b4c63954562a1c814de0267a8a2",
        "IPY_MODEL_08d4955c5b2047e1b529b4b73a8c4884"
       ],
       "layout": "IPY_MODEL_8affa58503c5419cb6ba6aff0fc81d14"
      }
     },
     "7baef6f2af89457ba592f8d11d6b5213": {
      "model_module": "@jupyter-widgets/controls",
      "model_module_version": "1.5.0",
      "model_name": "DescriptionStyleModel",
      "state": {
       "description_width": "initial"
      }
     },
     "7becef6bf2dc493d8d118a8466328e85": {
      "model_module": "@jupyter-widgets/controls",
      "model_module_version": "1.5.0",
      "model_name": "FloatTextModel",
      "state": {
       "description": "Threshold",
       "layout": "IPY_MODEL_5e64784b0a274d2fb885fff949a39226",
       "step": null,
       "style": "IPY_MODEL_848e3c6b664548b8998d6ee2d230fd46",
       "value": 0.1
      }
     },
     "7c549aeccd3c4d16b90299486ba5c9ca": {
      "model_module": "@jupyter-widgets/base",
      "model_module_version": "1.2.0",
      "model_name": "LayoutModel",
      "state": {}
     },
     "7c96b037439243e0a5861456500668c1": {
      "model_module": "@jupyter-widgets/controls",
      "model_module_version": "1.5.0",
      "model_name": "DescriptionStyleModel",
      "state": {
       "description_width": "initial"
      }
     },
     "7dd2590d94954dd399aa0dd206cbc369": {
      "model_module": "@jupyter-widgets/controls",
      "model_module_version": "1.5.0",
      "model_name": "VBoxModel",
      "state": {
       "children": [
        "IPY_MODEL_781e500da3b84405ab3d70a9df5a4089",
        "IPY_MODEL_f2ba84783ff94d05abce679252037957"
       ],
       "layout": "IPY_MODEL_a19d6c4e8a0444e8941f7d92b8606ce2"
      }
     },
     "7de247b78b00495b8765c08b64240a5d": {
      "model_module": "@jupyter-widgets/base",
      "model_module_version": "1.2.0",
      "model_name": "LayoutModel",
      "state": {}
     },
     "7de9727394d04be3ac52a1b98f28b256": {
      "model_module": "@jupyter-widgets/controls",
      "model_module_version": "1.5.0",
      "model_name": "HBoxModel",
      "state": {
       "children": [
        "IPY_MODEL_7a9daa3fd4284d6b9d5b70a7aa8018f6",
        "IPY_MODEL_cfe240d31b4b4b34bd33fb3fd6fe675a"
       ],
       "layout": "IPY_MODEL_982354c765db4b4e8a580aedf1ee4e9b"
      }
     },
     "7ded18e97b5f4045b53debc375b8aafd": {
      "model_module": "@jupyter-widgets/controls",
      "model_module_version": "1.5.0",
      "model_name": "DropdownModel",
      "state": {
       "_options_labels": [
        "",
        "Labels/Label3",
        "Labels/Label1",
        "Ore/39_Ore_Callinan",
        "Ore/38_Ore_Dan_Owens",
        "Ore/40_Ore_FlinFlon",
        "Workspace/Inversion_VTEM_Model",
        "Workspace/Gravity_Magnetics_drape60m",
        "Workspace/CDI_VTEM_model",
        "Workspace/Data_FEM_pseudo3D",
        "Workspace/O2O_Interp_25m",
        "Workspace/geochem",
        "Workspace/Inversion_DIGHEM_Model",
        "Workspace/Topography",
        "Workspace/Data_TEM_pseudo3D",
        "Workspace/Data_ZTEM",
        "Workspace/Mesh"
       ],
       "description": "Object:",
       "index": 11,
       "layout": "IPY_MODEL_415d811749ec4e19ab84dc6b6c502a72",
       "style": "IPY_MODEL_4327c81a940f417c8bd0b1208580e0ce"
      }
     },
     "7e7ca3442e944b5a8ef50fa9cff124a9": {
      "model_module": "@jupyter-widgets/base",
      "model_module_version": "1.2.0",
      "model_name": "LayoutModel",
      "state": {}
     },
     "7f2d3d818fc24b22b437078a0d48d5fe": {
      "model_module": "@jupyter-widgets/base",
      "model_module_version": "1.2.0",
      "model_name": "LayoutModel",
      "state": {}
     },
     "7ffbaab555114935be419f103d6b27ea": {
      "model_module": "@jupyter-widgets/base",
      "model_module_version": "1.2.0",
      "model_name": "LayoutModel",
      "state": {}
     },
     "8182d0ee35c341038415c02af70db55e": {
      "model_module": "@jupyter-widgets/base",
      "model_module_version": "1.2.0",
      "model_name": "LayoutModel",
      "state": {
       "grid_area": "dircontent",
       "width": "auto"
      }
     },
     "82b126ec013542abbe1630fe44b3621f": {
      "model_module": "@jupyter-widgets/controls",
      "model_module_version": "1.5.0",
      "model_name": "DescriptionStyleModel",
      "state": {
       "description_width": ""
      }
     },
     "82b7d9b4298a42a98e9707951808cfff": {
      "model_module": "@jupyter-widgets/controls",
      "model_module_version": "1.5.0",
      "model_name": "DropdownModel",
      "state": {
       "_options_labels": [
        "",
        "Labels/Label3",
        "Labels/Label1",
        "Ore/39_Ore_Callinan",
        "Ore/38_Ore_Dan_Owens",
        "Ore/40_Ore_FlinFlon",
        "Workspace/Inversion_VTEM_Model",
        "Workspace/Gravity_Magnetics_drape60m",
        "Workspace/CDI_VTEM_model",
        "Workspace/Data_FEM_pseudo3D",
        "Workspace/O2O_Interp_25m",
        "Workspace/geochem",
        "Workspace/Inversion_DIGHEM_Model",
        "Workspace/Topography",
        "Workspace/Data_TEM_pseudo3D",
        "Workspace/Data_ZTEM",
        "Workspace/Mesh"
       ],
       "description": "Object:",
       "index": 11,
       "layout": "IPY_MODEL_8aa843bf347b44999dd42a6ae7a68b8b",
       "style": "IPY_MODEL_9db811400ce548508109030f8f3ce0fc"
      }
     },
     "833befb1210d4b40aabfaff4c9cffea7": {
      "model_module": "@jupyter-widgets/controls",
      "model_module_version": "1.5.0",
      "model_name": "DescriptionStyleModel",
      "state": {
       "description_width": "initial"
      }
     },
     "83537d9f59744eebaec8d3ad9e5a74ed": {
      "model_module": "@jupyter-widgets/controls",
      "model_module_version": "1.5.0",
      "model_name": "DescriptionStyleModel",
      "state": {
       "description_width": "initial"
      }
     },
     "83a3413b1f1949cd8d679fddb3dab73a": {
      "model_module": "@jupyter-widgets/controls",
      "model_module_version": "1.5.0",
      "model_name": "DescriptionStyleModel",
      "state": {
       "description_width": "initial"
      }
     },
     "84228fe2ff804d6c99839f6f049e67be": {
      "model_module": "@jupyter-widgets/controls",
      "model_module_version": "1.5.0",
      "model_name": "DescriptionStyleModel",
      "state": {
       "description_width": "initial"
      }
     },
     "84250e876df94bc4ae1d5b07ba8bd37c": {
      "model_module": "@jupyter-widgets/controls",
      "model_module_version": "1.5.0",
      "model_name": "DescriptionStyleModel",
      "state": {
       "description_width": "initial"
      }
     },
     "842f221fd27e414c9a0ddb33bd851a85": {
      "model_module": "@jupyter-widgets/base",
      "model_module_version": "1.2.0",
      "model_name": "LayoutModel",
      "state": {}
     },
     "847a53ade23141e18f47bae5f4839d51": {
      "model_module": "@jupyter-widgets/base",
      "model_module_version": "1.2.0",
      "model_name": "LayoutModel",
      "state": {}
     },
     "848e3c6b664548b8998d6ee2d230fd46": {
      "model_module": "@jupyter-widgets/controls",
      "model_module_version": "1.5.0",
      "model_name": "DescriptionStyleModel",
      "state": {
       "description_width": "initial"
      }
     },
     "84b5a675a3e3444daadc1b041555758a": {
      "model_module": "@jupyter-widgets/controls",
      "model_module_version": "1.5.0",
      "model_name": "CheckboxModel",
      "state": {
       "description": "Active",
       "disabled": false,
       "indent": false,
       "layout": "IPY_MODEL_8f883542d3f54047b385473c59fa9fe0",
       "style": "IPY_MODEL_b26b2c5f40984909ab1b6b74a86306b4",
       "value": true
      }
     },
     "84b8d1c5b1e8426fb6623ae05111a8ab": {
      "model_module": "@jupyter-widgets/controls",
      "model_module_version": "1.5.0",
      "model_name": "DescriptionStyleModel",
      "state": {
       "description_width": ""
      }
     },
     "85475e51daac4a568a8ed08395e4749b": {
      "model_module": "@jupyter-widgets/controls",
      "model_module_version": "1.5.0",
      "model_name": "DescriptionStyleModel",
      "state": {
       "description_width": ""
      }
     },
     "860dc753bd10472a92fcdded0525ace1": {
      "model_module": "@jupyter-widgets/controls",
      "model_module_version": "1.5.0",
      "model_name": "CheckboxModel",
      "state": {
       "description": "Active",
       "disabled": false,
       "indent": false,
       "layout": "IPY_MODEL_b65e4ba64e6f474daeaf0787873c142e",
       "style": "IPY_MODEL_630266e740f2462ca797696840ffd873",
       "value": true
      }
     },
     "8802506660974025be653d51efb88bc2": {
      "model_module": "@jupyter-widgets/base",
      "model_module_version": "1.2.0",
      "model_name": "LayoutModel",
      "state": {}
     },
     "884cd53348e04a43a2e55e0f777f87f6": {
      "model_module": "@jupyter-widgets/base",
      "model_module_version": "1.2.0",
      "model_name": "LayoutModel",
      "state": {
       "grid_area": "dircontent",
       "width": "auto"
      }
     },
     "8851e78a743e4fa0a2680aa6632e78e9": {
      "model_module": "@jupyter-widgets/controls",
      "model_module_version": "1.5.0",
      "model_name": "DescriptionStyleModel",
      "state": {
       "description_width": "initial"
      }
     },
     "88f64a79b8274129bf498e6c1ba3f8e3": {
      "model_module": "@jupyter-widgets/base",
      "model_module_version": "1.2.0",
      "model_name": "LayoutModel",
      "state": {}
     },
     "8aa843bf347b44999dd42a6ae7a68b8b": {
      "model_module": "@jupyter-widgets/base",
      "model_module_version": "1.2.0",
      "model_name": "LayoutModel",
      "state": {}
     },
     "8acbffa0d27e4fd190a296b66ba78556": {
      "model_module": "@jupyter-widgets/base",
      "model_module_version": "1.2.0",
      "model_name": "LayoutModel",
      "state": {}
     },
     "8af5174f4a2c4307beb788e23255882e": {
      "model_module": "@jupyter-widgets/base",
      "model_module_version": "1.2.0",
      "model_name": "LayoutModel",
      "state": {}
     },
     "8affa58503c5419cb6ba6aff0fc81d14": {
      "model_module": "@jupyter-widgets/base",
      "model_module_version": "1.2.0",
      "model_name": "LayoutModel",
      "state": {}
     },
     "8b9f15cba512484c885f4bfa537ba31d": {
      "model_module": "@jupyter-widgets/controls",
      "model_module_version": "1.5.0",
      "model_name": "DescriptionStyleModel",
      "state": {
       "description_width": "initial"
      }
     },
     "8ba60c65ca804b108a3bc90ea6db952c": {
      "model_module": "@jupyter-widgets/controls",
      "model_module_version": "1.5.0",
      "model_name": "DescriptionStyleModel",
      "state": {
       "description_width": "initial"
      }
     },
     "8bea4ecee2b345779a299e3fd6ceecdd": {
      "model_module": "@jupyter-widgets/controls",
      "model_module_version": "1.5.0",
      "model_name": "DescriptionStyleModel",
      "state": {
       "description_width": "initial"
      }
     },
     "8c268346f724414299741d3e46b661ec": {
      "model_module": "@jupyter-widgets/controls",
      "model_module_version": "1.5.0",
      "model_name": "DescriptionStyleModel",
      "state": {
       "description_width": "initial"
      }
     },
     "8c6373c884cd4db49d33245c5d669f86": {
      "model_module": "@jupyter-widgets/controls",
      "model_module_version": "1.5.0",
      "model_name": "ButtonModel",
      "state": {
       "description": "Cancel",
       "layout": "IPY_MODEL_555fc45bf5fd48d5bb3bfab7acef1758",
       "style": "IPY_MODEL_34745939e8d7404c92bbdc3204f96376"
      }
     },
     "8cafc79c8165444c942fdf3074254850": {
      "model_module": "@jupyter-widgets/controls",
      "model_module_version": "1.5.0",
      "model_name": "VBoxModel",
      "state": {
       "children": [
        "IPY_MODEL_bf0266ca120442619d733440dde59d45",
        "IPY_MODEL_66b0494130f24739b238ce0e0d164bdc",
        "IPY_MODEL_c71365d26ff5436e8f5331135c557914",
        "IPY_MODEL_4b1103559fa4431799ac03f71be077a7"
       ],
       "layout": "IPY_MODEL_0fc81169f28047108b8b075a5fe01395"
      }
     },
     "8cb391a7edeb4e309ddafd12634bffd7": {
      "model_module": "@jupyter-widgets/controls",
      "model_module_version": "1.5.0",
      "model_name": "HBoxModel",
      "state": {
       "children": [
        "IPY_MODEL_6914d2afc66e45659bdfb8e5149dd5d8",
        "IPY_MODEL_8c6373c884cd4db49d33245c5d669f86",
        "IPY_MODEL_6fe07aacbe724d7ea82cd91e83c0ad2e"
       ],
       "layout": "IPY_MODEL_124a927cc6e24c3d914c731852958791"
      }
     },
     "8cd70b2ef8c248d3a2e3682fe345a815": {
      "model_module": "@jupyter-widgets/controls",
      "model_module_version": "1.5.0",
      "model_name": "ButtonStyleModel",
      "state": {}
     },
     "8d6056be3c474a0a8472707cd6148945": {
      "model_module": "@jupyter-widgets/controls",
      "model_module_version": "1.5.0",
      "model_name": "DescriptionStyleModel",
      "state": {
       "description_width": "initial"
      }
     },
     "8e5dd4dc4b6347638d42b9f9b80845f3": {
      "model_module": "@jupyter-widgets/controls",
      "model_module_version": "1.5.0",
      "model_name": "DescriptionStyleModel",
      "state": {
       "description_width": ""
      }
     },
     "8ec71fe934cb41f793c32a635d5f1763": {
      "model_module": "@jupyter-widgets/base",
      "model_module_version": "1.2.0",
      "model_name": "LayoutModel",
      "state": {
       "display": "none",
       "grid_area": "filename",
       "width": "auto"
      }
     },
     "8f883542d3f54047b385473c59fa9fe0": {
      "model_module": "@jupyter-widgets/base",
      "model_module_version": "1.2.0",
      "model_name": "LayoutModel",
      "state": {}
     },
     "901c06e4360146dea89a50a3bf3e87df": {
      "model_module": "@jupyter-widgets/base",
      "model_module_version": "1.2.0",
      "model_name": "LayoutModel",
      "state": {
       "width": "500px"
      }
     },
     "905a78f6a27f46b799c7fa1848616f9c": {
      "model_module": "@jupyter-widgets/base",
      "model_module_version": "1.2.0",
      "model_name": "LayoutModel",
      "state": {}
     },
     "90ac4f71162d48b1a560f5bb76704ae0": {
      "model_module": "@jupyter-widgets/controls",
      "model_module_version": "1.5.0",
      "model_name": "DescriptionStyleModel",
      "state": {
       "description_width": ""
      }
     },
     "91e73ff3b58047ccb7c8a0bc1af9c92b": {
      "model_module": "@jupyter-widgets/controls",
      "model_module_version": "1.5.0",
      "model_name": "DescriptionStyleModel",
      "state": {
       "description_width": ""
      }
     },
     "923601e65ec441ae8e6cfc308a05346c": {
      "model_module": "@jupyter-widgets/controls",
      "model_module_version": "1.5.0",
      "model_name": "DescriptionStyleModel",
      "state": {
       "description_width": "initial"
      }
     },
     "92a39a8ade254252a55b0849741218a3": {
      "model_module": "@jupyter-widgets/controls",
      "model_module_version": "1.5.0",
      "model_name": "DescriptionStyleModel",
      "state": {
       "description_width": "initial"
      }
     },
     "92d84bfa256b4ec1b3882787497f7efb": {
      "model_module": "@jupyter-widgets/base",
      "model_module_version": "1.2.0",
      "model_name": "LayoutModel",
      "state": {}
     },
     "93bce183f2db47809374199cec1499f6": {
      "model_module": "@jupyter-widgets/base",
      "model_module_version": "1.2.0",
      "model_name": "LayoutModel",
      "state": {}
     },
     "94ee455c0f0a49fb80a1ebe78aa80d7a": {
      "model_module": "@jupyter-widgets/controls",
      "model_module_version": "1.5.0",
      "model_name": "DescriptionStyleModel",
      "state": {
       "description_width": ""
      }
     },
     "9533c3e5eb464618a7013d15f66edbe7": {
      "model_module": "@jupyter-widgets/controls",
      "model_module_version": "1.5.0",
      "model_name": "FloatTextModel",
      "state": {
       "description": "Threshold",
       "layout": "IPY_MODEL_30a172f136c2462c8438109d260b519e",
       "step": null,
       "style": "IPY_MODEL_f5df5eeeacd14ee7a596a22a1eecca03",
       "value": 0.1
      }
     },
     "955ad0d07447474c8d15cfe751164207": {
      "model_module": "@jupyter-widgets/output",
      "model_module_version": "1.0.0",
      "model_name": "OutputModel",
      "state": {
       "layout": "IPY_MODEL_a90a66d6c3994ae893557dda6c0c2963"
      }
     },
     "95d204f025524bfa9b3b09cc5f61095c": {
      "model_module": "@jupyter-widgets/controls",
      "model_module_version": "1.5.0",
      "model_name": "DropdownModel",
      "state": {
       "_options_labels": [
        "aggrnyl",
        "agsunset",
        "blackbody",
        "bluered",
        "blues",
        "blugrn",
        "bluyl",
        "brwnyl",
        "bugn",
        "bupu",
        "burg",
        "burgyl",
        "cividis",
        "darkmint",
        "electric",
        "emrld",
        "gnbu",
        "greens",
        "greys",
        "hot",
        "inferno",
        "jet",
        "magenta",
        "magma",
        "mint",
        "orrd",
        "oranges",
        "oryel",
        "peach",
        "pinkyl",
        "plasma",
        "plotly3",
        "pubu",
        "pubugn",
        "purd",
        "purp",
        "purples",
        "purpor",
        "rainbow",
        "rdbu",
        "rdpu",
        "redor",
        "reds",
        "sunset",
        "sunsetdark",
        "teal",
        "tealgrn",
        "turbo",
        "viridis",
        "ylgn",
        "ylgnbu",
        "ylorbr",
        "ylorrd",
        "algae",
        "amp",
        "deep",
        "dense",
        "gray",
        "haline",
        "ice",
        "matter",
        "solar",
        "speed",
        "tempo",
        "thermal",
        "turbid",
        "armyrose",
        "brbg",
        "earth",
        "fall",
        "geyser",
        "prgn",
        "piyg",
        "picnic",
        "portland",
        "puor",
        "rdgy",
        "rdylbu",
        "rdylgn",
        "spectral",
        "tealrose",
        "temps",
        "tropic",
        "balance",
        "curl",
        "delta",
        "oxy",
        "edge",
        "hsv",
        "icefire",
        "phase",
        "twilight",
        "mrybm",
        "mygbm"
       ],
       "description": "Colormaps",
       "index": 20,
       "layout": "IPY_MODEL_e321a1fb646d4c62aca6163e40264e77",
       "style": "IPY_MODEL_8c268346f724414299741d3e46b661ec"
      }
     },
     "95dbb21e80784194a8244615751d659d": {
      "model_module": "@jupyter-widgets/controls",
      "model_module_version": "1.5.0",
      "model_name": "VBoxModel",
      "state": {
       "children": [
        "IPY_MODEL_84b5a675a3e3444daadc1b041555758a",
        "IPY_MODEL_dcee19ed6fb948eb9662b98660a2aa91",
        "IPY_MODEL_cae6a0c6239a4b80b6ebe0b3f1ebf9d6",
        "IPY_MODEL_192d8150807740a7ba2e23a17cbd8470"
       ],
       "layout": "IPY_MODEL_e308bba729214f55a8a0567ef67da364"
      }
     },
     "9678184dfeeb49438aec1f477beda10f": {
      "model_module": "@jupyter-widgets/base",
      "model_module_version": "1.2.0",
      "model_name": "LayoutModel",
      "state": {
       "min_width": "6em",
       "width": "6em"
      }
     },
     "96e3b5a94d094743ac70fd5f4c6d5a28": {
      "model_module": "@jupyter-widgets/controls",
      "model_module_version": "1.5.0",
      "model_name": "DescriptionStyleModel",
      "state": {
       "description_width": ""
      }
     },
     "97313a927e0f4856bf5a7658e560afa4": {
      "model_module": "@jupyter-widgets/base",
      "model_module_version": "1.2.0",
      "model_name": "LayoutModel",
      "state": {
       "overflow": "auto"
      }
     },
     "976fdbeb2bbd457b8026c6465fe9ab8a": {
      "model_module": "@jupyter-widgets/controls",
      "model_module_version": "1.5.0",
      "model_name": "VBoxModel",
      "state": {
       "children": [
        "IPY_MODEL_a0efb1da3cd54337b2e6a13a64282d9b",
        "IPY_MODEL_0d8cf285ee5f48368c9c93fc6949a143"
       ],
       "layout": "IPY_MODEL_afc7576d66284674980d3d8f7c606e9a"
      }
     },
     "97a06641cf23492dbac29c8552775e5f": {
      "model_module": "@jupyter-widgets/controls",
      "model_module_version": "1.5.0",
      "model_name": "FloatTextModel",
      "state": {
       "description": "Threshold",
       "layout": "IPY_MODEL_ddae5559db95429382e4c9135d99a4d6",
       "step": null,
       "style": "IPY_MODEL_0c584614ca2441e180eac505285c1c54",
       "value": 0.1
      }
     },
     "97ed1c6f8e7c4f63900df37e3b983b7c": {
      "model_module": "@jupyter-widgets/controls",
      "model_module_version": "1.5.0",
      "model_name": "DescriptionStyleModel",
      "state": {
       "description_width": "initial"
      }
     },
     "97fea917d0ac4e4a94a379a587a5b3b5": {
      "model_module": "@jupyter-widgets/controls",
      "model_module_version": "1.5.0",
      "model_name": "TextModel",
      "state": {
       "disabled": true,
       "layout": "IPY_MODEL_9dd8b9cc7a6f467db6c3c860936db6b9",
       "placeholder": "output filename",
       "style": "IPY_MODEL_470ce012d6d44050b7e9c5bf346d3ac3"
      }
     },
     "982354c765db4b4e8a580aedf1ee4e9b": {
      "model_module": "@jupyter-widgets/base",
      "model_module_version": "1.2.0",
      "model_name": "LayoutModel",
      "state": {}
     },
     "99a790cbed114f89b2f34ece1b554cbf": {
      "model_module": "@jupyter-widgets/controls",
      "model_module_version": "1.5.0",
      "model_name": "DescriptionStyleModel",
      "state": {
       "description_width": ""
      }
     },
     "99ad7643eaeb4fef8419839bebd73d46": {
      "model_module": "@jupyter-widgets/base",
      "model_module_version": "1.2.0",
      "model_name": "LayoutModel",
      "state": {
       "margin": "0 0 0 1em"
      }
     },
     "99c579a6c24140f6a66165919fac2242": {
      "model_module": "@jupyter-widgets/controls",
      "model_module_version": "1.5.0",
      "model_name": "CheckboxModel",
      "state": {
       "description": "Geoscience ANALYST Pro - Live link",
       "disabled": false,
       "indent": false,
       "layout": "IPY_MODEL_8802506660974025be653d51efb88bc2",
       "style": "IPY_MODEL_042a6457f2154836a107ea06b11c45f6",
       "value": false
      }
     },
     "99dab7e6c69f4d8995ea9ce0e0641e87": {
      "model_module": "@jupyter-widgets/controls",
      "model_module_version": "1.5.0",
      "model_name": "FloatTextModel",
      "state": {
       "description": "Threshold",
       "layout": "IPY_MODEL_12c5fa36ae0441dcafd85c69b91b1dec",
       "step": null,
       "style": "IPY_MODEL_26b3cc24a12043aa9496a76fb6c81b47",
       "value": 0.1
      }
     },
     "99fe625722d54b4ca6a929ab3b2d1404": {
      "model_module": "@jupyter-widgets/controls",
      "model_module_version": "1.5.0",
      "model_name": "DescriptionStyleModel",
      "state": {
       "description_width": "initial"
      }
     },
     "9a4908e4a72d4965b41988936aaddefd": {
      "model_module": "@jupyter-widgets/base",
      "model_module_version": "1.2.0",
      "model_name": "LayoutModel",
      "state": {}
     },
     "9a8fd34920334b68b1d5e79779622be3": {
      "model_module": "@jupyter-widgets/base",
      "model_module_version": "1.2.0",
      "model_name": "LayoutModel",
      "state": {
       "grid_area": "filename",
       "width": "auto"
      }
     },
     "9ab877c2066b412eb2e7a4cdd1938302": {
      "model_module": "@jupyter-widgets/controls",
      "model_module_version": "1.5.0",
      "model_name": "DescriptionStyleModel",
      "state": {
       "description_width": ""
      }
     },
     "9c074cb5fd674ea884d614f2777afa92": {
      "model_module": "@jupyter-widgets/base",
      "model_module_version": "1.2.0",
      "model_name": "LayoutModel",
      "state": {}
     },
     "9c29cf0586494e4fa9913e4afa4076d7": {
      "model_module": "@jupyter-widgets/controls",
      "model_module_version": "1.5.0",
      "model_name": "ButtonStyleModel",
      "state": {}
     },
     "9ca24395379a409291e263400c7cc3f9": {
      "model_module": "@jupyter-widgets/controls",
      "model_module_version": "1.5.0",
      "model_name": "HBoxModel",
      "state": {
       "children": [
        "IPY_MODEL_b1e9aa584ef84bcbaa653e9eff97f42b",
        "IPY_MODEL_43c0de023d1c48d48e2534e4339a8169"
       ],
       "layout": "IPY_MODEL_5eb453bc287a4db7adf6158f053a46c7"
      }
     },
     "9cb8171c1cf640dbbf489dd8e70a42e5": {
      "model_module": "@jupyter-widgets/controls",
      "model_module_version": "1.5.0",
      "model_name": "DescriptionStyleModel",
      "state": {
       "description_width": ""
      }
     },
     "9d006f5372284b63b13959ccb58678f5": {
      "model_module": "@jupyter-widgets/base",
      "model_module_version": "1.2.0",
      "model_name": "LayoutModel",
      "state": {}
     },
     "9db811400ce548508109030f8f3ce0fc": {
      "model_module": "@jupyter-widgets/controls",
      "model_module_version": "1.5.0",
      "model_name": "DescriptionStyleModel",
      "state": {
       "description_width": "initial"
      }
     },
     "9dd8b9cc7a6f467db6c3c860936db6b9": {
      "model_module": "@jupyter-widgets/base",
      "model_module_version": "1.2.0",
      "model_name": "LayoutModel",
      "state": {
       "display": "none",
       "grid_area": "filename",
       "width": "auto"
      }
     },
     "9de0ef6fc3e94151840339e04d8c1505": {
      "model_module": "@jupyter-widgets/base",
      "model_module_version": "1.2.0",
      "model_name": "LayoutModel",
      "state": {}
     },
     "9e5ee8febc9141a79d407b8841da949a": {
      "model_module": "@jupyter-widgets/base",
      "model_module_version": "1.2.0",
      "model_name": "LayoutModel",
      "state": {}
     },
     "9ee3d3cc35954d7e9b9922e1e81cf0f1": {
      "model_module": "@jupyter-widgets/controls",
      "model_module_version": "1.5.0",
      "model_name": "CheckboxModel",
      "state": {
       "description": "Active",
       "disabled": false,
       "indent": false,
       "layout": "IPY_MODEL_27dddbf436e0483d9a07118fd239b105",
       "style": "IPY_MODEL_cc05059565214ee49e2058e3767de3f2",
       "value": true
      }
     },
     "9f7c6eded66b49a587f9d86a2fcb1038": {
      "model_module": "@jupyter-widgets/base",
      "model_module_version": "1.2.0",
      "model_name": "LayoutModel",
      "state": {}
     },
     "a0efb1da3cd54337b2e6a13a64282d9b": {
      "model_module": "@jupyter-widgets/controls",
      "model_module_version": "1.5.0",
      "model_name": "LabelModel",
      "state": {
       "layout": "IPY_MODEL_5e0abb7ee06040fdba1a816dca7dfc09",
       "style": "IPY_MODEL_14b98a32723346fb9d71dac241a39f80",
       "value": "Workspace"
      }
     },
     "a140204fcf5b4491b0a9d07652f8516b": {
      "model_module": "@jupyter-widgets/base",
      "model_module_version": "1.2.0",
      "model_name": "LayoutModel",
      "state": {}
     },
     "a19d6c4e8a0444e8941f7d92b8606ce2": {
      "model_module": "@jupyter-widgets/base",
      "model_module_version": "1.2.0",
      "model_name": "LayoutModel",
      "state": {}
     },
     "a1aa9bd0c4d84b37a2d08e9bc66419fc": {
      "model_module": "@jupyter-widgets/controls",
      "model_module_version": "1.5.0",
      "model_name": "TextModel",
      "state": {
       "disabled": true,
       "layout": "IPY_MODEL_8ec71fe934cb41f793c32a635d5f1763",
       "placeholder": "output filename",
       "style": "IPY_MODEL_4804910515e447488b933fc4e65a8416"
      }
     },
     "a2a20f2dd8ec489da8dcdbd4446f5149": {
      "model_module": "@jupyter-widgets/base",
      "model_module_version": "1.2.0",
      "model_name": "LayoutModel",
      "state": {}
     },
     "a3c82a6cb98746688d9f78faa02bce98": {
      "model_module": "@jupyter-widgets/base",
      "model_module_version": "1.2.0",
      "model_name": "LayoutModel",
      "state": {}
     },
     "a3dc96f5c05b4937969650138d74c5df": {
      "model_module": "@jupyter-widgets/base",
      "model_module_version": "1.2.0",
      "model_name": "LayoutModel",
      "state": {}
     },
     "a4e4f63c90304a2b9e0af1c119e65ea3": {
      "model_module": "@jupyter-widgets/controls",
      "model_module_version": "1.5.0",
      "model_name": "VBoxModel",
      "state": {
       "children": [
        "IPY_MODEL_3c11a1f52f9d48c5b22066bb4b184b81",
        "IPY_MODEL_334483afd54941fd88b7c9cc2a5f613f",
        "IPY_MODEL_c28b97229802434a8896ff43ba4d09ea",
        "IPY_MODEL_3b6852499a9a44b7a556322f2bd824b9",
        "IPY_MODEL_76be45e45b0f4b95828c8f645823dbc7"
       ],
       "layout": "IPY_MODEL_f4adf79ed2754f0bb5a8796d68348820"
      }
     },
     "a558121f05cd44abacb4654809855148": {
      "model_module": "@jupyter-widgets/controls",
      "model_module_version": "1.5.0",
      "model_name": "DescriptionStyleModel",
      "state": {
       "description_width": ""
      }
     },
     "a57fdf285d60460482bf1ba8b79e21a5": {
      "model_module": "@jupyter-widgets/controls",
      "model_module_version": "1.5.0",
      "model_name": "DescriptionStyleModel",
      "state": {
       "description_width": ""
      }
     },
     "a65965f6fae74cf79d182f8a569fdd52": {
      "model_module": "@jupyter-widgets/base",
      "model_module_version": "1.2.0",
      "model_name": "LayoutModel",
      "state": {}
     },
     "a6754bf9d90f43999b548bc090a5cd80": {
      "model_module": "@jupyter-widgets/controls",
      "model_module_version": "1.5.0",
      "model_name": "DescriptionStyleModel",
      "state": {
       "description_width": "initial"
      }
     },
     "a678c7ba084348f7b803cb0f49c10864": {
      "model_module": "@jupyter-widgets/controls",
      "model_module_version": "1.5.0",
      "model_name": "ButtonModel",
      "state": {
       "description": "Change",
       "layout": "IPY_MODEL_9678184dfeeb49438aec1f477beda10f",
       "style": "IPY_MODEL_f6ce6c9a1a49478db3914a0dd550d032"
      }
     },
     "a6c25ff271d149118189153385eaa48f": {
      "model_module": "@jupyter-widgets/controls",
      "model_module_version": "1.5.0",
      "model_name": "DescriptionStyleModel",
      "state": {
       "description_width": "initial"
      }
     },
     "a781d9abd9504173825b4798d6673373": {
      "model_module": "@jupyter-widgets/controls",
      "model_module_version": "1.5.0",
      "model_name": "FloatTextModel",
      "state": {
       "description": "Min",
       "layout": "IPY_MODEL_0fec855124df417883c076e418b4c847",
       "step": null,
       "style": "IPY_MODEL_a6754bf9d90f43999b548bc090a5cd80",
       "value": -20
      }
     },
     "a790e7be9f0649c0a9adb300224ed4da": {
      "model_module": "@jupyter-widgets/controls",
      "model_module_version": "1.5.0",
      "model_name": "DescriptionStyleModel",
      "state": {
       "description_width": ""
      }
     },
     "a82cc6d2b8194ff4ae4bfa421bd47f25": {
      "model_module": "@jupyter-widgets/base",
      "model_module_version": "1.2.0",
      "model_name": "LayoutModel",
      "state": {
       "display": "none",
       "grid_gap": "0px 0px",
       "grid_template_areas": "\n                    'pathlist filename'\n                    'dircontent dircontent'\n                    ",
       "grid_template_columns": "60% 40%",
       "grid_template_rows": "auto auto",
       "width": "auto"
      }
     },
     "a8be5b55940f4bde961261d68aa56815": {
      "model_module": "@jupyter-widgets/controls",
      "model_module_version": "1.5.0",
      "model_name": "DescriptionStyleModel",
      "state": {
       "description_width": "initial"
      }
     },
     "a8f09b3fe9124580833e8661f33a149c": {
      "model_module": "@jupyter-widgets/base",
      "model_module_version": "1.2.0",
      "model_name": "LayoutModel",
      "state": {}
     },
     "a9021a6ba5e1448089393c02009d665c": {
      "model_module": "@jupyter-widgets/controls",
      "model_module_version": "1.5.0",
      "model_name": "DescriptionStyleModel",
      "state": {
       "description_width": ""
      }
     },
     "a90a66d6c3994ae893557dda6c0c2963": {
      "model_module": "@jupyter-widgets/base",
      "model_module_version": "1.2.0",
      "model_name": "LayoutModel",
      "state": {}
     },
     "a90a74300cdd4b76b17cffd27aede232": {
      "model_module": "@jupyter-widgets/controls",
      "model_module_version": "1.5.0",
      "model_name": "DescriptionStyleModel",
      "state": {
       "description_width": "initial"
      }
     },
     "a92d74cabc1143f38bbb616646e85eb2": {
      "model_module": "@jupyter-widgets/base",
      "model_module_version": "1.2.0",
      "model_name": "LayoutModel",
      "state": {}
     },
     "a94c23a673dd47e69968a604abec46d5": {
      "model_module": "@jupyter-widgets/controls",
      "model_module_version": "1.5.0",
      "model_name": "HBoxModel",
      "state": {
       "children": [
        "IPY_MODEL_e773e45b6f9646dcac491e3635cc36fd",
        "IPY_MODEL_be48ec90bef943a7b0c81fa96e4ab0cc"
       ],
       "layout": "IPY_MODEL_b45534842211455586fc5ff65922d308"
      }
     },
     "a9fd8a3bbc0241bcbbf74f82f4cc1977": {
      "model_module": "@jupyter-widgets/controls",
      "model_module_version": "1.5.0",
      "model_name": "HBoxModel",
      "state": {
       "children": [
        "IPY_MODEL_36b7ee8a3ff7487e8722405106f2bcd3",
        "IPY_MODEL_53d2ba44bab44ae2b491d5d571dec255",
        "IPY_MODEL_1d626aa67551436ca5e858a7dcb2d7ad"
       ],
       "layout": "IPY_MODEL_ae2b8b6da9aa4f249a19ca1ab0e481f9"
      }
     },
     "abe0e2d807804f49a68326e916afd9fd": {
      "model_module": "@jupyter-widgets/controls",
      "model_module_version": "1.5.0",
      "model_name": "DescriptionStyleModel",
      "state": {
       "description_width": ""
      }
     },
     "ac55546473224afe95d7ea17bb88bda0": {
      "model_module": "@jupyter-widgets/controls",
      "model_module_version": "1.5.0",
      "model_name": "DescriptionStyleModel",
      "state": {
       "description_width": "initial"
      }
     },
     "ac77a3219aed409bb46d9f43cf0cdff4": {
      "model_module": "@jupyter-widgets/controls",
      "model_module_version": "1.5.0",
      "model_name": "DescriptionStyleModel",
      "state": {
       "description_width": "initial"
      }
     },
     "ac8731ce8f2647f4aab9aaef16bf4ecd": {
      "model_module": "@jupyter-widgets/controls",
      "model_module_version": "1.5.0",
      "model_name": "VBoxModel",
      "state": {
       "children": [
        "IPY_MODEL_606ff26005854e919f1a4bbbbdda8b3e",
        "IPY_MODEL_5fde75cf1ddc4ad390531b2b521ef255",
        "IPY_MODEL_1e7dcb87e8fa4243a47e2a2be37a985a",
        "IPY_MODEL_7b43e9bbecaf4454bc358440df4fafb2"
       ],
       "layout": "IPY_MODEL_d9369e5034be462dab15f1a0f66865d2"
      }
     },
     "acce0579612445e081eee78334afd2c1": {
      "model_module": "@jupyter-widgets/base",
      "model_module_version": "1.2.0",
      "model_name": "LayoutModel",
      "state": {}
     },
     "ad25725d5d1e4ed3acc522ce42f68ded": {
      "model_module": "@jupyter-widgets/controls",
      "model_module_version": "1.5.0",
      "model_name": "CheckboxModel",
      "state": {
       "description": "Active",
       "disabled": false,
       "indent": false,
       "layout": "IPY_MODEL_4cc647925b8647c4bdd98ac57c788b12",
       "style": "IPY_MODEL_552adea05b1845408d582394fe5a98a3",
       "value": true
      }
     },
     "ad4f8a77bef9475899ecfd23c3c0c842": {
      "model_module": "@jupyter-widgets/base",
      "model_module_version": "1.2.0",
      "model_name": "LayoutModel",
      "state": {
       "display": "none"
      }
     },
     "add73912c74347bfa9de126bea30432a": {
      "model_module": "@jupyter-widgets/controls",
      "model_module_version": "1.5.0",
      "model_name": "FloatTextModel",
      "state": {
       "description": "Max",
       "layout": "IPY_MODEL_42dc7437c1584bd19721ea88a8a1b7e6",
       "step": null,
       "style": "IPY_MODEL_ba04d09fcb8643acb48efc5f25c56d83",
       "value": 24.8
      }
     },
     "ae2b8b6da9aa4f249a19ca1ab0e481f9": {
      "model_module": "@jupyter-widgets/base",
      "model_module_version": "1.2.0",
      "model_name": "LayoutModel",
      "state": {
       "width": "auto"
      }
     },
     "ae40766957e74697b764bd162a1d146a": {
      "model_module": "@jupyter-widgets/base",
      "model_module_version": "1.2.0",
      "model_name": "LayoutModel",
      "state": {}
     },
     "ae6543c437dd416caecc793daaf3efe0": {
      "model_module": "@jupyter-widgets/base",
      "model_module_version": "1.2.0",
      "model_name": "LayoutModel",
      "state": {}
     },
     "ae7b7019800f4aa29e6a8d43f251f221": {
      "model_module": "@jupyter-widgets/controls",
      "model_module_version": "1.5.0",
      "model_name": "FloatTextModel",
      "state": {
       "description": "Threshold",
       "layout": "IPY_MODEL_55a66ae8af7546988792281bfe84c2b6",
       "step": null,
       "style": "IPY_MODEL_42a1fe9e6ae047d6aa5f85271dddfe26",
       "value": 0.1
      }
     },
     "afc7576d66284674980d3d8f7c606e9a": {
      "model_module": "@jupyter-widgets/base",
      "model_module_version": "1.2.0",
      "model_name": "LayoutModel",
      "state": {}
     },
     "b0732f07cee542149b11fb8c2c041a3b": {
      "model_module": "@jupyter-widgets/controls",
      "model_module_version": "1.5.0",
      "model_name": "VBoxModel",
      "state": {
       "children": [
        "IPY_MODEL_098b51fdce9043e6b6cae16d51e5555f",
        "IPY_MODEL_d810c4e05c32400dbaf6db980e8383bc"
       ],
       "layout": "IPY_MODEL_195687aa39e34692a5507ce83930cd3f"
      }
     },
     "b076a2dd7c8247988432d082d5c66385": {
      "model_module": "@jupyter-widgets/base",
      "model_module_version": "1.2.0",
      "model_name": "LayoutModel",
      "state": {}
     },
     "b0c5c7a44dfd4b538acd8781f5ae5b39": {
      "model_module": "@jupyter-widgets/controls",
      "model_module_version": "1.5.0",
      "model_name": "DescriptionStyleModel",
      "state": {
       "description_width": "initial"
      }
     },
     "b1e8bdda05944b42b8a757979414d36b": {
      "model_module": "@jupyter-widgets/controls",
      "model_module_version": "1.5.0",
      "model_name": "DescriptionStyleModel",
      "state": {
       "description_width": "initial"
      }
     },
     "b1e9aa584ef84bcbaa653e9eff97f42b": {
      "model_module": "@jupyter-widgets/controls",
      "model_module_version": "1.5.0",
      "model_name": "FloatTextModel",
      "state": {
       "description": "Min",
       "layout": "IPY_MODEL_acce0579612445e081eee78334afd2c1",
       "step": null,
       "style": "IPY_MODEL_92a39a8ade254252a55b0849741218a3",
       "value": -17
      }
     },
     "b26b2c5f40984909ab1b6b74a86306b4": {
      "model_module": "@jupyter-widgets/controls",
      "model_module_version": "1.5.0",
      "model_name": "DescriptionStyleModel",
      "state": {
       "description_width": "initial"
      }
     },
     "b33c9a9e16aa467f800a3d91cb3a71bc": {
      "model_module": "@jupyter-widgets/controls",
      "model_module_version": "1.5.0",
      "model_name": "HTMLModel",
      "state": {
       "layout": "IPY_MODEL_5721d0057af1454ab1e85307c351f722",
       "style": "IPY_MODEL_e91310d2987b4ec3bcae9e2b6136dc2c"
      }
     },
     "b3a4053ac381414ebdc5686ce1df9674": {
      "model_module": "@jupyter-widgets/controls",
      "model_module_version": "1.5.0",
      "model_name": "DescriptionStyleModel",
      "state": {
       "description_width": ""
      }
     },
     "b43bb8e58b3940ecabaac5c412b47b30": {
      "model_module": "@jupyter-widgets/controls",
      "model_module_version": "1.5.0",
      "model_name": "DropdownModel",
      "state": {
       "_options_labels": [
        "C:\\Users\\dominiquef\\Documents\\GIT\\mira\\geoapps\\assets",
        "C:\\Users\\dominiquef\\Documents\\GIT\\mira\\geoapps",
        "C:\\Users\\dominiquef\\Documents\\GIT\\mira",
        "C:\\Users\\dominiquef\\Documents\\GIT",
        "C:\\Users\\dominiquef\\Documents",
        "C:\\Users\\dominiquef",
        "C:\\Users",
        "C:\\",
        "D:\\",
        "\\\\EgnyteDrive\\mirageoscience\\",
        "G:\\"
       ],
       "index": 0,
       "layout": "IPY_MODEL_378429bacd05472b990ba3bed42e4af6",
       "style": "IPY_MODEL_94ee455c0f0a49fb80a1ebe78aa80d7a"
      }
     },
     "b45534842211455586fc5ff65922d308": {
      "model_module": "@jupyter-widgets/base",
      "model_module_version": "1.2.0",
      "model_name": "LayoutModel",
      "state": {}
     },
     "b50ffe5a9f654412878644c3a82065e1": {
      "model_module": "@jupyter-widgets/controls",
      "model_module_version": "1.5.0",
      "model_name": "DescriptionStyleModel",
      "state": {
       "description_width": ""
      }
     },
     "b5d8c929530442f9b7512ff3e4db66db": {
      "model_module": "@jupyter-widgets/controls",
      "model_module_version": "1.5.0",
      "model_name": "DescriptionStyleModel",
      "state": {
       "description_width": ""
      }
     },
     "b5f204589626402286873aff8051a1c9": {
      "model_module": "@jupyter-widgets/controls",
      "model_module_version": "1.5.0",
      "model_name": "VBoxModel",
      "state": {
       "children": [
        "IPY_MODEL_ad25725d5d1e4ed3acc522ce42f68ded",
        "IPY_MODEL_268187cf4278438294a7d40ac82c4d97",
        "IPY_MODEL_35cfcc934e9d4692bd8502d84f195bd1",
        "IPY_MODEL_6c1c15087a454d0798f19c1b95ed412a"
       ],
       "layout": "IPY_MODEL_cc2f5ba3f57645259cb5ddc36394105d"
      }
     },
     "b65e4ba64e6f474daeaf0787873c142e": {
      "model_module": "@jupyter-widgets/base",
      "model_module_version": "1.2.0",
      "model_name": "LayoutModel",
      "state": {}
     },
     "b6d5d3d67ce34216a3eee1dc6db30dad": {
      "model_module": "@jupyter-widgets/controls",
      "model_module_version": "1.5.0",
      "model_name": "DescriptionStyleModel",
      "state": {
       "description_width": "initial"
      }
     },
     "b76a4d0831744b65b93d636e6805f856": {
      "model_module": "@jupyter-widgets/base",
      "model_module_version": "1.2.0",
      "model_name": "LayoutModel",
      "state": {}
     },
     "b80b2ae84b904a8bbeb59ae38074119b": {
      "model_module": "@jupyter-widgets/controls",
      "model_module_version": "1.5.0",
      "model_name": "CheckboxModel",
      "state": {
       "description": "Active",
       "disabled": false,
       "indent": false,
       "layout": "IPY_MODEL_f96413d947904f14869108920eb93d89",
       "style": "IPY_MODEL_719e93c7282043afa66353d16a1709ee",
       "value": true
      }
     },
     "b8e84ebf4de343d88c7bf5f2f971a27b": {
      "model_module": "@jupyter-widgets/controls",
      "model_module_version": "1.5.0",
      "model_name": "DropdownModel",
      "state": {
       "_options_labels": [
        "C:\\Users\\dominiquef\\Documents\\GIT\\mira\\geoapps\\assets\\Temp",
        "C:\\Users\\dominiquef\\Documents\\GIT\\mira\\geoapps\\assets",
        "C:\\Users\\dominiquef\\Documents\\GIT\\mira\\geoapps",
        "C:\\Users\\dominiquef\\Documents\\GIT\\mira",
        "C:\\Users\\dominiquef\\Documents\\GIT",
        "C:\\Users\\dominiquef\\Documents",
        "C:\\Users\\dominiquef",
        "C:\\Users",
        "C:\\",
        "D:\\",
        "\\\\EgnyteDrive\\mirageoscience\\",
        "G:\\"
       ],
       "index": 0,
       "layout": "IPY_MODEL_5ffc402e3a91419bb715a98239b0ff68",
       "style": "IPY_MODEL_2d8e14bdd4f54a34ae6259f30d7d032e"
      }
     },
     "b930929d1c234c128a5d8323b2cba196": {
      "model_module": "@jupyter-widgets/controls",
      "model_module_version": "1.5.0",
      "model_name": "DescriptionStyleModel",
      "state": {
       "description_width": ""
      }
     },
     "b9b085c1a5a94ecdadde53a6835fe444": {
      "model_module": "@jupyter-widgets/controls",
      "model_module_version": "1.5.0",
      "model_name": "DescriptionStyleModel",
      "state": {
       "description_width": "initial"
      }
     },
     "b9dcc50ec2904965983257c1b8ccdd61": {
      "model_module": "@jupyter-widgets/controls",
      "model_module_version": "1.5.0",
      "model_name": "VBoxModel",
      "state": {
       "children": [
        "IPY_MODEL_32e2e4bdf604435695ce73d5d58fe64e",
        "IPY_MODEL_747ec0b7b88f4f928676acaa62d449b4"
       ],
       "layout": "IPY_MODEL_1931ce04c165498da2bdedcf05adc223"
      }
     },
     "ba04d09fcb8643acb48efc5f25c56d83": {
      "model_module": "@jupyter-widgets/controls",
      "model_module_version": "1.5.0",
      "model_name": "DescriptionStyleModel",
      "state": {
       "description_width": "initial"
      }
     },
     "bb1ddbfe5aa8494a92d9cff2d8c36144": {
      "model_module": "@jupyter-widgets/controls",
      "model_module_version": "1.5.0",
      "model_name": "CheckboxModel",
      "state": {
       "description": "Active",
       "disabled": false,
       "indent": false,
       "layout": "IPY_MODEL_c0a2809662314c10979e0a7e30a2099c",
       "style": "IPY_MODEL_d5f7238b8be641eeb84b4d4ca0af4ca8",
       "value": true
      }
     },
     "bbd9ccfa3aa14cf4bc2adeac8d9b9b6b": {
      "model_module": "@jupyter-widgets/controls",
      "model_module_version": "1.5.0",
      "model_name": "DescriptionStyleModel",
      "state": {
       "description_width": ""
      }
     },
     "bda1de32219941d3bec93a4c9dd689b2": {
      "model_module": "@jupyter-widgets/base",
      "model_module_version": "1.2.0",
      "model_name": "LayoutModel",
      "state": {}
     },
     "be40471537574e3a81922c386f7e54bf": {
      "model_module": "@jupyter-widgets/controls",
      "model_module_version": "1.5.0",
      "model_name": "HBoxModel",
      "state": {
       "children": [
        "IPY_MODEL_c126c0edf5c841269462e02f65306db2",
        "IPY_MODEL_02098ed74752478eb091279035579573"
       ],
       "layout": "IPY_MODEL_fc8f3acded254e3c9ab438270a0e1ead"
      }
     },
     "be48ec90bef943a7b0c81fa96e4ab0cc": {
      "model_module": "@jupyter-widgets/controls",
      "model_module_version": "1.5.0",
      "model_name": "FloatTextModel",
      "state": {
       "description": "Max",
       "layout": "IPY_MODEL_e3bee02257a94c2fad17f9d903d54da4",
       "step": null,
       "style": "IPY_MODEL_a90a74300cdd4b76b17cffd27aede232",
       "value": 24.8
      }
     },
     "beb76dd580584d638780c22115b5cb85": {
      "model_module": "@jupyter-widgets/base",
      "model_module_version": "1.2.0",
      "model_name": "LayoutModel",
      "state": {}
     },
     "beccefc846c94550b4d48e03409e3693": {
      "model_module": "@jupyter-widgets/controls",
      "model_module_version": "1.5.0",
      "model_name": "HTMLModel",
      "state": {
       "layout": "IPY_MODEL_059c098e924a45d781dd5cba6193d446",
       "placeholder": "",
       "style": "IPY_MODEL_b50ffe5a9f654412878644c3a82065e1",
       "value": "<span style=\"color:orange;\">C:\\Users\\dominiquef\\Documents\\GIT\\mira\\geoapps\\assets\\FlinFlon.geoh5</span>"
      }
     },
     "befeb84b146f44fb8bf647bea51b3973": {
      "model_module": "@jupyter-widgets/base",
      "model_module_version": "1.2.0",
      "model_name": "LayoutModel",
      "state": {}
     },
     "bf0266ca120442619d733440dde59d45": {
      "model_module": "@jupyter-widgets/controls",
      "model_module_version": "1.5.0",
      "model_name": "CheckboxModel",
      "state": {
       "description": "Active",
       "disabled": false,
       "indent": false,
       "layout": "IPY_MODEL_88f64a79b8274129bf498e6c1ba3f8e3",
       "style": "IPY_MODEL_1cb75943911345939360db3268ccf0b1",
       "value": true
      }
     },
     "bfabf89f2db943ae81bbacc98296e406": {
      "model_module": "@jupyter-widgets/controls",
      "model_module_version": "1.5.0",
      "model_name": "ButtonStyleModel",
      "state": {}
     },
     "c0a2809662314c10979e0a7e30a2099c": {
      "model_module": "@jupyter-widgets/base",
      "model_module_version": "1.2.0",
      "model_name": "LayoutModel",
      "state": {}
     },
     "c114496e6e2643eb8f18c45c793e5762": {
      "model_module": "@jupyter-widgets/controls",
      "model_module_version": "1.5.0",
      "model_name": "DescriptionStyleModel",
      "state": {
       "description_width": ""
      }
     },
     "c126c0edf5c841269462e02f65306db2": {
      "model_module": "@jupyter-widgets/controls",
      "model_module_version": "1.5.0",
      "model_name": "FloatTextModel",
      "state": {
       "description": "Min",
       "layout": "IPY_MODEL_842f221fd27e414c9a0ddb33bd851a85",
       "step": null,
       "style": "IPY_MODEL_0244125ca45d4e669325039b2f2c56e5",
       "value": -17
      }
     },
     "c148ed72efb24680a7444d21f7e71269": {
      "model_module": "@jupyter-widgets/controls",
      "model_module_version": "1.5.0",
      "model_name": "HBoxModel",
      "state": {
       "children": [
        "IPY_MODEL_378d65bbce1a44ba9b48ef8bdc00b303"
       ],
       "layout": "IPY_MODEL_7f2d3d818fc24b22b437078a0d48d5fe"
      }
     },
     "c154ffe3fd664d2f84828971b85d5f50": {
      "model_module": "@jupyter-widgets/controls",
      "model_module_version": "1.5.0",
      "model_name": "DescriptionStyleModel",
      "state": {
       "description_width": ""
      }
     },
     "c1e906da399d43ad9ebbc7dbbdf77a45": {
      "model_module": "@jupyter-widgets/controls",
      "model_module_version": "1.5.0",
      "model_name": "DescriptionStyleModel",
      "state": {
       "description_width": "initial"
      }
     },
     "c28b97229802434a8896ff43ba4d09ea": {
      "model_module": "@jupyter-widgets/controls",
      "model_module_version": "1.5.0",
      "model_name": "IntSliderModel",
      "state": {
       "continuous_update": false,
       "description": "Marker size",
       "layout": "IPY_MODEL_ff22c27064a24dda9070844c193c8c15",
       "min": 1,
       "style": "IPY_MODEL_416de360239d402da95567c246950966",
       "value": 20
      }
     },
     "c330a935cce54ba0817ce136cb0294fa": {
      "model_module": "@jupyter-widgets/base",
      "model_module_version": "1.2.0",
      "model_name": "LayoutModel",
      "state": {}
     },
     "c3420b9526c74919ab1fc5573ac283df": {
      "model_module": "@jupyter-widgets/base",
      "model_module_version": "1.2.0",
      "model_name": "LayoutModel",
      "state": {}
     },
     "c38e94e2340146edb5247c93b2a2f8fe": {
      "model_module": "@jupyter-widgets/base",
      "model_module_version": "1.2.0",
      "model_name": "LayoutModel",
      "state": {}
     },
     "c3a669dd52b341b19dbfddee383c8217": {
      "model_module": "@jupyter-widgets/controls",
      "model_module_version": "1.5.0",
      "model_name": "DescriptionStyleModel",
      "state": {
       "description_width": "initial"
      }
     },
     "c44bc43ad5e847c2b83033493b194472": {
      "model_module": "@jupyter-widgets/base",
      "model_module_version": "1.2.0",
      "model_name": "LayoutModel",
      "state": {}
     },
     "c5bc6354497845c283795e22d972b425": {
      "model_module": "@jupyter-widgets/base",
      "model_module_version": "1.2.0",
      "model_name": "LayoutModel",
      "state": {}
     },
     "c63794b4107d4ae5abeba1e770ab9d18": {
      "model_module": "@jupyter-widgets/base",
      "model_module_version": "1.2.0",
      "model_name": "LayoutModel",
      "state": {}
     },
     "c71365d26ff5436e8f5331135c557914": {
      "model_module": "@jupyter-widgets/controls",
      "model_module_version": "1.5.0",
      "model_name": "HBoxModel",
      "state": {
       "children": [
        "IPY_MODEL_1acca499fe5944b582acd5df6cd22aa1",
        "IPY_MODEL_7becef6bf2dc493d8d118a8466328e85"
       ],
       "layout": "IPY_MODEL_ae6543c437dd416caecc793daaf3efe0"
      }
     },
     "c7f25163a6af4a978d6de13124dcde9d": {
      "model_module": "@jupyter-widgets/base",
      "model_module_version": "1.2.0",
      "model_name": "LayoutModel",
      "state": {
       "display": "none",
       "grid_gap": "0px 0px",
       "grid_template_areas": "\n                    'pathlist pathlist'\n                    'dircontent dircontent'\n                    ",
       "grid_template_columns": "60% 40%",
       "grid_template_rows": "auto auto",
       "width": "auto"
      }
     },
     "c86a3c76e6ff46a0a76c60fbf78f6881": {
      "model_module": "@jupyter-widgets/base",
      "model_module_version": "1.2.0",
      "model_name": "LayoutModel",
      "state": {
       "min_width": "6em",
       "width": "6em"
      }
     },
     "c93a34c8da63467fa42c6abe23989870": {
      "model_module": "@jupyter-widgets/base",
      "model_module_version": "1.2.0",
      "model_name": "LayoutModel",
      "state": {}
     },
     "c944d65a8fbb401c828c118c9aac477f": {
      "model_module": "@jupyter-widgets/controls",
      "model_module_version": "1.5.0",
      "model_name": "VBoxModel",
      "state": {
       "children": [
        "IPY_MODEL_19d279da31db4b698b4bf7f1b5a172fa",
        "IPY_MODEL_7dd2590d94954dd399aa0dd206cbc369"
       ],
       "layout": "IPY_MODEL_ecc4efe65d4d40809d2feddfe5f7b9aa"
      }
     },
     "ca1cab020c234fe0ba907ec2d9e136ed": {
      "model_module": "@jupyter-widgets/controls",
      "model_module_version": "1.5.0",
      "model_name": "DescriptionStyleModel",
      "state": {
       "description_width": "initial"
      }
     },
     "ca5b9aebf3bc4f228157676737d4fc6a": {
      "model_module": "@jupyter-widgets/controls",
      "model_module_version": "1.5.0",
      "model_name": "DescriptionStyleModel",
      "state": {
       "description_width": ""
      }
     },
     "ca8941509ea84b83975ae95320ed85b1": {
      "model_module": "@jupyter-widgets/base",
      "model_module_version": "1.2.0",
      "model_name": "LayoutModel",
      "state": {
       "width": "500px"
      }
     },
     "cae6a0c6239a4b80b6ebe0b3f1ebf9d6": {
      "model_module": "@jupyter-widgets/controls",
      "model_module_version": "1.5.0",
      "model_name": "HBoxModel",
      "state": {
       "children": [
        "IPY_MODEL_6bdce1b4c4e34de996444e132b09cea5",
        "IPY_MODEL_9533c3e5eb464618a7013d15f66edbe7"
       ],
       "layout": "IPY_MODEL_b76a4d0831744b65b93d636e6805f856"
      }
     },
     "caebaf7035924ef6af1f2c53547a888c": {
      "model_module": "@jupyter-widgets/base",
      "model_module_version": "1.2.0",
      "model_name": "LayoutModel",
      "state": {}
     },
     "caee9080c40e46429894f10715d8905b": {
      "model_module": "@jupyter-widgets/controls",
      "model_module_version": "1.5.0",
      "model_name": "DescriptionStyleModel",
      "state": {
       "description_width": "initial"
      }
     },
     "cb2f9305e3b64a7aa0e858af0ffd19ca": {
      "model_module": "@jupyter-widgets/controls",
      "model_module_version": "1.5.0",
      "model_name": "DescriptionStyleModel",
      "state": {
       "description_width": "initial"
      }
     },
     "cb54faf5589b4f8c83554280d643cb51": {
      "model_module": "@jupyter-widgets/controls",
      "model_module_version": "1.5.0",
      "model_name": "DescriptionStyleModel",
      "state": {
       "description_width": "initial"
      }
     },
     "cb9727c2fe5046ccb4ac8dd34f91582e": {
      "model_module": "@jupyter-widgets/controls",
      "model_module_version": "1.5.0",
      "model_name": "DescriptionStyleModel",
      "state": {
       "description_width": ""
      }
     },
     "cc05059565214ee49e2058e3767de3f2": {
      "model_module": "@jupyter-widgets/controls",
      "model_module_version": "1.5.0",
      "model_name": "DescriptionStyleModel",
      "state": {
       "description_width": "initial"
      }
     },
     "cc1719c57fc94502943d2d0ea80a1b48": {
      "model_module": "@jupyter-widgets/controls",
      "model_module_version": "1.5.0",
      "model_name": "DescriptionStyleModel",
      "state": {
       "description_width": "initial"
      }
     },
     "cc2122e9f5ea4468b688b797bcab32cd": {
      "model_module": "@jupyter-widgets/controls",
      "model_module_version": "1.5.0",
      "model_name": "VBoxModel",
      "state": {
       "children": [
        "IPY_MODEL_bb1ddbfe5aa8494a92d9cff2d8c36144",
        "IPY_MODEL_562f7e6ef17f4e45bbeb330c3dbfe01c",
        "IPY_MODEL_60f42f7304644ca9ab046d49d0ad09f0",
        "IPY_MODEL_deebc9192a6646b6ad619a76b0882a60",
        "IPY_MODEL_a94c23a673dd47e69968a604abec46d5"
       ],
       "layout": "IPY_MODEL_f8a0ad8fe2cf465e98c111ecb8e07d68"
      }
     },
     "cc2f5ba3f57645259cb5ddc36394105d": {
      "model_module": "@jupyter-widgets/base",
      "model_module_version": "1.2.0",
      "model_name": "LayoutModel",
      "state": {}
     },
     "cc3bd0124aac4255ba3e3fb3747ee907": {
      "model_module": "@jupyter-widgets/controls",
      "model_module_version": "1.5.0",
      "model_name": "BoxModel",
      "state": {
       "children": [
        "IPY_MODEL_23985b2f646f465aa582822261a7fba2"
       ],
       "layout": "IPY_MODEL_707fe906519242f6a711c2b6b186b9b8"
      }
     },
     "cc930a65b3c04218afd21c231b7a45ae": {
      "model_module": "@jupyter-widgets/controls",
      "model_module_version": "1.5.0",
      "model_name": "ButtonStyleModel",
      "state": {}
     },
     "cd85813702bf4831899a96bc89a92a78": {
      "model_module": "@jupyter-widgets/controls",
      "model_module_version": "1.5.0",
      "model_name": "VBoxModel",
      "state": {
       "children": [
        "IPY_MODEL_7ded18e97b5f4045b53debc375b8aafd",
        "IPY_MODEL_4a9187a24b624897a1851729c4002161"
       ],
       "layout": "IPY_MODEL_9e5ee8febc9141a79d407b8841da949a"
      }
     },
     "cf324896ecff4dcd81605ad6fffdd4e8": {
      "model_module": "@jupyter-widgets/controls",
      "model_module_version": "1.5.0",
      "model_name": "DropdownModel",
      "state": {
       "_options_labels": [
        "aggrnyl",
        "agsunset",
        "blackbody",
        "bluered",
        "blues",
        "blugrn",
        "bluyl",
        "brwnyl",
        "bugn",
        "bupu",
        "burg",
        "burgyl",
        "cividis",
        "darkmint",
        "electric",
        "emrld",
        "gnbu",
        "greens",
        "greys",
        "hot",
        "inferno",
        "jet",
        "magenta",
        "magma",
        "mint",
        "orrd",
        "oranges",
        "oryel",
        "peach",
        "pinkyl",
        "plasma",
        "plotly3",
        "pubu",
        "pubugn",
        "purd",
        "purp",
        "purples",
        "purpor",
        "rainbow",
        "rdbu",
        "rdpu",
        "redor",
        "reds",
        "sunset",
        "sunsetdark",
        "teal",
        "tealgrn",
        "turbo",
        "viridis",
        "ylgn",
        "ylgnbu",
        "ylorbr",
        "ylorrd",
        "algae",
        "amp",
        "deep",
        "dense",
        "gray",
        "haline",
        "ice",
        "matter",
        "solar",
        "speed",
        "tempo",
        "thermal",
        "turbid",
        "armyrose",
        "brbg",
        "earth",
        "fall",
        "geyser",
        "prgn",
        "piyg",
        "picnic",
        "portland",
        "puor",
        "rdgy",
        "rdylbu",
        "rdylgn",
        "spectral",
        "tealrose",
        "temps",
        "tropic",
        "balance",
        "curl",
        "delta",
        "oxy",
        "edge",
        "hsv",
        "icefire",
        "phase",
        "twilight",
        "mrybm",
        "mygbm"
       ],
       "description": "Colormaps",
       "index": 20,
       "layout": "IPY_MODEL_e15bcba015c8404193113fc668c1bf04",
       "style": "IPY_MODEL_3ad039bf959c4002893f6b067aae29b4"
      }
     },
     "cf5bce3b153b4dcbaf3f2c4719582ecd": {
      "model_module": "@jupyter-widgets/controls",
      "model_module_version": "1.5.0",
      "model_name": "DropdownModel",
      "state": {
       "_options_labels": [
        "CaO",
        "MgO",
        "V",
        "Ba",
        "Al2O3"
       ],
       "description": "Data:",
       "index": 1,
       "layout": "IPY_MODEL_4b9703c327de444a9df4ec89d8240ed0",
       "style": "IPY_MODEL_724c65408bb24ac48a442a296e583f88"
      }
     },
     "cfcd707107cf49d79b825c5458093010": {
      "model_module": "@jupyter-widgets/controls",
      "model_module_version": "1.5.0",
      "model_name": "ButtonStyleModel",
      "state": {}
     },
     "cfe240d31b4b4b34bd33fb3fd6fe675a": {
      "model_module": "@jupyter-widgets/controls",
      "model_module_version": "1.5.0",
      "model_name": "ButtonModel",
      "state": {
       "description": "Create copy:",
       "layout": "IPY_MODEL_3ff0792bc6f7450796840933609d06a7",
       "style": "IPY_MODEL_2b9ab2794590498493dcf3016c827f45"
      }
     },
     "d11212ad9fdb4515bae23692180546e0": {
      "model_module": "@jupyter-widgets/controls",
      "model_module_version": "1.5.0",
      "model_name": "SliderStyleModel",
      "state": {
       "description_width": ""
      }
     },
     "d15ebae92dae46dc8320e7dd9a307a35": {
      "model_module": "@jupyter-widgets/base",
      "model_module_version": "1.2.0",
      "model_name": "LayoutModel",
      "state": {}
     },
     "d18b8145ed484ff38c3b5d1c7386ac98": {
      "model_module": "@jupyter-widgets/base",
      "model_module_version": "1.2.0",
      "model_name": "LayoutModel",
      "state": {}
     },
     "d1c42183644e4e6ea1b0cc652bbe8137": {
      "model_module": "@jupyter-widgets/controls",
      "model_module_version": "1.5.0",
      "model_name": "VBoxModel",
      "state": {
       "children": [
        "IPY_MODEL_280c93228c2a429b864eb09ebbcc3480",
        "IPY_MODEL_f1c820822fa24d239ef3e36a61664e0b",
        "IPY_MODEL_b0732f07cee542149b11fb8c2c041a3b",
        "IPY_MODEL_3ff719e05d734fbe9c6a68b08ec62fa1",
        "IPY_MODEL_6dd36f8fa2434b6c989cc4ee28fd9963",
        "IPY_MODEL_6450b615d2ea4d4c999172bc0e4a0ff4",
        "IPY_MODEL_2d82422784ab41e38c86d0b99b2b5095"
       ],
       "layout": "IPY_MODEL_e8a58fe189a740be9a36072793026173"
      }
     },
     "d22425ebea0d443f9b761633127ed06c": {
      "model_module": "@jupyter-widgets/controls",
      "model_module_version": "1.5.0",
      "model_name": "FloatTextModel",
      "state": {
       "description": "Min",
       "layout": "IPY_MODEL_2be56c131ed6463fae1b1b81b9e4c239",
       "step": null,
       "style": "IPY_MODEL_3e7fbe55edc3432089d1e6219793c5e8",
       "value": -20
      }
     },
     "d2b3bbeb4a81480abd3cf73d52c277d7": {
      "model_module": "@jupyter-widgets/controls",
      "model_module_version": "1.5.0",
      "model_name": "DescriptionStyleModel",
      "state": {
       "description_width": "initial"
      }
     },
     "d3565c47313c40a189c0e3f94e775a19": {
      "model_module": "@jupyter-widgets/controls",
      "model_module_version": "1.5.0",
      "model_name": "DescriptionStyleModel",
      "state": {
       "description_width": ""
      }
     },
     "d3e7e51445a848b6b41a2bea6e03a686": {
      "model_module": "@jupyter-widgets/base",
      "model_module_version": "1.2.0",
      "model_name": "LayoutModel",
      "state": {}
     },
     "d4a046b2cf064e97b422d1a26a20631f": {
      "model_module": "@jupyter-widgets/controls",
      "model_module_version": "1.5.0",
      "model_name": "CheckboxModel",
      "state": {
       "description": "Log10",
       "disabled": false,
       "indent": false,
       "layout": "IPY_MODEL_e4617f40a4c840678cfefc1769348d95",
       "style": "IPY_MODEL_7b24baa49e4f4e85817e9403d8ae92e9",
       "value": true
      }
     },
     "d5f7238b8be641eeb84b4d4ca0af4ca8": {
      "model_module": "@jupyter-widgets/controls",
      "model_module_version": "1.5.0",
      "model_name": "DescriptionStyleModel",
      "state": {
       "description_width": "initial"
      }
     },
     "d626a69b6dee4cdebe6290de7dc6f3c4": {
      "model_module": "@jupyter-widgets/controls",
      "model_module_version": "1.5.0",
      "model_name": "DescriptionStyleModel",
      "state": {
       "description_width": ""
      }
     },
     "d632d79bdeaf41d0a5342b2c9caf16f7": {
      "model_module": "@jupyter-widgets/controls",
      "model_module_version": "1.5.0",
      "model_name": "DropdownModel",
      "state": {
       "_options_labels": [
        "CaO",
        "MgO",
        "V",
        "Ba",
        "Al2O3"
       ],
       "description": "Data:",
       "index": 2,
       "layout": "IPY_MODEL_d18b8145ed484ff38c3b5d1c7386ac98",
       "style": "IPY_MODEL_270536a01c1449f699a7333cd567166c"
      }
     },
     "d67a7db2f6b4435e8fbea019540d0e34": {
      "model_module": "@jupyter-widgets/controls",
      "model_module_version": "1.5.0",
      "model_name": "FloatTextModel",
      "state": {
       "description": "Min",
       "layout": "IPY_MODEL_04dc741370c04716bdb4be86b14aa62a",
       "step": null,
       "style": "IPY_MODEL_7482e290145848f29f6f5629409a0f0e",
       "value": -17
      }
     },
     "d6efc0adab9843d09729b57e2d104006": {
      "model_module": "@jupyter-widgets/controls",
      "model_module_version": "1.5.0",
      "model_name": "DropdownModel",
      "state": {
       "_options_labels": [
        "C:\\Users\\dominiquef\\Documents\\GIT\\mira\\geoapps\\assets\\Temp",
        "C:\\Users\\dominiquef\\Documents\\GIT\\mira\\geoapps\\assets",
        "C:\\Users\\dominiquef\\Documents\\GIT\\mira\\geoapps",
        "C:\\Users\\dominiquef\\Documents\\GIT\\mira",
        "C:\\Users\\dominiquef\\Documents\\GIT",
        "C:\\Users\\dominiquef\\Documents",
        "C:\\Users\\dominiquef",
        "C:\\Users",
        "C:\\",
        "D:\\",
        "\\\\EgnyteDrive\\mirageoscience\\",
        "G:\\"
       ],
       "index": 0,
       "layout": "IPY_MODEL_29568550e22b452e9ebb8a56526acdd0",
       "style": "IPY_MODEL_01609879b00e407481195df0ce80169d"
      }
     },
     "d73a2bc76d3b4a32bf08a6362895c281": {
      "model_module": "@jupyter-widgets/controls",
      "model_module_version": "1.5.0",
      "model_name": "DescriptionStyleModel",
      "state": {
       "description_width": "initial"
      }
     },
     "d77147ca1d0c4fe19e2c59634bcaeaa4": {
      "model_module": "@jupyter-widgets/controls",
      "model_module_version": "1.5.0",
      "model_name": "GridBoxModel",
      "state": {
       "children": [
        "IPY_MODEL_62df0d2775724e57841ea2f4876a2436",
        "IPY_MODEL_2a061fa504f04fb7967bedc9bc094e72",
        "IPY_MODEL_d78ad4c91e0349678bd7869c247d88fc"
       ],
       "layout": "IPY_MODEL_a82cc6d2b8194ff4ae4bfa421bd47f25"
      }
     },
     "d78ad4c91e0349678bd7869c247d88fc": {
      "model_module": "@jupyter-widgets/controls",
      "model_module_version": "1.5.0",
      "model_name": "SelectModel",
      "state": {
       "_options_labels": [
        "📁 ..",
        "📁 Temp",
        "📁 uijson",
        "FlinFlon.geoh5",
        "FlinFlon_dcip.geoh5",
        "FlinFlon_dcip_v4.geoh5",
        "FlinFlon_natural_sources.geoh5",
        "FlinFlon_natural_sources_v4.geoh5",
        "MtDore_TMI.geoh5"
       ],
       "index": 3,
       "layout": "IPY_MODEL_20cdce0f84a549e88b3ce5f4a6428150",
       "rows": 8,
       "style": "IPY_MODEL_fc12f63e95274155acc51562079bbd82"
      }
     },
     "d7f564d5fc1340a38cbb990096e2a050": {
      "model_module": "@jupyter-widgets/controls",
      "model_module_version": "1.5.0",
      "model_name": "DescriptionStyleModel",
      "state": {
       "description_width": ""
      }
     },
     "d810c4e05c32400dbaf6db980e8383bc": {
      "model_module": "@jupyter-widgets/controls",
      "model_module_version": "1.5.0",
      "model_name": "IntSliderModel",
      "state": {
       "continuous_update": false,
       "description": "Population Downsampling:",
       "layout": "IPY_MODEL_caebaf7035924ef6af1f2c53547a888c",
       "max": 4438,
       "min": 1,
       "style": "IPY_MODEL_538329c6e8564d27a4eafca5bced25f9",
       "value": 4438
      }
     },
     "d8267c0ace354569b0e947799024c9c1": {
      "model_module": "@jupyter-widgets/controls",
      "model_module_version": "1.5.0",
      "model_name": "CheckboxModel",
      "state": {
       "description": "Log10",
       "disabled": false,
       "indent": false,
       "layout": "IPY_MODEL_01a8bdc660f24e3a91f15729e63bb151",
       "style": "IPY_MODEL_833befb1210d4b40aabfaff4c9cffea7",
       "value": false
      }
     },
     "d8fc3aa8399c4e68b1cc8622b852fc85": {
      "model_module": "@jupyter-widgets/base",
      "model_module_version": "1.2.0",
      "model_name": "LayoutModel",
      "state": {}
     },
     "d9369e5034be462dab15f1a0f66865d2": {
      "model_module": "@jupyter-widgets/base",
      "model_module_version": "1.2.0",
      "model_name": "LayoutModel",
      "state": {}
     },
     "d9cde71824ee4bf89eb4a4f168466a59": {
      "model_module": "@jupyter-widgets/controls",
      "model_module_version": "1.5.0",
      "model_name": "ButtonStyleModel",
      "state": {}
     },
     "d9d2e7c5eea943cdbc7f310a00ecd46c": {
      "model_module": "@jupyter-widgets/base",
      "model_module_version": "1.2.0",
      "model_name": "LayoutModel",
      "state": {}
     },
     "da019839253a4d69a6fb4441a5b47d7b": {
      "model_module": "@jupyter-widgets/controls",
      "model_module_version": "1.5.0",
      "model_name": "DescriptionStyleModel",
      "state": {
       "description_width": "initial"
      }
     },
     "db085e05f44b4e4b856d8ba3092d5aef": {
      "model_module": "@jupyter-widgets/controls",
      "model_module_version": "1.5.0",
      "model_name": "DropdownModel",
      "state": {
       "_options_labels": [
        "X-axis",
        "Y-axis",
        "Z-axis",
        "Color",
        "Size"
       ],
       "index": 0,
       "layout": "IPY_MODEL_0482b4c5ab9342caa9b1cdf28112eaae",
       "style": "IPY_MODEL_fda7a8eb68a44662bb8d939813e2b86c"
      }
     },
     "db0c8fab223d48f1a3ffbfe024b7ea2e": {
      "model_module": "@jupyter-widgets/base",
      "model_module_version": "1.2.0",
      "model_name": "LayoutModel",
      "state": {}
     },
     "dc230be9cd5e4440bed0b0524f5453a6": {
      "model_module": "@jupyter-widgets/controls",
      "model_module_version": "1.5.0",
      "model_name": "SliderStyleModel",
      "state": {
       "description_width": ""
      }
     },
     "dc8143f7deb84e0e83ba318039144765": {
      "model_module": "@jupyter-widgets/controls",
      "model_module_version": "1.5.0",
      "model_name": "DescriptionStyleModel",
      "state": {
       "description_width": ""
      }
     },
     "dc8da6a4d4a9429cb7a64e4cc32cfba7": {
      "model_module": "@jupyter-widgets/controls",
      "model_module_version": "1.5.0",
      "model_name": "DescriptionStyleModel",
      "state": {
       "description_width": ""
      }
     },
     "dcc2b207360e4cb49c1f86e28fd6b8a9": {
      "model_module": "@jupyter-widgets/controls",
      "model_module_version": "1.5.0",
      "model_name": "DescriptionStyleModel",
      "state": {
       "description_width": "initial"
      }
     },
     "dccc22cc06cc4755939c1d4984653897": {
      "model_module": "@jupyter-widgets/base",
      "model_module_version": "1.2.0",
      "model_name": "LayoutModel",
      "state": {}
     },
     "dcee19ed6fb948eb9662b98660a2aa91": {
      "model_module": "@jupyter-widgets/controls",
      "model_module_version": "1.5.0",
      "model_name": "HBoxModel",
      "state": {
       "children": [
        "IPY_MODEL_5f2c949a97ed430ea84777c5272a2a3d"
       ],
       "layout": "IPY_MODEL_3db8a8de28bb4961bb4409602467d080"
      }
     },
     "ddae5559db95429382e4c9135d99a4d6": {
      "model_module": "@jupyter-widgets/base",
      "model_module_version": "1.2.0",
      "model_name": "LayoutModel",
      "state": {}
     },
     "dde6430a083f4910afcbe143e8dd3fec": {
      "model_module": "@jupyter-widgets/base",
      "model_module_version": "1.2.0",
      "model_name": "LayoutModel",
      "state": {}
     },
     "ddfc69f913c7413b91b2b92b8f821dc0": {
      "model_module": "@jupyter-widgets/controls",
      "model_module_version": "1.5.0",
      "model_name": "DescriptionStyleModel",
      "state": {
       "description_width": ""
      }
     },
     "de68da659a8b49ff8586ce8b93c0adab": {
      "model_module": "@jupyter-widgets/controls",
      "model_module_version": "1.5.0",
      "model_name": "DescriptionStyleModel",
      "state": {
       "description_width": ""
      }
     },
     "deb927e108224477a3cb14c8b473ea6d": {
      "model_module": "@jupyter-widgets/controls",
      "model_module_version": "1.5.0",
      "model_name": "DescriptionStyleModel",
      "state": {
       "description_width": ""
      }
     },
     "deebc9192a6646b6ad619a76b0882a60": {
      "model_module": "@jupyter-widgets/controls",
      "model_module_version": "1.5.0",
      "model_name": "HBoxModel",
      "state": {
       "children": [
        "IPY_MODEL_36b238b368e9483baf2169c51d7e020d",
        "IPY_MODEL_ae7b7019800f4aa29e6a8d43f251f221"
       ],
       "layout": "IPY_MODEL_52c4efc7b79940599af0595925e322e0"
      }
     },
     "df8282cd284c4106b4aeb68db38ae124": {
      "model_module": "@jupyter-widgets/base",
      "model_module_version": "1.2.0",
      "model_name": "LayoutModel",
      "state": {
       "overflow": "auto"
      }
     },
     "df87d10e38cb466db053f6f46d69172f": {
      "model_module": "@jupyter-widgets/base",
      "model_module_version": "1.2.0",
      "model_name": "LayoutModel",
      "state": {}
     },
     "df8d5eb77c514d09aac58450f5e1e3f1": {
      "model_module": "@jupyter-widgets/controls",
      "model_module_version": "1.5.0",
      "model_name": "DescriptionStyleModel",
      "state": {
       "description_width": ""
      }
     },
     "e06bdc5edd9a4d1994a7d9d04df6eb9d": {
      "model_module": "@jupyter-widgets/base",
      "model_module_version": "1.2.0",
      "model_name": "LayoutModel",
      "state": {}
     },
     "e15bcba015c8404193113fc668c1bf04": {
      "model_module": "@jupyter-widgets/base",
      "model_module_version": "1.2.0",
      "model_name": "LayoutModel",
      "state": {}
     },
     "e1772e959e8a47cc86d64effccf276d3": {
      "model_module": "@jupyter-widgets/base",
      "model_module_version": "1.2.0",
      "model_name": "LayoutModel",
      "state": {}
     },
     "e308bba729214f55a8a0567ef67da364": {
      "model_module": "@jupyter-widgets/base",
      "model_module_version": "1.2.0",
      "model_name": "LayoutModel",
      "state": {}
     },
     "e321a1fb646d4c62aca6163e40264e77": {
      "model_module": "@jupyter-widgets/base",
      "model_module_version": "1.2.0",
      "model_name": "LayoutModel",
      "state": {}
     },
     "e3bee02257a94c2fad17f9d903d54da4": {
      "model_module": "@jupyter-widgets/base",
      "model_module_version": "1.2.0",
      "model_name": "LayoutModel",
      "state": {}
     },
     "e4617f40a4c840678cfefc1769348d95": {
      "model_module": "@jupyter-widgets/base",
      "model_module_version": "1.2.0",
      "model_name": "LayoutModel",
      "state": {}
     },
     "e50af92aae87475d81254fe694dafb17": {
      "model_module": "@jupyter-widgets/controls",
      "model_module_version": "1.5.0",
      "model_name": "DescriptionStyleModel",
      "state": {
       "description_width": "initial"
      }
     },
     "e51bf351ef9245959e789d42090c3853": {
      "model_module": "@jupyter-widgets/base",
      "model_module_version": "1.2.0",
      "model_name": "LayoutModel",
      "state": {
       "grid_area": "dircontent",
       "width": "auto"
      }
     },
     "e548b6ecc1b24874a72e66a0b5915079": {
      "model_module": "@jupyter-widgets/controls",
      "model_module_version": "1.5.0",
      "model_name": "FloatTextModel",
      "state": {
       "description": "Max",
       "layout": "IPY_MODEL_414dcad65a9f49ddacafb07e9c3f91e0",
       "step": null,
       "style": "IPY_MODEL_55c179176be84e44a74f95e1e97b9145",
       "value": 640
      }
     },
     "e58a4a50098346608476586ccace75ca": {
      "model_module": "@jupyter-widgets/controls",
      "model_module_version": "1.5.0",
      "model_name": "VBoxModel",
      "state": {
       "children": [
        "IPY_MODEL_79063bde62a24d89ad5975e4252a45ff",
        "IPY_MODEL_06b5587339314152ab2fe037e682bdd9"
       ],
       "layout": "IPY_MODEL_23f962f1afe54d58ae3a2f395b19e0dd"
      }
     },
     "e59cc668760e45d699933c076d5c7487": {
      "model_module": "@jupyter-widgets/base",
      "model_module_version": "1.2.0",
      "model_name": "LayoutModel",
      "state": {}
     },
     "e693a392c29d413785da07daa5601e46": {
      "model_module": "@jupyter-widgets/base",
      "model_module_version": "1.2.0",
      "model_name": "LayoutModel",
      "state": {
       "width": "auto"
      }
     },
     "e736d5f31f564a8898046b5988d36d90": {
      "model_module": "@jupyter-widgets/base",
      "model_module_version": "1.2.0",
      "model_name": "LayoutModel",
      "state": {}
     },
     "e773e45b6f9646dcac491e3635cc36fd": {
      "model_module": "@jupyter-widgets/controls",
      "model_module_version": "1.5.0",
      "model_name": "FloatTextModel",
      "state": {
       "description": "Min",
       "layout": "IPY_MODEL_a2a20f2dd8ec489da8dcdbd4446f5149",
       "step": null,
       "style": "IPY_MODEL_5f1d514f079b4e3b8cb194c0a4f3bca6",
       "value": -17
      }
     },
     "e82b93bbda004129b88fe4194ffc628b": {
      "model_module": "@jupyter-widgets/controls",
      "model_module_version": "1.5.0",
      "model_name": "FloatTextModel",
      "state": {
       "description": "Min",
       "layout": "IPY_MODEL_9a4908e4a72d4965b41988936aaddefd",
       "step": null,
       "style": "IPY_MODEL_50a0b675304645dbbf949e3b5931f142",
       "value": -17
      }
     },
     "e8a58fe189a740be9a36072793026173": {
      "model_module": "@jupyter-widgets/base",
      "model_module_version": "1.2.0",
      "model_name": "LayoutModel",
      "state": {}
     },
     "e8be9a601ffd4374a248fddab5ba6b10": {
      "model_module": "@jupyter-widgets/controls",
      "model_module_version": "1.5.0",
      "model_name": "DescriptionStyleModel",
      "state": {
       "description_width": ""
      }
     },
     "e91310d2987b4ec3bcae9e2b6136dc2c": {
      "model_module": "@jupyter-widgets/controls",
      "model_module_version": "1.5.0",
      "model_name": "DescriptionStyleModel",
      "state": {
       "description_width": ""
      }
     },
     "e9776c708da34cc6aab2efe915bc7278": {
      "model_module": "@jupyter-widgets/base",
      "model_module_version": "1.2.0",
      "model_name": "LayoutModel",
      "state": {}
     },
     "ea2e3ce09fd643e9ab0b17d716a68f0c": {
      "model_module": "@jupyter-widgets/controls",
      "model_module_version": "1.5.0",
      "model_name": "CheckboxModel",
      "state": {
       "description": "Active",
       "disabled": false,
       "indent": false,
       "layout": "IPY_MODEL_3a475e371a4b41bbafe2138f5b166297",
       "style": "IPY_MODEL_07460701b40742658f177cfb38586da1",
       "value": true
      }
     },
     "ea7380251ef9470cbec81496378c6c3a": {
      "model_module": "@jupyter-widgets/controls",
      "model_module_version": "1.5.0",
      "model_name": "HBoxModel",
      "state": {
       "children": [
        "IPY_MODEL_2c04f077da7d4bcd81bcaf02c5c87642",
        "IPY_MODEL_e548b6ecc1b24874a72e66a0b5915079"
       ],
       "layout": "IPY_MODEL_3e83fc93007e4b7eb518bf602f70abbc"
      }
     },
     "ea79bfac840e41839294492ecc35873d": {
      "model_module": "@jupyter-widgets/controls",
      "model_module_version": "1.5.0",
      "model_name": "DescriptionStyleModel",
      "state": {
       "description_width": "initial"
      }
     },
     "eaa4bbf71f5c4ac6b52932b07a692c3a": {
      "model_module": "@jupyter-widgets/controls",
      "model_module_version": "1.5.0",
      "model_name": "DescriptionStyleModel",
      "state": {
       "description_width": "initial"
      }
     },
     "eaab1de79dc54cf3b356915810609ea4": {
      "model_module": "@jupyter-widgets/controls",
      "model_module_version": "1.5.0",
      "model_name": "FloatTextModel",
      "state": {
       "description": "Max",
       "layout": "IPY_MODEL_7c549aeccd3c4d16b90299486ba5c9ca",
       "step": null,
       "style": "IPY_MODEL_5382b7d83aae46c5bb704663c2693001",
       "value": 29.8
      }
     },
     "eade694707074f99bdeb6deacd8314a3": {
      "model_module": "@jupyter-widgets/base",
      "model_module_version": "1.2.0",
      "model_name": "LayoutModel",
      "state": {}
     },
     "eb20a09fdd0b49dfa17e934cfb274c27": {
      "model_module": "@jupyter-widgets/controls",
      "model_module_version": "1.5.0",
      "model_name": "DescriptionStyleModel",
      "state": {
       "description_width": ""
      }
     },
     "eb4c0eae8f0d48d08d88adb1345b6416": {
      "model_module": "@jupyter-widgets/base",
      "model_module_version": "1.2.0",
      "model_name": "LayoutModel",
      "state": {}
     },
     "ec4bc86f0f9543bc8c91d28f9a0b90ec": {
      "model_module": "@jupyter-widgets/controls",
      "model_module_version": "1.5.0",
      "model_name": "DescriptionStyleModel",
      "state": {
       "description_width": ""
      }
     },
     "ecc4efe65d4d40809d2feddfe5f7b9aa": {
      "model_module": "@jupyter-widgets/base",
      "model_module_version": "1.2.0",
      "model_name": "LayoutModel",
      "state": {}
     },
     "ece5cf7020c342da89093de4b2bf2483": {
      "model_module": "@jupyter-widgets/base",
      "model_module_version": "1.2.0",
      "model_name": "LayoutModel",
      "state": {}
     },
     "ee38f63071a241bc8e5934366d144c03": {
      "model_module": "@jupyter-widgets/controls",
      "model_module_version": "1.5.0",
      "model_name": "DropdownModel",
      "state": {
       "_options_labels": [
        "CaO",
        "MgO",
        "V",
        "Ba",
        "Al2O3"
       ],
       "description": "Data:",
       "index": 3,
       "layout": "IPY_MODEL_847a53ade23141e18f47bae5f4839d51",
       "style": "IPY_MODEL_2a69d39913c346c19593ef4239e1bdfd"
      }
     },
     "ef72ee3716274692a6607cf1b2b01e68": {
      "model_module": "@jupyter-widgets/controls",
      "model_module_version": "1.5.0",
      "model_name": "DescriptionStyleModel",
      "state": {
       "description_width": ""
      }
     },
     "efc8f5207e7c4a488263908244bba79f": {
      "model_module": "@jupyter-widgets/controls",
      "model_module_version": "1.5.0",
      "model_name": "HTMLModel",
      "state": {
       "layout": "IPY_MODEL_ad4f8a77bef9475899ecfd23c3c0c842",
       "style": "IPY_MODEL_e8be9a601ffd4374a248fddab5ba6b10"
      }
     },
     "f03925c0fb994d5b9b506c6270e0da67": {
      "model_module": "@jupyter-widgets/controls",
      "model_module_version": "1.5.0",
      "model_name": "DescriptionStyleModel",
      "state": {
       "description_width": ""
      }
     },
     "f0ec61452e294fbb84bc15e9d667a195": {
      "model_module": "@jupyter-widgets/base",
      "model_module_version": "1.2.0",
      "model_name": "LayoutModel",
      "state": {
       "overflow": "auto"
      }
     },
     "f0ffc43ccc524923b6f6c05e35de9d48": {
      "model_module": "@jupyter-widgets/base",
      "model_module_version": "1.2.0",
      "model_name": "LayoutModel",
      "state": {
       "display": "none"
      }
     },
     "f1a85964f39c45af8b31522a0df7bf0d": {
      "model_module": "@jupyter-widgets/base",
      "model_module_version": "1.2.0",
      "model_name": "LayoutModel",
      "state": {}
     },
     "f1c04391af1e4724963f67c920791db0": {
      "model_module": "@jupyter-widgets/base",
      "model_module_version": "1.2.0",
      "model_name": "LayoutModel",
      "state": {
       "width": "auto"
      }
     },
     "f1c820822fa24d239ef3e36a61664e0b": {
      "model_module": "@jupyter-widgets/controls",
      "model_module_version": "1.5.0",
      "model_name": "HBoxModel",
      "state": {
       "children": [
        "IPY_MODEL_82b7d9b4298a42a98e9707951808cfff",
        "IPY_MODEL_3eb6db2d93ae48698783abbc55f53093"
       ],
       "layout": "IPY_MODEL_4c8037beaf1941f6a59a7d137da7d185"
      }
     },
     "f226fd9d9603451da527ac5a4214e6fc": {
      "model_module": "@jupyter-widgets/base",
      "model_module_version": "1.2.0",
      "model_name": "LayoutModel",
      "state": {}
     },
     "f2ba84783ff94d05abce679252037957": {
      "model_module": "@jupyter-widgets/controls",
      "model_module_version": "1.5.0",
      "model_name": "VBoxModel",
      "state": {
       "children": [
        "IPY_MODEL_b33c9a9e16aa467f800a3d91cb3a71bc",
        "IPY_MODEL_291bdedda9534257a963820e5ef4d354",
        "IPY_MODEL_6d781fb0adfd4d0a88f99a5610a41d50"
       ],
       "layout": "IPY_MODEL_ca8941509ea84b83975ae95320ed85b1"
      }
     },
     "f3acc6985107448a9f604cf143c6db1d": {
      "model_module": "@jupyter-widgets/controls",
      "model_module_version": "1.5.0",
      "model_name": "DescriptionStyleModel",
      "state": {
       "description_width": "initial"
      }
     },
     "f41b32e9ea664001abafe536b527dd44": {
      "model_module": "@jupyter-widgets/controls",
      "model_module_version": "1.5.0",
      "model_name": "FloatTextModel",
      "state": {
       "description": "Max",
       "layout": "IPY_MODEL_03d73c9499c545cb8e1d06f270d9612f",
       "step": null,
       "style": "IPY_MODEL_304c3dd4c8e141138872963381f95c5a",
       "value": 3200
      }
     },
     "f4210e162a3747b888e6e88566ba9414": {
      "model_module": "@jupyter-widgets/controls",
      "model_module_version": "1.5.0",
      "model_name": "SliderStyleModel",
      "state": {
       "description_width": "initial"
      }
     },
     "f496e60909bf4dc684c0da8916bcb4bb": {
      "model_module": "@jupyter-widgets/controls",
      "model_module_version": "1.5.0",
      "model_name": "VBoxModel",
      "state": {
       "children": [
        "IPY_MODEL_efc8f5207e7c4a488263908244bba79f",
        "IPY_MODEL_0e1a83581bf44e24a1724a0d4384e916",
        "IPY_MODEL_a9fd8a3bbc0241bcbbf74f82f4cc1977"
       ],
       "layout": "IPY_MODEL_ca8941509ea84b83975ae95320ed85b1"
      }
     },
     "f4ac822e01b94932aa4cc1d4571a7279": {
      "model_module": "@jupyter-widgets/controls",
      "model_module_version": "1.5.0",
      "model_name": "DropdownModel",
      "state": {
       "_options_labels": [
        "CaO",
        "MgO",
        "V",
        "Ba",
        "Al2O3"
       ],
       "description": "Data:",
       "index": 4,
       "layout": "IPY_MODEL_4967287dac3849eaaaa2b90d3520635f",
       "style": "IPY_MODEL_8b9f15cba512484c885f4bfa537ba31d"
      }
     },
     "f4adf79ed2754f0bb5a8796d68348820": {
      "model_module": "@jupyter-widgets/base",
      "model_module_version": "1.2.0",
      "model_name": "LayoutModel",
      "state": {}
     },
     "f54a1890991f416b8df4276e91aa3965": {
      "model_module": "@jupyter-widgets/controls",
      "model_module_version": "1.5.0",
      "model_name": "FloatTextModel",
      "state": {
       "description": "Min",
       "layout": "IPY_MODEL_7ffbaab555114935be419f103d6b27ea",
       "step": null,
       "style": "IPY_MODEL_1ec1e8e9c0e5440cbca7c1d1e52a7a6e",
       "value": -17
      }
     },
     "f5b4dff6bea3475092f0d4ee1d2e1370": {
      "model_module": "@jupyter-widgets/controls",
      "model_module_version": "1.5.0",
      "model_name": "ButtonStyleModel",
      "state": {}
     },
     "f5b8cfeb454345749ea65f212f524a9f": {
      "model_module": "@jupyter-widgets/base",
      "model_module_version": "1.2.0",
      "model_name": "LayoutModel",
      "state": {}
     },
     "f5df5eeeacd14ee7a596a22a1eecca03": {
      "model_module": "@jupyter-widgets/controls",
      "model_module_version": "1.5.0",
      "model_name": "DescriptionStyleModel",
      "state": {
       "description_width": "initial"
      }
     },
     "f6ce6c9a1a49478db3914a0dd550d032": {
      "model_module": "@jupyter-widgets/controls",
      "model_module_version": "1.5.0",
      "model_name": "ButtonStyleModel",
      "state": {}
     },
     "f86855d6011646e192e2195151d64fbd": {
      "model_module": "@jupyter-widgets/controls",
      "model_module_version": "1.5.0",
      "model_name": "FloatTextModel",
      "state": {
       "description": "Threshold",
       "layout": "IPY_MODEL_e1772e959e8a47cc86d64effccf276d3",
       "step": null,
       "style": "IPY_MODEL_fe273472a76c4946985397bf655564cf",
       "value": 0.1
      }
     },
     "f8a0ad8fe2cf465e98c111ecb8e07d68": {
      "model_module": "@jupyter-widgets/base",
      "model_module_version": "1.2.0",
      "model_name": "LayoutModel",
      "state": {}
     },
     "f8acbb0e3f404963a05bbb728867f65e": {
      "model_module": "@jupyter-widgets/controls",
      "model_module_version": "1.5.0",
      "model_name": "TextModel",
      "state": {
       "continuous_update": false,
       "description": "Group:",
       "layout": "IPY_MODEL_c93a34c8da63467fa42c6abe23989870",
       "style": "IPY_MODEL_529370bedf1f4a4b950c54b7385ed0cb"
      }
     },
     "f94a5b4c63954562a1c814de0267a8a2": {
      "model_module": "@jupyter-widgets/controls",
      "model_module_version": "1.5.0",
      "model_name": "FloatTextModel",
      "state": {
       "description": "Min",
       "layout": "IPY_MODEL_295faecc68684c8ab9feb685c9527b7e",
       "step": null,
       "style": "IPY_MODEL_09064b0f91194bc3af71f5b00b59e21c",
       "value": -17
      }
     },
     "f96413d947904f14869108920eb93d89": {
      "model_module": "@jupyter-widgets/base",
      "model_module_version": "1.2.0",
      "model_name": "LayoutModel",
      "state": {}
     },
     "fbeaf1702ce247ae997717c24a04c5a0": {
      "model_module": "@jupyter-widgets/controls",
      "model_module_version": "1.5.0",
      "model_name": "DescriptionStyleModel",
      "state": {
       "description_width": ""
      }
     },
     "fc0d2d5dddf24ec784b2ace27d0e6238": {
      "model_module": "@jupyter-widgets/controls",
      "model_module_version": "1.5.0",
      "model_name": "DescriptionStyleModel",
      "state": {
       "description_width": ""
      }
     },
     "fc12f63e95274155acc51562079bbd82": {
      "model_module": "@jupyter-widgets/controls",
      "model_module_version": "1.5.0",
      "model_name": "DescriptionStyleModel",
      "state": {
       "description_width": ""
      }
     },
     "fc8f3acded254e3c9ab438270a0e1ead": {
      "model_module": "@jupyter-widgets/base",
      "model_module_version": "1.2.0",
      "model_name": "LayoutModel",
      "state": {}
     },
     "fc9a052cc81a46cd8be0b23a0e21a995": {
      "model_module": "@jupyter-widgets/controls",
      "model_module_version": "1.5.0",
      "model_name": "TextModel",
      "state": {
       "layout": "IPY_MODEL_9a8fd34920334b68b1d5e79779622be3",
       "placeholder": "output filename",
       "style": "IPY_MODEL_25b2e051abc049b0a4716e3016f12d74",
       "value": "FlinFlon.geoh5"
      }
     },
     "fda7a8eb68a44662bb8d939813e2b86c": {
      "model_module": "@jupyter-widgets/controls",
      "model_module_version": "1.5.0",
      "model_name": "DescriptionStyleModel",
      "state": {
       "description_width": "initial"
      }
     },
     "fe273472a76c4946985397bf655564cf": {
      "model_module": "@jupyter-widgets/controls",
      "model_module_version": "1.5.0",
      "model_name": "DescriptionStyleModel",
      "state": {
       "description_width": "initial"
      }
     },
     "ff22c27064a24dda9070844c193c8c15": {
      "model_module": "@jupyter-widgets/base",
      "model_module_version": "1.2.0",
      "model_name": "LayoutModel",
      "state": {}
     }
    },
    "version_major": 2,
    "version_minor": 0
   }
  }
 },
 "nbformat": 4,
 "nbformat_minor": 5
}

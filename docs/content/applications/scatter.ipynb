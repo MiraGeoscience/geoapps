version https://git-lfs.github.com/spec/v1
oid sha256:31a082c06104827f119871fecdeb457f7e9b199d042d7110cebd3057df789bba
size 716906

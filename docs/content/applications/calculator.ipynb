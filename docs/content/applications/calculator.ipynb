version https://git-lfs.github.com/spec/v1
oid sha256:f76339b2fad0d20ada2d0f52ee16a0127fc2a2f3f0478a1bab1b6984ff98e4a1
size 460825

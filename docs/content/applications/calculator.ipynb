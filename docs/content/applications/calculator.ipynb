version https://git-lfs.github.com/spec/v1
oid sha256:8a7fca011d9f5c1cbdab98d2cf820c2dd941b155d361c2db7be6594076a42e0a
size 271914

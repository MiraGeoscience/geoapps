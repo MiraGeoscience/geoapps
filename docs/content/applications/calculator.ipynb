version https://git-lfs.github.com/spec/v1
oid sha256:f25fdb6a092ec2ac9a92bc6168cbe94874831471d9385940777f2829572fbe81
size 249017

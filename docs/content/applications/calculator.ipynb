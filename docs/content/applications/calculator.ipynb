version https://git-lfs.github.com/spec/v1
oid sha256:18a363bd69307cdae98ef0ad22e4b9f799c24b72623b5fe00835862800003ac2
size 3080115

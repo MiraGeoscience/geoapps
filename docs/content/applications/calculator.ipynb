version https://git-lfs.github.com/spec/v1
oid sha256:29d1c60ad5c9669015f594d701b9de472bdefcd9ab78f0f2479c985564505d3c
size 2621333

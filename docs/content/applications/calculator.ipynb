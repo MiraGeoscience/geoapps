version https://git-lfs.github.com/spec/v1
oid sha256:ae6a1af209ad3ddef1126aebd9304a9d720db1f1b30ae7221e68d98050c4e8ea
size 312674

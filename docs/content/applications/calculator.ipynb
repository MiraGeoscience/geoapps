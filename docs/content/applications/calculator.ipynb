version https://git-lfs.github.com/spec/v1
oid sha256:475e0049bf68f07909a47349978590cc39345aca15ea454a47779305beff71ab
size 420785

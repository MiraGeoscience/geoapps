{
 "cells": [
  {
   "cell_type": "markdown",
   "id": "direct-cloud",
   "metadata": {},
   "source": [
    "# Calculator\n",
    "\n",
    " \n",
    "This application lets users add and modify data stored on objects with a simplified Python scripting interface. The calculator leverages functions from the [Numpy](https://numpy.org/) package. \n",
    "\n",
    "  <img align=\"right\" width=\"50%\" src=\"./images/calculator_app.png\"> \n",
    "  \n",
    "  \n",
    "New user? Visit the [Getting Started](../installation.rst) page."
   ]
  },
  {
   "cell_type": "markdown",
   "id": "individual-farming",
   "metadata": {},
   "source": [
    "## Application\n",
    "\n",
    "The following sections provide details on the different parameters controling the application. Interactive widgets shown below are for demonstration purposes only."
   ]
  },
  {
   "cell_type": "code",
   "execution_count": 1,
   "id": "ongoing-edgar",
   "metadata": {
    "scrolled": false
   },
   "outputs": [
    {
     "data": {
      "application/vnd.jupyter.widget-view+json": {
       "model_id": "84d4b61f2607468db32815d9c9e9a085",
       "version_major": 2,
       "version_minor": 0
      },
      "text/plain": [
       "VBox(children=(VBox(children=(Label(value='Workspace', style=DescriptionStyle(description_width='initial')), H…"
      ]
     },
     "metadata": {},
     "output_type": "display_data"
    }
   ],
   "source": [
    "from geoapps.processing import Calculator\n",
    "\n",
    "app = Calculator(h5file=r\"../../../assets/FlinFlon.geoh5\")\n",
    "app()"
   ]
  },
  {
   "cell_type": "markdown",
   "id": "deadly-listing",
   "metadata": {},
   "source": [
    "## Project Selection\n",
    "\n",
    "Select and connect to an existing **geoh5** project file containing data. "
   ]
  },
  {
   "cell_type": "code",
   "execution_count": 2,
   "id": "wireless-continuity",
   "metadata": {},
   "outputs": [
    {
     "data": {
      "application/vnd.jupyter.widget-view+json": {
       "model_id": "8341837b52a444429c8fce193723e741",
       "version_major": 2,
       "version_minor": 0
      },
      "text/plain": [
       "VBox(children=(Label(value='Workspace', style=DescriptionStyle(description_width='initial')), HBox(children=(F…"
      ]
     },
     "metadata": {},
     "output_type": "display_data"
    }
   ],
   "source": [
    "app.project_panel"
   ]
  },
  {
   "cell_type": "markdown",
   "id": "trying-integral",
   "metadata": {},
   "source": [
    "See the [Project Panel](base_application.ipynb#Project-Panel) page for more details."
   ]
  },
  {
   "cell_type": "markdown",
   "id": "infinite-auditor",
   "metadata": {},
   "source": [
    "## Object/Data Selection\n",
    "\n",
    "List of objects and associated data pulled from the target workspace."
   ]
  },
  {
   "cell_type": "code",
   "execution_count": 3,
   "id": "naval-weight",
   "metadata": {},
   "outputs": [
    {
     "data": {
      "application/vnd.jupyter.widget-view+json": {
       "model_id": "ffaea2f9e31449259dcbecf01d9621af",
       "version_major": 2,
       "version_minor": 0
      },
      "text/plain": [
       "VBox(children=(Dropdown(description='Object:', index=70, options=(['', None], ['fault_splay1', UUID('0febc8ad-…"
      ]
     },
     "metadata": {},
     "output_type": "display_data"
    }
   ],
   "source": [
    "app.data_panel"
   ]
  },
  {
   "cell_type": "markdown",
   "id": "czech-involvement",
   "metadata": {},
   "source": [
    "The *>> Add Variables >>* button appends the selected channels to the scripting window. Channels can also be added manually by typing the name of the channel enclosed in curly braces (i.e. {var}).\n",
    "\n",
    "See the [Object Selection](object_data_selection.ipynb) page for more details."
   ]
  },
  {
   "cell_type": "markdown",
   "id": "checked-cement",
   "metadata": {},
   "source": [
    "## Scripting Window\n",
    "\n",
    "Free-format text window to write Python-like expressions. \n",
    "\n",
    "- All core operations are accepted: add (``+``), subtract (``-``), multiply\n",
    "(``*``), divide (``/``), power (``**``). \n",
    "- Most [Numpy](https://numpy.org/doc/stable/reference/index.html) functions can also be called e.g.: ``numpy.log10({var})``\n",
    "- Data variables are identified by curly braces {var}. \n",
    "- Line breaks are allowed but must be enclosed in parentheses ().\n"
   ]
  },
  {
   "cell_type": "code",
   "execution_count": 4,
   "id": "conservative-participant",
   "metadata": {},
   "outputs": [
    {
     "data": {
      "application/vnd.jupyter.widget-view+json": {
       "model_id": "b8103a0af8a44c5f8c4207b8fa120427",
       "version_major": 2,
       "version_minor": 0
      },
      "text/plain": [
       "Textarea(value='{NewChannel} = {Al2O3} + numpy.cos({CaO} / 30.0 * numpy.pi)', layout=Layout(width='75%'), styl…"
      ]
     },
     "metadata": {},
     "output_type": "display_data"
    }
   ],
   "source": [
    "app.equation"
   ]
  },
  {
   "cell_type": "markdown",
   "id": "polished-harris",
   "metadata": {},
   "source": [
    "## Run\n",
    "\n",
    "Trigger the evaluation of the expression and store the result."
   ]
  },
  {
   "cell_type": "code",
   "execution_count": 5,
   "id": "humanitarian-uruguay",
   "metadata": {},
   "outputs": [
    {
     "data": {
      "application/vnd.jupyter.widget-view+json": {
       "model_id": "e3946f7fcd154ef2969664d14bcaf0c8",
       "version_major": 2,
       "version_minor": 0
      },
      "text/plain": [
       "VBox(children=(Button(button_style='danger', description='Compute', icon='check', style=ButtonStyle(), tooltip…"
      ]
     },
     "metadata": {},
     "output_type": "display_data"
    }
   ],
   "source": [
    "app.output_panel"
   ]
  },
  {
   "cell_type": "markdown",
   "id": "separated-above",
   "metadata": {},
   "source": [
    "See the [Output Panel](base_application.ipynb#Output-Panel) page for more details."
   ]
  },
  {
   "cell_type": "code",
   "execution_count": 6,
   "id": "nominated-jerusalem",
   "metadata": {
    "nbsphinx": "hidden",
    "scrolled": false
   },
   "outputs": [
    {
     "data": {
      "image/png": "[encoded data removed]",
      "text/plain": [
       "<Figure size 576x576 with 1 Axes>"
      ]
     },
     "metadata": {
      "needs_background": "light"
     },
     "output_type": "display_data"
    }
   ],
   "source": [
    "app.plot_result = True\n",
    "app.trigger.click() # For demo only\n",
    "app.figure.savefig(\"images/calculator_thumbnail.png\", dpi=300, bbox_inches=\"tight\")"
   ]
  },
  {
   "cell_type": "markdown",
   "id": "residential-classroom",
   "metadata": {},
   "source": [
    "Need help? Contact us at support@mirageoscience.com\n"
   ]
  }
 ],
 "metadata": {
  "kernelspec": {
   "display_name": "Python 3",
   "language": "python",
   "name": "python3"
  },
  "language_info": {
   "codemirror_mode": {
    "name": "ipython",
    "version": 3
   },
   "file_extension": ".py",
   "mimetype": "text/x-python",
   "name": "python",
   "nbconvert_exporter": "python",
   "pygments_lexer": "ipython3",
   "version": "3.9.4"
  },
  "widgets": {
   "application/vnd.jupyter.widget-state+json": {
    "state": {
     "006cfa920cc04de7838c234110ea25b4": {
      "model_module": "@jupyter-widgets/base",
      "model_module_version": "1.2.0",
      "model_name": "LayoutModel",
      "state": {}
     },
     "013a42bcb518482da6108b2f6afb53b8": {
      "model_module": "@jupyter-widgets/controls",
      "model_module_version": "1.5.0",
      "model_name": "ButtonStyleModel",
      "state": {}
     },
     "027533185fec47db8bb08cb09d079618": {
      "model_module": "@jupyter-widgets/controls",
      "model_module_version": "1.5.0",
      "model_name": "DescriptionStyleModel",
      "state": {
       "description_width": ""
      }
     },
     "031d1bb5c9b5436fa9b16653171f1c8b": {
      "model_module": "@jupyter-widgets/base",
      "model_module_version": "1.2.0",
      "model_name": "LayoutModel",
      "state": {}
     },
     "034f5d59d27f4c81ba0282b818642842": {
      "model_module": "@jupyter-widgets/base",
      "model_module_version": "1.2.0",
      "model_name": "LayoutModel",
      "state": {}
     },
     "038ea5fdcb564377a1da7a40f9d279ff": {
      "model_module": "@jupyter-widgets/controls",
      "model_module_version": "1.5.0",
      "model_name": "GridBoxModel",
      "state": {
       "children": [
        "IPY_MODEL_beabefe334814d9c8b3439aef6503612",
        "IPY_MODEL_6101edc91df84a198e1fbaf0cca689bc",
        "IPY_MODEL_8373a2c5768e42b48fbe5a90c4b3752c"
       ],
       "layout": "IPY_MODEL_2447c4c7b01e428a8a622d4cb2d55334"
      }
     },
     "05061b12b4fe4a66b73e98fd5f506c5a": {
      "model_module": "@jupyter-widgets/controls",
      "model_module_version": "1.5.0",
      "model_name": "SelectMultipleModel",
      "state": {
       "_options_labels": [
        "Ag",
        "Al2O3",
        "As",
        "Au",
        "Ba",
        "Be",
        "Bi",
        "CaO",
        "Cd",
        "Ce",
        "Cl",
        "Co",
        "Cr",
        "Cr2O3",
        "Cs",
        "Ctot",
        "Cu",
        "Dy",
        "Er",
        "Eu",
        "F",
        "Fe2O3",
        "Ga",
        "Gd",
        "Ge",
        "Hf",
        "Hg",
        "Ho",
        "In",
        "Ir",
        "K2O",
        "LOI",
        "La",
        "Li",
        "Lu",
        "MgO",
        "MnO",
        "Mo",
        "Na2O",
        "Nb",
        "Nd",
        "NewChannel",
        "Ni",
        "Ni2",
        "P2O5",
        "Pb",
        "Pr",
        "Rb",
        "SUM",
        "Sb",
        "Sc",
        "Se",
        "SiO2",
        "Sm",
        "Sn",
        "Sr",
        "Stot",
        "Ta",
        "Tb",
        "Th",
        "Ti",
        "TiO2",
        "Tl",
        "Tm",
        "U",
        "V",
        "Visual Parameters",
        "W",
        "Y_",
        "Yb",
        "Zn",
        "Zr",
        "interval_length"
       ],
       "description": "Data: ",
       "index": [
        1,
        7
       ],
       "layout": "IPY_MODEL_11f889e9a4ea4444b7399422138184bf",
       "rows": 5,
       "style": "IPY_MODEL_5b4fae2edd934eac8c3060d773a7289c"
      }
     },
     "0631fc11c7f44a18abe202c66f917f2b": {
      "model_module": "@jupyter-widgets/controls",
      "model_module_version": "1.5.0",
      "model_name": "DescriptionStyleModel",
      "state": {
       "description_width": "initial"
      }
     },
     "07433535e94b4488af6fb6a50ecbec55": {
      "model_module": "@jupyter-widgets/base",
      "model_module_version": "1.2.0",
      "model_name": "LayoutModel",
      "state": {}
     },
     "0763e25e83434cc09a67e4d7ea8f7132": {
      "model_module": "@jupyter-widgets/base",
      "model_module_version": "1.2.0",
      "model_name": "LayoutModel",
      "state": {
       "width": "auto"
      }
     },
     "07de4a855f674aefb7a353dcbca8902d": {
      "model_module": "@jupyter-widgets/controls",
      "model_module_version": "1.5.0",
      "model_name": "VBoxModel",
      "state": {
       "children": [
        "IPY_MODEL_deef56f3cd1b489286cbe2662dbc13ad",
        "IPY_MODEL_0f02c732a59147d0baf42657a7d79cd1"
       ],
       "layout": "IPY_MODEL_ee96b337ff6d4018b54e39fc93333f3b"
      }
     },
     "0893adfe5f624856b1a299cbedaaab0c": {
      "model_module": "@jupyter-widgets/controls",
      "model_module_version": "1.5.0",
      "model_name": "ButtonModel",
      "state": {
       "description": "Select",
       "layout": "IPY_MODEL_8f2b4fa65d84490fab02d0fb8c4dcaff",
       "style": "IPY_MODEL_013a42bcb518482da6108b2f6afb53b8"
      }
     },
     "0921ca8a454a4d5a9906f2387174a295": {
      "model_module": "@jupyter-widgets/controls",
      "model_module_version": "1.5.0",
      "model_name": "DescriptionStyleModel",
      "state": {
       "description_width": "initial"
      }
     },
     "0aa5009e64f14066a4e1a87375444abf": {
      "model_module": "@jupyter-widgets/controls",
      "model_module_version": "1.5.0",
      "model_name": "VBoxModel",
      "state": {
       "children": [
        "IPY_MODEL_635d806ae9a342b8b81f72c871bbd6bd",
        "IPY_MODEL_bc2abc91fa1b4d35834cc7e610a9c7c2"
       ],
       "layout": "IPY_MODEL_ecbb582e155f44e7a007ba22278ff6a2"
      }
     },
     "0af2ccb563084caf8c703463ca5aafac": {
      "model_module": "@jupyter-widgets/controls",
      "model_module_version": "1.5.0",
      "model_name": "VBoxModel",
      "state": {
       "children": [
        "IPY_MODEL_f5363637a4e549e4912d50e20791e437"
       ],
       "layout": "IPY_MODEL_aef01a6ea10948fc8d06367d9d54afc5"
      }
     },
     "0bcd5886adba47f9a33c6314ef1bec15": {
      "model_module": "@jupyter-widgets/controls",
      "model_module_version": "1.5.0",
      "model_name": "ButtonModel",
      "state": {
       "description": ">> Add Variable >>",
       "layout": "IPY_MODEL_fa42f6591c5f486f8a61de53adcd041c",
       "style": "IPY_MODEL_1369ade4e772471eb34ae88dc97fb5f9"
      }
     },
     "0c069f01572b45f0bdee4aff54542d5f": {
      "model_module": "@jupyter-widgets/base",
      "model_module_version": "1.2.0",
      "model_name": "LayoutModel",
      "state": {}
     },
     "0ca37e1497e84f689661542f8b081dce": {
      "model_module": "@jupyter-widgets/controls",
      "model_module_version": "1.5.0",
      "model_name": "DescriptionStyleModel",
      "state": {
       "description_width": ""
      }
     },
     "0d896b0ad7034847b5c65ad2ebc04a87": {
      "model_module": "@jupyter-widgets/controls",
      "model_module_version": "1.5.0",
      "model_name": "ButtonStyleModel",
      "state": {}
     },
     "0e2042d821c344b7a33fe693fad23aa1": {
      "model_module": "@jupyter-widgets/base",
      "model_module_version": "1.2.0",
      "model_name": "LayoutModel",
      "state": {}
     },
     "0ed9dd8d825843df84a213b2723bbd03": {
      "model_module": "@jupyter-widgets/controls",
      "model_module_version": "1.5.0",
      "model_name": "VBoxModel",
      "state": {
       "children": [
        "IPY_MODEL_ea0a006d85cc48ed97c6f9ec8e99dd38",
        "IPY_MODEL_643cba90c5f34db681586bccc1aa4ea5"
       ],
       "layout": "IPY_MODEL_c98a43468b6c47c1a601de64058d91c9"
      }
     },
     "0eddc4b8ebba4ce981d9127ac3826c3a": {
      "model_module": "@jupyter-widgets/controls",
      "model_module_version": "1.5.0",
      "model_name": "VBoxModel",
      "state": {
       "children": [
        "IPY_MODEL_7cbde29fd6f441b98d39f5133314a6ff"
       ],
       "layout": "IPY_MODEL_864886acff414b78ad461ba001678421"
      }
     },
     "0f02c732a59147d0baf42657a7d79cd1": {
      "model_module": "@jupyter-widgets/controls",
      "model_module_version": "1.5.0",
      "model_name": "VBoxModel",
      "state": {
       "children": [
        "IPY_MODEL_198e08bf76994182830763621808c197",
        "IPY_MODEL_be2a9650a6a04401aad03527b1134f1b"
       ],
       "layout": "IPY_MODEL_34cbac5cb3f74789bf338c73a7f41b4c"
      }
     },
     "0f6fc082abb145e5bff15b32c5057a3e": {
      "model_module": "@jupyter-widgets/controls",
      "model_module_version": "1.5.0",
      "model_name": "ButtonStyleModel",
      "state": {}
     },
     "1103c59d1e90405a9a9df2664e9174ac": {
      "model_module": "@jupyter-widgets/controls",
      "model_module_version": "1.5.0",
      "model_name": "DescriptionStyleModel",
      "state": {
       "description_width": ""
      }
     },
     "11e39cc1983c40b0a242b948f16d1834": {
      "model_module": "@jupyter-widgets/controls",
      "model_module_version": "1.5.0",
      "model_name": "DescriptionStyleModel",
      "state": {
       "description_width": ""
      }
     },
     "11f889e9a4ea4444b7399422138184bf": {
      "model_module": "@jupyter-widgets/base",
      "model_module_version": "1.2.0",
      "model_name": "LayoutModel",
      "state": {}
     },
     "121f142dbd9844de85ada75645d90bc2": {
      "model_module": "@jupyter-widgets/controls",
      "model_module_version": "1.5.0",
      "model_name": "ToggleButtonModel",
      "state": {
       "layout": "IPY_MODEL_ced490905d1f43239cf1bcff43930586",
       "style": "IPY_MODEL_d1f73e4d0114413ab102a119aee4e84b",
       "value": true
      }
     },
     "129e73a67f534cb0bca72dcc14c9a342": {
      "model_module": "@jupyter-widgets/controls",
      "model_module_version": "1.5.0",
      "model_name": "ButtonStyleModel",
      "state": {}
     },
     "1301cbf315c14d6bb23ba5ee76913cbe": {
      "model_module": "@jupyter-widgets/controls",
      "model_module_version": "1.5.0",
      "model_name": "DropdownModel",
      "state": {
       "_options_labels": [
        "C:\\Users\\dominiquef\\Documents\\GIT\\mira\\mirageoscience-apps\\docs\\content\\applications",
        "C:\\Users\\dominiquef\\Documents\\GIT\\mira\\mirageoscience-apps\\docs\\content",
        "C:\\Users\\dominiquef\\Documents\\GIT\\mira\\mirageoscience-apps\\docs",
        "C:\\Users\\dominiquef\\Documents\\GIT\\mira\\mirageoscience-apps",
        "C:\\Users\\dominiquef\\Documents\\GIT\\mira",
        "C:\\Users\\dominiquef\\Documents\\GIT",
        "C:\\Users\\dominiquef\\Documents",
        "C:\\Users\\dominiquef",
        "C:\\Users",
        "C:\\",
        "D:\\",
        "Z:\\"
       ],
       "index": 0,
       "layout": "IPY_MODEL_d684803faf604ebd8afc0be81595609a",
       "style": "IPY_MODEL_4a714c52ef3d46b699c0be9da8f84b65"
      }
     },
     "131ea12ccf4d46c9aa213cab3296d854": {
      "model_module": "@jupyter-widgets/controls",
      "model_module_version": "1.5.0",
      "model_name": "ButtonStyleModel",
      "state": {}
     },
     "1329c2ae317a400198024ff1391e1b82": {
      "model_module": "@jupyter-widgets/base",
      "model_module_version": "1.2.0",
      "model_name": "LayoutModel",
      "state": {
       "width": "auto"
      }
     },
     "1369ade4e772471eb34ae88dc97fb5f9": {
      "model_module": "@jupyter-widgets/controls",
      "model_module_version": "1.5.0",
      "model_name": "ButtonStyleModel",
      "state": {}
     },
     "13847b76d87e44b7ae7b8adc094e8234": {
      "model_module": "@jupyter-widgets/base",
      "model_module_version": "1.2.0",
      "model_name": "LayoutModel",
      "state": {}
     },
     "143646b504c44c8b9b31e2b53cb26fed": {
      "model_module": "@jupyter-widgets/controls",
      "model_module_version": "1.5.0",
      "model_name": "DescriptionStyleModel",
      "state": {
       "description_width": ""
      }
     },
     "14b1c5fc0411495c8565713492fb031b": {
      "model_module": "@jupyter-widgets/base",
      "model_module_version": "1.2.0",
      "model_name": "LayoutModel",
      "state": {}
     },
     "15dab356124a4381bb7595495056a62b": {
      "model_module": "@jupyter-widgets/controls",
      "model_module_version": "1.5.0",
      "model_name": "ButtonStyleModel",
      "state": {}
     },
     "175b448959aa4be6819ab592106c80e4": {
      "model_module": "@jupyter-widgets/base",
      "model_module_version": "1.2.0",
      "model_name": "LayoutModel",
      "state": {
       "width": "auto"
      }
     },
     "17956ed47f0649b696b43c906e97a672": {
      "model_module": "@jupyter-widgets/controls",
      "model_module_version": "1.5.0",
      "model_name": "VBoxModel",
      "state": {
       "children": [
        "IPY_MODEL_5f69462f6b224c3397eb24084eb9dec8",
        "IPY_MODEL_d06b71b980f047fb9150c30f524bc462"
       ],
       "layout": "IPY_MODEL_006cfa920cc04de7838c234110ea25b4"
      }
     },
     "18f384d8c308450cb81a8f49b20e5d96": {
      "model_module": "@jupyter-widgets/controls",
      "model_module_version": "1.5.0",
      "model_name": "ButtonModel",
      "state": {
       "button_style": "danger",
       "description": "Compute",
       "icon": "check",
       "layout": "IPY_MODEL_44d501df04ce4574a2b551a57c179259",
       "style": "IPY_MODEL_f4b2d9b37d684ca98c7eefe682fc5632",
       "tooltip": "Run computation"
      }
     },
     "196a15f27f0d4c3c939ac261a85e12e1": {
      "model_module": "@jupyter-widgets/controls",
      "model_module_version": "1.5.0",
      "model_name": "SelectModel",
      "state": {
       "_options_labels": [
        "..",
        "images"
       ],
       "index": null,
       "layout": "IPY_MODEL_f00e868a43794d62870986904ded3519",
       "rows": 8,
       "style": "IPY_MODEL_adb8dbf5196c49f5b09463649b162d08"
      }
     },
     "198bad6ed2614174954c4c042883b8e4": {
      "model_module": "@jupyter-widgets/controls",
      "model_module_version": "1.5.0",
      "model_name": "ToggleButtonModel",
      "state": {
       "layout": "IPY_MODEL_f280b831049e45169f0fa362c51fc7ef",
       "style": "IPY_MODEL_5c6bd2229df540c9be075b88528d30c0",
       "value": true
      }
     },
     "198dcfd710ed4b6d8db58b0add5fc629": {
      "model_module": "@jupyter-widgets/controls",
      "model_module_version": "1.5.0",
      "model_name": "ButtonStyleModel",
      "state": {}
     },
     "198e08bf76994182830763621808c197": {
      "model_module": "@jupyter-widgets/controls",
      "model_module_version": "1.5.0",
      "model_name": "VBoxModel",
      "state": {
       "children": [
        "IPY_MODEL_59b80fef65a74b4f89d402e5b83fb46c",
        "IPY_MODEL_a4a9fad427ff42a29535c39c20821347"
       ],
       "layout": "IPY_MODEL_6b745ee67ab640ec9449604b1550586a"
      }
     },
     "1997c8f3931541f9869cae92596bf66c": {
      "model_module": "@jupyter-widgets/base",
      "model_module_version": "1.2.0",
      "model_name": "LayoutModel",
      "state": {}
     },
     "1a6900eb7e264bf69a4278ab7bf45a9c": {
      "model_module": "@jupyter-widgets/base",
      "model_module_version": "1.2.0",
      "model_name": "LayoutModel",
      "state": {
       "width": "auto"
      }
     },
     "1b1d728488fd4ebbafb44b818d213adc": {
      "model_module": "@jupyter-widgets/controls",
      "model_module_version": "1.5.0",
      "model_name": "LabelModel",
      "state": {
       "layout": "IPY_MODEL_0e2042d821c344b7a33fe693fad23aa1",
       "style": "IPY_MODEL_dac8b148e35c4be292b7fcd1a03dad5f",
       "value": "Workspace"
      }
     },
     "1b984fdbd9b145788c74b9f6ed3da742": {
      "model_module": "@jupyter-widgets/controls",
      "model_module_version": "1.5.0",
      "model_name": "TextModel",
      "state": {
       "layout": "IPY_MODEL_bc9a62f32da84bebab79ae08fd268b08",
       "placeholder": "output filename",
       "style": "IPY_MODEL_b7455bd7008141e8ba69a94b12cb5dd7",
       "value": "FlinFlon.geoh5"
      }
     },
     "1c8b5e74d3674061a1a92dabca6936eb": {
      "model_module": "@jupyter-widgets/base",
      "model_module_version": "1.2.0",
      "model_name": "LayoutModel",
      "state": {}
     },
     "1d7dd1123bd6485db025a0ea2c84f382": {
      "model_module": "@jupyter-widgets/base",
      "model_module_version": "1.2.0",
      "model_name": "LayoutModel",
      "state": {
       "display": "none",
       "grid_gap": "0px 0px",
       "grid_template_areas": "\n                    'pathlist filename'\n                    'dircontent dircontent'\n                    ",
       "grid_template_columns": "60% 40%",
       "grid_template_rows": "auto auto",
       "width": "500px"
      }
     },
     "1e083171df5847a6bdb11da025808dd1": {
      "model_module": "@jupyter-widgets/controls",
      "model_module_version": "1.5.0",
      "model_name": "ButtonModel",
      "state": {
       "button_style": "danger",
       "description": "Compute",
       "icon": "check",
       "layout": "IPY_MODEL_1997c8f3931541f9869cae92596bf66c",
       "style": "IPY_MODEL_3a181e31c5e84956a80bc58c84caff9e",
       "tooltip": "Run computation"
      }
     },
     "1e283bb609ce4ccdb21c5c240fafbf84": {
      "model_module": "@jupyter-widgets/base",
      "model_module_version": "1.2.0",
      "model_name": "LayoutModel",
      "state": {
       "grid_area": "pathlist",
       "width": "auto"
      }
     },
     "1ec469fc7ff24bdcb77cfea067f08c9b": {
      "model_module": "@jupyter-widgets/controls",
      "model_module_version": "1.5.0",
      "model_name": "HTMLModel",
      "state": {
       "layout": "IPY_MODEL_c26eb6330bac4dccaaaa50881e797cfc",
       "style": "IPY_MODEL_3ef9a8729af44a69a64ba1c4764abc9b"
      }
     },
     "1ec87652b12846599205422493eb23af": {
      "model_module": "@jupyter-widgets/base",
      "model_module_version": "1.2.0",
      "model_name": "LayoutModel",
      "state": {}
     },
     "1f1ef62e70754b21bd1ae41d8d6e6f4a": {
      "model_module": "@jupyter-widgets/base",
      "model_module_version": "1.2.0",
      "model_name": "LayoutModel",
      "state": {}
     },
     "1fdfa714dc1445f3a9d6fdcaaa14e84e": {
      "model_module": "@jupyter-widgets/base",
      "model_module_version": "1.2.0",
      "model_name": "LayoutModel",
      "state": {}
     },
     "215536066e5145faaab7385fb069fa1b": {
      "model_module": "@jupyter-widgets/base",
      "model_module_version": "1.2.0",
      "model_name": "LayoutModel",
      "state": {
       "display": "none"
      }
     },
     "220ab9a8dac349299b2076408c68894c": {
      "model_module": "@jupyter-widgets/base",
      "model_module_version": "1.2.0",
      "model_name": "LayoutModel",
      "state": {
       "width": "auto"
      }
     },
     "22e1be5b106d4433883f29d9ec2e36b5": {
      "model_module": "@jupyter-widgets/controls",
      "model_module_version": "1.5.0",
      "model_name": "HBoxModel",
      "state": {
       "children": [
        "IPY_MODEL_ee016868fa6b49ee9f2690ed2545c6b6",
        "IPY_MODEL_7689493bf8f24d7eb399b58237504f84"
       ],
       "layout": "IPY_MODEL_b9bddf1ea4a24166b582aea298227b35"
      }
     },
     "2447c4c7b01e428a8a622d4cb2d55334": {
      "model_module": "@jupyter-widgets/base",
      "model_module_version": "1.2.0",
      "model_name": "LayoutModel",
      "state": {
       "display": "none",
       "grid_gap": "0px 0px",
       "grid_template_areas": "\n                    'pathlist filename'\n                    'dircontent dircontent'\n                    ",
       "grid_template_columns": "60% 40%",
       "grid_template_rows": "auto auto",
       "width": "500px"
      }
     },
     "250ba6c57845450fb01c115448f6684a": {
      "model_module": "@jupyter-widgets/base",
      "model_module_version": "1.2.0",
      "model_name": "LayoutModel",
      "state": {}
     },
     "25f6dc24f7de4e339f0d02e23b0810bb": {
      "model_module": "@jupyter-widgets/controls",
      "model_module_version": "1.5.0",
      "model_name": "HBoxModel",
      "state": {
       "children": [
        "IPY_MODEL_8a9da51d5b434e34825144c9fbff0427",
        "IPY_MODEL_e84dad1ba6bd4010925e532fca56b773",
        "IPY_MODEL_e68944fc50b64949b710f3036b311945"
       ],
       "layout": "IPY_MODEL_ccdc2690f4c0429795335cf7ce96b9b2"
      }
     },
     "2638f1cf268e4bf4a485fd65bd7329c6": {
      "model_module": "@jupyter-widgets/controls",
      "model_module_version": "1.5.0",
      "model_name": "DescriptionStyleModel",
      "state": {
       "description_width": ""
      }
     },
     "2644bbd4bfe6430a8fe931b6a25f88e5": {
      "model_module": "@jupyter-widgets/base",
      "model_module_version": "1.2.0",
      "model_name": "LayoutModel",
      "state": {
       "width": "100%"
      }
     },
     "2685333a0d3741bb9c8278889556fc3d": {
      "model_module": "@jupyter-widgets/base",
      "model_module_version": "1.2.0",
      "model_name": "LayoutModel",
      "state": {
       "grid_area": "dircontent",
       "width": "auto"
      }
     },
     "26a6531b46db40d6b96d50dcccd94405": {
      "model_module": "@jupyter-widgets/base",
      "model_module_version": "1.2.0",
      "model_name": "LayoutModel",
      "state": {}
     },
     "270ccf33207d4d5a8fd77725e614f7db": {
      "model_module": "@jupyter-widgets/base",
      "model_module_version": "1.2.0",
      "model_name": "LayoutModel",
      "state": {}
     },
     "286a4159435241d58167710b6290ac3d": {
      "model_module": "@jupyter-widgets/controls",
      "model_module_version": "1.5.0",
      "model_name": "ButtonStyleModel",
      "state": {}
     },
     "2906e466e4d04ee5af8311d320c254eb": {
      "model_module": "@jupyter-widgets/controls",
      "model_module_version": "1.5.0",
      "model_name": "SelectModel",
      "state": {
       "_options_labels": [
        "..",
        "dask-worker-space",
        "images"
       ],
       "index": null,
       "layout": "IPY_MODEL_af67ce5e8f044426bd7d9eda9756eef6",
       "rows": 8,
       "style": "IPY_MODEL_f4f67178a8a4499585408de1ec3a35c0"
      }
     },
     "2ab1957e5e044fdd8cba0ea99b17e4b6": {
      "model_module": "@jupyter-widgets/base",
      "model_module_version": "1.2.0",
      "model_name": "LayoutModel",
      "state": {
       "width": "75%"
      }
     },
     "2b113ad4bd02424498eb4072f41a55c5": {
      "model_module": "@jupyter-widgets/controls",
      "model_module_version": "1.5.0",
      "model_name": "ButtonModel",
      "state": {
       "description": "Change",
       "layout": "IPY_MODEL_1329c2ae317a400198024ff1391e1b82",
       "style": "IPY_MODEL_0d896b0ad7034847b5c65ad2ebc04a87"
      }
     },
     "2bb99989126e43e58ee2970fc5f6a862": {
      "model_module": "@jupyter-widgets/base",
      "model_module_version": "1.2.0",
      "model_name": "LayoutModel",
      "state": {}
     },
     "2bfb2bd12da64f88989e059836f54c20": {
      "model_module": "@jupyter-widgets/controls",
      "model_module_version": "1.5.0",
      "model_name": "VBoxModel",
      "state": {
       "children": [
        "IPY_MODEL_59b80fef65a74b4f89d402e5b83fb46c",
        "IPY_MODEL_be2a9650a6a04401aad03527b1134f1b"
       ],
       "layout": "IPY_MODEL_1fdfa714dc1445f3a9d6fdcaaa14e84e"
      }
     },
     "2c4b7757652e4dc2bac6a9b2983aa49c": {
      "model_module": "@jupyter-widgets/controls",
      "model_module_version": "1.5.0",
      "model_name": "VBoxModel",
      "state": {
       "children": [
        "IPY_MODEL_6028ae5e4b894532b1b2429f187185df",
        "IPY_MODEL_e89266a333af4596bb1df459010cc5a9"
       ],
       "layout": "IPY_MODEL_65b3fedb298c436eb889d80ea34fc3bc"
      }
     },
     "2c662785f5454e5eaf680bd368b27b76": {
      "model_module": "@jupyter-widgets/controls",
      "model_module_version": "1.5.0",
      "model_name": "SelectModel",
      "state": {
       "_options_labels": [
        "..",
        "Temp",
        "FlinFlon.geoh5",
        "Inversion_.json",
        "MtDore_TMI.geoh5"
       ],
       "index": 2,
       "layout": "IPY_MODEL_47f792cfd90a4f1aa7b93fd332ab98a4",
       "rows": 8,
       "style": "IPY_MODEL_bbcd43cacf4d4ccbbd43e3ae93e5a7ac"
      }
     },
     "2c78f2ba45c54ce7a617f2c1c63322f3": {
      "model_module": "@jupyter-widgets/base",
      "model_module_version": "1.2.0",
      "model_name": "LayoutModel",
      "state": {
       "display": "none"
      }
     },
     "2d0b838b398a4428aa23ff4dbf674bad": {
      "model_module": "@jupyter-widgets/base",
      "model_module_version": "1.2.0",
      "model_name": "LayoutModel",
      "state": {}
     },
     "2ecc0f1a919e43e7a6ebbeef603238e5": {
      "model_module": "@jupyter-widgets/controls",
      "model_module_version": "1.5.0",
      "model_name": "HBoxModel",
      "state": {
       "children": [
        "IPY_MODEL_517c02bc3cda432a930abb1ee3b38b9c",
        "IPY_MODEL_39dcf433f84f42c488564d5710521b63"
       ],
       "layout": "IPY_MODEL_270ccf33207d4d5a8fd77725e614f7db"
      }
     },
     "2f8c499df99145cd9ad2ab9268c66a63": {
      "model_module": "@jupyter-widgets/controls",
      "model_module_version": "1.5.0",
      "model_name": "SelectModel",
      "state": {
       "_options_labels": [
        "..",
        "dask-worker-space",
        "images"
       ],
       "index": null,
       "layout": "IPY_MODEL_938efa44f7604c8b83ff48444e58fdd6",
       "rows": 8,
       "style": "IPY_MODEL_7e4fb161edb84c59860d34a1669029d3"
      }
     },
     "304a27ea26cd4290942ad71ff79ad565": {
      "model_module": "@jupyter-widgets/controls",
      "model_module_version": "1.5.0",
      "model_name": "DescriptionStyleModel",
      "state": {
       "description_width": "initial"
      }
     },
     "3112e43e26134edaaacf7187bae5ed5a": {
      "model_module": "@jupyter-widgets/base",
      "model_module_version": "1.2.0",
      "model_name": "LayoutModel",
      "state": {
       "display": "none",
       "width": "auto"
      }
     },
     "318d75d07c3240d5a94ed37676a0bd7c": {
      "model_module": "@jupyter-widgets/base",
      "model_module_version": "1.2.0",
      "model_name": "LayoutModel",
      "state": {}
     },
     "3201b4a1f0ad42938d706ea8968b430a": {
      "model_module": "@jupyter-widgets/base",
      "model_module_version": "1.2.0",
      "model_name": "LayoutModel",
      "state": {}
     },
     "323726a524f44262a99fd9eabc6cf674": {
      "model_module": "@jupyter-widgets/base",
      "model_module_version": "1.2.0",
      "model_name": "LayoutModel",
      "state": {}
     },
     "328569246f9f4819a676b9e58bc4b548": {
      "model_module": "@jupyter-widgets/controls",
      "model_module_version": "1.5.0",
      "model_name": "VBoxModel",
      "state": {
       "children": [
        "IPY_MODEL_79cfa2ab02d74527b33cdbc1c39c483e",
        "IPY_MODEL_92101be0476840ff8c09ef89bd227c95"
       ],
       "layout": "IPY_MODEL_41269227b362482fb54892a2d58ef267"
      }
     },
     "3405a4e26dfe4ab8867a37ae0961d7f2": {
      "model_module": "@jupyter-widgets/controls",
      "model_module_version": "1.5.0",
      "model_name": "ButtonStyleModel",
      "state": {}
     },
     "34150c05ccc84f8988a62d98ac1da524": {
      "model_module": "@jupyter-widgets/controls",
      "model_module_version": "1.5.0",
      "model_name": "DescriptionStyleModel",
      "state": {
       "description_width": "initial"
      }
     },
     "347688dc2d714319a76242e4d954882d": {
      "model_module": "@jupyter-widgets/controls",
      "model_module_version": "1.5.0",
      "model_name": "HTMLModel",
      "state": {
       "layout": "IPY_MODEL_cc8aedb345d546e8ba3edac9b19e27ed",
       "placeholder": "",
       "style": "IPY_MODEL_11e39cc1983c40b0a242b948f16d1834",
       "value": "<span style=\"margin-left:10px; color:black;\">No file selected</span>"
      }
     },
     "34cbac5cb3f74789bf338c73a7f41b4c": {
      "model_module": "@jupyter-widgets/base",
      "model_module_version": "1.2.0",
      "model_name": "LayoutModel",
      "state": {}
     },
     "356594cf4ee94fbeb810a1a3b2ddce7c": {
      "model_module": "@jupyter-widgets/base",
      "model_module_version": "1.2.0",
      "model_name": "LayoutModel",
      "state": {
       "display": "none",
       "width": "auto"
      }
     },
     "35daf9bb5512405686a4e390f5d6f674": {
      "model_module": "@jupyter-widgets/controls",
      "model_module_version": "1.5.0",
      "model_name": "HBoxModel",
      "state": {
       "children": [
        "IPY_MODEL_d6846bdf76654da4a8d73d0e1f713363",
        "IPY_MODEL_d90308ec208844fe9c32b1084b097c7a",
        "IPY_MODEL_aa72627d66794acda79c2b06847d1e90"
       ],
       "layout": "IPY_MODEL_175b448959aa4be6819ab592106c80e4"
      }
     },
     "35dd25dfc9e840f9b342a14d0dc79b31": {
      "model_module": "@jupyter-widgets/controls",
      "model_module_version": "1.5.0",
      "model_name": "DescriptionStyleModel",
      "state": {
       "description_width": "initial"
      }
     },
     "36074434530846d7b7321c81d3ec5cfa": {
      "model_module": "@jupyter-widgets/base",
      "model_module_version": "1.2.0",
      "model_name": "LayoutModel",
      "state": {
       "display": "none"
      }
     },
     "3616530987684bed8359f61653a1885b": {
      "model_module": "@jupyter-widgets/controls",
      "model_module_version": "1.5.0",
      "model_name": "DescriptionStyleModel",
      "state": {
       "description_width": ""
      }
     },
     "362eb08e3f8a4d5594db938ada3b0a22": {
      "model_module": "@jupyter-widgets/controls",
      "model_module_version": "1.5.0",
      "model_name": "VBoxModel",
      "state": {
       "children": [
        "IPY_MODEL_0ed9dd8d825843df84a213b2723bbd03",
        "IPY_MODEL_d130dd08ac04492b96944c452c2f4817",
        "IPY_MODEL_58bdc1b439e441e1a0f35a1e104daa73",
        "IPY_MODEL_92018862d8c34de297d0cfa22a4c8b5d"
       ],
       "layout": "IPY_MODEL_6bbdac7c9529497385dda2e518bb3fb2"
      }
     },
     "362fa470b79e4a85a9f8370c1fea519e": {
      "model_module": "@jupyter-widgets/controls",
      "model_module_version": "1.5.0",
      "model_name": "VBoxModel",
      "state": {
       "children": [
        "IPY_MODEL_b498e67dba95456397dd770265ca01c2",
        "IPY_MODEL_f3ea9627b0cc4678baa78ecc4eab5799"
       ],
       "layout": "IPY_MODEL_abb143086c6d4bb29e6ebfc1f5969c61"
      }
     },
     "373d83f955494f7ba6be98f484ab0900": {
      "model_module": "@jupyter-widgets/controls",
      "model_module_version": "1.5.0",
      "model_name": "ButtonStyleModel",
      "state": {}
     },
     "39cdd1b1e32e4b01b02b6c04062c2019": {
      "model_module": "@jupyter-widgets/controls",
      "model_module_version": "1.5.0",
      "model_name": "ButtonModel",
      "state": {
       "description": "Select",
       "layout": "IPY_MODEL_eeb78110235f49fd93b799f181f699a3",
       "style": "IPY_MODEL_58f4e2f08f70467abd4fd84215798555"
      }
     },
     "39dcf433f84f42c488564d5710521b63": {
      "model_module": "@jupyter-widgets/controls",
      "model_module_version": "1.5.0",
      "model_name": "ButtonModel",
      "state": {
       "description": ">> Add Variable >>",
       "layout": "IPY_MODEL_13847b76d87e44b7ae7b8adc094e8234",
       "style": "IPY_MODEL_9f3bab494493496182ea03e8bf837457"
      }
     },
     "3a181e31c5e84956a80bc58c84caff9e": {
      "model_module": "@jupyter-widgets/controls",
      "model_module_version": "1.5.0",
      "model_name": "ButtonStyleModel",
      "state": {}
     },
     "3a30b7a7b6444b938035d0ca9469ff16": {
      "model_module": "@jupyter-widgets/base",
      "model_module_version": "1.2.0",
      "model_name": "LayoutModel",
      "state": {
       "display": "none",
       "grid_area": "filename",
       "width": "auto"
      }
     },
     "3a3788ee94ed490dbc85f3b9a268ccf5": {
      "model_module": "@jupyter-widgets/controls",
      "model_module_version": "1.5.0",
      "model_name": "VBoxModel",
      "state": {
       "children": [
        "IPY_MODEL_b8103a0af8a44c5f8c4207b8fa120427"
       ],
       "layout": "IPY_MODEL_2644bbd4bfe6430a8fe931b6a25f88e5"
      }
     },
     "3b0031880d6146568809b936e42f4147": {
      "model_module": "@jupyter-widgets/base",
      "model_module_version": "1.2.0",
      "model_name": "LayoutModel",
      "state": {}
     },
     "3b2e3e1f94464acb90c5c61fc454e3a7": {
      "model_module": "@jupyter-widgets/base",
      "model_module_version": "1.2.0",
      "model_name": "LayoutModel",
      "state": {}
     },
     "3ba1c638a9284dea8bcc39834317e871": {
      "model_module": "@jupyter-widgets/base",
      "model_module_version": "1.2.0",
      "model_name": "LayoutModel",
      "state": {}
     },
     "3d90f48fb32443089b23cad00ee7da46": {
      "model_module": "@jupyter-widgets/base",
      "model_module_version": "1.2.0",
      "model_name": "LayoutModel",
      "state": {}
     },
     "3dac274eb62445088054383c7c45522e": {
      "model_module": "@jupyter-widgets/controls",
      "model_module_version": "1.5.0",
      "model_name": "DescriptionStyleModel",
      "state": {
       "description_width": ""
      }
     },
     "3e85cc72ab2f487aa3ac5939d6f9c02a": {
      "model_module": "@jupyter-widgets/controls",
      "model_module_version": "1.5.0",
      "model_name": "DescriptionStyleModel",
      "state": {
       "description_width": ""
      }
     },
     "3ef9a8729af44a69a64ba1c4764abc9b": {
      "model_module": "@jupyter-widgets/controls",
      "model_module_version": "1.5.0",
      "model_name": "DescriptionStyleModel",
      "state": {
       "description_width": ""
      }
     },
     "3f1ec89b71074a82b4934cbea823af3c": {
      "model_module": "@jupyter-widgets/controls",
      "model_module_version": "1.5.0",
      "model_name": "DescriptionStyleModel",
      "state": {
       "description_width": "initial"
      }
     },
     "3f6a147248dd4cc5a4ec745ec6b4b4a1": {
      "model_module": "@jupyter-widgets/base",
      "model_module_version": "1.2.0",
      "model_name": "LayoutModel",
      "state": {
       "grid_area": "pathlist",
       "width": "auto"
      }
     },
     "3fdc72c3d181466bb201b4ebb41c38a7": {
      "model_module": "@jupyter-widgets/base",
      "model_module_version": "1.2.0",
      "model_name": "LayoutModel",
      "state": {
       "display": "none"
      }
     },
     "411118d4a9234fcc89f4b21574eff432": {
      "model_module": "@jupyter-widgets/base",
      "model_module_version": "1.2.0",
      "model_name": "LayoutModel",
      "state": {
       "grid_area": "filename",
       "width": "auto"
      }
     },
     "41269227b362482fb54892a2d58ef267": {
      "model_module": "@jupyter-widgets/base",
      "model_module_version": "1.2.0",
      "model_name": "LayoutModel",
      "state": {}
     },
     "4144b94e98404d0d97ec43e14959228b": {
      "model_module": "@jupyter-widgets/controls",
      "model_module_version": "1.5.0",
      "model_name": "LabelModel",
      "state": {
       "layout": "IPY_MODEL_4367a935f21c4796afe24251e8ad694f",
       "style": "IPY_MODEL_7e716f4898cb4d84bfe0418259c737ba",
       "value": "Monitoring folder"
      }
     },
     "41b0411c5d2d4d9cb2a4c65e7a9fb3b5": {
      "model_module": "@jupyter-widgets/base",
      "model_module_version": "1.2.0",
      "model_name": "LayoutModel",
      "state": {}
     },
     "422cc9b2a7a341ed8c87a0611edf9870": {
      "model_module": "@jupyter-widgets/base",
      "model_module_version": "1.2.0",
      "model_name": "LayoutModel",
      "state": {}
     },
     "42a747a35d47466f893488a4b393cf5f": {
      "model_module": "@jupyter-widgets/base",
      "model_module_version": "1.2.0",
      "model_name": "LayoutModel",
      "state": {
       "grid_area": "pathlist",
       "width": "auto"
      }
     },
     "432ffe8cefb6489893874ba5bf91cc2b": {
      "model_module": "@jupyter-widgets/controls",
      "model_module_version": "1.5.0",
      "model_name": "HTMLModel",
      "state": {
       "layout": "IPY_MODEL_3fdc72c3d181466bb201b4ebb41c38a7",
       "style": "IPY_MODEL_85914abd31d64f4c81f27ec86e371b30"
      }
     },
     "4367a935f21c4796afe24251e8ad694f": {
      "model_module": "@jupyter-widgets/base",
      "model_module_version": "1.2.0",
      "model_name": "LayoutModel",
      "state": {}
     },
     "44348d5d23fb4218b33f5bd8e4f72a4a": {
      "model_module": "@jupyter-widgets/controls",
      "model_module_version": "1.5.0",
      "model_name": "DropdownModel",
      "state": {
       "_options_labels": [
        "",
        "Data_TEM_pseudo3DEPSG_4326",
        "Gravity_Magnetics_drape60mEPSG_4326",
        "Iso_Iteration_7_model_0.015",
        "Iso_Iteration_7_model_0.01",
        "Iso_Iteration_7_model_0.02",
        "Iso_Iteration_7_model_0.005",
        "Iso_Iteration_7_model_0.0025",
        "fault_splay1",
        "fault_Cliff_Lake",
        "fault_Other_FlinFlon",
        "fault_Club_Lake_splay",
        "fault_Catherine_splay2",
        "fault_Birch_View",
        "fault_Dion_Lake",
        "fault_FlinFlon_splay",
        "fault_West_Mandy_Road",
        "fault_Channing",
        "fault_Ross_Lake",
        "fault_Louis_Hidden",
        "fault_Lake_View_thrust",
        "contact_Schist_Lake",
        "fault_Burley_Lake",
        "fault_Dion_Lake_splay",
        "fault_Green_Lake",
        "fault_FlinFlon",
        "fault_Catherine_splay1",
        "fault_East_Mandy_Road",
        "fault_Other_FlinFlon_South",
        "fault_Catherine_splay4",
        "contact_Stitt_Island",
        "fault_Club_Lake",
        "fault_Tailing_Pond",
        "35_Hidden_Reservoir_Hr5",
        "29_Hidden_Reservoir_Hr1a",
        "60_BlueLagoon_Fb2",
        "20_FlinFlon_Undivided_Int_Dykes_D2f",
        "04_Boundary_Intrusive_S4h",
        "53_Millrock_Rhyolite_Fm4b",
        "19_FlinFlon_Undivided_Int_Dykes_D2b",
        "18_FlinFlon_Undivided_Int_Dykes_777_D2b",
        "06_Phantom_Lake_Intrusive_S3a",
        "21_FlinFlon_Undivided_Int_Dykes_D3a",
        "43_Millrock_CHLSH_South",
        "56_Millrock_Basalt_Fm1ba",
        "17_FlinFlon_Undivided_Int_Dykes_D2",
        "32_Hidden_Reservoir_Hr1b_SW",
        "11_Missi_M3_NE",
        "13_Missi_M1",
        "07_Annabel_Granitoid_S1",
        "45_Millrock_Gabbro_South",
        "01_Late_Intrusive_S5b",
        "31_Hidden_Reservoir_Hr1c_SW",
        "52_Millrock_Rhyolite_Fm4_West_check",
        "55_Millrock_Basalt_Fm1bf",
        "34_Hidden_Reservoir_Hr2b",
        "03_Boundary_Intrusive_S4b",
        "42_Millrock_CHLSH_North",
        "26_Louis_L3",
        "23_FlinFlon_Undivided_Int_Felsic_D4g",
        "30_Hidden_Reservoir_Hr1b",
        "59_BlueLagoon_Fb3",
        "49_Millrock_MVR_Fm5d",
        "44_Millrock_Gabbro_North",
        "27_Hidden_Carlisle_Hc4",
        "22_FlinFlon_Undivided_Int_Felsic_D4e",
        "02_Boundary_Intrusive_S4a",
        "61_BlueLagoon_Fb1_NW",
        "05_Boundary_Intrusive_S4g",
        "39_Ore_Callinan",
        "38_Ore_Dan_Owens",
        "40_Ore_FlinFlon",
        "Inversion_VTEM_Model",
        "Gravity_Magnetics_drape60m",
        "CDI_VTEM_model",
        "Data_FEM_pseudo3D",
        "O2O_Interp_25m",
        "geochem",
        "Inversion_DIGHEM_Model",
        "Topography",
        "Data_TEM_pseudo3D"
       ],
       "description": "Object:",
       "index": 77,
       "layout": "IPY_MODEL_e31dfe88897d4132b76c816915803e9e",
       "style": "IPY_MODEL_0631fc11c7f44a18abe202c66f917f2b"
      }
     },
     "44d501df04ce4574a2b551a57c179259": {
      "model_module": "@jupyter-widgets/base",
      "model_module_version": "1.2.0",
      "model_name": "LayoutModel",
      "state": {}
     },
     "450b6b58791841e7b01e1c583c08ddec": {
      "model_module": "@jupyter-widgets/controls",
      "model_module_version": "1.5.0",
      "model_name": "GridBoxModel",
      "state": {
       "children": [
        "IPY_MODEL_1301cbf315c14d6bb23ba5ee76913cbe",
        "IPY_MODEL_ade6f941045a408a9e583872e742d5b0",
        "IPY_MODEL_196a15f27f0d4c3c939ac261a85e12e1"
       ],
       "layout": "IPY_MODEL_ecb1458847f44f05b088f735c40d3bde"
      }
     },
     "4515819e09fc43c69d23ab776274ffc4": {
      "model_module": "@jupyter-widgets/base",
      "model_module_version": "1.2.0",
      "model_name": "LayoutModel",
      "state": {}
     },
     "456aad6f8004421fb39bf378f81909c5": {
      "model_module": "@jupyter-widgets/controls",
      "model_module_version": "1.5.0",
      "model_name": "GridBoxModel",
      "state": {
       "children": [
        "IPY_MODEL_8cdfbcacde524cc893fa96d94cf2a93b",
        "IPY_MODEL_a3320aa880f3424a9b1eb09fc5c53451",
        "IPY_MODEL_2906e466e4d04ee5af8311d320c254eb"
       ],
       "layout": "IPY_MODEL_5f63d1282cdc436884dceae453570adb"
      }
     },
     "461fee7252404e29a7ca8b373875b030": {
      "model_module": "@jupyter-widgets/base",
      "model_module_version": "1.2.0",
      "model_name": "LayoutModel",
      "state": {
       "width": "100%"
      }
     },
     "477e5dd73df542d6863d3fd1a05c5bd3": {
      "model_module": "@jupyter-widgets/base",
      "model_module_version": "1.2.0",
      "model_name": "LayoutModel",
      "state": {}
     },
     "47f792cfd90a4f1aa7b93fd332ab98a4": {
      "model_module": "@jupyter-widgets/base",
      "model_module_version": "1.2.0",
      "model_name": "LayoutModel",
      "state": {
       "grid_area": "dircontent",
       "width": "auto"
      }
     },
     "484553e125174b61aa31e3d1be3122be": {
      "model_module": "@jupyter-widgets/controls",
      "model_module_version": "1.5.0",
      "model_name": "VBoxModel",
      "state": {
       "children": [
        "IPY_MODEL_e834c327c3a548928b59e424c308e260",
        "IPY_MODEL_d775bb6a5b2e47fbbe48e5b9f3480615"
       ],
       "layout": "IPY_MODEL_5c53c348c9d94f9cb0786393144c03a9"
      }
     },
     "487a9faf5489424398bfb2d483bd4957": {
      "model_module": "@jupyter-widgets/controls",
      "model_module_version": "1.5.0",
      "model_name": "ButtonStyleModel",
      "state": {}
     },
     "48a288008ad84ef187e6b4545cb3e52b": {
      "model_module": "@jupyter-widgets/controls",
      "model_module_version": "1.5.0",
      "model_name": "DescriptionStyleModel",
      "state": {
       "description_width": ""
      }
     },
     "4921c003808748509290744a542dc955": {
      "model_module": "@jupyter-widgets/controls",
      "model_module_version": "1.5.0",
      "model_name": "HTMLModel",
      "state": {
       "layout": "IPY_MODEL_5adb5458b45b4bf1a36224eda2628198",
       "style": "IPY_MODEL_aee7e6fd124e40dcb3042bb2333fbd98"
      }
     },
     "49286708e8de4f97a6e89a903b51a6ab": {
      "model_module": "@jupyter-widgets/base",
      "model_module_version": "1.2.0",
      "model_name": "LayoutModel",
      "state": {
       "width": "auto"
      }
     },
     "4a29af76e90344b3a6bee471c0d14c41": {
      "model_module": "@jupyter-widgets/controls",
      "model_module_version": "1.5.0",
      "model_name": "ButtonStyleModel",
      "state": {}
     },
     "4a714c52ef3d46b699c0be9da8f84b65": {
      "model_module": "@jupyter-widgets/controls",
      "model_module_version": "1.5.0",
      "model_name": "DescriptionStyleModel",
      "state": {
       "description_width": ""
      }
     },
     "4a936d3a54084455889ef0e4733a1d2d": {
      "model_module": "@jupyter-widgets/controls",
      "model_module_version": "1.5.0",
      "model_name": "DescriptionStyleModel",
      "state": {
       "description_width": "initial"
      }
     },
     "4ae44339f6c04b0faa0a42addb004fad": {
      "model_module": "@jupyter-widgets/base",
      "model_module_version": "1.2.0",
      "model_name": "LayoutModel",
      "state": {}
     },
     "4c575fb7cd254b22850fa2a46aef4eb8": {
      "model_module": "@jupyter-widgets/base",
      "model_module_version": "1.2.0",
      "model_name": "LayoutModel",
      "state": {}
     },
     "4d0597ec4e214adf8eedfc396e373be9": {
      "model_module": "@jupyter-widgets/controls",
      "model_module_version": "1.5.0",
      "model_name": "TextModel",
      "state": {
       "disabled": true,
       "layout": "IPY_MODEL_ac8be4616065400cbad91231d2589b19",
       "placeholder": "output filename",
       "style": "IPY_MODEL_809f3ebc5df6403c962320716dfcebca"
      }
     },
     "4dcf1b8607bd4b1489180a308e517cd1": {
      "model_module": "@jupyter-widgets/base",
      "model_module_version": "1.2.0",
      "model_name": "LayoutModel",
      "state": {
       "grid_area": "pathlist",
       "width": "auto"
      }
     },
     "4f519f104a3e4d52803b8ecfb86a392b": {
      "model_module": "@jupyter-widgets/controls",
      "model_module_version": "1.5.0",
      "model_name": "DescriptionStyleModel",
      "state": {
       "description_width": ""
      }
     },
     "4fd2bce1ee7a4e07aff1c7d4d92ca154": {
      "model_module": "@jupyter-widgets/controls",
      "model_module_version": "1.5.0",
      "model_name": "ButtonModel",
      "state": {
       "description": ">> Add Variable >>",
       "layout": "IPY_MODEL_6f910ade1a224826aca349f7c4bd0b2b",
       "style": "IPY_MODEL_7ca83751f9894af0b07b4c863878fb7c"
      }
     },
     "4fd39de3a21b43ec91acf29b763dedf5": {
      "model_module": "@jupyter-widgets/base",
      "model_module_version": "1.2.0",
      "model_name": "LayoutModel",
      "state": {
       "width": "75%"
      }
     },
     "517c02bc3cda432a930abb1ee3b38b9c": {
      "model_module": "@jupyter-widgets/controls",
      "model_module_version": "1.5.0",
      "model_name": "SelectMultipleModel",
      "state": {
       "_options_labels": [
        "Ag",
        "Al2O3",
        "As",
        "Au",
        "Ba",
        "Be",
        "Bi",
        "CaO",
        "Cd",
        "Ce",
        "Cl",
        "Co",
        "Cr",
        "Cr2O3",
        "Cs",
        "Ctot",
        "Cu",
        "Dy",
        "Er",
        "Eu",
        "F",
        "Fe2O3",
        "Ga",
        "Gd",
        "Ge",
        "Hf",
        "Hg",
        "Ho",
        "In",
        "Ir",
        "K2O",
        "LOI",
        "La",
        "Li",
        "Lu",
        "MgO",
        "MnO",
        "Mo",
        "Na2O",
        "Nb",
        "Nd",
        "NewChannel",
        "Ni",
        "Ni2",
        "P2O5",
        "Pb",
        "Pr",
        "Rb",
        "SUM",
        "Sb",
        "Sc",
        "Se",
        "SiO2",
        "Sm",
        "Sn",
        "Sr",
        "Stot",
        "Ta",
        "Tb",
        "Th",
        "Ti",
        "TiO2",
        "Tl",
        "Tm",
        "U",
        "V",
        "Visual Parameters",
        "W",
        "Y_",
        "Yb",
        "Zn",
        "Zr",
        "interval_length"
       ],
       "description": "Data: ",
       "index": [
        1,
        7
       ],
       "layout": "IPY_MODEL_771c493ead3a414b8148c9f3082313e1",
       "rows": 5,
       "style": "IPY_MODEL_d91f3927287e4324822136b088666fd2"
      }
     },
     "51f2a06edacc4519b91be5822b957c4e": {
      "model_module": "@jupyter-widgets/controls",
      "model_module_version": "1.5.0",
      "model_name": "VBoxModel",
      "state": {
       "children": [
        "IPY_MODEL_b159624d062b4ff499c84d1c74a2db0b"
       ],
       "layout": "IPY_MODEL_461fee7252404e29a7ca8b373875b030"
      }
     },
     "535d9757a451471db9e7c61aa3839b84": {
      "model_module": "@jupyter-widgets/controls",
      "model_module_version": "1.5.0",
      "model_name": "HTMLModel",
      "state": {
       "layout": "IPY_MODEL_c4b0b4a371574459973c37ed325bf23f",
       "style": "IPY_MODEL_143646b504c44c8b9b31e2b53cb26fed"
      }
     },
     "538c60e787794d39856e02b2cb43c8e0": {
      "model_module": "@jupyter-widgets/base",
      "model_module_version": "1.2.0",
      "model_name": "LayoutModel",
      "state": {
       "width": "auto"
      }
     },
     "53b1b2b4f2b74c14b6546374c1477378": {
      "model_module": "@jupyter-widgets/controls",
      "model_module_version": "1.5.0",
      "model_name": "DescriptionStyleModel",
      "state": {
       "description_width": ""
      }
     },
     "542ef80af7a04cc584415d616bdc6b70": {
      "model_module": "@jupyter-widgets/base",
      "model_module_version": "1.2.0",
      "model_name": "LayoutModel",
      "state": {}
     },
     "56853a4f274f460583378a1967403049": {
      "model_module": "@jupyter-widgets/controls",
      "model_module_version": "1.5.0",
      "model_name": "VBoxModel",
      "state": {
       "children": [
        "IPY_MODEL_c65b74aaa3444ab8a78271d7faecd957",
        "IPY_MODEL_ff74c80646bd45498f7d4eec2e27890b"
       ],
       "layout": "IPY_MODEL_a6a87903a92149fb844a1b351ad4f829"
      }
     },
     "57cdd7fd947e4f2dbe12055a81bad9bf": {
      "model_module": "@jupyter-widgets/controls",
      "model_module_version": "1.5.0",
      "model_name": "ButtonModel",
      "state": {
       "description": "Create copy:",
       "layout": "IPY_MODEL_07433535e94b4488af6fb6a50ecbec55",
       "style": "IPY_MODEL_b7d0a050b8e746d490bb6e953714f8eb"
      }
     },
     "58bdc1b439e441e1a0f35a1e104daa73": {
      "model_module": "@jupyter-widgets/controls",
      "model_module_version": "1.5.0",
      "model_name": "VBoxModel",
      "state": {
       "children": [
        "IPY_MODEL_a372c1b5a33c4b1dac8efd04695484ae"
       ],
       "layout": "IPY_MODEL_5bd0e05a5dce49dba97abac29df34b09"
      }
     },
     "58c580c6dfdd48e5982c41f6e7d8b3fb": {
      "model_module": "@jupyter-widgets/controls",
      "model_module_version": "1.5.0",
      "model_name": "VBoxModel",
      "state": {
       "children": [
        "IPY_MODEL_deef56f3cd1b489286cbe2662dbc13ad",
        "IPY_MODEL_484553e125174b61aa31e3d1be3122be",
        "IPY_MODEL_51f2a06edacc4519b91be5822b957c4e",
        "IPY_MODEL_2bfb2bd12da64f88989e059836f54c20"
       ],
       "layout": "IPY_MODEL_9ab671b7143c4880b9a55cd45c52499d"
      }
     },
     "58c6fbdeff67415a9cf65bac9fbdc9e8": {
      "model_module": "@jupyter-widgets/base",
      "model_module_version": "1.2.0",
      "model_name": "LayoutModel",
      "state": {}
     },
     "58f4e2f08f70467abd4fd84215798555": {
      "model_module": "@jupyter-widgets/controls",
      "model_module_version": "1.5.0",
      "model_name": "ButtonStyleModel",
      "state": {}
     },
     "5973383426b346f782b8e0e36b48933b": {
      "model_module": "@jupyter-widgets/controls",
      "model_module_version": "1.5.0",
      "model_name": "DescriptionStyleModel",
      "state": {
       "description_width": ""
      }
     },
     "59ac3ada6a694d5596a40117a2f507bc": {
      "model_module": "@jupyter-widgets/controls",
      "model_module_version": "1.5.0",
      "model_name": "DescriptionStyleModel",
      "state": {
       "description_width": "initial"
      }
     },
     "59b80fef65a74b4f89d402e5b83fb46c": {
      "model_module": "@jupyter-widgets/controls",
      "model_module_version": "1.5.0",
      "model_name": "ButtonModel",
      "state": {
       "button_style": "danger",
       "description": "Compute",
       "icon": "check",
       "layout": "IPY_MODEL_90c3f851ae8d42128a7f5c0260688c91",
       "style": "IPY_MODEL_a6e350b3acc749f48a081337a0a222ce",
       "tooltip": "Run computation"
      }
     },
     "5a5380edd83b4a4c9db6ae5abf0785be": {
      "model_module": "@jupyter-widgets/controls",
      "model_module_version": "1.5.0",
      "model_name": "DescriptionStyleModel",
      "state": {
       "description_width": ""
      }
     },
     "5adb5458b45b4bf1a36224eda2628198": {
      "model_module": "@jupyter-widgets/base",
      "model_module_version": "1.2.0",
      "model_name": "LayoutModel",
      "state": {
       "display": "none"
      }
     },
     "5b4fae2edd934eac8c3060d773a7289c": {
      "model_module": "@jupyter-widgets/controls",
      "model_module_version": "1.5.0",
      "model_name": "DescriptionStyleModel",
      "state": {
       "description_width": "initial"
      }
     },
     "5b73723b4e3c4867bcfa3ed383b6230e": {
      "model_module": "@jupyter-widgets/controls",
      "model_module_version": "1.5.0",
      "model_name": "HBoxModel",
      "state": {
       "children": [
        "IPY_MODEL_0893adfe5f624856b1a299cbedaaab0c",
        "IPY_MODEL_75d9e9ebad5243b58bddff014e41f383",
        "IPY_MODEL_c2d843060797461c8f3baec71c03878d"
       ],
       "layout": "IPY_MODEL_8389a025618844bb81da432c765a4222"
      }
     },
     "5bd0e05a5dce49dba97abac29df34b09": {
      "model_module": "@jupyter-widgets/base",
      "model_module_version": "1.2.0",
      "model_name": "LayoutModel",
      "state": {
       "width": "100%"
      }
     },
     "5c53c348c9d94f9cb0786393144c03a9": {
      "model_module": "@jupyter-widgets/base",
      "model_module_version": "1.2.0",
      "model_name": "LayoutModel",
      "state": {}
     },
     "5c6bd2229df540c9be075b88528d30c0": {
      "model_module": "@jupyter-widgets/controls",
      "model_module_version": "1.5.0",
      "model_name": "DescriptionStyleModel",
      "state": {
       "description_width": ""
      }
     },
     "5c7d27848c34463d9295175573342bcd": {
      "model_module": "@jupyter-widgets/controls",
      "model_module_version": "1.5.0",
      "model_name": "DescriptionStyleModel",
      "state": {
       "description_width": ""
      }
     },
     "5d81b466fbac4d3093a3b855e3cb0566": {
      "model_module": "@jupyter-widgets/base",
      "model_module_version": "1.2.0",
      "model_name": "LayoutModel",
      "state": {}
     },
     "5ecca6c752f440e793200dd3160365ee": {
      "model_module": "@jupyter-widgets/base",
      "model_module_version": "1.2.0",
      "model_name": "LayoutModel",
      "state": {
       "grid_area": "dircontent",
       "width": "auto"
      }
     },
     "5f10510ecd6943c3903b4339ff53ae41": {
      "model_module": "@jupyter-widgets/base",
      "model_module_version": "1.2.0",
      "model_name": "LayoutModel",
      "state": {}
     },
     "5f63d1282cdc436884dceae453570adb": {
      "model_module": "@jupyter-widgets/base",
      "model_module_version": "1.2.0",
      "model_name": "LayoutModel",
      "state": {
       "display": "none",
       "grid_gap": "0px 0px",
       "grid_template_areas": "\n                    'pathlist pathlist'\n                    'dircontent dircontent'\n                    ",
       "grid_template_columns": "60% 40%",
       "grid_template_rows": "auto auto",
       "width": "500px"
      }
     },
     "5f69462f6b224c3397eb24084eb9dec8": {
      "model_module": "@jupyter-widgets/controls",
      "model_module_version": "1.5.0",
      "model_name": "DropdownModel",
      "state": {
       "_options_labels": [
        "",
        "Data_TEM_pseudo3DEPSG_4326",
        "Gravity_Magnetics_drape60mEPSG_4326",
        "Iso_Iteration_7_model_0.015",
        "Iso_Iteration_7_model_0.01",
        "Iso_Iteration_7_model_0.02",
        "Iso_Iteration_7_model_0.005",
        "Iso_Iteration_7_model_0.0025",
        "fault_splay1",
        "fault_Cliff_Lake",
        "fault_Other_FlinFlon",
        "fault_Club_Lake_splay",
        "fault_Catherine_splay2",
        "fault_Birch_View",
        "fault_Dion_Lake",
        "fault_FlinFlon_splay",
        "fault_West_Mandy_Road",
        "fault_Channing",
        "fault_Ross_Lake",
        "fault_Louis_Hidden",
        "fault_Lake_View_thrust",
        "contact_Schist_Lake",
        "fault_Burley_Lake",
        "fault_Dion_Lake_splay",
        "fault_Green_Lake",
        "fault_FlinFlon",
        "fault_Catherine_splay1",
        "fault_East_Mandy_Road",
        "fault_Other_FlinFlon_South",
        "fault_Catherine_splay4",
        "contact_Stitt_Island",
        "fault_Club_Lake",
        "fault_Tailing_Pond",
        "35_Hidden_Reservoir_Hr5",
        "29_Hidden_Reservoir_Hr1a",
        "60_BlueLagoon_Fb2",
        "20_FlinFlon_Undivided_Int_Dykes_D2f",
        "04_Boundary_Intrusive_S4h",
        "53_Millrock_Rhyolite_Fm4b",
        "19_FlinFlon_Undivided_Int_Dykes_D2b",
        "18_FlinFlon_Undivided_Int_Dykes_777_D2b",
        "06_Phantom_Lake_Intrusive_S3a",
        "21_FlinFlon_Undivided_Int_Dykes_D3a",
        "43_Millrock_CHLSH_South",
        "56_Millrock_Basalt_Fm1ba",
        "17_FlinFlon_Undivided_Int_Dykes_D2",
        "32_Hidden_Reservoir_Hr1b_SW",
        "11_Missi_M3_NE",
        "13_Missi_M1",
        "07_Annabel_Granitoid_S1",
        "45_Millrock_Gabbro_South",
        "01_Late_Intrusive_S5b",
        "31_Hidden_Reservoir_Hr1c_SW",
        "52_Millrock_Rhyolite_Fm4_West_check",
        "55_Millrock_Basalt_Fm1bf",
        "34_Hidden_Reservoir_Hr2b",
        "03_Boundary_Intrusive_S4b",
        "42_Millrock_CHLSH_North",
        "26_Louis_L3",
        "23_FlinFlon_Undivided_Int_Felsic_D4g",
        "30_Hidden_Reservoir_Hr1b",
        "59_BlueLagoon_Fb3",
        "49_Millrock_MVR_Fm5d",
        "44_Millrock_Gabbro_North",
        "27_Hidden_Carlisle_Hc4",
        "22_FlinFlon_Undivided_Int_Felsic_D4e",
        "02_Boundary_Intrusive_S4a",
        "61_BlueLagoon_Fb1_NW",
        "05_Boundary_Intrusive_S4g",
        "39_Ore_Callinan",
        "38_Ore_Dan_Owens",
        "40_Ore_FlinFlon",
        "Inversion_VTEM_Model",
        "Gravity_Magnetics_drape60m",
        "CDI_VTEM_model",
        "Data_FEM_pseudo3D",
        "O2O_Interp_25m",
        "geochem",
        "Inversion_DIGHEM_Model",
        "Topography",
        "Data_TEM_pseudo3D"
       ],
       "description": "Object:",
       "index": 77,
       "layout": "IPY_MODEL_fb320a97bd064d089ae92f13bad231f7",
       "style": "IPY_MODEL_a6ebc2ceeda84e3d940b62840be83f40"
      }
     },
     "5f9c82d3e965429c98cf3726faa23062": {
      "model_module": "@jupyter-widgets/base",
      "model_module_version": "1.2.0",
      "model_name": "LayoutModel",
      "state": {}
     },
     "6028ae5e4b894532b1b2429f187185df": {
      "model_module": "@jupyter-widgets/controls",
      "model_module_version": "1.5.0",
      "model_name": "LabelModel",
      "state": {
       "layout": "IPY_MODEL_5f9c82d3e965429c98cf3726faa23062",
       "style": "IPY_MODEL_afa37eb426244a9497375fd5cacde423",
       "value": "Monitoring folder"
      }
     },
     "60a63750bd794e25864fd19c9020771f": {
      "model_module": "@jupyter-widgets/base",
      "model_module_version": "1.2.0",
      "model_name": "LayoutModel",
      "state": {
       "width": "auto"
      }
     },
     "60ea1a09cd4a489881754638744e073a": {
      "model_module": "@jupyter-widgets/controls",
      "model_module_version": "1.5.0",
      "model_name": "GridBoxModel",
      "state": {
       "children": [
        "IPY_MODEL_c7019ecd34a54af3a536a3bb63546d2f",
        "IPY_MODEL_98a6e223e9164347b3958c2a1e3da299",
        "IPY_MODEL_c557d686f2724b5e805eb69379551a2d"
       ],
       "layout": "IPY_MODEL_9f8d6bf3d36d4095aa67d8e6eb836605"
      }
     },
     "6101edc91df84a198e1fbaf0cca689bc": {
      "model_module": "@jupyter-widgets/controls",
      "model_module_version": "1.5.0",
      "model_name": "TextModel",
      "state": {
       "layout": "IPY_MODEL_411118d4a9234fcc89f4b21574eff432",
       "placeholder": "output filename",
       "style": "IPY_MODEL_b7b74978fcf94059a0455e88afdb3009",
       "value": "FlinFlon.geoh5"
      }
     },
     "618a55c39d8346ed91db8e1ce115b23d": {
      "model_module": "@jupyter-widgets/controls",
      "model_module_version": "1.5.0",
      "model_name": "DropdownModel",
      "state": {
       "_options_labels": [
        "C:\\Users\\dominiquef\\Documents\\GIT\\mira\\geoapps\\assets",
        "C:\\Users\\dominiquef\\Documents\\GIT\\mira\\geoapps",
        "C:\\Users\\dominiquef\\Documents\\GIT\\mira",
        "C:\\Users\\dominiquef\\Documents\\GIT",
        "C:\\Users\\dominiquef\\Documents",
        "C:\\Users\\dominiquef",
        "C:\\Users",
        "C:\\",
        "D:\\",
        "Z:\\"
       ],
       "index": 0,
       "layout": "IPY_MODEL_4dcf1b8607bd4b1489180a308e517cd1",
       "style": "IPY_MODEL_f615003ac3fb4583a307b32e7183ebed"
      }
     },
     "61fa5a7d948f464a852e18bbc185c101": {
      "model_module": "@jupyter-widgets/base",
      "model_module_version": "1.2.0",
      "model_name": "LayoutModel",
      "state": {}
     },
     "62ca0e1592ab4f3c9805222b955cf965": {
      "model_module": "@jupyter-widgets/controls",
      "model_module_version": "1.5.0",
      "model_name": "ButtonModel",
      "state": {
       "description": "Cancel",
       "layout": "IPY_MODEL_66c8051aea9f40b0a96680b0f9fe0fdf",
       "style": "IPY_MODEL_846a76a5e4254dc2a37afa5107124242"
      }
     },
     "62f93418baf847beb8ca62be9af8dd3c": {
      "model_module": "@jupyter-widgets/base",
      "model_module_version": "1.2.0",
      "model_name": "LayoutModel",
      "state": {}
     },
     "635d806ae9a342b8b81f72c871bbd6bd": {
      "model_module": "@jupyter-widgets/controls",
      "model_module_version": "1.5.0",
      "model_name": "VBoxModel",
      "state": {
       "children": [
        "IPY_MODEL_1b1d728488fd4ebbafb44b818d213adc",
        "IPY_MODEL_22e1be5b106d4433883f29d9ec2e36b5"
       ],
       "layout": "IPY_MODEL_70f2fd301c2e48cb85c216bd3bc79ede"
      }
     },
     "643cba90c5f34db681586bccc1aa4ea5": {
      "model_module": "@jupyter-widgets/controls",
      "model_module_version": "1.5.0",
      "model_name": "HBoxModel",
      "state": {
       "children": [
        "IPY_MODEL_c5f398ffff7c4d81bc6ac09c0b1f1bd9",
        "IPY_MODEL_fcb908e96d49465fa4dcd28393726869"
       ],
       "layout": "IPY_MODEL_d2ecfe46cc3c410f8fa8e71dcd2f8c91"
      }
     },
     "649fdaf1ff194895b6c9ea1b747e6cd2": {
      "model_module": "@jupyter-widgets/controls",
      "model_module_version": "1.5.0",
      "model_name": "DescriptionStyleModel",
      "state": {
       "description_width": ""
      }
     },
     "64c0fb7001ef4ecbbce3434897dd15a5": {
      "model_module": "@jupyter-widgets/controls",
      "model_module_version": "1.5.0",
      "model_name": "TextModel",
      "state": {
       "layout": "IPY_MODEL_6bc4e829b1f24f92a3750f87a5d94896",
       "placeholder": "output filename",
       "style": "IPY_MODEL_fb0c5be288674cae87f2cdbfa5fe2cee",
       "value": "FlinFlon.geoh5"
      }
     },
     "65b3fedb298c436eb889d80ea34fc3bc": {
      "model_module": "@jupyter-widgets/base",
      "model_module_version": "1.2.0",
      "model_name": "LayoutModel",
      "state": {}
     },
     "66687910e1214460b6a2e6fe4a32a6d5": {
      "model_module": "@jupyter-widgets/controls",
      "model_module_version": "1.5.0",
      "model_name": "DescriptionStyleModel",
      "state": {
       "description_width": ""
      }
     },
     "66c8051aea9f40b0a96680b0f9fe0fdf": {
      "model_module": "@jupyter-widgets/base",
      "model_module_version": "1.2.0",
      "model_name": "LayoutModel",
      "state": {
       "display": "none",
       "width": "auto"
      }
     },
     "66c90849c3e4434e9cd1229bb576d7e8": {
      "model_module": "@jupyter-widgets/controls",
      "model_module_version": "1.5.0",
      "model_name": "ButtonModel",
      "state": {
       "description": "Change",
       "layout": "IPY_MODEL_ecd99e37a6624cafa4f1e89e82474a4b",
       "style": "IPY_MODEL_4a29af76e90344b3a6bee471c0d14c41"
      }
     },
     "6711ee4d0b504422b24dc6cf8191b265": {
      "model_module": "@jupyter-widgets/controls",
      "model_module_version": "1.5.0",
      "model_name": "ButtonModel",
      "state": {
       "description": ">> Add Variable >>",
       "layout": "IPY_MODEL_daf1ea5f1eb04c1c9120621d5609ea33",
       "style": "IPY_MODEL_d2fa9b18f6a3429f8c1734f7e9d4b617"
      }
     },
     "696e6b4f204f41a0ba3adbc14dd05662": {
      "model_module": "@jupyter-widgets/controls",
      "model_module_version": "1.5.0",
      "model_name": "HBoxModel",
      "state": {
       "children": [
        "IPY_MODEL_89ad895a156a46829321dfc7017ead19",
        "IPY_MODEL_fa2315eeba3d4ed2a14306d675f99fde"
       ],
       "layout": "IPY_MODEL_61fa5a7d948f464a852e18bbc185c101"
      }
     },
     "6a17412aaf2c4677a4eef85d726b6f44": {
      "model_module": "@jupyter-widgets/base",
      "model_module_version": "1.2.0",
      "model_name": "LayoutModel",
      "state": {
       "display": "none",
       "width": "auto"
      }
     },
     "6b3da000e6ad489b81e9153befe54147": {
      "model_module": "@jupyter-widgets/base",
      "model_module_version": "1.2.0",
      "model_name": "LayoutModel",
      "state": {}
     },
     "6b745ee67ab640ec9449604b1550586a": {
      "model_module": "@jupyter-widgets/base",
      "model_module_version": "1.2.0",
      "model_name": "LayoutModel",
      "state": {}
     },
     "6bbdac7c9529497385dda2e518bb3fb2": {
      "model_module": "@jupyter-widgets/base",
      "model_module_version": "1.2.0",
      "model_name": "LayoutModel",
      "state": {}
     },
     "6bc4e829b1f24f92a3750f87a5d94896": {
      "model_module": "@jupyter-widgets/base",
      "model_module_version": "1.2.0",
      "model_name": "LayoutModel",
      "state": {
       "grid_area": "filename",
       "width": "auto"
      }
     },
     "6e296dfa525e4f02a42a7926e737bfe3": {
      "model_module": "@jupyter-widgets/controls",
      "model_module_version": "1.5.0",
      "model_name": "DescriptionStyleModel",
      "state": {
       "description_width": ""
      }
     },
     "6f75d8be0c3942a8aa7e2ed75f9b6f7f": {
      "model_module": "@jupyter-widgets/controls",
      "model_module_version": "1.5.0",
      "model_name": "DropdownModel",
      "state": {
       "_options_labels": [
        "",
        "fault_splay1",
        "fault_Cliff_Lake",
        "fault_Other_FlinFlon",
        "fault_Club_Lake_splay",
        "fault_Catherine_splay2",
        "fault_Birch_View",
        "fault_Dion_Lake",
        "fault_FlinFlon_splay",
        "fault_West_Mandy_Road",
        "fault_Channing",
        "fault_Ross_Lake",
        "fault_Louis_Hidden",
        "fault_Lake_View_thrust",
        "contact_Schist_Lake",
        "fault_Burley_Lake",
        "fault_Dion_Lake_splay",
        "fault_Green_Lake",
        "fault_FlinFlon",
        "fault_Catherine_splay1",
        "fault_East_Mandy_Road",
        "fault_Other_FlinFlon_South",
        "fault_Catherine_splay4",
        "contact_Stitt_Island",
        "fault_Club_Lake",
        "fault_Tailing_Pond",
        "35_Hidden_Reservoir_Hr5",
        "29_Hidden_Reservoir_Hr1a",
        "60_BlueLagoon_Fb2",
        "20_FlinFlon_Undivided_Int_Dykes_D2f",
        "04_Boundary_Intrusive_S4h",
        "53_Millrock_Rhyolite_Fm4b",
        "19_FlinFlon_Undivided_Int_Dykes_D2b",
        "18_FlinFlon_Undivided_Int_Dykes_777_D2b",
        "06_Phantom_Lake_Intrusive_S3a",
        "21_FlinFlon_Undivided_Int_Dykes_D3a",
        "43_Millrock_CHLSH_South",
        "56_Millrock_Basalt_Fm1ba",
        "17_FlinFlon_Undivided_Int_Dykes_D2",
        "32_Hidden_Reservoir_Hr1b_SW",
        "11_Missi_M3_NE",
        "13_Missi_M1",
        "07_Annabel_Granitoid_S1",
        "45_Millrock_Gabbro_South",
        "01_Late_Intrusive_S5b",
        "31_Hidden_Reservoir_Hr1c_SW",
        "52_Millrock_Rhyolite_Fm4_West_check",
        "55_Millrock_Basalt_Fm1bf",
        "34_Hidden_Reservoir_Hr2b",
        "03_Boundary_Intrusive_S4b",
        "42_Millrock_CHLSH_North",
        "26_Louis_L3",
        "23_FlinFlon_Undivided_Int_Felsic_D4g",
        "30_Hidden_Reservoir_Hr1b",
        "59_BlueLagoon_Fb3",
        "49_Millrock_MVR_Fm5d",
        "44_Millrock_Gabbro_North",
        "27_Hidden_Carlisle_Hc4",
        "22_FlinFlon_Undivided_Int_Felsic_D4e",
        "02_Boundary_Intrusive_S4a",
        "61_BlueLagoon_Fb1_NW",
        "05_Boundary_Intrusive_S4g",
        "39_Ore_Callinan",
        "38_Ore_Dan_Owens",
        "40_Ore_FlinFlon",
        "Inversion_VTEM_Model",
        "Gravity_Magnetics_drape60m",
        "CDI_VTEM_model",
        "Data_FEM_pseudo3D",
        "O2O_Interp_25m",
        "geochem",
        "Inversion_DIGHEM_Model",
        "Topography",
        "Data_TEM_pseudo3D",
        "Data_ZTEM",
        "Mesh"
       ],
       "description": "Object:",
       "index": 70,
       "layout": "IPY_MODEL_58c6fbdeff67415a9cf65bac9fbdc9e8",
       "style": "IPY_MODEL_b86e94de665844a7812b50d21a1d86c8"
      }
     },
     "6f910ade1a224826aca349f7c4bd0b2b": {
      "model_module": "@jupyter-widgets/base",
      "model_module_version": "1.2.0",
      "model_name": "LayoutModel",
      "state": {}
     },
     "70f2fd301c2e48cb85c216bd3bc79ede": {
      "model_module": "@jupyter-widgets/base",
      "model_module_version": "1.2.0",
      "model_name": "LayoutModel",
      "state": {}
     },
     "723731cf97af4d62bb55085a406394c4": {
      "model_module": "@jupyter-widgets/base",
      "model_module_version": "1.2.0",
      "model_name": "LayoutModel",
      "state": {
       "width": "auto"
      }
     },
     "72b5c62bbaef42649ca0c604fe209b11": {
      "model_module": "@jupyter-widgets/base",
      "model_module_version": "1.2.0",
      "model_name": "LayoutModel",
      "state": {}
     },
     "72e8009d267847bd933c25e501842fc5": {
      "model_module": "@jupyter-widgets/controls",
      "model_module_version": "1.5.0",
      "model_name": "ButtonModel",
      "state": {
       "description": "Cancel",
       "layout": "IPY_MODEL_6a17412aaf2c4677a4eef85d726b6f44",
       "style": "IPY_MODEL_373d83f955494f7ba6be98f484ab0900"
      }
     },
     "7342a1a0ca324b48bdd18609738e8418": {
      "model_module": "@jupyter-widgets/controls",
      "model_module_version": "1.5.0",
      "model_name": "SelectMultipleModel",
      "state": {
       "_options_labels": [
        "Ag",
        "Al2O3",
        "As",
        "Au",
        "Ba",
        "Be",
        "Bi",
        "CaO",
        "Cd",
        "Ce",
        "Cl",
        "Co",
        "Cr",
        "Cr2O3",
        "Cs",
        "Ctot",
        "Cu",
        "Dy",
        "Er",
        "Eu",
        "F",
        "Fe2O3",
        "Ga",
        "Gd",
        "Ge",
        "Hf",
        "Hg",
        "Ho",
        "In",
        "Ir",
        "K2O",
        "LOI",
        "La",
        "Li",
        "Lu",
        "MgO",
        "MnO",
        "Mo",
        "Na2O",
        "Nb",
        "Nd",
        "NewChannel",
        "Ni",
        "Ni2",
        "P2O5",
        "Pb",
        "Pr",
        "Rb",
        "SUM",
        "Sb",
        "Sc",
        "Se",
        "SiO2",
        "Sm",
        "Sn",
        "Sr",
        "Stot",
        "Ta",
        "Tb",
        "Th",
        "Ti",
        "TiO2",
        "Tl",
        "Tm",
        "U",
        "V",
        "Visual Parameters",
        "W",
        "Y_",
        "Yb",
        "Zn",
        "Zr",
        "interval_length"
       ],
       "description": "Data: ",
       "index": [
        1,
        7
       ],
       "layout": "IPY_MODEL_4515819e09fc43c69d23ab776274ffc4",
       "rows": 5,
       "style": "IPY_MODEL_889a2069aaf24557aefe6c4cf2609c01"
      }
     },
     "7415a9b6b31047a1847c880c3a7dfa67": {
      "model_module": "@jupyter-widgets/controls",
      "model_module_version": "1.5.0",
      "model_name": "DescriptionStyleModel",
      "state": {
       "description_width": ""
      }
     },
     "7571401917df4970a3a656545c8c333c": {
      "model_module": "@jupyter-widgets/controls",
      "model_module_version": "1.5.0",
      "model_name": "ButtonStyleModel",
      "state": {}
     },
     "75d9e9ebad5243b58bddff014e41f383": {
      "model_module": "@jupyter-widgets/controls",
      "model_module_version": "1.5.0",
      "model_name": "ButtonModel",
      "state": {
       "description": "Cancel",
       "layout": "IPY_MODEL_95eb4f54793e4795928f99dce900043f",
       "style": "IPY_MODEL_e2009489ca1246bf819184a12f1890ff"
      }
     },
     "76023be53e3843f69447960eaaf024d5": {
      "model_module": "@jupyter-widgets/base",
      "model_module_version": "1.2.0",
      "model_name": "LayoutModel",
      "state": {}
     },
     "7650d03dd81d48e8ab5ecbbb7c1131be": {
      "model_module": "@jupyter-widgets/controls",
      "model_module_version": "1.5.0",
      "model_name": "HTMLModel",
      "state": {
       "layout": "IPY_MODEL_b2e1d180902d4cf38e40b5765963e147",
       "placeholder": "",
       "style": "IPY_MODEL_4f519f104a3e4d52803b8ecfb86a392b",
       "value": "<span style=\"margin-left:10px; color:orange;\">C:\\Users\\dominiquef\\Documents\\GIT\\mira\\geoapps\\assets\\FlinFlon.geoh5</span>"
      }
     },
     "767aeb8b2dc94311b621039a0af02a99": {
      "model_module": "@jupyter-widgets/controls",
      "model_module_version": "1.5.0",
      "model_name": "DescriptionStyleModel",
      "state": {
       "description_width": "initial"
      }
     },
     "76867dd8c2164c4b8d32bf4eddee30a1": {
      "model_module": "@jupyter-widgets/controls",
      "model_module_version": "1.5.0",
      "model_name": "SelectModel",
      "state": {
       "_options_labels": [
        "..",
        "Temp",
        "FlinFlon.geoh5",
        "Inversion_.json",
        "MtDore_TMI.geoh5"
       ],
       "index": 2,
       "layout": "IPY_MODEL_2685333a0d3741bb9c8278889556fc3d",
       "rows": 8,
       "style": "IPY_MODEL_5973383426b346f782b8e0e36b48933b"
      }
     },
     "7689493bf8f24d7eb399b58237504f84": {
      "model_module": "@jupyter-widgets/controls",
      "model_module_version": "1.5.0",
      "model_name": "ButtonModel",
      "state": {
       "description": "Create copy:",
       "layout": "IPY_MODEL_5f10510ecd6943c3903b4339ff53ae41",
       "style": "IPY_MODEL_ab163e995e5f4fd8ac74baa3cd4d9003"
      }
     },
     "771c493ead3a414b8148c9f3082313e1": {
      "model_module": "@jupyter-widgets/base",
      "model_module_version": "1.2.0",
      "model_name": "LayoutModel",
      "state": {}
     },
     "773722dbdddf489a9426517b419e05e9": {
      "model_module": "@jupyter-widgets/controls",
      "model_module_version": "1.5.0",
      "model_name": "DescriptionStyleModel",
      "state": {
       "description_width": ""
      }
     },
     "77b0bbefc7c54c4a9fd7d52aad74c09e": {
      "model_module": "@jupyter-widgets/base",
      "model_module_version": "1.2.0",
      "model_name": "LayoutModel",
      "state": {}
     },
     "78463de9d93f4653bdfdc29a9937e617": {
      "model_module": "@jupyter-widgets/base",
      "model_module_version": "1.2.0",
      "model_name": "LayoutModel",
      "state": {}
     },
     "786a65f45cd74469afe76eb8861987ab": {
      "model_module": "@jupyter-widgets/controls",
      "model_module_version": "1.5.0",
      "model_name": "DescriptionStyleModel",
      "state": {
       "description_width": ""
      }
     },
     "79582cdfa3c24c9bb3da30251c065774": {
      "model_module": "@jupyter-widgets/controls",
      "model_module_version": "1.5.0",
      "model_name": "GridBoxModel",
      "state": {
       "children": [
        "IPY_MODEL_ad6e087b8b8c4b3f9c502a3e546ba7e5",
        "IPY_MODEL_4d0597ec4e214adf8eedfc396e373be9",
        "IPY_MODEL_2f8c499df99145cd9ad2ab9268c66a63"
       ],
       "layout": "IPY_MODEL_8b2a41da771a489581648ea8c41a67af"
      }
     },
     "79626b9f58bc42888c31560e84a8b5bb": {
      "model_module": "@jupyter-widgets/controls",
      "model_module_version": "1.5.0",
      "model_name": "DescriptionStyleModel",
      "state": {
       "description_width": ""
      }
     },
     "79ab31d090804d048ea53f5609b86dd2": {
      "model_module": "@jupyter-widgets/base",
      "model_module_version": "1.2.0",
      "model_name": "LayoutModel",
      "state": {
       "grid_area": "pathlist",
       "width": "auto"
      }
     },
     "79cfa2ab02d74527b33cdbc1c39c483e": {
      "model_module": "@jupyter-widgets/controls",
      "model_module_version": "1.5.0",
      "model_name": "LabelModel",
      "state": {
       "layout": "IPY_MODEL_477e5dd73df542d6863d3fd1a05c5bd3",
       "style": "IPY_MODEL_f224705a2bc24ebea42f4a90e1d0dc0c",
       "value": "Monitoring folder"
      }
     },
     "7b37a4a08e51448da99c9f21281e6fb0": {
      "model_module": "@jupyter-widgets/controls",
      "model_module_version": "1.5.0",
      "model_name": "DescriptionStyleModel",
      "state": {
       "description_width": ""
      }
     },
     "7c7e4793b10446de8db885f2a5e0f4da": {
      "model_module": "@jupyter-widgets/controls",
      "model_module_version": "1.5.0",
      "model_name": "DescriptionStyleModel",
      "state": {
       "description_width": "initial"
      }
     },
     "7ca83751f9894af0b07b4c863878fb7c": {
      "model_module": "@jupyter-widgets/controls",
      "model_module_version": "1.5.0",
      "model_name": "ButtonStyleModel",
      "state": {}
     },
     "7cbde29fd6f441b98d39f5133314a6ff": {
      "model_module": "@jupyter-widgets/controls",
      "model_module_version": "1.5.0",
      "model_name": "TextareaModel",
      "state": {
       "layout": "IPY_MODEL_f98f933924f4430099a6f5ec87629236",
       "style": "IPY_MODEL_a5507ba8628d4f5faf5b694f33d41ecc",
       "value": "{NewChannel} = {Al2O3} + numpy.cos({CaO} / numpy.max({CaO}) * numpy.pi)"
      }
     },
     "7d27d160b5544747947b0dbe48194ebb": {
      "model_module": "@jupyter-widgets/base",
      "model_module_version": "1.2.0",
      "model_name": "LayoutModel",
      "state": {
       "width": "auto"
      }
     },
     "7d87ae57cd4f46f79aa0009fce0fb8d0": {
      "model_module": "@jupyter-widgets/base",
      "model_module_version": "1.2.0",
      "model_name": "LayoutModel",
      "state": {
       "width": "auto"
      }
     },
     "7d9e2eb4b42e4a66bca5f0c62aa4088f": {
      "model_module": "@jupyter-widgets/controls",
      "model_module_version": "1.5.0",
      "model_name": "LabelModel",
      "state": {
       "layout": "IPY_MODEL_87a90041e88f4ad790f07ff73fd7b425",
       "style": "IPY_MODEL_7c7e4793b10446de8db885f2a5e0f4da",
       "value": "Workspace"
      }
     },
     "7e4fb161edb84c59860d34a1669029d3": {
      "model_module": "@jupyter-widgets/controls",
      "model_module_version": "1.5.0",
      "model_name": "DescriptionStyleModel",
      "state": {
       "description_width": ""
      }
     },
     "7e716f4898cb4d84bfe0418259c737ba": {
      "model_module": "@jupyter-widgets/controls",
      "model_module_version": "1.5.0",
      "model_name": "DescriptionStyleModel",
      "state": {
       "description_width": "initial"
      }
     },
     "7e852d6e319b46d29943fa50710927f0": {
      "model_module": "@jupyter-widgets/controls",
      "model_module_version": "1.5.0",
      "model_name": "DescriptionStyleModel",
      "state": {
       "description_width": ""
      }
     },
     "80466409df824d2481e35f6bbeb8d81e": {
      "model_module": "@jupyter-widgets/base",
      "model_module_version": "1.2.0",
      "model_name": "LayoutModel",
      "state": {
       "width": "auto"
      }
     },
     "809f3ebc5df6403c962320716dfcebca": {
      "model_module": "@jupyter-widgets/controls",
      "model_module_version": "1.5.0",
      "model_name": "DescriptionStyleModel",
      "state": {
       "description_width": ""
      }
     },
     "80f8c593ea93494fba4d62db358c6592": {
      "model_module": "@jupyter-widgets/base",
      "model_module_version": "1.2.0",
      "model_name": "LayoutModel",
      "state": {}
     },
     "81015ed242ec499cb6c997b3f1c0f7c6": {
      "model_module": "@jupyter-widgets/controls",
      "model_module_version": "1.5.0",
      "model_name": "DescriptionStyleModel",
      "state": {
       "description_width": ""
      }
     },
     "8189d8e7c48e4d9482a189fef12e64a6": {
      "model_module": "@jupyter-widgets/controls",
      "model_module_version": "1.5.0",
      "model_name": "HBoxModel",
      "state": {
       "children": [
        "IPY_MODEL_05061b12b4fe4a66b73e98fd5f506c5a",
        "IPY_MODEL_6711ee4d0b504422b24dc6cf8191b265"
       ],
       "layout": "IPY_MODEL_422cc9b2a7a341ed8c87a0611edf9870"
      }
     },
     "824c9faf8e304c09bbc6488ae158f9bc": {
      "model_module": "@jupyter-widgets/controls",
      "model_module_version": "1.5.0",
      "model_name": "DescriptionStyleModel",
      "state": {
       "description_width": "initial"
      }
     },
     "8341837b52a444429c8fce193723e741": {
      "model_module": "@jupyter-widgets/controls",
      "model_module_version": "1.5.0",
      "model_name": "VBoxModel",
      "state": {
       "children": [
        "IPY_MODEL_f443b7a68a6b474fa1be790e963c145f",
        "IPY_MODEL_696e6b4f204f41a0ba3adbc14dd05662"
       ],
       "layout": "IPY_MODEL_be7d6ffe42514eceaeaeab202154fc40"
      }
     },
     "8373a2c5768e42b48fbe5a90c4b3752c": {
      "model_module": "@jupyter-widgets/controls",
      "model_module_version": "1.5.0",
      "model_name": "SelectModel",
      "state": {
       "_options_labels": [
        "..",
        "Temp",
        "FlinFlon.geoh5",
        "Inversion_.json",
        "MtDore_TMI.geoh5"
       ],
       "index": 2,
       "layout": "IPY_MODEL_d11dca818c114bd18d4d396941ecb2c8",
       "rows": 8,
       "style": "IPY_MODEL_3e85cc72ab2f487aa3ac5939d6f9c02a"
      }
     },
     "8389a025618844bb81da432c765a4222": {
      "model_module": "@jupyter-widgets/base",
      "model_module_version": "1.2.0",
      "model_name": "LayoutModel",
      "state": {
       "width": "auto"
      }
     },
     "83b97c784be346e1bb3ab67a4e81bde2": {
      "model_module": "@jupyter-widgets/controls",
      "model_module_version": "1.5.0",
      "model_name": "DescriptionStyleModel",
      "state": {
       "description_width": ""
      }
     },
     "83c3d83255cb447ba4f91a0b3e5741ed": {
      "model_module": "@jupyter-widgets/controls",
      "model_module_version": "1.5.0",
      "model_name": "ButtonStyleModel",
      "state": {}
     },
     "83d1b7f9bdfe47f5b393480ff25375a5": {
      "model_module": "@jupyter-widgets/base",
      "model_module_version": "1.2.0",
      "model_name": "LayoutModel",
      "state": {}
     },
     "846a76a5e4254dc2a37afa5107124242": {
      "model_module": "@jupyter-widgets/controls",
      "model_module_version": "1.5.0",
      "model_name": "ButtonStyleModel",
      "state": {}
     },
     "84a5434ca9b84be3a8f3bdbedfdbaeda": {
      "model_module": "@jupyter-widgets/base",
      "model_module_version": "1.2.0",
      "model_name": "LayoutModel",
      "state": {
       "display": "none",
       "grid_gap": "0px 0px",
       "grid_template_areas": "\n                    'pathlist filename'\n                    'dircontent dircontent'\n                    ",
       "grid_template_columns": "60% 40%",
       "grid_template_rows": "auto auto",
       "width": "500px"
      }
     },
     "84b43f78d58a4014886dd9394cb5b42b": {
      "model_module": "@jupyter-widgets/controls",
      "model_module_version": "1.5.0",
      "model_name": "DescriptionStyleModel",
      "state": {
       "description_width": "initial"
      }
     },
     "84c0080c260c4e2cacca8b3a7f4d31f8": {
      "model_module": "@jupyter-widgets/controls",
      "model_module_version": "1.5.0",
      "model_name": "ButtonModel",
      "state": {
       "description": "Cancel",
       "layout": "IPY_MODEL_356594cf4ee94fbeb810a1a3b2ddce7c",
       "style": "IPY_MODEL_129e73a67f534cb0bca72dcc14c9a342"
      }
     },
     "84ce230ffede47399a146c968c0f2144": {
      "model_module": "@jupyter-widgets/controls",
      "model_module_version": "1.5.0",
      "model_name": "ButtonModel",
      "state": {
       "description": "Cancel",
       "layout": "IPY_MODEL_b1c86c7e8f524a91a4347cf078f89c36",
       "style": "IPY_MODEL_83c3d83255cb447ba4f91a0b3e5741ed"
      }
     },
     "84d4b61f2607468db32815d9c9e9a085": {
      "model_module": "@jupyter-widgets/controls",
      "model_module_version": "1.5.0",
      "model_name": "VBoxModel",
      "state": {
       "children": [
        "IPY_MODEL_8341837b52a444429c8fce193723e741",
        "IPY_MODEL_ffaea2f9e31449259dcbecf01d9621af",
        "IPY_MODEL_3a3788ee94ed490dbc85f3b9a268ccf5",
        "IPY_MODEL_e3946f7fcd154ef2969664d14bcaf0c8"
       ],
       "layout": "IPY_MODEL_4ae44339f6c04b0faa0a42addb004fad"
      }
     },
     "850ce3f98b8841b4af720262b376efaa": {
      "model_module": "@jupyter-widgets/controls",
      "model_module_version": "1.5.0",
      "model_name": "DescriptionStyleModel",
      "state": {
       "description_width": ""
      }
     },
     "8543a9e511ee435eaac7895de28d002e": {
      "model_module": "@jupyter-widgets/base",
      "model_module_version": "1.2.0",
      "model_name": "LayoutModel",
      "state": {}
     },
     "85914abd31d64f4c81f27ec86e371b30": {
      "model_module": "@jupyter-widgets/controls",
      "model_module_version": "1.5.0",
      "model_name": "DescriptionStyleModel",
      "state": {
       "description_width": ""
      }
     },
     "8617b242ee31413cbd1df24623e12400": {
      "model_module": "@jupyter-widgets/base",
      "model_module_version": "1.2.0",
      "model_name": "LayoutModel",
      "state": {}
     },
     "864886acff414b78ad461ba001678421": {
      "model_module": "@jupyter-widgets/base",
      "model_module_version": "1.2.0",
      "model_name": "LayoutModel",
      "state": {
       "width": "100%"
      }
     },
     "875f949ab4354aedabe81b0031ce4f73": {
      "model_module": "@jupyter-widgets/controls",
      "model_module_version": "1.5.0",
      "model_name": "ButtonStyleModel",
      "state": {}
     },
     "877c34ae5e9d42308b8b75936e5fbbd2": {
      "model_module": "@jupyter-widgets/controls",
      "model_module_version": "1.5.0",
      "model_name": "ButtonModel",
      "state": {
       "description": "Cancel",
       "layout": "IPY_MODEL_3112e43e26134edaaacf7187bae5ed5a",
       "style": "IPY_MODEL_15dab356124a4381bb7595495056a62b"
      }
     },
     "87a90041e88f4ad790f07ff73fd7b425": {
      "model_module": "@jupyter-widgets/base",
      "model_module_version": "1.2.0",
      "model_name": "LayoutModel",
      "state": {}
     },
     "887ebe73a4e4448f9117cf83a56ec57f": {
      "model_module": "@jupyter-widgets/controls",
      "model_module_version": "1.5.0",
      "model_name": "HBoxModel",
      "state": {
       "children": [
        "IPY_MODEL_d06b71b980f047fb9150c30f524bc462",
        "IPY_MODEL_4fd2bce1ee7a4e07aff1c7d4d92ca154"
       ],
       "layout": "IPY_MODEL_77b0bbefc7c54c4a9fd7d52aad74c09e"
      }
     },
     "889a2069aaf24557aefe6c4cf2609c01": {
      "model_module": "@jupyter-widgets/controls",
      "model_module_version": "1.5.0",
      "model_name": "DescriptionStyleModel",
      "state": {
       "description_width": "initial"
      }
     },
     "891d60ce666c4eadb2011ee7014051d0": {
      "model_module": "@jupyter-widgets/controls",
      "model_module_version": "1.5.0",
      "model_name": "DescriptionStyleModel",
      "state": {
       "description_width": ""
      }
     },
     "899f8cf4cf1f45609a1b033e5e48b16a": {
      "model_module": "@jupyter-widgets/controls",
      "model_module_version": "1.5.0",
      "model_name": "DropdownModel",
      "state": {
       "_options_labels": [
        "C:\\Users\\dominiquef\\Documents\\GIT\\mira\\mirageoscience-apps\\assets",
        "C:\\Users\\dominiquef\\Documents\\GIT\\mira\\mirageoscience-apps",
        "C:\\Users\\dominiquef\\Documents\\GIT\\mira",
        "C:\\Users\\dominiquef\\Documents\\GIT",
        "C:\\Users\\dominiquef\\Documents",
        "C:\\Users\\dominiquef",
        "C:\\Users",
        "C:\\",
        "D:\\",
        "Z:\\"
       ],
       "index": 0,
       "layout": "IPY_MODEL_b72f5ad58e3a496a8e86baac1f81d1c8",
       "style": "IPY_MODEL_def68c07924e45a5b792e8552f15e72c"
      }
     },
     "89ad895a156a46829321dfc7017ead19": {
      "model_module": "@jupyter-widgets/controls",
      "model_module_version": "1.5.0",
      "model_name": "VBoxModel",
      "state": {
       "children": [
        "IPY_MODEL_535d9757a451471db9e7c61aa3839b84",
        "IPY_MODEL_a18139b66f0244b2bdd400ed5cdb5a3e",
        "IPY_MODEL_aec9ed48b04d4d149f758f25fd4e11de"
       ],
       "layout": "IPY_MODEL_723731cf97af4d62bb55085a406394c4"
      }
     },
     "8a9da51d5b434e34825144c9fbff0427": {
      "model_module": "@jupyter-widgets/controls",
      "model_module_version": "1.5.0",
      "model_name": "ButtonModel",
      "state": {
       "description": "Select",
       "layout": "IPY_MODEL_0763e25e83434cc09a67e4d7ea8f7132",
       "style": "IPY_MODEL_875f949ab4354aedabe81b0031ce4f73"
      }
     },
     "8abdea1881c74cbe884de5468c073678": {
      "model_module": "@jupyter-widgets/controls",
      "model_module_version": "1.5.0",
      "model_name": "HTMLModel",
      "state": {
       "layout": "IPY_MODEL_2c78f2ba45c54ce7a617f2c1c63322f3",
       "style": "IPY_MODEL_a0551c60aeb54ac3ad35a4ee0f674a15"
      }
     },
     "8b2a41da771a489581648ea8c41a67af": {
      "model_module": "@jupyter-widgets/base",
      "model_module_version": "1.2.0",
      "model_name": "LayoutModel",
      "state": {
       "display": "none",
       "grid_gap": "0px 0px",
       "grid_template_areas": "\n                    'pathlist pathlist'\n                    'dircontent dircontent'\n                    ",
       "grid_template_columns": "60% 40%",
       "grid_template_rows": "auto auto",
       "width": "500px"
      }
     },
     "8cdfbcacde524cc893fa96d94cf2a93b": {
      "model_module": "@jupyter-widgets/controls",
      "model_module_version": "1.5.0",
      "model_name": "DropdownModel",
      "state": {
       "_options_labels": [
        "C:\\Users\\dominiquef\\Documents\\GIT\\mira\\mirageoscience-apps\\docs\\content\\applications",
        "C:\\Users\\dominiquef\\Documents\\GIT\\mira\\mirageoscience-apps\\docs\\content",
        "C:\\Users\\dominiquef\\Documents\\GIT\\mira\\mirageoscience-apps\\docs",
        "C:\\Users\\dominiquef\\Documents\\GIT\\mira\\mirageoscience-apps",
        "C:\\Users\\dominiquef\\Documents\\GIT\\mira",
        "C:\\Users\\dominiquef\\Documents\\GIT",
        "C:\\Users\\dominiquef\\Documents",
        "C:\\Users\\dominiquef",
        "C:\\Users",
        "C:\\",
        "D:\\",
        "Z:\\"
       ],
       "index": 0,
       "layout": "IPY_MODEL_3f6a147248dd4cc5a4ec745ec6b4b4a1",
       "style": "IPY_MODEL_2638f1cf268e4bf4a485fd65bd7329c6"
      }
     },
     "8e4b2243790042539c8945119efaa042": {
      "model_module": "@jupyter-widgets/base",
      "model_module_version": "1.2.0",
      "model_name": "LayoutModel",
      "state": {}
     },
     "8f2b4fa65d84490fab02d0fb8c4dcaff": {
      "model_module": "@jupyter-widgets/base",
      "model_module_version": "1.2.0",
      "model_name": "LayoutModel",
      "state": {
       "width": "auto"
      }
     },
     "8f8efddd87fc40b38643ea74abc013ec": {
      "model_module": "@jupyter-widgets/controls",
      "model_module_version": "1.5.0",
      "model_name": "VBoxModel",
      "state": {
       "children": [
        "IPY_MODEL_8abdea1881c74cbe884de5468c073678",
        "IPY_MODEL_b7a9f2e018ca4144badf46f6212c6e3d",
        "IPY_MODEL_b9f94f4364dc4d40a50e6ebb080ed75b"
       ],
       "layout": "IPY_MODEL_be4134b59d67476fa7c9b420ab85b03e"
      }
     },
     "8fbf1864af64497c8ca7a029d56506b4": {
      "model_module": "@jupyter-widgets/controls",
      "model_module_version": "1.5.0",
      "model_name": "TextModel",
      "state": {
       "continuous_update": false,
       "description": "Group:",
       "layout": "IPY_MODEL_3b0031880d6146568809b936e42f4147",
       "style": "IPY_MODEL_4a936d3a54084455889ef0e4733a1d2d"
      }
     },
     "90a9b61ea4a24a43b1eb59a8863558a2": {
      "model_module": "@jupyter-widgets/base",
      "model_module_version": "1.2.0",
      "model_name": "LayoutModel",
      "state": {}
     },
     "90c3f851ae8d42128a7f5c0260688c91": {
      "model_module": "@jupyter-widgets/base",
      "model_module_version": "1.2.0",
      "model_name": "LayoutModel",
      "state": {}
     },
     "92018862d8c34de297d0cfa22a4c8b5d": {
      "model_module": "@jupyter-widgets/controls",
      "model_module_version": "1.5.0",
      "model_name": "VBoxModel",
      "state": {
       "children": [
        "IPY_MODEL_1e083171df5847a6bdb11da025808dd1",
        "IPY_MODEL_0af2ccb563084caf8c703463ca5aafac"
       ],
       "layout": "IPY_MODEL_8617b242ee31413cbd1df24623e12400"
      }
     },
     "92101be0476840ff8c09ef89bd227c95": {
      "model_module": "@jupyter-widgets/controls",
      "model_module_version": "1.5.0",
      "model_name": "VBoxModel",
      "state": {
       "children": [
        "IPY_MODEL_b415e623b6e14979bdae06465ff741b2",
        "IPY_MODEL_456aad6f8004421fb39bf378f81909c5",
        "IPY_MODEL_5b73723b4e3c4867bcfa3ed383b6230e"
       ],
       "layout": "IPY_MODEL_b3c73a09caf74d7e8274fe0a2a47fd34"
      }
     },
     "938efa44f7604c8b83ff48444e58fdd6": {
      "model_module": "@jupyter-widgets/base",
      "model_module_version": "1.2.0",
      "model_name": "LayoutModel",
      "state": {
       "grid_area": "dircontent",
       "width": "auto"
      }
     },
     "948800357c86454f95d0c5a37bcc649b": {
      "model_module": "@jupyter-widgets/base",
      "model_module_version": "1.2.0",
      "model_name": "LayoutModel",
      "state": {
       "grid_area": "filename",
       "width": "auto"
      }
     },
     "95eb4f54793e4795928f99dce900043f": {
      "model_module": "@jupyter-widgets/base",
      "model_module_version": "1.2.0",
      "model_name": "LayoutModel",
      "state": {
       "display": "none",
       "width": "auto"
      }
     },
     "963efc634b5a4a10bb4200192e44831d": {
      "model_module": "@jupyter-widgets/base",
      "model_module_version": "1.2.0",
      "model_name": "LayoutModel",
      "state": {
       "display": "none"
      }
     },
     "973bee7d4b3b4db48c7a05b1f7bf68fe": {
      "model_module": "@jupyter-widgets/controls",
      "model_module_version": "1.5.0",
      "model_name": "DescriptionStyleModel",
      "state": {
       "description_width": "initial"
      }
     },
     "978a5387706c458d85661e637536c13d": {
      "model_module": "@jupyter-widgets/base",
      "model_module_version": "1.2.0",
      "model_name": "LayoutModel",
      "state": {
       "display": "none",
       "grid_area": "filename",
       "width": "auto"
      }
     },
     "98a6e223e9164347b3958c2a1e3da299": {
      "model_module": "@jupyter-widgets/controls",
      "model_module_version": "1.5.0",
      "model_name": "TextModel",
      "state": {
       "disabled": true,
       "layout": "IPY_MODEL_d24e5e1a26014a71a7d48355ad47111d",
       "placeholder": "output filename",
       "style": "IPY_MODEL_48a288008ad84ef187e6b4545cb3e52b"
      }
     },
     "98bda642232f4d7590c6bb5de08aad71": {
      "model_module": "@jupyter-widgets/controls",
      "model_module_version": "1.5.0",
      "model_name": "ToggleButtonModel",
      "state": {
       "layout": "IPY_MODEL_3ba1c638a9284dea8bcc39834317e871",
       "style": "IPY_MODEL_ff18fdd196de4496bf31324cb4f9eade",
       "value": true
      }
     },
     "998b3f8cf70449f2a062a6ff72e209da": {
      "model_module": "@jupyter-widgets/base",
      "model_module_version": "1.2.0",
      "model_name": "LayoutModel",
      "state": {
       "grid_area": "dircontent",
       "width": "auto"
      }
     },
     "9a9249e4df0c490090e8519ee41ca95e": {
      "model_module": "@jupyter-widgets/controls",
      "model_module_version": "1.5.0",
      "model_name": "HTMLModel",
      "state": {
       "layout": "IPY_MODEL_b57a6f58d32c491b8713440881030553",
       "placeholder": "",
       "style": "IPY_MODEL_53b1b2b4f2b74c14b6546374c1477378",
       "value": "<span style=\"margin-left:10px; color:black;\">No file selected</span>"
      }
     },
     "9ab671b7143c4880b9a55cd45c52499d": {
      "model_module": "@jupyter-widgets/base",
      "model_module_version": "1.2.0",
      "model_name": "LayoutModel",
      "state": {}
     },
     "9bc2791663cb499fa6b396b6aa2436d8": {
      "model_module": "@jupyter-widgets/base",
      "model_module_version": "1.2.0",
      "model_name": "LayoutModel",
      "state": {
       "display": "none",
       "width": "auto"
      }
     },
     "9c27195251904c5a9ce63cc8409b7d75": {
      "model_module": "@jupyter-widgets/controls",
      "model_module_version": "1.5.0",
      "model_name": "ButtonStyleModel",
      "state": {}
     },
     "9c347da45c114ce39802c32e93dbf853": {
      "model_module": "@jupyter-widgets/controls",
      "model_module_version": "1.5.0",
      "model_name": "TextModel",
      "state": {
       "description": "Name: ",
       "layout": "IPY_MODEL_14b1c5fc0411495c8565713492fb031b",
       "style": "IPY_MODEL_3616530987684bed8359f61653a1885b"
      }
     },
     "9d039af502614da088360beee683050b": {
      "model_module": "@jupyter-widgets/controls",
      "model_module_version": "1.5.0",
      "model_name": "DescriptionStyleModel",
      "state": {
       "description_width": ""
      }
     },
     "9d0d1261a2234e3781ce24ce0f706d6c": {
      "model_module": "@jupyter-widgets/base",
      "model_module_version": "1.2.0",
      "model_name": "LayoutModel",
      "state": {}
     },
     "9d772744804149c2a8b0029fe66a8398": {
      "model_module": "@jupyter-widgets/controls",
      "model_module_version": "1.5.0",
      "model_name": "HTMLModel",
      "state": {
       "layout": "IPY_MODEL_963efc634b5a4a10bb4200192e44831d",
       "style": "IPY_MODEL_f6e7c556428042cda088c602e7b3d0c8"
      }
     },
     "9f3bab494493496182ea03e8bf837457": {
      "model_module": "@jupyter-widgets/controls",
      "model_module_version": "1.5.0",
      "model_name": "ButtonStyleModel",
      "state": {}
     },
     "9f8d6bf3d36d4095aa67d8e6eb836605": {
      "model_module": "@jupyter-widgets/base",
      "model_module_version": "1.2.0",
      "model_name": "LayoutModel",
      "state": {
       "display": "none",
       "grid_gap": "0px 0px",
       "grid_template_areas": "\n                    'pathlist pathlist'\n                    'dircontent dircontent'\n                    ",
       "grid_template_columns": "60% 40%",
       "grid_template_rows": "auto auto",
       "width": "500px"
      }
     },
     "9fccf32d6fa947cabf87cc091d97778f": {
      "model_module": "@jupyter-widgets/controls",
      "model_module_version": "1.5.0",
      "model_name": "VBoxModel",
      "state": {
       "children": [
        "IPY_MODEL_18f384d8c308450cb81a8f49b20e5d96",
        "IPY_MODEL_b0f84b7a04274710a5d81f5e37165f96"
       ],
       "layout": "IPY_MODEL_542ef80af7a04cc584415d616bdc6b70"
      }
     },
     "a03b42d8492e4030a47c04b333f99ddb": {
      "model_module": "@jupyter-widgets/controls",
      "model_module_version": "1.5.0",
      "model_name": "ButtonStyleModel",
      "state": {}
     },
     "a0551c60aeb54ac3ad35a4ee0f674a15": {
      "model_module": "@jupyter-widgets/controls",
      "model_module_version": "1.5.0",
      "model_name": "DescriptionStyleModel",
      "state": {
       "description_width": ""
      }
     },
     "a18139b66f0244b2bdd400ed5cdb5a3e": {
      "model_module": "@jupyter-widgets/controls",
      "model_module_version": "1.5.0",
      "model_name": "GridBoxModel",
      "state": {
       "children": [
        "IPY_MODEL_618a55c39d8346ed91db8e1ce115b23d",
        "IPY_MODEL_64c0fb7001ef4ecbbce3434897dd15a5",
        "IPY_MODEL_d2260f88a4e748aab3d041fa3188633f"
       ],
       "layout": "IPY_MODEL_1d7dd1123bd6485db025a0ea2c84f382"
      }
     },
     "a230200c37a941628e5d101804da13df": {
      "model_module": "@jupyter-widgets/controls",
      "model_module_version": "1.5.0",
      "model_name": "HTMLModel",
      "state": {
       "layout": "IPY_MODEL_1c8b5e74d3674061a1a92dabca6936eb",
       "placeholder": "",
       "style": "IPY_MODEL_af5ad9704eb34ff9818c64381282bdb5",
       "value": "<span style=\"margin-left:10px; color:orange;\">C:\\Users\\dominiquef\\Documents\\GIT\\mira\\mirageoscience-apps\\assets\\FlinFlon.geoh5</span>"
      }
     },
     "a2cd5f6841ef4a60acd5ca37e9ce1fc7": {
      "model_module": "@jupyter-widgets/base",
      "model_module_version": "1.2.0",
      "model_name": "LayoutModel",
      "state": {}
     },
     "a32a91d0a23841b4894336f0fa0fb050": {
      "model_module": "@jupyter-widgets/controls",
      "model_module_version": "1.5.0",
      "model_name": "DescriptionStyleModel",
      "state": {
       "description_width": ""
      }
     },
     "a3320aa880f3424a9b1eb09fc5c53451": {
      "model_module": "@jupyter-widgets/controls",
      "model_module_version": "1.5.0",
      "model_name": "TextModel",
      "state": {
       "disabled": true,
       "layout": "IPY_MODEL_3a30b7a7b6444b938035d0ca9469ff16",
       "placeholder": "output filename",
       "style": "IPY_MODEL_ce94f56ef7dc4b9d9492f261c6ea1270"
      }
     },
     "a33ff9dfb7ed490ab6759160cc34b453": {
      "model_module": "@jupyter-widgets/controls",
      "model_module_version": "1.5.0",
      "model_name": "GridBoxModel",
      "state": {
       "children": [
        "IPY_MODEL_bcc996f7a8bb4df0a45a0beacf72d5cf",
        "IPY_MODEL_1b984fdbd9b145788c74b9f6ed3da742",
        "IPY_MODEL_76867dd8c2164c4b8d32bf4eddee30a1"
       ],
       "layout": "IPY_MODEL_cef74e75048a47f3a035bc1e11afaef3"
      }
     },
     "a372c1b5a33c4b1dac8efd04695484ae": {
      "model_module": "@jupyter-widgets/controls",
      "model_module_version": "1.5.0",
      "model_name": "TextareaModel",
      "state": {
       "layout": "IPY_MODEL_b21645c310bc443d9f835a498ddc5eef",
       "style": "IPY_MODEL_35dd25dfc9e840f9b342a14d0dc79b31",
       "value": "{NewChannel} = {Al2O3} + numpy.cos({CaO} / numpy.max({CaO}) * numpy.pi)"
      }
     },
     "a3a6d54e6d4646bcbdf93c8c57aecd8d": {
      "model_module": "@jupyter-widgets/controls",
      "model_module_version": "1.5.0",
      "model_name": "ButtonModel",
      "state": {
       "description": "Select",
       "layout": "IPY_MODEL_60a63750bd794e25864fd19c9020771f",
       "style": "IPY_MODEL_fd34562ee13c45469a71b607b3c3bd43"
      }
     },
     "a40f0beebc7547259684b69b29ca8c6a": {
      "model_module": "@jupyter-widgets/controls",
      "model_module_version": "1.5.0",
      "model_name": "TextModel",
      "state": {
       "layout": "IPY_MODEL_948800357c86454f95d0c5a37bcc649b",
       "placeholder": "output filename",
       "style": "IPY_MODEL_b32df38c35ba438db721cdaa75c2e51a",
       "value": "FlinFlon.geoh5"
      }
     },
     "a4a9fad427ff42a29535c39c20821347": {
      "model_module": "@jupyter-widgets/controls",
      "model_module_version": "1.5.0",
      "model_name": "TextModel",
      "state": {
       "continuous_update": false,
       "description": "Group:",
       "layout": "IPY_MODEL_4c575fb7cd254b22850fa2a46aef4eb8",
       "style": "IPY_MODEL_84b43f78d58a4014886dd9394cb5b42b"
      }
     },
     "a5507ba8628d4f5faf5b694f33d41ecc": {
      "model_module": "@jupyter-widgets/controls",
      "model_module_version": "1.5.0",
      "model_name": "DescriptionStyleModel",
      "state": {
       "description_width": "initial"
      }
     },
     "a599228e360b481bbae9b3a96626a0e6": {
      "model_module": "@jupyter-widgets/base",
      "model_module_version": "1.2.0",
      "model_name": "LayoutModel",
      "state": {
       "grid_area": "pathlist",
       "width": "auto"
      }
     },
     "a5b55e66f08e485ebb9024f79e913de4": {
      "model_module": "@jupyter-widgets/controls",
      "model_module_version": "1.5.0",
      "model_name": "DescriptionStyleModel",
      "state": {
       "description_width": ""
      }
     },
     "a6200443af8043639f276afdf657360f": {
      "model_module": "@jupyter-widgets/controls",
      "model_module_version": "1.5.0",
      "model_name": "HBoxModel",
      "state": {
       "children": [
        "IPY_MODEL_a3a6d54e6d4646bcbdf93c8c57aecd8d",
        "IPY_MODEL_84ce230ffede47399a146c968c0f2144",
        "IPY_MODEL_9a9249e4df0c490090e8519ee41ca95e"
       ],
       "layout": "IPY_MODEL_7d27d160b5544747947b0dbe48194ebb"
      }
     },
     "a661f1e9ce584b2eae48082c4f237785": {
      "model_module": "@jupyter-widgets/controls",
      "model_module_version": "1.5.0",
      "model_name": "HTMLModel",
      "state": {
       "layout": "IPY_MODEL_62f93418baf847beb8ca62be9af8dd3c",
       "placeholder": "",
       "style": "IPY_MODEL_7b37a4a08e51448da99c9f21281e6fb0",
       "value": "<span style=\"margin-left:10px; color:orange;\">C:\\Users\\dominiquef\\Documents\\GIT\\mira\\mirageoscience-apps\\assets\\FlinFlon.geoh5</span>"
      }
     },
     "a6a87903a92149fb844a1b351ad4f829": {
      "model_module": "@jupyter-widgets/base",
      "model_module_version": "1.2.0",
      "model_name": "LayoutModel",
      "state": {}
     },
     "a6e350b3acc749f48a081337a0a222ce": {
      "model_module": "@jupyter-widgets/controls",
      "model_module_version": "1.5.0",
      "model_name": "ButtonStyleModel",
      "state": {}
     },
     "a6ebc2ceeda84e3d940b62840be83f40": {
      "model_module": "@jupyter-widgets/controls",
      "model_module_version": "1.5.0",
      "model_name": "DescriptionStyleModel",
      "state": {
       "description_width": "initial"
      }
     },
     "a79fa792d94f4389ad98aced52c80426": {
      "model_module": "@jupyter-widgets/controls",
      "model_module_version": "1.5.0",
      "model_name": "CheckboxModel",
      "state": {
       "description": "GA Pro - Live link",
       "disabled": false,
       "indent": false,
       "layout": "IPY_MODEL_2d0b838b398a4428aa23ff4dbf674bad",
       "style": "IPY_MODEL_304a27ea26cd4290942ad71ff79ad565",
       "value": false
      }
     },
     "a84de3f20cf24e659037f3298445bdbb": {
      "model_module": "@jupyter-widgets/controls",
      "model_module_version": "1.5.0",
      "model_name": "DescriptionStyleModel",
      "state": {
       "description_width": "initial"
      }
     },
     "aa72627d66794acda79c2b06847d1e90": {
      "model_module": "@jupyter-widgets/controls",
      "model_module_version": "1.5.0",
      "model_name": "HTMLModel",
      "state": {
       "layout": "IPY_MODEL_8543a9e511ee435eaac7895de28d002e",
       "placeholder": "",
       "style": "IPY_MODEL_5c7d27848c34463d9295175573342bcd",
       "value": "<span style=\"margin-left:10px; color:orange;\">C:\\Users\\dominiquef\\Documents\\GIT\\mira\\mirageoscience-apps\\assets\\FlinFlon.geoh5</span>"
      }
     },
     "ab163e995e5f4fd8ac74baa3cd4d9003": {
      "model_module": "@jupyter-widgets/controls",
      "model_module_version": "1.5.0",
      "model_name": "ButtonStyleModel",
      "state": {}
     },
     "abb143086c6d4bb29e6ebfc1f5969c61": {
      "model_module": "@jupyter-widgets/base",
      "model_module_version": "1.2.0",
      "model_name": "LayoutModel",
      "state": {}
     },
     "ac8be4616065400cbad91231d2589b19": {
      "model_module": "@jupyter-widgets/base",
      "model_module_version": "1.2.0",
      "model_name": "LayoutModel",
      "state": {
       "display": "none",
       "grid_area": "filename",
       "width": "auto"
      }
     },
     "ad1780e200d0480fa5dcb78fd3738d75": {
      "model_module": "@jupyter-widgets/base",
      "model_module_version": "1.2.0",
      "model_name": "LayoutModel",
      "state": {}
     },
     "ad6e087b8b8c4b3f9c502a3e546ba7e5": {
      "model_module": "@jupyter-widgets/controls",
      "model_module_version": "1.5.0",
      "model_name": "DropdownModel",
      "state": {
       "_options_labels": [
        "C:\\Users\\dominiquef\\Documents\\GIT\\mira\\mirageoscience-apps\\docs\\content\\applications",
        "C:\\Users\\dominiquef\\Documents\\GIT\\mira\\mirageoscience-apps\\docs\\content",
        "C:\\Users\\dominiquef\\Documents\\GIT\\mira\\mirageoscience-apps\\docs",
        "C:\\Users\\dominiquef\\Documents\\GIT\\mira\\mirageoscience-apps",
        "C:\\Users\\dominiquef\\Documents\\GIT\\mira",
        "C:\\Users\\dominiquef\\Documents\\GIT",
        "C:\\Users\\dominiquef\\Documents",
        "C:\\Users\\dominiquef",
        "C:\\Users",
        "C:\\",
        "D:\\",
        "Z:\\"
       ],
       "index": 0,
       "layout": "IPY_MODEL_a599228e360b481bbae9b3a96626a0e6",
       "style": "IPY_MODEL_1103c59d1e90405a9a9df2664e9174ac"
      }
     },
     "adb8dbf5196c49f5b09463649b162d08": {
      "model_module": "@jupyter-widgets/controls",
      "model_module_version": "1.5.0",
      "model_name": "DescriptionStyleModel",
      "state": {
       "description_width": ""
      }
     },
     "ade6f941045a408a9e583872e742d5b0": {
      "model_module": "@jupyter-widgets/controls",
      "model_module_version": "1.5.0",
      "model_name": "TextModel",
      "state": {
       "disabled": true,
       "layout": "IPY_MODEL_978a5387706c458d85661e637536c13d",
       "placeholder": "output filename",
       "style": "IPY_MODEL_a5b55e66f08e485ebb9024f79e913de4"
      }
     },
     "ae09e60d162347679a182a93738acb60": {
      "model_module": "@jupyter-widgets/base",
      "model_module_version": "1.2.0",
      "model_name": "LayoutModel",
      "state": {
       "display": "none",
       "width": "auto"
      }
     },
     "aec9d37a1aa64e02b38c0850f7410e69": {
      "model_module": "@jupyter-widgets/base",
      "model_module_version": "1.2.0",
      "model_name": "LayoutModel",
      "state": {}
     },
     "aec9ed48b04d4d149f758f25fd4e11de": {
      "model_module": "@jupyter-widgets/controls",
      "model_module_version": "1.5.0",
      "model_name": "HBoxModel",
      "state": {
       "children": [
        "IPY_MODEL_d5ea54edffb04dba895eca74b6c4dfeb",
        "IPY_MODEL_84c0080c260c4e2cacca8b3a7f4d31f8",
        "IPY_MODEL_7650d03dd81d48e8ab5ecbbb7c1131be"
       ],
       "layout": "IPY_MODEL_220ab9a8dac349299b2076408c68894c"
      }
     },
     "aee7e6fd124e40dcb3042bb2333fbd98": {
      "model_module": "@jupyter-widgets/controls",
      "model_module_version": "1.5.0",
      "model_name": "DescriptionStyleModel",
      "state": {
       "description_width": ""
      }
     },
     "aef01a6ea10948fc8d06367d9d54afc5": {
      "model_module": "@jupyter-widgets/base",
      "model_module_version": "1.2.0",
      "model_name": "LayoutModel",
      "state": {}
     },
     "af5ad9704eb34ff9818c64381282bdb5": {
      "model_module": "@jupyter-widgets/controls",
      "model_module_version": "1.5.0",
      "model_name": "DescriptionStyleModel",
      "state": {
       "description_width": ""
      }
     },
     "af67ce5e8f044426bd7d9eda9756eef6": {
      "model_module": "@jupyter-widgets/base",
      "model_module_version": "1.2.0",
      "model_name": "LayoutModel",
      "state": {
       "grid_area": "dircontent",
       "width": "auto"
      }
     },
     "afa37eb426244a9497375fd5cacde423": {
      "model_module": "@jupyter-widgets/controls",
      "model_module_version": "1.5.0",
      "model_name": "DescriptionStyleModel",
      "state": {
       "description_width": "initial"
      }
     },
     "b0f84b7a04274710a5d81f5e37165f96": {
      "model_module": "@jupyter-widgets/controls",
      "model_module_version": "1.5.0",
      "model_name": "VBoxModel",
      "state": {
       "children": [
        "IPY_MODEL_a79fa792d94f4389ad98aced52c80426"
       ],
       "layout": "IPY_MODEL_cef1d8d9224846e29a52b0f075781bf8"
      }
     },
     "b159624d062b4ff499c84d1c74a2db0b": {
      "model_module": "@jupyter-widgets/controls",
      "model_module_version": "1.5.0",
      "model_name": "TextareaModel",
      "state": {
       "layout": "IPY_MODEL_4fd39de3a21b43ec91acf29b763dedf5",
       "style": "IPY_MODEL_bc5c39a63a1a49bba87e1e1c0e734e8d",
       "value": "{NewChannel} = {Al2O3} + numpy.cos({CaO} / 30.0 * numpy.pi)"
      }
     },
     "b1c86c7e8f524a91a4347cf078f89c36": {
      "model_module": "@jupyter-widgets/base",
      "model_module_version": "1.2.0",
      "model_name": "LayoutModel",
      "state": {
       "display": "none",
       "width": "auto"
      }
     },
     "b21645c310bc443d9f835a498ddc5eef": {
      "model_module": "@jupyter-widgets/base",
      "model_module_version": "1.2.0",
      "model_name": "LayoutModel",
      "state": {
       "width": "75%"
      }
     },
     "b2d3b5e861dd4f939c8accf8f4c1ac80": {
      "model_module": "@jupyter-widgets/controls",
      "model_module_version": "1.5.0",
      "model_name": "VBoxModel",
      "state": {
       "children": [
        "IPY_MODEL_635d806ae9a342b8b81f72c871bbd6bd",
        "IPY_MODEL_c6724c7c60524c3fbf9ef61fe60186b6",
        "IPY_MODEL_0eddc4b8ebba4ce981d9127ac3826c3a",
        "IPY_MODEL_9fccf32d6fa947cabf87cc091d97778f"
       ],
       "layout": "IPY_MODEL_2bb99989126e43e58ee2970fc5f6a862"
      }
     },
     "b2e1d180902d4cf38e40b5765963e147": {
      "model_module": "@jupyter-widgets/base",
      "model_module_version": "1.2.0",
      "model_name": "LayoutModel",
      "state": {}
     },
     "b32df38c35ba438db721cdaa75c2e51a": {
      "model_module": "@jupyter-widgets/controls",
      "model_module_version": "1.5.0",
      "model_name": "DescriptionStyleModel",
      "state": {
       "description_width": ""
      }
     },
     "b3c73a09caf74d7e8274fe0a2a47fd34": {
      "model_module": "@jupyter-widgets/base",
      "model_module_version": "1.2.0",
      "model_name": "LayoutModel",
      "state": {
       "width": "auto"
      }
     },
     "b415e623b6e14979bdae06465ff741b2": {
      "model_module": "@jupyter-widgets/controls",
      "model_module_version": "1.5.0",
      "model_name": "HTMLModel",
      "state": {
       "layout": "IPY_MODEL_215536066e5145faaab7385fb069fa1b",
       "style": "IPY_MODEL_6e296dfa525e4f02a42a7926e737bfe3"
      }
     },
     "b498e67dba95456397dd770265ca01c2": {
      "model_module": "@jupyter-widgets/controls",
      "model_module_version": "1.5.0",
      "model_name": "LabelModel",
      "state": {
       "layout": "IPY_MODEL_ddd09c5819024cdfbb8b5c0d700b226a",
       "style": "IPY_MODEL_bfb1a6341d1246cc8dd38d15ba365375",
       "value": "Monitoring folder"
      }
     },
     "b569327e3d614cc19619336b6b5ff7b5": {
      "model_module": "@jupyter-widgets/controls",
      "model_module_version": "1.5.0",
      "model_name": "ButtonStyleModel",
      "state": {}
     },
     "b57a6f58d32c491b8713440881030553": {
      "model_module": "@jupyter-widgets/base",
      "model_module_version": "1.2.0",
      "model_name": "LayoutModel",
      "state": {}
     },
     "b6a7489b4ec94f05a2b7ae5378c70b71": {
      "model_module": "@jupyter-widgets/controls",
      "model_module_version": "1.5.0",
      "model_name": "DescriptionStyleModel",
      "state": {
       "description_width": ""
      }
     },
     "b72f5ad58e3a496a8e86baac1f81d1c8": {
      "model_module": "@jupyter-widgets/base",
      "model_module_version": "1.2.0",
      "model_name": "LayoutModel",
      "state": {
       "grid_area": "pathlist",
       "width": "auto"
      }
     },
     "b7455bd7008141e8ba69a94b12cb5dd7": {
      "model_module": "@jupyter-widgets/controls",
      "model_module_version": "1.5.0",
      "model_name": "DescriptionStyleModel",
      "state": {
       "description_width": ""
      }
     },
     "b7a9f2e018ca4144badf46f6212c6e3d": {
      "model_module": "@jupyter-widgets/controls",
      "model_module_version": "1.5.0",
      "model_name": "GridBoxModel",
      "state": {
       "children": [
        "IPY_MODEL_899f8cf4cf1f45609a1b033e5e48b16a",
        "IPY_MODEL_a40f0beebc7547259684b69b29ca8c6a",
        "IPY_MODEL_2c662785f5454e5eaf680bd368b27b76"
       ],
       "layout": "IPY_MODEL_84a5434ca9b84be3a8f3bdbedfdbaeda"
      }
     },
     "b7b74978fcf94059a0455e88afdb3009": {
      "model_module": "@jupyter-widgets/controls",
      "model_module_version": "1.5.0",
      "model_name": "DescriptionStyleModel",
      "state": {
       "description_width": ""
      }
     },
     "b7d0a050b8e746d490bb6e953714f8eb": {
      "model_module": "@jupyter-widgets/controls",
      "model_module_version": "1.5.0",
      "model_name": "ButtonStyleModel",
      "state": {}
     },
     "b8103a0af8a44c5f8c4207b8fa120427": {
      "model_module": "@jupyter-widgets/controls",
      "model_module_version": "1.5.0",
      "model_name": "TextareaModel",
      "state": {
       "layout": "IPY_MODEL_2ab1957e5e044fdd8cba0ea99b17e4b6",
       "style": "IPY_MODEL_824c9faf8e304c09bbc6488ae158f9bc",
       "value": "{NewChannel} = {Al2O3} + numpy.cos({CaO} / 30.0 * numpy.pi)"
      }
     },
     "b86e94de665844a7812b50d21a1d86c8": {
      "model_module": "@jupyter-widgets/controls",
      "model_module_version": "1.5.0",
      "model_name": "DescriptionStyleModel",
      "state": {
       "description_width": "initial"
      }
     },
     "b9bddf1ea4a24166b582aea298227b35": {
      "model_module": "@jupyter-widgets/base",
      "model_module_version": "1.2.0",
      "model_name": "LayoutModel",
      "state": {}
     },
     "b9f94f4364dc4d40a50e6ebb080ed75b": {
      "model_module": "@jupyter-widgets/controls",
      "model_module_version": "1.5.0",
      "model_name": "HBoxModel",
      "state": {
       "children": [
        "IPY_MODEL_66c90849c3e4434e9cd1229bb576d7e8",
        "IPY_MODEL_72e8009d267847bd933c25e501842fc5",
        "IPY_MODEL_a230200c37a941628e5d101804da13df"
       ],
       "layout": "IPY_MODEL_538c60e787794d39856e02b2cb43c8e0"
      }
     },
     "ba38c258744c4f45976651b122117141": {
      "model_module": "@jupyter-widgets/base",
      "model_module_version": "1.2.0",
      "model_name": "LayoutModel",
      "state": {}
     },
     "bae0000afe06410f9699b6c3da8bd797": {
      "model_module": "@jupyter-widgets/base",
      "model_module_version": "1.2.0",
      "model_name": "LayoutModel",
      "state": {}
     },
     "bbcd43cacf4d4ccbbd43e3ae93e5a7ac": {
      "model_module": "@jupyter-widgets/controls",
      "model_module_version": "1.5.0",
      "model_name": "DescriptionStyleModel",
      "state": {
       "description_width": ""
      }
     },
     "bc2abc91fa1b4d35834cc7e610a9c7c2": {
      "model_module": "@jupyter-widgets/controls",
      "model_module_version": "1.5.0",
      "model_name": "VBoxModel",
      "state": {
       "children": [
        "IPY_MODEL_dc870b2beb7c4d06a960dd32f32240bd",
        "IPY_MODEL_b0f84b7a04274710a5d81f5e37165f96"
       ],
       "layout": "IPY_MODEL_72b5c62bbaef42649ca0c604fe209b11"
      }
     },
     "bc5c39a63a1a49bba87e1e1c0e734e8d": {
      "model_module": "@jupyter-widgets/controls",
      "model_module_version": "1.5.0",
      "model_name": "DescriptionStyleModel",
      "state": {
       "description_width": "initial"
      }
     },
     "bc763769a31649c08840ca7f3a1049e5": {
      "model_module": "@jupyter-widgets/controls",
      "model_module_version": "1.5.0",
      "model_name": "TextModel",
      "state": {
       "description": "Name: ",
       "layout": "IPY_MODEL_323726a524f44262a99fd9eabc6cf674",
       "style": "IPY_MODEL_ebba8129b2aa46ccaaa61608b26f0db0"
      }
     },
     "bc9a62f32da84bebab79ae08fd268b08": {
      "model_module": "@jupyter-widgets/base",
      "model_module_version": "1.2.0",
      "model_name": "LayoutModel",
      "state": {
       "grid_area": "filename",
       "width": "auto"
      }
     },
     "bcc996f7a8bb4df0a45a0beacf72d5cf": {
      "model_module": "@jupyter-widgets/controls",
      "model_module_version": "1.5.0",
      "model_name": "DropdownModel",
      "state": {
       "_options_labels": [
        "C:\\Users\\dominiquef\\Documents\\GIT\\mira\\mirageoscience-apps\\assets",
        "C:\\Users\\dominiquef\\Documents\\GIT\\mira\\mirageoscience-apps",
        "C:\\Users\\dominiquef\\Documents\\GIT\\mira",
        "C:\\Users\\dominiquef\\Documents\\GIT",
        "C:\\Users\\dominiquef\\Documents",
        "C:\\Users\\dominiquef",
        "C:\\Users",
        "C:\\",
        "D:\\",
        "Z:\\"
       ],
       "index": 0,
       "layout": "IPY_MODEL_42a747a35d47466f893488a4b393cf5f",
       "style": "IPY_MODEL_0ca37e1497e84f689661542f8b081dce"
      }
     },
     "be2a9650a6a04401aad03527b1134f1b": {
      "model_module": "@jupyter-widgets/controls",
      "model_module_version": "1.5.0",
      "model_name": "VBoxModel",
      "state": {
       "children": [
        "IPY_MODEL_e1fa8562b5664a37987a8f061d86fe39"
       ],
       "layout": "IPY_MODEL_3201b4a1f0ad42938d706ea8968b430a"
      }
     },
     "be4134b59d67476fa7c9b420ab85b03e": {
      "model_module": "@jupyter-widgets/base",
      "model_module_version": "1.2.0",
      "model_name": "LayoutModel",
      "state": {
       "width": "auto"
      }
     },
     "be7d6ffe42514eceaeaeab202154fc40": {
      "model_module": "@jupyter-widgets/base",
      "model_module_version": "1.2.0",
      "model_name": "LayoutModel",
      "state": {}
     },
     "beabefe334814d9c8b3439aef6503612": {
      "model_module": "@jupyter-widgets/controls",
      "model_module_version": "1.5.0",
      "model_name": "DropdownModel",
      "state": {
       "_options_labels": [
        "C:\\Users\\dominiquef\\Documents\\GIT\\mira\\mirageoscience-apps\\assets",
        "C:\\Users\\dominiquef\\Documents\\GIT\\mira\\mirageoscience-apps",
        "C:\\Users\\dominiquef\\Documents\\GIT\\mira",
        "C:\\Users\\dominiquef\\Documents\\GIT",
        "C:\\Users\\dominiquef\\Documents",
        "C:\\Users\\dominiquef",
        "C:\\Users",
        "C:\\",
        "D:\\",
        "Z:\\"
       ],
       "index": 0,
       "layout": "IPY_MODEL_79ab31d090804d048ea53f5609b86dd2",
       "style": "IPY_MODEL_f463d4839a7442148f5d1f0045ccf59b"
      }
     },
     "bfb1a6341d1246cc8dd38d15ba365375": {
      "model_module": "@jupyter-widgets/controls",
      "model_module_version": "1.5.0",
      "model_name": "DescriptionStyleModel",
      "state": {
       "description_width": "initial"
      }
     },
     "c16cc09def874094b38aee72689d4a20": {
      "model_module": "@jupyter-widgets/controls",
      "model_module_version": "1.5.0",
      "model_name": "DescriptionStyleModel",
      "state": {
       "description_width": ""
      }
     },
     "c181952783fe4902822d5d7852963fa9": {
      "model_module": "@jupyter-widgets/base",
      "model_module_version": "1.2.0",
      "model_name": "LayoutModel",
      "state": {}
     },
     "c2104351f7894eac9c437c229b081434": {
      "model_module": "@jupyter-widgets/controls",
      "model_module_version": "1.5.0",
      "model_name": "HBoxModel",
      "state": {
       "children": [
        "IPY_MODEL_8f8efddd87fc40b38643ea74abc013ec",
        "IPY_MODEL_57cdd7fd947e4f2dbe12055a81bad9bf"
       ],
       "layout": "IPY_MODEL_8e4b2243790042539c8945119efaa042"
      }
     },
     "c26eb6330bac4dccaaaa50881e797cfc": {
      "model_module": "@jupyter-widgets/base",
      "model_module_version": "1.2.0",
      "model_name": "LayoutModel",
      "state": {
       "display": "none"
      }
     },
     "c2d843060797461c8f3baec71c03878d": {
      "model_module": "@jupyter-widgets/controls",
      "model_module_version": "1.5.0",
      "model_name": "HTMLModel",
      "state": {
       "layout": "IPY_MODEL_3d90f48fb32443089b23cad00ee7da46",
       "placeholder": "",
       "style": "IPY_MODEL_c16cc09def874094b38aee72689d4a20",
       "value": "<span style=\"margin-left:10px; color:black;\">No file selected</span>"
      }
     },
     "c32cd102780943f2b25ffeea146eba52": {
      "model_module": "@jupyter-widgets/controls",
      "model_module_version": "1.5.0",
      "model_name": "TextModel",
      "state": {
       "continuous_update": false,
       "description": "Group:",
       "layout": "IPY_MODEL_a2cd5f6841ef4a60acd5ca37e9ce1fc7",
       "style": "IPY_MODEL_34150c05ccc84f8988a62d98ac1da524"
      }
     },
     "c4b0b4a371574459973c37ed325bf23f": {
      "model_module": "@jupyter-widgets/base",
      "model_module_version": "1.2.0",
      "model_name": "LayoutModel",
      "state": {
       "display": "none"
      }
     },
     "c52c4fd718bd411ba64379d094e7e70c": {
      "model_module": "@jupyter-widgets/controls",
      "model_module_version": "1.5.0",
      "model_name": "HTMLModel",
      "state": {
       "layout": "IPY_MODEL_36074434530846d7b7321c81d3ec5cfa",
       "style": "IPY_MODEL_649fdaf1ff194895b6c9ea1b747e6cd2"
      }
     },
     "c557d686f2724b5e805eb69379551a2d": {
      "model_module": "@jupyter-widgets/controls",
      "model_module_version": "1.5.0",
      "model_name": "SelectModel",
      "state": {
       "_options_labels": [
        "..",
        "dask-worker-space",
        "images"
       ],
       "index": null,
       "layout": "IPY_MODEL_5ecca6c752f440e793200dd3160365ee",
       "rows": 8,
       "style": "IPY_MODEL_d6f1270891b3490b8962342cb494fbe4"
      }
     },
     "c5f398ffff7c4d81bc6ac09c0b1f1bd9": {
      "model_module": "@jupyter-widgets/controls",
      "model_module_version": "1.5.0",
      "model_name": "VBoxModel",
      "state": {
       "children": [
        "IPY_MODEL_1ec469fc7ff24bdcb77cfea067f08c9b",
        "IPY_MODEL_038ea5fdcb564377a1da7a40f9d279ff",
        "IPY_MODEL_fd49959d39cf4835a779bc9bcfb7d55b"
       ],
       "layout": "IPY_MODEL_1a6900eb7e264bf69a4278ab7bf45a9c"
      }
     },
     "c65b74aaa3444ab8a78271d7faecd957": {
      "model_module": "@jupyter-widgets/controls",
      "model_module_version": "1.5.0",
      "model_name": "VBoxModel",
      "state": {
       "children": [
        "IPY_MODEL_d5149c103e5f4d459457c108b988df10",
        "IPY_MODEL_c32cd102780943f2b25ffeea146eba52"
       ],
       "layout": "IPY_MODEL_1f1ef62e70754b21bd1ae41d8d6e6f4a"
      }
     },
     "c6724c7c60524c3fbf9ef61fe60186b6": {
      "model_module": "@jupyter-widgets/controls",
      "model_module_version": "1.5.0",
      "model_name": "VBoxModel",
      "state": {
       "children": [
        "IPY_MODEL_5f69462f6b224c3397eb24084eb9dec8",
        "IPY_MODEL_887ebe73a4e4448f9117cf83a56ec57f"
       ],
       "layout": "IPY_MODEL_250ba6c57845450fb01c115448f6684a"
      }
     },
     "c7019ecd34a54af3a536a3bb63546d2f": {
      "model_module": "@jupyter-widgets/controls",
      "model_module_version": "1.5.0",
      "model_name": "DropdownModel",
      "state": {
       "_options_labels": [
        "C:\\Users\\dominiquef\\Documents\\GIT\\mira\\geoapps\\docs\\content\\applications",
        "C:\\Users\\dominiquef\\Documents\\GIT\\mira\\geoapps\\docs\\content",
        "C:\\Users\\dominiquef\\Documents\\GIT\\mira\\geoapps\\docs",
        "C:\\Users\\dominiquef\\Documents\\GIT\\mira\\geoapps",
        "C:\\Users\\dominiquef\\Documents\\GIT\\mira",
        "C:\\Users\\dominiquef\\Documents\\GIT",
        "C:\\Users\\dominiquef\\Documents",
        "C:\\Users\\dominiquef",
        "C:\\Users",
        "C:\\",
        "D:\\",
        "Z:\\"
       ],
       "index": 0,
       "layout": "IPY_MODEL_1e283bb609ce4ccdb21c5c240fafbf84",
       "style": "IPY_MODEL_7e852d6e319b46d29943fa50710927f0"
      }
     },
     "c7f85ac6f1f943c18b2ba7877a1f73a9": {
      "model_module": "@jupyter-widgets/base",
      "model_module_version": "1.2.0",
      "model_name": "LayoutModel",
      "state": {
       "width": "auto"
      }
     },
     "c98a43468b6c47c1a601de64058d91c9": {
      "model_module": "@jupyter-widgets/base",
      "model_module_version": "1.2.0",
      "model_name": "LayoutModel",
      "state": {}
     },
     "ca41cd3ffab84b3cb8173ae727578a2c": {
      "model_module": "@jupyter-widgets/controls",
      "model_module_version": "1.5.0",
      "model_name": "VBoxModel",
      "state": {
       "children": [
        "IPY_MODEL_e1d3dcc4ddb74f76a8335f0b36a7815a",
        "IPY_MODEL_0af2ccb563084caf8c703463ca5aafac"
       ],
       "layout": "IPY_MODEL_90a9b61ea4a24a43b1eb59a8863558a2"
      }
     },
     "cb33a2fbed3747ce9653ed3783fffa19": {
      "model_module": "@jupyter-widgets/controls",
      "model_module_version": "1.5.0",
      "model_name": "ToggleButtonModel",
      "state": {
       "layout": "IPY_MODEL_80f8c593ea93494fba4d62db358c6592",
       "style": "IPY_MODEL_b6a7489b4ec94f05a2b7ae5378c70b71",
       "value": true
      }
     },
     "cba17293f1454cb681ddf54a81cac577": {
      "model_module": "@jupyter-widgets/base",
      "model_module_version": "1.2.0",
      "model_name": "LayoutModel",
      "state": {
       "width": "auto"
      }
     },
     "cba47c2e2ea5492f99cc441b1cccf0ae": {
      "model_module": "@jupyter-widgets/base",
      "model_module_version": "1.2.0",
      "model_name": "LayoutModel",
      "state": {}
     },
     "cbb7d61b6bc9444b9991c4fd7602542c": {
      "model_module": "@jupyter-widgets/controls",
      "model_module_version": "1.5.0",
      "model_name": "VBoxModel",
      "state": {
       "children": [
        "IPY_MODEL_c52c4fd718bd411ba64379d094e7e70c",
        "IPY_MODEL_450b6b58791841e7b01e1c583c08ddec",
        "IPY_MODEL_25f6dc24f7de4e339f0d02e23b0810bb"
       ],
       "layout": "IPY_MODEL_fa8d79aca46341fa86cdac405bfba79c"
      }
     },
     "cbc5d6a048b048bab0e583da29fe108d": {
      "model_module": "@jupyter-widgets/base",
      "model_module_version": "1.2.0",
      "model_name": "LayoutModel",
      "state": {}
     },
     "cc8aedb345d546e8ba3edac9b19e27ed": {
      "model_module": "@jupyter-widgets/base",
      "model_module_version": "1.2.0",
      "model_name": "LayoutModel",
      "state": {}
     },
     "ccdc2690f4c0429795335cf7ce96b9b2": {
      "model_module": "@jupyter-widgets/base",
      "model_module_version": "1.2.0",
      "model_name": "LayoutModel",
      "state": {
       "width": "auto"
      }
     },
     "ce94f56ef7dc4b9d9492f261c6ea1270": {
      "model_module": "@jupyter-widgets/controls",
      "model_module_version": "1.5.0",
      "model_name": "DescriptionStyleModel",
      "state": {
       "description_width": ""
      }
     },
     "ced490905d1f43239cf1bcff43930586": {
      "model_module": "@jupyter-widgets/base",
      "model_module_version": "1.2.0",
      "model_name": "LayoutModel",
      "state": {}
     },
     "cef1d8d9224846e29a52b0f075781bf8": {
      "model_module": "@jupyter-widgets/base",
      "model_module_version": "1.2.0",
      "model_name": "LayoutModel",
      "state": {}
     },
     "cef74e75048a47f3a035bc1e11afaef3": {
      "model_module": "@jupyter-widgets/base",
      "model_module_version": "1.2.0",
      "model_name": "LayoutModel",
      "state": {
       "display": "none",
       "grid_gap": "0px 0px",
       "grid_template_areas": "\n                    'pathlist filename'\n                    'dircontent dircontent'\n                    ",
       "grid_template_columns": "60% 40%",
       "grid_template_rows": "auto auto",
       "width": "500px"
      }
     },
     "cf61d713789e4c7194a0433178ef1738": {
      "model_module": "@jupyter-widgets/controls",
      "model_module_version": "1.5.0",
      "model_name": "VBoxModel",
      "state": {
       "children": [
        "IPY_MODEL_44348d5d23fb4218b33f5bd8e4f72a4a",
        "IPY_MODEL_517c02bc3cda432a930abb1ee3b38b9c"
       ],
       "layout": "IPY_MODEL_5d81b466fbac4d3093a3b855e3cb0566"
      }
     },
     "d06b71b980f047fb9150c30f524bc462": {
      "model_module": "@jupyter-widgets/controls",
      "model_module_version": "1.5.0",
      "model_name": "SelectMultipleModel",
      "state": {
       "_options_labels": [
        "Ag",
        "Al2O3",
        "As",
        "Au",
        "Ba",
        "Be",
        "Bi",
        "CaO",
        "Cd",
        "Ce",
        "Cl",
        "Co",
        "Cr",
        "Cr2O3",
        "Cs",
        "Ctot",
        "Cu",
        "Dy",
        "Er",
        "Eu",
        "F",
        "Fe2O3",
        "Ga",
        "Gd",
        "Ge",
        "Hf",
        "Hg",
        "Ho",
        "In",
        "Ir",
        "K2O",
        "LOI",
        "La",
        "Li",
        "Lu",
        "MgO",
        "MnO",
        "Mo",
        "Na2O",
        "Nb",
        "Nd",
        "NewChannel",
        "Ni",
        "Ni2",
        "P2O5",
        "Pb",
        "Pr",
        "Rb",
        "SUM",
        "Sb",
        "Sc",
        "Se",
        "SiO2",
        "Sm",
        "Sn",
        "Sr",
        "Stot",
        "Ta",
        "Tb",
        "Th",
        "Ti",
        "TiO2",
        "Tl",
        "Tm",
        "U",
        "V",
        "Visual Parameters",
        "W",
        "Y_",
        "Yb",
        "Zn",
        "Zr",
        "interval_length"
       ],
       "description": "Data: ",
       "index": [
        1,
        7
       ],
       "layout": "IPY_MODEL_ff64ab76a13d4541933c9ebbc3cc29f2",
       "rows": 5,
       "style": "IPY_MODEL_d40771fc098c49ea82453f55e325d163"
      }
     },
     "d11dca818c114bd18d4d396941ecb2c8": {
      "model_module": "@jupyter-widgets/base",
      "model_module_version": "1.2.0",
      "model_name": "LayoutModel",
      "state": {
       "grid_area": "dircontent",
       "width": "auto"
      }
     },
     "d130dd08ac04492b96944c452c2f4817": {
      "model_module": "@jupyter-widgets/controls",
      "model_module_version": "1.5.0",
      "model_name": "VBoxModel",
      "state": {
       "children": [
        "IPY_MODEL_44348d5d23fb4218b33f5bd8e4f72a4a",
        "IPY_MODEL_2ecc0f1a919e43e7a6ebbeef603238e5"
       ],
       "layout": "IPY_MODEL_3b2e3e1f94464acb90c5c61fc454e3a7"
      }
     },
     "d1f73e4d0114413ab102a119aee4e84b": {
      "model_module": "@jupyter-widgets/controls",
      "model_module_version": "1.5.0",
      "model_name": "DescriptionStyleModel",
      "state": {
       "description_width": ""
      }
     },
     "d2260f88a4e748aab3d041fa3188633f": {
      "model_module": "@jupyter-widgets/controls",
      "model_module_version": "1.5.0",
      "model_name": "SelectModel",
      "state": {
       "_options_labels": [
        "..",
        "SimPEG_PFInversion",
        "Temp",
        "dask-worker-space",
        "Crossplot.html",
        "FlinFlon.geoh5",
        "Gravity_Magnetics_drape60m_Airborne_Gxx.tif",
        "Gravity_Magnetics_drape60m_Airborne_Gxx_Colorbar.png",
        "Gravity_Magnetics_drape60m_Airborne_Gxx_RGB.txt",
        "Inversion_.json",
        "Inversion_2.json",
        "Inversion_L0L2.json",
        "Inversion_L1L2.json",
        "Inversion_MVI_susRef.json",
        "Inversion_MagSusc.json",
        "Inversion_MagSusc_noref.json",
        "Inversion_TMI.json",
        "Inversion_test.json",
        "MtDore.geoh5",
        "MtDore_TMI.geoh5",
        "Octree_Mesh.ui.geoh5",
        "Octree_Mesh.ui.json",
        "Octree_Mesh_2.ui.json",
        "Octree_Mesh_33.ui.json",
        "Octree_Mesh_44.ui.json",
        "Octree_Mesh_55.ui.json",
        "Octree_Mesh_done.ui.json",
        "Octree_Mesh_done2.ui.json",
        "Octree_Mesh_geochem.ui.json",
        "Octree_Mesh_max_dist.ui.json",
        "Octree_Mesh_max_dist_10m.ui.json",
        "Octree_Mesh_ore.ui.json",
        "Octree_Mesh_padded.ui.json",
        "Octree_Mesh_surf.ui.json",
        "Octree_Mesh_v2.ui.json",
        "Octree_Mesh_v3.ui.geoh5",
        "Octree_Mesh_v3.ui.json",
        "Octree_Mesh_v4.ui.geoh5",
        "Octree_Mesh_v4.ui.json",
        "Octree_Mesh_v5.ui.json",
        "Octree_Mesh_v6.ui.geoh5",
        "Octree_Mesh_v6.ui.json",
        "Octree_Mesh_v7.ui.json",
        "default_mvi.ui.geoh5",
        "default_mvi.ui.json",
        "demo.ipynb",
        "edge_tester.geoh5",
        "input.ui.json",
        "live_update_demo.ipynb",
        "live_update_demo.ipynb.zip",
        "options_tree.json",
        "project.geoh5",
        "testPoints.geoh5",
        "tester.ui.geoh5",
        "tester.ui.json"
       ],
       "index": 5,
       "layout": "IPY_MODEL_998b3f8cf70449f2a062a6ff72e209da",
       "rows": 8,
       "style": "IPY_MODEL_66687910e1214460b6a2e6fe4a32a6d5"
      }
     },
     "d24e5e1a26014a71a7d48355ad47111d": {
      "model_module": "@jupyter-widgets/base",
      "model_module_version": "1.2.0",
      "model_name": "LayoutModel",
      "state": {
       "display": "none",
       "grid_area": "filename",
       "width": "auto"
      }
     },
     "d2ecfe46cc3c410f8fa8e71dcd2f8c91": {
      "model_module": "@jupyter-widgets/base",
      "model_module_version": "1.2.0",
      "model_name": "LayoutModel",
      "state": {}
     },
     "d2fa9b18f6a3429f8c1734f7e9d4b617": {
      "model_module": "@jupyter-widgets/controls",
      "model_module_version": "1.5.0",
      "model_name": "ButtonStyleModel",
      "state": {}
     },
     "d342c32b359840af8488a32f49b3a4c5": {
      "model_module": "@jupyter-widgets/base",
      "model_module_version": "1.2.0",
      "model_name": "LayoutModel",
      "state": {}
     },
     "d40771fc098c49ea82453f55e325d163": {
      "model_module": "@jupyter-widgets/controls",
      "model_module_version": "1.5.0",
      "model_name": "DescriptionStyleModel",
      "state": {
       "description_width": "initial"
      }
     },
     "d5149c103e5f4d459457c108b988df10": {
      "model_module": "@jupyter-widgets/controls",
      "model_module_version": "1.5.0",
      "model_name": "ButtonModel",
      "state": {
       "button_style": "danger",
       "description": "Compute",
       "icon": "check",
       "layout": "IPY_MODEL_76023be53e3843f69447960eaaf024d5",
       "style": "IPY_MODEL_9c27195251904c5a9ce63cc8409b7d75",
       "tooltip": "Run computation"
      }
     },
     "d5ea54edffb04dba895eca74b6c4dfeb": {
      "model_module": "@jupyter-widgets/controls",
      "model_module_version": "1.5.0",
      "model_name": "ButtonModel",
      "state": {
       "description": "Change",
       "layout": "IPY_MODEL_49286708e8de4f97a6e89a903b51a6ab",
       "style": "IPY_MODEL_7571401917df4970a3a656545c8c333c"
      }
     },
     "d6846bdf76654da4a8d73d0e1f713363": {
      "model_module": "@jupyter-widgets/controls",
      "model_module_version": "1.5.0",
      "model_name": "ButtonModel",
      "state": {
       "description": "Change",
       "layout": "IPY_MODEL_7d87ae57cd4f46f79aa0009fce0fb8d0",
       "style": "IPY_MODEL_198dcfd710ed4b6d8db58b0add5fc629"
      }
     },
     "d684803faf604ebd8afc0be81595609a": {
      "model_module": "@jupyter-widgets/base",
      "model_module_version": "1.2.0",
      "model_name": "LayoutModel",
      "state": {
       "grid_area": "pathlist",
       "width": "auto"
      }
     },
     "d6f1270891b3490b8962342cb494fbe4": {
      "model_module": "@jupyter-widgets/controls",
      "model_module_version": "1.5.0",
      "model_name": "DescriptionStyleModel",
      "state": {
       "description_width": ""
      }
     },
     "d775bb6a5b2e47fbbe48e5b9f3480615": {
      "model_module": "@jupyter-widgets/controls",
      "model_module_version": "1.5.0",
      "model_name": "HBoxModel",
      "state": {
       "children": [
        "IPY_MODEL_7342a1a0ca324b48bdd18609738e8418",
        "IPY_MODEL_0bcd5886adba47f9a33c6314ef1bec15"
       ],
       "layout": "IPY_MODEL_cba47c2e2ea5492f99cc441b1cccf0ae"
      }
     },
     "d90308ec208844fe9c32b1084b097c7a": {
      "model_module": "@jupyter-widgets/controls",
      "model_module_version": "1.5.0",
      "model_name": "ButtonModel",
      "state": {
       "description": "Cancel",
       "layout": "IPY_MODEL_9bc2791663cb499fa6b396b6aa2436d8",
       "style": "IPY_MODEL_b569327e3d614cc19619336b6b5ff7b5"
      }
     },
     "d91f3927287e4324822136b088666fd2": {
      "model_module": "@jupyter-widgets/controls",
      "model_module_version": "1.5.0",
      "model_name": "DescriptionStyleModel",
      "state": {
       "description_width": "initial"
      }
     },
     "dac8b148e35c4be292b7fcd1a03dad5f": {
      "model_module": "@jupyter-widgets/controls",
      "model_module_version": "1.5.0",
      "model_name": "DescriptionStyleModel",
      "state": {
       "description_width": "initial"
      }
     },
     "daf1ea5f1eb04c1c9120621d5609ea33": {
      "model_module": "@jupyter-widgets/base",
      "model_module_version": "1.2.0",
      "model_name": "LayoutModel",
      "state": {}
     },
     "dc1b4ed935ef40729c481af865b57e67": {
      "model_module": "@jupyter-widgets/controls",
      "model_module_version": "1.5.0",
      "model_name": "HBoxModel",
      "state": {
       "children": [
        "IPY_MODEL_39cdd1b1e32e4b01b02b6c04062c2019",
        "IPY_MODEL_62ca0e1592ab4f3c9805222b955cf965",
        "IPY_MODEL_347688dc2d714319a76242e4d954882d"
       ],
       "layout": "IPY_MODEL_80466409df824d2481e35f6bbeb8d81e"
      }
     },
     "dc870b2beb7c4d06a960dd32f32240bd": {
      "model_module": "@jupyter-widgets/controls",
      "model_module_version": "1.5.0",
      "model_name": "VBoxModel",
      "state": {
       "children": [
        "IPY_MODEL_18f384d8c308450cb81a8f49b20e5d96",
        "IPY_MODEL_8fbf1864af64497c8ca7a029d56506b4"
       ],
       "layout": "IPY_MODEL_83d1b7f9bdfe47f5b393480ff25375a5"
      }
     },
     "dd3ff830dddd4cc0b5fc4c776de77116": {
      "model_module": "@jupyter-widgets/controls",
      "model_module_version": "1.5.0",
      "model_name": "DescriptionStyleModel",
      "state": {
       "description_width": "initial"
      }
     },
     "ddd09c5819024cdfbb8b5c0d700b226a": {
      "model_module": "@jupyter-widgets/base",
      "model_module_version": "1.2.0",
      "model_name": "LayoutModel",
      "state": {}
     },
     "deef56f3cd1b489286cbe2662dbc13ad": {
      "model_module": "@jupyter-widgets/controls",
      "model_module_version": "1.5.0",
      "model_name": "VBoxModel",
      "state": {
       "children": [
        "IPY_MODEL_7d9e2eb4b42e4a66bca5f0c62aa4088f",
        "IPY_MODEL_c2104351f7894eac9c437c229b081434"
       ],
       "layout": "IPY_MODEL_aec9d37a1aa64e02b38c0850f7410e69"
      }
     },
     "def68c07924e45a5b792e8552f15e72c": {
      "model_module": "@jupyter-widgets/controls",
      "model_module_version": "1.5.0",
      "model_name": "DescriptionStyleModel",
      "state": {
       "description_width": ""
      }
     },
     "df001983529f480e8fb6147d1c04fd67": {
      "model_module": "@jupyter-widgets/controls",
      "model_module_version": "1.5.0",
      "model_name": "VBoxModel",
      "state": {
       "children": [
        "IPY_MODEL_e834c327c3a548928b59e424c308e260",
        "IPY_MODEL_7342a1a0ca324b48bdd18609738e8418"
       ],
       "layout": "IPY_MODEL_031d1bb5c9b5436fa9b16653171f1c8b"
      }
     },
     "df9ca406409b48869b3a8a518e84b050": {
      "model_module": "@jupyter-widgets/controls",
      "model_module_version": "1.5.0",
      "model_name": "TextModel",
      "state": {
       "description": "Name: ",
       "layout": "IPY_MODEL_c181952783fe4902822d5d7852963fa9",
       "style": "IPY_MODEL_9d039af502614da088360beee683050b"
      }
     },
     "e1d3dcc4ddb74f76a8335f0b36a7815a": {
      "model_module": "@jupyter-widgets/controls",
      "model_module_version": "1.5.0",
      "model_name": "VBoxModel",
      "state": {
       "children": [
        "IPY_MODEL_1e083171df5847a6bdb11da025808dd1",
        "IPY_MODEL_efb05e7b55f7440ebde6d9c340ae86f7"
       ],
       "layout": "IPY_MODEL_26a6531b46db40d6b96d50dcccd94405"
      }
     },
     "e1e2b1b0a29a4b3eb77d889708403585": {
      "model_module": "@jupyter-widgets/controls",
      "model_module_version": "1.5.0",
      "model_name": "ButtonStyleModel",
      "state": {}
     },
     "e1fa8562b5664a37987a8f061d86fe39": {
      "model_module": "@jupyter-widgets/controls",
      "model_module_version": "1.5.0",
      "model_name": "CheckboxModel",
      "state": {
       "description": "GA Pro - Live link",
       "disabled": false,
       "indent": false,
       "layout": "IPY_MODEL_6b3da000e6ad489b81e9153befe54147",
       "style": "IPY_MODEL_3f1ec89b71074a82b4934cbea823af3c",
       "value": false
      }
     },
     "e2009489ca1246bf819184a12f1890ff": {
      "model_module": "@jupyter-widgets/controls",
      "model_module_version": "1.5.0",
      "model_name": "ButtonStyleModel",
      "state": {}
     },
     "e31dfe88897d4132b76c816915803e9e": {
      "model_module": "@jupyter-widgets/base",
      "model_module_version": "1.2.0",
      "model_name": "LayoutModel",
      "state": {}
     },
     "e3946f7fcd154ef2969664d14bcaf0c8": {
      "model_module": "@jupyter-widgets/controls",
      "model_module_version": "1.5.0",
      "model_name": "VBoxModel",
      "state": {
       "children": [
        "IPY_MODEL_d5149c103e5f4d459457c108b988df10",
        "IPY_MODEL_ff74c80646bd45498f7d4eec2e27890b"
       ],
       "layout": "IPY_MODEL_9d0d1261a2234e3781ce24ce0f706d6c"
      }
     },
     "e68944fc50b64949b710f3036b311945": {
      "model_module": "@jupyter-widgets/controls",
      "model_module_version": "1.5.0",
      "model_name": "HTMLModel",
      "state": {
       "layout": "IPY_MODEL_318d75d07c3240d5a94ed37676a0bd7c",
       "placeholder": "",
       "style": "IPY_MODEL_83b97c784be346e1bb3ab67a4e81bde2",
       "value": "<span style=\"margin-left:10px; color:black;\">No file selected</span>"
      }
     },
     "e6ccdfb0a47941f08222623dcc3f4315": {
      "model_module": "@jupyter-widgets/base",
      "model_module_version": "1.2.0",
      "model_name": "LayoutModel",
      "state": {
       "width": "auto"
      }
     },
     "e834c327c3a548928b59e424c308e260": {
      "model_module": "@jupyter-widgets/controls",
      "model_module_version": "1.5.0",
      "model_name": "DropdownModel",
      "state": {
       "_options_labels": [
        "",
        "Data_TEM_pseudo3DEPSG_4326",
        "Gravity_Magnetics_drape60mEPSG_4326",
        "Iso_Iteration_7_model_0.015",
        "Iso_Iteration_7_model_0.01",
        "Iso_Iteration_7_model_0.02",
        "Iso_Iteration_7_model_0.005",
        "Iso_Iteration_7_model_0.0025",
        "fault_splay1",
        "fault_Cliff_Lake",
        "fault_Other_FlinFlon",
        "fault_Club_Lake_splay",
        "fault_Catherine_splay2",
        "fault_Birch_View",
        "fault_Dion_Lake",
        "fault_FlinFlon_splay",
        "fault_West_Mandy_Road",
        "fault_Channing",
        "fault_Ross_Lake",
        "fault_Louis_Hidden",
        "fault_Lake_View_thrust",
        "contact_Schist_Lake",
        "fault_Burley_Lake",
        "fault_Dion_Lake_splay",
        "fault_Green_Lake",
        "fault_FlinFlon",
        "fault_Catherine_splay1",
        "fault_East_Mandy_Road",
        "fault_Other_FlinFlon_South",
        "fault_Catherine_splay4",
        "contact_Stitt_Island",
        "fault_Club_Lake",
        "fault_Tailing_Pond",
        "35_Hidden_Reservoir_Hr5",
        "29_Hidden_Reservoir_Hr1a",
        "60_BlueLagoon_Fb2",
        "20_FlinFlon_Undivided_Int_Dykes_D2f",
        "04_Boundary_Intrusive_S4h",
        "53_Millrock_Rhyolite_Fm4b",
        "19_FlinFlon_Undivided_Int_Dykes_D2b",
        "18_FlinFlon_Undivided_Int_Dykes_777_D2b",
        "06_Phantom_Lake_Intrusive_S3a",
        "21_FlinFlon_Undivided_Int_Dykes_D3a",
        "43_Millrock_CHLSH_South",
        "56_Millrock_Basalt_Fm1ba",
        "17_FlinFlon_Undivided_Int_Dykes_D2",
        "32_Hidden_Reservoir_Hr1b_SW",
        "11_Missi_M3_NE",
        "13_Missi_M1",
        "07_Annabel_Granitoid_S1",
        "45_Millrock_Gabbro_South",
        "01_Late_Intrusive_S5b",
        "31_Hidden_Reservoir_Hr1c_SW",
        "52_Millrock_Rhyolite_Fm4_West_check",
        "55_Millrock_Basalt_Fm1bf",
        "34_Hidden_Reservoir_Hr2b",
        "03_Boundary_Intrusive_S4b",
        "42_Millrock_CHLSH_North",
        "26_Louis_L3",
        "23_FlinFlon_Undivided_Int_Felsic_D4g",
        "30_Hidden_Reservoir_Hr1b",
        "59_BlueLagoon_Fb3",
        "49_Millrock_MVR_Fm5d",
        "44_Millrock_Gabbro_North",
        "27_Hidden_Carlisle_Hc4",
        "22_FlinFlon_Undivided_Int_Felsic_D4e",
        "02_Boundary_Intrusive_S4a",
        "61_BlueLagoon_Fb1_NW",
        "05_Boundary_Intrusive_S4g",
        "39_Ore_Callinan",
        "38_Ore_Dan_Owens",
        "40_Ore_FlinFlon",
        "Inversion_VTEM_Model",
        "Gravity_Magnetics_drape60m",
        "CDI_VTEM_model",
        "Data_FEM_pseudo3D",
        "O2O_Interp_25m",
        "geochem",
        "Inversion_DIGHEM_Model",
        "Topography",
        "Data_TEM_pseudo3D"
       ],
       "description": "Object:",
       "index": 77,
       "layout": "IPY_MODEL_e8c93ae97557422386ef3282231a555a",
       "style": "IPY_MODEL_973bee7d4b3b4db48c7a05b1f7bf68fe"
      }
     },
     "e84dad1ba6bd4010925e532fca56b773": {
      "model_module": "@jupyter-widgets/controls",
      "model_module_version": "1.5.0",
      "model_name": "ButtonModel",
      "state": {
       "description": "Cancel",
       "layout": "IPY_MODEL_ae09e60d162347679a182a93738acb60",
       "style": "IPY_MODEL_286a4159435241d58167710b6290ac3d"
      }
     },
     "e89266a333af4596bb1df459010cc5a9": {
      "model_module": "@jupyter-widgets/controls",
      "model_module_version": "1.5.0",
      "model_name": "VBoxModel",
      "state": {
       "children": [
        "IPY_MODEL_432ffe8cefb6489893874ba5bf91cc2b",
        "IPY_MODEL_79582cdfa3c24c9bb3da30251c065774",
        "IPY_MODEL_dc1b4ed935ef40729c481af865b57e67"
       ],
       "layout": "IPY_MODEL_e6ccdfb0a47941f08222623dcc3f4315"
      }
     },
     "e8c93ae97557422386ef3282231a555a": {
      "model_module": "@jupyter-widgets/base",
      "model_module_version": "1.2.0",
      "model_name": "LayoutModel",
      "state": {}
     },
     "ea0a006d85cc48ed97c6f9ec8e99dd38": {
      "model_module": "@jupyter-widgets/controls",
      "model_module_version": "1.5.0",
      "model_name": "LabelModel",
      "state": {
       "layout": "IPY_MODEL_f997d015d486456287dc15e00dbb5fdd",
       "style": "IPY_MODEL_0921ca8a454a4d5a9906f2387174a295",
       "value": "Workspace"
      }
     },
     "ea3cc8e79b284f5383744161d1793bd9": {
      "model_module": "@jupyter-widgets/controls",
      "model_module_version": "1.5.0",
      "model_name": "DescriptionStyleModel",
      "state": {
       "description_width": ""
      }
     },
     "ea64514b2b7a4989ae6e10acaea5db52": {
      "model_module": "@jupyter-widgets/controls",
      "model_module_version": "1.5.0",
      "model_name": "VBoxModel",
      "state": {
       "children": [
        "IPY_MODEL_4144b94e98404d0d97ec43e14959228b",
        "IPY_MODEL_cbb7d61b6bc9444b9991c4fd7602542c"
       ],
       "layout": "IPY_MODEL_1ec87652b12846599205422493eb23af"
      }
     },
     "eab79d245d9e4095bb20712915ae9a0f": {
      "model_module": "@jupyter-widgets/base",
      "model_module_version": "1.2.0",
      "model_name": "LayoutModel",
      "state": {
       "width": "auto"
      }
     },
     "ebba8129b2aa46ccaaa61608b26f0db0": {
      "model_module": "@jupyter-widgets/controls",
      "model_module_version": "1.5.0",
      "model_name": "DescriptionStyleModel",
      "state": {
       "description_width": ""
      }
     },
     "ecb1458847f44f05b088f735c40d3bde": {
      "model_module": "@jupyter-widgets/base",
      "model_module_version": "1.2.0",
      "model_name": "LayoutModel",
      "state": {
       "display": "none",
       "grid_gap": "0px 0px",
       "grid_template_areas": "\n                    'pathlist pathlist'\n                    'dircontent dircontent'\n                    ",
       "grid_template_columns": "60% 40%",
       "grid_template_rows": "auto auto",
       "width": "500px"
      }
     },
     "ecbb582e155f44e7a007ba22278ff6a2": {
      "model_module": "@jupyter-widgets/base",
      "model_module_version": "1.2.0",
      "model_name": "LayoutModel",
      "state": {}
     },
     "ecd99e37a6624cafa4f1e89e82474a4b": {
      "model_module": "@jupyter-widgets/base",
      "model_module_version": "1.2.0",
      "model_name": "LayoutModel",
      "state": {
       "width": "auto"
      }
     },
     "ee016868fa6b49ee9f2690ed2545c6b6": {
      "model_module": "@jupyter-widgets/controls",
      "model_module_version": "1.5.0",
      "model_name": "VBoxModel",
      "state": {
       "children": [
        "IPY_MODEL_9d772744804149c2a8b0029fe66a8398",
        "IPY_MODEL_a33ff9dfb7ed490ab6759160cc34b453",
        "IPY_MODEL_35daf9bb5512405686a4e390f5d6f674"
       ],
       "layout": "IPY_MODEL_eab79d245d9e4095bb20712915ae9a0f"
      }
     },
     "ee96b337ff6d4018b54e39fc93333f3b": {
      "model_module": "@jupyter-widgets/base",
      "model_module_version": "1.2.0",
      "model_name": "LayoutModel",
      "state": {}
     },
     "eeb78110235f49fd93b799f181f699a3": {
      "model_module": "@jupyter-widgets/base",
      "model_module_version": "1.2.0",
      "model_name": "LayoutModel",
      "state": {
       "width": "auto"
      }
     },
     "efb05e7b55f7440ebde6d9c340ae86f7": {
      "model_module": "@jupyter-widgets/controls",
      "model_module_version": "1.5.0",
      "model_name": "TextModel",
      "state": {
       "continuous_update": false,
       "description": "Group:",
       "layout": "IPY_MODEL_ba38c258744c4f45976651b122117141",
       "style": "IPY_MODEL_59ac3ada6a694d5596a40117a2f507bc"
      }
     },
     "f00e868a43794d62870986904ded3519": {
      "model_module": "@jupyter-widgets/base",
      "model_module_version": "1.2.0",
      "model_name": "LayoutModel",
      "state": {
       "grid_area": "dircontent",
       "width": "auto"
      }
     },
     "f1bdeadf9c964a879a065c6ccef91f6f": {
      "model_module": "@jupyter-widgets/base",
      "model_module_version": "1.2.0",
      "model_name": "LayoutModel",
      "state": {}
     },
     "f224705a2bc24ebea42f4a90e1d0dc0c": {
      "model_module": "@jupyter-widgets/controls",
      "model_module_version": "1.5.0",
      "model_name": "DescriptionStyleModel",
      "state": {
       "description_width": "initial"
      }
     },
     "f280b831049e45169f0fa362c51fc7ef": {
      "model_module": "@jupyter-widgets/base",
      "model_module_version": "1.2.0",
      "model_name": "LayoutModel",
      "state": {}
     },
     "f3ea9627b0cc4678baa78ecc4eab5799": {
      "model_module": "@jupyter-widgets/controls",
      "model_module_version": "1.5.0",
      "model_name": "VBoxModel",
      "state": {
       "children": [
        "IPY_MODEL_4921c003808748509290744a542dc955",
        "IPY_MODEL_60ea1a09cd4a489881754638744e073a",
        "IPY_MODEL_a6200443af8043639f276afdf657360f"
       ],
       "layout": "IPY_MODEL_cba17293f1454cb681ddf54a81cac577"
      }
     },
     "f443b7a68a6b474fa1be790e963c145f": {
      "model_module": "@jupyter-widgets/controls",
      "model_module_version": "1.5.0",
      "model_name": "LabelModel",
      "state": {
       "layout": "IPY_MODEL_78463de9d93f4653bdfdc29a9937e617",
       "style": "IPY_MODEL_dd3ff830dddd4cc0b5fc4c776de77116",
       "value": "Workspace"
      }
     },
     "f463d4839a7442148f5d1f0045ccf59b": {
      "model_module": "@jupyter-widgets/controls",
      "model_module_version": "1.5.0",
      "model_name": "DescriptionStyleModel",
      "state": {
       "description_width": ""
      }
     },
     "f4b2d9b37d684ca98c7eefe682fc5632": {
      "model_module": "@jupyter-widgets/controls",
      "model_module_version": "1.5.0",
      "model_name": "ButtonStyleModel",
      "state": {}
     },
     "f4f67178a8a4499585408de1ec3a35c0": {
      "model_module": "@jupyter-widgets/controls",
      "model_module_version": "1.5.0",
      "model_name": "DescriptionStyleModel",
      "state": {
       "description_width": ""
      }
     },
     "f5363637a4e549e4912d50e20791e437": {
      "model_module": "@jupyter-widgets/controls",
      "model_module_version": "1.5.0",
      "model_name": "CheckboxModel",
      "state": {
       "description": "GA Pro - Live link",
       "disabled": false,
       "indent": false,
       "layout": "IPY_MODEL_ad1780e200d0480fa5dcb78fd3738d75",
       "style": "IPY_MODEL_767aeb8b2dc94311b621039a0af02a99",
       "value": false
      }
     },
     "f615003ac3fb4583a307b32e7183ebed": {
      "model_module": "@jupyter-widgets/controls",
      "model_module_version": "1.5.0",
      "model_name": "DescriptionStyleModel",
      "state": {
       "description_width": ""
      }
     },
     "f6e7c556428042cda088c602e7b3d0c8": {
      "model_module": "@jupyter-widgets/controls",
      "model_module_version": "1.5.0",
      "model_name": "DescriptionStyleModel",
      "state": {
       "description_width": ""
      }
     },
     "f98f933924f4430099a6f5ec87629236": {
      "model_module": "@jupyter-widgets/base",
      "model_module_version": "1.2.0",
      "model_name": "LayoutModel",
      "state": {
       "width": "75%"
      }
     },
     "f997d015d486456287dc15e00dbb5fdd": {
      "model_module": "@jupyter-widgets/base",
      "model_module_version": "1.2.0",
      "model_name": "LayoutModel",
      "state": {}
     },
     "f9b342736fcb4dfdaf5fd5bdb87a6950": {
      "model_module": "@jupyter-widgets/controls",
      "model_module_version": "1.5.0",
      "model_name": "DescriptionStyleModel",
      "state": {
       "description_width": ""
      }
     },
     "fa2315eeba3d4ed2a14306d675f99fde": {
      "model_module": "@jupyter-widgets/controls",
      "model_module_version": "1.5.0",
      "model_name": "ButtonModel",
      "state": {
       "description": "Create copy:",
       "layout": "IPY_MODEL_d342c32b359840af8488a32f49b3a4c5",
       "style": "IPY_MODEL_0f6fc082abb145e5bff15b32c5057a3e"
      }
     },
     "fa2ec05131984c29a30a0270759caaf6": {
      "model_module": "@jupyter-widgets/controls",
      "model_module_version": "1.5.0",
      "model_name": "VBoxModel",
      "state": {
       "children": [
        "IPY_MODEL_0ed9dd8d825843df84a213b2723bbd03",
        "IPY_MODEL_ca41cd3ffab84b3cb8173ae727578a2c"
       ],
       "layout": "IPY_MODEL_0c069f01572b45f0bdee4aff54542d5f"
      }
     },
     "fa42f6591c5f486f8a61de53adcd041c": {
      "model_module": "@jupyter-widgets/base",
      "model_module_version": "1.2.0",
      "model_name": "LayoutModel",
      "state": {}
     },
     "fa8d79aca46341fa86cdac405bfba79c": {
      "model_module": "@jupyter-widgets/base",
      "model_module_version": "1.2.0",
      "model_name": "LayoutModel",
      "state": {
       "width": "auto"
      }
     },
     "fb0c5be288674cae87f2cdbfa5fe2cee": {
      "model_module": "@jupyter-widgets/controls",
      "model_module_version": "1.5.0",
      "model_name": "DescriptionStyleModel",
      "state": {
       "description_width": ""
      }
     },
     "fb320a97bd064d089ae92f13bad231f7": {
      "model_module": "@jupyter-widgets/base",
      "model_module_version": "1.2.0",
      "model_name": "LayoutModel",
      "state": {}
     },
     "fc5816358750420790655c5961b1d49a": {
      "model_module": "@jupyter-widgets/controls",
      "model_module_version": "1.5.0",
      "model_name": "CheckboxModel",
      "state": {
       "description": "GA Pro - Live link",
       "disabled": false,
       "indent": false,
       "layout": "IPY_MODEL_f1bdeadf9c964a879a065c6ccef91f6f",
       "style": "IPY_MODEL_a84de3f20cf24e659037f3298445bdbb",
       "value": false
      }
     },
     "fcb908e96d49465fa4dcd28393726869": {
      "model_module": "@jupyter-widgets/controls",
      "model_module_version": "1.5.0",
      "model_name": "ButtonModel",
      "state": {
       "description": "Create copy:",
       "layout": "IPY_MODEL_41b0411c5d2d4d9cb2a4c65e7a9fb3b5",
       "style": "IPY_MODEL_a03b42d8492e4030a47c04b333f99ddb"
      }
     },
     "fd34562ee13c45469a71b607b3c3bd43": {
      "model_module": "@jupyter-widgets/controls",
      "model_module_version": "1.5.0",
      "model_name": "ButtonStyleModel",
      "state": {}
     },
     "fd49959d39cf4835a779bc9bcfb7d55b": {
      "model_module": "@jupyter-widgets/controls",
      "model_module_version": "1.5.0",
      "model_name": "HBoxModel",
      "state": {
       "children": [
        "IPY_MODEL_2b113ad4bd02424498eb4072f41a55c5",
        "IPY_MODEL_877c34ae5e9d42308b8b75936e5fbbd2",
        "IPY_MODEL_a661f1e9ce584b2eae48082c4f237785"
       ],
       "layout": "IPY_MODEL_c7f85ac6f1f943c18b2ba7877a1f73a9"
      }
     },
     "fd7beae794a6456796d9ce7dc3b8a07f": {
      "model_module": "@jupyter-widgets/controls",
      "model_module_version": "1.5.0",
      "model_name": "TextModel",
      "state": {
       "description": "Name: ",
       "layout": "IPY_MODEL_cbc5d6a048b048bab0e583da29fe108d",
       "style": "IPY_MODEL_891d60ce666c4eadb2011ee7014051d0"
      }
     },
     "ff18fdd196de4496bf31324cb4f9eade": {
      "model_module": "@jupyter-widgets/controls",
      "model_module_version": "1.5.0",
      "model_name": "DescriptionStyleModel",
      "state": {
       "description_width": ""
      }
     },
     "ff64ab76a13d4541933c9ebbc3cc29f2": {
      "model_module": "@jupyter-widgets/base",
      "model_module_version": "1.2.0",
      "model_name": "LayoutModel",
      "state": {}
     },
     "ff74c80646bd45498f7d4eec2e27890b": {
      "model_module": "@jupyter-widgets/controls",
      "model_module_version": "1.5.0",
      "model_name": "VBoxModel",
      "state": {
       "children": [
        "IPY_MODEL_fc5816358750420790655c5961b1d49a"
       ],
       "layout": "IPY_MODEL_034f5d59d27f4c81ba0282b818642842"
      }
     },
     "ffaea2f9e31449259dcbecf01d9621af": {
      "model_module": "@jupyter-widgets/controls",
      "model_module_version": "1.5.0",
      "model_name": "VBoxModel",
      "state": {
       "children": [
        "IPY_MODEL_6f75d8be0c3942a8aa7e2ed75f9b6f7f",
        "IPY_MODEL_8189d8e7c48e4d9482a189fef12e64a6"
       ],
       "layout": "IPY_MODEL_bae0000afe06410f9699b6c3da8bd797"
      }
     }
    },
    "version_major": 2,
    "version_minor": 0
   }
  }
 },
 "nbformat": 4,
 "nbformat_minor": 5
}

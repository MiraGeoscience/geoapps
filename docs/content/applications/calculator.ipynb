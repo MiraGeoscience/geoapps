version https://git-lfs.github.com/spec/v1
oid sha256:874ca7e7573f2ed70a05c9a7222f04c5eb39417f5d115c5964f56415e3cc27c0
size 3312467

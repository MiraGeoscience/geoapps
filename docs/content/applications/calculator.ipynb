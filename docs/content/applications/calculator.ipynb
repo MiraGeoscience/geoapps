version https://git-lfs.github.com/spec/v1
oid sha256:d14b43fbdf32511878f87c9947d2b540d21d3e02313aac56755457a5d89ce7e9
size 3230800

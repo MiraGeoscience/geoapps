version https://git-lfs.github.com/spec/v1
oid sha256:92b3b0480b3b8224d8a0896e4164d73ccccaf01b2e51af64228889cfab9bda7a
size 22526583

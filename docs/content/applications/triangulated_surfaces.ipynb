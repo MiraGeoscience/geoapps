version https://git-lfs.github.com/spec/v1
oid sha256:588322a06187026ef731759d340da4372c82f2555aa7bd950acbdaf386445ac6
size 19060750

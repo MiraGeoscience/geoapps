version https://git-lfs.github.com/spec/v1
oid sha256:24b1583b81edfc0ca8980f5cdca26b00372e842aca638f6179fa36bb0932df06
size 884742

{
 "cells": [
  {
   "cell_type": "markdown",
   "metadata": {},
   "source": [
    "# Contours\n",
    "\n",
    "With this application, users can create contours from data stored on points,\n",
    "curve, surface or grid objects.  The application relies on the [matplotlib.pyplot](https://matplotlib.org/api/pyplot_summary.html?highlight=pyplot) contouring routines. The result can be exported to [Geoscience ANALYST](https://mirageoscience.com/mining-industry-software/geoscience-analyst/) as either 2D or 3D curves.\n",
    "\n",
    " <img align=\"right\" width=\"50%\" src=\"./images/Contouring_app.png\">  \n",
    " \n",
    "\n",
    "New user? Visit the [Getting Started](../installation.rst) page.\n",
    "\n",
    "[Video tutorial available on Youtube](https://youtu.be/sjaQzZlm8qQ)"
   ]
  },
  {
   "cell_type": "markdown",
   "metadata": {},
   "source": [
    "## Application\n",
    "The following sections provide details on the different parameters controling the application. Interactive widgets shown below are for demonstration purposes only."
   ]
  },
  {
   "cell_type": "code",
   "execution_count": 1,
   "metadata": {
    "scrolled": false
   },
   "outputs": [
    {
     "data": {
      "application/vnd.jupyter.widget-view+json": {
       "model_id": "fe06e09727e448aba81684a551ce3670",
       "version_major": 2,
       "version_minor": 0
      },
      "text/plain": [
       "VBox(children=(VBox(children=(Label(value='Workspace', style=DescriptionStyle(description_width='initial')), H…"
      ]
     },
     "metadata": {},
     "output_type": "display_data"
    }
   ],
   "source": [
    "from geoapps.processing import ContourValues\n",
    "\n",
    "app = ContourValues(h5file=r\"../../../assets/FlinFlon.geoh5\")\n",
    "app.main"
   ]
  },
  {
   "cell_type": "markdown",
   "metadata": {},
   "source": [
    "## Project Selection\n",
    "\n",
    "Select and connect to an existing **geoh5** project file containing data. "
   ]
  },
  {
   "cell_type": "code",
   "execution_count": 2,
   "metadata": {},
   "outputs": [
    {
     "data": {
      "application/vnd.jupyter.widget-view+json": {
       "model_id": "5e411679fb164af886853f8d1c7fb5c9",
       "version_major": 2,
       "version_minor": 0
      },
      "text/plain": [
       "VBox(children=(Label(value='Workspace', style=DescriptionStyle(description_width='initial')), HBox(children=(F…"
      ]
     },
     "metadata": {},
     "output_type": "display_data"
    }
   ],
   "source": [
    "app.project_panel"
   ]
  },
  {
   "cell_type": "markdown",
   "metadata": {},
   "source": [
    "See the [Project Panel](base_application.ipynb#Project-Panel) page for more details."
   ]
  },
  {
   "cell_type": "markdown",
   "metadata": {},
   "source": [
    "## Object/Data Selection\n",
    "\n",
    "List of objects available to pull data from. "
   ]
  },
  {
   "cell_type": "code",
   "execution_count": 3,
   "metadata": {},
   "outputs": [
    {
     "data": {
      "application/vnd.jupyter.widget-view+json": {
       "model_id": "e9a1a1d253f24e9cb7f1232e59873384",
       "version_major": 2,
       "version_minor": 0
      },
      "text/plain": [
       "VBox(children=(Dropdown(description='Object:', index=66, options=('', 'fault_splay1', 'fault_Cliff_Lake', 'fau…"
      ]
     },
     "metadata": {},
     "output_type": "display_data"
    }
   ],
   "source": [
    "app.data_panel"
   ]
  },
  {
   "cell_type": "markdown",
   "metadata": {},
   "source": [
    "See the [Object Selection](object_data_selection.ipynb) page for more details."
   ]
  },
  {
   "cell_type": "markdown",
   "metadata": {},
   "source": [
    "## Contour selection\n",
    "\n",
    "Numerical values or range of values to draw contours at. Two formats are possible\n",
    "\n",
    "- *Value*: (e.g.**-240**) Draws contours at value -240\n",
    "- *Interval*: (e.g. **400:2000:50**) Draws contours between values -400 to 2000 at every 50 increment."
   ]
  },
  {
   "cell_type": "code",
   "execution_count": 4,
   "metadata": {},
   "outputs": [
    {
     "data": {
      "application/vnd.jupyter.widget-view+json": {
       "model_id": "d47c3e9f9a0549feb9f62d7bc85068ed",
       "version_major": 2,
       "version_minor": 0
      },
      "text/plain": [
       "Text(value='-400:2000:100,-240', continuous_update=False, description='Contours', style=DescriptionStyle(descr…"
      ]
     },
     "metadata": {},
     "output_type": "display_data"
    }
   ],
   "source": [
    "app.contours"
   ]
  },
  {
   "cell_type": "markdown",
   "metadata": {},
   "source": [
    "Combination of both formats is allowed, in any order, as shown above."
   ]
  },
  {
   "cell_type": "markdown",
   "metadata": {},
   "source": [
    "## Window Selection\n",
    "\n",
    "Manual selection of an area of interest and data resolution. Positive (solid) and negative (dash) contour lines are traced immediately after changes made to the contour values."
   ]
  },
  {
   "cell_type": "code",
   "execution_count": 5,
   "metadata": {},
   "outputs": [
    {
     "data": {
      "application/vnd.jupyter.widget-view+json": {
       "model_id": "d4d7710c8f764b1794a0117cce397f84",
       "version_major": 2,
       "version_minor": 0
      },
      "text/plain": [
       "VBox(children=(VBox(children=(FloatText(value=50.0, description='Grid Resolution (m)', style=DescriptionStyle(…"
      ]
     },
     "metadata": {},
     "output_type": "display_data"
    }
   ],
   "source": [
    "app.window_selection"
   ]
  },
  {
   "cell_type": "markdown",
   "metadata": {},
   "source": [
    "See the [Map View Selection](view_selection.ipynb#Map-View-Selection) page for more details."
   ]
  },
  {
   "cell_type": "markdown",
   "metadata": {},
   "source": [
    "## Output panel\n",
    "\n",
    "Contours can be exported directly to the target workspace by clicking on the export button. This can yield two possible outcomes:\n",
    "\n",
    "- If no curve object is present with the same name, a new curve object is created.\n",
    "- If a curve object is found with the same name, vertices and line segments are changed in place. This allows users to quickly experiment with different contour levels without having to delete previous trials.\n"
   ]
  },
  {
   "cell_type": "code",
   "execution_count": 6,
   "metadata": {},
   "outputs": [
    {
     "data": {
      "application/vnd.jupyter.widget-view+json": {
       "model_id": "39aee082b98f4f4eb175a99c39e3a1c9",
       "version_major": 2,
       "version_minor": 0
      },
      "text/plain": [
       "VBox(children=(VBox(children=(Button(button_style='danger', description='Export to GA', icon='check', style=Bu…"
      ]
     },
     "metadata": {},
     "output_type": "display_data"
    }
   ],
   "source": [
    "app.output_panel"
   ]
  },
  {
   "cell_type": "markdown",
   "metadata": {},
   "source": [
    "### (Optional) GA Pro - Live link\n",
    "See [Output Panel](base_application.ipynb#Output-Panel) base applications."
   ]
  },
  {
   "cell_type": "code",
   "execution_count": 7,
   "metadata": {
    "nbsphinx": "hidden"
   },
   "outputs": [],
   "source": [
    "import matplotlib.pyplot as plt\n",
    "app.figure.savefig(\"images/contours_thumbnail.png\", dpi=300, bbox_inches='tight')"
   ]
  },
  {
   "cell_type": "markdown",
   "metadata": {},
   "source": [
    "Need help? Contact us at support@mirageoscience.com"
   ]
  }
 ],
 "metadata": {
  "kernelspec": {
   "display_name": "Python 3",
   "language": "python",
   "name": "python3"
  },
  "language_info": {
   "codemirror_mode": {
    "name": "ipython",
    "version": 3
   },
   "file_extension": ".py",
   "mimetype": "text/x-python",
   "name": "python",
   "nbconvert_exporter": "python",
   "pygments_lexer": "ipython3",
   "version": "3.7.10"
  },
  "widgets": {
   "application/vnd.jupyter.widget-state+json": {
    "state": {
     "00f263884a3f415e8e7daca0d5179d19": {
      "model_module": "@jupyter-widgets/controls",
      "model_module_version": "1.5.0",
      "model_name": "DropdownModel",
      "state": {
       "_options_labels": [
        "C:\\Users\\dominiquef\\Documents\\GIT\\mira\\mirageoscience-apps\\docs\\content\\applications",
        "C:\\Users\\dominiquef\\Documents\\GIT\\mira\\mirageoscience-apps\\docs\\content",
        "C:\\Users\\dominiquef\\Documents\\GIT\\mira\\mirageoscience-apps\\docs",
        "C:\\Users\\dominiquef\\Documents\\GIT\\mira\\mirageoscience-apps",
        "C:\\Users\\dominiquef\\Documents\\GIT\\mira",
        "C:\\Users\\dominiquef\\Documents\\GIT",
        "C:\\Users\\dominiquef\\Documents",
        "C:\\Users\\dominiquef",
        "C:\\Users",
        "C:\\",
        "D:\\",
        "Z:\\"
       ],
       "index": 0,
       "layout": "IPY_MODEL_d1c5e7f14a1c447a94f94309439a758e",
       "style": "IPY_MODEL_c325a70bc3314682a34d9cd0977ddda5"
      }
     },
     "0368f7044c4e449e9ce4c7021e78c2ac": {
      "model_module": "@jupyter-widgets/controls",
      "model_module_version": "1.5.0",
      "model_name": "ButtonStyleModel",
      "state": {}
     },
     "03ebab3022544db2bfd8b33d5475d2f5": {
      "model_module": "@jupyter-widgets/base",
      "model_module_version": "1.2.0",
      "model_name": "LayoutModel",
      "state": {}
     },
     "04158966ce394fff9c087a3439f0f9ae": {
      "model_module": "@jupyter-widgets/base",
      "model_module_version": "1.2.0",
      "model_name": "LayoutModel",
      "state": {}
     },
     "04247e35892c47baa5d51d9afb389ac3": {
      "model_module": "@jupyter-widgets/base",
      "model_module_version": "1.2.0",
      "model_name": "LayoutModel",
      "state": {
       "width": "auto"
      }
     },
     "062aaa996f8e47efb9d25d6d28b40623": {
      "model_module": "@jupyter-widgets/controls",
      "model_module_version": "1.5.0",
      "model_name": "DescriptionStyleModel",
      "state": {
       "description_width": "initial"
      }
     },
     "07a9da746c7744769dac95f9926e0336": {
      "model_module": "@jupyter-widgets/base",
      "model_module_version": "1.2.0",
      "model_name": "LayoutModel",
      "state": {
       "grid_area": "dircontent",
       "width": "auto"
      }
     },
     "07dbfe8c2b164951bb26e29ce0802dd3": {
      "model_module": "@jupyter-widgets/controls",
      "model_module_version": "1.5.0",
      "model_name": "SliderStyleModel",
      "state": {
       "description_width": ""
      }
     },
     "09fad9f4405a4891816166bf67434a2e": {
      "model_module": "@jupyter-widgets/base",
      "model_module_version": "1.2.0",
      "model_name": "LayoutModel",
      "state": {}
     },
     "0e6ee4ef866f4037a1491792abe6c868": {
      "model_module": "@jupyter-widgets/controls",
      "model_module_version": "1.5.0",
      "model_name": "DescriptionStyleModel",
      "state": {
       "description_width": ""
      }
     },
     "0fde7eda0853473489e9dd628a3ac39b": {
      "model_module": "@jupyter-widgets/base",
      "model_module_version": "1.2.0",
      "model_name": "LayoutModel",
      "state": {}
     },
     "13a82775d65844d494f216a47d343276": {
      "model_module": "@jupyter-widgets/base",
      "model_module_version": "1.2.0",
      "model_name": "LayoutModel",
      "state": {}
     },
     "152587202fae4d13a7b9003c29bcec14": {
      "model_module": "@jupyter-widgets/controls",
      "model_module_version": "1.5.0",
      "model_name": "ButtonStyleModel",
      "state": {}
     },
     "18cba92a3d13470bb3f3250a14d7733e": {
      "model_module": "@jupyter-widgets/base",
      "model_module_version": "1.2.0",
      "model_name": "LayoutModel",
      "state": {}
     },
     "199a5782096d4326bd563353f29a53ca": {
      "model_module": "@jupyter-widgets/controls",
      "model_module_version": "1.5.0",
      "model_name": "HBoxModel",
      "state": {
       "children": [
        "IPY_MODEL_eef5d97f8ed347da8b84cc685f947323",
        "IPY_MODEL_f559f3ade9ce42e7a036563da97084a5"
       ],
       "layout": "IPY_MODEL_d750a977b8a1471f893d76dd0c7d8667"
      }
     },
     "1b6c16d7bb5e47a8a579f8f39ce6ab07": {
      "model_module": "@jupyter-widgets/controls",
      "model_module_version": "1.5.0",
      "model_name": "TextModel",
      "state": {
       "continuous_update": false,
       "description": "Group:",
       "layout": "IPY_MODEL_f7b08fe343f348dc8ff11d3cfe96a49c",
       "style": "IPY_MODEL_062aaa996f8e47efb9d25d6d28b40623",
       "value": "Contours"
      }
     },
     "1d7954e4d5e84d5c8d86f2009cedf548": {
      "model_module": "@jupyter-widgets/controls",
      "model_module_version": "1.5.0",
      "model_name": "ToggleButtonModel",
      "state": {
       "layout": "IPY_MODEL_357c850426c9409f839a71113285df69",
       "style": "IPY_MODEL_d6d1c9511cde431c931dd53a867be492",
       "value": true
      }
     },
     "2014d8dce5204460a134242739464476": {
      "model_module": "@jupyter-widgets/controls",
      "model_module_version": "1.5.0",
      "model_name": "DescriptionStyleModel",
      "state": {
       "description_width": ""
      }
     },
     "25ac7fb2df9c4ee5a969aa0bce9c4e1c": {
      "model_module": "@jupyter-widgets/base",
      "model_module_version": "1.2.0",
      "model_name": "LayoutModel",
      "state": {}
     },
     "2625507b2e8c412c81517e092c405d12": {
      "model_module": "@jupyter-widgets/base",
      "model_module_version": "1.2.0",
      "model_name": "LayoutModel",
      "state": {}
     },
     "26fca6009f2b406db6a6b4210bf9ddec": {
      "model_module": "@jupyter-widgets/controls",
      "model_module_version": "1.5.0",
      "model_name": "DescriptionStyleModel",
      "state": {
       "description_width": ""
      }
     },
     "2b000c8ff47847848748407f0297adc3": {
      "model_module": "@jupyter-widgets/controls",
      "model_module_version": "1.5.0",
      "model_name": "ButtonModel",
      "state": {
       "description": "Select",
       "layout": "IPY_MODEL_d1daf6d916db416a9eb41f1cb672cfd3",
       "style": "IPY_MODEL_152587202fae4d13a7b9003c29bcec14"
      }
     },
     "2ba84743ba0f4a39a1d636f4fc963e30": {
      "model_module": "@jupyter-widgets/controls",
      "model_module_version": "1.5.0",
      "model_name": "ButtonModel",
      "state": {
       "description": "Cancel",
       "layout": "IPY_MODEL_fc38bc1a218c429cbd56dade8987e69b",
       "style": "IPY_MODEL_b34db8c71eb54468a035d25b8a25f72a"
      }
     },
     "2c51bcba7bbe43d78b9c2f356e8e70b6": {
      "model_module": "@jupyter-widgets/controls",
      "model_module_version": "1.5.0",
      "model_name": "TextModel",
      "state": {
       "layout": "IPY_MODEL_5a0d127c5dec435a8a896bb841b2f166",
       "style": "IPY_MODEL_3056f8e979e94e9088e5017ba594d24e",
       "value": "Airborne_TMI"
      }
     },
     "2d016bd72d4d439fbf4f7a5fdff2fc15": {
      "model_module": "@jupyter-widgets/controls",
      "model_module_version": "1.5.0",
      "model_name": "VBoxModel",
      "state": {
       "children": [
        "IPY_MODEL_ed0063047e3f470987fb8ca4e1b83b6b",
        "IPY_MODEL_1b6c16d7bb5e47a8a579f8f39ce6ab07"
       ],
       "layout": "IPY_MODEL_63b99168de9a4e2c88999dfdcb87114a"
      }
     },
     "3056f8e979e94e9088e5017ba594d24e": {
      "model_module": "@jupyter-widgets/controls",
      "model_module_version": "1.5.0",
      "model_name": "DescriptionStyleModel",
      "state": {
       "description_width": ""
      }
     },
     "3396e9bded8343c19713ce81080b1502": {
      "model_module": "@jupyter-widgets/controls",
      "model_module_version": "1.5.0",
      "model_name": "DescriptionStyleModel",
      "state": {
       "description_width": ""
      }
     },
     "3566add2e2cd4574851f74ff587a840e": {
      "model_module": "@jupyter-widgets/base",
      "model_module_version": "1.2.0",
      "model_name": "LayoutModel",
      "state": {}
     },
     "357c850426c9409f839a71113285df69": {
      "model_module": "@jupyter-widgets/base",
      "model_module_version": "1.2.0",
      "model_name": "LayoutModel",
      "state": {}
     },
     "3589c02434044451a16550921506f64e": {
      "model_module": "@jupyter-widgets/controls",
      "model_module_version": "1.5.0",
      "model_name": "ButtonStyleModel",
      "state": {}
     },
     "39aee082b98f4f4eb175a99c39e3a1c9": {
      "model_module": "@jupyter-widgets/controls",
      "model_module_version": "1.5.0",
      "model_name": "VBoxModel",
      "state": {
       "children": [
        "IPY_MODEL_2d016bd72d4d439fbf4f7a5fdff2fc15",
        "IPY_MODEL_941691c9a96a491a99821e88873efa49"
       ],
       "layout": "IPY_MODEL_9948aea94f234cef8af8776c3a78ccab"
      }
     },
     "3c260ee238ec4062ad672264e3dffeed": {
      "model_module": "@jupyter-widgets/controls",
      "model_module_version": "1.5.0",
      "model_name": "HBoxModel",
      "state": {
       "children": [
        "IPY_MODEL_eed2489da10e492cb6a23951bf158aaf",
        "IPY_MODEL_b4bbd007dab34be3a1a8fc7355a3ff29",
        "IPY_MODEL_ca03adb28b1d44c6b8e8de3d58e8d2f7"
       ],
       "layout": "IPY_MODEL_4b785924a98345a5ae9895e7664183f4"
      }
     },
     "3c4ffdc1ec1a4a46ab2879918e894539": {
      "model_module": "@jupyter-widgets/base",
      "model_module_version": "1.2.0",
      "model_name": "LayoutModel",
      "state": {
       "grid_area": "dircontent",
       "width": "auto"
      }
     },
     "3c726d768ecc460d8f22be125531d386": {
      "model_module": "@jupyter-widgets/controls",
      "model_module_version": "1.5.0",
      "model_name": "VBoxModel",
      "state": {
       "children": [
        "IPY_MODEL_5ea53d7940e7408ca882fed0ebb4ed4c",
        "IPY_MODEL_ceb1e0ef38be4badac4536f78d44686d",
        "IPY_MODEL_9e0370f0bf7c48be9758529e2dcce782"
       ],
       "layout": "IPY_MODEL_04247e35892c47baa5d51d9afb389ac3"
      }
     },
     "3d380b21852946309b0e9a2b8b21b294": {
      "model_module": "@jupyter-widgets/base",
      "model_module_version": "1.2.0",
      "model_name": "LayoutModel",
      "state": {
       "display": "none"
      }
     },
     "3e925594038541e184fc8f1f98d8ca10": {
      "model_module": "@jupyter-widgets/base",
      "model_module_version": "1.2.0",
      "model_name": "LayoutModel",
      "state": {}
     },
     "4037d81044c24b61a1617879cfc00cf8": {
      "model_module": "@jupyter-widgets/base",
      "model_module_version": "1.2.0",
      "model_name": "LayoutModel",
      "state": {
       "display": "none",
       "grid_area": "filename",
       "width": "auto"
      }
     },
     "4198a59e79b14227ad87632880625a9f": {
      "model_module": "@jupyter-widgets/base",
      "model_module_version": "1.2.0",
      "model_name": "LayoutModel",
      "state": {}
     },
     "41d3f5d130a04f87a5fb0195b171568d": {
      "model_module": "@jupyter-widgets/controls",
      "model_module_version": "1.5.0",
      "model_name": "SliderStyleModel",
      "state": {
       "description_width": ""
      }
     },
     "42be6ab0be7b4925ba9dcf5d0eabf618": {
      "model_module": "@jupyter-widgets/base",
      "model_module_version": "1.2.0",
      "model_name": "LayoutModel",
      "state": {
       "width": "auto"
      }
     },
     "4305d015a8fd4b29a7feec19863a10b0": {
      "model_module": "@jupyter-widgets/controls",
      "model_module_version": "1.5.0",
      "model_name": "DropdownModel",
      "state": {
       "_options_labels": [
        "C:\\Users\\dominiquef\\Documents\\GIT\\mira\\mirageoscience-apps\\assets",
        "C:\\Users\\dominiquef\\Documents\\GIT\\mira\\mirageoscience-apps",
        "C:\\Users\\dominiquef\\Documents\\GIT\\mira",
        "C:\\Users\\dominiquef\\Documents\\GIT",
        "C:\\Users\\dominiquef\\Documents",
        "C:\\Users\\dominiquef",
        "C:\\Users",
        "C:\\",
        "D:\\",
        "Z:\\"
       ],
       "index": 0,
       "layout": "IPY_MODEL_550af067c04548e9959bad553dd25fb0",
       "style": "IPY_MODEL_44006486f0124d8cb97d086626706f5a"
      }
     },
     "44006486f0124d8cb97d086626706f5a": {
      "model_module": "@jupyter-widgets/controls",
      "model_module_version": "1.5.0",
      "model_name": "DescriptionStyleModel",
      "state": {
       "description_width": ""
      }
     },
     "46873818ca654d4b9e598fccdaf766fa": {
      "model_module": "@jupyter-widgets/controls",
      "model_module_version": "1.5.0",
      "model_name": "DescriptionStyleModel",
      "state": {
       "description_width": "initial"
      }
     },
     "4b785924a98345a5ae9895e7664183f4": {
      "model_module": "@jupyter-widgets/base",
      "model_module_version": "1.2.0",
      "model_name": "LayoutModel",
      "state": {
       "align_items": "center"
      }
     },
     "4eb06e4ad5984a90b251e306cf93d61d": {
      "model_module": "@jupyter-widgets/controls",
      "model_module_version": "1.5.0",
      "model_name": "ButtonModel",
      "state": {
       "description": "Cancel",
       "layout": "IPY_MODEL_8f07ea5daa3e49b9bd4bdea65cd8ae2d",
       "style": "IPY_MODEL_a928088e7b8543769f23bc327a50cbcb"
      }
     },
     "50e09e623bc049d4b99ed748346ecb35": {
      "model_module": "@jupyter-widgets/base",
      "model_module_version": "1.2.0",
      "model_name": "LayoutModel",
      "state": {}
     },
     "550af067c04548e9959bad553dd25fb0": {
      "model_module": "@jupyter-widgets/base",
      "model_module_version": "1.2.0",
      "model_name": "LayoutModel",
      "state": {
       "grid_area": "pathlist",
       "width": "auto"
      }
     },
     "56559b1ec55b42daa88554e3d3f760be": {
      "model_module": "@jupyter-widgets/controls",
      "model_module_version": "1.5.0",
      "model_name": "CheckboxModel",
      "state": {
       "description": "Assign Z from values",
       "disabled": false,
       "indent": false,
       "layout": "IPY_MODEL_d16dc43977004907867c279fa400c156",
       "style": "IPY_MODEL_26fca6009f2b406db6a6b4210bf9ddec",
       "value": false
      }
     },
     "5711dae1750f49a984b3881a588c571f": {
      "model_module": "@jupyter-widgets/output",
      "model_module_version": "1.0.0",
      "model_name": "OutputModel",
      "state": {
       "layout": "IPY_MODEL_63d02654fe164e9294b9ce3e9f591aca"
      }
     },
     "5767ec63176c403bba7d1b8cd26feb26": {
      "model_module": "@jupyter-widgets/base",
      "model_module_version": "1.2.0",
      "model_name": "LayoutModel",
      "state": {}
     },
     "57af2e11ee244f32a043d1f44d58a24b": {
      "model_module": "@jupyter-widgets/controls",
      "model_module_version": "1.5.0",
      "model_name": "VBoxModel",
      "state": {
       "children": [
        "IPY_MODEL_5d9be386f5634954b5e8fd9ce27ef784",
        "IPY_MODEL_ca62dc2b03fa4b84b4bc09eb04ef4cb7"
       ],
       "layout": "IPY_MODEL_18cba92a3d13470bb3f3250a14d7733e"
      }
     },
     "58cd5a385e5d4fdfa9b964452b2fc722": {
      "model_module": "@jupyter-widgets/base",
      "model_module_version": "1.2.0",
      "model_name": "LayoutModel",
      "state": {}
     },
     "5978476d6dea4e93ad130b7e0a126661": {
      "model_module": "@jupyter-widgets/base",
      "model_module_version": "1.2.0",
      "model_name": "LayoutModel",
      "state": {}
     },
     "5a0d127c5dec435a8a896bb841b2f166": {
      "model_module": "@jupyter-widgets/base",
      "model_module_version": "1.2.0",
      "model_name": "LayoutModel",
      "state": {}
     },
     "5a4dc2b89dd841b09aa99c10d183e10f": {
      "model_module": "@jupyter-widgets/base",
      "model_module_version": "1.2.0",
      "model_name": "LayoutModel",
      "state": {}
     },
     "5b442a9e4d0a4cf9872b91e63ca91d3d": {
      "model_module": "@jupyter-widgets/controls",
      "model_module_version": "1.5.0",
      "model_name": "ButtonModel",
      "state": {
       "description": "Create copy:",
       "layout": "IPY_MODEL_dcd5fec113db42b0ac57962dc78416ae",
       "style": "IPY_MODEL_0368f7044c4e449e9ce4c7021e78c2ac"
      }
     },
     "5bf6dee72b8e483f9b555e8a6b99db6d": {
      "model_module": "@jupyter-widgets/base",
      "model_module_version": "1.2.0",
      "model_name": "LayoutModel",
      "state": {
       "display": "none",
       "grid_gap": "0px 0px",
       "grid_template_areas": "\n                    'pathlist pathlist'\n                    'dircontent dircontent'\n                    ",
       "grid_template_columns": "60% 40%",
       "grid_template_rows": "auto auto",
       "width": "500px"
      }
     },
     "5c5b8372679d44c089535269f4ef87fe": {
      "model_module": "@jupyter-widgets/controls",
      "model_module_version": "1.5.0",
      "model_name": "VBoxModel",
      "state": {
       "children": [
        "IPY_MODEL_5e411679fb164af886853f8d1c7fb5c9",
        "IPY_MODEL_39aee082b98f4f4eb175a99c39e3a1c9"
       ],
       "layout": "IPY_MODEL_3566add2e2cd4574851f74ff587a840e"
      }
     },
     "5d9be386f5634954b5e8fd9ce27ef784": {
      "model_module": "@jupyter-widgets/controls",
      "model_module_version": "1.5.0",
      "model_name": "FloatTextModel",
      "state": {
       "description": "Grid Resolution (m)",
       "layout": "IPY_MODEL_ef2f62a31150473ab95378283f4ca6b3",
       "step": null,
       "style": "IPY_MODEL_e2dd650e24cc402bb052a85c08e9e3bf",
       "value": 50
      }
     },
     "5e411679fb164af886853f8d1c7fb5c9": {
      "model_module": "@jupyter-widgets/controls",
      "model_module_version": "1.5.0",
      "model_name": "VBoxModel",
      "state": {
       "children": [
        "IPY_MODEL_d3dad5d9311d4221817d7fc089855bff",
        "IPY_MODEL_cea9f2936abf4b6ca6df633d1ee2bf08"
       ],
       "layout": "IPY_MODEL_bf5b709ca80f45528f2a9213f0ab3893"
      }
     },
     "5ea53d7940e7408ca882fed0ebb4ed4c": {
      "model_module": "@jupyter-widgets/controls",
      "model_module_version": "1.5.0",
      "model_name": "HTMLModel",
      "state": {
       "layout": "IPY_MODEL_69d520f1b07e4950b5aeefb17ce4206c",
       "style": "IPY_MODEL_ed2d39500dd749b8953aea86d1918cad"
      }
     },
     "6120a526d5b74d2086fe3c7b5d8265e3": {
      "model_module": "@jupyter-widgets/controls",
      "model_module_version": "1.5.0",
      "model_name": "ToggleButtonModel",
      "state": {
       "description": "Zoom on selection",
       "icon": "check",
       "layout": "IPY_MODEL_686dad3f5beb4a5682732b48bad7bcbf",
       "style": "IPY_MODEL_7058eb866a49437388ff23f99e8d6265",
       "tooltip": "Keep plot extent on selection",
       "value": true
      }
     },
     "63b99168de9a4e2c88999dfdcb87114a": {
      "model_module": "@jupyter-widgets/base",
      "model_module_version": "1.2.0",
      "model_name": "LayoutModel",
      "state": {}
     },
     "63d02654fe164e9294b9ce3e9f591aca": {
      "model_module": "@jupyter-widgets/base",
      "model_module_version": "1.2.0",
      "model_name": "LayoutModel",
      "state": {}
     },
     "6711bd4911cc43f6831933895e7b12ee": {
      "model_module": "@jupyter-widgets/controls",
      "model_module_version": "1.5.0",
      "model_name": "GridBoxModel",
      "state": {
       "children": [
        "IPY_MODEL_4305d015a8fd4b29a7feec19863a10b0",
        "IPY_MODEL_c609f2669c294ee68539550938235b55",
        "IPY_MODEL_b927d2136ec844eea63e2dc77ea906ba"
       ],
       "layout": "IPY_MODEL_d042266e59824b0398a75d402656b1c3"
      }
     },
     "686dad3f5beb4a5682732b48bad7bcbf": {
      "model_module": "@jupyter-widgets/base",
      "model_module_version": "1.2.0",
      "model_name": "LayoutModel",
      "state": {}
     },
     "69812e5b9e174088a6246af1e0c6b941": {
      "model_module": "@jupyter-widgets/controls",
      "model_module_version": "1.5.0",
      "model_name": "DescriptionStyleModel",
      "state": {
       "description_width": ""
      }
     },
     "69bb18d71d8744d08e4f4992c3356ebd": {
      "model_module": "@jupyter-widgets/controls",
      "model_module_version": "1.5.0",
      "model_name": "DescriptionStyleModel",
      "state": {
       "description_width": "initial"
      }
     },
     "69d520f1b07e4950b5aeefb17ce4206c": {
      "model_module": "@jupyter-widgets/base",
      "model_module_version": "1.2.0",
      "model_name": "LayoutModel",
      "state": {
       "display": "none"
      }
     },
     "6a7723578a70420b847f7d3af3218b2d": {
      "model_module": "@jupyter-widgets/controls",
      "model_module_version": "1.5.0",
      "model_name": "VBoxModel",
      "state": {
       "children": [
        "IPY_MODEL_92051017dd3d4c2785f965f0d7ebd76a",
        "IPY_MODEL_6711bd4911cc43f6831933895e7b12ee",
        "IPY_MODEL_9b6c325e1fa34604b8cf79a405158cb4"
       ],
       "layout": "IPY_MODEL_7cff3fd8ecf341fd85600fb18637833c"
      }
     },
     "6d9e451aa7ad4627ba91ef3cfaec34c9": {
      "model_module": "@jupyter-widgets/controls",
      "model_module_version": "1.5.0",
      "model_name": "DropdownModel",
      "state": {
       "_options_labels": [
        "",
        "fault_splay1",
        "fault_Cliff_Lake",
        "fault_Other_FlinFlon",
        "fault_Club_Lake_splay",
        "fault_Catherine_splay2",
        "fault_Birch_View",
        "fault_Dion_Lake",
        "fault_FlinFlon_splay",
        "fault_West_Mandy_Road",
        "fault_Channing",
        "fault_Ross_Lake",
        "fault_Louis_Hidden",
        "fault_Lake_View_thrust",
        "contact_Schist_Lake",
        "fault_Burley_Lake",
        "fault_Dion_Lake_splay",
        "fault_Green_Lake",
        "fault_FlinFlon",
        "fault_Catherine_splay1",
        "fault_East_Mandy_Road",
        "fault_Other_FlinFlon_South",
        "fault_Catherine_splay4",
        "contact_Stitt_Island",
        "fault_Club_Lake",
        "fault_Tailing_Pond",
        "35_Hidden_Reservoir_Hr5",
        "29_Hidden_Reservoir_Hr1a",
        "60_BlueLagoon_Fb2",
        "20_FlinFlon_Undivided_Int_Dykes_D2f",
        "04_Boundary_Intrusive_S4h",
        "53_Millrock_Rhyolite_Fm4b",
        "19_FlinFlon_Undivided_Int_Dykes_D2b",
        "18_FlinFlon_Undivided_Int_Dykes_777_D2b",
        "06_Phantom_Lake_Intrusive_S3a",
        "21_FlinFlon_Undivided_Int_Dykes_D3a",
        "43_Millrock_CHLSH_South",
        "56_Millrock_Basalt_Fm1ba",
        "17_FlinFlon_Undivided_Int_Dykes_D2",
        "32_Hidden_Reservoir_Hr1b_SW",
        "11_Missi_M3_NE",
        "13_Missi_M1",
        "07_Annabel_Granitoid_S1",
        "45_Millrock_Gabbro_South",
        "01_Late_Intrusive_S5b",
        "31_Hidden_Reservoir_Hr1c_SW",
        "52_Millrock_Rhyolite_Fm4_West_check",
        "55_Millrock_Basalt_Fm1bf",
        "34_Hidden_Reservoir_Hr2b",
        "03_Boundary_Intrusive_S4b",
        "42_Millrock_CHLSH_North",
        "26_Louis_L3",
        "23_FlinFlon_Undivided_Int_Felsic_D4g",
        "30_Hidden_Reservoir_Hr1b",
        "59_BlueLagoon_Fb3",
        "49_Millrock_MVR_Fm5d",
        "44_Millrock_Gabbro_North",
        "27_Hidden_Carlisle_Hc4",
        "22_FlinFlon_Undivided_Int_Felsic_D4e",
        "02_Boundary_Intrusive_S4a",
        "61_BlueLagoon_Fb1_NW",
        "05_Boundary_Intrusive_S4g",
        "39_Ore_Callinan",
        "38_Ore_Dan_Owens",
        "40_Ore_FlinFlon",
        "Inversion_VTEM_Model",
        "Gravity_Magnetics_drape60m",
        "CDI_VTEM_model",
        "Data_FEM_pseudo3D",
        "O2O_Interp_25m",
        "geochem",
        "Inversion_DIGHEM_Model",
        "Topography",
        "Data_TEM_pseudo3D"
       ],
       "description": "Object:",
       "index": 66,
       "layout": "IPY_MODEL_bc1cb3a7990442b5ad91e8975c9b021a",
       "style": "IPY_MODEL_46873818ca654d4b9e598fccdaf766fa"
      }
     },
     "6ef52ffe6eee47c48ade9e31439ee6c6": {
      "model_module": "@jupyter-widgets/controls",
      "model_module_version": "1.5.0",
      "model_name": "DescriptionStyleModel",
      "state": {
       "description_width": ""
      }
     },
     "6f758068e52b48f28b56c685daaead14": {
      "model_module": "@jupyter-widgets/base",
      "model_module_version": "1.2.0",
      "model_name": "LayoutModel",
      "state": {}
     },
     "7058eb866a49437388ff23f99e8d6265": {
      "model_module": "@jupyter-widgets/controls",
      "model_module_version": "1.5.0",
      "model_name": "DescriptionStyleModel",
      "state": {
       "description_width": ""
      }
     },
     "71861e0766734e759e3fe3f802240e0b": {
      "model_module": "@jupyter-widgets/controls",
      "model_module_version": "1.5.0",
      "model_name": "DescriptionStyleModel",
      "state": {
       "description_width": ""
      }
     },
     "73c04d40a49a4c0790a94d352b3a9abf": {
      "model_module": "@jupyter-widgets/controls",
      "model_module_version": "1.5.0",
      "model_name": "LabelModel",
      "state": {
       "layout": "IPY_MODEL_c69167fccdd04ad1885bae88dd856078",
       "style": "IPY_MODEL_69812e5b9e174088a6246af1e0c6b941",
       "value": "Save as:"
      }
     },
     "743ab3608b3944b2b05e4b314e7179fd": {
      "model_module": "@jupyter-widgets/controls",
      "model_module_version": "1.5.0",
      "model_name": "DescriptionStyleModel",
      "state": {
       "description_width": "initial"
      }
     },
     "75dcea5bd7e848a38eba6976ae647def": {
      "model_module": "@jupyter-widgets/controls",
      "model_module_version": "1.5.0",
      "model_name": "DescriptionStyleModel",
      "state": {
       "description_width": "initial"
      }
     },
     "760ce0c921bd41dcb7d4b02203f8defd": {
      "model_module": "@jupyter-widgets/controls",
      "model_module_version": "1.5.0",
      "model_name": "ButtonStyleModel",
      "state": {}
     },
     "773ec18dda49407b91b7816d19a9ea71": {
      "model_module": "@jupyter-widgets/base",
      "model_module_version": "1.2.0",
      "model_name": "LayoutModel",
      "state": {
       "width": "auto"
      }
     },
     "774e0b895c244f8790ebf0be68fafa83": {
      "model_module": "@jupyter-widgets/controls",
      "model_module_version": "1.5.0",
      "model_name": "DescriptionStyleModel",
      "state": {
       "description_width": ""
      }
     },
     "7cb9b37a905e47629963f7f98ce20d24": {
      "model_module": "@jupyter-widgets/controls",
      "model_module_version": "1.5.0",
      "model_name": "DescriptionStyleModel",
      "state": {
       "description_width": "initial"
      }
     },
     "7cff3fd8ecf341fd85600fb18637833c": {
      "model_module": "@jupyter-widgets/base",
      "model_module_version": "1.2.0",
      "model_name": "LayoutModel",
      "state": {
       "width": "auto"
      }
     },
     "7d7c5d05b9e848e6ac5563f7cf23e4f0": {
      "model_module": "@jupyter-widgets/base",
      "model_module_version": "1.2.0",
      "model_name": "LayoutModel",
      "state": {}
     },
     "7e8be96b0d9b4f5796b446ab32858a22": {
      "model_module": "@jupyter-widgets/controls",
      "model_module_version": "1.5.0",
      "model_name": "DropdownModel",
      "state": {
       "_options_labels": [
        "",
        "--- Channels ---",
        "Airborne_Gxx",
        "Airborne_Gxy",
        "Airborne_Gxz",
        "Airborne_Gyy",
        "Airborne_Gyz",
        "Airborne_Gz",
        "Airborne_Gzz",
        "Airborne_TMI",
        "Ground_Gz",
        "Z"
       ],
       "description": "Data: ",
       "index": 9,
       "layout": "IPY_MODEL_ed7aa094e92b4a30b78388fa4d5eea85",
       "style": "IPY_MODEL_743ab3608b3944b2b05e4b314e7179fd"
      }
     },
     "82de3f6dd12d44bc89f52bb25c31567d": {
      "model_module": "@jupyter-widgets/controls",
      "model_module_version": "1.5.0",
      "model_name": "HTMLModel",
      "state": {
       "layout": "IPY_MODEL_acc1b0895c854a4283f42c802afb0cff",
       "placeholder": "",
       "style": "IPY_MODEL_3396e9bded8343c19713ce81080b1502",
       "value": "<span style=\"margin-left:10px; color:black;\">No file selected</span>"
      }
     },
     "83021072d4234686859a3f084739d7a5": {
      "model_module": "@jupyter-widgets/controls",
      "model_module_version": "1.5.0",
      "model_name": "DescriptionStyleModel",
      "state": {
       "description_width": ""
      }
     },
     "8344b7541d7e43bb95377ebb414049f5": {
      "model_module": "@jupyter-widgets/controls",
      "model_module_version": "1.5.0",
      "model_name": "LabelModel",
      "state": {
       "layout": "IPY_MODEL_2625507b2e8c412c81517e092c405d12",
       "style": "IPY_MODEL_0e6ee4ef866f4037a1491792abe6c868",
       "value": "Input options:"
      }
     },
     "87ac3fd417e14f99bff6dbf9e595c404": {
      "model_module": "@jupyter-widgets/controls",
      "model_module_version": "1.5.0",
      "model_name": "HTMLModel",
      "state": {
       "layout": "IPY_MODEL_7d7c5d05b9e848e6ac5563f7cf23e4f0",
       "placeholder": "",
       "style": "IPY_MODEL_c60568ebcf604c72a29ee3210314f5b9",
       "value": "<span style=\"margin-left:10px; color:orange;\">C:\\Users\\dominiquef\\Documents\\GIT\\mira\\mirageoscience-apps\\assets\\FlinFlon.geoh5</span>"
      }
     },
     "8c7aeea2a1df4ba18165ae267f5514c9": {
      "model_module": "@jupyter-widgets/base",
      "model_module_version": "1.2.0",
      "model_name": "LayoutModel",
      "state": {
       "width": "auto"
      }
     },
     "8f07ea5daa3e49b9bd4bdea65cd8ae2d": {
      "model_module": "@jupyter-widgets/base",
      "model_module_version": "1.2.0",
      "model_name": "LayoutModel",
      "state": {
       "display": "none",
       "width": "auto"
      }
     },
     "8ff47eb1e5bc4bdcb07bf906e3843309": {
      "model_module": "@jupyter-widgets/controls",
      "model_module_version": "1.5.0",
      "model_name": "VBoxModel",
      "state": {
       "children": [
        "IPY_MODEL_6d9e451aa7ad4627ba91ef3cfaec34c9",
        "IPY_MODEL_7e8be96b0d9b4f5796b446ab32858a22"
       ],
       "layout": "IPY_MODEL_b80ba4ce8a0d4a7c89d902f0ef2ee686"
      }
     },
     "92051017dd3d4c2785f965f0d7ebd76a": {
      "model_module": "@jupyter-widgets/controls",
      "model_module_version": "1.5.0",
      "model_name": "HTMLModel",
      "state": {
       "layout": "IPY_MODEL_3d380b21852946309b0e9a2b8b21b294",
       "style": "IPY_MODEL_c579d34c070a41df966df277b55fe043"
      }
     },
     "92e83b88a21f4a44a10a340fb6b27537": {
      "model_module": "@jupyter-widgets/controls",
      "model_module_version": "1.5.0",
      "model_name": "SliderStyleModel",
      "state": {
       "description_width": ""
      }
     },
     "941691c9a96a491a99821e88873efa49": {
      "model_module": "@jupyter-widgets/controls",
      "model_module_version": "1.5.0",
      "model_name": "VBoxModel",
      "state": {
       "children": [
        "IPY_MODEL_ce9bd173ca4743eda3264db2afe3b592"
       ],
       "layout": "IPY_MODEL_13a82775d65844d494f216a47d343276"
      }
     },
     "97cb4890468c413bb2867e6da0ee8182": {
      "model_module": "@jupyter-widgets/controls",
      "model_module_version": "1.5.0",
      "model_name": "DescriptionStyleModel",
      "state": {
       "description_width": ""
      }
     },
     "9948aea94f234cef8af8776c3a78ccab": {
      "model_module": "@jupyter-widgets/base",
      "model_module_version": "1.2.0",
      "model_name": "LayoutModel",
      "state": {}
     },
     "9b16dead3ba941bf98ea68eca4879f94": {
      "model_module": "@jupyter-widgets/controls",
      "model_module_version": "1.5.0",
      "model_name": "DescriptionStyleModel",
      "state": {
       "description_width": ""
      }
     },
     "9b6c325e1fa34604b8cf79a405158cb4": {
      "model_module": "@jupyter-widgets/controls",
      "model_module_version": "1.5.0",
      "model_name": "HBoxModel",
      "state": {
       "children": [
        "IPY_MODEL_db5ecb36d4344e9f90fbdbe8cf831444",
        "IPY_MODEL_4eb06e4ad5984a90b251e306cf93d61d",
        "IPY_MODEL_87ac3fd417e14f99bff6dbf9e595c404"
       ],
       "layout": "IPY_MODEL_42be6ab0be7b4925ba9dcf5d0eabf618"
      }
     },
     "9c0d255565ff4071a075df5a8e0b7901": {
      "model_module": "@jupyter-widgets/controls",
      "model_module_version": "1.5.0",
      "model_name": "SliderStyleModel",
      "state": {
       "description_width": ""
      }
     },
     "9e0370f0bf7c48be9758529e2dcce782": {
      "model_module": "@jupyter-widgets/controls",
      "model_module_version": "1.5.0",
      "model_name": "HBoxModel",
      "state": {
       "children": [
        "IPY_MODEL_2b000c8ff47847848748407f0297adc3",
        "IPY_MODEL_2ba84743ba0f4a39a1d636f4fc963e30",
        "IPY_MODEL_82de3f6dd12d44bc89f52bb25c31567d"
       ],
       "layout": "IPY_MODEL_773ec18dda49407b91b7816d19a9ea71"
      }
     },
     "9f5340eab8de4436adc9d7f3efaeab72": {
      "model_module": "@jupyter-widgets/controls",
      "model_module_version": "1.5.0",
      "model_name": "LabelModel",
      "state": {
       "layout": "IPY_MODEL_5a4dc2b89dd841b09aa99c10d183e10f",
       "style": "IPY_MODEL_7cb9b37a905e47629963f7f98ce20d24",
       "value": "Monitoring folder"
      }
     },
     "9feff98ba0de46338779aa7a80c7e4a8": {
      "model_module": "@jupyter-widgets/controls",
      "model_module_version": "1.5.0",
      "model_name": "VBoxModel",
      "state": {
       "children": [
        "IPY_MODEL_8ff47eb1e5bc4bdcb07bf906e3843309",
        "IPY_MODEL_d4d7710c8f764b1794a0117cce397f84"
       ],
       "layout": "IPY_MODEL_09fad9f4405a4891816166bf67434a2e"
      }
     },
     "a8e67a76e35c41d5a6eb4fba54f71a08": {
      "model_module": "@jupyter-widgets/controls",
      "model_module_version": "1.5.0",
      "model_name": "DescriptionStyleModel",
      "state": {
       "description_width": "initial"
      }
     },
     "a928088e7b8543769f23bc327a50cbcb": {
      "model_module": "@jupyter-widgets/controls",
      "model_module_version": "1.5.0",
      "model_name": "ButtonStyleModel",
      "state": {}
     },
     "acc1b0895c854a4283f42c802afb0cff": {
      "model_module": "@jupyter-widgets/base",
      "model_module_version": "1.2.0",
      "model_name": "LayoutModel",
      "state": {}
     },
     "b04f9568b56c43f78156be21ed155cad": {
      "model_module": "@jupyter-widgets/controls",
      "model_module_version": "1.5.0",
      "model_name": "SliderStyleModel",
      "state": {
       "description_width": ""
      }
     },
     "b0e421571ca647fd94e5b32399a30adb": {
      "model_module": "@jupyter-widgets/base",
      "model_module_version": "1.2.0",
      "model_name": "LayoutModel",
      "state": {}
     },
     "b34db8c71eb54468a035d25b8a25f72a": {
      "model_module": "@jupyter-widgets/controls",
      "model_module_version": "1.5.0",
      "model_name": "ButtonStyleModel",
      "state": {}
     },
     "b4bbd007dab34be3a1a8fc7355a3ff29": {
      "model_module": "@jupyter-widgets/controls",
      "model_module_version": "1.5.0",
      "model_name": "FloatSliderModel",
      "state": {
       "continuous_update": false,
       "description": "Height",
       "layout": "IPY_MODEL_58cd5a385e5d4fdfa9b964452b2fc722",
       "max": 11351.865002485923,
       "orientation": "vertical",
       "step": 0.1,
       "style": "IPY_MODEL_b04f9568b56c43f78156be21ed155cad",
       "value": 5675.932501242962
      }
     },
     "b714c4f4f031496ba7b713b55fe0e154": {
      "model_module": "@jupyter-widgets/controls",
      "model_module_version": "1.5.0",
      "model_name": "FloatSliderModel",
      "state": {
       "continuous_update": false,
       "description": "Azimuth",
       "layout": "IPY_MODEL_03ebab3022544db2bfd8b33d5475d2f5",
       "max": 90,
       "min": -90,
       "step": 0.1,
       "style": "IPY_MODEL_41d3f5d130a04f87a5fb0195b171568d"
      }
     },
     "b80ba4ce8a0d4a7c89d902f0ef2ee686": {
      "model_module": "@jupyter-widgets/base",
      "model_module_version": "1.2.0",
      "model_name": "LayoutModel",
      "state": {}
     },
     "b8a9e675a66c4b9fa7eeda48a7cca440": {
      "model_module": "@jupyter-widgets/controls",
      "model_module_version": "1.5.0",
      "model_name": "DescriptionStyleModel",
      "state": {
       "description_width": ""
      }
     },
     "b91e7995b23a42a482093e2bdc205229": {
      "model_module": "@jupyter-widgets/base",
      "model_module_version": "1.2.0",
      "model_name": "LayoutModel",
      "state": {}
     },
     "b927d2136ec844eea63e2dc77ea906ba": {
      "model_module": "@jupyter-widgets/controls",
      "model_module_version": "1.5.0",
      "model_name": "SelectModel",
      "state": {
       "_options_labels": [
        "..",
        "SimPEG_PFInversion",
        "Temp",
        "dask-worker-space",
        "Crossplot.html",
        "FlinFlon.geoh5",
        "MtDore_TMI.geoh5"
       ],
       "index": 5,
       "layout": "IPY_MODEL_3c4ffdc1ec1a4a46ab2879918e894539",
       "rows": 8,
       "style": "IPY_MODEL_774e0b895c244f8790ebf0be68fafa83"
      }
     },
     "bc1cb3a7990442b5ad91e8975c9b021a": {
      "model_module": "@jupyter-widgets/base",
      "model_module_version": "1.2.0",
      "model_name": "LayoutModel",
      "state": {}
     },
     "bd4747634a394644af886504866e8362": {
      "model_module": "@jupyter-widgets/output",
      "model_module_version": "1.0.0",
      "model_name": "OutputModel",
      "state": {
       "layout": "IPY_MODEL_25ac7fb2df9c4ee5a969aa0bce9c4e1c",
       "outputs": [
        {
         "data": {
          "image/png": "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\n",
          "text/plain": "<Figure size 720x720 with 1 Axes>"
         },
         "metadata": {
          "needs_background": "light"
         },
         "output_type": "display_data"
        }
       ]
      }
     },
     "bf5b709ca80f45528f2a9213f0ab3893": {
      "model_module": "@jupyter-widgets/base",
      "model_module_version": "1.2.0",
      "model_name": "LayoutModel",
      "state": {}
     },
     "c1d9e8e40bbc40efb31ca3d683fdea7c": {
      "model_module": "@jupyter-widgets/controls",
      "model_module_version": "1.5.0",
      "model_name": "TextModel",
      "state": {
       "disabled": true,
       "layout": "IPY_MODEL_4037d81044c24b61a1617879cfc00cf8",
       "placeholder": "output filename",
       "style": "IPY_MODEL_e8e3f4e3bef64587bedbfc23753b9552"
      }
     },
     "c325a70bc3314682a34d9cd0977ddda5": {
      "model_module": "@jupyter-widgets/controls",
      "model_module_version": "1.5.0",
      "model_name": "DescriptionStyleModel",
      "state": {
       "description_width": ""
      }
     },
     "c579d34c070a41df966df277b55fe043": {
      "model_module": "@jupyter-widgets/controls",
      "model_module_version": "1.5.0",
      "model_name": "DescriptionStyleModel",
      "state": {
       "description_width": ""
      }
     },
     "c5fd36289d474278a73cb0c1156d1542": {
      "model_module": "@jupyter-widgets/controls",
      "model_module_version": "1.5.0",
      "model_name": "SelectModel",
      "state": {
       "_options_labels": [
        "..",
        "dask-worker-space",
        "images"
       ],
       "index": null,
       "layout": "IPY_MODEL_07a9da746c7744769dac95f9926e0336",
       "rows": 8,
       "style": "IPY_MODEL_97cb4890468c413bb2867e6da0ee8182"
      }
     },
     "c60568ebcf604c72a29ee3210314f5b9": {
      "model_module": "@jupyter-widgets/controls",
      "model_module_version": "1.5.0",
      "model_name": "DescriptionStyleModel",
      "state": {
       "description_width": ""
      }
     },
     "c609f2669c294ee68539550938235b55": {
      "model_module": "@jupyter-widgets/controls",
      "model_module_version": "1.5.0",
      "model_name": "TextModel",
      "state": {
       "layout": "IPY_MODEL_f86e306be8c742bfb5de037849b82f18",
       "placeholder": "output filename",
       "style": "IPY_MODEL_83021072d4234686859a3f084739d7a5",
       "value": "FlinFlon.geoh5"
      }
     },
     "c69167fccdd04ad1885bae88dd856078": {
      "model_module": "@jupyter-widgets/base",
      "model_module_version": "1.2.0",
      "model_name": "LayoutModel",
      "state": {}
     },
     "ca03adb28b1d44c6b8e8de3d58e8d2f7": {
      "model_module": "@jupyter-widgets/controls",
      "model_module_version": "1.5.0",
      "model_name": "VBoxModel",
      "state": {
       "children": [
        "IPY_MODEL_d31a69c15e434e138dbe37b26ce3692f",
        "IPY_MODEL_dfd946d0569f4bde84576808372c0686",
        "IPY_MODEL_bd4747634a394644af886504866e8362",
        "IPY_MODEL_b714c4f4f031496ba7b713b55fe0e154",
        "IPY_MODEL_6120a526d5b74d2086fe3c7b5d8265e3"
       ],
       "layout": "IPY_MODEL_6f758068e52b48f28b56c685daaead14"
      }
     },
     "ca62dc2b03fa4b84b4bc09eb04ef4cb7": {
      "model_module": "@jupyter-widgets/controls",
      "model_module_version": "1.5.0",
      "model_name": "LabelModel",
      "state": {
       "layout": "IPY_MODEL_e5104290b2f34ef9b4ccf978beb57f8a",
       "style": "IPY_MODEL_71861e0766734e759e3fe3f802240e0b",
       "value": "Data Count: 5341"
      }
     },
     "ce4b4eec93504ce6aa16e2d50e832754": {
      "model_module": "@jupyter-widgets/controls",
      "model_module_version": "1.5.0",
      "model_name": "ButtonStyleModel",
      "state": {}
     },
     "ce9bd173ca4743eda3264db2afe3b592": {
      "model_module": "@jupyter-widgets/controls",
      "model_module_version": "1.5.0",
      "model_name": "CheckboxModel",
      "state": {
       "description": "GA Pro - Live link",
       "disabled": false,
       "indent": false,
       "layout": "IPY_MODEL_5767ec63176c403bba7d1b8cd26feb26",
       "style": "IPY_MODEL_75dcea5bd7e848a38eba6976ae647def",
       "value": false
      }
     },
     "cea9f2936abf4b6ca6df633d1ee2bf08": {
      "model_module": "@jupyter-widgets/controls",
      "model_module_version": "1.5.0",
      "model_name": "HBoxModel",
      "state": {
       "children": [
        "IPY_MODEL_6a7723578a70420b847f7d3af3218b2d",
        "IPY_MODEL_5b442a9e4d0a4cf9872b91e63ca91d3d"
       ],
       "layout": "IPY_MODEL_eda134319efc43fb9fabbc93351a8b79"
      }
     },
     "ceb1e0ef38be4badac4536f78d44686d": {
      "model_module": "@jupyter-widgets/controls",
      "model_module_version": "1.5.0",
      "model_name": "GridBoxModel",
      "state": {
       "children": [
        "IPY_MODEL_00f263884a3f415e8e7daca0d5179d19",
        "IPY_MODEL_c1d9e8e40bbc40efb31ca3d683fdea7c",
        "IPY_MODEL_c5fd36289d474278a73cb0c1156d1542"
       ],
       "layout": "IPY_MODEL_5bf6dee72b8e483f9b555e8a6b99db6d"
      }
     },
     "d024c1852edf4b019120fe40c3624599": {
      "model_module": "@jupyter-widgets/base",
      "model_module_version": "1.2.0",
      "model_name": "LayoutModel",
      "state": {}
     },
     "d042266e59824b0398a75d402656b1c3": {
      "model_module": "@jupyter-widgets/base",
      "model_module_version": "1.2.0",
      "model_name": "LayoutModel",
      "state": {
       "display": "none",
       "grid_gap": "0px 0px",
       "grid_template_areas": "\n                    'pathlist filename'\n                    'dircontent dircontent'\n                    ",
       "grid_template_columns": "60% 40%",
       "grid_template_rows": "auto auto",
       "width": "500px"
      }
     },
     "d16dc43977004907867c279fa400c156": {
      "model_module": "@jupyter-widgets/base",
      "model_module_version": "1.2.0",
      "model_name": "LayoutModel",
      "state": {}
     },
     "d1c5e7f14a1c447a94f94309439a758e": {
      "model_module": "@jupyter-widgets/base",
      "model_module_version": "1.2.0",
      "model_name": "LayoutModel",
      "state": {
       "grid_area": "pathlist",
       "width": "auto"
      }
     },
     "d1daf6d916db416a9eb41f1cb672cfd3": {
      "model_module": "@jupyter-widgets/base",
      "model_module_version": "1.2.0",
      "model_name": "LayoutModel",
      "state": {
       "width": "auto"
      }
     },
     "d31a69c15e434e138dbe37b26ce3692f": {
      "model_module": "@jupyter-widgets/controls",
      "model_module_version": "1.5.0",
      "model_name": "FloatSliderModel",
      "state": {
       "continuous_update": false,
       "description": "Width",
       "layout": "IPY_MODEL_fc18ca545dfc40f7a1f06748c94edae8",
       "max": 7335.505938563321,
       "step": 0.1,
       "style": "IPY_MODEL_92e83b88a21f4a44a10a340fb6b27537",
       "value": 3667.7529692816606
      }
     },
     "d3dad5d9311d4221817d7fc089855bff": {
      "model_module": "@jupyter-widgets/controls",
      "model_module_version": "1.5.0",
      "model_name": "LabelModel",
      "state": {
       "layout": "IPY_MODEL_b0e421571ca647fd94e5b32399a30adb",
       "style": "IPY_MODEL_69bb18d71d8744d08e4f4992c3356ebd",
       "value": "Workspace"
      }
     },
     "d47c3e9f9a0549feb9f62d7bc85068ed": {
      "model_module": "@jupyter-widgets/controls",
      "model_module_version": "1.5.0",
      "model_name": "TextModel",
      "state": {
       "continuous_update": false,
       "description": "Contours",
       "layout": "IPY_MODEL_d024c1852edf4b019120fe40c3624599",
       "style": "IPY_MODEL_a8e67a76e35c41d5a6eb4fba54f71a08",
       "value": "-400:2000:100,-240"
      }
     },
     "d4d7710c8f764b1794a0117cce397f84": {
      "model_module": "@jupyter-widgets/controls",
      "model_module_version": "1.5.0",
      "model_name": "VBoxModel",
      "state": {
       "children": [
        "IPY_MODEL_57af2e11ee244f32a043d1f44d58a24b",
        "IPY_MODEL_3c260ee238ec4062ad672264e3dffeed"
       ],
       "layout": "IPY_MODEL_04158966ce394fff9c087a3439f0f9ae"
      }
     },
     "d6d1c9511cde431c931dd53a867be492": {
      "model_module": "@jupyter-widgets/controls",
      "model_module_version": "1.5.0",
      "model_name": "DescriptionStyleModel",
      "state": {
       "description_width": ""
      }
     },
     "d6d39f776e8c476fb3f8c3252d1be764": {
      "model_module": "@jupyter-widgets/controls",
      "model_module_version": "1.5.0",
      "model_name": "TextModel",
      "state": {
       "continuous_update": false,
       "description": "Contours",
       "layout": "IPY_MODEL_3e925594038541e184fc8f1f98d8ca10",
       "style": "IPY_MODEL_2014d8dce5204460a134242739464476"
      }
     },
     "d750a977b8a1471f893d76dd0c7d8667": {
      "model_module": "@jupyter-widgets/base",
      "model_module_version": "1.2.0",
      "model_name": "LayoutModel",
      "state": {}
     },
     "db5ecb36d4344e9f90fbdbe8cf831444": {
      "model_module": "@jupyter-widgets/controls",
      "model_module_version": "1.5.0",
      "model_name": "ButtonModel",
      "state": {
       "description": "Change",
       "layout": "IPY_MODEL_8c7aeea2a1df4ba18165ae267f5514c9",
       "style": "IPY_MODEL_3589c02434044451a16550921506f64e"
      }
     },
     "dcd5fec113db42b0ac57962dc78416ae": {
      "model_module": "@jupyter-widgets/base",
      "model_module_version": "1.2.0",
      "model_name": "LayoutModel",
      "state": {}
     },
     "dfd946d0569f4bde84576808372c0686": {
      "model_module": "@jupyter-widgets/controls",
      "model_module_version": "1.5.0",
      "model_name": "FloatSliderModel",
      "state": {
       "continuous_update": false,
       "description": "Easting",
       "layout": "IPY_MODEL_50e09e623bc049d4b99ed748346ecb35",
       "max": 319234.2051362576,
       "min": 311898.69919769425,
       "step": 0.1,
       "style": "IPY_MODEL_9c0d255565ff4071a075df5a8e0b7901",
       "value": 315566.45216697594
      }
     },
     "e2dd650e24cc402bb052a85c08e9e3bf": {
      "model_module": "@jupyter-widgets/controls",
      "model_module_version": "1.5.0",
      "model_name": "DescriptionStyleModel",
      "state": {
       "description_width": "initial"
      }
     },
     "e5104290b2f34ef9b4ccf978beb57f8a": {
      "model_module": "@jupyter-widgets/base",
      "model_module_version": "1.2.0",
      "model_name": "LayoutModel",
      "state": {}
     },
     "e8e3f4e3bef64587bedbfc23753b9552": {
      "model_module": "@jupyter-widgets/controls",
      "model_module_version": "1.5.0",
      "model_name": "DescriptionStyleModel",
      "state": {
       "description_width": ""
      }
     },
     "e9a1a1d253f24e9cb7f1232e59873384": {
      "model_module": "@jupyter-widgets/controls",
      "model_module_version": "1.5.0",
      "model_name": "VBoxModel",
      "state": {
       "children": [
        "IPY_MODEL_6d9e451aa7ad4627ba91ef3cfaec34c9",
        "IPY_MODEL_7e8be96b0d9b4f5796b446ab32858a22"
       ],
       "layout": "IPY_MODEL_4198a59e79b14227ad87632880625a9f"
      }
     },
     "ed0063047e3f470987fb8ca4e1b83b6b": {
      "model_module": "@jupyter-widgets/controls",
      "model_module_version": "1.5.0",
      "model_name": "ButtonModel",
      "state": {
       "button_style": "danger",
       "description": "Export to GA",
       "icon": "check",
       "layout": "IPY_MODEL_0fde7eda0853473489e9dd628a3ac39b",
       "style": "IPY_MODEL_760ce0c921bd41dcb7d4b02203f8defd",
       "tooltip": "Run computation"
      }
     },
     "ed2d39500dd749b8953aea86d1918cad": {
      "model_module": "@jupyter-widgets/controls",
      "model_module_version": "1.5.0",
      "model_name": "DescriptionStyleModel",
      "state": {
       "description_width": ""
      }
     },
     "ed7aa094e92b4a30b78388fa4d5eea85": {
      "model_module": "@jupyter-widgets/base",
      "model_module_version": "1.2.0",
      "model_name": "LayoutModel",
      "state": {}
     },
     "eda134319efc43fb9fabbc93351a8b79": {
      "model_module": "@jupyter-widgets/base",
      "model_module_version": "1.2.0",
      "model_name": "LayoutModel",
      "state": {}
     },
     "eeb2c95c94c24a629d8a50a8b1389839": {
      "model_module": "@jupyter-widgets/base",
      "model_module_version": "1.2.0",
      "model_name": "LayoutModel",
      "state": {}
     },
     "eed2489da10e492cb6a23951bf158aaf": {
      "model_module": "@jupyter-widgets/controls",
      "model_module_version": "1.5.0",
      "model_name": "FloatSliderModel",
      "state": {
       "continuous_update": false,
       "description": "Northing",
       "layout": "IPY_MODEL_5978476d6dea4e93ad130b7e0a126661",
       "max": 6076443.652111261,
       "min": 6065091.787108775,
       "orientation": "vertical",
       "step": 0.1,
       "style": "IPY_MODEL_07dbfe8c2b164951bb26e29ce0802dd3",
       "value": 6070767.719610019
      }
     },
     "eef5d97f8ed347da8b84cc685f947323": {
      "model_module": "@jupyter-widgets/controls",
      "model_module_version": "1.5.0",
      "model_name": "VBoxModel",
      "state": {
       "children": [
        "IPY_MODEL_8344b7541d7e43bb95377ebb414049f5",
        "IPY_MODEL_e9a1a1d253f24e9cb7f1232e59873384",
        "IPY_MODEL_d47c3e9f9a0549feb9f62d7bc85068ed",
        "IPY_MODEL_d4d7710c8f764b1794a0117cce397f84"
       ],
       "layout": "IPY_MODEL_b91e7995b23a42a482093e2bdc205229"
      }
     },
     "ef2f62a31150473ab95378283f4ca6b3": {
      "model_module": "@jupyter-widgets/base",
      "model_module_version": "1.2.0",
      "model_name": "LayoutModel",
      "state": {}
     },
     "f058e40ef1954476a1828d6ae5211ce6": {
      "model_module": "@jupyter-widgets/controls",
      "model_module_version": "1.5.0",
      "model_name": "VBoxModel",
      "state": {
       "children": [
        "IPY_MODEL_9f5340eab8de4436adc9d7f3efaeab72",
        "IPY_MODEL_3c726d768ecc460d8f22be125531d386"
       ],
       "layout": "IPY_MODEL_f26547fc445c4e389a3ead16b99b0143"
      }
     },
     "f26547fc445c4e389a3ead16b99b0143": {
      "model_module": "@jupyter-widgets/base",
      "model_module_version": "1.2.0",
      "model_name": "LayoutModel",
      "state": {}
     },
     "f4eeb8edf97f4025bafcebf9a60decb2": {
      "model_module": "@jupyter-widgets/base",
      "model_module_version": "1.2.0",
      "model_name": "LayoutModel",
      "state": {
       "width": "50%"
      }
     },
     "f559f3ade9ce42e7a036563da97084a5": {
      "model_module": "@jupyter-widgets/controls",
      "model_module_version": "1.5.0",
      "model_name": "VBoxModel",
      "state": {
       "children": [
        "IPY_MODEL_73c04d40a49a4c0790a94d352b3a9abf",
        "IPY_MODEL_2c51bcba7bbe43d78b9c2f356e8e70b6",
        "IPY_MODEL_56559b1ec55b42daa88554e3d3f760be",
        "IPY_MODEL_39aee082b98f4f4eb175a99c39e3a1c9"
       ],
       "layout": "IPY_MODEL_f4eeb8edf97f4025bafcebf9a60decb2"
      }
     },
     "f7b08fe343f348dc8ff11d3cfe96a49c": {
      "model_module": "@jupyter-widgets/base",
      "model_module_version": "1.2.0",
      "model_name": "LayoutModel",
      "state": {}
     },
     "f86e306be8c742bfb5de037849b82f18": {
      "model_module": "@jupyter-widgets/base",
      "model_module_version": "1.2.0",
      "model_name": "LayoutModel",
      "state": {
       "grid_area": "filename",
       "width": "auto"
      }
     },
     "f8b82911e1b048dd91e144cc98e34d2c": {
      "model_module": "@jupyter-widgets/controls",
      "model_module_version": "1.5.0",
      "model_name": "DescriptionStyleModel",
      "state": {
       "description_width": "initial"
      }
     },
     "f930048aa8da4b4c9ac81b01194b5711": {
      "model_module": "@jupyter-widgets/controls",
      "model_module_version": "1.5.0",
      "model_name": "DescriptionStyleModel",
      "state": {
       "description_width": "initial"
      }
     },
     "fc18ca545dfc40f7a1f06748c94edae8": {
      "model_module": "@jupyter-widgets/base",
      "model_module_version": "1.2.0",
      "model_name": "LayoutModel",
      "state": {}
     },
     "fc38bc1a218c429cbd56dade8987e69b": {
      "model_module": "@jupyter-widgets/base",
      "model_module_version": "1.2.0",
      "model_name": "LayoutModel",
      "state": {
       "display": "none",
       "width": "auto"
      }
     },
     "fe06e09727e448aba81684a551ce3670": {
      "model_module": "@jupyter-widgets/controls",
      "model_module_version": "1.5.0",
      "model_name": "VBoxModel",
      "state": {
       "children": [
        "IPY_MODEL_5e411679fb164af886853f8d1c7fb5c9",
        "IPY_MODEL_199a5782096d4326bd563353f29a53ca",
        "IPY_MODEL_5711dae1750f49a984b3881a588c571f"
       ],
       "layout": "IPY_MODEL_eeb2c95c94c24a629d8a50a8b1389839"
      }
     }
    },
    "version_major": 2,
    "version_minor": 0
   }
  }
 },
 "nbformat": 4,
 "nbformat_minor": 4
}

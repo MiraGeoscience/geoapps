version https://git-lfs.github.com/spec/v1
oid sha256:666b52ff52ddcaf78bbe08a0a692a81e56dff61aa781e0722f74933576b22c6c
size 1581913

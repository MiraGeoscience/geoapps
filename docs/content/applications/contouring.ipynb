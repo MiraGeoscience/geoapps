version https://git-lfs.github.com/spec/v1
oid sha256:b1e8e6ce2db88df7c2ca7ca2946e1461c277e4cc8224c0bfd887fb0bed705a7f
size 5435289

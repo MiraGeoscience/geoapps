version https://git-lfs.github.com/spec/v1
oid sha256:b1c0f6e340cafe8480a9e58e6ad46c13efd4cad94ade0d2bf27820985f705194
size 5435270

{
 "cells": [
  {
   "cell_type": "markdown",
   "metadata": {},
   "source": [
    "# Map View Selection\n",
    "\n",
    "With this application, users can select and downsample data interactively in 2D plan view.\n",
    "\n",
    " <img align=\"right\" width=\"20%\" src=\"./images/plot_selection.png\">  \n",
    " \n",
    "\n",
    "New user? Visit the [Getting Started](../installation.rst) page."
   ]
  },
  {
   "cell_type": "markdown",
   "metadata": {},
   "source": [
    "## Application\n",
    "The following sections provide details on the different parameters controlling the application. Interactive widgets shown below are for demonstration purposes only."
   ]
  },
  {
   "cell_type": "code",
   "execution_count": 1,
   "metadata": {
    "scrolled": false
   },
   "outputs": [
    {
     "data": {
      "application/vnd.jupyter.widget-view+json": {
       "model_id": "005f2f80a6304bcd8678c2f7e5b75389",
       "version_major": 2,
       "version_minor": 0
      },
      "text/plain": [
       "VBox(children=(VBox(children=(Dropdown(description='Object:', index=66, options=(['', None], ['fault_splay1', …"
      ]
     },
     "metadata": {},
     "output_type": "display_data"
    }
   ],
   "source": [
    "from geoapps.plotting import PlotSelection2D\n",
    "\n",
    "app = PlotSelection2D(h5file=r\"../../../assets/FlinFlon.geoh5\")\n",
    "app.main"
   ]
  },
  {
   "cell_type": "markdown",
   "metadata": {},
   "source": [
    "## Object/Data Selection\n",
    "\n",
    "List of objects available to pull data from. "
   ]
  },
  {
   "cell_type": "code",
   "execution_count": 2,
   "metadata": {
    "scrolled": true
   },
   "outputs": [
    {
     "data": {
      "application/vnd.jupyter.widget-view+json": {
       "model_id": "d197e4f8c2d94be39286f27efa6d537e",
       "version_major": 2,
       "version_minor": 0
      },
      "text/plain": [
       "VBox(children=(Dropdown(description='Object:', index=66, options=(['', None], ['fault_splay1', UUID('0febc8ad-…"
      ]
     },
     "metadata": {},
     "output_type": "display_data"
    }
   ],
   "source": [
    "app.data_panel"
   ]
  },
  {
   "cell_type": "markdown",
   "metadata": {},
   "source": [
    "See the [Object Selection](object_data_selection.ipynb) page for more details."
   ]
  },
  {
   "cell_type": "markdown",
   "metadata": {},
   "source": [
    "## Resolution\n",
    "\n",
    "Determine the minimum distance between data points. "
   ]
  },
  {
   "cell_type": "code",
   "execution_count": 3,
   "metadata": {
    "scrolled": true
   },
   "outputs": [
    {
     "data": {
      "application/vnd.jupyter.widget-view+json": {
       "model_id": "95a0b3b3380841f393ddd5a3f5c1d370",
       "version_major": 2,
       "version_minor": 0
      },
      "text/plain": [
       "FloatText(value=0.0, description='Grid Resolution (m)', style=DescriptionStyle(description_width='initial'))"
      ]
     },
     "metadata": {},
     "output_type": "display_data"
    }
   ],
   "source": [
    "app.resolution"
   ]
  },
  {
   "cell_type": "markdown",
   "metadata": {},
   "source": [
    "For `Grid2D` objects, the resolution of the grid is downsampled uniformely to the nearest interval. For example, requesting a 15 m minimum resolution on a 10 m base grid will result in a 20 m sub-sampling. \n",
    "\n",
    "For `Points`, `Curve` and `Surface` objects, the downsampling is done radially using the [Scipy.spatial.cKDTree](https://docs.scipy.org/doc/scipy/reference/generated/scipy.spatial.cKDTree.html) routine."
   ]
  },
  {
   "cell_type": "markdown",
   "metadata": {},
   "source": [
    "## Window Selection\n",
    "\n",
    "Manual selection of an area of interest and data resolution."
   ]
  },
  {
   "cell_type": "markdown",
   "metadata": {},
   "source": [
    "### Northing\n",
    "\n",
    "Vertical center position (m)"
   ]
  },
  {
   "cell_type": "code",
   "execution_count": 4,
   "metadata": {
    "scrolled": true
   },
   "outputs": [
    {
     "data": {
      "application/vnd.jupyter.widget-view+json": {
       "model_id": "0036dc66bb1f4fcf876f7e3028591777",
       "version_major": 2,
       "version_minor": 0
      },
      "text/plain": [
       "FloatSlider(value=6070767.719610019, continuous_update=False, description='Northing', max=6077578.83861151, mi…"
      ]
     },
     "metadata": {},
     "output_type": "display_data"
    }
   ],
   "source": [
    "app.center_y"
   ]
  },
  {
   "cell_type": "markdown",
   "metadata": {},
   "source": [
    "### Easting\n",
    "\n",
    "Horizontal center position (m)"
   ]
  },
  {
   "cell_type": "code",
   "execution_count": 5,
   "metadata": {
    "scrolled": false
   },
   "outputs": [
    {
     "data": {
      "application/vnd.jupyter.widget-view+json": {
       "model_id": "a64c80435320476cabda4620c07b7589",
       "version_major": 2,
       "version_minor": 0
      },
      "text/plain": [
       "FloatSlider(value=315566.45216697594, continuous_update=False, description='Easting', max=319967.7557301139, m…"
      ]
     },
     "metadata": {},
     "output_type": "display_data"
    }
   ],
   "source": [
    "app.center_x"
   ]
  },
  {
   "cell_type": "markdown",
   "metadata": {},
   "source": [
    "### Width\n",
    "\n",
    "Window size along East (m)"
   ]
  },
  {
   "cell_type": "code",
   "execution_count": 6,
   "metadata": {
    "scrolled": false
   },
   "outputs": [
    {
     "data": {
      "application/vnd.jupyter.widget-view+json": {
       "model_id": "76dfeba1174244a3b120c0966fd4170f",
       "version_major": 2,
       "version_minor": 0
      },
      "text/plain": [
       "FloatSlider(value=4401.303563137993, continuous_update=False, description='Width', max=8802.607126275985, step…"
      ]
     },
     "metadata": {},
     "output_type": "display_data"
    }
   ],
   "source": [
    "app.width"
   ]
  },
  {
   "cell_type": "markdown",
   "metadata": {},
   "source": [
    "### Height\n",
    "\n",
    "Window size along North (m)"
   ]
  },
  {
   "cell_type": "code",
   "execution_count": 7,
   "metadata": {
    "scrolled": true
   },
   "outputs": [
    {
     "data": {
      "application/vnd.jupyter.widget-view+json": {
       "model_id": "a17104c0cfb040b58a4dd51a5fd2ddcc",
       "version_major": 2,
       "version_minor": 0
      },
      "text/plain": [
       "FloatSlider(value=6811.119001491554, continuous_update=False, description='Height', max=13622.238002983107, or…"
      ]
     },
     "metadata": {},
     "output_type": "display_data"
    }
   ],
   "source": [
    "app.height"
   ]
  },
  {
   "cell_type": "markdown",
   "metadata": {},
   "source": [
    "### Azimuth\n",
    "\n",
    "Orientation of the selection window, in degree from North."
   ]
  },
  {
   "cell_type": "code",
   "execution_count": 8,
   "metadata": {
    "scrolled": true
   },
   "outputs": [
    {
     "data": {
      "application/vnd.jupyter.widget-view+json": {
       "model_id": "08b005e16ff64e5db8d3be5ce622a67c",
       "version_major": 2,
       "version_minor": 0
      },
      "text/plain": [
       "FloatSlider(value=0.0, continuous_update=False, description='Azimuth', max=90.0, min=-90.0, step=5.0)"
      ]
     },
     "metadata": {},
     "output_type": "display_data"
    }
   ],
   "source": [
    "app.azimuth"
   ]
  },
  {
   "cell_type": "markdown",
   "metadata": {},
   "source": [
    "## Zoom on selection\n",
    "\n",
    "Set the plotting area to the extent of the window selection, or keep fix to the target object extent."
   ]
  },
  {
   "cell_type": "code",
   "execution_count": 9,
   "metadata": {},
   "outputs": [
    {
     "data": {
      "application/vnd.jupyter.widget-view+json": {
       "model_id": "f97c8db9818040819a670c1e0f91d967",
       "version_major": 2,
       "version_minor": 0
      },
      "text/plain": [
       "ToggleButton(value=True, description='Zoom on selection', icon='check')"
      ]
     },
     "metadata": {},
     "output_type": "display_data"
    }
   ],
   "source": [
    "app.zoom_extent"
   ]
  },
  {
   "cell_type": "markdown",
   "metadata": {},
   "source": [
    "Need help? Contact us at support@mirageoscience.com"
   ]
  },
  {
   "cell_type": "code",
   "execution_count": 10,
   "metadata": {
    "nbsphinx": "hidden"
   },
   "outputs": [],
   "source": [
    "import matplotlib.pyplot as plt\n",
    "app.figure.savefig(\"images/plot_selection.png\", dpi=300, bbox_inches=\"tight\")"
   ]
  }
 ],
 "metadata": {
  "celltoolbar": "Edit Metadata",
  "kernelspec": {
   "display_name": "Python 3",
   "language": "python",
   "name": "python3"
  },
  "language_info": {
   "codemirror_mode": {
    "name": "ipython",
    "version": 3
   },
   "file_extension": ".py",
   "mimetype": "text/x-python",
   "name": "python",
   "nbconvert_exporter": "python",
   "pygments_lexer": "ipython3",
   "version": "3.9.4"
  },
  "widgets": {
   "application/vnd.jupyter.widget-state+json": {
    "state": {
     "00121f5ed3ce423c9eeee40994708bf4": {
      "model_module": "@jupyter-widgets/base",
      "model_module_version": "1.2.0",
      "model_name": "LayoutModel",
      "state": {}
     },
     "0012a1784af345ccaff924d02d49c220": {
      "model_module": "@jupyter-widgets/base",
      "model_module_version": "1.2.0",
      "model_name": "LayoutModel",
      "state": {
       "display": "none",
       "width": "auto"
      }
     },
     "0036dc66bb1f4fcf876f7e3028591777": {
      "model_module": "@jupyter-widgets/controls",
      "model_module_version": "1.5.0",
      "model_name": "FloatSliderModel",
      "state": {
       "continuous_update": false,
       "description": "Northing",
       "layout": "IPY_MODEL_d619af64264c4f73a51a691ced1877d0",
       "max": 6077578.83861151,
       "min": 6063956.600608527,
       "orientation": "vertical",
       "step": 10,
       "style": "IPY_MODEL_d657f2579a4a4b649e2f6ac944198f5c",
       "value": 6070767.719610019
      }
     },
     "004d3fa709914cff8ca321649c54d3d9": {
      "model_module": "@jupyter-widgets/base",
      "model_module_version": "1.2.0",
      "model_name": "LayoutModel",
      "state": {
       "grid_area": "dircontent",
       "width": "auto"
      }
     },
     "005f2f80a6304bcd8678c2f7e5b75389": {
      "model_module": "@jupyter-widgets/controls",
      "model_module_version": "1.5.0",
      "model_name": "VBoxModel",
      "state": {
       "children": [
        "IPY_MODEL_d197e4f8c2d94be39286f27efa6d537e",
        "IPY_MODEL_dbb4b58ed6dd4061adafd3423114deb9"
       ],
       "layout": "IPY_MODEL_584dacf7e470459d846904fb2e774770"
      }
     },
     "00a134dad87345a0b0a29a3113742219": {
      "model_module": "@jupyter-widgets/base",
      "model_module_version": "1.2.0",
      "model_name": "LayoutModel",
      "state": {}
     },
     "00a2dbdacdda4b29aca43a15b3d70bd3": {
      "model_module": "@jupyter-widgets/base",
      "model_module_version": "1.2.0",
      "model_name": "LayoutModel",
      "state": {
       "grid_area": "pathlist",
       "width": "auto"
      }
     },
     "012cbbdb9ceb445a99694048b9d899de": {
      "model_module": "@jupyter-widgets/controls",
      "model_module_version": "1.5.0",
      "model_name": "LabelModel",
      "state": {
       "layout": "IPY_MODEL_c87d742e2e4d416988f60b1ed610eb71",
       "style": "IPY_MODEL_4117c2d354ed41498a4c70d21e18f797",
       "value": "Workspace"
      }
     },
     "014b43a7352a468f917e6638acfdb02b": {
      "model_module": "@jupyter-widgets/controls",
      "model_module_version": "1.5.0",
      "model_name": "CheckboxModel",
      "state": {
       "description": "GA Pro - Live link",
       "disabled": false,
       "indent": false,
       "layout": "IPY_MODEL_1f6724cad5bc4d3fabf13fa4a106b1fc",
       "style": "IPY_MODEL_d23e79e24dd44db49fb3930d155aec99",
       "value": false
      }
     },
     "017eda18480f47828f35d56c28ec7694": {
      "model_module": "@jupyter-widgets/controls",
      "model_module_version": "1.5.0",
      "model_name": "DropdownModel",
      "state": {
       "_options_labels": [
        "C:\\Users\\dominiquef\\Documents\\GIT\\mira\\mirageoscience-apps\\assets",
        "C:\\Users\\dominiquef\\Documents\\GIT\\mira\\mirageoscience-apps",
        "C:\\Users\\dominiquef\\Documents\\GIT\\mira",
        "C:\\Users\\dominiquef\\Documents\\GIT",
        "C:\\Users\\dominiquef\\Documents",
        "C:\\Users\\dominiquef",
        "C:\\Users",
        "C:\\",
        "D:\\",
        "Z:\\"
       ],
       "index": 0,
       "layout": "IPY_MODEL_914e875898a9402c96cac95a6641241a",
       "style": "IPY_MODEL_0285fac2027d40f797e7c8e4f2b0cf0f"
      }
     },
     "01e5bfc7e3964c308df46be5c311beb9": {
      "model_module": "@jupyter-widgets/controls",
      "model_module_version": "1.5.0",
      "model_name": "DescriptionStyleModel",
      "state": {
       "description_width": "initial"
      }
     },
     "0215834beef74b93b7afe09f31cdede4": {
      "model_module": "@jupyter-widgets/controls",
      "model_module_version": "1.5.0",
      "model_name": "DescriptionStyleModel",
      "state": {
       "description_width": "initial"
      }
     },
     "0252975698d54c7b8ba360a546a255d0": {
      "model_module": "@jupyter-widgets/base",
      "model_module_version": "1.2.0",
      "model_name": "LayoutModel",
      "state": {}
     },
     "0277024cb5794bffb882aeb0d7a28bdd": {
      "model_module": "@jupyter-widgets/controls",
      "model_module_version": "1.5.0",
      "model_name": "VBoxModel",
      "state": {
       "children": [
        "IPY_MODEL_f7866c32f49c4a549189aa9d07e3fbe6",
        "IPY_MODEL_6319f6a6785042989a847fc277836987"
       ],
       "layout": "IPY_MODEL_bcf7aac8f76e452e86fa7aba0f6dd5d3"
      }
     },
     "027b05070fd04e83b1e8bd5fec03aafe": {
      "model_module": "@jupyter-widgets/controls",
      "model_module_version": "1.5.0",
      "model_name": "ButtonStyleModel",
      "state": {}
     },
     "0285fac2027d40f797e7c8e4f2b0cf0f": {
      "model_module": "@jupyter-widgets/controls",
      "model_module_version": "1.5.0",
      "model_name": "DescriptionStyleModel",
      "state": {
       "description_width": ""
      }
     },
     "02f9f8ffc3644e66b82bfc48d488eae5": {
      "model_module": "@jupyter-widgets/controls",
      "model_module_version": "1.5.0",
      "model_name": "DescriptionStyleModel",
      "state": {
       "description_width": ""
      }
     },
     "02fe9f4f1d804b08b576a7c4ad2489e5": {
      "model_module": "@jupyter-widgets/base",
      "model_module_version": "1.2.0",
      "model_name": "LayoutModel",
      "state": {}
     },
     "03249d8a9912437ea075a467827e8c51": {
      "model_module": "@jupyter-widgets/controls",
      "model_module_version": "1.5.0",
      "model_name": "GridBoxModel",
      "state": {
       "children": [
        "IPY_MODEL_e519614087be4f9e8b8d4983da6e9f68",
        "IPY_MODEL_3766a0d43f1b4236b4d5fd41fb0751b9",
        "IPY_MODEL_662908b96c1b456b912a2d4628f8682d"
       ],
       "layout": "IPY_MODEL_2b1b9e0236554ad7abc60b426cbe7560"
      }
     },
     "0325d3bd6f144e0194f851aed11ed0d1": {
      "model_module": "@jupyter-widgets/controls",
      "model_module_version": "1.5.0",
      "model_name": "ButtonStyleModel",
      "state": {}
     },
     "035cf254b73d494597c1d9963e414391": {
      "model_module": "@jupyter-widgets/controls",
      "model_module_version": "1.5.0",
      "model_name": "DescriptionStyleModel",
      "state": {
       "description_width": ""
      }
     },
     "0383f33de4a84b3fb63a3f8d60c7916a": {
      "model_module": "@jupyter-widgets/base",
      "model_module_version": "1.2.0",
      "model_name": "LayoutModel",
      "state": {}
     },
     "03d9b4c7840d4d6896ec6ac1c16f2c36": {
      "model_module": "@jupyter-widgets/controls",
      "model_module_version": "1.5.0",
      "model_name": "DropdownModel",
      "state": {
       "_options_labels": [
        "C:\\Users\\dominiquef\\Documents\\GIT\\mira\\mirageoscience-apps\\docs\\content\\applications",
        "C:\\Users\\dominiquef\\Documents\\GIT\\mira\\mirageoscience-apps\\docs\\content",
        "C:\\Users\\dominiquef\\Documents\\GIT\\mira\\mirageoscience-apps\\docs",
        "C:\\Users\\dominiquef\\Documents\\GIT\\mira\\mirageoscience-apps",
        "C:\\Users\\dominiquef\\Documents\\GIT\\mira",
        "C:\\Users\\dominiquef\\Documents\\GIT",
        "C:\\Users\\dominiquef\\Documents",
        "C:\\Users\\dominiquef",
        "C:\\Users",
        "C:\\",
        "D:\\",
        "Z:\\"
       ],
       "index": 0,
       "layout": "IPY_MODEL_dfb85e47c5034a6984179ac5c1974ded",
       "style": "IPY_MODEL_d5436caa15c5428ba726cdd7bfe38aad"
      }
     },
     "03dc180bab094a3faaddb16888ac0c4d": {
      "model_module": "@jupyter-widgets/base",
      "model_module_version": "1.2.0",
      "model_name": "LayoutModel",
      "state": {}
     },
     "03f4a1e5c389449497107d5354fbd021": {
      "model_module": "@jupyter-widgets/base",
      "model_module_version": "1.2.0",
      "model_name": "LayoutModel",
      "state": {}
     },
     "0485b8ac5d1744108d8cfa8731fdf8dc": {
      "model_module": "@jupyter-widgets/controls",
      "model_module_version": "1.5.0",
      "model_name": "HTMLModel",
      "state": {
       "layout": "IPY_MODEL_80c8eac498f84d9da88b6b87f8354217",
       "style": "IPY_MODEL_ca8331c99ac1482c912974675779403f"
      }
     },
     "04f009d6b21f4a90af5174d70a3a9f86": {
      "model_module": "@jupyter-widgets/base",
      "model_module_version": "1.2.0",
      "model_name": "LayoutModel",
      "state": {}
     },
     "05189ced613f42f39f61607e09efb283": {
      "model_module": "@jupyter-widgets/controls",
      "model_module_version": "1.5.0",
      "model_name": "DescriptionStyleModel",
      "state": {
       "description_width": ""
      }
     },
     "0542bc9c93f8428e91a368bc45fd859f": {
      "model_module": "@jupyter-widgets/controls",
      "model_module_version": "1.5.0",
      "model_name": "SliderStyleModel",
      "state": {
       "description_width": ""
      }
     },
     "056465c7aced4731a66d2b7977210d5c": {
      "model_module": "@jupyter-widgets/controls",
      "model_module_version": "1.5.0",
      "model_name": "SelectModel",
      "state": {
       "_options_labels": [
        "..",
        "Temp",
        "FlinFlon.geoh5",
        "Inversion_.json",
        "MtDore_TMI.geoh5"
       ],
       "index": 2,
       "layout": "IPY_MODEL_004d3fa709914cff8ca321649c54d3d9",
       "rows": 8,
       "style": "IPY_MODEL_e81bd8054b5140cbb97f81fee8ca616f"
      }
     },
     "05b1ffff34514cc78a393f5dfe52dded": {
      "model_module": "@jupyter-widgets/base",
      "model_module_version": "1.2.0",
      "model_name": "LayoutModel",
      "state": {
       "display": "none"
      }
     },
     "05dd5efadf484a7e94f3f7598363a584": {
      "model_module": "@jupyter-widgets/controls",
      "model_module_version": "1.5.0",
      "model_name": "DescriptionStyleModel",
      "state": {
       "description_width": ""
      }
     },
     "05f109d16bf24417b5149f845bfb2b03": {
      "model_module": "@jupyter-widgets/controls",
      "model_module_version": "1.5.0",
      "model_name": "ButtonModel",
      "state": {
       "description": "Select",
       "layout": "IPY_MODEL_77f8304abcbe416db259b0de7e3ee0c8",
       "style": "IPY_MODEL_cfd4b630527a475f90f75f026de0ffa8"
      }
     },
     "0651fed11e0d4196899110c0cb32e5d3": {
      "model_module": "@jupyter-widgets/base",
      "model_module_version": "1.2.0",
      "model_name": "LayoutModel",
      "state": {}
     },
     "06fd04f18f8f4a7c81c7f999cf7c892d": {
      "model_module": "@jupyter-widgets/controls",
      "model_module_version": "1.5.0",
      "model_name": "DropdownModel",
      "state": {
       "_options_labels": [
        "",
        "--- Channels ---",
        "Airborne_Gxx",
        "Airborne_Gxy",
        "Airborne_Gxz",
        "Airborne_Gyy",
        "Airborne_Gyz",
        "Airborne_Gz",
        "Airborne_Gzz",
        "Airborne_TMI",
        "Ground_Gz",
        "Z"
       ],
       "description": "Data: ",
       "index": 9,
       "layout": "IPY_MODEL_ac7cacb9479046acb045b970cedfe50f",
       "style": "IPY_MODEL_729ea20628b74885ae0e1b405c12ff54"
      }
     },
     "073c7ac65be8487897d30e12215feb6b": {
      "model_module": "@jupyter-widgets/base",
      "model_module_version": "1.2.0",
      "model_name": "LayoutModel",
      "state": {}
     },
     "0766c9ec20bf40e287a17f7124a75a70": {
      "model_module": "@jupyter-widgets/controls",
      "model_module_version": "1.5.0",
      "model_name": "VBoxModel",
      "state": {
       "children": [
        "IPY_MODEL_f0a14fa8bc374456a07dc9b79415475f",
        "IPY_MODEL_b8d97428ae6242308207bfcdf729fe94"
       ],
       "layout": "IPY_MODEL_2fc82011ab5b4255abd7b01d7f16ea1f"
      }
     },
     "07f6a66fa4f542b68854ff42ade7f560": {
      "model_module": "@jupyter-widgets/base",
      "model_module_version": "1.2.0",
      "model_name": "LayoutModel",
      "state": {
       "width": "auto"
      }
     },
     "08a958b0ceac426e8db724a44f7eac44": {
      "model_module": "@jupyter-widgets/controls",
      "model_module_version": "1.5.0",
      "model_name": "DescriptionStyleModel",
      "state": {
       "description_width": ""
      }
     },
     "08b005e16ff64e5db8d3be5ce622a67c": {
      "model_module": "@jupyter-widgets/controls",
      "model_module_version": "1.5.0",
      "model_name": "FloatSliderModel",
      "state": {
       "continuous_update": false,
       "description": "Azimuth",
       "layout": "IPY_MODEL_ced4fb3cdb2f40c1a3478898184bb5a4",
       "max": 90,
       "min": -90,
       "step": 5,
       "style": "IPY_MODEL_0542bc9c93f8428e91a368bc45fd859f"
      }
     },
     "08dc118c4be94b378cdacd4434b621ac": {
      "model_module": "@jupyter-widgets/base",
      "model_module_version": "1.2.0",
      "model_name": "LayoutModel",
      "state": {}
     },
     "090f05f4f559413aa76ff4efbb39318b": {
      "model_module": "@jupyter-widgets/controls",
      "model_module_version": "1.5.0",
      "model_name": "DescriptionStyleModel",
      "state": {
       "description_width": ""
      }
     },
     "09394a09b4a74e1091ea586f592ff666": {
      "model_module": "@jupyter-widgets/base",
      "model_module_version": "1.2.0",
      "model_name": "LayoutModel",
      "state": {}
     },
     "0954dc215e434ef9993bda2f56e2f75d": {
      "model_module": "@jupyter-widgets/base",
      "model_module_version": "1.2.0",
      "model_name": "LayoutModel",
      "state": {}
     },
     "0970620b7a3b4d30a7149567479856e4": {
      "model_module": "@jupyter-widgets/controls",
      "model_module_version": "1.5.0",
      "model_name": "ButtonStyleModel",
      "state": {}
     },
     "0984064a246443f38e06cb301db309a1": {
      "model_module": "@jupyter-widgets/base",
      "model_module_version": "1.2.0",
      "model_name": "LayoutModel",
      "state": {}
     },
     "098d4a80d105490caf5b273c105a7e07": {
      "model_module": "@jupyter-widgets/controls",
      "model_module_version": "1.5.0",
      "model_name": "DropdownModel",
      "state": {
       "_options_labels": [
        "",
        "fault_splay1",
        "fault_Cliff_Lake",
        "fault_Other_FlinFlon",
        "fault_Club_Lake_splay",
        "fault_Catherine_splay2",
        "fault_Birch_View",
        "fault_Dion_Lake",
        "fault_FlinFlon_splay",
        "fault_West_Mandy_Road",
        "fault_Channing",
        "fault_Ross_Lake",
        "fault_Louis_Hidden",
        "fault_Lake_View_thrust",
        "contact_Schist_Lake",
        "fault_Burley_Lake",
        "fault_Dion_Lake_splay",
        "fault_Green_Lake",
        "fault_FlinFlon",
        "fault_Catherine_splay1",
        "fault_East_Mandy_Road",
        "fault_Other_FlinFlon_South",
        "fault_Catherine_splay4",
        "contact_Stitt_Island",
        "fault_Club_Lake",
        "fault_Tailing_Pond",
        "35_Hidden_Reservoir_Hr5",
        "29_Hidden_Reservoir_Hr1a",
        "60_BlueLagoon_Fb2",
        "20_FlinFlon_Undivided_Int_Dykes_D2f",
        "04_Boundary_Intrusive_S4h",
        "53_Millrock_Rhyolite_Fm4b",
        "19_FlinFlon_Undivided_Int_Dykes_D2b",
        "18_FlinFlon_Undivided_Int_Dykes_777_D2b",
        "06_Phantom_Lake_Intrusive_S3a",
        "21_FlinFlon_Undivided_Int_Dykes_D3a",
        "43_Millrock_CHLSH_South",
        "56_Millrock_Basalt_Fm1ba",
        "17_FlinFlon_Undivided_Int_Dykes_D2",
        "32_Hidden_Reservoir_Hr1b_SW",
        "11_Missi_M3_NE",
        "13_Missi_M1",
        "07_Annabel_Granitoid_S1",
        "45_Millrock_Gabbro_South",
        "01_Late_Intrusive_S5b",
        "31_Hidden_Reservoir_Hr1c_SW",
        "52_Millrock_Rhyolite_Fm4_West_check",
        "55_Millrock_Basalt_Fm1bf",
        "34_Hidden_Reservoir_Hr2b",
        "03_Boundary_Intrusive_S4b",
        "42_Millrock_CHLSH_North",
        "26_Louis_L3",
        "23_FlinFlon_Undivided_Int_Felsic_D4g",
        "30_Hidden_Reservoir_Hr1b",
        "59_BlueLagoon_Fb3",
        "49_Millrock_MVR_Fm5d",
        "44_Millrock_Gabbro_North",
        "27_Hidden_Carlisle_Hc4",
        "22_FlinFlon_Undivided_Int_Felsic_D4e",
        "02_Boundary_Intrusive_S4a",
        "61_BlueLagoon_Fb1_NW",
        "05_Boundary_Intrusive_S4g",
        "39_Ore_Callinan",
        "38_Ore_Dan_Owens",
        "40_Ore_FlinFlon",
        "Inversion_VTEM_Model",
        "Gravity_Magnetics_drape60m",
        "CDI_VTEM_model",
        "Data_FEM_pseudo3D",
        "O2O_Interp_25m",
        "geochem",
        "Inversion_DIGHEM_Model",
        "Topography",
        "Data_TEM_pseudo3D"
       ],
       "description": "Object:",
       "index": 66,
       "layout": "IPY_MODEL_fcd876a05a6745b7b8795803837827e8",
       "style": "IPY_MODEL_0fb53b51a4de42a89959bf2b5340baef"
      }
     },
     "09b4cf430359428bbd85f198a83f25eb": {
      "model_module": "@jupyter-widgets/base",
      "model_module_version": "1.2.0",
      "model_name": "LayoutModel",
      "state": {
       "width": "auto"
      }
     },
     "09ddab1881054ad9af846d3bb3a7dfc7": {
      "model_module": "@jupyter-widgets/controls",
      "model_module_version": "1.5.0",
      "model_name": "ButtonStyleModel",
      "state": {}
     },
     "09f1b9e7c8be4aaca35f4b480f34c61b": {
      "model_module": "@jupyter-widgets/controls",
      "model_module_version": "1.5.0",
      "model_name": "TextModel",
      "state": {
       "disabled": true,
       "layout": "IPY_MODEL_364b12e6635e42128ba5317594bbc2a0",
       "placeholder": "output filename",
       "style": "IPY_MODEL_bd567437ab2c43899d9ffb553a4fec69"
      }
     },
     "0a02db384afb4d048a5e50b9c92b1eac": {
      "model_module": "@jupyter-widgets/base",
      "model_module_version": "1.2.0",
      "model_name": "LayoutModel",
      "state": {}
     },
     "0a211acc62fe4eb28410e445968b2972": {
      "model_module": "@jupyter-widgets/controls",
      "model_module_version": "1.5.0",
      "model_name": "FloatSliderModel",
      "state": {
       "continuous_update": false,
       "description": "Northing",
       "layout": "IPY_MODEL_140a3f3dd12d4de2aff3ba7d24032742",
       "max": 6076443.652111261,
       "min": 6065091.787108775,
       "orientation": "vertical",
       "step": 0.1,
       "style": "IPY_MODEL_304988f47f9f4ab5bafda2f80b0e4666",
       "value": 6070767.719610019
      }
     },
     "0a3c069cf0df4c56b9c6c5884f35111d": {
      "model_module": "@jupyter-widgets/controls",
      "model_module_version": "1.5.0",
      "model_name": "HTMLModel",
      "state": {
       "layout": "IPY_MODEL_05b1ffff34514cc78a393f5dfe52dded",
       "style": "IPY_MODEL_be28e11caf3a4bd4a762a86bec4a4d30"
      }
     },
     "0a59e096aee846cd8dda390e079b0b94": {
      "model_module": "@jupyter-widgets/controls",
      "model_module_version": "1.5.0",
      "model_name": "GridBoxModel",
      "state": {
       "children": [
        "IPY_MODEL_69dd6a64c7a24996b6c60bd8623ad031",
        "IPY_MODEL_5b6bae98cc7e4f17ad11ec8d83c10525",
        "IPY_MODEL_db68278725ce40b79010cc7a8d61a7c5"
       ],
       "layout": "IPY_MODEL_a582b67bfabc403ba4856d804a1ebe90"
      }
     },
     "0ac2319ed5e54f6f86c337063c5a8d3a": {
      "model_module": "@jupyter-widgets/controls",
      "model_module_version": "1.5.0",
      "model_name": "SliderStyleModel",
      "state": {
       "description_width": ""
      }
     },
     "0ac59790e2a74692a05f3d62cfe1894a": {
      "model_module": "@jupyter-widgets/controls",
      "model_module_version": "1.5.0",
      "model_name": "VBoxModel",
      "state": {
       "children": [
        "IPY_MODEL_a7792128e66a457983d6848c99f86568"
       ],
       "layout": "IPY_MODEL_a483370ca7ef4d8f9ec66b9e982c73d7"
      }
     },
     "0b0bfd65fdc3455aaff503210f489d38": {
      "model_module": "@jupyter-widgets/controls",
      "model_module_version": "1.5.0",
      "model_name": "VBoxModel",
      "state": {
       "children": [
        "IPY_MODEL_a3ede07018444d84982f6b2e1c51286e",
        "IPY_MODEL_0a59e096aee846cd8dda390e079b0b94",
        "IPY_MODEL_60f39df7309e44d5bb39d73bf536c5a6"
       ],
       "layout": "IPY_MODEL_07f6a66fa4f542b68854ff42ade7f560"
      }
     },
     "0b3948abdf5d4da98bf4c6bacd7b6aa7": {
      "model_module": "@jupyter-widgets/controls",
      "model_module_version": "1.5.0",
      "model_name": "VBoxModel",
      "state": {
       "children": [
        "IPY_MODEL_483ff8892125419490798ee81c41ed52",
        "IPY_MODEL_b30c167aea924d05aa93fc066f0fa3f6"
       ],
       "layout": "IPY_MODEL_32a30ab07e7e4488b282d830caff9754"
      }
     },
     "0b84f90dce9e4716a0311ba7d30e5261": {
      "model_module": "@jupyter-widgets/controls",
      "model_module_version": "1.5.0",
      "model_name": "DescriptionStyleModel",
      "state": {
       "description_width": ""
      }
     },
     "0bd85e9c3d044c07be237da217760826": {
      "model_module": "@jupyter-widgets/controls",
      "model_module_version": "1.5.0",
      "model_name": "DropdownModel",
      "state": {
       "_options_labels": [
        "",
        "--- Channels ---",
        "Airborne_Gxx",
        "Airborne_Gxy",
        "Airborne_Gxz",
        "Airborne_Gyy",
        "Airborne_Gyz",
        "Airborne_Gz",
        "Airborne_Gzz",
        "Airborne_TMI",
        "Ground_Gz",
        "Z"
       ],
       "description": "Data: ",
       "index": 9,
       "layout": "IPY_MODEL_a48afe7c2d75446f8da03b3ebe854353",
       "style": "IPY_MODEL_2d64e035bdff4d36905e5c19e5d42324"
      }
     },
     "0c0701d0ecfb477694e0fdd342f8d427": {
      "model_module": "@jupyter-widgets/base",
      "model_module_version": "1.2.0",
      "model_name": "LayoutModel",
      "state": {
       "display": "none",
       "grid_gap": "0px 0px",
       "grid_template_areas": "\n                    'pathlist filename'\n                    'dircontent dircontent'\n                    ",
       "grid_template_columns": "60% 40%",
       "grid_template_rows": "auto auto",
       "width": "500px"
      }
     },
     "0d1b1c2b319d40c79be112906de28888": {
      "model_module": "@jupyter-widgets/base",
      "model_module_version": "1.2.0",
      "model_name": "LayoutModel",
      "state": {}
     },
     "0d4e2ae450084ba8ba9b169664b2b511": {
      "model_module": "@jupyter-widgets/controls",
      "model_module_version": "1.5.0",
      "model_name": "DescriptionStyleModel",
      "state": {
       "description_width": ""
      }
     },
     "0d671004921845689b9b0ba6c3075698": {
      "model_module": "@jupyter-widgets/controls",
      "model_module_version": "1.5.0",
      "model_name": "HBoxModel",
      "state": {
       "children": [
        "IPY_MODEL_c410779901d542caaff227fab2ba786a",
        "IPY_MODEL_fce44eaf03e54884b56039fc68b69008"
       ],
       "layout": "IPY_MODEL_cf717491f982475c9102091fa52ed7d2"
      }
     },
     "0d9ad353232d4eaa96575818df9314a5": {
      "model_module": "@jupyter-widgets/controls",
      "model_module_version": "1.5.0",
      "model_name": "DropdownModel",
      "state": {
       "_options_labels": [
        "",
        "fault_splay1",
        "fault_Cliff_Lake",
        "fault_Other_FlinFlon",
        "fault_Club_Lake_splay",
        "fault_Catherine_splay2",
        "fault_Birch_View",
        "fault_Dion_Lake",
        "fault_FlinFlon_splay",
        "fault_West_Mandy_Road",
        "fault_Channing",
        "fault_Ross_Lake",
        "fault_Louis_Hidden",
        "fault_Lake_View_thrust",
        "contact_Schist_Lake",
        "fault_Burley_Lake",
        "fault_Dion_Lake_splay",
        "fault_Green_Lake",
        "fault_FlinFlon",
        "fault_Catherine_splay1",
        "fault_East_Mandy_Road",
        "fault_Other_FlinFlon_South",
        "fault_Catherine_splay4",
        "contact_Stitt_Island",
        "fault_Club_Lake",
        "fault_Tailing_Pond",
        "35_Hidden_Reservoir_Hr5",
        "29_Hidden_Reservoir_Hr1a",
        "60_BlueLagoon_Fb2",
        "20_FlinFlon_Undivided_Int_Dykes_D2f",
        "04_Boundary_Intrusive_S4h",
        "53_Millrock_Rhyolite_Fm4b",
        "19_FlinFlon_Undivided_Int_Dykes_D2b",
        "18_FlinFlon_Undivided_Int_Dykes_777_D2b",
        "06_Phantom_Lake_Intrusive_S3a",
        "21_FlinFlon_Undivided_Int_Dykes_D3a",
        "43_Millrock_CHLSH_South",
        "56_Millrock_Basalt_Fm1ba",
        "17_FlinFlon_Undivided_Int_Dykes_D2",
        "32_Hidden_Reservoir_Hr1b_SW",
        "11_Missi_M3_NE",
        "13_Missi_M1",
        "07_Annabel_Granitoid_S1",
        "45_Millrock_Gabbro_South",
        "01_Late_Intrusive_S5b",
        "31_Hidden_Reservoir_Hr1c_SW",
        "52_Millrock_Rhyolite_Fm4_West_check",
        "55_Millrock_Basalt_Fm1bf",
        "34_Hidden_Reservoir_Hr2b",
        "03_Boundary_Intrusive_S4b",
        "42_Millrock_CHLSH_North",
        "26_Louis_L3",
        "23_FlinFlon_Undivided_Int_Felsic_D4g",
        "30_Hidden_Reservoir_Hr1b",
        "59_BlueLagoon_Fb3",
        "49_Millrock_MVR_Fm5d",
        "44_Millrock_Gabbro_North",
        "27_Hidden_Carlisle_Hc4",
        "22_FlinFlon_Undivided_Int_Felsic_D4e",
        "02_Boundary_Intrusive_S4a",
        "61_BlueLagoon_Fb1_NW",
        "05_Boundary_Intrusive_S4g",
        "39_Ore_Callinan",
        "38_Ore_Dan_Owens",
        "40_Ore_FlinFlon",
        "Inversion_VTEM_Model",
        "Gravity_Magnetics_drape60m",
        "CDI_VTEM_model",
        "Data_FEM_pseudo3D",
        "O2O_Interp_25m",
        "geochem",
        "Inversion_DIGHEM_Model",
        "Topography",
        "Data_TEM_pseudo3D"
       ],
       "description": "Object:",
       "index": 66,
       "layout": "IPY_MODEL_d002e8bf638a48ddaf73c4fe087d44b0",
       "style": "IPY_MODEL_d906e8dfd372467fa9a10d4920eaf7e5"
      }
     },
     "0db600f9058b4dbf82f2415b560cea9b": {
      "model_module": "@jupyter-widgets/controls",
      "model_module_version": "1.5.0",
      "model_name": "DescriptionStyleModel",
      "state": {
       "description_width": "initial"
      }
     },
     "0dbcd10abcc4454e9f927c1454debfac": {
      "model_module": "@jupyter-widgets/base",
      "model_module_version": "1.2.0",
      "model_name": "LayoutModel",
      "state": {
       "display": "none",
       "grid_area": "filename",
       "width": "auto"
      }
     },
     "0df6b494daf64312b118398193033391": {
      "model_module": "@jupyter-widgets/controls",
      "model_module_version": "1.5.0",
      "model_name": "DescriptionStyleModel",
      "state": {
       "description_width": ""
      }
     },
     "0dfcefad2a434ce2a0932f848449b3c4": {
      "model_module": "@jupyter-widgets/controls",
      "model_module_version": "1.5.0",
      "model_name": "DescriptionStyleModel",
      "state": {
       "description_width": ""
      }
     },
     "0e0726d36b3c43589ded8bfec6a1871e": {
      "model_module": "@jupyter-widgets/base",
      "model_module_version": "1.2.0",
      "model_name": "LayoutModel",
      "state": {
       "display": "none",
       "grid_gap": "0px 0px",
       "grid_template_areas": "\n                    'pathlist filename'\n                    'dircontent dircontent'\n                    ",
       "grid_template_columns": "60% 40%",
       "grid_template_rows": "auto auto",
       "width": "500px"
      }
     },
     "0e2de67536c9407ea8e7814d6a9381ce": {
      "model_module": "@jupyter-widgets/controls",
      "model_module_version": "1.5.0",
      "model_name": "VBoxModel",
      "state": {
       "children": [
        "IPY_MODEL_e41f3818d2e14c8a9fadaea92b170718",
        "IPY_MODEL_ca4a9bcbd4784fceb7e5881ee917cbef"
       ],
       "layout": "IPY_MODEL_e7536db587424bea9805ffc41e310f3f"
      }
     },
     "0e3ea604719d4c4a94512c46df870dc4": {
      "model_module": "@jupyter-widgets/base",
      "model_module_version": "1.2.0",
      "model_name": "LayoutModel",
      "state": {}
     },
     "0e5ce13c71594f2cad51de51abf23eb7": {
      "model_module": "@jupyter-widgets/base",
      "model_module_version": "1.2.0",
      "model_name": "LayoutModel",
      "state": {}
     },
     "0e8447b4d4db495984fe5334216f8780": {
      "model_module": "@jupyter-widgets/controls",
      "model_module_version": "1.5.0",
      "model_name": "ButtonStyleModel",
      "state": {}
     },
     "0ec47d48a472492b814ee0cec0b97d50": {
      "model_module": "@jupyter-widgets/base",
      "model_module_version": "1.2.0",
      "model_name": "LayoutModel",
      "state": {}
     },
     "0eef8906f8d340ca851fce463e0a0a98": {
      "model_module": "@jupyter-widgets/controls",
      "model_module_version": "1.5.0",
      "model_name": "ButtonModel",
      "state": {
       "description": "Change",
       "layout": "IPY_MODEL_58a06268176343c5824765ea4b4275b9",
       "style": "IPY_MODEL_acb2689f5d394207b00c36db4aac96cd"
      }
     },
     "0ef955f8295443cdb9a29bdc2e257348": {
      "model_module": "@jupyter-widgets/base",
      "model_module_version": "1.2.0",
      "model_name": "LayoutModel",
      "state": {}
     },
     "0f039138fb2c44a1a8fb0a0b210dea78": {
      "model_module": "@jupyter-widgets/base",
      "model_module_version": "1.2.0",
      "model_name": "LayoutModel",
      "state": {}
     },
     "0f125a3a8bc34b8999b5198194b549b1": {
      "model_module": "@jupyter-widgets/controls",
      "model_module_version": "1.5.0",
      "model_name": "HTMLModel",
      "state": {
       "layout": "IPY_MODEL_da95424ebbc148a49add34a3043511b5",
       "style": "IPY_MODEL_e4efde444a26488896f8587989d2198e"
      }
     },
     "0f155854eb0c4955947bc7be2557a923": {
      "model_module": "@jupyter-widgets/controls",
      "model_module_version": "1.5.0",
      "model_name": "FloatSliderModel",
      "state": {
       "continuous_update": false,
       "description": "Azimuth",
       "layout": "IPY_MODEL_30dd40c7d8f849b6ab4eccb8e53651e4",
       "max": 90,
       "min": -90,
       "step": 0.1,
       "style": "IPY_MODEL_d7ea9c257d1247e98720c4bb6a0e18e8"
      }
     },
     "0f5d8e0983f64a29a56d4dfd28a42838": {
      "model_module": "@jupyter-widgets/controls",
      "model_module_version": "1.5.0",
      "model_name": "DescriptionStyleModel",
      "state": {
       "description_width": "initial"
      }
     },
     "0f9e2c2667f840e88efb73b613a0120d": {
      "model_module": "@jupyter-widgets/base",
      "model_module_version": "1.2.0",
      "model_name": "LayoutModel",
      "state": {
       "width": "auto"
      }
     },
     "0fad4870901d4f82be19d29cd325ed19": {
      "model_module": "@jupyter-widgets/base",
      "model_module_version": "1.2.0",
      "model_name": "LayoutModel",
      "state": {
       "width": "auto"
      }
     },
     "0fb53b51a4de42a89959bf2b5340baef": {
      "model_module": "@jupyter-widgets/controls",
      "model_module_version": "1.5.0",
      "model_name": "DescriptionStyleModel",
      "state": {
       "description_width": "initial"
      }
     },
     "0fb7e0fe59d54ae595f6d1331a7013ce": {
      "model_module": "@jupyter-widgets/controls",
      "model_module_version": "1.5.0",
      "model_name": "SelectModel",
      "state": {
       "_options_labels": [
        "..",
        "SimPEG_PFInversion",
        "Temp",
        "dask-worker-space",
        "Crossplot.html",
        "FlinFlon.geoh5",
        "MtDore_TMI.geoh5"
       ],
       "index": 5,
       "layout": "IPY_MODEL_ffc5c1496d99434abcb60dec94f15749",
       "rows": 8,
       "style": "IPY_MODEL_85e3972a0b2c4a99bab8d3922aa01832"
      }
     },
     "107c16fe97684deba4e579b59ed59cd3": {
      "model_module": "@jupyter-widgets/base",
      "model_module_version": "1.2.0",
      "model_name": "LayoutModel",
      "state": {
       "grid_area": "pathlist",
       "width": "auto"
      }
     },
     "10c7f0469a4d4b6d9f617ba584b0a0dd": {
      "model_module": "@jupyter-widgets/base",
      "model_module_version": "1.2.0",
      "model_name": "LayoutModel",
      "state": {}
     },
     "1124fb1e7c4a43b1af8d822066b93027": {
      "model_module": "@jupyter-widgets/base",
      "model_module_version": "1.2.0",
      "model_name": "LayoutModel",
      "state": {}
     },
     "11a506637bc74c02b35097d8832046ec": {
      "model_module": "@jupyter-widgets/controls",
      "model_module_version": "1.5.0",
      "model_name": "VBoxModel",
      "state": {
       "children": [
        "IPY_MODEL_ada9e8b2011e4cd0868b070933897ca5",
        "IPY_MODEL_c89d062109094a16b330c01f9c00302e"
       ],
       "layout": "IPY_MODEL_983d296bca6447ca8c88487387a516a3"
      }
     },
     "11cd02d779834e0b9576cd9b899f767f": {
      "model_module": "@jupyter-widgets/controls",
      "model_module_version": "1.5.0",
      "model_name": "ButtonModel",
      "state": {
       "description": "Change",
       "layout": "IPY_MODEL_e7c4a9acd4bb44c9a8d896f51b6ad16e",
       "style": "IPY_MODEL_0e8447b4d4db495984fe5334216f8780"
      }
     },
     "120dc620d6f7475ba80053f687226003": {
      "model_module": "@jupyter-widgets/controls",
      "model_module_version": "1.5.0",
      "model_name": "FloatSliderModel",
      "state": {
       "continuous_update": false,
       "description": "Easting",
       "layout": "IPY_MODEL_e2a440be7b014c18b5cf25be55f5ffb0",
       "max": 319234.2051362576,
       "min": 311898.69919769425,
       "step": 0.1,
       "style": "IPY_MODEL_357d1cc40adf4d6480c2fbfa9bac0fdd",
       "value": 315566.45216697594
      }
     },
     "1275bab474894fa3979ad5a02a1c2007": {
      "model_module": "@jupyter-widgets/base",
      "model_module_version": "1.2.0",
      "model_name": "LayoutModel",
      "state": {
       "width": "auto"
      }
     },
     "12db985e5c94476b9121a6bde87b6ae6": {
      "model_module": "@jupyter-widgets/controls",
      "model_module_version": "1.5.0",
      "model_name": "DescriptionStyleModel",
      "state": {
       "description_width": "initial"
      }
     },
     "12eda96fe49a45e58d69e86bf654f592": {
      "model_module": "@jupyter-widgets/controls",
      "model_module_version": "1.5.0",
      "model_name": "DescriptionStyleModel",
      "state": {
       "description_width": "initial"
      }
     },
     "13846aaea3db499ab693e507e81fc915": {
      "model_module": "@jupyter-widgets/controls",
      "model_module_version": "1.5.0",
      "model_name": "DropdownModel",
      "state": {
       "_options_labels": [
        "C:\\Users\\dominiquef\\Documents\\GIT\\mira\\mirageoscience-apps\\assets",
        "C:\\Users\\dominiquef\\Documents\\GIT\\mira\\mirageoscience-apps",
        "C:\\Users\\dominiquef\\Documents\\GIT\\mira",
        "C:\\Users\\dominiquef\\Documents\\GIT",
        "C:\\Users\\dominiquef\\Documents",
        "C:\\Users\\dominiquef",
        "C:\\Users",
        "C:\\",
        "D:\\",
        "Z:\\"
       ],
       "index": 0,
       "layout": "IPY_MODEL_107c16fe97684deba4e579b59ed59cd3",
       "style": "IPY_MODEL_dd818d8a30cb4141963db839fa34528b"
      }
     },
     "13d6fff2ba6842a28239edcf820e025a": {
      "model_module": "@jupyter-widgets/controls",
      "model_module_version": "1.5.0",
      "model_name": "DescriptionStyleModel",
      "state": {
       "description_width": ""
      }
     },
     "13e81944d825435e835c7ef17d2669d0": {
      "model_module": "@jupyter-widgets/controls",
      "model_module_version": "1.5.0",
      "model_name": "VBoxModel",
      "state": {
       "children": [
        "IPY_MODEL_d498a70a99234e66b91ea7a31f599be4",
        "IPY_MODEL_06fd04f18f8f4a7c81c7f999cf7c892d"
       ],
       "layout": "IPY_MODEL_6e30096664394c8993bc1f89d56b37a1"
      }
     },
     "13f94b2dc5944f20b87efc0b861844f8": {
      "model_module": "@jupyter-widgets/controls",
      "model_module_version": "1.5.0",
      "model_name": "DescriptionStyleModel",
      "state": {
       "description_width": ""
      }
     },
     "140a3f3dd12d4de2aff3ba7d24032742": {
      "model_module": "@jupyter-widgets/base",
      "model_module_version": "1.2.0",
      "model_name": "LayoutModel",
      "state": {}
     },
     "14354f1b4d3c4c99bd33c11c45cf9dcb": {
      "model_module": "@jupyter-widgets/base",
      "model_module_version": "1.2.0",
      "model_name": "LayoutModel",
      "state": {}
     },
     "147a02b849b544d99530040f3edca4db": {
      "model_module": "@jupyter-widgets/controls",
      "model_module_version": "1.5.0",
      "model_name": "ButtonStyleModel",
      "state": {}
     },
     "14959983f3384d6c819de2b786560453": {
      "model_module": "@jupyter-widgets/controls",
      "model_module_version": "1.5.0",
      "model_name": "SliderStyleModel",
      "state": {
       "description_width": ""
      }
     },
     "15351c2dc9f1429ca8a3d542b5f3d2b0": {
      "model_module": "@jupyter-widgets/controls",
      "model_module_version": "1.5.0",
      "model_name": "VBoxModel",
      "state": {
       "children": [
        "IPY_MODEL_f28341f546a142e1a9ddaba4355b9914",
        "IPY_MODEL_bcc520f023484bf48eb018d5e478f6b5"
       ],
       "layout": "IPY_MODEL_2a840813a80b42079f51c1e789c67a0e"
      }
     },
     "1535d09a29a24c9088d27603a64f6a3a": {
      "model_module": "@jupyter-widgets/controls",
      "model_module_version": "1.5.0",
      "model_name": "DescriptionStyleModel",
      "state": {
       "description_width": ""
      }
     },
     "1540757e72b74b43b84510e250e0ae9f": {
      "model_module": "@jupyter-widgets/controls",
      "model_module_version": "1.5.0",
      "model_name": "HTMLModel",
      "state": {
       "layout": "IPY_MODEL_3d7cf2933d2a4fd29ee588ba4acb5bbb",
       "style": "IPY_MODEL_b70692af0ed041d38e570a0616b2d7ad"
      }
     },
     "1584cc9ea0d64b8b8b1c90903d36c86e": {
      "model_module": "@jupyter-widgets/controls",
      "model_module_version": "1.5.0",
      "model_name": "LabelModel",
      "state": {
       "layout": "IPY_MODEL_70c609bbc0a2466791fc64e173d34c4e",
       "style": "IPY_MODEL_562268d9854247f1be8a4145e29b8480",
       "value": "Monitoring folder"
      }
     },
     "158e2d90364e42759615db87ff037843": {
      "model_module": "@jupyter-widgets/controls",
      "model_module_version": "1.5.0",
      "model_name": "FloatSliderModel",
      "state": {
       "continuous_update": false,
       "description": "Width",
       "layout": "IPY_MODEL_447899c7c54f436b99f6caf01c2e1a11",
       "max": 7335.505938563321,
       "step": 0.1,
       "style": "IPY_MODEL_587518d6ba5549098bec71b55f9c3ad4",
       "value": 3667.7529692816606
      }
     },
     "15fdd56137a24aaaba28ea8e4605fb37": {
      "model_module": "@jupyter-widgets/controls",
      "model_module_version": "1.5.0",
      "model_name": "HBoxModel",
      "state": {
       "children": [
        "IPY_MODEL_f2c774df8a474d19b76338e65a9ea71e",
        "IPY_MODEL_dcfc591f33a548ef945fc5a858e81178",
        "IPY_MODEL_ffbd33af9271428782d00b7a8c2a5324"
       ],
       "layout": "IPY_MODEL_21bde8ed245b4fbea378c973b6157670"
      }
     },
     "16019787070a44cf89b0b0d09b1593fe": {
      "model_module": "@jupyter-widgets/base",
      "model_module_version": "1.2.0",
      "model_name": "LayoutModel",
      "state": {}
     },
     "160271320d9d4bdaa94004a64b3c618d": {
      "model_module": "@jupyter-widgets/controls",
      "model_module_version": "1.5.0",
      "model_name": "SelectModel",
      "state": {
       "_options_labels": [
        "..",
        "SimPEG_PFInversion",
        "Temp",
        "FlinFlon.geoh5",
        "Gravity_Magnetics_drape60m_Airborne_Gxx.tif",
        "Gravity_Magnetics_drape60m_Airborne_Gxx_Colorbar.png",
        "Gravity_Magnetics_drape60m_Airborne_Gxx_RGB.txt",
        "MtDore_TMI.geoh5",
        "Octree_Mesh.json",
        "Octree_Mesh.ui.json",
        "Octree_Mesh_v2.json",
        "input.ui.geoh5",
        "input.ui.json",
        "options_tree.json",
        "test_no_root.py",
        "tester.ui.geoh5",
        "tester.ui.json"
       ],
       "index": 3,
       "layout": "IPY_MODEL_f23df65284e64257a2b53d28313ab83c",
       "rows": 8,
       "style": "IPY_MODEL_6a7fc8cb41c64ab9b7098264dad064b6"
      }
     },
     "160c965573eb49f6ac1e0065f5c85d90": {
      "model_module": "@jupyter-widgets/base",
      "model_module_version": "1.2.0",
      "model_name": "LayoutModel",
      "state": {}
     },
     "162dd41ad0794c62bc3b0ff5a5cdc4d2": {
      "model_module": "@jupyter-widgets/controls",
      "model_module_version": "1.5.0",
      "model_name": "ToggleButtonModel",
      "state": {
       "layout": "IPY_MODEL_c56ab6c8d3eb4427b3b7bd6dea704cc6",
       "style": "IPY_MODEL_f07d14908f684d538081dbc1d5e5d3c3",
       "value": true
      }
     },
     "16459909d589443eb231cbd71539fbf2": {
      "model_module": "@jupyter-widgets/controls",
      "model_module_version": "1.5.0",
      "model_name": "HBoxModel",
      "state": {
       "children": [
        "IPY_MODEL_0a211acc62fe4eb28410e445968b2972",
        "IPY_MODEL_c0c1edc42f4b4e58a2efb8ee3f284e1f",
        "IPY_MODEL_5e79af12ce0244fdacddd3fc9258e868"
       ],
       "layout": "IPY_MODEL_52a5d1a15c4b448e90ba30e7f51c2631"
      }
     },
     "16c510a91df7473fae6a0126adb433d3": {
      "model_module": "@jupyter-widgets/controls",
      "model_module_version": "1.5.0",
      "model_name": "DescriptionStyleModel",
      "state": {
       "description_width": ""
      }
     },
     "1755a7d4a05c4b20b2781541599adfaf": {
      "model_module": "@jupyter-widgets/base",
      "model_module_version": "1.2.0",
      "model_name": "LayoutModel",
      "state": {
       "display": "none",
       "grid_area": "filename",
       "width": "auto"
      }
     },
     "179b8ba18f2d477998d35557db0029ba": {
      "model_module": "@jupyter-widgets/controls",
      "model_module_version": "1.5.0",
      "model_name": "DescriptionStyleModel",
      "state": {
       "description_width": "initial"
      }
     },
     "18234c275cd641c29a96fd3e7a93dab0": {
      "model_module": "@jupyter-widgets/controls",
      "model_module_version": "1.5.0",
      "model_name": "ToggleButtonModel",
      "state": {
       "description": "Zoom on selection",
       "icon": "check",
       "layout": "IPY_MODEL_8c2a7adf9732447dbcc57218d6c99e95",
       "style": "IPY_MODEL_13f94b2dc5944f20b87efc0b861844f8",
       "tooltip": "Keep plot extent on selection",
       "value": true
      }
     },
     "1899bee5dc534872a2e5b2546dcfcf8b": {
      "model_module": "@jupyter-widgets/base",
      "model_module_version": "1.2.0",
      "model_name": "LayoutModel",
      "state": {}
     },
     "18ee0b32fa9e4b979f3dca93a9dcc95d": {
      "model_module": "@jupyter-widgets/base",
      "model_module_version": "1.2.0",
      "model_name": "LayoutModel",
      "state": {}
     },
     "19a90daa8ef74b11a0ef1ff033dc87b8": {
      "model_module": "@jupyter-widgets/base",
      "model_module_version": "1.2.0",
      "model_name": "LayoutModel",
      "state": {}
     },
     "19b348936db842ea858fd41327774314": {
      "model_module": "@jupyter-widgets/controls",
      "model_module_version": "1.5.0",
      "model_name": "DescriptionStyleModel",
      "state": {
       "description_width": ""
      }
     },
     "19f3d4c3e7124e6c942ee64b63b88785": {
      "model_module": "@jupyter-widgets/base",
      "model_module_version": "1.2.0",
      "model_name": "LayoutModel",
      "state": {}
     },
     "1adf49b762bf40589824436ef4fff5cd": {
      "model_module": "@jupyter-widgets/base",
      "model_module_version": "1.2.0",
      "model_name": "LayoutModel",
      "state": {
       "display": "none",
       "grid_gap": "0px 0px",
       "grid_template_areas": "\n                    'pathlist pathlist'\n                    'dircontent dircontent'\n                    ",
       "grid_template_columns": "60% 40%",
       "grid_template_rows": "auto auto",
       "width": "500px"
      }
     },
     "1b0bb6a40d524a1099fc65027fcc5411": {
      "model_module": "@jupyter-widgets/controls",
      "model_module_version": "1.5.0",
      "model_name": "SliderStyleModel",
      "state": {
       "description_width": ""
      }
     },
     "1b3dcec330ed46eb982f5cf5870c1cde": {
      "model_module": "@jupyter-widgets/controls",
      "model_module_version": "1.5.0",
      "model_name": "LabelModel",
      "state": {
       "layout": "IPY_MODEL_19f3d4c3e7124e6c942ee64b63b88785",
       "style": "IPY_MODEL_fd18cbc23f3d4e3da9bd31ff3e2280be",
       "value": "Workspace"
      }
     },
     "1be5f6ec340f4ffc8bfc94094c61f04e": {
      "model_module": "@jupyter-widgets/base",
      "model_module_version": "1.2.0",
      "model_name": "LayoutModel",
      "state": {
       "width": "auto"
      }
     },
     "1c2c6a84b85f4a479d7dffc2011f7faa": {
      "model_module": "@jupyter-widgets/controls",
      "model_module_version": "1.5.0",
      "model_name": "DescriptionStyleModel",
      "state": {
       "description_width": "initial"
      }
     },
     "1c5066af67044772b0992f7cb4481efd": {
      "model_module": "@jupyter-widgets/controls",
      "model_module_version": "1.5.0",
      "model_name": "VBoxModel",
      "state": {
       "children": [
        "IPY_MODEL_eab6086fea2e41639a1d8a55df0d1c61",
        "IPY_MODEL_db669db625f04a4fb16a02d0ecc085b1"
       ],
       "layout": "IPY_MODEL_e0ab36dbcc474903a201dcff9ef15933"
      }
     },
     "1c6d4409825f42778821bd8fb0d88fb3": {
      "model_module": "@jupyter-widgets/controls",
      "model_module_version": "1.5.0",
      "model_name": "DescriptionStyleModel",
      "state": {
       "description_width": ""
      }
     },
     "1d41021d84ce48a1901499bba8487484": {
      "model_module": "@jupyter-widgets/base",
      "model_module_version": "1.2.0",
      "model_name": "LayoutModel",
      "state": {}
     },
     "1da2eb96565d4235b6be76b9cd08025a": {
      "model_module": "@jupyter-widgets/controls",
      "model_module_version": "1.5.0",
      "model_name": "DescriptionStyleModel",
      "state": {
       "description_width": "initial"
      }
     },
     "1dcd10ef1cdf45fcbac7b6c60084de28": {
      "model_module": "@jupyter-widgets/controls",
      "model_module_version": "1.5.0",
      "model_name": "FloatSliderModel",
      "state": {
       "continuous_update": false,
       "description": "Azimuth",
       "layout": "IPY_MODEL_86434506b63245d99d39f5fa4f7f01cd",
       "max": 90,
       "min": -90,
       "step": 0.1,
       "style": "IPY_MODEL_81157d1338754f6d9467432c3c036e55"
      }
     },
     "1e4416878a2242b68e236f3a89e03dee": {
      "model_module": "@jupyter-widgets/controls",
      "model_module_version": "1.5.0",
      "model_name": "VBoxModel",
      "state": {
       "children": [
        "IPY_MODEL_d4f7d4627a954dd786cb04edecf801c8",
        "IPY_MODEL_d34b74825b04492980b9dd00c161c9fa"
       ],
       "layout": "IPY_MODEL_a889c2dae2184b178ff29f65cea53ddd"
      }
     },
     "1f446c76526a4ec9bc96f80e6c6b35f6": {
      "model_module": "@jupyter-widgets/controls",
      "model_module_version": "1.5.0",
      "model_name": "HBoxModel",
      "state": {
       "children": [
        "IPY_MODEL_11cd02d779834e0b9576cd9b899f767f",
        "IPY_MODEL_448b93a98b0547cca35ca47ace744dc3",
        "IPY_MODEL_d2836815514d496c86d201ea6c2eaf97"
       ],
       "layout": "IPY_MODEL_8a19a9113482465d8a46a2c2dee367ec"
      }
     },
     "1f6724cad5bc4d3fabf13fa4a106b1fc": {
      "model_module": "@jupyter-widgets/base",
      "model_module_version": "1.2.0",
      "model_name": "LayoutModel",
      "state": {}
     },
     "206fef80a0f7436c9823ffeff1bfc660": {
      "model_module": "@jupyter-widgets/base",
      "model_module_version": "1.2.0",
      "model_name": "LayoutModel",
      "state": {}
     },
     "208ddc0e78cf4c1daef327c4aca31c61": {
      "model_module": "@jupyter-widgets/controls",
      "model_module_version": "1.5.0",
      "model_name": "VBoxModel",
      "state": {
       "children": [
        "IPY_MODEL_a2cea3785d8e497dbfb9689130971e8b",
        "IPY_MODEL_a33e58a17ba5452dbb7dc1e49b2d2476",
        "IPY_MODEL_ca6d57ab9a3e42588692ba176fdd099d"
       ],
       "layout": "IPY_MODEL_b5cd0c4182714cfb8328cb7255622009"
      }
     },
     "20de34a304fe410aab434d200eda1d7c": {
      "model_module": "@jupyter-widgets/base",
      "model_module_version": "1.2.0",
      "model_name": "LayoutModel",
      "state": {}
     },
     "21243e7f624e4eec93f67ea29accdf93": {
      "model_module": "@jupyter-widgets/controls",
      "model_module_version": "1.5.0",
      "model_name": "VBoxModel",
      "state": {
       "children": [
        "IPY_MODEL_403c28ed5f274d5fa2281bd2e934f916",
        "IPY_MODEL_21d47fc844b2407d871e1df0a92791ed"
       ],
       "layout": "IPY_MODEL_9ec466b93260493689bee7dcf9d050e8"
      }
     },
     "2125402a0b20490bb14f8af5bf2f00dd": {
      "model_module": "@jupyter-widgets/base",
      "model_module_version": "1.2.0",
      "model_name": "LayoutModel",
      "state": {
       "width": "auto"
      }
     },
     "214a467f32f245a4bd80e1d8c9173c8e": {
      "model_module": "@jupyter-widgets/controls",
      "model_module_version": "1.5.0",
      "model_name": "DropdownModel",
      "state": {
       "_options_labels": [
        "C:\\Users\\dominiquef\\Documents\\GIT\\mira\\mirageoscience-apps\\assets",
        "C:\\Users\\dominiquef\\Documents\\GIT\\mira\\mirageoscience-apps",
        "C:\\Users\\dominiquef\\Documents\\GIT\\mira",
        "C:\\Users\\dominiquef\\Documents\\GIT",
        "C:\\Users\\dominiquef\\Documents",
        "C:\\Users\\dominiquef",
        "C:\\Users",
        "C:\\",
        "D:\\",
        "Z:\\"
       ],
       "index": 0,
       "layout": "IPY_MODEL_00a2dbdacdda4b29aca43a15b3d70bd3",
       "style": "IPY_MODEL_aecb5bc2b0474c43abd9926829ea2c25"
      }
     },
     "215acf550d204b7daa890148f75a1f37": {
      "model_module": "@jupyter-widgets/controls",
      "model_module_version": "1.5.0",
      "model_name": "HBoxModel",
      "state": {
       "children": [
        "IPY_MODEL_4b985897c2924081950171535158e354",
        "IPY_MODEL_491ba33dd29f4751b897d470c7c98db6",
        "IPY_MODEL_2fe33044692e4e8cbde22636821b89c3"
       ],
       "layout": "IPY_MODEL_0fad4870901d4f82be19d29cd325ed19"
      }
     },
     "21afddee94b2455bbab4e0104431230e": {
      "model_module": "@jupyter-widgets/base",
      "model_module_version": "1.2.0",
      "model_name": "LayoutModel",
      "state": {}
     },
     "21b8299ec4a448b186d1f6cb978508d0": {
      "model_module": "@jupyter-widgets/controls",
      "model_module_version": "1.5.0",
      "model_name": "DescriptionStyleModel",
      "state": {
       "description_width": ""
      }
     },
     "21bde8ed245b4fbea378c973b6157670": {
      "model_module": "@jupyter-widgets/base",
      "model_module_version": "1.2.0",
      "model_name": "LayoutModel",
      "state": {
       "width": "auto"
      }
     },
     "21d47fc844b2407d871e1df0a92791ed": {
      "model_module": "@jupyter-widgets/controls",
      "model_module_version": "1.5.0",
      "model_name": "LabelModel",
      "state": {
       "layout": "IPY_MODEL_3834dfa3876741a384189ecede40e87e",
       "style": "IPY_MODEL_58ffa3b57e9b490684bb7e5f80da398d",
       "value": "Data Count: 21362"
      }
     },
     "21eaede2955f44a6b4df855f9c7c28ee": {
      "model_module": "@jupyter-widgets/base",
      "model_module_version": "1.2.0",
      "model_name": "LayoutModel",
      "state": {}
     },
     "229244cb6cc44fc88e444f5ac9608f71": {
      "model_module": "@jupyter-widgets/base",
      "model_module_version": "1.2.0",
      "model_name": "LayoutModel",
      "state": {
       "width": "auto"
      }
     },
     "22a738cfdf6349ebab939c4fb05b4ab6": {
      "model_module": "@jupyter-widgets/base",
      "model_module_version": "1.2.0",
      "model_name": "LayoutModel",
      "state": {}
     },
     "22b2c99a3dde44c0982fa5386fe888b5": {
      "model_module": "@jupyter-widgets/controls",
      "model_module_version": "1.5.0",
      "model_name": "ToggleButtonModel",
      "state": {
       "description": "Zoom on selection",
       "icon": "check",
       "layout": "IPY_MODEL_5dd73db70a3c4b259c8a3baa15f8c57c",
       "style": "IPY_MODEL_40cf4138ca2f4ddf98c55ed93b85a2a3",
       "tooltip": "Keep plot extent on selection",
       "value": true
      }
     },
     "230f4e1f16c747ddac6a6d8a634a3beb": {
      "model_module": "@jupyter-widgets/controls",
      "model_module_version": "1.5.0",
      "model_name": "FloatSliderModel",
      "state": {
       "continuous_update": false,
       "description": "Height",
       "layout": "IPY_MODEL_c4aef16674bd4877bf9723e049acf982",
       "max": 11351.865002485923,
       "orientation": "vertical",
       "step": 0.1,
       "style": "IPY_MODEL_2798802324d24264ae1544ed27313de7",
       "value": 5675.932501242962
      }
     },
     "23987e50d0d349ea931602cae7ed96cc": {
      "model_module": "@jupyter-widgets/base",
      "model_module_version": "1.2.0",
      "model_name": "LayoutModel",
      "state": {
       "display": "none",
       "width": "auto"
      }
     },
     "239d3813374f4a718f0419188c4dbee1": {
      "model_module": "@jupyter-widgets/base",
      "model_module_version": "1.2.0",
      "model_name": "LayoutModel",
      "state": {
       "display": "none",
       "grid_gap": "0px 0px",
       "grid_template_areas": "\n                    'pathlist filename'\n                    'dircontent dircontent'\n                    ",
       "grid_template_columns": "60% 40%",
       "grid_template_rows": "auto auto",
       "width": "500px"
      }
     },
     "23b93f0c3e5e43f09abb902b43fbf7e5": {
      "model_module": "@jupyter-widgets/base",
      "model_module_version": "1.2.0",
      "model_name": "LayoutModel",
      "state": {
       "width": "auto"
      }
     },
     "23e2d20ce0f94846928cf1ea8481d840": {
      "model_module": "@jupyter-widgets/base",
      "model_module_version": "1.2.0",
      "model_name": "LayoutModel",
      "state": {}
     },
     "23f1c2ae20a74593ae9f9d4dcdcfc578": {
      "model_module": "@jupyter-widgets/controls",
      "model_module_version": "1.5.0",
      "model_name": "DropdownModel",
      "state": {
       "_options_labels": [
        "C:\\Users\\dominiquef\\Documents\\GIT\\mira\\mirageoscience-apps\\docs\\content\\applications",
        "C:\\Users\\dominiquef\\Documents\\GIT\\mira\\mirageoscience-apps\\docs\\content",
        "C:\\Users\\dominiquef\\Documents\\GIT\\mira\\mirageoscience-apps\\docs",
        "C:\\Users\\dominiquef\\Documents\\GIT\\mira\\mirageoscience-apps",
        "C:\\Users\\dominiquef\\Documents\\GIT\\mira",
        "C:\\Users\\dominiquef\\Documents\\GIT",
        "C:\\Users\\dominiquef\\Documents",
        "C:\\Users\\dominiquef",
        "C:\\Users",
        "C:\\",
        "D:\\",
        "Z:\\"
       ],
       "index": 0,
       "layout": "IPY_MODEL_ead32121de9742409764d11eef11adf4",
       "style": "IPY_MODEL_8ede1da8298b4653a54f2012cfa85984"
      }
     },
     "248ffcb8e16945f694a506fc24904b8d": {
      "model_module": "@jupyter-widgets/controls",
      "model_module_version": "1.5.0",
      "model_name": "HTMLModel",
      "state": {
       "layout": "IPY_MODEL_e77bdf8e4ee7478da1b87250027ae4cb",
       "placeholder": "",
       "style": "IPY_MODEL_19b348936db842ea858fd41327774314",
       "value": "<span style=\"margin-left:10px; color:black;\">No file selected</span>"
      }
     },
     "24d189b3ba164f06b1526cf4bb0e6ef7": {
      "model_module": "@jupyter-widgets/controls",
      "model_module_version": "1.5.0",
      "model_name": "DropdownModel",
      "state": {
       "_options_labels": [
        "",
        "--- Channels ---",
        "Airborne_Gxx",
        "Airborne_Gxy",
        "Airborne_Gxz",
        "Airborne_Gyy",
        "Airborne_Gyz",
        "Airborne_Gz",
        "Airborne_Gzz",
        "Airborne_TMI",
        "Ground_Gz",
        "Z"
       ],
       "description": "Data: ",
       "index": 9,
       "layout": "IPY_MODEL_62d0afe982744d109fc34f45e1b7aba2",
       "style": "IPY_MODEL_0215834beef74b93b7afe09f31cdede4"
      }
     },
     "2506a4b2376648729354b413286e7a1f": {
      "model_module": "@jupyter-widgets/base",
      "model_module_version": "1.2.0",
      "model_name": "LayoutModel",
      "state": {}
     },
     "255e7034888044b59541db51e8d85de9": {
      "model_module": "@jupyter-widgets/base",
      "model_module_version": "1.2.0",
      "model_name": "LayoutModel",
      "state": {}
     },
     "258a107a79a845778aaebdd2b1d8c473": {
      "model_module": "@jupyter-widgets/controls",
      "model_module_version": "1.5.0",
      "model_name": "SliderStyleModel",
      "state": {
       "description_width": ""
      }
     },
     "25ef267a08b94fda88b6ccad5e1372ed": {
      "model_module": "@jupyter-widgets/base",
      "model_module_version": "1.2.0",
      "model_name": "LayoutModel",
      "state": {}
     },
     "265725b3243c4937adbe93f985ae257b": {
      "model_module": "@jupyter-widgets/controls",
      "model_module_version": "1.5.0",
      "model_name": "DescriptionStyleModel",
      "state": {
       "description_width": "initial"
      }
     },
     "2679708236a1406d8b5cdd5ad29627ab": {
      "model_module": "@jupyter-widgets/base",
      "model_module_version": "1.2.0",
      "model_name": "LayoutModel",
      "state": {}
     },
     "27026584a1e34b73a207193e3169f1b9": {
      "model_module": "@jupyter-widgets/base",
      "model_module_version": "1.2.0",
      "model_name": "LayoutModel",
      "state": {}
     },
     "2733cc6164e34a49b3172add1cc70626": {
      "model_module": "@jupyter-widgets/controls",
      "model_module_version": "1.5.0",
      "model_name": "VBoxModel",
      "state": {
       "children": [
        "IPY_MODEL_9a562a908a2d4604bf505ab7d2d91e55",
        "IPY_MODEL_d889ba1ac856486aa0c043e9e5501a3d"
       ],
       "layout": "IPY_MODEL_4f5b7d1b852c4e6287648eee63901587"
      }
     },
     "273a20f867d1457e8a325802cdc57cbd": {
      "model_module": "@jupyter-widgets/base",
      "model_module_version": "1.2.0",
      "model_name": "LayoutModel",
      "state": {}
     },
     "277cac321eec47d8b5daffa3939700b7": {
      "model_module": "@jupyter-widgets/controls",
      "model_module_version": "1.5.0",
      "model_name": "DescriptionStyleModel",
      "state": {
       "description_width": ""
      }
     },
     "2798802324d24264ae1544ed27313de7": {
      "model_module": "@jupyter-widgets/controls",
      "model_module_version": "1.5.0",
      "model_name": "SliderStyleModel",
      "state": {
       "description_width": ""
      }
     },
     "27a04cdf83514c6f986be5d57f942b09": {
      "model_module": "@jupyter-widgets/base",
      "model_module_version": "1.2.0",
      "model_name": "LayoutModel",
      "state": {}
     },
     "27ae93aa159a40328de919ee27d3b2f5": {
      "model_module": "@jupyter-widgets/base",
      "model_module_version": "1.2.0",
      "model_name": "LayoutModel",
      "state": {
       "display": "none",
       "width": "auto"
      }
     },
     "27b87017a9e446ba8034df14868518a2": {
      "model_module": "@jupyter-widgets/controls",
      "model_module_version": "1.5.0",
      "model_name": "SelectModel",
      "state": {
       "_options_labels": [
        "..",
        "Temp",
        "dask-worker-space",
        "Crossplot.html",
        "FlinFlon.geoh5",
        "FlinFlon_light.geoh5",
        "MtDore_TMI.geoh5"
       ],
       "index": 4,
       "layout": "IPY_MODEL_a4204f42822e4e949fc18dd6de704d6e",
       "rows": 8,
       "style": "IPY_MODEL_1535d09a29a24c9088d27603a64f6a3a"
      }
     },
     "27c64c18a1384a6ebac479681d9d5887": {
      "model_module": "@jupyter-widgets/controls",
      "model_module_version": "1.5.0",
      "model_name": "VBoxModel",
      "state": {
       "children": [
        "IPY_MODEL_917b27ff1ff24ae7a81ec3e27e5bef4c"
       ],
       "layout": "IPY_MODEL_b8111841cae24158af2bccdc5ff3b20e"
      }
     },
     "286826dd51264f2895caebb744a8d357": {
      "model_module": "@jupyter-widgets/base",
      "model_module_version": "1.2.0",
      "model_name": "LayoutModel",
      "state": {
       "align_items": "center"
      }
     },
     "28a1e67ee11840a2a6b63ec5e99aa169": {
      "model_module": "@jupyter-widgets/controls",
      "model_module_version": "1.5.0",
      "model_name": "GridBoxModel",
      "state": {
       "children": [
        "IPY_MODEL_c8c6bfcdb5e3452a85bbb7067ba58569",
        "IPY_MODEL_ee3b6f27ede949b3844c6d6fbb7c3103",
        "IPY_MODEL_160271320d9d4bdaa94004a64b3c618d"
       ],
       "layout": "IPY_MODEL_f98b5a5d612343ebbdbd666d951f7a13"
      }
     },
     "28b986ad78ef4d95a63ead6c483a9c65": {
      "model_module": "@jupyter-widgets/base",
      "model_module_version": "1.2.0",
      "model_name": "LayoutModel",
      "state": {}
     },
     "2904c4633fe6426793f866f7f59e24e0": {
      "model_module": "@jupyter-widgets/controls",
      "model_module_version": "1.5.0",
      "model_name": "DescriptionStyleModel",
      "state": {
       "description_width": ""
      }
     },
     "29095797fcd9489889a531837788da95": {
      "model_module": "@jupyter-widgets/base",
      "model_module_version": "1.2.0",
      "model_name": "LayoutModel",
      "state": {}
     },
     "2970326f76a54b88a8dd4adad66dfeb1": {
      "model_module": "@jupyter-widgets/controls",
      "model_module_version": "1.5.0",
      "model_name": "VBoxModel",
      "state": {
       "children": [
        "IPY_MODEL_5f6555c718984e9cbc3e9050806b5d0b",
        "IPY_MODEL_0766c9ec20bf40e287a17f7124a75a70"
       ],
       "layout": "IPY_MODEL_51d1a93cf47b4a83bf16ad395971282b"
      }
     },
     "29baca2b981247eb9556cba9272cfa1c": {
      "model_module": "@jupyter-widgets/controls",
      "model_module_version": "1.5.0",
      "model_name": "DescriptionStyleModel",
      "state": {
       "description_width": "initial"
      }
     },
     "29f7b52d08894f5cb4ba4d20d7948449": {
      "model_module": "@jupyter-widgets/base",
      "model_module_version": "1.2.0",
      "model_name": "LayoutModel",
      "state": {}
     },
     "2a669c4ca1704f4fbc4e3f901764e08a": {
      "model_module": "@jupyter-widgets/controls",
      "model_module_version": "1.5.0",
      "model_name": "ButtonStyleModel",
      "state": {}
     },
     "2a677f1230f142a1970bda4115c905ff": {
      "model_module": "@jupyter-widgets/controls",
      "model_module_version": "1.5.0",
      "model_name": "DescriptionStyleModel",
      "state": {
       "description_width": ""
      }
     },
     "2a77f06ecc524962806cd843149f6f31": {
      "model_module": "@jupyter-widgets/controls",
      "model_module_version": "1.5.0",
      "model_name": "DescriptionStyleModel",
      "state": {
       "description_width": ""
      }
     },
     "2a840813a80b42079f51c1e789c67a0e": {
      "model_module": "@jupyter-widgets/base",
      "model_module_version": "1.2.0",
      "model_name": "LayoutModel",
      "state": {}
     },
     "2a84c3bf84694adab129f0d1f6a4b31c": {
      "model_module": "@jupyter-widgets/controls",
      "model_module_version": "1.5.0",
      "model_name": "ButtonStyleModel",
      "state": {}
     },
     "2a9119e1777040459c5dceec5d8f6dba": {
      "model_module": "@jupyter-widgets/controls",
      "model_module_version": "1.5.0",
      "model_name": "FloatSliderModel",
      "state": {
       "continuous_update": false,
       "description": "Northing",
       "layout": "IPY_MODEL_0651fed11e0d4196899110c0cb32e5d3",
       "max": 6076443.652111261,
       "min": 6065091.787108775,
       "orientation": "vertical",
       "step": 0.1,
       "style": "IPY_MODEL_ae842dcf65c44a2fb72237269339ece2",
       "value": 6070767.719610019
      }
     },
     "2aa801ffca3b4432a3ac87d288537935": {
      "model_module": "@jupyter-widgets/base",
      "model_module_version": "1.2.0",
      "model_name": "LayoutModel",
      "state": {}
     },
     "2b01486ec0c54c839f0ca715cfeebbdb": {
      "model_module": "@jupyter-widgets/base",
      "model_module_version": "1.2.0",
      "model_name": "LayoutModel",
      "state": {
       "display": "none"
      }
     },
     "2b1b9e0236554ad7abc60b426cbe7560": {
      "model_module": "@jupyter-widgets/base",
      "model_module_version": "1.2.0",
      "model_name": "LayoutModel",
      "state": {
       "display": "none",
       "grid_gap": "0px 0px",
       "grid_template_areas": "\n                    'pathlist pathlist'\n                    'dircontent dircontent'\n                    ",
       "grid_template_columns": "60% 40%",
       "grid_template_rows": "auto auto",
       "width": "500px"
      }
     },
     "2bdeac8ceecf4201a0d3d0ecf436cac6": {
      "model_module": "@jupyter-widgets/controls",
      "model_module_version": "1.5.0",
      "model_name": "VBoxModel",
      "state": {
       "children": [
        "IPY_MODEL_0f125a3a8bc34b8999b5198194b549b1",
        "IPY_MODEL_f3feb35821674e278f107320a4d5a22a",
        "IPY_MODEL_215acf550d204b7daa890148f75a1f37"
       ],
       "layout": "IPY_MODEL_425c803cabae4f31a6116917e03dfcbd"
      }
     },
     "2c20dd62c07744a88822389a90296972": {
      "model_module": "@jupyter-widgets/controls",
      "model_module_version": "1.5.0",
      "model_name": "HTMLModel",
      "state": {
       "layout": "IPY_MODEL_f28f3a512cf94a1f828bab7101b75988",
       "placeholder": "",
       "style": "IPY_MODEL_4af66426f9d14f9a8abb9d385404c916",
       "value": "<span style=\"margin-left:10px; color:black;\">No file selected</span>"
      }
     },
     "2c653aae5da0491f82225b9a08a5c034": {
      "model_module": "@jupyter-widgets/base",
      "model_module_version": "1.2.0",
      "model_name": "LayoutModel",
      "state": {}
     },
     "2d36cd714ef9464eb444fae12f01ee05": {
      "model_module": "@jupyter-widgets/base",
      "model_module_version": "1.2.0",
      "model_name": "LayoutModel",
      "state": {
       "grid_area": "pathlist",
       "width": "auto"
      }
     },
     "2d64e035bdff4d36905e5c19e5d42324": {
      "model_module": "@jupyter-widgets/controls",
      "model_module_version": "1.5.0",
      "model_name": "DescriptionStyleModel",
      "state": {
       "description_width": "initial"
      }
     },
     "2d8ad514ad69477287ef12c926b390c5": {
      "model_module": "@jupyter-widgets/controls",
      "model_module_version": "1.5.0",
      "model_name": "DescriptionStyleModel",
      "state": {
       "description_width": ""
      }
     },
     "2da24e74557f4ed98339f92acd678d4c": {
      "model_module": "@jupyter-widgets/controls",
      "model_module_version": "1.5.0",
      "model_name": "VBoxModel",
      "state": {
       "children": [
        "IPY_MODEL_7541ca2b900e4d40bacf116225fe98d7",
        "IPY_MODEL_feda683a86314cf4bfa1a234b1e30ff2"
       ],
       "layout": "IPY_MODEL_0954dc215e434ef9993bda2f56e2f75d"
      }
     },
     "2dbaae1ff2604d5e955293d9669aba17": {
      "model_module": "@jupyter-widgets/controls",
      "model_module_version": "1.5.0",
      "model_name": "SliderStyleModel",
      "state": {
       "description_width": ""
      }
     },
     "2dcc498bae8143d1abe372a703438029": {
      "model_module": "@jupyter-widgets/base",
      "model_module_version": "1.2.0",
      "model_name": "LayoutModel",
      "state": {
       "width": "auto"
      }
     },
     "2debed4a268449b190e293fee00b38f9": {
      "model_module": "@jupyter-widgets/controls",
      "model_module_version": "1.5.0",
      "model_name": "VBoxModel",
      "state": {
       "children": [
        "IPY_MODEL_6222c470d96a41d09ceb48be4219dd62",
        "IPY_MODEL_f92a61b35874493e857ff46d0a4ded64",
        "IPY_MODEL_ef3350a7dbcf40aa858803d6d03f3dcc"
       ],
       "layout": "IPY_MODEL_ca995dc2910b45ca9e24cc27fff64294"
      }
     },
     "2ebb77edd8bd409697bcdc2133c12052": {
      "model_module": "@jupyter-widgets/controls",
      "model_module_version": "1.5.0",
      "model_name": "DescriptionStyleModel",
      "state": {
       "description_width": ""
      }
     },
     "2ed6cbd35219454a96ccbc633a3ef46c": {
      "model_module": "@jupyter-widgets/base",
      "model_module_version": "1.2.0",
      "model_name": "LayoutModel",
      "state": {
       "width": "auto"
      }
     },
     "2f0e2922f72f41498839fbab3974e66a": {
      "model_module": "@jupyter-widgets/controls",
      "model_module_version": "1.5.0",
      "model_name": "ToggleButtonModel",
      "state": {
       "description": "Zoom on selection",
       "icon": "check",
       "layout": "IPY_MODEL_e1c6f59bab014217aba450f314e95d40",
       "style": "IPY_MODEL_d137313f4f2f494ebda3de570c33bd52",
       "tooltip": "Keep plot extent on selection",
       "value": true
      }
     },
     "2f3d17e8888b49e78f19a3c6c87442fc": {
      "model_module": "@jupyter-widgets/controls",
      "model_module_version": "1.5.0",
      "model_name": "DescriptionStyleModel",
      "state": {
       "description_width": ""
      }
     },
     "2f78ee25a53446fda261b952699b9fb7": {
      "model_module": "@jupyter-widgets/base",
      "model_module_version": "1.2.0",
      "model_name": "LayoutModel",
      "state": {}
     },
     "2fc82011ab5b4255abd7b01d7f16ea1f": {
      "model_module": "@jupyter-widgets/base",
      "model_module_version": "1.2.0",
      "model_name": "LayoutModel",
      "state": {}
     },
     "2fe33044692e4e8cbde22636821b89c3": {
      "model_module": "@jupyter-widgets/controls",
      "model_module_version": "1.5.0",
      "model_name": "HTMLModel",
      "state": {
       "layout": "IPY_MODEL_5fa89d8a3e804642a8bff08ee0201bb1",
       "placeholder": "",
       "style": "IPY_MODEL_6be9c5bc4e354245920f314f12cb716f",
       "value": "<span style=\"margin-left:10px; color:orange;\">C:\\Users\\dominiquef\\Documents\\GIT\\mira\\mirageoscience-apps\\assets\\FlinFlon.geoh5</span>"
      }
     },
     "30011332890f40408a81900f22e9fd42": {
      "model_module": "@jupyter-widgets/controls",
      "model_module_version": "1.5.0",
      "model_name": "DescriptionStyleModel",
      "state": {
       "description_width": ""
      }
     },
     "3013443408044444886af8fc6577383b": {
      "model_module": "@jupyter-widgets/controls",
      "model_module_version": "1.5.0",
      "model_name": "VBoxModel",
      "state": {
       "children": [
        "IPY_MODEL_851999b72a95428387d1f4ada8562663",
        "IPY_MODEL_8e297780d4b745a4a7910cbb016f98ce"
       ],
       "layout": "IPY_MODEL_71c2d64c36c24b34b645337dfb89d5b9"
      }
     },
     "304988f47f9f4ab5bafda2f80b0e4666": {
      "model_module": "@jupyter-widgets/controls",
      "model_module_version": "1.5.0",
      "model_name": "SliderStyleModel",
      "state": {
       "description_width": ""
      }
     },
     "30a765a5ff23443b8861c8a410738bd5": {
      "model_module": "@jupyter-widgets/base",
      "model_module_version": "1.2.0",
      "model_name": "LayoutModel",
      "state": {
       "display": "none"
      }
     },
     "30dd40c7d8f849b6ab4eccb8e53651e4": {
      "model_module": "@jupyter-widgets/base",
      "model_module_version": "1.2.0",
      "model_name": "LayoutModel",
      "state": {}
     },
     "30fe94cb246244ee94c1beb4b78a1753": {
      "model_module": "@jupyter-widgets/controls",
      "model_module_version": "1.5.0",
      "model_name": "FloatSliderModel",
      "state": {
       "continuous_update": false,
       "description": "Width",
       "layout": "IPY_MODEL_e771c7dd79384361802d614ed58d65d4",
       "max": 7335.505938563321,
       "step": 10,
       "style": "IPY_MODEL_dc6fe5cba2024822b5d7c4c0c46f0fb5",
       "value": 3667.7529692816606
      }
     },
     "31160b0c5d664150843511e4266c80f4": {
      "model_module": "@jupyter-widgets/controls",
      "model_module_version": "1.5.0",
      "model_name": "TextModel",
      "state": {
       "layout": "IPY_MODEL_faeb540bffb24cb798b070d9aec796bb",
       "placeholder": "output filename",
       "style": "IPY_MODEL_8fce37359599479a98dbc120bdb0624b",
       "value": "FlinFlon.geoh5"
      }
     },
     "3192fad0112f4928bb44026798fb2e20": {
      "model_module": "@jupyter-widgets/controls",
      "model_module_version": "1.5.0",
      "model_name": "TextModel",
      "state": {
       "layout": "IPY_MODEL_4435c308e2234eda8ef5e427cc5834dc",
       "placeholder": "output filename",
       "style": "IPY_MODEL_05189ced613f42f39f61607e09efb283",
       "value": "FlinFlon.geoh5"
      }
     },
     "31e6b403cfee49cd8dc2a667b90fc5c5": {
      "model_module": "@jupyter-widgets/controls",
      "model_module_version": "1.5.0",
      "model_name": "TextModel",
      "state": {
       "continuous_update": false,
       "description": "Contours",
       "layout": "IPY_MODEL_02fe9f4f1d804b08b576a7c4ad2489e5",
       "style": "IPY_MODEL_dc3c4e2496fd408cbf8dba4ca0ebad06"
      }
     },
     "31feff95eeb246eebb6f9e10ca3d0e00": {
      "model_module": "@jupyter-widgets/base",
      "model_module_version": "1.2.0",
      "model_name": "LayoutModel",
      "state": {}
     },
     "3231f9f4e1964145b908fb39bde27eff": {
      "model_module": "@jupyter-widgets/base",
      "model_module_version": "1.2.0",
      "model_name": "LayoutModel",
      "state": {}
     },
     "32802437ae584a53b48a2993f12dbb87": {
      "model_module": "@jupyter-widgets/controls",
      "model_module_version": "1.5.0",
      "model_name": "ButtonModel",
      "state": {
       "description": "Create copy:",
       "layout": "IPY_MODEL_29095797fcd9489889a531837788da95",
       "style": "IPY_MODEL_027b05070fd04e83b1e8bd5fec03aafe"
      }
     },
     "32a30ab07e7e4488b282d830caff9754": {
      "model_module": "@jupyter-widgets/base",
      "model_module_version": "1.2.0",
      "model_name": "LayoutModel",
      "state": {}
     },
     "333141d2971a40589d45e27cda703674": {
      "model_module": "@jupyter-widgets/controls",
      "model_module_version": "1.5.0",
      "model_name": "HTMLModel",
      "state": {
       "layout": "IPY_MODEL_d66e15b5eb6d42d89e1631ff8296ad4a",
       "style": "IPY_MODEL_3ea92f5b518a480fb3b02eaee004ee0d"
      }
     },
     "33a1b76e56b34f68bd45cd61e961b506": {
      "model_module": "@jupyter-widgets/controls",
      "model_module_version": "1.5.0",
      "model_name": "ButtonStyleModel",
      "state": {}
     },
     "3457e8a7192a41ada6d80e6e56d5382b": {
      "model_module": "@jupyter-widgets/base",
      "model_module_version": "1.2.0",
      "model_name": "LayoutModel",
      "state": {
       "grid_area": "filename",
       "width": "auto"
      }
     },
     "34629c674c0b46dbad032401cb060b00": {
      "model_module": "@jupyter-widgets/controls",
      "model_module_version": "1.5.0",
      "model_name": "DescriptionStyleModel",
      "state": {
       "description_width": ""
      }
     },
     "34c0c38645c84ffc98a648c00d2481f5": {
      "model_module": "@jupyter-widgets/controls",
      "model_module_version": "1.5.0",
      "model_name": "DescriptionStyleModel",
      "state": {
       "description_width": "initial"
      }
     },
     "34c766e46af64c40820d3580cf5ad88a": {
      "model_module": "@jupyter-widgets/controls",
      "model_module_version": "1.5.0",
      "model_name": "SliderStyleModel",
      "state": {
       "description_width": ""
      }
     },
     "357d1cc40adf4d6480c2fbfa9bac0fdd": {
      "model_module": "@jupyter-widgets/controls",
      "model_module_version": "1.5.0",
      "model_name": "SliderStyleModel",
      "state": {
       "description_width": ""
      }
     },
     "35e5650e68c14658ab8981dbf7585948": {
      "model_module": "@jupyter-widgets/base",
      "model_module_version": "1.2.0",
      "model_name": "LayoutModel",
      "state": {}
     },
     "36249877570d4bd7a9fd3dfa9168faa3": {
      "model_module": "@jupyter-widgets/base",
      "model_module_version": "1.2.0",
      "model_name": "LayoutModel",
      "state": {
       "width": "auto"
      }
     },
     "363af6c9d2aa4be6b17037349192ecbd": {
      "model_module": "@jupyter-widgets/controls",
      "model_module_version": "1.5.0",
      "model_name": "DescriptionStyleModel",
      "state": {
       "description_width": ""
      }
     },
     "364b12e6635e42128ba5317594bbc2a0": {
      "model_module": "@jupyter-widgets/base",
      "model_module_version": "1.2.0",
      "model_name": "LayoutModel",
      "state": {
       "display": "none",
       "grid_area": "filename",
       "width": "auto"
      }
     },
     "365e7947bde5457591013bce32dfffd4": {
      "model_module": "@jupyter-widgets/controls",
      "model_module_version": "1.5.0",
      "model_name": "VBoxModel",
      "state": {
       "children": [
        "IPY_MODEL_996ff7f7b3a14745915709b64d1dbb18",
        "IPY_MODEL_0ac59790e2a74692a05f3d62cfe1894a"
       ],
       "layout": "IPY_MODEL_adf8f4e5033e4709b4feabca65beea09"
      }
     },
     "36a4dc4bb9aa42a39c9dcaf56b3b66dd": {
      "model_module": "@jupyter-widgets/controls",
      "model_module_version": "1.5.0",
      "model_name": "FloatSliderModel",
      "state": {
       "continuous_update": false,
       "description": "Northing",
       "layout": "IPY_MODEL_700f57bfa50b45c58fc939c9c3409eca",
       "max": 6076443.652111261,
       "min": 6065091.787108775,
       "orientation": "vertical",
       "step": 0.1,
       "style": "IPY_MODEL_e94318a52bb6457888cc574da3f54180",
       "value": 6070767.719610019
      }
     },
     "36b6d2c30c9b4dd59462d1b707457921": {
      "model_module": "@jupyter-widgets/base",
      "model_module_version": "1.2.0",
      "model_name": "LayoutModel",
      "state": {
       "grid_area": "pathlist",
       "width": "auto"
      }
     },
     "36c2fea6174241179275b0ef569f1928": {
      "model_module": "@jupyter-widgets/base",
      "model_module_version": "1.2.0",
      "model_name": "LayoutModel",
      "state": {}
     },
     "372589b4ca684ed7ac71bcd408f3feda": {
      "model_module": "@jupyter-widgets/base",
      "model_module_version": "1.2.0",
      "model_name": "LayoutModel",
      "state": {
       "width": "auto"
      }
     },
     "3766a0d43f1b4236b4d5fd41fb0751b9": {
      "model_module": "@jupyter-widgets/controls",
      "model_module_version": "1.5.0",
      "model_name": "TextModel",
      "state": {
       "disabled": true,
       "layout": "IPY_MODEL_c69d0cdd986f4ec19307a85553414ec8",
       "placeholder": "output filename",
       "style": "IPY_MODEL_a330be184e4e486bb516a93d8947be75"
      }
     },
     "3774609e464a442d80d96730f6c9f752": {
      "model_module": "@jupyter-widgets/controls",
      "model_module_version": "1.5.0",
      "model_name": "VBoxModel",
      "state": {
       "children": [
        "IPY_MODEL_b731141695f24782b31680ea018c2b73",
        "IPY_MODEL_53cbbb8ca9284add808b9641c4d58eab"
       ],
       "layout": "IPY_MODEL_ad69e9dad392452cb84cbf2d7a12c304"
      }
     },
     "378f74446bf146219e4b0774f956ba4f": {
      "model_module": "@jupyter-widgets/controls",
      "model_module_version": "1.5.0",
      "model_name": "ButtonModel",
      "state": {
       "description": "Cancel",
       "layout": "IPY_MODEL_95d25410d3d64948be30cacf67b5c660",
       "style": "IPY_MODEL_c89a52ade2d147e897d3af66d8bd5cab"
      }
     },
     "3797a427491c42eb96362e2950f39d2f": {
      "model_module": "@jupyter-widgets/controls",
      "model_module_version": "1.5.0",
      "model_name": "FloatTextModel",
      "state": {
       "description": "Grid Resolution (m)",
       "layout": "IPY_MODEL_59fd44ee8c184b2da3dcb04c6f0c7cd5",
       "step": null,
       "style": "IPY_MODEL_a64cb88a431047aa9d64ee93e3c74aaf"
      }
     },
     "3834dfa3876741a384189ecede40e87e": {
      "model_module": "@jupyter-widgets/base",
      "model_module_version": "1.2.0",
      "model_name": "LayoutModel",
      "state": {}
     },
     "3844ad38bb8a4571a6275ccb6661eb60": {
      "model_module": "@jupyter-widgets/controls",
      "model_module_version": "1.5.0",
      "model_name": "DescriptionStyleModel",
      "state": {
       "description_width": "initial"
      }
     },
     "38951c11fc314b4ca1d58c89a14249b4": {
      "model_module": "@jupyter-widgets/base",
      "model_module_version": "1.2.0",
      "model_name": "LayoutModel",
      "state": {}
     },
     "38b5e7352e9346ae9808cee75624bbdd": {
      "model_module": "@jupyter-widgets/controls",
      "model_module_version": "1.5.0",
      "model_name": "ButtonStyleModel",
      "state": {}
     },
     "38c6d66d3001435ebb65ed18b64e285b": {
      "model_module": "@jupyter-widgets/base",
      "model_module_version": "1.2.0",
      "model_name": "LayoutModel",
      "state": {}
     },
     "390dc36200dd4ff78d810fa7fb62283c": {
      "model_module": "@jupyter-widgets/controls",
      "model_module_version": "1.5.0",
      "model_name": "VBoxModel",
      "state": {
       "children": [
        "IPY_MODEL_83792c89722248248992c7ee3492182e",
        "IPY_MODEL_d3cea15babfe48d4907068f4be986c5d"
       ],
       "layout": "IPY_MODEL_505fe23bc0cb43f2a2e06d4c147bd6ef"
      }
     },
     "395b76f069344e7f94c5ca919176367a": {
      "model_module": "@jupyter-widgets/base",
      "model_module_version": "1.2.0",
      "model_name": "LayoutModel",
      "state": {
       "grid_area": "dircontent",
       "width": "auto"
      }
     },
     "3a0d8b142cdb4bfd9e6eb56baa12d969": {
      "model_module": "@jupyter-widgets/controls",
      "model_module_version": "1.5.0",
      "model_name": "HBoxModel",
      "state": {
       "children": [
        "IPY_MODEL_f4c8842b9b514d3686eadb72f13cc01c",
        "IPY_MODEL_b2bd8320ae574386a55f498ab395b84b"
       ],
       "layout": "IPY_MODEL_cb385a90d1664ed380228b3c92ebe647"
      }
     },
     "3a5be4e734124aca92af9d59712e623f": {
      "model_module": "@jupyter-widgets/base",
      "model_module_version": "1.2.0",
      "model_name": "LayoutModel",
      "state": {}
     },
     "3a73e6a273af43cbaf9b79b348fdac42": {
      "model_module": "@jupyter-widgets/controls",
      "model_module_version": "1.5.0",
      "model_name": "DescriptionStyleModel",
      "state": {
       "description_width": ""
      }
     },
     "3ac8c204081347deaa3fe81c87ae22f9": {
      "model_module": "@jupyter-widgets/base",
      "model_module_version": "1.2.0",
      "model_name": "LayoutModel",
      "state": {}
     },
     "3b03e73c7ee749f2a8c32be2f89a23de": {
      "model_module": "@jupyter-widgets/controls",
      "model_module_version": "1.5.0",
      "model_name": "HTMLModel",
      "state": {
       "layout": "IPY_MODEL_fa0346d480ac4e6d927707b3d9d545c3",
       "placeholder": "",
       "style": "IPY_MODEL_ec3eb9f518f24eb192238e9f956fcad2",
       "value": "<span style=\"margin-left:10px; color:orange;\">C:\\Users\\dominiquef\\Documents\\GIT\\mira\\mirageoscience-apps\\assets\\FlinFlon.geoh5</span>"
      }
     },
     "3b0b9165a5774b07bccf71fd0194a275": {
      "model_module": "@jupyter-widgets/controls",
      "model_module_version": "1.5.0",
      "model_name": "TextModel",
      "state": {
       "continuous_update": false,
       "description": "Contours",
       "layout": "IPY_MODEL_27a04cdf83514c6f986be5d57f942b09",
       "style": "IPY_MODEL_090f05f4f559413aa76ff4efbb39318b"
      }
     },
     "3b342c459d904102ba3acb629844aa88": {
      "model_module": "@jupyter-widgets/controls",
      "model_module_version": "1.5.0",
      "model_name": "DescriptionStyleModel",
      "state": {
       "description_width": ""
      }
     },
     "3b90423a4cee41039a7156e12f1f3b9b": {
      "model_module": "@jupyter-widgets/controls",
      "model_module_version": "1.5.0",
      "model_name": "HTMLModel",
      "state": {
       "layout": "IPY_MODEL_71f1785087af4d08b72d5cd6a56512cd",
       "style": "IPY_MODEL_74e9cd33828c4aefa4532299e627c50d"
      }
     },
     "3be6008c759340cb822ca3f82a792290": {
      "model_module": "@jupyter-widgets/controls",
      "model_module_version": "1.5.0",
      "model_name": "VBoxModel",
      "state": {
       "children": [
        "IPY_MODEL_cc35cc1ef0d549f5886d64b9171cdf08",
        "IPY_MODEL_f6dc42366b814b309c38bcd4d5a0dbad"
       ],
       "layout": "IPY_MODEL_6126d107ca4447beb2a4b9cc9de87b05"
      }
     },
     "3c1af0c679c144d099b9b107ec5a7550": {
      "model_module": "@jupyter-widgets/controls",
      "model_module_version": "1.5.0",
      "model_name": "DescriptionStyleModel",
      "state": {
       "description_width": ""
      }
     },
     "3c9442fb4b7d4cbd955d2160c1b8842d": {
      "model_module": "@jupyter-widgets/controls",
      "model_module_version": "1.5.0",
      "model_name": "ButtonModel",
      "state": {
       "button_style": "danger",
       "description": "Compute",
       "icon": "check",
       "layout": "IPY_MODEL_e503b41af7b94ae4b6608182f045ae2a",
       "style": "IPY_MODEL_38b5e7352e9346ae9808cee75624bbdd",
       "tooltip": "Run computation"
      }
     },
     "3cb6be906c5c486a9901865c263322b9": {
      "model_module": "@jupyter-widgets/controls",
      "model_module_version": "1.5.0",
      "model_name": "DropdownModel",
      "state": {
       "_options_labels": [
        "",
        "fault_splay1",
        "fault_Cliff_Lake",
        "fault_Other_FlinFlon",
        "fault_Club_Lake_splay",
        "fault_Catherine_splay2",
        "fault_Birch_View",
        "fault_Dion_Lake",
        "fault_FlinFlon_splay",
        "fault_West_Mandy_Road",
        "fault_Channing",
        "fault_Ross_Lake",
        "fault_Louis_Hidden",
        "fault_Lake_View_thrust",
        "contact_Schist_Lake",
        "fault_Burley_Lake",
        "fault_Dion_Lake_splay",
        "fault_Green_Lake",
        "fault_FlinFlon",
        "fault_Catherine_splay1",
        "fault_East_Mandy_Road",
        "fault_Other_FlinFlon_South",
        "fault_Catherine_splay4",
        "contact_Stitt_Island",
        "fault_Club_Lake",
        "fault_Tailing_Pond",
        "35_Hidden_Reservoir_Hr5",
        "29_Hidden_Reservoir_Hr1a",
        "60_BlueLagoon_Fb2",
        "20_FlinFlon_Undivided_Int_Dykes_D2f",
        "04_Boundary_Intrusive_S4h",
        "53_Millrock_Rhyolite_Fm4b",
        "19_FlinFlon_Undivided_Int_Dykes_D2b",
        "18_FlinFlon_Undivided_Int_Dykes_777_D2b",
        "06_Phantom_Lake_Intrusive_S3a",
        "21_FlinFlon_Undivided_Int_Dykes_D3a",
        "43_Millrock_CHLSH_South",
        "56_Millrock_Basalt_Fm1ba",
        "17_FlinFlon_Undivided_Int_Dykes_D2",
        "32_Hidden_Reservoir_Hr1b_SW",
        "11_Missi_M3_NE",
        "13_Missi_M1",
        "07_Annabel_Granitoid_S1",
        "45_Millrock_Gabbro_South",
        "01_Late_Intrusive_S5b",
        "31_Hidden_Reservoir_Hr1c_SW",
        "52_Millrock_Rhyolite_Fm4_West_check",
        "55_Millrock_Basalt_Fm1bf",
        "34_Hidden_Reservoir_Hr2b",
        "03_Boundary_Intrusive_S4b",
        "42_Millrock_CHLSH_North",
        "26_Louis_L3",
        "23_FlinFlon_Undivided_Int_Felsic_D4g",
        "30_Hidden_Reservoir_Hr1b",
        "59_BlueLagoon_Fb3",
        "49_Millrock_MVR_Fm5d",
        "44_Millrock_Gabbro_North",
        "27_Hidden_Carlisle_Hc4",
        "22_FlinFlon_Undivided_Int_Felsic_D4e",
        "02_Boundary_Intrusive_S4a",
        "61_BlueLagoon_Fb1_NW",
        "05_Boundary_Intrusive_S4g",
        "39_Ore_Callinan",
        "38_Ore_Dan_Owens",
        "40_Ore_FlinFlon",
        "Inversion_VTEM_Model",
        "Gravity_Magnetics_drape60m",
        "CDI_VTEM_model",
        "Data_FEM_pseudo3D",
        "O2O_Interp_25m",
        "geochem",
        "Inversion_DIGHEM_Model",
        "Topography",
        "Data_TEM_pseudo3D"
       ],
       "description": "Object:",
       "index": 66,
       "layout": "IPY_MODEL_4a1dd9ee440540c3afa3a69f1906fd08",
       "style": "IPY_MODEL_f1821fe1f6c4489b893cd1f688533f8d"
      }
     },
     "3cbd02d8a0354d9dbfe2ee77c94b3aaf": {
      "model_module": "@jupyter-widgets/base",
      "model_module_version": "1.2.0",
      "model_name": "LayoutModel",
      "state": {
       "width": "auto"
      }
     },
     "3cbefdba3c2b442d9e4e2a5bfad46713": {
      "model_module": "@jupyter-widgets/controls",
      "model_module_version": "1.5.0",
      "model_name": "DescriptionStyleModel",
      "state": {
       "description_width": ""
      }
     },
     "3cce1745968b4dba8fc6e5da5e191c88": {
      "model_module": "@jupyter-widgets/controls",
      "model_module_version": "1.5.0",
      "model_name": "DescriptionStyleModel",
      "state": {
       "description_width": ""
      }
     },
     "3d25366c070240798373ffc67f903a71": {
      "model_module": "@jupyter-widgets/base",
      "model_module_version": "1.2.0",
      "model_name": "LayoutModel",
      "state": {}
     },
     "3d2f855560c04b408d0fae32cc129c3c": {
      "model_module": "@jupyter-widgets/base",
      "model_module_version": "1.2.0",
      "model_name": "LayoutModel",
      "state": {}
     },
     "3d35f3c9e0e24bef866a354d527df9ad": {
      "model_module": "@jupyter-widgets/controls",
      "model_module_version": "1.5.0",
      "model_name": "DescriptionStyleModel",
      "state": {
       "description_width": "initial"
      }
     },
     "3d5d99d1927442a2b291a71f3cc2998d": {
      "model_module": "@jupyter-widgets/controls",
      "model_module_version": "1.5.0",
      "model_name": "SliderStyleModel",
      "state": {
       "description_width": ""
      }
     },
     "3d7cf2933d2a4fd29ee588ba4acb5bbb": {
      "model_module": "@jupyter-widgets/base",
      "model_module_version": "1.2.0",
      "model_name": "LayoutModel",
      "state": {
       "display": "none"
      }
     },
     "3d8ca4515c4b45059df963806e82b9e3": {
      "model_module": "@jupyter-widgets/base",
      "model_module_version": "1.2.0",
      "model_name": "LayoutModel",
      "state": {}
     },
     "3dd3ee74bdcf43f8a9e15f77dfe2c32e": {
      "model_module": "@jupyter-widgets/base",
      "model_module_version": "1.2.0",
      "model_name": "LayoutModel",
      "state": {}
     },
     "3de8ac6104c74ea0b41fb0468c9c5140": {
      "model_module": "@jupyter-widgets/base",
      "model_module_version": "1.2.0",
      "model_name": "LayoutModel",
      "state": {
       "width": "auto"
      }
     },
     "3e2c7fd3e7db43268b6cd912bc8b0a48": {
      "model_module": "@jupyter-widgets/base",
      "model_module_version": "1.2.0",
      "model_name": "LayoutModel",
      "state": {
       "grid_area": "dircontent",
       "width": "auto"
      }
     },
     "3ea92f5b518a480fb3b02eaee004ee0d": {
      "model_module": "@jupyter-widgets/controls",
      "model_module_version": "1.5.0",
      "model_name": "DescriptionStyleModel",
      "state": {
       "description_width": ""
      }
     },
     "3eb793597ebb4f6ba461a09b2c9bd152": {
      "model_module": "@jupyter-widgets/base",
      "model_module_version": "1.2.0",
      "model_name": "LayoutModel",
      "state": {}
     },
     "3ed5f45aebce484b84dcec5137798923": {
      "model_module": "@jupyter-widgets/controls",
      "model_module_version": "1.5.0",
      "model_name": "ToggleButtonModel",
      "state": {
       "description": "Zoom on selection",
       "icon": "check",
       "layout": "IPY_MODEL_29f7b52d08894f5cb4ba4d20d7948449",
       "style": "IPY_MODEL_fb63f340d0d34317b12047da31fd392b",
       "value": true
      }
     },
     "3f2df031caaf4a99849149d0d5f7b981": {
      "model_module": "@jupyter-widgets/base",
      "model_module_version": "1.2.0",
      "model_name": "LayoutModel",
      "state": {}
     },
     "3f2efd9440ff441ab2fc1c3094d68ac2": {
      "model_module": "@jupyter-widgets/base",
      "model_module_version": "1.2.0",
      "model_name": "LayoutModel",
      "state": {}
     },
     "3f46e51bdd27492da620805370f7fd70": {
      "model_module": "@jupyter-widgets/controls",
      "model_module_version": "1.5.0",
      "model_name": "VBoxModel",
      "state": {
       "children": [
        "IPY_MODEL_13e81944d825435e835c7ef17d2669d0",
        "IPY_MODEL_bb87143153b3481595ab387f5484b9b9"
       ],
       "layout": "IPY_MODEL_3d2f855560c04b408d0fae32cc129c3c"
      }
     },
     "3f56ba524ff5493b9f3714b1cccdb6fb": {
      "model_module": "@jupyter-widgets/controls",
      "model_module_version": "1.5.0",
      "model_name": "SliderStyleModel",
      "state": {
       "description_width": ""
      }
     },
     "3fc545adfccb4df392ff98a346383a30": {
      "model_module": "@jupyter-widgets/controls",
      "model_module_version": "1.5.0",
      "model_name": "DescriptionStyleModel",
      "state": {
       "description_width": ""
      }
     },
     "403c28ed5f274d5fa2281bd2e934f916": {
      "model_module": "@jupyter-widgets/controls",
      "model_module_version": "1.5.0",
      "model_name": "FloatTextModel",
      "state": {
       "description": "Grid Resolution (m)",
       "layout": "IPY_MODEL_ec9f48183c794af5b356546273040a8c",
       "step": null,
       "style": "IPY_MODEL_b7412339be834919aeef8c490f5aca0e"
      }
     },
     "4043cb64f5c34b51bc7d2a8fcaa3ed75": {
      "model_module": "@jupyter-widgets/base",
      "model_module_version": "1.2.0",
      "model_name": "LayoutModel",
      "state": {}
     },
     "40cf4138ca2f4ddf98c55ed93b85a2a3": {
      "model_module": "@jupyter-widgets/controls",
      "model_module_version": "1.5.0",
      "model_name": "DescriptionStyleModel",
      "state": {
       "description_width": ""
      }
     },
     "40d489a5fccc4dbe8998debccabc4f98": {
      "model_module": "@jupyter-widgets/base",
      "model_module_version": "1.2.0",
      "model_name": "LayoutModel",
      "state": {}
     },
     "4117c2d354ed41498a4c70d21e18f797": {
      "model_module": "@jupyter-widgets/controls",
      "model_module_version": "1.5.0",
      "model_name": "DescriptionStyleModel",
      "state": {
       "description_width": "initial"
      }
     },
     "4117cf2ddcb24aae9444a7ab6e9cb15f": {
      "model_module": "@jupyter-widgets/controls",
      "model_module_version": "1.5.0",
      "model_name": "SliderStyleModel",
      "state": {
       "description_width": ""
      }
     },
     "4159b414470e49e38b32f674384e6967": {
      "model_module": "@jupyter-widgets/controls",
      "model_module_version": "1.5.0",
      "model_name": "ButtonStyleModel",
      "state": {}
     },
     "415a4a5181a841dfbbf93792fc64cece": {
      "model_module": "@jupyter-widgets/controls",
      "model_module_version": "1.5.0",
      "model_name": "HBoxModel",
      "state": {
       "children": [
        "IPY_MODEL_8cb0a9eb203940cbbe10d9ad14d27552",
        "IPY_MODEL_42da0b526ac244bf8872f9b3737d7272",
        "IPY_MODEL_cc437bcaa98042f686821eabe00370e1"
       ],
       "layout": "IPY_MODEL_2125402a0b20490bb14f8af5bf2f00dd"
      }
     },
     "417d950970e84d1894220dde621a7e06": {
      "model_module": "@jupyter-widgets/controls",
      "model_module_version": "1.5.0",
      "model_name": "LabelModel",
      "state": {
       "layout": "IPY_MODEL_af9413565e714230b9ec3b85eb47579e",
       "style": "IPY_MODEL_ad97c7125353405399d49c8c65b9b5d1",
       "value": "Workspace"
      }
     },
     "41d93ccbe862471e87534c0370ddd249": {
      "model_module": "@jupyter-widgets/controls",
      "model_module_version": "1.5.0",
      "model_name": "ButtonStyleModel",
      "state": {}
     },
     "41f9b598c1cd49f2bbf406b84d6734a4": {
      "model_module": "@jupyter-widgets/controls",
      "model_module_version": "1.5.0",
      "model_name": "LabelModel",
      "state": {
       "layout": "IPY_MODEL_9e3827f1e49c4f24b7218fff96b4461a",
       "style": "IPY_MODEL_f25d37d5b36847f6ac678dce46dbfb61",
       "value": "Data Count: 27884"
      }
     },
     "4248eaa61bae40909c82e99e8e2696ac": {
      "model_module": "@jupyter-widgets/controls",
      "model_module_version": "1.5.0",
      "model_name": "VBoxModel",
      "state": {
       "children": [
        "IPY_MODEL_c6363265596a4fa39ce25208155ed3d5",
        "IPY_MODEL_457098e23f664e249a0c5f8e8d1b4ccc"
       ],
       "layout": "IPY_MODEL_bd95ef2b421f4cf8add87beba9b546b5"
      }
     },
     "424e9171718e4b20b60fe1fe9bf231d9": {
      "model_module": "@jupyter-widgets/controls",
      "model_module_version": "1.5.0",
      "model_name": "VBoxModel",
      "state": {
       "children": [
        "IPY_MODEL_c77d32ee6aa641dbacf4766431555c3a",
        "IPY_MODEL_cc9539a788504bee9e64f6b625deac67"
       ],
       "layout": "IPY_MODEL_d48fc2a10f9f4c6e952c8a522f5c7b95"
      }
     },
     "425c803cabae4f31a6116917e03dfcbd": {
      "model_module": "@jupyter-widgets/base",
      "model_module_version": "1.2.0",
      "model_name": "LayoutModel",
      "state": {
       "width": "auto"
      }
     },
     "42da0b526ac244bf8872f9b3737d7272": {
      "model_module": "@jupyter-widgets/controls",
      "model_module_version": "1.5.0",
      "model_name": "ButtonModel",
      "state": {
       "description": "Cancel",
       "layout": "IPY_MODEL_5ce81b3f32fb4cd996ae0c4bc5f14896",
       "style": "IPY_MODEL_8c585b18edf448a0859828010503eb06"
      }
     },
     "43858ebe2851468185fbf87883963007": {
      "model_module": "@jupyter-widgets/controls",
      "model_module_version": "1.5.0",
      "model_name": "ButtonStyleModel",
      "state": {}
     },
     "43abcb57d55c4614875185bd22a983aa": {
      "model_module": "@jupyter-widgets/controls",
      "model_module_version": "1.5.0",
      "model_name": "ButtonStyleModel",
      "state": {}
     },
     "43c0fcce53444cbabc49b25c2c7bded4": {
      "model_module": "@jupyter-widgets/base",
      "model_module_version": "1.2.0",
      "model_name": "LayoutModel",
      "state": {}
     },
     "4435c308e2234eda8ef5e427cc5834dc": {
      "model_module": "@jupyter-widgets/base",
      "model_module_version": "1.2.0",
      "model_name": "LayoutModel",
      "state": {
       "grid_area": "filename",
       "width": "auto"
      }
     },
     "447899c7c54f436b99f6caf01c2e1a11": {
      "model_module": "@jupyter-widgets/base",
      "model_module_version": "1.2.0",
      "model_name": "LayoutModel",
      "state": {}
     },
     "447e73fe759949aaa60d4bab85f3908d": {
      "model_module": "@jupyter-widgets/controls",
      "model_module_version": "1.5.0",
      "model_name": "SliderStyleModel",
      "state": {
       "description_width": ""
      }
     },
     "448444bf943b4b44bff0dce2082b0f7c": {
      "model_module": "@jupyter-widgets/controls",
      "model_module_version": "1.5.0",
      "model_name": "ButtonStyleModel",
      "state": {}
     },
     "448b93a98b0547cca35ca47ace744dc3": {
      "model_module": "@jupyter-widgets/controls",
      "model_module_version": "1.5.0",
      "model_name": "ButtonModel",
      "state": {
       "description": "Cancel",
       "layout": "IPY_MODEL_ab7978a2e8aa42609776671a352dbf60",
       "style": "IPY_MODEL_d5d9d43e10d74d809152644a1a98b0b8"
      }
     },
     "4497beaa066140279f39e5f6dd7592f9": {
      "model_module": "@jupyter-widgets/base",
      "model_module_version": "1.2.0",
      "model_name": "LayoutModel",
      "state": {}
     },
     "449a2bc2cd5e4127bdb9302d45cd0b16": {
      "model_module": "@jupyter-widgets/controls",
      "model_module_version": "1.5.0",
      "model_name": "HBoxModel",
      "state": {
       "children": [
        "IPY_MODEL_6eb93a37bfa842ba93a1e33d36ae0d91",
        "IPY_MODEL_e4a95f728b864874a06aaa5b1d5502bd",
        "IPY_MODEL_248ffcb8e16945f694a506fc24904b8d"
       ],
       "layout": "IPY_MODEL_eea07d5aa5ce49009d2f2603e7d5b128"
      }
     },
     "457098e23f664e249a0c5f8e8d1b4ccc": {
      "model_module": "@jupyter-widgets/controls",
      "model_module_version": "1.5.0",
      "model_name": "LabelModel",
      "state": {
       "layout": "IPY_MODEL_3d8ca4515c4b45059df963806e82b9e3",
       "style": "IPY_MODEL_5f15f70063344b1e9bf6029fbd38e08e",
       "value": "Data Count: 21362"
      }
     },
     "4583e01f3dfd47e5b2d8e1e048f0ab85": {
      "model_module": "@jupyter-widgets/controls",
      "model_module_version": "1.5.0",
      "model_name": "VBoxModel",
      "state": {
       "children": [
        "IPY_MODEL_a1097af786214106b8e009285649cbe4",
        "IPY_MODEL_5265e95047c3498b907b07bcc1cf4ec0",
        "IPY_MODEL_f0fd1ae69c7d481288c4f11271a352c6"
       ],
       "layout": "IPY_MODEL_5ab8afc8955c4f4685ba9cd3d09f4d1c"
      }
     },
     "46069ec42ea2403fbc1121776c8b43d1": {
      "model_module": "@jupyter-widgets/base",
      "model_module_version": "1.2.0",
      "model_name": "LayoutModel",
      "state": {}
     },
     "462b4784df4a4f0eaab4495217afda52": {
      "model_module": "@jupyter-widgets/controls",
      "model_module_version": "1.5.0",
      "model_name": "DescriptionStyleModel",
      "state": {
       "description_width": ""
      }
     },
     "46546a3afca14ed5bd802f870f1845b5": {
      "model_module": "@jupyter-widgets/controls",
      "model_module_version": "1.5.0",
      "model_name": "ButtonStyleModel",
      "state": {}
     },
     "465cecb01ec84cadaa2226b9a1959985": {
      "model_module": "@jupyter-widgets/controls",
      "model_module_version": "1.5.0",
      "model_name": "HTMLModel",
      "state": {
       "layout": "IPY_MODEL_4ab0f17d1b5945c8a3adfd4df0cf76c2",
       "placeholder": "",
       "style": "IPY_MODEL_16c510a91df7473fae6a0126adb433d3",
       "value": "<span style=\"margin-left:10px; color:orange;\">C:\\Users\\dominiquef\\Documents\\GIT\\mira\\mirageoscience-apps\\assets\\FlinFlon.geoh5</span>"
      }
     },
     "469500d3442c4deba5ac6d03597b3fa1": {
      "model_module": "@jupyter-widgets/base",
      "model_module_version": "1.2.0",
      "model_name": "LayoutModel",
      "state": {}
     },
     "469f0a8e95ad4764abf5c79018b0b4a6": {
      "model_module": "@jupyter-widgets/base",
      "model_module_version": "1.2.0",
      "model_name": "LayoutModel",
      "state": {}
     },
     "46a8807c1ed84293ab0baaebd94b3b00": {
      "model_module": "@jupyter-widgets/controls",
      "model_module_version": "1.5.0",
      "model_name": "TextModel",
      "state": {
       "continuous_update": false,
       "description": "Contours",
       "layout": "IPY_MODEL_d8493ae911e848bfb38c86fd348c8438",
       "style": "IPY_MODEL_f415a0599d4c4dccb93b1acbae0536ce"
      }
     },
     "47745845254f4ac4a2d2afe04a62b21f": {
      "model_module": "@jupyter-widgets/controls",
      "model_module_version": "1.5.0",
      "model_name": "DescriptionStyleModel",
      "state": {
       "description_width": ""
      }
     },
     "47fd1b152f7b42c6bd3548f393680a05": {
      "model_module": "@jupyter-widgets/base",
      "model_module_version": "1.2.0",
      "model_name": "LayoutModel",
      "state": {
       "grid_area": "pathlist",
       "width": "auto"
      }
     },
     "483ff8892125419490798ee81c41ed52": {
      "model_module": "@jupyter-widgets/controls",
      "model_module_version": "1.5.0",
      "model_name": "VBoxModel",
      "state": {
       "children": [
        "IPY_MODEL_8572ac890011465d83f52f46071343c4",
        "IPY_MODEL_f8f0b0f0f00e464e8a733f52965cda7c"
       ],
       "layout": "IPY_MODEL_3f2df031caaf4a99849149d0d5f7b981"
      }
     },
     "48b26089a8134f87810798c58943229f": {
      "model_module": "@jupyter-widgets/controls",
      "model_module_version": "1.5.0",
      "model_name": "GridBoxModel",
      "state": {
       "children": [
        "IPY_MODEL_03d9b4c7840d4d6896ec6ac1c16f2c36",
        "IPY_MODEL_5f02580db43e4dfa88f1f3cb18b991af",
        "IPY_MODEL_b670f62d80dd46da904511afeff807b0"
       ],
       "layout": "IPY_MODEL_77e093ec6d864795bad0612ef94f7e81"
      }
     },
     "48bd1eba3c114ad7bc5214907732c27b": {
      "model_module": "@jupyter-widgets/controls",
      "model_module_version": "1.5.0",
      "model_name": "DescriptionStyleModel",
      "state": {
       "description_width": ""
      }
     },
     "48ea2e8d8536499da42b936703d5c5a8": {
      "model_module": "@jupyter-widgets/controls",
      "model_module_version": "1.5.0",
      "model_name": "ButtonStyleModel",
      "state": {}
     },
     "4904eec61fda4268a854cce28f50123d": {
      "model_module": "@jupyter-widgets/controls",
      "model_module_version": "1.5.0",
      "model_name": "DescriptionStyleModel",
      "state": {
       "description_width": ""
      }
     },
     "491ba33dd29f4751b897d470c7c98db6": {
      "model_module": "@jupyter-widgets/controls",
      "model_module_version": "1.5.0",
      "model_name": "ButtonModel",
      "state": {
       "description": "Cancel",
       "layout": "IPY_MODEL_0012a1784af345ccaff924d02d49c220",
       "style": "IPY_MODEL_eb208879a83347d88c42de714672470f"
      }
     },
     "494f4806f31546b5bb186542e95f4b7e": {
      "model_module": "@jupyter-widgets/controls",
      "model_module_version": "1.5.0",
      "model_name": "ToggleButtonModel",
      "state": {
       "layout": "IPY_MODEL_845b76973bca4a078eb2c3a93da14631",
       "style": "IPY_MODEL_fbedfc2309dd4fd588458563b66f8d4d",
       "value": true
      }
     },
     "49f7a2fbb50b4225a51855cc039ce474": {
      "model_module": "@jupyter-widgets/controls",
      "model_module_version": "1.5.0",
      "model_name": "DescriptionStyleModel",
      "state": {
       "description_width": ""
      }
     },
     "4a13dd87f7044bc2a5171929014eb2eb": {
      "model_module": "@jupyter-widgets/base",
      "model_module_version": "1.2.0",
      "model_name": "LayoutModel",
      "state": {
       "display": "none",
       "grid_area": "filename",
       "width": "auto"
      }
     },
     "4a1dd9ee440540c3afa3a69f1906fd08": {
      "model_module": "@jupyter-widgets/base",
      "model_module_version": "1.2.0",
      "model_name": "LayoutModel",
      "state": {}
     },
     "4a5762da818e44ed94345032b89a1916": {
      "model_module": "@jupyter-widgets/base",
      "model_module_version": "1.2.0",
      "model_name": "LayoutModel",
      "state": {}
     },
     "4a719f7dbbd642dd8b3c97a3a0ec915d": {
      "model_module": "@jupyter-widgets/controls",
      "model_module_version": "1.5.0",
      "model_name": "FloatSliderModel",
      "state": {
       "continuous_update": false,
       "description": "Easting",
       "layout": "IPY_MODEL_636f9128d6364a1da5ddb8b8674e89f2",
       "max": 319234.2051362576,
       "min": 311898.69919769425,
       "step": 0.1,
       "style": "IPY_MODEL_a7e0daf8b4c9478fa8b6b110756201c4",
       "value": 315566.45216697594
      }
     },
     "4aafb841ffc64641b6eb67df81388fa2": {
      "model_module": "@jupyter-widgets/controls",
      "model_module_version": "1.5.0",
      "model_name": "TextModel",
      "state": {
       "disabled": true,
       "layout": "IPY_MODEL_7bb764e883ec4b23b59a2bddb523521e",
       "placeholder": "output filename",
       "style": "IPY_MODEL_c6d74b5948674c649bec9bb0906c5005"
      }
     },
     "4ab0f17d1b5945c8a3adfd4df0cf76c2": {
      "model_module": "@jupyter-widgets/base",
      "model_module_version": "1.2.0",
      "model_name": "LayoutModel",
      "state": {}
     },
     "4ad2a1ab3a2d476fae7f3684074a0fd5": {
      "model_module": "@jupyter-widgets/controls",
      "model_module_version": "1.5.0",
      "model_name": "VBoxModel",
      "state": {
       "children": [
        "IPY_MODEL_417d950970e84d1894220dde621a7e06",
        "IPY_MODEL_7f5456d130c64041adf5e3537a92b04d"
       ],
       "layout": "IPY_MODEL_00a134dad87345a0b0a29a3113742219"
      }
     },
     "4af66426f9d14f9a8abb9d385404c916": {
      "model_module": "@jupyter-widgets/controls",
      "model_module_version": "1.5.0",
      "model_name": "DescriptionStyleModel",
      "state": {
       "description_width": ""
      }
     },
     "4b2f4ca487434490873ef06bb2180324": {
      "model_module": "@jupyter-widgets/controls",
      "model_module_version": "1.5.0",
      "model_name": "DescriptionStyleModel",
      "state": {
       "description_width": ""
      }
     },
     "4b578fac78cb482ea41f898e4627fb0d": {
      "model_module": "@jupyter-widgets/base",
      "model_module_version": "1.2.0",
      "model_name": "LayoutModel",
      "state": {
       "grid_area": "filename",
       "width": "auto"
      }
     },
     "4b985897c2924081950171535158e354": {
      "model_module": "@jupyter-widgets/controls",
      "model_module_version": "1.5.0",
      "model_name": "ButtonModel",
      "state": {
       "description": "Change",
       "layout": "IPY_MODEL_f9e40347129f4c2e901ee1dc32b1e44f",
       "style": "IPY_MODEL_0970620b7a3b4d30a7149567479856e4"
      }
     },
     "4ba52d276220400ba1e4e60840a1cffe": {
      "model_module": "@jupyter-widgets/base",
      "model_module_version": "1.2.0",
      "model_name": "LayoutModel",
      "state": {
       "width": "auto"
      }
     },
     "4cbcf1e30c1e494ea644ed49804b7009": {
      "model_module": "@jupyter-widgets/controls",
      "model_module_version": "1.5.0",
      "model_name": "DropdownModel",
      "state": {
       "_options_labels": [
        "C:\\Users\\dominiquef\\Documents\\GIT\\mira\\mirageoscience-apps\\assets",
        "C:\\Users\\dominiquef\\Documents\\GIT\\mira\\mirageoscience-apps",
        "C:\\Users\\dominiquef\\Documents\\GIT\\mira",
        "C:\\Users\\dominiquef\\Documents\\GIT",
        "C:\\Users\\dominiquef\\Documents",
        "C:\\Users\\dominiquef",
        "C:\\Users",
        "C:\\",
        "D:\\",
        "Z:\\"
       ],
       "index": 0,
       "layout": "IPY_MODEL_2d36cd714ef9464eb444fae12f01ee05",
       "style": "IPY_MODEL_3c1af0c679c144d099b9b107ec5a7550"
      }
     },
     "4cd3df868daa41868160a773ec1fe939": {
      "model_module": "@jupyter-widgets/base",
      "model_module_version": "1.2.0",
      "model_name": "LayoutModel",
      "state": {
       "width": "auto"
      }
     },
     "4cf7de4efc324d23833829c3d3f35d77": {
      "model_module": "@jupyter-widgets/controls",
      "model_module_version": "1.5.0",
      "model_name": "FloatSliderModel",
      "state": {
       "continuous_update": false,
       "description": "Height",
       "layout": "IPY_MODEL_0ec47d48a472492b814ee0cec0b97d50",
       "max": 11351.865002485923,
       "orientation": "vertical",
       "step": 0.1,
       "style": "IPY_MODEL_8e3ab335f2824752b5b6d77c458a4040",
       "value": 5675.932501242962
      }
     },
     "4d7fd94f6c704621952db86604b6c5f6": {
      "model_module": "@jupyter-widgets/base",
      "model_module_version": "1.2.0",
      "model_name": "LayoutModel",
      "state": {
       "width": "auto"
      }
     },
     "4db57699089345418763ef1b29050074": {
      "model_module": "@jupyter-widgets/controls",
      "model_module_version": "1.5.0",
      "model_name": "VBoxModel",
      "state": {
       "children": [
        "IPY_MODEL_cbf6ae3616aa4903a77473e7fa61166d",
        "IPY_MODEL_8cb94825a90f462aa8084f7c11ae7713"
       ],
       "layout": "IPY_MODEL_0e3ea604719d4c4a94512c46df870dc4"
      }
     },
     "4e0f3e9a0c334dc2880be4d0a3ae3e45": {
      "model_module": "@jupyter-widgets/base",
      "model_module_version": "1.2.0",
      "model_name": "LayoutModel",
      "state": {}
     },
     "4e17e4e0405c4061a0707f406a364db6": {
      "model_module": "@jupyter-widgets/base",
      "model_module_version": "1.2.0",
      "model_name": "LayoutModel",
      "state": {}
     },
     "4e200c9596ef4a9e850d96a8563317ae": {
      "model_module": "@jupyter-widgets/output",
      "model_module_version": "1.0.0",
      "model_name": "OutputModel",
      "state": {
       "layout": "IPY_MODEL_829972865b054054969f040351078078",
       "outputs": [
        {
         "data": {
          "image/png": "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\n",
          "text/plain": "<Figure size 720x720 with 1 Axes>"
         },
         "metadata": {
          "needs_background": "light"
         },
         "output_type": "display_data"
        }
       ]
      }
     },
     "4e35ca17c4bc49f1848cf1313f767cd4": {
      "model_module": "@jupyter-widgets/controls",
      "model_module_version": "1.5.0",
      "model_name": "HTMLModel",
      "state": {
       "layout": "IPY_MODEL_ffda5f02e0424317b8471a6e30ab8d28",
       "placeholder": "",
       "style": "IPY_MODEL_60d5a56f1e384d9ebecdf1e6f8bcc075",
       "value": "<span style=\"margin-left:10px; color:black;\">No file selected</span>"
      }
     },
     "4e5b06ce7bf9463b808ae0a15d827279": {
      "model_module": "@jupyter-widgets/base",
      "model_module_version": "1.2.0",
      "model_name": "LayoutModel",
      "state": {}
     },
     "4e64a4a7995d4ff0898d16d11bd52b91": {
      "model_module": "@jupyter-widgets/controls",
      "model_module_version": "1.5.0",
      "model_name": "DescriptionStyleModel",
      "state": {
       "description_width": "initial"
      }
     },
     "4ebdce43c0664c8db36f2371f01a6fd9": {
      "model_module": "@jupyter-widgets/output",
      "model_module_version": "1.0.0",
      "model_name": "OutputModel",
      "state": {
       "layout": "IPY_MODEL_28b986ad78ef4d95a63ead6c483a9c65",
       "outputs": [
        {
         "data": {
          "image/png": "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\n",
          "text/plain": "<Figure size 720x720 with 1 Axes>"
         },
         "metadata": {
          "needs_background": "light"
         },
         "output_type": "display_data"
        }
       ]
      }
     },
     "4efe69f2991f4853a32e6cc93e0833f0": {
      "model_module": "@jupyter-widgets/controls",
      "model_module_version": "1.5.0",
      "model_name": "DropdownModel",
      "state": {
       "_options_labels": [
        "",
        "fault_splay1",
        "fault_Cliff_Lake",
        "fault_Other_FlinFlon",
        "fault_Club_Lake_splay",
        "fault_Catherine_splay2",
        "fault_Birch_View",
        "fault_Dion_Lake",
        "fault_FlinFlon_splay",
        "fault_West_Mandy_Road",
        "fault_Channing",
        "fault_Ross_Lake",
        "fault_Louis_Hidden",
        "fault_Lake_View_thrust",
        "contact_Schist_Lake",
        "fault_Burley_Lake",
        "fault_Dion_Lake_splay",
        "fault_Green_Lake",
        "fault_FlinFlon",
        "fault_Catherine_splay1",
        "fault_East_Mandy_Road",
        "fault_Other_FlinFlon_South",
        "fault_Catherine_splay4",
        "contact_Stitt_Island",
        "fault_Club_Lake",
        "fault_Tailing_Pond",
        "35_Hidden_Reservoir_Hr5",
        "29_Hidden_Reservoir_Hr1a",
        "60_BlueLagoon_Fb2",
        "20_FlinFlon_Undivided_Int_Dykes_D2f",
        "04_Boundary_Intrusive_S4h",
        "53_Millrock_Rhyolite_Fm4b",
        "19_FlinFlon_Undivided_Int_Dykes_D2b",
        "18_FlinFlon_Undivided_Int_Dykes_777_D2b",
        "06_Phantom_Lake_Intrusive_S3a",
        "21_FlinFlon_Undivided_Int_Dykes_D3a",
        "43_Millrock_CHLSH_South",
        "56_Millrock_Basalt_Fm1ba",
        "17_FlinFlon_Undivided_Int_Dykes_D2",
        "32_Hidden_Reservoir_Hr1b_SW",
        "11_Missi_M3_NE",
        "13_Missi_M1",
        "07_Annabel_Granitoid_S1",
        "45_Millrock_Gabbro_South",
        "01_Late_Intrusive_S5b",
        "31_Hidden_Reservoir_Hr1c_SW",
        "52_Millrock_Rhyolite_Fm4_West_check",
        "55_Millrock_Basalt_Fm1bf",
        "34_Hidden_Reservoir_Hr2b",
        "03_Boundary_Intrusive_S4b",
        "42_Millrock_CHLSH_North",
        "26_Louis_L3",
        "23_FlinFlon_Undivided_Int_Felsic_D4g",
        "30_Hidden_Reservoir_Hr1b",
        "59_BlueLagoon_Fb3",
        "49_Millrock_MVR_Fm5d",
        "44_Millrock_Gabbro_North",
        "27_Hidden_Carlisle_Hc4",
        "22_FlinFlon_Undivided_Int_Felsic_D4e",
        "02_Boundary_Intrusive_S4a",
        "61_BlueLagoon_Fb1_NW",
        "05_Boundary_Intrusive_S4g",
        "39_Ore_Callinan",
        "38_Ore_Dan_Owens",
        "40_Ore_FlinFlon",
        "Inversion_VTEM_Model",
        "Gravity_Magnetics_drape60m",
        "CDI_VTEM_model",
        "Data_FEM_pseudo3D",
        "O2O_Interp_25m",
        "geochem",
        "Inversion_DIGHEM_Model",
        "Topography",
        "Data_TEM_pseudo3D",
        "Data_ZTEM"
       ],
       "description": "Object:",
       "index": 66,
       "layout": "IPY_MODEL_1124fb1e7c4a43b1af8d822066b93027",
       "style": "IPY_MODEL_6496892612694c6cb36f32ce77433107"
      }
     },
     "4f1cb2fa016f453bbcfab3fdb857dfe5": {
      "model_module": "@jupyter-widgets/controls",
      "model_module_version": "1.5.0",
      "model_name": "SliderStyleModel",
      "state": {
       "description_width": ""
      }
     },
     "4f3e0e0171b242f08ca37f7a6836acd5": {
      "model_module": "@jupyter-widgets/base",
      "model_module_version": "1.2.0",
      "model_name": "LayoutModel",
      "state": {
       "grid_area": "dircontent",
       "width": "auto"
      }
     },
     "4f5b7d1b852c4e6287648eee63901587": {
      "model_module": "@jupyter-widgets/base",
      "model_module_version": "1.2.0",
      "model_name": "LayoutModel",
      "state": {}
     },
     "4f7bf7362b49402397cf8016f7396ab0": {
      "model_module": "@jupyter-widgets/controls",
      "model_module_version": "1.5.0",
      "model_name": "TextModel",
      "state": {
       "continuous_update": false,
       "description": "Group:",
       "layout": "IPY_MODEL_2679708236a1406d8b5cdd5ad29627ab",
       "style": "IPY_MODEL_5e6e20f485ec4f4f9503c6d4dd33b5c6"
      }
     },
     "4fac87777d9245d4811daffcea764864": {
      "model_module": "@jupyter-widgets/base",
      "model_module_version": "1.2.0",
      "model_name": "LayoutModel",
      "state": {
       "width": "auto"
      }
     },
     "502fc1883a944f44b1dcd173adb05caa": {
      "model_module": "@jupyter-widgets/base",
      "model_module_version": "1.2.0",
      "model_name": "LayoutModel",
      "state": {}
     },
     "505fe23bc0cb43f2a2e06d4c147bd6ef": {
      "model_module": "@jupyter-widgets/base",
      "model_module_version": "1.2.0",
      "model_name": "LayoutModel",
      "state": {}
     },
     "5168c36d1e194d9298351e595231c70a": {
      "model_module": "@jupyter-widgets/base",
      "model_module_version": "1.2.0",
      "model_name": "LayoutModel",
      "state": {}
     },
     "516af62fcb3842a5bf71d5ce4a35fe60": {
      "model_module": "@jupyter-widgets/controls",
      "model_module_version": "1.5.0",
      "model_name": "DescriptionStyleModel",
      "state": {
       "description_width": "initial"
      }
     },
     "517f52aa58d248bcbd77846909961749": {
      "model_module": "@jupyter-widgets/controls",
      "model_module_version": "1.5.0",
      "model_name": "TextModel",
      "state": {
       "continuous_update": false,
       "description": "Group:",
       "layout": "IPY_MODEL_6e16d08115b3406fbd7c851f82f77fd1",
       "style": "IPY_MODEL_f6154e93f1c240ef890e4efd9e38e86b"
      }
     },
     "5199b85e358542f3afe21e41b663e705": {
      "model_module": "@jupyter-widgets/controls",
      "model_module_version": "1.5.0",
      "model_name": "HTMLModel",
      "state": {
       "layout": "IPY_MODEL_99a0535770f041e5918ff072076e576e",
       "placeholder": "",
       "style": "IPY_MODEL_99f48ab1b12c44c1a4d5915c53959ce9",
       "value": "<span style=\"margin-left:10px; color:black;\">No file selected</span>"
      }
     },
     "51d1a93cf47b4a83bf16ad395971282b": {
      "model_module": "@jupyter-widgets/base",
      "model_module_version": "1.2.0",
      "model_name": "LayoutModel",
      "state": {}
     },
     "51e437b61dca480e9cf06ba7812bec51": {
      "model_module": "@jupyter-widgets/controls",
      "model_module_version": "1.5.0",
      "model_name": "VBoxModel",
      "state": {
       "children": [
        "IPY_MODEL_e79bb6d963b746589fe9c56d93b26312",
        "IPY_MODEL_28a1e67ee11840a2a6b63ec5e99aa169",
        "IPY_MODEL_edd137c430f9437792f4b96c2dbcf8ce"
       ],
       "layout": "IPY_MODEL_bf9f63eb53de4071baa83442adff164b"
      }
     },
     "5265e95047c3498b907b07bcc1cf4ec0": {
      "model_module": "@jupyter-widgets/controls",
      "model_module_version": "1.5.0",
      "model_name": "GridBoxModel",
      "state": {
       "children": [
        "IPY_MODEL_017eda18480f47828f35d56c28ec7694",
        "IPY_MODEL_cdbd126557c5451190a71af1929e9755",
        "IPY_MODEL_a3867ce991d0463fa8ba3bd3afe8aa72"
       ],
       "layout": "IPY_MODEL_a232f147971649238c4362af925ba777"
      }
     },
     "52a5d1a15c4b448e90ba30e7f51c2631": {
      "model_module": "@jupyter-widgets/base",
      "model_module_version": "1.2.0",
      "model_name": "LayoutModel",
      "state": {
       "align_items": "center"
      }
     },
     "52dbac5f5da04ad1a2d0277a9fc3b44b": {
      "model_module": "@jupyter-widgets/base",
      "model_module_version": "1.2.0",
      "model_name": "LayoutModel",
      "state": {}
     },
     "5303f26c69d24fa282a009f2190483f1": {
      "model_module": "@jupyter-widgets/controls",
      "model_module_version": "1.5.0",
      "model_name": "FloatSliderModel",
      "state": {
       "continuous_update": false,
       "description": "Height",
       "layout": "IPY_MODEL_43c0fcce53444cbabc49b25c2c7bded4",
       "max": 11351.865002485923,
       "orientation": "vertical",
       "step": 0.1,
       "style": "IPY_MODEL_e3cca9407a4d443c80be53a569cf8195",
       "value": 5675.932501242962
      }
     },
     "5306f2ab9ad84a8c908f4c9356257ea7": {
      "model_module": "@jupyter-widgets/controls",
      "model_module_version": "1.5.0",
      "model_name": "ButtonStyleModel",
      "state": {}
     },
     "531380ba97064622bf679ca71bc39873": {
      "model_module": "@jupyter-widgets/base",
      "model_module_version": "1.2.0",
      "model_name": "LayoutModel",
      "state": {
       "width": "auto"
      }
     },
     "53cbbb8ca9284add808b9641c4d58eab": {
      "model_module": "@jupyter-widgets/controls",
      "model_module_version": "1.5.0",
      "model_name": "VBoxModel",
      "state": {
       "children": [
        "IPY_MODEL_0277024cb5794bffb882aeb0d7a28bdd",
        "IPY_MODEL_16459909d589443eb231cbd71539fbf2"
       ],
       "layout": "IPY_MODEL_75a09b3ed32f4578bf966eb965d667c1"
      }
     },
     "53d0e3fe78274750916a9fc7ae76cbdf": {
      "model_module": "@jupyter-widgets/base",
      "model_module_version": "1.2.0",
      "model_name": "LayoutModel",
      "state": {}
     },
     "53d4f3dea14348b2bd09d7acb8fdb70d": {
      "model_module": "@jupyter-widgets/controls",
      "model_module_version": "1.5.0",
      "model_name": "VBoxModel",
      "state": {
       "children": [
        "IPY_MODEL_c4d615dd54ed4fa189ffd3acc9cb9ec7",
        "IPY_MODEL_d8e9183d0ad3468f9dc75e2ccedb4278"
       ],
       "layout": "IPY_MODEL_3ac8c204081347deaa3fe81c87ae22f9"
      }
     },
     "55bb9ccfae8244b7b7b976fb13499755": {
      "model_module": "@jupyter-widgets/base",
      "model_module_version": "1.2.0",
      "model_name": "LayoutModel",
      "state": {}
     },
     "55da41d40e094c27898b139fcb4bfd79": {
      "model_module": "@jupyter-widgets/base",
      "model_module_version": "1.2.0",
      "model_name": "LayoutModel",
      "state": {
       "display": "none"
      }
     },
     "562268d9854247f1be8a4145e29b8480": {
      "model_module": "@jupyter-widgets/controls",
      "model_module_version": "1.5.0",
      "model_name": "DescriptionStyleModel",
      "state": {
       "description_width": "initial"
      }
     },
     "562b0357d8284795b2766b7d1d4fc3d3": {
      "model_module": "@jupyter-widgets/base",
      "model_module_version": "1.2.0",
      "model_name": "LayoutModel",
      "state": {
       "display": "none"
      }
     },
     "565076f5cee14051b1d9360661a75add": {
      "model_module": "@jupyter-widgets/controls",
      "model_module_version": "1.5.0",
      "model_name": "GridBoxModel",
      "state": {
       "children": [
        "IPY_MODEL_214a467f32f245a4bd80e1d8c9173c8e",
        "IPY_MODEL_fc510fd6a1cc405eb44334f1d2f04792",
        "IPY_MODEL_f1dded0b0142401f80fcc7788bbfe6d9"
       ],
       "layout": "IPY_MODEL_f36812f842714aa7bb71c5613231713b"
      }
     },
     "56fdf549bf584f529077b7298ce89e44": {
      "model_module": "@jupyter-widgets/base",
      "model_module_version": "1.2.0",
      "model_name": "LayoutModel",
      "state": {
       "display": "none",
       "width": "auto"
      }
     },
     "5760810ca130449ba4697dc1edb0fbac": {
      "model_module": "@jupyter-widgets/controls",
      "model_module_version": "1.5.0",
      "model_name": "DescriptionStyleModel",
      "state": {
       "description_width": ""
      }
     },
     "584dacf7e470459d846904fb2e774770": {
      "model_module": "@jupyter-widgets/base",
      "model_module_version": "1.2.0",
      "model_name": "LayoutModel",
      "state": {}
     },
     "5853ec76d7354454a7a773aff05e334d": {
      "model_module": "@jupyter-widgets/controls",
      "model_module_version": "1.5.0",
      "model_name": "VBoxModel",
      "state": {
       "children": [
        "IPY_MODEL_1e4416878a2242b68e236f3a89e03dee",
        "IPY_MODEL_3be6008c759340cb822ca3f82a792290"
       ],
       "layout": "IPY_MODEL_81dec2c3fe2345d08a48f2f0d0ec22fa"
      }
     },
     "58687b60571f41749b5c66c46e5d6011": {
      "model_module": "@jupyter-widgets/controls",
      "model_module_version": "1.5.0",
      "model_name": "DescriptionStyleModel",
      "state": {
       "description_width": ""
      }
     },
     "587518d6ba5549098bec71b55f9c3ad4": {
      "model_module": "@jupyter-widgets/controls",
      "model_module_version": "1.5.0",
      "model_name": "SliderStyleModel",
      "state": {
       "description_width": ""
      }
     },
     "58a06268176343c5824765ea4b4275b9": {
      "model_module": "@jupyter-widgets/base",
      "model_module_version": "1.2.0",
      "model_name": "LayoutModel",
      "state": {
       "width": "auto"
      }
     },
     "58c169ee01d84f5b90b729dcf9acb53b": {
      "model_module": "@jupyter-widgets/base",
      "model_module_version": "1.2.0",
      "model_name": "LayoutModel",
      "state": {}
     },
     "58ffa3b57e9b490684bb7e5f80da398d": {
      "model_module": "@jupyter-widgets/controls",
      "model_module_version": "1.5.0",
      "model_name": "DescriptionStyleModel",
      "state": {
       "description_width": ""
      }
     },
     "59fd44ee8c184b2da3dcb04c6f0c7cd5": {
      "model_module": "@jupyter-widgets/base",
      "model_module_version": "1.2.0",
      "model_name": "LayoutModel",
      "state": {}
     },
     "5a2e7d81fcd34f56838ae7ea725c89b9": {
      "model_module": "@jupyter-widgets/controls",
      "model_module_version": "1.5.0",
      "model_name": "DropdownModel",
      "state": {
       "_options_labels": [
        "",
        "Data_TEM_pseudo3DEPSG_4326",
        "Gravity_Magnetics_drape60mEPSG_4326",
        "Iso_Iteration_7_model_0.015",
        "Iso_Iteration_7_model_0.01",
        "Iso_Iteration_7_model_0.02",
        "Iso_Iteration_7_model_0.005",
        "Iso_Iteration_7_model_0.0025",
        "fault_splay1",
        "fault_Cliff_Lake",
        "fault_Other_FlinFlon",
        "fault_Club_Lake_splay",
        "fault_Catherine_splay2",
        "fault_Birch_View",
        "fault_Dion_Lake",
        "fault_FlinFlon_splay",
        "fault_West_Mandy_Road",
        "fault_Channing",
        "fault_Ross_Lake",
        "fault_Louis_Hidden",
        "fault_Lake_View_thrust",
        "contact_Schist_Lake",
        "fault_Burley_Lake",
        "fault_Dion_Lake_splay",
        "fault_Green_Lake",
        "fault_FlinFlon",
        "fault_Catherine_splay1",
        "fault_East_Mandy_Road",
        "fault_Other_FlinFlon_South",
        "fault_Catherine_splay4",
        "contact_Stitt_Island",
        "fault_Club_Lake",
        "fault_Tailing_Pond",
        "35_Hidden_Reservoir_Hr5",
        "29_Hidden_Reservoir_Hr1a",
        "60_BlueLagoon_Fb2",
        "20_FlinFlon_Undivided_Int_Dykes_D2f",
        "04_Boundary_Intrusive_S4h",
        "53_Millrock_Rhyolite_Fm4b",
        "19_FlinFlon_Undivided_Int_Dykes_D2b",
        "18_FlinFlon_Undivided_Int_Dykes_777_D2b",
        "06_Phantom_Lake_Intrusive_S3a",
        "21_FlinFlon_Undivided_Int_Dykes_D3a",
        "43_Millrock_CHLSH_South",
        "56_Millrock_Basalt_Fm1ba",
        "17_FlinFlon_Undivided_Int_Dykes_D2",
        "32_Hidden_Reservoir_Hr1b_SW",
        "11_Missi_M3_NE",
        "13_Missi_M1",
        "07_Annabel_Granitoid_S1",
        "45_Millrock_Gabbro_South",
        "01_Late_Intrusive_S5b",
        "31_Hidden_Reservoir_Hr1c_SW",
        "52_Millrock_Rhyolite_Fm4_West_check",
        "55_Millrock_Basalt_Fm1bf",
        "34_Hidden_Reservoir_Hr2b",
        "03_Boundary_Intrusive_S4b",
        "42_Millrock_CHLSH_North",
        "26_Louis_L3",
        "23_FlinFlon_Undivided_Int_Felsic_D4g",
        "30_Hidden_Reservoir_Hr1b",
        "59_BlueLagoon_Fb3",
        "49_Millrock_MVR_Fm5d",
        "44_Millrock_Gabbro_North",
        "27_Hidden_Carlisle_Hc4",
        "22_FlinFlon_Undivided_Int_Felsic_D4e",
        "02_Boundary_Intrusive_S4a",
        "61_BlueLagoon_Fb1_NW",
        "05_Boundary_Intrusive_S4g",
        "39_Ore_Callinan",
        "38_Ore_Dan_Owens",
        "40_Ore_FlinFlon",
        "Inversion_VTEM_Model",
        "Gravity_Magnetics_drape60m",
        "CDI_VTEM_model",
        "Data_FEM_pseudo3D",
        "O2O_Interp_25m",
        "geochem",
        "Inversion_DIGHEM_Model",
        "Topography",
        "Data_TEM_pseudo3D"
       ],
       "description": "Object:",
       "index": 73,
       "layout": "IPY_MODEL_7a9f3a962c89432fbc1e448289d928d8",
       "style": "IPY_MODEL_265725b3243c4937adbe93f985ae257b"
      }
     },
     "5ab8afc8955c4f4685ba9cd3d09f4d1c": {
      "model_module": "@jupyter-widgets/base",
      "model_module_version": "1.2.0",
      "model_name": "LayoutModel",
      "state": {
       "width": "auto"
      }
     },
     "5ae02b8d6b484a5e80aa825d9a84a88f": {
      "model_module": "@jupyter-widgets/base",
      "model_module_version": "1.2.0",
      "model_name": "LayoutModel",
      "state": {
       "grid_area": "pathlist",
       "width": "auto"
      }
     },
     "5b4d8c9c477147eaa108502f1af66eb1": {
      "model_module": "@jupyter-widgets/base",
      "model_module_version": "1.2.0",
      "model_name": "LayoutModel",
      "state": {}
     },
     "5b6bae98cc7e4f17ad11ec8d83c10525": {
      "model_module": "@jupyter-widgets/controls",
      "model_module_version": "1.5.0",
      "model_name": "TextModel",
      "state": {
       "disabled": true,
       "layout": "IPY_MODEL_4a13dd87f7044bc2a5171929014eb2eb",
       "placeholder": "output filename",
       "style": "IPY_MODEL_61aaf5475ece469f9e0ba0257d24e100"
      }
     },
     "5bd63a825bee4a70ae49d2b318ca2f8c": {
      "model_module": "@jupyter-widgets/controls",
      "model_module_version": "1.5.0",
      "model_name": "ButtonModel",
      "state": {
       "description": "Change",
       "layout": "IPY_MODEL_cc54d0497b214039ae4380fbfa15ea19",
       "style": "IPY_MODEL_64c9511d1b3d4700a9e726a49dfe07db"
      }
     },
     "5c035154fa064de8a2add1d861091112": {
      "model_module": "@jupyter-widgets/controls",
      "model_module_version": "1.5.0",
      "model_name": "DescriptionStyleModel",
      "state": {
       "description_width": ""
      }
     },
     "5c114d2cf5304913ae84d566cb49a47e": {
      "model_module": "@jupyter-widgets/base",
      "model_module_version": "1.2.0",
      "model_name": "LayoutModel",
      "state": {}
     },
     "5c690773c63f45c486d077a3106e90d5": {
      "model_module": "@jupyter-widgets/base",
      "model_module_version": "1.2.0",
      "model_name": "LayoutModel",
      "state": {
       "width": "auto"
      }
     },
     "5cb240baa1dc437abc98b3e4b0bf38cc": {
      "model_module": "@jupyter-widgets/controls",
      "model_module_version": "1.5.0",
      "model_name": "ToggleButtonModel",
      "state": {
       "description": "Zoom on selection",
       "icon": "check",
       "layout": "IPY_MODEL_08dc118c4be94b378cdacd4434b621ac",
       "style": "IPY_MODEL_6d186b3cc3e84468be84630ebdf5ee17",
       "tooltip": "Keep plot extent on selection",
       "value": true
      }
     },
     "5ce81b3f32fb4cd996ae0c4bc5f14896": {
      "model_module": "@jupyter-widgets/base",
      "model_module_version": "1.2.0",
      "model_name": "LayoutModel",
      "state": {
       "display": "none",
       "width": "auto"
      }
     },
     "5cfb4f16ff684a84b132012a9ab4d4f5": {
      "model_module": "@jupyter-widgets/controls",
      "model_module_version": "1.5.0",
      "model_name": "VBoxModel",
      "state": {
       "children": [
        "IPY_MODEL_db36a3bf136242929150b248bbdb2ea0",
        "IPY_MODEL_517f52aa58d248bcbd77846909961749"
       ],
       "layout": "IPY_MODEL_5b4d8c9c477147eaa108502f1af66eb1"
      }
     },
     "5d40f7b99f564319920b6599becff915": {
      "model_module": "@jupyter-widgets/controls",
      "model_module_version": "1.5.0",
      "model_name": "FloatSliderModel",
      "state": {
       "continuous_update": false,
       "description": "Width",
       "layout": "IPY_MODEL_6b4e671349b14e66bb93e41e67556f60",
       "max": 7335.505938563321,
       "step": 0.1,
       "style": "IPY_MODEL_2dbaae1ff2604d5e955293d9669aba17",
       "value": 3667.7529692816606
      }
     },
     "5d9147b2330444bc87caa29c45ecf539": {
      "model_module": "@jupyter-widgets/controls",
      "model_module_version": "1.5.0",
      "model_name": "ButtonModel",
      "state": {
       "description": "Cancel",
       "layout": "IPY_MODEL_7d02e763f75646f2a970e15d82e56162",
       "style": "IPY_MODEL_09ddab1881054ad9af846d3bb3a7dfc7"
      }
     },
     "5dc6f4de55a74e23ae94923fb6e3869c": {
      "model_module": "@jupyter-widgets/controls",
      "model_module_version": "1.5.0",
      "model_name": "VBoxModel",
      "state": {
       "children": [
        "IPY_MODEL_098d4a80d105490caf5b273c105a7e07",
        "IPY_MODEL_7a1dfd3013d14a859ba5a0e595221cf4"
       ],
       "layout": "IPY_MODEL_721eb638b3cd44e5a2f6812ca4aa25b7"
      }
     },
     "5dca0426a5a247c1b4bd8dc0ed115791": {
      "model_module": "@jupyter-widgets/controls",
      "model_module_version": "1.5.0",
      "model_name": "ToggleButtonModel",
      "state": {
       "layout": "IPY_MODEL_c2144b689ebf4dbd86daf03c38e79762",
       "style": "IPY_MODEL_dd864663f6714f3bad4024f269804b5f",
       "value": true
      }
     },
     "5dcbeda01b0e402bb318984863810f69": {
      "model_module": "@jupyter-widgets/controls",
      "model_module_version": "1.5.0",
      "model_name": "HBoxModel",
      "state": {
       "children": [
        "IPY_MODEL_5bd63a825bee4a70ae49d2b318ca2f8c",
        "IPY_MODEL_a92c4b0547d24a73be54f794a1240230",
        "IPY_MODEL_e3031e0579634f7baf3d894ddad3d1c9"
       ],
       "layout": "IPY_MODEL_674e101422d14ba0af9c1156e6fc9ebe"
      }
     },
     "5dd73db70a3c4b259c8a3baa15f8c57c": {
      "model_module": "@jupyter-widgets/base",
      "model_module_version": "1.2.0",
      "model_name": "LayoutModel",
      "state": {}
     },
     "5e19f443d9ab49d9b9c024ab7ae48932": {
      "model_module": "@jupyter-widgets/base",
      "model_module_version": "1.2.0",
      "model_name": "LayoutModel",
      "state": {
       "width": "auto"
      }
     },
     "5e2f4c4d66d143c3a65ecc02487966a2": {
      "model_module": "@jupyter-widgets/output",
      "model_module_version": "1.0.0",
      "model_name": "OutputModel",
      "state": {
       "layout": "IPY_MODEL_19a90daa8ef74b11a0ef1ff033dc87b8",
       "outputs": [
        {
         "data": {
          "image/png": "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\n",
          "text/plain": "<Figure size 720x720 with 1 Axes>"
         },
         "metadata": {
          "needs_background": "light"
         },
         "output_type": "display_data"
        }
       ]
      }
     },
     "5e65b077659942a996f6fe376f437091": {
      "model_module": "@jupyter-widgets/controls",
      "model_module_version": "1.5.0",
      "model_name": "ButtonStyleModel",
      "state": {}
     },
     "5e6e20f485ec4f4f9503c6d4dd33b5c6": {
      "model_module": "@jupyter-widgets/controls",
      "model_module_version": "1.5.0",
      "model_name": "DescriptionStyleModel",
      "state": {
       "description_width": "initial"
      }
     },
     "5e79af12ce0244fdacddd3fc9258e868": {
      "model_module": "@jupyter-widgets/controls",
      "model_module_version": "1.5.0",
      "model_name": "VBoxModel",
      "state": {
       "children": [
        "IPY_MODEL_158e2d90364e42759615db87ff037843",
        "IPY_MODEL_e249ada3f0a6433c83a33f2ea3a5a386",
        "IPY_MODEL_f1ac438f71e9411296c69a221f634e74",
        "IPY_MODEL_0f155854eb0c4955947bc7be2557a923",
        "IPY_MODEL_18234c275cd641c29a96fd3e7a93dab0"
       ],
       "layout": "IPY_MODEL_cf15ea0fecf944a084c5d8f0c03f49b6"
      }
     },
     "5e9b8d2797dd4200945ba02257c6ed3d": {
      "model_module": "@jupyter-widgets/controls",
      "model_module_version": "1.5.0",
      "model_name": "DropdownModel",
      "state": {
       "_options_labels": [
        "C:\\Users\\dominiquef\\Documents\\GIT\\mira\\mirageoscience-apps\\docs\\content\\applications",
        "C:\\Users\\dominiquef\\Documents\\GIT\\mira\\mirageoscience-apps\\docs\\content",
        "C:\\Users\\dominiquef\\Documents\\GIT\\mira\\mirageoscience-apps\\docs",
        "C:\\Users\\dominiquef\\Documents\\GIT\\mira\\mirageoscience-apps",
        "C:\\Users\\dominiquef\\Documents\\GIT\\mira",
        "C:\\Users\\dominiquef\\Documents\\GIT",
        "C:\\Users\\dominiquef\\Documents",
        "C:\\Users\\dominiquef",
        "C:\\Users",
        "C:\\",
        "D:\\",
        "Z:\\"
       ],
       "index": 0,
       "layout": "IPY_MODEL_5ae02b8d6b484a5e80aa825d9a84a88f",
       "style": "IPY_MODEL_1c6d4409825f42778821bd8fb0d88fb3"
      }
     },
     "5eb59aed575c4c5fbed0b2d46c557486": {
      "model_module": "@jupyter-widgets/base",
      "model_module_version": "1.2.0",
      "model_name": "LayoutModel",
      "state": {}
     },
     "5f02580db43e4dfa88f1f3cb18b991af": {
      "model_module": "@jupyter-widgets/controls",
      "model_module_version": "1.5.0",
      "model_name": "TextModel",
      "state": {
       "disabled": true,
       "layout": "IPY_MODEL_ee1da3e7b6094783b3df2de000669a43",
       "placeholder": "output filename",
       "style": "IPY_MODEL_6ea130fdd9d246c9ab6e58e05f6dc89b"
      }
     },
     "5f15f70063344b1e9bf6029fbd38e08e": {
      "model_module": "@jupyter-widgets/controls",
      "model_module_version": "1.5.0",
      "model_name": "DescriptionStyleModel",
      "state": {
       "description_width": ""
      }
     },
     "5f214da6e20d4e409a11931f91e6d286": {
      "model_module": "@jupyter-widgets/controls",
      "model_module_version": "1.5.0",
      "model_name": "FloatSliderModel",
      "state": {
       "continuous_update": false,
       "description": "Northing",
       "layout": "IPY_MODEL_93b3e415cbea43ffbe40f35fbac552a5",
       "max": 6076443.652111261,
       "min": 6065091.787108775,
       "orientation": "vertical",
       "step": 0.1,
       "style": "IPY_MODEL_fa27e2cf28884797b84ba9cec412e726",
       "value": 6070767.719610019
      }
     },
     "5f6555c718984e9cbc3e9050806b5d0b": {
      "model_module": "@jupyter-widgets/controls",
      "model_module_version": "1.5.0",
      "model_name": "VBoxModel",
      "state": {
       "children": [
        "IPY_MODEL_d4d1a061a12348d2bf94f0656432d015",
        "IPY_MODEL_d53d2ee36f864a6ea01dfb467b622371"
       ],
       "layout": "IPY_MODEL_9b395afc4dff4011be1a26491ceb2d88"
      }
     },
     "5f9a0036b36a49b1b588da8bc1ac7b71": {
      "model_module": "@jupyter-widgets/base",
      "model_module_version": "1.2.0",
      "model_name": "LayoutModel",
      "state": {}
     },
     "5f9a3428688845dab234e070343d87f8": {
      "model_module": "@jupyter-widgets/controls",
      "model_module_version": "1.5.0",
      "model_name": "HTMLModel",
      "state": {
       "layout": "IPY_MODEL_562b0357d8284795b2766b7d1d4fc3d3",
       "style": "IPY_MODEL_93ee1a14c86c47c490ab7a0c47b40fef"
      }
     },
     "5fa89d8a3e804642a8bff08ee0201bb1": {
      "model_module": "@jupyter-widgets/base",
      "model_module_version": "1.2.0",
      "model_name": "LayoutModel",
      "state": {}
     },
     "5fe2a9f37af74fbea19038c1652dd265": {
      "model_module": "@jupyter-widgets/controls",
      "model_module_version": "1.5.0",
      "model_name": "VBoxModel",
      "state": {
       "children": [
        "IPY_MODEL_3797a427491c42eb96362e2950f39d2f",
        "IPY_MODEL_7462da2872f64066bc97ae795101bc82"
       ],
       "layout": "IPY_MODEL_53d0e3fe78274750916a9fc7ae76cbdf"
      }
     },
     "5fefbd752c6a47dfb5bf91b99e168258": {
      "model_module": "@jupyter-widgets/base",
      "model_module_version": "1.2.0",
      "model_name": "LayoutModel",
      "state": {}
     },
     "6099a6520acf4ec5bd2621f8c45bcd7c": {
      "model_module": "@jupyter-widgets/controls",
      "model_module_version": "1.5.0",
      "model_name": "TextModel",
      "state": {
       "continuous_update": false,
       "description": "Group:",
       "layout": "IPY_MODEL_dac622ddc7364a0681cf8a894fe47b12",
       "style": "IPY_MODEL_9ee2288ec43d4c36becc50c8a7797bca"
      }
     },
     "60d5a56f1e384d9ebecdf1e6f8bcc075": {
      "model_module": "@jupyter-widgets/controls",
      "model_module_version": "1.5.0",
      "model_name": "DescriptionStyleModel",
      "state": {
       "description_width": ""
      }
     },
     "60f39df7309e44d5bb39d73bf536c5a6": {
      "model_module": "@jupyter-widgets/controls",
      "model_module_version": "1.5.0",
      "model_name": "HBoxModel",
      "state": {
       "children": [
        "IPY_MODEL_928ce569977748e0921c1b5f33f1eb12",
        "IPY_MODEL_8dcadc30cad9473494bdc09ee85e4f95",
        "IPY_MODEL_62b9729d62de454695c098fff832ef58"
       ],
       "layout": "IPY_MODEL_531380ba97064622bf679ca71bc39873"
      }
     },
     "6126d107ca4447beb2a4b9cc9de87b05": {
      "model_module": "@jupyter-widgets/base",
      "model_module_version": "1.2.0",
      "model_name": "LayoutModel",
      "state": {}
     },
     "61aaf5475ece469f9e0ba0257d24e100": {
      "model_module": "@jupyter-widgets/controls",
      "model_module_version": "1.5.0",
      "model_name": "DescriptionStyleModel",
      "state": {
       "description_width": ""
      }
     },
     "61be336e78764c25a660b2e9d42363e5": {
      "model_module": "@jupyter-widgets/controls",
      "model_module_version": "1.5.0",
      "model_name": "ButtonStyleModel",
      "state": {}
     },
     "61cd9b8807494b20a897734168c8ea51": {
      "model_module": "@jupyter-widgets/base",
      "model_module_version": "1.2.0",
      "model_name": "LayoutModel",
      "state": {}
     },
     "6222c470d96a41d09ceb48be4219dd62": {
      "model_module": "@jupyter-widgets/controls",
      "model_module_version": "1.5.0",
      "model_name": "HTMLModel",
      "state": {
       "layout": "IPY_MODEL_bce2afb8af17485c81ead6c814813957",
       "style": "IPY_MODEL_0d4e2ae450084ba8ba9b169664b2b511"
      }
     },
     "6226e486969e4583bebdf109d7208a35": {
      "model_module": "@jupyter-widgets/controls",
      "model_module_version": "1.5.0",
      "model_name": "DescriptionStyleModel",
      "state": {
       "description_width": "initial"
      }
     },
     "6239dfc080524effaad93f244b083d98": {
      "model_module": "@jupyter-widgets/controls",
      "model_module_version": "1.5.0",
      "model_name": "VBoxModel",
      "state": {
       "children": [
        "IPY_MODEL_96194340481d43cf9e22d63934604590",
        "IPY_MODEL_ad8c53ccff0a4e2ca74b86b9ccea3860"
       ],
       "layout": "IPY_MODEL_4e5b06ce7bf9463b808ae0a15d827279"
      }
     },
     "629e9789c2cd446c805c40e8d04c3b98": {
      "model_module": "@jupyter-widgets/base",
      "model_module_version": "1.2.0",
      "model_name": "LayoutModel",
      "state": {
       "grid_area": "filename",
       "width": "auto"
      }
     },
     "62b9729d62de454695c098fff832ef58": {
      "model_module": "@jupyter-widgets/controls",
      "model_module_version": "1.5.0",
      "model_name": "HTMLModel",
      "state": {
       "layout": "IPY_MODEL_55bb9ccfae8244b7b7b976fb13499755",
       "placeholder": "",
       "style": "IPY_MODEL_e9ec3a3771e6411fa1f62e806b6f9574",
       "value": "<span style=\"margin-left:10px; color:black;\">No file selected</span>"
      }
     },
     "62d0afe982744d109fc34f45e1b7aba2": {
      "model_module": "@jupyter-widgets/base",
      "model_module_version": "1.2.0",
      "model_name": "LayoutModel",
      "state": {}
     },
     "62ee8d817ba3406293b4e2ff228f0dc2": {
      "model_module": "@jupyter-widgets/base",
      "model_module_version": "1.2.0",
      "model_name": "LayoutModel",
      "state": {
       "display": "none",
       "grid_gap": "0px 0px",
       "grid_template_areas": "\n                    'pathlist filename'\n                    'dircontent dircontent'\n                    ",
       "grid_template_columns": "60% 40%",
       "grid_template_rows": "auto auto",
       "width": "500px"
      }
     },
     "6302e35a3f094e7495253484f4c4dae6": {
      "model_module": "@jupyter-widgets/base",
      "model_module_version": "1.2.0",
      "model_name": "LayoutModel",
      "state": {
       "align_items": "center"
      }
     },
     "6319f6a6785042989a847fc277836987": {
      "model_module": "@jupyter-widgets/controls",
      "model_module_version": "1.5.0",
      "model_name": "LabelModel",
      "state": {
       "layout": "IPY_MODEL_b7e13ef8afd44784abca4d3060a7c788",
       "style": "IPY_MODEL_f3f9449ddbb24c9f89650106b1135f74",
       "value": "Data Count: 21362"
      }
     },
     "636f9128d6364a1da5ddb8b8674e89f2": {
      "model_module": "@jupyter-widgets/base",
      "model_module_version": "1.2.0",
      "model_name": "LayoutModel",
      "state": {}
     },
     "63bb97fa66554334b8a8ead585c0c2ba": {
      "model_module": "@jupyter-widgets/controls",
      "model_module_version": "1.5.0",
      "model_name": "DescriptionStyleModel",
      "state": {
       "description_width": "initial"
      }
     },
     "63f9ec10b8e0421583b5613db6fd8e29": {
      "model_module": "@jupyter-widgets/base",
      "model_module_version": "1.2.0",
      "model_name": "LayoutModel",
      "state": {
       "display": "none",
       "width": "auto"
      }
     },
     "6419d0abc5104dd5ac26b3efdc55a628": {
      "model_module": "@jupyter-widgets/controls",
      "model_module_version": "1.5.0",
      "model_name": "ToggleButtonModel",
      "state": {
       "layout": "IPY_MODEL_f61a0da10c51451f9b6508aa9d5be6fa",
       "style": "IPY_MODEL_2ebb77edd8bd409697bcdc2133c12052",
       "value": true
      }
     },
     "6496892612694c6cb36f32ce77433107": {
      "model_module": "@jupyter-widgets/controls",
      "model_module_version": "1.5.0",
      "model_name": "DescriptionStyleModel",
      "state": {
       "description_width": "initial"
      }
     },
     "64c9511d1b3d4700a9e726a49dfe07db": {
      "model_module": "@jupyter-widgets/controls",
      "model_module_version": "1.5.0",
      "model_name": "ButtonStyleModel",
      "state": {}
     },
     "650a060f66c147f2b74e0a2f74c20fd6": {
      "model_module": "@jupyter-widgets/base",
      "model_module_version": "1.2.0",
      "model_name": "LayoutModel",
      "state": {}
     },
     "655083cc471a4c8497993a699d18bf5c": {
      "model_module": "@jupyter-widgets/controls",
      "model_module_version": "1.5.0",
      "model_name": "DescriptionStyleModel",
      "state": {
       "description_width": ""
      }
     },
     "65aa03b99c084fad9f89def9501a7880": {
      "model_module": "@jupyter-widgets/controls",
      "model_module_version": "1.5.0",
      "model_name": "ButtonModel",
      "state": {
       "description": "Change",
       "layout": "IPY_MODEL_2ed6cbd35219454a96ccbc633a3ef46c",
       "style": "IPY_MODEL_e00583183c0040e9987eb11978916c47"
      }
     },
     "65c5e7d58f1a4e95b04a2ee3c9ef75fd": {
      "model_module": "@jupyter-widgets/controls",
      "model_module_version": "1.5.0",
      "model_name": "CheckboxModel",
      "state": {
       "description": "GA Pro - Live link",
       "disabled": false,
       "indent": false,
       "layout": "IPY_MODEL_71615958012e4375b529d4492a685807",
       "style": "IPY_MODEL_0db600f9058b4dbf82f2415b560cea9b",
       "value": false
      }
     },
     "65c8010e12ee4900b5f3ead322e95a3c": {
      "model_module": "@jupyter-widgets/controls",
      "model_module_version": "1.5.0",
      "model_name": "VBoxModel",
      "state": {
       "children": [
        "IPY_MODEL_012cbbdb9ceb445a99694048b9d899de",
        "IPY_MODEL_3a0d8b142cdb4bfd9e6eb56baa12d969"
       ],
       "layout": "IPY_MODEL_5eb59aed575c4c5fbed0b2d46c557486"
      }
     },
     "662908b96c1b456b912a2d4628f8682d": {
      "model_module": "@jupyter-widgets/controls",
      "model_module_version": "1.5.0",
      "model_name": "SelectModel",
      "state": {
       "_options_labels": [
        "..",
        "images"
       ],
       "index": null,
       "layout": "IPY_MODEL_4f3e0e0171b242f08ca37f7a6836acd5",
       "rows": 8,
       "style": "IPY_MODEL_13d6fff2ba6842a28239edcf820e025a"
      }
     },
     "6633f115fd5844ab99d1ae3728992d25": {
      "model_module": "@jupyter-widgets/base",
      "model_module_version": "1.2.0",
      "model_name": "LayoutModel",
      "state": {
       "display": "none"
      }
     },
     "668fdc8fa48e465ea29dacbc038ce816": {
      "model_module": "@jupyter-widgets/base",
      "model_module_version": "1.2.0",
      "model_name": "LayoutModel",
      "state": {
       "grid_area": "dircontent",
       "width": "auto"
      }
     },
     "6695490688f54fd0818a285b2b6a34c7": {
      "model_module": "@jupyter-widgets/base",
      "model_module_version": "1.2.0",
      "model_name": "LayoutModel",
      "state": {}
     },
     "67120df01ea54fea9d2a4b23d3c964b4": {
      "model_module": "@jupyter-widgets/base",
      "model_module_version": "1.2.0",
      "model_name": "LayoutModel",
      "state": {
       "grid_area": "dircontent",
       "width": "auto"
      }
     },
     "6747ca51c57f400eaf57731ae95aa458": {
      "model_module": "@jupyter-widgets/controls",
      "model_module_version": "1.5.0",
      "model_name": "LabelModel",
      "state": {
       "layout": "IPY_MODEL_469f0a8e95ad4764abf5c79018b0b4a6",
       "style": "IPY_MODEL_0dfcefad2a434ce2a0932f848449b3c4",
       "value": "Data Count: 21362"
      }
     },
     "674e101422d14ba0af9c1156e6fc9ebe": {
      "model_module": "@jupyter-widgets/base",
      "model_module_version": "1.2.0",
      "model_name": "LayoutModel",
      "state": {
       "width": "auto"
      }
     },
     "68c65e29b35e4158919e8dc7d8cea6d7": {
      "model_module": "@jupyter-widgets/controls",
      "model_module_version": "1.5.0",
      "model_name": "DescriptionStyleModel",
      "state": {
       "description_width": "initial"
      }
     },
     "692bf50b0eff4e7185a15e4d81f6890a": {
      "model_module": "@jupyter-widgets/controls",
      "model_module_version": "1.5.0",
      "model_name": "DescriptionStyleModel",
      "state": {
       "description_width": "initial"
      }
     },
     "698b82be65e14579a56046cf83713dcd": {
      "model_module": "@jupyter-widgets/controls",
      "model_module_version": "1.5.0",
      "model_name": "HBoxModel",
      "state": {
       "children": [
        "IPY_MODEL_0036dc66bb1f4fcf876f7e3028591777",
        "IPY_MODEL_a17104c0cfb040b58a4dd51a5fd2ddcc",
        "IPY_MODEL_a7c45024128f4de5ba123bd13cf23c22"
       ],
       "layout": "IPY_MODEL_c9c32073e1cd4abcbce5f6aafd7c636b"
      }
     },
     "69dd6a64c7a24996b6c60bd8623ad031": {
      "model_module": "@jupyter-widgets/controls",
      "model_module_version": "1.5.0",
      "model_name": "DropdownModel",
      "state": {
       "_options_labels": [
        "C:\\Users\\dominiquef\\Documents\\GIT\\mira\\mirageoscience-apps\\docs\\content\\applications",
        "C:\\Users\\dominiquef\\Documents\\GIT\\mira\\mirageoscience-apps\\docs\\content",
        "C:\\Users\\dominiquef\\Documents\\GIT\\mira\\mirageoscience-apps\\docs",
        "C:\\Users\\dominiquef\\Documents\\GIT\\mira\\mirageoscience-apps",
        "C:\\Users\\dominiquef\\Documents\\GIT\\mira",
        "C:\\Users\\dominiquef\\Documents\\GIT",
        "C:\\Users\\dominiquef\\Documents",
        "C:\\Users\\dominiquef",
        "C:\\Users",
        "C:\\",
        "D:\\",
        "Z:\\"
       ],
       "index": 0,
       "layout": "IPY_MODEL_ced8c13ba0844300b0761882db0a70af",
       "style": "IPY_MODEL_aa8bafad3ebc46cbb9ca511d47394049"
      }
     },
     "69fb8e352d9a42b794c9ed7e618b158c": {
      "model_module": "@jupyter-widgets/controls",
      "model_module_version": "1.5.0",
      "model_name": "VBoxModel",
      "state": {
       "children": [
        "IPY_MODEL_4ad2a1ab3a2d476fae7f3684074a0fd5",
        "IPY_MODEL_76a4847caef243e0b3848b432ea2fd5e"
       ],
       "layout": "IPY_MODEL_f1efaef26b394c88b7fbd9256cb3d0a5"
      }
     },
     "6a3271802fd9456393050f706cbe79c4": {
      "model_module": "@jupyter-widgets/base",
      "model_module_version": "1.2.0",
      "model_name": "LayoutModel",
      "state": {}
     },
     "6a7fc8cb41c64ab9b7098264dad064b6": {
      "model_module": "@jupyter-widgets/controls",
      "model_module_version": "1.5.0",
      "model_name": "DescriptionStyleModel",
      "state": {
       "description_width": ""
      }
     },
     "6b4e671349b14e66bb93e41e67556f60": {
      "model_module": "@jupyter-widgets/base",
      "model_module_version": "1.2.0",
      "model_name": "LayoutModel",
      "state": {}
     },
     "6bd3217688a2499092671fb78fd601cd": {
      "model_module": "@jupyter-widgets/base",
      "model_module_version": "1.2.0",
      "model_name": "LayoutModel",
      "state": {}
     },
     "6be9c5bc4e354245920f314f12cb716f": {
      "model_module": "@jupyter-widgets/controls",
      "model_module_version": "1.5.0",
      "model_name": "DescriptionStyleModel",
      "state": {
       "description_width": ""
      }
     },
     "6cda0cea43d347e3a75d3f9641e502cb": {
      "model_module": "@jupyter-widgets/base",
      "model_module_version": "1.2.0",
      "model_name": "LayoutModel",
      "state": {
       "display": "none"
      }
     },
     "6d186b3cc3e84468be84630ebdf5ee17": {
      "model_module": "@jupyter-widgets/controls",
      "model_module_version": "1.5.0",
      "model_name": "DescriptionStyleModel",
      "state": {
       "description_width": ""
      }
     },
     "6d48c3ec5c2c41398a4735919f90298b": {
      "model_module": "@jupyter-widgets/base",
      "model_module_version": "1.2.0",
      "model_name": "LayoutModel",
      "state": {
       "display": "none"
      }
     },
     "6e16d08115b3406fbd7c851f82f77fd1": {
      "model_module": "@jupyter-widgets/base",
      "model_module_version": "1.2.0",
      "model_name": "LayoutModel",
      "state": {}
     },
     "6e30096664394c8993bc1f89d56b37a1": {
      "model_module": "@jupyter-widgets/base",
      "model_module_version": "1.2.0",
      "model_name": "LayoutModel",
      "state": {}
     },
     "6e9c9707c71e4d54ac8cbbe353472285": {
      "model_module": "@jupyter-widgets/base",
      "model_module_version": "1.2.0",
      "model_name": "LayoutModel",
      "state": {
       "display": "none",
       "grid_gap": "0px 0px",
       "grid_template_areas": "\n                    'pathlist pathlist'\n                    'dircontent dircontent'\n                    ",
       "grid_template_columns": "60% 40%",
       "grid_template_rows": "auto auto",
       "width": "500px"
      }
     },
     "6ea130fdd9d246c9ab6e58e05f6dc89b": {
      "model_module": "@jupyter-widgets/controls",
      "model_module_version": "1.5.0",
      "model_name": "DescriptionStyleModel",
      "state": {
       "description_width": ""
      }
     },
     "6eb93a37bfa842ba93a1e33d36ae0d91": {
      "model_module": "@jupyter-widgets/controls",
      "model_module_version": "1.5.0",
      "model_name": "ButtonModel",
      "state": {
       "description": "Select",
       "layout": "IPY_MODEL_229244cb6cc44fc88e444f5ac9608f71",
       "style": "IPY_MODEL_43858ebe2851468185fbf87883963007"
      }
     },
     "6f0a1734e3fe4bec84b729b355c3ca3a": {
      "model_module": "@jupyter-widgets/controls",
      "model_module_version": "1.5.0",
      "model_name": "VBoxModel",
      "state": {
       "children": [
        "IPY_MODEL_a278864c348341f8ab52acb2e0763e56",
        "IPY_MODEL_bf3be8d7e61c46fd93b1862d47c5c0d9"
       ],
       "layout": "IPY_MODEL_38951c11fc314b4ca1d58c89a14249b4"
      }
     },
     "6f1e92e92b914c0dba259b49efa9fd1a": {
      "model_module": "@jupyter-widgets/base",
      "model_module_version": "1.2.0",
      "model_name": "LayoutModel",
      "state": {}
     },
     "6f54c1ad80e7423aaa677772407159a3": {
      "model_module": "@jupyter-widgets/controls",
      "model_module_version": "1.5.0",
      "model_name": "TextModel",
      "state": {
       "continuous_update": false,
       "description": "Group:",
       "layout": "IPY_MODEL_7674785ddbcb4ca29bd7e93478e400c0",
       "style": "IPY_MODEL_bce00987d372485a97dc9945bc5dc27e"
      }
     },
     "6f5b8f4e061b4239b0d9b5885b06bc6d": {
      "model_module": "@jupyter-widgets/controls",
      "model_module_version": "1.5.0",
      "model_name": "DescriptionStyleModel",
      "state": {
       "description_width": "initial"
      }
     },
     "700f57bfa50b45c58fc939c9c3409eca": {
      "model_module": "@jupyter-widgets/base",
      "model_module_version": "1.2.0",
      "model_name": "LayoutModel",
      "state": {}
     },
     "703ba76ce42e4a318d83c902ec4ea5f2": {
      "model_module": "@jupyter-widgets/controls",
      "model_module_version": "1.5.0",
      "model_name": "ButtonModel",
      "state": {
       "description": "Create copy:",
       "layout": "IPY_MODEL_efa40568e57547528ac03186a0d8d911",
       "style": "IPY_MODEL_9509afba1e4a482e856880584ab638c7"
      }
     },
     "704d16c1bfd74c1090c3b2e70f460c12": {
      "model_module": "@jupyter-widgets/controls",
      "model_module_version": "1.5.0",
      "model_name": "SliderStyleModel",
      "state": {
       "description_width": ""
      }
     },
     "70c609bbc0a2466791fc64e173d34c4e": {
      "model_module": "@jupyter-widgets/base",
      "model_module_version": "1.2.0",
      "model_name": "LayoutModel",
      "state": {}
     },
     "710be0e9445f4a858b733a78939fefc9": {
      "model_module": "@jupyter-widgets/controls",
      "model_module_version": "1.5.0",
      "model_name": "DescriptionStyleModel",
      "state": {
       "description_width": ""
      }
     },
     "712bee065a3944ff88693022ac818013": {
      "model_module": "@jupyter-widgets/controls",
      "model_module_version": "1.5.0",
      "model_name": "ButtonStyleModel",
      "state": {}
     },
     "71615958012e4375b529d4492a685807": {
      "model_module": "@jupyter-widgets/base",
      "model_module_version": "1.2.0",
      "model_name": "LayoutModel",
      "state": {}
     },
     "719974bc4eb24c638e5f33d8a7b78fee": {
      "model_module": "@jupyter-widgets/controls",
      "model_module_version": "1.5.0",
      "model_name": "VBoxModel",
      "state": {
       "children": [
        "IPY_MODEL_5cfb4f16ff684a84b132012a9ab4d4f5",
        "IPY_MODEL_fb364652cb624aabafc1af9946b74542"
       ],
       "layout": "IPY_MODEL_4043cb64f5c34b51bc7d2a8fcaa3ed75"
      }
     },
     "71c2d64c36c24b34b645337dfb89d5b9": {
      "model_module": "@jupyter-widgets/base",
      "model_module_version": "1.2.0",
      "model_name": "LayoutModel",
      "state": {}
     },
     "71eebab3452f42a9a6c6970f239eb9d0": {
      "model_module": "@jupyter-widgets/controls",
      "model_module_version": "1.5.0",
      "model_name": "LabelModel",
      "state": {
       "layout": "IPY_MODEL_58c169ee01d84f5b90b729dcf9acb53b",
       "style": "IPY_MODEL_de8749ce879040dbbccc69e99841357a",
       "value": "Monitoring folder"
      }
     },
     "71f1785087af4d08b72d5cd6a56512cd": {
      "model_module": "@jupyter-widgets/base",
      "model_module_version": "1.2.0",
      "model_name": "LayoutModel",
      "state": {
       "display": "none"
      }
     },
     "71f71f16ed634b38a07474c00c68a7a6": {
      "model_module": "@jupyter-widgets/controls",
      "model_module_version": "1.5.0",
      "model_name": "DescriptionStyleModel",
      "state": {
       "description_width": "initial"
      }
     },
     "721eb638b3cd44e5a2f6812ca4aa25b7": {
      "model_module": "@jupyter-widgets/base",
      "model_module_version": "1.2.0",
      "model_name": "LayoutModel",
      "state": {}
     },
     "728c984f34754be7be4ee0d4fad55144": {
      "model_module": "@jupyter-widgets/controls",
      "model_module_version": "1.5.0",
      "model_name": "ButtonModel",
      "state": {
       "description": "Create copy:",
       "layout": "IPY_MODEL_a2dcdad9c3954239abd5f8ceb382e53a",
       "style": "IPY_MODEL_b2f47b4d94e440babd3d184a3e3c5cda"
      }
     },
     "729ea20628b74885ae0e1b405c12ff54": {
      "model_module": "@jupyter-widgets/controls",
      "model_module_version": "1.5.0",
      "model_name": "DescriptionStyleModel",
      "state": {
       "description_width": "initial"
      }
     },
     "72fdaff0a68d48f1b9993fcda7ea6a10": {
      "model_module": "@jupyter-widgets/controls",
      "model_module_version": "1.5.0",
      "model_name": "ButtonModel",
      "state": {
       "description": "Select",
       "layout": "IPY_MODEL_df996a7cf0a54f08abf0ebc27b19f3f7",
       "style": "IPY_MODEL_ed23912dc632431cb45f4fd5a6361176"
      }
     },
     "735d392db7c6408386003a7fc04e10d4": {
      "model_module": "@jupyter-widgets/controls",
      "model_module_version": "1.5.0",
      "model_name": "DescriptionStyleModel",
      "state": {
       "description_width": ""
      }
     },
     "7462da2872f64066bc97ae795101bc82": {
      "model_module": "@jupyter-widgets/controls",
      "model_module_version": "1.5.0",
      "model_name": "LabelModel",
      "state": {
       "layout": "IPY_MODEL_0f039138fb2c44a1a8fb0a0b210dea78",
       "style": "IPY_MODEL_a0f9844e182c427b97e40d15571b3659",
       "value": "Data Count: 21362"
      }
     },
     "74abb6e470c442bb8f40e453b48780a9": {
      "model_module": "@jupyter-widgets/base",
      "model_module_version": "1.2.0",
      "model_name": "LayoutModel",
      "state": {}
     },
     "74b97efe8f15497193ef86a62cd07562": {
      "model_module": "@jupyter-widgets/controls",
      "model_module_version": "1.5.0",
      "model_name": "VBoxModel",
      "state": {
       "children": [
        "IPY_MODEL_95a0b3b3380841f393ddd5a3f5c1d370",
        "IPY_MODEL_41f9b598c1cd49f2bbf406b84d6734a4"
       ],
       "layout": "IPY_MODEL_35e5650e68c14658ab8981dbf7585948"
      }
     },
     "74e9cd33828c4aefa4532299e627c50d": {
      "model_module": "@jupyter-widgets/controls",
      "model_module_version": "1.5.0",
      "model_name": "DescriptionStyleModel",
      "state": {
       "description_width": ""
      }
     },
     "751464824a7b42c59eb18c54bcfe50de": {
      "model_module": "@jupyter-widgets/base",
      "model_module_version": "1.2.0",
      "model_name": "LayoutModel",
      "state": {}
     },
     "7541ca2b900e4d40bacf116225fe98d7": {
      "model_module": "@jupyter-widgets/controls",
      "model_module_version": "1.5.0",
      "model_name": "LabelModel",
      "state": {
       "layout": "IPY_MODEL_d69cd653b57440a68cb33a189903c5e0",
       "style": "IPY_MODEL_34c0c38645c84ffc98a648c00d2481f5",
       "value": "Workspace"
      }
     },
     "759abfc3fe4f4f10ae325ccac5f22f07": {
      "model_module": "@jupyter-widgets/base",
      "model_module_version": "1.2.0",
      "model_name": "LayoutModel",
      "state": {
       "grid_area": "pathlist",
       "width": "auto"
      }
     },
     "75a09b3ed32f4578bf966eb965d667c1": {
      "model_module": "@jupyter-widgets/base",
      "model_module_version": "1.2.0",
      "model_name": "LayoutModel",
      "state": {}
     },
     "7674785ddbcb4ca29bd7e93478e400c0": {
      "model_module": "@jupyter-widgets/base",
      "model_module_version": "1.2.0",
      "model_name": "LayoutModel",
      "state": {}
     },
     "769e7f0c9058492bb10ac12ef26195a1": {
      "model_module": "@jupyter-widgets/controls",
      "model_module_version": "1.5.0",
      "model_name": "HTMLModel",
      "state": {
       "layout": "IPY_MODEL_6cda0cea43d347e3a75d3f9641e502cb",
       "style": "IPY_MODEL_8d3dec01facd4888a1da2cac0293cb34"
      }
     },
     "76a4847caef243e0b3848b432ea2fd5e": {
      "model_module": "@jupyter-widgets/controls",
      "model_module_version": "1.5.0",
      "model_name": "VBoxModel",
      "state": {
       "children": [
        "IPY_MODEL_1c5066af67044772b0992f7cb4481efd",
        "IPY_MODEL_a73c607a7f5c4580b697f7e07d29f8c1"
       ],
       "layout": "IPY_MODEL_0e5ce13c71594f2cad51de51abf23eb7"
      }
     },
     "76dfeba1174244a3b120c0966fd4170f": {
      "model_module": "@jupyter-widgets/controls",
      "model_module_version": "1.5.0",
      "model_name": "FloatSliderModel",
      "state": {
       "continuous_update": false,
       "description": "Width",
       "layout": "IPY_MODEL_74abb6e470c442bb8f40e453b48780a9",
       "max": 8802.607126275985,
       "step": 10,
       "style": "IPY_MODEL_34c766e46af64c40820d3580cf5ad88a",
       "value": 4401.303563137993
      }
     },
     "77e093ec6d864795bad0612ef94f7e81": {
      "model_module": "@jupyter-widgets/base",
      "model_module_version": "1.2.0",
      "model_name": "LayoutModel",
      "state": {
       "display": "none",
       "grid_gap": "0px 0px",
       "grid_template_areas": "\n                    'pathlist pathlist'\n                    'dircontent dircontent'\n                    ",
       "grid_template_columns": "60% 40%",
       "grid_template_rows": "auto auto",
       "width": "500px"
      }
     },
     "77f8304abcbe416db259b0de7e3ee0c8": {
      "model_module": "@jupyter-widgets/base",
      "model_module_version": "1.2.0",
      "model_name": "LayoutModel",
      "state": {
       "width": "auto"
      }
     },
     "78049c385cc54e1ca5d583497234e318": {
      "model_module": "@jupyter-widgets/controls",
      "model_module_version": "1.5.0",
      "model_name": "SliderStyleModel",
      "state": {
       "description_width": ""
      }
     },
     "79573894ee544371bd059c48abd310a7": {
      "model_module": "@jupyter-widgets/controls",
      "model_module_version": "1.5.0",
      "model_name": "FloatSliderModel",
      "state": {
       "continuous_update": false,
       "description": "Azimuth",
       "layout": "IPY_MODEL_3d25366c070240798373ffc67f903a71",
       "max": 90,
       "min": -90,
       "step": 0.1,
       "style": "IPY_MODEL_fc8e8676051547e09e264766387ee69a"
      }
     },
     "7a1dfd3013d14a859ba5a0e595221cf4": {
      "model_module": "@jupyter-widgets/controls",
      "model_module_version": "1.5.0",
      "model_name": "DropdownModel",
      "state": {
       "_options_labels": [
        "",
        "--- Channels ---",
        "Airborne_Gxx",
        "Airborne_Gxy",
        "Airborne_Gxz",
        "Airborne_Gyy",
        "Airborne_Gyz",
        "Airborne_Gz",
        "Airborne_Gzz",
        "Airborne_TMI",
        "Ground_Gz",
        "Z"
       ],
       "description": "Data: ",
       "index": 9,
       "layout": "IPY_MODEL_255e7034888044b59541db51e8d85de9",
       "style": "IPY_MODEL_3844ad38bb8a4571a6275ccb6661eb60"
      }
     },
     "7a9f3a962c89432fbc1e448289d928d8": {
      "model_module": "@jupyter-widgets/base",
      "model_module_version": "1.2.0",
      "model_name": "LayoutModel",
      "state": {}
     },
     "7aca5fdfbdf34cf58c77da59c88a2d3d": {
      "model_module": "@jupyter-widgets/base",
      "model_module_version": "1.2.0",
      "model_name": "LayoutModel",
      "state": {}
     },
     "7ad6c5ed819f433ea360154038c5fed5": {
      "model_module": "@jupyter-widgets/base",
      "model_module_version": "1.2.0",
      "model_name": "LayoutModel",
      "state": {
       "display": "none",
       "grid_gap": "0px 0px",
       "grid_template_areas": "\n                    'pathlist pathlist'\n                    'dircontent dircontent'\n                    ",
       "grid_template_columns": "60% 40%",
       "grid_template_rows": "auto auto",
       "width": "500px"
      }
     },
     "7b16e72f13bb4f2a9b924121dd6ed378": {
      "model_module": "@jupyter-widgets/controls",
      "model_module_version": "1.5.0",
      "model_name": "ButtonStyleModel",
      "state": {}
     },
     "7b94203623034efd991bd9085a550ef8": {
      "model_module": "@jupyter-widgets/base",
      "model_module_version": "1.2.0",
      "model_name": "LayoutModel",
      "state": {}
     },
     "7bb764e883ec4b23b59a2bddb523521e": {
      "model_module": "@jupyter-widgets/base",
      "model_module_version": "1.2.0",
      "model_name": "LayoutModel",
      "state": {
       "display": "none",
       "grid_area": "filename",
       "width": "auto"
      }
     },
     "7c15afc1dae342a097a9f1584a976d82": {
      "model_module": "@jupyter-widgets/base",
      "model_module_version": "1.2.0",
      "model_name": "LayoutModel",
      "state": {
       "display": "none",
       "grid_gap": "0px 0px",
       "grid_template_areas": "\n                    'pathlist pathlist'\n                    'dircontent dircontent'\n                    ",
       "grid_template_columns": "60% 40%",
       "grid_template_rows": "auto auto",
       "width": "500px"
      }
     },
     "7c883656bd3a4c7d8fee64f5d23136e5": {
      "model_module": "@jupyter-widgets/controls",
      "model_module_version": "1.5.0",
      "model_name": "VBoxModel",
      "state": {
       "children": [
        "IPY_MODEL_ef87128e4c7c4114b9dd43f3f3458201",
        "IPY_MODEL_6f54c1ad80e7423aaa677772407159a3"
       ],
       "layout": "IPY_MODEL_e145f346dc044a6c9c37308915c0967f"
      }
     },
     "7c96d8aabe9c4cc4aff414536915fab8": {
      "model_module": "@jupyter-widgets/controls",
      "model_module_version": "1.5.0",
      "model_name": "DropdownModel",
      "state": {
       "_options_labels": [
        "C:\\Users\\dominiquef\\Documents\\GIT\\mira\\mirageoscience-apps\\assets",
        "C:\\Users\\dominiquef\\Documents\\GIT\\mira\\mirageoscience-apps",
        "C:\\Users\\dominiquef\\Documents\\GIT\\mira",
        "C:\\Users\\dominiquef\\Documents\\GIT",
        "C:\\Users\\dominiquef\\Documents",
        "C:\\Users\\dominiquef",
        "C:\\Users",
        "C:\\",
        "D:\\",
        "Z:\\"
       ],
       "index": 0,
       "layout": "IPY_MODEL_bf927d419a3d4a5596cf36157fbd78ab",
       "style": "IPY_MODEL_05dd5efadf484a7e94f3f7598363a584"
      }
     },
     "7d02e763f75646f2a970e15d82e56162": {
      "model_module": "@jupyter-widgets/base",
      "model_module_version": "1.2.0",
      "model_name": "LayoutModel",
      "state": {
       "display": "none",
       "width": "auto"
      }
     },
     "7d50fbf096024ee9be318c6810633a03": {
      "model_module": "@jupyter-widgets/controls",
      "model_module_version": "1.5.0",
      "model_name": "DescriptionStyleModel",
      "state": {
       "description_width": ""
      }
     },
     "7f3f20b6d3964d8b8e0ff96512feb624": {
      "model_module": "@jupyter-widgets/controls",
      "model_module_version": "1.5.0",
      "model_name": "VBoxModel",
      "state": {
       "children": [
        "IPY_MODEL_adb5137688614540a666a777e3d1a5ca",
        "IPY_MODEL_cb560a0230ab4c519a9c490f6c13b2c3",
        "IPY_MODEL_b884080281704c8396f5dbdcfcfbab2a"
       ],
       "layout": "IPY_MODEL_a12b5d49ea1e4f96bfa54443d1641b83"
      }
     },
     "7f5456d130c64041adf5e3537a92b04d": {
      "model_module": "@jupyter-widgets/controls",
      "model_module_version": "1.5.0",
      "model_name": "HBoxModel",
      "state": {
       "children": [
        "IPY_MODEL_51e437b61dca480e9cf06ba7812bec51",
        "IPY_MODEL_e5c32fa395f9412dac5691df54634d2e"
       ],
       "layout": "IPY_MODEL_fe68e31a821d493f9842b12bc81397ad"
      }
     },
     "7f87ce61243b4b70a08dde49c96c82d5": {
      "model_module": "@jupyter-widgets/controls",
      "model_module_version": "1.5.0",
      "model_name": "VBoxModel",
      "state": {
       "children": [
        "IPY_MODEL_0485b8ac5d1744108d8cfa8731fdf8dc",
        "IPY_MODEL_dd5c6f659b0b4af0bf968c600010ecaf",
        "IPY_MODEL_80b9caef5b7e4cbba5fedf7115d3326d"
       ],
       "layout": "IPY_MODEL_4fac87777d9245d4811daffcea764864"
      }
     },
     "7f963e8c1245467faf71288298231102": {
      "model_module": "@jupyter-widgets/controls",
      "model_module_version": "1.5.0",
      "model_name": "ButtonStyleModel",
      "state": {}
     },
     "7fa6c1ec5b9149738b4eb4c220c272b6": {
      "model_module": "@jupyter-widgets/controls",
      "model_module_version": "1.5.0",
      "model_name": "DescriptionStyleModel",
      "state": {
       "description_width": ""
      }
     },
     "7fc895a60db14df7b89acb1c038e3a77": {
      "model_module": "@jupyter-widgets/base",
      "model_module_version": "1.2.0",
      "model_name": "LayoutModel",
      "state": {}
     },
     "8019ee62b3d74be187cb82d517a30330": {
      "model_module": "@jupyter-widgets/base",
      "model_module_version": "1.2.0",
      "model_name": "LayoutModel",
      "state": {
       "width": "auto"
      }
     },
     "80a0d2f78feb42219c8133b4b33a715f": {
      "model_module": "@jupyter-widgets/output",
      "model_module_version": "1.0.0",
      "model_name": "OutputModel",
      "state": {
       "layout": "IPY_MODEL_2aa801ffca3b4432a3ac87d288537935",
       "outputs": [
        {
         "data": {
          "image/png": "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\n",
          "text/plain": "<Figure size 720x720 with 1 Axes>"
         },
         "metadata": {
          "needs_background": "light"
         },
         "output_type": "display_data"
        }
       ]
      }
     },
     "80b9caef5b7e4cbba5fedf7115d3326d": {
      "model_module": "@jupyter-widgets/controls",
      "model_module_version": "1.5.0",
      "model_name": "HBoxModel",
      "state": {
       "children": [
        "IPY_MODEL_80ea56713b69470685a6ee487cb34ce4",
        "IPY_MODEL_a78afef4b67145f2b23c4de97ca686a8",
        "IPY_MODEL_465cecb01ec84cadaa2226b9a1959985"
       ],
       "layout": "IPY_MODEL_36249877570d4bd7a9fd3dfa9168faa3"
      }
     },
     "80c58716d69342b98b9de291b9ad7fed": {
      "model_module": "@jupyter-widgets/controls",
      "model_module_version": "1.5.0",
      "model_name": "ButtonStyleModel",
      "state": {}
     },
     "80c8eac498f84d9da88b6b87f8354217": {
      "model_module": "@jupyter-widgets/base",
      "model_module_version": "1.2.0",
      "model_name": "LayoutModel",
      "state": {
       "display": "none"
      }
     },
     "80ea56713b69470685a6ee487cb34ce4": {
      "model_module": "@jupyter-widgets/controls",
      "model_module_version": "1.5.0",
      "model_name": "ButtonModel",
      "state": {
       "description": "Change",
       "layout": "IPY_MODEL_3de8ac6104c74ea0b41fb0468c9c5140",
       "style": "IPY_MODEL_48ea2e8d8536499da42b936703d5c5a8"
      }
     },
     "8110f0af12df4e4eba78ff6ec2a009df": {
      "model_module": "@jupyter-widgets/controls",
      "model_module_version": "1.5.0",
      "model_name": "FloatSliderModel",
      "state": {
       "continuous_update": false,
       "description": "Northing",
       "layout": "IPY_MODEL_934d94b6528644f1b8a30f6c97a4a8e8",
       "max": 6076443.652111261,
       "min": 6065091.787108775,
       "orientation": "vertical",
       "step": 0.1,
       "style": "IPY_MODEL_c15f37be7874402da2967c76637d4367",
       "value": 6070767.719610019
      }
     },
     "81157d1338754f6d9467432c3c036e55": {
      "model_module": "@jupyter-widgets/controls",
      "model_module_version": "1.5.0",
      "model_name": "SliderStyleModel",
      "state": {
       "description_width": ""
      }
     },
     "813524f5bdcc4595b37dea7dde36c3dd": {
      "model_module": "@jupyter-widgets/controls",
      "model_module_version": "1.5.0",
      "model_name": "ButtonModel",
      "state": {
       "description": "Cancel",
       "layout": "IPY_MODEL_fd9ca95f72bc4942bef2a15117204b37",
       "style": "IPY_MODEL_df75c3e619bd48ceb8e3ec560d540954"
      }
     },
     "815a6db119e44e49abb2e42fbf6e5afd": {
      "model_module": "@jupyter-widgets/controls",
      "model_module_version": "1.5.0",
      "model_name": "DropdownModel",
      "state": {
       "_options_labels": [
        "C:\\Users\\dominiquef\\Documents\\GIT\\mira\\mirageoscience-apps\\docs\\content\\applications",
        "C:\\Users\\dominiquef\\Documents\\GIT\\mira\\mirageoscience-apps\\docs\\content",
        "C:\\Users\\dominiquef\\Documents\\GIT\\mira\\mirageoscience-apps\\docs",
        "C:\\Users\\dominiquef\\Documents\\GIT\\mira\\mirageoscience-apps",
        "C:\\Users\\dominiquef\\Documents\\GIT\\mira",
        "C:\\Users\\dominiquef\\Documents\\GIT",
        "C:\\Users\\dominiquef\\Documents",
        "C:\\Users\\dominiquef",
        "C:\\Users",
        "C:\\",
        "D:\\",
        "Z:\\"
       ],
       "index": 0,
       "layout": "IPY_MODEL_a988170b64fa4990b73ca4d4015cb966",
       "style": "IPY_MODEL_3cce1745968b4dba8fc6e5da5e191c88"
      }
     },
     "81dec2c3fe2345d08a48f2f0d0ec22fa": {
      "model_module": "@jupyter-widgets/base",
      "model_module_version": "1.2.0",
      "model_name": "LayoutModel",
      "state": {}
     },
     "829972865b054054969f040351078078": {
      "model_module": "@jupyter-widgets/base",
      "model_module_version": "1.2.0",
      "model_name": "LayoutModel",
      "state": {}
     },
     "830d8e9cd58d4493bb13a17af0afaa96": {
      "model_module": "@jupyter-widgets/base",
      "model_module_version": "1.2.0",
      "model_name": "LayoutModel",
      "state": {
       "grid_area": "pathlist",
       "width": "auto"
      }
     },
     "8317fb563a5d49cdaed5f58dcf99b06c": {
      "model_module": "@jupyter-widgets/base",
      "model_module_version": "1.2.0",
      "model_name": "LayoutModel",
      "state": {}
     },
     "8360c8f0dfd746819d82301c25d8dfa3": {
      "model_module": "@jupyter-widgets/controls",
      "model_module_version": "1.5.0",
      "model_name": "ButtonModel",
      "state": {
       "button_style": "danger",
       "description": "Compute",
       "icon": "check",
       "layout": "IPY_MODEL_5168c36d1e194d9298351e595231c70a",
       "style": "IPY_MODEL_ce8f9e02363e40b3ab491b6ebb8e6455",
       "tooltip": "Run computation"
      }
     },
     "8372afb4816e4ae280530aa81b73b65b": {
      "model_module": "@jupyter-widgets/base",
      "model_module_version": "1.2.0",
      "model_name": "LayoutModel",
      "state": {}
     },
     "83792c89722248248992c7ee3492182e": {
      "model_module": "@jupyter-widgets/controls",
      "model_module_version": "1.5.0",
      "model_name": "LabelModel",
      "state": {
       "layout": "IPY_MODEL_ea59f593c50146d38afeb3d3665fc2fb",
       "style": "IPY_MODEL_ed7b2d587fe64b948e28f7dc3714316c",
       "value": "Monitoring folder"
      }
     },
     "83b251345b994e09a60566e142bbc851": {
      "model_module": "@jupyter-widgets/base",
      "model_module_version": "1.2.0",
      "model_name": "LayoutModel",
      "state": {}
     },
     "83cdac316d5643fda1c77c83505a18b4": {
      "model_module": "@jupyter-widgets/base",
      "model_module_version": "1.2.0",
      "model_name": "LayoutModel",
      "state": {}
     },
     "83e338946cec4d618f85d8cfbbb0ba76": {
      "model_module": "@jupyter-widgets/controls",
      "model_module_version": "1.5.0",
      "model_name": "VBoxModel",
      "state": {
       "children": [
        "IPY_MODEL_15351c2dc9f1429ca8a3d542b5f3d2b0",
        "IPY_MODEL_84e120d98eba477cb6b226899486fa0d"
       ],
       "layout": "IPY_MODEL_7aca5fdfbdf34cf58c77da59c88a2d3d"
      }
     },
     "83f2485b1c6b4995b13e3f27fb0243a8": {
      "model_module": "@jupyter-widgets/base",
      "model_module_version": "1.2.0",
      "model_name": "LayoutModel",
      "state": {
       "grid_area": "filename",
       "width": "auto"
      }
     },
     "840ebd46781646668e2a86b7768631f2": {
      "model_module": "@jupyter-widgets/controls",
      "model_module_version": "1.5.0",
      "model_name": "TextModel",
      "state": {
       "continuous_update": false,
       "description": "Contours",
       "layout": "IPY_MODEL_04f009d6b21f4a90af5174d70a3a9f86",
       "style": "IPY_MODEL_d3e6d1da9cd5471fad18e4cb84fe2728"
      }
     },
     "845b76973bca4a078eb2c3a93da14631": {
      "model_module": "@jupyter-widgets/base",
      "model_module_version": "1.2.0",
      "model_name": "LayoutModel",
      "state": {}
     },
     "8478990d441442ef901038636c8609e7": {
      "model_module": "@jupyter-widgets/controls",
      "model_module_version": "1.5.0",
      "model_name": "ButtonStyleModel",
      "state": {}
     },
     "84b6831fd2f5450a9439f938c67ca28e": {
      "model_module": "@jupyter-widgets/base",
      "model_module_version": "1.2.0",
      "model_name": "LayoutModel",
      "state": {}
     },
     "84e120d98eba477cb6b226899486fa0d": {
      "model_module": "@jupyter-widgets/controls",
      "model_module_version": "1.5.0",
      "model_name": "HBoxModel",
      "state": {
       "children": [
        "IPY_MODEL_a11565466e6243f09d0c7af9b51bf61f",
        "IPY_MODEL_fc79af440c6644d38c060a53c38fd05b",
        "IPY_MODEL_cac2886a62584b2e823ae3939e51f893"
       ],
       "layout": "IPY_MODEL_6302e35a3f094e7495253484f4c4dae6"
      }
     },
     "851999b72a95428387d1f4ada8562663": {
      "model_module": "@jupyter-widgets/controls",
      "model_module_version": "1.5.0",
      "model_name": "ButtonModel",
      "state": {
       "button_style": "danger",
       "description": "Compute",
       "icon": "check",
       "layout": "IPY_MODEL_bd97de95ad2c40849176ec73400a4b5a",
       "style": "IPY_MODEL_448444bf943b4b44bff0dce2082b0f7c",
       "tooltip": "Run computation"
      }
     },
     "85439bfb02bf4c23bb61b5e623474aae": {
      "model_module": "@jupyter-widgets/base",
      "model_module_version": "1.2.0",
      "model_name": "LayoutModel",
      "state": {}
     },
     "854b5144b7d242fcbcd791672b7eb08a": {
      "model_module": "@jupyter-widgets/controls",
      "model_module_version": "1.5.0",
      "model_name": "DescriptionStyleModel",
      "state": {
       "description_width": "initial"
      }
     },
     "856096dc78f54997a6db5eab42e7d901": {
      "model_module": "@jupyter-widgets/base",
      "model_module_version": "1.2.0",
      "model_name": "LayoutModel",
      "state": {
       "grid_area": "dircontent",
       "width": "auto"
      }
     },
     "8572ac890011465d83f52f46071343c4": {
      "model_module": "@jupyter-widgets/controls",
      "model_module_version": "1.5.0",
      "model_name": "LabelModel",
      "state": {
       "layout": "IPY_MODEL_2f78ee25a53446fda261b952699b9fb7",
       "style": "IPY_MODEL_92b02aec42c946c3963233858c36c7c6",
       "value": "Workspace"
      }
     },
     "85e3972a0b2c4a99bab8d3922aa01832": {
      "model_module": "@jupyter-widgets/controls",
      "model_module_version": "1.5.0",
      "model_name": "DescriptionStyleModel",
      "state": {
       "description_width": ""
      }
     },
     "86434506b63245d99d39f5fa4f7f01cd": {
      "model_module": "@jupyter-widgets/base",
      "model_module_version": "1.2.0",
      "model_name": "LayoutModel",
      "state": {}
     },
     "86a7471f096948708f31e67362f9713d": {
      "model_module": "@jupyter-widgets/base",
      "model_module_version": "1.2.0",
      "model_name": "LayoutModel",
      "state": {
       "grid_area": "filename",
       "width": "auto"
      }
     },
     "86be8dd628f241eea740b40d255a7090": {
      "model_module": "@jupyter-widgets/controls",
      "model_module_version": "1.5.0",
      "model_name": "ButtonModel",
      "state": {
       "description": "Cancel",
       "layout": "IPY_MODEL_63f9ec10b8e0421583b5613db6fd8e29",
       "style": "IPY_MODEL_a0b257424f60475db8f920bd887f5171"
      }
     },
     "8748af70fd144e09ba5d22007f0c29aa": {
      "model_module": "@jupyter-widgets/controls",
      "model_module_version": "1.5.0",
      "model_name": "ButtonModel",
      "state": {
       "description": "Cancel",
       "layout": "IPY_MODEL_23987e50d0d349ea931602cae7ed96cc",
       "style": "IPY_MODEL_61be336e78764c25a660b2e9d42363e5"
      }
     },
     "87497a1609c7489e8ff53401bdd3a339": {
      "model_module": "@jupyter-widgets/controls",
      "model_module_version": "1.5.0",
      "model_name": "VBoxModel",
      "state": {
       "children": [
        "IPY_MODEL_e1ae99c5ecef45d5bdf06e6ffd869846",
        "IPY_MODEL_90e52b3640d14c3b87d3ee0ea3dcedaa",
        "IPY_MODEL_4ebdce43c0664c8db36f2371f01a6fd9",
        "IPY_MODEL_d3085acd0d394db98afafae6d093792f",
        "IPY_MODEL_ac023a8586ca4fc89a5cc00319be6ea1"
       ],
       "layout": "IPY_MODEL_1d41021d84ce48a1901499bba8487484"
      }
     },
     "87549c8072024f8da0e47e7d429f2fa3": {
      "model_module": "@jupyter-widgets/base",
      "model_module_version": "1.2.0",
      "model_name": "LayoutModel",
      "state": {
       "width": "auto"
      }
     },
     "87ac0f2988a94e15a1c27365958a1df0": {
      "model_module": "@jupyter-widgets/controls",
      "model_module_version": "1.5.0",
      "model_name": "ToggleButtonModel",
      "state": {
       "description": "Zoom on selection",
       "icon": "check",
       "layout": "IPY_MODEL_0ef955f8295443cdb9a29bdc2e257348",
       "style": "IPY_MODEL_fcff0789d3c845a9a2ba882e5300ebfe",
       "tooltip": "Keep plot extent on selection",
       "value": true
      }
     },
     "8802404043c240a4b476ef7849a58077": {
      "model_module": "@jupyter-widgets/controls",
      "model_module_version": "1.5.0",
      "model_name": "DescriptionStyleModel",
      "state": {
       "description_width": "initial"
      }
     },
     "88244c646c9746b5a2acb844034fe4f4": {
      "model_module": "@jupyter-widgets/controls",
      "model_module_version": "1.5.0",
      "model_name": "DescriptionStyleModel",
      "state": {
       "description_width": ""
      }
     },
     "8838a1ae1e7d4deaa6fc54689047c5c1": {
      "model_module": "@jupyter-widgets/controls",
      "model_module_version": "1.5.0",
      "model_name": "ButtonStyleModel",
      "state": {}
     },
     "883d88ecf0cd4b92ae6fb5ae0661551f": {
      "model_module": "@jupyter-widgets/controls",
      "model_module_version": "1.5.0",
      "model_name": "HTMLModel",
      "state": {
       "layout": "IPY_MODEL_a40c2d3ce61944f3acb52fee24edd02b",
       "placeholder": "",
       "style": "IPY_MODEL_c4858a29b30c4cb4bdd8849ef721824e",
       "value": "<span style=\"margin-left:10px; color:orange;\">C:\\Users\\dominiquef\\Documents\\GIT\\mira\\mirageoscience-apps\\assets\\FlinFlon.geoh5</span>"
      }
     },
     "88c67ded7a2c4db8a23c846b9cb4ebfb": {
      "model_module": "@jupyter-widgets/controls",
      "model_module_version": "1.5.0",
      "model_name": "DescriptionStyleModel",
      "state": {
       "description_width": "initial"
      }
     },
     "89659d0dc074453abe2c6406c9df3650": {
      "model_module": "@jupyter-widgets/base",
      "model_module_version": "1.2.0",
      "model_name": "LayoutModel",
      "state": {}
     },
     "89a2d67814144cb4bc67493612d6dac8": {
      "model_module": "@jupyter-widgets/controls",
      "model_module_version": "1.5.0",
      "model_name": "VBoxModel",
      "state": {
       "children": [
        "IPY_MODEL_53d4f3dea14348b2bd09d7acb8fdb70d",
        "IPY_MODEL_4db57699089345418763ef1b29050074"
       ],
       "layout": "IPY_MODEL_85439bfb02bf4c23bb61b5e623474aae"
      }
     },
     "89b8f3d6f9bc48ef95295b8212988cc0": {
      "model_module": "@jupyter-widgets/controls",
      "model_module_version": "1.5.0",
      "model_name": "DescriptionStyleModel",
      "state": {
       "description_width": ""
      }
     },
     "89e33f4d09184a91ab034bbde779a9de": {
      "model_module": "@jupyter-widgets/base",
      "model_module_version": "1.2.0",
      "model_name": "LayoutModel",
      "state": {
       "grid_area": "dircontent",
       "width": "auto"
      }
     },
     "8a19a9113482465d8a46a2c2dee367ec": {
      "model_module": "@jupyter-widgets/base",
      "model_module_version": "1.2.0",
      "model_name": "LayoutModel",
      "state": {
       "width": "auto"
      }
     },
     "8a3933ff8e3a47ffb43a6c11277f25b6": {
      "model_module": "@jupyter-widgets/controls",
      "model_module_version": "1.5.0",
      "model_name": "ButtonModel",
      "state": {
       "description": "Cancel",
       "layout": "IPY_MODEL_b4dfcfaa51e54dbba9b295f20ae9d601",
       "style": "IPY_MODEL_7f963e8c1245467faf71288298231102"
      }
     },
     "8a5a42f5ba564ca9a8bde91f313c863c": {
      "model_module": "@jupyter-widgets/controls",
      "model_module_version": "1.5.0",
      "model_name": "ButtonModel",
      "state": {
       "description": "Change",
       "layout": "IPY_MODEL_4cd3df868daa41868160a773ec1fe939",
       "style": "IPY_MODEL_cd95eeffe19047618309ac8974379abd"
      }
     },
     "8a6fcbef0b564fbba97a078d9a8be4fa": {
      "model_module": "@jupyter-widgets/controls",
      "model_module_version": "1.5.0",
      "model_name": "DropdownModel",
      "state": {
       "_options_labels": [
        "C:\\Users\\dominiquef\\Documents\\GIT\\mira\\mirageoscience-apps\\docs\\content\\applications",
        "C:\\Users\\dominiquef\\Documents\\GIT\\mira\\mirageoscience-apps\\docs\\content",
        "C:\\Users\\dominiquef\\Documents\\GIT\\mira\\mirageoscience-apps\\docs",
        "C:\\Users\\dominiquef\\Documents\\GIT\\mira\\mirageoscience-apps",
        "C:\\Users\\dominiquef\\Documents\\GIT\\mira",
        "C:\\Users\\dominiquef\\Documents\\GIT",
        "C:\\Users\\dominiquef\\Documents",
        "C:\\Users\\dominiquef",
        "C:\\Users",
        "C:\\",
        "D:\\",
        "Z:\\"
       ],
       "index": 0,
       "layout": "IPY_MODEL_36b6d2c30c9b4dd59462d1b707457921",
       "style": "IPY_MODEL_48bd1eba3c114ad7bc5214907732c27b"
      }
     },
     "8aeaa3d64a364782bc40120fe03771ed": {
      "model_module": "@jupyter-widgets/controls",
      "model_module_version": "1.5.0",
      "model_name": "FloatTextModel",
      "state": {
       "description": "Grid Resolution (m)",
       "layout": "IPY_MODEL_25ef267a08b94fda88b6ccad5e1372ed",
       "step": null,
       "style": "IPY_MODEL_68c65e29b35e4158919e8dc7d8cea6d7"
      }
     },
     "8b23ef9bd25f431e8291232be8dcc0ad": {
      "model_module": "@jupyter-widgets/controls",
      "model_module_version": "1.5.0",
      "model_name": "CheckboxModel",
      "state": {
       "description": "GA Pro - Live link",
       "disabled": false,
       "indent": false,
       "layout": "IPY_MODEL_eef31ded39eb4244959a7eb334ff3117",
       "style": "IPY_MODEL_d86a54a112b24c7fbbee790c5ed1e555",
       "value": false
      }
     },
     "8b7b6d27a2814dff90f27aca675c4208": {
      "model_module": "@jupyter-widgets/base",
      "model_module_version": "1.2.0",
      "model_name": "LayoutModel",
      "state": {}
     },
     "8b8ab003751a49a78d03651e58009a32": {
      "model_module": "@jupyter-widgets/controls",
      "model_module_version": "1.5.0",
      "model_name": "DescriptionStyleModel",
      "state": {
       "description_width": ""
      }
     },
     "8bd7fea9883c4d2c88ccf93ad9248165": {
      "model_module": "@jupyter-widgets/base",
      "model_module_version": "1.2.0",
      "model_name": "LayoutModel",
      "state": {}
     },
     "8c1ad73cf64348dcbaa195f0fe4feb8a": {
      "model_module": "@jupyter-widgets/base",
      "model_module_version": "1.2.0",
      "model_name": "LayoutModel",
      "state": {
       "grid_area": "dircontent",
       "width": "auto"
      }
     },
     "8c2a7adf9732447dbcc57218d6c99e95": {
      "model_module": "@jupyter-widgets/base",
      "model_module_version": "1.2.0",
      "model_name": "LayoutModel",
      "state": {}
     },
     "8c2e264b8acd409688af601e80ada5b7": {
      "model_module": "@jupyter-widgets/base",
      "model_module_version": "1.2.0",
      "model_name": "LayoutModel",
      "state": {}
     },
     "8c48467672da4fe0a5d25cd8122b8d01": {
      "model_module": "@jupyter-widgets/base",
      "model_module_version": "1.2.0",
      "model_name": "LayoutModel",
      "state": {}
     },
     "8c585b18edf448a0859828010503eb06": {
      "model_module": "@jupyter-widgets/controls",
      "model_module_version": "1.5.0",
      "model_name": "ButtonStyleModel",
      "state": {}
     },
     "8c92dba421674a20868320e4d5600d99": {
      "model_module": "@jupyter-widgets/controls",
      "model_module_version": "1.5.0",
      "model_name": "TextModel",
      "state": {
       "continuous_update": false,
       "description": "Contours",
       "layout": "IPY_MODEL_40d489a5fccc4dbe8998debccabc4f98",
       "style": "IPY_MODEL_49f7a2fbb50b4225a51855cc039ce474"
      }
     },
     "8cb0a9eb203940cbbe10d9ad14d27552": {
      "model_module": "@jupyter-widgets/controls",
      "model_module_version": "1.5.0",
      "model_name": "ButtonModel",
      "state": {
       "description": "Select",
       "layout": "IPY_MODEL_87549c8072024f8da0e47e7d429f2fa3",
       "style": "IPY_MODEL_c00e15a57ed14c49a0b8bfaab477ce78"
      }
     },
     "8cb94825a90f462aa8084f7c11ae7713": {
      "model_module": "@jupyter-widgets/controls",
      "model_module_version": "1.5.0",
      "model_name": "HBoxModel",
      "state": {
       "children": [
        "IPY_MODEL_2a9119e1777040459c5dceec5d8f6dba",
        "IPY_MODEL_230f4e1f16c747ddac6a6d8a634a3beb",
        "IPY_MODEL_87497a1609c7489e8ff53401bdd3a339"
       ],
       "layout": "IPY_MODEL_e6f100d5cf3f481a96c84fe3d95cb8b4"
      }
     },
     "8d3dec01facd4888a1da2cac0293cb34": {
      "model_module": "@jupyter-widgets/controls",
      "model_module_version": "1.5.0",
      "model_name": "DescriptionStyleModel",
      "state": {
       "description_width": ""
      }
     },
     "8d5c62f874454579ae016b02b716a471": {
      "model_module": "@jupyter-widgets/base",
      "model_module_version": "1.2.0",
      "model_name": "LayoutModel",
      "state": {}
     },
     "8d8ef33df37948abb5d7e7649b756116": {
      "model_module": "@jupyter-widgets/controls",
      "model_module_version": "1.5.0",
      "model_name": "LabelModel",
      "state": {
       "layout": "IPY_MODEL_03f4a1e5c389449497107d5354fbd021",
       "style": "IPY_MODEL_12eda96fe49a45e58d69e86bf654f592",
       "value": "Monitoring folder"
      }
     },
     "8dcadc30cad9473494bdc09ee85e4f95": {
      "model_module": "@jupyter-widgets/controls",
      "model_module_version": "1.5.0",
      "model_name": "ButtonModel",
      "state": {
       "description": "Cancel",
       "layout": "IPY_MODEL_90b1f3bcb0ff4fa48cfa61cdab334927",
       "style": "IPY_MODEL_5e65b077659942a996f6fe376f437091"
      }
     },
     "8e297780d4b745a4a7910cbb016f98ce": {
      "model_module": "@jupyter-widgets/controls",
      "model_module_version": "1.5.0",
      "model_name": "TextModel",
      "state": {
       "continuous_update": false,
       "description": "Group:",
       "layout": "IPY_MODEL_650a060f66c147f2b74e0a2f74c20fd6",
       "style": "IPY_MODEL_f43eca1265f14a288b5b605cba8088f1"
      }
     },
     "8e3ab335f2824752b5b6d77c458a4040": {
      "model_module": "@jupyter-widgets/controls",
      "model_module_version": "1.5.0",
      "model_name": "SliderStyleModel",
      "state": {
       "description_width": ""
      }
     },
     "8e8047bdc1334ee2aa92e379c9ce95f7": {
      "model_module": "@jupyter-widgets/controls",
      "model_module_version": "1.5.0",
      "model_name": "SliderStyleModel",
      "state": {
       "description_width": ""
      }
     },
     "8ec3206f44544f54b4ae738323bad6d4": {
      "model_module": "@jupyter-widgets/controls",
      "model_module_version": "1.5.0",
      "model_name": "ButtonStyleModel",
      "state": {}
     },
     "8ede1da8298b4653a54f2012cfa85984": {
      "model_module": "@jupyter-widgets/controls",
      "model_module_version": "1.5.0",
      "model_name": "DescriptionStyleModel",
      "state": {
       "description_width": ""
      }
     },
     "8fce37359599479a98dbc120bdb0624b": {
      "model_module": "@jupyter-widgets/controls",
      "model_module_version": "1.5.0",
      "model_name": "DescriptionStyleModel",
      "state": {
       "description_width": ""
      }
     },
     "8fe2984fd9fd49ada4ca8e4d1128e4fa": {
      "model_module": "@jupyter-widgets/controls",
      "model_module_version": "1.5.0",
      "model_name": "DescriptionStyleModel",
      "state": {
       "description_width": ""
      }
     },
     "8ff5010a1e0140dc93f4e2b0418ccc74": {
      "model_module": "@jupyter-widgets/base",
      "model_module_version": "1.2.0",
      "model_name": "LayoutModel",
      "state": {}
     },
     "8ffbc6a1854f4da5a5099641a36b2e02": {
      "model_module": "@jupyter-widgets/controls",
      "model_module_version": "1.5.0",
      "model_name": "SliderStyleModel",
      "state": {
       "description_width": ""
      }
     },
     "90227a383a574b45a6ab2be8e0264193": {
      "model_module": "@jupyter-widgets/base",
      "model_module_version": "1.2.0",
      "model_name": "LayoutModel",
      "state": {}
     },
     "907ab834ed05463a90f8c31f9fbe48e7": {
      "model_module": "@jupyter-widgets/controls",
      "model_module_version": "1.5.0",
      "model_name": "SelectModel",
      "state": {
       "_options_labels": [
        "..",
        "Temp",
        "dask-worker-space",
        "Crossplot.html",
        "FlinFlon.geoh5",
        "FlinFlon_light.geoh5",
        "MtDore_TMI.geoh5"
       ],
       "index": 4,
       "layout": "IPY_MODEL_d7f50040182044dda8130a77570d9376",
       "rows": 8,
       "style": "IPY_MODEL_0b84f90dce9e4716a0311ba7d30e5261"
      }
     },
     "90b1f3bcb0ff4fa48cfa61cdab334927": {
      "model_module": "@jupyter-widgets/base",
      "model_module_version": "1.2.0",
      "model_name": "LayoutModel",
      "state": {
       "display": "none",
       "width": "auto"
      }
     },
     "90e52b3640d14c3b87d3ee0ea3dcedaa": {
      "model_module": "@jupyter-widgets/controls",
      "model_module_version": "1.5.0",
      "model_name": "FloatSliderModel",
      "state": {
       "continuous_update": false,
       "description": "Easting",
       "layout": "IPY_MODEL_20de34a304fe410aab434d200eda1d7c",
       "max": 319234.2051362576,
       "min": 311898.69919769425,
       "step": 0.1,
       "style": "IPY_MODEL_1b0bb6a40d524a1099fc65027fcc5411",
       "value": 315566.45216697594
      }
     },
     "914e875898a9402c96cac95a6641241a": {
      "model_module": "@jupyter-widgets/base",
      "model_module_version": "1.2.0",
      "model_name": "LayoutModel",
      "state": {
       "grid_area": "pathlist",
       "width": "auto"
      }
     },
     "915c1e1e469047798f68cd30239004b1": {
      "model_module": "@jupyter-widgets/base",
      "model_module_version": "1.2.0",
      "model_name": "LayoutModel",
      "state": {}
     },
     "916779494f784f698ce7233a53ceb42b": {
      "model_module": "@jupyter-widgets/base",
      "model_module_version": "1.2.0",
      "model_name": "LayoutModel",
      "state": {}
     },
     "917b27ff1ff24ae7a81ec3e27e5bef4c": {
      "model_module": "@jupyter-widgets/controls",
      "model_module_version": "1.5.0",
      "model_name": "CheckboxModel",
      "state": {
       "description": "GA Pro - Live link",
       "disabled": false,
       "indent": false,
       "layout": "IPY_MODEL_8317fb563a5d49cdaed5f58dcf99b06c",
       "style": "IPY_MODEL_1da2eb96565d4235b6be76b9cd08025a",
       "value": false
      }
     },
     "91cfc6d65b8a4f598e0323e71063dbd7": {
      "model_module": "@jupyter-widgets/controls",
      "model_module_version": "1.5.0",
      "model_name": "HBoxModel",
      "state": {
       "children": [
        "IPY_MODEL_05f109d16bf24417b5149f845bfb2b03",
        "IPY_MODEL_86be8dd628f241eea740b40d255a7090",
        "IPY_MODEL_c80124a9cba449428dee91f72faec323"
       ],
       "layout": "IPY_MODEL_dc4414eb72d94e259c0c3ddbe565f8c4"
      }
     },
     "91f6c3c164df4b058d3f5b3a9aaded13": {
      "model_module": "@jupyter-widgets/controls",
      "model_module_version": "1.5.0",
      "model_name": "DescriptionStyleModel",
      "state": {
       "description_width": "initial"
      }
     },
     "928ce569977748e0921c1b5f33f1eb12": {
      "model_module": "@jupyter-widgets/controls",
      "model_module_version": "1.5.0",
      "model_name": "ButtonModel",
      "state": {
       "description": "Select",
       "layout": "IPY_MODEL_5c690773c63f45c486d077a3106e90d5",
       "style": "IPY_MODEL_cc025c3082cd4ecabe1bb1b1589e760e"
      }
     },
     "92b02aec42c946c3963233858c36c7c6": {
      "model_module": "@jupyter-widgets/controls",
      "model_module_version": "1.5.0",
      "model_name": "DescriptionStyleModel",
      "state": {
       "description_width": "initial"
      }
     },
     "934d94b6528644f1b8a30f6c97a4a8e8": {
      "model_module": "@jupyter-widgets/base",
      "model_module_version": "1.2.0",
      "model_name": "LayoutModel",
      "state": {}
     },
     "93b3e415cbea43ffbe40f35fbac552a5": {
      "model_module": "@jupyter-widgets/base",
      "model_module_version": "1.2.0",
      "model_name": "LayoutModel",
      "state": {}
     },
     "93ee1a14c86c47c490ab7a0c47b40fef": {
      "model_module": "@jupyter-widgets/controls",
      "model_module_version": "1.5.0",
      "model_name": "DescriptionStyleModel",
      "state": {
       "description_width": ""
      }
     },
     "9509afba1e4a482e856880584ab638c7": {
      "model_module": "@jupyter-widgets/controls",
      "model_module_version": "1.5.0",
      "model_name": "ButtonStyleModel",
      "state": {}
     },
     "95a0b3b3380841f393ddd5a3f5c1d370": {
      "model_module": "@jupyter-widgets/controls",
      "model_module_version": "1.5.0",
      "model_name": "FloatTextModel",
      "state": {
       "description": "Grid Resolution (m)",
       "layout": "IPY_MODEL_0984064a246443f38e06cb301db309a1",
       "step": null,
       "style": "IPY_MODEL_12db985e5c94476b9121a6bde87b6ae6"
      }
     },
     "95d25410d3d64948be30cacf67b5c660": {
      "model_module": "@jupyter-widgets/base",
      "model_module_version": "1.2.0",
      "model_name": "LayoutModel",
      "state": {
       "display": "none",
       "width": "auto"
      }
     },
     "96194340481d43cf9e22d63934604590": {
      "model_module": "@jupyter-widgets/controls",
      "model_module_version": "1.5.0",
      "model_name": "VBoxModel",
      "state": {
       "children": [
        "IPY_MODEL_1b3dcec330ed46eb982f5cf5870c1cde",
        "IPY_MODEL_0d671004921845689b9b0ba6c3075698"
       ],
       "layout": "IPY_MODEL_21afddee94b2455bbab4e0104431230e"
      }
     },
     "963d2c5e9fed4e49beb8dd6c55ce5703": {
      "model_module": "@jupyter-widgets/controls",
      "model_module_version": "1.5.0",
      "model_name": "FloatSliderModel",
      "state": {
       "continuous_update": false,
       "description": "Width",
       "layout": "IPY_MODEL_cf4c09aea8e0450a976e1462bec06c79",
       "max": 7335.505938563321,
       "step": 0.1,
       "style": "IPY_MODEL_8e8047bdc1334ee2aa92e379c9ce95f7",
       "value": 3667.7529692816606
      }
     },
     "96e0e770c3ea4bbe9da99caf401bcbbf": {
      "model_module": "@jupyter-widgets/controls",
      "model_module_version": "1.5.0",
      "model_name": "DescriptionStyleModel",
      "state": {
       "description_width": ""
      }
     },
     "97dc026dba714a73b4e9677fef2d9d08": {
      "model_module": "@jupyter-widgets/base",
      "model_module_version": "1.2.0",
      "model_name": "LayoutModel",
      "state": {}
     },
     "981aa695e13045f1bcf5c07be4657b43": {
      "model_module": "@jupyter-widgets/controls",
      "model_module_version": "1.5.0",
      "model_name": "ButtonModel",
      "state": {
       "description": "Cancel",
       "layout": "IPY_MODEL_d1579166614542a68548ad8e15fdc8b8",
       "style": "IPY_MODEL_0325d3bd6f144e0194f851aed11ed0d1"
      }
     },
     "983d296bca6447ca8c88487387a516a3": {
      "model_module": "@jupyter-widgets/base",
      "model_module_version": "1.2.0",
      "model_name": "LayoutModel",
      "state": {}
     },
     "984de7051e9c4dc9b26561e0e5b67905": {
      "model_module": "@jupyter-widgets/base",
      "model_module_version": "1.2.0",
      "model_name": "LayoutModel",
      "state": {
       "grid_area": "dircontent",
       "width": "auto"
      }
     },
     "9961feec85194b529d3c53c0697621cf": {
      "model_module": "@jupyter-widgets/controls",
      "model_module_version": "1.5.0",
      "model_name": "LabelModel",
      "state": {
       "layout": "IPY_MODEL_8d5c62f874454579ae016b02b716a471",
       "style": "IPY_MODEL_0f5d8e0983f64a29a56d4dfd28a42838",
       "value": "Workspace"
      }
     },
     "996ff7f7b3a14745915709b64d1dbb18": {
      "model_module": "@jupyter-widgets/controls",
      "model_module_version": "1.5.0",
      "model_name": "VBoxModel",
      "state": {
       "children": [
        "IPY_MODEL_d3a30fd35fa947ac862eca6d198b84ad",
        "IPY_MODEL_6099a6520acf4ec5bd2621f8c45bcd7c"
       ],
       "layout": "IPY_MODEL_ac20891ffed24cb9ac501cd0746b2b6c"
      }
     },
     "99a0535770f041e5918ff072076e576e": {
      "model_module": "@jupyter-widgets/base",
      "model_module_version": "1.2.0",
      "model_name": "LayoutModel",
      "state": {}
     },
     "99a3dc0e8d424824a68bcab4382320f0": {
      "model_module": "@jupyter-widgets/controls",
      "model_module_version": "1.5.0",
      "model_name": "DescriptionStyleModel",
      "state": {
       "description_width": "initial"
      }
     },
     "99f48ab1b12c44c1a4d5915c53959ce9": {
      "model_module": "@jupyter-widgets/controls",
      "model_module_version": "1.5.0",
      "model_name": "DescriptionStyleModel",
      "state": {
       "description_width": ""
      }
     },
     "9a562a908a2d4604bf505ab7d2d91e55": {
      "model_module": "@jupyter-widgets/controls",
      "model_module_version": "1.5.0",
      "model_name": "VBoxModel",
      "state": {
       "children": [
        "IPY_MODEL_9961feec85194b529d3c53c0697621cf",
        "IPY_MODEL_a2563998ecef4f479b727657e631276d"
       ],
       "layout": "IPY_MODEL_89659d0dc074453abe2c6406c9df3650"
      }
     },
     "9a5df2e46cd14b3c9c68094fcc0c3e68": {
      "model_module": "@jupyter-widgets/controls",
      "model_module_version": "1.5.0",
      "model_name": "ButtonModel",
      "state": {
       "button_style": "danger",
       "description": "Compute",
       "icon": "check",
       "layout": "IPY_MODEL_90227a383a574b45a6ab2be8e0264193",
       "style": "IPY_MODEL_8838a1ae1e7d4deaa6fc54689047c5c1",
       "tooltip": "Run computation"
      }
     },
     "9a883ed89fe044288114df6d37a1c434": {
      "model_module": "@jupyter-widgets/controls",
      "model_module_version": "1.5.0",
      "model_name": "DescriptionStyleModel",
      "state": {
       "description_width": ""
      }
     },
     "9a93f970380f48d7924ccdb644a98fe4": {
      "model_module": "@jupyter-widgets/controls",
      "model_module_version": "1.5.0",
      "model_name": "DescriptionStyleModel",
      "state": {
       "description_width": ""
      }
     },
     "9aca8e5723ed4e80a1efd701fbac9b8b": {
      "model_module": "@jupyter-widgets/base",
      "model_module_version": "1.2.0",
      "model_name": "LayoutModel",
      "state": {}
     },
     "9af5f99f239c4f8b8e119de3ba8bb391": {
      "model_module": "@jupyter-widgets/controls",
      "model_module_version": "1.5.0",
      "model_name": "DescriptionStyleModel",
      "state": {
       "description_width": ""
      }
     },
     "9b395afc4dff4011be1a26491ceb2d88": {
      "model_module": "@jupyter-widgets/base",
      "model_module_version": "1.2.0",
      "model_name": "LayoutModel",
      "state": {}
     },
     "9c5aa74614004a8ba305989a43459bab": {
      "model_module": "@jupyter-widgets/controls",
      "model_module_version": "1.5.0",
      "model_name": "DropdownModel",
      "state": {
       "_options_labels": [
        "",
        "--- Channels ---",
        "Airborne_Gxx",
        "Airborne_Gxy",
        "Airborne_Gxz",
        "Airborne_Gyy",
        "Airborne_Gyz",
        "Airborne_Gz",
        "Airborne_Gzz",
        "Airborne_TMI",
        "Ground_Gz",
        "Z"
       ],
       "description": "Data: ",
       "index": 9,
       "layout": "IPY_MODEL_cc52ba75b4e14128a92c3372d59cd72e",
       "style": "IPY_MODEL_6f5b8f4e061b4239b0d9b5885b06bc6d"
      }
     },
     "9c7cff6f2bb64fcdb13a5c5e3275c301": {
      "model_module": "@jupyter-widgets/controls",
      "model_module_version": "1.5.0",
      "model_name": "GridBoxModel",
      "state": {
       "children": [
        "IPY_MODEL_23f1c2ae20a74593ae9f9d4dcdcfc578",
        "IPY_MODEL_4aafb841ffc64641b6eb67df81388fa2",
        "IPY_MODEL_c95fb6eeee524f6ea98b7cfa8b8c2650"
       ],
       "layout": "IPY_MODEL_6e9c9707c71e4d54ac8cbbe353472285"
      }
     },
     "9d0247222fe446778318dc3dd7f114fe": {
      "model_module": "@jupyter-widgets/controls",
      "model_module_version": "1.5.0",
      "model_name": "DescriptionStyleModel",
      "state": {
       "description_width": ""
      }
     },
     "9d183345c274426fb284b28b25ce0a3d": {
      "model_module": "@jupyter-widgets/base",
      "model_module_version": "1.2.0",
      "model_name": "LayoutModel",
      "state": {}
     },
     "9d286d20f3534f69be97268835c7a75c": {
      "model_module": "@jupyter-widgets/controls",
      "model_module_version": "1.5.0",
      "model_name": "SelectModel",
      "state": {
       "_options_labels": [
        "..",
        "images"
       ],
       "index": null,
       "layout": "IPY_MODEL_67120df01ea54fea9d2a4b23d3c964b4",
       "rows": 8,
       "style": "IPY_MODEL_2a77f06ecc524962806cd843149f6f31"
      }
     },
     "9d2a15aadea048c8a5e153a1c8c4f1de": {
      "model_module": "@jupyter-widgets/controls",
      "model_module_version": "1.5.0",
      "model_name": "DescriptionStyleModel",
      "state": {
       "description_width": ""
      }
     },
     "9d666606ecf34a17aff61ea8d6024e6d": {
      "model_module": "@jupyter-widgets/controls",
      "model_module_version": "1.5.0",
      "model_name": "DescriptionStyleModel",
      "state": {
       "description_width": ""
      }
     },
     "9e08fd17b397461b959b72ae53a1d272": {
      "model_module": "@jupyter-widgets/controls",
      "model_module_version": "1.5.0",
      "model_name": "VBoxModel",
      "state": {
       "children": [
        "IPY_MODEL_8d8ef33df37948abb5d7e7649b756116",
        "IPY_MODEL_7f3f20b6d3964d8b8e0ff96512feb624"
       ],
       "layout": "IPY_MODEL_9e8886a27c974a7abfdd445957f20f0c"
      }
     },
     "9e2ef7cd7b644839a967a4fc4bee3b6b": {
      "model_module": "@jupyter-widgets/base",
      "model_module_version": "1.2.0",
      "model_name": "LayoutModel",
      "state": {}
     },
     "9e3827f1e49c4f24b7218fff96b4461a": {
      "model_module": "@jupyter-widgets/base",
      "model_module_version": "1.2.0",
      "model_name": "LayoutModel",
      "state": {}
     },
     "9e8886a27c974a7abfdd445957f20f0c": {
      "model_module": "@jupyter-widgets/base",
      "model_module_version": "1.2.0",
      "model_name": "LayoutModel",
      "state": {}
     },
     "9e913b7954224eec8a33c54630545740": {
      "model_module": "@jupyter-widgets/controls",
      "model_module_version": "1.5.0",
      "model_name": "DropdownModel",
      "state": {
       "_options_labels": [
        "C:\\Users\\dominiquef\\Documents\\GIT\\mira\\mirageoscience-apps\\docs\\content\\applications",
        "C:\\Users\\dominiquef\\Documents\\GIT\\mira\\mirageoscience-apps\\docs\\content",
        "C:\\Users\\dominiquef\\Documents\\GIT\\mira\\mirageoscience-apps\\docs",
        "C:\\Users\\dominiquef\\Documents\\GIT\\mira\\mirageoscience-apps",
        "C:\\Users\\dominiquef\\Documents\\GIT\\mira",
        "C:\\Users\\dominiquef\\Documents\\GIT",
        "C:\\Users\\dominiquef\\Documents",
        "C:\\Users\\dominiquef",
        "C:\\Users",
        "C:\\",
        "D:\\",
        "Z:\\"
       ],
       "index": 0,
       "layout": "IPY_MODEL_47fd1b152f7b42c6bd3548f393680a05",
       "style": "IPY_MODEL_3a73e6a273af43cbaf9b79b348fdac42"
      }
     },
     "9ec466b93260493689bee7dcf9d050e8": {
      "model_module": "@jupyter-widgets/base",
      "model_module_version": "1.2.0",
      "model_name": "LayoutModel",
      "state": {}
     },
     "9ee2288ec43d4c36becc50c8a7797bca": {
      "model_module": "@jupyter-widgets/controls",
      "model_module_version": "1.5.0",
      "model_name": "DescriptionStyleModel",
      "state": {
       "description_width": "initial"
      }
     },
     "9f0cf833bfeb4f01b234adab71fe0ee3": {
      "model_module": "@jupyter-widgets/controls",
      "model_module_version": "1.5.0",
      "model_name": "FloatSliderModel",
      "state": {
       "continuous_update": false,
       "description": "Width",
       "layout": "IPY_MODEL_273a20f867d1457e8a325802cdc57cbd",
       "max": 7335.505938563321,
       "step": 0.1,
       "style": "IPY_MODEL_edeb4d925524466e949a3a26d652ba3f",
       "value": 3667.7529692816606
      }
     },
     "9f0f660b92974b0cb09dc23526e4eb89": {
      "model_module": "@jupyter-widgets/controls",
      "model_module_version": "1.5.0",
      "model_name": "TextModel",
      "state": {
       "layout": "IPY_MODEL_86a7471f096948708f31e67362f9713d",
       "placeholder": "output filename",
       "style": "IPY_MODEL_7d50fbf096024ee9be318c6810633a03",
       "value": "FlinFlon.geoh5"
      }
     },
     "a05db40189e8414899da752c9bf3aca9": {
      "model_module": "@jupyter-widgets/base",
      "model_module_version": "1.2.0",
      "model_name": "LayoutModel",
      "state": {
       "width": "auto"
      }
     },
     "a09cc3a604524ee0ade457935491a507": {
      "model_module": "@jupyter-widgets/controls",
      "model_module_version": "1.5.0",
      "model_name": "FloatSliderModel",
      "state": {
       "continuous_update": false,
       "description": "Azimuth",
       "layout": "IPY_MODEL_14354f1b4d3c4c99bd33c11c45cf9dcb",
       "max": 90,
       "min": -90,
       "step": 0.1,
       "style": "IPY_MODEL_ddac3a6d8ea34c12890ebfe46257475f"
      }
     },
     "a0b257424f60475db8f920bd887f5171": {
      "model_module": "@jupyter-widgets/controls",
      "model_module_version": "1.5.0",
      "model_name": "ButtonStyleModel",
      "state": {}
     },
     "a0f9844e182c427b97e40d15571b3659": {
      "model_module": "@jupyter-widgets/controls",
      "model_module_version": "1.5.0",
      "model_name": "DescriptionStyleModel",
      "state": {
       "description_width": ""
      }
     },
     "a1097af786214106b8e009285649cbe4": {
      "model_module": "@jupyter-widgets/controls",
      "model_module_version": "1.5.0",
      "model_name": "HTMLModel",
      "state": {
       "layout": "IPY_MODEL_55da41d40e094c27898b139fcb4bfd79",
       "style": "IPY_MODEL_9d2a15aadea048c8a5e153a1c8c4f1de"
      }
     },
     "a11565466e6243f09d0c7af9b51bf61f": {
      "model_module": "@jupyter-widgets/controls",
      "model_module_version": "1.5.0",
      "model_name": "FloatSliderModel",
      "state": {
       "continuous_update": false,
       "description": "Northing",
       "layout": "IPY_MODEL_03dc180bab094a3faaddb16888ac0c4d",
       "max": 6076443.652111261,
       "min": 6065091.787108775,
       "orientation": "vertical",
       "step": 0.1,
       "style": "IPY_MODEL_4f1cb2fa016f453bbcfab3fdb857dfe5",
       "value": 6070767.719610019
      }
     },
     "a125a4e73b264150bd7ad00d2bcfb4a8": {
      "model_module": "@jupyter-widgets/base",
      "model_module_version": "1.2.0",
      "model_name": "LayoutModel",
      "state": {}
     },
     "a12b5d49ea1e4f96bfa54443d1641b83": {
      "model_module": "@jupyter-widgets/base",
      "model_module_version": "1.2.0",
      "model_name": "LayoutModel",
      "state": {
       "width": "auto"
      }
     },
     "a13c513b4af641ababf0ef2e309676f2": {
      "model_module": "@jupyter-widgets/controls",
      "model_module_version": "1.5.0",
      "model_name": "SliderStyleModel",
      "state": {
       "description_width": ""
      }
     },
     "a16069c4cb394b4a84cfa9827d9d7500": {
      "model_module": "@jupyter-widgets/controls",
      "model_module_version": "1.5.0",
      "model_name": "ButtonStyleModel",
      "state": {}
     },
     "a17104c0cfb040b58a4dd51a5fd2ddcc": {
      "model_module": "@jupyter-widgets/controls",
      "model_module_version": "1.5.0",
      "model_name": "FloatSliderModel",
      "state": {
       "continuous_update": false,
       "description": "Height",
       "layout": "IPY_MODEL_97dc026dba714a73b4e9677fef2d9d08",
       "max": 13622.238002983107,
       "orientation": "vertical",
       "step": 10,
       "style": "IPY_MODEL_78049c385cc54e1ca5d583497234e318",
       "value": 6811.119001491554
      }
     },
     "a1a0ddf6fc6743cc96b4b65e79a416f5": {
      "model_module": "@jupyter-widgets/base",
      "model_module_version": "1.2.0",
      "model_name": "LayoutModel",
      "state": {}
     },
     "a2235960847a47eb9968191866edf65b": {
      "model_module": "@jupyter-widgets/controls",
      "model_module_version": "1.5.0",
      "model_name": "DescriptionStyleModel",
      "state": {
       "description_width": ""
      }
     },
     "a232f147971649238c4362af925ba777": {
      "model_module": "@jupyter-widgets/base",
      "model_module_version": "1.2.0",
      "model_name": "LayoutModel",
      "state": {
       "display": "none",
       "grid_gap": "0px 0px",
       "grid_template_areas": "\n                    'pathlist filename'\n                    'dircontent dircontent'\n                    ",
       "grid_template_columns": "60% 40%",
       "grid_template_rows": "auto auto",
       "width": "500px"
      }
     },
     "a2563998ecef4f479b727657e631276d": {
      "model_module": "@jupyter-widgets/controls",
      "model_module_version": "1.5.0",
      "model_name": "HBoxModel",
      "state": {
       "children": [
        "IPY_MODEL_7f87ce61243b4b70a08dde49c96c82d5",
        "IPY_MODEL_703ba76ce42e4a318d83c902ec4ea5f2"
       ],
       "layout": "IPY_MODEL_3dd3ee74bdcf43f8a9e15f77dfe2c32e"
      }
     },
     "a25adb8198dd4b9887f738f74778a6d3": {
      "model_module": "@jupyter-widgets/base",
      "model_module_version": "1.2.0",
      "model_name": "LayoutModel",
      "state": {
       "align_items": "center"
      }
     },
     "a278864c348341f8ab52acb2e0763e56": {
      "model_module": "@jupyter-widgets/controls",
      "model_module_version": "1.5.0",
      "model_name": "LabelModel",
      "state": {
       "layout": "IPY_MODEL_8372afb4816e4ae280530aa81b73b65b",
       "style": "IPY_MODEL_692bf50b0eff4e7185a15e4d81f6890a",
       "value": "Monitoring folder"
      }
     },
     "a2cea3785d8e497dbfb9689130971e8b": {
      "model_module": "@jupyter-widgets/controls",
      "model_module_version": "1.5.0",
      "model_name": "HTMLModel",
      "state": {
       "layout": "IPY_MODEL_d995aea438214880a1bbec83ffc91f35",
       "style": "IPY_MODEL_ae69d470a60940a0bfe8e001e323962e"
      }
     },
     "a2da442cff524caa8a7f37e9f5a06150": {
      "model_module": "@jupyter-widgets/controls",
      "model_module_version": "1.5.0",
      "model_name": "DescriptionStyleModel",
      "state": {
       "description_width": "initial"
      }
     },
     "a2dcdad9c3954239abd5f8ceb382e53a": {
      "model_module": "@jupyter-widgets/base",
      "model_module_version": "1.2.0",
      "model_name": "LayoutModel",
      "state": {}
     },
     "a330be184e4e486bb516a93d8947be75": {
      "model_module": "@jupyter-widgets/controls",
      "model_module_version": "1.5.0",
      "model_name": "DescriptionStyleModel",
      "state": {
       "description_width": ""
      }
     },
     "a33e58a17ba5452dbb7dc1e49b2d2476": {
      "model_module": "@jupyter-widgets/controls",
      "model_module_version": "1.5.0",
      "model_name": "GridBoxModel",
      "state": {
       "children": [
        "IPY_MODEL_8a6fcbef0b564fbba97a078d9a8be4fa",
        "IPY_MODEL_c560febf2b5f49429a069aa5d21fa1f7",
        "IPY_MODEL_ce7ad2f03d104fbc93d49c4d80f1d004"
       ],
       "layout": "IPY_MODEL_7c15afc1dae342a097a9f1584a976d82"
      }
     },
     "a3867ce991d0463fa8ba3bd3afe8aa72": {
      "model_module": "@jupyter-widgets/controls",
      "model_module_version": "1.5.0",
      "model_name": "SelectModel",
      "state": {
       "_options_labels": [
        "..",
        "Temp",
        "dask-worker-space",
        "Crossplot.html",
        "FlinFlon.geoh5",
        "FlinFlon_light.geoh5",
        "MtDore_TMI.geoh5"
       ],
       "index": 4,
       "layout": "IPY_MODEL_668fdc8fa48e465ea29dacbc038ce816",
       "rows": 8,
       "style": "IPY_MODEL_9a883ed89fe044288114df6d37a1c434"
      }
     },
     "a3ede07018444d84982f6b2e1c51286e": {
      "model_module": "@jupyter-widgets/controls",
      "model_module_version": "1.5.0",
      "model_name": "HTMLModel",
      "state": {
       "layout": "IPY_MODEL_cd19aeaad1fd4dfabc303e8b4b8467d4",
       "style": "IPY_MODEL_5c035154fa064de8a2add1d861091112"
      }
     },
     "a408c3d2c6d6468f99acb4a54e323de5": {
      "model_module": "@jupyter-widgets/controls",
      "model_module_version": "1.5.0",
      "model_name": "SelectModel",
      "state": {
       "_options_labels": [
        "..",
        "images"
       ],
       "index": null,
       "layout": "IPY_MODEL_856096dc78f54997a6db5eab42e7d901",
       "rows": 8,
       "style": "IPY_MODEL_47745845254f4ac4a2d2afe04a62b21f"
      }
     },
     "a40c2d3ce61944f3acb52fee24edd02b": {
      "model_module": "@jupyter-widgets/base",
      "model_module_version": "1.2.0",
      "model_name": "LayoutModel",
      "state": {}
     },
     "a4141039119842d4a8c9bb462a2dfb22": {
      "model_module": "@jupyter-widgets/base",
      "model_module_version": "1.2.0",
      "model_name": "LayoutModel",
      "state": {}
     },
     "a4204f42822e4e949fc18dd6de704d6e": {
      "model_module": "@jupyter-widgets/base",
      "model_module_version": "1.2.0",
      "model_name": "LayoutModel",
      "state": {
       "grid_area": "dircontent",
       "width": "auto"
      }
     },
     "a461e917a6a74fdca0495eadf99c426d": {
      "model_module": "@jupyter-widgets/output",
      "model_module_version": "1.0.0",
      "model_name": "OutputModel",
      "state": {
       "layout": "IPY_MODEL_84b6831fd2f5450a9439f938c67ca28e",
       "outputs": [
        {
         "data": {
          "image/png": "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\n",
          "text/plain": "<Figure size 720x720 with 1 Axes>"
         },
         "metadata": {
          "needs_background": "light"
         },
         "output_type": "display_data"
        }
       ]
      }
     },
     "a483370ca7ef4d8f9ec66b9e982c73d7": {
      "model_module": "@jupyter-widgets/base",
      "model_module_version": "1.2.0",
      "model_name": "LayoutModel",
      "state": {}
     },
     "a48afe7c2d75446f8da03b3ebe854353": {
      "model_module": "@jupyter-widgets/base",
      "model_module_version": "1.2.0",
      "model_name": "LayoutModel",
      "state": {}
     },
     "a582b67bfabc403ba4856d804a1ebe90": {
      "model_module": "@jupyter-widgets/base",
      "model_module_version": "1.2.0",
      "model_name": "LayoutModel",
      "state": {
       "display": "none",
       "grid_gap": "0px 0px",
       "grid_template_areas": "\n                    'pathlist pathlist'\n                    'dircontent dircontent'\n                    ",
       "grid_template_columns": "60% 40%",
       "grid_template_rows": "auto auto",
       "width": "500px"
      }
     },
     "a64c80435320476cabda4620c07b7589": {
      "model_module": "@jupyter-widgets/controls",
      "model_module_version": "1.5.0",
      "model_name": "FloatSliderModel",
      "state": {
       "continuous_update": false,
       "description": "Easting",
       "layout": "IPY_MODEL_ecf5df9979544b1fa42d818e0b5b2112",
       "max": 319967.7557301139,
       "min": 311165.14860383794,
       "step": 10,
       "style": "IPY_MODEL_3d5d99d1927442a2b291a71f3cc2998d",
       "value": 315566.45216697594
      }
     },
     "a64cb88a431047aa9d64ee93e3c74aaf": {
      "model_module": "@jupyter-widgets/controls",
      "model_module_version": "1.5.0",
      "model_name": "DescriptionStyleModel",
      "state": {
       "description_width": "initial"
      }
     },
     "a6b3456a26b042b0866e6559090c52fa": {
      "model_module": "@jupyter-widgets/controls",
      "model_module_version": "1.5.0",
      "model_name": "DescriptionStyleModel",
      "state": {
       "description_width": ""
      }
     },
     "a73c607a7f5c4580b697f7e07d29f8c1": {
      "model_module": "@jupyter-widgets/controls",
      "model_module_version": "1.5.0",
      "model_name": "VBoxModel",
      "state": {
       "children": [
        "IPY_MODEL_65c5e7d58f1a4e95b04a2ee3c9ef75fd"
       ],
       "layout": "IPY_MODEL_4e17e4e0405c4061a0707f406a364db6"
      }
     },
     "a7792128e66a457983d6848c99f86568": {
      "model_module": "@jupyter-widgets/controls",
      "model_module_version": "1.5.0",
      "model_name": "CheckboxModel",
      "state": {
       "description": "GA Pro - Live link",
       "disabled": false,
       "indent": false,
       "layout": "IPY_MODEL_e0718426917644b9a9c5c9b3f157e9fa",
       "style": "IPY_MODEL_aefd39250d464134bbb435b318637bda",
       "value": false
      }
     },
     "a78afef4b67145f2b23c4de97ca686a8": {
      "model_module": "@jupyter-widgets/controls",
      "model_module_version": "1.5.0",
      "model_name": "ButtonModel",
      "state": {
       "description": "Cancel",
       "layout": "IPY_MODEL_27ae93aa159a40328de919ee27d3b2f5",
       "style": "IPY_MODEL_5306f2ab9ad84a8c908f4c9356257ea7"
      }
     },
     "a7a410336ebb4ac5b137860aa09a2ac1": {
      "model_module": "@jupyter-widgets/controls",
      "model_module_version": "1.5.0",
      "model_name": "FloatSliderModel",
      "state": {
       "continuous_update": false,
       "description": "Easting",
       "layout": "IPY_MODEL_a125a4e73b264150bd7ad00d2bcfb4a8",
       "max": 319234.2051362576,
       "min": 311898.69919769425,
       "step": 0.1,
       "style": "IPY_MODEL_0ac2319ed5e54f6f86c337063c5a8d3a",
       "value": 315566.45216697594
      }
     },
     "a7c33e6c4b71409682b7778927e7479e": {
      "model_module": "@jupyter-widgets/base",
      "model_module_version": "1.2.0",
      "model_name": "LayoutModel",
      "state": {
       "display": "none",
       "width": "auto"
      }
     },
     "a7c45024128f4de5ba123bd13cf23c22": {
      "model_module": "@jupyter-widgets/controls",
      "model_module_version": "1.5.0",
      "model_name": "VBoxModel",
      "state": {
       "children": [
        "IPY_MODEL_76dfeba1174244a3b120c0966fd4170f",
        "IPY_MODEL_a64c80435320476cabda4620c07b7589",
        "IPY_MODEL_80a0d2f78feb42219c8133b4b33a715f",
        "IPY_MODEL_08b005e16ff64e5db8d3be5ce622a67c",
        "IPY_MODEL_f97c8db9818040819a670c1e0f91d967"
       ],
       "layout": "IPY_MODEL_61cd9b8807494b20a897734168c8ea51"
      }
     },
     "a7e0daf8b4c9478fa8b6b110756201c4": {
      "model_module": "@jupyter-widgets/controls",
      "model_module_version": "1.5.0",
      "model_name": "SliderStyleModel",
      "state": {
       "description_width": ""
      }
     },
     "a80f40a91a7e4e599c7bae37aace0de1": {
      "model_module": "@jupyter-widgets/base",
      "model_module_version": "1.2.0",
      "model_name": "LayoutModel",
      "state": {}
     },
     "a82baf6348624fffb12093d65fecc34d": {
      "model_module": "@jupyter-widgets/base",
      "model_module_version": "1.2.0",
      "model_name": "LayoutModel",
      "state": {}
     },
     "a82ffddc572b4429b8d8b92a576c4797": {
      "model_module": "@jupyter-widgets/controls",
      "model_module_version": "1.5.0",
      "model_name": "FloatSliderModel",
      "state": {
       "continuous_update": false,
       "description": "Easting",
       "layout": "IPY_MODEL_6f1e92e92b914c0dba259b49efa9fd1a",
       "max": 319234.2051362576,
       "min": 311898.69919769425,
       "step": 10,
       "style": "IPY_MODEL_8ffbc6a1854f4da5a5099641a36b2e02",
       "value": 315566.45216697594
      }
     },
     "a889c2dae2184b178ff29f65cea53ddd": {
      "model_module": "@jupyter-widgets/base",
      "model_module_version": "1.2.0",
      "model_name": "LayoutModel",
      "state": {}
     },
     "a92c4b0547d24a73be54f794a1240230": {
      "model_module": "@jupyter-widgets/controls",
      "model_module_version": "1.5.0",
      "model_name": "ButtonModel",
      "state": {
       "description": "Cancel",
       "layout": "IPY_MODEL_f9097380de22448d89cdf5f3d39c79d1",
       "style": "IPY_MODEL_da18294955344c0f8b62282db088f2e2"
      }
     },
     "a971bf71f3af4d99847a6bc161977050": {
      "model_module": "@jupyter-widgets/base",
      "model_module_version": "1.2.0",
      "model_name": "LayoutModel",
      "state": {}
     },
     "a988170b64fa4990b73ca4d4015cb966": {
      "model_module": "@jupyter-widgets/base",
      "model_module_version": "1.2.0",
      "model_name": "LayoutModel",
      "state": {
       "grid_area": "pathlist",
       "width": "auto"
      }
     },
     "a9b4476a3be94cb997c9c98c05600968": {
      "model_module": "@jupyter-widgets/controls",
      "model_module_version": "1.5.0",
      "model_name": "DescriptionStyleModel",
      "state": {
       "description_width": ""
      }
     },
     "aa8bafad3ebc46cbb9ca511d47394049": {
      "model_module": "@jupyter-widgets/controls",
      "model_module_version": "1.5.0",
      "model_name": "DescriptionStyleModel",
      "state": {
       "description_width": ""
      }
     },
     "ab3a7dc37d624de2b969432a0900df03": {
      "model_module": "@jupyter-widgets/controls",
      "model_module_version": "1.5.0",
      "model_name": "ButtonStyleModel",
      "state": {}
     },
     "ab7978a2e8aa42609776671a352dbf60": {
      "model_module": "@jupyter-widgets/base",
      "model_module_version": "1.2.0",
      "model_name": "LayoutModel",
      "state": {
       "display": "none",
       "width": "auto"
      }
     },
     "abfe158c350240d3bdcce41b82603f86": {
      "model_module": "@jupyter-widgets/controls",
      "model_module_version": "1.5.0",
      "model_name": "VBoxModel",
      "state": {
       "children": [
        "IPY_MODEL_af22465a344640b38f61f64a0d05e041",
        "IPY_MODEL_48b26089a8134f87810798c58943229f",
        "IPY_MODEL_415a4a5181a841dfbbf93792fc64cece"
       ],
       "layout": "IPY_MODEL_a05db40189e8414899da752c9bf3aca9"
      }
     },
     "ac023a8586ca4fc89a5cc00319be6ea1": {
      "model_module": "@jupyter-widgets/controls",
      "model_module_version": "1.5.0",
      "model_name": "ToggleButtonModel",
      "state": {
       "description": "Zoom on selection",
       "icon": "check",
       "layout": "IPY_MODEL_d12e2fa2ef3c45dcb86c2365a6803b3f",
       "style": "IPY_MODEL_3fc545adfccb4df392ff98a346383a30",
       "tooltip": "Keep plot extent on selection",
       "value": true
      }
     },
     "ac20891ffed24cb9ac501cd0746b2b6c": {
      "model_module": "@jupyter-widgets/base",
      "model_module_version": "1.2.0",
      "model_name": "LayoutModel",
      "state": {}
     },
     "ac4d2a136e59454388e96bcf7bd597dc": {
      "model_module": "@jupyter-widgets/controls",
      "model_module_version": "1.5.0",
      "model_name": "TextModel",
      "state": {
       "layout": "IPY_MODEL_3457e8a7192a41ada6d80e6e56d5382b",
       "placeholder": "output filename",
       "style": "IPY_MODEL_2f3d17e8888b49e78f19a3c6c87442fc",
       "value": "FlinFlon.geoh5"
      }
     },
     "ac7cacb9479046acb045b970cedfe50f": {
      "model_module": "@jupyter-widgets/base",
      "model_module_version": "1.2.0",
      "model_name": "LayoutModel",
      "state": {}
     },
     "acb2689f5d394207b00c36db4aac96cd": {
      "model_module": "@jupyter-widgets/controls",
      "model_module_version": "1.5.0",
      "model_name": "ButtonStyleModel",
      "state": {}
     },
     "ad69e9dad392452cb84cbf2d7a12c304": {
      "model_module": "@jupyter-widgets/base",
      "model_module_version": "1.2.0",
      "model_name": "LayoutModel",
      "state": {}
     },
     "ad8c53ccff0a4e2ca74b86b9ccea3860": {
      "model_module": "@jupyter-widgets/controls",
      "model_module_version": "1.5.0",
      "model_name": "VBoxModel",
      "state": {
       "children": [
        "IPY_MODEL_3013443408044444886af8fc6577383b",
        "IPY_MODEL_c53cee79fa50406ab997d7f62fef6a70"
       ],
       "layout": "IPY_MODEL_6bd3217688a2499092671fb78fd601cd"
      }
     },
     "ad97c7125353405399d49c8c65b9b5d1": {
      "model_module": "@jupyter-widgets/controls",
      "model_module_version": "1.5.0",
      "model_name": "DescriptionStyleModel",
      "state": {
       "description_width": "initial"
      }
     },
     "ada9e8b2011e4cd0868b070933897ca5": {
      "model_module": "@jupyter-widgets/controls",
      "model_module_version": "1.5.0",
      "model_name": "VBoxModel",
      "state": {
       "children": [
        "IPY_MODEL_3cb6be906c5c486a9901865c263322b9",
        "IPY_MODEL_24d189b3ba164f06b1526cf4bb0e6ef7"
       ],
       "layout": "IPY_MODEL_b23a07fcef3e44cea4601346d34ad151"
      }
     },
     "adb5137688614540a666a777e3d1a5ca": {
      "model_module": "@jupyter-widgets/controls",
      "model_module_version": "1.5.0",
      "model_name": "HTMLModel",
      "state": {
       "layout": "IPY_MODEL_30a765a5ff23443b8861c8a410738bd5",
       "style": "IPY_MODEL_a9b4476a3be94cb997c9c98c05600968"
      }
     },
     "adf8f4e5033e4709b4feabca65beea09": {
      "model_module": "@jupyter-widgets/base",
      "model_module_version": "1.2.0",
      "model_name": "LayoutModel",
      "state": {}
     },
     "ae2687074d0c4d9eb9e6612af15c4b9f": {
      "model_module": "@jupyter-widgets/controls",
      "model_module_version": "1.5.0",
      "model_name": "ButtonModel",
      "state": {
       "description": "Select",
       "layout": "IPY_MODEL_4ba52d276220400ba1e4e60840a1cffe",
       "style": "IPY_MODEL_f0991ec3a85949969f239b63a252dc6f"
      }
     },
     "ae4636b6847e43128a06ad1dcdbc9df9": {
      "model_module": "@jupyter-widgets/controls",
      "model_module_version": "1.5.0",
      "model_name": "SliderStyleModel",
      "state": {
       "description_width": ""
      }
     },
     "ae69d470a60940a0bfe8e001e323962e": {
      "model_module": "@jupyter-widgets/controls",
      "model_module_version": "1.5.0",
      "model_name": "DescriptionStyleModel",
      "state": {
       "description_width": ""
      }
     },
     "ae72282ae591435882fdf29fcedc2d9c": {
      "model_module": "@jupyter-widgets/controls",
      "model_module_version": "1.5.0",
      "model_name": "DescriptionStyleModel",
      "state": {
       "description_width": "initial"
      }
     },
     "ae842dcf65c44a2fb72237269339ece2": {
      "model_module": "@jupyter-widgets/controls",
      "model_module_version": "1.5.0",
      "model_name": "SliderStyleModel",
      "state": {
       "description_width": ""
      }
     },
     "aecb5bc2b0474c43abd9926829ea2c25": {
      "model_module": "@jupyter-widgets/controls",
      "model_module_version": "1.5.0",
      "model_name": "DescriptionStyleModel",
      "state": {
       "description_width": ""
      }
     },
     "aefd39250d464134bbb435b318637bda": {
      "model_module": "@jupyter-widgets/controls",
      "model_module_version": "1.5.0",
      "model_name": "DescriptionStyleModel",
      "state": {
       "description_width": "initial"
      }
     },
     "af22465a344640b38f61f64a0d05e041": {
      "model_module": "@jupyter-widgets/controls",
      "model_module_version": "1.5.0",
      "model_name": "HTMLModel",
      "state": {
       "layout": "IPY_MODEL_6633f115fd5844ab99d1ae3728992d25",
       "style": "IPY_MODEL_277cac321eec47d8b5daffa3939700b7"
      }
     },
     "af3ec699c9a4483c816887a1a478cb67": {
      "model_module": "@jupyter-widgets/controls",
      "model_module_version": "1.5.0",
      "model_name": "FloatSliderModel",
      "state": {
       "continuous_update": false,
       "description": "Width",
       "layout": "IPY_MODEL_160c965573eb49f6ac1e0065f5c85d90",
       "max": 7335.505938563321,
       "step": 0.1,
       "style": "IPY_MODEL_14959983f3384d6c819de2b786560453",
       "value": 3667.7529692816606
      }
     },
     "af4dfed0eb614140b2f4ec172acf0ba1": {
      "model_module": "@jupyter-widgets/controls",
      "model_module_version": "1.5.0",
      "model_name": "DescriptionStyleModel",
      "state": {
       "description_width": ""
      }
     },
     "af8035ee201b4e9486107d1236854bef": {
      "model_module": "@jupyter-widgets/controls",
      "model_module_version": "1.5.0",
      "model_name": "ButtonStyleModel",
      "state": {}
     },
     "af9413565e714230b9ec3b85eb47579e": {
      "model_module": "@jupyter-widgets/base",
      "model_module_version": "1.2.0",
      "model_name": "LayoutModel",
      "state": {}
     },
     "b04be3b428ad4037801730e375dfc1a7": {
      "model_module": "@jupyter-widgets/controls",
      "model_module_version": "1.5.0",
      "model_name": "VBoxModel",
      "state": {
       "children": [
        "IPY_MODEL_baa3ebd5a9874f489db2cd1792ae4a7d",
        "IPY_MODEL_abfe158c350240d3bdcce41b82603f86"
       ],
       "layout": "IPY_MODEL_0d1b1c2b319d40c79be112906de28888"
      }
     },
     "b10b924c3a2d4016827b7c7fb5cb2bc3": {
      "model_module": "@jupyter-widgets/controls",
      "model_module_version": "1.5.0",
      "model_name": "CheckboxModel",
      "state": {
       "description": "GA Pro - Live link",
       "disabled": false,
       "indent": false,
       "layout": "IPY_MODEL_83b251345b994e09a60566e142bbc851",
       "style": "IPY_MODEL_516af62fcb3842a5bf71d5ce4a35fe60",
       "value": false
      }
     },
     "b136b2ac0dd14b90aae105a7ef33b9d9": {
      "model_module": "@jupyter-widgets/controls",
      "model_module_version": "1.5.0",
      "model_name": "VBoxModel",
      "state": {
       "children": [
        "IPY_MODEL_8b23ef9bd25f431e8291232be8dcc0ad"
       ],
       "layout": "IPY_MODEL_9e2ef7cd7b644839a967a4fc4bee3b6b"
      }
     },
     "b1c41b3030454df7a22208e77eb40528": {
      "model_module": "@jupyter-widgets/controls",
      "model_module_version": "1.5.0",
      "model_name": "VBoxModel",
      "state": {
       "children": [
        "IPY_MODEL_769e7f0c9058492bb10ac12ef26195a1",
        "IPY_MODEL_565076f5cee14051b1d9360661a75add",
        "IPY_MODEL_5dcbeda01b0e402bb318984863810f69"
       ],
       "layout": "IPY_MODEL_23b93f0c3e5e43f09abb902b43fbf7e5"
      }
     },
     "b1d49c4aded74a9193fbb7b07e206664": {
      "model_module": "@jupyter-widgets/controls",
      "model_module_version": "1.5.0",
      "model_name": "VBoxModel",
      "state": {
       "children": [
        "IPY_MODEL_5d40f7b99f564319920b6599becff915",
        "IPY_MODEL_4a719f7dbbd642dd8b3c97a3a0ec915d",
        "IPY_MODEL_f56e45052b3b4c97b89f16ec45069fee",
        "IPY_MODEL_1dcd10ef1cdf45fcbac7b6c60084de28",
        "IPY_MODEL_5cb240baa1dc437abc98b3e4b0bf38cc"
       ],
       "layout": "IPY_MODEL_36c2fea6174241179275b0ef569f1928"
      }
     },
     "b1e19a48098e4d64973b2b53ac5545c6": {
      "model_module": "@jupyter-widgets/base",
      "model_module_version": "1.2.0",
      "model_name": "LayoutModel",
      "state": {}
     },
     "b23a07fcef3e44cea4601346d34ad151": {
      "model_module": "@jupyter-widgets/base",
      "model_module_version": "1.2.0",
      "model_name": "LayoutModel",
      "state": {}
     },
     "b24c7b09bf944337af5dba8631bd4ce3": {
      "model_module": "@jupyter-widgets/controls",
      "model_module_version": "1.5.0",
      "model_name": "HBoxModel",
      "state": {
       "children": [
        "IPY_MODEL_36a4dc4bb9aa42a39c9dcaf56b3b66dd",
        "IPY_MODEL_d64c712ebdf5409baa4cc3e6acd1288b",
        "IPY_MODEL_fc9db2cfb300461a9c266b220d982b81"
       ],
       "layout": "IPY_MODEL_c56dc9bf32b34ad1968ac48df0dc2eb8"
      }
     },
     "b2710c26548b42d8b050319625c58898": {
      "model_module": "@jupyter-widgets/controls",
      "model_module_version": "1.5.0",
      "model_name": "GridBoxModel",
      "state": {
       "children": [
        "IPY_MODEL_4cbcf1e30c1e494ea644ed49804b7009",
        "IPY_MODEL_dcde27b2f39345c7ae687faa1c037c6e",
        "IPY_MODEL_27b87017a9e446ba8034df14868518a2"
       ],
       "layout": "IPY_MODEL_0e0726d36b3c43589ded8bfec6a1871e"
      }
     },
     "b2bd8320ae574386a55f498ab395b84b": {
      "model_module": "@jupyter-widgets/controls",
      "model_module_version": "1.5.0",
      "model_name": "ButtonModel",
      "state": {
       "description": "Create copy:",
       "layout": "IPY_MODEL_c44bceac5ed94fdfa7c3a705e1ee16ac",
       "style": "IPY_MODEL_af8035ee201b4e9486107d1236854bef"
      }
     },
     "b2d7d851bc004599b4b3283afb3113fe": {
      "model_module": "@jupyter-widgets/controls",
      "model_module_version": "1.5.0",
      "model_name": "TextModel",
      "state": {
       "continuous_update": false,
       "description": "Contours",
       "layout": "IPY_MODEL_00121f5ed3ce423c9eeee40994708bf4",
       "style": "IPY_MODEL_96e0e770c3ea4bbe9da99caf401bcbbf"
      }
     },
     "b2f47b4d94e440babd3d184a3e3c5cda": {
      "model_module": "@jupyter-widgets/controls",
      "model_module_version": "1.5.0",
      "model_name": "ButtonStyleModel",
      "state": {}
     },
     "b30c167aea924d05aa93fc066f0fa3f6": {
      "model_module": "@jupyter-widgets/controls",
      "model_module_version": "1.5.0",
      "model_name": "VBoxModel",
      "state": {
       "children": [
        "IPY_MODEL_7c883656bd3a4c7d8fee64f5d23136e5",
        "IPY_MODEL_b136b2ac0dd14b90aae105a7ef33b9d9"
       ],
       "layout": "IPY_MODEL_8ff5010a1e0140dc93f4e2b0418ccc74"
      }
     },
     "b3767b220e9644e7b96bb2e61cb1e115": {
      "model_module": "@jupyter-widgets/base",
      "model_module_version": "1.2.0",
      "model_name": "LayoutModel",
      "state": {}
     },
     "b3878cc4b2bc4a87a2b83d8429ac3924": {
      "model_module": "@jupyter-widgets/controls",
      "model_module_version": "1.5.0",
      "model_name": "HBoxModel",
      "state": {
       "children": [
        "IPY_MODEL_72fdaff0a68d48f1b9993fcda7ea6a10",
        "IPY_MODEL_5d9147b2330444bc87caa29c45ecf539",
        "IPY_MODEL_5199b85e358542f3afe21e41b663e705"
       ],
       "layout": "IPY_MODEL_f037258e766c493aa3dac3f0930ee896"
      }
     },
     "b4148bf719d1408b96e75fd6172a5961": {
      "model_module": "@jupyter-widgets/controls",
      "model_module_version": "1.5.0",
      "model_name": "LabelModel",
      "state": {
       "layout": "IPY_MODEL_751464824a7b42c59eb18c54bcfe50de",
       "style": "IPY_MODEL_0df6b494daf64312b118398193033391",
       "value": "Data Count: 21362"
      }
     },
     "b48926de1a0040cb820961ba2b7c9cfc": {
      "model_module": "@jupyter-widgets/base",
      "model_module_version": "1.2.0",
      "model_name": "LayoutModel",
      "state": {}
     },
     "b4dfcfaa51e54dbba9b295f20ae9d601": {
      "model_module": "@jupyter-widgets/base",
      "model_module_version": "1.2.0",
      "model_name": "LayoutModel",
      "state": {
       "display": "none",
       "width": "auto"
      }
     },
     "b5cd0c4182714cfb8328cb7255622009": {
      "model_module": "@jupyter-widgets/base",
      "model_module_version": "1.2.0",
      "model_name": "LayoutModel",
      "state": {
       "width": "auto"
      }
     },
     "b5e081305f6b4e10b5929bde8ca8a97f": {
      "model_module": "@jupyter-widgets/controls",
      "model_module_version": "1.5.0",
      "model_name": "DescriptionStyleModel",
      "state": {
       "description_width": ""
      }
     },
     "b5e1767aff224c2eb7337d24f3a0da5f": {
      "model_module": "@jupyter-widgets/controls",
      "model_module_version": "1.5.0",
      "model_name": "DescriptionStyleModel",
      "state": {
       "description_width": ""
      }
     },
     "b5e1be266ce54e0992ad10af82b5ccfb": {
      "model_module": "@jupyter-widgets/controls",
      "model_module_version": "1.5.0",
      "model_name": "DescriptionStyleModel",
      "state": {
       "description_width": "initial"
      }
     },
     "b670f62d80dd46da904511afeff807b0": {
      "model_module": "@jupyter-widgets/controls",
      "model_module_version": "1.5.0",
      "model_name": "SelectModel",
      "state": {
       "_options_labels": [
        "..",
        "images"
       ],
       "index": null,
       "layout": "IPY_MODEL_f961af4d59fe47e4863a1c1744f5de40",
       "rows": 8,
       "style": "IPY_MODEL_2a677f1230f142a1970bda4115c905ff"
      }
     },
     "b6dae48a90564e3c841e985a7b03a0ec": {
      "model_module": "@jupyter-widgets/controls",
      "model_module_version": "1.5.0",
      "model_name": "CheckboxModel",
      "state": {
       "description": "GA Pro - Live link",
       "disabled": false,
       "indent": false,
       "layout": "IPY_MODEL_b1e19a48098e4d64973b2b53ac5545c6",
       "style": "IPY_MODEL_88c67ded7a2c4db8a23c846b9cb4ebfb",
       "value": false
      }
     },
     "b70692af0ed041d38e570a0616b2d7ad": {
      "model_module": "@jupyter-widgets/controls",
      "model_module_version": "1.5.0",
      "model_name": "DescriptionStyleModel",
      "state": {
       "description_width": ""
      }
     },
     "b731141695f24782b31680ea018c2b73": {
      "model_module": "@jupyter-widgets/controls",
      "model_module_version": "1.5.0",
      "model_name": "VBoxModel",
      "state": {
       "children": [
        "IPY_MODEL_f7f72d7e14ac423bbd7bb9ed9ca126a5",
        "IPY_MODEL_f6040ef1268545d7b8b7214abf03882f"
       ],
       "layout": "IPY_MODEL_073c7ac65be8487897d30e12215feb6b"
      }
     },
     "b7412339be834919aeef8c490f5aca0e": {
      "model_module": "@jupyter-widgets/controls",
      "model_module_version": "1.5.0",
      "model_name": "DescriptionStyleModel",
      "state": {
       "description_width": "initial"
      }
     },
     "b7623dd7944d4c1abd27269ccd50521b": {
      "model_module": "@jupyter-widgets/controls",
      "model_module_version": "1.5.0",
      "model_name": "TextModel",
      "state": {
       "disabled": true,
       "layout": "IPY_MODEL_d23f6e97f133458bacded2fde7a6ee5c",
       "placeholder": "output filename",
       "style": "IPY_MODEL_d16e8656c6a146d19d97a941256b1ddc"
      }
     },
     "b7e13ef8afd44784abca4d3060a7c788": {
      "model_module": "@jupyter-widgets/base",
      "model_module_version": "1.2.0",
      "model_name": "LayoutModel",
      "state": {}
     },
     "b8111841cae24158af2bccdc5ff3b20e": {
      "model_module": "@jupyter-widgets/base",
      "model_module_version": "1.2.0",
      "model_name": "LayoutModel",
      "state": {}
     },
     "b884080281704c8396f5dbdcfcfbab2a": {
      "model_module": "@jupyter-widgets/controls",
      "model_module_version": "1.5.0",
      "model_name": "HBoxModel",
      "state": {
       "children": [
        "IPY_MODEL_ae2687074d0c4d9eb9e6612af15c4b9f",
        "IPY_MODEL_f84e4d994659451ba565e75d33573e84",
        "IPY_MODEL_2c20dd62c07744a88822389a90296972"
       ],
       "layout": "IPY_MODEL_372589b4ca684ed7ac71bcd408f3feda"
      }
     },
     "b8b6d26091904dfb997ae2570f38cc1d": {
      "model_module": "@jupyter-widgets/base",
      "model_module_version": "1.2.0",
      "model_name": "LayoutModel",
      "state": {}
     },
     "b8d97428ae6242308207bfcdf729fe94": {
      "model_module": "@jupyter-widgets/controls",
      "model_module_version": "1.5.0",
      "model_name": "VBoxModel",
      "state": {
       "children": [
        "IPY_MODEL_b10b924c3a2d4016827b7c7fb5cb2bc3"
       ],
       "layout": "IPY_MODEL_3a5be4e734124aca92af9d59712e623f"
      }
     },
     "b8f494b414bb48bf93acc63e16d4f13e": {
      "model_module": "@jupyter-widgets/base",
      "model_module_version": "1.2.0",
      "model_name": "LayoutModel",
      "state": {
       "grid_area": "dircontent",
       "width": "auto"
      }
     },
     "b8f9c8a20926442ab9d3f4ef9f5326df": {
      "model_module": "@jupyter-widgets/base",
      "model_module_version": "1.2.0",
      "model_name": "LayoutModel",
      "state": {}
     },
     "baa3ebd5a9874f489db2cd1792ae4a7d": {
      "model_module": "@jupyter-widgets/controls",
      "model_module_version": "1.5.0",
      "model_name": "LabelModel",
      "state": {
       "layout": "IPY_MODEL_bade5cefec28410d96b57d665b990f93",
       "style": "IPY_MODEL_ce1532e20f9d497baafae93584f624cb",
       "value": "Monitoring folder"
      }
     },
     "bacc9bdd6cf5484288a7c5be5903295a": {
      "model_module": "@jupyter-widgets/controls",
      "model_module_version": "1.5.0",
      "model_name": "ToggleButtonModel",
      "state": {
       "layout": "IPY_MODEL_b8b6d26091904dfb997ae2570f38cc1d",
       "style": "IPY_MODEL_fccaac584cb14e81b7f6ade9c6919339",
       "value": true
      }
     },
     "bade5cefec28410d96b57d665b990f93": {
      "model_module": "@jupyter-widgets/base",
      "model_module_version": "1.2.0",
      "model_name": "LayoutModel",
      "state": {}
     },
     "bb87143153b3481595ab387f5484b9b9": {
      "model_module": "@jupyter-widgets/controls",
      "model_module_version": "1.5.0",
      "model_name": "VBoxModel",
      "state": {
       "children": [
        "IPY_MODEL_4248eaa61bae40909c82e99e8e2696ac",
        "IPY_MODEL_ffc808d478b94962aac45b46d56accda"
       ],
       "layout": "IPY_MODEL_469500d3442c4deba5ac6d03597b3fa1"
      }
     },
     "bc1c245792d8466ebad0d7e7bc36a0f1": {
      "model_module": "@jupyter-widgets/base",
      "model_module_version": "1.2.0",
      "model_name": "LayoutModel",
      "state": {}
     },
     "bc7263a25b9a421484d742ffe4d7f24f": {
      "model_module": "@jupyter-widgets/base",
      "model_module_version": "1.2.0",
      "model_name": "LayoutModel",
      "state": {}
     },
     "bcc520f023484bf48eb018d5e478f6b5": {
      "model_module": "@jupyter-widgets/controls",
      "model_module_version": "1.5.0",
      "model_name": "LabelModel",
      "state": {
       "layout": "IPY_MODEL_23e2d20ce0f94846928cf1ea8481d840",
       "style": "IPY_MODEL_7fa6c1ec5b9149738b4eb4c220c272b6",
       "value": "Data Count: 21362"
      }
     },
     "bcc661433279450d9bde1e6ae6ee2859": {
      "model_module": "@jupyter-widgets/base",
      "model_module_version": "1.2.0",
      "model_name": "LayoutModel",
      "state": {}
     },
     "bce00987d372485a97dc9945bc5dc27e": {
      "model_module": "@jupyter-widgets/controls",
      "model_module_version": "1.5.0",
      "model_name": "DescriptionStyleModel",
      "state": {
       "description_width": "initial"
      }
     },
     "bce2afb8af17485c81ead6c814813957": {
      "model_module": "@jupyter-widgets/base",
      "model_module_version": "1.2.0",
      "model_name": "LayoutModel",
      "state": {
       "display": "none"
      }
     },
     "bcf7aac8f76e452e86fa7aba0f6dd5d3": {
      "model_module": "@jupyter-widgets/base",
      "model_module_version": "1.2.0",
      "model_name": "LayoutModel",
      "state": {}
     },
     "bd567437ab2c43899d9ffb553a4fec69": {
      "model_module": "@jupyter-widgets/controls",
      "model_module_version": "1.5.0",
      "model_name": "DescriptionStyleModel",
      "state": {
       "description_width": ""
      }
     },
     "bd822ac331704784a99cdf12c6ce25d4": {
      "model_module": "@jupyter-widgets/controls",
      "model_module_version": "1.5.0",
      "model_name": "VBoxModel",
      "state": {
       "children": [
        "IPY_MODEL_5fe2a9f37af74fbea19038c1652dd265",
        "IPY_MODEL_dd4716826b3446198dbb4111df1a4e72"
       ],
       "layout": "IPY_MODEL_4e0f3e9a0c334dc2880be4d0a3ae3e45"
      }
     },
     "bd86c97508f84c588514c3473516d7c1": {
      "model_module": "@jupyter-widgets/controls",
      "model_module_version": "1.5.0",
      "model_name": "VBoxModel",
      "state": {
       "children": [
        "IPY_MODEL_71eebab3452f42a9a6c6970f239eb9d0",
        "IPY_MODEL_208ddc0e78cf4c1daef327c4aca31c61"
       ],
       "layout": "IPY_MODEL_a80f40a91a7e4e599c7bae37aace0de1"
      }
     },
     "bd95ef2b421f4cf8add87beba9b546b5": {
      "model_module": "@jupyter-widgets/base",
      "model_module_version": "1.2.0",
      "model_name": "LayoutModel",
      "state": {}
     },
     "bd97de95ad2c40849176ec73400a4b5a": {
      "model_module": "@jupyter-widgets/base",
      "model_module_version": "1.2.0",
      "model_name": "LayoutModel",
      "state": {}
     },
     "bdceebfa43974fbfb55218b00eceb055": {
      "model_module": "@jupyter-widgets/controls",
      "model_module_version": "1.5.0",
      "model_name": "DescriptionStyleModel",
      "state": {
       "description_width": ""
      }
     },
     "bdd7b58352584e60b861ab91a045d2b6": {
      "model_module": "@jupyter-widgets/controls",
      "model_module_version": "1.5.0",
      "model_name": "ButtonModel",
      "state": {
       "description": "Create copy:",
       "layout": "IPY_MODEL_4a5762da818e44ed94345032b89a1916",
       "style": "IPY_MODEL_33a1b76e56b34f68bd45cd61e961b506"
      }
     },
     "be28e11caf3a4bd4a762a86bec4a4d30": {
      "model_module": "@jupyter-widgets/controls",
      "model_module_version": "1.5.0",
      "model_name": "DescriptionStyleModel",
      "state": {
       "description_width": ""
      }
     },
     "bee983e92415425485b42190e3d5aba2": {
      "model_module": "@jupyter-widgets/controls",
      "model_module_version": "1.5.0",
      "model_name": "FloatSliderModel",
      "state": {
       "continuous_update": false,
       "description": "Northing",
       "layout": "IPY_MODEL_d0e32eafe36c4a9d9a67b1df84b29d78",
       "max": 6076443.652111261,
       "min": 6065091.787108775,
       "orientation": "vertical",
       "step": 10,
       "style": "IPY_MODEL_258a107a79a845778aaebdd2b1d8c473",
       "value": 6070767.719610019
      }
     },
     "bf3be8d7e61c46fd93b1862d47c5c0d9": {
      "model_module": "@jupyter-widgets/controls",
      "model_module_version": "1.5.0",
      "model_name": "VBoxModel",
      "state": {
       "children": [
        "IPY_MODEL_333141d2971a40589d45e27cda703674",
        "IPY_MODEL_c2bb5a2600214a889a79b9352c534e3e",
        "IPY_MODEL_449a2bc2cd5e4127bdb9302d45cd0b16"
       ],
       "layout": "IPY_MODEL_5e19f443d9ab49d9b9c024ab7ae48932"
      }
     },
     "bf927d419a3d4a5596cf36157fbd78ab": {
      "model_module": "@jupyter-widgets/base",
      "model_module_version": "1.2.0",
      "model_name": "LayoutModel",
      "state": {
       "grid_area": "pathlist",
       "width": "auto"
      }
     },
     "bf9f63eb53de4071baa83442adff164b": {
      "model_module": "@jupyter-widgets/base",
      "model_module_version": "1.2.0",
      "model_name": "LayoutModel",
      "state": {
       "width": "auto"
      }
     },
     "c00e15a57ed14c49a0b8bfaab477ce78": {
      "model_module": "@jupyter-widgets/controls",
      "model_module_version": "1.5.0",
      "model_name": "ButtonStyleModel",
      "state": {}
     },
     "c043654cb1ae446a87aaa795fc137835": {
      "model_module": "@jupyter-widgets/base",
      "model_module_version": "1.2.0",
      "model_name": "LayoutModel",
      "state": {}
     },
     "c0c1edc42f4b4e58a2efb8ee3f284e1f": {
      "model_module": "@jupyter-widgets/controls",
      "model_module_version": "1.5.0",
      "model_name": "FloatSliderModel",
      "state": {
       "continuous_update": false,
       "description": "Height",
       "layout": "IPY_MODEL_0383f33de4a84b3fb63a3f8d60c7916a",
       "max": 11351.865002485923,
       "orientation": "vertical",
       "step": 0.1,
       "style": "IPY_MODEL_704d16c1bfd74c1090c3b2e70f460c12",
       "value": 5675.932501242962
      }
     },
     "c15f37be7874402da2967c76637d4367": {
      "model_module": "@jupyter-widgets/controls",
      "model_module_version": "1.5.0",
      "model_name": "SliderStyleModel",
      "state": {
       "description_width": ""
      }
     },
     "c1b78784ef77439eae58a2736a82ce4f": {
      "model_module": "@jupyter-widgets/base",
      "model_module_version": "1.2.0",
      "model_name": "LayoutModel",
      "state": {
       "width": "auto"
      }
     },
     "c2144b689ebf4dbd86daf03c38e79762": {
      "model_module": "@jupyter-widgets/base",
      "model_module_version": "1.2.0",
      "model_name": "LayoutModel",
      "state": {}
     },
     "c23d9ea0f0fc45118ff325ef328e5aae": {
      "model_module": "@jupyter-widgets/controls",
      "model_module_version": "1.5.0",
      "model_name": "DescriptionStyleModel",
      "state": {
       "description_width": ""
      }
     },
     "c2bb5a2600214a889a79b9352c534e3e": {
      "model_module": "@jupyter-widgets/controls",
      "model_module_version": "1.5.0",
      "model_name": "GridBoxModel",
      "state": {
       "children": [
        "IPY_MODEL_815a6db119e44e49abb2e42fbf6e5afd",
        "IPY_MODEL_b7623dd7944d4c1abd27269ccd50521b",
        "IPY_MODEL_a408c3d2c6d6468f99acb4a54e323de5"
       ],
       "layout": "IPY_MODEL_7ad6c5ed819f433ea360154038c5fed5"
      }
     },
     "c33ca18993154706aeb31e9d8c8fa44a": {
      "model_module": "@jupyter-widgets/controls",
      "model_module_version": "1.5.0",
      "model_name": "FloatTextModel",
      "state": {
       "description": "Grid Resolution (m)",
       "layout": "IPY_MODEL_52dbac5f5da04ad1a2d0277a9fc3b44b",
       "step": null,
       "style": "IPY_MODEL_dcaa7d374c1344cca698ae3e788ead4d"
      }
     },
     "c3aae3b359e2476e8c92c2b60f0f1d86": {
      "model_module": "@jupyter-widgets/controls",
      "model_module_version": "1.5.0",
      "model_name": "VBoxModel",
      "state": {
       "children": [
        "IPY_MODEL_d68f63de18264bfab9efdfb0e76ff39f",
        "IPY_MODEL_bd822ac331704784a99cdf12c6ce25d4"
       ],
       "layout": "IPY_MODEL_e1e16f6ec2ee44b68b379209435c1649"
      }
     },
     "c40248223b2042ca8c69f44228812239": {
      "model_module": "@jupyter-widgets/controls",
      "model_module_version": "1.5.0",
      "model_name": "VBoxModel",
      "state": {
       "children": [
        "IPY_MODEL_cb5a3545f5d94f34b4a523121a482023",
        "IPY_MODEL_f36d590af2364cb5a7a260a2c93e7266",
        "IPY_MODEL_91cfc6d65b8a4f598e0323e71063dbd7"
       ],
       "layout": "IPY_MODEL_0f9e2c2667f840e88efb73b613a0120d"
      }
     },
     "c410779901d542caaff227fab2ba786a": {
      "model_module": "@jupyter-widgets/controls",
      "model_module_version": "1.5.0",
      "model_name": "VBoxModel",
      "state": {
       "children": [
        "IPY_MODEL_3b90423a4cee41039a7156e12f1f3b9b",
        "IPY_MODEL_b2710c26548b42d8b050319625c58898",
        "IPY_MODEL_1f446c76526a4ec9bc96f80e6c6b35f6"
       ],
       "layout": "IPY_MODEL_d39c5e1197c0496ba4e68c31160cdceb"
      }
     },
     "c42bf90027fd445faaa4f50f30f8cd7c": {
      "model_module": "@jupyter-widgets/base",
      "model_module_version": "1.2.0",
      "model_name": "LayoutModel",
      "state": {}
     },
     "c447b31c64e5413eb9f999e89f583b42": {
      "model_module": "@jupyter-widgets/controls",
      "model_module_version": "1.5.0",
      "model_name": "CheckboxModel",
      "state": {
       "description": "GA Pro - Live link",
       "disabled": false,
       "indent": false,
       "layout": "IPY_MODEL_16019787070a44cf89b0b0d09b1593fe",
       "style": "IPY_MODEL_71f71f16ed634b38a07474c00c68a7a6",
       "value": false
      }
     },
     "c44bceac5ed94fdfa7c3a705e1ee16ac": {
      "model_module": "@jupyter-widgets/base",
      "model_module_version": "1.2.0",
      "model_name": "LayoutModel",
      "state": {}
     },
     "c4858a29b30c4cb4bdd8849ef721824e": {
      "model_module": "@jupyter-widgets/controls",
      "model_module_version": "1.5.0",
      "model_name": "DescriptionStyleModel",
      "state": {
       "description_width": ""
      }
     },
     "c4aef16674bd4877bf9723e049acf982": {
      "model_module": "@jupyter-widgets/base",
      "model_module_version": "1.2.0",
      "model_name": "LayoutModel",
      "state": {}
     },
     "c4d615dd54ed4fa189ffd3acc9cb9ec7": {
      "model_module": "@jupyter-widgets/controls",
      "model_module_version": "1.5.0",
      "model_name": "DropdownModel",
      "state": {
       "_options_labels": [
        "",
        "fault_splay1",
        "fault_Cliff_Lake",
        "fault_Other_FlinFlon",
        "fault_Club_Lake_splay",
        "fault_Catherine_splay2",
        "fault_Birch_View",
        "fault_Dion_Lake",
        "fault_FlinFlon_splay",
        "fault_West_Mandy_Road",
        "fault_Channing",
        "fault_Ross_Lake",
        "fault_Louis_Hidden",
        "fault_Lake_View_thrust",
        "contact_Schist_Lake",
        "fault_Burley_Lake",
        "fault_Dion_Lake_splay",
        "fault_Green_Lake",
        "fault_FlinFlon",
        "fault_Catherine_splay1",
        "fault_East_Mandy_Road",
        "fault_Other_FlinFlon_South",
        "fault_Catherine_splay4",
        "contact_Stitt_Island",
        "fault_Club_Lake",
        "fault_Tailing_Pond",
        "35_Hidden_Reservoir_Hr5",
        "29_Hidden_Reservoir_Hr1a",
        "60_BlueLagoon_Fb2",
        "20_FlinFlon_Undivided_Int_Dykes_D2f",
        "04_Boundary_Intrusive_S4h",
        "53_Millrock_Rhyolite_Fm4b",
        "19_FlinFlon_Undivided_Int_Dykes_D2b",
        "18_FlinFlon_Undivided_Int_Dykes_777_D2b",
        "06_Phantom_Lake_Intrusive_S3a",
        "21_FlinFlon_Undivided_Int_Dykes_D3a",
        "43_Millrock_CHLSH_South",
        "56_Millrock_Basalt_Fm1ba",
        "17_FlinFlon_Undivided_Int_Dykes_D2",
        "32_Hidden_Reservoir_Hr1b_SW",
        "11_Missi_M3_NE",
        "13_Missi_M1",
        "07_Annabel_Granitoid_S1",
        "45_Millrock_Gabbro_South",
        "01_Late_Intrusive_S5b",
        "31_Hidden_Reservoir_Hr1c_SW",
        "52_Millrock_Rhyolite_Fm4_West_check",
        "55_Millrock_Basalt_Fm1bf",
        "34_Hidden_Reservoir_Hr2b",
        "03_Boundary_Intrusive_S4b",
        "42_Millrock_CHLSH_North",
        "26_Louis_L3",
        "23_FlinFlon_Undivided_Int_Felsic_D4g",
        "30_Hidden_Reservoir_Hr1b",
        "59_BlueLagoon_Fb3",
        "49_Millrock_MVR_Fm5d",
        "44_Millrock_Gabbro_North",
        "27_Hidden_Carlisle_Hc4",
        "22_FlinFlon_Undivided_Int_Felsic_D4e",
        "02_Boundary_Intrusive_S4a",
        "61_BlueLagoon_Fb1_NW",
        "05_Boundary_Intrusive_S4g",
        "39_Ore_Callinan",
        "38_Ore_Dan_Owens",
        "40_Ore_FlinFlon",
        "Inversion_VTEM_Model",
        "Gravity_Magnetics_drape60m",
        "CDI_VTEM_model",
        "Data_FEM_pseudo3D",
        "O2O_Interp_25m",
        "geochem",
        "Inversion_DIGHEM_Model",
        "Topography",
        "Data_TEM_pseudo3D"
       ],
       "description": "Object:",
       "index": 66,
       "layout": "IPY_MODEL_f94ae840ee6545bca56290651acfdfb1",
       "style": "IPY_MODEL_63bb97fa66554334b8a8ead585c0c2ba"
      }
     },
     "c53cee79fa50406ab997d7f62fef6a70": {
      "model_module": "@jupyter-widgets/controls",
      "model_module_version": "1.5.0",
      "model_name": "VBoxModel",
      "state": {
       "children": [
        "IPY_MODEL_014b43a7352a468f917e6638acfdb02b"
       ],
       "layout": "IPY_MODEL_df6a9e07cbf248efa89758d142090545"
      }
     },
     "c5597ebb9b82495c9e6060819f214b38": {
      "model_module": "@jupyter-widgets/base",
      "model_module_version": "1.2.0",
      "model_name": "LayoutModel",
      "state": {}
     },
     "c560febf2b5f49429a069aa5d21fa1f7": {
      "model_module": "@jupyter-widgets/controls",
      "model_module_version": "1.5.0",
      "model_name": "TextModel",
      "state": {
       "disabled": true,
       "layout": "IPY_MODEL_1755a7d4a05c4b20b2781541599adfaf",
       "placeholder": "output filename",
       "style": "IPY_MODEL_c925b7376d7747169a20805b55de7e5f"
      }
     },
     "c56ab6c8d3eb4427b3b7bd6dea704cc6": {
      "model_module": "@jupyter-widgets/base",
      "model_module_version": "1.2.0",
      "model_name": "LayoutModel",
      "state": {}
     },
     "c56dc9bf32b34ad1968ac48df0dc2eb8": {
      "model_module": "@jupyter-widgets/base",
      "model_module_version": "1.2.0",
      "model_name": "LayoutModel",
      "state": {
       "align_items": "center"
      }
     },
     "c5788825b691423f9bd534f44f13bfb9": {
      "model_module": "@jupyter-widgets/controls",
      "model_module_version": "1.5.0",
      "model_name": "DescriptionStyleModel",
      "state": {
       "description_width": ""
      }
     },
     "c57abe70df2e4374b7c0bbb4f0d52d69": {
      "model_module": "@jupyter-widgets/controls",
      "model_module_version": "1.5.0",
      "model_name": "HTMLModel",
      "state": {
       "layout": "IPY_MODEL_10c7f0469a4d4b6d9f617ba584b0a0dd",
       "placeholder": "",
       "style": "IPY_MODEL_363af6c9d2aa4be6b17037349192ecbd",
       "value": "<span style=\"margin-left:10px; color:orange;\">C:\\Users\\dominiquef\\Documents\\GIT\\mira\\mirageoscience-apps\\assets\\FlinFlon.geoh5</span>"
      }
     },
     "c60ee3b89bdc4041bfac401fb187bc3c": {
      "model_module": "@jupyter-widgets/base",
      "model_module_version": "1.2.0",
      "model_name": "LayoutModel",
      "state": {
       "display": "none",
       "grid_gap": "0px 0px",
       "grid_template_areas": "\n                    'pathlist filename'\n                    'dircontent dircontent'\n                    ",
       "grid_template_columns": "60% 40%",
       "grid_template_rows": "auto auto",
       "width": "500px"
      }
     },
     "c6363265596a4fa39ce25208155ed3d5": {
      "model_module": "@jupyter-widgets/controls",
      "model_module_version": "1.5.0",
      "model_name": "FloatTextModel",
      "state": {
       "description": "Grid Resolution (m)",
       "layout": "IPY_MODEL_2c653aae5da0491f82225b9a08a5c034",
       "step": null,
       "style": "IPY_MODEL_8802404043c240a4b476ef7849a58077"
      }
     },
     "c69d0cdd986f4ec19307a85553414ec8": {
      "model_module": "@jupyter-widgets/base",
      "model_module_version": "1.2.0",
      "model_name": "LayoutModel",
      "state": {
       "display": "none",
       "grid_area": "filename",
       "width": "auto"
      }
     },
     "c6d74b5948674c649bec9bb0906c5005": {
      "model_module": "@jupyter-widgets/controls",
      "model_module_version": "1.5.0",
      "model_name": "DescriptionStyleModel",
      "state": {
       "description_width": ""
      }
     },
     "c707190e5ca0438db7143228230a33a5": {
      "model_module": "@jupyter-widgets/controls",
      "model_module_version": "1.5.0",
      "model_name": "FloatSliderModel",
      "state": {
       "continuous_update": false,
       "description": "Azimuth",
       "layout": "IPY_MODEL_b48926de1a0040cb820961ba2b7c9cfc",
       "max": 90,
       "min": -90,
       "step": 5,
       "style": "IPY_MODEL_ca360e151c5640b699ac0e91698e581b"
      }
     },
     "c70b3ae11abd4ae5b6d06fb1903e4800": {
      "model_module": "@jupyter-widgets/base",
      "model_module_version": "1.2.0",
      "model_name": "LayoutModel",
      "state": {}
     },
     "c7112c8b20e746059e197e7d7dee5784": {
      "model_module": "@jupyter-widgets/controls",
      "model_module_version": "1.5.0",
      "model_name": "SelectModel",
      "state": {
       "_options_labels": [
        "..",
        "Temp",
        "dask-worker-space",
        "Crossplot.html",
        "FlinFlon.geoh5",
        "FlinFlon_light.geoh5",
        "MtDore_TMI.geoh5"
       ],
       "index": 4,
       "layout": "IPY_MODEL_b8f494b414bb48bf93acc63e16d4f13e",
       "rows": 8,
       "style": "IPY_MODEL_b5e1767aff224c2eb7337d24f3a0da5f"
      }
     },
     "c75f8f1a11eb4c668b0a308419459dc6": {
      "model_module": "@jupyter-widgets/base",
      "model_module_version": "1.2.0",
      "model_name": "LayoutModel",
      "state": {}
     },
     "c77d32ee6aa641dbacf4766431555c3a": {
      "model_module": "@jupyter-widgets/controls",
      "model_module_version": "1.5.0",
      "model_name": "VBoxModel",
      "state": {
       "children": [
        "IPY_MODEL_0d9ad353232d4eaa96575818df9314a5",
        "IPY_MODEL_f2d2c77ae82d4e2d8a83073f2d69f2c6"
       ],
       "layout": "IPY_MODEL_8c2e264b8acd409688af601e80ada5b7"
      }
     },
     "c80124a9cba449428dee91f72faec323": {
      "model_module": "@jupyter-widgets/controls",
      "model_module_version": "1.5.0",
      "model_name": "HTMLModel",
      "state": {
       "layout": "IPY_MODEL_fd8c118cdd3e483d8012c723bd22fe3d",
       "placeholder": "",
       "style": "IPY_MODEL_a2235960847a47eb9968191866edf65b",
       "value": "<span style=\"margin-left:10px; color:black;\">No file selected</span>"
      }
     },
     "c86b2991d6114994a3a9e40b94ae37da": {
      "model_module": "@jupyter-widgets/base",
      "model_module_version": "1.2.0",
      "model_name": "LayoutModel",
      "state": {}
     },
     "c87d742e2e4d416988f60b1ed610eb71": {
      "model_module": "@jupyter-widgets/base",
      "model_module_version": "1.2.0",
      "model_name": "LayoutModel",
      "state": {}
     },
     "c89a52ade2d147e897d3af66d8bd5cab": {
      "model_module": "@jupyter-widgets/controls",
      "model_module_version": "1.5.0",
      "model_name": "ButtonStyleModel",
      "state": {}
     },
     "c89d062109094a16b330c01f9c00302e": {
      "model_module": "@jupyter-widgets/controls",
      "model_module_version": "1.5.0",
      "model_name": "VBoxModel",
      "state": {
       "children": [
        "IPY_MODEL_21243e7f624e4eec93f67ea29accdf93",
        "IPY_MODEL_b24c7b09bf944337af5dba8631bd4ce3"
       ],
       "layout": "IPY_MODEL_ffef53b161f9474a9e73b99eaff48f34"
      }
     },
     "c8c6bfcdb5e3452a85bbb7067ba58569": {
      "model_module": "@jupyter-widgets/controls",
      "model_module_version": "1.5.0",
      "model_name": "DropdownModel",
      "state": {
       "_options_labels": [
        "C:\\Users\\dominiquef\\Documents\\GIT\\mira\\mirageoscience-apps\\assets",
        "C:\\Users\\dominiquef\\Documents\\GIT\\mira\\mirageoscience-apps",
        "C:\\Users\\dominiquef\\Documents\\GIT\\mira",
        "C:\\Users\\dominiquef\\Documents\\GIT",
        "C:\\Users\\dominiquef\\Documents",
        "C:\\Users\\dominiquef",
        "C:\\Users",
        "C:\\",
        "D:\\",
        "Z:\\"
       ],
       "index": 0,
       "layout": "IPY_MODEL_cb76189c00f3408abdf96a8e110e783b",
       "style": "IPY_MODEL_710be0e9445f4a858b733a78939fefc9"
      }
     },
     "c925b7376d7747169a20805b55de7e5f": {
      "model_module": "@jupyter-widgets/controls",
      "model_module_version": "1.5.0",
      "model_name": "DescriptionStyleModel",
      "state": {
       "description_width": ""
      }
     },
     "c95fb6eeee524f6ea98b7cfa8b8c2650": {
      "model_module": "@jupyter-widgets/controls",
      "model_module_version": "1.5.0",
      "model_name": "SelectModel",
      "state": {
       "_options_labels": [
        "..",
        "dask-worker-space",
        "images"
       ],
       "index": null,
       "layout": "IPY_MODEL_89e33f4d09184a91ab034bbde779a9de",
       "rows": 8,
       "style": "IPY_MODEL_faba51404d2045ba909933260f8e6550"
      }
     },
     "c9c32073e1cd4abcbce5f6aafd7c636b": {
      "model_module": "@jupyter-widgets/base",
      "model_module_version": "1.2.0",
      "model_name": "LayoutModel",
      "state": {
       "align_items": "center"
      }
     },
     "ca360e151c5640b699ac0e91698e581b": {
      "model_module": "@jupyter-widgets/controls",
      "model_module_version": "1.5.0",
      "model_name": "SliderStyleModel",
      "state": {
       "description_width": ""
      }
     },
     "ca42c65ead7345dfa377834f3ca54beb": {
      "model_module": "@jupyter-widgets/controls",
      "model_module_version": "1.5.0",
      "model_name": "TextModel",
      "state": {
       "continuous_update": false,
       "description": "Group:",
       "layout": "IPY_MODEL_f3a59bb2819447abb746d47d78ef3fb8",
       "style": "IPY_MODEL_01e5bfc7e3964c308df46be5c311beb9"
      }
     },
     "ca4a9bcbd4784fceb7e5881ee917cbef": {
      "model_module": "@jupyter-widgets/controls",
      "model_module_version": "1.5.0",
      "model_name": "VBoxModel",
      "state": {
       "children": [
        "IPY_MODEL_5f9a3428688845dab234e070343d87f8",
        "IPY_MODEL_9c7cff6f2bb64fcdb13a5c5e3275c301",
        "IPY_MODEL_cf9abcf8f6b4462f8c7842362a47929a"
       ],
       "layout": "IPY_MODEL_1be5f6ec340f4ffc8bfc94094c61f04e"
      }
     },
     "ca6d57ab9a3e42588692ba176fdd099d": {
      "model_module": "@jupyter-widgets/controls",
      "model_module_version": "1.5.0",
      "model_name": "HBoxModel",
      "state": {
       "children": [
        "IPY_MODEL_ee46bff4d54b410888d06d9fe334ac41",
        "IPY_MODEL_813524f5bdcc4595b37dea7dde36c3dd",
        "IPY_MODEL_e18a754c2b484c3ba02a361fa52716ae"
       ],
       "layout": "IPY_MODEL_09b4cf430359428bbd85f198a83f25eb"
      }
     },
     "ca8331c99ac1482c912974675779403f": {
      "model_module": "@jupyter-widgets/controls",
      "model_module_version": "1.5.0",
      "model_name": "DescriptionStyleModel",
      "state": {
       "description_width": ""
      }
     },
     "ca995dc2910b45ca9e24cc27fff64294": {
      "model_module": "@jupyter-widgets/base",
      "model_module_version": "1.2.0",
      "model_name": "LayoutModel",
      "state": {
       "width": "auto"
      }
     },
     "cac2886a62584b2e823ae3939e51f893": {
      "model_module": "@jupyter-widgets/controls",
      "model_module_version": "1.5.0",
      "model_name": "VBoxModel",
      "state": {
       "children": [
        "IPY_MODEL_af3ec699c9a4483c816887a1a478cb67",
        "IPY_MODEL_da724d29d3c04cada25ed9a30ed6945b",
        "IPY_MODEL_4e200c9596ef4a9e850d96a8563317ae",
        "IPY_MODEL_dadc6a329c4f4c2abc7328d703730b5f",
        "IPY_MODEL_2f0e2922f72f41498839fbab3974e66a"
       ],
       "layout": "IPY_MODEL_fb4f720fddb444e68e29d40e83f72c5e"
      }
     },
     "cb1fcc58266042e68091f2cffdf12b42": {
      "model_module": "@jupyter-widgets/controls",
      "model_module_version": "1.5.0",
      "model_name": "VBoxModel",
      "state": {
       "children": [
        "IPY_MODEL_963d2c5e9fed4e49beb8dd6c55ce5703",
        "IPY_MODEL_120dc620d6f7475ba80053f687226003",
        "IPY_MODEL_a461e917a6a74fdca0495eadf99c426d",
        "IPY_MODEL_a09cc3a604524ee0ade457935491a507",
        "IPY_MODEL_22b2c99a3dde44c0982fa5386fe888b5"
       ],
       "layout": "IPY_MODEL_27026584a1e34b73a207193e3169f1b9"
      }
     },
     "cb385a90d1664ed380228b3c92ebe647": {
      "model_module": "@jupyter-widgets/base",
      "model_module_version": "1.2.0",
      "model_name": "LayoutModel",
      "state": {}
     },
     "cb560a0230ab4c519a9c490f6c13b2c3": {
      "model_module": "@jupyter-widgets/controls",
      "model_module_version": "1.5.0",
      "model_name": "GridBoxModel",
      "state": {
       "children": [
        "IPY_MODEL_9e913b7954224eec8a33c54630545740",
        "IPY_MODEL_09f1b9e7c8be4aaca35f4b480f34c61b",
        "IPY_MODEL_cf7e9872552e45f59a666c0f1062c7af"
       ],
       "layout": "IPY_MODEL_dd2badb30a80455f91de2fc24b9dd4ea"
      }
     },
     "cb5a3545f5d94f34b4a523121a482023": {
      "model_module": "@jupyter-widgets/controls",
      "model_module_version": "1.5.0",
      "model_name": "HTMLModel",
      "state": {
       "layout": "IPY_MODEL_6d48c3ec5c2c41398a4735919f90298b",
       "style": "IPY_MODEL_88244c646c9746b5a2acb844034fe4f4"
      }
     },
     "cb64ff051dc24310b41820cbfe11ad6b": {
      "model_module": "@jupyter-widgets/controls",
      "model_module_version": "1.5.0",
      "model_name": "DropdownModel",
      "state": {
       "_options_labels": [
        "C:\\Users\\dominiquef\\Documents\\GIT\\mira\\mirageoscience-apps\\assets",
        "C:\\Users\\dominiquef\\Documents\\GIT\\mira\\mirageoscience-apps",
        "C:\\Users\\dominiquef\\Documents\\GIT\\mira",
        "C:\\Users\\dominiquef\\Documents\\GIT",
        "C:\\Users\\dominiquef\\Documents",
        "C:\\Users\\dominiquef",
        "C:\\Users",
        "C:\\",
        "D:\\",
        "Z:\\"
       ],
       "index": 0,
       "layout": "IPY_MODEL_f075aa8ea13240c1a150a2862d446e9a",
       "style": "IPY_MODEL_2904c4633fe6426793f866f7f59e24e0"
      }
     },
     "cb6636c9fa364eb2842fca80762ab791": {
      "model_module": "@jupyter-widgets/base",
      "model_module_version": "1.2.0",
      "model_name": "LayoutModel",
      "state": {}
     },
     "cb76189c00f3408abdf96a8e110e783b": {
      "model_module": "@jupyter-widgets/base",
      "model_module_version": "1.2.0",
      "model_name": "LayoutModel",
      "state": {
       "grid_area": "pathlist",
       "width": "auto"
      }
     },
     "cbf6ae3616aa4903a77473e7fa61166d": {
      "model_module": "@jupyter-widgets/controls",
      "model_module_version": "1.5.0",
      "model_name": "VBoxModel",
      "state": {
       "children": [
        "IPY_MODEL_8aeaa3d64a364782bc40120fe03771ed",
        "IPY_MODEL_b4148bf719d1408b96e75fd6172a5961"
       ],
       "layout": "IPY_MODEL_c5597ebb9b82495c9e6060819f214b38"
      }
     },
     "cc025c3082cd4ecabe1bb1b1589e760e": {
      "model_module": "@jupyter-widgets/controls",
      "model_module_version": "1.5.0",
      "model_name": "ButtonStyleModel",
      "state": {}
     },
     "cc35cc1ef0d549f5886d64b9171cdf08": {
      "model_module": "@jupyter-widgets/controls",
      "model_module_version": "1.5.0",
      "model_name": "VBoxModel",
      "state": {
       "children": [
        "IPY_MODEL_9a5df2e46cd14b3c9c68094fcc0c3e68",
        "IPY_MODEL_4f7bf7362b49402397cf8016f7396ab0"
       ],
       "layout": "IPY_MODEL_a1a0ddf6fc6743cc96b4b65e79a416f5"
      }
     },
     "cc437bcaa98042f686821eabe00370e1": {
      "model_module": "@jupyter-widgets/controls",
      "model_module_version": "1.5.0",
      "model_name": "HTMLModel",
      "state": {
       "layout": "IPY_MODEL_8b7b6d27a2814dff90f27aca675c4208",
       "placeholder": "",
       "style": "IPY_MODEL_9a93f970380f48d7924ccdb644a98fe4",
       "value": "<span style=\"margin-left:10px; color:black;\">No file selected</span>"
      }
     },
     "cc52ba75b4e14128a92c3372d59cd72e": {
      "model_module": "@jupyter-widgets/base",
      "model_module_version": "1.2.0",
      "model_name": "LayoutModel",
      "state": {}
     },
     "cc54d0497b214039ae4380fbfa15ea19": {
      "model_module": "@jupyter-widgets/base",
      "model_module_version": "1.2.0",
      "model_name": "LayoutModel",
      "state": {
       "width": "auto"
      }
     },
     "cc91a1c447e840c482ec88b5f89d5aa0": {
      "model_module": "@jupyter-widgets/controls",
      "model_module_version": "1.5.0",
      "model_name": "SliderStyleModel",
      "state": {
       "description_width": ""
      }
     },
     "cc9539a788504bee9e64f6b625deac67": {
      "model_module": "@jupyter-widgets/controls",
      "model_module_version": "1.5.0",
      "model_name": "VBoxModel",
      "state": {
       "children": [
        "IPY_MODEL_d2ea7b54d86f44c08b2eb8a29d52bbed",
        "IPY_MODEL_d2245c8b2b53419f8a9e08921127aaaa"
       ],
       "layout": "IPY_MODEL_502fc1883a944f44b1dcd173adb05caa"
      }
     },
     "cd19aeaad1fd4dfabc303e8b4b8467d4": {
      "model_module": "@jupyter-widgets/base",
      "model_module_version": "1.2.0",
      "model_name": "LayoutModel",
      "state": {
       "display": "none"
      }
     },
     "cd5b3348d31647e7bed462f779b6fa8b": {
      "model_module": "@jupyter-widgets/base",
      "model_module_version": "1.2.0",
      "model_name": "LayoutModel",
      "state": {
       "grid_area": "filename",
       "width": "auto"
      }
     },
     "cd95eeffe19047618309ac8974379abd": {
      "model_module": "@jupyter-widgets/controls",
      "model_module_version": "1.5.0",
      "model_name": "ButtonStyleModel",
      "state": {}
     },
     "cdbd126557c5451190a71af1929e9755": {
      "model_module": "@jupyter-widgets/controls",
      "model_module_version": "1.5.0",
      "model_name": "TextModel",
      "state": {
       "layout": "IPY_MODEL_4b578fac78cb482ea41f898e4627fb0d",
       "placeholder": "output filename",
       "style": "IPY_MODEL_c23d9ea0f0fc45118ff325ef328e5aae",
       "value": "FlinFlon.geoh5"
      }
     },
     "ce1532e20f9d497baafae93584f624cb": {
      "model_module": "@jupyter-widgets/controls",
      "model_module_version": "1.5.0",
      "model_name": "DescriptionStyleModel",
      "state": {
       "description_width": "initial"
      }
     },
     "ce61fcafd6d24db0aa0cb5cd21183200": {
      "model_module": "@jupyter-widgets/base",
      "model_module_version": "1.2.0",
      "model_name": "LayoutModel",
      "state": {}
     },
     "ce71cb6a1ef24d07aa3ffb3fe4a872c4": {
      "model_module": "@jupyter-widgets/base",
      "model_module_version": "1.2.0",
      "model_name": "LayoutModel",
      "state": {}
     },
     "ce7ad2f03d104fbc93d49c4d80f1d004": {
      "model_module": "@jupyter-widgets/controls",
      "model_module_version": "1.5.0",
      "model_name": "SelectModel",
      "state": {
       "_options_labels": [
        "..",
        "dask-worker-space",
        "images"
       ],
       "index": null,
       "layout": "IPY_MODEL_3e2c7fd3e7db43268b6cd912bc8b0a48",
       "rows": 8,
       "style": "IPY_MODEL_89b8f3d6f9bc48ef95295b8212988cc0"
      }
     },
     "ce8f9e02363e40b3ab491b6ebb8e6455": {
      "model_module": "@jupyter-widgets/controls",
      "model_module_version": "1.5.0",
      "model_name": "ButtonStyleModel",
      "state": {}
     },
     "ced4fb3cdb2f40c1a3478898184bb5a4": {
      "model_module": "@jupyter-widgets/base",
      "model_module_version": "1.2.0",
      "model_name": "LayoutModel",
      "state": {}
     },
     "ced8c13ba0844300b0761882db0a70af": {
      "model_module": "@jupyter-widgets/base",
      "model_module_version": "1.2.0",
      "model_name": "LayoutModel",
      "state": {
       "grid_area": "pathlist",
       "width": "auto"
      }
     },
     "cf15ea0fecf944a084c5d8f0c03f49b6": {
      "model_module": "@jupyter-widgets/base",
      "model_module_version": "1.2.0",
      "model_name": "LayoutModel",
      "state": {}
     },
     "cf4c09aea8e0450a976e1462bec06c79": {
      "model_module": "@jupyter-widgets/base",
      "model_module_version": "1.2.0",
      "model_name": "LayoutModel",
      "state": {}
     },
     "cf717491f982475c9102091fa52ed7d2": {
      "model_module": "@jupyter-widgets/base",
      "model_module_version": "1.2.0",
      "model_name": "LayoutModel",
      "state": {}
     },
     "cf7e9872552e45f59a666c0f1062c7af": {
      "model_module": "@jupyter-widgets/controls",
      "model_module_version": "1.5.0",
      "model_name": "SelectModel",
      "state": {
       "_options_labels": [
        "..",
        "images"
       ],
       "index": null,
       "layout": "IPY_MODEL_984de7051e9c4dc9b26561e0e5b67905",
       "rows": 8,
       "style": "IPY_MODEL_a6b3456a26b042b0866e6559090c52fa"
      }
     },
     "cf80743416be475ba11a2b1709cd6e59": {
      "model_module": "@jupyter-widgets/controls",
      "model_module_version": "1.5.0",
      "model_name": "VBoxModel",
      "state": {
       "children": [
        "IPY_MODEL_65c8010e12ee4900b5f3ead322e95a3c",
        "IPY_MODEL_365e7947bde5457591013bce32dfffd4"
       ],
       "layout": "IPY_MODEL_3eb793597ebb4f6ba461a09b2c9bd152"
      }
     },
     "cf9abcf8f6b4462f8c7842362a47929a": {
      "model_module": "@jupyter-widgets/controls",
      "model_module_version": "1.5.0",
      "model_name": "HBoxModel",
      "state": {
       "children": [
        "IPY_MODEL_e4d3e403423f4408a49a52a19a15a16b",
        "IPY_MODEL_8a3933ff8e3a47ffb43a6c11277f25b6",
        "IPY_MODEL_4e35ca17c4bc49f1848cf1313f767cd4"
       ],
       "layout": "IPY_MODEL_8019ee62b3d74be187cb82d517a30330"
      }
     },
     "cfd4b630527a475f90f75f026de0ffa8": {
      "model_module": "@jupyter-widgets/controls",
      "model_module_version": "1.5.0",
      "model_name": "ButtonStyleModel",
      "state": {}
     },
     "d002e8bf638a48ddaf73c4fe087d44b0": {
      "model_module": "@jupyter-widgets/base",
      "model_module_version": "1.2.0",
      "model_name": "LayoutModel",
      "state": {}
     },
     "d00c682012374a00a6b57106c9ff5dc9": {
      "model_module": "@jupyter-widgets/controls",
      "model_module_version": "1.5.0",
      "model_name": "ToggleButtonModel",
      "state": {
       "layout": "IPY_MODEL_9aca8e5723ed4e80a1efd701fbac9b8b",
       "style": "IPY_MODEL_d2e6cb5ad35b4fbc871e693ef6b2e4fb",
       "value": true
      }
     },
     "d045080f66004a6f9000ce3dbf9faa6e": {
      "model_module": "@jupyter-widgets/base",
      "model_module_version": "1.2.0",
      "model_name": "LayoutModel",
      "state": {
       "display": "none",
       "width": "auto"
      }
     },
     "d0e32eafe36c4a9d9a67b1df84b29d78": {
      "model_module": "@jupyter-widgets/base",
      "model_module_version": "1.2.0",
      "model_name": "LayoutModel",
      "state": {}
     },
     "d12e2fa2ef3c45dcb86c2365a6803b3f": {
      "model_module": "@jupyter-widgets/base",
      "model_module_version": "1.2.0",
      "model_name": "LayoutModel",
      "state": {}
     },
     "d137313f4f2f494ebda3de570c33bd52": {
      "model_module": "@jupyter-widgets/controls",
      "model_module_version": "1.5.0",
      "model_name": "DescriptionStyleModel",
      "state": {
       "description_width": ""
      }
     },
     "d1579166614542a68548ad8e15fdc8b8": {
      "model_module": "@jupyter-widgets/base",
      "model_module_version": "1.2.0",
      "model_name": "LayoutModel",
      "state": {
       "display": "none",
       "width": "auto"
      }
     },
     "d16e8656c6a146d19d97a941256b1ddc": {
      "model_module": "@jupyter-widgets/controls",
      "model_module_version": "1.5.0",
      "model_name": "DescriptionStyleModel",
      "state": {
       "description_width": ""
      }
     },
     "d197e4f8c2d94be39286f27efa6d537e": {
      "model_module": "@jupyter-widgets/controls",
      "model_module_version": "1.5.0",
      "model_name": "VBoxModel",
      "state": {
       "children": [
        "IPY_MODEL_4efe69f2991f4853a32e6cc93e0833f0",
        "IPY_MODEL_0bd85e9c3d044c07be237da217760826"
       ],
       "layout": "IPY_MODEL_5f9a0036b36a49b1b588da8bc1ac7b71"
      }
     },
     "d1d0fe21f8d34f1faaff52aedcb5c66b": {
      "model_module": "@jupyter-widgets/base",
      "model_module_version": "1.2.0",
      "model_name": "LayoutModel",
      "state": {}
     },
     "d1eabe03bdfb44fda0ad5557e347ae76": {
      "model_module": "@jupyter-widgets/controls",
      "model_module_version": "1.5.0",
      "model_name": "TextModel",
      "state": {
       "continuous_update": false,
       "description": "Contours",
       "layout": "IPY_MODEL_4497beaa066140279f39e5f6dd7592f9",
       "style": "IPY_MODEL_30011332890f40408a81900f22e9fd42"
      }
     },
     "d20417754d1b47d38002a5ed1ae151dc": {
      "model_module": "@jupyter-widgets/base",
      "model_module_version": "1.2.0",
      "model_name": "LayoutModel",
      "state": {}
     },
     "d21cd97fd08141a5922cbdf5f2fdffdb": {
      "model_module": "@jupyter-widgets/base",
      "model_module_version": "1.2.0",
      "model_name": "LayoutModel",
      "state": {
       "width": "auto"
      }
     },
     "d2245c8b2b53419f8a9e08921127aaaa": {
      "model_module": "@jupyter-widgets/controls",
      "model_module_version": "1.5.0",
      "model_name": "HBoxModel",
      "state": {
       "children": [
        "IPY_MODEL_8110f0af12df4e4eba78ff6ec2a009df",
        "IPY_MODEL_5303f26c69d24fa282a009f2190483f1",
        "IPY_MODEL_b1d49c4aded74a9193fbb7b07e206664"
       ],
       "layout": "IPY_MODEL_a25adb8198dd4b9887f738f74778a6d3"
      }
     },
     "d23e79e24dd44db49fb3930d155aec99": {
      "model_module": "@jupyter-widgets/controls",
      "model_module_version": "1.5.0",
      "model_name": "DescriptionStyleModel",
      "state": {
       "description_width": "initial"
      }
     },
     "d23f6e97f133458bacded2fde7a6ee5c": {
      "model_module": "@jupyter-widgets/base",
      "model_module_version": "1.2.0",
      "model_name": "LayoutModel",
      "state": {
       "display": "none",
       "grid_area": "filename",
       "width": "auto"
      }
     },
     "d2836815514d496c86d201ea6c2eaf97": {
      "model_module": "@jupyter-widgets/controls",
      "model_module_version": "1.5.0",
      "model_name": "HTMLModel",
      "state": {
       "layout": "IPY_MODEL_ed5c2f4e7e264283b2f5b116fab92e8c",
       "placeholder": "",
       "style": "IPY_MODEL_9d0247222fe446778318dc3dd7f114fe",
       "value": "<span style=\"margin-left:10px; color:orange;\">C:\\Users\\dominiquef\\Documents\\GIT\\mira\\mirageoscience-apps\\assets\\FlinFlon.geoh5</span>"
      }
     },
     "d2dc79ed79d1499c88c97826e6f20c39": {
      "model_module": "@jupyter-widgets/controls",
      "model_module_version": "1.5.0",
      "model_name": "DescriptionStyleModel",
      "state": {
       "description_width": ""
      }
     },
     "d2e6cb5ad35b4fbc871e693ef6b2e4fb": {
      "model_module": "@jupyter-widgets/controls",
      "model_module_version": "1.5.0",
      "model_name": "DescriptionStyleModel",
      "state": {
       "description_width": ""
      }
     },
     "d2ea7b54d86f44c08b2eb8a29d52bbed": {
      "model_module": "@jupyter-widgets/controls",
      "model_module_version": "1.5.0",
      "model_name": "VBoxModel",
      "state": {
       "children": [
        "IPY_MODEL_c33ca18993154706aeb31e9d8c8fa44a",
        "IPY_MODEL_6747ca51c57f400eaf57731ae95aa458"
       ],
       "layout": "IPY_MODEL_d1d0fe21f8d34f1faaff52aedcb5c66b"
      }
     },
     "d3085acd0d394db98afafae6d093792f": {
      "model_module": "@jupyter-widgets/controls",
      "model_module_version": "1.5.0",
      "model_name": "FloatSliderModel",
      "state": {
       "continuous_update": false,
       "description": "Azimuth",
       "layout": "IPY_MODEL_6695490688f54fd0818a285b2b6a34c7",
       "max": 90,
       "min": -90,
       "step": 0.1,
       "style": "IPY_MODEL_4117cf2ddcb24aae9444a7ab6e9cb15f"
      }
     },
     "d34b74825b04492980b9dd00c161c9fa": {
      "model_module": "@jupyter-widgets/controls",
      "model_module_version": "1.5.0",
      "model_name": "HBoxModel",
      "state": {
       "children": [
        "IPY_MODEL_4583e01f3dfd47e5b2d8e1e048f0ab85",
        "IPY_MODEL_728c984f34754be7be4ee0d4fad55144"
       ],
       "layout": "IPY_MODEL_2506a4b2376648729354b413286e7a1f"
      }
     },
     "d39c5e1197c0496ba4e68c31160cdceb": {
      "model_module": "@jupyter-widgets/base",
      "model_module_version": "1.2.0",
      "model_name": "LayoutModel",
      "state": {
       "width": "auto"
      }
     },
     "d3a30fd35fa947ac862eca6d198b84ad": {
      "model_module": "@jupyter-widgets/controls",
      "model_module_version": "1.5.0",
      "model_name": "ButtonModel",
      "state": {
       "button_style": "danger",
       "description": "Compute",
       "icon": "check",
       "layout": "IPY_MODEL_0a02db384afb4d048a5e50b9c92b1eac",
       "style": "IPY_MODEL_712bee065a3944ff88693022ac818013",
       "tooltip": "Run computation"
      }
     },
     "d3ab0575ec564dbe89bd70f836edfbef": {
      "model_module": "@jupyter-widgets/controls",
      "model_module_version": "1.5.0",
      "model_name": "ToggleButtonModel",
      "state": {
       "layout": "IPY_MODEL_916779494f784f698ce7233a53ceb42b",
       "style": "IPY_MODEL_3b342c459d904102ba3acb629844aa88",
       "value": true
      }
     },
     "d3cea15babfe48d4907068f4be986c5d": {
      "model_module": "@jupyter-widgets/controls",
      "model_module_version": "1.5.0",
      "model_name": "VBoxModel",
      "state": {
       "children": [
        "IPY_MODEL_1540757e72b74b43b84510e250e0ae9f",
        "IPY_MODEL_03249d8a9912437ea075a467827e8c51",
        "IPY_MODEL_b3878cc4b2bc4a87a2b83d8429ac3924"
       ],
       "layout": "IPY_MODEL_4d7fd94f6c704621952db86604b6c5f6"
      }
     },
     "d3e6d1da9cd5471fad18e4cb84fe2728": {
      "model_module": "@jupyter-widgets/controls",
      "model_module_version": "1.5.0",
      "model_name": "DescriptionStyleModel",
      "state": {
       "description_width": ""
      }
     },
     "d48fc2a10f9f4c6e952c8a522f5c7b95": {
      "model_module": "@jupyter-widgets/base",
      "model_module_version": "1.2.0",
      "model_name": "LayoutModel",
      "state": {}
     },
     "d498a70a99234e66b91ea7a31f599be4": {
      "model_module": "@jupyter-widgets/controls",
      "model_module_version": "1.5.0",
      "model_name": "DropdownModel",
      "state": {
       "_options_labels": [
        "",
        "fault_splay1",
        "fault_Cliff_Lake",
        "fault_Other_FlinFlon",
        "fault_Club_Lake_splay",
        "fault_Catherine_splay2",
        "fault_Birch_View",
        "fault_Dion_Lake",
        "fault_FlinFlon_splay",
        "fault_West_Mandy_Road",
        "fault_Channing",
        "fault_Ross_Lake",
        "fault_Louis_Hidden",
        "fault_Lake_View_thrust",
        "contact_Schist_Lake",
        "fault_Burley_Lake",
        "fault_Dion_Lake_splay",
        "fault_Green_Lake",
        "fault_FlinFlon",
        "fault_Catherine_splay1",
        "fault_East_Mandy_Road",
        "fault_Other_FlinFlon_South",
        "fault_Catherine_splay4",
        "contact_Stitt_Island",
        "fault_Club_Lake",
        "fault_Tailing_Pond",
        "35_Hidden_Reservoir_Hr5",
        "29_Hidden_Reservoir_Hr1a",
        "60_BlueLagoon_Fb2",
        "20_FlinFlon_Undivided_Int_Dykes_D2f",
        "04_Boundary_Intrusive_S4h",
        "53_Millrock_Rhyolite_Fm4b",
        "19_FlinFlon_Undivided_Int_Dykes_D2b",
        "18_FlinFlon_Undivided_Int_Dykes_777_D2b",
        "06_Phantom_Lake_Intrusive_S3a",
        "21_FlinFlon_Undivided_Int_Dykes_D3a",
        "43_Millrock_CHLSH_South",
        "56_Millrock_Basalt_Fm1ba",
        "17_FlinFlon_Undivided_Int_Dykes_D2",
        "32_Hidden_Reservoir_Hr1b_SW",
        "11_Missi_M3_NE",
        "13_Missi_M1",
        "07_Annabel_Granitoid_S1",
        "45_Millrock_Gabbro_South",
        "01_Late_Intrusive_S5b",
        "31_Hidden_Reservoir_Hr1c_SW",
        "52_Millrock_Rhyolite_Fm4_West_check",
        "55_Millrock_Basalt_Fm1bf",
        "34_Hidden_Reservoir_Hr2b",
        "03_Boundary_Intrusive_S4b",
        "42_Millrock_CHLSH_North",
        "26_Louis_L3",
        "23_FlinFlon_Undivided_Int_Felsic_D4g",
        "30_Hidden_Reservoir_Hr1b",
        "59_BlueLagoon_Fb3",
        "49_Millrock_MVR_Fm5d",
        "44_Millrock_Gabbro_North",
        "27_Hidden_Carlisle_Hc4",
        "22_FlinFlon_Undivided_Int_Felsic_D4e",
        "02_Boundary_Intrusive_S4a",
        "61_BlueLagoon_Fb1_NW",
        "05_Boundary_Intrusive_S4g",
        "39_Ore_Callinan",
        "38_Ore_Dan_Owens",
        "40_Ore_FlinFlon",
        "Inversion_VTEM_Model",
        "Gravity_Magnetics_drape60m",
        "CDI_VTEM_model",
        "Data_FEM_pseudo3D",
        "O2O_Interp_25m",
        "geochem",
        "Inversion_DIGHEM_Model",
        "Topography",
        "Data_TEM_pseudo3D"
       ],
       "description": "Object:",
       "index": 66,
       "layout": "IPY_MODEL_c42bf90027fd445faaa4f50f30f8cd7c",
       "style": "IPY_MODEL_a2da442cff524caa8a7f37e9f5a06150"
      }
     },
     "d4d1a061a12348d2bf94f0656432d015": {
      "model_module": "@jupyter-widgets/controls",
      "model_module_version": "1.5.0",
      "model_name": "LabelModel",
      "state": {
       "layout": "IPY_MODEL_5fefbd752c6a47dfb5bf91b99e168258",
       "style": "IPY_MODEL_854b5144b7d242fcbcd791672b7eb08a",
       "value": "Workspace"
      }
     },
     "d4f7d4627a954dd786cb04edecf801c8": {
      "model_module": "@jupyter-widgets/controls",
      "model_module_version": "1.5.0",
      "model_name": "LabelModel",
      "state": {
       "layout": "IPY_MODEL_c70b3ae11abd4ae5b6d06fb1903e4800",
       "style": "IPY_MODEL_f2466cb536474c32be22a4d46cce0191",
       "value": "Workspace"
      }
     },
     "d53d2ee36f864a6ea01dfb467b622371": {
      "model_module": "@jupyter-widgets/controls",
      "model_module_version": "1.5.0",
      "model_name": "HBoxModel",
      "state": {
       "children": [
        "IPY_MODEL_2bdeac8ceecf4201a0d3d0ecf436cac6",
        "IPY_MODEL_bdd7b58352584e60b861ab91a045d2b6"
       ],
       "layout": "IPY_MODEL_a4141039119842d4a8c9bb462a2dfb22"
      }
     },
     "d5436caa15c5428ba726cdd7bfe38aad": {
      "model_module": "@jupyter-widgets/controls",
      "model_module_version": "1.5.0",
      "model_name": "DescriptionStyleModel",
      "state": {
       "description_width": ""
      }
     },
     "d5d9d43e10d74d809152644a1a98b0b8": {
      "model_module": "@jupyter-widgets/controls",
      "model_module_version": "1.5.0",
      "model_name": "ButtonStyleModel",
      "state": {}
     },
     "d619af64264c4f73a51a691ced1877d0": {
      "model_module": "@jupyter-widgets/base",
      "model_module_version": "1.2.0",
      "model_name": "LayoutModel",
      "state": {}
     },
     "d64c712ebdf5409baa4cc3e6acd1288b": {
      "model_module": "@jupyter-widgets/controls",
      "model_module_version": "1.5.0",
      "model_name": "FloatSliderModel",
      "state": {
       "continuous_update": false,
       "description": "Height",
       "layout": "IPY_MODEL_38c6d66d3001435ebb65ed18b64e285b",
       "max": 11351.865002485923,
       "orientation": "vertical",
       "step": 0.1,
       "style": "IPY_MODEL_447e73fe759949aaa60d4bab85f3908d",
       "value": 5675.932501242962
      }
     },
     "d657f2579a4a4b649e2f6ac944198f5c": {
      "model_module": "@jupyter-widgets/controls",
      "model_module_version": "1.5.0",
      "model_name": "SliderStyleModel",
      "state": {
       "description_width": ""
      }
     },
     "d65d6729cad54e858505fd89e5f626b9": {
      "model_module": "@jupyter-widgets/base",
      "model_module_version": "1.2.0",
      "model_name": "LayoutModel",
      "state": {
       "align_items": "center"
      }
     },
     "d66e15b5eb6d42d89e1631ff8296ad4a": {
      "model_module": "@jupyter-widgets/base",
      "model_module_version": "1.2.0",
      "model_name": "LayoutModel",
      "state": {
       "display": "none"
      }
     },
     "d67466ebccca427ea17e2e8a2f5d8d47": {
      "model_module": "@jupyter-widgets/controls",
      "model_module_version": "1.5.0",
      "model_name": "ButtonStyleModel",
      "state": {}
     },
     "d68f63de18264bfab9efdfb0e76ff39f": {
      "model_module": "@jupyter-widgets/controls",
      "model_module_version": "1.5.0",
      "model_name": "VBoxModel",
      "state": {
       "children": [
        "IPY_MODEL_5a2e7d81fcd34f56838ae7ea725c89b9",
        "IPY_MODEL_9c5aa74614004a8ba305989a43459bab"
       ],
       "layout": "IPY_MODEL_d20417754d1b47d38002a5ed1ae151dc"
      }
     },
     "d69cd653b57440a68cb33a189903c5e0": {
      "model_module": "@jupyter-widgets/base",
      "model_module_version": "1.2.0",
      "model_name": "LayoutModel",
      "state": {}
     },
     "d79ce82823e84db59d90b2401d3f68e6": {
      "model_module": "@jupyter-widgets/controls",
      "model_module_version": "1.5.0",
      "model_name": "DescriptionStyleModel",
      "state": {
       "description_width": ""
      }
     },
     "d7ea9c257d1247e98720c4bb6a0e18e8": {
      "model_module": "@jupyter-widgets/controls",
      "model_module_version": "1.5.0",
      "model_name": "SliderStyleModel",
      "state": {
       "description_width": ""
      }
     },
     "d7f50040182044dda8130a77570d9376": {
      "model_module": "@jupyter-widgets/base",
      "model_module_version": "1.2.0",
      "model_name": "LayoutModel",
      "state": {
       "grid_area": "dircontent",
       "width": "auto"
      }
     },
     "d8493ae911e848bfb38c86fd348c8438": {
      "model_module": "@jupyter-widgets/base",
      "model_module_version": "1.2.0",
      "model_name": "LayoutModel",
      "state": {}
     },
     "d86a54a112b24c7fbbee790c5ed1e555": {
      "model_module": "@jupyter-widgets/controls",
      "model_module_version": "1.5.0",
      "model_name": "DescriptionStyleModel",
      "state": {
       "description_width": "initial"
      }
     },
     "d889ba1ac856486aa0c043e9e5501a3d": {
      "model_module": "@jupyter-widgets/controls",
      "model_module_version": "1.5.0",
      "model_name": "VBoxModel",
      "state": {
       "children": [
        "IPY_MODEL_d93b76bcca8a4bfa84d5a144d471177f",
        "IPY_MODEL_27c64c18a1384a6ebac479681d9d5887"
       ],
       "layout": "IPY_MODEL_8c48467672da4fe0a5d25cd8122b8d01"
      }
     },
     "d8e9183d0ad3468f9dc75e2ccedb4278": {
      "model_module": "@jupyter-widgets/controls",
      "model_module_version": "1.5.0",
      "model_name": "DropdownModel",
      "state": {
       "_options_labels": [
        "",
        "--- Channels ---",
        "Airborne_Gxx",
        "Airborne_Gxy",
        "Airborne_Gxz",
        "Airborne_Gyy",
        "Airborne_Gyz",
        "Airborne_Gz",
        "Airborne_Gzz",
        "Airborne_TMI",
        "Ground_Gz",
        "Z"
       ],
       "description": "Data: ",
       "index": 9,
       "layout": "IPY_MODEL_46069ec42ea2403fbc1121776c8b43d1",
       "style": "IPY_MODEL_b5e1be266ce54e0992ad10af82b5ccfb"
      }
     },
     "d906e8dfd372467fa9a10d4920eaf7e5": {
      "model_module": "@jupyter-widgets/controls",
      "model_module_version": "1.5.0",
      "model_name": "DescriptionStyleModel",
      "state": {
       "description_width": "initial"
      }
     },
     "d93b76bcca8a4bfa84d5a144d471177f": {
      "model_module": "@jupyter-widgets/controls",
      "model_module_version": "1.5.0",
      "model_name": "VBoxModel",
      "state": {
       "children": [
        "IPY_MODEL_8360c8f0dfd746819d82301c25d8dfa3",
        "IPY_MODEL_df068531fba542688e6fa0369c8e4fc6"
       ],
       "layout": "IPY_MODEL_bcc661433279450d9bde1e6ae6ee2859"
      }
     },
     "d995aea438214880a1bbec83ffc91f35": {
      "model_module": "@jupyter-widgets/base",
      "model_module_version": "1.2.0",
      "model_name": "LayoutModel",
      "state": {
       "display": "none"
      }
     },
     "da18294955344c0f8b62282db088f2e2": {
      "model_module": "@jupyter-widgets/controls",
      "model_module_version": "1.5.0",
      "model_name": "ButtonStyleModel",
      "state": {}
     },
     "da724d29d3c04cada25ed9a30ed6945b": {
      "model_module": "@jupyter-widgets/controls",
      "model_module_version": "1.5.0",
      "model_name": "FloatSliderModel",
      "state": {
       "continuous_update": false,
       "description": "Easting",
       "layout": "IPY_MODEL_f68c96c4472d4dd08b5f3e6c8220cb29",
       "max": 319234.2051362576,
       "min": 311898.69919769425,
       "step": 0.1,
       "style": "IPY_MODEL_3f56ba524ff5493b9f3714b1cccdb6fb",
       "value": 315566.45216697594
      }
     },
     "da95424ebbc148a49add34a3043511b5": {
      "model_module": "@jupyter-widgets/base",
      "model_module_version": "1.2.0",
      "model_name": "LayoutModel",
      "state": {
       "display": "none"
      }
     },
     "dac622ddc7364a0681cf8a894fe47b12": {
      "model_module": "@jupyter-widgets/base",
      "model_module_version": "1.2.0",
      "model_name": "LayoutModel",
      "state": {}
     },
     "dadc6a329c4f4c2abc7328d703730b5f": {
      "model_module": "@jupyter-widgets/controls",
      "model_module_version": "1.5.0",
      "model_name": "FloatSliderModel",
      "state": {
       "continuous_update": false,
       "description": "Azimuth",
       "layout": "IPY_MODEL_cb6636c9fa364eb2842fca80762ab791",
       "max": 90,
       "min": -90,
       "step": 0.1,
       "style": "IPY_MODEL_cc91a1c447e840c482ec88b5f89d5aa0"
      }
     },
     "db36a3bf136242929150b248bbdb2ea0": {
      "model_module": "@jupyter-widgets/controls",
      "model_module_version": "1.5.0",
      "model_name": "ButtonModel",
      "state": {
       "button_style": "danger",
       "description": "Compute",
       "icon": "check",
       "layout": "IPY_MODEL_3f2efd9440ff441ab2fc1c3094d68ac2",
       "style": "IPY_MODEL_dd09b23569974f76b0205953f619a57d",
       "tooltip": "Run computation"
      }
     },
     "db669db625f04a4fb16a02d0ecc085b1": {
      "model_module": "@jupyter-widgets/controls",
      "model_module_version": "1.5.0",
      "model_name": "TextModel",
      "state": {
       "continuous_update": false,
       "description": "Group:",
       "layout": "IPY_MODEL_e2685fac52254f1e81809d1f78fd7de4",
       "style": "IPY_MODEL_3d35f3c9e0e24bef866a354d527df9ad"
      }
     },
     "db68278725ce40b79010cc7a8d61a7c5": {
      "model_module": "@jupyter-widgets/controls",
      "model_module_version": "1.5.0",
      "model_name": "SelectModel",
      "state": {
       "_options_labels": [
        "..",
        "dask-worker-space",
        "images"
       ],
       "index": null,
       "layout": "IPY_MODEL_395b76f069344e7f94c5ca919176367a",
       "rows": 8,
       "style": "IPY_MODEL_f2b2ff41ee664e6ebb6da4d23c3f9733"
      }
     },
     "dbb4b58ed6dd4061adafd3423114deb9": {
      "model_module": "@jupyter-widgets/controls",
      "model_module_version": "1.5.0",
      "model_name": "VBoxModel",
      "state": {
       "children": [
        "IPY_MODEL_74b97efe8f15497193ef86a62cd07562",
        "IPY_MODEL_698b82be65e14579a56046cf83713dcd"
       ],
       "layout": "IPY_MODEL_31feff95eeb246eebb6f9e10ca3d0e00"
      }
     },
     "dc3c4e2496fd408cbf8dba4ca0ebad06": {
      "model_module": "@jupyter-widgets/controls",
      "model_module_version": "1.5.0",
      "model_name": "DescriptionStyleModel",
      "state": {
       "description_width": ""
      }
     },
     "dc4414eb72d94e259c0c3ddbe565f8c4": {
      "model_module": "@jupyter-widgets/base",
      "model_module_version": "1.2.0",
      "model_name": "LayoutModel",
      "state": {
       "width": "auto"
      }
     },
     "dc6fe5cba2024822b5d7c4c0c46f0fb5": {
      "model_module": "@jupyter-widgets/controls",
      "model_module_version": "1.5.0",
      "model_name": "SliderStyleModel",
      "state": {
       "description_width": ""
      }
     },
     "dcaa7d374c1344cca698ae3e788ead4d": {
      "model_module": "@jupyter-widgets/controls",
      "model_module_version": "1.5.0",
      "model_name": "DescriptionStyleModel",
      "state": {
       "description_width": "initial"
      }
     },
     "dcde27b2f39345c7ae687faa1c037c6e": {
      "model_module": "@jupyter-widgets/controls",
      "model_module_version": "1.5.0",
      "model_name": "TextModel",
      "state": {
       "layout": "IPY_MODEL_629e9789c2cd446c805c40e8d04c3b98",
       "placeholder": "output filename",
       "style": "IPY_MODEL_b5e081305f6b4e10b5929bde8ca8a97f",
       "value": "FlinFlon.geoh5"
      }
     },
     "dce2fde643914336997883b074e009f9": {
      "model_module": "@jupyter-widgets/controls",
      "model_module_version": "1.5.0",
      "model_name": "ButtonStyleModel",
      "state": {}
     },
     "dcfc591f33a548ef945fc5a858e81178": {
      "model_module": "@jupyter-widgets/controls",
      "model_module_version": "1.5.0",
      "model_name": "ButtonModel",
      "state": {
       "description": "Cancel",
       "layout": "IPY_MODEL_d045080f66004a6f9000ce3dbf9faa6e",
       "style": "IPY_MODEL_7b16e72f13bb4f2a9b924121dd6ed378"
      }
     },
     "dd09b23569974f76b0205953f619a57d": {
      "model_module": "@jupyter-widgets/controls",
      "model_module_version": "1.5.0",
      "model_name": "ButtonStyleModel",
      "state": {}
     },
     "dd2badb30a80455f91de2fc24b9dd4ea": {
      "model_module": "@jupyter-widgets/base",
      "model_module_version": "1.2.0",
      "model_name": "LayoutModel",
      "state": {
       "display": "none",
       "grid_gap": "0px 0px",
       "grid_template_areas": "\n                    'pathlist pathlist'\n                    'dircontent dircontent'\n                    ",
       "grid_template_columns": "60% 40%",
       "grid_template_rows": "auto auto",
       "width": "500px"
      }
     },
     "dd4716826b3446198dbb4111df1a4e72": {
      "model_module": "@jupyter-widgets/controls",
      "model_module_version": "1.5.0",
      "model_name": "HBoxModel",
      "state": {
       "children": [
        "IPY_MODEL_bee983e92415425485b42190e3d5aba2",
        "IPY_MODEL_ea3c16fb2cfd4be5b6505143513d3bcd",
        "IPY_MODEL_f5301ee2630d4971a37b674ca2b61bff"
       ],
       "layout": "IPY_MODEL_d65d6729cad54e858505fd89e5f626b9"
      }
     },
     "dd5c6f659b0b4af0bf968c600010ecaf": {
      "model_module": "@jupyter-widgets/controls",
      "model_module_version": "1.5.0",
      "model_name": "GridBoxModel",
      "state": {
       "children": [
        "IPY_MODEL_cb64ff051dc24310b41820cbfe11ad6b",
        "IPY_MODEL_ac4d2a136e59454388e96bcf7bd597dc",
        "IPY_MODEL_c7112c8b20e746059e197e7d7dee5784"
       ],
       "layout": "IPY_MODEL_62ee8d817ba3406293b4e2ff228f0dc2"
      }
     },
     "dd818d8a30cb4141963db839fa34528b": {
      "model_module": "@jupyter-widgets/controls",
      "model_module_version": "1.5.0",
      "model_name": "DescriptionStyleModel",
      "state": {
       "description_width": ""
      }
     },
     "dd864663f6714f3bad4024f269804b5f": {
      "model_module": "@jupyter-widgets/controls",
      "model_module_version": "1.5.0",
      "model_name": "DescriptionStyleModel",
      "state": {
       "description_width": ""
      }
     },
     "ddac3a6d8ea34c12890ebfe46257475f": {
      "model_module": "@jupyter-widgets/controls",
      "model_module_version": "1.5.0",
      "model_name": "SliderStyleModel",
      "state": {
       "description_width": ""
      }
     },
     "de8749ce879040dbbccc69e99841357a": {
      "model_module": "@jupyter-widgets/controls",
      "model_module_version": "1.5.0",
      "model_name": "DescriptionStyleModel",
      "state": {
       "description_width": "initial"
      }
     },
     "df068531fba542688e6fa0369c8e4fc6": {
      "model_module": "@jupyter-widgets/controls",
      "model_module_version": "1.5.0",
      "model_name": "TextModel",
      "state": {
       "continuous_update": false,
       "description": "Group:",
       "layout": "IPY_MODEL_c86b2991d6114994a3a9e40b94ae37da",
       "style": "IPY_MODEL_ae72282ae591435882fdf29fcedc2d9c"
      }
     },
     "df37bbec5b484742a44b4d0299841e0d": {
      "model_module": "@jupyter-widgets/controls",
      "model_module_version": "1.5.0",
      "model_name": "ButtonModel",
      "state": {
       "description": "Create copy:",
       "layout": "IPY_MODEL_ce71cb6a1ef24d07aa3ffb3fe4a872c4",
       "style": "IPY_MODEL_a16069c4cb394b4a84cfa9827d9d7500"
      }
     },
     "df6a9e07cbf248efa89758d142090545": {
      "model_module": "@jupyter-widgets/base",
      "model_module_version": "1.2.0",
      "model_name": "LayoutModel",
      "state": {}
     },
     "df75c3e619bd48ceb8e3ec560d540954": {
      "model_module": "@jupyter-widgets/controls",
      "model_module_version": "1.5.0",
      "model_name": "ButtonStyleModel",
      "state": {}
     },
     "df996a7cf0a54f08abf0ebc27b19f3f7": {
      "model_module": "@jupyter-widgets/base",
      "model_module_version": "1.2.0",
      "model_name": "LayoutModel",
      "state": {
       "width": "auto"
      }
     },
     "dfb85e47c5034a6984179ac5c1974ded": {
      "model_module": "@jupyter-widgets/base",
      "model_module_version": "1.2.0",
      "model_name": "LayoutModel",
      "state": {
       "grid_area": "pathlist",
       "width": "auto"
      }
     },
     "dfc67af54499462784efd83e8f2ed6f5": {
      "model_module": "@jupyter-widgets/controls",
      "model_module_version": "1.5.0",
      "model_name": "DescriptionStyleModel",
      "state": {
       "description_width": ""
      }
     },
     "e00583183c0040e9987eb11978916c47": {
      "model_module": "@jupyter-widgets/controls",
      "model_module_version": "1.5.0",
      "model_name": "ButtonStyleModel",
      "state": {}
     },
     "e0718426917644b9a9c5c9b3f157e9fa": {
      "model_module": "@jupyter-widgets/base",
      "model_module_version": "1.2.0",
      "model_name": "LayoutModel",
      "state": {}
     },
     "e0ab36dbcc474903a201dcff9ef15933": {
      "model_module": "@jupyter-widgets/base",
      "model_module_version": "1.2.0",
      "model_name": "LayoutModel",
      "state": {}
     },
     "e0e236d2ae014279ac404e5e9db4fb5f": {
      "model_module": "@jupyter-widgets/base",
      "model_module_version": "1.2.0",
      "model_name": "LayoutModel",
      "state": {}
     },
     "e145f346dc044a6c9c37308915c0967f": {
      "model_module": "@jupyter-widgets/base",
      "model_module_version": "1.2.0",
      "model_name": "LayoutModel",
      "state": {}
     },
     "e18a754c2b484c3ba02a361fa52716ae": {
      "model_module": "@jupyter-widgets/controls",
      "model_module_version": "1.5.0",
      "model_name": "HTMLModel",
      "state": {
       "layout": "IPY_MODEL_f75c177dedf244218af55d5b2eca64b3",
       "placeholder": "",
       "style": "IPY_MODEL_4b2f4ca487434490873ef06bb2180324",
       "value": "<span style=\"margin-left:10px; color:black;\">No file selected</span>"
      }
     },
     "e1ae99c5ecef45d5bdf06e6ffd869846": {
      "model_module": "@jupyter-widgets/controls",
      "model_module_version": "1.5.0",
      "model_name": "FloatSliderModel",
      "state": {
       "continuous_update": false,
       "description": "Width",
       "layout": "IPY_MODEL_a82baf6348624fffb12093d65fecc34d",
       "max": 7335.505938563321,
       "step": 0.1,
       "style": "IPY_MODEL_ae4636b6847e43128a06ad1dcdbc9df9",
       "value": 3667.7529692816606
      }
     },
     "e1c6f59bab014217aba450f314e95d40": {
      "model_module": "@jupyter-widgets/base",
      "model_module_version": "1.2.0",
      "model_name": "LayoutModel",
      "state": {}
     },
     "e1e16f6ec2ee44b68b379209435c1649": {
      "model_module": "@jupyter-widgets/base",
      "model_module_version": "1.2.0",
      "model_name": "LayoutModel",
      "state": {}
     },
     "e249ada3f0a6433c83a33f2ea3a5a386": {
      "model_module": "@jupyter-widgets/controls",
      "model_module_version": "1.5.0",
      "model_name": "FloatSliderModel",
      "state": {
       "continuous_update": false,
       "description": "Easting",
       "layout": "IPY_MODEL_21eaede2955f44a6b4df855f9c7c28ee",
       "max": 319234.2051362576,
       "min": 311898.69919769425,
       "step": 0.1,
       "style": "IPY_MODEL_f2418c93848748588f3368c0da49bf09",
       "value": 315566.45216697594
      }
     },
     "e2685fac52254f1e81809d1f78fd7de4": {
      "model_module": "@jupyter-widgets/base",
      "model_module_version": "1.2.0",
      "model_name": "LayoutModel",
      "state": {}
     },
     "e2a440be7b014c18b5cf25be55f5ffb0": {
      "model_module": "@jupyter-widgets/base",
      "model_module_version": "1.2.0",
      "model_name": "LayoutModel",
      "state": {}
     },
     "e2e6802d63f545b5b07a9414c7ca3f82": {
      "model_module": "@jupyter-widgets/controls",
      "model_module_version": "1.5.0",
      "model_name": "DescriptionStyleModel",
      "state": {
       "description_width": ""
      }
     },
     "e3031e0579634f7baf3d894ddad3d1c9": {
      "model_module": "@jupyter-widgets/controls",
      "model_module_version": "1.5.0",
      "model_name": "HTMLModel",
      "state": {
       "layout": "IPY_MODEL_ce61fcafd6d24db0aa0cb5cd21183200",
       "placeholder": "",
       "style": "IPY_MODEL_dfc67af54499462784efd83e8f2ed6f5",
       "value": "<span style=\"margin-left:10px; color:orange;\">C:\\Users\\dominiquef\\Documents\\GIT\\mira\\mirageoscience-apps\\assets\\FlinFlon.geoh5</span>"
      }
     },
     "e3cca9407a4d443c80be53a569cf8195": {
      "model_module": "@jupyter-widgets/controls",
      "model_module_version": "1.5.0",
      "model_name": "SliderStyleModel",
      "state": {
       "description_width": ""
      }
     },
     "e41a773d4d23408c8eb4f2cfc06966bf": {
      "model_module": "@jupyter-widgets/base",
      "model_module_version": "1.2.0",
      "model_name": "LayoutModel",
      "state": {}
     },
     "e41f3818d2e14c8a9fadaea92b170718": {
      "model_module": "@jupyter-widgets/controls",
      "model_module_version": "1.5.0",
      "model_name": "LabelModel",
      "state": {
       "layout": "IPY_MODEL_bc7263a25b9a421484d742ffe4d7f24f",
       "style": "IPY_MODEL_91f6c3c164df4b058d3f5b3a9aaded13",
       "value": "Monitoring folder"
      }
     },
     "e46b556416c64f13a1bc768b075f26ea": {
      "model_module": "@jupyter-widgets/controls",
      "model_module_version": "1.5.0",
      "model_name": "TextModel",
      "state": {
       "disabled": true,
       "layout": "IPY_MODEL_0dbcd10abcc4454e9f927c1454debfac",
       "placeholder": "output filename",
       "style": "IPY_MODEL_4904eec61fda4268a854cce28f50123d"
      }
     },
     "e4a95f728b864874a06aaa5b1d5502bd": {
      "model_module": "@jupyter-widgets/controls",
      "model_module_version": "1.5.0",
      "model_name": "ButtonModel",
      "state": {
       "description": "Cancel",
       "layout": "IPY_MODEL_56fdf549bf584f529077b7298ce89e44",
       "style": "IPY_MODEL_ed931e578de7494783a13a623801a8f6"
      }
     },
     "e4d3e403423f4408a49a52a19a15a16b": {
      "model_module": "@jupyter-widgets/controls",
      "model_module_version": "1.5.0",
      "model_name": "ButtonModel",
      "state": {
       "description": "Select",
       "layout": "IPY_MODEL_c1b78784ef77439eae58a2736a82ce4f",
       "style": "IPY_MODEL_80c58716d69342b98b9de291b9ad7fed"
      }
     },
     "e4efde444a26488896f8587989d2198e": {
      "model_module": "@jupyter-widgets/controls",
      "model_module_version": "1.5.0",
      "model_name": "DescriptionStyleModel",
      "state": {
       "description_width": ""
      }
     },
     "e503b41af7b94ae4b6608182f045ae2a": {
      "model_module": "@jupyter-widgets/base",
      "model_module_version": "1.2.0",
      "model_name": "LayoutModel",
      "state": {}
     },
     "e519614087be4f9e8b8d4983da6e9f68": {
      "model_module": "@jupyter-widgets/controls",
      "model_module_version": "1.5.0",
      "model_name": "DropdownModel",
      "state": {
       "_options_labels": [
        "C:\\Users\\dominiquef\\Documents\\GIT\\mira\\mirageoscience-apps\\docs\\content\\applications",
        "C:\\Users\\dominiquef\\Documents\\GIT\\mira\\mirageoscience-apps\\docs\\content",
        "C:\\Users\\dominiquef\\Documents\\GIT\\mira\\mirageoscience-apps\\docs",
        "C:\\Users\\dominiquef\\Documents\\GIT\\mira\\mirageoscience-apps",
        "C:\\Users\\dominiquef\\Documents\\GIT\\mira",
        "C:\\Users\\dominiquef\\Documents\\GIT",
        "C:\\Users\\dominiquef\\Documents",
        "C:\\Users\\dominiquef",
        "C:\\Users",
        "C:\\",
        "D:\\",
        "Z:\\"
       ],
       "index": 0,
       "layout": "IPY_MODEL_830d8e9cd58d4493bb13a17af0afaa96",
       "style": "IPY_MODEL_5760810ca130449ba4697dc1edb0fbac"
      }
     },
     "e57720717733496fb84997c9d7d6b6c3": {
      "model_module": "@jupyter-widgets/base",
      "model_module_version": "1.2.0",
      "model_name": "LayoutModel",
      "state": {}
     },
     "e5c32fa395f9412dac5691df54634d2e": {
      "model_module": "@jupyter-widgets/controls",
      "model_module_version": "1.5.0",
      "model_name": "ButtonModel",
      "state": {
       "description": "Create copy:",
       "layout": "IPY_MODEL_fc97733cb76e4c42b232ebc829cad682",
       "style": "IPY_MODEL_4159b414470e49e38b32f674384e6967"
      }
     },
     "e6b2746ddab54d82bad21193a2e41917": {
      "model_module": "@jupyter-widgets/base",
      "model_module_version": "1.2.0",
      "model_name": "LayoutModel",
      "state": {}
     },
     "e6f100d5cf3f481a96c84fe3d95cb8b4": {
      "model_module": "@jupyter-widgets/base",
      "model_module_version": "1.2.0",
      "model_name": "LayoutModel",
      "state": {
       "align_items": "center"
      }
     },
     "e7536db587424bea9805ffc41e310f3f": {
      "model_module": "@jupyter-widgets/base",
      "model_module_version": "1.2.0",
      "model_name": "LayoutModel",
      "state": {}
     },
     "e771c7dd79384361802d614ed58d65d4": {
      "model_module": "@jupyter-widgets/base",
      "model_module_version": "1.2.0",
      "model_name": "LayoutModel",
      "state": {}
     },
     "e77bdf8e4ee7478da1b87250027ae4cb": {
      "model_module": "@jupyter-widgets/base",
      "model_module_version": "1.2.0",
      "model_name": "LayoutModel",
      "state": {}
     },
     "e789551986194dcfa98df7e464208c02": {
      "model_module": "@jupyter-widgets/output",
      "model_module_version": "1.0.0",
      "model_name": "OutputModel",
      "state": {
       "layout": "IPY_MODEL_8bd7fea9883c4d2c88ccf93ad9248165",
       "outputs": [
        {
         "data": {
          "image/png": "iVBORw0KGgoAAAANSUhEUgAAAZ8AAAJeCAYAAABrvggYAAAABHNCSVQICAgIfAhkiAAAAAlwSFlzAAALEgAACxIB0t1+/AAAADh0RVh0U29mdHdhcmUAbWF0cGxvdGxpYiB2ZXJzaW9uMy4yLjEsIGh0dHA6Ly9tYXRwbG90bGliLm9yZy+j8jraAAAgAElEQVR4nOy9ebQt2Vkf9tu7hjPc4U39pu6nHjSiFkgCNdAIYbVABAgYECycKHGIwYDXcgCTBBsneC3bwbDAEIxig03MCsQGtAz2srFNZJM40GmDMAipGyS1aFr09Hp4w+373r333DNU1d75o87e9VXdPZ3pvvP61W+tvW7dqn1qOnX2r75v/77vY1JKtGjRokWLFscJfqtPoEWLFi1a3HloyadFixYtWhw7WvJp0aJFixbHjpZ8WrRo0aLFsaMlnxYtWrRocexoyadFixYtWhw7WvJp0aJFixbHjpZ8WrRo0aLFsaMlnxYtWrRocew4NvJhjD11XMdq0aJFixbrDbaK9DqMsX0Aasds+rcP4BCAlFJuL/2gLVq0aNHitsGqLJ9fAPCvALxJSrklpdwC8Px0uSWeFi1atLjDsRLykVJ+D4APAfgwY+x7GWMclSXUokWLFi3ucKxszkdK+QcA3j/991EA3VUdq0WLFi1a3F5YyZzPkYMwdhHA50sp/6+VH6xFixYtWqw94lXtmDF2AsBXA7gHpcvtJcbYSSnljVUds0WLFi1a3B5YiduNMfatAD4O4BGUKrcNAO8D8AfTbS1atGjR4g7GqqTWfwzgi5tWDmPsFID/JKV889IP2qJFixYtbhusSnDAYFa3CVRxPy1atGjR4g7FquZ8fhjAxxljvwHghem6ewF8JYAfWtExW7Ro0aLFbYKVqd2mLravQik4YAAuA/j3UsrdlRywRYsWLVrcNjguqfU2gDcB+NOWfFq0aNGixarUbr/IGLtruvxVAD4F4McAPM4Y+5ZVHLNFixYtWtw+WJXa7Y+klJ83Xf4dAP+VlPLZKSH9BynlO5Z+0BYtWrRocdtgVWo3PnW1AaXC7XkAkFJexwoDW1u0aNGixe2BVRHB3wbwm4yxnwbw2wB+lTH2awC+HMC/W9ExW7Ro0aLFbYJVqt3eCOA7AbwZJcldBvCvpJT/fiUHbNGiRYsWtw2ORe3WokWLFi1aUKzE7cYYYwC+BWWWg3+O0t32DQA+A+AfSSmF5XPfBeC7pv++K52nChDJn8DIjFaURGR9ddlyOu0lwUBPinKyWj5yKrZzey3kcLBcW+jXsfJbwIyL1gPT1Qu/bgXsgHax3QtbnwUeeecBZ/1OrP0DdrS0YwFgc3xj0rLHiK2sisxrBsPhEEVRXJdSnl3lcValdvsZAOcApAD2AHQA/BsA/zmAK1LKv+LbRydi8ke+sI/95w9nOnb/Qkcvv/Gr7tXL9z/yoF4+97n/mV7+TPIevfzUoPrsi3vlfTkcl3/3Dwu9bTyuaCrPquWSc0tw8owzTtcf7SNEo79hP80+FIKwpq2PC0Uh9X6ySbWzbFzU+khR9lN/m6DXSZcp4sR8gnSfPDb3iaL6PpO06tfrVcudhC5XnyHvH8iqS0NBjq3uJedARK4hy0mf6WIcATnZD+1Dv4e8OLr/8vP166H98um+0pTpZRPiuNwHJ88Mveba9cfVckruBf1KIrrM6n8V6LWlXOo+zX70/4RX15CyarkbVTekw6rlHs+rPiwDAExkjJRV62PyusghcCir36+CaJDQl9z1riN9WtTxyCOP4NFHH/0DKeVDqzzOqgQHXyal/DzGWALgFQAXpZQTxtgvA/jEio4JANg839fLrzx+HRfeeRcA4Nnf+rQmIJEdYLL1TgDA/XgFzxYXAABv3hjjqUEHuyOgnzJc3zcaaCgcg8EsEObdW/s0Ccj0eRdJ2fYfch4hhGODjXBqfVLuPY+ikEcISIEO0J3E/HlKODb47l0nYcgISVACSmIGejtUvzhimlg4r5NjZniWeh2OMbffjDh23/OQ79/2tRXCTEAU6hmLGFBIpgmokPX+nC3+O8klx8QzTI2k5QsHwCExINv/32tP4MvPtpEe64BVkU8OAFLKjDH2+1LKyfT/nDEWMARU2Lo3zPrpnU0BAPsvDbB198aR7RffdS/uesu7nft4ZZJgd2TeVhSz/ZAoCUgh9SBd5MJoCdX6S1mzfpr7DTl2tX9/HxOaFnGccG3lhRCOFBJJJ3L2iRN+5DgU1OozQdQI0XxOdHBPPIN2E4WQiDhDEgFJxFBMzyOJ6gRErQsTmQBAj1hpJh7vdRjywn1+acIhLPdLSKlJLS9KUgRKAkwII6jFrKgsQUoaETcTjkLi/kqdn1UIIaWBiLUlNJER0umwoawfRTgxzA/HSLYRHeuOVTlAX2GMbQKAlPKr1UrG2AUAk9CdSCGtb9whOPvgaVx81724+K57rX2uyTN4ZZLglUn5MN+3VT3Md21xDCcCw4lAp0NcOd1qmZKEayBd9FrmRdNyUqCkpKwJISSimOnriNPZH48o4rqZECdcNxuShFlJk74EUAuUukIHwwJZLpHlEuOs6kOJIcslCiFrLrfadXCmiceEbsJ0s6Hf4brZsN3n6HXKfcTkWIpIeinHVj9COv2fN15K4ojpZkMSMyfxRmxKOo6vm3M78SiXW2kJVeuFZI1+EhGTyMj6iaiWx5JDABY6KUloIiOrpaO2T6SdIceC4yNX/si6vcXxYSXkI6X8GinlgWHTPoCvW8Uxh9cqTpNC4uyDpwEAlz/6rF7/4sd+AwAgNt+KWI5xTZ4BALyhW7es9kdSNxuklLrNCxcZLXMuLsS1JiznIkXVbGCc6WZDFDMj4SjyjhOOtMORTAdz6l7jvN7s1+C+1qyQmpSs5zklHRPUIJ7ErDZ3RwflzR5Hv8PQ79SJiw7+m12GXlo2E9S2noX8gwgnYrqZt9fnaQpyzxSBqG3qnjeNf0UmE8ezYZoLmgWZ5MgktxLKSMa60fkdTkQKuWQYC46xaMUG64RVqd3eLqX8w+Z6KeUAwCBkH2l/E0Bpam9e6mG4M9bbiuHRp71/oYONsz3r/i6+40sBlMRjwtUhfTDNg5Nr4ld/krjMbPMvlHSKXCCaTrDPOl+zCFxkRLdFKUcxHV2iiKMojn6QuhWFlLW388jxxq0EAzbiowRkc3v6rMm8kLV7St1QzfttIp2sqLvVbPD16acMmcNlpawjGzE2958Z7kcc1ber68xyWSM/k7tNwWfsRgEuM59brXkbJqKaN8okR8IECslwKCMkrL4eKOeBCkI0keH3OnRYPy3WA6sa6j7BGHuaMfZDjLEH/d3N8L1RJ9sx+hc6NYVbExcfuqSJp4mXJj3d7tuopqLObVbH66UceS6R57LmeguZRFfwWR5CSN1WDdu5JAnXrsEkYLC1gTMGHpfNhCTlupkQxbzW9PqGJaRAr2VC1HnDUaEn+SfZ0fsqpHnupbqOqtngsy66CUM/LZvqr69neg0bHYaT/eqCKEl0ElZrNvi2JzFzWiBpNG2WR5q61VxQfai77Yi1NP3bdMmVfZluJigrKJP2395QRk7iGQmOkeD4ly9/yn4hLY4FqyKfPwTwjdP9/2vG2BOMsb/OGLt/0R3HnQjJdoxkuzTaMiKBHlwbAijneqSQuPjQJQDA5Y89Wu1g92O4hvO4hvO4NzV5BkuMs/p8QROh8zezKsmodUVde6sKBg7Zv5BSNxs4Y9riETm17KbzRwm3WkGcM8Rx2VyWXxQxq9pNwXUt2i1nuQwb4VBrxDYQ0//7aTUXZJpHUYS00bGT1qLzSd2EWed6lOovjern1ySKUmhRX0eJIWIlYbmspfJeSa/FZCMcQZoNY8l1M2EkImSyJJ0W64NVSUKklPKTAH4QwA8yxr4IwH8J4DHG2AtSSrfsDEA+HuCB970Rz/zmiwCA7Ut9HF4rXW+csyNWwvalTQDA6TecMO6Pn3yn96QHmXu7EHWiiCJ2xB1kU6mpz9fOac1+C0nKdZxPFDGtbmsq3UzEWxTiiMhAkY3NSqREYiMMav0U+dEhyHUPs0wgSTiEkBiNpZ60p24olzJMn4NHAab6uAzG7vSXZrOSNsgc+ig3dsHpTY4RFVAU6tgMhZBHyEoIqeemlItNnYdNXBDyTPruBY3paaJA3fpRLjrqAswk12QlJNPuNoHqbXksuJfQMsmtpNbi1mNV5FP7xqWUvwfg9xhj/yOAPzPLjmKHUqh/pnS39c50jdsvPfRe4/rz8kVcYfcAKIPcLg/L23CuL3H1sDz105scrx6UD323w3E4nWdKO1HNvQO4Cec4oQbwWc6HsUrdFhrz49zf9OuyWzn+fUQRq5GROqco5lqqHnGz9ZlNBBISM7SIK9Ol/vJt56weyKmmyqgizNanG1cEdLLHkHm+k07CrN9bl/zCbaQRIghILYSiSEPtw0Q8hWS1wNJFkHnIxOWSa7r6/sVLn8Y33z33rECLBbGqd+8fN62UJR41bQtB/2xJNul2gu7JVK8f7lTBOa9+9ibuefg+3PPwfXjx44/p9eLG43p5h1/E1aKPq0UVkNrEpJiqoywT3Xo+agHioQOGyfXWJAOTdbAMt5yPdHwuRnUvqFsuJxKoPBPgnE0t1vq5K0RReS9d95Nze4wRnR+0XUteSN1CQLUVzefARDyCDMSuAb0XV82GblwnjiPbHXNB1G1Hvzp6CYWwyKMb9065zGy3LHVYheqzISIFF+hcD1W0KatmJCLtWjOdQyYYMrEeL4gtKqzE8pFS/vKy9vW6d1/EC7/zMjonSuLJx+aR5cI77vLua4dfdG4fZAwTSwhsv1e3frLp62gUs6VlPKCwDaAhJEP7hJAjdR8q15uUZcxPTtxwqo/N9Wbarw8+S6jcx2zZFai7KcsqtVtRSCRT19twLNCbWtXjTOpB3OZ6c15DiOUQIL5q9lHPYsKBTJR/k05lCaVR1YdzViMr29fjOw9fECngJlcb0VB3G2BWxFHX20Sw2jGa+1VEY5uWnQSQzbAlpFuKVUmtTwD4n1CKDlRyuqsAfg3Aj0opb4TsJ90uCUcRTxOn32Se36HgJ9+ul8+IF7HDS3fb3fEBXso3sTOJ0YuA66PyQTzVhc5ycGozwu6BPyGDL+XNrYQrW4LrM/PClpeNwkZKnJf3r0wfU83rUeJrppYJkb+bIBwBpouADqCF8A/2zcn6poXh+7zLOgrdB2AnnUKyqfVS/q+vzZJKh8qm54HPKC0kq8msKUIIZyJZ7Ri/ePlJ/PlL5vCLFqvFqtxuvwJgF8AjUsozUsozAN43XferITuIO1WKnEtfUlksG+d62L60ge1LG5gcVAqBmy/s6+XeyW1cetd7celd74W8+Unj/q8VfexMzL/cEOmzciNxx2uvLzhSSlkTLFBrQtSWrYdYOWxBptTqkEJqtVtBE5Nm9etRajXT9ah7actbpj7rsqZCvhPb91rLhECzKDRcb6ZMAM3dqT6uOSGfay5idtJQLjmnW87Shw68EasUbaZBP+USKZfW8+RM6ma9DtLmRSFLYrGJBwrpJi3OJCaSYdKKD9YKqxIc3C+l/DG6Qkr5CoAfY4x9+zw7pPnaDq8Pj2y/9PA9OPXA3c597PK7cc0yz2Nzt53oc9w8LEegfo9jNHX7cc704KomwsvlMJfUutVRotZF2okwGpY3hAaZclaf1/HleHPN0VR93GSiYHsR6HR4jcB9yVZpctLRWKDb8Sc0DcEiUfwKnJdvg1pgQeZjmkRE19Nnd1ZLywRq6RzdFvB5f5ea0s0GF6GETNv5pNVKgPBPXvgMvvV1n+PfYYulYlXk8xxj7K8B+D+llFcAgDF2HsBfAPBC6E627t7Wyzef2zP2ufTwPcb1O5/9BM684fOBE++EBHCDnwMAnI8GuFKURHahM8HT0zIK2x1gb5pEYavDsD8mk+EBg6wIcfxbUMso4EgEOq80O9T1tqwgV995qu024jG5Mam8PnQuadYkrLOCnn7T3aa+x6MpaY72V+drQtQ4hglUuGC2YMyfMx0nMkifbftoEojObo35LB1FBjZSoqIBa59aHJI0WkumANcWx49Vud3+CwBnADzKGNtljL0K4LcAnAbw50J38t7/9rf18qUvuaSXX/eee3DhHWdx4R1ncXitytaz+8xLAIBzb3s/zr3t/cAJc2zPTpboZkMhqmaDL9dYMzuDrWYPtYKoeGFZZOAinlnVcs3ElgpCSjBeSq2bSjegnKuRUlrvV0juNp9bLYqYdx9APVXPhOiYh2OplX/UDUefgVEmvZkPjgMquLOpNmsShot4mvndmghR7oVmP3BBSFYjhCY5NLc3+2SS6WZDIdGq3tYMq7J83gzgR6SUP8AY6wP46wC+YLotuKTC5Rd/Vi+ffuA+DHfdpRXu/zOPoLNtzmCtrB0XaDzFRodhMLV+einDcFIub/QiDGuut2pwzfOpysoQBKtw3O42G/FUA3R9Ml8XMetwTKbXSV1vs0BZKLZ5nKC6M835FYMl1Olwfd7Ufaisn2UE87rcg8B8gy+1LkIssCCXl4cI1L1YxK1mszqUOCEULgskxDrxxfyECBDUe8jPP/8ZfNu9revtOLEq8vk/AKiKTT+FMpnojwL4CgA/D+CbfDuQshQTnH7gPme/17+/LLbXPXEeADDee14TUDR+Add65fazONTzPWeSTFs9p1KBlw/LX+RGYs5y4DNA1AC/yCBHP1tL1Elkw4sOpCGfXUbZB8brwgAV+AnU5c6u66EWlimtTxwxuFz61fGXT/aj3B+8qVxvOriUuOFsrrR5rQfO4c4/A/93b3K3hRSHq9UCYnIhYUEIfG+uLsLhTEI01G4tbh1WRT5cSqmShDwkpVRWz39kjD1u+5AJp97wXux+9lEAwD1f8Fa8+PEncd+XloQicnNpoGHP/wazl7l/6YUjB5gC53XLov7WXb2Z07gYU0oewF2l0wVa9nnZSJJKVMFjpnO2NYUHap0U0AlFJ2OBlGSnCJlzsrn06HbuGd18VT4V6P2eZEKn3qExP7X4n0Zm6KBjWAhhaYTT+H+W9E2FtGctoAhLJrra0TzEVeKzcnzutpaQjh+rIp9PMsa+TUr58wCeYIw9JKX8GGPszQA8GdTMOHn/FwIA4p7ZfZac/WK9PDb2gHWOZyORGEzJKOFVapN+ynA4dbd1EqbnAXodjvHU3ZamDJNJ9eQeV8xP6L5dJR7UPmiKHZrfDQizhGykEVLx1LtvDnBY5NlTEuSMIU0qQqTuw6a0e91UhvXASvv8DYV7Xsx9vFDXXQgqC6lyt80rNmhiGYSjXHc2Ymmu/7nnPoPvuK91vR0XVkU+3wHgQ4yxvwHgOoCPMsZeQKl0+45ZdpR37tbE0wSPU2zd+0j5jxhB8DLHW0fcxJiXAaiHMsVAlJdJ3W3bidTWjyuzQQjoD76w7CeELOjbuMv1Ztv/cSQqdWW2BuqEQ60fleQTKK/HZKHQWkChijlYBqAQmXYIbNaPcr2FDtRUAXdkmzew0j/pD8AqH7J9tjlHY3K31ealPPLo4yCdkHmcoxVUG6mF1uv9447FqtLr3ATwFxhjWwBePz3OZSW7DgFjCfJOGbdT9N+I6PBpAMDm+QfBOhdIT/NofFWedu5/L2Pa2jFhlge0+aZtmsCnaXiopXEcmJWUqPVDhQc8ZhDG2jgVaYpcWLMceAmFuUsqhHxeL0fQOdzo95AkvJY7T+3T5npzYRmxPS40B0wqTjDdi+Yg63eZLf4Mqn0sFETq2R5q4TiPEXCpLSkdL1Zl+QAApJT7AJ5Yxr6yfmUOp4U5O49KnVMe3LA9S2pzPdTdpoL1MjVRPP1FUHdbfblyva0LmoOSr6IqnScwEeIy3IY+lRjQEBcYzjWaZrE2pcOxqeGafXxzQSHnuSiac0AmS8hn5fgQ5labf5QVkpkzV2M2AgpxNBQOccCqCOdnn/0M/tL9revtOLBS8lkUB+xU7f++LFPoTKKTmoB24teDT62fGAXy6U+gzyY4lGXm65GIMCjKXzp1tykol5uNS1aRA8xm/YS43laJqhTBbJ9rnreq4UOVbllWVklV2a0VcTRLb1PYAnzpetv3E+K6s93TEOHBIAtQvQWQicsltwqYJNHNc2y63lw1emY6dsC52RAaHGoiHWoVthbOeuAYH/nZ8bln3mNcv4Mz2Invx058v/Wz14o+dvIOdnJzUtJRzjDK7XM9tvxuMXm965AiafTNmqrWautnVEsdB2yBr7TMdUxKbFuTgjJ3yXN1LFdWA1+AaGkBMWfGiSSuAk1jcq5VVoVSJKKJj5ayKGTQeYTAl28MsAcxq88292ErfbDoYLpIkOnMxzKsc5XPjpg5yPToPtz33LednsfPPPPHzmO1WA7W2vJ57NoncIoMAjs44+x/TWwitzykG5HA1XH56NMfUy8GhlN1G1W6JRHTCSa7CatVkFxnUIvCpXRbFrzyaMdA7nO3AaVV40tvlETML4tnDLC8vS/rvrgGPvrmbYsLoggRJ6zizbEZg2QSG9StIrPSLdQN50oW6v/sbH2ac2Ku47dYPdaWfIppGuVdsVHPH4WSHSYyQsoKXJtmLlB9YiY1AXV5gasTewodheOcugkRHiziejvu0tzUZSZyqeN88owo3Wqut0r1lheyZp1QePPphcxtOArL2eaA6DllhbnOD3W9HU7q5att57WIdbKMuKCj+ySk4QgsnXWf8CULdX7evF4Fh7r6hOyn2t4Szjpgrd1uLlwvepp4mriRx7rZMBFVs4Hmd6MFxpTrrRD1wTPE9daEyiW26OS+zcIIy5lWLdPzrrneyPI8wbCqSumiJcdtedXUOs7K70qRFw0MVWUfVLPB594T0l6agfZZBCEBqllhXn/csLnM1OmpcgYm4lFVUkPk5r4s12F97JYWbX//T1vX26qxtpaPCXtFAsBsyeySANII1YOfcqmlmt1IYndSDqLduHKx0WWgeoCTmCFrFCtTJLGICGFWmXWI9TOr0i0EQixWnts2/5PnVZwPtTRqpQ8a7jaXpVPF/Hi2w07yNguMwvaVj7LS+inE1N3Eq/6m815U0eaDa/8hSreQOB/bMZRFpQZ5m6UTEq+zjKwER7OK1zNdt+KDW4e1JZ+Ilb/goYwAyxtLJhkOC79neZB7HmJP9mpAve16D1VDM+YnM5SkpnJnW92Z44btjT5OubGsdtP1Fk2tJFuQKRAQiR8i0V7QbrfNOVHis63PimkRNv0yYj4GvZWrFiva4oLqfczJP5dJiHbrIoTgiffAMEdT7sd3fO9h/OexXlEUr0mstdttKM3EEuJWG+RcNxtspFMF85WVKwWxhBTqbji7i21ZbrVFEHJsOpBTkohJEtBVXwPn8KrZaF/XOrqLmgUV8MRHnDnLJqhtVtdYQDmOEMzqepsHy1C0zeMSo8dTarZQRVvoMerb7Yo6fR6N3+qHnm5db6vE2lo+TeyHWDgFmZcgb00pr8/tqB8srQLZdL0tkpJlWYO0S3hAYcp6HVpALgTLuh5q/UwmEmk6PW9Zud5M6rbjqJ2jiM8F1/ZRVk88aiosR91wq3a9hcJuIbldbyVZmDNdq8/4EEI2IfDJp0MRWoCwxXKwtpaPUrsNigiDIkJSy0FVLU8kw6DgNeJpYlgwTASz+plDJjx9oG9NNuFBRNLO0PXHlYw0FFLWc6/R7NQ85pACZQZrS9kDWvtHpeaZF8siHpv1Q8UYdB5PLer6N7e6elwDIdaPywqYpT/dXkg7aahiba65Gl8flwUTWoMoxMoJ/c231s/qcNtYPk2MiqNvmRTDwv/WU8h6Kp0kqn7INM6ntp6IEGifNGGYzBELtGyymTfOR53HKnPOzVMrqDlpH5K1QJeZYGaRQEkk9nPRyrkVvJqp6wlKg3NMr4Y+l5kLNiKi4oRlpMJZxjyO91rW4MXvTsJtRT62+RvqFhiSt0CqbFFuOEUiLt/xccA1h2ITHlDXW73/Yql3bOexSGG5YiJqwoNkGgszGRdIO6ULlbreqOotJLB0VnAGpxmljmeN0xGyNs9nAo3/qbmtiOvNRzzLIJwQYgsRHtgEDEcVZOZjLOpWm3f7PIq2lniOH2vrdlNIucRIcIwERzcyP0XDgmFY1ImHIiuqZoKQVZsVakASwi480Bmfp+ShHvRbpWZzwZZiJ6GBlI3YGQVfuYVbASocMIkQmgIH+gwIEZbSZ9bzaCLiVZsFq0q3swh8E/8qtm6xNDjLm+cJQet6Ww3W1vKRADLpnsdxQc3v2N5oIlaJDRJeZTmgIgTOKxcbdeFQ15tPgq3cWIsIGEJgK7cd4noLnWhdRontUNTkzsT1FhK3FHo9NkIJU8TRczX3odaCkmY31y+CZedd88F23s0ieM3+rkBu1S/k2P4+89+MVmxw/Fh7y4dCzfOYiEc9eCphqEItep+FvVn5UAjptJRU9HvI/InN+qm9yZKTPU4CCEHT2jEJD6SQNeHBZFyZoLQKbG75Uo5F7caqVrv3jfttslDo/82g5FkRIn1elHQiJp3BpqFkEGKh+Ihn0WOU/dziAte9CgmFaANRV4O1JZ+YVafW5aImMGhilKs2u4JG9wmIzShjO8qd0OzWys8vpLSmqrmdslsD1Q+SKvSU6q2cewpzsy1Cli5Xlfez1mSmsx0jidwxPz6EuNRshEP/t/U5btfbomlu1DZKSqEqtmUhlHDodfzkn7Sut2VjbckHgFMereZwaGyOaXtznsf04y1k5RJp9kkCicI2EC8jyLQZr9Mc0DlnRwQH9HhSypqk2HaeUrqtNSFWY3nZrJ/MMIItQ4FGrRwbkog5BQYugQe1fmjJDnrrlNIy4q6J8+N3rZkwiyXk2rYuFoTrGVqn83ytY63J5wMX36aXTyaFnqw01Z0Hqjcq74TmEqLPXbARDh2wOK8Ge1e0Pp2vmRUhyTx9xFi6EM19rC5DQmCCDsQW11soVp2xm/PyZSOJzSUaylpBFdHT75NaOPNYOaHbfQj5fMjcSKgFM+/nQ/v4z9OvqAuNX2pJ53ixtuRTSIHfuPqHyCTTzYZJUTX7/twPl+uF3p5Wp+rTSbg3yFRMC7L5rIdFBtmQLNaUSGzF5MoJ2PI8qZsw6cxSLPnWgt4Lq9JO3n8AACAASURBVBvOs12Ric0CVmS0jCqzJsJQ61yEUsjqGlzPuJrrWaSM9jItnEX3E5KheploXW/Lxdqq3XwIebAmhfktNOKV5ROxSul2ZH3AQXzZraV0p96fBTUVmyXTtUvptghCxBM1Ug14dQ+J+aF1dJZVEC9kH5zNLn0uy4MftcppnE8mSnVls4/zPB2KTR8WIRqK44iLOw7Lw2jBs9bquRVYW8tH4WRcTeqcSoVWtnQJbabkZXxSuN1qy3C5hczj0PkTagnRINGQFDurzDjQPJYLMU02aqntQ6+tIDc5z6i77dbpWUPKdAMk/xo51dAXCJ8VpEjNRWxOS8ziVmt+j4taOMeBReNxbNc3q8tyFuJprZ/lYe3JB6iEBzbxwaTwm9mKlHyggwJ1sans1kK6s1srmfWqAkgZZ7qFwEZeNvKkrjdXETyV30265oukXHrg6apiMVaZuy3idoGDembV4+IrCOgkzwCJ9jqASqPpbzr0/EJyt4XtZ7Fg1haLYW3JR6IMMnUFmtJ5nqbwAChdHKO86tN8kNTDtei445+0n2+fClStZpsvom/mtypYzjWXZbN+QmJ+QtyftwJBMTkko7UCfWYXFR8si5RWTUzLIgz3MWYjDLcoY7b1LWbH2pIPjfM5lVQDVC+qyu5upEc/p6yTzOZ2W7EKJyX1bxirUulQV4xKsaP6KKxazTUPOGdaJFErsd0lma4ZMxLPugXEulAIqRslu1ldb4sSyiKEEzJgNgUMqySdUMKZ1fqZx922SLhDczz48ada19sycFsIDgrpTtOuHgprxgGyPsTKaabYUYOOLcVOJ2EYZ5WLaR3SdCxS24cxVsuqYNv/qtHMuTZLip1lghKQay7GheZzNymqucpCojaHaULK/ckySzIJI0jf+nnf8EMsm0iX4jb3XcZ5+ODbbytCWD3W8F27QkjlwR750TZ/4KasBU2CCkko6hIpVElJ7e4w1UJgEx7U3HABrrd5oEQSvkDTWYiHnuusrrexzXw9BtBks/S20gDSoOBL4UgoGuK28wgHUi6d+0h52WbF7JP2vhQ3i8u8Q2A779CXlTbm5/iw1uTz9ReqINMzaTlAFbJ0vdkGwJA0Ob4s1iHChELUg0M7RA2WpkwP4rZJe1t8TbOPL0h0mbC5AGmKHZrdOqqp3tb6UQoCVTHOm6PNG2QaEIiacqlb7bPTgTvlEr2o2k4HdFpCpJmep76v5bjdXKTjIxy63ZXlwfbZEKyqjH3relsca+t2K6TAY9c+ASDVD+ZCkdBNKarlx0/jfNTxqIuNO+J/8oABK2QeZBGXUkjMz7pDxfxwxmo1clblevMNTIWQ4I5R2se7WWGen5yIulVSuaPqczPqcUs5UFis0iZRGc9zBV9/s3bOusu7fWjdbceHtX9dpQ+Csn4AYCOphAfU9UZztFET2joZ6xl4fC4zOlE9K0KsH+oCC3G93UrYrJ9ZXW9AvU7QrYCQwDirvlf6wpHlblcXMM2KEFXNhJS7t6s+NtfZLBmwQ0UOLmvJfozjc6nVz88vPJh1jq4lnuPD2pPPXfFk5s8EqdkCgk1tpENjezrEDdXt1IMvlbnfVLqtMxZxvd2uUNfpc8eGuMy6cdVs8M3D9KJ6nyYhhJCO7xjrEvMTIi44Hin47MTTut4Ww20xcgjJdLP3cQ8cYiqhNbnwbPNEzSBT73kew/x4SJCpLeZHWVE+UcFxwmb9jMh6Ov/SrDS6DAjhF524YCOctJEp3UQIKut6OYdTEo8JCZe62TCLJRSK1bjq1i8gdl3I+E7CWpOPAIMAw11JZf2cSqoRh7reTOl2ZlWazX2eAROaNusn1PXmCzINPc9lkc6swgOb6+1Wgn5vNi7PiTdwlBHXWyE14dgs6I2kdAn3HFbQRlKKB0wIIRybW46+XHEma00hRHKt/l/U+pjVRejbV7U8u+ttmWq21vqZH2srOIiYeRArEJDtVthdZrXEj5anvPbDJXE+tcSj/GicD1AGmU4yURZii/zxMseBpmTbJ0JgjGmSouWFo5ijyI+OtJyX38utwCLCg2bpZDpvZ0u346rxAwDbaX0C3oSNxDGHKIGugYxqApgGGQmicKPpevgCczDLirUJCxqtH4uKLShW+VNyuukDxUotZsNtcxsLuAe4puusOUiYXGs21ZozUjogLshmBS2Sfn/WUtqrtvYAf1oXl2swRHgQ4npbVPHmc9cCVWE5F/FsJCXxAPW3cWWRbyQS3VgaiUcRjmo22CTYCpz5hRDzYJ45p+OYp5kFtfnLQFJbdd2vOx1rTT7vPftOFGAowHBXkun1p9LyiSgkw0ZSPSC+KHETVh1UFkXMmA6FTuCHuN6OQyYdEmRKz9uUbofxMgO2Ih5KQMtU6PmIzwUa+0H5sWntqGSgY+Juo663iAPbnbKZsBlLbFoIBwA2YqmbDV0udLMh4ZU7jVo7tjnSpuvtOFLt+DDrPJDL9bbI7zkkTrCJ1vU2H9bW7WaDcmmsMkEhUHdhUNdbElWTxKYUO0CpepuQN/tiAZ/UKkin6XrzoemessHiKV0J8qJezG8WuK7Hl926mzBjzA7FdiKtuQVdRKP7RPUPa3cbk7qo4kYkMBL2G+5zuYWQ1CKg7jMXjoPwli0EovWZWsyPtb2FQhb4xM7vkv/DMuJ2azE/ZrWaLVnkGkzPHMEicT6rdr2FysZt1k9Qup3M7Ho7TiQxQzcpGwAMiPp/MDXItxOBjVhie2rl0HmZXlQS0rZjrgcoCaVJPBQpl0hY2UxQloONeGzWBe2fkHQ9ITE/pvXLEBYsYo2Fkp7JQpqVVFrX3PxYW/JROMWH+s3srMH1BtjdHoDfjF7mg0NjflKSbidJuE6TQ11VNRcWLTi3hpkImi5DRSghRebmPd4qk4fSfbs4VGVXOJwcHdC3U1m2xPwQbcWFbjZsx4VuJnR5YZ3nUa64iNW329RqzXUUTSXcrJglkHXWfdjdbXQ57NyX5WZvjik/+pnW9TYrbkO32+J9hEStNDFN4aLcBc19hLjemvAJCzgHhKPPMkiIptupr1/PEg4mTDKhyZx+V4u43mzwGXPK5abEBU1QErEVP9yIhHGwpKlq+rzQj2jChK5rlXKJiWBEETa7aGbZCDmWzQ23LqIE30tos+hfi8VxWww/gjQK+sZJ/fAbSbWcNBJ7Kq+PySOlYoJ86pdFrCVX8S9l/XButxzWPcUOha3EdojrbTQsB/FVJIU0wVZpVL1Y9NP6xr1J9f8gZ9iOBbZjUXMNU2vkZJx73Wo9XqA/bSZ0mECHCYd1MVuaG9t+bLFAyxx4lyVwsFk/tjgfq+XkGAnX0R3/WsDakg9nkQ4yPRMN9fpzaVbrtyyl2iLzI5TgqOstJk93mjL9I6CDcqwJR8mwzccIqVi5atBzoNm6qest6SzPFFkl6YTsO4kZkpgdIR4FNY/jmsvxKdV6vNDNBEU4mzzX6yg5dck8UFIbfOvL/gzT1lNcCWb9zS6LBBd2tzncdq3rbTbcdm63EIQ+YDRLMlWw2FxVzezWPr7iHHAlG1ZuNRfhLAM+11tVbXX+YyxrnmoyFkinOfIm4wLplMxGY6Fz5y3qegslHhNs7jaKDqsfQCnUlPusOyWP2EAEnEl0WEUuuaWMfJcQ0KAw34BFCsu58qwtQhy3Cr7rcXkzbNccquhrYcbaWj5N0JK8Z5LqLVAJD1RhOfWQ1FRvZCA5jryeLgtFWTgJsRaaIoSQ/G2+7aFYlnVBBRPU+pnV9bYuoPN4hxOJjbR07VJ3215GrpkJbEY5NqPcOnGfMFkjDYoey3WzocMK3WwwWUFNhFg/rpQ+y8Cig3ao8EC5bU3H01aMTYw0hzihtX7CsbaWj5AFTuAmduVJAMBd0RDXi56hH1toAKXWi+0FupaSh6TYsZXVTiKmsyfEEUNeSHDGkCblsgm2CqazgIoi5sGsIoQ4ZsYaRuuStNSG0Lgl6kI14VQqsBW5g7gSJmB7x3MRjULMBFJU/UYymX62wFCWT+zpOMOBqH7KSuig4oLUc71ICqRlznuEzDWZYo9CrK7yBdV/DtZ53Rmvs7V+5sfako8LAvYM17axN8RllhVVbRXqqppnUKfBiraBjs6bZJl5/zZrQQrZSFBqPtd5UvnMi0VIJ8+Enjuyud58qjef+3ARdxsFlfmb0GEFwCqXGVWrcbUd5faYHd0Xh0SXVXObJtdbl2UQcJ9ryiVEYe5jqn7qwiKup+MYoGe9htoyzdk4h1uxxXxYe7fbKXYDAJAjwsloon9wZ1LieutU2a2p0i1tmDIhebxWjThitaZA3XCdDjfmgaMpa1wut0VyyM2CZq2ikJifedLthAgtbMQyaxll6m6jaXUKUT5npzoSe1l1MvvT+ZZNniOBsLrEEiZ0s6HPJrrZ0GVZjZia6LDSGlNKuy5R10WNptc3VGKqfImLMFaZksoFU162ktyOKt38FWpXEyTaut7CsNaWT4GSSXKLQyzk4V9GlH9zHyGut+Z6mjHZ9KOIIwZhiQtR4JwdkZsvG81zW8SKWDVcJbZDUEtQarj1nNVfZkw4GefoWQiHg3znFitlk43q5wRlIUn9mU02RE5+qsr11mcTHMoUXZajG+XYF+a8P3T+JvM8Y4vAZeHQbbZ+IWl+QgpFAvZnYBWE2bre5sNak48JtsA9G7oJ08kgaXAoYE6hr1xv5RuRXCiHEx3QbP722PPUlm/9jLiUbp1bzYZZ440YZ/oz1H0ocgk+JRPqehsNC3R7R11v8yDkVH23dDsROBlXlvdQRpqAhGTalcaZ1C4zSiYCTFs3I5kYLZkuRpqITOhNP2/rQxV3h9KihiPL9PlMuNQkZXVVkeVaYcYVDMRhczjuuR6fuy30OC60+d5mw9reLs6qn8ZptodccuSS18pqn0yqn8ypTvXk2N5WQ8zrQsilBZFSq6FZelvFkNA5BjWocs6mrjfbMY7HreaCLUN3LYYpIN0O4wyclW1VCHG30vIa1N12Y1gub6TAsGA6sPlGXn9vS1mhmw2+Pikm6GKELkbG7QDQxVATTxNbfIINnummQOOC+lFhLFKXzpBaJ6hM/RL7NEEtqPIvq60Hjj8erkk8baZrP9ba8ims+rMKk0C/rvdYZGTKCqnJwpbB1uZ6i3jdxabAOZA4JoiryXNzn2Wo4eZBUwG3rGMvIhO3CQ+o643CJjAxfU8UKpGoLYv1Bver1SjRuAQCKY4SCoeAAEdHHqIDoGDlW1UHI4zRLc+h4bbbl0cVoQCcc02hmGeeJ8Td1uzj25+rX8jzuYpEoJPiaNn0Fm6sNfnYYPMNbyQSg2nsRTeusg9T15saiHwDT4gE24fSlec+Thkgab6eJOH1rNvTX1yoVHhZWFosUGSu7Cqk1JZPiOvNea6eeRzA/90DFfE0QaXVe0WC7ai0MHJwxNMZuZTltWfUNI8TM4HYIX5OpN36AYCeHOjlIdsw9qHih0we/alHTCKKJEbFNG8ck5iogNip66052DfVYFRlFprWx4QQl1nIdtdvw+ZuC4V6bGzPVUs4s2Ft3W4A0JP7evkM30cGjgwcp0h267uI7FX5ff1ltlcr04k403NIVHKtLIgkZugkTEfm0wj9Xocb1XBNrEO6HaDKh0ctGZvrbR6EBNyWrlJp/V6bq201e6jr7eZh9VztHFaF4V4Z2xUIMSsQO9xuMSucarVYThDLiZV4UjHQLSZ9KBGdw3WtmNvmVR+anmczyp1E4XOJ0YDveREai+POTFCew6KqPFcfn8vWla37J/+kdb25sLaWj5TljyWDW240CfgRuB4+m7qrFBtUIoR6xcvqr8n1ZkJFRubtlIAyizeHprAxxdSoc18o6PYYxAzaygmICxoPC3SmFs94LNBR8T/E9UZdg/R7Cy13biPwJMDkjT36Q84kOOquN6WCyxEhRoEYeU04IMFBdY2xPCTbzD9ZSkAmdFmGzPGmos5wkeDL5u9QERx1q02E2w03i5UzLxZ1u9XSctFrK46Gd7SwY60tHxtyybAV59pFQIP+lNigEKXrTVeBpOlfIraUbMmhD7HtTTuJWK0p9DrV8lY/QhwzxDFDShJcUiJSpbrnhbJelll8zmT9MM5qsUBUZECJSKywaJyykGzfvUkIAgAvDar/b+QxOlygwwUGsno5yomqLGbCWR+nJJ2SeIzb5Ug3GxJ5oJsJXYyslpZKZFpIVhcekOWEV/FzthQ2syjRbH0nomwu4guxYEy/6SPiBMP3vkp3WWv92LH25LMtX9XLJ/gIucPK8eVqClE9hQQl2kQMimNs6flpP59R0UmYM71LHDNdoG4ehBAO7RNCTL5cdKtCiAXVRFNEoVylVOl2c1gt92KgG0l0I/uxOAQ4ZC2+p7693Gab6+HIdbMhEoe6cVGJFBQBxXKEk+KqVsxts8oi2mLj2r5sHoNMMN1sCFOqmb0SlEyoYKi5v0VdZr7t8+Rus+1HYbJIDqM7DGvrdlMQiJE7ONKvfjFvaBaBM01UUyUVVcC5YBtjQ8Zeuv+x4bzjiEFYvjHGmHbFhQgSFskDt+ry3EBp/UTp0XQ7yvUmRJnpWlmDeSH1HBl1vbkQYi32PL+QCBLc4nqjAgMK5W4rl2Nt/YzYJrpTEilYikhW5EKJxngsMUHM3SIFF0Li52yxNMoyMpFHZXmYXXKu87D1WcTNXj8H91yPCzZlZYtwrK3lI8EgDNyoavsUktUC/Wqut7R6o6G1WKgPP0R0oFRx8woUlIXjK9NscvUoq6ffYTizFemBNaX1gkjxueMQHoRYQDbhAc16zenyjJabdLjMloUsl/p7u3pQXe/Lh5UqbDdLEE0tnENZabFVPJpqNoipneQKJIWxhGJjL2LiJSab9bMZ5drC6TXcbQqldcKc5CQWdJmFCBjUOUxEnQCbqXRscUGrSKMTitb1ZsbaWj40yPSkvIEb7KSWr9oe0jCNfxjpmJAV9Tfqed98QpJXbnWZVZxACeg4rJBVw0dAUsigLAoh1o8tDqsQfss2YvZgTEoiNktoQuTONsWbJPvJWV+LDQRPGyQjyN/yM5E4RB5tAgA68gBjtmk8xli431RGhT8ztOu3RrfRl6KmJWQiEQqfNZZ5XFyrzj3XCg8Ww9qSj4KYkpA9i3WAu4D8GGi5A+Weco1ruUXpNg98pLPdASaWPpvd+oEPRuVFdTsco2n56Siq0vBEEcwxNQGDeDNj9q1CMRHGmJ9apuuJrAkxlo0ktkt5C0t8lgDXBCQkw4T8zJQ6jqbV2ZMbOlj0kG2hT0IMAKpwM1s4kvl/xtQ6s2HkyIBdSOYc7F2JXZsE5EIIYWQFYOOlUMJZlJjW4Odx22Nt3W4A8Ia7vkovn2R7evmuaFiV2G5kt1boxZW4YKNjt5RWbThEvGqmgX8jKdt2p/yfvjH1U4Yz/bKd23SLD1SzwecyU9bFrHnaTLDG/FClW4D1d9ygLyVZUc33Xa+quOPyYfUF7WaV0o2q3oCSXFQzYSRj53YAyFnHKq2WLNXNBgGOQ/RwiF4t5oem2ykADAqOQcFBQ7IqaXTp6rIRT4hbLUjEE7gPdR42cYLtRSHkpTE06/08xNO63o5i7S0fCrd/PFCOKR0R0IZEo+ozJhFCyKSjKT2PIhhbfszXb1cnqOYZmuh3qvV7h/NJbFxE09y2iCXkU+QxDkjLdxJyXGr9zOt6U/0WKWlOCSixuN5GhkwDFEOZYogzOMFK4cGYb6EjSkuo4H1IRvLliaMCg0iMcBCdcx7jZpFg5HFpNedWKEIDRGvnReZmbPFozXusiGbWUt+1PgGu+Fnft2y/+9b1NhvWlnykzHH5yoch4/PevraHcCMBBtk05idhOJyUHZulDzLDDkIVUwohRMQ5sz6Qr9+sCGRicSU2rZ9X9svz3u5HmoD6PY7DYeWGq1LylOq2ZVg2ywDjDFHKIHIx/b9OQGqMFbkAnyYuzTKJJFFuuMr1tghc33FI/MdQ1M9Bxc9k4JqAbhRpLbeayjg9kjG6rCyFsI8UJyxqtTHf0supJZh0FJ1ynudO0cehcN+vobYqygunarDSGnR+PJyUHIQwyzFCvp+QVDq+AHETQtI4tXBjrd1uANDPr+jlU8T1djoaa4XMmfRodutlxPz40rbQ/digrB6VLYDGAWQCON+XON+X2Murr4JOal/sC7zz5Eg3E7a6/nQ8wOylD5qf9bnmbNvpG22c8MWsKE+6nVD1HE2BRJEX1Tb1sgKUKXYUXhpFGAqGoWDYzcwD+s08xp5IsCfMbrWbRYKbRWKtwTNAXzcbhtEZ3ahQIUYlZjgQHewU5T6ou607VbTtZRwTURFPE1lRNRv86XjC4nFcrj0ViNpcP8sxaL9bgdb1VsfaWj42+EoHO38EIUo3iyuAxvmMM1lLh0PTuYSIE3wFygDg4c6f6uVn5KUj2x/YzDHI3F+fmgcaK0FCzFHk1QXaVEmz4LgtKSo8yDKhK8DmufSm23EhDjCifGrKvTzCxHOsnSzBBqkueigiTQo3RbfW90xUMt4AfWygXJ6wjVphOVOGhOvylFPmfWNKmLaM8D7rA3ATjSlDdXN9xKrjL+RW85HNMcirQ1RvbdLRo1h7yycEhSxr+6gHsVbbh8b8kHmSJnn4JkSVOGHesTaNqmbD56fP6UbfZB9gl/Xyn9v+OB7YLAeczz1VDTznT5Q77iQMp7Yjp/jAh5AJ4lnFCbX6P+SXyEktIDKdUXPBidx+Iq4YJ5t1oz8bEIdlw86oOujlYYy9vLz/IyJjVlLhq+MYL45S7EwFCoOifsI381g3G27KTd1MuCZP4ro8hevS7n67liWaeJqIGDDKGUZ5Mxi0Wg6yYESYFWQjvuBjOOJ2XNttJLAq11kz6eiHnm6tH4W1tXwYkY/28ys4nM79nGE3sSNPAADOxiO8knWNn5+1ho8JQkq7plP1aQgKam9BopJX07egQVZZP7tjhi87dRMAsIMzOIOdI8d49fd/Fm/+gg9az+Fcv7yOG4eLEY5tPZ0gvtVZtEPhI50mmtaSsnJHmdTlFXZHwKnp4zYRwCC3H2NnUn7ZtsFObQeA7dh883dFVZunmRoHAK6JbQDQlVNp0tKYCeSS42pWyiibpRIAIOXAzSwgVGFB60Jvtzw7iwgHmoIe17kcl7uNWj/D3J8l407Fa+q2hDxctkGWpqSpJbkktWaU0k1VO1UDFFXAheLShtu3sfv7/9C7j7elV3C1f7dx21afYzCNBer1OIZKhEBcb6F1gY6zdpD1HIjwwJRuB7AXmVsmXMULr4/LY/csjLM7qY++vWmeuL2cawJ6dpjqaqkAcNe0fMi+7GgCei4/VZu/aUK9kNli4A4cpKkQUqTRtc000e8iCpuL2ktsMqzeVsjYMI/wQMEnOLpV80zrjNvkPdb+BF5Iqkn4cx0iPOhW33Y3ruJc+iTmh0a0l241aU1SqbbZrKUQcYKK6bHN+VwcfwLp+Hkj8Vz5+IcBAC/93j/FPR/7q3hbWgox3rf1ku7z5rsYtrpct3lhKtdAMW9G8EVcb+b9LV5KPKQu0ogkGx2QOM+9CdN/Lw+qHQxJsGYhS+t2d8wwchQ+3c04djP7SVzPElwverhemCuVXs06uJp1rJ6A3QnXjcLmVrPOwwSmqZnHJRbap+maoyIeG4ndyjmXJvG0woMSa235XDr/QVy+8ksAgH7+Mg7jiwBK19s1edL7+UVifgCyjdsIiSwX1TwSFSdkeeW22RtXwaSXB5G2fgQ47hn/gfU8nvyXj5fXk5tHrwf61Yj48kHH2KcWZW7Y3iQcKaUxPofer1vhhlPHs5FO7ToDxAa2a/C9yVYkZO50fVitt83zKfICyiq8TZREUb2p7BeRrqSqhApXslItlxjS/nAmcXWs3H/SmJbKRYgUIe6sEOGArc+kcBPE7WA5tOl2ZsNak8888GW8zYpyHkalzq/H/LDSwmn80OgAlZNfQV5IdGyRoh6c6kjclx5at3/m154AYFeT9QZP6OW3Aniy+xUAgHefG+N3rpYE9IZzMZ7bKQeruB9hMI0FSlKObFK53kxpeBQUKdkCRZehmGuCxvxI0Yj50ZmuqzifLJPE9SZrue8oQowkF1mpeLDBxNznBlHC08eCDj47w/o2NR8wyBg2Eom9CcPeJNJktDvhtaS51yYVGXUj84hG55Ns8JHOPIN902JyZcAOPcZxk84irrcWs2Ft3W5STPDsn/xNQBa69bNK9XWW3dDL55IxhGQQkuF8zfVW7a+beHJTTd1qNksoz6Vu8yKJStJRarxPH1bKpRc77wIAvPTxX6tZODSe5al/80k891tP4bnfegq/+6GfNh7j7mgPG2mp8psXyq3mc7+ZPmdapghxvSkwXnfDHTfoIERdbzQoeTApLdq98dEYLt0nq5oNB1ndEqKwucworo4j3WwY5VUzwaU0C81pGBrTE7J9FuJZd9dbE63r7TawfPL9zyLeesOR9cyZar5E4ZFGq/kZ2zwPJRo6aOa51FLmwbBAd/rWXYiqFAJ1vY0yia1uufzSgOHujfrxLsoXym0f/zXjeVx/clcv3/NF5owPd0d7xvUKrozNUcSQZUfvAbX4mkQUYgnNinrg6Pwkb0uxY3OlzRMXRMnIJmxwkY3abhtgm0S0nZYdhwUwrSqOUcFr4gFT2erBEtRsy4DPjanCGBaZwrtVJRMo2pifcKw9+TThI50C9h/TVpfhxmH5+TiqHtY4YtqdxnlFOjUFHB2gAn6tQsAqw6EZGRTxNPHqn9wwrqf49e/+YXzRf/ee6X+PIn3o+wEAX3PmGj6yc7a0su7m+NSV8nxPbsW4sV++9iYpx3jk/7Wuwq1GUdsnZyim955xVnM5KmIqcqlrA9Vdb5XqbVWglrNtkLxxKGpE35TaD8aytn6Ul4IYoJTl0pelruXXuTumopmj20MIZ1LMnqG9qWALmVNdZPsq4Cogp7AK11vEW9JpYm3dpnsavAAAIABJREFUbhSTG08C08JaPeJ6O8eqEtsX0pGeSD/frUaJk93yh6aaDSFutaKQTuLJC2lVgm0mVXvmoBpVHi/eXF3Dw9+JK48/hyuPP4f7H6myGkQk3fBTv/4cdv7kBnYc5LQldmqBtrMiJMN1UUhIWTUTQlxv85YBV59dpJCeTelGFYtCllZsVsgj6xUOhgKH47KZoLYp4jmyfSJ1s6GcC2JW1xxQko6LeJq/g1VYCiFpq7LCvj00s7QJNWGD55loBn82sUgAcu043H4ud3rA6dpaPoynEIW7QqMLISlC8gALxjawFoXUiTsHh4V+6x5OBHpTshhnlbT76kDi3Ib5SWbDZ53nMNwdI/Nkrr765HN46xccDVAF6m6hs6cSXNst/UGdbmX90CSk1OqgtX2KfD3q/FDCGo8EOt2jMT8hrjeXWs8XgDzOpHdgGk6kMWmt+rwCtV5oUOuNYb3AnZrHmwjo8ge7o7qSqjmgDnPz+mXDRxaFqKssTdneTfuc5XGLWJg1t8i9CLWKtKiCXKf63m6XQO1V4/a7DcLuSKfleC/2q9c6KjzodzjyokwgSZVqNB2NEG4rR1lItu0hb29n4rFuNgx3xxjultuTfjXC7DxVZkQYXB3iN//m/42rTz4HAHjyl/6W7vOV/T/GdiKwnQg8dGGxV9xl1fmhsFk/tNw2JTp6/Dw7ej2MsYWsqFCMM1kjDgVl5Y0ziYORwHBqxeRUhFBI/fmMWNjNF6VRJmtzSk2M8lKgcOCYUxrmFfHMg5C6OLSPscRAQEzPMuCzYlzWRwgRhVhBvj4pNxPP3//TO9f6WVvyEcUIey89DQCQosD41U9r4umNn9H9zrFXtdLtUmrO+gxUQaa2gmoh+cyyibC65WyfPxhV/a8OJLpx2T55UGUrfr7/Xr384Ae+GgdXBji4MsDr3n3h6Dns5cj2cgyuDo9sA4Bo8qJuNqiBep7BmlpEBbkXs7reAH+AZ4iVxflirrvQDA/qhaW2fnrJilBMpARUn21+nsKXPXqUSadSDSi3DTIz6VAFWS3hZ+P6fQO5D8smnJB3Htv1uEhnGQghpebx1yFbyLpgbd1uClLMVygNWCzdDmMMUlZzQCY3VJ5LHexIXT7DsUCPTH7XAyKPnlSfTTDZu3xkfe1aRgLZnnnkOXjxwPlZAHj/pQkeu1LG/9xzNsGL10oi7/YijKb59G2uN33mnpGAEtC8hMAY88qrGS/P01TbZzKRWn1oU7GFuHN8g0TmkdzbChNSNF13yj2aFZUrbn9UCRgGY6mr8qprUIS1yCDrI5uQSfq55miISyrEDbcoQnPA+eB7dtT9XPX13O64vW6PFFWz4O50jEwwZILhfK/6RZzsVU9MJ1H52eoBicr1plxuNisnZELe91bUi0rS6TP7vNbkIMP5t59BMZ2X6Zwk0e7PHyIb5MgGOZ7+d8/r9b/7U39PL79b/hZOxjlOxvbXZZ//2XetIRZjCKKossRM8T+K8K11fALS5Pi+kyDrN5dW4qGfp/toChW8E/K5dLre1DablRRyDFre3UYsKVFoUYLShCGr482LZVhJTfIM2R8lhjSqLD6ruzGAcOa1Gn/mmTvT9bb25LP/yjOQxQSymGD06pN6fW/0Wb18ge9AgDlr/Yxyt1vDO48TMDBR194+EQgcDKsPvXzAdJzGHx1WKYL2Ln5LeZ771/H2//q9mLgc+h6Mbz6rmwlp5B+oQ0ts02V6b6gVtCgx2QjHV1gOqMoqRJzZFVY+wpkq3aykowKUZwzKre/DTWzqPGzBrtTdRQdfes0hZT18g6g+xgpk0uq8XdcQep4hZOBzyy16DHoNNFErfdbuZPn1WpOPFAJygZFrWLgjuoEyHQtF7a17GndSNAaE2lttLjThjC1SW8D9kHYwQQcTjPavG7f75qsA6HmigysDPPajv6jXv+F6tfx1F/f1wHPfucqK6m+UKzkHkuSou+1Woyk8UMRJhQf03lMVo889ZoOyHGxqtRDCocTnO45a1utJfNk4q1RzTWsoJBuAj3CUhePKzVZIu0URUkDRNud0pF+I1eIQQyw6zxPxyhKyHTeU1EKI7U7GWpOPESrnCuM14cHdvBq4L3QmuiywqnUDQGcZGGel/79JPApFLnSzYRnuJs4kOqjcbuzNf1EvP/SX3q/f6l/37iqrQbJdTdONdibIRwXyUYHLH71qPMbNF57CCT7BCW5276nM0KuQf85q/dhS7wBhVs4yslwDdjcS5/ASDnX/2eTa3vkm5TZb4NlKeNVM6MZlSz3fu8nd1lzvQkgqnUVgG+jpfim5+ojLe5wVEcad6HpbW/LhUaWP3r9SZQEY7XzK2D9DirHkGFvKBys/uU2RpOZ5fEk2TUGV1DKib+DU9XZzmlkh4sBz+wx8mgrl48Oz1uPNi8GVIW6+8BRuvvCUcbsaeGwDdUrEErbBPsT15oOfTALmcTR52ueCbMGh1n3WBlwW9KIRR0zHFZm3hwUt+lyDQgCHY3q/ietNVoMkVaNTa0J99zYsErRLz2OW/G7WqqcW15tLracQ5HYLtF5mtaRsCkJ63iFxiK91rC35BCHqI0OKDOYsmiri2zZx2+twPddD37SjRpJLE+HQ/731b6Zvsgu5AxKumwn5oMCz/8/LGFwpJdgf/clH9bbkD/4OAGCDjfCB89f0+jddINViN45X+BgiHKi7QBufn0rFs4nd9bbqYD7OmG4mdBKGOKpKbdDzUZfvFEAsyfuZRnbSofc75H7ZrB8632Qa1H1u43mSiRrPL4BwaJ9ZLZmgINbbe1Q9Ntx2tynunkA+uAxEZZzMdl5ZRZeiMuXMjTyupaE/06+esM0uwzgTutngFxeYSan5edvvjf4InhhV1g91vT38Pd+AuBsj7sa498su6vXdMxXZ5oMC+cD+GrX/yjXsv3ING8weA7UM+IQHzYGtmbfN51YLSaWzTLIxSaDL9WbCUdfcSZhuJiQx081GOstI7ZLw+lxP803bZxnQe2lzzRXSLeIB/KQzL5okZbqWZh0hG+EsolSr7WfB+aafffYzi53AbYa1JR9R1AfL8cEu4u4Ja/992ce+7ONGbn6DPxxL3WzwzfU03S90kFWT31JIHTcDAPuEGK7vVx94+qb51gtwJN1NJN1N43YAiBwJNEc3J7rtv3LN2EdFW6cceNvdZutnVtdbEzSQdRFS8AXDNt/aM/JCMcmqXHtUeLAKPYWLcLoJ082GoCh6cq3UmleDuyIaZRw3cxkua5ANcanZSIeKZ2ykZHOriSaZBEzqu7Ytk3Bc51G7nobrLWJStzsNa0s+CunGJtIN80CcR9vIo23sy75xu6qzsjcGTvSrS+01XuXUXA91t9EM1i4riBLSIioxAQ7h+Dq6J1JEHa6JZ+Nuc7nk/eerAnUf+4eP6+Wdf/sD6OIQXRzia089Z/ysa85iWQiSR8dc96ml25mSkPqrCWfiMFFXCJ+V0+9w9Du8Nh9F87hRK8hWliGJ/RZfEjGrmi2JqrYoTG41td+m22wZwo8meOA8jq2PzcVYE1UwPzEtqqpzuTnvJOtn7clnMqii9wfXn0XcO4u4dxbIqho35/GyXr4vPcT1cYTr4wjnNsz7HGcSk0nZbHCJD0KCTG1oWj/qB/v48IxeP7n3gwCAuLeNh7/3g+ieKN1sb/jK1818vNHNoW42+CbLXURhEx7Qe1dzw9kUYB7hAABE8erzt5nmZYDK9eYiHCGArS7XzQYfIfQ7bkIq98F0a4LG81CXmM1acUmsJ6Ieo0KhXG4uwYAviDQkjACovguTVeSbv1mGiGKZoN/JRNy5euu1T68DAN2tu7x9rhdmS4DCpnRTKHLhVrsZfiA03U6WVcKF0bBAdxpNuj8osLUR/upZIELc2zZuizv+/RSu2hFTfODEp/GRwVsBAO+4h+OJF8tf8vZ2gr29DIwzdHoRJtNJfB5zCIf0fB6EvB1zzqxPKSVFWuAvywSSqe8pL6osFrYUO76BSfWzWTibPf/I1k+rz9pKJ5zocx3PkxDiiHiZkaM/tXqVC5FmwC5EJSighctmRYgKK3MQii2uKiSVjhCy9kz4pM9A2JzVOqBZYrzFOls+DOieOI3uidPWLvvstG42RLzMj7U/Euh1qm9f5f/KsjJIVM3zNBVWi1g5CiHlqIVkKBChMFSgS7c7ur3p6x7Q6088YDbtDl+pMmU/8Quf1suf/gffh1QMkIqB8XPqDXGRjAKhyikX8XBepjpSfWoDEnFDOdMbec6DsxAZt30Opt9hujXlzgqnusB2p2yUDCgRne4z9FNWW0ex1WXY6jJNPE2EuNVC5jdswgH1mcnUwlFTak3Vm7JenHMfAal0QuZhbMeYRbWn+tPj+paPCz/33J3heltb8uG8smQmw6pE9PjGMxCdixCdizghXtHr741v6uWISewMgR2Lp2k0FhiNRW1ymiIkriOElEbDQhPP3kGVZkG53goBPH2DQ8jyCX/i8JTus3/26xF3TyHunsLbP/jf2E/EA5FJjHdHGO/a1W4bcZgsmZJOM+uAIiVbih31mXlzs4W45UKyddNJfVexO3UezfNRLjfXIKoIx4bNBNjqMGx17Oe51WE6KLqJjQ7TjaJptCtSshnzmScDiCrLYDOkVZE9WxaIELjuo01sMGm4EhVhLZxfcAkCBBdscT7U9XYnWUdrSz5NdE7cq5sJLxdbuDyMcXlo9yQORiXpmJBlUjeK5mBpIhzqjjLVmqFQCU1tP7qJjHSzgcdMNxtEJiGm1/Lpf17lwXv8Z36w3Ed2HV+bPoaNuOzz8OuqfZ3YjvVAr1yHJixLHm0nHPP2ujCkIiXqMqXzeULAm9/NBZ+wACitHNVM2E6lrmTbhHKXbXfKsABFSjSkK40qUqPxOs3r8aXS8ZVuGGT2sgxAWFVgmtjUdr+pFUR/C4sQ2aqwakJYlvLudsNKyIcx9naynDDG/gZj7F8zxn6EMWaWphnQO3m3bja8XGzh5WILAPBAv0oho9Lq3JhmFhhMM0OnxL2RJFznbmumc6EIsXJCXHO2dCu2ALsrm4/o5Xf++e9A3IsR92K85QNv1OtPvcmsBBztHE2nM7h2iMG1Q/DMnEMuZJANcb3ZrA91fyp3mvvzdB8mAmoGA1OULjN7AKgPIXnZ+inDyV7ZbGPmqY7Edlpu7MZVpx4hHJeltJ1WzYZeXDUThPDH4zSLzzUfVZOFRK1QH6mZ9jkrQgbpWa0f2zN4qwnn559/7bveVmX5/AJZ/lEAbwTwvwLoAfhHoTu5/01/Wy/no1dr2/b4eezx87g72mt+DFcPGa4eMk08TWSZ0M0GkQvdTHBUdahifmQ95mdA0u1c36+Wn9urnsBPHtaFBjzqgEd2Hw53DMAAkB3myA5zDK4dGrefSgrdbNjYjBFFTDcFGwGZlG6KsGxusyCXmdc1F+bzNyXwVDARTnPQVPMwNmynUjfndsvXeqordbPhZLfKWuByq7kGY+VSs1k5inBciXl9hAP4yzsAduuntt6SMugWKe1nRlOVZ3K93UkW0KrIh96+rwDwnVLKRwH8DwDeGbqTy5f/gV6ONy5BdMtmwvPDFM8PU1w9NH9z47HQzQVlwdgDKyvioQR0pPDaAun1c0S6mcBjrpsL1Pp5+iNVJojHfuSHkQ8uIx9cxtv2flWv//LXVb+Gu07FR8jmyHnwsHkcl1vORzi0j80SooRTc71NRytXks9Q+OJxfIQDlHNrZ7rVQ9OLqr7duLSSTnVkLaMAtZbu6kpvbjbfwKUsHCvhZO5aQkBV+iHLpVGQoVzLJtAM3muWPP0Ilik8cMcmqUDTxY5xu2FV5HOCMfYBxtg3A+hIKTMAkOWIHPTITT+CeOMS4g0z4QDAS0XdUri4Ue3+ZJ9jMBIYjKoqo0BVNA4o1VPehKLCW8POiRABA3W9fWpQqdhe6L1HL3/ut3ynJhzqejvzVrMsu4nB1aFuNrjiR4Aw66JJWPXUO1VJBBtBh+Qb880nxTGbKubs5+kDzTpAJcTKEthMyiwRinBMj9BGLLGdSD231sSpVOhmg4/UfCURfIQTscrCoZYpVfFRwrHBRToU9qzhflGJDbZ6OSE4bll2LX+hI7PBP3nhte16W9VtfxTA1wP4OgC/yxg7DwCMsQsAzBMONohKNsyz0vV2k1+ABDtCPAqvHgjdbMgzoZsJpQXkJxyb9UMzXU/GJN3OQbV89WahCYe63igEGMCTslnP0zEgDIVuNmzyXLevuVSp4s6dKl+x45hhcyvWP1JTwk+TW44iZGDxkVocuy0ldXz6cpHXXDjmFDt0sBpnUg+itsnvbmwWDujtkUQ3shPORix0s2EjlrpRbE7/T3lJSKa8a+orUEGiNihxwcBRtzCkwJ2LdHyEpBLuRvxohu5qH+R4FtfbcWARYYBNlUeVbhNxZ4kPVhJkKqX8Nsv6V1C64WZGlpaigwN20rj98j79tswPO03DEkWVOorzqWXSmN9hfH5rxwXfm1kh4azKqgZwSjqn37KFV/9437nfy//xKi695xwA4N/+5Q/hy//ONwEAzr76v+Ha67/3SP9uUh/Im1BEY/OauUQJCiHxQLRPHDNd3pwxBimPikVowGkocs+8RcTd7i4lCuSWN9mIASnZVuj1EsVUan8yKZBJOhgp1ZtERpZdiT5NyxSu+RsFOhdh+gp9irQq92El4acBviEQwi0CAqYDuuccgDDLRo0BoVAlEijR2/qF7MuGD7/4JD54z1vDT+w2wsoMTsbYn2GMvWW6/B7G2Pczxr52ln3I9Dxkel4TDwBsyht6+WK0j2cOUzxzmOLiZvXt0zxuQgDDocBwKKzqqCKXC0XvL+KW29krpucp8cyN6iH+5EElCnyu8/B0KcKDH/guvf7Bb3nzzMcb7Y4x2h1bt5/kQ2cSTKUy8w0MQN36a6ZPURaMPdbGXaPHVHah1sdT7gDwy4FVFVEV1EgzExxkNI6GuKrIciFLwlHNhI1IoMvLZkPKJZJpayKkFIFNOEBv3Xha66qZBUTdG7XNWtk1xLUs3FZSuR9/qp1MVNc7qU3am+/HPPE/IeUdrLnfAqwX2qdp/SiYvu/XElYltf4plCq3f8oY+yEAfxel0u2/Z4z9eNg+Kr9GLOpKrcv5tm42qLkeG7JMGktkK8xLJoLsLydPEnW9UdWbkKEp55eQGdKCmy88j/TR78dJXs4FfeBipSy8+3Ssc79tb1ffiSkJqwvKglmkMFzYMcpG3W21sudkADQNgoUoB1nbgBUysKRc6mbDRiSwEdkfsIRJbERC74PuayMuraVCMqs1RudxbBkBRhbCochy+/YQwqF9mt+DPkZhzgNnU73Ng2VUHnYh5LkIKSaXclhfNF5rWJXl85UAvhTAIwC+G8D7pZQ/BOBrpm1m3GBndLNhdyB0MyGbiDLmYfpjskXsu6DKKLtKKfvmYYTw7yMU1Po5/ZYtb//rnyozQYz3M3zkr/wz3HzheWO/jbRqNiyjtHWVSSBc4NDsu4zy2VkeNlkeglFRnSwdYziT6EYC3QbpUILZiAQSi5UkJNPNhpAg0FnUbEfOQZQuyrxYf7WaDU0CMpESlUWvPuZH6hInJnz4xSdXewK3CKsiHzlVtqmvVD2mYpZjHkZ36dZHpdC6EFe5yQrJ8PJB2U5tVLvuTdVtw2EBIeQtS7uvIESZbkdZOQNS52dnv9Bvfc9Uybobrrcv1Muf8w3fudC5jPfNM8x9DHSzgZJBUzVIl1WjVp2O+WmURHAdw34ei1lJQClGoIOssLx10xpQ+2R5b1zJZIeOwZ4zaZ0LAgAOt5Xkg41waIaEsvBb6TajlpC6fT41m89FGdpnEYSm2zEt1/YTeH6rJp1yzqg8Gfr8ZHdIputVkc+vM8YeA/AYgJ8D8CuMsR8E8BEA/1/oTt5y5n3G9S9kW3qux4bBsMDQMiIskiw0JGKeuuvyqbW1TqA1f37nJz6K/Vd2sf/KLp758A/o9d94pooLeuBspGNctjfNfp6YEI4NnMOqVAsjnNn6UMtSfQd5IXUDcMT6DHHP+Oq5hA5uHBLcII6hREStIGoxbcZSB3jaMhuMcrcVpOdxLIQTkrstlJT0ssX1Rvs0XW/LKLG9rDLdy4A74a37ReW1hJWQj5TyBwD8NQDfI6X8qwC+D8AYJRH95dD9/NHOb9f+fyHbwguZ3bV0fb/AYFg2ALXYHhrP48raXC3bz2uRtC2LoG79fLuenP2cb36TXh/iegOAfJjrZoMKaLTNKyQJ1/E0NsSxfa5HiMqCcQ32JvGAKcjU9oNWLs7cMvI0Ccl4DgGW1s2sSrMzyKuTMSnYgLqikaOaxykcbrVhUTUTQrISjBzzPDbCoUThmzcDVm8FhUKJEJpQcy6hL4aLWEGhAgQX6fzKS5+2brtdsTK1m5Tyo1LK350uf1ZK+RNSyl+RMmwaX8jy6ZggxatyG6/KbZyNqxiUS73y1/XyQflwqXQ13UbqeSUqsAkLQuAiohBQJd2EZFigrrcbZNnmeivfkgvUZxLoebrnX0KQyKFuNpw/neh6OQnx7SgSShKuiakJKaUmLBdp+dRqPCRpKWPWebU8l7pR1yAlIDpAH5A4qT0iFtwdMUwEsxYFc20DSgJSzYZRwXVzwUQ4asArlWpV+e3mfQvJTu1Tqi1rzqzcV7VMvx9qxdlcb6r8g8/KWcQj4a126tiujlvKtZnuMyrqSsnXeontY47tBRhjf7ToPp47jPHcYYyXD8zbQ1Pp+MBjpolnVgIKVcqFuHls7hm9fQ7SGV6rUu984h9/EpP9CSb7E3zyH//Pev2f3X5KL7/rboZeWjYTFOFQMqLwBaECYfJout3Ur7mPZh9FOItATLOSuxRYZQVQNyE1iYkOMplkGAmOkeA15RNNMl5Id+YCRSizWjkUs0io1bJxPzO63uaB6ztZhsvNRijNNDwuC6fKbLDYubwWsCqp9TdZ2jcDuDDvfl+a9PDcodkHdDgUutEBsDYRHpAUM065u0wAdxOR2u7qEzLnRK2fPzwg6XY6X6x2gge/8du0G+itxPUWmm7HF58UiUOcSCROJPbz7HVmJxz6Jmubo5kFPtJalsyWxqBQ4cFgyuNZAeyOmY7VGOTV+QwKrslkJOwPx0gwjByW0s2MYTBtxs9PlWw2QlFKNVdQLXVDmubNmssmhKbaWRUoCdlECMuc/wlRxbkyaId8/rXmeltVGe1/BuCXYE414K93DYCz8hXvVVEOvNezUlxwd7fAS6Ny27kN4I+vlL+ifo/j0JJCxpfkM064t09JRv6nVQoz8TTLbSfTIM7DQY7+Rvk1vLpf4PSWo46POr6FLXyJRkMgc4GIxFW9r/MEfnP8DgDAg3cBn76usjrHuLpXnkevwzGcWplNV5othmlZ+bSshGPNG1cp8ETDtaPOPS8k4ulIMJwI9KYa2MOxRL9RwE2le7HFbVBXii3dzsDjTtudcOtAmUalm6mZIoeWqk6iSrHHWWVhqPLcCq45L2B6TwOUWIuQjpCVAo9eAy2xTcuE1/rLMIuCXua8FsisGREANcdZnYMSlkxEJbPOBNOWbumSe2263IDVud3+EMBPSCm/rdkA3PB9WEERTxOv7EvdbPDN9SQJQ5xwxNO3dqrCUtZSFDNtCQFHBQkhVo639k2gu8zmdmOc60Zx9vPMaYgoaNbrT/7yU5DTuanHf/Z/OdJ3Ky7KZiklkCZMN+s1eCbtQ0QcoWWSbeIEICQw0h2Hpdw7tooco5zpZsPOJMKg4BgU3Oqe28sYdiflydNBUpXM9uVmC8lQ7bMKhYD1XlRpdOyfD8mndystpFnQFLasKiGpywr6F68h62dV5PN9AI4W2inxgXl2ePkw0o2CptKRUuo6PdTdRoklSZi2OkwPj3YVWSbDQwIrfXCVInh13yw8ePygKhr3YvdhvfyWr/tWvfw5H6hcb8sAKwZgxQBbsfm1Xs0B2eaBgFIAYsowXcu9FageXCQuSLnMXNkkbNuHUz+akMDBiLjbqOstq+ZfDggZUPfY1SHHIGc1d1wTuxOumwl747LZCMeWJoeiEOaYHvUdNAmpZiHKSqJeZucwHyOkGN+yUJNpWyTbNoSE/y1SjZduDyWruvBg+iKMVeY4uTVYldT6MSmlMXReSvmxkH0UUoBD4kqW4kqW4mK/GgDPbdQf6MFhUUtZ04TKAWab7O50OTpde76yoEj+qTihaQXReR1JEi3SbNq2eKQjx4DQzYaoE+k2Kz71K08DKNV5H//pv6XXfyH+k15+8GSuK2/ec6K6H5vd6sJPbkZeKyiO/OICF4Jifsi+qTvQKsmm8VmNgdnGWSHWhWuOBpiBcEhxWvooplFFOrTeUJ00/Iq2vLCTidqfsoSWAZP10/yJhajeVoFQwmhK/k2wWoU1Cb79GK810lFYmdqNMfZVjLG/yBi7v7H+2x2f+S7G2McYYx/LM3f63d0DoZsJaqB3PTz9jRibW9W0V0LyW9DJ8oQMopSAeOwWJzT7zwOVdsOWegMorZ8ojRGlMT7nG6t0OxceKlMRdU4m6Jw01wBQrjeeMPCEWROsno4z3Wzodzj6HfuJdhKu88TNgxAfe8jb5aLCgxCV2EFWbwqKhHbHDC8fVoTTdL3tjhh2R6wm625iMJa62TCLuKAJai3axAY2QUKI6q2JYzCSjFADv49wQoQBQfWuAmJ+XHituN5WpXb7EQA/CODzAPwHxtj3kM3fbfuclPJ/l1I+JKV8KE6OaiFe3pe6bRN3W69bvhuot1WXiqy/EetmQtqJdLNeXwDhOBVz04zOdD6KWj+v7hc6gv5pGvNDSmy/3P0i6/H1tWzaSYeC2yyU4rBqFqiS0ltdhhO9aj+KhDoJw0aXo6PiggzuzGW7LUyYR/FGrZ8xsVTpYE4tnptD6Q3y3JuUxGPC9SHTzYbDidTNBpvrTbnAlIrNGnSr45+qdWHJb5cHXxbhfiaGAAAgAElEQVQJwB7zM4vrTRHBokq0RdEs0UBT7EwcQce3M1Zl+fxZAF8upfw+AO8C8DWMsb833TbTnexyiZcPI7x8GOHilkVeOhbO2A1FJjbC2ehHuv3/7L1brC3Ndh70VVV3z+u67bUv//7/43N8bB/bODix4iPhEMAgRQIEgrwAQkKCCHiBNyRugrdIKBEvPKAIhATiAR6SB0uBKJIVKUSOSGIUOXaOk1iOLyc+t/+y/733WmuuOWdfqnjorqrRvWpU1Vpzrb3XPvIntfbcs3v17GuNGmN84xscqCcUomwLKZwnxO4j0WPmPgbZcjVHtS5RxbqdTXD9Az+9/q3/6/cgKwVZKfza//4/ue9/fP833ed/9uSN6775taPw272sBGaMUaMtqQ/J43AYhUJI24acHj9T45RD47YyNxyua4OLujc8U7zZ+SWGN1uDN1szGkzpwEwNDjXwNq+zbzT2jU4anNh7lJM3S2H6enB6epzR0Nrci0G4a4FoaBtuO+4ZHtO9ReQ4/rDI9C4ojDEtABhj3qA3RsdCiL8EIKKT7GEAvO74Ta92Grt9v0zhes4UcuTBTF+s07XC6VqNQkXLhf98fFy6/ZRM3MuSB0KgHhBneHJkW7iH3Hk/osRP/Mv/PspVz2L/qX/TN5968XPnqI5LVMcljr66BAdVKbeEYLod1nKPteTjQMez3ugsAwSEQvmFQ67Beehkds49SXlR+8bg7dZ7KNRD2rU+jxObvVuD82YbHnyudgbbul84tJ0ZeW3jc0gbk27IA03Pl75LuaE37nLm3M/7EJJ1vxfYRdPdj4dzaPM4q+2W0nf7YQi9PZTx+R0hxC/a/xhjOmPMfwjgtwDcui3f19d9DOOLbT9rvhr69FBDUZYy+HB2k5nesxPllhDWc4n5TN6Q6aFQEb0yqujMwRifj+pIjmVL6pReEdbbb/n2OviH2z705h5QEfZwFk9mbmHPYyHdwh5rt4Pp+Gn5caHxs2c9CQEAzol9O5pL15iONqejBogOPIcYk/swRK7Ylal94WjD1rtoWoOrrWaZZpc74xYOb7fGLRyudmbEupti3+hRWG1qJEMezvRZNsYka98OwW0925wW26HQWyxsB+R6OWkPJMdwcdvQfB9lutHvH5hf8V7wUMbn3wLwq9MvjTH/LYAfydlBMdDGXtUKr2qFLxipMfuSxF6Us2PlFg7ruRwxtqYoS4HlSjmjUpCqfsqmE0x9idY+18MpO+cgNiuaH6/dwmF+XrmlXPow5PXn3sB89+/8AOWqRLkq8Zu/9H+4759f/QoAYIkdfn7xGY6L8Iw6JUjan4dfDgE1WtQA0WtPCQ63ba9dqLSGnDZglaGv98YtHN5ca7dwBu5qp6Nejg2r8V5O2ltLvUs5xuhGiOmWdT6cuvVt4AzKAXkczuDQ/3PGiNvvNOL5wx5WS+GhjM83jAkrUxpjvpu7k1d12FjUjXELB5rH2ZIXn4Y/fuRU4Nm6X84JfduSGWalwJOTYsR2o8jRK8vZJoV5KfDtS+GMjvV+AODT+c8BsgRkiRc/96fd9z/5r/1R9/njbz7D8nyO5fkcJ18NG6blszlWzxdYPV+wx6HbHZYIe0HrwriFQ6mEW2g+iBqgUsU9oZSHkxfCic+6i0JksfKoavPUE7L5l5CHBPRhuautxtWWb7lxtdW42mnn6U+RMjg5eRyr9D6NEFBQg0S3m4beHqroMhcyM08T6/OT5+G8f4MhhcEvff833+sxHIqHelx+TQjxj4UQf1YI8TN33cmf+epPu88/duJf6NO1N0rlxAOxRaQ180J+ciLx0ZHARwx5AQBWMz5ZnqPInOPh0Jc4FHorlMDbaz0KV1FYsdGY4Oj6xcotIayez7F81i8cZusZdLuDbnujs3zzK27dN8ovsFYt1qrF1xY+F/Ri6Y/paObDbqtZ+FzKQkS9oIfM8UwHTHtfQ3mM1O/nULCv99otIWx22hklDts9b3AAb3TouY0MBfGCuGc0xQpM9zy6n3vG1flMQ29UYif0tzHkUqNTnlIMob+fts6w24yYbhMK/g9Tv5+HMj6/AeBPD/v/y0KIXxdC/FfTmp8YWqPxS9//TVzUwi0cUt7F+bHCJycSn5zwp3tcGaxmfoB8svbbHi2VMzi0RxAlIdDZdOxBjoU17DlwM+5KGrdwmJ+euYXiK7/g9Vw/+WeeY/W8NzgVYQBuPuud1dXzBT7/1heYrftEzu/+9f97tK8Se7dwSLXhpow3DlLEB/xU6I7um17Tm224+Xtmj5E7jlRfGyBPdWCz09jsrJLCTcNXNwbbvXYaelweJ+bl5Ch659DRc+jq71PdOoemfUhNj/1Oif6dtIZnHJK7HWsuuh58oelf/sGH6/08lPExxphvGWP+G2PMTwD4jwE8B/ArQoj/9z5+IGegn5UC50Oe5zWJFlla7NOZxldWGsdV/9A8X46f+pwBkjLr7gohecP56dsOpexbIv/uhX8Ef3vvQ2+fVz8DyAUgFzj5sX/Fff9jf+qb7vPy2Qrrl0usX4YZb+uPFlh/FA+7pbAqtFs4nC789aTepf1Oyp6QYMf691V4WKj4fbfgjFIfetMu+W9BB9zNTmNbayffM0Xd6GEJj8Z1bdzCIRVWm06EQhJIU4NE/4b+dkqY9F0hpn5gB/uo15ZhLA6jecdzPdPfoHU+2srt3AMz733joYzP6LIYY37VGPOfAfgqgP/6Njv66spX631yLNwsc0XIATQENp9JHC0VjpianecLjecLjaezuyfLs3I9nDbcEOawf+uVrv3xXG81ZqVwy10xP3qK5bMVls/CYTcAWL9cYf1R2OAUi8ot/+Rv/7L7vnzjuSRfF9/BQrRYiBY/Uvk034s5kUNaGmdAQ3AeTGr9gS9bzPsB/HNktwtRhVPHkfIcrDFJGpRb5nFGXgQxOPSaUgOUy2Z7ly3gc4gH09Cb9XBi3lKOdxGLKNyXwbGg4bZpi4dQkamFDbl96EbH4qGMz38f+tL0+Bu33ZkVbOSaZi2qND365bo3PMG/V355sfBPw7O1v8vPTgqXhKa/Q8kI1UxFlQ1cIynm6cnJJynE3XAjChz/+L+O+dFTAMCP/nP/vFv38TdfAgDWL5b4yi98hPXL3ihVax8bu/5ii9WzBVbPFvj8Wz/gj8M0UIaX2pknQoSV6hduIOfCmOz2GaG38O/09HzumufUJ6WYZG1rnBfTbx8Iq008mKm6gBXMjRmMFHFA6zib7a49jzjv57aht3eJUvEGxdG0IwaHfj/+PGbDHUpOqIRBlcjz/JVPv3Xn/b9PPIjxMcb8n/exn8tW4bINv/WlEjhdKddrpSRPgE34Pj2SmBe94QGAi8afbmeA46LDcdHhvOJ15FLeR1HEvSBb8xNlVg0L9X4ur/3nN1vjButvb/z1+F0Sevu0+DEYwbtrq+cnWD0/wfoFF3ZbuYWF6fwSQCVazKXBfDA4L4n3czbvv6sUcEb4DZSEkGK6WaS8j1wPiStYpKy88fb+MzVGnIHT+mZhM4X1YLiw2W2YaHGDcpgqAd0X/d3bINU24V6a/RnCaKOe4PDTpRpISYEhpZuEs+4jrBZbz6HW3sOht11PvKUfBpr2Q2m7nQgh/pwQ4h8JIV4Nyz8cvks3moGv8wGAj1f+Aj9ZyRuDAsXJUuJkKfH0KHxq52XrFg4pMc9ZOfZQKlLRb9l3RSEwI6HBqTdk80SxFy40AI7WSwMNAc0oFhWLMxSLM6yenwTXr18s3UKxfe2JBJffe4tqtUC1WuAH3/LpOvnGi5N/bL6DSvTX85PyZm9z61Uy4glZubUccEaJIx5QaA3n2VK2Gr0/SubU/PBCnYA3KJxRyjE4TaPdNqHnZ+qJUSN7aAvx20BrvqMp5/00I/q2//4QdWslwgYHGJN4Yl5OyiBVMr0dZyz6xnJpAeH7MIyPCQ8VdvuLAF4D+BeNMefGmHMA/9Lw3V+67c6uWhHtwb5eSKwXctTbh+LFrHMLBaUpfzyrMVcac6VH7RueknTIy1PlvKBVoCA1FTbLISfYAZAbJEvVG50yEM76TH0VAKBFheLFv+CP+4/9ov/881/F6uUaq5drnHzdG6Vq5ZUSVs8WmD/pFw5CVZCmhTRhI14KjVJoLJiXPid/Qg3vbWtIHPU2wUTLUiHOoAxzDdf6zqnxpD0QDplN5WzS2mu895DTuj0HucSDUC+g3KZxOQzCFJTkB2rqNcRrfm7+/TTclpNP4pBjcHIgYfBXP/37h+3kPeChjM+PGmP+vDHGJQ2MMT8wxvx59KSDLFy1AleBxlu2m+ZqJkaUaDrDu64NXiz75TUJt113fjRcyxYzoTETvPsxL0yUgDAre8VmNmeQWRdkQ3c00XwxhN7KQuD1zs/evn3tD+a7zbhoVIswt3nx5NwtHGyuh0O1XkOoCkLd/I2n+gcooFFA42ul7yP4rPJ5oadz0xtPBSfHA4yv7bKK1/wAabUBuxzaITPkjVkjpPX4GGeTerNc3bSUl5Mn9hk2OvQYqOfdTNh19xHyekgpnhBC3o8UnoQAjCerVLttWl9DcV8GIUbTDtf8+M96EBtVYsx0m5IQUnV+jx0PZXy+LYT4L4QQL+wXQogXQoj/EsAf5O7kP/n6T7nPNk9gbwpXsPh8JdzCYS1brCUfdiuFGYzOzRv7ZCVd35pnJ37UXIxICHK0WNBBM4cxd2goSlVHbuHw8ptfwfL5EsvnS5SEeFAPjWSW5ytsv7xEte6N3Kvf8eE2cZUnbpgjlpicQWaEvPrfGv+N+15674TrqKp1OtQ5/ZvbIkfmJmW4jDboWu3WT7e7rxxPClrfXgNuymijC92vRdMZtz6mHM4WKGeGzO7L4NzmGG7LTJc/BHkeiocyPv8OgHMAf0MI8VoI8SWA/wfAEwD/ds4OGqPxF37vtwD4/ijczT2b+4VDKQ3OygZnZYOGnPZMdO7fl+Ue5XBjn89o6M1gUcAtHGz3zlgHz5TBKSL5Dxqf/v7Oe3DU+/lCfoROVOhEhXrhG8ud//ifcJ9/9E/+ApbnR1ie80Zp+WKF5XmYfCBk6RYOtxFjVGLs/VhVByX7zynttkMgJQ7qqMqFiKadU+0gzR1312q3hEJjqbAZ/XsOd+lpdHMf414/dF/7vXb7b5m8GZAOq72r1kHW4HBGgE6a6MSJFpm+i/xLeuLWv2e//NlvPPzB3CMeyvj8JID/zhjz0wA+AfA/AvidYd2dBVppwrqUwHHVL/QBoA/SqjB4PutGhmSKuWicAZpiVRi3cFhUwi0cqBcUCr8VxZjuu5+E3izT7bNr/je0EW4JQi2xODnH4oQPu60/OuqNTkCOZ37yxC0U8vq33edT/Zn7/EJt3OfnNPQ20+6lPeYFt5NqxIeC86KsCoGUfNiOTgyolzTN06UGez14MDGD0bW8wcnJ43StcQvFntGL447zXXhTUw8oBOr90OOhzfsoCaEeeVFpJlqOlx6rtbktKWBa50M/22NtRu22+8823PYhe0EP9Yr/rwDs6PM/ADgC8OcAXAP43w7ZccoDeTo3rpCUw0o0mA/LFEeqcwsF3d/Z3Bei2vwTgJEq9tFSRskDqVxQTn1JFtSyXyZ4/tN/BACwenaOj3/+G1h/1HtBsyPvPtbXeyyfnWL57BSXP/B6sFef/dZoX0ZIt4QgkRNWyz2hNNjQG6djZrzBiYX2chLhtwmrxfZBDcZ0X6nf6MNyNw0Od6x3Oc4cg2Q7psa6pjatCV5X2y1Wa14xPBc5Ujo5mml0m6knFDI6t/WKUsdh9x/L8/y1D8j7iQSRDoK0zeQAfNMY88eHz39TCPH3HuIHn87DN2TTSayUxonqDc18oARrSEjo4TtvhOaiwVvdD8AfVQ1+UPvQkpXhAYBtgAgxLwWaLv7ExZSSUyrKQO/9WBmg7++Uq6X5frvCy6K395/jGc5F3wRoN/sa5vtvAwCWL34O15/+PVTrvgB19SzsBa2ehanZFKLgG9NZ5NiT4xmwGS7/qgI2Q7fPklCeS+VnvEoKN0hNBxPew0gfx0HdY8mxVqVw6gVFIW4Ieva/JdygLaSA0WHKNEXOOaS2McYk23mkvBvqZVkSQ9saN4lqGj3Kc97lON39ZY6V0q5jBsWi6TxZp9bCFT5bijPQRw6mg77dxyGqQVxUhq5PvfZqsp/GSJQDSaozwqUKPjQ8lOfzLSHEnxk+/7oQ4psAIIT4SQB8WTxBKSQ2TT8wca7pqjQ4rvplxGwZXFNbRGoNzxQLUbuFw3Gh3cJh2ixtilkpsJpLZ1ymRsZ6R6P4OZFfeXOdHnk60xtUHbulaukMzxTLp2du4aDbGtXqDNXqDPu3v++Pf+85JEfmjas9OlfX7vtnpb8HZxV/PjmikPeBG505yQNErz2djd8l5xTtjzOEzFgPJqNX1W369NjPFpb1lkNwSIX38jy+9Hp6vWm9FfWQpt9b0NAbp4aSGxZ7iFxOiKYN3GS62fWdEU7JJCS386HjoV7x/wjALwohfgfAzwD4W0KI3wXwvwzr7oxS9UZnVfIvwkppHBdMHkfs3MJhIVu3nBe+4JLmjr5x0uF41s/cp907AWA5kzg/VnxrhkQ9D4BktX9n4vVPAKBR4Hr24y70Vhx7EsLZ1/5pLM6eYXH2DEcffcV9X639CTXXO6yePsPq6TP+R9RyIFmHHWk9LIeA1gVxbDROhsfmaGx4jRsA76MNQJ6HMh7Ic7qIhv4fM0xdl17fF6ne3eBw2JN2EVy7bfodVxfUr8/LBaVwCDmAC6tRTylESLjrcaSKVFN5ng8l9PYgYTdjzFsA/4EQ4gjAjw2/8x1jzKd33SdXoWwxV0PYY7gxu05irvon+UoX+LjoK+8bFChxc1pEvZ8Farw1N8NKa9ViF/FwbAK9M2GbThPVXBybDnz7xjjjdbkzLr/02bXA+VCO8/1dgZfz/ny+1yzwcbmFhsDn5hzn4m34N0bU6/AtWb94HvzencvyaTCXRNF7QB7nZYNXTR/GPKs0Xtf9dVqVPvQ2L/wMdl4KX8Mhw9eMhuFCsOtCAx/Ah3Zy0Nfz+OOwx1co4TypspRoGk0G13G4zSKHrpzaJlYvZNEfB79dytho7Y2lIfVDWptRnV0qFwTw3uNYVSJ6OFFsW58b3rWeUUlDb7UOh96oyGcMD91bh+6fHreGcLkfjYfzIh4SD3rMxphLY8yvG2P+7l0Mz3/+k77OZ+RSD3kVK2lhDc8Up6p2C4cZdm4JYSlq1zCNw0lpRswtSvleL6TTh6OMuCmV2iZEuYE0dzLOSe1oOXcLh/Xzl26haPfe+xNS9YYHgN55dlvV9re3EyXWuHLHca6Y/ucHIuWhxIpMR03WmBAO9xtqNMDGZ+W2QDSWi8oNVcX2wRWq2r+x5IPQPuq9vlVYjUPKaDmFBsZAWkmiqTQRvSfbvS+opaFRLvT2PnFbLyuUNgCAneaH6A+95ueDM5jWbeUKwmwtz1nJp5Y4g0P//0y8wXLwhs6kH0CfDvs9LVr81HqPkyH8NyU85LRmSGmaHdpK4JU5QQeFDgob6XM9Zvl193n98ucxP36B+fELLE4/dt9XK+8drZ9+gsXZx1ic+fUURq5g5AqdCNf99OFBEa0szwG9TvFi0pvf25xaahBNMQy7iKIA4AtZOVUCOtBTI0iJANxxjqRqIkaN/g7HeLuPPE7XGbSNr0uilPGm8SHOsVr3mIDhDTR/HE1rooy3+2SATwU8Q+AMy6FeUA7NOxcfQujt0RqfWmv82X8wpvRyN73RAqdFi9OixZ7MFPbGjyIFOiyxxRJbaKYhQWH2qFCjQthTOhJ7HIk9Tovw9MqSHygr7sZvJCjUdsC04yad4W32xq2jzfG+v/MW7gfN3CX8OS8IAER5AlHyrLbF6cdYP/0E66efBNfL6gyyOoOR4ULUY1yiNQqtUXiivOdEr91x6QcrIi03MticGGkucgzObSnWodxSNzEmVGxWKeES+ly7DXqsHFIUat1qaKZIla6fblOTHA2V/Enli/jzsASG1Pp4aC4m0DrNBdH3hCMejGqBRq2q2cM4GDnabyn1g1CdT/+9f+Ae8BQeDA9Ftb430FjtpvGD1FUr8JVF2sc+FvGwT2m2MBEbPB9aRR8xNSzTdgzWELxYGnw6FIW+PBLOWMxLgcuhwK9Qvp6hVCJrBndIQ7VO+JBb6GyK+RMcffQE7a6naavZGt2+z5WZtoYoKlSrj0Z/I9o3MEUvVD7vXuNSvUAK77LhZVmEczEUdWOcKgXNsyXbAAyrue3uI48T80xszkVPilTNxMhpYqxCj7FuDbpIITWAG43pbuxjOATB1gX5z9x+mkaPPEBL324703uuxmBbG6ejR+/Vu0Ts+ZXCjBhrFj17Lbwvu92U7v0hh9Ry8OiNzxR0tszhRPJMNgAoTb9eDsQDAe0MUGm2aMQChdnjBHvsRZ9UX4strkyf5T+TO7TEe/qyC5fqr3n1mf63lIjO/lJ0XvpwfrZXjo33WTPD87I3ml/oY5zJvv5nI06wMj0Joak+Rll/DwBQHP80UH8GDtVxz4QTjAFu5Dr4/WgbhoRhMX0xKfGgUr5qnRoTKcYhNmsEqFGn4EgHFCmmW2i/o/WMV8LV/AghnAGyBIZU/mREVGC9nAzyQUYRaoycQEkUVjKqa43r4ts0ekRCsNtQ0kIOSaJtI7JEo/O/uyHadnAK7CHiQeowWWWRd4gp8eCvffYb+FPP/+j7OpwkHm3YjWJV+oU2hLtoiUab1I5cUBtvU2tiXxUaZ3hCsC0CCrMPrs+qCyq1W0JQcixeSWdu9j2djn+0ruFyZ5yb/noXS7hHpHbQEwOg1v0SQLF8gWL5whmeKUxx6haKufGyOpVoURuF2iicEdKHrZnSRmBd+BqtWH7sEHDtDiykjBMYUqE7JYULEVHFCqrhZ41KKsdyiJSO0X7h0HUmuE2zszU//LnSdTn5pqjsT0aTPE7Re99oFwal4bZrEj7MCb1tu4xShaGcgVuXfM8Mkr/BNY0bh9jSobcPDY/2yCspXcJ+w3AHjgudZKItscMCGyywCa6Xph4Wpi8N9m6hOCLhvK8Vb5xS9ovSD7K2L1CpgOcrTxsNKXK7vAPH8b+H4ssOCp0ow8SA6jlQngHlGYqjH3dfC+W9OmN0v131HIJcr1L7BnKNmGOPCnuEWzsAfY6Oe2E77ZdDQHNq03YHFPb/VE+v7fIG2X2j3cIhpwA0JZWT9oTiBsca35gB1iZS7Jpj+DIKYlNN8NrWjFqFT/sF5fU0iueTcoxBrdOTNyBOMEj9xruABh612OgHF3YDEFUbAIC12KEI1PIAgBYKlb688b1ACzNcDmVqp1MmTYtW9APwHNfYYek+p7z8Uhi2PokaEVYiJCPBc1ELnM36p/xVrXBe9Qbvi7bC06KGhsArvcbpwNjb4Agr9Oe/K85HXl7Rvg7+hpjFa36A3ujEsDeKrdKmA9Gi8DPVUgJ2XL9t6O2hkKMzZlsNAJNaoEI6RpiUPuREt5nW/3CIGRsA6DodJTektol5YKG/mYbSrNfX1NqF4UKwKgvscYyM2d1DW9QQhGp+OiNw1YKt/6F46Nqe24LK7TRGfDC5okdrfJrJ29UZOFrzm0bhtOxHoquuwFq1WA36bEvRD6YtCmeAGsyw1G+SvymIwTLMzH2O6+D3br1oUTKU4/OFZ6ktK4HrgYI6LwV2RE3ZotPGGSCqT7Vrex20GJTga34aeG+mQDjEaEqv+yYYr7CRa5crK0yNdmhkt8QW11hgZ0oUQmOj++txUrR42/aP3EppfDEUmc4Lg11AKw843APq9xEJuZEEd9MaooYw9kJpeIf+rfUmYvU8QLzoMhcpgwP0BsVvf9NQGG3QkTwO3abZd6NQYY5h4gxRqna3azUrb089GxrGpEbteqsxH3pobfcGiyGasGuMk7q63PnPTXfznXF6gczBUhbcob1+UuCIB7SwtCE6bvT7/u/ff87ptni0xgfIywFQwzPFzMQNBTAeWI0I/2ClN9Bk3dQTKtHgI/kab0xfG/NxucX3mp6c8HLe4rM9dX/CDwn1ckKDZUxWxh2n5GmdNaGd11hgPYQNt+IYC9N3Hm2LMwgywskhP2ZE4a5TrcY5nimu0Z/3zoQN8DZDo+r2TbZuej9a99/bfBllulFPwzKpQmgSB1JHwm0WfUjtdifEeT9Chg1Ql7DQtyEwHCJqxtYDDSSEru0NX8jTn2rcWW+JipbGfsOi7YAuQc+vO/40u4xLsevEgxuj+4A9xMdKPHjUxofDUdGxeZ4Zmcm3YubCSp2ooEyfjzEooLQ3TDbEJkzrDJDSO9YYAYAyvcErGcN3X8KEdGJJZ3Wbup/JzYs+cRryCt92pbtOl2aGIxH2chrhW2dX5mZurJanE6Gcm9iKFRrmcbpkRoNVYbAZPJ55YXBR959HITaqaE1YRzT0NsUh6tY5YTvO6Di22kRDbqpibet0Qkw3i6TMjcnJBcVp2ha5obfQdtw21ktJsdnoek5xe2SUAo9Srw+XCDEa4GLvJ7RT6R37vjYQroMx9UZyaoFSkya7/pCxgfN+qNwO8IiT+QQfwjECgGNFHQ2CoTZ8AwAbU2Ip9liKPfbgO5Qpfe2WEITRbuEgTesMz411Tld6/Pe27QHQd0W1bLUjQjyguaFSeYHL0PhRqn45hB3WonALh1qeopa8p7MTK+zFAlvRF5pSzby5aLDRJTa6HPVGWqnxtam1cMtDIIc4EOu66b43vuhRBgbhVGHmfcDoNHNvSg6YGocQcYD+v83w5nKMntE8m40WsnKo99oV1DZk5Kd/s9117lpQ0sd2CGdrA1zXhjUKdecX9jgSz2et89hsnDL/dDsLjvXGQeLDa7H9qD2fxaDZxs0UFiJdZFpkhd7CL5z1hIRpoahXZGp0Q36jMtfOczgRV3hreuryy2KD77fh6v8QpBSQiZe6LARLYMhJgr7Vczzh8ZIAACAASURBVKxkbzivjMJ6UPbeYYE5+jDcpTwfKTxYQ2sgIaCxE/FzutKR9qQDdolZag60NlDS54Ro6K0shMvR5BSZ8r8Rrw1Kzepzwm2KtNJQipAQCjkqHjXuPH2eyYbnkl5Sosi0338OyeF229B80vRahUJvbZNBkmg1ZKQAzgvJcqFU/1kxo980/xjqBXTVjvsCxRQKgsd5D5HOVGM5iscYenvUxieEucyYmUGgGoxOJ+ZQQ+5CywpSDwOr2WPk+A0kAR960+7/IaTCUEBe7iI0ix6tH1bbRDhl6lzsvYjpRSNdbdFFKx0j8KorsJTxysidKSEixst6NlOPzmJj4kw3YCyQSMNtC2VGQrF2khsLvXG5mPtiuqXCc03CO4hRgYE+n3GXVgUUnGfj1+fsY/x/a5iafYdyptw2IYNlDYv9/buSEwAkO64aY6KtxgHc6AV0vddYzrwSgnRhNbjQ9ehdqieyToFz7p9B/n21z+4hYTX6aNPLZQ2fQm9YS0dCGDeWs57PtOD0MeLRHl9JnvjOAKtCY1XoUf7gTefpK1dmHtVlAwCpd73RYYpI4TrPcA96aj1wLDZoodBC4aPSF7TSXkBUAZtqmlkD0xei8jU/lfLLXdEaiZ0pWWIAAGyxwJU4dv+fNqrbmDk2Zj4ySpXw5zkTHS47hctOsZOGWotoWIzqd90HOHJBquWCrTPhDE9ODcp9YJrruclmixuenELUnG367Xg6drLItA3r1FGj2pKaH+o50TDcfu/bVdQTRqIVJI3R4xvt6fwh1Lo3Og0zf7MhtVhOKFVbxH1PSxOUAKNI+eHi0RofoG+VYBcOBTq3hKDMDlL3Cw89Mkhjb8cbHPq9NN7IVWYDAwETmRXphLKzExhk7kiOwaEihZvO7+ha+z+61CXaoSqaGp6tqdy/b80aW3gSAsWlWbqFw5Uu3BLCrkvneTo9Njr0ulDWH/c9LTLlVMOBuKCozfFQVebR+gMMjjUaQopRHQylOstCku0xCrdR5BqLFA7ZB2dw6P+toGmKCHGoV5hCyhjUHXDVeINCDYs1Qk0HbBrGkzPp38hBbtdVDtNb+diUrh+18eFQCuOWt9qHfC6Mz0d0oiThNhIWsjU4RgOmBefF5JAPDKRbQmiNzKqUpg/XdGC1LRdoUpRKhDRdXxhXSR/KCiHmr9UoUKNwBmgK6+HEwmuXunILhfV4bNjN5nsWZEJhY+pOR2s40HJyWe/jhU7pu7mWCMyPCCGSBocOxLGBNJbfiBnF6W+w2yRUB2Lrmr1/4A43ankGh9WpSxBGqDdKvR8ant03xnnRtGaLvlcX+xT5wHtCIeS0Dsl9hh37jqpvk/02jMTOh1Tv86iNDy2iArzR4ai7hdBQaKDA6PGYZlg4HZHOL7c91iHH1KDEkdg678IKfALACyb0NmWtSSncwv6ejBe+pVgvDSQayJH2HUVtFK5NhWtTscWq16bCpZnh0sxGhIeSfL7uVLQh1v0YlHh4zrY70ITW7P6WPArUMNFtikJkycccOmtPtXaIeUWj40i04U6dx7tAzODQ72hYrqGGpdZZjfZSaFrDMt4oG44Lq1E23JjRJoKfKe6Den1bPCbv59ESDtrBQEwN0BSl0CgE/5S5UBlDjx4bIg3Y2h7TEBKCDtcCmZ1rU6BRoAGfP0mZMxo+6piNp57AFJXsZ0S2ffhOC8yH67fTCnPZ9TIipsBs8Ej2RmE25GlqFCMvjbuuOxN/bK41L6UD+Bc5JwZOWWyUhEBrZ0aEBCKxQ4tMQ0iphueE03IZYCkWFyUh0PqYopJoE0UmuZ5JzAOy4Gpt7gN9WM+wjLv7QsrodNqgodEDomxBa34AwnTrfMi7ngwZoZKH/valIx6HNKbjJpgfCvHgsR5XFEr0A5xleVyQ0Nsl+gS5NB1a4fMSRpIchpAHeTlunyighyUE29CN+wUqFso1UKO5HpoYpUq9nYl7Qd67CD/pe6PcwmFnCreEsNUKeyNdfqkkk4ZqeBGmFGs6sSiVP04ur5UrtcPNhqUQfmGuF51N08r66aB8SJgox7PNU48+PCR2Y5/EEN1X6O0hjhPAiAHXEw96QVFaBGxDbE1ncL3XbmIynZTkkBNy6oJyQ2qc0bHruI6q9SC9I4UZ5UxjjSMfKz444xNzUS3xQHIG5V4ys7L3hAaDU5AWDYtBHcBA4FT6+iKqdP101rliMK7jqRRpcsGi6FUB5qkmYMzq1ojRYtGQR2KjS2xNga0p0AUe7mutsNcSWx0+0K0WbuFqeyyTiIujA2mV6+k6SjCgObRxB9Lx8VijxLHhYhL/FiljcVfQEJsUvrZHBogUOc3p3kVSP/aq5dHATfBzE9DYi0Ebw3q/TWfcwiHn+bzYhycLfBguvE0Mdsy4jyLSxxJ6e7RhN4sy82JzbLcRYUAuAD20QhBq7PW4WABxVIfQm3HrwrbakIGMY7zl0CRTItal9JIgQF8MZ43PtuvrZwBejHCnpU9kGmAeqP/ZawmdCL1cM8YGGLPsOHAsNyqfo4T39Ggxqd3GhtxCRaa5mBqgEFKDeVxM1Bs8GnrT2qskjLwfKdxsvizFaKDNGrC5sNo9GRqu5oeuf2ikQqUWHLFk2gzQsiKbzriJyq4xQRblVNz3kK7C9wVOYudDCL09xmNyCBkeOlN42/kcy5faM9024ngIeGk06hhBCNkbIBExC0IRwzOGEdItt8XTyr+lT+fGkQdo51NXXCr9AozDbYAnHsTCbjlNr/ZaYh8hBux1H1ILGR4Jg10nseukC7EBk9i5NI4tNA23WXQmw8shhucuSCX17TY2hEOT/DYMZwdztv9NBjnhoZHXfC7MyuNCb+F9PFxYbfw7XpCU1vyEWlQA43xd2/meSbGwWpK4klh/G8S8HxtWo+Aay33IeLTGp5gM6ody3h2EjE/fEDNKGkYUMKIYNZ+jPXFo07on0n9+SkJvc6WTBmNR8AQDG25LhdxS2HQKO90vlK5pH+5rrXDVFaxRuu6UWzjsOuGWEJouL06esw2diU5Db1Yrj6qHj8JwMq6bZkNubGHlPRkcSkwoSZdbRR4WRablkslLpQgOh+JQg3OfxirXGwohJ7dGnz2a76GPwhXhM+WE3qZIjW33zYh7DKG3Rx12u68LXqtTlLpvGwCxgHCht0GjfqpebTpnfIRpx3VCd0QlOsdC47AqDfuA0l4k1NWmTa8a7WU36DYdfNhvp0U0lGlp0Uz9XJQ27bbJ1G4LqVXbEFtn8phuNCQ3xYhSHZjAl0qgSWhjac2z3nIMTdcZbxS0cQWlNPRm//+YYIw/biu3o40Burxw5SF4CMOpjXHHvW+0y+11IGE1wnq73hvX4r7TJlqofFekxrfY+hx168ceentsxzPCv/HRH0luw4XersRptAAUohyWsP01onILh1SRKQA8kxdOcuaJ8h7S81nvOa0KjZfLDquhJQIlIVSqNzo5jeNiM6fO9Iy7WABlpwVrWHZauoViGhqw5ALKdKPH1Jm4soFroX3AOCyFXziUSrgBZ6yKMA6x2RlsSVxQIUVSkfldQEjhltH3B3g/wZqbwZvjPMLsFt2JbVIQUow9CkZuhwu90ePg0HRpxtt9wL6rsdBb6F22E1OFHw6pnUdtfP7i9/7Bve/TiMKrHEzhDFI5ktIRk1ogLQpoUYzERWmbhaW5gkIHxQz3C9lhITusmHbgx5VxC4ecMCSttqYelQ2rNUYMRkeMvu+3h1sXizHXRrgluF4jLaVjeO/FGaTJeuo1lIUY0dbd9+TizEoRNUrTkNwUOTmUnBAOB0pAUITdNg29yUJAFgIFMYjqnjubuXN9AIND/8/Wek+uMWdEOQM8+r3EPWkjjDeqhEAN0jT0Zt9Dmo+d/l6KqVZKE8z1TP/+EKMzvQTvO/T2aMNu7R2Dwl/qlcu1bMQxVuYCBhK1PEVprgD0cjtO600o5Nhgk3GpRGJmV4kWCxnej1WkBnqFaguq+rxQvjfJtNFVaPwJS73HZ8OUrcYV+KZCb7tOsN6LnfHZkNs03Ga3iTHdLFKK4Ery0vr93w/bcRXoGd5NrLqeJsgtccF29ey3GYfeuPOhpIeWMX40jXlA6RrbEqHdd1ATD3CKrku3REgh9fc5RbD0etNrTO9J3XgCA+1ma1lvqTxSzmmmwmqVTBeTTg0WDaFTdetxiC0centseNSeDwA3Kw/BzgY4AUsAbEjMEgdi3UpztuEwM31eSaHDE3GBaug9dCJ9XdDTssFp0brFghoioDc6i4i4qn2IUw8yZ3gsU20XoUlvunDojaIh9Tz0xbMPf6pmIkdqJ+XxSSlueEBTWL08CypCOiulmynPZsS7IN6I7cGT8nAOqfvJmdXPlwWUElBKuBYIACBpbVPsQtwTHrpuyDLdpBzn2aj0To4aRc9gTN8TVt4oI9pA2ZQhsoFtdW8ni6HJUSXfXWO49+n9PFrPJ4Rmkk+YIt1YKcPDEQWhT/s0nYB2hsw2Vpt+L9FCw4fjuLDbirTefsuIea4Iky0kGLoqzK0ES6fojAhK4OihghrI66DYaN7LofvgXvgc1QKOVDBqq638cYSkd/ruryJaLJhCatDKkdEB4t6PxYhUUfjW24tVMcpxhCALCfMQ1a4EsXYKqT4/NPkfqx26D+JBynsNkSf2jScbNJ1vXU9rgWjNj5JECLRDsOFjb1D440jJiB0SbnusxINHb3xqLbIu/JUucDx06Xyjl05h4FqsHf25FitUelAhEBXE0BahNzbxW9JFiAcUXJO5GRE7bZkz+pFqO+pR9GZoFU6brz2tNLbDgC6FN0DWaFTEDQ8hprkW2iZk7HedSIYUpoarr53pPytBGm8xYbXcotH4LHQgFTCTEprj4VSsKQuNGgGqvwaM+9CEQ1LjmqHbokzkdYpKRgdae0y39VBuG3q7y2/cFmwLjNY4ooie1AWxYbjhVaQhOQDR/J9Fqp9WLFoxJuVEcruJY6ChdS709ljxWIzgDRRCugFsSwustE2g583MY0iF1bSo0A0Lu4/JJaTGpzQ7SHSQ6DCDD7ethP/8Ul3iSDY4kozwKYDzssFZqXFWhg3bSmmslGZnTznhrG3nl1H/kuEa7zqBTevDaqE2wLafPctmyziOFFJRJBsW4XIpvQfkF4sZSexXpXBFpjT0RpErY3MIylK6ZfT9YIhmc4n1SYnC/n/hT8iSEGQhUJCQ3A12XEZ4L6dY9RDQ9C4nq8Mx3aa/fYjDF6oFmyL07FDMi/75CxmeziDYn2w6UVRk4ZATZuegJ8svv6fQ26P3fChsxITzUHNuhp4YGkm8H2E0uklNDw2rWVh6Nefl5LTYXgqum2qPU1VHZ0S2Tfao2yH8NVLC1wyNPQrvLVljEUO/Df8ybhNhrJzBgDsG6v2o0az0ZhhOyeH8GXICZb7dtQ13jAE23S64/wzigZThpDr1tMpSQDLTf8qC447jvupoOHLCdJtU6O2hkENOGJENSJ0PDb11GiT0dlPp2jqlnEFaZRSD3xd1OkY8GP3eIyAhPHrjYwdXOqufFljZhmUXXYlj1XsQF2aBY9En/Tc4wgL951oUqIxXHrDoxBwi0prBKlfnGBYOtMX3Hr6hz1rscGXmOBJbHBVbXJpegftINrjUPS38qGhx2RY4KVqcACP16KkBcufEHEciZTB4LvzDmfp7RRR3p+G2URKW+T4HOXl0GhbJVcSeouv6UI7Ns1AjICVutIGeIjcPlGJXFQXPwKIGp5uKlw1QpYQmxxoyolLJcd+fgPHqGj0KvVHE2nvfN6ghn+rmORkkUihLw2p0Gw5FpI29xaLgw76x7stum0lr+VAOdzqhnobZgTCr1W1PtCYfWxju0YbdAODf+8o/5T5v2tsfqoaEjpxiK2boxNz15Amtb8WMbZlAi0w5Vl1ptlCmgTLNSIZnBv95ji2OBkMZwpnc4UzucFK0wfVzpd3CIaXvRpti2f9b2FBarYWjfefsY4pDw245BaRK+rAI3Y4aq2XlWxrQcNtyCLFpDVQln0M5pJ7nNrCsKTtQ0vChUsKF5BYk3EZDb+VMJcNqQgi3cDjUkHAactOan9BxcqG3KXLaVOSgUGP24xTzojc6VuCXPiJN55mpzeT9Ge1D6huGhyJV85NCTkfVKd5H6O3Rez4U9GLmql1P0aJAK05QDTmYvt127y0ZSHSBAlQjhKvhMZAjFWuufUPKQyrNlvW0TsWV+1zQPkQES9mNHk7b1mCutKNMz6V21GjqIVXSF38CvDGgRoSbWeXk3XKMDef9cGPJlJBAJ+Oh/cyLeB8WC5aVl3ESXHEknZlzoTebLAf6GTtHTpiTHFTNtBdQZFbfMqnEVEhKCDGamlIGW8z7scj1+A7BIfun1xvwWoBtd1Pp2obcbM8t2lgOgFMniSFmbOx6qq94W3AKCY+5/ufRGp/GaPzPv/+PRoPephUufrrT0t3QxkjXHmCjC6xk7yFcmRnWYo/aKNRYjxL9FK3wITDOaFCjJBH2QFJQpoYytcs7FWbvfnuG3UglYT80wluLLa6GMNyJ3I0Mzlt902ObCY06MbBQwzMFHXy5ME+OwdFMPskambuGwShSnV2BcJfJGNYLiattf3CLucLlVX+vi1KibbyCsr1OQgro9mFdoKpMX29KSmhJM7XZQmE/JOaqhRqt04GQ4UieR4j3oswdM1xaI5k3G7WyYEJvRSGiOSebI5wz1z7nuVoltBz7bTo3qS6FN0D2PfFGpP93ynClOMRTeh94tMbHIhbPTDFXWyNRM6m8huRcCoSnh92kLbaAnUEUzgB1onTej4F031tCgjQtJFo2LDfTl/54mfDfCfGELrEKbjOL5KsAGzrz/6+kz8so0fcnsbDXdVSlb9KGKZdccIjhyWErr8uwbpYVJ1UCWJXAZrjts1KMpFRoJ0wO90En7gd2JkTZeaYdTYpTVBOG3rU1mssC2+v+htoiVA62xuZd9OKxGOVoBuKBNga6CedxDBFkPQQ0hMmhUGNyCsWuBc6GV3REPCDCnnNlXFsRmpehWKm4C166d/lhsyKNkaM80F/99O/jX33xsw/6mxSP3vjcBS1xX69NhaXoE/0bM0dBBun5kHdpUToDZCDRgno5N9/KDioZVpOmZbcptO9yytG8V/pL93knT9znI2ycAXop3+DCDMZIAJe6p4QfqQ6XQ5uDudROMmeuzEhxOqfgkm4TeiebLs8gHBJ6436bolLxbexMlTN8+4wOmbfN8UwHUBu6aslg2jbaEQba1tygVYeQYu4VRdzgADa/kj5n6v3cd+jN9UV6wCJTCyelQ8Jt1vDZkBvXWO50kT6OFKMtZXAAm0pIP2TU+6FojCDSOwhK7zRGvvdwm8WjNT4lKXueK3+xqcrBppPOtd1p5UJveyNHnkBNTrMgjDOKHRZkm5thtRpV8HsK6+lw62xRa49BOcG0zgAVZgdJDJOWfehtrt86AzTXb9FJPiOacr1jhAEL6iFxY9iuHYcEbmrIjf8fapuQQo7BSWFe5Bm+46XExXV/UKuFwmYIVc1mEteb/jNlutGBOIX78JK42TjFyVphs+vPYbkqcL3pn0UbehOyl+Fx4cNCupDhVGXgXTSHC4EanDGL7Wb/pZvbjNUiYnktG3LjWiWsZunrvU4YnKXqkgN9IQwKYkxKYZyQbym0Y6v1hdmMl5w4zv6R5c+HMuL+yqffSuzt/vBojQ8Qn02kbipN3hVMSOoaPsxVMYblCku3rkXhDBD1lrRQLl/TiQrK1g5BQppwnolCdm/9fwKEB9m9RaqjUCE61vBQ5s26MLhqLXsqrDpAQQ3Lto1TnGuyr7si52+pnAmFPVbbZC9U57SqfIjxeAZcMOVWTcITysnz9AN42vBQ76dptPN+etbdMOkis3GK9VxGvTY7MMeUof3x3v+MOEdux2jjGuTp1owa5I2ONZHL7Nlu/HrHGmT2w+V3Gu3zi1L6AlKul1YpjQudhRL7dmLcMQaBbs+xU5MGB3w9pD2mvtXK+yMePGrjE0KMTkwTZx08I26rCywGEsL1REttPuis1SickXlj1k4INAQTmUUAgMggJIjukvwn/MbI/XeBYt1/7t5Cq977WekvsZFPUGKPc7HHW/Tfn8idIyGcFC1eN70hOy40Lhiqeqpmp9PpB73ueKPEhtEyvR+6fQw2rMa9SDlGbZ/I9XSdSRqdqcdAtctGrLeWz2Ok8hKzBAHBDsC3DVuNjYQ/l7uG3vy1eLhiVxGhV1uywdQg0QLXpjVYLwbDT/I4u8aMWG4pgsFK6ajuZConKzMMTq/2PkyoEH4v61GIzddD2omZfx8Zo/YOyQeP1vh0RuMb8w1+e7fCedkP5peBds07LTCXPp5ZMjd5b0gthLh52670DFVCvbqFYsVCFQmpGRTOABlRuN5AQm/D8Qw6QtVfMC28e9hWEKUMT9lTYqNAOtdTR/I4nfaGowt8Dxwmn0ORMjhO2JE5VipxQsONlGxQKeBy1293vFS4uO7ParGQ2G79vXKFpSRUZXEfIapUfUqpBGt0LGFCSuBoKV3obbVS2Awhw9lCod7335czhWbff3+b8GEO7uNaUO+Ho6lrjSjTzXpJnCeUMuBAhsEpPLlgCjsWLSX/sqmhQtD9zRCKL4RBS0JvOx2PL6cMhh8Twsc6/ftX9c0i/IfAozU+FtbwTHEfchQbXaAlXkdtlOs6WpsClWhRmwI1Cuch7VFhNuSNGlSudUIr5iiYEJtr282hvYyv7/o8kCSUcAqucvmkaPF2ECctpXF9guaFDz3R2RDtIhrK46RIYNSTuauSf5ZywWSbqbhiSFeL9kUCxuy+EPZ7HVWPvpdBltCGm1o7zbb9Xjumm9Z+oKSSLxY2Z8FJBj00rPcTux5GIxhKC7HeYkj22LEeH7OfEGNwir7Lbf+Z1vPs2v69sXkeq2BQG+EMkA29WYPDTYQrMvlt71jb0yFudGgTyRD7Lqdz6kPj0RsfijmV2JmIjVKXN1SASi/8RVc613RKTgCArYlfFpERx3fN6jh013zXL9MBQsF0O6DbQRQ98QDta6A4AwDM21fYFecAgCNc4BLHAIBzdY1X3dKfS6ImJ0V9ThoccilS3tIUI0XrxDuYataZkqQH0h7Z1VZjvw+fsCUb3KWmZ9o2IBVuUkpEB0ouSX4b0LqlaU4mN/Rm13GGh2uVcBuIRB4n5DFOa3uqamAWBprGAb7dRgzHlYk+g0tlDU74IasC0ZYpFBlXlDDYG1ss3mGnFTrTh+cal8s0IwNkx8QGfOsZGhkJ5Yg7k5OlvB88euPzRO3REr77q7af/U81zbhZBsU+0gjNaqV1B8ShtSgcjZq2bIAoAVtAqhv/WagbBkh3fThNHPDmxtpeA33YLdVpVBu+pcHUINlLNuqumknBjhkd+/d3rfOysOdKvZ/TOfBmB2z2BlLAMd0Wc4XtbghVzSX2O+1CbocUkyYNToIenQoTLWeeeEDDhzT0Vs2kKzi9K3zriPD62z62nPejW+OUuadFo0UGHT3lJQHAMsFoO57xkxpaQErHHppnaYx0uWauxUEluhHbrDbhmA73vua0SKEt7rkw4ftwnB+t8REwOBZ97PFLcxTcJpbgA3g+POAZH42Ro2KrvZaYDcoJW1O4/BCtF9ph5mqEOlGiNImwmt73RoeBGdYZvql9fP8AVrjGW9OTE56qLb7oeur4edniVVNg1/WFcJumvx5WYgfwHkjKy6HyNBzN+dCHOMZiswipB9NCv1hhssXFvjc8HGzILUdWh8OotXWg5sd25gwx3XZ7jZN1Orj80OESTmiUekVdo1EwrSfo3x5CMMhRqM7ZhjPi1hM6HiLboQLSWvf9tIBxtGWaaw7llCkKdFHNyRRymzxS2GOlYcKdliNjdFeFhLvi0RofDi+LDV4TWRmbjLMPgJ11SPJviENv/yaEkcHiZt0JDpgwbW90OARCbkJIZ4CM0c77Md0OQtnS6ldA2YfbZt1bbNV59Dh2Wo4KS2+sT+Q+svTQJs9syBPiQm8WNqTBjfWcXP1tsGkErpg5wI6E22iupyyFo11P62JScwKuS2cslJRiugF5at1cQayt+enpzeG6pV4yaPjMMN3eBXK8lxwVa1pISrXbLKNtOYTlFsxoeJyh3TZLaLcBvdFJoRKd835mQrvQ20p1uBzytwtpgg0lgamKyc39N1okhRNSbN77wqM1PpIwvp6LL/HGHEe3p4YnvL9hHeMJ6dEFD++Hus1bLFybhkYsBvXqGkYUPt8jF4AlG8jSez+iZPM9OeE2ThXBYmdKJyg6xZYYm5insyO1I6G4+q4ZF/SFPCEd8UDo96wsfcbTGWugp4RnuVmG37qEM0BHc4HvftmvmM+kM0DVTKHe+/uTGnBzDFFMWTpHiXnfGJws+3tKDTnNm81K4XTpVnPPelssFLbbzrV/4M4npPU2xUMUn05Dbzb82NbaNcqjhqVrTbqzaxHPmwHA0Vyyk5qTDINDxxyaU24gUQ5KBZIw2jSkU0yR0O7/Enx34xyx0VS5BJAOz1kCw331FcrBozU+AK+5ZiHB53pKIlPRkAF9JrXL/UiY0c0NkRC2usBq6DJKQ2/j42hHVOvbQkhfWGq48JxaBr9edK+wVeeoUWEharzWvdzO06LGF21f03Redfgnm2HWVHgDVMqxAdolCiub1iSJAZ0GO7PKygGJtJeTIhdY74kLT7zdZpATMsJtqXnClOE1rdhPMd02O43TjNBb6lDb1rB9h3I8GS7cNvqNfTz0lgq55TSWy9F3y62Rst4Ore3ZtsCLpQ+xhQpIayNwyrQ2cb8huqzeOSHpLoAvPqVoJorzoWfgqhWjd2V6Pp0BtkZkkXUeAo/a+FCcigu8McfQkDiRtdMxo6G0xgjn/tLZRwntOPTAuBAxNN52RsTUKPp9oIuoW2dMRSYdUzF4S0KWzgCJ4giumkbv3N+I7hJGHaEd5HdqhNt8fusajQAAIABJREFUX7bpgStlcIDe6MSgtcFOe8YQnZnT6vCpFL1FZ9JezkKZrHwSt83rtNAEADiPh4akVCGSTePsoMxV51vkhJJyKMEpNJ0ZiY3OFwq7gWxQzhTqrT1Pia6zcjti5P3o+5Aex2HFpDSPw6lY00JS+r1lt1mDw7EEz1LyIQCOi3jIbBZRGMlBgc7JgM1E5+oSF7IbtUu5aO1nEwynbzsRneRZL4m7JYfRUW6HR2t8tOkgTQctlBP6PCRJR2mM7R2reyUMdqZ0rRl2WGKOnt1WyxWqQaFayzkJvc187keW4+lyF8gJlScQoe8JjFo5wzPFlU7f0kXhB+NSiWCNyK4xo172Lo8zGJam99MPysXk/G2oZofCzuaotI/TkBMGr3f9gdPapmUlcF33G60XEl+8ic9ktc4JvQnWE8qZsVOjtN11WMz7i3O11a4Cn1bdUwNv1br3Td8G+pqhi2f1JEq0ULhL2C2HbNB12knsUCNOpYcoiiLeAM/KEnEU6uNwydwIp2V4KKbMtVJoH1YjoTe7zdQDoqE3gA+3UaQIBttOJCdmffg5vFEOgeEh8GiNj0WLm1pnAFwiDuCLLKexV5vXoYk82kOD4lorVyy20SWOZDisxjWTG2GUo2He3vIk/L2F6plsRvZvTaGv0Mr+u5V5iy/wDMCY6fasavB53V+/s5nBH1zFH7IsL6jjGYQ5oGPBtGWDXccZHGtYrOYfF8fetenjs1RkDl1nkirWOfTpGGjTOBp6myL2M/aecaoVTUZ7CC7XQwkGOUYnFnq7jxbbqhDplgiRXE/TGjxZDyHNple6AHwBKTBWLaDhNqrRtpbxyUqRiHzkTKJjZSEUNqc5KhY3vk3KDr5odtv5AuzdxENKMYcfAo/e+FRmh3roc3MsNvhu1xdZUgNCZyJ7LcfEg8Bz2Bh5kIZRiunWY1RV6Gt7IGENkCmfOOmd/ovB41Gz3isqBpKFCeeBakG8H+bZedvEz/O6NugSs/p9Y0athTvtvaKmo15ReGbeaNIFUodZOAtlouGCVTFQn1nqfPQUAABvr5mK80qgrv0OnJSO9Kwxy3Q71OAAmV1EE2g6wxqc5cx7c2UpnQGqZtJJ7AAIhtsouy1FQIiJheYi528pHX3a8VUIQdqM99tPi0ktUSOGsypuMNaqHUVPQsgpJJ2CToq1ES49QHPTtCMxgCh71T4TXLacejncJO9d1fw8euMDwPesiYDenDLQO+NKF8nW29P6EOr9XOoKZ6pnrl1jjuXQhnsvlpiZPvTWiiWK4bOWFaS+6S1ptYKITCO16muaOCkd6+3E8KYN31aq4kwHLyXFDQPUFyx6I0MpqgBG20vGaqTGlXkRNziANzoh2KRpv13f6dbu13o/iwL4bNNvtJwJXA+1PYtKYjvE6rZbjS5SQJoaZO/D4ADjfj67vXYtsy+uNY6XcrhnJqi+XCrg9VXaPekS1Cjd6QwKOf8eTf82FIoM1TwB4yJTo41juoVgPUaOKZij3XZcxceDk4FY4CRpIG4YoHlEgDgXKYmdxkiWvQp4g8MWopLhsIGfCFJPaNOKpIrIfeNRG5+tGIwOc1EvSEKd9ki/7BSOBgP0WTNz0he0+tgSFWzIjdM0y1FOSDWW03IOMKQAi0YdQ3HtF0SJbsjxSNO6NtyVuXbez7HY4A+6vubnWdng80HR+ulM44v9MIjt4XIdIaQaqrXkIS4O5GT6tgc3+wLFDI4SZhQl3zKeEFfPY7HZ8VI6FmmSgWeuhYgEU8WCUBiPCmSGoI0Nq4WP5WqXnqbWqfMcPKOQrI5F3OCQfOq+QzG7+8MRYxBaQ8MpQcxoK/FAPQ/Qk19sPc+mEViVfvC14dyl6qIT1ZTBoTkdLsTWJkJvey1H6YCVutkUstb9+9CQnj/0MUkVhec2gnwoPFrjQ+t8VmKHjelDb0eyxrfrfsCl2kY7LZ0BetOoaF7CqmPzNSjpFzon9NbJJTFMJNwmJITRqOXxsMa25J47A6RlhY601eaa1F0hTDyweF1LtmeNxb7hQ2+dHuc+QsV6VPCSvuiUxgrE9dnsi89de07Xb3SsiVCqHai3w2A8m0lngFQh0bXaFZQeUkyZ6iJKw3khODkfJvnPGZyyEI6Z2HXGeXO0UFZV0nk/RhvoSIzlXRaUWlDlalvnI0TPNpSWHt0YlKVnvVkPkYaDKZYz6fI7HM6rbjSBnWIl4rOZgoTcRvppQz0P0KcHdCAPQAtFtRGjZnLTfLR99jkHNqcoPKeD8bvAozU+U3zZxekpF43ALtLhE+jDUdwDRmcNVFLjShcuwVibwtX5hIpMgT70Fqv5qWUfVhPMwGLXA3AN6qbYirDckMWXbQElDL7Y99fjbO7ZbZbpZcNPdnyZht5aMihxNRiphLyS8W6ji2Edl+xcTXo3WeNCdf1or6LjUjvlbnrOQNxDsPRq7nxykuU5baspMYYaIEshNtqg3ndQRX8O263GYuFrfihmjL7ZJkGkaPZdVKPOi4UydUHkueVCidT74VQeuNCb2zehUYeQowSxTEj+nM/1jWfMwkZJbI0fB9r3yxqWqepAyOBQtEZGi0l3VjCUmXTlFJluGl/yAHjvb9cKzIt+Er/t0uzS+8SjNj6XZhFdbwcabzT87PqilTguNF43Eq8b6WbW1EPqBTQpnTh84VOJRAENE3GjmyE0ZpgXaSfGeZyS6MZZA7SRZ87bUujQDcGnBfbYYuaO/4uGn+LZvjVceK1uxoNjCKlcj5JjGR3KJLL3Zz7pUDtlFaVqKoA0O2fXxkOM26HOpWXYYDTZzmm0AYStR2bsFHTbmDwN9z0lQlh15ikuN/Hrtd92LM1aKgHdmRu/Pz3WEAWbqg7Qz3eFneTc1cD3+/D5nqY1zlO37DZLsT4u+/u+6aQzQHZssJNNrgNyrNFkLvZGsQSGUphg77K50tgNobeF8mSiUYsUoniRQXTsVe3fYQM5ikdtfP7E05/H3/ri7wIATlWNN12fN1EAXjf8YG/phx0zm6DJO07lNdV5UKEb5XqoobCttFsxrl4TxjgDZITAFp5IUTAFqykv59IssTG8wbGz/0tm5s9176R5jLrRbqapOwRl6WkinIbeLOykYGp4LLgZKMVYPfjmvW20YLXq1nOBq53BZqLqTFsLSNmHeoBx3oPO3mMyORap9SmPkZIflAq7jhdXbXCwt8WxtqDUejm0aNYy92zILcfL4ZCzDfu32kAWN+8jbSbXNhrV4MHU+w7V4FHVtXHGmPY84nA8Axt6OyIEJU4UdE7CbpwnU0C7XA71fgp0aKEcscAy2iiBoRQ6q0YvT0onvr43OOF1207gAPH2W+HRGh9tNP6/L34Vtm3cRpe4DswGLCyFkLuolJ44J64lVXnVxs/Ap3U+1v2ujcJiCL3tMccMY5KAHnJVBuGyaWpwOGzgDU4ZIE1eYYmWkV5/Wjb4oinxupZD/qQ/76O5cAZoVgrXQkAK4XILNBSkdbrOxf4NB+vmc7meWEt0i+kkYBoP70xvuN40Q4hxZvB6329zvhR4dW1cyG1qeCxSxAIgbVCEiBulVP5E6/FAbmf5dMC9umyTmma7iJdDmW6c0Tgkz0O9n1joLYdenbNNSpJnXgqsGJ7PMSG10Hd9b5QzQK2RWA8dg2k5B6VH5yhUU8MzxT5Luy19LagYxVQ2y6LRnoG6bWno7Q+byQWx0eHpylnZh9Sm79mop4z2hWGd8YPgrhMjA5RCKXRUkdaG3DTT/vpapOnRX+jjUXjPzrQalCjR4NL0oTub2CxE5wzQSjTYmBKvh5Db65p50DOKSPUBg8+uMTia2+SvNz7jB13gbDaEQDvpDBBth95XjcehRC/pEwIlWHC5nhQDDLjZX2ba2nnaOZPKv+SCGgrOkFOR0xB2kR49NKzI1fOMVKypujXZ5l3gtr2AKB3dkl7KQkAbr922qeEM0KYBXi7762HD8iHME+SCXlor4d0awaoX0AJSSrChBINKGsduq6RxBojK6thCUsCrXNwGdHtO0fsh8eiNz4nc4e3QQsG2hbbNkR6yGGouO5ZmvTWVk9hpULmQmUbhmGtGCNSD90NzNBRvdJypBgAXeo5KhA3wW+2ndZdMbU8s70HRJmb/tLiPFvHtG4P1PD1qcOG20TaRfvdAH8rgfN8rompwvgRe9eVWOFtJvN7093G1UHj1Ze+1UgbYtJKfY5mNjuWAmoicAb2ZTBQsu8sqIViDw4Xedtf9c3iXPNNDY0o2oLI61gDpVruQXNeFex5Z2HvBabelmG4AXNO3GDiGq2W0We/Iejk23Ab0+SM7kaZ6lFQ5AUh7OY0WyW1i4yK95e+TZg18AMbHwt6smkmO5VxI6hVR78eG3mzIbe5ccK9ufW0qHMu0OmXNhNsoUkbnUleoGS/qLellVAiDdrgeR0XrDNDTSuN3r/q/P10AbwYVZ1pkWRaCzfdYcPUrQLrtMJA3m6K5HtqUS6Mnp09JIPScV6rDZ1Y+qNKsx8eF2yx0my6sjCHHEAnpxUmpR0FDnW2tbxAUKKy3xoXV6owupQ/tydxX6C3VPhvorx3/fKaPtdECR0Mh6UYXWFlWKwpUJAdbBvKxAmbU94bLA3GdSUfHkRF6y+lYWimvWC/F2NDQsFxI9HfbxpmpD4FHa3wM4FReF7JF0/WDzGnRugr+49K4qnYlDDsjSI2TihieKTjGC0WbcRkvCHMv1GH1QpcASmfsaOy5Ngpb8hAXDEnCUo45NB3fGpuCy/VwMfZpnc/5ytciuFDnQOkEeqaa66ZIQm8W3PlZ2AaCMVhvJwaOckzzYFzojYbYKNNtyoZLeRdde5NpFjpO7tluEiE5e9whozNuIOcJFqHQmxxGLE7pOqvT6D3leprGt52gobfrvXZe+OXO4Gje7+v1zitXXzQSL2apTqM6673nkCMWCiDYzoWG2BT8ZJuG22g7eMp0myJHlPx9tM+2eLTGR0UCwONCxJsPayXT8vtK8AWN3C/Tfj57VKM8UMgl32Lm8jKUCWNxweSzLF53PqzGhaS4cBsFV1Q2K6XzfopCuNDbmHgANtxGGUarWXzQOJvxBt6iFJo1PDlCi2eVxj9+M9T5TMJt1PuJdSZNhdyytMgyLHyK5NDnYIzzFqhR61oTpIJTAyKFSBqmnOOUhYBhDF+WZBDxfkJ5M7cv5jzVoF4dy6eFCkunSPWsKYRJCoJaT0cMxAPq/RTosBtYpzTcRjuTlkLjOjFxqrU4SLg3B9QodRj3M3qXuZ9Ha3zuglRXS+sB+dDbOOFtQ0DTZnI0HpwqGNujSm5z0ZXsNm+JMeEG69YIN/vnCi5XpadZnyyEa6A2KwX2jUnqruWEknL0syy5gIOVPrITgdaIkQEKtUCnidnjQuP3ruKP8WbbRZPyQF67gdTfp+pQjPEMwmnbaqNNfwydYT3MEXmA3SYj9JYwOr2BCHtFctJN8JC8UYytlioyzQENI73ee6LL60bizNX5KKfhtjGlUzKoTeHqeRoULOGozhhCU2G1RgtEtEIB3PRQOO9n1CxSjSeedB+hR1UPFOx35Qw9auPzJ5/+cfzK578GoJcxtzz4I9W5Iqyz0mseATf7ukwNzhT3FebcJ7TbbC0O7aJKDRDVqQtJuu+0Sj48Wy3cA8mhVEDDuOm0ajxGQLBGh3o/m71x3g8tJO2rpjE6H1tEyrXCyJn5varjd+71RmfleoC04aGht67WUEMsMZYTc3+r43kW68FwHhc1OJzXNd0mptE23cZCKgko/lhpk7ycdtsh5LDZpnVU1KjT9tlUYmez7bAaHrJ9Y1z/o4t9uG+PEnxBeQ6ajGGTy/XQSRTgczm0F5ANy3cYpxPoRPM+8Z54J4/b+MSQMhqV5Auych48zvvZmdJRMXemDMaGrWGxbvieeRAvcjqNkoctJHa4y2C/KAE8WQpc7m8SDxaVHD18oTCc1gYVI+dicboQUZfdNua6baiTglZ9rwqNjZXVqQwuas+AtDVMNNxmO3nakBuX77mPvjM59VFTksM0zxTyKKYK0MlcUcKoTr2YKahAaMeQU3LyW13j+/yMwmpDAzlawDvdJhepzWnk4y7g8jh0EtlC+fofoR3rjXrqVMw4hoeWXxsJ+mpPQuDyRw+BR218enUDL8qXQinNUGDlZ+DWANGLTT2KrRZYWO8ikPwOITYzr01/STnV2pBsxhTbiTGx4USqyr3pZDBJafXNlDB4uoDr5DnFkuRouFqYlMFZL9KCjU8rPQofUmqphkgqSQBwcfK5NCNjbPF6L6Jtsq146JS+fB8YNcTrwhIzNmlv8zycZ0INIjf4prbhyAXT4xHMSCyEQEmNzpAgUKV0BqhcqJExCtUIxc4BgKNXc95QVrvxRE2VEn2dj/V+aOjtTaNwWnZQArjqCqxVOPRGFao5EoJ95znsE/3DrKHhTpm+39T7uW3obap6zeFdeUKP1vh0w1tZCO1c2KXs3EC0VB2uOwUpDI6KLtrv4l2gNXJU6UwJBjPR4VXbvwF0AKWq3MBYhSGU76m1QBeJgfsQY/jpOV34v7X06ymoYGXDhFfKQvhwG+kIaROWzxf9vQuFD4G0dBGQrvzetNIpGXDY7vm2CbKQwYQ8VxfDhd6MNtFptw3pcV7BfeRopmGwWHEol0OpFt7gcLRzlZiMpGCNkWI8Liq3Q406pW93re/4ut971tu21lhUnvV2FKk9S4Xi6cSxYkgIaYPTX09bFkDfdarOIcn3oZYvMdwHU821nD98V7fGozU+OTgkbsuBej9c6M3WAWhI1Mb3ZKfy6fZv0r8Xf8ByY7zci3Q2HzdsswP26UI4A/S1JxKfXflrua19LZA1QDaOzuHFst+OU45YJgpIgQyDM+T27DWjUjpWxfp6r1Eo4HIIvS0WyomIVjOJ3SYdV0hqsxkDGTEIqRySkJ6Jxhq7qUEJXJq75l4sqMHht/HPcL0N1LsIAVUK5wmNC3bNkMOxobf+92y4rd9mnE/ikKz5EfG6oJTBodGMrbn5rgM923WkTB6Q2+FC7O534MPDqePgcFujw3k/094/f1jnE0EXCb3NpSce0DoaGnrbdr5VQkeKTGnoLQXXd4OJF+QUle26+JtUa9vWof//WPWZNl/zISw6szouzcj7uWBEWM+X8Qd9PRdoIsbx5aAaxMmw10bgWRmXKmlMuMcJxU6LaNjCjonXjJfDKVffFpQU0DbaVd1bGnDn6NGB0JtMU58B3uvIXp8IuSmiDccx9I6fVCMDapmC1aJwBmi+LrGPGHLHVmMe9SzyQQbTjTLmtnuDxRBOvtz13o+SvXd+PPCBpqG3o4H8QhtQUuyNClVzjLAzRXRsss9uTuqAQsGH5KjRoDU/I+kdJvT2WPFojY+t82mNhIRhe5vHxEYtcoT5csDNSmgykiYaZ6JzM6FSaJfvodLo4z5Ceb/PhdWoWkAoNwIAX1n5bb5/fXMEOF8JYOW9oildEwA+OR7vm7bj3XUCPzLn+xlZpEIKF62KNvWzsW7uBWuIwbFkAwAoKumUq5US45zLHar/U95Hqm01MCYGhAZcYwxw4DNs219Q2RqK9UmZHOyXKxUNAVoPRjP3JBZus8aKei803GbDcEKKkdTTdtdhMffvH6354fgUOZ5DyoPZmoJtiQD4cBsF9ZAqafwYAG9kOoxDYO+r3cG7wKM1PgDf2zyHLUK1vkLozLh1boh4IGFGcdip6kBOFXRqkK11/GVwMVlmP3PGY6O5pW8sd6PiNqsQ8XKpnQH6Y88NvrPhr+tHR9bwhdd/kmFwRmHSwPlsunFiNuTZTcOUtGnck5XE99/092e1VMHGallK3YR5FoIdgDnDk6OcYLTxigIkR2MHXKsk4Bhgd+iXk7P9+iTOGHlyUuAN81jMVoXz5mThSQhUwJSG1epdi2po7kTldmQhs6R0uHDoITp7FF+2hfd+jMBMjtVGbBjdPse0JYKCyWOx3YMxiYXmDiEevOvQ26M2PhS0wp1SFyn7Y9cJP1hPkvkWF7Xv2x7CMuB63xZNgjhcazHyckIPg+0saMOEVKqmIQWx02S+xYlqcJJ4kD6u9gD4DrHWw+Hol19bhkNqVpcNAFayGU0iph6s9Vx9eGFKwiBhIua25bQFThkdIQEZ8S5CM36au+ByNJTR1nU6SR4w2sA8cJmfUp7Rtt9pzIbkvDVwnzzrDdLVtj/w06MCby77h2B1VIwKdhumRXtWHifggVGISB6nbQ0rsWM7mFKJnYvah94uaoHjqr/Gr2rlGstx2GsJzRjyHIOTg5HYKLz3UwnjJHaUCDN5aejtUHQaeFdC5o/W+HRGY2+U45pwxuRNo5Lhqot93KJbaXVOxZojNrRGjrwf61LTcJsdZBsjMZfGKRDQuK1FalaUQ7A4UfEcy/PiGksZNjg0JPeVFfC6vhlL7gzwE0etO17rmVBR0KNE62EAI8MzxYZ4rYn2NVGslgqXV+M6H8DL6thkeLCSP+H9WHREq4QLK3UJkS1OLw2YKEBHvJ9Up1EhhctRcXjxpOSVoZf+XnFqEfTYuNxT23SOxDCqW7Jhtcn5jVhv2rgW4zHklAilQm+xcP40pBY6IgkExy46cZ4rXrMPuJ9aHxqpSL+V71br7dEanxRs8zAOX2wFGyLaNML19aCgAyjgizpp9XEDidKy2zKMgY4UldEbfag7btlk03MAgGO5w7H0xnEt97jSvQHqvR+P79Vhw2QNTgwpo9NAshptCsAXRJXa92TyBoh6iLTG4fkK+GzTf//iROHTt4nWDBIwdywgBcZeDjfDb/YdSzww2rBFmxY0F3XbPjfu74RIeiCnpyWOl+EfeHE8/v47r/vren5e4dWrPsw6XxXYD8ZIVcLluEb9goSInkNKliin4DRH341i0/gIyEUjcVz2huCVLlz4/bpTLhIyDZ9z+chUVFcJA53wbGkOKBcc8YD2+eG+f1/4oIzPm7Zwg0+I0fbp9dSTIINYF5bamOKYeA4cVTrX6AT3X/iumwvVy88ANz07e57TZD5tA5FqPb2We1bC5lRu3ec3ehHc5utLn8fhDOhTNenkOmH0aPSGe+oJAn2I87u7dLOVtEisyRp8uBDOVODSGhfq/QgpguQBKpbZGxz+963B4fvrJE9h5FFwXhD9ftqSuigl5qtBpmrd/3txrZ0BalqDnzr3+5q+UxZpg4EkScKKhobA3SutDaRTSDCut892r7FwNT8GC9tMjsg+0dCbhR2wWdVw8txzkZEcLiVnrKzRqKRBhTAJgUrscEzeXCRELQD8obabwyVpHsfhexvBDlA5buSLwg/EnDIBBSUecO11F7J1xmspuyxlg5xjTUmELGTLdmJcYOzlNBjaVMitM0AfV2ODZfX0aLiAXq8Q7N9z1/JVk9Or3p8oR+WmL/TzpcFnw0BpvR8lBU6PC7y56Kd71Uy5rqCqEKM80F0brvUhs/gzE/NyxurU4ZurW4NQLxwuDBf63obcrOGZ4ieesIfokCMkyxlfSzCQhUTbaMyGGqPpsYaMzlRuJ13zkzxM1BooGYNDHQJuarTTamSMQsaFht4o7Lvk/v6+GBO3hPV+fOnGu/39R2t8DMYKz1N8tpWs2zjt3mlb6tK+Hq9riZ9d9+0ua6NcC2uqTHAkaycIGgLnVVjkTEpuG26jDL1NJ7FSeniYhfPaqP6chrhhdEKgjfJsSI7iqdome9XT1t5TcPdy2hbYarQBfZgAGHt/VBSylOP8EOAHHs4TGg/K4fs3GkCZZ4zL09hBlhZd3tx/uG31bTXNenWF+DZCgs31fPKE3qvwtfiZ0xbf2Q79s2YSv/OqP68Xzyp8+vkQelsWrnNqqE2F9bwOYavJxHWRkjc61vvpdD8G0LbaVp3jopFYFzTC0J8Dbe+eSy6IbeUV29P55agkjyNW+c8jGR7CbqMhtl5+jLwn75HJnWV8hBBnAD4GsAXw+8Yc0vcxDwUZASzj47PtUNRnLza5qErACWfG8JVFPHexFHtcm3h8TsHcWpF5pTpsBu/nqOhwOYiKrgvjaOH0QaKJVjr4TsGFAlK9SQCggg+r7RjW21MV93Ks7LwXVOxGPYy+7KyskHYSSCs1ViKnBodD6iWpIoNPlk5YKV1hZW8ctPu+bfxgqrubRkN3GlJJYnDCv5GjSJDSRuvfvIz9GONqe5p959htu02LFy/7Gdj333R4edp//+m1cCoVnQGeJxqutV0mbZ3JOeXSxj0hwYfb6LvRtgbVMLmkEjtWcd1ezpzGahxSavI5sEopnXtPfEfeUZ5ZwY0TlAFH64JixxnzXmzIjWWNWnr8+2a7CSFOAPynAP5dABWAzwHMAbwQQvxtAH/BGPPXH/oAXw/V+ZsmfNc3GRQO+1LFsBRh72AlmpH3Y3n91FuioEWmC9GNOpCmpDM6k/dCHwINGWx8N8feGaBzeelCcoBXbbDyQdbgcLjU8fYSAPBql36RUlCiV3OwntPHK4PvbQYSwrHEZxf9xTxeF7i46o95NpfY73yRaQpGx0Nvvp4lfONonoib+U+ZYXZgHrHBWsJ6IzUydhuXp2IG+1mGlE7K4DRdb3RSoN7PiK2njWME1tv/n713jbVly8rDvjmraj322o+zzzn3nntv0327m6a7aUzjgHnHOOAYKwgnDrFwogQJMOFXZEe2EpPYinAiIbAVxXJQEmEbDHaMjR3CQ0aWZXCIwYCh+9L0m37ce/u+znvvvfZ6VtWcMz9mzVmjas9Rc+69zz7nSOGTSmeftWpVzVWrao45xvjGN5SX90lpTdHHkPFyP9dlBDL79WaTpuanI1BMQmddwVzr/XALQweqcRiTluLHmfiskMN3PKGsJSFQOa3HgSHP558C+CkAf9QYc0zfEEJ8FYDvEkK82xjzd69qcEeMLEyKwSky4Tv03Vm1BujuNvMP2URUmIp29e+6Ejrv57xyGCHEwmqxIlPAPpxL3bJzaOjtuM59f5xjNcIOwG8CAAAgAElEQVS1zH6fhRljtzGoFYqgweljDL5QdORzXOEHKhSq6+NBmQXDAtTjo73kaVhkUQvs5saHJS4TLqAdMUMdRaWMr5T7Xkx3ku2G5ULGBBimWANO2SA+Bs7Tyou4wXlh1n6PB2WGG6Oz98nzkxpfWNqp4t03JD7fhN6euTnCvfsljDEYTzPPentS0Bq99iBtv6lVaXz4fVmGQ29H2/YZK3X7jHXOQYxMCC6sxqkfjMmClSui79CjyWGcMkpfmy0UetO6+3q/lvBJ9fChYI2PMeZPDLz3IQAfupIREXzfi+/H33n1UwCAWdGKSHKUQSl5erXDO6clDiSvv+9a5HKGJ5bnAeJK3IAtjnX5Ckobdi2slQGU4ifZlNUOTfiHjI9CFjVKEhoT0Qqm9pvgrYx9irn+JYUweGU97AnNy+EksXvYOZZhCuOHejlZJrzadavJBhSF8KG3YiJRbVzoLUNdKetxCMESCGLGJGkfbRBbBGulIUiyvO8hOfXpbrhNYTJr/t5qPH/DzrifPwHefRC+rkP32Lq5fjEtuSGkeDvdWqAu0839pmVJ5HYI6w1IIx/EipQrLTAaVJO314BrAQ+gEyUJ9fyZ9QhKoTYiyvDEKqAl6XDRk5TQ4+M0Sqk5nw8CeCfd3xjzs1c0JgBAbTR+5s1PQCW4o7SANHSB372vowKXRVOC5cJNe2KNU2MZYFNRY91IqNM6n36RaQyVkYPMPXfTcDcYZYBx6tFUk2prMm9otygwbr7jChP/NzVArie9C80ZxgBvBkgYDrfL4X0eDKeSPOgqk3p89BrN8taQ35wa3F/bvw9nEkdLe1FpYzmKPA+rSju0cjjh9w294biwWmyf/vlJmwbHBjNKwyicef08mERCb7GF2/3mN1szAq7jaeZVwzkiBW1NQQ3io0QS243cCqFC5lILlKXwJARH7gFaVRFbs9NK7NAW8AoC00h4eoQaEMNTsA2r8V+o9IYp/H4mSHdn4tE74oHbp3KLrqdJXkcI8eMAPgjg42iDAAbAlRqfGCa9kTtPiF7gWzvGT1b3qsIboBM9wYHcYFfYp0kysQ3OLaagnlDIW6qMjLJk+rkeTvZc1e33doVxAPD6OsfNUcPOURKHAUO70ONBGo6KdPRIMTh3qrCH4xhtrmYkNNe7+bZSdpsFpFBSEVvJSikGG5G534JTOMgKicrdcFJ0kwzOOHAtEXr7DNUF+WMkKq4HxxqRiBhlwOsLgRf3mjBu02QNaO/DtzZ5Z1K6dZjjzpH9/nv7BY7ux9mU0TYVF8j7UMSIB4BVup40f1eqZcEuKmC3E3qLn48LvRVJRJ94wTYtz6BknUlmMA/kv+mcIWWKN3c5EsajQIrn83XGmA9c+UgYHI40jprK95sT0xEMDWmOPT8bflAPG/bWDsKht9gkDPDhHxeSckrc20DozTG9lLE3kluxT3KDDfluKQybPs24j5M6R5bzuZht4+VxewgYvw9lsdHQ27EatXmcHjvHvf7WiqfFA5YKC8BPDBfBJnItAOv9uFV7UUivfF2MJCqidK0bY1KMMy+cmY0kqgSN+r7ROfO+xmBsw3tY3D4Br8h+jngXSvvQ23ZZYdzMpqfzGnv79pF/MFd4/pC/1+9u7Xtc8eUqoS9SCjZLnnigybVwebqzRabDv3ulTNSobeph+a0YaLiNi4z0STq+UBQ1ymYaprWBfaT09UohK8W6izxOg5RifH5DCPEBY8wnrnw0DGL6XjcnZjAWemtkE+lcrocywKZYYw0bbtuXG8y1paVmMJ4mSYtMa0hPa3aGh0PImwm9PwRqcEMrtKNK4qga+8Txw7rA9dx6Qgs9xq7cYqVHWGGEHWmvCw3JAUCVcFs4CjWHt1bDmnvHTbO3grGsNClMvZ9OnRMxONR4U6Xr6Uj45ngXAadQTRHvwWMahlqYOk1VFYb2iSG2j5R8a3TaFbbU4Zn43kl78+3u5Vg0YqN9skG4OZ5t5WC0gYIZ0MEjVPNzqh9QVJGHqVLdZ2m+bRVQllUbYTipBA4c0YeE3jZKeumdrZZeAZtiIqqoGooUhmXOpzSW4zycTvSEkJqoo+6iRO5aPW5PKMX4/CSsAboNYAvbWskYYz54pSPDcGvXg8LgoODZHIBl6VC4cBtg8x57WEbHEGO8aSNYxVv7eQvuWZjlxjd7o0SKPgOMztEtG6xl57y6zAbDUyfKWiqOMLEl1GpunxiF2q2WnRHoKO82xJCHy+4dXinjDdCmMqywpUOKhzMv7bEuCmpwOt5PQWp5mjwM0BUkdUhRr27/Du9zUU237jG6ytBHRyUOD+3v+NaRwo19+5vdXwM3G5Ulel+NpMEn79m/ZxOJ5ebsYLdrFW3YN0RZpwbnvKE3jnhQaoNR4xW50FutgIVqw3A0JAd0jVE/rH8ecAojDjk0aubHncoa8+ZZpQQlWhs3zdqWMaF+W0DDok3wcmJG+iqRcol/HMB3Afgo0or2Hwlokel+rr0a9M2xHnRBD5s8yITRPUuJt6ZK7ITca8dg0RAohPb8fVpkOsu0LzLloExc+M9GgcLXgh6fC9v18zhUFcEZoI0pgiy2cfPdHpT2FuJYtg+WJCTB3OhbYig44xMzOkcb0QkpzMbCh/OmI4F542nlmUDtkqu90Jur/6EGh0JVOlooOkheCNCvLwQm9EZ13Gjb6s2y7sjqpKh1v3wc3SVKrR7yCJXSbZiQsPI6KtamNSw0rEibyWkNxC5lrXjtP1rXMroEf18bEWy97USJ/f+buYUqqUxElVSqEGN1ptT8DOWCsoRc0aNEivH5gjHmF658JAOQwrDsLtcOYQiUdbIwE+wKxwAbY9xIzwho6MbX2sUKC+zYvxsF6KE2uUDXQ+K8pUfRn31Td/dZ17ZpFGDDU+75WQKddsEuiXykRphI1zDLUjzPnCOBXPCwztmK6/sJTLaOwSEP/WKtsTu1x32wbPuxlKpNCm9qgUlucLTpXk/K4AGQFG5LiZOnKFAPGZ1Yu4PuscLFpI8Db8zpbxLeZ73WPj9GjbRTghgyzpxGXR8xw2y0gY7kQOqaz/Vse15xSIT0eBNuvd1hvRnp1eRD8AtSppyBk6KiWCf26QlFgHxYzbFoA7dxkYlLRQkugxTj8ykhxD8E8ItAKxJ21VRroJvYp4wPR3MEcKbtrMNGSdwsbE6DUyMQDbF4CGWkP3sMHE2y60a3RIpQDZM2dnM3T6W6kwPNg+8ydoPK2UyYByZmdBY67xyHYprBqwvMirYQmFZNF1nrgQDtCpeG3iplolXW8xJYM57Q8SpuTeqEKm4hRTuxjjPUvmOnVRNwITffjVR2Kdsp9S8pCtWXQb1VnniwPq0w3bO/78lxhYNr9u97J7WnPgPwhp/eYw9P6kEj7UJuKfJBl4EiBkXV2vf2caE3pcyZMJxjwG17C4gxk/uKhaqkMMHmjRQ5NFuCQRemI1GjbEo4JqLGxrTTsQu3TaXxBojqIMbUUFzUhFsTPSmDQ5FifKawRudbyWuDVGshxM827/+cMWZx0cH9x89/Gf7vtz7u/z+ionvMZ1I6kYpIoWiFwt8Uw/u1zBba84cWj3FFpkDcy1Gav3moe8ytUikz8JDJBz2ox9jNWus17hnpZcO+qXz4sDWak0zjrVXC6i3igZQJD8KqNIOe4/G6NXAuvJdnrRxMkQtf5+MKeQH4ScthKHfhpXQ4UdEUg0M+yitAR7yfnsfAhd6GsFy2v7NrrUBx50EVZ4mtal4NnJUMar+PKnXbYntd+yZz1IAoNVzPpCO5NbrQ4Oj1NBzMMS7pQnheSx9xWekMO1KhaJ75SRNlKU3uGW41Mu/95FComWz2iiF6OCxrEe1YOkTITMnvKG2evLabgzHmey5w3K+FzQ/9LSHEvwTw0wD+mTGG12/pQRmNX7n3EWSCxqrD+3L5HQoN4eOuazPysjpbTDBuaNcSCltYdlu/yHSpSUI+oZ/PRaEHEoX9m6f1FloDtKjaHM+6bhk8R6XEYVMLdHs78mG4EBxFvN+x0WHOyB51jpFgUKjRKas2QbzYaOxOJNalwbo02J20hARfp6FbivYQuIJIh6rSQYkdiqFcT0cIlDRQ6+4TPm5Hoy21aDRJHy68T02SBpzS9Z0HbbKc5l+cwV6dNsXJAYFVmfPqD52xprADYyoPGhBJBIb2WtBc0XKtPPOvqoHpuK0F2mvailMV/AcbiRuT7sCddhvbATlBDWVINR+who7L9bjfxBmckG2Roo2kSNmWEdB6SODJEA/Yn1gI8VeFEGyXDyHEtwghvp15+64x5s8AeBE2XPdfAnhDCPETQohvZT4TBF2VU3c3g5WemMhuEzbq1koY5IJ3gSU0W2AK2HCd2zhIYfzGgdIwqWdG81W7ufGr8SlZEhTSutClGpaVd8WZXMKwUrZWYIisURvRUUigmNeZ36jmlWNFuXEvK7tRFlG/D0ytjE/691FWBmVlWG/peKX9xmG50X7jUFXakw2o1publOvKJsTdZEqLNUUmmzzPcPGk2+cyGMz5uHhsbxKmBqDeaj+OkhAENqRO596dDY6PKxwfVz6fQ7E8rbE8rb3h6UNV2m8cjDF+C76vjd9Cn3X/KtU+J3TRoLXpbA5VbxFU12Yw7BrLAY6kwUgaXk1eKL9xKE2OlRlhZUadSAOdJ0ojPMmKlpqMXHuH5lnnPJ1N3W4cKmX89iQw5Pl8FMAvCiE2AD6MVtX6SwD8YQD/EsAPMZ81AGCMOQXw9wH8/caQfSeAHwDwLy46YOrlhPIpu7KOrjhywRsdWuNC63wo00sb0TaTI+G2/jm4iRzgw4Z+HCkFY+Sm4eplqDGiiVNHQlDGFqPOGqNIJUJyYXwfHppz6yNWe1nV8TzO0IRwQgwNNWQ0V3S8DF9RGmLbRrwgF3LjQm/nDaudF/2i0WD4LKH4NGUcITYfhTM0nHENdXXto29IQk3wVKV964dO6K02nYZ/ksmzUAOUMWE16gmFlMxrxRMYnPdTZNbjv9mIEp+qDHvNM7PSWbCXFq0BjLVpAYCjqhiU3+KU/R1SmGo0lJ9JARUy9vHDPBIMCYv+PICfF0J8CYBvBPA8gDmAfwDg+40xQ5ymM3keY8xDAP9Hs50LdJXBMcl2CWuLUoWdcch77QC2GHkV5woj5E1IboYVlg3TrY9HEW7TEKzh4RYgKf3W6URMi+SodEjq+baMkaGIPQha8wbH0Z37BoeGRfrhsn7NhgNndPw4I+87Q8OF3lKT6M4whWp+Bj/3KBltdCIJrHu00qgYJRwnQrpZ1disEKQ4CylQrp12GyFb9MKNSTVOQ7JCrk8SYxBSiBpVqYkqQpvvofmk9Ub5NtzLjcasCbedrDQOdqRvQ8DlVIuE+SBG4jlWo2ifnsVAmcEoa8k9NJRGWW8pbRKuupVLCCk5n88A+Mx5DmqM+aYLj6hBJqQX7KNJeyrtQkNyigj8ObhwG+cJpbQZuAzTbSyU937GUmPdk9gBgFmufQ5lf2R8YzXKGAPiiVVgmMAQSx6ndlR1qgKzwngDNM1b72eUtUyanbHAqsnLjAvRyQNxnk5FvI6CyUsMhdOAuMEBzno3VN06LyS2TViKFpbKTPpaHZEL6BQ57UsgjZzQ/b/bT1cKspk1q03tWW+q0mdUr50XpLhQaIqsUNTgALE1tVYGm0WF8Y6dlpwqAnB2cqS1QM4A1ZWO5s1SmI5At/8NRYrB6ZOV+vPPSVOs7SIprlUC0DbOdJJi3DOd8JNEjc7j7N0TwpW00RZCvAM277MR9m74bgBfCeATAP62MebCwlAhGQuKEKWaguPcU0ywxdzMAJxtJufAMd0c4o3jEmp+LjG3bRoR0lFmi9OaRV1HLuS0but/Oj3lCSZS43ignTlgH5ChMGHU8CVUuJ/M644xchRaipjRKRtvijtHrEofwJVoznPEA471luJZ9XsK9REjBtD8ENuZNdaPSJ/9f78JntEGaqB9eKyzKxAPhxptUJ9zxnm40Li+29SbrVvNSNrziIbeljrH1Pe8EsE886keDRZ2uP5lHKONLka5VGNcVsh5lQM7PS1stwvilwB8TfP3DwP4YgA/B+BbAHw1gO89z8EkTNToDMmXawgfbqPVxyVGvpW0ayVwGaQUkcYwK4j3M7IaZ0CXQsyevxFddPI7nFhirE4BiPerL/VwbxHAEiR2pwKrZtKfjgXWTkR0LLFxPXUI3ZkyrFbLOqqGnGpwONTn9F5kkUFX3ZofoBt6Om/oLRUpLDGO6QbQECLJmxJPSNfatwkHGHr0I2Gz+b+in2cNH9mHLiY6+SRSFxRSSNDa5gHH47OhNyCtNUPsalCWbB93t+30O9QSwekUMgLqXe02htFm6wSZ0PITcoCuyvhIY8yq+fvfB/DVxhgN4B8IIT6SepA/9swfxr++9xIAK1Ve9YyDS/pzYbUUqmOs5ie1mylneAq0xIMxkdvZzxXmjQSO1Xe7nOFy+R4uXDA6pyw/JVi4MGGlBUYSwYJYFyaUwkrVcyybJFHIiEEotwrVwPVysi+c4dI6LBhKjeBoSqr3xxJ1yIhJgaFlolu1xwzoEGIr/364q+Mt1QYitzOW2iqIzBmZLpmBfjeuRihF5SHte8Q9nO2qwninODNWXevONWibzKU3pnPg8kmXaeuwNhmmQmFtMsBkwaWsRNvrqpDGs0/73UhdTyoOm8qwJCOHIQLCU93J1EEI8bcCL58A+J2GlBDCa0KIbzHG/AqAVwC8HcCrQogbFx5pg34RZB8pBofmemrknmyQQUEhg0KGmdgEm8lR0NBb6L2rRujmU7o1QJu6lQhxkjQAMK8E9pvQW6WFZxBSokbnmGZY0t0Ng5tj6Ti5+h8up+Um07rSqCsdTIT7Y/e0xvr7UIYWt6IOsaEoZC6g1TC92p37PEip+emG4eJGDwC4XofUmEhOYboavl4xgxNrJc7lqzrHMIb9DingPCQK6v2crjT2duzfD5ca12f27/trgZvTs6G3pcowy1Q0UnCviktWUWVxDjFlApfHCd0emWzVRqgX1ccTZ7sRTAC8H8A/af7/n8A2lvtzQohvNsb814HPfB+AnxJC/CCsofpdIcRLAA4B/MWUgWmj8NKD3wQw9nkczrDQAlL7/7M3Qm2yINONQkBDYVi5eQgpBofL9ewX1vtRRnTIBqHQW2zFk9IMaxRJnGoMh9WcvFHGJHgneXtzj7JW5HN3IrFoCAN7swynTdiMinzSwsWqMizNNiZsCXST5ZyMv0tqA2GPKC8y5EWGsnHnOnI7I+mJB0LYXrD97xAylBeBMYaN86QwwM4oM5D+P84A1VvV+Xw/53Qeg8MhJY+TIn7abbHdJSFQePUHsg+V5xlCTGu0MoI1PA8juVKga3BCumxAt1aHhtXcXBBricCF2867z6NGivF5D4BvcSQBIcT/Dlun8ydga4HOwBjzGoBvFkJ8KYD3Avh7AF4H8NtN+C0Zu3Lr2SNUCRZIU6iOIYMa1HeLhd1SDI5Ga3RC4Swg3i63pXuG95kl2ExaHBqCp6c356AN4fZy5ZWyd3PjVaxpH53dohu7XgZqEotcsArDDkabM8WBDrEcjkNQlVrpjgGSgclH5hK61ijGGYpx1km8U1yFFlsI/Ym07xXFREutmCc1JoGTaAMdyV4M5ZOSDE5vHxcC7BgQEmKr1jWKntyOE3DlQoMpXs6jgDLwTROBs2KjIf3DTLTF8JkA7q6l/zu0yJvHm8M2YbXwc/IkjMl5kWJ83gZgBuvBoPn7BWOMEkIMXiJjzCcBfPJyQ+ziURgcCYMKBSaNrI5GBtmE4sbYdCR2Toyt+aG06RRw0jQUQxLodMU11Fc9ZHSUaT+/PzL+b8rKW2uBqTQ+5MZ6lQnfg45PMT9PrE8PYL2fcus8IeENkNZpYaxY4SQQr6kZjSUUs9zNCNsupciS837Y4kviXRjwLbZTil2TEKNH9zytvgeXYnSi51Aag0U//tzxU50X1PvhQm/3FhrP7NrOw3dWbeiNylUBwFHVPgRcfvX+dvh7HoV7XXYwJFtFWyJwBaRStnqH3c+G979KpBifvw4bNvt/YJc+3wTgh4QQM1iVgzMQQjyEFRb9aQC/Yi75tIxE3W1ZEJgQpWiFJ2VTUNpHaXK20VNM3RpAp46Iq/+JGR3n9TijQ72f/UKTOhoE62iKLN7y93BsouGC/VyzfehTQI+fidZDoiSEG9PW+5nk7Wpuf0divtKQAjjYzXCyuHgTkRSDE0NRiM6kSmt+XIvn5h2sF/YLjWY5SlcLNM6gnQyP5PXN0hrMcQn59u/zFqX2vYugJ+ToU9rY0GFAjQBI9HJI/QifK7o4gYF6SFxIsx+GC4XetB5uWOnALRCpxiHX8uXOJn6G+Xa4Rm/I4KT233kSRaQxpBSZ/l0hhKNOCwD/vTHmzebt/4b52D0Avwvgf4TN/fxTAD9tjPnN1IFJkXVW46HwV4riAJW4OPP5hJof+tlcaC97TttqazNsujYRtdoUpPSYd9I5HPZy1TEayghvgCjZgBby0gK4WaaJvDu8vHtnnNIAES9nlPHkhJSHJEV1oL+Pm6zqSiMvpA+5FUV4EpsQo7NhQm80/KOHm1cOglWG5vI7ujuphwxTp15oIFdEP88xP5NkhRJ/k2DdktJWL88YqMr4/FO5rDFqmuBpYzqtHzjEwm3GxHsBDRV031+Ljvai6x68UcIboDubzD9nXFgt5uW48oSUJngpUYUUPG7vJ3UNJWENykMA7xFCfFNk/6Ux5keNMd8I4OsBvAHgfxNCfF4IwenBJSMm5FkjQw3p80M0T7QxhRcU3WDqXzdknwlWfp89sQIHbcRgWGqpMtbwuM8OfT4T7cZhf2T8Rm9y9/e1QmEvtxt93aEQ2m8XxUi2gouD+zBe28Fu5kUnx6TOgjLPqGGgk36fRKBrwxqnLJPIMhnM9QDAbJb5jUNeSL9xoOG58xINqMDmMKOt3dj3B4Q823Mxb1LRUs441sZvHNzvEe0Ae8U6/vRa0HM5Wr/WBuu18oaHeuMPlzpJqPOolF6ZIITjDfBgZTcOq632hqcPp5HYVybo/181hbsU1CjHbsnHk81Mo1r/CIA/C8twc1fFAPh/hz7m/jDGfAE2dPfXhRDvA/CfpgxMG4UCFSpY6tYIdacPRt8TcpO424eu3kP7hyANWeEGdh9SwHbY6GzQhQ5RlmnDqFneNoyiEjYj2bbR3Wd68zg4GigHrpnceTHL2zoFOj5HVMiEwf6obYG9P7KN4ADg+q7E/dPHEwsQkme6VZXxjdVoSGY0EigbZe3JNPMT1ngisTixbs5kt8CmCcMVsxzVcmBmchPeFRMVqDEJ0beNMTCkR855qc9A3MvRKi5zk8oA5Lyffg7tvDU/nfEyxjWUG+nDFYQD4dzs0aYnuSfPstJOB+SilDadcTwC0uQgYmSgR4mUnM+fBvA+Y0wC/8LjX4VeNMZ8GsBfO8dxkiZ8znugr3OeUsfgMNgTKyyNJSHsiBIrY7P8jrnmmC8un0Nd7T4z5qIBuFlhMIksDm+O9KBHuEfaOYSuKmXkcKG3qTSDyrtO/l0xK9mYQGoqiolEtXEKCRKqeaKp6gDQTqB1pZA3s4MqNWYHcT76HvGA5ouzhiUfyTTPhlvV919nans6uzCFpinjGGpnMHR8IM3g9M/VN0B9w9cpdiUl+5T63Ucs33VVLLf5SmO/ISHcPm3buwNtaQPtq0XDaqGamlXp6NEXN3yXiZAN1fk8LqQYn88DKEBaaMdgjEmq5bkK5FDeOAAti6s20ustLcwEe8KKcq/FDFOzBGBDby57MzZrbMUUMVTMRMy9TpEyD9+YaO8JheLHjnHjpsm+ztxeQmdX+ryG9o51TwSscR8xExclhu2PzxIPAGA8lliv7d/FSPpwSEd1YCxZ8csU0J48HK4RgxPqKTQeS2zIcWbXRlgeW3fOeT9CdlURRCZbqrExrZERgjdMEZy3iPXM55m6oCFyQggxAoKT60kRRuX2ieV6hBRRo9PJf+GsDI9TwO7I7awVZk3ub1tpbCMqJPPtMDPV1bpxPx0lFnAeyLYyne/q9uurvYdA24sM4jE5PynGZwXLdvtlEANkjPnzQx8SQvxJWK/pbbBhujcB/Lwx5p8PfOb7AXw/AIzGdjnhVAf6rWfpylwKg5W+eHGoPz90J/cTwpD+G2WPzTIT5PtzpoDW1BwWbWI/BKdOwLHVzmtwQtDotuylbEKnvAtYiRCvK0X2mWbwtUBUrbuPbUS2pRhJyEDhpx+Xl8rn3g9/081aeVLBqBDYaSYcqpk1HQlvgF64WeDBqT3JwbUCJ8ddhoGbyC7VHoEaotCEa/gcDef9pLRsOFM7FDFsUYNTDxucFGjVas5RuR36fTq070C4LRb6S/GSYvfncmugIouzVW8RQ72OTIpgjkdp4w1Livq0zfNEd2PxGKNtHinG5xeaLRlCiL8JW1z6U7DFpQDwRQD+vBDiPzDG/IXQ54wxPwbgxwBgtrtjthG1gb50eQi0NiekNCuhOzRraoCc91OhwEgo35tjImrPetvp5U8W+mJyeRNpBkNy+4UdI1eIupfH658KoTsU8VC4MhPGhw+pQXR4FFGzxTr+lBSMl+I8IZf0dyoHtDWAzNv6GirL71oIOOztDgdBr00Fq5UHEINzFXkc6iFRo0Rff6SnC3tCDikU6z6pgMsnGRjfQC6oRTcAIfkFBdCSVLgVfspvtd3qTv8f5wnNVwr7O1lDCrBqHUCvvXsTeusbnDPnSGgzHzM69juezwOm3s+TMDgUKVTrn7zAcb/NGPPe/otCiH8M4PcBBI1PCjiDkwuNupk0t0Z2JmnXg2OpC8ykXbGemikOhA23bcQMkyb05qCENTSO8NAHbd3Atdm+RgxCqC3Btbxm2XCOhDDLNGZZG8ajeRllhD9Hlzbd9WxiTLbYtOKM1GUNj5MJOtiRvjvpdCSxDoTYKDoki1sAACAASURBVLJcQtUao8ZwVMxqlK6EudX7ZDpscJ7ZFewK8sZehgenCnkmcOPGCA8f2nupE3rbKVCt7Otc6M0oHQ1n2Ul5aIfLExg4r6hPThhClMWWkE+KQUgxeC2KQLipH2KiXo57vVMLlJA3q2vDMtGA1uBwobcUg9NvL98POWpjoFX7Ov0OKaE3IHwtKJ44200I8TPGmO8UQnwUAfNqjPngwHE3QoivMcb8297rXw0goY7X1vl0Dkh66oTqUQCrKjuE2CTrDA4XeqOUbU4R4N35AyxMmys6atpwX8trb4BeHK18Q6mJVN4AOZVb58VIFf4++3ncDEQNzkBtkiNSWINGQgRoDVBfLiQUelNGBCV2KLaV8ayyENxKNsvC1yJ1QnPU6PWyxrRhT50uFPZ2M9zca9TFG0ebMpL2xgKn23Zlm8eqdweQVmSa8j6ZKIknFFNOcH/HxwlggDYfrbOKhQ/PnO+s9yMzCaPbsOp2VXeazI0jiwig6z2rgdDtELTmG9DRnCC99JR4ALRioH2vw7dH0HEtuxStuyHQHBJHcrhKSaIQhjwf5518+wWO+z2wdT17aMNub4dtw/3dqQcJEQf6GOqXAQAbLZExOZATM+t4P0UjNkpDb1Os8cAc+DE4Y0eLMp+VJ/1Dn8G7srt4KK+x7x80PeC3zB3QZaqFH+hxxOD0BRAlzhrkVoEhfI6UJnhDbX8BSy0dWgXGHoKikD5MlOcZVsuzobe8yKIP7GynNTzB95vbb0jRO4bOyp96P6SZ2tBnk5QNEib79B47Z5HcSpyqWDPG0ZMZVBt6oxCSV9nOEwgj1OBwoTfu/qK/SVUaL71TVcZ7VxsSkquVwdjlpXpeR0x9WpvEsNo5W6FwoDkkWkxa5I9fVseBNT7GmLeaf18970GNMR8C8LVCiOdgCQcCwOvGmNsXHSgF7SzaldWxk+lp42E41peTPQeAU11gT1bR1gtL7ETHcU0sBt9/Tr+MaxnfReKZrKk2y4B54yHRnj+zTCEnpIKttq9TI9jPOYWgMFzMGpODTwm3UbUDmityCt2b2noUxy7cFmgsZ4wZNDy0e+l2y6zeIivt0VhithM2OFQhYk2+z7WJLRAEgFsHGe6c2Cty/XoRDL3l07bmhypgUwy1lU7zThLo0Un7cMdPY9SdUcoOjEEkeItsi4uBYl4KGk51oVvqaUymWUestu8JxVpVpLDE6IIqZ9Y0qfN8KDTYPY65VOjtcdbzcEgpMv0OAD8C4FlYIyIAGGPM/sBnPmiM+b3G2FzY4NwuJ3huZJ/6YzWKdjM9VVmSECZneJyg6BCo3M7czLAvurmivfJz2ANgMtuGe6IeYNMYoOviGA/NNTxvXsPzAniA54Pn2JNtrCrURwgAduUwwYDTngPgjdsQMmF8bQ8XbtuoeDfToarwkuRuuBqUULvsPujDSad5KYR/SHVtMGlo1PN5hf19u4C5e6Lwvlv29WUlMGuYhNPMdAxQLN+u1LCaAGAnam6yD3UQPfN5pgi0E7bq55N6Xkeswd2jMDgpxxGyy7LrNI2rFHKnaE06rW6WNSazVul6tjs8fU0nWeceC4+Dv79o8SnX52m5VhgRA1l4r6g1QLVqk/s03FbktL+OYD31x6XW7Vq1PCbB9mRh0T/VKFSn4iUhxMuwwqI/bYz5xHkHVjdP2lwNh9UWKmcnQK7W5kSPcCDtKvXU7GAmzqahCtSomsuzNnnHqO3Js72A9urXAR0uhRqfftj//fzsS4L77Mt2DDS/RUENTlDrrjGqoTYPUhisEzTmNgF6OMWyjt/9ayVYwcOUpCvQPuyu5XEfs53Mt+Ge7eZYNkWgtPgU4D2h3Wn8e6SsdmN1R1ppyFxAbV131daIdEJqpA33UNuEcJM5IMp6itC0ozBdL+o8dUZOu82di2uJIIaohQ1ihBHAGp0hFIVAUWTYBsgDnBJ5VWkUjZEpy2EPHXB5leFZ/FGGu4a8nyEvRwoEw5+PAynG5845DQ8A/B6A7wLwnwH4BSHEEtYQ/SNjzCvnPJbHVkuMpcZJE1YLifdJ0a2vcXpjx3XeYZ/FlBOWZtIJ74WwJ1bW6ARQ3m25FsXureA+N/RbUKLNax03jV4novIG6Bm56Bgj97cLvTnWXc14My5UN4SUItKY0XHHcL9DkbWKu7MCuLuwb9Bmci7cBlhjE5vsx4WMPrBDVNqU5mHLqu34SnsVHU7aqvVxIbz2195+jtO5va+m+yOs5yVUqSELiZpx+c7d+O2cIbP2fYNBckIKMeARaK4NeRecIaKg9PjlaY3ZXrfPDwDs7WTdpL9TJS8kykpjMpaYjOHvt4uALjRk4DvVKm6UtOkanS4JofV+uIJQrS9HerHnudTHHxmG2G7f0fz5Ow1F+ufQLTL92YHjGmPMxwD8FQB/RQjxNbCabv9aCPGaMeYbUge4Uhl2MuWZYhMm9OYanQEDUjoJ53MyOkM41SO8kB0DAOb527Ffv9acYIz17d9qz5c1dO3FndYALT8DUEmfvbOkwV0skEfUFXZkydLOU3oJAV0vx10zmkOjRjykruCUCzgSwvryrZcAwCd1hzDbzT3xYDTtNoFz4anVaYWdPfub3HlQ4dYN+/cbc4Pn9oav2dFmWIMLsF1TuT4/Sf1oOMNKKl+N0p3Zo9VoI72AhmjaKcYkFj5MXLF3jA4xfLo2PpTWaY9APCRVaoyb38opkfexv5sPTqRODmfB8GupR80x2jrflZyMkhDWG9V6RZXBqHndJfmVNlBAMOEP9KjPXLH0I5AVihkd53g+cao1gD9F/l4B+FbyfwPbr4dDZ/wN5frfCiH+Emw/oGTcLyX2mQTacRV3wUstvPfzsM5xvfF+TvQEB02oa4vC53Ko1zETFZam8OEqjk1WHccdw6NX2tDb4YtfEdxnF8MEhpnYYCY2WGMMwPY58l1eSZ3TVChPO+/rtZ0S+nbo6lEjzmGoj1pKfxG6onMrU6C3CpTCr/Cq2vhYuntwMykwm2ZYJrTSvijur/nwocNyUXdaddM+P/kkR3lqQ7RUc64fYos2XNN8uwN/DABgPNikWpvEttXnQb92JoUWH5NAms5y7EdyPYczybLNJmPZ3n+FNRyANUTOALm6sj5o8zmtDauqAZyt1+kjhfpMPRwuH8QZHRd6c+fhLn1CpPPKMMR2+x4AEEJ8ozHm1+l7QohvjBz3bzDHNAB+NWlgQuJ+I08+r4SXlNlo6RuuAa2QJYU23UR4SOo/1pYBADYmZ/Mku/qe/5u7B+9+6iOd/+/cvAkAOHr1I94AVa/9EnZesI5gAWCdWw9pgjU2mGKKJaYCKBkyRE7OXjO+3YqpF3KY1zLafG5ojs9EG56iHhJtgrc3EXi4PMt0o5ARjS7/ADFP0mV0326ftt7PF06AnYboQMOHexOJ043G0dy+sF7ZLzeZ5dgQRWuV0OAureFaBNqA446kkBPc/9t9QvmkS4bdUnrwDAmiNchy4YuMj+c1ru07pWt7O1zfbTwmx24rhDdAu5PuRXJ6gmfGEdOx04CIXI+65kNvlO5MQT2h6UiiIvcxF5IbgiMOcLmeJ2lwKFJyPv8rgK9MeM3DGPMPLzOoEGgL2inTNZDWl4T2ycCH5BxKk3npHMAm+Z1kztZIXM9s5PENvBNva9JX2fV/B+rhSwCAfLKPNz78a+05i7OX+OS1NzA94CnYI20ZdIIJMY5B2HCMBBGnnECZa3OSx6Gtt/2xI3NoSq5oqP+JQ+yhL3LBrtxm08wrTu/M2pqfbCR9CIxOxMuTyita09DbfKVQMIWsAHD72J6DK4itEjywNJYY/7onK9CwGg3J9VbHPGsuQpKoI+oKCQiRB/qGj7LbnAHqKF0Dg8Wkh7OGjcmM9dq0Pc7xOvydu9fo7D79vAsVIXVkGK2tJI/LP5Wl8SzNWnWb4HFjLSKrP1uPM/D+OfJASofH4Z/DJ812E0J8PYBvAPCMEIKqVO8j0hlACHEA4L+DFRZ9pnn5LoCfB/DDxpjjlMEdbdqrMGNk3o627T50AbVWwhugo1LiZqP+fFQVOCzs5E1DbzWkz3XQtglAXC0AAO79/ocH3z96+R6qdUQYvF5gJHeDb416whCbpg5pKkqsm7FORIVTY0Nyu1mNhbI/r1NOAGweZ8hBiM2hKUWmKW0TxoXwzLc8E2fCFC7k4MJtVPBTijTWnCJPa6ifT7lVmK+GZ9k3Hio25DHdyXF0z/4uxTTzBiif5qidyyeEb7FNi0wp602rs+0HKGJhNTB5ic4xIsWq/bqeFEHSPlLYajFmVVbIwdCbq9FyhqePG73yPCfpdG0qvAF62/XM95IaF20bdyrvlOWtsnoIrs06t3CiOaQRkzaIRSGLTIDyhUKdRoeMTlWnyu08GQbC0N0yArALa6D2yDYH8Gcix/0ZAEcA/j1jzA1jzA0A39y89k9SB/cD73+f/3tJ2M1rJXC0tRu9P2h8flnZ3AR3/2QwyAbi6LZPjxwswDTzT/qNw/1PvoWjl22IbnF77l+//bHfAwDU5RrzV34ZqG2+JyvbsqhCrzHSS79dFBstsFQyqLLtsFZi0PAoI84Ynv59r4zdaLfSGSEMFg2jbajyXEqezRNprGnHUGq/Bd9XGvOHW5RNaIyqUzvV6jtHNV6+U+GNh41QKTEMo5HAYl75jR1HpaEGakxinUaN0nZje/B0Nw9qQJrP989D99dqoJspAsfvwequiSijzW3B94vMGp2iJRs4OOHYyTTrhJvunrQ3q9LAszsGz+4Md9Pdm4hOH54z44jYTncdFUNOUMr4jYLWGlGVbO4+HhfCG5XQZR0XorNPH0Uu/PY0Yyjn86tCiF8D8OXGmL92zuO+0xjzI73j3QbwI0KI7009yH/1G5/AFx22MxltPxvyhOYlMEkIJHJGRwrjE/gzWXnpHipDMxI1DmDldKprX4Pi2FKqb33gG3DnE//GjuP1I6iBeFO1tB5QXa7D49Mt8UDLsNJCFtEd2GqJQmhPMKAN4VxehhZRAl1xUqAbVuMWWDF6dKXTJOGH4uQULo5NC/QAYNsw0SjTjTaZKzf1YLX8/MT+Xhzrqd9CITjWSK6nX2Qaqu05E5q7QFgtSmBQGibBg+WMziBpwbeWCIuBdmqYpPBSOrSY1MGF3LjanmdnkS8A2z/K4SjAenMLnhBoXykK+h2qUnf76wQkeVK022KGb+wZdMxYEwwN55hqbZ6I9zM4VRtjlBDi+gWO+6oQ4r8F8JPGmDsAIIS4Bavr9lrKAbbNVX64an+0nUC1u3OlnfDjpm4N0LwU2B9ZttedbYZbYzs53K9GuFlYV2qhx9gRZ4tG+7iRhQ2Fw4PP/g7uf+oN9v31fWs5x3vj4PtGEcuqVhDjZwEAUq+8AZrU91BnVlgixxZrYf/eFWsvZjoWarAw13k3XPhsQ/JmrEGI2BJlrNFxmI2Fb6Tlwm3a8BXenHTIme+yGZ7sq60aVB1wq+o5M4kfHYXviywXfvVrtPHK1dk48waIyuoIiTb0JgOTuitq5DzxRxBWgzbs8amKNcAXsnKkhfbEwx4QYHXbhtomuJAbl+s53I2H9m5NVGfhNK/sZ1yt1igDXrgmcXtuL9rBbht6KwqBqjJsa22H7n3FeOoJpBHu3pYyTBigoTcpu2G30JBTyAVPKuyWQjh4SQjxC7DhMh/7idT5/FkAPwDgVxujYwDcge0L9J3nGeBqq32jr1VpvAF681hjZ8xftDIyyaZgJodXu5PNZ3H3s7/j///cB9+F27/3MgAgm+RQmxqLO/aSjZr40/HLR7j2rkMAwFsvfQwvfJVlvS3ufAK7tz4QPI/Uq+DrDgoZyoGf0hWIciFI6qRRD4dO/JSQ0CnqJfToImuPNcnPkg28iu8lCFQxavVmxdfauNV1vVVYbBWKRsJls6oxaRSTV0uFmljOLDBRbpZ1NGmvKj1IMEjRRHNgpXAiNT+6iYMG8yzOo3KG7zIEg1in0QGjpJVGEQhXbNfKG6DNWuHw0IY6jhbaG6A35gZv27fHneXDITfAkpCWXEiXhiIT9N04o1FulSceqBqeoedICFoD663GtJnTqAwPEDcm/X04xAiET8rgUKQYn+sAHgD4FvJarM7nvQB+yBjzl4UQO7CGyLHjLlyYsVhrVAOKyV66/JziRCsz8t7Prth0JnIXhitNjpFo6jfMFvnWOnDP/qFvxd2P/YvO8U5fPwWQ1oCLRU2UsvODM28bSCiG97GfVZirAiuVdfYYydYAZcJgGWgLTI2MMvHC3JE0KAfoMe4S8PWTcUvEVaW7BLFjuDlFa8p0cyv6lvkWPt960S40aEV9ZxzLYeqerhSb55GFhEqorg+Nr9tyIKEXUGJYjftRkhQYNK+cIKQ4Y/D6bRMy5hpTjBL2cU0WOUylQcWwY6kx6Xo/0veMynLhFyN0oUUXZuVWBxcpFEoZ6Euoo1Njwk0rfXJB34g6o8VFLtxP9rjMUkozue+5wHF/HICrpPybsB7TDwP44wB+AsB3MJ87g9Vas+7ramuwMxZYbY3/G+h6SEebNu775ibDC5OzobeRUJiIYS/nGfEAueHZavc+/QUAreHpg1uNUyzufAKzm+8GABi1gRw1Rqc+sQbIKOT1Earc0rRn5gRLYfc5ECucmB2sG1o4V9uzibQ7AOJhtRFpnd0H9XgmeUsU2RkJ32xrXAjfzZQTVIwJQgLWS+Fqe0JK0n1UpDg0Zya69WnlO2f2hTmNNlCVhpAg4ba2gZwsMlZihyJJzDMWBqp1UkjOjj2wE6UT0s+S/EYKAy5kePx7CXmJkJJBHzT8/uqpwIt7TV6vKSifNJtjeO7n2pcV3JwY3FnZ12/tS9yZc4oUkeud0LY6RD7w75HjU4JNpUyHbBAKm9F+U7FcT8xLekKybgDSVK2/CLau5xthPZ5fA/AXjDFhUTMLaYxxT90fMcY4r+fXhBC/mzKwcSaxaiaozdZqMwFt5e7aT+bhmzUltEO7kYZww9xFLcI5mnr8dmxe/WcAgJ2bzwGN8bn2xddw/DnLJJeZxJpkOXdu2LzMg08/wI33WQNy56Mfx60v/7LhgeqqK8lDQL2fNdPCu08sCB6nd73cTekaY7mQRij0Zo1R/BwpxAMu4e+wWSt2MUKNCVUUoNB1l/nlktz1VnkDtJ6XUSl/Z3iC7z0C1WfgrOiA76rdeBEurNZ/HcAZosKVtPomA+O8MY7hppXukA2KJsRGW53Txn9lpXHQtD1/uNS43qNaT5v7s7hE/5uUImXud3P1P6o2nVqgcqu8B0drgeraYGfandNSESvGBmxeSzG/+ZM0OBQpkd6fgM3VvADbm+cXm9eG8DEhhPOYPiKE+CMAIIR4L4A4bYjBZqux2WpieLqoVLtxeHPTTtZvlq1+2qLRdNvX93FT38YNcxcAOt5OLcbIlp/2G4f10cZvHLJRjmzE236jSmt09PDl2jcP/d/PZC0d+yCvPb16N28fmI77btqNAzU8fYxku3GolPEbh7o2fgths1Z+A7rx9iwT2C4rbJfVoMHQlfZbCKrSqLdq0GPStW4avIWNmtso6JhELjyFms3jmHYbel8nTJQcghTtc3y2/bsbbnPQynj6NUcDB6wX5bYQslw0CtT8bDnNW8NzEVzflf7+3Nsl0lM9EVpnVEJw9wRLwa613zi4EoQhkoI1Ovy1GGXtBpz1mjLZbhwy+fhaKqQYn2eMMT9hjKmb7e+hLRzl8H0A/pgQ4nMAPgDgN4QQnwfwt5v3otjUGlXVbqeLdlVLq8zXpfY3D+2vfrpp93kwnK8HAByIJfb1/eB7k9Un/cZh+dbCbxxoTcS9j9/1r9/56Mfb49z/vDU8ANSW1OJWR7CEb42ibqV9+ljpzG8hbOrh+ieHIgsnLSeZ8RsFVZSYFTYsoLRtQ+1ACSJS2upvqwR89m7fbjW2W+0Nzpnvsar9xiFmcAC+Hse9ZrQNmerAxJEV0k/irv8MAGSj7oUztfFbCDGDY7+MuZTAdErNj6lNsJgq1qfIIWZMgIZ80GwcslwEcyg+J5MJnG4M3CV/ddle70oLv6Ciaib7eftFb+0YWwIw8AyoWg+GzYDGix4gJ8SMyelC+WeALqhpATVdSIeIEJmw24hJj7nneIiAkGKUrgIphIP7Qoj/ArYlAmDbJDwY+oAx5gTAdzdttN/dnOd1R7tOBXVf+6Cr5FBRotIGKpLg28mUb6PdhzgmigXjtv21kAVM443Mbr4Hr//2PwcAPP9V78BbH7Kht/237WL+hjVC1ar2k9HpW0vsPd8tTsinjHRDA61az0syDGqu/09nn0jqwUWK3A1IKeulFjgcnX2KqHICgE6NUChtqTQGPSAAgzTXzTKex8kKibIhDwRpzbD5GTr5yVG31iTUb+e8SGk9HZ3T+9eBzcucDckFP8+N4xLfM/X4nqZNlKuplA4Ne9KmcctFjdlu7hcoXA6j00SQGUdswVUrM+id2O/iKPbw/1IKenstjaeN05qfcquirT0qZdLqdphdUohsT4O+W4rx+V4APwrgf4HN+fyb5rUojDGnAD4S3TERFVmqjMfhq8cpxD5YWemNTAB3thnetWO9i1frQ7yYHwEAlvIQOw9/2X9GNHeV2h4jIwZo/uZHB8e5PS1RDazIAaDYyVnDU5etQSzycGuFor6HTfECAOAGHuKBseVYt/I17tT2M4U0mDeMtlnRsttcviaWmuA09DrjICEPTustdh73u1JFa2eAhBS+HofmcTpCi7nE9nQ4PJnEPNR8tb8kE0bICwJsnY8jGOTTDLUbdyFb70sKSw6ANRhnDFDMYCTV/MRp2klg8kYpxoTmdDhYjyo+Pi7UlCLjtCb35Cw3XpT42R2Duw3x4GBHenWL3b0ci1P7Gzo2pdb2OnK/e6fPD+PR0X2ywKxb1zwrzx+jV/PWYabqOL26kN0Qe+hWe5wM7Kj9M8Z8wRjzHxpjnjHGPGuM+dPGmFcfx+CANtbaj7nSLoSUiktd1n7/FW6lsKfe8huH4y/8jt84bE9LbE/5glWZCyzvrVA0NSX3P9FK6Tz47Gegyg1UucH6qB1HtWpDgXpzF/Ync9tZLE0RldIpFW8QUvI4U2kwy7TfHGYkt7Q/bvNJVNLEKQyXze9UMbGPcqv9xsHlaLg8ja4NtNKDhscYY5lqzZOoSZzDMdmE7BocaojysWTzQP4cJOQVHujZUNejQmdcCaG0q/aC3LlTQ3kAcEpkjB6eKn+paAH65+dECaXMsNESG82rtS8rq3rNtV5wITcubKaN8RsHXWu/UZTkfl2c1j6KQ+cxl0Koasvkdbdwn7STlMcRwyQDKdrtcWJIWPR/GPicMcb8T1cwng68yN8F6RlD7WOvZcRIMDfY/c98CKpuPZid65ahZrSGkC5UU2P1wNKrb7z/Bh58ykYkd5/bweL2ylbAb2qMduOhsYtig51o11Xn9cRWi+saPpa+rARmrpWFEjiM1FRYj4q/5m5hUDIPfJlAj66JcZCZ8Il3WtsDKaB7dT4URls1AS43kSKoGfModG3ihaQGlzM4Hc/kYoniIVWDy4J6Px21ajJuKqvDhd4AvvCTwikZDL0fCz+XJZ/nkbn0tWQcFCWTKNIOvtTIXXi3NlDZwKKqOX8KO5RDbMp0BukSvJVLY+jXWgY2APhzAP7yFY/rUthWbd+MFSEn3F0Cu7nBbm7wmXWbe3ldvsf/nR18AA8++xIefPYl9vj3P/05HL3yKo5eCTuA1apGteKr4LNR5jcWWvmtWrSpMr1pvaWRPvXq1s/Ktr7o1sga1mUtkAkEi0mBNLYbRzDw30XEV1abuuuRzkh/laKw+llVqTuLDBpeENIW+tWV7ngdFI5CnSLEeVFIIfxGMSKTZFZIHxrMSOW+r31pcjJ+mFew3ExyKvTwtaL7tcdliArEyNJcl1PKvmhPoJSk/bJqtxCOSol5Jb1homIKN3bstV9sDMaF9ESm6Q753STvwVDEvqdSZ6M3Z95vyAchOEkqbbrPEl1MUnLCUCHpU0+1Nsb8z24D8GMApgC+B8A/giURXCkmZJKhN30o9CalYFfT9ljtxsEsP++3EB5+7i3c//TncP/Tn2OPsT3adHI9k2ttjVC5sMWKMpc4erlVLzj6bMtcO/7CazBKwSiF1cNwCFDmO9DZDDoLqyouVI6FyjsN9ygcy2eI6cMxZNY9oVF3E9PQmyMmVArYLVqiw+60e6tRJiOHmEK10QjSm0P7xV6njDcqEEppw1yLBuflcJ6ON3pXEFbrnIcw5qhdaZPkxuabAjpHlAl3npBYaBBDRj62AKi3yk/kW2JRTuftc/XWvRKrrcZqq3G0aH+rV+ft/fn6UuKo5NfWRxu7LTbh75pi+GJGSdca1bYthKayTS6crJTBkjB5aTphXepoRLaqjWeWXhRPyiANEg4aUdG/COA/B/CTAL7SGHP0OAYGDCu9uv7rXDIypWjrmgjTop95/9fj3qd+AwBw+sZ9VBv7EGzma0z2bTK/XpfIpyMs7jQK102u5/BdBx3jkgIRqRiTxRQyD6tbOyzNxPfv6WN/1FZ1EzmvDnmq0q1xXlZtK4R5Jb2ESSaGi/gc842rs0rqwRM1JE2BpfMuCukNh8ykze9o0yUnkPBcKmJhNaX0oNHThKodQmdM9EchYAU8L4BLdSSln2VmKVq71CEhNNpyxhioyvgwnKmNVzxQVZycAHQn5hDmK40jhogEtKrWXOiNLoRGY+kNhMxlx8D0VS7ca+77q1IPhm7dfaNy3vDFcJmQHAX9OR93GI69REKIvwHgtwGcwrZV+MHHaXg4SNkanj7KplJ4XIhOzQ91yRe1wLVC4Vqh8JnqZrvP/je0f9//PI5fvY3jV9sQF8XpGyc4fePEG54+6o3yG/s9RpnfQsinM5TrOWRhjV21bMcit9YrKuUeJlhh2RTI3spb5e1nxwrLSviNQyzPnQkzuDKqtPBbuR5aSQAAIABJREFUCDen1uhsK9PxfqaT9ntbr8KGHSi1vl8dnzSBXmaSjWRejTaoK+U9IDq+Ysdaa1XpzuuSFplmLTlhkKCQEqp6VBlirk5FtR4MG2KLzFT+u3LhvUj9ExD3fpcrhflK+9bYrx+dfe4frO3mQCMg+zsS6622Yp+MkrZOqPmJeeHuWnDvc4XWazKPzVfKP0trkk5wpAlluob1SeZzUjC03PhLsKoGfxXAm0KIebOdCiHmA597JNioNgeQZaLTd4P22KgqjTwTfuOwP+729uhjph9ief/zWN4Ph91Wd5ZY3Vni9I2wwSn2Rlg/3GD9cIPdW62XkpM7fXO89bmeY+IdHb/SMto2p3Pk04FGJcUhUByilHvBt4+rzG8cStVuHJZVW7czJ8bLsej6BqcTehsbLCr4jcOQqgFgH9gYoygVnN5YJ/RGwm117+8hY1BtalSbelBuZygsdyFcQJ7Hv86rvCadOiU0xxZfNuzDPgORXvtyVUMrA60MSjKbrhsKdLnVuHevxHLVtMRYdF2ZB0vTbkwnlMVa+41DWp4n7N1Sw00NJw3dVhvtQ3uU1bkmhdVVpbFtNnackbxtDCm536vAUDO5p6AMiWe6pTDgZhGC2WFW4r7ex4t4xe7/zm/D8pVfAgC88FVfgTc/9BGsevII1aryq9zqtIRKKTaIYLw3wmiXD6vlk6bGqDgMvn+q23qhF8Yl3tza/x+OjW8znol2VUTd61K11dG0sDQE9xnOy1kkiJbGBEO17k5ctLUxDXPQsFon9FZkni7N6bslIeJ9uJbZHI2bU1Wg38Gdh9vnUYTcqI1gCW2X8BZpC3CjCaON0O903f0uLiRF2XBGm2gtVl0plNvwtHRKCpCnjGzVw2Xc+EspPOsyH0nUjeFw9yENs7nv0vEMExTBUzCUCwVsPaNme3K1z7Q2tr5nCE+K9fZUGJhUFCPpN+oC9ye0nbHEzlh2wm1zIkg9ryUOM74e5/T2Gzi9/cYZw+OwnZd+46BK5bcQRrMC470RxnvWUJyQEN/i7lvNPofQqj2H2bQkhEl9D2vMsMYMt7KwkvaiFljXlj7NIUZhde2zuZvT1RT164oOJ+3fRdaG3mYktOEKhY02yJoW2wBYRttjAROHVJVGtVao1golaa1AcxWumZzaKmTjbrjNwTQyOTFnjjU8j6goI8X74dhtycYqQTcoFmLUtQ111oFE4mrZav6tCdHn7lH793Jr8HCh8XDRVcenaVatjZdz4kANz5nvkEDUSAm3btfKM+K2pEbRjauuDZZr5QvpV736Rq3bjf0eT8jLCSFF4eCJoxiqeAQwGcsowWB/PNz7Q5Z2Yj+9He5GWhJLlo/by1ZvFHKSv3D7Ta9PsH5oM5xuJZuNMmyOt9h/2y4A4Ohzxzj84lY5AQCm16x3M5qFvRzXyXQIMQ9kSOJmU7crpaON8KFKSjygrDcp2hXYbm78uZdVl+YewuADnRChSmFlWfXnpuYnILfjQieSJL9d3Um/LbZgkuJ1pMGdO8+l8Ii8oMuU80S7paJLtWYVrauWkGDQNrvTpYYcSZjaoKpr3/On3mrkTtV+WXUWJ1zHU5cDAsLko9OVji+8aj7Pk0Jg4VQh6kohL1oV76E2Es5gcuFpqujCSQ/RtflT0EPO46n2fEbjbLCh1GQsfauFEFyeJ5TreXU7wb7cYF9ucCSf86+/8JXf7v++9cF3oFqUqBal70QKAPW2XVlV6wrlovJ6YiE4wxPC9MZ+u10LGxwxvuk3DlNZ46TOcVLnvl040H53F3ILGZ5NZZLyQBsl/MZhqOYCaKihTPK2KIRfHXaS9oKGbMg+tC6I7G8T+8MGbGgVyilUd77HqvLbEEIq1v7rXDH1OhWD5AeGgk1JAtw+9PqprRrMe7kcD0c+cAKwXF4NANar2m8cTlcap6u2RMOBaq8BLeuSGgbHstT15VpUGI1oLtOYAXUFhgZO1Ro2VUvBppec/tSb+sl6QU+18QlhOsn8Ri++o/Fe25EYZe2k2wm9VRL7ufYbh9W9Y79xqNYVqjU/8dSbmp3g5m8sMLk2xuTaGA9/vy0gPXm99brWR29hNHsWo9mzMNuWkJDXrabrCCXmZoq5Ceu/Afb7s9TShBYUm7rdOKyV9bYWtejk2a5N7QO6qQzyrKWHUqZbMZJJNRWxsEVKWMOpEIe7hbYbXdV2iiaVRr2pzzSIo16AVgZqq9mupT4KdQnDI0S7nRe0DkgHchgAunI/Q+OM7GNM3IgbpVkvQlfKbxS0b9PyuMR2rfzmcHTUhqsfntQ4XSmcrlTQ23EhN05h4zwMxeF9wgui2tPyDaqt8gacjqeihaXEAK+357uPrLjv8DP/uPDUht0mJMQx28mi3PeDHYkJE3pLEcjcnrwS3Scrsk74rQ3VKGRFhmpdQ0jhV8Oj3cJ7RKpUmF6fnD1of6yHzw++r7JDbMXu4D7zWrLex1ANjgtPLKs2YVlpUvNTCuyP7LV8sJGYMHUKQNvBlNPOSqllSGG50Ye9U9vTiHm6kBs7ATbnMMrwYTViSELhJrVVabTjy6wwtYEIhFWoOGlQqDQ0lgQW3GXIDlw41Ens2ElaBeuCnJ6e/Q86IVDaejvWqbbaaM+G47AeCJfWkYQ/0JVu4mp+9Bmvt60FykbdXOBFEXuWlAErIeaaRT4JPNWez85U+m5/IezvSBw0Wx9U1YDmQB6U7ZV+tdrHgbmPA3Mf2bN/1L/+9q/7d/3fs+d3B+sM3HsVk9VPkdI5+KK3+Y2Dyg6hMhuWm+iW6X5TWMr2UufYy+tOu2D/HUbwIopDc0pVG7+FsK4RrRuab1vD04frXdKXEKE5vbxoa2Eoo5E+wM47ceoDfbikP8eeSqE+p4R53Hn6cMWT7vieGUWHmjq5JxAMLuoFJYN4OPSanacXkA/LXcJzjf0mqtSoNnbrw3kOm7XCalkHDU9eWHZb3ZN6ovcYl8fivk8Ij6LnEfV+aPH2inhCm6ptdx9aGz1p4sFTbXx+9Os/4P927JT9Hek3oBvP3FTGG5yhMNFhVvothNPbL2O72GC74DuRAmANEpczoHmh41fn2H/HNey/4xoefLatLaKK1iKb+FxPps7W9y6wgwV2sGTaZ6eEzGIGBwDLmNs0Rn1eCiyrllFI6dp7kzasRjXd+i0xYowhW3MxHMLhjAGQaHC2bZinO8l2cxeh87j8ky+c5M6TEs6KGJwhr+S8RujctUCdzw5L6XiDxWrIxQ1OtVbt80SeN+r5bE8r/yxS4c/lSaNM0uuE20cobHfesaZ6Lt2cGK3/aWWcqNdVld19UjAkt5PCdntcnISnNuxWao0f/JhtVX0QMDQUXLiNYijH43B6++XwZ1/cx/zVOYw2KKa593L6rra7mfJJ5tUN+nUdOzeGQ297t96DbHJjcJ+t3MMC4bqglFobpcPJTBp6O17pznXdGdm/F5XVbHN2lOvhw4XbzgNbNc7UyzQhDzfpuMmeht6EEJ7qfqa+xp+D7+HjoKthuRQuv+PPcd5LoU3U8IS+z7ma011BWM2/r9EIqJLz+jBU97PeaPf6AsWgSw01YGmdEdqswz/ckKFx6Ich2dqeiOEZqtni+v909om4CLH3gaakghnDpo7XRF4FnmrPB0AwpAYAs7HwG4eRNF7F2oWjAOBu1dLfVuIA+fY15NvXcPN93+xfv/WHvhgAUC0rVMvqUuGC0W7htxBuvOfd2Lv1Huzdes/ZN2urP1fnN2CExLZRNthD23DuRrbGcZ3juM5xa9I+VNeInZuNhW83zsG9z+2zKg1WpWFVC2IKwwAwHYe9H8pqzEdtN9G8oDI89l8ffuFCoQkhMxe243I1RiPagnvofSqlc6FwGz1WQliNtQcJnhYtxwkJkvb/5sJqTpLnwuOIeKeq0tCl7nhAfdRb1fF+NqTJYFUZ7+Fwz6tjYiompAs0xIHLCrBG4BRd+obFeT9SiqYFvX2dPrMuDKdNW/8DxGv6HjeeWs/HociEv7CZjHs5m9p2KRzCYVHhhgwXZgLA8p5llFXMLJqSjC12cr9q13XbCmD1YOO9n2q5xXNf8aUAgNM7n/XGR20eIJvcgBndsv+XYW9poQf0ghrEPJBYW2vAxpFXW4OdxtCvSuM9oVKFw3pFLnwob1yIjhbVReCMBLcqHjI0/WP0QesxaMV+Z5+mTmPIGAFIktB5VIl9ijNkg9hEM7ASdoiy8pzXzyxhk+qCaBdQkmdxnpBRGnWPkNAnIehKo6y019GjfYGAbnicG0eMYHBhpYwGtjTAFVWHa36MNm3PH9XmPKtS+7yoEIIVU+6MlxkuNUDcca40f0jw1BsfANgj3g13j1yLEMn2c43DYrgmY3v0Oew9+w5vfA7f/QyOPm9bHuw8u4P1fSsURUNv2SjrhHZi2LkxwcGLB+z72e67AABGhunTSybcRkGNwbWpwPHa3nCTQnhjpE245bgLvTlFAq5w7ZRI0XP95lMMWwyqR8XthNWkQO1CoIR5RPehYbVQYzkANi8xEAPwq3vGkCdptg14zt2Qjmj37zWKM8ay8twkzYUSL4uhBb0fJ/vZ7odDRZa60h0DL/LW8PuCU2UgOYoWWqMlOPIBeb1gagVjBofzrIH2XnoU1z/WvDDL5eWkelR3neFInVobb4CW1bD25VXgqTY+s0ayjHu2OYNTaoFRI/0/yQxGjUDmUVV4A3RbH+A5eYI9dQemeAbl3d8MHssMCAs60IrrUI5itFt0ilRD2H/hA5DTlu0m9NoboExvsMietd8HW2xg75J9ucFc24swkcYz+W5ODO5vzt6slQLqgVA318jKgTJpOEUJrm1CntlzK20wKtr+S+Ox9PIho3GGcmslRmQufPiEarcBZ5UHQogahFicPiGkEm2JQF8i+/SNxuAE5r0LJgR0mbnPGThNvkfg+G7e64+5YygpmLFG6ei1GTA37W+queOT3JxRVucPADaLCpMm5F1tVWeRGGRLDhgdgNfzOw9iElJeVDk/6wnVtcGoiTzUynhB5Uq1i8WqNp2QHSes+yTx1BqfEblymWwN0LM7ptOqOXQ/H470YHOkZ6TNo+ypO8H3N0fhPj8UlHKpSEjJ9f4omm6I7oEtl5U3QCevnuDgxQPcfP+7UG83uP6urwQA6PUbHQO0ycKKBxQnKtI+uxwuKIsZnKrXx94ZHUpOWKx10PvJpPDeldZhT8vBhQO4fj6xug4gISTmZurQOMhEbMCEpKSIngNImGQTEtQA713Y0KD9O7W2h8UV5wGi5ARjYCoiQ0P6/HSuo1KtV1Qpb1hUjwySBbLvulKoIy22661ivYuuxt3Fr5cxxLMjoXhnWFzIjRNNTiIWUE7JBcf5/3u2Wx+Hk+Ef/eZYD9IHbxaWVn1dLoPvj579Otx76f+053rXCzh6+U0AwM4zM6zu2c8UO7nvVJoVGVQzq2cj6VdL+TiDGdCi232bJQzcfP+7gu+X+TP8l2gQy/XMS4GRbJtn7YyE11lzIbUhanXdMzhcq4pYcziOVecQS4QW4wybht2QjzNvgEQuvAwLrdKnM3GHiZg6O3OhsYR4f3RSIqzI1OMMeheh3ySFHj3AvDov2GPFPKEhA4/u9RZMSJd6tlwzxr4yQh/9PCHN/QFdD2eIZRhD7HpTwxN676KolY04APZZLbxRbwtLXehtlD1+1ttTbXwOx+2PHDIsNxsNM+cJUWlwZez/b/TyPA/1zBug4+wF7B//q+g4Ym0TZCYhBlh300biefpMOF/z8OUP4+aXfQcAYKSOUWZWbDQzFZSwd0OJEUpj75iJqLAx9vXDrMSRsvHJTMC3UAjBGQvO8FDxQi4ZSQ1OKPTmju3mAynbCmxKHhkVApvt2dDbeJphOY/opdUmSjDQ9SXZSB1SAMJ5I4bl6G1gNLTX/UxwnxRywjkMmvs/azSY0BtFaKxJRi3CdPPHZ5QmqCeUkXNpQjao1qoTlXDkhHJRYbRb+PuGG2tKSC2FSBGDzCVrWJQynv1Jw21at89VXRvfVJOG3pQ2/toobaJUbmd4ngSeauPzfS++H3/n1U8B6BqWm+NhY3CjaLwTEb7ZD3TbvoB7HDYnwwWmQgrk45bR1kkaNxOUa5fgsL638gbozsc+h/d/2380eI6V2IPC8J1xpEZs4zjKdOO8FE4tlyYjN1vd6R7rbnQXenP0bI6c0FmYMj9dipxJzAMxSncnhj7B4BGEmIwxaUaF86IuMYSObEulIVzeIJBzugoiAjemKFjqlQkaV1rz0//NRUB9XNcGYJ51f6qBBQtlsqWodZ8X7ndzIbd+uA0A6lKzCt0UMaZbLIweO86yuvJIrMdTa3xqo/F/vfkJuMjlYaG5eavj3SimwdIzspWkWeAZ7GrLYhP7Xwoz/6T9O8tw8gWrMDB7ZhfLezb3U+yOUC1s4zirTRUeh8vzAPzK6vBdzwVfp1iJcJdSh1MzxkK157pWKG+ADscGry3sufcmwrPSpqOW7lzkwrfnlVIEw15KDYfMAHTqDC4CrmJ7PM18EaDMhG/c5vTagJaEcEbCpt824RE9SfHcReTzfmES3jfJu0jxpi77fRMKUbnWDCxz7wJjjHlCpjbQCQZHMPtwxcWUlef+HzvHkOSOuwZcwj+ld1XKM1ZW7bM4REJwoTeasy3VkykyfWqNj8Mh6cGTobtwvp63nGK3VyZaQoIyAs/mtiHcGmNMQTrKNVAPX8Lxa58cHIMzPCFkkV5DAB9uu/PJ38KtL/1a/w3Wua3rGWODLWyoLoOCQoaFsXmebRN6283qjgE6GdBb898jYfUWk/DQ2oBT66mUifZVGhfCK/FOJxnWjRLEZJp5+RNVG1bZwI9joBjxURb/BcNtjpjgc0qBD0qRxJSMTfZG8bkRv0/KefqfSQ2TnTM/dBn5mZQQo96qVgmBhNvc30ZpKIVgXVC1rDvipOw56uFxpBp47vg03EaJB1VlfGsHoDU63dBbG5Goa5NU88PhSRPgnnrj0wc1OBxuZkzjdgL18KXB9xd3TlEzvVro6pqulOgDbbTBqCHOV8sKRbO0OHr5tvd+rr/zvcj2AqoGBEszQc3wVrhwG0WMFOCgA5MsTcDWhLpJH4CyMh3Vgtjxh97nmG4OtoqeURSQXVmdvqF4ZIgRBy4ThiIwdBEQqvlRBkapoNJ1Kq6i2JU7PrsP4/F1Q4xqcHz+fh3oFeTAPTHnNY6d4zPeT1fd2vjCV2pM+sginpB9ji5+P3OXcVO3mox/UGRKcJBgcA7lcI4GAGb6qBXoPHgPqpPPAgCuvf1LcfzaJ/Hg918FAGxOrIeU7xTeAGWjrCMMyrnL+WT4ku7c2MX1d753cJ8VZp5Q0MdYKNwurVc0y7RvX31QGO/97I+B26f2Bt0ZC1+f45hugF1VcfmeFHAMOIpOUph5cMdjifXaThrTWY5106J6NM1RrmsYbZluVVM561pVA90w3FVjMNfDvH6mnsf9yRnEWEjNeTgJNT+PbAIZICFcqitqLEyZ2CmU9XI7r7cDrVa1D4/rXvVliGqtlb5UgWdKfU2RoE3JN5ZrF4IdQgITeqPhtk1lOooxDM/jyvDUGp9cyCSjcxAxOgc4QaF5T+jOx38LALC4fVY1GsBgh1KHlFWjrjV2b9kW2G/93ofx/Adtbc/m7m9j8uxXY5vdhDQKC2H3oYy2HBoPVbz8mGtl4MdgEO2RMxSyoi5+5+YmsWRK76TMm7NyO+djFZ0bj4Jc4LzbgBdl23PHvatHEQE0mjd8Q3Ov9yIeFVvtkkgRPuV2ofkko5UnW3RCb0QayejWG6EEBvf/wXEqPRhu9D18GKOUeh1D4TZVa+/9UGPSkYDSTvft8r/Xk+rlAzzFxmcIUYMjFpBsZsLi9LVfx8lrrwTfczI6AM/r13XbJEqVxud+6k3tvR9dKhQ9xhvF+OBFAMA2C7fH3pj4z5OS66HDHxcS28ZbyHOBum6JBSHDY0w43tzHFc9bLKj305HeaXTBLgrO8F0mPONxyWP0RT4F44Vfoe5lMpKa29U6nFtRtoGeP0aK58l4Gim/CWf63MTv7ycfAiUGgYTe+uE26v1cpm4HoCUMFz9OpVqPp6/T+Dhp10+9qrXDniz9xuFALHAgLENNE7taOZ20+Uehlq/j9LVft/u//Z1+n93nDjF/bY75a/NBEoGqlN9CSJmcJtf2veHpY2MKv1HsyO755rXEvJbYJd1EZ8TO2Zoaq24QIgHEWldnmfAbhyIXfgseY+ABmZJrPCUNA6ez9ncbz3LfeGtEmIQZo9V1ZXCexwUSzZ3FceQY0Z4xpt0e1Vj752ePyYyHPVbCOE2to2SJyxhQVen2mpKFSEXaKfgmeIHx+X97nz8vZC4HWW0pbLa+l8WFsenzTGnX2oRVsilGGTCSf6BwAGU0prJGHlB70pBedHBXrP3fBgKit3qZbF62x9vcC57n3sffjI6FdikNJRZVpVi6ZXVaotgbQUiB5b1T3PgSK59z+6O/jOe+/I8DAEarT+B09lUAgD2scGosO24i6o73s1LDk26scRyVugkhJbYtJYIFbTQ1wBkdGnobwlWHf1IgJIJhtW49Vzw3EaNHRxUPUvgLlQ7nFuiPEiAtPGqcq58Qd4w+TZsZt6nbOqeOIGmlWVUEOtChkK5nOF4msc8w2jrMtVoHVaxd6M0ZCu65TFGoHloAAnaR+gdFpufAnlgN3hg7ddMNtA5rtL3x28NMN6AlHTi4m4e619vTEvnE/nLVukYxtZezWlUodopOAWoIIt+NjmOlh++MtRKswXGyOkob5Fmrj0eFPfO8W+fjDBONN7v9hpBn8Rt9CCmrv8n+CP8fe28aZMuWXgetvXM4Y9WtunWn9/q9furXarUkdxMexBT8kAUEtjFDQAACIgCbIBwO/1AwWAYTjkCEsZB/iAAjO8AEBoOMZcsQYIMtkKNlhRpaQ7el16+H97rfdN99d6yqW1VnzmHvzY/M3PvLrNyZ+9QZqu5VrYgdN2+ePJl5Tp3ML7+117e+OBck8D5HkotBStQbWb4I9eYyz+RS0+Na93PhY7hIsKVqfIotjrFJ4UBTwKk2Y1wFbX+3TJXa9BBge0/NxqWAWKbeCtakSre5QtcF2YpdyXnatrG5GhTzsYHHIKRpTzONDWviMBW7NrwwwWfAFlaL9SIT6snn5Rf8oQ5AXvc2Pvm1vwEgo9gKgUHvoIf5cd4qoR/g9P4ITUhmSaOirfB488L6c/U77cKBLktwKjOqsM+FDkB9T+jsJ+AKo9wscRCYBm6DsDATzS60JjPPNrTxyoHH2rsskgdYoJz99EKuhQfUYqc/8DCbZtTIcC/EbNI8f8c93lyBbvNHy+EUcKgsmZ1XrlVvnnXb1O2rdAyXP9WqRabFzZ78bW3O1UB9BuJU/7PieS5tK0R7ARXmpDJrpEY7pBYPjsXcbFFs2tQ4zpxH4ylfCKXWElYVY7ngexm7HSoG4gxWFxKHcsW148oHn5ClCHLxAKXbCoqtp7JgwVX9XNDpR19uPcbZA3tjOQCIRibDsUHEEiKOdfZTeEkBwOJ4rmt+Hv/me3jld2W1PYff+gXc/sHfDwDYTR/g2H+z8RgLyTG3tK0GsglDYLU+OrYMp/ihd3Jlkb4PkQuA0nB0m4ugTX7qBRyiQRta3GRKjhcWVdo5VwSKGrqt+rpLSwQbVgo4RRDQN9maSXuiEoNU9cHEFSsKKS6a3VCKrRAhFPurs+RpOhfnVhZtsAQ+Ecva7KdKvQU1NT8iVfCKAFJ5mKp7EMyCUvPfkHP7n7mlKmTjuLLBh0Ghz+oDSldlxqA2RVt88o3W/R+9c6yX/a6HdGEawimpMH+eKeqKH0y6EDoAFU9N6SJFukgR9Otrcop9AkC4azkRr7k5XKI4FrJBAJH/RqkBA3Wxpg3kaJ3Peeqt8TTge3ZhAdBOublkYFTcQAXu/aGP2SRF0PEyp+u8NXI4DLQUvnC99gKeBaa4vheQC5ysdJrmcVrUWefmjeo2c5wfsX3rS3U1XQVrCDhO9Umb/AxoyPhK26CyTb6+6Lra8rtpM/msnkdTJtSGVGR9s4DzdT7DXOAzTYytzjwFeluOBlc2+FTRRWaTw5W5y0r4OgBJFsKbZUWjQf8OktkzAED/4DXMjj8BAJx+fIT5Ybafzk6IaHw+uE2fzRonvIuWCjbQvjOhg28TxUH6AY79NxErD30W4yxvFLfjCYxzuq0oLJWKYeiXC0tH592DGtFKmfHmC6Z4vy3wSFUfdKjTdS/kOlPzPYZFTr1Ru52w4yGxODVQ5ZvtRkepDXslSTtstT3WrMiRbithhZt5SfzQ4KvWOplfoeGq18O5LOoCWJcM3Jb9lJxHLOvTRcVup7Z9utvntAWEZd8rhHkIo8dOYqmzIikNQ1F1IbExFy5zqkXNz7b0Plc2+HCWz3OgXCAqmVcKQH5iVGy23/Mnv9GcCY0+mTRe1Ek+yW3bJpklpR9ZkQnRBnKjByMM7g6y8/m1d/HaP/x5AMDh2/8bbn8xa6egmK/bJtRBKlb6t4pVSgiKgFD9kUplbNmTtN67rUq3tWU5bVkWAHQ73LpdSNx/55asxgs9nfHwgFlFCHV0m7bn2fDTtiuca35gV4mVtqnbkVTWbqku5+ECp5ofixJP34g5W91dYck5PieQ7zuNBIKi1o/MMwkh4RWec7E06yV0YKFIEgWvRYkmJazbuAiALkvpBlzh4AOcDzwFQnHa+t7Hb/1a7fre7T7mhzOcfJjNFaW5VKyqvCkCDpDdyAAgnQv4+Y2vmgEV8zsU6SJtdLwtoFj9nyFSpD23JeBQW51CbAAAOx2GcWSot8Jih/bU8T1WqgWwqmccnppcaLW2oNMJGDqBp6nBfo9jllvvDIY+eUL0MDnL6LbeboB53v/H7/mlBmKi3ZyiFmsNPA0Zks2QdOlsyQb6XpdJ+xo0todwoKpK2eKqWCnTooIRsx96TVezF+qsrwRKAAAgAElEQVSWUOfWXVXD8TX406SxhGxhTESDoShtsR0lUs/RUueRWSRxc5Ctp3Qb9XfbBl6YIlOBAKGcIpRTSN41LxQFpADS+TFGD38Lo4e/hb1Pv67X77yStaM++tYxjr51rANPFdFZrIcNyTTVw4ZiLsgKqfDJV97R/z36+l/Xy/fkh7rIdJebu2fXM3fugdf+6Lbq9e57TI9VkIrmYtZMxMCsbtg7A08P67l2uB6roOQVVkM1KanKT9y0mNRWWFrZRytWlhxbClWpnF6o+u2KZaky49L8vxehyNoKZlcFPadSQLdltaWg735OxW/C+jnybGxVripZSKS58pM6uhcu80IoxJHU5rtJfH6bNgQe06MOXd/eA20TuLKZj1QCEhwdNWveMH6GZFZfQFrg2dcfYnpYn0XNj41Vj42fTSru1oXUOpmmCPKK/NnhQi8DJhPSHRRjidGDMXY/VV/bY8t+lkXb75BzlPpSnMt+Kv5RVdDJS9s2aXOvv/K51GDYNS8UPYiqoI23EjrPRkQInd3Q1AL5HtJ8DolSb9YupeuC6w3YQZzQhLon+2X82vRTvdPWzftYFVbqjajeNg0lAVjqgqhvHKXbpJA6+xGJ1A9D9O9AqbckEnq5DiYIXfwzu/z5hTLCA1s/tE3gygafVsTPGl9++vY7OLtv6LnB7Z4OQOEwwMn7ZwAyNVvxRy55MqWyZMMR1HQZTBdp68WdSbBtbQDaf1S2H0OTo3UhPKCqt36nXvUGlB2qXeZj6uAScNrUvX2SuZhaINMEb3dY/rkeP88y1OFeiMlpthx0PKTRFivlLKDuB3UB5FyMuwDdto5A2ajcswgSqu9f2S2hOL6tGHtdM+Clz0Mm6nPqTfsC1tBqSqm10GpKKghLvWKBLJNp/w0nsURQ45CQpgphTrdRF+uSo3Wa3SsuE1eedosYlSJLcHEGLs6A4IZeG/RvAwBOH3wb8XSCp29nlNaNN/ZK+xo/nOphQzxN9ahDMhettJqIhTXojB5ONB3x8a98U69//vbP6eU38AEScCTgGHrmOEFDhXYVHmsWIHic6bEKUtEceITMWmwTRkdD5lXWxbBhf8D1qEO352kZ9kVAefuS4smFVrNs04SVWmkXNFDDTuhry9JqrtlLm3fbUj50bceq+wy4APVWe57Zd2krUmaM6WFD2zZKokRB0nMV+bkKIZEmskSzFZCp8ahrajff5t3GOZq9GJm6pt0oQrWA30C9RWcfAwBGTz6qff30fnMBKYBSoLHdQBZnsRYeJHOhM6HCSqcISOFOQbfFCIdhvpyUWmzbIBlxBq35DXhMIWkhRpqCTjfIzEaBrHdHkf14nGnBgIu4oO1+0SY+aKoXKrDXM9vY4vwbr3bw9CR78cbNEGd5JkRFCEE/0NSb36un3i4VjnTbqlnOWmi1llNY2aGBfl7g4o3ynB8CbN+9ZXsq67ZKuQnFlhgars6qp/ib2DKhdbgrNAWkUZRlPyHPDIi9LUeDK535hMreOkFFRzrwVLH/5ms4fvcYx+8eY3jXZE7dfZNn+l0f0ThBNC7LpOkFn0zTPIupf7RP5kJnQnUo3mt7PwAw7ulhw9BL9RNJnfCAM4X9UOqgQ9PpnQ5rnWgE2jMh10zJFnjovCw1F6Xm4F0/O/fdTrmxFVXgvHnAMewyDLuWeoYWB2EnFE/krnMYtgzJWy5zWjdaJ8tt77NkGvbjOGY4m5auWyb+bcIDChFn3VKzoE/ee4GgXzix1yHLguwZpotQg2Y/VHhAa+HiROqgQyn2WU5Jh55xsb4sXNngU9T5AEDCskl6LrIsRkVHAIBw5xW9ze6978HhOx/pYcPiNNKjDvEkRToX+gm5Duk8Lc0HUYhI6hGPjVCBHu/swVj/0D/+lbfN+m/8Fb38GfaJ9fhAFnCKUQePm2HfR7NQ5yLUXHXb4v1N951+yHRPkTrsdoD9bjbqEAYcYWAPOuaCL69nlS9H01kOcw+bajW8FpWYLBecttJwWF/RZ2nfKwac0mdwod6ISmztwpEmNFwf0kIBlpfr1YeCvLeJbnNFcS3aansK1mRbkoMrT7v5efZTBJ4qzh6+37qPmUXpViCZpCVnZ5FIeEV3xESBBwzJTCCZCa1gSecp/MLHbZrq7UUsa2t+gHY+nXMO1fA8ELDsBxhb7nwhmROakp9Qqf6nyzCta6tN5rsDrzlYtMElWNmk1fqc679CAMCdAcOzadYQ6407AR6fZA8CBwchjo+zDzq42cH0eRbwqQKOtuEG3AoONw4Xt4Q2bONztClGim0a4GQY2oJWFV9xDFum71D/VBUb1CkIlYRu32BrLNf8OcyyLVNq6zzsiihR6HeycxovFHZy5mAUA3v5Q91cMPS87QXtK5v5ACbwVBFPn+lBcetzr5f+P348xfjxFL0D88hMA4OIBJLcMbmuaCuZpfmoz3JkKvWwweVJlnMOXkPMFtlPAFmq+Rl4gixL9LhCjyvsB+Y89jvl47VlQYHPGrOgNZQy6OMEflltR1nLkNcHnsL6I/CyYRMouHzfLpP2NrgKDzQVtWQtkO1cayHJuCgcJvBLGUzd99qS5awjm1MKTvsoZT+VrKM2Ayb7a6zNc0TBaFjPz0UwQr4vem+h2U8T9cY5A+fGu7EOaypPWglXOvi8cfuf18vC2weSMyA5Q2fnU3r9jde/r/Sesw/PcPbhmXWfi7MY8STRT8JVJKM0GxYPtzSSetgwP4l0UKIFq5R6o60bPvrlt/Ty5FsZ9cYgwSARWO4sXS71sKHrm1GHpk6kxY+y+gOt/ljbfsQuP/KuDwyDbNSh5yn0PGXtNy+V0sMGv+fpC9ojvAN9cj134hW0BrUNF1YCWC7gWOYu1nJ+awg4NrqptI1NlVei2OynucqDxrIozx2b9VLI2nOg/88Kf+vp4XXB5VqM5Sot9JY8ny0d58LgaqGHDaf3H+tRh9nhHIuzGIsa5wJeOL/OUgjiQi3m5hcgEwmxEHoUiEmfmWgUQySy0UG57aJnnpcNy52lw6QeNrzSTRHyLIO4EZjjFal1wDMlWRFwKP2l+37wZit2lx9x2+udgDUGxiLgUBqALh/0Mk8sIYF7e2YnN28ZxWA48CGFLPHu5yDdbkzWv92ScxvLSrZdustuHQ4BZRVsNHi3gGY/NuFBRr3lVJmkAWT5qLHpwBgnSs/10ILt8YJQ9HF7acYmcOWDjw1+OMDs6BPMjj7B7e//rF5/8PkDAMD0cAbuMz3f09kxj9W+7jgq8mFRq82lHjbIRGrTShtcLshS9vOusdt5nX2CLkvQZUmpxUSfmyB4K4jR9WRJCVdFyBUCF/FBg79bax1BS1CqBjzKchSJaNdvrjUQygwb0kQ2T9CqhoBhCSbnnJ2XodUuk9uwwLV2ZtkMZtVzuug+GilDvQ0NIKjdpgkFpbapNu+281uWeosci6wvI+BQXPng8/qdHzX/CW5ARKcQkd1YdPxwhOmhvS4onaeZWs0yj+MCJZQedD/pnGRCROlGVW9FnyAAjV1TuUr1sKHPRSkIVdH1JEKuSkKEAlpq6ZXvjVSOTYvSSk3iqJkibw9MTYVtPd+Mrm+RwToEnCiSelB0d7NMSKUKfsfTdylqpV9qd9zI1zfLip1cCVa9iS97xa4oG7Zh495truq2bcm4W1AUmZZqsyqKtk3D5QGxDdssMr3ywQcAmJyDSbtibfLsGcYPRxg/PH8zL2p5onFSCg5Bn9x8Ag4ZK0iLjxgA/bqMFdJp/Q1/Va6Wca6HDV2W6kEx5Nn/AyZxrxPrLGiftPPe7yodcOik/qBTvuG21QUV7bObfuRN80k08NlAzSHoaVDqLfCAWawwixVu75sPdONmFnDSSCCNBFRTi+0WLPPkX4XOfvLXrNvkN0/bE/VWqDeHm/hW5rS2CBfhQXXuprS+hVveRNvtJkQLKjwwy3PyQEapt9N5/iDGs8Zy2ww8wAsSfCi84RsAgGR+gt7+HUyeZYq3O180IoT9z9zA/DjC/DhCnyjd/EqrvnQq9Lgosovx4oHn9P5I/4g/+NLX9Prxe/+7Xr6rHqDHYvRYjAEzmVMRgEImEDKhpdhVFHNATQVlTcFCb9NSqBp4mTu1bR+FezWtuZ0mdLn9JjtNGEZRc+O8xVyUmvpRuGUXjgq1hqChMyTbRHpLFpVts6bJ8oa5i7rvQ62rBQLBOqc17LY6Sn+npTYORKm3aVeLjJa7eOBZhXpbBi51gJvGCxF8Xrv3h7IFMQPEDMn8pHa72fFcDxvMPM/FAw6QBa7ih0/njGirBRfqzQYv7KFN1tRlCUJW/zkCpvSwYRBkAoSgIm+mwaMTMC1vpj/UIggVvmz2LMkMGwruuYl/niasMTidTgSCgOvup4M9IzwIiPCgRLeRSTDuQH67NkOz0nIOAYfiMsUGy56ryz6W3VcpODaUM7jsw67Ku7jCjGbUSpXrf6pYxzwRZ0yP2tcd7+a2gDOK2VaLTF+I4AMgCzw1mB2N9LChf9DVcz2UbvMbesRsAi4Tll7YywNPPQIk2GNjdFkWzKgIYYcnWg130zfBbi8wAWq/o1oDQtdvnqcBstdttTZFhtNUSFoEvYBnDa0KLFLznknKMBfZoOdaSLLPctrgdGJxm8jNXW2u4i5QUrVnKE3b5EWjSip7bQ/ZphGr1vRcEKVMo+UU1xG0WuFI+9nl27I2q6TBJCVtVGzUmytWCTy2ewY1QhVC6cBTrvmpp94mROl2OldOD3+bwAsTfF771B/Ty92b34fF6BiL0THufvHzev2dL9zRy3uf2UE8ifWowyp020Vgq/k5uz/SnmTv/93/T6+fffyLAACmUtwQDxGgvjapUMMVAakOAVd61CH0mmuCgCzLoUGJFuZ63GRBpfl7so2UZs7JxhYIldUaxLL+ShjF2SgCTxXRXOhhg+1pt5r9aDPOulOpzONUt1Gp1MOKtlqZdd7BHYQHTZ5u68zoLroPLTAAaq13qhnSRZR7V0G8QFEOMuazZdTexZV3RSGqrSPqNvDCBB8AkPGZHjbMn0d61CGN5MrzPAWoBNuFequi6ccTdAYIOgMwi9otRKyHDbZCVCpCuNVTeuKfTokVQWgQZOakRZZTFQm4tERw2aZNzTZNsqBTh72hh9k0xWyaok96/pTk9V1fBxxKvVX93ZxuPqvU/Diqs2oDhOPVuq3CyosEnGoWVbePC2VaK8yttSFzGjA7KAkPih5Aa1C6tbZuaJlPagtGtBRiQu5dJ2QWYC5sVYbrx5X3dnPB7LC+P8/Op4YYP5wAyG44UWGzv+sjGa1upVHFOtQtfs9H0BnUvtYXzxBz06MoZpmYoosIC2RW1rt8gYXKbrqhJ3AqsrmPgyDFcZL9uXtcYdHg4VQEIVsaTueHbBmMyzYUsTCBLREZJVh1O+n6Zt1Ol+Hh8/a/4TYmmPXktsWjrXTjoyZ6y6DlY6wr0JR806Sqd3pY8VCuc2cX3qb6/RZzMcpkqDKROtNVUKQlgrmO01kCr4EKKLazBYx1zPMUGU4B2jROphLc5/A8BinNXE6aKvg5O5EkEp3cj3IeS/RqVEdhy5zspvBCZT6f/syf1Mu7r/4gpofPMD18hjtffE2vv/0DN/VydBbrtgeXCZr9UOqtEB5wn+Ps/kir8d770i/pbeJnvw6mpB42BEj1qEOHGw84GwaBQs9mxZOLEgZBOfuhhav73czEdBBWxAlkmYoc6hCLbNhstsYLpYcNLnM9tuyHihCaikbdPOQcntxd53pq9+/WWE4Pm9N120leMhVFBQu1KjaUMxzZkEK7KAxdYM8+mlsqNKF67GIfdd6RBU3vWZ4QXZrgtZU7bBovXOaTTI8aX58dzUs3+DpQi5xVIeYSXi/7lcSTFGFO+1DX6ybY2gB4nWHrewMYalGgf+71Lktwz09wIjMBw36Q4CQJ8mWJk4Rj4CsMfIVRriQbBEqryqpPRInla9sN69fr1zv2YEJha3s0JX9O2hp8t+9hlKsWPZ9jntOdnYGPKF+mzeS8gDfaH7VixSLSun3Ut9iuPrljI8WibeaWwIrKJ0sGchE4ZTm2/bdso6QCLA9lYpHq7Ie6VVPne9pMjm7T6r5dQZu6sQg0tnuG7+CkHSUKvbyu73QmsdfP9nW6yCy4rtVuS2J2dIbhKzuYHWUS65vfa1psD25nN950LrKbTx54eEP/mIti1TS7M+zq8dGv/KJen47eMduII/hqAV8tEJDC2y6MGvAmGzWKD/qeQN8TGFgcBXZDpYcNRdM3Wx/4W11Vep2yF3SOyRafhcwC1iJtrkWYzyXmTfZHQq5Uh2WbMzj3t66p+amtC2o93uVkGDbj0SYRQi224DjgknXKREIKpUfp/PJ/ZSINNUqyi2L7TZp8UtgyFCVR2xyRZkJCKHg+g+czpBXpt95eolGiDWQx+Vrt1oLPfuGn9fLg9h3Mjuzig0Lp1tQYbh2gE311djvcYyVBAs3Mps9m8AIOL+B4+taThqM062w9lSBAYlXE9ViKHkvR9+q/i91A6VF6H5kbutOTOihRyx6aHb3Sl7jVVefeq4+Tv98adFS7+GAyl3rUIU2k1VBUP61KVabYLNRbk/XOOiaym5VXaPuzL3/MDRSQAtgONZcfw9ZkrmS3Y0FTzQ8NnKsEHSpOcLJcqqHb2qi7IGB62OD7rDEb8nhzG5VN44Wj3QBgfvbM+triLKOibPLqJgudiyKdCmvNkK140SVL4r6ldWexD6TwVH2w6WOOGXoIkOIOH2Ossgxwz4u1CGHPTyFJkj1Ks88w8BWmeb3NQSgwFc3PKLc6wiqNLl4HgJGlCo5mNsLynJAIhUXen6TXYZjnDfEGfQ/TmUAcCXg+0xLroOcjyYO/3/NKDyCbtIdpdU5oOTZjzNyMKnTblcOy36NFwLDqMVyoTmU5bElZJ5QRIRAqLZ2l8Pvu1Num4NIens4BSam0lDoVCn5ui5U1lsv2dTZXuNHLtjlZZOrXbeGFy3yquP0DnwMATA+nGNwzKrG9z+zq5d7NULc7CHavdrw9fvcQ3b0BunsDPPrNL+n1cvaxXvbkBCwXFnik1USoMurNQwIPiVV8MOSpHjYchAIHoT1jPAgFbnWEDiwUAVe400lxp5Pijb4Jjruk2d0gUOj62aD0XnUCdJGYoFOHRSQRW6101kOd2LKf6vpGf7cWLCMesL7e8sSvG5RZ5r1c6n9csotGrImWo3Rond2OrvlpqAvS57NBXMg5oWKrU1BmotI0roDvMwQBRxBwyJrjtRmOXheZLoEv/GP/MwBg9vwYs+fHmFqk1oXSbRtqN1o3RKk32rSOUm+LEyMWmDydwe968Lt26Qn3zwsK9GvEAdtboRD10505DoIEB0FyrlsqANwJE3y6F+ugRK17Qq5wL0z0sGE3kHrY0HZvihKFRSSxqLGOp91li5bnQFnd5lssduiTq8tTrIvSbZ1TOPXzAuX5j3PiBRc1nQNWandgm6Nx2Z+LiKA4TuE2v8GanyZQWb9MDXUnHYxtz1NvzW4oQcAQhBxBg2Gj7zN7ixRS83NZuNppQANmz49r10e2SkQCHrKN0G8UzOExoo166+7tWYMOlV0zxJAso9ICOUfCM4qtixkEMnVbgAQzZOuHPMJEZkqAe/5U1wXZcNNPMLDcjF8JTBCNVH3wvBWYYHSU1B+Lfl2DwBiOdgOGRaIgZOYnN8mde/s9jlk+59Pr+5hOCqVbgGhaH/zcWh60brLazdxSC1Si2wAnus16k93407wqn7vld1x3HssqwJxot1Ra76L0HKznmUqwnNKSF6Teit8Nszw/upyHC2xzPEopMMYQNgipUqHQCYqaH4Vevu3pXGFPU2/MqS5vHXghMx8A+If+2b+tl+984XXEowjxKMKtz+/r9buvGRou6HvnOpFeNubHtLfPGEAmDX729kN097Ji0qPvftm8ITYyc6bsQdZTiR516CJCn8foc/s+bvAYN/2k5BFX4F6w0IOiQ0xOO0zinj/FPX+KG9xsRwPRZ/sxeh7Q86BFCnWw1YkKofSwoRAeXMiTy6sXHjDCvdtaItgcsFehedaphGui3pwowIbAt5Zsy0E4QO2LbO7WJUquomhbX1a4ynstCjXqqKCyYMd9hphk+4WPW0G52QJPmyEp4Cb0WTde2MwHAObP7Uo3IJNX1xVobQpUeBCPU4Q7ecfUeYpAd09NEfTLX3sxkRj0LRkIbxYeALC23qboot5yqMsSLFSAIYsw9CKdCXVZioXKzrXDJIbcvD/O1/tMIlXmZnzPMwavEc5/ngM+g/TrHRz0+fjlVgsUdZx2FZ1BgEVe2Bt0fSR5kREPOWR+wXKf6Rsw95m+2HnAWzvTbgUOtT11NUIXgkTrY2jxZF37mqOiq3i/1UWBLteIM9bzWck+VpjkoNmPFBK8qPNJJFhR5yOUXk+dE1w+R9XZoIqCbgss1dpNgaYO44XCTne7HNwLm/k0IZ2LWnl1N28ytmnKDXCj3QC7gqWzs6eH9Rgk+6EecB5Z31ETIkAwwaOPLBvpIUIPEYasPjDd5FM9bLjDT/Ww4YDPcMDPO5O/2snOdccX+Mww1fVAB8TYmza72+2b72tAHMq7Pc/RdaB9Un8VOLXStvYLcvvNrCW7cJRx0++r+t2sQySRnUt7RrjKZ7W5H5RECDV1Ptk2pHfObDVLLhcBTJvE2g/K8zzUuVpKwPeYVrXVQZDvcb6F+2ATXujg88P/1v+rlwevDBFPE8TTBDc/Z4pMh3ezOROZqGxsYa6nLvAUsl8pVMluZ/rU3JCPv3sKr+vD6/r44Eu/ptePH33V7CidQDFfD+t5QDZmQx4EepZMaJdN9bDhDo5wi53gFjsBhwn0tM7otnyEPXWKPXWKoTIZ0W0v2+8NvsANvsCOX0+FFi7bTU7b6wL3zZwLI7URzOO1LRFK1JvrE/Rlz/ACpYBTyvDk+dfrsKylz8XP8/wEfNsxzqnYtlDw2gbbg0JZ0UYoNhL4CtbG87IM18+zHNqxFDABx2/4HbZ1Hr6Mr+qFpt0AYHFmbxwHACIWkA1S3XUjGaVazp3MBIK+p5+wbJ5TTj5QvFkUoBzNpAJEkPmf3UeKNF8OkMAjQUTmzyV0mxAp+mrSuP9B+gSygSbcUVl2FPP6mdkhcV1w6Wxa1PkAQG/ga4ud7k499eZ1PIhcmt1EsbncODehmqrW+dQVhS5Nt7myiKvMXTh9XxbqrXQOK0qw1zSxb4NNeFCi3mJpLHZKpqW04ZxCk5FNsZ3Nu822nqIp+/E4g5AKk4Wp+dk29fZCZz42pAuB3deHELlZ2OCOuRl2D1qMyNYELftcYQaPcU+PyaNfN+tFOSMxgcfcPXhOw0n44MousvCR6mHDQI30qEMveYRB+gSD1O7Q0BFHOvAAwAGMWvG1YIobfoobforXuiYbu0sK3g4GppfQwa6loHfFHidOsD0iurbebtk+OwZaM5D281xxHxLt+7gCU2OAPdOy1fOsQr01nocL5duwjTYDtfx+k7yQ2vMZIiI8iMkDlMeZbndv6y4sZZl+uyy88MHn9/3Y3wcAJNMEw1eGSC1qtnUEA1fQY9TZ7QBlp+vJY0O9HX7TKNpoY7nKAZD96er/fIKFECzUGc5F0FUTPSgolddLHqGXPMrPyXweLnO37vgxOtH76IjsM4XieWlfLvRe4aQ9sCR+nYC1UgpNSSEPDK1GFW1Wd2u6zRqr8lwVZo03uAsEnAuJK9qOsaGg5PJQsW1vvLZ5HCWz77hu3oz+HUvUG+2omkjt79bkcNDWeRjIgk6bYGebrPALT7sBWeCpwzaVbhRNdjs2tMk1RTzPg07DPuBDWuaBuBJImcUFNIevYh1cFLheZpBQeaAL08Pmc1g8zI5nqU8Khcl+Ev9e7Ta07fckNZ/nlSHweJIbmt728Og0O7+9HR+n4yyw9wceZlMBzoH+jQDzPMiHfR/x7Dz11ohNPx1ypp+2bbY6dL2VblvxZ05viFbRQ9sxqq9bFHRO1FsDthlcGmt+el6+3tBqdHuZLv/ZKFzeG9r6kljAuQk+Umb/9zhDlCjd8t7WIXgTeOEznyr2PnMD6SJFukhx440dvb5/29x4r7rFTgGZSnz3F76cBR4AZ/dNzQ9Li5u4BFMpVP4cwYnqjUEiZR09bGiqCQKAQJwiTA+tgUfOH0LOH+rAcw7pWVajFB8BsfHlozTdZ/ER9vkc+3yO14OxXv9az3yeWx1hddEGTL2DLQty6XHS3toajRY7+lgbrvnJ9oO1ZBnK4obsNI8jVHsW1CRgcFEoLqnuaxQhFIsO1Nta4fA3txmKJuRBKU2kNgydE5YnKUoFKr+1KvVGrXY8S4DbcP9Fcy7bOcxm8c/8ybeRTGI9bJBSQW6J67TZ7STTVF9IC+puTVRvT986bMzaZHwCGZ/AdlULFuhhA0eqRx1CcYpAjBAUmUpN6baYfgwxNZ5zSpoAptIZ0tlTPWzoyhG6sn4uCQBu+wurhxwA9DsM/Q6z1jtQm5JwYB46fCKh8yx2O1Xq7ZK6HWicu/lesGHZyh5yLfvQry15E7POhVxAjn4VYG2rTdtwk21SMo9Dr3/O2qnlbLv69R5nelwlvBgpwApIa/y/LgNttFrbk930KMs6dl45aT0WtdjhSPXcD52vobSaYgwsv5EEclKqGaqCBps6xOPHetnaEC8h1kid8/TcrjrDbd8EztfDOR7E2ed5Yyhwf+Jhv6Owf5fhwzw23r7h4fAsC1A7uwEmOQ3XGwaYT85ndU5P9Zv66bhY7OTUm54ruGRnhIvURpUKUwkN11SwugpW2WdGn+UUm4vdzlwQ6k3WUm+roq1QtO3zFsGKA0jzZ7dC5QYY1RuAEvW2LbwUmQ8A/At/5l293NkNEU8SxJMEO6+am1t3zyjdiu6jm8QylAJQzn4Ov5ndoJNJjHf/5lf0+idv/z3z3tl9sOQULDmFF9crzXwVtdb8dKgkslgAACAASURBVMQZQjlCaMlAxPi9bFgCz+z5fT1K74uMWGH85BuIp0+yMTH0nBc9yP5NnuF29DZ2VeZacQfljrV3g1iP/U799+lS79A+qW+fQHZ1ty7GORuemmUrZMMNfx1qOJQzmDa7ncvEReg26/st1NtVgUikztQFyZCShZkbjBZSBx5qrhslqtXB+irhpcp8il4+NmQ1P9vLhGiL7cJWRwmFZJIiyNttR+MEnZ0yPVak3DYKcXb8gV4e3vtdtdv4qvm76Ap7BqWYDzn6Vs0LokS/TZ59Vy97YZaZJNEUQSezzxk/+7jRoQEAotHH6OzVT+QcMGOf9FjdrN2mT/ysbJ9osBtgOsqyn84wQJRnQoXwQEmAB/X1P8zjTlJbGlBs9+q2oNNEVZXEBkv2+TlnWtqCiwgBloUt+6maltah+j7bZ2v7DCsnX2QH9DsrZUul2h5isUOyJSVNvVDtYXhxuPpt2lRuVxUvVfCpQzxOdL1PFV6PQzS0YF4nmmTeZcll/fmMH5pMYPfVT9dukzz5JXQPfof+fxpmarJAzZGwnpZFK96rfb84+4ZeZhZ98ukDs43fqQ8a42fN1Nz02X0oWf836cQfA9zsdxa8BgB4hT/HY5kFoM/1FzhKsix2/wbwzlkWED9108PD59l+b98Kcfy83eF8JWqN3txs8xU+L72mKTaP6d8D48wYn1qUbqvAdR+reqfVFXjaqLdNnYdL0Cw9KNDgsCz1RgpOl4ZjcLeVCdgym1QAfv58SGXV1CrvqlBvL0By5o5/7Wc+AgAsTmME/QBxLrPtH5gi086NAGIu9dg0bEEnmRjhAa35mR0ax4bn759py6DDbxml2cPf+Pt6+cFXfh6L59/G4vm3refgzd4z9TgVpCdv6WHD8fu/qYcNT976Ok7vv4/T++9jcWrk1NE4Wz578BGefeurmD7LqLnZ0Sdmm9PvIhnf18OGPT7Xow49363ewQXWFtseA2PQQ2/jl7e5CliWMqs2XNuEEm0ToCpG63kQOrT2K9mW9ZHlOEVtj5Io9R9LCVNjKzKdVnws2+p5rkKBKfASZj6LU0v77C1a7JSOGyvwnBpKZim8hoZx+j0tcs/Z4RQnH77XvM3T30Lv4HtrX4uf/Wrp/zzIMiElBVhue6OUxOF3vqa38fzspyKiBbxOFswf/+Y34XftjhHH38kCyeBOveHo6f139PLNN/+B2m260pBpc0vG1iO/4jductx/nn1/BzdN9mOj3miL7cb6n5YshzFs5OZ1kT4/1veuCSsbmm5YeKDhkgWtGHRo9uNEvaXKuF5XPr8tC3dpn00DSt3Dj1T2oFPNflyc49eBly74UNDOoZ3dAFF+8+kehFgct1My6wI1M/Ustmcu3Q5npGPr0bcf49YPvAIAOHz3G7j9+S/g+P1vA+9/G/tvZEFnfvyeDkAqPsb00IgyinmZKp698xt6mdXk9ofvfgyv5WI4/PZj9A/q2108/cZ39PL+Z17Vy88/+LoOQMnZd+B1TBt0DD6bbS8f4YRn7/lC5ynui4Ns+UaKb5yVKcB1xAFKedjqe233Tu4xSJGbkVYoNkq96bklS5EpsDodtg4sew6lG+6mgwwBc7hRF6dS19ZBKfO6C/VmPUbbaWgOzObd1v45kkShk/uyxYlCmFNmiVC6vof+2Sjdpk9DFq+1Hm7teOmCzx/+2Uf4b/65WwCA3kG31LDtKoAaj8aTFEHeFiCeJghzD5nZ4QL921mUOnl/hJ1PZYHi7MEYN17fKe3v7JNMFcf9etrt+D1j0dO9cVC7zbNvk4Dj1Wdmh+/Wz+Okixh+N8TJ+8cAjuHnPYlmxzP0DzKl4fTZGaZPjfKtfztbf/Lho1IAOntoguPNN//Bc8fiYowub/57Bp498LjcQL2OB5lkkYZxIzwoggmQiRNKhYyFS0ERZPITYE2Fqi1YV8aytNiAzHtsA07uCg5oy2C2VR7k4u+rUmUVHnh5u4R4kSLMa9FELPX6NJEIO83siZSAbHKwvhrVJy9f8GmCzfdt22jzl1NSQbTUJy1OIx14qjj8jglEg9v1Aefx21+D3zEquyLLUULoAHTy4eMSBVg8KYpUwvM5zu5n2Y2NFjh+15xf16JoO/qumfu5+4XPnns9mTxFp3un9r1veMe4Lw7gM4XfubfAN8dZwH7zFscHR9l53z4IcZhnucO9EJOclqV2O5R6s4IzsIY/SfGErKzcCbn72dzNGcmQbLY6SyrdLgS6/7o/7RLCgWWEB8tmSBtXs1WwbIttVyshF5FEm3Q6K6Bv3o+QdkotSYnYYEuB+qUPPl7I9YR+50aA6Czn+gdeyYXgsiET+6Tt+OEUO58aIJmlOHr3RPcoGj8YYyfPhE4+elb6EQ/vZhLn6eGxDkCLs2NMnjZ7s40fHTe6QIwfZNY3tie80QNjjRP06n9en/zqI/RJt7gbn8n6Lz39xvs6AH38lb+NV774ewAA0dHb6Nz6IgBgkNzHNHgDXt43yGerzD84vLf1BsfASCZUkmkTpRsDSOZU3mZjli7kHAss2/qgFCjoaToGoE1g1aBjbeVAqDc9b0LWl9ByDsUzSI0xSL7egR60bBJHQmc/USQR5EEjTqT2e0tShcA/T7NRf7fLxksZfP7o3zzCn/uR3cZtLjPwUOPR6CzRbbWjUYLObpaNLE4jdPc6WiaeWLoozg9NYWr/bv08zulHpqjT750XCEyfnUG1/CJnTyttHEjNgkwlZoTeLDIh2j58cRphdtzce2n6eILJ7YbgKLLP6gX1PnTLskXhMEBcCA86XLth8MBQb5RuYz7TE8YMrOSJRlGS8i53ShtHKaNypeRcHKy3GIhqs4iC6rT8BtZRt+QqKrE7XJOsqEK30T4/RV+geC4Q5i4KaSzh59RbW3YoVSGjbj3VS8VLGXxsSGfiymQ7TfMPIn8qttUn0WLaYbfePXr8uFxy2d3NMo10HusANHlyouk2xrkOQJwzSKl0wLGp76ZEFm67uMePTdDywvN3qNnxHH6LAjCJpugIE2S7i/ew6GZCik/zp/hY3gUAfP9wgXcmGfX2udsc3z00qrfDo4xu6++GmI2WF5tot2LL66XsYsl90+ynVP9TR72t4YbSdvNypr4czqWReqOoUcA503Ar0Fm295ZscmR9/Q89vybVm+fgPt02V8R4iyFucd4NDxNtGU8iMuptWzN+L1WdD8WP/ZKximGcIc3NPTt7zR1BLxNKKB14AJwzHo0nMeJJjNmRuelPaBvud55jfjjD/HCGhSXLWIzmWJxMsDip70g6P55jfjw/l+no108WetgwO5rrQSHi7LNFoxgnH57pTGj00JzLs69n9UjpPMaDX/8Kkig7j8mTr1uPZ0ObcXRbgSnzOJjHrXU7zGe1TsQ8MMHU1v+HL2GHr+toNvAkW9zQnBy/m7DGc2uqT2prFqhU+zYlWBu7ub3dBptD9bL7SCKhP0up5icmy6SMJKW9gITSNT9Ngeey7Hhe6swnntoNMi8bhfVOVuwa66BIrXeAskgiGNT/ueYnzVY6ybj5SX9+kgUB29wD97nOcrjPdSZEJ8LjSWIkxGS9TKWh4WYp0gaxWhGc0vnFZfCJJbG9fSvLfoRQ6AxIi+1+gGRWpt4Yz1VvaSGJNhY73GNlh+INE2vbkFlfCafoVUQI0kGhR0v8G7Cur8LWYltJ1Nb5FNtn7umrmZOWnA2Wayu2Vby0mU8dkllqnTu5DNgcFkQk9LAhGsV6UBRzL/Ekwej+SAceGoDSnM5bnEU68ADlGgkv9LA4i/Swoe07VVI1blOYeIq4/rt48tbXwbkHzj3Mnn1Tr+8uTJHta/wYUjFIxfA7ds25vnlgPk+USAgHI0nbkyptzbAKrN1SqQlpKVuiKdVKh948qoKEHKXWAo6yb6dMjLgWtG7T9DoBPb3SeVt6/tDPk65wb9lU+/eUnLeNkjO1PgypcCsFWAc28nNmjHHG2L/NGPu/GGNvMca+xhj7OcbY793E8Wz447+eUVLpXJQv6PAKPOlVEJ0mSCOBNBKIJ6TdNgku40czJNMUyTTFgmQ7lN7KqDl7Y7hkHCMZx9aAsjiN9LDuIw8mTUGHZj/UNFGrgDgrneek5Oj9DH4v1KMWvAsJv7FV+DzNgk5UYybr0tem/IHI74d8HuZx4mJNA0s99fbSYw1u2xeB9c9Is53i5u4StNqwpoaAtqAjhdKtsynd5kK9VdWqUqnGuSDA3lhuk9gU7fbfA7gP4D8H8C8BGAH4FQB/ijH2RaXUf72h455Da/3GFUcaSXgtLZ/jcWKdtC8opSZEp1SpxjTd5AUeRM5jpYvU0FC0St+yXAUVG9i2sdUClcAtFhE5ZtLDnMTE77nl46OjbMX+zQDHz7Kg2un7iHSdj480f5MXcD3vRr+LbcMaFLdR53NZcLDeKSndiAyasdUEBqvApeanRL0Rix26XqZu4oT2mp8Xo6XCpk7x9yilfkIp9WWl1L8L4J9SSv0igD8I4I9t6JitkLHS46ojjWRjI7xkliIeJ9o8dXZoAsjseI5kniKZp6X5IBqIVCoRjyLEo8h60UbjemqPomlOIhwGetjQu9nRg+LkPSO5Hj95AC/owgu6iI4N9daPPwIAxAhxzxthJrMA/IN75YwsjpUelwUX4QHzuc7G6Pabbm+wMTRQb0tnnnXgxuS1aZtl4US9rXEuzkWc4EL7JsSXjQoP6ByQLQNKUgXfyxyxtzUFuKngkzDGPgsAjLHfDSAGAKVUhC2XPvxHb0dIFwLpwtTWXFVQt+1kRKm3LGikc4HJk7mmu6pBwYUOKxRzcUO78WgcI2oQKchUWp2MGWfo7Ibo7IbwQvN9B8R6nnGGwZ0+Bnf6pbmeKalZGr6yg97eLnp7DfVavIcY9bTcNDHDBhdH5mISmHFWdrem1Bu5Wm3U2zXWDFIQWuB8m3GLSpGddyXfNuicFs2uZaXFNmcMnLHSdUIpNrFigXLhAn8ZPYE2Rbv9OIBfYowtAAQA/lUAYIzdBvB/buiYLy3EQiC1pOPpwgQamxqOBiMrPTc3tBpVtHmhBxGLVmuipuymwPCeqUmqo7N2X99Fb7/eubqA390FLO7WbwYn+K155ubw+X2Jd0+y7+xTtwM8PMyi0M5eiNPjLBsMej6Sgm4jjtbc46WbwLJwK9x0ED9YDEldqbd1+aatCzaLGdd226tkgC4ff9mvqNwLaDnqTSbSKrdvaiwHuFFqTdu49ALaBjYSfJRSX2KMvQHgQCl1RNYfAvgTmzjmywhhueFHowS8cLCdA90b2dP//HiBXt67aHY019lGMkvQ28/WpwuhA1DclBbABC1bkWld0WgVQ+K6kMzrjze4O9BZ0vxkrgPQ6OEz7H7qDrp7+1iMjzC8/SYAQIy/A2/n+wAAe+kDPPQ+13oebUo3W+vs8jYN+6hY2htXhHIBqemQagJLybS0LfC1neMlt7w+h0u04SlbOtuzICfUuF6vE62WQQ21OIXXIufZ398rCqKlAi+KXSV0e3k6J0TbKQCZ8GBbzykbq/NR2VWgAw9j7CeVUv/xpo7XhD/13RQ/8erlP/ktC9oLKB4npSelMLBkOaS2KajpspjM09YbVLpIrdJnepHQpzoRixLNNrjdK20HAEEv0AFot+LOXUX/Vub31t3brz9Hb9j4fgCYtZizAuWAY8t+GCeZGmOa66GCBNd221a0ZEJNRaaufm0UF8qE6jzelkRdt9Nl3tvaBsGWXV3ArXvjrcSF1NRs6VpKpBYeSBJMqMWOENn64hxtgckpS7qkW+NGgg9j7M9VVwH4NxhjQwBQSv3YJo77MoKKI7iF2aKdD/2uJSgRCRjNfgoUwaaw9PFCrtdRGq7JnZd2jK1D71YPnbRZ0Ta8t4vOTr1lkNfZM5+BrL+Lx3iKrLfRvTDBd6bZMT57ALx/nJ33rX0fRyfZu7p9H/Nc5h30vNL3B7RPJm+68FMHPpkFiboW28B6shx3C5sVDmIrIHVwvd5mL6BGOAQ7J6dr4u9mA2PNwgLtSrFC1KDZD+3/k2xR3bmphPhfBHATwFcBfC3/N8mXv9bwvo3hJx5dMTriAqC+dLMnEcRCQiwk4pGhs6i6bfRgogUI8+fnrQVkqiBTZc1yXCbku3sdPerQ2euid6uH3i37XM7g9gDdG10M72XigmhshAeTp0/Q3bmF7s4tRGemp5A//6C0j7EMMZb2rqpRopDEslQbQdH6WZUywwZyM6CKtlIBqa2YtMr/b1hO3aY0O/d6tc0CHVcYNrXasu9thEPdUFvBLOMu2zAIEhzoMlW3UYq5pHpzeFjZpvBgU7TbDwD40wB+P4AfV0o9ZIz9J0qpv7yh4/22QZsxaiYOsKvdiszG1oPHqeFayEuWOXpuibhYB8Ow9hhFFlU0mrM9vQ1u1/fwoYhZvYt3gVGUBZ069IYB5pNE11ak0flW2owx47VH6LZybZNpldCEpuv+sjuVFtnFlZovsmQ/rtTbqlg35Vai0opMiGdZrV5PBAlFAznOMjuntmxpFQTe5ajdNvLcopQa5/U9Pw3gZxljf3xTx7oGkEYCIha1LthFJ1cRS0yemIyC1vzQC43SdlRQwDiD3/UaHag7OyHC3Q7C3fosKBgECAaBDjxV9G7e0MMGmc6AYB8I9tFPTCO6T3t6ehF3OwKjPAF8bd+c782bGW8phIIQylpAupYaFAcohdLTcjUT0jU/9EZIrqJ10lEbDzwNbQaAq6HGa62lkapWol212ylqdkTDQ2BjlpS/n6/wnXDO9KAosp/AZ/A4uxS6TZ/jJneulPoagH8cwBzAlzd5LBe8DNQbRWHJA0A3yQOMG3YyF0jmwkqrucALuR51CAcBOjshOjt2ysvrePBI61+RmiCppEL/1i76t3YhIkMZzk9NSwilBILBLQSDW9ZjjDHAWerjLK1P5uNEIU6UVfXmEnBs1FzJBNJCvZ0vJl3uGJcFK/VGccG7iL7ZbzjwtFFvrb5qa7DjaZzDIUHPVmgqU6W3ob9hUSkmLag7W5EpZ/YsJ/Cysa3HgI27Wueqtz+fj2tsGMmsEAxc3FaoSpdVpdZFduTnASWeJLrOJ50l8PuB3odn6Tcf7jSLEwCgu1vfArxA4h9gDDv1VijJY0K93dgLcHaavdDdCTDPC3X9jldLvXGfyKMt9kFtEu1WJZtLnLEc48rRZY5ovtmfX7U09eYoibaeh0Ogsb2X9gISixR+Pzi3XsZSXxsFxVbdJk0EAsv1UzrVlnPlDVnUZdBtBTZlLPr9jLG/kxuLfpYx9j8yxk4ZY7/OGPuBTRzztzO0K8LMBJzFKekF9GyOdJ4inacYPzR9eqq+b8WTFZVMU3ihZ1XTAdBGiLb5pKAb6GFD/+aBHhTx5Gl2jO5dQKVI/Oz1m6aMDN/TyVp4j1KOu31zQ767Xz7ndWUXTbVB+jXLMXjAtTGlVZxQWl9/k9hG4GnNCl0T6xWcrl2zozZNSCtaMhyro4Ljb8nFJmddDuppqrSijYoNklTpj0npNls7kk1hU7TbXwTwFwD8LIAvAfgFAPvIRAg/s6FjOuFlo95oWwZqyQNAzwPZOqICaL0JF8HIFpDaAo6IBPzQgx96EDGRe5OePTwI0N3bQ3dvD8nczEtFE0O9hTuvZoGnBmeyq8corT+PJJF6LIsSZUbnaKrzLzUuxyVLHo9sY/vOpdt8k22bTdN252irDavynBrcWT6rs0fbOlyuG+Dk3Wax26Eu1pSBoNQbVXA2FVMXTeOaan8Cb3tFppsKPjtKqb+llPqrABKl1M+pDH8LWRC6xoaQjFI9bCi87qqWOcUFWgSr2mK9vE6B+6xUiU/bI6SzpPXpLdzpo7M7RGfXXiza238V4U42qpizHT1sePOGwiySmEUSN2+Y7GewY5Y7pBDXJxSHjS6sYpW5ohJa7Pmzm6T5v+2GTL/vqzJvZIM1+2mpZbqyRqvk80hhghq1t6LXjEykmce5wENRgVUdrDsB02Ob2FTwoVfuf1F5zT4zvSW8bNmPDbMnZgL/7MFUBxxKvRV9e+JJgniSNGZJbXChC8KdPkJLESkA9PfvIOgO0dvPAk66MNmPjI4g/AMI/wADadbf42d6+Y1ehFHM9KiDlO0ZXxMKSq1procGJSuVZhEk6AZy+QTyVQsipezH9Q6yppqgTQSeagffNuPRJjNTlyZ462ixDdizGCGUfq3aVrtAIpQOOJR6W7IUaiVsSnDw5xljQ6XURCn1F4qVjLHvBfB3N3TMa9SAzgPVITqL7ZQZCUR22s1cZMksQdAvCw+AzHuqM8wEBsl0gWCQL88WCPpdPb8T9usdrHn3njkny+ewqdwomvrYA+eziZLwIOBaeFCy1aET/pxB1a0nUMoxI9lCzx76eS9DtOASSJyVcER4QGF3IzB2O9vIpGyfQyZCW+zU1gIho978gOuOv4U4IUkUgjxbKfzd2tCW3YQveksFpdR/q5Sa1Kx/L6//ucYlIp4miM5iRLkku6gFAjJKrujhQ+kCGoiodNtmTsp8fk5iXUVvb/ecsKBAOLinhw1naqAHxacH5rxvDjhSkTn27u2aANXfyQIj4wzdYaBvDkGDoMIKp3mcixea2lppV29oddnclcmaKsHU5m4NQH9GWzO5dWGVSX1qeEGLjKm/n0qVzoJK1NsFampaFZUN8D2mhw0eywLPNrGxOh/G2I8wxn6GMfZ/MMb+V8bYT+WZT9N7/ghj7KuMsa8mSXsHzlXw24V6K+Z+klGK0/cnOljQttUAMDuc62GDTKUeNjCfl2imKjq7fWufnng2Qmf3FXR2X4GIx+RDGIrNE2eY8T3M+B72mHm+uReYAHqaeJgkQEM38excrf1e2qkT21zPOSqlaCVeo2grikx1oWWT3c4Fsamn+qWpt5Zt9Pe94VJ0GrwknWcpzT/R89rs+awKW2+fJFG6yJSWGlDHD48D3YChu+W5ngKbklr/FIB/E8CvIvN0+wDA+wB+njH2L9vep5T6i0qpH1JK/VAQtPeHuYYbbOKD2fFCD+t7HRrURWNzl49HZp4pzhvShf0QSkp0dvv59iZoxJMxejfu6GE9D/9AjzqcihCniYfTxP74JhqemjsDX/PwQc/sg0rLaUAotTsuTfK3+KblGdKmi0xdnuq30u/HYa5n2WNbvxsH1dtVQamBHNE4i5K6jQQWklGtUjQeeKwx4HT97blcb2rO5w8qpb4IAIyxnwPwy0qpH2eM/Q0AvwLg5zd03Gu0gIoQAGD4Wmb4OT+J0NvPbHGis7h04wpziooWky5OY3R2G1wN8hw+7Ndv09272X6yYbu/G4fCc5Gd971OgidRdn6vDhQeTRkWKbDb5ziZZBf4ztDDOF/uDXws5msobpCqlRaRwk7LlZ60K/1/2prJ0bmlK6ECqza6uyxHa8sc0KZAi0OpuzVtGkd9EDW2cI6cQ9voVFE4Wl+EbV4Vm0pyJWOsuLu8ilz9ppQ6wfbcG1rx24V6c8XiLNajDukis+ppevJqKlLt7Az1WJw+1+ujqaHVmBfC696G170NpCO9PhBmWYFhpAYYqXp3g0nKMEmzwFMHl3qHNqjKPM+5mh9Av6bnBKrWOzVFpueOs2GPuVV87M5Rb5wsbwBOxZeWuTebQu1SqbclA081+yky5Jj0raLUGy0ynZNrdhZlH67IgC4j8ACbCz4/CeA3GWP/DzJPtz8NoGij/daGjnmNC2BxEutRh3iSlGqCopHZrrQ8TvRNYfHczBvNT+YIBl0Egy5mz0+t5xEM7yIY1heRAkDk3Wys6xkLD2PhYZIud0H3ByZQ9nYCfXMLSUvystmqp29edfMy+kZuyXKkUHrYsC1j041jDfJq+h0sTUU6br/pwlwa4ErCAxIQpJCa9i3VAl1AnOB5TDegq6KQV9toNyFfcNpNKfXXGGO/COBNAO8ppU7z9YcA/vVNHPMaF0M6FfDzG/D8OELvIKOwRp9M0d3LKLPFSYTuftmpukl0ALgVaXZ27EahAKCCm4h5vfx6h80wVn2cyRAeMxfo3a7A00V27DsD4Fle0rQ/9DT1Nuh7mBIJelsG5Gp+2TjP0wLGQNpqky6qS1JvVwZN1fwWpVsd9XaZWPYrtVFvm0ZTJtghD0j0ZziNFAad3NFaAnvtVotrx6YEByGAE6XUV5VSp7ny7T9gjP2BTRxvFVxTbwbpVCCZpqVW3BQiEhCRsAaewobHRrsBQBrH6OzeQGf3BhZnT/X6ZGY82sA4VJCxtqE0dFtHZRnVWPV14KlDIsywoU3R1kTx2EQIVXdrneFYnK6B1YpdrwKWbdC2dVioNKvdTstD1TqwrHebTXhQOF0DZdVbHAlNK08b5jQHgRmXgU2F5t8AsAcAjLEfB/BnAPQA/Pu5Eu4aVwjpVNQ2qSvMSZN5ivEj4opAuqXOny80XTA7NnTbgizH4znCYR/h0O5sEPT2wcNs1GHOBpizAcaqfh/TlOthw/7Qg8ezPiY7lG7LJ4E9j2GwG+gLukS95U3yWumwtpofus2q2FBvn23C+hBAsjqKc4F6w75sq0BVrHQKUCsqRVVvdFksHwRdgtqgw/SwoWEKcq3YmL1OLi4AgB8F8E8opf4zAH8AwD+9oWNeGNfZj8HiONb/Lo5jJPOGhlgtaHOwDvs3EPT2EfTqA07Md8/RbgNmZOE3eIyp8DAVHvYCEzz3O+bvaelrVz6P0M6RA8YKxRZ0nOx2yLxCyWKHtAMoZ0gWS54reZNd7vpxcrTmlxdQdfZzgYcEl662VTiZp66A6VzouZ7xwpwfrQ8PucLQz8a2sKngM2KMfSFfPgJQMIr+Bo95jTWhCEBVuBSZ8tDTY3posqXJ42MAQNDrIZ5OEPazbqXR6LHZf5RRb8rfRZO/zFQFetggVLNPVSdgCMNsVFFM2HpeublXITMHsjmtIuCUXK9p0GDQN7CmoHHVpmsuFRaRghNVRbMgut0S1Jt2MXoGtgAAIABJREFUorgkKtSW/VSpNy1OINciVb1FkYTvMz3qkFFuCoPgcj7rpgLBHwXwVxhj/xOAZwC+yhj7S8iUbz+5oWNeYwOYPlpAJhIykZgdmayDOiHMjhb6xjB9Oq3bDbyOj6DXq32N+309ssBzHnMV6mFDLM2gKLKf0ANu7XDtb7XbN9TbcMeH53N4PtfWOwDQHS5HiCvVrpxqs9lxaXOhYaHeVn2S3nhrhiUdrZctLC3BMVtc9SGgMCMtBzVZWi6CBu2lJR0drV0CcFvAAdrnebaVHWzK2+3rAH43gL8K4GvIevv83wD+SaXU/7KJY66Ka+ptObSp3YCs14/X8eF1zosqvc5ADxtCeYqI9RCxXolu22FmzinkCgvJsZAcu+QJbjfMlj3W7Fvl4nu1jIt1FQVlVtyQ9CYWEULJAZsGExcinq9G4bgEHLpNW3vqjcJlrsdhLsjWEK5En60SgPPW2Ks6WDcegtSt0aLpiGZCiXGxPiGGJtMk+34GvkLAFbrei0+7QSkllFJ/Ryn1Xymlflop9dcKyfU1XlzYaLfpsywT4h7H/GiunbInT4xH2+jhE/hhB37YwfTZfb0+nj7Ryyx6AsH7etRhoQLMpYe5bJZz2+7XLv1LaPbT2zXLhWs3kFNvedApUW/Eu63JxXpt2cWK9TTLBJwrgxXOZSs055IiCGmx1ZEWWx0hlOkFZKkF8jyGTsBLcmuKrp+NwRbneSg2JbW+kRuJvsMYO87Ht/N1e5s45jU2h/lhjDSSSCOJyVPz2DR5XKbYuKWuwQsDPazwd8ywYKECLFrmeeiFRLnsQWAuNipC2B+aALYz9JzcD9qyoCbvNic1HIEt++Eer6dhHBVwWwsoLSIMvbwK9XZFUJpPIg9oNIsqF5yu3zyZMdZYZAqY66AOQr3gLRUA/HUAJwB+r1LqQCl1AOBH8nVX1tftmnpbDk03YBd+2vO7eojpA73eTw71cogFEgRIEGCXm8C3y7MLVyiGgSet4oLiQmuyEAk8pseFUQkqVirNolyjF3yTK/imabWL7FMvF38ESQbQGIAujBVVf9aGcJug3hqwSmM52mJbpKZId0bKJoo6H98DZpHU1wGl3kYJR48rPbaFTQWf71FK/VmllOZTlFJPlFJ/FsCnN3TMa2wBMpGlJ3/aFXVMMqHJI+NcPfrEeLedPXwEHgTgQYDJ4Qf1B+E9pKyDlNXrpBNwJOAQqv4GFHIzbLAFpT3SYntnz4gbKPVWqN6UVFlBbYPdzmWjlDltQ6ZtCzTVgLQEzmU/DZ+jqQPpNtH0XVtrfizqNhv11gYtPrCw04W0epvyaopNXS33GWN/gjGmzboYY3cZY/8hgAcN77vGFUUySvVFM340a9n6PBjnetS+7vcAng8LYuUhsfxkd32pxQV00rRHlmlF9z6xE7m1Y/YZ+M3OB1JISCE3QgGVsp9SVuSgbqtQb2vxh9vUPYnSag7UWxva2l6vDS1/8+L4+m9RzaK2UBDr+Qxeg9qt55txtDDbTAVx6tjYH76MTQWfHwVwAOCXGWMnjLHnAP4egJsA/pUNHXMtuKbe3LAKhXP6sXn+mJ89zgIPADk367tpVhckEKCLBWKVPb5RpdvQS3U9T5PYqu0JL/SyoBM0yFOFUNaqc8/BbodxZmpIeEM2sor7wQrZhYYiA3AKQE5Fo2vGOgLO0tRby/nUr29vTLgsaPZTUG+MMwhyrlNKvS2kdrA+ntV/noArPbaFTQWf7wPwk0qp7wfwKQA/g6yZHACsoYHKNS4DYi71OPvQUGyjB4ZiO3sw1kFp/IlRup19fKyXvcCDF/bghfVZjuQhJA8hUC8ukIrpYcPAl3rUoecpvDpQWoJ9e2j2dWvPWOkMbwT6ou6S/kXBwCdytoYLdl1WOhaUHgKWbLF9fmctr61Yn7Q0aoQHjDNno9arBmqlo6SZF6VO16W6INrtoebBhzMGzuzzqi5lBNsOOBSbCj5/CUBxd/ovAewA+CkAMwD/w4aOuTZcZz/Lo7W9tseyoBPUE9Dc64B7HUheX0SawtNjwA1PvuOZZ5mBJxEyhZAp0KN0PXNedzuiRMXZ0NaJtOkGuOyNuESxWQUJ9bTaVuZxlrwc6I3S/j2S3bdkTjp7uCRrIRfhgd05wXxQ5lKH1SLUKcQJ3LKPonU2r7z/bGbOY5qY+c6T2IQASr1tA5s6GldKFeH8h5RS/55S6stKqf8UWZuFa7wEEInUwwbmMX1DPfnIqNhO72eJsOeHiM4+0ev5wiz35HMIeBDwcIPVOycAppDUhoEn9bjI+23BhHal5AEndjsm9JXl0TSAnD9gWxK1FlqtCS73dsdAtPJ8U167tApd5fJWF+ptVbSq2Zh9LohmSPT7TGnr7VhqeXVCKLmiYy/Q3j4bAEK23YfuTQWfbzDG/nC+/BZj7IcAgDH2fQDWL26/xqVg8omx2Dn7uEy9FRjdH6GKQnjg+TarHE7GxdD3hDXg7OZUXMAVXumb1+/tmAvz9n6ANFVIU4UhUb3R1uEyXZ1q0oHNsgubcKBJbNC6Te2BsDmBQXGIhmCkpKrNCmqVbvn82ZVHfq40cyoyIcbzz5N/XtrGxNXRmvtMDxvaSgh6ntJswbaxqeDz7wD4YcbY+wB+EMBXGGMfAPjv8teuPK6pt+XRdCM2dT+WnxzzzLBgh80hwSDB0OPmYu3z7AkvYBJ9T6CfU3FUtVNQb11PoutJK88tpNLDBpmqC3WYBMrtsylK99y8aVxxQzbrlzuWc+axyk/dFjQLOyGZCTWKc7mIom3Z/jerYNWaHxfzU1sW5CJO4D7XwwZqjHtGsp/nk/wa8DPqraCfR6QNSSKz62sb2JS325lS6g8B+J0A/giAfwTAP6qU+mGl1HUb7d8GsGU/Jx8908vPP3xXZ0GLk/f0eh491MsDeQIJDtnwU+VMIWD1d7IOk3p0LbSbi2KuNwx00KHZT9FYrupuXaXetukosDTltey9pqqIs222wmddl0qs6e0uark2VZ2L6o410Gq2wEq/O5marLBO6QZkasxCZp3U0OC6fbal2JozpQd7waXWAACl1Fgp9ZZS6mtKqaft77jGiwZKvY0+mTo9pTLP08MGBQ7V8vMsLpYqOlzqQV/vkAC1T/r/lKi3XXPMm3sBRKqs3ln6XFeYg3ERzNnmeoobs75RNTRgu7LWNBZFV6m7aCUbuQqFpLZzOH+u+d8oLWdReh6HfGaqegPa3Q8KpVvTtRaGdg/Dy5BXU1y9kuwrhGvqbX1wok7I1ebFJvvZkZlMW4Fhl5lg12EmgNCA0wSuw5qNdgNSkQ0bLjKRXu75YxEhENgUcPQcivYNF4ZjBuO0n7ZNGhRt26TVXNDo1r3CnJNLNufyXRQS6yqKfj6+n4kTil5Vp6Tm53iqroTSDbgOPtdYM6jwYPRwoi+ksw/P9PqTD42L9cnH74ExD4x5iE7eRxWK8WxYuCEPSg8bAib1sEHIbFRx+1ZGsQmh0N0J9I0z3KFO15YiU4usvBEOdUFrK+Tc1L1+XUHNtnvHws+2jNLpa9xCYFRS1fb5oRl1JqvPtqkq3QAzz2NzNiiUbk1qt0L1ua1HgOvgc42VQak3VzRZ7RRQKzZBCSARQJaynEKcAGTUW1Gs+urAbPPKjey4USIRJbJUOV46v3VY2DTAtNi2F5CuRem2DjgEHFv2Uyq+VPVZh35viz2NE43ZAuZgg9NE+5VVeYRuq7ZNcOAPXWp+bA7WLkWmIVd6LOR2M8/r4NOCa+rNDatQJ8/vv6uXafbjR8ZuZ0c918uUevNJNuNB6YATNEipCsWcDYs0Czx1cBEOeJ367KdKvRlFG3lzEXC0BHsNMm7buW7jp+2UXTjuy/LbWiXgVN9j9WUjx9/kfJOLwIJVFHNJRBrILUzNz4I0kzsaE7ud2AQdSr1tG9fB5xprwfhjYzY6+qTsdF0EJap6e/7+o7Ud22dSjzrUiRKqiCVwq6ewyOd87+0ZKm3/ZqAdHGhb7ZAs+z2vtZjQWfm8UqM0k401Pghc8jNVpgBD8x2o8hrtkbOODCc7j/bXGcNKZqA24UA1EyoCTzpPS+v1sjB/07TycFQo3byGmp/W1iIvSZHpS4Xr7Gc5cI811iKsg0P3IUtDH5tcQFQNRwPTMK8RiiXDji9gc6mPY6XHKlj2Jmlrpd1Iq+VquHUaWK4N1eyiOMcaix39Wv5ZN0ZptjFenFlfdzklWzO5qt3OKnCp+bF17T3JHa17HrAQXAeebXZDvw4+11gbuMes6i0gq8imQefkw8d6+fn9d6GUgFICi+ff0eur1BtDVocwYKQbFoEPaZVgA0CiOBLFEVv47UWi9LChsNGpSqy9jkeWzaXlhaTmh7TYLgcZ6+FefLC2uYucsrV8CZtQw9UFEL1/PddGtm/wLVwWF20eB2SWVtqQlNBtMaHYkkTpXj7ThVl/ODHLPT8LPJeJ6+BzjbWhzuma+xyTpzNtATJ+cN5uZ1X4TJzLgKqQiiFR9T/3g1BgmjBME4ZXiMXOnX3DUfR3Ah1wKPUW9Btag1uwrhbbFIzQLU5ig20EO9ZwnMK7zXZ+NkfnZb+bC5i7rh1SlSk2smzsdso2PFXqzcn9oMZQlKLf4bqXTx3aPA7Xjevg44hr6s0dxnOq/udlc951wVBlXVE9COyyKfy81scnNT9FECrqeYrWC7QuaMcTmAquhw1CKKvaDVhtfgaAY4vtduptG1japYFmDlVarbIeIKq+1Wz9VgriVdiyH2fqzaX9Q4uarSlL4tyMOvgeQ7/D0c8z8SMiTD2JsuMGXGEhr+t8rvGCwutxeD1uNTkcPZxqfnr8kPT5uW9qfs4+MW21bdQbUxJeQ0sonwn4TFiLSCPF9bBhHis96iCERNDz9I3TJ7O4LtTbVWy37QJ6kywFDdfswkarravhmi3gLNkGwba9S3a0KcNTWWqxLXWhaUJotTin4TyPIY6VllifTMrXS+CRcUnuBsB18LnGmjH6hKjeHoydnHc55+BNNT9KguWjDlp4wOqDUgKuR69S51Og6ytMEmCSAHeIxc7ergksYc+DcHQc3hZKFNuWqbdVbHu4x/UogXy9NCg5tTuofs41ta1um29qUt6VPNos1JskRaOUeqNO19l5NGdBjDFrzU+hdGtSuxX+htsKR9fBZwlcU29ucFHhcN/Twwoyq++R7KcvTwEAPhLswmRRdM4nZKmu5+lYgtIo9TBNGaap/cYyjySSWJb6pJRO8YJFpqWanxWot6sCl1oiKSSYz8B8Zv3OmOeQBa0aTFi92q36GYptbIHPGnBUc0BaJ5oa1M3mUivdnk/N7/eEaHVOYg6PKXhMIWnoDLwJXMGf8TVeRPgdTw8K2mI7Ex4U1JsRHpw9yDxnGecYPfpIr6dO1wDAVayHb2kL1ebdBmRBZ5Tag954oTCPJObR+YBD3a39EsVmW66n3q4MlrzfXGRi3s1sltV62OnXfe6WxdDXHei26nm2Oig0ZXprmmuyZT+0aWOaCJ0FUdXbYi5a54GAsrPBZeE6+FxjLYhOTTCYPDazmk79Rzq+1WpHiYUeNoSI9aDoM/P/ABKR5Igkx55vLujdILv4ThYMHssCDwDc3DGBYrjjI02kHpcFp5ofB+ptK3Y7jAwbeHPQ0UGr4bezDrjIuK0Uoy3gWHoBuVBvF4FTwPHMsGEhuRbobBrXwWdJXFNvbmgNOF0fXicbVYwefQQlJZSUWJx+bF6Y39eLXXGCQM0RqDl6ymRRXUR62YfxbrNhlDBdcFdFFEk9VoGL8MCFelsFzMF+3zULsu2jdHO2TOarVLkFHJsCzEKZlbDkXE8TrVa7faFiu6JtKhZzYqWzkLqb6fHUnG+hdAOAacohFIO4pt2u8aIiOk3gdTm8Lsf0kPT5yak3v+thdjyHl896jh+ZoDF+cuh0DCanetQhQAQfAn6DIm4mPIwShlFy/mKbLKQeO0MTKHoDEyQ7A1/P9bhQb5cJOh9gFSHQDOUC95/WgMHdWwnUvmYJOBcRx12FXkA2uAgPaJEpzcKjefn3XhSZ2hDy7df1VHEdfC6A6+zHHV7Hg9fx4Hfrb8YuwgOZLvSwIUCEIM96ejCBaY9n6jsJhj4XmInsOLdC0liuqzCOsnGjb78kirmei7bQvijOCQ8aGssBKNfKXOQKd6DMnOZxLK/LPJPUQdEWdFrmgdaFi2SXVal5bQ1UlXrLszEbDdd2jq7ft22bwGcIeRZ4qliI7D3XardrvPDwQs/69F8EpOrr0yPjXD1+8jHSeI40nmP23NBtYvqJ2c/sPfhiAl9M0E2Pzx2nsOKxOVgXrgbTmgyoQKF0s6ndmrBszY+NegPa2zcUjeWuRMfSPHDVtlAonA1s6cea5NE2FKfReKN27Ja68vfd1rbBIeAIoTTFTS12pqSB3GgmEeRZEC0yHcXZuiID2qavG3AdfK6xRnT2AoiF1DfX6TPzSz/7eAIv8OAFHsYPjDx68nQ5u500GkHFJ1DxiXUbX0XWPvQurgZBbke/iCT6AxMoQmKG5QVc33w8EkC2Tbc5Sb0bDElbb3DrjAG2r3yFgLMMhabpO9txNhz4KErZTykTIo3iSFZko95s4JxZO55mr2fjmnZ7AXFNvZXR2av3OPNCrocN3Pf1qIOIF0ijEdLofKBSUe6QICboRvfhq4x6K2x4AOCAT7Sh6Ksdo4C71TV/w4M+wyxSmEX2v2tmtSM3Wmhqy35KxZiX2TRuSdhaUotYmBvokpLoZdAqUFhTwGlzS2Cs2Zx0XeapbbZVHisr4s5I1t8mzlk3roPPNdaOoOfpYcPs6TSj5kIP00PTYnt+agLM7OgpRJzN88xPjAN2PMmWRXQKEZ0CwtQSLYtpYkYdkkS1+rsBsGY/L5LdjjUTovcjl3tTw1flNHfhomhrQdP7aafRVeBaSLoJgUNKanuqdT4FprNsmfPMYqd4ljk2JiTZ67kLvEvfq3Xiavzqr/HCIzpNEAx9BEMfMaEI5sdGJHD2YPz/t/em0bZcV3noN6vZe5/2dmpsWZ1lWQq2cQPEJsHGJsb0fRPgQR4JSXiGGEYIjGBeCLFpEvAjMfAwMExCSEIA0z0CIQPbBMtgY9mWbUlWY9mWdCVdXTX3nnvuOWf3VbXm+7Gq1lpVu1bV2mc3p7n1jbHGqVN7VdWq2rtq1pzrm9+s94J8T9GsyxANdhENdqXRKdveSES1YZDods2qvuFOr+txtUIPUVpWobNiht60d1ZMqJ039vPmbw8pGX32RRPDvkNw89Buq3rIZ7utM1rTGL79jqUOHAstGWQQV5ISpevi+qLcThXq8n6aJNMjjib0JsNtWbMh83BsGf5+4JfrfBmIR0NEA+0VDXef0Z/1zgFJH0j68IaakLApdJ9r/T0lKHr9SvlN3BsxRpFsZZjHhL6NOFAkHqiPjQelS+jt0ID1w948V/OBKyJR6oHkQlg1D/rs83kYnLp9mP1tY1HLhXDjImoSFVFncC7uJUpQ9OLAzPPRyx1fLGPKC0BjfBosCDaDs2PU+ek91YWfUqz7F7VhGfdSerQQGFzeRjyS3tNwJ89oS0Zd1WzglPNmwzAm9EaMnmWuJ4kFklhYjU4uz8cSevNCX8nUWcNtNUbtIJhs+yIhuNC0HbygKqMzjW6a7Zq5hPYo8BY+j+biFdq8n3iUKFJBYrAxi6G3LMk0tLALJP16+V5QY3wazARTVoc8QmstQGstQDLWN4AZequq8wNI8UmRCAhL2C0e9lSbFjcGcm5pmHi4qiUwTN/4zAJym2mezzgSCI3Swy1jviZs+061bcqqnU7AIVPeegxX4kFdXtAyMGudnvQ6sWXuzSkM5pGThlzWJj6b0nuxKVqbYbWcxE7MpX0mxuFgsFz62HJ+loXG+MyIJvQGtDZDtDbtYbdwLagsq5DN8QjLDRcNBqpPNNCzpYOdZ9Xy8PKjYBZgFqCBluQ5IXS9oDECDCso1lHCiBLG2JL455RkWiMuycw5j8czPSSf1LZmOfJ8ue35GI39KHG77dhYFLoCp60yqRhVaJrNqyhcXT5NhcHJseFyIVDLb9k21CXEsmwGZ8eo57M3ZFXNtCixAwAhsTVNYd5ojE+DfaFurqe10YLf9hGmsjTjrvaQdtI8HxaMncc0cWCwZYTeun1lcGzkA04SMMtmAyPAOG1FDGLdIssbdcZ0SxJG2NG3SxCaRsNTXo5nrA9Sb4kTAa+ijMAyMW0JiKlDbw7P2ErPwcXgWPoUT6uMyq2STKsMDubDuAPgkEhq35QToWr4mAbbvJeiUaL62FhvrRap0go2hB4jbNhuRw9XovdjhtvGu3K5vRHCCzy0Nlql25gK17ZQkohj1WzgJAEndoND5IERgFODc5Xh/dzc3sOYCWMm3LShb+irDabbiXVfGZyOhS4umGvDaizs4ROOhWpWWB6yTurWXn2fucKBDWeX20n27+FMuQ0RrAbH80m1WWArvW0mk2aGJVtWfRylm+pKbPsBodWSzYZOkBqdA2K8NcanwcwI1wO0N8o9oHA1VM2GaBirZmK0q4kE425XGZ1c6G1bh95GO4+B0rvRH57N7StmXzUbMqabje0GSKMjajwHm1HyQ089ZE1CQi6Z1FBOsKlbu3guM7PyHOa08htMrqpiurl6X1OPw4JKNlv6mXkMK7vNIfS2KNQZHACIIwE/DW+bEjuX0+VOSNgd6Yqmu5HeWS/x4NN8RS2q0BifBvtCsOarvJ4i4kGM1nqI1nqYu6FNRk73mb6aP+k91TPW69CbiJNaL6cKggLVbIiEbibWVo3cnrYPIQAhJNkgg5mvZGO6BZ3AkZzg0KcmZFap7+a5hdycHvSMWvXJWVhirtdLwVIGwaauIHNtHNhuNQSDebIPbd6PiPW8mbneDL3FNXI77dBDO/TQsYTdDirnpzE+c8KVFHoLUr2z4bZO5BzujNHaCFWzoS7nR0QCIk4g4v0ZnOHlRwHyAfIRDh9V66+Bzvm5pd1DJAiRINy0ob+3a0/oMWXGxjLdVAs3Y1JPGbZK7KiBZvuSO7Ey3SrDg3PwLqpsjcF0KxUbhfze68Ygkpo+NaG7eeXamGNwyvkpht5K1K0nB1tjGR3OJQgIbYt6xorPqpkYiuV5c43xaTAT2huhajaEq4FqNnSf7CraafdpLTw63NGht2gwMJbzoTciXzUbxuyrVvp5Um9wXL2XoveTQYbVJnN+cow218qdM0jMzWRwis+nkueVjek2LerUvLNjWY2ORbutSNl2SURVy/uorOrmaVWH1arKfGdkAz+QdX6yWj67XR3K3u4JdAIZcnumP8l0y2BTgZ83GuPTYGq0T4SqDXe09zMyluNhjM7JNjon27m8HvNhF4/imd64yfdVs0EgUM2GcSIbAJzZ1PvKQm9CMFptTZIIzBBby1MPxyrZoMzgVBIU6rL593Od5i1CWhNym4d3UWVwsnXMrDwhoDrElqHS07CNZZbfp+VaTJBMSjwhMwzHzGof5rzZKA29ZcfwLakMga+bDb7RloXG+MwRxz305rUIXoswuDiy9skMTudku/Tz1lpYq+9WBZvBMXN+xt0nAQoBCtEenVXrryPd56bOEGMBjAVw0+bk95YRC4QtX2eKOZqqGjw2ZG/XzAA8MsI8UzLd5gFGrdEp3YzrvYscISGpmZNKw4cHRVlXl1gwrIQElBMYTINIgVfLqiPfq8yNUzk9lu/a90k1G3bHpGr5VJUYWRQa49NgZtTN9bQ3QrTWZCsiSeuXeAFheEmH1Yqht8zg2EJvAEBBCxSU07wBQJAPAaoNK9jYbDaDY5INsnwe5kLobSUvq5M9QHMJp4X4/CFIC6pGCb16whjXqBrUyuwkqarBDKG7nIpAYvGQbDI8mceReaUzzItV5RUBkj1Hvgeq0DgkLz+G0Z4mHowGiTJKfYPpZiaZXh7oJFMblqXi1BifBvtCMhIIVwKEKwEGW9oTGlzSUjp+6Km5INPTySbOg3aAoB1Y3+5cSmx7QahaeYdQGp2SuaAXrsqxJgxcbxAPrj6h78y1NS2l0zYMSFA0FA5SO5WYQya/S55Prv9+PCRCqdEpjqNK2sVF+kUZnex/0xIbJAqbAZFe1GwGXL1sWPbhShjJWlkIkHwPRNoLKmO9EUnP15rT4+DlVGm7AfIeGAjCoCEcHF0c59CbGHMtm6292UJ7Q7YyZBTsoF3+6mUrsW2CkwTkeSDPw7hnekiG0nX/PODJca6MtdzOdd5FAEACkm2RX5eoT0QFCt5PIecng1Vix/EOnlbZIAcXg2PMb0wYCmhDV2lwmCeMzsTns5yHA8q822Kej8rDcrgetnPJvJy67a0G3JHtljUTT+3JMSUMXBzqeyBaouEBGuPTYA5orYfS6GzaQ16tzTZWrlpR/wcdbVxYSEZY0Akw2taeU++CNiwiihC0Wgha9mOQ58PzW/D88j4MDwwPyZzYPKb3M6FunZETzAJyaZ+ivttBYC6Jmy7lCgI38oF1XmyWuTWLsGdZ6I15f4QEEy4q2ba5nizcRn5eSTtXYjs2adr6fAa7+ZwfP5Dkg7IkUwDwPVhfuiKxLGW3xvgsBMfZ+xluSUZbsOIjHiVorUvvon9BG41BakA6J9sIOgFam+Xkg6Djq2ZDuNJGuFK+PQD4QQjyfJBn2QcFAAVg46d+vadLM7xwbaQmXU3igRl629wM1UO2s1YRLHfAQt7aHYgHVUrO06LW4PgkjY4lnOqCMoOTU4k2ZYssoqXOx5ohrGbdZ0YQSa975rkWGW2KVGASL4pySjVGXtKz642878lWRMK6LRON8WkwFcLNIDd5XkTmAdnYbn4nUM26j/W2aibGPamE4Lc7IM+Hn87zxAOtkDC4fB6A1HdLek+o9avROUyLrFaKDbOyyjxDbscaeptV3dohyXQeUPM42dxF8QGalTKwzT8R1Xs5Yj4eWxWc5nEsTDclWpoZC4vBN71+GDeTAAAgAElEQVQcG1x05uqkdoC8xM7WnrHcZ810i/QxlmmAGuPTwAnhZoBws9xgZPNAtrCbGCcI10LVMpgGyO8EaJ1oo3WijeGu4UVd0qG39uYm/Han9Bh+0FKN6u7ICmQ3ZPGe30hlhDyPsLoRqgeQKbeTC73l1hvhuQqjm8MMBASXUJX5Nj2tETVp35XEAmOy3bovl3kcF+Np837SuRmiipwfl+ucfR9V15TsLyQuxiTzgooK6DYpIbPI3GDXyLcb2NVBPI9Us2FZBqgxPgvCcQu9Rbs6U3q0G6micbEhBtp7VtOg+1sDZUxaJyxht5UAwWqIoEJ0dOX0Btqbm2hvbk585oWhajYk3UfVsun9mKG321cHqrDWLSf093ZNKrejyxMvd0K2DC7Eg0WX266aCM/KoVeVRM/ty8bQs3lsM4bYTDipPDi8BJhzPbby2dZicjErL8hGTJH7qPZyKokHPqlmwyAh1ZaFxvg0cEa46qtmQ8Z0s7HdgNToVCQarJxcBXkeVk5vAABGu6bYaAQ/DOGHYa7OTzTUMjyjvWeVvhsscjsEgTBtNnQCaXRKt5/Sa7B5P7licpacn2WrJ5eheL4TCaTpHE8Z020ClmsqZXIqtqsbowOF24ac6oCLl1P1vVfI4Kguoada6ecp8aBa8sf+GxwNEsV06/W1J7Rt5PxcHOi5nmh/UoozoTE+DWZGRp9urYfoPmNorl3Qy0HLR9gJEXZCtFa1YcrCU62NFvyWj5WTq+XHWFtXzYaMeGAlHwBpimmFwfG1/hUAXH9K72tj3Vde0OqaoXptGFJb6M3EIucs6lBF3S1bV/kANARDq45Xm9PjwGazwfR+qnJ+1LJhZCZ2O0Oo04n5Z5nrydO6qdRrVF5RgbJuKsUPu5Fiutmkdlwwo0PpjMb4LBDHLfTWf1onkw53xqpOT++ZQWn/cL2FsBMgrJjnCDuBtfjcyukzqtlgMzjjrpbSSXqPI3ulXjFCb89JQ28tSnD7ShcdX951t2zmXwOzBL2qJL068IyT5WaJ7fyE93ShtzrUMqtcvAuLUcqF2Gxq3YVtTC03BeHoeTp4ILPAOgaRN4KZwcnRvY1lL6ieD1Ihtxm+E98j1WzojWVbFhrj02Aq1JVEaK2H0uisV4XdQqtRGvdHWL36JFavPonRng63xSNt+MjzSlUNzNBb7XlwBJ8jtKg83tDydZsWQS6U5qu31pxXlO24yHQrLLvNS2CmcFWG2hBP8eFmHM/qaRTDc/sMiwFw8rSckCvroFfP0yOtrYhgkAus+6hRuM6aSTzo7+icn6Eht7NnsN52+7r/9jAvrLtMNManQS2CNV81E/0tzUobdyOV89N7xqA+pzk/QacFvxUgWJF9wjVNQvA8wsqpNdVs8IKWavuGkEanDDe1+uh4jI7HuHVDEyluOKVvk5Mbgbqh14xCeq3CHFalskHG5Z1BtNQFSy+lvQDk3uotxg6ArhfE9hDbPGr5VKLG06KCwcmREAr1mEqNji3Pac5otN2OCY5D6C023ppMHbdwxUe4FiC0JF5mxIKgY5Ha2VhRzYZwZVU1F5jeTxZ6YxEh3nsUENLotMY69HY1LqBDkWrWcQSk2n7Bwp5AYhocmydkK6udozI7VixdJIrGzVoaYcYwYZ0XtVBDUwabR8WsEm6TYslcGAZ2hvG6lNi2oZf+7IexbMtCY3waTIWg40ujU5FoGlaw2YJOWzW/pcNm5pts0Gph5cRJrJw4iWQ0NPpoI+jq/bAoNyg+j1WznoevmwtM7ye7Ppkxyc7PDFf6bV95SJ7rQWyYRziqAlZjVvBGlDGorFu0f8PoNCdl+dyW21MMvc3D8yRCpYq1Ih9M64UW55NSg5PL+dnLh94ylIXeopgRxbxUo5OhMT5LwHHwfkwZnL5Rz6d/QZINwtUAo90xwvQB3DdDb5f7CFZaCFZaOXp0EWtXncbaVaftY2it1LLZKsGRbgZOCk1OuDXcQsdL0PES3L6uz/OGk/ohcdVJQ/V6fdLI1j28RMyqLQI2D+lIhd68wnIWVssZjcn5JKA8KbNuDmYu8Mh6nCzE5vmUG59Iyo1J9THqPT6XubVoQb8/VzTGp4ETMk03ExnxwFYeOyMVVLHdVk6fUK10H2ubCForCFqTobnM+ykaJDP0FvW3wSIBiwRR97we+/jJ/HEQIYQ97FZHdKs1OAmrljuHgnJ1Nh1kvjE7hd6WaExcqc85r8jYxoWhJ0tGo/IJpeR6bH3S+ZdZLo2zJ2TU/VHbpnNOmSGws9mmYO5Z4Jp3Zno/g7Ee7DBiRIlsy4rYNsanwVTwQoIXkpXtlqlTF2VkhtvaIHi+h3C1g3C1k/OEklj7/l4YIlyTqgbCDLd5vvrrVXhBmcExQ3VFEGLVSs8V5VI7gPZ+mNma8xOu+Gr+xdTDM/N/XORlDktROXOcTsmk+0DdA9TzPatkj7VsdZHRVvIgX9Q1tudVTTlHY/H4RKyp97nQW7c89Fa22zmUktoXGuOzJByH0Jvp/fQuGFVHn+org2MmmZqsNy/w4YcB/NDuBbXW1tHePIH2ZrkXpArHWQyOS5Jp1D2vqGje6Cm1fl1ckPsA4wZ/W90Yt63p0NvNp9KbXDASYTcYNi/HRL2eWU0xtOyt3iK3c6RCb0ZYrWzcmUFRnlHB2LnI+exXx25WCEM6IBmJUrmdCebagvOTst9vcoDJzkBjfBrMgGDFV82GukqkQatVqVwQtDoIWp1cTo+57AetUqOTxNpQxkOdL2QDsUBVJRMlOz8DPdrsY3qOKqwmWCeTAnZF6wOU27EmNFqFPfWiNfRWdawZEiuz+Zd52thJine9F1Xn5cjzrJ/rmRY276c/MPKCRoZCQsRIBJp6Pg0OJ7zAU83ap+Wr1rtgEA9ShWr55hepwnAmoy1LJg0761YPR46jpnw2JueCSvuwAJUk5Jh5m6YDc/Npfd6nTwQQAhACWDWqu7aNOTA/9MAxg2POJZnmD3ZAcQ9M7/0sg8JtMyo2lWxr+YaKPmXITm3W8tuAo9yOzXhmY83+luyD2RAtNYgDZVTuOhyUF9QYnyXiOITeuud0uG3vvA6x9S8O4Lc8+C0vF24zUXUzBu22amGn3Asiv6WaDWZpBROZ90Oej3hwQe9zrEtvryea9XaDv62WTdYbAGVwbMS9JHHwghIxtdHJh9hs66cLvR0ksrFOPIQLocHMmFQavtoET88plDWz0Uk9rRyjzTAIycgIwxmyApkBUcnJlt/FLOKphw2H5GfY4CiCPKr1gqreAMn3VbNBxBG8cAVeuJLzYkwD1Fo7VRqey8gGXtiBF3bs5AQKVLOOo8bgANLoJCXzPFlYUqSVKzNJfZuUTl73bLkPGSchUJecHwshwUaPnoCLaGmaR2PLpTH77AfWCqeW+jpWOIbMrIoYU8KFeGCG3kaRPAch5HKjcNDg0MJmTPbOS4+HiNB/tq/6lIXegHyphHHPoEcPu/DDjmpl8FOD5IV2dQQ/NTrlJxHqZsEN/jYSJiRMuG1DzyGZobeNdR9JLJDEAqvrJtNNLqucHoscSvamO68HTxWqiAdlBqfsf6cck31OlLvUAnIyOOYLT8mTdC7zQHWelgtpoKgEkUsgNT6wMN1y3tWMOTtVL1WLQmN8lozjEHrbe1yH23bP5UNstgeTy4S8i3abH67ArzI4rXWEq6e00TKo1kk0gBd04AUdiPElfdyxDretiUtI4KtWhkEMlRNhAwt7EqmLwTGvlz3EZltvkd7ZBxYR5pnwfkoMVtEAZWPI1d3J9a+vFCr3s48BF8ZZZ1zV52XJpJkQaFYSYR9zNMcFjfFpsDC4lXP2VBvtXVbrxwPtFbFI4PkteIW5nux/P+ggXDkFv2VjzK2pZoOgQLUyDIWHQSwNj3UfhbIJLUPzLugEyuD41gJyfmmS6VECx+Vv6UV6tMuDvM4TcjI4lRP+0zHiqsJtVftQxtsyFqdS4g5jshEPstCb5wHjUXnoLUpY1apaVqD3aP7CjziOg/djwvR+dp/sqhvJJB6Yobf+xV31kB5c2kYZ/KAFeL5sJSAvBHkh/KA8rBZ0NlWzwm/rZmCd9ZieE/QwFPI2uf2EtjxZkbk4YaxvBCpssbKeD+O5JZHu/+HjgsNCPHCrBVQerpr0jKbfB+BOKJgXRdt2rmVkAyBPU895zhWyQpXHz3KkLN+1S52fRaExPg32BTP05goRJ6rZUMZUM5EZnTJ4fgi/tQa/tWZlxHEyhhduwAs3gFjPMwXxllpO0EKEABHKvaBIyBZbwm4u2m02g1OU21HL+wm9zanOzyzIzVFYKo2aFOrcszpnKKl6rqduDsbBw3HpY/N+stOcUFcwK63G7EboqK3fVG186lSys/LaQUAYGHk+FbflQtAYnwb7hlNiZSxUM9F7VofYehf0g7+/bVQgHUlvyfNbYJGUGx3y4YVrqtngtTZVKx2nt4YELSSwG76h8GAL0W+eCBTbrWPk/Ji6dr7BaCtNMgXq2VMHmBPkCnac/LbJ5KjPCdWT9nMwOPOAOs4CvQdFv06/+5xRs4XejBLb/W4MP/DgBx5GI/vbSFh8AVggGuNzQDgOoTcz52fnce1F7J7rqods74KRC2QsCyEZYHVFsYrzPGp9ShzwLGE3oN7gwF8FWIA9abRaQs8zbfIOAGDIIZ4TDlXo7dYTerzPOx0gjlk1G7IkUytqBLZU0qPN6Bjb2+r85EgIBxl6qyuJUFCGtj0Iq6SLlqVgXSlaajGMtlLawjJXJmJWxJQygkpduNYjUs2GdkiqLRP2xIYGDaZEXRZ5Mk4gZqmRYhgiZgEq0SPxwo3CmEqUqr02QPbcopjkcYZcHt5zKTlcG5cvVDL1Qi8nuy8SbUzYYEqpEgGeluYnn3IhrcMAjnUBNWaduyQSoQgEnOj1OaPp0cRvKXt2HrTIaploqRqbafwzAVOk558l1M7R2Nt+Y7Zj9HYirJ2Qv+k4ZqyuyI79kcBq21PDXhYaz6fBQpGMBZJxoiZYe09pD6l3QXoXLAS6z2jVATP0FvW3lUyOiMqVEwCA/A7It3tBFKyrVgZBLQhqKcNTxDAh1Uw894w2UGvrgfL4OgbxwKz06oeeeoL6JXI7Kow5w1OgjsAwa3lul2M4PVlcvKAq78I6tun6u2IelUb3A5f8H5GI0sJysSFs6rc8+D7Brwh1tsMm7HZF4LiF3kzW287jXRVzNhWwM2QGqaq4XB0y8oGNgAB/1W5wWN6U7K/BnJHvGKG307SLMfsYs49bVrT+3C0n9PcWxVyrfCBDJ/a5MZ33M93vIR8+M1URJktSq1IIZcdwfAo4sfLqVAmoPBw10a/gCentdR9xhHJkckXj0lAzefm5G1vobVZkslc2hP7BhN0a49NgbhCxqGR5SS9I5GimLhh3L+pjRD0QeSDy8iG11JjAa8vmr8r/y8Jr/irgr6aGp2ScNUmmgC4/bEMV481v+coYFfN8MlgldowHMdeVXQAAsRwxUPN4GVRYMGXeqUqjBvmkau7msKGO6abgZFxnGUd9krIpABwZuT29rkwXaLUIccII099Wd7B8Q94YnwYzQxqdyR9v9+k+4mGMeBhj5wktq9N7SntIe09dVvTr3SefVuvN0JsTvI40OmXw1422WtoloZZqNtzQGWMsgLEAnn9Kr7/mlAyrJQljZS1QBscMvQUrwdzyeVxKN0xNsXZ4EuRIC47KB7MoIzhVELVty/rvohWqM6ZbnYL1tChK6ZRdD5PIkhWWI48QjyZf8LKQW6tVPpascGKTZHqF4DiE3vpPa9Xn3XNdJKNENRtc+tSC/NTolMz1eCu65T/Qm3MMphaYWghYh9U6rI3jaa+HiD1EbL9VBKNUUBSY7QE6cZAyRhsZn8PwNlyYbvtAfZLo9Pu0eT8uY60Kvc1idNxKIlhYdRNkidTjM8scGeO2hd6A+lAnefXfSdU8z0Ex3YDG+DSYEzhh1WyIBpFq1v0IoVpvS3tCZugtGe+pcBonfXNjFVKreu0XXke10jHAqw27JUxWdrRgVs2EWVrcb/sqdGILvSFlfRWVrksOaP9smSh5mphU+lySacFTdsoZqw0xznYdnKudpmG1ifLcLnARHHWAjcCQzbNmOWWZ0TFDb7s7MQKfEPiE7jBfTG6ZaIzPIcBx8H5MdJ82S2kPEPVjRP04t37vSR2Gu/zIFkSUQEQJdh5/ClPDC3WzoM7gANLocMktca0vxyoAPH91jITlDZ2V1QaAa8+EMndJMNY2jcJyGwW5nZp4vXzL3f9bu+1N2cn7mePTYGllqwVDjJLJAmwFVF3PgyivXUSV96P6FPJ/itt6AcELSDIqSxC2PNVs8L0l5EilaIxPg7lgcGGc+z9js9nIBfEwgRjLZoOI7B5SRjooy/Ux9mAxOPltMqNjht5WuZvrY/OjsiqQVZUgp9F3KyKTk2FG7m25mEyqFbAPLoHUBTbvJ6dBainGlwsxVtHR6z6fI6zej60MQk7HbX7j8wKLlE7LU80G39Ntmd7PIfx5NjiqEBGrZkM8TBAPJw3O7hNSbkfECbYfOacMz97TT6g+ZugtHuqSCIi1FwUxUvM4bCEPSOXqGk7wjFg1cn7aOeJBXlYnMzrFwnJyoPIBai1qxvWhqEWLluZQwnTLxlC/bbXHV6fyME3YrnicfB5NzVgdQ3KzhNX244WZc6fxKIHve/B9D5ERVjMVrXv9RAmKdocHE3lpjM8hwXEIvY0ua0+l94z2InbP9RTNuvesIcmTMuAyRpxNcFSIRDUrKNCtBAm1KksmAABBIGQdGjS9n+f62sDduqYJFi84o2+ha86ETqKQlX3qpHZcCAyGoOjULKtlPxFqPJQJg1RUGEivRW4Cv+iBOHhCTqSQumTYKnKCVz5Pk/N+WJNJqsKyattCeM6lGF9WNqEKyyos1xifBgtBEglEgwTRoNxgZCG5eFheICeJY9WsIF+3WCeHktAGjuEp+rQ5n2MaIYIAzSD9XFdiW8QOYaDC5zlPyGSuuShaV5ATqg0fFqaA7aJubc7bcGL3+JyONy+WYQUytlt1nZ+0CJ5FmQCYbc6JfE81+zjLafG7ac6PR0B/tPyX38b4NJgrkkhUVmeMB3FuHmj3Se1dXH50G/E4RjyOcfmxZ3Sf84+r5eGuXh8PtCRPDhQquZwy2IgFavPUGFUZpCjRzcTVZ/QxO0bOT7hqyO1koTdmOTmcPow8y0RxJeY1vzGL0fFQGsWc5sFfKyvk4r1YwpDOyaFl/YtjOARg1vk8psdn5vbEUaI8LZPpNjLCcEQ0K+luJjTG5xDhOITe4p7+oQ+2ZHhKxAJ753uI0zKg3afytYC08kEFPToeq1YK8gAKZbPtA0Gl0cle/QMj9LbG2qO61tc5P7du6BDjzaf1PqO0rIIt70epHlTork0zd2FChWyYc3f2wphuM06bqfmoOREHbAQGF43XZUyJ2byfxJLzUwy9uST21mnIeTV5QYkAlvUUaoxPg4VAREK2EuUDQBMPysgHGZLRWDUT/UuShMAiQdR7Wt9tsa5A6gtpQLLwmkD+L4BKNYPcucCDqLhVxkIanchmcNLSETYKbT7np1xihwjqQVwttzPjvMacYSMe5EJvDpn8ZfutnVurMio1ZI6q/epx58dT1qcOLioRtftwEGg153pM4sFO1yirveTQW2N8GswdtqzzwfZIzfX0ntHehSm9s/WpLcSDGPEgxvajF4w+OvQm4ghcQT5gCsA15II6ZKE5m6c0FoQb12JkztpNZ7TROJOG3pKY0TYUrXPq1oa+20wP2Zo+td6FiWmfBnOcH3Kio9dcL87KVJTk/GQT+yw4n+DqYkymhbcY6aGJ3K3UyxGRyXTLREsJcSSUQRpXFJA7KDTG55DhOITexFifw+DiSHtBVXNBoxjxyE4uiEdjiDiCiO25P4A0POXrSbXECM2Z3g9DU7BN1tu6EXq7xu9jLOwPjeFIYDgSSCoSBetzfqpDQRP5L8Xy2cCEYZh6QtupJMJ0u5yApcx3jtGVCDfjmm5TVZxwoeSDuqqqJeEwq6K1JfSWlcauZ9Xt35MajLlhuzU42hBjVs2GukTUZBgjHo0Rp2G37bOPqc96F/Vy1D2vlinS3lIg+sp78bj8GHUeDiCLy2WlFcrQG8s2tLxd2hSuzXo+tpyfYpKpVoq2Dnc+5IFZ+xgoht5KDXBuPsSedFvcz7xR9H5Kva3Cd5ArIGeMb16o19Mj61yPSTYwvZ9i6G1JObk5NMbnEOI4eD8mTPWD7jNDxCOBeCTQfdqsBSRZb/EwwdZDl5CkFOzLj2zl9pVEkWqzoM7gRLSK2FJc7vqwh17ioZd4eO6qvqGvv0p7VJsnQ8SRQByJnMSOqe/mIo1fOS+x6Ex+2+VZ1JtxDdXbNWE25/3MeY4GQHX5bMft6xJRZVXUtOZPYU5ML0PtI7Gw3qqw1ATkEjRltBssBXFNzDke2MkHSUU4rg6h6CLyZDE5YoZIBUkT8uBzlC634PMYMeVleAIeK+OzST08LU6hDpGDPEmlsQEqDQoFnpqzMMtn28pqE5F6uJSVpz5oWDXoBKTxEwCDZ3tNNs+5SqC1AlRjLHLHKimfzcLwTKx9uDJfx2mMdcNzeHFYli1qPJ8GBwYRC2l0ShJRLz+2q5QPth/W3s/2I5p4sPvUZ8GcgDnBeE/L8JihNyaXsFp7wvBkGKKjmg39MatmQ7jigxMBTgSCth5LFnpT4baSnB/P8YF5UFI6Lpgq5yc7hxk8rKmTTCvyf8rDavljzYJZSmzb6NemJxTl8n/0ejPn59LlqLZA4rzRGJ9DiuMWeot2pfciIoH+haGiYPe3DBmeJ7pOFOyMeGAlH7CQRqfijhbwU6MzWYBuRCuqhdDHOOnpMOEN7RF6MaEXE15wWm977RkdYuusBtZCewCUMZrFWEz7kF0I8WCOmJfhtIaqbOoKhwQuZbVzITmjf1WeXOmxmBHHsh0EmrBbg6XBxnZzKasdDy3JpSaMeJY3egqi/VwAQMhdRLSuQm4irdPDIFCaUpdQiDH0/I5nee3uiupbpj8SiGoeAizyDw0XeD4pujAFnrqWuTCcEWLLQlYT6+cJ8xQWYKTMkJQKwx0iMGvSgUg4p7qtiSL1oTeRsJN3O4+yD1W5YHvdGBvrwUQdqkXhkH2dDa4U2OjXe6bczmN7qhbQpc/oBNKtT2um28XP3AOOx+B4jNHlR+3Ho3Km2ght1WzYFR3VbOiPBPol81qrm2nOTyRUMilQKCyXhduERd1ancSCCQY2eJZlE8KybCDzNA4i2TU3jjptObiTE2ZVR6hVLHBQNbB5P2bobTyI1XnERp8sDJfEjCRmjCvSIeaNxvgcYhy30FsyEKqZDLjBpVGuX9SPVCvDuBchGgwQDQalnwMALNRqAIgQqpbbxKhev8erqrVI72vT02NaCxjbQ8L2kHD9KW3cTp+W+41GCaJRUql1V4eZBDLTu3syOXEfb9Au9GoHYVJrvo7LeU47z2QJvR0aFJlr2XIitHabxVDWklZQf00zg2PLSVs0GuPT4FAgU8C2qWBHgxjjXoRxb9IgbT36IAAgiYboX3hQGR5veE71aYsdRTxoQRs+KihZ9biDHts9nF0RYjvysR2Ve1JZkmlkobu6PGRNj8fMBTLlduxK10aYSsw332TesF2LqWsBLRvWhFdjOacz52Y05lX9te73lSR5g2OSEPq9xKpLOG80xqfBgWFwYaxyfoaXtUHYO6/VBS48cAlRKki6/fBltf7ip54EYOi/RZq4MC363FatDHuihV0RYlfYRUv3RowTq/p2OnHaULdeD1U+T7CSl9hRy+1yY7YvLDpy4vLUOARqLsVQlRPxYEGMtkWg6C1lMIkKmdfNAhgPtGGJC954UiOIuwgs3fgQ0TuXfcyjjOMWenNBMk4Q9WJEvfL8nrgfIe5HE4KjGZiFajZECFRrUflx9kQLe0IakTbpfZ0KpVezG3nYbEvDU3oey7qhi3I7OUFSu9jkUYFVCaEEtXMkc6g0uh9MeD/pGGzF4VySTF3p2bbbwKa8sSwsxPgQ0WlLOwPgqxZxzAZHG8mwWmoHAMZdaXQyXLhfy+psPfwQ4vEA8XiAvac+qdbTQOcFrSRbYBAYhFWUzxcNOcgZnSJ2Y1+2qPzWGY2EajbY8nGKcjtl6zPDwoK10jUOqTERhTYFpvE06gzOLOGsaVURbKE3OQ6HnJ6sQp3t4wopHXn86jyvZCwU/T82BElNosJRTzK9AOAuAB8z2l1pu2ZBxzy2OM7eT7QbI0lzeoaXtCfTuyCNQzyMcfHBSxh3pdHZ+szl3Pbj3kA1G4gFqMILitnDkAMMuZxGvZf42Euk0SnD8zYJ/RGjP2JcdUqH5tY2DVmdtqdi8SbTbT8F5FxFNheKQxKwd1GGnpXRtmi4GKWsgBxg92RyrDcjrCbSXLKq30aSiMqctEVgUXk+jwB4PTM/XvyAiJ4o6d+ggUKSZl7bSmxnhqgKLHQf8/G0mlxE379KLmOAXV6TyzRGn6W3E5JAxB5GnH8adDyBoZDrTrUEHturfwLX3cx1D886D8CU0vF8T+uaOeT5HEa5HRMy9GTI0JTkwuRygQ4hOBaKEJLL5zGkdMz8H06EWi9ihhfs/9xyitiWn2oyZb7ZPLGo95dfAGATwnrbgo7Z4AgjU8BOhuU3w+4Te4p+fckgHly471m1fO6j9yAa9BEN+tg++3G1nvtm/k/1zZZVKi0aHjWOiFSzIRMULU7qmgg6gXpoThAP0vkAzxKG21e57UXAK7Q6HAISgjMKHlJp2M4h9DYtFhU+Ned14pFQBBhRxno7ymE3Zn4HM99j+ez/XcQxjzuOc+jNLLswuqw9lv6FkWLD2YRJx70Io70hRnt2tpuIerBNPGRVSgWk0SlDpmDdSzysBXqspzp6ebVNGIwFBmOBEyd1uG0lVbRmAQRVjLYs1r/kt2kuFyAAABYUSURBVPjiw25edN9FwyX50sRhZrRlNXjKrrlpHERFiW3dyda/nlwgw8JTDHxGLOwVioieQ0TPSZevJqJvIqIXL+p4DY4P4lGimg22nJ8Mo71diKiXGh4g2XlAfbaaPJvSDhinSBeK2/D0nFObBIaJh2HiYcUrv2F7EWFvxFa2GyBVhG039CwP+pz3Y2zvmarIxmJlFv0hNjhWevQs7kXVebqw4RwZc+qallRUzZhuKtxmGr50fqfuO6ktyeGQU1ZXrG+RWBTb7f8C8CEAdxLR9wH4nwC+BsAfEdE/XsQxGxxP9C9oj+by2T1Fwd5+eEetv/iAVL0e7Yzw+Afvw2hPGpRnP/XR3L5IjFSzIWJSzYZeROhVhN3GaTXIMvn6oO2rh4rJYjO9olwYbqWcnFBX7XQemNooLSj0Nq2XY4XFYOTCapaHsKk0UEVIqHJe1TnYruecvF+OtQQTF7yf7G88SpRnlKsFFCVLM0SLIhy8CcCLAawAeAzArcz8NBGdAvA+AP9pQcc91njLecZbrjt8b6fzRjIQ8Fc8tVwnPDrujjHaKTcoyUhrxQUb041j1U/QT7QhGCby2m+2GLtjuXxmlbDVl0y3lZaHna4c69p6gF5XEiY6GyFGFV5aBpeHfJ2xqXpwTCRdTmG5piInKPFM593vC9OSDczJf8DtGT+vKKhTvpWhVJojWxiEBJGIvHebbVona6SMUPkbglhicmmGRYXdImbuM/MWgIeZ+WkAYOZtLG06q8FRRqYBZ0M8jDHujjHuTiaaPnPv4xjtdjHa7eL8Pdr7GV3U05Cr0TkQBAgCp0kTGE772ogJEAZCtjL0Itn6lrCbi5SOC802WNVzSH7LQjzIldg2xrtsboLteNMQEwrIVybdx5iWCNscUs4DiVl5QbMkeLq8DFQpqB/LJFMAgoiyO+ars5VE1FngMRscU/SflgYh6ie4/FhXUbB3HttTfbYeuoTR5ZFqViQD3SwQqVmyYXdMsDkyZj7F2oYOLLSM8FnQ9uAFBC+gnNyOWWQuXA3mE2qaI/ZVC2ifBmem45ZsXxY+nHD8SsJylSXMpx7HbIXj1Jgc5mjMuaCiDI/ZMkxbC2geWJQh+KZsgZnPGevPAPjhBR3zisBxZr1VIeqXh95Gu2PVbBjuXVTNBVf5ep4pk9LJQm5ZuG3NkHk7ve5hFDFGEWOlY2e0eYGnWhnI9+bycJo8cPnqw2TYymCdbzIfphWhQxd6dN2cFlF9n0pYyAk2LTbT2lUlExf71BmkWnKCsQ9eUnBqUVTrx5k5AgAiOkVEG+n6J5n5LxZxzAZXDmwK2FtGzZ+z73sU/a0u+ltdnPuoltvZefxv1HKnezd8juBzhKtxAUWMBWEsSBmeIvaGrJoNfkCqlcHzSRqdkjh+sGIQEhxCb6Xq1o44jIZoP+rWLiQJl3n92nn/KhaahcAw7bxKnZSOOt4MZSqSUaK8oKSCXboILIrtdh0R/Vci2gFwEcD9RPQ4Eb3FCMc12CeuRO8n2o1V657TITNTARsABttDDLbtOT/9S1vgeA8c75V+nmX9jGvmeYpht/UVI2RmGISOYUDaxnJnPVTZ7qFpZFLpnWWF3KY9zmGkY0+LmRWtLddgXqlaLp6WzRizYIhEKEkdc32GJBIHOteTYVFht98C8BvMfALAtwL4QwCfA8mue8eCjtngCsVoZ6xaGQYX+uhf2kL/0tbEZ2HvfgCAhxjX4im1/vqwp5bPtBIMEsIgIZw0Sv1sdPIPiDhhxBVvt0HoqVaGbB5oFqNj9X4c7vSsf211zSXmBVm9H0vobVqa8DLOwaSKu5RBYJdk0gJcdP0yo2TdR6Z4cJQVDgCcYeY7AICZ/wjAFzNzj5l/HMAXL+iYDa4gdM8NEHVjRN0YvWe0p2Pm/zz+V+cwuCA9oyfv/Kxa//R9dwAAkvEekvEePJRryAkm1WzI5npGUfkdS0SVBgcAgtDHyqZW0Q7XNAkhXDUICbbQW4nm2X5xGMNvc0eN8SzzXqZWtLYw3YrjmAVuBodVK26b/U0ioYxcsaz9IrEwVWsi+q40/PYDAM4CAMlfdsN2mwOuxNCbC8a9GMPLIwwtjLfBpR0MLu0gGVvCbsSq2TCMWLV1w/tZSdlqQjB8X3sPZhguC7212h7WT7YQhOUEBSfvQvC+WFeucDFERy4Ml463dP5lWecyZT2hovdTl3SbeTAizs/3mPsRsd1oLUtiZ1GG4HsAfB2A9wB4FWTSKQCcBvBjCzpmgyXjLef5UBjBH3tgjHEvxthSfC6bBxpcMryiO/9Sd9i+C74YwhdDXJNoIfab29pA/cAttyvVgmvWym/6X3zV50BUGIMw9BCGHlptS9jN91SzwaZskHk/f/OzX4EP/bwumbWfnJ95lGb4yC997b63nRiPJfR257//6tL1Zv+/edtXuh3E5gXNUgsoHccd/+r1eN+bv0Svj/Pno4rGuXhLFrz7+19dy2Z7z5tebZ3ryZMTjrDCQVpK4e+XrN+CnP9psABkhqBKBcE0FmX9isbEpc8s47D1mXacP/KRPn7+lasAgJ3Huzhx4zr+6R9IxevfedPNAIAnP/wEnveqG9Q2N7/wrWr5iWd/v3Qc33zdi6znAAA/87K/Vfn5b/y9lwAAvucv71PrWm0f45RZ1Fnz8Vtf+TL12df/d5kU21oPVemI//3Dr83t84t/UhJGvbYPke7nAz/z5dYxEJEySF/4Q39W2ufOt+sH+av++f8s7fPhX/ia0j6Z+kHR4Hzkl74Wr/zBP51YB2BiffFzWx9zDDaYxncCgpVBevW/endpF2bgAz/1Zer/L37Leyf6/NVPfGnu/+w7yUQK3v+vv3Rim9wxYlYG6Uvf/v7SPu9506vV8pf/ygdK+7z7+19duj7De3/wNRP/v+GX/hqA9H7Mz7/iVz9Yua95gxZReIqI/gOAP2TmfZ8NEfFrX/va+o5XOM5+6P24+e9MXqezH9I/6LLPp+1j+7xqDPM+Rl0fG579zJ1q+ZoXfmFpn1Gkqdbt8Grrvs4N+rh+ZXXqMQDAQ5c1ieH2k2ulfe57RnpbL7nWrgV092OSUv7ym2xVS+z4+GfzpIvPu/VMZT/b51mfqs9dx1E3hso+D6fjfMH+xvGJRy+p5Vc8/3Rpn7vPptf7Zvv1nuU7ueecVth42fUnrf3uPS8995ded8Le58kdvPR59s+rkO1/79xnEQ+6H2PmL9jXjhyxKONzAVLT7WoA7wLwO8z8CYftvhfA96b/vgTAfRXdG8yGqyBp8A0Wg+b6LhbN9V0sbmfmKdUQp8OijM8nmPkVRPRCAN+eNh/A70Aaok877OOuRVveKxnN9V0smuu7WDTXd7FYxvWdO+Eg1W+7jYjuAfDHAAJmfjGAX4ckHjxERF9g9H8lEd2dtnuI6BuzsRnr7yaii0T0C+k2bySiT6brP0BEL0rXv5yIPkRE9xPRvUT0bfM+v4MGEXWI6CPptbqfiN6arv/W9H9hXl9juxuJqEtEP2KsaxHRO4no00T0KSL65sI230JEXPi+fo6I7kvbFX99iehmIhoYv9NfMz67g4geMj67xvjs7xPRA+k+f9tYfyMRvYeIHkw/v3k5Z7547Oe3S0QvNe7pT6bPF/PzPyGi+4z/bySi9xHRJ9JnwFel628ioo+l38P9RPTGZZzzMrGP3+53Fp6xgoheXthn8fq2iehdRPRZIvqw+fskou8mos+k7btrB2wyW+bRABCAe9LlEMCHAXwhZJLp7QDuAPAFRv9VSAMFAM8F8CwkEeKuwn4/BpkvBACbxvqvA/Dn6fJtAF6YLl8H4CkAJ+d9jgfZ0uu77np9je3+EMDvA/iR9P+7ALwVwE+n/3sArjL6bwD4KwB3ZvuDFIl9b/r9rKX72FzUuR6F6wvgZgD3leznrorv4oUAPgHgVPr/NcZndwB4Q7q8DmD1oK/JAV7bAMC9AF6W/n8GgG9c328C8Nvm9QfwTgDfly6/CMDZdLkFoG1c17MArjvoa3KQ17ew7ecCeKTw+y27vt8P4NfS5W8H8K50+TSAR9K/p9LlU1Xjnbvnw3IkX5T+G6aNmflBZn6opH+fmTOObAea5/fOrA/J8N01AP463WbX2MVatg0zf5qZP5Mun4c0ZPbZ4yMIlsiK1NReXwAgom+A/DHcb6x+JyQl/t+l+xXMbMbQfwrA2wCYWjUvAvB+Zo6ZuQfgHgBfMYfTOjTYz/W14J0Vn/1TAO9gWWIEzPwsAKQefMDM703Xd5m5b9/N0cI+ru2XAbiXme9Jt99i5kyA7L8A+BcAfrp4GACb6fIJAOfTbcfMnCV/tXEM8w1n/O1+B+S0SAbb9f369DMA+AMAryciAvDlAN7LzJfS3/V7UfNsWNQXEBPR3ZAP//cCWCWiHyaiUtI9Eb2KiO4H8EkAb0wfbubN+x2QFpaNbf4ZET0M+YD8wZJ9vhLybefhuZ3VIQER+eb1ZeYPV/RdA/CjkF6Oid9L//4UEX2ciH6fiK5Nt3kFgBuYuci5vQfAVxLRKhFdBeBLANyAY4Zprm+K56dhnvcT0WsAwPj9/uc0pPGv05sUkB76bUT0QSK6k4i+wlh/mYj+KN3f/0NEdpnsI4gpr+1tAJiI3p3+Rv+l8dktAP49gKJxfguA7yKicwD+F4AfMI59AxHdC+AJAD+XvqAeK+zjt5vh25A3Prbr+zzI64fUadiB9EjV+hTn0nVWLMr4fBjywXQ9gG8G8B8gq5r+CwDPL3Zm5g+znBf62wB+rBjXhXTvfqewzTuY+QWQD9YfNz8joucC+G8A/hHzsvJ1lwdmTpj55ZDX95VE9JKK7m8F8HbjjShDkG7/QWb+PMiy5z9PRB6At6Ok9AUzvwfyhv4byO/jQ4BFm+YIY8rr+xSAG5n5FZC/798mouzN+zuZ+XMBvCZt/yBdH0CG3l4H+WL1H4noZLr+NQB+BPJeuAXAP5zjqR04pry2AYBXA/jO9O83EtHr03mJW5n5/yvZ5jsA/CYzXw/gqwD8t/Q3DWZ+gplfCuBWAN+dvWwdJ0x5fQHIl38AfWa+L/2/6vqWJeZxxXorFmV8fGbeZubLkEbnXcz80wC+EtJKloKZHwTQg6RZAwCI6GWQoYiPWTb7XQDfYPTfBPBnAH6cme+0bHMskF7fO1Dt3r4KwNuI6CyAfw7g/yaiNwHYgnyryX5gvw/g8yDnel4C4I50my8E8CfZRCUz/wwzv5yZ3wD5g/vMnE/r0MDl+jLziGXyNNLf6MOQb+xg5ifTv3uQsfNXppudA/A/mDli5kcBPARpjM4B+AQzP5K+Vf4x5Hdy7OD42z0HGea9mIYf/xfk9fg7AD4//X1+ANKLvCPd5h8j9eqZ+UOQofyrCsc+DxmCzmdgHiM4Xt8MxZf7qut7Dmm0g4gCyNDmJXN9iuuRhjxtWATb7WoAPSJ6CRGtQBqfR9OPAxQsJBE9Pz0JENFNkBNjZ40uxVhkNgeU4auRPgCJqAX5MP2vzFyesn7EQURXp2/JSK/vlwL4lK0/M7+GmW9m5psB/AKAf8vMv5yGMP8U8u0bAF4P4AFm3mHmq4xt7gTwdcx8V+rSn0mP/VIAL4WUUDo2mPb6pv39dPkWSCPyCBEFaWgSJMuIfA103tofQ0YGkPa5DXJO7qMATqX3EAD8PQAPzPcMDw7TXlsA7wbw0jTMGwB4LeRv9FeZ+br09/lqAJ9m5tel2zwO+VsGEX0OpPG5QETXp8cEEZ2CnJeeZg7v0GMf1xepV/itkC/xAICa6/snADIm27cA+Mv0WfJuAF9Gsn7bKcj5unIJCeNA82ZcvBTAgwAGALYB3A35Nvi/AYwBRACeAfDutP8/gHwLuRvAxwF8Q2F/jwD4W4V1v2hs8z4AL07Xf1e6/7uN9vJ5n+NBtvT6fgKSBXQfgJ9I138j5NvHyLy+hW3fgpTtlv5/EySj7d70+7mxZJs7oNluHciH4QOQRulYXdv9XF/IsPL9kPNhHwfwten6NUiG5r3p578IzdQiyFD0A5DznN9uHP8N6TafBPCbAFoHfU0O8reb3tP3p/3fVrLPm5FnY70IwAfT7+NuAF9WuK73pH+/96CvxyG5vq8DcGfFPovXtwMZJfksgI8AuMX47HvS9Z+FnPKoHO9CkkwBOfEFaf1ug/R4zqUnfblywwYNGjRocOyxMOPToEGDBg0a2LCoMtoniOhnSWbNb6XtwXSdXTmvQYMGDRpcEVgU2+33IOd7XsfMZ5j5DOQE6zZkvLBBgwYNGlzBWJSw6EPMfPu0nzVo0KBBgysDi/J8HiOif2kmcRHRtUT0o8hnwTZo0KBBgysQizI+3waZTPp+ItomokuQlN3TKKlw2qDBokFECeUVfN+8j328joj+rvH/G4no/5zjGP8gzRVy7f+5RPSb8zp+gwbLxELKaEPSq/8tM/8oEa0CeDN0pnZi36xBg4VhwFJ2ZBa8DkAXUl4IzPxrlb2nABG9GDIP6BHXbZj5k2ny5I0sS9c3aHBksCjP5zcgZXIAmVW/AeBnIeVc/vOCjtmgwdQgop8goo+SrE/0zkz8k4h+kGQ9nXuJ6HdJ1i15I4AfSj2n1xDRWyitj0Syds/Pkayn8mlKBUbT7PzfS/fzLpI1UMqKdH0ngP9hjKub7u9jRPQXJOte3UFEjxDR1xnb/SmkPEqDBkcKizI+HusyCV/AzD/EzB9g5rdCiiU2aLBsrBTCblkhvF9m5r/NzC+BlIL6mnT9mwG8gqUQ5RuZ+SyAX4MUaX05M/91yTECZn4lpIbev0nXfT+A7XQ/PwXg8y3j+yJIRYQMawDuYObPB7AHKW3/Bshs9Z80+t2FY6xR1uD4YlHG5z4i+kfp8j3Zmx4R3QYpf9OgwbIxSI1G1t6Vrv+S1Bv5JKSW2ovT9fcC+O9E9F1wV+7+o/TvxyBlSQCpjfW7AMBSNfhey7bPBXDB+H8M4M/T5U9CCmxG6fLNRr9nIQsnNmhwpLAo4/NPALyWZL2dFwH4EBE9AllK+58s6JgNGkwFkqU7fgXAt7AsffDrkNpVgBSsfQekp/KxTPy2BlmxsgR6PrVMar4MA+PYABCxzoMQ2b5Zlggxx9JJt23Q4EhhIYQDZt4B8A+JaAMyzBYAOMfMzyzieA0a7BPZw/4iEa1DqvT+Qar0ewMzv4+IPgDg/4AsvbwHXSXTFR+AZHi+j2Sl0s+19HsQss7M2Sn3fxu0WnaDBkcGi2K7AVB1TO5Z5DEaNHDECskKjxn+nJnfTES/DhnKOgtZ0gAAfAC/RUQnID2XtzPzZSL6U0jj9PUwKmTW4FcA/BeSFTQzxeGdkn5/Bsmm+4vpTgtfkm7boMGRQiMs2qDBApGqu4fMPCSiF0CWrriNmceFfiuQ5UG+iJmd0hGIqA3g/QBebRB8GjQ4Elio59OgQQOsQobcQkgv6vuKhgcAmHlARP8Gsu69a87OjQDe3BieBkcRjefToEGDBg2WjkWx3Ro0aNCgQQMrGuPToEGDBg2Wjsb4NGjQoEGDpaMxPg0aNGjQYOlojE+DBg0aNFg6GuPToEGDBg2Wjv8faori5+VaMpkAAAAASUVORK5CYII=\n",
          "text/plain": "<Figure size 720x720 with 1 Axes>"
         },
         "metadata": {
          "needs_background": "light"
         },
         "output_type": "display_data"
        }
       ]
      }
     },
     "e79bb6d963b746589fe9c56d93b26312": {
      "model_module": "@jupyter-widgets/controls",
      "model_module_version": "1.5.0",
      "model_name": "HTMLModel",
      "state": {
       "layout": "IPY_MODEL_2b01486ec0c54c839f0ca715cfeebbdb",
       "style": "IPY_MODEL_bdceebfa43974fbfb55218b00eceb055"
      }
     },
     "e7c4a9acd4bb44c9a8d896f51b6ad16e": {
      "model_module": "@jupyter-widgets/base",
      "model_module_version": "1.2.0",
      "model_name": "LayoutModel",
      "state": {
       "width": "auto"
      }
     },
     "e81bd8054b5140cbb97f81fee8ca616f": {
      "model_module": "@jupyter-widgets/controls",
      "model_module_version": "1.5.0",
      "model_name": "DescriptionStyleModel",
      "state": {
       "description_width": ""
      }
     },
     "e94318a52bb6457888cc574da3f54180": {
      "model_module": "@jupyter-widgets/controls",
      "model_module_version": "1.5.0",
      "model_name": "SliderStyleModel",
      "state": {
       "description_width": ""
      }
     },
     "e9ec3a3771e6411fa1f62e806b6f9574": {
      "model_module": "@jupyter-widgets/controls",
      "model_module_version": "1.5.0",
      "model_name": "DescriptionStyleModel",
      "state": {
       "description_width": ""
      }
     },
     "e9f804f355404aa29edb26c363504567": {
      "model_module": "@jupyter-widgets/base",
      "model_module_version": "1.2.0",
      "model_name": "LayoutModel",
      "state": {
       "width": "auto"
      }
     },
     "ea3c16fb2cfd4be5b6505143513d3bcd": {
      "model_module": "@jupyter-widgets/controls",
      "model_module_version": "1.5.0",
      "model_name": "FloatSliderModel",
      "state": {
       "continuous_update": false,
       "description": "Height",
       "layout": "IPY_MODEL_c043654cb1ae446a87aaa795fc137835",
       "max": 11351.865002485923,
       "orientation": "vertical",
       "step": 10,
       "style": "IPY_MODEL_a13c513b4af641ababf0ef2e309676f2",
       "value": 5675.932501242962
      }
     },
     "ea59f593c50146d38afeb3d3665fc2fb": {
      "model_module": "@jupyter-widgets/base",
      "model_module_version": "1.2.0",
      "model_name": "LayoutModel",
      "state": {}
     },
     "eaaba1de995f4df79201f2d6068dc2b0": {
      "model_module": "@jupyter-widgets/controls",
      "model_module_version": "1.5.0",
      "model_name": "ButtonStyleModel",
      "state": {}
     },
     "eab6086fea2e41639a1d8a55df0d1c61": {
      "model_module": "@jupyter-widgets/controls",
      "model_module_version": "1.5.0",
      "model_name": "ButtonModel",
      "state": {
       "button_style": "danger",
       "description": "Compute",
       "icon": "check",
       "layout": "IPY_MODEL_f535ac30264049ef9cd3ffbb79517324",
       "style": "IPY_MODEL_2a669c4ca1704f4fbc4e3f901764e08a",
       "tooltip": "Run computation"
      }
     },
     "ead32121de9742409764d11eef11adf4": {
      "model_module": "@jupyter-widgets/base",
      "model_module_version": "1.2.0",
      "model_name": "LayoutModel",
      "state": {
       "grid_area": "pathlist",
       "width": "auto"
      }
     },
     "eb208879a83347d88c42de714672470f": {
      "model_module": "@jupyter-widgets/controls",
      "model_module_version": "1.5.0",
      "model_name": "ButtonStyleModel",
      "state": {}
     },
     "eb34319da5544b9d911a354827596ff7": {
      "model_module": "@jupyter-widgets/controls",
      "model_module_version": "1.5.0",
      "model_name": "VBoxModel",
      "state": {
       "children": [
        "IPY_MODEL_5dc6f4de55a74e23ae94923fb6e3869c",
        "IPY_MODEL_83e338946cec4d618f85d8cfbbb0ba76"
       ],
       "layout": "IPY_MODEL_f98dabf168914d17993776519f0e0d7c"
      }
     },
     "eb5a5afeb61947549615a089b2ee08ba": {
      "model_module": "@jupyter-widgets/base",
      "model_module_version": "1.2.0",
      "model_name": "LayoutModel",
      "state": {}
     },
     "ec3eb9f518f24eb192238e9f956fcad2": {
      "model_module": "@jupyter-widgets/controls",
      "model_module_version": "1.5.0",
      "model_name": "DescriptionStyleModel",
      "state": {
       "description_width": ""
      }
     },
     "ec9f48183c794af5b356546273040a8c": {
      "model_module": "@jupyter-widgets/base",
      "model_module_version": "1.2.0",
      "model_name": "LayoutModel",
      "state": {}
     },
     "ecf5df9979544b1fa42d818e0b5b2112": {
      "model_module": "@jupyter-widgets/base",
      "model_module_version": "1.2.0",
      "model_name": "LayoutModel",
      "state": {}
     },
     "ed23912dc632431cb45f4fd5a6361176": {
      "model_module": "@jupyter-widgets/controls",
      "model_module_version": "1.5.0",
      "model_name": "ButtonStyleModel",
      "state": {}
     },
     "ed4dabd1591b4e42a7e1f7ff65c0a2a3": {
      "model_module": "@jupyter-widgets/controls",
      "model_module_version": "1.5.0",
      "model_name": "VBoxModel",
      "state": {
       "children": [
        "IPY_MODEL_1584cc9ea0d64b8b8b1c90903d36c86e",
        "IPY_MODEL_0b0bfd65fdc3455aaff503210f489d38"
       ],
       "layout": "IPY_MODEL_7b94203623034efd991bd9085a550ef8"
      }
     },
     "ed5c2f4e7e264283b2f5b116fab92e8c": {
      "model_module": "@jupyter-widgets/base",
      "model_module_version": "1.2.0",
      "model_name": "LayoutModel",
      "state": {}
     },
     "ed7b2d587fe64b948e28f7dc3714316c": {
      "model_module": "@jupyter-widgets/controls",
      "model_module_version": "1.5.0",
      "model_name": "DescriptionStyleModel",
      "state": {
       "description_width": "initial"
      }
     },
     "ed931e578de7494783a13a623801a8f6": {
      "model_module": "@jupyter-widgets/controls",
      "model_module_version": "1.5.0",
      "model_name": "ButtonStyleModel",
      "state": {}
     },
     "edd137c430f9437792f4b96c2dbcf8ce": {
      "model_module": "@jupyter-widgets/controls",
      "model_module_version": "1.5.0",
      "model_name": "HBoxModel",
      "state": {
       "children": [
        "IPY_MODEL_65aa03b99c084fad9f89def9501a7880",
        "IPY_MODEL_8748af70fd144e09ba5d22007f0c29aa",
        "IPY_MODEL_c57abe70df2e4374b7c0bbb4f0d52d69"
       ],
       "layout": "IPY_MODEL_1275bab474894fa3979ad5a02a1c2007"
      }
     },
     "edeb4d925524466e949a3a26d652ba3f": {
      "model_module": "@jupyter-widgets/controls",
      "model_module_version": "1.5.0",
      "model_name": "SliderStyleModel",
      "state": {
       "description_width": ""
      }
     },
     "ee1da3e7b6094783b3df2de000669a43": {
      "model_module": "@jupyter-widgets/base",
      "model_module_version": "1.2.0",
      "model_name": "LayoutModel",
      "state": {
       "display": "none",
       "grid_area": "filename",
       "width": "auto"
      }
     },
     "ee2f922d473d4bc988ba8e59b7bf1d93": {
      "model_module": "@jupyter-widgets/controls",
      "model_module_version": "1.5.0",
      "model_name": "VBoxModel",
      "state": {
       "children": [
        "IPY_MODEL_f1d6f8bf8fac46e88a82ecb0d60296ef",
        "IPY_MODEL_c40248223b2042ca8c69f44228812239"
       ],
       "layout": "IPY_MODEL_eb5a5afeb61947549615a089b2ee08ba"
      }
     },
     "ee3b6f27ede949b3844c6d6fbb7c3103": {
      "model_module": "@jupyter-widgets/controls",
      "model_module_version": "1.5.0",
      "model_name": "TextModel",
      "state": {
       "layout": "IPY_MODEL_cd5b3348d31647e7bed462f779b6fa8b",
       "placeholder": "output filename",
       "style": "IPY_MODEL_02f9f8ffc3644e66b82bfc48d488eae5",
       "value": "FlinFlon.geoh5"
      }
     },
     "ee46bff4d54b410888d06d9fe334ac41": {
      "model_module": "@jupyter-widgets/controls",
      "model_module_version": "1.5.0",
      "model_name": "ButtonModel",
      "state": {
       "description": "Select",
       "layout": "IPY_MODEL_e9f804f355404aa29edb26c363504567",
       "style": "IPY_MODEL_2a84c3bf84694adab129f0d1f6a4b31c"
      }
     },
     "eea07d5aa5ce49009d2f2603e7d5b128": {
      "model_module": "@jupyter-widgets/base",
      "model_module_version": "1.2.0",
      "model_name": "LayoutModel",
      "state": {
       "width": "auto"
      }
     },
     "eef31ded39eb4244959a7eb334ff3117": {
      "model_module": "@jupyter-widgets/base",
      "model_module_version": "1.2.0",
      "model_name": "LayoutModel",
      "state": {}
     },
     "ef3350a7dbcf40aa858803d6d03f3dcc": {
      "model_module": "@jupyter-widgets/controls",
      "model_module_version": "1.5.0",
      "model_name": "HBoxModel",
      "state": {
       "children": [
        "IPY_MODEL_8a5a42f5ba564ca9a8bde91f313c863c",
        "IPY_MODEL_981aa695e13045f1bcf5c07be4657b43",
        "IPY_MODEL_3b03e73c7ee749f2a8c32be2f89a23de"
       ],
       "layout": "IPY_MODEL_d21cd97fd08141a5922cbdf5f2fdffdb"
      }
     },
     "ef52f647118e4684a74c7b880e74a2f5": {
      "model_module": "@jupyter-widgets/controls",
      "model_module_version": "1.5.0",
      "model_name": "GridBoxModel",
      "state": {
       "children": [
        "IPY_MODEL_13846aaea3db499ab693e507e81fc915",
        "IPY_MODEL_3192fad0112f4928bb44026798fb2e20",
        "IPY_MODEL_056465c7aced4731a66d2b7977210d5c"
       ],
       "layout": "IPY_MODEL_239d3813374f4a718f0419188c4dbee1"
      }
     },
     "ef87128e4c7c4114b9dd43f3f3458201": {
      "model_module": "@jupyter-widgets/controls",
      "model_module_version": "1.5.0",
      "model_name": "ButtonModel",
      "state": {
       "button_style": "danger",
       "description": "Compute",
       "icon": "check",
       "layout": "IPY_MODEL_e57720717733496fb84997c9d7d6b6c3",
       "style": "IPY_MODEL_f0a507d3b129494ab7d275d1a57c1c20",
       "tooltip": "Run computation"
      }
     },
     "efa40568e57547528ac03186a0d8d911": {
      "model_module": "@jupyter-widgets/base",
      "model_module_version": "1.2.0",
      "model_name": "LayoutModel",
      "state": {}
     },
     "f037258e766c493aa3dac3f0930ee896": {
      "model_module": "@jupyter-widgets/base",
      "model_module_version": "1.2.0",
      "model_name": "LayoutModel",
      "state": {
       "width": "auto"
      }
     },
     "f075aa8ea13240c1a150a2862d446e9a": {
      "model_module": "@jupyter-widgets/base",
      "model_module_version": "1.2.0",
      "model_name": "LayoutModel",
      "state": {
       "grid_area": "pathlist",
       "width": "auto"
      }
     },
     "f07d14908f684d538081dbc1d5e5d3c3": {
      "model_module": "@jupyter-widgets/controls",
      "model_module_version": "1.5.0",
      "model_name": "DescriptionStyleModel",
      "state": {
       "description_width": ""
      }
     },
     "f08797bcde7a4299905555872427fd71": {
      "model_module": "@jupyter-widgets/controls",
      "model_module_version": "1.5.0",
      "model_name": "VBoxModel",
      "state": {
       "children": [
        "IPY_MODEL_2da24e74557f4ed98339f92acd678d4c",
        "IPY_MODEL_719974bc4eb24c638e5f33d8a7b78fee"
       ],
       "layout": "IPY_MODEL_206fef80a0f7436c9823ffeff1bfc660"
      }
     },
     "f0991ec3a85949969f239b63a252dc6f": {
      "model_module": "@jupyter-widgets/controls",
      "model_module_version": "1.5.0",
      "model_name": "ButtonStyleModel",
      "state": {}
     },
     "f0a14fa8bc374456a07dc9b79415475f": {
      "model_module": "@jupyter-widgets/controls",
      "model_module_version": "1.5.0",
      "model_name": "VBoxModel",
      "state": {
       "children": [
        "IPY_MODEL_3c9442fb4b7d4cbd955d2160c1b8842d",
        "IPY_MODEL_ca42c65ead7345dfa377834f3ca54beb"
       ],
       "layout": "IPY_MODEL_6a3271802fd9456393050f706cbe79c4"
      }
     },
     "f0a507d3b129494ab7d275d1a57c1c20": {
      "model_module": "@jupyter-widgets/controls",
      "model_module_version": "1.5.0",
      "model_name": "ButtonStyleModel",
      "state": {}
     },
     "f0fd1ae69c7d481288c4f11271a352c6": {
      "model_module": "@jupyter-widgets/controls",
      "model_module_version": "1.5.0",
      "model_name": "HBoxModel",
      "state": {
       "children": [
        "IPY_MODEL_0eef8906f8d340ca851fce463e0a0a98",
        "IPY_MODEL_378f74446bf146219e4b0774f956ba4f",
        "IPY_MODEL_883d88ecf0cd4b92ae6fb5ae0661551f"
       ],
       "layout": "IPY_MODEL_3cbd02d8a0354d9dbfe2ee77c94b3aaf"
      }
     },
     "f0fdb30ccd5f4fb38bbf161aa7041635": {
      "model_module": "@jupyter-widgets/controls",
      "model_module_version": "1.5.0",
      "model_name": "DescriptionStyleModel",
      "state": {
       "description_width": ""
      }
     },
     "f1821fe1f6c4489b893cd1f688533f8d": {
      "model_module": "@jupyter-widgets/controls",
      "model_module_version": "1.5.0",
      "model_name": "DescriptionStyleModel",
      "state": {
       "description_width": "initial"
      }
     },
     "f1ac438f71e9411296c69a221f634e74": {
      "model_module": "@jupyter-widgets/output",
      "model_module_version": "1.0.0",
      "model_name": "OutputModel",
      "state": {
       "layout": "IPY_MODEL_a971bf71f3af4d99847a6bc161977050",
       "outputs": [
        {
         "data": {
          "image/png": "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\n",
          "text/plain": "<Figure size 720x720 with 1 Axes>"
         },
         "metadata": {
          "needs_background": "light"
         },
         "output_type": "display_data"
        }
       ]
      }
     },
     "f1cf5b08c0ff41da90e65edfe5eb7883": {
      "model_module": "@jupyter-widgets/controls",
      "model_module_version": "1.5.0",
      "model_name": "SliderStyleModel",
      "state": {
       "description_width": ""
      }
     },
     "f1d6f8bf8fac46e88a82ecb0d60296ef": {
      "model_module": "@jupyter-widgets/controls",
      "model_module_version": "1.5.0",
      "model_name": "LabelModel",
      "state": {
       "layout": "IPY_MODEL_22a738cfdf6349ebab939c4fb05b4ab6",
       "style": "IPY_MODEL_99a3dc0e8d424824a68bcab4382320f0",
       "value": "Monitoring folder"
      }
     },
     "f1dded0b0142401f80fcc7788bbfe6d9": {
      "model_module": "@jupyter-widgets/controls",
      "model_module_version": "1.5.0",
      "model_name": "SelectModel",
      "state": {
       "_options_labels": [
        "..",
        "Temp",
        "dask-worker-space",
        "Crossplot.html",
        "FlinFlon.geoh5",
        "FlinFlon_light.geoh5",
        "MtDore_TMI.geoh5"
       ],
       "index": 4,
       "layout": "IPY_MODEL_8c1ad73cf64348dcbaa195f0fe4feb8a",
       "rows": 8,
       "style": "IPY_MODEL_e2e6802d63f545b5b07a9414c7ca3f82"
      }
     },
     "f1efaef26b394c88b7fbd9256cb3d0a5": {
      "model_module": "@jupyter-widgets/base",
      "model_module_version": "1.2.0",
      "model_name": "LayoutModel",
      "state": {}
     },
     "f22965cbd95e420eb231515ea838f374": {
      "model_module": "@jupyter-widgets/controls",
      "model_module_version": "1.5.0",
      "model_name": "ToggleButtonModel",
      "state": {
       "layout": "IPY_MODEL_18ee0b32fa9e4b979f3dca93a9dcc95d",
       "style": "IPY_MODEL_58687b60571f41749b5c66c46e5d6011",
       "value": true
      }
     },
     "f23df65284e64257a2b53d28313ab83c": {
      "model_module": "@jupyter-widgets/base",
      "model_module_version": "1.2.0",
      "model_name": "LayoutModel",
      "state": {
       "grid_area": "dircontent",
       "width": "auto"
      }
     },
     "f2418c93848748588f3368c0da49bf09": {
      "model_module": "@jupyter-widgets/controls",
      "model_module_version": "1.5.0",
      "model_name": "SliderStyleModel",
      "state": {
       "description_width": ""
      }
     },
     "f2466cb536474c32be22a4d46cce0191": {
      "model_module": "@jupyter-widgets/controls",
      "model_module_version": "1.5.0",
      "model_name": "DescriptionStyleModel",
      "state": {
       "description_width": "initial"
      }
     },
     "f25d37d5b36847f6ac678dce46dbfb61": {
      "model_module": "@jupyter-widgets/controls",
      "model_module_version": "1.5.0",
      "model_name": "DescriptionStyleModel",
      "state": {
       "description_width": ""
      }
     },
     "f28341f546a142e1a9ddaba4355b9914": {
      "model_module": "@jupyter-widgets/controls",
      "model_module_version": "1.5.0",
      "model_name": "FloatTextModel",
      "state": {
       "description": "Grid Resolution (m)",
       "layout": "IPY_MODEL_3231f9f4e1964145b908fb39bde27eff",
       "step": null,
       "style": "IPY_MODEL_29baca2b981247eb9556cba9272cfa1c"
      }
     },
     "f28f3a512cf94a1f828bab7101b75988": {
      "model_module": "@jupyter-widgets/base",
      "model_module_version": "1.2.0",
      "model_name": "LayoutModel",
      "state": {}
     },
     "f2b2ff41ee664e6ebb6da4d23c3f9733": {
      "model_module": "@jupyter-widgets/controls",
      "model_module_version": "1.5.0",
      "model_name": "DescriptionStyleModel",
      "state": {
       "description_width": ""
      }
     },
     "f2c774df8a474d19b76338e65a9ea71e": {
      "model_module": "@jupyter-widgets/controls",
      "model_module_version": "1.5.0",
      "model_name": "ButtonModel",
      "state": {
       "description": "Change",
       "layout": "IPY_MODEL_2dcc498bae8143d1abe372a703438029",
       "style": "IPY_MODEL_43abcb57d55c4614875185bd22a983aa"
      }
     },
     "f2d2c77ae82d4e2d8a83073f2d69f2c6": {
      "model_module": "@jupyter-widgets/controls",
      "model_module_version": "1.5.0",
      "model_name": "DropdownModel",
      "state": {
       "_options_labels": [
        "",
        "--- Channels ---",
        "Airborne_Gxx",
        "Airborne_Gxy",
        "Airborne_Gxz",
        "Airborne_Gyy",
        "Airborne_Gyz",
        "Airborne_Gz",
        "Airborne_Gzz",
        "Airborne_TMI",
        "Ground_Gz",
        "Z"
       ],
       "description": "Data: ",
       "index": 9,
       "layout": "IPY_MODEL_915c1e1e469047798f68cd30239004b1",
       "style": "IPY_MODEL_4e64a4a7995d4ff0898d16d11bd52b91"
      }
     },
     "f36812f842714aa7bb71c5613231713b": {
      "model_module": "@jupyter-widgets/base",
      "model_module_version": "1.2.0",
      "model_name": "LayoutModel",
      "state": {
       "display": "none",
       "grid_gap": "0px 0px",
       "grid_template_areas": "\n                    'pathlist filename'\n                    'dircontent dircontent'\n                    ",
       "grid_template_columns": "60% 40%",
       "grid_template_rows": "auto auto",
       "width": "500px"
      }
     },
     "f36d590af2364cb5a7a260a2c93e7266": {
      "model_module": "@jupyter-widgets/controls",
      "model_module_version": "1.5.0",
      "model_name": "GridBoxModel",
      "state": {
       "children": [
        "IPY_MODEL_5e9b8d2797dd4200945ba02257c6ed3d",
        "IPY_MODEL_e46b556416c64f13a1bc768b075f26ea",
        "IPY_MODEL_9d286d20f3534f69be97268835c7a75c"
       ],
       "layout": "IPY_MODEL_1adf49b762bf40589824436ef4fff5cd"
      }
     },
     "f3a59bb2819447abb746d47d78ef3fb8": {
      "model_module": "@jupyter-widgets/base",
      "model_module_version": "1.2.0",
      "model_name": "LayoutModel",
      "state": {}
     },
     "f3f9449ddbb24c9f89650106b1135f74": {
      "model_module": "@jupyter-widgets/controls",
      "model_module_version": "1.5.0",
      "model_name": "DescriptionStyleModel",
      "state": {
       "description_width": ""
      }
     },
     "f3feb35821674e278f107320a4d5a22a": {
      "model_module": "@jupyter-widgets/controls",
      "model_module_version": "1.5.0",
      "model_name": "GridBoxModel",
      "state": {
       "children": [
        "IPY_MODEL_7c96d8aabe9c4cc4aff414536915fab8",
        "IPY_MODEL_31160b0c5d664150843511e4266c80f4",
        "IPY_MODEL_0fb7e0fe59d54ae595f6d1331a7013ce"
       ],
       "layout": "IPY_MODEL_0c0701d0ecfb477694e0fdd342f8d427"
      }
     },
     "f415a0599d4c4dccb93b1acbae0536ce": {
      "model_module": "@jupyter-widgets/controls",
      "model_module_version": "1.5.0",
      "model_name": "DescriptionStyleModel",
      "state": {
       "description_width": ""
      }
     },
     "f43eca1265f14a288b5b605cba8088f1": {
      "model_module": "@jupyter-widgets/controls",
      "model_module_version": "1.5.0",
      "model_name": "DescriptionStyleModel",
      "state": {
       "description_width": "initial"
      }
     },
     "f4c8842b9b514d3686eadb72f13cc01c": {
      "model_module": "@jupyter-widgets/controls",
      "model_module_version": "1.5.0",
      "model_name": "VBoxModel",
      "state": {
       "children": [
        "IPY_MODEL_0a3c069cf0df4c56b9c6c5884f35111d",
        "IPY_MODEL_ef52f647118e4684a74c7b880e74a2f5",
        "IPY_MODEL_15fdd56137a24aaaba28ea8e4605fb37"
       ],
       "layout": "IPY_MODEL_fade38dd9a874c2a9f24c392e7db83f7"
      }
     },
     "f5301ee2630d4971a37b674ca2b61bff": {
      "model_module": "@jupyter-widgets/controls",
      "model_module_version": "1.5.0",
      "model_name": "VBoxModel",
      "state": {
       "children": [
        "IPY_MODEL_30fe94cb246244ee94c1beb4b78a1753",
        "IPY_MODEL_a82ffddc572b4429b8d8b92a576c4797",
        "IPY_MODEL_e789551986194dcfa98df7e464208c02",
        "IPY_MODEL_c707190e5ca0438db7143228230a33a5",
        "IPY_MODEL_3ed5f45aebce484b84dcec5137798923"
       ],
       "layout": "IPY_MODEL_83cdac316d5643fda1c77c83505a18b4"
      }
     },
     "f535ac30264049ef9cd3ffbb79517324": {
      "model_module": "@jupyter-widgets/base",
      "model_module_version": "1.2.0",
      "model_name": "LayoutModel",
      "state": {}
     },
     "f56e45052b3b4c97b89f16ec45069fee": {
      "model_module": "@jupyter-widgets/output",
      "model_module_version": "1.0.0",
      "model_name": "OutputModel",
      "state": {
       "layout": "IPY_MODEL_c75f8f1a11eb4c668b0a308419459dc6",
       "outputs": [
        {
         "data": {
          "image/png": "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\n",
          "text/plain": "<Figure size 720x720 with 1 Axes>"
         },
         "metadata": {
          "needs_background": "light"
         },
         "output_type": "display_data"
        }
       ]
      }
     },
     "f6040ef1268545d7b8b7214abf03882f": {
      "model_module": "@jupyter-widgets/controls",
      "model_module_version": "1.5.0",
      "model_name": "DropdownModel",
      "state": {
       "_options_labels": [
        "",
        "--- Channels ---",
        "Airborne_Gxx",
        "Airborne_Gxy",
        "Airborne_Gxz",
        "Airborne_Gyy",
        "Airborne_Gyz",
        "Airborne_Gz",
        "Airborne_Gzz",
        "Airborne_TMI",
        "Ground_Gz",
        "Z"
       ],
       "description": "Data: ",
       "index": 9,
       "layout": "IPY_MODEL_bc1c245792d8466ebad0d7e7bc36a0f1",
       "style": "IPY_MODEL_6226e486969e4583bebdf109d7208a35"
      }
     },
     "f6154e93f1c240ef890e4efd9e38e86b": {
      "model_module": "@jupyter-widgets/controls",
      "model_module_version": "1.5.0",
      "model_name": "DescriptionStyleModel",
      "state": {
       "description_width": "initial"
      }
     },
     "f61a0da10c51451f9b6508aa9d5be6fa": {
      "model_module": "@jupyter-widgets/base",
      "model_module_version": "1.2.0",
      "model_name": "LayoutModel",
      "state": {}
     },
     "f68c96c4472d4dd08b5f3e6c8220cb29": {
      "model_module": "@jupyter-widgets/base",
      "model_module_version": "1.2.0",
      "model_name": "LayoutModel",
      "state": {}
     },
     "f6dc42366b814b309c38bcd4d5a0dbad": {
      "model_module": "@jupyter-widgets/controls",
      "model_module_version": "1.5.0",
      "model_name": "VBoxModel",
      "state": {
       "children": [
        "IPY_MODEL_b6dae48a90564e3c841e985a7b03a0ec"
       ],
       "layout": "IPY_MODEL_0252975698d54c7b8ba360a546a255d0"
      }
     },
     "f75c177dedf244218af55d5b2eca64b3": {
      "model_module": "@jupyter-widgets/base",
      "model_module_version": "1.2.0",
      "model_name": "LayoutModel",
      "state": {}
     },
     "f7866c32f49c4a549189aa9d07e3fbe6": {
      "model_module": "@jupyter-widgets/controls",
      "model_module_version": "1.5.0",
      "model_name": "FloatTextModel",
      "state": {
       "description": "Grid Resolution (m)",
       "layout": "IPY_MODEL_7fc895a60db14df7b89acb1c038e3a77",
       "step": null,
       "style": "IPY_MODEL_179b8ba18f2d477998d35557db0029ba"
      }
     },
     "f7f72d7e14ac423bbd7bb9ed9ca126a5": {
      "model_module": "@jupyter-widgets/controls",
      "model_module_version": "1.5.0",
      "model_name": "DropdownModel",
      "state": {
       "_options_labels": [
        "",
        "fault_splay1",
        "fault_Cliff_Lake",
        "fault_Other_FlinFlon",
        "fault_Club_Lake_splay",
        "fault_Catherine_splay2",
        "fault_Birch_View",
        "fault_Dion_Lake",
        "fault_FlinFlon_splay",
        "fault_West_Mandy_Road",
        "fault_Channing",
        "fault_Ross_Lake",
        "fault_Louis_Hidden",
        "fault_Lake_View_thrust",
        "contact_Schist_Lake",
        "fault_Burley_Lake",
        "fault_Dion_Lake_splay",
        "fault_Green_Lake",
        "fault_FlinFlon",
        "fault_Catherine_splay1",
        "fault_East_Mandy_Road",
        "fault_Other_FlinFlon_South",
        "fault_Catherine_splay4",
        "contact_Stitt_Island",
        "fault_Club_Lake",
        "fault_Tailing_Pond",
        "35_Hidden_Reservoir_Hr5",
        "29_Hidden_Reservoir_Hr1a",
        "60_BlueLagoon_Fb2",
        "20_FlinFlon_Undivided_Int_Dykes_D2f",
        "04_Boundary_Intrusive_S4h",
        "53_Millrock_Rhyolite_Fm4b",
        "19_FlinFlon_Undivided_Int_Dykes_D2b",
        "18_FlinFlon_Undivided_Int_Dykes_777_D2b",
        "06_Phantom_Lake_Intrusive_S3a",
        "21_FlinFlon_Undivided_Int_Dykes_D3a",
        "43_Millrock_CHLSH_South",
        "56_Millrock_Basalt_Fm1ba",
        "17_FlinFlon_Undivided_Int_Dykes_D2",
        "32_Hidden_Reservoir_Hr1b_SW",
        "11_Missi_M3_NE",
        "13_Missi_M1",
        "07_Annabel_Granitoid_S1",
        "45_Millrock_Gabbro_South",
        "01_Late_Intrusive_S5b",
        "31_Hidden_Reservoir_Hr1c_SW",
        "52_Millrock_Rhyolite_Fm4_West_check",
        "55_Millrock_Basalt_Fm1bf",
        "34_Hidden_Reservoir_Hr2b",
        "03_Boundary_Intrusive_S4b",
        "42_Millrock_CHLSH_North",
        "26_Louis_L3",
        "23_FlinFlon_Undivided_Int_Felsic_D4g",
        "30_Hidden_Reservoir_Hr1b",
        "59_BlueLagoon_Fb3",
        "49_Millrock_MVR_Fm5d",
        "44_Millrock_Gabbro_North",
        "27_Hidden_Carlisle_Hc4",
        "22_FlinFlon_Undivided_Int_Felsic_D4e",
        "02_Boundary_Intrusive_S4a",
        "61_BlueLagoon_Fb1_NW",
        "05_Boundary_Intrusive_S4g",
        "39_Ore_Callinan",
        "38_Ore_Dan_Owens",
        "40_Ore_FlinFlon",
        "Inversion_VTEM_Model",
        "Gravity_Magnetics_drape60m",
        "CDI_VTEM_model",
        "Data_FEM_pseudo3D",
        "O2O_Interp_25m",
        "geochem",
        "Inversion_DIGHEM_Model",
        "Topography",
        "Data_TEM_pseudo3D"
       ],
       "description": "Object:",
       "index": 66,
       "layout": "IPY_MODEL_5c114d2cf5304913ae84d566cb49a47e",
       "style": "IPY_MODEL_1c2c6a84b85f4a479d7dffc2011f7faa"
      }
     },
     "f84e4d994659451ba565e75d33573e84": {
      "model_module": "@jupyter-widgets/controls",
      "model_module_version": "1.5.0",
      "model_name": "ButtonModel",
      "state": {
       "description": "Cancel",
       "layout": "IPY_MODEL_a7c33e6c4b71409682b7778927e7479e",
       "style": "IPY_MODEL_ff8f054ffdd04a7f89fc061e3b1a14af"
      }
     },
     "f8e08250fc47431d90086b86e7d98540": {
      "model_module": "@jupyter-widgets/controls",
      "model_module_version": "1.5.0",
      "model_name": "TextModel",
      "state": {
       "continuous_update": false,
       "description": "Contours",
       "layout": "IPY_MODEL_b8f9c8a20926442ab9d3f4ef9f5326df",
       "style": "IPY_MODEL_655083cc471a4c8497993a699d18bf5c"
      }
     },
     "f8f0b0f0f00e464e8a733f52965cda7c": {
      "model_module": "@jupyter-widgets/controls",
      "model_module_version": "1.5.0",
      "model_name": "HBoxModel",
      "state": {
       "children": [
        "IPY_MODEL_b1c41b3030454df7a22208e77eb40528",
        "IPY_MODEL_32802437ae584a53b48a2993f12dbb87"
       ],
       "layout": "IPY_MODEL_9d183345c274426fb284b28b25ce0a3d"
      }
     },
     "f9097380de22448d89cdf5f3d39c79d1": {
      "model_module": "@jupyter-widgets/base",
      "model_module_version": "1.2.0",
      "model_name": "LayoutModel",
      "state": {
       "display": "none",
       "width": "auto"
      }
     },
     "f92a61b35874493e857ff46d0a4ded64": {
      "model_module": "@jupyter-widgets/controls",
      "model_module_version": "1.5.0",
      "model_name": "GridBoxModel",
      "state": {
       "children": [
        "IPY_MODEL_f93911e91bcd4657a9dbddd23e5392dc",
        "IPY_MODEL_9f0f660b92974b0cb09dc23526e4eb89",
        "IPY_MODEL_907ab834ed05463a90f8c31f9fbe48e7"
       ],
       "layout": "IPY_MODEL_c60ee3b89bdc4041bfac401fb187bc3c"
      }
     },
     "f93911e91bcd4657a9dbddd23e5392dc": {
      "model_module": "@jupyter-widgets/controls",
      "model_module_version": "1.5.0",
      "model_name": "DropdownModel",
      "state": {
       "_options_labels": [
        "C:\\Users\\dominiquef\\Documents\\GIT\\mira\\mirageoscience-apps\\assets",
        "C:\\Users\\dominiquef\\Documents\\GIT\\mira\\mirageoscience-apps",
        "C:\\Users\\dominiquef\\Documents\\GIT\\mira",
        "C:\\Users\\dominiquef\\Documents\\GIT",
        "C:\\Users\\dominiquef\\Documents",
        "C:\\Users\\dominiquef",
        "C:\\Users",
        "C:\\",
        "D:\\",
        "Z:\\"
       ],
       "index": 0,
       "layout": "IPY_MODEL_759abfc3fe4f4f10ae325ccac5f22f07",
       "style": "IPY_MODEL_9d666606ecf34a17aff61ea8d6024e6d"
      }
     },
     "f94ae840ee6545bca56290651acfdfb1": {
      "model_module": "@jupyter-widgets/base",
      "model_module_version": "1.2.0",
      "model_name": "LayoutModel",
      "state": {}
     },
     "f961af4d59fe47e4863a1c1744f5de40": {
      "model_module": "@jupyter-widgets/base",
      "model_module_version": "1.2.0",
      "model_name": "LayoutModel",
      "state": {
       "grid_area": "dircontent",
       "width": "auto"
      }
     },
     "f97c8db9818040819a670c1e0f91d967": {
      "model_module": "@jupyter-widgets/controls",
      "model_module_version": "1.5.0",
      "model_name": "ToggleButtonModel",
      "state": {
       "description": "Zoom on selection",
       "icon": "check",
       "layout": "IPY_MODEL_fca96cc4073043fab74ccd7eed1e0790",
       "style": "IPY_MODEL_035cf254b73d494597c1d9963e414391",
       "value": true
      }
     },
     "f98b5a5d612343ebbdbd666d951f7a13": {
      "model_module": "@jupyter-widgets/base",
      "model_module_version": "1.2.0",
      "model_name": "LayoutModel",
      "state": {
       "display": "none",
       "grid_gap": "0px 0px",
       "grid_template_areas": "\n                    'pathlist filename'\n                    'dircontent dircontent'\n                    ",
       "grid_template_columns": "60% 40%",
       "grid_template_rows": "auto auto",
       "width": "500px"
      }
     },
     "f98dabf168914d17993776519f0e0d7c": {
      "model_module": "@jupyter-widgets/base",
      "model_module_version": "1.2.0",
      "model_name": "LayoutModel",
      "state": {}
     },
     "f9e40347129f4c2e901ee1dc32b1e44f": {
      "model_module": "@jupyter-widgets/base",
      "model_module_version": "1.2.0",
      "model_name": "LayoutModel",
      "state": {
       "width": "auto"
      }
     },
     "fa0346d480ac4e6d927707b3d9d545c3": {
      "model_module": "@jupyter-widgets/base",
      "model_module_version": "1.2.0",
      "model_name": "LayoutModel",
      "state": {}
     },
     "fa27e2cf28884797b84ba9cec412e726": {
      "model_module": "@jupyter-widgets/controls",
      "model_module_version": "1.5.0",
      "model_name": "SliderStyleModel",
      "state": {
       "description_width": ""
      }
     },
     "faba51404d2045ba909933260f8e6550": {
      "model_module": "@jupyter-widgets/controls",
      "model_module_version": "1.5.0",
      "model_name": "DescriptionStyleModel",
      "state": {
       "description_width": ""
      }
     },
     "fade38dd9a874c2a9f24c392e7db83f7": {
      "model_module": "@jupyter-widgets/base",
      "model_module_version": "1.2.0",
      "model_name": "LayoutModel",
      "state": {
       "width": "auto"
      }
     },
     "faeb540bffb24cb798b070d9aec796bb": {
      "model_module": "@jupyter-widgets/base",
      "model_module_version": "1.2.0",
      "model_name": "LayoutModel",
      "state": {
       "grid_area": "filename",
       "width": "auto"
      }
     },
     "fb364652cb624aabafc1af9946b74542": {
      "model_module": "@jupyter-widgets/controls",
      "model_module_version": "1.5.0",
      "model_name": "VBoxModel",
      "state": {
       "children": [
        "IPY_MODEL_c447b31c64e5413eb9f999e89f583b42"
       ],
       "layout": "IPY_MODEL_1899bee5dc534872a2e5b2546dcfcf8b"
      }
     },
     "fb4f720fddb444e68e29d40e83f72c5e": {
      "model_module": "@jupyter-widgets/base",
      "model_module_version": "1.2.0",
      "model_name": "LayoutModel",
      "state": {}
     },
     "fb50d4c3e58645a59de2431ee4717a3c": {
      "model_module": "@jupyter-widgets/controls",
      "model_module_version": "1.5.0",
      "model_name": "DescriptionStyleModel",
      "state": {
       "description_width": ""
      }
     },
     "fb63f340d0d34317b12047da31fd392b": {
      "model_module": "@jupyter-widgets/controls",
      "model_module_version": "1.5.0",
      "model_name": "DescriptionStyleModel",
      "state": {
       "description_width": ""
      }
     },
     "fb87fafce1214fbea40b56f0becaa380": {
      "model_module": "@jupyter-widgets/controls",
      "model_module_version": "1.5.0",
      "model_name": "DescriptionStyleModel",
      "state": {
       "description_width": ""
      }
     },
     "fba858f06ffa47f687a0a8021b45d8ba": {
      "model_module": "@jupyter-widgets/controls",
      "model_module_version": "1.5.0",
      "model_name": "DescriptionStyleModel",
      "state": {
       "description_width": ""
      }
     },
     "fbedfc2309dd4fd588458563b66f8d4d": {
      "model_module": "@jupyter-widgets/controls",
      "model_module_version": "1.5.0",
      "model_name": "DescriptionStyleModel",
      "state": {
       "description_width": ""
      }
     },
     "fc510fd6a1cc405eb44334f1d2f04792": {
      "model_module": "@jupyter-widgets/controls",
      "model_module_version": "1.5.0",
      "model_name": "TextModel",
      "state": {
       "layout": "IPY_MODEL_83f2485b1c6b4995b13e3f27fb0243a8",
       "placeholder": "output filename",
       "style": "IPY_MODEL_fb87fafce1214fbea40b56f0becaa380",
       "value": "FlinFlon.geoh5"
      }
     },
     "fc79af440c6644d38c060a53c38fd05b": {
      "model_module": "@jupyter-widgets/controls",
      "model_module_version": "1.5.0",
      "model_name": "FloatSliderModel",
      "state": {
       "continuous_update": false,
       "description": "Height",
       "layout": "IPY_MODEL_b3767b220e9644e7b96bb2e61cb1e115",
       "max": 11351.865002485923,
       "orientation": "vertical",
       "step": 0.1,
       "style": "IPY_MODEL_f1cf5b08c0ff41da90e65edfe5eb7883",
       "value": 5675.932501242962
      }
     },
     "fc8e8676051547e09e264766387ee69a": {
      "model_module": "@jupyter-widgets/controls",
      "model_module_version": "1.5.0",
      "model_name": "SliderStyleModel",
      "state": {
       "description_width": ""
      }
     },
     "fc97733cb76e4c42b232ebc829cad682": {
      "model_module": "@jupyter-widgets/base",
      "model_module_version": "1.2.0",
      "model_name": "LayoutModel",
      "state": {}
     },
     "fc9db2cfb300461a9c266b220d982b81": {
      "model_module": "@jupyter-widgets/controls",
      "model_module_version": "1.5.0",
      "model_name": "VBoxModel",
      "state": {
       "children": [
        "IPY_MODEL_9f0cf833bfeb4f01b234adab71fe0ee3",
        "IPY_MODEL_a7a410336ebb4ac5b137860aa09a2ac1",
        "IPY_MODEL_5e2f4c4d66d143c3a65ecc02487966a2",
        "IPY_MODEL_79573894ee544371bd059c48abd310a7",
        "IPY_MODEL_87ac0f2988a94e15a1c27365958a1df0"
       ],
       "layout": "IPY_MODEL_09394a09b4a74e1091ea586f592ff666"
      }
     },
     "fca96cc4073043fab74ccd7eed1e0790": {
      "model_module": "@jupyter-widgets/base",
      "model_module_version": "1.2.0",
      "model_name": "LayoutModel",
      "state": {}
     },
     "fccaac584cb14e81b7f6ade9c6919339": {
      "model_module": "@jupyter-widgets/controls",
      "model_module_version": "1.5.0",
      "model_name": "DescriptionStyleModel",
      "state": {
       "description_width": ""
      }
     },
     "fcd876a05a6745b7b8795803837827e8": {
      "model_module": "@jupyter-widgets/base",
      "model_module_version": "1.2.0",
      "model_name": "LayoutModel",
      "state": {}
     },
     "fce44eaf03e54884b56039fc68b69008": {
      "model_module": "@jupyter-widgets/controls",
      "model_module_version": "1.5.0",
      "model_name": "ButtonModel",
      "state": {
       "description": "Create copy:",
       "layout": "IPY_MODEL_e0e236d2ae014279ac404e5e9db4fb5f",
       "style": "IPY_MODEL_dce2fde643914336997883b074e009f9"
      }
     },
     "fcff0789d3c845a9a2ba882e5300ebfe": {
      "model_module": "@jupyter-widgets/controls",
      "model_module_version": "1.5.0",
      "model_name": "DescriptionStyleModel",
      "state": {
       "description_width": ""
      }
     },
     "fd18cbc23f3d4e3da9bd31ff3e2280be": {
      "model_module": "@jupyter-widgets/controls",
      "model_module_version": "1.5.0",
      "model_name": "DescriptionStyleModel",
      "state": {
       "description_width": "initial"
      }
     },
     "fd8c118cdd3e483d8012c723bd22fe3d": {
      "model_module": "@jupyter-widgets/base",
      "model_module_version": "1.2.0",
      "model_name": "LayoutModel",
      "state": {}
     },
     "fd9ca95f72bc4942bef2a15117204b37": {
      "model_module": "@jupyter-widgets/base",
      "model_module_version": "1.2.0",
      "model_name": "LayoutModel",
      "state": {
       "display": "none",
       "width": "auto"
      }
     },
     "fe68e31a821d493f9842b12bc81397ad": {
      "model_module": "@jupyter-widgets/base",
      "model_module_version": "1.2.0",
      "model_name": "LayoutModel",
      "state": {}
     },
     "feda683a86314cf4bfa1a234b1e30ff2": {
      "model_module": "@jupyter-widgets/controls",
      "model_module_version": "1.5.0",
      "model_name": "HBoxModel",
      "state": {
       "children": [
        "IPY_MODEL_2debed4a268449b190e293fee00b38f9",
        "IPY_MODEL_df37bbec5b484742a44b4d0299841e0d"
       ],
       "layout": "IPY_MODEL_e41a773d4d23408c8eb4f2cfc06966bf"
      }
     },
     "ff8f054ffdd04a7f89fc061e3b1a14af": {
      "model_module": "@jupyter-widgets/controls",
      "model_module_version": "1.5.0",
      "model_name": "ButtonStyleModel",
      "state": {}
     },
     "ffbd33af9271428782d00b7a8c2a5324": {
      "model_module": "@jupyter-widgets/controls",
      "model_module_version": "1.5.0",
      "model_name": "HTMLModel",
      "state": {
       "layout": "IPY_MODEL_e6b2746ddab54d82bad21193a2e41917",
       "placeholder": "",
       "style": "IPY_MODEL_8b8ab003751a49a78d03651e58009a32",
       "value": "<span style=\"margin-left:10px; color:orange;\">C:\\Users\\dominiquef\\Documents\\GIT\\mira\\mirageoscience-apps\\assets\\FlinFlon.geoh5</span>"
      }
     },
     "ffc5c1496d99434abcb60dec94f15749": {
      "model_module": "@jupyter-widgets/base",
      "model_module_version": "1.2.0",
      "model_name": "LayoutModel",
      "state": {
       "grid_area": "dircontent",
       "width": "auto"
      }
     },
     "ffc808d478b94962aac45b46d56accda": {
      "model_module": "@jupyter-widgets/controls",
      "model_module_version": "1.5.0",
      "model_name": "HBoxModel",
      "state": {
       "children": [
        "IPY_MODEL_5f214da6e20d4e409a11931f91e6d286",
        "IPY_MODEL_4cf7de4efc324d23833829c3d3f35d77",
        "IPY_MODEL_cb1fcc58266042e68091f2cffdf12b42"
       ],
       "layout": "IPY_MODEL_286826dd51264f2895caebb744a8d357"
      }
     },
     "ffda5f02e0424317b8471a6e30ab8d28": {
      "model_module": "@jupyter-widgets/base",
      "model_module_version": "1.2.0",
      "model_name": "LayoutModel",
      "state": {}
     },
     "ffef53b161f9474a9e73b99eaff48f34": {
      "model_module": "@jupyter-widgets/base",
      "model_module_version": "1.2.0",
      "model_name": "LayoutModel",
      "state": {}
     }
    },
    "version_major": 2,
    "version_minor": 0
   }
  }
 },
 "nbformat": 4,
 "nbformat_minor": 4
}

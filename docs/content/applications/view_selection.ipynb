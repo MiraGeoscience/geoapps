{
 "cells": [
  {
   "cell_type": "markdown",
   "metadata": {},
   "source": [
    "# Map View Selection\n",
    "\n",
    "With this application, users can select and downsample data interactively in 2D plan view.\n",
    "\n",
    " <img align=\"right\" width=\"50%\" src=\"./images/plot_selection.png\">  \n",
    " \n",
    "\n",
    "New user? Visit the [Getting Started](../installation.rst) page."
   ]
  },
  {
   "cell_type": "markdown",
   "metadata": {},
   "source": [
    "## Application\n",
    "The following sections provide details on the different parameters controling the application. Interactive widgets shown below are for demonstration purposes only."
   ]
  },
  {
   "cell_type": "code",
   "execution_count": 1,
   "metadata": {
    "scrolled": false
   },
   "outputs": [
    {
     "data": {
      "application/vnd.jupyter.widget-view+json": {
       "model_id": "eb34319da5544b9d911a354827596ff7",
       "version_major": 2,
       "version_minor": 0
      },
      "text/plain": [
       "VBox(children=(VBox(children=(Dropdown(description='Object:', index=66, options=('', 'fault_splay1', 'fault_Cl…"
      ]
     },
     "metadata": {},
     "output_type": "display_data"
    }
   ],
   "source": [
    "from geoapps.plotting import PlotSelection2D\n",
    "\n",
    "app = PlotSelection2D(h5file=r\"../../../assets/FlinFlon.geoh5\")\n",
    "app.main"
   ]
  },
  {
   "cell_type": "markdown",
   "metadata": {},
   "source": [
    "## Object/Data Selection\n",
    "\n",
    "List of objects available to pull data from. "
   ]
  },
  {
   "cell_type": "code",
   "execution_count": 2,
   "metadata": {
    "scrolled": true
   },
   "outputs": [
    {
     "data": {
      "application/vnd.jupyter.widget-view+json": {
       "model_id": "5dc6f4de55a74e23ae94923fb6e3869c",
       "version_major": 2,
       "version_minor": 0
      },
      "text/plain": [
       "VBox(children=(Dropdown(description='Object:', index=66, options=('', 'fault_splay1', 'fault_Cliff_Lake', 'fau…"
      ]
     },
     "metadata": {},
     "output_type": "display_data"
    }
   ],
   "source": [
    "app.data_panel"
   ]
  },
  {
   "cell_type": "markdown",
   "metadata": {},
   "source": [
    "See the [Object Selection](object_data_selection.ipynb) page for more details."
   ]
  },
  {
   "cell_type": "markdown",
   "metadata": {},
   "source": [
    "## Resolution\n",
    "\n",
    "Determine the minimum distance between data points. "
   ]
  },
  {
   "cell_type": "code",
   "execution_count": 3,
   "metadata": {
    "scrolled": true
   },
   "outputs": [
    {
     "data": {
      "application/vnd.jupyter.widget-view+json": {
       "model_id": "f28341f546a142e1a9ddaba4355b9914",
       "version_major": 2,
       "version_minor": 0
      },
      "text/plain": [
       "FloatText(value=0.0, description='Grid Resolution (m)', style=DescriptionStyle(description_width='initial'))"
      ]
     },
     "metadata": {},
     "output_type": "display_data"
    }
   ],
   "source": [
    "app.resolution"
   ]
  },
  {
   "cell_type": "markdown",
   "metadata": {},
   "source": [
    "For `Grid2D` objects, the resolution of the grid is downsampled uniformely to the nearest interval. For example, requesting a 15 m minimum resolution on a 10 m base grid will result in a 20 m sub-sampling. \n",
    "\n",
    "For `Points`, `Curve` and `Surface` objects, the downsampling is done radially using the [Scipy.spatial.cKDTree](https://docs.scipy.org/doc/scipy/reference/generated/scipy.spatial.cKDTree.html) routine."
   ]
  },
  {
   "cell_type": "markdown",
   "metadata": {},
   "source": [
    "## Window Selection\n",
    "\n",
    "Manual selection of an area of interest and data resolution."
   ]
  },
  {
   "cell_type": "markdown",
   "metadata": {},
   "source": [
    "### Northing\n",
    "\n",
    "Vertical center position (m)"
   ]
  },
  {
   "cell_type": "code",
   "execution_count": 4,
   "metadata": {
    "scrolled": true
   },
   "outputs": [
    {
     "data": {
      "application/vnd.jupyter.widget-view+json": {
       "model_id": "a11565466e6243f09d0c7af9b51bf61f",
       "version_major": 2,
       "version_minor": 0
      },
      "text/plain": [
       "FloatSlider(value=6070767.719610019, continuous_update=False, description='Northing', max=6076443.652111261, m…"
      ]
     },
     "metadata": {},
     "output_type": "display_data"
    }
   ],
   "source": [
    "app.center_y"
   ]
  },
  {
   "cell_type": "markdown",
   "metadata": {},
   "source": [
    "### Easting\n",
    "\n",
    "Horizontal center position (m)"
   ]
  },
  {
   "cell_type": "code",
   "execution_count": 5,
   "metadata": {
    "scrolled": false
   },
   "outputs": [
    {
     "data": {
      "application/vnd.jupyter.widget-view+json": {
       "model_id": "da724d29d3c04cada25ed9a30ed6945b",
       "version_major": 2,
       "version_minor": 0
      },
      "text/plain": [
       "FloatSlider(value=315566.45216697594, continuous_update=False, description='Easting', max=319234.2051362576, m…"
      ]
     },
     "metadata": {},
     "output_type": "display_data"
    }
   ],
   "source": [
    "app.center_x"
   ]
  },
  {
   "cell_type": "markdown",
   "metadata": {},
   "source": [
    "### Width\n",
    "\n",
    "Window size along East (m)"
   ]
  },
  {
   "cell_type": "code",
   "execution_count": 6,
   "metadata": {
    "scrolled": false
   },
   "outputs": [
    {
     "data": {
      "application/vnd.jupyter.widget-view+json": {
       "model_id": "af3ec699c9a4483c816887a1a478cb67",
       "version_major": 2,
       "version_minor": 0
      },
      "text/plain": [
       "FloatSlider(value=3667.7529692816606, continuous_update=False, description='Width', max=7335.505938563321)"
      ]
     },
     "metadata": {},
     "output_type": "display_data"
    }
   ],
   "source": [
    "app.width"
   ]
  },
  {
   "cell_type": "markdown",
   "metadata": {},
   "source": [
    "### Height\n",
    "\n",
    "Window size along North (m)"
   ]
  },
  {
   "cell_type": "code",
   "execution_count": 7,
   "metadata": {
    "scrolled": true
   },
   "outputs": [
    {
     "data": {
      "application/vnd.jupyter.widget-view+json": {
       "model_id": "fc79af440c6644d38c060a53c38fd05b",
       "version_major": 2,
       "version_minor": 0
      },
      "text/plain": [
       "FloatSlider(value=5675.932501242962, continuous_update=False, description='Height', max=11351.865002485923, or…"
      ]
     },
     "metadata": {},
     "output_type": "display_data"
    }
   ],
   "source": [
    "app.height"
   ]
  },
  {
   "cell_type": "markdown",
   "metadata": {},
   "source": [
    "### Azimuth\n",
    "\n",
    "Orientation of the selection window, in degree from North."
   ]
  },
  {
   "cell_type": "code",
   "execution_count": 8,
   "metadata": {
    "scrolled": true
   },
   "outputs": [
    {
     "data": {
      "application/vnd.jupyter.widget-view+json": {
       "model_id": "dadc6a329c4f4c2abc7328d703730b5f",
       "version_major": 2,
       "version_minor": 0
      },
      "text/plain": [
       "FloatSlider(value=0.0, continuous_update=False, description='Azimuth', max=90.0, min=-90.0)"
      ]
     },
     "metadata": {},
     "output_type": "display_data"
    }
   ],
   "source": [
    "app.azimuth"
   ]
  },
  {
   "cell_type": "markdown",
   "metadata": {},
   "source": [
    "## Zoom on selection\n",
    "\n",
    "Set the plotting area to the extent of the window selection, or keep fix to the target object extent."
   ]
  },
  {
   "cell_type": "code",
   "execution_count": 9,
   "metadata": {},
   "outputs": [
    {
     "data": {
      "application/vnd.jupyter.widget-view+json": {
       "model_id": "2f0e2922f72f41498839fbab3974e66a",
       "version_major": 2,
       "version_minor": 0
      },
      "text/plain": [
       "ToggleButton(value=True, description='Zoom on selection', icon='check', tooltip='Keep plot extent on selection…"
      ]
     },
     "metadata": {},
     "output_type": "display_data"
    }
   ],
   "source": [
    "app.zoom_extent"
   ]
  },
  {
   "cell_type": "markdown",
   "metadata": {},
   "source": [
    "Need help? Contact us at support@mirageoscience.com"
   ]
  },
  {
   "cell_type": "code",
   "execution_count": 10,
   "metadata": {
    "nbsphinx": "hidden"
   },
   "outputs": [],
   "source": [
    "import matplotlib.pyplot as plt\n",
    "app.figure.savefig(\"images/plot_selection.png\", dpi=300, bbox_inches=\"tight\")"
   ]
  }
 ],
 "metadata": {
  "celltoolbar": "Edit Metadata",
  "kernelspec": {
   "display_name": "Python 3",
   "language": "python",
   "name": "python3"
  },
  "language_info": {
   "codemirror_mode": {
    "name": "ipython",
    "version": 3
   },
   "file_extension": ".py",
   "mimetype": "text/x-python",
   "name": "python",
   "nbconvert_exporter": "python",
   "pygments_lexer": "ipython3",
   "version": "3.7.8"
  },
  "widgets": {
   "application/vnd.jupyter.widget-state+json": {
    "state": {
     "0012a1784af345ccaff924d02d49c220": {
      "model_module": "@jupyter-widgets/base",
      "model_module_version": "1.2.0",
      "model_name": "LayoutModel",
      "state": {
       "display": "none",
       "width": "auto"
      }
     },
     "00a2dbdacdda4b29aca43a15b3d70bd3": {
      "model_module": "@jupyter-widgets/base",
      "model_module_version": "1.2.0",
      "model_name": "LayoutModel",
      "state": {
       "grid_area": "pathlist",
       "width": "auto"
      }
     },
     "014b43a7352a468f917e6638acfdb02b": {
      "model_module": "@jupyter-widgets/controls",
      "model_module_version": "1.5.0",
      "model_name": "CheckboxModel",
      "state": {
       "description": "GA Pro - Live link",
       "disabled": false,
       "indent": false,
       "layout": "IPY_MODEL_1f6724cad5bc4d3fabf13fa4a106b1fc",
       "style": "IPY_MODEL_d23e79e24dd44db49fb3930d155aec99",
       "value": false
      }
     },
     "017eda18480f47828f35d56c28ec7694": {
      "model_module": "@jupyter-widgets/controls",
      "model_module_version": "1.5.0",
      "model_name": "DropdownModel",
      "state": {
       "_options_labels": [
        "C:\\Users\\dominiquef\\Documents\\GIT\\mira\\mirageoscience-apps\\assets",
        "C:\\Users\\dominiquef\\Documents\\GIT\\mira\\mirageoscience-apps",
        "C:\\Users\\dominiquef\\Documents\\GIT\\mira",
        "C:\\Users\\dominiquef\\Documents\\GIT",
        "C:\\Users\\dominiquef\\Documents",
        "C:\\Users\\dominiquef",
        "C:\\Users",
        "C:\\",
        "D:\\",
        "Z:\\"
       ],
       "index": 0,
       "layout": "IPY_MODEL_914e875898a9402c96cac95a6641241a",
       "style": "IPY_MODEL_0285fac2027d40f797e7c8e4f2b0cf0f"
      }
     },
     "01e5bfc7e3964c308df46be5c311beb9": {
      "model_module": "@jupyter-widgets/controls",
      "model_module_version": "1.5.0",
      "model_name": "DescriptionStyleModel",
      "state": {
       "description_width": "initial"
      }
     },
     "0215834beef74b93b7afe09f31cdede4": {
      "model_module": "@jupyter-widgets/controls",
      "model_module_version": "1.5.0",
      "model_name": "DescriptionStyleModel",
      "state": {
       "description_width": "initial"
      }
     },
     "0252975698d54c7b8ba360a546a255d0": {
      "model_module": "@jupyter-widgets/base",
      "model_module_version": "1.2.0",
      "model_name": "LayoutModel",
      "state": {}
     },
     "0277024cb5794bffb882aeb0d7a28bdd": {
      "model_module": "@jupyter-widgets/controls",
      "model_module_version": "1.5.0",
      "model_name": "VBoxModel",
      "state": {
       "children": [
        "IPY_MODEL_f7866c32f49c4a549189aa9d07e3fbe6",
        "IPY_MODEL_6319f6a6785042989a847fc277836987"
       ],
       "layout": "IPY_MODEL_bcf7aac8f76e452e86fa7aba0f6dd5d3"
      }
     },
     "027b05070fd04e83b1e8bd5fec03aafe": {
      "model_module": "@jupyter-widgets/controls",
      "model_module_version": "1.5.0",
      "model_name": "ButtonStyleModel",
      "state": {}
     },
     "0285fac2027d40f797e7c8e4f2b0cf0f": {
      "model_module": "@jupyter-widgets/controls",
      "model_module_version": "1.5.0",
      "model_name": "DescriptionStyleModel",
      "state": {
       "description_width": ""
      }
     },
     "02fe9f4f1d804b08b576a7c4ad2489e5": {
      "model_module": "@jupyter-widgets/base",
      "model_module_version": "1.2.0",
      "model_name": "LayoutModel",
      "state": {}
     },
     "03249d8a9912437ea075a467827e8c51": {
      "model_module": "@jupyter-widgets/controls",
      "model_module_version": "1.5.0",
      "model_name": "GridBoxModel",
      "state": {
       "children": [
        "IPY_MODEL_e519614087be4f9e8b8d4983da6e9f68",
        "IPY_MODEL_3766a0d43f1b4236b4d5fd41fb0751b9",
        "IPY_MODEL_662908b96c1b456b912a2d4628f8682d"
       ],
       "layout": "IPY_MODEL_2b1b9e0236554ad7abc60b426cbe7560"
      }
     },
     "0325d3bd6f144e0194f851aed11ed0d1": {
      "model_module": "@jupyter-widgets/controls",
      "model_module_version": "1.5.0",
      "model_name": "ButtonStyleModel",
      "state": {}
     },
     "0383f33de4a84b3fb63a3f8d60c7916a": {
      "model_module": "@jupyter-widgets/base",
      "model_module_version": "1.2.0",
      "model_name": "LayoutModel",
      "state": {}
     },
     "03d9b4c7840d4d6896ec6ac1c16f2c36": {
      "model_module": "@jupyter-widgets/controls",
      "model_module_version": "1.5.0",
      "model_name": "DropdownModel",
      "state": {
       "_options_labels": [
        "C:\\Users\\dominiquef\\Documents\\GIT\\mira\\mirageoscience-apps\\docs\\content\\applications",
        "C:\\Users\\dominiquef\\Documents\\GIT\\mira\\mirageoscience-apps\\docs\\content",
        "C:\\Users\\dominiquef\\Documents\\GIT\\mira\\mirageoscience-apps\\docs",
        "C:\\Users\\dominiquef\\Documents\\GIT\\mira\\mirageoscience-apps",
        "C:\\Users\\dominiquef\\Documents\\GIT\\mira",
        "C:\\Users\\dominiquef\\Documents\\GIT",
        "C:\\Users\\dominiquef\\Documents",
        "C:\\Users\\dominiquef",
        "C:\\Users",
        "C:\\",
        "D:\\",
        "Z:\\"
       ],
       "index": 0,
       "layout": "IPY_MODEL_dfb85e47c5034a6984179ac5c1974ded",
       "style": "IPY_MODEL_d5436caa15c5428ba726cdd7bfe38aad"
      }
     },
     "03dc180bab094a3faaddb16888ac0c4d": {
      "model_module": "@jupyter-widgets/base",
      "model_module_version": "1.2.0",
      "model_name": "LayoutModel",
      "state": {}
     },
     "03f4a1e5c389449497107d5354fbd021": {
      "model_module": "@jupyter-widgets/base",
      "model_module_version": "1.2.0",
      "model_name": "LayoutModel",
      "state": {}
     },
     "0485b8ac5d1744108d8cfa8731fdf8dc": {
      "model_module": "@jupyter-widgets/controls",
      "model_module_version": "1.5.0",
      "model_name": "HTMLModel",
      "state": {
       "layout": "IPY_MODEL_80c8eac498f84d9da88b6b87f8354217",
       "style": "IPY_MODEL_ca8331c99ac1482c912974675779403f"
      }
     },
     "04f009d6b21f4a90af5174d70a3a9f86": {
      "model_module": "@jupyter-widgets/base",
      "model_module_version": "1.2.0",
      "model_name": "LayoutModel",
      "state": {}
     },
     "05dd5efadf484a7e94f3f7598363a584": {
      "model_module": "@jupyter-widgets/controls",
      "model_module_version": "1.5.0",
      "model_name": "DescriptionStyleModel",
      "state": {
       "description_width": ""
      }
     },
     "05f109d16bf24417b5149f845bfb2b03": {
      "model_module": "@jupyter-widgets/controls",
      "model_module_version": "1.5.0",
      "model_name": "ButtonModel",
      "state": {
       "description": "Select",
       "layout": "IPY_MODEL_77f8304abcbe416db259b0de7e3ee0c8",
       "style": "IPY_MODEL_cfd4b630527a475f90f75f026de0ffa8"
      }
     },
     "0651fed11e0d4196899110c0cb32e5d3": {
      "model_module": "@jupyter-widgets/base",
      "model_module_version": "1.2.0",
      "model_name": "LayoutModel",
      "state": {}
     },
     "06fd04f18f8f4a7c81c7f999cf7c892d": {
      "model_module": "@jupyter-widgets/controls",
      "model_module_version": "1.5.0",
      "model_name": "DropdownModel",
      "state": {
       "_options_labels": [
        "",
        "--- Channels ---",
        "Airborne_Gxx",
        "Airborne_Gxy",
        "Airborne_Gxz",
        "Airborne_Gyy",
        "Airborne_Gyz",
        "Airborne_Gz",
        "Airborne_Gzz",
        "Airborne_TMI",
        "Ground_Gz",
        "Z"
       ],
       "description": "Data: ",
       "index": 9,
       "layout": "IPY_MODEL_ac7cacb9479046acb045b970cedfe50f",
       "style": "IPY_MODEL_729ea20628b74885ae0e1b405c12ff54"
      }
     },
     "073c7ac65be8487897d30e12215feb6b": {
      "model_module": "@jupyter-widgets/base",
      "model_module_version": "1.2.0",
      "model_name": "LayoutModel",
      "state": {}
     },
     "0766c9ec20bf40e287a17f7124a75a70": {
      "model_module": "@jupyter-widgets/controls",
      "model_module_version": "1.5.0",
      "model_name": "VBoxModel",
      "state": {
       "children": [
        "IPY_MODEL_f0a14fa8bc374456a07dc9b79415475f",
        "IPY_MODEL_b8d97428ae6242308207bfcdf729fe94"
       ],
       "layout": "IPY_MODEL_2fc82011ab5b4255abd7b01d7f16ea1f"
      }
     },
     "07f6a66fa4f542b68854ff42ade7f560": {
      "model_module": "@jupyter-widgets/base",
      "model_module_version": "1.2.0",
      "model_name": "LayoutModel",
      "state": {
       "width": "auto"
      }
     },
     "08a958b0ceac426e8db724a44f7eac44": {
      "model_module": "@jupyter-widgets/controls",
      "model_module_version": "1.5.0",
      "model_name": "DescriptionStyleModel",
      "state": {
       "description_width": ""
      }
     },
     "08dc118c4be94b378cdacd4434b621ac": {
      "model_module": "@jupyter-widgets/base",
      "model_module_version": "1.2.0",
      "model_name": "LayoutModel",
      "state": {}
     },
     "09394a09b4a74e1091ea586f592ff666": {
      "model_module": "@jupyter-widgets/base",
      "model_module_version": "1.2.0",
      "model_name": "LayoutModel",
      "state": {}
     },
     "0954dc215e434ef9993bda2f56e2f75d": {
      "model_module": "@jupyter-widgets/base",
      "model_module_version": "1.2.0",
      "model_name": "LayoutModel",
      "state": {}
     },
     "0970620b7a3b4d30a7149567479856e4": {
      "model_module": "@jupyter-widgets/controls",
      "model_module_version": "1.5.0",
      "model_name": "ButtonStyleModel",
      "state": {}
     },
     "098d4a80d105490caf5b273c105a7e07": {
      "model_module": "@jupyter-widgets/controls",
      "model_module_version": "1.5.0",
      "model_name": "DropdownModel",
      "state": {
       "_options_labels": [
        "",
        "fault_splay1",
        "fault_Cliff_Lake",
        "fault_Other_FlinFlon",
        "fault_Club_Lake_splay",
        "fault_Catherine_splay2",
        "fault_Birch_View",
        "fault_Dion_Lake",
        "fault_FlinFlon_splay",
        "fault_West_Mandy_Road",
        "fault_Channing",
        "fault_Ross_Lake",
        "fault_Louis_Hidden",
        "fault_Lake_View_thrust",
        "contact_Schist_Lake",
        "fault_Burley_Lake",
        "fault_Dion_Lake_splay",
        "fault_Green_Lake",
        "fault_FlinFlon",
        "fault_Catherine_splay1",
        "fault_East_Mandy_Road",
        "fault_Other_FlinFlon_South",
        "fault_Catherine_splay4",
        "contact_Stitt_Island",
        "fault_Club_Lake",
        "fault_Tailing_Pond",
        "35_Hidden_Reservoir_Hr5",
        "29_Hidden_Reservoir_Hr1a",
        "60_BlueLagoon_Fb2",
        "20_FlinFlon_Undivided_Int_Dykes_D2f",
        "04_Boundary_Intrusive_S4h",
        "53_Millrock_Rhyolite_Fm4b",
        "19_FlinFlon_Undivided_Int_Dykes_D2b",
        "18_FlinFlon_Undivided_Int_Dykes_777_D2b",
        "06_Phantom_Lake_Intrusive_S3a",
        "21_FlinFlon_Undivided_Int_Dykes_D3a",
        "43_Millrock_CHLSH_South",
        "56_Millrock_Basalt_Fm1ba",
        "17_FlinFlon_Undivided_Int_Dykes_D2",
        "32_Hidden_Reservoir_Hr1b_SW",
        "11_Missi_M3_NE",
        "13_Missi_M1",
        "07_Annabel_Granitoid_S1",
        "45_Millrock_Gabbro_South",
        "01_Late_Intrusive_S5b",
        "31_Hidden_Reservoir_Hr1c_SW",
        "52_Millrock_Rhyolite_Fm4_West_check",
        "55_Millrock_Basalt_Fm1bf",
        "34_Hidden_Reservoir_Hr2b",
        "03_Boundary_Intrusive_S4b",
        "42_Millrock_CHLSH_North",
        "26_Louis_L3",
        "23_FlinFlon_Undivided_Int_Felsic_D4g",
        "30_Hidden_Reservoir_Hr1b",
        "59_BlueLagoon_Fb3",
        "49_Millrock_MVR_Fm5d",
        "44_Millrock_Gabbro_North",
        "27_Hidden_Carlisle_Hc4",
        "22_FlinFlon_Undivided_Int_Felsic_D4e",
        "02_Boundary_Intrusive_S4a",
        "61_BlueLagoon_Fb1_NW",
        "05_Boundary_Intrusive_S4g",
        "39_Ore_Callinan",
        "38_Ore_Dan_Owens",
        "40_Ore_FlinFlon",
        "Inversion_VTEM_Model",
        "Gravity_Magnetics_drape60m",
        "CDI_VTEM_model",
        "Data_FEM_pseudo3D",
        "O2O_Interp_25m",
        "geochem",
        "Inversion_DIGHEM_Model",
        "Topography",
        "Data_TEM_pseudo3D"
       ],
       "description": "Object:",
       "index": 66,
       "layout": "IPY_MODEL_fcd876a05a6745b7b8795803837827e8",
       "style": "IPY_MODEL_0fb53b51a4de42a89959bf2b5340baef"
      }
     },
     "09ddab1881054ad9af846d3bb3a7dfc7": {
      "model_module": "@jupyter-widgets/controls",
      "model_module_version": "1.5.0",
      "model_name": "ButtonStyleModel",
      "state": {}
     },
     "09f1b9e7c8be4aaca35f4b480f34c61b": {
      "model_module": "@jupyter-widgets/controls",
      "model_module_version": "1.5.0",
      "model_name": "TextModel",
      "state": {
       "disabled": true,
       "layout": "IPY_MODEL_364b12e6635e42128ba5317594bbc2a0",
       "placeholder": "output filename",
       "style": "IPY_MODEL_bd567437ab2c43899d9ffb553a4fec69"
      }
     },
     "0a211acc62fe4eb28410e445968b2972": {
      "model_module": "@jupyter-widgets/controls",
      "model_module_version": "1.5.0",
      "model_name": "FloatSliderModel",
      "state": {
       "continuous_update": false,
       "description": "Northing",
       "layout": "IPY_MODEL_140a3f3dd12d4de2aff3ba7d24032742",
       "max": 6076443.652111261,
       "min": 6065091.787108775,
       "orientation": "vertical",
       "step": 0.1,
       "style": "IPY_MODEL_304988f47f9f4ab5bafda2f80b0e4666",
       "value": 6070767.719610019
      }
     },
     "0a59e096aee846cd8dda390e079b0b94": {
      "model_module": "@jupyter-widgets/controls",
      "model_module_version": "1.5.0",
      "model_name": "GridBoxModel",
      "state": {
       "children": [
        "IPY_MODEL_69dd6a64c7a24996b6c60bd8623ad031",
        "IPY_MODEL_5b6bae98cc7e4f17ad11ec8d83c10525",
        "IPY_MODEL_db68278725ce40b79010cc7a8d61a7c5"
       ],
       "layout": "IPY_MODEL_a582b67bfabc403ba4856d804a1ebe90"
      }
     },
     "0ac2319ed5e54f6f86c337063c5a8d3a": {
      "model_module": "@jupyter-widgets/controls",
      "model_module_version": "1.5.0",
      "model_name": "SliderStyleModel",
      "state": {
       "description_width": ""
      }
     },
     "0b0bfd65fdc3455aaff503210f489d38": {
      "model_module": "@jupyter-widgets/controls",
      "model_module_version": "1.5.0",
      "model_name": "VBoxModel",
      "state": {
       "children": [
        "IPY_MODEL_a3ede07018444d84982f6b2e1c51286e",
        "IPY_MODEL_0a59e096aee846cd8dda390e079b0b94",
        "IPY_MODEL_60f39df7309e44d5bb39d73bf536c5a6"
       ],
       "layout": "IPY_MODEL_07f6a66fa4f542b68854ff42ade7f560"
      }
     },
     "0b3948abdf5d4da98bf4c6bacd7b6aa7": {
      "model_module": "@jupyter-widgets/controls",
      "model_module_version": "1.5.0",
      "model_name": "VBoxModel",
      "state": {
       "children": [
        "IPY_MODEL_483ff8892125419490798ee81c41ed52",
        "IPY_MODEL_b30c167aea924d05aa93fc066f0fa3f6"
       ],
       "layout": "IPY_MODEL_32a30ab07e7e4488b282d830caff9754"
      }
     },
     "0b84f90dce9e4716a0311ba7d30e5261": {
      "model_module": "@jupyter-widgets/controls",
      "model_module_version": "1.5.0",
      "model_name": "DescriptionStyleModel",
      "state": {
       "description_width": ""
      }
     },
     "0c0701d0ecfb477694e0fdd342f8d427": {
      "model_module": "@jupyter-widgets/base",
      "model_module_version": "1.2.0",
      "model_name": "LayoutModel",
      "state": {
       "display": "none",
       "grid_gap": "0px 0px",
       "grid_template_areas": "\n                    'pathlist filename'\n                    'dircontent dircontent'\n                    ",
       "grid_template_columns": "60% 40%",
       "grid_template_rows": "auto auto",
       "width": "500px"
      }
     },
     "0d1b1c2b319d40c79be112906de28888": {
      "model_module": "@jupyter-widgets/base",
      "model_module_version": "1.2.0",
      "model_name": "LayoutModel",
      "state": {}
     },
     "0d4e2ae450084ba8ba9b169664b2b511": {
      "model_module": "@jupyter-widgets/controls",
      "model_module_version": "1.5.0",
      "model_name": "DescriptionStyleModel",
      "state": {
       "description_width": ""
      }
     },
     "0d671004921845689b9b0ba6c3075698": {
      "model_module": "@jupyter-widgets/controls",
      "model_module_version": "1.5.0",
      "model_name": "HBoxModel",
      "state": {
       "children": [
        "IPY_MODEL_c410779901d542caaff227fab2ba786a",
        "IPY_MODEL_fce44eaf03e54884b56039fc68b69008"
       ],
       "layout": "IPY_MODEL_cf717491f982475c9102091fa52ed7d2"
      }
     },
     "0d9ad353232d4eaa96575818df9314a5": {
      "model_module": "@jupyter-widgets/controls",
      "model_module_version": "1.5.0",
      "model_name": "DropdownModel",
      "state": {
       "_options_labels": [
        "",
        "fault_splay1",
        "fault_Cliff_Lake",
        "fault_Other_FlinFlon",
        "fault_Club_Lake_splay",
        "fault_Catherine_splay2",
        "fault_Birch_View",
        "fault_Dion_Lake",
        "fault_FlinFlon_splay",
        "fault_West_Mandy_Road",
        "fault_Channing",
        "fault_Ross_Lake",
        "fault_Louis_Hidden",
        "fault_Lake_View_thrust",
        "contact_Schist_Lake",
        "fault_Burley_Lake",
        "fault_Dion_Lake_splay",
        "fault_Green_Lake",
        "fault_FlinFlon",
        "fault_Catherine_splay1",
        "fault_East_Mandy_Road",
        "fault_Other_FlinFlon_South",
        "fault_Catherine_splay4",
        "contact_Stitt_Island",
        "fault_Club_Lake",
        "fault_Tailing_Pond",
        "35_Hidden_Reservoir_Hr5",
        "29_Hidden_Reservoir_Hr1a",
        "60_BlueLagoon_Fb2",
        "20_FlinFlon_Undivided_Int_Dykes_D2f",
        "04_Boundary_Intrusive_S4h",
        "53_Millrock_Rhyolite_Fm4b",
        "19_FlinFlon_Undivided_Int_Dykes_D2b",
        "18_FlinFlon_Undivided_Int_Dykes_777_D2b",
        "06_Phantom_Lake_Intrusive_S3a",
        "21_FlinFlon_Undivided_Int_Dykes_D3a",
        "43_Millrock_CHLSH_South",
        "56_Millrock_Basalt_Fm1ba",
        "17_FlinFlon_Undivided_Int_Dykes_D2",
        "32_Hidden_Reservoir_Hr1b_SW",
        "11_Missi_M3_NE",
        "13_Missi_M1",
        "07_Annabel_Granitoid_S1",
        "45_Millrock_Gabbro_South",
        "01_Late_Intrusive_S5b",
        "31_Hidden_Reservoir_Hr1c_SW",
        "52_Millrock_Rhyolite_Fm4_West_check",
        "55_Millrock_Basalt_Fm1bf",
        "34_Hidden_Reservoir_Hr2b",
        "03_Boundary_Intrusive_S4b",
        "42_Millrock_CHLSH_North",
        "26_Louis_L3",
        "23_FlinFlon_Undivided_Int_Felsic_D4g",
        "30_Hidden_Reservoir_Hr1b",
        "59_BlueLagoon_Fb3",
        "49_Millrock_MVR_Fm5d",
        "44_Millrock_Gabbro_North",
        "27_Hidden_Carlisle_Hc4",
        "22_FlinFlon_Undivided_Int_Felsic_D4e",
        "02_Boundary_Intrusive_S4a",
        "61_BlueLagoon_Fb1_NW",
        "05_Boundary_Intrusive_S4g",
        "39_Ore_Callinan",
        "38_Ore_Dan_Owens",
        "40_Ore_FlinFlon",
        "Inversion_VTEM_Model",
        "Gravity_Magnetics_drape60m",
        "CDI_VTEM_model",
        "Data_FEM_pseudo3D",
        "O2O_Interp_25m",
        "geochem",
        "Inversion_DIGHEM_Model",
        "Topography",
        "Data_TEM_pseudo3D"
       ],
       "description": "Object:",
       "index": 66,
       "layout": "IPY_MODEL_d002e8bf638a48ddaf73c4fe087d44b0",
       "style": "IPY_MODEL_d906e8dfd372467fa9a10d4920eaf7e5"
      }
     },
     "0dbcd10abcc4454e9f927c1454debfac": {
      "model_module": "@jupyter-widgets/base",
      "model_module_version": "1.2.0",
      "model_name": "LayoutModel",
      "state": {
       "display": "none",
       "grid_area": "filename",
       "width": "auto"
      }
     },
     "0df6b494daf64312b118398193033391": {
      "model_module": "@jupyter-widgets/controls",
      "model_module_version": "1.5.0",
      "model_name": "DescriptionStyleModel",
      "state": {
       "description_width": ""
      }
     },
     "0dfcefad2a434ce2a0932f848449b3c4": {
      "model_module": "@jupyter-widgets/controls",
      "model_module_version": "1.5.0",
      "model_name": "DescriptionStyleModel",
      "state": {
       "description_width": ""
      }
     },
     "0e0726d36b3c43589ded8bfec6a1871e": {
      "model_module": "@jupyter-widgets/base",
      "model_module_version": "1.2.0",
      "model_name": "LayoutModel",
      "state": {
       "display": "none",
       "grid_gap": "0px 0px",
       "grid_template_areas": "\n                    'pathlist filename'\n                    'dircontent dircontent'\n                    ",
       "grid_template_columns": "60% 40%",
       "grid_template_rows": "auto auto",
       "width": "500px"
      }
     },
     "0e3ea604719d4c4a94512c46df870dc4": {
      "model_module": "@jupyter-widgets/base",
      "model_module_version": "1.2.0",
      "model_name": "LayoutModel",
      "state": {}
     },
     "0e8447b4d4db495984fe5334216f8780": {
      "model_module": "@jupyter-widgets/controls",
      "model_module_version": "1.5.0",
      "model_name": "ButtonStyleModel",
      "state": {}
     },
     "0ec47d48a472492b814ee0cec0b97d50": {
      "model_module": "@jupyter-widgets/base",
      "model_module_version": "1.2.0",
      "model_name": "LayoutModel",
      "state": {}
     },
     "0eef8906f8d340ca851fce463e0a0a98": {
      "model_module": "@jupyter-widgets/controls",
      "model_module_version": "1.5.0",
      "model_name": "ButtonModel",
      "state": {
       "description": "Change",
       "layout": "IPY_MODEL_58a06268176343c5824765ea4b4275b9",
       "style": "IPY_MODEL_acb2689f5d394207b00c36db4aac96cd"
      }
     },
     "0ef955f8295443cdb9a29bdc2e257348": {
      "model_module": "@jupyter-widgets/base",
      "model_module_version": "1.2.0",
      "model_name": "LayoutModel",
      "state": {}
     },
     "0f125a3a8bc34b8999b5198194b549b1": {
      "model_module": "@jupyter-widgets/controls",
      "model_module_version": "1.5.0",
      "model_name": "HTMLModel",
      "state": {
       "layout": "IPY_MODEL_da95424ebbc148a49add34a3043511b5",
       "style": "IPY_MODEL_e4efde444a26488896f8587989d2198e"
      }
     },
     "0f155854eb0c4955947bc7be2557a923": {
      "model_module": "@jupyter-widgets/controls",
      "model_module_version": "1.5.0",
      "model_name": "FloatSliderModel",
      "state": {
       "continuous_update": false,
       "description": "Azimuth",
       "layout": "IPY_MODEL_30dd40c7d8f849b6ab4eccb8e53651e4",
       "max": 90,
       "min": -90,
       "step": 0.1,
       "style": "IPY_MODEL_d7ea9c257d1247e98720c4bb6a0e18e8"
      }
     },
     "0f5d8e0983f64a29a56d4dfd28a42838": {
      "model_module": "@jupyter-widgets/controls",
      "model_module_version": "1.5.0",
      "model_name": "DescriptionStyleModel",
      "state": {
       "description_width": "initial"
      }
     },
     "0f9e2c2667f840e88efb73b613a0120d": {
      "model_module": "@jupyter-widgets/base",
      "model_module_version": "1.2.0",
      "model_name": "LayoutModel",
      "state": {
       "width": "auto"
      }
     },
     "0fad4870901d4f82be19d29cd325ed19": {
      "model_module": "@jupyter-widgets/base",
      "model_module_version": "1.2.0",
      "model_name": "LayoutModel",
      "state": {
       "width": "auto"
      }
     },
     "0fb53b51a4de42a89959bf2b5340baef": {
      "model_module": "@jupyter-widgets/controls",
      "model_module_version": "1.5.0",
      "model_name": "DescriptionStyleModel",
      "state": {
       "description_width": "initial"
      }
     },
     "0fb7e0fe59d54ae595f6d1331a7013ce": {
      "model_module": "@jupyter-widgets/controls",
      "model_module_version": "1.5.0",
      "model_name": "SelectModel",
      "state": {
       "_options_labels": [
        "..",
        "SimPEG_PFInversion",
        "Temp",
        "dask-worker-space",
        "Crossplot.html",
        "FlinFlon.geoh5",
        "MtDore_TMI.geoh5"
       ],
       "index": 5,
       "layout": "IPY_MODEL_ffc5c1496d99434abcb60dec94f15749",
       "rows": 8,
       "style": "IPY_MODEL_85e3972a0b2c4a99bab8d3922aa01832"
      }
     },
     "11a506637bc74c02b35097d8832046ec": {
      "model_module": "@jupyter-widgets/controls",
      "model_module_version": "1.5.0",
      "model_name": "VBoxModel",
      "state": {
       "children": [
        "IPY_MODEL_ada9e8b2011e4cd0868b070933897ca5",
        "IPY_MODEL_c89d062109094a16b330c01f9c00302e"
       ],
       "layout": "IPY_MODEL_983d296bca6447ca8c88487387a516a3"
      }
     },
     "11cd02d779834e0b9576cd9b899f767f": {
      "model_module": "@jupyter-widgets/controls",
      "model_module_version": "1.5.0",
      "model_name": "ButtonModel",
      "state": {
       "description": "Change",
       "layout": "IPY_MODEL_e7c4a9acd4bb44c9a8d896f51b6ad16e",
       "style": "IPY_MODEL_0e8447b4d4db495984fe5334216f8780"
      }
     },
     "120dc620d6f7475ba80053f687226003": {
      "model_module": "@jupyter-widgets/controls",
      "model_module_version": "1.5.0",
      "model_name": "FloatSliderModel",
      "state": {
       "continuous_update": false,
       "description": "Easting",
       "layout": "IPY_MODEL_e2a440be7b014c18b5cf25be55f5ffb0",
       "max": 319234.2051362576,
       "min": 311898.69919769425,
       "step": 0.1,
       "style": "IPY_MODEL_357d1cc40adf4d6480c2fbfa9bac0fdd",
       "value": 315566.45216697594
      }
     },
     "12eda96fe49a45e58d69e86bf654f592": {
      "model_module": "@jupyter-widgets/controls",
      "model_module_version": "1.5.0",
      "model_name": "DescriptionStyleModel",
      "state": {
       "description_width": "initial"
      }
     },
     "13d6fff2ba6842a28239edcf820e025a": {
      "model_module": "@jupyter-widgets/controls",
      "model_module_version": "1.5.0",
      "model_name": "DescriptionStyleModel",
      "state": {
       "description_width": ""
      }
     },
     "13e81944d825435e835c7ef17d2669d0": {
      "model_module": "@jupyter-widgets/controls",
      "model_module_version": "1.5.0",
      "model_name": "VBoxModel",
      "state": {
       "children": [
        "IPY_MODEL_d498a70a99234e66b91ea7a31f599be4",
        "IPY_MODEL_06fd04f18f8f4a7c81c7f999cf7c892d"
       ],
       "layout": "IPY_MODEL_6e30096664394c8993bc1f89d56b37a1"
      }
     },
     "13f94b2dc5944f20b87efc0b861844f8": {
      "model_module": "@jupyter-widgets/controls",
      "model_module_version": "1.5.0",
      "model_name": "DescriptionStyleModel",
      "state": {
       "description_width": ""
      }
     },
     "140a3f3dd12d4de2aff3ba7d24032742": {
      "model_module": "@jupyter-widgets/base",
      "model_module_version": "1.2.0",
      "model_name": "LayoutModel",
      "state": {}
     },
     "14354f1b4d3c4c99bd33c11c45cf9dcb": {
      "model_module": "@jupyter-widgets/base",
      "model_module_version": "1.2.0",
      "model_name": "LayoutModel",
      "state": {}
     },
     "147a02b849b544d99530040f3edca4db": {
      "model_module": "@jupyter-widgets/controls",
      "model_module_version": "1.5.0",
      "model_name": "ButtonStyleModel",
      "state": {}
     },
     "14959983f3384d6c819de2b786560453": {
      "model_module": "@jupyter-widgets/controls",
      "model_module_version": "1.5.0",
      "model_name": "SliderStyleModel",
      "state": {
       "description_width": ""
      }
     },
     "15351c2dc9f1429ca8a3d542b5f3d2b0": {
      "model_module": "@jupyter-widgets/controls",
      "model_module_version": "1.5.0",
      "model_name": "VBoxModel",
      "state": {
       "children": [
        "IPY_MODEL_f28341f546a142e1a9ddaba4355b9914",
        "IPY_MODEL_bcc520f023484bf48eb018d5e478f6b5"
       ],
       "layout": "IPY_MODEL_2a840813a80b42079f51c1e789c67a0e"
      }
     },
     "1535d09a29a24c9088d27603a64f6a3a": {
      "model_module": "@jupyter-widgets/controls",
      "model_module_version": "1.5.0",
      "model_name": "DescriptionStyleModel",
      "state": {
       "description_width": ""
      }
     },
     "1540757e72b74b43b84510e250e0ae9f": {
      "model_module": "@jupyter-widgets/controls",
      "model_module_version": "1.5.0",
      "model_name": "HTMLModel",
      "state": {
       "layout": "IPY_MODEL_3d7cf2933d2a4fd29ee588ba4acb5bbb",
       "style": "IPY_MODEL_b70692af0ed041d38e570a0616b2d7ad"
      }
     },
     "1584cc9ea0d64b8b8b1c90903d36c86e": {
      "model_module": "@jupyter-widgets/controls",
      "model_module_version": "1.5.0",
      "model_name": "LabelModel",
      "state": {
       "layout": "IPY_MODEL_70c609bbc0a2466791fc64e173d34c4e",
       "style": "IPY_MODEL_562268d9854247f1be8a4145e29b8480",
       "value": "Monitoring folder"
      }
     },
     "158e2d90364e42759615db87ff037843": {
      "model_module": "@jupyter-widgets/controls",
      "model_module_version": "1.5.0",
      "model_name": "FloatSliderModel",
      "state": {
       "continuous_update": false,
       "description": "Width",
       "layout": "IPY_MODEL_447899c7c54f436b99f6caf01c2e1a11",
       "max": 7335.505938563321,
       "step": 0.1,
       "style": "IPY_MODEL_587518d6ba5549098bec71b55f9c3ad4",
       "value": 3667.7529692816606
      }
     },
     "16019787070a44cf89b0b0d09b1593fe": {
      "model_module": "@jupyter-widgets/base",
      "model_module_version": "1.2.0",
      "model_name": "LayoutModel",
      "state": {}
     },
     "160c965573eb49f6ac1e0065f5c85d90": {
      "model_module": "@jupyter-widgets/base",
      "model_module_version": "1.2.0",
      "model_name": "LayoutModel",
      "state": {}
     },
     "16459909d589443eb231cbd71539fbf2": {
      "model_module": "@jupyter-widgets/controls",
      "model_module_version": "1.5.0",
      "model_name": "HBoxModel",
      "state": {
       "children": [
        "IPY_MODEL_0a211acc62fe4eb28410e445968b2972",
        "IPY_MODEL_c0c1edc42f4b4e58a2efb8ee3f284e1f",
        "IPY_MODEL_5e79af12ce0244fdacddd3fc9258e868"
       ],
       "layout": "IPY_MODEL_52a5d1a15c4b448e90ba30e7f51c2631"
      }
     },
     "16c510a91df7473fae6a0126adb433d3": {
      "model_module": "@jupyter-widgets/controls",
      "model_module_version": "1.5.0",
      "model_name": "DescriptionStyleModel",
      "state": {
       "description_width": ""
      }
     },
     "179b8ba18f2d477998d35557db0029ba": {
      "model_module": "@jupyter-widgets/controls",
      "model_module_version": "1.5.0",
      "model_name": "DescriptionStyleModel",
      "state": {
       "description_width": "initial"
      }
     },
     "18234c275cd641c29a96fd3e7a93dab0": {
      "model_module": "@jupyter-widgets/controls",
      "model_module_version": "1.5.0",
      "model_name": "ToggleButtonModel",
      "state": {
       "description": "Zoom on selection",
       "icon": "check",
       "layout": "IPY_MODEL_8c2a7adf9732447dbcc57218d6c99e95",
       "style": "IPY_MODEL_13f94b2dc5944f20b87efc0b861844f8",
       "tooltip": "Keep plot extent on selection",
       "value": true
      }
     },
     "1899bee5dc534872a2e5b2546dcfcf8b": {
      "model_module": "@jupyter-widgets/base",
      "model_module_version": "1.2.0",
      "model_name": "LayoutModel",
      "state": {}
     },
     "18ee0b32fa9e4b979f3dca93a9dcc95d": {
      "model_module": "@jupyter-widgets/base",
      "model_module_version": "1.2.0",
      "model_name": "LayoutModel",
      "state": {}
     },
     "19a90daa8ef74b11a0ef1ff033dc87b8": {
      "model_module": "@jupyter-widgets/base",
      "model_module_version": "1.2.0",
      "model_name": "LayoutModel",
      "state": {}
     },
     "19b348936db842ea858fd41327774314": {
      "model_module": "@jupyter-widgets/controls",
      "model_module_version": "1.5.0",
      "model_name": "DescriptionStyleModel",
      "state": {
       "description_width": ""
      }
     },
     "19f3d4c3e7124e6c942ee64b63b88785": {
      "model_module": "@jupyter-widgets/base",
      "model_module_version": "1.2.0",
      "model_name": "LayoutModel",
      "state": {}
     },
     "1adf49b762bf40589824436ef4fff5cd": {
      "model_module": "@jupyter-widgets/base",
      "model_module_version": "1.2.0",
      "model_name": "LayoutModel",
      "state": {
       "display": "none",
       "grid_gap": "0px 0px",
       "grid_template_areas": "\n                    'pathlist pathlist'\n                    'dircontent dircontent'\n                    ",
       "grid_template_columns": "60% 40%",
       "grid_template_rows": "auto auto",
       "width": "500px"
      }
     },
     "1b0bb6a40d524a1099fc65027fcc5411": {
      "model_module": "@jupyter-widgets/controls",
      "model_module_version": "1.5.0",
      "model_name": "SliderStyleModel",
      "state": {
       "description_width": ""
      }
     },
     "1b3dcec330ed46eb982f5cf5870c1cde": {
      "model_module": "@jupyter-widgets/controls",
      "model_module_version": "1.5.0",
      "model_name": "LabelModel",
      "state": {
       "layout": "IPY_MODEL_19f3d4c3e7124e6c942ee64b63b88785",
       "style": "IPY_MODEL_fd18cbc23f3d4e3da9bd31ff3e2280be",
       "value": "Workspace"
      }
     },
     "1c2c6a84b85f4a479d7dffc2011f7faa": {
      "model_module": "@jupyter-widgets/controls",
      "model_module_version": "1.5.0",
      "model_name": "DescriptionStyleModel",
      "state": {
       "description_width": "initial"
      }
     },
     "1c6d4409825f42778821bd8fb0d88fb3": {
      "model_module": "@jupyter-widgets/controls",
      "model_module_version": "1.5.0",
      "model_name": "DescriptionStyleModel",
      "state": {
       "description_width": ""
      }
     },
     "1d41021d84ce48a1901499bba8487484": {
      "model_module": "@jupyter-widgets/base",
      "model_module_version": "1.2.0",
      "model_name": "LayoutModel",
      "state": {}
     },
     "1da2eb96565d4235b6be76b9cd08025a": {
      "model_module": "@jupyter-widgets/controls",
      "model_module_version": "1.5.0",
      "model_name": "DescriptionStyleModel",
      "state": {
       "description_width": "initial"
      }
     },
     "1dcd10ef1cdf45fcbac7b6c60084de28": {
      "model_module": "@jupyter-widgets/controls",
      "model_module_version": "1.5.0",
      "model_name": "FloatSliderModel",
      "state": {
       "continuous_update": false,
       "description": "Azimuth",
       "layout": "IPY_MODEL_86434506b63245d99d39f5fa4f7f01cd",
       "max": 90,
       "min": -90,
       "step": 0.1,
       "style": "IPY_MODEL_81157d1338754f6d9467432c3c036e55"
      }
     },
     "1e4416878a2242b68e236f3a89e03dee": {
      "model_module": "@jupyter-widgets/controls",
      "model_module_version": "1.5.0",
      "model_name": "VBoxModel",
      "state": {
       "children": [
        "IPY_MODEL_d4f7d4627a954dd786cb04edecf801c8",
        "IPY_MODEL_d34b74825b04492980b9dd00c161c9fa"
       ],
       "layout": "IPY_MODEL_a889c2dae2184b178ff29f65cea53ddd"
      }
     },
     "1f446c76526a4ec9bc96f80e6c6b35f6": {
      "model_module": "@jupyter-widgets/controls",
      "model_module_version": "1.5.0",
      "model_name": "HBoxModel",
      "state": {
       "children": [
        "IPY_MODEL_11cd02d779834e0b9576cd9b899f767f",
        "IPY_MODEL_448b93a98b0547cca35ca47ace744dc3",
        "IPY_MODEL_d2836815514d496c86d201ea6c2eaf97"
       ],
       "layout": "IPY_MODEL_8a19a9113482465d8a46a2c2dee367ec"
      }
     },
     "1f6724cad5bc4d3fabf13fa4a106b1fc": {
      "model_module": "@jupyter-widgets/base",
      "model_module_version": "1.2.0",
      "model_name": "LayoutModel",
      "state": {}
     },
     "206fef80a0f7436c9823ffeff1bfc660": {
      "model_module": "@jupyter-widgets/base",
      "model_module_version": "1.2.0",
      "model_name": "LayoutModel",
      "state": {}
     },
     "20de34a304fe410aab434d200eda1d7c": {
      "model_module": "@jupyter-widgets/base",
      "model_module_version": "1.2.0",
      "model_name": "LayoutModel",
      "state": {}
     },
     "21243e7f624e4eec93f67ea29accdf93": {
      "model_module": "@jupyter-widgets/controls",
      "model_module_version": "1.5.0",
      "model_name": "VBoxModel",
      "state": {
       "children": [
        "IPY_MODEL_403c28ed5f274d5fa2281bd2e934f916",
        "IPY_MODEL_21d47fc844b2407d871e1df0a92791ed"
       ],
       "layout": "IPY_MODEL_9ec466b93260493689bee7dcf9d050e8"
      }
     },
     "2125402a0b20490bb14f8af5bf2f00dd": {
      "model_module": "@jupyter-widgets/base",
      "model_module_version": "1.2.0",
      "model_name": "LayoutModel",
      "state": {
       "width": "auto"
      }
     },
     "214a467f32f245a4bd80e1d8c9173c8e": {
      "model_module": "@jupyter-widgets/controls",
      "model_module_version": "1.5.0",
      "model_name": "DropdownModel",
      "state": {
       "_options_labels": [
        "C:\\Users\\dominiquef\\Documents\\GIT\\mira\\mirageoscience-apps\\assets",
        "C:\\Users\\dominiquef\\Documents\\GIT\\mira\\mirageoscience-apps",
        "C:\\Users\\dominiquef\\Documents\\GIT\\mira",
        "C:\\Users\\dominiquef\\Documents\\GIT",
        "C:\\Users\\dominiquef\\Documents",
        "C:\\Users\\dominiquef",
        "C:\\Users",
        "C:\\",
        "D:\\",
        "Z:\\"
       ],
       "index": 0,
       "layout": "IPY_MODEL_00a2dbdacdda4b29aca43a15b3d70bd3",
       "style": "IPY_MODEL_aecb5bc2b0474c43abd9926829ea2c25"
      }
     },
     "215acf550d204b7daa890148f75a1f37": {
      "model_module": "@jupyter-widgets/controls",
      "model_module_version": "1.5.0",
      "model_name": "HBoxModel",
      "state": {
       "children": [
        "IPY_MODEL_4b985897c2924081950171535158e354",
        "IPY_MODEL_491ba33dd29f4751b897d470c7c98db6",
        "IPY_MODEL_2fe33044692e4e8cbde22636821b89c3"
       ],
       "layout": "IPY_MODEL_0fad4870901d4f82be19d29cd325ed19"
      }
     },
     "21afddee94b2455bbab4e0104431230e": {
      "model_module": "@jupyter-widgets/base",
      "model_module_version": "1.2.0",
      "model_name": "LayoutModel",
      "state": {}
     },
     "21b8299ec4a448b186d1f6cb978508d0": {
      "model_module": "@jupyter-widgets/controls",
      "model_module_version": "1.5.0",
      "model_name": "DescriptionStyleModel",
      "state": {
       "description_width": ""
      }
     },
     "21d47fc844b2407d871e1df0a92791ed": {
      "model_module": "@jupyter-widgets/controls",
      "model_module_version": "1.5.0",
      "model_name": "LabelModel",
      "state": {
       "layout": "IPY_MODEL_3834dfa3876741a384189ecede40e87e",
       "style": "IPY_MODEL_58ffa3b57e9b490684bb7e5f80da398d",
       "value": "Data Count: 21362"
      }
     },
     "21eaede2955f44a6b4df855f9c7c28ee": {
      "model_module": "@jupyter-widgets/base",
      "model_module_version": "1.2.0",
      "model_name": "LayoutModel",
      "state": {}
     },
     "229244cb6cc44fc88e444f5ac9608f71": {
      "model_module": "@jupyter-widgets/base",
      "model_module_version": "1.2.0",
      "model_name": "LayoutModel",
      "state": {
       "width": "auto"
      }
     },
     "22a738cfdf6349ebab939c4fb05b4ab6": {
      "model_module": "@jupyter-widgets/base",
      "model_module_version": "1.2.0",
      "model_name": "LayoutModel",
      "state": {}
     },
     "22b2c99a3dde44c0982fa5386fe888b5": {
      "model_module": "@jupyter-widgets/controls",
      "model_module_version": "1.5.0",
      "model_name": "ToggleButtonModel",
      "state": {
       "description": "Zoom on selection",
       "icon": "check",
       "layout": "IPY_MODEL_5dd73db70a3c4b259c8a3baa15f8c57c",
       "style": "IPY_MODEL_40cf4138ca2f4ddf98c55ed93b85a2a3",
       "tooltip": "Keep plot extent on selection",
       "value": true
      }
     },
     "230f4e1f16c747ddac6a6d8a634a3beb": {
      "model_module": "@jupyter-widgets/controls",
      "model_module_version": "1.5.0",
      "model_name": "FloatSliderModel",
      "state": {
       "continuous_update": false,
       "description": "Height",
       "layout": "IPY_MODEL_c4aef16674bd4877bf9723e049acf982",
       "max": 11351.865002485923,
       "orientation": "vertical",
       "step": 0.1,
       "style": "IPY_MODEL_2798802324d24264ae1544ed27313de7",
       "value": 5675.932501242962
      }
     },
     "23b93f0c3e5e43f09abb902b43fbf7e5": {
      "model_module": "@jupyter-widgets/base",
      "model_module_version": "1.2.0",
      "model_name": "LayoutModel",
      "state": {
       "width": "auto"
      }
     },
     "23e2d20ce0f94846928cf1ea8481d840": {
      "model_module": "@jupyter-widgets/base",
      "model_module_version": "1.2.0",
      "model_name": "LayoutModel",
      "state": {}
     },
     "248ffcb8e16945f694a506fc24904b8d": {
      "model_module": "@jupyter-widgets/controls",
      "model_module_version": "1.5.0",
      "model_name": "HTMLModel",
      "state": {
       "layout": "IPY_MODEL_e77bdf8e4ee7478da1b87250027ae4cb",
       "placeholder": "",
       "style": "IPY_MODEL_19b348936db842ea858fd41327774314",
       "value": "<span style=\"margin-left:10px; color:black;\">No file selected</span>"
      }
     },
     "24d189b3ba164f06b1526cf4bb0e6ef7": {
      "model_module": "@jupyter-widgets/controls",
      "model_module_version": "1.5.0",
      "model_name": "DropdownModel",
      "state": {
       "_options_labels": [
        "",
        "--- Channels ---",
        "Airborne_Gxx",
        "Airborne_Gxy",
        "Airborne_Gxz",
        "Airborne_Gyy",
        "Airborne_Gyz",
        "Airborne_Gz",
        "Airborne_Gzz",
        "Airborne_TMI",
        "Ground_Gz",
        "Z"
       ],
       "description": "Data: ",
       "index": 9,
       "layout": "IPY_MODEL_62d0afe982744d109fc34f45e1b7aba2",
       "style": "IPY_MODEL_0215834beef74b93b7afe09f31cdede4"
      }
     },
     "2506a4b2376648729354b413286e7a1f": {
      "model_module": "@jupyter-widgets/base",
      "model_module_version": "1.2.0",
      "model_name": "LayoutModel",
      "state": {}
     },
     "255e7034888044b59541db51e8d85de9": {
      "model_module": "@jupyter-widgets/base",
      "model_module_version": "1.2.0",
      "model_name": "LayoutModel",
      "state": {}
     },
     "25ef267a08b94fda88b6ccad5e1372ed": {
      "model_module": "@jupyter-widgets/base",
      "model_module_version": "1.2.0",
      "model_name": "LayoutModel",
      "state": {}
     },
     "2679708236a1406d8b5cdd5ad29627ab": {
      "model_module": "@jupyter-widgets/base",
      "model_module_version": "1.2.0",
      "model_name": "LayoutModel",
      "state": {}
     },
     "27026584a1e34b73a207193e3169f1b9": {
      "model_module": "@jupyter-widgets/base",
      "model_module_version": "1.2.0",
      "model_name": "LayoutModel",
      "state": {}
     },
     "2733cc6164e34a49b3172add1cc70626": {
      "model_module": "@jupyter-widgets/controls",
      "model_module_version": "1.5.0",
      "model_name": "VBoxModel",
      "state": {
       "children": [
        "IPY_MODEL_9a562a908a2d4604bf505ab7d2d91e55",
        "IPY_MODEL_d889ba1ac856486aa0c043e9e5501a3d"
       ],
       "layout": "IPY_MODEL_4f5b7d1b852c4e6287648eee63901587"
      }
     },
     "273a20f867d1457e8a325802cdc57cbd": {
      "model_module": "@jupyter-widgets/base",
      "model_module_version": "1.2.0",
      "model_name": "LayoutModel",
      "state": {}
     },
     "277cac321eec47d8b5daffa3939700b7": {
      "model_module": "@jupyter-widgets/controls",
      "model_module_version": "1.5.0",
      "model_name": "DescriptionStyleModel",
      "state": {
       "description_width": ""
      }
     },
     "2798802324d24264ae1544ed27313de7": {
      "model_module": "@jupyter-widgets/controls",
      "model_module_version": "1.5.0",
      "model_name": "SliderStyleModel",
      "state": {
       "description_width": ""
      }
     },
     "27ae93aa159a40328de919ee27d3b2f5": {
      "model_module": "@jupyter-widgets/base",
      "model_module_version": "1.2.0",
      "model_name": "LayoutModel",
      "state": {
       "display": "none",
       "width": "auto"
      }
     },
     "27b87017a9e446ba8034df14868518a2": {
      "model_module": "@jupyter-widgets/controls",
      "model_module_version": "1.5.0",
      "model_name": "SelectModel",
      "state": {
       "_options_labels": [
        "..",
        "Temp",
        "dask-worker-space",
        "Crossplot.html",
        "FlinFlon.geoh5",
        "FlinFlon_light.geoh5",
        "MtDore_TMI.geoh5"
       ],
       "index": 4,
       "layout": "IPY_MODEL_a4204f42822e4e949fc18dd6de704d6e",
       "rows": 8,
       "style": "IPY_MODEL_1535d09a29a24c9088d27603a64f6a3a"
      }
     },
     "27c64c18a1384a6ebac479681d9d5887": {
      "model_module": "@jupyter-widgets/controls",
      "model_module_version": "1.5.0",
      "model_name": "VBoxModel",
      "state": {
       "children": [
        "IPY_MODEL_917b27ff1ff24ae7a81ec3e27e5bef4c"
       ],
       "layout": "IPY_MODEL_b8111841cae24158af2bccdc5ff3b20e"
      }
     },
     "286826dd51264f2895caebb744a8d357": {
      "model_module": "@jupyter-widgets/base",
      "model_module_version": "1.2.0",
      "model_name": "LayoutModel",
      "state": {
       "align_items": "center"
      }
     },
     "28b986ad78ef4d95a63ead6c483a9c65": {
      "model_module": "@jupyter-widgets/base",
      "model_module_version": "1.2.0",
      "model_name": "LayoutModel",
      "state": {}
     },
     "2904c4633fe6426793f866f7f59e24e0": {
      "model_module": "@jupyter-widgets/controls",
      "model_module_version": "1.5.0",
      "model_name": "DescriptionStyleModel",
      "state": {
       "description_width": ""
      }
     },
     "29095797fcd9489889a531837788da95": {
      "model_module": "@jupyter-widgets/base",
      "model_module_version": "1.2.0",
      "model_name": "LayoutModel",
      "state": {}
     },
     "2970326f76a54b88a8dd4adad66dfeb1": {
      "model_module": "@jupyter-widgets/controls",
      "model_module_version": "1.5.0",
      "model_name": "VBoxModel",
      "state": {
       "children": [
        "IPY_MODEL_5f6555c718984e9cbc3e9050806b5d0b",
        "IPY_MODEL_0766c9ec20bf40e287a17f7124a75a70"
       ],
       "layout": "IPY_MODEL_51d1a93cf47b4a83bf16ad395971282b"
      }
     },
     "29baca2b981247eb9556cba9272cfa1c": {
      "model_module": "@jupyter-widgets/controls",
      "model_module_version": "1.5.0",
      "model_name": "DescriptionStyleModel",
      "state": {
       "description_width": "initial"
      }
     },
     "2a677f1230f142a1970bda4115c905ff": {
      "model_module": "@jupyter-widgets/controls",
      "model_module_version": "1.5.0",
      "model_name": "DescriptionStyleModel",
      "state": {
       "description_width": ""
      }
     },
     "2a77f06ecc524962806cd843149f6f31": {
      "model_module": "@jupyter-widgets/controls",
      "model_module_version": "1.5.0",
      "model_name": "DescriptionStyleModel",
      "state": {
       "description_width": ""
      }
     },
     "2a840813a80b42079f51c1e789c67a0e": {
      "model_module": "@jupyter-widgets/base",
      "model_module_version": "1.2.0",
      "model_name": "LayoutModel",
      "state": {}
     },
     "2a9119e1777040459c5dceec5d8f6dba": {
      "model_module": "@jupyter-widgets/controls",
      "model_module_version": "1.5.0",
      "model_name": "FloatSliderModel",
      "state": {
       "continuous_update": false,
       "description": "Northing",
       "layout": "IPY_MODEL_0651fed11e0d4196899110c0cb32e5d3",
       "max": 6076443.652111261,
       "min": 6065091.787108775,
       "orientation": "vertical",
       "step": 0.1,
       "style": "IPY_MODEL_ae842dcf65c44a2fb72237269339ece2",
       "value": 6070767.719610019
      }
     },
     "2b1b9e0236554ad7abc60b426cbe7560": {
      "model_module": "@jupyter-widgets/base",
      "model_module_version": "1.2.0",
      "model_name": "LayoutModel",
      "state": {
       "display": "none",
       "grid_gap": "0px 0px",
       "grid_template_areas": "\n                    'pathlist pathlist'\n                    'dircontent dircontent'\n                    ",
       "grid_template_columns": "60% 40%",
       "grid_template_rows": "auto auto",
       "width": "500px"
      }
     },
     "2bdeac8ceecf4201a0d3d0ecf436cac6": {
      "model_module": "@jupyter-widgets/controls",
      "model_module_version": "1.5.0",
      "model_name": "VBoxModel",
      "state": {
       "children": [
        "IPY_MODEL_0f125a3a8bc34b8999b5198194b549b1",
        "IPY_MODEL_f3feb35821674e278f107320a4d5a22a",
        "IPY_MODEL_215acf550d204b7daa890148f75a1f37"
       ],
       "layout": "IPY_MODEL_425c803cabae4f31a6116917e03dfcbd"
      }
     },
     "2c20dd62c07744a88822389a90296972": {
      "model_module": "@jupyter-widgets/controls",
      "model_module_version": "1.5.0",
      "model_name": "HTMLModel",
      "state": {
       "layout": "IPY_MODEL_f28f3a512cf94a1f828bab7101b75988",
       "placeholder": "",
       "style": "IPY_MODEL_4af66426f9d14f9a8abb9d385404c916",
       "value": "<span style=\"margin-left:10px; color:black;\">No file selected</span>"
      }
     },
     "2c653aae5da0491f82225b9a08a5c034": {
      "model_module": "@jupyter-widgets/base",
      "model_module_version": "1.2.0",
      "model_name": "LayoutModel",
      "state": {}
     },
     "2d36cd714ef9464eb444fae12f01ee05": {
      "model_module": "@jupyter-widgets/base",
      "model_module_version": "1.2.0",
      "model_name": "LayoutModel",
      "state": {
       "grid_area": "pathlist",
       "width": "auto"
      }
     },
     "2da24e74557f4ed98339f92acd678d4c": {
      "model_module": "@jupyter-widgets/controls",
      "model_module_version": "1.5.0",
      "model_name": "VBoxModel",
      "state": {
       "children": [
        "IPY_MODEL_7541ca2b900e4d40bacf116225fe98d7",
        "IPY_MODEL_feda683a86314cf4bfa1a234b1e30ff2"
       ],
       "layout": "IPY_MODEL_0954dc215e434ef9993bda2f56e2f75d"
      }
     },
     "2dbaae1ff2604d5e955293d9669aba17": {
      "model_module": "@jupyter-widgets/controls",
      "model_module_version": "1.5.0",
      "model_name": "SliderStyleModel",
      "state": {
       "description_width": ""
      }
     },
     "2debed4a268449b190e293fee00b38f9": {
      "model_module": "@jupyter-widgets/controls",
      "model_module_version": "1.5.0",
      "model_name": "VBoxModel",
      "state": {
       "children": [
        "IPY_MODEL_6222c470d96a41d09ceb48be4219dd62",
        "IPY_MODEL_f92a61b35874493e857ff46d0a4ded64",
        "IPY_MODEL_ef3350a7dbcf40aa858803d6d03f3dcc"
       ],
       "layout": "IPY_MODEL_ca995dc2910b45ca9e24cc27fff64294"
      }
     },
     "2f0e2922f72f41498839fbab3974e66a": {
      "model_module": "@jupyter-widgets/controls",
      "model_module_version": "1.5.0",
      "model_name": "ToggleButtonModel",
      "state": {
       "description": "Zoom on selection",
       "icon": "check",
       "layout": "IPY_MODEL_e1c6f59bab014217aba450f314e95d40",
       "style": "IPY_MODEL_d137313f4f2f494ebda3de570c33bd52",
       "tooltip": "Keep plot extent on selection",
       "value": true
      }
     },
     "2f3d17e8888b49e78f19a3c6c87442fc": {
      "model_module": "@jupyter-widgets/controls",
      "model_module_version": "1.5.0",
      "model_name": "DescriptionStyleModel",
      "state": {
       "description_width": ""
      }
     },
     "2f78ee25a53446fda261b952699b9fb7": {
      "model_module": "@jupyter-widgets/base",
      "model_module_version": "1.2.0",
      "model_name": "LayoutModel",
      "state": {}
     },
     "2fc82011ab5b4255abd7b01d7f16ea1f": {
      "model_module": "@jupyter-widgets/base",
      "model_module_version": "1.2.0",
      "model_name": "LayoutModel",
      "state": {}
     },
     "2fe33044692e4e8cbde22636821b89c3": {
      "model_module": "@jupyter-widgets/controls",
      "model_module_version": "1.5.0",
      "model_name": "HTMLModel",
      "state": {
       "layout": "IPY_MODEL_5fa89d8a3e804642a8bff08ee0201bb1",
       "placeholder": "",
       "style": "IPY_MODEL_6be9c5bc4e354245920f314f12cb716f",
       "value": "<span style=\"margin-left:10px; color:orange;\">C:\\Users\\dominiquef\\Documents\\GIT\\mira\\mirageoscience-apps\\assets\\FlinFlon.geoh5</span>"
      }
     },
     "30011332890f40408a81900f22e9fd42": {
      "model_module": "@jupyter-widgets/controls",
      "model_module_version": "1.5.0",
      "model_name": "DescriptionStyleModel",
      "state": {
       "description_width": ""
      }
     },
     "3013443408044444886af8fc6577383b": {
      "model_module": "@jupyter-widgets/controls",
      "model_module_version": "1.5.0",
      "model_name": "VBoxModel",
      "state": {
       "children": [
        "IPY_MODEL_851999b72a95428387d1f4ada8562663",
        "IPY_MODEL_8e297780d4b745a4a7910cbb016f98ce"
       ],
       "layout": "IPY_MODEL_71c2d64c36c24b34b645337dfb89d5b9"
      }
     },
     "304988f47f9f4ab5bafda2f80b0e4666": {
      "model_module": "@jupyter-widgets/controls",
      "model_module_version": "1.5.0",
      "model_name": "SliderStyleModel",
      "state": {
       "description_width": ""
      }
     },
     "30a765a5ff23443b8861c8a410738bd5": {
      "model_module": "@jupyter-widgets/base",
      "model_module_version": "1.2.0",
      "model_name": "LayoutModel",
      "state": {
       "display": "none"
      }
     },
     "30dd40c7d8f849b6ab4eccb8e53651e4": {
      "model_module": "@jupyter-widgets/base",
      "model_module_version": "1.2.0",
      "model_name": "LayoutModel",
      "state": {}
     },
     "31160b0c5d664150843511e4266c80f4": {
      "model_module": "@jupyter-widgets/controls",
      "model_module_version": "1.5.0",
      "model_name": "TextModel",
      "state": {
       "layout": "IPY_MODEL_faeb540bffb24cb798b070d9aec796bb",
       "placeholder": "output filename",
       "style": "IPY_MODEL_8fce37359599479a98dbc120bdb0624b",
       "value": "FlinFlon.geoh5"
      }
     },
     "31e6b403cfee49cd8dc2a667b90fc5c5": {
      "model_module": "@jupyter-widgets/controls",
      "model_module_version": "1.5.0",
      "model_name": "TextModel",
      "state": {
       "continuous_update": false,
       "description": "Contours",
       "layout": "IPY_MODEL_02fe9f4f1d804b08b576a7c4ad2489e5",
       "style": "IPY_MODEL_dc3c4e2496fd408cbf8dba4ca0ebad06"
      }
     },
     "3231f9f4e1964145b908fb39bde27eff": {
      "model_module": "@jupyter-widgets/base",
      "model_module_version": "1.2.0",
      "model_name": "LayoutModel",
      "state": {}
     },
     "32802437ae584a53b48a2993f12dbb87": {
      "model_module": "@jupyter-widgets/controls",
      "model_module_version": "1.5.0",
      "model_name": "ButtonModel",
      "state": {
       "description": "Create copy:",
       "layout": "IPY_MODEL_29095797fcd9489889a531837788da95",
       "style": "IPY_MODEL_027b05070fd04e83b1e8bd5fec03aafe"
      }
     },
     "32a30ab07e7e4488b282d830caff9754": {
      "model_module": "@jupyter-widgets/base",
      "model_module_version": "1.2.0",
      "model_name": "LayoutModel",
      "state": {}
     },
     "333141d2971a40589d45e27cda703674": {
      "model_module": "@jupyter-widgets/controls",
      "model_module_version": "1.5.0",
      "model_name": "HTMLModel",
      "state": {
       "layout": "IPY_MODEL_d66e15b5eb6d42d89e1631ff8296ad4a",
       "style": "IPY_MODEL_3ea92f5b518a480fb3b02eaee004ee0d"
      }
     },
     "33a1b76e56b34f68bd45cd61e961b506": {
      "model_module": "@jupyter-widgets/controls",
      "model_module_version": "1.5.0",
      "model_name": "ButtonStyleModel",
      "state": {}
     },
     "3457e8a7192a41ada6d80e6e56d5382b": {
      "model_module": "@jupyter-widgets/base",
      "model_module_version": "1.2.0",
      "model_name": "LayoutModel",
      "state": {
       "grid_area": "filename",
       "width": "auto"
      }
     },
     "34629c674c0b46dbad032401cb060b00": {
      "model_module": "@jupyter-widgets/controls",
      "model_module_version": "1.5.0",
      "model_name": "DescriptionStyleModel",
      "state": {
       "description_width": ""
      }
     },
     "34c0c38645c84ffc98a648c00d2481f5": {
      "model_module": "@jupyter-widgets/controls",
      "model_module_version": "1.5.0",
      "model_name": "DescriptionStyleModel",
      "state": {
       "description_width": "initial"
      }
     },
     "357d1cc40adf4d6480c2fbfa9bac0fdd": {
      "model_module": "@jupyter-widgets/controls",
      "model_module_version": "1.5.0",
      "model_name": "SliderStyleModel",
      "state": {
       "description_width": ""
      }
     },
     "36249877570d4bd7a9fd3dfa9168faa3": {
      "model_module": "@jupyter-widgets/base",
      "model_module_version": "1.2.0",
      "model_name": "LayoutModel",
      "state": {
       "width": "auto"
      }
     },
     "364b12e6635e42128ba5317594bbc2a0": {
      "model_module": "@jupyter-widgets/base",
      "model_module_version": "1.2.0",
      "model_name": "LayoutModel",
      "state": {
       "display": "none",
       "grid_area": "filename",
       "width": "auto"
      }
     },
     "36a4dc4bb9aa42a39c9dcaf56b3b66dd": {
      "model_module": "@jupyter-widgets/controls",
      "model_module_version": "1.5.0",
      "model_name": "FloatSliderModel",
      "state": {
       "continuous_update": false,
       "description": "Northing",
       "layout": "IPY_MODEL_700f57bfa50b45c58fc939c9c3409eca",
       "max": 6076443.652111261,
       "min": 6065091.787108775,
       "orientation": "vertical",
       "step": 0.1,
       "style": "IPY_MODEL_e94318a52bb6457888cc574da3f54180",
       "value": 6070767.719610019
      }
     },
     "36c2fea6174241179275b0ef569f1928": {
      "model_module": "@jupyter-widgets/base",
      "model_module_version": "1.2.0",
      "model_name": "LayoutModel",
      "state": {}
     },
     "372589b4ca684ed7ac71bcd408f3feda": {
      "model_module": "@jupyter-widgets/base",
      "model_module_version": "1.2.0",
      "model_name": "LayoutModel",
      "state": {
       "width": "auto"
      }
     },
     "3766a0d43f1b4236b4d5fd41fb0751b9": {
      "model_module": "@jupyter-widgets/controls",
      "model_module_version": "1.5.0",
      "model_name": "TextModel",
      "state": {
       "disabled": true,
       "layout": "IPY_MODEL_c69d0cdd986f4ec19307a85553414ec8",
       "placeholder": "output filename",
       "style": "IPY_MODEL_a330be184e4e486bb516a93d8947be75"
      }
     },
     "3774609e464a442d80d96730f6c9f752": {
      "model_module": "@jupyter-widgets/controls",
      "model_module_version": "1.5.0",
      "model_name": "VBoxModel",
      "state": {
       "children": [
        "IPY_MODEL_b731141695f24782b31680ea018c2b73",
        "IPY_MODEL_53cbbb8ca9284add808b9641c4d58eab"
       ],
       "layout": "IPY_MODEL_ad69e9dad392452cb84cbf2d7a12c304"
      }
     },
     "378f74446bf146219e4b0774f956ba4f": {
      "model_module": "@jupyter-widgets/controls",
      "model_module_version": "1.5.0",
      "model_name": "ButtonModel",
      "state": {
       "description": "Cancel",
       "layout": "IPY_MODEL_95d25410d3d64948be30cacf67b5c660",
       "style": "IPY_MODEL_c89a52ade2d147e897d3af66d8bd5cab"
      }
     },
     "3834dfa3876741a384189ecede40e87e": {
      "model_module": "@jupyter-widgets/base",
      "model_module_version": "1.2.0",
      "model_name": "LayoutModel",
      "state": {}
     },
     "3844ad38bb8a4571a6275ccb6661eb60": {
      "model_module": "@jupyter-widgets/controls",
      "model_module_version": "1.5.0",
      "model_name": "DescriptionStyleModel",
      "state": {
       "description_width": "initial"
      }
     },
     "38951c11fc314b4ca1d58c89a14249b4": {
      "model_module": "@jupyter-widgets/base",
      "model_module_version": "1.2.0",
      "model_name": "LayoutModel",
      "state": {}
     },
     "38b5e7352e9346ae9808cee75624bbdd": {
      "model_module": "@jupyter-widgets/controls",
      "model_module_version": "1.5.0",
      "model_name": "ButtonStyleModel",
      "state": {}
     },
     "38c6d66d3001435ebb65ed18b64e285b": {
      "model_module": "@jupyter-widgets/base",
      "model_module_version": "1.2.0",
      "model_name": "LayoutModel",
      "state": {}
     },
     "390dc36200dd4ff78d810fa7fb62283c": {
      "model_module": "@jupyter-widgets/controls",
      "model_module_version": "1.5.0",
      "model_name": "VBoxModel",
      "state": {
       "children": [
        "IPY_MODEL_83792c89722248248992c7ee3492182e",
        "IPY_MODEL_d3cea15babfe48d4907068f4be986c5d"
       ],
       "layout": "IPY_MODEL_505fe23bc0cb43f2a2e06d4c147bd6ef"
      }
     },
     "395b76f069344e7f94c5ca919176367a": {
      "model_module": "@jupyter-widgets/base",
      "model_module_version": "1.2.0",
      "model_name": "LayoutModel",
      "state": {
       "grid_area": "dircontent",
       "width": "auto"
      }
     },
     "3a5be4e734124aca92af9d59712e623f": {
      "model_module": "@jupyter-widgets/base",
      "model_module_version": "1.2.0",
      "model_name": "LayoutModel",
      "state": {}
     },
     "3a73e6a273af43cbaf9b79b348fdac42": {
      "model_module": "@jupyter-widgets/controls",
      "model_module_version": "1.5.0",
      "model_name": "DescriptionStyleModel",
      "state": {
       "description_width": ""
      }
     },
     "3ac8c204081347deaa3fe81c87ae22f9": {
      "model_module": "@jupyter-widgets/base",
      "model_module_version": "1.2.0",
      "model_name": "LayoutModel",
      "state": {}
     },
     "3b03e73c7ee749f2a8c32be2f89a23de": {
      "model_module": "@jupyter-widgets/controls",
      "model_module_version": "1.5.0",
      "model_name": "HTMLModel",
      "state": {
       "layout": "IPY_MODEL_fa0346d480ac4e6d927707b3d9d545c3",
       "placeholder": "",
       "style": "IPY_MODEL_ec3eb9f518f24eb192238e9f956fcad2",
       "value": "<span style=\"margin-left:10px; color:orange;\">C:\\Users\\dominiquef\\Documents\\GIT\\mira\\mirageoscience-apps\\assets\\FlinFlon.geoh5</span>"
      }
     },
     "3b342c459d904102ba3acb629844aa88": {
      "model_module": "@jupyter-widgets/controls",
      "model_module_version": "1.5.0",
      "model_name": "DescriptionStyleModel",
      "state": {
       "description_width": ""
      }
     },
     "3b90423a4cee41039a7156e12f1f3b9b": {
      "model_module": "@jupyter-widgets/controls",
      "model_module_version": "1.5.0",
      "model_name": "HTMLModel",
      "state": {
       "layout": "IPY_MODEL_71f1785087af4d08b72d5cd6a56512cd",
       "style": "IPY_MODEL_74e9cd33828c4aefa4532299e627c50d"
      }
     },
     "3be6008c759340cb822ca3f82a792290": {
      "model_module": "@jupyter-widgets/controls",
      "model_module_version": "1.5.0",
      "model_name": "VBoxModel",
      "state": {
       "children": [
        "IPY_MODEL_cc35cc1ef0d549f5886d64b9171cdf08",
        "IPY_MODEL_f6dc42366b814b309c38bcd4d5a0dbad"
       ],
       "layout": "IPY_MODEL_6126d107ca4447beb2a4b9cc9de87b05"
      }
     },
     "3c1af0c679c144d099b9b107ec5a7550": {
      "model_module": "@jupyter-widgets/controls",
      "model_module_version": "1.5.0",
      "model_name": "DescriptionStyleModel",
      "state": {
       "description_width": ""
      }
     },
     "3c9442fb4b7d4cbd955d2160c1b8842d": {
      "model_module": "@jupyter-widgets/controls",
      "model_module_version": "1.5.0",
      "model_name": "ButtonModel",
      "state": {
       "button_style": "danger",
       "description": "Compute",
       "icon": "check",
       "layout": "IPY_MODEL_e503b41af7b94ae4b6608182f045ae2a",
       "style": "IPY_MODEL_38b5e7352e9346ae9808cee75624bbdd",
       "tooltip": "Run computation"
      }
     },
     "3cb6be906c5c486a9901865c263322b9": {
      "model_module": "@jupyter-widgets/controls",
      "model_module_version": "1.5.0",
      "model_name": "DropdownModel",
      "state": {
       "_options_labels": [
        "",
        "fault_splay1",
        "fault_Cliff_Lake",
        "fault_Other_FlinFlon",
        "fault_Club_Lake_splay",
        "fault_Catherine_splay2",
        "fault_Birch_View",
        "fault_Dion_Lake",
        "fault_FlinFlon_splay",
        "fault_West_Mandy_Road",
        "fault_Channing",
        "fault_Ross_Lake",
        "fault_Louis_Hidden",
        "fault_Lake_View_thrust",
        "contact_Schist_Lake",
        "fault_Burley_Lake",
        "fault_Dion_Lake_splay",
        "fault_Green_Lake",
        "fault_FlinFlon",
        "fault_Catherine_splay1",
        "fault_East_Mandy_Road",
        "fault_Other_FlinFlon_South",
        "fault_Catherine_splay4",
        "contact_Stitt_Island",
        "fault_Club_Lake",
        "fault_Tailing_Pond",
        "35_Hidden_Reservoir_Hr5",
        "29_Hidden_Reservoir_Hr1a",
        "60_BlueLagoon_Fb2",
        "20_FlinFlon_Undivided_Int_Dykes_D2f",
        "04_Boundary_Intrusive_S4h",
        "53_Millrock_Rhyolite_Fm4b",
        "19_FlinFlon_Undivided_Int_Dykes_D2b",
        "18_FlinFlon_Undivided_Int_Dykes_777_D2b",
        "06_Phantom_Lake_Intrusive_S3a",
        "21_FlinFlon_Undivided_Int_Dykes_D3a",
        "43_Millrock_CHLSH_South",
        "56_Millrock_Basalt_Fm1ba",
        "17_FlinFlon_Undivided_Int_Dykes_D2",
        "32_Hidden_Reservoir_Hr1b_SW",
        "11_Missi_M3_NE",
        "13_Missi_M1",
        "07_Annabel_Granitoid_S1",
        "45_Millrock_Gabbro_South",
        "01_Late_Intrusive_S5b",
        "31_Hidden_Reservoir_Hr1c_SW",
        "52_Millrock_Rhyolite_Fm4_West_check",
        "55_Millrock_Basalt_Fm1bf",
        "34_Hidden_Reservoir_Hr2b",
        "03_Boundary_Intrusive_S4b",
        "42_Millrock_CHLSH_North",
        "26_Louis_L3",
        "23_FlinFlon_Undivided_Int_Felsic_D4g",
        "30_Hidden_Reservoir_Hr1b",
        "59_BlueLagoon_Fb3",
        "49_Millrock_MVR_Fm5d",
        "44_Millrock_Gabbro_North",
        "27_Hidden_Carlisle_Hc4",
        "22_FlinFlon_Undivided_Int_Felsic_D4e",
        "02_Boundary_Intrusive_S4a",
        "61_BlueLagoon_Fb1_NW",
        "05_Boundary_Intrusive_S4g",
        "39_Ore_Callinan",
        "38_Ore_Dan_Owens",
        "40_Ore_FlinFlon",
        "Inversion_VTEM_Model",
        "Gravity_Magnetics_drape60m",
        "CDI_VTEM_model",
        "Data_FEM_pseudo3D",
        "O2O_Interp_25m",
        "geochem",
        "Inversion_DIGHEM_Model",
        "Topography",
        "Data_TEM_pseudo3D"
       ],
       "description": "Object:",
       "index": 66,
       "layout": "IPY_MODEL_4a1dd9ee440540c3afa3a69f1906fd08",
       "style": "IPY_MODEL_f1821fe1f6c4489b893cd1f688533f8d"
      }
     },
     "3cbd02d8a0354d9dbfe2ee77c94b3aaf": {
      "model_module": "@jupyter-widgets/base",
      "model_module_version": "1.2.0",
      "model_name": "LayoutModel",
      "state": {
       "width": "auto"
      }
     },
     "3cce1745968b4dba8fc6e5da5e191c88": {
      "model_module": "@jupyter-widgets/controls",
      "model_module_version": "1.5.0",
      "model_name": "DescriptionStyleModel",
      "state": {
       "description_width": ""
      }
     },
     "3d25366c070240798373ffc67f903a71": {
      "model_module": "@jupyter-widgets/base",
      "model_module_version": "1.2.0",
      "model_name": "LayoutModel",
      "state": {}
     },
     "3d2f855560c04b408d0fae32cc129c3c": {
      "model_module": "@jupyter-widgets/base",
      "model_module_version": "1.2.0",
      "model_name": "LayoutModel",
      "state": {}
     },
     "3d7cf2933d2a4fd29ee588ba4acb5bbb": {
      "model_module": "@jupyter-widgets/base",
      "model_module_version": "1.2.0",
      "model_name": "LayoutModel",
      "state": {
       "display": "none"
      }
     },
     "3d8ca4515c4b45059df963806e82b9e3": {
      "model_module": "@jupyter-widgets/base",
      "model_module_version": "1.2.0",
      "model_name": "LayoutModel",
      "state": {}
     },
     "3dd3ee74bdcf43f8a9e15f77dfe2c32e": {
      "model_module": "@jupyter-widgets/base",
      "model_module_version": "1.2.0",
      "model_name": "LayoutModel",
      "state": {}
     },
     "3de8ac6104c74ea0b41fb0468c9c5140": {
      "model_module": "@jupyter-widgets/base",
      "model_module_version": "1.2.0",
      "model_name": "LayoutModel",
      "state": {
       "width": "auto"
      }
     },
     "3ea92f5b518a480fb3b02eaee004ee0d": {
      "model_module": "@jupyter-widgets/controls",
      "model_module_version": "1.5.0",
      "model_name": "DescriptionStyleModel",
      "state": {
       "description_width": ""
      }
     },
     "3f2df031caaf4a99849149d0d5f7b981": {
      "model_module": "@jupyter-widgets/base",
      "model_module_version": "1.2.0",
      "model_name": "LayoutModel",
      "state": {}
     },
     "3f2efd9440ff441ab2fc1c3094d68ac2": {
      "model_module": "@jupyter-widgets/base",
      "model_module_version": "1.2.0",
      "model_name": "LayoutModel",
      "state": {}
     },
     "3f46e51bdd27492da620805370f7fd70": {
      "model_module": "@jupyter-widgets/controls",
      "model_module_version": "1.5.0",
      "model_name": "VBoxModel",
      "state": {
       "children": [
        "IPY_MODEL_13e81944d825435e835c7ef17d2669d0",
        "IPY_MODEL_bb87143153b3481595ab387f5484b9b9"
       ],
       "layout": "IPY_MODEL_3d2f855560c04b408d0fae32cc129c3c"
      }
     },
     "3f56ba524ff5493b9f3714b1cccdb6fb": {
      "model_module": "@jupyter-widgets/controls",
      "model_module_version": "1.5.0",
      "model_name": "SliderStyleModel",
      "state": {
       "description_width": ""
      }
     },
     "3fc545adfccb4df392ff98a346383a30": {
      "model_module": "@jupyter-widgets/controls",
      "model_module_version": "1.5.0",
      "model_name": "DescriptionStyleModel",
      "state": {
       "description_width": ""
      }
     },
     "403c28ed5f274d5fa2281bd2e934f916": {
      "model_module": "@jupyter-widgets/controls",
      "model_module_version": "1.5.0",
      "model_name": "FloatTextModel",
      "state": {
       "description": "Grid Resolution (m)",
       "layout": "IPY_MODEL_ec9f48183c794af5b356546273040a8c",
       "step": null,
       "style": "IPY_MODEL_b7412339be834919aeef8c490f5aca0e"
      }
     },
     "4043cb64f5c34b51bc7d2a8fcaa3ed75": {
      "model_module": "@jupyter-widgets/base",
      "model_module_version": "1.2.0",
      "model_name": "LayoutModel",
      "state": {}
     },
     "40cf4138ca2f4ddf98c55ed93b85a2a3": {
      "model_module": "@jupyter-widgets/controls",
      "model_module_version": "1.5.0",
      "model_name": "DescriptionStyleModel",
      "state": {
       "description_width": ""
      }
     },
     "40d489a5fccc4dbe8998debccabc4f98": {
      "model_module": "@jupyter-widgets/base",
      "model_module_version": "1.2.0",
      "model_name": "LayoutModel",
      "state": {}
     },
     "4117cf2ddcb24aae9444a7ab6e9cb15f": {
      "model_module": "@jupyter-widgets/controls",
      "model_module_version": "1.5.0",
      "model_name": "SliderStyleModel",
      "state": {
       "description_width": ""
      }
     },
     "415a4a5181a841dfbbf93792fc64cece": {
      "model_module": "@jupyter-widgets/controls",
      "model_module_version": "1.5.0",
      "model_name": "HBoxModel",
      "state": {
       "children": [
        "IPY_MODEL_8cb0a9eb203940cbbe10d9ad14d27552",
        "IPY_MODEL_42da0b526ac244bf8872f9b3737d7272",
        "IPY_MODEL_cc437bcaa98042f686821eabe00370e1"
       ],
       "layout": "IPY_MODEL_2125402a0b20490bb14f8af5bf2f00dd"
      }
     },
     "4248eaa61bae40909c82e99e8e2696ac": {
      "model_module": "@jupyter-widgets/controls",
      "model_module_version": "1.5.0",
      "model_name": "VBoxModel",
      "state": {
       "children": [
        "IPY_MODEL_c6363265596a4fa39ce25208155ed3d5",
        "IPY_MODEL_457098e23f664e249a0c5f8e8d1b4ccc"
       ],
       "layout": "IPY_MODEL_bd95ef2b421f4cf8add87beba9b546b5"
      }
     },
     "424e9171718e4b20b60fe1fe9bf231d9": {
      "model_module": "@jupyter-widgets/controls",
      "model_module_version": "1.5.0",
      "model_name": "VBoxModel",
      "state": {
       "children": [
        "IPY_MODEL_c77d32ee6aa641dbacf4766431555c3a",
        "IPY_MODEL_cc9539a788504bee9e64f6b625deac67"
       ],
       "layout": "IPY_MODEL_d48fc2a10f9f4c6e952c8a522f5c7b95"
      }
     },
     "425c803cabae4f31a6116917e03dfcbd": {
      "model_module": "@jupyter-widgets/base",
      "model_module_version": "1.2.0",
      "model_name": "LayoutModel",
      "state": {
       "width": "auto"
      }
     },
     "42da0b526ac244bf8872f9b3737d7272": {
      "model_module": "@jupyter-widgets/controls",
      "model_module_version": "1.5.0",
      "model_name": "ButtonModel",
      "state": {
       "description": "Cancel",
       "layout": "IPY_MODEL_5ce81b3f32fb4cd996ae0c4bc5f14896",
       "style": "IPY_MODEL_8c585b18edf448a0859828010503eb06"
      }
     },
     "43858ebe2851468185fbf87883963007": {
      "model_module": "@jupyter-widgets/controls",
      "model_module_version": "1.5.0",
      "model_name": "ButtonStyleModel",
      "state": {}
     },
     "43c0fcce53444cbabc49b25c2c7bded4": {
      "model_module": "@jupyter-widgets/base",
      "model_module_version": "1.2.0",
      "model_name": "LayoutModel",
      "state": {}
     },
     "447899c7c54f436b99f6caf01c2e1a11": {
      "model_module": "@jupyter-widgets/base",
      "model_module_version": "1.2.0",
      "model_name": "LayoutModel",
      "state": {}
     },
     "447e73fe759949aaa60d4bab85f3908d": {
      "model_module": "@jupyter-widgets/controls",
      "model_module_version": "1.5.0",
      "model_name": "SliderStyleModel",
      "state": {
       "description_width": ""
      }
     },
     "448444bf943b4b44bff0dce2082b0f7c": {
      "model_module": "@jupyter-widgets/controls",
      "model_module_version": "1.5.0",
      "model_name": "ButtonStyleModel",
      "state": {}
     },
     "448b93a98b0547cca35ca47ace744dc3": {
      "model_module": "@jupyter-widgets/controls",
      "model_module_version": "1.5.0",
      "model_name": "ButtonModel",
      "state": {
       "description": "Cancel",
       "layout": "IPY_MODEL_ab7978a2e8aa42609776671a352dbf60",
       "style": "IPY_MODEL_d5d9d43e10d74d809152644a1a98b0b8"
      }
     },
     "4497beaa066140279f39e5f6dd7592f9": {
      "model_module": "@jupyter-widgets/base",
      "model_module_version": "1.2.0",
      "model_name": "LayoutModel",
      "state": {}
     },
     "449a2bc2cd5e4127bdb9302d45cd0b16": {
      "model_module": "@jupyter-widgets/controls",
      "model_module_version": "1.5.0",
      "model_name": "HBoxModel",
      "state": {
       "children": [
        "IPY_MODEL_6eb93a37bfa842ba93a1e33d36ae0d91",
        "IPY_MODEL_e4a95f728b864874a06aaa5b1d5502bd",
        "IPY_MODEL_248ffcb8e16945f694a506fc24904b8d"
       ],
       "layout": "IPY_MODEL_eea07d5aa5ce49009d2f2603e7d5b128"
      }
     },
     "457098e23f664e249a0c5f8e8d1b4ccc": {
      "model_module": "@jupyter-widgets/controls",
      "model_module_version": "1.5.0",
      "model_name": "LabelModel",
      "state": {
       "layout": "IPY_MODEL_3d8ca4515c4b45059df963806e82b9e3",
       "style": "IPY_MODEL_5f15f70063344b1e9bf6029fbd38e08e",
       "value": "Data Count: 21362"
      }
     },
     "4583e01f3dfd47e5b2d8e1e048f0ab85": {
      "model_module": "@jupyter-widgets/controls",
      "model_module_version": "1.5.0",
      "model_name": "VBoxModel",
      "state": {
       "children": [
        "IPY_MODEL_a1097af786214106b8e009285649cbe4",
        "IPY_MODEL_5265e95047c3498b907b07bcc1cf4ec0",
        "IPY_MODEL_f0fd1ae69c7d481288c4f11271a352c6"
       ],
       "layout": "IPY_MODEL_5ab8afc8955c4f4685ba9cd3d09f4d1c"
      }
     },
     "46069ec42ea2403fbc1121776c8b43d1": {
      "model_module": "@jupyter-widgets/base",
      "model_module_version": "1.2.0",
      "model_name": "LayoutModel",
      "state": {}
     },
     "462b4784df4a4f0eaab4495217afda52": {
      "model_module": "@jupyter-widgets/controls",
      "model_module_version": "1.5.0",
      "model_name": "DescriptionStyleModel",
      "state": {
       "description_width": ""
      }
     },
     "46546a3afca14ed5bd802f870f1845b5": {
      "model_module": "@jupyter-widgets/controls",
      "model_module_version": "1.5.0",
      "model_name": "ButtonStyleModel",
      "state": {}
     },
     "465cecb01ec84cadaa2226b9a1959985": {
      "model_module": "@jupyter-widgets/controls",
      "model_module_version": "1.5.0",
      "model_name": "HTMLModel",
      "state": {
       "layout": "IPY_MODEL_4ab0f17d1b5945c8a3adfd4df0cf76c2",
       "placeholder": "",
       "style": "IPY_MODEL_16c510a91df7473fae6a0126adb433d3",
       "value": "<span style=\"margin-left:10px; color:orange;\">C:\\Users\\dominiquef\\Documents\\GIT\\mira\\mirageoscience-apps\\assets\\FlinFlon.geoh5</span>"
      }
     },
     "469500d3442c4deba5ac6d03597b3fa1": {
      "model_module": "@jupyter-widgets/base",
      "model_module_version": "1.2.0",
      "model_name": "LayoutModel",
      "state": {}
     },
     "469f0a8e95ad4764abf5c79018b0b4a6": {
      "model_module": "@jupyter-widgets/base",
      "model_module_version": "1.2.0",
      "model_name": "LayoutModel",
      "state": {}
     },
     "46a8807c1ed84293ab0baaebd94b3b00": {
      "model_module": "@jupyter-widgets/controls",
      "model_module_version": "1.5.0",
      "model_name": "TextModel",
      "state": {
       "continuous_update": false,
       "description": "Contours",
       "layout": "IPY_MODEL_d8493ae911e848bfb38c86fd348c8438",
       "style": "IPY_MODEL_f415a0599d4c4dccb93b1acbae0536ce"
      }
     },
     "47745845254f4ac4a2d2afe04a62b21f": {
      "model_module": "@jupyter-widgets/controls",
      "model_module_version": "1.5.0",
      "model_name": "DescriptionStyleModel",
      "state": {
       "description_width": ""
      }
     },
     "47fd1b152f7b42c6bd3548f393680a05": {
      "model_module": "@jupyter-widgets/base",
      "model_module_version": "1.2.0",
      "model_name": "LayoutModel",
      "state": {
       "grid_area": "pathlist",
       "width": "auto"
      }
     },
     "483ff8892125419490798ee81c41ed52": {
      "model_module": "@jupyter-widgets/controls",
      "model_module_version": "1.5.0",
      "model_name": "VBoxModel",
      "state": {
       "children": [
        "IPY_MODEL_8572ac890011465d83f52f46071343c4",
        "IPY_MODEL_f8f0b0f0f00e464e8a733f52965cda7c"
       ],
       "layout": "IPY_MODEL_3f2df031caaf4a99849149d0d5f7b981"
      }
     },
     "48b26089a8134f87810798c58943229f": {
      "model_module": "@jupyter-widgets/controls",
      "model_module_version": "1.5.0",
      "model_name": "GridBoxModel",
      "state": {
       "children": [
        "IPY_MODEL_03d9b4c7840d4d6896ec6ac1c16f2c36",
        "IPY_MODEL_5f02580db43e4dfa88f1f3cb18b991af",
        "IPY_MODEL_b670f62d80dd46da904511afeff807b0"
       ],
       "layout": "IPY_MODEL_77e093ec6d864795bad0612ef94f7e81"
      }
     },
     "48ea2e8d8536499da42b936703d5c5a8": {
      "model_module": "@jupyter-widgets/controls",
      "model_module_version": "1.5.0",
      "model_name": "ButtonStyleModel",
      "state": {}
     },
     "4904eec61fda4268a854cce28f50123d": {
      "model_module": "@jupyter-widgets/controls",
      "model_module_version": "1.5.0",
      "model_name": "DescriptionStyleModel",
      "state": {
       "description_width": ""
      }
     },
     "491ba33dd29f4751b897d470c7c98db6": {
      "model_module": "@jupyter-widgets/controls",
      "model_module_version": "1.5.0",
      "model_name": "ButtonModel",
      "state": {
       "description": "Cancel",
       "layout": "IPY_MODEL_0012a1784af345ccaff924d02d49c220",
       "style": "IPY_MODEL_eb208879a83347d88c42de714672470f"
      }
     },
     "494f4806f31546b5bb186542e95f4b7e": {
      "model_module": "@jupyter-widgets/controls",
      "model_module_version": "1.5.0",
      "model_name": "ToggleButtonModel",
      "state": {
       "layout": "IPY_MODEL_845b76973bca4a078eb2c3a93da14631",
       "style": "IPY_MODEL_fbedfc2309dd4fd588458563b66f8d4d",
       "value": true
      }
     },
     "49f7a2fbb50b4225a51855cc039ce474": {
      "model_module": "@jupyter-widgets/controls",
      "model_module_version": "1.5.0",
      "model_name": "DescriptionStyleModel",
      "state": {
       "description_width": ""
      }
     },
     "4a13dd87f7044bc2a5171929014eb2eb": {
      "model_module": "@jupyter-widgets/base",
      "model_module_version": "1.2.0",
      "model_name": "LayoutModel",
      "state": {
       "display": "none",
       "grid_area": "filename",
       "width": "auto"
      }
     },
     "4a1dd9ee440540c3afa3a69f1906fd08": {
      "model_module": "@jupyter-widgets/base",
      "model_module_version": "1.2.0",
      "model_name": "LayoutModel",
      "state": {}
     },
     "4a5762da818e44ed94345032b89a1916": {
      "model_module": "@jupyter-widgets/base",
      "model_module_version": "1.2.0",
      "model_name": "LayoutModel",
      "state": {}
     },
     "4a719f7dbbd642dd8b3c97a3a0ec915d": {
      "model_module": "@jupyter-widgets/controls",
      "model_module_version": "1.5.0",
      "model_name": "FloatSliderModel",
      "state": {
       "continuous_update": false,
       "description": "Easting",
       "layout": "IPY_MODEL_636f9128d6364a1da5ddb8b8674e89f2",
       "max": 319234.2051362576,
       "min": 311898.69919769425,
       "step": 0.1,
       "style": "IPY_MODEL_a7e0daf8b4c9478fa8b6b110756201c4",
       "value": 315566.45216697594
      }
     },
     "4ab0f17d1b5945c8a3adfd4df0cf76c2": {
      "model_module": "@jupyter-widgets/base",
      "model_module_version": "1.2.0",
      "model_name": "LayoutModel",
      "state": {}
     },
     "4af66426f9d14f9a8abb9d385404c916": {
      "model_module": "@jupyter-widgets/controls",
      "model_module_version": "1.5.0",
      "model_name": "DescriptionStyleModel",
      "state": {
       "description_width": ""
      }
     },
     "4b578fac78cb482ea41f898e4627fb0d": {
      "model_module": "@jupyter-widgets/base",
      "model_module_version": "1.2.0",
      "model_name": "LayoutModel",
      "state": {
       "grid_area": "filename",
       "width": "auto"
      }
     },
     "4b985897c2924081950171535158e354": {
      "model_module": "@jupyter-widgets/controls",
      "model_module_version": "1.5.0",
      "model_name": "ButtonModel",
      "state": {
       "description": "Change",
       "layout": "IPY_MODEL_f9e40347129f4c2e901ee1dc32b1e44f",
       "style": "IPY_MODEL_0970620b7a3b4d30a7149567479856e4"
      }
     },
     "4ba52d276220400ba1e4e60840a1cffe": {
      "model_module": "@jupyter-widgets/base",
      "model_module_version": "1.2.0",
      "model_name": "LayoutModel",
      "state": {
       "width": "auto"
      }
     },
     "4cbcf1e30c1e494ea644ed49804b7009": {
      "model_module": "@jupyter-widgets/controls",
      "model_module_version": "1.5.0",
      "model_name": "DropdownModel",
      "state": {
       "_options_labels": [
        "C:\\Users\\dominiquef\\Documents\\GIT\\mira\\mirageoscience-apps\\assets",
        "C:\\Users\\dominiquef\\Documents\\GIT\\mira\\mirageoscience-apps",
        "C:\\Users\\dominiquef\\Documents\\GIT\\mira",
        "C:\\Users\\dominiquef\\Documents\\GIT",
        "C:\\Users\\dominiquef\\Documents",
        "C:\\Users\\dominiquef",
        "C:\\Users",
        "C:\\",
        "D:\\",
        "Z:\\"
       ],
       "index": 0,
       "layout": "IPY_MODEL_2d36cd714ef9464eb444fae12f01ee05",
       "style": "IPY_MODEL_3c1af0c679c144d099b9b107ec5a7550"
      }
     },
     "4cd3df868daa41868160a773ec1fe939": {
      "model_module": "@jupyter-widgets/base",
      "model_module_version": "1.2.0",
      "model_name": "LayoutModel",
      "state": {
       "width": "auto"
      }
     },
     "4cf7de4efc324d23833829c3d3f35d77": {
      "model_module": "@jupyter-widgets/controls",
      "model_module_version": "1.5.0",
      "model_name": "FloatSliderModel",
      "state": {
       "continuous_update": false,
       "description": "Height",
       "layout": "IPY_MODEL_0ec47d48a472492b814ee0cec0b97d50",
       "max": 11351.865002485923,
       "orientation": "vertical",
       "step": 0.1,
       "style": "IPY_MODEL_8e3ab335f2824752b5b6d77c458a4040",
       "value": 5675.932501242962
      }
     },
     "4d7fd94f6c704621952db86604b6c5f6": {
      "model_module": "@jupyter-widgets/base",
      "model_module_version": "1.2.0",
      "model_name": "LayoutModel",
      "state": {
       "width": "auto"
      }
     },
     "4db57699089345418763ef1b29050074": {
      "model_module": "@jupyter-widgets/controls",
      "model_module_version": "1.5.0",
      "model_name": "VBoxModel",
      "state": {
       "children": [
        "IPY_MODEL_cbf6ae3616aa4903a77473e7fa61166d",
        "IPY_MODEL_8cb94825a90f462aa8084f7c11ae7713"
       ],
       "layout": "IPY_MODEL_0e3ea604719d4c4a94512c46df870dc4"
      }
     },
     "4e200c9596ef4a9e850d96a8563317ae": {
      "model_module": "@jupyter-widgets/output",
      "model_module_version": "1.0.0",
      "model_name": "OutputModel",
      "state": {
       "layout": "IPY_MODEL_829972865b054054969f040351078078",
       "outputs": [
        {
         "data": {
          "image/png": "iVBORw0KGgoAAAANSUhEUgAAAZ8AAAJeCAYAAABrvggYAAAABHNCSVQICAgIfAhkiAAAAAlwSFlzAAALEgAACxIB0t1+/AAAADh0RVh0U29mdHdhcmUAbWF0cGxvdGxpYiB2ZXJzaW9uMy4yLjEsIGh0dHA6Ly9tYXRwbG90bGliLm9yZy+j8jraAAAgAElEQVR4nOy9f7gmV1Xn+12BIHa6GyW3D2r748j0idp96ZlgsHW8IwF17MZxrtMYmJlH5wkGea7XoXF0JDpw55m5OEzijzuQ4I+LBlqHAaWlr4CQdq4/uoURDySGBLr90Q2cCPFCHxRMdwclhH3/qKrzrrdO7dq7qvauWnvX+jxPPadOvfVW1fu+Vfu719prrU3GGCiKoijKmFw19QUoiqIo80PFR1EURRkdFR9FURRldFR8FEVRlNFR8VEURVFGR8VHURRFGR0VH0VRFGV0VHwURVGU0VHxURRFUUZnNPEhoj8f61yKoiiKbChGeR0iugSgOjCVf3cAeASAMcbsDn5SRVEUJRliWT7HAfwmgDVjzC5jzC4Af1Guq/AoiqLMnCjiY4x5MYBXA3gTER0joquwsIQURVGUmRNtzMcYcy+Abyv/PQPgibHOpSiKoqRFlDGfbSch+lIA1xtj3hn9ZIqiKIp4Hh/rwET0JACHAexF4XL7SyL6ImPMp2OdU1EURUmDKG43IvpXAP4YwI0ootyuAfAsAPeWrymKoigzJlao9Z8BOFS3cojoiwGsG2OuC35SRVEUJRliBRwQmqPbPo9F3o+iKIoyU2KN+fwnAH9MRP8dwEfLbV8J4NsBvCLSORVFUZREiBbtVrrYvgNFwAEB+BiA3zbGfCrKCRVFUZRkGCvUejeANQAfVvFRFEVRYkW7vYGI/qdy/TsAnAVwO4D3E9FNMc6pKIqipEOsaLcPGGOeVq7/IYB/aYzZKAXpd40xfz/4SRVFUZRkiBXtdlXpagOKCLe/AABjzCcRMbFVURRFSYNYQvAfAfw+Ef0cgP8B4AQRvRXAswGcinRORVEUJRFiRrvtA/ADAK5DIXIfA/CbxpjfjnJCRVEUJRlGiXZTFEVRFE4UtxsREYCbUFQ5+A0U7rb/FcCfAvhFY8znLe97EYAXlf9+/RfsBK7mOzS+C0sjV4+xzY+y9c/hcey/J7D1cntdg231GRTZjDYxvIMx75WxP3PsGiURj78z3qGz4TOf+Qwee+yxTxpj9sQ8T6xot58HsIKilX8YwBcAeDuA5wD4hDHmJa5jPHEXmZ+6BBzjG8+ydf61rCxW72abn4N97L+9bP32xerFQ80XsFn7/5z9WhVh7J/6AmrY7p36dTbtt7/l/U3HGIOoTVLJinuXPqifx82NN96IM2fO3GuMuSHmeWIFHPwjY8zTiOhqAB8H8KXGmM8S0RsB3Nf7qB43/VvY+i24gLu2BOghLARoHVuytgLgYu0gdeFRlCHUBcQlGL6CMpXIbmIcAQKKZ3OoELHnmwCYSMKmdCOW+HwOAIwxjxLR+4wxny3//xwRPdb+1mXuALN+moQCxba7yxvquVgWoAV7ARx1n1CFR4mBj1D4iNLUFviYosPXVTCyI5a3+ONEtBMAjDGHq41E9CUAPhvsLCtsaeAuAIXo7G3eoQnbwyXNlaPYmbqBDs1+LO4/fh+O+Tn3YDzhiQw1dWCV0YkiPsaYI8aYyw0vXQLwTwYd3CI4R2q73bW1doZtPVn+PYTC9caOqSipsB/LghSbTERHkUWsaLeDxpgH6tuNMVcAXPE5xtXYCaDQrzuwLC5rDfvfDZu7raJyuXkGGCh5cA5qteZA3fXGrZemzqNaN+KJNeZzHxF9BMCbALzJGBPFQXAewAXnXtfDOtbDb9A9sAtQbm6cOXCutq4ClD4+guIpOnRRAw+mJtaYzwMAvrs8/tuI6H4i+nEiWh164AsoROd8+T8Ppn5u+Xfhcru+/Huc7bWOwvo5pO42RWkjlXGei2xRkiGW+BhjzAeNMS8zxlRldlYAvKuscu3kMq7gJUxa7sTCymmydt5SLnc1vFZwiC3K7FDr1Y89SEd0lKSJ5XZbylE2xrwXwHuJ6EcBfEuXA7W51e4s/z5i3eNmy/bK+qlhc71JCHFVFCUo6nqblliWz083bTQFZ5pe86GqXnAey5UMdrD1WwAU7rbrsd3dVnFIzfQ5co4tSjMaeKOMRBTLxxjzxlDHuhP78GJc2LJuzlv2u2tp9MeGw+XW9uCp9ZMXGoTQjLrblJGIFWr9JAA/gSLooLqdLwJ4K4DbjDGf7nI8m1vNJkTLcMFh7rZ6tQTt8SlzZqaio6636YjldnszgE8BuNEYc60x5loAzyq3nfA5wE5cs7XOrZoHULjc7q7tf3hpdGg3ivGem7HsbmOoy01RNLhAmYxYAQerxpjb+QZjzMcB3E5E39/ngDyK7XDD66dwPQrRaePQMNFR11teSHO9VSKgVvioqPUzDbEsnweJ6KVE9JRqAxE9hYhuBfBR/8PsYkszp3B9KTx1eCkd9td2k2nvT5kSvf+UmRHL8nk+gB8HcKYUIAPgEwDeBuB5vgcx+GMQnl7+dz2q2RgKsblUbr+EhTg9jML6WTK6lBSYqmCmNOtnTFTwlAmJJT7XAXilMeZWItqBQogqFfGeUoGWxmt2A40WDudmWCPaQo3xqOttXHwmXMuBsVxtKjiNqOttfGK53V6HRQHRV6EwTW5DEbj2ep8DXN7SqN1oH8vZi0WAAbA9wMCjlM4m1M8+NfXJ1lxVm+dqrTThIygaWKAII5blc5Ux5nPl+g3GmMrqeTcRvb/boW4HcGu5vhsL11qbIGkJnWyJIToput7qQtJUnUPFRhFMLMvng0T0gnL9fiK6AQCI6DoAj/Y75NFysYnOgNptXR/S1BoqyQyZm4ZPsDan36TtftXabL3RSebGJZbl80IAryailwP4JID3ENFHUUS6vbD74dqmv24KLqjVbnPdVOpym46hVsecRMeFCo6SELHK6/wNgJuJaBeAp5bn+Zgx5hO+x9iJx2ExFSqfefQogrnVhojOXAbCU2LIb5KS620TKjRK8sSyfAAAxphLAO4PczQfwekoSm0TyCnjMEaDrxGKiica9TYeUcVnOHUxaSqVo8EFyRJbeFKxZBRlhogWH4PaxEBbeAjO2OM82ruWjc/vo643BWr9jIVo8dkuPA7R0WgVpQ+pCI6iZESsUOvBXHbvUqDzt6eLFEtRynUoyowQbfm0IlFs1PUmm9wiFDWpNBrqeouPWMunkZBWjj6oMkhdABRF6YVYy2cnStebRAunjjagaZLbWI8GIYRjE+31IJXByLZ8UhAeIL9GTFHmyCaWigzT2SkvJn9ki08stIq1LNRyVKZE24NJECs+l83UV6AoCaKNaFDU+omHWPFJDnW9KYqieDM/8dGeoTxUuBVldsxDfGoDidHQRrQ7+p2FQ+fx6YZnm6CutzjkLz5q6SiK0oQK9aTkJz713ozeYLLRSDdFmSVixWdncznrZsZyq/mgbiRlKiTc/ynQo71Q11t4xFY4cOK6cfRBTIeUpjJQ0kTbA3GItXwALeynKEog1P0uDrGWz2VTVJZNCh2/UKZCG9fo0FnAHJj6KvJBtOWjzAgV7u1o6LSSMemKjz6USq70ER0d07ATMBhJAw/Cka74SEQHzZWhNInOntqiKBmg4qPIQV1v3VFRcqPfjUjEik9rno+UnJ4m1PpRYqOCMynqeguD2Gi3JNGeu9IXFRJlZoi1fJJDhScM+j0qMVBxF4do8bEmmUq8kdTdpijyiFR6S11vwxErPpcBdCnvpmSEWj+Kkj1ixceJROtHUbqigQNx0e9WLPLFJ6X6bup6U5TZoK63YcgXH2WezMX1JjVlQFEiI1d8DICL5WJDTWpFMj73p97D8Yn4Hav10x+xeT47qQg6SI79mE+vXdmOCo481LoUiVzLR1FSEnFb4MCe2usqPOOiwiMW0eLjNZmcPszKlPgIit6jWaOut36IFp9k0ag3RVGUVsSKjyaZKgDku97UrSMbtTrFIlZ8tkjV9abWT/7oGI5Soq637sgXH0WRaP2o6CjKIPIRH20MlDFRd5t8JM/7pcgVn538n5RK7HDU9aYMZYUtimjU9dYNsUmmirLEOcgQ8zEsbBUaZQaItXw6o+a1Mgax7jMfC0etoG5M4IpX68cfseKzrbRO2wMnWXj2s78Seu6KHIaIiQqQkjhixScrVHTCIDHqrQlfC0ZRZkxaYz4raK5yvQeyrR9OXYhSaVCVdjeOS0xUbMZnojaBzgLmwDTnTgm1fKSg1lG62IQl9hjNCvur4rZMKp3RGaPiMzU6FtQNiZZi25xTsVHRURJFrPjstL1ge9hySDJVEZJLCvfXCjQirmLi30uj3tykNeajKMD4OT+2hmy0Bn69/HtorBOmi7rbkiEv8Ukp8EBJn4uIKEDr7l1c8Gub0jU4JtoGJINw8VnHUm9vDg+QRsPJYxMju3FswlPf3sESskWKKtHQqLd2xI75XMZjU1+CIpmsRVnda0r+iBWf3qQwMNwFDUKQgc2VM6k1sc4WRWIVaw08sJOA+LAHa+4RPErmDBGTdfbX8n59fhRBJCA+6oLYQq2gZbJzvQ291ye2gARaHopcBIvP49D4MKY6rfYQeCKqCtB0iHS9dSSG9SNBdKY+fwvqemtGbLTbTjRUtnYh+AYMCheg7Hr/ShhqkaKhaXvW+GsxO4Jzed4zRbDlo3gxd0soO/EV7GbeRHcrp6tA+OwvwdJSBiNafIzthZxL7CiyCeV689o/khD1cb0Naex9RMv39URFR11v2xHrdps1XEQTfdhGZYxyOz4dGy4otga+s+gcQvdAAodoTTlGxRN2bfd2tY/e+1kjVnwu4zFQbL+1JIZYbfuxcD/xdWU6eOkdW2Nf7VO9brVI+DNgE6LIghNSDHxda0rWiBWfBRYBymFiOcAtOvXXbZ9t7mM/selTYsenwR8kCp4dsyHnSOlZEo6W21kmAfGZKSush3uxoZFJTWRjM4brLXYUV10kGi2hETwBel8pIyA64KA3qQYerKwvlvr2igPri89n+5xqBcUnxwY64QH9VNDAgwVixWcnHsf+y7hcyCbY5F+2Xu2tzaJUsQfpCq5i5yJb2l53HUNRBKJut6lwisWt7mO0ie8cp2YYe5K5MfEJYIDn64oiALGWjzdj5fycwwgNeGXZNAnPrYu/KzcuPjf//Gr9jMsm+ztGjoqPFaTCIx51vRWItnwMDpXh1kD0ciFNxBSbbdFTbbkcZ8q/HtaQMi5tuSpd3juk46DRbEqCiBafyWgTnVCunT1wjFmdaXsRwB2L1RUAF48tjtvUoMwl/2dK19uQ/JV6YmVsK1ZFR5kYsW63y3gUxBtYAJ0DD7o8wOcwjmuNBwcs9Vgrq67NujnDlpc075JDEMZciS0IiZeoyQl1vSVh+Qxwt/k+ZF0Fh/euu/a0G5MV28Z6gBez9Tttx1XRWZBD4EH93u1rCanQKEJJQHx60PWB6+OSCmYhNVtzL27cuswteAnuwjPL/04COF2sHgBwFttraM3F9ZY7rrEiFRwlAcS63ZZZt6wzJER9+TbsvHFYql5wO4CHADyEO7Gv8a1/DuCWcrGzrpFvuRGiMrQiirm73sRaPjtxdffJ5KbiXG29s8unvWrxPgBHnMd42HkcAPOwflJ3uXVBxSY9tGMIIBnLpwddf+CxG6wVtljYVy4AcDfbXo0MHQTwapxBITwA8IPs+EyI5nSzz0l4lPSoPYs047wsseJzGZ9BMY5R0dH11pWxrIEq2m3ppjvG1l8M4AKAC43xbGvlcjDW9SmKEg+1VLcQKz6jESO8OoKQHUEhOs3cxxYLvMeVs3WQu0tRUTIhb/HxcTcJbogPo3C3VeM959lrx7Cwgt659K5vXKzaCpEqiiKGubreEhAfT9ebtLpWth74UqQbf6FyvZ0E8Ewcth3Xq4bXOlsURRGFut4AJCE+kRHlpjnp3sXC4aWFjRatsCoRfBZFwRbfYET9poqiNJG4+LCefZ8SO+IaqdNba6e2kkeXwxHOs8955OIiIq5eiGjBSWdUnaIo0zJH15tY8dmJL2T/2VxvwunsegvDXgDFd9bfklIUJSLqepMrPkFwZXwn5Hq6wJYm1lAEJ+wt/79lqSr2jYtVdb0piiKARMXHEniQqmtpyfo5vbV2Cq/GKQCnADyH7XE3+5xrF9tCsIEiAfXh1j2UGbIHOv26MObmehMrPkWSKSdRF5KP620bR8ulmfPWV4rk02rxEh21fuaDCo4sZu56Eys+Sp19OI+F8NzBrTwWfn2M9Z5evZR0+vTFKne9cXIWormigpMUc7J+EhOfkyjm9qnP72Nxvbki3abuGTtzfgDg1agqvL3EUul6MPuhwpMrPr3r3IVJsgDP2PoRW9V6GbsLagvJPYaAk5vZAg46c2B9eTqHXOf8yWFiOaU7EoVGWSIxy6fOITRbQh4k2iDxeX6OWQIs7K63NWjlAyVbfCycPZ77xablGubiehMrPn55Pi2Rbm1h1lO43HqX2wH85jVtpoiEu1QuyiyxPQc+E9SlREqfI6VrjYRY8emMb28hJ5dSC1XRUQB455Kz7nsXq7Y5fxK1CkUjxQ2Um+AoyRJFfIjoIFu/moheTkRvI6JXEtEO/yMdhSvs2Fpk0/awJ9Ww1q2fXQB24U5cv9jDYvEdaZyity1NNUMkBFJw10rTPTmW+2cugtP1M0rpFNSYg+stluVznK3fhiJc62cBfCGAX/Q9iFlqfOuUYz1N4x5SH7QJyu0sZkOdkehMjWtMYejrcLympIHENmpEYkW7EVv/VgDPMMY8SkR/AOB+/4Pw8R3PoIK2cZ6ZceQscL7M6flzANdtvfKNKEK4UbjeLpYivwd5Rb2NGenmKwZtgmPbvunYR1ESJJbl8yQi+mdE9FwAX2CMeRQAjDEGgPE5wGU8Vq45otnqlkL9AZWQz9MVa+DBL2ytWV1vLQ0Un3ZBCUhsUZg6Mis1pLvePKPtcne9xbJ8zgD4p+X6HxHRU4wxnyCiLwHwyeGHL8UoxR/H1hvfRMvN2COUvGSNf0e22ncrtfVqvEitH9lwq0hJh9ZnfT5EER9jzAss2z+Owg03AEtDPPOH8NgKcEclNHuwEI1NbDW+d18EjpRCcwtegru25gw6CV7QVFGSh7cHtoY+gTaDLgIm1YLJDqKFWhPRtxDR15Tr/wsR/Vsi+s7hR+5RSicVrIEHXHCbXW++7MVi2oWs2Y/40W7qDksDm8jobzcpUSwfInoVgG8A8Hgi+m0U1s7dAP4NEd1ojPkx1zF24nG4bHvRx90m2V00tiuIP3zWXtSN2LJ+DmDZ9caR/L1ycna3cdT15oePJTQm6nqLZvl8O4BvRtGi/WsA32aMeQWAI+XSgwGldDLGGniwH8CVctlYbP7lUlQOAnj10oRzQhnDglHmRWJinWvgQSzxMWVk2+er/8u/n+92Tovg+JTSkd5Ydc75aXa9dWazmutHMKkITmKNmMKQmgs4I2KJzzuI6F0A3gXglwG8mYhehsL19ge+B7HGZKfudqs4h/FCwdnDduz0YnNh/VSznQqf88dHlFIRrhBoA5omOlYIIJL4GGNuBfBSAC8ux3d+GMDfoRCi/933OFTfYCulw0kxr8cbd+DBkuvtGWz9yvKR1rBc/62Rqar/+vx++2vrQwRnzE6AovQgR9dbtPl8jDHvYesfAvAzXd7fGGywgu3i0+RuS7ER4QPkfDDyIlqCBGLgUVVCync8xLqxXX/XQAUdOFa6ovcMgAmqWhPRB4IdTF0O3WDWz5HTi/V34j4spl3wqHodizFcZmrhKFOiLrctYoVa28pQE4Av6X3gNtMztwbFav0cwsI6+QUAPwigcL29uJw47tgKcEe1+3cCeEfE6wxhBcUen4l9b1S/1Vg12LTTlSYD74vcEk5jud1+HcB/Q3PMwBN9DrATNdebbdoELYS5xSPBLoSxwqbbrn/fYOupf/ecPr/DHARhLrlTsVB32xKxxOcBAD9jjPlg/QUi+rbBR5/Dgz6QF6KI7gBQWD+nt+9z5DRw943F+jtxAc/ZmqL7ewG8odsJeaMkTYjGFsfYCY1jJpZK+y2npPotJ2x/crJ+Yo35/DCK2N0m/lmvI85lBkb+sHfM+bmrR7md6OzHvMKf62xa1occL/Yz0Bb9N0cx8plbyed1tXqWiFVY9F0tr93jc4wtlxsvlqlz9Qyn5Xu0Wj911xun6Vg+IjOWEPW9N0K6mIaKhVo549NnIj/bs6XutkZiFhb9DiK6hYhWa9u/v+U9LyKie4joHjz6aKxLy5Bm6+eF5d+7UbrXGqZz5lFvozBXC6hik/1tE5WxLP0+OU65ilQiFkouOT9RxIeIXgngZQCeBuB3iejF7OV/bXufMea1xpgbjDE34Oqr/U+YW2PW2fXWzEMohMdKAg/apMRqZG2CIllwckefg9GJZfl8F4BnG2N+GMDXAzhCRP+lfG1b4QInrgcyRKivhB55oOt4qFy2cYAt3Po5u1h/Jy6wN1hyflKaymLq39TF2GOZKjhx2VNb1w6elVji83hjzOcAwBjzaRRitJuITgB4gtcRDOKX0mlq6OshxKJpDjw4xVxvdwA4Xy53sL3rtdvOs6WZ9UJ02iJt9CGTRyyxOWdZT5WQ4j+C4OTgeosVav0hInqmMeYMABhjHgNwCxH9JIDndj6abSCvTwitpMHwOj5TbHuW2znF1m1zWJy3FQ9dYt29S723l1NEYoq5LfVngn+GkGHnOYiOMhmxLJ+bALy3vtEY83IAX+FzgJ3dnXN2pLjVorObLc3czRbuYOMCdQsuANhVLsfZK8x2SinXYMjvnto901azTsd5FEHEEp81Y8xnml4wxjQOR3TC50HyERwf01hK4+MVeHA7W3/m1tpLUGT9PgDgLZbD3832UZBGZ0WKmEj/njIldddbLPG5j4guENEriKj3rWlsA9s+R2x7KCUPAgZtTPaxZTvcCvLHw/qR+t12QUKjbqNNdMYWghyER3J7kDGxxOcBAN9dHv9tRHQ/Ef14PeenjcumVPaxooHabr4MsvTvYgL0HCwEh7veDm7tC6AsUlpwPN6FjYX0380ldq6qA+pW60YmkWgpWz8xp9H+oDHmZcaYfQB+AEU/+V1E9IdBzjBEDOq1txqSL0XS2fW2l63vwl2ohGU7lcvN9vrsGEOsXIKRgqBIvrY2cgqKSZRY4rMULmCMea8x5kcAfCWAn+h0pK7jMi5RSqG3E+yBPopF4EAz5+E7znOcrXPXGwvBtrlJpXzfLkEZcz6hlAVHUQIQS3x+ummjKTgT5Yw+wQU+jWBKQQhWbkchPABwM9te5f/sw53Yt5XTwyNAbilfL5ZLLedYhzMMOwWhr5hScPh+KZJizk8q96UHqbreYhUWfWOM4/Ym5o0Wq1x/55wfPslcE1X4dXPwQXR3W275Pz6k0hCHIKXPmpHwpEys2m5PIqLbiOhPieivyuVPym1f5HOMpTwfiTcLt7TEW0LNeT+n2LIMD0O4hEXu0Em2fb15XXr+j+23Ctl4qttMUZzEcru9GcCnANxojLnWGHMtgGeV205EOmc4phQ7nzErK4cs63xW871YjAPZ5v9pto4UxQsV3tFJ0fUWS3xWjTG3G2M+Xm0wxnzcGHM7iqCDcXCNOfj00scWIld+Up2gN509J8iNh/Uj0YKNgXhLeKakNAY5A2KJz4NE9FIiekq1gYieQkS3Avio70GsSaZDcRXIrM7X5ZzJNjjXo110dmF5Ulqb6y0hYv1WGqmmKN7EEp/nA7gWwBki+hQR/TWA0wCeDOB5PgfYSjIFwieZcmthhf0d2mMPEarb573WnB+b6+1mj4O2h2hnRcLJw2JRAR6d1FxvscTnOgCvNMZ8LYpBhtcA+FD52mORztkfKYPkrgZwkAAfQiFAR1v22YXuotMx8GBPbckJFTDZzC3aUjixxOd1AK6U669C0ZrdBuARAK+PdM4Cn4atj9h0bSjFlOQ5hOZZT28u/+7GIgihiaYq2SebdkyDJreY9tLjIOV7zbWz00BK1k+s+XyuqiaTA3CDMebp5fq7iej9Uc7oe2O5hGcF9kF8fo6+vaiheUE8z4ezLeeHs862c0vFPvWCG/c03l7klv8TK+9L6Y/tmVEmJZbl80EiekG5fj8R3QAARHQdgEd9DrCT4B7rSalH05YXNLl1BPjMBVRQue5swQYJ5fxwVDDiot+vUiOW5fNCAK8mopcD+CSA9xDRR1FEur1w0JHHEJp6o9lkCdWvo2vvfVSx4RYPX6+P/1TutN1YRLg9jGEWkjDUMhmXeumdyTtZ+UMXa5HCQolVXudvANxMRLsAPLU8z8eMMZ/ofdChopPAj+GNl+ttKCMKzpSutxiNoQpcO9V3M6YQqetNHLHcbgAAY8wlY8z9xph7+wiPOcD+6dM4NVVbVgLS5HqrjQVJ/O55o6ciMS4+1bz1N5kFsdxuedEWhFAhfuDc5nqru+GaItnawrPr5xDMGI2aNpz+6HcVjRRcb2LF5/LnATo78CCd3VDraG1Aq2PFjIbzZbDrzSUULsHpIDRZiLcyKlyYQrnn1PUmiqhut+BEaZzW4TU3TddeRLI3uSsRtQ3h5XbGqGithOcc+6u/VTakJT6+OMd62gRnvbaP4/gSTVurlWGzVoS7yxRFRacz0hNO0xAf33weLzHw6Z0L78FXDC6343q9jyi1CLaLqazFEG4d7ZWPx9Ak7aZ1ZXTEjvnsvAq4XP0j3VdrywuqxjGqaxdxs3e1fupVEXxESzD1MGjNO5kfIp7DcZAceJCG5ROUro3jQCsotmjaHiQvk9v3uzgEtyXkeL3tejYRvnK5DbVOFM6MhEgaYi2fy5/v+IYg7rbIZBnR5SFgEiLdVHTyQqslJI9Y8dnCx3JoDSwIQf04jgbXJ7RYDHW3WqbYqg4MacRU0JQEkOp6y9ztFnP8wSM8eyzaXG98seJyq40wjiN5TK+OBhfIYuhvsYlxXb8KgBQsH59gg6A1zXwYIDpJud4GBhekYv35WD+5iA1P3D5g3SsNtGhp0sgWH5/Q6smxVEWQ6HrzEmlX1JvwaLY2+hT8zEF0fFz7nTsAACAASURBVCqF5CRKQ6l3DlOyyi1IdL3JFR8aegAhLrHYjPpgJCw8c6Or4NS3z12AmpCe8pEYYsd8dvqIjzTLoo6tpzGXG9i3pzWmr71riZ3UXDln4Sc8ORLLStWxoCjItXySIiF31BjjY9I7Bb6k4nKbq9hMQWX9VGKUUEdSmutNrOXjTec6ZpkhpUfmFVVnQeIDnIrwxCJVQRvjd5PyzCVO+uIjho41zaZucPsKRdMxhhxnCpdGkyutvi0ld5uOzyieSCo2KlZ8Lpupr6ArCVlaFy3rXd4f4iaW0oNMSWiaSNVKyQEp93CC5DHm0ziOMVa0W896ZpLg12mz1GJ8Fok5Tym522KLTqpRb5rzkwRiLZ9hjBlmPTDhdAg+00x0pW4VhbJypMEbp1SrXKcoDDmSWIUEKa63PCyfuRIr70DIzRmdlIRGUTIjH8tnqcEUMv7iM9vp1IEHUyPx86soLUh1PCkl9+lMESs+XkmmYvBwvYWMr/ed2TUFEnBTiEZdb3bOYZoisAnc0xJcb2LFZ5b4ikkCN7eTRPzjCtK1fjhqCYlDtPh0zsaV6HrjtOX87GHrTa/lYOUA6YiOut4UJSqixaezaThp6YiAEXa5CY4SF3W9ySOBDtbUrjex4tMpydQ6qH+I/RVoCXUlB1FK+dolc4AtMcjN9aZuuMnJI9S6tVimMNGROM/PWCTQGwSQfsN0AHmIRQxi/7aJda6mLDYq1vJJk3X2t8UN5xOCnRupCI+iDEHvc2/yER8va2IMK2jA2E/OYpRYj1BpIDdrKnULN3HEik9aeT42PPN/5mYFSSeHSLcD7K8GJIxHgp2sqQIPxIrP7MlFjBKqeZUdMUUnlxlTQ1o/CQrPlOQlPlFdbyNFzHErKGUBUsGRRSghykV0lMkRHe1mVmKbhIfQ7hoLITb14/c4ZiVCc42Sm4L90DEBH7gQzd29F6vQ7whMEfUmWnzicai2vm55zfVeoH+AwbrHuZC29aOExzYVhARSnf9nKIkKztSIFZ/LpqfV05rzY2PMXKD12vohy2sN11T/XDEsIe4qm/tDJcX6CRUAUReGubvPhnyvc382AiBWfNJhqCU05sR3LTSNz9TdCC5hymWMR4LgcGwzc9a39bnuSpDmLkRdSdjFZmNs15uKj1g8XIFDLSEfsXDtk4rgVA1FKtc7BjFcZCm53nS67UkRG+02KM9nsoH5WFZM3VUngFSi2frUwku1QRpy3akIRij2I93fOSJj5vzka/nwL3EUUzK2KEQ4/h6kISBdaROb1D5zig1kk/VTufUkiNzUYz0avQogZ/Hh9ApCkIwlUm7ORUsz878Pompcu44BhS5IKnUcqY+7bej9lVX7EwaxbrfLQNgf7CJbbK+LYAS3Wm5VB7o2DD77p2hxAMvXPeVnkCo8kliByPJaZx4d5zzzsHxs1AVnkIXkSlhtY+RxnNRcTy5iRB5Ji3hLndTdbRlGt03NPMXHZeVUr0fvjdhEp3KrVa83Rbup660zPoIrRXSmslpCut4kCA4Q5rscQ3jGyOMThFi32xZjm6aj/uBtya0RraFcrJ6uM7vm7G6zkdvnGZuhMwcLc6lJQr74TIm3EDkmjxubtps9B+FJfSpxH6RYYEPIYdynz/MicBxHIum53bJxK3URK1sdOM/6cDkQQmzaGpIcGnvOkM8TyvUmxe2WKtm0dc2IFZ+dKCPekmBIsIFiJaR14+rBSqnjFoo+n0fHehYMufeyS+2IQ75ut1Cmr/ieh0X06p87pdDqObjVfEhVDFN2t4W490K0OW1pIZkg1vJpxccc5b0PkearT0HSmbjUABUbTqggga7WT+gk06nxTSYNWbUgBCLbq/CIFZ/gLjd+c0T5YUO53gYKTko37RiCk1J4dYUWvBzOWN+futd6I1Z8gmDzvXbtWbT6cEON9QwRHRZ4YPtsEhNLYyXuSfuc0olh7UxV3bqP6PS5D1MQneo5EOpVSE98QvTsU7IOWpmRWy4muQUbADLcbWNPsZ2DtTi0bUqo45VvwEGdoYN41vclJADSekCxrqfrcSUKj8RrGoLEsaSuScocSR1YV63GTY99JiA9y6crQ28S0eZ1Lc/H9VkF3XiTC2EqjXt1nTF79RKFYQz6un1FtwkdmLhenVjxseb5ZBUJUglH5BwhSaIjgdSEJxa5iM4Y7rZcBAcQ0x6IFZ9tTCU4XgljXSLdXG46/rrtmB1dfX2CDXjDl6IvXWKAxRB8I+B8BGsq0ZE2xbZPrz+7epI1JrR+0hGfpOkiOPXtbZWtAzOWRSAlxDoXUrHkJJCT4CR+j4sWHwOAqn/Eu9uarJ8QguFxjLbvJcQNWm/cpp6GuA3X582loZZQuy01chKemHx2nNOIFZ/LYMIDTPuDdarVlFD0W50cQo7b3G2pf7ah1y9BcEK63mK4g+dYl20iC0p+qLWEGkfShSelhyVxV0HSSBpvCUFXMc7t3ps6YnQgYi2fLaZ0t0lv1EN9L10f4j7lX8Z8UGzWTw6WXQ6MHXig7jaRyBefKZnKBG87r+8NnGJNs1jM5XMq/Zmju21i0hAf8cEGAah/vvrDIOHzD/GxT5zQNmskjPUAcawdHys853sv4ZQCsWM+O6e+gDFwlfyJPa/HfvY3VA6JjbEe/qYSIinmKYXgLOQIDyDrWqZALasl0rB8piSGOT6GFePbI4rdMEvI6VG3m+Jj/cRyvcV+3hO1fsRaPkCR57NF6r2GmcxOuIWE2UjPYd7Ck1t0m405/8YJI1p8xDBUMFIRnDYryNc1NwU2kZN6vWMx1M11gC2hmKPrLfWOcyREu93EJJmmylBzPJXGO0GXQzRCNO5NYsOrIqRaIWEq15skN7sgxIrPUkXr1IUnpWi9EIIzZnBBG7m4Y1yTssUSnD77xHx/G9KmHk/leZ8QseIjjj49Igk3YF0IYvWOphjfybmUjk1QeIJmCLdaLoQUniHWj4RnPhFUfJT+TB1QkCM+gjJEdEIJjhTXW1fR6Zrz4yNEUgQnMdebWPFZmkwuJbcVR+J18wcvoRs1a8ZsxKXNqTOUWO4213Mr7blOEI1260JuN9wey3pKpBrpdhbykkCbaPseD6BbRJz0z2rjIvsrPV0ioedYrOUTjTFKbUi4OX2trrbvonptiIVUd1lI+G6mJIUGuC440guydrV++rQBc79vIyBWfC4bhPvBx3YvSa7E3XZttgey7kt2PbhS8hqkN5pj4mOZuPK8KoZ8p7m5/ZTe5Ot220RznS9YtvkivQfEr2+F/V2p/d+VPXBXLeDncF1bSMZ2Nfi4zGyvjd3wulxi+9E9gdi2b0qikvN4ZyKuN7GWTy9cN1TXeT2kC40PNjEI9Tl9hSyH77JJULqEPk/hcmuzNGwikmJQirQ8H8VJHuIz9AHpk78zxL0Vkz5WTf1aXcIkxa3GmXICOYmi05WxesspWUdKVNIVnz6CUx9olCogfRkiCj7fxRh0GVuSjgTRGdrY25KUbaLelP8jVXB0np9J8RIfIvpiAF8G4DMANowxn496VQB2Uq3EDiDnyxyjIa5/1qkekqGf1Ue8pfyuudHF3Ra6IZ5CcNT1lhRW8SGiJwH4IQD/AsATUNyeTwTwFCL6IwA/b4z5/VGuEhjWQA15qNpcUl3f60MODfFUghPL9SbBgpGA728m1dJRRNFm+fwGgF8F8I+MMZ/mLxDR1wP4PiJ6qjHmrpgXGIQczOspJ8PyoavI+rgFcvjdpOP7/U41nhYbfo+Ncb+NFdCUQCfWKj7GmG9vee1eAPdGuSJ+nhWAqh8opA9zzAa6q/WTgK+2kdTGx7ogpY5ZV2yRbtw91bfBlSo6fVxvYzxvTW0Of2ZCPj+JtB++Yz4HAazy/Y0xJyNdE4AiyZRC/RhDezP8xohpXYS4aerfmcTINCBude1ce+lS0O/RD59nT+rzOQJO8SGi1wE4iKIfVQUaGABRxScINtEZ0z3lK6A+jfEQt8CULrmKEBGKSnh8vmMu6lKFPESwwdD7bepnDEjGe+Jj+XyjMUZGDInP3DSSSr9IcLfFdoVJiWbzOceQRjM315sShyGdvKGutwQEh+MjPu8hov3GGIl9nQLfnsrQPJgxXG8uhuTBhLxu10MS8kHo2jMPSYqC04atG9n1vmoTctfMq9KRkubgQ2KCw/Gp7fYrKAToz4joASL6ABE9EPvCvHDVGqsjfUC8602+aVmPhW9J+ZjXMvbDlmLjyalfv08Xsv4d22okdmEMET9XW1Kka+dQsjA68LF8Xgfg+wB8AIsxn+g0JplKwmVFjCV0YzbGU0a0+YRl+yB1vCIGNuHkn9/HEhpCbpZjGxLGexLCR3z+whjztuhXEpMQN0WXRldKA93UK0olGq6Nyg2XsMshWVzC3aXSdypWpQa9RMFHfP6UiN4I4O0A/q7aGDvUOihDxzrGFBPJjeqU7rYpz5VzsIFPXoyvpSjtO8q93I7UdsITH/H5QhSi84/ZttZQayI6Wb7+m8aY3t6zpSRTidhELaWES5clNIbgjNVIzMXdFoIxvqsxIvF8XIwhGNu7kgFO8THGvKDHcQ+hGB+6g4h+B8CbALzDGPNZ3wMETTIdyphiMnaUWBNjfdZztfUYjUOIRlRajz4mQ74v6RYiv8dCTr09lVdFspfEg7bCoi9HUTz0ry2vPxvADmPMbzW8fNEY8z1EtAvAdwP4AQCvJaLfAvAmY8x/D3DtbsaoyByS2FFiPkIUo0ZbnbYGrnptiBCF7LVLbkx98BlnGfp9hfiOxspHkmb99u3YJiw6FW2WzwcAvJ2I/hbAH2NR1XoNwD8A8DsAXml5rwEAY8wlAP8VwH8loicDeB6AHwcQV3xCDaK33RipzAVUD8eWPHAaqmGYU0TbVIQS5bO1dalTMbQ9N2Pl/WUgOJy2wqJvBfBWIloD8M0AvhTAwwDeAOBFxpjPtBx32zhPaUH9YrnERUIpmdwZ8iD4iEP99ZwHjlMidUuQ4+v2jdlhk1IhZAJ8xnzOAzjf5aDGmG/pfUUl4vN8fJBU0Tr0AzSlv9k1iKzjPHaarIvqs9qsjjG/izmUA+rSJmQqPECkabSJ6CtRjPv8LRERgJsBPB1Fs/BLxpjPxTgvgPAWj01A1LoaF5ug1AeRFT9cgpKr+PYh1FxaEtzwgvApr9OHd7Jj3wbgOwGsA3gGgNd2PppvafIcxEDymExIQrrRUi6nMgU2YTnLljkS4x7yLUllI+P2IIrlA+AqY8wj5fq3AXiGMebzAN5ARPf7HsSsAFT902SBpCA2UgIPYpB4qGcr0sOGcyZV11tl/YR43nN9rhg+8/nc0bD5bwDcUwYlNPFRInq2Meb3AGwA+AoADxLRtb2vtGIKwenjepMmONIj3RRFArbAg1ipCvVzzAgft9sTUYRWV4EHBwE8GcAtRPQqy3teCOD/IKI/APAEAO8not9DEZ79Iz4XdhnM6qmQbukMNbEr5iISqUSwHUCaPXFFPptsmRk+brd9AJ5dBQkQ0S+gyNP5dhS5QNswxnwUwLOI6OsAXAfgOICPAXhf6X7LB2kWztjk7npTpiFV15svuT4zHfARn70ArkHhakO5/mXGmMeI6O/sbwOMMX8C4E+GXaIQUh27GcOK4ufI+aHijaGOB+XLUNebjZyfjR74uN1+CoXb7PVEdBzAfQB+hoiuQeFG2wYR/TUR/TIRfWsZaq10ZchNvgfdJ9oLxR7Luo1UXG91cu6VK8oI+CSZ3kVE7wTwDSiGYf6dMeYvy5d/zPK2TQDvB/B/AvhVIvoNFDXd/sj3wnZCYJKpdOtHyliRhOtIde4YZYFE19uQKbZzdlH3wDfP5yoUX9tfA9hHRK4KBleMMa8xxnwzgG8C8BCAnyeiDxORrR5cWkgJfpjSyglFSOtnznkqSjhi5Pyo8CzhE2p9O4Dno3ikq2ABA+AP2t5WrRhj/gKF6+6niOhrAPxznwubxupZZ+uHmncZU3RsPaWUhCbn3p7mAsVHovXD4fd203OZ670fAJ+Ag+8G8DXGmNbgghq/37TRGPNnAP5jh+PIZkw3XEqCMyU2QejTiHGLTCsoKC54QIKKjhMf8fkwgKvBptB2YYzxyuWRxyEsWz8tqOjkSVcXoFo/+dJngkMVHW98xOcRFNFuvwsmQMaYY21vIqLvQGE17UXhpvtLAG81xpxqec+LALwIAPAFX+BxaaFZh9XdxpEcdCCRNtdbbIvCx9rxaWB0jqDpkO56U3rhIz5vKxdvysoH1wH4VRTJpQDw5QCOEdERY8xLmt5njHktysKjtGuX6XJOK1worOM167V1hwDV3W38uCpM0+PbUKUa5q2MR6zp3RWvUOtf6XHc5xhjrqtvJKJfB/DnABrFJxg2AbDWYuvgbquQEu2WOilZFNW11qdwUNfbPFAhCopVfIjozcaY5xHRB1BOi80xxhxsOe7fEtE3GGPeW9v+DAB/63NhvfJ8BlsdHi43F3VRarom6flCIZHsA+/TmMRsfLRxszOl601C5yjDe6PN8qmsk3/S47gvQJHXswsLt9tXoJiG++Yex7MTrBEPIDxtqKUkD9fDPGbk0jn21xZll1njkyRjTu8uQfQiYhUfY8z/V/59sOtBjTH3AjhERF+CIuCAAHzMGPPxvhe6xBDBGXUG0nVgpUXU5jBW5JPn4+t6CxX6bGswbJGFts/Ar7ur662tJ5t5o9OJuQUatP32mVk/PkmmRwHcjqKppHIxxpjdLe85aIx5oBSb/oLDhSKZxrk+dtQUwLBefi6PRNZkPreFNuHpKjihiFU40vfcod6bUUNkZYi7bYzxxJCCMLNOh0+0208B+K6yQrUv9xHRRwC8CUVNt85f6+VqlClG49vV+vGaQbUtYIHPxzegcoJLlCQJdShXle3hHqNhieFu49cd6voz6xEPRr+LJPARn090FB4AeADA9wH4FwDeRkRXUAjRrxljNjoeazq8GnGb6PhEz9X3aRAmmyhVQQtSx5JCutvGhFs/XfOTxo56k/bdTYlNcGwRijEY2gmov7fpWjPqaLRFux0tV+8pQ6R/E8tJpidbjmuMMR8E8DIALyOib0BR0+1dRPRRY8w/HH7pE7LU6NfDtF2i4yE4vkgVnhQY+yEey/1TnSeHBsrlbvP9jLG/i3O19Rjny+H3rNFm+XwXW38EwD9m/xsAbeKzNIdPGXL9XiL6UQCuitjj4GM1eIdE+1g5/Os6at0rCFOGcnd1VbVZP64HLrbl1MftZrN+xhp/mAOxrQspZCg4nLZotxcAABF9szHmf/DXiOibHcf9acsxDYAzPhe2kwTM59PagHcVnPr2SoB4QIJneR+JSM7n6Yrrs0husCpyDk7IyPU0Z3zm87nTc9sWxpg39rscIVyEXXhW0BCpVheM4+XysOUgtu0V6+hccWGuDGmEuojIObY0cRb5zCWUgrhKRr8/L9rGfL4JwD8EsIeIeJXq3QAe13ZQInoSgJ9AUVi0Gr69COCtAG4zxnza6+pcc2X47mPD5nrr5bZq80ICxXx6uzyOM1B0JES6daXJJSWpZ+vTmLQFG0hojFzJqvVrnNK6aBvr8U0Mrpgq6EWTg520WT5PQFHl5vEoWs1qeRjA9ziO+2YAnwJwozHmWmPMtQCeVW474Xtxht+E9Zto07LNtn+dLQtmCOtwWykPlQsAXGLbj5d/TwK41eP4M7CE9rNlLGwRRTk3HvUBcldi49ji2cd6lDybr4TOh0DaxnzOENG7ATzNGNN1ArhVY8ztteN9HMDtRPT9vgeh+k3oM67gs49vTo3TijiGRQ7PUSysn0vNu2/DZS0lQKixntgNvCtZcW4NhM/nlf6d+IgN3yencckMaM3zMcY8RkRP7nHcB4nopQB+xRjzCQAgoqegqOv2UZ8DXP68ex8ntoz1Pvkxzv1PYmHh9MEnBNszL2iI622IG3NsXI2jbw/adhyfxtfnHBLzmboylhsuZjkdnzJJymj4JJneR0RvQ+Euu1JtdOT5PB/AjwM4U4qOAfAJFPMCPa//5Y6MU3DWsWy97MV2AbpQ/t1X/r2ExdjPwyiG0IDlCLiRsfUIfcrN+CSThmSIIFTWT/X6kIYuh8CClJiqHFIocszDGoiP+DwZwF8BeDbb5srzuQ7AK40xtxLRDhRC9PTytcf6XKgsuAVyO7aP2VzApPhaP6m4Ibr2StsG/6cSDe1dy0bzsEbHZzK5F/Q47usA/P1y/VUoLKbbAHwrgNejSxd/qLkf0vXWOuhfhU/bhIdvv96yjy3/p+16avu4RCdXwekDFyKbFWQbK/ItpZNTgyMxv6ar9TO2pa5Yceb5ENGXE9H/Q0QXiegTRPQWIvpy13GNMZ8r128wxvwbY8y7y8CFp/pc2M6rEL4AY2d8SuWsY1lLl4XlMFsW3MfWXTk/PtdREiPM2udB3VNbhjAkumpIrs3Z2rrrOOp2C8sBzCsgJLfP0wOfJNPXoxir+TIUgxpvL7e18UEiqiym+4noBgAgousAPNrzWsOHfTY21vXQZt7wH2p4fTvNgtMHnxBr9rqPJddVHMbwqbsSOF2ESu70OU7Xc0mzFIaSc6OZ228lHB/x2WOMeb0x5nPlchzuJumFAJ5JRB9C8ZO+h4g+DOCXytecXP5cbUM9N6EL3ma2raG/gy02LrHFB5v1YxtKC5Tn4/tdDLFifN83RQ5JH3zcc0p8bPdKVzealCCFcxje8UoYn4CDTxLR96KYEgEopkn4q7Y3GGP+BsDN5TTaTy3P87Eq7DoI0ZMAfRv7SiwWkW6nsA+HG8Z+DgM4FeLS+tD1AU0pkmhsuABJrmqQEkMmjQuF/maj4iM+3w/gNQD+C4ootz8stzkxxlwCcH/vqwuJV+DBIbRbNxWu5FCfaLd97l2cdMjzyXmgdex5dHzIObpNYuBBV+rPQ66/lWB8ot3+AsA/HeFa+jP4YRhSoZrjFp3C+umb8+MRASeltptL7EI87GMKztCoNyUMtme9q6UusSOWg6h3oK2w6L9veZ8xxrwiwvWMh1eYtY/g8PGa61GN5ZxCITR7y1eG1D7wIkaIdSzX2xDh0YY+X8ZwvUkUnZnSFnBwpWEBgFtgr4QpG37jLTXW9ekRTqJdeB5my3aqSLe9ja8OxTJrapuYSnvghvTuph4XaMJ2TTn3YlN1U9k6Uzn/VkKxio8x5merBcBrAXwhgBcA+DV45uoMYafPaBRn8MPgCqFuF5yCS0vh1dza4UK0HIzAo+N8ot5GmGwuRM6ONMEbgisHRa2xcJyFO8/KJ+ot1fsvVVHvQWuoNRE9mYh+EsADKFx0TzfG3GqMkTKyEAk+3uISnIpCRE4FCSRo4hB6C09XERn64MZ+8KVYP64GckYNiRiaplrxeS0kQzsjMwm/tooPEf00gPehaFWfZoz5D8aYT412ZX3o+mMtSegxtn4S7aLTJZ9nCNz6abLIamJUd71tYrwHrispujnqYiNFBKdCQuPYdg2b7K8r+GXoZ4k1k+2Q/EbhtDm3fhTA3wF4OYCXEVG1nVAEHOy2vTEE25JM2/BpyJy9/3qF6jousdmFerABULjeKpfbXgB3be1/Ac2Vrn2J7H4bEmyQW1i3utWmwxaEUG+UbW1AzPuwS/mlIR2VzESnom0yOZ/qB2mzZSlUVgWvUL0bheXTJjqhrJ9dWIRZ98DmBJUoAqEepKlDnFWQCqRMfz72zLP6+w8mD4HxadDqjbBXqLVNXC6wZQjVzORAs4uvnuvTI9JtKnKOKvKdQE6ZhkwtBQBZfbY8xCeI282FTXCaBYiX0XmI/bVXt64z0cRynCFWkzSLSxmHGIPlMayMsQf11VLaRtrisx9u4bGFDFvzfG5n6zxAui2Krd0KaprftBuH4Ix2s1k/Y9dnGyPAIcbArhKekIPloQb0hwpOiGvQexdAiuKzH36iU9GrIfTJ6WmnSjJtSjQtrJ995eKT5zOgonWIsOkuguIjdjm7pGYSJutNjO+iPveS7bz1a5j6NwnVaZr6cwSiayrnaOx8PHC5+meUxirQlAXwiXRrw8fd5hHpFsP64BFwWvV6mUwahKiErF2W+iyyEqp4T4xsy6eLhdOGrSG+CCyqGvAG/Wa2vgtDggseYoud3WzxoUEo6xFvsYTBZQX55FNIbhSUdBnDnSVFMDJ4hkSLj4n1Q6+wpRGfgqLdWQ42uIBFtJvN3eYx1gNMV8m6nsTnsraGdiRij/UMeaBzdiVKh98Xse6PGEmkMx/7Eet2u/x5gEb/cWyis6hW3YbftNmu8jtH4XarjVDfzZccotpcouNyF2XQCx2NsfKCqrYjVAd26ryyDBErPkGwuZ62TSDXN8nUD/fspbvhH1qd+ARyQyZZC9kA+AjO0GMo01APSJDiKqsIdT2Jz/8j2u3Wm6EVmbci3foLDxec7e42Dp9ArsIz+OEiW3InZJhtm2jYXj9Xe12FJwypfJ/qbgtOPpZPkAH2dRQWyPHy/11YCNA+uIIO3BZOdZy2Om4BXGrSrJ2hhBCdEEhvIFOH9+Ql9OpVJKKStvgMEZwt11tlZYQLta5TiNLQsZ4R3G1V4xr7oe/qelN/+3yIIfDc9ebjhkvhXptamAMgVnx2XsXyfDghLJxtBUXjsGwJNVWxrlxu1XhPPeR7hMAC7c0rUgkZnOASlLEFR+JY1MiIFZ9thMpbsYZXH8L2YAOgq+vNTeVyizgjxVC3m5RKxUAavVAlTfTemhTZ4hMjUXJbpNsdEU5Sp7J4bGM9J7FcU66ibgk1UHe9pTLeMyTqzQe16PIj1LQJEkRnqNUjYUxsIKLFx6wAFCWSy8fdFmKunvo4D5807mEsV1JowsPtNkakmyRLyIWKzjyQFpzQhZm72yrEis9lE1h4ltxtPLeHrwPN7jZOm+vNFVQA+LnbBlQ08A02CNFIS3zoY1tUihz0d14g8Vl0IFZ8guGcaM01fbYLH8Fpc7fx5FIhlo6LUA99m1BIIroBdwAAIABJREFUcI0o6ZBg4zuYxMU3T/HxmtnT5Xprc7tx64dHsbUdi7vbeJSboFI5fZD00Cf+MCqZo+62JfIRn86Cw91tR1FYIZXLrW367BAMmKXUltvD8XG9DXVPxRYcze1RlG5I6gh6IFZ8dpIlz6fOYCuncrnZJo4LJTjc+jmORbBBFdEWoHL1mJFuQ290tVKU0KQUGKPIFZ9WvATHxa0tr3UVHB/XWxsW4Yk9vpPb4Hxun0dRMiYd8RkkOJWLrbKAmgIMdmMx5VuIZNI2IiWYdimrM3Uj7SMU6npb5gRbv2myq0gHKW6oMcd6pHxmD8SKz2UgkIXjqt3WPsdoOOqVDXik2x0Ajm1/i8/4DmcM4Unkxs6GE+5dcAIqRpLRUjqNiBWfYbgi2WzjO0Noc73ZQq0DRbp1Hevp456SIDo+llAurjeX6PiIkrIgIYtgLmQmPm2i41O7DXC52w7DNXVC9f4hY0CMUNFtEqk3Bk2iMaceowpKeM7V1ucgQIl8zgzEx2XltAUWVLgFx48LtXVexRpsfW+5fisWNd086rhNSSI39Ba89IpkQgmOut5ko663bSQqPi7B8anddl/rq7eUf5tGhCrrpxIluyXExainJRQr4q2re0qK8Pi63vi6RAGKbeVocMK8SaCzmKD4tAlL02tVAimwPDV2c0TbLdu2NONvDXWhZv10EZ4Yrrexb16pQpEK6rZzM3ajnJK1U80i8IRxTidWfHbClmRaLwTqQ3uAgUtwKieZLS6uLkTNlhB3wz2EZtebAKT0ltqEiD/QPqHYcxe1uijN3RIKNTWDD+pusyJWfIZz3LK9CDA4XFo9ey177Sj/rgF4pFzfi26B2e7ghMB0tX6qRlmK4ADdXWap5gLdBLVUJCDt/g9B38+ziThzqFlITHx8LJ7KxcYj2iqKcR6by2yHZTuHi5WvJdSMzfphrreueT59kP7g8esLZQnNHQ1OUJoYUXgA4KpxT+fPwuW2juXqBHVcrwPFOE9zgMEOttjYYdlvr2WdsyxEMasmKADsLg7pIqvkSwodopGFBxAsPm5cglMFF/AAg4JTKNxpa44z7GNLEztQiI5NeCZhgptoNPbXlpSR4nKTch1Tktt4YCKfJwHxseW+NG2vV6herixwC1tsuARnH9yWUrsYceuHO+54PtJ64W6TMHGcEh4JDf4JLK5DwvUosyMB8fGleTbSw7iwtdhwCQ4AHGGv8/12sL9rWAgPF6A4YdmK1fpR15sijSbX21nL9imYoEJKwuLT5nLbjWKM576laDNuZzwCt+Csod09V73fJ1BhVHJ2veWADvbLYyxX1VmMIzoJuN7Eis/Opf/qLjZbMunDbGnGFWBwBO7xoDX41SuwWz8erreVrrlMGeMS0xzGgKZGXW/xsQnOWYwnSoJIINTa1Qg3u9s4roCAupg01T7YV9u+BuB8w/47sMgLUgbga73Z8oJs+T9zTzhVlDoTeUrEWj4FXXv/y5O0HS6Xurutgls4TSNCPmNBUamsnxV0n9soZddb07XvYX9T/mwVEl1vc7d+cuuUCP88osXHNLrb6oJ0tPb/fWgrGnoQhWvtiOX1SpDaot1cgnSQrQ9yvQGBJtTLhFCioy46RTIzcb2JFh9/2sd69qIQhIONrxZUYz0V9TGfpuCDI7V1lygNzgdaQTcrKAcLwYbts3FhkV5TS6L1M3eEWwud8fk8E80Flrj4nCwX7m67HsDCyqga/AfYHnysZh/cVpAr+KDtdf9E1JacnyZydcOlcp25MnfXmxRmYP2IF59l15vPZGuXWvNqXG61reROzwRPfhwuQgexnANUUSW4FuNRI5TbSWmMZMh1nmMLR3N+unMCy0moihIB8eLjDy+ls+AgW7g48Gb/PNAsOBeb111leVxMlnSaigj1oUlMUghdzdH1lrp4qettFBIUH2798GCDhWPrFPZtubqa3G0VTrfaJqKXuTnsW26niRX2N4fABJ8HYJMtbUgXnVQa6JDTfCvdkH4PDySBPJ/C9UZeYdduN5ZX2LSrYbtY5vmsLI7ZJf9nL4C7nBdRj+KzkIPo+OD6TZrcbT7TbY/Zy51jA3yitp6jpZcLI8/nk6DlU8dd1eABLCycbe42TlOPepP9PYtBVtBDbLFzFN7CU2cF7oi4PbVFGjaRabvWVNwkqTa8dQHx3df2egoWXyr3lC8CP08y4rM98MAe6QYUloWrlM4a4OdWC+QP5e49e87PnWx93bKuDMIWnKDYaROMEIKSiiiNTcautyTcbgvcDbBrMH8fBgYMbGIrgsrmYrNtF0nXqbenou0abe4zLbETl6FC0SZmNzWsK/HZBPDZcU6VmPjY2B7lBhQCsMbWjzRs35qqeoQG2K/m266W19gU2z6MMQ13DCrfc9dxHqnk1psf4/NI+M7OYfqQ/JCJ0hI+DyMZtxsAGBxj/9kj3fjW1qoDlcstsvDsw3KwQcV211slPMfZ9hHdbZLGgIb8Jj4Vgsd4CNWNFAY+6d2cvk/pFToGkpT4+HHBWVFga6ynL6xR4y48W8LppPhEw/Hgg7oAhQhOiCVqXSeTU9JlKtFJxboOxR4ATxjnVJmIz8MorIZidIWHMVd5PlWk25K7rUJSj3+L42y9HnjAlwj4CI5rn/rrIr/jyOhYhTKEkMEGPnNejfyMJic+y643wGfiuNYkUp+ExQ60ldupsLve7NW43TiEKEQiqk1w9jTs4zqGBGK73ubkIhoT/V6zINGAA/sEclVjPmhq67oYNTWWF7HVmPPotvHxsH5WausxghB8BCWG6HSNdBsDbRzzQthAfS98PoMmmXalyvO5BG53cDG4G4vAgyWRqI8N+FhB0Xvul1B8pt1YFlkfF5unG67r1AwxCJXsKtEnr+62+JzAPHKDMs7zSVJ8DE7XtjSHWkefidRSbLSf623SOVMLUirV45Mk6hN4kHqPVlmQkxAdYEumJCk+beyFe/6cpSrW9fGKJjYt6yLpGITgYwW5XpvCilLRUDixRUeihd0V3+rWIyWZJis+y9bPQmruYtYDr2gtscrAsvVjq27d1fVW7TcwGq5NVGyvNf3vK0xSghBCoa636cjBJRcj0k1Yhy3RgIMKe6RbRZR8Gz4wZwk8sJXbOYhlUfSjQ1WDodiEwteyce3nE/AQouRPl4dXy+0ouSFMaJpI1vLpAxcDa56Pj+stKYQUJPWxgLrmBUl/wNT6kUEoSyiFDopAC8dG0uJj8MfsvyrJ9MJSkulbau+ZqvKAX+CBz8RyKZHQJHiJPLDKjPC13oW61VwkLT4+tOb7dE0ytQUeeES9zQfXeFP5WijR0RI7ypiMZf1kHukGZCw+1Xw+QJHng4Z1648rZvD7KFuGuM+Gut48BaX1PPXX2XrbxHepo643eUgPQugqOim4AxtIXnwWrrflJFMpdM/5sU0sNzY2QWmqM+dznJ6MOetqYm4LJVMyTizlJC8+Bc1JpoPomvNjcb2Fw15SyI+uYdp994lc8LQJdb0pYyLF0kh0rKciE/Hh7MNhFFUD6iV2KlpL7IyIa5rvgjuxEJ4+gQeH2BKLLm43m+ttXUbZnxio600e0l1vPkgRwZ4knudTYHAe5GFvRHfKdcz5sW0/jAtLk+Jtp2q0bYIyVl6QS2yGHgPDC6HWOxcul4bm/CgSOIvsLfcMLZ9lnPXd6iV2OL6utwhTM9gJWGC09/kjutYquAXUlJNVHwdK1PWgJIp2UAaTjfgY5kw7hUV9N15NYJvrra1H7RKTCILDbbdw5XZ89xkazebC57o9j9829jPUBx6rUVHXmzykut66hFknLIJZuN0WBKrg1lVQeLmds4v1NQDny167j+stLD5BA0NeB5YF5ajj9bbzjFg+qG2en4QfZKUH2iGYlMzEpxvnV4C1yvrh9cRC1BarUU3j3R93HTt7Q15tDy04ffdpe71+DeXnsY392H4riWM3N0Fub3tOhBKdHCaZm5CsxMfAgEA4jMJRVeXPPIBFXs3dwLaJuGNiC4PwDzzgXF/+PQ7g5nL9VjRbHZyhgQE+gnMci4n9fI5zEovrtghOHT72E2M2VmUenIBsq6drsEGiIpiV+ACLabTreOXe+Fg7VwBcY3nvnoZ1FgF3BMth3rapt9vmIiq4BLcghIhEc53DZY1Vr9tEyeW2A5avtaN7rusU2xKtJUU2iTb8Esgm4KAJnkdjLbGzgkXggG0g+wpbJuUSFgm1TUEIJ1FYQk3i4hs0cJItTTzMFhsPtbxue389IMGVF8Q2p1SGR3KPey7k+Bsk2GnKzvK5GwYvBAEAHkFLAqeP28YlNjYrqAXuVjuCZXdbJYo7UFw7ANwCsCrdF7A9aLxqxG1i4WNd+LjVXFYOF8bq/13svfw1vp1bRT7X6mDoeJ1aP3mSmuDMIM8nO/FpI1iS6ZXaeiVAHq43H/bBZ8K5C1g04nWOs3Wby+t4y2sVPoLTxn1s3fbt83O4rqcGD0Koz8lUCVBX15uSD2MJjrreepG1262iSjJdyvPxmUyuo1UzFFsy7C3l36JsUDFnUQFv3G3uLP7/SRSic7zlKlxutfvKxSY8F9jSzOGtY1RL07Xya7S43mITq0FJrReeGjdhnt9xYhZ7lpbPL8PgWOl6s+EMQAgxvhNwum1bIEWzO6uOb2BAG3WxqbsAXYHkF1o+g+0cEfCxdvbX1hN7qGdNTqKTuestS/GxsQYP0ekzXmBzvdno6IaLxzC3Gq/CcMq6TzuHAZzqLDosn8kn/4cLSF93WyVIKkRKE+p660y2brc7YJb+r0RnW6QbsGikYtZm20TRSLYEOtRdbvU5f6rllqW9uMVRucPqg/9dGPp+bFUVtwlP9RkOb+3PPwM/73G2PqK7rU6MRiWnHrokckri7WP1JNQ5ytryaQ0wqEQghuBU1k89hJutr10sKyxgewQcF0gerfcIbLhcXjzyzPa6i+3nOAUuIG7c+UvVOa5v3asV2+8ZwvqpH0eRQ25iPsTdxu9PwdZYtpZPE0fKxWp9DAk2qEfAeYhaW/UDl4vQbl1cYH95YECTwLgsHHfwgAtusbVjO8dxtq45P4pgJHZKJF5TSRTxIaKriOj7iegdRHQ/Ed1LRL9GRDfGOJ+NY6XrbVsjXm+sQlWoHpCIyq+RW2xH2PpBLJJmlytg19fbxMLlVvOJVmt3q1W4BGd5+nDOfRCN4N7kbMnJ3QbMIg0gltvtLgAPAvjPAL4Hxcj2uwC8nIieZoy5M9J5t2G1HkK42yo/WFMmq2/+D6chCKF1LqKSvfBze/m515rrbPsd3w6vx2AXpcjT/YVyvSmKDQ088CaW+Hy9MeYF5fq7ieiPjDH/noj+AMD7UcwNPT68sbdVsXZZLvaBF3+48FncRK5meF/tUvZi0cAXEWQVTVUR/BkiOg+5d7FGyS2PU9WLkB7avl5POOXfsWDXg1a6VqIjVBBjjfk8SkR/DwCI6OkAPgsAxpi/A2phaJE5ArNlPZy3hTdvws9lNkR4bK499v/axebxnsr1tlauV1LCo+EkcYotTTyEwjS+a9sr3OLahaLiQceqB2Mh8GGePSriSRHL8vkxAL9PRH8L4GoA/xwAiGgPgN+KdM7uhIp0sxWRq4uZyw1noW0uIGvtuiX4u21WUPMZeERbG3YLpss++9AelefAZv1oiZ38kRS8MdTSyDixlBNFfIwxv0dEXwXgWmPMJ9n2TQAvjXFOb3gDxRula+C2fHjFz6G4hO8isGax1PzmAlqm2Q3XHsU2dJxn+bxtcEGsFyStLB8P11uqqOttGJKERyoCXW/R8nyMMQbAlvAQ0SuNMf8u1vnaWIMBHOV2BsNFyWaO2KpgVzdGPS9o4FxA9jGX8KKzPM4EuEvvuMahhLrbOJrzIwPpk8N1JWRZHWGCw4kiPkR0R30TgO8jop0AYIwZczJRO33cbj7WD3fDtc7rMPBaSngz7q6G3c4wa8cnTMJFNdbTBYv1o643ZSoEWhrSiBVwcBTAkwHcA+De8u+j5fq9kc7poIxzqFc2iFXF+hG0i1Sbi88SnMCDEI6hOTjhoGX/EC60JlzBBQWugPFdbAG215w7iu3z+9TK7ThKF4knp567IgfBlnks8fk6FC63wwB+xxjzKwAuGWN+pVyfhqkap0fY3yqyDlgWoE00i06tV+6qfLCGRSJqEz7JoT40C06XSgh1wenDIbY04GNNDrV6tHcrg9zGzGZgjUcRH2PMJWPMDwP4WQBvIKJ/G+tck+AXYraMzQrymaL7Ilp79vtgF6VqW70gqU2A/AIEbLjcai7B2Q2/8OpKcCwldoBm4akLxZAH/BxbQqHWT170vTcOYBYRb1EFwRhzL4BnA/gMgHfHPJcXKyzFaMoJ5B6B2y23gYUVxG9iJkBHLi6a+6aSPJWzy11XbSi+bjUbI+TzhBYKtXiUGMQQHaGut+hVrcuot58rF6UOD0jYhNuqcriSmsSoK3Xrxx62XdFWRWGIW60+ztMT28MnJdggN5fRVPCoNykRcF0DDzKfQI4Tq7Do1xLR3WVh0b9HRMeJ6NNE9F4i+roY5+yFreqAj/Xj63pzuMwA+AUntBQ+rVxubQVJK+zFPN24AwvGoD6+41HdWrqVIqGRzIUTUDFvQqD1E8vt9loAPw/gDQB+D0Wb9cUAXgHgNZHO6Qd3vcVqlHwEx7aPLThhg+3DJr9bYz33+piPz9QMPgwTnSFTY5+s/W8JLPD5vmMgXdTmTqoiJMEaH4FY4rPLGPN2Y8ybADxqjPk1U/B2FCKUHtfAfzzIVkPO1kherK23WUGO6R9CCU53+sz54xrraXO7OSLdAD/rZyYuDmVCprQ69rNFGLHE53Fs/f+qvfaESOf0p7J+2uqqXVNb+PaKPlFvNmw9dx6cYBvvOVtbSrjr7Va0zwUUKgR7OEfRnNcDeE0mB4Sbn8mGRropqSDQ3VYRK+Dg54hopzHmsjHm56uNRLQPwO9EOmc3YjVMvlTutCZryjbPT70gKadJRC8C+2xWWEnbXEB8u93tNiS0gdduA+yWjrDabVpWJx2kBB50ZQaBB7EKi/7flu0XAPxwjHOOCi9CWi+30zbu0HOW0yU85gJyjX0cQftcQE1sr91WMSTSLVJ4dX0+nwotsaNMhZbb2Ua0PB8iehYRvYaI3kpEbyGi20rLp+09LyKie4jonkcffTTWpRUcsOT8xKAtiXRIkml9wrSGvKC18j1rAO7AwhX33Nqh9rLFhu/02W5sYz31AIOKWimdprEeh4WXBCn20BX5CLXSY4Va3wbgXwH4IxQ13T4M4EMAThCR9REzxrzWGHODMeaGq6++OsaljYvPBHX1/Zvez7fXgxPaxjbKcQlb8MFBtgzDFmxgi3Sz1W4bkNczNNKtq4tDe7HpoFFvIok15vOdxpinAQAR/RqAM8aYHyOi3wDwLqR7Oyxocr3tALCKRVi0zxxBdVz7X4G7oa1XRWAcqa1X5ccPYlERu279NE3NYHfDhcRzrKfp++jqepuS9J8GxYepXG9CO0qx3G6fJ6Inl+tfhjL6zRjzKUSfWKcDIVxvVTTckMg3n3I7toKkF9nfs1jKAdriNBqj4eq4LKHhZXpstdua8nmEBRnERN1t8ZmrwAsVHiCe5fNKAPcR0Z8B+FoAPwhsTaN9f6Rzjo9P3o/N+rEJTX0uoDaq49osIY/gBG4J3d3w+g4si049OKF5hlSObWbSPkQWpLrrzeX2kGhFKbJJodzOSMkwsaLdfp2I/l8ATwVwwRjz6XL7JoB/GeOck3MNFo09n6q7jktQ2nKPfN7Pz8sH4flNf2KxvgbgfHlzH8FCgJ7L1vvNHu5T0y1A7bY2F2RKrjedSluZkthBVw3ECjh4AoBPGWPuMcZ8uox8+1EiOuJ889gMdb35RKu58EmK3ATwIPufq8EVuIMTAGdi5NrFsasj2KLbbDRMINdE7CRTjmC3hlIjVXEfOvWHUGKN+bwPwBcBABH9GID/BOALAfxIGQmXP9zqsFVFsDWQm7XXbY2oz1iRq+7ZRik6Da/zqRn8ipPyqLd6pFuXeXq6vtYDH9HIPMlPmQjBgjAm0crrlMEFAPB8AN9qjPlJFO3ZcyKdsz9DrJ+u5XaqMjmuXrntdZ9e/TnLfjw44TQWUXnvW+xypNznSLkMqV/gxuV2c9Rvs+X2TOBCGEyqvXJFPkLFLlbAwcNE9D8bYz6IYjrtJ6KYUO7xyGlGU1+uoM+gyTJNwQN8fOhBuHGFaZc36RFLo949oK8t2MBWu83DuplqOvQ6oR5qFZ7xmFO5HR/rfsKOWiwh+N8A/Dci+lUUTcU9RPQ6FLOZvjLSOafDZv2sYDkXqML3B/cdC3JZUbYxKe624w3p6cXqMSzGgfiAXVNx0oI+1a0nQl1vylQItUbGJIr4GGMeAPB0AG8CcC+KuX1+G8C3GWPeGOOcgxmz3E4bXQTHtU+FLTjhI5b9genmyFmiXlanxKeUju9vKKHkfIo9cUU+PgI3YYHlaC4wY8xjxpi7jTGvNsb8rDHm16uQ6+wIVTC07UbYaHmfDz7BCQMi9/wCD3hZHd86bgKwWT8a6ZYmEtycfe6d0OV29iA/txsRPaksJPqnRPRX5fIn5bYvinHOyWhqqHdgYTXYXHJVDkqb6GywpQ8+FtJHsLhWfh4ehHC2CDzYB+DFbJewIdkek8N1peuDpWKijIGE+0xAUE4sy+fNAD4F4EZjzLXGmGsBPKvcJqHf0cxQ15tvmRwfK2ejw+s+1k/dDee6Vt+ovGB0tHh8q1jvweQ9PC/U9TYucluhsNhcb1PPZ4Z44rNqjLndGPPxaoMx5uPGmNsBfGWkc8qFN/S8EbQ1iKuW7Rtod78NHSuqovI6ROb5BR50db0BrVZQzLGortNtS+jFKgtugnwhHxJskFGl61ji8yARvZSInlJtIKKnENGtAD4a6ZzT4Ip0u4Kw022HYrO2XrkPeRDCucXra6cXm7nrbXSGiM4eyLaEpDeaUrkJaYiONCa2fmKJz/MBXAvgDBF9ioj+GkUA75MBPC/SOcMw1PU2RpTYKuzWEbBs4fS9warPYHn/PrZ0pz6fT8W6ZZ0hcdI4tX6mY4jgpOp662r9CA3rjiU+1wF4pTHma1FUY3kNisnkAOCxSOecDtv4SVuwQdM6Z3X4ZW3DR4gegVU4104vcn6Ose08/8fP9bYbgyePC4Htu+/qelOmwyYg0q2gMQRBQhpBC7HE53VYOHJehSLN/TYUTdvrI50zHL7WT5NbTWLPnFtAdXdb9fdBLMST73MWYYqnYhf86rt5IPE7DoX0RlOZlgMI0wkS4HqOVV7nKmPM58r1G4wxTy/X301E7490zjTo4gZbRXOAQX3bqmWfpu2+1xEidwnA8tQKvMTOSbhL7HiW25FAiGkaUnUDTYGPSPtMU5FquR0fppo51ZNYls8HiegF5fr9RHQDABDRdQAejXTOeHQdpG6qaN0WQRaqB7IBv7ygruNA3Mf8jsWqn+vtvo4nGxkprjcVnm6k/n0JFoWxiCU+LwTwTCL6EIqv+T1E9GEAv1S+Jh/ueuPwxspV0bpyVQ0tKupiA+0Wku11YDkwgffcY1/zNjommebmesu1961sZ0zhmVuejzHmb4wxNwP4BwBeBOAbAXyTMeaZxph8ptFuoooSC+W2Wh34/o0A12CjJaLPbv3Y8nxsSaaCyu2chT3SSGhE0azxtY5SsqI0z8cPY8wlY8z9xph7jTGfiHmuqLS5xWzWj0+k29hswO2W43MB8Wka6q63UniOMQGSN02tJ11db3WGCM8Jtih++OT0SP4+taMCYI5z63ThgFk0TD7h0X3oW1B0KBuWdZEklPPTFXW3KbER6npT8ZmaNiHbiHzujfDn8As86Op6a2GFLUP2scGtHy2xIwMfq8ZX1FOsjJCJ603Fpy/1wIMqybQp0g0oXG+xC3VuoL+g8Pfwa7S53ljV62MxqzkMoUlwcpp6W9lOKm5MTTJV8XGy0pJwGiT5MgAb2C44Gw2vN+0ngkCBBytwWzkShTK1nrc0hgiOdJFqwjfcv03gBCSZqviMyVdZttdvgg24RWID7v18jjOE92Groe+e82Or7xYJn3p7PoEH6nqTQSoWTht9rJ+MSjyp+Phgs35W2bqtxA5PMh09d8bChsd2H9ebhQvuXcanz3jPObYoSmim7LDkmuej1LCJzpDK06u9ryYaF+ASnnoN7IRzfprYb1n3QV1v0zG29TRkHMY32EDwWE+Fis8Y2MK0h1S03uh7Mez91dIV/gCcXqzewTZvn2SuEh5e3VoQTZ2APiV2EnjoFcYU0W5qSQNQ8fFniOstFBuIM46zYVm3ud6uYcvoDLB+pOcFqfUzLnP/vjXPR2lktfb/xgTXwNmDVsE5Xy42DneeVlu4i81n4FctINmkGqzg43rziXTTaLfMsFk/XV1vG6EuaCCbWFxjfZ6fitOLVT7FNne9TYrP7LJDS+woShfU9abi04k211soV9QGphGeDct6E32rBQSjo1U05FrHbiTm7goag5uQZmWDrggtq1Oh4iON1Y7bfQhxs+0oF0tDfgHN0W5r2/aqEO56awuxbqtuXUctJ3mk6m6ryCTXR8UnFHVXWtVYr7bs07QekiHlfDaw8AvzY3ykdvxynyOsMeZJpo8AOFUu/VhnywBc1o9vpJuihEKTTJVOtJXbkYAtd2iz9noTGyjEslps7GCLhWE5tSct29dr64GEKbYbQnN+wjEXl1koBLveVHymxGb9rNb220D7OIxvsqrt9VW4BcdjTItbPM9l67cs7eXjehPC2FNpK83YBKePAKUuXJlUtAZUfPphs35sU2yvWvYZSqgq2RuWdeZWWzoP3wcoGmPpDXKfSDdFBqmP0bQx46g3FZ+UGdJoDhGtFTgtpbacH2AXWzj1wAO+VNRdb03rNWzCM6S8UVfU9SaDnIWsK5pkOkN8Ag9WLetTYguxLl0Bd5d6BcfQAAAgAElEQVT/VsJzkO2y7Hq7D8NwjfMEiJJzFRSVbunNhS4iLdXl1tX6CVHfTZNME2aI6y0UQ3suNlfaRm2fKriAR7pVD0zpcrsbzTzEljg0BSHUtqc6gZzEhnJshgqGBihsR8h9//ipL0DxZBX2umsxaLtBq9csvX+/KRUuYbvbDShcb7sbtp8EcNTryGLZj1n7+L0JIRS5i81ZuK3vc2i2fHjVkglRyyc2tim2u7jeNiCj3M5X1/4/vVg9gkV9Nz5xQnN16/rUCpwm4YnIkLI6sV1vOj6xoG3iuBBRcFMzw06JWj5DWDHARSrWeURYPTqsDxu1v7HgvaANLATvfQCegcXsq3XhKbG527ozRHTqYzyH2PZyfQUyp9C2MWfhOYGFgLi+hzl/T0MQYP2o+EhjE8uCs4px3W3VOQH7tN83ug9hSzA9jAs4tTS3T+V6s7nbOBFcb0O/zwMYXmVY2U6bqPgIUorWT1eGuN4EoOITi8r6uYJisL5qjXkPvG4tVQ3UKsZ3s63W/tb5CIBvKNdPY0uAjmDZ+qnGe/hH3osuAQdVuLVNiHjYdUchqls/bcLjEouMkv2Sok14UhccwUIRAx3zGYot6q0SHhtXHK8H4RAWLigLddN7g63fA6/KBq65fPzpWuXAtwxPRyRYKak3pIochJbYUfEJjU/Sok10eK9n1bLu5af1EJ22Y+2Hczrou9nSRN3ttpet2yeW4wgst8PpGmwwox7tZMxx/CdhC1zFJwTc+uGNDLcWeBHOr65td2Xab/heiKfoNLHKFt5T4td0BVuidIS5r6qItkpS+hcUjYUl50cnkFOkMabVrUmmipUNdBz7sbmYLILEheW05a3VtBCr9rOehz23xy/J9BJbOD7Wj4/rTQhaYkeZirqoaZ5PRvjUCbNN58yjyvhNcaPlPGPgmDLh/Ip9rGcH3IJzeGn6OR833MhIyPNRupOD6y209eNwoU+Fik8oDlgCD2xJptwl5+unsgrPIfR2udVL7FQ1nx5k2yu/8mqx//nyc/ApFPZh8THbPs4pDJ1czoem76Kj600Kav0oNnyqyQsUnQoNtY6FK5LtCtyis+F7MpZM2fhaC3vQXneuGp+y7ONTSsdPaC4AkvJ/YqEldhQbMYRCcIkdFZ+xWcGiQCdPhqlyfipLZKP8u8rWvSsneIx3uG68PfCqarAP9tyeu9xXMQI9AzAAP6HQJFN5pJpk2jXPxyfJVDDqdgsJd72tsu0tYydLDBrP6TildFNF61Us94h4o3oOW2b+sZbDxq9ibcNnzh8Lkl1vOYxhKDLRPJ9MifXDhm4oV9EezeaR8+Me62krJGrbJ9IU200BH0Px6X32camo8IQhle+xzz2SsNWt4hMaW8RbZf1chD3/xyfJNARVUIHtuHvYYmENizg1/hH2bttzX+1vEz7iFBnN+cmLE2ivhC2NGd5nKj6huZG53iqRqcwCCdM5czZq65WFY8v/Odte1QAo3G3t0WyuKRVsU2z74OF6s00sV+cc3LOZxibFcQslLSZ0van4xMbmi/KJS+assvWQrrdVOJNIt0I6Le6lR+A7zrPPsi4wz6crsVxvShhSsYD6kKjrTcUnBjdacn5WsCgoyn1VTcU9N6JcmT9ccE4vNle5PdWkcTy6reLw1prLnbYPfpPLBZ5gzmda7f2WdUUJyVgJoALvYRWfMbBVNuC43G4bAa6jaRzndO0aqsoG720+hKuC9cLlNtU4zoCotzoSMsPV9aYMxXUPT+R60zyfWPhMl2D70VexfTymTojZUvmx2tjfLjiVu609mZSP4bhca12TTIHoSaahcn40yXR85iDgCeb8qOUTi++05Pzwcju80R8712QVzWM9VVmdr0YhbmWvaY1ZbUfQHOl2GByf2gc+DHW5eQQepFRuR8mLGXdEVHzGwCeoYMpIt/eVfyu3nKWyQVMZ0O34jOO4qKyeLsJjq27dwgr8o99CotWtFY/8uWD4CNwErjcVn5j4RLPZ3GerlvX6e31w5OxgteX1FXRqpA97WTxNYdRDQqxHQitdp0nOkW6cUBPLfTbQcRyo+MTkJuZ6qxrveqTblKxiIWy8d3QWi8CDdyw28yrWR7DQ1u2JpRyXoIwhOB6BB9Jdb2r95IVEd9vIuYYqPmPiE4TQFZ+G0nZDna79vwPueXzQHvHmP1VCm+j0Da/u4nrrUAevK5rzo7iI9fvbrB+BYqfiMxV8+mybgKxa1kfGJjgHa/8vhEd60ugA60dFI02kuN4khO8LQcUnNtz1ZhnIn4RVbA/pvoetn0URmXcNsHZ6sZm73i7AVdlgijGcrtNqC5xu24a63tInlgXiqEIiERWfMfBJMvVh1bJ9iOutI/4Rb7FFZ4TJ4zwKrFpR15s8pFg/MUiwxI6Kzxj8UEOxUcAvz2d14Ll9GlDXPnuWBYdbP2tsvcjz4bORdsU11nOULSHxKDxqK73TxFm0NwYSipbOjZsgw3LUDscWKj5T4ArBHiPaaoOtv4+tP8jWzy6u5UhDY9qlLqqd3WgXnTbBsYlQV9dbQEKFu9qQ0ICmhpTvTILwCOrwqPiMxRW22LBZH6uW9fp7m+jjbivHetoYJjouwakYwbXWF1tDou42eeTsbuPE7vgERsVnLF7KXG9tFa1d2/swZL6g0+XfPcARNmb1XLbLXvCCom2RbhEqVHfGI/DAx/WmKF0RZHVIQMVnbnAB2mDr3PVWPSRVZQPRje5RNLvmepTbGZMh1o8UN5J0boKcsR5JCBFBFR/J8EZ/1bJu238olt6/K8l0O9z6ebjDBQh1ufkEHiQU7polcxachFxvKj5j0tX1NiWn2foZbFlBx9hmnmQatqL1EOHxiYgb4HqTwlwb19QRYnVIQMVHIkPGaLrm/Gyw9fehM37TZ2fAkN/EhgYeKDFIJOdHxUcKXXN+VhteD9E4DkistFs/XV1vQsZrhpTbUdeborSi4jM2NtfbUIaIzgZbfydb5z0oFq7KXW884TQtJiy3EyrJVF1vC1IKLhBgdUhAxSdlVtl6V0tlonnb/RFi/QzBZv2ouy0MKQnO2CTgelPxmQKfwINY5XYiwK2fcK63KaPdLIEHWulaDqkLjlo/Kj6zxhZ40NH1FpYYtdvqHCqXttcHcBbu+m6hSL0RrlArZhomFEEVnxRZtayHDtmOOrPhw5b1Kd1tLlFqgVs/WmInDCpEwxCe86PiMxV9XG8bbOmNZ+NqEx2PwINblt7QVm7nYXRLPI1Nj0nmtEJ1eLgFZBOgHOq1zfyeUfGZBYew3KtnArTJ/vI8H75+2u8se8tlWg5h++fNnDlYCOqSC8/Es6qq+EjHVmIHaLaCtrnePBrgUSPfbPP8DHW9+YzjRBAkrW49DB9RUdHpj2DXm4rPlMQotxNLSE6z9RPYmpn1GKt0zcvt2F1vFZfQb8K5rnQVnB6uN2U8uBCl7nqbeedDxScXrMEBtqRJS4Nsc70FoZoPNYbojJAcGoOhDdAJpN0Ip3ztQ4gtPAfYYkPzfJQtfAIPVi3rjb3xiVxRJbegyPspFm79+OT/dHW9jTy+o9WtFckIdrdVqPhMDXe9BWVAY+wTeHBmsWpzvY1DDPGsWVGli1EkOYyHDLF+UrWcZh7pBgCPn/oClIDsAXO9raNbo3wIQ1xXa2z9gd5HqXMS7oTTrp/Th5GsqKENUKoNb1/m9nmH4LK6BYw3qeUjga45P6uWdSHUp9iuCFd6JxYWK8pnWu2xXW/aEC/Q72KZRNy9Kj4KgzW8HV1vR2puqR1sSYeEghZycLdxTljWObl95pm73lR8cmCVrS8FHiTUmA4KPBD+ObW6tR9tkXupR/WNSQIVrQEVHzkMcb1NCWsQuPXDy+0cwaL6gTv/Z2o88nw4Pq43pT++opOqMAkQgalQ8ZHEI2yZDE/XmyMCbB9bmqhCsIeRSBmdWGGvubmhOGrpxEfzfBQnm2hOIl217D+V622zXXCAwqjjonN4UM5PrM+2zhYLtt+kbv24hEetpXCcgIpWheb5KJ34D7Wcn6pxs5Vz2UCAKtcObOfgvaYT2GqE19hNz11vB7HwJvKw7IILbLFxki196WMhdZxYbgy0kXXjE8AghZm63lR8pOETJraBuILD4T17MQ8xFyBf66ehorcUulo/ObvbQqIC7UYnk1Ma+Sq23jXPZ5vrzcOV5Hx9GNwdx62f5bGf+7AoOvpQtGtx4zGe5DOtdiI5F9kzNxFK4L5T8ZFGtHI7A7BZP7zXdHqxWne9rbGlPyGTT32sn45RbxU6sZzSh5D3TALCA6j45I11XMJmCXVwSTmm2PYRnL3wmYCOz3ZqC0LwsdZGCLwYU3TU9aaEYqLOkoqPRLj1M8T11hnPBtomOpYIMB548GIsIuL85v8ZY86fJlqE2BZ40KfEjlpK4zEX11sCkW6Aio9srimX6HiM9XBBOc3WWYmdpZue73PRHYI9Pk3ikkjeUIVaP0rCqPhIpavorFq2TxkSPGgqgq75P23i6Tuv0QRono+yH+Hvg67WzwTWt4qPVH6Iud72oxCRPVi+SVc7HnMMIXovW2c39Jql9E7d9XYYoaof+DBAdHxdb2eRjBtkFpyA5kkJQcVHMitsacJXTCrhGkqb6+1KufQgfgXsgMEGFyFjcjltPPNByphfdR0jlfdS8UkRLibPYNtX2d9VNDOmG65FjGzRcMv5P7zywX3slSFRbyPjE/aqrrdpyH3MrI/FPaIQqvhI5ibmejuAhXnwVZb9gemqXd/D1t+LhfCwgqRrFxeCU696zXGHYPtEwEUSoroV6lPfTZGHNOGRYv2MiIrPHBli/dhcb673OPKCXFWwC6rKB3Xq1s86W0fD+v/f3rlHS1Xdd/zzlasi+EKERKsIRrABNaiINkrAWq1Ea9T4rKbGJLWYGFeTuKLpsglWm0bbRmODdWGbmEdVfNVoNL5a7200YgR5XogvHBWNckVkKRJF+fWPvQ+zGeacmbl3zjzu3Z+1zpoz++x9Hr85c35n//Zv/359oJK5rVGu06328IxEaiQqn3ZiTLAe9n4OKa3oGZ3fqVSkivQQ0wMX7CwnhCKhB1wSeiechJoTfR3niaa31mOgjJd1B58t5vjScOUjaXajj9nWJKa3VspJndb7mUdR4YQ3etgT6KaOA/YNUjpZNNOVPdK/yKvH3GJKJyEX5SNpl5RlOPDpPI7Zr8lD6dTzoVmgcqTtCqa3auK+bel+HZrgbqR82oVemN6a5c0Wo1tH8qaFFFFePZ8e3Hvw/GCZ55dKoRkjpRxX4niQRD4IH1aNNr1VMY6TSvKG1+OCkCaK58KgSmJ6G4ILyZMonmNbMfV2TKXdnrSK6W08+Uw0bXHyUj4rgGlmNiZY9jazMcDrOR0z0hDKhKAJU2zfF6yHb1mhklpHVUFJ0zt81SSfS6OK3k+1r0fVKOC8be2x99P+DEBPN8hP+VwDDEvZdlVOx4yUo5CxrWrTWx1inq0ieyKqN3Wlmd/GUnS/3twJoc7zf5o9gXSAvf1GmkB3ydIkclE+ZjbLzBalbPu3PI7Z7wlNb6OD8izTWyG3s6mOHpxDQvIwLwTbCiV1PNNLwvBU54JdJ2pVOjGZXPvTCqa3VnnhaLAiys3bTdJHJX3Ur4+QdLKk+FdsS9J6DmVMbwXgOtJNUaELdkqdfBROFY4HtY5G9ma8KxIJaQXF06QeUF7ebn8DPA7MlXQ+8EvgeOBOSV/MbBypjVIzVrlwO1lUZXqrxtx2aHpPax29jv0Wzv/5bLBe3vRWmnr7TnKh0jhPX2341T6QYny3+hBlWKSbXsdorJWOnPZ7Ac7gsB3wIrCPmb0maRjwCPCfOR23f3Ocwb1yvYaRwAu+fC+clGuhqrf2KpVOOW4DpgXHmuTXX6A4WbaHolfBk2xSnGNXwbO+FzKWym4FxwL3NzLp3AjS5VdO8UygpVxcI57orNFU8jK7bTCzd81sNfC8mb0GYGZrAMtuGskkLWJAX1yfU6kxJE1PlQ4JlSIG9FROwT2ErNQLr1CMfHBjUJ6D6a2ZxIdn+zNAPd0gP+WzUdLWfv24pFDS4ByPOfAIw+1MCtZHp6yHNHpmfhXhduiiqDyDnkJietsHuJhiZyk9AnbOc4F6o+BrHe1shbGA/k40tzWVvMxuJycrZrYyKB8OfCOnYw4MTjW4TQ06WFZPZnLJd59FrudQGOF7FZ0UlV+BYmyLHorKr5vNlWgpvne0T0qPJD3ydUg49lNF72wkmb2yTMaT/jYbKqBohoskLGNAvmzk5Wr9kpltAJA0TNIOvvwVM3s4j2NGekFm7yftIT2ZLRVPCZVMgMuo7IBQIFUBpHnDVTf/5+Jg/VqKUbCblAsoq0dUzQMpmt5q59RgiTSNvLzddpf0U0lrgTeAbkkvSZoZmOMivSXM8zOUojmrLym286ZAerqBxHFiFa63VPDfU3IBlQvDUxtNVDYJEygqnjgBobFEc1tLkNf4y8+BH5nZTrj3izuAj+PMfLNyOubAotJM/ALZwT577Zzw25TysDdUMv8nOYfOoEqSfO5Fv2SZuSqca+U03FmecClOCL1JXd6oXD6R/scAvG/yUj7DzawTwMzuBD5lZuvM7FLgUzkdM9JD5ejSFeljGB2golmu4Jc09/AqnBMuTMmK+tVg/VgWUFQ8DZj/0xfSej/R9Bbpp+QW1VrS2d789lX841CScjzmwOIrgeltCMWeQa2TTOtKFeNBncF6GJB0GcUeTlouoHup2OPbhywXbMg1+dwAHDRuW6LprenkpQi+AJwAPIh7jb7Al+8CfCunYw48sgbtC+QY282b3uxat5Ql6YMcmj3/p5r5SQUyr2U6ViEcT+J+HSqdG4P1yqY3G1n5PK2ZYze+92PmlmbTiHOo5hgtIYtb3ZJKHdIp2Mz61Gkkubham9lLwGllylfjxn8ieTDL/9NGZrhirwr+jSpTz+Zu/l2HVa6zxXavkJQyPlQIzuO0lHMNnSruDeokkRBG2mbmtgsxrsXVmw78CviVn88skvYLgAOLpxm4LijFAcEqTDqtpHDMKwVlvGkndTgVNLPM9pIHl7b4Z1V4uFF8CJf7ycPtfalT+qA327JeX8+jHgpn0zmUkeOmOoE8q5F3aZ1Kv0dYp9xvDpsri2rqVLPdZm6+r2qOkReyHF4NJH0fuMPMHuvDPmzq1Kl1PKt+ystdsGcZOf2mq7j+yRQ5dgV10mTd9ZTfflD6OXQ9B1NT+h1J+6x9LPPnMT7j917t6wyv/Z7oonidUynfvivoFU1lx/R9rYOpQ2s+Bdc26DVNTXFc6Cr47aMz9uNNkVN78bYc/uSQ8bN3ZW9P6vT2L1rVrVdDnV6fR2DWTZNnNfLu029SCM5hdOV6lepkba/qPF5bCO+tnW9mk7Lq95W8lE8Pbjh5BDAHuNnMFmS3AknnAef5r/sBS+t+cpGEXXFu8JF8iPLNlyjffNnXzHbI8wB5KZ8FZnagpLHAGX4ZBNyMU0TPVLGPeXlr3oFMlG++RPnmS5RvvjRCvnV3OPDx28ZJWgTcBXSY2QTgBpzjwdOSJgX1J0ta6JdFkk5Kzi0oXyjpDUnX+DYzJC3x5Y9KGu/LJ0p6XFK3pMWSTq/39TUbSYMl/dbLqlvSZb78VP99YyjfoN0oSe9Iuigo20bSbEnPSPqdpM+WtDlFkpX8XldKWuqXAS9fSaMlrQ/u0+uDbZ2Sng62jQy2nSZpmd/nTUH5KEkPSlrut49uzJXnT2/uXUkHBP/pJf75Em6/W9LS4PsoSY9IWuCfAZ/25XtJmu9/h25JMxpxzY2kF/fuWSXP2I2SJpbss1S+20qaI+k5SU+E96ekcyQ965dzKp6wmdV1AQQs8utb49yHDsNNMt0X52w7Kag/BKegAHbDOdJ2APNK9jsfN18IYMeg/ATgfr8+Dhjr13cHfg/sXO9rbObi5bt9tfIN2t2BczC9yH+fB1wGXOG/bwXsGtTfAfg/YG6yP1yQ2If87zPU72PHvK61HeSLc2hfWmY/8zJ+i7E474dh/vvIYFsncLRf3x4Y0myZNFG2HcBi4BP++3BgUCDfk4GbQvkDs4Hz/fp4oODXtwG2DeRaAHZvtkyaKd+StvsDK0ru33Ly/TJwvV8/A5jj13cBVvjPYX59WNb51r3nY+5MDvdft/aLmdlyM3u6TP13zewD/3UwxZQLs5M6cua7kcCvfZvQZ3Zo0sbMnjGzZ/36qzhF1uj4zblijnf814ryBZB0Iu5mCGfQzMa5xP+T3+9GMwtt6JcDVwF/CMrGA11m9oGZrQMWkTWlpg3pjXxTmJ2x7a+BWeZSjGBmqwB8D77DzB7y5e+YWVYc8LaiF7I9BlhsZot8+9Vm9qHf9hPg68AVpYeBTR4jOwGv+rbvm9l7vnxb+uF8wz7eu2fihkUS0uT7Gb8N4HbgKEkC/hx4yMze9Pf1Q1R4NuT1A3wgaSHu4f8QMETSNyRNL1dZ0qGSuoElwAz/cAv/vGfiNKwFbb4i6XncA/JCSpA0Gfe283zdrqpFkDQolK+ZpQYqkzQUF03zspJNiTPo5ZKeknSbpI/4NgcCe5rZL0vaLAKmSxoiaVfgSGDPOlxSS1GLfD1jvJmnS9IUgOD+/bE3afy9/5OC66GPk/SYpLmSjg3K35J0p9/fP0saVO/rayY1ynYcYJIe8PfoN4NtewP/ypZxMGYCZ0taCdxHEPRC0p6SFgMvA1f6F9R+RS/u3YTT2Vz5pMn3j3Dyw3ca1uJ6pJvKPSupEHQ+L+XzBO7BtAcu+/H3cVlNv06ZAPpm9oS5caFDgG+V2nVx3bubS9rMMrOP4R6sl4bbJO0G/Aw418w21uWKWggz+9DMJuLkO1nSfhnVLwOuDt6IEjp8+8fM7CBc2vN/kbQVcDVlUl+Y2YO4P/RvcL/H48AHpfXanRrl+3tglJkdiLu/b5KUvHmfZWb7A1P88jlf3oEzvU3DvVj9h6SdffkU4CLcf2Fv4PN1vLSmU6NsO4AjgLP850mSjvLjEvuY2X+XaXMmcKOZ7YFL4vEzf09jZi+b2QG4+cjnJC9b/Yka5Qu4l3/gXTNb6r9nybfcDC3LKE8lL+UzyMzWmNlbOKUzx8yuwM3/G57WyMyW4+bsbxKYpE/gTBHzU5rdApwY1N8RF4jlUrNKsyHbGy/fTrK7t4cCV0kqAH8L/J2kC4DVuLea5Aa7DTgIN9azH9Dp2xwG3J0MVJrZP5rZRDM7GnfDPVvny2oZqpGvmb1nbvI0/h59HvfGjpm94j/fxtnOk9hDK4FfmNkGM3sBeBqnjFYCC8xshX+rvAv3m/Q7qrx3V+LMvG948+N9OHn8CXCwvz8fxfUiO32bL+J79Wb2OM6Uv2vJsV/FmaCn1OlyWo4q5ZtQ+nKfJd+VeGuHpA6cafPNsNyzB97kmUYe3m4jgHWS9pO0HU75JEHzOyjRkJLG+ItA0l64gbFCUKXUFpmMASUch38AStoG9zD9qZn1y+hNkkb4t2S8fP8M+F1afTObYmajzWw0cA3wXTP7oTdh3oN7+wY4ClhmZmvNbNegzVzgBDOb57v0w/2xD8BlNHgwlwttErXK19cf5Nf3ximRFZI6vGkSuTQix1Oct3YXzjKArzMONyb3JDDM/4cA/pR+FO+4VtkCDwAHeDNvBzAVd4/+u5nt7u/PI4BnzGyab/MS7l5G0sdxyqdH0h7+mEgahhuXrmUMr+XphXzxvcJTcS/xAFSQ791A4sl2CvC//lnyAHCMXP62YbjxugcyT9jq73FxALAcWA+sARbi3gb/B3gf2AC8Djzg638O9xayEHgKOLFkfyuAPy4p+0HQ5hFggi8/2+9/YbBMrPc1NnPx8l2A8wJaCnzbl5+Ee/t4L5RvSduZeG83/30vnEfbYv/7jCrTppOit9tgiokD5vY32fZGvjizcjduPOwp4C98+VCch+Ziv/0HFD21hDNFL8ONc54RHP9o32YJLgDdNs2WSTPvXf+f7vb1ryqzz9Fs7o01HnjM/x4LgWNK5LrIf57XbHm0iHynAXMz9lkq38E4K8lzuCCPewfbvkAxkOK5lc43l0mm4Aa+cNpvHK7Hs9Jf9Fu5HDASiUQibUNuyicSiUQikTTySqO9k6Tvyc2aX+2X5b5s5zyOGYlEIpH2IS9vt1tx4z3TzGy4mQ3HDbCuIaZxikQikQFPXoFFnzazfWvdFolEIpGBQV49nxclfTOcxCXpI5IuZvNZsJFIJBIZgOSlfE7HTSbtkrRG0ps4l91dKJPhNBLJG0kfavMIvpf0Yh/TJH0y+D5D0l/V8Rxv93OFqq2/v6Qb63X8SKSR5JJGG+de/V0zu1jSEOASijO1P0xvFonkxnpzYUf6wjTgHVx4Iczs+szaNSBpAm4e0Ipq25jZEj95cpS51PWRSNuQV8/nR7gwOeBm1e8AfA8XzuXHOR0zEqkZSd+W9KRcfqLZSfBPSRfK5dNZLOkWubwlM4Cv+Z7TFEkz5fMjyeXuuVIun8oz8gFG/ez8W/1+5sjlQCmXpOss4BfBeb3j9zdf0sNyea86Ja2QdELQ7h5ceJRIpK3IS/lsZcU0CZPM7Gtm9qiZXYYLlhiJNJrtSsxuSSK8H5rZIWa2Hy4U1PG+/BLgQHOBKGeYWQG4HhekdaKZ/brMMTrMbDIuht53fNmXgTV+P5cDB6ec3+G4iAgJQ4FOMzsYeBsX2v5o3Gz1fwjqzaMfxyiL9F/yUj5LJZ3r1xclb3qSxuHC30QijWa9VxrJMseXH+l7I0twsdQm+PLFwH9JOpvqI3ff6T/n48KSgIuNdQuAuajBi1Pa7gb0BN/fB+7360twATY3+PXRQb1VuMSJkUhbkZfy+RIwVS7fznjgcUkrcKm0v5TTMSORmpBL3XEdcIq51Ac34GJXgQtYOwvXU5mfBL+tQJKs7EOK46nlQs2XY31wbIANVpwHsTHZt7kUIeG5DPZtI5G2IheHA1x2noUAAAE7SURBVDNbC3xe0g44M1sHsNLMXs/jeJFIL0ke9m9I2h4Xpfd2H+l3TzN7RNKjwF/iUi+/TTFLZrU8ivPwfEQuU+n+KfWW4/LMFGrc/ziK0bIjkbYhL283YFMek0V5HiMSqZLt5DI8JtxvZpdIugFnyirgUhoADAJ+LmknXM/lajN7S9I9OOX0GYIMmRW4DviJXAbNJOLw2jL17sV50z1c22VxpG8bibQVMbBoJJIjPrr71mb2B0kfw6WuGGdm75fU2w6XHuRwM6tqOoKkbYEu4IjAwScSaQty7flEIhGG4ExuW+N6UeeXKh4AM1sv6Tu4vPfVztkZBVwSFU+kHYk9n0gkEok0nLy83SKRSCQSSSUqn0gkEok0nKh8IpFIJNJwovKJRCKRSMOJyicSiUQiDScqn0gkEok0nP8HDkiIprgf03IAAAAASUVORK5CYII=\n",
          "text/plain": "<Figure size 720x720 with 1 Axes>"
         },
         "metadata": {
          "needs_background": "light"
         },
         "output_type": "display_data"
        }
       ]
      }
     },
     "4e5b06ce7bf9463b808ae0a15d827279": {
      "model_module": "@jupyter-widgets/base",
      "model_module_version": "1.2.0",
      "model_name": "LayoutModel",
      "state": {}
     },
     "4e64a4a7995d4ff0898d16d11bd52b91": {
      "model_module": "@jupyter-widgets/controls",
      "model_module_version": "1.5.0",
      "model_name": "DescriptionStyleModel",
      "state": {
       "description_width": "initial"
      }
     },
     "4ebdce43c0664c8db36f2371f01a6fd9": {
      "model_module": "@jupyter-widgets/output",
      "model_module_version": "1.0.0",
      "model_name": "OutputModel",
      "state": {
       "layout": "IPY_MODEL_28b986ad78ef4d95a63ead6c483a9c65",
       "outputs": [
        {
         "data": {
          "image/png": "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\n",
          "text/plain": "<Figure size 720x720 with 1 Axes>"
         },
         "metadata": {
          "needs_background": "light"
         },
         "output_type": "display_data"
        }
       ]
      }
     },
     "4f1cb2fa016f453bbcfab3fdb857dfe5": {
      "model_module": "@jupyter-widgets/controls",
      "model_module_version": "1.5.0",
      "model_name": "SliderStyleModel",
      "state": {
       "description_width": ""
      }
     },
     "4f3e0e0171b242f08ca37f7a6836acd5": {
      "model_module": "@jupyter-widgets/base",
      "model_module_version": "1.2.0",
      "model_name": "LayoutModel",
      "state": {
       "grid_area": "dircontent",
       "width": "auto"
      }
     },
     "4f5b7d1b852c4e6287648eee63901587": {
      "model_module": "@jupyter-widgets/base",
      "model_module_version": "1.2.0",
      "model_name": "LayoutModel",
      "state": {}
     },
     "4f7bf7362b49402397cf8016f7396ab0": {
      "model_module": "@jupyter-widgets/controls",
      "model_module_version": "1.5.0",
      "model_name": "TextModel",
      "state": {
       "continuous_update": false,
       "description": "Group:",
       "layout": "IPY_MODEL_2679708236a1406d8b5cdd5ad29627ab",
       "style": "IPY_MODEL_5e6e20f485ec4f4f9503c6d4dd33b5c6"
      }
     },
     "4fac87777d9245d4811daffcea764864": {
      "model_module": "@jupyter-widgets/base",
      "model_module_version": "1.2.0",
      "model_name": "LayoutModel",
      "state": {
       "width": "auto"
      }
     },
     "502fc1883a944f44b1dcd173adb05caa": {
      "model_module": "@jupyter-widgets/base",
      "model_module_version": "1.2.0",
      "model_name": "LayoutModel",
      "state": {}
     },
     "505fe23bc0cb43f2a2e06d4c147bd6ef": {
      "model_module": "@jupyter-widgets/base",
      "model_module_version": "1.2.0",
      "model_name": "LayoutModel",
      "state": {}
     },
     "5168c36d1e194d9298351e595231c70a": {
      "model_module": "@jupyter-widgets/base",
      "model_module_version": "1.2.0",
      "model_name": "LayoutModel",
      "state": {}
     },
     "516af62fcb3842a5bf71d5ce4a35fe60": {
      "model_module": "@jupyter-widgets/controls",
      "model_module_version": "1.5.0",
      "model_name": "DescriptionStyleModel",
      "state": {
       "description_width": "initial"
      }
     },
     "517f52aa58d248bcbd77846909961749": {
      "model_module": "@jupyter-widgets/controls",
      "model_module_version": "1.5.0",
      "model_name": "TextModel",
      "state": {
       "continuous_update": false,
       "description": "Group:",
       "layout": "IPY_MODEL_6e16d08115b3406fbd7c851f82f77fd1",
       "style": "IPY_MODEL_f6154e93f1c240ef890e4efd9e38e86b"
      }
     },
     "5199b85e358542f3afe21e41b663e705": {
      "model_module": "@jupyter-widgets/controls",
      "model_module_version": "1.5.0",
      "model_name": "HTMLModel",
      "state": {
       "layout": "IPY_MODEL_99a0535770f041e5918ff072076e576e",
       "placeholder": "",
       "style": "IPY_MODEL_99f48ab1b12c44c1a4d5915c53959ce9",
       "value": "<span style=\"margin-left:10px; color:black;\">No file selected</span>"
      }
     },
     "51d1a93cf47b4a83bf16ad395971282b": {
      "model_module": "@jupyter-widgets/base",
      "model_module_version": "1.2.0",
      "model_name": "LayoutModel",
      "state": {}
     },
     "5265e95047c3498b907b07bcc1cf4ec0": {
      "model_module": "@jupyter-widgets/controls",
      "model_module_version": "1.5.0",
      "model_name": "GridBoxModel",
      "state": {
       "children": [
        "IPY_MODEL_017eda18480f47828f35d56c28ec7694",
        "IPY_MODEL_cdbd126557c5451190a71af1929e9755",
        "IPY_MODEL_a3867ce991d0463fa8ba3bd3afe8aa72"
       ],
       "layout": "IPY_MODEL_a232f147971649238c4362af925ba777"
      }
     },
     "52a5d1a15c4b448e90ba30e7f51c2631": {
      "model_module": "@jupyter-widgets/base",
      "model_module_version": "1.2.0",
      "model_name": "LayoutModel",
      "state": {
       "align_items": "center"
      }
     },
     "52dbac5f5da04ad1a2d0277a9fc3b44b": {
      "model_module": "@jupyter-widgets/base",
      "model_module_version": "1.2.0",
      "model_name": "LayoutModel",
      "state": {}
     },
     "5303f26c69d24fa282a009f2190483f1": {
      "model_module": "@jupyter-widgets/controls",
      "model_module_version": "1.5.0",
      "model_name": "FloatSliderModel",
      "state": {
       "continuous_update": false,
       "description": "Height",
       "layout": "IPY_MODEL_43c0fcce53444cbabc49b25c2c7bded4",
       "max": 11351.865002485923,
       "orientation": "vertical",
       "step": 0.1,
       "style": "IPY_MODEL_e3cca9407a4d443c80be53a569cf8195",
       "value": 5675.932501242962
      }
     },
     "5306f2ab9ad84a8c908f4c9356257ea7": {
      "model_module": "@jupyter-widgets/controls",
      "model_module_version": "1.5.0",
      "model_name": "ButtonStyleModel",
      "state": {}
     },
     "531380ba97064622bf679ca71bc39873": {
      "model_module": "@jupyter-widgets/base",
      "model_module_version": "1.2.0",
      "model_name": "LayoutModel",
      "state": {
       "width": "auto"
      }
     },
     "53cbbb8ca9284add808b9641c4d58eab": {
      "model_module": "@jupyter-widgets/controls",
      "model_module_version": "1.5.0",
      "model_name": "VBoxModel",
      "state": {
       "children": [
        "IPY_MODEL_0277024cb5794bffb882aeb0d7a28bdd",
        "IPY_MODEL_16459909d589443eb231cbd71539fbf2"
       ],
       "layout": "IPY_MODEL_75a09b3ed32f4578bf966eb965d667c1"
      }
     },
     "53d4f3dea14348b2bd09d7acb8fdb70d": {
      "model_module": "@jupyter-widgets/controls",
      "model_module_version": "1.5.0",
      "model_name": "VBoxModel",
      "state": {
       "children": [
        "IPY_MODEL_c4d615dd54ed4fa189ffd3acc9cb9ec7",
        "IPY_MODEL_d8e9183d0ad3468f9dc75e2ccedb4278"
       ],
       "layout": "IPY_MODEL_3ac8c204081347deaa3fe81c87ae22f9"
      }
     },
     "55bb9ccfae8244b7b7b976fb13499755": {
      "model_module": "@jupyter-widgets/base",
      "model_module_version": "1.2.0",
      "model_name": "LayoutModel",
      "state": {}
     },
     "55da41d40e094c27898b139fcb4bfd79": {
      "model_module": "@jupyter-widgets/base",
      "model_module_version": "1.2.0",
      "model_name": "LayoutModel",
      "state": {
       "display": "none"
      }
     },
     "562268d9854247f1be8a4145e29b8480": {
      "model_module": "@jupyter-widgets/controls",
      "model_module_version": "1.5.0",
      "model_name": "DescriptionStyleModel",
      "state": {
       "description_width": "initial"
      }
     },
     "565076f5cee14051b1d9360661a75add": {
      "model_module": "@jupyter-widgets/controls",
      "model_module_version": "1.5.0",
      "model_name": "GridBoxModel",
      "state": {
       "children": [
        "IPY_MODEL_214a467f32f245a4bd80e1d8c9173c8e",
        "IPY_MODEL_fc510fd6a1cc405eb44334f1d2f04792",
        "IPY_MODEL_f1dded0b0142401f80fcc7788bbfe6d9"
       ],
       "layout": "IPY_MODEL_f36812f842714aa7bb71c5613231713b"
      }
     },
     "56fdf549bf584f529077b7298ce89e44": {
      "model_module": "@jupyter-widgets/base",
      "model_module_version": "1.2.0",
      "model_name": "LayoutModel",
      "state": {
       "display": "none",
       "width": "auto"
      }
     },
     "5760810ca130449ba4697dc1edb0fbac": {
      "model_module": "@jupyter-widgets/controls",
      "model_module_version": "1.5.0",
      "model_name": "DescriptionStyleModel",
      "state": {
       "description_width": ""
      }
     },
     "5853ec76d7354454a7a773aff05e334d": {
      "model_module": "@jupyter-widgets/controls",
      "model_module_version": "1.5.0",
      "model_name": "VBoxModel",
      "state": {
       "children": [
        "IPY_MODEL_1e4416878a2242b68e236f3a89e03dee",
        "IPY_MODEL_3be6008c759340cb822ca3f82a792290"
       ],
       "layout": "IPY_MODEL_81dec2c3fe2345d08a48f2f0d0ec22fa"
      }
     },
     "58687b60571f41749b5c66c46e5d6011": {
      "model_module": "@jupyter-widgets/controls",
      "model_module_version": "1.5.0",
      "model_name": "DescriptionStyleModel",
      "state": {
       "description_width": ""
      }
     },
     "587518d6ba5549098bec71b55f9c3ad4": {
      "model_module": "@jupyter-widgets/controls",
      "model_module_version": "1.5.0",
      "model_name": "SliderStyleModel",
      "state": {
       "description_width": ""
      }
     },
     "58a06268176343c5824765ea4b4275b9": {
      "model_module": "@jupyter-widgets/base",
      "model_module_version": "1.2.0",
      "model_name": "LayoutModel",
      "state": {
       "width": "auto"
      }
     },
     "58ffa3b57e9b490684bb7e5f80da398d": {
      "model_module": "@jupyter-widgets/controls",
      "model_module_version": "1.5.0",
      "model_name": "DescriptionStyleModel",
      "state": {
       "description_width": ""
      }
     },
     "5ab8afc8955c4f4685ba9cd3d09f4d1c": {
      "model_module": "@jupyter-widgets/base",
      "model_module_version": "1.2.0",
      "model_name": "LayoutModel",
      "state": {
       "width": "auto"
      }
     },
     "5ae02b8d6b484a5e80aa825d9a84a88f": {
      "model_module": "@jupyter-widgets/base",
      "model_module_version": "1.2.0",
      "model_name": "LayoutModel",
      "state": {
       "grid_area": "pathlist",
       "width": "auto"
      }
     },
     "5b4d8c9c477147eaa108502f1af66eb1": {
      "model_module": "@jupyter-widgets/base",
      "model_module_version": "1.2.0",
      "model_name": "LayoutModel",
      "state": {}
     },
     "5b6bae98cc7e4f17ad11ec8d83c10525": {
      "model_module": "@jupyter-widgets/controls",
      "model_module_version": "1.5.0",
      "model_name": "TextModel",
      "state": {
       "disabled": true,
       "layout": "IPY_MODEL_4a13dd87f7044bc2a5171929014eb2eb",
       "placeholder": "output filename",
       "style": "IPY_MODEL_61aaf5475ece469f9e0ba0257d24e100"
      }
     },
     "5bd63a825bee4a70ae49d2b318ca2f8c": {
      "model_module": "@jupyter-widgets/controls",
      "model_module_version": "1.5.0",
      "model_name": "ButtonModel",
      "state": {
       "description": "Change",
       "layout": "IPY_MODEL_cc54d0497b214039ae4380fbfa15ea19",
       "style": "IPY_MODEL_64c9511d1b3d4700a9e726a49dfe07db"
      }
     },
     "5c035154fa064de8a2add1d861091112": {
      "model_module": "@jupyter-widgets/controls",
      "model_module_version": "1.5.0",
      "model_name": "DescriptionStyleModel",
      "state": {
       "description_width": ""
      }
     },
     "5c114d2cf5304913ae84d566cb49a47e": {
      "model_module": "@jupyter-widgets/base",
      "model_module_version": "1.2.0",
      "model_name": "LayoutModel",
      "state": {}
     },
     "5c690773c63f45c486d077a3106e90d5": {
      "model_module": "@jupyter-widgets/base",
      "model_module_version": "1.2.0",
      "model_name": "LayoutModel",
      "state": {
       "width": "auto"
      }
     },
     "5cb240baa1dc437abc98b3e4b0bf38cc": {
      "model_module": "@jupyter-widgets/controls",
      "model_module_version": "1.5.0",
      "model_name": "ToggleButtonModel",
      "state": {
       "description": "Zoom on selection",
       "icon": "check",
       "layout": "IPY_MODEL_08dc118c4be94b378cdacd4434b621ac",
       "style": "IPY_MODEL_6d186b3cc3e84468be84630ebdf5ee17",
       "tooltip": "Keep plot extent on selection",
       "value": true
      }
     },
     "5ce81b3f32fb4cd996ae0c4bc5f14896": {
      "model_module": "@jupyter-widgets/base",
      "model_module_version": "1.2.0",
      "model_name": "LayoutModel",
      "state": {
       "display": "none",
       "width": "auto"
      }
     },
     "5cfb4f16ff684a84b132012a9ab4d4f5": {
      "model_module": "@jupyter-widgets/controls",
      "model_module_version": "1.5.0",
      "model_name": "VBoxModel",
      "state": {
       "children": [
        "IPY_MODEL_db36a3bf136242929150b248bbdb2ea0",
        "IPY_MODEL_517f52aa58d248bcbd77846909961749"
       ],
       "layout": "IPY_MODEL_5b4d8c9c477147eaa108502f1af66eb1"
      }
     },
     "5d40f7b99f564319920b6599becff915": {
      "model_module": "@jupyter-widgets/controls",
      "model_module_version": "1.5.0",
      "model_name": "FloatSliderModel",
      "state": {
       "continuous_update": false,
       "description": "Width",
       "layout": "IPY_MODEL_6b4e671349b14e66bb93e41e67556f60",
       "max": 7335.505938563321,
       "step": 0.1,
       "style": "IPY_MODEL_2dbaae1ff2604d5e955293d9669aba17",
       "value": 3667.7529692816606
      }
     },
     "5d9147b2330444bc87caa29c45ecf539": {
      "model_module": "@jupyter-widgets/controls",
      "model_module_version": "1.5.0",
      "model_name": "ButtonModel",
      "state": {
       "description": "Cancel",
       "layout": "IPY_MODEL_7d02e763f75646f2a970e15d82e56162",
       "style": "IPY_MODEL_09ddab1881054ad9af846d3bb3a7dfc7"
      }
     },
     "5dc6f4de55a74e23ae94923fb6e3869c": {
      "model_module": "@jupyter-widgets/controls",
      "model_module_version": "1.5.0",
      "model_name": "VBoxModel",
      "state": {
       "children": [
        "IPY_MODEL_098d4a80d105490caf5b273c105a7e07",
        "IPY_MODEL_7a1dfd3013d14a859ba5a0e595221cf4"
       ],
       "layout": "IPY_MODEL_721eb638b3cd44e5a2f6812ca4aa25b7"
      }
     },
     "5dca0426a5a247c1b4bd8dc0ed115791": {
      "model_module": "@jupyter-widgets/controls",
      "model_module_version": "1.5.0",
      "model_name": "ToggleButtonModel",
      "state": {
       "layout": "IPY_MODEL_c2144b689ebf4dbd86daf03c38e79762",
       "style": "IPY_MODEL_dd864663f6714f3bad4024f269804b5f",
       "value": true
      }
     },
     "5dcbeda01b0e402bb318984863810f69": {
      "model_module": "@jupyter-widgets/controls",
      "model_module_version": "1.5.0",
      "model_name": "HBoxModel",
      "state": {
       "children": [
        "IPY_MODEL_5bd63a825bee4a70ae49d2b318ca2f8c",
        "IPY_MODEL_a92c4b0547d24a73be54f794a1240230",
        "IPY_MODEL_e3031e0579634f7baf3d894ddad3d1c9"
       ],
       "layout": "IPY_MODEL_674e101422d14ba0af9c1156e6fc9ebe"
      }
     },
     "5dd73db70a3c4b259c8a3baa15f8c57c": {
      "model_module": "@jupyter-widgets/base",
      "model_module_version": "1.2.0",
      "model_name": "LayoutModel",
      "state": {}
     },
     "5e19f443d9ab49d9b9c024ab7ae48932": {
      "model_module": "@jupyter-widgets/base",
      "model_module_version": "1.2.0",
      "model_name": "LayoutModel",
      "state": {
       "width": "auto"
      }
     },
     "5e2f4c4d66d143c3a65ecc02487966a2": {
      "model_module": "@jupyter-widgets/output",
      "model_module_version": "1.0.0",
      "model_name": "OutputModel",
      "state": {
       "layout": "IPY_MODEL_19a90daa8ef74b11a0ef1ff033dc87b8",
       "outputs": [
        {
         "data": {
          "image/png": "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\n",
          "text/plain": "<Figure size 720x720 with 1 Axes>"
         },
         "metadata": {
          "needs_background": "light"
         },
         "output_type": "display_data"
        }
       ]
      }
     },
     "5e65b077659942a996f6fe376f437091": {
      "model_module": "@jupyter-widgets/controls",
      "model_module_version": "1.5.0",
      "model_name": "ButtonStyleModel",
      "state": {}
     },
     "5e6e20f485ec4f4f9503c6d4dd33b5c6": {
      "model_module": "@jupyter-widgets/controls",
      "model_module_version": "1.5.0",
      "model_name": "DescriptionStyleModel",
      "state": {
       "description_width": "initial"
      }
     },
     "5e79af12ce0244fdacddd3fc9258e868": {
      "model_module": "@jupyter-widgets/controls",
      "model_module_version": "1.5.0",
      "model_name": "VBoxModel",
      "state": {
       "children": [
        "IPY_MODEL_158e2d90364e42759615db87ff037843",
        "IPY_MODEL_e249ada3f0a6433c83a33f2ea3a5a386",
        "IPY_MODEL_f1ac438f71e9411296c69a221f634e74",
        "IPY_MODEL_0f155854eb0c4955947bc7be2557a923",
        "IPY_MODEL_18234c275cd641c29a96fd3e7a93dab0"
       ],
       "layout": "IPY_MODEL_cf15ea0fecf944a084c5d8f0c03f49b6"
      }
     },
     "5e9b8d2797dd4200945ba02257c6ed3d": {
      "model_module": "@jupyter-widgets/controls",
      "model_module_version": "1.5.0",
      "model_name": "DropdownModel",
      "state": {
       "_options_labels": [
        "C:\\Users\\dominiquef\\Documents\\GIT\\mira\\mirageoscience-apps\\docs\\content\\applications",
        "C:\\Users\\dominiquef\\Documents\\GIT\\mira\\mirageoscience-apps\\docs\\content",
        "C:\\Users\\dominiquef\\Documents\\GIT\\mira\\mirageoscience-apps\\docs",
        "C:\\Users\\dominiquef\\Documents\\GIT\\mira\\mirageoscience-apps",
        "C:\\Users\\dominiquef\\Documents\\GIT\\mira",
        "C:\\Users\\dominiquef\\Documents\\GIT",
        "C:\\Users\\dominiquef\\Documents",
        "C:\\Users\\dominiquef",
        "C:\\Users",
        "C:\\",
        "D:\\",
        "Z:\\"
       ],
       "index": 0,
       "layout": "IPY_MODEL_5ae02b8d6b484a5e80aa825d9a84a88f",
       "style": "IPY_MODEL_1c6d4409825f42778821bd8fb0d88fb3"
      }
     },
     "5f02580db43e4dfa88f1f3cb18b991af": {
      "model_module": "@jupyter-widgets/controls",
      "model_module_version": "1.5.0",
      "model_name": "TextModel",
      "state": {
       "disabled": true,
       "layout": "IPY_MODEL_ee1da3e7b6094783b3df2de000669a43",
       "placeholder": "output filename",
       "style": "IPY_MODEL_6ea130fdd9d246c9ab6e58e05f6dc89b"
      }
     },
     "5f15f70063344b1e9bf6029fbd38e08e": {
      "model_module": "@jupyter-widgets/controls",
      "model_module_version": "1.5.0",
      "model_name": "DescriptionStyleModel",
      "state": {
       "description_width": ""
      }
     },
     "5f214da6e20d4e409a11931f91e6d286": {
      "model_module": "@jupyter-widgets/controls",
      "model_module_version": "1.5.0",
      "model_name": "FloatSliderModel",
      "state": {
       "continuous_update": false,
       "description": "Northing",
       "layout": "IPY_MODEL_93b3e415cbea43ffbe40f35fbac552a5",
       "max": 6076443.652111261,
       "min": 6065091.787108775,
       "orientation": "vertical",
       "step": 0.1,
       "style": "IPY_MODEL_fa27e2cf28884797b84ba9cec412e726",
       "value": 6070767.719610019
      }
     },
     "5f6555c718984e9cbc3e9050806b5d0b": {
      "model_module": "@jupyter-widgets/controls",
      "model_module_version": "1.5.0",
      "model_name": "VBoxModel",
      "state": {
       "children": [
        "IPY_MODEL_d4d1a061a12348d2bf94f0656432d015",
        "IPY_MODEL_d53d2ee36f864a6ea01dfb467b622371"
       ],
       "layout": "IPY_MODEL_9b395afc4dff4011be1a26491ceb2d88"
      }
     },
     "5fa89d8a3e804642a8bff08ee0201bb1": {
      "model_module": "@jupyter-widgets/base",
      "model_module_version": "1.2.0",
      "model_name": "LayoutModel",
      "state": {}
     },
     "5fefbd752c6a47dfb5bf91b99e168258": {
      "model_module": "@jupyter-widgets/base",
      "model_module_version": "1.2.0",
      "model_name": "LayoutModel",
      "state": {}
     },
     "60f39df7309e44d5bb39d73bf536c5a6": {
      "model_module": "@jupyter-widgets/controls",
      "model_module_version": "1.5.0",
      "model_name": "HBoxModel",
      "state": {
       "children": [
        "IPY_MODEL_928ce569977748e0921c1b5f33f1eb12",
        "IPY_MODEL_8dcadc30cad9473494bdc09ee85e4f95",
        "IPY_MODEL_62b9729d62de454695c098fff832ef58"
       ],
       "layout": "IPY_MODEL_531380ba97064622bf679ca71bc39873"
      }
     },
     "6126d107ca4447beb2a4b9cc9de87b05": {
      "model_module": "@jupyter-widgets/base",
      "model_module_version": "1.2.0",
      "model_name": "LayoutModel",
      "state": {}
     },
     "61aaf5475ece469f9e0ba0257d24e100": {
      "model_module": "@jupyter-widgets/controls",
      "model_module_version": "1.5.0",
      "model_name": "DescriptionStyleModel",
      "state": {
       "description_width": ""
      }
     },
     "6222c470d96a41d09ceb48be4219dd62": {
      "model_module": "@jupyter-widgets/controls",
      "model_module_version": "1.5.0",
      "model_name": "HTMLModel",
      "state": {
       "layout": "IPY_MODEL_bce2afb8af17485c81ead6c814813957",
       "style": "IPY_MODEL_0d4e2ae450084ba8ba9b169664b2b511"
      }
     },
     "6226e486969e4583bebdf109d7208a35": {
      "model_module": "@jupyter-widgets/controls",
      "model_module_version": "1.5.0",
      "model_name": "DescriptionStyleModel",
      "state": {
       "description_width": "initial"
      }
     },
     "6239dfc080524effaad93f244b083d98": {
      "model_module": "@jupyter-widgets/controls",
      "model_module_version": "1.5.0",
      "model_name": "VBoxModel",
      "state": {
       "children": [
        "IPY_MODEL_96194340481d43cf9e22d63934604590",
        "IPY_MODEL_ad8c53ccff0a4e2ca74b86b9ccea3860"
       ],
       "layout": "IPY_MODEL_4e5b06ce7bf9463b808ae0a15d827279"
      }
     },
     "629e9789c2cd446c805c40e8d04c3b98": {
      "model_module": "@jupyter-widgets/base",
      "model_module_version": "1.2.0",
      "model_name": "LayoutModel",
      "state": {
       "grid_area": "filename",
       "width": "auto"
      }
     },
     "62b9729d62de454695c098fff832ef58": {
      "model_module": "@jupyter-widgets/controls",
      "model_module_version": "1.5.0",
      "model_name": "HTMLModel",
      "state": {
       "layout": "IPY_MODEL_55bb9ccfae8244b7b7b976fb13499755",
       "placeholder": "",
       "style": "IPY_MODEL_e9ec3a3771e6411fa1f62e806b6f9574",
       "value": "<span style=\"margin-left:10px; color:black;\">No file selected</span>"
      }
     },
     "62d0afe982744d109fc34f45e1b7aba2": {
      "model_module": "@jupyter-widgets/base",
      "model_module_version": "1.2.0",
      "model_name": "LayoutModel",
      "state": {}
     },
     "62ee8d817ba3406293b4e2ff228f0dc2": {
      "model_module": "@jupyter-widgets/base",
      "model_module_version": "1.2.0",
      "model_name": "LayoutModel",
      "state": {
       "display": "none",
       "grid_gap": "0px 0px",
       "grid_template_areas": "\n                    'pathlist filename'\n                    'dircontent dircontent'\n                    ",
       "grid_template_columns": "60% 40%",
       "grid_template_rows": "auto auto",
       "width": "500px"
      }
     },
     "6302e35a3f094e7495253484f4c4dae6": {
      "model_module": "@jupyter-widgets/base",
      "model_module_version": "1.2.0",
      "model_name": "LayoutModel",
      "state": {
       "align_items": "center"
      }
     },
     "6319f6a6785042989a847fc277836987": {
      "model_module": "@jupyter-widgets/controls",
      "model_module_version": "1.5.0",
      "model_name": "LabelModel",
      "state": {
       "layout": "IPY_MODEL_b7e13ef8afd44784abca4d3060a7c788",
       "style": "IPY_MODEL_f3f9449ddbb24c9f89650106b1135f74",
       "value": "Data Count: 21362"
      }
     },
     "636f9128d6364a1da5ddb8b8674e89f2": {
      "model_module": "@jupyter-widgets/base",
      "model_module_version": "1.2.0",
      "model_name": "LayoutModel",
      "state": {}
     },
     "63bb97fa66554334b8a8ead585c0c2ba": {
      "model_module": "@jupyter-widgets/controls",
      "model_module_version": "1.5.0",
      "model_name": "DescriptionStyleModel",
      "state": {
       "description_width": "initial"
      }
     },
     "63f9ec10b8e0421583b5613db6fd8e29": {
      "model_module": "@jupyter-widgets/base",
      "model_module_version": "1.2.0",
      "model_name": "LayoutModel",
      "state": {
       "display": "none",
       "width": "auto"
      }
     },
     "64c9511d1b3d4700a9e726a49dfe07db": {
      "model_module": "@jupyter-widgets/controls",
      "model_module_version": "1.5.0",
      "model_name": "ButtonStyleModel",
      "state": {}
     },
     "650a060f66c147f2b74e0a2f74c20fd6": {
      "model_module": "@jupyter-widgets/base",
      "model_module_version": "1.2.0",
      "model_name": "LayoutModel",
      "state": {}
     },
     "655083cc471a4c8497993a699d18bf5c": {
      "model_module": "@jupyter-widgets/controls",
      "model_module_version": "1.5.0",
      "model_name": "DescriptionStyleModel",
      "state": {
       "description_width": ""
      }
     },
     "662908b96c1b456b912a2d4628f8682d": {
      "model_module": "@jupyter-widgets/controls",
      "model_module_version": "1.5.0",
      "model_name": "SelectModel",
      "state": {
       "_options_labels": [
        "..",
        "images"
       ],
       "index": null,
       "layout": "IPY_MODEL_4f3e0e0171b242f08ca37f7a6836acd5",
       "rows": 8,
       "style": "IPY_MODEL_13d6fff2ba6842a28239edcf820e025a"
      }
     },
     "6633f115fd5844ab99d1ae3728992d25": {
      "model_module": "@jupyter-widgets/base",
      "model_module_version": "1.2.0",
      "model_name": "LayoutModel",
      "state": {
       "display": "none"
      }
     },
     "668fdc8fa48e465ea29dacbc038ce816": {
      "model_module": "@jupyter-widgets/base",
      "model_module_version": "1.2.0",
      "model_name": "LayoutModel",
      "state": {
       "grid_area": "dircontent",
       "width": "auto"
      }
     },
     "6695490688f54fd0818a285b2b6a34c7": {
      "model_module": "@jupyter-widgets/base",
      "model_module_version": "1.2.0",
      "model_name": "LayoutModel",
      "state": {}
     },
     "67120df01ea54fea9d2a4b23d3c964b4": {
      "model_module": "@jupyter-widgets/base",
      "model_module_version": "1.2.0",
      "model_name": "LayoutModel",
      "state": {
       "grid_area": "dircontent",
       "width": "auto"
      }
     },
     "6747ca51c57f400eaf57731ae95aa458": {
      "model_module": "@jupyter-widgets/controls",
      "model_module_version": "1.5.0",
      "model_name": "LabelModel",
      "state": {
       "layout": "IPY_MODEL_469f0a8e95ad4764abf5c79018b0b4a6",
       "style": "IPY_MODEL_0dfcefad2a434ce2a0932f848449b3c4",
       "value": "Data Count: 21362"
      }
     },
     "674e101422d14ba0af9c1156e6fc9ebe": {
      "model_module": "@jupyter-widgets/base",
      "model_module_version": "1.2.0",
      "model_name": "LayoutModel",
      "state": {
       "width": "auto"
      }
     },
     "68c65e29b35e4158919e8dc7d8cea6d7": {
      "model_module": "@jupyter-widgets/controls",
      "model_module_version": "1.5.0",
      "model_name": "DescriptionStyleModel",
      "state": {
       "description_width": "initial"
      }
     },
     "692bf50b0eff4e7185a15e4d81f6890a": {
      "model_module": "@jupyter-widgets/controls",
      "model_module_version": "1.5.0",
      "model_name": "DescriptionStyleModel",
      "state": {
       "description_width": "initial"
      }
     },
     "69dd6a64c7a24996b6c60bd8623ad031": {
      "model_module": "@jupyter-widgets/controls",
      "model_module_version": "1.5.0",
      "model_name": "DropdownModel",
      "state": {
       "_options_labels": [
        "C:\\Users\\dominiquef\\Documents\\GIT\\mira\\mirageoscience-apps\\docs\\content\\applications",
        "C:\\Users\\dominiquef\\Documents\\GIT\\mira\\mirageoscience-apps\\docs\\content",
        "C:\\Users\\dominiquef\\Documents\\GIT\\mira\\mirageoscience-apps\\docs",
        "C:\\Users\\dominiquef\\Documents\\GIT\\mira\\mirageoscience-apps",
        "C:\\Users\\dominiquef\\Documents\\GIT\\mira",
        "C:\\Users\\dominiquef\\Documents\\GIT",
        "C:\\Users\\dominiquef\\Documents",
        "C:\\Users\\dominiquef",
        "C:\\Users",
        "C:\\",
        "D:\\",
        "Z:\\"
       ],
       "index": 0,
       "layout": "IPY_MODEL_ced8c13ba0844300b0761882db0a70af",
       "style": "IPY_MODEL_aa8bafad3ebc46cbb9ca511d47394049"
      }
     },
     "6a3271802fd9456393050f706cbe79c4": {
      "model_module": "@jupyter-widgets/base",
      "model_module_version": "1.2.0",
      "model_name": "LayoutModel",
      "state": {}
     },
     "6b4e671349b14e66bb93e41e67556f60": {
      "model_module": "@jupyter-widgets/base",
      "model_module_version": "1.2.0",
      "model_name": "LayoutModel",
      "state": {}
     },
     "6bd3217688a2499092671fb78fd601cd": {
      "model_module": "@jupyter-widgets/base",
      "model_module_version": "1.2.0",
      "model_name": "LayoutModel",
      "state": {}
     },
     "6be9c5bc4e354245920f314f12cb716f": {
      "model_module": "@jupyter-widgets/controls",
      "model_module_version": "1.5.0",
      "model_name": "DescriptionStyleModel",
      "state": {
       "description_width": ""
      }
     },
     "6cda0cea43d347e3a75d3f9641e502cb": {
      "model_module": "@jupyter-widgets/base",
      "model_module_version": "1.2.0",
      "model_name": "LayoutModel",
      "state": {
       "display": "none"
      }
     },
     "6d186b3cc3e84468be84630ebdf5ee17": {
      "model_module": "@jupyter-widgets/controls",
      "model_module_version": "1.5.0",
      "model_name": "DescriptionStyleModel",
      "state": {
       "description_width": ""
      }
     },
     "6d48c3ec5c2c41398a4735919f90298b": {
      "model_module": "@jupyter-widgets/base",
      "model_module_version": "1.2.0",
      "model_name": "LayoutModel",
      "state": {
       "display": "none"
      }
     },
     "6e16d08115b3406fbd7c851f82f77fd1": {
      "model_module": "@jupyter-widgets/base",
      "model_module_version": "1.2.0",
      "model_name": "LayoutModel",
      "state": {}
     },
     "6e30096664394c8993bc1f89d56b37a1": {
      "model_module": "@jupyter-widgets/base",
      "model_module_version": "1.2.0",
      "model_name": "LayoutModel",
      "state": {}
     },
     "6ea130fdd9d246c9ab6e58e05f6dc89b": {
      "model_module": "@jupyter-widgets/controls",
      "model_module_version": "1.5.0",
      "model_name": "DescriptionStyleModel",
      "state": {
       "description_width": ""
      }
     },
     "6eb93a37bfa842ba93a1e33d36ae0d91": {
      "model_module": "@jupyter-widgets/controls",
      "model_module_version": "1.5.0",
      "model_name": "ButtonModel",
      "state": {
       "description": "Select",
       "layout": "IPY_MODEL_229244cb6cc44fc88e444f5ac9608f71",
       "style": "IPY_MODEL_43858ebe2851468185fbf87883963007"
      }
     },
     "6f0a1734e3fe4bec84b729b355c3ca3a": {
      "model_module": "@jupyter-widgets/controls",
      "model_module_version": "1.5.0",
      "model_name": "VBoxModel",
      "state": {
       "children": [
        "IPY_MODEL_a278864c348341f8ab52acb2e0763e56",
        "IPY_MODEL_bf3be8d7e61c46fd93b1862d47c5c0d9"
       ],
       "layout": "IPY_MODEL_38951c11fc314b4ca1d58c89a14249b4"
      }
     },
     "6f54c1ad80e7423aaa677772407159a3": {
      "model_module": "@jupyter-widgets/controls",
      "model_module_version": "1.5.0",
      "model_name": "TextModel",
      "state": {
       "continuous_update": false,
       "description": "Group:",
       "layout": "IPY_MODEL_7674785ddbcb4ca29bd7e93478e400c0",
       "style": "IPY_MODEL_bce00987d372485a97dc9945bc5dc27e"
      }
     },
     "700f57bfa50b45c58fc939c9c3409eca": {
      "model_module": "@jupyter-widgets/base",
      "model_module_version": "1.2.0",
      "model_name": "LayoutModel",
      "state": {}
     },
     "703ba76ce42e4a318d83c902ec4ea5f2": {
      "model_module": "@jupyter-widgets/controls",
      "model_module_version": "1.5.0",
      "model_name": "ButtonModel",
      "state": {
       "description": "Create copy:",
       "layout": "IPY_MODEL_efa40568e57547528ac03186a0d8d911",
       "style": "IPY_MODEL_9509afba1e4a482e856880584ab638c7"
      }
     },
     "704d16c1bfd74c1090c3b2e70f460c12": {
      "model_module": "@jupyter-widgets/controls",
      "model_module_version": "1.5.0",
      "model_name": "SliderStyleModel",
      "state": {
       "description_width": ""
      }
     },
     "70c609bbc0a2466791fc64e173d34c4e": {
      "model_module": "@jupyter-widgets/base",
      "model_module_version": "1.2.0",
      "model_name": "LayoutModel",
      "state": {}
     },
     "719974bc4eb24c638e5f33d8a7b78fee": {
      "model_module": "@jupyter-widgets/controls",
      "model_module_version": "1.5.0",
      "model_name": "VBoxModel",
      "state": {
       "children": [
        "IPY_MODEL_5cfb4f16ff684a84b132012a9ab4d4f5",
        "IPY_MODEL_fb364652cb624aabafc1af9946b74542"
       ],
       "layout": "IPY_MODEL_4043cb64f5c34b51bc7d2a8fcaa3ed75"
      }
     },
     "71c2d64c36c24b34b645337dfb89d5b9": {
      "model_module": "@jupyter-widgets/base",
      "model_module_version": "1.2.0",
      "model_name": "LayoutModel",
      "state": {}
     },
     "71f1785087af4d08b72d5cd6a56512cd": {
      "model_module": "@jupyter-widgets/base",
      "model_module_version": "1.2.0",
      "model_name": "LayoutModel",
      "state": {
       "display": "none"
      }
     },
     "71f71f16ed634b38a07474c00c68a7a6": {
      "model_module": "@jupyter-widgets/controls",
      "model_module_version": "1.5.0",
      "model_name": "DescriptionStyleModel",
      "state": {
       "description_width": "initial"
      }
     },
     "721eb638b3cd44e5a2f6812ca4aa25b7": {
      "model_module": "@jupyter-widgets/base",
      "model_module_version": "1.2.0",
      "model_name": "LayoutModel",
      "state": {}
     },
     "728c984f34754be7be4ee0d4fad55144": {
      "model_module": "@jupyter-widgets/controls",
      "model_module_version": "1.5.0",
      "model_name": "ButtonModel",
      "state": {
       "description": "Create copy:",
       "layout": "IPY_MODEL_a2dcdad9c3954239abd5f8ceb382e53a",
       "style": "IPY_MODEL_b2f47b4d94e440babd3d184a3e3c5cda"
      }
     },
     "729ea20628b74885ae0e1b405c12ff54": {
      "model_module": "@jupyter-widgets/controls",
      "model_module_version": "1.5.0",
      "model_name": "DescriptionStyleModel",
      "state": {
       "description_width": "initial"
      }
     },
     "72fdaff0a68d48f1b9993fcda7ea6a10": {
      "model_module": "@jupyter-widgets/controls",
      "model_module_version": "1.5.0",
      "model_name": "ButtonModel",
      "state": {
       "description": "Select",
       "layout": "IPY_MODEL_df996a7cf0a54f08abf0ebc27b19f3f7",
       "style": "IPY_MODEL_ed23912dc632431cb45f4fd5a6361176"
      }
     },
     "735d392db7c6408386003a7fc04e10d4": {
      "model_module": "@jupyter-widgets/controls",
      "model_module_version": "1.5.0",
      "model_name": "DescriptionStyleModel",
      "state": {
       "description_width": ""
      }
     },
     "74e9cd33828c4aefa4532299e627c50d": {
      "model_module": "@jupyter-widgets/controls",
      "model_module_version": "1.5.0",
      "model_name": "DescriptionStyleModel",
      "state": {
       "description_width": ""
      }
     },
     "751464824a7b42c59eb18c54bcfe50de": {
      "model_module": "@jupyter-widgets/base",
      "model_module_version": "1.2.0",
      "model_name": "LayoutModel",
      "state": {}
     },
     "7541ca2b900e4d40bacf116225fe98d7": {
      "model_module": "@jupyter-widgets/controls",
      "model_module_version": "1.5.0",
      "model_name": "LabelModel",
      "state": {
       "layout": "IPY_MODEL_d69cd653b57440a68cb33a189903c5e0",
       "style": "IPY_MODEL_34c0c38645c84ffc98a648c00d2481f5",
       "value": "Workspace"
      }
     },
     "759abfc3fe4f4f10ae325ccac5f22f07": {
      "model_module": "@jupyter-widgets/base",
      "model_module_version": "1.2.0",
      "model_name": "LayoutModel",
      "state": {
       "grid_area": "pathlist",
       "width": "auto"
      }
     },
     "75a09b3ed32f4578bf966eb965d667c1": {
      "model_module": "@jupyter-widgets/base",
      "model_module_version": "1.2.0",
      "model_name": "LayoutModel",
      "state": {}
     },
     "7674785ddbcb4ca29bd7e93478e400c0": {
      "model_module": "@jupyter-widgets/base",
      "model_module_version": "1.2.0",
      "model_name": "LayoutModel",
      "state": {}
     },
     "769e7f0c9058492bb10ac12ef26195a1": {
      "model_module": "@jupyter-widgets/controls",
      "model_module_version": "1.5.0",
      "model_name": "HTMLModel",
      "state": {
       "layout": "IPY_MODEL_6cda0cea43d347e3a75d3f9641e502cb",
       "style": "IPY_MODEL_8d3dec01facd4888a1da2cac0293cb34"
      }
     },
     "77e093ec6d864795bad0612ef94f7e81": {
      "model_module": "@jupyter-widgets/base",
      "model_module_version": "1.2.0",
      "model_name": "LayoutModel",
      "state": {
       "display": "none",
       "grid_gap": "0px 0px",
       "grid_template_areas": "\n                    'pathlist pathlist'\n                    'dircontent dircontent'\n                    ",
       "grid_template_columns": "60% 40%",
       "grid_template_rows": "auto auto",
       "width": "500px"
      }
     },
     "77f8304abcbe416db259b0de7e3ee0c8": {
      "model_module": "@jupyter-widgets/base",
      "model_module_version": "1.2.0",
      "model_name": "LayoutModel",
      "state": {
       "width": "auto"
      }
     },
     "79573894ee544371bd059c48abd310a7": {
      "model_module": "@jupyter-widgets/controls",
      "model_module_version": "1.5.0",
      "model_name": "FloatSliderModel",
      "state": {
       "continuous_update": false,
       "description": "Azimuth",
       "layout": "IPY_MODEL_3d25366c070240798373ffc67f903a71",
       "max": 90,
       "min": -90,
       "step": 0.1,
       "style": "IPY_MODEL_fc8e8676051547e09e264766387ee69a"
      }
     },
     "7a1dfd3013d14a859ba5a0e595221cf4": {
      "model_module": "@jupyter-widgets/controls",
      "model_module_version": "1.5.0",
      "model_name": "DropdownModel",
      "state": {
       "_options_labels": [
        "",
        "--- Channels ---",
        "Airborne_Gxx",
        "Airborne_Gxy",
        "Airborne_Gxz",
        "Airborne_Gyy",
        "Airborne_Gyz",
        "Airborne_Gz",
        "Airborne_Gzz",
        "Airborne_TMI",
        "Ground_Gz",
        "Z"
       ],
       "description": "Data: ",
       "index": 9,
       "layout": "IPY_MODEL_255e7034888044b59541db51e8d85de9",
       "style": "IPY_MODEL_3844ad38bb8a4571a6275ccb6661eb60"
      }
     },
     "7aca5fdfbdf34cf58c77da59c88a2d3d": {
      "model_module": "@jupyter-widgets/base",
      "model_module_version": "1.2.0",
      "model_name": "LayoutModel",
      "state": {}
     },
     "7ad6c5ed819f433ea360154038c5fed5": {
      "model_module": "@jupyter-widgets/base",
      "model_module_version": "1.2.0",
      "model_name": "LayoutModel",
      "state": {
       "display": "none",
       "grid_gap": "0px 0px",
       "grid_template_areas": "\n                    'pathlist pathlist'\n                    'dircontent dircontent'\n                    ",
       "grid_template_columns": "60% 40%",
       "grid_template_rows": "auto auto",
       "width": "500px"
      }
     },
     "7b94203623034efd991bd9085a550ef8": {
      "model_module": "@jupyter-widgets/base",
      "model_module_version": "1.2.0",
      "model_name": "LayoutModel",
      "state": {}
     },
     "7c883656bd3a4c7d8fee64f5d23136e5": {
      "model_module": "@jupyter-widgets/controls",
      "model_module_version": "1.5.0",
      "model_name": "VBoxModel",
      "state": {
       "children": [
        "IPY_MODEL_ef87128e4c7c4114b9dd43f3f3458201",
        "IPY_MODEL_6f54c1ad80e7423aaa677772407159a3"
       ],
       "layout": "IPY_MODEL_e145f346dc044a6c9c37308915c0967f"
      }
     },
     "7c96d8aabe9c4cc4aff414536915fab8": {
      "model_module": "@jupyter-widgets/controls",
      "model_module_version": "1.5.0",
      "model_name": "DropdownModel",
      "state": {
       "_options_labels": [
        "C:\\Users\\dominiquef\\Documents\\GIT\\mira\\mirageoscience-apps\\assets",
        "C:\\Users\\dominiquef\\Documents\\GIT\\mira\\mirageoscience-apps",
        "C:\\Users\\dominiquef\\Documents\\GIT\\mira",
        "C:\\Users\\dominiquef\\Documents\\GIT",
        "C:\\Users\\dominiquef\\Documents",
        "C:\\Users\\dominiquef",
        "C:\\Users",
        "C:\\",
        "D:\\",
        "Z:\\"
       ],
       "index": 0,
       "layout": "IPY_MODEL_bf927d419a3d4a5596cf36157fbd78ab",
       "style": "IPY_MODEL_05dd5efadf484a7e94f3f7598363a584"
      }
     },
     "7d02e763f75646f2a970e15d82e56162": {
      "model_module": "@jupyter-widgets/base",
      "model_module_version": "1.2.0",
      "model_name": "LayoutModel",
      "state": {
       "display": "none",
       "width": "auto"
      }
     },
     "7d50fbf096024ee9be318c6810633a03": {
      "model_module": "@jupyter-widgets/controls",
      "model_module_version": "1.5.0",
      "model_name": "DescriptionStyleModel",
      "state": {
       "description_width": ""
      }
     },
     "7f3f20b6d3964d8b8e0ff96512feb624": {
      "model_module": "@jupyter-widgets/controls",
      "model_module_version": "1.5.0",
      "model_name": "VBoxModel",
      "state": {
       "children": [
        "IPY_MODEL_adb5137688614540a666a777e3d1a5ca",
        "IPY_MODEL_cb560a0230ab4c519a9c490f6c13b2c3",
        "IPY_MODEL_b884080281704c8396f5dbdcfcfbab2a"
       ],
       "layout": "IPY_MODEL_a12b5d49ea1e4f96bfa54443d1641b83"
      }
     },
     "7f87ce61243b4b70a08dde49c96c82d5": {
      "model_module": "@jupyter-widgets/controls",
      "model_module_version": "1.5.0",
      "model_name": "VBoxModel",
      "state": {
       "children": [
        "IPY_MODEL_0485b8ac5d1744108d8cfa8731fdf8dc",
        "IPY_MODEL_dd5c6f659b0b4af0bf968c600010ecaf",
        "IPY_MODEL_80b9caef5b7e4cbba5fedf7115d3326d"
       ],
       "layout": "IPY_MODEL_4fac87777d9245d4811daffcea764864"
      }
     },
     "7fa6c1ec5b9149738b4eb4c220c272b6": {
      "model_module": "@jupyter-widgets/controls",
      "model_module_version": "1.5.0",
      "model_name": "DescriptionStyleModel",
      "state": {
       "description_width": ""
      }
     },
     "7fc895a60db14df7b89acb1c038e3a77": {
      "model_module": "@jupyter-widgets/base",
      "model_module_version": "1.2.0",
      "model_name": "LayoutModel",
      "state": {}
     },
     "80b9caef5b7e4cbba5fedf7115d3326d": {
      "model_module": "@jupyter-widgets/controls",
      "model_module_version": "1.5.0",
      "model_name": "HBoxModel",
      "state": {
       "children": [
        "IPY_MODEL_80ea56713b69470685a6ee487cb34ce4",
        "IPY_MODEL_a78afef4b67145f2b23c4de97ca686a8",
        "IPY_MODEL_465cecb01ec84cadaa2226b9a1959985"
       ],
       "layout": "IPY_MODEL_36249877570d4bd7a9fd3dfa9168faa3"
      }
     },
     "80c8eac498f84d9da88b6b87f8354217": {
      "model_module": "@jupyter-widgets/base",
      "model_module_version": "1.2.0",
      "model_name": "LayoutModel",
      "state": {
       "display": "none"
      }
     },
     "80ea56713b69470685a6ee487cb34ce4": {
      "model_module": "@jupyter-widgets/controls",
      "model_module_version": "1.5.0",
      "model_name": "ButtonModel",
      "state": {
       "description": "Change",
       "layout": "IPY_MODEL_3de8ac6104c74ea0b41fb0468c9c5140",
       "style": "IPY_MODEL_48ea2e8d8536499da42b936703d5c5a8"
      }
     },
     "8110f0af12df4e4eba78ff6ec2a009df": {
      "model_module": "@jupyter-widgets/controls",
      "model_module_version": "1.5.0",
      "model_name": "FloatSliderModel",
      "state": {
       "continuous_update": false,
       "description": "Northing",
       "layout": "IPY_MODEL_934d94b6528644f1b8a30f6c97a4a8e8",
       "max": 6076443.652111261,
       "min": 6065091.787108775,
       "orientation": "vertical",
       "step": 0.1,
       "style": "IPY_MODEL_c15f37be7874402da2967c76637d4367",
       "value": 6070767.719610019
      }
     },
     "81157d1338754f6d9467432c3c036e55": {
      "model_module": "@jupyter-widgets/controls",
      "model_module_version": "1.5.0",
      "model_name": "SliderStyleModel",
      "state": {
       "description_width": ""
      }
     },
     "815a6db119e44e49abb2e42fbf6e5afd": {
      "model_module": "@jupyter-widgets/controls",
      "model_module_version": "1.5.0",
      "model_name": "DropdownModel",
      "state": {
       "_options_labels": [
        "C:\\Users\\dominiquef\\Documents\\GIT\\mira\\mirageoscience-apps\\docs\\content\\applications",
        "C:\\Users\\dominiquef\\Documents\\GIT\\mira\\mirageoscience-apps\\docs\\content",
        "C:\\Users\\dominiquef\\Documents\\GIT\\mira\\mirageoscience-apps\\docs",
        "C:\\Users\\dominiquef\\Documents\\GIT\\mira\\mirageoscience-apps",
        "C:\\Users\\dominiquef\\Documents\\GIT\\mira",
        "C:\\Users\\dominiquef\\Documents\\GIT",
        "C:\\Users\\dominiquef\\Documents",
        "C:\\Users\\dominiquef",
        "C:\\Users",
        "C:\\",
        "D:\\",
        "Z:\\"
       ],
       "index": 0,
       "layout": "IPY_MODEL_a988170b64fa4990b73ca4d4015cb966",
       "style": "IPY_MODEL_3cce1745968b4dba8fc6e5da5e191c88"
      }
     },
     "81dec2c3fe2345d08a48f2f0d0ec22fa": {
      "model_module": "@jupyter-widgets/base",
      "model_module_version": "1.2.0",
      "model_name": "LayoutModel",
      "state": {}
     },
     "829972865b054054969f040351078078": {
      "model_module": "@jupyter-widgets/base",
      "model_module_version": "1.2.0",
      "model_name": "LayoutModel",
      "state": {}
     },
     "830d8e9cd58d4493bb13a17af0afaa96": {
      "model_module": "@jupyter-widgets/base",
      "model_module_version": "1.2.0",
      "model_name": "LayoutModel",
      "state": {
       "grid_area": "pathlist",
       "width": "auto"
      }
     },
     "8317fb563a5d49cdaed5f58dcf99b06c": {
      "model_module": "@jupyter-widgets/base",
      "model_module_version": "1.2.0",
      "model_name": "LayoutModel",
      "state": {}
     },
     "8360c8f0dfd746819d82301c25d8dfa3": {
      "model_module": "@jupyter-widgets/controls",
      "model_module_version": "1.5.0",
      "model_name": "ButtonModel",
      "state": {
       "button_style": "danger",
       "description": "Compute",
       "icon": "check",
       "layout": "IPY_MODEL_5168c36d1e194d9298351e595231c70a",
       "style": "IPY_MODEL_ce8f9e02363e40b3ab491b6ebb8e6455",
       "tooltip": "Run computation"
      }
     },
     "8372afb4816e4ae280530aa81b73b65b": {
      "model_module": "@jupyter-widgets/base",
      "model_module_version": "1.2.0",
      "model_name": "LayoutModel",
      "state": {}
     },
     "83792c89722248248992c7ee3492182e": {
      "model_module": "@jupyter-widgets/controls",
      "model_module_version": "1.5.0",
      "model_name": "LabelModel",
      "state": {
       "layout": "IPY_MODEL_ea59f593c50146d38afeb3d3665fc2fb",
       "style": "IPY_MODEL_ed7b2d587fe64b948e28f7dc3714316c",
       "value": "Monitoring folder"
      }
     },
     "83b251345b994e09a60566e142bbc851": {
      "model_module": "@jupyter-widgets/base",
      "model_module_version": "1.2.0",
      "model_name": "LayoutModel",
      "state": {}
     },
     "83e338946cec4d618f85d8cfbbb0ba76": {
      "model_module": "@jupyter-widgets/controls",
      "model_module_version": "1.5.0",
      "model_name": "VBoxModel",
      "state": {
       "children": [
        "IPY_MODEL_15351c2dc9f1429ca8a3d542b5f3d2b0",
        "IPY_MODEL_84e120d98eba477cb6b226899486fa0d"
       ],
       "layout": "IPY_MODEL_7aca5fdfbdf34cf58c77da59c88a2d3d"
      }
     },
     "83f2485b1c6b4995b13e3f27fb0243a8": {
      "model_module": "@jupyter-widgets/base",
      "model_module_version": "1.2.0",
      "model_name": "LayoutModel",
      "state": {
       "grid_area": "filename",
       "width": "auto"
      }
     },
     "840ebd46781646668e2a86b7768631f2": {
      "model_module": "@jupyter-widgets/controls",
      "model_module_version": "1.5.0",
      "model_name": "TextModel",
      "state": {
       "continuous_update": false,
       "description": "Contours",
       "layout": "IPY_MODEL_04f009d6b21f4a90af5174d70a3a9f86",
       "style": "IPY_MODEL_d3e6d1da9cd5471fad18e4cb84fe2728"
      }
     },
     "845b76973bca4a078eb2c3a93da14631": {
      "model_module": "@jupyter-widgets/base",
      "model_module_version": "1.2.0",
      "model_name": "LayoutModel",
      "state": {}
     },
     "8478990d441442ef901038636c8609e7": {
      "model_module": "@jupyter-widgets/controls",
      "model_module_version": "1.5.0",
      "model_name": "ButtonStyleModel",
      "state": {}
     },
     "84b6831fd2f5450a9439f938c67ca28e": {
      "model_module": "@jupyter-widgets/base",
      "model_module_version": "1.2.0",
      "model_name": "LayoutModel",
      "state": {}
     },
     "84e120d98eba477cb6b226899486fa0d": {
      "model_module": "@jupyter-widgets/controls",
      "model_module_version": "1.5.0",
      "model_name": "HBoxModel",
      "state": {
       "children": [
        "IPY_MODEL_a11565466e6243f09d0c7af9b51bf61f",
        "IPY_MODEL_fc79af440c6644d38c060a53c38fd05b",
        "IPY_MODEL_cac2886a62584b2e823ae3939e51f893"
       ],
       "layout": "IPY_MODEL_6302e35a3f094e7495253484f4c4dae6"
      }
     },
     "851999b72a95428387d1f4ada8562663": {
      "model_module": "@jupyter-widgets/controls",
      "model_module_version": "1.5.0",
      "model_name": "ButtonModel",
      "state": {
       "button_style": "danger",
       "description": "Compute",
       "icon": "check",
       "layout": "IPY_MODEL_bd97de95ad2c40849176ec73400a4b5a",
       "style": "IPY_MODEL_448444bf943b4b44bff0dce2082b0f7c",
       "tooltip": "Run computation"
      }
     },
     "85439bfb02bf4c23bb61b5e623474aae": {
      "model_module": "@jupyter-widgets/base",
      "model_module_version": "1.2.0",
      "model_name": "LayoutModel",
      "state": {}
     },
     "854b5144b7d242fcbcd791672b7eb08a": {
      "model_module": "@jupyter-widgets/controls",
      "model_module_version": "1.5.0",
      "model_name": "DescriptionStyleModel",
      "state": {
       "description_width": "initial"
      }
     },
     "856096dc78f54997a6db5eab42e7d901": {
      "model_module": "@jupyter-widgets/base",
      "model_module_version": "1.2.0",
      "model_name": "LayoutModel",
      "state": {
       "grid_area": "dircontent",
       "width": "auto"
      }
     },
     "8572ac890011465d83f52f46071343c4": {
      "model_module": "@jupyter-widgets/controls",
      "model_module_version": "1.5.0",
      "model_name": "LabelModel",
      "state": {
       "layout": "IPY_MODEL_2f78ee25a53446fda261b952699b9fb7",
       "style": "IPY_MODEL_92b02aec42c946c3963233858c36c7c6",
       "value": "Workspace"
      }
     },
     "85e3972a0b2c4a99bab8d3922aa01832": {
      "model_module": "@jupyter-widgets/controls",
      "model_module_version": "1.5.0",
      "model_name": "DescriptionStyleModel",
      "state": {
       "description_width": ""
      }
     },
     "86434506b63245d99d39f5fa4f7f01cd": {
      "model_module": "@jupyter-widgets/base",
      "model_module_version": "1.2.0",
      "model_name": "LayoutModel",
      "state": {}
     },
     "86a7471f096948708f31e67362f9713d": {
      "model_module": "@jupyter-widgets/base",
      "model_module_version": "1.2.0",
      "model_name": "LayoutModel",
      "state": {
       "grid_area": "filename",
       "width": "auto"
      }
     },
     "86be8dd628f241eea740b40d255a7090": {
      "model_module": "@jupyter-widgets/controls",
      "model_module_version": "1.5.0",
      "model_name": "ButtonModel",
      "state": {
       "description": "Cancel",
       "layout": "IPY_MODEL_63f9ec10b8e0421583b5613db6fd8e29",
       "style": "IPY_MODEL_a0b257424f60475db8f920bd887f5171"
      }
     },
     "87497a1609c7489e8ff53401bdd3a339": {
      "model_module": "@jupyter-widgets/controls",
      "model_module_version": "1.5.0",
      "model_name": "VBoxModel",
      "state": {
       "children": [
        "IPY_MODEL_e1ae99c5ecef45d5bdf06e6ffd869846",
        "IPY_MODEL_90e52b3640d14c3b87d3ee0ea3dcedaa",
        "IPY_MODEL_4ebdce43c0664c8db36f2371f01a6fd9",
        "IPY_MODEL_d3085acd0d394db98afafae6d093792f",
        "IPY_MODEL_ac023a8586ca4fc89a5cc00319be6ea1"
       ],
       "layout": "IPY_MODEL_1d41021d84ce48a1901499bba8487484"
      }
     },
     "87549c8072024f8da0e47e7d429f2fa3": {
      "model_module": "@jupyter-widgets/base",
      "model_module_version": "1.2.0",
      "model_name": "LayoutModel",
      "state": {
       "width": "auto"
      }
     },
     "87ac0f2988a94e15a1c27365958a1df0": {
      "model_module": "@jupyter-widgets/controls",
      "model_module_version": "1.5.0",
      "model_name": "ToggleButtonModel",
      "state": {
       "description": "Zoom on selection",
       "icon": "check",
       "layout": "IPY_MODEL_0ef955f8295443cdb9a29bdc2e257348",
       "style": "IPY_MODEL_fcff0789d3c845a9a2ba882e5300ebfe",
       "tooltip": "Keep plot extent on selection",
       "value": true
      }
     },
     "8802404043c240a4b476ef7849a58077": {
      "model_module": "@jupyter-widgets/controls",
      "model_module_version": "1.5.0",
      "model_name": "DescriptionStyleModel",
      "state": {
       "description_width": "initial"
      }
     },
     "88244c646c9746b5a2acb844034fe4f4": {
      "model_module": "@jupyter-widgets/controls",
      "model_module_version": "1.5.0",
      "model_name": "DescriptionStyleModel",
      "state": {
       "description_width": ""
      }
     },
     "8838a1ae1e7d4deaa6fc54689047c5c1": {
      "model_module": "@jupyter-widgets/controls",
      "model_module_version": "1.5.0",
      "model_name": "ButtonStyleModel",
      "state": {}
     },
     "883d88ecf0cd4b92ae6fb5ae0661551f": {
      "model_module": "@jupyter-widgets/controls",
      "model_module_version": "1.5.0",
      "model_name": "HTMLModel",
      "state": {
       "layout": "IPY_MODEL_a40c2d3ce61944f3acb52fee24edd02b",
       "placeholder": "",
       "style": "IPY_MODEL_c4858a29b30c4cb4bdd8849ef721824e",
       "value": "<span style=\"margin-left:10px; color:orange;\">C:\\Users\\dominiquef\\Documents\\GIT\\mira\\mirageoscience-apps\\assets\\FlinFlon.geoh5</span>"
      }
     },
     "88c67ded7a2c4db8a23c846b9cb4ebfb": {
      "model_module": "@jupyter-widgets/controls",
      "model_module_version": "1.5.0",
      "model_name": "DescriptionStyleModel",
      "state": {
       "description_width": "initial"
      }
     },
     "89659d0dc074453abe2c6406c9df3650": {
      "model_module": "@jupyter-widgets/base",
      "model_module_version": "1.2.0",
      "model_name": "LayoutModel",
      "state": {}
     },
     "89a2d67814144cb4bc67493612d6dac8": {
      "model_module": "@jupyter-widgets/controls",
      "model_module_version": "1.5.0",
      "model_name": "VBoxModel",
      "state": {
       "children": [
        "IPY_MODEL_53d4f3dea14348b2bd09d7acb8fdb70d",
        "IPY_MODEL_4db57699089345418763ef1b29050074"
       ],
       "layout": "IPY_MODEL_85439bfb02bf4c23bb61b5e623474aae"
      }
     },
     "8a19a9113482465d8a46a2c2dee367ec": {
      "model_module": "@jupyter-widgets/base",
      "model_module_version": "1.2.0",
      "model_name": "LayoutModel",
      "state": {
       "width": "auto"
      }
     },
     "8a5a42f5ba564ca9a8bde91f313c863c": {
      "model_module": "@jupyter-widgets/controls",
      "model_module_version": "1.5.0",
      "model_name": "ButtonModel",
      "state": {
       "description": "Change",
       "layout": "IPY_MODEL_4cd3df868daa41868160a773ec1fe939",
       "style": "IPY_MODEL_cd95eeffe19047618309ac8974379abd"
      }
     },
     "8aeaa3d64a364782bc40120fe03771ed": {
      "model_module": "@jupyter-widgets/controls",
      "model_module_version": "1.5.0",
      "model_name": "FloatTextModel",
      "state": {
       "description": "Grid Resolution (m)",
       "layout": "IPY_MODEL_25ef267a08b94fda88b6ccad5e1372ed",
       "step": null,
       "style": "IPY_MODEL_68c65e29b35e4158919e8dc7d8cea6d7"
      }
     },
     "8b23ef9bd25f431e8291232be8dcc0ad": {
      "model_module": "@jupyter-widgets/controls",
      "model_module_version": "1.5.0",
      "model_name": "CheckboxModel",
      "state": {
       "description": "GA Pro - Live link",
       "disabled": false,
       "indent": false,
       "layout": "IPY_MODEL_eef31ded39eb4244959a7eb334ff3117",
       "style": "IPY_MODEL_d86a54a112b24c7fbbee790c5ed1e555",
       "value": false
      }
     },
     "8b7b6d27a2814dff90f27aca675c4208": {
      "model_module": "@jupyter-widgets/base",
      "model_module_version": "1.2.0",
      "model_name": "LayoutModel",
      "state": {}
     },
     "8c1ad73cf64348dcbaa195f0fe4feb8a": {
      "model_module": "@jupyter-widgets/base",
      "model_module_version": "1.2.0",
      "model_name": "LayoutModel",
      "state": {
       "grid_area": "dircontent",
       "width": "auto"
      }
     },
     "8c2a7adf9732447dbcc57218d6c99e95": {
      "model_module": "@jupyter-widgets/base",
      "model_module_version": "1.2.0",
      "model_name": "LayoutModel",
      "state": {}
     },
     "8c2e264b8acd409688af601e80ada5b7": {
      "model_module": "@jupyter-widgets/base",
      "model_module_version": "1.2.0",
      "model_name": "LayoutModel",
      "state": {}
     },
     "8c48467672da4fe0a5d25cd8122b8d01": {
      "model_module": "@jupyter-widgets/base",
      "model_module_version": "1.2.0",
      "model_name": "LayoutModel",
      "state": {}
     },
     "8c585b18edf448a0859828010503eb06": {
      "model_module": "@jupyter-widgets/controls",
      "model_module_version": "1.5.0",
      "model_name": "ButtonStyleModel",
      "state": {}
     },
     "8c92dba421674a20868320e4d5600d99": {
      "model_module": "@jupyter-widgets/controls",
      "model_module_version": "1.5.0",
      "model_name": "TextModel",
      "state": {
       "continuous_update": false,
       "description": "Contours",
       "layout": "IPY_MODEL_40d489a5fccc4dbe8998debccabc4f98",
       "style": "IPY_MODEL_49f7a2fbb50b4225a51855cc039ce474"
      }
     },
     "8cb0a9eb203940cbbe10d9ad14d27552": {
      "model_module": "@jupyter-widgets/controls",
      "model_module_version": "1.5.0",
      "model_name": "ButtonModel",
      "state": {
       "description": "Select",
       "layout": "IPY_MODEL_87549c8072024f8da0e47e7d429f2fa3",
       "style": "IPY_MODEL_c00e15a57ed14c49a0b8bfaab477ce78"
      }
     },
     "8cb94825a90f462aa8084f7c11ae7713": {
      "model_module": "@jupyter-widgets/controls",
      "model_module_version": "1.5.0",
      "model_name": "HBoxModel",
      "state": {
       "children": [
        "IPY_MODEL_2a9119e1777040459c5dceec5d8f6dba",
        "IPY_MODEL_230f4e1f16c747ddac6a6d8a634a3beb",
        "IPY_MODEL_87497a1609c7489e8ff53401bdd3a339"
       ],
       "layout": "IPY_MODEL_e6f100d5cf3f481a96c84fe3d95cb8b4"
      }
     },
     "8d3dec01facd4888a1da2cac0293cb34": {
      "model_module": "@jupyter-widgets/controls",
      "model_module_version": "1.5.0",
      "model_name": "DescriptionStyleModel",
      "state": {
       "description_width": ""
      }
     },
     "8d5c62f874454579ae016b02b716a471": {
      "model_module": "@jupyter-widgets/base",
      "model_module_version": "1.2.0",
      "model_name": "LayoutModel",
      "state": {}
     },
     "8d8ef33df37948abb5d7e7649b756116": {
      "model_module": "@jupyter-widgets/controls",
      "model_module_version": "1.5.0",
      "model_name": "LabelModel",
      "state": {
       "layout": "IPY_MODEL_03f4a1e5c389449497107d5354fbd021",
       "style": "IPY_MODEL_12eda96fe49a45e58d69e86bf654f592",
       "value": "Monitoring folder"
      }
     },
     "8dcadc30cad9473494bdc09ee85e4f95": {
      "model_module": "@jupyter-widgets/controls",
      "model_module_version": "1.5.0",
      "model_name": "ButtonModel",
      "state": {
       "description": "Cancel",
       "layout": "IPY_MODEL_90b1f3bcb0ff4fa48cfa61cdab334927",
       "style": "IPY_MODEL_5e65b077659942a996f6fe376f437091"
      }
     },
     "8e297780d4b745a4a7910cbb016f98ce": {
      "model_module": "@jupyter-widgets/controls",
      "model_module_version": "1.5.0",
      "model_name": "TextModel",
      "state": {
       "continuous_update": false,
       "description": "Group:",
       "layout": "IPY_MODEL_650a060f66c147f2b74e0a2f74c20fd6",
       "style": "IPY_MODEL_f43eca1265f14a288b5b605cba8088f1"
      }
     },
     "8e3ab335f2824752b5b6d77c458a4040": {
      "model_module": "@jupyter-widgets/controls",
      "model_module_version": "1.5.0",
      "model_name": "SliderStyleModel",
      "state": {
       "description_width": ""
      }
     },
     "8e8047bdc1334ee2aa92e379c9ce95f7": {
      "model_module": "@jupyter-widgets/controls",
      "model_module_version": "1.5.0",
      "model_name": "SliderStyleModel",
      "state": {
       "description_width": ""
      }
     },
     "8ec3206f44544f54b4ae738323bad6d4": {
      "model_module": "@jupyter-widgets/controls",
      "model_module_version": "1.5.0",
      "model_name": "ButtonStyleModel",
      "state": {}
     },
     "8fce37359599479a98dbc120bdb0624b": {
      "model_module": "@jupyter-widgets/controls",
      "model_module_version": "1.5.0",
      "model_name": "DescriptionStyleModel",
      "state": {
       "description_width": ""
      }
     },
     "8ff5010a1e0140dc93f4e2b0418ccc74": {
      "model_module": "@jupyter-widgets/base",
      "model_module_version": "1.2.0",
      "model_name": "LayoutModel",
      "state": {}
     },
     "90227a383a574b45a6ab2be8e0264193": {
      "model_module": "@jupyter-widgets/base",
      "model_module_version": "1.2.0",
      "model_name": "LayoutModel",
      "state": {}
     },
     "907ab834ed05463a90f8c31f9fbe48e7": {
      "model_module": "@jupyter-widgets/controls",
      "model_module_version": "1.5.0",
      "model_name": "SelectModel",
      "state": {
       "_options_labels": [
        "..",
        "Temp",
        "dask-worker-space",
        "Crossplot.html",
        "FlinFlon.geoh5",
        "FlinFlon_light.geoh5",
        "MtDore_TMI.geoh5"
       ],
       "index": 4,
       "layout": "IPY_MODEL_d7f50040182044dda8130a77570d9376",
       "rows": 8,
       "style": "IPY_MODEL_0b84f90dce9e4716a0311ba7d30e5261"
      }
     },
     "90b1f3bcb0ff4fa48cfa61cdab334927": {
      "model_module": "@jupyter-widgets/base",
      "model_module_version": "1.2.0",
      "model_name": "LayoutModel",
      "state": {
       "display": "none",
       "width": "auto"
      }
     },
     "90e52b3640d14c3b87d3ee0ea3dcedaa": {
      "model_module": "@jupyter-widgets/controls",
      "model_module_version": "1.5.0",
      "model_name": "FloatSliderModel",
      "state": {
       "continuous_update": false,
       "description": "Easting",
       "layout": "IPY_MODEL_20de34a304fe410aab434d200eda1d7c",
       "max": 319234.2051362576,
       "min": 311898.69919769425,
       "step": 0.1,
       "style": "IPY_MODEL_1b0bb6a40d524a1099fc65027fcc5411",
       "value": 315566.45216697594
      }
     },
     "914e875898a9402c96cac95a6641241a": {
      "model_module": "@jupyter-widgets/base",
      "model_module_version": "1.2.0",
      "model_name": "LayoutModel",
      "state": {
       "grid_area": "pathlist",
       "width": "auto"
      }
     },
     "915c1e1e469047798f68cd30239004b1": {
      "model_module": "@jupyter-widgets/base",
      "model_module_version": "1.2.0",
      "model_name": "LayoutModel",
      "state": {}
     },
     "916779494f784f698ce7233a53ceb42b": {
      "model_module": "@jupyter-widgets/base",
      "model_module_version": "1.2.0",
      "model_name": "LayoutModel",
      "state": {}
     },
     "917b27ff1ff24ae7a81ec3e27e5bef4c": {
      "model_module": "@jupyter-widgets/controls",
      "model_module_version": "1.5.0",
      "model_name": "CheckboxModel",
      "state": {
       "description": "GA Pro - Live link",
       "disabled": false,
       "indent": false,
       "layout": "IPY_MODEL_8317fb563a5d49cdaed5f58dcf99b06c",
       "style": "IPY_MODEL_1da2eb96565d4235b6be76b9cd08025a",
       "value": false
      }
     },
     "91cfc6d65b8a4f598e0323e71063dbd7": {
      "model_module": "@jupyter-widgets/controls",
      "model_module_version": "1.5.0",
      "model_name": "HBoxModel",
      "state": {
       "children": [
        "IPY_MODEL_05f109d16bf24417b5149f845bfb2b03",
        "IPY_MODEL_86be8dd628f241eea740b40d255a7090",
        "IPY_MODEL_c80124a9cba449428dee91f72faec323"
       ],
       "layout": "IPY_MODEL_dc4414eb72d94e259c0c3ddbe565f8c4"
      }
     },
     "928ce569977748e0921c1b5f33f1eb12": {
      "model_module": "@jupyter-widgets/controls",
      "model_module_version": "1.5.0",
      "model_name": "ButtonModel",
      "state": {
       "description": "Select",
       "layout": "IPY_MODEL_5c690773c63f45c486d077a3106e90d5",
       "style": "IPY_MODEL_cc025c3082cd4ecabe1bb1b1589e760e"
      }
     },
     "92b02aec42c946c3963233858c36c7c6": {
      "model_module": "@jupyter-widgets/controls",
      "model_module_version": "1.5.0",
      "model_name": "DescriptionStyleModel",
      "state": {
       "description_width": "initial"
      }
     },
     "934d94b6528644f1b8a30f6c97a4a8e8": {
      "model_module": "@jupyter-widgets/base",
      "model_module_version": "1.2.0",
      "model_name": "LayoutModel",
      "state": {}
     },
     "93b3e415cbea43ffbe40f35fbac552a5": {
      "model_module": "@jupyter-widgets/base",
      "model_module_version": "1.2.0",
      "model_name": "LayoutModel",
      "state": {}
     },
     "9509afba1e4a482e856880584ab638c7": {
      "model_module": "@jupyter-widgets/controls",
      "model_module_version": "1.5.0",
      "model_name": "ButtonStyleModel",
      "state": {}
     },
     "95d25410d3d64948be30cacf67b5c660": {
      "model_module": "@jupyter-widgets/base",
      "model_module_version": "1.2.0",
      "model_name": "LayoutModel",
      "state": {
       "display": "none",
       "width": "auto"
      }
     },
     "96194340481d43cf9e22d63934604590": {
      "model_module": "@jupyter-widgets/controls",
      "model_module_version": "1.5.0",
      "model_name": "VBoxModel",
      "state": {
       "children": [
        "IPY_MODEL_1b3dcec330ed46eb982f5cf5870c1cde",
        "IPY_MODEL_0d671004921845689b9b0ba6c3075698"
       ],
       "layout": "IPY_MODEL_21afddee94b2455bbab4e0104431230e"
      }
     },
     "963d2c5e9fed4e49beb8dd6c55ce5703": {
      "model_module": "@jupyter-widgets/controls",
      "model_module_version": "1.5.0",
      "model_name": "FloatSliderModel",
      "state": {
       "continuous_update": false,
       "description": "Width",
       "layout": "IPY_MODEL_cf4c09aea8e0450a976e1462bec06c79",
       "max": 7335.505938563321,
       "step": 0.1,
       "style": "IPY_MODEL_8e8047bdc1334ee2aa92e379c9ce95f7",
       "value": 3667.7529692816606
      }
     },
     "981aa695e13045f1bcf5c07be4657b43": {
      "model_module": "@jupyter-widgets/controls",
      "model_module_version": "1.5.0",
      "model_name": "ButtonModel",
      "state": {
       "description": "Cancel",
       "layout": "IPY_MODEL_d1579166614542a68548ad8e15fdc8b8",
       "style": "IPY_MODEL_0325d3bd6f144e0194f851aed11ed0d1"
      }
     },
     "983d296bca6447ca8c88487387a516a3": {
      "model_module": "@jupyter-widgets/base",
      "model_module_version": "1.2.0",
      "model_name": "LayoutModel",
      "state": {}
     },
     "984de7051e9c4dc9b26561e0e5b67905": {
      "model_module": "@jupyter-widgets/base",
      "model_module_version": "1.2.0",
      "model_name": "LayoutModel",
      "state": {
       "grid_area": "dircontent",
       "width": "auto"
      }
     },
     "9961feec85194b529d3c53c0697621cf": {
      "model_module": "@jupyter-widgets/controls",
      "model_module_version": "1.5.0",
      "model_name": "LabelModel",
      "state": {
       "layout": "IPY_MODEL_8d5c62f874454579ae016b02b716a471",
       "style": "IPY_MODEL_0f5d8e0983f64a29a56d4dfd28a42838",
       "value": "Workspace"
      }
     },
     "99a0535770f041e5918ff072076e576e": {
      "model_module": "@jupyter-widgets/base",
      "model_module_version": "1.2.0",
      "model_name": "LayoutModel",
      "state": {}
     },
     "99a3dc0e8d424824a68bcab4382320f0": {
      "model_module": "@jupyter-widgets/controls",
      "model_module_version": "1.5.0",
      "model_name": "DescriptionStyleModel",
      "state": {
       "description_width": "initial"
      }
     },
     "99f48ab1b12c44c1a4d5915c53959ce9": {
      "model_module": "@jupyter-widgets/controls",
      "model_module_version": "1.5.0",
      "model_name": "DescriptionStyleModel",
      "state": {
       "description_width": ""
      }
     },
     "9a562a908a2d4604bf505ab7d2d91e55": {
      "model_module": "@jupyter-widgets/controls",
      "model_module_version": "1.5.0",
      "model_name": "VBoxModel",
      "state": {
       "children": [
        "IPY_MODEL_9961feec85194b529d3c53c0697621cf",
        "IPY_MODEL_a2563998ecef4f479b727657e631276d"
       ],
       "layout": "IPY_MODEL_89659d0dc074453abe2c6406c9df3650"
      }
     },
     "9a5df2e46cd14b3c9c68094fcc0c3e68": {
      "model_module": "@jupyter-widgets/controls",
      "model_module_version": "1.5.0",
      "model_name": "ButtonModel",
      "state": {
       "button_style": "danger",
       "description": "Compute",
       "icon": "check",
       "layout": "IPY_MODEL_90227a383a574b45a6ab2be8e0264193",
       "style": "IPY_MODEL_8838a1ae1e7d4deaa6fc54689047c5c1",
       "tooltip": "Run computation"
      }
     },
     "9a883ed89fe044288114df6d37a1c434": {
      "model_module": "@jupyter-widgets/controls",
      "model_module_version": "1.5.0",
      "model_name": "DescriptionStyleModel",
      "state": {
       "description_width": ""
      }
     },
     "9a93f970380f48d7924ccdb644a98fe4": {
      "model_module": "@jupyter-widgets/controls",
      "model_module_version": "1.5.0",
      "model_name": "DescriptionStyleModel",
      "state": {
       "description_width": ""
      }
     },
     "9aca8e5723ed4e80a1efd701fbac9b8b": {
      "model_module": "@jupyter-widgets/base",
      "model_module_version": "1.2.0",
      "model_name": "LayoutModel",
      "state": {}
     },
     "9af5f99f239c4f8b8e119de3ba8bb391": {
      "model_module": "@jupyter-widgets/controls",
      "model_module_version": "1.5.0",
      "model_name": "DescriptionStyleModel",
      "state": {
       "description_width": ""
      }
     },
     "9b395afc4dff4011be1a26491ceb2d88": {
      "model_module": "@jupyter-widgets/base",
      "model_module_version": "1.2.0",
      "model_name": "LayoutModel",
      "state": {}
     },
     "9d0247222fe446778318dc3dd7f114fe": {
      "model_module": "@jupyter-widgets/controls",
      "model_module_version": "1.5.0",
      "model_name": "DescriptionStyleModel",
      "state": {
       "description_width": ""
      }
     },
     "9d183345c274426fb284b28b25ce0a3d": {
      "model_module": "@jupyter-widgets/base",
      "model_module_version": "1.2.0",
      "model_name": "LayoutModel",
      "state": {}
     },
     "9d286d20f3534f69be97268835c7a75c": {
      "model_module": "@jupyter-widgets/controls",
      "model_module_version": "1.5.0",
      "model_name": "SelectModel",
      "state": {
       "_options_labels": [
        "..",
        "images"
       ],
       "index": null,
       "layout": "IPY_MODEL_67120df01ea54fea9d2a4b23d3c964b4",
       "rows": 8,
       "style": "IPY_MODEL_2a77f06ecc524962806cd843149f6f31"
      }
     },
     "9d2a15aadea048c8a5e153a1c8c4f1de": {
      "model_module": "@jupyter-widgets/controls",
      "model_module_version": "1.5.0",
      "model_name": "DescriptionStyleModel",
      "state": {
       "description_width": ""
      }
     },
     "9d666606ecf34a17aff61ea8d6024e6d": {
      "model_module": "@jupyter-widgets/controls",
      "model_module_version": "1.5.0",
      "model_name": "DescriptionStyleModel",
      "state": {
       "description_width": ""
      }
     },
     "9e08fd17b397461b959b72ae53a1d272": {
      "model_module": "@jupyter-widgets/controls",
      "model_module_version": "1.5.0",
      "model_name": "VBoxModel",
      "state": {
       "children": [
        "IPY_MODEL_8d8ef33df37948abb5d7e7649b756116",
        "IPY_MODEL_7f3f20b6d3964d8b8e0ff96512feb624"
       ],
       "layout": "IPY_MODEL_9e8886a27c974a7abfdd445957f20f0c"
      }
     },
     "9e2ef7cd7b644839a967a4fc4bee3b6b": {
      "model_module": "@jupyter-widgets/base",
      "model_module_version": "1.2.0",
      "model_name": "LayoutModel",
      "state": {}
     },
     "9e8886a27c974a7abfdd445957f20f0c": {
      "model_module": "@jupyter-widgets/base",
      "model_module_version": "1.2.0",
      "model_name": "LayoutModel",
      "state": {}
     },
     "9e913b7954224eec8a33c54630545740": {
      "model_module": "@jupyter-widgets/controls",
      "model_module_version": "1.5.0",
      "model_name": "DropdownModel",
      "state": {
       "_options_labels": [
        "C:\\Users\\dominiquef\\Documents\\GIT\\mira\\mirageoscience-apps\\docs\\content\\applications",
        "C:\\Users\\dominiquef\\Documents\\GIT\\mira\\mirageoscience-apps\\docs\\content",
        "C:\\Users\\dominiquef\\Documents\\GIT\\mira\\mirageoscience-apps\\docs",
        "C:\\Users\\dominiquef\\Documents\\GIT\\mira\\mirageoscience-apps",
        "C:\\Users\\dominiquef\\Documents\\GIT\\mira",
        "C:\\Users\\dominiquef\\Documents\\GIT",
        "C:\\Users\\dominiquef\\Documents",
        "C:\\Users\\dominiquef",
        "C:\\Users",
        "C:\\",
        "D:\\",
        "Z:\\"
       ],
       "index": 0,
       "layout": "IPY_MODEL_47fd1b152f7b42c6bd3548f393680a05",
       "style": "IPY_MODEL_3a73e6a273af43cbaf9b79b348fdac42"
      }
     },
     "9ec466b93260493689bee7dcf9d050e8": {
      "model_module": "@jupyter-widgets/base",
      "model_module_version": "1.2.0",
      "model_name": "LayoutModel",
      "state": {}
     },
     "9f0cf833bfeb4f01b234adab71fe0ee3": {
      "model_module": "@jupyter-widgets/controls",
      "model_module_version": "1.5.0",
      "model_name": "FloatSliderModel",
      "state": {
       "continuous_update": false,
       "description": "Width",
       "layout": "IPY_MODEL_273a20f867d1457e8a325802cdc57cbd",
       "max": 7335.505938563321,
       "step": 0.1,
       "style": "IPY_MODEL_edeb4d925524466e949a3a26d652ba3f",
       "value": 3667.7529692816606
      }
     },
     "9f0f660b92974b0cb09dc23526e4eb89": {
      "model_module": "@jupyter-widgets/controls",
      "model_module_version": "1.5.0",
      "model_name": "TextModel",
      "state": {
       "layout": "IPY_MODEL_86a7471f096948708f31e67362f9713d",
       "placeholder": "output filename",
       "style": "IPY_MODEL_7d50fbf096024ee9be318c6810633a03",
       "value": "FlinFlon.geoh5"
      }
     },
     "a05db40189e8414899da752c9bf3aca9": {
      "model_module": "@jupyter-widgets/base",
      "model_module_version": "1.2.0",
      "model_name": "LayoutModel",
      "state": {
       "width": "auto"
      }
     },
     "a09cc3a604524ee0ade457935491a507": {
      "model_module": "@jupyter-widgets/controls",
      "model_module_version": "1.5.0",
      "model_name": "FloatSliderModel",
      "state": {
       "continuous_update": false,
       "description": "Azimuth",
       "layout": "IPY_MODEL_14354f1b4d3c4c99bd33c11c45cf9dcb",
       "max": 90,
       "min": -90,
       "step": 0.1,
       "style": "IPY_MODEL_ddac3a6d8ea34c12890ebfe46257475f"
      }
     },
     "a0b257424f60475db8f920bd887f5171": {
      "model_module": "@jupyter-widgets/controls",
      "model_module_version": "1.5.0",
      "model_name": "ButtonStyleModel",
      "state": {}
     },
     "a1097af786214106b8e009285649cbe4": {
      "model_module": "@jupyter-widgets/controls",
      "model_module_version": "1.5.0",
      "model_name": "HTMLModel",
      "state": {
       "layout": "IPY_MODEL_55da41d40e094c27898b139fcb4bfd79",
       "style": "IPY_MODEL_9d2a15aadea048c8a5e153a1c8c4f1de"
      }
     },
     "a11565466e6243f09d0c7af9b51bf61f": {
      "model_module": "@jupyter-widgets/controls",
      "model_module_version": "1.5.0",
      "model_name": "FloatSliderModel",
      "state": {
       "continuous_update": false,
       "description": "Northing",
       "layout": "IPY_MODEL_03dc180bab094a3faaddb16888ac0c4d",
       "max": 6076443.652111261,
       "min": 6065091.787108775,
       "orientation": "vertical",
       "step": 0.1,
       "style": "IPY_MODEL_4f1cb2fa016f453bbcfab3fdb857dfe5",
       "value": 6070767.719610019
      }
     },
     "a125a4e73b264150bd7ad00d2bcfb4a8": {
      "model_module": "@jupyter-widgets/base",
      "model_module_version": "1.2.0",
      "model_name": "LayoutModel",
      "state": {}
     },
     "a12b5d49ea1e4f96bfa54443d1641b83": {
      "model_module": "@jupyter-widgets/base",
      "model_module_version": "1.2.0",
      "model_name": "LayoutModel",
      "state": {
       "width": "auto"
      }
     },
     "a16069c4cb394b4a84cfa9827d9d7500": {
      "model_module": "@jupyter-widgets/controls",
      "model_module_version": "1.5.0",
      "model_name": "ButtonStyleModel",
      "state": {}
     },
     "a1a0ddf6fc6743cc96b4b65e79a416f5": {
      "model_module": "@jupyter-widgets/base",
      "model_module_version": "1.2.0",
      "model_name": "LayoutModel",
      "state": {}
     },
     "a2235960847a47eb9968191866edf65b": {
      "model_module": "@jupyter-widgets/controls",
      "model_module_version": "1.5.0",
      "model_name": "DescriptionStyleModel",
      "state": {
       "description_width": ""
      }
     },
     "a232f147971649238c4362af925ba777": {
      "model_module": "@jupyter-widgets/base",
      "model_module_version": "1.2.0",
      "model_name": "LayoutModel",
      "state": {
       "display": "none",
       "grid_gap": "0px 0px",
       "grid_template_areas": "\n                    'pathlist filename'\n                    'dircontent dircontent'\n                    ",
       "grid_template_columns": "60% 40%",
       "grid_template_rows": "auto auto",
       "width": "500px"
      }
     },
     "a2563998ecef4f479b727657e631276d": {
      "model_module": "@jupyter-widgets/controls",
      "model_module_version": "1.5.0",
      "model_name": "HBoxModel",
      "state": {
       "children": [
        "IPY_MODEL_7f87ce61243b4b70a08dde49c96c82d5",
        "IPY_MODEL_703ba76ce42e4a318d83c902ec4ea5f2"
       ],
       "layout": "IPY_MODEL_3dd3ee74bdcf43f8a9e15f77dfe2c32e"
      }
     },
     "a25adb8198dd4b9887f738f74778a6d3": {
      "model_module": "@jupyter-widgets/base",
      "model_module_version": "1.2.0",
      "model_name": "LayoutModel",
      "state": {
       "align_items": "center"
      }
     },
     "a278864c348341f8ab52acb2e0763e56": {
      "model_module": "@jupyter-widgets/controls",
      "model_module_version": "1.5.0",
      "model_name": "LabelModel",
      "state": {
       "layout": "IPY_MODEL_8372afb4816e4ae280530aa81b73b65b",
       "style": "IPY_MODEL_692bf50b0eff4e7185a15e4d81f6890a",
       "value": "Monitoring folder"
      }
     },
     "a2da442cff524caa8a7f37e9f5a06150": {
      "model_module": "@jupyter-widgets/controls",
      "model_module_version": "1.5.0",
      "model_name": "DescriptionStyleModel",
      "state": {
       "description_width": "initial"
      }
     },
     "a2dcdad9c3954239abd5f8ceb382e53a": {
      "model_module": "@jupyter-widgets/base",
      "model_module_version": "1.2.0",
      "model_name": "LayoutModel",
      "state": {}
     },
     "a330be184e4e486bb516a93d8947be75": {
      "model_module": "@jupyter-widgets/controls",
      "model_module_version": "1.5.0",
      "model_name": "DescriptionStyleModel",
      "state": {
       "description_width": ""
      }
     },
     "a3867ce991d0463fa8ba3bd3afe8aa72": {
      "model_module": "@jupyter-widgets/controls",
      "model_module_version": "1.5.0",
      "model_name": "SelectModel",
      "state": {
       "_options_labels": [
        "..",
        "Temp",
        "dask-worker-space",
        "Crossplot.html",
        "FlinFlon.geoh5",
        "FlinFlon_light.geoh5",
        "MtDore_TMI.geoh5"
       ],
       "index": 4,
       "layout": "IPY_MODEL_668fdc8fa48e465ea29dacbc038ce816",
       "rows": 8,
       "style": "IPY_MODEL_9a883ed89fe044288114df6d37a1c434"
      }
     },
     "a3ede07018444d84982f6b2e1c51286e": {
      "model_module": "@jupyter-widgets/controls",
      "model_module_version": "1.5.0",
      "model_name": "HTMLModel",
      "state": {
       "layout": "IPY_MODEL_cd19aeaad1fd4dfabc303e8b4b8467d4",
       "style": "IPY_MODEL_5c035154fa064de8a2add1d861091112"
      }
     },
     "a408c3d2c6d6468f99acb4a54e323de5": {
      "model_module": "@jupyter-widgets/controls",
      "model_module_version": "1.5.0",
      "model_name": "SelectModel",
      "state": {
       "_options_labels": [
        "..",
        "images"
       ],
       "index": null,
       "layout": "IPY_MODEL_856096dc78f54997a6db5eab42e7d901",
       "rows": 8,
       "style": "IPY_MODEL_47745845254f4ac4a2d2afe04a62b21f"
      }
     },
     "a40c2d3ce61944f3acb52fee24edd02b": {
      "model_module": "@jupyter-widgets/base",
      "model_module_version": "1.2.0",
      "model_name": "LayoutModel",
      "state": {}
     },
     "a4141039119842d4a8c9bb462a2dfb22": {
      "model_module": "@jupyter-widgets/base",
      "model_module_version": "1.2.0",
      "model_name": "LayoutModel",
      "state": {}
     },
     "a4204f42822e4e949fc18dd6de704d6e": {
      "model_module": "@jupyter-widgets/base",
      "model_module_version": "1.2.0",
      "model_name": "LayoutModel",
      "state": {
       "grid_area": "dircontent",
       "width": "auto"
      }
     },
     "a461e917a6a74fdca0495eadf99c426d": {
      "model_module": "@jupyter-widgets/output",
      "model_module_version": "1.0.0",
      "model_name": "OutputModel",
      "state": {
       "layout": "IPY_MODEL_84b6831fd2f5450a9439f938c67ca28e",
       "outputs": [
        {
         "data": {
          "image/png": "iVBORw0KGgoAAAANSUhEUgAAAZ8AAAJeCAYAAABrvggYAAAABHNCSVQICAgIfAhkiAAAAAlwSFlzAAALEgAACxIB0t1+/AAAADh0RVh0U29mdHdhcmUAbWF0cGxvdGxpYiB2ZXJzaW9uMy4yLjEsIGh0dHA6Ly9tYXRwbG90bGliLm9yZy+j8jraAAAgAElEQVR4nOy9f7gmV1Xn+12BIHa6GyW3D2r748j0idp96ZlgsHW8IwF17MZxrtMYmJlH5wkGea7XoXF0JDpw55m5OEzijzuQ4I+LBlqHAaWlr4CQdq4/uoURDySGBLr90Q2cCPFCHxRMdwclhH3/qKrzrrdO7dq7qvauWnvX+jxPPadOvfVW1fu+Vfu719prrU3GGCiKoijKmFw19QUoiqIo80PFR1EURRkdFR9FURRldFR8FEVRlNFR8VEURVFGR8VHURRFGR0VH0VRFGV0VHwURVGU0VHxURRFUUZnNPEhoj8f61yKoiiKbChGeR0iugSgOjCVf3cAeASAMcbsDn5SRVEUJRliWT7HAfwmgDVjzC5jzC4Af1Guq/AoiqLMnCjiY4x5MYBXA3gTER0joquwsIQURVGUmRNtzMcYcy+Abyv/PQPgibHOpSiKoqRFlDGfbSch+lIA1xtj3hn9ZIqiKIp4Hh/rwET0JACHAexF4XL7SyL6ImPMp2OdU1EURUmDKG43IvpXAP4YwI0ootyuAfAsAPeWrymKoigzJlao9Z8BOFS3cojoiwGsG2OuC35SRVEUJRliBRwQmqPbPo9F3o+iKIoyU2KN+fwnAH9MRP8dwEfLbV8J4NsBvCLSORVFUZREiBbtVrrYvgNFwAEB+BiA3zbGfCrKCRVFUZRkGCvUejeANQAfVvFRFEVRYkW7vYGI/qdy/TsAnAVwO4D3E9FNMc6pKIqipEOsaLcPGGOeVq7/IYB/aYzZKAXpd40xfz/4SRVFUZRkiBXtdlXpagOKCLe/AABjzCcRMbFVURRFSYNYQvAfAfw+Ef0cgP8B4AQRvRXAswGcinRORVEUJRFiRrvtA/ADAK5DIXIfA/CbxpjfjnJCRVEUJRlGiXZTFEVRFE4UtxsREYCbUFQ5+A0U7rb/FcCfAvhFY8znLe97EYAXlf9+/RfsBK7mOzS+C0sjV4+xzY+y9c/hcey/J7D1cntdg231GRTZjDYxvIMx75WxP3PsGiURj78z3qGz4TOf+Qwee+yxTxpj9sQ8T6xot58HsIKilX8YwBcAeDuA5wD4hDHmJa5jPHEXmZ+6BBzjG8+ydf61rCxW72abn4N97L+9bP32xerFQ80XsFn7/5z9WhVh7J/6AmrY7p36dTbtt7/l/U3HGIOoTVLJinuXPqifx82NN96IM2fO3GuMuSHmeWIFHPwjY8zTiOhqAB8H8KXGmM8S0RsB3Nf7qB43/VvY+i24gLu2BOghLARoHVuytgLgYu0gdeFRlCHUBcQlGL6CMpXIbmIcAQKKZ3OoELHnmwCYSMKmdCOW+HwOAIwxjxLR+4wxny3//xwRPdb+1mXuALN+moQCxba7yxvquVgWoAV7ARx1n1CFR4mBj1D4iNLUFviYosPXVTCyI5a3+ONEtBMAjDGHq41E9CUAPhvsLCtsaeAuAIXo7G3eoQnbwyXNlaPYmbqBDs1+LO4/fh+O+Tn3YDzhiQw1dWCV0YkiPsaYI8aYyw0vXQLwTwYd3CI4R2q73bW1doZtPVn+PYTC9caOqSipsB/LghSbTERHkUWsaLeDxpgH6tuNMVcAXPE5xtXYCaDQrzuwLC5rDfvfDZu7raJyuXkGGCh5cA5qteZA3fXGrZemzqNaN+KJNeZzHxF9BMCbALzJGBPFQXAewAXnXtfDOtbDb9A9sAtQbm6cOXCutq4ClD4+guIpOnRRAw+mJtaYzwMAvrs8/tuI6H4i+nEiWh164AsoROd8+T8Ppn5u+Xfhcru+/Huc7bWOwvo5pO42RWkjlXGei2xRkiGW+BhjzAeNMS8zxlRldlYAvKuscu3kMq7gJUxa7sTCymmydt5SLnc1vFZwiC3K7FDr1Y89SEd0lKSJ5XZbylE2xrwXwHuJ6EcBfEuXA7W51e4s/z5i3eNmy/bK+qlhc71JCHFVFCUo6nqblliWz083bTQFZ5pe86GqXnAey5UMdrD1WwAU7rbrsd3dVnFIzfQ5co4tSjMaeKOMRBTLxxjzxlDHuhP78GJc2LJuzlv2u2tp9MeGw+XW9uCp9ZMXGoTQjLrblJGIFWr9JAA/gSLooLqdLwJ4K4DbjDGf7nI8m1vNJkTLcMFh7rZ6tQTt8SlzZqaio6636YjldnszgE8BuNEYc60x5loAzyq3nfA5wE5cs7XOrZoHULjc7q7tf3hpdGg3ivGem7HsbmOoy01RNLhAmYxYAQerxpjb+QZjzMcB3E5E39/ngDyK7XDD66dwPQrRaePQMNFR11teSHO9VSKgVvioqPUzDbEsnweJ6KVE9JRqAxE9hYhuBfBR/8PsYkszp3B9KTx1eCkd9td2k2nvT5kSvf+UmRHL8nk+gB8HcKYUIAPgEwDeBuB5vgcx+GMQnl7+dz2q2RgKsblUbr+EhTg9jML6WTK6lBSYqmCmNOtnTFTwlAmJJT7XAXilMeZWItqBQogqFfGeUoGWxmt2A40WDudmWCPaQo3xqOttXHwmXMuBsVxtKjiNqOttfGK53V6HRQHRV6EwTW5DEbj2ep8DXN7SqN1oH8vZi0WAAbA9wMCjlM4m1M8+NfXJ1lxVm+dqrTThIygaWKAII5blc5Ux5nPl+g3GmMrqeTcRvb/boW4HcGu5vhsL11qbIGkJnWyJIToput7qQtJUnUPFRhFMLMvng0T0gnL9fiK6AQCI6DoAj/Y75NFysYnOgNptXR/S1BoqyQyZm4ZPsDan36TtftXabL3RSebGJZbl80IAryailwP4JID3ENFHUUS6vbD74dqmv24KLqjVbnPdVOpym46hVsecRMeFCo6SELHK6/wNgJuJaBeAp5bn+Zgx5hO+x9iJx2ExFSqfefQogrnVhojOXAbCU2LIb5KS620TKjRK8sSyfAAAxphLAO4PczQfwekoSm0TyCnjMEaDrxGKiica9TYeUcVnOHUxaSqVo8EFyRJbeFKxZBRlhogWH4PaxEBbeAjO2OM82ruWjc/vo643BWr9jIVo8dkuPA7R0WgVpQ+pCI6iZESsUOvBXHbvUqDzt6eLFEtRynUoyowQbfm0IlFs1PUmm9wiFDWpNBrqeouPWMunkZBWjj6oMkhdABRF6YVYy2cnStebRAunjjagaZLbWI8GIYRjE+31IJXByLZ8UhAeIL9GTFHmyCaWigzT2SkvJn9ki08stIq1LNRyVKZE24NJECs+l83UV6AoCaKNaFDU+omHWPFJDnW9KYqieDM/8dGeoTxUuBVldsxDfGoDidHQRrQ7+p2FQ+fx6YZnm6CutzjkLz5q6SiK0oQK9aTkJz713ozeYLLRSDdFmSVixWdncznrZsZyq/mgbiRlKiTc/ynQo71Q11t4xFY4cOK6cfRBTIeUpjJQ0kTbA3GItXwALeynKEog1P0uDrGWz2VTVJZNCh2/UKZCG9fo0FnAHJj6KvJBtOWjzAgV7u1o6LSSMemKjz6USq70ER0d07ATMBhJAw/Cka74SEQHzZWhNInOntqiKBmg4qPIQV1v3VFRcqPfjUjEik9rno+UnJ4m1PpRYqOCMynqeguD2Gi3JNGeu9IXFRJlZoi1fJJDhScM+j0qMVBxF4do8bEmmUq8kdTdpijyiFR6S11vwxErPpcBdCnvpmSEWj+Kkj1ixceJROtHUbqigQNx0e9WLPLFJ6X6bup6U5TZoK63YcgXH2WezMX1JjVlQFEiI1d8DICL5WJDTWpFMj73p97D8Yn4Hav10x+xeT47qQg6SI79mE+vXdmOCo481LoUiVzLR1FSEnFb4MCe2usqPOOiwiMW0eLjNZmcPszKlPgIit6jWaOut36IFp9k0ag3RVGUVsSKjyaZKgDku97UrSMbtTrFIlZ8tkjV9abWT/7oGI5Soq637sgXH0WRaP2o6CjKIPIRH20MlDFRd5t8JM/7pcgVn538n5RK7HDU9aYMZYUtimjU9dYNsUmmirLEOcgQ8zEsbBUaZQaItXw6o+a1Mgax7jMfC0etoG5M4IpX68cfseKzrbRO2wMnWXj2s78Seu6KHIaIiQqQkjhixScrVHTCIDHqrQlfC0ZRZkxaYz4raK5yvQeyrR9OXYhSaVCVdjeOS0xUbMZnojaBzgLmwDTnTgm1fKSg1lG62IQl9hjNCvur4rZMKp3RGaPiMzU6FtQNiZZi25xTsVHRURJFrPjstL1ge9hySDJVEZJLCvfXCjQirmLi30uj3tykNeajKMD4OT+2hmy0Bn69/HtorBOmi7rbkiEv8Ukp8EBJn4uIKEDr7l1c8Gub0jU4JtoGJINw8VnHUm9vDg+QRsPJYxMju3FswlPf3sESskWKKtHQqLd2xI75XMZjU1+CIpmsRVnda0r+iBWf3qQwMNwFDUKQgc2VM6k1sc4WRWIVaw08sJOA+LAHa+4RPErmDBGTdfbX8n59fhRBJCA+6oLYQq2gZbJzvQ291ye2gARaHopcBIvP49D4MKY6rfYQeCKqCtB0iHS9dSSG9SNBdKY+fwvqemtGbLTbTjRUtnYh+AYMCheg7Hr/ShhqkaKhaXvW+GsxO4Jzed4zRbDlo3gxd0soO/EV7GbeRHcrp6tA+OwvwdJSBiNafIzthZxL7CiyCeV689o/khD1cb0Naex9RMv39URFR11v2xHrdps1XEQTfdhGZYxyOz4dGy4otga+s+gcQvdAAodoTTlGxRN2bfd2tY/e+1kjVnwu4zFQbL+1JIZYbfuxcD/xdWU6eOkdW2Nf7VO9brVI+DNgE6LIghNSDHxda0rWiBWfBRYBymFiOcAtOvXXbZ9t7mM/selTYsenwR8kCp4dsyHnSOlZEo6W21kmAfGZKSush3uxoZFJTWRjM4brLXYUV10kGi2hETwBel8pIyA64KA3qQYerKwvlvr2igPri89n+5xqBcUnxwY64QH9VNDAgwVixWcnHsf+y7hcyCbY5F+2Xu2tzaJUsQfpCq5i5yJb2l53HUNRBKJut6lwisWt7mO0ie8cp2YYe5K5MfEJYIDn64oiALGWjzdj5fycwwgNeGXZNAnPrYu/KzcuPjf//Gr9jMsm+ztGjoqPFaTCIx51vRWItnwMDpXh1kD0ciFNxBSbbdFTbbkcZ8q/HtaQMi5tuSpd3juk46DRbEqCiBafyWgTnVCunT1wjFmdaXsRwB2L1RUAF48tjtvUoMwl/2dK19uQ/JV6YmVsK1ZFR5kYsW63y3gUxBtYAJ0DD7o8wOcwjmuNBwcs9Vgrq67NujnDlpc075JDEMZciS0IiZeoyQl1vSVh+Qxwt/k+ZF0Fh/euu/a0G5MV28Z6gBez9Tttx1XRWZBD4EH93u1rCanQKEJJQHx60PWB6+OSCmYhNVtzL27cuswteAnuwjPL/04COF2sHgBwFttraM3F9ZY7rrEiFRwlAcS63ZZZt6wzJER9+TbsvHFYql5wO4CHADyEO7Gv8a1/DuCWcrGzrpFvuRGiMrQiirm73sRaPjtxdffJ5KbiXG29s8unvWrxPgBHnMd42HkcAPOwflJ3uXVBxSY9tGMIIBnLpwddf+CxG6wVtljYVy4AcDfbXo0MHQTwapxBITwA8IPs+EyI5nSzz0l4lPSoPYs047wsseJzGZ9BMY5R0dH11pWxrIEq2m3ppjvG1l8M4AKAC43xbGvlcjDW9SmKEg+1VLcQKz6jESO8OoKQHUEhOs3cxxYLvMeVs3WQu0tRUTIhb/HxcTcJbogPo3C3VeM959lrx7Cwgt659K5vXKzaCpEqiiKGubreEhAfT9ebtLpWth74UqQbf6FyvZ0E8Ewcth3Xq4bXOlsURRGFut4AJCE+kRHlpjnp3sXC4aWFjRatsCoRfBZFwRbfYET9poqiNJG4+LCefZ8SO+IaqdNba6e2kkeXwxHOs8955OIiIq5eiGjBSWdUnaIo0zJH15tY8dmJL2T/2VxvwunsegvDXgDFd9bfklIUJSLqepMrPkFwZXwn5Hq6wJYm1lAEJ+wt/79lqSr2jYtVdb0piiKARMXHEniQqmtpyfo5vbV2Cq/GKQCnADyH7XE3+5xrF9tCsIEiAfXh1j2UGbIHOv26MObmehMrPkWSKSdRF5KP620bR8ulmfPWV4rk02rxEh21fuaDCo4sZu56Eys+Sp19OI+F8NzBrTwWfn2M9Z5evZR0+vTFKne9cXIWormigpMUc7J+EhOfkyjm9qnP72Nxvbki3abuGTtzfgDg1agqvL3EUul6MPuhwpMrPr3r3IVJsgDP2PoRW9V6GbsLagvJPYaAk5vZAg46c2B9eTqHXOf8yWFiOaU7EoVGWSIxy6fOITRbQh4k2iDxeX6OWQIs7K63NWjlAyVbfCycPZ77xablGubiehMrPn55Pi2Rbm1h1lO43HqX2wH85jVtpoiEu1QuyiyxPQc+E9SlREqfI6VrjYRY8emMb28hJ5dSC1XRUQB455Kz7nsXq7Y5fxK1CkUjxQ2Um+AoyRJFfIjoIFu/moheTkRvI6JXEtEO/yMdhSvs2Fpk0/awJ9Ww1q2fXQB24U5cv9jDYvEdaZyity1NNUMkBFJw10rTPTmW+2cugtP1M0rpFNSYg+stluVznK3fhiJc62cBfCGAX/Q9iFlqfOuUYz1N4x5SH7QJyu0sZkOdkehMjWtMYejrcLympIHENmpEYkW7EVv/VgDPMMY8SkR/AOB+/4Pw8R3PoIK2cZ6ZceQscL7M6flzANdtvfKNKEK4UbjeLpYivwd5Rb2NGenmKwZtgmPbvunYR1ESJJbl8yQi+mdE9FwAX2CMeRQAjDEGgPE5wGU8Vq45otnqlkL9AZWQz9MVa+DBL2ytWV1vLQ0Un3ZBCUhsUZg6Mis1pLvePKPtcne9xbJ8zgD4p+X6HxHRU4wxnyCiLwHwyeGHL8UoxR/H1hvfRMvN2COUvGSNf0e22ncrtfVqvEitH9lwq0hJh9ZnfT5EER9jzAss2z+Owg03AEtDPPOH8NgKcEclNHuwEI1NbDW+d18EjpRCcwtegru25gw6CV7QVFGSh7cHtoY+gTaDLgIm1YLJDqKFWhPRtxDR15Tr/wsR/Vsi+s7hR+5RSicVrIEHXHCbXW++7MVi2oWs2Y/40W7qDksDm8jobzcpUSwfInoVgG8A8Hgi+m0U1s7dAP4NEd1ojPkx1zF24nG4bHvRx90m2V00tiuIP3zWXtSN2LJ+DmDZ9caR/L1ycna3cdT15oePJTQm6nqLZvl8O4BvRtGi/WsA32aMeQWAI+XSgwGldDLGGniwH8CVctlYbP7lUlQOAnj10oRzQhnDglHmRWJinWvgQSzxMWVk2+er/8u/n+92Tovg+JTSkd5Ydc75aXa9dWazmutHMKkITmKNmMKQmgs4I2KJzzuI6F0A3gXglwG8mYhehsL19ge+B7HGZKfudqs4h/FCwdnDduz0YnNh/VSznQqf88dHlFIRrhBoA5omOlYIIJL4GGNuBfBSAC8ux3d+GMDfoRCi/933OFTfYCulw0kxr8cbd+DBkuvtGWz9yvKR1rBc/62Rqar/+vx++2vrQwRnzE6AovQgR9dbtPl8jDHvYesfAvAzXd7fGGywgu3i0+RuS7ER4QPkfDDyIlqCBGLgUVVCync8xLqxXX/XQAUdOFa6ovcMgAmqWhPRB4IdTF0O3WDWz5HTi/V34j4spl3wqHodizFcZmrhKFOiLrctYoVa28pQE4Av6X3gNtMztwbFav0cwsI6+QUAPwigcL29uJw47tgKcEe1+3cCeEfE6wxhBcUen4l9b1S/1Vg12LTTlSYD74vcEk5jud1+HcB/Q3PMwBN9DrATNdebbdoELYS5xSPBLoSxwqbbrn/fYOupf/ecPr/DHARhLrlTsVB32xKxxOcBAD9jjPlg/QUi+rbBR5/Dgz6QF6KI7gBQWD+nt+9z5DRw943F+jtxAc/ZmqL7ewG8odsJeaMkTYjGFsfYCY1jJpZK+y2npPotJ2x/crJ+Yo35/DCK2N0m/lmvI85lBkb+sHfM+bmrR7md6OzHvMKf62xa1occL/Yz0Bb9N0cx8plbyed1tXqWiFVY9F0tr93jc4wtlxsvlqlz9Qyn5Xu0Wj911xun6Vg+IjOWEPW9N0K6mIaKhVo549NnIj/bs6XutkZiFhb9DiK6hYhWa9u/v+U9LyKie4joHjz6aKxLy5Bm6+eF5d+7UbrXGqZz5lFvozBXC6hik/1tE5WxLP0+OU65ilQiFkouOT9RxIeIXgngZQCeBuB3iejF7OV/bXufMea1xpgbjDE34Oqr/U+YW2PW2fXWzEMohMdKAg/apMRqZG2CIllwckefg9GJZfl8F4BnG2N+GMDXAzhCRP+lfG1b4QInrgcyRKivhB55oOt4qFy2cYAt3Po5u1h/Jy6wN1hyflKaymLq39TF2GOZKjhx2VNb1w6elVji83hjzOcAwBjzaRRitJuITgB4gtcRDOKX0mlq6OshxKJpDjw4xVxvdwA4Xy53sL3rtdvOs6WZ9UJ02iJt9CGTRyyxOWdZT5WQ4j+C4OTgeosVav0hInqmMeYMABhjHgNwCxH9JIDndj6abSCvTwitpMHwOj5TbHuW2znF1m1zWJy3FQ9dYt29S723l1NEYoq5LfVngn+GkGHnOYiOMhmxLJ+bALy3vtEY83IAX+FzgJ3dnXN2pLjVorObLc3czRbuYOMCdQsuANhVLsfZK8x2SinXYMjvnto901azTsd5FEHEEp81Y8xnml4wxjQOR3TC50HyERwf01hK4+MVeHA7W3/m1tpLUGT9PgDgLZbD3832UZBGZ0WKmEj/njIldddbLPG5j4guENEriKj3rWlsA9s+R2x7KCUPAgZtTPaxZTvcCvLHw/qR+t12QUKjbqNNdMYWghyER3J7kDGxxOcBAN9dHv9tRHQ/Ef14PeenjcumVPaxooHabr4MsvTvYgL0HCwEh7veDm7tC6AsUlpwPN6FjYX0380ldq6qA+pW60YmkWgpWz8xp9H+oDHmZcaYfQB+AEU/+V1E9IdBzjBEDOq1txqSL0XS2fW2l63vwl2ohGU7lcvN9vrsGEOsXIKRgqBIvrY2cgqKSZRY4rMULmCMea8x5kcAfCWAn+h0pK7jMi5RSqG3E+yBPopF4EAz5+E7znOcrXPXGwvBtrlJpXzfLkEZcz6hlAVHUQIQS3x+ummjKTgT5Yw+wQU+jWBKQQhWbkchPABwM9te5f/sw53Yt5XTwyNAbilfL5ZLLedYhzMMOwWhr5hScPh+KZJizk8q96UHqbreYhUWfWOM4/Ym5o0Wq1x/55wfPslcE1X4dXPwQXR3W275Pz6k0hCHIKXPmpHwpEys2m5PIqLbiOhPieivyuVPym1f5HOMpTwfiTcLt7TEW0LNeT+n2LIMD0O4hEXu0Em2fb15XXr+j+23Ctl4qttMUZzEcru9GcCnANxojLnWGHMtgGeV205EOmc4phQ7nzErK4cs63xW871YjAPZ5v9pto4UxQsV3tFJ0fUWS3xWjTG3G2M+Xm0wxnzcGHM7iqCDcXCNOfj00scWIld+Up2gN509J8iNh/Uj0YKNgXhLeKakNAY5A2KJz4NE9FIiekq1gYieQkS3Avio70GsSaZDcRXIrM7X5ZzJNjjXo110dmF5Ulqb6y0hYv1WGqmmKN7EEp/nA7gWwBki+hQR/TWA0wCeDOB5PgfYSjIFwieZcmthhf0d2mMPEarb573WnB+b6+1mj4O2h2hnRcLJw2JRAR6d1FxvscTnOgCvNMZ8LYpBhtcA+FD52mORztkfKYPkrgZwkAAfQiFAR1v22YXuotMx8GBPbckJFTDZzC3aUjixxOd1AK6U669C0ZrdBuARAK+PdM4Cn4atj9h0bSjFlOQ5hOZZT28u/+7GIgihiaYq2SebdkyDJreY9tLjIOV7zbWz00BK1k+s+XyuqiaTA3CDMebp5fq7iej9Uc7oe2O5hGcF9kF8fo6+vaiheUE8z4ezLeeHs862c0vFPvWCG/c03l7klv8TK+9L6Y/tmVEmJZbl80EiekG5fj8R3QAARHQdgEd9DrCT4B7rSalH05YXNLl1BPjMBVRQue5swQYJ5fxwVDDiot+vUiOW5fNCAK8mopcD+CSA9xDRR1FEur1w0JHHEJp6o9lkCdWvo2vvfVSx4RYPX6+P/1TutN1YRLg9jGEWkjDUMhmXeumdyTtZ+UMXa5HCQolVXudvANxMRLsAPLU8z8eMMZ/ofdChopPAj+GNl+ttKCMKzpSutxiNoQpcO9V3M6YQqetNHLHcbgAAY8wlY8z9xph7+wiPOcD+6dM4NVVbVgLS5HqrjQVJ/O55o6ciMS4+1bz1N5kFsdxuedEWhFAhfuDc5nqru+GaItnawrPr5xDMGI2aNpz+6HcVjRRcb2LF5/LnATo78CCd3VDraG1Aq2PFjIbzZbDrzSUULsHpIDRZiLcyKlyYQrnn1PUmiqhut+BEaZzW4TU3TddeRLI3uSsRtQ3h5XbGqGithOcc+6u/VTakJT6+OMd62gRnvbaP4/gSTVurlWGzVoS7yxRFRacz0hNO0xAf33weLzHw6Z0L78FXDC6343q9jyi1CLaLqazFEG4d7ZWPx9Ak7aZ1ZXTEjvnsvAq4XP0j3VdrywuqxjGqaxdxs3e1fupVEXxESzD1MGjNO5kfIp7DcZAceJCG5ROUro3jQCsotmjaHiQvk9v3uzgEtyXkeL3tejYRvnK5DbVOFM6MhEgaYi2fy5/v+IYg7rbIZBnR5SFgEiLdVHTyQqslJI9Y8dnCx3JoDSwIQf04jgbXJ7RYDHW3WqbYqg4MacRU0JQEkOp6y9ztFnP8wSM8eyzaXG98seJyq40wjiN5TK+OBhfIYuhvsYlxXb8KgBQsH59gg6A1zXwYIDpJud4GBhekYv35WD+5iA1P3D5g3SsNtGhp0sgWH5/Q6smxVEWQ6HrzEmlX1JvwaLY2+hT8zEF0fFz7nTsAACAASURBVCqF5CRKQ6l3DlOyyi1IdL3JFR8aegAhLrHYjPpgJCw8c6Or4NS3z12AmpCe8pEYYsd8dvqIjzTLoo6tpzGXG9i3pzWmr71riZ3UXDln4Sc8ORLLStWxoCjItXySIiF31BjjY9I7Bb6k4nKbq9hMQWX9VGKUUEdSmutNrOXjTec6ZpkhpUfmFVVnQeIDnIrwxCJVQRvjd5PyzCVO+uIjho41zaZucPsKRdMxhhxnCpdGkyutvi0ld5uOzyieSCo2KlZ8Lpupr6ArCVlaFy3rXd4f4iaW0oNMSWiaSNVKyQEp93CC5DHm0ziOMVa0W896ZpLg12mz1GJ8Fok5Tym522KLTqpRb5rzkwRiLZ9hjBlmPTDhdAg+00x0pW4VhbJypMEbp1SrXKcoDDmSWIUEKa63PCyfuRIr70DIzRmdlIRGUTIjH8tnqcEUMv7iM9vp1IEHUyPx86soLUh1PCkl9+lMESs+XkmmYvBwvYWMr/ed2TUFEnBTiEZdb3bOYZoisAnc0xJcb2LFZ5b4ikkCN7eTRPzjCtK1fjhqCYlDtPh0zsaV6HrjtOX87GHrTa/lYOUA6YiOut4UJSqixaezaThp6YiAEXa5CY4SF3W9ySOBDtbUrjex4tMpydQ6qH+I/RVoCXUlB1FK+dolc4AtMcjN9aZuuMnJI9S6tVimMNGROM/PWCTQGwSQfsN0AHmIRQxi/7aJda6mLDYq1vJJk3X2t8UN5xOCnRupCI+iDEHvc2/yER8va2IMK2jA2E/OYpRYj1BpIDdrKnULN3HEik9aeT42PPN/5mYFSSeHSLcD7K8GJIxHgp2sqQIPxIrP7MlFjBKqeZUdMUUnlxlTQ1o/CQrPlOQlPlFdbyNFzHErKGUBUsGRRSghykV0lMkRHe1mVmKbhIfQ7hoLITb14/c4ZiVCc42Sm4L90DEBH7gQzd29F6vQ7whMEfUmWnzicai2vm55zfVeoH+AwbrHuZC29aOExzYVhARSnf9nKIkKztSIFZ/LpqfV05rzY2PMXKD12vohy2sN11T/XDEsIe4qm/tDJcX6CRUAUReGubvPhnyvc382AiBWfNJhqCU05sR3LTSNz9TdCC5hymWMR4LgcGwzc9a39bnuSpDmLkRdSdjFZmNs15uKj1g8XIFDLSEfsXDtk4rgVA1FKtc7BjFcZCm53nS67UkRG+02KM9nsoH5WFZM3VUngFSi2frUwku1QRpy3akIRij2I93fOSJj5vzka/nwL3EUUzK2KEQ4/h6kISBdaROb1D5zig1kk/VTufUkiNzUYz0avQogZ/Hh9ApCkIwlUm7ORUsz878Pompcu44BhS5IKnUcqY+7bej9lVX7EwaxbrfLQNgf7CJbbK+LYAS3Wm5VB7o2DD77p2hxAMvXPeVnkCo8kliByPJaZx4d5zzzsHxs1AVnkIXkSlhtY+RxnNRcTy5iRB5Ji3hLndTdbRlGt03NPMXHZeVUr0fvjdhEp3KrVa83Rbup660zPoIrRXSmslpCut4kCA4Q5rscQ3jGyOMThFi32xZjm6aj/uBtya0RraFcrJ6uM7vm7G6zkdvnGZuhMwcLc6lJQr74TIm3EDkmjxubtps9B+FJfSpxH6RYYEPIYdynz/MicBxHIum53bJxK3URK1sdOM/6cDkQQmzaGpIcGnvOkM8TyvUmxe2WKtm0dc2IFZ+dKCPekmBIsIFiJaR14+rBSqnjFoo+n0fHehYMufeyS+2IQ75ut1Cmr/ieh0X06p87pdDqObjVfEhVDFN2t4W490K0OW1pIZkg1vJpxccc5b0PkearT0HSmbjUABUbTqggga7WT+gk06nxTSYNWbUgBCLbq/CIFZ/gLjd+c0T5YUO53gYKTko37RiCk1J4dYUWvBzOWN+futd6I1Z8gmDzvXbtWbT6cEON9QwRHRZ4YPtsEhNLYyXuSfuc0olh7UxV3bqP6PS5D1MQneo5EOpVSE98QvTsU7IOWpmRWy4muQUbADLcbWNPsZ2DtTi0bUqo45VvwEGdoYN41vclJADSekCxrqfrcSUKj8RrGoLEsaSuScocSR1YV63GTY99JiA9y6crQ28S0eZ1Lc/H9VkF3XiTC2EqjXt1nTF79RKFYQz6un1FtwkdmLhenVjxseb5ZBUJUglH5BwhSaIjgdSEJxa5iM4Y7rZcBAcQ0x6IFZ9tTCU4XgljXSLdXG46/rrtmB1dfX2CDXjDl6IvXWKAxRB8I+B8BGsq0ZE2xbZPrz+7epI1JrR+0hGfpOkiOPXtbZWtAzOWRSAlxDoXUrHkJJCT4CR+j4sWHwOAqn/Eu9uarJ8QguFxjLbvJcQNWm/cpp6GuA3X582loZZQuy01chKemHx2nNOIFZ/LYMIDTPuDdarVlFD0W50cQo7b3G2pf7ah1y9BcEK63mK4g+dYl20iC0p+qLWEGkfShSelhyVxV0HSSBpvCUFXMc7t3ps6YnQgYi2fLaZ0t0lv1EN9L10f4j7lX8Z8UGzWTw6WXQ6MHXig7jaRyBefKZnKBG87r+8NnGJNs1jM5XMq/Zmju21i0hAf8cEGAah/vvrDIOHzD/GxT5zQNmskjPUAcawdHys853sv4ZQCsWM+O6e+gDFwlfyJPa/HfvY3VA6JjbEe/qYSIinmKYXgLOQIDyDrWqZALasl0rB8piSGOT6GFePbI4rdMEvI6VG3m+Jj/cRyvcV+3hO1fsRaPkCR57NF6r2GmcxOuIWE2UjPYd7Ck1t0m405/8YJI1p8xDBUMFIRnDYryNc1NwU2kZN6vWMx1M11gC2hmKPrLfWOcyREu93EJJmmylBzPJXGO0GXQzRCNO5NYsOrIqRaIWEq15skN7sgxIrPUkXr1IUnpWi9EIIzZnBBG7m4Y1yTssUSnD77xHx/G9KmHk/leZ8QseIjjj49Igk3YF0IYvWOphjfybmUjk1QeIJmCLdaLoQUniHWj4RnPhFUfJT+TB1QkCM+gjJEdEIJjhTXW1fR6Zrz4yNEUgQnMdebWPFZmkwuJbcVR+J18wcvoRs1a8ZsxKXNqTOUWO4213Mr7blOEI1260JuN9wey3pKpBrpdhbykkCbaPseD6BbRJz0z2rjIvsrPV0ioedYrOUTjTFKbUi4OX2trrbvonptiIVUd1lI+G6mJIUGuC440guydrV++rQBc79vIyBWfC4bhPvBx3YvSa7E3XZttgey7kt2PbhS8hqkN5pj4mOZuPK8KoZ8p7m5/ZTe5Ot220RznS9YtvkivQfEr2+F/V2p/d+VPXBXLeDncF1bSMZ2Nfi4zGyvjd3wulxi+9E9gdi2b0qikvN4ZyKuN7GWTy9cN1TXeT2kC40PNjEI9Tl9hSyH77JJULqEPk/hcmuzNGwikmJQirQ8H8VJHuIz9AHpk78zxL0Vkz5WTf1aXcIkxa3GmXICOYmi05WxesspWUdKVNIVnz6CUx9olCogfRkiCj7fxRh0GVuSjgTRGdrY25KUbaLelP8jVXB0np9J8RIfIvpiAF8G4DMANowxn496VQB2Uq3EDiDnyxyjIa5/1qkekqGf1Ue8pfyuudHF3Ra6IZ5CcNT1lhRW8SGiJwH4IQD/AsATUNyeTwTwFCL6IwA/b4z5/VGuEhjWQA15qNpcUl3f60MODfFUghPL9SbBgpGA728m1dJRRNFm+fwGgF8F8I+MMZ/mLxDR1wP4PiJ6qjHmrpgXGIQczOspJ8PyoavI+rgFcvjdpOP7/U41nhYbfo+Ncb+NFdCUQCfWKj7GmG9vee1eAPdGuSJ+nhWAqh8opA9zzAa6q/WTgK+2kdTGx7ogpY5ZV2yRbtw91bfBlSo6fVxvYzxvTW0Of2ZCPj+JtB++Yz4HAazy/Y0xJyNdE4AiyZRC/RhDezP8xohpXYS4aerfmcTINCBude1ce+lS0O/RD59nT+rzOQJO8SGi1wE4iKIfVQUaGABRxScINtEZ0z3lK6A+jfEQt8CULrmKEBGKSnh8vmMu6lKFPESwwdD7bepnDEjGe+Jj+XyjMUZGDInP3DSSSr9IcLfFdoVJiWbzOceQRjM315sShyGdvKGutwQEh+MjPu8hov3GGIl9nQLfnsrQPJgxXG8uhuTBhLxu10MS8kHo2jMPSYqC04atG9n1vmoTctfMq9KRkubgQ2KCw/Gp7fYrKAToz4joASL6ABE9EPvCvHDVGqsjfUC8602+aVmPhW9J+ZjXMvbDlmLjyalfv08Xsv4d22okdmEMET9XW1Kka+dQsjA68LF8Xgfg+wB8AIsxn+g0JplKwmVFjCV0YzbGU0a0+YRl+yB1vCIGNuHkn9/HEhpCbpZjGxLGexLCR3z+whjztuhXEpMQN0WXRldKA93UK0olGq6Nyg2XsMshWVzC3aXSdypWpQa9RMFHfP6UiN4I4O0A/q7aGDvUOihDxzrGFBPJjeqU7rYpz5VzsIFPXoyvpSjtO8q93I7UdsITH/H5QhSi84/ZttZQayI6Wb7+m8aY3t6zpSRTidhELaWES5clNIbgjNVIzMXdFoIxvqsxIvF8XIwhGNu7kgFO8THGvKDHcQ+hGB+6g4h+B8CbALzDGPNZ3wMETTIdyphiMnaUWBNjfdZztfUYjUOIRlRajz4mQ74v6RYiv8dCTr09lVdFspfEg7bCoi9HUTz0ry2vPxvADmPMbzW8fNEY8z1EtAvAdwP4AQCvJaLfAvAmY8x/D3DtbsaoyByS2FFiPkIUo0ZbnbYGrnptiBCF7LVLbkx98BlnGfp9hfiOxspHkmb99u3YJiw6FW2WzwcAvJ2I/hbAH2NR1XoNwD8A8DsAXml5rwEAY8wlAP8VwH8loicDeB6AHwcQV3xCDaK33RipzAVUD8eWPHAaqmGYU0TbVIQS5bO1dalTMbQ9N2Pl/WUgOJy2wqJvBfBWIloD8M0AvhTAwwDeAOBFxpjPtBx32zhPaUH9YrnERUIpmdwZ8iD4iEP99ZwHjlMidUuQ4+v2jdlhk1IhZAJ8xnzOAzjf5aDGmG/pfUUl4vN8fJBU0Tr0AzSlv9k1iKzjPHaarIvqs9qsjjG/izmUA+rSJmQqPECkabSJ6CtRjPv8LRERgJsBPB1Fs/BLxpjPxTgvgPAWj01A1LoaF5ug1AeRFT9cgpKr+PYh1FxaEtzwgvApr9OHd7Jj3wbgOwGsA3gGgNd2PppvafIcxEDymExIQrrRUi6nMgU2YTnLljkS4x7yLUllI+P2IIrlA+AqY8wj5fq3AXiGMebzAN5ARPf7HsSsAFT902SBpCA2UgIPYpB4qGcr0sOGcyZV11tl/YR43nN9rhg+8/nc0bD5bwDcUwYlNPFRInq2Meb3AGwA+AoADxLRtb2vtGIKwenjepMmONIj3RRFArbAg1ipCvVzzAgft9sTUYRWV4EHBwE8GcAtRPQqy3teCOD/IKI/APAEAO8not9DEZ79Iz4XdhnM6qmQbukMNbEr5iISqUSwHUCaPXFFPptsmRk+brd9AJ5dBQkQ0S+gyNP5dhS5QNswxnwUwLOI6OsAXAfgOICPAXhf6X7LB2kWztjk7npTpiFV15svuT4zHfARn70ArkHhakO5/mXGmMeI6O/sbwOMMX8C4E+GXaIQUh27GcOK4ufI+aHijaGOB+XLUNebjZyfjR74uN1+CoXb7PVEdBzAfQB+hoiuQeFG2wYR/TUR/TIRfWsZaq10ZchNvgfdJ9oLxR7Luo1UXG91cu6VK8oI+CSZ3kVE7wTwDSiGYf6dMeYvy5d/zPK2TQDvB/B/AvhVIvoNFDXd/sj3wnZCYJKpdOtHyliRhOtIde4YZYFE19uQKbZzdlH3wDfP5yoUX9tfA9hHRK4KBleMMa8xxnwzgG8C8BCAnyeiDxORrR5cWkgJfpjSyglFSOtnznkqSjhi5Pyo8CzhE2p9O4Dno3ikq2ABA+AP2t5WrRhj/gKF6+6niOhrAPxznwubxupZZ+uHmncZU3RsPaWUhCbn3p7mAsVHovXD4fd203OZ670fAJ+Ag+8G8DXGmNbgghq/37TRGPNnAP5jh+PIZkw3XEqCMyU2QejTiHGLTCsoKC54QIKKjhMf8fkwgKvBptB2YYzxyuWRxyEsWz8tqOjkSVcXoFo/+dJngkMVHW98xOcRFNFuvwsmQMaYY21vIqLvQGE17UXhpvtLAG81xpxqec+LALwIAPAFX+BxaaFZh9XdxpEcdCCRNtdbbIvCx9rxaWB0jqDpkO56U3rhIz5vKxdvysoH1wH4VRTJpQDw5QCOEdERY8xLmt5njHktysKjtGuX6XJOK1worOM167V1hwDV3W38uCpM0+PbUKUa5q2MR6zp3RWvUOtf6XHc5xhjrqtvJKJfB/DnABrFJxg2AbDWYuvgbquQEu2WOilZFNW11qdwUNfbPFAhCopVfIjozcaY5xHRB1BOi80xxhxsOe7fEtE3GGPeW9v+DAB/63NhvfJ8BlsdHi43F3VRarom6flCIZHsA+/TmMRsfLRxszOl601C5yjDe6PN8qmsk3/S47gvQJHXswsLt9tXoJiG++Yex7MTrBEPIDxtqKUkD9fDPGbk0jn21xZll1njkyRjTu8uQfQiYhUfY8z/V/59sOtBjTH3AjhERF+CIuCAAHzMGPPxvhe6xBDBGXUG0nVgpUXU5jBW5JPn4+t6CxX6bGswbJGFts/Ar7ur662tJ5t5o9OJuQUatP32mVk/PkmmRwHcjqKppHIxxpjdLe85aIx5oBSb/oLDhSKZxrk+dtQUwLBefi6PRNZkPreFNuHpKjihiFU40vfcod6bUUNkZYi7bYzxxJCCMLNOh0+0208B+K6yQrUv9xHRRwC8CUVNt85f6+VqlClG49vV+vGaQbUtYIHPxzegcoJLlCQJdShXle3hHqNhieFu49cd6voz6xEPRr+LJPARn090FB4AeADA9wH4FwDeRkRXUAjRrxljNjoeazq8GnGb6PhEz9X3aRAmmyhVQQtSx5JCutvGhFs/XfOTxo56k/bdTYlNcGwRijEY2gmov7fpWjPqaLRFux0tV+8pQ6R/E8tJpidbjmuMMR8E8DIALyOib0BR0+1dRPRRY8w/HH7pE7LU6NfDtF2i4yE4vkgVnhQY+yEey/1TnSeHBsrlbvP9jLG/i3O19Rjny+H3rNFm+XwXW38EwD9m/xsAbeKzNIdPGXL9XiL6UQCuitjj4GM1eIdE+1g5/Os6at0rCFOGcnd1VbVZP64HLrbl1MftZrN+xhp/mAOxrQspZCg4nLZotxcAABF9szHmf/DXiOibHcf9acsxDYAzPhe2kwTM59PagHcVnPr2SoB4QIJneR+JSM7n6Yrrs0husCpyDk7IyPU0Z3zm87nTc9sWxpg39rscIVyEXXhW0BCpVheM4+XysOUgtu0V6+hccWGuDGmEuojIObY0cRb5zCWUgrhKRr8/L9rGfL4JwD8EsIeIeJXq3QAe13ZQInoSgJ9AUVi0Gr69COCtAG4zxnza6+pcc2X47mPD5nrr5bZq80ICxXx6uzyOM1B0JES6daXJJSWpZ+vTmLQFG0hojFzJqvVrnNK6aBvr8U0Mrpgq6EWTg520WT5PQFHl5vEoWs1qeRjA9ziO+2YAnwJwozHmWmPMtQCeVW474Xtxht+E9Zto07LNtn+dLQtmCOtwWykPlQsAXGLbj5d/TwK41eP4M7CE9rNlLGwRRTk3HvUBcldi49ji2cd6lDybr4TOh0DaxnzOENG7ATzNGNN1ArhVY8ztteN9HMDtRPT9vgeh+k3oM67gs49vTo3TijiGRQ7PUSysn0vNu2/DZS0lQKixntgNvCtZcW4NhM/nlf6d+IgN3yencckMaM3zMcY8RkRP7nHcB4nopQB+xRjzCQAgoqegqOv2UZ8DXP68ex8ntoz1Pvkxzv1PYmHh9MEnBNszL2iI622IG3NsXI2jbw/adhyfxtfnHBLzmboylhsuZjkdnzJJymj4JJneR0RvQ+Euu1JtdOT5PB/AjwM4U4qOAfAJFPMCPa//5Y6MU3DWsWy97MV2AbpQ/t1X/r2ExdjPwyiG0IDlCLiRsfUIfcrN+CSThmSIIFTWT/X6kIYuh8CClJiqHFIocszDGoiP+DwZwF8BeDbb5srzuQ7AK40xtxLRDhRC9PTytcf6XKgsuAVyO7aP2VzApPhaP6m4Ibr2StsG/6cSDe1dy0bzsEbHZzK5F/Q47usA/P1y/VUoLKbbAHwrgNejSxd/qLkf0vXWOuhfhU/bhIdvv96yjy3/p+16avu4RCdXwekDFyKbFWQbK/ItpZNTgyMxv6ar9TO2pa5Yceb5ENGXE9H/Q0QXiegTRPQWIvpy13GNMZ8r128wxvwbY8y7y8CFp/pc2M6rEL4AY2d8SuWsY1lLl4XlMFsW3MfWXTk/PtdREiPM2udB3VNbhjAkumpIrs3Z2rrrOOp2C8sBzCsgJLfP0wOfJNPXoxir+TIUgxpvL7e18UEiqiym+4noBgAgousAPNrzWsOHfTY21vXQZt7wH2p4fTvNgtMHnxBr9rqPJddVHMbwqbsSOF2ESu70OU7Xc0mzFIaSc6OZ228lHB/x2WOMeb0x5nPlchzuJumFAJ5JRB9C8ZO+h4g+DOCXytecXP5cbUM9N6EL3ma2raG/gy02LrHFB5v1YxtKC5Tn4/tdDLFifN83RQ5JH3zcc0p8bPdKVzealCCFcxje8UoYn4CDTxLR96KYEgEopkn4q7Y3GGP+BsDN5TTaTy3P87Eq7DoI0ZMAfRv7SiwWkW6nsA+HG8Z+DgM4FeLS+tD1AU0pkmhsuABJrmqQEkMmjQuF/maj4iM+3w/gNQD+C4ootz8stzkxxlwCcH/vqwuJV+DBIbRbNxWu5FCfaLd97l2cdMjzyXmgdex5dHzIObpNYuBBV+rPQ66/lWB8ot3+AsA/HeFa+jP4YRhSoZrjFp3C+umb8+MRASeltptL7EI87GMKztCoNyUMtme9q6UusSOWg6h3oK2w6L9veZ8xxrwiwvWMh1eYtY/g8PGa61GN5ZxCITR7y1eG1D7wIkaIdSzX2xDh0YY+X8ZwvUkUnZnSFnBwpWEBgFtgr4QpG37jLTXW9ekRTqJdeB5my3aqSLe9ja8OxTJrapuYSnvghvTuph4XaMJ2TTn3YlN1U9k6Uzn/VkKxio8x5merBcBrAXwhgBcA+DV45uoMYafPaBRn8MPgCqFuF5yCS0vh1dza4UK0HIzAo+N8ot5GmGwuRM6ONMEbgisHRa2xcJyFO8/KJ+ot1fsvVVHvQWuoNRE9mYh+EsADKFx0TzfG3GqMkTKyEAk+3uISnIpCRE4FCSRo4hB6C09XERn64MZ+8KVYP64GckYNiRiaplrxeS0kQzsjMwm/tooPEf00gPehaFWfZoz5D8aYT412ZX3o+mMtSegxtn4S7aLTJZ9nCNz6abLIamJUd71tYrwHrispujnqYiNFBKdCQuPYdg2b7K8r+GXoZ4k1k+2Q/EbhtDm3fhTA3wF4OYCXEVG1nVAEHOy2vTEE25JM2/BpyJy9/3qF6jousdmFerABULjeKpfbXgB3be1/Ac2Vrn2J7H4bEmyQW1i3utWmwxaEUG+UbW1AzPuwS/mlIR2VzESnom0yOZ/qB2mzZSlUVgWvUL0bheXTJjqhrJ9dWIRZ98DmBJUoAqEepKlDnFWQCqRMfz72zLP6+w8mD4HxadDqjbBXqLVNXC6wZQjVzORAs4uvnuvTI9JtKnKOKvKdQE6ZhkwtBQBZfbY8xCeI282FTXCaBYiX0XmI/bVXt64z0cRynCFWkzSLSxmHGIPlMayMsQf11VLaRtrisx9u4bGFDFvzfG5n6zxAui2Krd0KaprftBuH4Ix2s1k/Y9dnGyPAIcbArhKekIPloQb0hwpOiGvQexdAiuKzH36iU9GrIfTJ6WmnSjJtSjQtrJ995eKT5zOgonWIsOkuguIjdjm7pGYSJutNjO+iPveS7bz1a5j6NwnVaZr6cwSiayrnaOx8PHC5+meUxirQlAXwiXRrw8fd5hHpFsP64BFwWvV6mUwahKiErF2W+iyyEqp4T4xsy6eLhdOGrSG+CCyqGvAG/Wa2vgtDggseYoud3WzxoUEo6xFvsYTBZQX55FNIbhSUdBnDnSVFMDJ4hkSLj4n1Q6+wpRGfgqLdWQ42uIBFtJvN3eYx1gNMV8m6nsTnsraGdiRij/UMeaBzdiVKh98Xse6PGEmkMx/7Eet2u/x5gEb/cWyis6hW3YbftNmu8jtH4XarjVDfzZccotpcouNyF2XQCx2NsfKCqrYjVAd26ryyDBErPkGwuZ62TSDXN8nUD/fspbvhH1qd+ARyQyZZC9kA+AjO0GMo01APSJDiKqsIdT2Jz/8j2u3Wm6EVmbci3foLDxec7e42Dp9ArsIz+OEiW3InZJhtm2jYXj9Xe12FJwypfJ/qbgtOPpZPkAH2dRQWyPHy/11YCNA+uIIO3BZOdZy2Om4BXGrSrJ2hhBCdEEhvIFOH9+Ql9OpVJKKStvgMEZwt11tlZYQLta5TiNLQsZ4R3G1V4xr7oe/qelN/+3yIIfDc9ebjhkvhXptamAMgVnx2XsXyfDghLJxtBUXjsGwJNVWxrlxu1XhPPeR7hMAC7c0rUgkZnOASlLEFR+JY1MiIFZ9thMpbsYZXH8L2YAOgq+vNTeVyizgjxVC3m5RKxUAavVAlTfTemhTZ4hMjUXJbpNsdEU5Sp7J4bGM9J7FcU66ibgk1UHe9pTLeMyTqzQe16PIj1LQJEkRnqNUjYUxsIKLFx6wAFCWSy8fdFmKunvo4D5807mEsV1JowsPtNkakmyRLyIWKzjyQFpzQhZm72yrEis9lE1h4ltxtPLeHrwPN7jZOm+vNFVQA+LnbBlQ08A02CNFIS3zoY1tUihz0d14g8Vl0IFZ8guGcaM01fbYLH8Fpc7fx5FIhlo6LUA99m1BIIroBdwAAIABJREFUcI0o6ZBg4zuYxMU3T/HxmtnT5Xprc7tx64dHsbUdi7vbeJSboFI5fZD00Cf+MCqZo+62JfIRn86Cw91tR1FYIZXLrW367BAMmKXUltvD8XG9DXVPxRYcze1RlG5I6gh6IFZ8dpIlz6fOYCuncrnZJo4LJTjc+jmORbBBFdEWoHL1mJFuQ290tVKU0KQUGKPIFZ9WvATHxa0tr3UVHB/XWxsW4Yk9vpPb4Hxun0dRMiYd8RkkOJWLrbKAmgIMdmMx5VuIZNI2IiWYdimrM3Uj7SMU6npb5gRbv2myq0gHKW6oMcd6pHxmD8SKz2UgkIXjqt3WPsdoOOqVDXik2x0Ajm1/i8/4DmcM4Unkxs6GE+5dcAIqRpLRUjqNiBWfYbgi2WzjO0Noc73ZQq0DRbp1Hevp456SIDo+llAurjeX6PiIkrIgIYtgLmQmPm2i41O7DXC52w7DNXVC9f4hY0CMUNFtEqk3Bk2iMaceowpKeM7V1ucgQIl8zgzEx2XltAUWVLgFx48LtXVexRpsfW+5fisWNd086rhNSSI39Ba89IpkQgmOut5ko663bSQqPi7B8anddl/rq7eUf5tGhCrrpxIluyXExainJRQr4q2re0qK8Pi63vi6RAGKbeVocMK8SaCzmKD4tAlL02tVAimwPDV2c0TbLdu2NONvDXWhZv10EZ4Yrrexb16pQpEK6rZzM3ajnJK1U80i8IRxTidWfHbClmRaLwTqQ3uAgUtwKieZLS6uLkTNlhB3wz2EZtebAKT0ltqEiD/QPqHYcxe1uijN3RIKNTWDD+pusyJWfIZz3LK9CDA4XFo9ey177Sj/rgF4pFzfi26B2e7ghMB0tX6qRlmK4ADdXWap5gLdBLVUJCDt/g9B38+ziThzqFlITHx8LJ7KxcYj2iqKcR6by2yHZTuHi5WvJdSMzfphrreueT59kP7g8esLZQnNHQ1OUJoYUXgA4KpxT+fPwuW2juXqBHVcrwPFOE9zgMEOttjYYdlvr2WdsyxEMasmKADsLg7pIqvkSwodopGFBxAsPm5cglMFF/AAg4JTKNxpa44z7GNLEztQiI5NeCZhgptoNPbXlpSR4nKTch1Tktt4YCKfJwHxseW+NG2vV6herixwC1tsuARnH9yWUrsYceuHO+54PtJ64W6TMHGcEh4JDf4JLK5DwvUosyMB8fGleTbSw7iwtdhwCQ4AHGGv8/12sL9rWAgPF6A4YdmK1fpR15sijSbX21nL9imYoEJKwuLT5nLbjWKM576laDNuZzwCt+Csod09V73fJ1BhVHJ2veWADvbLYyxX1VmMIzoJuN7Eis/Opf/qLjZbMunDbGnGFWBwBO7xoDX41SuwWz8erreVrrlMGeMS0xzGgKZGXW/xsQnOWYwnSoJIINTa1Qg3u9s4roCAupg01T7YV9u+BuB8w/47sMgLUgbga73Z8oJs+T9zTzhVlDoTeUrEWj4FXXv/y5O0HS6Xurutgls4TSNCPmNBUamsnxV0n9soZddb07XvYX9T/mwVEl1vc7d+cuuUCP88osXHNLrb6oJ0tPb/fWgrGnoQhWvtiOX1SpDaot1cgnSQrQ9yvQGBJtTLhFCioy46RTIzcb2JFh9/2sd69qIQhIONrxZUYz0V9TGfpuCDI7V1lygNzgdaQTcrKAcLwYbts3FhkV5TS6L1M3eEWwud8fk8E80Flrj4nCwX7m67HsDCyqga/AfYHnysZh/cVpAr+KDtdf9E1JacnyZydcOlcp25MnfXmxRmYP2IF59l15vPZGuXWvNqXG61reROzwRPfhwuQgexnANUUSW4FuNRI5TbSWmMZMh1nmMLR3N+unMCy0moihIB8eLjDy+ls+AgW7g48Gb/PNAsOBeb111leVxMlnSaigj1oUlMUghdzdH1lrp4qettFBIUH2798GCDhWPrFPZtubqa3G0VTrfaJqKXuTnsW26niRX2N4fABJ8HYJMtbUgXnVQa6JDTfCvdkH4PDySBPJ/C9UZeYdduN5ZX2LSrYbtY5vmsLI7ZJf9nL4C7nBdRj+KzkIPo+OD6TZrcbT7TbY/Zy51jA3yitp6jpZcLI8/nk6DlU8dd1eABLCycbe42TlOPepP9PYtBVtBDbLFzFN7CU2cF7oi4PbVFGjaRabvWVNwkqTa8dQHx3df2egoWXyr3lC8CP08y4rM98MAe6QYUloWrlM4a4OdWC+QP5e49e87PnWx93bKuDMIWnKDYaROMEIKSiiiNTcautyTcbgvcDbBrMH8fBgYMbGIrgsrmYrNtF0nXqbenou0abe4zLbETl6FC0SZmNzWsK/HZBPDZcU6VmPjY2B7lBhQCsMbWjzRs35qqeoQG2K/m266W19gU2z6MMQ13DCrfc9dxHqnk1psf4/NI+M7OYfqQ/JCJ0hI+DyMZtxsAGBxj/9kj3fjW1qoDlcstsvDsw3KwQcV211slPMfZ9hHdbZLGgIb8Jj4Vgsd4CNWNFAY+6d2cvk/pFToGkpT4+HHBWVFga6ynL6xR4y48W8LppPhEw/Hgg7oAhQhOiCVqXSeTU9JlKtFJxboOxR4ATxjnVJmIz8MorIZidIWHMVd5PlWk25K7rUJSj3+L42y9HnjAlwj4CI5rn/rrIr/jyOhYhTKEkMEGPnNejfyMJic+y643wGfiuNYkUp+ExQ60ldupsLve7NW43TiEKEQiqk1w9jTs4zqGBGK73ubkIhoT/V6zINGAA/sEclVjPmhq67oYNTWWF7HVmPPotvHxsH5WausxghB8BCWG6HSNdBsDbRzzQthAfS98PoMmmXalyvO5BG53cDG4G4vAgyWRqI8N+FhB0Xvul1B8pt1YFlkfF5unG67r1AwxCJXsKtEnr+62+JzAPHKDMs7zSVJ8DE7XtjSHWkefidRSbLSf623SOVMLUirV45Mk6hN4kHqPVlmQkxAdYEumJCk+beyFe/6cpSrW9fGKJjYt6yLpGITgYwW5XpvCilLRUDixRUeihd0V3+rWIyWZJis+y9bPQmruYtYDr2gtscrAsvVjq27d1fVW7TcwGq5NVGyvNf3vK0xSghBCoa636cjBJRcj0k1Yhy3RgIMKe6RbRZR8Gz4wZwk8sJXbOYhlUfSjQ1WDodiEwteyce3nE/AQouRPl4dXy+0ouSFMaJpI1vLpAxcDa56Pj+stKYQUJPWxgLrmBUl/wNT6kUEoSyiFDopAC8dG0uJj8MfsvyrJ9MJSkulbau+ZqvKAX+CBz8RyKZHQJHiJPLDKjPC13oW61VwkLT4+tOb7dE0ytQUeeES9zQfXeFP5WijR0RI7ypiMZf1kHukGZCw+1Xw+QJHng4Z1648rZvD7KFuGuM+Gut48BaX1PPXX2XrbxHepo643eUgPQugqOim4AxtIXnwWrrflJFMpdM/5sU0sNzY2QWmqM+dznJ6MOetqYm4LJVMyTizlJC8+Bc1JpoPomvNjcb2Fw15SyI+uYdp994lc8LQJdb0pYyLF0kh0rKciE/Hh7MNhFFUD6iV2KlpL7IyIa5rvgjuxEJ4+gQeH2BKLLm43m+ttXUbZnxio600e0l1vPkgRwZ4knudTYHAe5GFvRHfKdcz5sW0/jAtLk+Jtp2q0bYIyVl6QS2yGHgPDC6HWOxcul4bm/CgSOIvsLfcMLZ9lnPXd6iV2OL6utwhTM9gJWGC09/kjutYquAXUlJNVHwdK1PWgJIp2UAaTjfgY5kw7hUV9N15NYJvrra1H7RKTCILDbbdw5XZ89xkazebC57o9j9829jPUBx6rUVHXmzykut66hFknLIJZuN0WBKrg1lVQeLmds4v1NQDny167j+stLD5BA0NeB5YF5ajj9bbzjFg+qG2en4QfZKUH2iGYlMzEpxvnV4C1yvrh9cRC1BarUU3j3R93HTt7Q15tDy04ffdpe71+DeXnsY392H4riWM3N0Fub3tOhBKdHCaZm5CsxMfAgEA4jMJRVeXPPIBFXs3dwLaJuGNiC4PwDzzgXF/+PQ7g5nL9VjRbHZyhgQE+gnMci4n9fI5zEovrtghOHT72E2M2VmUenIBsq6drsEGiIpiV+ACLabTreOXe+Fg7VwBcY3nvnoZ1FgF3BMth3rapt9vmIiq4BLcghIhEc53DZY1Vr9tEyeW2A5avtaN7rusU2xKtJUU2iTb8Esgm4KAJnkdjLbGzgkXggG0g+wpbJuUSFgm1TUEIJ1FYQk3i4hs0cJItTTzMFhsPtbxue389IMGVF8Q2p1SGR3KPey7k+Bsk2GnKzvK5GwYvBAEAHkFLAqeP28YlNjYrqAXuVjuCZXdbJYo7UFw7ANwCsCrdF7A9aLxqxG1i4WNd+LjVXFYOF8bq/13svfw1vp1bRT7X6mDoeJ1aP3mSmuDMIM8nO/FpI1iS6ZXaeiVAHq43H/bBZ8K5C1g04nWOs3Wby+t4y2sVPoLTxn1s3fbt83O4rqcGD0Koz8lUCVBX15uSD2MJjrreepG1262iSjJdyvPxmUyuo1UzFFsy7C3l36JsUDFnUQFv3G3uLP7/SRSic7zlKlxutfvKxSY8F9jSzOGtY1RL07Xya7S43mITq0FJrReeGjdhnt9xYhZ7lpbPL8PgWOl6s+EMQAgxvhNwum1bIEWzO6uOb2BAG3WxqbsAXYHkF1o+g+0cEfCxdvbX1hN7qGdNTqKTuestS/GxsQYP0ekzXmBzvdno6IaLxzC3Gq/CcMq6TzuHAZzqLDosn8kn/4cLSF93WyVIKkRKE+p660y2brc7YJb+r0RnW6QbsGikYtZm20TRSLYEOtRdbvU5f6rllqW9uMVRucPqg/9dGPp+bFUVtwlP9RkOb+3PPwM/73G2PqK7rU6MRiWnHrokckri7WP1JNQ5ytryaQ0wqEQghuBU1k89hJutr10sKyxgewQcF0gerfcIbLhcXjzyzPa6i+3nOAUuIG7c+UvVOa5v3asV2+8ZwvqpH0eRQ25iPsTdxu9PwdZYtpZPE0fKxWp9DAk2qEfAeYhaW/UDl4vQbl1cYH95YECTwLgsHHfwgAtusbVjO8dxtq45P4pgJHZKJF5TSRTxIaKriOj7iegdRHQ/Ed1LRL9GRDfGOJ+NY6XrbVsjXm+sQlWoHpCIyq+RW2xH2PpBLJJmlytg19fbxMLlVvOJVmt3q1W4BGd5+nDOfRCN4N7kbMnJ3QbMIg0gltvtLgAPAvjPAL4Hxcj2uwC8nIieZoy5M9J5t2G1HkK42yo/WFMmq2/+D6chCKF1LqKSvfBze/m515rrbPsd3w6vx2AXpcjT/YVyvSmKDQ088CaW+Hy9MeYF5fq7ieiPjDH/noj+AMD7UcwNPT68sbdVsXZZLvaBF3+48FncRK5meF/tUvZi0cAXEWQVTVUR/BkiOg+5d7FGyS2PU9WLkB7avl5POOXfsWDXg1a6VqIjVBBjjfk8SkR/DwCI6OkAPgsAxpi/A2phaJE5ArNlPZy3hTdvws9lNkR4bK499v/axebxnsr1tlauV1LCo+EkcYotTTyEwjS+a9sr3OLahaLiQceqB2Mh8GGePSriSRHL8vkxAL9PRH8L4GoA/xwAiGgPgN+KdM7uhIp0sxWRq4uZyw1noW0uIGvtuiX4u21WUPMZeERbG3YLpss++9AelefAZv1oiZ38kRS8MdTSyDixlBNFfIwxv0dEXwXgWmPMJ9n2TQAvjXFOb3gDxRula+C2fHjFz6G4hO8isGax1PzmAlqm2Q3XHsU2dJxn+bxtcEGsFyStLB8P11uqqOttGJKERyoCXW/R8nyMMQbAlvAQ0SuNMf8u1vnaWIMBHOV2BsNFyWaO2KpgVzdGPS9o4FxA9jGX8KKzPM4EuEvvuMahhLrbOJrzIwPpk8N1JWRZHWGCw4kiPkR0R30TgO8jop0AYIwZczJRO33cbj7WD3fDtc7rMPBaSngz7q6G3c4wa8cnTMJFNdbTBYv1o643ZSoEWhrSiBVwcBTAkwHcA+De8u+j5fq9kc7poIxzqFc2iFXF+hG0i1Sbi88SnMCDEI6hOTjhoGX/EC60JlzBBQWugPFdbAG215w7iu3z+9TK7ThKF4knp567IgfBlnks8fk6FC63wwB+xxjzKwAuGWN+pVyfhqkap0fY3yqyDlgWoE00i06tV+6qfLCGRSJqEz7JoT40C06XSgh1wenDIbY04GNNDrV6tHcrg9zGzGZgjUcRH2PMJWPMDwP4WQBvIKJ/G+tck+AXYraMzQrymaL7Ilp79vtgF6VqW70gqU2A/AIEbLjcai7B2Q2/8OpKcCwldoBm4akLxZAH/BxbQqHWT170vTcOYBYRb1EFwRhzL4BnA/gMgHfHPJcXKyzFaMoJ5B6B2y23gYUVxG9iJkBHLi6a+6aSPJWzy11XbSi+bjUbI+TzhBYKtXiUGMQQHaGut+hVrcuot58rF6UOD0jYhNuqcriSmsSoK3Xrxx62XdFWRWGIW60+ztMT28MnJdggN5fRVPCoNykRcF0DDzKfQI4Tq7Do1xLR3WVh0b9HRMeJ6NNE9F4i+roY5+yFreqAj/Xj63pzuMwA+AUntBQ+rVxubQVJK+zFPN24AwvGoD6+41HdWrqVIqGRzIUTUDFvQqD1E8vt9loAPw/gDQB+D0Wb9cUAXgHgNZHO6Qd3vcVqlHwEx7aPLThhg+3DJr9bYz33+piPz9QMPgwTnSFTY5+s/W8JLPD5vmMgXdTmTqoiJMEaH4FY4rPLGPN2Y8ybADxqjPk1U/B2FCKUHtfAfzzIVkPO1kherK23WUGO6R9CCU53+sz54xrraXO7OSLdAD/rZyYuDmVCprQ69rNFGLHE53Fs/f+qvfaESOf0p7J+2uqqXVNb+PaKPlFvNmw9dx6cYBvvOVtbSrjr7Va0zwUUKgR7OEfRnNcDeE0mB4Sbn8mGRropqSDQ3VYRK+Dg54hopzHmsjHm56uNRLQPwO9EOmc3YjVMvlTutCZryjbPT70gKadJRC8C+2xWWEnbXEB8u93tNiS0gdduA+yWjrDabVpWJx2kBB50ZQaBB7EKi/7flu0XAPxwjHOOCi9CWi+30zbu0HOW0yU85gJyjX0cQftcQE1sr91WMSTSLVJ4dX0+nwotsaNMhZbb2Ua0PB8iehYRvYaI3kpEbyGi20rLp+09LyKie4jonkcffTTWpRUcsOT8xKAtiXRIkml9wrSGvKC18j1rAO7AwhX33Nqh9rLFhu/02W5sYz31AIOKWimdprEeh4WXBCn20BX5CLXSY4Va3wbgXwH4IxQ13T4M4EMAThCR9REzxrzWGHODMeaGq6++OsaljYvPBHX1/Zvez7fXgxPaxjbKcQlb8MFBtgzDFmxgi3Sz1W4bkNczNNKtq4tDe7HpoFFvIok15vOdxpinAQAR/RqAM8aYHyOi3wDwLqR7Oyxocr3tALCKRVi0zxxBdVz7X4G7oa1XRWAcqa1X5ccPYlERu279NE3NYHfDhcRzrKfp++jqepuS9J8GxYepXG9CO0qx3G6fJ6Inl+tfhjL6zRjzKUSfWKcDIVxvVTTckMg3n3I7toKkF9nfs1jKAdriNBqj4eq4LKHhZXpstdua8nmEBRnERN1t8ZmrwAsVHiCe5fNKAPcR0Z8B+FoAPwhsTaN9f6Rzjo9P3o/N+rEJTX0uoDaq49osIY/gBG4J3d3w+g4si049OKF5hlSObWbSPkQWpLrrzeX2kGhFKbJJodzOSMkwsaLdfp2I/l8ATwVwwRjz6XL7JoB/GeOck3MNFo09n6q7jktQ2nKPfN7Pz8sH4flNf2KxvgbgfHlzH8FCgJ7L1vvNHu5T0y1A7bY2F2RKrjedSluZkthBVw3ECjh4AoBPGWPuMcZ8uox8+1EiOuJ889gMdb35RKu58EmK3ATwIPufq8EVuIMTAGdi5NrFsasj2KLbbDRMINdE7CRTjmC3hlIjVXEfOvWHUGKN+bwPwBcBABH9GID/BOALAfxIGQmXP9zqsFVFsDWQm7XXbY2oz1iRq+7ZRik6Da/zqRn8ipPyqLd6pFuXeXq6vtYDH9HIPMlPmQjBgjAm0crrlMEFAPB8AN9qjPlJFO3ZcyKdsz9DrJ+u5XaqMjmuXrntdZ9e/TnLfjw44TQWUXnvW+xypNznSLkMqV/gxuV2c9Rvs+X2TOBCGEyqvXJFPkLFLlbAwcNE9D8bYz6IYjrtJ6KYUO7xyGlGU1+uoM+gyTJNwQN8fOhBuHGFaZc36RFLo949oK8t2MBWu83DuplqOvQ6oR5qFZ7xmFO5HR/rfsKOWiwh+N8A/Dci+lUUTcU9RPQ6FLOZvjLSOafDZv2sYDkXqML3B/cdC3JZUbYxKe624w3p6cXqMSzGgfiAXVNx0oI+1a0nQl1vylQItUbGJIr4GGMeAPB0AG8CcC+KuX1+G8C3GWPeGOOcgxmz3E4bXQTHtU+FLTjhI5b9genmyFmiXlanxKeUju9vKKHkfIo9cUU+PgI3YYHlaC4wY8xjxpi7jTGvNsb8rDHm16uQ6+wIVTC07UbYaHmfDz7BCQMi9/wCD3hZHd86bgKwWT8a6ZYmEtycfe6d0OV29iA/txsRPaksJPqnRPRX5fIn5bYvinHOyWhqqHdgYTXYXHJVDkqb6GywpQ8+FtJHsLhWfh4ehHC2CDzYB+DFbJewIdkek8N1peuDpWKijIGE+0xAUE4sy+fNAD4F4EZjzLXGmGsBPKvcJqHf0cxQ15tvmRwfK2ejw+s+1k/dDee6Vt+ovGB0tHh8q1jvweQ9PC/U9TYucluhsNhcb1PPZ4Z44rNqjLndGPPxaoMx5uPGmNsBfGWkc8qFN/S8EbQ1iKuW7Rtod78NHSuqovI6ROb5BR50db0BrVZQzLGortNtS+jFKgtugnwhHxJskFGl61ji8yARvZSInlJtIKKnENGtAD4a6ZzT4Ip0u4Kw022HYrO2XrkPeRDCucXra6cXm7nrbXSGiM4eyLaEpDeaUrkJaYiONCa2fmKJz/MBXAvgDBF9ioj+GkUA75MBPC/SOcMw1PU2RpTYKuzWEbBs4fS9warPYHn/PrZ0pz6fT8W6ZZ0hcdI4tX6mY4jgpOp662r9CA3rjiU+1wF4pTHma1FUY3kNisnkAOCxSOecDtv4SVuwQdM6Z3X4ZW3DR4gegVU4104vcn6Ose08/8fP9bYbgyePC4Htu+/qelOmwyYg0q2gMQRBQhpBC7HE53VYOHJehSLN/TYUTdvrI50zHL7WT5NbTWLPnFtAdXdb9fdBLMST73MWYYqnYhf86rt5IPE7DoX0RlOZlgMI0wkS4HqOVV7nKmPM58r1G4wxTy/X301E7490zjTo4gZbRXOAQX3bqmWfpu2+1xEidwnA8tQKvMTOSbhL7HiW25FAiGkaUnUDTYGPSPtMU5FquR0fppo51ZNYls8HiegF5fr9RHQDABDRdQAejXTOeHQdpG6qaN0WQRaqB7IBv7ygruNA3Mf8jsWqn+vtvo4nGxkprjcVnm6k/n0JFoWxiCU+LwTwTCL6EIqv+T1E9GEAv1S+Jh/ueuPwxspV0bpyVQ0tKupiA+0Wku11YDkwgffcY1/zNjommebmesu1961sZ0zhmVuejzHmb4wxNwP4BwBeBOAbAXyTMeaZxph8ptFuoooSC+W2Wh34/o0A12CjJaLPbv3Y8nxsSaaCyu2chT3SSGhE0azxtY5SsqI0z8cPY8wlY8z9xph7jTGfiHmuqLS5xWzWj0+k29hswO2W43MB8Wka6q63UniOMQGSN02tJ11db3WGCM8Jtih++OT0SP4+taMCYI5z63ThgFk0TD7h0X3oW1B0KBuWdZEklPPTFXW3KbER6npT8ZmaNiHbiHzujfDn8As86Op6a2GFLUP2scGtHy2xIwMfq8ZX1FOsjJCJ603Fpy/1wIMqybQp0g0oXG+xC3VuoL+g8Pfwa7S53ljV62MxqzkMoUlwcpp6W9lOKm5MTTJV8XGy0pJwGiT5MgAb2C44Gw2vN+0ngkCBBytwWzkShTK1nrc0hgiOdJFqwjfcv03gBCSZqviMyVdZttdvgg24RWID7v18jjOE92Groe+e82Or7xYJn3p7PoEH6nqTQSoWTht9rJ+MSjyp+Phgs35W2bqtxA5PMh09d8bChsd2H9ebhQvuXcanz3jPObYoSmim7LDkmuej1LCJzpDK06u9ryYaF+ASnnoN7IRzfprYb1n3QV1v0zG29TRkHMY32EDwWE+Fis8Y2MK0h1S03uh7Mez91dIV/gCcXqzewTZvn2SuEh5e3VoQTZ2APiV2EnjoFcYU0W5qSQNQ8fFniOstFBuIM46zYVm3ud6uYcvoDLB+pOcFqfUzLnP/vjXPR2lktfb/xgTXwNmDVsE5Xy42DneeVlu4i81n4FctINmkGqzg43rziXTTaLfMsFk/XV1vG6EuaCCbWFxjfZ6fitOLVT7FNne9TYrP7LJDS+woShfU9abi04k211soV9QGphGeDct6E32rBQSjo1U05FrHbiTm7goag5uQZmWDrggtq1Oh4iON1Y7bfQhxs+0oF0tDfgHN0W5r2/aqEO56awuxbqtuXUctJ3mk6m6ryCTXR8UnFHVXWtVYr7bs07QekiHlfDaw8AvzY3ykdvxynyOsMeZJpo8AOFUu/VhnywBc1o9vpJuihEKTTJVOtJXbkYAtd2iz9noTGyjEslps7GCLhWE5tSct29dr64GEKbYbQnN+wjEXl1koBLveVHymxGb9rNb220D7OIxvsqrt9VW4BcdjTItbPM9l67cs7eXjehPC2FNpK83YBKePAKUuXJlUtAZUfPphs35sU2yvWvYZSqgq2RuWdeZWWzoP3wcoGmPpDXKfSDdFBqmP0bQx46g3FZ+UGdJoDhGtFTgtpbacH2AXWzj1wAO+VNRdb03rNWzCM6S8UVfU9SaDnIWsK5pkOkN8Ag9WLetTYguxLl0Bd5d6BcfQAAAgAElEQVT/VsJzkO2y7Hq7D8NwjfMEiJJzFRSVbunNhS4iLdXl1tX6CVHfTZNME2aI6y0UQ3suNlfaRm2fKriAR7pVD0zpcrsbzTzEljg0BSHUtqc6gZzEhnJshgqGBihsR8h9//ipL0DxZBX2umsxaLtBq9csvX+/KRUuYbvbDShcb7sbtp8EcNTryGLZj1n7+L0JIRS5i81ZuK3vc2i2fHjVkglRyyc2tim2u7jeNiCj3M5X1/4/vVg9gkV9Nz5xQnN16/rUCpwm4YnIkLI6sV1vOj6xoG3iuBBRcFMzw06JWj5DWDHARSrWeURYPTqsDxu1v7HgvaANLATvfQCegcXsq3XhKbG527ozRHTqYzyH2PZyfQUyp9C2MWfhOYGFgLi+hzl/T0MQYP2o+EhjE8uCs4px3W3VOQH7tN83ug9hSzA9jAs4tTS3T+V6s7nbOBFcb0O/zwMYXmVY2U6bqPgIUorWT1eGuN4EoOITi8r6uYJisL5qjXkPvG4tVQ3UKsZ3s63W/tb5CIBvKNdPY0uAjmDZ+qnGe/hH3osuAQdVuLVNiHjYdUchqls/bcLjEouMkv2Sok14UhccwUIRAx3zGYot6q0SHhtXHK8H4RAWLigLddN7g63fA6/KBq65fPzpWuXAtwxPRyRYKak3pIochJbYUfEJjU/Sok10eK9n1bLu5af1EJ22Y+2Hczrou9nSRN3ttpet2yeW4wgst8PpGmwwox7tZMxx/CdhC1zFJwTc+uGNDLcWeBHOr65td2Xab/heiKfoNLHKFt5T4td0BVuidIS5r6qItkpS+hcUjYUl50cnkFOkMabVrUmmipUNdBz7sbmYLILEheW05a3VtBCr9rOehz23xy/J9BJbOD7Wj4/rTQhaYkeZirqoaZ5PRvjUCbNN58yjyvhNcaPlPGPgmDLh/Ip9rGcH3IJzeGn6OR833MhIyPNRupOD6y209eNwoU+Fik8oDlgCD2xJptwl5+unsgrPIfR2udVL7FQ1nx5k2yu/8mqx//nyc/ApFPZh8THbPs4pDJ1czoem76Kj600Kav0oNnyqyQsUnQoNtY6FK5LtCtyis+F7MpZM2fhaC3vQXneuGp+y7ONTSsdPaC4AkvJ/YqEldhQbMYRCcIkdFZ+xWcGiQCdPhqlyfipLZKP8u8rWvSsneIx3uG68PfCqarAP9tyeu9xXMQI9AzAAP6HQJFN5pJpk2jXPxyfJVDDqdgsJd72tsu0tYydLDBrP6TildFNF61Us94h4o3oOW2b+sZbDxq9ibcNnzh8Lkl1vOYxhKDLRPJ9MifXDhm4oV9EezeaR8+Me62krJGrbJ9IU200BH0Px6X32camo8IQhle+xzz2SsNWt4hMaW8RbZf1chD3/xyfJNARVUIHtuHvYYmENizg1/hH2bttzX+1vEz7iFBnN+cmLE2ivhC2NGd5nKj6huZG53iqRqcwCCdM5czZq65WFY8v/Odte1QAo3G3t0WyuKRVsU2z74OF6s00sV+cc3LOZxibFcQslLSZ0van4xMbmi/KJS+assvWQrrdVOJNIt0I6Le6lR+A7zrPPsi4wz6crsVxvShhSsYD6kKjrTcUnBjdacn5WsCgoyn1VTcU9N6JcmT9ccE4vNle5PdWkcTy6reLw1prLnbYPfpPLBZ5gzmda7f2WdUUJyVgJoALvYRWfMbBVNuC43G4bAa6jaRzndO0aqsoG720+hKuC9cLlNtU4zoCotzoSMsPV9aYMxXUPT+R60zyfWPhMl2D70VexfTymTojZUvmx2tjfLjiVu609mZSP4bhca12TTIHoSaahcn40yXR85iDgCeb8qOUTi++05Pzwcju80R8712QVzWM9VVmdr0YhbmWvaY1ZbUfQHOl2GByf2gc+DHW5eQQepFRuR8mLGXdEVHzGwCeoYMpIt/eVfyu3nKWyQVMZ0O34jOO4qKyeLsJjq27dwgr8o99CotWtFY/8uWD4CNwErjcVn5j4RLPZ3GerlvX6e31w5OxgteX1FXRqpA97WTxNYdRDQqxHQitdp0nOkW6cUBPLfTbQcRyo+MTkJuZ6qxrveqTblKxiIWy8d3QWi8CDdyw28yrWR7DQ1u2JpRyXoIwhOB6BB9Jdb2r95IVEd9vIuYYqPmPiE4TQFZ+G0nZDna79vwPueXzQHvHmP1VCm+j0Da/u4nrrUAevK5rzo7iI9fvbrB+BYqfiMxV8+mybgKxa1kfGJjgHa/8vhEd60ugA60dFI02kuN4khO8LQcUnNtz1ZhnIn4RVbA/pvoetn0URmXcNsHZ6sZm73i7AVdlgijGcrtNqC5xu24a63tInlgXiqEIiERWfMfBJMvVh1bJ9iOutI/4Rb7FFZ4TJ4zwKrFpR15s8pFg/MUiwxI6Kzxj8UEOxUcAvz2d14Ll9GlDXPnuWBYdbP2tsvcjz4bORdsU11nOULSHxKDxqK73TxFm0NwYSipbOjZsgw3LUDscWKj5T4ArBHiPaaoOtv4+tP8jWzy6u5UhDY9qlLqqd3WgXnTbBsYlQV9dbQEKFu9qQ0ICmhpTvTILwCOrwqPiMxRW22LBZH6uW9fp7m+jjbivHetoYJjouwakYwbXWF1tDou42eeTsbuPE7vgERsVnLF7KXG9tFa1d2/swZL6g0+XfPcARNmb1XLbLXvCCom2RbhEqVHfGI/DAx/WmKF0RZHVIQMVnbnAB2mDr3PVWPSRVZQPRje5RNLvmepTbGZMh1o8UN5J0boKcsR5JCBFBFR/J8EZ/1bJu238olt6/K8l0O9z6ebjDBQh1ufkEHiQU7polcxachFxvKj5j0tX1NiWn2foZbFlBx9hmnmQatqL1EOHxiYgb4HqTwlwb19QRYnVIQMVHIkPGaLrm/Gyw9fehM37TZ2fAkN/EhgYeKDFIJOdHxUcKXXN+VhteD9E4DkistFs/XV1vQsZrhpTbUdeborSi4jM2NtfbUIaIzgZbfydb5z0oFq7KXW884TQtJiy3EyrJVF1vC1IKLhBgdUhAxSdlVtl6V0tlonnb/RFi/QzBZv2ouy0MKQnO2CTgelPxmQKfwINY5XYiwK2fcK63KaPdLIEHWulaDqkLjlo/Kj6zxhZ40NH1FpYYtdvqHCqXttcHcBbu+m6hSL0RrlArZhomFEEVnxRZtayHDtmOOrPhw5b1Kd1tLlFqgVs/WmInDCpEwxCe86PiMxV9XG8bbOmNZ+NqEx2PwINblt7QVm7nYXRLPI1Nj0nmtEJ1eLgFZBOgHOq1zfyeUfGZBYew3KtnArTJ/vI8H75+2u8se8tlWg5h++fNnDlYCOqSC8/Es6qq+EjHVmIHaLaCtrnePBrgUSPfbPP8DHW9+YzjRBAkrW49DB9RUdHpj2DXm4rPlMQotxNLSE6z9RPYmpn1GKt0zcvt2F1vFZfQb8K5rnQVnB6uN2U8uBCl7nqbeedDxScXrMEBtqRJS4Nsc70FoZoPNYbojJAcGoOhDdAJpN0Ip3ztQ4gtPAfYYkPzfJQtfAIPVi3rjb3xiVxRJbegyPspFm79+OT/dHW9jTy+o9WtFckIdrdVqPhMDXe9BWVAY+wTeHBmsWpzvY1DDPGsWVGli1EkOYyHDLF+UrWcZh7pBgCPn/oClIDsAXO9raNbo3wIQ1xXa2z9gd5HqXMS7oTTrp/Th5GsqKENUKoNb1/m9nmH4LK6BYw3qeUjga45P6uWdSHUp9iuCFd6JxYWK8pnWu2xXW/aEC/Q72KZRNy9Kj4KgzW8HV1vR2puqR1sSYeEghZycLdxTljWObl95pm73lR8cmCVrS8FHiTUmA4KPBD+ObW6tR9tkXupR/WNSQIVrQEVHzkMcb1NCWsQuPXDy+0cwaL6gTv/Z2o88nw4Pq43pT++opOqMAkQgalQ8ZHEI2yZDE/XmyMCbB9bmqhCsIeRSBmdWGGvubmhOGrpxEfzfBQnm2hOIl217D+V622zXXCAwqjjonN4UM5PrM+2zhYLtt+kbv24hEetpXCcgIpWheb5KJ34D7Wcn6pxs5Vz2UCAKtcObOfgvaYT2GqE19hNz11vB7HwJvKw7IILbLFxki196WMhdZxYbgy0kXXjE8AghZm63lR8pOETJraBuILD4T17MQ8xFyBf66ehorcUulo/ObvbQqIC7UYnk1Ma+Sq23jXPZ5vrzcOV5Hx9GNwdx62f5bGf+7AoOvpQtGtx4zGe5DOtdiI5F9kzNxFK4L5T8ZFGtHI7A7BZP7zXdHqxWne9rbGlPyGTT32sn45RbxU6sZzSh5D3TALCA6j45I11XMJmCXVwSTmm2PYRnL3wmYCOz3ZqC0LwsdZGCLwYU3TU9aaEYqLOkoqPRLj1M8T11hnPBtomOpYIMB548GIsIuL85v8ZY86fJlqE2BZ40KfEjlpK4zEX11sCkW6Aio9srimX6HiM9XBBOc3WWYmdpZue73PRHYI9Pk3ikkjeUIVaP0rCqPhIpavorFq2TxkSPGgqgq75P23i6Tuv0QRono+yH+Hvg67WzwTWt4qPVH6Iud72oxCRPVi+SVc7HnMMIXovW2c39Jql9E7d9XYYoaof+DBAdHxdb2eRjBtkFpyA5kkJQcVHMitsacJXTCrhGkqb6+1KufQgfgXsgMEGFyFjcjltPPNByphfdR0jlfdS8UkRLibPYNtX2d9VNDOmG65FjGzRcMv5P7zywX3slSFRbyPjE/aqrrdpyH3MrI/FPaIQqvhI5ibmejuAhXnwVZb9gemqXd/D1t+LhfCwgqRrFxeCU696zXGHYPtEwEUSoroV6lPfTZGHNOGRYv2MiIrPHBli/dhcb673OPKCXFWwC6rKB3Xq1s86W0fD+v/f3rlHS1Xdd/zzlasi+EKERKsIRrABNaiINkrAWq1Ea9T4rKbGJLWYGFeTuKLpsglWm0bbRmODdWGbmEdVfNVoNL5a7200YgR5XogvHBWNckVkKRJF+fWPvQ+zGeacmbl3zjzu3Z+1zpoz++x9Hr85c35n//Zv/359oJK5rVGu06328IxEaiQqn3ZiTLAe9n4OKa3oGZ3fqVSkivQQ0wMX7CwnhCKhB1wSeiechJoTfR3niaa31mOgjJd1B58t5vjScOUjaXajj9nWJKa3VspJndb7mUdR4YQ3etgT6KaOA/YNUjpZNNOVPdK/yKvH3GJKJyEX5SNpl5RlOPDpPI7Zr8lD6dTzoVmgcqTtCqa3auK+bel+HZrgbqR82oVemN6a5c0Wo1tH8qaFFFFePZ8e3Hvw/GCZ55dKoRkjpRxX4niQRD4IH1aNNr1VMY6TSvKG1+OCkCaK58KgSmJ6G4ILyZMonmNbMfV2TKXdnrSK6W08+Uw0bXHyUj4rgGlmNiZY9jazMcDrOR0z0hDKhKAJU2zfF6yHb1mhklpHVUFJ0zt81SSfS6OK3k+1r0fVKOC8be2x99P+DEBPN8hP+VwDDEvZdlVOx4yUo5CxrWrTWx1inq0ieyKqN3Wlmd/GUnS/3twJoc7zf5o9gXSAvf1GmkB3ydIkclE+ZjbLzBalbPu3PI7Z7wlNb6OD8izTWyG3s6mOHpxDQvIwLwTbCiV1PNNLwvBU54JdJ2pVOjGZXPvTCqa3VnnhaLAiys3bTdJHJX3Ur4+QdLKk+FdsS9J6DmVMbwXgOtJNUaELdkqdfBROFY4HtY5G9ma8KxIJaQXF06QeUF7ebn8DPA7MlXQ+8EvgeOBOSV/MbBypjVIzVrlwO1lUZXqrxtx2aHpPax29jv0Wzv/5bLBe3vRWmnr7TnKh0jhPX2341T6QYny3+hBlWKSbXsdorJWOnPZ7Ac7gsB3wIrCPmb0maRjwCPCfOR23f3Ocwb1yvYaRwAu+fC+clGuhqrf2KpVOOW4DpgXHmuTXX6A4WbaHolfBk2xSnGNXwbO+FzKWym4FxwL3NzLp3AjS5VdO8UygpVxcI57orNFU8jK7bTCzd81sNfC8mb0GYGZrAMtuGskkLWJAX1yfU6kxJE1PlQ4JlSIG9FROwT2ErNQLr1CMfHBjUJ6D6a2ZxIdn+zNAPd0gP+WzUdLWfv24pFDS4ByPOfAIw+1MCtZHp6yHNHpmfhXhduiiqDyDnkJietsHuJhiZyk9AnbOc4F6o+BrHe1shbGA/k40tzWVvMxuJycrZrYyKB8OfCOnYw4MTjW4TQ06WFZPZnLJd59FrudQGOF7FZ0UlV+BYmyLHorKr5vNlWgpvne0T0qPJD3ydUg49lNF72wkmb2yTMaT/jYbKqBohoskLGNAvmzk5Wr9kpltAJA0TNIOvvwVM3s4j2NGekFm7yftIT2ZLRVPCZVMgMuo7IBQIFUBpHnDVTf/5+Jg/VqKUbCblAsoq0dUzQMpmt5q59RgiTSNvLzddpf0U0lrgTeAbkkvSZoZmOMivSXM8zOUojmrLym286ZAerqBxHFiFa63VPDfU3IBlQvDUxtNVDYJEygqnjgBobFEc1tLkNf4y8+BH5nZTrj3izuAj+PMfLNyOubAotJM/ALZwT577Zzw25TysDdUMv8nOYfOoEqSfO5Fv2SZuSqca+U03FmecClOCL1JXd6oXD6R/scAvG/yUj7DzawTwMzuBD5lZuvM7FLgUzkdM9JD5ejSFeljGB2golmu4Jc09/AqnBMuTMmK+tVg/VgWUFQ8DZj/0xfSej/R9Bbpp+QW1VrS2d789lX841CScjzmwOIrgeltCMWeQa2TTOtKFeNBncF6GJB0GcUeTlouoHup2OPbhywXbMg1+dwAHDRuW6LprenkpQi+AJwAPIh7jb7Al+8CfCunYw48sgbtC+QY282b3uxat5Ql6YMcmj3/p5r5SQUyr2U6ViEcT+J+HSqdG4P1yqY3G1n5PK2ZYze+92PmlmbTiHOo5hgtIYtb3ZJKHdIp2Mz61Gkkubham9lLwGllylfjxn8ieTDL/9NGZrhirwr+jSpTz+Zu/l2HVa6zxXavkJQyPlQIzuO0lHMNnSruDeokkRBG2mbmtgsxrsXVmw78CviVn88skvYLgAOLpxm4LijFAcEqTDqtpHDMKwVlvGkndTgVNLPM9pIHl7b4Z1V4uFF8CJf7ycPtfalT+qA327JeX8+jHgpn0zmUkeOmOoE8q5F3aZ1Kv0dYp9xvDpsri2rqVLPdZm6+r2qOkReyHF4NJH0fuMPMHuvDPmzq1Kl1PKt+ystdsGcZOf2mq7j+yRQ5dgV10mTd9ZTfflD6OXQ9B1NT+h1J+6x9LPPnMT7j917t6wyv/Z7oonidUynfvivoFU1lx/R9rYOpQ2s+Bdc26DVNTXFc6Cr47aMz9uNNkVN78bYc/uSQ8bN3ZW9P6vT2L1rVrVdDnV6fR2DWTZNnNfLu029SCM5hdOV6lepkba/qPF5bCO+tnW9mk7Lq95W8lE8Pbjh5BDAHuNnMFmS3AknnAef5r/sBS+t+cpGEXXFu8JF8iPLNlyjffNnXzHbI8wB5KZ8FZnagpLHAGX4ZBNyMU0TPVLGPeXlr3oFMlG++RPnmS5RvvjRCvnV3OPDx28ZJWgTcBXSY2QTgBpzjwdOSJgX1J0ta6JdFkk5Kzi0oXyjpDUnX+DYzJC3x5Y9KGu/LJ0p6XFK3pMWSTq/39TUbSYMl/dbLqlvSZb78VP99YyjfoN0oSe9Iuigo20bSbEnPSPqdpM+WtDlFkpX8XldKWuqXAS9fSaMlrQ/u0+uDbZ2Sng62jQy2nSZpmd/nTUH5KEkPSlrut49uzJXnT2/uXUkHBP/pJf75Em6/W9LS4PsoSY9IWuCfAZ/25XtJmu9/h25JMxpxzY2kF/fuWSXP2I2SJpbss1S+20qaI+k5SU+E96ekcyQ965dzKp6wmdV1AQQs8utb49yHDsNNMt0X52w7Kag/BKegAHbDOdJ2APNK9jsfN18IYMeg/ATgfr8+Dhjr13cHfg/sXO9rbObi5bt9tfIN2t2BczC9yH+fB1wGXOG/bwXsGtTfAfg/YG6yP1yQ2If87zPU72PHvK61HeSLc2hfWmY/8zJ+i7E474dh/vvIYFsncLRf3x4Y0myZNFG2HcBi4BP++3BgUCDfk4GbQvkDs4Hz/fp4oODXtwG2DeRaAHZvtkyaKd+StvsDK0ru33Ly/TJwvV8/A5jj13cBVvjPYX59WNb51r3nY+5MDvdft/aLmdlyM3u6TP13zewD/3UwxZQLs5M6cua7kcCvfZvQZ3Zo0sbMnjGzZ/36qzhF1uj4zblijnf814ryBZB0Iu5mCGfQzMa5xP+T3+9GMwtt6JcDVwF/CMrGA11m9oGZrQMWkTWlpg3pjXxTmJ2x7a+BWeZSjGBmqwB8D77DzB7y5e+YWVYc8LaiF7I9BlhsZot8+9Vm9qHf9hPg68AVpYeBTR4jOwGv+rbvm9l7vnxb+uF8wz7eu2fihkUS0uT7Gb8N4HbgKEkC/hx4yMze9Pf1Q1R4NuT1A3wgaSHu4f8QMETSNyRNL1dZ0qGSuoElwAz/cAv/vGfiNKwFbb4i6XncA/JCSpA0Gfe283zdrqpFkDQolK+ZpQYqkzQUF03zspJNiTPo5ZKeknSbpI/4NgcCe5rZL0vaLAKmSxoiaVfgSGDPOlxSS1GLfD1jvJmnS9IUgOD+/bE3afy9/5OC66GPk/SYpLmSjg3K35J0p9/fP0saVO/rayY1ynYcYJIe8PfoN4NtewP/ypZxMGYCZ0taCdxHEPRC0p6SFgMvA1f6F9R+RS/u3YTT2Vz5pMn3j3Dyw3ca1uJ6pJvKPSupEHQ+L+XzBO7BtAcu+/H3cVlNv06ZAPpm9oS5caFDgG+V2nVx3bubS9rMMrOP4R6sl4bbJO0G/Aw418w21uWKWggz+9DMJuLkO1nSfhnVLwOuDt6IEjp8+8fM7CBc2vN/kbQVcDVlUl+Y2YO4P/RvcL/H48AHpfXanRrl+3tglJkdiLu/b5KUvHmfZWb7A1P88jlf3oEzvU3DvVj9h6SdffkU4CLcf2Fv4PN1vLSmU6NsO4AjgLP850mSjvLjEvuY2X+XaXMmcKOZ7YFL4vEzf09jZi+b2QG4+cjnJC9b/Yka5Qu4l3/gXTNb6r9nybfcDC3LKE8lL+UzyMzWmNlbOKUzx8yuwM3/G57WyMyW4+bsbxKYpE/gTBHzU5rdApwY1N8RF4jlUrNKsyHbGy/fTrK7t4cCV0kqAH8L/J2kC4DVuLea5Aa7DTgIN9azH9Dp2xwG3J0MVJrZP5rZRDM7GnfDPVvny2oZqpGvmb1nbvI0/h59HvfGjpm94j/fxtnOk9hDK4FfmNkGM3sBeBqnjFYCC8xshX+rvAv3m/Q7qrx3V+LMvG948+N9OHn8CXCwvz8fxfUiO32bL+J79Wb2OM6Uv2vJsV/FmaCn1OlyWo4q5ZtQ+nKfJd+VeGuHpA6cafPNsNyzB97kmUYe3m4jgHWS9pO0HU75JEHzOyjRkJLG+ItA0l64gbFCUKXUFpmMASUch38AStoG9zD9qZn1y+hNkkb4t2S8fP8M+F1afTObYmajzWw0cA3wXTP7oTdh3oN7+wY4ClhmZmvNbNegzVzgBDOb57v0w/2xD8BlNHgwlwttErXK19cf5Nf3ximRFZI6vGkSuTQix1Oct3YXzjKArzMONyb3JDDM/4cA/pR+FO+4VtkCDwAHeDNvBzAVd4/+u5nt7u/PI4BnzGyab/MS7l5G0sdxyqdH0h7+mEgahhuXrmUMr+XphXzxvcJTcS/xAFSQ791A4sl2CvC//lnyAHCMXP62YbjxugcyT9jq73FxALAcWA+sARbi3gb/B3gf2AC8Djzg638O9xayEHgKOLFkfyuAPy4p+0HQ5hFggi8/2+9/YbBMrPc1NnPx8l2A8wJaCnzbl5+Ee/t4L5RvSduZeG83/30vnEfbYv/7jCrTppOit9tgiokD5vY32fZGvjizcjduPOwp4C98+VCch+Ziv/0HFD21hDNFL8ONc54RHP9o32YJLgDdNs2WSTPvXf+f7vb1ryqzz9Fs7o01HnjM/x4LgWNK5LrIf57XbHm0iHynAXMz9lkq38E4K8lzuCCPewfbvkAxkOK5lc43l0mm4Aa+cNpvHK7Hs9Jf9Fu5HDASiUQibUNuyicSiUQikTTySqO9k6Tvyc2aX+2X5b5s5zyOGYlEIpH2IS9vt1tx4z3TzGy4mQ3HDbCuIaZxikQikQFPXoFFnzazfWvdFolEIpGBQV49nxclfTOcxCXpI5IuZvNZsJFIJBIZgOSlfE7HTSbtkrRG0ps4l91dKJPhNBLJG0kfavMIvpf0Yh/TJH0y+D5D0l/V8Rxv93OFqq2/v6Qb63X8SKSR5JJGG+de/V0zu1jSEOASijO1P0xvFonkxnpzYUf6wjTgHVx4Iczs+szaNSBpAm4e0Ipq25jZEj95cpS51PWRSNuQV8/nR7gwOeBm1e8AfA8XzuXHOR0zEqkZSd+W9KRcfqLZSfBPSRfK5dNZLOkWubwlM4Cv+Z7TFEkz5fMjyeXuuVIun8oz8gFG/ez8W/1+5sjlQCmXpOss4BfBeb3j9zdf0sNyea86Ja2QdELQ7h5ceJRIpK3IS/lsZcU0CZPM7Gtm9qiZXYYLlhiJNJrtSsxuSSK8H5rZIWa2Hy4U1PG+/BLgQHOBKGeYWQG4HhekdaKZ/brMMTrMbDIuht53fNmXgTV+P5cDB6ec3+G4iAgJQ4FOMzsYeBsX2v5o3Gz1fwjqzaMfxyiL9F/yUj5LJZ3r1xclb3qSxuHC30QijWa9VxrJMseXH+l7I0twsdQm+PLFwH9JOpvqI3ff6T/n48KSgIuNdQuAuajBi1Pa7gb0BN/fB+7360twATY3+PXRQb1VuMSJkUhbkZfy+RIwVS7fznjgcUkrcKm0v5TTMSORmpBL3XEdcIq51Ac34GJXgQtYOwvXU5mfBL+tQJKs7EOK46nlQs2XY31wbIANVpwHsTHZt7kUIeG5DPZtI5G2IheHA1x2noUAAAE7SURBVDNbC3xe0g44M1sHsNLMXs/jeJFIL0ke9m9I2h4Xpfd2H+l3TzN7RNKjwF/iUi+/TTFLZrU8ivPwfEQuU+n+KfWW4/LMFGrc/ziK0bIjkbYhL283YFMek0V5HiMSqZLt5DI8JtxvZpdIugFnyirgUhoADAJ+LmknXM/lajN7S9I9OOX0GYIMmRW4DviJXAbNJOLw2jL17sV50z1c22VxpG8bibQVMbBoJJIjPrr71mb2B0kfw6WuGGdm75fU2w6XHuRwM6tqOoKkbYEu4IjAwScSaQty7flEIhGG4ExuW+N6UeeXKh4AM1sv6Tu4vPfVztkZBVwSFU+kHYk9n0gkEok0nLy83SKRSCQSSSUqn0gkEok0nKh8IpFIJNJwovKJRCKRSMOJyicSiUQiDScqn0gkEok0nP8HDkiIprgf03IAAAAASUVORK5CYII=\n",
          "text/plain": "<Figure size 720x720 with 1 Axes>"
         },
         "metadata": {
          "needs_background": "light"
         },
         "output_type": "display_data"
        }
       ]
      }
     },
     "a582b67bfabc403ba4856d804a1ebe90": {
      "model_module": "@jupyter-widgets/base",
      "model_module_version": "1.2.0",
      "model_name": "LayoutModel",
      "state": {
       "display": "none",
       "grid_gap": "0px 0px",
       "grid_template_areas": "\n                    'pathlist pathlist'\n                    'dircontent dircontent'\n                    ",
       "grid_template_columns": "60% 40%",
       "grid_template_rows": "auto auto",
       "width": "500px"
      }
     },
     "a6b3456a26b042b0866e6559090c52fa": {
      "model_module": "@jupyter-widgets/controls",
      "model_module_version": "1.5.0",
      "model_name": "DescriptionStyleModel",
      "state": {
       "description_width": ""
      }
     },
     "a78afef4b67145f2b23c4de97ca686a8": {
      "model_module": "@jupyter-widgets/controls",
      "model_module_version": "1.5.0",
      "model_name": "ButtonModel",
      "state": {
       "description": "Cancel",
       "layout": "IPY_MODEL_27ae93aa159a40328de919ee27d3b2f5",
       "style": "IPY_MODEL_5306f2ab9ad84a8c908f4c9356257ea7"
      }
     },
     "a7a410336ebb4ac5b137860aa09a2ac1": {
      "model_module": "@jupyter-widgets/controls",
      "model_module_version": "1.5.0",
      "model_name": "FloatSliderModel",
      "state": {
       "continuous_update": false,
       "description": "Easting",
       "layout": "IPY_MODEL_a125a4e73b264150bd7ad00d2bcfb4a8",
       "max": 319234.2051362576,
       "min": 311898.69919769425,
       "step": 0.1,
       "style": "IPY_MODEL_0ac2319ed5e54f6f86c337063c5a8d3a",
       "value": 315566.45216697594
      }
     },
     "a7c33e6c4b71409682b7778927e7479e": {
      "model_module": "@jupyter-widgets/base",
      "model_module_version": "1.2.0",
      "model_name": "LayoutModel",
      "state": {
       "display": "none",
       "width": "auto"
      }
     },
     "a7e0daf8b4c9478fa8b6b110756201c4": {
      "model_module": "@jupyter-widgets/controls",
      "model_module_version": "1.5.0",
      "model_name": "SliderStyleModel",
      "state": {
       "description_width": ""
      }
     },
     "a82baf6348624fffb12093d65fecc34d": {
      "model_module": "@jupyter-widgets/base",
      "model_module_version": "1.2.0",
      "model_name": "LayoutModel",
      "state": {}
     },
     "a889c2dae2184b178ff29f65cea53ddd": {
      "model_module": "@jupyter-widgets/base",
      "model_module_version": "1.2.0",
      "model_name": "LayoutModel",
      "state": {}
     },
     "a92c4b0547d24a73be54f794a1240230": {
      "model_module": "@jupyter-widgets/controls",
      "model_module_version": "1.5.0",
      "model_name": "ButtonModel",
      "state": {
       "description": "Cancel",
       "layout": "IPY_MODEL_f9097380de22448d89cdf5f3d39c79d1",
       "style": "IPY_MODEL_da18294955344c0f8b62282db088f2e2"
      }
     },
     "a971bf71f3af4d99847a6bc161977050": {
      "model_module": "@jupyter-widgets/base",
      "model_module_version": "1.2.0",
      "model_name": "LayoutModel",
      "state": {}
     },
     "a988170b64fa4990b73ca4d4015cb966": {
      "model_module": "@jupyter-widgets/base",
      "model_module_version": "1.2.0",
      "model_name": "LayoutModel",
      "state": {
       "grid_area": "pathlist",
       "width": "auto"
      }
     },
     "a9b4476a3be94cb997c9c98c05600968": {
      "model_module": "@jupyter-widgets/controls",
      "model_module_version": "1.5.0",
      "model_name": "DescriptionStyleModel",
      "state": {
       "description_width": ""
      }
     },
     "aa8bafad3ebc46cbb9ca511d47394049": {
      "model_module": "@jupyter-widgets/controls",
      "model_module_version": "1.5.0",
      "model_name": "DescriptionStyleModel",
      "state": {
       "description_width": ""
      }
     },
     "ab3a7dc37d624de2b969432a0900df03": {
      "model_module": "@jupyter-widgets/controls",
      "model_module_version": "1.5.0",
      "model_name": "ButtonStyleModel",
      "state": {}
     },
     "ab7978a2e8aa42609776671a352dbf60": {
      "model_module": "@jupyter-widgets/base",
      "model_module_version": "1.2.0",
      "model_name": "LayoutModel",
      "state": {
       "display": "none",
       "width": "auto"
      }
     },
     "abfe158c350240d3bdcce41b82603f86": {
      "model_module": "@jupyter-widgets/controls",
      "model_module_version": "1.5.0",
      "model_name": "VBoxModel",
      "state": {
       "children": [
        "IPY_MODEL_af22465a344640b38f61f64a0d05e041",
        "IPY_MODEL_48b26089a8134f87810798c58943229f",
        "IPY_MODEL_415a4a5181a841dfbbf93792fc64cece"
       ],
       "layout": "IPY_MODEL_a05db40189e8414899da752c9bf3aca9"
      }
     },
     "ac023a8586ca4fc89a5cc00319be6ea1": {
      "model_module": "@jupyter-widgets/controls",
      "model_module_version": "1.5.0",
      "model_name": "ToggleButtonModel",
      "state": {
       "description": "Zoom on selection",
       "icon": "check",
       "layout": "IPY_MODEL_d12e2fa2ef3c45dcb86c2365a6803b3f",
       "style": "IPY_MODEL_3fc545adfccb4df392ff98a346383a30",
       "tooltip": "Keep plot extent on selection",
       "value": true
      }
     },
     "ac4d2a136e59454388e96bcf7bd597dc": {
      "model_module": "@jupyter-widgets/controls",
      "model_module_version": "1.5.0",
      "model_name": "TextModel",
      "state": {
       "layout": "IPY_MODEL_3457e8a7192a41ada6d80e6e56d5382b",
       "placeholder": "output filename",
       "style": "IPY_MODEL_2f3d17e8888b49e78f19a3c6c87442fc",
       "value": "FlinFlon.geoh5"
      }
     },
     "ac7cacb9479046acb045b970cedfe50f": {
      "model_module": "@jupyter-widgets/base",
      "model_module_version": "1.2.0",
      "model_name": "LayoutModel",
      "state": {}
     },
     "acb2689f5d394207b00c36db4aac96cd": {
      "model_module": "@jupyter-widgets/controls",
      "model_module_version": "1.5.0",
      "model_name": "ButtonStyleModel",
      "state": {}
     },
     "ad69e9dad392452cb84cbf2d7a12c304": {
      "model_module": "@jupyter-widgets/base",
      "model_module_version": "1.2.0",
      "model_name": "LayoutModel",
      "state": {}
     },
     "ad8c53ccff0a4e2ca74b86b9ccea3860": {
      "model_module": "@jupyter-widgets/controls",
      "model_module_version": "1.5.0",
      "model_name": "VBoxModel",
      "state": {
       "children": [
        "IPY_MODEL_3013443408044444886af8fc6577383b",
        "IPY_MODEL_c53cee79fa50406ab997d7f62fef6a70"
       ],
       "layout": "IPY_MODEL_6bd3217688a2499092671fb78fd601cd"
      }
     },
     "ada9e8b2011e4cd0868b070933897ca5": {
      "model_module": "@jupyter-widgets/controls",
      "model_module_version": "1.5.0",
      "model_name": "VBoxModel",
      "state": {
       "children": [
        "IPY_MODEL_3cb6be906c5c486a9901865c263322b9",
        "IPY_MODEL_24d189b3ba164f06b1526cf4bb0e6ef7"
       ],
       "layout": "IPY_MODEL_b23a07fcef3e44cea4601346d34ad151"
      }
     },
     "adb5137688614540a666a777e3d1a5ca": {
      "model_module": "@jupyter-widgets/controls",
      "model_module_version": "1.5.0",
      "model_name": "HTMLModel",
      "state": {
       "layout": "IPY_MODEL_30a765a5ff23443b8861c8a410738bd5",
       "style": "IPY_MODEL_a9b4476a3be94cb997c9c98c05600968"
      }
     },
     "ae2687074d0c4d9eb9e6612af15c4b9f": {
      "model_module": "@jupyter-widgets/controls",
      "model_module_version": "1.5.0",
      "model_name": "ButtonModel",
      "state": {
       "description": "Select",
       "layout": "IPY_MODEL_4ba52d276220400ba1e4e60840a1cffe",
       "style": "IPY_MODEL_f0991ec3a85949969f239b63a252dc6f"
      }
     },
     "ae4636b6847e43128a06ad1dcdbc9df9": {
      "model_module": "@jupyter-widgets/controls",
      "model_module_version": "1.5.0",
      "model_name": "SliderStyleModel",
      "state": {
       "description_width": ""
      }
     },
     "ae72282ae591435882fdf29fcedc2d9c": {
      "model_module": "@jupyter-widgets/controls",
      "model_module_version": "1.5.0",
      "model_name": "DescriptionStyleModel",
      "state": {
       "description_width": "initial"
      }
     },
     "ae842dcf65c44a2fb72237269339ece2": {
      "model_module": "@jupyter-widgets/controls",
      "model_module_version": "1.5.0",
      "model_name": "SliderStyleModel",
      "state": {
       "description_width": ""
      }
     },
     "aecb5bc2b0474c43abd9926829ea2c25": {
      "model_module": "@jupyter-widgets/controls",
      "model_module_version": "1.5.0",
      "model_name": "DescriptionStyleModel",
      "state": {
       "description_width": ""
      }
     },
     "af22465a344640b38f61f64a0d05e041": {
      "model_module": "@jupyter-widgets/controls",
      "model_module_version": "1.5.0",
      "model_name": "HTMLModel",
      "state": {
       "layout": "IPY_MODEL_6633f115fd5844ab99d1ae3728992d25",
       "style": "IPY_MODEL_277cac321eec47d8b5daffa3939700b7"
      }
     },
     "af3ec699c9a4483c816887a1a478cb67": {
      "model_module": "@jupyter-widgets/controls",
      "model_module_version": "1.5.0",
      "model_name": "FloatSliderModel",
      "state": {
       "continuous_update": false,
       "description": "Width",
       "layout": "IPY_MODEL_160c965573eb49f6ac1e0065f5c85d90",
       "max": 7335.505938563321,
       "step": 0.1,
       "style": "IPY_MODEL_14959983f3384d6c819de2b786560453",
       "value": 3667.7529692816606
      }
     },
     "af4dfed0eb614140b2f4ec172acf0ba1": {
      "model_module": "@jupyter-widgets/controls",
      "model_module_version": "1.5.0",
      "model_name": "DescriptionStyleModel",
      "state": {
       "description_width": ""
      }
     },
     "b04be3b428ad4037801730e375dfc1a7": {
      "model_module": "@jupyter-widgets/controls",
      "model_module_version": "1.5.0",
      "model_name": "VBoxModel",
      "state": {
       "children": [
        "IPY_MODEL_baa3ebd5a9874f489db2cd1792ae4a7d",
        "IPY_MODEL_abfe158c350240d3bdcce41b82603f86"
       ],
       "layout": "IPY_MODEL_0d1b1c2b319d40c79be112906de28888"
      }
     },
     "b10b924c3a2d4016827b7c7fb5cb2bc3": {
      "model_module": "@jupyter-widgets/controls",
      "model_module_version": "1.5.0",
      "model_name": "CheckboxModel",
      "state": {
       "description": "GA Pro - Live link",
       "disabled": false,
       "indent": false,
       "layout": "IPY_MODEL_83b251345b994e09a60566e142bbc851",
       "style": "IPY_MODEL_516af62fcb3842a5bf71d5ce4a35fe60",
       "value": false
      }
     },
     "b136b2ac0dd14b90aae105a7ef33b9d9": {
      "model_module": "@jupyter-widgets/controls",
      "model_module_version": "1.5.0",
      "model_name": "VBoxModel",
      "state": {
       "children": [
        "IPY_MODEL_8b23ef9bd25f431e8291232be8dcc0ad"
       ],
       "layout": "IPY_MODEL_9e2ef7cd7b644839a967a4fc4bee3b6b"
      }
     },
     "b1c41b3030454df7a22208e77eb40528": {
      "model_module": "@jupyter-widgets/controls",
      "model_module_version": "1.5.0",
      "model_name": "VBoxModel",
      "state": {
       "children": [
        "IPY_MODEL_769e7f0c9058492bb10ac12ef26195a1",
        "IPY_MODEL_565076f5cee14051b1d9360661a75add",
        "IPY_MODEL_5dcbeda01b0e402bb318984863810f69"
       ],
       "layout": "IPY_MODEL_23b93f0c3e5e43f09abb902b43fbf7e5"
      }
     },
     "b1d49c4aded74a9193fbb7b07e206664": {
      "model_module": "@jupyter-widgets/controls",
      "model_module_version": "1.5.0",
      "model_name": "VBoxModel",
      "state": {
       "children": [
        "IPY_MODEL_5d40f7b99f564319920b6599becff915",
        "IPY_MODEL_4a719f7dbbd642dd8b3c97a3a0ec915d",
        "IPY_MODEL_f56e45052b3b4c97b89f16ec45069fee",
        "IPY_MODEL_1dcd10ef1cdf45fcbac7b6c60084de28",
        "IPY_MODEL_5cb240baa1dc437abc98b3e4b0bf38cc"
       ],
       "layout": "IPY_MODEL_36c2fea6174241179275b0ef569f1928"
      }
     },
     "b1e19a48098e4d64973b2b53ac5545c6": {
      "model_module": "@jupyter-widgets/base",
      "model_module_version": "1.2.0",
      "model_name": "LayoutModel",
      "state": {}
     },
     "b23a07fcef3e44cea4601346d34ad151": {
      "model_module": "@jupyter-widgets/base",
      "model_module_version": "1.2.0",
      "model_name": "LayoutModel",
      "state": {}
     },
     "b24c7b09bf944337af5dba8631bd4ce3": {
      "model_module": "@jupyter-widgets/controls",
      "model_module_version": "1.5.0",
      "model_name": "HBoxModel",
      "state": {
       "children": [
        "IPY_MODEL_36a4dc4bb9aa42a39c9dcaf56b3b66dd",
        "IPY_MODEL_d64c712ebdf5409baa4cc3e6acd1288b",
        "IPY_MODEL_fc9db2cfb300461a9c266b220d982b81"
       ],
       "layout": "IPY_MODEL_c56dc9bf32b34ad1968ac48df0dc2eb8"
      }
     },
     "b2710c26548b42d8b050319625c58898": {
      "model_module": "@jupyter-widgets/controls",
      "model_module_version": "1.5.0",
      "model_name": "GridBoxModel",
      "state": {
       "children": [
        "IPY_MODEL_4cbcf1e30c1e494ea644ed49804b7009",
        "IPY_MODEL_dcde27b2f39345c7ae687faa1c037c6e",
        "IPY_MODEL_27b87017a9e446ba8034df14868518a2"
       ],
       "layout": "IPY_MODEL_0e0726d36b3c43589ded8bfec6a1871e"
      }
     },
     "b2f47b4d94e440babd3d184a3e3c5cda": {
      "model_module": "@jupyter-widgets/controls",
      "model_module_version": "1.5.0",
      "model_name": "ButtonStyleModel",
      "state": {}
     },
     "b30c167aea924d05aa93fc066f0fa3f6": {
      "model_module": "@jupyter-widgets/controls",
      "model_module_version": "1.5.0",
      "model_name": "VBoxModel",
      "state": {
       "children": [
        "IPY_MODEL_7c883656bd3a4c7d8fee64f5d23136e5",
        "IPY_MODEL_b136b2ac0dd14b90aae105a7ef33b9d9"
       ],
       "layout": "IPY_MODEL_8ff5010a1e0140dc93f4e2b0418ccc74"
      }
     },
     "b3767b220e9644e7b96bb2e61cb1e115": {
      "model_module": "@jupyter-widgets/base",
      "model_module_version": "1.2.0",
      "model_name": "LayoutModel",
      "state": {}
     },
     "b3878cc4b2bc4a87a2b83d8429ac3924": {
      "model_module": "@jupyter-widgets/controls",
      "model_module_version": "1.5.0",
      "model_name": "HBoxModel",
      "state": {
       "children": [
        "IPY_MODEL_72fdaff0a68d48f1b9993fcda7ea6a10",
        "IPY_MODEL_5d9147b2330444bc87caa29c45ecf539",
        "IPY_MODEL_5199b85e358542f3afe21e41b663e705"
       ],
       "layout": "IPY_MODEL_f037258e766c493aa3dac3f0930ee896"
      }
     },
     "b4148bf719d1408b96e75fd6172a5961": {
      "model_module": "@jupyter-widgets/controls",
      "model_module_version": "1.5.0",
      "model_name": "LabelModel",
      "state": {
       "layout": "IPY_MODEL_751464824a7b42c59eb18c54bcfe50de",
       "style": "IPY_MODEL_0df6b494daf64312b118398193033391",
       "value": "Data Count: 21362"
      }
     },
     "b5e081305f6b4e10b5929bde8ca8a97f": {
      "model_module": "@jupyter-widgets/controls",
      "model_module_version": "1.5.0",
      "model_name": "DescriptionStyleModel",
      "state": {
       "description_width": ""
      }
     },
     "b5e1767aff224c2eb7337d24f3a0da5f": {
      "model_module": "@jupyter-widgets/controls",
      "model_module_version": "1.5.0",
      "model_name": "DescriptionStyleModel",
      "state": {
       "description_width": ""
      }
     },
     "b5e1be266ce54e0992ad10af82b5ccfb": {
      "model_module": "@jupyter-widgets/controls",
      "model_module_version": "1.5.0",
      "model_name": "DescriptionStyleModel",
      "state": {
       "description_width": "initial"
      }
     },
     "b670f62d80dd46da904511afeff807b0": {
      "model_module": "@jupyter-widgets/controls",
      "model_module_version": "1.5.0",
      "model_name": "SelectModel",
      "state": {
       "_options_labels": [
        "..",
        "images"
       ],
       "index": null,
       "layout": "IPY_MODEL_f961af4d59fe47e4863a1c1744f5de40",
       "rows": 8,
       "style": "IPY_MODEL_2a677f1230f142a1970bda4115c905ff"
      }
     },
     "b6dae48a90564e3c841e985a7b03a0ec": {
      "model_module": "@jupyter-widgets/controls",
      "model_module_version": "1.5.0",
      "model_name": "CheckboxModel",
      "state": {
       "description": "GA Pro - Live link",
       "disabled": false,
       "indent": false,
       "layout": "IPY_MODEL_b1e19a48098e4d64973b2b53ac5545c6",
       "style": "IPY_MODEL_88c67ded7a2c4db8a23c846b9cb4ebfb",
       "value": false
      }
     },
     "b70692af0ed041d38e570a0616b2d7ad": {
      "model_module": "@jupyter-widgets/controls",
      "model_module_version": "1.5.0",
      "model_name": "DescriptionStyleModel",
      "state": {
       "description_width": ""
      }
     },
     "b731141695f24782b31680ea018c2b73": {
      "model_module": "@jupyter-widgets/controls",
      "model_module_version": "1.5.0",
      "model_name": "VBoxModel",
      "state": {
       "children": [
        "IPY_MODEL_f7f72d7e14ac423bbd7bb9ed9ca126a5",
        "IPY_MODEL_f6040ef1268545d7b8b7214abf03882f"
       ],
       "layout": "IPY_MODEL_073c7ac65be8487897d30e12215feb6b"
      }
     },
     "b7412339be834919aeef8c490f5aca0e": {
      "model_module": "@jupyter-widgets/controls",
      "model_module_version": "1.5.0",
      "model_name": "DescriptionStyleModel",
      "state": {
       "description_width": "initial"
      }
     },
     "b7623dd7944d4c1abd27269ccd50521b": {
      "model_module": "@jupyter-widgets/controls",
      "model_module_version": "1.5.0",
      "model_name": "TextModel",
      "state": {
       "disabled": true,
       "layout": "IPY_MODEL_d23f6e97f133458bacded2fde7a6ee5c",
       "placeholder": "output filename",
       "style": "IPY_MODEL_d16e8656c6a146d19d97a941256b1ddc"
      }
     },
     "b7e13ef8afd44784abca4d3060a7c788": {
      "model_module": "@jupyter-widgets/base",
      "model_module_version": "1.2.0",
      "model_name": "LayoutModel",
      "state": {}
     },
     "b8111841cae24158af2bccdc5ff3b20e": {
      "model_module": "@jupyter-widgets/base",
      "model_module_version": "1.2.0",
      "model_name": "LayoutModel",
      "state": {}
     },
     "b884080281704c8396f5dbdcfcfbab2a": {
      "model_module": "@jupyter-widgets/controls",
      "model_module_version": "1.5.0",
      "model_name": "HBoxModel",
      "state": {
       "children": [
        "IPY_MODEL_ae2687074d0c4d9eb9e6612af15c4b9f",
        "IPY_MODEL_f84e4d994659451ba565e75d33573e84",
        "IPY_MODEL_2c20dd62c07744a88822389a90296972"
       ],
       "layout": "IPY_MODEL_372589b4ca684ed7ac71bcd408f3feda"
      }
     },
     "b8b6d26091904dfb997ae2570f38cc1d": {
      "model_module": "@jupyter-widgets/base",
      "model_module_version": "1.2.0",
      "model_name": "LayoutModel",
      "state": {}
     },
     "b8d97428ae6242308207bfcdf729fe94": {
      "model_module": "@jupyter-widgets/controls",
      "model_module_version": "1.5.0",
      "model_name": "VBoxModel",
      "state": {
       "children": [
        "IPY_MODEL_b10b924c3a2d4016827b7c7fb5cb2bc3"
       ],
       "layout": "IPY_MODEL_3a5be4e734124aca92af9d59712e623f"
      }
     },
     "b8f494b414bb48bf93acc63e16d4f13e": {
      "model_module": "@jupyter-widgets/base",
      "model_module_version": "1.2.0",
      "model_name": "LayoutModel",
      "state": {
       "grid_area": "dircontent",
       "width": "auto"
      }
     },
     "b8f9c8a20926442ab9d3f4ef9f5326df": {
      "model_module": "@jupyter-widgets/base",
      "model_module_version": "1.2.0",
      "model_name": "LayoutModel",
      "state": {}
     },
     "baa3ebd5a9874f489db2cd1792ae4a7d": {
      "model_module": "@jupyter-widgets/controls",
      "model_module_version": "1.5.0",
      "model_name": "LabelModel",
      "state": {
       "layout": "IPY_MODEL_bade5cefec28410d96b57d665b990f93",
       "style": "IPY_MODEL_ce1532e20f9d497baafae93584f624cb",
       "value": "Monitoring folder"
      }
     },
     "bacc9bdd6cf5484288a7c5be5903295a": {
      "model_module": "@jupyter-widgets/controls",
      "model_module_version": "1.5.0",
      "model_name": "ToggleButtonModel",
      "state": {
       "layout": "IPY_MODEL_b8b6d26091904dfb997ae2570f38cc1d",
       "style": "IPY_MODEL_fccaac584cb14e81b7f6ade9c6919339",
       "value": true
      }
     },
     "bade5cefec28410d96b57d665b990f93": {
      "model_module": "@jupyter-widgets/base",
      "model_module_version": "1.2.0",
      "model_name": "LayoutModel",
      "state": {}
     },
     "bb87143153b3481595ab387f5484b9b9": {
      "model_module": "@jupyter-widgets/controls",
      "model_module_version": "1.5.0",
      "model_name": "VBoxModel",
      "state": {
       "children": [
        "IPY_MODEL_4248eaa61bae40909c82e99e8e2696ac",
        "IPY_MODEL_ffc808d478b94962aac45b46d56accda"
       ],
       "layout": "IPY_MODEL_469500d3442c4deba5ac6d03597b3fa1"
      }
     },
     "bc1c245792d8466ebad0d7e7bc36a0f1": {
      "model_module": "@jupyter-widgets/base",
      "model_module_version": "1.2.0",
      "model_name": "LayoutModel",
      "state": {}
     },
     "bcc520f023484bf48eb018d5e478f6b5": {
      "model_module": "@jupyter-widgets/controls",
      "model_module_version": "1.5.0",
      "model_name": "LabelModel",
      "state": {
       "layout": "IPY_MODEL_23e2d20ce0f94846928cf1ea8481d840",
       "style": "IPY_MODEL_7fa6c1ec5b9149738b4eb4c220c272b6",
       "value": "Data Count: 21362"
      }
     },
     "bcc661433279450d9bde1e6ae6ee2859": {
      "model_module": "@jupyter-widgets/base",
      "model_module_version": "1.2.0",
      "model_name": "LayoutModel",
      "state": {}
     },
     "bce00987d372485a97dc9945bc5dc27e": {
      "model_module": "@jupyter-widgets/controls",
      "model_module_version": "1.5.0",
      "model_name": "DescriptionStyleModel",
      "state": {
       "description_width": "initial"
      }
     },
     "bce2afb8af17485c81ead6c814813957": {
      "model_module": "@jupyter-widgets/base",
      "model_module_version": "1.2.0",
      "model_name": "LayoutModel",
      "state": {
       "display": "none"
      }
     },
     "bcf7aac8f76e452e86fa7aba0f6dd5d3": {
      "model_module": "@jupyter-widgets/base",
      "model_module_version": "1.2.0",
      "model_name": "LayoutModel",
      "state": {}
     },
     "bd567437ab2c43899d9ffb553a4fec69": {
      "model_module": "@jupyter-widgets/controls",
      "model_module_version": "1.5.0",
      "model_name": "DescriptionStyleModel",
      "state": {
       "description_width": ""
      }
     },
     "bd95ef2b421f4cf8add87beba9b546b5": {
      "model_module": "@jupyter-widgets/base",
      "model_module_version": "1.2.0",
      "model_name": "LayoutModel",
      "state": {}
     },
     "bd97de95ad2c40849176ec73400a4b5a": {
      "model_module": "@jupyter-widgets/base",
      "model_module_version": "1.2.0",
      "model_name": "LayoutModel",
      "state": {}
     },
     "bdd7b58352584e60b861ab91a045d2b6": {
      "model_module": "@jupyter-widgets/controls",
      "model_module_version": "1.5.0",
      "model_name": "ButtonModel",
      "state": {
       "description": "Create copy:",
       "layout": "IPY_MODEL_4a5762da818e44ed94345032b89a1916",
       "style": "IPY_MODEL_33a1b76e56b34f68bd45cd61e961b506"
      }
     },
     "bf3be8d7e61c46fd93b1862d47c5c0d9": {
      "model_module": "@jupyter-widgets/controls",
      "model_module_version": "1.5.0",
      "model_name": "VBoxModel",
      "state": {
       "children": [
        "IPY_MODEL_333141d2971a40589d45e27cda703674",
        "IPY_MODEL_c2bb5a2600214a889a79b9352c534e3e",
        "IPY_MODEL_449a2bc2cd5e4127bdb9302d45cd0b16"
       ],
       "layout": "IPY_MODEL_5e19f443d9ab49d9b9c024ab7ae48932"
      }
     },
     "bf927d419a3d4a5596cf36157fbd78ab": {
      "model_module": "@jupyter-widgets/base",
      "model_module_version": "1.2.0",
      "model_name": "LayoutModel",
      "state": {
       "grid_area": "pathlist",
       "width": "auto"
      }
     },
     "c00e15a57ed14c49a0b8bfaab477ce78": {
      "model_module": "@jupyter-widgets/controls",
      "model_module_version": "1.5.0",
      "model_name": "ButtonStyleModel",
      "state": {}
     },
     "c0c1edc42f4b4e58a2efb8ee3f284e1f": {
      "model_module": "@jupyter-widgets/controls",
      "model_module_version": "1.5.0",
      "model_name": "FloatSliderModel",
      "state": {
       "continuous_update": false,
       "description": "Height",
       "layout": "IPY_MODEL_0383f33de4a84b3fb63a3f8d60c7916a",
       "max": 11351.865002485923,
       "orientation": "vertical",
       "step": 0.1,
       "style": "IPY_MODEL_704d16c1bfd74c1090c3b2e70f460c12",
       "value": 5675.932501242962
      }
     },
     "c15f37be7874402da2967c76637d4367": {
      "model_module": "@jupyter-widgets/controls",
      "model_module_version": "1.5.0",
      "model_name": "SliderStyleModel",
      "state": {
       "description_width": ""
      }
     },
     "c2144b689ebf4dbd86daf03c38e79762": {
      "model_module": "@jupyter-widgets/base",
      "model_module_version": "1.2.0",
      "model_name": "LayoutModel",
      "state": {}
     },
     "c23d9ea0f0fc45118ff325ef328e5aae": {
      "model_module": "@jupyter-widgets/controls",
      "model_module_version": "1.5.0",
      "model_name": "DescriptionStyleModel",
      "state": {
       "description_width": ""
      }
     },
     "c2bb5a2600214a889a79b9352c534e3e": {
      "model_module": "@jupyter-widgets/controls",
      "model_module_version": "1.5.0",
      "model_name": "GridBoxModel",
      "state": {
       "children": [
        "IPY_MODEL_815a6db119e44e49abb2e42fbf6e5afd",
        "IPY_MODEL_b7623dd7944d4c1abd27269ccd50521b",
        "IPY_MODEL_a408c3d2c6d6468f99acb4a54e323de5"
       ],
       "layout": "IPY_MODEL_7ad6c5ed819f433ea360154038c5fed5"
      }
     },
     "c33ca18993154706aeb31e9d8c8fa44a": {
      "model_module": "@jupyter-widgets/controls",
      "model_module_version": "1.5.0",
      "model_name": "FloatTextModel",
      "state": {
       "description": "Grid Resolution (m)",
       "layout": "IPY_MODEL_52dbac5f5da04ad1a2d0277a9fc3b44b",
       "step": null,
       "style": "IPY_MODEL_dcaa7d374c1344cca698ae3e788ead4d"
      }
     },
     "c40248223b2042ca8c69f44228812239": {
      "model_module": "@jupyter-widgets/controls",
      "model_module_version": "1.5.0",
      "model_name": "VBoxModel",
      "state": {
       "children": [
        "IPY_MODEL_cb5a3545f5d94f34b4a523121a482023",
        "IPY_MODEL_f36d590af2364cb5a7a260a2c93e7266",
        "IPY_MODEL_91cfc6d65b8a4f598e0323e71063dbd7"
       ],
       "layout": "IPY_MODEL_0f9e2c2667f840e88efb73b613a0120d"
      }
     },
     "c410779901d542caaff227fab2ba786a": {
      "model_module": "@jupyter-widgets/controls",
      "model_module_version": "1.5.0",
      "model_name": "VBoxModel",
      "state": {
       "children": [
        "IPY_MODEL_3b90423a4cee41039a7156e12f1f3b9b",
        "IPY_MODEL_b2710c26548b42d8b050319625c58898",
        "IPY_MODEL_1f446c76526a4ec9bc96f80e6c6b35f6"
       ],
       "layout": "IPY_MODEL_d39c5e1197c0496ba4e68c31160cdceb"
      }
     },
     "c42bf90027fd445faaa4f50f30f8cd7c": {
      "model_module": "@jupyter-widgets/base",
      "model_module_version": "1.2.0",
      "model_name": "LayoutModel",
      "state": {}
     },
     "c447b31c64e5413eb9f999e89f583b42": {
      "model_module": "@jupyter-widgets/controls",
      "model_module_version": "1.5.0",
      "model_name": "CheckboxModel",
      "state": {
       "description": "GA Pro - Live link",
       "disabled": false,
       "indent": false,
       "layout": "IPY_MODEL_16019787070a44cf89b0b0d09b1593fe",
       "style": "IPY_MODEL_71f71f16ed634b38a07474c00c68a7a6",
       "value": false
      }
     },
     "c4858a29b30c4cb4bdd8849ef721824e": {
      "model_module": "@jupyter-widgets/controls",
      "model_module_version": "1.5.0",
      "model_name": "DescriptionStyleModel",
      "state": {
       "description_width": ""
      }
     },
     "c4aef16674bd4877bf9723e049acf982": {
      "model_module": "@jupyter-widgets/base",
      "model_module_version": "1.2.0",
      "model_name": "LayoutModel",
      "state": {}
     },
     "c4d615dd54ed4fa189ffd3acc9cb9ec7": {
      "model_module": "@jupyter-widgets/controls",
      "model_module_version": "1.5.0",
      "model_name": "DropdownModel",
      "state": {
       "_options_labels": [
        "",
        "fault_splay1",
        "fault_Cliff_Lake",
        "fault_Other_FlinFlon",
        "fault_Club_Lake_splay",
        "fault_Catherine_splay2",
        "fault_Birch_View",
        "fault_Dion_Lake",
        "fault_FlinFlon_splay",
        "fault_West_Mandy_Road",
        "fault_Channing",
        "fault_Ross_Lake",
        "fault_Louis_Hidden",
        "fault_Lake_View_thrust",
        "contact_Schist_Lake",
        "fault_Burley_Lake",
        "fault_Dion_Lake_splay",
        "fault_Green_Lake",
        "fault_FlinFlon",
        "fault_Catherine_splay1",
        "fault_East_Mandy_Road",
        "fault_Other_FlinFlon_South",
        "fault_Catherine_splay4",
        "contact_Stitt_Island",
        "fault_Club_Lake",
        "fault_Tailing_Pond",
        "35_Hidden_Reservoir_Hr5",
        "29_Hidden_Reservoir_Hr1a",
        "60_BlueLagoon_Fb2",
        "20_FlinFlon_Undivided_Int_Dykes_D2f",
        "04_Boundary_Intrusive_S4h",
        "53_Millrock_Rhyolite_Fm4b",
        "19_FlinFlon_Undivided_Int_Dykes_D2b",
        "18_FlinFlon_Undivided_Int_Dykes_777_D2b",
        "06_Phantom_Lake_Intrusive_S3a",
        "21_FlinFlon_Undivided_Int_Dykes_D3a",
        "43_Millrock_CHLSH_South",
        "56_Millrock_Basalt_Fm1ba",
        "17_FlinFlon_Undivided_Int_Dykes_D2",
        "32_Hidden_Reservoir_Hr1b_SW",
        "11_Missi_M3_NE",
        "13_Missi_M1",
        "07_Annabel_Granitoid_S1",
        "45_Millrock_Gabbro_South",
        "01_Late_Intrusive_S5b",
        "31_Hidden_Reservoir_Hr1c_SW",
        "52_Millrock_Rhyolite_Fm4_West_check",
        "55_Millrock_Basalt_Fm1bf",
        "34_Hidden_Reservoir_Hr2b",
        "03_Boundary_Intrusive_S4b",
        "42_Millrock_CHLSH_North",
        "26_Louis_L3",
        "23_FlinFlon_Undivided_Int_Felsic_D4g",
        "30_Hidden_Reservoir_Hr1b",
        "59_BlueLagoon_Fb3",
        "49_Millrock_MVR_Fm5d",
        "44_Millrock_Gabbro_North",
        "27_Hidden_Carlisle_Hc4",
        "22_FlinFlon_Undivided_Int_Felsic_D4e",
        "02_Boundary_Intrusive_S4a",
        "61_BlueLagoon_Fb1_NW",
        "05_Boundary_Intrusive_S4g",
        "39_Ore_Callinan",
        "38_Ore_Dan_Owens",
        "40_Ore_FlinFlon",
        "Inversion_VTEM_Model",
        "Gravity_Magnetics_drape60m",
        "CDI_VTEM_model",
        "Data_FEM_pseudo3D",
        "O2O_Interp_25m",
        "geochem",
        "Inversion_DIGHEM_Model",
        "Topography",
        "Data_TEM_pseudo3D"
       ],
       "description": "Object:",
       "index": 66,
       "layout": "IPY_MODEL_f94ae840ee6545bca56290651acfdfb1",
       "style": "IPY_MODEL_63bb97fa66554334b8a8ead585c0c2ba"
      }
     },
     "c53cee79fa50406ab997d7f62fef6a70": {
      "model_module": "@jupyter-widgets/controls",
      "model_module_version": "1.5.0",
      "model_name": "VBoxModel",
      "state": {
       "children": [
        "IPY_MODEL_014b43a7352a468f917e6638acfdb02b"
       ],
       "layout": "IPY_MODEL_df6a9e07cbf248efa89758d142090545"
      }
     },
     "c5597ebb9b82495c9e6060819f214b38": {
      "model_module": "@jupyter-widgets/base",
      "model_module_version": "1.2.0",
      "model_name": "LayoutModel",
      "state": {}
     },
     "c56dc9bf32b34ad1968ac48df0dc2eb8": {
      "model_module": "@jupyter-widgets/base",
      "model_module_version": "1.2.0",
      "model_name": "LayoutModel",
      "state": {
       "align_items": "center"
      }
     },
     "c5788825b691423f9bd534f44f13bfb9": {
      "model_module": "@jupyter-widgets/controls",
      "model_module_version": "1.5.0",
      "model_name": "DescriptionStyleModel",
      "state": {
       "description_width": ""
      }
     },
     "c60ee3b89bdc4041bfac401fb187bc3c": {
      "model_module": "@jupyter-widgets/base",
      "model_module_version": "1.2.0",
      "model_name": "LayoutModel",
      "state": {
       "display": "none",
       "grid_gap": "0px 0px",
       "grid_template_areas": "\n                    'pathlist filename'\n                    'dircontent dircontent'\n                    ",
       "grid_template_columns": "60% 40%",
       "grid_template_rows": "auto auto",
       "width": "500px"
      }
     },
     "c6363265596a4fa39ce25208155ed3d5": {
      "model_module": "@jupyter-widgets/controls",
      "model_module_version": "1.5.0",
      "model_name": "FloatTextModel",
      "state": {
       "description": "Grid Resolution (m)",
       "layout": "IPY_MODEL_2c653aae5da0491f82225b9a08a5c034",
       "step": null,
       "style": "IPY_MODEL_8802404043c240a4b476ef7849a58077"
      }
     },
     "c69d0cdd986f4ec19307a85553414ec8": {
      "model_module": "@jupyter-widgets/base",
      "model_module_version": "1.2.0",
      "model_name": "LayoutModel",
      "state": {
       "display": "none",
       "grid_area": "filename",
       "width": "auto"
      }
     },
     "c70b3ae11abd4ae5b6d06fb1903e4800": {
      "model_module": "@jupyter-widgets/base",
      "model_module_version": "1.2.0",
      "model_name": "LayoutModel",
      "state": {}
     },
     "c7112c8b20e746059e197e7d7dee5784": {
      "model_module": "@jupyter-widgets/controls",
      "model_module_version": "1.5.0",
      "model_name": "SelectModel",
      "state": {
       "_options_labels": [
        "..",
        "Temp",
        "dask-worker-space",
        "Crossplot.html",
        "FlinFlon.geoh5",
        "FlinFlon_light.geoh5",
        "MtDore_TMI.geoh5"
       ],
       "index": 4,
       "layout": "IPY_MODEL_b8f494b414bb48bf93acc63e16d4f13e",
       "rows": 8,
       "style": "IPY_MODEL_b5e1767aff224c2eb7337d24f3a0da5f"
      }
     },
     "c75f8f1a11eb4c668b0a308419459dc6": {
      "model_module": "@jupyter-widgets/base",
      "model_module_version": "1.2.0",
      "model_name": "LayoutModel",
      "state": {}
     },
     "c77d32ee6aa641dbacf4766431555c3a": {
      "model_module": "@jupyter-widgets/controls",
      "model_module_version": "1.5.0",
      "model_name": "VBoxModel",
      "state": {
       "children": [
        "IPY_MODEL_0d9ad353232d4eaa96575818df9314a5",
        "IPY_MODEL_f2d2c77ae82d4e2d8a83073f2d69f2c6"
       ],
       "layout": "IPY_MODEL_8c2e264b8acd409688af601e80ada5b7"
      }
     },
     "c80124a9cba449428dee91f72faec323": {
      "model_module": "@jupyter-widgets/controls",
      "model_module_version": "1.5.0",
      "model_name": "HTMLModel",
      "state": {
       "layout": "IPY_MODEL_fd8c118cdd3e483d8012c723bd22fe3d",
       "placeholder": "",
       "style": "IPY_MODEL_a2235960847a47eb9968191866edf65b",
       "value": "<span style=\"margin-left:10px; color:black;\">No file selected</span>"
      }
     },
     "c86b2991d6114994a3a9e40b94ae37da": {
      "model_module": "@jupyter-widgets/base",
      "model_module_version": "1.2.0",
      "model_name": "LayoutModel",
      "state": {}
     },
     "c89a52ade2d147e897d3af66d8bd5cab": {
      "model_module": "@jupyter-widgets/controls",
      "model_module_version": "1.5.0",
      "model_name": "ButtonStyleModel",
      "state": {}
     },
     "c89d062109094a16b330c01f9c00302e": {
      "model_module": "@jupyter-widgets/controls",
      "model_module_version": "1.5.0",
      "model_name": "VBoxModel",
      "state": {
       "children": [
        "IPY_MODEL_21243e7f624e4eec93f67ea29accdf93",
        "IPY_MODEL_b24c7b09bf944337af5dba8631bd4ce3"
       ],
       "layout": "IPY_MODEL_ffef53b161f9474a9e73b99eaff48f34"
      }
     },
     "ca42c65ead7345dfa377834f3ca54beb": {
      "model_module": "@jupyter-widgets/controls",
      "model_module_version": "1.5.0",
      "model_name": "TextModel",
      "state": {
       "continuous_update": false,
       "description": "Group:",
       "layout": "IPY_MODEL_f3a59bb2819447abb746d47d78ef3fb8",
       "style": "IPY_MODEL_01e5bfc7e3964c308df46be5c311beb9"
      }
     },
     "ca8331c99ac1482c912974675779403f": {
      "model_module": "@jupyter-widgets/controls",
      "model_module_version": "1.5.0",
      "model_name": "DescriptionStyleModel",
      "state": {
       "description_width": ""
      }
     },
     "ca995dc2910b45ca9e24cc27fff64294": {
      "model_module": "@jupyter-widgets/base",
      "model_module_version": "1.2.0",
      "model_name": "LayoutModel",
      "state": {
       "width": "auto"
      }
     },
     "cac2886a62584b2e823ae3939e51f893": {
      "model_module": "@jupyter-widgets/controls",
      "model_module_version": "1.5.0",
      "model_name": "VBoxModel",
      "state": {
       "children": [
        "IPY_MODEL_af3ec699c9a4483c816887a1a478cb67",
        "IPY_MODEL_da724d29d3c04cada25ed9a30ed6945b",
        "IPY_MODEL_4e200c9596ef4a9e850d96a8563317ae",
        "IPY_MODEL_dadc6a329c4f4c2abc7328d703730b5f",
        "IPY_MODEL_2f0e2922f72f41498839fbab3974e66a"
       ],
       "layout": "IPY_MODEL_fb4f720fddb444e68e29d40e83f72c5e"
      }
     },
     "cb1fcc58266042e68091f2cffdf12b42": {
      "model_module": "@jupyter-widgets/controls",
      "model_module_version": "1.5.0",
      "model_name": "VBoxModel",
      "state": {
       "children": [
        "IPY_MODEL_963d2c5e9fed4e49beb8dd6c55ce5703",
        "IPY_MODEL_120dc620d6f7475ba80053f687226003",
        "IPY_MODEL_a461e917a6a74fdca0495eadf99c426d",
        "IPY_MODEL_a09cc3a604524ee0ade457935491a507",
        "IPY_MODEL_22b2c99a3dde44c0982fa5386fe888b5"
       ],
       "layout": "IPY_MODEL_27026584a1e34b73a207193e3169f1b9"
      }
     },
     "cb560a0230ab4c519a9c490f6c13b2c3": {
      "model_module": "@jupyter-widgets/controls",
      "model_module_version": "1.5.0",
      "model_name": "GridBoxModel",
      "state": {
       "children": [
        "IPY_MODEL_9e913b7954224eec8a33c54630545740",
        "IPY_MODEL_09f1b9e7c8be4aaca35f4b480f34c61b",
        "IPY_MODEL_cf7e9872552e45f59a666c0f1062c7af"
       ],
       "layout": "IPY_MODEL_dd2badb30a80455f91de2fc24b9dd4ea"
      }
     },
     "cb5a3545f5d94f34b4a523121a482023": {
      "model_module": "@jupyter-widgets/controls",
      "model_module_version": "1.5.0",
      "model_name": "HTMLModel",
      "state": {
       "layout": "IPY_MODEL_6d48c3ec5c2c41398a4735919f90298b",
       "style": "IPY_MODEL_88244c646c9746b5a2acb844034fe4f4"
      }
     },
     "cb64ff051dc24310b41820cbfe11ad6b": {
      "model_module": "@jupyter-widgets/controls",
      "model_module_version": "1.5.0",
      "model_name": "DropdownModel",
      "state": {
       "_options_labels": [
        "C:\\Users\\dominiquef\\Documents\\GIT\\mira\\mirageoscience-apps\\assets",
        "C:\\Users\\dominiquef\\Documents\\GIT\\mira\\mirageoscience-apps",
        "C:\\Users\\dominiquef\\Documents\\GIT\\mira",
        "C:\\Users\\dominiquef\\Documents\\GIT",
        "C:\\Users\\dominiquef\\Documents",
        "C:\\Users\\dominiquef",
        "C:\\Users",
        "C:\\",
        "D:\\",
        "Z:\\"
       ],
       "index": 0,
       "layout": "IPY_MODEL_f075aa8ea13240c1a150a2862d446e9a",
       "style": "IPY_MODEL_2904c4633fe6426793f866f7f59e24e0"
      }
     },
     "cb6636c9fa364eb2842fca80762ab791": {
      "model_module": "@jupyter-widgets/base",
      "model_module_version": "1.2.0",
      "model_name": "LayoutModel",
      "state": {}
     },
     "cbf6ae3616aa4903a77473e7fa61166d": {
      "model_module": "@jupyter-widgets/controls",
      "model_module_version": "1.5.0",
      "model_name": "VBoxModel",
      "state": {
       "children": [
        "IPY_MODEL_8aeaa3d64a364782bc40120fe03771ed",
        "IPY_MODEL_b4148bf719d1408b96e75fd6172a5961"
       ],
       "layout": "IPY_MODEL_c5597ebb9b82495c9e6060819f214b38"
      }
     },
     "cc025c3082cd4ecabe1bb1b1589e760e": {
      "model_module": "@jupyter-widgets/controls",
      "model_module_version": "1.5.0",
      "model_name": "ButtonStyleModel",
      "state": {}
     },
     "cc35cc1ef0d549f5886d64b9171cdf08": {
      "model_module": "@jupyter-widgets/controls",
      "model_module_version": "1.5.0",
      "model_name": "VBoxModel",
      "state": {
       "children": [
        "IPY_MODEL_9a5df2e46cd14b3c9c68094fcc0c3e68",
        "IPY_MODEL_4f7bf7362b49402397cf8016f7396ab0"
       ],
       "layout": "IPY_MODEL_a1a0ddf6fc6743cc96b4b65e79a416f5"
      }
     },
     "cc437bcaa98042f686821eabe00370e1": {
      "model_module": "@jupyter-widgets/controls",
      "model_module_version": "1.5.0",
      "model_name": "HTMLModel",
      "state": {
       "layout": "IPY_MODEL_8b7b6d27a2814dff90f27aca675c4208",
       "placeholder": "",
       "style": "IPY_MODEL_9a93f970380f48d7924ccdb644a98fe4",
       "value": "<span style=\"margin-left:10px; color:black;\">No file selected</span>"
      }
     },
     "cc54d0497b214039ae4380fbfa15ea19": {
      "model_module": "@jupyter-widgets/base",
      "model_module_version": "1.2.0",
      "model_name": "LayoutModel",
      "state": {
       "width": "auto"
      }
     },
     "cc91a1c447e840c482ec88b5f89d5aa0": {
      "model_module": "@jupyter-widgets/controls",
      "model_module_version": "1.5.0",
      "model_name": "SliderStyleModel",
      "state": {
       "description_width": ""
      }
     },
     "cc9539a788504bee9e64f6b625deac67": {
      "model_module": "@jupyter-widgets/controls",
      "model_module_version": "1.5.0",
      "model_name": "VBoxModel",
      "state": {
       "children": [
        "IPY_MODEL_d2ea7b54d86f44c08b2eb8a29d52bbed",
        "IPY_MODEL_d2245c8b2b53419f8a9e08921127aaaa"
       ],
       "layout": "IPY_MODEL_502fc1883a944f44b1dcd173adb05caa"
      }
     },
     "cd19aeaad1fd4dfabc303e8b4b8467d4": {
      "model_module": "@jupyter-widgets/base",
      "model_module_version": "1.2.0",
      "model_name": "LayoutModel",
      "state": {
       "display": "none"
      }
     },
     "cd95eeffe19047618309ac8974379abd": {
      "model_module": "@jupyter-widgets/controls",
      "model_module_version": "1.5.0",
      "model_name": "ButtonStyleModel",
      "state": {}
     },
     "cdbd126557c5451190a71af1929e9755": {
      "model_module": "@jupyter-widgets/controls",
      "model_module_version": "1.5.0",
      "model_name": "TextModel",
      "state": {
       "layout": "IPY_MODEL_4b578fac78cb482ea41f898e4627fb0d",
       "placeholder": "output filename",
       "style": "IPY_MODEL_c23d9ea0f0fc45118ff325ef328e5aae",
       "value": "FlinFlon.geoh5"
      }
     },
     "ce1532e20f9d497baafae93584f624cb": {
      "model_module": "@jupyter-widgets/controls",
      "model_module_version": "1.5.0",
      "model_name": "DescriptionStyleModel",
      "state": {
       "description_width": "initial"
      }
     },
     "ce61fcafd6d24db0aa0cb5cd21183200": {
      "model_module": "@jupyter-widgets/base",
      "model_module_version": "1.2.0",
      "model_name": "LayoutModel",
      "state": {}
     },
     "ce71cb6a1ef24d07aa3ffb3fe4a872c4": {
      "model_module": "@jupyter-widgets/base",
      "model_module_version": "1.2.0",
      "model_name": "LayoutModel",
      "state": {}
     },
     "ce8f9e02363e40b3ab491b6ebb8e6455": {
      "model_module": "@jupyter-widgets/controls",
      "model_module_version": "1.5.0",
      "model_name": "ButtonStyleModel",
      "state": {}
     },
     "ced8c13ba0844300b0761882db0a70af": {
      "model_module": "@jupyter-widgets/base",
      "model_module_version": "1.2.0",
      "model_name": "LayoutModel",
      "state": {
       "grid_area": "pathlist",
       "width": "auto"
      }
     },
     "cf15ea0fecf944a084c5d8f0c03f49b6": {
      "model_module": "@jupyter-widgets/base",
      "model_module_version": "1.2.0",
      "model_name": "LayoutModel",
      "state": {}
     },
     "cf4c09aea8e0450a976e1462bec06c79": {
      "model_module": "@jupyter-widgets/base",
      "model_module_version": "1.2.0",
      "model_name": "LayoutModel",
      "state": {}
     },
     "cf717491f982475c9102091fa52ed7d2": {
      "model_module": "@jupyter-widgets/base",
      "model_module_version": "1.2.0",
      "model_name": "LayoutModel",
      "state": {}
     },
     "cf7e9872552e45f59a666c0f1062c7af": {
      "model_module": "@jupyter-widgets/controls",
      "model_module_version": "1.5.0",
      "model_name": "SelectModel",
      "state": {
       "_options_labels": [
        "..",
        "images"
       ],
       "index": null,
       "layout": "IPY_MODEL_984de7051e9c4dc9b26561e0e5b67905",
       "rows": 8,
       "style": "IPY_MODEL_a6b3456a26b042b0866e6559090c52fa"
      }
     },
     "cfd4b630527a475f90f75f026de0ffa8": {
      "model_module": "@jupyter-widgets/controls",
      "model_module_version": "1.5.0",
      "model_name": "ButtonStyleModel",
      "state": {}
     },
     "d002e8bf638a48ddaf73c4fe087d44b0": {
      "model_module": "@jupyter-widgets/base",
      "model_module_version": "1.2.0",
      "model_name": "LayoutModel",
      "state": {}
     },
     "d00c682012374a00a6b57106c9ff5dc9": {
      "model_module": "@jupyter-widgets/controls",
      "model_module_version": "1.5.0",
      "model_name": "ToggleButtonModel",
      "state": {
       "layout": "IPY_MODEL_9aca8e5723ed4e80a1efd701fbac9b8b",
       "style": "IPY_MODEL_d2e6cb5ad35b4fbc871e693ef6b2e4fb",
       "value": true
      }
     },
     "d12e2fa2ef3c45dcb86c2365a6803b3f": {
      "model_module": "@jupyter-widgets/base",
      "model_module_version": "1.2.0",
      "model_name": "LayoutModel",
      "state": {}
     },
     "d137313f4f2f494ebda3de570c33bd52": {
      "model_module": "@jupyter-widgets/controls",
      "model_module_version": "1.5.0",
      "model_name": "DescriptionStyleModel",
      "state": {
       "description_width": ""
      }
     },
     "d1579166614542a68548ad8e15fdc8b8": {
      "model_module": "@jupyter-widgets/base",
      "model_module_version": "1.2.0",
      "model_name": "LayoutModel",
      "state": {
       "display": "none",
       "width": "auto"
      }
     },
     "d16e8656c6a146d19d97a941256b1ddc": {
      "model_module": "@jupyter-widgets/controls",
      "model_module_version": "1.5.0",
      "model_name": "DescriptionStyleModel",
      "state": {
       "description_width": ""
      }
     },
     "d1d0fe21f8d34f1faaff52aedcb5c66b": {
      "model_module": "@jupyter-widgets/base",
      "model_module_version": "1.2.0",
      "model_name": "LayoutModel",
      "state": {}
     },
     "d1eabe03bdfb44fda0ad5557e347ae76": {
      "model_module": "@jupyter-widgets/controls",
      "model_module_version": "1.5.0",
      "model_name": "TextModel",
      "state": {
       "continuous_update": false,
       "description": "Contours",
       "layout": "IPY_MODEL_4497beaa066140279f39e5f6dd7592f9",
       "style": "IPY_MODEL_30011332890f40408a81900f22e9fd42"
      }
     },
     "d21cd97fd08141a5922cbdf5f2fdffdb": {
      "model_module": "@jupyter-widgets/base",
      "model_module_version": "1.2.0",
      "model_name": "LayoutModel",
      "state": {
       "width": "auto"
      }
     },
     "d2245c8b2b53419f8a9e08921127aaaa": {
      "model_module": "@jupyter-widgets/controls",
      "model_module_version": "1.5.0",
      "model_name": "HBoxModel",
      "state": {
       "children": [
        "IPY_MODEL_8110f0af12df4e4eba78ff6ec2a009df",
        "IPY_MODEL_5303f26c69d24fa282a009f2190483f1",
        "IPY_MODEL_b1d49c4aded74a9193fbb7b07e206664"
       ],
       "layout": "IPY_MODEL_a25adb8198dd4b9887f738f74778a6d3"
      }
     },
     "d23e79e24dd44db49fb3930d155aec99": {
      "model_module": "@jupyter-widgets/controls",
      "model_module_version": "1.5.0",
      "model_name": "DescriptionStyleModel",
      "state": {
       "description_width": "initial"
      }
     },
     "d23f6e97f133458bacded2fde7a6ee5c": {
      "model_module": "@jupyter-widgets/base",
      "model_module_version": "1.2.0",
      "model_name": "LayoutModel",
      "state": {
       "display": "none",
       "grid_area": "filename",
       "width": "auto"
      }
     },
     "d2836815514d496c86d201ea6c2eaf97": {
      "model_module": "@jupyter-widgets/controls",
      "model_module_version": "1.5.0",
      "model_name": "HTMLModel",
      "state": {
       "layout": "IPY_MODEL_ed5c2f4e7e264283b2f5b116fab92e8c",
       "placeholder": "",
       "style": "IPY_MODEL_9d0247222fe446778318dc3dd7f114fe",
       "value": "<span style=\"margin-left:10px; color:orange;\">C:\\Users\\dominiquef\\Documents\\GIT\\mira\\mirageoscience-apps\\assets\\FlinFlon.geoh5</span>"
      }
     },
     "d2dc79ed79d1499c88c97826e6f20c39": {
      "model_module": "@jupyter-widgets/controls",
      "model_module_version": "1.5.0",
      "model_name": "DescriptionStyleModel",
      "state": {
       "description_width": ""
      }
     },
     "d2e6cb5ad35b4fbc871e693ef6b2e4fb": {
      "model_module": "@jupyter-widgets/controls",
      "model_module_version": "1.5.0",
      "model_name": "DescriptionStyleModel",
      "state": {
       "description_width": ""
      }
     },
     "d2ea7b54d86f44c08b2eb8a29d52bbed": {
      "model_module": "@jupyter-widgets/controls",
      "model_module_version": "1.5.0",
      "model_name": "VBoxModel",
      "state": {
       "children": [
        "IPY_MODEL_c33ca18993154706aeb31e9d8c8fa44a",
        "IPY_MODEL_6747ca51c57f400eaf57731ae95aa458"
       ],
       "layout": "IPY_MODEL_d1d0fe21f8d34f1faaff52aedcb5c66b"
      }
     },
     "d3085acd0d394db98afafae6d093792f": {
      "model_module": "@jupyter-widgets/controls",
      "model_module_version": "1.5.0",
      "model_name": "FloatSliderModel",
      "state": {
       "continuous_update": false,
       "description": "Azimuth",
       "layout": "IPY_MODEL_6695490688f54fd0818a285b2b6a34c7",
       "max": 90,
       "min": -90,
       "step": 0.1,
       "style": "IPY_MODEL_4117cf2ddcb24aae9444a7ab6e9cb15f"
      }
     },
     "d34b74825b04492980b9dd00c161c9fa": {
      "model_module": "@jupyter-widgets/controls",
      "model_module_version": "1.5.0",
      "model_name": "HBoxModel",
      "state": {
       "children": [
        "IPY_MODEL_4583e01f3dfd47e5b2d8e1e048f0ab85",
        "IPY_MODEL_728c984f34754be7be4ee0d4fad55144"
       ],
       "layout": "IPY_MODEL_2506a4b2376648729354b413286e7a1f"
      }
     },
     "d39c5e1197c0496ba4e68c31160cdceb": {
      "model_module": "@jupyter-widgets/base",
      "model_module_version": "1.2.0",
      "model_name": "LayoutModel",
      "state": {
       "width": "auto"
      }
     },
     "d3ab0575ec564dbe89bd70f836edfbef": {
      "model_module": "@jupyter-widgets/controls",
      "model_module_version": "1.5.0",
      "model_name": "ToggleButtonModel",
      "state": {
       "layout": "IPY_MODEL_916779494f784f698ce7233a53ceb42b",
       "style": "IPY_MODEL_3b342c459d904102ba3acb629844aa88",
       "value": true
      }
     },
     "d3cea15babfe48d4907068f4be986c5d": {
      "model_module": "@jupyter-widgets/controls",
      "model_module_version": "1.5.0",
      "model_name": "VBoxModel",
      "state": {
       "children": [
        "IPY_MODEL_1540757e72b74b43b84510e250e0ae9f",
        "IPY_MODEL_03249d8a9912437ea075a467827e8c51",
        "IPY_MODEL_b3878cc4b2bc4a87a2b83d8429ac3924"
       ],
       "layout": "IPY_MODEL_4d7fd94f6c704621952db86604b6c5f6"
      }
     },
     "d3e6d1da9cd5471fad18e4cb84fe2728": {
      "model_module": "@jupyter-widgets/controls",
      "model_module_version": "1.5.0",
      "model_name": "DescriptionStyleModel",
      "state": {
       "description_width": ""
      }
     },
     "d48fc2a10f9f4c6e952c8a522f5c7b95": {
      "model_module": "@jupyter-widgets/base",
      "model_module_version": "1.2.0",
      "model_name": "LayoutModel",
      "state": {}
     },
     "d498a70a99234e66b91ea7a31f599be4": {
      "model_module": "@jupyter-widgets/controls",
      "model_module_version": "1.5.0",
      "model_name": "DropdownModel",
      "state": {
       "_options_labels": [
        "",
        "fault_splay1",
        "fault_Cliff_Lake",
        "fault_Other_FlinFlon",
        "fault_Club_Lake_splay",
        "fault_Catherine_splay2",
        "fault_Birch_View",
        "fault_Dion_Lake",
        "fault_FlinFlon_splay",
        "fault_West_Mandy_Road",
        "fault_Channing",
        "fault_Ross_Lake",
        "fault_Louis_Hidden",
        "fault_Lake_View_thrust",
        "contact_Schist_Lake",
        "fault_Burley_Lake",
        "fault_Dion_Lake_splay",
        "fault_Green_Lake",
        "fault_FlinFlon",
        "fault_Catherine_splay1",
        "fault_East_Mandy_Road",
        "fault_Other_FlinFlon_South",
        "fault_Catherine_splay4",
        "contact_Stitt_Island",
        "fault_Club_Lake",
        "fault_Tailing_Pond",
        "35_Hidden_Reservoir_Hr5",
        "29_Hidden_Reservoir_Hr1a",
        "60_BlueLagoon_Fb2",
        "20_FlinFlon_Undivided_Int_Dykes_D2f",
        "04_Boundary_Intrusive_S4h",
        "53_Millrock_Rhyolite_Fm4b",
        "19_FlinFlon_Undivided_Int_Dykes_D2b",
        "18_FlinFlon_Undivided_Int_Dykes_777_D2b",
        "06_Phantom_Lake_Intrusive_S3a",
        "21_FlinFlon_Undivided_Int_Dykes_D3a",
        "43_Millrock_CHLSH_South",
        "56_Millrock_Basalt_Fm1ba",
        "17_FlinFlon_Undivided_Int_Dykes_D2",
        "32_Hidden_Reservoir_Hr1b_SW",
        "11_Missi_M3_NE",
        "13_Missi_M1",
        "07_Annabel_Granitoid_S1",
        "45_Millrock_Gabbro_South",
        "01_Late_Intrusive_S5b",
        "31_Hidden_Reservoir_Hr1c_SW",
        "52_Millrock_Rhyolite_Fm4_West_check",
        "55_Millrock_Basalt_Fm1bf",
        "34_Hidden_Reservoir_Hr2b",
        "03_Boundary_Intrusive_S4b",
        "42_Millrock_CHLSH_North",
        "26_Louis_L3",
        "23_FlinFlon_Undivided_Int_Felsic_D4g",
        "30_Hidden_Reservoir_Hr1b",
        "59_BlueLagoon_Fb3",
        "49_Millrock_MVR_Fm5d",
        "44_Millrock_Gabbro_North",
        "27_Hidden_Carlisle_Hc4",
        "22_FlinFlon_Undivided_Int_Felsic_D4e",
        "02_Boundary_Intrusive_S4a",
        "61_BlueLagoon_Fb1_NW",
        "05_Boundary_Intrusive_S4g",
        "39_Ore_Callinan",
        "38_Ore_Dan_Owens",
        "40_Ore_FlinFlon",
        "Inversion_VTEM_Model",
        "Gravity_Magnetics_drape60m",
        "CDI_VTEM_model",
        "Data_FEM_pseudo3D",
        "O2O_Interp_25m",
        "geochem",
        "Inversion_DIGHEM_Model",
        "Topography",
        "Data_TEM_pseudo3D"
       ],
       "description": "Object:",
       "index": 66,
       "layout": "IPY_MODEL_c42bf90027fd445faaa4f50f30f8cd7c",
       "style": "IPY_MODEL_a2da442cff524caa8a7f37e9f5a06150"
      }
     },
     "d4d1a061a12348d2bf94f0656432d015": {
      "model_module": "@jupyter-widgets/controls",
      "model_module_version": "1.5.0",
      "model_name": "LabelModel",
      "state": {
       "layout": "IPY_MODEL_5fefbd752c6a47dfb5bf91b99e168258",
       "style": "IPY_MODEL_854b5144b7d242fcbcd791672b7eb08a",
       "value": "Workspace"
      }
     },
     "d4f7d4627a954dd786cb04edecf801c8": {
      "model_module": "@jupyter-widgets/controls",
      "model_module_version": "1.5.0",
      "model_name": "LabelModel",
      "state": {
       "layout": "IPY_MODEL_c70b3ae11abd4ae5b6d06fb1903e4800",
       "style": "IPY_MODEL_f2466cb536474c32be22a4d46cce0191",
       "value": "Workspace"
      }
     },
     "d53d2ee36f864a6ea01dfb467b622371": {
      "model_module": "@jupyter-widgets/controls",
      "model_module_version": "1.5.0",
      "model_name": "HBoxModel",
      "state": {
       "children": [
        "IPY_MODEL_2bdeac8ceecf4201a0d3d0ecf436cac6",
        "IPY_MODEL_bdd7b58352584e60b861ab91a045d2b6"
       ],
       "layout": "IPY_MODEL_a4141039119842d4a8c9bb462a2dfb22"
      }
     },
     "d5436caa15c5428ba726cdd7bfe38aad": {
      "model_module": "@jupyter-widgets/controls",
      "model_module_version": "1.5.0",
      "model_name": "DescriptionStyleModel",
      "state": {
       "description_width": ""
      }
     },
     "d5d9d43e10d74d809152644a1a98b0b8": {
      "model_module": "@jupyter-widgets/controls",
      "model_module_version": "1.5.0",
      "model_name": "ButtonStyleModel",
      "state": {}
     },
     "d64c712ebdf5409baa4cc3e6acd1288b": {
      "model_module": "@jupyter-widgets/controls",
      "model_module_version": "1.5.0",
      "model_name": "FloatSliderModel",
      "state": {
       "continuous_update": false,
       "description": "Height",
       "layout": "IPY_MODEL_38c6d66d3001435ebb65ed18b64e285b",
       "max": 11351.865002485923,
       "orientation": "vertical",
       "step": 0.1,
       "style": "IPY_MODEL_447e73fe759949aaa60d4bab85f3908d",
       "value": 5675.932501242962
      }
     },
     "d66e15b5eb6d42d89e1631ff8296ad4a": {
      "model_module": "@jupyter-widgets/base",
      "model_module_version": "1.2.0",
      "model_name": "LayoutModel",
      "state": {
       "display": "none"
      }
     },
     "d67466ebccca427ea17e2e8a2f5d8d47": {
      "model_module": "@jupyter-widgets/controls",
      "model_module_version": "1.5.0",
      "model_name": "ButtonStyleModel",
      "state": {}
     },
     "d69cd653b57440a68cb33a189903c5e0": {
      "model_module": "@jupyter-widgets/base",
      "model_module_version": "1.2.0",
      "model_name": "LayoutModel",
      "state": {}
     },
     "d79ce82823e84db59d90b2401d3f68e6": {
      "model_module": "@jupyter-widgets/controls",
      "model_module_version": "1.5.0",
      "model_name": "DescriptionStyleModel",
      "state": {
       "description_width": ""
      }
     },
     "d7ea9c257d1247e98720c4bb6a0e18e8": {
      "model_module": "@jupyter-widgets/controls",
      "model_module_version": "1.5.0",
      "model_name": "SliderStyleModel",
      "state": {
       "description_width": ""
      }
     },
     "d7f50040182044dda8130a77570d9376": {
      "model_module": "@jupyter-widgets/base",
      "model_module_version": "1.2.0",
      "model_name": "LayoutModel",
      "state": {
       "grid_area": "dircontent",
       "width": "auto"
      }
     },
     "d8493ae911e848bfb38c86fd348c8438": {
      "model_module": "@jupyter-widgets/base",
      "model_module_version": "1.2.0",
      "model_name": "LayoutModel",
      "state": {}
     },
     "d86a54a112b24c7fbbee790c5ed1e555": {
      "model_module": "@jupyter-widgets/controls",
      "model_module_version": "1.5.0",
      "model_name": "DescriptionStyleModel",
      "state": {
       "description_width": "initial"
      }
     },
     "d889ba1ac856486aa0c043e9e5501a3d": {
      "model_module": "@jupyter-widgets/controls",
      "model_module_version": "1.5.0",
      "model_name": "VBoxModel",
      "state": {
       "children": [
        "IPY_MODEL_d93b76bcca8a4bfa84d5a144d471177f",
        "IPY_MODEL_27c64c18a1384a6ebac479681d9d5887"
       ],
       "layout": "IPY_MODEL_8c48467672da4fe0a5d25cd8122b8d01"
      }
     },
     "d8e9183d0ad3468f9dc75e2ccedb4278": {
      "model_module": "@jupyter-widgets/controls",
      "model_module_version": "1.5.0",
      "model_name": "DropdownModel",
      "state": {
       "_options_labels": [
        "",
        "--- Channels ---",
        "Airborne_Gxx",
        "Airborne_Gxy",
        "Airborne_Gxz",
        "Airborne_Gyy",
        "Airborne_Gyz",
        "Airborne_Gz",
        "Airborne_Gzz",
        "Airborne_TMI",
        "Ground_Gz",
        "Z"
       ],
       "description": "Data: ",
       "index": 9,
       "layout": "IPY_MODEL_46069ec42ea2403fbc1121776c8b43d1",
       "style": "IPY_MODEL_b5e1be266ce54e0992ad10af82b5ccfb"
      }
     },
     "d906e8dfd372467fa9a10d4920eaf7e5": {
      "model_module": "@jupyter-widgets/controls",
      "model_module_version": "1.5.0",
      "model_name": "DescriptionStyleModel",
      "state": {
       "description_width": "initial"
      }
     },
     "d93b76bcca8a4bfa84d5a144d471177f": {
      "model_module": "@jupyter-widgets/controls",
      "model_module_version": "1.5.0",
      "model_name": "VBoxModel",
      "state": {
       "children": [
        "IPY_MODEL_8360c8f0dfd746819d82301c25d8dfa3",
        "IPY_MODEL_df068531fba542688e6fa0369c8e4fc6"
       ],
       "layout": "IPY_MODEL_bcc661433279450d9bde1e6ae6ee2859"
      }
     },
     "da18294955344c0f8b62282db088f2e2": {
      "model_module": "@jupyter-widgets/controls",
      "model_module_version": "1.5.0",
      "model_name": "ButtonStyleModel",
      "state": {}
     },
     "da724d29d3c04cada25ed9a30ed6945b": {
      "model_module": "@jupyter-widgets/controls",
      "model_module_version": "1.5.0",
      "model_name": "FloatSliderModel",
      "state": {
       "continuous_update": false,
       "description": "Easting",
       "layout": "IPY_MODEL_f68c96c4472d4dd08b5f3e6c8220cb29",
       "max": 319234.2051362576,
       "min": 311898.69919769425,
       "step": 0.1,
       "style": "IPY_MODEL_3f56ba524ff5493b9f3714b1cccdb6fb",
       "value": 315566.45216697594
      }
     },
     "da95424ebbc148a49add34a3043511b5": {
      "model_module": "@jupyter-widgets/base",
      "model_module_version": "1.2.0",
      "model_name": "LayoutModel",
      "state": {
       "display": "none"
      }
     },
     "dadc6a329c4f4c2abc7328d703730b5f": {
      "model_module": "@jupyter-widgets/controls",
      "model_module_version": "1.5.0",
      "model_name": "FloatSliderModel",
      "state": {
       "continuous_update": false,
       "description": "Azimuth",
       "layout": "IPY_MODEL_cb6636c9fa364eb2842fca80762ab791",
       "max": 90,
       "min": -90,
       "step": 0.1,
       "style": "IPY_MODEL_cc91a1c447e840c482ec88b5f89d5aa0"
      }
     },
     "db36a3bf136242929150b248bbdb2ea0": {
      "model_module": "@jupyter-widgets/controls",
      "model_module_version": "1.5.0",
      "model_name": "ButtonModel",
      "state": {
       "button_style": "danger",
       "description": "Compute",
       "icon": "check",
       "layout": "IPY_MODEL_3f2efd9440ff441ab2fc1c3094d68ac2",
       "style": "IPY_MODEL_dd09b23569974f76b0205953f619a57d",
       "tooltip": "Run computation"
      }
     },
     "db68278725ce40b79010cc7a8d61a7c5": {
      "model_module": "@jupyter-widgets/controls",
      "model_module_version": "1.5.0",
      "model_name": "SelectModel",
      "state": {
       "_options_labels": [
        "..",
        "dask-worker-space",
        "images"
       ],
       "index": null,
       "layout": "IPY_MODEL_395b76f069344e7f94c5ca919176367a",
       "rows": 8,
       "style": "IPY_MODEL_f2b2ff41ee664e6ebb6da4d23c3f9733"
      }
     },
     "dc3c4e2496fd408cbf8dba4ca0ebad06": {
      "model_module": "@jupyter-widgets/controls",
      "model_module_version": "1.5.0",
      "model_name": "DescriptionStyleModel",
      "state": {
       "description_width": ""
      }
     },
     "dc4414eb72d94e259c0c3ddbe565f8c4": {
      "model_module": "@jupyter-widgets/base",
      "model_module_version": "1.2.0",
      "model_name": "LayoutModel",
      "state": {
       "width": "auto"
      }
     },
     "dcaa7d374c1344cca698ae3e788ead4d": {
      "model_module": "@jupyter-widgets/controls",
      "model_module_version": "1.5.0",
      "model_name": "DescriptionStyleModel",
      "state": {
       "description_width": "initial"
      }
     },
     "dcde27b2f39345c7ae687faa1c037c6e": {
      "model_module": "@jupyter-widgets/controls",
      "model_module_version": "1.5.0",
      "model_name": "TextModel",
      "state": {
       "layout": "IPY_MODEL_629e9789c2cd446c805c40e8d04c3b98",
       "placeholder": "output filename",
       "style": "IPY_MODEL_b5e081305f6b4e10b5929bde8ca8a97f",
       "value": "FlinFlon.geoh5"
      }
     },
     "dce2fde643914336997883b074e009f9": {
      "model_module": "@jupyter-widgets/controls",
      "model_module_version": "1.5.0",
      "model_name": "ButtonStyleModel",
      "state": {}
     },
     "dd09b23569974f76b0205953f619a57d": {
      "model_module": "@jupyter-widgets/controls",
      "model_module_version": "1.5.0",
      "model_name": "ButtonStyleModel",
      "state": {}
     },
     "dd2badb30a80455f91de2fc24b9dd4ea": {
      "model_module": "@jupyter-widgets/base",
      "model_module_version": "1.2.0",
      "model_name": "LayoutModel",
      "state": {
       "display": "none",
       "grid_gap": "0px 0px",
       "grid_template_areas": "\n                    'pathlist pathlist'\n                    'dircontent dircontent'\n                    ",
       "grid_template_columns": "60% 40%",
       "grid_template_rows": "auto auto",
       "width": "500px"
      }
     },
     "dd5c6f659b0b4af0bf968c600010ecaf": {
      "model_module": "@jupyter-widgets/controls",
      "model_module_version": "1.5.0",
      "model_name": "GridBoxModel",
      "state": {
       "children": [
        "IPY_MODEL_cb64ff051dc24310b41820cbfe11ad6b",
        "IPY_MODEL_ac4d2a136e59454388e96bcf7bd597dc",
        "IPY_MODEL_c7112c8b20e746059e197e7d7dee5784"
       ],
       "layout": "IPY_MODEL_62ee8d817ba3406293b4e2ff228f0dc2"
      }
     },
     "dd864663f6714f3bad4024f269804b5f": {
      "model_module": "@jupyter-widgets/controls",
      "model_module_version": "1.5.0",
      "model_name": "DescriptionStyleModel",
      "state": {
       "description_width": ""
      }
     },
     "ddac3a6d8ea34c12890ebfe46257475f": {
      "model_module": "@jupyter-widgets/controls",
      "model_module_version": "1.5.0",
      "model_name": "SliderStyleModel",
      "state": {
       "description_width": ""
      }
     },
     "df068531fba542688e6fa0369c8e4fc6": {
      "model_module": "@jupyter-widgets/controls",
      "model_module_version": "1.5.0",
      "model_name": "TextModel",
      "state": {
       "continuous_update": false,
       "description": "Group:",
       "layout": "IPY_MODEL_c86b2991d6114994a3a9e40b94ae37da",
       "style": "IPY_MODEL_ae72282ae591435882fdf29fcedc2d9c"
      }
     },
     "df37bbec5b484742a44b4d0299841e0d": {
      "model_module": "@jupyter-widgets/controls",
      "model_module_version": "1.5.0",
      "model_name": "ButtonModel",
      "state": {
       "description": "Create copy:",
       "layout": "IPY_MODEL_ce71cb6a1ef24d07aa3ffb3fe4a872c4",
       "style": "IPY_MODEL_a16069c4cb394b4a84cfa9827d9d7500"
      }
     },
     "df6a9e07cbf248efa89758d142090545": {
      "model_module": "@jupyter-widgets/base",
      "model_module_version": "1.2.0",
      "model_name": "LayoutModel",
      "state": {}
     },
     "df996a7cf0a54f08abf0ebc27b19f3f7": {
      "model_module": "@jupyter-widgets/base",
      "model_module_version": "1.2.0",
      "model_name": "LayoutModel",
      "state": {
       "width": "auto"
      }
     },
     "dfb85e47c5034a6984179ac5c1974ded": {
      "model_module": "@jupyter-widgets/base",
      "model_module_version": "1.2.0",
      "model_name": "LayoutModel",
      "state": {
       "grid_area": "pathlist",
       "width": "auto"
      }
     },
     "dfc67af54499462784efd83e8f2ed6f5": {
      "model_module": "@jupyter-widgets/controls",
      "model_module_version": "1.5.0",
      "model_name": "DescriptionStyleModel",
      "state": {
       "description_width": ""
      }
     },
     "e0e236d2ae014279ac404e5e9db4fb5f": {
      "model_module": "@jupyter-widgets/base",
      "model_module_version": "1.2.0",
      "model_name": "LayoutModel",
      "state": {}
     },
     "e145f346dc044a6c9c37308915c0967f": {
      "model_module": "@jupyter-widgets/base",
      "model_module_version": "1.2.0",
      "model_name": "LayoutModel",
      "state": {}
     },
     "e1ae99c5ecef45d5bdf06e6ffd869846": {
      "model_module": "@jupyter-widgets/controls",
      "model_module_version": "1.5.0",
      "model_name": "FloatSliderModel",
      "state": {
       "continuous_update": false,
       "description": "Width",
       "layout": "IPY_MODEL_a82baf6348624fffb12093d65fecc34d",
       "max": 7335.505938563321,
       "step": 0.1,
       "style": "IPY_MODEL_ae4636b6847e43128a06ad1dcdbc9df9",
       "value": 3667.7529692816606
      }
     },
     "e1c6f59bab014217aba450f314e95d40": {
      "model_module": "@jupyter-widgets/base",
      "model_module_version": "1.2.0",
      "model_name": "LayoutModel",
      "state": {}
     },
     "e249ada3f0a6433c83a33f2ea3a5a386": {
      "model_module": "@jupyter-widgets/controls",
      "model_module_version": "1.5.0",
      "model_name": "FloatSliderModel",
      "state": {
       "continuous_update": false,
       "description": "Easting",
       "layout": "IPY_MODEL_21eaede2955f44a6b4df855f9c7c28ee",
       "max": 319234.2051362576,
       "min": 311898.69919769425,
       "step": 0.1,
       "style": "IPY_MODEL_f2418c93848748588f3368c0da49bf09",
       "value": 315566.45216697594
      }
     },
     "e2a440be7b014c18b5cf25be55f5ffb0": {
      "model_module": "@jupyter-widgets/base",
      "model_module_version": "1.2.0",
      "model_name": "LayoutModel",
      "state": {}
     },
     "e2e6802d63f545b5b07a9414c7ca3f82": {
      "model_module": "@jupyter-widgets/controls",
      "model_module_version": "1.5.0",
      "model_name": "DescriptionStyleModel",
      "state": {
       "description_width": ""
      }
     },
     "e3031e0579634f7baf3d894ddad3d1c9": {
      "model_module": "@jupyter-widgets/controls",
      "model_module_version": "1.5.0",
      "model_name": "HTMLModel",
      "state": {
       "layout": "IPY_MODEL_ce61fcafd6d24db0aa0cb5cd21183200",
       "placeholder": "",
       "style": "IPY_MODEL_dfc67af54499462784efd83e8f2ed6f5",
       "value": "<span style=\"margin-left:10px; color:orange;\">C:\\Users\\dominiquef\\Documents\\GIT\\mira\\mirageoscience-apps\\assets\\FlinFlon.geoh5</span>"
      }
     },
     "e3cca9407a4d443c80be53a569cf8195": {
      "model_module": "@jupyter-widgets/controls",
      "model_module_version": "1.5.0",
      "model_name": "SliderStyleModel",
      "state": {
       "description_width": ""
      }
     },
     "e41a773d4d23408c8eb4f2cfc06966bf": {
      "model_module": "@jupyter-widgets/base",
      "model_module_version": "1.2.0",
      "model_name": "LayoutModel",
      "state": {}
     },
     "e46b556416c64f13a1bc768b075f26ea": {
      "model_module": "@jupyter-widgets/controls",
      "model_module_version": "1.5.0",
      "model_name": "TextModel",
      "state": {
       "disabled": true,
       "layout": "IPY_MODEL_0dbcd10abcc4454e9f927c1454debfac",
       "placeholder": "output filename",
       "style": "IPY_MODEL_4904eec61fda4268a854cce28f50123d"
      }
     },
     "e4a95f728b864874a06aaa5b1d5502bd": {
      "model_module": "@jupyter-widgets/controls",
      "model_module_version": "1.5.0",
      "model_name": "ButtonModel",
      "state": {
       "description": "Cancel",
       "layout": "IPY_MODEL_56fdf549bf584f529077b7298ce89e44",
       "style": "IPY_MODEL_ed931e578de7494783a13a623801a8f6"
      }
     },
     "e4efde444a26488896f8587989d2198e": {
      "model_module": "@jupyter-widgets/controls",
      "model_module_version": "1.5.0",
      "model_name": "DescriptionStyleModel",
      "state": {
       "description_width": ""
      }
     },
     "e503b41af7b94ae4b6608182f045ae2a": {
      "model_module": "@jupyter-widgets/base",
      "model_module_version": "1.2.0",
      "model_name": "LayoutModel",
      "state": {}
     },
     "e519614087be4f9e8b8d4983da6e9f68": {
      "model_module": "@jupyter-widgets/controls",
      "model_module_version": "1.5.0",
      "model_name": "DropdownModel",
      "state": {
       "_options_labels": [
        "C:\\Users\\dominiquef\\Documents\\GIT\\mira\\mirageoscience-apps\\docs\\content\\applications",
        "C:\\Users\\dominiquef\\Documents\\GIT\\mira\\mirageoscience-apps\\docs\\content",
        "C:\\Users\\dominiquef\\Documents\\GIT\\mira\\mirageoscience-apps\\docs",
        "C:\\Users\\dominiquef\\Documents\\GIT\\mira\\mirageoscience-apps",
        "C:\\Users\\dominiquef\\Documents\\GIT\\mira",
        "C:\\Users\\dominiquef\\Documents\\GIT",
        "C:\\Users\\dominiquef\\Documents",
        "C:\\Users\\dominiquef",
        "C:\\Users",
        "C:\\",
        "D:\\",
        "Z:\\"
       ],
       "index": 0,
       "layout": "IPY_MODEL_830d8e9cd58d4493bb13a17af0afaa96",
       "style": "IPY_MODEL_5760810ca130449ba4697dc1edb0fbac"
      }
     },
     "e57720717733496fb84997c9d7d6b6c3": {
      "model_module": "@jupyter-widgets/base",
      "model_module_version": "1.2.0",
      "model_name": "LayoutModel",
      "state": {}
     },
     "e6f100d5cf3f481a96c84fe3d95cb8b4": {
      "model_module": "@jupyter-widgets/base",
      "model_module_version": "1.2.0",
      "model_name": "LayoutModel",
      "state": {
       "align_items": "center"
      }
     },
     "e77bdf8e4ee7478da1b87250027ae4cb": {
      "model_module": "@jupyter-widgets/base",
      "model_module_version": "1.2.0",
      "model_name": "LayoutModel",
      "state": {}
     },
     "e7c4a9acd4bb44c9a8d896f51b6ad16e": {
      "model_module": "@jupyter-widgets/base",
      "model_module_version": "1.2.0",
      "model_name": "LayoutModel",
      "state": {
       "width": "auto"
      }
     },
     "e94318a52bb6457888cc574da3f54180": {
      "model_module": "@jupyter-widgets/controls",
      "model_module_version": "1.5.0",
      "model_name": "SliderStyleModel",
      "state": {
       "description_width": ""
      }
     },
     "e9ec3a3771e6411fa1f62e806b6f9574": {
      "model_module": "@jupyter-widgets/controls",
      "model_module_version": "1.5.0",
      "model_name": "DescriptionStyleModel",
      "state": {
       "description_width": ""
      }
     },
     "ea59f593c50146d38afeb3d3665fc2fb": {
      "model_module": "@jupyter-widgets/base",
      "model_module_version": "1.2.0",
      "model_name": "LayoutModel",
      "state": {}
     },
     "eb208879a83347d88c42de714672470f": {
      "model_module": "@jupyter-widgets/controls",
      "model_module_version": "1.5.0",
      "model_name": "ButtonStyleModel",
      "state": {}
     },
     "eb34319da5544b9d911a354827596ff7": {
      "model_module": "@jupyter-widgets/controls",
      "model_module_version": "1.5.0",
      "model_name": "VBoxModel",
      "state": {
       "children": [
        "IPY_MODEL_5dc6f4de55a74e23ae94923fb6e3869c",
        "IPY_MODEL_83e338946cec4d618f85d8cfbbb0ba76"
       ],
       "layout": "IPY_MODEL_f98dabf168914d17993776519f0e0d7c"
      }
     },
     "eb5a5afeb61947549615a089b2ee08ba": {
      "model_module": "@jupyter-widgets/base",
      "model_module_version": "1.2.0",
      "model_name": "LayoutModel",
      "state": {}
     },
     "ec3eb9f518f24eb192238e9f956fcad2": {
      "model_module": "@jupyter-widgets/controls",
      "model_module_version": "1.5.0",
      "model_name": "DescriptionStyleModel",
      "state": {
       "description_width": ""
      }
     },
     "ec9f48183c794af5b356546273040a8c": {
      "model_module": "@jupyter-widgets/base",
      "model_module_version": "1.2.0",
      "model_name": "LayoutModel",
      "state": {}
     },
     "ed23912dc632431cb45f4fd5a6361176": {
      "model_module": "@jupyter-widgets/controls",
      "model_module_version": "1.5.0",
      "model_name": "ButtonStyleModel",
      "state": {}
     },
     "ed4dabd1591b4e42a7e1f7ff65c0a2a3": {
      "model_module": "@jupyter-widgets/controls",
      "model_module_version": "1.5.0",
      "model_name": "VBoxModel",
      "state": {
       "children": [
        "IPY_MODEL_1584cc9ea0d64b8b8b1c90903d36c86e",
        "IPY_MODEL_0b0bfd65fdc3455aaff503210f489d38"
       ],
       "layout": "IPY_MODEL_7b94203623034efd991bd9085a550ef8"
      }
     },
     "ed5c2f4e7e264283b2f5b116fab92e8c": {
      "model_module": "@jupyter-widgets/base",
      "model_module_version": "1.2.0",
      "model_name": "LayoutModel",
      "state": {}
     },
     "ed7b2d587fe64b948e28f7dc3714316c": {
      "model_module": "@jupyter-widgets/controls",
      "model_module_version": "1.5.0",
      "model_name": "DescriptionStyleModel",
      "state": {
       "description_width": "initial"
      }
     },
     "ed931e578de7494783a13a623801a8f6": {
      "model_module": "@jupyter-widgets/controls",
      "model_module_version": "1.5.0",
      "model_name": "ButtonStyleModel",
      "state": {}
     },
     "edeb4d925524466e949a3a26d652ba3f": {
      "model_module": "@jupyter-widgets/controls",
      "model_module_version": "1.5.0",
      "model_name": "SliderStyleModel",
      "state": {
       "description_width": ""
      }
     },
     "ee1da3e7b6094783b3df2de000669a43": {
      "model_module": "@jupyter-widgets/base",
      "model_module_version": "1.2.0",
      "model_name": "LayoutModel",
      "state": {
       "display": "none",
       "grid_area": "filename",
       "width": "auto"
      }
     },
     "ee2f922d473d4bc988ba8e59b7bf1d93": {
      "model_module": "@jupyter-widgets/controls",
      "model_module_version": "1.5.0",
      "model_name": "VBoxModel",
      "state": {
       "children": [
        "IPY_MODEL_f1d6f8bf8fac46e88a82ecb0d60296ef",
        "IPY_MODEL_c40248223b2042ca8c69f44228812239"
       ],
       "layout": "IPY_MODEL_eb5a5afeb61947549615a089b2ee08ba"
      }
     },
     "eea07d5aa5ce49009d2f2603e7d5b128": {
      "model_module": "@jupyter-widgets/base",
      "model_module_version": "1.2.0",
      "model_name": "LayoutModel",
      "state": {
       "width": "auto"
      }
     },
     "eef31ded39eb4244959a7eb334ff3117": {
      "model_module": "@jupyter-widgets/base",
      "model_module_version": "1.2.0",
      "model_name": "LayoutModel",
      "state": {}
     },
     "ef3350a7dbcf40aa858803d6d03f3dcc": {
      "model_module": "@jupyter-widgets/controls",
      "model_module_version": "1.5.0",
      "model_name": "HBoxModel",
      "state": {
       "children": [
        "IPY_MODEL_8a5a42f5ba564ca9a8bde91f313c863c",
        "IPY_MODEL_981aa695e13045f1bcf5c07be4657b43",
        "IPY_MODEL_3b03e73c7ee749f2a8c32be2f89a23de"
       ],
       "layout": "IPY_MODEL_d21cd97fd08141a5922cbdf5f2fdffdb"
      }
     },
     "ef87128e4c7c4114b9dd43f3f3458201": {
      "model_module": "@jupyter-widgets/controls",
      "model_module_version": "1.5.0",
      "model_name": "ButtonModel",
      "state": {
       "button_style": "danger",
       "description": "Compute",
       "icon": "check",
       "layout": "IPY_MODEL_e57720717733496fb84997c9d7d6b6c3",
       "style": "IPY_MODEL_f0a507d3b129494ab7d275d1a57c1c20",
       "tooltip": "Run computation"
      }
     },
     "efa40568e57547528ac03186a0d8d911": {
      "model_module": "@jupyter-widgets/base",
      "model_module_version": "1.2.0",
      "model_name": "LayoutModel",
      "state": {}
     },
     "f037258e766c493aa3dac3f0930ee896": {
      "model_module": "@jupyter-widgets/base",
      "model_module_version": "1.2.0",
      "model_name": "LayoutModel",
      "state": {
       "width": "auto"
      }
     },
     "f075aa8ea13240c1a150a2862d446e9a": {
      "model_module": "@jupyter-widgets/base",
      "model_module_version": "1.2.0",
      "model_name": "LayoutModel",
      "state": {
       "grid_area": "pathlist",
       "width": "auto"
      }
     },
     "f08797bcde7a4299905555872427fd71": {
      "model_module": "@jupyter-widgets/controls",
      "model_module_version": "1.5.0",
      "model_name": "VBoxModel",
      "state": {
       "children": [
        "IPY_MODEL_2da24e74557f4ed98339f92acd678d4c",
        "IPY_MODEL_719974bc4eb24c638e5f33d8a7b78fee"
       ],
       "layout": "IPY_MODEL_206fef80a0f7436c9823ffeff1bfc660"
      }
     },
     "f0991ec3a85949969f239b63a252dc6f": {
      "model_module": "@jupyter-widgets/controls",
      "model_module_version": "1.5.0",
      "model_name": "ButtonStyleModel",
      "state": {}
     },
     "f0a14fa8bc374456a07dc9b79415475f": {
      "model_module": "@jupyter-widgets/controls",
      "model_module_version": "1.5.0",
      "model_name": "VBoxModel",
      "state": {
       "children": [
        "IPY_MODEL_3c9442fb4b7d4cbd955d2160c1b8842d",
        "IPY_MODEL_ca42c65ead7345dfa377834f3ca54beb"
       ],
       "layout": "IPY_MODEL_6a3271802fd9456393050f706cbe79c4"
      }
     },
     "f0a507d3b129494ab7d275d1a57c1c20": {
      "model_module": "@jupyter-widgets/controls",
      "model_module_version": "1.5.0",
      "model_name": "ButtonStyleModel",
      "state": {}
     },
     "f0fd1ae69c7d481288c4f11271a352c6": {
      "model_module": "@jupyter-widgets/controls",
      "model_module_version": "1.5.0",
      "model_name": "HBoxModel",
      "state": {
       "children": [
        "IPY_MODEL_0eef8906f8d340ca851fce463e0a0a98",
        "IPY_MODEL_378f74446bf146219e4b0774f956ba4f",
        "IPY_MODEL_883d88ecf0cd4b92ae6fb5ae0661551f"
       ],
       "layout": "IPY_MODEL_3cbd02d8a0354d9dbfe2ee77c94b3aaf"
      }
     },
     "f0fdb30ccd5f4fb38bbf161aa7041635": {
      "model_module": "@jupyter-widgets/controls",
      "model_module_version": "1.5.0",
      "model_name": "DescriptionStyleModel",
      "state": {
       "description_width": ""
      }
     },
     "f1821fe1f6c4489b893cd1f688533f8d": {
      "model_module": "@jupyter-widgets/controls",
      "model_module_version": "1.5.0",
      "model_name": "DescriptionStyleModel",
      "state": {
       "description_width": "initial"
      }
     },
     "f1ac438f71e9411296c69a221f634e74": {
      "model_module": "@jupyter-widgets/output",
      "model_module_version": "1.0.0",
      "model_name": "OutputModel",
      "state": {
       "layout": "IPY_MODEL_a971bf71f3af4d99847a6bc161977050",
       "outputs": [
        {
         "data": {
          "image/png": "iVBORw0KGgoAAAANSUhEUgAAAZ8AAAJeCAYAAABrvggYAAAABHNCSVQICAgIfAhkiAAAAAlwSFlzAAALEgAACxIB0t1+/AAAADh0RVh0U29mdHdhcmUAbWF0cGxvdGxpYiB2ZXJzaW9uMy4yLjEsIGh0dHA6Ly9tYXRwbG90bGliLm9yZy+j8jraAAAgAElEQVR4nOy9f7gmV1Xn+12BIHa6GyW3D2r748j0idp96ZlgsHW8IwF17MZxrtMYmJlH5wkGea7XoXF0JDpw55m5OEzijzuQ4I+LBlqHAaWlr4CQdq4/uoURDySGBLr90Q2cCPFCHxRMdwclhH3/qKrzrrdO7dq7qvauWnvX+jxPPadOvfVW1fu+Vfu719prrU3GGCiKoijKmFw19QUoiqIo80PFR1EURRkdFR9FURRldFR8FEVRlNFR8VEURVFGR8VHURRFGR0VH0VRFGV0VHwURVGU0VHxURRFUUZnNPEhoj8f61yKoiiKbChGeR0iugSgOjCVf3cAeASAMcbsDn5SRVEUJRliWT7HAfwmgDVjzC5jzC4Af1Guq/AoiqLMnCjiY4x5MYBXA3gTER0joquwsIQURVGUmRNtzMcYcy+Abyv/PQPgibHOpSiKoqRFlDGfbSch+lIA1xtj3hn9ZIqiKIp4Hh/rwET0JACHAexF4XL7SyL6ImPMp2OdU1EURUmDKG43IvpXAP4YwI0ootyuAfAsAPeWrymKoigzJlao9Z8BOFS3cojoiwGsG2OuC35SRVEUJRliBRwQmqPbPo9F3o+iKIoyU2KN+fwnAH9MRP8dwEfLbV8J4NsBvCLSORVFUZREiBbtVrrYvgNFwAEB+BiA3zbGfCrKCRVFUZRkGCvUejeANQAfVvFRFEVRYkW7vYGI/qdy/TsAnAVwO4D3E9FNMc6pKIqipEOsaLcPGGOeVq7/IYB/aYzZKAXpd40xfz/4SRVFUZRkiBXtdlXpagOKCLe/AABjzCcRMbFVURRFSYNYQvAfAfw+Ef0cgP8B4AQRvRXAswGcinRORVEUJRFiRrvtA/ADAK5DIXIfA/CbxpjfjnJCRVEUJRlGiXZTFEVRFE4UtxsREYCbUFQ5+A0U7rb/FcCfAvhFY8znLe97EYAXlf9+/RfsBK7mOzS+C0sjV4+xzY+y9c/hcey/J7D1cntdg231GRTZjDYxvIMx75WxP3PsGiURj78z3qGz4TOf+Qwee+yxTxpj9sQ8T6xot58HsIKilX8YwBcAeDuA5wD4hDHmJa5jPHEXmZ+6BBzjG8+ydf61rCxW72abn4N97L+9bP32xerFQ80XsFn7/5z9WhVh7J/6AmrY7p36dTbtt7/l/U3HGIOoTVLJinuXPqifx82NN96IM2fO3GuMuSHmeWIFHPwjY8zTiOhqAB8H8KXGmM8S0RsB3Nf7qB43/VvY+i24gLu2BOghLARoHVuytgLgYu0gdeFRlCHUBcQlGL6CMpXIbmIcAQKKZ3OoELHnmwCYSMKmdCOW+HwOAIwxjxLR+4wxny3//xwRPdb+1mXuALN+moQCxba7yxvquVgWoAV7ARx1n1CFR4mBj1D4iNLUFviYosPXVTCyI5a3+ONEtBMAjDGHq41E9CUAPhvsLCtsaeAuAIXo7G3eoQnbwyXNlaPYmbqBDs1+LO4/fh+O+Tn3YDzhiQw1dWCV0YkiPsaYI8aYyw0vXQLwTwYd3CI4R2q73bW1doZtPVn+PYTC9caOqSipsB/LghSbTERHkUWsaLeDxpgH6tuNMVcAXPE5xtXYCaDQrzuwLC5rDfvfDZu7raJyuXkGGCh5cA5qteZA3fXGrZemzqNaN+KJNeZzHxF9BMCbALzJGBPFQXAewAXnXtfDOtbDb9A9sAtQbm6cOXCutq4ClD4+guIpOnRRAw+mJtaYzwMAvrs8/tuI6H4i+nEiWh164AsoROd8+T8Ppn5u+Xfhcru+/Huc7bWOwvo5pO42RWkjlXGei2xRkiGW+BhjzAeNMS8zxlRldlYAvKuscu3kMq7gJUxa7sTCymmydt5SLnc1vFZwiC3K7FDr1Y89SEd0lKSJ5XZbylE2xrwXwHuJ6EcBfEuXA7W51e4s/z5i3eNmy/bK+qlhc71JCHFVFCUo6nqblliWz083bTQFZ5pe86GqXnAey5UMdrD1WwAU7rbrsd3dVnFIzfQ5co4tSjMaeKOMRBTLxxjzxlDHuhP78GJc2LJuzlv2u2tp9MeGw+XW9uCp9ZMXGoTQjLrblJGIFWr9JAA/gSLooLqdLwJ4K4DbjDGf7nI8m1vNJkTLcMFh7rZ6tQTt8SlzZqaio6636YjldnszgE8BuNEYc60x5loAzyq3nfA5wE5cs7XOrZoHULjc7q7tf3hpdGg3ivGem7HsbmOoy01RNLhAmYxYAQerxpjb+QZjzMcB3E5E39/ngDyK7XDD66dwPQrRaePQMNFR11teSHO9VSKgVvioqPUzDbEsnweJ6KVE9JRqAxE9hYhuBfBR/8PsYkszp3B9KTx1eCkd9td2k2nvT5kSvf+UmRHL8nk+gB8HcKYUIAPgEwDeBuB5vgcx+GMQnl7+dz2q2RgKsblUbr+EhTg9jML6WTK6lBSYqmCmNOtnTFTwlAmJJT7XAXilMeZWItqBQogqFfGeUoGWxmt2A40WDudmWCPaQo3xqOttXHwmXMuBsVxtKjiNqOttfGK53V6HRQHRV6EwTW5DEbj2ep8DXN7SqN1oH8vZi0WAAbA9wMCjlM4m1M8+NfXJ1lxVm+dqrTThIygaWKAII5blc5Ux5nPl+g3GmMrqeTcRvb/boW4HcGu5vhsL11qbIGkJnWyJIToput7qQtJUnUPFRhFMLMvng0T0gnL9fiK6AQCI6DoAj/Y75NFysYnOgNptXR/S1BoqyQyZm4ZPsDan36TtftXabL3RSebGJZbl80IAryailwP4JID3ENFHUUS6vbD74dqmv24KLqjVbnPdVOpym46hVsecRMeFCo6SELHK6/wNgJuJaBeAp5bn+Zgx5hO+x9iJx2ExFSqfefQogrnVhojOXAbCU2LIb5KS620TKjRK8sSyfAAAxphLAO4PczQfwekoSm0TyCnjMEaDrxGKiica9TYeUcVnOHUxaSqVo8EFyRJbeFKxZBRlhogWH4PaxEBbeAjO2OM82ruWjc/vo643BWr9jIVo8dkuPA7R0WgVpQ+pCI6iZESsUOvBXHbvUqDzt6eLFEtRynUoyowQbfm0IlFs1PUmm9wiFDWpNBrqeouPWMunkZBWjj6oMkhdABRF6YVYy2cnStebRAunjjagaZLbWI8GIYRjE+31IJXByLZ8UhAeIL9GTFHmyCaWigzT2SkvJn9ki08stIq1LNRyVKZE24NJECs+l83UV6AoCaKNaFDU+omHWPFJDnW9KYqieDM/8dGeoTxUuBVldsxDfGoDidHQRrQ7+p2FQ+fx6YZnm6CutzjkLz5q6SiK0oQK9aTkJz713ozeYLLRSDdFmSVixWdncznrZsZyq/mgbiRlKiTc/ynQo71Q11t4xFY4cOK6cfRBTIeUpjJQ0kTbA3GItXwALeynKEog1P0uDrGWz2VTVJZNCh2/UKZCG9fo0FnAHJj6KvJBtOWjzAgV7u1o6LSSMemKjz6USq70ER0d07ATMBhJAw/Cka74SEQHzZWhNInOntqiKBmg4qPIQV1v3VFRcqPfjUjEik9rno+UnJ4m1PpRYqOCMynqeguD2Gi3JNGeu9IXFRJlZoi1fJJDhScM+j0qMVBxF4do8bEmmUq8kdTdpijyiFR6S11vwxErPpcBdCnvpmSEWj+Kkj1ixceJROtHUbqigQNx0e9WLPLFJ6X6bup6U5TZoK63YcgXH2WezMX1JjVlQFEiI1d8DICL5WJDTWpFMj73p97D8Yn4Hav10x+xeT47qQg6SI79mE+vXdmOCo481LoUiVzLR1FSEnFb4MCe2usqPOOiwiMW0eLjNZmcPszKlPgIit6jWaOut36IFp9k0ag3RVGUVsSKjyaZKgDku97UrSMbtTrFIlZ8tkjV9abWT/7oGI5Soq637sgXH0WRaP2o6CjKIPIRH20MlDFRd5t8JM/7pcgVn538n5RK7HDU9aYMZYUtimjU9dYNsUmmirLEOcgQ8zEsbBUaZQaItXw6o+a1Mgax7jMfC0etoG5M4IpX68cfseKzrbRO2wMnWXj2s78Seu6KHIaIiQqQkjhixScrVHTCIDHqrQlfC0ZRZkxaYz4raK5yvQeyrR9OXYhSaVCVdjeOS0xUbMZnojaBzgLmwDTnTgm1fKSg1lG62IQl9hjNCvur4rZMKp3RGaPiMzU6FtQNiZZi25xTsVHRURJFrPjstL1ge9hySDJVEZJLCvfXCjQirmLi30uj3tykNeajKMD4OT+2hmy0Bn69/HtorBOmi7rbkiEv8Ukp8EBJn4uIKEDr7l1c8Gub0jU4JtoGJINw8VnHUm9vDg+QRsPJYxMju3FswlPf3sESskWKKtHQqLd2xI75XMZjU1+CIpmsRVnda0r+iBWf3qQwMNwFDUKQgc2VM6k1sc4WRWIVaw08sJOA+LAHa+4RPErmDBGTdfbX8n59fhRBJCA+6oLYQq2gZbJzvQ291ye2gARaHopcBIvP49D4MKY6rfYQeCKqCtB0iHS9dSSG9SNBdKY+fwvqemtGbLTbTjRUtnYh+AYMCheg7Hr/ShhqkaKhaXvW+GsxO4Jzed4zRbDlo3gxd0soO/EV7GbeRHcrp6tA+OwvwdJSBiNafIzthZxL7CiyCeV689o/khD1cb0Naex9RMv39URFR11v2xHrdps1XEQTfdhGZYxyOz4dGy4otga+s+gcQvdAAodoTTlGxRN2bfd2tY/e+1kjVnwu4zFQbL+1JIZYbfuxcD/xdWU6eOkdW2Nf7VO9brVI+DNgE6LIghNSDHxda0rWiBWfBRYBymFiOcAtOvXXbZ9t7mM/selTYsenwR8kCp4dsyHnSOlZEo6W21kmAfGZKSush3uxoZFJTWRjM4brLXYUV10kGi2hETwBel8pIyA64KA3qQYerKwvlvr2igPri89n+5xqBcUnxwY64QH9VNDAgwVixWcnHsf+y7hcyCbY5F+2Xu2tzaJUsQfpCq5i5yJb2l53HUNRBKJut6lwisWt7mO0ie8cp2YYe5K5MfEJYIDn64oiALGWjzdj5fycwwgNeGXZNAnPrYu/KzcuPjf//Gr9jMsm+ztGjoqPFaTCIx51vRWItnwMDpXh1kD0ciFNxBSbbdFTbbkcZ8q/HtaQMi5tuSpd3juk46DRbEqCiBafyWgTnVCunT1wjFmdaXsRwB2L1RUAF48tjtvUoMwl/2dK19uQ/JV6YmVsK1ZFR5kYsW63y3gUxBtYAJ0DD7o8wOcwjmuNBwcs9Vgrq67NujnDlpc075JDEMZciS0IiZeoyQl1vSVh+Qxwt/k+ZF0Fh/euu/a0G5MV28Z6gBez9Tttx1XRWZBD4EH93u1rCanQKEJJQHx60PWB6+OSCmYhNVtzL27cuswteAnuwjPL/04COF2sHgBwFttraM3F9ZY7rrEiFRwlAcS63ZZZt6wzJER9+TbsvHFYql5wO4CHADyEO7Gv8a1/DuCWcrGzrpFvuRGiMrQiirm73sRaPjtxdffJ5KbiXG29s8unvWrxPgBHnMd42HkcAPOwflJ3uXVBxSY9tGMIIBnLpwddf+CxG6wVtljYVy4AcDfbXo0MHQTwapxBITwA8IPs+EyI5nSzz0l4lPSoPYs047wsseJzGZ9BMY5R0dH11pWxrIEq2m3ppjvG1l8M4AKAC43xbGvlcjDW9SmKEg+1VLcQKz6jESO8OoKQHUEhOs3cxxYLvMeVs3WQu0tRUTIhb/HxcTcJbogPo3C3VeM959lrx7Cwgt659K5vXKzaCpEqiiKGubreEhAfT9ebtLpWth74UqQbf6FyvZ0E8Ewcth3Xq4bXOlsURRGFut4AJCE+kRHlpjnp3sXC4aWFjRatsCoRfBZFwRbfYET9poqiNJG4+LCefZ8SO+IaqdNba6e2kkeXwxHOs8955OIiIq5eiGjBSWdUnaIo0zJH15tY8dmJL2T/2VxvwunsegvDXgDFd9bfklIUJSLqepMrPkFwZXwn5Hq6wJYm1lAEJ+wt/79lqSr2jYtVdb0piiKARMXHEniQqmtpyfo5vbV2Cq/GKQCnADyH7XE3+5xrF9tCsIEiAfXh1j2UGbIHOv26MObmehMrPkWSKSdRF5KP620bR8ulmfPWV4rk02rxEh21fuaDCo4sZu56Eys+Sp19OI+F8NzBrTwWfn2M9Z5evZR0+vTFKne9cXIWormigpMUc7J+EhOfkyjm9qnP72Nxvbki3abuGTtzfgDg1agqvL3EUul6MPuhwpMrPr3r3IVJsgDP2PoRW9V6GbsLagvJPYaAk5vZAg46c2B9eTqHXOf8yWFiOaU7EoVGWSIxy6fOITRbQh4k2iDxeX6OWQIs7K63NWjlAyVbfCycPZ77xablGubiehMrPn55Pi2Rbm1h1lO43HqX2wH85jVtpoiEu1QuyiyxPQc+E9SlREqfI6VrjYRY8emMb28hJ5dSC1XRUQB455Kz7nsXq7Y5fxK1CkUjxQ2Um+AoyRJFfIjoIFu/moheTkRvI6JXEtEO/yMdhSvs2Fpk0/awJ9Ww1q2fXQB24U5cv9jDYvEdaZyity1NNUMkBFJw10rTPTmW+2cugtP1M0rpFNSYg+stluVznK3fhiJc62cBfCGAX/Q9iFlqfOuUYz1N4x5SH7QJyu0sZkOdkehMjWtMYejrcLympIHENmpEYkW7EVv/VgDPMMY8SkR/AOB+/4Pw8R3PoIK2cZ6ZceQscL7M6flzANdtvfKNKEK4UbjeLpYivwd5Rb2NGenmKwZtgmPbvunYR1ESJJbl8yQi+mdE9FwAX2CMeRQAjDEGgPE5wGU8Vq45otnqlkL9AZWQz9MVa+DBL2ytWV1vLQ0Un3ZBCUhsUZg6Mis1pLvePKPtcne9xbJ8zgD4p+X6HxHRU4wxnyCiLwHwyeGHL8UoxR/H1hvfRMvN2COUvGSNf0e22ncrtfVqvEitH9lwq0hJh9ZnfT5EER9jzAss2z+Owg03AEtDPPOH8NgKcEclNHuwEI1NbDW+d18EjpRCcwtegru25gw6CV7QVFGSh7cHtoY+gTaDLgIm1YLJDqKFWhPRtxDR15Tr/wsR/Vsi+s7hR+5RSicVrIEHXHCbXW++7MVi2oWs2Y/40W7qDksDm8jobzcpUSwfInoVgG8A8Hgi+m0U1s7dAP4NEd1ojPkx1zF24nG4bHvRx90m2V00tiuIP3zWXtSN2LJ+DmDZ9caR/L1ycna3cdT15oePJTQm6nqLZvl8O4BvRtGi/WsA32aMeQWAI+XSgwGldDLGGniwH8CVctlYbP7lUlQOAnj10oRzQhnDglHmRWJinWvgQSzxMWVk2+er/8u/n+92Tovg+JTSkd5Ydc75aXa9dWazmutHMKkITmKNmMKQmgs4I2KJzzuI6F0A3gXglwG8mYhehsL19ge+B7HGZKfudqs4h/FCwdnDduz0YnNh/VSznQqf88dHlFIRrhBoA5omOlYIIJL4GGNuBfBSAC8ux3d+GMDfoRCi/933OFTfYCulw0kxr8cbd+DBkuvtGWz9yvKR1rBc/62Rqar/+vx++2vrQwRnzE6AovQgR9dbtPl8jDHvYesfAvAzXd7fGGywgu3i0+RuS7ER4QPkfDDyIlqCBGLgUVVCync8xLqxXX/XQAUdOFa6ovcMgAmqWhPRB4IdTF0O3WDWz5HTi/V34j4spl3wqHodizFcZmrhKFOiLrctYoVa28pQE4Av6X3gNtMztwbFav0cwsI6+QUAPwigcL29uJw47tgKcEe1+3cCeEfE6wxhBcUen4l9b1S/1Vg12LTTlSYD74vcEk5jud1+HcB/Q3PMwBN9DrATNdebbdoELYS5xSPBLoSxwqbbrn/fYOupf/ecPr/DHARhLrlTsVB32xKxxOcBAD9jjPlg/QUi+rbBR5/Dgz6QF6KI7gBQWD+nt+9z5DRw943F+jtxAc/ZmqL7ewG8odsJeaMkTYjGFsfYCY1jJpZK+y2npPotJ2x/crJ+Yo35/DCK2N0m/lmvI85lBkb+sHfM+bmrR7md6OzHvMKf62xa1occL/Yz0Bb9N0cx8plbyed1tXqWiFVY9F0tr93jc4wtlxsvlqlz9Qyn5Xu0Wj911xun6Vg+IjOWEPW9N0K6mIaKhVo549NnIj/bs6XutkZiFhb9DiK6hYhWa9u/v+U9LyKie4joHjz6aKxLy5Bm6+eF5d+7UbrXGqZz5lFvozBXC6hik/1tE5WxLP0+OU65ilQiFkouOT9RxIeIXgngZQCeBuB3iejF7OV/bXufMea1xpgbjDE34Oqr/U+YW2PW2fXWzEMohMdKAg/apMRqZG2CIllwckefg9GJZfl8F4BnG2N+GMDXAzhCRP+lfG1b4QInrgcyRKivhB55oOt4qFy2cYAt3Po5u1h/Jy6wN1hyflKaymLq39TF2GOZKjhx2VNb1w6elVji83hjzOcAwBjzaRRitJuITgB4gtcRDOKX0mlq6OshxKJpDjw4xVxvdwA4Xy53sL3rtdvOs6WZ9UJ02iJt9CGTRyyxOWdZT5WQ4j+C4OTgeosVav0hInqmMeYMABhjHgNwCxH9JIDndj6abSCvTwitpMHwOj5TbHuW2znF1m1zWJy3FQ9dYt29S723l1NEYoq5LfVngn+GkGHnOYiOMhmxLJ+bALy3vtEY83IAX+FzgJ3dnXN2pLjVorObLc3czRbuYOMCdQsuANhVLsfZK8x2SinXYMjvnto901azTsd5FEHEEp81Y8xnml4wxjQOR3TC50HyERwf01hK4+MVeHA7W3/m1tpLUGT9PgDgLZbD3832UZBGZ0WKmEj/njIldddbLPG5j4guENEriKj3rWlsA9s+R2x7KCUPAgZtTPaxZTvcCvLHw/qR+t12QUKjbqNNdMYWghyER3J7kDGxxOcBAN9dHv9tRHQ/Ef14PeenjcumVPaxooHabr4MsvTvYgL0HCwEh7veDm7tC6AsUlpwPN6FjYX0380ldq6qA+pW60YmkWgpWz8xp9H+oDHmZcaYfQB+AEU/+V1E9IdBzjBEDOq1txqSL0XS2fW2l63vwl2ohGU7lcvN9vrsGEOsXIKRgqBIvrY2cgqKSZRY4rMULmCMea8x5kcAfCWAn+h0pK7jMi5RSqG3E+yBPopF4EAz5+E7znOcrXPXGwvBtrlJpXzfLkEZcz6hlAVHUQIQS3x+ummjKTgT5Yw+wQU+jWBKQQhWbkchPABwM9te5f/sw53Yt5XTwyNAbilfL5ZLLedYhzMMOwWhr5hScPh+KZJizk8q96UHqbreYhUWfWOM4/Ym5o0Wq1x/55wfPslcE1X4dXPwQXR3W275Pz6k0hCHIKXPmpHwpEys2m5PIqLbiOhPieivyuVPym1f5HOMpTwfiTcLt7TEW0LNeT+n2LIMD0O4hEXu0Em2fb15XXr+j+23Ctl4qttMUZzEcru9GcCnANxojLnWGHMtgGeV205EOmc4phQ7nzErK4cs63xW871YjAPZ5v9pto4UxQsV3tFJ0fUWS3xWjTG3G2M+Xm0wxnzcGHM7iqCDcXCNOfj00scWIld+Up2gN509J8iNh/Uj0YKNgXhLeKakNAY5A2KJz4NE9FIiekq1gYieQkS3Avio70GsSaZDcRXIrM7X5ZzJNjjXo110dmF5Ulqb6y0hYv1WGqmmKN7EEp/nA7gWwBki+hQR/TWA0wCeDOB5PgfYSjIFwieZcmthhf0d2mMPEarb573WnB+b6+1mj4O2h2hnRcLJw2JRAR6d1FxvscTnOgCvNMZ8LYpBhtcA+FD52mORztkfKYPkrgZwkAAfQiFAR1v22YXuotMx8GBPbckJFTDZzC3aUjixxOd1AK6U669C0ZrdBuARAK+PdM4Cn4atj9h0bSjFlOQ5hOZZT28u/+7GIgihiaYq2SebdkyDJreY9tLjIOV7zbWz00BK1k+s+XyuqiaTA3CDMebp5fq7iej9Uc7oe2O5hGcF9kF8fo6+vaiheUE8z4ezLeeHs862c0vFPvWCG/c03l7klv8TK+9L6Y/tmVEmJZbl80EiekG5fj8R3QAARHQdgEd9DrCT4B7rSalH05YXNLl1BPjMBVRQue5swQYJ5fxwVDDiot+vUiOW5fNCAK8mopcD+CSA9xDRR1FEur1w0JHHEJp6o9lkCdWvo2vvfVSx4RYPX6+P/1TutN1YRLg9jGEWkjDUMhmXeumdyTtZ+UMXa5HCQolVXudvANxMRLsAPLU8z8eMMZ/ofdChopPAj+GNl+ttKCMKzpSutxiNoQpcO9V3M6YQqetNHLHcbgAAY8wlY8z9xph7+wiPOcD+6dM4NVVbVgLS5HqrjQVJ/O55o6ciMS4+1bz1N5kFsdxuedEWhFAhfuDc5nqru+GaItnawrPr5xDMGI2aNpz+6HcVjRRcb2LF5/LnATo78CCd3VDraG1Aq2PFjIbzZbDrzSUULsHpIDRZiLcyKlyYQrnn1PUmiqhut+BEaZzW4TU3TddeRLI3uSsRtQ3h5XbGqGithOcc+6u/VTakJT6+OMd62gRnvbaP4/gSTVurlWGzVoS7yxRFRacz0hNO0xAf33weLzHw6Z0L78FXDC6343q9jyi1CLaLqazFEG4d7ZWPx9Ak7aZ1ZXTEjvnsvAq4XP0j3VdrywuqxjGqaxdxs3e1fupVEXxESzD1MGjNO5kfIp7DcZAceJCG5ROUro3jQCsotmjaHiQvk9v3uzgEtyXkeL3tejYRvnK5DbVOFM6MhEgaYi2fy5/v+IYg7rbIZBnR5SFgEiLdVHTyQqslJI9Y8dnCx3JoDSwIQf04jgbXJ7RYDHW3WqbYqg4MacRU0JQEkOp6y9ztFnP8wSM8eyzaXG98seJyq40wjiN5TK+OBhfIYuhvsYlxXb8KgBQsH59gg6A1zXwYIDpJud4GBhekYv35WD+5iA1P3D5g3SsNtGhp0sgWH5/Q6smxVEWQ6HrzEmlX1JvwaLY2+hT8zEF0fFz7nTsAACAASURBVCqF5CRKQ6l3DlOyyi1IdL3JFR8aegAhLrHYjPpgJCw8c6Or4NS3z12AmpCe8pEYYsd8dvqIjzTLoo6tpzGXG9i3pzWmr71riZ3UXDln4Sc8ORLLStWxoCjItXySIiF31BjjY9I7Bb6k4nKbq9hMQWX9VGKUUEdSmutNrOXjTec6ZpkhpUfmFVVnQeIDnIrwxCJVQRvjd5PyzCVO+uIjho41zaZucPsKRdMxhhxnCpdGkyutvi0ld5uOzyieSCo2KlZ8Lpupr6ArCVlaFy3rXd4f4iaW0oNMSWiaSNVKyQEp93CC5DHm0ziOMVa0W896ZpLg12mz1GJ8Fok5Tym522KLTqpRb5rzkwRiLZ9hjBlmPTDhdAg+00x0pW4VhbJypMEbp1SrXKcoDDmSWIUEKa63PCyfuRIr70DIzRmdlIRGUTIjH8tnqcEUMv7iM9vp1IEHUyPx86soLUh1PCkl9+lMESs+XkmmYvBwvYWMr/ed2TUFEnBTiEZdb3bOYZoisAnc0xJcb2LFZ5b4ikkCN7eTRPzjCtK1fjhqCYlDtPh0zsaV6HrjtOX87GHrTa/lYOUA6YiOut4UJSqixaezaThp6YiAEXa5CY4SF3W9ySOBDtbUrjex4tMpydQ6qH+I/RVoCXUlB1FK+dolc4AtMcjN9aZuuMnJI9S6tVimMNGROM/PWCTQGwSQfsN0AHmIRQxi/7aJda6mLDYq1vJJk3X2t8UN5xOCnRupCI+iDEHvc2/yER8va2IMK2jA2E/OYpRYj1BpIDdrKnULN3HEik9aeT42PPN/5mYFSSeHSLcD7K8GJIxHgp2sqQIPxIrP7MlFjBKqeZUdMUUnlxlTQ1o/CQrPlOQlPlFdbyNFzHErKGUBUsGRRSghykV0lMkRHe1mVmKbhIfQ7hoLITb14/c4ZiVCc42Sm4L90DEBH7gQzd29F6vQ7whMEfUmWnzicai2vm55zfVeoH+AwbrHuZC29aOExzYVhARSnf9nKIkKztSIFZ/LpqfV05rzY2PMXKD12vohy2sN11T/XDEsIe4qm/tDJcX6CRUAUReGubvPhnyvc382AiBWfNJhqCU05sR3LTSNz9TdCC5hymWMR4LgcGwzc9a39bnuSpDmLkRdSdjFZmNs15uKj1g8XIFDLSEfsXDtk4rgVA1FKtc7BjFcZCm53nS67UkRG+02KM9nsoH5WFZM3VUngFSi2frUwku1QRpy3akIRij2I93fOSJj5vzka/nwL3EUUzK2KEQ4/h6kISBdaROb1D5zig1kk/VTufUkiNzUYz0avQogZ/Hh9ApCkIwlUm7ORUsz878Pompcu44BhS5IKnUcqY+7bej9lVX7EwaxbrfLQNgf7CJbbK+LYAS3Wm5VB7o2DD77p2hxAMvXPeVnkCo8kliByPJaZx4d5zzzsHxs1AVnkIXkSlhtY+RxnNRcTy5iRB5Ji3hLndTdbRlGt03NPMXHZeVUr0fvjdhEp3KrVa83Rbup660zPoIrRXSmslpCut4kCA4Q5rscQ3jGyOMThFi32xZjm6aj/uBtya0RraFcrJ6uM7vm7G6zkdvnGZuhMwcLc6lJQr74TIm3EDkmjxubtps9B+FJfSpxH6RYYEPIYdynz/MicBxHIum53bJxK3URK1sdOM/6cDkQQmzaGpIcGnvOkM8TyvUmxe2WKtm0dc2IFZ+dKCPekmBIsIFiJaR14+rBSqnjFoo+n0fHehYMufeyS+2IQ75ut1Cmr/ieh0X06p87pdDqObjVfEhVDFN2t4W490K0OW1pIZkg1vJpxccc5b0PkearT0HSmbjUABUbTqggga7WT+gk06nxTSYNWbUgBCLbq/CIFZ/gLjd+c0T5YUO53gYKTko37RiCk1J4dYUWvBzOWN+futd6I1Z8gmDzvXbtWbT6cEON9QwRHRZ4YPtsEhNLYyXuSfuc0olh7UxV3bqP6PS5D1MQneo5EOpVSE98QvTsU7IOWpmRWy4muQUbADLcbWNPsZ2DtTi0bUqo45VvwEGdoYN41vclJADSekCxrqfrcSUKj8RrGoLEsaSuScocSR1YV63GTY99JiA9y6crQ28S0eZ1Lc/H9VkF3XiTC2EqjXt1nTF79RKFYQz6un1FtwkdmLhenVjxseb5ZBUJUglH5BwhSaIjgdSEJxa5iM4Y7rZcBAcQ0x6IFZ9tTCU4XgljXSLdXG46/rrtmB1dfX2CDXjDl6IvXWKAxRB8I+B8BGsq0ZE2xbZPrz+7epI1JrR+0hGfpOkiOPXtbZWtAzOWRSAlxDoXUrHkJJCT4CR+j4sWHwOAqn/Eu9uarJ8QguFxjLbvJcQNWm/cpp6GuA3X582loZZQuy01chKemHx2nNOIFZ/LYMIDTPuDdarVlFD0W50cQo7b3G2pf7ah1y9BcEK63mK4g+dYl20iC0p+qLWEGkfShSelhyVxV0HSSBpvCUFXMc7t3ps6YnQgYi2fLaZ0t0lv1EN9L10f4j7lX8Z8UGzWTw6WXQ6MHXig7jaRyBefKZnKBG87r+8NnGJNs1jM5XMq/Zmju21i0hAf8cEGAah/vvrDIOHzD/GxT5zQNmskjPUAcawdHys853sv4ZQCsWM+O6e+gDFwlfyJPa/HfvY3VA6JjbEe/qYSIinmKYXgLOQIDyDrWqZALasl0rB8piSGOT6GFePbI4rdMEvI6VG3m+Jj/cRyvcV+3hO1fsRaPkCR57NF6r2GmcxOuIWE2UjPYd7Ck1t0m405/8YJI1p8xDBUMFIRnDYryNc1NwU2kZN6vWMx1M11gC2hmKPrLfWOcyREu93EJJmmylBzPJXGO0GXQzRCNO5NYsOrIqRaIWEq15skN7sgxIrPUkXr1IUnpWi9EIIzZnBBG7m4Y1yTssUSnD77xHx/G9KmHk/leZ8QseIjjj49Igk3YF0IYvWOphjfybmUjk1QeIJmCLdaLoQUniHWj4RnPhFUfJT+TB1QkCM+gjJEdEIJjhTXW1fR6Zrz4yNEUgQnMdebWPFZmkwuJbcVR+J18wcvoRs1a8ZsxKXNqTOUWO4213Mr7blOEI1260JuN9wey3pKpBrpdhbykkCbaPseD6BbRJz0z2rjIvsrPV0ioedYrOUTjTFKbUi4OX2trrbvonptiIVUd1lI+G6mJIUGuC440guydrV++rQBc79vIyBWfC4bhPvBx3YvSa7E3XZttgey7kt2PbhS8hqkN5pj4mOZuPK8KoZ8p7m5/ZTe5Ot220RznS9YtvkivQfEr2+F/V2p/d+VPXBXLeDncF1bSMZ2Nfi4zGyvjd3wulxi+9E9gdi2b0qikvN4ZyKuN7GWTy9cN1TXeT2kC40PNjEI9Tl9hSyH77JJULqEPk/hcmuzNGwikmJQirQ8H8VJHuIz9AHpk78zxL0Vkz5WTf1aXcIkxa3GmXICOYmi05WxesspWUdKVNIVnz6CUx9olCogfRkiCj7fxRh0GVuSjgTRGdrY25KUbaLelP8jVXB0np9J8RIfIvpiAF8G4DMANowxn496VQB2Uq3EDiDnyxyjIa5/1qkekqGf1Ue8pfyuudHF3Ra6IZ5CcNT1lhRW8SGiJwH4IQD/AsATUNyeTwTwFCL6IwA/b4z5/VGuEhjWQA15qNpcUl3f60MODfFUghPL9SbBgpGA728m1dJRRNFm+fwGgF8F8I+MMZ/mLxDR1wP4PiJ6qjHmrpgXGIQczOspJ8PyoavI+rgFcvjdpOP7/U41nhYbfo+Ncb+NFdCUQCfWKj7GmG9vee1eAPdGuSJ+nhWAqh8opA9zzAa6q/WTgK+2kdTGx7ogpY5ZV2yRbtw91bfBlSo6fVxvYzxvTW0Of2ZCPj+JtB++Yz4HAazy/Y0xJyNdE4AiyZRC/RhDezP8xohpXYS4aerfmcTINCBude1ce+lS0O/RD59nT+rzOQJO8SGi1wE4iKIfVQUaGABRxScINtEZ0z3lK6A+jfEQt8CULrmKEBGKSnh8vmMu6lKFPESwwdD7bepnDEjGe+Jj+XyjMUZGDInP3DSSSr9IcLfFdoVJiWbzOceQRjM315sShyGdvKGutwQEh+MjPu8hov3GGIl9nQLfnsrQPJgxXG8uhuTBhLxu10MS8kHo2jMPSYqC04atG9n1vmoTctfMq9KRkubgQ2KCw/Gp7fYrKAToz4joASL6ABE9EPvCvHDVGqsjfUC8602+aVmPhW9J+ZjXMvbDlmLjyalfv08Xsv4d22okdmEMET9XW1Kka+dQsjA68LF8Xgfg+wB8AIsxn+g0JplKwmVFjCV0YzbGU0a0+YRl+yB1vCIGNuHkn9/HEhpCbpZjGxLGexLCR3z+whjztuhXEpMQN0WXRldKA93UK0olGq6Nyg2XsMshWVzC3aXSdypWpQa9RMFHfP6UiN4I4O0A/q7aGDvUOihDxzrGFBPJjeqU7rYpz5VzsIFPXoyvpSjtO8q93I7UdsITH/H5QhSi84/ZttZQayI6Wb7+m8aY3t6zpSRTidhELaWES5clNIbgjNVIzMXdFoIxvqsxIvF8XIwhGNu7kgFO8THGvKDHcQ+hGB+6g4h+B8CbALzDGPNZ3wMETTIdyphiMnaUWBNjfdZztfUYjUOIRlRajz4mQ74v6RYiv8dCTr09lVdFspfEg7bCoi9HUTz0ry2vPxvADmPMbzW8fNEY8z1EtAvAdwP4AQCvJaLfAvAmY8x/D3DtbsaoyByS2FFiPkIUo0ZbnbYGrnptiBCF7LVLbkx98BlnGfp9hfiOxspHkmb99u3YJiw6FW2WzwcAvJ2I/hbAH2NR1XoNwD8A8DsAXml5rwEAY8wlAP8VwH8loicDeB6AHwcQV3xCDaK33RipzAVUD8eWPHAaqmGYU0TbVIQS5bO1dalTMbQ9N2Pl/WUgOJy2wqJvBfBWIloD8M0AvhTAwwDeAOBFxpjPtBx32zhPaUH9YrnERUIpmdwZ8iD4iEP99ZwHjlMidUuQ4+v2jdlhk1IhZAJ8xnzOAzjf5aDGmG/pfUUl4vN8fJBU0Tr0AzSlv9k1iKzjPHaarIvqs9qsjjG/izmUA+rSJmQqPECkabSJ6CtRjPv8LRERgJsBPB1Fs/BLxpjPxTgvgPAWj01A1LoaF5ug1AeRFT9cgpKr+PYh1FxaEtzwgvApr9OHd7Jj3wbgOwGsA3gGgNd2PppvafIcxEDymExIQrrRUi6nMgU2YTnLljkS4x7yLUllI+P2IIrlA+AqY8wj5fq3AXiGMebzAN5ARPf7HsSsAFT902SBpCA2UgIPYpB4qGcr0sOGcyZV11tl/YR43nN9rhg+8/nc0bD5bwDcUwYlNPFRInq2Meb3AGwA+AoADxLRtb2vtGIKwenjepMmONIj3RRFArbAg1ipCvVzzAgft9sTUYRWV4EHBwE8GcAtRPQqy3teCOD/IKI/APAEAO8not9DEZ79Iz4XdhnM6qmQbukMNbEr5iISqUSwHUCaPXFFPptsmRk+brd9AJ5dBQkQ0S+gyNP5dhS5QNswxnwUwLOI6OsAXAfgOICPAXhf6X7LB2kWztjk7npTpiFV15svuT4zHfARn70ArkHhakO5/mXGmMeI6O/sbwOMMX8C4E+GXaIQUh27GcOK4ufI+aHijaGOB+XLUNebjZyfjR74uN1+CoXb7PVEdBzAfQB+hoiuQeFG2wYR/TUR/TIRfWsZaq10ZchNvgfdJ9oLxR7Luo1UXG91cu6VK8oI+CSZ3kVE7wTwDSiGYf6dMeYvy5d/zPK2TQDvB/B/AvhVIvoNFDXd/sj3wnZCYJKpdOtHyliRhOtIde4YZYFE19uQKbZzdlH3wDfP5yoUX9tfA9hHRK4KBleMMa8xxnwzgG8C8BCAnyeiDxORrR5cWkgJfpjSyglFSOtnznkqSjhi5Pyo8CzhE2p9O4Dno3ikq2ABA+AP2t5WrRhj/gKF6+6niOhrAPxznwubxupZZ+uHmncZU3RsPaWUhCbn3p7mAsVHovXD4fd203OZ670fAJ+Ag+8G8DXGmNbgghq/37TRGPNnAP5jh+PIZkw3XEqCMyU2QejTiHGLTCsoKC54QIKKjhMf8fkwgKvBptB2YYzxyuWRxyEsWz8tqOjkSVcXoFo/+dJngkMVHW98xOcRFNFuvwsmQMaYY21vIqLvQGE17UXhpvtLAG81xpxqec+LALwIAPAFX+BxaaFZh9XdxpEcdCCRNtdbbIvCx9rxaWB0jqDpkO56U3rhIz5vKxdvysoH1wH4VRTJpQDw5QCOEdERY8xLmt5njHktysKjtGuX6XJOK1worOM167V1hwDV3W38uCpM0+PbUKUa5q2MR6zp3RWvUOtf6XHc5xhjrqtvJKJfB/DnABrFJxg2AbDWYuvgbquQEu2WOilZFNW11qdwUNfbPFAhCopVfIjozcaY5xHRB1BOi80xxhxsOe7fEtE3GGPeW9v+DAB/63NhvfJ8BlsdHi43F3VRarom6flCIZHsA+/TmMRsfLRxszOl601C5yjDe6PN8qmsk3/S47gvQJHXswsLt9tXoJiG++Yex7MTrBEPIDxtqKUkD9fDPGbk0jn21xZll1njkyRjTu8uQfQiYhUfY8z/V/59sOtBjTH3AjhERF+CIuCAAHzMGPPxvhe6xBDBGXUG0nVgpUXU5jBW5JPn4+t6CxX6bGswbJGFts/Ar7ur662tJ5t5o9OJuQUatP32mVk/PkmmRwHcjqKppHIxxpjdLe85aIx5oBSb/oLDhSKZxrk+dtQUwLBefi6PRNZkPreFNuHpKjihiFU40vfcod6bUUNkZYi7bYzxxJCCMLNOh0+0208B+K6yQrUv9xHRRwC8CUVNt85f6+VqlClG49vV+vGaQbUtYIHPxzegcoJLlCQJdShXle3hHqNhieFu49cd6voz6xEPRr+LJPARn090FB4AeADA9wH4FwDeRkRXUAjRrxljNjoeazq8GnGb6PhEz9X3aRAmmyhVQQtSx5JCutvGhFs/XfOTxo56k/bdTYlNcGwRijEY2gmov7fpWjPqaLRFux0tV+8pQ6R/E8tJpidbjmuMMR8E8DIALyOib0BR0+1dRPRRY8w/HH7pE7LU6NfDtF2i4yE4vkgVnhQY+yEey/1TnSeHBsrlbvP9jLG/i3O19Rjny+H3rNFm+XwXW38EwD9m/xsAbeKzNIdPGXL9XiL6UQCuitjj4GM1eIdE+1g5/Os6at0rCFOGcnd1VbVZP64HLrbl1MftZrN+xhp/mAOxrQspZCg4nLZotxcAABF9szHmf/DXiOibHcf9acsxDYAzPhe2kwTM59PagHcVnPr2SoB4QIJneR+JSM7n6Yrrs0husCpyDk7IyPU0Z3zm87nTc9sWxpg39rscIVyEXXhW0BCpVheM4+XysOUgtu0V6+hccWGuDGmEuojIObY0cRb5zCWUgrhKRr8/L9rGfL4JwD8EsIeIeJXq3QAe13ZQInoSgJ9AUVi0Gr69COCtAG4zxnza6+pcc2X47mPD5nrr5bZq80ICxXx6uzyOM1B0JES6daXJJSWpZ+vTmLQFG0hojFzJqvVrnNK6aBvr8U0Mrpgq6EWTg520WT5PQFHl5vEoWs1qeRjA9ziO+2YAnwJwozHmWmPMtQCeVW474Xtxht+E9Zto07LNtn+dLQtmCOtwWykPlQsAXGLbj5d/TwK41eP4M7CE9rNlLGwRRTk3HvUBcldi49ji2cd6lDybr4TOh0DaxnzOENG7ATzNGNN1ArhVY8ztteN9HMDtRPT9vgeh+k3oM67gs49vTo3TijiGRQ7PUSysn0vNu2/DZS0lQKixntgNvCtZcW4NhM/nlf6d+IgN3yencckMaM3zMcY8RkRP7nHcB4nopQB+xRjzCQAgoqegqOv2UZ8DXP68ex8ntoz1Pvkxzv1PYmHh9MEnBNszL2iI622IG3NsXI2jbw/adhyfxtfnHBLzmboylhsuZjkdnzJJymj4JJneR0RvQ+Euu1JtdOT5PB/AjwM4U4qOAfAJFPMCPa//5Y6MU3DWsWy97MV2AbpQ/t1X/r2ExdjPwyiG0IDlCLiRsfUIfcrN+CSThmSIIFTWT/X6kIYuh8CClJiqHFIocszDGoiP+DwZwF8BeDbb5srzuQ7AK40xtxLRDhRC9PTytcf6XKgsuAVyO7aP2VzApPhaP6m4Ibr2StsG/6cSDe1dy0bzsEbHZzK5F/Q47usA/P1y/VUoLKbbAHwrgNejSxd/qLkf0vXWOuhfhU/bhIdvv96yjy3/p+16avu4RCdXwekDFyKbFWQbK/ItpZNTgyMxv6ar9TO2pa5Yceb5ENGXE9H/Q0QXiegTRPQWIvpy13GNMZ8r128wxvwbY8y7y8CFp/pc2M6rEL4AY2d8SuWsY1lLl4XlMFsW3MfWXTk/PtdREiPM2udB3VNbhjAkumpIrs3Z2rrrOOp2C8sBzCsgJLfP0wOfJNPXoxir+TIUgxpvL7e18UEiqiym+4noBgAgousAPNrzWsOHfTY21vXQZt7wH2p4fTvNgtMHnxBr9rqPJddVHMbwqbsSOF2ESu70OU7Xc0mzFIaSc6OZ228lHB/x2WOMeb0x5nPlchzuJumFAJ5JRB9C8ZO+h4g+DOCXytecXP5cbUM9N6EL3ma2raG/gy02LrHFB5v1YxtKC5Tn4/tdDLFifN83RQ5JH3zcc0p8bPdKVzealCCFcxje8UoYn4CDTxLR96KYEgEopkn4q7Y3GGP+BsDN5TTaTy3P87Eq7DoI0ZMAfRv7SiwWkW6nsA+HG8Z+DgM4FeLS+tD1AU0pkmhsuABJrmqQEkMmjQuF/maj4iM+3w/gNQD+C4ootz8stzkxxlwCcH/vqwuJV+DBIbRbNxWu5FCfaLd97l2cdMjzyXmgdex5dHzIObpNYuBBV+rPQ66/lWB8ot3+AsA/HeFa+jP4YRhSoZrjFp3C+umb8+MRASeltptL7EI87GMKztCoNyUMtme9q6UusSOWg6h3oK2w6L9veZ8xxrwiwvWMh1eYtY/g8PGa61GN5ZxCITR7y1eG1D7wIkaIdSzX2xDh0YY+X8ZwvUkUnZnSFnBwpWEBgFtgr4QpG37jLTXW9ekRTqJdeB5my3aqSLe9ja8OxTJrapuYSnvghvTuph4XaMJ2TTn3YlN1U9k6Uzn/VkKxio8x5merBcBrAXwhgBcA+DV45uoMYafPaBRn8MPgCqFuF5yCS0vh1dza4UK0HIzAo+N8ot5GmGwuRM6ONMEbgisHRa2xcJyFO8/KJ+ot1fsvVVHvQWuoNRE9mYh+EsADKFx0TzfG3GqMkTKyEAk+3uISnIpCRE4FCSRo4hB6C09XERn64MZ+8KVYP64GckYNiRiaplrxeS0kQzsjMwm/tooPEf00gPehaFWfZoz5D8aYT412ZX3o+mMtSegxtn4S7aLTJZ9nCNz6abLIamJUd71tYrwHrispujnqYiNFBKdCQuPYdg2b7K8r+GXoZ4k1k+2Q/EbhtDm3fhTA3wF4OYCXEVG1nVAEHOy2vTEE25JM2/BpyJy9/3qF6jousdmFerABULjeKpfbXgB3be1/Ac2Vrn2J7H4bEmyQW1i3utWmwxaEUG+UbW1AzPuwS/mlIR2VzESnom0yOZ/qB2mzZSlUVgWvUL0bheXTJjqhrJ9dWIRZ98DmBJUoAqEepKlDnFWQCqRMfz72zLP6+w8mD4HxadDqjbBXqLVNXC6wZQjVzORAs4uvnuvTI9JtKnKOKvKdQE6ZhkwtBQBZfbY8xCeI282FTXCaBYiX0XmI/bVXt64z0cRynCFWkzSLSxmHGIPlMayMsQf11VLaRtrisx9u4bGFDFvzfG5n6zxAui2Krd0KaprftBuH4Ix2s1k/Y9dnGyPAIcbArhKekIPloQb0hwpOiGvQexdAiuKzH36iU9GrIfTJ6WmnSjJtSjQtrJ995eKT5zOgonWIsOkuguIjdjm7pGYSJutNjO+iPveS7bz1a5j6NwnVaZr6cwSiayrnaOx8PHC5+meUxirQlAXwiXRrw8fd5hHpFsP64BFwWvV6mUwahKiErF2W+iyyEqp4T4xsy6eLhdOGrSG+CCyqGvAG/Wa2vgtDggseYoud3WzxoUEo6xFvsYTBZQX55FNIbhSUdBnDnSVFMDJ4hkSLj4n1Q6+wpRGfgqLdWQ42uIBFtJvN3eYx1gNMV8m6nsTnsraGdiRij/UMeaBzdiVKh98Xse6PGEmkMx/7Eet2u/x5gEb/cWyis6hW3YbftNmu8jtH4XarjVDfzZccotpcouNyF2XQCx2NsfKCqrYjVAd26ryyDBErPkGwuZ62TSDXN8nUD/fspbvhH1qd+ARyQyZZC9kA+AjO0GMo01APSJDiKqsIdT2Jz/8j2u3Wm6EVmbci3foLDxec7e42Dp9ArsIz+OEiW3InZJhtm2jYXj9Xe12FJwypfJ/qbgtOPpZPkAH2dRQWyPHy/11YCNA+uIIO3BZOdZy2Om4BXGrSrJ2hhBCdEEhvIFOH9+Ql9OpVJKKStvgMEZwt11tlZYQLta5TiNLQsZ4R3G1V4xr7oe/qelN/+3yIIfDc9ebjhkvhXptamAMgVnx2XsXyfDghLJxtBUXjsGwJNVWxrlxu1XhPPeR7hMAC7c0rUgkZnOASlLEFR+JY1MiIFZ9thMpbsYZXH8L2YAOgq+vNTeVyizgjxVC3m5RKxUAavVAlTfTemhTZ4hMjUXJbpNsdEU5Sp7J4bGM9J7FcU66ibgk1UHe9pTLeMyTqzQe16PIj1LQJEkRnqNUjYUxsIKLFx6wAFCWSy8fdFmKunvo4D5807mEsV1JowsPtNkakmyRLyIWKzjyQFpzQhZm72yrEis9lE1h4ltxtPLeHrwPN7jZOm+vNFVQA+LnbBlQ08A02CNFIS3zoY1tUihz0d14g8Vl0IFZ8guGcaM01fbYLH8Fpc7fx5FIhlo6LUA99m1BIIroBdwAAIABJREFUcI0o6ZBg4zuYxMU3T/HxmtnT5Xprc7tx64dHsbUdi7vbeJSboFI5fZD00Cf+MCqZo+62JfIRn86Cw91tR1FYIZXLrW367BAMmKXUltvD8XG9DXVPxRYcze1RlG5I6gh6IFZ8dpIlz6fOYCuncrnZJo4LJTjc+jmORbBBFdEWoHL1mJFuQ290tVKU0KQUGKPIFZ9WvATHxa0tr3UVHB/XWxsW4Yk9vpPb4Hxun0dRMiYd8RkkOJWLrbKAmgIMdmMx5VuIZNI2IiWYdimrM3Uj7SMU6npb5gRbv2myq0gHKW6oMcd6pHxmD8SKz2UgkIXjqt3WPsdoOOqVDXik2x0Ajm1/i8/4DmcM4Unkxs6GE+5dcAIqRpLRUjqNiBWfYbgi2WzjO0Noc73ZQq0DRbp1Hevp456SIDo+llAurjeX6PiIkrIgIYtgLmQmPm2i41O7DXC52w7DNXVC9f4hY0CMUNFtEqk3Bk2iMaceowpKeM7V1ucgQIl8zgzEx2XltAUWVLgFx48LtXVexRpsfW+5fisWNd086rhNSSI39Ba89IpkQgmOut5ko663bSQqPi7B8anddl/rq7eUf5tGhCrrpxIluyXExainJRQr4q2re0qK8Pi63vi6RAGKbeVocMK8SaCzmKD4tAlL02tVAimwPDV2c0TbLdu2NONvDXWhZv10EZ4Yrrexb16pQpEK6rZzM3ajnJK1U80i8IRxTidWfHbClmRaLwTqQ3uAgUtwKieZLS6uLkTNlhB3wz2EZtebAKT0ltqEiD/QPqHYcxe1uijN3RIKNTWDD+pusyJWfIZz3LK9CDA4XFo9ey177Sj/rgF4pFzfi26B2e7ghMB0tX6qRlmK4ADdXWap5gLdBLVUJCDt/g9B38+ziThzqFlITHx8LJ7KxcYj2iqKcR6by2yHZTuHi5WvJdSMzfphrreueT59kP7g8esLZQnNHQ1OUJoYUXgA4KpxT+fPwuW2juXqBHVcrwPFOE9zgMEOttjYYdlvr2WdsyxEMasmKADsLg7pIqvkSwodopGFBxAsPm5cglMFF/AAg4JTKNxpa44z7GNLEztQiI5NeCZhgptoNPbXlpSR4nKTch1Tktt4YCKfJwHxseW+NG2vV6herixwC1tsuARnH9yWUrsYceuHO+54PtJ64W6TMHGcEh4JDf4JLK5DwvUosyMB8fGleTbSw7iwtdhwCQ4AHGGv8/12sL9rWAgPF6A4YdmK1fpR15sijSbX21nL9imYoEJKwuLT5nLbjWKM576laDNuZzwCt+Csod09V73fJ1BhVHJ2veWADvbLYyxX1VmMIzoJuN7Eis/Opf/qLjZbMunDbGnGFWBwBO7xoDX41SuwWz8erreVrrlMGeMS0xzGgKZGXW/xsQnOWYwnSoJIINTa1Qg3u9s4roCAupg01T7YV9u+BuB8w/47sMgLUgbga73Z8oJs+T9zTzhVlDoTeUrEWj4FXXv/y5O0HS6Xurutgls4TSNCPmNBUamsnxV0n9soZddb07XvYX9T/mwVEl1vc7d+cuuUCP88osXHNLrb6oJ0tPb/fWgrGnoQhWvtiOX1SpDaot1cgnSQrQ9yvQGBJtTLhFCioy46RTIzcb2JFh9/2sd69qIQhIONrxZUYz0V9TGfpuCDI7V1lygNzgdaQTcrKAcLwYbts3FhkV5TS6L1M3eEWwud8fk8E80Flrj4nCwX7m67HsDCyqga/AfYHnysZh/cVpAr+KDtdf9E1JacnyZydcOlcp25MnfXmxRmYP2IF59l15vPZGuXWvNqXG61reROzwRPfhwuQgexnANUUSW4FuNRI5TbSWmMZMh1nmMLR3N+unMCy0moihIB8eLjDy+ls+AgW7g48Gb/PNAsOBeb111leVxMlnSaigj1oUlMUghdzdH1lrp4qettFBIUH2798GCDhWPrFPZtubqa3G0VTrfaJqKXuTnsW26niRX2N4fABJ8HYJMtbUgXnVQa6JDTfCvdkH4PDySBPJ/C9UZeYdduN5ZX2LSrYbtY5vmsLI7ZJf9nL4C7nBdRj+KzkIPo+OD6TZrcbT7TbY/Zy51jA3yitp6jpZcLI8/nk6DlU8dd1eABLCycbe42TlOPepP9PYtBVtBDbLFzFN7CU2cF7oi4PbVFGjaRabvWVNwkqTa8dQHx3df2egoWXyr3lC8CP08y4rM98MAe6QYUloWrlM4a4OdWC+QP5e49e87PnWx93bKuDMIWnKDYaROMEIKSiiiNTcautyTcbgvcDbBrMH8fBgYMbGIrgsrmYrNtF0nXqbenou0abe4zLbETl6FC0SZmNzWsK/HZBPDZcU6VmPjY2B7lBhQCsMbWjzRs35qqeoQG2K/m266W19gU2z6MMQ13DCrfc9dxHqnk1psf4/NI+M7OYfqQ/JCJ0hI+DyMZtxsAGBxj/9kj3fjW1qoDlcstsvDsw3KwQcV211slPMfZ9hHdbZLGgIb8Jj4Vgsd4CNWNFAY+6d2cvk/pFToGkpT4+HHBWVFga6ynL6xR4y48W8LppPhEw/Hgg7oAhQhOiCVqXSeTU9JlKtFJxboOxR4ATxjnVJmIz8MorIZidIWHMVd5PlWk25K7rUJSj3+L42y9HnjAlwj4CI5rn/rrIr/jyOhYhTKEkMEGPnNejfyMJic+y643wGfiuNYkUp+ExQ60ldupsLve7NW43TiEKEQiqk1w9jTs4zqGBGK73ubkIhoT/V6zINGAA/sEclVjPmhq67oYNTWWF7HVmPPotvHxsH5WausxghB8BCWG6HSNdBsDbRzzQthAfS98PoMmmXalyvO5BG53cDG4G4vAgyWRqI8N+FhB0Xvul1B8pt1YFlkfF5unG67r1AwxCJXsKtEnr+62+JzAPHKDMs7zSVJ8DE7XtjSHWkefidRSbLSf623SOVMLUirV45Mk6hN4kHqPVlmQkxAdYEumJCk+beyFe/6cpSrW9fGKJjYt6yLpGITgYwW5XpvCilLRUDixRUeihd0V3+rWIyWZJis+y9bPQmruYtYDr2gtscrAsvVjq27d1fVW7TcwGq5NVGyvNf3vK0xSghBCoa636cjBJRcj0k1Yhy3RgIMKe6RbRZR8Gz4wZwk8sJXbOYhlUfSjQ1WDodiEwteyce3nE/AQouRPl4dXy+0ouSFMaJpI1vLpAxcDa56Pj+stKYQUJPWxgLrmBUl/wNT6kUEoSyiFDopAC8dG0uJj8MfsvyrJ9MJSkulbau+ZqvKAX+CBz8RyKZHQJHiJPLDKjPC13oW61VwkLT4+tOb7dE0ytQUeeES9zQfXeFP5WijR0RI7ypiMZf1kHukGZCw+1Xw+QJHng4Z1648rZvD7KFuGuM+Gut48BaX1PPXX2XrbxHepo643eUgPQugqOim4AxtIXnwWrrflJFMpdM/5sU0sNzY2QWmqM+dznJ6MOetqYm4LJVMyTizlJC8+Bc1JpoPomvNjcb2Fw15SyI+uYdp994lc8LQJdb0pYyLF0kh0rKciE/Hh7MNhFFUD6iV2KlpL7IyIa5rvgjuxEJ4+gQeH2BKLLm43m+ttXUbZnxio600e0l1vPkgRwZ4knudTYHAe5GFvRHfKdcz5sW0/jAtLk+Jtp2q0bYIyVl6QS2yGHgPDC6HWOxcul4bm/CgSOIvsLfcMLZ9lnPXd6iV2OL6utwhTM9gJWGC09/kjutYquAXUlJNVHwdK1PWgJIp2UAaTjfgY5kw7hUV9N15NYJvrra1H7RKTCILDbbdw5XZ89xkazebC57o9j9829jPUBx6rUVHXmzykut66hFknLIJZuN0WBKrg1lVQeLmds4v1NQDny167j+stLD5BA0NeB5YF5ajj9bbzjFg+qG2en4QfZKUH2iGYlMzEpxvnV4C1yvrh9cRC1BarUU3j3R93HTt7Q15tDy04ffdpe71+DeXnsY392H4riWM3N0Fub3tOhBKdHCaZm5CsxMfAgEA4jMJRVeXPPIBFXs3dwLaJuGNiC4PwDzzgXF/+PQ7g5nL9VjRbHZyhgQE+gnMci4n9fI5zEovrtghOHT72E2M2VmUenIBsq6drsEGiIpiV+ACLabTreOXe+Fg7VwBcY3nvnoZ1FgF3BMth3rapt9vmIiq4BLcghIhEc53DZY1Vr9tEyeW2A5avtaN7rusU2xKtJUU2iTb8Esgm4KAJnkdjLbGzgkXggG0g+wpbJuUSFgm1TUEIJ1FYQk3i4hs0cJItTTzMFhsPtbxue389IMGVF8Q2p1SGR3KPey7k+Bsk2GnKzvK5GwYvBAEAHkFLAqeP28YlNjYrqAXuVjuCZXdbJYo7UFw7ANwCsCrdF7A9aLxqxG1i4WNd+LjVXFYOF8bq/13svfw1vp1bRT7X6mDoeJ1aP3mSmuDMIM8nO/FpI1iS6ZXaeiVAHq43H/bBZ8K5C1g04nWOs3Wby+t4y2sVPoLTxn1s3fbt83O4rqcGD0Koz8lUCVBX15uSD2MJjrreepG1262iSjJdyvPxmUyuo1UzFFsy7C3l36JsUDFnUQFv3G3uLP7/SRSic7zlKlxutfvKxSY8F9jSzOGtY1RL07Xya7S43mITq0FJrReeGjdhnt9xYhZ7lpbPL8PgWOl6s+EMQAgxvhNwum1bIEWzO6uOb2BAG3WxqbsAXYHkF1o+g+0cEfCxdvbX1hN7qGdNTqKTuestS/GxsQYP0ekzXmBzvdno6IaLxzC3Gq/CcMq6TzuHAZzqLDosn8kn/4cLSF93WyVIKkRKE+p660y2brc7YJb+r0RnW6QbsGikYtZm20TRSLYEOtRdbvU5f6rllqW9uMVRucPqg/9dGPp+bFUVtwlP9RkOb+3PPwM/73G2PqK7rU6MRiWnHrokckri7WP1JNQ5ytryaQ0wqEQghuBU1k89hJutr10sKyxgewQcF0gerfcIbLhcXjzyzPa6i+3nOAUuIG7c+UvVOa5v3asV2+8ZwvqpH0eRQ25iPsTdxu9PwdZYtpZPE0fKxWp9DAk2qEfAeYhaW/UDl4vQbl1cYH95YECTwLgsHHfwgAtusbVjO8dxtq45P4pgJHZKJF5TSRTxIaKriOj7iegdRHQ/Ed1LRL9GRDfGOJ+NY6XrbVsjXm+sQlWoHpCIyq+RW2xH2PpBLJJmlytg19fbxMLlVvOJVmt3q1W4BGd5+nDOfRCN4N7kbMnJ3QbMIg0gltvtLgAPAvjPAL4Hxcj2uwC8nIieZoy5M9J5t2G1HkK42yo/WFMmq2/+D6chCKF1LqKSvfBze/m515rrbPsd3w6vx2AXpcjT/YVyvSmKDQ088CaW+Hy9MeYF5fq7ieiPjDH/noj+AMD7UcwNPT68sbdVsXZZLvaBF3+48FncRK5meF/tUvZi0cAXEWQVTVUR/BkiOg+5d7FGyS2PU9WLkB7avl5POOXfsWDXg1a6VqIjVBBjjfk8SkR/DwCI6OkAPgsAxpi/A2phaJE5ArNlPZy3hTdvws9lNkR4bK499v/axebxnsr1tlauV1LCo+EkcYotTTyEwjS+a9sr3OLahaLiQceqB2Mh8GGePSriSRHL8vkxAL9PRH8L4GoA/xwAiGgPgN+KdM7uhIp0sxWRq4uZyw1noW0uIGvtuiX4u21WUPMZeERbG3YLpss++9AelefAZv1oiZ38kRS8MdTSyDixlBNFfIwxv0dEXwXgWmPMJ9n2TQAvjXFOb3gDxRula+C2fHjFz6G4hO8isGax1PzmAlqm2Q3XHsU2dJxn+bxtcEGsFyStLB8P11uqqOttGJKERyoCXW/R8nyMMQbAlvAQ0SuNMf8u1vnaWIMBHOV2BsNFyWaO2KpgVzdGPS9o4FxA9jGX8KKzPM4EuEvvuMahhLrbOJrzIwPpk8N1JWRZHWGCw4kiPkR0R30TgO8jop0AYIwZczJRO33cbj7WD3fDtc7rMPBaSngz7q6G3c4wa8cnTMJFNdbTBYv1o643ZSoEWhrSiBVwcBTAkwHcA+De8u+j5fq9kc7poIxzqFc2iFXF+hG0i1Sbi88SnMCDEI6hOTjhoGX/EC60JlzBBQWugPFdbAG215w7iu3z+9TK7ThKF4knp567IgfBlnks8fk6FC63wwB+xxjzKwAuGWN+pVyfhqkap0fY3yqyDlgWoE00i06tV+6qfLCGRSJqEz7JoT40C06XSgh1wenDIbY04GNNDrV6tHcrg9zGzGZgjUcRH2PMJWPMDwP4WQBvIKJ/G+tck+AXYraMzQrymaL7Ilp79vtgF6VqW70gqU2A/AIEbLjcai7B2Q2/8OpKcCwldoBm4akLxZAH/BxbQqHWT170vTcOYBYRb1EFwRhzL4BnA/gMgHfHPJcXKyzFaMoJ5B6B2y23gYUVxG9iJkBHLi6a+6aSPJWzy11XbSi+bjUbI+TzhBYKtXiUGMQQHaGut+hVrcuot58rF6UOD0jYhNuqcriSmsSoK3Xrxx62XdFWRWGIW60+ztMT28MnJdggN5fRVPCoNykRcF0DDzKfQI4Tq7Do1xLR3WVh0b9HRMeJ6NNE9F4i+roY5+yFreqAj/Xj63pzuMwA+AUntBQ+rVxubQVJK+zFPN24AwvGoD6+41HdWrqVIqGRzIUTUDFvQqD1E8vt9loAPw/gDQB+D0Wb9cUAXgHgNZHO6Qd3vcVqlHwEx7aPLThhg+3DJr9bYz33+piPz9QMPgwTnSFTY5+s/W8JLPD5vmMgXdTmTqoiJMEaH4FY4rPLGPN2Y8ybADxqjPk1U/B2FCKUHtfAfzzIVkPO1kherK23WUGO6R9CCU53+sz54xrraXO7OSLdAD/rZyYuDmVCprQ69rNFGLHE53Fs/f+qvfaESOf0p7J+2uqqXVNb+PaKPlFvNmw9dx6cYBvvOVtbSrjr7Va0zwUUKgR7OEfRnNcDeE0mB4Sbn8mGRropqSDQ3VYRK+Dg54hopzHmsjHm56uNRLQPwO9EOmc3YjVMvlTutCZryjbPT70gKadJRC8C+2xWWEnbXEB8u93tNiS0gdduA+yWjrDabVpWJx2kBB50ZQaBB7EKi/7flu0XAPxwjHOOCi9CWi+30zbu0HOW0yU85gJyjX0cQftcQE1sr91WMSTSLVJ4dX0+nwotsaNMhZbb2Ua0PB8iehYRvYaI3kpEbyGi20rLp+09LyKie4jonkcffTTWpRUcsOT8xKAtiXRIkml9wrSGvKC18j1rAO7AwhX33Nqh9rLFhu/02W5sYz31AIOKWimdprEeh4WXBCn20BX5CLXSY4Va3wbgXwH4IxQ13T4M4EMAThCR9REzxrzWGHODMeaGq6++OsaljYvPBHX1/Zvez7fXgxPaxjbKcQlb8MFBtgzDFmxgi3Sz1W4bkNczNNKtq4tDe7HpoFFvIok15vOdxpinAQAR/RqAM8aYHyOi3wDwLqR7Oyxocr3tALCKRVi0zxxBdVz7X4G7oa1XRWAcqa1X5ccPYlERu279NE3NYHfDhcRzrKfp++jqepuS9J8GxYepXG9CO0qx3G6fJ6Inl+tfhjL6zRjzKUSfWKcDIVxvVTTckMg3n3I7toKkF9nfs1jKAdriNBqj4eq4LKHhZXpstdua8nmEBRnERN1t8ZmrwAsVHiCe5fNKAPcR0Z8B+FoAPwhsTaN9f6Rzjo9P3o/N+rEJTX0uoDaq49osIY/gBG4J3d3w+g4si049OKF5hlSObWbSPkQWpLrrzeX2kGhFKbJJodzOSMkwsaLdfp2I/l8ATwVwwRjz6XL7JoB/GeOck3MNFo09n6q7jktQ2nKPfN7Pz8sH4flNf2KxvgbgfHlzH8FCgJ7L1vvNHu5T0y1A7bY2F2RKrjedSluZkthBVw3ECjh4AoBPGWPuMcZ8uox8+1EiOuJ889gMdb35RKu58EmK3ATwIPufq8EVuIMTAGdi5NrFsasj2KLbbDRMINdE7CRTjmC3hlIjVXEfOvWHUGKN+bwPwBcBABH9GID/BOALAfxIGQmXP9zqsFVFsDWQm7XXbY2oz1iRq+7ZRik6Da/zqRn8ipPyqLd6pFuXeXq6vtYDH9HIPMlPmQjBgjAm0crrlMEFAPB8AN9qjPlJFO3ZcyKdsz9DrJ+u5XaqMjmuXrntdZ9e/TnLfjw44TQWUXnvW+xypNznSLkMqV/gxuV2c9Rvs+X2TOBCGEyqvXJFPkLFLlbAwcNE9D8bYz6IYjrtJ6KYUO7xyGlGU1+uoM+gyTJNwQN8fOhBuHGFaZc36RFLo949oK8t2MBWu83DuplqOvQ6oR5qFZ7xmFO5HR/rfsKOWiwh+N8A/Dci+lUUTcU9RPQ6FLOZvjLSOafDZv2sYDkXqML3B/cdC3JZUbYxKe624w3p6cXqMSzGgfiAXVNx0oI+1a0nQl1vylQItUbGJIr4GGMeAPB0AG8CcC+KuX1+G8C3GWPeGOOcgxmz3E4bXQTHtU+FLTjhI5b9genmyFmiXlanxKeUju9vKKHkfIo9cUU+PgI3YYHlaC4wY8xjxpi7jTGvNsb8rDHm16uQ6+wIVTC07UbYaHmfDz7BCQMi9/wCD3hZHd86bgKwWT8a6ZYmEtycfe6d0OV29iA/txsRPaksJPqnRPRX5fIn5bYvinHOyWhqqHdgYTXYXHJVDkqb6GywpQ8+FtJHsLhWfh4ehHC2CDzYB+DFbJewIdkek8N1peuDpWKijIGE+0xAUE4sy+fNAD4F4EZjzLXGmGsBPKvcJqHf0cxQ15tvmRwfK2ejw+s+1k/dDee6Vt+ovGB0tHh8q1jvweQ9PC/U9TYucluhsNhcb1PPZ4Z44rNqjLndGPPxaoMx5uPGmNsBfGWkc8qFN/S8EbQ1iKuW7Rtod78NHSuqovI6ROb5BR50db0BrVZQzLGortNtS+jFKgtugnwhHxJskFGl61ji8yARvZSInlJtIKKnENGtAD4a6ZzT4Ip0u4Kw022HYrO2XrkPeRDCucXra6cXm7nrbXSGiM4eyLaEpDeaUrkJaYiONCa2fmKJz/MBXAvgDBF9ioj+GkUA75MBPC/SOcMw1PU2RpTYKuzWEbBs4fS9warPYHn/PrZ0pz6fT8W6ZZ0hcdI4tX6mY4jgpOp662r9CA3rjiU+1wF4pTHma1FUY3kNisnkAOCxSOecDtv4SVuwQdM6Z3X4ZW3DR4gegVU4104vcn6Ose08/8fP9bYbgyePC4Htu+/qelOmwyYg0q2gMQRBQhpBC7HE53VYOHJehSLN/TYUTdvrI50zHL7WT5NbTWLPnFtAdXdb9fdBLMST73MWYYqnYhf86rt5IPE7DoX0RlOZlgMI0wkS4HqOVV7nKmPM58r1G4wxTy/X301E7490zjTo4gZbRXOAQX3bqmWfpu2+1xEidwnA8tQKvMTOSbhL7HiW25FAiGkaUnUDTYGPSPtMU5FquR0fppo51ZNYls8HiegF5fr9RHQDABDRdQAejXTOeHQdpG6qaN0WQRaqB7IBv7ygruNA3Mf8jsWqn+vtvo4nGxkprjcVnm6k/n0JFoWxiCU+LwTwTCL6EIqv+T1E9GEAv1S+Jh/ueuPwxspV0bpyVQ0tKupiA+0Wku11YDkwgffcY1/zNjommebmesu1961sZ0zhmVuejzHmb4wxNwP4BwBeBOAbAXyTMeaZxph8ptFuoooSC+W2Wh34/o0A12CjJaLPbv3Y8nxsSaaCyu2chT3SSGhE0azxtY5SsqI0z8cPY8wlY8z9xph7jTGfiHmuqLS5xWzWj0+k29hswO2W43MB8Wka6q63UniOMQGSN02tJ11db3WGCM8Jtih++OT0SP4+taMCYI5z63ThgFk0TD7h0X3oW1B0KBuWdZEklPPTFXW3KbER6npT8ZmaNiHbiHzujfDn8As86Op6a2GFLUP2scGtHy2xIwMfq8ZX1FOsjJCJ603Fpy/1wIMqybQp0g0oXG+xC3VuoL+g8Pfwa7S53ljV62MxqzkMoUlwcpp6W9lOKm5MTTJV8XGy0pJwGiT5MgAb2C44Gw2vN+0ngkCBBytwWzkShTK1nrc0hgiOdJFqwjfcv03gBCSZqviMyVdZttdvgg24RWID7v18jjOE92Groe+e82Or7xYJn3p7PoEH6nqTQSoWTht9rJ+MSjyp+Phgs35W2bqtxA5PMh09d8bChsd2H9ebhQvuXcanz3jPObYoSmim7LDkmuej1LCJzpDK06u9ryYaF+ASnnoN7IRzfprYb1n3QV1v0zG29TRkHMY32EDwWE+Fis8Y2MK0h1S03uh7Mez91dIV/gCcXqzewTZvn2SuEh5e3VoQTZ2APiV2EnjoFcYU0W5qSQNQ8fFniOstFBuIM46zYVm3ud6uYcvoDLB+pOcFqfUzLnP/vjXPR2lktfb/xgTXwNmDVsE5Xy42DneeVlu4i81n4FctINmkGqzg43rziXTTaLfMsFk/XV1vG6EuaCCbWFxjfZ6fitOLVT7FNne9TYrP7LJDS+woShfU9abi04k211soV9QGphGeDct6E32rBQSjo1U05FrHbiTm7goag5uQZmWDrggtq1Oh4iON1Y7bfQhxs+0oF0tDfgHN0W5r2/aqEO56awuxbqtuXUctJ3mk6m6ryCTXR8UnFHVXWtVYr7bs07QekiHlfDaw8AvzY3ykdvxynyOsMeZJpo8AOFUu/VhnywBc1o9vpJuihEKTTJVOtJXbkYAtd2iz9noTGyjEslps7GCLhWE5tSct29dr64GEKbYbQnN+wjEXl1koBLveVHymxGb9rNb220D7OIxvsqrt9VW4BcdjTItbPM9l67cs7eXjehPC2FNpK83YBKePAKUuXJlUtAZUfPphs35sU2yvWvYZSqgq2RuWdeZWWzoP3wcoGmPpDXKfSDdFBqmP0bQx46g3FZ+UGdJoDhGtFTgtpbacH2AXWzj1wAO+VNRdb03rNWzCM6S8UVfU9SaDnIWsK5pkOkN8Ag9WLetTYguxLl0Bd5d6BcfQAAAgAElEQVT/VsJzkO2y7Hq7D8NwjfMEiJJzFRSVbunNhS4iLdXl1tX6CVHfTZNME2aI6y0UQ3suNlfaRm2fKriAR7pVD0zpcrsbzTzEljg0BSHUtqc6gZzEhnJshgqGBihsR8h9//ipL0DxZBX2umsxaLtBq9csvX+/KRUuYbvbDShcb7sbtp8EcNTryGLZj1n7+L0JIRS5i81ZuK3vc2i2fHjVkglRyyc2tim2u7jeNiCj3M5X1/4/vVg9gkV9Nz5xQnN16/rUCpwm4YnIkLI6sV1vOj6xoG3iuBBRcFMzw06JWj5DWDHARSrWeURYPTqsDxu1v7HgvaANLATvfQCegcXsq3XhKbG527ozRHTqYzyH2PZyfQUyp9C2MWfhOYGFgLi+hzl/T0MQYP2o+EhjE8uCs4px3W3VOQH7tN83ug9hSzA9jAs4tTS3T+V6s7nbOBFcb0O/zwMYXmVY2U6bqPgIUorWT1eGuN4EoOITi8r6uYJisL5qjXkPvG4tVQ3UKsZ3s63W/tb5CIBvKNdPY0uAjmDZ+qnGe/hH3osuAQdVuLVNiHjYdUchqls/bcLjEouMkv2Sok14UhccwUIRAx3zGYot6q0SHhtXHK8H4RAWLigLddN7g63fA6/KBq65fPzpWuXAtwxPRyRYKak3pIochJbYUfEJjU/Sok10eK9n1bLu5af1EJ22Y+2Hczrou9nSRN3ttpet2yeW4wgst8PpGmwwox7tZMxx/CdhC1zFJwTc+uGNDLcWeBHOr65td2Xab/heiKfoNLHKFt5T4td0BVuidIS5r6qItkpS+hcUjYUl50cnkFOkMabVrUmmipUNdBz7sbmYLILEheW05a3VtBCr9rOehz23xy/J9BJbOD7Wj4/rTQhaYkeZirqoaZ5PRvjUCbNN58yjyvhNcaPlPGPgmDLh/Ip9rGcH3IJzeGn6OR833MhIyPNRupOD6y209eNwoU+Fik8oDlgCD2xJptwl5+unsgrPIfR2udVL7FQ1nx5k2yu/8mqx//nyc/ApFPZh8THbPs4pDJ1czoem76Kj600Kav0oNnyqyQsUnQoNtY6FK5LtCtyis+F7MpZM2fhaC3vQXneuGp+y7ONTSsdPaC4AkvJ/YqEldhQbMYRCcIkdFZ+xWcGiQCdPhqlyfipLZKP8u8rWvSsneIx3uG68PfCqarAP9tyeu9xXMQI9AzAAP6HQJFN5pJpk2jXPxyfJVDDqdgsJd72tsu0tYydLDBrP6TildFNF61Us94h4o3oOW2b+sZbDxq9ibcNnzh8Lkl1vOYxhKDLRPJ9MifXDhm4oV9EezeaR8+Me62krJGrbJ9IU200BH0Px6X32camo8IQhle+xzz2SsNWt4hMaW8RbZf1chD3/xyfJNARVUIHtuHvYYmENizg1/hH2bttzX+1vEz7iFBnN+cmLE2ivhC2NGd5nKj6huZG53iqRqcwCCdM5czZq65WFY8v/Odte1QAo3G3t0WyuKRVsU2z74OF6s00sV+cc3LOZxibFcQslLSZ0van4xMbmi/KJS+assvWQrrdVOJNIt0I6Le6lR+A7zrPPsi4wz6crsVxvShhSsYD6kKjrTcUnBjdacn5WsCgoyn1VTcU9N6JcmT9ccE4vNle5PdWkcTy6reLw1prLnbYPfpPLBZ5gzmda7f2WdUUJyVgJoALvYRWfMbBVNuC43G4bAa6jaRzndO0aqsoG720+hKuC9cLlNtU4zoCotzoSMsPV9aYMxXUPT+R60zyfWPhMl2D70VexfTymTojZUvmx2tjfLjiVu609mZSP4bhca12TTIHoSaahcn40yXR85iDgCeb8qOUTi++05Pzwcju80R8712QVzWM9VVmdr0YhbmWvaY1ZbUfQHOl2GByf2gc+DHW5eQQepFRuR8mLGXdEVHzGwCeoYMpIt/eVfyu3nKWyQVMZ0O34jOO4qKyeLsJjq27dwgr8o99CotWtFY/8uWD4CNwErjcVn5j4RLPZ3GerlvX6e31w5OxgteX1FXRqpA97WTxNYdRDQqxHQitdp0nOkW6cUBPLfTbQcRyo+MTkJuZ6qxrveqTblKxiIWy8d3QWi8CDdyw28yrWR7DQ1u2JpRyXoIwhOB6BB9Jdb2r95IVEd9vIuYYqPmPiE4TQFZ+G0nZDna79vwPueXzQHvHmP1VCm+j0Da/u4nrrUAevK5rzo7iI9fvbrB+BYqfiMxV8+mybgKxa1kfGJjgHa/8vhEd60ugA60dFI02kuN4khO8LQcUnNtz1ZhnIn4RVbA/pvoetn0URmXcNsHZ6sZm73i7AVdlgijGcrtNqC5xu24a63tInlgXiqEIiERWfMfBJMvVh1bJ9iOutI/4Rb7FFZ4TJ4zwKrFpR15s8pFg/MUiwxI6Kzxj8UEOxUcAvz2d14Ll9GlDXPnuWBYdbP2tsvcjz4bORdsU11nOULSHxKDxqK73TxFm0NwYSipbOjZsgw3LUDscWKj5T4ArBHiPaaoOtv4+tP8jWzy6u5UhDY9qlLqqd3WgXnTbBsYlQV9dbQEKFu9qQ0ICmhpTvTILwCOrwqPiMxRW22LBZH6uW9fp7m+jjbivHetoYJjouwakYwbXWF1tDou42eeTsbuPE7vgERsVnLF7KXG9tFa1d2/swZL6g0+XfPcARNmb1XLbLXvCCom2RbhEqVHfGI/DAx/WmKF0RZHVIQMVnbnAB2mDr3PVWPSRVZQPRje5RNLvmepTbGZMh1o8UN5J0boKcsR5JCBFBFR/J8EZ/1bJu238olt6/K8l0O9z6ebjDBQh1ufkEHiQU7polcxachFxvKj5j0tX1NiWn2foZbFlBx9hmnmQatqL1EOHxiYgb4HqTwlwb19QRYnVIQMVHIkPGaLrm/Gyw9fehM37TZ2fAkN/EhgYeKDFIJOdHxUcKXXN+VhteD9E4DkistFs/XV1vQsZrhpTbUdeborSi4jM2NtfbUIaIzgZbfydb5z0oFq7KXW884TQtJiy3EyrJVF1vC1IKLhBgdUhAxSdlVtl6V0tlonnb/RFi/QzBZv2ouy0MKQnO2CTgelPxmQKfwINY5XYiwK2fcK63KaPdLIEHWulaDqkLjlo/Kj6zxhZ40NH1FpYYtdvqHCqXttcHcBbu+m6hSL0RrlArZhomFEEVnxRZtayHDtmOOrPhw5b1Kd1tLlFqgVs/WmInDCpEwxCe86PiMxV9XG8bbOmNZ+NqEx2PwINblt7QVm7nYXRLPI1Nj0nmtEJ1eLgFZBOgHOq1zfyeUfGZBYew3KtnArTJ/vI8H75+2u8se8tlWg5h++fNnDlYCOqSC8/Es6qq+EjHVmIHaLaCtrnePBrgUSPfbPP8DHW9+YzjRBAkrW49DB9RUdHpj2DXm4rPlMQotxNLSE6z9RPYmpn1GKt0zcvt2F1vFZfQb8K5rnQVnB6uN2U8uBCl7nqbeedDxScXrMEBtqRJS4Nsc70FoZoPNYbojJAcGoOhDdAJpN0Ip3ztQ4gtPAfYYkPzfJQtfAIPVi3rjb3xiVxRJbegyPspFm79+OT/dHW9jTy+o9WtFckIdrdVqPhMDXe9BWVAY+wTeHBmsWpzvY1DDPGsWVGli1EkOYyHDLF+UrWcZh7pBgCPn/oClIDsAXO9raNbo3wIQ1xXa2z9gd5HqXMS7oTTrp/Th5GsqKENUKoNb1/m9nmH4LK6BYw3qeUjga45P6uWdSHUp9iuCFd6JxYWK8pnWu2xXW/aEC/Q72KZRNy9Kj4KgzW8HV1vR2puqR1sSYeEghZycLdxTljWObl95pm73lR8cmCVrS8FHiTUmA4KPBD+ObW6tR9tkXupR/WNSQIVrQEVHzkMcb1NCWsQuPXDy+0cwaL6gTv/Z2o88nw4Pq43pT++opOqMAkQgalQ8ZHEI2yZDE/XmyMCbB9bmqhCsIeRSBmdWGGvubmhOGrpxEfzfBQnm2hOIl217D+V622zXXCAwqjjonN4UM5PrM+2zhYLtt+kbv24hEetpXCcgIpWheb5KJ34D7Wcn6pxs5Vz2UCAKtcObOfgvaYT2GqE19hNz11vB7HwJvKw7IILbLFxki196WMhdZxYbgy0kXXjE8AghZm63lR8pOETJraBuILD4T17MQ8xFyBf66ehorcUulo/ObvbQqIC7UYnk1Ma+Sq23jXPZ5vrzcOV5Hx9GNwdx62f5bGf+7AoOvpQtGtx4zGe5DOtdiI5F9kzNxFK4L5T8ZFGtHI7A7BZP7zXdHqxWne9rbGlPyGTT32sn45RbxU6sZzSh5D3TALCA6j45I11XMJmCXVwSTmm2PYRnL3wmYCOz3ZqC0LwsdZGCLwYU3TU9aaEYqLOkoqPRLj1M8T11hnPBtomOpYIMB548GIsIuL85v8ZY86fJlqE2BZ40KfEjlpK4zEX11sCkW6Aio9srimX6HiM9XBBOc3WWYmdpZue73PRHYI9Pk3ikkjeUIVaP0rCqPhIpavorFq2TxkSPGgqgq75P23i6Tuv0QRono+yH+Hvg67WzwTWt4qPVH6Iud72oxCRPVi+SVc7HnMMIXovW2c39Jql9E7d9XYYoaof+DBAdHxdb2eRjBtkFpyA5kkJQcVHMitsacJXTCrhGkqb6+1KufQgfgXsgMEGFyFjcjltPPNByphfdR0jlfdS8UkRLibPYNtX2d9VNDOmG65FjGzRcMv5P7zywX3slSFRbyPjE/aqrrdpyH3MrI/FPaIQqvhI5ibmejuAhXnwVZb9gemqXd/D1t+LhfCwgqRrFxeCU696zXGHYPtEwEUSoroV6lPfTZGHNOGRYv2MiIrPHBli/dhcb673OPKCXFWwC6rKB3Xq1s86W0fD+v/f3rlHS1Xdd/zzlasi+EKERKsIRrABNaiINkrAWq1Ea9T4rKbGJLWYGFeTuKLpsglWm0bbRmODdWGbmEdVfNVoNL5a7200YgR5XogvHBWNckVkKRJF+fWPvQ+zGeacmbl3zjzu3Z+1zpoz++x9Hr85c35n//Zv/359oJK5rVGu06328IxEaiQqn3ZiTLAe9n4OKa3oGZ3fqVSkivQQ0wMX7CwnhCKhB1wSeiechJoTfR3niaa31mOgjJd1B58t5vjScOUjaXajj9nWJKa3VspJndb7mUdR4YQ3etgT6KaOA/YNUjpZNNOVPdK/yKvH3GJKJyEX5SNpl5RlOPDpPI7Zr8lD6dTzoVmgcqTtCqa3auK+bel+HZrgbqR82oVemN6a5c0Wo1tH8qaFFFFePZ8e3Hvw/GCZ55dKoRkjpRxX4niQRD4IH1aNNr1VMY6TSvKG1+OCkCaK58KgSmJ6G4ILyZMonmNbMfV2TKXdnrSK6W08+Uw0bXHyUj4rgGlmNiZY9jazMcDrOR0z0hDKhKAJU2zfF6yHb1mhklpHVUFJ0zt81SSfS6OK3k+1r0fVKOC8be2x99P+DEBPN8hP+VwDDEvZdlVOx4yUo5CxrWrTWx1inq0ieyKqN3Wlmd/GUnS/3twJoc7zf5o9gXSAvf1GmkB3ydIkclE+ZjbLzBalbPu3PI7Z7wlNb6OD8izTWyG3s6mOHpxDQvIwLwTbCiV1PNNLwvBU54JdJ2pVOjGZXPvTCqa3VnnhaLAiys3bTdJHJX3Ur4+QdLKk+FdsS9J6DmVMbwXgOtJNUaELdkqdfBROFY4HtY5G9ma8KxIJaQXF06QeUF7ebn8DPA7MlXQ+8EvgeOBOSV/MbBypjVIzVrlwO1lUZXqrxtx2aHpPax29jv0Wzv/5bLBe3vRWmnr7TnKh0jhPX2341T6QYny3+hBlWKSbXsdorJWOnPZ7Ac7gsB3wIrCPmb0maRjwCPCfOR23f3Ocwb1yvYaRwAu+fC+clGuhqrf2KpVOOW4DpgXHmuTXX6A4WbaHolfBk2xSnGNXwbO+FzKWym4FxwL3NzLp3AjS5VdO8UygpVxcI57orNFU8jK7bTCzd81sNfC8mb0GYGZrAMtuGskkLWJAX1yfU6kxJE1PlQ4JlSIG9FROwT2ErNQLr1CMfHBjUJ6D6a2ZxIdn+zNAPd0gP+WzUdLWfv24pFDS4ByPOfAIw+1MCtZHp6yHNHpmfhXhduiiqDyDnkJietsHuJhiZyk9AnbOc4F6o+BrHe1shbGA/k40tzWVvMxuJycrZrYyKB8OfCOnYw4MTjW4TQ06WFZPZnLJd59FrudQGOF7FZ0UlV+BYmyLHorKr5vNlWgpvne0T0qPJD3ydUg49lNF72wkmb2yTMaT/jYbKqBohoskLGNAvmzk5Wr9kpltAJA0TNIOvvwVM3s4j2NGekFm7yftIT2ZLRVPCZVMgMuo7IBQIFUBpHnDVTf/5+Jg/VqKUbCblAsoq0dUzQMpmt5q59RgiTSNvLzddpf0U0lrgTeAbkkvSZoZmOMivSXM8zOUojmrLym286ZAerqBxHFiFa63VPDfU3IBlQvDUxtNVDYJEygqnjgBobFEc1tLkNf4y8+BH5nZTrj3izuAj+PMfLNyOubAotJM/ALZwT577Zzw25TysDdUMv8nOYfOoEqSfO5Fv2SZuSqca+U03FmecClOCL1JXd6oXD6R/scAvG/yUj7DzawTwMzuBD5lZuvM7FLgUzkdM9JD5ejSFeljGB2golmu4Jc09/AqnBMuTMmK+tVg/VgWUFQ8DZj/0xfSej/R9Bbpp+QW1VrS2d789lX841CScjzmwOIrgeltCMWeQa2TTOtKFeNBncF6GJB0GcUeTlouoHup2OPbhywXbMg1+dwAHDRuW6LprenkpQi+AJwAPIh7jb7Al+8CfCunYw48sgbtC+QY282b3uxat5Ql6YMcmj3/p5r5SQUyr2U6ViEcT+J+HSqdG4P1yqY3G1n5PK2ZYze+92PmlmbTiHOo5hgtIYtb3ZJKHdIp2Mz61Gkkubham9lLwGllylfjxn8ieTDL/9NGZrhirwr+jSpTz+Zu/l2HVa6zxXavkJQyPlQIzuO0lHMNnSruDeokkRBG2mbmtgsxrsXVmw78CviVn88skvYLgAOLpxm4LijFAcEqTDqtpHDMKwVlvGkndTgVNLPM9pIHl7b4Z1V4uFF8CJf7ycPtfalT+qA327JeX8+jHgpn0zmUkeOmOoE8q5F3aZ1Kv0dYp9xvDpsri2rqVLPdZm6+r2qOkReyHF4NJH0fuMPMHuvDPmzq1Kl1PKt+ystdsGcZOf2mq7j+yRQ5dgV10mTd9ZTfflD6OXQ9B1NT+h1J+6x9LPPnMT7j917t6wyv/Z7oonidUynfvivoFU1lx/R9rYOpQ2s+Bdc26DVNTXFc6Cr47aMz9uNNkVN78bYc/uSQ8bN3ZW9P6vT2L1rVrVdDnV6fR2DWTZNnNfLu029SCM5hdOV6lepkba/qPF5bCO+tnW9mk7Lq95W8lE8Pbjh5BDAHuNnMFmS3AknnAef5r/sBS+t+cpGEXXFu8JF8iPLNlyjffNnXzHbI8wB5KZ8FZnagpLHAGX4ZBNyMU0TPVLGPeXlr3oFMlG++RPnmS5RvvjRCvnV3OPDx28ZJWgTcBXSY2QTgBpzjwdOSJgX1J0ta6JdFkk5Kzi0oXyjpDUnX+DYzJC3x5Y9KGu/LJ0p6XFK3pMWSTq/39TUbSYMl/dbLqlvSZb78VP99YyjfoN0oSe9Iuigo20bSbEnPSPqdpM+WtDlFkpX8XldKWuqXAS9fSaMlrQ/u0+uDbZ2Sng62jQy2nSZpmd/nTUH5KEkPSlrut49uzJXnT2/uXUkHBP/pJf75Em6/W9LS4PsoSY9IWuCfAZ/25XtJmu9/h25JMxpxzY2kF/fuWSXP2I2SJpbss1S+20qaI+k5SU+E96ekcyQ965dzKp6wmdV1AQQs8utb49yHDsNNMt0X52w7Kag/BKegAHbDOdJ2APNK9jsfN18IYMeg/ATgfr8+Dhjr13cHfg/sXO9rbObi5bt9tfIN2t2BczC9yH+fB1wGXOG/bwXsGtTfAfg/YG6yP1yQ2If87zPU72PHvK61HeSLc2hfWmY/8zJ+i7E474dh/vvIYFsncLRf3x4Y0myZNFG2HcBi4BP++3BgUCDfk4GbQvkDs4Hz/fp4oODXtwG2DeRaAHZvtkyaKd+StvsDK0ru33Ly/TJwvV8/A5jj13cBVvjPYX59WNb51r3nY+5MDvdft/aLmdlyM3u6TP13zewD/3UwxZQLs5M6cua7kcCvfZvQZ3Zo0sbMnjGzZ/36qzhF1uj4zblijnf814ryBZB0Iu5mCGfQzMa5xP+T3+9GMwtt6JcDVwF/CMrGA11m9oGZrQMWkTWlpg3pjXxTmJ2x7a+BWeZSjGBmqwB8D77DzB7y5e+YWVYc8LaiF7I9BlhsZot8+9Vm9qHf9hPg68AVpYeBTR4jOwGv+rbvm9l7vnxb+uF8wz7eu2fihkUS0uT7Gb8N4HbgKEkC/hx4yMze9Pf1Q1R4NuT1A3wgaSHu4f8QMETSNyRNL1dZ0qGSuoElwAz/cAv/vGfiNKwFbb4i6XncA/JCSpA0Gfe283zdrqpFkDQolK+ZpQYqkzQUF03zspJNiTPo5ZKeknSbpI/4NgcCe5rZL0vaLAKmSxoiaVfgSGDPOlxSS1GLfD1jvJmnS9IUgOD+/bE3afy9/5OC66GPk/SYpLmSjg3K35J0p9/fP0saVO/rayY1ynYcYJIe8PfoN4NtewP/ypZxMGYCZ0taCdxHEPRC0p6SFgMvA1f6F9R+RS/u3YTT2Vz5pMn3j3Dyw3ca1uJ6pJvKPSupEHQ+L+XzBO7BtAcu+/H3cVlNv06ZAPpm9oS5caFDgG+V2nVx3bubS9rMMrOP4R6sl4bbJO0G/Aw418w21uWKWggz+9DMJuLkO1nSfhnVLwOuDt6IEjp8+8fM7CBc2vN/kbQVcDVlUl+Y2YO4P/RvcL/H48AHpfXanRrl+3tglJkdiLu/b5KUvHmfZWb7A1P88jlf3oEzvU3DvVj9h6SdffkU4CLcf2Fv4PN1vLSmU6NsO4AjgLP850mSjvLjEvuY2X+XaXMmcKOZ7YFL4vEzf09jZi+b2QG4+cjnJC9b/Yka5Qu4l3/gXTNb6r9nybfcDC3LKE8lL+UzyMzWmNlbOKUzx8yuwM3/G57WyMyW4+bsbxKYpE/gTBHzU5rdApwY1N8RF4jlUrNKsyHbGy/fTrK7t4cCV0kqAH8L/J2kC4DVuLea5Aa7DTgIN9azH9Dp2xwG3J0MVJrZP5rZRDM7GnfDPVvny2oZqpGvmb1nbvI0/h59HvfGjpm94j/fxtnOk9hDK4FfmNkGM3sBeBqnjFYCC8xshX+rvAv3m/Q7qrx3V+LMvG948+N9OHn8CXCwvz8fxfUiO32bL+J79Wb2OM6Uv2vJsV/FmaCn1OlyWo4q5ZtQ+nKfJd+VeGuHpA6cafPNsNyzB97kmUYe3m4jgHWS9pO0HU75JEHzOyjRkJLG+ItA0l64gbFCUKXUFpmMASUch38AStoG9zD9qZn1y+hNkkb4t2S8fP8M+F1afTObYmajzWw0cA3wXTP7oTdh3oN7+wY4ClhmZmvNbNegzVzgBDOb57v0w/2xD8BlNHgwlwttErXK19cf5Nf3ximRFZI6vGkSuTQix1Oct3YXzjKArzMONyb3JDDM/4cA/pR+FO+4VtkCDwAHeDNvBzAVd4/+u5nt7u/PI4BnzGyab/MS7l5G0sdxyqdH0h7+mEgahhuXrmUMr+XphXzxvcJTcS/xAFSQ791A4sl2CvC//lnyAHCMXP62YbjxugcyT9jq73FxALAcWA+sARbi3gb/B3gf2AC8Djzg638O9xayEHgKOLFkfyuAPy4p+0HQ5hFggi8/2+9/YbBMrPc1NnPx8l2A8wJaCnzbl5+Ee/t4L5RvSduZeG83/30vnEfbYv/7jCrTppOit9tgiokD5vY32fZGvjizcjduPOwp4C98+VCch+Ziv/0HFD21hDNFL8ONc54RHP9o32YJLgDdNs2WSTPvXf+f7vb1ryqzz9Fs7o01HnjM/x4LgWNK5LrIf57XbHm0iHynAXMz9lkq38E4K8lzuCCPewfbvkAxkOK5lc43l0mm4Aa+cNpvHK7Hs9Jf9Fu5HDASiUQibUNuyicSiUQikTTySqO9k6Tvyc2aX+2X5b5s5zyOGYlEIpH2IS9vt1tx4z3TzGy4mQ3HDbCuIaZxikQikQFPXoFFnzazfWvdFolEIpGBQV49nxclfTOcxCXpI5IuZvNZsJFIJBIZgOSlfE7HTSbtkrRG0ps4l91dKJPhNBLJG0kfavMIvpf0Yh/TJH0y+D5D0l/V8Rxv93OFqq2/v6Qb63X8SKSR5JJGG+de/V0zu1jSEOASijO1P0xvFonkxnpzYUf6wjTgHVx4Iczs+szaNSBpAm4e0Ipq25jZEj95cpS51PWRSNuQV8/nR7gwOeBm1e8AfA8XzuXHOR0zEqkZSd+W9KRcfqLZSfBPSRfK5dNZLOkWubwlM4Cv+Z7TFEkz5fMjyeXuuVIun8oz8gFG/ez8W/1+5sjlQCmXpOss4BfBeb3j9zdf0sNyea86Ja2QdELQ7h5ceJRIpK3IS/lsZcU0CZPM7Gtm9qiZXYYLlhiJNJrtSsxuSSK8H5rZIWa2Hy4U1PG+/BLgQHOBKGeYWQG4HhekdaKZ/brMMTrMbDIuht53fNmXgTV+P5cDB6ec3+G4iAgJQ4FOMzsYeBsX2v5o3Gz1fwjqzaMfxyiL9F/yUj5LJZ3r1xclb3qSxuHC30QijWa9VxrJMseXH+l7I0twsdQm+PLFwH9JOpvqI3ff6T/n48KSgIuNdQuAuajBi1Pa7gb0BN/fB+7360twATY3+PXRQb1VuMSJkUhbkZfy+RIwVS7fznjgcUkrcKm0v5TTMSORmpBL3XEdcIq51Ac34GJXgQtYOwvXU5mfBL+tQJKs7EOK46nlQs2XY31wbIANVpwHsTHZt7kUIeG5DPZtI5G2IheHA1x2noUAAAE7SURBVDNbC3xe0g44M1sHsNLMXs/jeJFIL0ke9m9I2h4Xpfd2H+l3TzN7RNKjwF/iUi+/TTFLZrU8ivPwfEQuU+n+KfWW4/LMFGrc/ziK0bIjkbYhL283YFMek0V5HiMSqZLt5DI8JtxvZpdIugFnyirgUhoADAJ+LmknXM/lajN7S9I9OOX0GYIMmRW4DviJXAbNJOLw2jL17sV50z1c22VxpG8bibQVMbBoJJIjPrr71mb2B0kfw6WuGGdm75fU2w6XHuRwM6tqOoKkbYEu4IjAwScSaQty7flEIhGG4ExuW+N6UeeXKh4AM1sv6Tu4vPfVztkZBVwSFU+kHYk9n0gkEok0nLy83SKRSCQSSSUqn0gkEok0nKh8IpFIJNJwovKJRCKRSMOJyicSiUQiDScqn0gkEok0nP8HDkiIprgf03IAAAAASUVORK5CYII=\n",
          "text/plain": "<Figure size 720x720 with 1 Axes>"
         },
         "metadata": {
          "needs_background": "light"
         },
         "output_type": "display_data"
        }
       ]
      }
     },
     "f1cf5b08c0ff41da90e65edfe5eb7883": {
      "model_module": "@jupyter-widgets/controls",
      "model_module_version": "1.5.0",
      "model_name": "SliderStyleModel",
      "state": {
       "description_width": ""
      }
     },
     "f1d6f8bf8fac46e88a82ecb0d60296ef": {
      "model_module": "@jupyter-widgets/controls",
      "model_module_version": "1.5.0",
      "model_name": "LabelModel",
      "state": {
       "layout": "IPY_MODEL_22a738cfdf6349ebab939c4fb05b4ab6",
       "style": "IPY_MODEL_99a3dc0e8d424824a68bcab4382320f0",
       "value": "Monitoring folder"
      }
     },
     "f1dded0b0142401f80fcc7788bbfe6d9": {
      "model_module": "@jupyter-widgets/controls",
      "model_module_version": "1.5.0",
      "model_name": "SelectModel",
      "state": {
       "_options_labels": [
        "..",
        "Temp",
        "dask-worker-space",
        "Crossplot.html",
        "FlinFlon.geoh5",
        "FlinFlon_light.geoh5",
        "MtDore_TMI.geoh5"
       ],
       "index": 4,
       "layout": "IPY_MODEL_8c1ad73cf64348dcbaa195f0fe4feb8a",
       "rows": 8,
       "style": "IPY_MODEL_e2e6802d63f545b5b07a9414c7ca3f82"
      }
     },
     "f22965cbd95e420eb231515ea838f374": {
      "model_module": "@jupyter-widgets/controls",
      "model_module_version": "1.5.0",
      "model_name": "ToggleButtonModel",
      "state": {
       "layout": "IPY_MODEL_18ee0b32fa9e4b979f3dca93a9dcc95d",
       "style": "IPY_MODEL_58687b60571f41749b5c66c46e5d6011",
       "value": true
      }
     },
     "f2418c93848748588f3368c0da49bf09": {
      "model_module": "@jupyter-widgets/controls",
      "model_module_version": "1.5.0",
      "model_name": "SliderStyleModel",
      "state": {
       "description_width": ""
      }
     },
     "f2466cb536474c32be22a4d46cce0191": {
      "model_module": "@jupyter-widgets/controls",
      "model_module_version": "1.5.0",
      "model_name": "DescriptionStyleModel",
      "state": {
       "description_width": "initial"
      }
     },
     "f28341f546a142e1a9ddaba4355b9914": {
      "model_module": "@jupyter-widgets/controls",
      "model_module_version": "1.5.0",
      "model_name": "FloatTextModel",
      "state": {
       "description": "Grid Resolution (m)",
       "layout": "IPY_MODEL_3231f9f4e1964145b908fb39bde27eff",
       "step": null,
       "style": "IPY_MODEL_29baca2b981247eb9556cba9272cfa1c"
      }
     },
     "f28f3a512cf94a1f828bab7101b75988": {
      "model_module": "@jupyter-widgets/base",
      "model_module_version": "1.2.0",
      "model_name": "LayoutModel",
      "state": {}
     },
     "f2b2ff41ee664e6ebb6da4d23c3f9733": {
      "model_module": "@jupyter-widgets/controls",
      "model_module_version": "1.5.0",
      "model_name": "DescriptionStyleModel",
      "state": {
       "description_width": ""
      }
     },
     "f2d2c77ae82d4e2d8a83073f2d69f2c6": {
      "model_module": "@jupyter-widgets/controls",
      "model_module_version": "1.5.0",
      "model_name": "DropdownModel",
      "state": {
       "_options_labels": [
        "",
        "--- Channels ---",
        "Airborne_Gxx",
        "Airborne_Gxy",
        "Airborne_Gxz",
        "Airborne_Gyy",
        "Airborne_Gyz",
        "Airborne_Gz",
        "Airborne_Gzz",
        "Airborne_TMI",
        "Ground_Gz",
        "Z"
       ],
       "description": "Data: ",
       "index": 9,
       "layout": "IPY_MODEL_915c1e1e469047798f68cd30239004b1",
       "style": "IPY_MODEL_4e64a4a7995d4ff0898d16d11bd52b91"
      }
     },
     "f36812f842714aa7bb71c5613231713b": {
      "model_module": "@jupyter-widgets/base",
      "model_module_version": "1.2.0",
      "model_name": "LayoutModel",
      "state": {
       "display": "none",
       "grid_gap": "0px 0px",
       "grid_template_areas": "\n                    'pathlist filename'\n                    'dircontent dircontent'\n                    ",
       "grid_template_columns": "60% 40%",
       "grid_template_rows": "auto auto",
       "width": "500px"
      }
     },
     "f36d590af2364cb5a7a260a2c93e7266": {
      "model_module": "@jupyter-widgets/controls",
      "model_module_version": "1.5.0",
      "model_name": "GridBoxModel",
      "state": {
       "children": [
        "IPY_MODEL_5e9b8d2797dd4200945ba02257c6ed3d",
        "IPY_MODEL_e46b556416c64f13a1bc768b075f26ea",
        "IPY_MODEL_9d286d20f3534f69be97268835c7a75c"
       ],
       "layout": "IPY_MODEL_1adf49b762bf40589824436ef4fff5cd"
      }
     },
     "f3a59bb2819447abb746d47d78ef3fb8": {
      "model_module": "@jupyter-widgets/base",
      "model_module_version": "1.2.0",
      "model_name": "LayoutModel",
      "state": {}
     },
     "f3f9449ddbb24c9f89650106b1135f74": {
      "model_module": "@jupyter-widgets/controls",
      "model_module_version": "1.5.0",
      "model_name": "DescriptionStyleModel",
      "state": {
       "description_width": ""
      }
     },
     "f3feb35821674e278f107320a4d5a22a": {
      "model_module": "@jupyter-widgets/controls",
      "model_module_version": "1.5.0",
      "model_name": "GridBoxModel",
      "state": {
       "children": [
        "IPY_MODEL_7c96d8aabe9c4cc4aff414536915fab8",
        "IPY_MODEL_31160b0c5d664150843511e4266c80f4",
        "IPY_MODEL_0fb7e0fe59d54ae595f6d1331a7013ce"
       ],
       "layout": "IPY_MODEL_0c0701d0ecfb477694e0fdd342f8d427"
      }
     },
     "f415a0599d4c4dccb93b1acbae0536ce": {
      "model_module": "@jupyter-widgets/controls",
      "model_module_version": "1.5.0",
      "model_name": "DescriptionStyleModel",
      "state": {
       "description_width": ""
      }
     },
     "f43eca1265f14a288b5b605cba8088f1": {
      "model_module": "@jupyter-widgets/controls",
      "model_module_version": "1.5.0",
      "model_name": "DescriptionStyleModel",
      "state": {
       "description_width": "initial"
      }
     },
     "f56e45052b3b4c97b89f16ec45069fee": {
      "model_module": "@jupyter-widgets/output",
      "model_module_version": "1.0.0",
      "model_name": "OutputModel",
      "state": {
       "layout": "IPY_MODEL_c75f8f1a11eb4c668b0a308419459dc6",
       "outputs": [
        {
         "data": {
          "image/png": "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\n",
          "text/plain": "<Figure size 720x720 with 1 Axes>"
         },
         "metadata": {
          "needs_background": "light"
         },
         "output_type": "display_data"
        }
       ]
      }
     },
     "f6040ef1268545d7b8b7214abf03882f": {
      "model_module": "@jupyter-widgets/controls",
      "model_module_version": "1.5.0",
      "model_name": "DropdownModel",
      "state": {
       "_options_labels": [
        "",
        "--- Channels ---",
        "Airborne_Gxx",
        "Airborne_Gxy",
        "Airborne_Gxz",
        "Airborne_Gyy",
        "Airborne_Gyz",
        "Airborne_Gz",
        "Airborne_Gzz",
        "Airborne_TMI",
        "Ground_Gz",
        "Z"
       ],
       "description": "Data: ",
       "index": 9,
       "layout": "IPY_MODEL_bc1c245792d8466ebad0d7e7bc36a0f1",
       "style": "IPY_MODEL_6226e486969e4583bebdf109d7208a35"
      }
     },
     "f6154e93f1c240ef890e4efd9e38e86b": {
      "model_module": "@jupyter-widgets/controls",
      "model_module_version": "1.5.0",
      "model_name": "DescriptionStyleModel",
      "state": {
       "description_width": "initial"
      }
     },
     "f68c96c4472d4dd08b5f3e6c8220cb29": {
      "model_module": "@jupyter-widgets/base",
      "model_module_version": "1.2.0",
      "model_name": "LayoutModel",
      "state": {}
     },
     "f6dc42366b814b309c38bcd4d5a0dbad": {
      "model_module": "@jupyter-widgets/controls",
      "model_module_version": "1.5.0",
      "model_name": "VBoxModel",
      "state": {
       "children": [
        "IPY_MODEL_b6dae48a90564e3c841e985a7b03a0ec"
       ],
       "layout": "IPY_MODEL_0252975698d54c7b8ba360a546a255d0"
      }
     },
     "f7866c32f49c4a549189aa9d07e3fbe6": {
      "model_module": "@jupyter-widgets/controls",
      "model_module_version": "1.5.0",
      "model_name": "FloatTextModel",
      "state": {
       "description": "Grid Resolution (m)",
       "layout": "IPY_MODEL_7fc895a60db14df7b89acb1c038e3a77",
       "step": null,
       "style": "IPY_MODEL_179b8ba18f2d477998d35557db0029ba"
      }
     },
     "f7f72d7e14ac423bbd7bb9ed9ca126a5": {
      "model_module": "@jupyter-widgets/controls",
      "model_module_version": "1.5.0",
      "model_name": "DropdownModel",
      "state": {
       "_options_labels": [
        "",
        "fault_splay1",
        "fault_Cliff_Lake",
        "fault_Other_FlinFlon",
        "fault_Club_Lake_splay",
        "fault_Catherine_splay2",
        "fault_Birch_View",
        "fault_Dion_Lake",
        "fault_FlinFlon_splay",
        "fault_West_Mandy_Road",
        "fault_Channing",
        "fault_Ross_Lake",
        "fault_Louis_Hidden",
        "fault_Lake_View_thrust",
        "contact_Schist_Lake",
        "fault_Burley_Lake",
        "fault_Dion_Lake_splay",
        "fault_Green_Lake",
        "fault_FlinFlon",
        "fault_Catherine_splay1",
        "fault_East_Mandy_Road",
        "fault_Other_FlinFlon_South",
        "fault_Catherine_splay4",
        "contact_Stitt_Island",
        "fault_Club_Lake",
        "fault_Tailing_Pond",
        "35_Hidden_Reservoir_Hr5",
        "29_Hidden_Reservoir_Hr1a",
        "60_BlueLagoon_Fb2",
        "20_FlinFlon_Undivided_Int_Dykes_D2f",
        "04_Boundary_Intrusive_S4h",
        "53_Millrock_Rhyolite_Fm4b",
        "19_FlinFlon_Undivided_Int_Dykes_D2b",
        "18_FlinFlon_Undivided_Int_Dykes_777_D2b",
        "06_Phantom_Lake_Intrusive_S3a",
        "21_FlinFlon_Undivided_Int_Dykes_D3a",
        "43_Millrock_CHLSH_South",
        "56_Millrock_Basalt_Fm1ba",
        "17_FlinFlon_Undivided_Int_Dykes_D2",
        "32_Hidden_Reservoir_Hr1b_SW",
        "11_Missi_M3_NE",
        "13_Missi_M1",
        "07_Annabel_Granitoid_S1",
        "45_Millrock_Gabbro_South",
        "01_Late_Intrusive_S5b",
        "31_Hidden_Reservoir_Hr1c_SW",
        "52_Millrock_Rhyolite_Fm4_West_check",
        "55_Millrock_Basalt_Fm1bf",
        "34_Hidden_Reservoir_Hr2b",
        "03_Boundary_Intrusive_S4b",
        "42_Millrock_CHLSH_North",
        "26_Louis_L3",
        "23_FlinFlon_Undivided_Int_Felsic_D4g",
        "30_Hidden_Reservoir_Hr1b",
        "59_BlueLagoon_Fb3",
        "49_Millrock_MVR_Fm5d",
        "44_Millrock_Gabbro_North",
        "27_Hidden_Carlisle_Hc4",
        "22_FlinFlon_Undivided_Int_Felsic_D4e",
        "02_Boundary_Intrusive_S4a",
        "61_BlueLagoon_Fb1_NW",
        "05_Boundary_Intrusive_S4g",
        "39_Ore_Callinan",
        "38_Ore_Dan_Owens",
        "40_Ore_FlinFlon",
        "Inversion_VTEM_Model",
        "Gravity_Magnetics_drape60m",
        "CDI_VTEM_model",
        "Data_FEM_pseudo3D",
        "O2O_Interp_25m",
        "geochem",
        "Inversion_DIGHEM_Model",
        "Topography",
        "Data_TEM_pseudo3D"
       ],
       "description": "Object:",
       "index": 66,
       "layout": "IPY_MODEL_5c114d2cf5304913ae84d566cb49a47e",
       "style": "IPY_MODEL_1c2c6a84b85f4a479d7dffc2011f7faa"
      }
     },
     "f84e4d994659451ba565e75d33573e84": {
      "model_module": "@jupyter-widgets/controls",
      "model_module_version": "1.5.0",
      "model_name": "ButtonModel",
      "state": {
       "description": "Cancel",
       "layout": "IPY_MODEL_a7c33e6c4b71409682b7778927e7479e",
       "style": "IPY_MODEL_ff8f054ffdd04a7f89fc061e3b1a14af"
      }
     },
     "f8e08250fc47431d90086b86e7d98540": {
      "model_module": "@jupyter-widgets/controls",
      "model_module_version": "1.5.0",
      "model_name": "TextModel",
      "state": {
       "continuous_update": false,
       "description": "Contours",
       "layout": "IPY_MODEL_b8f9c8a20926442ab9d3f4ef9f5326df",
       "style": "IPY_MODEL_655083cc471a4c8497993a699d18bf5c"
      }
     },
     "f8f0b0f0f00e464e8a733f52965cda7c": {
      "model_module": "@jupyter-widgets/controls",
      "model_module_version": "1.5.0",
      "model_name": "HBoxModel",
      "state": {
       "children": [
        "IPY_MODEL_b1c41b3030454df7a22208e77eb40528",
        "IPY_MODEL_32802437ae584a53b48a2993f12dbb87"
       ],
       "layout": "IPY_MODEL_9d183345c274426fb284b28b25ce0a3d"
      }
     },
     "f9097380de22448d89cdf5f3d39c79d1": {
      "model_module": "@jupyter-widgets/base",
      "model_module_version": "1.2.0",
      "model_name": "LayoutModel",
      "state": {
       "display": "none",
       "width": "auto"
      }
     },
     "f92a61b35874493e857ff46d0a4ded64": {
      "model_module": "@jupyter-widgets/controls",
      "model_module_version": "1.5.0",
      "model_name": "GridBoxModel",
      "state": {
       "children": [
        "IPY_MODEL_f93911e91bcd4657a9dbddd23e5392dc",
        "IPY_MODEL_9f0f660b92974b0cb09dc23526e4eb89",
        "IPY_MODEL_907ab834ed05463a90f8c31f9fbe48e7"
       ],
       "layout": "IPY_MODEL_c60ee3b89bdc4041bfac401fb187bc3c"
      }
     },
     "f93911e91bcd4657a9dbddd23e5392dc": {
      "model_module": "@jupyter-widgets/controls",
      "model_module_version": "1.5.0",
      "model_name": "DropdownModel",
      "state": {
       "_options_labels": [
        "C:\\Users\\dominiquef\\Documents\\GIT\\mira\\mirageoscience-apps\\assets",
        "C:\\Users\\dominiquef\\Documents\\GIT\\mira\\mirageoscience-apps",
        "C:\\Users\\dominiquef\\Documents\\GIT\\mira",
        "C:\\Users\\dominiquef\\Documents\\GIT",
        "C:\\Users\\dominiquef\\Documents",
        "C:\\Users\\dominiquef",
        "C:\\Users",
        "C:\\",
        "D:\\",
        "Z:\\"
       ],
       "index": 0,
       "layout": "IPY_MODEL_759abfc3fe4f4f10ae325ccac5f22f07",
       "style": "IPY_MODEL_9d666606ecf34a17aff61ea8d6024e6d"
      }
     },
     "f94ae840ee6545bca56290651acfdfb1": {
      "model_module": "@jupyter-widgets/base",
      "model_module_version": "1.2.0",
      "model_name": "LayoutModel",
      "state": {}
     },
     "f961af4d59fe47e4863a1c1744f5de40": {
      "model_module": "@jupyter-widgets/base",
      "model_module_version": "1.2.0",
      "model_name": "LayoutModel",
      "state": {
       "grid_area": "dircontent",
       "width": "auto"
      }
     },
     "f98dabf168914d17993776519f0e0d7c": {
      "model_module": "@jupyter-widgets/base",
      "model_module_version": "1.2.0",
      "model_name": "LayoutModel",
      "state": {}
     },
     "f9e40347129f4c2e901ee1dc32b1e44f": {
      "model_module": "@jupyter-widgets/base",
      "model_module_version": "1.2.0",
      "model_name": "LayoutModel",
      "state": {
       "width": "auto"
      }
     },
     "fa0346d480ac4e6d927707b3d9d545c3": {
      "model_module": "@jupyter-widgets/base",
      "model_module_version": "1.2.0",
      "model_name": "LayoutModel",
      "state": {}
     },
     "fa27e2cf28884797b84ba9cec412e726": {
      "model_module": "@jupyter-widgets/controls",
      "model_module_version": "1.5.0",
      "model_name": "SliderStyleModel",
      "state": {
       "description_width": ""
      }
     },
     "faeb540bffb24cb798b070d9aec796bb": {
      "model_module": "@jupyter-widgets/base",
      "model_module_version": "1.2.0",
      "model_name": "LayoutModel",
      "state": {
       "grid_area": "filename",
       "width": "auto"
      }
     },
     "fb364652cb624aabafc1af9946b74542": {
      "model_module": "@jupyter-widgets/controls",
      "model_module_version": "1.5.0",
      "model_name": "VBoxModel",
      "state": {
       "children": [
        "IPY_MODEL_c447b31c64e5413eb9f999e89f583b42"
       ],
       "layout": "IPY_MODEL_1899bee5dc534872a2e5b2546dcfcf8b"
      }
     },
     "fb4f720fddb444e68e29d40e83f72c5e": {
      "model_module": "@jupyter-widgets/base",
      "model_module_version": "1.2.0",
      "model_name": "LayoutModel",
      "state": {}
     },
     "fb87fafce1214fbea40b56f0becaa380": {
      "model_module": "@jupyter-widgets/controls",
      "model_module_version": "1.5.0",
      "model_name": "DescriptionStyleModel",
      "state": {
       "description_width": ""
      }
     },
     "fba858f06ffa47f687a0a8021b45d8ba": {
      "model_module": "@jupyter-widgets/controls",
      "model_module_version": "1.5.0",
      "model_name": "DescriptionStyleModel",
      "state": {
       "description_width": ""
      }
     },
     "fbedfc2309dd4fd588458563b66f8d4d": {
      "model_module": "@jupyter-widgets/controls",
      "model_module_version": "1.5.0",
      "model_name": "DescriptionStyleModel",
      "state": {
       "description_width": ""
      }
     },
     "fc510fd6a1cc405eb44334f1d2f04792": {
      "model_module": "@jupyter-widgets/controls",
      "model_module_version": "1.5.0",
      "model_name": "TextModel",
      "state": {
       "layout": "IPY_MODEL_83f2485b1c6b4995b13e3f27fb0243a8",
       "placeholder": "output filename",
       "style": "IPY_MODEL_fb87fafce1214fbea40b56f0becaa380",
       "value": "FlinFlon.geoh5"
      }
     },
     "fc79af440c6644d38c060a53c38fd05b": {
      "model_module": "@jupyter-widgets/controls",
      "model_module_version": "1.5.0",
      "model_name": "FloatSliderModel",
      "state": {
       "continuous_update": false,
       "description": "Height",
       "layout": "IPY_MODEL_b3767b220e9644e7b96bb2e61cb1e115",
       "max": 11351.865002485923,
       "orientation": "vertical",
       "step": 0.1,
       "style": "IPY_MODEL_f1cf5b08c0ff41da90e65edfe5eb7883",
       "value": 5675.932501242962
      }
     },
     "fc8e8676051547e09e264766387ee69a": {
      "model_module": "@jupyter-widgets/controls",
      "model_module_version": "1.5.0",
      "model_name": "SliderStyleModel",
      "state": {
       "description_width": ""
      }
     },
     "fc9db2cfb300461a9c266b220d982b81": {
      "model_module": "@jupyter-widgets/controls",
      "model_module_version": "1.5.0",
      "model_name": "VBoxModel",
      "state": {
       "children": [
        "IPY_MODEL_9f0cf833bfeb4f01b234adab71fe0ee3",
        "IPY_MODEL_a7a410336ebb4ac5b137860aa09a2ac1",
        "IPY_MODEL_5e2f4c4d66d143c3a65ecc02487966a2",
        "IPY_MODEL_79573894ee544371bd059c48abd310a7",
        "IPY_MODEL_87ac0f2988a94e15a1c27365958a1df0"
       ],
       "layout": "IPY_MODEL_09394a09b4a74e1091ea586f592ff666"
      }
     },
     "fccaac584cb14e81b7f6ade9c6919339": {
      "model_module": "@jupyter-widgets/controls",
      "model_module_version": "1.5.0",
      "model_name": "DescriptionStyleModel",
      "state": {
       "description_width": ""
      }
     },
     "fcd876a05a6745b7b8795803837827e8": {
      "model_module": "@jupyter-widgets/base",
      "model_module_version": "1.2.0",
      "model_name": "LayoutModel",
      "state": {}
     },
     "fce44eaf03e54884b56039fc68b69008": {
      "model_module": "@jupyter-widgets/controls",
      "model_module_version": "1.5.0",
      "model_name": "ButtonModel",
      "state": {
       "description": "Create copy:",
       "layout": "IPY_MODEL_e0e236d2ae014279ac404e5e9db4fb5f",
       "style": "IPY_MODEL_dce2fde643914336997883b074e009f9"
      }
     },
     "fcff0789d3c845a9a2ba882e5300ebfe": {
      "model_module": "@jupyter-widgets/controls",
      "model_module_version": "1.5.0",
      "model_name": "DescriptionStyleModel",
      "state": {
       "description_width": ""
      }
     },
     "fd18cbc23f3d4e3da9bd31ff3e2280be": {
      "model_module": "@jupyter-widgets/controls",
      "model_module_version": "1.5.0",
      "model_name": "DescriptionStyleModel",
      "state": {
       "description_width": "initial"
      }
     },
     "fd8c118cdd3e483d8012c723bd22fe3d": {
      "model_module": "@jupyter-widgets/base",
      "model_module_version": "1.2.0",
      "model_name": "LayoutModel",
      "state": {}
     },
     "feda683a86314cf4bfa1a234b1e30ff2": {
      "model_module": "@jupyter-widgets/controls",
      "model_module_version": "1.5.0",
      "model_name": "HBoxModel",
      "state": {
       "children": [
        "IPY_MODEL_2debed4a268449b190e293fee00b38f9",
        "IPY_MODEL_df37bbec5b484742a44b4d0299841e0d"
       ],
       "layout": "IPY_MODEL_e41a773d4d23408c8eb4f2cfc06966bf"
      }
     },
     "ff8f054ffdd04a7f89fc061e3b1a14af": {
      "model_module": "@jupyter-widgets/controls",
      "model_module_version": "1.5.0",
      "model_name": "ButtonStyleModel",
      "state": {}
     },
     "ffc5c1496d99434abcb60dec94f15749": {
      "model_module": "@jupyter-widgets/base",
      "model_module_version": "1.2.0",
      "model_name": "LayoutModel",
      "state": {
       "grid_area": "dircontent",
       "width": "auto"
      }
     },
     "ffc808d478b94962aac45b46d56accda": {
      "model_module": "@jupyter-widgets/controls",
      "model_module_version": "1.5.0",
      "model_name": "HBoxModel",
      "state": {
       "children": [
        "IPY_MODEL_5f214da6e20d4e409a11931f91e6d286",
        "IPY_MODEL_4cf7de4efc324d23833829c3d3f35d77",
        "IPY_MODEL_cb1fcc58266042e68091f2cffdf12b42"
       ],
       "layout": "IPY_MODEL_286826dd51264f2895caebb744a8d357"
      }
     },
     "ffef53b161f9474a9e73b99eaff48f34": {
      "model_module": "@jupyter-widgets/base",
      "model_module_version": "1.2.0",
      "model_name": "LayoutModel",
      "state": {}
     }
    },
    "version_major": 2,
    "version_minor": 0
   }
  }
 },
 "nbformat": 4,
 "nbformat_minor": 4
}

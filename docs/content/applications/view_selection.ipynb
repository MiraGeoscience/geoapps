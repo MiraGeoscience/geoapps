version https://git-lfs.github.com/spec/v1
oid sha256:ff6cfcef3b4571d694e92eeee909199cf619ec6bfcecec85233f1acd66ec9ccc
size 2845739

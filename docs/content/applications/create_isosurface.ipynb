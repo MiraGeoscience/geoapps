version https://git-lfs.github.com/spec/v1
oid sha256:4bd0edcf3fd21da8dd031ca93067c94c15bd03aa1f34a5abf2cfeb447e5da46f
size 18238087

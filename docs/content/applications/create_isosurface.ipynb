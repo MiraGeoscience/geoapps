version https://git-lfs.github.com/spec/v1
oid sha256:7a9e028bcb1897d6030cfb2f3dfbc63c00e75a9e6e0a0d70697b0b276a694d1d
size 21407644

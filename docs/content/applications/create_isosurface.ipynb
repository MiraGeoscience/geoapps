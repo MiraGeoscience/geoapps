version https://git-lfs.github.com/spec/v1
oid sha256:c2690a70e286c1865bfbfa53bf70c4f3f134236d592efca6c1cccf3a7c3234c2
size 27896090

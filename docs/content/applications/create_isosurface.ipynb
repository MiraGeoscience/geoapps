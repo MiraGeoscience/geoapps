version https://git-lfs.github.com/spec/v1
oid sha256:04643162ab48476bd25545d71242fbce64b901f27678a016f8bba3a31d69850d
size 21630158

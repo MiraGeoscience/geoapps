version https://git-lfs.github.com/spec/v1
oid sha256:a9f6f5ee401d5c3051018583701bd1267a9fb388b6b212e038766e4426a82c1e
size 21696430

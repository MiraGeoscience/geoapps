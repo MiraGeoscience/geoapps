version https://git-lfs.github.com/spec/v1
oid sha256:a2c86bd06342578f813337d8f680d3be4fa5009fee28b89fdfe7dd9e544c02bc
size 21389609

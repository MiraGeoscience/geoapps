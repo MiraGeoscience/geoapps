version https://git-lfs.github.com/spec/v1
oid sha256:a8cc3a671c30a5976990288c0ab73fcf3f4c5cc94b5785c7cb5a59f6f2fb43db
size 38893980

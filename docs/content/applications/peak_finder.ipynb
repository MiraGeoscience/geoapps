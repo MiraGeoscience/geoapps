version https://git-lfs.github.com/spec/v1
oid sha256:ca449f44af872c3b5f3a6a6202da85c548b9e550934bc944d0d0fdac7d02ed5d
size 4294359

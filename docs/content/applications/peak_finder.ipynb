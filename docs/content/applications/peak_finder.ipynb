version https://git-lfs.github.com/spec/v1
oid sha256:899975124097f1a0c0f1c06e7255f6be319a630340a2b63ae7d2d2946806e03e
size 4081975

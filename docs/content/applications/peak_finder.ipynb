version https://git-lfs.github.com/spec/v1
oid sha256:e68f936042024bd0cd2a20ac284f11d354681ae67ec75f5e6de10fd6942e998f
size 4081975

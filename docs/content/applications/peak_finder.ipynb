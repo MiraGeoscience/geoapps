version https://git-lfs.github.com/spec/v1
oid sha256:aed55041bbc0102717034349cde2b363c6cbc609c4436d04ec512a70f12a5dd8
size 924895

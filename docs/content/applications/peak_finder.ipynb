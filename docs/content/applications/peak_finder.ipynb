version https://git-lfs.github.com/spec/v1
oid sha256:bd946cd386b5cd00ba188257263b5bfd9e9af637e08f646fd40b36f84eeda66c
size 4081531

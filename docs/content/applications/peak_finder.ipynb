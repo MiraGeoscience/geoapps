version https://git-lfs.github.com/spec/v1
oid sha256:0bf91b22235d126d822c986418a5880b292f841a1115d2d85000240a3dd2fce8
size 925287

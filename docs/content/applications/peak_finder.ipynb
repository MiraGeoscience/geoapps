{
 "cells": [
  {
   "cell_type": "markdown",
   "metadata": {},
   "source": [
    "# Peak Finder\n",
    "\n",
    "This [Peak Finder](#Methodology) algorithm has been designed for the detection and grouping of time-domain electromagnetic (TEM) anomalies measured along flight lines.\n",
    "Anomaly markers can be exported to Geoscience ANALYST, along with various metrics for characterization and targeting:\n",
    "\n",
    "  <img align=\"right\" width=\"50%\" src=\"./images/peak_finder_app.png\">\n",
    "  \n",
    "- Amplitude\n",
    "- Dip direction\n",
    "- Mad Tau (TEM data only)\n",
    "- Anomaly skewness\n",
    "\n",
    "While initially designed for TEM data, the same application can be used for the characterization of anomalies of mixed data types (e.g. magnetics, gravity, topography, etc.).\n",
    "\n",
    "\n",
    "  \n",
    "\n",
    "New user? Visit the [Getting Started](../installation.rst) page."
   ]
  },
  {
   "cell_type": "markdown",
   "metadata": {},
   "source": [
    "## Application\n",
    "The following sections provide details on the different parameters controling the application. Interactive widgets shown below are for demonstration purposes only."
   ]
  },
  {
   "cell_type": "code",
   "execution_count": 1,
   "metadata": {
    "scrolled": false
   },
   "outputs": [
    {
     "data": {
      "application/vnd.jupyter.widget-view+json": {
       "model_id": "0b58a4bd975d474498e0e5fff92b75c9",
       "version_major": 2,
       "version_minor": 0
      },
      "text/plain": [
       "VBox(children=(VBox(children=(Label(value='Workspace', style=DescriptionStyle(description_width='initial')), H…"
      ]
     },
     "metadata": {},
     "output_type": "display_data"
    }
   ],
   "source": [
    "from geoapps.processing import PeakFinder\n",
    "\n",
    "app = PeakFinder(h5file=r\"../../../assets/FlinFlon.geoh5\")\n",
    "app.main"
   ]
  },
  {
   "cell_type": "markdown",
   "metadata": {},
   "source": [
    "## Project Selection\n",
    "\n",
    "Select and connect to an existing **geoh5** project file containing data. "
   ]
  },
  {
   "cell_type": "code",
   "execution_count": 2,
   "metadata": {},
   "outputs": [
    {
     "data": {
      "application/vnd.jupyter.widget-view+json": {
       "model_id": "0ac039f3323a4d60891a50a60cda12da",
       "version_major": 2,
       "version_minor": 0
      },
      "text/plain": [
       "VBox(children=(Label(value='Workspace', style=DescriptionStyle(description_width='initial')), HBox(children=(F…"
      ]
     },
     "metadata": {},
     "output_type": "display_data"
    }
   ],
   "source": [
    "app.project_panel"
   ]
  },
  {
   "cell_type": "markdown",
   "metadata": {},
   "source": [
    "See the [Project Panel](base_application.ipynb#Project-Panel) page for more details."
   ]
  },
  {
   "cell_type": "markdown",
   "metadata": {},
   "source": [
    "## Object/Data Selection\n",
    "\n",
    "List of `Curve` objects available containing line data. Multiple data channels and/or data groups can be selected. "
   ]
  },
  {
   "cell_type": "code",
   "execution_count": 3,
   "metadata": {},
   "outputs": [
    {
     "data": {
      "application/vnd.jupyter.widget-view+json": {
       "model_id": "63a449baba73412c8a509402e64557b7",
       "version_major": 2,
       "version_minor": 0
      },
      "text/plain": [
       "VBox(children=(Dropdown(description='Survey', index=73, options=('', 'fault_splay1', 'fault_Cliff_Lake', 'faul…"
      ]
     },
     "metadata": {},
     "output_type": "display_data"
    }
   ],
   "source": [
    "app.data_panel"
   ]
  },
  {
   "cell_type": "markdown",
   "metadata": {},
   "source": [
    "### Flip Y-axis\n",
    "\n",
    "Option to invert the data profile by a -1 multiplication. Useful for the detection of lows instead of highs."
   ]
  },
  {
   "cell_type": "code",
   "execution_count": 4,
   "metadata": {},
   "outputs": [
    {
     "data": {
      "application/vnd.jupyter.widget-view+json": {
       "model_id": "d3e222675e4141709810678db0bf6cc1",
       "version_major": 2,
       "version_minor": 0
      },
      "text/plain": [
       "ToggleButton(value=False, button_style='warning', description='Flip Y (-1x)')"
      ]
     },
     "metadata": {},
     "output_type": "display_data"
    }
   ],
   "source": [
    "app.flip_sign"
   ]
  },
  {
   "cell_type": "markdown",
   "metadata": {},
   "source": [
    "## TEM data\n",
    "\n",
    "Flag the selected data to be Time-Domain EM data. "
   ]
  },
  {
   "cell_type": "code",
   "execution_count": 5,
   "metadata": {},
   "outputs": [
    {
     "data": {
      "application/vnd.jupyter.widget-view+json": {
       "model_id": "b1d8370b4cb9475284a26968c3e0ef07",
       "version_major": 2,
       "version_minor": 0
      },
      "text/plain": [
       "HBox(children=(Checkbox(value=True, description='TEM Data', style=DescriptionStyle(description_width='initial'…"
      ]
     },
     "metadata": {},
     "output_type": "display_data"
    }
   ],
   "source": [
    "app.tem_box"
   ]
  },
  {
   "cell_type": "markdown",
   "metadata": {},
   "source": [
    "This option enables the [TEM System](#TEM-System), [Time Groups](#Time-Groups) and [Decay Curve](#Decay-Curve) panels."
   ]
  },
  {
   "cell_type": "markdown",
   "metadata": {},
   "source": [
    "### TEM System\n",
    "\n",
    "List of available TEM systems.\n",
    "The application will attempt to assign the *Survey Type* based on\n",
    "known channel names (e.g. *Sf* => *VTEM*)."
   ]
  },
  {
   "cell_type": "code",
   "execution_count": 6,
   "metadata": {},
   "outputs": [
    {
     "data": {
      "application/vnd.jupyter.widget-view+json": {
       "model_id": "226a877a1135431bb580b308fce9eb0b",
       "version_major": 2,
       "version_minor": 0
      },
      "text/plain": [
       "VBox(children=(Dropdown(description='Time-Domain System:', index=17, options=('AeroTEM (2007)', 'AeroTEM (2010…"
      ]
     },
     "metadata": {},
     "output_type": "display_data"
    }
   ],
   "source": [
    "app.system_options"
   ]
  },
  {
   "cell_type": "markdown",
   "metadata": {},
   "source": [
    "Assigning the right time gates to each data channel is important for the calculation of the [Slanted Tau](#Slanted-Tau) parameter. "
   ]
  },
  {
   "cell_type": "markdown",
   "metadata": {},
   "source": [
    "### Time Groups\n",
    "\n",
    "Pre-define groups of time channels for the labeling of anomalies. For example, anomalies found in both the `early` and `middle` time groups are labeled as `early+middle` with the corresponding color code. \n",
    "\n",
    "See the [Methodology](#Methodology) section for details on the grouping."
   ]
  },
  {
   "cell_type": "code",
   "execution_count": 7,
   "metadata": {},
   "outputs": [
    {
     "data": {
      "application/vnd.jupyter.widget-view+json": {
       "model_id": "d378ed297db5418b8dd2d5fa464ec64a",
       "version_major": 2,
       "version_minor": 0
      },
      "text/plain": [
       "VBox(children=(Dropdown(options=('early', 'early + middle', 'middle', 'early + middle + late', 'middle + late'…"
      ]
     },
     "metadata": {},
     "output_type": "display_data"
    }
   ],
   "source": [
    "app.groups_panel"
   ]
  },
  {
   "cell_type": "markdown",
   "metadata": {},
   "source": [
    "### Decay Curve\n",
    "\n",
    "Plot of peak values as a function of time for the nearest anomaly to the [Center](#Center) location."
   ]
  },
  {
   "cell_type": "code",
   "execution_count": 8,
   "metadata": {},
   "outputs": [
    {
     "data": {
      "image/png": "[encoded data removed]",
      "text/plain": [
       "<Figure size 576x576 with 1 Axes>"
      ]
     },
     "execution_count": 8,
     "metadata": {},
     "output_type": "execute_result"
    }
   ],
   "source": [
    "app.decay_figure\n"
   ]
  },
  {
   "cell_type": "markdown",
   "metadata": {},
   "source": [
    "#### Slanted Tau\n",
    "\n",
    "This pseudo-decay curve can be used for the calculation of the `Slanted Tau`, or `Mad Tau`, as defined by the slope of the linear fit of log( `dB/dt`(V)) as a function `time` (s). \n",
    "\n",
    "\\begin{equation}\n",
    "\\tau = \\cot(\\theta) \\approx \\frac{\\Delta t}{\\Delta log(dB/dt)}\n",
    "\\end{equation}\n",
    "    \n",
    "where $\\Delta$ denotes the varation of time $t$ and $dB/dt$ over the selected group of time channels ([Nabighian & Macnea, 1991](https://library.seg.org/doi/epdf/10.1190/1.9781560802686.ch6))."
   ]
  },
  {
   "cell_type": "markdown",
   "metadata": {},
   "source": [
    "## Line Selection\n",
    "\n",
    "Selection of a channel representing the line identifier and specific line number."
   ]
  },
  {
   "cell_type": "code",
   "execution_count": 9,
   "metadata": {},
   "outputs": [
    {
     "data": {
      "application/vnd.jupyter.widget-view+json": {
       "model_id": "98fb298c17164012b2ae5573e6045ea9",
       "version_major": 2,
       "version_minor": 0
      },
      "text/plain": [
       "VBox(children=(Dropdown(description='Lines field', index=3, options=('', '--- Channels ---', 'DEM', 'Line', 'S…"
      ]
     },
     "metadata": {},
     "output_type": "display_data"
    }
   ],
   "source": [
    "app.lines.main"
   ]
  },
  {
   "cell_type": "markdown",
   "metadata": {},
   "source": [
    "The detection algorithm is applied immediately on the selected line as a test dataset. Users are invited to adjust the different [Detection Parameters](#Detection-Parameters) before [Executing](#Process-All) the process on all lines."
   ]
  },
  {
   "cell_type": "markdown",
   "metadata": {},
   "source": [
    "## Profile Plot\n",
    "\n",
    "Data profile plot with detected anomalies color coded by [Groups](#Grouping). "
   ]
  },
  {
   "cell_type": "code",
   "execution_count": 10,
   "metadata": {},
   "outputs": [
    {
     "data": {
      "image/png": "[encoded data removed]",
      "text/plain": [
       "<Figure size 864x432 with 1 Axes>"
      ]
     },
     "execution_count": 10,
     "metadata": {},
     "output_type": "execute_result"
    }
   ],
   "source": [
    "app.figure"
   ]
  },
  {
   "cell_type": "markdown",
   "metadata": {},
   "source": [
    "Anomalies are detected when a peak (maximum) can be found between two lows (minimum) and two inflection points. \n",
    "Triangles marking the peaks position point in the estimated dip direction determined by:\n",
    "\n",
    "- (TEM data) the peak migration direction\n",
    "- (None-TEM) the skew direction"
   ]
  },
  {
   "cell_type": "markdown",
   "metadata": {},
   "source": [
    "## Visual Parameters\n",
    "\n",
    "Parameters controlling the [Profile Plot](#Profile-Plot)."
   ]
  },
  {
   "cell_type": "code",
   "execution_count": 11,
   "metadata": {},
   "outputs": [
    {
     "data": {
      "application/vnd.jupyter.widget-view+json": {
       "model_id": "e85b4fd5f3b042e5bcfd65ddeb0df85e",
       "version_major": 2,
       "version_minor": 0
      },
      "text/plain": [
       "VBox(children=(FloatSlider(value=4050.0, continuous_update=False, description='Window Center', max=4276.000000…"
      ]
     },
     "metadata": {},
     "output_type": "display_data"
    }
   ],
   "source": [
    "app.visual_parameters"
   ]
  },
  {
   "cell_type": "markdown",
   "metadata": {},
   "source": [
    "### Center\n",
    "Position of the plotting window along the selected line.\n",
    "\n",
    "### Width\n",
    "Width of the plotting window\n",
    "\n",
    "### X-axis label\n",
    "Units displayed along the x-axis\n",
    "\n",
    "### Y-axis scaling\n",
    "Normalization of the data displayed along the Y-axis\n",
    "\n",
    "### Symlog\n",
    "Symmetric logarithmic option such that both positive and negative data can be displayed in log space.\n",
    "\n",
    "#### Linear threshold\n",
    "\n",
    "Limits for the log scale plot around zero. Values between the (+/-) threshold are plotted in linear scale. "
   ]
  },
  {
   "cell_type": "markdown",
   "metadata": {},
   "source": [
    "## Detection Parameters\n",
    "\n",
    "Parameters controlling the filtering and grouping of positive peak anomalies."
   ]
  },
  {
   "cell_type": "code",
   "execution_count": 12,
   "metadata": {},
   "outputs": [
    {
     "data": {
      "application/vnd.jupyter.widget-view+json": {
       "model_id": "257da80284544ba4aa064621b6a7e7de",
       "version_major": 2,
       "version_minor": 0
      },
      "text/plain": [
       "VBox(children=(IntSlider(value=6, continuous_update=False, description='Smoothing', max=64, style=SliderStyle(…"
      ]
     },
     "metadata": {},
     "output_type": "display_data"
    }
   ],
   "source": [
    "app.detection_parameters"
   ]
  },
  {
   "cell_type": "markdown",
   "metadata": {},
   "source": [
    "<img align=\"center\" width=\"75%\" src=\"./images/peak_finder_parameters.png\">\n",
    "\n",
    "\n",
    "### Minimum Amplitude\n",
    "\n",
    "Threshold value ($\\delta_A$) for filtering small anomalies:\n",
    "\n",
    "\\begin{equation}\n",
    "\\delta_A = \\|\\frac{d_{max} - d_{min}}{d_{min}}\\| * 100\n",
    "\\end{equation}\n",
    "\n",
    "Set as a percent (%) of the data anomaly over its minimum value.\n",
    "\n",
    "\n",
    "### Minimum Data Value\n",
    "\n",
    "Minimum absolute data value ($\\delta_d$) used by the algorithm:\n",
    "\\begin{equation}\n",
    "d_i = \n",
    "\\begin{cases}\n",
    "d_i & \\;\\text{for } d_i > \\delta_d \\\\\n",
    "nan & \\;\\text{for } d_i \\leq \\delta_d\\\\\n",
    "\\end{cases}\n",
    "\\end{equation}\n",
    "\n",
    "### Minimum Width\n",
    "\n",
    "Minimum anomaly width (m) as measured from start to end (consecutive lows).\n",
    "\n",
    "\n",
    "### Maximum Peak Migration\n",
    "\n",
    "Threshold applied on the grouping of anomalies based on the lateral shift of peaks.\n",
    "\n",
    "### Minimum number of channels\n",
    "\n",
    "Minimum number of data channels required to form a group.\n",
    "\n",
    "\n",
    "<img align=\"right\" width=\"50%\" src=\"./images/peak_smoothing.png\">\n",
    "\n",
    "\n",
    "### Smoothing\n",
    "\n",
    "Parameter controlling the running mean averaging:\n",
    "\n",
    "$d_i = \\frac{1}{N}\\sum_{j=-\\frac{N}{2}}^{\\frac{N}{2}}d_{i+j}$\n",
    "\n",
    "where `N` is the number of along line neighbours used for the averaging. The averaging becomes one sided at both ends of the profile. Positive (blue) and negative (red) residuals between the original and smoothed profile are shown for reference.\n",
    "\n",
    "\n",
    "### Use residual\n",
    "\n",
    "Option to use the residual between the recorded and smoothed data. Useful to highlight smaller anomalies within larger trends.\n"
   ]
  },
  {
   "cell_type": "markdown",
   "metadata": {},
   "source": [
    "## Model Panel\n",
    "\n",
    "Option to show `Surface` model and `Points` data."
   ]
  },
  {
   "cell_type": "code",
   "execution_count": 13,
   "metadata": {},
   "outputs": [
    {
     "data": {
      "application/vnd.jupyter.widget-view+json": {
       "model_id": "807117c114a9490cb48e4851aedbcb94",
       "version_major": 2,
       "version_minor": 0
      },
      "text/plain": [
       "FigureWidget({\n",
       "    'data': [{'type': 'scatter3d', 'uid': '7fa9bf6e-47da-4df2-badd-c84064f8f55c'},\n",
       "            …"
      ]
     },
     "metadata": {},
     "output_type": "display_data"
    }
   ],
   "source": [
    "app.model_figure"
   ]
  },
  {
   "cell_type": "markdown",
   "metadata": {},
   "source": [
    "### Model Parameters\n",
    "\n",
    "Set various parameters to control the 3D plot."
   ]
  },
  {
   "cell_type": "code",
   "execution_count": 14,
   "metadata": {},
   "outputs": [
    {
     "data": {
      "application/vnd.jupyter.widget-view+json": {
       "model_id": "87b5e2c6bff1451c974333dcfc35dde2",
       "version_major": 2,
       "version_minor": 0
      },
      "text/plain": [
       "VBox(children=(Dropdown(description='Surface:', index=65, options=('', 'fault_splay1', 'fault_Cliff_Lake', 'fa…"
      ]
     },
     "metadata": {},
     "output_type": "display_data"
    }
   ],
   "source": [
    "app.model_parameters"
   ]
  },
  {
   "cell_type": "markdown",
   "metadata": {},
   "source": [
    "#### Log Values\n",
    "\n",
    "Option to plot the model values in base `log10`\n",
    "\n",
    "#### Minimum\n",
    "\n",
    "Set the lower color range.\n",
    "\n",
    "#### Maximum\n",
    "\n",
    "Set the upper color range\n",
    "\n",
    "#### Colormap\n",
    "\n",
    "Select a colormap \n",
    "\n",
    "#### Opacity\n",
    "\n",
    "Change the transparency of the surface model."
   ]
  },
  {
   "cell_type": "markdown",
   "metadata": {},
   "source": [
    "### DOI Parameters\n",
    "\n",
    "Add a Depth of Investigation (DOI) mask to the surface model."
   ]
  },
  {
   "cell_type": "code",
   "execution_count": 15,
   "metadata": {},
   "outputs": [
    {
     "data": {
      "application/vnd.jupyter.widget-view+json": {
       "model_id": "731f36bb507d4f8caa3ea504280f6fae",
       "version_major": 2,
       "version_minor": 0
      },
      "text/plain": [
       "VBox(children=(Dropdown(description='DOI Layer', index=11, options=('', '--- Channels ---', 'Cell_weights', 'I…"
      ]
     },
     "metadata": {},
     "output_type": "display_data"
    }
   ],
   "source": [
    "app.doi_parameters"
   ]
  },
  {
   "cell_type": "markdown",
   "metadata": {},
   "source": [
    "#### DOI Layer\n",
    "\n",
    "Select a model value corresponding to the DOI mask.\n",
    "\n",
    "#### DOI %\n",
    "\n",
    "Cutoff DOI value.\n",
    "\n",
    "#### Revert\n",
    "\n",
    "Use the reciprocal of the DOI values as mask."
   ]
  },
  {
   "cell_type": "markdown",
   "metadata": {},
   "source": [
    "### Scatter Parameters\n",
    "\n",
    "Add scatter `Points` data to the plot, such as borehole data."
   ]
  },
  {
   "cell_type": "code",
   "execution_count": 16,
   "metadata": {},
   "outputs": [
    {
     "data": {
      "application/vnd.jupyter.widget-view+json": {
       "model_id": "e2fbd229a2a343059324b07af8811d71",
       "version_major": 2,
       "version_minor": 0
      },
      "text/plain": [
       "VBox(children=(VBox(children=(Dropdown(description='Points', index=68, options=('', 'fault_splay1', 'fault_Cli…"
      ]
     },
     "metadata": {},
     "output_type": "display_data"
    }
   ],
   "source": [
    "app.scatter_parameters"
   ]
  },
  {
   "cell_type": "markdown",
   "metadata": {},
   "source": [
    "#### Points\n",
    "\n",
    "Select `Points` object to display on 3D plot.\n",
    "\n",
    "#### Values\n",
    "\n",
    "Select `Data` associated with the `Points` object to display.\n",
    "\n",
    "#### Slice width\n",
    "\n",
    "Maxmimum search distance around the selected [Line](#Line-Selection)\n",
    "\n",
    "#### Marker Size\n",
    "\n",
    "Adjust the `Points` markers size. "
   ]
  },
  {
   "cell_type": "markdown",
   "metadata": {},
   "source": [
    "## Output Panel\n",
    "\n",
    "Run and export anomaly markers."
   ]
  },
  {
   "cell_type": "code",
   "execution_count": 17,
   "metadata": {},
   "outputs": [
    {
     "data": {
      "application/vnd.jupyter.widget-view+json": {
       "model_id": "3db1686ec4b747e087a456d1e9e06412",
       "version_major": 2,
       "version_minor": 0
      },
      "text/plain": [
       "VBox(children=(Button(button_style='warning', description='Process All Lines', style=ButtonStyle()), VBox(chil…"
      ]
     },
     "metadata": {},
     "output_type": "display_data"
    }
   ],
   "source": [
    "app.output_panel"
   ]
  },
  {
   "cell_type": "markdown",
   "metadata": {},
   "source": [
    "### Process All\n",
    "\n",
    "Run the search algorihtm on all lines. This process is run in parallel using [Dask](https://dask.org/).\n",
    "\n",
    "### Export Peaks\n",
    "\n",
    "Export anomaly group markers to the target `geoh5` project.\n",
    "\n",
    "### All Markers\n",
    "\n",
    "Write the full set of markers (min, max, inflections) for all peaks on every data channels."
   ]
  },
  {
   "cell_type": "markdown",
   "metadata": {},
   "source": [
    "See the [Output Panel](base_application.ipynb#Output-Panel) page for more details."
   ]
  },
  {
   "cell_type": "markdown",
   "metadata": {},
   "source": [
    "## Methodology\n",
    "\n",
    "This section provides technical details regarding the algorithm used for the detection of 1D anomalies. \n",
    "\n",
    "Anomalies are identified from the detection of maximum, minimum and inflection points calculated from the first and second order derivatives of individual data channels. The algorithm relies on the [Numpy.fft](https://numpy.org/doc/stable/reference/routines.fft.html) routine for the calculation of derivatives in the Fourier domain.\n",
    "\n",
    "[Detection Parameters](#Detection-Parameters) are available for filtering and grouping co-located anomalies. The selection process is done in the following order:\n",
    "\n",
    "### Primary detection\n",
    "\n",
    "Loop over the selected data channels:\n",
    "\n",
    "1. Apply the [Minimum Data Value](#Minimum-Data-Value) threshold.\n",
    "2. For every maximum (peak) found on a profile, look on either side for inflection and minimum points. This forms an anomaly.\n",
    "3. Keep all anomalies larger than the [Minimum Amplitude](#Minimum-Amplitude)\n",
    "\n",
    "### Grouping\n",
    "\n",
    "Anomalies found along individual data channels are grouped based on spatial proximity:\n",
    "\n",
    "1. Find all peaks within the [Maximum Peak Migration](#Maximum-Peak-Migration) distance. The nearest peak is used if multiple peaks are found on a single channel.\n",
    "2. Create an anomaly group that satisfies the following criteria:\n",
    "    - The data channels must be part of a continuous series (maximum of one channel skip is allowed)\n",
    "    - A group must satisfy the [Minimum number of channels](#Minimum-number-of-channels)\n",
    "3. For TEM data, an ID gets assigned based on the largest overlap between the labeled data channels and the pre-defined [Time Groups](#Time-Groups)."
   ]
  },
  {
   "cell_type": "markdown",
   "metadata": {},
   "source": [
    "Need help? Contact us at support@mirageoscience.com"
   ]
  },
  {
   "cell_type": "code",
   "execution_count": 18,
   "metadata": {
    "nbsphinx": "hidden"
   },
   "outputs": [],
   "source": [
    "import matplotlib.pyplot as plt\n",
    "app.figure.savefig(\"images/peak_finder_thumbnail.png\", dpi=300, bbox_inches='tight')"
   ]
  }
 ],
 "metadata": {
  "kernelspec": {
   "display_name": "Python 3",
   "language": "python",
   "name": "python3"
  },
  "language_info": {
   "codemirror_mode": {
    "name": "ipython",
    "version": 3
   },
   "file_extension": ".py",
   "mimetype": "text/x-python",
   "name": "python",
   "nbconvert_exporter": "python",
   "pygments_lexer": "ipython3",
   "version": "3.7.8"
  },
  "widgets": {
   "application/vnd.jupyter.widget-state+json": {
    "state": {
     "00201b70cc214626b4dd99fe66ed0c5e": {
      "model_module": "@jupyter-widgets/controls",
      "model_module_version": "1.5.0",
      "model_name": "DescriptionStyleModel",
      "state": {
       "description_width": ""
      }
     },
     "00329d47cae246b1952f0595011f17b8": {
      "model_module": "@jupyter-widgets/controls",
      "model_module_version": "1.5.0",
      "model_name": "ButtonStyleModel",
      "state": {}
     },
     "00db8e681be444ac81afb2a2e87ab1e2": {
      "model_module": "@jupyter-widgets/base",
      "model_module_version": "1.2.0",
      "model_name": "LayoutModel",
      "state": {}
     },
     "00dc8ec10bc64160a60b46bb289a6e5d": {
      "model_module": "@jupyter-widgets/base",
      "model_module_version": "1.2.0",
      "model_name": "LayoutModel",
      "state": {}
     },
     "01150427a59546c2b4c8b568f5069a97": {
      "model_module": "@jupyter-widgets/controls",
      "model_module_version": "1.5.0",
      "model_name": "DescriptionStyleModel",
      "state": {
       "description_width": ""
      }
     },
     "014c686c5fb44dad9b4be5857b992f7d": {
      "model_module": "@jupyter-widgets/base",
      "model_module_version": "1.2.0",
      "model_name": "LayoutModel",
      "state": {}
     },
     "0186e4aaf1ee4715b828f0f87e1c71d0": {
      "model_module": "@jupyter-widgets/controls",
      "model_module_version": "1.5.0",
      "model_name": "GridBoxModel",
      "state": {
       "children": [
        "IPY_MODEL_ccb41fa06f7142fc820dce3d834a4c48",
        "IPY_MODEL_9e4cd851923847fe8b52efaa4b84c4d4",
        "IPY_MODEL_c0b486400cc7440eafea16f4878b7575"
       ],
       "layout": "IPY_MODEL_e4291a9bd4b04431a7b1b68618a0a841"
      }
     },
     "01b68f7f8fe14dc881971df554aad325": {
      "model_module": "@jupyter-widgets/base",
      "model_module_version": "1.2.0",
      "model_name": "LayoutModel",
      "state": {
       "width": "auto"
      }
     },
     "01d96a0d7ca5478ea898d66f9c1b4048": {
      "model_module": "@jupyter-widgets/controls",
      "model_module_version": "1.5.0",
      "model_name": "DescriptionStyleModel",
      "state": {
       "description_width": ""
      }
     },
     "0218eb7ee4f047c08a1c53cf0b84bee1": {
      "model_module": "@jupyter-widgets/controls",
      "model_module_version": "1.5.0",
      "model_name": "VBoxModel",
      "state": {
       "children": [
        "IPY_MODEL_4f1a9c8030754b1a843a70a2247b9c07",
        "IPY_MODEL_ebf8d4621d404beb984ca7caf2b95ee3"
       ],
       "layout": "IPY_MODEL_b41177abeb284467900ad6ec04ab175b"
      }
     },
     "0268961f5c4645bf8a53e2757dc0a584": {
      "model_module": "@jupyter-widgets/base",
      "model_module_version": "1.2.0",
      "model_name": "LayoutModel",
      "state": {
       "width": "auto"
      }
     },
     "02ae0d23cd90411c9bb3b2a874d66b7f": {
      "model_module": "@jupyter-widgets/base",
      "model_module_version": "1.2.0",
      "model_name": "LayoutModel",
      "state": {}
     },
     "02f0eb98e7724fec81763e81a4883474": {
      "model_module": "@jupyter-widgets/base",
      "model_module_version": "1.2.0",
      "model_name": "LayoutModel",
      "state": {}
     },
     "03024f3fc03f4892b8695f80ec1b4828": {
      "model_module": "@jupyter-widgets/base",
      "model_module_version": "1.2.0",
      "model_name": "LayoutModel",
      "state": {}
     },
     "0322b1d93e4549d58a06ecb2736229b1": {
      "model_module": "@jupyter-widgets/controls",
      "model_module_version": "1.5.0",
      "model_name": "ToggleButtonsStyleModel",
      "state": {
       "button_width": "",
       "description_width": "initial"
      }
     },
     "038b63bb9df94970bc4c438f3f2878cb": {
      "model_module": "@jupyter-widgets/base",
      "model_module_version": "1.2.0",
      "model_name": "LayoutModel",
      "state": {}
     },
     "0392f733cd7a4883b7b5ffa573e88e47": {
      "model_module": "@jupyter-widgets/base",
      "model_module_version": "1.2.0",
      "model_name": "LayoutModel",
      "state": {}
     },
     "03997461dd4d4967becec39f5f9bd2c5": {
      "model_module": "@jupyter-widgets/controls",
      "model_module_version": "1.5.0",
      "model_name": "ToggleButtonModel",
      "state": {
       "description": "Hide model",
       "layout": "IPY_MODEL_74327ec3ccad48c8935b5402b68c9cbc",
       "style": "IPY_MODEL_224c4cebaa6042be834ff94f46f52cf6",
       "value": true
      }
     },
     "04079e17e23f4f92a09c112cdaec0d9a": {
      "model_module": "@jupyter-widgets/controls",
      "model_module_version": "1.5.0",
      "model_name": "ButtonModel",
      "state": {
       "description": "Cancel",
       "layout": "IPY_MODEL_ab14e72c22f54074a19c54435b2699f1",
       "style": "IPY_MODEL_829195f296d64cb3bd1b09e137ea2901"
      }
     },
     "0479b807139b47f2859c0446bfce6865": {
      "model_module": "@jupyter-widgets/controls",
      "model_module_version": "1.5.0",
      "model_name": "DropdownModel",
      "state": {
       "_options_labels": [
        "",
        "--- Channels ---",
        "Cell_weights",
        "Initialmodel",
        "Iteration_1_model",
        "Iteration_2_model",
        "Iteration_3_model",
        "Iteration_4_model",
        "Iteration_5_model",
        "Iteration_6_model",
        "Iteration_7_model",
        "Z"
       ],
       "description": "Model",
       "index": 10,
       "layout": "IPY_MODEL_8c69bfbd1564400e9b0958234f4c2379",
       "style": "IPY_MODEL_7fa72fc7973749b6843c1cc75954f72d"
      }
     },
     "04a9fe15d6d24bbaa86fa351ec51bd63": {
      "model_module": "@jupyter-widgets/base",
      "model_module_version": "1.2.0",
      "model_name": "LayoutModel",
      "state": {}
     },
     "04f3044241524ae8b5e1ab281e707265": {
      "model_module": "@jupyter-widgets/base",
      "model_module_version": "1.2.0",
      "model_name": "LayoutModel",
      "state": {}
     },
     "04fa56b3429d400f978b80706db69b2e": {
      "model_module": "@jupyter-widgets/controls",
      "model_module_version": "1.5.0",
      "model_name": "DescriptionStyleModel",
      "state": {
       "description_width": "initial"
      }
     },
     "052be620aca94e67b0261f41208fbe25": {
      "model_module": "@jupyter-widgets/controls",
      "model_module_version": "1.5.0",
      "model_name": "ToggleButtonModel",
      "state": {
       "description": "Hide DOI",
       "layout": "IPY_MODEL_c76da6b4d54a4c8198a8076295aa3e22",
       "style": "IPY_MODEL_e9aaeaad614b4672ba9a8f93282ad901",
       "value": true
      }
     },
     "053b91ffb9a84063be438d08d11a0ca6": {
      "model_module": "@jupyter-widgets/controls",
      "model_module_version": "1.5.0",
      "model_name": "VBoxModel",
      "state": {
       "children": [
        "IPY_MODEL_63a449baba73412c8a509402e64557b7",
        "IPY_MODEL_d3e222675e4141709810678db0bf6cc1"
       ],
       "layout": "IPY_MODEL_6edab6e5101147c4ba0cb8dc171057a7"
      }
     },
     "053ce0c922684ee0b08e7ffd42c7929f": {
      "model_module": "@jupyter-widgets/base",
      "model_module_version": "1.2.0",
      "model_name": "LayoutModel",
      "state": {}
     },
     "0571e99bb55c4f5b89a2dc5b50ea784e": {
      "model_module": "@jupyter-widgets/base",
      "model_module_version": "1.2.0",
      "model_name": "LayoutModel",
      "state": {}
     },
     "05a7ed54b87b4eb297ce6faf98fe410a": {
      "model_module": "@jupyter-widgets/controls",
      "model_module_version": "1.5.0",
      "model_name": "VBoxModel",
      "state": {
       "children": [
        "IPY_MODEL_e99dfd9981744f3fa94d41e4a7ee71d2",
        "IPY_MODEL_ff1c9ba9b428492f95c95ba282c5ce8a"
       ],
       "layout": "IPY_MODEL_e2397efb100e44fd9ed18c5f4d2a195e"
      }
     },
     "05cfa6ef347841d7881c6f8d36c7fecc": {
      "model_module": "@jupyter-widgets/controls",
      "model_module_version": "1.5.0",
      "model_name": "SliderStyleModel",
      "state": {
       "description_width": ""
      }
     },
     "06311d28ebb64d13a3fdb8689223b2af": {
      "model_module": "@jupyter-widgets/controls",
      "model_module_version": "1.5.0",
      "model_name": "LabelModel",
      "state": {
       "layout": "IPY_MODEL_b8d4dbdd09ff4d55a3a389b5286db082",
       "style": "IPY_MODEL_4d255131bac34d459d8d992e0decf278",
       "value": "Monitoring folder"
      }
     },
     "064b1b44242f44da98319e33e7ff1d5b": {
      "model_module": "@jupyter-widgets/base",
      "model_module_version": "1.2.0",
      "model_name": "LayoutModel",
      "state": {}
     },
     "06ee2913cd87423c9baabe6b75697d5b": {
      "model_module": "@jupyter-widgets/base",
      "model_module_version": "1.2.0",
      "model_name": "LayoutModel",
      "state": {}
     },
     "07225461a5644acfa397d984c6dd7549": {
      "model_module": "@jupyter-widgets/base",
      "model_module_version": "1.2.0",
      "model_name": "LayoutModel",
      "state": {}
     },
     "0734f1970b164fa68ab675d8ccb24d35": {
      "model_module": "@jupyter-widgets/base",
      "model_module_version": "1.2.0",
      "model_name": "LayoutModel",
      "state": {}
     },
     "07fff7cb97c74f89b78361e1b820d541": {
      "model_module": "@jupyter-widgets/base",
      "model_module_version": "1.2.0",
      "model_name": "LayoutModel",
      "state": {}
     },
     "08044ca5e85342e387d1b341d427c90e": {
      "model_module": "@jupyter-widgets/controls",
      "model_module_version": "1.5.0",
      "model_name": "DescriptionStyleModel",
      "state": {
       "description_width": "initial"
      }
     },
     "0825236ca7d94014bcbf68fcbdc0dd18": {
      "model_module": "@jupyter-widgets/controls",
      "model_module_version": "1.5.0",
      "model_name": "DropdownModel",
      "state": {
       "_options_labels": [
        "Sf[9]",
        "Sf[10]",
        "Sf[11]",
        "Sf[12]",
        "Sf[13]",
        "Sf[14]",
        "Sf[15]",
        "Sf[16]",
        "Sf[17]",
        "Sf[18]",
        "Sf[19]",
        "Sf[20]",
        "Sf[21]",
        "Sf[22]",
        "Sf[23]",
        "Sf[24]",
        "Sf[25]",
        "Sf[26]",
        "Sf[27]",
        "Sf[28]",
        "Sf[29]",
        "Sf[30]",
        "Sf[31]",
        "Sf[32]",
        "Sf[33]",
        "Sf[34]",
        "Sf[35]"
       ],
       "description": "Channel",
       "index": 2,
       "layout": "IPY_MODEL_cbbd193457a24399af5c662fa1658302",
       "style": "IPY_MODEL_445edb9d0aa94707b180326c5d72aacc"
      }
     },
     "092c7c9f76c7434bad29d346a212b4a9": {
      "model_module": "@jupyter-widgets/base",
      "model_module_version": "1.2.0",
      "model_name": "LayoutModel",
      "state": {}
     },
     "0934f2224e96487b91dd184d572606a0": {
      "model_module": "@jupyter-widgets/controls",
      "model_module_version": "1.5.0",
      "model_name": "DescriptionStyleModel",
      "state": {
       "description_width": "initial"
      }
     },
     "0952df9657784d38b908a60a4b9dcac6": {
      "model_module": "@jupyter-widgets/controls",
      "model_module_version": "1.5.0",
      "model_name": "CheckboxModel",
      "state": {
       "description": "GA Pro - Live link",
       "disabled": false,
       "indent": false,
       "layout": "IPY_MODEL_aa3b8939b62544948e3b24baeb2d8b05",
       "style": "IPY_MODEL_19d83884c6a743aca886a68dce69be4b",
       "value": false
      }
     },
     "096f6cd6da9c4ddc940a21d5394b1944": {
      "model_module": "@jupyter-widgets/controls",
      "model_module_version": "1.5.0",
      "model_name": "VBoxModel",
      "state": {
       "children": [
        "IPY_MODEL_69e242fbc83440e0b1f9a50e41ba8d75",
        "IPY_MODEL_48d3cc302dd7482d9c68b34f56bfe0ab",
        "IPY_MODEL_b91402e37fda467aa7818c348b494f11"
       ],
       "layout": "IPY_MODEL_26954071cd3e4247896443992aab2685"
      }
     },
     "09952f8b68a345abadd5f0fb89566e78": {
      "model_module": "@jupyter-widgets/controls",
      "model_module_version": "1.5.0",
      "model_name": "VBoxModel",
      "state": {
       "children": [
        "IPY_MODEL_23592d5e852c49cdbfe0b9cb9cc76a03",
        "IPY_MODEL_9b14fe1ead2c45109dc45ab43203d6ed"
       ],
       "layout": "IPY_MODEL_b3d2cf3aef8b4e4c87aa86704f6b245d"
      }
     },
     "0a5e3d0d5dea4b65847a239190625ff4": {
      "model_module": "@jupyter-widgets/base",
      "model_module_version": "1.2.0",
      "model_name": "LayoutModel",
      "state": {}
     },
     "0a902edd2c804f72bbb917858409d2e2": {
      "model_module": "@jupyter-widgets/controls",
      "model_module_version": "1.5.0",
      "model_name": "DescriptionStyleModel",
      "state": {
       "description_width": ""
      }
     },
     "0ac039f3323a4d60891a50a60cda12da": {
      "model_module": "@jupyter-widgets/controls",
      "model_module_version": "1.5.0",
      "model_name": "VBoxModel",
      "state": {
       "children": [
        "IPY_MODEL_b377746de9d848b3bb845ebfc06d1091",
        "IPY_MODEL_9ad1e00f927e4c30b18918986ae5e1c1"
       ],
       "layout": "IPY_MODEL_5ba08ad4bfcd46d28ccaddd66cfc94f4"
      }
     },
     "0b4809653c264a04a10787084c1ac199": {
      "model_module": "@jupyter-widgets/controls",
      "model_module_version": "1.5.0",
      "model_name": "DescriptionStyleModel",
      "state": {
       "description_width": "initial"
      }
     },
     "0b58a4bd975d474498e0e5fff92b75c9": {
      "model_module": "@jupyter-widgets/controls",
      "model_module_version": "1.5.0",
      "model_name": "VBoxModel",
      "state": {
       "children": [
        "IPY_MODEL_0ac039f3323a4d60891a50a60cda12da",
        "IPY_MODEL_f40ee1875ab748c1b5f742d4289d3b26",
        "IPY_MODEL_b1d8370b4cb9475284a26968c3e0ef07",
        "IPY_MODEL_8fa31dacb6c7415ebf6383c4ef05ce0a",
        "IPY_MODEL_51e320a95137485083d6611501d89a71",
        "IPY_MODEL_743586ea822144e9a42836d3554015bc",
        "IPY_MODEL_3db1686ec4b747e087a456d1e9e06412"
       ],
       "layout": "IPY_MODEL_f92b76b50fe2456f8f8a173d209d8504"
      }
     },
     "0b685c82abb349dfb93c06129047457f": {
      "model_module": "@jupyter-widgets/controls",
      "model_module_version": "1.5.0",
      "model_name": "ButtonModel",
      "state": {
       "description": "Cancel",
       "layout": "IPY_MODEL_f2ac0f567b9142fca32fbd84c2360077",
       "style": "IPY_MODEL_3222891ad200443ca348a404fe2776f2"
      }
     },
     "0b865ea1c8404272aff0ead99c379611": {
      "model_module": "@jupyter-widgets/controls",
      "model_module_version": "1.5.0",
      "model_name": "DropdownModel",
      "state": {
       "_options_labels": [
        "Sf[9]",
        "Sf[10]",
        "Sf[11]",
        "Sf[12]",
        "Sf[13]",
        "Sf[14]",
        "Sf[15]",
        "Sf[16]",
        "Sf[17]",
        "Sf[18]",
        "Sf[19]",
        "Sf[20]",
        "Sf[21]",
        "Sf[22]",
        "Sf[23]",
        "Sf[24]",
        "Sf[25]",
        "Sf[26]",
        "Sf[27]",
        "Sf[28]",
        "Sf[29]",
        "Sf[30]",
        "Sf[31]",
        "Sf[32]",
        "Sf[33]",
        "Sf[34]",
        "Sf[35]"
       ],
       "description": "Channel",
       "index": 16,
       "layout": "IPY_MODEL_189145d24e9540f884c2521df77ea248",
       "style": "IPY_MODEL_a2b46557e9a341daba94844a3a57f7a7"
      }
     },
     "0baba9e190f3413dbc2ed19755a52046": {
      "model_module": "@jupyter-widgets/base",
      "model_module_version": "1.2.0",
      "model_name": "LayoutModel",
      "state": {}
     },
     "0bddb3c65fdd49f3a3a070682e925f59": {
      "model_module": "@jupyter-widgets/controls",
      "model_module_version": "1.5.0",
      "model_name": "ButtonStyleModel",
      "state": {}
     },
     "0be2067426084c66b3c60e1ae0879e8f": {
      "model_module": "@jupyter-widgets/output",
      "model_module_version": "1.0.0",
      "model_name": "OutputModel",
      "state": {
       "layout": "IPY_MODEL_8c77370c3b5142e7b98bd5ea44365bd1"
      }
     },
     "0c8522cb36d14d1cbec671d176d1f946": {
      "model_module": "@jupyter-widgets/controls",
      "model_module_version": "1.5.0",
      "model_name": "SliderStyleModel",
      "state": {
       "description_width": ""
      }
     },
     "0ce2b269e05b4b42a0536b45b9c775aa": {
      "model_module": "@jupyter-widgets/controls",
      "model_module_version": "1.5.0",
      "model_name": "VBoxModel",
      "state": {
       "children": [
        "IPY_MODEL_cac5c5f9e72b4296b6cbae4d1060e562",
        "IPY_MODEL_970d83eaa3104bbfa572cddcd3528caa"
       ],
       "layout": "IPY_MODEL_336b97b6706d4afab8c2cd3e04f92de5"
      }
     },
     "0cea2c48af874e828b998fff65ddcb0a": {
      "model_module": "@jupyter-widgets/base",
      "model_module_version": "1.2.0",
      "model_name": "LayoutModel",
      "state": {}
     },
     "0d19177480e540eebd25a76f9d8e8dfd": {
      "model_module": "@jupyter-widgets/base",
      "model_module_version": "1.2.0",
      "model_name": "LayoutModel",
      "state": {}
     },
     "0d4b235f39ba4440873d1945560ec762": {
      "model_module": "@jupyter-widgets/controls",
      "model_module_version": "1.5.0",
      "model_name": "VBoxModel",
      "state": {
       "children": [
        "IPY_MODEL_6cfc9ab9b3a147868fa9923280bab7dd",
        "IPY_MODEL_bce33d8c72e04b96b6a48fb665b55a32"
       ],
       "layout": "IPY_MODEL_7629385c87904ffabfc093d897c8bcc4"
      }
     },
     "0d5144aabcd947c48e75b8a57981ddee": {
      "model_module": "@jupyter-widgets/controls",
      "model_module_version": "1.5.0",
      "model_name": "LabelModel",
      "state": {
       "layout": "IPY_MODEL_e73e4c885cde4ce2883a3c4b1aa762b1",
       "style": "IPY_MODEL_f7159b55b6a44fc3984ffc939678bf61",
       "value": "Workspace"
      }
     },
     "0d9924c8fee64b70ba2790373979a3bc": {
      "model_module": "@jupyter-widgets/controls",
      "model_module_version": "1.5.0",
      "model_name": "DescriptionStyleModel",
      "state": {
       "description_width": "initial"
      }
     },
     "0e21efe6d4e741e8b31ce1b61e637a66": {
      "model_module": "@jupyter-widgets/controls",
      "model_module_version": "1.5.0",
      "model_name": "ButtonModel",
      "state": {
       "description": "Select",
       "layout": "IPY_MODEL_25022a9a2f2c447bb8dac537bfd3fcb1",
       "style": "IPY_MODEL_6d01872d619e4094ab6ae93c75710ff5"
      }
     },
     "0e3d65acb98b43c8855795d763e1315f": {
      "model_module": "@jupyter-widgets/base",
      "model_module_version": "1.2.0",
      "model_name": "LayoutModel",
      "state": {}
     },
     "0e78ea663b354ffdbc748bba6d0f8cf1": {
      "model_module": "@jupyter-widgets/base",
      "model_module_version": "1.2.0",
      "model_name": "LayoutModel",
      "state": {}
     },
     "0ea4ec5e0bbd4cb19b6799840938ed1b": {
      "model_module": "@jupyter-widgets/controls",
      "model_module_version": "1.5.0",
      "model_name": "DescriptionStyleModel",
      "state": {
       "description_width": "initial"
      }
     },
     "0ec4ff8296d44557907cbd1490d47694": {
      "model_module": "@jupyter-widgets/controls",
      "model_module_version": "1.5.0",
      "model_name": "DescriptionStyleModel",
      "state": {
       "description_width": "initial"
      }
     },
     "0ed994d0a2e54adbba086300f366dbeb": {
      "model_module": "@jupyter-widgets/base",
      "model_module_version": "1.2.0",
      "model_name": "LayoutModel",
      "state": {}
     },
     "0f109a7b115e49edb4a1033ac09c1da2": {
      "model_module": "@jupyter-widgets/controls",
      "model_module_version": "1.5.0",
      "model_name": "GridBoxModel",
      "state": {
       "children": [
        "IPY_MODEL_c56882086de34538bd3b6c2ab1e8fe55",
        "IPY_MODEL_1ef3bc6239254b98bff28fc9fab8d9c1",
        "IPY_MODEL_66787b6eaf594154a4af6840bef4f225"
       ],
       "layout": "IPY_MODEL_9c94cecf94e246d69ec62815967db544"
      }
     },
     "0f4dbec7ec264d11aa6de2431a7737d2": {
      "model_module": "@jupyter-widgets/base",
      "model_module_version": "1.2.0",
      "model_name": "LayoutModel",
      "state": {}
     },
     "0fdec0d3f0044beda006ea3ebe95fe52": {
      "model_module": "@jupyter-widgets/controls",
      "model_module_version": "1.5.0",
      "model_name": "ToggleButtonsStyleModel",
      "state": {
       "button_width": "",
       "description_width": ""
      }
     },
     "1050d057c04a44ad81dbcf37903daf90": {
      "model_module": "@jupyter-widgets/controls",
      "model_module_version": "1.5.0",
      "model_name": "SelectModel",
      "state": {
       "_options_labels": [
        "..",
        "dask-worker-space",
        "images"
       ],
       "index": null,
       "layout": "IPY_MODEL_263bdcf08f2547a3bf6100e8af9124e6",
       "rows": 8,
       "style": "IPY_MODEL_1c886e6b9a6049678cfc7f0c2fe53629"
      }
     },
     "1071ca7df57146aa83ba049cf34ed66b": {
      "model_module": "@jupyter-widgets/controls",
      "model_module_version": "1.5.0",
      "model_name": "HBoxModel",
      "state": {
       "children": [
        "IPY_MODEL_ddeceb7a3a714962bae9553424d84428",
        "IPY_MODEL_32fae80e9fe642d28b7d66fd1a32cbd1",
        "IPY_MODEL_8e5f95ee243a4462aebffdd5cef2d77c"
       ],
       "layout": "IPY_MODEL_867b4b7ff8454ad8a4d7165b841ff32a"
      }
     },
     "10a189e5806d45c88047157712c5984c": {
      "model_module": "@jupyter-widgets/controls",
      "model_module_version": "1.5.0",
      "model_name": "TextModel",
      "state": {
       "continuous_update": false,
       "description": "Group:",
       "layout": "IPY_MODEL_ec91ad42e7a84465974e67a2ec443828",
       "style": "IPY_MODEL_67f2d7e4332c4479913a417e1f0101e4"
      }
     },
     "10a5622332124ee58f1e0bf31feb011a": {
      "model_module": "@jupyter-widgets/controls",
      "model_module_version": "1.5.0",
      "model_name": "DescriptionStyleModel",
      "state": {
       "description_width": ""
      }
     },
     "10aaee3c1a2c45fea2f34c645f3f7319": {
      "model_module": "@jupyter-widgets/base",
      "model_module_version": "1.2.0",
      "model_name": "LayoutModel",
      "state": {
       "display": "none",
       "width": "auto"
      }
     },
     "10bb37c982c44bedbab57ae271092e9b": {
      "model_module": "@jupyter-widgets/controls",
      "model_module_version": "1.5.0",
      "model_name": "FloatSliderModel",
      "state": {
       "continuous_update": false,
       "description": "Slice width (m)",
       "layout": "IPY_MODEL_b1610efcc2a94aa5b0e67408c366d3ee",
       "max": 500,
       "min": 1,
       "style": "IPY_MODEL_91bf800b8ceb458d92899702e1d250c5",
       "value": 25
      }
     },
     "1137063885af486bb091bbbf0a88e6d1": {
      "model_module": "@jupyter-widgets/controls",
      "model_module_version": "1.5.0",
      "model_name": "DescriptionStyleModel",
      "state": {
       "description_width": ""
      }
     },
     "1141c87e8c1d4c009ce5782345c2c9ca": {
      "model_module": "@jupyter-widgets/controls",
      "model_module_version": "1.5.0",
      "model_name": "HTMLModel",
      "state": {
       "layout": "IPY_MODEL_27c0ff106517445abcbc1b65b8a5c7d5",
       "style": "IPY_MODEL_ff1619cba17043a7bed8f6a1c3f2a1aa"
      }
     },
     "11816a93808e48949c90b62cafc79f90": {
      "model_module": "@jupyter-widgets/output",
      "model_module_version": "1.0.0",
      "model_name": "OutputModel",
      "state": {
       "layout": "IPY_MODEL_da28f94315d44fe08d1d20c40526d4ad",
       "outputs": [
        {
         "data": {
          "image/png": "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\n",
          "text/plain": "<Figure size 576x576 with 1 Axes>"
         },
         "metadata": {
          "needs_background": "light"
         },
         "output_type": "display_data"
        }
       ]
      }
     },
     "11ff910de3754e5595faa4377d76ebb8": {
      "model_module": "@jupyter-widgets/base",
      "model_module_version": "1.2.0",
      "model_name": "LayoutModel",
      "state": {
       "display": "none"
      }
     },
     "12de2a575af34deb86eb940f5c11b9bc": {
      "model_module": "@jupyter-widgets/controls",
      "model_module_version": "1.5.0",
      "model_name": "ButtonModel",
      "state": {
       "description": "Select",
       "layout": "IPY_MODEL_d8fa353a81274403bbe2174efa13c25e",
       "style": "IPY_MODEL_c9cfcc1396d3461a8564c97361e1a247"
      }
     },
     "1311f9bde5aa4ce4bb242c02b5ba8293": {
      "model_module": "@jupyter-widgets/controls",
      "model_module_version": "1.5.0",
      "model_name": "ButtonModel",
      "state": {
       "description": "Select",
       "layout": "IPY_MODEL_c542aa92ec6a4aa78e037ed75550122b",
       "style": "IPY_MODEL_997e723dd55144ab9b85e6a61f4b57e2"
      }
     },
     "1330be93906c49f993d0b989c15d8288": {
      "model_module": "@jupyter-widgets/controls",
      "model_module_version": "1.5.0",
      "model_name": "VBoxModel",
      "state": {
       "children": [
        "IPY_MODEL_170e29929e7b4925b4627889c1706b29",
        "IPY_MODEL_7162899acd1a48d5a481f4fe8219a2af"
       ],
       "layout": "IPY_MODEL_038b63bb9df94970bc4c438f3f2878cb"
      }
     },
     "13ec5a280fa44277983ce5d70685a232": {
      "model_module": "@jupyter-widgets/base",
      "model_module_version": "1.2.0",
      "model_name": "LayoutModel",
      "state": {}
     },
     "148f7c775a9b456194fe45d2292bf591": {
      "model_module": "@jupyter-widgets/base",
      "model_module_version": "1.2.0",
      "model_name": "LayoutModel",
      "state": {}
     },
     "14d95228b44640c69ddad07db41bd31c": {
      "model_module": "@jupyter-widgets/controls",
      "model_module_version": "1.5.0",
      "model_name": "SelectModel",
      "state": {
       "_options_labels": [
        "..",
        "dask-worker-space",
        "images",
        "base_application.ipynb",
        "calculator.ipynb",
        "clustering.ipynb",
        "contouring.ipynb",
        "coordinate_transformation.ipynb",
        "create_surface.ipynb",
        "data_interpolation.ipynb",
        "edge_detection.ipynb",
        "export.ipynb",
        "geophysical_inversion.ipynb",
        "object_data_selection.ipynb",
        "peak_finder.ipynb",
        "scatter.ipynb",
        "view_selection.ipynb"
       ],
       "index": null,
       "layout": "IPY_MODEL_6eda064802b2450694d8e5c698450a93",
       "rows": 8,
       "style": "IPY_MODEL_7bb2de5a6dc54b77967d7f4d84e06fa5"
      }
     },
     "1519c652bd6242ebb00a32727b81aa9e": {
      "model_module": "@jupyter-widgets/base",
      "model_module_version": "1.2.0",
      "model_name": "LayoutModel",
      "state": {}
     },
     "15e985f9b68143a3a5c72567bf2ef485": {
      "model_module": "@jupyter-widgets/base",
      "model_module_version": "1.2.0",
      "model_name": "LayoutModel",
      "state": {
       "display": "none",
       "width": "auto"
      }
     },
     "15f13db88d6e4f8f8d75839266eabb34": {
      "model_module": "@jupyter-widgets/base",
      "model_module_version": "1.2.0",
      "model_name": "LayoutModel",
      "state": {}
     },
     "16683667091d42d39fe47fb43897fe0c": {
      "model_module": "@jupyter-widgets/base",
      "model_module_version": "1.2.0",
      "model_name": "LayoutModel",
      "state": {}
     },
     "170e29929e7b4925b4627889c1706b29": {
      "model_module": "@jupyter-widgets/controls",
      "model_module_version": "1.5.0",
      "model_name": "LabelModel",
      "state": {
       "layout": "IPY_MODEL_d288172f4db243adacfc9d4626984277",
       "style": "IPY_MODEL_211524cb5968453c9768a252d9d8c1b8",
       "value": "Monitoring folder"
      }
     },
     "171bf5d12a5f4ec7acb4c5fc41f04be5": {
      "model_module": "@jupyter-widgets/controls",
      "model_module_version": "1.5.0",
      "model_name": "HTMLModel",
      "state": {
       "layout": "IPY_MODEL_c7d030478d1c441d941519428f836891",
       "placeholder": "",
       "style": "IPY_MODEL_8afa62eb5b204c3b9ae4f44971f0e352",
       "value": "<span style=\"margin-left:10px; color:black;\">No file selected</span>"
      }
     },
     "17361e87ff154420a62c524613710404": {
      "model_module": "@jupyter-widgets/controls",
      "model_module_version": "1.5.0",
      "model_name": "ToggleButtonModel",
      "state": {
       "description": "Hide Scatter",
       "layout": "IPY_MODEL_288194e27e69439a806eebfa8fb46725",
       "style": "IPY_MODEL_01d96a0d7ca5478ea898d66f9c1b4048",
       "value": true
      }
     },
     "17ef4d175f40483cab34fe8b77df0dee": {
      "model_module": "@jupyter-widgets/controls",
      "model_module_version": "1.5.0",
      "model_name": "DescriptionStyleModel",
      "state": {
       "description_width": ""
      }
     },
     "189145d24e9540f884c2521df77ea248": {
      "model_module": "@jupyter-widgets/base",
      "model_module_version": "1.2.0",
      "model_name": "LayoutModel",
      "state": {}
     },
     "18970aced46c48f3b170638c659165db": {
      "model_module": "@jupyter-widgets/controls",
      "model_module_version": "1.5.0",
      "model_name": "DescriptionStyleModel",
      "state": {
       "description_width": ""
      }
     },
     "18a95b9438dc440787c74a3ffe00c0b2": {
      "model_module": "@jupyter-widgets/controls",
      "model_module_version": "1.5.0",
      "model_name": "DescriptionStyleModel",
      "state": {
       "description_width": ""
      }
     },
     "18bc2ff3d9bc4a31a36db90c7a04f24d": {
      "model_module": "@jupyter-widgets/base",
      "model_module_version": "1.2.0",
      "model_name": "LayoutModel",
      "state": {}
     },
     "18e86a88c1794e378535461d44110772": {
      "model_module": "@jupyter-widgets/base",
      "model_module_version": "1.2.0",
      "model_name": "LayoutModel",
      "state": {}
     },
     "190f006113004ecab0d79ea62074b800": {
      "model_module": "@jupyter-widgets/base",
      "model_module_version": "1.2.0",
      "model_name": "LayoutModel",
      "state": {}
     },
     "1940d339473845b2a9a2ac826e7d9f91": {
      "model_module": "@jupyter-widgets/controls",
      "model_module_version": "1.5.0",
      "model_name": "DescriptionStyleModel",
      "state": {
       "description_width": "initial"
      }
     },
     "194890bffe2c40cbb5378664d75e7435": {
      "model_module": "@jupyter-widgets/base",
      "model_module_version": "1.2.0",
      "model_name": "LayoutModel",
      "state": {}
     },
     "19d31d76aa2d47db8713972413e1ddce": {
      "model_module": "@jupyter-widgets/controls",
      "model_module_version": "1.5.0",
      "model_name": "SelectModel",
      "state": {
       "_options_labels": [
        "..",
        "dask-worker-space",
        "images"
       ],
       "index": null,
       "layout": "IPY_MODEL_32a41601add943b3b246595b49196a0b",
       "rows": 8,
       "style": "IPY_MODEL_10a5622332124ee58f1e0bf31feb011a"
      }
     },
     "19d6806dc4e541fdb08cf38cc0323b1c": {
      "model_module": "@jupyter-widgets/controls",
      "model_module_version": "1.5.0",
      "model_name": "DescriptionStyleModel",
      "state": {
       "description_width": "initial"
      }
     },
     "19d83884c6a743aca886a68dce69be4b": {
      "model_module": "@jupyter-widgets/controls",
      "model_module_version": "1.5.0",
      "model_name": "DescriptionStyleModel",
      "state": {
       "description_width": "initial"
      }
     },
     "19ee4f59c4f640d6862c87774079efbc": {
      "model_module": "@jupyter-widgets/base",
      "model_module_version": "1.2.0",
      "model_name": "LayoutModel",
      "state": {
       "grid_area": "pathlist",
       "width": "auto"
      }
     },
     "1a28303404084d4a8fb170408f9ead1c": {
      "model_module": "@jupyter-widgets/controls",
      "model_module_version": "1.5.0",
      "model_name": "DescriptionStyleModel",
      "state": {
       "description_width": ""
      }
     },
     "1b69b691f9d24accbd64e3af2153fbff": {
      "model_module": "@jupyter-widgets/base",
      "model_module_version": "1.2.0",
      "model_name": "LayoutModel",
      "state": {}
     },
     "1bb76cfbe0c1450cbb340061f1d35ae6": {
      "model_module": "@jupyter-widgets/base",
      "model_module_version": "1.2.0",
      "model_name": "LayoutModel",
      "state": {}
     },
     "1bba360b01734914b738253ee86ca813": {
      "model_module": "@jupyter-widgets/base",
      "model_module_version": "1.2.0",
      "model_name": "LayoutModel",
      "state": {
       "grid_area": "filename",
       "width": "auto"
      }
     },
     "1be66981ad864973b92f51fb084c007e": {
      "model_module": "@jupyter-widgets/controls",
      "model_module_version": "1.5.0",
      "model_name": "FloatTextModel",
      "state": {
       "description": "Time (s)",
       "layout": "IPY_MODEL_e906549ad38444ea9a91ae4a134b8145",
       "step": null,
       "style": "IPY_MODEL_39619b8630ad494a8ba9251d1cb58456",
       "value": 0.002307
      }
     },
     "1c076d395b4b4616ac46d28fc8bac36b": {
      "model_module": "@jupyter-widgets/controls",
      "model_module_version": "1.5.0",
      "model_name": "DescriptionStyleModel",
      "state": {
       "description_width": ""
      }
     },
     "1c4d6298c30e460993599fe25cbf4a01": {
      "model_module": "@jupyter-widgets/controls",
      "model_module_version": "1.5.0",
      "model_name": "DescriptionStyleModel",
      "state": {
       "description_width": ""
      }
     },
     "1c68dd5ffc9543509253918c6f1c339b": {
      "model_module": "@jupyter-widgets/controls",
      "model_module_version": "1.5.0",
      "model_name": "DescriptionStyleModel",
      "state": {
       "description_width": ""
      }
     },
     "1c87a5286ae7475b885cda66f68fb12f": {
      "model_module": "@jupyter-widgets/base",
      "model_module_version": "1.2.0",
      "model_name": "LayoutModel",
      "state": {}
     },
     "1c886e6b9a6049678cfc7f0c2fe53629": {
      "model_module": "@jupyter-widgets/controls",
      "model_module_version": "1.5.0",
      "model_name": "DescriptionStyleModel",
      "state": {
       "description_width": ""
      }
     },
     "1d25b92bd4294925bb55d2b5e6651024": {
      "model_module": "@jupyter-widgets/controls",
      "model_module_version": "1.5.0",
      "model_name": "VBoxModel",
      "state": {
       "children": [
        "IPY_MODEL_09952f8b68a345abadd5f0fb89566e78",
        "IPY_MODEL_8b15d84596aa4151b2a8a217dad5a99d"
       ],
       "layout": "IPY_MODEL_2a70c298f5224d34b1fc05377ed52827"
      }
     },
     "1d4bcdf1698e438fb22086a52690098a": {
      "model_module": "@jupyter-widgets/controls",
      "model_module_version": "1.5.0",
      "model_name": "LabelModel",
      "state": {
       "layout": "IPY_MODEL_2c5ae0f8a740426e84d4a0b2dda3fe5d",
       "style": "IPY_MODEL_1c68dd5ffc9543509253918c6f1c339b",
       "value": "Visual Parameters"
      }
     },
     "1d4fd0a47fc84d24b729c76db0af5a6b": {
      "model_module": "@jupyter-widgets/base",
      "model_module_version": "1.2.0",
      "model_name": "LayoutModel",
      "state": {}
     },
     "1d867cd92fee41de9aa1451ed2182dfe": {
      "model_module": "@jupyter-widgets/controls",
      "model_module_version": "1.5.0",
      "model_name": "VBoxModel",
      "state": {
       "children": [
        "IPY_MODEL_3b1cc291e7e24823af0874071793adc2",
        "IPY_MODEL_791dce1848b548e6a70afadcd8581e50",
        "IPY_MODEL_5245b8624fd14b98b02f70001c393c35"
       ],
       "layout": "IPY_MODEL_776bf2b0fe27496993c0979b66e90287"
      }
     },
     "1dc3f161da104f55ba46bbb678dd3265": {
      "model_module": "@jupyter-widgets/controls",
      "model_module_version": "1.5.0",
      "model_name": "VBoxModel",
      "state": {
       "children": [
        "IPY_MODEL_f18ba1b9d3114d3d8cadd7710761044c",
        "IPY_MODEL_47c42a0e8d3545918fab6ca36b88bd87"
       ],
       "layout": "IPY_MODEL_f28d127ca9f04c679dcb888df88d3db3"
      }
     },
     "1dc6832470c94cefaee09961ec953704": {
      "model_module": "@jupyter-widgets/controls",
      "model_module_version": "1.5.0",
      "model_name": "VBoxModel",
      "state": {
       "children": [
        "IPY_MODEL_b1e1a27cc20c47b4b6d5cb639aba17dc",
        "IPY_MODEL_77981706a3ec418984391205d7dfdc63",
        "IPY_MODEL_70078c564b5a4f71974ce955613de4c4"
       ],
       "layout": "IPY_MODEL_2283f8965d57437394d0fddb55eaa658"
      }
     },
     "1dd3f4355ff94ace93530d0fc954ca94": {
      "model_module": "@jupyter-widgets/base",
      "model_module_version": "1.2.0",
      "model_name": "LayoutModel",
      "state": {
       "display": "none",
       "grid_gap": "0px 0px",
       "grid_template_areas": "\n                    'pathlist filename'\n                    'dircontent dircontent'\n                    ",
       "grid_template_columns": "60% 40%",
       "grid_template_rows": "auto auto",
       "width": "500px"
      }
     },
     "1de4151af8bd41429343548316442828": {
      "model_module": "@jupyter-widgets/controls",
      "model_module_version": "1.5.0",
      "model_name": "HTMLModel",
      "state": {
       "layout": "IPY_MODEL_605f33f542a044d8b8b7bd5671e410ca",
       "placeholder": "",
       "style": "IPY_MODEL_ce1b4c1fc2a2463d97f623f7840608c5",
       "value": "<span style=\"margin-left:10px; color:black;\">No file selected</span>"
      }
     },
     "1e6350246f004b288d45b6069a64f6a9": {
      "model_module": "@jupyter-widgets/controls",
      "model_module_version": "1.5.0",
      "model_name": "DescriptionStyleModel",
      "state": {
       "description_width": ""
      }
     },
     "1ec2ec6b6ab14ef492efb00cfaa2a680": {
      "model_module": "@jupyter-widgets/base",
      "model_module_version": "1.2.0",
      "model_name": "LayoutModel",
      "state": {}
     },
     "1ef3bc6239254b98bff28fc9fab8d9c1": {
      "model_module": "@jupyter-widgets/controls",
      "model_module_version": "1.5.0",
      "model_name": "TextModel",
      "state": {
       "disabled": true,
       "layout": "IPY_MODEL_f26e4ff1fa5e49de88c01997420a9922",
       "placeholder": "output filename",
       "style": "IPY_MODEL_48eb698f600f4d18a79ecdec870ae37b"
      }
     },
     "20209302623242c4be05e490bab3d73b": {
      "model_module": "@jupyter-widgets/base",
      "model_module_version": "1.2.0",
      "model_name": "LayoutModel",
      "state": {
       "display": "none",
       "grid_gap": "0px 0px",
       "grid_template_areas": "\n                    'pathlist filename'\n                    'dircontent dircontent'\n                    ",
       "grid_template_columns": "60% 40%",
       "grid_template_rows": "auto auto",
       "width": "500px"
      }
     },
     "211524cb5968453c9768a252d9d8c1b8": {
      "model_module": "@jupyter-widgets/controls",
      "model_module_version": "1.5.0",
      "model_name": "DescriptionStyleModel",
      "state": {
       "description_width": "initial"
      }
     },
     "21af936da4db417e93a4a10aae839751": {
      "model_module": "@jupyter-widgets/base",
      "model_module_version": "1.2.0",
      "model_name": "LayoutModel",
      "state": {
       "display": "none"
      }
     },
     "21c0a090130549bfa6be440c405bac4c": {
      "model_module": "@jupyter-widgets/controls",
      "model_module_version": "1.5.0",
      "model_name": "ButtonStyleModel",
      "state": {}
     },
     "2204f0b5056942a6a213709c445b973a": {
      "model_module": "@jupyter-widgets/base",
      "model_module_version": "1.2.0",
      "model_name": "LayoutModel",
      "state": {}
     },
     "224c4cebaa6042be834ff94f46f52cf6": {
      "model_module": "@jupyter-widgets/controls",
      "model_module_version": "1.5.0",
      "model_name": "DescriptionStyleModel",
      "state": {
       "description_width": ""
      }
     },
     "22510453a17d4f7a9d3b95b0fb9cce0a": {
      "model_module": "@jupyter-widgets/base",
      "model_module_version": "1.2.0",
      "model_name": "LayoutModel",
      "state": {}
     },
     "225b4e56d09a491697bfe4790b833f69": {
      "model_module": "@jupyter-widgets/controls",
      "model_module_version": "1.5.0",
      "model_name": "ButtonStyleModel",
      "state": {}
     },
     "226a877a1135431bb580b308fce9eb0b": {
      "model_module": "@jupyter-widgets/controls",
      "model_module_version": "1.5.0",
      "model_name": "VBoxModel",
      "state": {
       "children": [
        "IPY_MODEL_9bc76d5e814645e1bb00cd8a8d539143",
        "IPY_MODEL_53c72c26c2fa43a9ba2674551dbc224c"
       ],
       "layout": "IPY_MODEL_2204f0b5056942a6a213709c445b973a"
      }
     },
     "2283f8965d57437394d0fddb55eaa658": {
      "model_module": "@jupyter-widgets/base",
      "model_module_version": "1.2.0",
      "model_name": "LayoutModel",
      "state": {
       "width": "auto"
      }
     },
     "22d80d48ea3f4250956e0664b316c220": {
      "model_module": "@jupyter-widgets/controls",
      "model_module_version": "1.5.0",
      "model_name": "DescriptionStyleModel",
      "state": {
       "description_width": ""
      }
     },
     "22e3f9a7bd334e6b9e4ed3eeee1da955": {
      "model_module": "@jupyter-widgets/controls",
      "model_module_version": "1.5.0",
      "model_name": "SliderStyleModel",
      "state": {
       "description_width": ""
      }
     },
     "231619ffdfb84396ba6d1b46ac809bc6": {
      "model_module": "@jupyter-widgets/controls",
      "model_module_version": "1.5.0",
      "model_name": "VBoxModel",
      "state": {
       "children": [
        "IPY_MODEL_6b1810c017b641d9aeca9abf7499e721",
        "IPY_MODEL_28a94b36418149abb23ac7471f19ef55",
        "IPY_MODEL_f619efc9335745738a7a6fe473be1fd8"
       ],
       "layout": "IPY_MODEL_ec59ad99dc4746408352afa28131a0ce"
      }
     },
     "2329c4aecba44140b2dfd98bd60dff75": {
      "model_module": "@jupyter-widgets/controls",
      "model_module_version": "1.5.0",
      "model_name": "DescriptionStyleModel",
      "state": {
       "description_width": ""
      }
     },
     "234989bdc5d24437b041a526e3c4b064": {
      "model_module": "@jupyter-widgets/controls",
      "model_module_version": "1.5.0",
      "model_name": "FloatLogSliderModel",
      "state": {
       "continuous_update": false,
       "description": "Linear threshold",
       "layout": "IPY_MODEL_492d3b095c06470983ca20118901156e",
       "max": 10,
       "min": -18,
       "step": 0.5,
       "style": "IPY_MODEL_73581234b4124df2bda352bcb9aa43fb",
       "value": 0.01
      }
     },
     "235579d8c25641fb823ad24fd848a585": {
      "model_module": "@jupyter-widgets/base",
      "model_module_version": "1.2.0",
      "model_name": "LayoutModel",
      "state": {}
     },
     "23592d5e852c49cdbfe0b9cb9cc76a03": {
      "model_module": "@jupyter-widgets/controls",
      "model_module_version": "1.5.0",
      "model_name": "ButtonModel",
      "state": {
       "button_style": "danger",
       "description": "Compute",
       "icon": "check",
       "layout": "IPY_MODEL_f9f9770c5efa4502a7e1a3d7117acdbb",
       "style": "IPY_MODEL_21c0a090130549bfa6be440c405bac4c",
       "tooltip": "Run computation"
      }
     },
     "23be15c5281641df8e524ebf71f2ceee": {
      "model_module": "@jupyter-widgets/base",
      "model_module_version": "1.2.0",
      "model_name": "LayoutModel",
      "state": {}
     },
     "2412386a38a04ad5a018c83431efff9e": {
      "model_module": "@jupyter-widgets/controls",
      "model_module_version": "1.5.0",
      "model_name": "SliderStyleModel",
      "state": {
       "description_width": "initial"
      }
     },
     "241b05b641e046398002e74419f00d26": {
      "model_module": "@jupyter-widgets/controls",
      "model_module_version": "1.5.0",
      "model_name": "DescriptionStyleModel",
      "state": {
       "description_width": ""
      }
     },
     "242bfa142c4f46a3b52e0514ed39b251": {
      "model_module": "@jupyter-widgets/controls",
      "model_module_version": "1.5.0",
      "model_name": "VBoxModel",
      "state": {
       "children": [
        "IPY_MODEL_8ab53530ace24bd1bf8f4c06361807b0"
       ],
       "layout": "IPY_MODEL_a3c593b22562428293aa68bb098daf25"
      }
     },
     "2451e663db4d4665a18a1c13cfdf8c4e": {
      "model_module": "@jupyter-widgets/base",
      "model_module_version": "1.2.0",
      "model_name": "LayoutModel",
      "state": {}
     },
     "24bc1eea5660434e875f86b24d57b459": {
      "model_module": "@jupyter-widgets/controls",
      "model_module_version": "1.5.0",
      "model_name": "HTMLModel",
      "state": {
       "layout": "IPY_MODEL_11ff910de3754e5595faa4377d76ebb8",
       "style": "IPY_MODEL_36e4079fc8e247209445ae859dad8a32"
      }
     },
     "24fc1e9381f74451b4430666e9f1acc5": {
      "model_module": "@jupyter-widgets/controls",
      "model_module_version": "1.5.0",
      "model_name": "ButtonStyleModel",
      "state": {}
     },
     "25022a9a2f2c447bb8dac537bfd3fcb1": {
      "model_module": "@jupyter-widgets/base",
      "model_module_version": "1.2.0",
      "model_name": "LayoutModel",
      "state": {
       "width": "auto"
      }
     },
     "2530d38891aa42a5b99b72999a3ee309": {
      "model_module": "@jupyter-widgets/base",
      "model_module_version": "1.2.0",
      "model_name": "LayoutModel",
      "state": {}
     },
     "257da80284544ba4aa064621b6a7e7de": {
      "model_module": "@jupyter-widgets/controls",
      "model_module_version": "1.5.0",
      "model_name": "VBoxModel",
      "state": {
       "children": [
        "IPY_MODEL_5e6947d6c266407b979cc801aeabaefc",
        "IPY_MODEL_749d9dde597a4aa286ebdb9d459510f5",
        "IPY_MODEL_acebbbe59a9844ee8c17631ab8d519dd",
        "IPY_MODEL_a761f668eaac41369569162e959890b6",
        "IPY_MODEL_697c6b4f1ed04a058f785fb8c6dd8af0",
        "IPY_MODEL_394f48a6c8ac4197b970d321ddda5dd0",
        "IPY_MODEL_3b0e3e5f3267453fbedd6c3f2d1daebe"
       ],
       "layout": "IPY_MODEL_ecd507f04ecb47808eac30434e7e9c28"
      }
     },
     "260e620085df46bf82d5f7a9bc4b1e30": {
      "model_module": "@jupyter-widgets/base",
      "model_module_version": "1.2.0",
      "model_name": "LayoutModel",
      "state": {
       "grid_area": "pathlist",
       "width": "auto"
      }
     },
     "261ea5494df24a3a9c40d876570258ed": {
      "model_module": "@jupyter-widgets/base",
      "model_module_version": "1.2.0",
      "model_name": "LayoutModel",
      "state": {}
     },
     "263bdcf08f2547a3bf6100e8af9124e6": {
      "model_module": "@jupyter-widgets/base",
      "model_module_version": "1.2.0",
      "model_name": "LayoutModel",
      "state": {
       "grid_area": "dircontent",
       "width": "auto"
      }
     },
     "26954071cd3e4247896443992aab2685": {
      "model_module": "@jupyter-widgets/base",
      "model_module_version": "1.2.0",
      "model_name": "LayoutModel",
      "state": {
       "width": "auto"
      }
     },
     "27025ad04b2244a6adab996048ef9e74": {
      "model_module": "@jupyter-widgets/controls",
      "model_module_version": "1.5.0",
      "model_name": "FloatTextModel",
      "state": {
       "description": "Time (s)",
       "layout": "IPY_MODEL_c24faabdfd40449c9ad30232900997c8",
       "step": null,
       "style": "IPY_MODEL_6114535a56f845f5a9750fd3378951d3",
       "value": 0.001151
      }
     },
     "272990cee6f64ef7a3303a47a2656726": {
      "model_module": "@jupyter-widgets/base",
      "model_module_version": "1.2.0",
      "model_name": "LayoutModel",
      "state": {
       "display": "none",
       "grid_area": "filename",
       "width": "auto"
      }
     },
     "277265090cb1483483af2c5b6e80aa20": {
      "model_module": "@jupyter-widgets/base",
      "model_module_version": "1.2.0",
      "model_name": "LayoutModel",
      "state": {}
     },
     "27a0d59d80aa43539a2e9e02ad9d5ca0": {
      "model_module": "@jupyter-widgets/base",
      "model_module_version": "1.2.0",
      "model_name": "LayoutModel",
      "state": {}
     },
     "27c0ff106517445abcbc1b65b8a5c7d5": {
      "model_module": "@jupyter-widgets/base",
      "model_module_version": "1.2.0",
      "model_name": "LayoutModel",
      "state": {
       "display": "none"
      }
     },
     "286c8f03448e4b078019fb545827981a": {
      "model_module": "@jupyter-widgets/controls",
      "model_module_version": "1.5.0",
      "model_name": "HBoxModel",
      "state": {
       "children": [
        "IPY_MODEL_aa171ff229c949a38d4abb1e61449793",
        "IPY_MODEL_9d3badb51c084427bb3ea59625792200"
       ],
       "layout": "IPY_MODEL_9b3e895618ff4dcfb9905ef6d06635c1"
      }
     },
     "288194e27e69439a806eebfa8fb46725": {
      "model_module": "@jupyter-widgets/base",
      "model_module_version": "1.2.0",
      "model_name": "LayoutModel",
      "state": {}
     },
     "28a94b36418149abb23ac7471f19ef55": {
      "model_module": "@jupyter-widgets/controls",
      "model_module_version": "1.5.0",
      "model_name": "GridBoxModel",
      "state": {
       "children": [
        "IPY_MODEL_90ea3c65321a4f9d92acc723538bf3a2",
        "IPY_MODEL_a6423ab2794d4e8496b335796f035e84",
        "IPY_MODEL_f96a123f46c242bdb64fa5264415307d"
       ],
       "layout": "IPY_MODEL_bf810c6c1c0048ee98c5dc0ca2704d92"
      }
     },
     "28edb9bad7cc490c937decd32358adf2": {
      "model_module": "@jupyter-widgets/base",
      "model_module_version": "1.2.0",
      "model_name": "LayoutModel",
      "state": {}
     },
     "2977ff7878a84dabb4bba3a5fd47d744": {
      "model_module": "@jupyter-widgets/controls",
      "model_module_version": "1.5.0",
      "model_name": "DescriptionStyleModel",
      "state": {
       "description_width": ""
      }
     },
     "2a3dd279af394d0f893a27ea024c31e6": {
      "model_module": "@jupyter-widgets/controls",
      "model_module_version": "1.5.0",
      "model_name": "HTMLModel",
      "state": {
       "layout": "IPY_MODEL_c4cd487cf77a41399cd25ac7a787ff95",
       "placeholder": "",
       "style": "IPY_MODEL_2329c4aecba44140b2dfd98bd60dff75",
       "value": "<span style=\"margin-left:10px; color:black;\">No file selected</span>"
      }
     },
     "2a70c298f5224d34b1fc05377ed52827": {
      "model_module": "@jupyter-widgets/base",
      "model_module_version": "1.2.0",
      "model_name": "LayoutModel",
      "state": {}
     },
     "2a9a044b0d4b4c7cbdfbe849eddc31d0": {
      "model_module": "@jupyter-widgets/controls",
      "model_module_version": "1.5.0",
      "model_name": "FloatSliderModel",
      "state": {
       "continuous_update": false,
       "description": "Window Center",
       "layout": "IPY_MODEL_2b2f8330bd9442cba0a879985cb8dfe5",
       "max": 4276.000000000105,
       "style": "IPY_MODEL_2412386a38a04ad5a018c83431efff9e",
       "value": 4050
      }
     },
     "2b2f8330bd9442cba0a879985cb8dfe5": {
      "model_module": "@jupyter-widgets/base",
      "model_module_version": "1.2.0",
      "model_name": "LayoutModel",
      "state": {}
     },
     "2b910b8061104147ad0cccb2d71a0971": {
      "model_module": "@jupyter-widgets/controls",
      "model_module_version": "1.5.0",
      "model_name": "DescriptionStyleModel",
      "state": {
       "description_width": ""
      }
     },
     "2bf83b751e5041179a1e86023240aff9": {
      "model_module": "@jupyter-widgets/controls",
      "model_module_version": "1.5.0",
      "model_name": "FloatTextModel",
      "state": {
       "description": "Time (s)",
       "layout": "IPY_MODEL_4357c74f43424c9aa49edb14cb3c00f1",
       "step": null,
       "style": "IPY_MODEL_dec363b219d5474e87aa7fa699e8f394",
       "value": 0.009245
      }
     },
     "2c5ae0f8a740426e84d4a0b2dda3fe5d": {
      "model_module": "@jupyter-widgets/base",
      "model_module_version": "1.2.0",
      "model_name": "LayoutModel",
      "state": {}
     },
     "2caf06df43814126ba80e759d09a6a82": {
      "model_module": "@jupyter-widgets/base",
      "model_module_version": "1.2.0",
      "model_name": "LayoutModel",
      "state": {}
     },
     "2cefb51a25aa46638d05d7b49f4131f2": {
      "model_module": "@jupyter-widgets/controls",
      "model_module_version": "1.5.0",
      "model_name": "ButtonModel",
      "state": {
       "button_style": "warning",
       "description": "Process All Lines",
       "layout": "IPY_MODEL_6d8738365d6547d394477731b9e7a4cf",
       "style": "IPY_MODEL_52ba95ba323e44a0ac2297c4a065d388"
      }
     },
     "2d0e90d9da96490aa1195d7a8fbc8783": {
      "model_module": "@jupyter-widgets/base",
      "model_module_version": "1.2.0",
      "model_name": "LayoutModel",
      "state": {}
     },
     "2d7451770a594a53bb997267d2d93505": {
      "model_module": "@jupyter-widgets/base",
      "model_module_version": "1.2.0",
      "model_name": "LayoutModel",
      "state": {
       "grid_area": "pathlist",
       "width": "auto"
      }
     },
     "2dafeb03f42645aaab450396d6a346bd": {
      "model_module": "@jupyter-widgets/controls",
      "model_module_version": "1.5.0",
      "model_name": "ToggleButtonsModel",
      "state": {
       "_options_labels": [
        "linear",
        "symlog"
       ],
       "button_style": "",
       "description": "Y-axis scaling",
       "icons": [],
       "index": 1,
       "layout": "IPY_MODEL_3e5ee271fdb543ce9fe01ff58dbdeb48",
       "style": "IPY_MODEL_0fdec0d3f0044beda006ea3ebe95fe52",
       "tooltips": []
      }
     },
     "2e1e8b85ef8c4699aa3ab695fbde52cb": {
      "model_module": "@jupyter-widgets/controls",
      "model_module_version": "1.5.0",
      "model_name": "VBoxModel",
      "state": {
       "children": [
        "IPY_MODEL_4225158dddeb439aa4f231ec45a3d9b4",
        "IPY_MODEL_e23f59450bb94e6bbf6504c126a99456"
       ],
       "layout": "IPY_MODEL_cee760f6773a4b2d940eff2c6ede791c"
      }
     },
     "2ec2e94e8d8f4259a8a65007f06a4783": {
      "model_module": "@jupyter-widgets/controls",
      "model_module_version": "1.5.0",
      "model_name": "BoxModel",
      "state": {
       "children": [
        "IPY_MODEL_98fb298c17164012b2ae5573e6045ea9"
       ],
       "layout": "IPY_MODEL_3d45122d2c7e4500b7da6b74a0644029"
      }
     },
     "2ef206fb84e8450b8745f98813c8dd0b": {
      "model_module": "@jupyter-widgets/base",
      "model_module_version": "1.2.0",
      "model_name": "LayoutModel",
      "state": {}
     },
     "2f162ae24a0f4c99aef05b4a3a84e6e2": {
      "model_module": "@jupyter-widgets/base",
      "model_module_version": "1.2.0",
      "model_name": "LayoutModel",
      "state": {}
     },
     "2f18c2176997433b8158221eaddb7572": {
      "model_module": "@jupyter-widgets/controls",
      "model_module_version": "1.5.0",
      "model_name": "DescriptionStyleModel",
      "state": {
       "description_width": ""
      }
     },
     "2f436d0412364d9fab64f1327bf19577": {
      "model_module": "@jupyter-widgets/base",
      "model_module_version": "1.2.0",
      "model_name": "LayoutModel",
      "state": {}
     },
     "3015f53a72374a78b2143690a767f8b0": {
      "model_module": "@jupyter-widgets/controls",
      "model_module_version": "1.5.0",
      "model_name": "TextModel",
      "state": {
       "disabled": true,
       "layout": "IPY_MODEL_3abfd0e28c884d4e995ce8376fbf870a",
       "placeholder": "output filename",
       "style": "IPY_MODEL_be79b411f34b4f32b8302d8c4186b5e3"
      }
     },
     "302162ee750046e4a3e8fc9820e055c7": {
      "model_module": "@jupyter-widgets/base",
      "model_module_version": "1.2.0",
      "model_name": "LayoutModel",
      "state": {}
     },
     "30c06e788da9402f8f1a472dd0847690": {
      "model_module": "@jupyter-widgets/base",
      "model_module_version": "1.2.0",
      "model_name": "LayoutModel",
      "state": {}
     },
     "311190ee799a4cb9b683782fc83167e7": {
      "model_module": "@jupyter-widgets/controls",
      "model_module_version": "1.5.0",
      "model_name": "ButtonStyleModel",
      "state": {}
     },
     "318bcf25a70a4b788472e3140ac50f4e": {
      "model_module": "@jupyter-widgets/controls",
      "model_module_version": "1.5.0",
      "model_name": "GridBoxModel",
      "state": {
       "children": [
        "IPY_MODEL_fb457c43a2f741d9a0c345a49bc2915d",
        "IPY_MODEL_b7ef49d7cd8647a98a923a0280fd3bc6",
        "IPY_MODEL_6531f610d7144254994e08f6316d80af"
       ],
       "layout": "IPY_MODEL_20209302623242c4be05e490bab3d73b"
      }
     },
     "31944fefb2a14886ac6af020da8ffa8d": {
      "model_module": "@jupyter-widgets/controls",
      "model_module_version": "1.5.0",
      "model_name": "ToggleButtonModel",
      "state": {
       "layout": "IPY_MODEL_5f1a87259a7247f9b3a3aa76b068c045",
       "style": "IPY_MODEL_ed263c35106240feb7d005cbf04a7f5d",
       "value": true
      }
     },
     "31a7bbefe66e4f02b3b7eb3d23c16ce0": {
      "model_module": "@jupyter-widgets/controls",
      "model_module_version": "1.5.0",
      "model_name": "DescriptionStyleModel",
      "state": {
       "description_width": ""
      }
     },
     "31ceeb094537486da09aeeef8edb1434": {
      "model_module": "@jupyter-widgets/base",
      "model_module_version": "1.2.0",
      "model_name": "LayoutModel",
      "state": {}
     },
     "321b60e4cbe84421ae92d6babb7a91ca": {
      "model_module": "@jupyter-widgets/controls",
      "model_module_version": "1.5.0",
      "model_name": "DescriptionStyleModel",
      "state": {
       "description_width": ""
      }
     },
     "3222891ad200443ca348a404fe2776f2": {
      "model_module": "@jupyter-widgets/controls",
      "model_module_version": "1.5.0",
      "model_name": "ButtonStyleModel",
      "state": {}
     },
     "329b7436e1b8454fbef1b66fb59303a5": {
      "model_module": "@jupyter-widgets/base",
      "model_module_version": "1.2.0",
      "model_name": "LayoutModel",
      "state": {}
     },
     "32a41601add943b3b246595b49196a0b": {
      "model_module": "@jupyter-widgets/base",
      "model_module_version": "1.2.0",
      "model_name": "LayoutModel",
      "state": {
       "grid_area": "dircontent",
       "width": "auto"
      }
     },
     "32f22a29f45f4becad5e775b8f3f519c": {
      "model_module": "@jupyter-widgets/controls",
      "model_module_version": "1.5.0",
      "model_name": "ToggleButtonModel",
      "state": {
       "description": "Pick nearest target",
       "layout": "IPY_MODEL_4bb413b4248c4a668db2b41e98f82116",
       "style": "IPY_MODEL_3752b3362dfc40a3b130310d5c3cd3ef",
       "value": true
      }
     },
     "32fae80e9fe642d28b7d66fd1a32cbd1": {
      "model_module": "@jupyter-widgets/controls",
      "model_module_version": "1.5.0",
      "model_name": "ButtonModel",
      "state": {
       "description": "Cancel",
       "layout": "IPY_MODEL_bf79fb7d041f45a6ae342f24a0ef775a",
       "style": "IPY_MODEL_311190ee799a4cb9b683782fc83167e7"
      }
     },
     "3336d4c8ea6f4acdb86e26d61382475e": {
      "model_module": "@jupyter-widgets/controls",
      "model_module_version": "1.5.0",
      "model_name": "ButtonStyleModel",
      "state": {}
     },
     "336b97b6706d4afab8c2cd3e04f92de5": {
      "model_module": "@jupyter-widgets/base",
      "model_module_version": "1.2.0",
      "model_name": "LayoutModel",
      "state": {}
     },
     "337bb486599d43dc9641a2f4799d9e20": {
      "model_module": "@jupyter-widgets/base",
      "model_module_version": "1.2.0",
      "model_name": "LayoutModel",
      "state": {}
     },
     "3466ac7a3ca14a00aad869b34e048705": {
      "model_module": "@jupyter-widgets/base",
      "model_module_version": "1.2.0",
      "model_name": "LayoutModel",
      "state": {}
     },
     "347700d3bafa4b538eef5d189f5606d0": {
      "model_module": "@jupyter-widgets/controls",
      "model_module_version": "1.5.0",
      "model_name": "ButtonStyleModel",
      "state": {}
     },
     "34abb081d60a4c97a7f5c6b03677fb79": {
      "model_module": "@jupyter-widgets/controls",
      "model_module_version": "1.5.0",
      "model_name": "DescriptionStyleModel",
      "state": {
       "description_width": "initial"
      }
     },
     "34afd837e3ed4814bc9a01baf916e60b": {
      "model_module": "@jupyter-widgets/controls",
      "model_module_version": "1.5.0",
      "model_name": "SliderStyleModel",
      "state": {
       "description_width": "initial"
      }
     },
     "34ede32f90be474dbd1e907ddc8f95cd": {
      "model_module": "@jupyter-widgets/controls",
      "model_module_version": "1.5.0",
      "model_name": "HTMLModel",
      "state": {
       "layout": "IPY_MODEL_fbe4da1e82304575baf57f100297a088",
       "placeholder": "",
       "style": "IPY_MODEL_c524cb2ec81445fb9dd374b5e6238f74",
       "value": "<span style=\"margin-left:10px; color:black;\">No file selected</span>"
      }
     },
     "35250d9467cb4743b769c100d64ebf9b": {
      "model_module": "@jupyter-widgets/controls",
      "model_module_version": "1.5.0",
      "model_name": "DropdownModel",
      "state": {
       "_options_labels": [
        "",
        "--- Channels ---",
        "DEM",
        "Line",
        "Sf[10]",
        "Sf[11]",
        "Sf[12]",
        "Sf[13]",
        "Sf[14]",
        "Sf[15]",
        "Sf[16]",
        "Sf[17]",
        "Sf[18]",
        "Sf[19]",
        "Sf[20]",
        "Sf[21]",
        "Sf[22]",
        "Sf[23]",
        "Sf[24]",
        "Sf[25]",
        "Sf[26]",
        "Sf[27]",
        "Sf[28]",
        "Sf[29]",
        "Sf[30]",
        "Sf[31]",
        "Sf[32]",
        "Sf[33]",
        "Sf[34]",
        "Sf[35]",
        "Sf[9]",
        "Z"
       ],
       "description": "Lines field",
       "index": 3,
       "layout": "IPY_MODEL_bb1816e043f844cea87eba1c33b89aa9",
       "style": "IPY_MODEL_65bdf1a8eb474123a7e34678e335da83"
      }
     },
     "3599baa2ccee4c3cb14b99173975e078": {
      "model_module": "@jupyter-widgets/controls",
      "model_module_version": "1.5.0",
      "model_name": "VBoxModel",
      "state": {
       "children": [
        "IPY_MODEL_4274c58167ae4f93a5f1d350d10c3c6b",
        "IPY_MODEL_7922aeb03cbb4aefad57f6da900f68cf"
       ],
       "layout": "IPY_MODEL_a7b11a54f6ea4f8c956c75bb0e14baa0"
      }
     },
     "35bed9d8fc1848f8b9fdc180ed9e0f5c": {
      "model_module": "@jupyter-widgets/controls",
      "model_module_version": "1.5.0",
      "model_name": "DescriptionStyleModel",
      "state": {
       "description_width": ""
      }
     },
     "364c0150520941bab67a132363fa6e5c": {
      "model_module": "@jupyter-widgets/controls",
      "model_module_version": "1.5.0",
      "model_name": "DropdownModel",
      "state": {
       "_options_labels": [
        "Sf[9]",
        "Sf[10]",
        "Sf[11]",
        "Sf[12]",
        "Sf[13]",
        "Sf[14]",
        "Sf[15]",
        "Sf[16]",
        "Sf[17]",
        "Sf[18]",
        "Sf[19]",
        "Sf[20]",
        "Sf[21]",
        "Sf[22]",
        "Sf[23]",
        "Sf[24]",
        "Sf[25]",
        "Sf[26]",
        "Sf[27]",
        "Sf[28]",
        "Sf[29]",
        "Sf[30]",
        "Sf[31]",
        "Sf[32]",
        "Sf[33]",
        "Sf[34]",
        "Sf[35]"
       ],
       "description": "Channel",
       "index": 0,
       "layout": "IPY_MODEL_c93a1b9ec4c340fb915939060ea34c75",
       "style": "IPY_MODEL_e08240bd4a2949079a506bd39c9cd78e"
      }
     },
     "36ae69e408724acfaf560871ed6708b7": {
      "model_module": "@jupyter-widgets/base",
      "model_module_version": "1.2.0",
      "model_name": "LayoutModel",
      "state": {
       "width": "auto"
      }
     },
     "36e4079fc8e247209445ae859dad8a32": {
      "model_module": "@jupyter-widgets/controls",
      "model_module_version": "1.5.0",
      "model_name": "DescriptionStyleModel",
      "state": {
       "description_width": ""
      }
     },
     "3705824f84b8443882abd5d90b6978f7": {
      "model_module": "@jupyter-widgets/controls",
      "model_module_version": "1.5.0",
      "model_name": "VBoxModel",
      "state": {
       "children": [
        "IPY_MODEL_519f1d5a2588428cb2c2b05201354a58",
        "IPY_MODEL_3a32b7f300134a3880114ecedafb84cd"
       ],
       "layout": "IPY_MODEL_3c0af5b9ab054afb98b43588fb820f7d"
      }
     },
     "3752b3362dfc40a3b130310d5c3cd3ef": {
      "model_module": "@jupyter-widgets/controls",
      "model_module_version": "1.5.0",
      "model_name": "DescriptionStyleModel",
      "state": {
       "description_width": ""
      }
     },
     "37d1324c692c47c5b5bd6165596278dc": {
      "model_module": "@jupyter-widgets/controls",
      "model_module_version": "1.5.0",
      "model_name": "DescriptionStyleModel",
      "state": {
       "description_width": ""
      }
     },
     "3800fd8d122541d3ada6583088a049ce": {
      "model_module": "@jupyter-widgets/controls",
      "model_module_version": "1.5.0",
      "model_name": "DescriptionStyleModel",
      "state": {
       "description_width": "initial"
      }
     },
     "386fbb0b28b54913ae9a855d8dfd9412": {
      "model_module": "@jupyter-widgets/controls",
      "model_module_version": "1.5.0",
      "model_name": "DescriptionStyleModel",
      "state": {
       "description_width": ""
      }
     },
     "391678fc722442b29d2ed525edcb7c03": {
      "model_module": "@jupyter-widgets/base",
      "model_module_version": "1.2.0",
      "model_name": "LayoutModel",
      "state": {}
     },
     "394f48a6c8ac4197b970d321ddda5dd0": {
      "model_module": "@jupyter-widgets/controls",
      "model_module_version": "1.5.0",
      "model_name": "IntSliderModel",
      "state": {
       "continuous_update": false,
       "description": "Minimum # channels",
       "layout": "IPY_MODEL_e72e0e98cde04d1a8747f89e5138881e",
       "max": 10,
       "min": 1,
       "style": "IPY_MODEL_34afd837e3ed4814bc9a01baf916e60b",
       "value": 1
      }
     },
     "39619b8630ad494a8ba9251d1cb58456": {
      "model_module": "@jupyter-widgets/controls",
      "model_module_version": "1.5.0",
      "model_name": "DescriptionStyleModel",
      "state": {
       "description_width": ""
      }
     },
     "39933ecd11344eb9988287f65f21ed77": {
      "model_module": "@jupyter-widgets/controls",
      "model_module_version": "1.5.0",
      "model_name": "FloatTextModel",
      "state": {
       "description": "Time (s)",
       "layout": "IPY_MODEL_8590f0996a9c42a597f8b2950bb51ff7",
       "step": null,
       "style": "IPY_MODEL_e2f929e9e8aa4ba6ac14be4572d35ab6"
      }
     },
     "39dab6ce73644271b09cad3e8eceee6d": {
      "model_module": "@jupyter-widgets/controls",
      "model_module_version": "1.5.0",
      "model_name": "ButtonStyleModel",
      "state": {}
     },
     "39de4861a1524ed1a7782ff0e803b2cd": {
      "model_module": "@jupyter-widgets/controls",
      "model_module_version": "1.5.0",
      "model_name": "DropdownModel",
      "state": {
       "_options_labels": [
        "C:\\Users\\dominiquef\\Documents\\GIT\\mira\\mirageoscience-apps\\docs\\content\\applications",
        "C:\\Users\\dominiquef\\Documents\\GIT\\mira\\mirageoscience-apps\\docs\\content",
        "C:\\Users\\dominiquef\\Documents\\GIT\\mira\\mirageoscience-apps\\docs",
        "C:\\Users\\dominiquef\\Documents\\GIT\\mira\\mirageoscience-apps",
        "C:\\Users\\dominiquef\\Documents\\GIT\\mira",
        "C:\\Users\\dominiquef\\Documents\\GIT",
        "C:\\Users\\dominiquef\\Documents",
        "C:\\Users\\dominiquef",
        "C:\\Users",
        "C:\\",
        "D:\\",
        "Z:\\"
       ],
       "index": 0,
       "layout": "IPY_MODEL_88e02ceb89e94ef6929566ef2c354b92",
       "style": "IPY_MODEL_66fb843c6624491b8c186d567f04953f"
      }
     },
     "39ed680837ed46e68c2a61427d4be70a": {
      "model_module": "@jupyter-widgets/controls",
      "model_module_version": "1.5.0",
      "model_name": "DescriptionStyleModel",
      "state": {
       "description_width": "initial"
      }
     },
     "3a32b7f300134a3880114ecedafb84cd": {
      "model_module": "@jupyter-widgets/controls",
      "model_module_version": "1.5.0",
      "model_name": "VBoxModel",
      "state": {
       "children": [
        "IPY_MODEL_0952df9657784d38b908a60a4b9dcac6"
       ],
       "layout": "IPY_MODEL_28edb9bad7cc490c937decd32358adf2"
      }
     },
     "3a336f20622c48febf78ef6991df6011": {
      "model_module": "@jupyter-widgets/base",
      "model_module_version": "1.2.0",
      "model_name": "LayoutModel",
      "state": {}
     },
     "3a6002ddc0034a318482b0ba942e8b41": {
      "model_module": "@jupyter-widgets/controls",
      "model_module_version": "1.5.0",
      "model_name": "DescriptionStyleModel",
      "state": {
       "description_width": ""
      }
     },
     "3abfd0e28c884d4e995ce8376fbf870a": {
      "model_module": "@jupyter-widgets/base",
      "model_module_version": "1.2.0",
      "model_name": "LayoutModel",
      "state": {
       "display": "none",
       "grid_area": "filename",
       "width": "auto"
      }
     },
     "3b0e3e5f3267453fbedd6c3f2d1daebe": {
      "model_module": "@jupyter-widgets/controls",
      "model_module_version": "1.5.0",
      "model_name": "CheckboxModel",
      "state": {
       "description": "Use residual",
       "disabled": false,
       "layout": "IPY_MODEL_5c7efe8b3f5441b08023546b5bdd8c49",
       "style": "IPY_MODEL_d1e51308407b46079b6d2e328b6e921f",
       "value": false
      }
     },
     "3b1cc291e7e24823af0874071793adc2": {
      "model_module": "@jupyter-widgets/controls",
      "model_module_version": "1.5.0",
      "model_name": "HTMLModel",
      "state": {
       "layout": "IPY_MODEL_91adcfd1c2744761bd7ce806044ea64f",
       "style": "IPY_MODEL_2977ff7878a84dabb4bba3a5fd47d744"
      }
     },
     "3bbc9626f2684df9af122bbfd1d3627f": {
      "model_module": "@jupyter-widgets/base",
      "model_module_version": "1.2.0",
      "model_name": "LayoutModel",
      "state": {
       "display": "none",
       "width": "auto"
      }
     },
     "3bc5bafecb624312b7e9470279b6029f": {
      "model_module": "@jupyter-widgets/controls",
      "model_module_version": "1.5.0",
      "model_name": "DescriptionStyleModel",
      "state": {
       "description_width": "initial"
      }
     },
     "3c0af5b9ab054afb98b43588fb820f7d": {
      "model_module": "@jupyter-widgets/base",
      "model_module_version": "1.2.0",
      "model_name": "LayoutModel",
      "state": {}
     },
     "3c0d25a2a189468980bbee5b215b6677": {
      "model_module": "@jupyter-widgets/controls",
      "model_module_version": "1.5.0",
      "model_name": "FloatTextModel",
      "state": {
       "description": "Time (s)",
       "layout": "IPY_MODEL_3db5f65b7add45b4b00ec75b43fd65df",
       "step": null,
       "style": "IPY_MODEL_2b910b8061104147ad0cccb2d71a0971"
      }
     },
     "3c4e3efbbfc64f32ad256cd514f4fe50": {
      "model_module": "@jupyter-widgets/base",
      "model_module_version": "1.2.0",
      "model_name": "LayoutModel",
      "state": {}
     },
     "3c6b20b4e3904086a9e447a6f98804f4": {
      "model_module": "@jupyter-widgets/base",
      "model_module_version": "1.2.0",
      "model_name": "LayoutModel",
      "state": {}
     },
     "3cd8f382e183473fb033533c7b658d2d": {
      "model_module": "@jupyter-widgets/controls",
      "model_module_version": "1.5.0",
      "model_name": "DropdownModel",
      "state": {
       "_options_labels": [
        "",
        "fault_splay1",
        "fault_Cliff_Lake",
        "fault_Other_FlinFlon",
        "fault_Club_Lake_splay",
        "fault_Catherine_splay2",
        "fault_Birch_View",
        "fault_Dion_Lake",
        "fault_FlinFlon_splay",
        "fault_West_Mandy_Road",
        "fault_Channing",
        "fault_Ross_Lake",
        "fault_Louis_Hidden",
        "fault_Lake_View_thrust",
        "contact_Schist_Lake",
        "fault_Burley_Lake",
        "fault_Dion_Lake_splay",
        "fault_Green_Lake",
        "fault_FlinFlon",
        "fault_Catherine_splay1",
        "fault_East_Mandy_Road",
        "fault_Other_FlinFlon_South",
        "fault_Catherine_splay4",
        "contact_Stitt_Island",
        "fault_Club_Lake",
        "fault_Tailing_Pond",
        "35_Hidden_Reservoir_Hr5",
        "29_Hidden_Reservoir_Hr1a",
        "60_BlueLagoon_Fb2",
        "20_FlinFlon_Undivided_Int_Dykes_D2f",
        "04_Boundary_Intrusive_S4h",
        "53_Millrock_Rhyolite_Fm4b",
        "19_FlinFlon_Undivided_Int_Dykes_D2b",
        "18_FlinFlon_Undivided_Int_Dykes_777_D2b",
        "06_Phantom_Lake_Intrusive_S3a",
        "21_FlinFlon_Undivided_Int_Dykes_D3a",
        "43_Millrock_CHLSH_South",
        "56_Millrock_Basalt_Fm1ba",
        "17_FlinFlon_Undivided_Int_Dykes_D2",
        "32_Hidden_Reservoir_Hr1b_SW",
        "11_Missi_M3_NE",
        "13_Missi_M1",
        "07_Annabel_Granitoid_S1",
        "45_Millrock_Gabbro_South",
        "01_Late_Intrusive_S5b",
        "31_Hidden_Reservoir_Hr1c_SW",
        "52_Millrock_Rhyolite_Fm4_West_check",
        "55_Millrock_Basalt_Fm1bf",
        "34_Hidden_Reservoir_Hr2b",
        "03_Boundary_Intrusive_S4b",
        "42_Millrock_CHLSH_North",
        "26_Louis_L3",
        "23_FlinFlon_Undivided_Int_Felsic_D4g",
        "30_Hidden_Reservoir_Hr1b",
        "59_BlueLagoon_Fb3",
        "49_Millrock_MVR_Fm5d",
        "44_Millrock_Gabbro_North",
        "27_Hidden_Carlisle_Hc4",
        "22_FlinFlon_Undivided_Int_Felsic_D4e",
        "02_Boundary_Intrusive_S4a",
        "61_BlueLagoon_Fb1_NW",
        "05_Boundary_Intrusive_S4g",
        "39_Ore_Callinan",
        "38_Ore_Dan_Owens",
        "40_Ore_FlinFlon",
        "Inversion_VTEM_Model",
        "Gravity_Magnetics_drape60m",
        "CDI_VTEM_model",
        "Data_FEM_pseudo3D",
        "O2O_Interp_25m",
        "geochem",
        "Inversion_DIGHEM_Model",
        "Topography",
        "Data_TEM_pseudo3D"
       ],
       "description": "Survey",
       "index": 73,
       "layout": "IPY_MODEL_27a0d59d80aa43539a2e9e02ad9d5ca0",
       "style": "IPY_MODEL_cd1df14f3aa2451e9f12d87902d3449f"
      }
     },
     "3ce74c9e50f140599019aa840a46d10c": {
      "model_module": "@jupyter-widgets/controls",
      "model_module_version": "1.5.0",
      "model_name": "DescriptionStyleModel",
      "state": {
       "description_width": ""
      }
     },
     "3d112efa52bc46b7b42052f5a0d2dd6c": {
      "model_module": "@jupyter-widgets/controls",
      "model_module_version": "1.5.0",
      "model_name": "DescriptionStyleModel",
      "state": {
       "description_width": ""
      }
     },
     "3d45122d2c7e4500b7da6b74a0644029": {
      "model_module": "@jupyter-widgets/base",
      "model_module_version": "1.2.0",
      "model_name": "LayoutModel",
      "state": {
       "align_items": "stretch",
       "display": "flex",
       "flex_flow": "row",
       "justify_content": "flex-start",
       "width": "100%"
      }
     },
     "3d59c979dcbd47d18d7437f286ab535c": {
      "model_module": "@jupyter-widgets/base",
      "model_module_version": "1.2.0",
      "model_name": "LayoutModel",
      "state": {}
     },
     "3d992c982c7a4006ae29dd17177da406": {
      "model_module": "@jupyter-widgets/base",
      "model_module_version": "1.2.0",
      "model_name": "LayoutModel",
      "state": {}
     },
     "3dac6f5c052149a198ecae199483b397": {
      "model_module": "@jupyter-widgets/controls",
      "model_module_version": "1.5.0",
      "model_name": "DescriptionStyleModel",
      "state": {
       "description_width": ""
      }
     },
     "3db1686ec4b747e087a456d1e9e06412": {
      "model_module": "@jupyter-widgets/controls",
      "model_module_version": "1.5.0",
      "model_name": "VBoxModel",
      "state": {
       "children": [
        "IPY_MODEL_2cefb51a25aa46638d05d7b49f4131f2",
        "IPY_MODEL_7b812eb712f647ea8001d70073e40631"
       ],
       "layout": "IPY_MODEL_2530d38891aa42a5b99b72999a3ee309"
      }
     },
     "3db5f65b7add45b4b00ec75b43fd65df": {
      "model_module": "@jupyter-widgets/base",
      "model_module_version": "1.2.0",
      "model_name": "LayoutModel",
      "state": {}
     },
     "3e5332a6044943f981a596dc83703e9c": {
      "model_module": "@jupyter-widgets/controls",
      "model_module_version": "1.5.0",
      "model_name": "VBoxModel",
      "state": {
       "children": [
        "IPY_MODEL_2dafeb03f42645aaab450396d6a346bd"
       ],
       "layout": "IPY_MODEL_53e11e4578cd4d50a59cd0de8178ce64"
      }
     },
     "3e59c6bb0a874451abe42afad4e76410": {
      "model_module": "@jupyter-widgets/base",
      "model_module_version": "1.2.0",
      "model_name": "LayoutModel",
      "state": {}
     },
     "3e5ee271fdb543ce9fe01ff58dbdeb48": {
      "model_module": "@jupyter-widgets/base",
      "model_module_version": "1.2.0",
      "model_name": "LayoutModel",
      "state": {}
     },
     "3f1df276451d468db3d544640096a3ec": {
      "model_module": "@jupyter-widgets/controls",
      "model_module_version": "1.5.0",
      "model_name": "HTMLModel",
      "state": {
       "layout": "IPY_MODEL_b9b4d11d1e0c4f989d2d71fd84490b01",
       "style": "IPY_MODEL_1e6350246f004b288d45b6069a64f6a9"
      }
     },
     "3f685ca87f3e49b18c949332aef77a31": {
      "model_module": "@jupyter-widgets/controls",
      "model_module_version": "1.5.0",
      "model_name": "SliderStyleModel",
      "state": {
       "description_width": "initial"
      }
     },
     "3fc36277e57d4a619ed39c086695afa7": {
      "model_module": "@jupyter-widgets/controls",
      "model_module_version": "1.5.0",
      "model_name": "DescriptionStyleModel",
      "state": {
       "description_width": ""
      }
     },
     "3fe06d7a306842658da14b9d81ba100c": {
      "model_module": "@jupyter-widgets/base",
      "model_module_version": "1.2.0",
      "model_name": "LayoutModel",
      "state": {}
     },
     "4031aff8265d4c9ca226a82601ec5640": {
      "model_module": "@jupyter-widgets/base",
      "model_module_version": "1.2.0",
      "model_name": "LayoutModel",
      "state": {}
     },
     "40f905a08c8a424daafaf516ea1c5cc0": {
      "model_module": "@jupyter-widgets/base",
      "model_module_version": "1.2.0",
      "model_name": "LayoutModel",
      "state": {
       "grid_area": "dircontent",
       "width": "auto"
      }
     },
     "412569236092474894f2d1d8412ec0dc": {
      "model_module": "@jupyter-widgets/controls",
      "model_module_version": "1.5.0",
      "model_name": "VBoxModel",
      "state": {
       "children": [
        "IPY_MODEL_deb977063ca2421d9024b682447e5b9a",
        "IPY_MODEL_eb68f41c89a940ed96519783afac1aba"
       ],
       "layout": "IPY_MODEL_af4ae3abf65c49ad9d85350059cc7822"
      }
     },
     "4225158dddeb439aa4f231ec45a3d9b4": {
      "model_module": "@jupyter-widgets/controls",
      "model_module_version": "1.5.0",
      "model_name": "DropdownModel",
      "state": {
       "_options_labels": [
        "Sf[9]",
        "Sf[10]",
        "Sf[11]",
        "Sf[12]",
        "Sf[13]",
        "Sf[14]",
        "Sf[15]",
        "Sf[16]",
        "Sf[17]",
        "Sf[18]",
        "Sf[19]",
        "Sf[20]",
        "Sf[21]",
        "Sf[22]",
        "Sf[23]",
        "Sf[24]",
        "Sf[25]",
        "Sf[26]",
        "Sf[27]",
        "Sf[28]",
        "Sf[29]",
        "Sf[30]",
        "Sf[31]",
        "Sf[32]",
        "Sf[33]",
        "Sf[34]",
        "Sf[35]"
       ],
       "description": "Channel",
       "index": 11,
       "layout": "IPY_MODEL_391678fc722442b29d2ed525edcb7c03",
       "style": "IPY_MODEL_68358d7fa4c642588657761fc68fb1f3"
      }
     },
     "4274c58167ae4f93a5f1d350d10c3c6b": {
      "model_module": "@jupyter-widgets/controls",
      "model_module_version": "1.5.0",
      "model_name": "DropdownModel",
      "state": {
       "_options_labels": [
        "Sf[9]",
        "Sf[10]",
        "Sf[11]",
        "Sf[12]",
        "Sf[13]",
        "Sf[14]",
        "Sf[15]",
        "Sf[16]",
        "Sf[17]",
        "Sf[18]",
        "Sf[19]",
        "Sf[20]",
        "Sf[21]",
        "Sf[22]",
        "Sf[23]",
        "Sf[24]",
        "Sf[25]",
        "Sf[26]",
        "Sf[27]",
        "Sf[28]",
        "Sf[29]",
        "Sf[30]",
        "Sf[31]",
        "Sf[32]",
        "Sf[33]",
        "Sf[34]",
        "Sf[35]"
       ],
       "description": "Channel",
       "index": 7,
       "layout": "IPY_MODEL_47904e94dc5542749c2bd827e94858f3",
       "style": "IPY_MODEL_7d59ea9ea91c42ae8da221f1567f9249"
      }
     },
     "42c6f0c3ac9749058d470fa4071fbb57": {
      "model_module": "@jupyter-widgets/controls",
      "model_module_version": "1.5.0",
      "model_name": "ButtonModel",
      "state": {
       "description": "Select",
       "layout": "IPY_MODEL_a3c3b7a1d2f7471286ffabf6b8de9af8",
       "style": "IPY_MODEL_46a25932710f430ba00bb80681d3f031"
      }
     },
     "4357c74f43424c9aa49edb14cb3c00f1": {
      "model_module": "@jupyter-widgets/base",
      "model_module_version": "1.2.0",
      "model_name": "LayoutModel",
      "state": {}
     },
     "43cb28ac44ad403e9988574cdcd87111": {
      "model_module": "@jupyter-widgets/controls",
      "model_module_version": "1.5.0",
      "model_name": "DescriptionStyleModel",
      "state": {
       "description_width": ""
      }
     },
     "4416bacdd3024eb1868c999668b67843": {
      "model_module": "@jupyter-widgets/base",
      "model_module_version": "1.2.0",
      "model_name": "LayoutModel",
      "state": {
       "grid_area": "dircontent",
       "width": "auto"
      }
     },
     "44583cee1afc46f8a9ff73ac829d9c54": {
      "model_module": "@jupyter-widgets/controls",
      "model_module_version": "1.5.0",
      "model_name": "DescriptionStyleModel",
      "state": {
       "description_width": "initial"
      }
     },
     "445edb9d0aa94707b180326c5d72aacc": {
      "model_module": "@jupyter-widgets/controls",
      "model_module_version": "1.5.0",
      "model_name": "DescriptionStyleModel",
      "state": {
       "description_width": "initial"
      }
     },
     "4478b0366d834fe9bae6166e7aca2f24": {
      "model_module": "@jupyter-widgets/base",
      "model_module_version": "1.2.0",
      "model_name": "LayoutModel",
      "state": {
       "display": "none",
       "width": "auto"
      }
     },
     "44b867376dcc48eeb2667d2eb4f88ca1": {
      "model_module": "@jupyter-widgets/controls",
      "model_module_version": "1.5.0",
      "model_name": "TextModel",
      "state": {
       "continuous_update": false,
       "description": "Group:",
       "layout": "IPY_MODEL_e92e95521df04ccda7cfe7a88f87ed8d",
       "style": "IPY_MODEL_0b4809653c264a04a10787084c1ac199"
      }
     },
     "4515c7d1ab174c868b097b7e4ca8c75e": {
      "model_module": "@jupyter-widgets/base",
      "model_module_version": "1.2.0",
      "model_name": "LayoutModel",
      "state": {}
     },
     "4571b9dbed504073b91faa0e1911ab16": {
      "model_module": "@jupyter-widgets/controls",
      "model_module_version": "1.5.0",
      "model_name": "DescriptionStyleModel",
      "state": {
       "description_width": ""
      }
     },
     "45b4eda770d64017a1dd16d4a43ac245": {
      "model_module": "@jupyter-widgets/controls",
      "model_module_version": "1.5.0",
      "model_name": "VBoxModel",
      "state": {
       "children": [
        "IPY_MODEL_1d4bcdf1698e438fb22086a52690098a",
        "IPY_MODEL_e85b4fd5f3b042e5bcfd65ddeb0df85e"
       ],
       "layout": "IPY_MODEL_8d4dc7bdb5974d50a078274642de9aff"
      }
     },
     "463789d3f3884059b24591532365fbb0": {
      "model_module": "@jupyter-widgets/controls",
      "model_module_version": "1.5.0",
      "model_name": "VBoxModel",
      "state": {
       "children": [
        "IPY_MODEL_8191de7206c747c89729faaa7e6f20bb"
       ],
       "layout": "IPY_MODEL_8875f6a3ca17482381cc8ba9c913c9f4"
      }
     },
     "463c5457a00541518b009241a28810c6": {
      "model_module": "@jupyter-widgets/base",
      "model_module_version": "1.2.0",
      "model_name": "LayoutModel",
      "state": {}
     },
     "465db8685b84490d954862492ac92397": {
      "model_module": "@jupyter-widgets/controls",
      "model_module_version": "1.5.0",
      "model_name": "DropdownModel",
      "state": {
       "_options_labels": [
        "Sf[9]",
        "Sf[10]",
        "Sf[11]",
        "Sf[12]",
        "Sf[13]",
        "Sf[14]",
        "Sf[15]",
        "Sf[16]",
        "Sf[17]",
        "Sf[18]",
        "Sf[19]",
        "Sf[20]",
        "Sf[21]",
        "Sf[22]",
        "Sf[23]",
        "Sf[24]",
        "Sf[25]",
        "Sf[26]",
        "Sf[27]",
        "Sf[28]",
        "Sf[29]",
        "Sf[30]",
        "Sf[31]",
        "Sf[32]",
        "Sf[33]",
        "Sf[34]",
        "Sf[35]"
       ],
       "description": "Channel",
       "index": 25,
       "layout": "IPY_MODEL_302162ee750046e4a3e8fc9820e055c7",
       "style": "IPY_MODEL_dc5b736ace4543b384b548ad648fe2a2"
      }
     },
     "468744fd5612496bada4ca4a1071c736": {
      "model_module": "@jupyter-widgets/controls",
      "model_module_version": "1.5.0",
      "model_name": "DescriptionStyleModel",
      "state": {
       "description_width": ""
      }
     },
     "46a25932710f430ba00bb80681d3f031": {
      "model_module": "@jupyter-widgets/controls",
      "model_module_version": "1.5.0",
      "model_name": "ButtonStyleModel",
      "state": {}
     },
     "46faa163bd6240079e7b9033aace9a01": {
      "model_module": "@jupyter-widgets/controls",
      "model_module_version": "1.5.0",
      "model_name": "DescriptionStyleModel",
      "state": {
       "description_width": "initial"
      }
     },
     "471267e368644d0ab31bf628f884a16c": {
      "model_module": "@jupyter-widgets/controls",
      "model_module_version": "1.5.0",
      "model_name": "FloatTextModel",
      "state": {
       "description": "Time (s)",
       "layout": "IPY_MODEL_886ad08f370a464097e0370ac92f39a8",
       "step": null,
       "style": "IPY_MODEL_4a4c5742eabb4b5bb04af849de301005",
       "value": 0.000167
      }
     },
     "47256eda9fa047ffa9a607b92cc95f8c": {
      "model_module": "@jupyter-widgets/base",
      "model_module_version": "1.2.0",
      "model_name": "LayoutModel",
      "state": {}
     },
     "478d1a02059741abb6d0b02492d7b39a": {
      "model_module": "@jupyter-widgets/base",
      "model_module_version": "1.2.0",
      "model_name": "LayoutModel",
      "state": {}
     },
     "47904e94dc5542749c2bd827e94858f3": {
      "model_module": "@jupyter-widgets/base",
      "model_module_version": "1.2.0",
      "model_name": "LayoutModel",
      "state": {}
     },
     "47a2803b3e9a4ba5866920e62bb31b41": {
      "model_module": "@jupyter-widgets/controls",
      "model_module_version": "1.5.0",
      "model_name": "SliderStyleModel",
      "state": {
       "description_width": "initial"
      }
     },
     "47af5bf69dd04a868000ccbbbb5c8a89": {
      "model_module": "@jupyter-widgets/controls",
      "model_module_version": "1.5.0",
      "model_name": "SliderStyleModel",
      "state": {
       "description_width": "initial"
      }
     },
     "47bd6178b2584d62b4d1955e5dedac20": {
      "model_module": "@jupyter-widgets/base",
      "model_module_version": "1.2.0",
      "model_name": "LayoutModel",
      "state": {}
     },
     "47c42a0e8d3545918fab6ca36b88bd87": {
      "model_module": "@jupyter-widgets/controls",
      "model_module_version": "1.5.0",
      "model_name": "DropdownModel",
      "state": {
       "_options_labels": [
        "",
        "--- Channels ---",
        "Ag",
        "Al2O3",
        "As",
        "Au",
        "Ba",
        "Be",
        "Bi",
        "CaO",
        "Cd",
        "Ce",
        "Cl",
        "Co",
        "Cr",
        "Cr2O3",
        "Cs",
        "Ctot",
        "Cu",
        "Dy",
        "Er",
        "Eu",
        "F",
        "Fe2O3",
        "Ga",
        "Gd",
        "Ge",
        "Hf",
        "Hg",
        "Ho",
        "In",
        "Ir",
        "K2O",
        "LOI",
        "La",
        "Li",
        "Lu",
        "MgO",
        "MnO",
        "Mo",
        "Na2O",
        "Nb",
        "Nd",
        "Ni",
        "Ni2",
        "P2O5",
        "Pb",
        "Pr",
        "Rb",
        "SUM",
        "Sb",
        "Sc",
        "Se",
        "SiO2",
        "Sm",
        "Sn",
        "Sr",
        "Stot",
        "Ta",
        "Tb",
        "Th",
        "Ti",
        "TiO2",
        "Tl",
        "Tm",
        "U",
        "V",
        "W",
        "Y_",
        "Yb",
        "Zn",
        "Zr",
        "interval_length",
        "Z"
       ],
       "description": "Values",
       "index": 3,
       "layout": "IPY_MODEL_efd6b5babb7043d3862e38451594c7cd",
       "style": "IPY_MODEL_8866fbba4ec949ed952a8a6d998c2990"
      }
     },
     "4824906dacb348f2a3a979f1fc350829": {
      "model_module": "@jupyter-widgets/base",
      "model_module_version": "1.2.0",
      "model_name": "LayoutModel",
      "state": {}
     },
     "482ab8edb7d640be83c8856bf442e8e5": {
      "model_module": "@jupyter-widgets/controls",
      "model_module_version": "1.5.0",
      "model_name": "CheckboxModel",
      "state": {
       "description": "TEM Data",
       "disabled": false,
       "layout": "IPY_MODEL_a22e176acdf34d36881a11ec3dfe2d86",
       "style": "IPY_MODEL_0934f2224e96487b91dd184d572606a0",
       "value": true
      }
     },
     "484da8010a21480bab50558552e49ee9": {
      "model_module": "@jupyter-widgets/base",
      "model_module_version": "1.2.0",
      "model_name": "LayoutModel",
      "state": {
       "display": "none",
       "grid_area": "filename",
       "width": "auto"
      }
     },
     "489c9a28400c4a30b60619bc5de54768": {
      "model_module": "@jupyter-widgets/controls",
      "model_module_version": "1.5.0",
      "model_name": "HBoxModel",
      "state": {
       "children": [
        "IPY_MODEL_1d867cd92fee41de9aa1451ed2182dfe",
        "IPY_MODEL_e4064a307a2544e59ee91951fb2e23d8"
       ],
       "layout": "IPY_MODEL_6e0af0fdd6f149ecab8378dc92b76be3"
      }
     },
     "48a71afb92dd459790a67137d43d9706": {
      "model_module": "@jupyter-widgets/base",
      "model_module_version": "1.2.0",
      "model_name": "LayoutModel",
      "state": {
       "grid_area": "dircontent",
       "width": "auto"
      }
     },
     "48d3cc302dd7482d9c68b34f56bfe0ab": {
      "model_module": "@jupyter-widgets/controls",
      "model_module_version": "1.5.0",
      "model_name": "GridBoxModel",
      "state": {
       "children": [
        "IPY_MODEL_e436464bf05c4323aa4b1a33fdf46d77",
        "IPY_MODEL_3015f53a72374a78b2143690a767f8b0",
        "IPY_MODEL_19d31d76aa2d47db8713972413e1ddce"
       ],
       "layout": "IPY_MODEL_f93dac178e904d1c9f84c1a22fa8c971"
      }
     },
     "48eb698f600f4d18a79ecdec870ae37b": {
      "model_module": "@jupyter-widgets/controls",
      "model_module_version": "1.5.0",
      "model_name": "DescriptionStyleModel",
      "state": {
       "description_width": ""
      }
     },
     "491c9ec39c3546448f9d2962d7a946b1": {
      "model_module": "@jupyter-widgets/controls",
      "model_module_version": "1.5.0",
      "model_name": "FloatTextModel",
      "state": {
       "description": "Time (s)",
       "layout": "IPY_MODEL_23be15c5281641df8e524ebf71f2ceee",
       "step": null,
       "style": "IPY_MODEL_b61e408d0809428ea71e1b7db67c8315",
       "value": 0.003286
      }
     },
     "492d3b095c06470983ca20118901156e": {
      "model_module": "@jupyter-widgets/base",
      "model_module_version": "1.2.0",
      "model_name": "LayoutModel",
      "state": {}
     },
     "493987c96a5c45cbb19474f28b8ecc46": {
      "model_module": "@jupyter-widgets/controls",
      "model_module_version": "1.5.0",
      "model_name": "DropdownModel",
      "state": {
       "_options_labels": [
        ""
       ],
       "description": "Object:",
       "index": 0,
       "layout": "IPY_MODEL_89cfd16e929a419ca8fab7e2644a14c1",
       "style": "IPY_MODEL_fe27144f8b2a4525852536e643993a8d"
      }
     },
     "4a02d48e872f48a68189d2c8b7886a69": {
      "model_module": "@jupyter-widgets/controls",
      "model_module_version": "1.5.0",
      "model_name": "FloatSliderModel",
      "state": {
       "continuous_update": false,
       "description": "DOI %",
       "layout": "IPY_MODEL_3d992c982c7a4006ae29dd17177da406",
       "step": 0.1,
       "style": "IPY_MODEL_b8a336735f4e4591a5f3ccfd4ef23921",
       "value": 60
      }
     },
     "4a4c5742eabb4b5bb04af849de301005": {
      "model_module": "@jupyter-widgets/controls",
      "model_module_version": "1.5.0",
      "model_name": "DescriptionStyleModel",
      "state": {
       "description_width": ""
      }
     },
     "4a674dd7b929426696643e9e02175a08": {
      "model_module": "@jupyter-widgets/controls",
      "model_module_version": "1.5.0",
      "model_name": "FloatTextModel",
      "state": {
       "description": "Time (s)",
       "layout": "IPY_MODEL_337bb486599d43dc9641a2f4799d9e20",
       "step": null,
       "style": "IPY_MODEL_857e565cae2a47d2a5d88670271b484c",
       "value": 0.001953
      }
     },
     "4a7d15e801b6442681951ba7224b7e70": {
      "model_module": "@jupyter-widgets/base",
      "model_module_version": "1.2.0",
      "model_name": "LayoutModel",
      "state": {}
     },
     "4b57d3d57d8d42adba627b90e3d7a676": {
      "model_module": "@jupyter-widgets/controls",
      "model_module_version": "1.5.0",
      "model_name": "DescriptionStyleModel",
      "state": {
       "description_width": ""
      }
     },
     "4b6382578dc6470ea4c23723357b37b5": {
      "model_module": "@jupyter-widgets/base",
      "model_module_version": "1.2.0",
      "model_name": "LayoutModel",
      "state": {
       "grid_area": "filename",
       "width": "auto"
      }
     },
     "4b7430043d26408ca0d5ed62ec35b680": {
      "model_module": "@jupyter-widgets/controls",
      "model_module_version": "1.5.0",
      "model_name": "FloatSliderModel",
      "state": {
       "continuous_update": false,
       "description": "Window Width",
       "layout": "IPY_MODEL_3c4e3efbbfc64f32ad256cd514f4fe50",
       "max": 4276.000000000105,
       "style": "IPY_MODEL_52b449952da94799a9ef404986bbd9e6",
       "value": 1000
      }
     },
     "4bb413b4248c4a668db2b41e98f82116": {
      "model_module": "@jupyter-widgets/base",
      "model_module_version": "1.2.0",
      "model_name": "LayoutModel",
      "state": {}
     },
     "4bd278792cdf4e268d1e55f7acc06887": {
      "model_module": "@jupyter-widgets/base",
      "model_module_version": "1.2.0",
      "model_name": "LayoutModel",
      "state": {}
     },
     "4cad481e76954ce68fb44881cbfb1e74": {
      "model_module": "@jupyter-widgets/base",
      "model_module_version": "1.2.0",
      "model_name": "LayoutModel",
      "state": {
       "display": "none",
       "grid_gap": "0px 0px",
       "grid_template_areas": "\n                    'pathlist filename'\n                    'dircontent dircontent'\n                    ",
       "grid_template_columns": "60% 40%",
       "grid_template_rows": "auto auto",
       "width": "500px"
      }
     },
     "4d255131bac34d459d8d992e0decf278": {
      "model_module": "@jupyter-widgets/controls",
      "model_module_version": "1.5.0",
      "model_name": "DescriptionStyleModel",
      "state": {
       "description_width": "initial"
      }
     },
     "4d28fb396fd747bb8cfd80438c828e89": {
      "model_module": "@jupyter-widgets/controls",
      "model_module_version": "1.5.0",
      "model_name": "VBoxModel",
      "state": {
       "children": [
        "IPY_MODEL_f48317b549fa4efc9f7ac6fbd84d206e",
        "IPY_MODEL_1d25b92bd4294925bb55d2b5e6651024"
       ],
       "layout": "IPY_MODEL_e70f0360310c41daa673b526e898d40f"
      }
     },
     "4e2d737ffdcc4218b4d7c9fca11d265e": {
      "model_module": "@jupyter-widgets/controls",
      "model_module_version": "1.5.0",
      "model_name": "VBoxModel",
      "state": {
       "children": [
        "IPY_MODEL_0b865ea1c8404272aff0ead99c379611",
        "IPY_MODEL_c92c5190868d406c93acc5acb8cf4965"
       ],
       "layout": "IPY_MODEL_064b1b44242f44da98319e33e7ff1d5b"
      }
     },
     "4ef2007f0b934f61abd25d83e6331458": {
      "model_module": "@jupyter-widgets/controls",
      "model_module_version": "1.5.0",
      "model_name": "DescriptionStyleModel",
      "state": {
       "description_width": ""
      }
     },
     "4ef6a943d15643e194b3975a66910b1e": {
      "model_module": "@jupyter-widgets/controls",
      "model_module_version": "1.5.0",
      "model_name": "VBoxModel",
      "state": {
       "children": [
        "IPY_MODEL_3cd8f382e183473fb033533c7b658d2d",
        "IPY_MODEL_35250d9467cb4743b769c100d64ebf9b"
       ],
       "layout": "IPY_MODEL_c7cb485461d74a6d8dcbf473303b9db3"
      }
     },
     "4f1a9c8030754b1a843a70a2247b9c07": {
      "model_module": "@jupyter-widgets/controls",
      "model_module_version": "1.5.0",
      "model_name": "DropdownModel",
      "state": {
       "_options_labels": [
        "Sf[9]",
        "Sf[10]",
        "Sf[11]",
        "Sf[12]",
        "Sf[13]",
        "Sf[14]",
        "Sf[15]",
        "Sf[16]",
        "Sf[17]",
        "Sf[18]",
        "Sf[19]",
        "Sf[20]",
        "Sf[21]",
        "Sf[22]",
        "Sf[23]",
        "Sf[24]",
        "Sf[25]",
        "Sf[26]",
        "Sf[27]",
        "Sf[28]",
        "Sf[29]",
        "Sf[30]",
        "Sf[31]",
        "Sf[32]",
        "Sf[33]",
        "Sf[34]",
        "Sf[35]"
       ],
       "description": "Channel",
       "index": 4,
       "layout": "IPY_MODEL_053ce0c922684ee0b08e7ffd42c7929f",
       "style": "IPY_MODEL_fe210254e56645a6a0933db3a98abee7"
      }
     },
     "4f24e723b8ba4aabb806ad0f1f5035aa": {
      "model_module": "@jupyter-widgets/base",
      "model_module_version": "1.2.0",
      "model_name": "LayoutModel",
      "state": {}
     },
     "4f2d0924afa44e90b297257e62353591": {
      "model_module": "@jupyter-widgets/controls",
      "model_module_version": "1.5.0",
      "model_name": "VBoxModel",
      "state": {
       "children": [
        "IPY_MODEL_75de593d343f43d68bef76d4fd169b88",
        "IPY_MODEL_92ea01c1c3174f8e9747f058657f3553"
       ],
       "layout": "IPY_MODEL_a591385e3f5c4f77bd9e3fa584d30e34"
      }
     },
     "4f86c404a578474aa6cba9c8a56ddf24": {
      "model_module": "@jupyter-widgets/controls",
      "model_module_version": "1.5.0",
      "model_name": "DescriptionStyleModel",
      "state": {
       "description_width": ""
      }
     },
     "4fb1fe3cb1374357a1f172f0ddfb52c5": {
      "model_module": "@jupyter-widgets/base",
      "model_module_version": "1.2.0",
      "model_name": "LayoutModel",
      "state": {}
     },
     "50631a214fb7481bb845b70ab8c3b8ae": {
      "model_module": "@jupyter-widgets/controls",
      "model_module_version": "1.5.0",
      "model_name": "DescriptionStyleModel",
      "state": {
       "description_width": ""
      }
     },
     "50b92d7673ab43159eb13bf1b17fb8b1": {
      "model_module": "@jupyter-widgets/controls",
      "model_module_version": "1.5.0",
      "model_name": "ToggleButtonModel",
      "state": {
       "layout": "IPY_MODEL_76b5d4a321f0494bb12817528e51661f",
       "style": "IPY_MODEL_31a7bbefe66e4f02b3b7eb3d23c16ce0",
       "value": true
      }
     },
     "50e9725e523f417fa7d71bb240bec4ce": {
      "model_module": "@jupyter-widgets/base",
      "model_module_version": "1.2.0",
      "model_name": "LayoutModel",
      "state": {}
     },
     "50ee3c1134564d2c88156dbc9657c7e4": {
      "model_module": "@jupyter-widgets/base",
      "model_module_version": "1.2.0",
      "model_name": "LayoutModel",
      "state": {
       "grid_area": "dircontent",
       "width": "auto"
      }
     },
     "514ed764f87a4a6d8b33c8b9818527c4": {
      "model_module": "@jupyter-widgets/base",
      "model_module_version": "1.2.0",
      "model_name": "LayoutModel",
      "state": {}
     },
     "51631566809f491ebe5ce9d714687d99": {
      "model_module": "@jupyter-widgets/base",
      "model_module_version": "1.2.0",
      "model_name": "LayoutModel",
      "state": {}
     },
     "518294d9bb6b4ca89c13d7cdabc733fd": {
      "model_module": "@jupyter-widgets/controls",
      "model_module_version": "1.5.0",
      "model_name": "TextModel",
      "state": {
       "layout": "IPY_MODEL_beae1ecef4334c6d8b6f3220e622943d",
       "placeholder": "output filename",
       "style": "IPY_MODEL_c1d8235d9fed4a7688f6e09ec6955cf4"
      }
     },
     "519f1d5a2588428cb2c2b05201354a58": {
      "model_module": "@jupyter-widgets/controls",
      "model_module_version": "1.5.0",
      "model_name": "VBoxModel",
      "state": {
       "children": [
        "IPY_MODEL_fc09266b59ea42a3a34fe037a2416560",
        "IPY_MODEL_10a189e5806d45c88047157712c5984c"
       ],
       "layout": "IPY_MODEL_c41ef862a3ca41be9e059c4d42dcfb48"
      }
     },
     "51acc06c9ef2474dac69cfa9f482c0f1": {
      "model_module": "@jupyter-widgets/base",
      "model_module_version": "1.2.0",
      "model_name": "LayoutModel",
      "state": {}
     },
     "51e320a95137485083d6611501d89a71": {
      "model_module": "@jupyter-widgets/controls",
      "model_module_version": "1.5.0",
      "model_name": "HBoxModel",
      "state": {
       "children": [
        "IPY_MODEL_45b4eda770d64017a1dd16d4a43ac245",
        "IPY_MODEL_654180f343ac44f58914184c1d64f7b7"
       ],
       "layout": "IPY_MODEL_b9ae26de9e7a43fdb08ca3515dfc7208"
      }
     },
     "52274b443a684201a1256a6583f06396": {
      "model_module": "@jupyter-widgets/base",
      "model_module_version": "1.2.0",
      "model_name": "LayoutModel",
      "state": {}
     },
     "5245b8624fd14b98b02f70001c393c35": {
      "model_module": "@jupyter-widgets/controls",
      "model_module_version": "1.5.0",
      "model_name": "HBoxModel",
      "state": {
       "children": [
        "IPY_MODEL_42c6f0c3ac9749058d470fa4071fbb57",
        "IPY_MODEL_04079e17e23f4f92a09c112cdaec0d9a",
        "IPY_MODEL_95feb879bcab4859af4da17e8d14214f"
       ],
       "layout": "IPY_MODEL_c416a0f995e0473d9d50c78ca456dd89"
      }
     },
     "5254cb72a10b49febad8f51e1cc6fcfb": {
      "model_module": "@jupyter-widgets/base",
      "model_module_version": "1.2.0",
      "model_name": "LayoutModel",
      "state": {}
     },
     "526ca664dbec4e128502cede0964d466": {
      "model_module": "@jupyter-widgets/controls",
      "model_module_version": "1.5.0",
      "model_name": "SelectModel",
      "state": {
       "_options_labels": [
        "..",
        "dask-worker-space",
        "images",
        "base_application.ipynb",
        "calculator.ipynb",
        "clustering.ipynb",
        "contouring.ipynb",
        "coordinate_transformation.ipynb",
        "create_surface.ipynb",
        "data_interpolation.ipynb",
        "edge_detection.ipynb",
        "export.ipynb",
        "geophysical_inversion.ipynb",
        "object_data_selection.ipynb",
        "peak_finder.ipynb",
        "scatter.ipynb",
        "view_selection.ipynb"
       ],
       "index": null,
       "layout": "IPY_MODEL_b7329538b23d4814a8b0ebe1da300099",
       "rows": 8,
       "style": "IPY_MODEL_b938c699f17b4e16bfdd7fba39cbb88e"
      }
     },
     "52b449952da94799a9ef404986bbd9e6": {
      "model_module": "@jupyter-widgets/controls",
      "model_module_version": "1.5.0",
      "model_name": "SliderStyleModel",
      "state": {
       "description_width": "initial"
      }
     },
     "52ba95ba323e44a0ac2297c4a065d388": {
      "model_module": "@jupyter-widgets/controls",
      "model_module_version": "1.5.0",
      "model_name": "ButtonStyleModel",
      "state": {}
     },
     "52c1f989c8314d4399542f74c97cf186": {
      "model_module": "@jupyter-widgets/controls",
      "model_module_version": "1.5.0",
      "model_name": "CheckboxModel",
      "state": {
       "description": "Revert",
       "disabled": false,
       "layout": "IPY_MODEL_9d54653de45c4a57960e03fc9d404a05",
       "style": "IPY_MODEL_5a7957aaf1d64b77830bbd17ee8d748d",
       "value": true
      }
     },
     "53c72c26c2fa43a9ba2674551dbc224c": {
      "model_module": "@jupyter-widgets/controls",
      "model_module_version": "1.5.0",
      "model_name": "VBoxModel",
      "state": {
       "children": [
        "IPY_MODEL_ec49066e97da4d0fb749d41c1c0f620b",
        "IPY_MODEL_7ccd43fece8448d5aef265c6028939d7"
       ],
       "layout": "IPY_MODEL_b734932f2e274e71892765adf9f21ad4"
      }
     },
     "53e11e4578cd4d50a59cd0de8178ce64": {
      "model_module": "@jupyter-widgets/base",
      "model_module_version": "1.2.0",
      "model_name": "LayoutModel",
      "state": {}
     },
     "543d3dbce07d452bbcc10d15838ccad7": {
      "model_module": "@jupyter-widgets/base",
      "model_module_version": "1.2.0",
      "model_name": "LayoutModel",
      "state": {
       "display": "none",
       "width": "auto"
      }
     },
     "5494e8d5cd7645e8b0af6f4f2c32b0df": {
      "model_module": "@jupyter-widgets/base",
      "model_module_version": "1.2.0",
      "model_name": "LayoutModel",
      "state": {}
     },
     "54f1e8b7f179426b894de1872bf3805f": {
      "model_module": "@jupyter-widgets/controls",
      "model_module_version": "1.5.0",
      "model_name": "DescriptionStyleModel",
      "state": {
       "description_width": ""
      }
     },
     "558f76d6d3f44de1966eb75f16371363": {
      "model_module": "@jupyter-widgets/controls",
      "model_module_version": "1.5.0",
      "model_name": "LabelModel",
      "state": {
       "layout": "IPY_MODEL_a97332df13e941ebbf77be5b8a703a9c",
       "style": "IPY_MODEL_0ec4ff8296d44557907cbd1490d47694",
       "value": "Monitoring folder"
      }
     },
     "56543d4e5c564f6882572b4e7e45ee1f": {
      "model_module": "@jupyter-widgets/controls",
      "model_module_version": "1.5.0",
      "model_name": "ToggleButtonModel",
      "state": {
       "layout": "IPY_MODEL_329b7436e1b8454fbef1b66fb59303a5",
       "style": "IPY_MODEL_a0bc537d0aa0415984e1795426f67fe1",
       "value": true
      }
     },
     "56a0d35a82ed460a9871ad4f960c620e": {
      "model_module": "@jupyter-widgets/controls",
      "model_module_version": "1.5.0",
      "model_name": "VBoxModel",
      "state": {
       "children": [
        "IPY_MODEL_0825236ca7d94014bcbf68fcbdc0dd18",
        "IPY_MODEL_9a4935c364b94edba510cecb4ef5103e"
       ],
       "layout": "IPY_MODEL_f9066542fae7448cbe20efa608c93704"
      }
     },
     "56d8267c44f8449fb66498073e765d1a": {
      "model_module": "@jupyter-widgets/controls",
      "model_module_version": "1.5.0",
      "model_name": "DescriptionStyleModel",
      "state": {
       "description_width": ""
      }
     },
     "57108bbb3ee54af8a230aa7588a2160f": {
      "model_module": "@jupyter-widgets/controls",
      "model_module_version": "1.5.0",
      "model_name": "VBoxModel",
      "state": {
       "children": [
        "IPY_MODEL_3f1df276451d468db3d544640096a3ec",
        "IPY_MODEL_318bcf25a70a4b788472e3140ac50f4e",
        "IPY_MODEL_6a83d25f3dc64656952ee4d1b8b0ae44"
       ],
       "layout": "IPY_MODEL_8342242d3cd746d49f08e7d5c05baeb4"
      }
     },
     "57982b3c1e1742bb9eb1c434e1168803": {
      "model_module": "@jupyter-widgets/base",
      "model_module_version": "1.2.0",
      "model_name": "LayoutModel",
      "state": {}
     },
     "57d5b1fe63be4e18aafbfd57a98b9722": {
      "model_module": "@jupyter-widgets/base",
      "model_module_version": "1.2.0",
      "model_name": "LayoutModel",
      "state": {
       "width": "auto"
      }
     },
     "57f9f4e6c3e84bfe9b92774a25fa3c22": {
      "model_module": "@jupyter-widgets/controls",
      "model_module_version": "1.5.0",
      "model_name": "DescriptionStyleModel",
      "state": {
       "description_width": ""
      }
     },
     "58252648de6c4fa480bc83b6c6ec32d9": {
      "model_module": "@jupyter-widgets/base",
      "model_module_version": "1.2.0",
      "model_name": "LayoutModel",
      "state": {
       "width": "auto"
      }
     },
     "5870fd3ac21c4f06bb0c56b7d4e3d003": {
      "model_module": "@jupyter-widgets/base",
      "model_module_version": "1.2.0",
      "model_name": "LayoutModel",
      "state": {}
     },
     "5990293d73674e76810a51d8e3291480": {
      "model_module": "@jupyter-widgets/controls",
      "model_module_version": "1.5.0",
      "model_name": "CheckboxModel",
      "state": {
       "description": "GA Pro - Live link",
       "disabled": false,
       "indent": false,
       "layout": "IPY_MODEL_a9785878412a4f5793ae4ad1e2588f1d",
       "style": "IPY_MODEL_08044ca5e85342e387d1b341d427c90e",
       "value": false
      }
     },
     "5a7957aaf1d64b77830bbd17ee8d748d": {
      "model_module": "@jupyter-widgets/controls",
      "model_module_version": "1.5.0",
      "model_name": "DescriptionStyleModel",
      "state": {
       "description_width": "initial"
      }
     },
     "5a949a19e99c475ca495350f8301ad60": {
      "model_module": "@jupyter-widgets/controls",
      "model_module_version": "1.5.0",
      "model_name": "DescriptionStyleModel",
      "state": {
       "description_width": "initial"
      }
     },
     "5accd836cc0543a8aaaf8e9861a92aaa": {
      "model_module": "@jupyter-widgets/controls",
      "model_module_version": "1.5.0",
      "model_name": "VBoxModel",
      "state": {
       "children": [
        "IPY_MODEL_bc415f9d033e47cd8a4e5c5a25f149fd",
        "IPY_MODEL_3705824f84b8443882abd5d90b6978f7"
       ],
       "layout": "IPY_MODEL_b45388781c8c4b6fab799e4ac4d2907f"
      }
     },
     "5b6669640f6248b8b74cc55fb0888d22": {
      "model_module": "@jupyter-widgets/controls",
      "model_module_version": "1.5.0",
      "model_name": "DescriptionStyleModel",
      "state": {
       "description_width": "initial"
      }
     },
     "5b9d24eeca2441679f573c66ad7b1132": {
      "model_module": "@jupyter-widgets/controls",
      "model_module_version": "1.5.0",
      "model_name": "DropdownModel",
      "state": {
       "_options_labels": [
        "Sf[9]",
        "Sf[10]",
        "Sf[11]",
        "Sf[12]",
        "Sf[13]",
        "Sf[14]",
        "Sf[15]",
        "Sf[16]",
        "Sf[17]",
        "Sf[18]",
        "Sf[19]",
        "Sf[20]",
        "Sf[21]",
        "Sf[22]",
        "Sf[23]",
        "Sf[24]",
        "Sf[25]",
        "Sf[26]",
        "Sf[27]",
        "Sf[28]",
        "Sf[29]",
        "Sf[30]",
        "Sf[31]",
        "Sf[32]",
        "Sf[33]",
        "Sf[34]",
        "Sf[35]"
       ],
       "description": "Channel",
       "index": 15,
       "layout": "IPY_MODEL_ff442f53562e4da2b28f1374480c6132",
       "style": "IPY_MODEL_fbf23c5ecd4d4a9ca1d41cb8c0177ce9"
      }
     },
     "5ba08ad4bfcd46d28ccaddd66cfc94f4": {
      "model_module": "@jupyter-widgets/base",
      "model_module_version": "1.2.0",
      "model_name": "LayoutModel",
      "state": {}
     },
     "5c17a3c12e934b899f6b38b333522e97": {
      "model_module": "@jupyter-widgets/base",
      "model_module_version": "1.2.0",
      "model_name": "LayoutModel",
      "state": {}
     },
     "5c35d94428f4401c8b9c97ce0b21153e": {
      "model_module": "@jupyter-widgets/base",
      "model_module_version": "1.2.0",
      "model_name": "LayoutModel",
      "state": {}
     },
     "5c5232c1e95b415cab77c07eaa82b19a": {
      "model_module": "@jupyter-widgets/controls",
      "model_module_version": "1.5.0",
      "model_name": "DescriptionStyleModel",
      "state": {
       "description_width": ""
      }
     },
     "5c7b834401f24e82a743e97a4af04b53": {
      "model_module": "@jupyter-widgets/base",
      "model_module_version": "1.2.0",
      "model_name": "LayoutModel",
      "state": {
       "width": "auto"
      }
     },
     "5c7efe8b3f5441b08023546b5bdd8c49": {
      "model_module": "@jupyter-widgets/base",
      "model_module_version": "1.2.0",
      "model_name": "LayoutModel",
      "state": {}
     },
     "5cc9c042e2c449bda69efebe916209ff": {
      "model_module": "@jupyter-widgets/base",
      "model_module_version": "1.2.0",
      "model_name": "LayoutModel",
      "state": {}
     },
     "5ccf438e00b644a690f52f69ce716683": {
      "model_module": "@jupyter-widgets/controls",
      "model_module_version": "1.5.0",
      "model_name": "DescriptionStyleModel",
      "state": {
       "description_width": ""
      }
     },
     "5dc368af0017419aada0762236a1e54c": {
      "model_module": "@jupyter-widgets/base",
      "model_module_version": "1.2.0",
      "model_name": "LayoutModel",
      "state": {
       "display": "none",
       "grid_gap": "0px 0px",
       "grid_template_areas": "\n                    'pathlist filename'\n                    'dircontent dircontent'\n                    ",
       "grid_template_columns": "60% 40%",
       "grid_template_rows": "auto auto",
       "width": "500px"
      }
     },
     "5e4c3e3137ae4057b45924cda36038e6": {
      "model_module": "@jupyter-widgets/controls",
      "model_module_version": "1.5.0",
      "model_name": "DescriptionStyleModel",
      "state": {
       "description_width": ""
      }
     },
     "5e6947d6c266407b979cc801aeabaefc": {
      "model_module": "@jupyter-widgets/controls",
      "model_module_version": "1.5.0",
      "model_name": "IntSliderModel",
      "state": {
       "continuous_update": false,
       "description": "Smoothing",
       "layout": "IPY_MODEL_3c6b20b4e3904086a9e447a6f98804f4",
       "max": 64,
       "style": "IPY_MODEL_934b89a7f336465c998c2b34dba94a4c",
       "value": 6
      }
     },
     "5e985f75c3c545b6b817ad628e84e24e": {
      "model_module": "@jupyter-widgets/base",
      "model_module_version": "1.2.0",
      "model_name": "LayoutModel",
      "state": {}
     },
     "5f1a87259a7247f9b3a3aa76b068c045": {
      "model_module": "@jupyter-widgets/base",
      "model_module_version": "1.2.0",
      "model_name": "LayoutModel",
      "state": {}
     },
     "5f3b9f1eb2514614b9722027f2aa1f0c": {
      "model_module": "@jupyter-widgets/controls",
      "model_module_version": "1.5.0",
      "model_name": "DescriptionStyleModel",
      "state": {
       "description_width": ""
      }
     },
     "5fc0276e89a84212b39f5ea3a525272f": {
      "model_module": "@jupyter-widgets/controls",
      "model_module_version": "1.5.0",
      "model_name": "VBoxModel",
      "state": {
       "children": [
        "IPY_MODEL_b59461ee872d428c9d2762faa9d7b59f",
        "IPY_MODEL_471267e368644d0ab31bf628f884a16c"
       ],
       "layout": "IPY_MODEL_64a4cd1f16c5436cb317cc96c5254f1d"
      }
     },
     "605f33f542a044d8b8b7bd5671e410ca": {
      "model_module": "@jupyter-widgets/base",
      "model_module_version": "1.2.0",
      "model_name": "LayoutModel",
      "state": {}
     },
     "60aab428f4444c4f9a976f9896b9b376": {
      "model_module": "@jupyter-widgets/base",
      "model_module_version": "1.2.0",
      "model_name": "LayoutModel",
      "state": {}
     },
     "60f91610e46c41d0918ea95398496a62": {
      "model_module": "@jupyter-widgets/controls",
      "model_module_version": "1.5.0",
      "model_name": "VBoxModel",
      "state": {
       "children": [
        "IPY_MODEL_9aca7486b7c14c9487429ddc8c6ee107",
        "IPY_MODEL_6d81460bfe184529b659aefc4ec06d5c"
       ],
       "layout": "IPY_MODEL_5e985f75c3c545b6b817ad628e84e24e"
      }
     },
     "6114535a56f845f5a9750fd3378951d3": {
      "model_module": "@jupyter-widgets/controls",
      "model_module_version": "1.5.0",
      "model_name": "DescriptionStyleModel",
      "state": {
       "description_width": ""
      }
     },
     "613d522a687d4e8a8689d01a65779315": {
      "model_module": "@jupyter-widgets/base",
      "model_module_version": "1.2.0",
      "model_name": "LayoutModel",
      "state": {}
     },
     "61ba70e236d0438ea6f9e49dbf488c79": {
      "model_module": "@jupyter-widgets/controls",
      "model_module_version": "1.5.0",
      "model_name": "VBoxModel",
      "state": {
       "children": [
        "IPY_MODEL_465db8685b84490d954862492ac92397",
        "IPY_MODEL_bf6257fd1972488b8f8b33c1341c5ca5"
       ],
       "layout": "IPY_MODEL_b9fa1906c93d46b6a738f4f5b0d74016"
      }
     },
     "61e36f189c3142b4b56e87a4f2f9f95e": {
      "model_module": "@jupyter-widgets/base",
      "model_module_version": "1.2.0",
      "model_name": "LayoutModel",
      "state": {}
     },
     "6204afbae2bc48a990785d9a62a026e7": {
      "model_module": "@jupyter-widgets/controls",
      "model_module_version": "1.5.0",
      "model_name": "DescriptionStyleModel",
      "state": {
       "description_width": ""
      }
     },
     "62f1e3c394654a8e8acfce194fbd9a03": {
      "model_module": "@jupyter-widgets/base",
      "model_module_version": "1.2.0",
      "model_name": "LayoutModel",
      "state": {
       "width": "50%"
      }
     },
     "633f51cafa384e8b99c419a67face002": {
      "model_module": "@jupyter-widgets/controls",
      "model_module_version": "1.5.0",
      "model_name": "VBoxModel",
      "state": {
       "children": [
        "IPY_MODEL_978861a0b43f49f89c2ae950afe9485f",
        "IPY_MODEL_e1aeee31c9474f128ce285c9b46dbb1a"
       ],
       "layout": "IPY_MODEL_3a336f20622c48febf78ef6991df6011"
      }
     },
     "637625b49b48412c82084d795fade36a": {
      "model_module": "@jupyter-widgets/base",
      "model_module_version": "1.2.0",
      "model_name": "LayoutModel",
      "state": {
       "display": "none"
      }
     },
     "63a449baba73412c8a509402e64557b7": {
      "model_module": "@jupyter-widgets/controls",
      "model_module_version": "1.5.0",
      "model_name": "VBoxModel",
      "state": {
       "children": [
        "IPY_MODEL_3cd8f382e183473fb033533c7b658d2d",
        "IPY_MODEL_d448cb7a14a54b178e7a52a325ba6c10"
       ],
       "layout": "IPY_MODEL_02f0eb98e7724fec81763e81a4883474"
      }
     },
     "63cbe0cd978241fdb2203ca1863e151e": {
      "model_module": "@jupyter-widgets/base",
      "model_module_version": "1.2.0",
      "model_name": "LayoutModel",
      "state": {}
     },
     "64a4cd1f16c5436cb317cc96c5254f1d": {
      "model_module": "@jupyter-widgets/base",
      "model_module_version": "1.2.0",
      "model_name": "LayoutModel",
      "state": {}
     },
     "64ada9775b994b609635817d9936af8d": {
      "model_module": "@jupyter-widgets/controls",
      "model_module_version": "1.5.0",
      "model_name": "ButtonModel",
      "state": {
       "description": "Cancel",
       "layout": "IPY_MODEL_10aaee3c1a2c45fea2f34c645f3f7319",
       "style": "IPY_MODEL_7c381ffc488446788970fd87f266eb34"
      }
     },
     "6531f610d7144254994e08f6316d80af": {
      "model_module": "@jupyter-widgets/controls",
      "model_module_version": "1.5.0",
      "model_name": "SelectModel",
      "state": {
       "_options_labels": [
        "..",
        "SimPEG_PFInversion",
        "Temp",
        "dask-worker-space",
        "Crossplot.html",
        "FlinFlon.geoh5",
        "FlinFlon_light.geoh5",
        "Inversion_.json",
        "MtDore_TMI.geoh5"
       ],
       "index": 5,
       "layout": "IPY_MODEL_40f905a08c8a424daafaf516ea1c5cc0",
       "rows": 8,
       "style": "IPY_MODEL_cbc31d2417b7451e81a255dafa748d29"
      }
     },
     "654180f343ac44f58914184c1d64f7b7": {
      "model_module": "@jupyter-widgets/controls",
      "model_module_version": "1.5.0",
      "model_name": "VBoxModel",
      "state": {
       "children": [
        "IPY_MODEL_6cae9d2c58e244f28e9c5b831ced14dd",
        "IPY_MODEL_257da80284544ba4aa064621b6a7e7de"
       ],
       "layout": "IPY_MODEL_62f1e3c394654a8e8acfce194fbd9a03"
      }
     },
     "65452ebb7b2d4b66908912e167703468": {
      "model_module": "@jupyter-widgets/controls",
      "model_module_version": "1.5.0",
      "model_name": "DescriptionStyleModel",
      "state": {
       "description_width": ""
      }
     },
     "654cd876e05142f093659ee79d0fe521": {
      "model_module": "@jupyter-widgets/controls",
      "model_module_version": "1.5.0",
      "model_name": "DescriptionStyleModel",
      "state": {
       "description_width": ""
      }
     },
     "65582d76640d4cdd992a3dcb5c59cb9d": {
      "model_module": "@jupyter-widgets/base",
      "model_module_version": "1.2.0",
      "model_name": "LayoutModel",
      "state": {
       "grid_area": "filename",
       "width": "auto"
      }
     },
     "65bdf1a8eb474123a7e34678e335da83": {
      "model_module": "@jupyter-widgets/controls",
      "model_module_version": "1.5.0",
      "model_name": "DescriptionStyleModel",
      "state": {
       "description_width": "initial"
      }
     },
     "65fdecb8d8914ebc8c147037cfb53aa0": {
      "model_module": "@jupyter-widgets/controls",
      "model_module_version": "1.5.0",
      "model_name": "ButtonStyleModel",
      "state": {}
     },
     "66787b6eaf594154a4af6840bef4f225": {
      "model_module": "@jupyter-widgets/controls",
      "model_module_version": "1.5.0",
      "model_name": "SelectModel",
      "state": {
       "_options_labels": [
        "..",
        "dask-worker-space",
        "images"
       ],
       "index": null,
       "layout": "IPY_MODEL_e44c27497dea4002a89106960f08d461",
       "rows": 8,
       "style": "IPY_MODEL_f98134dc33c749d9a6e0bf308c92e2d6"
      }
     },
     "6688b3804df0499a93d70b2d2a66efe8": {
      "model_module": "@jupyter-widgets/controls",
      "model_module_version": "1.5.0",
      "model_name": "HTMLModel",
      "state": {
       "layout": "IPY_MODEL_637625b49b48412c82084d795fade36a",
       "style": "IPY_MODEL_88227e0142e0486193153be644148716"
      }
     },
     "66a24e958e8d44cdac2efd94ce763909": {
      "model_module": "@jupyter-widgets/controls",
      "model_module_version": "1.5.0",
      "model_name": "VBoxModel",
      "state": {
       "children": [
        "IPY_MODEL_558f76d6d3f44de1966eb75f16371363",
        "IPY_MODEL_231619ffdfb84396ba6d1b46ac809bc6"
       ],
       "layout": "IPY_MODEL_ed21cf86b46e4ff0af7da8edda2a54a3"
      }
     },
     "66a739a227454791a917d83d90368a15": {
      "model_module": "@jupyter-widgets/base",
      "model_module_version": "1.2.0",
      "model_name": "LayoutModel",
      "state": {}
     },
     "66bdfc823cef4355a66ce5105d718b0d": {
      "model_module": "@jupyter-widgets/controls",
      "model_module_version": "1.5.0",
      "model_name": "DescriptionStyleModel",
      "state": {
       "description_width": "initial"
      }
     },
     "66fb843c6624491b8c186d567f04953f": {
      "model_module": "@jupyter-widgets/controls",
      "model_module_version": "1.5.0",
      "model_name": "DescriptionStyleModel",
      "state": {
       "description_width": ""
      }
     },
     "6735183ff6724793b9f77d137523f4c1": {
      "model_module": "@jupyter-widgets/controls",
      "model_module_version": "1.5.0",
      "model_name": "DescriptionStyleModel",
      "state": {
       "description_width": "initial"
      }
     },
     "6743f77d87274df38d854aefe78117cb": {
      "model_module": "@jupyter-widgets/controls",
      "model_module_version": "1.5.0",
      "model_name": "DropdownModel",
      "state": {
       "_options_labels": [
        "C:\\Users\\dominiquef\\Documents\\GIT\\mira\\mirageoscience-apps\\docs\\content\\applications",
        "C:\\Users\\dominiquef\\Documents\\GIT\\mira\\mirageoscience-apps\\docs\\content",
        "C:\\Users\\dominiquef\\Documents\\GIT\\mira\\mirageoscience-apps\\docs",
        "C:\\Users\\dominiquef\\Documents\\GIT\\mira\\mirageoscience-apps",
        "C:\\Users\\dominiquef\\Documents\\GIT\\mira",
        "C:\\Users\\dominiquef\\Documents\\GIT",
        "C:\\Users\\dominiquef\\Documents",
        "C:\\Users\\dominiquef",
        "C:\\Users",
        "C:\\",
        "D:\\",
        "Z:\\"
       ],
       "index": 0,
       "layout": "IPY_MODEL_260e620085df46bf82d5f7a9bc4b1e30",
       "style": "IPY_MODEL_abb01eb13adf4920afcebaf6eb90da93"
      }
     },
     "675d6a5f8b904402812fb5376cadd760": {
      "model_module": "@jupyter-widgets/controls",
      "model_module_version": "1.5.0",
      "model_name": "VBoxModel",
      "state": {
       "children": [
        "IPY_MODEL_bd27fd71cd1047808ac2e742a8c91068",
        "IPY_MODEL_0479b807139b47f2859c0446bfce6865"
       ],
       "layout": "IPY_MODEL_70fab47c16e84c1fbe3a3e3bc69a1cb0"
      }
     },
     "67795b119eef4b7fb38cc1bf74575d61": {
      "model_module": "@jupyter-widgets/controls",
      "model_module_version": "1.5.0",
      "model_name": "ButtonStyleModel",
      "state": {}
     },
     "67c1d87011914dcb84f33fc15872cbe4": {
      "model_module": "@jupyter-widgets/controls",
      "model_module_version": "1.5.0",
      "model_name": "VBoxModel",
      "state": {
       "children": [
        "IPY_MODEL_a829ef1d986a46519d86241b2168e17e",
        "IPY_MODEL_2bf83b751e5041179a1e86023240aff9"
       ],
       "layout": "IPY_MODEL_31ceeb094537486da09aeeef8edb1434"
      }
     },
     "67f2d7e4332c4479913a417e1f0101e4": {
      "model_module": "@jupyter-widgets/controls",
      "model_module_version": "1.5.0",
      "model_name": "DescriptionStyleModel",
      "state": {
       "description_width": "initial"
      }
     },
     "68358d7fa4c642588657761fc68fb1f3": {
      "model_module": "@jupyter-widgets/controls",
      "model_module_version": "1.5.0",
      "model_name": "DescriptionStyleModel",
      "state": {
       "description_width": "initial"
      }
     },
     "68634895d3fe4d57b1ae2a132aff5e36": {
      "model_module": "@jupyter-widgets/base",
      "model_module_version": "1.2.0",
      "model_name": "LayoutModel",
      "state": {
       "display": "none"
      }
     },
     "688631622934475ba63d63a2986161db": {
      "model_module": "@jupyter-widgets/controls",
      "model_module_version": "1.5.0",
      "model_name": "DescriptionStyleModel",
      "state": {
       "description_width": "initial"
      }
     },
     "6952027a57104c97b1c7fa366b7daf6b": {
      "model_module": "@jupyter-widgets/controls",
      "model_module_version": "1.5.0",
      "model_name": "ButtonModel",
      "state": {
       "description": "Cancel",
       "layout": "IPY_MODEL_3bbc9626f2684df9af122bbfd1d3627f",
       "style": "IPY_MODEL_67795b119eef4b7fb38cc1bf74575d61"
      }
     },
     "697c6b4f1ed04a058f785fb8c6dd8af0": {
      "model_module": "@jupyter-widgets/controls",
      "model_module_version": "1.5.0",
      "model_name": "FloatSliderModel",
      "state": {
       "continuous_update": false,
       "description": "Maximum peak migration (m)",
       "layout": "IPY_MODEL_1ec2ec6b6ab14ef492efb00cfaa2a680",
       "max": 1000,
       "min": 1,
       "style": "IPY_MODEL_47a2803b3e9a4ba5866920e62bb31b41",
       "value": 25
      }
     },
     "698e95ce749447b0a6a370f771aed907": {
      "model_module": "@jupyter-widgets/controls",
      "model_module_version": "1.5.0",
      "model_name": "IntSliderModel",
      "state": {
       "continuous_update": false,
       "description": "Marker Size",
       "layout": "IPY_MODEL_ca8ce92fa41c42dfbbdd01ce24e3ebb5",
       "max": 20,
       "min": 1,
       "style": "IPY_MODEL_7c7dd5c228aa4395ac4952ee172028ea",
       "value": 3
      }
     },
     "69e242fbc83440e0b1f9a50e41ba8d75": {
      "model_module": "@jupyter-widgets/controls",
      "model_module_version": "1.5.0",
      "model_name": "HTMLModel",
      "state": {
       "layout": "IPY_MODEL_d77781f11e1d4284be3116421cf0ffd5",
       "style": "IPY_MODEL_95a55d28c51b434896e87499e0c1edad"
      }
     },
     "6a090803922f4a70b6daede5ac2853c4": {
      "model_module": "@jupyter-widgets/controls",
      "model_module_version": "1.5.0",
      "model_name": "DescriptionStyleModel",
      "state": {
       "description_width": ""
      }
     },
     "6a6ff347ade54cd2892b260ea0225eca": {
      "model_module": "@jupyter-widgets/controls",
      "model_module_version": "1.5.0",
      "model_name": "DescriptionStyleModel",
      "state": {
       "description_width": ""
      }
     },
     "6a83d25f3dc64656952ee4d1b8b0ae44": {
      "model_module": "@jupyter-widgets/controls",
      "model_module_version": "1.5.0",
      "model_name": "HBoxModel",
      "state": {
       "children": [
        "IPY_MODEL_d022fdc9ce514f2f84a4f3319b540d02",
        "IPY_MODEL_6952027a57104c97b1c7fa366b7daf6b",
        "IPY_MODEL_e342e6f0102a4be79a694d1a407a619c"
       ],
       "layout": "IPY_MODEL_99df652399bd4019a0ae2f841da13fba"
      }
     },
     "6ac40290bac542678382ee9f1a44194b": {
      "model_module": "@jupyter-widgets/controls",
      "model_module_version": "1.5.0",
      "model_name": "DescriptionStyleModel",
      "state": {
       "description_width": ""
      }
     },
     "6b1810c017b641d9aeca9abf7499e721": {
      "model_module": "@jupyter-widgets/controls",
      "model_module_version": "1.5.0",
      "model_name": "HTMLModel",
      "state": {
       "layout": "IPY_MODEL_68634895d3fe4d57b1ae2a132aff5e36",
       "style": "IPY_MODEL_0a902edd2c804f72bbb917858409d2e2"
      }
     },
     "6b9fee65ff384916894b70dd43ec284b": {
      "model_module": "@jupyter-widgets/controls",
      "model_module_version": "1.5.0",
      "model_name": "DescriptionStyleModel",
      "state": {
       "description_width": "initial"
      }
     },
     "6bab49b102934b5cb2ef0a9b61165403": {
      "model_module": "@jupyter-widgets/controls",
      "model_module_version": "1.5.0",
      "model_name": "DescriptionStyleModel",
      "state": {
       "description_width": "initial"
      }
     },
     "6bd99c1f2f8749509bedcda59db6d65f": {
      "model_module": "@jupyter-widgets/controls",
      "model_module_version": "1.5.0",
      "model_name": "DescriptionStyleModel",
      "state": {
       "description_width": ""
      }
     },
     "6be83a36328f4e97b19167f2ee1eb3c5": {
      "model_module": "@jupyter-widgets/base",
      "model_module_version": "1.2.0",
      "model_name": "LayoutModel",
      "state": {}
     },
     "6bfc9d76a03c4d39b5b073c82e1922e4": {
      "model_module": "@jupyter-widgets/controls",
      "model_module_version": "1.5.0",
      "model_name": "ToggleButtonModel",
      "state": {
       "description": "Select Time Groups",
       "layout": "IPY_MODEL_51631566809f491ebe5ce9d714687d99",
       "style": "IPY_MODEL_fb170222407e405697174daf8281b035"
      }
     },
     "6c82af285e88475f886005602b315ffa": {
      "model_module": "@jupyter-widgets/base",
      "model_module_version": "1.2.0",
      "model_name": "LayoutModel",
      "state": {}
     },
     "6cae9d2c58e244f28e9c5b831ced14dd": {
      "model_module": "@jupyter-widgets/controls",
      "model_module_version": "1.5.0",
      "model_name": "LabelModel",
      "state": {
       "layout": "IPY_MODEL_768ca8d7986042fdbc9ff2b485f2d4d3",
       "style": "IPY_MODEL_468744fd5612496bada4ca4a1071c736",
       "value": "Detection Parameters"
      }
     },
     "6cfc9ab9b3a147868fa9923280bab7dd": {
      "model_module": "@jupyter-widgets/controls",
      "model_module_version": "1.5.0",
      "model_name": "DropdownModel",
      "state": {
       "_options_labels": [
        "Sf[9]",
        "Sf[10]",
        "Sf[11]",
        "Sf[12]",
        "Sf[13]",
        "Sf[14]",
        "Sf[15]",
        "Sf[16]",
        "Sf[17]",
        "Sf[18]",
        "Sf[19]",
        "Sf[20]",
        "Sf[21]",
        "Sf[22]",
        "Sf[23]",
        "Sf[24]",
        "Sf[25]",
        "Sf[26]",
        "Sf[27]",
        "Sf[28]",
        "Sf[29]",
        "Sf[30]",
        "Sf[31]",
        "Sf[32]",
        "Sf[33]",
        "Sf[34]",
        "Sf[35]"
       ],
       "description": "Channel",
       "index": 13,
       "layout": "IPY_MODEL_2451e663db4d4665a18a1c13cfdf8c4e",
       "style": "IPY_MODEL_a84444cb98c34112a2664c3fe6baae44"
      }
     },
     "6d01872d619e4094ab6ae93c75710ff5": {
      "model_module": "@jupyter-widgets/controls",
      "model_module_version": "1.5.0",
      "model_name": "ButtonStyleModel",
      "state": {}
     },
     "6d170bc0ffcc45a08128d793542ef67b": {
      "model_module": "@jupyter-widgets/base",
      "model_module_version": "1.2.0",
      "model_name": "LayoutModel",
      "state": {
       "grid_area": "pathlist",
       "width": "auto"
      }
     },
     "6d81460bfe184529b659aefc4ec06d5c": {
      "model_module": "@jupyter-widgets/controls",
      "model_module_version": "1.5.0",
      "model_name": "FloatTextModel",
      "state": {
       "description": "Time (s)",
       "layout": "IPY_MODEL_ad10ef4d162f4c58aa0263b41aa4842d",
       "step": null,
       "style": "IPY_MODEL_cfb58aa8527e4aff87bedeaab18b665d",
       "value": 0.002745
      }
     },
     "6d8738365d6547d394477731b9e7a4cf": {
      "model_module": "@jupyter-widgets/base",
      "model_module_version": "1.2.0",
      "model_name": "LayoutModel",
      "state": {}
     },
     "6da6744e6d2a42c895056f5a082d778a": {
      "model_module": "@jupyter-widgets/controls",
      "model_module_version": "1.5.0",
      "model_name": "VBoxModel",
      "state": {
       "children": [
        "IPY_MODEL_bd05c340b5ea406b9c1b7306cb883bee",
        "IPY_MODEL_1be66981ad864973b92f51fb084c007e"
       ],
       "layout": "IPY_MODEL_194890bffe2c40cbb5378664d75e7435"
      }
     },
     "6da9525ef72644f6bab03ab76852b6de": {
      "model_module": "@jupyter-widgets/controls",
      "model_module_version": "1.5.0",
      "model_name": "ButtonModel",
      "state": {
       "description": "Select",
       "layout": "IPY_MODEL_fe59b49bddf4495c8e61a2bf6cabd595",
       "style": "IPY_MODEL_d6932556c698422bbf6e5b017ba22ae9"
      }
     },
     "6e0af0fdd6f149ecab8378dc92b76be3": {
      "model_module": "@jupyter-widgets/base",
      "model_module_version": "1.2.0",
      "model_name": "LayoutModel",
      "state": {}
     },
     "6eda064802b2450694d8e5c698450a93": {
      "model_module": "@jupyter-widgets/base",
      "model_module_version": "1.2.0",
      "model_name": "LayoutModel",
      "state": {
       "grid_area": "dircontent",
       "width": "auto"
      }
     },
     "6edab6e5101147c4ba0cb8dc171057a7": {
      "model_module": "@jupyter-widgets/base",
      "model_module_version": "1.2.0",
      "model_name": "LayoutModel",
      "state": {
       "width": "50%"
      }
     },
     "6fb25b5344964158ac3c7b08e5863459": {
      "model_module": "@jupyter-widgets/controls",
      "model_module_version": "1.5.0",
      "model_name": "DescriptionStyleModel",
      "state": {
       "description_width": ""
      }
     },
     "6fc06303c4cb49f5bb4d1d49e5048f50": {
      "model_module": "@jupyter-widgets/controls",
      "model_module_version": "1.5.0",
      "model_name": "DescriptionStyleModel",
      "state": {
       "description_width": "initial"
      }
     },
     "70078c564b5a4f71974ce955613de4c4": {
      "model_module": "@jupyter-widgets/controls",
      "model_module_version": "1.5.0",
      "model_name": "HBoxModel",
      "state": {
       "children": [
        "IPY_MODEL_12de2a575af34deb86eb940f5c11b9bc",
        "IPY_MODEL_9e1562e7fe014ae2a4487d5e11e7cfbc",
        "IPY_MODEL_171bf5d12a5f4ec7acb4c5fc41f04be5"
       ],
       "layout": "IPY_MODEL_8894e851f87e43e59f30da068e52ca5d"
      }
     },
     "700f9d3098284332befe6163a27ddf17": {
      "model_module": "@jupyter-widgets/controls",
      "model_module_version": "1.5.0",
      "model_name": "DescriptionStyleModel",
      "state": {
       "description_width": "initial"
      }
     },
     "70fab47c16e84c1fbe3a3e3bc69a1cb0": {
      "model_module": "@jupyter-widgets/base",
      "model_module_version": "1.2.0",
      "model_name": "LayoutModel",
      "state": {}
     },
     "7162899acd1a48d5a481f4fe8219a2af": {
      "model_module": "@jupyter-widgets/controls",
      "model_module_version": "1.5.0",
      "model_name": "VBoxModel",
      "state": {
       "children": [
        "IPY_MODEL_6688b3804df0499a93d70b2d2a66efe8",
        "IPY_MODEL_0186e4aaf1ee4715b828f0f87e1c71d0",
        "IPY_MODEL_a7d66b2a94c347348e3ab7762a982df4"
       ],
       "layout": "IPY_MODEL_8a7322e8d00245eda3622ebe6b33b3db"
      }
     },
     "71d57729f1674713b4a162a119dd7b8a": {
      "model_module": "@jupyter-widgets/controls",
      "model_module_version": "1.5.0",
      "model_name": "DescriptionStyleModel",
      "state": {
       "description_width": ""
      }
     },
     "72153ee4f1a14cb2974d6bb4b4c7e89c": {
      "model_module": "@jupyter-widgets/controls",
      "model_module_version": "1.5.0",
      "model_name": "VBoxModel",
      "state": {
       "children": [
        "IPY_MODEL_a2021a6304b74c7f923e22d9929189b3",
        "IPY_MODEL_e504d66da35a4e699c71bb88c6fe5776"
       ],
       "layout": "IPY_MODEL_c1af4f6c95a7430dad99531fa22daba0"
      }
     },
     "7274dda603cf45378d96f2cb20bd71b9": {
      "model_module": "@jupyter-widgets/base",
      "model_module_version": "1.2.0",
      "model_name": "LayoutModel",
      "state": {
       "width": "auto"
      }
     },
     "72911adee6704efcb4f79c1ac85d6951": {
      "model_module": "@jupyter-widgets/controls",
      "model_module_version": "1.5.0",
      "model_name": "DescriptionStyleModel",
      "state": {
       "description_width": ""
      }
     },
     "7316630bd5974c22a73c637849edfdc8": {
      "model_module": "@jupyter-widgets/controls",
      "model_module_version": "1.5.0",
      "model_name": "DescriptionStyleModel",
      "state": {
       "description_width": "initial"
      }
     },
     "731f36bb507d4f8caa3ea504280f6fae": {
      "model_module": "@jupyter-widgets/controls",
      "model_module_version": "1.5.0",
      "model_name": "VBoxModel",
      "state": {
       "children": [
        "IPY_MODEL_85d43d3d76bc49e2870e471d7c3d1562",
        "IPY_MODEL_4a02d48e872f48a68189d2c8b7886a69",
        "IPY_MODEL_52c1f989c8314d4399542f74c97cf186"
       ],
       "layout": "IPY_MODEL_db83b13c584f430f9bf6aedc7818e4d9"
      }
     },
     "73581234b4124df2bda352bcb9aa43fb": {
      "model_module": "@jupyter-widgets/controls",
      "model_module_version": "1.5.0",
      "model_name": "SliderStyleModel",
      "state": {
       "description_width": "initial"
      }
     },
     "7369bdc4ecb0421aa84e396d69d19db4": {
      "model_module": "@jupyter-widgets/base",
      "model_module_version": "1.2.0",
      "model_name": "LayoutModel",
      "state": {}
     },
     "73df131438de4cd3b699c0a10aed826f": {
      "model_module": "@jupyter-widgets/controls",
      "model_module_version": "1.5.0",
      "model_name": "VBoxModel",
      "state": {
       "children": [
        "IPY_MODEL_dad1ea3b92d54cfab55b2771fa04daa7",
        "IPY_MODEL_c2dc963e7ed14b6a8d13ec4b2f5011f1"
       ],
       "layout": "IPY_MODEL_07225461a5644acfa397d984c6dd7549"
      }
     },
     "7413a09f62624df1a16764b6fe3944e3": {
      "model_module": "@jupyter-widgets/base",
      "model_module_version": "1.2.0",
      "model_name": "LayoutModel",
      "state": {}
     },
     "74327ec3ccad48c8935b5402b68c9cbc": {
      "model_module": "@jupyter-widgets/base",
      "model_module_version": "1.2.0",
      "model_name": "LayoutModel",
      "state": {}
     },
     "743586ea822144e9a42836d3554015bc": {
      "model_module": "@jupyter-widgets/controls",
      "model_module_version": "1.5.0",
      "model_name": "VBoxModel",
      "state": {
       "children": [
        "IPY_MODEL_03997461dd4d4967becec39f5f9bd2c5",
        "IPY_MODEL_807117c114a9490cb48e4851aedbcb94",
        "IPY_MODEL_d9672de070b84d90a8c98b89dddedcc4"
       ],
       "layout": "IPY_MODEL_b194e778e72c4ed2ae4ba9f845ec9914"
      }
     },
     "749d9dde597a4aa286ebdb9d459510f5": {
      "model_module": "@jupyter-widgets/controls",
      "model_module_version": "1.5.0",
      "model_name": "IntSliderModel",
      "state": {
       "continuous_update": false,
       "description": "Minimum amplitude (%)",
       "layout": "IPY_MODEL_5c17a3c12e934b899f6b38b333522e97",
       "style": "IPY_MODEL_3f685ca87f3e49b18c949332aef77a31",
       "value": 1
      }
     },
     "74eb5dc38c8740f3b5d055d19b4b953c": {
      "model_module": "@jupyter-widgets/controls",
      "model_module_version": "1.5.0",
      "model_name": "DescriptionStyleModel",
      "state": {
       "description_width": "initial"
      }
     },
     "74f826c4dea34ab28178a0b47ff46688": {
      "model_module": "@jupyter-widgets/base",
      "model_module_version": "1.2.0",
      "model_name": "LayoutModel",
      "state": {}
     },
     "7507acce0fcf4c2e8cf9df3868ab4cc9": {
      "model_module": "@jupyter-widgets/controls",
      "model_module_version": "1.5.0",
      "model_name": "ButtonModel",
      "state": {
       "description": "Select",
       "layout": "IPY_MODEL_58252648de6c4fa480bc83b6c6ec32d9",
       "style": "IPY_MODEL_958fc1534c1b48439bfde32dd3fc7843"
      }
     },
     "751abf0e6d044898a16c10770cbe817a": {
      "model_module": "@jupyter-widgets/controls",
      "model_module_version": "1.5.0",
      "model_name": "LabelModel",
      "state": {
       "layout": "IPY_MODEL_f9b0dd2a16324fd986cf8bc587f18d27",
       "style": "IPY_MODEL_1940d339473845b2a9a2ac826e7d9f91",
       "value": "Monitoring folder"
      }
     },
     "758db28bea7e48e1b0e5ba122a52728a": {
      "model_module": "@jupyter-widgets/base",
      "model_module_version": "1.2.0",
      "model_name": "LayoutModel",
      "state": {}
     },
     "75de593d343f43d68bef76d4fd169b88": {
      "model_module": "@jupyter-widgets/controls",
      "model_module_version": "1.5.0",
      "model_name": "DropdownModel",
      "state": {
       "_options_labels": [
        "Sf[9]",
        "Sf[10]",
        "Sf[11]",
        "Sf[12]",
        "Sf[13]",
        "Sf[14]",
        "Sf[15]",
        "Sf[16]",
        "Sf[17]",
        "Sf[18]",
        "Sf[19]",
        "Sf[20]",
        "Sf[21]",
        "Sf[22]",
        "Sf[23]",
        "Sf[24]",
        "Sf[25]",
        "Sf[26]",
        "Sf[27]",
        "Sf[28]",
        "Sf[29]",
        "Sf[30]",
        "Sf[31]",
        "Sf[32]",
        "Sf[33]",
        "Sf[34]",
        "Sf[35]"
       ],
       "description": "Channel",
       "index": 8,
       "layout": "IPY_MODEL_8ae9876c5afc4d0d84c4e279eadc6717",
       "style": "IPY_MODEL_d7da972a88794832b69f80911b15ad94"
      }
     },
     "76250c8491254af0ba0e93939612eef7": {
      "model_module": "@jupyter-widgets/controls",
      "model_module_version": "1.5.0",
      "model_name": "VBoxModel",
      "state": {
       "children": [
        "IPY_MODEL_a33f97a171c7426f8501881a7e165430",
        "IPY_MODEL_fa6e801d81b642c4a768966ee1c9cd23"
       ],
       "layout": "IPY_MODEL_4bd278792cdf4e268d1e55f7acc06887"
      }
     },
     "7629385c87904ffabfc093d897c8bcc4": {
      "model_module": "@jupyter-widgets/base",
      "model_module_version": "1.2.0",
      "model_name": "LayoutModel",
      "state": {}
     },
     "762a059d51e245a190886426dbc327ca": {
      "model_module": "@jupyter-widgets/base",
      "model_module_version": "1.2.0",
      "model_name": "LayoutModel",
      "state": {}
     },
     "765024e1e57f41b49e1bd0f5da48d1f4": {
      "model_module": "@jupyter-widgets/controls",
      "model_module_version": "1.5.0",
      "model_name": "SliderStyleModel",
      "state": {
       "description_width": ""
      }
     },
     "768ca8d7986042fdbc9ff2b485f2d4d3": {
      "model_module": "@jupyter-widgets/base",
      "model_module_version": "1.2.0",
      "model_name": "LayoutModel",
      "state": {}
     },
     "76b5d4a321f0494bb12817528e51661f": {
      "model_module": "@jupyter-widgets/base",
      "model_module_version": "1.2.0",
      "model_name": "LayoutModel",
      "state": {}
     },
     "76c0e1bb8a104dcd89f194ad17a55732": {
      "model_module": "@jupyter-widgets/base",
      "model_module_version": "1.2.0",
      "model_name": "LayoutModel",
      "state": {}
     },
     "776bf2b0fe27496993c0979b66e90287": {
      "model_module": "@jupyter-widgets/base",
      "model_module_version": "1.2.0",
      "model_name": "LayoutModel",
      "state": {
       "width": "auto"
      }
     },
     "77981706a3ec418984391205d7dfdc63": {
      "model_module": "@jupyter-widgets/controls",
      "model_module_version": "1.5.0",
      "model_name": "GridBoxModel",
      "state": {
       "children": [
        "IPY_MODEL_9da7948daa274dd7a3b223405842e505",
        "IPY_MODEL_94e62c3cd70c41c085c42d4262f1295f",
        "IPY_MODEL_1050d057c04a44ad81dbcf37903daf90"
       ],
       "layout": "IPY_MODEL_8a7fca156f6844038c1df2d2fef2787a"
      }
     },
     "783ea28feb3b44db8e8fee3049fcab51": {
      "model_module": "@jupyter-widgets/controls",
      "model_module_version": "1.5.0",
      "model_name": "DescriptionStyleModel",
      "state": {
       "description_width": ""
      }
     },
     "78beeecb98e44ae78275d32cbf7277a5": {
      "model_module": "@jupyter-widgets/controls",
      "model_module_version": "1.5.0",
      "model_name": "DescriptionStyleModel",
      "state": {
       "description_width": ""
      }
     },
     "7909233db2f44072bc3f45ce7d149c63": {
      "model_module": "@jupyter-widgets/base",
      "model_module_version": "1.2.0",
      "model_name": "LayoutModel",
      "state": {}
     },
     "791dce1848b548e6a70afadcd8581e50": {
      "model_module": "@jupyter-widgets/controls",
      "model_module_version": "1.5.0",
      "model_name": "GridBoxModel",
      "state": {
       "children": [
        "IPY_MODEL_d4d56251560a4d639b3f4e82a6d5b28d",
        "IPY_MODEL_e62c7d5df18548d2b1f7fbd8d42e7988",
        "IPY_MODEL_af97c5c7416c40838c69648b98289258"
       ],
       "layout": "IPY_MODEL_5dc368af0017419aada0762236a1e54c"
      }
     },
     "7922aeb03cbb4aefad57f6da900f68cf": {
      "model_module": "@jupyter-widgets/controls",
      "model_module_version": "1.5.0",
      "model_name": "FloatTextModel",
      "state": {
       "description": "Time (s)",
       "layout": "IPY_MODEL_d5f1b3fd40c24694b82198e1dc4e4f91",
       "step": null,
       "style": "IPY_MODEL_6bd99c1f2f8749509bedcda59db6d65f",
       "value": 0.000339
      }
     },
     "7ac73b8396dc47b7ba51d26cda912dd2": {
      "model_module": "@jupyter-widgets/base",
      "model_module_version": "1.2.0",
      "model_name": "LayoutModel",
      "state": {}
     },
     "7b02e90275714fb5a7e6ce333c409d95": {
      "model_module": "@jupyter-widgets/controls",
      "model_module_version": "1.5.0",
      "model_name": "DescriptionStyleModel",
      "state": {
       "description_width": ""
      }
     },
     "7b812eb712f647ea8001d70073e40631": {
      "model_module": "@jupyter-widgets/controls",
      "model_module_version": "1.5.0",
      "model_name": "VBoxModel",
      "state": {
       "children": [
        "IPY_MODEL_ce3699a84e8548d4b3802c4ca5ef22b7",
        "IPY_MODEL_463789d3f3884059b24591532365fbb0"
       ],
       "layout": "IPY_MODEL_c0adecebbea3454f908fa90b5d011dec"
      }
     },
     "7bb2de5a6dc54b77967d7f4d84e06fa5": {
      "model_module": "@jupyter-widgets/controls",
      "model_module_version": "1.5.0",
      "model_name": "DescriptionStyleModel",
      "state": {
       "description_width": ""
      }
     },
     "7bed9fa9f4a344e5a267780bcdf2edc9": {
      "model_module": "@jupyter-widgets/controls",
      "model_module_version": "1.5.0",
      "model_name": "ButtonModel",
      "state": {
       "description": "Cancel",
       "layout": "IPY_MODEL_4478b0366d834fe9bae6166e7aca2f24",
       "style": "IPY_MODEL_a25f8052fbbe4dc5abbf39e760529e83"
      }
     },
     "7c074d21a00640f2b6af857aeef258df": {
      "model_module": "@jupyter-widgets/controls",
      "model_module_version": "1.5.0",
      "model_name": "DescriptionStyleModel",
      "state": {
       "description_width": "initial"
      }
     },
     "7c381ffc488446788970fd87f266eb34": {
      "model_module": "@jupyter-widgets/controls",
      "model_module_version": "1.5.0",
      "model_name": "ButtonStyleModel",
      "state": {}
     },
     "7c7dd5c228aa4395ac4952ee172028ea": {
      "model_module": "@jupyter-widgets/controls",
      "model_module_version": "1.5.0",
      "model_name": "SliderStyleModel",
      "state": {
       "description_width": ""
      }
     },
     "7cbcc9fd7fa74d1e92eda8f57f3c2670": {
      "model_module": "@jupyter-widgets/base",
      "model_module_version": "1.2.0",
      "model_name": "LayoutModel",
      "state": {}
     },
     "7ccd43fece8448d5aef265c6028939d7": {
      "model_module": "@jupyter-widgets/controls",
      "model_module_version": "1.5.0",
      "model_name": "VBoxModel",
      "state": {
       "children": [
        "IPY_MODEL_a7f47557dd0149688a59b2128095fdfe",
        "IPY_MODEL_39933ecd11344eb9988287f65f21ed77"
       ],
       "layout": "IPY_MODEL_7cbcc9fd7fa74d1e92eda8f57f3c2670"
      }
     },
     "7d2d40cc80cf4e2ab34413fa9adde35a": {
      "model_module": "@jupyter-widgets/base",
      "model_module_version": "1.2.0",
      "model_name": "LayoutModel",
      "state": {}
     },
     "7d59ea9ea91c42ae8da221f1567f9249": {
      "model_module": "@jupyter-widgets/controls",
      "model_module_version": "1.5.0",
      "model_name": "DescriptionStyleModel",
      "state": {
       "description_width": "initial"
      }
     },
     "7d69ab5f01174099a1744f81df871355": {
      "model_module": "@jupyter-widgets/controls",
      "model_module_version": "1.5.0",
      "model_name": "VBoxModel",
      "state": {
       "children": [
        "IPY_MODEL_24bc1eea5660434e875f86b24d57b459",
        "IPY_MODEL_df4caddc44e24670a25c3712b5d4cf89",
        "IPY_MODEL_d15f8ac5f7a64cbd94b78c40a883d1a8"
       ],
       "layout": "IPY_MODEL_829e5a86d08740248fbf8e9522a92050"
      }
     },
     "7d8758ea3ba44d85845348b92aa68b2c": {
      "model_module": "@jupyter-widgets/controls",
      "model_module_version": "1.5.0",
      "model_name": "DescriptionStyleModel",
      "state": {
       "description_width": ""
      }
     },
     "7eb25b5ada2741489dcbe46bc630acc4": {
      "model_module": "@jupyter-widgets/controls",
      "model_module_version": "1.5.0",
      "model_name": "ButtonModel",
      "state": {
       "description": "Create copy:",
       "layout": "IPY_MODEL_4f24e723b8ba4aabb806ad0f1f5035aa",
       "style": "IPY_MODEL_3336d4c8ea6f4acdb86e26d61382475e"
      }
     },
     "7f42525e1faf4ba391d8507acd8f71e2": {
      "model_module": "@jupyter-widgets/controls",
      "model_module_version": "1.5.0",
      "model_name": "DescriptionStyleModel",
      "state": {
       "description_width": ""
      }
     },
     "7f4d45967d8a492797804fa86455bdc3": {
      "model_module": "@jupyter-widgets/controls",
      "model_module_version": "1.5.0",
      "model_name": "VBoxModel",
      "state": {
       "children": [
        "IPY_MODEL_b7fdc87ddff4416ca3d49d22fec9860e",
        "IPY_MODEL_096f6cd6da9c4ddc940a21d5394b1944"
       ],
       "layout": "IPY_MODEL_7369bdc4ecb0421aa84e396d69d19db4"
      }
     },
     "7fa72fc7973749b6843c1cc75954f72d": {
      "model_module": "@jupyter-widgets/controls",
      "model_module_version": "1.5.0",
      "model_name": "DescriptionStyleModel",
      "state": {
       "description_width": "initial"
      }
     },
     "807117c114a9490cb48e4851aedbcb94": {
      "buffers": [
       {
        "data": "NNystj5QE0E=",
        "encoding": "base64",
        "path": [
         "_data",
         0,
         "x",
         "value"
        ]
       },
       {
        "data": "hpRPSIkrV0E=",
        "encoding": "base64",
        "path": [
         "_data",
         0,
         "y",
         "value"
        ]
       },
       {
        "data": "cYWGrJzZckA=",
        "encoding": "base64",
        "path": [
         "_data",
         0,
         "z",
         "value"
        ]
       },
       {
        "data": "iF8++lBIE0GIXz76UEgTQYhfPvpQSBNBiF8++lBIE0GIXz76UEgTQXBvOHHuSRNBiF8++lBIE0E03Ky2PlATQSjkKXINURNBiF8++lBIE0GIXz76UEgTQSjkKXINURNBiF8++lBIE0GIXz76UEgTQRzspi3cURNBiF8++lBIE0GIXz76UEgTQYhfPvpQSBNBiF8++lBIE0GIXz76UEgTQYhfPvpQSBNBiF8++lBIE0GIXz76UEgTQdydddhHTBNB3J112EdME0HQpfKTFk0TQcStb0/lTRNBxK1vT+VNE0HQpfKTFk0TQYhfPvpQSBNBEPQj6apSE0GIXz76UEgTQYhfPvpQSBNBiF8++lBIE0GIXz76UEgTQYhfPvpQSBNBiF8++lBIE0GIXz76UEgTQYhfPvpQSBNBiF8++lBIE0Fwbzhx7kkTQXBvOHHuSRNBcG84ce5JE0GIXz76UEgTQYhfPvpQSBNBiF8++lBIE0GIXz76UEgTQYhfPvpQSBNB",
        "encoding": "base64",
        "path": [
         "_data",
         1,
         "x",
         "value"
        ]
       },
       {
        "data": "sz4YHFsrV0GzPhgcWytXQbM+GBxbK1dBsz4YHFsrV0GzPhgcWytXQceg6oNkK1dBsz4YHFsrV0GGlE9IiStXQZDFOPyNK1dBsz4YHFsrV0GzPhgcWytXQZDFOPyNK1dBsz4YHFsrV0GzPhgcWytXQZr2IbCSK1dBsz4YHFsrV0GzPhgcWytXQbM+GBxbK1dBsz4YHFsrV0GzPhgcWytXQbM+GBxbK1dBsz4YHFsrV0GzPhgcWytXQZ3pMzJyK1dBnekzMnIrV0GnGh3mditXQbBLBpp7K1dBsEsGmnsrV0GnGh3mditXQbM+GBxbK1dBoycLZJcrV0GzPhgcWytXQbM+GBxbK1dBsz4YHFsrV0GzPhgcWytXQbM+GBxbK1dBsz4YHFsrV0GzPhgcWytXQbM+GBxbK1dBsz4YHFsrV0HHoOqDZCtXQceg6oNkK1dBx6Dqg2QrV0GzPhgcWytXQbM+GBxbK1dBsz4YHFsrV0GzPhgcWytXQbM+GBxbK1dB",
        "encoding": "base64",
        "path": [
         "_data",
         1,
         "y",
         "value"
        ]
       },
       {
        "data": "AAAAAACQckAAAAAAAJByQAAAAAAAkHJAAAAAAACQckAAAAAAAJByQAAAAAAAkHJAAAAAAACQckBxhYasnNlyQH7RLKyk1nJAAAAAAACQckAAAAAAAJByQH7RLKyk1nJAAAAAAACQckAAAAAAAJByQFliUsGfzXJAAAAAAACQckAAAAAAAJByQAAAAAAAkHJAAAAAAACQckAAAAAAAJByQAAAAAAAkHJAAAAAAACQckAAAAAAAJByQEhZK/8YmXJASFkr/xiZckDHy/zH+alyQDjZySocvHJAONnJKhy8ckDHy/zH+alyQAAAAAAAkHJA/cJW5pbDckAAAAAAAJByQAAAAAAAkHJAAAAAAACQckAAAAAAAJByQAAAAAAAkHJAAAAAAACQckAAAAAAAJByQAAAAAAAkHJAAAAAAACQckAAAAAAAJByQAAAAAAAkHJAAAAAAACQckAAAAAAAJByQAAAAAAAkHJAAAAAAACQckAAAAAAAJByQAAAAAAAkHJA",
        "encoding": "base64",
        "path": [
         "_data",
         1,
         "z",
         "value"
        ]
       },
       {
        "data": "22HRbfVwUEBMW9Ft9XBQQNth0W31cFBAr2HRbfVwUEBp/9Bt9XBQQB9b0W31cFDA+kYTn1aDVkA+9gHuFcTMP52cNQdvR1NACWTRbfVwUEA7KTUHb0dTQBfMXcm6OVVAy85dybo5VUCmXdFt9XBQQM1f0W31cFBAq2zQYwh+V0Bn489jCH5XQCfdz2MIfldAmP3QbfVwUEAEdtBjCH5XQMYmNQdvR1PAfccTn1aDVkBH4M9jCH5XQEfgz2MIfldAnWzQYwh+V0AkedBjCH5XQNpy0GMIfldAum/QYwh+V0AkedBjCH5XQO9AE59Wg1ZApac/X1lAV0DGb9BjCH5XQO5JE59Wg1bAOZ81B29HU8Cm6c9jCH5XQIbmz2MIfldAiWnQYwh+V0DE7M9jCH5XQITmz2MIfldAR+DPYwh+V0CGadBjCH5XQORy0GMIfldAhObPYwh+V0DoctBjCH5XQGfjz2MIfldAR+DPYwh+V0Cm6c9jCH5XQEfgz2MIfldA",
        "encoding": "base64",
        "path": [
         "_data",
         1,
         "u",
         "value"
        ]
       },
       {
        "data": "MVmdJL7vN0BJoZ0kvu83QDFZnSS+7zdA8lidJL7vN0D4kKEkvu83QByhnSS+7zfAR7bDAl5jQECDDQ+wnfC0P9zhZ2JnETxAPEGdJL7vN0AI02xiZxE8QIYbVQfd5j5Az/tUB93mPkCUiZ0kvu83QOhxnSS+7zdAyJ0Km9sZQUAQkA2b2xlBQGeyDZvbGUFANqmhJL7vN0Btagqb2xlBQHnvbGJnETzAzvPAAl5jQEA7oQ2b2xlBQDuhDZvbGUFAGJ4Km9sZQUBCWQqb2xlBQM17CpvbGUFA+YwKm9sZQUBCWQqb2xlBQDLXwwJeY0BAsqBMr/TsQEC3jAqb2xlBQMalwwJeY0DAL8VnYmcRPMC5bQ2b2xlBQOV+DZvbGUFAAK8Km9sZQUCaXA2b2xlBQPJ+DZvbGUFAO6ENm9sZQUAOrwqb2xlBQJl7CpvbGUFA8n4Nm9sZQUB+ewqb2xlBQBCQDZvbGUFAO6ENm9sZQUC5bQ2b2xlBQDuhDZvbGUFA",
        "encoding": "base64",
        "path": [
         "_data",
         1,
         "v",
         "value"
        ]
       },
       {
        "data": "shUUXmrbUcCyFRReattRwLIVFF5q21HA3xUUXmrbUcDfFRReattRwN8VFF5q21HA4ru5yUOSPMCqhIJQ+/9YwOK7uclDkkzAshUUXmrbUcCYvLnJQ5JMwLtMS9eybUXAc01L17JtRcCFFRReattRwIUVFF5q21HAAAAAAAAAAIAAAAAAAAAAgAAAAAAAAACAhRUUXmrbUcAAAAAAAAAAgD28uclDkkzAm7y5yUOSPMAAAAAAAAAAgAAAAAAAAACAAAAAAAAAAIAAAAAAAAAAgAAAAAAAAACAAAAAAAAAAIAAAAAAAAAAgJu8uclDkjzAvLm5yUOSLMAAAAAAAAAAgJu8uclDkjzA4ru5yUOSTMAAAAAAAAAAgAAAAAAAAACAAAAAAAAAAIAAAAAAAAAAgAAAAAAAAACAAAAAAAAAAIAAAAAAAAAAgAAAAAAAAACAAAAAAAAAAIAAAAAAAAAAgAAAAAAAAACAAAAAAAAAAIAAAAAAAAAAgAAAAAAAAACA",
        "encoding": "base64",
        "path": [
         "_data",
         1,
         "w",
         "value"
        ]
       },
       {
        "data": "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",
        "encoding": "base64",
        "path": [
         "_data",
         2,
         "x",
         "value"
        ]
       },
       {
        "data": "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",
        "encoding": "base64",
        "path": [
         "_data",
         2,
         "y",
         "value"
        ]
       },
       {
        "data": "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",
        "encoding": "base64",
        "path": [
         "_data",
         2,
         "z",
         "value"
        ]
       },
       {
        "data": "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",
        "encoding": "base64",
        "path": [
         "_data",
         2,
         "intensity",
         "value"
        ]
       },
       {
        "data": "mpmZmRlOE0HNzMzM7E0TQTMzMzO/TRNBZmZmZrBNE0E=",
        "encoding": "base64",
        "path": [
         "_data",
         3,
         "x",
         "value"
        ]
       },
       {
        "data": "AAAAgHwrV0EAAAAAfStXQQAAAEB9K1dBAAAAgH0rV0E=",
        "encoding": "base64",
        "path": [
         "_data",
         3,
         "y",
         "value"
        ]
       },
       {
        "data": "liGOdXGVYsBuowG8BQhkwC/dJAaBg2XAAAAAAAD8ZcA=",
        "encoding": "base64",
        "path": [
         "_data",
         3,
         "z",
         "value"
        ]
       },
       {
        "data": "AAAAgOvRLUAAAACA61EuQAAAAEDheilAAAAAwMzMLUA=",
        "encoding": "base64",
        "path": [
         "_data",
         3,
         "marker",
         "color",
         "value"
        ]
       }
      ],
      "model_module": "plotlywidget",
      "model_module_version": "^4.9.0",
      "model_name": "FigureModel",
      "state": {
       "_config": {
        "plotlyServerURL": "https://plot.ly"
       },
       "_data": [
        {
         "marker": {
          "color": "red",
          "size": 10,
          "symbol": "diamond"
         },
         "mode": "markers",
         "type": "scatter3d",
         "uid": "7fa9bf6e-47da-4df2-badd-c84064f8f55c",
         "x": {
          "dtype": "float64",
          "shape": [
           1
          ],
          "value": {}
         },
         "y": {
          "dtype": "float64",
          "shape": [
           1
          ],
          "value": {}
         },
         "z": {
          "dtype": "float64",
          "shape": [
           1
          ],
          "value": {}
         }
        },
        {
         "colorscale": [
          [
           0,
           "rgb(0,0,0)"
          ],
          [
           1,
           "rgb(0,0,0)"
          ]
         ],
         "showscale": false,
         "type": "cone",
         "u": {
          "dtype": "float64",
          "shape": [
           48
          ],
          "value": {}
         },
         "uid": "34a9c501-14e2-4b79-b2ae-3598f80d7d11",
         "v": {
          "dtype": "float64",
          "shape": [
           48
          ],
          "value": {}
         },
         "w": {
          "dtype": "float64",
          "shape": [
           48
          ],
          "value": {}
         },
         "x": {
          "dtype": "float64",
          "shape": [
           48
          ],
          "value": {}
         },
         "y": {
          "dtype": "float64",
          "shape": [
           48
          ],
          "value": {}
         },
         "z": {
          "dtype": "float64",
          "shape": [
           48
          ],
          "value": {}
         }
        },
        {
         "cmax": -1.6020599913279623,
         "cmin": -4,
         "colorscale": [
          [
           0,
           "#313131"
          ],
          [
           0.0625,
           "#3d019d"
          ],
          [
           0.125,
           "#3810dc"
          ],
          [
           0.1875,
           "#2d47f9"
          ],
          [
           0.25,
           "#2593ff"
          ],
          [
           0.3125,
           "#2adef6"
          ],
          [
           0.375,
           "#60fdfa"
          ],
          [
           0.4375,
           "#aefdff"
          ],
          [
           0.5,
           "#f3f3f1"
          ],
          [
           0.5625,
           "#fffda9"
          ],
          [
           0.625,
           "#fafd5b"
          ],
          [
           0.6875,
           "#f7da29"
          ],
          [
           0.75,
           "#ff8e25"
          ],
          [
           0.8125,
           "#f8432d"
          ],
          [
           0.875,
           "#d90d39"
          ],
          [
           0.9375,
           "#97023d"
          ],
          [
           1,
           "#313131"
          ]
         ],
         "i": [
          301,
          148,
          275,
          276,
          324,
          274,
          309,
          198,
          196,
          121,
          146,
          121,
          171,
          171,
          197,
          196,
          297,
          347,
          296,
          323,
          298,
          322,
          298,
          246,
          245,
          221,
          221,
          248,
          247,
          221,
          368,
          341,
          316,
          315,
          346,
          322,
          346,
          345,
          369,
          219,
          245,
          173,
          173,
          147,
          173,
          198,
          199,
          173,
          223,
          223,
          197,
          198,
          248,
          223,
          196,
          195,
          221,
          195,
          359,
          226,
          327,
          329,
          329,
          168,
          145,
          171,
          145,
          146,
          149,
          123,
          157,
          156,
          373,
          319,
          318,
          345,
          320,
          319,
          369,
          344,
          320,
          344,
          344,
          269,
          270,
          270,
          245,
          298,
          273,
          273,
          273,
          363,
          364,
          340,
          340,
          340,
          335,
          310,
          362,
          312,
          361,
          337,
          313,
          337,
          313,
          311,
          311,
          335,
          341,
          367,
          342,
          366,
          342,
          318,
          342,
          316,
          291,
          315,
          346,
          372,
          371,
          219,
          218,
          191,
          218,
          192,
          193,
          192,
          192,
          191,
          166,
          194,
          195,
          219,
          194,
          168,
          194,
          333,
          332,
          358,
          333,
          356,
          175,
          201,
          183,
          155,
          176,
          176,
          201,
          216,
          214,
          301,
          325,
          352,
          353,
          302,
          302,
          326,
          305,
          281,
          252,
          277,
          276,
          277,
          281,
          280,
          306,
          282,
          329,
          354,
          354,
          166,
          141,
          122,
          147,
          122,
          144,
          145,
          169,
          144,
          112,
          134,
          135,
          159,
          133,
          159,
          100,
          127,
          152,
          126,
          127,
          130,
          155,
          105,
          105,
          130,
          102,
          129,
          103,
          348,
          348,
          373,
          348,
          324,
          349,
          318,
          268,
          292,
          293,
          293,
          293,
          270,
          320,
          296,
          295,
          295,
          295,
          242,
          269,
          268,
          242,
          243,
          218,
          243,
          272,
          272,
          296,
          273,
          246,
          247,
          339,
          363,
          339,
          314,
          315,
          340,
          335,
          361,
          360,
          288,
          267,
          291,
          267,
          135,
          161,
          188,
          331,
          330,
          356,
          306,
          331,
          331,
          206,
          205,
          157,
          183,
          154,
          154,
          128,
          129,
          151,
          151,
          125,
          126,
          178,
          251,
          251,
          251,
          252,
          225,
          226,
          228,
          254,
          255,
          280,
          326,
          351,
          352,
          304,
          329,
          303,
          304,
          333,
          307,
          308,
          257,
          257,
          257,
          231,
          144,
          118,
          168,
          143,
          136,
          111,
          132,
          133,
          157,
          132,
          106,
          132,
          108,
          134,
          133,
          185,
          101,
          127,
          101,
          262,
          314,
          313,
          288,
          285,
          267,
          242,
          215,
          216,
          289,
          214,
          188,
          163,
          138,
          230,
          230,
          230,
          205,
          230,
          255,
          206,
          181,
          181,
          182,
          181,
          155,
          178,
          179,
          205,
          179,
          154,
          179,
          203,
          203,
          229,
          228,
          176,
          177,
          203,
          178,
          177,
          151,
          228,
          227,
          201,
          227,
          252,
          227,
          304,
          279,
          255,
          279,
          234,
          209,
          234,
          265,
          239,
          214,
          211,
          185,
          258,
          257,
          232,
          233,
          232,
          206,
          143,
          141,
          142,
          142,
          110,
          135,
          110,
          139,
          165,
          112,
          113,
          139,
          115,
          114,
          235,
          261,
          285,
          284,
          308,
          288,
          287,
          287,
          311,
          266,
          266,
          241,
          266,
          266,
          265,
          190,
          189,
          216,
          190,
          162,
          163,
          162,
          162,
          278,
          254,
          279,
          278,
          302,
          277,
          209,
          182,
          208,
          208,
          208,
          208,
          184,
          209,
          184,
          185,
          184,
          159,
          237,
          239,
          238,
          212,
          264,
          264,
          238,
          264,
          264,
          264,
          187,
          212,
          162,
          187,
          164,
          163,
          164,
          139,
          190,
          164,
          115,
          142,
          116,
          262,
          261,
          236,
          236,
          210,
          211,
          284,
          259,
          259,
          234,
          258,
          283,
          259,
          283,
          282,
          283,
          261,
          286,
          286,
          287,
          286,
          285,
          187,
          161,
          186,
          186,
          211,
          186,
          119,
          95,
          95,
          96,
          123,
          123,
          118,
          92,
          119,
          118,
          69,
          95,
          93,
          68,
          44,
          44,
          19,
          44,
          70,
          69,
          44,
          43,
          43,
          17,
          73,
          73,
          73,
          98,
          20,
          21,
          97,
          96,
          71,
          71,
          71,
          71,
          71,
          46,
          96,
          122,
          123,
          98,
          65,
          39,
          41,
          65,
          92,
          67,
          67,
          43,
          41,
          67,
          105,
          79,
          81,
          105,
          103,
          79,
          103,
          77,
          28,
          27,
          27,
          27,
          26,
          1,
          22,
          46,
          74,
          73,
          48,
          47,
          49,
          48,
          22,
          48,
          112,
          87,
          62,
          61,
          38,
          63,
          84,
          108,
          60,
          85,
          33,
          57,
          82,
          83,
          56,
          82,
          108,
          82,
          81,
          106,
          29,
          4,
          30,
          29,
          16,
          16,
          16,
          41,
          39,
          40,
          38,
          14,
          84,
          110,
          111,
          110,
          33,
          59,
          59,
          59,
          59,
          84,
          60,
          61,
          35,
          59,
          53,
          79,
          77,
          52,
          29,
          53,
          53,
          53,
          51,
          51,
          27,
          52,
          57,
          56,
          79,
          55,
          55,
          55,
          55,
          29,
          55,
          31,
          6,
          6,
          31,
          6,
          88,
          88,
          62,
          88,
          12,
          37,
          38,
          37,
          37,
          37,
          37,
          62,
          51,
          50,
          76,
          76,
          76,
          76,
          76,
          101,
          35,
          36,
          10,
          9,
          8,
          7,
          33,
          8,
          89,
          89,
          88,
          113,
          91,
          67,
          91,
          116,
          65,
          90,
          90,
          91,
          89,
          90,
          90,
          90
         ],
         "intensity": {
          "dtype": "float64",
          "shape": [
           375
          ],
          "value": {}
         },
         "j": [
          325,
          149,
          276,
          301,
          323,
          248,
          310,
          197,
          197,
          146,
          147,
          147,
          146,
          196,
          171,
          171,
          322,
          322,
          297,
          298,
          274,
          298,
          322,
          245,
          246,
          246,
          196,
          247,
          221,
          247,
          367,
          316,
          292,
          314,
          345,
          346,
          322,
          346,
          345,
          245,
          219,
          198,
          148,
          173,
          147,
          199,
          173,
          199,
          198,
          248,
          223,
          223,
          223,
          224,
          195,
          221,
          195,
          169,
          358,
          225,
          303,
          305,
          353,
          193,
          171,
          145,
          119,
          145,
          123,
          149,
          156,
          130,
          349,
          318,
          319,
          320,
          296,
          344,
          344,
          320,
          344,
          369,
          368,
          270,
          245,
          269,
          270,
          273,
          248,
          298,
          247,
          362,
          340,
          341,
          316,
          315,
          359,
          335,
          337,
          337,
          337,
          361,
          314,
          313,
          337,
          312,
          335,
          311,
          366,
          342,
          341,
          342,
          366,
          342,
          318,
          291,
          315,
          291,
          371,
          371,
          346,
          218,
          219,
          192,
          192,
          218,
          192,
          166,
          191,
          165,
          165,
          219,
          194,
          194,
          195,
          194,
          168,
          358,
          333,
          333,
          309,
          332,
          201,
          226,
          157,
          130,
          175,
          201,
          176,
          191,
          215,
          326,
          326,
          327,
          352,
          303,
          326,
          302,
          306,
          306,
          277,
          252,
          277,
          302,
          280,
          281,
          282,
          306,
          354,
          330,
          329,
          141,
          166,
          147,
          122,
          123,
          118,
          144,
          144,
          145,
          138,
          135,
          134,
          134,
          159,
          133,
          126,
          128,
          127,
          127,
          102,
          129,
          129,
          130,
          106,
          105,
          103,
          103,
          129,
          373,
          372,
          348,
          347,
          348,
          348,
          293,
          293,
          293,
          318,
          269,
          268,
          295,
          295,
          295,
          270,
          319,
          320,
          216,
          243,
          243,
          243,
          218,
          243,
          242,
          273,
          296,
          272,
          272,
          272,
          272,
          340,
          339,
          363,
          339,
          339,
          339,
          360,
          360,
          335,
          313,
          268,
          267,
          242,
          161,
          135,
          214,
          356,
          331,
          331,
          331,
          307,
          306,
          205,
          206,
          182,
          182,
          155,
          129,
          154,
          154,
          176,
          126,
          151,
          151,
          152,
          252,
          275,
          276,
          251,
          251,
          251,
          254,
          228,
          254,
          255,
          351,
          326,
          351,
          280,
          304,
          304,
          329,
          308,
          308,
          333,
          281,
          282,
          258,
          257,
          143,
          143,
          143,
          144,
          111,
          112,
          157,
          132,
          132,
          133,
          132,
          106,
          133,
          108,
          108,
          159,
          126,
          101,
          127,
          237,
          289,
          289,
          289,
          310,
          241,
          241,
          241,
          241,
          265,
          189,
          189,
          189,
          163,
          205,
          255,
          229,
          230,
          231,
          230,
          181,
          182,
          206,
          181,
          155,
          181,
          179,
          205,
          179,
          154,
          179,
          178,
          178,
          228,
          203,
          203,
          177,
          203,
          177,
          177,
          151,
          177,
          227,
          201,
          227,
          252,
          227,
          228,
          279,
          255,
          279,
          304,
          235,
          210,
          209,
          239,
          214,
          239,
          212,
          211,
          232,
          232,
          257,
          232,
          206,
          232,
          142,
          142,
          168,
          143,
          135,
          110,
          111,
          114,
          139,
          113,
          139,
          113,
          141,
          115,
          261,
          285,
          284,
          285,
          284,
          287,
          262,
          288,
          287,
          241,
          267,
          266,
          265,
          291,
          266,
          165,
          190,
          190,
          216,
          163,
          162,
          136,
          161,
          277,
          278,
          278,
          279,
          278,
          278,
          208,
          208,
          182,
          233,
          234,
          209,
          185,
          184,
          209,
          184,
          183,
          184,
          238,
          238,
          212,
          238,
          239,
          265,
          264,
          238,
          288,
          289,
          188,
          187,
          187,
          162,
          139,
          164,
          163,
          164,
          164,
          190,
          116,
          116,
          142,
          236,
          236,
          261,
          211,
          236,
          236,
          259,
          234,
          258,
          259,
          283,
          284,
          283,
          259,
          283,
          308,
          286,
          287,
          261,
          286,
          311,
          286,
          186,
          186,
          185,
          211,
          186,
          187,
          95,
          119,
          96,
          121,
          99,
          98,
          92,
          118,
          118,
          93,
          95,
          69,
          69,
          69,
          19,
          20,
          44,
          43,
          44,
          44,
          69,
          44,
          17,
          43,
          98,
          97,
          74,
          73,
          46,
          46,
          71,
          71,
          96,
          95,
          47,
          46,
          70,
          71,
          122,
          96,
          122,
          122,
          39,
          65,
          65,
          41,
          67,
          68,
          43,
          67,
          67,
          41,
          79,
          105,
          105,
          81,
          79,
          103,
          77,
          103,
          27,
          2,
          1,
          26,
          25,
          25,
          46,
          22,
          48,
          48,
          73,
          48,
          48,
          23,
          48,
          22,
          111,
          111,
          87,
          62,
          39,
          38,
          108,
          84,
          61,
          60,
          57,
          33,
          57,
          82,
          82,
          56,
          82,
          108,
          82,
          82,
          28,
          29,
          29,
          4,
          41,
          40,
          17,
          16,
          14,
          14,
          14,
          38,
          110,
          84,
          110,
          85,
          59,
          33,
          84,
          83,
          60,
          59,
          35,
          35,
          59,
          35,
          79,
          53,
          53,
          53,
          53,
          29,
          27,
          52,
          25,
          50,
          51,
          51,
          31,
          31,
          55,
          79,
          81,
          56,
          29,
          55,
          31,
          55,
          30,
          31,
          6,
          7,
          112,
          113,
          88,
          62,
          37,
          36,
          37,
          12,
          62,
          61,
          38,
          37,
          76,
          76,
          52,
          51,
          100,
          101,
          77,
          76,
          10,
          10,
          35,
          10,
          33,
          8,
          8,
          9,
          63,
          88,
          89,
          89,
          67,
          91,
          92,
          91,
          90,
          89,
          65,
          90,
          90,
          115,
          91,
          116
         ],
         "k": [
          300,
          174,
          300,
          300,
          299,
          249,
          334,
          172,
          222,
          120,
          172,
          146,
          172,
          170,
          172,
          197,
          321,
          323,
          321,
          299,
          299,
          323,
          297,
          220,
          271,
          220,
          222,
          222,
          222,
          246,
          343,
          317,
          317,
          290,
          321,
          321,
          347,
          370,
          370,
          244,
          220,
          172,
          174,
          172,
          148,
          224,
          174,
          198,
          224,
          222,
          222,
          197,
          249,
          249,
          170,
          220,
          196,
          170,
          334,
          200,
          328,
          330,
          328,
          167,
          170,
          146,
          120,
          120,
          124,
          148,
          131,
          131,
          374,
          294,
          343,
          321,
          321,
          343,
          345,
          345,
          319,
          368,
          343,
          294,
          271,
          244,
          244,
          274,
          274,
          297,
          248,
          338,
          365,
          365,
          341,
          316,
          334,
          334,
          338,
          336,
          362,
          336,
          338,
          338,
          312,
          336,
          310,
          336,
          365,
          343,
          317,
          367,
          341,
          317,
          343,
          292,
          290,
          316,
          370,
          347,
          347,
          193,
          244,
          217,
          193,
          217,
          167,
          167,
          166,
          166,
          140,
          193,
          169,
          220,
          220,
          193,
          169,
          357,
          357,
          334,
          334,
          357,
          200,
          200,
          158,
          156,
          150,
          175,
          202,
          217,
          240,
          325,
          350,
          328,
          328,
          327,
          301,
          327,
          330,
          305,
          276,
          253,
          301,
          301,
          256,
          305,
          307,
          281,
          353,
          355,
          330,
          167,
          140,
          121,
          148,
          148,
          119,
          119,
          170,
          170,
          137,
          160,
          109,
          160,
          158,
          134,
          125,
          153,
          153,
          152,
          128,
          104,
          130,
          104,
          131,
          131,
          128,
          104,
          128,
          372,
          347,
          349,
          323,
          323,
          324,
          294,
          292,
          317,
          317,
          294,
          269,
          294,
          296,
          271,
          271,
          294,
          319,
          217,
          244,
          269,
          268,
          244,
          217,
          217,
          297,
          271,
          297,
          247,
          271,
          246,
          364,
          364,
          338,
          338,
          314,
          315,
          359,
          336,
          336,
          312,
          292,
          292,
          268,
          160,
          136,
          213,
          355,
          355,
          332,
          330,
          332,
          307,
          180,
          231,
          156,
          157,
          180,
          155,
          153,
          128,
          150,
          152,
          150,
          125,
          153,
          276,
          250,
          275,
          226,
          250,
          225,
          253,
          229,
          229,
          256,
          350,
          327,
          327,
          305,
          305,
          328,
          328,
          309,
          332,
          332,
          256,
          281,
          282,
          256,
          118,
          117,
          169,
          169,
          137,
          137,
          131,
          107,
          158,
          158,
          131,
          107,
          107,
          109,
          134,
          160,
          100,
          102,
          126,
          263,
          290,
          314,
          313,
          309,
          242,
          216,
          240,
          215,
          290,
          215,
          214,
          188,
          137,
          231,
          229,
          204,
          204,
          256,
          256,
          207,
          207,
          180,
          156,
          156,
          180,
          204,
          204,
          180,
          180,
          153,
          153,
          204,
          202,
          204,
          229,
          202,
          202,
          178,
          152,
          152,
          176,
          202,
          202,
          226,
          226,
          253,
          253,
          280,
          280,
          254,
          303,
          260,
          235,
          235,
          240,
          240,
          213,
          237,
          210,
          233,
          258,
          231,
          207,
          207,
          231,
          117,
          167,
          167,
          168,
          109,
          136,
          136,
          140,
          140,
          138,
          138,
          114,
          140,
          140,
          260,
          260,
          260,
          309,
          309,
          263,
          263,
          312,
          312,
          267,
          291,
          240,
          240,
          290,
          290,
          191,
          215,
          191,
          215,
          188,
          137,
          137,
          136,
          253,
          253,
          254,
          303,
          303,
          302,
          183,
          207,
          183,
          207,
          233,
          234,
          210,
          210,
          183,
          159,
          158,
          158,
          263,
          213,
          213,
          237,
          265,
          289,
          263,
          239,
          263,
          288,
          213,
          213,
          161,
          188,
          165,
          189,
          138,
          138,
          165,
          189,
          141,
          117,
          141,
          237,
          262,
          235,
          237,
          235,
          210,
          260,
          260,
          233,
          233,
          282,
          308,
          258,
          284,
          307,
          307,
          285,
          311,
          262,
          262,
          310,
          310,
          161,
          160,
          160,
          185,
          212,
          212,
          120,
          94,
          120,
          120,
          124,
          99,
          93,
          117,
          94,
          94,
          94,
          70,
          94,
          93,
          20,
          45,
          18,
          18,
          45,
          70,
          68,
          68,
          18,
          42,
          97,
          72,
          99,
          99,
          45,
          20,
          72,
          97,
          95,
          70,
          72,
          47,
          45,
          45,
          121,
          97,
          98,
          97,
          40,
          64,
          40,
          66,
          93,
          93,
          68,
          42,
          66,
          42,
          80,
          104,
          80,
          106,
          104,
          78,
          78,
          102,
          3,
          3,
          2,
          1,
          1,
          0,
          21,
          47,
          49,
          74,
          72,
          72,
          24,
          24,
          47,
          23,
          87,
          86,
          86,
          86,
          64,
          64,
          83,
          109,
          86,
          86,
          32,
          58,
          58,
          58,
          81,
          57,
          83,
          107,
          106,
          107,
          3,
          3,
          5,
          5,
          40,
          15,
          42,
          42,
          40,
          15,
          39,
          13,
          109,
          85,
          86,
          86,
          58,
          34,
          83,
          58,
          85,
          85,
          61,
          36,
          34,
          60,
          78,
          54,
          78,
          77,
          28,
          54,
          28,
          27,
          26,
          25,
          26,
          27,
          32,
          57,
          80,
          54,
          80,
          81,
          30,
          54,
          56,
          30,
          5,
          30,
          32,
          32,
          87,
          112,
          87,
          63,
          11,
          11,
          13,
          13,
          61,
          36,
          63,
          63,
          50,
          75,
          77,
          52,
          75,
          100,
          102,
          102,
          36,
          11,
          34,
          34,
          32,
          32,
          34,
          34,
          64,
          63,
          113,
          114,
          92,
          66,
          117,
          117,
          64,
          64,
          66,
          66,
          114,
          114,
          116,
          115
         ],
         "opacity": 0.9,
         "type": "mesh3d",
         "uid": "ac627a29-e609-4128-bb3b-cb25cd2b43f9",
         "x": {
          "dtype": "float64",
          "shape": [
           375
          ],
          "value": {}
         },
         "y": {
          "dtype": "float64",
          "shape": [
           375
          ],
          "value": {}
         },
         "z": {
          "dtype": "float64",
          "shape": [
           375
          ],
          "value": {}
         }
        },
        {
         "marker": {
          "color": {
           "dtype": "float64",
           "shape": [
            4
           ],
           "value": {}
          },
          "size": 3
         },
         "mode": "markers",
         "type": "scatter3d",
         "uid": "c4f256c0-fe1a-439c-b901-a85dc9662e83",
         "visible": true,
         "x": {
          "dtype": "float64",
          "shape": [
           4
          ],
          "value": {}
         },
         "y": {
          "dtype": "float64",
          "shape": [
           4
          ],
          "value": {}
         },
         "z": {
          "dtype": "float64",
          "shape": [
           4
          ],
          "value": {}
         }
        }
       ],
       "_js2py_restyle": {},
       "_js2py_update": {},
       "_last_layout_edit_id": 73,
       "_last_trace_edit_id": 70,
       "_layout": {
        "autosize": false,
        "height": 500,
        "scene": {
         "aspectmode": "data",
         "camera": {
          "center": {
           "x": 0,
           "y": 0,
           "z": 0
          },
          "eye": {
           "x": -0.3490376377625563,
           "y": 1.1352785463026673,
           "z": -0.006291481597786995
          },
          "projection": {
           "type": "perspective"
          },
          "up": {
           "x": 0,
           "y": 0,
           "z": 1
          }
         },
         "xaxis": {
          "autorange": "reversed",
          "title": {
           "text": "Easting (m)"
          }
         },
         "yaxis": {
          "autorange": "reversed",
          "title": {
           "text": "Northing (m)"
          }
         },
         "zaxis": {
          "title": {
           "text": "Elevation (m)"
          }
         }
        },
        "template": {
         "data": {
          "bar": [
           {
            "error_x": {
             "color": "#2a3f5f"
            },
            "error_y": {
             "color": "#2a3f5f"
            },
            "marker": {
             "line": {
              "color": "#E5ECF6",
              "width": 0.5
             }
            },
            "type": "bar"
           }
          ],
          "barpolar": [
           {
            "marker": {
             "line": {
              "color": "#E5ECF6",
              "width": 0.5
             }
            },
            "type": "barpolar"
           }
          ],
          "carpet": [
           {
            "aaxis": {
             "endlinecolor": "#2a3f5f",
             "gridcolor": "white",
             "linecolor": "white",
             "minorgridcolor": "white",
             "startlinecolor": "#2a3f5f"
            },
            "baxis": {
             "endlinecolor": "#2a3f5f",
             "gridcolor": "white",
             "linecolor": "white",
             "minorgridcolor": "white",
             "startlinecolor": "#2a3f5f"
            },
            "type": "carpet"
           }
          ],
          "choropleth": [
           {
            "colorbar": {
             "outlinewidth": 0,
             "ticks": ""
            },
            "type": "choropleth"
           }
          ],
          "contour": [
           {
            "colorbar": {
             "outlinewidth": 0,
             "ticks": ""
            },
            "colorscale": [
             [
              0,
              "#0d0887"
             ],
             [
              0.1111111111111111,
              "#46039f"
             ],
             [
              0.2222222222222222,
              "#7201a8"
             ],
             [
              0.3333333333333333,
              "#9c179e"
             ],
             [
              0.4444444444444444,
              "#bd3786"
             ],
             [
              0.5555555555555556,
              "#d8576b"
             ],
             [
              0.6666666666666666,
              "#ed7953"
             ],
             [
              0.7777777777777778,
              "#fb9f3a"
             ],
             [
              0.8888888888888888,
              "#fdca26"
             ],
             [
              1,
              "#f0f921"
             ]
            ],
            "type": "contour"
           }
          ],
          "contourcarpet": [
           {
            "colorbar": {
             "outlinewidth": 0,
             "ticks": ""
            },
            "type": "contourcarpet"
           }
          ],
          "heatmap": [
           {
            "colorbar": {
             "outlinewidth": 0,
             "ticks": ""
            },
            "colorscale": [
             [
              0,
              "#0d0887"
             ],
             [
              0.1111111111111111,
              "#46039f"
             ],
             [
              0.2222222222222222,
              "#7201a8"
             ],
             [
              0.3333333333333333,
              "#9c179e"
             ],
             [
              0.4444444444444444,
              "#bd3786"
             ],
             [
              0.5555555555555556,
              "#d8576b"
             ],
             [
              0.6666666666666666,
              "#ed7953"
             ],
             [
              0.7777777777777778,
              "#fb9f3a"
             ],
             [
              0.8888888888888888,
              "#fdca26"
             ],
             [
              1,
              "#f0f921"
             ]
            ],
            "type": "heatmap"
           }
          ],
          "heatmapgl": [
           {
            "colorbar": {
             "outlinewidth": 0,
             "ticks": ""
            },
            "colorscale": [
             [
              0,
              "#0d0887"
             ],
             [
              0.1111111111111111,
              "#46039f"
             ],
             [
              0.2222222222222222,
              "#7201a8"
             ],
             [
              0.3333333333333333,
              "#9c179e"
             ],
             [
              0.4444444444444444,
              "#bd3786"
             ],
             [
              0.5555555555555556,
              "#d8576b"
             ],
             [
              0.6666666666666666,
              "#ed7953"
             ],
             [
              0.7777777777777778,
              "#fb9f3a"
             ],
             [
              0.8888888888888888,
              "#fdca26"
             ],
             [
              1,
              "#f0f921"
             ]
            ],
            "type": "heatmapgl"
           }
          ],
          "histogram": [
           {
            "marker": {
             "colorbar": {
              "outlinewidth": 0,
              "ticks": ""
             }
            },
            "type": "histogram"
           }
          ],
          "histogram2d": [
           {
            "colorbar": {
             "outlinewidth": 0,
             "ticks": ""
            },
            "colorscale": [
             [
              0,
              "#0d0887"
             ],
             [
              0.1111111111111111,
              "#46039f"
             ],
             [
              0.2222222222222222,
              "#7201a8"
             ],
             [
              0.3333333333333333,
              "#9c179e"
             ],
             [
              0.4444444444444444,
              "#bd3786"
             ],
             [
              0.5555555555555556,
              "#d8576b"
             ],
             [
              0.6666666666666666,
              "#ed7953"
             ],
             [
              0.7777777777777778,
              "#fb9f3a"
             ],
             [
              0.8888888888888888,
              "#fdca26"
             ],
             [
              1,
              "#f0f921"
             ]
            ],
            "type": "histogram2d"
           }
          ],
          "histogram2dcontour": [
           {
            "colorbar": {
             "outlinewidth": 0,
             "ticks": ""
            },
            "colorscale": [
             [
              0,
              "#0d0887"
             ],
             [
              0.1111111111111111,
              "#46039f"
             ],
             [
              0.2222222222222222,
              "#7201a8"
             ],
             [
              0.3333333333333333,
              "#9c179e"
             ],
             [
              0.4444444444444444,
              "#bd3786"
             ],
             [
              0.5555555555555556,
              "#d8576b"
             ],
             [
              0.6666666666666666,
              "#ed7953"
             ],
             [
              0.7777777777777778,
              "#fb9f3a"
             ],
             [
              0.8888888888888888,
              "#fdca26"
             ],
             [
              1,
              "#f0f921"
             ]
            ],
            "type": "histogram2dcontour"
           }
          ],
          "mesh3d": [
           {
            "colorbar": {
             "outlinewidth": 0,
             "ticks": ""
            },
            "type": "mesh3d"
           }
          ],
          "parcoords": [
           {
            "line": {
             "colorbar": {
              "outlinewidth": 0,
              "ticks": ""
             }
            },
            "type": "parcoords"
           }
          ],
          "pie": [
           {
            "automargin": true,
            "type": "pie"
           }
          ],
          "scatter": [
           {
            "marker": {
             "colorbar": {
              "outlinewidth": 0,
              "ticks": ""
             }
            },
            "type": "scatter"
           }
          ],
          "scatter3d": [
           {
            "line": {
             "colorbar": {
              "outlinewidth": 0,
              "ticks": ""
             }
            },
            "marker": {
             "colorbar": {
              "outlinewidth": 0,
              "ticks": ""
             }
            },
            "type": "scatter3d"
           }
          ],
          "scattercarpet": [
           {
            "marker": {
             "colorbar": {
              "outlinewidth": 0,
              "ticks": ""
             }
            },
            "type": "scattercarpet"
           }
          ],
          "scattergeo": [
           {
            "marker": {
             "colorbar": {
              "outlinewidth": 0,
              "ticks": ""
             }
            },
            "type": "scattergeo"
           }
          ],
          "scattergl": [
           {
            "marker": {
             "colorbar": {
              "outlinewidth": 0,
              "ticks": ""
             }
            },
            "type": "scattergl"
           }
          ],
          "scattermapbox": [
           {
            "marker": {
             "colorbar": {
              "outlinewidth": 0,
              "ticks": ""
             }
            },
            "type": "scattermapbox"
           }
          ],
          "scatterpolar": [
           {
            "marker": {
             "colorbar": {
              "outlinewidth": 0,
              "ticks": ""
             }
            },
            "type": "scatterpolar"
           }
          ],
          "scatterpolargl": [
           {
            "marker": {
             "colorbar": {
              "outlinewidth": 0,
              "ticks": ""
             }
            },
            "type": "scatterpolargl"
           }
          ],
          "scatterternary": [
           {
            "marker": {
             "colorbar": {
              "outlinewidth": 0,
              "ticks": ""
             }
            },
            "type": "scatterternary"
           }
          ],
          "surface": [
           {
            "colorbar": {
             "outlinewidth": 0,
             "ticks": ""
            },
            "colorscale": [
             [
              0,
              "#0d0887"
             ],
             [
              0.1111111111111111,
              "#46039f"
             ],
             [
              0.2222222222222222,
              "#7201a8"
             ],
             [
              0.3333333333333333,
              "#9c179e"
             ],
             [
              0.4444444444444444,
              "#bd3786"
             ],
             [
              0.5555555555555556,
              "#d8576b"
             ],
             [
              0.6666666666666666,
              "#ed7953"
             ],
             [
              0.7777777777777778,
              "#fb9f3a"
             ],
             [
              0.8888888888888888,
              "#fdca26"
             ],
             [
              1,
              "#f0f921"
             ]
            ],
            "type": "surface"
           }
          ],
          "table": [
           {
            "cells": {
             "fill": {
              "color": "#EBF0F8"
             },
             "line": {
              "color": "white"
             }
            },
            "header": {
             "fill": {
              "color": "#C8D4E3"
             },
             "line": {
              "color": "white"
             }
            },
            "type": "table"
           }
          ]
         },
         "layout": {
          "annotationdefaults": {
           "arrowcolor": "#2a3f5f",
           "arrowhead": 0,
           "arrowwidth": 1
          },
          "coloraxis": {
           "colorbar": {
            "outlinewidth": 0,
            "ticks": ""
           }
          },
          "colorscale": {
           "diverging": [
            [
             0,
             "#8e0152"
            ],
            [
             0.1,
             "#c51b7d"
            ],
            [
             0.2,
             "#de77ae"
            ],
            [
             0.3,
             "#f1b6da"
            ],
            [
             0.4,
             "#fde0ef"
            ],
            [
             0.5,
             "#f7f7f7"
            ],
            [
             0.6,
             "#e6f5d0"
            ],
            [
             0.7,
             "#b8e186"
            ],
            [
             0.8,
             "#7fbc41"
            ],
            [
             0.9,
             "#4d9221"
            ],
            [
             1,
             "#276419"
            ]
           ],
           "sequential": [
            [
             0,
             "#0d0887"
            ],
            [
             0.1111111111111111,
             "#46039f"
            ],
            [
             0.2222222222222222,
             "#7201a8"
            ],
            [
             0.3333333333333333,
             "#9c179e"
            ],
            [
             0.4444444444444444,
             "#bd3786"
            ],
            [
             0.5555555555555556,
             "#d8576b"
            ],
            [
             0.6666666666666666,
             "#ed7953"
            ],
            [
             0.7777777777777778,
             "#fb9f3a"
            ],
            [
             0.8888888888888888,
             "#fdca26"
            ],
            [
             1,
             "#f0f921"
            ]
           ],
           "sequentialminus": [
            [
             0,
             "#0d0887"
            ],
            [
             0.1111111111111111,
             "#46039f"
            ],
            [
             0.2222222222222222,
             "#7201a8"
            ],
            [
             0.3333333333333333,
             "#9c179e"
            ],
            [
             0.4444444444444444,
             "#bd3786"
            ],
            [
             0.5555555555555556,
             "#d8576b"
            ],
            [
             0.6666666666666666,
             "#ed7953"
            ],
            [
             0.7777777777777778,
             "#fb9f3a"
            ],
            [
             0.8888888888888888,
             "#fdca26"
            ],
            [
             1,
             "#f0f921"
            ]
           ]
          },
          "colorway": [
           "#636efa",
           "#EF553B",
           "#00cc96",
           "#ab63fa",
           "#FFA15A",
           "#19d3f3",
           "#FF6692",
           "#B6E880",
           "#FF97FF",
           "#FECB52"
          ],
          "font": {
           "color": "#2a3f5f"
          },
          "geo": {
           "bgcolor": "white",
           "lakecolor": "white",
           "landcolor": "#E5ECF6",
           "showlakes": true,
           "showland": true,
           "subunitcolor": "white"
          },
          "hoverlabel": {
           "align": "left"
          },
          "hovermode": "closest",
          "mapbox": {
           "style": "light"
          },
          "paper_bgcolor": "white",
          "plot_bgcolor": "#E5ECF6",
          "polar": {
           "angularaxis": {
            "gridcolor": "white",
            "linecolor": "white",
            "ticks": ""
           },
           "bgcolor": "#E5ECF6",
           "radialaxis": {
            "gridcolor": "white",
            "linecolor": "white",
            "ticks": ""
           }
          },
          "scene": {
           "xaxis": {
            "backgroundcolor": "#E5ECF6",
            "gridcolor": "white",
            "gridwidth": 2,
            "linecolor": "white",
            "showbackground": true,
            "ticks": "",
            "zerolinecolor": "white"
           },
           "yaxis": {
            "backgroundcolor": "#E5ECF6",
            "gridcolor": "white",
            "gridwidth": 2,
            "linecolor": "white",
            "showbackground": true,
            "ticks": "",
            "zerolinecolor": "white"
           },
           "zaxis": {
            "backgroundcolor": "#E5ECF6",
            "gridcolor": "white",
            "gridwidth": 2,
            "linecolor": "white",
            "showbackground": true,
            "ticks": "",
            "zerolinecolor": "white"
           }
          },
          "shapedefaults": {
           "line": {
            "color": "#2a3f5f"
           }
          },
          "ternary": {
           "aaxis": {
            "gridcolor": "white",
            "linecolor": "white",
            "ticks": ""
           },
           "baxis": {
            "gridcolor": "white",
            "linecolor": "white",
            "ticks": ""
           },
           "bgcolor": "#E5ECF6",
           "caxis": {
            "gridcolor": "white",
            "linecolor": "white",
            "ticks": ""
           }
          },
          "title": {
           "x": 0.05
          },
          "xaxis": {
           "automargin": true,
           "gridcolor": "white",
           "linecolor": "white",
           "ticks": "",
           "title": {
            "standoff": 15
           },
           "zerolinecolor": "white",
           "zerolinewidth": 2
          },
          "yaxis": {
           "automargin": true,
           "gridcolor": "white",
           "linecolor": "white",
           "ticks": "",
           "title": {
            "standoff": 15
           },
           "zerolinecolor": "white",
           "zerolinewidth": 2
          }
         }
        },
        "uirevision": false,
        "width": 700
       },
       "_py2js_animate": {},
       "_py2js_deleteTraces": {},
       "_py2js_moveTraces": {},
       "_py2js_removeLayoutProps": {},
       "_py2js_removeTraceProps": {},
       "_view_count": 2
      }
     },
     "80d6206dc97848ed86bc13c96553ae07": {
      "model_module": "@jupyter-widgets/controls",
      "model_module_version": "1.5.0",
      "model_name": "ButtonModel",
      "state": {
       "button_style": "danger",
       "description": "Compute",
       "icon": "check",
       "layout": "IPY_MODEL_bc306539ecce4785a5a12f6c8e6d41dd",
       "style": "IPY_MODEL_39dab6ce73644271b09cad3e8eceee6d",
       "tooltip": "Run computation"
      }
     },
     "80f1d04ff64347aab391135e9addfec9": {
      "model_module": "@jupyter-widgets/controls",
      "model_module_version": "1.5.0",
      "model_name": "DescriptionStyleModel",
      "state": {
       "description_width": "initial"
      }
     },
     "8106f504956140a28f03848eb91b599a": {
      "model_module": "@jupyter-widgets/base",
      "model_module_version": "1.2.0",
      "model_name": "LayoutModel",
      "state": {}
     },
     "8165c8bf3dd0446ab0bcbe48ac638e5c": {
      "model_module": "@jupyter-widgets/controls",
      "model_module_version": "1.5.0",
      "model_name": "VBoxModel",
      "state": {
       "children": [
        "IPY_MODEL_a69f45ffeb6d44faaf078ac9a15165bc",
        "IPY_MODEL_9c585a9d22c04f86aafd074c06dc679d"
       ],
       "layout": "IPY_MODEL_e0bf3efc353247e8931e29b366e98040"
      }
     },
     "8191de7206c747c89729faaa7e6f20bb": {
      "model_module": "@jupyter-widgets/controls",
      "model_module_version": "1.5.0",
      "model_name": "CheckboxModel",
      "state": {
       "description": "GA Pro - Live link",
       "disabled": false,
       "indent": false,
       "layout": "IPY_MODEL_76c0e1bb8a104dcd89f194ad17a55732",
       "style": "IPY_MODEL_ce435d73b75d4134868567fe38e88d46",
       "value": false
      }
     },
     "81974faf37f94d22988e8022fe9ad5d8": {
      "model_module": "@jupyter-widgets/controls",
      "model_module_version": "1.5.0",
      "model_name": "GridBoxModel",
      "state": {
       "children": [
        "IPY_MODEL_39de4861a1524ed1a7782ff0e803b2cd",
        "IPY_MODEL_dc8b7a07ea1e47078f7b0b61e737b211",
        "IPY_MODEL_9525b29ade42413aa4111430f5c8b84e"
       ],
       "layout": "IPY_MODEL_4cad481e76954ce68fb44881cbfb1e74"
      }
     },
     "819932e38f6a49228e6a8a756e4561c9": {
      "model_module": "@jupyter-widgets/controls",
      "model_module_version": "1.5.0",
      "model_name": "DescriptionStyleModel",
      "state": {
       "description_width": "initial"
      }
     },
     "81c82aab0ec748fa9e73f88c0e883144": {
      "model_module": "@jupyter-widgets/base",
      "model_module_version": "1.2.0",
      "model_name": "LayoutModel",
      "state": {}
     },
     "81e75440ca4740f5ab976313cc20bbb7": {
      "model_module": "@jupyter-widgets/base",
      "model_module_version": "1.2.0",
      "model_name": "LayoutModel",
      "state": {}
     },
     "829195f296d64cb3bd1b09e137ea2901": {
      "model_module": "@jupyter-widgets/controls",
      "model_module_version": "1.5.0",
      "model_name": "ButtonStyleModel",
      "state": {}
     },
     "829e5a86d08740248fbf8e9522a92050": {
      "model_module": "@jupyter-widgets/base",
      "model_module_version": "1.2.0",
      "model_name": "LayoutModel",
      "state": {
       "width": "auto"
      }
     },
     "8342242d3cd746d49f08e7d5c05baeb4": {
      "model_module": "@jupyter-widgets/base",
      "model_module_version": "1.2.0",
      "model_name": "LayoutModel",
      "state": {
       "width": "auto"
      }
     },
     "840a7231c3a44df48f62ac42fc863b05": {
      "model_module": "@jupyter-widgets/controls",
      "model_module_version": "1.5.0",
      "model_name": "ToggleButtonModel",
      "state": {
       "description": "Flip colormap",
       "layout": "IPY_MODEL_a460d3d28a384757ad8f66e89a719ae5",
       "style": "IPY_MODEL_d1d4f3de161543a1b25dd458736b5cce"
      }
     },
     "8492aaa10dd94484bbfa26bb9be2102a": {
      "model_module": "@jupyter-widgets/controls",
      "model_module_version": "1.5.0",
      "model_name": "DropdownModel",
      "state": {
       "_options_labels": [
        "early",
        "early + middle",
        "middle",
        "early + middle + late",
        "middle + late",
        "late"
       ],
       "index": 0,
       "layout": "IPY_MODEL_f9518094f7814e5a99990e7076066552",
       "style": "IPY_MODEL_4571b9dbed504073b91faa0e1911ab16"
      }
     },
     "857e565cae2a47d2a5d88670271b484c": {
      "model_module": "@jupyter-widgets/controls",
      "model_module_version": "1.5.0",
      "model_name": "DescriptionStyleModel",
      "state": {
       "description_width": ""
      }
     },
     "858eaece3864476cad0b916386711a2f": {
      "model_module": "@jupyter-widgets/base",
      "model_module_version": "1.2.0",
      "model_name": "LayoutModel",
      "state": {
       "display": "none"
      }
     },
     "8590f0996a9c42a597f8b2950bb51ff7": {
      "model_module": "@jupyter-widgets/base",
      "model_module_version": "1.2.0",
      "model_name": "LayoutModel",
      "state": {}
     },
     "85d414fa55784c068da4e16760f6136b": {
      "model_module": "@jupyter-widgets/controls",
      "model_module_version": "1.5.0",
      "model_name": "VBoxModel",
      "state": {
       "children": [
        "IPY_MODEL_eb97f8f1dfb04e3c866f46b3cf7c4ec6",
        "IPY_MODEL_f316f7b39b994cbabead8d082182e255"
       ],
       "layout": "IPY_MODEL_93f549ff4e15411184a21213151938ef"
      }
     },
     "85d43d3d76bc49e2870e471d7c3d1562": {
      "model_module": "@jupyter-widgets/controls",
      "model_module_version": "1.5.0",
      "model_name": "DropdownModel",
      "state": {
       "_options_labels": [
        "",
        "--- Channels ---",
        "Cell_weights",
        "Initialmodel",
        "Iteration_1_model",
        "Iteration_2_model",
        "Iteration_3_model",
        "Iteration_4_model",
        "Iteration_5_model",
        "Iteration_6_model",
        "Iteration_7_model",
        "Z"
       ],
       "description": "DOI Layer",
       "index": 11,
       "layout": "IPY_MODEL_1b69b691f9d24accbd64e3af2153fbff",
       "style": "IPY_MODEL_0d9924c8fee64b70ba2790373979a3bc"
      }
     },
     "867b4b7ff8454ad8a4d7165b841ff32a": {
      "model_module": "@jupyter-widgets/base",
      "model_module_version": "1.2.0",
      "model_name": "LayoutModel",
      "state": {
       "width": "auto"
      }
     },
     "86e2c5482106451d821a0ab53e0003f2": {
      "model_module": "@jupyter-widgets/controls",
      "model_module_version": "1.5.0",
      "model_name": "ButtonModel",
      "state": {
       "description": "Select",
       "layout": "IPY_MODEL_7274dda603cf45378d96f2cb20bd71b9",
       "style": "IPY_MODEL_ee80db427fea4a85a9ad7285083bec7b"
      }
     },
     "87233738534d4b7b82057a0b8fa5b74f": {
      "model_module": "@jupyter-widgets/controls",
      "model_module_version": "1.5.0",
      "model_name": "DescriptionStyleModel",
      "state": {
       "description_width": ""
      }
     },
     "8751ff63bd1241f1bd0d52c7529d04c2": {
      "model_module": "@jupyter-widgets/controls",
      "model_module_version": "1.5.0",
      "model_name": "DescriptionStyleModel",
      "state": {
       "description_width": ""
      }
     },
     "87b5e2c6bff1451c974333dcfc35dde2": {
      "model_module": "@jupyter-widgets/controls",
      "model_module_version": "1.5.0",
      "model_name": "VBoxModel",
      "state": {
       "children": [
        "IPY_MODEL_bd27fd71cd1047808ac2e742a8c91068",
        "IPY_MODEL_0479b807139b47f2859c0446bfce6865",
        "IPY_MODEL_cbf5e343bf504f93b7f7326d6aad7b40",
        "IPY_MODEL_eb4c7a42bca649feaf571bb06c9f515f",
        "IPY_MODEL_eb16f81d71dd4cbeaca27a2bb1c1d8dc",
        "IPY_MODEL_c53997c0cdfc42c8b591de60130e7147",
        "IPY_MODEL_840a7231c3a44df48f62ac42fc863b05",
        "IPY_MODEL_ecca8cbb2c1c46daafc9c8142050db3e"
       ],
       "layout": "IPY_MODEL_0571e99bb55c4f5b89a2dc5b50ea784e"
      }
     },
     "8821ad30df684f059c02220e23e3ab5c": {
      "model_module": "@jupyter-widgets/controls",
      "model_module_version": "1.5.0",
      "model_name": "CheckboxModel",
      "state": {
       "description": "GA Pro - Live link",
       "disabled": false,
       "indent": false,
       "layout": "IPY_MODEL_aba4200ca5b84c34a558daf31ee0d234",
       "style": "IPY_MODEL_5b6669640f6248b8b74cc55fb0888d22",
       "value": false
      }
     },
     "88227e0142e0486193153be644148716": {
      "model_module": "@jupyter-widgets/controls",
      "model_module_version": "1.5.0",
      "model_name": "DescriptionStyleModel",
      "state": {
       "description_width": ""
      }
     },
     "8866fbba4ec949ed952a8a6d998c2990": {
      "model_module": "@jupyter-widgets/controls",
      "model_module_version": "1.5.0",
      "model_name": "DescriptionStyleModel",
      "state": {
       "description_width": "initial"
      }
     },
     "886ad08f370a464097e0370ac92f39a8": {
      "model_module": "@jupyter-widgets/base",
      "model_module_version": "1.2.0",
      "model_name": "LayoutModel",
      "state": {}
     },
     "8875f6a3ca17482381cc8ba9c913c9f4": {
      "model_module": "@jupyter-widgets/base",
      "model_module_version": "1.2.0",
      "model_name": "LayoutModel",
      "state": {}
     },
     "8894e851f87e43e59f30da068e52ca5d": {
      "model_module": "@jupyter-widgets/base",
      "model_module_version": "1.2.0",
      "model_name": "LayoutModel",
      "state": {
       "width": "auto"
      }
     },
     "88e02ceb89e94ef6929566ef2c354b92": {
      "model_module": "@jupyter-widgets/base",
      "model_module_version": "1.2.0",
      "model_name": "LayoutModel",
      "state": {
       "grid_area": "pathlist",
       "width": "auto"
      }
     },
     "88e552ba427b4ddf97795b433fd04017": {
      "model_module": "@jupyter-widgets/controls",
      "model_module_version": "1.5.0",
      "model_name": "ToggleButtonModel",
      "state": {
       "description": "Show markers",
       "layout": "IPY_MODEL_8fa745cc6cab4cad927f540980da0161",
       "style": "IPY_MODEL_c946e4f02f9545e881c1a255f16a6f2e",
       "value": true
      }
     },
     "89b3a48868c743b5843dc32d240559a6": {
      "model_module": "@jupyter-widgets/controls",
      "model_module_version": "1.5.0",
      "model_name": "DescriptionStyleModel",
      "state": {
       "description_width": ""
      }
     },
     "89cfd16e929a419ca8fab7e2644a14c1": {
      "model_module": "@jupyter-widgets/base",
      "model_module_version": "1.2.0",
      "model_name": "LayoutModel",
      "state": {}
     },
     "8a516be6c39043a8900c82b4e752c217": {
      "model_module": "@jupyter-widgets/controls",
      "model_module_version": "1.5.0",
      "model_name": "ButtonModel",
      "state": {
       "description": "Cancel",
       "layout": "IPY_MODEL_543d3dbce07d452bbcc10d15838ccad7",
       "style": "IPY_MODEL_347700d3bafa4b538eef5d189f5606d0"
      }
     },
     "8a7322e8d00245eda3622ebe6b33b3db": {
      "model_module": "@jupyter-widgets/base",
      "model_module_version": "1.2.0",
      "model_name": "LayoutModel",
      "state": {
       "width": "auto"
      }
     },
     "8a7fca156f6844038c1df2d2fef2787a": {
      "model_module": "@jupyter-widgets/base",
      "model_module_version": "1.2.0",
      "model_name": "LayoutModel",
      "state": {
       "display": "none",
       "grid_gap": "0px 0px",
       "grid_template_areas": "\n                    'pathlist pathlist'\n                    'dircontent dircontent'\n                    ",
       "grid_template_columns": "60% 40%",
       "grid_template_rows": "auto auto",
       "width": "500px"
      }
     },
     "8ab53530ace24bd1bf8f4c06361807b0": {
      "model_module": "@jupyter-widgets/controls",
      "model_module_version": "1.5.0",
      "model_name": "ToggleButtonModel",
      "state": {
       "description": "Select TEM System",
       "layout": "IPY_MODEL_e0b97891bee0492eb5dd42895728d1c3",
       "style": "IPY_MODEL_6a090803922f4a70b6daede5ac2853c4"
      }
     },
     "8ae9876c5afc4d0d84c4e279eadc6717": {
      "model_module": "@jupyter-widgets/base",
      "model_module_version": "1.2.0",
      "model_name": "LayoutModel",
      "state": {}
     },
     "8afa62eb5b204c3b9ae4f44971f0e352": {
      "model_module": "@jupyter-widgets/controls",
      "model_module_version": "1.5.0",
      "model_name": "DescriptionStyleModel",
      "state": {
       "description_width": ""
      }
     },
     "8afdb3ee7bb14bc085292794a2a93e49": {
      "model_module": "@jupyter-widgets/controls",
      "model_module_version": "1.5.0",
      "model_name": "VBoxModel",
      "state": {
       "children": [
        "IPY_MODEL_a3f508a259d242ea9fb4f85d80f886ba",
        "IPY_MODEL_d0f7f3878b4d4f0fbe9b01a7c5aafe20"
       ],
       "layout": "IPY_MODEL_1bb76cfbe0c1450cbb340061f1d35ae6"
      }
     },
     "8b15d84596aa4151b2a8a217dad5a99d": {
      "model_module": "@jupyter-widgets/controls",
      "model_module_version": "1.5.0",
      "model_name": "VBoxModel",
      "state": {
       "children": [
        "IPY_MODEL_8821ad30df684f059c02220e23e3ab5c"
       ],
       "layout": "IPY_MODEL_2caf06df43814126ba80e759d09a6a82"
      }
     },
     "8bd1ce911b7043a18f42dcfce7bf5233": {
      "model_module": "@jupyter-widgets/controls",
      "model_module_version": "1.5.0",
      "model_name": "DescriptionStyleModel",
      "state": {
       "description_width": "initial"
      }
     },
     "8bd540ec9bb943928e88fafd6cfebca2": {
      "model_module": "@jupyter-widgets/controls",
      "model_module_version": "1.5.0",
      "model_name": "ButtonStyleModel",
      "state": {}
     },
     "8c69bfbd1564400e9b0958234f4c2379": {
      "model_module": "@jupyter-widgets/base",
      "model_module_version": "1.2.0",
      "model_name": "LayoutModel",
      "state": {}
     },
     "8c77370c3b5142e7b98bd5ea44365bd1": {
      "model_module": "@jupyter-widgets/base",
      "model_module_version": "1.2.0",
      "model_name": "LayoutModel",
      "state": {}
     },
     "8c7d01b900a64cef846459c6f215d047": {
      "model_module": "@jupyter-widgets/controls",
      "model_module_version": "1.5.0",
      "model_name": "SelectMultipleModel",
      "state": {
       "_options_labels": [
        "Sf[9]",
        "Sf[10]",
        "Sf[11]",
        "Sf[12]",
        "Sf[13]",
        "Sf[14]",
        "Sf[15]",
        "Sf[16]",
        "Sf[17]",
        "Sf[18]",
        "Sf[19]",
        "Sf[20]",
        "Sf[21]",
        "Sf[22]",
        "Sf[23]",
        "Sf[24]",
        "Sf[25]",
        "Sf[26]",
        "Sf[27]",
        "Sf[28]",
        "Sf[29]",
        "Sf[30]",
        "Sf[31]",
        "Sf[32]",
        "Sf[33]",
        "Sf[34]",
        "Sf[35]"
       ],
       "description": "Channels",
       "index": [],
       "layout": "IPY_MODEL_cb6ae49977d24331a0e9e973c59af0ce",
       "rows": 5,
       "style": "IPY_MODEL_b3f869972dbf406383486f6ca2e1eb9b"
      }
     },
     "8c826d005dd044bd95494052c377737b": {
      "model_module": "@jupyter-widgets/controls",
      "model_module_version": "1.5.0",
      "model_name": "DescriptionStyleModel",
      "state": {
       "description_width": ""
      }
     },
     "8c958b1c07c2457296ad9267e2907e85": {
      "model_module": "@jupyter-widgets/controls",
      "model_module_version": "1.5.0",
      "model_name": "HTMLModel",
      "state": {
       "layout": "IPY_MODEL_21af936da4db417e93a4a10aae839751",
       "style": "IPY_MODEL_50631a214fb7481bb845b70ab8c3b8ae"
      }
     },
     "8d4dc7bdb5974d50a078274642de9aff": {
      "model_module": "@jupyter-widgets/base",
      "model_module_version": "1.2.0",
      "model_name": "LayoutModel",
      "state": {
       "width": "50%"
      }
     },
     "8e5f95ee243a4462aebffdd5cef2d77c": {
      "model_module": "@jupyter-widgets/controls",
      "model_module_version": "1.5.0",
      "model_name": "HTMLModel",
      "state": {
       "layout": "IPY_MODEL_9c35970066a745ef81613a377a106f32",
       "placeholder": "",
       "style": "IPY_MODEL_a89aac07d31b46978186aff968f1c55a",
       "value": "<span style=\"margin-left:10px; color:black;\">No file selected</span>"
      }
     },
     "8ec477c0838b4b66a2fcdcf1398ff450": {
      "model_module": "@jupyter-widgets/base",
      "model_module_version": "1.2.0",
      "model_name": "LayoutModel",
      "state": {
       "width": "auto"
      }
     },
     "8f3c4c684e3e4a37af501a1ec058cc53": {
      "model_module": "@jupyter-widgets/controls",
      "model_module_version": "1.5.0",
      "model_name": "VBoxModel",
      "state": {
       "children": [
        "IPY_MODEL_d67695f2a85f42bd86e25275adb52404",
        "IPY_MODEL_4a674dd7b929426696643e9e02175a08"
       ],
       "layout": "IPY_MODEL_18bc2ff3d9bc4a31a36db90c7a04f24d"
      }
     },
     "8fa31dacb6c7415ebf6383c4ef05ce0a": {
      "model_module": "@jupyter-widgets/output",
      "model_module_version": "1.0.0",
      "model_name": "OutputModel",
      "state": {
       "layout": "IPY_MODEL_7d2d40cc80cf4e2ab34413fa9adde35a",
       "outputs": [
        {
         "data": {
          "image/png": "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\n",
          "text/plain": "<Figure size 864x432 with 1 Axes>"
         },
         "metadata": {
          "needs_background": "light"
         },
         "output_type": "display_data"
        }
       ]
      }
     },
     "8fa745cc6cab4cad927f540980da0161": {
      "model_module": "@jupyter-widgets/base",
      "model_module_version": "1.2.0",
      "model_name": "LayoutModel",
      "state": {}
     },
     "903c3c78bab045e6a4c60c20e45fdbed": {
      "model_module": "@jupyter-widgets/controls",
      "model_module_version": "1.5.0",
      "model_name": "ButtonModel",
      "state": {
       "description": "Cancel",
       "layout": "IPY_MODEL_c3c3ac8b499045bfab4c704f22dc3228",
       "style": "IPY_MODEL_d328db45e3c442a5bec366eec3b3fef2"
      }
     },
     "907bc8ce6834426ca4726071d30ba488": {
      "model_module": "@jupyter-widgets/base",
      "model_module_version": "1.2.0",
      "model_name": "LayoutModel",
      "state": {}
     },
     "90ea3c65321a4f9d92acc723538bf3a2": {
      "model_module": "@jupyter-widgets/controls",
      "model_module_version": "1.5.0",
      "model_name": "DropdownModel",
      "state": {
       "_options_labels": [
        "C:\\Users\\dominiquef\\Documents\\GIT\\mira\\mirageoscience-apps\\docs\\content\\applications",
        "C:\\Users\\dominiquef\\Documents\\GIT\\mira\\mirageoscience-apps\\docs\\content",
        "C:\\Users\\dominiquef\\Documents\\GIT\\mira\\mirageoscience-apps\\docs",
        "C:\\Users\\dominiquef\\Documents\\GIT\\mira\\mirageoscience-apps",
        "C:\\Users\\dominiquef\\Documents\\GIT\\mira",
        "C:\\Users\\dominiquef\\Documents\\GIT",
        "C:\\Users\\dominiquef\\Documents",
        "C:\\Users\\dominiquef",
        "C:\\Users",
        "C:\\",
        "D:\\",
        "Z:\\"
       ],
       "index": 0,
       "layout": "IPY_MODEL_93f982c402e94c3bbe87cf17de1d1ce7",
       "style": "IPY_MODEL_3a6002ddc0034a318482b0ba942e8b41"
      }
     },
     "91adcfd1c2744761bd7ce806044ea64f": {
      "model_module": "@jupyter-widgets/base",
      "model_module_version": "1.2.0",
      "model_name": "LayoutModel",
      "state": {
       "display": "none"
      }
     },
     "91bf800b8ceb458d92899702e1d250c5": {
      "model_module": "@jupyter-widgets/controls",
      "model_module_version": "1.5.0",
      "model_name": "SliderStyleModel",
      "state": {
       "description_width": "initial"
      }
     },
     "91e9e1982d71458680c89345909aa4e6": {
      "model_module": "@jupyter-widgets/controls",
      "model_module_version": "1.5.0",
      "model_name": "SliderStyleModel",
      "state": {
       "description_width": ""
      }
     },
     "92946be665984940ad951fc615077ed0": {
      "model_module": "@jupyter-widgets/controls",
      "model_module_version": "1.5.0",
      "model_name": "DescriptionStyleModel",
      "state": {
       "description_width": ""
      }
     },
     "92a568f974f14510a74656f212e30e1d": {
      "model_module": "@jupyter-widgets/controls",
      "model_module_version": "1.5.0",
      "model_name": "DescriptionStyleModel",
      "state": {
       "description_width": "initial"
      }
     },
     "92cf1e2740564cf1882683473c335b45": {
      "model_module": "@jupyter-widgets/controls",
      "model_module_version": "1.5.0",
      "model_name": "LabelModel",
      "state": {
       "layout": "IPY_MODEL_3466ac7a3ca14a00aad869b34e048705",
       "style": "IPY_MODEL_6bab49b102934b5cb2ef0a9b61165403",
       "value": "Workspace"
      }
     },
     "92d5f6f59eff421cbf73fa9954d4e1ff": {
      "model_module": "@jupyter-widgets/base",
      "model_module_version": "1.2.0",
      "model_name": "LayoutModel",
      "state": {
       "grid_area": "pathlist",
       "width": "auto"
      }
     },
     "92ea01c1c3174f8e9747f058657f3553": {
      "model_module": "@jupyter-widgets/controls",
      "model_module_version": "1.5.0",
      "model_name": "FloatTextModel",
      "state": {
       "description": "Time (s)",
       "layout": "IPY_MODEL_0f4dbec7ec264d11aa6de2431a7737d2",
       "step": null,
       "style": "IPY_MODEL_4b57d3d57d8d42adba627b90e3d7a676",
       "value": 0.000406
      }
     },
     "92eb5854ef404e848fdf18139fb73e1c": {
      "model_module": "@jupyter-widgets/base",
      "model_module_version": "1.2.0",
      "model_name": "LayoutModel",
      "state": {
       "grid_area": "pathlist",
       "width": "auto"
      }
     },
     "93444cc708db4d8caca672e1a0cc5133": {
      "model_module": "@jupyter-widgets/controls",
      "model_module_version": "1.5.0",
      "model_name": "DescriptionStyleModel",
      "state": {
       "description_width": ""
      }
     },
     "934b89a7f336465c998c2b34dba94a4c": {
      "model_module": "@jupyter-widgets/controls",
      "model_module_version": "1.5.0",
      "model_name": "SliderStyleModel",
      "state": {
       "description_width": "initial"
      }
     },
     "93a8ca457a884c9e8d8f2c645a16cc3e": {
      "model_module": "@jupyter-widgets/controls",
      "model_module_version": "1.5.0",
      "model_name": "ButtonStyleModel",
      "state": {}
     },
     "93f549ff4e15411184a21213151938ef": {
      "model_module": "@jupyter-widgets/base",
      "model_module_version": "1.2.0",
      "model_name": "LayoutModel",
      "state": {}
     },
     "93f982c402e94c3bbe87cf17de1d1ce7": {
      "model_module": "@jupyter-widgets/base",
      "model_module_version": "1.2.0",
      "model_name": "LayoutModel",
      "state": {
       "grid_area": "pathlist",
       "width": "auto"
      }
     },
     "94b4e70914754eeb8965568ca4e61f15": {
      "model_module": "@jupyter-widgets/controls",
      "model_module_version": "1.5.0",
      "model_name": "DescriptionStyleModel",
      "state": {
       "description_width": ""
      }
     },
     "94bfebeac4fd4888b9702ef818ecb9e4": {
      "model_module": "@jupyter-widgets/controls",
      "model_module_version": "1.5.0",
      "model_name": "VBoxModel",
      "state": {
       "children": [
        "IPY_MODEL_f9d46132dce0477ba9b9fc2b5a8f9416",
        "IPY_MODEL_463789d3f3884059b24591532365fbb0"
       ],
       "layout": "IPY_MODEL_1519c652bd6242ebb00a32727b81aa9e"
      }
     },
     "94e62c3cd70c41c085c42d4262f1295f": {
      "model_module": "@jupyter-widgets/controls",
      "model_module_version": "1.5.0",
      "model_name": "TextModel",
      "state": {
       "disabled": true,
       "layout": "IPY_MODEL_272990cee6f64ef7a3303a47a2656726",
       "placeholder": "output filename",
       "style": "IPY_MODEL_f6a9f3905cbb4c10b5586439028afde2"
      }
     },
     "9525b29ade42413aa4111430f5c8b84e": {
      "model_module": "@jupyter-widgets/controls",
      "model_module_version": "1.5.0",
      "model_name": "SelectModel",
      "state": {
       "_options_labels": [
        "..",
        "dask-worker-space",
        "images",
        "base_application.ipynb",
        "calculator.ipynb",
        "clustering.ipynb",
        "contouring.ipynb",
        "coordinate_transformation.ipynb",
        "create_surface.ipynb",
        "data_interpolation.ipynb",
        "edge_detection.ipynb",
        "export.ipynb",
        "geophysical_inversion.ipynb",
        "object_data_selection.ipynb",
        "peak_finder.ipynb",
        "scatter.ipynb",
        "view_selection.ipynb"
       ],
       "index": null,
       "layout": "IPY_MODEL_e046bd2bf33c43999e2ad2fbaadd6820",
       "rows": 8,
       "style": "IPY_MODEL_01150427a59546c2b4c8b568f5069a97"
      }
     },
     "9534d8c8bd634bd6a476532738b096e1": {
      "model_module": "@jupyter-widgets/controls",
      "model_module_version": "1.5.0",
      "model_name": "DescriptionStyleModel",
      "state": {
       "description_width": ""
      }
     },
     "958fc1534c1b48439bfde32dd3fc7843": {
      "model_module": "@jupyter-widgets/controls",
      "model_module_version": "1.5.0",
      "model_name": "ButtonStyleModel",
      "state": {}
     },
     "95a55d28c51b434896e87499e0c1edad": {
      "model_module": "@jupyter-widgets/controls",
      "model_module_version": "1.5.0",
      "model_name": "DescriptionStyleModel",
      "state": {
       "description_width": ""
      }
     },
     "95ba7aa63c28408584c65a9d03938d22": {
      "model_module": "@jupyter-widgets/base",
      "model_module_version": "1.2.0",
      "model_name": "LayoutModel",
      "state": {
       "display": "none",
       "grid_area": "filename",
       "width": "auto"
      }
     },
     "95d990501ab444c2885a3580ac6d523f": {
      "model_module": "@jupyter-widgets/base",
      "model_module_version": "1.2.0",
      "model_name": "LayoutModel",
      "state": {}
     },
     "95feb879bcab4859af4da17e8d14214f": {
      "model_module": "@jupyter-widgets/controls",
      "model_module_version": "1.5.0",
      "model_name": "HTMLModel",
      "state": {
       "layout": "IPY_MODEL_990c88fe884647508e1aefd6eded3a13",
       "placeholder": "",
       "style": "IPY_MODEL_7f42525e1faf4ba391d8507acd8f71e2",
       "value": "<span style=\"margin-left:10px; color:black;\">No file selected</span>"
      }
     },
     "968afc7fe3d6490a825f9527825c8ef5": {
      "model_module": "@jupyter-widgets/controls",
      "model_module_version": "1.5.0",
      "model_name": "DescriptionStyleModel",
      "state": {
       "description_width": ""
      }
     },
     "970d83eaa3104bbfa572cddcd3528caa": {
      "model_module": "@jupyter-widgets/controls",
      "model_module_version": "1.5.0",
      "model_name": "FloatTextModel",
      "state": {
       "description": "Time (s)",
       "layout": "IPY_MODEL_cfcd9819e7fb4488b3995e8839e09da3",
       "step": null,
       "style": "IPY_MODEL_6204afbae2bc48a990785d9a62a026e7"
      }
     },
     "974a3bec57774dc3a010871b2dcb3987": {
      "model_module": "@jupyter-widgets/controls",
      "model_module_version": "1.5.0",
      "model_name": "HTMLModel",
      "state": {
       "layout": "IPY_MODEL_d19ec61839d6491795ade3c3627c04fa",
       "style": "IPY_MODEL_6ac40290bac542678382ee9f1a44194b"
      }
     },
     "9765e356905a46f0974d636de37766fa": {
      "model_module": "@jupyter-widgets/base",
      "model_module_version": "1.2.0",
      "model_name": "LayoutModel",
      "state": {}
     },
     "978861a0b43f49f89c2ae950afe9485f": {
      "model_module": "@jupyter-widgets/controls",
      "model_module_version": "1.5.0",
      "model_name": "DropdownModel",
      "state": {
       "_options_labels": [
        "Sf[9]",
        "Sf[10]",
        "Sf[11]",
        "Sf[12]",
        "Sf[13]",
        "Sf[14]",
        "Sf[15]",
        "Sf[16]",
        "Sf[17]",
        "Sf[18]",
        "Sf[19]",
        "Sf[20]",
        "Sf[21]",
        "Sf[22]",
        "Sf[23]",
        "Sf[24]",
        "Sf[25]",
        "Sf[26]",
        "Sf[27]",
        "Sf[28]",
        "Sf[29]",
        "Sf[30]",
        "Sf[31]",
        "Sf[32]",
        "Sf[33]",
        "Sf[34]",
        "Sf[35]"
       ],
       "description": "Channel",
       "index": 9,
       "layout": "IPY_MODEL_5c35d94428f4401c8b9c97ce0b21153e",
       "style": "IPY_MODEL_04fa56b3429d400f978b80706db69b2e"
      }
     },
     "9852322c9ffa446d81b6a15a1c1f3a01": {
      "model_module": "@jupyter-widgets/base",
      "model_module_version": "1.2.0",
      "model_name": "LayoutModel",
      "state": {}
     },
     "98fb298c17164012b2ae5573e6045ea9": {
      "model_module": "@jupyter-widgets/controls",
      "model_module_version": "1.5.0",
      "model_name": "VBoxModel",
      "state": {
       "children": [
        "IPY_MODEL_35250d9467cb4743b769c100d64ebf9b",
        "IPY_MODEL_e090440439e24ae18d3c5a3729660165"
       ],
       "layout": "IPY_MODEL_60aab428f4444c4f9a976f9896b9b376"
      }
     },
     "98ffbe40bc3741cbbe5aec2c35077274": {
      "model_module": "@jupyter-widgets/base",
      "model_module_version": "1.2.0",
      "model_name": "LayoutModel",
      "state": {}
     },
     "990c88fe884647508e1aefd6eded3a13": {
      "model_module": "@jupyter-widgets/base",
      "model_module_version": "1.2.0",
      "model_name": "LayoutModel",
      "state": {}
     },
     "997e723dd55144ab9b85e6a61f4b57e2": {
      "model_module": "@jupyter-widgets/controls",
      "model_module_version": "1.5.0",
      "model_name": "ButtonStyleModel",
      "state": {}
     },
     "99b2ae3dd05f4bbd9e716699790a45d1": {
      "model_module": "@jupyter-widgets/controls",
      "model_module_version": "1.5.0",
      "model_name": "DropdownModel",
      "state": {
       "_options_labels": [
        "C:\\Users\\dominiquef\\Documents\\GIT\\mira\\mirageoscience-apps\\docs\\content\\applications",
        "C:\\Users\\dominiquef\\Documents\\GIT\\mira\\mirageoscience-apps\\docs\\content",
        "C:\\Users\\dominiquef\\Documents\\GIT\\mira\\mirageoscience-apps\\docs",
        "C:\\Users\\dominiquef\\Documents\\GIT\\mira\\mirageoscience-apps",
        "C:\\Users\\dominiquef\\Documents\\GIT\\mira",
        "C:\\Users\\dominiquef\\Documents\\GIT",
        "C:\\Users\\dominiquef\\Documents",
        "C:\\Users\\dominiquef",
        "C:\\Users",
        "C:\\",
        "D:\\",
        "Z:\\"
       ],
       "index": 0,
       "layout": "IPY_MODEL_92eb5854ef404e848fdf18139fb73e1c",
       "style": "IPY_MODEL_b161cf707174480696ab767781e5222d"
      }
     },
     "99ded80861ee468790ad2a0548eb35e1": {
      "model_module": "@jupyter-widgets/controls",
      "model_module_version": "1.5.0",
      "model_name": "VBoxModel",
      "state": {
       "children": [
        "IPY_MODEL_dc9016a5379a4309855095b8b96e2238",
        "IPY_MODEL_491c9ec39c3546448f9d2962d7a946b1"
       ],
       "layout": "IPY_MODEL_3fe06d7a306842658da14b9d81ba100c"
      }
     },
     "99df652399bd4019a0ae2f841da13fba": {
      "model_module": "@jupyter-widgets/base",
      "model_module_version": "1.2.0",
      "model_name": "LayoutModel",
      "state": {
       "width": "auto"
      }
     },
     "9a1c8d172eae40ecbf2cd537672a1745": {
      "model_module": "@jupyter-widgets/controls",
      "model_module_version": "1.5.0",
      "model_name": "DescriptionStyleModel",
      "state": {
       "description_width": ""
      }
     },
     "9a4935c364b94edba510cecb4ef5103e": {
      "model_module": "@jupyter-widgets/controls",
      "model_module_version": "1.5.0",
      "model_name": "FloatTextModel",
      "state": {
       "description": "Time (s)",
       "layout": "IPY_MODEL_06ee2913cd87423c9baabe6b75697d5b",
       "step": null,
       "style": "IPY_MODEL_87233738534d4b7b82057a0b8fa5b74f",
       "value": 0.000141
      }
     },
     "9a5f663bbd3f44dd981545ca3ae31ebf": {
      "model_module": "@jupyter-widgets/controls",
      "model_module_version": "1.5.0",
      "model_name": "DescriptionStyleModel",
      "state": {
       "description_width": ""
      }
     },
     "9a96fe8a5a714e56b8063d0656ec9ffb": {
      "model_module": "@jupyter-widgets/controls",
      "model_module_version": "1.5.0",
      "model_name": "DropdownModel",
      "state": {
       "_options_labels": [
        "Sf[9]",
        "Sf[10]",
        "Sf[11]",
        "Sf[12]",
        "Sf[13]",
        "Sf[14]",
        "Sf[15]",
        "Sf[16]",
        "Sf[17]",
        "Sf[18]",
        "Sf[19]",
        "Sf[20]",
        "Sf[21]",
        "Sf[22]",
        "Sf[23]",
        "Sf[24]",
        "Sf[25]",
        "Sf[26]",
        "Sf[27]",
        "Sf[28]",
        "Sf[29]",
        "Sf[30]",
        "Sf[31]",
        "Sf[32]",
        "Sf[33]",
        "Sf[34]",
        "Sf[35]"
       ],
       "description": "Channel",
       "index": null,
       "layout": "IPY_MODEL_a19cf9d7ed81407a95781d19727bc252",
       "style": "IPY_MODEL_7c074d21a00640f2b6af857aeef258df"
      }
     },
     "9aca7486b7c14c9487429ddc8c6ee107": {
      "model_module": "@jupyter-widgets/controls",
      "model_module_version": "1.5.0",
      "model_name": "DropdownModel",
      "state": {
       "_options_labels": [
        "Sf[9]",
        "Sf[10]",
        "Sf[11]",
        "Sf[12]",
        "Sf[13]",
        "Sf[14]",
        "Sf[15]",
        "Sf[16]",
        "Sf[17]",
        "Sf[18]",
        "Sf[19]",
        "Sf[20]",
        "Sf[21]",
        "Sf[22]",
        "Sf[23]",
        "Sf[24]",
        "Sf[25]",
        "Sf[26]",
        "Sf[27]",
        "Sf[28]",
        "Sf[29]",
        "Sf[30]",
        "Sf[31]",
        "Sf[32]",
        "Sf[33]",
        "Sf[34]",
        "Sf[35]"
       ],
       "description": "Channel",
       "index": 19,
       "layout": "IPY_MODEL_7ac73b8396dc47b7ba51d26cda912dd2",
       "style": "IPY_MODEL_6fc06303c4cb49f5bb4d1d49e5048f50"
      }
     },
     "9ad1e00f927e4c30b18918986ae5e1c1": {
      "model_module": "@jupyter-widgets/controls",
      "model_module_version": "1.5.0",
      "model_name": "HBoxModel",
      "state": {
       "children": [
        "IPY_MODEL_57108bbb3ee54af8a230aa7588a2160f",
        "IPY_MODEL_7eb25b5ada2741489dcbe46bc630acc4"
       ],
       "layout": "IPY_MODEL_190f006113004ecab0d79ea62074b800"
      }
     },
     "9b0e0e8b9c424db19a07d67b7a2868fb": {
      "model_module": "@jupyter-widgets/controls",
      "model_module_version": "1.5.0",
      "model_name": "FloatTextModel",
      "state": {
       "description": "Time (s)",
       "layout": "IPY_MODEL_8106f504956140a28f03848eb91b599a",
       "step": null,
       "style": "IPY_MODEL_bf34c92998874f90b18a24b8a4f114ec",
       "value": 0.00137
      }
     },
     "9b14fe1ead2c45109dc45ab43203d6ed": {
      "model_module": "@jupyter-widgets/controls",
      "model_module_version": "1.5.0",
      "model_name": "TextModel",
      "state": {
       "continuous_update": false,
       "description": "Group:",
       "layout": "IPY_MODEL_04f3044241524ae8b5e1ab281e707265",
       "style": "IPY_MODEL_d37b12ab823147798ef399433b4e3716"
      }
     },
     "9b3e895618ff4dcfb9905ef6d06635c1": {
      "model_module": "@jupyter-widgets/base",
      "model_module_version": "1.2.0",
      "model_name": "LayoutModel",
      "state": {}
     },
     "9b7b94d029644d50b03a9eea0e518e76": {
      "model_module": "@jupyter-widgets/controls",
      "model_module_version": "1.5.0",
      "model_name": "DescriptionStyleModel",
      "state": {
       "description_width": "initial"
      }
     },
     "9bbc6d044486401aa6fd058013727f19": {
      "model_module": "@jupyter-widgets/controls",
      "model_module_version": "1.5.0",
      "model_name": "DescriptionStyleModel",
      "state": {
       "description_width": ""
      }
     },
     "9bc76d5e814645e1bb00cd8a8d539143": {
      "model_module": "@jupyter-widgets/controls",
      "model_module_version": "1.5.0",
      "model_name": "DropdownModel",
      "state": {
       "_options_labels": [
        "AeroTEM (2007)",
        "AeroTEM (2010)",
        "GENESIS (2014)",
        "GEOTEM 75 Hz - 2082 Pulse",
        "HELITEM (35C)",
        "QUESTEM (1996)",
        "Skytem 304M (HM)",
        "Skytem 306HP (LM)",
        "Skytem 306M HP (HM)",
        "Skytem 312HP (HM)",
        "Skytem 312HP v2 (HM)",
        "Skytem 312HP v3 (HM)",
        "Skytem 312HP v2 (LM)",
        "Skytem 312HP v3 (LM)",
        "Skytem 516M (HM)",
        "Spectrem (2000)",
        "Spectrem Plus",
        "VTEM (2007)",
        "VTEM Plus",
        "VTEM Max"
       ],
       "description": "Time-Domain System:",
       "index": 17,
       "layout": "IPY_MODEL_0392f733cd7a4883b7b5ffa573e88e47",
       "style": "IPY_MODEL_6b9fee65ff384916894b70dd43ec284b"
      }
     },
     "9c35970066a745ef81613a377a106f32": {
      "model_module": "@jupyter-widgets/base",
      "model_module_version": "1.2.0",
      "model_name": "LayoutModel",
      "state": {}
     },
     "9c585a9d22c04f86aafd074c06dc679d": {
      "model_module": "@jupyter-widgets/controls",
      "model_module_version": "1.5.0",
      "model_name": "FloatTextModel",
      "state": {
       "description": "Time (s)",
       "layout": "IPY_MODEL_dad02a9293984b23a43ef8a44fc8c55f",
       "step": null,
       "style": "IPY_MODEL_5ccf438e00b644a690f52f69ce716683"
      }
     },
     "9c5b2425a2c04bc0ac3ff540c452a858": {
      "model_module": "@jupyter-widgets/base",
      "model_module_version": "1.2.0",
      "model_name": "LayoutModel",
      "state": {}
     },
     "9c94cecf94e246d69ec62815967db544": {
      "model_module": "@jupyter-widgets/base",
      "model_module_version": "1.2.0",
      "model_name": "LayoutModel",
      "state": {
       "display": "none",
       "grid_gap": "0px 0px",
       "grid_template_areas": "\n                    'pathlist pathlist'\n                    'dircontent dircontent'\n                    ",
       "grid_template_columns": "60% 40%",
       "grid_template_rows": "auto auto",
       "width": "500px"
      }
     },
     "9d0a92ce70ee4d62b57d7012615b4e13": {
      "model_module": "@jupyter-widgets/base",
      "model_module_version": "1.2.0",
      "model_name": "LayoutModel",
      "state": {
       "width": "auto"
      }
     },
     "9d3badb51c084427bb3ea59625792200": {
      "model_module": "@jupyter-widgets/controls",
      "model_module_version": "1.5.0",
      "model_name": "ButtonModel",
      "state": {
       "description": "Create copy:",
       "layout": "IPY_MODEL_00db8e681be444ac81afb2a2e87ab1e2",
       "style": "IPY_MODEL_ed62bb8f721348ccb158565c199f3f35"
      }
     },
     "9d54653de45c4a57960e03fc9d404a05": {
      "model_module": "@jupyter-widgets/base",
      "model_module_version": "1.2.0",
      "model_name": "LayoutModel",
      "state": {}
     },
     "9da7948daa274dd7a3b223405842e505": {
      "model_module": "@jupyter-widgets/controls",
      "model_module_version": "1.5.0",
      "model_name": "DropdownModel",
      "state": {
       "_options_labels": [
        "C:\\Users\\dominiquef\\Documents\\GIT\\mira\\mirageoscience-apps\\docs\\content\\applications",
        "C:\\Users\\dominiquef\\Documents\\GIT\\mira\\mirageoscience-apps\\docs\\content",
        "C:\\Users\\dominiquef\\Documents\\GIT\\mira\\mirageoscience-apps\\docs",
        "C:\\Users\\dominiquef\\Documents\\GIT\\mira\\mirageoscience-apps",
        "C:\\Users\\dominiquef\\Documents\\GIT\\mira",
        "C:\\Users\\dominiquef\\Documents\\GIT",
        "C:\\Users\\dominiquef\\Documents",
        "C:\\Users\\dominiquef",
        "C:\\Users",
        "C:\\",
        "D:\\",
        "Z:\\"
       ],
       "index": 0,
       "layout": "IPY_MODEL_6d170bc0ffcc45a08128d793542ef67b",
       "style": "IPY_MODEL_9a5f663bbd3f44dd981545ca3ae31ebf"
      }
     },
     "9e1562e7fe014ae2a4487d5e11e7cfbc": {
      "model_module": "@jupyter-widgets/controls",
      "model_module_version": "1.5.0",
      "model_name": "ButtonModel",
      "state": {
       "description": "Cancel",
       "layout": "IPY_MODEL_9f706aac1225454c85ef8f6980fa97f5",
       "style": "IPY_MODEL_00329d47cae246b1952f0595011f17b8"
      }
     },
     "9e4cd851923847fe8b52efaa4b84c4d4": {
      "model_module": "@jupyter-widgets/controls",
      "model_module_version": "1.5.0",
      "model_name": "TextModel",
      "state": {
       "disabled": true,
       "layout": "IPY_MODEL_95ba7aa63c28408584c65a9d03938d22",
       "placeholder": "output filename",
       "style": "IPY_MODEL_4f86c404a578474aa6cba9c8a56ddf24"
      }
     },
     "9ee127860dd5440e9d2b4d34fe99cd1e": {
      "model_module": "@jupyter-widgets/controls",
      "model_module_version": "1.5.0",
      "model_name": "DescriptionStyleModel",
      "state": {
       "description_width": "initial"
      }
     },
     "9f40a6be6f464e9f82c9fa6813506775": {
      "model_module": "@jupyter-widgets/controls",
      "model_module_version": "1.5.0",
      "model_name": "VBoxModel",
      "state": {
       "children": [
        "IPY_MODEL_c2697079bd0042fe9a6519d619b4bfd8",
        "IPY_MODEL_412569236092474894f2d1d8412ec0dc"
       ],
       "layout": "IPY_MODEL_7909233db2f44072bc3f45ce7d149c63"
      }
     },
     "9f706aac1225454c85ef8f6980fa97f5": {
      "model_module": "@jupyter-widgets/base",
      "model_module_version": "1.2.0",
      "model_name": "LayoutModel",
      "state": {
       "display": "none",
       "width": "auto"
      }
     },
     "9f81d5d667004dc08e6bfc3c9df651fb": {
      "model_module": "@jupyter-widgets/base",
      "model_module_version": "1.2.0",
      "model_name": "LayoutModel",
      "state": {}
     },
     "9fe65ddea7374675991e38e2dbcb78bb": {
      "model_module": "@jupyter-widgets/controls",
      "model_module_version": "1.5.0",
      "model_name": "DescriptionStyleModel",
      "state": {
       "description_width": "initial"
      }
     },
     "a0bc537d0aa0415984e1795426f67fe1": {
      "model_module": "@jupyter-widgets/controls",
      "model_module_version": "1.5.0",
      "model_name": "DescriptionStyleModel",
      "state": {
       "description_width": ""
      }
     },
     "a0dc9f4a6f244dd995238e3018925b67": {
      "model_module": "@jupyter-widgets/controls",
      "model_module_version": "1.5.0",
      "model_name": "ToggleButtonModel",
      "state": {
       "layout": "IPY_MODEL_261ea5494df24a3a9c40d876570258ed",
       "style": "IPY_MODEL_35bed9d8fc1848f8b9fdc180ed9e0f5c",
       "value": true
      }
     },
     "a19cf9d7ed81407a95781d19727bc252": {
      "model_module": "@jupyter-widgets/base",
      "model_module_version": "1.2.0",
      "model_name": "LayoutModel",
      "state": {}
     },
     "a2021a6304b74c7f923e22d9929189b3": {
      "model_module": "@jupyter-widgets/controls",
      "model_module_version": "1.5.0",
      "model_name": "DropdownModel",
      "state": {
       "_options_labels": [
        "Sf[9]",
        "Sf[10]",
        "Sf[11]",
        "Sf[12]",
        "Sf[13]",
        "Sf[14]",
        "Sf[15]",
        "Sf[16]",
        "Sf[17]",
        "Sf[18]",
        "Sf[19]",
        "Sf[20]",
        "Sf[21]",
        "Sf[22]",
        "Sf[23]",
        "Sf[24]",
        "Sf[25]",
        "Sf[26]",
        "Sf[27]",
        "Sf[28]",
        "Sf[29]",
        "Sf[30]",
        "Sf[31]",
        "Sf[32]",
        "Sf[33]",
        "Sf[34]",
        "Sf[35]"
       ],
       "description": "Channel",
       "index": 24,
       "layout": "IPY_MODEL_4a7d15e801b6442681951ba7224b7e70",
       "style": "IPY_MODEL_66bdfc823cef4355a66ce5105d718b0d"
      }
     },
     "a22e176acdf34d36881a11ec3dfe2d86": {
      "model_module": "@jupyter-widgets/base",
      "model_module_version": "1.2.0",
      "model_name": "LayoutModel",
      "state": {}
     },
     "a25b1149cae141d6a0d6ae0e923e7434": {
      "model_module": "@jupyter-widgets/base",
      "model_module_version": "1.2.0",
      "model_name": "LayoutModel",
      "state": {}
     },
     "a25f8052fbbe4dc5abbf39e760529e83": {
      "model_module": "@jupyter-widgets/controls",
      "model_module_version": "1.5.0",
      "model_name": "ButtonStyleModel",
      "state": {}
     },
     "a268432cbed7407da593f0b69173c173": {
      "model_module": "@jupyter-widgets/base",
      "model_module_version": "1.2.0",
      "model_name": "LayoutModel",
      "state": {}
     },
     "a2ac9045bb914ee0b4e2a00f2e1a0d38": {
      "model_module": "@jupyter-widgets/controls",
      "model_module_version": "1.5.0",
      "model_name": "ButtonStyleModel",
      "state": {}
     },
     "a2b46557e9a341daba94844a3a57f7a7": {
      "model_module": "@jupyter-widgets/controls",
      "model_module_version": "1.5.0",
      "model_name": "DescriptionStyleModel",
      "state": {
       "description_width": "initial"
      }
     },
     "a33f97a171c7426f8501881a7e165430": {
      "model_module": "@jupyter-widgets/controls",
      "model_module_version": "1.5.0",
      "model_name": "VBoxModel",
      "state": {
       "children": [
        "IPY_MODEL_f20fae91771f4362b805ca999a7b43a7",
        "IPY_MODEL_44b867376dcc48eeb2667d2eb4f88ca1"
       ],
       "layout": "IPY_MODEL_04a9fe15d6d24bbaa86fa351ec51bd63"
      }
     },
     "a37ba250061c46efa2881cb0516546c8": {
      "model_module": "@jupyter-widgets/controls",
      "model_module_version": "1.5.0",
      "model_name": "ColorPickerModel",
      "state": {
       "description": "Color",
       "disabled": false,
       "layout": "IPY_MODEL_ea457328d3d24fa799d8c94e13cf4b62",
       "style": "IPY_MODEL_1137063885af486bb091bbbf0a88e6d1",
       "value": "#0000FF"
      }
     },
     "a37e938895b246dd817a67e6ce1540d2": {
      "model_module": "@jupyter-widgets/controls",
      "model_module_version": "1.5.0",
      "model_name": "DescriptionStyleModel",
      "state": {
       "description_width": ""
      }
     },
     "a3c3b7a1d2f7471286ffabf6b8de9af8": {
      "model_module": "@jupyter-widgets/base",
      "model_module_version": "1.2.0",
      "model_name": "LayoutModel",
      "state": {
       "width": "auto"
      }
     },
     "a3c593b22562428293aa68bb098daf25": {
      "model_module": "@jupyter-widgets/base",
      "model_module_version": "1.2.0",
      "model_name": "LayoutModel",
      "state": {}
     },
     "a3f508a259d242ea9fb4f85d80f886ba": {
      "model_module": "@jupyter-widgets/controls",
      "model_module_version": "1.5.0",
      "model_name": "DropdownModel",
      "state": {
       "_options_labels": [
        "Sf[9]",
        "Sf[10]",
        "Sf[11]",
        "Sf[12]",
        "Sf[13]",
        "Sf[14]",
        "Sf[15]",
        "Sf[16]",
        "Sf[17]",
        "Sf[18]",
        "Sf[19]",
        "Sf[20]",
        "Sf[21]",
        "Sf[22]",
        "Sf[23]",
        "Sf[24]",
        "Sf[25]",
        "Sf[26]",
        "Sf[27]",
        "Sf[28]",
        "Sf[29]",
        "Sf[30]",
        "Sf[31]",
        "Sf[32]",
        "Sf[33]",
        "Sf[34]",
        "Sf[35]"
       ],
       "description": "Channel",
       "index": 10,
       "layout": "IPY_MODEL_a7951a0faaf14756916325efbc4b16d7",
       "style": "IPY_MODEL_688631622934475ba63d63a2986161db"
      }
     },
     "a435c278a38940eb86f8ae4d414848dc": {
      "model_module": "@jupyter-widgets/controls",
      "model_module_version": "1.5.0",
      "model_name": "ButtonModel",
      "state": {
       "description": "Cancel",
       "layout": "IPY_MODEL_15e985f9b68143a3a5c72567bf2ef485",
       "style": "IPY_MODEL_8bd540ec9bb943928e88fafd6cfebca2"
      }
     },
     "a439c011cc4747dba1e9b47fe19022da": {
      "model_module": "@jupyter-widgets/controls",
      "model_module_version": "1.5.0",
      "model_name": "ButtonStyleModel",
      "state": {}
     },
     "a44bc39891974cb99e391693f63a39ad": {
      "model_module": "@jupyter-widgets/controls",
      "model_module_version": "1.5.0",
      "model_name": "ButtonStyleModel",
      "state": {}
     },
     "a460d3d28a384757ad8f66e89a719ae5": {
      "model_module": "@jupyter-widgets/base",
      "model_module_version": "1.2.0",
      "model_name": "LayoutModel",
      "state": {}
     },
     "a4883f8ccf394933936634fc786eee28": {
      "model_module": "@jupyter-widgets/base",
      "model_module_version": "1.2.0",
      "model_name": "LayoutModel",
      "state": {}
     },
     "a4ea08c7b96f44ea85ab1eb2d6ce6f71": {
      "model_module": "@jupyter-widgets/controls",
      "model_module_version": "1.5.0",
      "model_name": "DescriptionStyleModel",
      "state": {
       "description_width": ""
      }
     },
     "a50d8955e25c4c16b61f17a3d3603116": {
      "model_module": "@jupyter-widgets/controls",
      "model_module_version": "1.5.0",
      "model_name": "ButtonModel",
      "state": {
       "button_style": "danger",
       "description": "Export Peaks",
       "icon": "check",
       "layout": "IPY_MODEL_f7b15c843e0044d7a04c9be5f6f267a5",
       "style": "IPY_MODEL_e3cf98fba9f7466db543951c4c36aa1a",
       "tooltip": "Run computation"
      }
     },
     "a5753b59922f419b9184245bfacf42f1": {
      "model_module": "@jupyter-widgets/controls",
      "model_module_version": "1.5.0",
      "model_name": "DropdownModel",
      "state": {
       "_options_labels": [
        "Sf[9]",
        "Sf[10]",
        "Sf[11]",
        "Sf[12]",
        "Sf[13]",
        "Sf[14]",
        "Sf[15]",
        "Sf[16]",
        "Sf[17]",
        "Sf[18]",
        "Sf[19]",
        "Sf[20]",
        "Sf[21]",
        "Sf[22]",
        "Sf[23]",
        "Sf[24]",
        "Sf[25]",
        "Sf[26]",
        "Sf[27]",
        "Sf[28]",
        "Sf[29]",
        "Sf[30]",
        "Sf[31]",
        "Sf[32]",
        "Sf[33]",
        "Sf[34]",
        "Sf[35]"
       ],
       "description": "Channel",
       "index": 22,
       "layout": "IPY_MODEL_f68877fb6d634b6481b6d71765684dd7",
       "style": "IPY_MODEL_ce009fcf0476438b914045c981ce1a6d"
      }
     },
     "a591385e3f5c4f77bd9e3fa584d30e34": {
      "model_module": "@jupyter-widgets/base",
      "model_module_version": "1.2.0",
      "model_name": "LayoutModel",
      "state": {}
     },
     "a6423ab2794d4e8496b335796f035e84": {
      "model_module": "@jupyter-widgets/controls",
      "model_module_version": "1.5.0",
      "model_name": "TextModel",
      "state": {
       "disabled": true,
       "layout": "IPY_MODEL_484da8010a21480bab50558552e49ee9",
       "placeholder": "output filename",
       "style": "IPY_MODEL_72911adee6704efcb4f79c1ac85d6951"
      }
     },
     "a69f45ffeb6d44faaf078ac9a15165bc": {
      "model_module": "@jupyter-widgets/controls",
      "model_module_version": "1.5.0",
      "model_name": "DropdownModel",
      "state": {
       "_options_labels": [
        "Sf[9]",
        "Sf[10]",
        "Sf[11]",
        "Sf[12]",
        "Sf[13]",
        "Sf[14]",
        "Sf[15]",
        "Sf[16]",
        "Sf[17]",
        "Sf[18]",
        "Sf[19]",
        "Sf[20]",
        "Sf[21]",
        "Sf[22]",
        "Sf[23]",
        "Sf[24]",
        "Sf[25]",
        "Sf[26]",
        "Sf[27]",
        "Sf[28]",
        "Sf[29]",
        "Sf[30]",
        "Sf[31]",
        "Sf[32]",
        "Sf[33]",
        "Sf[34]",
        "Sf[35]"
       ],
       "description": "Channel",
       "index": null,
       "layout": "IPY_MODEL_d69d9685e7ca45beb857482e8f4722dd",
       "style": "IPY_MODEL_b2001ffd1b134d51b7b7f35537569624"
      }
     },
     "a761f668eaac41369569162e959890b6": {
      "model_module": "@jupyter-widgets/controls",
      "model_module_version": "1.5.0",
      "model_name": "FloatSliderModel",
      "state": {
       "continuous_update": false,
       "description": "Minimum width (m)",
       "layout": "IPY_MODEL_6c82af285e88475f886005602b315ffa",
       "max": 1000,
       "min": 1,
       "style": "IPY_MODEL_47af5bf69dd04a868000ccbbbb5c8a89",
       "value": 100
      }
     },
     "a7940861c7a04cfca998c37a9535bf9c": {
      "model_module": "@jupyter-widgets/controls",
      "model_module_version": "1.5.0",
      "model_name": "ToggleButtonsStyleModel",
      "state": {
       "button_width": "",
       "description_width": ""
      }
     },
     "a7951a0faaf14756916325efbc4b16d7": {
      "model_module": "@jupyter-widgets/base",
      "model_module_version": "1.2.0",
      "model_name": "LayoutModel",
      "state": {}
     },
     "a79cd5bf000146ba8353b52f5c196525": {
      "model_module": "@jupyter-widgets/controls",
      "model_module_version": "1.5.0",
      "model_name": "ButtonStyleModel",
      "state": {}
     },
     "a7b11a54f6ea4f8c956c75bb0e14baa0": {
      "model_module": "@jupyter-widgets/base",
      "model_module_version": "1.2.0",
      "model_name": "LayoutModel",
      "state": {}
     },
     "a7d66b2a94c347348e3ab7762a982df4": {
      "model_module": "@jupyter-widgets/controls",
      "model_module_version": "1.5.0",
      "model_name": "HBoxModel",
      "state": {
       "children": [
        "IPY_MODEL_1311f9bde5aa4ce4bb242c02b5ba8293",
        "IPY_MODEL_7bed9fa9f4a344e5a267780bcdf2edc9",
        "IPY_MODEL_2a3dd279af394d0f893a27ea024c31e6"
       ],
       "layout": "IPY_MODEL_cd06eeaae3264b23b907032bf28be038"
      }
     },
     "a7e55f14e0224eb98dbd18480d3cfbdf": {
      "model_module": "@jupyter-widgets/controls",
      "model_module_version": "1.5.0",
      "model_name": "DescriptionStyleModel",
      "state": {
       "description_width": "initial"
      }
     },
     "a7f47557dd0149688a59b2128095fdfe": {
      "model_module": "@jupyter-widgets/controls",
      "model_module_version": "1.5.0",
      "model_name": "DropdownModel",
      "state": {
       "_options_labels": [
        "Sf[9]",
        "Sf[10]",
        "Sf[11]",
        "Sf[12]",
        "Sf[13]",
        "Sf[14]",
        "Sf[15]",
        "Sf[16]",
        "Sf[17]",
        "Sf[18]",
        "Sf[19]",
        "Sf[20]",
        "Sf[21]",
        "Sf[22]",
        "Sf[23]",
        "Sf[24]",
        "Sf[25]",
        "Sf[26]",
        "Sf[27]",
        "Sf[28]",
        "Sf[29]",
        "Sf[30]",
        "Sf[31]",
        "Sf[32]",
        "Sf[33]",
        "Sf[34]",
        "Sf[35]"
       ],
       "description": "Channel",
       "index": null,
       "layout": "IPY_MODEL_4031aff8265d4c9ca226a82601ec5640",
       "style": "IPY_MODEL_c4605138a11b4e10bc3f3f6a201d6c73"
      }
     },
     "a81315a1adce4e76aaadf26915eafbb7": {
      "model_module": "@jupyter-widgets/controls",
      "model_module_version": "1.5.0",
      "model_name": "VBoxModel",
      "state": {
       "children": [
        "IPY_MODEL_a5753b59922f419b9184245bfacf42f1",
        "IPY_MODEL_e3768c438fb84b35af681148d6471c20"
       ],
       "layout": "IPY_MODEL_22510453a17d4f7a9d3b95b0fb9cce0a"
      }
     },
     "a829ef1d986a46519d86241b2168e17e": {
      "model_module": "@jupyter-widgets/controls",
      "model_module_version": "1.5.0",
      "model_name": "DropdownModel",
      "state": {
       "_options_labels": [
        "Sf[9]",
        "Sf[10]",
        "Sf[11]",
        "Sf[12]",
        "Sf[13]",
        "Sf[14]",
        "Sf[15]",
        "Sf[16]",
        "Sf[17]",
        "Sf[18]",
        "Sf[19]",
        "Sf[20]",
        "Sf[21]",
        "Sf[22]",
        "Sf[23]",
        "Sf[24]",
        "Sf[25]",
        "Sf[26]",
        "Sf[27]",
        "Sf[28]",
        "Sf[29]",
        "Sf[30]",
        "Sf[31]",
        "Sf[32]",
        "Sf[33]",
        "Sf[34]",
        "Sf[35]"
       ],
       "description": "Channel",
       "index": 26,
       "layout": "IPY_MODEL_c0ec95ccaff9410398a1589feeb1aafb",
       "style": "IPY_MODEL_19d6806dc4e541fdb08cf38cc0323b1c"
      }
     },
     "a84444cb98c34112a2664c3fe6baae44": {
      "model_module": "@jupyter-widgets/controls",
      "model_module_version": "1.5.0",
      "model_name": "DescriptionStyleModel",
      "state": {
       "description_width": "initial"
      }
     },
     "a84ede43414641d8b1da5990a5a0b95f": {
      "model_module": "@jupyter-widgets/controls",
      "model_module_version": "1.5.0",
      "model_name": "VBoxModel",
      "state": {
       "children": [
        "IPY_MODEL_d3d843956ede43448826c42a2106d861",
        "IPY_MODEL_bebe8fa3da2f4257ac02e71d47960945"
       ],
       "layout": "IPY_MODEL_aaf32ff66c274229878c7bec8d423ba8"
      }
     },
     "a89aac07d31b46978186aff968f1c55a": {
      "model_module": "@jupyter-widgets/controls",
      "model_module_version": "1.5.0",
      "model_name": "DescriptionStyleModel",
      "state": {
       "description_width": ""
      }
     },
     "a94122446368494ca90b67a07d622448": {
      "model_module": "@jupyter-widgets/controls",
      "model_module_version": "1.5.0",
      "model_name": "VBoxModel",
      "state": {
       "children": [
        "IPY_MODEL_e14cc85c00994964b09520f21c8986bb",
        "IPY_MODEL_d2dd13fc26cb418380e6b9db20bce588"
       ],
       "layout": "IPY_MODEL_f0bad7aa34b14cfe9d0365020c0b4a92"
      }
     },
     "a97332df13e941ebbf77be5b8a703a9c": {
      "model_module": "@jupyter-widgets/base",
      "model_module_version": "1.2.0",
      "model_name": "LayoutModel",
      "state": {}
     },
     "a9785878412a4f5793ae4ad1e2588f1d": {
      "model_module": "@jupyter-widgets/base",
      "model_module_version": "1.2.0",
      "model_name": "LayoutModel",
      "state": {}
     },
     "aa06540f826b41fcb1221f299c9a4434": {
      "model_module": "@jupyter-widgets/controls",
      "model_module_version": "1.5.0",
      "model_name": "DescriptionStyleModel",
      "state": {
       "description_width": ""
      }
     },
     "aa171ff229c949a38d4abb1e61449793": {
      "model_module": "@jupyter-widgets/controls",
      "model_module_version": "1.5.0",
      "model_name": "VBoxModel",
      "state": {
       "children": [
        "IPY_MODEL_974a3bec57774dc3a010871b2dcb3987",
        "IPY_MODEL_81974faf37f94d22988e8022fe9ad5d8",
        "IPY_MODEL_cb41a15097cb40fb83eb4eb9e40fc7ed"
       ],
       "layout": "IPY_MODEL_5c7b834401f24e82a743e97a4af04b53"
      }
     },
     "aa3b8939b62544948e3b24baeb2d8b05": {
      "model_module": "@jupyter-widgets/base",
      "model_module_version": "1.2.0",
      "model_name": "LayoutModel",
      "state": {}
     },
     "aa4060ad98df4f6a9195415a6caf6910": {
      "model_module": "@jupyter-widgets/controls",
      "model_module_version": "1.5.0",
      "model_name": "DescriptionStyleModel",
      "state": {
       "description_width": ""
      }
     },
     "aaf32ff66c274229878c7bec8d423ba8": {
      "model_module": "@jupyter-widgets/base",
      "model_module_version": "1.2.0",
      "model_name": "LayoutModel",
      "state": {}
     },
     "ab14e72c22f54074a19c54435b2699f1": {
      "model_module": "@jupyter-widgets/base",
      "model_module_version": "1.2.0",
      "model_name": "LayoutModel",
      "state": {
       "display": "none",
       "width": "auto"
      }
     },
     "ab86a4cbe6124fa58fad6feef50fee4b": {
      "model_module": "@jupyter-widgets/base",
      "model_module_version": "1.2.0",
      "model_name": "LayoutModel",
      "state": {}
     },
     "aba4200ca5b84c34a558daf31ee0d234": {
      "model_module": "@jupyter-widgets/base",
      "model_module_version": "1.2.0",
      "model_name": "LayoutModel",
      "state": {}
     },
     "abb01eb13adf4920afcebaf6eb90da93": {
      "model_module": "@jupyter-widgets/controls",
      "model_module_version": "1.5.0",
      "model_name": "DescriptionStyleModel",
      "state": {
       "description_width": ""
      }
     },
     "acd789f972504aa4ad7e82a9f799f6b8": {
      "model_module": "@jupyter-widgets/base",
      "model_module_version": "1.2.0",
      "model_name": "LayoutModel",
      "state": {}
     },
     "acebbbe59a9844ee8c17631ab8d519dd": {
      "model_module": "@jupyter-widgets/controls",
      "model_module_version": "1.5.0",
      "model_name": "FloatTextModel",
      "state": {
       "description": "Minimum data value",
       "layout": "IPY_MODEL_9765e356905a46f0974d636de37766fa",
       "step": null,
       "style": "IPY_MODEL_e370b223b27e46dc8920321817ce88a2",
       "value": -0.0004509940918069333
      }
     },
     "ad10ef4d162f4c58aa0263b41aa4842d": {
      "model_module": "@jupyter-widgets/base",
      "model_module_version": "1.2.0",
      "model_name": "LayoutModel",
      "state": {}
     },
     "ada19629489e425093c6b97aeea089d6": {
      "model_module": "@jupyter-widgets/base",
      "model_module_version": "1.2.0",
      "model_name": "LayoutModel",
      "state": {}
     },
     "add84ad642a04cb7b5bc482044ac17cf": {
      "model_module": "@jupyter-widgets/base",
      "model_module_version": "1.2.0",
      "model_name": "LayoutModel",
      "state": {}
     },
     "ae120b70cf3746be88583767d2b41acb": {
      "model_module": "@jupyter-widgets/controls",
      "model_module_version": "1.5.0",
      "model_name": "ToggleButtonModel",
      "state": {
       "layout": "IPY_MODEL_c8cb17d81d5e4be8a24d846e0b246cc4",
       "style": "IPY_MODEL_1c4d6298c30e460993599fe25cbf4a01",
       "value": true
      }
     },
     "af05e7523cae499abfa5dce18394eb98": {
      "model_module": "@jupyter-widgets/controls",
      "model_module_version": "1.5.0",
      "model_name": "DropdownModel",
      "state": {
       "_options_labels": [
        "Sf[9]",
        "Sf[10]",
        "Sf[11]",
        "Sf[12]",
        "Sf[13]",
        "Sf[14]",
        "Sf[15]",
        "Sf[16]",
        "Sf[17]",
        "Sf[18]",
        "Sf[19]",
        "Sf[20]",
        "Sf[21]",
        "Sf[22]",
        "Sf[23]",
        "Sf[24]",
        "Sf[25]",
        "Sf[26]",
        "Sf[27]",
        "Sf[28]",
        "Sf[29]",
        "Sf[30]",
        "Sf[31]",
        "Sf[32]",
        "Sf[33]",
        "Sf[34]",
        "Sf[35]"
       ],
       "description": "Channel",
       "index": 14,
       "layout": "IPY_MODEL_2f436d0412364d9fab64f1327bf19577",
       "style": "IPY_MODEL_9fe65ddea7374675991e38e2dbcb78bb"
      }
     },
     "af4ae3abf65c49ad9d85350059cc7822": {
      "model_module": "@jupyter-widgets/base",
      "model_module_version": "1.2.0",
      "model_name": "LayoutModel",
      "state": {}
     },
     "af97c5c7416c40838c69648b98289258": {
      "model_module": "@jupyter-widgets/controls",
      "model_module_version": "1.5.0",
      "model_name": "SelectModel",
      "state": {
       "_options_labels": [
        "..",
        "dask-worker-space",
        "images",
        "base_application.ipynb",
        "calculator.ipynb",
        "clustering.ipynb",
        "contouring.ipynb",
        "coordinate_transformation.ipynb",
        "create_surface.ipynb",
        "data_interpolation.ipynb",
        "edge_detection.ipynb",
        "export.ipynb",
        "geophysical_inversion.ipynb",
        "object_data_selection.ipynb",
        "peak_finder.ipynb",
        "scatter.ipynb",
        "view_selection.ipynb"
       ],
       "index": null,
       "layout": "IPY_MODEL_50ee3c1134564d2c88156dbc9657c7e4",
       "rows": 8,
       "style": "IPY_MODEL_d34708e498074c9885a854284b682657"
      }
     },
     "afb61b6e89184e4086b61e96efac43b9": {
      "model_module": "@jupyter-widgets/base",
      "model_module_version": "1.2.0",
      "model_name": "LayoutModel",
      "state": {}
     },
     "b1610efcc2a94aa5b0e67408c366d3ee": {
      "model_module": "@jupyter-widgets/base",
      "model_module_version": "1.2.0",
      "model_name": "LayoutModel",
      "state": {}
     },
     "b161cf707174480696ab767781e5222d": {
      "model_module": "@jupyter-widgets/controls",
      "model_module_version": "1.5.0",
      "model_name": "DescriptionStyleModel",
      "state": {
       "description_width": ""
      }
     },
     "b192a2253df34b728dbb1032e4b2db94": {
      "model_module": "@jupyter-widgets/controls",
      "model_module_version": "1.5.0",
      "model_name": "HTMLModel",
      "state": {
       "layout": "IPY_MODEL_f245979b2e18425daccfad699db4fe38",
       "placeholder": "",
       "style": "IPY_MODEL_57f9f4e6c3e84bfe9b92774a25fa3c22",
       "value": "<span style=\"margin-left:10px; color:black;\">No file selected</span>"
      }
     },
     "b194e778e72c4ed2ae4ba9f845ec9914": {
      "model_module": "@jupyter-widgets/base",
      "model_module_version": "1.2.0",
      "model_name": "LayoutModel",
      "state": {}
     },
     "b1d8370b4cb9475284a26968c3e0ef07": {
      "model_module": "@jupyter-widgets/controls",
      "model_module_version": "1.5.0",
      "model_name": "HBoxModel",
      "state": {
       "children": [
        "IPY_MODEL_482ab8edb7d640be83c8856bf442e8e5",
        "IPY_MODEL_242bfa142c4f46a3b52e0514ed39b251",
        "IPY_MODEL_f0547da594ff4169be720cc74141930c",
        "IPY_MODEL_e53da78645dd4cfd87b2db990b34c55c"
       ],
       "layout": "IPY_MODEL_0e78ea663b354ffdbc748bba6d0f8cf1"
      }
     },
     "b1e1a27cc20c47b4b6d5cb639aba17dc": {
      "model_module": "@jupyter-widgets/controls",
      "model_module_version": "1.5.0",
      "model_name": "HTMLModel",
      "state": {
       "layout": "IPY_MODEL_858eaece3864476cad0b916386711a2f",
       "style": "IPY_MODEL_5e4c3e3137ae4057b45924cda36038e6"
      }
     },
     "b2001ffd1b134d51b7b7f35537569624": {
      "model_module": "@jupyter-widgets/controls",
      "model_module_version": "1.5.0",
      "model_name": "DescriptionStyleModel",
      "state": {
       "description_width": "initial"
      }
     },
     "b31fb5a7452b402ca1865e9cb9a3a62f": {
      "model_module": "@jupyter-widgets/controls",
      "model_module_version": "1.5.0",
      "model_name": "TextModel",
      "state": {
       "continuous_update": false,
       "description": "Save As",
       "layout": "IPY_MODEL_c02b6aa6221f4035a0826442d738fda7",
       "style": "IPY_MODEL_c339301ae22b465e89b071a2f5aae703",
       "value": "PeakFinder"
      }
     },
     "b32cb3719a2e4b1c8d8b93e8f51c5573": {
      "model_module": "@jupyter-widgets/controls",
      "model_module_version": "1.5.0",
      "model_name": "DescriptionStyleModel",
      "state": {
       "description_width": "initial"
      }
     },
     "b3721de34f344b05b6be34efd2ad61a3": {
      "model_module": "@jupyter-widgets/controls",
      "model_module_version": "1.5.0",
      "model_name": "LabelModel",
      "state": {
       "layout": "IPY_MODEL_0ed994d0a2e54adbba086300f366dbeb",
       "style": "IPY_MODEL_819932e38f6a49228e6a8a756e4561c9",
       "value": "Workspace"
      }
     },
     "b377746de9d848b3bb845ebfc06d1091": {
      "model_module": "@jupyter-widgets/controls",
      "model_module_version": "1.5.0",
      "model_name": "LabelModel",
      "state": {
       "layout": "IPY_MODEL_81e75440ca4740f5ab976313cc20bbb7",
       "style": "IPY_MODEL_9b7b94d029644d50b03a9eea0e518e76",
       "value": "Workspace"
      }
     },
     "b3d2cf3aef8b4e4c87aa86704f6b245d": {
      "model_module": "@jupyter-widgets/base",
      "model_module_version": "1.2.0",
      "model_name": "LayoutModel",
      "state": {}
     },
     "b3f869972dbf406383486f6ca2e1eb9b": {
      "model_module": "@jupyter-widgets/controls",
      "model_module_version": "1.5.0",
      "model_name": "DescriptionStyleModel",
      "state": {
       "description_width": ""
      }
     },
     "b41177abeb284467900ad6ec04ab175b": {
      "model_module": "@jupyter-widgets/base",
      "model_module_version": "1.2.0",
      "model_name": "LayoutModel",
      "state": {}
     },
     "b45388781c8c4b6fab799e4ac4d2907f": {
      "model_module": "@jupyter-widgets/base",
      "model_module_version": "1.2.0",
      "model_name": "LayoutModel",
      "state": {}
     },
     "b474a0df41544d03a0a4066ea3baea2e": {
      "model_module": "@jupyter-widgets/base",
      "model_module_version": "1.2.0",
      "model_name": "LayoutModel",
      "state": {}
     },
     "b4e36411ee23428d9e70b7263676d330": {
      "model_module": "@jupyter-widgets/controls",
      "model_module_version": "1.5.0",
      "model_name": "DescriptionStyleModel",
      "state": {
       "description_width": ""
      }
     },
     "b507b09669ba4fc0be5c502d0073cc69": {
      "model_module": "@jupyter-widgets/base",
      "model_module_version": "1.2.0",
      "model_name": "LayoutModel",
      "state": {}
     },
     "b5755339a2534325854e8a5c7332d717": {
      "model_module": "@jupyter-widgets/controls",
      "model_module_version": "1.5.0",
      "model_name": "DescriptionStyleModel",
      "state": {
       "description_width": ""
      }
     },
     "b59461ee872d428c9d2762faa9d7b59f": {
      "model_module": "@jupyter-widgets/controls",
      "model_module_version": "1.5.0",
      "model_name": "DropdownModel",
      "state": {
       "_options_labels": [
        "Sf[9]",
        "Sf[10]",
        "Sf[11]",
        "Sf[12]",
        "Sf[13]",
        "Sf[14]",
        "Sf[15]",
        "Sf[16]",
        "Sf[17]",
        "Sf[18]",
        "Sf[19]",
        "Sf[20]",
        "Sf[21]",
        "Sf[22]",
        "Sf[23]",
        "Sf[24]",
        "Sf[25]",
        "Sf[26]",
        "Sf[27]",
        "Sf[28]",
        "Sf[29]",
        "Sf[30]",
        "Sf[31]",
        "Sf[32]",
        "Sf[33]",
        "Sf[34]",
        "Sf[35]"
       ],
       "description": "Channel",
       "index": 3,
       "layout": "IPY_MODEL_a268432cbed7407da593f0b69173c173",
       "style": "IPY_MODEL_b32cb3719a2e4b1c8d8b93e8f51c5573"
      }
     },
     "b61e408d0809428ea71e1b7db67c8315": {
      "model_module": "@jupyter-widgets/controls",
      "model_module_version": "1.5.0",
      "model_name": "DescriptionStyleModel",
      "state": {
       "description_width": ""
      }
     },
     "b7024095c48146e297fecc6864d7a2c8": {
      "model_module": "@jupyter-widgets/controls",
      "model_module_version": "1.5.0",
      "model_name": "HBoxModel",
      "state": {
       "children": [
        "IPY_MODEL_6da9525ef72644f6bab03ab76852b6de",
        "IPY_MODEL_64ada9775b994b609635817d9936af8d",
        "IPY_MODEL_34ede32f90be474dbd1e907ddc8f95cd"
       ],
       "layout": "IPY_MODEL_9d0a92ce70ee4d62b57d7012615b4e13"
      }
     },
     "b7329538b23d4814a8b0ebe1da300099": {
      "model_module": "@jupyter-widgets/base",
      "model_module_version": "1.2.0",
      "model_name": "LayoutModel",
      "state": {
       "grid_area": "dircontent",
       "width": "auto"
      }
     },
     "b734932f2e274e71892765adf9f21ad4": {
      "model_module": "@jupyter-widgets/base",
      "model_module_version": "1.2.0",
      "model_name": "LayoutModel",
      "state": {}
     },
     "b7ef49d7cd8647a98a923a0280fd3bc6": {
      "model_module": "@jupyter-widgets/controls",
      "model_module_version": "1.5.0",
      "model_name": "TextModel",
      "state": {
       "layout": "IPY_MODEL_1bba360b01734914b738253ee86ca813",
       "placeholder": "output filename",
       "style": "IPY_MODEL_e3d7000ecf7c453487be33d862ad881a",
       "value": "FlinFlon.geoh5"
      }
     },
     "b7fdc87ddff4416ca3d49d22fec9860e": {
      "model_module": "@jupyter-widgets/controls",
      "model_module_version": "1.5.0",
      "model_name": "LabelModel",
      "state": {
       "layout": "IPY_MODEL_6be83a36328f4e97b19167f2ee1eb3c5",
       "style": "IPY_MODEL_c320b33958c94fdc8c800753c3d1377e",
       "value": "Monitoring folder"
      }
     },
     "b8553131c5414bd9a179930ca9f65940": {
      "model_module": "@jupyter-widgets/base",
      "model_module_version": "1.2.0",
      "model_name": "LayoutModel",
      "state": {}
     },
     "b887ae3fc7424e6d93eb36891a42d3d9": {
      "model_module": "@jupyter-widgets/controls",
      "model_module_version": "1.5.0",
      "model_name": "DescriptionStyleModel",
      "state": {
       "description_width": "initial"
      }
     },
     "b8a336735f4e4591a5f3ccfd4ef23921": {
      "model_module": "@jupyter-widgets/controls",
      "model_module_version": "1.5.0",
      "model_name": "SliderStyleModel",
      "state": {
       "description_width": "initial"
      }
     },
     "b8d4dbdd09ff4d55a3a389b5286db082": {
      "model_module": "@jupyter-widgets/base",
      "model_module_version": "1.2.0",
      "model_name": "LayoutModel",
      "state": {}
     },
     "b91402e37fda467aa7818c348b494f11": {
      "model_module": "@jupyter-widgets/controls",
      "model_module_version": "1.5.0",
      "model_name": "HBoxModel",
      "state": {
       "children": [
        "IPY_MODEL_0e21efe6d4e741e8b31ce1b61e637a66",
        "IPY_MODEL_a435c278a38940eb86f8ae4d414848dc",
        "IPY_MODEL_e00ad3f6d5ed4d2ba612196855aaf725"
       ],
       "layout": "IPY_MODEL_ee6d8df807464ade8423924f9064a24d"
      }
     },
     "b938c699f17b4e16bfdd7fba39cbb88e": {
      "model_module": "@jupyter-widgets/controls",
      "model_module_version": "1.5.0",
      "model_name": "DescriptionStyleModel",
      "state": {
       "description_width": ""
      }
     },
     "b98fff41d92d4550ae30757640d7505e": {
      "model_module": "@jupyter-widgets/controls",
      "model_module_version": "1.5.0",
      "model_name": "DescriptionStyleModel",
      "state": {
       "description_width": ""
      }
     },
     "b9ae26de9e7a43fdb08ca3515dfc7208": {
      "model_module": "@jupyter-widgets/base",
      "model_module_version": "1.2.0",
      "model_name": "LayoutModel",
      "state": {}
     },
     "b9b4d11d1e0c4f989d2d71fd84490b01": {
      "model_module": "@jupyter-widgets/base",
      "model_module_version": "1.2.0",
      "model_name": "LayoutModel",
      "state": {
       "display": "none"
      }
     },
     "b9fa1906c93d46b6a738f4f5b0d74016": {
      "model_module": "@jupyter-widgets/base",
      "model_module_version": "1.2.0",
      "model_name": "LayoutModel",
      "state": {}
     },
     "b9fa1c25d48142a1a2376ecddc60ddcd": {
      "model_module": "@jupyter-widgets/controls",
      "model_module_version": "1.5.0",
      "model_name": "VBoxModel",
      "state": {
       "children": [
        "IPY_MODEL_bd27fd71cd1047808ac2e742a8c91068",
        "IPY_MODEL_85d43d3d76bc49e2870e471d7c3d1562"
       ],
       "layout": "IPY_MODEL_f504e0db83a14816ad2cff0068555228"
      }
     },
     "bb0f7cef616548a59092906b4dea98c9": {
      "model_module": "@jupyter-widgets/controls",
      "model_module_version": "1.5.0",
      "model_name": "HBoxModel",
      "state": {
       "children": [
        "IPY_MODEL_d20d57ba82ef486e91b7804777aa68e2",
        "IPY_MODEL_f8ec8fca629f4b7189f8d53e01f1d1d9"
       ],
       "layout": "IPY_MODEL_50e9725e523f417fa7d71bb240bec4ce"
      }
     },
     "bb1816e043f844cea87eba1c33b89aa9": {
      "model_module": "@jupyter-widgets/base",
      "model_module_version": "1.2.0",
      "model_name": "LayoutModel",
      "state": {}
     },
     "bbe2795f7c4a47bba7e456428ffa47a3": {
      "model_module": "@jupyter-widgets/controls",
      "model_module_version": "1.5.0",
      "model_name": "FloatTextModel",
      "state": {
       "description": "Time (s)",
       "layout": "IPY_MODEL_afb61b6e89184e4086b61e96efac43b9",
       "step": null,
       "style": "IPY_MODEL_386fbb0b28b54913ae9a855d8dfd9412",
       "value": 9.9e-05
      }
     },
     "bc306539ecce4785a5a12f6c8e6d41dd": {
      "model_module": "@jupyter-widgets/base",
      "model_module_version": "1.2.0",
      "model_name": "LayoutModel",
      "state": {}
     },
     "bc415f9d033e47cd8a4e5c5a25f149fd": {
      "model_module": "@jupyter-widgets/controls",
      "model_module_version": "1.5.0",
      "model_name": "VBoxModel",
      "state": {
       "children": [
        "IPY_MODEL_b3721de34f344b05b6be34efd2ad61a3",
        "IPY_MODEL_286c8f03448e4b078019fb545827981a"
       ],
       "layout": "IPY_MODEL_5cc9c042e2c449bda69efebe916209ff"
      }
     },
     "bc701faa431b46d3b3b1661ea6e5dff5": {
      "model_module": "@jupyter-widgets/controls",
      "model_module_version": "1.5.0",
      "model_name": "ButtonStyleModel",
      "state": {}
     },
     "bce33d8c72e04b96b6a48fb665b55a32": {
      "model_module": "@jupyter-widgets/controls",
      "model_module_version": "1.5.0",
      "model_name": "FloatTextModel",
      "state": {
       "description": "Time (s)",
       "layout": "IPY_MODEL_514ed764f87a4a6d8b33c8b9818527c4",
       "step": null,
       "style": "IPY_MODEL_94b4e70914754eeb8965568ca4e61f15",
       "value": 0.000974
      }
     },
     "bd05c340b5ea406b9c1b7306cb883bee": {
      "model_module": "@jupyter-widgets/controls",
      "model_module_version": "1.5.0",
      "model_name": "DropdownModel",
      "state": {
       "_options_labels": [
        "Sf[9]",
        "Sf[10]",
        "Sf[11]",
        "Sf[12]",
        "Sf[13]",
        "Sf[14]",
        "Sf[15]",
        "Sf[16]",
        "Sf[17]",
        "Sf[18]",
        "Sf[19]",
        "Sf[20]",
        "Sf[21]",
        "Sf[22]",
        "Sf[23]",
        "Sf[24]",
        "Sf[25]",
        "Sf[26]",
        "Sf[27]",
        "Sf[28]",
        "Sf[29]",
        "Sf[30]",
        "Sf[31]",
        "Sf[32]",
        "Sf[33]",
        "Sf[34]",
        "Sf[35]"
       ],
       "description": "Channel",
       "index": 18,
       "layout": "IPY_MODEL_f509f37f8d27452498c9c77163cbe70a",
       "style": "IPY_MODEL_8bd1ce911b7043a18f42dcfce7bf5233"
      }
     },
     "bd27fd71cd1047808ac2e742a8c91068": {
      "model_module": "@jupyter-widgets/controls",
      "model_module_version": "1.5.0",
      "model_name": "DropdownModel",
      "state": {
       "_options_labels": [
        "",
        "fault_splay1",
        "fault_Cliff_Lake",
        "fault_Other_FlinFlon",
        "fault_Club_Lake_splay",
        "fault_Catherine_splay2",
        "fault_Birch_View",
        "fault_Dion_Lake",
        "fault_FlinFlon_splay",
        "fault_West_Mandy_Road",
        "fault_Channing",
        "fault_Ross_Lake",
        "fault_Louis_Hidden",
        "fault_Lake_View_thrust",
        "contact_Schist_Lake",
        "fault_Burley_Lake",
        "fault_Dion_Lake_splay",
        "fault_Green_Lake",
        "fault_FlinFlon",
        "fault_Catherine_splay1",
        "fault_East_Mandy_Road",
        "fault_Other_FlinFlon_South",
        "fault_Catherine_splay4",
        "contact_Stitt_Island",
        "fault_Club_Lake",
        "fault_Tailing_Pond",
        "35_Hidden_Reservoir_Hr5",
        "29_Hidden_Reservoir_Hr1a",
        "60_BlueLagoon_Fb2",
        "20_FlinFlon_Undivided_Int_Dykes_D2f",
        "04_Boundary_Intrusive_S4h",
        "53_Millrock_Rhyolite_Fm4b",
        "19_FlinFlon_Undivided_Int_Dykes_D2b",
        "18_FlinFlon_Undivided_Int_Dykes_777_D2b",
        "06_Phantom_Lake_Intrusive_S3a",
        "21_FlinFlon_Undivided_Int_Dykes_D3a",
        "43_Millrock_CHLSH_South",
        "56_Millrock_Basalt_Fm1ba",
        "17_FlinFlon_Undivided_Int_Dykes_D2",
        "32_Hidden_Reservoir_Hr1b_SW",
        "11_Missi_M3_NE",
        "13_Missi_M1",
        "07_Annabel_Granitoid_S1",
        "45_Millrock_Gabbro_South",
        "01_Late_Intrusive_S5b",
        "31_Hidden_Reservoir_Hr1c_SW",
        "52_Millrock_Rhyolite_Fm4_West_check",
        "55_Millrock_Basalt_Fm1bf",
        "34_Hidden_Reservoir_Hr2b",
        "03_Boundary_Intrusive_S4b",
        "42_Millrock_CHLSH_North",
        "26_Louis_L3",
        "23_FlinFlon_Undivided_Int_Felsic_D4g",
        "30_Hidden_Reservoir_Hr1b",
        "59_BlueLagoon_Fb3",
        "49_Millrock_MVR_Fm5d",
        "44_Millrock_Gabbro_North",
        "27_Hidden_Carlisle_Hc4",
        "22_FlinFlon_Undivided_Int_Felsic_D4e",
        "02_Boundary_Intrusive_S4a",
        "61_BlueLagoon_Fb1_NW",
        "05_Boundary_Intrusive_S4g",
        "39_Ore_Callinan",
        "38_Ore_Dan_Owens",
        "40_Ore_FlinFlon",
        "Inversion_VTEM_Model",
        "Inversion_DIGHEM_Model",
        "Topography"
       ],
       "description": "Surface:",
       "index": 65,
       "layout": "IPY_MODEL_c4556b04dafc45f6821862d7cab6bc28",
       "style": "IPY_MODEL_ccb8e720a8bb46f38ebde4d2bba8f03e"
      }
     },
     "be3c4949b5f345889c1e52b8c6b847a3": {
      "model_module": "@jupyter-widgets/base",
      "model_module_version": "1.2.0",
      "model_name": "LayoutModel",
      "state": {}
     },
     "be79b411f34b4f32b8302d8c4186b5e3": {
      "model_module": "@jupyter-widgets/controls",
      "model_module_version": "1.5.0",
      "model_name": "DescriptionStyleModel",
      "state": {
       "description_width": ""
      }
     },
     "beae1ecef4334c6d8b6f3220e622943d": {
      "model_module": "@jupyter-widgets/base",
      "model_module_version": "1.2.0",
      "model_name": "LayoutModel",
      "state": {
       "grid_area": "filename",
       "width": "auto"
      }
     },
     "beb1b0ab524443849490180138b4cc70": {
      "model_module": "@jupyter-widgets/base",
      "model_module_version": "1.2.0",
      "model_name": "LayoutModel",
      "state": {
       "width": "auto"
      }
     },
     "bebe8fa3da2f4257ac02e71d47960945": {
      "model_module": "@jupyter-widgets/controls",
      "model_module_version": "1.5.0",
      "model_name": "FloatTextModel",
      "state": {
       "description": "Time (s)",
       "layout": "IPY_MODEL_1c87a5286ae7475b885cda66f68fb12f",
       "step": null,
       "style": "IPY_MODEL_18a95b9438dc440787c74a3ffe00c0b2",
       "value": 0.00012
      }
     },
     "bf00a967c4bc436ba7248a8c2932a21e": {
      "model_module": "@jupyter-widgets/controls",
      "model_module_version": "1.5.0",
      "model_name": "VBoxModel",
      "state": {
       "children": [
        "IPY_MODEL_052be620aca94e67b0261f41208fbe25",
        "IPY_MODEL_731f36bb507d4f8caa3ea504280f6fae"
       ],
       "layout": "IPY_MODEL_0a5e3d0d5dea4b65847a239190625ff4"
      }
     },
     "bf34c92998874f90b18a24b8a4f114ec": {
      "model_module": "@jupyter-widgets/controls",
      "model_module_version": "1.5.0",
      "model_name": "DescriptionStyleModel",
      "state": {
       "description_width": ""
      }
     },
     "bf6257fd1972488b8f8b33c1341c5ca5": {
      "model_module": "@jupyter-widgets/controls",
      "model_module_version": "1.5.0",
      "model_name": "FloatTextModel",
      "state": {
       "description": "Time (s)",
       "layout": "IPY_MODEL_add84ad642a04cb7b5bc482044ac17cf",
       "step": null,
       "style": "IPY_MODEL_b4e36411ee23428d9e70b7263676d330",
       "value": 0.007828
      }
     },
     "bf79fb7d041f45a6ae342f24a0ef775a": {
      "model_module": "@jupyter-widgets/base",
      "model_module_version": "1.2.0",
      "model_name": "LayoutModel",
      "state": {
       "display": "none",
       "width": "auto"
      }
     },
     "bf810c6c1c0048ee98c5dc0ca2704d92": {
      "model_module": "@jupyter-widgets/base",
      "model_module_version": "1.2.0",
      "model_name": "LayoutModel",
      "state": {
       "display": "none",
       "grid_gap": "0px 0px",
       "grid_template_areas": "\n                    'pathlist pathlist'\n                    'dircontent dircontent'\n                    ",
       "grid_template_columns": "60% 40%",
       "grid_template_rows": "auto auto",
       "width": "500px"
      }
     },
     "bfbf58d4aea6483e85d98add88d63afb": {
      "model_module": "@jupyter-widgets/controls",
      "model_module_version": "1.5.0",
      "model_name": "SliderStyleModel",
      "state": {
       "description_width": ""
      }
     },
     "c02b6aa6221f4035a0826442d738fda7": {
      "model_module": "@jupyter-widgets/base",
      "model_module_version": "1.2.0",
      "model_name": "LayoutModel",
      "state": {}
     },
     "c0adecebbea3454f908fa90b5d011dec": {
      "model_module": "@jupyter-widgets/base",
      "model_module_version": "1.2.0",
      "model_name": "LayoutModel",
      "state": {}
     },
     "c0b486400cc7440eafea16f4878b7575": {
      "model_module": "@jupyter-widgets/controls",
      "model_module_version": "1.5.0",
      "model_name": "SelectModel",
      "state": {
       "_options_labels": [
        "..",
        "dask-worker-space",
        "images"
       ],
       "index": null,
       "layout": "IPY_MODEL_48a71afb92dd459790a67137d43d9706",
       "rows": 8,
       "style": "IPY_MODEL_9a1c8d172eae40ecbf2cd537672a1745"
      }
     },
     "c0ec589a38654c04b378bda2e889e8ab": {
      "model_module": "@jupyter-widgets/controls",
      "model_module_version": "1.5.0",
      "model_name": "DescriptionStyleModel",
      "state": {
       "description_width": ""
      }
     },
     "c0ec95ccaff9410398a1589feeb1aafb": {
      "model_module": "@jupyter-widgets/base",
      "model_module_version": "1.2.0",
      "model_name": "LayoutModel",
      "state": {}
     },
     "c13985c0c1f149cda629d5d3a6127863": {
      "model_module": "@jupyter-widgets/controls",
      "model_module_version": "1.5.0",
      "model_name": "VBoxModel",
      "state": {
       "children": [
        "IPY_MODEL_c91a3d7373c349da9c8ff6a1872a583e",
        "IPY_MODEL_3c0d25a2a189468980bbee5b215b6677"
       ],
       "layout": "IPY_MODEL_16683667091d42d39fe47fb43897fe0c"
      }
     },
     "c1af4f6c95a7430dad99531fa22daba0": {
      "model_module": "@jupyter-widgets/base",
      "model_module_version": "1.2.0",
      "model_name": "LayoutModel",
      "state": {}
     },
     "c1cbbd9e77d244d58a3359a7f55e11f7": {
      "model_module": "@jupyter-widgets/base",
      "model_module_version": "1.2.0",
      "model_name": "LayoutModel",
      "state": {
       "width": "auto"
      }
     },
     "c1d8235d9fed4a7688f6e09ec6955cf4": {
      "model_module": "@jupyter-widgets/controls",
      "model_module_version": "1.5.0",
      "model_name": "DescriptionStyleModel",
      "state": {
       "description_width": ""
      }
     },
     "c24faabdfd40449c9ad30232900997c8": {
      "model_module": "@jupyter-widgets/base",
      "model_module_version": "1.2.0",
      "model_name": "LayoutModel",
      "state": {}
     },
     "c2697079bd0042fe9a6519d619b4bfd8": {
      "model_module": "@jupyter-widgets/controls",
      "model_module_version": "1.5.0",
      "model_name": "VBoxModel",
      "state": {
       "children": [
        "IPY_MODEL_0d5144aabcd947c48e75b8a57981ddee",
        "IPY_MODEL_bb0f7cef616548a59092906b4dea98c9"
       ],
       "layout": "IPY_MODEL_13ec5a280fa44277983ce5d70685a232"
      }
     },
     "c2dc963e7ed14b6a8d13ec4b2f5011f1": {
      "model_module": "@jupyter-widgets/controls",
      "model_module_version": "1.5.0",
      "model_name": "FloatTextModel",
      "state": {
       "description": "Time (s)",
       "layout": "IPY_MODEL_c54970598e07416cbcc367ecfa225ec6",
       "step": null,
       "style": "IPY_MODEL_a37e938895b246dd817a67e6ce1540d2"
      }
     },
     "c320b33958c94fdc8c800753c3d1377e": {
      "model_module": "@jupyter-widgets/controls",
      "model_module_version": "1.5.0",
      "model_name": "DescriptionStyleModel",
      "state": {
       "description_width": "initial"
      }
     },
     "c339301ae22b465e89b071a2f5aae703": {
      "model_module": "@jupyter-widgets/controls",
      "model_module_version": "1.5.0",
      "model_name": "DescriptionStyleModel",
      "state": {
       "description_width": "initial"
      }
     },
     "c3c3ac8b499045bfab4c704f22dc3228": {
      "model_module": "@jupyter-widgets/base",
      "model_module_version": "1.2.0",
      "model_name": "LayoutModel",
      "state": {
       "display": "none",
       "width": "auto"
      }
     },
     "c416a0f995e0473d9d50c78ca456dd89": {
      "model_module": "@jupyter-widgets/base",
      "model_module_version": "1.2.0",
      "model_name": "LayoutModel",
      "state": {
       "width": "auto"
      }
     },
     "c41ef862a3ca41be9e059c4d42dcfb48": {
      "model_module": "@jupyter-widgets/base",
      "model_module_version": "1.2.0",
      "model_name": "LayoutModel",
      "state": {}
     },
     "c4556b04dafc45f6821862d7cab6bc28": {
      "model_module": "@jupyter-widgets/base",
      "model_module_version": "1.2.0",
      "model_name": "LayoutModel",
      "state": {}
     },
     "c4605138a11b4e10bc3f3f6a201d6c73": {
      "model_module": "@jupyter-widgets/controls",
      "model_module_version": "1.5.0",
      "model_name": "DescriptionStyleModel",
      "state": {
       "description_width": "initial"
      }
     },
     "c4cd487cf77a41399cd25ac7a787ff95": {
      "model_module": "@jupyter-widgets/base",
      "model_module_version": "1.2.0",
      "model_name": "LayoutModel",
      "state": {}
     },
     "c4e4ab25f96647728c2ee39ad911aec7": {
      "model_module": "@jupyter-widgets/base",
      "model_module_version": "1.2.0",
      "model_name": "LayoutModel",
      "state": {}
     },
     "c524cb2ec81445fb9dd374b5e6238f74": {
      "model_module": "@jupyter-widgets/controls",
      "model_module_version": "1.5.0",
      "model_name": "DescriptionStyleModel",
      "state": {
       "description_width": ""
      }
     },
     "c5258f0080e446c6ba79d052fe6549dc": {
      "model_module": "@jupyter-widgets/controls",
      "model_module_version": "1.5.0",
      "model_name": "DropdownModel",
      "state": {
       "_options_labels": [
        "Sf[9]",
        "Sf[10]",
        "Sf[11]",
        "Sf[12]",
        "Sf[13]",
        "Sf[14]",
        "Sf[15]",
        "Sf[16]",
        "Sf[17]",
        "Sf[18]",
        "Sf[19]",
        "Sf[20]",
        "Sf[21]",
        "Sf[22]",
        "Sf[23]",
        "Sf[24]",
        "Sf[25]",
        "Sf[26]",
        "Sf[27]",
        "Sf[28]",
        "Sf[29]",
        "Sf[30]",
        "Sf[31]",
        "Sf[32]",
        "Sf[33]",
        "Sf[34]",
        "Sf[35]"
       ],
       "description": "Channel",
       "index": 6,
       "layout": "IPY_MODEL_02ae0d23cd90411c9bb3b2a874d66b7f",
       "style": "IPY_MODEL_6735183ff6724793b9f77d137523f4c1"
      }
     },
     "c52929de281548f3bda3a384ded36c30": {
      "model_module": "@jupyter-widgets/controls",
      "model_module_version": "1.5.0",
      "model_name": "ButtonModel",
      "state": {
       "description": "Create copy:",
       "layout": "IPY_MODEL_07fff7cb97c74f89b78361e1b820d541",
       "style": "IPY_MODEL_a79cd5bf000146ba8353b52f5c196525"
      }
     },
     "c53997c0cdfc42c8b591de60130e7147": {
      "model_module": "@jupyter-widgets/controls",
      "model_module_version": "1.5.0",
      "model_name": "DropdownModel",
      "state": {
       "_options_labels": [
        "aggrnyl",
        "agsunset",
        "blackbody",
        "bluered",
        "blues",
        "blugrn",
        "bluyl",
        "brwnyl",
        "bugn",
        "bupu",
        "burg",
        "burgyl",
        "cividis",
        "darkmint",
        "electric",
        "emrld",
        "gnbu",
        "greens",
        "greys",
        "hot",
        "inferno",
        "jet",
        "magenta",
        "magma",
        "mint",
        "orrd",
        "oranges",
        "oryel",
        "peach",
        "pinkyl",
        "plasma",
        "plotly3",
        "pubu",
        "pubugn",
        "purd",
        "purp",
        "purples",
        "purpor",
        "rainbow",
        "rdbu",
        "rdpu",
        "redor",
        "reds",
        "sunset",
        "sunsetdark",
        "teal",
        "tealgrn",
        "viridis",
        "ylgn",
        "ylgnbu",
        "ylorbr",
        "ylorrd",
        "algae",
        "amp",
        "deep",
        "dense",
        "gray",
        "haline",
        "ice",
        "matter",
        "solar",
        "speed",
        "tempo",
        "thermal",
        "turbid",
        "armyrose",
        "brbg",
        "earth",
        "fall",
        "geyser",
        "prgn",
        "piyg",
        "picnic",
        "portland",
        "puor",
        "rdgy",
        "rdylbu",
        "rdylgn",
        "spectral",
        "tealrose",
        "temps",
        "tropic",
        "balance",
        "curl",
        "delta",
        "edge",
        "hsv",
        "icefire",
        "phase",
        "twilight",
        "mrybm",
        "mygbm"
       ],
       "description": "Colormaps",
       "index": 85,
       "layout": "IPY_MODEL_acd789f972504aa4ad7e82a9f799f6b8",
       "style": "IPY_MODEL_321b60e4cbe84421ae92d6babb7a91ca"
      }
     },
     "c542aa92ec6a4aa78e037ed75550122b": {
      "model_module": "@jupyter-widgets/base",
      "model_module_version": "1.2.0",
      "model_name": "LayoutModel",
      "state": {
       "width": "auto"
      }
     },
     "c54970598e07416cbcc367ecfa225ec6": {
      "model_module": "@jupyter-widgets/base",
      "model_module_version": "1.2.0",
      "model_name": "LayoutModel",
      "state": {}
     },
     "c56882086de34538bd3b6c2ab1e8fe55": {
      "model_module": "@jupyter-widgets/controls",
      "model_module_version": "1.5.0",
      "model_name": "DropdownModel",
      "state": {
       "_options_labels": [
        "C:\\Users\\dominiquef\\Documents\\GIT\\mira\\mirageoscience-apps\\docs\\content\\applications",
        "C:\\Users\\dominiquef\\Documents\\GIT\\mira\\mirageoscience-apps\\docs\\content",
        "C:\\Users\\dominiquef\\Documents\\GIT\\mira\\mirageoscience-apps\\docs",
        "C:\\Users\\dominiquef\\Documents\\GIT\\mira\\mirageoscience-apps",
        "C:\\Users\\dominiquef\\Documents\\GIT\\mira",
        "C:\\Users\\dominiquef\\Documents\\GIT",
        "C:\\Users\\dominiquef\\Documents",
        "C:\\Users\\dominiquef",
        "C:\\Users",
        "C:\\",
        "D:\\",
        "Z:\\"
       ],
       "index": 0,
       "layout": "IPY_MODEL_2d7451770a594a53bb997267d2d93505",
       "style": "IPY_MODEL_9bbc6d044486401aa6fd058013727f19"
      }
     },
     "c5ea9529d5024a0f834b9c5c183496ac": {
      "model_module": "@jupyter-widgets/base",
      "model_module_version": "1.2.0",
      "model_name": "LayoutModel",
      "state": {
       "width": "auto"
      }
     },
     "c6a7c7c4254548c89dd52291dbe852d5": {
      "model_module": "@jupyter-widgets/controls",
      "model_module_version": "1.5.0",
      "model_name": "DescriptionStyleModel",
      "state": {
       "description_width": ""
      }
     },
     "c76da6b4d54a4c8198a8076295aa3e22": {
      "model_module": "@jupyter-widgets/base",
      "model_module_version": "1.2.0",
      "model_name": "LayoutModel",
      "state": {}
     },
     "c78f213b10714da18bf166d79502eeb8": {
      "model_module": "@jupyter-widgets/controls",
      "model_module_version": "1.5.0",
      "model_name": "VBoxModel",
      "state": {
       "children": [
        "IPY_MODEL_e095c1faab5f41ca8dafe07e66c27cfa",
        "IPY_MODEL_e4358a64735943fda7f201a653077d49"
       ],
       "layout": "IPY_MODEL_f1737dc9dca041a3a8c9fd9e78260cfb"
      }
     },
     "c7cb485461d74a6d8dcbf473303b9db3": {
      "model_module": "@jupyter-widgets/base",
      "model_module_version": "1.2.0",
      "model_name": "LayoutModel",
      "state": {}
     },
     "c7d030478d1c441d941519428f836891": {
      "model_module": "@jupyter-widgets/base",
      "model_module_version": "1.2.0",
      "model_name": "LayoutModel",
      "state": {}
     },
     "c81711ec9eab41c29f8b3c2a5b1e5933": {
      "model_module": "@jupyter-widgets/base",
      "model_module_version": "1.2.0",
      "model_name": "LayoutModel",
      "state": {
       "display": "none",
       "grid_gap": "0px 0px",
       "grid_template_areas": "\n                    'pathlist filename'\n                    'dircontent dircontent'\n                    ",
       "grid_template_columns": "60% 40%",
       "grid_template_rows": "auto auto",
       "width": "500px"
      }
     },
     "c869f1e5998443cb93e70991ef42f85d": {
      "model_module": "@jupyter-widgets/controls",
      "model_module_version": "1.5.0",
      "model_name": "DescriptionStyleModel",
      "state": {
       "description_width": "initial"
      }
     },
     "c894a7d17abf472cbb46d73166d429c2": {
      "model_module": "@jupyter-widgets/base",
      "model_module_version": "1.2.0",
      "model_name": "LayoutModel",
      "state": {
       "grid_area": "filename",
       "width": "auto"
      }
     },
     "c8cb17d81d5e4be8a24d846e0b246cc4": {
      "model_module": "@jupyter-widgets/base",
      "model_module_version": "1.2.0",
      "model_name": "LayoutModel",
      "state": {}
     },
     "c91a3d7373c349da9c8ff6a1872a583e": {
      "model_module": "@jupyter-widgets/controls",
      "model_module_version": "1.5.0",
      "model_name": "DropdownModel",
      "state": {
       "_options_labels": [
        "Sf[9]",
        "Sf[10]",
        "Sf[11]",
        "Sf[12]",
        "Sf[13]",
        "Sf[14]",
        "Sf[15]",
        "Sf[16]",
        "Sf[17]",
        "Sf[18]",
        "Sf[19]",
        "Sf[20]",
        "Sf[21]",
        "Sf[22]",
        "Sf[23]",
        "Sf[24]",
        "Sf[25]",
        "Sf[26]",
        "Sf[27]",
        "Sf[28]",
        "Sf[29]",
        "Sf[30]",
        "Sf[31]",
        "Sf[32]",
        "Sf[33]",
        "Sf[34]",
        "Sf[35]"
       ],
       "description": "Channel",
       "index": null,
       "layout": "IPY_MODEL_d968a0fc529d4f2da0e3af1dbce43542",
       "style": "IPY_MODEL_a7e55f14e0224eb98dbd18480d3cfbdf"
      }
     },
     "c92c5190868d406c93acc5acb8cf4965": {
      "model_module": "@jupyter-widgets/controls",
      "model_module_version": "1.5.0",
      "model_name": "FloatTextModel",
      "state": {
       "description": "Time (s)",
       "layout": "IPY_MODEL_cd7e6733dd9d4c08a587265aef71deab",
       "step": null,
       "style": "IPY_MODEL_968afc7fe3d6490a825f9527825c8ef5",
       "value": 0.001641
      }
     },
     "c93a1b9ec4c340fb915939060ea34c75": {
      "model_module": "@jupyter-widgets/base",
      "model_module_version": "1.2.0",
      "model_name": "LayoutModel",
      "state": {}
     },
     "c946e4f02f9545e881c1a255f16a6f2e": {
      "model_module": "@jupyter-widgets/controls",
      "model_module_version": "1.5.0",
      "model_name": "DescriptionStyleModel",
      "state": {
       "description_width": "initial"
      }
     },
     "c9851dda5b474adba78a7dff75ee3422": {
      "model_module": "@jupyter-widgets/controls",
      "model_module_version": "1.5.0",
      "model_name": "DescriptionStyleModel",
      "state": {
       "description_width": ""
      }
     },
     "c9cfcc1396d3461a8564c97361e1a247": {
      "model_module": "@jupyter-widgets/controls",
      "model_module_version": "1.5.0",
      "model_name": "ButtonStyleModel",
      "state": {}
     },
     "ca502b3673a24ddbb9bec7701232b64b": {
      "model_module": "@jupyter-widgets/controls",
      "model_module_version": "1.5.0",
      "model_name": "ButtonModel",
      "state": {
       "description": "Select",
       "layout": "IPY_MODEL_57d5b1fe63be4e18aafbfd57a98b9722",
       "style": "IPY_MODEL_ff100104613a48f8adbf5c077bb049a9"
      }
     },
     "ca8ce92fa41c42dfbbdd01ce24e3ebb5": {
      "model_module": "@jupyter-widgets/base",
      "model_module_version": "1.2.0",
      "model_name": "LayoutModel",
      "state": {}
     },
     "cac5c5f9e72b4296b6cbae4d1060e562": {
      "model_module": "@jupyter-widgets/controls",
      "model_module_version": "1.5.0",
      "model_name": "DropdownModel",
      "state": {
       "_options_labels": [
        "Sf[9]",
        "Sf[10]",
        "Sf[11]",
        "Sf[12]",
        "Sf[13]",
        "Sf[14]",
        "Sf[15]",
        "Sf[16]",
        "Sf[17]",
        "Sf[18]",
        "Sf[19]",
        "Sf[20]",
        "Sf[21]",
        "Sf[22]",
        "Sf[23]",
        "Sf[24]",
        "Sf[25]",
        "Sf[26]",
        "Sf[27]",
        "Sf[28]",
        "Sf[29]",
        "Sf[30]",
        "Sf[31]",
        "Sf[32]",
        "Sf[33]",
        "Sf[34]",
        "Sf[35]"
       ],
       "description": "Channel",
       "index": null,
       "layout": "IPY_MODEL_1d4fd0a47fc84d24b729c76db0af5a6b",
       "style": "IPY_MODEL_44583cee1afc46f8a9ff73ac829d9c54"
      }
     },
     "cac624bd8c084ba1b3203acc4ec5cc36": {
      "model_module": "@jupyter-widgets/controls",
      "model_module_version": "1.5.0",
      "model_name": "DropdownModel",
      "state": {
       "_options_labels": [
        "Sf[9]",
        "Sf[10]",
        "Sf[11]",
        "Sf[12]",
        "Sf[13]",
        "Sf[14]",
        "Sf[15]",
        "Sf[16]",
        "Sf[17]",
        "Sf[18]",
        "Sf[19]",
        "Sf[20]",
        "Sf[21]",
        "Sf[22]",
        "Sf[23]",
        "Sf[24]",
        "Sf[25]",
        "Sf[26]",
        "Sf[27]",
        "Sf[28]",
        "Sf[29]",
        "Sf[30]",
        "Sf[31]",
        "Sf[32]",
        "Sf[33]",
        "Sf[34]",
        "Sf[35]"
       ],
       "description": "Channel",
       "index": 5,
       "layout": "IPY_MODEL_ce29e970b18643b1a260fb6ede8e9cac",
       "style": "IPY_MODEL_3800fd8d122541d3ada6583088a049ce"
      }
     },
     "cb0327c1d88849bf89f31c5b46396f7d": {
      "model_module": "@jupyter-widgets/controls",
      "model_module_version": "1.5.0",
      "model_name": "VBoxModel",
      "state": {
       "children": [
        "IPY_MODEL_af05e7523cae499abfa5dce18394eb98",
        "IPY_MODEL_27025ad04b2244a6adab996048ef9e74"
       ],
       "layout": "IPY_MODEL_de6e3a19bb7f4419a97233aa80fc89b1"
      }
     },
     "cb41a15097cb40fb83eb4eb9e40fc7ed": {
      "model_module": "@jupyter-widgets/controls",
      "model_module_version": "1.5.0",
      "model_name": "HBoxModel",
      "state": {
       "children": [
        "IPY_MODEL_86e2c5482106451d821a0ab53e0003f2",
        "IPY_MODEL_8a516be6c39043a8900c82b4e752c217",
        "IPY_MODEL_db258630c8644ed2820d388a01eadc0d"
       ],
       "layout": "IPY_MODEL_0268961f5c4645bf8a53e2757dc0a584"
      }
     },
     "cb6ae49977d24331a0e9e973c59af0ce": {
      "model_module": "@jupyter-widgets/base",
      "model_module_version": "1.2.0",
      "model_name": "LayoutModel",
      "state": {}
     },
     "cbbd193457a24399af5c662fa1658302": {
      "model_module": "@jupyter-widgets/base",
      "model_module_version": "1.2.0",
      "model_name": "LayoutModel",
      "state": {}
     },
     "cbc31d2417b7451e81a255dafa748d29": {
      "model_module": "@jupyter-widgets/controls",
      "model_module_version": "1.5.0",
      "model_name": "DescriptionStyleModel",
      "state": {
       "description_width": ""
      }
     },
     "cbf5e343bf504f93b7f7326d6aad7b40": {
      "model_module": "@jupyter-widgets/controls",
      "model_module_version": "1.5.0",
      "model_name": "CheckboxModel",
      "state": {
       "description": "log",
       "disabled": false,
       "indent": false,
       "layout": "IPY_MODEL_235579d8c25641fb823ad24fd848a585",
       "style": "IPY_MODEL_22d80d48ea3f4250956e0664b316c220",
       "value": true
      }
     },
     "cc6b30cd16814d8cb41b42bd67d13d54": {
      "model_module": "@jupyter-widgets/base",
      "model_module_version": "1.2.0",
      "model_name": "LayoutModel",
      "state": {
       "grid_area": "pathlist",
       "width": "auto"
      }
     },
     "cc9692f21af245e2a3116788a32b2854": {
      "model_module": "@jupyter-widgets/controls",
      "model_module_version": "1.5.0",
      "model_name": "VBoxModel",
      "state": {
       "children": [
        "IPY_MODEL_cac624bd8c084ba1b3203acc4ec5cc36",
        "IPY_MODEL_e40b7fc700854d159853efc48a4700cb"
       ],
       "layout": "IPY_MODEL_9f81d5d667004dc08e6bfc3c9df651fb"
      }
     },
     "ccb41fa06f7142fc820dce3d834a4c48": {
      "model_module": "@jupyter-widgets/controls",
      "model_module_version": "1.5.0",
      "model_name": "DropdownModel",
      "state": {
       "_options_labels": [
        "C:\\Users\\dominiquef\\Documents\\GIT\\mira\\mirageoscience-apps\\docs\\content\\applications",
        "C:\\Users\\dominiquef\\Documents\\GIT\\mira\\mirageoscience-apps\\docs\\content",
        "C:\\Users\\dominiquef\\Documents\\GIT\\mira\\mirageoscience-apps\\docs",
        "C:\\Users\\dominiquef\\Documents\\GIT\\mira\\mirageoscience-apps",
        "C:\\Users\\dominiquef\\Documents\\GIT\\mira",
        "C:\\Users\\dominiquef\\Documents\\GIT",
        "C:\\Users\\dominiquef\\Documents",
        "C:\\Users\\dominiquef",
        "C:\\Users",
        "C:\\",
        "D:\\",
        "Z:\\"
       ],
       "index": 0,
       "layout": "IPY_MODEL_19ee4f59c4f640d6862c87774079efbc",
       "style": "IPY_MODEL_2f18c2176997433b8158221eaddb7572"
      }
     },
     "ccb8e720a8bb46f38ebde4d2bba8f03e": {
      "model_module": "@jupyter-widgets/controls",
      "model_module_version": "1.5.0",
      "model_name": "DescriptionStyleModel",
      "state": {
       "description_width": "initial"
      }
     },
     "cd06eeaae3264b23b907032bf28be038": {
      "model_module": "@jupyter-widgets/base",
      "model_module_version": "1.2.0",
      "model_name": "LayoutModel",
      "state": {
       "width": "auto"
      }
     },
     "cd1df14f3aa2451e9f12d87902d3449f": {
      "model_module": "@jupyter-widgets/controls",
      "model_module_version": "1.5.0",
      "model_name": "DescriptionStyleModel",
      "state": {
       "description_width": "initial"
      }
     },
     "cd7e6733dd9d4c08a587265aef71deab": {
      "model_module": "@jupyter-widgets/base",
      "model_module_version": "1.2.0",
      "model_name": "LayoutModel",
      "state": {}
     },
     "ce009fcf0476438b914045c981ce1a6d": {
      "model_module": "@jupyter-widgets/controls",
      "model_module_version": "1.5.0",
      "model_name": "DescriptionStyleModel",
      "state": {
       "description_width": "initial"
      }
     },
     "ce1b4c1fc2a2463d97f623f7840608c5": {
      "model_module": "@jupyter-widgets/controls",
      "model_module_version": "1.5.0",
      "model_name": "DescriptionStyleModel",
      "state": {
       "description_width": ""
      }
     },
     "ce29e970b18643b1a260fb6ede8e9cac": {
      "model_module": "@jupyter-widgets/base",
      "model_module_version": "1.2.0",
      "model_name": "LayoutModel",
      "state": {}
     },
     "ce3699a84e8548d4b3802c4ca5ef22b7": {
      "model_module": "@jupyter-widgets/controls",
      "model_module_version": "1.5.0",
      "model_name": "VBoxModel",
      "state": {
       "children": [
        "IPY_MODEL_a50d8955e25c4c16b61f17a3d3603116",
        "IPY_MODEL_da5f1ccf6e5e4476b6e078240851420f",
        "IPY_MODEL_b31fb5a7452b402ca1865e9cb9a3a62f"
       ],
       "layout": "IPY_MODEL_d0e20ae5f3ba411fa456ef21135021da"
      }
     },
     "ce435d73b75d4134868567fe38e88d46": {
      "model_module": "@jupyter-widgets/controls",
      "model_module_version": "1.5.0",
      "model_name": "DescriptionStyleModel",
      "state": {
       "description_width": "initial"
      }
     },
     "ce460112d20143e28f4d72867a2c1eea": {
      "model_module": "@jupyter-widgets/controls",
      "model_module_version": "1.5.0",
      "model_name": "DescriptionStyleModel",
      "state": {
       "description_width": ""
      }
     },
     "cee760f6773a4b2d940eff2c6ede791c": {
      "model_module": "@jupyter-widgets/base",
      "model_module_version": "1.2.0",
      "model_name": "LayoutModel",
      "state": {}
     },
     "cfb58aa8527e4aff87bedeaab18b665d": {
      "model_module": "@jupyter-widgets/controls",
      "model_module_version": "1.5.0",
      "model_name": "DescriptionStyleModel",
      "state": {
       "description_width": ""
      }
     },
     "cfcd9819e7fb4488b3995e8839e09da3": {
      "model_module": "@jupyter-widgets/base",
      "model_module_version": "1.2.0",
      "model_name": "LayoutModel",
      "state": {}
     },
     "cfe4c66233fe427d8e98f7711ba12f0c": {
      "model_module": "@jupyter-widgets/controls",
      "model_module_version": "1.5.0",
      "model_name": "VBoxModel",
      "state": {
       "children": [
        "IPY_MODEL_17361e87ff154420a62c524613710404",
        "IPY_MODEL_e2fbd229a2a343059324b07af8811d71"
       ],
       "layout": "IPY_MODEL_63cbe0cd978241fdb2203ca1863e151e"
      }
     },
     "d022fdc9ce514f2f84a4f3319b540d02": {
      "model_module": "@jupyter-widgets/controls",
      "model_module_version": "1.5.0",
      "model_name": "ButtonModel",
      "state": {
       "description": "Change",
       "layout": "IPY_MODEL_beb1b0ab524443849490180138b4cc70",
       "style": "IPY_MODEL_24fc1e9381f74451b4430666e9f1acc5"
      }
     },
     "d0e20ae5f3ba411fa456ef21135021da": {
      "model_module": "@jupyter-widgets/base",
      "model_module_version": "1.2.0",
      "model_name": "LayoutModel",
      "state": {}
     },
     "d0f7f3878b4d4f0fbe9b01a7c5aafe20": {
      "model_module": "@jupyter-widgets/controls",
      "model_module_version": "1.5.0",
      "model_name": "FloatTextModel",
      "state": {
       "description": "Time (s)",
       "layout": "IPY_MODEL_eb27190b963840e99a75eb213b06d181",
       "step": null,
       "style": "IPY_MODEL_a4ea08c7b96f44ea85ab1eb2d6ce6f71",
       "value": 0.000573
      }
     },
     "d15f8ac5f7a64cbd94b78c40a883d1a8": {
      "model_module": "@jupyter-widgets/controls",
      "model_module_version": "1.5.0",
      "model_name": "HBoxModel",
      "state": {
       "children": [
        "IPY_MODEL_7507acce0fcf4c2e8cf9df3868ab4cc9",
        "IPY_MODEL_903c3c78bab045e6a4c60c20e45fdbed",
        "IPY_MODEL_1de4151af8bd41429343548316442828"
       ],
       "layout": "IPY_MODEL_8ec477c0838b4b66a2fcdcf1398ff450"
      }
     },
     "d19ec61839d6491795ade3c3627c04fa": {
      "model_module": "@jupyter-widgets/base",
      "model_module_version": "1.2.0",
      "model_name": "LayoutModel",
      "state": {
       "display": "none"
      }
     },
     "d1d4f3de161543a1b25dd458736b5cce": {
      "model_module": "@jupyter-widgets/controls",
      "model_module_version": "1.5.0",
      "model_name": "DescriptionStyleModel",
      "state": {
       "description_width": ""
      }
     },
     "d1d76aaf15b64033a0ce2e939ae76dbe": {
      "model_module": "@jupyter-widgets/controls",
      "model_module_version": "1.5.0",
      "model_name": "TextModel",
      "state": {
       "layout": "IPY_MODEL_65582d76640d4cdd992a3dcb5c59cb9d",
       "placeholder": "output filename",
       "style": "IPY_MODEL_9534d8c8bd634bd6a476532738b096e1"
      }
     },
     "d1e51308407b46079b6d2e328b6e921f": {
      "model_module": "@jupyter-widgets/controls",
      "model_module_version": "1.5.0",
      "model_name": "DescriptionStyleModel",
      "state": {
       "description_width": ""
      }
     },
     "d20d57ba82ef486e91b7804777aa68e2": {
      "model_module": "@jupyter-widgets/controls",
      "model_module_version": "1.5.0",
      "model_name": "VBoxModel",
      "state": {
       "children": [
        "IPY_MODEL_1141c87e8c1d4c009ce5782345c2c9ca",
        "IPY_MODEL_e59d5581595945c0aecd23683be89816",
        "IPY_MODEL_1071ca7df57146aa83ba049cf34ed66b"
       ],
       "layout": "IPY_MODEL_c5ea9529d5024a0f834b9c5c183496ac"
      }
     },
     "d288172f4db243adacfc9d4626984277": {
      "model_module": "@jupyter-widgets/base",
      "model_module_version": "1.2.0",
      "model_name": "LayoutModel",
      "state": {}
     },
     "d2dd13fc26cb418380e6b9db20bce588": {
      "model_module": "@jupyter-widgets/controls",
      "model_module_version": "1.5.0",
      "model_name": "FloatTextModel",
      "state": {
       "description": "Time (s)",
       "layout": "IPY_MODEL_00dc8ec10bc64160a60b46bb289a6e5d",
       "step": null,
       "style": "IPY_MODEL_5c5232c1e95b415cab77c07eaa82b19a"
      }
     },
     "d328db45e3c442a5bec366eec3b3fef2": {
      "model_module": "@jupyter-widgets/controls",
      "model_module_version": "1.5.0",
      "model_name": "ButtonStyleModel",
      "state": {}
     },
     "d3313d4892d147f7aa43478d701b2fd7": {
      "model_module": "@jupyter-widgets/controls",
      "model_module_version": "1.5.0",
      "model_name": "DescriptionStyleModel",
      "state": {
       "description_width": "initial"
      }
     },
     "d34708e498074c9885a854284b682657": {
      "model_module": "@jupyter-widgets/controls",
      "model_module_version": "1.5.0",
      "model_name": "DescriptionStyleModel",
      "state": {
       "description_width": ""
      }
     },
     "d378ed297db5418b8dd2d5fa464ec64a": {
      "model_module": "@jupyter-widgets/controls",
      "model_module_version": "1.5.0",
      "model_name": "VBoxModel",
      "state": {
       "children": [
        "IPY_MODEL_8492aaa10dd94484bbfa26bb9be2102a",
        "IPY_MODEL_8c7d01b900a64cef846459c6f215d047",
        "IPY_MODEL_a37ba250061c46efa2881cb0516546c8"
       ],
       "layout": "IPY_MODEL_e965555e19704970a2dc92bc256c6b2a"
      }
     },
     "d37b12ab823147798ef399433b4e3716": {
      "model_module": "@jupyter-widgets/controls",
      "model_module_version": "1.5.0",
      "model_name": "DescriptionStyleModel",
      "state": {
       "description_width": "initial"
      }
     },
     "d3b871433c4d48bbb2305a69446cd28b": {
      "model_module": "@jupyter-widgets/base",
      "model_module_version": "1.2.0",
      "model_name": "LayoutModel",
      "state": {}
     },
     "d3d843956ede43448826c42a2106d861": {
      "model_module": "@jupyter-widgets/controls",
      "model_module_version": "1.5.0",
      "model_name": "DropdownModel",
      "state": {
       "_options_labels": [
        "Sf[9]",
        "Sf[10]",
        "Sf[11]",
        "Sf[12]",
        "Sf[13]",
        "Sf[14]",
        "Sf[15]",
        "Sf[16]",
        "Sf[17]",
        "Sf[18]",
        "Sf[19]",
        "Sf[20]",
        "Sf[21]",
        "Sf[22]",
        "Sf[23]",
        "Sf[24]",
        "Sf[25]",
        "Sf[26]",
        "Sf[27]",
        "Sf[28]",
        "Sf[29]",
        "Sf[30]",
        "Sf[31]",
        "Sf[32]",
        "Sf[33]",
        "Sf[34]",
        "Sf[35]"
       ],
       "description": "Channel",
       "index": 1,
       "layout": "IPY_MODEL_a25b1149cae141d6a0d6ae0e923e7434",
       "style": "IPY_MODEL_92a568f974f14510a74656f212e30e1d"
      }
     },
     "d3e222675e4141709810678db0bf6cc1": {
      "model_module": "@jupyter-widgets/controls",
      "model_module_version": "1.5.0",
      "model_name": "ToggleButtonModel",
      "state": {
       "button_style": "warning",
       "description": "Flip Y (-1x)",
       "layout": "IPY_MODEL_ada19629489e425093c6b97aeea089d6",
       "style": "IPY_MODEL_3d112efa52bc46b7b42052f5a0d2dd6c"
      }
     },
     "d448cb7a14a54b178e7a52a325ba6c10": {
      "model_module": "@jupyter-widgets/controls",
      "model_module_version": "1.5.0",
      "model_name": "SelectMultipleModel",
      "state": {
       "_options_labels": [
        "",
        "-- Groups --",
        "Observed",
        "--- Channels ---",
        "DEM",
        "Line",
        "Sf[10]",
        "Sf[11]",
        "Sf[12]",
        "Sf[13]",
        "Sf[14]",
        "Sf[15]",
        "Sf[16]",
        "Sf[17]",
        "Sf[18]",
        "Sf[19]",
        "Sf[20]",
        "Sf[21]",
        "Sf[22]",
        "Sf[23]",
        "Sf[24]",
        "Sf[25]",
        "Sf[26]",
        "Sf[27]",
        "Sf[28]",
        "Sf[29]",
        "Sf[30]",
        "Sf[31]",
        "Sf[32]",
        "Sf[33]",
        "Sf[34]",
        "Sf[35]",
        "Sf[9]",
        "Z"
       ],
       "description": "Data: ",
       "index": [
        2
       ],
       "layout": "IPY_MODEL_d6961aae9168417592c0c1d9743cb0fc",
       "rows": 5,
       "style": "IPY_MODEL_e92e1d2d412943f991bc41f7f9f5a223"
      }
     },
     "d4d56251560a4d639b3f4e82a6d5b28d": {
      "model_module": "@jupyter-widgets/controls",
      "model_module_version": "1.5.0",
      "model_name": "DropdownModel",
      "state": {
       "_options_labels": [
        "C:\\Users\\dominiquef\\Documents\\GIT\\mira\\mirageoscience-apps\\docs\\content\\applications",
        "C:\\Users\\dominiquef\\Documents\\GIT\\mira\\mirageoscience-apps\\docs\\content",
        "C:\\Users\\dominiquef\\Documents\\GIT\\mira\\mirageoscience-apps\\docs",
        "C:\\Users\\dominiquef\\Documents\\GIT\\mira\\mirageoscience-apps",
        "C:\\Users\\dominiquef\\Documents\\GIT\\mira",
        "C:\\Users\\dominiquef\\Documents\\GIT",
        "C:\\Users\\dominiquef\\Documents",
        "C:\\Users\\dominiquef",
        "C:\\Users",
        "C:\\",
        "D:\\",
        "Z:\\"
       ],
       "index": 0,
       "layout": "IPY_MODEL_faf1cc1ded7f4155a65f31f6c768e92d",
       "style": "IPY_MODEL_3ce74c9e50f140599019aa840a46d10c"
      }
     },
     "d5f1b3fd40c24694b82198e1dc4e4f91": {
      "model_module": "@jupyter-widgets/base",
      "model_module_version": "1.2.0",
      "model_name": "LayoutModel",
      "state": {}
     },
     "d664734ea9c84540aefca1370bdeec68": {
      "model_module": "@jupyter-widgets/controls",
      "model_module_version": "1.5.0",
      "model_name": "VBoxModel",
      "state": {
       "children": [
        "IPY_MODEL_8c958b1c07c2457296ad9267e2907e85",
        "IPY_MODEL_0f109a7b115e49edb4a1033ac09c1da2",
        "IPY_MODEL_b7024095c48146e297fecc6864d7a2c8"
       ],
       "layout": "IPY_MODEL_01b68f7f8fe14dc881971df554aad325"
      }
     },
     "d67695f2a85f42bd86e25275adb52404": {
      "model_module": "@jupyter-widgets/controls",
      "model_module_version": "1.5.0",
      "model_name": "DropdownModel",
      "state": {
       "_options_labels": [
        "Sf[9]",
        "Sf[10]",
        "Sf[11]",
        "Sf[12]",
        "Sf[13]",
        "Sf[14]",
        "Sf[15]",
        "Sf[16]",
        "Sf[17]",
        "Sf[18]",
        "Sf[19]",
        "Sf[20]",
        "Sf[21]",
        "Sf[22]",
        "Sf[23]",
        "Sf[24]",
        "Sf[25]",
        "Sf[26]",
        "Sf[27]",
        "Sf[28]",
        "Sf[29]",
        "Sf[30]",
        "Sf[31]",
        "Sf[32]",
        "Sf[33]",
        "Sf[34]",
        "Sf[35]"
       ],
       "description": "Channel",
       "index": 17,
       "layout": "IPY_MODEL_b8553131c5414bd9a179930ca9f65940",
       "style": "IPY_MODEL_46faa163bd6240079e7b9033aace9a01"
      }
     },
     "d6932556c698422bbf6e5b017ba22ae9": {
      "model_module": "@jupyter-widgets/controls",
      "model_module_version": "1.5.0",
      "model_name": "ButtonStyleModel",
      "state": {}
     },
     "d6961aae9168417592c0c1d9743cb0fc": {
      "model_module": "@jupyter-widgets/base",
      "model_module_version": "1.2.0",
      "model_name": "LayoutModel",
      "state": {}
     },
     "d69d9685e7ca45beb857482e8f4722dd": {
      "model_module": "@jupyter-widgets/base",
      "model_module_version": "1.2.0",
      "model_name": "LayoutModel",
      "state": {}
     },
     "d72f45593fe941fb8fb24dad77267985": {
      "model_module": "@jupyter-widgets/base",
      "model_module_version": "1.2.0",
      "model_name": "LayoutModel",
      "state": {}
     },
     "d77781f11e1d4284be3116421cf0ffd5": {
      "model_module": "@jupyter-widgets/base",
      "model_module_version": "1.2.0",
      "model_name": "LayoutModel",
      "state": {
       "display": "none"
      }
     },
     "d7da972a88794832b69f80911b15ad94": {
      "model_module": "@jupyter-widgets/controls",
      "model_module_version": "1.5.0",
      "model_name": "DescriptionStyleModel",
      "state": {
       "description_width": "initial"
      }
     },
     "d8fa353a81274403bbe2174efa13c25e": {
      "model_module": "@jupyter-widgets/base",
      "model_module_version": "1.2.0",
      "model_name": "LayoutModel",
      "state": {
       "width": "auto"
      }
     },
     "d91fa2001df847b18355e54cddd52441": {
      "model_module": "@jupyter-widgets/base",
      "model_module_version": "1.2.0",
      "model_name": "LayoutModel",
      "state": {}
     },
     "d9672de070b84d90a8c98b89dddedcc4": {
      "model_module": "@jupyter-widgets/controls",
      "model_module_version": "1.5.0",
      "model_name": "HBoxModel",
      "state": {
       "children": [
        "IPY_MODEL_87b5e2c6bff1451c974333dcfc35dde2",
        "IPY_MODEL_bf00a967c4bc436ba7248a8c2932a21e",
        "IPY_MODEL_cfe4c66233fe427d8e98f7711ba12f0c"
       ],
       "layout": "IPY_MODEL_18e86a88c1794e378535461d44110772"
      }
     },
     "d968a0fc529d4f2da0e3af1dbce43542": {
      "model_module": "@jupyter-widgets/base",
      "model_module_version": "1.2.0",
      "model_name": "LayoutModel",
      "state": {}
     },
     "da28f94315d44fe08d1d20c40526d4ad": {
      "model_module": "@jupyter-widgets/base",
      "model_module_version": "1.2.0",
      "model_name": "LayoutModel",
      "state": {}
     },
     "da5f1ccf6e5e4476b6e078240851420f": {
      "model_module": "@jupyter-widgets/controls",
      "model_module_version": "1.5.0",
      "model_name": "CheckboxModel",
      "state": {
       "description": "All Markers",
       "disabled": false,
       "layout": "IPY_MODEL_0cea2c48af874e828b998fff65ddcb0a",
       "style": "IPY_MODEL_92946be665984940ad951fc615077ed0",
       "value": false
      }
     },
     "dabde5f6f7054ea4a227143ea16f814b": {
      "model_module": "@jupyter-widgets/controls",
      "model_module_version": "1.5.0",
      "model_name": "VBoxModel",
      "state": {
       "children": [
        "IPY_MODEL_f0201711d66f4915a185f6e65639ede0",
        "IPY_MODEL_f94b3160955a4ce1b65e41efaf989f74"
       ],
       "layout": "IPY_MODEL_3e59c6bb0a874451abe42afad4e76410"
      }
     },
     "dad02a9293984b23a43ef8a44fc8c55f": {
      "model_module": "@jupyter-widgets/base",
      "model_module_version": "1.2.0",
      "model_name": "LayoutModel",
      "state": {}
     },
     "dad1ea3b92d54cfab55b2771fa04daa7": {
      "model_module": "@jupyter-widgets/controls",
      "model_module_version": "1.5.0",
      "model_name": "DropdownModel",
      "state": {
       "_options_labels": [
        "Sf[9]",
        "Sf[10]",
        "Sf[11]",
        "Sf[12]",
        "Sf[13]",
        "Sf[14]",
        "Sf[15]",
        "Sf[16]",
        "Sf[17]",
        "Sf[18]",
        "Sf[19]",
        "Sf[20]",
        "Sf[21]",
        "Sf[22]",
        "Sf[23]",
        "Sf[24]",
        "Sf[25]",
        "Sf[26]",
        "Sf[27]",
        "Sf[28]",
        "Sf[29]",
        "Sf[30]",
        "Sf[31]",
        "Sf[32]",
        "Sf[33]",
        "Sf[34]",
        "Sf[35]"
       ],
       "description": "Channel",
       "index": null,
       "layout": "IPY_MODEL_7413a09f62624df1a16764b6fe3944e3",
       "style": "IPY_MODEL_ee0da7598df8418b929b01c0131bf537"
      }
     },
     "db258630c8644ed2820d388a01eadc0d": {
      "model_module": "@jupyter-widgets/controls",
      "model_module_version": "1.5.0",
      "model_name": "HTMLModel",
      "state": {
       "layout": "IPY_MODEL_52274b443a684201a1256a6583f06396",
       "placeholder": "",
       "style": "IPY_MODEL_783ea28feb3b44db8e8fee3049fcab51",
       "value": "<span style=\"margin-left:10px; color:black;\">No file selected</span>"
      }
     },
     "db83b13c584f430f9bf6aedc7818e4d9": {
      "model_module": "@jupyter-widgets/base",
      "model_module_version": "1.2.0",
      "model_name": "LayoutModel",
      "state": {}
     },
     "db9be33f39ad4720b247b7b2cf0a1f67": {
      "model_module": "@jupyter-widgets/controls",
      "model_module_version": "1.5.0",
      "model_name": "ButtonStyleModel",
      "state": {}
     },
     "dc1dd003106b4b0682c89b51b1ec3df4": {
      "model_module": "@jupyter-widgets/controls",
      "model_module_version": "1.5.0",
      "model_name": "VBoxModel",
      "state": {
       "children": [
        "IPY_MODEL_0ac039f3323a4d60891a50a60cda12da",
        "IPY_MODEL_94bfebeac4fd4888b9702ef818ecb9e4"
       ],
       "layout": "IPY_MODEL_30c06e788da9402f8f1a472dd0847690"
      }
     },
     "dc5b736ace4543b384b548ad648fe2a2": {
      "model_module": "@jupyter-widgets/controls",
      "model_module_version": "1.5.0",
      "model_name": "DescriptionStyleModel",
      "state": {
       "description_width": "initial"
      }
     },
     "dc8b7a07ea1e47078f7b0b61e737b211": {
      "model_module": "@jupyter-widgets/controls",
      "model_module_version": "1.5.0",
      "model_name": "TextModel",
      "state": {
       "layout": "IPY_MODEL_c894a7d17abf472cbb46d73166d429c2",
       "placeholder": "output filename",
       "style": "IPY_MODEL_43cb28ac44ad403e9988574cdcd87111"
      }
     },
     "dc9016a5379a4309855095b8b96e2238": {
      "model_module": "@jupyter-widgets/controls",
      "model_module_version": "1.5.0",
      "model_name": "DropdownModel",
      "state": {
       "_options_labels": [
        "Sf[9]",
        "Sf[10]",
        "Sf[11]",
        "Sf[12]",
        "Sf[13]",
        "Sf[14]",
        "Sf[15]",
        "Sf[16]",
        "Sf[17]",
        "Sf[18]",
        "Sf[19]",
        "Sf[20]",
        "Sf[21]",
        "Sf[22]",
        "Sf[23]",
        "Sf[24]",
        "Sf[25]",
        "Sf[26]",
        "Sf[27]",
        "Sf[28]",
        "Sf[29]",
        "Sf[30]",
        "Sf[31]",
        "Sf[32]",
        "Sf[33]",
        "Sf[34]",
        "Sf[35]"
       ],
       "description": "Channel",
       "index": 20,
       "layout": "IPY_MODEL_b507b09669ba4fc0be5c502d0073cc69",
       "style": "IPY_MODEL_5a949a19e99c475ca495350f8301ad60"
      }
     },
     "ddda9d290b8c4c638715f7e81991ae39": {
      "model_module": "@jupyter-widgets/controls",
      "model_module_version": "1.5.0",
      "model_name": "VBoxModel",
      "state": {
       "children": [
        "IPY_MODEL_ff9e18ccd0f24e87ba763d56cf94059c",
        "IPY_MODEL_e801470328de48168d0f52b021fd81b4"
       ],
       "layout": "IPY_MODEL_762a059d51e245a190886426dbc327ca"
      }
     },
     "ddeceb7a3a714962bae9553424d84428": {
      "model_module": "@jupyter-widgets/controls",
      "model_module_version": "1.5.0",
      "model_name": "ButtonModel",
      "state": {
       "description": "Select",
       "layout": "IPY_MODEL_c1cbbd9e77d244d58a3359a7f55e11f7",
       "style": "IPY_MODEL_a44bc39891974cb99e391693f63a39ad"
      }
     },
     "de6e3a19bb7f4419a97233aa80fc89b1": {
      "model_module": "@jupyter-widgets/base",
      "model_module_version": "1.2.0",
      "model_name": "LayoutModel",
      "state": {}
     },
     "deb977063ca2421d9024b682447e5b9a": {
      "model_module": "@jupyter-widgets/controls",
      "model_module_version": "1.5.0",
      "model_name": "VBoxModel",
      "state": {
       "children": [
        "IPY_MODEL_80d6206dc97848ed86bc13c96553ae07",
        "IPY_MODEL_f9e2d24c9c1d4fcc92bf2ebed470d2ae"
       ],
       "layout": "IPY_MODEL_d3b871433c4d48bbb2305a69446cd28b"
      }
     },
     "dec363b219d5474e87aa7fa699e8f394": {
      "model_module": "@jupyter-widgets/controls",
      "model_module_version": "1.5.0",
      "model_name": "DescriptionStyleModel",
      "state": {
       "description_width": ""
      }
     },
     "df1257aed89b494d9002595e922f42d0": {
      "model_module": "@jupyter-widgets/base",
      "model_module_version": "1.2.0",
      "model_name": "LayoutModel",
      "state": {}
     },
     "df2699d689e845b194243d1eafaa63eb": {
      "model_module": "@jupyter-widgets/controls",
      "model_module_version": "1.5.0",
      "model_name": "VBoxModel",
      "state": {
       "children": [
        "IPY_MODEL_06311d28ebb64d13a3fdb8689223b2af",
        "IPY_MODEL_1dc6832470c94cefaee09961ec953704"
       ],
       "layout": "IPY_MODEL_47bd6178b2584d62b4d1955e5dedac20"
      }
     },
     "df4caddc44e24670a25c3712b5d4cf89": {
      "model_module": "@jupyter-widgets/controls",
      "model_module_version": "1.5.0",
      "model_name": "GridBoxModel",
      "state": {
       "children": [
        "IPY_MODEL_6743f77d87274df38d854aefe78117cb",
        "IPY_MODEL_518294d9bb6b4ca89c13d7cdabc733fd",
        "IPY_MODEL_14d95228b44640c69ddad07db41bd31c"
       ],
       "layout": "IPY_MODEL_c81711ec9eab41c29f8b3c2a5b1e5933"
      }
     },
     "e00ad3f6d5ed4d2ba612196855aaf725": {
      "model_module": "@jupyter-widgets/controls",
      "model_module_version": "1.5.0",
      "model_name": "HTMLModel",
      "state": {
       "layout": "IPY_MODEL_61e36f189c3142b4b56e87a4f2f9f95e",
       "placeholder": "",
       "style": "IPY_MODEL_17ef4d175f40483cab34fe8b77df0dee",
       "value": "<span style=\"margin-left:10px; color:black;\">No file selected</span>"
      }
     },
     "e046bd2bf33c43999e2ad2fbaadd6820": {
      "model_module": "@jupyter-widgets/base",
      "model_module_version": "1.2.0",
      "model_name": "LayoutModel",
      "state": {
       "grid_area": "dircontent",
       "width": "auto"
      }
     },
     "e08240bd4a2949079a506bd39c9cd78e": {
      "model_module": "@jupyter-widgets/controls",
      "model_module_version": "1.5.0",
      "model_name": "DescriptionStyleModel",
      "state": {
       "description_width": "initial"
      }
     },
     "e090440439e24ae18d3c5a3729660165": {
      "model_module": "@jupyter-widgets/controls",
      "model_module_version": "1.5.0",
      "model_name": "DropdownModel",
      "state": {
       "_options_labels": [
        "",
        "6071000.0",
        "6071200.0",
        "6071400.0",
        "6071600.0",
        "6071800.0",
        "6072000.0",
        "6072200.0",
        "6072400.0",
        "6072600.0",
        "6072800.0",
        "6073000.0",
        "6073200.0",
        "6073400.0",
        "6073600.0",
        "6073800.0",
        "6074000.0",
        "6074200.0",
        "6074400.0",
        "6074600.0",
        "6074800.0"
       ],
       "description": "Select line:",
       "index": 13,
       "layout": "IPY_MODEL_463c5457a00541518b009241a28810c6",
       "style": "IPY_MODEL_34abb081d60a4c97a7f5c6b03677fb79"
      }
     },
     "e095c1faab5f41ca8dafe07e66c27cfa": {
      "model_module": "@jupyter-widgets/controls",
      "model_module_version": "1.5.0",
      "model_name": "DropdownModel",
      "state": {
       "_options_labels": [
        "Sf[9]",
        "Sf[10]",
        "Sf[11]",
        "Sf[12]",
        "Sf[13]",
        "Sf[14]",
        "Sf[15]",
        "Sf[16]",
        "Sf[17]",
        "Sf[18]",
        "Sf[19]",
        "Sf[20]",
        "Sf[21]",
        "Sf[22]",
        "Sf[23]",
        "Sf[24]",
        "Sf[25]",
        "Sf[26]",
        "Sf[27]",
        "Sf[28]",
        "Sf[29]",
        "Sf[30]",
        "Sf[31]",
        "Sf[32]",
        "Sf[33]",
        "Sf[34]",
        "Sf[35]"
       ],
       "description": "Channel",
       "index": 21,
       "layout": "IPY_MODEL_092c7c9f76c7434bad29d346a212b4a9",
       "style": "IPY_MODEL_b887ae3fc7424e6d93eb36891a42d3d9"
      }
     },
     "e0b97891bee0492eb5dd42895728d1c3": {
      "model_module": "@jupyter-widgets/base",
      "model_module_version": "1.2.0",
      "model_name": "LayoutModel",
      "state": {}
     },
     "e0bf3efc353247e8931e29b366e98040": {
      "model_module": "@jupyter-widgets/base",
      "model_module_version": "1.2.0",
      "model_name": "LayoutModel",
      "state": {}
     },
     "e0dfeab210054437836366c97fd312b4": {
      "model_module": "@jupyter-widgets/controls",
      "model_module_version": "1.5.0",
      "model_name": "VBoxModel",
      "state": {
       "children": [
        "IPY_MODEL_c5258f0080e446c6ba79d052fe6549dc",
        "IPY_MODEL_f4e9d62b69324b869001a99aa431b9b1"
       ],
       "layout": "IPY_MODEL_ab86a4cbe6124fa58fad6feef50fee4b"
      }
     },
     "e14cc85c00994964b09520f21c8986bb": {
      "model_module": "@jupyter-widgets/controls",
      "model_module_version": "1.5.0",
      "model_name": "DropdownModel",
      "state": {
       "_options_labels": [
        "Sf[9]",
        "Sf[10]",
        "Sf[11]",
        "Sf[12]",
        "Sf[13]",
        "Sf[14]",
        "Sf[15]",
        "Sf[16]",
        "Sf[17]",
        "Sf[18]",
        "Sf[19]",
        "Sf[20]",
        "Sf[21]",
        "Sf[22]",
        "Sf[23]",
        "Sf[24]",
        "Sf[25]",
        "Sf[26]",
        "Sf[27]",
        "Sf[28]",
        "Sf[29]",
        "Sf[30]",
        "Sf[31]",
        "Sf[32]",
        "Sf[33]",
        "Sf[34]",
        "Sf[35]"
       ],
       "description": "Channel",
       "index": null,
       "layout": "IPY_MODEL_f2d5f7ee4e1a4253a56dbc242d7f7a43",
       "style": "IPY_MODEL_74eb5dc38c8740f3b5d055d19b4b953c"
      }
     },
     "e1951c75ef4d4801ab06d0dda51b846d": {
      "model_module": "@jupyter-widgets/controls",
      "model_module_version": "1.5.0",
      "model_name": "DescriptionStyleModel",
      "state": {
       "description_width": ""
      }
     },
     "e1aeee31c9474f128ce285c9b46dbb1a": {
      "model_module": "@jupyter-widgets/controls",
      "model_module_version": "1.5.0",
      "model_name": "FloatTextModel",
      "state": {
       "description": "Time (s)",
       "layout": "IPY_MODEL_b474a0df41544d03a0a4066ea3baea2e",
       "step": null,
       "style": "IPY_MODEL_c9851dda5b474adba78a7dff75ee3422",
       "value": 0.000484
      }
     },
     "e2397efb100e44fd9ed18c5f4d2a195e": {
      "model_module": "@jupyter-widgets/base",
      "model_module_version": "1.2.0",
      "model_name": "LayoutModel",
      "state": {}
     },
     "e23f59450bb94e6bbf6504c126a99456": {
      "model_module": "@jupyter-widgets/controls",
      "model_module_version": "1.5.0",
      "model_name": "FloatTextModel",
      "state": {
       "description": "Time (s)",
       "layout": "IPY_MODEL_0baba9e190f3413dbc2ed19755a52046",
       "step": null,
       "style": "IPY_MODEL_b5755339a2534325854e8a5c7332d717",
       "value": 0.000682
      }
     },
     "e2f929e9e8aa4ba6ac14be4572d35ab6": {
      "model_module": "@jupyter-widgets/controls",
      "model_module_version": "1.5.0",
      "model_name": "DescriptionStyleModel",
      "state": {
       "description_width": ""
      }
     },
     "e2fbd229a2a343059324b07af8811d71": {
      "model_module": "@jupyter-widgets/controls",
      "model_module_version": "1.5.0",
      "model_name": "VBoxModel",
      "state": {
       "children": [
        "IPY_MODEL_1dc3f161da104f55ba46bbb678dd3265",
        "IPY_MODEL_10bb37c982c44bedbab57ae271092e9b",
        "IPY_MODEL_698e95ce749447b0a6a370f771aed907"
       ],
       "layout": "IPY_MODEL_4515c7d1ab174c868b097b7e4ca8c75e"
      }
     },
     "e342e6f0102a4be79a694d1a407a619c": {
      "model_module": "@jupyter-widgets/controls",
      "model_module_version": "1.5.0",
      "model_name": "HTMLModel",
      "state": {
       "layout": "IPY_MODEL_eb7b69d41ac44f33b1d827b67e4b2e95",
       "placeholder": "",
       "style": "IPY_MODEL_65452ebb7b2d4b66908912e167703468",
       "value": "<span style=\"margin-left:10px; color:orange;\">C:\\Users\\dominiquef\\Documents\\GIT\\mira\\mirageoscience-apps\\assets\\FlinFlon.geoh5</span>"
      }
     },
     "e370b223b27e46dc8920321817ce88a2": {
      "model_module": "@jupyter-widgets/controls",
      "model_module_version": "1.5.0",
      "model_name": "DescriptionStyleModel",
      "state": {
       "description_width": "initial"
      }
     },
     "e3768c438fb84b35af681148d6471c20": {
      "model_module": "@jupyter-widgets/controls",
      "model_module_version": "1.5.0",
      "model_name": "FloatTextModel",
      "state": {
       "description": "Time (s)",
       "layout": "IPY_MODEL_0734f1970b164fa68ab675d8ccb24d35",
       "step": null,
       "style": "IPY_MODEL_54f1e8b7f179426b894de1872bf3805f",
       "value": 0.00462
      }
     },
     "e3cf98fba9f7466db543951c4c36aa1a": {
      "model_module": "@jupyter-widgets/controls",
      "model_module_version": "1.5.0",
      "model_name": "ButtonStyleModel",
      "state": {}
     },
     "e3d7000ecf7c453487be33d862ad881a": {
      "model_module": "@jupyter-widgets/controls",
      "model_module_version": "1.5.0",
      "model_name": "DescriptionStyleModel",
      "state": {
       "description_width": ""
      }
     },
     "e4064a307a2544e59ee91951fb2e23d8": {
      "model_module": "@jupyter-widgets/controls",
      "model_module_version": "1.5.0",
      "model_name": "ButtonModel",
      "state": {
       "description": "Create copy:",
       "layout": "IPY_MODEL_fcf6bcc6a35249c9977aa91afb037881",
       "style": "IPY_MODEL_225b4e56d09a491697bfe4790b833f69"
      }
     },
     "e40b7fc700854d159853efc48a4700cb": {
      "model_module": "@jupyter-widgets/controls",
      "model_module_version": "1.5.0",
      "model_name": "FloatTextModel",
      "state": {
       "description": "Time (s)",
       "layout": "IPY_MODEL_df1257aed89b494d9002595e922f42d0",
       "step": null,
       "style": "IPY_MODEL_37d1324c692c47c5b5bd6165596278dc",
       "value": 0.000234
      }
     },
     "e4291a9bd4b04431a7b1b68618a0a841": {
      "model_module": "@jupyter-widgets/base",
      "model_module_version": "1.2.0",
      "model_name": "LayoutModel",
      "state": {
       "display": "none",
       "grid_gap": "0px 0px",
       "grid_template_areas": "\n                    'pathlist pathlist'\n                    'dircontent dircontent'\n                    ",
       "grid_template_columns": "60% 40%",
       "grid_template_rows": "auto auto",
       "width": "500px"
      }
     },
     "e4358a64735943fda7f201a653077d49": {
      "model_module": "@jupyter-widgets/controls",
      "model_module_version": "1.5.0",
      "model_name": "FloatTextModel",
      "state": {
       "description": "Time (s)",
       "layout": "IPY_MODEL_613d522a687d4e8a8689d01a65779315",
       "step": null,
       "style": "IPY_MODEL_3dac6f5c052149a198ecae199483b397",
       "value": 0.003911
      }
     },
     "e436464bf05c4323aa4b1a33fdf46d77": {
      "model_module": "@jupyter-widgets/controls",
      "model_module_version": "1.5.0",
      "model_name": "DropdownModel",
      "state": {
       "_options_labels": [
        "C:\\Users\\dominiquef\\Documents\\GIT\\mira\\mirageoscience-apps\\docs\\content\\applications",
        "C:\\Users\\dominiquef\\Documents\\GIT\\mira\\mirageoscience-apps\\docs\\content",
        "C:\\Users\\dominiquef\\Documents\\GIT\\mira\\mirageoscience-apps\\docs",
        "C:\\Users\\dominiquef\\Documents\\GIT\\mira\\mirageoscience-apps",
        "C:\\Users\\dominiquef\\Documents\\GIT\\mira",
        "C:\\Users\\dominiquef\\Documents\\GIT",
        "C:\\Users\\dominiquef\\Documents",
        "C:\\Users\\dominiquef",
        "C:\\Users",
        "C:\\",
        "D:\\",
        "Z:\\"
       ],
       "index": 0,
       "layout": "IPY_MODEL_92d5f6f59eff421cbf73fa9954d4e1ff",
       "style": "IPY_MODEL_ce460112d20143e28f4d72867a2c1eea"
      }
     },
     "e44c27497dea4002a89106960f08d461": {
      "model_module": "@jupyter-widgets/base",
      "model_module_version": "1.2.0",
      "model_name": "LayoutModel",
      "state": {
       "grid_area": "dircontent",
       "width": "auto"
      }
     },
     "e504d66da35a4e699c71bb88c6fe5776": {
      "model_module": "@jupyter-widgets/controls",
      "model_module_version": "1.5.0",
      "model_name": "FloatTextModel",
      "state": {
       "description": "Time (s)",
       "layout": "IPY_MODEL_5254cb72a10b49febad8f51e1cc6fcfb",
       "step": null,
       "style": "IPY_MODEL_3fc36277e57d4a619ed39c086695afa7",
       "value": 0.006578
      }
     },
     "e53da78645dd4cfd87b2db990b34c55c": {
      "model_module": "@jupyter-widgets/controls",
      "model_module_version": "1.5.0",
      "model_name": "VBoxModel",
      "state": {
       "children": [
        "IPY_MODEL_e955564ff3734332bd8a15bb4c0a6010"
       ],
       "layout": "IPY_MODEL_66a739a227454791a917d83d90368a15"
      }
     },
     "e59d5581595945c0aecd23683be89816": {
      "model_module": "@jupyter-widgets/controls",
      "model_module_version": "1.5.0",
      "model_name": "GridBoxModel",
      "state": {
       "children": [
        "IPY_MODEL_99b2ae3dd05f4bbd9e716699790a45d1",
        "IPY_MODEL_d1d76aaf15b64033a0ce2e939ae76dbe",
        "IPY_MODEL_526ca664dbec4e128502cede0964d466"
       ],
       "layout": "IPY_MODEL_1dd3f4355ff94ace93530d0fc954ca94"
      }
     },
     "e5f13606574048e9b4f51861d68f9067": {
      "model_module": "@jupyter-widgets/controls",
      "model_module_version": "1.5.0",
      "model_name": "VBoxModel",
      "state": {
       "children": [
        "IPY_MODEL_9a96fe8a5a714e56b8063d0656ec9ffb",
        "IPY_MODEL_e736adf973504be38c6029e857339ffd"
       ],
       "layout": "IPY_MODEL_74f826c4dea34ab28178a0b47ff46688"
      }
     },
     "e62c7d5df18548d2b1f7fbd8d42e7988": {
      "model_module": "@jupyter-widgets/controls",
      "model_module_version": "1.5.0",
      "model_name": "TextModel",
      "state": {
       "layout": "IPY_MODEL_4b6382578dc6470ea4c23723357b37b5",
       "placeholder": "output filename",
       "style": "IPY_MODEL_6fb25b5344964158ac3c7b08e5863459"
      }
     },
     "e632034b3b0f46768212202f64e30373": {
      "model_module": "@jupyter-widgets/base",
      "model_module_version": "1.2.0",
      "model_name": "LayoutModel",
      "state": {}
     },
     "e70f0360310c41daa673b526e898d40f": {
      "model_module": "@jupyter-widgets/base",
      "model_module_version": "1.2.0",
      "model_name": "LayoutModel",
      "state": {}
     },
     "e72e0e98cde04d1a8747f89e5138881e": {
      "model_module": "@jupyter-widgets/base",
      "model_module_version": "1.2.0",
      "model_name": "LayoutModel",
      "state": {}
     },
     "e736adf973504be38c6029e857339ffd": {
      "model_module": "@jupyter-widgets/controls",
      "model_module_version": "1.5.0",
      "model_name": "FloatTextModel",
      "state": {
       "description": "Time (s)",
       "layout": "IPY_MODEL_9c5b2425a2c04bc0ac3ff540c452a858",
       "step": null,
       "style": "IPY_MODEL_1c076d395b4b4616ac46d28fc8bac36b"
      }
     },
     "e73e4c885cde4ce2883a3c4b1aa762b1": {
      "model_module": "@jupyter-widgets/base",
      "model_module_version": "1.2.0",
      "model_name": "LayoutModel",
      "state": {}
     },
     "e7c5835d29e84df3a5e2e5d25a317ff6": {
      "model_module": "@jupyter-widgets/controls",
      "model_module_version": "1.5.0",
      "model_name": "ButtonStyleModel",
      "state": {}
     },
     "e801470328de48168d0f52b021fd81b4": {
      "model_module": "@jupyter-widgets/controls",
      "model_module_version": "1.5.0",
      "model_name": "FloatTextModel",
      "state": {
       "description": "Time (s)",
       "layout": "IPY_MODEL_d91fa2001df847b18355e54cddd52441",
       "step": null,
       "style": "IPY_MODEL_241b05b641e046398002e74419f00d26",
       "value": 0.000818
      }
     },
     "e81b0a41ca7a4eb89b78112582b35da0": {
      "model_module": "@jupyter-widgets/controls",
      "model_module_version": "1.5.0",
      "model_name": "VBoxModel",
      "state": {
       "children": [
        "IPY_MODEL_751abf0e6d044898a16c10770cbe817a",
        "IPY_MODEL_d664734ea9c84540aefca1370bdeec68"
       ],
       "layout": "IPY_MODEL_47256eda9fa047ffa9a607b92cc95f8c"
      }
     },
     "e85b4fd5f3b042e5bcfd65ddeb0df85e": {
      "model_module": "@jupyter-widgets/controls",
      "model_module_version": "1.5.0",
      "model_name": "VBoxModel",
      "state": {
       "children": [
        "IPY_MODEL_2a9a044b0d4b4c7cbdfbe849eddc31d0",
        "IPY_MODEL_4b7430043d26408ca0d5ed62ec35b680",
        "IPY_MODEL_fcd36b30debd49a8862ff04370458580",
        "IPY_MODEL_3e5332a6044943f981a596dc83703e9c",
        "IPY_MODEL_88e552ba427b4ddf97795b433fd04017"
       ],
       "layout": "IPY_MODEL_014c686c5fb44dad9b4be5857b992f7d"
      }
     },
     "e906549ad38444ea9a91ae4a134b8145": {
      "model_module": "@jupyter-widgets/base",
      "model_module_version": "1.2.0",
      "model_name": "LayoutModel",
      "state": {}
     },
     "e92e1d2d412943f991bc41f7f9f5a223": {
      "model_module": "@jupyter-widgets/controls",
      "model_module_version": "1.5.0",
      "model_name": "DescriptionStyleModel",
      "state": {
       "description_width": "initial"
      }
     },
     "e92e95521df04ccda7cfe7a88f87ed8d": {
      "model_module": "@jupyter-widgets/base",
      "model_module_version": "1.2.0",
      "model_name": "LayoutModel",
      "state": {}
     },
     "e955564ff3734332bd8a15bb4c0a6010": {
      "model_module": "@jupyter-widgets/controls",
      "model_module_version": "1.5.0",
      "model_name": "ToggleButtonModel",
      "state": {
       "description": "Show decay",
       "layout": "IPY_MODEL_2d0e90d9da96490aa1195d7a8fbc8783",
       "style": "IPY_MODEL_71d57729f1674713b4a162a119dd7b8a"
      }
     },
     "e965555e19704970a2dc92bc256c6b2a": {
      "model_module": "@jupyter-widgets/base",
      "model_module_version": "1.2.0",
      "model_name": "LayoutModel",
      "state": {}
     },
     "e99dfd9981744f3fa94d41e4a7ee71d2": {
      "model_module": "@jupyter-widgets/controls",
      "model_module_version": "1.5.0",
      "model_name": "DropdownModel",
      "state": {
       "_options_labels": [
        "Sf[9]",
        "Sf[10]",
        "Sf[11]",
        "Sf[12]",
        "Sf[13]",
        "Sf[14]",
        "Sf[15]",
        "Sf[16]",
        "Sf[17]",
        "Sf[18]",
        "Sf[19]",
        "Sf[20]",
        "Sf[21]",
        "Sf[22]",
        "Sf[23]",
        "Sf[24]",
        "Sf[25]",
        "Sf[26]",
        "Sf[27]",
        "Sf[28]",
        "Sf[29]",
        "Sf[30]",
        "Sf[31]",
        "Sf[32]",
        "Sf[33]",
        "Sf[34]",
        "Sf[35]"
       ],
       "description": "Channel",
       "index": 23,
       "layout": "IPY_MODEL_5870fd3ac21c4f06bb0c56b7d4e3d003",
       "style": "IPY_MODEL_39ed680837ed46e68c2a61427d4be70a"
      }
     },
     "e9aaeaad614b4672ba9a8f93282ad901": {
      "model_module": "@jupyter-widgets/controls",
      "model_module_version": "1.5.0",
      "model_name": "DescriptionStyleModel",
      "state": {
       "description_width": ""
      }
     },
     "ea457328d3d24fa799d8c94e13cf4b62": {
      "model_module": "@jupyter-widgets/base",
      "model_module_version": "1.2.0",
      "model_name": "LayoutModel",
      "state": {}
     },
     "eb16f81d71dd4cbeaca27a2bb1c1d8dc": {
      "model_module": "@jupyter-widgets/controls",
      "model_module_version": "1.5.0",
      "model_name": "FloatTextModel",
      "state": {
       "description": "max",
       "layout": "IPY_MODEL_95d990501ab444c2885a3580ac6d523f",
       "step": null,
       "style": "IPY_MODEL_8751ff63bd1241f1bd0d52c7529d04c2",
       "value": 0.025
      }
     },
     "eb27190b963840e99a75eb213b06d181": {
      "model_module": "@jupyter-widgets/base",
      "model_module_version": "1.2.0",
      "model_name": "LayoutModel",
      "state": {}
     },
     "eb4c7a42bca649feaf571bb06c9f515f": {
      "model_module": "@jupyter-widgets/controls",
      "model_module_version": "1.5.0",
      "model_name": "FloatTextModel",
      "state": {
       "description": "min",
       "layout": "IPY_MODEL_be3c4949b5f345889c1e52b8c6b847a3",
       "step": null,
       "style": "IPY_MODEL_c0ec589a38654c04b378bda2e889e8ab",
       "value": 0.0001
      }
     },
     "eb68f41c89a940ed96519783afac1aba": {
      "model_module": "@jupyter-widgets/controls",
      "model_module_version": "1.5.0",
      "model_name": "VBoxModel",
      "state": {
       "children": [
        "IPY_MODEL_5990293d73674e76810a51d8e3291480"
       ],
       "layout": "IPY_MODEL_81c82aab0ec748fa9e73f88c0e883144"
      }
     },
     "eb7b69d41ac44f33b1d827b67e4b2e95": {
      "model_module": "@jupyter-widgets/base",
      "model_module_version": "1.2.0",
      "model_name": "LayoutModel",
      "state": {}
     },
     "eb97f8f1dfb04e3c866f46b3cf7c4ec6": {
      "model_module": "@jupyter-widgets/controls",
      "model_module_version": "1.5.0",
      "model_name": "DropdownModel",
      "state": {
       "_options_labels": [
        "Sf[9]",
        "Sf[10]",
        "Sf[11]",
        "Sf[12]",
        "Sf[13]",
        "Sf[14]",
        "Sf[15]",
        "Sf[16]",
        "Sf[17]",
        "Sf[18]",
        "Sf[19]",
        "Sf[20]",
        "Sf[21]",
        "Sf[22]",
        "Sf[23]",
        "Sf[24]",
        "Sf[25]",
        "Sf[26]",
        "Sf[27]",
        "Sf[28]",
        "Sf[29]",
        "Sf[30]",
        "Sf[31]",
        "Sf[32]",
        "Sf[33]",
        "Sf[34]",
        "Sf[35]"
       ],
       "description": "Channel",
       "index": null,
       "layout": "IPY_MODEL_57982b3c1e1742bb9eb1c434e1168803",
       "style": "IPY_MODEL_c869f1e5998443cb93e70991ef42f85d"
      }
     },
     "ebf8d4621d404beb984ca7caf2b95ee3": {
      "model_module": "@jupyter-widgets/controls",
      "model_module_version": "1.5.0",
      "model_name": "FloatTextModel",
      "state": {
       "description": "Time (s)",
       "layout": "IPY_MODEL_148f7c775a9b456194fe45d2292bf591",
       "step": null,
       "style": "IPY_MODEL_7d8758ea3ba44d85845348b92aa68b2c",
       "value": 0.000198
      }
     },
     "ec49066e97da4d0fb749d41c1c0f620b": {
      "model_module": "@jupyter-widgets/controls",
      "model_module_version": "1.5.0",
      "model_name": "DropdownModel",
      "state": {
       "_options_labels": [
        "[1]",
        "[2]",
        "[3]",
        "[4]",
        "[5]",
        "[6]",
        "[7]",
        "[8]",
        "[9]",
        "[10]",
        "[11]",
        "[12]",
        "[13]",
        "[14]",
        "[15]",
        "[16]",
        "[17]",
        "[18]",
        "[19]",
        "[20]",
        "[21]",
        "[22]",
        "[23]",
        "[24]",
        "[25]",
        "[26]",
        "[27]",
        "[28]",
        "[29]",
        "[30]",
        "[31]",
        "[32]",
        "[33]",
        "[34]",
        "[35]"
       ],
       "description": "Time Gate",
       "index": 0,
       "layout": "IPY_MODEL_2f162ae24a0f4c99aef05b4a3a84e6e2",
       "style": "IPY_MODEL_18970aced46c48f3b170638c659165db"
      }
     },
     "ec59ad99dc4746408352afa28131a0ce": {
      "model_module": "@jupyter-widgets/base",
      "model_module_version": "1.2.0",
      "model_name": "LayoutModel",
      "state": {
       "width": "auto"
      }
     },
     "ec91ad42e7a84465974e67a2ec443828": {
      "model_module": "@jupyter-widgets/base",
      "model_module_version": "1.2.0",
      "model_name": "LayoutModel",
      "state": {}
     },
     "ecca8cbb2c1c46daafc9c8142050db3e": {
      "model_module": "@jupyter-widgets/controls",
      "model_module_version": "1.5.0",
      "model_name": "FloatSliderModel",
      "state": {
       "continuous_update": false,
       "description": "Opacity",
       "layout": "IPY_MODEL_f0b5fc9fea2a4203a2652a3a555c6d9e",
       "max": 1,
       "step": 0.05,
       "style": "IPY_MODEL_0c8522cb36d14d1cbec671d176d1f946",
       "value": 0.9
      }
     },
     "ecd507f04ecb47808eac30434e7e9c28": {
      "model_module": "@jupyter-widgets/base",
      "model_module_version": "1.2.0",
      "model_name": "LayoutModel",
      "state": {}
     },
     "ed21cf86b46e4ff0af7da8edda2a54a3": {
      "model_module": "@jupyter-widgets/base",
      "model_module_version": "1.2.0",
      "model_name": "LayoutModel",
      "state": {}
     },
     "ed263c35106240feb7d005cbf04a7f5d": {
      "model_module": "@jupyter-widgets/controls",
      "model_module_version": "1.5.0",
      "model_name": "DescriptionStyleModel",
      "state": {
       "description_width": ""
      }
     },
     "ed62bb8f721348ccb158565c199f3f35": {
      "model_module": "@jupyter-widgets/controls",
      "model_module_version": "1.5.0",
      "model_name": "ButtonStyleModel",
      "state": {}
     },
     "ee0da7598df8418b929b01c0131bf537": {
      "model_module": "@jupyter-widgets/controls",
      "model_module_version": "1.5.0",
      "model_name": "DescriptionStyleModel",
      "state": {
       "description_width": "initial"
      }
     },
     "ee6d8df807464ade8423924f9064a24d": {
      "model_module": "@jupyter-widgets/base",
      "model_module_version": "1.2.0",
      "model_name": "LayoutModel",
      "state": {
       "width": "auto"
      }
     },
     "ee80db427fea4a85a9ad7285083bec7b": {
      "model_module": "@jupyter-widgets/controls",
      "model_module_version": "1.5.0",
      "model_name": "ButtonStyleModel",
      "state": {}
     },
     "efd6b5babb7043d3862e38451594c7cd": {
      "model_module": "@jupyter-widgets/base",
      "model_module_version": "1.2.0",
      "model_name": "LayoutModel",
      "state": {}
     },
     "f0201711d66f4915a185f6e65639ede0": {
      "model_module": "@jupyter-widgets/controls",
      "model_module_version": "1.5.0",
      "model_name": "LabelModel",
      "state": {
       "layout": "IPY_MODEL_2ef206fb84e8450b8745f98813c8dd0b",
       "style": "IPY_MODEL_700f9d3098284332befe6163a27ddf17",
       "value": "Workspace"
      }
     },
     "f0547da594ff4169be720cc74141930c": {
      "model_module": "@jupyter-widgets/controls",
      "model_module_version": "1.5.0",
      "model_name": "VBoxModel",
      "state": {
       "children": [
        "IPY_MODEL_6bfc9d76a03c4d39b5b073c82e1922e4"
       ],
       "layout": "IPY_MODEL_51acc06c9ef2474dac69cfa9f482c0f1"
      }
     },
     "f094c65734c7432a98202cdd28eaa8ee": {
      "model_module": "@jupyter-widgets/base",
      "model_module_version": "1.2.0",
      "model_name": "LayoutModel",
      "state": {}
     },
     "f0b5fc9fea2a4203a2652a3a555c6d9e": {
      "model_module": "@jupyter-widgets/base",
      "model_module_version": "1.2.0",
      "model_name": "LayoutModel",
      "state": {}
     },
     "f0bad7aa34b14cfe9d0365020c0b4a92": {
      "model_module": "@jupyter-widgets/base",
      "model_module_version": "1.2.0",
      "model_name": "LayoutModel",
      "state": {}
     },
     "f129eb46abcc43ada54269e9496e0c0e": {
      "model_module": "@jupyter-widgets/controls",
      "model_module_version": "1.5.0",
      "model_name": "DescriptionStyleModel",
      "state": {
       "description_width": ""
      }
     },
     "f1737dc9dca041a3a8c9fd9e78260cfb": {
      "model_module": "@jupyter-widgets/base",
      "model_module_version": "1.2.0",
      "model_name": "LayoutModel",
      "state": {}
     },
     "f18ba1b9d3114d3d8cadd7710761044c": {
      "model_module": "@jupyter-widgets/controls",
      "model_module_version": "1.5.0",
      "model_name": "DropdownModel",
      "state": {
       "_options_labels": [
        "",
        "fault_splay1",
        "fault_Cliff_Lake",
        "fault_Other_FlinFlon",
        "fault_Club_Lake_splay",
        "fault_Catherine_splay2",
        "fault_Birch_View",
        "fault_Dion_Lake",
        "fault_FlinFlon_splay",
        "fault_West_Mandy_Road",
        "fault_Channing",
        "fault_Ross_Lake",
        "fault_Louis_Hidden",
        "fault_Lake_View_thrust",
        "contact_Schist_Lake",
        "fault_Burley_Lake",
        "fault_Dion_Lake_splay",
        "fault_Green_Lake",
        "fault_FlinFlon",
        "fault_Catherine_splay1",
        "fault_East_Mandy_Road",
        "fault_Other_FlinFlon_South",
        "fault_Catherine_splay4",
        "contact_Stitt_Island",
        "fault_Club_Lake",
        "fault_Tailing_Pond",
        "35_Hidden_Reservoir_Hr5",
        "29_Hidden_Reservoir_Hr1a",
        "60_BlueLagoon_Fb2",
        "20_FlinFlon_Undivided_Int_Dykes_D2f",
        "04_Boundary_Intrusive_S4h",
        "53_Millrock_Rhyolite_Fm4b",
        "19_FlinFlon_Undivided_Int_Dykes_D2b",
        "18_FlinFlon_Undivided_Int_Dykes_777_D2b",
        "06_Phantom_Lake_Intrusive_S3a",
        "21_FlinFlon_Undivided_Int_Dykes_D3a",
        "43_Millrock_CHLSH_South",
        "56_Millrock_Basalt_Fm1ba",
        "17_FlinFlon_Undivided_Int_Dykes_D2",
        "32_Hidden_Reservoir_Hr1b_SW",
        "11_Missi_M3_NE",
        "13_Missi_M1",
        "07_Annabel_Granitoid_S1",
        "45_Millrock_Gabbro_South",
        "01_Late_Intrusive_S5b",
        "31_Hidden_Reservoir_Hr1c_SW",
        "52_Millrock_Rhyolite_Fm4_West_check",
        "55_Millrock_Basalt_Fm1bf",
        "34_Hidden_Reservoir_Hr2b",
        "03_Boundary_Intrusive_S4b",
        "42_Millrock_CHLSH_North",
        "26_Louis_L3",
        "23_FlinFlon_Undivided_Int_Felsic_D4g",
        "30_Hidden_Reservoir_Hr1b",
        "59_BlueLagoon_Fb3",
        "49_Millrock_MVR_Fm5d",
        "44_Millrock_Gabbro_North",
        "27_Hidden_Carlisle_Hc4",
        "22_FlinFlon_Undivided_Int_Felsic_D4e",
        "02_Boundary_Intrusive_S4a",
        "61_BlueLagoon_Fb1_NW",
        "05_Boundary_Intrusive_S4g",
        "39_Ore_Callinan",
        "38_Ore_Dan_Owens",
        "40_Ore_FlinFlon",
        "Inversion_VTEM_Model",
        "CDI_VTEM_model",
        "Data_FEM_pseudo3D",
        "geochem",
        "Inversion_DIGHEM_Model",
        "Topography",
        "Data_TEM_pseudo3D"
       ],
       "description": "Points",
       "index": 68,
       "layout": "IPY_MODEL_277265090cb1483483af2c5b6e80aa20",
       "style": "IPY_MODEL_7316630bd5974c22a73c637849edfdc8"
      }
     },
     "f1fe14542df24ce5b5d8418e7d96b01c": {
      "model_module": "@jupyter-widgets/controls",
      "model_module_version": "1.5.0",
      "model_name": "VBoxModel",
      "state": {
       "children": [
        "IPY_MODEL_364c0150520941bab67a132363fa6e5c",
        "IPY_MODEL_bbe2795f7c4a47bba7e456428ffa47a3"
       ],
       "layout": "IPY_MODEL_c4e4ab25f96647728c2ee39ad911aec7"
      }
     },
     "f20fae91771f4362b805ca999a7b43a7": {
      "model_module": "@jupyter-widgets/controls",
      "model_module_version": "1.5.0",
      "model_name": "ButtonModel",
      "state": {
       "button_style": "danger",
       "description": "Compute",
       "icon": "check",
       "layout": "IPY_MODEL_e632034b3b0f46768212202f64e30373",
       "style": "IPY_MODEL_a439c011cc4747dba1e9b47fe19022da",
       "tooltip": "Run computation"
      }
     },
     "f245979b2e18425daccfad699db4fe38": {
      "model_module": "@jupyter-widgets/base",
      "model_module_version": "1.2.0",
      "model_name": "LayoutModel",
      "state": {}
     },
     "f26e4ff1fa5e49de88c01997420a9922": {
      "model_module": "@jupyter-widgets/base",
      "model_module_version": "1.2.0",
      "model_name": "LayoutModel",
      "state": {
       "display": "none",
       "grid_area": "filename",
       "width": "auto"
      }
     },
     "f28d127ca9f04c679dcb888df88d3db3": {
      "model_module": "@jupyter-widgets/base",
      "model_module_version": "1.2.0",
      "model_name": "LayoutModel",
      "state": {}
     },
     "f29cf9a4547f4cc785e6864e5cea01dc": {
      "model_module": "@jupyter-widgets/controls",
      "model_module_version": "1.5.0",
      "model_name": "VBoxModel",
      "state": {
       "children": [
        "IPY_MODEL_5b9d24eeca2441679f573c66ad7b1132",
        "IPY_MODEL_9b0e0e8b9c424db19a07d67b7a2868fb"
       ],
       "layout": "IPY_MODEL_0e3d65acb98b43c8855795d763e1315f"
      }
     },
     "f2ac0f567b9142fca32fbd84c2360077": {
      "model_module": "@jupyter-widgets/base",
      "model_module_version": "1.2.0",
      "model_name": "LayoutModel",
      "state": {
       "display": "none",
       "width": "auto"
      }
     },
     "f2d5f7ee4e1a4253a56dbc242d7f7a43": {
      "model_module": "@jupyter-widgets/base",
      "model_module_version": "1.2.0",
      "model_name": "LayoutModel",
      "state": {}
     },
     "f2f746e8150247abbe54a6e7164261a4": {
      "model_module": "@jupyter-widgets/controls",
      "model_module_version": "1.5.0",
      "model_name": "VBoxModel",
      "state": {
       "children": [
        "IPY_MODEL_dabde5f6f7054ea4a227143ea16f814b",
        "IPY_MODEL_76250c8491254af0ba0e93939612eef7"
       ],
       "layout": "IPY_MODEL_03024f3fc03f4892b8695f80ec1b4828"
      }
     },
     "f316f7b39b994cbabead8d082182e255": {
      "model_module": "@jupyter-widgets/controls",
      "model_module_version": "1.5.0",
      "model_name": "FloatTextModel",
      "state": {
       "description": "Time (s)",
       "layout": "IPY_MODEL_758db28bea7e48e1b0e5ba122a52728a",
       "step": null,
       "style": "IPY_MODEL_aa06540f826b41fcb1221f299c9a4434"
      }
     },
     "f40ee1875ab748c1b5f742d4289d3b26": {
      "model_module": "@jupyter-widgets/controls",
      "model_module_version": "1.5.0",
      "model_name": "HBoxModel",
      "state": {
       "children": [
        "IPY_MODEL_053b91ffb9a84063be438d08d11a0ca6",
        "IPY_MODEL_2ec2e94e8d8f4259a8a65007f06a4783"
       ],
       "layout": "IPY_MODEL_5494e8d5cd7645e8b0af6f4f2c32b0df"
      }
     },
     "f48317b549fa4efc9f7ac6fbd84d206e": {
      "model_module": "@jupyter-widgets/controls",
      "model_module_version": "1.5.0",
      "model_name": "VBoxModel",
      "state": {
       "children": [
        "IPY_MODEL_92cf1e2740564cf1882683473c335b45",
        "IPY_MODEL_489c9a28400c4a30b60619bc5de54768"
       ],
       "layout": "IPY_MODEL_478d1a02059741abb6d0b02492d7b39a"
      }
     },
     "f4e9d62b69324b869001a99aa431b9b1": {
      "model_module": "@jupyter-widgets/controls",
      "model_module_version": "1.5.0",
      "model_name": "FloatTextModel",
      "state": {
       "description": "Time (s)",
       "layout": "IPY_MODEL_15f13db88d6e4f8f8d75839266eabb34",
       "step": null,
       "style": "IPY_MODEL_89b3a48868c743b5843dc32d240559a6",
       "value": 0.000281
      }
     },
     "f504e0db83a14816ad2cff0068555228": {
      "model_module": "@jupyter-widgets/base",
      "model_module_version": "1.2.0",
      "model_name": "LayoutModel",
      "state": {}
     },
     "f509f37f8d27452498c9c77163cbe70a": {
      "model_module": "@jupyter-widgets/base",
      "model_module_version": "1.2.0",
      "model_name": "LayoutModel",
      "state": {}
     },
     "f619efc9335745738a7a6fe473be1fd8": {
      "model_module": "@jupyter-widgets/controls",
      "model_module_version": "1.5.0",
      "model_name": "HBoxModel",
      "state": {
       "children": [
        "IPY_MODEL_ca502b3673a24ddbb9bec7701232b64b",
        "IPY_MODEL_0b685c82abb349dfb93c06129047457f",
        "IPY_MODEL_b192a2253df34b728dbb1032e4b2db94"
       ],
       "layout": "IPY_MODEL_36ae69e408724acfaf560871ed6708b7"
      }
     },
     "f68877fb6d634b6481b6d71765684dd7": {
      "model_module": "@jupyter-widgets/base",
      "model_module_version": "1.2.0",
      "model_name": "LayoutModel",
      "state": {}
     },
     "f6a9f3905cbb4c10b5586439028afde2": {
      "model_module": "@jupyter-widgets/controls",
      "model_module_version": "1.5.0",
      "model_name": "DescriptionStyleModel",
      "state": {
       "description_width": ""
      }
     },
     "f7159b55b6a44fc3984ffc939678bf61": {
      "model_module": "@jupyter-widgets/controls",
      "model_module_version": "1.5.0",
      "model_name": "DescriptionStyleModel",
      "state": {
       "description_width": "initial"
      }
     },
     "f7b15c843e0044d7a04c9be5f6f267a5": {
      "model_module": "@jupyter-widgets/base",
      "model_module_version": "1.2.0",
      "model_name": "LayoutModel",
      "state": {}
     },
     "f8ec8fca629f4b7189f8d53e01f1d1d9": {
      "model_module": "@jupyter-widgets/controls",
      "model_module_version": "1.5.0",
      "model_name": "ButtonModel",
      "state": {
       "description": "Create copy:",
       "layout": "IPY_MODEL_4824906dacb348f2a3a979f1fc350829",
       "style": "IPY_MODEL_93a8ca457a884c9e8d8f2c645a16cc3e"
      }
     },
     "f9066542fae7448cbe20efa608c93704": {
      "model_module": "@jupyter-widgets/base",
      "model_module_version": "1.2.0",
      "model_name": "LayoutModel",
      "state": {}
     },
     "f92b76b50fe2456f8f8a173d209d8504": {
      "model_module": "@jupyter-widgets/base",
      "model_module_version": "1.2.0",
      "model_name": "LayoutModel",
      "state": {}
     },
     "f93dac178e904d1c9f84c1a22fa8c971": {
      "model_module": "@jupyter-widgets/base",
      "model_module_version": "1.2.0",
      "model_name": "LayoutModel",
      "state": {
       "display": "none",
       "grid_gap": "0px 0px",
       "grid_template_areas": "\n                    'pathlist pathlist'\n                    'dircontent dircontent'\n                    ",
       "grid_template_columns": "60% 40%",
       "grid_template_rows": "auto auto",
       "width": "500px"
      }
     },
     "f94b3160955a4ce1b65e41efaf989f74": {
      "model_module": "@jupyter-widgets/controls",
      "model_module_version": "1.5.0",
      "model_name": "HBoxModel",
      "state": {
       "children": [
        "IPY_MODEL_7d69ab5f01174099a1744f81df871355",
        "IPY_MODEL_c52929de281548f3bda3a384ded36c30"
       ],
       "layout": "IPY_MODEL_f094c65734c7432a98202cdd28eaa8ee"
      }
     },
     "f9518094f7814e5a99990e7076066552": {
      "model_module": "@jupyter-widgets/base",
      "model_module_version": "1.2.0",
      "model_name": "LayoutModel",
      "state": {}
     },
     "f95da697eaf04674adbb7388bcc51d85": {
      "model_module": "@jupyter-widgets/controls",
      "model_module_version": "1.5.0",
      "model_name": "CheckboxModel",
      "state": {
       "description": "GA Pro - Live link",
       "disabled": false,
       "indent": false,
       "layout": "IPY_MODEL_9852322c9ffa446d81b6a15a1c1f3a01",
       "style": "IPY_MODEL_d3313d4892d147f7aa43478d701b2fd7",
       "value": false
      }
     },
     "f96a123f46c242bdb64fa5264415307d": {
      "model_module": "@jupyter-widgets/controls",
      "model_module_version": "1.5.0",
      "model_name": "SelectModel",
      "state": {
       "_options_labels": [
        "..",
        "dask-worker-space",
        "images"
       ],
       "index": null,
       "layout": "IPY_MODEL_4416bacdd3024eb1868c999668b67843",
       "rows": 8,
       "style": "IPY_MODEL_8c826d005dd044bd95494052c377737b"
      }
     },
     "f98134dc33c749d9a6e0bf308c92e2d6": {
      "model_module": "@jupyter-widgets/controls",
      "model_module_version": "1.5.0",
      "model_name": "DescriptionStyleModel",
      "state": {
       "description_width": ""
      }
     },
     "f9b0dd2a16324fd986cf8bc587f18d27": {
      "model_module": "@jupyter-widgets/base",
      "model_module_version": "1.2.0",
      "model_name": "LayoutModel",
      "state": {}
     },
     "f9d46132dce0477ba9b9fc2b5a8f9416": {
      "model_module": "@jupyter-widgets/controls",
      "model_module_version": "1.5.0",
      "model_name": "VBoxModel",
      "state": {
       "children": [
        "IPY_MODEL_a50d8955e25c4c16b61f17a3d3603116",
        "IPY_MODEL_b31fb5a7452b402ca1865e9cb9a3a62f"
       ],
       "layout": "IPY_MODEL_907bc8ce6834426ca4726071d30ba488"
      }
     },
     "f9e2d24c9c1d4fcc92bf2ebed470d2ae": {
      "model_module": "@jupyter-widgets/controls",
      "model_module_version": "1.5.0",
      "model_name": "TextModel",
      "state": {
       "continuous_update": false,
       "description": "Group:",
       "layout": "IPY_MODEL_fbcd45170e764142bdd89997ae148098",
       "style": "IPY_MODEL_0ea4ec5e0bbd4cb19b6799840938ed1b"
      }
     },
     "f9f9770c5efa4502a7e1a3d7117acdbb": {
      "model_module": "@jupyter-widgets/base",
      "model_module_version": "1.2.0",
      "model_name": "LayoutModel",
      "state": {}
     },
     "fa046e6bef084b7abab639eb99890506": {
      "model_module": "@jupyter-widgets/controls",
      "model_module_version": "1.5.0",
      "model_name": "DropdownModel",
      "state": {
       "_options_labels": [
        ""
       ],
       "description": "Object:",
       "index": 0,
       "layout": "IPY_MODEL_a4883f8ccf394933936634fc786eee28",
       "style": "IPY_MODEL_00201b70cc214626b4dd99fe66ed0c5e"
      }
     },
     "fa6e801d81b642c4a768966ee1c9cd23": {
      "model_module": "@jupyter-widgets/controls",
      "model_module_version": "1.5.0",
      "model_name": "VBoxModel",
      "state": {
       "children": [
        "IPY_MODEL_f95da697eaf04674adbb7388bcc51d85"
       ],
       "layout": "IPY_MODEL_4fb1fe3cb1374357a1f172f0ddfb52c5"
      }
     },
     "faf1cc1ded7f4155a65f31f6c768e92d": {
      "model_module": "@jupyter-widgets/base",
      "model_module_version": "1.2.0",
      "model_name": "LayoutModel",
      "state": {
       "grid_area": "pathlist",
       "width": "auto"
      }
     },
     "fb170222407e405697174daf8281b035": {
      "model_module": "@jupyter-widgets/controls",
      "model_module_version": "1.5.0",
      "model_name": "DescriptionStyleModel",
      "state": {
       "description_width": ""
      }
     },
     "fb457c43a2f741d9a0c345a49bc2915d": {
      "model_module": "@jupyter-widgets/controls",
      "model_module_version": "1.5.0",
      "model_name": "DropdownModel",
      "state": {
       "_options_labels": [
        "C:\\Users\\dominiquef\\Documents\\GIT\\mira\\mirageoscience-apps\\assets",
        "C:\\Users\\dominiquef\\Documents\\GIT\\mira\\mirageoscience-apps",
        "C:\\Users\\dominiquef\\Documents\\GIT\\mira",
        "C:\\Users\\dominiquef\\Documents\\GIT",
        "C:\\Users\\dominiquef\\Documents",
        "C:\\Users\\dominiquef",
        "C:\\Users",
        "C:\\",
        "D:\\",
        "Z:\\"
       ],
       "index": 0,
       "layout": "IPY_MODEL_cc6b30cd16814d8cb41b42bd67d13d54",
       "style": "IPY_MODEL_1a28303404084d4a8fb170408f9ead1c"
      }
     },
     "fbcd45170e764142bdd89997ae148098": {
      "model_module": "@jupyter-widgets/base",
      "model_module_version": "1.2.0",
      "model_name": "LayoutModel",
      "state": {}
     },
     "fbe4da1e82304575baf57f100297a088": {
      "model_module": "@jupyter-widgets/base",
      "model_module_version": "1.2.0",
      "model_name": "LayoutModel",
      "state": {}
     },
     "fbf23c5ecd4d4a9ca1d41cb8c0177ce9": {
      "model_module": "@jupyter-widgets/controls",
      "model_module_version": "1.5.0",
      "model_name": "DescriptionStyleModel",
      "state": {
       "description_width": "initial"
      }
     },
     "fc09266b59ea42a3a34fe037a2416560": {
      "model_module": "@jupyter-widgets/controls",
      "model_module_version": "1.5.0",
      "model_name": "ButtonModel",
      "state": {
       "button_style": "danger",
       "description": "Compute",
       "icon": "check",
       "layout": "IPY_MODEL_98ffbe40bc3741cbbe5aec2c35077274",
       "style": "IPY_MODEL_65fdecb8d8914ebc8c147037cfb53aa0",
       "tooltip": "Run computation"
      }
     },
     "fcd36b30debd49a8862ff04370458580": {
      "model_module": "@jupyter-widgets/controls",
      "model_module_version": "1.5.0",
      "model_name": "ToggleButtonsModel",
      "state": {
       "_options_labels": [
        "Distance",
        "Easting",
        "Northing"
       ],
       "button_style": "",
       "description": "X-axis label:",
       "icons": [],
       "index": 0,
       "layout": "IPY_MODEL_3d59c979dcbd47d18d7437f286ab535c",
       "style": "IPY_MODEL_0322b1d93e4549d58a06ecb2736229b1",
       "tooltips": []
      }
     },
     "fcf6bcc6a35249c9977aa91afb037881": {
      "model_module": "@jupyter-widgets/base",
      "model_module_version": "1.2.0",
      "model_name": "LayoutModel",
      "state": {}
     },
     "fe210254e56645a6a0933db3a98abee7": {
      "model_module": "@jupyter-widgets/controls",
      "model_module_version": "1.5.0",
      "model_name": "DescriptionStyleModel",
      "state": {
       "description_width": "initial"
      }
     },
     "fe27144f8b2a4525852536e643993a8d": {
      "model_module": "@jupyter-widgets/controls",
      "model_module_version": "1.5.0",
      "model_name": "DescriptionStyleModel",
      "state": {
       "description_width": ""
      }
     },
     "fe59b49bddf4495c8e61a2bf6cabd595": {
      "model_module": "@jupyter-widgets/base",
      "model_module_version": "1.2.0",
      "model_name": "LayoutModel",
      "state": {
       "width": "auto"
      }
     },
     "ff100104613a48f8adbf5c077bb049a9": {
      "model_module": "@jupyter-widgets/controls",
      "model_module_version": "1.5.0",
      "model_name": "ButtonStyleModel",
      "state": {}
     },
     "ff1619cba17043a7bed8f6a1c3f2a1aa": {
      "model_module": "@jupyter-widgets/controls",
      "model_module_version": "1.5.0",
      "model_name": "DescriptionStyleModel",
      "state": {
       "description_width": ""
      }
     },
     "ff1c9ba9b428492f95c95ba282c5ce8a": {
      "model_module": "@jupyter-widgets/controls",
      "model_module_version": "1.5.0",
      "model_name": "FloatTextModel",
      "state": {
       "description": "Time (s)",
       "layout": "IPY_MODEL_0d19177480e540eebd25a76f9d8e8dfd",
       "step": null,
       "style": "IPY_MODEL_c6a7c7c4254548c89dd52291dbe852d5",
       "value": 0.005495
      }
     },
     "ff442f53562e4da2b28f1374480c6132": {
      "model_module": "@jupyter-widgets/base",
      "model_module_version": "1.2.0",
      "model_name": "LayoutModel",
      "state": {}
     },
     "ff9e18ccd0f24e87ba763d56cf94059c": {
      "model_module": "@jupyter-widgets/controls",
      "model_module_version": "1.5.0",
      "model_name": "DropdownModel",
      "state": {
       "_options_labels": [
        "Sf[9]",
        "Sf[10]",
        "Sf[11]",
        "Sf[12]",
        "Sf[13]",
        "Sf[14]",
        "Sf[15]",
        "Sf[16]",
        "Sf[17]",
        "Sf[18]",
        "Sf[19]",
        "Sf[20]",
        "Sf[21]",
        "Sf[22]",
        "Sf[23]",
        "Sf[24]",
        "Sf[25]",
        "Sf[26]",
        "Sf[27]",
        "Sf[28]",
        "Sf[29]",
        "Sf[30]",
        "Sf[31]",
        "Sf[32]",
        "Sf[33]",
        "Sf[34]",
        "Sf[35]"
       ],
       "description": "Channel",
       "index": 12,
       "layout": "IPY_MODEL_d72f45593fe941fb8fb24dad77267985",
       "style": "IPY_MODEL_80f1d04ff64347aab391135e9addfec9"
      }
     }
    },
    "version_major": 2,
    "version_minor": 0
   }
  }
 },
 "nbformat": 4,
 "nbformat_minor": 4
}

version https://git-lfs.github.com/spec/v1
oid sha256:48d8000db503cab0466718f55e97187a5151ab8a1d27c5f3c06c6a1c507e6d4b
size 1474207

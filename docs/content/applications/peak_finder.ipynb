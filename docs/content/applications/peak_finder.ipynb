version https://git-lfs.github.com/spec/v1
oid sha256:bd47f856ef9d8cd06c53b95da0c9f64ba3889a9caa7cd1c30e925e3e1deffb4f
size 4081963

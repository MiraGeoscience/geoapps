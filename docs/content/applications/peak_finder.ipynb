version https://git-lfs.github.com/spec/v1
oid sha256:100bfc2e8f666ea4322a41e4ea3213096cceb0294d3bc4b2fd23e6877e4bec5c
size 3614614

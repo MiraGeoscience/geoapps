version https://git-lfs.github.com/spec/v1
oid sha256:1adb8f24c69c70d4b42f7a31c530df61fd4d33e97db616c1c681c4f4db43485b
size 6254284

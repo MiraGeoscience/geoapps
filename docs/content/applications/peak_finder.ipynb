version https://git-lfs.github.com/spec/v1
oid sha256:1cb3e578b4513256c1bc596eb2f929a28da3f7a3fa93a739ef443108713c0084
size 570180

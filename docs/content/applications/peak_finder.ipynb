version https://git-lfs.github.com/spec/v1
oid sha256:5e1b31206b21f4e642e64050b57b691ffae7b531ee0330f1dec53612a077f38a
size 570180

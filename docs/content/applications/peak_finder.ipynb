version https://git-lfs.github.com/spec/v1
oid sha256:fa1ab1a43fd300379ed240b6851e0a3c5165b396c18cb5b76fe1ea47b50251c8
size 2593064

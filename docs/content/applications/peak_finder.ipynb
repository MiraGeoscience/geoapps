{
 "cells": [
  {
   "cell_type": "markdown",
   "id": "mounted-order",
   "metadata": {},
   "source": [
    "# Peak Finder\n",
    "\n",
    "This [Peak Finder](#Methodology) algorithm has been designed for the detection and grouping of time-domain electromagnetic (TEM) anomalies measured along flight lines.\n",
    "Anomaly markers can be exported to Geoscience ANALYST, along with various metrics for characterization and targeting:\n",
    "\n",
    "  <img align=\"right\" width=\"50%\" src=\"./images/peak_finder_app.png\">\n",
    "  \n",
    "- Amplitude\n",
    "- Dip direction\n",
    "- Mad Tau (TEM data only)\n",
    "- Anomaly skewness\n",
    "\n",
    "While initially designed for TEM data, the same application can be used for the characterization of anomalies of mixed data types (e.g. magnetics, gravity, topography, etc.).\n",
    "\n",
    "\n",
    "  \n",
    "\n",
    "New user? Visit the [Getting Started](../installation.rst) page."
   ]
  },
  {
   "cell_type": "markdown",
   "id": "public-newman",
   "metadata": {},
   "source": [
    "## Application\n",
    "The following sections provide details on the different parameters controlling the application. Interactive widgets shown below are for demonstration purposes only."
   ]
  },
  {
   "cell_type": "code",
   "execution_count": 1,
   "id": "parliamentary-bookmark",
   "metadata": {
    "scrolled": false
   },
   "outputs": [
    {
     "data": {
      "application/vnd.jupyter.widget-view+json": {
       "model_id": "802e6f6a7bb8429aa59a186846037a9b",
       "version_major": 2,
       "version_minor": 0
      },
      "text/plain": [
       "VBox(children=(VBox(children=(Label(value='Workspace', style=DescriptionStyle(description_width='initial')), H…"
      ]
     },
     "metadata": {},
     "output_type": "display_data"
    }
   ],
   "source": [
    "from geoapps.processing.peak_finder import PeakFinder\n",
    "\n",
    "app = PeakFinder(h5file=r\"../../../assets/FlinFlon.geoh5\")\n",
    "app()"
   ]
  },
  {
   "cell_type": "markdown",
   "id": "mexican-pennsylvania",
   "metadata": {},
   "source": [
    "## Project Selection\n",
    "\n",
    "Select and connect to an existing **geoh5** project file containing data. \n",
    "\n",
    "OR \n",
    "\n",
    "Select a `*.ui.json` input file to re-load parameters from. See the [Input ui.json](#Input-ui.json) section for details."
   ]
  },
  {
   "cell_type": "code",
   "execution_count": 2,
   "id": "beautiful-mouse",
   "metadata": {},
   "outputs": [
    {
     "data": {
      "application/vnd.jupyter.widget-view+json": {
       "model_id": "473cf522a6d448e7bac3be02f1d0640f",
       "version_major": 2,
       "version_minor": 0
      },
      "text/plain": [
       "VBox(children=(Label(value='Workspace', style=DescriptionStyle(description_width='initial')), HBox(children=(F…"
      ]
     },
     "metadata": {},
     "output_type": "display_data"
    }
   ],
   "source": [
    "app.project_panel"
   ]
  },
  {
   "cell_type": "markdown",
   "id": "funny-press",
   "metadata": {},
   "source": [
    "See the [Project Panel](base_application.ipynb#Project-Panel) page for more details."
   ]
  },
  {
   "cell_type": "markdown",
   "id": "curious-helicopter",
   "metadata": {},
   "source": [
    "## Object/Data Selection\n",
    "\n",
    "List of `Curve` objects available containing line data. Multiple data channels and/or data groups can be selected. "
   ]
  },
  {
   "cell_type": "code",
   "execution_count": 3,
   "id": "distinguished-lesbian",
   "metadata": {},
   "outputs": [
    {
     "data": {
      "application/vnd.jupyter.widget-view+json": {
       "model_id": "4f93ca5d4bf54c6cb8fc56d0875bbc64",
       "version_major": 2,
       "version_minor": 0
      },
      "text/plain": [
       "VBox(children=(Dropdown(description='Object:', index=3, options=(['', None], ['Workspace/CDI_VTEM_model', UUID…"
      ]
     },
     "metadata": {},
     "output_type": "display_data"
    }
   ],
   "source": [
    "app.data_panel"
   ]
  },
  {
   "cell_type": "markdown",
   "id": "vietnamese-princeton",
   "metadata": {},
   "source": [
    "### Flip Y-axis\n",
    "\n",
    "Option to invert the data profile by a -1 multiplication. Useful for the detection of lows instead of highs."
   ]
  },
  {
   "cell_type": "code",
   "execution_count": 4,
   "id": "caring-drunk",
   "metadata": {},
   "outputs": [
    {
     "data": {
      "application/vnd.jupyter.widget-view+json": {
       "model_id": "8edbd9e811d841c28366178dc0603c30",
       "version_major": 2,
       "version_minor": 0
      },
      "text/plain": [
       "ToggleButton(value=False, button_style='warning', description='Flip Y (-1x)', style=DescriptionStyle(descripti…"
      ]
     },
     "metadata": {},
     "output_type": "display_data"
    }
   ],
   "source": [
    "app.flip_sign"
   ]
  },
  {
   "cell_type": "markdown",
   "id": "received-institution",
   "metadata": {},
   "source": [
    "## TEM data\n",
    "\n",
    "Flag the selected data to be Time-Domain EM data. "
   ]
  },
  {
   "cell_type": "code",
   "execution_count": 5,
   "id": "forty-supply",
   "metadata": {},
   "outputs": [
    {
     "data": {
      "application/vnd.jupyter.widget-view+json": {
       "model_id": "5661cd17f46b4f6396aba0793bffa6fe",
       "version_major": 2,
       "version_minor": 0
      },
      "text/plain": [
       "HBox(children=(Checkbox(value=True, description='TEM Data', style=DescriptionStyle(description_width='initial'…"
      ]
     },
     "metadata": {},
     "output_type": "display_data"
    }
   ],
   "source": [
    "app.tem_box"
   ]
  },
  {
   "cell_type": "markdown",
   "id": "dependent-nerve",
   "metadata": {},
   "source": [
    "This option enables the [TEM System](#TEM-System), [Time Groups](#Time-Groups) and [Decay Curve](#Decay-Curve) panels."
   ]
  },
  {
   "cell_type": "markdown",
   "id": "suffering-majority",
   "metadata": {},
   "source": [
    "### TEM System\n",
    "\n",
    "List of available TEM systems.\n",
    "The application will attempt to assign the *Survey Type* based on\n",
    "known channel names (e.g. *Sf* => *VTEM*)."
   ]
  },
  {
   "cell_type": "code",
   "execution_count": 6,
   "id": "arabic-member",
   "metadata": {},
   "outputs": [
    {
     "data": {
      "application/vnd.jupyter.widget-view+json": {
       "model_id": "29d89166f6f248c5b634df7b669165b6",
       "version_major": 2,
       "version_minor": 0
      },
      "text/plain": [
       "Dropdown(description='Time-Domain System:', index=17, options=('AeroTEM (2007)', 'AeroTEM (2010)', 'GENESIS (2…"
      ]
     },
     "metadata": {},
     "output_type": "display_data"
    }
   ],
   "source": [
    "app.system"
   ]
  },
  {
   "cell_type": "markdown",
   "id": "falling-quest",
   "metadata": {},
   "source": [
    "Assigning the right time gates to each data channel is important for the calculation of the [Slanted Tau](#Slanted-Tau) parameter. "
   ]
  },
  {
   "cell_type": "markdown",
   "id": "sized-catalyst",
   "metadata": {},
   "source": [
    "### Channel Groups\n",
    "\n",
    "The detection and grouping of anomalies is based on `property_groups`, or group of channels, found on the target curve object. These groups can be defined manually by the user in Geoscience ANALYST, or auto-generated from this application.\n",
    "\n",
    "See the [Methodology](#Methodology) section for details on how the grouping of anomalies is performed."
   ]
  },
  {
   "cell_type": "code",
   "execution_count": 7,
   "id": "altered-whale",
   "metadata": {},
   "outputs": [
    {
     "data": {
      "application/vnd.jupyter.widget-view+json": {
       "model_id": "64eb224c776e408d9abe782daa9229ac",
       "version_major": 2,
       "version_minor": 0
      },
      "text/plain": [
       "VBox(children=(VBox(children=(Dropdown(description='Group Name:', index=3, options=(['', None], ['-- Groups --…"
      ]
     },
     "metadata": {},
     "output_type": "display_data"
    }
   ],
   "source": [
    "app.groups_panel"
   ]
  },
  {
   "cell_type": "markdown",
   "id": "254282fd",
   "metadata": {},
   "source": [
    "#### Use-Create Defaults  [Optional]\n",
    "Create (6) pre-defined groups of data channels with corresponding default colors. Selected [Data channels](#Object/Data-Selection) are assigned to three based groups (`early`, `middle`, `late`), with three larger overlapping groups (e.g. anomalies found in both the `early` and `middle` channel groups would be labeled as `early+middle`). "
   ]
  },
  {
   "cell_type": "code",
   "execution_count": 8,
   "id": "ff937b83",
   "metadata": {},
   "outputs": [
    {
     "data": {
      "application/vnd.jupyter.widget-view+json": {
       "model_id": "90a4935b7ae040afb548f1febd73e286",
       "version_major": 2,
       "version_minor": 0
      },
      "text/plain": [
       "ToggleButton(value=True, description='Use/Create Default')"
      ]
     },
     "metadata": {},
     "output_type": "display_data"
    }
   ],
   "source": [
    "app.group_auto"
   ]
  },
  {
   "cell_type": "markdown",
   "id": "established-oxygen",
   "metadata": {},
   "source": [
    "### Decay Curve\n",
    "\n",
    "Plot of peak values as a function of time for the nearest anomaly to the [Center](#Center) location."
   ]
  },
  {
   "cell_type": "code",
   "execution_count": 9,
   "id": "later-india",
   "metadata": {},
   "outputs": [
    {
     "data": {
      "image/png": "[encoded data removed]",
      "text/plain": [
       "<Figure size 576x576 with 1 Axes>"
      ]
     },
     "execution_count": 9,
     "metadata": {},
     "output_type": "execute_result"
    }
   ],
   "source": [
    "app.decay_figure"
   ]
  },
  {
   "cell_type": "markdown",
   "id": "global-pleasure",
   "metadata": {},
   "source": [
    "#### Slanted Tau\n",
    "\n",
    "This pseudo-decay curve can be used for the calculation of the `Slanted Tau`, or `Mad Tau`, as defined by the slope of the linear fit of log( `dB/dt`(V)) as a function `time` (s). \n",
    "\n",
    "\\begin{equation}\n",
    "\\tau = \\cot(\\theta) \\approx \\frac{\\Delta t}{\\Delta log(dB/dt)}\n",
    "\\end{equation}\n",
    "    \n",
    "where $\\Delta$ denotes the varation of time $t$ and $dB/dt$ over the selected group of time channels ([Nabighian & Macnea, 1991](https://library.seg.org/doi/epdf/10.1190/1.9781560802686.ch6))."
   ]
  },
  {
   "cell_type": "markdown",
   "id": "turkish-nickname",
   "metadata": {},
   "source": [
    "## Line Selection\n",
    "\n",
    "Selection of a channel representing the line identifier and specific line number."
   ]
  },
  {
   "cell_type": "code",
   "execution_count": 10,
   "id": "right-intellectual",
   "metadata": {},
   "outputs": [
    {
     "data": {
      "application/vnd.jupyter.widget-view+json": {
       "model_id": "27019bda20d942d3baeff33705fef475",
       "version_major": 2,
       "version_minor": 0
      },
      "text/plain": [
       "VBox(children=(Dropdown(description='Lines field', index=27, options=(['', None], ['--- Channels ---', None], …"
      ]
     },
     "metadata": {},
     "output_type": "display_data"
    }
   ],
   "source": [
    "app.lines.main"
   ]
  },
  {
   "cell_type": "markdown",
   "id": "personal-weather",
   "metadata": {},
   "source": [
    "The detection algorithm is applied immediately on the selected line as a test dataset. Users are invited to adjust the different [Detection Parameters](#Detection-Parameters) before [Executing](#Process-All) the process on all lines."
   ]
  },
  {
   "cell_type": "markdown",
   "id": "completed-reply",
   "metadata": {},
   "source": [
    "## Profile Plot\n",
    "\n",
    "Data profile plot with detected anomalies color coded by [Groups](#Grouping). "
   ]
  },
  {
   "cell_type": "code",
   "execution_count": 11,
   "id": "executed-composite",
   "metadata": {},
   "outputs": [
    {
     "data": {
      "image/png": "[encoded data removed]",
      "text/plain": [
       "<Figure size 864x432 with 1 Axes>"
      ]
     },
     "execution_count": 11,
     "metadata": {},
     "output_type": "execute_result"
    }
   ],
   "source": [
    "app.figure"
   ]
  },
  {
   "cell_type": "markdown",
   "id": "personalized-jordan",
   "metadata": {},
   "source": [
    "Anomalies are detected when a peak (maximum) can be found between two lows (minimum) and two inflection points. \n",
    "The dash line marks the position of the peak for one of the anomalies from which an estimated dip direction is determined based on:\n",
    "\n",
    "- (TEM data) the peak migration direction\n",
    "- (None-TEM) the skew direction"
   ]
  },
  {
   "cell_type": "markdown",
   "id": "based-insertion",
   "metadata": {},
   "source": [
    "## Visual Parameters\n",
    "\n",
    "Parameters controlling the [Profile Plot](#Profile-Plot)."
   ]
  },
  {
   "cell_type": "code",
   "execution_count": 12,
   "id": "random-buyer",
   "metadata": {},
   "outputs": [
    {
     "data": {
      "application/vnd.jupyter.widget-view+json": {
       "model_id": "25036602bfaa4f2aafc88f184e56f66d",
       "version_major": 2,
       "version_minor": 0
      },
      "text/plain": [
       "VBox(children=(Dropdown(description='Select Peak', index=16, options=(1353.7, 1358.7, 1563.5, 1593.5, 1723.4, …"
      ]
     },
     "metadata": {},
     "output_type": "display_data"
    }
   ],
   "source": [
    "app.visual_parameters"
   ]
  },
  {
   "cell_type": "markdown",
   "id": "wanted-permission",
   "metadata": {},
   "source": [
    "### Select Peak\n",
    "Selection of detected peaks. Used to center the plotting window and display of the decay curve.\n",
    "\n",
    "### Center\n",
    "Position of the plotting window along the selected line.\n",
    "\n",
    "### Width\n",
    "Width of the plotting window\n",
    "\n",
    "### X-axis label\n",
    "Units displayed along the x-axis\n",
    "\n",
    "### Y-axis scaling\n",
    "Normalization of the data displayed along the Y-axis\n",
    "\n",
    "### Symlog\n",
    "Symmetric logarithmic option such that both positive and negative data can be displayed in log space.\n",
    "\n",
    "#### Linear threshold\n",
    "\n",
    "Limits for the log scale plot around zero. Values between the (+/-) threshold are plotted in linear scale. "
   ]
  },
  {
   "cell_type": "markdown",
   "id": "invisible-teach",
   "metadata": {},
   "source": [
    "## Detection Parameters\n",
    "\n",
    "Parameters controlling the filtering and grouping of positive peak anomalies."
   ]
  },
  {
   "cell_type": "code",
   "execution_count": 13,
   "id": "laden-simon",
   "metadata": {},
   "outputs": [
    {
     "data": {
      "application/vnd.jupyter.widget-view+json": {
       "model_id": "a1748d4adfb54bfea4fccc5fa3f71356",
       "version_major": 2,
       "version_minor": 0
      },
      "text/plain": [
       "VBox(children=(IntSlider(value=6, continuous_update=False, description='Smoothing', max=64, style=SliderStyle(…"
      ]
     },
     "metadata": {},
     "output_type": "display_data"
    }
   ],
   "source": [
    "app.detection_parameters"
   ]
  },
  {
   "cell_type": "markdown",
   "id": "placed-termination",
   "metadata": {},
   "source": [
    "<img align=\"center\" width=\"75%\" src=\"./images/peak_finder_parameters.png\">\n",
    "\n",
    "\n",
    "### Minimum Amplitude\n",
    "\n",
    "Threshold value ($\\delta_A$) for filtering small anomalies:\n",
    "\n",
    "\\begin{equation}\n",
    "\\delta_A = \\|\\frac{d_{max} - d_{min}}{d_{min}}\\| * 100\n",
    "\\end{equation}\n",
    "\n",
    "Set as a percent (%) of the data anomaly over its minimum value.\n",
    "\n",
    "\n",
    "### Minimum Data Value\n",
    "\n",
    "Minimum absolute data value ($\\delta_d$) used by the algorithm:\n",
    "\\begin{equation}\n",
    "d_i = \n",
    "\\begin{cases}\n",
    "d_i & \\;\\text{for } d_i > \\delta_d \\\\\n",
    "nan & \\;\\text{for } d_i \\leq \\delta_d\\\\\n",
    "\\end{cases}\n",
    "\\end{equation}\n",
    "\n",
    "### Minimum Width\n",
    "\n",
    "Minimum anomaly width (m) as measured from start to end (consecutive lows).\n",
    "\n",
    "\n",
    "### Maximum Peak Migration\n",
    "\n",
    "Threshold applied on the grouping of anomalies based on the lateral shift of peaks.\n",
    "\n",
    "### Minimum number of channels\n",
    "\n",
    "Minimum number of data channels required to form a group.\n",
    "\n",
    "\n",
    "<img align=\"right\" width=\"50%\" src=\"./images/peak_smoothing.png\">\n",
    "\n",
    "\n",
    "### Smoothing\n",
    "\n",
    "Parameter controlling the running mean averaging:\n",
    "\n",
    "$d_i = \\frac{1}{N}\\sum_{j=-\\frac{N}{2}}^{\\frac{N}{2}}d_{i+j}$\n",
    "\n",
    "where `N` is the number of along line neighbours used for the averaging. The averaging becomes one sided at both ends of the profile. \n",
    "\n",
    "### Show residual\n",
    "\n",
    "Option to show the positive (blue) and negative (red) residuals between the original and smoothed profile. Useful to highlight smaller anomalies within larger trends.\n"
   ]
  },
  {
   "cell_type": "markdown",
   "id": "commercial-ultimate",
   "metadata": {},
   "source": [
    "## Output Panel\n",
    "\n",
    "Run and export anomaly markers."
   ]
  },
  {
   "cell_type": "code",
   "execution_count": 14,
   "id": "cutting-poker",
   "metadata": {},
   "outputs": [
    {
     "data": {
      "application/vnd.jupyter.widget-view+json": {
       "model_id": "77d9c05d122b40978926a1e4551633f8",
       "version_major": 2,
       "version_minor": 0
      },
      "text/plain": [
       "VBox(children=(VBox(children=(VBox(children=(Button(button_style='danger', description='Process All Lines', ic…"
      ]
     },
     "metadata": {},
     "output_type": "display_data"
    }
   ],
   "source": [
    "app.output_panel"
   ]
  },
  {
   "cell_type": "markdown",
   "id": "younger-actress",
   "metadata": {},
   "source": [
    "### Process All\n",
    "\n",
    "Run the search algorithm on all lines. This process is run in parallel using [Dask](https://dask.org/). Anomaly group markers are exported to the target `geoh5` project.\n",
    "\n",
    "### All Markers\n",
    "\n",
    "Write the full set of markers (min, max, inflections) for all peaks on every data channels."
   ]
  },
  {
   "cell_type": "code",
   "execution_count": 15,
   "id": "62de3042",
   "metadata": {
    "nbsphinx": "hidden"
   },
   "outputs": [],
   "source": [
    "import os\n",
    "app._working_directory = os.getcwd()\n",
    "out = app.save_json_params(app.ga_group_name.value, app.params.default_ui_json.copy())"
   ]
  },
  {
   "cell_type": "markdown",
   "id": "massive-struggle",
   "metadata": {},
   "source": [
    "See the [Output Panel](base_application.ipynb#Output-Panel) page for more details."
   ]
  },
  {
   "cell_type": "markdown",
   "id": "north-answer",
   "metadata": {},
   "source": [
    "## Methodology\n",
    "\n",
    "This section provides technical details regarding the algorithm used for the detection of 1D anomalies. \n",
    "\n",
    "Anomalies are identified from the detection of maximum, minimum and inflection points calculated from the first and second order derivatives of individual data channels. The algorithm relies on the [Numpy.fft](https://numpy.org/doc/stable/reference/routines.fft.html) routine for the calculation of derivatives in the Fourier domain.\n",
    "\n",
    "[Detection Parameters](#Detection-Parameters) are available for filtering and grouping co-located anomalies. The selection process is done in the following order:\n",
    "\n",
    "### Primary detection\n",
    "\n",
    "Loop over the selected data channels:\n",
    "\n",
    "1. Apply the [Minimum Data Value](#Minimum-Data-Value) threshold.\n",
    "2. For every maximum (peak) found on a profile, look on either side for inflection and minimum points. This forms an anomaly.\n",
    "3. Keep all anomalies larger than the [Minimum Amplitude](#Minimum-Amplitude)\n",
    "\n",
    "### Grouping\n",
    "\n",
    "Anomalies found along individual data channels are grouped based on spatial proximity:\n",
    "\n",
    "1. Find all peaks within the [Maximum Peak Migration](#Maximum-Peak-Migration) distance. The nearest peak is used if multiple peaks are found on a single channel.\n",
    "2. Create an anomaly group that satisfies the following criteria:\n",
    "    - The data channels must be part of a continuous series (maximum of one channel skip is allowed)\n",
    "    - A group must satisfy the [Minimum number of channels](#Minimum-number-of-channels)\n",
    "3. For TEM data, an ID gets assigned based on the largest overlap between the labeled data channels and the pre-defined [Channel Groups](#Channel-Groups)."
   ]
  },
  {
   "cell_type": "markdown",
   "id": "efce46f7",
   "metadata": {},
   "source": [
    "## Input ui.json \n",
    "\n",
    "This application relies on a [structured json](./PeakFinder.ui.json) file to store and run the program.\n",
    "\n",
    "The same input `ui.json` file can be used to run the program from command line:\n",
    "\n",
    "```\n",
    "activate geoapps\n",
    "python -m geoapps.processing.peak_finder input.ui.json\n",
    "```\n",
    "\n",
    "or directly from [Geoscience ANALYST Pro](#Geoscience-ANALYST-Pro) v3.3.1 or higher.\n",
    "The `ui.json` can also be used to re-load the parameters from a previous run by selecting the `ui.json` file from the [Project Selection](#Project-Selection) widget, instead of a `geoh5` file. \n",
    "\n",
    "### Notes \n",
    "\n",
    " <img align=\"right\" width=\"50%\" src=\"./images/group_block.png\">\n",
    " \n",
    "- Additional groups can be used by adding new blocks of parameters to the default [input ui.json file](./PeakFinder.ui.json):\n",
    "    - For each additional group blocks, a unique name must be provided (C, D, etc) \n",
    "    - Changes made will be displayed after re-loading the ui.json from the [Project Selection](#Project-Selection) panel. "
   ]
  },
  {
   "cell_type": "markdown",
   "id": "9613e782",
   "metadata": {},
   "source": [
    "### Geoscience ANALYST Pro v3.3.1\n",
    "\n",
    "Users with an active Geoscience ANALYST Pro license (v3.3.1) can execute this application directly from an active session with a drag & drop of a `*.ui.json`file to the `Viewport`. \n",
    "\n",
    "![GAPro_peakfinder](images/GA_pro_peakfinder.gif \"ga_pro\")"
   ]
  },
  {
   "cell_type": "markdown",
   "id": "existing-economics",
   "metadata": {},
   "source": [
    "Need help? Contact us at support@mirageoscience.com"
   ]
  },
  {
   "cell_type": "code",
   "execution_count": 16,
   "id": "adverse-massachusetts",
   "metadata": {
    "nbsphinx": "hidden"
   },
   "outputs": [],
   "source": [
    "import matplotlib.pyplot as plt\n",
    "app.figure.savefig(\"images/peak_finder_thumbnail.png\", dpi=300, bbox_inches='tight')"
   ]
  }
 ],
 "metadata": {
  "kernelspec": {
   "display_name": "Python 3 (ipykernel)",
   "language": "python",
   "name": "python3"
  },
  "language_info": {
   "codemirror_mode": {
    "name": "ipython",
    "version": 3
   },
   "file_extension": ".py",
   "mimetype": "text/x-python",
   "name": "python",
   "nbconvert_exporter": "python",
   "pygments_lexer": "ipython3",
   "version": "3.9.6"
  },
  "widgets": {
   "application/vnd.jupyter.widget-state+json": {
    "state": {
     "007b794167254913a66fecfbff245622": {
      "model_module": "@jupyter-widgets/controls",
      "model_module_version": "1.5.0",
      "model_name": "LabelModel",
      "state": {
       "layout": "IPY_MODEL_0f118afd4f664292bdb69c152d32586b",
       "style": "IPY_MODEL_961c79ec20e243e58e75808d24c7c52a",
       "value": "Visual Parameters"
      }
     },
     "007e06a25a6340e8b8cf2ae946d6f2ce": {
      "model_module": "@jupyter-widgets/base",
      "model_module_version": "1.2.0",
      "model_name": "LayoutModel",
      "state": {}
     },
     "00e555e3b8754f4f8d405a1c4548d8f0": {
      "model_module": "@jupyter-widgets/base",
      "model_module_version": "1.2.0",
      "model_name": "LayoutModel",
      "state": {
       "width": "auto"
      }
     },
     "024d6b509bbf4357bea11195e367ce23": {
      "model_module": "@jupyter-widgets/controls",
      "model_module_version": "1.5.0",
      "model_name": "DescriptionStyleModel",
      "state": {
       "description_width": ""
      }
     },
     "02593c563a7e40f4940487942f4eb322": {
      "model_module": "@jupyter-widgets/controls",
      "model_module_version": "1.5.0",
      "model_name": "ButtonModel",
      "state": {
       "description": "Select",
       "layout": "IPY_MODEL_0ff98bf3a4bd433babda8b59c0e9cd19",
       "style": "IPY_MODEL_250f1ba951ef4d3a8561680ee7bac8c9"
      }
     },
     "02f2792d5c814e1f993a4d40fc8dea90": {
      "model_module": "@jupyter-widgets/base",
      "model_module_version": "1.2.0",
      "model_name": "LayoutModel",
      "state": {}
     },
     "030ddbdae7484f76944afb5300dbe17b": {
      "model_module": "@jupyter-widgets/controls",
      "model_module_version": "1.5.0",
      "model_name": "ColorPickerModel",
      "state": {
       "description": "Color",
       "disabled": false,
       "layout": "IPY_MODEL_4f281243a2d146e9a55438c4f9e2fe74",
       "style": "IPY_MODEL_799656c73ac94d7eb0b3740bebdb4bd3",
       "value": "#008000"
      }
     },
     "033d3c4b74c6448495c8a18a5ee062b9": {
      "model_module": "@jupyter-widgets/controls",
      "model_module_version": "1.5.0",
      "model_name": "DescriptionStyleModel",
      "state": {
       "description_width": ""
      }
     },
     "036c923e3bd142299b0856a7f15455cc": {
      "model_module": "@jupyter-widgets/base",
      "model_module_version": "1.2.0",
      "model_name": "LayoutModel",
      "state": {}
     },
     "03cc5defbd12459387da856f68ce627b": {
      "model_module": "@jupyter-widgets/controls",
      "model_module_version": "1.5.0",
      "model_name": "HTMLModel",
      "state": {
       "layout": "IPY_MODEL_fc1b381a2f804fb6961dcfadf95f3ae4",
       "style": "IPY_MODEL_d951081f1f854a2aa8acaaee0e4ad9d3"
      }
     },
     "0449462b1ade4ea589d4fc4693c9728a": {
      "model_module": "@jupyter-widgets/controls",
      "model_module_version": "1.5.0",
      "model_name": "ButtonStyleModel",
      "state": {}
     },
     "04771ddcf79d48a3825607bef33e3a5e": {
      "model_module": "@jupyter-widgets/controls",
      "model_module_version": "1.5.0",
      "model_name": "HBoxModel",
      "state": {
       "children": [
        "IPY_MODEL_6ae7231f0f7341c1959f9032d3705fdf",
        "IPY_MODEL_3fe83b6a1507495bb8f43165a2ad4d5b",
        "IPY_MODEL_d181bc8fce884a0f9e4bc8b207b6355c"
       ],
       "layout": "IPY_MODEL_b934322765774a6580038dcf0666be0f"
      }
     },
     "057bac8185584872947598b8ace2600c": {
      "model_module": "@jupyter-widgets/base",
      "model_module_version": "1.2.0",
      "model_name": "LayoutModel",
      "state": {}
     },
     "05aebcc6bd204dbeb7550159b01141a9": {
      "model_module": "@jupyter-widgets/controls",
      "model_module_version": "1.5.0",
      "model_name": "ButtonStyleModel",
      "state": {}
     },
     "05defeb5ed6944eda109b09b398ba869": {
      "model_module": "@jupyter-widgets/controls",
      "model_module_version": "1.5.0",
      "model_name": "TextModel",
      "state": {
       "layout": "IPY_MODEL_43bd290093a24b9187fa08370d27f930",
       "placeholder": "output filename",
       "style": "IPY_MODEL_7f9e4bb260e3490f8ad35ff1b5c9005d"
      }
     },
     "0648043efc7143f5968531b7b9eb1d46": {
      "model_module": "@jupyter-widgets/base",
      "model_module_version": "1.2.0",
      "model_name": "LayoutModel",
      "state": {}
     },
     "075cf2b8fa0346ce91517db3e530c27c": {
      "model_module": "@jupyter-widgets/controls",
      "model_module_version": "1.5.0",
      "model_name": "ButtonStyleModel",
      "state": {}
     },
     "07a69ec539474519a87876730674eb57": {
      "model_module": "@jupyter-widgets/base",
      "model_module_version": "1.2.0",
      "model_name": "LayoutModel",
      "state": {
       "grid_area": "filename",
       "width": "auto"
      }
     },
     "080c7a5b0b584a25a80874aa1b3764ca": {
      "model_module": "@jupyter-widgets/controls",
      "model_module_version": "1.5.0",
      "model_name": "VBoxModel",
      "state": {
       "children": [
        "IPY_MODEL_ba8bcdcb11684c8d818cc828e1f4b745",
        "IPY_MODEL_80ff0a6b5ba241629987694ecb7bb1ae",
        "IPY_MODEL_04771ddcf79d48a3825607bef33e3a5e"
       ],
       "layout": "IPY_MODEL_36ee75bb38ef40618856787df37454df"
      }
     },
     "082849b0044a4f6cabd261b5e3d92a41": {
      "model_module": "@jupyter-widgets/controls",
      "model_module_version": "1.5.0",
      "model_name": "ToggleButtonModel",
      "state": {
       "description": "Use/Create Default",
       "layout": "IPY_MODEL_9283e7109c23430aae79d1803a9a0aef",
       "style": "IPY_MODEL_29625ff51606403eb17bf65b43ae7ef5",
       "value": true
      }
     },
     "0876f91d62234795b6fbf37ce81d31d5": {
      "model_module": "@jupyter-widgets/controls",
      "model_module_version": "1.5.0",
      "model_name": "SelectModel",
      "state": {
       "_options_labels": [
        "..",
        "dask-worker-space",
        "images"
       ],
       "index": null,
       "layout": "IPY_MODEL_3fd1379eee2547cebc9f12f99cc410e7",
       "rows": 8,
       "style": "IPY_MODEL_3a301cf932e24412a822a229a6f75976"
      }
     },
     "08e16e2eac0b4a8f90a1545d1c4bf372": {
      "model_module": "@jupyter-widgets/base",
      "model_module_version": "1.2.0",
      "model_name": "LayoutModel",
      "state": {}
     },
     "09699e130d2442bfa13946c122fa9fa4": {
      "model_module": "@jupyter-widgets/base",
      "model_module_version": "1.2.0",
      "model_name": "LayoutModel",
      "state": {}
     },
     "097391e0c3c145d08f9d7275fb5e2283": {
      "model_module": "@jupyter-widgets/controls",
      "model_module_version": "1.5.0",
      "model_name": "LabelModel",
      "state": {
       "layout": "IPY_MODEL_b73c479bd9bc4713a3889c56c5980df8",
       "style": "IPY_MODEL_893249c209b249828a45d1b5a3ac55ba",
       "value": "Monitoring folder"
      }
     },
     "0a47ef9d90634fe0b49e0fb3f8b4c076": {
      "model_module": "@jupyter-widgets/base",
      "model_module_version": "1.2.0",
      "model_name": "LayoutModel",
      "state": {}
     },
     "0b3f7718816b415dae072d35ed53d469": {
      "model_module": "@jupyter-widgets/base",
      "model_module_version": "1.2.0",
      "model_name": "LayoutModel",
      "state": {}
     },
     "0bab7989508b4bcfbce379905e7ace46": {
      "model_module": "@jupyter-widgets/base",
      "model_module_version": "1.2.0",
      "model_name": "LayoutModel",
      "state": {
       "width": "auto"
      }
     },
     "0bb0179a577942329ea5982083f388f7": {
      "model_module": "@jupyter-widgets/controls",
      "model_module_version": "1.5.0",
      "model_name": "VBoxModel",
      "state": {
       "children": [
        "IPY_MODEL_e07cc83ca1b14583bf42e900a170db08",
        "IPY_MODEL_0f8d449aebda4a5cbfeb92cc9cde2968"
       ],
       "layout": "IPY_MODEL_e5221da19ba44b9eb21b0ae30b415494"
      }
     },
     "0bda0d26315541a0b4faa94bcefaeb08": {
      "model_module": "@jupyter-widgets/base",
      "model_module_version": "1.2.0",
      "model_name": "LayoutModel",
      "state": {}
     },
     "0c306b2544844242aad7c5450b29c980": {
      "model_module": "@jupyter-widgets/controls",
      "model_module_version": "1.5.0",
      "model_name": "VBoxModel",
      "state": {
       "children": [
        "IPY_MODEL_8a64a5bee57b43cb82158d9862ea80e2",
        "IPY_MODEL_29af6b6904c6404a93014bed04beea26"
       ],
       "layout": "IPY_MODEL_9083ab258b1f423188623a8dc6656da4"
      }
     },
     "0c501de399c64fcb8bde8db8389fa832": {
      "model_module": "@jupyter-widgets/base",
      "model_module_version": "1.2.0",
      "model_name": "LayoutModel",
      "state": {
       "display": "none",
       "grid_gap": "0px 0px",
       "grid_template_areas": "\n                    'pathlist pathlist'\n                    'dircontent dircontent'\n                    ",
       "grid_template_columns": "60% 40%",
       "grid_template_rows": "auto auto",
       "width": "500px"
      }
     },
     "0c88e1032c8d4f039596251f7ef3b445": {
      "model_module": "@jupyter-widgets/controls",
      "model_module_version": "1.5.0",
      "model_name": "DescriptionStyleModel",
      "state": {
       "description_width": ""
      }
     },
     "0c8eefd4890c482caa272f8b252400c4": {
      "model_module": "@jupyter-widgets/base",
      "model_module_version": "1.2.0",
      "model_name": "LayoutModel",
      "state": {}
     },
     "0d776fb225194384b8f1c0a96f8dc538": {
      "model_module": "@jupyter-widgets/base",
      "model_module_version": "1.2.0",
      "model_name": "LayoutModel",
      "state": {}
     },
     "0e3071ae646c424c82b792fb09d246dc": {
      "model_module": "@jupyter-widgets/base",
      "model_module_version": "1.2.0",
      "model_name": "LayoutModel",
      "state": {}
     },
     "0ef04210ff9b497cb3144912db12d8a7": {
      "model_module": "@jupyter-widgets/base",
      "model_module_version": "1.2.0",
      "model_name": "LayoutModel",
      "state": {}
     },
     "0f118afd4f664292bdb69c152d32586b": {
      "model_module": "@jupyter-widgets/base",
      "model_module_version": "1.2.0",
      "model_name": "LayoutModel",
      "state": {}
     },
     "0f56e17107124351bf7b596b13179c16": {
      "model_module": "@jupyter-widgets/controls",
      "model_module_version": "1.5.0",
      "model_name": "DropdownModel",
      "state": {
       "_options_labels": [
        "1353.7",
        "1358.7",
        "1563.5",
        "1593.5",
        "1723.4",
        "1898.2",
        "2013.1",
        "2332.8",
        "2362.8",
        "2762.4",
        "2802.4",
        "2832.4",
        "2957.2",
        "2987.2",
        "3596.6",
        "3616.6",
        "4041.2",
        "4071.2",
        "4106.2",
        "4151.1",
        "4181.1"
       ],
       "description": "Select Peak",
       "index": 16,
       "layout": "IPY_MODEL_b2b029e750b1401faa9a762cf23a4067",
       "style": "IPY_MODEL_88864e717d6640d89f32badbd7c1a8d9"
      }
     },
     "0f7a346a5e8a4f478722d8bab6b12883": {
      "model_module": "@jupyter-widgets/controls",
      "model_module_version": "1.5.0",
      "model_name": "DescriptionStyleModel",
      "state": {
       "description_width": ""
      }
     },
     "0f8d449aebda4a5cbfeb92cc9cde2968": {
      "model_module": "@jupyter-widgets/controls",
      "model_module_version": "1.5.0",
      "model_name": "ColorPickerModel",
      "state": {
       "description": "Color",
       "disabled": false,
       "layout": "IPY_MODEL_427fcd8b91504bb5ba273af3141a4dcb",
       "style": "IPY_MODEL_d8a56bcd5329495890d1adc42d7e9b14",
       "value": "#FFFF00"
      }
     },
     "0fc60f05972f431b886901ad07d6e46c": {
      "model_module": "@jupyter-widgets/controls",
      "model_module_version": "1.5.0",
      "model_name": "ButtonStyleModel",
      "state": {}
     },
     "0ff98bf3a4bd433babda8b59c0e9cd19": {
      "model_module": "@jupyter-widgets/base",
      "model_module_version": "1.2.0",
      "model_name": "LayoutModel",
      "state": {
       "width": "auto"
      }
     },
     "1041e7aaf750460fa58e7f09c31cb342": {
      "model_module": "@jupyter-widgets/controls",
      "model_module_version": "1.5.0",
      "model_name": "HBoxModel",
      "state": {
       "children": [
        "IPY_MODEL_080c7a5b0b584a25a80874aa1b3764ca",
        "IPY_MODEL_3e82712bf03e4145b8d74a8ff2c63196"
       ],
       "layout": "IPY_MODEL_31ed90400167411cb624c6da85cd2061"
      }
     },
     "104da4fd31524080883eafafc37e6844": {
      "model_module": "@jupyter-widgets/base",
      "model_module_version": "1.2.0",
      "model_name": "LayoutModel",
      "state": {}
     },
     "109c182be8e048588201db7b7b7bb02c": {
      "model_module": "@jupyter-widgets/controls",
      "model_module_version": "1.5.0",
      "model_name": "ButtonModel",
      "state": {
       "button_style": "danger",
       "description": "Compute",
       "icon": "check",
       "layout": "IPY_MODEL_d0fbb36fb89840a496bcbf2de7325c68",
       "style": "IPY_MODEL_e39bdcfb27db486b942a717d6e7adb4e",
       "tooltip": "Run computation"
      }
     },
     "10b3af6cf49b41638bb143d4dc126d02": {
      "model_module": "@jupyter-widgets/controls",
      "model_module_version": "1.5.0",
      "model_name": "DescriptionStyleModel",
      "state": {
       "description_width": ""
      }
     },
     "10d9827bf3bf419c9e5f34b0b984caa4": {
      "model_module": "@jupyter-widgets/controls",
      "model_module_version": "1.5.0",
      "model_name": "DescriptionStyleModel",
      "state": {
       "description_width": ""
      }
     },
     "1115d192e5ea44cf8042cdd55ad4d97d": {
      "model_module": "@jupyter-widgets/controls",
      "model_module_version": "1.5.0",
      "model_name": "SliderStyleModel",
      "state": {
       "description_width": "initial"
      }
     },
     "11cec09379d045e3a7d760b474b74f8f": {
      "model_module": "@jupyter-widgets/controls",
      "model_module_version": "1.5.0",
      "model_name": "VBoxModel",
      "state": {
       "children": [
        "IPY_MODEL_f439905c399c4dbb9347b1d7120f1ed7",
        "IPY_MODEL_affb2141b6e64d44936fb730a8bcddb8"
       ],
       "layout": "IPY_MODEL_8a3d4d907052449a827705a3f553b8eb"
      }
     },
     "12365d9328c24e1d907fc13940991136": {
      "model_module": "@jupyter-widgets/base",
      "model_module_version": "1.2.0",
      "model_name": "LayoutModel",
      "state": {}
     },
     "125f2ee3d142411b8fd994670be78d62": {
      "model_module": "@jupyter-widgets/base",
      "model_module_version": "1.2.0",
      "model_name": "LayoutModel",
      "state": {}
     },
     "137c063162b34232a356c61aa2feb600": {
      "model_module": "@jupyter-widgets/base",
      "model_module_version": "1.2.0",
      "model_name": "LayoutModel",
      "state": {
       "border": "solid"
      }
     },
     "137d778437f64f07b377f83180a8a7f2": {
      "model_module": "@jupyter-widgets/controls",
      "model_module_version": "1.5.0",
      "model_name": "DescriptionStyleModel",
      "state": {
       "description_width": ""
      }
     },
     "13c1c677a423439a8e2ec66462e8861d": {
      "model_module": "@jupyter-widgets/controls",
      "model_module_version": "1.5.0",
      "model_name": "DescriptionStyleModel",
      "state": {
       "description_width": "initial"
      }
     },
     "1400e920c9394e678cc16b0d7aa43298": {
      "model_module": "@jupyter-widgets/controls",
      "model_module_version": "1.5.0",
      "model_name": "DescriptionStyleModel",
      "state": {
       "description_width": ""
      }
     },
     "143b5aa88e4c4ffe9270b3d8475611fe": {
      "model_module": "@jupyter-widgets/base",
      "model_module_version": "1.2.0",
      "model_name": "LayoutModel",
      "state": {
       "border": "solid"
      }
     },
     "147a4e6fa42c4efea7d4a2d96c53aada": {
      "model_module": "@jupyter-widgets/controls",
      "model_module_version": "1.5.0",
      "model_name": "DescriptionStyleModel",
      "state": {
       "description_width": ""
      }
     },
     "1493adffd77242dc9853e829a8da5252": {
      "model_module": "@jupyter-widgets/base",
      "model_module_version": "1.2.0",
      "model_name": "LayoutModel",
      "state": {
       "display": "none",
       "width": "auto"
      }
     },
     "14d45f7ea79b48d49690a5e002a0cc58": {
      "model_module": "@jupyter-widgets/base",
      "model_module_version": "1.2.0",
      "model_name": "LayoutModel",
      "state": {}
     },
     "1699d25a50fc4466b95102de5cf909de": {
      "model_module": "@jupyter-widgets/controls",
      "model_module_version": "1.5.0",
      "model_name": "DropdownModel",
      "state": {
       "_options_labels": [
        "",
        "-- Groups --",
        "early",
        "middle",
        "middle + late",
        "late",
        "early + middle",
        "Observed",
        "early + middle + late"
       ],
       "description": "Group Name:",
       "index": 2,
       "layout": "IPY_MODEL_402ce443ad264c8a87658f5a32090c30",
       "style": "IPY_MODEL_f161a27b17af431c9fd8f14a971b67f9"
      }
     },
     "175bbfded45d4a3981cbfac77c69fad7": {
      "model_module": "@jupyter-widgets/controls",
      "model_module_version": "1.5.0",
      "model_name": "DescriptionStyleModel",
      "state": {
       "description_width": ""
      }
     },
     "178199c476a546e099f3c5a2295d043d": {
      "model_module": "@jupyter-widgets/controls",
      "model_module_version": "1.5.0",
      "model_name": "DescriptionStyleModel",
      "state": {
       "description_width": ""
      }
     },
     "178b74621e8d47fc82f2cc677f376fe6": {
      "model_module": "@jupyter-widgets/base",
      "model_module_version": "1.2.0",
      "model_name": "LayoutModel",
      "state": {
       "grid_area": "pathlist",
       "width": "auto"
      }
     },
     "17bfc7627d95403f8af9d521f170f70d": {
      "model_module": "@jupyter-widgets/controls",
      "model_module_version": "1.5.0",
      "model_name": "DropdownModel",
      "state": {
       "_options_labels": [
        "C:\\Users\\dominiquef\\Documents\\GIT\\mira\\geoapps\\docs\\content\\applications",
        "C:\\Users\\dominiquef\\Documents\\GIT\\mira\\geoapps\\docs\\content",
        "C:\\Users\\dominiquef\\Documents\\GIT\\mira\\geoapps\\docs",
        "C:\\Users\\dominiquef\\Documents\\GIT\\mira\\geoapps",
        "C:\\Users\\dominiquef\\Documents\\GIT\\mira",
        "C:\\Users\\dominiquef\\Documents\\GIT",
        "C:\\Users\\dominiquef\\Documents",
        "C:\\Users\\dominiquef",
        "C:\\Users",
        "C:\\",
        "D:\\",
        "Z:\\"
       ],
       "index": 0,
       "layout": "IPY_MODEL_178b74621e8d47fc82f2cc677f376fe6",
       "style": "IPY_MODEL_db680cc3136d4ea495d4c247a1f3727f"
      }
     },
     "17ed9dfb50a143528a983dc2ce6f8455": {
      "model_module": "@jupyter-widgets/controls",
      "model_module_version": "1.5.0",
      "model_name": "ButtonStyleModel",
      "state": {}
     },
     "1888d502a5cc4df4bde0ca6f89eb88c9": {
      "model_module": "@jupyter-widgets/controls",
      "model_module_version": "1.5.0",
      "model_name": "GridBoxModel",
      "state": {
       "children": [
        "IPY_MODEL_49b586e48c2d459e8a10ded152907dd6",
        "IPY_MODEL_daf79a0b6b804ff7b3e05602ace97a91",
        "IPY_MODEL_5006a43388b84e78be284d683ded12e4"
       ],
       "layout": "IPY_MODEL_3c002cb379054f3e8ba672901903aa80"
      }
     },
     "18a6db5b24a54f639e92eb7dab0bd1ea": {
      "model_module": "@jupyter-widgets/base",
      "model_module_version": "1.2.0",
      "model_name": "LayoutModel",
      "state": {}
     },
     "18dd7fdb6ebf46d08ab62415a0669fa9": {
      "model_module": "@jupyter-widgets/base",
      "model_module_version": "1.2.0",
      "model_name": "LayoutModel",
      "state": {}
     },
     "1957fe5a3236470c86cdfd1bd069b476": {
      "model_module": "@jupyter-widgets/base",
      "model_module_version": "1.2.0",
      "model_name": "LayoutModel",
      "state": {}
     },
     "1a15df30513a41f680b9671627a806d3": {
      "model_module": "@jupyter-widgets/base",
      "model_module_version": "1.2.0",
      "model_name": "LayoutModel",
      "state": {}
     },
     "1d0dd3f1b43248a7ae01fb67f5eeb02c": {
      "model_module": "@jupyter-widgets/controls",
      "model_module_version": "1.5.0",
      "model_name": "DescriptionStyleModel",
      "state": {
       "description_width": "initial"
      }
     },
     "1d29b7ecbf514558b5464d52d8cfdb98": {
      "model_module": "@jupyter-widgets/base",
      "model_module_version": "1.2.0",
      "model_name": "LayoutModel",
      "state": {}
     },
     "1e3221a7de6747c6a843eef8aa9f89c8": {
      "model_module": "@jupyter-widgets/controls",
      "model_module_version": "1.5.0",
      "model_name": "VBoxModel",
      "state": {
       "children": [
        "IPY_MODEL_b8a3d88b41e340dda0e6b600f5b20372",
        "IPY_MODEL_a1748d4adfb54bfea4fccc5fa3f71356"
       ],
       "layout": "IPY_MODEL_970b249945e8415bb2221d6cfcb05aad"
      }
     },
     "1e79c70cbc3a47989780640ed05d0a02": {
      "model_module": "@jupyter-widgets/controls",
      "model_module_version": "1.5.0",
      "model_name": "DropdownModel",
      "state": {
       "_options_labels": [
        "",
        "--- Channels ---",
        "Sf[12]",
        "Sf[25]",
        "Sf[22]",
        "Sf[16]",
        "Sf[15]",
        "Sf[31]",
        "DEM",
        "Sf[27]",
        "Sf[17]",
        "Sf[35]",
        "Sf[18]",
        "Sf[28]",
        "Sf[9]",
        "Sf[34]",
        "Sf[23]",
        "Sf[30]",
        "Sf[24]",
        "Sf[10]",
        "Sf[32]",
        "Sf[26]",
        "Sf[29]",
        "Sf[14]",
        "Sf[19]",
        "Sf[21]",
        "Sf[13]",
        "Line",
        "Sf[11]",
        "Sf[33]",
        "Sf[20]",
        "X",
        "Y",
        "Z"
       ],
       "description": "Lines field",
       "index": 27,
       "layout": "IPY_MODEL_7709184dac6349929131424f0e61ee79",
       "style": "IPY_MODEL_b1e5694dbbcc432292ab9854c2528fc3"
      }
     },
     "1e7edde7acfc4986965ace4cc1d8d8e3": {
      "model_module": "@jupyter-widgets/base",
      "model_module_version": "1.2.0",
      "model_name": "LayoutModel",
      "state": {
       "display": "none"
      }
     },
     "1e9b695c232d4edfbc39afc3bab63c26": {
      "model_module": "@jupyter-widgets/base",
      "model_module_version": "1.2.0",
      "model_name": "LayoutModel",
      "state": {}
     },
     "1ea3d53c6d4c43f39450e7332eae3eb3": {
      "model_module": "@jupyter-widgets/controls",
      "model_module_version": "1.5.0",
      "model_name": "DescriptionStyleModel",
      "state": {
       "description_width": "initial"
      }
     },
     "1f38ad44a6844c3db75582f7ebd6db7e": {
      "model_module": "@jupyter-widgets/base",
      "model_module_version": "1.2.0",
      "model_name": "LayoutModel",
      "state": {
       "width": "50%"
      }
     },
     "1f9c61e9ede94121b9e84c82924e704c": {
      "model_module": "@jupyter-widgets/base",
      "model_module_version": "1.2.0",
      "model_name": "LayoutModel",
      "state": {
       "display": "none",
       "grid_area": "filename",
       "width": "auto"
      }
     },
     "1fa4282d76d747398d2e8d2e3ed83928": {
      "model_module": "@jupyter-widgets/controls",
      "model_module_version": "1.5.0",
      "model_name": "DescriptionStyleModel",
      "state": {
       "description_width": "initial"
      }
     },
     "20c41d162c8640ce9edf54e4e78c4400": {
      "model_module": "@jupyter-widgets/controls",
      "model_module_version": "1.5.0",
      "model_name": "DescriptionStyleModel",
      "state": {
       "description_width": "initial"
      }
     },
     "21522e41ee004422961ed37bf620af27": {
      "model_module": "@jupyter-widgets/controls",
      "model_module_version": "1.5.0",
      "model_name": "ButtonModel",
      "state": {
       "description": "Select",
       "layout": "IPY_MODEL_3bf3b40d2c6c4a118c9c105b0107685a",
       "style": "IPY_MODEL_b760ca2f15d840c9ad313d2ba54afa29"
      }
     },
     "215e8cbebeeb4c1c8a3c3c4e746270f3": {
      "model_module": "@jupyter-widgets/base",
      "model_module_version": "1.2.0",
      "model_name": "LayoutModel",
      "state": {}
     },
     "218700958c36427ea660279c5ab02a08": {
      "model_module": "@jupyter-widgets/controls",
      "model_module_version": "1.5.0",
      "model_name": "DescriptionStyleModel",
      "state": {
       "description_width": ""
      }
     },
     "21fd60fd0626426bb5e99391002119db": {
      "model_module": "@jupyter-widgets/controls",
      "model_module_version": "1.5.0",
      "model_name": "ButtonStyleModel",
      "state": {}
     },
     "22c375bf6ff54c57bd0869a5d176e4ed": {
      "model_module": "@jupyter-widgets/controls",
      "model_module_version": "1.5.0",
      "model_name": "DescriptionStyleModel",
      "state": {
       "description_width": ""
      }
     },
     "239869e88e46411db2bad9649b8d610e": {
      "model_module": "@jupyter-widgets/base",
      "model_module_version": "1.2.0",
      "model_name": "LayoutModel",
      "state": {
       "display": "none",
       "width": "auto"
      }
     },
     "23b196b2ba0044d59c3c2391176e2f9e": {
      "model_module": "@jupyter-widgets/base",
      "model_module_version": "1.2.0",
      "model_name": "LayoutModel",
      "state": {}
     },
     "23fcdbf42a764e0aba103f3522ca869d": {
      "model_module": "@jupyter-widgets/base",
      "model_module_version": "1.2.0",
      "model_name": "LayoutModel",
      "state": {}
     },
     "249dbe81890946abb467e339ab6f2463": {
      "model_module": "@jupyter-widgets/base",
      "model_module_version": "1.2.0",
      "model_name": "LayoutModel",
      "state": {
       "display": "none",
       "width": "auto"
      }
     },
     "25036602bfaa4f2aafc88f184e56f66d": {
      "model_module": "@jupyter-widgets/controls",
      "model_module_version": "1.5.0",
      "model_name": "VBoxModel",
      "state": {
       "children": [
        "IPY_MODEL_8bdab50924034e50969f65ad89131ab0",
        "IPY_MODEL_83df4d1639ca4762b83db54da5764809",
        "IPY_MODEL_8cce24f462be4f0aa7ac9e5bc195f13e",
        "IPY_MODEL_f623f3de59924e7d96d0e11fc7237ca3",
        "IPY_MODEL_0c306b2544844242aad7c5450b29c980",
        "IPY_MODEL_977ea0b604a048599a10f348e81c55a4"
       ],
       "layout": "IPY_MODEL_d2771eae694c4f2aa89e57bd5016740f"
      }
     },
     "250f1ba951ef4d3a8561680ee7bac8c9": {
      "model_module": "@jupyter-widgets/controls",
      "model_module_version": "1.5.0",
      "model_name": "ButtonStyleModel",
      "state": {}
     },
     "251263ffb434409590b992a4621edee3": {
      "model_module": "@jupyter-widgets/base",
      "model_module_version": "1.2.0",
      "model_name": "LayoutModel",
      "state": {}
     },
     "252f99585a234cb0b3e84481663e7823": {
      "model_module": "@jupyter-widgets/controls",
      "model_module_version": "1.5.0",
      "model_name": "ButtonModel",
      "state": {
       "description": "Create copy:",
       "layout": "IPY_MODEL_471e35e2caff43cd9fe2d9ea1391c876",
       "style": "IPY_MODEL_94956031f18743cd9e0e174c63759784"
      }
     },
     "2541fcb827d3454bbacd7573c7998da4": {
      "model_module": "@jupyter-widgets/controls",
      "model_module_version": "1.5.0",
      "model_name": "ButtonStyleModel",
      "state": {}
     },
     "26ba2760a38e4a8d804976dbfe349a55": {
      "model_module": "@jupyter-widgets/controls",
      "model_module_version": "1.5.0",
      "model_name": "SelectModel",
      "state": {
       "_options_labels": [
        "..",
        "dask-worker-space",
        "images"
       ],
       "index": null,
       "layout": "IPY_MODEL_b3b3fceea2344d458a2da0b1b34a1feb",
       "rows": 8,
       "style": "IPY_MODEL_e4c539a884a341558a1fa7db8f759436"
      }
     },
     "27019bda20d942d3baeff33705fef475": {
      "model_module": "@jupyter-widgets/controls",
      "model_module_version": "1.5.0",
      "model_name": "VBoxModel",
      "state": {
       "children": [
        "IPY_MODEL_1e79c70cbc3a47989780640ed05d0a02",
        "IPY_MODEL_60f3d8aa0cf74cccafa7855bd27cbaae"
       ],
       "layout": "IPY_MODEL_bb8930d6405945dcabe00ad1e5c7dcf9"
      }
     },
     "2796681f7e8241e2a2ab32f6d86e8b71": {
      "model_module": "@jupyter-widgets/controls",
      "model_module_version": "1.5.0",
      "model_name": "DescriptionStyleModel",
      "state": {
       "description_width": ""
      }
     },
     "283abfd9c8df4268a01c39537bacda77": {
      "model_module": "@jupyter-widgets/controls",
      "model_module_version": "1.5.0",
      "model_name": "CheckboxModel",
      "state": {
       "description": "Geoscience ANALYST Pro - Live link",
       "disabled": false,
       "indent": false,
       "layout": "IPY_MODEL_bc878131618849cf91bb02400b8616c6",
       "style": "IPY_MODEL_c14a8e601f1144edb95efe34831e4a81",
       "value": false
      }
     },
     "28e0a15392b54fe78a7414d7ced2e636": {
      "model_module": "@jupyter-widgets/controls",
      "model_module_version": "1.5.0",
      "model_name": "SliderStyleModel",
      "state": {
       "description_width": ""
      }
     },
     "29218374268645e0aaac76aff296c0de": {
      "model_module": "@jupyter-widgets/controls",
      "model_module_version": "1.5.0",
      "model_name": "CheckboxModel",
      "state": {
       "description": "Geoscience ANALYST Pro - Live link",
       "disabled": false,
       "indent": false,
       "layout": "IPY_MODEL_e3ce8b98f78b4b7b88f413ccc74e7faa",
       "style": "IPY_MODEL_4427412bdb2b4305a09af5af9a8f9dc8",
       "value": false
      }
     },
     "29625ff51606403eb17bf65b43ae7ef5": {
      "model_module": "@jupyter-widgets/controls",
      "model_module_version": "1.5.0",
      "model_name": "DescriptionStyleModel",
      "state": {
       "description_width": ""
      }
     },
     "2995cfc6dab54a6f929e50fc0d5d9d9a": {
      "model_module": "@jupyter-widgets/base",
      "model_module_version": "1.2.0",
      "model_name": "LayoutModel",
      "state": {}
     },
     "29af6b6904c6404a93014bed04beea26": {
      "model_module": "@jupyter-widgets/controls",
      "model_module_version": "1.5.0",
      "model_name": "FloatLogSliderModel",
      "state": {
       "continuous_update": false,
       "description": "Linear threshold",
       "layout": "IPY_MODEL_70f4945ce9d848ffa15f5f45172674d9",
       "max": 10,
       "min": -18,
       "style": "IPY_MODEL_a3447a865ddd417683d0aaa8df959c58",
       "value": 0.0005156108702067282
      }
     },
     "29d89166f6f248c5b634df7b669165b6": {
      "model_module": "@jupyter-widgets/controls",
      "model_module_version": "1.5.0",
      "model_name": "DropdownModel",
      "state": {
       "_options_labels": [
        "AeroTEM (2007)",
        "AeroTEM (2010)",
        "GENESIS (2014)",
        "GEOTEM 75 Hz - 2082 Pulse",
        "HELITEM (35C)",
        "QUESTEM (1996)",
        "Skytem 304M (HM)",
        "Skytem 306HP (LM)",
        "Skytem 306M HP (HM)",
        "Skytem 312HP (HM)",
        "Skytem 312HP v2 (HM)",
        "Skytem 312HP v3 (HM)",
        "Skytem 312HP v2 (LM)",
        "Skytem 312HP v3 (LM)",
        "Skytem 516M (HM)",
        "Spectrem (2000)",
        "Spectrem Plus",
        "VTEM (2007)",
        "VTEM Plus",
        "VTEM Max",
        "Xcite",
        "Zonge 8Hz"
       ],
       "description": "Time-Domain System:",
       "index": 17,
       "layout": "IPY_MODEL_c711afc21d754abbb010d52040a9c9a3",
       "style": "IPY_MODEL_5202cedd37eb4a63966173d00650363f"
      }
     },
     "2a54fa0b237842478823536b3854f4b8": {
      "model_module": "@jupyter-widgets/controls",
      "model_module_version": "1.5.0",
      "model_name": "TextModel",
      "state": {
       "continuous_update": false,
       "description": "Save As",
       "layout": "IPY_MODEL_a247fcab9ed045f9a676f3730b417597",
       "style": "IPY_MODEL_97700460d29a4a5289b885eb615781fe",
       "value": "PeakFinder"
      }
     },
     "2b44dedda7184a2587c9417a8e711047": {
      "model_module": "@jupyter-widgets/controls",
      "model_module_version": "1.5.0",
      "model_name": "ToggleButtonsStyleModel",
      "state": {
       "button_width": "",
       "description_width": ""
      }
     },
     "2b54be2e3f234de5a3213782500693e3": {
      "model_module": "@jupyter-widgets/controls",
      "model_module_version": "1.5.0",
      "model_name": "ButtonStyleModel",
      "state": {}
     },
     "2b78f938f5c94a05a55d715a52a23ac7": {
      "model_module": "@jupyter-widgets/base",
      "model_module_version": "1.2.0",
      "model_name": "LayoutModel",
      "state": {
       "grid_area": "dircontent",
       "width": "auto"
      }
     },
     "2bb539b7da1b44f4a95aa3ceea1d0988": {
      "model_module": "@jupyter-widgets/controls",
      "model_module_version": "1.5.0",
      "model_name": "VBoxModel",
      "state": {
       "children": [
        "IPY_MODEL_589a22f9d9c941969b7bbf28ab914678",
        "IPY_MODEL_2bbc679306d9477ebc99a5ef017cc3e7"
       ],
       "layout": "IPY_MODEL_fa455a502f064623bead20c27f369f2e"
      }
     },
     "2bbc679306d9477ebc99a5ef017cc3e7": {
      "model_module": "@jupyter-widgets/controls",
      "model_module_version": "1.5.0",
      "model_name": "ColorPickerModel",
      "state": {
       "description": "Color",
       "disabled": false,
       "layout": "IPY_MODEL_72dcdb2ab4e040469d0eb5bbf2493700",
       "style": "IPY_MODEL_b0cf788795d2492bafa2384fe9c125fb",
       "value": "#00FFFF"
      }
     },
     "2bd335683eee4467bad1dfcd6d7e8f6a": {
      "model_module": "@jupyter-widgets/base",
      "model_module_version": "1.2.0",
      "model_name": "LayoutModel",
      "state": {}
     },
     "2bff805d59b44a9ab3097ababc069a17": {
      "model_module": "@jupyter-widgets/controls",
      "model_module_version": "1.5.0",
      "model_name": "ButtonStyleModel",
      "state": {}
     },
     "2d3ba3d5f8f442559acda2ee64afd919": {
      "model_module": "@jupyter-widgets/controls",
      "model_module_version": "1.5.0",
      "model_name": "DescriptionStyleModel",
      "state": {
       "description_width": ""
      }
     },
     "2d7cbeaabbbc41a1b09f18746e8bf73d": {
      "model_module": "@jupyter-widgets/base",
      "model_module_version": "1.2.0",
      "model_name": "LayoutModel",
      "state": {}
     },
     "2dcdfe8810c64680b76ee260c48fdc8e": {
      "model_module": "@jupyter-widgets/controls",
      "model_module_version": "1.5.0",
      "model_name": "FloatTextModel",
      "state": {
       "description": "Minimum data value",
       "layout": "IPY_MODEL_3c9ec885632149ce9fbc44d72d5061b4",
       "step": null,
       "style": "IPY_MODEL_56edcb9830bd4aa783fb280ceb14bfe9",
       "value": -0.0004509940918069333
      }
     },
     "2dd01af689ac456d9487c03f13cf9b83": {
      "model_module": "@jupyter-widgets/controls",
      "model_module_version": "1.5.0",
      "model_name": "ButtonStyleModel",
      "state": {}
     },
     "2dea1e7f8304406bbc9825e7cc44323a": {
      "model_module": "@jupyter-widgets/base",
      "model_module_version": "1.2.0",
      "model_name": "LayoutModel",
      "state": {
       "display": "none"
      }
     },
     "2e2f91d2898f4386badb2bcd300ca3d8": {
      "model_module": "@jupyter-widgets/controls",
      "model_module_version": "1.5.0",
      "model_name": "DescriptionStyleModel",
      "state": {
       "description_width": ""
      }
     },
     "2e6075dec98249ed95f241ba946db29e": {
      "model_module": "@jupyter-widgets/controls",
      "model_module_version": "1.5.0",
      "model_name": "ToggleButtonsStyleModel",
      "state": {
       "button_width": "",
       "description_width": ""
      }
     },
     "2e684c2f95174af0a5177ffb83dfd9b0": {
      "model_module": "@jupyter-widgets/base",
      "model_module_version": "1.2.0",
      "model_name": "LayoutModel",
      "state": {
       "grid_area": "dircontent",
       "width": "auto"
      }
     },
     "2ed7ec9220a949c898c204235ced0dc1": {
      "model_module": "@jupyter-widgets/controls",
      "model_module_version": "1.5.0",
      "model_name": "ColorPickerModel",
      "state": {
       "description": "Color",
       "disabled": false,
       "layout": "IPY_MODEL_764573feeea54b2f971040d3197b61b6",
       "style": "IPY_MODEL_c687fa18d8554ad383f6e9e55f62fad5",
       "value": "#FFA500"
      }
     },
     "2f89427c620c4b2588c1cfbf7b7971a6": {
      "model_module": "@jupyter-widgets/base",
      "model_module_version": "1.2.0",
      "model_name": "LayoutModel",
      "state": {
       "border": "solid"
      }
     },
     "2f971d3969ab4944b2fabe478cc662bf": {
      "model_module": "@jupyter-widgets/controls",
      "model_module_version": "1.5.0",
      "model_name": "VBoxModel",
      "state": {
       "children": [
        "IPY_MODEL_d767606b1e9847dbad6a1ae77fbf9166",
        "IPY_MODEL_903f71959da6403b802c4dd69f4c4a1c",
        "IPY_MODEL_8793273aac814580ba606b43e459701a",
        "IPY_MODEL_5835f5c2e1584091bd59ca1aa753c5b5",
        "IPY_MODEL_aebf7cca9b4c4030866ad18444261aa1",
        "IPY_MODEL_879129ed1b814afcb5ada7b231bf6cd5",
        "IPY_MODEL_7c6875d370d14a7198b6b01ec7e0c192",
        "IPY_MODEL_2fedf8541e4e47a28ab8b415d2f6a01b"
       ],
       "layout": "IPY_MODEL_bcc26e4979e34c6e8439a1e9d99f9018"
      }
     },
     "2fd55fa78ede46c5a1a9ba0e6a7dcdd3": {
      "model_module": "@jupyter-widgets/controls",
      "model_module_version": "1.5.0",
      "model_name": "FloatLogSliderModel",
      "state": {
       "continuous_update": false,
       "description": "Linear threshold",
       "layout": "IPY_MODEL_ce7158d8af534da7b612ec421d603791",
       "max": 10,
       "min": -18,
       "style": "IPY_MODEL_c03b177e93ed45f0ae0695aaa119cb4d",
       "value": 0.0005156108702067282
      }
     },
     "2fedf8541e4e47a28ab8b415d2f6a01b": {
      "model_module": "@jupyter-widgets/controls",
      "model_module_version": "1.5.0",
      "model_name": "VBoxModel",
      "state": {
       "children": [
        "IPY_MODEL_b4594a18484e4f55b0007f216a0f3795"
       ],
       "layout": "IPY_MODEL_057bac8185584872947598b8ace2600c"
      }
     },
     "31d7fb20521849368a39431b20b4e223": {
      "model_module": "@jupyter-widgets/controls",
      "model_module_version": "1.5.0",
      "model_name": "HBoxModel",
      "state": {
       "children": [
        "IPY_MODEL_648a458b26e845c7901f42ae10064b4c",
        "IPY_MODEL_1e3221a7de6747c6a843eef8aa9f89c8"
       ],
       "layout": "IPY_MODEL_cdfbc01e3c6f42fc848eb383b7a20fbd"
      }
     },
     "31ed90400167411cb624c6da85cd2061": {
      "model_module": "@jupyter-widgets/base",
      "model_module_version": "1.2.0",
      "model_name": "LayoutModel",
      "state": {}
     },
     "3232d3c9be0d4c16b15f3b9c5465276e": {
      "model_module": "@jupyter-widgets/base",
      "model_module_version": "1.2.0",
      "model_name": "LayoutModel",
      "state": {
       "width": "50%"
      }
     },
     "3237cab2f6d64dceafa2ecc80103ed5b": {
      "model_module": "@jupyter-widgets/controls",
      "model_module_version": "1.5.0",
      "model_name": "DescriptionStyleModel",
      "state": {
       "description_width": ""
      }
     },
     "32f6c8d2ac264289b04408e4fde54cef": {
      "model_module": "@jupyter-widgets/controls",
      "model_module_version": "1.5.0",
      "model_name": "ButtonModel",
      "state": {
       "description": "Cancel",
       "layout": "IPY_MODEL_5ecef09053e74d9a8bf8ae84d06aaaa1",
       "style": "IPY_MODEL_2dd01af689ac456d9487c03f13cf9b83"
      }
     },
     "3335275ef5bd4cbc80b882af8a2fae82": {
      "model_module": "@jupyter-widgets/controls",
      "model_module_version": "1.5.0",
      "model_name": "HTMLModel",
      "state": {
       "layout": "IPY_MODEL_43875c20515a4ef0a5966ff8e784c3de",
       "placeholder": "",
       "style": "IPY_MODEL_53472e9cdaf04a72849e6e6159f4ce58",
       "value": "<span style=\"margin-left:10px; color:black;\">No file selected</span>"
      }
     },
     "3383504bf00946069dfae6afd932de80": {
      "model_module": "@jupyter-widgets/controls",
      "model_module_version": "1.5.0",
      "model_name": "TextModel",
      "state": {
       "layout": "IPY_MODEL_a682e01fff86440a88ac4f4a92ecb041",
       "placeholder": "output filename",
       "style": "IPY_MODEL_0c88e1032c8d4f039596251f7ef3b445",
       "value": "FlinFlon.geoh5"
      }
     },
     "338b691154ec4935baa05fe66448b75a": {
      "model_module": "@jupyter-widgets/controls",
      "model_module_version": "1.5.0",
      "model_name": "VBoxModel",
      "state": {
       "children": [
        "IPY_MODEL_283abfd9c8df4268a01c39537bacda77"
       ],
       "layout": "IPY_MODEL_0648043efc7143f5968531b7b9eb1d46"
      }
     },
     "343e8ec041054c7a9f64db146f5762b9": {
      "model_module": "@jupyter-widgets/controls",
      "model_module_version": "1.5.0",
      "model_name": "ColorPickerModel",
      "state": {
       "description": "Color",
       "disabled": false,
       "layout": "IPY_MODEL_bf9ddf60183643a8bf0a57652001d2b3",
       "style": "IPY_MODEL_ed2f82372a92456cbccdfd4df60aae82",
       "value": "#0000FF"
      }
     },
     "347e1ee5e28b4a7a84c23fc3b8991471": {
      "model_module": "@jupyter-widgets/base",
      "model_module_version": "1.2.0",
      "model_name": "LayoutModel",
      "state": {}
     },
     "3487435a03064b25a28a3002aec9bfb2": {
      "model_module": "@jupyter-widgets/controls",
      "model_module_version": "1.5.0",
      "model_name": "HTMLModel",
      "state": {
       "layout": "IPY_MODEL_2dea1e7f8304406bbc9825e7cc44323a",
       "style": "IPY_MODEL_9e3fe124fc614ccb94f214a09c96dae6"
      }
     },
     "35ef96b7b9b74bffa50d248cf444e5bd": {
      "model_module": "@jupyter-widgets/base",
      "model_module_version": "1.2.0",
      "model_name": "LayoutModel",
      "state": {}
     },
     "35f4f9b74dec4fd88c33d7afceb2dd5c": {
      "model_module": "@jupyter-widgets/base",
      "model_module_version": "1.2.0",
      "model_name": "LayoutModel",
      "state": {
       "border": "solid"
      }
     },
     "3683784f942c4d29be3c600028b2f212": {
      "model_module": "@jupyter-widgets/controls",
      "model_module_version": "1.5.0",
      "model_name": "DropdownModel",
      "state": {
       "_options_labels": [
        "",
        "-- Groups --",
        "Observed",
        "early",
        "middle",
        "late",
        "early + middle",
        "early + middle + late",
        "middle + late"
       ],
       "description": "Data: ",
       "index": 2,
       "layout": "IPY_MODEL_f8594f1294e54a218f83399fcc5e17ee",
       "style": "IPY_MODEL_84a23af21fae47589aaf99f70b5fa6c0"
      }
     },
     "36e4b23ec3c34e92b0136eef8c5a4cf1": {
      "model_module": "@jupyter-widgets/controls",
      "model_module_version": "1.5.0",
      "model_name": "GridBoxModel",
      "state": {
       "children": [
        "IPY_MODEL_76f18090cc4a403187fd8c0f6b54f33d",
        "IPY_MODEL_96bad1dcd5c4484dac0536c0fafc7634",
        "IPY_MODEL_7a2a3d05dd87450ea3e7bff6c52bc688"
       ],
       "layout": "IPY_MODEL_d59993013f4140f0be8310dacd561ecb"
      }
     },
     "36ee75bb38ef40618856787df37454df": {
      "model_module": "@jupyter-widgets/base",
      "model_module_version": "1.2.0",
      "model_name": "LayoutModel",
      "state": {
       "width": "auto"
      }
     },
     "3700bcd1d79f4aa3b902004cb11c95b0": {
      "model_module": "@jupyter-widgets/controls",
      "model_module_version": "1.5.0",
      "model_name": "SliderStyleModel",
      "state": {
       "description_width": "initial"
      }
     },
     "37ade297a70f4cac830960475ae96c86": {
      "model_module": "@jupyter-widgets/base",
      "model_module_version": "1.2.0",
      "model_name": "LayoutModel",
      "state": {
       "display": "none",
       "grid_area": "filename",
       "width": "auto"
      }
     },
     "37c9b8d1ad7447efb28f6b9c1149a9c5": {
      "model_module": "@jupyter-widgets/controls",
      "model_module_version": "1.5.0",
      "model_name": "LabelModel",
      "state": {
       "layout": "IPY_MODEL_fe991f3721f84481ac8ddb45fb479533",
       "style": "IPY_MODEL_f476131aece845098b3721eaaf9e8230",
       "value": "Workspace"
      }
     },
     "37dfdc9cfcec48afb36c5cce87fefab4": {
      "model_module": "@jupyter-widgets/controls",
      "model_module_version": "1.5.0",
      "model_name": "DescriptionStyleModel",
      "state": {
       "description_width": ""
      }
     },
     "37f11a0dc181436fa1b9c86e9373bfc6": {
      "model_module": "@jupyter-widgets/controls",
      "model_module_version": "1.5.0",
      "model_name": "VBoxModel",
      "state": {
       "children": [
        "IPY_MODEL_c8191d5bd60c4e92af4b03b5ec174e5c",
        "IPY_MODEL_ad155ea9ae1e47dfac295f2708795846"
       ],
       "layout": "IPY_MODEL_877a4ec8c53a44ac86b5ced58e5478bf"
      }
     },
     "3831b20b42e644049c2fbede5968c95a": {
      "model_module": "@jupyter-widgets/controls",
      "model_module_version": "1.5.0",
      "model_name": "DescriptionStyleModel",
      "state": {
       "description_width": ""
      }
     },
     "38582315db8b46179537e12751139471": {
      "model_module": "@jupyter-widgets/controls",
      "model_module_version": "1.5.0",
      "model_name": "TextModel",
      "state": {
       "disabled": true,
       "layout": "IPY_MODEL_c40d12b3ab8246e1aca622ac2c7f657b",
       "placeholder": "output filename",
       "style": "IPY_MODEL_d2d04f91fff5449abf839d1574aedd55"
      }
     },
     "3885fc37877c4bd59ce8817fd5cf8130": {
      "model_module": "@jupyter-widgets/controls",
      "model_module_version": "1.5.0",
      "model_name": "DescriptionStyleModel",
      "state": {
       "description_width": "initial"
      }
     },
     "38b338dffed246389fa915f1c2246c63": {
      "model_module": "@jupyter-widgets/controls",
      "model_module_version": "1.5.0",
      "model_name": "DescriptionStyleModel",
      "state": {
       "description_width": "initial"
      }
     },
     "38fd666b64c9406bb35f0a477c495853": {
      "model_module": "@jupyter-widgets/controls",
      "model_module_version": "1.5.0",
      "model_name": "DescriptionStyleModel",
      "state": {
       "description_width": "initial"
      }
     },
     "39164f55c22d4304a0fba4b7cbad6430": {
      "model_module": "@jupyter-widgets/controls",
      "model_module_version": "1.5.0",
      "model_name": "HTMLModel",
      "state": {
       "layout": "IPY_MODEL_fa519f2d7f564651b8fe01635a07a007",
       "style": "IPY_MODEL_7178c7e0a17c4b7c87659fcae64cef3e"
      }
     },
     "39422c4577ee4d9694fbbf992989cfb6": {
      "model_module": "@jupyter-widgets/controls",
      "model_module_version": "1.5.0",
      "model_name": "HBoxModel",
      "state": {
       "children": [
        "IPY_MODEL_21522e41ee004422961ed37bf620af27",
        "IPY_MODEL_3bd3f50a1cc44ad497a2416efaeaa92d",
        "IPY_MODEL_5c56bdd608a8437d8a35dd8d19691762"
       ],
       "layout": "IPY_MODEL_d27364bcfa38479e8a84d97d85207b6c"
      }
     },
     "3952ba6e8ff047bf9ffed40ebe5e8b5a": {
      "model_module": "@jupyter-widgets/base",
      "model_module_version": "1.2.0",
      "model_name": "LayoutModel",
      "state": {}
     },
     "39756d39b95a4e3b9bca0287c218fddc": {
      "model_module": "@jupyter-widgets/controls",
      "model_module_version": "1.5.0",
      "model_name": "DropdownModel",
      "state": {
       "_options_labels": [
        "",
        "-- Groups --",
        "Observed",
        "early",
        "middle",
        "late",
        "early + middle",
        "early + middle + late",
        "middle + late"
       ],
       "description": "Group Name:",
       "index": 5,
       "layout": "IPY_MODEL_12365d9328c24e1d907fc13940991136",
       "style": "IPY_MODEL_431333810dba499490a36e4610f1c07b"
      }
     },
     "39b82040f77c4033bf0bd3a7e134ae86": {
      "model_module": "@jupyter-widgets/base",
      "model_module_version": "1.2.0",
      "model_name": "LayoutModel",
      "state": {}
     },
     "39e8b3dec4be42999c288de1fd2034f6": {
      "model_module": "@jupyter-widgets/controls",
      "model_module_version": "1.5.0",
      "model_name": "ToggleButtonModel",
      "state": {
       "layout": "IPY_MODEL_c91a84ae667640a88cfafbc3bd1aa4c0",
       "style": "IPY_MODEL_4a99037d43904b07846ee5dae31c61d9",
       "value": true
      }
     },
     "3a301cf932e24412a822a229a6f75976": {
      "model_module": "@jupyter-widgets/controls",
      "model_module_version": "1.5.0",
      "model_name": "DescriptionStyleModel",
      "state": {
       "description_width": ""
      }
     },
     "3aa9043c1c484ed0b6819c6cbe892e65": {
      "model_module": "@jupyter-widgets/base",
      "model_module_version": "1.2.0",
      "model_name": "LayoutModel",
      "state": {}
     },
     "3ad797275c244b739818c86c1ea2d15b": {
      "model_module": "@jupyter-widgets/base",
      "model_module_version": "1.2.0",
      "model_name": "LayoutModel",
      "state": {
       "grid_area": "pathlist",
       "width": "auto"
      }
     },
     "3b3615e154d94ea5a985dad70ad899e1": {
      "model_module": "@jupyter-widgets/controls",
      "model_module_version": "1.5.0",
      "model_name": "SliderStyleModel",
      "state": {
       "description_width": ""
      }
     },
     "3bd3f50a1cc44ad497a2416efaeaa92d": {
      "model_module": "@jupyter-widgets/controls",
      "model_module_version": "1.5.0",
      "model_name": "ButtonModel",
      "state": {
       "description": "Cancel",
       "layout": "IPY_MODEL_562a8b730d4b4a91baa5d0884234374c",
       "style": "IPY_MODEL_fc2d7b6fb10d4af5a2479c0ef7af35f8"
      }
     },
     "3bf3b40d2c6c4a118c9c105b0107685a": {
      "model_module": "@jupyter-widgets/base",
      "model_module_version": "1.2.0",
      "model_name": "LayoutModel",
      "state": {
       "width": "auto"
      }
     },
     "3c002cb379054f3e8ba672901903aa80": {
      "model_module": "@jupyter-widgets/base",
      "model_module_version": "1.2.0",
      "model_name": "LayoutModel",
      "state": {
       "display": "none",
       "grid_gap": "0px 0px",
       "grid_template_areas": "\n                    'pathlist filename'\n                    'dircontent dircontent'\n                    ",
       "grid_template_columns": "60% 40%",
       "grid_template_rows": "auto auto",
       "width": "500px"
      }
     },
     "3c8c5f04a40644f995e0576059ede83c": {
      "model_module": "@jupyter-widgets/controls",
      "model_module_version": "1.5.0",
      "model_name": "ColorPickerModel",
      "state": {
       "description": "Color",
       "disabled": false,
       "layout": "IPY_MODEL_5fbbb4a0b2da4ce98a6176ae03d793b4",
       "style": "IPY_MODEL_9156ab7406ff427f906d46ff921ebdbd",
       "value": "#FFFF00"
      }
     },
     "3c9ec885632149ce9fbc44d72d5061b4": {
      "model_module": "@jupyter-widgets/base",
      "model_module_version": "1.2.0",
      "model_name": "LayoutModel",
      "state": {}
     },
     "3ca678264f144a4485aae9acf7acf266": {
      "model_module": "@jupyter-widgets/controls",
      "model_module_version": "1.5.0",
      "model_name": "DescriptionStyleModel",
      "state": {
       "description_width": ""
      }
     },
     "3cc5bbebb26b422b856eaf440c3df394": {
      "model_module": "@jupyter-widgets/controls",
      "model_module_version": "1.5.0",
      "model_name": "ToggleButtonsStyleModel",
      "state": {
       "button_width": "",
       "description_width": ""
      }
     },
     "3cec7898314d4972b7008a6ccd1cd104": {
      "model_module": "@jupyter-widgets/controls",
      "model_module_version": "1.5.0",
      "model_name": "TextModel",
      "state": {
       "continuous_update": false,
       "description": "Save As",
       "layout": "IPY_MODEL_634ad3f49340435b9e5224d5d7bf838c",
       "style": "IPY_MODEL_1fa4282d76d747398d2e8d2e3ed83928",
       "value": "PeakFinder"
      }
     },
     "3cf19c51a9744367b0d30d3b55fac9e5": {
      "model_module": "@jupyter-widgets/base",
      "model_module_version": "1.2.0",
      "model_name": "LayoutModel",
      "state": {}
     },
     "3d2d3eafc1f54d1bb7ed6a5bd21038db": {
      "model_module": "@jupyter-widgets/controls",
      "model_module_version": "1.5.0",
      "model_name": "DescriptionStyleModel",
      "state": {
       "description_width": ""
      }
     },
     "3d7ac6d1e8db4268beb31924c5bc7d16": {
      "model_module": "@jupyter-widgets/base",
      "model_module_version": "1.2.0",
      "model_name": "LayoutModel",
      "state": {
       "width": "auto"
      }
     },
     "3d955144a53847459f6fb3acbdab1bd5": {
      "model_module": "@jupyter-widgets/controls",
      "model_module_version": "1.5.0",
      "model_name": "VBoxModel",
      "state": {
       "children": [
        "IPY_MODEL_39756d39b95a4e3b9bca0287c218fddc",
        "IPY_MODEL_ac23276b6c8647e384bfa0cf732f0333"
       ],
       "layout": "IPY_MODEL_46f0ef8ac0514f4d94de0a191f936f11"
      }
     },
     "3e82712bf03e4145b8d74a8ff2c63196": {
      "model_module": "@jupyter-widgets/controls",
      "model_module_version": "1.5.0",
      "model_name": "ButtonModel",
      "state": {
       "description": "Create copy:",
       "layout": "IPY_MODEL_669acb2781c64728b7779bdc2bc8b605",
       "style": "IPY_MODEL_21fd60fd0626426bb5e99391002119db"
      }
     },
     "3f294a3fb32049118926c7e1b5cf1710": {
      "model_module": "@jupyter-widgets/base",
      "model_module_version": "1.2.0",
      "model_name": "LayoutModel",
      "state": {}
     },
     "3f41f06b8a8443a0ab9d129a64c5e916": {
      "model_module": "@jupyter-widgets/controls",
      "model_module_version": "1.5.0",
      "model_name": "SliderStyleModel",
      "state": {
       "description_width": ""
      }
     },
     "3f8859cbd22c4979bfae457cbfc2decf": {
      "model_module": "@jupyter-widgets/controls",
      "model_module_version": "1.5.0",
      "model_name": "HTMLModel",
      "state": {
       "layout": "IPY_MODEL_23fcdbf42a764e0aba103f3522ca869d",
       "placeholder": "",
       "style": "IPY_MODEL_8af66eb3a7b844d6a1177f51727e6211",
       "value": "<span style=\"margin-left:10px; color:black;\">No file selected</span>"
      }
     },
     "3fd1379eee2547cebc9f12f99cc410e7": {
      "model_module": "@jupyter-widgets/base",
      "model_module_version": "1.2.0",
      "model_name": "LayoutModel",
      "state": {
       "grid_area": "dircontent",
       "width": "auto"
      }
     },
     "3fdc8423770e4a5886ad70a27ab18249": {
      "model_module": "@jupyter-widgets/base",
      "model_module_version": "1.2.0",
      "model_name": "LayoutModel",
      "state": {
       "width": "auto"
      }
     },
     "3fe488fa84cf454985a185810c5df0e7": {
      "model_module": "@jupyter-widgets/controls",
      "model_module_version": "1.5.0",
      "model_name": "DescriptionStyleModel",
      "state": {
       "description_width": ""
      }
     },
     "3fe83b6a1507495bb8f43165a2ad4d5b": {
      "model_module": "@jupyter-widgets/controls",
      "model_module_version": "1.5.0",
      "model_name": "ButtonModel",
      "state": {
       "description": "Cancel",
       "layout": "IPY_MODEL_c5dcc0ab6e184200a28c9ecbfce51015",
       "style": "IPY_MODEL_075cf2b8fa0346ce91517db3e530c27c"
      }
     },
     "3ff2720cac984401af5d1af16e8a281f": {
      "model_module": "@jupyter-widgets/controls",
      "model_module_version": "1.5.0",
      "model_name": "DescriptionStyleModel",
      "state": {
       "description_width": ""
      }
     },
     "402ce443ad264c8a87658f5a32090c30": {
      "model_module": "@jupyter-widgets/base",
      "model_module_version": "1.2.0",
      "model_name": "LayoutModel",
      "state": {}
     },
     "4063f283fec341e8ba7f65afe470ca8a": {
      "model_module": "@jupyter-widgets/controls",
      "model_module_version": "1.5.0",
      "model_name": "DescriptionStyleModel",
      "state": {
       "description_width": ""
      }
     },
     "4100c41df7534e96933dc41537ea3d02": {
      "model_module": "@jupyter-widgets/base",
      "model_module_version": "1.2.0",
      "model_name": "LayoutModel",
      "state": {}
     },
     "414a450235c84c0c9b52e46c2f1a1ac0": {
      "model_module": "@jupyter-widgets/base",
      "model_module_version": "1.2.0",
      "model_name": "LayoutModel",
      "state": {
       "border": "solid"
      }
     },
     "41509570717f48548149e7e311159191": {
      "model_module": "@jupyter-widgets/controls",
      "model_module_version": "1.5.0",
      "model_name": "DropdownModel",
      "state": {
       "_options_labels": [
        "C:\\Users\\dominiquef\\Documents\\GIT\\mira\\geoapps\\docs\\content\\applications",
        "C:\\Users\\dominiquef\\Documents\\GIT\\mira\\geoapps\\docs\\content",
        "C:\\Users\\dominiquef\\Documents\\GIT\\mira\\geoapps\\docs",
        "C:\\Users\\dominiquef\\Documents\\GIT\\mira\\geoapps",
        "C:\\Users\\dominiquef\\Documents\\GIT\\mira",
        "C:\\Users\\dominiquef\\Documents\\GIT",
        "C:\\Users\\dominiquef\\Documents",
        "C:\\Users\\dominiquef",
        "C:\\Users",
        "C:\\",
        "D:\\",
        "Z:\\"
       ],
       "index": 0,
       "layout": "IPY_MODEL_889af7154e2e4fe5a47cde4f824c8ee2",
       "style": "IPY_MODEL_a6a565f7552e4473b7e9a966367479ec"
      }
     },
     "41fb7fb8ff56474cbd5b67e8f9cba2d1": {
      "model_module": "@jupyter-widgets/controls",
      "model_module_version": "1.5.0",
      "model_name": "DescriptionStyleModel",
      "state": {
       "description_width": ""
      }
     },
     "427fcd8b91504bb5ba273af3141a4dcb": {
      "model_module": "@jupyter-widgets/base",
      "model_module_version": "1.2.0",
      "model_name": "LayoutModel",
      "state": {}
     },
     "431333810dba499490a36e4610f1c07b": {
      "model_module": "@jupyter-widgets/controls",
      "model_module_version": "1.5.0",
      "model_name": "DescriptionStyleModel",
      "state": {
       "description_width": ""
      }
     },
     "43875c20515a4ef0a5966ff8e784c3de": {
      "model_module": "@jupyter-widgets/base",
      "model_module_version": "1.2.0",
      "model_name": "LayoutModel",
      "state": {}
     },
     "43ac08a86439487c88e380ca65e176bb": {
      "model_module": "@jupyter-widgets/base",
      "model_module_version": "1.2.0",
      "model_name": "LayoutModel",
      "state": {
       "width": "auto"
      }
     },
     "43bd290093a24b9187fa08370d27f930": {
      "model_module": "@jupyter-widgets/base",
      "model_module_version": "1.2.0",
      "model_name": "LayoutModel",
      "state": {
       "grid_area": "filename",
       "width": "auto"
      }
     },
     "43c0e53a81984486811c46ca10557d55": {
      "model_module": "@jupyter-widgets/controls",
      "model_module_version": "1.5.0",
      "model_name": "VBoxModel",
      "state": {
       "children": [
        "IPY_MODEL_a736299477434685965fcac85b60bd42"
       ],
       "layout": "IPY_MODEL_09699e130d2442bfa13946c122fa9fa4"
      }
     },
     "4427412bdb2b4305a09af5af9a8f9dc8": {
      "model_module": "@jupyter-widgets/controls",
      "model_module_version": "1.5.0",
      "model_name": "DescriptionStyleModel",
      "state": {
       "description_width": "initial"
      }
     },
     "44c2bd8537e84d7c8b1065a06e82cba2": {
      "model_module": "@jupyter-widgets/controls",
      "model_module_version": "1.5.0",
      "model_name": "SliderStyleModel",
      "state": {
       "description_width": ""
      }
     },
     "454c35d28410468b90f0788744fd1a9a": {
      "model_module": "@jupyter-widgets/base",
      "model_module_version": "1.2.0",
      "model_name": "LayoutModel",
      "state": {
       "grid_area": "dircontent",
       "width": "auto"
      }
     },
     "45e7d115375640738b668e84b0d8b0a4": {
      "model_module": "@jupyter-widgets/controls",
      "model_module_version": "1.5.0",
      "model_name": "ButtonModel",
      "state": {
       "description": "Cancel",
       "layout": "IPY_MODEL_249dbe81890946abb467e339ab6f2463",
       "style": "IPY_MODEL_2541fcb827d3454bbacd7573c7998da4"
      }
     },
     "46468daaca3e4660843db8d1bc6e84e6": {
      "model_module": "@jupyter-widgets/controls",
      "model_module_version": "1.5.0",
      "model_name": "VBoxModel",
      "state": {
       "children": [
        "IPY_MODEL_f24e07beed0b4da9b51e390cdbcd32b9",
        "IPY_MODEL_3cec7898314d4972b7008a6ccd1cd104"
       ],
       "layout": "IPY_MODEL_f62b2aed008c47a1a64176094aa9a6bb"
      }
     },
     "467bdbc2e6af43fcbe22ad11d6506f37": {
      "model_module": "@jupyter-widgets/base",
      "model_module_version": "1.2.0",
      "model_name": "LayoutModel",
      "state": {}
     },
     "46f0ef8ac0514f4d94de0a191f936f11": {
      "model_module": "@jupyter-widgets/base",
      "model_module_version": "1.2.0",
      "model_name": "LayoutModel",
      "state": {
       "border": "solid"
      }
     },
     "471e35e2caff43cd9fe2d9ea1391c876": {
      "model_module": "@jupyter-widgets/base",
      "model_module_version": "1.2.0",
      "model_name": "LayoutModel",
      "state": {}
     },
     "473cf522a6d448e7bac3be02f1d0640f": {
      "model_module": "@jupyter-widgets/controls",
      "model_module_version": "1.5.0",
      "model_name": "VBoxModel",
      "state": {
       "children": [
        "IPY_MODEL_d551388111af42eebdbda17c0390ef46",
        "IPY_MODEL_63727736756d48d0a8dd82505b6f2bf8"
       ],
       "layout": "IPY_MODEL_f0dfe227698f4ca48306222ad7512fbd"
      }
     },
     "47c52006408848fa8d03872d4756e2f8": {
      "model_module": "@jupyter-widgets/base",
      "model_module_version": "1.2.0",
      "model_name": "LayoutModel",
      "state": {}
     },
     "480d3352fee642b681b8278078a0354b": {
      "model_module": "@jupyter-widgets/controls",
      "model_module_version": "1.5.0",
      "model_name": "ButtonStyleModel",
      "state": {}
     },
     "482b9d736b014764ba41b7cf7edf85e3": {
      "model_module": "@jupyter-widgets/controls",
      "model_module_version": "1.5.0",
      "model_name": "DescriptionStyleModel",
      "state": {
       "description_width": ""
      }
     },
     "48d3801b34ad4464a5676732eae59b95": {
      "model_module": "@jupyter-widgets/controls",
      "model_module_version": "1.5.0",
      "model_name": "ButtonModel",
      "state": {
       "description": "Create copy:",
       "layout": "IPY_MODEL_a122e162d0c04995b6956e2ac70e6769",
       "style": "IPY_MODEL_2b54be2e3f234de5a3213782500693e3"
      }
     },
     "494d864e25ac490e9645f3d39ad0b3f9": {
      "model_module": "@jupyter-widgets/controls",
      "model_module_version": "1.5.0",
      "model_name": "ButtonModel",
      "state": {
       "description": "Change",
       "layout": "IPY_MODEL_3d7ac6d1e8db4268beb31924c5bc7d16",
       "style": "IPY_MODEL_c96fc373d53f4fd180db62c7be8b73c1"
      }
     },
     "499da517b1d74a26bbdb89a5b3e2c8fc": {
      "model_module": "@jupyter-widgets/controls",
      "model_module_version": "1.5.0",
      "model_name": "ButtonModel",
      "state": {
       "description": "Select",
       "layout": "IPY_MODEL_85d58d47c53a4e0ca83897c75a86463c",
       "style": "IPY_MODEL_d925e3f4c1f24055b9714f36f3e0eaed"
      }
     },
     "49b514392c58482e9058ad2c4c321d6d": {
      "model_module": "@jupyter-widgets/base",
      "model_module_version": "1.2.0",
      "model_name": "LayoutModel",
      "state": {}
     },
     "49b586e48c2d459e8a10ded152907dd6": {
      "model_module": "@jupyter-widgets/controls",
      "model_module_version": "1.5.0",
      "model_name": "DropdownModel",
      "state": {
       "_options_labels": [
        "C:\\Users\\dominiquef\\Documents\\GIT\\mira\\geoapps\\assets",
        "C:\\Users\\dominiquef\\Documents\\GIT\\mira\\geoapps",
        "C:\\Users\\dominiquef\\Documents\\GIT\\mira",
        "C:\\Users\\dominiquef\\Documents\\GIT",
        "C:\\Users\\dominiquef\\Documents",
        "C:\\Users\\dominiquef",
        "C:\\Users",
        "C:\\",
        "D:\\",
        "Z:\\"
       ],
       "index": 0,
       "layout": "IPY_MODEL_757d0d4e550f4ff9b6502ede220a960d",
       "style": "IPY_MODEL_667a6e0df6264e8aa4da43824c84b52d"
      }
     },
     "4a191f68e88f4f25a4fdda28abc24659": {
      "model_module": "@jupyter-widgets/base",
      "model_module_version": "1.2.0",
      "model_name": "LayoutModel",
      "state": {
       "grid_area": "dircontent",
       "width": "auto"
      }
     },
     "4a7b3ed6f3944fc0ad8ff88c21203e29": {
      "model_module": "@jupyter-widgets/base",
      "model_module_version": "1.2.0",
      "model_name": "LayoutModel",
      "state": {}
     },
     "4a99037d43904b07846ee5dae31c61d9": {
      "model_module": "@jupyter-widgets/controls",
      "model_module_version": "1.5.0",
      "model_name": "DescriptionStyleModel",
      "state": {
       "description_width": ""
      }
     },
     "4aeec5fa4672486592613f1f7f3e59d1": {
      "model_module": "@jupyter-widgets/base",
      "model_module_version": "1.2.0",
      "model_name": "LayoutModel",
      "state": {}
     },
     "4b0a8b33c63a4ea6aae7dd2f4fdbe07b": {
      "model_module": "@jupyter-widgets/controls",
      "model_module_version": "1.5.0",
      "model_name": "DescriptionStyleModel",
      "state": {
       "description_width": ""
      }
     },
     "4b309a87ccab4455a5e3f69f71a6da6c": {
      "model_module": "@jupyter-widgets/controls",
      "model_module_version": "1.5.0",
      "model_name": "DropdownModel",
      "state": {
       "_options_labels": [
        "",
        "Workspace/CDI_VTEM_model",
        "Workspace/Data_FEM_pseudo3D",
        "Workspace/Data_TEM_pseudo3D",
        "Workspace/Data_ZTEM"
       ],
       "description": "Object:",
       "index": 3,
       "layout": "IPY_MODEL_69566f32c5024360a743129c93877b6f",
       "style": "IPY_MODEL_e7e43cd189c84bbe91086ef5fecc5cf7"
      }
     },
     "4bb07bfb217045b395ed0959196da665": {
      "model_module": "@jupyter-widgets/controls",
      "model_module_version": "1.5.0",
      "model_name": "DescriptionStyleModel",
      "state": {
       "description_width": ""
      }
     },
     "4bb5d4aa31bf42d8be45f7c6be344a2b": {
      "model_module": "@jupyter-widgets/controls",
      "model_module_version": "1.5.0",
      "model_name": "VBoxModel",
      "state": {
       "children": [
        "IPY_MODEL_f24e07beed0b4da9b51e390cdbcd32b9",
        "IPY_MODEL_680f18f771094138ba6d60d9ae2d2e95",
        "IPY_MODEL_3cec7898314d4972b7008a6ccd1cd104"
       ],
       "layout": "IPY_MODEL_50e429c45d144f008a25ed4997a72d79"
      }
     },
     "4c0c80a534834ed7a51fdf55b83168de": {
      "model_module": "@jupyter-widgets/controls",
      "model_module_version": "1.5.0",
      "model_name": "VBoxModel",
      "state": {
       "children": [
        "IPY_MODEL_7c4f8f011ba445fd98e09f909628380a",
        "IPY_MODEL_c4bc041ab46d4de49af186ae5ed78b68"
       ],
       "layout": "IPY_MODEL_ad57d40768b24dfa99fbb0d8c5d6f5a2"
      }
     },
     "4c8f8b90667346caa56c991d19a5342a": {
      "model_module": "@jupyter-widgets/controls",
      "model_module_version": "1.5.0",
      "model_name": "DescriptionStyleModel",
      "state": {
       "description_width": ""
      }
     },
     "4cec50316b71490cb81c4617ba2232ac": {
      "model_module": "@jupyter-widgets/controls",
      "model_module_version": "1.5.0",
      "model_name": "VBoxModel",
      "state": {
       "children": [
        "IPY_MODEL_86c16693784d42afb7ee2bb370f32168",
        "IPY_MODEL_030ddbdae7484f76944afb5300dbe17b"
       ],
       "layout": "IPY_MODEL_414a450235c84c0c9b52e46c2f1a1ac0"
      }
     },
     "4d311bc0fe8e4214964de3aa2aaa2911": {
      "model_module": "@jupyter-widgets/base",
      "model_module_version": "1.2.0",
      "model_name": "LayoutModel",
      "state": {}
     },
     "4d51377c614941df9a78f45f34f64080": {
      "model_module": "@jupyter-widgets/base",
      "model_module_version": "1.2.0",
      "model_name": "LayoutModel",
      "state": {}
     },
     "4eff8d9f26724175bfdc545af1572add": {
      "model_module": "@jupyter-widgets/base",
      "model_module_version": "1.2.0",
      "model_name": "LayoutModel",
      "state": {}
     },
     "4f281243a2d146e9a55438c4f9e2fe74": {
      "model_module": "@jupyter-widgets/base",
      "model_module_version": "1.2.0",
      "model_name": "LayoutModel",
      "state": {}
     },
     "4f93ca5d4bf54c6cb8fc56d0875bbc64": {
      "model_module": "@jupyter-widgets/controls",
      "model_module_version": "1.5.0",
      "model_name": "VBoxModel",
      "state": {
       "children": [
        "IPY_MODEL_4b309a87ccab4455a5e3f69f71a6da6c",
        "IPY_MODEL_3683784f942c4d29be3c600028b2f212"
       ],
       "layout": "IPY_MODEL_be8389aee77c45f881eaa4a50170871c"
      }
     },
     "4fbf3452f0484314b10e3032a5f77af9": {
      "model_module": "@jupyter-widgets/base",
      "model_module_version": "1.2.0",
      "model_name": "LayoutModel",
      "state": {}
     },
     "5006a43388b84e78be284d683ded12e4": {
      "model_module": "@jupyter-widgets/controls",
      "model_module_version": "1.5.0",
      "model_name": "SelectModel",
      "state": {
       "_options_labels": [
        "..",
        "SimPEG_PFInversion",
        "Temp",
        "dask-worker-space",
        "FlinFlon.geoh5",
        "HelloWorld.ui.json",
        "Inversion_.json",
        "Inversion_1.json",
        "Inversion_2.json",
        "Inversion_G.json",
        "Inversion_G2.json",
        "Inversion_G3.json",
        "MtDore_TMI.geoh5",
        "Octree_Mesh.ui.json",
        "PeakFinder.ui.geoh5",
        "PeakFinder.ui.json",
        "PeakFinder_v2.ui.json",
        "PeakFinder_v3.ui.json",
        "PeakFinder_v4.ui.geoh5",
        "PeakFinder_v4.ui.json",
        "Untitled.ipynb",
        "VTEM_model.mod",
        "Workspace.Gravity_Magnetics_drape60m_Airborne_Gxx.tif",
        "Workspace.Gravity_Magnetics_drape60m_Airborne_Gxx_Colorbar.png",
        "Workspace.Gravity_Magnetics_drape60m_Airborne_Gxx_RGB.txt",
        "Workspace.Gravity_Magnetics_drape60m_Airborne_TMI.tif",
        "Workspace.Gravity_Magnetics_drape60m_Airborne_TMI_Colorbar.png",
        "Workspace.Gravity_Magnetics_drape60m_Airborne_TMI_RGB.txt",
        "demo.ipynb",
        "input.ui.json",
        "options_tree.json",
        "tempui.ui.geoh5",
        "tempui.ui.json",
        "test.ui.geoh5",
        "test.ui.json",
        "testPoints.geoh5"
       ],
       "index": 4,
       "layout": "IPY_MODEL_ff5a74423725405b8fccb11adfcc117c",
       "rows": 8,
       "style": "IPY_MODEL_218700958c36427ea660279c5ab02a08"
      }
     },
     "50e429c45d144f008a25ed4997a72d79": {
      "model_module": "@jupyter-widgets/base",
      "model_module_version": "1.2.0",
      "model_name": "LayoutModel",
      "state": {}
     },
     "50eb08096aed4da4bdebaa0242abe9e7": {
      "model_module": "@jupyter-widgets/controls",
      "model_module_version": "1.5.0",
      "model_name": "IntSliderModel",
      "state": {
       "continuous_update": false,
       "description": "Smoothing",
       "layout": "IPY_MODEL_82513b4c5c1c458a8f34199c8ac35553",
       "max": 64,
       "style": "IPY_MODEL_fa4614d29cfd4f248ab64edce4bc7ea2",
       "value": 6
      }
     },
     "50eccd9c2a4c42ff841118a3385834dd": {
      "model_module": "@jupyter-widgets/base",
      "model_module_version": "1.2.0",
      "model_name": "LayoutModel",
      "state": {}
     },
     "51669e629360445c8883e21d4c24bd23": {
      "model_module": "@jupyter-widgets/base",
      "model_module_version": "1.2.0",
      "model_name": "LayoutModel",
      "state": {}
     },
     "519c560ef76e47ef9f35e396ef38f739": {
      "model_module": "@jupyter-widgets/controls",
      "model_module_version": "1.5.0",
      "model_name": "DescriptionStyleModel",
      "state": {
       "description_width": ""
      }
     },
     "51eeb16d7a3641c3a7262f7fd796ae4c": {
      "model_module": "@jupyter-widgets/base",
      "model_module_version": "1.2.0",
      "model_name": "LayoutModel",
      "state": {
       "display": "none"
      }
     },
     "5202cedd37eb4a63966173d00650363f": {
      "model_module": "@jupyter-widgets/controls",
      "model_module_version": "1.5.0",
      "model_name": "DescriptionStyleModel",
      "state": {
       "description_width": "initial"
      }
     },
     "5213b906806b4f6c99db683f08c274cf": {
      "model_module": "@jupyter-widgets/controls",
      "model_module_version": "1.5.0",
      "model_name": "ButtonStyleModel",
      "state": {}
     },
     "53433d05fafd492b8e43396f85363057": {
      "model_module": "@jupyter-widgets/controls",
      "model_module_version": "1.5.0",
      "model_name": "DescriptionStyleModel",
      "state": {
       "description_width": ""
      }
     },
     "5346b282c131470db8c8340c1ef77ce7": {
      "model_module": "@jupyter-widgets/controls",
      "model_module_version": "1.5.0",
      "model_name": "DropdownModel",
      "state": {
       "_options_labels": [
        "C:\\Users\\dominiquef\\Documents\\GIT\\mira\\geoapps\\docs\\content\\applications",
        "C:\\Users\\dominiquef\\Documents\\GIT\\mira\\geoapps\\docs\\content",
        "C:\\Users\\dominiquef\\Documents\\GIT\\mira\\geoapps\\docs",
        "C:\\Users\\dominiquef\\Documents\\GIT\\mira\\geoapps",
        "C:\\Users\\dominiquef\\Documents\\GIT\\mira",
        "C:\\Users\\dominiquef\\Documents\\GIT",
        "C:\\Users\\dominiquef\\Documents",
        "C:\\Users\\dominiquef",
        "C:\\Users",
        "C:\\",
        "D:\\",
        "Z:\\"
       ],
       "index": 0,
       "layout": "IPY_MODEL_8ff701e841fa4621a45c040c9ace49b6",
       "style": "IPY_MODEL_84c539de3b11492e89d18b9fe954a108"
      }
     },
     "53472e9cdaf04a72849e6e6159f4ce58": {
      "model_module": "@jupyter-widgets/controls",
      "model_module_version": "1.5.0",
      "model_name": "DescriptionStyleModel",
      "state": {
       "description_width": ""
      }
     },
     "538bc66b70cc48e185ea4af8bc57621a": {
      "model_module": "@jupyter-widgets/controls",
      "model_module_version": "1.5.0",
      "model_name": "DescriptionStyleModel",
      "state": {
       "description_width": ""
      }
     },
     "544a783400f048dfa5cf17c0f76f3442": {
      "model_module": "@jupyter-widgets/controls",
      "model_module_version": "1.5.0",
      "model_name": "VBoxModel",
      "state": {
       "children": [
        "IPY_MODEL_59fd2548aba9471cb6f03388170c9e53",
        "IPY_MODEL_e5008213f6f6419eb7cebb5466d2e613"
       ],
       "layout": "IPY_MODEL_d561e11fefc948eb82b05fda5bd182f7"
      }
     },
     "549449f8c55e41aebd74a135fc08aedf": {
      "model_module": "@jupyter-widgets/controls",
      "model_module_version": "1.5.0",
      "model_name": "DescriptionStyleModel",
      "state": {
       "description_width": ""
      }
     },
     "549c19c019264b6da7c1764b56af2299": {
      "model_module": "@jupyter-widgets/controls",
      "model_module_version": "1.5.0",
      "model_name": "DescriptionStyleModel",
      "state": {
       "description_width": "initial"
      }
     },
     "54f12d0a92f6456d8e59846cef73d1e4": {
      "model_module": "@jupyter-widgets/base",
      "model_module_version": "1.2.0",
      "model_name": "LayoutModel",
      "state": {}
     },
     "54f1f2fe358e4dcaa99aff038e467c30": {
      "model_module": "@jupyter-widgets/base",
      "model_module_version": "1.2.0",
      "model_name": "LayoutModel",
      "state": {}
     },
     "55d9249ebe9046008a14f30ecf75c981": {
      "model_module": "@jupyter-widgets/controls",
      "model_module_version": "1.5.0",
      "model_name": "VBoxModel",
      "state": {
       "children": [
        "IPY_MODEL_109c182be8e048588201db7b7b7bb02c",
        "IPY_MODEL_ee1b4210354b433193936229029134f9"
       ],
       "layout": "IPY_MODEL_1e9b695c232d4edfbc39afc3bab63c26"
      }
     },
     "56088a69723644ffa9f43004b68fee7e": {
      "model_module": "@jupyter-widgets/controls",
      "model_module_version": "1.5.0",
      "model_name": "DropdownModel",
      "state": {
       "_options_labels": [
        "",
        "CDI/ELEV[4]_surface",
        "CDI/COND[11]_surface",
        "CDI/COND[23]_surface",
        "CDI/CDI_",
        "CDI/ELEV_surface",
        "CDI/COND[21]_surface",
        "PeakFinder_v2/PointMarkers",
        "ISO/Iso_Iteration_7_model_1_50e-02",
        "ISO/Iso_Iteration_7_model_5_00e-03",
        "ISO/Iso_Iteration_7_model_2_00e-02",
        "ISO/Iso_Iteration_7_model_2_50e-03",
        "ISO/Iso_Iteration_7_model_1_00e-02",
        "PeakFinder_v3/PointMarkers",
        "Faults_Dikes/fault_splay1",
        "Faults_Dikes/fault_Cliff_Lake",
        "Faults_Dikes/fault_Other_FlinFlon",
        "Faults_Dikes/fault_Club_Lake_splay",
        "Faults_Dikes/fault_Catherine_splay2",
        "Faults_Dikes/fault_Birch_View",
        "Faults_Dikes/fault_Dion_Lake",
        "Faults_Dikes/fault_FlinFlon_splay",
        "Faults_Dikes/fault_West_Mandy_Road",
        "Faults_Dikes/fault_Channing",
        "Faults_Dikes/fault_Ross_Lake",
        "Faults_Dikes/fault_Louis_Hidden",
        "Faults_Dikes/fault_Lake_View_thrust",
        "Faults_Dikes/contact_Schist_Lake",
        "Faults_Dikes/fault_Burley_Lake",
        "Faults_Dikes/fault_Dion_Lake_splay",
        "Faults_Dikes/fault_Green_Lake",
        "Faults_Dikes/fault_FlinFlon",
        "Faults_Dikes/fault_Catherine_splay1",
        "Faults_Dikes/fault_East_Mandy_Road",
        "Faults_Dikes/fault_Other_FlinFlon_South",
        "Faults_Dikes/fault_Catherine_splay4",
        "Faults_Dikes/contact_Stitt_Island",
        "Faults_Dikes/fault_Club_Lake",
        "Faults_Dikes/fault_Tailing_Pond",
        "Horizons/35_Hidden_Reservoir_Hr5",
        "Horizons/29_Hidden_Reservoir_Hr1a",
        "Horizons/60_BlueLagoon_Fb2",
        "Horizons/20_FlinFlon_Undivided_Int_Dykes_D2f",
        "Horizons/04_Boundary_Intrusive_S4h",
        "Horizons/53_Millrock_Rhyolite_Fm4b",
        "Horizons/19_FlinFlon_Undivided_Int_Dykes_D2b",
        "Horizons/18_FlinFlon_Undivided_Int_Dykes_777_D2b",
        "Horizons/06_Phantom_Lake_Intrusive_S3a",
        "Horizons/21_FlinFlon_Undivided_Int_Dykes_D3a",
        "Horizons/43_Millrock_CHLSH_South",
        "Horizons/56_Millrock_Basalt_Fm1ba",
        "Horizons/17_FlinFlon_Undivided_Int_Dykes_D2",
        "Horizons/32_Hidden_Reservoir_Hr1b_SW",
        "Horizons/11_Missi_M3_NE",
        "Horizons/13_Missi_M1",
        "Horizons/07_Annabel_Granitoid_S1",
        "Horizons/45_Millrock_Gabbro_South",
        "Horizons/01_Late_Intrusive_S5b",
        "Horizons/31_Hidden_Reservoir_Hr1c_SW",
        "Horizons/52_Millrock_Rhyolite_Fm4_West_check",
        "Horizons/55_Millrock_Basalt_Fm1bf",
        "Horizons/34_Hidden_Reservoir_Hr2b",
        "Horizons/03_Boundary_Intrusive_S4b",
        "Horizons/42_Millrock_CHLSH_North",
        "Horizons/26_Louis_L3",
        "Horizons/23_FlinFlon_Undivided_Int_Felsic_D4g",
        "Horizons/30_Hidden_Reservoir_Hr1b",
        "Horizons/59_BlueLagoon_Fb3",
        "Horizons/49_Millrock_MVR_Fm5d",
        "Horizons/44_Millrock_Gabbro_North",
        "Horizons/27_Hidden_Carlisle_Hc4",
        "Horizons/22_FlinFlon_Undivided_Int_Felsic_D4e",
        "Horizons/02_Boundary_Intrusive_S4a",
        "Horizons/61_BlueLagoon_Fb1_NW",
        "Horizons/05_Boundary_Intrusive_S4g",
        "Ore/39_Ore_Callinan",
        "Ore/38_Ore_Dan_Owens",
        "Ore/40_Ore_FlinFlon",
        "PeakFinder/PointMarkers",
        "Workspace/Inversion_VTEM_Model",
        "Workspace/Gravity_Magnetics_drape60m",
        "Workspace/CDI_VTEM_model",
        "Workspace/Data_FEM_pseudo3D",
        "Workspace/O2O_Interp_25m",
        "Workspace/geochem",
        "Workspace/Inversion_DIGHEM_Model",
        "Workspace/Topography",
        "Workspace/Data_TEM_pseudo3D",
        "Workspace/Data_ZTEM",
        "Workspace/Mesh"
       ],
       "description": "Object:",
       "index": 0,
       "layout": "IPY_MODEL_71fa4ee45de649c98c9f1ec1def7b0eb",
       "style": "IPY_MODEL_4c8f8b90667346caa56c991d19a5342a"
      }
     },
     "562a8b730d4b4a91baa5d0884234374c": {
      "model_module": "@jupyter-widgets/base",
      "model_module_version": "1.2.0",
      "model_name": "LayoutModel",
      "state": {
       "display": "none",
       "width": "auto"
      }
     },
     "5661cd17f46b4f6396aba0793bffa6fe": {
      "model_module": "@jupyter-widgets/controls",
      "model_module_version": "1.5.0",
      "model_name": "HBoxModel",
      "state": {
       "children": [
        "IPY_MODEL_7d9c4982bc86433fb7fb8d60a85fcfda",
        "IPY_MODEL_29d89166f6f248c5b634df7b669165b6",
        "IPY_MODEL_89ccc1f086184535a65078af912f6e35"
       ],
       "layout": "IPY_MODEL_e833d68bdc3c495d9d4ade84f812381b"
      }
     },
     "56d17a8478f341cfb33c6d219fa68582": {
      "model_module": "@jupyter-widgets/controls",
      "model_module_version": "1.5.0",
      "model_name": "DescriptionStyleModel",
      "state": {
       "description_width": ""
      }
     },
     "56edcb9830bd4aa783fb280ceb14bfe9": {
      "model_module": "@jupyter-widgets/controls",
      "model_module_version": "1.5.0",
      "model_name": "DescriptionStyleModel",
      "state": {
       "description_width": "initial"
      }
     },
     "57390930e2154d1eb1a1b6b8b136df74": {
      "model_module": "@jupyter-widgets/base",
      "model_module_version": "1.2.0",
      "model_name": "LayoutModel",
      "state": {
       "align_items": "stretch",
       "display": "flex",
       "flex_flow": "row",
       "justify_content": "flex-start",
       "width": "100%"
      }
     },
     "5785893bfd3b413ca3e9b345d0e18a0c": {
      "model_module": "@jupyter-widgets/base",
      "model_module_version": "1.2.0",
      "model_name": "LayoutModel",
      "state": {}
     },
     "5835f5c2e1584091bd59ca1aa753c5b5": {
      "model_module": "@jupyter-widgets/controls",
      "model_module_version": "1.5.0",
      "model_name": "LabelModel",
      "state": {
       "layout": "IPY_MODEL_2d7cbeaabbbc41a1b09f18746e8bf73d",
       "style": "IPY_MODEL_b3f47f772f464ed789e80f9a224a8f0c",
       "value": "Groups"
      }
     },
     "589a22f9d9c941969b7bbf28ab914678": {
      "model_module": "@jupyter-widgets/controls",
      "model_module_version": "1.5.0",
      "model_name": "DropdownModel",
      "state": {
       "_options_labels": [
        "",
        "-- Groups --",
        "Observed",
        "early",
        "middle",
        "late",
        "early + middle",
        "early + middle + late",
        "middle + late"
       ],
       "description": "Group Name:",
       "index": 6,
       "layout": "IPY_MODEL_763fe67b4e8341eba76b9d3a058ee334",
       "style": "IPY_MODEL_538bc66b70cc48e185ea4af8bc57621a"
      }
     },
     "5990b3482a214d53a7474c9cdaeb01db": {
      "model_module": "@jupyter-widgets/controls",
      "model_module_version": "1.5.0",
      "model_name": "IntSliderModel",
      "state": {
       "continuous_update": false,
       "description": "Minimum amplitude (%)",
       "layout": "IPY_MODEL_64c946acbe9547a5bfe1c17b7e6f3084",
       "style": "IPY_MODEL_f941c9333ce44708a4c9b792cf48445e",
       "value": 1
      }
     },
     "599a3fd5617e46548edfbba280260581": {
      "model_module": "@jupyter-widgets/controls",
      "model_module_version": "1.5.0",
      "model_name": "DescriptionStyleModel",
      "state": {
       "description_width": ""
      }
     },
     "59b28f33b7324c7f8b164eb6449dcdec": {
      "model_module": "@jupyter-widgets/base",
      "model_module_version": "1.2.0",
      "model_name": "LayoutModel",
      "state": {
       "grid_area": "dircontent",
       "width": "auto"
      }
     },
     "59db76e4dae54998957889eed89135d0": {
      "model_module": "@jupyter-widgets/base",
      "model_module_version": "1.2.0",
      "model_name": "LayoutModel",
      "state": {
       "display": "none",
       "grid_gap": "0px 0px",
       "grid_template_areas": "\n                    'pathlist pathlist'\n                    'dircontent dircontent'\n                    ",
       "grid_template_columns": "60% 40%",
       "grid_template_rows": "auto auto",
       "width": "500px"
      }
     },
     "59fd2548aba9471cb6f03388170c9e53": {
      "model_module": "@jupyter-widgets/controls",
      "model_module_version": "1.5.0",
      "model_name": "VBoxModel",
      "state": {
       "children": [
        "IPY_MODEL_97779cdf8bc2420497930029e9f87f92",
        "IPY_MODEL_b84da2c286854dfe95a37c773f83c181"
       ],
       "layout": "IPY_MODEL_3952ba6e8ff047bf9ffed40ebe5e8b5a"
      }
     },
     "5acb4c465b2140e5b7070ceb27267c5b": {
      "model_module": "@jupyter-widgets/output",
      "model_module_version": "1.0.0",
      "model_name": "OutputModel",
      "state": {
       "layout": "IPY_MODEL_6b0b7837cbbb4f0ebf91b972b71bedff",
       "outputs": [
        {
         "data": {
          "image/png": "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\n",
          "text/plain": "<Figure size 576x576 with 1 Axes>"
         },
         "metadata": {
          "needs_background": "light"
         },
         "output_type": "display_data"
        }
       ]
      }
     },
     "5b8964d8aa42484aacb3dc3568c9dfdd": {
      "model_module": "@jupyter-widgets/controls",
      "model_module_version": "1.5.0",
      "model_name": "ButtonStyleModel",
      "state": {}
     },
     "5bfa9a665d2048d8afdddaa09ccb9dea": {
      "model_module": "@jupyter-widgets/controls",
      "model_module_version": "1.5.0",
      "model_name": "VBoxModel",
      "state": {
       "children": [
        "IPY_MODEL_dd027df3174c4ed88144e485acb800f7",
        "IPY_MODEL_3c8c5f04a40644f995e0576059ede83c"
       ],
       "layout": "IPY_MODEL_fb91f63a1808499a81343d557e5e60cc"
      }
     },
     "5bffd0e1f733461b8629af1d25588cf7": {
      "model_module": "@jupyter-widgets/base",
      "model_module_version": "1.2.0",
      "model_name": "LayoutModel",
      "state": {}
     },
     "5c56bdd608a8437d8a35dd8d19691762": {
      "model_module": "@jupyter-widgets/controls",
      "model_module_version": "1.5.0",
      "model_name": "HTMLModel",
      "state": {
       "layout": "IPY_MODEL_728a469dfacb46e1946ba69f23513998",
       "placeholder": "",
       "style": "IPY_MODEL_5e5666b528a44587a9eb87ea4f7804ae",
       "value": "<span style=\"margin-left:10px; color:black;\">No file selected</span>"
      }
     },
     "5c65c937bddb42b48b8f65eee33f1737": {
      "model_module": "@jupyter-widgets/controls",
      "model_module_version": "1.5.0",
      "model_name": "HBoxModel",
      "state": {
       "children": [
        "IPY_MODEL_499da517b1d74a26bbdb89a5b3e2c8fc",
        "IPY_MODEL_bed7ab1fbba24cf5ad957ebb265d4a96",
        "IPY_MODEL_3f8859cbd22c4979bfae457cbfc2decf"
       ],
       "layout": "IPY_MODEL_89d64c7541674786b51790b558e516ea"
      }
     },
     "5c914c73c92449e9bf7628c336786034": {
      "model_module": "@jupyter-widgets/controls",
      "model_module_version": "1.5.0",
      "model_name": "VBoxModel",
      "state": {
       "children": [
        "IPY_MODEL_61519af3926c4c9b845b8d8a8016a9cc",
        "IPY_MODEL_d0673ac249984e3799cc416415c735cb"
       ],
       "layout": "IPY_MODEL_1f38ad44a6844c3db75582f7ebd6db7e"
      }
     },
     "5d5defbdefbb4d61b731658f0b4c1210": {
      "model_module": "@jupyter-widgets/controls",
      "model_module_version": "1.5.0",
      "model_name": "DescriptionStyleModel",
      "state": {
       "description_width": "initial"
      }
     },
     "5daa8c5f1d6e4733bb8da0a622479b5f": {
      "model_module": "@jupyter-widgets/controls",
      "model_module_version": "1.5.0",
      "model_name": "SliderStyleModel",
      "state": {
       "description_width": "initial"
      }
     },
     "5e5666b528a44587a9eb87ea4f7804ae": {
      "model_module": "@jupyter-widgets/controls",
      "model_module_version": "1.5.0",
      "model_name": "DescriptionStyleModel",
      "state": {
       "description_width": ""
      }
     },
     "5ecef09053e74d9a8bf8ae84d06aaaa1": {
      "model_module": "@jupyter-widgets/base",
      "model_module_version": "1.2.0",
      "model_name": "LayoutModel",
      "state": {
       "display": "none",
       "width": "auto"
      }
     },
     "5f0859b1d8724ae69fc6edeec32b2843": {
      "model_module": "@jupyter-widgets/controls",
      "model_module_version": "1.5.0",
      "model_name": "ToggleButtonModel",
      "state": {
       "layout": "IPY_MODEL_8e17c8b65a6043b38c966c5fde231e76",
       "style": "IPY_MODEL_b6bc4a8ccb50415dae813d54695f0967",
       "value": true
      }
     },
     "5fbbb4a0b2da4ce98a6176ae03d793b4": {
      "model_module": "@jupyter-widgets/base",
      "model_module_version": "1.2.0",
      "model_name": "LayoutModel",
      "state": {}
     },
     "6010bc5f61624fb2885c65bf594288ba": {
      "model_module": "@jupyter-widgets/controls",
      "model_module_version": "1.5.0",
      "model_name": "DescriptionStyleModel",
      "state": {
       "description_width": ""
      }
     },
     "604219a09ed54c279f6e3528de70ecbe": {
      "model_module": "@jupyter-widgets/base",
      "model_module_version": "1.2.0",
      "model_name": "LayoutModel",
      "state": {
       "border": "solid"
      }
     },
     "609f26bd14a44dce99ae7a0fd473f14f": {
      "model_module": "@jupyter-widgets/controls",
      "model_module_version": "1.5.0",
      "model_name": "DescriptionStyleModel",
      "state": {
       "description_width": ""
      }
     },
     "60a3ec0b991542c7bf9a1960d8d5c7eb": {
      "model_module": "@jupyter-widgets/controls",
      "model_module_version": "1.5.0",
      "model_name": "CheckboxModel",
      "state": {
       "description": "Geoscience ANALYST Pro - Live link",
       "disabled": false,
       "indent": false,
       "layout": "IPY_MODEL_54f1f2fe358e4dcaa99aff038e467c30",
       "style": "IPY_MODEL_d49f8a7387cc42dea0fa942faf166033",
       "value": false
      }
     },
     "60c9e94703594313b28778f611b740d9": {
      "model_module": "@jupyter-widgets/controls",
      "model_module_version": "1.5.0",
      "model_name": "VBoxModel",
      "state": {
       "children": [
        "IPY_MODEL_eab6820575724f37b63a52a8e24a43e8",
        "IPY_MODEL_2ed7ec9220a949c898c204235ced0dc1"
       ],
       "layout": "IPY_MODEL_604219a09ed54c279f6e3528de70ecbe"
      }
     },
     "60f3d8aa0cf74cccafa7855bd27cbaae": {
      "model_module": "@jupyter-widgets/controls",
      "model_module_version": "1.5.0",
      "model_name": "DropdownModel",
      "state": {
       "_options_labels": [
        "",
        "6071000.0",
        "6071200.0",
        "6071400.0",
        "6071600.0",
        "6071800.0",
        "6072000.0",
        "6072200.0",
        "6072400.0",
        "6072600.0",
        "6072800.0",
        "6073000.0",
        "6073200.0",
        "6073400.0",
        "6073600.0",
        "6073800.0",
        "6074000.0",
        "6074200.0",
        "6074400.0",
        "6074600.0",
        "6074800.0"
       ],
       "description": "Select line:",
       "index": 13,
       "layout": "IPY_MODEL_3aa9043c1c484ed0b6819c6cbe892e65",
       "style": "IPY_MODEL_c5177889f7c54bd48c6c8f1e6d9c4354"
      }
     },
     "612e5d8a8c234bfc88be7d666fe0f3d7": {
      "model_module": "@jupyter-widgets/controls",
      "model_module_version": "1.5.0",
      "model_name": "TextModel",
      "state": {
       "continuous_update": false,
       "description": "Group:",
       "layout": "IPY_MODEL_4eff8d9f26724175bfdc545af1572add",
       "style": "IPY_MODEL_38fd666b64c9406bb35f0a477c495853"
      }
     },
     "61519af3926c4c9b845b8d8a8016a9cc": {
      "model_module": "@jupyter-widgets/controls",
      "model_module_version": "1.5.0",
      "model_name": "LabelModel",
      "state": {
       "layout": "IPY_MODEL_7301fe966c1b4215ad5132848d1ed752",
       "style": "IPY_MODEL_37dfdc9cfcec48afb36c5cce87fefab4",
       "value": "Detection Parameters"
      }
     },
     "6168bf8e690a4ea4b027e2a777bc4bd8": {
      "model_module": "@jupyter-widgets/base",
      "model_module_version": "1.2.0",
      "model_name": "LayoutModel",
      "state": {}
     },
     "616aebc27c044f86a6126d6fe4fe8c13": {
      "model_module": "@jupyter-widgets/controls",
      "model_module_version": "1.5.0",
      "model_name": "LabelModel",
      "state": {
       "layout": "IPY_MODEL_0a47ef9d90634fe0b49e0fb3f8b4c076",
       "style": "IPY_MODEL_6614a85be1f64064b434e7e93087604f",
       "value": "Monitoring folder"
      }
     },
     "616f8e72691e44249883e1804749da23": {
      "model_module": "@jupyter-widgets/base",
      "model_module_version": "1.2.0",
      "model_name": "LayoutModel",
      "state": {
       "display": "none"
      }
     },
     "61f5b067225642b0a1adbfd822028643": {
      "model_module": "@jupyter-widgets/controls",
      "model_module_version": "1.5.0",
      "model_name": "VBoxModel",
      "state": {
       "children": [
        "IPY_MODEL_4f93ca5d4bf54c6cb8fc56d0875bbc64",
        "IPY_MODEL_8edbd9e811d841c28366178dc0603c30"
       ],
       "layout": "IPY_MODEL_3232d3c9be0d4c16b15f3b9c5465276e"
      }
     },
     "62cb30bb767943c9a55f2ffa14db1503": {
      "model_module": "@jupyter-widgets/controls",
      "model_module_version": "1.5.0",
      "model_name": "ToggleButtonModel",
      "state": {
       "description": "Group Settings",
       "layout": "IPY_MODEL_d62a22a914104c9fae7f1d172b1f5d2d",
       "style": "IPY_MODEL_9d98e75b037f4e34ab18669c6e0e32e7"
      }
     },
     "6342ffa5655b4185b1df6980c8da0db9": {
      "model_module": "@jupyter-widgets/base",
      "model_module_version": "1.2.0",
      "model_name": "LayoutModel",
      "state": {}
     },
     "634ad3f49340435b9e5224d5d7bf838c": {
      "model_module": "@jupyter-widgets/base",
      "model_module_version": "1.2.0",
      "model_name": "LayoutModel",
      "state": {}
     },
     "63727736756d48d0a8dd82505b6f2bf8": {
      "model_module": "@jupyter-widgets/controls",
      "model_module_version": "1.5.0",
      "model_name": "HBoxModel",
      "state": {
       "children": [
        "IPY_MODEL_93ab7e07a0564acb935cc538e9f01fdc",
        "IPY_MODEL_48d3801b34ad4464a5676732eae59b95"
       ],
       "layout": "IPY_MODEL_0d776fb225194384b8f1c0a96f8dc538"
      }
     },
     "638106f6d55847fbb7ac0c505fc196c5": {
      "model_module": "@jupyter-widgets/controls",
      "model_module_version": "1.5.0",
      "model_name": "VBoxModel",
      "state": {
       "children": [
        "IPY_MODEL_37c9b8d1ad7447efb28f6b9c1149a9c5",
        "IPY_MODEL_c1c8addf7585460dad4bf4b131e5220d"
       ],
       "layout": "IPY_MODEL_18a6db5b24a54f639e92eb7dab0bd1ea"
      }
     },
     "63ae1bb8f1534c1eab1b16247122f8dc": {
      "model_module": "@jupyter-widgets/controls",
      "model_module_version": "1.5.0",
      "model_name": "HBoxModel",
      "state": {
       "children": [
        "IPY_MODEL_90209be1f46c499688b7b948c15dde32",
        "IPY_MODEL_f15e55c8122c4a25939179a2d35efd1d",
        "IPY_MODEL_a1ea101cbf4b48b68b8b48590884038c"
       ],
       "layout": "IPY_MODEL_7fabbbe6e1154e7cb9372e4cb200e0cb"
      }
     },
     "63fa96d2b98e4ccf886572eb2392add2": {
      "model_module": "@jupyter-widgets/controls",
      "model_module_version": "1.5.0",
      "model_name": "FloatTextModel",
      "state": {
       "description": "Minimum data value",
       "layout": "IPY_MODEL_02f2792d5c814e1f993a4d40fc8dea90",
       "step": null,
       "style": "IPY_MODEL_c44c4e2c0edd4c7d94760fca24edb014",
       "value": -0.0004509940918069333
      }
     },
     "648a458b26e845c7901f42ae10064b4c": {
      "model_module": "@jupyter-widgets/controls",
      "model_module_version": "1.5.0",
      "model_name": "VBoxModel",
      "state": {
       "children": [
        "IPY_MODEL_007b794167254913a66fecfbff245622",
        "IPY_MODEL_25036602bfaa4f2aafc88f184e56f66d"
       ],
       "layout": "IPY_MODEL_a1d473b3273e4adda7f8c5a36db04382"
      }
     },
     "64c946acbe9547a5bfe1c17b7e6f3084": {
      "model_module": "@jupyter-widgets/base",
      "model_module_version": "1.2.0",
      "model_name": "LayoutModel",
      "state": {}
     },
     "64eb224c776e408d9abe782daa9229ac": {
      "model_module": "@jupyter-widgets/controls",
      "model_module_version": "1.5.0",
      "model_name": "VBoxModel",
      "state": {
       "children": [
        "IPY_MODEL_7b3ac8ee365243a08f1b071b84b8beb3",
        "IPY_MODEL_0bb0179a577942329ea5982083f388f7",
        "IPY_MODEL_3d955144a53847459f6fb3acbdab1bd5",
        "IPY_MODEL_2bb539b7da1b44f4a95aa3ceea1d0988",
        "IPY_MODEL_4cec50316b71490cb81c4617ba2232ac",
        "IPY_MODEL_60c9e94703594313b28778f611b740d9"
       ],
       "layout": "IPY_MODEL_db6f77755afa4278872f264ba446bde3"
      }
     },
     "651c88755e8a46ad836bd777d9ec613b": {
      "model_module": "@jupyter-widgets/controls",
      "model_module_version": "1.5.0",
      "model_name": "DescriptionStyleModel",
      "state": {
       "description_width": "initial"
      }
     },
     "656c99ff47fc4bd8ad558029b5545761": {
      "model_module": "@jupyter-widgets/controls",
      "model_module_version": "1.5.0",
      "model_name": "DescriptionStyleModel",
      "state": {
       "description_width": ""
      }
     },
     "65dda52b8a6041aab0421539620e30a4": {
      "model_module": "@jupyter-widgets/base",
      "model_module_version": "1.2.0",
      "model_name": "LayoutModel",
      "state": {}
     },
     "6614a85be1f64064b434e7e93087604f": {
      "model_module": "@jupyter-widgets/controls",
      "model_module_version": "1.5.0",
      "model_name": "DescriptionStyleModel",
      "state": {
       "description_width": "initial"
      }
     },
     "667a6e0df6264e8aa4da43824c84b52d": {
      "model_module": "@jupyter-widgets/controls",
      "model_module_version": "1.5.0",
      "model_name": "DescriptionStyleModel",
      "state": {
       "description_width": ""
      }
     },
     "669acb2781c64728b7779bdc2bc8b605": {
      "model_module": "@jupyter-widgets/base",
      "model_module_version": "1.2.0",
      "model_name": "LayoutModel",
      "state": {}
     },
     "671805771b284cfc8ae921b8dfeeabaa": {
      "model_module": "@jupyter-widgets/controls",
      "model_module_version": "1.5.0",
      "model_name": "DescriptionStyleModel",
      "state": {
       "description_width": ""
      }
     },
     "6749e75cf8b5452db16d83cf4d93ea4c": {
      "model_module": "@jupyter-widgets/base",
      "model_module_version": "1.2.0",
      "model_name": "LayoutModel",
      "state": {}
     },
     "6771555e695f4063af1be9e7a6b1cef6": {
      "model_module": "@jupyter-widgets/base",
      "model_module_version": "1.2.0",
      "model_name": "LayoutModel",
      "state": {}
     },
     "67a8cdc3a99d4dfdba94177928f94b77": {
      "model_module": "@jupyter-widgets/controls",
      "model_module_version": "1.5.0",
      "model_name": "HTMLModel",
      "state": {
       "layout": "IPY_MODEL_616f8e72691e44249883e1804749da23",
       "style": "IPY_MODEL_a81f4d9976824d9e98f559dd36c24cab"
      }
     },
     "67ce596eef0341f789c70bf8cf8a9444": {
      "model_module": "@jupyter-widgets/controls",
      "model_module_version": "1.5.0",
      "model_name": "DescriptionStyleModel",
      "state": {
       "description_width": ""
      }
     },
     "680f18f771094138ba6d60d9ae2d2e95": {
      "model_module": "@jupyter-widgets/controls",
      "model_module_version": "1.5.0",
      "model_name": "CheckboxModel",
      "state": {
       "description": "All Markers",
       "disabled": false,
       "layout": "IPY_MODEL_5bffd0e1f733461b8629af1d25588cf7",
       "style": "IPY_MODEL_dadfe5905e214d568259ca515b6fb42a",
       "value": false
      }
     },
     "6850f4d86ee147f7a0b9ad70c95f636c": {
      "model_module": "@jupyter-widgets/controls",
      "model_module_version": "1.5.0",
      "model_name": "DescriptionStyleModel",
      "state": {
       "description_width": ""
      }
     },
     "69566f32c5024360a743129c93877b6f": {
      "model_module": "@jupyter-widgets/base",
      "model_module_version": "1.2.0",
      "model_name": "LayoutModel",
      "state": {}
     },
     "6aa459f18631424480a22ddb989461f0": {
      "model_module": "@jupyter-widgets/controls",
      "model_module_version": "1.5.0",
      "model_name": "DescriptionStyleModel",
      "state": {
       "description_width": ""
      }
     },
     "6ae7231f0f7341c1959f9032d3705fdf": {
      "model_module": "@jupyter-widgets/controls",
      "model_module_version": "1.5.0",
      "model_name": "ButtonModel",
      "state": {
       "description": "Select",
       "layout": "IPY_MODEL_d44c7d76ac7447c289bd698f01fa9e8c",
       "style": "IPY_MODEL_2bff805d59b44a9ab3097ababc069a17"
      }
     },
     "6b0b7837cbbb4f0ebf91b972b71bedff": {
      "model_module": "@jupyter-widgets/base",
      "model_module_version": "1.2.0",
      "model_name": "LayoutModel",
      "state": {}
     },
     "6b1bf11f8e8146f4b682ab8121c1e304": {
      "model_module": "@jupyter-widgets/base",
      "model_module_version": "1.2.0",
      "model_name": "LayoutModel",
      "state": {}
     },
     "6b1f36750e584b9588b942a728e0630c": {
      "model_module": "@jupyter-widgets/controls",
      "model_module_version": "1.5.0",
      "model_name": "HTMLModel",
      "state": {
       "layout": "IPY_MODEL_1e7edde7acfc4986965ace4cc1d8d8e3",
       "style": "IPY_MODEL_033d3c4b74c6448495c8a18a5ee062b9"
      }
     },
     "6bae206ec1dc4a34af60b96c05486198": {
      "model_module": "@jupyter-widgets/base",
      "model_module_version": "1.2.0",
      "model_name": "LayoutModel",
      "state": {
       "width": "auto"
      }
     },
     "6baec28cffe34b70901e24e80fa838b0": {
      "model_module": "@jupyter-widgets/controls",
      "model_module_version": "1.5.0",
      "model_name": "DescriptionStyleModel",
      "state": {
       "description_width": ""
      }
     },
     "6c04cd7fd91649ee9095648aaf75ab4e": {
      "model_module": "@jupyter-widgets/base",
      "model_module_version": "1.2.0",
      "model_name": "LayoutModel",
      "state": {
       "width": "auto"
      }
     },
     "6c3293d100e541dba55c7cf9f9a5eb1e": {
      "model_module": "@jupyter-widgets/base",
      "model_module_version": "1.2.0",
      "model_name": "LayoutModel",
      "state": {
       "display": "none",
       "grid_gap": "0px 0px",
       "grid_template_areas": "\n                    'pathlist pathlist'\n                    'dircontent dircontent'\n                    ",
       "grid_template_columns": "60% 40%",
       "grid_template_rows": "auto auto",
       "width": "500px"
      }
     },
     "6c9580899e1f4f76bbd738b5ad75f919": {
      "model_module": "@jupyter-widgets/controls",
      "model_module_version": "1.5.0",
      "model_name": "ButtonModel",
      "state": {
       "description": "Select",
       "layout": "IPY_MODEL_c3c4352e546f4ce2b815e0d24f4eaacc",
       "style": "IPY_MODEL_f21607e828ec4c6ead7c9fdb346a10f5"
      }
     },
     "6ca3bd11b4f24ab9abef602b667cd964": {
      "model_module": "@jupyter-widgets/base",
      "model_module_version": "1.2.0",
      "model_name": "LayoutModel",
      "state": {}
     },
     "6cae5ba0821041ae942ab0071d1b0f34": {
      "model_module": "@jupyter-widgets/controls",
      "model_module_version": "1.5.0",
      "model_name": "DescriptionStyleModel",
      "state": {
       "description_width": "initial"
      }
     },
     "6d88c0ec9d524cc4a3bbc04b860de4d5": {
      "model_module": "@jupyter-widgets/base",
      "model_module_version": "1.2.0",
      "model_name": "LayoutModel",
      "state": {}
     },
     "6e44abb8c15e405b8859085648d21811": {
      "model_module": "@jupyter-widgets/controls",
      "model_module_version": "1.5.0",
      "model_name": "FloatSliderModel",
      "state": {
       "continuous_update": false,
       "description": "Max Peak Migration",
       "layout": "IPY_MODEL_96096eb1df8d4beb9bf9de747f3bd5de",
       "max": 1000,
       "min": 1,
       "style": "IPY_MODEL_cb9b4c7591db42ab9ccb5994f1dbe290",
       "value": 25
      }
     },
     "705d06becb7346bfa92cd9b2fa11f65a": {
      "model_module": "@jupyter-widgets/controls",
      "model_module_version": "1.5.0",
      "model_name": "VBoxModel",
      "state": {
       "children": [
        "IPY_MODEL_ffd67c037dfa4c83b980d1b94e5d556c",
        "IPY_MODEL_2a54fa0b237842478823536b3854f4b8"
       ],
       "layout": "IPY_MODEL_4d51377c614941df9a78f45f34f64080"
      }
     },
     "707413a7fb654cdbaa8d69ce2e28fb55": {
      "model_module": "@jupyter-widgets/controls",
      "model_module_version": "1.5.0",
      "model_name": "SliderStyleModel",
      "state": {
       "description_width": "initial"
      }
     },
     "70ba7c13c88041e5a349c78a5e6c6113": {
      "model_module": "@jupyter-widgets/controls",
      "model_module_version": "1.5.0",
      "model_name": "BoxModel",
      "state": {
       "children": [
        "IPY_MODEL_27019bda20d942d3baeff33705fef475"
       ],
       "layout": "IPY_MODEL_ad327a10a60841beb9790d80a0c436a9"
      }
     },
     "70c4e801fc844f7b91a2acd0e66d3085": {
      "model_module": "@jupyter-widgets/base",
      "model_module_version": "1.2.0",
      "model_name": "LayoutModel",
      "state": {
       "width": "auto"
      }
     },
     "70f4945ce9d848ffa15f5f45172674d9": {
      "model_module": "@jupyter-widgets/base",
      "model_module_version": "1.2.0",
      "model_name": "LayoutModel",
      "state": {}
     },
     "70fb5b875bf24fc9ae9a8940e69f2458": {
      "model_module": "@jupyter-widgets/controls",
      "model_module_version": "1.5.0",
      "model_name": "DescriptionStyleModel",
      "state": {
       "description_width": ""
      }
     },
     "7178c7e0a17c4b7c87659fcae64cef3e": {
      "model_module": "@jupyter-widgets/controls",
      "model_module_version": "1.5.0",
      "model_name": "DescriptionStyleModel",
      "state": {
       "description_width": ""
      }
     },
     "71afa0295e694b838c1bd961f22e3280": {
      "model_module": "@jupyter-widgets/controls",
      "model_module_version": "1.5.0",
      "model_name": "VBoxModel",
      "state": {
       "children": [
        "IPY_MODEL_0f56e17107124351bf7b596b13179c16",
        "IPY_MODEL_82e51cd207504c449b1f8f25f66e27e2",
        "IPY_MODEL_ac29b58a8f354f9db016b401846ef1f8",
        "IPY_MODEL_ec42c5596c1547d69e867fba293aad97",
        "IPY_MODEL_7fb5cf9d68fd4699a655efe17cb11938",
        "IPY_MODEL_bf4439b9ee384a8a82883e9da9a356e9"
       ],
       "layout": "IPY_MODEL_71ee7ed874ac4033b4b689d70c590d74"
      }
     },
     "71bf3f9e36d34d2ab69e0481c3de7845": {
      "model_module": "@jupyter-widgets/base",
      "model_module_version": "1.2.0",
      "model_name": "LayoutModel",
      "state": {
       "grid_area": "filename",
       "width": "auto"
      }
     },
     "71ee7ed874ac4033b4b689d70c590d74": {
      "model_module": "@jupyter-widgets/base",
      "model_module_version": "1.2.0",
      "model_name": "LayoutModel",
      "state": {}
     },
     "71fa4ee45de649c98c9f1ec1def7b0eb": {
      "model_module": "@jupyter-widgets/base",
      "model_module_version": "1.2.0",
      "model_name": "LayoutModel",
      "state": {}
     },
     "722b6abb0e274ab2bbc0c929b50cd341": {
      "model_module": "@jupyter-widgets/controls",
      "model_module_version": "1.5.0",
      "model_name": "DescriptionStyleModel",
      "state": {
       "description_width": "initial"
      }
     },
     "72310956f8794e75a9d7de91337569f7": {
      "model_module": "@jupyter-widgets/controls",
      "model_module_version": "1.5.0",
      "model_name": "VBoxModel",
      "state": {
       "children": [
        "IPY_MODEL_46468daaca3e4660843db8d1bc6e84e6",
        "IPY_MODEL_b666034a6051406f869db0828f112eec"
       ],
       "layout": "IPY_MODEL_ff8b0fe5a28f4ee69b22a0d481f5d21b"
      }
     },
     "7248b5e6bb564bf6916565c2ee044b01": {
      "model_module": "@jupyter-widgets/controls",
      "model_module_version": "1.5.0",
      "model_name": "DropdownModel",
      "state": {
       "_options_labels": [
        "C:\\Users\\dominiquef\\Documents\\GIT\\mira\\geoapps\\docs\\content\\applications",
        "C:\\Users\\dominiquef\\Documents\\GIT\\mira\\geoapps\\docs\\content",
        "C:\\Users\\dominiquef\\Documents\\GIT\\mira\\geoapps\\docs",
        "C:\\Users\\dominiquef\\Documents\\GIT\\mira\\geoapps",
        "C:\\Users\\dominiquef\\Documents\\GIT\\mira",
        "C:\\Users\\dominiquef\\Documents\\GIT",
        "C:\\Users\\dominiquef\\Documents",
        "C:\\Users\\dominiquef",
        "C:\\Users",
        "C:\\",
        "D:\\",
        "Z:\\"
       ],
       "index": 0,
       "layout": "IPY_MODEL_7be1cf9487614f628e4707819f06018c",
       "style": "IPY_MODEL_6aa459f18631424480a22ddb989461f0"
      }
     },
     "728a469dfacb46e1946ba69f23513998": {
      "model_module": "@jupyter-widgets/base",
      "model_module_version": "1.2.0",
      "model_name": "LayoutModel",
      "state": {}
     },
     "72aa2343da334cd5a99f8351cf80942f": {
      "model_module": "@jupyter-widgets/controls",
      "model_module_version": "1.5.0",
      "model_name": "GridBoxModel",
      "state": {
       "children": [
        "IPY_MODEL_7248b5e6bb564bf6916565c2ee044b01",
        "IPY_MODEL_05defeb5ed6944eda109b09b398ba869",
        "IPY_MODEL_bcfcf65f882144178e1ae9a3462b8066"
       ],
       "layout": "IPY_MODEL_918edddf03bb4bb19b12794a6b4e8f1b"
      }
     },
     "72dcdb2ab4e040469d0eb5bbf2493700": {
      "model_module": "@jupyter-widgets/base",
      "model_module_version": "1.2.0",
      "model_name": "LayoutModel",
      "state": {}
     },
     "7301fe966c1b4215ad5132848d1ed752": {
      "model_module": "@jupyter-widgets/base",
      "model_module_version": "1.2.0",
      "model_name": "LayoutModel",
      "state": {}
     },
     "7431558ada9f4690a8caf1ff6e90d7b9": {
      "model_module": "@jupyter-widgets/controls",
      "model_module_version": "1.5.0",
      "model_name": "GridBoxModel",
      "state": {
       "children": [
        "IPY_MODEL_779d161a80244475a0597bcdfbf00c2b",
        "IPY_MODEL_f7da8151d8084fb18f7c3c91c3ec9fc9",
        "IPY_MODEL_0876f91d62234795b6fbf37ce81d31d5"
       ],
       "layout": "IPY_MODEL_59db76e4dae54998957889eed89135d0"
      }
     },
     "74e359884040456c88400c900c0408db": {
      "model_module": "@jupyter-widgets/controls",
      "model_module_version": "1.5.0",
      "model_name": "IntSliderModel",
      "state": {
       "continuous_update": false,
       "description": "Minimum # channels",
       "layout": "IPY_MODEL_fa48e92286ee4daa986c0a450b4ab815",
       "max": 10,
       "min": 1,
       "style": "IPY_MODEL_c8a044ac07ab491c81b85ec34af427da",
       "value": 1
      }
     },
     "751c00d196b541b98c98f6a01e634909": {
      "model_module": "@jupyter-widgets/base",
      "model_module_version": "1.2.0",
      "model_name": "LayoutModel",
      "state": {}
     },
     "757d0d4e550f4ff9b6502ede220a960d": {
      "model_module": "@jupyter-widgets/base",
      "model_module_version": "1.2.0",
      "model_name": "LayoutModel",
      "state": {
       "grid_area": "pathlist",
       "width": "auto"
      }
     },
     "75e44ab478d84b30aaa61256fd8d7d87": {
      "model_module": "@jupyter-widgets/controls",
      "model_module_version": "1.5.0",
      "model_name": "DescriptionStyleModel",
      "state": {
       "description_width": ""
      }
     },
     "760a710ca85341c9823e01e4abc47ea8": {
      "model_module": "@jupyter-widgets/controls",
      "model_module_version": "1.5.0",
      "model_name": "SliderStyleModel",
      "state": {
       "description_width": "initial"
      }
     },
     "761fb2c2e52a4bbf8e1f707948b64bf4": {
      "model_module": "@jupyter-widgets/base",
      "model_module_version": "1.2.0",
      "model_name": "LayoutModel",
      "state": {
       "width": "auto"
      }
     },
     "763fe67b4e8341eba76b9d3a058ee334": {
      "model_module": "@jupyter-widgets/base",
      "model_module_version": "1.2.0",
      "model_name": "LayoutModel",
      "state": {}
     },
     "764573feeea54b2f971040d3197b61b6": {
      "model_module": "@jupyter-widgets/base",
      "model_module_version": "1.2.0",
      "model_name": "LayoutModel",
      "state": {}
     },
     "76db7c9b18db4d4b8749b9e60f84bd23": {
      "model_module": "@jupyter-widgets/controls",
      "model_module_version": "1.5.0",
      "model_name": "SliderStyleModel",
      "state": {
       "description_width": "initial"
      }
     },
     "76f18090cc4a403187fd8c0f6b54f33d": {
      "model_module": "@jupyter-widgets/controls",
      "model_module_version": "1.5.0",
      "model_name": "DropdownModel",
      "state": {
       "_options_labels": [
        "C:\\Users\\dominiquef\\Documents\\GIT\\mira\\geoapps\\docs\\content\\applications",
        "C:\\Users\\dominiquef\\Documents\\GIT\\mira\\geoapps\\docs\\content",
        "C:\\Users\\dominiquef\\Documents\\GIT\\mira\\geoapps\\docs",
        "C:\\Users\\dominiquef\\Documents\\GIT\\mira\\geoapps",
        "C:\\Users\\dominiquef\\Documents\\GIT\\mira",
        "C:\\Users\\dominiquef\\Documents\\GIT",
        "C:\\Users\\dominiquef\\Documents",
        "C:\\Users\\dominiquef",
        "C:\\Users",
        "C:\\",
        "D:\\",
        "Z:\\"
       ],
       "index": 0,
       "layout": "IPY_MODEL_3ad797275c244b739818c86c1ea2d15b",
       "style": "IPY_MODEL_4b0a8b33c63a4ea6aae7dd2f4fdbe07b"
      }
     },
     "7709184dac6349929131424f0e61ee79": {
      "model_module": "@jupyter-widgets/base",
      "model_module_version": "1.2.0",
      "model_name": "LayoutModel",
      "state": {}
     },
     "779d161a80244475a0597bcdfbf00c2b": {
      "model_module": "@jupyter-widgets/controls",
      "model_module_version": "1.5.0",
      "model_name": "DropdownModel",
      "state": {
       "_options_labels": [
        "C:\\Users\\dominiquef\\Documents\\GIT\\mira\\geoapps\\docs\\content\\applications",
        "C:\\Users\\dominiquef\\Documents\\GIT\\mira\\geoapps\\docs\\content",
        "C:\\Users\\dominiquef\\Documents\\GIT\\mira\\geoapps\\docs",
        "C:\\Users\\dominiquef\\Documents\\GIT\\mira\\geoapps",
        "C:\\Users\\dominiquef\\Documents\\GIT\\mira",
        "C:\\Users\\dominiquef\\Documents\\GIT",
        "C:\\Users\\dominiquef\\Documents",
        "C:\\Users\\dominiquef",
        "C:\\Users",
        "C:\\",
        "D:\\",
        "Z:\\"
       ],
       "index": 0,
       "layout": "IPY_MODEL_ba036f3827f04e7dbb1b067faa09e180",
       "style": "IPY_MODEL_a425b2b07d0a44019d6f2e29141c96a4"
      }
     },
     "77d9c05d122b40978926a1e4551633f8": {
      "model_module": "@jupyter-widgets/controls",
      "model_module_version": "1.5.0",
      "model_name": "VBoxModel",
      "state": {
       "children": [
        "IPY_MODEL_11cec09379d045e3a7d760b474b74f8f"
       ],
       "layout": "IPY_MODEL_6b1bf11f8e8146f4b682ab8121c1e304"
      }
     },
     "7861e1e0953a42f49d163175143cc28d": {
      "model_module": "@jupyter-widgets/controls",
      "model_module_version": "1.5.0",
      "model_name": "DescriptionStyleModel",
      "state": {
       "description_width": ""
      }
     },
     "787ae2beee2f45c8a223f4b1dbfba4c8": {
      "model_module": "@jupyter-widgets/base",
      "model_module_version": "1.2.0",
      "model_name": "LayoutModel",
      "state": {}
     },
     "79247f30aedf4a04a31495c69f07cd1e": {
      "model_module": "@jupyter-widgets/base",
      "model_module_version": "1.2.0",
      "model_name": "LayoutModel",
      "state": {}
     },
     "799656c73ac94d7eb0b3740bebdb4bd3": {
      "model_module": "@jupyter-widgets/controls",
      "model_module_version": "1.5.0",
      "model_name": "DescriptionStyleModel",
      "state": {
       "description_width": ""
      }
     },
     "7a2a3d05dd87450ea3e7bff6c52bc688": {
      "model_module": "@jupyter-widgets/controls",
      "model_module_version": "1.5.0",
      "model_name": "SelectModel",
      "state": {
       "_options_labels": [
        "..",
        "dask-worker-space",
        "images"
       ],
       "index": null,
       "layout": "IPY_MODEL_2b78f938f5c94a05a55d715a52a23ac7",
       "rows": 8,
       "style": "IPY_MODEL_d5b88e7ded3a4d0db800db73c8d5fd5e"
      }
     },
     "7a865eb7069d42c3806865703ab38192": {
      "model_module": "@jupyter-widgets/base",
      "model_module_version": "1.2.0",
      "model_name": "LayoutModel",
      "state": {}
     },
     "7ac7d5bcc38d4234a702b36115fd1126": {
      "model_module": "@jupyter-widgets/controls",
      "model_module_version": "1.5.0",
      "model_name": "DescriptionStyleModel",
      "state": {
       "description_width": ""
      }
     },
     "7b3ac8ee365243a08f1b071b84b8beb3": {
      "model_module": "@jupyter-widgets/controls",
      "model_module_version": "1.5.0",
      "model_name": "VBoxModel",
      "state": {
       "children": [
        "IPY_MODEL_c8756867af6048f2b1573189c00dd039",
        "IPY_MODEL_dce7ce132b51411a9780386a664dc163"
       ],
       "layout": "IPY_MODEL_137c063162b34232a356c61aa2feb600"
      }
     },
     "7b7a998703eb4be0b735507b4bd301fe": {
      "model_module": "@jupyter-widgets/controls",
      "model_module_version": "1.5.0",
      "model_name": "VBoxModel",
      "state": {
       "children": [
        "IPY_MODEL_d2574d30b92b4671a7c99f2163dea91c",
        "IPY_MODEL_a9dfc08b9a934baa9042b45f26a956aa"
       ],
       "layout": "IPY_MODEL_3f294a3fb32049118926c7e1b5cf1710"
      }
     },
     "7be1cf9487614f628e4707819f06018c": {
      "model_module": "@jupyter-widgets/base",
      "model_module_version": "1.2.0",
      "model_name": "LayoutModel",
      "state": {
       "grid_area": "pathlist",
       "width": "auto"
      }
     },
     "7c4f8f011ba445fd98e09f909628380a": {
      "model_module": "@jupyter-widgets/controls",
      "model_module_version": "1.5.0",
      "model_name": "DropdownModel",
      "state": {
       "_options_labels": [
        "",
        "-- Groups --",
        "early",
        "middle",
        "middle + late",
        "late",
        "early + middle",
        "Observed",
        "early + middle + late"
       ],
       "description": "Group Name:",
       "index": 4,
       "layout": "IPY_MODEL_467bdbc2e6af43fcbe22ad11d6506f37",
       "style": "IPY_MODEL_4063f283fec341e8ba7f65afe470ca8a"
      }
     },
     "7c6875d370d14a7198b6b01ec7e0c192": {
      "model_module": "@jupyter-widgets/controls",
      "model_module_version": "1.5.0",
      "model_name": "HBoxModel",
      "state": {
       "children": [
        "IPY_MODEL_9443d3ec6a33483f81e0923578261744",
        "IPY_MODEL_5c914c73c92449e9bf7628c336786034"
       ],
       "layout": "IPY_MODEL_b806fd9f3eda4587b20f26a6183ce014"
      }
     },
     "7d4b441523874d7080c2ce7d01ba96db": {
      "model_module": "@jupyter-widgets/base",
      "model_module_version": "1.2.0",
      "model_name": "LayoutModel",
      "state": {}
     },
     "7d9c4982bc86433fb7fb8d60a85fcfda": {
      "model_module": "@jupyter-widgets/controls",
      "model_module_version": "1.5.0",
      "model_name": "CheckboxModel",
      "state": {
       "description": "TEM Data",
       "disabled": false,
       "layout": "IPY_MODEL_6d88c0ec9d524cc4a3bbc04b860de4d5",
       "style": "IPY_MODEL_1d0dd3f1b43248a7ae01fb67f5eeb02c",
       "value": true
      }
     },
     "7f1ef0a65f9243a1b1464e19559657cd": {
      "model_module": "@jupyter-widgets/base",
      "model_module_version": "1.2.0",
      "model_name": "LayoutModel",
      "state": {}
     },
     "7f9e4bb260e3490f8ad35ff1b5c9005d": {
      "model_module": "@jupyter-widgets/controls",
      "model_module_version": "1.5.0",
      "model_name": "DescriptionStyleModel",
      "state": {
       "description_width": ""
      }
     },
     "7fabbbe6e1154e7cb9372e4cb200e0cb": {
      "model_module": "@jupyter-widgets/base",
      "model_module_version": "1.2.0",
      "model_name": "LayoutModel",
      "state": {
       "width": "auto"
      }
     },
     "7fb5cf9d68fd4699a655efe17cb11938": {
      "model_module": "@jupyter-widgets/controls",
      "model_module_version": "1.5.0",
      "model_name": "VBoxModel",
      "state": {
       "children": [
        "IPY_MODEL_c5ac79e7f6ab4013b74002a25ec7ba7a",
        "IPY_MODEL_2fd55fa78ede46c5a1a9ba0e6a7dcdd3"
       ],
       "layout": "IPY_MODEL_886eed06d64e4fd1a67f18661d8da4a9"
      }
     },
     "802e6f6a7bb8429aa59a186846037a9b": {
      "model_module": "@jupyter-widgets/controls",
      "model_module_version": "1.5.0",
      "model_name": "VBoxModel",
      "state": {
       "children": [
        "IPY_MODEL_473cf522a6d448e7bac3be02f1d0640f",
        "IPY_MODEL_c8138ca45cec41bf84a0545adb1fa143",
        "IPY_MODEL_5661cd17f46b4f6396aba0793bffa6fe",
        "IPY_MODEL_ddb158dde90d45e8927807839bfcc97b",
        "IPY_MODEL_8caba3f4a7f44464bf6fecaf4b689db0",
        "IPY_MODEL_de7397e305fd4cf698b31fefd318e283",
        "IPY_MODEL_31d7fb20521849368a39431b20b4e223",
        "IPY_MODEL_77d9c05d122b40978926a1e4551633f8"
       ],
       "layout": "IPY_MODEL_a3392731ea684f13880511a9eeb33f8c"
      }
     },
     "80ff0a6b5ba241629987694ecb7bb1ae": {
      "model_module": "@jupyter-widgets/controls",
      "model_module_version": "1.5.0",
      "model_name": "GridBoxModel",
      "state": {
       "children": [
        "IPY_MODEL_5346b282c131470db8c8340c1ef77ce7",
        "IPY_MODEL_ecae29578e5743b6b802cc363c54a611",
        "IPY_MODEL_a7facbc258964d81a112646dc9bf9394"
       ],
       "layout": "IPY_MODEL_acd64056e1d545afbb9e0ae24b9a5adc"
      }
     },
     "81ded2d585c74d28935b9b1ea3c50b89": {
      "model_module": "@jupyter-widgets/base",
      "model_module_version": "1.2.0",
      "model_name": "LayoutModel",
      "state": {}
     },
     "82294d11e7fb42e5966fa41de8a04ee0": {
      "model_module": "@jupyter-widgets/controls",
      "model_module_version": "1.5.0",
      "model_name": "DescriptionStyleModel",
      "state": {
       "description_width": ""
      }
     },
     "82513b4c5c1c458a8f34199c8ac35553": {
      "model_module": "@jupyter-widgets/base",
      "model_module_version": "1.2.0",
      "model_name": "LayoutModel",
      "state": {}
     },
     "82e51cd207504c449b1f8f25f66e27e2": {
      "model_module": "@jupyter-widgets/controls",
      "model_module_version": "1.5.0",
      "model_name": "FloatSliderModel",
      "state": {
       "continuous_update": false,
       "description": "Window Center",
       "layout": "IPY_MODEL_104da4fd31524080883eafafc37e6844",
       "max": 5000,
       "style": "IPY_MODEL_b7e41fb687e94d8d90fd31a770c347af",
       "value": 4041.2
      }
     },
     "83df4d1639ca4762b83db54da5764809": {
      "model_module": "@jupyter-widgets/controls",
      "model_module_version": "1.5.0",
      "model_name": "FloatSliderModel",
      "state": {
       "continuous_update": false,
       "description": "Window Center",
       "layout": "IPY_MODEL_7a865eb7069d42c3806865703ab38192",
       "max": 5000,
       "style": "IPY_MODEL_b4e5f2d1e475440e82a05faeb4e247c8",
       "value": 4041.2
      }
     },
     "843495a21cc94c668c84ef8b957cd363": {
      "model_module": "@jupyter-widgets/controls",
      "model_module_version": "1.5.0",
      "model_name": "VBoxModel",
      "state": {
       "children": [
        "IPY_MODEL_616aebc27c044f86a6126d6fe4fe8c13",
        "IPY_MODEL_de465198ed7c44328c3747dc334b0f1e"
       ],
       "layout": "IPY_MODEL_2bd335683eee4467bad1dfcd6d7e8f6a"
      }
     },
     "84a23af21fae47589aaf99f70b5fa6c0": {
      "model_module": "@jupyter-widgets/controls",
      "model_module_version": "1.5.0",
      "model_name": "DescriptionStyleModel",
      "state": {
       "description_width": "initial"
      }
     },
     "84c539de3b11492e89d18b9fe954a108": {
      "model_module": "@jupyter-widgets/controls",
      "model_module_version": "1.5.0",
      "model_name": "DescriptionStyleModel",
      "state": {
       "description_width": ""
      }
     },
     "84d33ce1eb344f47b061e9e26446a5bf": {
      "model_module": "@jupyter-widgets/base",
      "model_module_version": "1.2.0",
      "model_name": "LayoutModel",
      "state": {}
     },
     "855740fd3ec14d269863e94aabbed16a": {
      "model_module": "@jupyter-widgets/controls",
      "model_module_version": "1.5.0",
      "model_name": "DescriptionStyleModel",
      "state": {
       "description_width": ""
      }
     },
     "85d58d47c53a4e0ca83897c75a86463c": {
      "model_module": "@jupyter-widgets/base",
      "model_module_version": "1.2.0",
      "model_name": "LayoutModel",
      "state": {
       "width": "auto"
      }
     },
     "85f160fa2a44407996bf39af7f0901ef": {
      "model_module": "@jupyter-widgets/controls",
      "model_module_version": "1.5.0",
      "model_name": "DescriptionStyleModel",
      "state": {
       "description_width": ""
      }
     },
     "866764b97ec54b3d8032aa7b5cdfc023": {
      "model_module": "@jupyter-widgets/base",
      "model_module_version": "1.2.0",
      "model_name": "LayoutModel",
      "state": {
       "width": "auto"
      }
     },
     "866f02a8451c46f1bfe30d573cf28f72": {
      "model_module": "@jupyter-widgets/controls",
      "model_module_version": "1.5.0",
      "model_name": "ButtonStyleModel",
      "state": {}
     },
     "86c16693784d42afb7ee2bb370f32168": {
      "model_module": "@jupyter-widgets/controls",
      "model_module_version": "1.5.0",
      "model_name": "DropdownModel",
      "state": {
       "_options_labels": [
        "",
        "-- Groups --",
        "Observed",
        "early",
        "middle",
        "late",
        "early + middle",
        "early + middle + late",
        "middle + late"
       ],
       "description": "Group Name:",
       "index": 7,
       "layout": "IPY_MODEL_f4029415f9224f51b00730a662667871",
       "style": "IPY_MODEL_3831b20b42e644049c2fbede5968c95a"
      }
     },
     "877a4ec8c53a44ac86b5ced58e5478bf": {
      "model_module": "@jupyter-widgets/base",
      "model_module_version": "1.2.0",
      "model_name": "LayoutModel",
      "state": {}
     },
     "879129ed1b814afcb5ada7b231bf6cd5": {
      "model_module": "@jupyter-widgets/output",
      "model_module_version": "1.0.0",
      "model_name": "OutputModel",
      "state": {
       "layout": "IPY_MODEL_993b1d0c04c64e588719209a429f686b",
       "outputs": [
        {
         "data": {
          "image/png": "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\n",
          "text/plain": "<Figure size 864x432 with 1 Axes>"
         },
         "metadata": {
          "needs_background": "light"
         },
         "output_type": "display_data"
        }
       ]
      }
     },
     "8793273aac814580ba606b43e459701a": {
      "model_module": "@jupyter-widgets/controls",
      "model_module_version": "1.5.0",
      "model_name": "HBoxModel",
      "state": {
       "children": [
        "IPY_MODEL_b6ffd88576ce470d93818d0b512febbe",
        "IPY_MODEL_f139e97f3fc14987afa56986cc763356",
        "IPY_MODEL_43c0e53a81984486811c46ca10557d55"
       ],
       "layout": "IPY_MODEL_cf10c12fdd7c410bb02b4f9ad92be0c1"
      }
     },
     "886b842d118546edb710dcf57285ca49": {
      "model_module": "@jupyter-widgets/controls",
      "model_module_version": "1.5.0",
      "model_name": "ButtonStyleModel",
      "state": {}
     },
     "886eed06d64e4fd1a67f18661d8da4a9": {
      "model_module": "@jupyter-widgets/base",
      "model_module_version": "1.2.0",
      "model_name": "LayoutModel",
      "state": {}
     },
     "88864e717d6640d89f32badbd7c1a8d9": {
      "model_module": "@jupyter-widgets/controls",
      "model_module_version": "1.5.0",
      "model_name": "DescriptionStyleModel",
      "state": {
       "description_width": ""
      }
     },
     "88955de141394307ae84db6ebd277201": {
      "model_module": "@jupyter-widgets/base",
      "model_module_version": "1.2.0",
      "model_name": "LayoutModel",
      "state": {}
     },
     "889af7154e2e4fe5a47cde4f824c8ee2": {
      "model_module": "@jupyter-widgets/base",
      "model_module_version": "1.2.0",
      "model_name": "LayoutModel",
      "state": {
       "grid_area": "pathlist",
       "width": "auto"
      }
     },
     "893249c209b249828a45d1b5a3ac55ba": {
      "model_module": "@jupyter-widgets/controls",
      "model_module_version": "1.5.0",
      "model_name": "DescriptionStyleModel",
      "state": {
       "description_width": "initial"
      }
     },
     "89ccc1f086184535a65078af912f6e35": {
      "model_module": "@jupyter-widgets/controls",
      "model_module_version": "1.5.0",
      "model_name": "VBoxModel",
      "state": {
       "children": [
        "IPY_MODEL_9a158413a4924868b3bb5b14aca776f8"
       ],
       "layout": "IPY_MODEL_a708f8a3634b41f7803121546dc2e743"
      }
     },
     "89cd581e9c374224b8be90e8a30b2b4c": {
      "model_module": "@jupyter-widgets/base",
      "model_module_version": "1.2.0",
      "model_name": "LayoutModel",
      "state": {}
     },
     "89d64c7541674786b51790b558e516ea": {
      "model_module": "@jupyter-widgets/base",
      "model_module_version": "1.2.0",
      "model_name": "LayoutModel",
      "state": {
       "width": "auto"
      }
     },
     "8a3d4d907052449a827705a3f553b8eb": {
      "model_module": "@jupyter-widgets/base",
      "model_module_version": "1.2.0",
      "model_name": "LayoutModel",
      "state": {}
     },
     "8a64a5bee57b43cb82158d9862ea80e2": {
      "model_module": "@jupyter-widgets/controls",
      "model_module_version": "1.5.0",
      "model_name": "ToggleButtonsModel",
      "state": {
       "_options_labels": [
        "linear",
        "symlog"
       ],
       "button_style": "",
       "description": "Y-axis scaling",
       "icons": [],
       "index": 1,
       "layout": "IPY_MODEL_5785893bfd3b413ca3e9b345d0e18a0c",
       "style": "IPY_MODEL_3cc5bbebb26b422b856eaf440c3df394",
       "tooltips": []
      }
     },
     "8ac0d2c9173e4473b00749778d1acbf9": {
      "model_module": "@jupyter-widgets/base",
      "model_module_version": "1.2.0",
      "model_name": "LayoutModel",
      "state": {}
     },
     "8af66eb3a7b844d6a1177f51727e6211": {
      "model_module": "@jupyter-widgets/controls",
      "model_module_version": "1.5.0",
      "model_name": "DescriptionStyleModel",
      "state": {
       "description_width": ""
      }
     },
     "8b901978d90349a7b1be05eb329d04d4": {
      "model_module": "@jupyter-widgets/base",
      "model_module_version": "1.2.0",
      "model_name": "LayoutModel",
      "state": {}
     },
     "8b92978f5d924604af11feaccfcf590b": {
      "model_module": "@jupyter-widgets/controls",
      "model_module_version": "1.5.0",
      "model_name": "LabelModel",
      "state": {
       "layout": "IPY_MODEL_efa6f5b769224963b61eb5798cdcb331",
       "style": "IPY_MODEL_3885fc37877c4bd59ce8817fd5cf8130",
       "value": "Monitoring folder"
      }
     },
     "8bdab50924034e50969f65ad89131ab0": {
      "model_module": "@jupyter-widgets/controls",
      "model_module_version": "1.5.0",
      "model_name": "DropdownModel",
      "state": {
       "_options_labels": [
        "1353.7",
        "1358.7",
        "1563.5",
        "1593.5",
        "1723.4",
        "1898.2",
        "2013.1",
        "2332.8",
        "2362.8",
        "2762.4",
        "2802.4",
        "2832.4",
        "2957.2",
        "2987.2",
        "3596.6",
        "3616.6",
        "4041.2",
        "4071.2",
        "4106.2",
        "4151.1",
        "4181.1"
       ],
       "description": "Select Peak",
       "index": 16,
       "layout": "IPY_MODEL_cdbbd656fc98451cacaab33ee374642e",
       "style": "IPY_MODEL_671805771b284cfc8ae921b8dfeeabaa"
      }
     },
     "8c36bd1c77f24b6bb3359c77a11948b9": {
      "model_module": "@jupyter-widgets/controls",
      "model_module_version": "1.5.0",
      "model_name": "VBoxModel",
      "state": {
       "children": [
        "IPY_MODEL_e5cfa47c25c34418b2bd65fe2a460bf7",
        "IPY_MODEL_ef53c319ca274a63981990f288a97a57"
       ],
       "layout": "IPY_MODEL_9d7e672a864540cebf2fb6ce5035706f"
      }
     },
     "8c8043def13749ae95a88c1a0f7b2bc0": {
      "model_module": "@jupyter-widgets/controls",
      "model_module_version": "1.5.0",
      "model_name": "DescriptionStyleModel",
      "state": {
       "description_width": ""
      }
     },
     "8caae8f4044f4ade92779484e918c943": {
      "model_module": "@jupyter-widgets/output",
      "model_module_version": "1.0.0",
      "model_name": "OutputModel",
      "state": {
       "layout": "IPY_MODEL_8e99980cc0bd45e69a348a18c1a3464e",
       "outputs": [
        {
         "data": {
          "image/png": "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\n",
          "text/plain": "<Figure size 576x576 with 1 Axes>"
         },
         "metadata": {
          "needs_background": "light"
         },
         "output_type": "display_data"
        }
       ]
      }
     },
     "8caba3f4a7f44464bf6fecaf4b689db0": {
      "model_module": "@jupyter-widgets/controls",
      "model_module_version": "1.5.0",
      "model_name": "HBoxModel",
      "state": {
       "children": [
        "IPY_MODEL_90a4935b7ae040afb548f1febd73e286",
        "IPY_MODEL_62cb30bb767943c9a55f2ffa14db1503"
       ],
       "layout": "IPY_MODEL_51669e629360445c8883e21d4c24bd23"
      }
     },
     "8cce24f462be4f0aa7ac9e5bc195f13e": {
      "model_module": "@jupyter-widgets/controls",
      "model_module_version": "1.5.0",
      "model_name": "FloatSliderModel",
      "state": {
       "continuous_update": false,
       "description": "Window Width",
       "layout": "IPY_MODEL_4a7b3ed6f3944fc0ad8ff88c21203e29",
       "max": 5000,
       "style": "IPY_MODEL_be142d5bc73941b58e28688c40888f1f",
       "value": 1000
      }
     },
     "8e17c8b65a6043b38c966c5fde231e76": {
      "model_module": "@jupyter-widgets/base",
      "model_module_version": "1.2.0",
      "model_name": "LayoutModel",
      "state": {}
     },
     "8e99980cc0bd45e69a348a18c1a3464e": {
      "model_module": "@jupyter-widgets/base",
      "model_module_version": "1.2.0",
      "model_name": "LayoutModel",
      "state": {}
     },
     "8edbd9e811d841c28366178dc0603c30": {
      "model_module": "@jupyter-widgets/controls",
      "model_module_version": "1.5.0",
      "model_name": "ToggleButtonModel",
      "state": {
       "button_style": "warning",
       "description": "Flip Y (-1x)",
       "layout": "IPY_MODEL_d89b10af43bf427f83c854b7ea448db0",
       "style": "IPY_MODEL_d89efab16ed343f8a443979e080677ed"
      }
     },
     "8f12e35a5e304ee98e1ae3eb1ea5aacf": {
      "model_module": "@jupyter-widgets/base",
      "model_module_version": "1.2.0",
      "model_name": "LayoutModel",
      "state": {}
     },
     "8f97c52111bd460a847db28da3bacde5": {
      "model_module": "@jupyter-widgets/controls",
      "model_module_version": "1.5.0",
      "model_name": "DescriptionStyleModel",
      "state": {
       "description_width": ""
      }
     },
     "8ff701e841fa4621a45c040c9ace49b6": {
      "model_module": "@jupyter-widgets/base",
      "model_module_version": "1.2.0",
      "model_name": "LayoutModel",
      "state": {
       "grid_area": "pathlist",
       "width": "auto"
      }
     },
     "90209be1f46c499688b7b948c15dde32": {
      "model_module": "@jupyter-widgets/controls",
      "model_module_version": "1.5.0",
      "model_name": "ButtonModel",
      "state": {
       "description": "Change",
       "layout": "IPY_MODEL_00e555e3b8754f4f8d405a1c4548d8f0",
       "style": "IPY_MODEL_5b8964d8aa42484aacb3dc3568c9dfdd"
      }
     },
     "903f71959da6403b802c4dd69f4c4a1c": {
      "model_module": "@jupyter-widgets/controls",
      "model_module_version": "1.5.0",
      "model_name": "HBoxModel",
      "state": {
       "children": [
        "IPY_MODEL_544a783400f048dfa5cf17c0f76f3442",
        "IPY_MODEL_b313dc3a1d2f4637b211341a67d710cc"
       ],
       "layout": "IPY_MODEL_4fbf3452f0484314b10e3032a5f77af9"
      }
     },
     "9083ab258b1f423188623a8dc6656da4": {
      "model_module": "@jupyter-widgets/base",
      "model_module_version": "1.2.0",
      "model_name": "LayoutModel",
      "state": {}
     },
     "90a4935b7ae040afb548f1febd73e286": {
      "model_module": "@jupyter-widgets/controls",
      "model_module_version": "1.5.0",
      "model_name": "ToggleButtonModel",
      "state": {
       "description": "Use/Create Default",
       "layout": "IPY_MODEL_88955de141394307ae84db6ebd277201",
       "style": "IPY_MODEL_482b9d736b014764ba41b7cf7edf85e3",
       "value": true
      }
     },
     "90c9858aa65c424dbff1a6f7c63d8aad": {
      "model_module": "@jupyter-widgets/controls",
      "model_module_version": "1.5.0",
      "model_name": "ToggleButtonModel",
      "state": {
       "layout": "IPY_MODEL_f488eeb68f87409b99783a7d77df0e6b",
       "style": "IPY_MODEL_67ce596eef0341f789c70bf8cf8a9444"
      }
     },
     "90f9ad041f734a52a5ec3b6cc0548ea3": {
      "model_module": "@jupyter-widgets/controls",
      "model_module_version": "1.5.0",
      "model_name": "DropdownModel",
      "state": {
       "_options_labels": [
        "",
        "-- Groups --",
        "early",
        "middle",
        "middle + late",
        "late",
        "early + middle",
        "Observed",
        "early + middle + late"
       ],
       "description": "Group Name:",
       "index": 6,
       "layout": "IPY_MODEL_9f8d00454ba440c38ef410e44118b352",
       "style": "IPY_MODEL_9427ecb912424f9780923611d4aea1e8"
      }
     },
     "912146a6cf8047f2b272cc233ff495f7": {
      "model_module": "@jupyter-widgets/controls",
      "model_module_version": "1.5.0",
      "model_name": "ButtonStyleModel",
      "state": {}
     },
     "9156ab7406ff427f906d46ff921ebdbd": {
      "model_module": "@jupyter-widgets/controls",
      "model_module_version": "1.5.0",
      "model_name": "DescriptionStyleModel",
      "state": {
       "description_width": ""
      }
     },
     "916c8d38f741407d9775c301b5a8f57a": {
      "model_module": "@jupyter-widgets/controls",
      "model_module_version": "1.5.0",
      "model_name": "DescriptionStyleModel",
      "state": {
       "description_width": ""
      }
     },
     "918edddf03bb4bb19b12794a6b4e8f1b": {
      "model_module": "@jupyter-widgets/base",
      "model_module_version": "1.2.0",
      "model_name": "LayoutModel",
      "state": {
       "display": "none",
       "grid_gap": "0px 0px",
       "grid_template_areas": "\n                    'pathlist filename'\n                    'dircontent dircontent'\n                    ",
       "grid_template_columns": "60% 40%",
       "grid_template_rows": "auto auto",
       "width": "500px"
      }
     },
     "9283e7109c23430aae79d1803a9a0aef": {
      "model_module": "@jupyter-widgets/base",
      "model_module_version": "1.2.0",
      "model_name": "LayoutModel",
      "state": {}
     },
     "93ab7e07a0564acb935cc538e9f01fdc": {
      "model_module": "@jupyter-widgets/controls",
      "model_module_version": "1.5.0",
      "model_name": "VBoxModel",
      "state": {
       "children": [
        "IPY_MODEL_3487435a03064b25a28a3002aec9bfb2",
        "IPY_MODEL_aa3dc6de79fc4e338cf06aa8e88c98f3",
        "IPY_MODEL_a01fee18a7b8413484901ab83e146d4c"
       ],
       "layout": "IPY_MODEL_6bae206ec1dc4a34af60b96c05486198"
      }
     },
     "9427ecb912424f9780923611d4aea1e8": {
      "model_module": "@jupyter-widgets/controls",
      "model_module_version": "1.5.0",
      "model_name": "DescriptionStyleModel",
      "state": {
       "description_width": ""
      }
     },
     "94423b9ec2834f91af07297a6b0d8ae5": {
      "model_module": "@jupyter-widgets/controls",
      "model_module_version": "1.5.0",
      "model_name": "DescriptionStyleModel",
      "state": {
       "description_width": "initial"
      }
     },
     "9443d3ec6a33483f81e0923578261744": {
      "model_module": "@jupyter-widgets/controls",
      "model_module_version": "1.5.0",
      "model_name": "VBoxModel",
      "state": {
       "children": [
        "IPY_MODEL_a0b8d14b757a4f85918fab0fbaceb510",
        "IPY_MODEL_71afa0295e694b838c1bd961f22e3280"
       ],
       "layout": "IPY_MODEL_c0fda62824bd4ff6a08ff231833ae2bd"
      }
     },
     "94956031f18743cd9e0e174c63759784": {
      "model_module": "@jupyter-widgets/controls",
      "model_module_version": "1.5.0",
      "model_name": "ButtonStyleModel",
      "state": {}
     },
     "95908c71b8174a598969c1cf10918037": {
      "model_module": "@jupyter-widgets/controls",
      "model_module_version": "1.5.0",
      "model_name": "ButtonModel",
      "state": {
       "button_style": "danger",
       "description": "Compute",
       "icon": "check",
       "layout": "IPY_MODEL_bad0a4614548497193064034ee3313aa",
       "style": "IPY_MODEL_912146a6cf8047f2b272cc233ff495f7",
       "tooltip": "Run computation"
      }
     },
     "95e6ee40b2e4414aad3d90d15f6705f4": {
      "model_module": "@jupyter-widgets/controls",
      "model_module_version": "1.5.0",
      "model_name": "ToggleButtonModel",
      "state": {
       "layout": "IPY_MODEL_c7993803ee034c0e91bb9b45024ef2bf",
       "style": "IPY_MODEL_d72e1b052e1240c78d1e5e3a49c6a963",
       "value": true
      }
     },
     "96096eb1df8d4beb9bf9de747f3bd5de": {
      "model_module": "@jupyter-widgets/base",
      "model_module_version": "1.2.0",
      "model_name": "LayoutModel",
      "state": {}
     },
     "961c79ec20e243e58e75808d24c7c52a": {
      "model_module": "@jupyter-widgets/controls",
      "model_module_version": "1.5.0",
      "model_name": "DescriptionStyleModel",
      "state": {
       "description_width": ""
      }
     },
     "96bad1dcd5c4484dac0536c0fafc7634": {
      "model_module": "@jupyter-widgets/controls",
      "model_module_version": "1.5.0",
      "model_name": "TextModel",
      "state": {
       "disabled": true,
       "layout": "IPY_MODEL_37ade297a70f4cac830960475ae96c86",
       "placeholder": "output filename",
       "style": "IPY_MODEL_e4e4c335e8be460799149b0a7bd40525"
      }
     },
     "970b249945e8415bb2221d6cfcb05aad": {
      "model_module": "@jupyter-widgets/base",
      "model_module_version": "1.2.0",
      "model_name": "LayoutModel",
      "state": {
       "width": "50%"
      }
     },
     "97161fbd64e54fe09ac4edaa70154757": {
      "model_module": "@jupyter-widgets/base",
      "model_module_version": "1.2.0",
      "model_name": "LayoutModel",
      "state": {}
     },
     "971fa6b17e4f4d198c6122683ffd1ec1": {
      "model_module": "@jupyter-widgets/controls",
      "model_module_version": "1.5.0",
      "model_name": "VBoxModel",
      "state": {
       "children": [
        "IPY_MODEL_39164f55c22d4304a0fba4b7cbad6430",
        "IPY_MODEL_1888d502a5cc4df4bde0ca6f89eb88c9",
        "IPY_MODEL_63ae1bb8f1534c1eab1b16247122f8dc"
       ],
       "layout": "IPY_MODEL_6c04cd7fd91649ee9095648aaf75ab4e"
      }
     },
     "97700460d29a4a5289b885eb615781fe": {
      "model_module": "@jupyter-widgets/controls",
      "model_module_version": "1.5.0",
      "model_name": "DescriptionStyleModel",
      "state": {
       "description_width": "initial"
      }
     },
     "97779cdf8bc2420497930029e9f87f92": {
      "model_module": "@jupyter-widgets/controls",
      "model_module_version": "1.5.0",
      "model_name": "DropdownModel",
      "state": {
       "_options_labels": [
        "",
        "Workspace/CDI_VTEM_model",
        "Workspace/Data_FEM_pseudo3D",
        "Workspace/Data_TEM_pseudo3D",
        "Workspace/Data_ZTEM"
       ],
       "description": "Object:",
       "index": 3,
       "layout": "IPY_MODEL_ad78952c56b14bcabe7dadb1a9bed904",
       "style": "IPY_MODEL_13c1c677a423439a8e2ec66462e8861d"
      }
     },
     "977ea0b604a048599a10f348e81c55a4": {
      "model_module": "@jupyter-widgets/controls",
      "model_module_version": "1.5.0",
      "model_name": "ToggleButtonModel",
      "state": {
       "description": "Show markers",
       "layout": "IPY_MODEL_aeb22732355c4650aa45dd8fc06f08d1",
       "style": "IPY_MODEL_b6df30a696f940058b4c088a46f6e445",
       "value": true
      }
     },
     "97a77b1f9297413a82ce53b3e50e4004": {
      "model_module": "@jupyter-widgets/controls",
      "model_module_version": "1.5.0",
      "model_name": "VBoxModel",
      "state": {
       "children": [
        "IPY_MODEL_29218374268645e0aaac76aff296c0de"
       ],
       "layout": "IPY_MODEL_54f12d0a92f6456d8e59846cef73d1e4"
      }
     },
     "993b1d0c04c64e588719209a429f686b": {
      "model_module": "@jupyter-widgets/base",
      "model_module_version": "1.2.0",
      "model_name": "LayoutModel",
      "state": {}
     },
     "99806277239e4f1988d2aff6afdb7ed9": {
      "model_module": "@jupyter-widgets/controls",
      "model_module_version": "1.5.0",
      "model_name": "IntSliderModel",
      "state": {
       "continuous_update": false,
       "description": "Minimum # channels",
       "layout": "IPY_MODEL_84d33ce1eb344f47b061e9e26446a5bf",
       "max": 10,
       "min": 1,
       "style": "IPY_MODEL_707413a7fb654cdbaa8d69ce2e28fb55",
       "value": 1
      }
     },
     "9a158413a4924868b3bb5b14aca776f8": {
      "model_module": "@jupyter-widgets/controls",
      "model_module_version": "1.5.0",
      "model_name": "ToggleButtonModel",
      "state": {
       "description": "Show decay",
       "layout": "IPY_MODEL_c45bda4032b54c42bda20f7c1b2126c9",
       "style": "IPY_MODEL_56d17a8478f341cfb33c6d219fa68582"
      }
     },
     "9a692aa9279a401286a90c03ceacdb5c": {
      "model_module": "@jupyter-widgets/base",
      "model_module_version": "1.2.0",
      "model_name": "LayoutModel",
      "state": {
       "width": "auto"
      }
     },
     "9ce2433903ea4b4a8e3f9987a09b4439": {
      "model_module": "@jupyter-widgets/base",
      "model_module_version": "1.2.0",
      "model_name": "LayoutModel",
      "state": {}
     },
     "9d2e8da830ca45a89a7f74546083ab01": {
      "model_module": "@jupyter-widgets/base",
      "model_module_version": "1.2.0",
      "model_name": "LayoutModel",
      "state": {}
     },
     "9d7e672a864540cebf2fb6ce5035706f": {
      "model_module": "@jupyter-widgets/base",
      "model_module_version": "1.2.0",
      "model_name": "LayoutModel",
      "state": {
       "border": "solid"
      }
     },
     "9d98e75b037f4e34ab18669c6e0e32e7": {
      "model_module": "@jupyter-widgets/controls",
      "model_module_version": "1.5.0",
      "model_name": "DescriptionStyleModel",
      "state": {
       "description_width": ""
      }
     },
     "9e303ceabb5444bda13017394b2b52ca": {
      "model_module": "@jupyter-widgets/controls",
      "model_module_version": "1.5.0",
      "model_name": "SelectModel",
      "state": {
       "_options_labels": [
        "..",
        "dask-worker-space",
        "images"
       ],
       "index": null,
       "layout": "IPY_MODEL_59b28f33b7324c7f8b164eb6449dcdec",
       "rows": 8,
       "style": "IPY_MODEL_0f7a346a5e8a4f478722d8bab6b12883"
      }
     },
     "9e3fe124fc614ccb94f214a09c96dae6": {
      "model_module": "@jupyter-widgets/controls",
      "model_module_version": "1.5.0",
      "model_name": "DescriptionStyleModel",
      "state": {
       "description_width": ""
      }
     },
     "9e53360c3b30439faabd39c56caa0419": {
      "model_module": "@jupyter-widgets/controls",
      "model_module_version": "1.5.0",
      "model_name": "DescriptionStyleModel",
      "state": {
       "description_width": ""
      }
     },
     "9f8d00454ba440c38ef410e44118b352": {
      "model_module": "@jupyter-widgets/base",
      "model_module_version": "1.2.0",
      "model_name": "LayoutModel",
      "state": {}
     },
     "a01fee18a7b8413484901ab83e146d4c": {
      "model_module": "@jupyter-widgets/controls",
      "model_module_version": "1.5.0",
      "model_name": "HBoxModel",
      "state": {
       "children": [
        "IPY_MODEL_494d864e25ac490e9645f3d39ad0b3f9",
        "IPY_MODEL_cce048a33c37405e8f873975329cb768",
        "IPY_MODEL_dc27122356f5482aa2b163aceb617112"
       ],
       "layout": "IPY_MODEL_761fb2c2e52a4bbf8e1f707948b64bf4"
      }
     },
     "a0700c6bfa8f4c9a8b166aeb7136fc83": {
      "model_module": "@jupyter-widgets/base",
      "model_module_version": "1.2.0",
      "model_name": "LayoutModel",
      "state": {}
     },
     "a09f61d69e8f4c919e88ae639e2e991c": {
      "model_module": "@jupyter-widgets/controls",
      "model_module_version": "1.5.0",
      "model_name": "CheckboxModel",
      "state": {
       "description": "Show residual",
       "disabled": false,
       "layout": "IPY_MODEL_89cd581e9c374224b8be90e8a30b2b4c",
       "style": "IPY_MODEL_7ac7d5bcc38d4234a702b36115fd1126",
       "value": false
      }
     },
     "a0b8d14b757a4f85918fab0fbaceb510": {
      "model_module": "@jupyter-widgets/controls",
      "model_module_version": "1.5.0",
      "model_name": "LabelModel",
      "state": {
       "layout": "IPY_MODEL_6771555e695f4063af1be9e7a6b1cef6",
       "style": "IPY_MODEL_10d9827bf3bf419c9e5f34b0b984caa4",
       "value": "Visual Parameters"
      }
     },
     "a0c8186bbcb5434fa10252db688c6701": {
      "model_module": "@jupyter-widgets/controls",
      "model_module_version": "1.5.0",
      "model_name": "HBoxModel",
      "state": {
       "children": [
        "IPY_MODEL_ff848e2e441d46a7a6edc04d4ffa9d6e",
        "IPY_MODEL_45e7d115375640738b668e84b0d8b0a4",
        "IPY_MODEL_a82533e9aa2c46d8b5c6b0008a2283b4"
       ],
       "layout": "IPY_MODEL_9a692aa9279a401286a90c03ceacdb5c"
      }
     },
     "a104b5338e854d0d87a2604db545b751": {
      "model_module": "@jupyter-widgets/controls",
      "model_module_version": "1.5.0",
      "model_name": "ColorPickerModel",
      "state": {
       "description": "Color",
       "disabled": false,
       "layout": "IPY_MODEL_215e8cbebeeb4c1c8a3c3c4e746270f3",
       "style": "IPY_MODEL_8c8043def13749ae95a88c1a0f7b2bc0",
       "value": "#00FFFF"
      }
     },
     "a122e162d0c04995b6956e2ac70e6769": {
      "model_module": "@jupyter-widgets/base",
      "model_module_version": "1.2.0",
      "model_name": "LayoutModel",
      "state": {}
     },
     "a1748d4adfb54bfea4fccc5fa3f71356": {
      "model_module": "@jupyter-widgets/controls",
      "model_module_version": "1.5.0",
      "model_name": "VBoxModel",
      "state": {
       "children": [
        "IPY_MODEL_c7824c0318f54abf835eea76c8442a7c",
        "IPY_MODEL_d16c7540677e4812b65079f44e749747",
        "IPY_MODEL_2dcdfe8810c64680b76ee260c48fdc8e",
        "IPY_MODEL_c0ffa19e966446329d78fb607ed67ea8",
        "IPY_MODEL_6e44abb8c15e405b8859085648d21811",
        "IPY_MODEL_74e359884040456c88400c900c0408db",
        "IPY_MODEL_a09f61d69e8f4c919e88ae639e2e991c"
       ],
       "layout": "IPY_MODEL_e95f03bfc77a42dc976d7c9df50f8330"
      }
     },
     "a1d473b3273e4adda7f8c5a36db04382": {
      "model_module": "@jupyter-widgets/base",
      "model_module_version": "1.2.0",
      "model_name": "LayoutModel",
      "state": {
       "width": "50%"
      }
     },
     "a1ea101cbf4b48b68b8b48590884038c": {
      "model_module": "@jupyter-widgets/controls",
      "model_module_version": "1.5.0",
      "model_name": "HTMLModel",
      "state": {
       "layout": "IPY_MODEL_4100c41df7534e96933dc41537ea3d02",
       "placeholder": "",
       "style": "IPY_MODEL_41fb7fb8ff56474cbd5b67e8f9cba2d1",
       "value": "<span style=\"margin-left:10px; color:orange;\">C:\\Users\\dominiquef\\Documents\\GIT\\mira\\geoapps\\assets\\FlinFlon.geoh5</span>"
      }
     },
     "a21b79aa57f74af48b09b479241b5ac3": {
      "model_module": "@jupyter-widgets/controls",
      "model_module_version": "1.5.0",
      "model_name": "GridBoxModel",
      "state": {
       "children": [
        "IPY_MODEL_17bfc7627d95403f8af9d521f170f70d",
        "IPY_MODEL_38582315db8b46179537e12751139471",
        "IPY_MODEL_26ba2760a38e4a8d804976dbfe349a55"
       ],
       "layout": "IPY_MODEL_0c501de399c64fcb8bde8db8389fa832"
      }
     },
     "a247fcab9ed045f9a676f3730b417597": {
      "model_module": "@jupyter-widgets/base",
      "model_module_version": "1.2.0",
      "model_name": "LayoutModel",
      "state": {}
     },
     "a30c16e4b8b949aaa73de052102f0439": {
      "model_module": "@jupyter-widgets/base",
      "model_module_version": "1.2.0",
      "model_name": "LayoutModel",
      "state": {}
     },
     "a3392731ea684f13880511a9eeb33f8c": {
      "model_module": "@jupyter-widgets/base",
      "model_module_version": "1.2.0",
      "model_name": "LayoutModel",
      "state": {}
     },
     "a33d7da3457645e084d550135dd0ebc0": {
      "model_module": "@jupyter-widgets/base",
      "model_module_version": "1.2.0",
      "model_name": "LayoutModel",
      "state": {}
     },
     "a3447a865ddd417683d0aaa8df959c58": {
      "model_module": "@jupyter-widgets/controls",
      "model_module_version": "1.5.0",
      "model_name": "SliderStyleModel",
      "state": {
       "description_width": "initial"
      }
     },
     "a3a3d9fc40774b5497bf35bdca8f393c": {
      "model_module": "@jupyter-widgets/controls",
      "model_module_version": "1.5.0",
      "model_name": "DropdownModel",
      "state": {
       "_options_labels": [
        "",
        "CDI/ELEV[4]_surface",
        "CDI/ELEV_surface",
        "CDI/CDI_",
        "CDI/COND[21]_surface",
        "CDI/COND[11]_surface",
        "CDI/COND[23]_surface",
        "Faults_Dikes/fault_splay1",
        "Faults_Dikes/fault_Cliff_Lake",
        "Faults_Dikes/fault_Other_FlinFlon",
        "Faults_Dikes/fault_Club_Lake_splay",
        "Faults_Dikes/fault_Catherine_splay2",
        "Faults_Dikes/fault_Birch_View",
        "Faults_Dikes/fault_Dion_Lake",
        "Faults_Dikes/fault_FlinFlon_splay",
        "Faults_Dikes/fault_West_Mandy_Road",
        "Faults_Dikes/fault_Channing",
        "Faults_Dikes/fault_Ross_Lake",
        "Faults_Dikes/fault_Louis_Hidden",
        "Faults_Dikes/fault_Lake_View_thrust",
        "Faults_Dikes/contact_Schist_Lake",
        "Faults_Dikes/fault_Burley_Lake",
        "Faults_Dikes/fault_Dion_Lake_splay",
        "Faults_Dikes/fault_Green_Lake",
        "Faults_Dikes/fault_FlinFlon",
        "Faults_Dikes/fault_Catherine_splay1",
        "Faults_Dikes/fault_East_Mandy_Road",
        "Faults_Dikes/fault_Other_FlinFlon_South",
        "Faults_Dikes/fault_Catherine_splay4",
        "Faults_Dikes/contact_Stitt_Island",
        "Faults_Dikes/fault_Club_Lake",
        "Faults_Dikes/fault_Tailing_Pond",
        "Horizons/35_Hidden_Reservoir_Hr5",
        "Horizons/29_Hidden_Reservoir_Hr1a",
        "Horizons/60_BlueLagoon_Fb2",
        "Horizons/20_FlinFlon_Undivided_Int_Dykes_D2f",
        "Horizons/04_Boundary_Intrusive_S4h",
        "Horizons/53_Millrock_Rhyolite_Fm4b",
        "Horizons/19_FlinFlon_Undivided_Int_Dykes_D2b",
        "Horizons/18_FlinFlon_Undivided_Int_Dykes_777_D2b",
        "Horizons/06_Phantom_Lake_Intrusive_S3a",
        "Horizons/21_FlinFlon_Undivided_Int_Dykes_D3a",
        "Horizons/43_Millrock_CHLSH_South",
        "Horizons/56_Millrock_Basalt_Fm1ba",
        "Horizons/17_FlinFlon_Undivided_Int_Dykes_D2",
        "Horizons/32_Hidden_Reservoir_Hr1b_SW",
        "Horizons/11_Missi_M3_NE",
        "Horizons/13_Missi_M1",
        "Horizons/07_Annabel_Granitoid_S1",
        "Horizons/45_Millrock_Gabbro_South",
        "Horizons/01_Late_Intrusive_S5b",
        "Horizons/31_Hidden_Reservoir_Hr1c_SW",
        "Horizons/52_Millrock_Rhyolite_Fm4_West_check",
        "Horizons/55_Millrock_Basalt_Fm1bf",
        "Horizons/34_Hidden_Reservoir_Hr2b",
        "Horizons/03_Boundary_Intrusive_S4b",
        "Horizons/42_Millrock_CHLSH_North",
        "Horizons/26_Louis_L3",
        "Horizons/23_FlinFlon_Undivided_Int_Felsic_D4g",
        "Horizons/30_Hidden_Reservoir_Hr1b",
        "Horizons/59_BlueLagoon_Fb3",
        "Horizons/49_Millrock_MVR_Fm5d",
        "Horizons/44_Millrock_Gabbro_North",
        "Horizons/27_Hidden_Carlisle_Hc4",
        "Horizons/22_FlinFlon_Undivided_Int_Felsic_D4e",
        "Horizons/02_Boundary_Intrusive_S4a",
        "Horizons/61_BlueLagoon_Fb1_NW",
        "Horizons/05_Boundary_Intrusive_S4g",
        "Ore/39_Ore_Callinan",
        "Ore/38_Ore_Dan_Owens",
        "Ore/40_Ore_FlinFlon",
        "Workspace/Inversion_VTEM_Model",
        "Workspace/Gravity_Magnetics_drape60m",
        "Workspace/CDI_VTEM_model",
        "Workspace/Data_FEM_pseudo3D",
        "Workspace/O2O_Interp_25m",
        "Workspace/geochem",
        "Workspace/Inversion_DIGHEM_Model",
        "Workspace/Topography",
        "Workspace/Data_TEM_pseudo3D",
        "Workspace/Data_ZTEM",
        "Workspace/Mesh"
       ],
       "description": "Object:",
       "index": 0,
       "layout": "IPY_MODEL_1957fe5a3236470c86cdfd1bd069b476",
       "style": "IPY_MODEL_de2fea6d513545109b0f0164a3c1202e"
      }
     },
     "a412cbb634034f209bea64d33544a51e": {
      "model_module": "@jupyter-widgets/controls",
      "model_module_version": "1.5.0",
      "model_name": "DescriptionStyleModel",
      "state": {
       "description_width": "initial"
      }
     },
     "a425b2b07d0a44019d6f2e29141c96a4": {
      "model_module": "@jupyter-widgets/controls",
      "model_module_version": "1.5.0",
      "model_name": "DescriptionStyleModel",
      "state": {
       "description_width": ""
      }
     },
     "a66793b4b9d8450aa7f6f3c41cf110ff": {
      "model_module": "@jupyter-widgets/controls",
      "model_module_version": "1.5.0",
      "model_name": "VBoxModel",
      "state": {
       "children": [
        "IPY_MODEL_e3fe2b24bfcc415a96192a9849fc1a68",
        "IPY_MODEL_cd828a3675a54efa87ade48ce5e67cd7"
       ],
       "layout": "IPY_MODEL_143b5aa88e4c4ffe9270b3d8475611fe"
      }
     },
     "a682e01fff86440a88ac4f4a92ecb041": {
      "model_module": "@jupyter-widgets/base",
      "model_module_version": "1.2.0",
      "model_name": "LayoutModel",
      "state": {
       "grid_area": "filename",
       "width": "auto"
      }
     },
     "a6a565f7552e4473b7e9a966367479ec": {
      "model_module": "@jupyter-widgets/controls",
      "model_module_version": "1.5.0",
      "model_name": "DescriptionStyleModel",
      "state": {
       "description_width": ""
      }
     },
     "a708f8a3634b41f7803121546dc2e743": {
      "model_module": "@jupyter-widgets/base",
      "model_module_version": "1.2.0",
      "model_name": "LayoutModel",
      "state": {}
     },
     "a736299477434685965fcac85b60bd42": {
      "model_module": "@jupyter-widgets/controls",
      "model_module_version": "1.5.0",
      "model_name": "ToggleButtonModel",
      "state": {
       "description": "Show decay",
       "layout": "IPY_MODEL_18dd7fdb6ebf46d08ab62415a0669fa9",
       "style": "IPY_MODEL_beac9d3307e24355b7d06d16fe335902"
      }
     },
     "a7facbc258964d81a112646dc9bf9394": {
      "model_module": "@jupyter-widgets/controls",
      "model_module_version": "1.5.0",
      "model_name": "SelectModel",
      "state": {
       "_options_labels": [
        "..",
        "dask-worker-space",
        "images",
        "GEOSCIENCEtemp",
        "Octree_Mesh.ui.json",
        "PeakFinder.ui.json",
        "base_application.ipynb",
        "calculator.ipynb",
        "clustering.ipynb",
        "contouring.ipynb",
        "coordinate_transformation.ipynb",
        "create_isosurface.ipynb",
        "create_octree.ipynb",
        "create_surface.ipynb",
        "data_interpolation.ipynb",
        "edge_detection.ipynb",
        "export.ipynb",
        "geophysical_inversion.ipynb",
        "object_data_selection.ipynb",
        "peak_finder.ipynb",
        "scatter.ipynb",
        "temp.py",
        "view_selection.ipynb"
       ],
       "index": null,
       "layout": "IPY_MODEL_2e684c2f95174af0a5177ffb83dfd9b0",
       "rows": 8,
       "style": "IPY_MODEL_3237cab2f6d64dceafa2ecc80103ed5b"
      }
     },
     "a81f4d9976824d9e98f559dd36c24cab": {
      "model_module": "@jupyter-widgets/controls",
      "model_module_version": "1.5.0",
      "model_name": "DescriptionStyleModel",
      "state": {
       "description_width": ""
      }
     },
     "a823da7fa9bc4d76a07e9f3ff3f2e62c": {
      "model_module": "@jupyter-widgets/base",
      "model_module_version": "1.2.0",
      "model_name": "LayoutModel",
      "state": {
       "width": "auto"
      }
     },
     "a82533e9aa2c46d8b5c6b0008a2283b4": {
      "model_module": "@jupyter-widgets/controls",
      "model_module_version": "1.5.0",
      "model_name": "HTMLModel",
      "state": {
       "layout": "IPY_MODEL_0b3f7718816b415dae072d35ed53d469",
       "placeholder": "",
       "style": "IPY_MODEL_599a3fd5617e46548edfbba280260581",
       "value": "<span style=\"margin-left:10px; color:black;\">No file selected</span>"
      }
     },
     "a9dfc08b9a934baa9042b45f26a956aa": {
      "model_module": "@jupyter-widgets/controls",
      "model_module_version": "1.5.0",
      "model_name": "VBoxModel",
      "state": {
       "children": [
        "IPY_MODEL_6b1f36750e584b9588b942a728e0630c",
        "IPY_MODEL_a21b79aa57f74af48b09b479241b5ac3",
        "IPY_MODEL_ab2d1c269baa47acb6fff84e657eda05"
       ],
       "layout": "IPY_MODEL_0bab7989508b4bcfbce379905e7ace46"
      }
     },
     "aa3dc6de79fc4e338cf06aa8e88c98f3": {
      "model_module": "@jupyter-widgets/controls",
      "model_module_version": "1.5.0",
      "model_name": "GridBoxModel",
      "state": {
       "children": [
        "IPY_MODEL_b9a8eb05c7c646ffaaa95f813a7b0dbd",
        "IPY_MODEL_3383504bf00946069dfae6afd932de80",
        "IPY_MODEL_e744ffd466664229a19c71653f36ab73"
       ],
       "layout": "IPY_MODEL_dc9e37b9253042f8833853e799b916f0"
      }
     },
     "ab27262d4a5446ec8acce61d1fb98f64": {
      "model_module": "@jupyter-widgets/controls",
      "model_module_version": "1.5.0",
      "model_name": "ToggleButtonModel",
      "state": {
       "description": "Pick nearest target",
       "layout": "IPY_MODEL_347e1ee5e28b4a7a84c23fc3b8991471",
       "style": "IPY_MODEL_549449f8c55e41aebd74a135fc08aedf",
       "value": true
      }
     },
     "ab2d1c269baa47acb6fff84e657eda05": {
      "model_module": "@jupyter-widgets/controls",
      "model_module_version": "1.5.0",
      "model_name": "HBoxModel",
      "state": {
       "children": [
        "IPY_MODEL_02593c563a7e40f4940487942f4eb322",
        "IPY_MODEL_bcff7cb1a7354347923a622493f35603",
        "IPY_MODEL_af3e6d3d6de5464f8d3d83c0794c0fdc"
       ],
       "layout": "IPY_MODEL_3fdc8423770e4a5886ad70a27ab18249"
      }
     },
     "abc024167a8146179b93d171b79b484f": {
      "model_module": "@jupyter-widgets/controls",
      "model_module_version": "1.5.0",
      "model_name": "DescriptionStyleModel",
      "state": {
       "description_width": ""
      }
     },
     "abd5cae2351e404898fc183f0f5357a8": {
      "model_module": "@jupyter-widgets/base",
      "model_module_version": "1.2.0",
      "model_name": "LayoutModel",
      "state": {
       "display": "none"
      }
     },
     "ac23276b6c8647e384bfa0cf732f0333": {
      "model_module": "@jupyter-widgets/controls",
      "model_module_version": "1.5.0",
      "model_name": "ColorPickerModel",
      "state": {
       "description": "Color",
       "disabled": false,
       "layout": "IPY_MODEL_08e16e2eac0b4a8f90a1545d1c4bf372",
       "style": "IPY_MODEL_fccd39e8c94d4527a9433938b728e2c9",
       "value": "#FF0000"
      }
     },
     "ac29b58a8f354f9db016b401846ef1f8": {
      "model_module": "@jupyter-widgets/controls",
      "model_module_version": "1.5.0",
      "model_name": "FloatSliderModel",
      "state": {
       "continuous_update": false,
       "description": "Window Width",
       "layout": "IPY_MODEL_efc9c7567aeb4924b2fd349318aa34de",
       "max": 5000,
       "style": "IPY_MODEL_760a710ca85341c9823e01e4abc47ea8",
       "value": 1000
      }
     },
     "ac818d72774a415f981986f98d0b6c89": {
      "model_module": "@jupyter-widgets/controls",
      "model_module_version": "1.5.0",
      "model_name": "VBoxModel",
      "state": {
       "children": [
        "IPY_MODEL_cf1a0afe5a24449ab8700e1523e2d86e",
        "IPY_MODEL_5bfa9a665d2048d8afdddaa09ccb9dea",
        "IPY_MODEL_8c36bd1c77f24b6bb3359c77a11948b9",
        "IPY_MODEL_ecf27d9f2d504621bc579ef066992085",
        "IPY_MODEL_a66793b4b9d8450aa7f6f3c41cf110ff",
        "IPY_MODEL_4c0c80a534834ed7a51fdf55b83168de"
       ],
       "layout": "IPY_MODEL_65dda52b8a6041aab0421539620e30a4"
      }
     },
     "acd64056e1d545afbb9e0ae24b9a5adc": {
      "model_module": "@jupyter-widgets/base",
      "model_module_version": "1.2.0",
      "model_name": "LayoutModel",
      "state": {
       "display": "none",
       "grid_gap": "0px 0px",
       "grid_template_areas": "\n                    'pathlist filename'\n                    'dircontent dircontent'\n                    ",
       "grid_template_columns": "60% 40%",
       "grid_template_rows": "auto auto",
       "width": "500px"
      }
     },
     "ace48cb954ce4be78c2e8ac787346f9b": {
      "model_module": "@jupyter-widgets/controls",
      "model_module_version": "1.5.0",
      "model_name": "SliderStyleModel",
      "state": {
       "description_width": "initial"
      }
     },
     "ad155ea9ae1e47dfac295f2708795846": {
      "model_module": "@jupyter-widgets/controls",
      "model_module_version": "1.5.0",
      "model_name": "DropdownModel",
      "state": {
       "_options_labels": [
        "",
        "6071000.0",
        "6071200.0",
        "6071400.0",
        "6071600.0",
        "6071800.0",
        "6072000.0",
        "6072200.0",
        "6072400.0",
        "6072600.0",
        "6072800.0",
        "6073000.0",
        "6073200.0",
        "6073400.0",
        "6073600.0",
        "6073800.0",
        "6074000.0",
        "6074200.0",
        "6074400.0",
        "6074600.0",
        "6074800.0"
       ],
       "description": "Select line:",
       "index": 13,
       "layout": "IPY_MODEL_8ac0d2c9173e4473b00749778d1acbf9",
       "style": "IPY_MODEL_ffbed85dc4844b7aa35a7ee26eb01476"
      }
     },
     "ad327a10a60841beb9790d80a0c436a9": {
      "model_module": "@jupyter-widgets/base",
      "model_module_version": "1.2.0",
      "model_name": "LayoutModel",
      "state": {
       "align_items": "stretch",
       "display": "flex",
       "flex_flow": "row",
       "justify_content": "flex-start",
       "width": "100%"
      }
     },
     "ad57d40768b24dfa99fbb0d8c5d6f5a2": {
      "model_module": "@jupyter-widgets/base",
      "model_module_version": "1.2.0",
      "model_name": "LayoutModel",
      "state": {
       "border": "solid"
      }
     },
     "ad6065f5123143ac9066371a1b7c4742": {
      "model_module": "@jupyter-widgets/controls",
      "model_module_version": "1.5.0",
      "model_name": "ButtonStyleModel",
      "state": {}
     },
     "ad78952c56b14bcabe7dadb1a9bed904": {
      "model_module": "@jupyter-widgets/base",
      "model_module_version": "1.2.0",
      "model_name": "LayoutModel",
      "state": {}
     },
     "adafcaf2b2194ca9896597559d60d415": {
      "model_module": "@jupyter-widgets/controls",
      "model_module_version": "1.5.0",
      "model_name": "ButtonStyleModel",
      "state": {}
     },
     "aeb22732355c4650aa45dd8fc06f08d1": {
      "model_module": "@jupyter-widgets/base",
      "model_module_version": "1.2.0",
      "model_name": "LayoutModel",
      "state": {}
     },
     "aebf7cca9b4c4030866ad18444261aa1": {
      "model_module": "@jupyter-widgets/controls",
      "model_module_version": "1.5.0",
      "model_name": "HBoxModel",
      "state": {
       "children": [
        "IPY_MODEL_082849b0044a4f6cabd261b5e3d92a41",
        "IPY_MODEL_dde40411a4144ac6bac87be88e6ce589"
       ],
       "layout": "IPY_MODEL_c539e48dd0824d3a83336f53459466c6"
      }
     },
     "af214ed300be41d0ab6681a1488c8603": {
      "model_module": "@jupyter-widgets/controls",
      "model_module_version": "1.5.0",
      "model_name": "ButtonStyleModel",
      "state": {}
     },
     "af3e6d3d6de5464f8d3d83c0794c0fdc": {
      "model_module": "@jupyter-widgets/controls",
      "model_module_version": "1.5.0",
      "model_name": "HTMLModel",
      "state": {
       "layout": "IPY_MODEL_c6327b1e5bbd477889b6b5e5d40818d2",
       "placeholder": "",
       "style": "IPY_MODEL_f2ae6b77e8014576b6b9755056627fdb",
       "value": "<span style=\"margin-left:10px; color:black;\">No file selected</span>"
      }
     },
     "affb2141b6e64d44936fb730a8bcddb8": {
      "model_module": "@jupyter-widgets/controls",
      "model_module_version": "1.5.0",
      "model_name": "VBoxModel",
      "state": {
       "children": [
        "IPY_MODEL_60a3ec0b991542c7bf9a1960d8d5c7eb"
       ],
       "layout": "IPY_MODEL_23b196b2ba0044d59c3c2391176e2f9e"
      }
     },
     "b02d2beec0714068b1da4a74c24e3f44": {
      "model_module": "@jupyter-widgets/controls",
      "model_module_version": "1.5.0",
      "model_name": "CheckboxModel",
      "state": {
       "description": "Geoscience ANALYST Pro - Live link",
       "disabled": false,
       "indent": false,
       "layout": "IPY_MODEL_db23de7780cb4bab945add2b1e3cfbd8",
       "style": "IPY_MODEL_20c41d162c8640ce9edf54e4e78c4400",
       "value": false
      }
     },
     "b0cf788795d2492bafa2384fe9c125fb": {
      "model_module": "@jupyter-widgets/controls",
      "model_module_version": "1.5.0",
      "model_name": "DescriptionStyleModel",
      "state": {
       "description_width": ""
      }
     },
     "b1504caf11a14272b636a0becedeedab": {
      "model_module": "@jupyter-widgets/controls",
      "model_module_version": "1.5.0",
      "model_name": "DescriptionStyleModel",
      "state": {
       "description_width": ""
      }
     },
     "b1c476048995439b9a153ca6d69a5122": {
      "model_module": "@jupyter-widgets/controls",
      "model_module_version": "1.5.0",
      "model_name": "LabelModel",
      "state": {
       "layout": "IPY_MODEL_c09e41c4bf1e471382dabb34f5911434",
       "style": "IPY_MODEL_6cae5ba0821041ae942ab0071d1b0f34",
       "value": "Workspace"
      }
     },
     "b1e5694dbbcc432292ab9854c2528fc3": {
      "model_module": "@jupyter-widgets/controls",
      "model_module_version": "1.5.0",
      "model_name": "DescriptionStyleModel",
      "state": {
       "description_width": "initial"
      }
     },
     "b2b029e750b1401faa9a762cf23a4067": {
      "model_module": "@jupyter-widgets/base",
      "model_module_version": "1.2.0",
      "model_name": "LayoutModel",
      "state": {}
     },
     "b313dc3a1d2f4637b211341a67d710cc": {
      "model_module": "@jupyter-widgets/controls",
      "model_module_version": "1.5.0",
      "model_name": "BoxModel",
      "state": {
       "children": [
        "IPY_MODEL_37f11a0dc181436fa1b9c86e9373bfc6"
       ],
       "layout": "IPY_MODEL_57390930e2154d1eb1a1b6b8b136df74"
      }
     },
     "b3b3fceea2344d458a2da0b1b34a1feb": {
      "model_module": "@jupyter-widgets/base",
      "model_module_version": "1.2.0",
      "model_name": "LayoutModel",
      "state": {
       "grid_area": "dircontent",
       "width": "auto"
      }
     },
     "b3f47f772f464ed789e80f9a224a8f0c": {
      "model_module": "@jupyter-widgets/controls",
      "model_module_version": "1.5.0",
      "model_name": "DescriptionStyleModel",
      "state": {
       "description_width": ""
      }
     },
     "b4594a18484e4f55b0007f216a0f3795": {
      "model_module": "@jupyter-widgets/controls",
      "model_module_version": "1.5.0",
      "model_name": "VBoxModel",
      "state": {
       "children": [
        "IPY_MODEL_4bb5d4aa31bf42d8be45f7c6be344a2b",
        "IPY_MODEL_b666034a6051406f869db0828f112eec"
       ],
       "layout": "IPY_MODEL_b6eaf6480c084705808e61a1585df54b"
      }
     },
     "b4750aaf56814952b33bce8e03a9a96e": {
      "model_module": "@jupyter-widgets/base",
      "model_module_version": "1.2.0",
      "model_name": "LayoutModel",
      "state": {}
     },
     "b4e5f2d1e475440e82a05faeb4e247c8": {
      "model_module": "@jupyter-widgets/controls",
      "model_module_version": "1.5.0",
      "model_name": "SliderStyleModel",
      "state": {
       "description_width": "initial"
      }
     },
     "b55f741e61fa4146bd2dad805f3b90ec": {
      "model_module": "@jupyter-widgets/controls",
      "model_module_version": "1.5.0",
      "model_name": "HBoxModel",
      "state": {
       "children": [
        "IPY_MODEL_971fa6b17e4f4d198c6122683ffd1ec1",
        "IPY_MODEL_f84216d494f84a459a334d4eed8d7ba8"
       ],
       "layout": "IPY_MODEL_39b82040f77c4033bf0bd3a7e134ae86"
      }
     },
     "b5ca8ddd8f5045cfaefeef6713d44444": {
      "model_module": "@jupyter-widgets/controls",
      "model_module_version": "1.5.0",
      "model_name": "DescriptionStyleModel",
      "state": {
       "description_width": "initial"
      }
     },
     "b5d0a2b69fdf47e78b31844cfeb9739c": {
      "model_module": "@jupyter-widgets/controls",
      "model_module_version": "1.5.0",
      "model_name": "SliderStyleModel",
      "state": {
       "description_width": "initial"
      }
     },
     "b6234c2fb196492b954101fe2f393c54": {
      "model_module": "@jupyter-widgets/controls",
      "model_module_version": "1.5.0",
      "model_name": "GridBoxModel",
      "state": {
       "children": [
        "IPY_MODEL_41509570717f48548149e7e311159191",
        "IPY_MODEL_cc343c05ba2048e086b894b0e31d6fe8",
        "IPY_MODEL_9e303ceabb5444bda13017394b2b52ca"
       ],
       "layout": "IPY_MODEL_6c3293d100e541dba55c7cf9f9a5eb1e"
      }
     },
     "b666034a6051406f869db0828f112eec": {
      "model_module": "@jupyter-widgets/controls",
      "model_module_version": "1.5.0",
      "model_name": "VBoxModel",
      "state": {
       "children": [
        "IPY_MODEL_b02d2beec0714068b1da4a74c24e3f44"
       ],
       "layout": "IPY_MODEL_a30c16e4b8b949aaa73de052102f0439"
      }
     },
     "b6bc4a8ccb50415dae813d54695f0967": {
      "model_module": "@jupyter-widgets/controls",
      "model_module_version": "1.5.0",
      "model_name": "DescriptionStyleModel",
      "state": {
       "description_width": ""
      }
     },
     "b6df30a696f940058b4c088a46f6e445": {
      "model_module": "@jupyter-widgets/controls",
      "model_module_version": "1.5.0",
      "model_name": "DescriptionStyleModel",
      "state": {
       "description_width": ""
      }
     },
     "b6eaf6480c084705808e61a1585df54b": {
      "model_module": "@jupyter-widgets/base",
      "model_module_version": "1.2.0",
      "model_name": "LayoutModel",
      "state": {}
     },
     "b6ffd88576ce470d93818d0b512febbe": {
      "model_module": "@jupyter-widgets/controls",
      "model_module_version": "1.5.0",
      "model_name": "CheckboxModel",
      "state": {
       "description": "TEM Data",
       "disabled": false,
       "layout": "IPY_MODEL_8b901978d90349a7b1be05eb329d04d4",
       "style": "IPY_MODEL_94423b9ec2834f91af07297a6b0d8ae5",
       "value": true
      }
     },
     "b73c479bd9bc4713a3889c56c5980df8": {
      "model_module": "@jupyter-widgets/base",
      "model_module_version": "1.2.0",
      "model_name": "LayoutModel",
      "state": {}
     },
     "b760ca2f15d840c9ad313d2ba54afa29": {
      "model_module": "@jupyter-widgets/controls",
      "model_module_version": "1.5.0",
      "model_name": "ButtonStyleModel",
      "state": {}
     },
     "b7a191ef70014cc8bb699d22dc2714bc": {
      "model_module": "@jupyter-widgets/controls",
      "model_module_version": "1.5.0",
      "model_name": "DescriptionStyleModel",
      "state": {
       "description_width": ""
      }
     },
     "b7e41fb687e94d8d90fd31a770c347af": {
      "model_module": "@jupyter-widgets/controls",
      "model_module_version": "1.5.0",
      "model_name": "SliderStyleModel",
      "state": {
       "description_width": "initial"
      }
     },
     "b806fd9f3eda4587b20f26a6183ce014": {
      "model_module": "@jupyter-widgets/base",
      "model_module_version": "1.2.0",
      "model_name": "LayoutModel",
      "state": {}
     },
     "b84da2c286854dfe95a37c773f83c181": {
      "model_module": "@jupyter-widgets/controls",
      "model_module_version": "1.5.0",
      "model_name": "DropdownModel",
      "state": {
       "_options_labels": [
        "",
        "-- Groups --",
        "early",
        "middle",
        "middle + late",
        "late",
        "early + middle",
        "Observed",
        "early + middle + late"
       ],
       "description": "Data: ",
       "index": 7,
       "layout": "IPY_MODEL_e9f8527404ba4659b38614714039e575",
       "style": "IPY_MODEL_a412cbb634034f209bea64d33544a51e"
      }
     },
     "b8a3d88b41e340dda0e6b600f5b20372": {
      "model_module": "@jupyter-widgets/controls",
      "model_module_version": "1.5.0",
      "model_name": "LabelModel",
      "state": {
       "layout": "IPY_MODEL_47c52006408848fa8d03872d4756e2f8",
       "style": "IPY_MODEL_6850f4d86ee147f7a0b9ad70c95f636c",
       "value": "Detection Parameters"
      }
     },
     "b8e6efb649b64228973eaac57f68ff3e": {
      "model_module": "@jupyter-widgets/controls",
      "model_module_version": "1.5.0",
      "model_name": "DescriptionStyleModel",
      "state": {
       "description_width": ""
      }
     },
     "b91a35ba60f74795a79ca861c02e24c2": {
      "model_module": "@jupyter-widgets/controls",
      "model_module_version": "1.5.0",
      "model_name": "HTMLModel",
      "state": {
       "layout": "IPY_MODEL_abd5cae2351e404898fc183f0f5357a8",
       "style": "IPY_MODEL_609f26bd14a44dce99ae7a0fd473f14f"
      }
     },
     "b934322765774a6580038dcf0666be0f": {
      "model_module": "@jupyter-widgets/base",
      "model_module_version": "1.2.0",
      "model_name": "LayoutModel",
      "state": {
       "width": "auto"
      }
     },
     "b9a8eb05c7c646ffaaa95f813a7b0dbd": {
      "model_module": "@jupyter-widgets/controls",
      "model_module_version": "1.5.0",
      "model_name": "DropdownModel",
      "state": {
       "_options_labels": [
        "C:\\Users\\dominiquef\\Documents\\GIT\\mira\\geoapps\\assets",
        "C:\\Users\\dominiquef\\Documents\\GIT\\mira\\geoapps",
        "C:\\Users\\dominiquef\\Documents\\GIT\\mira",
        "C:\\Users\\dominiquef\\Documents\\GIT",
        "C:\\Users\\dominiquef\\Documents",
        "C:\\Users\\dominiquef",
        "C:\\Users",
        "C:\\",
        "D:\\",
        "Z:\\"
       ],
       "index": 0,
       "layout": "IPY_MODEL_bc30d0ebce88413587ae3a6a506b9031",
       "style": "IPY_MODEL_137d778437f64f07b377f83180a8a7f2"
      }
     },
     "ba036f3827f04e7dbb1b067faa09e180": {
      "model_module": "@jupyter-widgets/base",
      "model_module_version": "1.2.0",
      "model_name": "LayoutModel",
      "state": {
       "grid_area": "pathlist",
       "width": "auto"
      }
     },
     "ba8bcdcb11684c8d818cc828e1f4b745": {
      "model_module": "@jupyter-widgets/controls",
      "model_module_version": "1.5.0",
      "model_name": "HTMLModel",
      "state": {
       "layout": "IPY_MODEL_d89f3b85815148a38a81a16f0fced208",
       "style": "IPY_MODEL_2d3ba3d5f8f442559acda2ee64afd919"
      }
     },
     "bad0a4614548497193064034ee3313aa": {
      "model_module": "@jupyter-widgets/base",
      "model_module_version": "1.2.0",
      "model_name": "LayoutModel",
      "state": {}
     },
     "bb1be4c4af7e4f37a51b9916d80fcbaf": {
      "model_module": "@jupyter-widgets/base",
      "model_module_version": "1.2.0",
      "model_name": "LayoutModel",
      "state": {}
     },
     "bb8930d6405945dcabe00ad1e5c7dcf9": {
      "model_module": "@jupyter-widgets/base",
      "model_module_version": "1.2.0",
      "model_name": "LayoutModel",
      "state": {}
     },
     "bc08f420d3b64e898fb8e2890f89acef": {
      "model_module": "@jupyter-widgets/controls",
      "model_module_version": "1.5.0",
      "model_name": "SliderStyleModel",
      "state": {
       "description_width": "initial"
      }
     },
     "bc30d0ebce88413587ae3a6a506b9031": {
      "model_module": "@jupyter-widgets/base",
      "model_module_version": "1.2.0",
      "model_name": "LayoutModel",
      "state": {
       "grid_area": "pathlist",
       "width": "auto"
      }
     },
     "bc878131618849cf91bb02400b8616c6": {
      "model_module": "@jupyter-widgets/base",
      "model_module_version": "1.2.0",
      "model_name": "LayoutModel",
      "state": {}
     },
     "bcc26e4979e34c6e8439a1e9d99f9018": {
      "model_module": "@jupyter-widgets/base",
      "model_module_version": "1.2.0",
      "model_name": "LayoutModel",
      "state": {}
     },
     "bcfcf65f882144178e1ae9a3462b8066": {
      "model_module": "@jupyter-widgets/controls",
      "model_module_version": "1.5.0",
      "model_name": "SelectModel",
      "state": {
       "_options_labels": [
        "..",
        "dask-worker-space",
        "images",
        "GEOSCIENCEtemp",
        "Octree_Mesh.ui.json",
        "PeakFinder.ui.json",
        "base_application.ipynb",
        "calculator.ipynb",
        "clustering.ipynb",
        "contouring.ipynb",
        "coordinate_transformation.ipynb",
        "create_isosurface.ipynb",
        "create_octree.ipynb",
        "create_surface.ipynb",
        "data_interpolation.ipynb",
        "edge_detection.ipynb",
        "export.ipynb",
        "geophysical_inversion.ipynb",
        "object_data_selection.ipynb",
        "peak_finder.ipynb",
        "scatter.ipynb",
        "temp.py",
        "view_selection.ipynb"
       ],
       "index": null,
       "layout": "IPY_MODEL_454c35d28410468b90f0788744fd1a9a",
       "rows": 8,
       "style": "IPY_MODEL_855740fd3ec14d269863e94aabbed16a"
      }
     },
     "bcff7cb1a7354347923a622493f35603": {
      "model_module": "@jupyter-widgets/controls",
      "model_module_version": "1.5.0",
      "model_name": "ButtonModel",
      "state": {
       "description": "Cancel",
       "layout": "IPY_MODEL_239869e88e46411db2bad9649b8d610e",
       "style": "IPY_MODEL_480d3352fee642b681b8278078a0354b"
      }
     },
     "bd36b94ea9144ea1b7672c9d8974a2b3": {
      "model_module": "@jupyter-widgets/base",
      "model_module_version": "1.2.0",
      "model_name": "LayoutModel",
      "state": {}
     },
     "be142d5bc73941b58e28688c40888f1f": {
      "model_module": "@jupyter-widgets/controls",
      "model_module_version": "1.5.0",
      "model_name": "SliderStyleModel",
      "state": {
       "description_width": "initial"
      }
     },
     "be8389aee77c45f881eaa4a50170871c": {
      "model_module": "@jupyter-widgets/base",
      "model_module_version": "1.2.0",
      "model_name": "LayoutModel",
      "state": {}
     },
     "beac9d3307e24355b7d06d16fe335902": {
      "model_module": "@jupyter-widgets/controls",
      "model_module_version": "1.5.0",
      "model_name": "DescriptionStyleModel",
      "state": {
       "description_width": ""
      }
     },
     "bed7ab1fbba24cf5ad957ebb265d4a96": {
      "model_module": "@jupyter-widgets/controls",
      "model_module_version": "1.5.0",
      "model_name": "ButtonModel",
      "state": {
       "description": "Cancel",
       "layout": "IPY_MODEL_1493adffd77242dc9853e829a8da5252",
       "style": "IPY_MODEL_0fc60f05972f431b886901ad07d6e46c"
      }
     },
     "bf4439b9ee384a8a82883e9da9a356e9": {
      "model_module": "@jupyter-widgets/controls",
      "model_module_version": "1.5.0",
      "model_name": "ToggleButtonModel",
      "state": {
       "description": "Show markers",
       "layout": "IPY_MODEL_1d29b7ecbf514558b5464d52d8cfdb98",
       "style": "IPY_MODEL_ee5c5c35099849a4b057933c46957a82",
       "value": true
      }
     },
     "bf9ddf60183643a8bf0a57652001d2b3": {
      "model_module": "@jupyter-widgets/base",
      "model_module_version": "1.2.0",
      "model_name": "LayoutModel",
      "state": {}
     },
     "c03b177e93ed45f0ae0695aaa119cb4d": {
      "model_module": "@jupyter-widgets/controls",
      "model_module_version": "1.5.0",
      "model_name": "SliderStyleModel",
      "state": {
       "description_width": "initial"
      }
     },
     "c09e41c4bf1e471382dabb34f5911434": {
      "model_module": "@jupyter-widgets/base",
      "model_module_version": "1.2.0",
      "model_name": "LayoutModel",
      "state": {}
     },
     "c0c21e57c7674a429572fe1b8f27fa9e": {
      "model_module": "@jupyter-widgets/controls",
      "model_module_version": "1.5.0",
      "model_name": "CheckboxModel",
      "state": {
       "description": "All Markers",
       "disabled": false,
       "layout": "IPY_MODEL_ca0aefc540124986b1d4da42ed36396f",
       "style": "IPY_MODEL_38b338dffed246389fa915f1c2246c63",
       "value": false
      }
     },
     "c0fda62824bd4ff6a08ff231833ae2bd": {
      "model_module": "@jupyter-widgets/base",
      "model_module_version": "1.2.0",
      "model_name": "LayoutModel",
      "state": {
       "width": "50%"
      }
     },
     "c0ffa19e966446329d78fb607ed67ea8": {
      "model_module": "@jupyter-widgets/controls",
      "model_module_version": "1.5.0",
      "model_name": "FloatSliderModel",
      "state": {
       "continuous_update": false,
       "description": "Minimum width (m)",
       "layout": "IPY_MODEL_b4750aaf56814952b33bce8e03a9a96e",
       "max": 1000,
       "min": 1,
       "style": "IPY_MODEL_76db7c9b18db4d4b8749b9e60f84bd23",
       "value": 100
      }
     },
     "c14a8e601f1144edb95efe34831e4a81": {
      "model_module": "@jupyter-widgets/controls",
      "model_module_version": "1.5.0",
      "model_name": "DescriptionStyleModel",
      "state": {
       "description_width": "initial"
      }
     },
     "c1c8addf7585460dad4bf4b131e5220d": {
      "model_module": "@jupyter-widgets/controls",
      "model_module_version": "1.5.0",
      "model_name": "HBoxModel",
      "state": {
       "children": [
        "IPY_MODEL_e068c75878e04843af9ae7e40049679b",
        "IPY_MODEL_252f99585a234cb0b3e84481663e7823"
       ],
       "layout": "IPY_MODEL_1a15df30513a41f680b9671627a806d3"
      }
     },
     "c3001acfaaec4be8b31c4f3db1698b26": {
      "model_module": "@jupyter-widgets/base",
      "model_module_version": "1.2.0",
      "model_name": "LayoutModel",
      "state": {}
     },
     "c3c4352e546f4ce2b815e0d24f4eaacc": {
      "model_module": "@jupyter-widgets/base",
      "model_module_version": "1.2.0",
      "model_name": "LayoutModel",
      "state": {
       "width": "auto"
      }
     },
     "c40d12b3ab8246e1aca622ac2c7f657b": {
      "model_module": "@jupyter-widgets/base",
      "model_module_version": "1.2.0",
      "model_name": "LayoutModel",
      "state": {
       "display": "none",
       "grid_area": "filename",
       "width": "auto"
      }
     },
     "c44c4e2c0edd4c7d94760fca24edb014": {
      "model_module": "@jupyter-widgets/controls",
      "model_module_version": "1.5.0",
      "model_name": "DescriptionStyleModel",
      "state": {
       "description_width": "initial"
      }
     },
     "c45bda4032b54c42bda20f7c1b2126c9": {
      "model_module": "@jupyter-widgets/base",
      "model_module_version": "1.2.0",
      "model_name": "LayoutModel",
      "state": {}
     },
     "c4bc041ab46d4de49af186ae5ed78b68": {
      "model_module": "@jupyter-widgets/controls",
      "model_module_version": "1.5.0",
      "model_name": "ColorPickerModel",
      "state": {
       "description": "Color",
       "disabled": false,
       "layout": "IPY_MODEL_dad52b03d7544f32b7a2732fb871525e",
       "style": "IPY_MODEL_2796681f7e8241e2a2ab32f6d86e8b71",
       "value": "#FFA500"
      }
     },
     "c5177889f7c54bd48c6c8f1e6d9c4354": {
      "model_module": "@jupyter-widgets/controls",
      "model_module_version": "1.5.0",
      "model_name": "DescriptionStyleModel",
      "state": {
       "description_width": "initial"
      }
     },
     "c539e48dd0824d3a83336f53459466c6": {
      "model_module": "@jupyter-widgets/base",
      "model_module_version": "1.2.0",
      "model_name": "LayoutModel",
      "state": {}
     },
     "c5ac79e7f6ab4013b74002a25ec7ba7a": {
      "model_module": "@jupyter-widgets/controls",
      "model_module_version": "1.5.0",
      "model_name": "ToggleButtonsModel",
      "state": {
       "_options_labels": [
        "linear",
        "symlog"
       ],
       "button_style": "",
       "description": "Y-axis scaling",
       "icons": [],
       "index": 1,
       "layout": "IPY_MODEL_9ce2433903ea4b4a8e3f9987a09b4439",
       "style": "IPY_MODEL_2b44dedda7184a2587c9417a8e711047",
       "tooltips": []
      }
     },
     "c5dcc0ab6e184200a28c9ecbfce51015": {
      "model_module": "@jupyter-widgets/base",
      "model_module_version": "1.2.0",
      "model_name": "LayoutModel",
      "state": {
       "display": "none",
       "width": "auto"
      }
     },
     "c6327b1e5bbd477889b6b5e5d40818d2": {
      "model_module": "@jupyter-widgets/base",
      "model_module_version": "1.2.0",
      "model_name": "LayoutModel",
      "state": {}
     },
     "c6438522ff3941028a3fadc75fe46070": {
      "model_module": "@jupyter-widgets/controls",
      "model_module_version": "1.5.0",
      "model_name": "VBoxModel",
      "state": {
       "children": [
        "IPY_MODEL_8b92978f5d924604af11feaccfcf590b",
        "IPY_MODEL_c92a913bb4d44356b68dd9839f150c5e"
       ],
       "layout": "IPY_MODEL_bb1be4c4af7e4f37a51b9916d80fcbaf"
      }
     },
     "c687fa18d8554ad383f6e9e55f62fad5": {
      "model_module": "@jupyter-widgets/controls",
      "model_module_version": "1.5.0",
      "model_name": "DescriptionStyleModel",
      "state": {
       "description_width": ""
      }
     },
     "c6ff7de23505437c9fb57b75bbc77be6": {
      "model_module": "@jupyter-widgets/controls",
      "model_module_version": "1.5.0",
      "model_name": "VBoxModel",
      "state": {
       "children": [
        "IPY_MODEL_95908c71b8174a598969c1cf10918037",
        "IPY_MODEL_612e5d8a8c234bfc88be7d666fe0f3d7"
       ],
       "layout": "IPY_MODEL_751c00d196b541b98c98f6a01e634909"
      }
     },
     "c711afc21d754abbb010d52040a9c9a3": {
      "model_module": "@jupyter-widgets/base",
      "model_module_version": "1.2.0",
      "model_name": "LayoutModel",
      "state": {}
     },
     "c743466a5d284419bb2f0c7d6e244619": {
      "model_module": "@jupyter-widgets/controls",
      "model_module_version": "1.5.0",
      "model_name": "DescriptionStyleModel",
      "state": {
       "description_width": "initial"
      }
     },
     "c7824c0318f54abf835eea76c8442a7c": {
      "model_module": "@jupyter-widgets/controls",
      "model_module_version": "1.5.0",
      "model_name": "IntSliderModel",
      "state": {
       "continuous_update": false,
       "description": "Smoothing",
       "layout": "IPY_MODEL_79247f30aedf4a04a31495c69f07cd1e",
       "max": 64,
       "style": "IPY_MODEL_3700bcd1d79f4aa3b902004cb11c95b0",
       "value": 6
      }
     },
     "c7993803ee034c0e91bb9b45024ef2bf": {
      "model_module": "@jupyter-widgets/base",
      "model_module_version": "1.2.0",
      "model_name": "LayoutModel",
      "state": {}
     },
     "c8138ca45cec41bf84a0545adb1fa143": {
      "model_module": "@jupyter-widgets/controls",
      "model_module_version": "1.5.0",
      "model_name": "HBoxModel",
      "state": {
       "children": [
        "IPY_MODEL_61f5b067225642b0a1adbfd822028643",
        "IPY_MODEL_70ba7c13c88041e5a349c78a5e6c6113"
       ],
       "layout": "IPY_MODEL_c3001acfaaec4be8b31c4f3db1698b26"
      }
     },
     "c8191d5bd60c4e92af4b03b5ec174e5c": {
      "model_module": "@jupyter-widgets/controls",
      "model_module_version": "1.5.0",
      "model_name": "DropdownModel",
      "state": {
       "_options_labels": [
        "",
        "--- Channels ---",
        "Sf[12]",
        "Sf[25]",
        "Sf[22]",
        "Sf[16]",
        "Sf[15]",
        "Sf[31]",
        "DEM",
        "Sf[27]",
        "Sf[17]",
        "Sf[35]",
        "Sf[18]",
        "Sf[28]",
        "Sf[9]",
        "Sf[34]",
        "Sf[23]",
        "Sf[30]",
        "Sf[24]",
        "Sf[10]",
        "Sf[32]",
        "Sf[26]",
        "Sf[29]",
        "Sf[14]",
        "Sf[19]",
        "Sf[21]",
        "Sf[13]",
        "Line",
        "Sf[11]",
        "Sf[33]",
        "Sf[20]",
        "X",
        "Y",
        "Z"
       ],
       "description": "Lines field",
       "index": 27,
       "layout": "IPY_MODEL_49b514392c58482e9058ad2c4c321d6d",
       "style": "IPY_MODEL_b5ca8ddd8f5045cfaefeef6713d44444"
      }
     },
     "c85f1c00205c4e3cb977e552879a19a0": {
      "model_module": "@jupyter-widgets/controls",
      "model_module_version": "1.5.0",
      "model_name": "SliderStyleModel",
      "state": {
       "description_width": "initial"
      }
     },
     "c8756867af6048f2b1573189c00dd039": {
      "model_module": "@jupyter-widgets/controls",
      "model_module_version": "1.5.0",
      "model_name": "DropdownModel",
      "state": {
       "_options_labels": [
        "",
        "-- Groups --",
        "Observed",
        "early",
        "middle",
        "late",
        "early + middle",
        "early + middle + late",
        "middle + late"
       ],
       "description": "Group Name:",
       "index": 3,
       "layout": "IPY_MODEL_0bda0d26315541a0b4faa94bcefaeb08",
       "style": "IPY_MODEL_175bbfded45d4a3981cbfac77c69fad7"
      }
     },
     "c8a044ac07ab491c81b85ec34af427da": {
      "model_module": "@jupyter-widgets/controls",
      "model_module_version": "1.5.0",
      "model_name": "SliderStyleModel",
      "state": {
       "description_width": "initial"
      }
     },
     "c8ae28421f8a411c91900ca5af0287c1": {
      "model_module": "@jupyter-widgets/controls",
      "model_module_version": "1.5.0",
      "model_name": "VBoxModel",
      "state": {
       "children": [
        "IPY_MODEL_d7c05da47fce4bbbbe696e3ad336e61c",
        "IPY_MODEL_1041e7aaf750460fa58e7f09c31cb342"
       ],
       "layout": "IPY_MODEL_14d45f7ea79b48d49690a5e002a0cc58"
      }
     },
     "c91a84ae667640a88cfafbc3bd1aa4c0": {
      "model_module": "@jupyter-widgets/base",
      "model_module_version": "1.2.0",
      "model_name": "LayoutModel",
      "state": {}
     },
     "c92a913bb4d44356b68dd9839f150c5e": {
      "model_module": "@jupyter-widgets/controls",
      "model_module_version": "1.5.0",
      "model_name": "VBoxModel",
      "state": {
       "children": [
        "IPY_MODEL_cf617e8f43134b05bb429e53f2d32b49",
        "IPY_MODEL_b6234c2fb196492b954101fe2f393c54",
        "IPY_MODEL_5c65c937bddb42b48b8f65eee33f1737"
       ],
       "layout": "IPY_MODEL_43ac08a86439487c88e380ca65e176bb"
      }
     },
     "c96fc373d53f4fd180db62c7be8b73c1": {
      "model_module": "@jupyter-widgets/controls",
      "model_module_version": "1.5.0",
      "model_name": "ButtonStyleModel",
      "state": {}
     },
     "c97f57e288144be7a48b86dc25c539a2": {
      "model_module": "@jupyter-widgets/controls",
      "model_module_version": "1.5.0",
      "model_name": "FloatSliderModel",
      "state": {
       "continuous_update": false,
       "description": "Max Peak Migration",
       "layout": "IPY_MODEL_6749e75cf8b5452db16d83cf4d93ea4c",
       "max": 1000,
       "min": 1,
       "style": "IPY_MODEL_b5d0a2b69fdf47e78b31844cfeb9739c",
       "value": 25
      }
     },
     "ca0aefc540124986b1d4da42ed36396f": {
      "model_module": "@jupyter-widgets/base",
      "model_module_version": "1.2.0",
      "model_name": "LayoutModel",
      "state": {}
     },
     "cb1d2f979e964b32aebbde72b2c26ac2": {
      "model_module": "@jupyter-widgets/controls",
      "model_module_version": "1.5.0",
      "model_name": "SliderStyleModel",
      "state": {
       "description_width": "initial"
      }
     },
     "cb9b4c7591db42ab9ccb5994f1dbe290": {
      "model_module": "@jupyter-widgets/controls",
      "model_module_version": "1.5.0",
      "model_name": "SliderStyleModel",
      "state": {
       "description_width": "initial"
      }
     },
     "cc343c05ba2048e086b894b0e31d6fe8": {
      "model_module": "@jupyter-widgets/controls",
      "model_module_version": "1.5.0",
      "model_name": "TextModel",
      "state": {
       "disabled": true,
       "layout": "IPY_MODEL_fea7328bd4bb4b2fabd2a6360c288431",
       "placeholder": "output filename",
       "style": "IPY_MODEL_3ff2720cac984401af5d1af16e8a281f"
      }
     },
     "cce048a33c37405e8f873975329cb768": {
      "model_module": "@jupyter-widgets/controls",
      "model_module_version": "1.5.0",
      "model_name": "ButtonModel",
      "state": {
       "description": "Cancel",
       "layout": "IPY_MODEL_f8273a0e63d14daba49db336e884eaa3",
       "style": "IPY_MODEL_adafcaf2b2194ca9896597559d60d415"
      }
     },
     "cd828a3675a54efa87ade48ce5e67cd7": {
      "model_module": "@jupyter-widgets/controls",
      "model_module_version": "1.5.0",
      "model_name": "ColorPickerModel",
      "state": {
       "description": "Color",
       "disabled": false,
       "layout": "IPY_MODEL_f5854d81f16c404c951a334398458815",
       "style": "IPY_MODEL_4bb07bfb217045b395ed0959196da665",
       "value": "#008000"
      }
     },
     "cdbbd656fc98451cacaab33ee374642e": {
      "model_module": "@jupyter-widgets/base",
      "model_module_version": "1.2.0",
      "model_name": "LayoutModel",
      "state": {}
     },
     "cdcb61ef15bb41b591d475fd7ad44366": {
      "model_module": "@jupyter-widgets/controls",
      "model_module_version": "1.5.0",
      "model_name": "SliderStyleModel",
      "state": {
       "description_width": "initial"
      }
     },
     "cdfbc01e3c6f42fc848eb383b7a20fbd": {
      "model_module": "@jupyter-widgets/base",
      "model_module_version": "1.2.0",
      "model_name": "LayoutModel",
      "state": {}
     },
     "ce7158d8af534da7b612ec421d603791": {
      "model_module": "@jupyter-widgets/base",
      "model_module_version": "1.2.0",
      "model_name": "LayoutModel",
      "state": {}
     },
     "ce7aaa79ba56404288ccdd0bf6dfabe5": {
      "model_module": "@jupyter-widgets/controls",
      "model_module_version": "1.5.0",
      "model_name": "ToggleButtonModel",
      "state": {
       "description": "Pick nearest target",
       "layout": "IPY_MODEL_6ca3bd11b4f24ab9abef602b667cd964",
       "style": "IPY_MODEL_ffbde395b8cb4b3ea85b3e86aa42997a",
       "value": true
      }
     },
     "cf10c12fdd7c410bb02b4f9ad92be0c1": {
      "model_module": "@jupyter-widgets/base",
      "model_module_version": "1.2.0",
      "model_name": "LayoutModel",
      "state": {}
     },
     "cf1a0afe5a24449ab8700e1523e2d86e": {
      "model_module": "@jupyter-widgets/controls",
      "model_module_version": "1.5.0",
      "model_name": "VBoxModel",
      "state": {
       "children": [
        "IPY_MODEL_1699d25a50fc4466b95102de5cf909de",
        "IPY_MODEL_343e8ec041054c7a9f64db146f5762b9"
       ],
       "layout": "IPY_MODEL_2f89427c620c4b2588c1cfbf7b7971a6"
      }
     },
     "cf617e8f43134b05bb429e53f2d32b49": {
      "model_module": "@jupyter-widgets/controls",
      "model_module_version": "1.5.0",
      "model_name": "HTMLModel",
      "state": {
       "layout": "IPY_MODEL_51eeb16d7a3641c3a7262f7fd796ae4c",
       "style": "IPY_MODEL_1400e920c9394e678cc16b0d7aa43298"
      }
     },
     "d0673ac249984e3799cc416415c735cb": {
      "model_module": "@jupyter-widgets/controls",
      "model_module_version": "1.5.0",
      "model_name": "VBoxModel",
      "state": {
       "children": [
        "IPY_MODEL_50eb08096aed4da4bdebaa0242abe9e7",
        "IPY_MODEL_5990b3482a214d53a7474c9cdaeb01db",
        "IPY_MODEL_63fa96d2b98e4ccf886572eb2392add2",
        "IPY_MODEL_e16c7f51ab834df3afa5f97ca4eb807c",
        "IPY_MODEL_c97f57e288144be7a48b86dc25c539a2",
        "IPY_MODEL_99806277239e4f1988d2aff6afdb7ed9",
        "IPY_MODEL_d8b7b7d6055c4bcc8a53b3fafede6a3a"
       ],
       "layout": "IPY_MODEL_fce2761520a845ed983b7f845571cc0f"
      }
     },
     "d076722b3af54465ba48ef12aa91076b": {
      "model_module": "@jupyter-widgets/controls",
      "model_module_version": "1.5.0",
      "model_name": "VBoxModel",
      "state": {
       "children": [
        "IPY_MODEL_c6ff7de23505437c9fb57b75bbc77be6",
        "IPY_MODEL_338b691154ec4935baa05fe66448b75a"
       ],
       "layout": "IPY_MODEL_125f2ee3d142411b8fd994670be78d62"
      }
     },
     "d076f0a179e147fc9bf41e7b54c99e7c": {
      "model_module": "@jupyter-widgets/base",
      "model_module_version": "1.2.0",
      "model_name": "LayoutModel",
      "state": {
       "width": "auto"
      }
     },
     "d0a8a494a85f43aa9903b6657615698b": {
      "model_module": "@jupyter-widgets/controls",
      "model_module_version": "1.5.0",
      "model_name": "ToggleButtonsStyleModel",
      "state": {
       "button_width": "",
       "description_width": ""
      }
     },
     "d0fbb36fb89840a496bcbf2de7325c68": {
      "model_module": "@jupyter-widgets/base",
      "model_module_version": "1.2.0",
      "model_name": "LayoutModel",
      "state": {}
     },
     "d16c7540677e4812b65079f44e749747": {
      "model_module": "@jupyter-widgets/controls",
      "model_module_version": "1.5.0",
      "model_name": "IntSliderModel",
      "state": {
       "continuous_update": false,
       "description": "Minimum amplitude (%)",
       "layout": "IPY_MODEL_6168bf8e690a4ea4b027e2a777bc4bd8",
       "style": "IPY_MODEL_f19747ba89b74ddf9eea2c144156310c",
       "value": 1
      }
     },
     "d181bc8fce884a0f9e4bc8b207b6355c": {
      "model_module": "@jupyter-widgets/controls",
      "model_module_version": "1.5.0",
      "model_name": "HTMLModel",
      "state": {
       "layout": "IPY_MODEL_0e3071ae646c424c82b792fb09d246dc",
       "placeholder": "",
       "style": "IPY_MODEL_e461ca2ea7dc41449f352d8aa9d8764e",
       "value": "<span style=\"margin-left:10px; color:black;\">No file selected</span>"
      }
     },
     "d2574d30b92b4671a7c99f2163dea91c": {
      "model_module": "@jupyter-widgets/controls",
      "model_module_version": "1.5.0",
      "model_name": "LabelModel",
      "state": {
       "layout": "IPY_MODEL_7f1ef0a65f9243a1b1464e19559657cd",
       "style": "IPY_MODEL_722b6abb0e274ab2bbc0c929b50cd341",
       "value": "Monitoring folder"
      }
     },
     "d27364bcfa38479e8a84d97d85207b6c": {
      "model_module": "@jupyter-widgets/base",
      "model_module_version": "1.2.0",
      "model_name": "LayoutModel",
      "state": {
       "width": "auto"
      }
     },
     "d2771eae694c4f2aa89e57bd5016740f": {
      "model_module": "@jupyter-widgets/base",
      "model_module_version": "1.2.0",
      "model_name": "LayoutModel",
      "state": {}
     },
     "d2d04f91fff5449abf839d1574aedd55": {
      "model_module": "@jupyter-widgets/controls",
      "model_module_version": "1.5.0",
      "model_name": "DescriptionStyleModel",
      "state": {
       "description_width": ""
      }
     },
     "d340da3eaaf24b5abf2da9f82ab363c6": {
      "model_module": "@jupyter-widgets/controls",
      "model_module_version": "1.5.0",
      "model_name": "SliderStyleModel",
      "state": {
       "description_width": "initial"
      }
     },
     "d369324b4e4d4eb7bfa677b30b3accde": {
      "model_module": "@jupyter-widgets/controls",
      "model_module_version": "1.5.0",
      "model_name": "DescriptionStyleModel",
      "state": {
       "description_width": "initial"
      }
     },
     "d44c7d76ac7447c289bd698f01fa9e8c": {
      "model_module": "@jupyter-widgets/base",
      "model_module_version": "1.2.0",
      "model_name": "LayoutModel",
      "state": {
       "width": "auto"
      }
     },
     "d495a8e7a20a4355b8daa20e17a84b83": {
      "model_module": "@jupyter-widgets/base",
      "model_module_version": "1.2.0",
      "model_name": "LayoutModel",
      "state": {}
     },
     "d49f8a7387cc42dea0fa942faf166033": {
      "model_module": "@jupyter-widgets/controls",
      "model_module_version": "1.5.0",
      "model_name": "DescriptionStyleModel",
      "state": {
       "description_width": "initial"
      }
     },
     "d551388111af42eebdbda17c0390ef46": {
      "model_module": "@jupyter-widgets/controls",
      "model_module_version": "1.5.0",
      "model_name": "LabelModel",
      "state": {
       "layout": "IPY_MODEL_a33d7da3457645e084d550135dd0ebc0",
       "style": "IPY_MODEL_549c19c019264b6da7c1764b56af2299",
       "value": "Workspace"
      }
     },
     "d561e11fefc948eb82b05fda5bd182f7": {
      "model_module": "@jupyter-widgets/base",
      "model_module_version": "1.2.0",
      "model_name": "LayoutModel",
      "state": {
       "width": "50%"
      }
     },
     "d59993013f4140f0be8310dacd561ecb": {
      "model_module": "@jupyter-widgets/base",
      "model_module_version": "1.2.0",
      "model_name": "LayoutModel",
      "state": {
       "display": "none",
       "grid_gap": "0px 0px",
       "grid_template_areas": "\n                    'pathlist pathlist'\n                    'dircontent dircontent'\n                    ",
       "grid_template_columns": "60% 40%",
       "grid_template_rows": "auto auto",
       "width": "500px"
      }
     },
     "d5b88e7ded3a4d0db800db73c8d5fd5e": {
      "model_module": "@jupyter-widgets/controls",
      "model_module_version": "1.5.0",
      "model_name": "DescriptionStyleModel",
      "state": {
       "description_width": ""
      }
     },
     "d62a22a914104c9fae7f1d172b1f5d2d": {
      "model_module": "@jupyter-widgets/base",
      "model_module_version": "1.2.0",
      "model_name": "LayoutModel",
      "state": {}
     },
     "d72e1b052e1240c78d1e5e3a49c6a963": {
      "model_module": "@jupyter-widgets/controls",
      "model_module_version": "1.5.0",
      "model_name": "DescriptionStyleModel",
      "state": {
       "description_width": ""
      }
     },
     "d767606b1e9847dbad6a1ae77fbf9166": {
      "model_module": "@jupyter-widgets/controls",
      "model_module_version": "1.5.0",
      "model_name": "VBoxModel",
      "state": {
       "children": [
        "IPY_MODEL_b1c476048995439b9a153ca6d69a5122",
        "IPY_MODEL_b55f741e61fa4146bd2dad805f3b90ec"
       ],
       "layout": "IPY_MODEL_81ded2d585c74d28935b9b1ea3c50b89"
      }
     },
     "d7c05da47fce4bbbbe696e3ad336e61c": {
      "model_module": "@jupyter-widgets/controls",
      "model_module_version": "1.5.0",
      "model_name": "LabelModel",
      "state": {
       "layout": "IPY_MODEL_4aeec5fa4672486592613f1f7f3e59d1",
       "style": "IPY_MODEL_5d5defbdefbb4d61b731658f0b4c1210",
       "value": "Workspace"
      }
     },
     "d7dce3cf2bde4ceeba5574817874415c": {
      "model_module": "@jupyter-widgets/base",
      "model_module_version": "1.2.0",
      "model_name": "LayoutModel",
      "state": {}
     },
     "d89b10af43bf427f83c854b7ea448db0": {
      "model_module": "@jupyter-widgets/base",
      "model_module_version": "1.2.0",
      "model_name": "LayoutModel",
      "state": {}
     },
     "d89efab16ed343f8a443979e080677ed": {
      "model_module": "@jupyter-widgets/controls",
      "model_module_version": "1.5.0",
      "model_name": "DescriptionStyleModel",
      "state": {
       "description_width": "initial"
      }
     },
     "d89f3b85815148a38a81a16f0fced208": {
      "model_module": "@jupyter-widgets/base",
      "model_module_version": "1.2.0",
      "model_name": "LayoutModel",
      "state": {
       "display": "none"
      }
     },
     "d8a56bcd5329495890d1adc42d7e9b14": {
      "model_module": "@jupyter-widgets/controls",
      "model_module_version": "1.5.0",
      "model_name": "DescriptionStyleModel",
      "state": {
       "description_width": ""
      }
     },
     "d8b7b7d6055c4bcc8a53b3fafede6a3a": {
      "model_module": "@jupyter-widgets/controls",
      "model_module_version": "1.5.0",
      "model_name": "CheckboxModel",
      "state": {
       "description": "Show residual",
       "disabled": false,
       "layout": "IPY_MODEL_0ef04210ff9b497cb3144912db12d8a7",
       "style": "IPY_MODEL_abc024167a8146179b93d171b79b484f",
       "value": false
      }
     },
     "d925e3f4c1f24055b9714f36f3e0eaed": {
      "model_module": "@jupyter-widgets/controls",
      "model_module_version": "1.5.0",
      "model_name": "ButtonStyleModel",
      "state": {}
     },
     "d951081f1f854a2aa8acaaee0e4ad9d3": {
      "model_module": "@jupyter-widgets/controls",
      "model_module_version": "1.5.0",
      "model_name": "DescriptionStyleModel",
      "state": {
       "description_width": ""
      }
     },
     "dad52b03d7544f32b7a2732fb871525e": {
      "model_module": "@jupyter-widgets/base",
      "model_module_version": "1.2.0",
      "model_name": "LayoutModel",
      "state": {}
     },
     "dadfe5905e214d568259ca515b6fb42a": {
      "model_module": "@jupyter-widgets/controls",
      "model_module_version": "1.5.0",
      "model_name": "DescriptionStyleModel",
      "state": {
       "description_width": "initial"
      }
     },
     "daf79a0b6b804ff7b3e05602ace97a91": {
      "model_module": "@jupyter-widgets/controls",
      "model_module_version": "1.5.0",
      "model_name": "TextModel",
      "state": {
       "layout": "IPY_MODEL_71bf3f9e36d34d2ab69e0481c3de7845",
       "placeholder": "output filename",
       "style": "IPY_MODEL_10b3af6cf49b41638bb143d4dc126d02",
       "value": "FlinFlon.geoh5"
      }
     },
     "db23de7780cb4bab945add2b1e3cfbd8": {
      "model_module": "@jupyter-widgets/base",
      "model_module_version": "1.2.0",
      "model_name": "LayoutModel",
      "state": {}
     },
     "db680cc3136d4ea495d4c247a1f3727f": {
      "model_module": "@jupyter-widgets/controls",
      "model_module_version": "1.5.0",
      "model_name": "DescriptionStyleModel",
      "state": {
       "description_width": ""
      }
     },
     "db6f77755afa4278872f264ba446bde3": {
      "model_module": "@jupyter-widgets/base",
      "model_module_version": "1.2.0",
      "model_name": "LayoutModel",
      "state": {}
     },
     "dc27122356f5482aa2b163aceb617112": {
      "model_module": "@jupyter-widgets/controls",
      "model_module_version": "1.5.0",
      "model_name": "HTMLModel",
      "state": {
       "layout": "IPY_MODEL_787ae2beee2f45c8a223f4b1dbfba4c8",
       "placeholder": "",
       "style": "IPY_MODEL_53433d05fafd492b8e43396f85363057",
       "value": "<span style=\"margin-left:10px; color:orange;\">C:\\Users\\dominiquef\\Documents\\GIT\\mira\\geoapps\\assets\\FlinFlon.geoh5</span>"
      }
     },
     "dc9e37b9253042f8833853e799b916f0": {
      "model_module": "@jupyter-widgets/base",
      "model_module_version": "1.2.0",
      "model_name": "LayoutModel",
      "state": {
       "display": "none",
       "grid_gap": "0px 0px",
       "grid_template_areas": "\n                    'pathlist filename'\n                    'dircontent dircontent'\n                    ",
       "grid_template_columns": "60% 40%",
       "grid_template_rows": "auto auto",
       "width": "500px"
      }
     },
     "dcbd2fbd96764fe0a15494ead7cd6d45": {
      "model_module": "@jupyter-widgets/base",
      "model_module_version": "1.2.0",
      "model_name": "LayoutModel",
      "state": {
       "width": "auto"
      }
     },
     "dce7ce132b51411a9780386a664dc163": {
      "model_module": "@jupyter-widgets/controls",
      "model_module_version": "1.5.0",
      "model_name": "ColorPickerModel",
      "state": {
       "description": "Color",
       "disabled": false,
       "layout": "IPY_MODEL_6342ffa5655b4185b1df6980c8da0db9",
       "style": "IPY_MODEL_70fb5b875bf24fc9ae9a8940e69f2458",
       "value": "#0000FF"
      }
     },
     "dd027df3174c4ed88144e485acb800f7": {
      "model_module": "@jupyter-widgets/controls",
      "model_module_version": "1.5.0",
      "model_name": "DropdownModel",
      "state": {
       "_options_labels": [
        "",
        "-- Groups --",
        "early",
        "middle",
        "middle + late",
        "late",
        "early + middle",
        "Observed",
        "early + middle + late"
       ],
       "description": "Group Name:",
       "index": 3,
       "layout": "IPY_MODEL_3cf19c51a9744367b0d30d3b55fac9e5",
       "style": "IPY_MODEL_2e2f91d2898f4386badb2bcd300ca3d8"
      }
     },
     "ddb158dde90d45e8927807839bfcc97b": {
      "model_module": "@jupyter-widgets/controls",
      "model_module_version": "1.5.0",
      "model_name": "LabelModel",
      "state": {
       "layout": "IPY_MODEL_007e06a25a6340e8b8cf2ae946d6f2ce",
       "style": "IPY_MODEL_22c375bf6ff54c57bd0869a5d176e4ed",
       "value": "Groups"
      }
     },
     "dde40411a4144ac6bac87be88e6ce589": {
      "model_module": "@jupyter-widgets/controls",
      "model_module_version": "1.5.0",
      "model_name": "ToggleButtonModel",
      "state": {
       "description": "Group Settings",
       "layout": "IPY_MODEL_d495a8e7a20a4355b8daa20e17a84b83",
       "style": "IPY_MODEL_6baec28cffe34b70901e24e80fa838b0"
      }
     },
     "de2fea6d513545109b0f0164a3c1202e": {
      "model_module": "@jupyter-widgets/controls",
      "model_module_version": "1.5.0",
      "model_name": "DescriptionStyleModel",
      "state": {
       "description_width": ""
      }
     },
     "de465198ed7c44328c3747dc334b0f1e": {
      "model_module": "@jupyter-widgets/controls",
      "model_module_version": "1.5.0",
      "model_name": "VBoxModel",
      "state": {
       "children": [
        "IPY_MODEL_03cc5defbd12459387da856f68ce627b",
        "IPY_MODEL_36e4b23ec3c34e92b0136eef8c5a4cf1",
        "IPY_MODEL_a0c8186bbcb5434fa10252db688c6701"
       ],
       "layout": "IPY_MODEL_d076f0a179e147fc9bf41e7b54c99e7c"
      }
     },
     "de7397e305fd4cf698b31fefd318e283": {
      "model_module": "@jupyter-widgets/output",
      "model_module_version": "1.0.0",
      "model_name": "OutputModel",
      "state": {
       "layout": "IPY_MODEL_9d2e8da830ca45a89a7f74546083ab01",
       "outputs": [
        {
         "data": {
          "image/png": "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\n",
          "text/plain": "<Figure size 864x432 with 1 Axes>"
         },
         "metadata": {
          "needs_background": "light"
         },
         "output_type": "display_data"
        }
       ]
      }
     },
     "e007563a43854d258f04c9c934664569": {
      "model_module": "@jupyter-widgets/controls",
      "model_module_version": "1.5.0",
      "model_name": "DescriptionStyleModel",
      "state": {
       "description_width": ""
      }
     },
     "e068c75878e04843af9ae7e40049679b": {
      "model_module": "@jupyter-widgets/controls",
      "model_module_version": "1.5.0",
      "model_name": "VBoxModel",
      "state": {
       "children": [
        "IPY_MODEL_67a8cdc3a99d4dfdba94177928f94b77",
        "IPY_MODEL_72aa2343da334cd5a99f8351cf80942f",
        "IPY_MODEL_edd57a576e0a403dbbb9b64836d7bf2c"
       ],
       "layout": "IPY_MODEL_70c4e801fc844f7b91a2acd0e66d3085"
      }
     },
     "e07cc83ca1b14583bf42e900a170db08": {
      "model_module": "@jupyter-widgets/controls",
      "model_module_version": "1.5.0",
      "model_name": "DropdownModel",
      "state": {
       "_options_labels": [
        "",
        "-- Groups --",
        "Observed",
        "early",
        "middle",
        "late",
        "early + middle",
        "early + middle + late",
        "middle + late"
       ],
       "description": "Group Name:",
       "index": 4,
       "layout": "IPY_MODEL_8f12e35a5e304ee98e1ae3eb1ea5aacf",
       "style": "IPY_MODEL_916c8d38f741407d9775c301b5a8f57a"
      }
     },
     "e16c7f51ab834df3afa5f97ca4eb807c": {
      "model_module": "@jupyter-widgets/controls",
      "model_module_version": "1.5.0",
      "model_name": "FloatSliderModel",
      "state": {
       "continuous_update": false,
       "description": "Minimum width (m)",
       "layout": "IPY_MODEL_d7dce3cf2bde4ceeba5574817874415c",
       "max": 1000,
       "min": 1,
       "style": "IPY_MODEL_1115d192e5ea44cf8042cdd55ad4d97d",
       "value": 100
      }
     },
     "e1ec5687137540c19b4bbfcd8ceb6e2e": {
      "model_module": "@jupyter-widgets/controls",
      "model_module_version": "1.5.0",
      "model_name": "DescriptionStyleModel",
      "state": {
       "description_width": "initial"
      }
     },
     "e2705e9f2c5943f888da0fafb65044a3": {
      "model_module": "@jupyter-widgets/controls",
      "model_module_version": "1.5.0",
      "model_name": "VBoxModel",
      "state": {
       "children": [
        "IPY_MODEL_b91a35ba60f74795a79ca861c02e24c2",
        "IPY_MODEL_7431558ada9f4690a8caf1ff6e90d7b9",
        "IPY_MODEL_39422c4577ee4d9694fbbf992989cfb6"
       ],
       "layout": "IPY_MODEL_dcbd2fbd96764fe0a15494ead7cd6d45"
      }
     },
     "e39bdcfb27db486b942a717d6e7adb4e": {
      "model_module": "@jupyter-widgets/controls",
      "model_module_version": "1.5.0",
      "model_name": "ButtonStyleModel",
      "state": {}
     },
     "e3ce8b98f78b4b7b88f413ccc74e7faa": {
      "model_module": "@jupyter-widgets/base",
      "model_module_version": "1.2.0",
      "model_name": "LayoutModel",
      "state": {}
     },
     "e3fe2b24bfcc415a96192a9849fc1a68": {
      "model_module": "@jupyter-widgets/controls",
      "model_module_version": "1.5.0",
      "model_name": "DropdownModel",
      "state": {
       "_options_labels": [
        "",
        "-- Groups --",
        "early",
        "middle",
        "middle + late",
        "late",
        "early + middle",
        "Observed",
        "early + middle + late"
       ],
       "description": "Group Name:",
       "index": 8,
       "layout": "IPY_MODEL_2995cfc6dab54a6f929e50fc0d5d9d9a",
       "style": "IPY_MODEL_656c99ff47fc4bd8ad558029b5545761"
      }
     },
     "e461ca2ea7dc41449f352d8aa9d8764e": {
      "model_module": "@jupyter-widgets/controls",
      "model_module_version": "1.5.0",
      "model_name": "DescriptionStyleModel",
      "state": {
       "description_width": ""
      }
     },
     "e4c539a884a341558a1fa7db8f759436": {
      "model_module": "@jupyter-widgets/controls",
      "model_module_version": "1.5.0",
      "model_name": "DescriptionStyleModel",
      "state": {
       "description_width": ""
      }
     },
     "e4e4c335e8be460799149b0a7bd40525": {
      "model_module": "@jupyter-widgets/controls",
      "model_module_version": "1.5.0",
      "model_name": "DescriptionStyleModel",
      "state": {
       "description_width": ""
      }
     },
     "e5008213f6f6419eb7cebb5466d2e613": {
      "model_module": "@jupyter-widgets/controls",
      "model_module_version": "1.5.0",
      "model_name": "ToggleButtonModel",
      "state": {
       "button_style": "warning",
       "description": "Flip Y (-1x)",
       "layout": "IPY_MODEL_35ef96b7b9b74bffa50d248cf444e5bd",
       "style": "IPY_MODEL_1ea3d53c6d4c43f39450e7332eae3eb3"
      }
     },
     "e5221da19ba44b9eb21b0ae30b415494": {
      "model_module": "@jupyter-widgets/base",
      "model_module_version": "1.2.0",
      "model_name": "LayoutModel",
      "state": {
       "border": "solid"
      }
     },
     "e5cfa47c25c34418b2bd65fe2a460bf7": {
      "model_module": "@jupyter-widgets/controls",
      "model_module_version": "1.5.0",
      "model_name": "DropdownModel",
      "state": {
       "_options_labels": [
        "",
        "-- Groups --",
        "early",
        "middle",
        "middle + late",
        "late",
        "early + middle",
        "Observed",
        "early + middle + late"
       ],
       "description": "Group Name:",
       "index": 5,
       "layout": "IPY_MODEL_ebd24900cbe44bb78f860540f7e64a3e",
       "style": "IPY_MODEL_147a4e6fa42c4efea7d4a2d96c53aada"
      }
     },
     "e61fa6eab1a643ec9f564d420bf9e8ef": {
      "model_module": "@jupyter-widgets/base",
      "model_module_version": "1.2.0",
      "model_name": "LayoutModel",
      "state": {}
     },
     "e744ffd466664229a19c71653f36ab73": {
      "model_module": "@jupyter-widgets/controls",
      "model_module_version": "1.5.0",
      "model_name": "SelectModel",
      "state": {
       "_options_labels": [
        "..",
        "SimPEG_PFInversion",
        "Temp",
        "dask-worker-space",
        "FlinFlon.geoh5",
        "Gravity_Magnetics_drape60m_Airborne_Gxx.tif",
        "Gravity_Magnetics_drape60m_Airborne_Gxx_Colorbar.png",
        "Gravity_Magnetics_drape60m_Airborne_Gxx_RGB.txt",
        "Gravity_Magnetics_drape60m_Airborne_TMI.tif",
        "Gravity_Magnetics_drape60m_Airborne_TMI_Colorbar.png",
        "Gravity_Magnetics_drape60m_Airborne_TMI_RGB.txt",
        "HelloWorld.ui.json",
        "Inversion_.json",
        "Inversion_1.json",
        "Inversion_2.json",
        "Inversion_G.json",
        "Inversion_G2.json",
        "Inversion_G3.json",
        "MtDore_TMI.geoh5",
        "Octree_Mesh.ui.json",
        "PeakFinder.ui.geoh5",
        "PeakFinder.ui.json",
        "PeakFinder_v2.ui.json",
        "PeakFinder_v3.ui.json",
        "PeakFinder_v4.ui.geoh5",
        "PeakFinder_v4.ui.json",
        "Untitled.ipynb",
        "VTEM_model.mod",
        "Workspace.Gravity_Magnetics_drape60m_Airborne_Gxx.tif",
        "Workspace.Gravity_Magnetics_drape60m_Airborne_Gxx_Colorbar.png",
        "Workspace.Gravity_Magnetics_drape60m_Airborne_Gxx_RGB.txt",
        "Workspace.Gravity_Magnetics_drape60m_Airborne_TMI.tif",
        "Workspace.Gravity_Magnetics_drape60m_Airborne_TMI_Colorbar.png",
        "Workspace.Gravity_Magnetics_drape60m_Airborne_TMI_RGB.txt",
        "demo.ipynb",
        "input.ui.json",
        "options_tree.json",
        "tempui.ui.geoh5",
        "tempui.ui.json",
        "test.ui.geoh5",
        "test.ui.json",
        "testPoints.geoh5"
       ],
       "index": 4,
       "layout": "IPY_MODEL_4a191f68e88f4f25a4fdda28abc24659",
       "rows": 8,
       "style": "IPY_MODEL_ede157b2adff4ee2bf0c5a2cf4c392b3"
      }
     },
     "e7921a747b754fa5ac98de4e59fdb69d": {
      "model_module": "@jupyter-widgets/base",
      "model_module_version": "1.2.0",
      "model_name": "LayoutModel",
      "state": {
       "display": "none",
       "width": "auto"
      }
     },
     "e7e43cd189c84bbe91086ef5fecc5cf7": {
      "model_module": "@jupyter-widgets/controls",
      "model_module_version": "1.5.0",
      "model_name": "DescriptionStyleModel",
      "state": {
       "description_width": "initial"
      }
     },
     "e833d68bdc3c495d9d4ade84f812381b": {
      "model_module": "@jupyter-widgets/base",
      "model_module_version": "1.2.0",
      "model_name": "LayoutModel",
      "state": {}
     },
     "e852450154884cc2ab5c07eaa93c387f": {
      "model_module": "@jupyter-widgets/controls",
      "model_module_version": "1.5.0",
      "model_name": "DescriptionStyleModel",
      "state": {
       "description_width": ""
      }
     },
     "e95f03bfc77a42dc976d7c9df50f8330": {
      "model_module": "@jupyter-widgets/base",
      "model_module_version": "1.2.0",
      "model_name": "LayoutModel",
      "state": {}
     },
     "e9697d23a7d04173919cfa10d04f7739": {
      "model_module": "@jupyter-widgets/controls",
      "model_module_version": "1.5.0",
      "model_name": "VBoxModel",
      "state": {
       "children": [
        "IPY_MODEL_55d9249ebe9046008a14f30ecf75c981",
        "IPY_MODEL_97a77b1f9297413a82ce53b3e50e4004"
       ],
       "layout": "IPY_MODEL_97161fbd64e54fe09ac4edaa70154757"
      }
     },
     "e9f8527404ba4659b38614714039e575": {
      "model_module": "@jupyter-widgets/base",
      "model_module_version": "1.2.0",
      "model_name": "LayoutModel",
      "state": {}
     },
     "eab6820575724f37b63a52a8e24a43e8": {
      "model_module": "@jupyter-widgets/controls",
      "model_module_version": "1.5.0",
      "model_name": "DropdownModel",
      "state": {
       "_options_labels": [
        "",
        "-- Groups --",
        "Observed",
        "early",
        "middle",
        "late",
        "early + middle",
        "early + middle + late",
        "middle + late"
       ],
       "description": "Group Name:",
       "index": 8,
       "layout": "IPY_MODEL_f8cd623905f0473f9c4e93d5f1437870",
       "style": "IPY_MODEL_6010bc5f61624fb2885c65bf594288ba"
      }
     },
     "ebd24900cbe44bb78f860540f7e64a3e": {
      "model_module": "@jupyter-widgets/base",
      "model_module_version": "1.2.0",
      "model_name": "LayoutModel",
      "state": {}
     },
     "ec42c5596c1547d69e867fba293aad97": {
      "model_module": "@jupyter-widgets/controls",
      "model_module_version": "1.5.0",
      "model_name": "ToggleButtonsModel",
      "state": {
       "_options_labels": [
        "Distance",
        "Easting",
        "Northing"
       ],
       "button_style": "",
       "description": "X-axis label:",
       "icons": [],
       "index": 0,
       "layout": "IPY_MODEL_7d4b441523874d7080c2ce7d01ba96db",
       "style": "IPY_MODEL_d0a8a494a85f43aa9903b6657615698b",
       "tooltips": []
      }
     },
     "ecae29578e5743b6b802cc363c54a611": {
      "model_module": "@jupyter-widgets/controls",
      "model_module_version": "1.5.0",
      "model_name": "TextModel",
      "state": {
       "layout": "IPY_MODEL_07a69ec539474519a87876730674eb57",
       "placeholder": "output filename",
       "style": "IPY_MODEL_e007563a43854d258f04c9c934664569"
      }
     },
     "ecf27d9f2d504621bc579ef066992085": {
      "model_module": "@jupyter-widgets/controls",
      "model_module_version": "1.5.0",
      "model_name": "VBoxModel",
      "state": {
       "children": [
        "IPY_MODEL_90f9ad041f734a52a5ec3b6cc0548ea3",
        "IPY_MODEL_a104b5338e854d0d87a2604db545b751"
       ],
       "layout": "IPY_MODEL_35f4f9b74dec4fd88c33d7afceb2dd5c"
      }
     },
     "ed2f82372a92456cbccdfd4df60aae82": {
      "model_module": "@jupyter-widgets/controls",
      "model_module_version": "1.5.0",
      "model_name": "DescriptionStyleModel",
      "state": {
       "description_width": ""
      }
     },
     "ed97a70efef546bfb889c850475ed124": {
      "model_module": "@jupyter-widgets/controls",
      "model_module_version": "1.5.0",
      "model_name": "SliderStyleModel",
      "state": {
       "description_width": ""
      }
     },
     "edd57a576e0a403dbbb9b64836d7bf2c": {
      "model_module": "@jupyter-widgets/controls",
      "model_module_version": "1.5.0",
      "model_name": "HBoxModel",
      "state": {
       "children": [
        "IPY_MODEL_6c9580899e1f4f76bbd738b5ad75f919",
        "IPY_MODEL_32f6c8d2ac264289b04408e4fde54cef",
        "IPY_MODEL_3335275ef5bd4cbc80b882af8a2fae82"
       ],
       "layout": "IPY_MODEL_a823da7fa9bc4d76a07e9f3ff3f2e62c"
      }
     },
     "ede157b2adff4ee2bf0c5a2cf4c392b3": {
      "model_module": "@jupyter-widgets/controls",
      "model_module_version": "1.5.0",
      "model_name": "DescriptionStyleModel",
      "state": {
       "description_width": ""
      }
     },
     "ee1b4210354b433193936229029134f9": {
      "model_module": "@jupyter-widgets/controls",
      "model_module_version": "1.5.0",
      "model_name": "TextModel",
      "state": {
       "continuous_update": false,
       "description": "Group:",
       "layout": "IPY_MODEL_a0700c6bfa8f4c9a8b166aeb7136fc83",
       "style": "IPY_MODEL_651c88755e8a46ad836bd777d9ec613b"
      }
     },
     "ee5c5c35099849a4b057933c46957a82": {
      "model_module": "@jupyter-widgets/controls",
      "model_module_version": "1.5.0",
      "model_name": "DescriptionStyleModel",
      "state": {
       "description_width": ""
      }
     },
     "ef53c319ca274a63981990f288a97a57": {
      "model_module": "@jupyter-widgets/controls",
      "model_module_version": "1.5.0",
      "model_name": "ColorPickerModel",
      "state": {
       "description": "Color",
       "disabled": false,
       "layout": "IPY_MODEL_f6ad96fb85404c458159160466426a91",
       "style": "IPY_MODEL_b1504caf11a14272b636a0becedeedab",
       "value": "#FF0000"
      }
     },
     "efa6de2b0d0d4c83829958aa4ea635d9": {
      "model_module": "@jupyter-widgets/controls",
      "model_module_version": "1.5.0",
      "model_name": "ButtonStyleModel",
      "state": {}
     },
     "efa6f5b769224963b61eb5798cdcb331": {
      "model_module": "@jupyter-widgets/base",
      "model_module_version": "1.2.0",
      "model_name": "LayoutModel",
      "state": {}
     },
     "efc9c7567aeb4924b2fd349318aa34de": {
      "model_module": "@jupyter-widgets/base",
      "model_module_version": "1.2.0",
      "model_name": "LayoutModel",
      "state": {}
     },
     "f08183162b0e464a98b34804278f3977": {
      "model_module": "@jupyter-widgets/controls",
      "model_module_version": "1.5.0",
      "model_name": "SliderStyleModel",
      "state": {
       "description_width": ""
      }
     },
     "f0dfe227698f4ca48306222ad7512fbd": {
      "model_module": "@jupyter-widgets/base",
      "model_module_version": "1.2.0",
      "model_name": "LayoutModel",
      "state": {}
     },
     "f139e97f3fc14987afa56986cc763356": {
      "model_module": "@jupyter-widgets/controls",
      "model_module_version": "1.5.0",
      "model_name": "DropdownModel",
      "state": {
       "_options_labels": [
        "AeroTEM (2007)",
        "AeroTEM (2010)",
        "GENESIS (2014)",
        "GEOTEM 75 Hz - 2082 Pulse",
        "HELITEM (35C)",
        "QUESTEM (1996)",
        "Skytem 304M (HM)",
        "Skytem 306HP (LM)",
        "Skytem 306M HP (HM)",
        "Skytem 312HP (HM)",
        "Skytem 312HP v2 (HM)",
        "Skytem 312HP v3 (HM)",
        "Skytem 312HP v2 (LM)",
        "Skytem 312HP v3 (LM)",
        "Skytem 516M (HM)",
        "Spectrem (2000)",
        "Spectrem Plus",
        "VTEM (2007)",
        "VTEM Plus",
        "VTEM Max",
        "Xcite",
        "Zonge 8Hz"
       ],
       "description": "Time-Domain System:",
       "index": 17,
       "layout": "IPY_MODEL_50eccd9c2a4c42ff841118a3385834dd",
       "style": "IPY_MODEL_d369324b4e4d4eb7bfa677b30b3accde"
      }
     },
     "f15e55c8122c4a25939179a2d35efd1d": {
      "model_module": "@jupyter-widgets/controls",
      "model_module_version": "1.5.0",
      "model_name": "ButtonModel",
      "state": {
       "description": "Cancel",
       "layout": "IPY_MODEL_e7921a747b754fa5ac98de4e59fdb69d",
       "style": "IPY_MODEL_5213b906806b4f6c99db683f08c274cf"
      }
     },
     "f161a27b17af431c9fd8f14a971b67f9": {
      "model_module": "@jupyter-widgets/controls",
      "model_module_version": "1.5.0",
      "model_name": "DescriptionStyleModel",
      "state": {
       "description_width": ""
      }
     },
     "f19747ba89b74ddf9eea2c144156310c": {
      "model_module": "@jupyter-widgets/controls",
      "model_module_version": "1.5.0",
      "model_name": "SliderStyleModel",
      "state": {
       "description_width": "initial"
      }
     },
     "f1c64eb08dd64c5981078dde04077c99": {
      "model_module": "@jupyter-widgets/controls",
      "model_module_version": "1.5.0",
      "model_name": "SliderStyleModel",
      "state": {
       "description_width": "initial"
      }
     },
     "f21607e828ec4c6ead7c9fdb346a10f5": {
      "model_module": "@jupyter-widgets/controls",
      "model_module_version": "1.5.0",
      "model_name": "ButtonStyleModel",
      "state": {}
     },
     "f24e07beed0b4da9b51e390cdbcd32b9": {
      "model_module": "@jupyter-widgets/controls",
      "model_module_version": "1.5.0",
      "model_name": "ButtonModel",
      "state": {
       "button_style": "danger",
       "description": "Process All Lines",
       "icon": "check",
       "layout": "IPY_MODEL_bd36b94ea9144ea1b7672c9d8974a2b3",
       "style": "IPY_MODEL_efa6de2b0d0d4c83829958aa4ea635d9",
       "tooltip": "Run computation"
      }
     },
     "f2ae6b77e8014576b6b9755056627fdb": {
      "model_module": "@jupyter-widgets/controls",
      "model_module_version": "1.5.0",
      "model_name": "DescriptionStyleModel",
      "state": {
       "description_width": ""
      }
     },
     "f4029415f9224f51b00730a662667871": {
      "model_module": "@jupyter-widgets/base",
      "model_module_version": "1.2.0",
      "model_name": "LayoutModel",
      "state": {}
     },
     "f439905c399c4dbb9347b1d7120f1ed7": {
      "model_module": "@jupyter-widgets/controls",
      "model_module_version": "1.5.0",
      "model_name": "VBoxModel",
      "state": {
       "children": [
        "IPY_MODEL_ffd67c037dfa4c83b980d1b94e5d556c",
        "IPY_MODEL_c0c21e57c7674a429572fe1b8f27fa9e",
        "IPY_MODEL_2a54fa0b237842478823536b3854f4b8"
       ],
       "layout": "IPY_MODEL_e61fa6eab1a643ec9f564d420bf9e8ef"
      }
     },
     "f476131aece845098b3721eaaf9e8230": {
      "model_module": "@jupyter-widgets/controls",
      "model_module_version": "1.5.0",
      "model_name": "DescriptionStyleModel",
      "state": {
       "description_width": "initial"
      }
     },
     "f488eeb68f87409b99783a7d77df0e6b": {
      "model_module": "@jupyter-widgets/base",
      "model_module_version": "1.2.0",
      "model_name": "LayoutModel",
      "state": {}
     },
     "f5854d81f16c404c951a334398458815": {
      "model_module": "@jupyter-widgets/base",
      "model_module_version": "1.2.0",
      "model_name": "LayoutModel",
      "state": {}
     },
     "f623f3de59924e7d96d0e11fc7237ca3": {
      "model_module": "@jupyter-widgets/controls",
      "model_module_version": "1.5.0",
      "model_name": "ToggleButtonsModel",
      "state": {
       "_options_labels": [
        "Distance",
        "Easting",
        "Northing"
       ],
       "button_style": "",
       "description": "X-axis label:",
       "icons": [],
       "index": 0,
       "layout": "IPY_MODEL_feace260aed54d0f92f2a24085851af7",
       "style": "IPY_MODEL_2e6075dec98249ed95f241ba946db29e",
       "tooltips": []
      }
     },
     "f62b2aed008c47a1a64176094aa9a6bb": {
      "model_module": "@jupyter-widgets/base",
      "model_module_version": "1.2.0",
      "model_name": "LayoutModel",
      "state": {}
     },
     "f6ad96fb85404c458159160466426a91": {
      "model_module": "@jupyter-widgets/base",
      "model_module_version": "1.2.0",
      "model_name": "LayoutModel",
      "state": {}
     },
     "f7da8151d8084fb18f7c3c91c3ec9fc9": {
      "model_module": "@jupyter-widgets/controls",
      "model_module_version": "1.5.0",
      "model_name": "TextModel",
      "state": {
       "disabled": true,
       "layout": "IPY_MODEL_1f9c61e9ede94121b9e84c82924e704c",
       "placeholder": "output filename",
       "style": "IPY_MODEL_82294d11e7fb42e5966fa41de8a04ee0"
      }
     },
     "f8273a0e63d14daba49db336e884eaa3": {
      "model_module": "@jupyter-widgets/base",
      "model_module_version": "1.2.0",
      "model_name": "LayoutModel",
      "state": {
       "display": "none",
       "width": "auto"
      }
     },
     "f84216d494f84a459a334d4eed8d7ba8": {
      "model_module": "@jupyter-widgets/controls",
      "model_module_version": "1.5.0",
      "model_name": "ButtonModel",
      "state": {
       "description": "Create copy:",
       "layout": "IPY_MODEL_036c923e3bd142299b0856a7f15455cc",
       "style": "IPY_MODEL_05aebcc6bd204dbeb7550159b01141a9"
      }
     },
     "f8594f1294e54a218f83399fcc5e17ee": {
      "model_module": "@jupyter-widgets/base",
      "model_module_version": "1.2.0",
      "model_name": "LayoutModel",
      "state": {}
     },
     "f8cd623905f0473f9c4e93d5f1437870": {
      "model_module": "@jupyter-widgets/base",
      "model_module_version": "1.2.0",
      "model_name": "LayoutModel",
      "state": {}
     },
     "f941c9333ce44708a4c9b792cf48445e": {
      "model_module": "@jupyter-widgets/controls",
      "model_module_version": "1.5.0",
      "model_name": "SliderStyleModel",
      "state": {
       "description_width": "initial"
      }
     },
     "fa455a502f064623bead20c27f369f2e": {
      "model_module": "@jupyter-widgets/base",
      "model_module_version": "1.2.0",
      "model_name": "LayoutModel",
      "state": {
       "border": "solid"
      }
     },
     "fa4614d29cfd4f248ab64edce4bc7ea2": {
      "model_module": "@jupyter-widgets/controls",
      "model_module_version": "1.5.0",
      "model_name": "SliderStyleModel",
      "state": {
       "description_width": "initial"
      }
     },
     "fa48e92286ee4daa986c0a450b4ab815": {
      "model_module": "@jupyter-widgets/base",
      "model_module_version": "1.2.0",
      "model_name": "LayoutModel",
      "state": {}
     },
     "fa519f2d7f564651b8fe01635a07a007": {
      "model_module": "@jupyter-widgets/base",
      "model_module_version": "1.2.0",
      "model_name": "LayoutModel",
      "state": {
       "display": "none"
      }
     },
     "fb91f63a1808499a81343d557e5e60cc": {
      "model_module": "@jupyter-widgets/base",
      "model_module_version": "1.2.0",
      "model_name": "LayoutModel",
      "state": {
       "border": "solid"
      }
     },
     "fc1b381a2f804fb6961dcfadf95f3ae4": {
      "model_module": "@jupyter-widgets/base",
      "model_module_version": "1.2.0",
      "model_name": "LayoutModel",
      "state": {
       "display": "none"
      }
     },
     "fc2d7b6fb10d4af5a2479c0ef7af35f8": {
      "model_module": "@jupyter-widgets/controls",
      "model_module_version": "1.5.0",
      "model_name": "ButtonStyleModel",
      "state": {}
     },
     "fccd39e8c94d4527a9433938b728e2c9": {
      "model_module": "@jupyter-widgets/controls",
      "model_module_version": "1.5.0",
      "model_name": "DescriptionStyleModel",
      "state": {
       "description_width": ""
      }
     },
     "fccd78bac73d4fd8acb01dee66d87da9": {
      "model_module": "@jupyter-widgets/controls",
      "model_module_version": "1.5.0",
      "model_name": "VBoxModel",
      "state": {
       "children": [
        "IPY_MODEL_705d06becb7346bfa92cd9b2fa11f65a",
        "IPY_MODEL_affb2141b6e64d44936fb730a8bcddb8"
       ],
       "layout": "IPY_MODEL_4d311bc0fe8e4214964de3aa2aaa2911"
      }
     },
     "fce2761520a845ed983b7f845571cc0f": {
      "model_module": "@jupyter-widgets/base",
      "model_module_version": "1.2.0",
      "model_name": "LayoutModel",
      "state": {}
     },
     "fd3dc5a630774c9e87936c5bba3362df": {
      "model_module": "@jupyter-widgets/controls",
      "model_module_version": "1.5.0",
      "model_name": "VBoxModel",
      "state": {
       "children": [
        "IPY_MODEL_097391e0c3c145d08f9d7275fb5e2283",
        "IPY_MODEL_e2705e9f2c5943f888da0fafb65044a3"
       ],
       "layout": "IPY_MODEL_251263ffb434409590b992a4621edee3"
      }
     },
     "fe991f3721f84481ac8ddb45fb479533": {
      "model_module": "@jupyter-widgets/base",
      "model_module_version": "1.2.0",
      "model_name": "LayoutModel",
      "state": {}
     },
     "fea7328bd4bb4b2fabd2a6360c288431": {
      "model_module": "@jupyter-widgets/base",
      "model_module_version": "1.2.0",
      "model_name": "LayoutModel",
      "state": {
       "display": "none",
       "grid_area": "filename",
       "width": "auto"
      }
     },
     "feace260aed54d0f92f2a24085851af7": {
      "model_module": "@jupyter-widgets/base",
      "model_module_version": "1.2.0",
      "model_name": "LayoutModel",
      "state": {}
     },
     "ff5a74423725405b8fccb11adfcc117c": {
      "model_module": "@jupyter-widgets/base",
      "model_module_version": "1.2.0",
      "model_name": "LayoutModel",
      "state": {
       "grid_area": "dircontent",
       "width": "auto"
      }
     },
     "ff848e2e441d46a7a6edc04d4ffa9d6e": {
      "model_module": "@jupyter-widgets/controls",
      "model_module_version": "1.5.0",
      "model_name": "ButtonModel",
      "state": {
       "description": "Select",
       "layout": "IPY_MODEL_866764b97ec54b3d8032aa7b5cdfc023",
       "style": "IPY_MODEL_ad6065f5123143ac9066371a1b7c4742"
      }
     },
     "ff8b0fe5a28f4ee69b22a0d481f5d21b": {
      "model_module": "@jupyter-widgets/base",
      "model_module_version": "1.2.0",
      "model_name": "LayoutModel",
      "state": {}
     },
     "ffbde395b8cb4b3ea85b3e86aa42997a": {
      "model_module": "@jupyter-widgets/controls",
      "model_module_version": "1.5.0",
      "model_name": "DescriptionStyleModel",
      "state": {
       "description_width": ""
      }
     },
     "ffbed85dc4844b7aa35a7ee26eb01476": {
      "model_module": "@jupyter-widgets/controls",
      "model_module_version": "1.5.0",
      "model_name": "DescriptionStyleModel",
      "state": {
       "description_width": "initial"
      }
     },
     "ffd67c037dfa4c83b980d1b94e5d556c": {
      "model_module": "@jupyter-widgets/controls",
      "model_module_version": "1.5.0",
      "model_name": "ButtonModel",
      "state": {
       "button_style": "danger",
       "description": "Process All Lines",
       "icon": "check",
       "layout": "IPY_MODEL_0c8eefd4890c482caa272f8b252400c4",
       "style": "IPY_MODEL_17ed9dfb50a143528a983dc2ce6f8455",
       "tooltip": "Run computation"
      }
     }
    },
    "version_major": 2,
    "version_minor": 0
   }
  }
 },
 "nbformat": 4,
 "nbformat_minor": 5
}

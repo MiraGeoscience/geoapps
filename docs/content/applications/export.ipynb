{
 "cells": [
  {
   "cell_type": "markdown",
   "metadata": {},
   "source": [
    "# Export\n",
    "\n",
    "This application lets users export objects and data from a ``geoh5`` to\n",
    "various open file formats.\n",
    "\n",
    "  <img align=\"right\" width=\"50%\" src=\"./images/export_app.png\">\n",
    "\n",
    "\n",
    "New user? Visit the [Getting Started](../installation.rst) page."
   ]
  },
  {
   "cell_type": "markdown",
   "metadata": {},
   "source": [
    "## Application\n",
    "The following sections provide details on the different parameters controling the application. Interactive widgets shown below are for demonstration purposes only."
   ]
  },
  {
   "cell_type": "code",
   "execution_count": 1,
   "metadata": {
    "scrolled": false
   },
   "outputs": [
    {
     "data": {
      "application/vnd.jupyter.widget-view+json": {
       "model_id": "0c8227c874644ea897b76e9066da7541",
       "version_major": 2,
       "version_minor": 0
      },
      "text/plain": [
       "VBox(children=(VBox(children=(Label(value='Workspace', style=DescriptionStyle(description_width='initial')), H…"
      ]
     },
     "metadata": {},
     "output_type": "display_data"
    }
   ],
   "source": [
    "from geoapps.export import Export\n",
    "\n",
    "app = Export(h5file=r\"../../../assets/FlinFlon.geoh5\")\n",
    "app.main"
   ]
  },
  {
   "cell_type": "markdown",
   "metadata": {},
   "source": [
    "## Project Selection\n",
    "\n",
    "Select and connect to an existing **geoh5** project file containing data. "
   ]
  },
  {
   "cell_type": "code",
   "execution_count": 2,
   "metadata": {
    "scrolled": false
   },
   "outputs": [
    {
     "data": {
      "application/vnd.jupyter.widget-view+json": {
       "model_id": "b6dba842ee514ddbbd10b8e9af5daac8",
       "version_major": 2,
       "version_minor": 0
      },
      "text/plain": [
       "VBox(children=(Label(value='Workspace', style=DescriptionStyle(description_width='initial')), HBox(children=(F…"
      ]
     },
     "metadata": {},
     "output_type": "display_data"
    }
   ],
   "source": [
    "app.project_panel"
   ]
  },
  {
   "cell_type": "markdown",
   "metadata": {},
   "source": [
    "See the [Project Panel](base_application.ipynb#Project-Panel) page for more details."
   ]
  },
  {
   "cell_type": "markdown",
   "metadata": {},
   "source": [
    "## Object and Data Selection\n",
    "\n",
    "List of objects available for export from the target `geoh5` project. "
   ]
  },
  {
   "cell_type": "code",
   "execution_count": 3,
   "metadata": {
    "scrolled": true
   },
   "outputs": [
    {
     "data": {
      "application/vnd.jupyter.widget-view+json": {
       "model_id": "dfdba66715f44cedbccd01be36cf69c8",
       "version_major": 2,
       "version_minor": 0
      },
      "text/plain": [
       "VBox(children=(Dropdown(description='Object:', index=66, options=('', 'fault_splay1', 'fault_Cliff_Lake', 'fau…"
      ]
     },
     "metadata": {},
     "output_type": "display_data"
    }
   ],
   "source": [
    "app.data_panel"
   ]
  },
  {
   "cell_type": "markdown",
   "metadata": {},
   "source": [
    "## Output type\n",
    "\n",
    "List of file formats currently supported."
   ]
  },
  {
   "cell_type": "code",
   "execution_count": 4,
   "metadata": {},
   "outputs": [
    {
     "data": {
      "application/vnd.jupyter.widget-view+json": {
       "model_id": "c9bdb13175b44a28935e957f849bd8f9",
       "version_major": 2,
       "version_minor": 0
      },
      "text/plain": [
       "Dropdown(description='Export type', index=2, options=('ESRI shapefile', 'csv', 'geotiff', 'UBC format'), style…"
      ]
     },
     "metadata": {},
     "output_type": "display_data"
    }
   ],
   "source": [
    "app.file_type"
   ]
  },
  {
   "cell_type": "markdown",
   "metadata": {},
   "source": [
    "### ESRI Shapefile\n",
    "\n",
    "Export option to **.shp** file format for `Points`, `Curve` objects. "
   ]
  },
  {
   "cell_type": "markdown",
   "metadata": {},
   "source": [
    "#### Projection\n",
    "\n",
    "Coordinate system assigned to the shapefile, either as ESRI, EPSG or WKT code."
   ]
  },
  {
   "cell_type": "code",
   "execution_count": 5,
   "metadata": {},
   "outputs": [
    {
     "data": {
      "application/vnd.jupyter.widget-view+json": {
       "model_id": "18f6307131ce42a7b66e22a4b0ad4fc7",
       "version_major": 2,
       "version_minor": 0
      },
      "text/plain": [
       "VBox(children=(Text(value='EPSG:26914', continuous_update=False, description='Projection:', style=DescriptionS…"
      ]
     },
     "metadata": {},
     "output_type": "display_data"
    }
   ],
   "source": [
    "app.projection_panel"
   ]
  },
  {
   "cell_type": "markdown",
   "metadata": {},
   "source": [
    "### Column Seperated Values\n",
    "\n",
    "Export data to **csv** file format. The x, y and z coordinates of every nodes/cells are appended to the list of data by default."
   ]
  },
  {
   "cell_type": "markdown",
   "metadata": {},
   "source": [
    "### Geotiff\n",
    "\n",
    "Export option to **.geotiff** for `Grid2D` objects."
   ]
  },
  {
   "cell_type": "markdown",
   "metadata": {},
   "source": [
    "#### Projection\n",
    "\n",
    "Coordinate system assigned to the geotiff, either as ESRI, EPSG or WKT code."
   ]
  },
  {
   "cell_type": "code",
   "execution_count": 6,
   "metadata": {},
   "outputs": [
    {
     "data": {
      "application/vnd.jupyter.widget-view+json": {
       "model_id": "18f6307131ce42a7b66e22a4b0ad4fc7",
       "version_major": 2,
       "version_minor": 0
      },
      "text/plain": [
       "VBox(children=(Text(value='EPSG:26914', continuous_update=False, description='Projection:', style=DescriptionS…"
      ]
     },
     "metadata": {},
     "output_type": "display_data"
    }
   ],
   "source": [
    "app.projection_panel"
   ]
  },
  {
   "cell_type": "markdown",
   "metadata": {},
   "source": [
    "#### Type\n",
    "Date type options exported to geotiff"
   ]
  },
  {
   "cell_type": "code",
   "execution_count": 7,
   "metadata": {},
   "outputs": [
    {
     "data": {
      "application/vnd.jupyter.widget-view+json": {
       "model_id": "1cbe595a27094eb9893c43812ad3572c",
       "version_major": 2,
       "version_minor": 0
      },
      "text/plain": [
       "RadioButtons(description='Type:', index=1, options=('float', 'RGB'), style=DescriptionStyle(description_width=…"
      ]
     },
     "metadata": {},
     "output_type": "display_data"
    }
   ],
   "source": [
    "app.data_type"
   ]
  },
  {
   "cell_type": "markdown",
   "metadata": {},
   "source": [
    "- **Float**: Single-band image containing the float value of selected data.\n",
    "- **RGB**: 3-band image containing the RGB color displayed in ANALYST."
   ]
  },
  {
   "cell_type": "markdown",
   "metadata": {},
   "source": [
    "### UBC Model\n",
    "\n",
    "Export option for `BlockModel` and `Octree` objects to UBC mesh (**.msh**) and model (**.mod**) format."
   ]
  },
  {
   "cell_type": "markdown",
   "metadata": {},
   "source": [
    "## Output Panel\n",
    "\n",
    "Trigger the computation routine and store the result."
   ]
  },
  {
   "cell_type": "code",
   "execution_count": 8,
   "metadata": {
    "scrolled": false
   },
   "outputs": [
    {
     "data": {
      "application/vnd.jupyter.widget-view+json": {
       "model_id": "581c40460447404599d04392479feb9b",
       "version_major": 2,
       "version_minor": 0
      },
      "text/plain": [
       "VBox(children=(VBox(children=(Button(button_style='danger', description='Export', icon='check', style=ButtonSt…"
      ]
     },
     "metadata": {},
     "output_type": "display_data"
    }
   ],
   "source": [
    "app.output_panel"
   ]
  },
  {
   "cell_type": "markdown",
   "metadata": {},
   "source": [
    "See the [Output Panel](base_application.ipynb#Output-Panel) page for more details."
   ]
  },
  {
   "cell_type": "markdown",
   "metadata": {},
   "source": [
    "Need help? Contact us at support@mirageoscience.com"
   ]
  }
 ],
 "metadata": {
  "kernelspec": {
   "display_name": "Python 3",
   "language": "python",
   "name": "python3"
  },
  "language_info": {
   "codemirror_mode": {
    "name": "ipython",
    "version": 3
   },
   "file_extension": ".py",
   "mimetype": "text/x-python",
   "name": "python",
   "nbconvert_exporter": "python",
   "pygments_lexer": "ipython3",
   "version": "3.7.8"
  },
  "widgets": {
   "application/vnd.jupyter.widget-state+json": {
    "state": {
     "00455fe3e65c4155ba651488dcde2a9b": {
      "model_module": "@jupyter-widgets/controls",
      "model_module_version": "1.5.0",
      "model_name": "LabelModel",
      "state": {
       "layout": "IPY_MODEL_203812944e6243bb98a2e5ecf427650f",
       "style": "IPY_MODEL_36fcedecdc524879a1429f4729ea24cc",
       "value": "Monitoring folder"
      }
     },
     "0067c78db49b4b878515341dfa88ebf8": {
      "model_module": "@jupyter-widgets/controls",
      "model_module_version": "1.5.0",
      "model_name": "DropdownModel",
      "state": {
       "_options_labels": [
        "C:\\Users\\dominiquef\\Documents\\GIT\\mira\\mirageoscience-apps\\assets",
        "C:\\Users\\dominiquef\\Documents\\GIT\\mira\\mirageoscience-apps",
        "C:\\Users\\dominiquef\\Documents\\GIT\\mira",
        "C:\\Users\\dominiquef\\Documents\\GIT",
        "C:\\Users\\dominiquef\\Documents",
        "C:\\Users\\dominiquef",
        "C:\\Users",
        "C:\\",
        "D:\\",
        "Z:\\"
       ],
       "index": 0,
       "layout": "IPY_MODEL_6612709cb98b4cd0a2ff7fc8f87260fe",
       "style": "IPY_MODEL_1652539005934bc3b1062d37754a5f1d"
      }
     },
     "00ecc71ba1f84e99a93be6ac602bf9f5": {
      "model_module": "@jupyter-widgets/base",
      "model_module_version": "1.2.0",
      "model_name": "LayoutModel",
      "state": {
       "width": "auto"
      }
     },
     "0107e59d283a45ceb189838bb434f83a": {
      "model_module": "@jupyter-widgets/controls",
      "model_module_version": "1.5.0",
      "model_name": "ButtonModel",
      "state": {
       "description": "Change",
       "layout": "IPY_MODEL_326f8e42e6314ebf8564fdec09153382",
       "style": "IPY_MODEL_7fddac497f654730b74572932d66bfad"
      }
     },
     "010895ab44a14b588300bf6c5df7d86a": {
      "model_module": "@jupyter-widgets/base",
      "model_module_version": "1.2.0",
      "model_name": "LayoutModel",
      "state": {}
     },
     "01878398309c478aa0a160d1e620a622": {
      "model_module": "@jupyter-widgets/controls",
      "model_module_version": "1.5.0",
      "model_name": "HTMLModel",
      "state": {
       "layout": "IPY_MODEL_0919ecb3e23648338223775bbf3e9572",
       "style": "IPY_MODEL_9863e4ffdb7c4195afa52a8ad8030a8b"
      }
     },
     "0260b4608fa94be0a29d31327298f7a8": {
      "model_module": "@jupyter-widgets/base",
      "model_module_version": "1.2.0",
      "model_name": "LayoutModel",
      "state": {}
     },
     "028b749dc51045a98075070cb2cc9d91": {
      "model_module": "@jupyter-widgets/base",
      "model_module_version": "1.2.0",
      "model_name": "LayoutModel",
      "state": {}
     },
     "029e2afbd5764333ab2a038ff8505810": {
      "model_module": "@jupyter-widgets/controls",
      "model_module_version": "1.5.0",
      "model_name": "HBoxModel",
      "state": {
       "children": [
        "IPY_MODEL_b5fb1d672ed64fcea9d572fb88eae749",
        "IPY_MODEL_42f7fc67bf6a4b1b8079530d4ceb5f3c"
       ],
       "layout": "IPY_MODEL_7982826063d148eb87d032d3c6f5ffbf"
      }
     },
     "02f61e5922ea4632bd7bfecf13418697": {
      "model_module": "@jupyter-widgets/base",
      "model_module_version": "1.2.0",
      "model_name": "LayoutModel",
      "state": {}
     },
     "03160e3b9a254682939e3e8272ff6131": {
      "model_module": "@jupyter-widgets/controls",
      "model_module_version": "1.5.0",
      "model_name": "GridBoxModel",
      "state": {
       "children": [
        "IPY_MODEL_75b2e9d0f6e245b98b1fd05641c1fcc9",
        "IPY_MODEL_97c3359a92de4d1d813272682ce7a29e",
        "IPY_MODEL_3e5bf9ac73c44c539800b6737c2cd3d4"
       ],
       "layout": "IPY_MODEL_e291b851eb5949dda3f620f9a31d05ce"
      }
     },
     "034611ffd9e74c35a637b393454e26da": {
      "model_module": "@jupyter-widgets/controls",
      "model_module_version": "1.5.0",
      "model_name": "VBoxModel",
      "state": {
       "children": [
        "IPY_MODEL_d12e882e67834d2cbb62a9d5903c785e"
       ],
       "layout": "IPY_MODEL_94d3bcec37be4ca281aa21c699de2bf0"
      }
     },
     "040f87efa3cd46ec8db2473a974fbbc1": {
      "model_module": "@jupyter-widgets/controls",
      "model_module_version": "1.5.0",
      "model_name": "VBoxModel",
      "state": {
       "children": [
        "IPY_MODEL_b24020c033a54222ab1683a90d494cd8"
       ],
       "layout": "IPY_MODEL_30d03841b8e2496a84c42acaad18ab8f"
      }
     },
     "04aafbb3597d43aebe3f9299483f5719": {
      "model_module": "@jupyter-widgets/controls",
      "model_module_version": "1.5.0",
      "model_name": "DescriptionStyleModel",
      "state": {
       "description_width": ""
      }
     },
     "0577ca5e7dde4c1cb1d04b5af54c4d16": {
      "model_module": "@jupyter-widgets/controls",
      "model_module_version": "1.5.0",
      "model_name": "VBoxModel",
      "state": {
       "children": [
        "IPY_MODEL_a3d247206f4f433e8944355f1fb21e28"
       ],
       "layout": "IPY_MODEL_6709cad0f5c34e1191241fbd640689c5"
      }
     },
     "0589a62b00494e2a8b45a743d1cca8f6": {
      "model_module": "@jupyter-widgets/controls",
      "model_module_version": "1.5.0",
      "model_name": "LabelModel",
      "state": {
       "layout": "IPY_MODEL_58344717682e479d9e45efee47a65e46",
       "style": "IPY_MODEL_b7478d7ce9d84f2799f01d352298dda1",
       "value": "Workspace"
      }
     },
     "058d3d7cfd264b5caecdf33b38cd90bd": {
      "model_module": "@jupyter-widgets/controls",
      "model_module_version": "1.5.0",
      "model_name": "DescriptionStyleModel",
      "state": {
       "description_width": ""
      }
     },
     "05e0b9e68fe64f2ca52674b7720c62ff": {
      "model_module": "@jupyter-widgets/base",
      "model_module_version": "1.2.0",
      "model_name": "LayoutModel",
      "state": {
       "display": "none",
       "width": "auto"
      }
     },
     "0607143992ec465f841e0c4400db26e5": {
      "model_module": "@jupyter-widgets/base",
      "model_module_version": "1.2.0",
      "model_name": "LayoutModel",
      "state": {}
     },
     "066cd9bdb7e24ebba0590cda1f99a842": {
      "model_module": "@jupyter-widgets/controls",
      "model_module_version": "1.5.0",
      "model_name": "VBoxModel",
      "state": {
       "children": [
        "IPY_MODEL_4c698a7a3cc848fdbefb28f01ff9869c",
        "IPY_MODEL_6867937d024943348bf0502f9728368a",
        "IPY_MODEL_7fd8dbc4ea184be8a52ec2a16fa6ef0e"
       ],
       "layout": "IPY_MODEL_75808c416ad44c288c50e0d6679f240e"
      }
     },
     "075549497db0475db18dfc3a0b8dd5a9": {
      "model_module": "@jupyter-widgets/controls",
      "model_module_version": "1.5.0",
      "model_name": "DescriptionStyleModel",
      "state": {
       "description_width": ""
      }
     },
     "07af25ecfcdf459b9f6b1790aea1af42": {
      "model_module": "@jupyter-widgets/base",
      "model_module_version": "1.2.0",
      "model_name": "LayoutModel",
      "state": {}
     },
     "07c1c13012304db1b18bc4c7b3d6f27c": {
      "model_module": "@jupyter-widgets/controls",
      "model_module_version": "1.5.0",
      "model_name": "DescriptionStyleModel",
      "state": {
       "description_width": ""
      }
     },
     "07d3af0559ab4bc4a8a6b19ef7ab11bc": {
      "model_module": "@jupyter-widgets/controls",
      "model_module_version": "1.5.0",
      "model_name": "VBoxModel",
      "state": {
       "children": [
        "IPY_MODEL_cc78731c05ec480495384433918279c6"
       ],
       "layout": "IPY_MODEL_f4c455483a0a4f0fb33289fb893cbfc2"
      }
     },
     "07d6c55b2f6444aa977c93d1804abc5b": {
      "model_module": "@jupyter-widgets/controls",
      "model_module_version": "1.5.0",
      "model_name": "ButtonStyleModel",
      "state": {}
     },
     "07e6128a0c35450ea8cbcfef96775d3e": {
      "model_module": "@jupyter-widgets/base",
      "model_module_version": "1.2.0",
      "model_name": "LayoutModel",
      "state": {
       "width": "auto"
      }
     },
     "0879defc9817452e817f199ed331a304": {
      "model_module": "@jupyter-widgets/controls",
      "model_module_version": "1.5.0",
      "model_name": "FloatTextModel",
      "state": {
       "description": "No-Data-Value",
       "layout": "IPY_MODEL_028b749dc51045a98075070cb2cc9d91",
       "step": null,
       "style": "IPY_MODEL_288dbefce1f849b689251bf108187d67",
       "value": -99999
      }
     },
     "08935e6098aa4f87bee37ddc57f13611": {
      "model_module": "@jupyter-widgets/controls",
      "model_module_version": "1.5.0",
      "model_name": "DescriptionStyleModel",
      "state": {
       "description_width": ""
      }
     },
     "08de926219f047b79f8f2cedf92767a0": {
      "model_module": "@jupyter-widgets/controls",
      "model_module_version": "1.5.0",
      "model_name": "DescriptionStyleModel",
      "state": {
       "description_width": "initial"
      }
     },
     "0904f0dd7685472586c4bb1ac093b649": {
      "model_module": "@jupyter-widgets/controls",
      "model_module_version": "1.5.0",
      "model_name": "VBoxModel",
      "state": {
       "children": [
        "IPY_MODEL_e7d4b2c847334399b07e3c7cedd745cd"
       ],
       "layout": "IPY_MODEL_623c9b394f7a44898922a04ce65c2684"
      }
     },
     "0919ecb3e23648338223775bbf3e9572": {
      "model_module": "@jupyter-widgets/base",
      "model_module_version": "1.2.0",
      "model_name": "LayoutModel",
      "state": {
       "display": "none"
      }
     },
     "09b098de9b3847dd9ec4226a3dfc3965": {
      "model_module": "@jupyter-widgets/base",
      "model_module_version": "1.2.0",
      "model_name": "LayoutModel",
      "state": {}
     },
     "0a225254f7ac4c35a0e1a90c0465bda2": {
      "model_module": "@jupyter-widgets/base",
      "model_module_version": "1.2.0",
      "model_name": "LayoutModel",
      "state": {}
     },
     "0a505979f65140a28f5e064239ec77cc": {
      "model_module": "@jupyter-widgets/base",
      "model_module_version": "1.2.0",
      "model_name": "LayoutModel",
      "state": {}
     },
     "0b88ad2f071f48138701dd8d13d1ce72": {
      "model_module": "@jupyter-widgets/controls",
      "model_module_version": "1.5.0",
      "model_name": "CheckboxModel",
      "state": {
       "description": "GA Pro - Live link",
       "disabled": false,
       "indent": false,
       "layout": "IPY_MODEL_d877dc67758d4df59072df4edb3a7f80",
       "style": "IPY_MODEL_d4a06bd07be64a3ab7e736815751f7ce",
       "value": false
      }
     },
     "0bf9301e519a48059cbb05e4eab90220": {
      "model_module": "@jupyter-widgets/controls",
      "model_module_version": "1.5.0",
      "model_name": "HTMLModel",
      "state": {
       "layout": "IPY_MODEL_3dad92c054e34723b6d05ef81a66a61e",
       "placeholder": "",
       "style": "IPY_MODEL_19c1a4edc29c40f8a03e4d9c96f94bab",
       "value": "<span style=\"margin-left:10px; color:green;\">C:\\Users\\dominiquef\\Documents\\GIT\\mira\\mirageoscience-apps\\assets\\</span>"
      }
     },
     "0c26fcd8aab94ae29da69b7d836b2043": {
      "model_module": "@jupyter-widgets/controls",
      "model_module_version": "1.5.0",
      "model_name": "ButtonStyleModel",
      "state": {}
     },
     "0c2e0f60d2754d53a4e01350856c5d64": {
      "model_module": "@jupyter-widgets/base",
      "model_module_version": "1.2.0",
      "model_name": "LayoutModel",
      "state": {}
     },
     "0c8227c874644ea897b76e9066da7541": {
      "model_module": "@jupyter-widgets/controls",
      "model_module_version": "1.5.0",
      "model_name": "VBoxModel",
      "state": {
       "children": [
        "IPY_MODEL_b6dba842ee514ddbbd10b8e9af5daac8",
        "IPY_MODEL_2deecb589d10423d9e02ef02bfd2307f",
        "IPY_MODEL_5919755733f2459fbf3f2a7633909aa4",
        "IPY_MODEL_0879defc9817452e817f199ed331a304",
        "IPY_MODEL_9308e9250955496b906eb07bc65dd237",
        "IPY_MODEL_37f017d1e57a403aa43abef71da32548",
        "IPY_MODEL_2725778b577e4a438199ed1c688193b9"
       ],
       "layout": "IPY_MODEL_14b923fea0d64908b5f6f20382b6f78c"
      }
     },
     "0c82e963a70641cea1924f2ebf40ff8a": {
      "model_module": "@jupyter-widgets/base",
      "model_module_version": "1.2.0",
      "model_name": "LayoutModel",
      "state": {}
     },
     "0c8372656b4f43518eb5869d837c5021": {
      "model_module": "@jupyter-widgets/base",
      "model_module_version": "1.2.0",
      "model_name": "LayoutModel",
      "state": {}
     },
     "0c845a600da6437f9afb880a0db730b4": {
      "model_module": "@jupyter-widgets/controls",
      "model_module_version": "1.5.0",
      "model_name": "ToggleButtonModel",
      "state": {
       "layout": "IPY_MODEL_b50e088733c4452e94d1f129beec19bc",
       "style": "IPY_MODEL_8ba6212ef2ff4e2d8d1bf5cb06321a3d",
       "value": true
      }
     },
     "0eb7c111207c4cc9bec3c838804b1f49": {
      "model_module": "@jupyter-widgets/base",
      "model_module_version": "1.2.0",
      "model_name": "LayoutModel",
      "state": {}
     },
     "0f80f156e3d74b29905b9b8e804b8a72": {
      "model_module": "@jupyter-widgets/base",
      "model_module_version": "1.2.0",
      "model_name": "LayoutModel",
      "state": {}
     },
     "0faeb48e2ed54778bee531e83d02c347": {
      "model_module": "@jupyter-widgets/base",
      "model_module_version": "1.2.0",
      "model_name": "LayoutModel",
      "state": {
       "width": "auto"
      }
     },
     "0fb37c2f53fb48f08de0564224977e25": {
      "model_module": "@jupyter-widgets/base",
      "model_module_version": "1.2.0",
      "model_name": "LayoutModel",
      "state": {
       "width": "auto"
      }
     },
     "0fd33894110e4bb8b45be1014dcec055": {
      "model_module": "@jupyter-widgets/base",
      "model_module_version": "1.2.0",
      "model_name": "LayoutModel",
      "state": {}
     },
     "10bbe1c83ee24582a3360831330c818d": {
      "model_module": "@jupyter-widgets/controls",
      "model_module_version": "1.5.0",
      "model_name": "DescriptionStyleModel",
      "state": {
       "description_width": "initial"
      }
     },
     "10cea132c89c4f4e83365a6382320fe4": {
      "model_module": "@jupyter-widgets/controls",
      "model_module_version": "1.5.0",
      "model_name": "ButtonModel",
      "state": {
       "description": "Cancel",
       "layout": "IPY_MODEL_30872c7efe924d10861d15c7f911d4bf",
       "style": "IPY_MODEL_449322c381e645608a38c2990cff4e8e"
      }
     },
     "1101a18514a645008d7f1c4dd8039a86": {
      "model_module": "@jupyter-widgets/controls",
      "model_module_version": "1.5.0",
      "model_name": "ButtonModel",
      "state": {
       "description": "Create copy:",
       "layout": "IPY_MODEL_ab2424bc393c4e54953a12167d38130c",
       "style": "IPY_MODEL_6a47193467ff47a686d9bc61d5c867b9"
      }
     },
     "1149ad11c25a40509438a001f77de400": {
      "model_module": "@jupyter-widgets/base",
      "model_module_version": "1.2.0",
      "model_name": "LayoutModel",
      "state": {}
     },
     "125512d09fe3495585fa7163d3a210db": {
      "model_module": "@jupyter-widgets/base",
      "model_module_version": "1.2.0",
      "model_name": "LayoutModel",
      "state": {}
     },
     "128a0c6509374131ad395f96baea1b04": {
      "model_module": "@jupyter-widgets/controls",
      "model_module_version": "1.5.0",
      "model_name": "DescriptionStyleModel",
      "state": {
       "description_width": ""
      }
     },
     "129d406ead624aada08882466e2095d0": {
      "model_module": "@jupyter-widgets/base",
      "model_module_version": "1.2.0",
      "model_name": "LayoutModel",
      "state": {
       "grid_area": "pathlist",
       "width": "auto"
      }
     },
     "13de5553536c4c78abd9629647f50ced": {
      "model_module": "@jupyter-widgets/controls",
      "model_module_version": "1.5.0",
      "model_name": "TextModel",
      "state": {
       "continuous_update": false,
       "description": "Group:",
       "layout": "IPY_MODEL_18467941bf8d44c68b4582a883e15ace",
       "style": "IPY_MODEL_1f9e59e20db4428192135c4e0579b3e3"
      }
     },
     "13f3daacf9e54623b2c177cebe12c60a": {
      "model_module": "@jupyter-widgets/controls",
      "model_module_version": "1.5.0",
      "model_name": "DescriptionStyleModel",
      "state": {
       "description_width": ""
      }
     },
     "1428dbfe01a447e2916eae595cb7b974": {
      "model_module": "@jupyter-widgets/base",
      "model_module_version": "1.2.0",
      "model_name": "LayoutModel",
      "state": {
       "width": "auto"
      }
     },
     "14b923fea0d64908b5f6f20382b6f78c": {
      "model_module": "@jupyter-widgets/base",
      "model_module_version": "1.2.0",
      "model_name": "LayoutModel",
      "state": {}
     },
     "151cd198513d4875a304184ab6996b7c": {
      "model_module": "@jupyter-widgets/controls",
      "model_module_version": "1.5.0",
      "model_name": "VBoxModel",
      "state": {
       "children": [
        "IPY_MODEL_2b47c1c76831424490770bc8a2e3a515",
        "IPY_MODEL_96456420e51e4ecaa781c1b0392c07f6"
       ],
       "layout": "IPY_MODEL_84bf219621774896963b9259c1498d44"
      }
     },
     "15f7f58805c744a6a60f536bc2ad137a": {
      "model_module": "@jupyter-widgets/controls",
      "model_module_version": "1.5.0",
      "model_name": "VBoxModel",
      "state": {
       "children": [
        "IPY_MODEL_40668bcb67f04091b203c7c3d0435aca",
        "IPY_MODEL_eb6a0b7ebf7d4c19acca9d188a3a1757"
       ],
       "layout": "IPY_MODEL_b94dfbba54994f08a4d686efbbe2e09f"
      }
     },
     "16237d62fe8645aab8acd5996f1b2b0c": {
      "model_module": "@jupyter-widgets/base",
      "model_module_version": "1.2.0",
      "model_name": "LayoutModel",
      "state": {
       "display": "none",
       "width": "auto"
      }
     },
     "1652539005934bc3b1062d37754a5f1d": {
      "model_module": "@jupyter-widgets/controls",
      "model_module_version": "1.5.0",
      "model_name": "DescriptionStyleModel",
      "state": {
       "description_width": ""
      }
     },
     "177a2b2d74eb4a15b99e80c7a0bc1e15": {
      "model_module": "@jupyter-widgets/controls",
      "model_module_version": "1.5.0",
      "model_name": "TextModel",
      "state": {
       "continuous_update": false,
       "description": "Projection:",
       "layout": "IPY_MODEL_b288569f60884b5788fc0aa18c3036cc",
       "style": "IPY_MODEL_77ea0319d8074b8b8d0a87fef6914158",
       "value": "EPSG:26914"
      }
     },
     "17ce24574a864a41885d41a8b635580d": {
      "model_module": "@jupyter-widgets/controls",
      "model_module_version": "1.5.0",
      "model_name": "DescriptionStyleModel",
      "state": {
       "description_width": ""
      }
     },
     "1801bb2addae45f3891c14b65836684d": {
      "model_module": "@jupyter-widgets/controls",
      "model_module_version": "1.5.0",
      "model_name": "DescriptionStyleModel",
      "state": {
       "description_width": ""
      }
     },
     "18467941bf8d44c68b4582a883e15ace": {
      "model_module": "@jupyter-widgets/base",
      "model_module_version": "1.2.0",
      "model_name": "LayoutModel",
      "state": {}
     },
     "18f6307131ce42a7b66e22a4b0ad4fc7": {
      "model_module": "@jupyter-widgets/controls",
      "model_module_version": "1.5.0",
      "model_name": "VBoxModel",
      "state": {
       "children": [
        "IPY_MODEL_94645adf523b41fcbf4a7261e8355460",
        "IPY_MODEL_715a066abe884e58a8ff0b099f9febb3"
       ],
       "layout": "IPY_MODEL_0a505979f65140a28f5e064239ec77cc"
      }
     },
     "198d442de4fc47d59e7f7f693ebc2e00": {
      "model_module": "@jupyter-widgets/base",
      "model_module_version": "1.2.0",
      "model_name": "LayoutModel",
      "state": {}
     },
     "1991cce9a82a45d69bbe78a21a86d746": {
      "model_module": "@jupyter-widgets/base",
      "model_module_version": "1.2.0",
      "model_name": "LayoutModel",
      "state": {
       "width": "auto"
      }
     },
     "19c1a4edc29c40f8a03e4d9c96f94bab": {
      "model_module": "@jupyter-widgets/controls",
      "model_module_version": "1.5.0",
      "model_name": "DescriptionStyleModel",
      "state": {
       "description_width": ""
      }
     },
     "19c89cb00860475f839d8b1cd3024c18": {
      "model_module": "@jupyter-widgets/controls",
      "model_module_version": "1.5.0",
      "model_name": "FloatTextModel",
      "state": {
       "description": "No-Data-Value",
       "layout": "IPY_MODEL_e89cd012c8e648cc85b0b9832e4a6fe6",
       "step": null,
       "style": "IPY_MODEL_32ec5e1aa3a04680a6a3d8c5a6893769",
       "value": -99999
      }
     },
     "1a5af7d7b0b94fecac6a7f6d8611e05b": {
      "model_module": "@jupyter-widgets/controls",
      "model_module_version": "1.5.0",
      "model_name": "VBoxModel",
      "state": {
       "children": [
        "IPY_MODEL_6971d18c22bf4f5ca153c3deb4d74776",
        "IPY_MODEL_c2219084df3348e69a631fec917298ea"
       ],
       "layout": "IPY_MODEL_e93201a7287c477bbe9aa46a794f1d89"
      }
     },
     "1a8a8dff35e34b63a583d0c78dc7e920": {
      "model_module": "@jupyter-widgets/base",
      "model_module_version": "1.2.0",
      "model_name": "LayoutModel",
      "state": {
       "grid_area": "pathlist",
       "width": "auto"
      }
     },
     "1adeb24feff84d7b86fdbbb6d7ca7a2f": {
      "model_module": "@jupyter-widgets/base",
      "model_module_version": "1.2.0",
      "model_name": "LayoutModel",
      "state": {}
     },
     "1b751c780b7c4e308d3e800b7bf0ad6b": {
      "model_module": "@jupyter-widgets/controls",
      "model_module_version": "1.5.0",
      "model_name": "TextareaModel",
      "state": {
       "continuous_update": false,
       "description": "WKT:",
       "layout": "IPY_MODEL_bcb0e01e9c2c48ff9c0dd39b3161d426",
       "style": "IPY_MODEL_26c46f86528d4bbcb08376f5244bba2e",
       "value": "PROJCS[\"NAD83 / UTM zone 14N\",GEOGCS[\"NAD83\",DATUM[\"North_American_Datum_1983\",SPHEROID[\"GRS 1980\",6378137,298.257222101,AUTHORITY[\"EPSG\",\"7019\"]],AUTHORITY[\"EPSG\",\"6269\"]],PRIMEM[\"Greenwich\",0,AUTHORITY[\"EPSG\",\"8901\"]],UNIT[\"degree\",0.0174532925199433,AUTHORITY[\"EPSG\",\"9122\"]],AUTHORITY[\"EPSG\",\"4269\"]],PROJECTION[\"Transverse_Mercator\"],PARAMETER[\"latitude_of_origin\",0],PARAMETER[\"central_meridian\",-99],PARAMETER[\"scale_factor\",0.9996],PARAMETER[\"false_easting\",500000],PARAMETER[\"false_northing\",0],UNIT[\"metre\",1,AUTHORITY[\"EPSG\",\"9001\"]],AXIS[\"Easting\",EAST],AXIS[\"Northing\",NORTH],AUTHORITY[\"EPSG\",\"26914\"]]"
      }
     },
     "1b9b359ab20d41a69b1404ffd06961d0": {
      "model_module": "@jupyter-widgets/controls",
      "model_module_version": "1.5.0",
      "model_name": "DescriptionStyleModel",
      "state": {
       "description_width": "initial"
      }
     },
     "1be26ffd579d4a9798ff110bd84f948e": {
      "model_module": "@jupyter-widgets/base",
      "model_module_version": "1.2.0",
      "model_name": "LayoutModel",
      "state": {}
     },
     "1cbe595a27094eb9893c43812ad3572c": {
      "model_module": "@jupyter-widgets/controls",
      "model_module_version": "1.5.0",
      "model_name": "RadioButtonsModel",
      "state": {
       "_options_labels": [
        "float",
        "RGB"
       ],
       "description": "Type:",
       "index": 1,
       "layout": "IPY_MODEL_0f80f156e3d74b29905b9b8e804b8a72",
       "style": "IPY_MODEL_74b62d6b3ca444fcb1d7c28d8f57cdd0"
      }
     },
     "1d2ebec5aa944aa389f1715bc1110197": {
      "model_module": "@jupyter-widgets/controls",
      "model_module_version": "1.5.0",
      "model_name": "TextModel",
      "state": {
       "continuous_update": false,
       "description": "Save as:",
       "layout": "IPY_MODEL_4584c08689a744179b7eab2404f8ae35",
       "style": "IPY_MODEL_fc6b1fb8602545c594c67a2f6741f2bf",
       "value": "Gravity_Magnetics_drape60m"
      }
     },
     "1dfb6a370b1347c597e8d2567c09104f": {
      "model_module": "@jupyter-widgets/controls",
      "model_module_version": "1.5.0",
      "model_name": "VBoxModel",
      "state": {
       "children": [
        "IPY_MODEL_7036da8821c3479fb7c56a39f03320b4",
        "IPY_MODEL_ac841a8857514d71963fb753ca70127c"
       ],
       "layout": "IPY_MODEL_e4d9caf0a1f94f7ab2b48208e0e50624"
      }
     },
     "1e9d7d4bc60e4f509e57b30627a9de3f": {
      "model_module": "@jupyter-widgets/controls",
      "model_module_version": "1.5.0",
      "model_name": "VBoxModel",
      "state": {
       "children": [
        "IPY_MODEL_fdfbf4a2a36f4de5a465d2de155e20dc"
       ],
       "layout": "IPY_MODEL_bef55d2db8d44074ad7821f36e3b6e02"
      }
     },
     "1eb104d0bbc8486682c2ba0738e30dea": {
      "model_module": "@jupyter-widgets/controls",
      "model_module_version": "1.5.0",
      "model_name": "HTMLModel",
      "state": {
       "layout": "IPY_MODEL_b1e18bfd9cb349629ca07be5bada4b83",
       "placeholder": "",
       "style": "IPY_MODEL_a1b78d4abd8c422aba23fe32dad993bc",
       "value": "<span style=\"margin-left:10px; color:orange;\">C:\\Users\\dominiquef\\Documents\\GIT\\mira\\mirageoscience-apps\\assets\\FlinFlon.geoh5</span>"
      }
     },
     "1f1fbc780e824eb0a6c4fb6d86ac65e8": {
      "model_module": "@jupyter-widgets/controls",
      "model_module_version": "1.5.0",
      "model_name": "VBoxModel",
      "state": {
       "children": [
        "IPY_MODEL_2e1d56362da54584a7ba3ec59f33c5e0",
        "IPY_MODEL_6e0303ce6b0a4360aaf8fb4d0b647704"
       ],
       "layout": "IPY_MODEL_0a225254f7ac4c35a0e1a90c0465bda2"
      }
     },
     "1f2140c9e9734edba410d3af180161da": {
      "model_module": "@jupyter-widgets/base",
      "model_module_version": "1.2.0",
      "model_name": "LayoutModel",
      "state": {}
     },
     "1f9e59e20db4428192135c4e0579b3e3": {
      "model_module": "@jupyter-widgets/controls",
      "model_module_version": "1.5.0",
      "model_name": "DescriptionStyleModel",
      "state": {
       "description_width": "initial"
      }
     },
     "1fa77261288d4de692ad2a12192dffa5": {
      "model_module": "@jupyter-widgets/controls",
      "model_module_version": "1.5.0",
      "model_name": "DescriptionStyleModel",
      "state": {
       "description_width": ""
      }
     },
     "203812944e6243bb98a2e5ecf427650f": {
      "model_module": "@jupyter-widgets/base",
      "model_module_version": "1.2.0",
      "model_name": "LayoutModel",
      "state": {}
     },
     "204a459c657943d995ed92b4d990a62f": {
      "model_module": "@jupyter-widgets/base",
      "model_module_version": "1.2.0",
      "model_name": "LayoutModel",
      "state": {}
     },
     "20513723e51e41c8b9a5e870317a4ca6": {
      "model_module": "@jupyter-widgets/controls",
      "model_module_version": "1.5.0",
      "model_name": "VBoxModel",
      "state": {
       "children": [
        "IPY_MODEL_7036da8821c3479fb7c56a39f03320b4",
        "IPY_MODEL_ac841a8857514d71963fb753ca70127c"
       ],
       "layout": "IPY_MODEL_8320c3889ad64edd946e4acf90d5645b"
      }
     },
     "20e5af24c8b54a6a94cafc77b0574824": {
      "model_module": "@jupyter-widgets/controls",
      "model_module_version": "1.5.0",
      "model_name": "LabelModel",
      "state": {
       "layout": "IPY_MODEL_5aa01bd257254b77abef78cc3516d148",
       "style": "IPY_MODEL_9f3c2a9ce33b480991718f94e4601a6f",
       "value": "Monitoring folder"
      }
     },
     "213b4823c8ce457e924f1bd6d0699486": {
      "model_module": "@jupyter-widgets/controls",
      "model_module_version": "1.5.0",
      "model_name": "LabelModel",
      "state": {
       "layout": "IPY_MODEL_a4a172edac204cce9ffaa01041e7952d",
       "style": "IPY_MODEL_f5c9c171169046478b571a1ad88f7bfd",
       "value": "Workspace"
      }
     },
     "216ce6435a4345edb393b7cb4bb7ffa4": {
      "model_module": "@jupyter-widgets/controls",
      "model_module_version": "1.5.0",
      "model_name": "ButtonModel",
      "state": {
       "button_style": "danger",
       "description": "Export",
       "icon": "check",
       "layout": "IPY_MODEL_d752287751cc42128ca03b5ff5a18a9f",
       "style": "IPY_MODEL_ab77532ef3fe4864b3c20d67e6665667",
       "tooltip": "Run computation"
      }
     },
     "2181d1bc88ae45809d86dda9dd5e70da": {
      "model_module": "@jupyter-widgets/controls",
      "model_module_version": "1.5.0",
      "model_name": "VBoxModel",
      "state": {
       "children": [
        "IPY_MODEL_7036da8821c3479fb7c56a39f03320b4",
        "IPY_MODEL_ac841a8857514d71963fb753ca70127c"
       ],
       "layout": "IPY_MODEL_24cd8ad857d2454998169875cdd7ba69"
      }
     },
     "21da9532c896421f9c29859dd702f4f6": {
      "model_module": "@jupyter-widgets/controls",
      "model_module_version": "1.5.0",
      "model_name": "VBoxModel",
      "state": {
       "children": [
        "IPY_MODEL_7036da8821c3479fb7c56a39f03320b4",
        "IPY_MODEL_ac841a8857514d71963fb753ca70127c"
       ],
       "layout": "IPY_MODEL_72e5f189768e40308c0495ed508384c0"
      }
     },
     "22f195dea68e4a469564652f8cdbff62": {
      "model_module": "@jupyter-widgets/base",
      "model_module_version": "1.2.0",
      "model_name": "LayoutModel",
      "state": {}
     },
     "232819b2ffe54fcdbf05ada03ea6e05a": {
      "model_module": "@jupyter-widgets/base",
      "model_module_version": "1.2.0",
      "model_name": "LayoutModel",
      "state": {
       "width": "auto"
      }
     },
     "2378e312548e444eac35b2d43a38a775": {
      "model_module": "@jupyter-widgets/base",
      "model_module_version": "1.2.0",
      "model_name": "LayoutModel",
      "state": {}
     },
     "2381a3aaf4874cd19748fcbdc2e8db53": {
      "model_module": "@jupyter-widgets/controls",
      "model_module_version": "1.5.0",
      "model_name": "DropdownModel",
      "state": {
       "_options_labels": [
        "C:\\Users\\dominiquef\\Documents\\GIT\\mira\\mirageoscience-apps\\assets",
        "C:\\Users\\dominiquef\\Documents\\GIT\\mira\\mirageoscience-apps",
        "C:\\Users\\dominiquef\\Documents\\GIT\\mira",
        "C:\\Users\\dominiquef\\Documents\\GIT",
        "C:\\Users\\dominiquef\\Documents",
        "C:\\Users\\dominiquef",
        "C:\\Users",
        "C:\\",
        "D:\\",
        "Z:\\"
       ],
       "index": 0,
       "layout": "IPY_MODEL_129d406ead624aada08882466e2095d0",
       "style": "IPY_MODEL_128a0c6509374131ad395f96baea1b04"
      }
     },
     "24445a8292ab4e4683a73d15c377072d": {
      "model_module": "@jupyter-widgets/controls",
      "model_module_version": "1.5.0",
      "model_name": "DescriptionStyleModel",
      "state": {
       "description_width": "initial"
      }
     },
     "244f0fb03739450ba1c8da489beb2fb3": {
      "model_module": "@jupyter-widgets/controls",
      "model_module_version": "1.5.0",
      "model_name": "HBoxModel",
      "state": {
       "children": [
        "IPY_MODEL_64a30024529e468dacd80eb031d9eea6",
        "IPY_MODEL_1101a18514a645008d7f1c4dd8039a86"
       ],
       "layout": "IPY_MODEL_1149ad11c25a40509438a001f77de400"
      }
     },
     "248a46d230bc45db8a14543754110157": {
      "model_module": "@jupyter-widgets/base",
      "model_module_version": "1.2.0",
      "model_name": "LayoutModel",
      "state": {
       "width": "auto"
      }
     },
     "24bbfb2a2b0b4ff9b39664eeccfb2a03": {
      "model_module": "@jupyter-widgets/controls",
      "model_module_version": "1.5.0",
      "model_name": "FloatTextModel",
      "state": {
       "description": "No-Data-Value",
       "layout": "IPY_MODEL_6c09dc40a1a645d29b412ad0a902dccb",
       "step": null,
       "style": "IPY_MODEL_b53a9d177615484baec707da24f201bb",
       "value": -99999
      }
     },
     "24cd8ad857d2454998169875cdd7ba69": {
      "model_module": "@jupyter-widgets/base",
      "model_module_version": "1.2.0",
      "model_name": "LayoutModel",
      "state": {}
     },
     "2561f3cea5384f80a7f9076a990658c0": {
      "model_module": "@jupyter-widgets/base",
      "model_module_version": "1.2.0",
      "model_name": "LayoutModel",
      "state": {}
     },
     "2597791f307d496cafdd24312f530a37": {
      "model_module": "@jupyter-widgets/controls",
      "model_module_version": "1.5.0",
      "model_name": "DescriptionStyleModel",
      "state": {
       "description_width": ""
      }
     },
     "260642bb1c524b869e64678ea622b415": {
      "model_module": "@jupyter-widgets/controls",
      "model_module_version": "1.5.0",
      "model_name": "DescriptionStyleModel",
      "state": {
       "description_width": ""
      }
     },
     "2651a82239ef45a082de6665e3360f4c": {
      "model_module": "@jupyter-widgets/base",
      "model_module_version": "1.2.0",
      "model_name": "LayoutModel",
      "state": {}
     },
     "26c46f86528d4bbcb08376f5244bba2e": {
      "model_module": "@jupyter-widgets/controls",
      "model_module_version": "1.5.0",
      "model_name": "DescriptionStyleModel",
      "state": {
       "description_width": ""
      }
     },
     "26d0ed19376441ffb967b5f91b07a13e": {
      "model_module": "@jupyter-widgets/base",
      "model_module_version": "1.2.0",
      "model_name": "LayoutModel",
      "state": {}
     },
     "2725778b577e4a438199ed1c688193b9": {
      "model_module": "@jupyter-widgets/controls",
      "model_module_version": "1.5.0",
      "model_name": "VBoxModel",
      "state": {
       "children": [
        "IPY_MODEL_bad2b16252b047bea39b8782ba11e9fe",
        "IPY_MODEL_7892043c073d459485c4171432164b46",
        "IPY_MODEL_4a38617c297540538b5e3bee46914105"
       ],
       "layout": "IPY_MODEL_ba20231710fa406ea14c6007f6f578eb"
      }
     },
     "27880b3866c7410cb314ce929f784805": {
      "model_module": "@jupyter-widgets/controls",
      "model_module_version": "1.5.0",
      "model_name": "VBoxModel",
      "state": {
       "children": [
        "IPY_MODEL_20e5af24c8b54a6a94cafc77b0574824",
        "IPY_MODEL_811c4ff85d654a4d9d78e580019a8428"
       ],
       "layout": "IPY_MODEL_d06121089b42493f88a2ffc6dc55c709"
      }
     },
     "279a6b24519f46f2a663bb82c93c35fd": {
      "model_module": "@jupyter-widgets/base",
      "model_module_version": "1.2.0",
      "model_name": "LayoutModel",
      "state": {}
     },
     "27c20a32c6f643dab125b97b11671de2": {
      "model_module": "@jupyter-widgets/controls",
      "model_module_version": "1.5.0",
      "model_name": "ButtonModel",
      "state": {
       "description": "Cancel",
       "layout": "IPY_MODEL_05e0b9e68fe64f2ca52674b7720c62ff",
       "style": "IPY_MODEL_e5cb8eada89e4ad39d025d8ce5f47908"
      }
     },
     "27de1cdd77a842ea9eebeaf33c4605c3": {
      "model_module": "@jupyter-widgets/base",
      "model_module_version": "1.2.0",
      "model_name": "LayoutModel",
      "state": {
       "width": "auto"
      }
     },
     "288dbefce1f849b689251bf108187d67": {
      "model_module": "@jupyter-widgets/controls",
      "model_module_version": "1.5.0",
      "model_name": "DescriptionStyleModel",
      "state": {
       "description_width": "initial"
      }
     },
     "28a65a037f404fedbd928122a7bb65b6": {
      "model_module": "@jupyter-widgets/controls",
      "model_module_version": "1.5.0",
      "model_name": "DescriptionStyleModel",
      "state": {
       "description_width": "initial"
      }
     },
     "28f9d7705647429ab4c01f209999daa9": {
      "model_module": "@jupyter-widgets/controls",
      "model_module_version": "1.5.0",
      "model_name": "RadioButtonsModel",
      "state": {
       "_options_labels": [
        "float",
        "RGB"
       ],
       "description": "Type:",
       "index": 1,
       "layout": "IPY_MODEL_125512d09fe3495585fa7163d3a210db",
       "style": "IPY_MODEL_4a2706b4d8594f0bae9979d83e7f52b0"
      }
     },
     "290a5693f1f0462ea3b35dfe11462a2c": {
      "model_module": "@jupyter-widgets/base",
      "model_module_version": "1.2.0",
      "model_name": "LayoutModel",
      "state": {
       "display": "none",
       "grid_area": "filename",
       "width": "auto"
      }
     },
     "29329e57db4d4fbb8933cfdcbcba3ab1": {
      "model_module": "@jupyter-widgets/controls",
      "model_module_version": "1.5.0",
      "model_name": "VBoxModel",
      "state": {
       "children": [
        "IPY_MODEL_654abae9da0e4b0a8e254880d08bb577"
       ],
       "layout": "IPY_MODEL_75ad83834f5a4d959a83330da771b86d"
      }
     },
     "29524521a8374d5fb3593af45e359b48": {
      "model_module": "@jupyter-widgets/base",
      "model_module_version": "1.2.0",
      "model_name": "LayoutModel",
      "state": {}
     },
     "29ac3cc56bdf4817a2c127fa00edd06c": {
      "model_module": "@jupyter-widgets/base",
      "model_module_version": "1.2.0",
      "model_name": "LayoutModel",
      "state": {}
     },
     "29f6bce45da047979622a31e1d5b5afa": {
      "model_module": "@jupyter-widgets/controls",
      "model_module_version": "1.5.0",
      "model_name": "HBoxModel",
      "state": {
       "children": [
        "IPY_MODEL_fbfc714170464a1794807cf4cfdb71c6",
        "IPY_MODEL_65a52514fb2c44b4bdc06fff179b0c54"
       ],
       "layout": "IPY_MODEL_53d6a1e9102b40b192d69a1acaf0d7d5"
      }
     },
     "2a768d4100fc4567a29221d37ef69b50": {
      "model_module": "@jupyter-widgets/controls",
      "model_module_version": "1.5.0",
      "model_name": "ToggleButtonModel",
      "state": {
       "layout": "IPY_MODEL_c0afc633e5ed41b6aa5feddd3a2069a1",
       "style": "IPY_MODEL_2f9ef28f23024383958444d70f26f312",
       "value": true
      }
     },
     "2b47c1c76831424490770bc8a2e3a515": {
      "model_module": "@jupyter-widgets/controls",
      "model_module_version": "1.5.0",
      "model_name": "ButtonModel",
      "state": {
       "button_style": "danger",
       "description": "Export",
       "icon": "check",
       "layout": "IPY_MODEL_350b8ce0163d4f1eaeb5fa64b88659eb",
       "style": "IPY_MODEL_2e2c026f755b4861933efbfdacbc2763",
       "tooltip": "Run computation"
      }
     },
     "2b5c63e9bbb447f18af11a92cc32cc84": {
      "model_module": "@jupyter-widgets/controls",
      "model_module_version": "1.5.0",
      "model_name": "HBoxModel",
      "state": {
       "children": [
        "IPY_MODEL_df9377fae02445a8bf39a40798bfaa0d",
        "IPY_MODEL_bba976f360bf4e0c8a7d8c5f83506d3c"
       ],
       "layout": "IPY_MODEL_61b286f14a1740beb8a381ade1fd039c"
      }
     },
     "2b8004c526dd4599946f3753ed172bc8": {
      "model_module": "@jupyter-widgets/base",
      "model_module_version": "1.2.0",
      "model_name": "LayoutModel",
      "state": {}
     },
     "2bc63f4bd53f445fa172f172e56fc8c2": {
      "model_module": "@jupyter-widgets/controls",
      "model_module_version": "1.5.0",
      "model_name": "DescriptionStyleModel",
      "state": {
       "description_width": "initial"
      }
     },
     "2c21088063484d3d9ed2fcba377465cb": {
      "model_module": "@jupyter-widgets/controls",
      "model_module_version": "1.5.0",
      "model_name": "VBoxModel",
      "state": {
       "children": [
        "IPY_MODEL_9c447e7db4cc44bfab9a045210df4673"
       ],
       "layout": "IPY_MODEL_eee448ca848640d8858f02842f19277e"
      }
     },
     "2c91f27e75084d89a9af58f61b2872b6": {
      "model_module": "@jupyter-widgets/base",
      "model_module_version": "1.2.0",
      "model_name": "LayoutModel",
      "state": {}
     },
     "2d8ea1872b8e4e1e876e28718a4dc1ca": {
      "model_module": "@jupyter-widgets/base",
      "model_module_version": "1.2.0",
      "model_name": "LayoutModel",
      "state": {}
     },
     "2da7c8f5a3c8443baba0ea103451662d": {
      "model_module": "@jupyter-widgets/base",
      "model_module_version": "1.2.0",
      "model_name": "LayoutModel",
      "state": {}
     },
     "2deecb589d10423d9e02ef02bfd2307f": {
      "model_module": "@jupyter-widgets/controls",
      "model_module_version": "1.5.0",
      "model_name": "HBoxModel",
      "state": {
       "children": [
        "IPY_MODEL_dfdba66715f44cedbccd01be36cf69c8",
        "IPY_MODEL_0879defc9817452e817f199ed331a304"
       ],
       "layout": "IPY_MODEL_a786228d57d842e6ab907076f864f1a9"
      }
     },
     "2e1d56362da54584a7ba3ec59f33c5e0": {
      "model_module": "@jupyter-widgets/controls",
      "model_module_version": "1.5.0",
      "model_name": "LabelModel",
      "state": {
       "layout": "IPY_MODEL_4f683d8dc3fb4f8d8d5f9030da6b94f2",
       "style": "IPY_MODEL_7a10a32f8e344e6980359986ae9cfa62",
       "value": "Monitoring folder"
      }
     },
     "2e2c026f755b4861933efbfdacbc2763": {
      "model_module": "@jupyter-widgets/controls",
      "model_module_version": "1.5.0",
      "model_name": "ButtonStyleModel",
      "state": {}
     },
     "2e453760c16f489c9a1ef69e7c17a8c3": {
      "model_module": "@jupyter-widgets/controls",
      "model_module_version": "1.5.0",
      "model_name": "ButtonStyleModel",
      "state": {}
     },
     "2f99fcf4fcf74b4c811f7a5e3c41e6b3": {
      "model_module": "@jupyter-widgets/controls",
      "model_module_version": "1.5.0",
      "model_name": "ButtonStyleModel",
      "state": {}
     },
     "2f9ef28f23024383958444d70f26f312": {
      "model_module": "@jupyter-widgets/controls",
      "model_module_version": "1.5.0",
      "model_name": "DescriptionStyleModel",
      "state": {
       "description_width": ""
      }
     },
     "2fa9ab8cb42a41daa39dac82a186ec54": {
      "model_module": "@jupyter-widgets/base",
      "model_module_version": "1.2.0",
      "model_name": "LayoutModel",
      "state": {}
     },
     "30872c7efe924d10861d15c7f911d4bf": {
      "model_module": "@jupyter-widgets/base",
      "model_module_version": "1.2.0",
      "model_name": "LayoutModel",
      "state": {
       "display": "none",
       "width": "auto"
      }
     },
     "30d03841b8e2496a84c42acaad18ab8f": {
      "model_module": "@jupyter-widgets/base",
      "model_module_version": "1.2.0",
      "model_name": "LayoutModel",
      "state": {}
     },
     "30e34f0149c841678fd95ca478eeb91c": {
      "model_module": "@jupyter-widgets/controls",
      "model_module_version": "1.5.0",
      "model_name": "DropdownModel",
      "state": {
       "_options_labels": [
        "C:\\Users\\dominiquef\\Documents\\GIT\\mira\\mirageoscience-apps\\assets",
        "C:\\Users\\dominiquef\\Documents\\GIT\\mira\\mirageoscience-apps",
        "C:\\Users\\dominiquef\\Documents\\GIT\\mira",
        "C:\\Users\\dominiquef\\Documents\\GIT",
        "C:\\Users\\dominiquef\\Documents",
        "C:\\Users\\dominiquef",
        "C:\\Users",
        "C:\\",
        "D:\\",
        "Z:\\"
       ],
       "index": 0,
       "layout": "IPY_MODEL_7250fbceb7ca497bb42994135400ae5a",
       "style": "IPY_MODEL_8fffd7ffa37e44d4892082b7a17fcad5"
      }
     },
     "310baeb3624b425b9ce928b5e73a949b": {
      "model_module": "@jupyter-widgets/controls",
      "model_module_version": "1.5.0",
      "model_name": "DescriptionStyleModel",
      "state": {
       "description_width": ""
      }
     },
     "320d2868761c4caa8febd4ef4c1f0ebf": {
      "model_module": "@jupyter-widgets/base",
      "model_module_version": "1.2.0",
      "model_name": "LayoutModel",
      "state": {
       "grid_area": "dircontent",
       "width": "auto"
      }
     },
     "323853bffd814f2084b5ab740b84105b": {
      "model_module": "@jupyter-widgets/controls",
      "model_module_version": "1.5.0",
      "model_name": "HTMLModel",
      "state": {
       "layout": "IPY_MODEL_637beb92b82144eb952bdd5166751edd",
       "placeholder": "",
       "style": "IPY_MODEL_7425c4c0fdfd4de5b895397ff5711f63",
       "value": "<span style=\"margin-left:10px; color:green;\">C:\\Users\\dominiquef\\Documents\\GIT\\mira\\mirageoscience-apps\\assets\\</span>"
      }
     },
     "326f8e42e6314ebf8564fdec09153382": {
      "model_module": "@jupyter-widgets/base",
      "model_module_version": "1.2.0",
      "model_name": "LayoutModel",
      "state": {
       "width": "auto"
      }
     },
     "32b54fd3adda4b9980d73bb258b4a101": {
      "model_module": "@jupyter-widgets/base",
      "model_module_version": "1.2.0",
      "model_name": "LayoutModel",
      "state": {}
     },
     "32e1197d13b44375933523598d1caa58": {
      "model_module": "@jupyter-widgets/controls",
      "model_module_version": "1.5.0",
      "model_name": "DescriptionStyleModel",
      "state": {
       "description_width": ""
      }
     },
     "32ec5e1aa3a04680a6a3d8c5a6893769": {
      "model_module": "@jupyter-widgets/controls",
      "model_module_version": "1.5.0",
      "model_name": "DescriptionStyleModel",
      "state": {
       "description_width": "initial"
      }
     },
     "349c37ad0ba74559b320b7e637f122b7": {
      "model_module": "@jupyter-widgets/base",
      "model_module_version": "1.2.0",
      "model_name": "LayoutModel",
      "state": {}
     },
     "34b70860bf6e4fbbaae4693efd650d4a": {
      "model_module": "@jupyter-widgets/base",
      "model_module_version": "1.2.0",
      "model_name": "LayoutModel",
      "state": {}
     },
     "350b8ce0163d4f1eaeb5fa64b88659eb": {
      "model_module": "@jupyter-widgets/base",
      "model_module_version": "1.2.0",
      "model_name": "LayoutModel",
      "state": {}
     },
     "364607f5efda435a9683b80b51dcfadd": {
      "model_module": "@jupyter-widgets/controls",
      "model_module_version": "1.5.0",
      "model_name": "DropdownModel",
      "state": {
       "_options_labels": [
        "C:\\Users\\dominiquef\\Documents\\GIT\\mira\\mirageoscience-apps\\assets",
        "C:\\Users\\dominiquef\\Documents\\GIT\\mira\\mirageoscience-apps",
        "C:\\Users\\dominiquef\\Documents\\GIT\\mira",
        "C:\\Users\\dominiquef\\Documents\\GIT",
        "C:\\Users\\dominiquef\\Documents",
        "C:\\Users\\dominiquef",
        "C:\\Users",
        "C:\\",
        "D:\\",
        "Z:\\"
       ],
       "index": 0,
       "layout": "IPY_MODEL_6e3c30602c564e15b8c220996a1979b1",
       "style": "IPY_MODEL_a3019dc49b1e4db6b0a7351b46176732"
      }
     },
     "367267ba7e054fefb504b7bd3842fa36": {
      "model_module": "@jupyter-widgets/controls",
      "model_module_version": "1.5.0",
      "model_name": "ButtonStyleModel",
      "state": {}
     },
     "36fcedecdc524879a1429f4729ea24cc": {
      "model_module": "@jupyter-widgets/controls",
      "model_module_version": "1.5.0",
      "model_name": "DescriptionStyleModel",
      "state": {
       "description_width": "initial"
      }
     },
     "373f5b243fe345eca1edc8ee37480f4a": {
      "model_module": "@jupyter-widgets/base",
      "model_module_version": "1.2.0",
      "model_name": "LayoutModel",
      "state": {
       "width": "auto"
      }
     },
     "37f017d1e57a403aa43abef71da32548": {
      "model_module": "@jupyter-widgets/controls",
      "model_module_version": "1.5.0",
      "model_name": "ButtonModel",
      "state": {
       "button_style": "danger",
       "description": "Export",
       "icon": "check",
       "layout": "IPY_MODEL_f848c20c9b2a4672ade9858fa1f7a222",
       "style": "IPY_MODEL_4c63ebff5a2a474e9129591f09459ab7",
       "tooltip": "Run computation"
      }
     },
     "380bcf084653452d954b3a1640f415a8": {
      "model_module": "@jupyter-widgets/base",
      "model_module_version": "1.2.0",
      "model_name": "LayoutModel",
      "state": {}
     },
     "387eecbafe62450187c0e92e34b9f35f": {
      "model_module": "@jupyter-widgets/base",
      "model_module_version": "1.2.0",
      "model_name": "LayoutModel",
      "state": {}
     },
     "3967473615b14a138fdf86aaf965188c": {
      "model_module": "@jupyter-widgets/controls",
      "model_module_version": "1.5.0",
      "model_name": "DescriptionStyleModel",
      "state": {
       "description_width": "initial"
      }
     },
     "3a0a7ee4adbf42efafeb5f0e89df1dcb": {
      "model_module": "@jupyter-widgets/controls",
      "model_module_version": "1.5.0",
      "model_name": "VBoxModel",
      "state": {
       "children": [
        "IPY_MODEL_7036da8821c3479fb7c56a39f03320b4",
        "IPY_MODEL_ac841a8857514d71963fb753ca70127c"
       ],
       "layout": "IPY_MODEL_1be26ffd579d4a9798ff110bd84f948e"
      }
     },
     "3a7b4a7405624991976591ff24e73e1a": {
      "model_module": "@jupyter-widgets/controls",
      "model_module_version": "1.5.0",
      "model_name": "VBoxModel",
      "state": {
       "children": [
        "IPY_MODEL_0b88ad2f071f48138701dd8d13d1ce72"
       ],
       "layout": "IPY_MODEL_75541d90ccce43e79ff4c407cf112da4"
      }
     },
     "3a9594c739fb432db4cdb466a7e596c2": {
      "model_module": "@jupyter-widgets/base",
      "model_module_version": "1.2.0",
      "model_name": "LayoutModel",
      "state": {}
     },
     "3ab7a42371c34166917a6ad70519659a": {
      "model_module": "@jupyter-widgets/controls",
      "model_module_version": "1.5.0",
      "model_name": "VBoxModel",
      "state": {
       "children": [
        "IPY_MODEL_3cbe71c904504239aede75e129fdd219",
        "IPY_MODEL_2725778b577e4a438199ed1c688193b9"
       ],
       "layout": "IPY_MODEL_906257af9b764505b2a068a0d6583b92"
      }
     },
     "3ae096e9006a4543aae0d24dbf670229": {
      "model_module": "@jupyter-widgets/controls",
      "model_module_version": "1.5.0",
      "model_name": "DescriptionStyleModel",
      "state": {
       "description_width": "initial"
      }
     },
     "3ae4279a2f824af2941bd0e60917cf6b": {
      "model_module": "@jupyter-widgets/controls",
      "model_module_version": "1.5.0",
      "model_name": "VBoxModel",
      "state": {
       "children": [
        "IPY_MODEL_a246945ff51d402582adf35fbf874095"
       ],
       "layout": "IPY_MODEL_09b098de9b3847dd9ec4226a3dfc3965"
      }
     },
     "3cb932e9fd8c43bfa1947aa507e247e4": {
      "model_module": "@jupyter-widgets/controls",
      "model_module_version": "1.5.0",
      "model_name": "DescriptionStyleModel",
      "state": {
       "description_width": ""
      }
     },
     "3cbe71c904504239aede75e129fdd219": {
      "model_module": "@jupyter-widgets/controls",
      "model_module_version": "1.5.0",
      "model_name": "LabelModel",
      "state": {
       "layout": "IPY_MODEL_e349ebd4b213474ca28f230cd9aa3099",
       "style": "IPY_MODEL_7df8e0e91381453ea48e872522fab3e4",
       "value": "Monitoring folder"
      }
     },
     "3d44b92800364e8fbac74236b7beccee": {
      "model_module": "@jupyter-widgets/controls",
      "model_module_version": "1.5.0",
      "model_name": "ButtonStyleModel",
      "state": {}
     },
     "3d4b53bfc3624b75a8a24871bca82cfd": {
      "model_module": "@jupyter-widgets/base",
      "model_module_version": "1.2.0",
      "model_name": "LayoutModel",
      "state": {}
     },
     "3d930f39a0a2431980c9780eaf669347": {
      "model_module": "@jupyter-widgets/controls",
      "model_module_version": "1.5.0",
      "model_name": "VBoxModel",
      "state": {
       "children": [
        "IPY_MODEL_7036da8821c3479fb7c56a39f03320b4",
        "IPY_MODEL_ac841a8857514d71963fb753ca70127c"
       ],
       "layout": "IPY_MODEL_2d8ea1872b8e4e1e876e28718a4dc1ca"
      }
     },
     "3dad92c054e34723b6d05ef81a66a61e": {
      "model_module": "@jupyter-widgets/base",
      "model_module_version": "1.2.0",
      "model_name": "LayoutModel",
      "state": {}
     },
     "3dd61ba42bae4a1ebe2b0d9377003d93": {
      "model_module": "@jupyter-widgets/base",
      "model_module_version": "1.2.0",
      "model_name": "LayoutModel",
      "state": {
       "grid_area": "dircontent",
       "width": "auto"
      }
     },
     "3df38797784f4edbab9a3d27f0d83ed5": {
      "model_module": "@jupyter-widgets/controls",
      "model_module_version": "1.5.0",
      "model_name": "HTMLModel",
      "state": {
       "layout": "IPY_MODEL_c068bc53cd5a42319bd955cc34cb1449",
       "style": "IPY_MODEL_13f3daacf9e54623b2c177cebe12c60a"
      }
     },
     "3e5bf9ac73c44c539800b6737c2cd3d4": {
      "model_module": "@jupyter-widgets/controls",
      "model_module_version": "1.5.0",
      "model_name": "SelectModel",
      "state": {
       "_options_labels": [
        "..",
        "Temp",
        "dask-worker-space"
       ],
       "index": null,
       "layout": "IPY_MODEL_3dd61ba42bae4a1ebe2b0d9377003d93",
       "rows": 8,
       "style": "IPY_MODEL_e621980c9e564dc98fe48d0fb2fba1f6"
      }
     },
     "3f0a018134564992b55aafa0689cc0ad": {
      "model_module": "@jupyter-widgets/controls",
      "model_module_version": "1.5.0",
      "model_name": "DescriptionStyleModel",
      "state": {
       "description_width": ""
      }
     },
     "3f7bb4c4fcbc45da878b6f2e7ede4ec9": {
      "model_module": "@jupyter-widgets/base",
      "model_module_version": "1.2.0",
      "model_name": "LayoutModel",
      "state": {
       "width": "auto"
      }
     },
     "3fe7114915e947108c060dea023d5805": {
      "model_module": "@jupyter-widgets/base",
      "model_module_version": "1.2.0",
      "model_name": "LayoutModel",
      "state": {
       "display": "none"
      }
     },
     "40668bcb67f04091b203c7c3d0435aca": {
      "model_module": "@jupyter-widgets/controls",
      "model_module_version": "1.5.0",
      "model_name": "VBoxModel",
      "state": {
       "children": [
        "IPY_MODEL_69d3879bc23940ab8dce9738a0486a3e",
        "IPY_MODEL_244f0fb03739450ba1c8da489beb2fb3"
       ],
       "layout": "IPY_MODEL_0c82e963a70641cea1924f2ebf40ff8a"
      }
     },
     "421ca1a7f31f4468887680ea5ce1488e": {
      "model_module": "@jupyter-widgets/controls",
      "model_module_version": "1.5.0",
      "model_name": "VBoxModel",
      "state": {
       "children": [
        "IPY_MODEL_4a25e4a64db4413b87ff79e765cc1d1a",
        "IPY_MODEL_029e2afbd5764333ab2a038ff8505810",
        "IPY_MODEL_cd94e431b0404e27bf6ef6adc3826e5b",
        "IPY_MODEL_42f7fc67bf6a4b1b8079530d4ceb5f3c",
        "IPY_MODEL_e2bfe585ba494cfbbdfd7df0e71ed419",
        "IPY_MODEL_2b47c1c76831424490770bc8a2e3a515",
        "IPY_MODEL_6e0303ce6b0a4360aaf8fb4d0b647704"
       ],
       "layout": "IPY_MODEL_adce6e41b2ac42c8805b3b077d09656d"
      }
     },
     "42b45935c97c479395c3b74e0a28b03e": {
      "model_module": "@jupyter-widgets/base",
      "model_module_version": "1.2.0",
      "model_name": "LayoutModel",
      "state": {}
     },
     "42f7fc67bf6a4b1b8079530d4ceb5f3c": {
      "model_module": "@jupyter-widgets/controls",
      "model_module_version": "1.5.0",
      "model_name": "FloatTextModel",
      "state": {
       "description": "No-Data-Value",
       "layout": "IPY_MODEL_75fca051d166419a896ca9c4834a3639",
       "step": null,
       "style": "IPY_MODEL_4b80b7f944124425aa380bb47bfca946",
       "value": -99999
      }
     },
     "434178472d7446b8bb2a1804cef2d9a0": {
      "model_module": "@jupyter-widgets/controls",
      "model_module_version": "1.5.0",
      "model_name": "SelectMultipleModel",
      "state": {
       "_options_labels": [
        "",
        "--- Channels ---",
        "Airborne_Gxx",
        "Airborne_Gxy",
        "Airborne_Gxz",
        "Airborne_Gyy",
        "Airborne_Gyz",
        "Airborne_Gz",
        "Airborne_Gzz",
        "Airborne_TMI",
        "Ground_Gz",
        "Z"
       ],
       "description": "Data: ",
       "index": [
        2
       ],
       "layout": "IPY_MODEL_42b45935c97c479395c3b74e0a28b03e",
       "rows": 5,
       "style": "IPY_MODEL_fa3d420f803b4b48be74cc62499b2635"
      }
     },
     "43aad74d2a3b493dbbc95bc210bd3af5": {
      "model_module": "@jupyter-widgets/controls",
      "model_module_version": "1.5.0",
      "model_name": "VBoxModel",
      "state": {
       "children": [
        "IPY_MODEL_7036da8821c3479fb7c56a39f03320b4",
        "IPY_MODEL_ac841a8857514d71963fb753ca70127c"
       ],
       "layout": "IPY_MODEL_c8d6bd858ed64ee2b25b12e413fb04b5"
      }
     },
     "43b5058cc177464d8209d8bb4e49eb49": {
      "model_module": "@jupyter-widgets/base",
      "model_module_version": "1.2.0",
      "model_name": "LayoutModel",
      "state": {}
     },
     "43c5b883f7af47fa8c2bb5ecb67b8f94": {
      "model_module": "@jupyter-widgets/base",
      "model_module_version": "1.2.0",
      "model_name": "LayoutModel",
      "state": {}
     },
     "43e00c7580f34c06bf98202f9be79075": {
      "model_module": "@jupyter-widgets/base",
      "model_module_version": "1.2.0",
      "model_name": "LayoutModel",
      "state": {}
     },
     "4417f9f2929540739c05577145b87b94": {
      "model_module": "@jupyter-widgets/controls",
      "model_module_version": "1.5.0",
      "model_name": "DropdownModel",
      "state": {
       "_options_labels": [
        "C:\\Users\\dominiquef\\Documents\\GIT\\mira\\mirageoscience-apps\\assets",
        "C:\\Users\\dominiquef\\Documents\\GIT\\mira\\mirageoscience-apps",
        "C:\\Users\\dominiquef\\Documents\\GIT\\mira",
        "C:\\Users\\dominiquef\\Documents\\GIT",
        "C:\\Users\\dominiquef\\Documents",
        "C:\\Users\\dominiquef",
        "C:\\Users",
        "C:\\",
        "D:\\",
        "Z:\\"
       ],
       "index": 0,
       "layout": "IPY_MODEL_1a8a8dff35e34b63a583d0c78dc7e920",
       "style": "IPY_MODEL_a0e86d2ed40545bd9b588c411745cf97"
      }
     },
     "449322c381e645608a38c2990cff4e8e": {
      "model_module": "@jupyter-widgets/controls",
      "model_module_version": "1.5.0",
      "model_name": "ButtonStyleModel",
      "state": {}
     },
     "4584c08689a744179b7eab2404f8ae35": {
      "model_module": "@jupyter-widgets/base",
      "model_module_version": "1.2.0",
      "model_name": "LayoutModel",
      "state": {}
     },
     "468f79c0409042a0abb65331bc55aeb2": {
      "model_module": "@jupyter-widgets/base",
      "model_module_version": "1.2.0",
      "model_name": "LayoutModel",
      "state": {}
     },
     "46d717d1a5d647a692f357c0eac1dc46": {
      "model_module": "@jupyter-widgets/controls",
      "model_module_version": "1.5.0",
      "model_name": "VBoxModel",
      "state": {
       "children": [
        "IPY_MODEL_843dc0ea520442268cab67a08c7cb6e9"
       ],
       "layout": "IPY_MODEL_0c2e0f60d2754d53a4e01350856c5d64"
      }
     },
     "47c22a6ef37842f78e0a66309366f3d8": {
      "model_module": "@jupyter-widgets/base",
      "model_module_version": "1.2.0",
      "model_name": "LayoutModel",
      "state": {
       "display": "none",
       "grid_area": "filename",
       "width": "auto"
      }
     },
     "482a1927b9434f2eae3221e88558e4d3": {
      "model_module": "@jupyter-widgets/base",
      "model_module_version": "1.2.0",
      "model_name": "LayoutModel",
      "state": {
       "display": "none",
       "width": "auto"
      }
     },
     "4862fc34280c4dbd9a39772e89b29fa4": {
      "model_module": "@jupyter-widgets/base",
      "model_module_version": "1.2.0",
      "model_name": "LayoutModel",
      "state": {}
     },
     "487331e98e124cbfb2023a677890547b": {
      "model_module": "@jupyter-widgets/controls",
      "model_module_version": "1.5.0",
      "model_name": "DescriptionStyleModel",
      "state": {
       "description_width": ""
      }
     },
     "48a32ebe5b1043e18068b79de18c7e8c": {
      "model_module": "@jupyter-widgets/base",
      "model_module_version": "1.2.0",
      "model_name": "LayoutModel",
      "state": {
       "grid_area": "dircontent",
       "width": "auto"
      }
     },
     "48e3a8708aec4bec9931a14f4888e4cb": {
      "model_module": "@jupyter-widgets/controls",
      "model_module_version": "1.5.0",
      "model_name": "ButtonStyleModel",
      "state": {}
     },
     "48ed9abf2ad142ea888940da99f054a0": {
      "model_module": "@jupyter-widgets/base",
      "model_module_version": "1.2.0",
      "model_name": "LayoutModel",
      "state": {
       "width": "75%"
      }
     },
     "4a25e4a64db4413b87ff79e765cc1d1a": {
      "model_module": "@jupyter-widgets/controls",
      "model_module_version": "1.5.0",
      "model_name": "VBoxModel",
      "state": {
       "children": [
        "IPY_MODEL_0589a62b00494e2a8b45a743d1cca8f6",
        "IPY_MODEL_2b5c63e9bbb447f18af11a92cc32cc84"
       ],
       "layout": "IPY_MODEL_4e4e858aadd24076b0bcc29cfae3cfb4"
      }
     },
     "4a2706b4d8594f0bae9979d83e7f52b0": {
      "model_module": "@jupyter-widgets/controls",
      "model_module_version": "1.5.0",
      "model_name": "DescriptionStyleModel",
      "state": {
       "description_width": "initial"
      }
     },
     "4a38617c297540538b5e3bee46914105": {
      "model_module": "@jupyter-widgets/controls",
      "model_module_version": "1.5.0",
      "model_name": "HBoxModel",
      "state": {
       "children": [
        "IPY_MODEL_56dbdd6e45124c7584edae6485b2d4f2",
        "IPY_MODEL_7af98bb61a624afdaf3e422e7d9d0d96",
        "IPY_MODEL_0bf9301e519a48059cbb05e4eab90220"
       ],
       "layout": "IPY_MODEL_248a46d230bc45db8a14543754110157"
      }
     },
     "4a702030cd114fdabbb8baef330ac88d": {
      "model_module": "@jupyter-widgets/controls",
      "model_module_version": "1.5.0",
      "model_name": "HBoxModel",
      "state": {
       "children": [
        "IPY_MODEL_d251c316e1754b9685a7f1294307e3f5",
        "IPY_MODEL_4ff4052806af44feb503b1eed3b888cc",
        "IPY_MODEL_ff5d0e2c434a437e841c3d4f34f97ec5"
       ],
       "layout": "IPY_MODEL_1428dbfe01a447e2916eae595cb7b974"
      }
     },
     "4b80b7f944124425aa380bb47bfca946": {
      "model_module": "@jupyter-widgets/controls",
      "model_module_version": "1.5.0",
      "model_name": "DescriptionStyleModel",
      "state": {
       "description_width": "initial"
      }
     },
     "4c63ebff5a2a474e9129591f09459ab7": {
      "model_module": "@jupyter-widgets/controls",
      "model_module_version": "1.5.0",
      "model_name": "ButtonStyleModel",
      "state": {}
     },
     "4c698a7a3cc848fdbefb28f01ff9869c": {
      "model_module": "@jupyter-widgets/controls",
      "model_module_version": "1.5.0",
      "model_name": "HTMLModel",
      "state": {
       "layout": "IPY_MODEL_ae17e04f5ea84ca1b5e72a1d4b8c9a83",
       "style": "IPY_MODEL_57d6d71b1ac34e1180063d4d38e88cbb"
      }
     },
     "4d17dbc7eff441fdb53b2d37107bf16f": {
      "model_module": "@jupyter-widgets/controls",
      "model_module_version": "1.5.0",
      "model_name": "DescriptionStyleModel",
      "state": {
       "description_width": ""
      }
     },
     "4d2cec91f4b347099ba8248ea9c75f34": {
      "model_module": "@jupyter-widgets/controls",
      "model_module_version": "1.5.0",
      "model_name": "TextareaModel",
      "state": {
       "continuous_update": false,
       "description": "WKT:",
       "layout": "IPY_MODEL_48ed9abf2ad142ea888940da99f054a0",
       "style": "IPY_MODEL_749c8253167e4d7cb6c00e285497cf29",
       "value": "PROJCS[\"NAD83 / UTM zone 14N\",GEOGCS[\"NAD83\",DATUM[\"North_American_Datum_1983\",SPHEROID[\"GRS 1980\",6378137,298.257222101,AUTHORITY[\"EPSG\",\"7019\"]],AUTHORITY[\"EPSG\",\"6269\"]],PRIMEM[\"Greenwich\",0,AUTHORITY[\"EPSG\",\"8901\"]],UNIT[\"degree\",0.0174532925199433,AUTHORITY[\"EPSG\",\"9122\"]],AUTHORITY[\"EPSG\",\"4269\"]],PROJECTION[\"Transverse_Mercator\"],PARAMETER[\"latitude_of_origin\",0],PARAMETER[\"central_meridian\",-99],PARAMETER[\"scale_factor\",0.9996],PARAMETER[\"false_easting\",500000],PARAMETER[\"false_northing\",0],UNIT[\"metre\",1,AUTHORITY[\"EPSG\",\"9001\"]],AXIS[\"Easting\",EAST],AXIS[\"Northing\",NORTH],AUTHORITY[\"EPSG\",\"26914\"]]"
      }
     },
     "4d9f3a9ed6bd47cebb41f55c04f3d643": {
      "model_module": "@jupyter-widgets/controls",
      "model_module_version": "1.5.0",
      "model_name": "VBoxModel",
      "state": {
       "children": [
        "IPY_MODEL_7036da8821c3479fb7c56a39f03320b4",
        "IPY_MODEL_ac841a8857514d71963fb753ca70127c"
       ],
       "layout": "IPY_MODEL_e9509edd5db743759fe544ee79ff7d6e"
      }
     },
     "4e25a3edeb994d8e8e46a4efe272576b": {
      "model_module": "@jupyter-widgets/controls",
      "model_module_version": "1.5.0",
      "model_name": "TextModel",
      "state": {
       "disabled": true,
       "layout": "IPY_MODEL_d15a1dd8e4f44ba79eb02639dd1c8df0",
       "placeholder": "output filename",
       "style": "IPY_MODEL_ff5c58580ab4464b8bc4046f20089290"
      }
     },
     "4e4e858aadd24076b0bcc29cfae3cfb4": {
      "model_module": "@jupyter-widgets/base",
      "model_module_version": "1.2.0",
      "model_name": "LayoutModel",
      "state": {}
     },
     "4e5211dfe4c74e02afd76786957da0a7": {
      "model_module": "@jupyter-widgets/base",
      "model_module_version": "1.2.0",
      "model_name": "LayoutModel",
      "state": {
       "width": "auto"
      }
     },
     "4ef6897b6c9442b1ba06934b2b7d81d9": {
      "model_module": "@jupyter-widgets/base",
      "model_module_version": "1.2.0",
      "model_name": "LayoutModel",
      "state": {
       "display": "none",
       "grid_area": "filename",
       "width": "auto"
      }
     },
     "4efd9a8a930e47769bf37470ddea2af6": {
      "model_module": "@jupyter-widgets/controls",
      "model_module_version": "1.5.0",
      "model_name": "GridBoxModel",
      "state": {
       "children": [
        "IPY_MODEL_4417f9f2929540739c05577145b87b94",
        "IPY_MODEL_a3a3b1377fc64607a0201b890e03025e",
        "IPY_MODEL_b98c3930b1544bd296bb93a87358758b"
       ],
       "layout": "IPY_MODEL_7b63abe71a8542ebb08963d6edcc8bbc"
      }
     },
     "4eff66f1fe584afe85c758a25996c870": {
      "model_module": "@jupyter-widgets/base",
      "model_module_version": "1.2.0",
      "model_name": "LayoutModel",
      "state": {}
     },
     "4f683d8dc3fb4f8d8d5f9030da6b94f2": {
      "model_module": "@jupyter-widgets/base",
      "model_module_version": "1.2.0",
      "model_name": "LayoutModel",
      "state": {}
     },
     "4fe620eb0e2246ef96eba8f7f9d055f1": {
      "model_module": "@jupyter-widgets/controls",
      "model_module_version": "1.5.0",
      "model_name": "DescriptionStyleModel",
      "state": {
       "description_width": ""
      }
     },
     "4ff4052806af44feb503b1eed3b888cc": {
      "model_module": "@jupyter-widgets/controls",
      "model_module_version": "1.5.0",
      "model_name": "ButtonModel",
      "state": {
       "description": "Cancel",
       "layout": "IPY_MODEL_8fca13f9830b460f96ed889ccde13003",
       "style": "IPY_MODEL_cb1d86979e924a3daa2e2e68564a6522"
      }
     },
     "5144461e5d7c413096a395b2666f3508": {
      "model_module": "@jupyter-widgets/controls",
      "model_module_version": "1.5.0",
      "model_name": "VBoxModel",
      "state": {
       "children": [
        "IPY_MODEL_7036da8821c3479fb7c56a39f03320b4",
        "IPY_MODEL_ac841a8857514d71963fb753ca70127c"
       ],
       "layout": "IPY_MODEL_43b5058cc177464d8209d8bb4e49eb49"
      }
     },
     "518dc952450b4da2839a9af2893e388e": {
      "model_module": "@jupyter-widgets/base",
      "model_module_version": "1.2.0",
      "model_name": "LayoutModel",
      "state": {}
     },
     "5194b0f8636d4bb3a046ccb3449267b9": {
      "model_module": "@jupyter-widgets/controls",
      "model_module_version": "1.5.0",
      "model_name": "ButtonModel",
      "state": {
       "description": "Change",
       "layout": "IPY_MODEL_9df3725a6a7144e2b4bf2885bb599dc0",
       "style": "IPY_MODEL_ccc6320955fd4aab94a8b7c3e609b9fc"
      }
     },
     "51dd9a36a6a94d3792f77022f9ef6aef": {
      "model_module": "@jupyter-widgets/controls",
      "model_module_version": "1.5.0",
      "model_name": "HBoxModel",
      "state": {
       "children": [
        "IPY_MODEL_5194b0f8636d4bb3a046ccb3449267b9",
        "IPY_MODEL_10cea132c89c4f4e83365a6382320fe4",
        "IPY_MODEL_9f73188628be4ddaaaa7e30c42a69841"
       ],
       "layout": "IPY_MODEL_373f5b243fe345eca1edc8ee37480f4a"
      }
     },
     "520a072a072649c59810a755c5015e53": {
      "model_module": "@jupyter-widgets/controls",
      "model_module_version": "1.5.0",
      "model_name": "DescriptionStyleModel",
      "state": {
       "description_width": ""
      }
     },
     "5222978b5f3b4bdca62bd67c61c7115f": {
      "model_module": "@jupyter-widgets/controls",
      "model_module_version": "1.5.0",
      "model_name": "ButtonStyleModel",
      "state": {}
     },
     "53d6a1e9102b40b192d69a1acaf0d7d5": {
      "model_module": "@jupyter-widgets/base",
      "model_module_version": "1.2.0",
      "model_name": "LayoutModel",
      "state": {}
     },
     "54418d1f8848404c99d1531f9e632a1e": {
      "model_module": "@jupyter-widgets/controls",
      "model_module_version": "1.5.0",
      "model_name": "ButtonModel",
      "state": {
       "button_style": "danger",
       "description": "Export",
       "icon": "check",
       "layout": "IPY_MODEL_eb7b276b699b4e3c83526e2d58dc663c",
       "style": "IPY_MODEL_b81fff971e23454684c15429fd46cac2",
       "tooltip": "Run computation"
      }
     },
     "54fbdcb9a21e482087a79cabd89e97bf": {
      "model_module": "@jupyter-widgets/controls",
      "model_module_version": "1.5.0",
      "model_name": "SelectMultipleModel",
      "state": {
       "_options_labels": [
        "",
        "--- Channels ---",
        "Airborne_Gxx",
        "Airborne_Gxy",
        "Airborne_Gxz",
        "Airborne_Gyy",
        "Airborne_Gyz",
        "Airborne_Gz",
        "Airborne_Gzz",
        "Airborne_TMI",
        "Ground_Gz",
        "Z"
       ],
       "description": "Data: ",
       "index": [
        2
       ],
       "layout": "IPY_MODEL_925cd6af41504c74a0d43ea3d60dc62c",
       "rows": 5,
       "style": "IPY_MODEL_bc347edaf563440ba385f9612a57f170"
      }
     },
     "55a7b05c0c434ae595fffa63c8628e8e": {
      "model_module": "@jupyter-widgets/controls",
      "model_module_version": "1.5.0",
      "model_name": "DescriptionStyleModel",
      "state": {
       "description_width": ""
      }
     },
     "55cf88d2510648f1b28be0cb0680c28b": {
      "model_module": "@jupyter-widgets/controls",
      "model_module_version": "1.5.0",
      "model_name": "DropdownModel",
      "state": {
       "_options_labels": [
        "C:\\Users\\dominiquef\\Documents\\GIT\\mira\\mirageoscience-apps\\assets",
        "C:\\Users\\dominiquef\\Documents\\GIT\\mira\\mirageoscience-apps",
        "C:\\Users\\dominiquef\\Documents\\GIT\\mira",
        "C:\\Users\\dominiquef\\Documents\\GIT",
        "C:\\Users\\dominiquef\\Documents",
        "C:\\Users\\dominiquef",
        "C:\\Users",
        "C:\\",
        "D:\\",
        "Z:\\"
       ],
       "index": 0,
       "layout": "IPY_MODEL_c3b35d5decd746b0982f1877e55338d9",
       "style": "IPY_MODEL_8b3afdb6f58f47a683f966c1d4ffc91e"
      }
     },
     "55d5c8f3c52a43a480c113bd86c7d67c": {
      "model_module": "@jupyter-widgets/base",
      "model_module_version": "1.2.0",
      "model_name": "LayoutModel",
      "state": {}
     },
     "56dbdd6e45124c7584edae6485b2d4f2": {
      "model_module": "@jupyter-widgets/controls",
      "model_module_version": "1.5.0",
      "model_name": "ButtonModel",
      "state": {
       "description": "Change",
       "layout": "IPY_MODEL_6b471af8df57490f89eba9720329dcd2",
       "style": "IPY_MODEL_5222978b5f3b4bdca62bd67c61c7115f"
      }
     },
     "57d6d71b1ac34e1180063d4d38e88cbb": {
      "model_module": "@jupyter-widgets/controls",
      "model_module_version": "1.5.0",
      "model_name": "DescriptionStyleModel",
      "state": {
       "description_width": ""
      }
     },
     "581c40460447404599d04392479feb9b": {
      "model_module": "@jupyter-widgets/controls",
      "model_module_version": "1.5.0",
      "model_name": "VBoxModel",
      "state": {
       "children": [
        "IPY_MODEL_fab440bd795243e0b62e745f9809db94",
        "IPY_MODEL_3a7b4a7405624991976591ff24e73e1a"
       ],
       "layout": "IPY_MODEL_4862fc34280c4dbd9a39772e89b29fa4"
      }
     },
     "58344717682e479d9e45efee47a65e46": {
      "model_module": "@jupyter-widgets/base",
      "model_module_version": "1.2.0",
      "model_name": "LayoutModel",
      "state": {}
     },
     "584fb4726d4a4277a2ea00035f27a13e": {
      "model_module": "@jupyter-widgets/controls",
      "model_module_version": "1.5.0",
      "model_name": "DescriptionStyleModel",
      "state": {
       "description_width": ""
      }
     },
     "58c610253c8949edbe9f1a4194675693": {
      "model_module": "@jupyter-widgets/controls",
      "model_module_version": "1.5.0",
      "model_name": "VBoxModel",
      "state": {
       "children": [
        "IPY_MODEL_7036da8821c3479fb7c56a39f03320b4",
        "IPY_MODEL_ac841a8857514d71963fb753ca70127c"
       ],
       "layout": "IPY_MODEL_e65b12832f734ac58a1c641ac95e3a0b"
      }
     },
     "5919755733f2459fbf3f2a7633909aa4": {
      "model_module": "@jupyter-widgets/controls",
      "model_module_version": "1.5.0",
      "model_name": "VBoxModel",
      "state": {
       "children": [
        "IPY_MODEL_c9bdb13175b44a28935e957f849bd8f9",
        "IPY_MODEL_18f6307131ce42a7b66e22a4b0ad4fc7",
        "IPY_MODEL_1cbe595a27094eb9893c43812ad3572c"
       ],
       "layout": "IPY_MODEL_e126379827f34217ac0a85cc91d0171f"
      }
     },
     "5a12a59de1514e66a86f812f991e927c": {
      "model_module": "@jupyter-widgets/controls",
      "model_module_version": "1.5.0",
      "model_name": "HBoxModel",
      "state": {
       "children": [
        "IPY_MODEL_a731a00e6d91407f88ef2081f57b2f66",
        "IPY_MODEL_80692cb09fe246bfbb11d0bcb3bcd806",
        "IPY_MODEL_323853bffd814f2084b5ab740b84105b"
       ],
       "layout": "IPY_MODEL_874beffe55db4ddfae2fcf3a290120a6"
      }
     },
     "5a16317a890840ddb26c3cf30fc02576": {
      "model_module": "@jupyter-widgets/base",
      "model_module_version": "1.2.0",
      "model_name": "LayoutModel",
      "state": {}
     },
     "5a2d2ba303a84bc4b8f27eb637e6fb99": {
      "model_module": "@jupyter-widgets/controls",
      "model_module_version": "1.5.0",
      "model_name": "ButtonModel",
      "state": {
       "description": "Change",
       "layout": "IPY_MODEL_27de1cdd77a842ea9eebeaf33c4605c3",
       "style": "IPY_MODEL_2f99fcf4fcf74b4c811f7a5e3c41e6b3"
      }
     },
     "5aa01bd257254b77abef78cc3516d148": {
      "model_module": "@jupyter-widgets/base",
      "model_module_version": "1.2.0",
      "model_name": "LayoutModel",
      "state": {}
     },
     "5af0bac93449414188b35a48381521fa": {
      "model_module": "@jupyter-widgets/base",
      "model_module_version": "1.2.0",
      "model_name": "LayoutModel",
      "state": {}
     },
     "5dcb544fddea45fba11963c9c6d893fe": {
      "model_module": "@jupyter-widgets/base",
      "model_module_version": "1.2.0",
      "model_name": "LayoutModel",
      "state": {
       "display": "none"
      }
     },
     "5e7eba3959c44837a99c0f200786ab94": {
      "model_module": "@jupyter-widgets/controls",
      "model_module_version": "1.5.0",
      "model_name": "VBoxModel",
      "state": {
       "children": [
        "IPY_MODEL_6c69304edec243e3b2766ab423ce0c30"
       ],
       "layout": "IPY_MODEL_380bcf084653452d954b3a1640f415a8"
      }
     },
     "5ebb82d275884cffb0bb5308642dc653": {
      "model_module": "@jupyter-widgets/controls",
      "model_module_version": "1.5.0",
      "model_name": "TextModel",
      "state": {
       "layout": "IPY_MODEL_e24d28e7a1134f368caf2c000db74ef5",
       "placeholder": "output filename",
       "style": "IPY_MODEL_3cb932e9fd8c43bfa1947aa507e247e4",
       "value": "FlinFlon.geoh5"
      }
     },
     "5f0cb3df9dde4fe49b7363f87bf8a5bb": {
      "model_module": "@jupyter-widgets/controls",
      "model_module_version": "1.5.0",
      "model_name": "ButtonStyleModel",
      "state": {}
     },
     "5f2094c841a14501bdb14bd6bd32ce81": {
      "model_module": "@jupyter-widgets/base",
      "model_module_version": "1.2.0",
      "model_name": "LayoutModel",
      "state": {}
     },
     "5f76e66d77014c06a396564309cae35c": {
      "model_module": "@jupyter-widgets/controls",
      "model_module_version": "1.5.0",
      "model_name": "DescriptionStyleModel",
      "state": {
       "description_width": "initial"
      }
     },
     "5fef2bee80ee417780418c46269f4e7d": {
      "model_module": "@jupyter-widgets/base",
      "model_module_version": "1.2.0",
      "model_name": "LayoutModel",
      "state": {}
     },
     "60541559589c491b80cc3fadabf0eea3": {
      "model_module": "@jupyter-widgets/controls",
      "model_module_version": "1.5.0",
      "model_name": "DescriptionStyleModel",
      "state": {
       "description_width": "initial"
      }
     },
     "61455bdfd64f4bb1b797ed5417b58788": {
      "model_module": "@jupyter-widgets/controls",
      "model_module_version": "1.5.0",
      "model_name": "DescriptionStyleModel",
      "state": {
       "description_width": ""
      }
     },
     "6179176650a54585bba38ca871948b0b": {
      "model_module": "@jupyter-widgets/controls",
      "model_module_version": "1.5.0",
      "model_name": "DescriptionStyleModel",
      "state": {
       "description_width": ""
      }
     },
     "61b286f14a1740beb8a381ade1fd039c": {
      "model_module": "@jupyter-widgets/base",
      "model_module_version": "1.2.0",
      "model_name": "LayoutModel",
      "state": {}
     },
     "61d18d27d38749c49638d9fc5564b598": {
      "model_module": "@jupyter-widgets/base",
      "model_module_version": "1.2.0",
      "model_name": "LayoutModel",
      "state": {
       "grid_area": "filename",
       "width": "auto"
      }
     },
     "623c9b394f7a44898922a04ce65c2684": {
      "model_module": "@jupyter-widgets/base",
      "model_module_version": "1.2.0",
      "model_name": "LayoutModel",
      "state": {}
     },
     "62a2f1ff95fe4acda5a5e6c36486ef11": {
      "model_module": "@jupyter-widgets/controls",
      "model_module_version": "1.5.0",
      "model_name": "ButtonModel",
      "state": {
       "description": "Create copy:",
       "layout": "IPY_MODEL_0c8372656b4f43518eb5869d837c5021",
       "style": "IPY_MODEL_5f0cb3df9dde4fe49b7363f87bf8a5bb"
      }
     },
     "637beb92b82144eb952bdd5166751edd": {
      "model_module": "@jupyter-widgets/base",
      "model_module_version": "1.2.0",
      "model_name": "LayoutModel",
      "state": {}
     },
     "64a30024529e468dacd80eb031d9eea6": {
      "model_module": "@jupyter-widgets/controls",
      "model_module_version": "1.5.0",
      "model_name": "VBoxModel",
      "state": {
       "children": [
        "IPY_MODEL_89ff9c7dcfd440a78bf5a6d3bd936fc9",
        "IPY_MODEL_faa4e02e28004d5183c2626c2bba761c",
        "IPY_MODEL_51dd9a36a6a94d3792f77022f9ef6aef"
       ],
       "layout": "IPY_MODEL_c92bf9013b4c4a849a2e725c1cbba2bb"
      }
     },
     "64a9eca7d9bd43e5a7856c13348da305": {
      "model_module": "@jupyter-widgets/controls",
      "model_module_version": "1.5.0",
      "model_name": "LabelModel",
      "state": {
       "layout": "IPY_MODEL_55d5c8f3c52a43a480c113bd86c7d67c",
       "style": "IPY_MODEL_08de926219f047b79f8f2cedf92767a0",
       "value": "Workspace"
      }
     },
     "64ceb67649a04610abfd22f45f0d7c8e": {
      "model_module": "@jupyter-widgets/controls",
      "model_module_version": "1.5.0",
      "model_name": "DescriptionStyleModel",
      "state": {
       "description_width": "initial"
      }
     },
     "654abae9da0e4b0a8e254880d08bb577": {
      "model_module": "@jupyter-widgets/controls",
      "model_module_version": "1.5.0",
      "model_name": "VBoxModel",
      "state": {
       "children": [
        "IPY_MODEL_7036da8821c3479fb7c56a39f03320b4",
        "IPY_MODEL_ac841a8857514d71963fb753ca70127c"
       ],
       "layout": "IPY_MODEL_0eb7c111207c4cc9bec3c838804b1f49"
      }
     },
     "65a52514fb2c44b4bdc06fff179b0c54": {
      "model_module": "@jupyter-widgets/controls",
      "model_module_version": "1.5.0",
      "model_name": "ButtonModel",
      "state": {
       "description": "Create copy:",
       "layout": "IPY_MODEL_ab9041f989a445659fdf88a8bd7e65cd",
       "style": "IPY_MODEL_dc808b004a9743d78738428291e4f8bb"
      }
     },
     "6612709cb98b4cd0a2ff7fc8f87260fe": {
      "model_module": "@jupyter-widgets/base",
      "model_module_version": "1.2.0",
      "model_name": "LayoutModel",
      "state": {
       "grid_area": "pathlist",
       "width": "auto"
      }
     },
     "6650d65e7c1f4af486385cba3a384224": {
      "model_module": "@jupyter-widgets/base",
      "model_module_version": "1.2.0",
      "model_name": "LayoutModel",
      "state": {}
     },
     "666f44c272f444ba834901eed34b5571": {
      "model_module": "@jupyter-widgets/base",
      "model_module_version": "1.2.0",
      "model_name": "LayoutModel",
      "state": {}
     },
     "6709cad0f5c34e1191241fbd640689c5": {
      "model_module": "@jupyter-widgets/base",
      "model_module_version": "1.2.0",
      "model_name": "LayoutModel",
      "state": {}
     },
     "6867937d024943348bf0502f9728368a": {
      "model_module": "@jupyter-widgets/controls",
      "model_module_version": "1.5.0",
      "model_name": "GridBoxModel",
      "state": {
       "children": [
        "IPY_MODEL_55cf88d2510648f1b28be0cb0680c28b",
        "IPY_MODEL_e4483d0806e84562aa41670eb436cf15",
        "IPY_MODEL_d9c048f3f0574f75b5c6935f83c2e339"
       ],
       "layout": "IPY_MODEL_93c2c84ad683421083a25036dfa1af28"
      }
     },
     "689d7ad3e806480497012b01e1fb9871": {
      "model_module": "@jupyter-widgets/controls",
      "model_module_version": "1.5.0",
      "model_name": "VBoxModel",
      "state": {
       "children": [
        "IPY_MODEL_4d9f3a9ed6bd47cebb41f55c04f3d643"
       ],
       "layout": "IPY_MODEL_845fa9b0b6054db6b402fe2a75378ce0"
      }
     },
     "695bf7ec832a4081a8fefce6f2ccfe0b": {
      "model_module": "@jupyter-widgets/controls",
      "model_module_version": "1.5.0",
      "model_name": "HBoxModel",
      "state": {
       "children": [
        "IPY_MODEL_b644fae6883e4edb8f057b4b6f513af4",
        "IPY_MODEL_62a2f1ff95fe4acda5a5e6c36486ef11"
       ],
       "layout": "IPY_MODEL_3a9594c739fb432db4cdb466a7e596c2"
      }
     },
     "6971d18c22bf4f5ca153c3deb4d74776": {
      "model_module": "@jupyter-widgets/controls",
      "model_module_version": "1.5.0",
      "model_name": "VBoxModel",
      "state": {
       "children": [
        "IPY_MODEL_64a9eca7d9bd43e5a7856c13348da305",
        "IPY_MODEL_695bf7ec832a4081a8fefce6f2ccfe0b"
       ],
       "layout": "IPY_MODEL_5fef2bee80ee417780418c46269f4e7d"
      }
     },
     "69c6dd6de771427ab654bc4628f345fb": {
      "model_module": "@jupyter-widgets/base",
      "model_module_version": "1.2.0",
      "model_name": "LayoutModel",
      "state": {
       "width": "auto"
      }
     },
     "69d3879bc23940ab8dce9738a0486a3e": {
      "model_module": "@jupyter-widgets/controls",
      "model_module_version": "1.5.0",
      "model_name": "LabelModel",
      "state": {
       "layout": "IPY_MODEL_b9d055d889f84ca6b9e8e944896711c7",
       "style": "IPY_MODEL_bb878ce1ba744d36aa72ec661c8e81e4",
       "value": "Workspace"
      }
     },
     "69dd6c3ab9bf4bbab2219957aa26dd14": {
      "model_module": "@jupyter-widgets/controls",
      "model_module_version": "1.5.0",
      "model_name": "DescriptionStyleModel",
      "state": {
       "description_width": ""
      }
     },
     "6a47193467ff47a686d9bc61d5c867b9": {
      "model_module": "@jupyter-widgets/controls",
      "model_module_version": "1.5.0",
      "model_name": "ButtonStyleModel",
      "state": {}
     },
     "6ad3f57175464e69a97ac8e293bbc0c6": {
      "model_module": "@jupyter-widgets/controls",
      "model_module_version": "1.5.0",
      "model_name": "DescriptionStyleModel",
      "state": {
       "description_width": ""
      }
     },
     "6ad637ae65b948c28b27f652f14424db": {
      "model_module": "@jupyter-widgets/base",
      "model_module_version": "1.2.0",
      "model_name": "LayoutModel",
      "state": {}
     },
     "6b04fbed9c5941b698bb3ab9c8724642": {
      "model_module": "@jupyter-widgets/controls",
      "model_module_version": "1.5.0",
      "model_name": "DescriptionStyleModel",
      "state": {
       "description_width": ""
      }
     },
     "6b471af8df57490f89eba9720329dcd2": {
      "model_module": "@jupyter-widgets/base",
      "model_module_version": "1.2.0",
      "model_name": "LayoutModel",
      "state": {
       "width": "auto"
      }
     },
     "6b4847c4af93447d92edcd1ba218e512": {
      "model_module": "@jupyter-widgets/controls",
      "model_module_version": "1.5.0",
      "model_name": "DescriptionStyleModel",
      "state": {
       "description_width": ""
      }
     },
     "6be3e2ffffa9469da46df585286a80e4": {
      "model_module": "@jupyter-widgets/base",
      "model_module_version": "1.2.0",
      "model_name": "LayoutModel",
      "state": {}
     },
     "6c09dc40a1a645d29b412ad0a902dccb": {
      "model_module": "@jupyter-widgets/base",
      "model_module_version": "1.2.0",
      "model_name": "LayoutModel",
      "state": {}
     },
     "6c2fe101edbc44c493d87d4a5af84478": {
      "model_module": "@jupyter-widgets/controls",
      "model_module_version": "1.5.0",
      "model_name": "DescriptionStyleModel",
      "state": {
       "description_width": ""
      }
     },
     "6c69304edec243e3b2766ab423ce0c30": {
      "model_module": "@jupyter-widgets/controls",
      "model_module_version": "1.5.0",
      "model_name": "CheckboxModel",
      "state": {
       "description": "GA Pro - Live link",
       "disabled": false,
       "indent": false,
       "layout": "IPY_MODEL_7b8477ae10074c0e85121a122518fb74",
       "style": "IPY_MODEL_8a426e751eb14d4f80da5ac55b6616ff",
       "value": false
      }
     },
     "6c7bd061299643b681fae14a0a57991f": {
      "model_module": "@jupyter-widgets/controls",
      "model_module_version": "1.5.0",
      "model_name": "DescriptionStyleModel",
      "state": {
       "description_width": ""
      }
     },
     "6d2fedecb24b4c82971cfdb97e6bef67": {
      "model_module": "@jupyter-widgets/base",
      "model_module_version": "1.2.0",
      "model_name": "LayoutModel",
      "state": {
       "display": "none",
       "width": "auto"
      }
     },
     "6d4bfb28ed7a4ae992f2beb639ae6842": {
      "model_module": "@jupyter-widgets/controls",
      "model_module_version": "1.5.0",
      "model_name": "VBoxModel",
      "state": {
       "children": [
        "IPY_MODEL_7036da8821c3479fb7c56a39f03320b4",
        "IPY_MODEL_ac841a8857514d71963fb753ca70127c"
       ],
       "layout": "IPY_MODEL_fa89bb08b461423f8dd2d987fa2500d9"
      }
     },
     "6d5113f9c03042c5b93d1be90d998ce1": {
      "model_module": "@jupyter-widgets/controls",
      "model_module_version": "1.5.0",
      "model_name": "DropdownModel",
      "state": {
       "_options_labels": [
        "",
        "fault_splay1",
        "fault_Cliff_Lake",
        "fault_Other_FlinFlon",
        "fault_Club_Lake_splay",
        "fault_Catherine_splay2",
        "fault_Birch_View",
        "fault_Dion_Lake",
        "fault_FlinFlon_splay",
        "fault_West_Mandy_Road",
        "fault_Channing",
        "fault_Ross_Lake",
        "fault_Louis_Hidden",
        "fault_Lake_View_thrust",
        "contact_Schist_Lake",
        "fault_Burley_Lake",
        "fault_Dion_Lake_splay",
        "fault_Green_Lake",
        "fault_FlinFlon",
        "fault_Catherine_splay1",
        "fault_East_Mandy_Road",
        "fault_Other_FlinFlon_South",
        "fault_Catherine_splay4",
        "contact_Stitt_Island",
        "fault_Club_Lake",
        "fault_Tailing_Pond",
        "35_Hidden_Reservoir_Hr5",
        "29_Hidden_Reservoir_Hr1a",
        "60_BlueLagoon_Fb2",
        "20_FlinFlon_Undivided_Int_Dykes_D2f",
        "04_Boundary_Intrusive_S4h",
        "53_Millrock_Rhyolite_Fm4b",
        "19_FlinFlon_Undivided_Int_Dykes_D2b",
        "18_FlinFlon_Undivided_Int_Dykes_777_D2b",
        "06_Phantom_Lake_Intrusive_S3a",
        "21_FlinFlon_Undivided_Int_Dykes_D3a",
        "43_Millrock_CHLSH_South",
        "56_Millrock_Basalt_Fm1ba",
        "17_FlinFlon_Undivided_Int_Dykes_D2",
        "32_Hidden_Reservoir_Hr1b_SW",
        "11_Missi_M3_NE",
        "13_Missi_M1",
        "07_Annabel_Granitoid_S1",
        "45_Millrock_Gabbro_South",
        "01_Late_Intrusive_S5b",
        "31_Hidden_Reservoir_Hr1c_SW",
        "52_Millrock_Rhyolite_Fm4_West_check",
        "55_Millrock_Basalt_Fm1bf",
        "34_Hidden_Reservoir_Hr2b",
        "03_Boundary_Intrusive_S4b",
        "42_Millrock_CHLSH_North",
        "26_Louis_L3",
        "23_FlinFlon_Undivided_Int_Felsic_D4g",
        "30_Hidden_Reservoir_Hr1b",
        "59_BlueLagoon_Fb3",
        "49_Millrock_MVR_Fm5d",
        "44_Millrock_Gabbro_North",
        "27_Hidden_Carlisle_Hc4",
        "22_FlinFlon_Undivided_Int_Felsic_D4e",
        "02_Boundary_Intrusive_S4a",
        "61_BlueLagoon_Fb1_NW",
        "05_Boundary_Intrusive_S4g",
        "39_Ore_Callinan",
        "38_Ore_Dan_Owens",
        "40_Ore_FlinFlon",
        "Inversion_VTEM_Model",
        "Gravity_Magnetics_drape60m",
        "CDI_VTEM_model",
        "Data_FEM_pseudo3D",
        "O2O_Interp_25m",
        "geochem",
        "Inversion_DIGHEM_Model",
        "Topography",
        "Data_TEM_pseudo3D"
       ],
       "description": "Object:",
       "index": 66,
       "layout": "IPY_MODEL_5af0bac93449414188b35a48381521fa",
       "style": "IPY_MODEL_64ceb67649a04610abfd22f45f0d7c8e"
      }
     },
     "6e0303ce6b0a4360aaf8fb4d0b647704": {
      "model_module": "@jupyter-widgets/controls",
      "model_module_version": "1.5.0",
      "model_name": "VBoxModel",
      "state": {
       "children": [
        "IPY_MODEL_01878398309c478aa0a160d1e620a622",
        "IPY_MODEL_fae62c61b24749b7a6b96a9024ff0803",
        "IPY_MODEL_5a12a59de1514e66a86f812f991e927c"
       ],
       "layout": "IPY_MODEL_3f7bb4c4fcbc45da878b6f2e7ede4ec9"
      }
     },
     "6e3c30602c564e15b8c220996a1979b1": {
      "model_module": "@jupyter-widgets/base",
      "model_module_version": "1.2.0",
      "model_name": "LayoutModel",
      "state": {
       "grid_area": "pathlist",
       "width": "auto"
      }
     },
     "7036da8821c3479fb7c56a39f03320b4": {
      "model_module": "@jupyter-widgets/controls",
      "model_module_version": "1.5.0",
      "model_name": "TextModel",
      "state": {
       "continuous_update": false,
       "description": "Projection:",
       "layout": "IPY_MODEL_b257fd0507cc4b849e7082394f6b53a2",
       "style": "IPY_MODEL_3ae096e9006a4543aae0d24dbf670229",
       "value": "EPSG:26914"
      }
     },
     "7093ff2666c645bfbb46e5b5e94ed0c0": {
      "model_module": "@jupyter-widgets/base",
      "model_module_version": "1.2.0",
      "model_name": "LayoutModel",
      "state": {
       "grid_area": "filename",
       "width": "auto"
      }
     },
     "715a066abe884e58a8ff0b099f9febb3": {
      "model_module": "@jupyter-widgets/controls",
      "model_module_version": "1.5.0",
      "model_name": "TextareaModel",
      "state": {
       "continuous_update": false,
       "description": "WKT:",
       "layout": "IPY_MODEL_9fe1b994173e4ddab87a7ec2ec1f18ab",
       "style": "IPY_MODEL_924f159516dc4ee8b4d4af022883dc0f",
       "value": "PROJCS[\"NAD83 / UTM zone 14N\",GEOGCS[\"NAD83\",DATUM[\"North_American_Datum_1983\",SPHEROID[\"GRS 1980\",6378137,298.257222101,AUTHORITY[\"EPSG\",\"7019\"]],AUTHORITY[\"EPSG\",\"6269\"]],PRIMEM[\"Greenwich\",0,AUTHORITY[\"EPSG\",\"8901\"]],UNIT[\"degree\",0.0174532925199433,AUTHORITY[\"EPSG\",\"9122\"]],AUTHORITY[\"EPSG\",\"4269\"]],PROJECTION[\"Transverse_Mercator\"],PARAMETER[\"latitude_of_origin\",0],PARAMETER[\"central_meridian\",-99],PARAMETER[\"scale_factor\",0.9996],PARAMETER[\"false_easting\",500000],PARAMETER[\"false_northing\",0],UNIT[\"metre\",1,AUTHORITY[\"EPSG\",\"9001\"]],AXIS[\"Easting\",EAST],AXIS[\"Northing\",NORTH],AUTHORITY[\"EPSG\",\"26914\"]]"
      }
     },
     "71d4896315f34d5084a0848763cdb151": {
      "model_module": "@jupyter-widgets/controls",
      "model_module_version": "1.5.0",
      "model_name": "VBoxModel",
      "state": {
       "children": [
        "IPY_MODEL_43aad74d2a3b493dbbc95bc210bd3af5"
       ],
       "layout": "IPY_MODEL_0607143992ec465f841e0c4400db26e5"
      }
     },
     "7250fbceb7ca497bb42994135400ae5a": {
      "model_module": "@jupyter-widgets/base",
      "model_module_version": "1.2.0",
      "model_name": "LayoutModel",
      "state": {
       "grid_area": "pathlist",
       "width": "auto"
      }
     },
     "72e5f189768e40308c0495ed508384c0": {
      "model_module": "@jupyter-widgets/base",
      "model_module_version": "1.2.0",
      "model_name": "LayoutModel",
      "state": {}
     },
     "7364f83ff3064dcc85d111aa6344a093": {
      "model_module": "@jupyter-widgets/controls",
      "model_module_version": "1.5.0",
      "model_name": "VBoxModel",
      "state": {
       "children": [
        "IPY_MODEL_89dec2250b4c4c05a7009890db77f86b"
       ],
       "layout": "IPY_MODEL_5a16317a890840ddb26c3cf30fc02576"
      }
     },
     "7425c4c0fdfd4de5b895397ff5711f63": {
      "model_module": "@jupyter-widgets/controls",
      "model_module_version": "1.5.0",
      "model_name": "DescriptionStyleModel",
      "state": {
       "description_width": ""
      }
     },
     "749c8253167e4d7cb6c00e285497cf29": {
      "model_module": "@jupyter-widgets/controls",
      "model_module_version": "1.5.0",
      "model_name": "DescriptionStyleModel",
      "state": {
       "description_width": ""
      }
     },
     "74b62d6b3ca444fcb1d7c28d8f57cdd0": {
      "model_module": "@jupyter-widgets/controls",
      "model_module_version": "1.5.0",
      "model_name": "DescriptionStyleModel",
      "state": {
       "description_width": "initial"
      }
     },
     "74b8f87a6478422abe68c2a9b9f27cd7": {
      "model_module": "@jupyter-widgets/controls",
      "model_module_version": "1.5.0",
      "model_name": "TextModel",
      "state": {
       "disabled": true,
       "layout": "IPY_MODEL_290a5693f1f0462ea3b35dfe11462a2c",
       "placeholder": "output filename",
       "style": "IPY_MODEL_04aafbb3597d43aebe3f9299483f5719"
      }
     },
     "74d14f261985454e89b844211ad94f56": {
      "model_module": "@jupyter-widgets/controls",
      "model_module_version": "1.5.0",
      "model_name": "DescriptionStyleModel",
      "state": {
       "description_width": ""
      }
     },
     "75541d90ccce43e79ff4c407cf112da4": {
      "model_module": "@jupyter-widgets/base",
      "model_module_version": "1.2.0",
      "model_name": "LayoutModel",
      "state": {}
     },
     "75808c416ad44c288c50e0d6679f240e": {
      "model_module": "@jupyter-widgets/base",
      "model_module_version": "1.2.0",
      "model_name": "LayoutModel",
      "state": {
       "width": "auto"
      }
     },
     "75ad83834f5a4d959a83330da771b86d": {
      "model_module": "@jupyter-widgets/base",
      "model_module_version": "1.2.0",
      "model_name": "LayoutModel",
      "state": {}
     },
     "75b2e9d0f6e245b98b1fd05641c1fcc9": {
      "model_module": "@jupyter-widgets/controls",
      "model_module_version": "1.5.0",
      "model_name": "DropdownModel",
      "state": {
       "_options_labels": [
        "C:\\Users\\dominiquef\\Documents\\GIT\\mira\\mirageoscience-apps\\assets",
        "C:\\Users\\dominiquef\\Documents\\GIT\\mira\\mirageoscience-apps",
        "C:\\Users\\dominiquef\\Documents\\GIT\\mira",
        "C:\\Users\\dominiquef\\Documents\\GIT",
        "C:\\Users\\dominiquef\\Documents",
        "C:\\Users\\dominiquef",
        "C:\\Users",
        "C:\\",
        "D:\\",
        "Z:\\"
       ],
       "index": 0,
       "layout": "IPY_MODEL_904f342810c040b4b74b1cf6f15282ae",
       "style": "IPY_MODEL_6b4847c4af93447d92edcd1ba218e512"
      }
     },
     "75fca051d166419a896ca9c4834a3639": {
      "model_module": "@jupyter-widgets/base",
      "model_module_version": "1.2.0",
      "model_name": "LayoutModel",
      "state": {}
     },
     "7664d1d275294e1c8985653ea0e226f9": {
      "model_module": "@jupyter-widgets/controls",
      "model_module_version": "1.5.0",
      "model_name": "HBoxModel",
      "state": {
       "children": [
        "IPY_MODEL_5a2d2ba303a84bc4b8f27eb637e6fb99",
        "IPY_MODEL_ea972ec59e9646d5ab001ac5fea3e1d4",
        "IPY_MODEL_1eb104d0bbc8486682c2ba0738e30dea"
       ],
       "layout": "IPY_MODEL_232819b2ffe54fcdbf05ada03ea6e05a"
      }
     },
     "77ea0319d8074b8b8d0a87fef6914158": {
      "model_module": "@jupyter-widgets/controls",
      "model_module_version": "1.5.0",
      "model_name": "DescriptionStyleModel",
      "state": {
       "description_width": "initial"
      }
     },
     "7823b00eda964e93acc06538fdc009ff": {
      "model_module": "@jupyter-widgets/controls",
      "model_module_version": "1.5.0",
      "model_name": "VBoxModel",
      "state": {
       "children": [
        "IPY_MODEL_216ce6435a4345edb393b7cb4bb7ffa4",
        "IPY_MODEL_13de5553536c4c78abd9629647f50ced"
       ],
       "layout": "IPY_MODEL_91c4d58973c543c180cd40bc681ef336"
      }
     },
     "787c6ecce00941099a56e8ce0c274ee7": {
      "model_module": "@jupyter-widgets/base",
      "model_module_version": "1.2.0",
      "model_name": "LayoutModel",
      "state": {
       "display": "none"
      }
     },
     "7892043c073d459485c4171432164b46": {
      "model_module": "@jupyter-widgets/controls",
      "model_module_version": "1.5.0",
      "model_name": "GridBoxModel",
      "state": {
       "children": [
        "IPY_MODEL_30e34f0149c841678fd95ca478eeb91c",
        "IPY_MODEL_74b8f87a6478422abe68c2a9b9f27cd7",
        "IPY_MODEL_c75742b37bae4c15bac7cba067b8f814"
       ],
       "layout": "IPY_MODEL_e0a9e2b0593e449095ebce009456c607"
      }
     },
     "789d2955f8834c5198cad846738e83fb": {
      "model_module": "@jupyter-widgets/controls",
      "model_module_version": "1.5.0",
      "model_name": "HBoxModel",
      "state": {
       "children": [
        "IPY_MODEL_cada3a1104224bdb801adede6b7edf6b",
        "IPY_MODEL_27c20a32c6f643dab125b97b11671de2",
        "IPY_MODEL_cc884712e16b4fd7b780fc16eb5b12f7"
       ],
       "layout": "IPY_MODEL_c070607f26664947900ca0d3ea8ca60d"
      }
     },
     "7982826063d148eb87d032d3c6f5ffbf": {
      "model_module": "@jupyter-widgets/base",
      "model_module_version": "1.2.0",
      "model_name": "LayoutModel",
      "state": {}
     },
     "7992a97212c64c09a47adfcf30bb2240": {
      "model_module": "@jupyter-widgets/controls",
      "model_module_version": "1.5.0",
      "model_name": "ButtonModel",
      "state": {
       "description": "Change",
       "layout": "IPY_MODEL_69c6dd6de771427ab654bc4628f345fb",
       "style": "IPY_MODEL_3d44b92800364e8fbac74236b7beccee"
      }
     },
     "79e43942b53d4bfe8375d0ee58c30053": {
      "model_module": "@jupyter-widgets/controls",
      "model_module_version": "1.5.0",
      "model_name": "VBoxModel",
      "state": {
       "children": [
        "IPY_MODEL_54418d1f8848404c99d1531f9e632a1e",
        "IPY_MODEL_edbadf8464ae4aca99a6effca5a987f0"
       ],
       "layout": "IPY_MODEL_32b54fd3adda4b9980d73bb258b4a101"
      }
     },
     "7a10a32f8e344e6980359986ae9cfa62": {
      "model_module": "@jupyter-widgets/controls",
      "model_module_version": "1.5.0",
      "model_name": "DescriptionStyleModel",
      "state": {
       "description_width": "initial"
      }
     },
     "7af98bb61a624afdaf3e422e7d9d0d96": {
      "model_module": "@jupyter-widgets/controls",
      "model_module_version": "1.5.0",
      "model_name": "ButtonModel",
      "state": {
       "description": "Cancel",
       "layout": "IPY_MODEL_482a1927b9434f2eae3221e88558e4d3",
       "style": "IPY_MODEL_89dc6c0d0c1849ae8066cd9090589703"
      }
     },
     "7b54b941429143c18dc873cc947a58ee": {
      "model_module": "@jupyter-widgets/base",
      "model_module_version": "1.2.0",
      "model_name": "LayoutModel",
      "state": {
       "display": "none",
       "grid_gap": "0px 0px",
       "grid_template_areas": "\n                    'pathlist filename'\n                    'dircontent dircontent'\n                    ",
       "grid_template_columns": "60% 40%",
       "grid_template_rows": "auto auto",
       "width": "500px"
      }
     },
     "7b63abe71a8542ebb08963d6edcc8bbc": {
      "model_module": "@jupyter-widgets/base",
      "model_module_version": "1.2.0",
      "model_name": "LayoutModel",
      "state": {
       "display": "none",
       "grid_gap": "0px 0px",
       "grid_template_areas": "\n                    'pathlist filename'\n                    'dircontent dircontent'\n                    ",
       "grid_template_columns": "60% 40%",
       "grid_template_rows": "auto auto",
       "width": "500px"
      }
     },
     "7b8477ae10074c0e85121a122518fb74": {
      "model_module": "@jupyter-widgets/base",
      "model_module_version": "1.2.0",
      "model_name": "LayoutModel",
      "state": {}
     },
     "7ba3c944c1b04a4c9083c3b7cb7ba39c": {
      "model_module": "@jupyter-widgets/controls",
      "model_module_version": "1.5.0",
      "model_name": "DescriptionStyleModel",
      "state": {
       "description_width": ""
      }
     },
     "7bc2d17760fb4308a1551523bc89e046": {
      "model_module": "@jupyter-widgets/controls",
      "model_module_version": "1.5.0",
      "model_name": "VBoxModel",
      "state": {
       "children": [
        "IPY_MODEL_7036da8821c3479fb7c56a39f03320b4",
        "IPY_MODEL_ac841a8857514d71963fb753ca70127c"
       ],
       "layout": "IPY_MODEL_3d4b53bfc3624b75a8a24871bca82cfd"
      }
     },
     "7be28d61eefa4cc68ac9c1672a53ea5b": {
      "model_module": "@jupyter-widgets/base",
      "model_module_version": "1.2.0",
      "model_name": "LayoutModel",
      "state": {}
     },
     "7c6e13cf3e3243e5aff028092121a7cd": {
      "model_module": "@jupyter-widgets/controls",
      "model_module_version": "1.5.0",
      "model_name": "VBoxModel",
      "state": {
       "children": [
        "IPY_MODEL_40668bcb67f04091b203c7c3d0435aca",
        "IPY_MODEL_89974b4bddd544b2bee63d1593344cf2",
        "IPY_MODEL_fdc7377fb8a3414b887df9d0670ca1d9",
        "IPY_MODEL_24bbfb2a2b0b4ff9b39664eeccfb2a03",
        "IPY_MODEL_fdb3abfbc1e04669af6a16be1593cd81",
        "IPY_MODEL_54418d1f8848404c99d1531f9e632a1e",
        "IPY_MODEL_811c4ff85d654a4d9d78e580019a8428"
       ],
       "layout": "IPY_MODEL_a2b1c420e78243c9b00c19019c4a76a7"
      }
     },
     "7c8ee32e6ee140ec93d253dc83435fb6": {
      "model_module": "@jupyter-widgets/controls",
      "model_module_version": "1.5.0",
      "model_name": "DescriptionStyleModel",
      "state": {
       "description_width": "initial"
      }
     },
     "7d57a67056c746c3ad71e74abb6ec7a9": {
      "model_module": "@jupyter-widgets/base",
      "model_module_version": "1.2.0",
      "model_name": "LayoutModel",
      "state": {}
     },
     "7df8e0e91381453ea48e872522fab3e4": {
      "model_module": "@jupyter-widgets/controls",
      "model_module_version": "1.5.0",
      "model_name": "DescriptionStyleModel",
      "state": {
       "description_width": "initial"
      }
     },
     "7f56ce27992c400b9d4f660ff9edd7aa": {
      "model_module": "@jupyter-widgets/controls",
      "model_module_version": "1.5.0",
      "model_name": "DescriptionStyleModel",
      "state": {
       "description_width": ""
      }
     },
     "7fd8dbc4ea184be8a52ec2a16fa6ef0e": {
      "model_module": "@jupyter-widgets/controls",
      "model_module_version": "1.5.0",
      "model_name": "HBoxModel",
      "state": {
       "children": [
        "IPY_MODEL_7992a97212c64c09a47adfcf30bb2240",
        "IPY_MODEL_fda90f9316e44acf9821d50c449a691e",
        "IPY_MODEL_e3135c7cfa22437aa04c015f08669f49"
       ],
       "layout": "IPY_MODEL_0fb37c2f53fb48f08de0564224977e25"
      }
     },
     "7fddac497f654730b74572932d66bfad": {
      "model_module": "@jupyter-widgets/controls",
      "model_module_version": "1.5.0",
      "model_name": "ButtonStyleModel",
      "state": {}
     },
     "80692cb09fe246bfbb11d0bcb3bcd806": {
      "model_module": "@jupyter-widgets/controls",
      "model_module_version": "1.5.0",
      "model_name": "ButtonModel",
      "state": {
       "description": "Cancel",
       "layout": "IPY_MODEL_f0552db7045640f6921b0f4432b258ec",
       "style": "IPY_MODEL_b67d70191e714a8e813c27df98d410bb"
      }
     },
     "811c4ff85d654a4d9d78e580019a8428": {
      "model_module": "@jupyter-widgets/controls",
      "model_module_version": "1.5.0",
      "model_name": "VBoxModel",
      "state": {
       "children": [
        "IPY_MODEL_864556a1889241ee9f33521a0b105d1d",
        "IPY_MODEL_03160e3b9a254682939e3e8272ff6131",
        "IPY_MODEL_ede0e25e748f4a999baeb5167bde2a35"
       ],
       "layout": "IPY_MODEL_0faeb48e2ed54778bee531e83d02c347"
      }
     },
     "81ac743d34804814966a69fce2528154": {
      "model_module": "@jupyter-widgets/controls",
      "model_module_version": "1.5.0",
      "model_name": "VBoxModel",
      "state": {
       "children": [
        "IPY_MODEL_7036da8821c3479fb7c56a39f03320b4",
        "IPY_MODEL_ac841a8857514d71963fb753ca70127c"
       ],
       "layout": "IPY_MODEL_add08cbe21bc4b07aa87e6622a88ddb5"
      }
     },
     "81ecd4f4dc39454b83f1585f21c97d4e": {
      "model_module": "@jupyter-widgets/controls",
      "model_module_version": "1.5.0",
      "model_name": "VBoxModel",
      "state": {
       "children": [
        "IPY_MODEL_f83bd7dfbc9c45bca58870486c1133cb"
       ],
       "layout": "IPY_MODEL_afd19f5ed4e145d9bc42a5dcd238dfe2"
      }
     },
     "825c7cfdafbc47f5b75590454586803c": {
      "model_module": "@jupyter-widgets/controls",
      "model_module_version": "1.5.0",
      "model_name": "DescriptionStyleModel",
      "state": {
       "description_width": ""
      }
     },
     "82731c11d9a0492088256e595d931c35": {
      "model_module": "@jupyter-widgets/controls",
      "model_module_version": "1.5.0",
      "model_name": "VBoxModel",
      "state": {
       "children": [
        "IPY_MODEL_7036da8821c3479fb7c56a39f03320b4",
        "IPY_MODEL_ac841a8857514d71963fb753ca70127c"
       ],
       "layout": "IPY_MODEL_8eadca9985314725b6b076ce67ca4a22"
      }
     },
     "830f6b44c785447f882f9fc77c6e999f": {
      "model_module": "@jupyter-widgets/controls",
      "model_module_version": "1.5.0",
      "model_name": "DropdownModel",
      "state": {
       "_options_labels": [
        "ESRI shapefile",
        "csv",
        "geotiff",
        "UBC format"
       ],
       "description": "Export type",
       "index": 2,
       "layout": "IPY_MODEL_9e763dbd3f494b729468702bba7d46b9",
       "style": "IPY_MODEL_7c8ee32e6ee140ec93d253dc83435fb6"
      }
     },
     "8320c3889ad64edd946e4acf90d5645b": {
      "model_module": "@jupyter-widgets/base",
      "model_module_version": "1.2.0",
      "model_name": "LayoutModel",
      "state": {}
     },
     "838dac9106d24697b077006e5e896271": {
      "model_module": "@jupyter-widgets/controls",
      "model_module_version": "1.5.0",
      "model_name": "TextModel",
      "state": {
       "layout": "IPY_MODEL_901162eef25c46768803311aa9599dbe",
       "placeholder": "output filename",
       "style": "IPY_MODEL_075549497db0475db18dfc3a0b8dd5a9",
       "value": "FlinFlon.geoh5"
      }
     },
     "843dc0ea520442268cab67a08c7cb6e9": {
      "model_module": "@jupyter-widgets/controls",
      "model_module_version": "1.5.0",
      "model_name": "VBoxModel",
      "state": {
       "children": [
        "IPY_MODEL_7036da8821c3479fb7c56a39f03320b4",
        "IPY_MODEL_ac841a8857514d71963fb753ca70127c"
       ],
       "layout": "IPY_MODEL_e475f380214e49e3807c26ea4a7f55d5"
      }
     },
     "845fa9b0b6054db6b402fe2a75378ce0": {
      "model_module": "@jupyter-widgets/base",
      "model_module_version": "1.2.0",
      "model_name": "LayoutModel",
      "state": {}
     },
     "84ad3b9c1de94abe8ef4aa2718e926a1": {
      "model_module": "@jupyter-widgets/controls",
      "model_module_version": "1.5.0",
      "model_name": "SelectMultipleModel",
      "state": {
       "_options_labels": [
        "",
        "--- Channels ---",
        "Airborne_Gxx",
        "Airborne_Gxy",
        "Airborne_Gxz",
        "Airborne_Gyy",
        "Airborne_Gyz",
        "Airborne_Gz",
        "Airborne_Gzz",
        "Airborne_TMI",
        "Ground_Gz",
        "Z"
       ],
       "description": "Data: ",
       "index": [
        2
       ],
       "layout": "IPY_MODEL_8f0f536dcbb547b082cf99854d98ca61",
       "rows": 5,
       "style": "IPY_MODEL_24445a8292ab4e4683a73d15c377072d"
      }
     },
     "84bf219621774896963b9259c1498d44": {
      "model_module": "@jupyter-widgets/base",
      "model_module_version": "1.2.0",
      "model_name": "LayoutModel",
      "state": {}
     },
     "84f72321c3c84175bfc6c6b1cd53a1c3": {
      "model_module": "@jupyter-widgets/controls",
      "model_module_version": "1.5.0",
      "model_name": "DescriptionStyleModel",
      "state": {
       "description_width": "initial"
      }
     },
     "855c75fbcc174a1cb48f4cf0c51a0685": {
      "model_module": "@jupyter-widgets/base",
      "model_module_version": "1.2.0",
      "model_name": "LayoutModel",
      "state": {}
     },
     "8562ba9933ee449db835dc5b129a6dc5": {
      "model_module": "@jupyter-widgets/controls",
      "model_module_version": "1.5.0",
      "model_name": "DescriptionStyleModel",
      "state": {
       "description_width": ""
      }
     },
     "864556a1889241ee9f33521a0b105d1d": {
      "model_module": "@jupyter-widgets/controls",
      "model_module_version": "1.5.0",
      "model_name": "HTMLModel",
      "state": {
       "layout": "IPY_MODEL_787c6ecce00941099a56e8ce0c274ee7",
       "style": "IPY_MODEL_32e1197d13b44375933523598d1caa58"
      }
     },
     "8684e6ad158d4c7692fd8e57c1838421": {
      "model_module": "@jupyter-widgets/base",
      "model_module_version": "1.2.0",
      "model_name": "LayoutModel",
      "state": {}
     },
     "86bdd86d918f48908c9a12e8d7f9a224": {
      "model_module": "@jupyter-widgets/controls",
      "model_module_version": "1.5.0",
      "model_name": "VBoxModel",
      "state": {
       "children": [
        "IPY_MODEL_3a0a7ee4adbf42efafeb5f0e89df1dcb"
       ],
       "layout": "IPY_MODEL_5f2094c841a14501bdb14bd6bd32ce81"
      }
     },
     "874beffe55db4ddfae2fcf3a290120a6": {
      "model_module": "@jupyter-widgets/base",
      "model_module_version": "1.2.0",
      "model_name": "LayoutModel",
      "state": {
       "width": "auto"
      }
     },
     "87fe80b3535e4b62ae235ff5bcc138a5": {
      "model_module": "@jupyter-widgets/controls",
      "model_module_version": "1.5.0",
      "model_name": "DescriptionStyleModel",
      "state": {
       "description_width": ""
      }
     },
     "8806a49c2ecd4e249d8caef7c8508441": {
      "model_module": "@jupyter-widgets/controls",
      "model_module_version": "1.5.0",
      "model_name": "ButtonStyleModel",
      "state": {}
     },
     "8855c80bb1fb48b8ba68640041d43437": {
      "model_module": "@jupyter-widgets/controls",
      "model_module_version": "1.5.0",
      "model_name": "SelectMultipleModel",
      "state": {
       "_options_labels": [
        "",
        "--- Channels ---",
        "Airborne_Gxx",
        "Airborne_Gxy",
        "Airborne_Gxz",
        "Airborne_Gyy",
        "Airborne_Gyz",
        "Airborne_Gz",
        "Airborne_Gzz",
        "Airborne_TMI",
        "Ground_Gz",
        "Z"
       ],
       "description": "Data: ",
       "index": [
        2
       ],
       "layout": "IPY_MODEL_f13934ba77a84755b046efff1a7db92c",
       "rows": 5,
       "style": "IPY_MODEL_60541559589c491b80cc3fadabf0eea3"
      }
     },
     "88d2acda005f4a2b98b3a4a23928411f": {
      "model_module": "@jupyter-widgets/controls",
      "model_module_version": "1.5.0",
      "model_name": "GridBoxModel",
      "state": {
       "children": [
        "IPY_MODEL_0067c78db49b4b878515341dfa88ebf8",
        "IPY_MODEL_5ebb82d275884cffb0bb5308642dc653",
        "IPY_MODEL_fbf4ecfbafe84f84ac888cdb400ee242"
       ],
       "layout": "IPY_MODEL_ddccf2cef8874772968c481f3a8a9e16"
      }
     },
     "8935d98584d14aab846e1c120131f333": {
      "model_module": "@jupyter-widgets/controls",
      "model_module_version": "1.5.0",
      "model_name": "VBoxModel",
      "state": {
       "children": [
        "IPY_MODEL_b6dba842ee514ddbbd10b8e9af5daac8",
        "IPY_MODEL_581c40460447404599d04392479feb9b"
       ],
       "layout": "IPY_MODEL_b2def013ac55407b8d3323b2e5f7ccbe"
      }
     },
     "895ff1a2354c429ab4b56335cca7b651": {
      "model_module": "@jupyter-widgets/base",
      "model_module_version": "1.2.0",
      "model_name": "LayoutModel",
      "state": {
       "grid_area": "dircontent",
       "width": "auto"
      }
     },
     "89974b4bddd544b2bee63d1593344cf2": {
      "model_module": "@jupyter-widgets/controls",
      "model_module_version": "1.5.0",
      "model_name": "HBoxModel",
      "state": {
       "children": [
        "IPY_MODEL_b5e0a50dbbdf41a6b23afef53315330b",
        "IPY_MODEL_24bbfb2a2b0b4ff9b39664eeccfb2a03"
       ],
       "layout": "IPY_MODEL_204a459c657943d995ed92b4d990a62f"
      }
     },
     "89dc6c0d0c1849ae8066cd9090589703": {
      "model_module": "@jupyter-widgets/controls",
      "model_module_version": "1.5.0",
      "model_name": "ButtonStyleModel",
      "state": {}
     },
     "89dec2250b4c4c05a7009890db77f86b": {
      "model_module": "@jupyter-widgets/controls",
      "model_module_version": "1.5.0",
      "model_name": "VBoxModel",
      "state": {
       "children": [
        "IPY_MODEL_7036da8821c3479fb7c56a39f03320b4",
        "IPY_MODEL_ac841a8857514d71963fb753ca70127c"
       ],
       "layout": "IPY_MODEL_ccdb96a45c214072ac54908f7e412ad7"
      }
     },
     "89ff9c7dcfd440a78bf5a6d3bd936fc9": {
      "model_module": "@jupyter-widgets/controls",
      "model_module_version": "1.5.0",
      "model_name": "HTMLModel",
      "state": {
       "layout": "IPY_MODEL_db6e7c1eeb4e4762a2282f27a9714095",
       "style": "IPY_MODEL_c2ac749efcd44805a6ea1fe46ab19355"
      }
     },
     "8a426e751eb14d4f80da5ac55b6616ff": {
      "model_module": "@jupyter-widgets/controls",
      "model_module_version": "1.5.0",
      "model_name": "DescriptionStyleModel",
      "state": {
       "description_width": "initial"
      }
     },
     "8b3afdb6f58f47a683f966c1d4ffc91e": {
      "model_module": "@jupyter-widgets/controls",
      "model_module_version": "1.5.0",
      "model_name": "DescriptionStyleModel",
      "state": {
       "description_width": ""
      }
     },
     "8ba6212ef2ff4e2d8d1bf5cb06321a3d": {
      "model_module": "@jupyter-widgets/controls",
      "model_module_version": "1.5.0",
      "model_name": "DescriptionStyleModel",
      "state": {
       "description_width": ""
      }
     },
     "8bef36c543014c26afbb94076e5667f4": {
      "model_module": "@jupyter-widgets/base",
      "model_module_version": "1.2.0",
      "model_name": "LayoutModel",
      "state": {}
     },
     "8ccc9c841d6343e087fb013578189c52": {
      "model_module": "@jupyter-widgets/controls",
      "model_module_version": "1.5.0",
      "model_name": "VBoxModel",
      "state": {
       "children": [
        "IPY_MODEL_00455fe3e65c4155ba651488dcde2a9b",
        "IPY_MODEL_066cd9bdb7e24ebba0590cda1f99a842"
       ],
       "layout": "IPY_MODEL_7be28d61eefa4cc68ac9c1672a53ea5b"
      }
     },
     "8dee0d3a76e64be8819d4d8ced316f08": {
      "model_module": "@jupyter-widgets/controls",
      "model_module_version": "1.5.0",
      "model_name": "VBoxModel",
      "state": {
       "children": [
        "IPY_MODEL_81ac743d34804814966a69fce2528154"
       ],
       "layout": "IPY_MODEL_a2f83aaadab64a4aa070ad8815acd78f"
      }
     },
     "8eadca9985314725b6b076ce67ca4a22": {
      "model_module": "@jupyter-widgets/base",
      "model_module_version": "1.2.0",
      "model_name": "LayoutModel",
      "state": {}
     },
     "8f0f536dcbb547b082cf99854d98ca61": {
      "model_module": "@jupyter-widgets/base",
      "model_module_version": "1.2.0",
      "model_name": "LayoutModel",
      "state": {}
     },
     "8f36ae85560c4f5fbeb0984cab451939": {
      "model_module": "@jupyter-widgets/controls",
      "model_module_version": "1.5.0",
      "model_name": "DescriptionStyleModel",
      "state": {
       "description_width": ""
      }
     },
     "8fa5707942bd4943ba6203808a8b578a": {
      "model_module": "@jupyter-widgets/controls",
      "model_module_version": "1.5.0",
      "model_name": "RadioButtonsModel",
      "state": {
       "_options_labels": [
        "float",
        "RGB"
       ],
       "description": "Type:",
       "index": 1,
       "layout": "IPY_MODEL_bbfd7c6350eb4ca9bc2cf7055e29a249",
       "style": "IPY_MODEL_5f76e66d77014c06a396564309cae35c"
      }
     },
     "8fca13f9830b460f96ed889ccde13003": {
      "model_module": "@jupyter-widgets/base",
      "model_module_version": "1.2.0",
      "model_name": "LayoutModel",
      "state": {
       "display": "none",
       "width": "auto"
      }
     },
     "8fef0c7bf11444f1b0e3bbe978f12fef": {
      "model_module": "@jupyter-widgets/controls",
      "model_module_version": "1.5.0",
      "model_name": "DescriptionStyleModel",
      "state": {
       "description_width": ""
      }
     },
     "8fffd7ffa37e44d4892082b7a17fcad5": {
      "model_module": "@jupyter-widgets/controls",
      "model_module_version": "1.5.0",
      "model_name": "DescriptionStyleModel",
      "state": {
       "description_width": ""
      }
     },
     "901162eef25c46768803311aa9599dbe": {
      "model_module": "@jupyter-widgets/base",
      "model_module_version": "1.2.0",
      "model_name": "LayoutModel",
      "state": {
       "grid_area": "filename",
       "width": "auto"
      }
     },
     "904f342810c040b4b74b1cf6f15282ae": {
      "model_module": "@jupyter-widgets/base",
      "model_module_version": "1.2.0",
      "model_name": "LayoutModel",
      "state": {
       "grid_area": "pathlist",
       "width": "auto"
      }
     },
     "906257af9b764505b2a068a0d6583b92": {
      "model_module": "@jupyter-widgets/base",
      "model_module_version": "1.2.0",
      "model_name": "LayoutModel",
      "state": {}
     },
     "91c4d58973c543c180cd40bc681ef336": {
      "model_module": "@jupyter-widgets/base",
      "model_module_version": "1.2.0",
      "model_name": "LayoutModel",
      "state": {}
     },
     "92136036d63d4b6c9464aee8f769eddf": {
      "model_module": "@jupyter-widgets/base",
      "model_module_version": "1.2.0",
      "model_name": "LayoutModel",
      "state": {}
     },
     "924f159516dc4ee8b4d4af022883dc0f": {
      "model_module": "@jupyter-widgets/controls",
      "model_module_version": "1.5.0",
      "model_name": "DescriptionStyleModel",
      "state": {
       "description_width": ""
      }
     },
     "925cd6af41504c74a0d43ea3d60dc62c": {
      "model_module": "@jupyter-widgets/base",
      "model_module_version": "1.2.0",
      "model_name": "LayoutModel",
      "state": {}
     },
     "92ad8e7e7d134c1ebe322b4b5763042a": {
      "model_module": "@jupyter-widgets/controls",
      "model_module_version": "1.5.0",
      "model_name": "DescriptionStyleModel",
      "state": {
       "description_width": ""
      }
     },
     "92ffdbb1afe74576970842a88243b9a7": {
      "model_module": "@jupyter-widgets/base",
      "model_module_version": "1.2.0",
      "model_name": "LayoutModel",
      "state": {}
     },
     "9308e9250955496b906eb07bc65dd237": {
      "model_module": "@jupyter-widgets/controls",
      "model_module_version": "1.5.0",
      "model_name": "TextModel",
      "state": {
       "continuous_update": false,
       "description": "Save as:",
       "layout": "IPY_MODEL_8684e6ad158d4c7692fd8e57c1838421",
       "style": "IPY_MODEL_f4e479edab1f4e5c94bcef89dbcac12c",
       "value": "Gravity_Magnetics_drape60m"
      }
     },
     "930c4e256d894783806678906728e354": {
      "model_module": "@jupyter-widgets/controls",
      "model_module_version": "1.5.0",
      "model_name": "DescriptionStyleModel",
      "state": {
       "description_width": "initial"
      }
     },
     "9382fd783a534d488e7bcfb1ddabd226": {
      "model_module": "@jupyter-widgets/controls",
      "model_module_version": "1.5.0",
      "model_name": "DescriptionStyleModel",
      "state": {
       "description_width": ""
      }
     },
     "93c2c84ad683421083a25036dfa1af28": {
      "model_module": "@jupyter-widgets/base",
      "model_module_version": "1.2.0",
      "model_name": "LayoutModel",
      "state": {
       "display": "none",
       "grid_gap": "0px 0px",
       "grid_template_areas": "\n                    'pathlist pathlist'\n                    'dircontent dircontent'\n                    ",
       "grid_template_columns": "60% 40%",
       "grid_template_rows": "auto auto",
       "width": "500px"
      }
     },
     "94080d3953964a5e978665a18ad73e2c": {
      "model_module": "@jupyter-widgets/controls",
      "model_module_version": "1.5.0",
      "model_name": "VBoxModel",
      "state": {
       "children": [
        "IPY_MODEL_7036da8821c3479fb7c56a39f03320b4",
        "IPY_MODEL_ac841a8857514d71963fb753ca70127c"
       ],
       "layout": "IPY_MODEL_29ac3cc56bdf4817a2c127fa00edd06c"
      }
     },
     "94645adf523b41fcbf4a7261e8355460": {
      "model_module": "@jupyter-widgets/controls",
      "model_module_version": "1.5.0",
      "model_name": "TextModel",
      "state": {
       "continuous_update": false,
       "description": "Projection:",
       "layout": "IPY_MODEL_ca3c4f5a6f3b4c9e8b48ed582cd5742e",
       "style": "IPY_MODEL_28a65a037f404fedbd928122a7bb65b6",
       "value": "EPSG:26914"
      }
     },
     "94d3bcec37be4ca281aa21c699de2bf0": {
      "model_module": "@jupyter-widgets/base",
      "model_module_version": "1.2.0",
      "model_name": "LayoutModel",
      "state": {}
     },
     "96456420e51e4ecaa781c1b0392c07f6": {
      "model_module": "@jupyter-widgets/controls",
      "model_module_version": "1.5.0",
      "model_name": "TextModel",
      "state": {
       "continuous_update": false,
       "description": "Group:",
       "layout": "IPY_MODEL_a35c2aa5110d4525b46eebdd748d6c0d",
       "style": "IPY_MODEL_3967473615b14a138fdf86aaf965188c"
      }
     },
     "9760ccfa9df9472db0e886d7fa803e67": {
      "model_module": "@jupyter-widgets/controls",
      "model_module_version": "1.5.0",
      "model_name": "DropdownModel",
      "state": {
       "_options_labels": [
        "ESRI shapefile",
        "csv",
        "geotiff",
        "UBC format"
       ],
       "description": "Export type",
       "index": 2,
       "layout": "IPY_MODEL_43c5b883f7af47fa8c2bb5ecb67b8f94",
       "style": "IPY_MODEL_c4d99532d3b24c7b85208cb1b8dd2c60"
      }
     },
     "97c3359a92de4d1d813272682ce7a29e": {
      "model_module": "@jupyter-widgets/controls",
      "model_module_version": "1.5.0",
      "model_name": "TextModel",
      "state": {
       "disabled": true,
       "layout": "IPY_MODEL_47c22a6ef37842f78e0a66309366f3d8",
       "placeholder": "output filename",
       "style": "IPY_MODEL_520a072a072649c59810a755c5015e53"
      }
     },
     "97d2b7214e8349e6841b6286552366e9": {
      "model_module": "@jupyter-widgets/base",
      "model_module_version": "1.2.0",
      "model_name": "LayoutModel",
      "state": {}
     },
     "9863e4ffdb7c4195afa52a8ad8030a8b": {
      "model_module": "@jupyter-widgets/controls",
      "model_module_version": "1.5.0",
      "model_name": "DescriptionStyleModel",
      "state": {
       "description_width": ""
      }
     },
     "989a774795bd4fd4a6bde682c11942cf": {
      "model_module": "@jupyter-widgets/controls",
      "model_module_version": "1.5.0",
      "model_name": "DescriptionStyleModel",
      "state": {
       "description_width": ""
      }
     },
     "99933b1d791b452e82406fc9d7058e93": {
      "model_module": "@jupyter-widgets/controls",
      "model_module_version": "1.5.0",
      "model_name": "TextModel",
      "state": {
       "layout": "IPY_MODEL_61d18d27d38749c49638d9fc5564b598",
       "placeholder": "output filename",
       "style": "IPY_MODEL_2597791f307d496cafdd24312f530a37",
       "value": "FlinFlon.geoh5"
      }
     },
     "9a07ff7c531f49df88af52ff2fa556b3": {
      "model_module": "@jupyter-widgets/controls",
      "model_module_version": "1.5.0",
      "model_name": "SelectModel",
      "state": {
       "_options_labels": [
        "..",
        "Temp",
        "dask-worker-space",
        "Crossplot.html",
        "FlinFlon.geoh5",
        "FlinFlon_light.geoh5",
        "MtDore_TMI.geoh5"
       ],
       "index": 4,
       "layout": "IPY_MODEL_aa50dfe7ad044c069bdc46e4ae87223b",
       "rows": 8,
       "style": "IPY_MODEL_c01fa43a45384f269195a4ab0aaa22d1"
      }
     },
     "9c447e7db4cc44bfab9a045210df4673": {
      "model_module": "@jupyter-widgets/controls",
      "model_module_version": "1.5.0",
      "model_name": "VBoxModel",
      "state": {
       "children": [
        "IPY_MODEL_7036da8821c3479fb7c56a39f03320b4",
        "IPY_MODEL_ac841a8857514d71963fb753ca70127c"
       ],
       "layout": "IPY_MODEL_4eff66f1fe584afe85c758a25996c870"
      }
     },
     "9c605fcc42804792a18e86b5de76bfa2": {
      "model_module": "@jupyter-widgets/controls",
      "model_module_version": "1.5.0",
      "model_name": "VBoxModel",
      "state": {
       "children": [
        "IPY_MODEL_151cd198513d4875a304184ab6996b7c",
        "IPY_MODEL_07d3af0559ab4bc4a8a6b19ef7ab11bc"
       ],
       "layout": "IPY_MODEL_518dc952450b4da2839a9af2893e388e"
      }
     },
     "9df3725a6a7144e2b4bf2885bb599dc0": {
      "model_module": "@jupyter-widgets/base",
      "model_module_version": "1.2.0",
      "model_name": "LayoutModel",
      "state": {
       "width": "auto"
      }
     },
     "9dfab61df63c4ff8a7531e7190185385": {
      "model_module": "@jupyter-widgets/base",
      "model_module_version": "1.2.0",
      "model_name": "LayoutModel",
      "state": {
       "display": "none",
       "grid_gap": "0px 0px",
       "grid_template_areas": "\n                    'pathlist pathlist'\n                    'dircontent dircontent'\n                    ",
       "grid_template_columns": "60% 40%",
       "grid_template_rows": "auto auto",
       "width": "500px"
      }
     },
     "9e4a8d174a5e4d4f932d8aa4b8804cd9": {
      "model_module": "@jupyter-widgets/controls",
      "model_module_version": "1.5.0",
      "model_name": "VBoxModel",
      "state": {
       "children": [
        "IPY_MODEL_7036da8821c3479fb7c56a39f03320b4",
        "IPY_MODEL_ac841a8857514d71963fb753ca70127c"
       ],
       "layout": "IPY_MODEL_f0e4f1f54ab343038c9613889b8d8b34"
      }
     },
     "9e763dbd3f494b729468702bba7d46b9": {
      "model_module": "@jupyter-widgets/base",
      "model_module_version": "1.2.0",
      "model_name": "LayoutModel",
      "state": {}
     },
     "9e937b7fc40049aba850246bb64b1ca0": {
      "model_module": "@jupyter-widgets/controls",
      "model_module_version": "1.5.0",
      "model_name": "DescriptionStyleModel",
      "state": {
       "description_width": ""
      }
     },
     "9f3c2a9ce33b480991718f94e4601a6f": {
      "model_module": "@jupyter-widgets/controls",
      "model_module_version": "1.5.0",
      "model_name": "DescriptionStyleModel",
      "state": {
       "description_width": "initial"
      }
     },
     "9f73188628be4ddaaaa7e30c42a69841": {
      "model_module": "@jupyter-widgets/controls",
      "model_module_version": "1.5.0",
      "model_name": "HTMLModel",
      "state": {
       "layout": "IPY_MODEL_279a6b24519f46f2a663bb82c93c35fd",
       "placeholder": "",
       "style": "IPY_MODEL_989a774795bd4fd4a6bde682c11942cf",
       "value": "<span style=\"margin-left:10px; color:orange;\">C:\\Users\\dominiquef\\Documents\\GIT\\mira\\mirageoscience-apps\\assets\\FlinFlon.geoh5</span>"
      }
     },
     "9fe1b994173e4ddab87a7ec2ec1f18ab": {
      "model_module": "@jupyter-widgets/base",
      "model_module_version": "1.2.0",
      "model_name": "LayoutModel",
      "state": {
       "width": "75%"
      }
     },
     "a0e86d2ed40545bd9b588c411745cf97": {
      "model_module": "@jupyter-widgets/controls",
      "model_module_version": "1.5.0",
      "model_name": "DescriptionStyleModel",
      "state": {
       "description_width": ""
      }
     },
     "a1b78d4abd8c422aba23fe32dad993bc": {
      "model_module": "@jupyter-widgets/controls",
      "model_module_version": "1.5.0",
      "model_name": "DescriptionStyleModel",
      "state": {
       "description_width": ""
      }
     },
     "a246945ff51d402582adf35fbf874095": {
      "model_module": "@jupyter-widgets/controls",
      "model_module_version": "1.5.0",
      "model_name": "VBoxModel",
      "state": {
       "children": [
        "IPY_MODEL_7036da8821c3479fb7c56a39f03320b4",
        "IPY_MODEL_ac841a8857514d71963fb753ca70127c"
       ],
       "layout": "IPY_MODEL_7d57a67056c746c3ad71e74abb6ec7a9"
      }
     },
     "a2607f08227049698dc501e3f3da9b74": {
      "model_module": "@jupyter-widgets/base",
      "model_module_version": "1.2.0",
      "model_name": "LayoutModel",
      "state": {}
     },
     "a2b1c420e78243c9b00c19019c4a76a7": {
      "model_module": "@jupyter-widgets/base",
      "model_module_version": "1.2.0",
      "model_name": "LayoutModel",
      "state": {}
     },
     "a2f83aaadab64a4aa070ad8815acd78f": {
      "model_module": "@jupyter-widgets/base",
      "model_module_version": "1.2.0",
      "model_name": "LayoutModel",
      "state": {}
     },
     "a3019dc49b1e4db6b0a7351b46176732": {
      "model_module": "@jupyter-widgets/controls",
      "model_module_version": "1.5.0",
      "model_name": "DescriptionStyleModel",
      "state": {
       "description_width": ""
      }
     },
     "a31316dd29944168af2e973f1d76cbb7": {
      "model_module": "@jupyter-widgets/base",
      "model_module_version": "1.2.0",
      "model_name": "LayoutModel",
      "state": {}
     },
     "a35c2aa5110d4525b46eebdd748d6c0d": {
      "model_module": "@jupyter-widgets/base",
      "model_module_version": "1.2.0",
      "model_name": "LayoutModel",
      "state": {}
     },
     "a3a3b1377fc64607a0201b890e03025e": {
      "model_module": "@jupyter-widgets/controls",
      "model_module_version": "1.5.0",
      "model_name": "TextModel",
      "state": {
       "layout": "IPY_MODEL_7093ff2666c645bfbb46e5b5e94ed0c0",
       "placeholder": "output filename",
       "style": "IPY_MODEL_6c2fe101edbc44c493d87d4a5af84478",
       "value": "FlinFlon.geoh5"
      }
     },
     "a3d247206f4f433e8944355f1fb21e28": {
      "model_module": "@jupyter-widgets/controls",
      "model_module_version": "1.5.0",
      "model_name": "VBoxModel",
      "state": {
       "children": [
        "IPY_MODEL_7036da8821c3479fb7c56a39f03320b4",
        "IPY_MODEL_ac841a8857514d71963fb753ca70127c"
       ],
       "layout": "IPY_MODEL_a2607f08227049698dc501e3f3da9b74"
      }
     },
     "a4276261f5ee40fbb222a1e8cf6a69c0": {
      "model_module": "@jupyter-widgets/controls",
      "model_module_version": "1.5.0",
      "model_name": "DropdownModel",
      "state": {
       "_options_labels": [
        "",
        "fault_splay1",
        "fault_Cliff_Lake",
        "fault_Other_FlinFlon",
        "fault_Club_Lake_splay",
        "fault_Catherine_splay2",
        "fault_Birch_View",
        "fault_Dion_Lake",
        "fault_FlinFlon_splay",
        "fault_West_Mandy_Road",
        "fault_Channing",
        "fault_Ross_Lake",
        "fault_Louis_Hidden",
        "fault_Lake_View_thrust",
        "contact_Schist_Lake",
        "fault_Burley_Lake",
        "fault_Dion_Lake_splay",
        "fault_Green_Lake",
        "fault_FlinFlon",
        "fault_Catherine_splay1",
        "fault_East_Mandy_Road",
        "fault_Other_FlinFlon_South",
        "fault_Catherine_splay4",
        "contact_Stitt_Island",
        "fault_Club_Lake",
        "fault_Tailing_Pond",
        "35_Hidden_Reservoir_Hr5",
        "29_Hidden_Reservoir_Hr1a",
        "60_BlueLagoon_Fb2",
        "20_FlinFlon_Undivided_Int_Dykes_D2f",
        "04_Boundary_Intrusive_S4h",
        "53_Millrock_Rhyolite_Fm4b",
        "19_FlinFlon_Undivided_Int_Dykes_D2b",
        "18_FlinFlon_Undivided_Int_Dykes_777_D2b",
        "06_Phantom_Lake_Intrusive_S3a",
        "21_FlinFlon_Undivided_Int_Dykes_D3a",
        "43_Millrock_CHLSH_South",
        "56_Millrock_Basalt_Fm1ba",
        "17_FlinFlon_Undivided_Int_Dykes_D2",
        "32_Hidden_Reservoir_Hr1b_SW",
        "11_Missi_M3_NE",
        "13_Missi_M1",
        "07_Annabel_Granitoid_S1",
        "45_Millrock_Gabbro_South",
        "01_Late_Intrusive_S5b",
        "31_Hidden_Reservoir_Hr1c_SW",
        "52_Millrock_Rhyolite_Fm4_West_check",
        "55_Millrock_Basalt_Fm1bf",
        "34_Hidden_Reservoir_Hr2b",
        "03_Boundary_Intrusive_S4b",
        "42_Millrock_CHLSH_North",
        "26_Louis_L3",
        "23_FlinFlon_Undivided_Int_Felsic_D4g",
        "30_Hidden_Reservoir_Hr1b",
        "59_BlueLagoon_Fb3",
        "49_Millrock_MVR_Fm5d",
        "44_Millrock_Gabbro_North",
        "27_Hidden_Carlisle_Hc4",
        "22_FlinFlon_Undivided_Int_Felsic_D4e",
        "02_Boundary_Intrusive_S4a",
        "61_BlueLagoon_Fb1_NW",
        "05_Boundary_Intrusive_S4g",
        "39_Ore_Callinan",
        "38_Ore_Dan_Owens",
        "40_Ore_FlinFlon",
        "Inversion_VTEM_Model",
        "Gravity_Magnetics_drape60m",
        "CDI_VTEM_model",
        "Data_FEM_pseudo3D",
        "O2O_Interp_25m",
        "geochem",
        "Inversion_DIGHEM_Model",
        "Topography",
        "Data_TEM_pseudo3D"
       ],
       "description": "Object:",
       "index": 66,
       "layout": "IPY_MODEL_92136036d63d4b6c9464aee8f769eddf",
       "style": "IPY_MODEL_bb02c3a0c68c455ab30a916eddc10ab8"
      }
     },
     "a429597873514f25a5f9a08636bcd83c": {
      "model_module": "@jupyter-widgets/controls",
      "model_module_version": "1.5.0",
      "model_name": "DescriptionStyleModel",
      "state": {
       "description_width": ""
      }
     },
     "a4a172edac204cce9ffaa01041e7952d": {
      "model_module": "@jupyter-widgets/base",
      "model_module_version": "1.2.0",
      "model_name": "LayoutModel",
      "state": {}
     },
     "a5e99e2d899241e6887371c88ce4236c": {
      "model_module": "@jupyter-widgets/base",
      "model_module_version": "1.2.0",
      "model_name": "LayoutModel",
      "state": {}
     },
     "a7181eb9046d4397ad7ebeec47657d76": {
      "model_module": "@jupyter-widgets/controls",
      "model_module_version": "1.5.0",
      "model_name": "DescriptionStyleModel",
      "state": {
       "description_width": ""
      }
     },
     "a731a00e6d91407f88ef2081f57b2f66": {
      "model_module": "@jupyter-widgets/controls",
      "model_module_version": "1.5.0",
      "model_name": "ButtonModel",
      "state": {
       "description": "Change",
       "layout": "IPY_MODEL_e355582aac374f94be5471ba3d8bf09a",
       "style": "IPY_MODEL_bc03b859693c44108e4eee99054dc789"
      }
     },
     "a786228d57d842e6ab907076f864f1a9": {
      "model_module": "@jupyter-widgets/base",
      "model_module_version": "1.2.0",
      "model_name": "LayoutModel",
      "state": {}
     },
     "aa50dfe7ad044c069bdc46e4ae87223b": {
      "model_module": "@jupyter-widgets/base",
      "model_module_version": "1.2.0",
      "model_name": "LayoutModel",
      "state": {
       "grid_area": "dircontent",
       "width": "auto"
      }
     },
     "aa537d2138904d0783b51ad7db270b57": {
      "model_module": "@jupyter-widgets/controls",
      "model_module_version": "1.5.0",
      "model_name": "ToggleButtonModel",
      "state": {
       "layout": "IPY_MODEL_34b70860bf6e4fbbaae4693efd650d4a",
       "style": "IPY_MODEL_260642bb1c524b869e64678ea622b415",
       "value": true
      }
     },
     "ab2424bc393c4e54953a12167d38130c": {
      "model_module": "@jupyter-widgets/base",
      "model_module_version": "1.2.0",
      "model_name": "LayoutModel",
      "state": {}
     },
     "ab77532ef3fe4864b3c20d67e6665667": {
      "model_module": "@jupyter-widgets/controls",
      "model_module_version": "1.5.0",
      "model_name": "ButtonStyleModel",
      "state": {}
     },
     "ab9041f989a445659fdf88a8bd7e65cd": {
      "model_module": "@jupyter-widgets/base",
      "model_module_version": "1.2.0",
      "model_name": "LayoutModel",
      "state": {}
     },
     "ac841a8857514d71963fb753ca70127c": {
      "model_module": "@jupyter-widgets/controls",
      "model_module_version": "1.5.0",
      "model_name": "TextareaModel",
      "state": {
       "continuous_update": false,
       "description": "WKT:",
       "layout": "IPY_MODEL_f5378984a24a4af78aeacb784de9ef73",
       "style": "IPY_MODEL_825c7cfdafbc47f5b75590454586803c",
       "value": "PROJCS[\"NAD83 / UTM zone 14N\",GEOGCS[\"NAD83\",DATUM[\"North_American_Datum_1983\",SPHEROID[\"GRS 1980\",6378137,298.257222101,AUTHORITY[\"EPSG\",\"7019\"]],AUTHORITY[\"EPSG\",\"6269\"]],PRIMEM[\"Greenwich\",0,AUTHORITY[\"EPSG\",\"8901\"]],UNIT[\"degree\",0.0174532925199433,AUTHORITY[\"EPSG\",\"9122\"]],AUTHORITY[\"EPSG\",\"4269\"]],PROJECTION[\"Transverse_Mercator\"],PARAMETER[\"latitude_of_origin\",0],PARAMETER[\"central_meridian\",-99],PARAMETER[\"scale_factor\",0.9996],PARAMETER[\"false_easting\",500000],PARAMETER[\"false_northing\",0],UNIT[\"metre\",1,AUTHORITY[\"EPSG\",\"9001\"]],AXIS[\"Easting\",EAST],AXIS[\"Northing\",NORTH],AUTHORITY[\"EPSG\",\"26914\"]]"
      }
     },
     "ad702b14d92b40faa2a85b6f87919a59": {
      "model_module": "@jupyter-widgets/controls",
      "model_module_version": "1.5.0",
      "model_name": "ButtonStyleModel",
      "state": {}
     },
     "ad7d3f7dcafe4e5db1789507f7c37144": {
      "model_module": "@jupyter-widgets/base",
      "model_module_version": "1.2.0",
      "model_name": "LayoutModel",
      "state": {}
     },
     "ad9657a8862e4bb58df40bf4703701ed": {
      "model_module": "@jupyter-widgets/controls",
      "model_module_version": "1.5.0",
      "model_name": "DropdownModel",
      "state": {
       "_options_labels": [
        "C:\\Users\\dominiquef\\Documents\\GIT\\mira\\mirageoscience-apps\\assets",
        "C:\\Users\\dominiquef\\Documents\\GIT\\mira\\mirageoscience-apps",
        "C:\\Users\\dominiquef\\Documents\\GIT\\mira",
        "C:\\Users\\dominiquef\\Documents\\GIT",
        "C:\\Users\\dominiquef\\Documents",
        "C:\\Users\\dominiquef",
        "C:\\Users",
        "C:\\",
        "D:\\",
        "Z:\\"
       ],
       "index": 0,
       "layout": "IPY_MODEL_bdb1194248074f9bab1420676e042a34",
       "style": "IPY_MODEL_6179176650a54585bba38ca871948b0b"
      }
     },
     "adce6e41b2ac42c8805b3b077d09656d": {
      "model_module": "@jupyter-widgets/base",
      "model_module_version": "1.2.0",
      "model_name": "LayoutModel",
      "state": {}
     },
     "add08cbe21bc4b07aa87e6622a88ddb5": {
      "model_module": "@jupyter-widgets/base",
      "model_module_version": "1.2.0",
      "model_name": "LayoutModel",
      "state": {}
     },
     "ae17e04f5ea84ca1b5e72a1d4b8c9a83": {
      "model_module": "@jupyter-widgets/base",
      "model_module_version": "1.2.0",
      "model_name": "LayoutModel",
      "state": {
       "display": "none"
      }
     },
     "aee2b07cd4f949ef83448618c489b5e4": {
      "model_module": "@jupyter-widgets/base",
      "model_module_version": "1.2.0",
      "model_name": "LayoutModel",
      "state": {
       "grid_area": "dircontent",
       "width": "auto"
      }
     },
     "afd19f5ed4e145d9bc42a5dcd238dfe2": {
      "model_module": "@jupyter-widgets/base",
      "model_module_version": "1.2.0",
      "model_name": "LayoutModel",
      "state": {}
     },
     "b1e18bfd9cb349629ca07be5bada4b83": {
      "model_module": "@jupyter-widgets/base",
      "model_module_version": "1.2.0",
      "model_name": "LayoutModel",
      "state": {}
     },
     "b24020c033a54222ab1683a90d494cd8": {
      "model_module": "@jupyter-widgets/controls",
      "model_module_version": "1.5.0",
      "model_name": "VBoxModel",
      "state": {
       "children": [
        "IPY_MODEL_7036da8821c3479fb7c56a39f03320b4",
        "IPY_MODEL_ac841a8857514d71963fb753ca70127c"
       ],
       "layout": "IPY_MODEL_e722d7d3264b4403af7a13623bd1f904"
      }
     },
     "b24d12e82f224bc2b37b116bcfe95436": {
      "model_module": "@jupyter-widgets/controls",
      "model_module_version": "1.5.0",
      "model_name": "DropdownModel",
      "state": {
       "_options_labels": [
        "ESRI shapefile",
        "csv",
        "geotiff",
        "UBC format"
       ],
       "description": "Export type",
       "index": 2,
       "layout": "IPY_MODEL_2b8004c526dd4599946f3753ed172bc8",
       "style": "IPY_MODEL_bc3833c256d44cb990499cc78f5c0f82"
      }
     },
     "b257fd0507cc4b849e7082394f6b53a2": {
      "model_module": "@jupyter-widgets/base",
      "model_module_version": "1.2.0",
      "model_name": "LayoutModel",
      "state": {}
     },
     "b277106b26ad4198af00b1a92f97748d": {
      "model_module": "@jupyter-widgets/base",
      "model_module_version": "1.2.0",
      "model_name": "LayoutModel",
      "state": {
       "grid_area": "dircontent",
       "width": "auto"
      }
     },
     "b288569f60884b5788fc0aa18c3036cc": {
      "model_module": "@jupyter-widgets/base",
      "model_module_version": "1.2.0",
      "model_name": "LayoutModel",
      "state": {}
     },
     "b2def013ac55407b8d3323b2e5f7ccbe": {
      "model_module": "@jupyter-widgets/base",
      "model_module_version": "1.2.0",
      "model_name": "LayoutModel",
      "state": {}
     },
     "b46ade52d84049db9f041d810d52668a": {
      "model_module": "@jupyter-widgets/controls",
      "model_module_version": "1.5.0",
      "model_name": "DescriptionStyleModel",
      "state": {
       "description_width": ""
      }
     },
     "b4afcf6a1988426c8371dd753f31e530": {
      "model_module": "@jupyter-widgets/controls",
      "model_module_version": "1.5.0",
      "model_name": "DropdownModel",
      "state": {
       "_options_labels": [
        "",
        "fault_splay1",
        "fault_Cliff_Lake",
        "fault_Other_FlinFlon",
        "fault_Club_Lake_splay",
        "fault_Catherine_splay2",
        "fault_Birch_View",
        "fault_Dion_Lake",
        "fault_FlinFlon_splay",
        "fault_West_Mandy_Road",
        "fault_Channing",
        "fault_Ross_Lake",
        "fault_Louis_Hidden",
        "fault_Lake_View_thrust",
        "contact_Schist_Lake",
        "fault_Burley_Lake",
        "fault_Dion_Lake_splay",
        "fault_Green_Lake",
        "fault_FlinFlon",
        "fault_Catherine_splay1",
        "fault_East_Mandy_Road",
        "fault_Other_FlinFlon_South",
        "fault_Catherine_splay4",
        "contact_Stitt_Island",
        "fault_Club_Lake",
        "fault_Tailing_Pond",
        "35_Hidden_Reservoir_Hr5",
        "29_Hidden_Reservoir_Hr1a",
        "60_BlueLagoon_Fb2",
        "20_FlinFlon_Undivided_Int_Dykes_D2f",
        "04_Boundary_Intrusive_S4h",
        "53_Millrock_Rhyolite_Fm4b",
        "19_FlinFlon_Undivided_Int_Dykes_D2b",
        "18_FlinFlon_Undivided_Int_Dykes_777_D2b",
        "06_Phantom_Lake_Intrusive_S3a",
        "21_FlinFlon_Undivided_Int_Dykes_D3a",
        "43_Millrock_CHLSH_South",
        "56_Millrock_Basalt_Fm1ba",
        "17_FlinFlon_Undivided_Int_Dykes_D2",
        "32_Hidden_Reservoir_Hr1b_SW",
        "11_Missi_M3_NE",
        "13_Missi_M1",
        "07_Annabel_Granitoid_S1",
        "45_Millrock_Gabbro_South",
        "01_Late_Intrusive_S5b",
        "31_Hidden_Reservoir_Hr1c_SW",
        "52_Millrock_Rhyolite_Fm4_West_check",
        "55_Millrock_Basalt_Fm1bf",
        "34_Hidden_Reservoir_Hr2b",
        "03_Boundary_Intrusive_S4b",
        "42_Millrock_CHLSH_North",
        "26_Louis_L3",
        "23_FlinFlon_Undivided_Int_Felsic_D4g",
        "30_Hidden_Reservoir_Hr1b",
        "59_BlueLagoon_Fb3",
        "49_Millrock_MVR_Fm5d",
        "44_Millrock_Gabbro_North",
        "27_Hidden_Carlisle_Hc4",
        "22_FlinFlon_Undivided_Int_Felsic_D4e",
        "02_Boundary_Intrusive_S4a",
        "61_BlueLagoon_Fb1_NW",
        "05_Boundary_Intrusive_S4g",
        "39_Ore_Callinan",
        "38_Ore_Dan_Owens",
        "40_Ore_FlinFlon",
        "Inversion_VTEM_Model",
        "Gravity_Magnetics_drape60m",
        "CDI_VTEM_model",
        "Data_FEM_pseudo3D",
        "O2O_Interp_25m",
        "geochem",
        "Inversion_DIGHEM_Model",
        "Topography",
        "Data_TEM_pseudo3D"
       ],
       "description": "Object:",
       "index": 66,
       "layout": "IPY_MODEL_ceebecdcad1c431da0c878af21fb2f61",
       "style": "IPY_MODEL_1b9b359ab20d41a69b1404ffd06961d0"
      }
     },
     "b50e088733c4452e94d1f129beec19bc": {
      "model_module": "@jupyter-widgets/base",
      "model_module_version": "1.2.0",
      "model_name": "LayoutModel",
      "state": {}
     },
     "b53a9d177615484baec707da24f201bb": {
      "model_module": "@jupyter-widgets/controls",
      "model_module_version": "1.5.0",
      "model_name": "DescriptionStyleModel",
      "state": {
       "description_width": "initial"
      }
     },
     "b5d12335deff4257b5c80c4ca3830799": {
      "model_module": "@jupyter-widgets/base",
      "model_module_version": "1.2.0",
      "model_name": "LayoutModel",
      "state": {
       "width": "auto"
      }
     },
     "b5e0a50dbbdf41a6b23afef53315330b": {
      "model_module": "@jupyter-widgets/controls",
      "model_module_version": "1.5.0",
      "model_name": "VBoxModel",
      "state": {
       "children": [
        "IPY_MODEL_de75a7523bc64d438955d9d7b78688bb",
        "IPY_MODEL_8855c80bb1fb48b8ba68640041d43437"
       ],
       "layout": "IPY_MODEL_198d442de4fc47d59e7f7f693ebc2e00"
      }
     },
     "b5fb1d672ed64fcea9d572fb88eae749": {
      "model_module": "@jupyter-widgets/controls",
      "model_module_version": "1.5.0",
      "model_name": "VBoxModel",
      "state": {
       "children": [
        "IPY_MODEL_b4afcf6a1988426c8371dd753f31e530",
        "IPY_MODEL_54fbdcb9a21e482087a79cabd89e97bf"
       ],
       "layout": "IPY_MODEL_e07c10e4d51b4d57ba1447468395df91"
      }
     },
     "b6035015ffdb4c9f94a6100974ced55e": {
      "model_module": "@jupyter-widgets/base",
      "model_module_version": "1.2.0",
      "model_name": "LayoutModel",
      "state": {}
     },
     "b644fae6883e4edb8f057b4b6f513af4": {
      "model_module": "@jupyter-widgets/controls",
      "model_module_version": "1.5.0",
      "model_name": "VBoxModel",
      "state": {
       "children": [
        "IPY_MODEL_e203d6859bbe46f6b7db6b7e4ef06cc9",
        "IPY_MODEL_f91deb6429c64b02ae7a630a763dc835",
        "IPY_MODEL_7664d1d275294e1c8985653ea0e226f9"
       ],
       "layout": "IPY_MODEL_b5d12335deff4257b5c80c4ca3830799"
      }
     },
     "b67d70191e714a8e813c27df98d410bb": {
      "model_module": "@jupyter-widgets/controls",
      "model_module_version": "1.5.0",
      "model_name": "ButtonStyleModel",
      "state": {}
     },
     "b6c43b5677284447b712222449a63cfe": {
      "model_module": "@jupyter-widgets/controls",
      "model_module_version": "1.5.0",
      "model_name": "DescriptionStyleModel",
      "state": {
       "description_width": ""
      }
     },
     "b6dba842ee514ddbbd10b8e9af5daac8": {
      "model_module": "@jupyter-widgets/controls",
      "model_module_version": "1.5.0",
      "model_name": "VBoxModel",
      "state": {
       "children": [
        "IPY_MODEL_213b4823c8ce457e924f1bd6d0699486",
        "IPY_MODEL_29f6bce45da047979622a31e1d5b5afa"
       ],
       "layout": "IPY_MODEL_2378e312548e444eac35b2d43a38a775"
      }
     },
     "b7478d7ce9d84f2799f01d352298dda1": {
      "model_module": "@jupyter-widgets/controls",
      "model_module_version": "1.5.0",
      "model_name": "DescriptionStyleModel",
      "state": {
       "description_width": "initial"
      }
     },
     "b81fff971e23454684c15429fd46cac2": {
      "model_module": "@jupyter-widgets/controls",
      "model_module_version": "1.5.0",
      "model_name": "ButtonStyleModel",
      "state": {}
     },
     "b82ee2a5a5f64dd3bc44d0878bae32af": {
      "model_module": "@jupyter-widgets/controls",
      "model_module_version": "1.5.0",
      "model_name": "TextModel",
      "state": {
       "continuous_update": false,
       "description": "Projection:",
       "layout": "IPY_MODEL_6650d65e7c1f4af486385cba3a384224",
       "style": "IPY_MODEL_e982a07a4ada41468832aaeacd36ec5e",
       "value": "EPSG:26914"
      }
     },
     "b8969e6b3e744c0999904ad07f23cb23": {
      "model_module": "@jupyter-widgets/controls",
      "model_module_version": "1.5.0",
      "model_name": "ButtonStyleModel",
      "state": {}
     },
     "b94dfbba54994f08a4d686efbbe2e09f": {
      "model_module": "@jupyter-widgets/base",
      "model_module_version": "1.2.0",
      "model_name": "LayoutModel",
      "state": {}
     },
     "b98c3930b1544bd296bb93a87358758b": {
      "model_module": "@jupyter-widgets/controls",
      "model_module_version": "1.5.0",
      "model_name": "SelectModel",
      "state": {
       "_options_labels": [
        "..",
        "Temp",
        "dask-worker-space",
        "Crossplot.html",
        "FlinFlon.geoh5",
        "FlinFlon_light.geoh5",
        "MtDore_TMI.geoh5"
       ],
       "index": 4,
       "layout": "IPY_MODEL_aee2b07cd4f949ef83448618c489b5e4",
       "rows": 8,
       "style": "IPY_MODEL_058d3d7cfd264b5caecdf33b38cd90bd"
      }
     },
     "b9d055d889f84ca6b9e8e944896711c7": {
      "model_module": "@jupyter-widgets/base",
      "model_module_version": "1.2.0",
      "model_name": "LayoutModel",
      "state": {}
     },
     "ba20231710fa406ea14c6007f6f578eb": {
      "model_module": "@jupyter-widgets/base",
      "model_module_version": "1.2.0",
      "model_name": "LayoutModel",
      "state": {
       "width": "auto"
      }
     },
     "ba2fe5c60f294d529697e17af7e6761e": {
      "model_module": "@jupyter-widgets/base",
      "model_module_version": "1.2.0",
      "model_name": "LayoutModel",
      "state": {
       "display": "none"
      }
     },
     "bad2b16252b047bea39b8782ba11e9fe": {
      "model_module": "@jupyter-widgets/controls",
      "model_module_version": "1.5.0",
      "model_name": "HTMLModel",
      "state": {
       "layout": "IPY_MODEL_3fe7114915e947108c060dea023d5805",
       "style": "IPY_MODEL_584fb4726d4a4277a2ea00035f27a13e"
      }
     },
     "baff8ad1142440e2839fa6a5f5edeb63": {
      "model_module": "@jupyter-widgets/controls",
      "model_module_version": "1.5.0",
      "model_name": "CheckboxModel",
      "state": {
       "description": "GA Pro - Live link",
       "disabled": false,
       "indent": false,
       "layout": "IPY_MODEL_1f2140c9e9734edba410d3af180161da",
       "style": "IPY_MODEL_930c4e256d894783806678906728e354",
       "value": false
      }
     },
     "bb02c3a0c68c455ab30a916eddc10ab8": {
      "model_module": "@jupyter-widgets/controls",
      "model_module_version": "1.5.0",
      "model_name": "DescriptionStyleModel",
      "state": {
       "description_width": "initial"
      }
     },
     "bb878ce1ba744d36aa72ec661c8e81e4": {
      "model_module": "@jupyter-widgets/controls",
      "model_module_version": "1.5.0",
      "model_name": "DescriptionStyleModel",
      "state": {
       "description_width": "initial"
      }
     },
     "bba976f360bf4e0c8a7d8c5f83506d3c": {
      "model_module": "@jupyter-widgets/controls",
      "model_module_version": "1.5.0",
      "model_name": "ButtonModel",
      "state": {
       "description": "Create copy:",
       "layout": "IPY_MODEL_29524521a8374d5fb3593af45e359b48",
       "style": "IPY_MODEL_2e453760c16f489c9a1ef69e7c17a8c3"
      }
     },
     "bbfd7c6350eb4ca9bc2cf7055e29a249": {
      "model_module": "@jupyter-widgets/base",
      "model_module_version": "1.2.0",
      "model_name": "LayoutModel",
      "state": {}
     },
     "bc03b859693c44108e4eee99054dc789": {
      "model_module": "@jupyter-widgets/controls",
      "model_module_version": "1.5.0",
      "model_name": "ButtonStyleModel",
      "state": {}
     },
     "bc347edaf563440ba385f9612a57f170": {
      "model_module": "@jupyter-widgets/controls",
      "model_module_version": "1.5.0",
      "model_name": "DescriptionStyleModel",
      "state": {
       "description_width": "initial"
      }
     },
     "bc3833c256d44cb990499cc78f5c0f82": {
      "model_module": "@jupyter-widgets/controls",
      "model_module_version": "1.5.0",
      "model_name": "DescriptionStyleModel",
      "state": {
       "description_width": "initial"
      }
     },
     "bcabcc0d3b6a4a3ebdd6077138266f59": {
      "model_module": "@jupyter-widgets/controls",
      "model_module_version": "1.5.0",
      "model_name": "VBoxModel",
      "state": {
       "children": [
        "IPY_MODEL_7036da8821c3479fb7c56a39f03320b4",
        "IPY_MODEL_ac841a8857514d71963fb753ca70127c"
       ],
       "layout": "IPY_MODEL_02f61e5922ea4632bd7bfecf13418697"
      }
     },
     "bcb0e01e9c2c48ff9c0dd39b3161d426": {
      "model_module": "@jupyter-widgets/base",
      "model_module_version": "1.2.0",
      "model_name": "LayoutModel",
      "state": {
       "width": "75%"
      }
     },
     "bdb1194248074f9bab1420676e042a34": {
      "model_module": "@jupyter-widgets/base",
      "model_module_version": "1.2.0",
      "model_name": "LayoutModel",
      "state": {
       "grid_area": "pathlist",
       "width": "auto"
      }
     },
     "bed76d5374b34aae8a0c1ef9295125e9": {
      "model_module": "@jupyter-widgets/controls",
      "model_module_version": "1.5.0",
      "model_name": "DescriptionStyleModel",
      "state": {
       "description_width": "initial"
      }
     },
     "bef55d2db8d44074ad7821f36e3b6e02": {
      "model_module": "@jupyter-widgets/base",
      "model_module_version": "1.2.0",
      "model_name": "LayoutModel",
      "state": {}
     },
     "c01fa43a45384f269195a4ab0aaa22d1": {
      "model_module": "@jupyter-widgets/controls",
      "model_module_version": "1.5.0",
      "model_name": "DescriptionStyleModel",
      "state": {
       "description_width": ""
      }
     },
     "c0647d614e3641b3884bf2d6f377a8f1": {
      "model_module": "@jupyter-widgets/base",
      "model_module_version": "1.2.0",
      "model_name": "LayoutModel",
      "state": {}
     },
     "c068bc53cd5a42319bd955cc34cb1449": {
      "model_module": "@jupyter-widgets/base",
      "model_module_version": "1.2.0",
      "model_name": "LayoutModel",
      "state": {
       "display": "none"
      }
     },
     "c070607f26664947900ca0d3ea8ca60d": {
      "model_module": "@jupyter-widgets/base",
      "model_module_version": "1.2.0",
      "model_name": "LayoutModel",
      "state": {
       "width": "auto"
      }
     },
     "c0afc633e5ed41b6aa5feddd3a2069a1": {
      "model_module": "@jupyter-widgets/base",
      "model_module_version": "1.2.0",
      "model_name": "LayoutModel",
      "state": {}
     },
     "c2219084df3348e69a631fec917298ea": {
      "model_module": "@jupyter-widgets/controls",
      "model_module_version": "1.5.0",
      "model_name": "VBoxModel",
      "state": {
       "children": [
        "IPY_MODEL_7823b00eda964e93acc06538fdc009ff",
        "IPY_MODEL_fae7a755cbda4de38c7d14bbcc6caab8"
       ],
       "layout": "IPY_MODEL_468f79c0409042a0abb65331bc55aeb2"
      }
     },
     "c2ac749efcd44805a6ea1fe46ab19355": {
      "model_module": "@jupyter-widgets/controls",
      "model_module_version": "1.5.0",
      "model_name": "DescriptionStyleModel",
      "state": {
       "description_width": ""
      }
     },
     "c34017481b0241b3801cdc5aafa5edc2": {
      "model_module": "@jupyter-widgets/base",
      "model_module_version": "1.2.0",
      "model_name": "LayoutModel",
      "state": {}
     },
     "c3b35d5decd746b0982f1877e55338d9": {
      "model_module": "@jupyter-widgets/base",
      "model_module_version": "1.2.0",
      "model_name": "LayoutModel",
      "state": {
       "grid_area": "pathlist",
       "width": "auto"
      }
     },
     "c4d99532d3b24c7b85208cb1b8dd2c60": {
      "model_module": "@jupyter-widgets/controls",
      "model_module_version": "1.5.0",
      "model_name": "DescriptionStyleModel",
      "state": {
       "description_width": "initial"
      }
     },
     "c551ce3f6f1046f2851394aa31529ea2": {
      "model_module": "@jupyter-widgets/controls",
      "model_module_version": "1.5.0",
      "model_name": "VBoxModel",
      "state": {
       "children": [
        "IPY_MODEL_830f6b44c785447f882f9fc77c6e999f",
        "IPY_MODEL_7364f83ff3064dcc85d111aa6344a093",
        "IPY_MODEL_28f9d7705647429ab4c01f209999daa9"
       ],
       "layout": "IPY_MODEL_26d0ed19376441ffb967b5f91b07a13e"
      }
     },
     "c75020ae3f2b49ba8b6c0e99a5332097": {
      "model_module": "@jupyter-widgets/controls",
      "model_module_version": "1.5.0",
      "model_name": "DescriptionStyleModel",
      "state": {
       "description_width": ""
      }
     },
     "c75742b37bae4c15bac7cba067b8f814": {
      "model_module": "@jupyter-widgets/controls",
      "model_module_version": "1.5.0",
      "model_name": "SelectModel",
      "state": {
       "_options_labels": [
        "..",
        "Temp",
        "dask-worker-space"
       ],
       "index": null,
       "layout": "IPY_MODEL_48a32ebe5b1043e18068b79de18c7e8c",
       "rows": 8,
       "style": "IPY_MODEL_7ba3c944c1b04a4c9083c3b7cb7ba39c"
      }
     },
     "c8d6bd858ed64ee2b25b12e413fb04b5": {
      "model_module": "@jupyter-widgets/base",
      "model_module_version": "1.2.0",
      "model_name": "LayoutModel",
      "state": {}
     },
     "c92bf9013b4c4a849a2e725c1cbba2bb": {
      "model_module": "@jupyter-widgets/base",
      "model_module_version": "1.2.0",
      "model_name": "LayoutModel",
      "state": {
       "width": "auto"
      }
     },
     "c9bdb13175b44a28935e957f849bd8f9": {
      "model_module": "@jupyter-widgets/controls",
      "model_module_version": "1.5.0",
      "model_name": "DropdownModel",
      "state": {
       "_options_labels": [
        "ESRI shapefile",
        "csv",
        "geotiff",
        "UBC format"
       ],
       "description": "Export type",
       "index": 2,
       "layout": "IPY_MODEL_2da7c8f5a3c8443baba0ea103451662d",
       "style": "IPY_MODEL_2bc63f4bd53f445fa172f172e56fc8c2"
      }
     },
     "ca3c4f5a6f3b4c9e8b48ed582cd5742e": {
      "model_module": "@jupyter-widgets/base",
      "model_module_version": "1.2.0",
      "model_name": "LayoutModel",
      "state": {}
     },
     "cab8f35b55034c75b054119480f73346": {
      "model_module": "@jupyter-widgets/controls",
      "model_module_version": "1.5.0",
      "model_name": "DescriptionStyleModel",
      "state": {
       "description_width": ""
      }
     },
     "cada3a1104224bdb801adede6b7edf6b": {
      "model_module": "@jupyter-widgets/controls",
      "model_module_version": "1.5.0",
      "model_name": "ButtonModel",
      "state": {
       "description": "Change",
       "layout": "IPY_MODEL_4e5211dfe4c74e02afd76786957da0a7",
       "style": "IPY_MODEL_367267ba7e054fefb504b7bd3842fa36"
      }
     },
     "cb1d86979e924a3daa2e2e68564a6522": {
      "model_module": "@jupyter-widgets/controls",
      "model_module_version": "1.5.0",
      "model_name": "ButtonStyleModel",
      "state": {}
     },
     "cc78731c05ec480495384433918279c6": {
      "model_module": "@jupyter-widgets/controls",
      "model_module_version": "1.5.0",
      "model_name": "CheckboxModel",
      "state": {
       "description": "GA Pro - Live link",
       "disabled": false,
       "indent": false,
       "layout": "IPY_MODEL_07af25ecfcdf459b9f6b1790aea1af42",
       "style": "IPY_MODEL_cd3fbfc7b9044b23931262719d15a43f",
       "value": false
      }
     },
     "cc884712e16b4fd7b780fc16eb5b12f7": {
      "model_module": "@jupyter-widgets/controls",
      "model_module_version": "1.5.0",
      "model_name": "HTMLModel",
      "state": {
       "layout": "IPY_MODEL_ad7d3f7dcafe4e5db1789507f7c37144",
       "placeholder": "",
       "style": "IPY_MODEL_07c1c13012304db1b18bc4c7b3d6f27c",
       "value": "<span style=\"margin-left:10px; color:orange;\">C:\\Users\\dominiquef\\Documents\\GIT\\mira\\mirageoscience-apps\\assets\\FlinFlon.geoh5</span>"
      }
     },
     "ccc6320955fd4aab94a8b7c3e609b9fc": {
      "model_module": "@jupyter-widgets/controls",
      "model_module_version": "1.5.0",
      "model_name": "ButtonStyleModel",
      "state": {}
     },
     "ccdb96a45c214072ac54908f7e412ad7": {
      "model_module": "@jupyter-widgets/base",
      "model_module_version": "1.2.0",
      "model_name": "LayoutModel",
      "state": {}
     },
     "cd3fbfc7b9044b23931262719d15a43f": {
      "model_module": "@jupyter-widgets/controls",
      "model_module_version": "1.5.0",
      "model_name": "DescriptionStyleModel",
      "state": {
       "description_width": "initial"
      }
     },
     "cd52ca6b55f04993b1c1c4bbbaf1f26e": {
      "model_module": "@jupyter-widgets/controls",
      "model_module_version": "1.5.0",
      "model_name": "HBoxModel",
      "state": {
       "children": [
        "IPY_MODEL_de28745d9a2845f1a71ea98d941f56a7",
        "IPY_MODEL_19c89cb00860475f839d8b1cd3024c18"
       ],
       "layout": "IPY_MODEL_0260b4608fa94be0a29d31327298f7a8"
      }
     },
     "cd94e431b0404e27bf6ef6adc3826e5b": {
      "model_module": "@jupyter-widgets/controls",
      "model_module_version": "1.5.0",
      "model_name": "VBoxModel",
      "state": {
       "children": [
        "IPY_MODEL_b24d12e82f224bc2b37b116bcfe95436",
        "IPY_MODEL_f004abb03c4f4fd79fa66c85e7eddb06",
        "IPY_MODEL_8fa5707942bd4943ba6203808a8b578a"
       ],
       "layout": "IPY_MODEL_a31316dd29944168af2e973f1d76cbb7"
      }
     },
     "cdd89ea6b5de4bc890c8b217bcce094f": {
      "model_module": "@jupyter-widgets/controls",
      "model_module_version": "1.5.0",
      "model_name": "VBoxModel",
      "state": {
       "children": [
        "IPY_MODEL_2181d1bc88ae45809d86dda9dd5e70da"
       ],
       "layout": "IPY_MODEL_c0647d614e3641b3884bf2d6f377a8f1"
      }
     },
     "ce4f99648e014cba86d14a210ecd2951": {
      "model_module": "@jupyter-widgets/base",
      "model_module_version": "1.2.0",
      "model_name": "LayoutModel",
      "state": {
       "width": "auto"
      }
     },
     "ceebecdcad1c431da0c878af21fb2f61": {
      "model_module": "@jupyter-widgets/base",
      "model_module_version": "1.2.0",
      "model_name": "LayoutModel",
      "state": {}
     },
     "d06121089b42493f88a2ffc6dc55c709": {
      "model_module": "@jupyter-widgets/base",
      "model_module_version": "1.2.0",
      "model_name": "LayoutModel",
      "state": {}
     },
     "d12e882e67834d2cbb62a9d5903c785e": {
      "model_module": "@jupyter-widgets/controls",
      "model_module_version": "1.5.0",
      "model_name": "VBoxModel",
      "state": {
       "children": [
        "IPY_MODEL_7036da8821c3479fb7c56a39f03320b4",
        "IPY_MODEL_ac841a8857514d71963fb753ca70127c"
       ],
       "layout": "IPY_MODEL_ff48be4080fa43e7a7aa5c4eeca8c58a"
      }
     },
     "d15a1dd8e4f44ba79eb02639dd1c8df0": {
      "model_module": "@jupyter-widgets/base",
      "model_module_version": "1.2.0",
      "model_name": "LayoutModel",
      "state": {
       "display": "none",
       "grid_area": "filename",
       "width": "auto"
      }
     },
     "d251c316e1754b9685a7f1294307e3f5": {
      "model_module": "@jupyter-widgets/controls",
      "model_module_version": "1.5.0",
      "model_name": "ButtonModel",
      "state": {
       "description": "Change",
       "layout": "IPY_MODEL_1991cce9a82a45d69bbe78a21a86d746",
       "style": "IPY_MODEL_b8969e6b3e744c0999904ad07f23cb23"
      }
     },
     "d2b34b6cc0094f28b3b6be94847d4c5a": {
      "model_module": "@jupyter-widgets/controls",
      "model_module_version": "1.5.0",
      "model_name": "DescriptionStyleModel",
      "state": {
       "description_width": ""
      }
     },
     "d48d7c503b02407b8d99d67f72e306db": {
      "model_module": "@jupyter-widgets/controls",
      "model_module_version": "1.5.0",
      "model_name": "HTMLModel",
      "state": {
       "layout": "IPY_MODEL_b6035015ffdb4c9f94a6100974ced55e",
       "placeholder": "",
       "style": "IPY_MODEL_f8c763b875f64a2eaae9dda8dc2d2909",
       "value": "<span style=\"margin-left:10px; color:green;\">C:\\Users\\dominiquef\\Documents\\GIT\\mira\\mirageoscience-apps\\assets\\</span>"
      }
     },
     "d4a06bd07be64a3ab7e736815751f7ce": {
      "model_module": "@jupyter-widgets/controls",
      "model_module_version": "1.5.0",
      "model_name": "DescriptionStyleModel",
      "state": {
       "description_width": "initial"
      }
     },
     "d52ff02b0a5946bfa7c8f6f2bc72823e": {
      "model_module": "@jupyter-widgets/base",
      "model_module_version": "1.2.0",
      "model_name": "LayoutModel",
      "state": {}
     },
     "d63eb458b3954a6db08c7ce0e059c7e9": {
      "model_module": "@jupyter-widgets/controls",
      "model_module_version": "1.5.0",
      "model_name": "ButtonStyleModel",
      "state": {}
     },
     "d752287751cc42128ca03b5ff5a18a9f": {
      "model_module": "@jupyter-widgets/base",
      "model_module_version": "1.2.0",
      "model_name": "LayoutModel",
      "state": {}
     },
     "d75b96333dc64c69b81472a791299290": {
      "model_module": "@jupyter-widgets/controls",
      "model_module_version": "1.5.0",
      "model_name": "VBoxModel",
      "state": {
       "children": [
        "IPY_MODEL_9e4a8d174a5e4d4f932d8aa4b8804cd9"
       ],
       "layout": "IPY_MODEL_2fa9ab8cb42a41daa39dac82a186ec54"
      }
     },
     "d7756c98a2044f93a46ac859bba33a45": {
      "model_module": "@jupyter-widgets/controls",
      "model_module_version": "1.5.0",
      "model_name": "ToggleButtonModel",
      "state": {
       "layout": "IPY_MODEL_22f195dea68e4a469564652f8cdbff62",
       "style": "IPY_MODEL_61455bdfd64f4bb1b797ed5417b58788",
       "value": true
      }
     },
     "d877dc67758d4df59072df4edb3a7f80": {
      "model_module": "@jupyter-widgets/base",
      "model_module_version": "1.2.0",
      "model_name": "LayoutModel",
      "state": {}
     },
     "d90565d1d83a4625b2bab3f8be6613dc": {
      "model_module": "@jupyter-widgets/base",
      "model_module_version": "1.2.0",
      "model_name": "LayoutModel",
      "state": {}
     },
     "d9c048f3f0574f75b5c6935f83c2e339": {
      "model_module": "@jupyter-widgets/controls",
      "model_module_version": "1.5.0",
      "model_name": "SelectModel",
      "state": {
       "_options_labels": [
        "..",
        "Temp",
        "dask-worker-space"
       ],
       "index": null,
       "layout": "IPY_MODEL_e3e0ad9950ec4de5a1445c392e5f7443",
       "rows": 8,
       "style": "IPY_MODEL_1fa77261288d4de692ad2a12192dffa5"
      }
     },
     "db014225dd384931b93d828a92505967": {
      "model_module": "@jupyter-widgets/controls",
      "model_module_version": "1.5.0",
      "model_name": "HTMLModel",
      "state": {
       "layout": "IPY_MODEL_5dcb544fddea45fba11963c9c6d893fe",
       "style": "IPY_MODEL_6ad3f57175464e69a97ac8e293bbc0c6"
      }
     },
     "db6e7c1eeb4e4762a2282f27a9714095": {
      "model_module": "@jupyter-widgets/base",
      "model_module_version": "1.2.0",
      "model_name": "LayoutModel",
      "state": {
       "display": "none"
      }
     },
     "dbe37ebfb0034b14b77a4f070d02f01c": {
      "model_module": "@jupyter-widgets/controls",
      "model_module_version": "1.5.0",
      "model_name": "DescriptionStyleModel",
      "state": {
       "description_width": ""
      }
     },
     "dbf77de990d0434bb0a399a48202964c": {
      "model_module": "@jupyter-widgets/base",
      "model_module_version": "1.2.0",
      "model_name": "LayoutModel",
      "state": {}
     },
     "dc37927cc17444dc91c7a9e8e4c4811e": {
      "model_module": "@jupyter-widgets/controls",
      "model_module_version": "1.5.0",
      "model_name": "VBoxModel",
      "state": {
       "children": [
        "IPY_MODEL_58c610253c8949edbe9f1a4194675693"
       ],
       "layout": "IPY_MODEL_2651a82239ef45a082de6665e3360f4c"
      }
     },
     "dc808b004a9743d78738428291e4f8bb": {
      "model_module": "@jupyter-widgets/controls",
      "model_module_version": "1.5.0",
      "model_name": "ButtonStyleModel",
      "state": {}
     },
     "ddccf2cef8874772968c481f3a8a9e16": {
      "model_module": "@jupyter-widgets/base",
      "model_module_version": "1.2.0",
      "model_name": "LayoutModel",
      "state": {
       "display": "none",
       "grid_gap": "0px 0px",
       "grid_template_areas": "\n                    'pathlist filename'\n                    'dircontent dircontent'\n                    ",
       "grid_template_columns": "60% 40%",
       "grid_template_rows": "auto auto",
       "width": "500px"
      }
     },
     "de28745d9a2845f1a71ea98d941f56a7": {
      "model_module": "@jupyter-widgets/controls",
      "model_module_version": "1.5.0",
      "model_name": "VBoxModel",
      "state": {
       "children": [
        "IPY_MODEL_a4276261f5ee40fbb222a1e8cf6a69c0",
        "IPY_MODEL_434178472d7446b8bb2a1804cef2d9a0"
       ],
       "layout": "IPY_MODEL_92ffdbb1afe74576970842a88243b9a7"
      }
     },
     "de75a7523bc64d438955d9d7b78688bb": {
      "model_module": "@jupyter-widgets/controls",
      "model_module_version": "1.5.0",
      "model_name": "DropdownModel",
      "state": {
       "_options_labels": [
        "",
        "fault_splay1",
        "fault_Cliff_Lake",
        "fault_Other_FlinFlon",
        "fault_Club_Lake_splay",
        "fault_Catherine_splay2",
        "fault_Birch_View",
        "fault_Dion_Lake",
        "fault_FlinFlon_splay",
        "fault_West_Mandy_Road",
        "fault_Channing",
        "fault_Ross_Lake",
        "fault_Louis_Hidden",
        "fault_Lake_View_thrust",
        "contact_Schist_Lake",
        "fault_Burley_Lake",
        "fault_Dion_Lake_splay",
        "fault_Green_Lake",
        "fault_FlinFlon",
        "fault_Catherine_splay1",
        "fault_East_Mandy_Road",
        "fault_Other_FlinFlon_South",
        "fault_Catherine_splay4",
        "contact_Stitt_Island",
        "fault_Club_Lake",
        "fault_Tailing_Pond",
        "35_Hidden_Reservoir_Hr5",
        "29_Hidden_Reservoir_Hr1a",
        "60_BlueLagoon_Fb2",
        "20_FlinFlon_Undivided_Int_Dykes_D2f",
        "04_Boundary_Intrusive_S4h",
        "53_Millrock_Rhyolite_Fm4b",
        "19_FlinFlon_Undivided_Int_Dykes_D2b",
        "18_FlinFlon_Undivided_Int_Dykes_777_D2b",
        "06_Phantom_Lake_Intrusive_S3a",
        "21_FlinFlon_Undivided_Int_Dykes_D3a",
        "43_Millrock_CHLSH_South",
        "56_Millrock_Basalt_Fm1ba",
        "17_FlinFlon_Undivided_Int_Dykes_D2",
        "32_Hidden_Reservoir_Hr1b_SW",
        "11_Missi_M3_NE",
        "13_Missi_M1",
        "07_Annabel_Granitoid_S1",
        "45_Millrock_Gabbro_South",
        "01_Late_Intrusive_S5b",
        "31_Hidden_Reservoir_Hr1c_SW",
        "52_Millrock_Rhyolite_Fm4_West_check",
        "55_Millrock_Basalt_Fm1bf",
        "34_Hidden_Reservoir_Hr2b",
        "03_Boundary_Intrusive_S4b",
        "42_Millrock_CHLSH_North",
        "26_Louis_L3",
        "23_FlinFlon_Undivided_Int_Felsic_D4g",
        "30_Hidden_Reservoir_Hr1b",
        "59_BlueLagoon_Fb3",
        "49_Millrock_MVR_Fm5d",
        "44_Millrock_Gabbro_North",
        "27_Hidden_Carlisle_Hc4",
        "22_FlinFlon_Undivided_Int_Felsic_D4e",
        "02_Boundary_Intrusive_S4a",
        "61_BlueLagoon_Fb1_NW",
        "05_Boundary_Intrusive_S4g",
        "39_Ore_Callinan",
        "38_Ore_Dan_Owens",
        "40_Ore_FlinFlon",
        "Inversion_VTEM_Model",
        "Gravity_Magnetics_drape60m",
        "CDI_VTEM_model",
        "Data_FEM_pseudo3D",
        "O2O_Interp_25m",
        "geochem",
        "Inversion_DIGHEM_Model",
        "Topography",
        "Data_TEM_pseudo3D"
       ],
       "description": "Object:",
       "index": 66,
       "layout": "IPY_MODEL_43e00c7580f34c06bf98202f9be79075",
       "style": "IPY_MODEL_ee77e9cce7994c74bd05cf8c0a912885"
      }
     },
     "df0dfdee57e449f3bccddf7bae203705": {
      "model_module": "@jupyter-widgets/controls",
      "model_module_version": "1.5.0",
      "model_name": "VBoxModel",
      "state": {
       "children": [
        "IPY_MODEL_7036da8821c3479fb7c56a39f03320b4",
        "IPY_MODEL_ac841a8857514d71963fb753ca70127c"
       ],
       "layout": "IPY_MODEL_010895ab44a14b588300bf6c5df7d86a"
      }
     },
     "df9377fae02445a8bf39a40798bfaa0d": {
      "model_module": "@jupyter-widgets/controls",
      "model_module_version": "1.5.0",
      "model_name": "VBoxModel",
      "state": {
       "children": [
        "IPY_MODEL_db014225dd384931b93d828a92505967",
        "IPY_MODEL_4efd9a8a930e47769bf37470ddea2af6",
        "IPY_MODEL_789d2955f8834c5198cad846738e83fb"
       ],
       "layout": "IPY_MODEL_07e6128a0c35450ea8cbcfef96775d3e"
      }
     },
     "dfca2c0e130f43d498ca68832a81779e": {
      "model_module": "@jupyter-widgets/controls",
      "model_module_version": "1.5.0",
      "model_name": "VBoxModel",
      "state": {
       "children": [
        "IPY_MODEL_6971d18c22bf4f5ca153c3deb4d74776",
        "IPY_MODEL_cd52ca6b55f04993b1c1c4bbbaf1f26e",
        "IPY_MODEL_c551ce3f6f1046f2851394aa31529ea2",
        "IPY_MODEL_19c89cb00860475f839d8b1cd3024c18",
        "IPY_MODEL_1d2ebec5aa944aa389f1715bc1110197",
        "IPY_MODEL_216ce6435a4345edb393b7cb4bb7ffa4",
        "IPY_MODEL_066cd9bdb7e24ebba0590cda1f99a842"
       ],
       "layout": "IPY_MODEL_349c37ad0ba74559b320b7e637f122b7"
      }
     },
     "dfdba66715f44cedbccd01be36cf69c8": {
      "model_module": "@jupyter-widgets/controls",
      "model_module_version": "1.5.0",
      "model_name": "VBoxModel",
      "state": {
       "children": [
        "IPY_MODEL_6d5113f9c03042c5b93d1be90d998ce1",
        "IPY_MODEL_84ad3b9c1de94abe8ef4aa2718e926a1"
       ],
       "layout": "IPY_MODEL_d90565d1d83a4625b2bab3f8be6613dc"
      }
     },
     "e07c10e4d51b4d57ba1447468395df91": {
      "model_module": "@jupyter-widgets/base",
      "model_module_version": "1.2.0",
      "model_name": "LayoutModel",
      "state": {}
     },
     "e0995a93f65b41fba37114c9267befb0": {
      "model_module": "@jupyter-widgets/controls",
      "model_module_version": "1.5.0",
      "model_name": "VBoxModel",
      "state": {
       "children": [
        "IPY_MODEL_4a25e4a64db4413b87ff79e765cc1d1a",
        "IPY_MODEL_9c605fcc42804792a18e86b5de76bfa2"
       ],
       "layout": "IPY_MODEL_ea8fefbdec394f22b38dd868fd46082f"
      }
     },
     "e0a9e2b0593e449095ebce009456c607": {
      "model_module": "@jupyter-widgets/base",
      "model_module_version": "1.2.0",
      "model_name": "LayoutModel",
      "state": {
       "display": "none",
       "grid_gap": "0px 0px",
       "grid_template_areas": "\n                    'pathlist pathlist'\n                    'dircontent dircontent'\n                    ",
       "grid_template_columns": "60% 40%",
       "grid_template_rows": "auto auto",
       "width": "500px"
      }
     },
     "e126379827f34217ac0a85cc91d0171f": {
      "model_module": "@jupyter-widgets/base",
      "model_module_version": "1.2.0",
      "model_name": "LayoutModel",
      "state": {}
     },
     "e203d6859bbe46f6b7db6b7e4ef06cc9": {
      "model_module": "@jupyter-widgets/controls",
      "model_module_version": "1.5.0",
      "model_name": "HTMLModel",
      "state": {
       "layout": "IPY_MODEL_ba2fe5c60f294d529697e17af7e6761e",
       "style": "IPY_MODEL_4d17dbc7eff441fdb53b2d37107bf16f"
      }
     },
     "e24d28e7a1134f368caf2c000db74ef5": {
      "model_module": "@jupyter-widgets/base",
      "model_module_version": "1.2.0",
      "model_name": "LayoutModel",
      "state": {
       "grid_area": "filename",
       "width": "auto"
      }
     },
     "e253f29dbfe94e359686abef96ee9115": {
      "model_module": "@jupyter-widgets/controls",
      "model_module_version": "1.5.0",
      "model_name": "VBoxModel",
      "state": {
       "children": [
        "IPY_MODEL_b82ee2a5a5f64dd3bc44d0878bae32af",
        "IPY_MODEL_1b751c780b7c4e308d3e800b7bf0ad6b"
       ],
       "layout": "IPY_MODEL_e85cc5f66e754310ba1824085462e4c8"
      }
     },
     "e291b851eb5949dda3f620f9a31d05ce": {
      "model_module": "@jupyter-widgets/base",
      "model_module_version": "1.2.0",
      "model_name": "LayoutModel",
      "state": {
       "display": "none",
       "grid_gap": "0px 0px",
       "grid_template_areas": "\n                    'pathlist pathlist'\n                    'dircontent dircontent'\n                    ",
       "grid_template_columns": "60% 40%",
       "grid_template_rows": "auto auto",
       "width": "500px"
      }
     },
     "e2bfe585ba494cfbbdfd7df0e71ed419": {
      "model_module": "@jupyter-widgets/controls",
      "model_module_version": "1.5.0",
      "model_name": "TextModel",
      "state": {
       "continuous_update": false,
       "description": "Save as:",
       "layout": "IPY_MODEL_fb92b09132eb4db88d8af09187cc69f2",
       "style": "IPY_MODEL_8f36ae85560c4f5fbeb0984cab451939",
       "value": "Gravity_Magnetics_drape60m"
      }
     },
     "e3135c7cfa22437aa04c015f08669f49": {
      "model_module": "@jupyter-widgets/controls",
      "model_module_version": "1.5.0",
      "model_name": "HTMLModel",
      "state": {
       "layout": "IPY_MODEL_d52ff02b0a5946bfa7c8f6f2bc72823e",
       "placeholder": "",
       "style": "IPY_MODEL_dbe37ebfb0034b14b77a4f070d02f01c",
       "value": "<span style=\"margin-left:10px; color:green;\">C:\\Users\\dominiquef\\Documents\\GIT\\mira\\mirageoscience-apps\\assets\\</span>"
      }
     },
     "e349ebd4b213474ca28f230cd9aa3099": {
      "model_module": "@jupyter-widgets/base",
      "model_module_version": "1.2.0",
      "model_name": "LayoutModel",
      "state": {}
     },
     "e355582aac374f94be5471ba3d8bf09a": {
      "model_module": "@jupyter-widgets/base",
      "model_module_version": "1.2.0",
      "model_name": "LayoutModel",
      "state": {
       "width": "auto"
      }
     },
     "e3e0ad9950ec4de5a1445c392e5f7443": {
      "model_module": "@jupyter-widgets/base",
      "model_module_version": "1.2.0",
      "model_name": "LayoutModel",
      "state": {
       "grid_area": "dircontent",
       "width": "auto"
      }
     },
     "e4483d0806e84562aa41670eb436cf15": {
      "model_module": "@jupyter-widgets/controls",
      "model_module_version": "1.5.0",
      "model_name": "TextModel",
      "state": {
       "disabled": true,
       "layout": "IPY_MODEL_4ef6897b6c9442b1ba06934b2b7d81d9",
       "placeholder": "output filename",
       "style": "IPY_MODEL_c75020ae3f2b49ba8b6c0e99a5332097"
      }
     },
     "e4725878b1ed41feb89951f59f9e468e": {
      "model_module": "@jupyter-widgets/controls",
      "model_module_version": "1.5.0",
      "model_name": "ButtonModel",
      "state": {
       "description": "Cancel",
       "layout": "IPY_MODEL_ebdd0b000ba545d2b07dcb1a8d6ad81b",
       "style": "IPY_MODEL_d63eb458b3954a6db08c7ce0e059c7e9"
      }
     },
     "e475f380214e49e3807c26ea4a7f55d5": {
      "model_module": "@jupyter-widgets/base",
      "model_module_version": "1.2.0",
      "model_name": "LayoutModel",
      "state": {}
     },
     "e4d9caf0a1f94f7ab2b48208e0e50624": {
      "model_module": "@jupyter-widgets/base",
      "model_module_version": "1.2.0",
      "model_name": "LayoutModel",
      "state": {}
     },
     "e52549db5af747568a0bd1fb99e3aff6": {
      "model_module": "@jupyter-widgets/controls",
      "model_module_version": "1.5.0",
      "model_name": "ButtonStyleModel",
      "state": {}
     },
     "e5cb8eada89e4ad39d025d8ce5f47908": {
      "model_module": "@jupyter-widgets/controls",
      "model_module_version": "1.5.0",
      "model_name": "ButtonStyleModel",
      "state": {}
     },
     "e621980c9e564dc98fe48d0fb2fba1f6": {
      "model_module": "@jupyter-widgets/controls",
      "model_module_version": "1.5.0",
      "model_name": "DescriptionStyleModel",
      "state": {
       "description_width": ""
      }
     },
     "e65b12832f734ac58a1c641ac95e3a0b": {
      "model_module": "@jupyter-widgets/base",
      "model_module_version": "1.2.0",
      "model_name": "LayoutModel",
      "state": {}
     },
     "e722d7d3264b4403af7a13623bd1f904": {
      "model_module": "@jupyter-widgets/base",
      "model_module_version": "1.2.0",
      "model_name": "LayoutModel",
      "state": {}
     },
     "e7d4b2c847334399b07e3c7cedd745cd": {
      "model_module": "@jupyter-widgets/controls",
      "model_module_version": "1.5.0",
      "model_name": "VBoxModel",
      "state": {
       "children": [
        "IPY_MODEL_7036da8821c3479fb7c56a39f03320b4",
        "IPY_MODEL_ac841a8857514d71963fb753ca70127c"
       ],
       "layout": "IPY_MODEL_6be3e2ffffa9469da46df585286a80e4"
      }
     },
     "e85cc5f66e754310ba1824085462e4c8": {
      "model_module": "@jupyter-widgets/base",
      "model_module_version": "1.2.0",
      "model_name": "LayoutModel",
      "state": {}
     },
     "e89cd012c8e648cc85b0b9832e4a6fe6": {
      "model_module": "@jupyter-widgets/base",
      "model_module_version": "1.2.0",
      "model_name": "LayoutModel",
      "state": {}
     },
     "e93201a7287c477bbe9aa46a794f1d89": {
      "model_module": "@jupyter-widgets/base",
      "model_module_version": "1.2.0",
      "model_name": "LayoutModel",
      "state": {}
     },
     "e9509edd5db743759fe544ee79ff7d6e": {
      "model_module": "@jupyter-widgets/base",
      "model_module_version": "1.2.0",
      "model_name": "LayoutModel",
      "state": {}
     },
     "e982a07a4ada41468832aaeacd36ec5e": {
      "model_module": "@jupyter-widgets/controls",
      "model_module_version": "1.5.0",
      "model_name": "DescriptionStyleModel",
      "state": {
       "description_width": "initial"
      }
     },
     "ea8fefbdec394f22b38dd868fd46082f": {
      "model_module": "@jupyter-widgets/base",
      "model_module_version": "1.2.0",
      "model_name": "LayoutModel",
      "state": {}
     },
     "ea972ec59e9646d5ab001ac5fea3e1d4": {
      "model_module": "@jupyter-widgets/controls",
      "model_module_version": "1.5.0",
      "model_name": "ButtonModel",
      "state": {
       "description": "Cancel",
       "layout": "IPY_MODEL_6d2fedecb24b4c82971cfdb97e6bef67",
       "style": "IPY_MODEL_07d6c55b2f6444aa977c93d1804abc5b"
      }
     },
     "eb6a0b7ebf7d4c19acca9d188a3a1757": {
      "model_module": "@jupyter-widgets/controls",
      "model_module_version": "1.5.0",
      "model_name": "VBoxModel",
      "state": {
       "children": [
        "IPY_MODEL_79e43942b53d4bfe8375d0ee58c30053",
        "IPY_MODEL_5e7eba3959c44837a99c0f200786ab94"
       ],
       "layout": "IPY_MODEL_1adeb24feff84d7b86fdbbb6d7ca7a2f"
      }
     },
     "eb7b276b699b4e3c83526e2d58dc663c": {
      "model_module": "@jupyter-widgets/base",
      "model_module_version": "1.2.0",
      "model_name": "LayoutModel",
      "state": {}
     },
     "eb7dc3c2800346e5a5430831a9cfcdd0": {
      "model_module": "@jupyter-widgets/controls",
      "model_module_version": "1.5.0",
      "model_name": "VBoxModel",
      "state": {
       "children": [
        "IPY_MODEL_7bc2d17760fb4308a1551523bc89e046"
       ],
       "layout": "IPY_MODEL_0fd33894110e4bb8b45be1014dcec055"
      }
     },
     "ebdd0b000ba545d2b07dcb1a8d6ad81b": {
      "model_module": "@jupyter-widgets/base",
      "model_module_version": "1.2.0",
      "model_name": "LayoutModel",
      "state": {
       "display": "none",
       "width": "auto"
      }
     },
     "edbadf8464ae4aca99a6effca5a987f0": {
      "model_module": "@jupyter-widgets/controls",
      "model_module_version": "1.5.0",
      "model_name": "TextModel",
      "state": {
       "continuous_update": false,
       "description": "Group:",
       "layout": "IPY_MODEL_387eecbafe62450187c0e92e34b9f35f",
       "style": "IPY_MODEL_10bbe1c83ee24582a3360831330c818d"
      }
     },
     "ede0e25e748f4a999baeb5167bde2a35": {
      "model_module": "@jupyter-widgets/controls",
      "model_module_version": "1.5.0",
      "model_name": "HBoxModel",
      "state": {
       "children": [
        "IPY_MODEL_0107e59d283a45ceb189838bb434f83a",
        "IPY_MODEL_e4725878b1ed41feb89951f59f9e468e",
        "IPY_MODEL_d48d7c503b02407b8d99d67f72e306db"
       ],
       "layout": "IPY_MODEL_00ecc71ba1f84e99a93be6ac602bf9f5"
      }
     },
     "ee77e9cce7994c74bd05cf8c0a912885": {
      "model_module": "@jupyter-widgets/controls",
      "model_module_version": "1.5.0",
      "model_name": "DescriptionStyleModel",
      "state": {
       "description_width": "initial"
      }
     },
     "eee448ca848640d8858f02842f19277e": {
      "model_module": "@jupyter-widgets/base",
      "model_module_version": "1.2.0",
      "model_name": "LayoutModel",
      "state": {}
     },
     "f004abb03c4f4fd79fa66c85e7eddb06": {
      "model_module": "@jupyter-widgets/controls",
      "model_module_version": "1.5.0",
      "model_name": "VBoxModel",
      "state": {
       "children": [
        "IPY_MODEL_177a2b2d74eb4a15b99e80c7a0bc1e15",
        "IPY_MODEL_4d2cec91f4b347099ba8248ea9c75f34"
       ],
       "layout": "IPY_MODEL_2561f3cea5384f80a7f9076a990658c0"
      }
     },
     "f0552db7045640f6921b0f4432b258ec": {
      "model_module": "@jupyter-widgets/base",
      "model_module_version": "1.2.0",
      "model_name": "LayoutModel",
      "state": {
       "display": "none",
       "width": "auto"
      }
     },
     "f0e4f1f54ab343038c9613889b8d8b34": {
      "model_module": "@jupyter-widgets/base",
      "model_module_version": "1.2.0",
      "model_name": "LayoutModel",
      "state": {}
     },
     "f13934ba77a84755b046efff1a7db92c": {
      "model_module": "@jupyter-widgets/base",
      "model_module_version": "1.2.0",
      "model_name": "LayoutModel",
      "state": {}
     },
     "f2d33ed651d44238bc29cc3594fff5a4": {
      "model_module": "@jupyter-widgets/controls",
      "model_module_version": "1.5.0",
      "model_name": "SelectModel",
      "state": {
       "_options_labels": [
        "..",
        "Temp",
        "dask-worker-space",
        "Crossplot.html",
        "FlinFlon.geoh5",
        "FlinFlon_light.geoh5",
        "MtDore_TMI.geoh5"
       ],
       "index": 4,
       "layout": "IPY_MODEL_320d2868761c4caa8febd4ef4c1f0ebf",
       "rows": 8,
       "style": "IPY_MODEL_487331e98e124cbfb2023a677890547b"
      }
     },
     "f4c455483a0a4f0fb33289fb893cbfc2": {
      "model_module": "@jupyter-widgets/base",
      "model_module_version": "1.2.0",
      "model_name": "LayoutModel",
      "state": {}
     },
     "f4e479edab1f4e5c94bcef89dbcac12c": {
      "model_module": "@jupyter-widgets/controls",
      "model_module_version": "1.5.0",
      "model_name": "DescriptionStyleModel",
      "state": {
       "description_width": ""
      }
     },
     "f5378984a24a4af78aeacb784de9ef73": {
      "model_module": "@jupyter-widgets/base",
      "model_module_version": "1.2.0",
      "model_name": "LayoutModel",
      "state": {
       "width": "75%"
      }
     },
     "f59ac92bfcfa439c8577193ac407e137": {
      "model_module": "@jupyter-widgets/controls",
      "model_module_version": "1.5.0",
      "model_name": "TextModel",
      "state": {
       "continuous_update": false,
       "description": "Group:",
       "layout": "IPY_MODEL_97d2b7214e8349e6841b6286552366e9",
       "style": "IPY_MODEL_bed76d5374b34aae8a0c1ef9295125e9"
      }
     },
     "f5c9c171169046478b571a1ad88f7bfd": {
      "model_module": "@jupyter-widgets/controls",
      "model_module_version": "1.5.0",
      "model_name": "DescriptionStyleModel",
      "state": {
       "description_width": "initial"
      }
     },
     "f83bd7dfbc9c45bca58870486c1133cb": {
      "model_module": "@jupyter-widgets/controls",
      "model_module_version": "1.5.0",
      "model_name": "VBoxModel",
      "state": {
       "children": [
        "IPY_MODEL_7036da8821c3479fb7c56a39f03320b4",
        "IPY_MODEL_ac841a8857514d71963fb753ca70127c"
       ],
       "layout": "IPY_MODEL_855c75fbcc174a1cb48f4cf0c51a0685"
      }
     },
     "f848c20c9b2a4672ade9858fa1f7a222": {
      "model_module": "@jupyter-widgets/base",
      "model_module_version": "1.2.0",
      "model_name": "LayoutModel",
      "state": {}
     },
     "f8c763b875f64a2eaae9dda8dc2d2909": {
      "model_module": "@jupyter-widgets/controls",
      "model_module_version": "1.5.0",
      "model_name": "DescriptionStyleModel",
      "state": {
       "description_width": ""
      }
     },
     "f917a5c1feef4fbd943dd574cb174824": {
      "model_module": "@jupyter-widgets/controls",
      "model_module_version": "1.5.0",
      "model_name": "RadioButtonsModel",
      "state": {
       "_options_labels": [
        "float",
        "RGB"
       ],
       "description": "Type:",
       "index": 1,
       "layout": "IPY_MODEL_666f44c272f444ba834901eed34b5571",
       "style": "IPY_MODEL_84f72321c3c84175bfc6c6b1cd53a1c3"
      }
     },
     "f91deb6429c64b02ae7a630a763dc835": {
      "model_module": "@jupyter-widgets/controls",
      "model_module_version": "1.5.0",
      "model_name": "GridBoxModel",
      "state": {
       "children": [
        "IPY_MODEL_364607f5efda435a9683b80b51dcfadd",
        "IPY_MODEL_838dac9106d24697b077006e5e896271",
        "IPY_MODEL_9a07ff7c531f49df88af52ff2fa556b3"
       ],
       "layout": "IPY_MODEL_fcd9b912fab944f3b47612860d3e04f8"
      }
     },
     "fa3d420f803b4b48be74cc62499b2635": {
      "model_module": "@jupyter-widgets/controls",
      "model_module_version": "1.5.0",
      "model_name": "DescriptionStyleModel",
      "state": {
       "description_width": "initial"
      }
     },
     "fa89bb08b461423f8dd2d987fa2500d9": {
      "model_module": "@jupyter-widgets/base",
      "model_module_version": "1.2.0",
      "model_name": "LayoutModel",
      "state": {}
     },
     "faa4e02e28004d5183c2626c2bba761c": {
      "model_module": "@jupyter-widgets/controls",
      "model_module_version": "1.5.0",
      "model_name": "GridBoxModel",
      "state": {
       "children": [
        "IPY_MODEL_2381a3aaf4874cd19748fcbdc2e8db53",
        "IPY_MODEL_99933b1d791b452e82406fc9d7058e93",
        "IPY_MODEL_f2d33ed651d44238bc29cc3594fff5a4"
       ],
       "layout": "IPY_MODEL_7b54b941429143c18dc873cc947a58ee"
      }
     },
     "fab440bd795243e0b62e745f9809db94": {
      "model_module": "@jupyter-widgets/controls",
      "model_module_version": "1.5.0",
      "model_name": "VBoxModel",
      "state": {
       "children": [
        "IPY_MODEL_37f017d1e57a403aa43abef71da32548",
        "IPY_MODEL_f59ac92bfcfa439c8577193ac407e137"
       ],
       "layout": "IPY_MODEL_8bef36c543014c26afbb94076e5667f4"
      }
     },
     "fae62c61b24749b7a6b96a9024ff0803": {
      "model_module": "@jupyter-widgets/controls",
      "model_module_version": "1.5.0",
      "model_name": "GridBoxModel",
      "state": {
       "children": [
        "IPY_MODEL_ad9657a8862e4bb58df40bf4703701ed",
        "IPY_MODEL_4e25a3edeb994d8e8e46a4efe272576b",
        "IPY_MODEL_fdc9bcbef41340a3b699e17052e185b8"
       ],
       "layout": "IPY_MODEL_9dfab61df63c4ff8a7531e7190185385"
      }
     },
     "fae7a755cbda4de38c7d14bbcc6caab8": {
      "model_module": "@jupyter-widgets/controls",
      "model_module_version": "1.5.0",
      "model_name": "VBoxModel",
      "state": {
       "children": [
        "IPY_MODEL_baff8ad1142440e2839fa6a5f5edeb63"
       ],
       "layout": "IPY_MODEL_c34017481b0241b3801cdc5aafa5edc2"
      }
     },
     "fb92b09132eb4db88d8af09187cc69f2": {
      "model_module": "@jupyter-widgets/base",
      "model_module_version": "1.2.0",
      "model_name": "LayoutModel",
      "state": {}
     },
     "fbf4ecfbafe84f84ac888cdb400ee242": {
      "model_module": "@jupyter-widgets/controls",
      "model_module_version": "1.5.0",
      "model_name": "SelectModel",
      "state": {
       "_options_labels": [
        "..",
        "Temp",
        "dask-worker-space",
        "Crossplot.html",
        "FlinFlon.geoh5",
        "FlinFlon_light.geoh5",
        "MtDore_TMI.geoh5"
       ],
       "index": 4,
       "layout": "IPY_MODEL_b277106b26ad4198af00b1a92f97748d",
       "rows": 8,
       "style": "IPY_MODEL_69dd6c3ab9bf4bbab2219957aa26dd14"
      }
     },
     "fbfc714170464a1794807cf4cfdb71c6": {
      "model_module": "@jupyter-widgets/controls",
      "model_module_version": "1.5.0",
      "model_name": "VBoxModel",
      "state": {
       "children": [
        "IPY_MODEL_3df38797784f4edbab9a3d27f0d83ed5",
        "IPY_MODEL_88d2acda005f4a2b98b3a4a23928411f",
        "IPY_MODEL_4a702030cd114fdabbb8baef330ac88d"
       ],
       "layout": "IPY_MODEL_ce4f99648e014cba86d14a210ecd2951"
      }
     },
     "fc6b1fb8602545c594c67a2f6741f2bf": {
      "model_module": "@jupyter-widgets/controls",
      "model_module_version": "1.5.0",
      "model_name": "DescriptionStyleModel",
      "state": {
       "description_width": ""
      }
     },
     "fcd9b912fab944f3b47612860d3e04f8": {
      "model_module": "@jupyter-widgets/base",
      "model_module_version": "1.2.0",
      "model_name": "LayoutModel",
      "state": {
       "display": "none",
       "grid_gap": "0px 0px",
       "grid_template_areas": "\n                    'pathlist filename'\n                    'dircontent dircontent'\n                    ",
       "grid_template_columns": "60% 40%",
       "grid_template_rows": "auto auto",
       "width": "500px"
      }
     },
     "fda90f9316e44acf9821d50c449a691e": {
      "model_module": "@jupyter-widgets/controls",
      "model_module_version": "1.5.0",
      "model_name": "ButtonModel",
      "state": {
       "description": "Cancel",
       "layout": "IPY_MODEL_16237d62fe8645aab8acd5996f1b2b0c",
       "style": "IPY_MODEL_48e3a8708aec4bec9931a14f4888e4cb"
      }
     },
     "fdb3abfbc1e04669af6a16be1593cd81": {
      "model_module": "@jupyter-widgets/controls",
      "model_module_version": "1.5.0",
      "model_name": "TextModel",
      "state": {
       "continuous_update": false,
       "description": "Save as:",
       "layout": "IPY_MODEL_2c91f27e75084d89a9af58f61b2872b6",
       "style": "IPY_MODEL_6c7bd061299643b681fae14a0a57991f",
       "value": "Gravity_Magnetics_drape60m"
      }
     },
     "fdc7377fb8a3414b887df9d0670ca1d9": {
      "model_module": "@jupyter-widgets/controls",
      "model_module_version": "1.5.0",
      "model_name": "VBoxModel",
      "state": {
       "children": [
        "IPY_MODEL_9760ccfa9df9472db0e886d7fa803e67",
        "IPY_MODEL_e253f29dbfe94e359686abef96ee9115",
        "IPY_MODEL_f917a5c1feef4fbd943dd574cb174824"
       ],
       "layout": "IPY_MODEL_6ad637ae65b948c28b27f652f14424db"
      }
     },
     "fdc9bcbef41340a3b699e17052e185b8": {
      "model_module": "@jupyter-widgets/controls",
      "model_module_version": "1.5.0",
      "model_name": "SelectModel",
      "state": {
       "_options_labels": [
        "..",
        "Temp",
        "dask-worker-space"
       ],
       "index": null,
       "layout": "IPY_MODEL_895ff1a2354c429ab4b56335cca7b651",
       "rows": 8,
       "style": "IPY_MODEL_6b04fbed9c5941b698bb3ab9c8724642"
      }
     },
     "fdfbf4a2a36f4de5a465d2de155e20dc": {
      "model_module": "@jupyter-widgets/controls",
      "model_module_version": "1.5.0",
      "model_name": "VBoxModel",
      "state": {
       "children": [
        "IPY_MODEL_7036da8821c3479fb7c56a39f03320b4",
        "IPY_MODEL_ac841a8857514d71963fb753ca70127c"
       ],
       "layout": "IPY_MODEL_dbf77de990d0434bb0a399a48202964c"
      }
     },
     "ff48be4080fa43e7a7aa5c4eeca8c58a": {
      "model_module": "@jupyter-widgets/base",
      "model_module_version": "1.2.0",
      "model_name": "LayoutModel",
      "state": {}
     },
     "ff5c58580ab4464b8bc4046f20089290": {
      "model_module": "@jupyter-widgets/controls",
      "model_module_version": "1.5.0",
      "model_name": "DescriptionStyleModel",
      "state": {
       "description_width": ""
      }
     },
     "ff5d0e2c434a437e841c3d4f34f97ec5": {
      "model_module": "@jupyter-widgets/controls",
      "model_module_version": "1.5.0",
      "model_name": "HTMLModel",
      "state": {
       "layout": "IPY_MODEL_a5e99e2d899241e6887371c88ce4236c",
       "placeholder": "",
       "style": "IPY_MODEL_8fef0c7bf11444f1b0e3bbe978f12fef",
       "value": "<span style=\"margin-left:10px; color:orange;\">C:\\Users\\dominiquef\\Documents\\GIT\\mira\\mirageoscience-apps\\assets\\FlinFlon.geoh5</span>"
      }
     }
    },
    "version_major": 2,
    "version_minor": 0
   }
  }
 },
 "nbformat": 4,
 "nbformat_minor": 4
}

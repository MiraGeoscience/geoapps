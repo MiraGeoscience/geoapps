version https://git-lfs.github.com/spec/v1
oid sha256:ddff9b33a2f02d39fbcdd52e7cb5860908e089bef62a031dfdb1261bcb7800cf
size 205239

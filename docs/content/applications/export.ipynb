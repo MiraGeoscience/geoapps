version https://git-lfs.github.com/spec/v1
oid sha256:3962acd8a4c9990f23382922e5d2d562dc0d845b673a0ce6b57d1ef5d56765c7
size 658879

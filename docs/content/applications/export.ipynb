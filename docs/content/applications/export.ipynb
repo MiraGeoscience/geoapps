{
 "cells": [
  {
   "cell_type": "markdown",
   "id": "dental-preview",
   "metadata": {},
   "source": [
    "# Export\n",
    "\n",
    "  <img align=\"right\" width=\"50%\" src=\"./images/export_app.png\">\n",
    "\n",
    "\n",
    "This application lets user export objects and data stored in `geoh5` to various file formats. \n",
    "\n",
    "The app currently supports:\n",
    "  \n",
    "- ESRI Shapefile (**shp**)\n",
    "- Column file (**csv**)\n",
    "- Geotiff (1 or 3-band) (**tiff**)\n",
    "- UBC-GIF (Tensor or OcTree) (**msh, mod**)\n",
    "\n",
    "\n",
    "New user? Visit the [Getting Started](../installation.rst) page."
   ]
  },
  {
   "cell_type": "markdown",
   "id": "large-jamaica",
   "metadata": {},
   "source": [
    "## Application\n",
    "The following sections provide details on the different parameters controlling the application. Interactive widgets shown below are for demonstration purposes only."
   ]
  },
  {
   "cell_type": "code",
   "execution_count": 1,
   "id": "blind-titanium",
   "metadata": {
    "scrolled": false
   },
   "outputs": [
    {
     "data": {
      "application/vnd.jupyter.widget-view+json": {
       "model_id": "9b31560823654048b7f22c9a0332e9fe",
       "version_major": 2,
       "version_minor": 0
      },
      "text/plain": [
       "VBox(children=(VBox(children=(Label(value='Workspace', style=DescriptionStyle(description_width='initial')), H…"
      ]
     },
     "metadata": {},
     "output_type": "display_data"
    }
   ],
   "source": [
    "from geoapps.export import Export\n",
    "\n",
    "app = Export(h5file=r\"../../../assets/FlinFlon.geoh5\")\n",
    "app.main"
   ]
  },
  {
   "cell_type": "markdown",
   "id": "third-wellington",
   "metadata": {},
   "source": [
    "## Project Selection\n",
    "\n",
    "Select and connect to an existing **geoh5** project file containing data. "
   ]
  },
  {
   "cell_type": "code",
   "execution_count": 2,
   "id": "extraordinary-series",
   "metadata": {
    "scrolled": false
   },
   "outputs": [
    {
     "data": {
      "application/vnd.jupyter.widget-view+json": {
       "model_id": "6f41da12494f41dbb6b5e283506f00fa",
       "version_major": 2,
       "version_minor": 0
      },
      "text/plain": [
       "VBox(children=(Label(value='Workspace', style=DescriptionStyle(description_width='initial')), HBox(children=(F…"
      ]
     },
     "metadata": {},
     "output_type": "display_data"
    }
   ],
   "source": [
    "app.project_panel"
   ]
  },
  {
   "cell_type": "markdown",
   "id": "superb-navigator",
   "metadata": {},
   "source": [
    "See the [Project Panel](base_application.ipynb#Project-Panel) page for more details."
   ]
  },
  {
   "cell_type": "markdown",
   "id": "independent-specialist",
   "metadata": {},
   "source": [
    "## Object and Data Selection\n",
    "\n",
    "List of objects available for export from the target `geoh5` project. "
   ]
  },
  {
   "cell_type": "code",
   "execution_count": 3,
   "id": "decent-bowling",
   "metadata": {
    "scrolled": true
   },
   "outputs": [
    {
     "data": {
      "application/vnd.jupyter.widget-view+json": {
       "model_id": "3bee6be30e0c4c73aca4d8a469fefea7",
       "version_major": 2,
       "version_minor": 0
      },
      "text/plain": [
       "VBox(children=(Dropdown(description='Object:', index=66, options=(['', None], ['fault_splay1', UUID('0febc8ad-…"
      ]
     },
     "metadata": {},
     "output_type": "display_data"
    }
   ],
   "source": [
    "app.data_panel"
   ]
  },
  {
   "cell_type": "markdown",
   "id": "industrial-employee",
   "metadata": {},
   "source": [
    "## Output type\n",
    "\n",
    "List of file formats currently supported."
   ]
  },
  {
   "cell_type": "code",
   "execution_count": 4,
   "id": "whole-closer",
   "metadata": {},
   "outputs": [
    {
     "data": {
      "application/vnd.jupyter.widget-view+json": {
       "model_id": "9ff3bdbc46a1492986a41d6c1a8a7729",
       "version_major": 2,
       "version_minor": 0
      },
      "text/plain": [
       "Dropdown(description='Export type', index=2, options=('ESRI shapefile', 'csv', 'geotiff', 'UBC format'), style…"
      ]
     },
     "metadata": {},
     "output_type": "display_data"
    }
   ],
   "source": [
    "app.file_type"
   ]
  },
  {
   "cell_type": "markdown",
   "id": "known-pantyhose",
   "metadata": {},
   "source": [
    "### ESRI Shapefile\n",
    "\n",
    "Export option to **.shp** file format for `Points`, `Curve` objects. "
   ]
  },
  {
   "cell_type": "markdown",
   "id": "designing-concert",
   "metadata": {},
   "source": [
    "#### Projection\n",
    "\n",
    "Coordinate system assigned to the shapefile, either as ESRI, EPSG or WKT code."
   ]
  },
  {
   "cell_type": "code",
   "execution_count": 5,
   "id": "defensive-meditation",
   "metadata": {},
   "outputs": [
    {
     "data": {
      "application/vnd.jupyter.widget-view+json": {
       "model_id": "571b7152d1354cdfb74716a0e03b3cc5",
       "version_major": 2,
       "version_minor": 0
      },
      "text/plain": [
       "VBox(children=(Text(value='EPSG:26914', continuous_update=False, description='Projection:', style=DescriptionS…"
      ]
     },
     "metadata": {},
     "output_type": "display_data"
    }
   ],
   "source": [
    "app.projection_panel"
   ]
  },
  {
   "cell_type": "markdown",
   "id": "spiritual-cincinnati",
   "metadata": {},
   "source": [
    "### Column Seperated Values\n",
    "\n",
    "Export data to **csv** file format. The x, y and z coordinates of every nodes/cells are appended to the list of data by default."
   ]
  },
  {
   "cell_type": "markdown",
   "id": "blank-basement",
   "metadata": {},
   "source": [
    "### Geotiff\n",
    "\n",
    "Export option to **.geotiff** for `Grid2D` objects."
   ]
  },
  {
   "cell_type": "markdown",
   "id": "occupational-socket",
   "metadata": {},
   "source": [
    "#### Projection\n",
    "\n",
    "Coordinate system assigned to the geotiff, either as ESRI, EPSG or WKT code."
   ]
  },
  {
   "cell_type": "code",
   "execution_count": 6,
   "id": "architectural-romantic",
   "metadata": {},
   "outputs": [
    {
     "data": {
      "application/vnd.jupyter.widget-view+json": {
       "model_id": "571b7152d1354cdfb74716a0e03b3cc5",
       "version_major": 2,
       "version_minor": 0
      },
      "text/plain": [
       "VBox(children=(Text(value='EPSG:26914', continuous_update=False, description='Projection:', style=DescriptionS…"
      ]
     },
     "metadata": {},
     "output_type": "display_data"
    }
   ],
   "source": [
    "app.projection_panel"
   ]
  },
  {
   "cell_type": "markdown",
   "id": "emerging-complement",
   "metadata": {},
   "source": [
    "#### Type\n",
    "Date type options exported to geotiff"
   ]
  },
  {
   "cell_type": "code",
   "execution_count": 7,
   "id": "olympic-quarterly",
   "metadata": {},
   "outputs": [
    {
     "data": {
      "application/vnd.jupyter.widget-view+json": {
       "model_id": "1efc1bd745194365975787e25834c1cf",
       "version_major": 2,
       "version_minor": 0
      },
      "text/plain": [
       "RadioButtons(description='Type:', index=1, options=('float', 'RGB'), style=DescriptionStyle(description_width=…"
      ]
     },
     "metadata": {},
     "output_type": "display_data"
    }
   ],
   "source": [
    "app.data_type"
   ]
  },
  {
   "cell_type": "markdown",
   "id": "professional-extent",
   "metadata": {},
   "source": [
    "- **Float**: Single-band image containing the float value of selected data.\n",
    "- **RGB**: 3-band image containing the RGB color displayed in ANALYST."
   ]
  },
  {
   "cell_type": "markdown",
   "id": "hindu-stupid",
   "metadata": {},
   "source": [
    "### UBC Model\n",
    "\n",
    "Export option for `BlockModel` and `Octree` objects to UBC mesh (**.msh**) and model (**.mod**) format."
   ]
  },
  {
   "cell_type": "markdown",
   "id": "gorgeous-startup",
   "metadata": {},
   "source": [
    "## Output Panel\n",
    "\n",
    "Trigger the computation routine and store the result."
   ]
  },
  {
   "cell_type": "code",
   "execution_count": 8,
   "id": "sharp-probability",
   "metadata": {
    "scrolled": false
   },
   "outputs": [
    {
     "data": {
      "application/vnd.jupyter.widget-view+json": {
       "model_id": "30e2e54f6c9041b7bef2353d3db77d85",
       "version_major": 2,
       "version_minor": 0
      },
      "text/plain": [
       "VBox(children=(VBox(children=(Button(button_style='danger', description='Export', icon='check', style=ButtonSt…"
      ]
     },
     "metadata": {},
     "output_type": "display_data"
    }
   ],
   "source": [
    "app.output_panel"
   ]
  },
  {
   "cell_type": "markdown",
   "id": "better-bulgaria",
   "metadata": {},
   "source": [
    "See the [Output Panel](base_application.ipynb#Output-Panel) page for more details."
   ]
  },
  {
   "cell_type": "code",
   "execution_count": 9,
   "id": "dee993ca",
   "metadata": {},
   "outputs": [
    {
     "name": "stdout",
     "output_type": "stream",
     "text": [
      "Object saved to C:\\Users\\dominiquef\\Documents\\GIT\\mira\\mirageoscience-apps\\assets\\Gravity_Magnetics_drape60m_Airborne_Gxx.tif\n"
     ]
    },
    {
     "data": {
      "image/png": "[encoded data removed]",
      "text/plain": [
       "<Figure size 432x288 with 2 Axes>"
      ]
     },
     "metadata": {
      "needs_background": "light"
     },
     "output_type": "display_data"
    }
   ],
   "source": [
    "app.plot_result = True\n",
    "app.trigger.click()"
   ]
  },
  {
   "cell_type": "markdown",
   "id": "suffering-chrome",
   "metadata": {},
   "source": [
    "Need help? Contact us at support@mirageoscience.com"
   ]
  }
 ],
 "metadata": {
  "kernelspec": {
   "display_name": "Python 3",
   "language": "python",
   "name": "python3"
  },
  "language_info": {
   "codemirror_mode": {
    "name": "ipython",
    "version": 3
   },
   "file_extension": ".py",
   "mimetype": "text/x-python",
   "name": "python",
   "nbconvert_exporter": "python",
   "pygments_lexer": "ipython3",
   "version": "3.9.4"
  },
  "widgets": {
   "application/vnd.jupyter.widget-state+json": {
    "state": {
     "00882857292343c5ad5fef035138a8ef": {
      "model_module": "@jupyter-widgets/base",
      "model_module_version": "1.2.0",
      "model_name": "LayoutModel",
      "state": {}
     },
     "01940bd7327c4d6f87efc76aa06938f9": {
      "model_module": "@jupyter-widgets/controls",
      "model_module_version": "1.5.0",
      "model_name": "VBoxModel",
      "state": {
       "children": [
        "IPY_MODEL_de338ebeb0eb4880a7974c46e2e45fdf",
        "IPY_MODEL_7126f043322d458a809b5fc3731531f2"
       ],
       "layout": "IPY_MODEL_9c14d04966a54aedacd4f1eb14a12395"
      }
     },
     "024f323b2f24439f9287c3a1b12a7ae4": {
      "model_module": "@jupyter-widgets/controls",
      "model_module_version": "1.5.0",
      "model_name": "DescriptionStyleModel",
      "state": {
       "description_width": "initial"
      }
     },
     "025aa4b4acab488488cb85607ab72d9e": {
      "model_module": "@jupyter-widgets/controls",
      "model_module_version": "1.5.0",
      "model_name": "DescriptionStyleModel",
      "state": {
       "description_width": ""
      }
     },
     "029233f62f67411ab68a98c56a87263a": {
      "model_module": "@jupyter-widgets/controls",
      "model_module_version": "1.5.0",
      "model_name": "ButtonStyleModel",
      "state": {}
     },
     "02a67f59250146dfb92cea5a8a00942b": {
      "model_module": "@jupyter-widgets/controls",
      "model_module_version": "1.5.0",
      "model_name": "VBoxModel",
      "state": {
       "children": [
        "IPY_MODEL_aa78468da2164d7a8016d615b656d5a0",
        "IPY_MODEL_38baa11dbad84c8da4208f3293ab4cb5"
       ],
       "layout": "IPY_MODEL_20618388a3784cbe88e7d4bc7783947b"
      }
     },
     "031130deb20645c1a187d16b6f48b21b": {
      "model_module": "@jupyter-widgets/base",
      "model_module_version": "1.2.0",
      "model_name": "LayoutModel",
      "state": {
       "width": "auto"
      }
     },
     "03245a5df5634268aeb5204cadc0e518": {
      "model_module": "@jupyter-widgets/base",
      "model_module_version": "1.2.0",
      "model_name": "LayoutModel",
      "state": {}
     },
     "037b091270284a529a7bf71d87984bf8": {
      "model_module": "@jupyter-widgets/controls",
      "model_module_version": "1.5.0",
      "model_name": "DescriptionStyleModel",
      "state": {
       "description_width": ""
      }
     },
     "040086cc15b942b890d62ca34946acda": {
      "model_module": "@jupyter-widgets/controls",
      "model_module_version": "1.5.0",
      "model_name": "HTMLModel",
      "state": {
       "layout": "IPY_MODEL_8c3e54dc049c41efb824d79e3786e83c",
       "placeholder": "",
       "style": "IPY_MODEL_88500a1119714c429892f7c6aa5f07d5",
       "value": "<span style=\"margin-left:10px; color:green;\">C:\\Users\\dominiquef\\Documents\\GIT\\mira\\mirageoscience-apps\\assets\\</span>"
      }
     },
     "046110f1bbd9414aaa38fe0f4ae899ee": {
      "model_module": "@jupyter-widgets/controls",
      "model_module_version": "1.5.0",
      "model_name": "VBoxModel",
      "state": {
       "children": [
        "IPY_MODEL_de683ce7315d4ef2a2a5b6e6745350ee",
        "IPY_MODEL_82d2bdbf678d4bad80bd0bb5ce02fdf1"
       ],
       "layout": "IPY_MODEL_685c2abe7e1f4d47ab69b3861b6b1479"
      }
     },
     "0466943893194045800df54fada8e46b": {
      "model_module": "@jupyter-widgets/controls",
      "model_module_version": "1.5.0",
      "model_name": "DropdownModel",
      "state": {
       "_options_labels": [
        "C:\\Users\\dominiquef\\Documents\\GIT\\mira\\mirageoscience-apps\\assets",
        "C:\\Users\\dominiquef\\Documents\\GIT\\mira\\mirageoscience-apps",
        "C:\\Users\\dominiquef\\Documents\\GIT\\mira",
        "C:\\Users\\dominiquef\\Documents\\GIT",
        "C:\\Users\\dominiquef\\Documents",
        "C:\\Users\\dominiquef",
        "C:\\Users",
        "C:\\",
        "D:\\",
        "Z:\\"
       ],
       "index": 0,
       "layout": "IPY_MODEL_74a6fee1a01146239901b90e6fd6ba64",
       "style": "IPY_MODEL_a6502f480983455b9c1d62dba844a5e1"
      }
     },
     "04cfa5f87d004a47ae9c6571437b6996": {
      "model_module": "@jupyter-widgets/base",
      "model_module_version": "1.2.0",
      "model_name": "LayoutModel",
      "state": {
       "width": "auto"
      }
     },
     "0508baa6f5924725ad34b5e934fb8ff9": {
      "model_module": "@jupyter-widgets/base",
      "model_module_version": "1.2.0",
      "model_name": "LayoutModel",
      "state": {
       "display": "none",
       "width": "auto"
      }
     },
     "0511b975673f4b9da48f8a96fb980c6a": {
      "model_module": "@jupyter-widgets/base",
      "model_module_version": "1.2.0",
      "model_name": "LayoutModel",
      "state": {}
     },
     "05ee53fa1ff34c149fa8b6423a993127": {
      "model_module": "@jupyter-widgets/controls",
      "model_module_version": "1.5.0",
      "model_name": "ButtonStyleModel",
      "state": {}
     },
     "05eedd64fb154bfd99b1415e7e1487bb": {
      "model_module": "@jupyter-widgets/base",
      "model_module_version": "1.2.0",
      "model_name": "LayoutModel",
      "state": {}
     },
     "05f017a0b5ee44a3804854a96b1e521f": {
      "model_module": "@jupyter-widgets/base",
      "model_module_version": "1.2.0",
      "model_name": "LayoutModel",
      "state": {}
     },
     "05ff645a620049dfb0808ba13df3ece3": {
      "model_module": "@jupyter-widgets/controls",
      "model_module_version": "1.5.0",
      "model_name": "DescriptionStyleModel",
      "state": {
       "description_width": ""
      }
     },
     "0666abf64f3a4fc38d7408293e230641": {
      "model_module": "@jupyter-widgets/base",
      "model_module_version": "1.2.0",
      "model_name": "LayoutModel",
      "state": {
       "display": "none",
       "grid_gap": "0px 0px",
       "grid_template_areas": "\n                    'pathlist pathlist'\n                    'dircontent dircontent'\n                    ",
       "grid_template_columns": "60% 40%",
       "grid_template_rows": "auto auto",
       "width": "500px"
      }
     },
     "0685779358cf4135921eecd154e3217c": {
      "model_module": "@jupyter-widgets/base",
      "model_module_version": "1.2.0",
      "model_name": "LayoutModel",
      "state": {}
     },
     "06a4f281a4ed46f9b67527456f3f1b2c": {
      "model_module": "@jupyter-widgets/controls",
      "model_module_version": "1.5.0",
      "model_name": "HTMLModel",
      "state": {
       "layout": "IPY_MODEL_b324f387ee0b4251ae1b9ef9ff5c541b",
       "style": "IPY_MODEL_e32d092dd27a4c85b388fabc17cf5fdc"
      }
     },
     "06de5d91c17949dcb5977a5ecee289ca": {
      "model_module": "@jupyter-widgets/controls",
      "model_module_version": "1.5.0",
      "model_name": "LabelModel",
      "state": {
       "layout": "IPY_MODEL_083d6f6770bf4fc28d6c1d54d676584c",
       "style": "IPY_MODEL_189c3c6541c94bb0928685aace71c3a3",
       "value": "Workspace"
      }
     },
     "071fee7358ff4f98877f103e57bf66a8": {
      "model_module": "@jupyter-widgets/controls",
      "model_module_version": "1.5.0",
      "model_name": "RadioButtonsModel",
      "state": {
       "_options_labels": [
        "float",
        "RGB"
       ],
       "description": "Type:",
       "index": 1,
       "layout": "IPY_MODEL_e2bd161fad5041c3a490bae05d7208f0",
       "style": "IPY_MODEL_0beba3c17f8143eead209e087f39141f"
      }
     },
     "083d6f6770bf4fc28d6c1d54d676584c": {
      "model_module": "@jupyter-widgets/base",
      "model_module_version": "1.2.0",
      "model_name": "LayoutModel",
      "state": {}
     },
     "08a1b60ade07412396d0b0b80823c5d1": {
      "model_module": "@jupyter-widgets/controls",
      "model_module_version": "1.5.0",
      "model_name": "DescriptionStyleModel",
      "state": {
       "description_width": "initial"
      }
     },
     "090f67dd53fe414cae0159e089e42656": {
      "model_module": "@jupyter-widgets/base",
      "model_module_version": "1.2.0",
      "model_name": "LayoutModel",
      "state": {}
     },
     "0924aa704c3a4a638038912c7ba421bb": {
      "model_module": "@jupyter-widgets/controls",
      "model_module_version": "1.5.0",
      "model_name": "ButtonModel",
      "state": {
       "button_style": "danger",
       "description": "Export",
       "icon": "check",
       "layout": "IPY_MODEL_cf066ab6d477422f9905367ff6349c7a",
       "style": "IPY_MODEL_e3bb7995989b4dd89747c16f34142a20",
       "tooltip": "Run computation"
      }
     },
     "093cc3f7112947bdaedb9861bb165e56": {
      "model_module": "@jupyter-widgets/controls",
      "model_module_version": "1.5.0",
      "model_name": "HBoxModel",
      "state": {
       "children": [
        "IPY_MODEL_94591964c674451db4ef4aacd4732f11",
        "IPY_MODEL_19efe21b67e14bcdac329d87750e9423",
        "IPY_MODEL_3e73eaac96a34e71828bd500c4a515ea"
       ],
       "layout": "IPY_MODEL_c2e24d95c34f48bc8e4f1ca88d78ecce"
      }
     },
     "094fbd332f5e49b38fe510a5a731ab6f": {
      "model_module": "@jupyter-widgets/controls",
      "model_module_version": "1.5.0",
      "model_name": "VBoxModel",
      "state": {
       "children": [
        "IPY_MODEL_9ebcd443e6d749c5a25602a23e6c07e4",
        "IPY_MODEL_457ab12b871a4231b73ccd2687b60e7f",
        "IPY_MODEL_1f2d42f56c244cc6973629a442ccd6e4"
       ],
       "layout": "IPY_MODEL_453dec1916764505b0d8c70d87f93fb0"
      }
     },
     "09572af07acc4689b0e168b3faa65cf5": {
      "model_module": "@jupyter-widgets/controls",
      "model_module_version": "1.5.0",
      "model_name": "DescriptionStyleModel",
      "state": {
       "description_width": ""
      }
     },
     "095c82b236214859a7717f05331b9882": {
      "model_module": "@jupyter-widgets/base",
      "model_module_version": "1.2.0",
      "model_name": "LayoutModel",
      "state": {}
     },
     "09893dfe7c654ab0a96e42ebb4b6434c": {
      "model_module": "@jupyter-widgets/controls",
      "model_module_version": "1.5.0",
      "model_name": "HTMLModel",
      "state": {
       "layout": "IPY_MODEL_ddb2b7b690364a8e9a8f1fe72540fcb0",
       "style": "IPY_MODEL_46c2e316d8054eeb884091266b74f265"
      }
     },
     "0a4917698ada4f518c123996f7aba605": {
      "model_module": "@jupyter-widgets/controls",
      "model_module_version": "1.5.0",
      "model_name": "GridBoxModel",
      "state": {
       "children": [
        "IPY_MODEL_2a2ac56e7e924cc1ad761ceeaf8a1db6",
        "IPY_MODEL_cfbc8896766442cb920e28db126483c4",
        "IPY_MODEL_a4ae6e5ede3947909ec7dd9bdda94f1f"
       ],
       "layout": "IPY_MODEL_c6e7f167addd4cfb93aa0bd6ef7acc4a"
      }
     },
     "0a847be77530417098a1dd53e8483faf": {
      "model_module": "@jupyter-widgets/base",
      "model_module_version": "1.2.0",
      "model_name": "LayoutModel",
      "state": {
       "width": "auto"
      }
     },
     "0ad4885afe7d4024932b200d9197cbb3": {
      "model_module": "@jupyter-widgets/controls",
      "model_module_version": "1.5.0",
      "model_name": "DescriptionStyleModel",
      "state": {
       "description_width": "initial"
      }
     },
     "0ad62f3df31c44bfa2f3828b5a74297d": {
      "model_module": "@jupyter-widgets/controls",
      "model_module_version": "1.5.0",
      "model_name": "HBoxModel",
      "state": {
       "children": [
        "IPY_MODEL_c85bfe3fffba4c8da2e88f50852ad615",
        "IPY_MODEL_9c6dd13df07149b1bcde6ac9eb6e0c56",
        "IPY_MODEL_66cd1c069c3749f8abcd6e4ae881efca"
       ],
       "layout": "IPY_MODEL_4b65866c2a2742f6bd56f965e6d23b16"
      }
     },
     "0ae2b33aeab7484689e84fcc5267c76d": {
      "model_module": "@jupyter-widgets/controls",
      "model_module_version": "1.5.0",
      "model_name": "HTMLModel",
      "state": {
       "layout": "IPY_MODEL_be1612fca5a94d7ea95110880d2fbf9a",
       "style": "IPY_MODEL_0baf91615a104155877f906491cbe921"
      }
     },
     "0afa2d113f4c4c75baf4ff0c0f435180": {
      "model_module": "@jupyter-widgets/controls",
      "model_module_version": "1.5.0",
      "model_name": "VBoxModel",
      "state": {
       "children": [
        "IPY_MODEL_e7c6614300584bc8ab1cf5c723dd752a",
        "IPY_MODEL_5e6c750b204e4cb4953bc10826334a5a",
        "IPY_MODEL_f47fe748ab7246f8a1a18439a4bf9a20"
       ],
       "layout": "IPY_MODEL_d352616666f54fae9685ce4e98164810"
      }
     },
     "0b69cf1dde694db29a406502d389a21d": {
      "model_module": "@jupyter-widgets/controls",
      "model_module_version": "1.5.0",
      "model_name": "ButtonStyleModel",
      "state": {}
     },
     "0b83387bc1a646f39beeab5872911deb": {
      "model_module": "@jupyter-widgets/base",
      "model_module_version": "1.2.0",
      "model_name": "LayoutModel",
      "state": {}
     },
     "0b8e81026d4c46b68494c95ee492265d": {
      "model_module": "@jupyter-widgets/controls",
      "model_module_version": "1.5.0",
      "model_name": "DescriptionStyleModel",
      "state": {
       "description_width": "initial"
      }
     },
     "0b9da1153b6f439a921bbc108e6fb38c": {
      "model_module": "@jupyter-widgets/base",
      "model_module_version": "1.2.0",
      "model_name": "LayoutModel",
      "state": {}
     },
     "0baf91615a104155877f906491cbe921": {
      "model_module": "@jupyter-widgets/controls",
      "model_module_version": "1.5.0",
      "model_name": "DescriptionStyleModel",
      "state": {
       "description_width": ""
      }
     },
     "0bc9c5a9cc264e14abbc698d937f31d9": {
      "model_module": "@jupyter-widgets/base",
      "model_module_version": "1.2.0",
      "model_name": "LayoutModel",
      "state": {
       "grid_area": "dircontent",
       "width": "auto"
      }
     },
     "0beba3c17f8143eead209e087f39141f": {
      "model_module": "@jupyter-widgets/controls",
      "model_module_version": "1.5.0",
      "model_name": "DescriptionStyleModel",
      "state": {
       "description_width": "initial"
      }
     },
     "0c3924b4a1be438e8dd54d2de6d3a1ef": {
      "model_module": "@jupyter-widgets/base",
      "model_module_version": "1.2.0",
      "model_name": "LayoutModel",
      "state": {}
     },
     "0c9f836cf7424682911c1b379956fea1": {
      "model_module": "@jupyter-widgets/controls",
      "model_module_version": "1.5.0",
      "model_name": "DescriptionStyleModel",
      "state": {
       "description_width": ""
      }
     },
     "0cc651421c4743d783642a5af52d66af": {
      "model_module": "@jupyter-widgets/base",
      "model_module_version": "1.2.0",
      "model_name": "LayoutModel",
      "state": {
       "grid_area": "filename",
       "width": "auto"
      }
     },
     "0d09fb795ca944038b0ac806c80b2a45": {
      "model_module": "@jupyter-widgets/controls",
      "model_module_version": "1.5.0",
      "model_name": "TextModel",
      "state": {
       "continuous_update": false,
       "description": "Save as:",
       "layout": "IPY_MODEL_dae1e895dc144637bc57e560279e49b6",
       "style": "IPY_MODEL_3605d7abb7eb4e48b0beb8ab732ecf17",
       "value": "Gravity_Magnetics_drape60m"
      }
     },
     "0d8d63040a6546e98e11e0f533727b4c": {
      "model_module": "@jupyter-widgets/base",
      "model_module_version": "1.2.0",
      "model_name": "LayoutModel",
      "state": {}
     },
     "0e1666a9811d44558b6e74bb3ad47911": {
      "model_module": "@jupyter-widgets/controls",
      "model_module_version": "1.5.0",
      "model_name": "DescriptionStyleModel",
      "state": {
       "description_width": ""
      }
     },
     "0e39f6aba7a44c909dd2f745ff2c4d82": {
      "model_module": "@jupyter-widgets/base",
      "model_module_version": "1.2.0",
      "model_name": "LayoutModel",
      "state": {}
     },
     "0e65511236244f18b1407b38a33ed341": {
      "model_module": "@jupyter-widgets/controls",
      "model_module_version": "1.5.0",
      "model_name": "ToggleButtonModel",
      "state": {
       "layout": "IPY_MODEL_15a3c430ec4e49828f9bee43e5dd560b",
       "style": "IPY_MODEL_d264bcc8a5dd4852966b9e27d946c549",
       "value": true
      }
     },
     "0e75678d0755488883bf6b231a0b7130": {
      "model_module": "@jupyter-widgets/controls",
      "model_module_version": "1.5.0",
      "model_name": "DescriptionStyleModel",
      "state": {
       "description_width": "initial"
      }
     },
     "0f18a09051d64eddb6de136d352cd67d": {
      "model_module": "@jupyter-widgets/controls",
      "model_module_version": "1.5.0",
      "model_name": "ButtonStyleModel",
      "state": {}
     },
     "0f6be1f0566a4f8fab5176036111fdff": {
      "model_module": "@jupyter-widgets/controls",
      "model_module_version": "1.5.0",
      "model_name": "GridBoxModel",
      "state": {
       "children": [
        "IPY_MODEL_5d477e3e05834b5d9094199c487a38ea",
        "IPY_MODEL_16a3ebc5cdb245fabaf8a195f1449c47",
        "IPY_MODEL_c312ee2a1fed4b20bd1ba08d7b395f3f"
       ],
       "layout": "IPY_MODEL_fe1b6b5d27cd43a9b2cd3644c682b1d7"
      }
     },
     "0fd09af63f20425cb439a783609e2600": {
      "model_module": "@jupyter-widgets/controls",
      "model_module_version": "1.5.0",
      "model_name": "ButtonStyleModel",
      "state": {}
     },
     "10036c5881514400acccb49b8d97cc2d": {
      "model_module": "@jupyter-widgets/controls",
      "model_module_version": "1.5.0",
      "model_name": "TextModel",
      "state": {
       "continuous_update": false,
       "description": "Save as:",
       "layout": "IPY_MODEL_51e77c1845c14f85aa4c1a2e54e62921",
       "style": "IPY_MODEL_a475b688cac645a2956621050d6a359b",
       "value": "Gravity_Magnetics_drape60m"
      }
     },
     "113185c0b9ba47ceaed6406fd992435a": {
      "model_module": "@jupyter-widgets/controls",
      "model_module_version": "1.5.0",
      "model_name": "DescriptionStyleModel",
      "state": {
       "description_width": ""
      }
     },
     "11860df43a49443399c74df86a99f63a": {
      "model_module": "@jupyter-widgets/controls",
      "model_module_version": "1.5.0",
      "model_name": "CheckboxModel",
      "state": {
       "description": "GA Pro - Live link",
       "disabled": false,
       "indent": false,
       "layout": "IPY_MODEL_7c4dd28f96b04bbeb8dbc76f83d9edbd",
       "style": "IPY_MODEL_e010c129691445a4af6f89e0af05ca7f",
       "value": false
      }
     },
     "120465fd7ed24aadabdd4049eaa4fba6": {
      "model_module": "@jupyter-widgets/controls",
      "model_module_version": "1.5.0",
      "model_name": "ButtonStyleModel",
      "state": {}
     },
     "12a2268498cb42a2920f762fc1ae3a20": {
      "model_module": "@jupyter-widgets/controls",
      "model_module_version": "1.5.0",
      "model_name": "DropdownModel",
      "state": {
       "_options_labels": [
        "C:\\Users\\dominiquef\\Documents\\GIT\\mira\\mirageoscience-apps\\assets",
        "C:\\Users\\dominiquef\\Documents\\GIT\\mira\\mirageoscience-apps",
        "C:\\Users\\dominiquef\\Documents\\GIT\\mira",
        "C:\\Users\\dominiquef\\Documents\\GIT",
        "C:\\Users\\dominiquef\\Documents",
        "C:\\Users\\dominiquef",
        "C:\\Users",
        "C:\\",
        "D:\\",
        "Z:\\"
       ],
       "index": 0,
       "layout": "IPY_MODEL_7b213b6e64fc446d88b2d4ffb2992791",
       "style": "IPY_MODEL_14c2326d82094c5fb241a33d775fe47d"
      }
     },
     "12b73224e32a473aad871561cc436f04": {
      "model_module": "@jupyter-widgets/base",
      "model_module_version": "1.2.0",
      "model_name": "LayoutModel",
      "state": {
       "display": "none",
       "grid_gap": "0px 0px",
       "grid_template_areas": "\n                    'pathlist filename'\n                    'dircontent dircontent'\n                    ",
       "grid_template_columns": "60% 40%",
       "grid_template_rows": "auto auto",
       "width": "500px"
      }
     },
     "1308974476774651a03608feb2348ee5": {
      "model_module": "@jupyter-widgets/controls",
      "model_module_version": "1.5.0",
      "model_name": "GridBoxModel",
      "state": {
       "children": [
        "IPY_MODEL_4c7acbc22d5f46b891af7e07d6aca8bb",
        "IPY_MODEL_e0a6d48200854e4f88ab95aaca13eb99",
        "IPY_MODEL_d1689b1c8c7d4770bc85aebac8ff7d19"
       ],
       "layout": "IPY_MODEL_d84def24acdc4f8782aa6913b1beb0c4"
      }
     },
     "130de76936d1439785dbacbf3412eded": {
      "model_module": "@jupyter-widgets/controls",
      "model_module_version": "1.5.0",
      "model_name": "ButtonModel",
      "state": {
       "description": "Cancel",
       "layout": "IPY_MODEL_5dd75bebc0bc4731834da0dc72da3f4a",
       "style": "IPY_MODEL_4c55dc2a227d47bab5b23a4933cff733"
      }
     },
     "137f83453a04412c9dfd8105379c4e9a": {
      "model_module": "@jupyter-widgets/base",
      "model_module_version": "1.2.0",
      "model_name": "LayoutModel",
      "state": {
       "display": "none",
       "width": "auto"
      }
     },
     "1405d7641d814ddd994fc546b19ae741": {
      "model_module": "@jupyter-widgets/controls",
      "model_module_version": "1.5.0",
      "model_name": "SelectModel",
      "state": {
       "_options_labels": [
        "..",
        "SimPEG_PFInversion",
        "Temp",
        "FlinFlon.geoh5",
        "Gravity_Magnetics_drape60m_Airborne_Gxx.tif",
        "Gravity_Magnetics_drape60m_Airborne_Gxx_Colorbar.png",
        "Gravity_Magnetics_drape60m_Airborne_Gxx_RGB.txt",
        "MtDore_TMI.geoh5",
        "Octree_Mesh.json",
        "Octree_Mesh.ui.json",
        "Octree_Mesh_v2.json",
        "input.ui.geoh5",
        "input.ui.json",
        "options_tree.json",
        "test_no_root.py",
        "tester.ui.geoh5",
        "tester.ui.json"
       ],
       "index": 3,
       "layout": "IPY_MODEL_a6a54b47c740438fb80b8039faebf75b",
       "rows": 8,
       "style": "IPY_MODEL_447e2b73e87a403e994fa4fc4890af3a"
      }
     },
     "140f157224d04040a4937a5e083b40fb": {
      "model_module": "@jupyter-widgets/base",
      "model_module_version": "1.2.0",
      "model_name": "LayoutModel",
      "state": {}
     },
     "144c90013c8946fe87941c13fa90d0ff": {
      "model_module": "@jupyter-widgets/controls",
      "model_module_version": "1.5.0",
      "model_name": "ToggleButtonModel",
      "state": {
       "layout": "IPY_MODEL_4862262e72ec4662ab1b47f2c28d62d6",
       "style": "IPY_MODEL_493a3add3c3341139473a529648dec09",
       "value": true
      }
     },
     "14536e7f532446cab2ce9c065e02e072": {
      "model_module": "@jupyter-widgets/controls",
      "model_module_version": "1.5.0",
      "model_name": "LabelModel",
      "state": {
       "layout": "IPY_MODEL_207342b6a4a14c33bdc1df988a118357",
       "style": "IPY_MODEL_2fabe6959ba740ea8353a53dd5ce1b43",
       "value": "Monitoring folder"
      }
     },
     "14913dea9b074d07a7130e739adca48f": {
      "model_module": "@jupyter-widgets/controls",
      "model_module_version": "1.5.0",
      "model_name": "ButtonModel",
      "state": {
       "description": "Cancel",
       "layout": "IPY_MODEL_0508baa6f5924725ad34b5e934fb8ff9",
       "style": "IPY_MODEL_f5cd21fd723a421398347a00240cab20"
      }
     },
     "14c2326d82094c5fb241a33d775fe47d": {
      "model_module": "@jupyter-widgets/controls",
      "model_module_version": "1.5.0",
      "model_name": "DescriptionStyleModel",
      "state": {
       "description_width": ""
      }
     },
     "14fa59b01aab40ed9552bdb02a59006b": {
      "model_module": "@jupyter-widgets/controls",
      "model_module_version": "1.5.0",
      "model_name": "VBoxModel",
      "state": {
       "children": [
        "IPY_MODEL_6e8bdfec301e41e88483dd709dee1354",
        "IPY_MODEL_e1ec05768fbf49e8bcb5a56954034e56"
       ],
       "layout": "IPY_MODEL_7d049643fe594ee79ffccbdf309e11c2"
      }
     },
     "15343b0621fd4bd88af31b198436931d": {
      "model_module": "@jupyter-widgets/base",
      "model_module_version": "1.2.0",
      "model_name": "LayoutModel",
      "state": {
       "width": "auto"
      }
     },
     "1549c4fb230549cf8dbe463fe506be74": {
      "model_module": "@jupyter-widgets/controls",
      "model_module_version": "1.5.0",
      "model_name": "CheckboxModel",
      "state": {
       "description": "GA Pro - Live link",
       "disabled": false,
       "indent": false,
       "layout": "IPY_MODEL_140f157224d04040a4937a5e083b40fb",
       "style": "IPY_MODEL_33d0f415e6404038b80f3b81572813d9",
       "value": false
      }
     },
     "15a3c430ec4e49828f9bee43e5dd560b": {
      "model_module": "@jupyter-widgets/base",
      "model_module_version": "1.2.0",
      "model_name": "LayoutModel",
      "state": {}
     },
     "1681386dce2048258946cf42420d470d": {
      "model_module": "@jupyter-widgets/base",
      "model_module_version": "1.2.0",
      "model_name": "LayoutModel",
      "state": {
       "grid_area": "pathlist",
       "width": "auto"
      }
     },
     "1687f2ea267f44cb9ada2c1e76f26f54": {
      "model_module": "@jupyter-widgets/controls",
      "model_module_version": "1.5.0",
      "model_name": "DescriptionStyleModel",
      "state": {
       "description_width": "initial"
      }
     },
     "16a3ebc5cdb245fabaf8a195f1449c47": {
      "model_module": "@jupyter-widgets/controls",
      "model_module_version": "1.5.0",
      "model_name": "TextModel",
      "state": {
       "layout": "IPY_MODEL_fd6d9a695cbe4e58b6ef99ab7f3c1d12",
       "placeholder": "output filename",
       "style": "IPY_MODEL_6b3b5cdce6774baebb5e0fbad5af372a",
       "value": "FlinFlon.geoh5"
      }
     },
     "16a43ebaf9194ad0b09972b5658e143a": {
      "model_module": "@jupyter-widgets/controls",
      "model_module_version": "1.5.0",
      "model_name": "VBoxModel",
      "state": {
       "children": [
        "IPY_MODEL_aa78468da2164d7a8016d615b656d5a0",
        "IPY_MODEL_c9d0962c895d48f3b382424973ff9c37",
        "IPY_MODEL_545f19a51c684b05b5e6b93bbdd5fe06",
        "IPY_MODEL_cb027f63cd73483daf9d8c1b3247eaef",
        "IPY_MODEL_3fac2ff63e144dd48a133a72f3014a65",
        "IPY_MODEL_0924aa704c3a4a638038912c7ba421bb",
        "IPY_MODEL_dbc3c05517d04866b742b42a9dc179b2"
       ],
       "layout": "IPY_MODEL_2429492a6b984800b236a96a4d0df7c9"
      }
     },
     "16b11b584f1649e7ab0c90d7ffdc5ed9": {
      "model_module": "@jupyter-widgets/controls",
      "model_module_version": "1.5.0",
      "model_name": "ButtonModel",
      "state": {
       "button_style": "danger",
       "description": "Export",
       "icon": "check",
       "layout": "IPY_MODEL_d8a594133a9c49daa9f58bf2af86c797",
       "style": "IPY_MODEL_ba60c9749e714c59b8ef2651a985c8fb",
       "tooltip": "Run computation"
      }
     },
     "16c733edaaa449d3a2c966899e1af8a5": {
      "model_module": "@jupyter-widgets/controls",
      "model_module_version": "1.5.0",
      "model_name": "ButtonModel",
      "state": {
       "description": "Change",
       "layout": "IPY_MODEL_b7800cd7997d4977add2a5861472a5f6",
       "style": "IPY_MODEL_b45abf8a74674cb0abd2ff3f3ad2d106"
      }
     },
     "1703f408c0204bc3b5f282e0dc690fd1": {
      "model_module": "@jupyter-widgets/controls",
      "model_module_version": "1.5.0",
      "model_name": "DescriptionStyleModel",
      "state": {
       "description_width": ""
      }
     },
     "1734d7fccfc34e6fab571989407e1902": {
      "model_module": "@jupyter-widgets/base",
      "model_module_version": "1.2.0",
      "model_name": "LayoutModel",
      "state": {
       "display": "none",
       "grid_area": "filename",
       "width": "auto"
      }
     },
     "1736921a2fc44778a958c9d11b2c77c2": {
      "model_module": "@jupyter-widgets/controls",
      "model_module_version": "1.5.0",
      "model_name": "DescriptionStyleModel",
      "state": {
       "description_width": ""
      }
     },
     "17453e6ec37041639ce96b72f1163062": {
      "model_module": "@jupyter-widgets/base",
      "model_module_version": "1.2.0",
      "model_name": "LayoutModel",
      "state": {}
     },
     "186a8939101e414eb86fd2c05d320432": {
      "model_module": "@jupyter-widgets/base",
      "model_module_version": "1.2.0",
      "model_name": "LayoutModel",
      "state": {
       "display": "none"
      }
     },
     "189c3c6541c94bb0928685aace71c3a3": {
      "model_module": "@jupyter-widgets/controls",
      "model_module_version": "1.5.0",
      "model_name": "DescriptionStyleModel",
      "state": {
       "description_width": "initial"
      }
     },
     "18d13628477046a28b9c68eaae5546f6": {
      "model_module": "@jupyter-widgets/controls",
      "model_module_version": "1.5.0",
      "model_name": "SelectModel",
      "state": {
       "_options_labels": [
        "..",
        "SimPEG_PFInversion",
        "Temp"
       ],
       "index": null,
       "layout": "IPY_MODEL_c223cc5112924ec9a9566aa5b3f4d685",
       "rows": 8,
       "style": "IPY_MODEL_d303d2919c4c434ba9e3c7adb91924a4"
      }
     },
     "18dfa62bb827453c8f132bc2d788ebac": {
      "model_module": "@jupyter-widgets/controls",
      "model_module_version": "1.5.0",
      "model_name": "LabelModel",
      "state": {
       "layout": "IPY_MODEL_0c3924b4a1be438e8dd54d2de6d3a1ef",
       "style": "IPY_MODEL_414804b4614948a78731965b9c123939",
       "value": "Workspace"
      }
     },
     "192e104ab3b34f98aab7380112ea0cb9": {
      "model_module": "@jupyter-widgets/base",
      "model_module_version": "1.2.0",
      "model_name": "LayoutModel",
      "state": {
       "display": "none",
       "width": "auto"
      }
     },
     "195a14ab40fc4f889f21eafe39781539": {
      "model_module": "@jupyter-widgets/controls",
      "model_module_version": "1.5.0",
      "model_name": "DescriptionStyleModel",
      "state": {
       "description_width": "initial"
      }
     },
     "1963480fc50a449b8e1d5c2b08ac6a33": {
      "model_module": "@jupyter-widgets/controls",
      "model_module_version": "1.5.0",
      "model_name": "DescriptionStyleModel",
      "state": {
       "description_width": "initial"
      }
     },
     "197f945a728347e3abdf305a3d7c76f4": {
      "model_module": "@jupyter-widgets/controls",
      "model_module_version": "1.5.0",
      "model_name": "VBoxModel",
      "state": {
       "children": [
        "IPY_MODEL_63cbcff45c2c47debc10d52f08f85855",
        "IPY_MODEL_79acda4d5de6469196a108d5386f39a4"
       ],
       "layout": "IPY_MODEL_7f1b2fe9231f4ad099b87f484d013d40"
      }
     },
     "19c4412ca6a8438aa4c6e351fe12a918": {
      "model_module": "@jupyter-widgets/controls",
      "model_module_version": "1.5.0",
      "model_name": "VBoxModel",
      "state": {
       "children": [
        "IPY_MODEL_16b11b584f1649e7ab0c90d7ffdc5ed9",
        "IPY_MODEL_ca1f4aa8842f43d499570ae67a306f33"
       ],
       "layout": "IPY_MODEL_79a3f7590e7645c0838f6fc0c37a87e3"
      }
     },
     "19efe21b67e14bcdac329d87750e9423": {
      "model_module": "@jupyter-widgets/controls",
      "model_module_version": "1.5.0",
      "model_name": "ButtonModel",
      "state": {
       "description": "Cancel",
       "layout": "IPY_MODEL_4f3aab0dffbf445caae91f47b229e9ea",
       "style": "IPY_MODEL_cc384b8696a14db48141e24bf29610dd"
      }
     },
     "1a109d1beaf5413fa654286026511f3c": {
      "model_module": "@jupyter-widgets/base",
      "model_module_version": "1.2.0",
      "model_name": "LayoutModel",
      "state": {
       "width": "75%"
      }
     },
     "1a9332c69ee04642bb56ccb798bf340f": {
      "model_module": "@jupyter-widgets/controls",
      "model_module_version": "1.5.0",
      "model_name": "DescriptionStyleModel",
      "state": {
       "description_width": ""
      }
     },
     "1abc7f756b6444a297bf055edf5a8a5b": {
      "model_module": "@jupyter-widgets/controls",
      "model_module_version": "1.5.0",
      "model_name": "FloatTextModel",
      "state": {
       "description": "No-Data-Value",
       "layout": "IPY_MODEL_4aed85ddc25f4c90858c88949956e00b",
       "step": null,
       "style": "IPY_MODEL_a600d66edfff42fcb18a4568dc747df9",
       "value": -99999
      }
     },
     "1ac1b6c10fe54607b436a4624f6ef33e": {
      "model_module": "@jupyter-widgets/controls",
      "model_module_version": "1.5.0",
      "model_name": "DescriptionStyleModel",
      "state": {
       "description_width": ""
      }
     },
     "1b2be81a4dd242f1b9ffcd1051d89ee9": {
      "model_module": "@jupyter-widgets/controls",
      "model_module_version": "1.5.0",
      "model_name": "DescriptionStyleModel",
      "state": {
       "description_width": "initial"
      }
     },
     "1b6696372e1d4544bd47a5a9fa000cc3": {
      "model_module": "@jupyter-widgets/controls",
      "model_module_version": "1.5.0",
      "model_name": "VBoxModel",
      "state": {
       "children": [
        "IPY_MODEL_84429757543d44cf8b22cadf72040851",
        "IPY_MODEL_906dcdec3f76458d896549a6b9cbcaa2"
       ],
       "layout": "IPY_MODEL_9fb9dbb4f89845248547ce9bbc4c060e"
      }
     },
     "1be37e48441d4b228f7d592ca394fab1": {
      "model_module": "@jupyter-widgets/controls",
      "model_module_version": "1.5.0",
      "model_name": "SelectMultipleModel",
      "state": {
       "_options_labels": [
        "",
        "--- Channels ---",
        "Airborne_Gxx",
        "Airborne_Gxy",
        "Airborne_Gxz",
        "Airborne_Gyy",
        "Airborne_Gyz",
        "Airborne_Gz",
        "Airborne_Gzz",
        "Airborne_TMI",
        "Ground_Gz",
        "Z"
       ],
       "description": "Data: ",
       "index": [
        2
       ],
       "layout": "IPY_MODEL_504716b6c3ad4f72a7c1bc3eaf8c0d65",
       "rows": 5,
       "style": "IPY_MODEL_7b2d272cef6f4092a1a16d3264cf5137"
      }
     },
     "1c8ba3abcaab44c592ab8caea924341e": {
      "model_module": "@jupyter-widgets/controls",
      "model_module_version": "1.5.0",
      "model_name": "DescriptionStyleModel",
      "state": {
       "description_width": ""
      }
     },
     "1d6a0b4f9c3d4679b60bc78baf572949": {
      "model_module": "@jupyter-widgets/controls",
      "model_module_version": "1.5.0",
      "model_name": "ToggleButtonModel",
      "state": {
       "layout": "IPY_MODEL_943b53961cbb449c934b6ddd5d3d83ac",
       "style": "IPY_MODEL_999787e52c2f4131ac3faab31d524c01",
       "value": true
      }
     },
     "1da5a15022834cc595066c5f1f66b1ef": {
      "model_module": "@jupyter-widgets/controls",
      "model_module_version": "1.5.0",
      "model_name": "DropdownModel",
      "state": {
       "_options_labels": [
        "C:\\Users\\dominiquef\\Documents\\GIT\\mira\\mirageoscience-apps\\assets",
        "C:\\Users\\dominiquef\\Documents\\GIT\\mira\\mirageoscience-apps",
        "C:\\Users\\dominiquef\\Documents\\GIT\\mira",
        "C:\\Users\\dominiquef\\Documents\\GIT",
        "C:\\Users\\dominiquef\\Documents",
        "C:\\Users\\dominiquef",
        "C:\\Users",
        "C:\\",
        "D:\\",
        "Z:\\"
       ],
       "index": 0,
       "layout": "IPY_MODEL_630c9a1f69fc4750bcd679d6e046a51e",
       "style": "IPY_MODEL_319b2233895f4e8f917eeb3b6b96f582"
      }
     },
     "1da63a7d297f4200b0fde7a74fbb8bfb": {
      "model_module": "@jupyter-widgets/base",
      "model_module_version": "1.2.0",
      "model_name": "LayoutModel",
      "state": {}
     },
     "1db26a67538843ba8c9e6285e55eabb8": {
      "model_module": "@jupyter-widgets/base",
      "model_module_version": "1.2.0",
      "model_name": "LayoutModel",
      "state": {}
     },
     "1dd9505fb62844748e04320bbe4712e0": {
      "model_module": "@jupyter-widgets/controls",
      "model_module_version": "1.5.0",
      "model_name": "ButtonStyleModel",
      "state": {}
     },
     "1e0bcd39522042aba0b72bf1adba1566": {
      "model_module": "@jupyter-widgets/base",
      "model_module_version": "1.2.0",
      "model_name": "LayoutModel",
      "state": {}
     },
     "1e1b14acaaa64971844ac1aae95ddb1b": {
      "model_module": "@jupyter-widgets/controls",
      "model_module_version": "1.5.0",
      "model_name": "ButtonStyleModel",
      "state": {}
     },
     "1e6cb8eb8c414e58b6524b677b306a79": {
      "model_module": "@jupyter-widgets/base",
      "model_module_version": "1.2.0",
      "model_name": "LayoutModel",
      "state": {}
     },
     "1eb77dd364794c3886ad34153c5e7388": {
      "model_module": "@jupyter-widgets/controls",
      "model_module_version": "1.5.0",
      "model_name": "VBoxModel",
      "state": {
       "children": [
        "IPY_MODEL_52e0eb9652604da6a6444df7b98a9ff4",
        "IPY_MODEL_dac2bb7ed8794050b72e845831db7144"
       ],
       "layout": "IPY_MODEL_93ac0e40bac94132a3ce3c09d3f4079f"
      }
     },
     "1edb300c39774f9dba7ffd3f4b029cff": {
      "model_module": "@jupyter-widgets/base",
      "model_module_version": "1.2.0",
      "model_name": "LayoutModel",
      "state": {}
     },
     "1eee2da6edb64f65a1fee1a845c0003a": {
      "model_module": "@jupyter-widgets/base",
      "model_module_version": "1.2.0",
      "model_name": "LayoutModel",
      "state": {}
     },
     "1efc1bd745194365975787e25834c1cf": {
      "model_module": "@jupyter-widgets/controls",
      "model_module_version": "1.5.0",
      "model_name": "RadioButtonsModel",
      "state": {
       "_options_labels": [
        "float",
        "RGB"
       ],
       "description": "Type:",
       "index": 1,
       "layout": "IPY_MODEL_8a9450c024b74a5c92b944e63c1104be",
       "style": "IPY_MODEL_539bbc77b55a4effa2a9bb2af8f94b14"
      }
     },
     "1f2d42f56c244cc6973629a442ccd6e4": {
      "model_module": "@jupyter-widgets/controls",
      "model_module_version": "1.5.0",
      "model_name": "RadioButtonsModel",
      "state": {
       "_options_labels": [
        "float",
        "RGB"
       ],
       "description": "Type:",
       "index": 1,
       "layout": "IPY_MODEL_8e80dbeb8d2248e88ad774208ffbe728",
       "style": "IPY_MODEL_2bff9408066841919e60da347e2e6ce3"
      }
     },
     "1f4840d60e3b46fea687aeaf69e1871a": {
      "model_module": "@jupyter-widgets/base",
      "model_module_version": "1.2.0",
      "model_name": "LayoutModel",
      "state": {}
     },
     "1f7854d3d33b4ee3873362eb62ae7d45": {
      "model_module": "@jupyter-widgets/base",
      "model_module_version": "1.2.0",
      "model_name": "LayoutModel",
      "state": {
       "width": "auto"
      }
     },
     "1fb834970aa649ba83ede4990d8be643": {
      "model_module": "@jupyter-widgets/controls",
      "model_module_version": "1.5.0",
      "model_name": "VBoxModel",
      "state": {
       "children": [
        "IPY_MODEL_14536e7f532446cab2ce9c065e02e072",
        "IPY_MODEL_aa003954ce9546e68d83b51ac2846b9a"
       ],
       "layout": "IPY_MODEL_1db26a67538843ba8c9e6285e55eabb8"
      }
     },
     "20531519a6d942a985fc0ec27929fd25": {
      "model_module": "@jupyter-widgets/base",
      "model_module_version": "1.2.0",
      "model_name": "LayoutModel",
      "state": {
       "display": "none",
       "grid_area": "filename",
       "width": "auto"
      }
     },
     "205e78f0c0fb4918a30d63ad47b465a3": {
      "model_module": "@jupyter-widgets/controls",
      "model_module_version": "1.5.0",
      "model_name": "DescriptionStyleModel",
      "state": {
       "description_width": ""
      }
     },
     "20618388a3784cbe88e7d4bc7783947b": {
      "model_module": "@jupyter-widgets/base",
      "model_module_version": "1.2.0",
      "model_name": "LayoutModel",
      "state": {}
     },
     "207342b6a4a14c33bdc1df988a118357": {
      "model_module": "@jupyter-widgets/base",
      "model_module_version": "1.2.0",
      "model_name": "LayoutModel",
      "state": {}
     },
     "208c33ce483a45cfb99e22614dcaebf6": {
      "model_module": "@jupyter-widgets/controls",
      "model_module_version": "1.5.0",
      "model_name": "VBoxModel",
      "state": {
       "children": [
        "IPY_MODEL_d01c754b860847e3b788151abd4b64bb"
       ],
       "layout": "IPY_MODEL_97366ee7e93e4b4ebcd02abf9a046032"
      }
     },
     "214fb1c399394b288bd5ffbb390331f2": {
      "model_module": "@jupyter-widgets/controls",
      "model_module_version": "1.5.0",
      "model_name": "VBoxModel",
      "state": {
       "children": [
        "IPY_MODEL_daa881a16db94a628395c8028786288a",
        "IPY_MODEL_b18955aa307d49deade78df0a7b1c8f8",
        "IPY_MODEL_071fee7358ff4f98877f103e57bf66a8"
       ],
       "layout": "IPY_MODEL_69aae0de19b8435e878f9c5567a31815"
      }
     },
     "21c3e49ec04c4cdea71404378806da0b": {
      "model_module": "@jupyter-widgets/base",
      "model_module_version": "1.2.0",
      "model_name": "LayoutModel",
      "state": {
       "width": "auto"
      }
     },
     "21da18c750d84c738fbcab4b2f8385a9": {
      "model_module": "@jupyter-widgets/controls",
      "model_module_version": "1.5.0",
      "model_name": "VBoxModel",
      "state": {
       "children": [
        "IPY_MODEL_711de5f3659249439fa826468b9a2789",
        "IPY_MODEL_a1f55c73035b4856b52771911e53d8d8",
        "IPY_MODEL_093cc3f7112947bdaedb9861bb165e56"
       ],
       "layout": "IPY_MODEL_bc73ad0a0823448e9574d159e7842f31"
      }
     },
     "21e5198e5efa48d789be6c0ecc9771f9": {
      "model_module": "@jupyter-widgets/controls",
      "model_module_version": "1.5.0",
      "model_name": "ButtonStyleModel",
      "state": {}
     },
     "228751ae2e55462599587695bf2da767": {
      "model_module": "@jupyter-widgets/controls",
      "model_module_version": "1.5.0",
      "model_name": "DescriptionStyleModel",
      "state": {
       "description_width": "initial"
      }
     },
     "22b81bdd57ff497aa2a4a89a9cfaddca": {
      "model_module": "@jupyter-widgets/controls",
      "model_module_version": "1.5.0",
      "model_name": "TextModel",
      "state": {
       "layout": "IPY_MODEL_0cc651421c4743d783642a5af52d66af",
       "placeholder": "output filename",
       "style": "IPY_MODEL_7829630862ef4e9f88514ddc665e92db",
       "value": "FlinFlon.geoh5"
      }
     },
     "2365481059114f80835132bacafc5529": {
      "model_module": "@jupyter-widgets/controls",
      "model_module_version": "1.5.0",
      "model_name": "DescriptionStyleModel",
      "state": {
       "description_width": ""
      }
     },
     "238468b86ccb45dc9d0d7b3ce951382b": {
      "model_module": "@jupyter-widgets/controls",
      "model_module_version": "1.5.0",
      "model_name": "VBoxModel",
      "state": {
       "children": [
        "IPY_MODEL_5d4fc1f501524173b7246b6d47c9e0bb",
        "IPY_MODEL_c006be7f0394444cbbfeb2ba827eb2ad"
       ],
       "layout": "IPY_MODEL_b605309e9c3945ca8e1550f4550a6f1b"
      }
     },
     "23eda325de434eed807dfdbcd6c89f4d": {
      "model_module": "@jupyter-widgets/controls",
      "model_module_version": "1.5.0",
      "model_name": "TextModel",
      "state": {
       "disabled": true,
       "layout": "IPY_MODEL_26ed23cff0974fa3b86ce5f8d53ef5b6",
       "placeholder": "output filename",
       "style": "IPY_MODEL_a8a4a634f3a54038a8b39facb93cf014"
      }
     },
     "2400ed87cbdb47a1b5e04785973e0ad6": {
      "model_module": "@jupyter-widgets/controls",
      "model_module_version": "1.5.0",
      "model_name": "HTMLModel",
      "state": {
       "layout": "IPY_MODEL_a19e85b09b91442b86e342fa2ed36840",
       "style": "IPY_MODEL_867f752b67f4422e8689a2dd24668bd9"
      }
     },
     "2429492a6b984800b236a96a4d0df7c9": {
      "model_module": "@jupyter-widgets/base",
      "model_module_version": "1.2.0",
      "model_name": "LayoutModel",
      "state": {}
     },
     "24660ebdca7941a6bd087ce0a6cc1406": {
      "model_module": "@jupyter-widgets/controls",
      "model_module_version": "1.5.0",
      "model_name": "TextModel",
      "state": {
       "continuous_update": false,
       "description": "Save as:",
       "layout": "IPY_MODEL_1e0bcd39522042aba0b72bf1adba1566",
       "style": "IPY_MODEL_be648bea5c084a888fa395f7a1ac7b45",
       "value": "Gravity_Magnetics_drape60m"
      }
     },
     "24804e15ee1c401ab45ea9ec4bd8094c": {
      "model_module": "@jupyter-widgets/controls",
      "model_module_version": "1.5.0",
      "model_name": "ButtonModel",
      "state": {
       "description": "Change",
       "layout": "IPY_MODEL_a02f9f99b32a45428643c6d096a3ab99",
       "style": "IPY_MODEL_ecba4039ae834902bb8c232a68303914"
      }
     },
     "2498abca7705402f8955c7e3eaaaa8d2": {
      "model_module": "@jupyter-widgets/base",
      "model_module_version": "1.2.0",
      "model_name": "LayoutModel",
      "state": {
       "width": "75%"
      }
     },
     "24d37286bacb416f819e74756b23db9c": {
      "model_module": "@jupyter-widgets/controls",
      "model_module_version": "1.5.0",
      "model_name": "HBoxModel",
      "state": {
       "children": [
        "IPY_MODEL_98059e58c8aa421899526950a3336b90",
        "IPY_MODEL_eee37240ad6d4d699ae010a033ac4c82",
        "IPY_MODEL_f44f130073614bf9865596a34b0fa70b"
       ],
       "layout": "IPY_MODEL_21c3e49ec04c4cdea71404378806da0b"
      }
     },
     "24eb1c0e41ec4aa8b363b54476f5e93c": {
      "model_module": "@jupyter-widgets/controls",
      "model_module_version": "1.5.0",
      "model_name": "VBoxModel",
      "state": {
       "children": [
        "IPY_MODEL_3bd208341b3a4a2caac5f17603c8e976",
        "IPY_MODEL_f3d85dc2a2a84c1cb16ffce4316a5525"
       ],
       "layout": "IPY_MODEL_25a55fda01f743b7a6de7f2cd1ad8e97"
      }
     },
     "25a55fda01f743b7a6de7f2cd1ad8e97": {
      "model_module": "@jupyter-widgets/base",
      "model_module_version": "1.2.0",
      "model_name": "LayoutModel",
      "state": {}
     },
     "25bb599fbafa4a12bc81ed3f4b439966": {
      "model_module": "@jupyter-widgets/controls",
      "model_module_version": "1.5.0",
      "model_name": "SelectModel",
      "state": {
       "_options_labels": [
        "..",
        "SimPEG_PFInversion",
        "Temp",
        "FlinFlon.geoh5",
        "Gravity_Magnetics_drape60m_Airborne_Gxx.tif",
        "Gravity_Magnetics_drape60m_Airborne_Gxx_Colorbar.png",
        "Gravity_Magnetics_drape60m_Airborne_Gxx_RGB.txt",
        "MtDore_TMI.geoh5",
        "Octree_Mesh.json",
        "Octree_Mesh.ui.json",
        "Octree_Mesh_v2.json",
        "input.ui.geoh5",
        "input.ui.json",
        "options_tree.json",
        "test_no_root.py",
        "tester.ui.geoh5",
        "tester.ui.json"
       ],
       "index": 3,
       "layout": "IPY_MODEL_e506372c18f64a5299db128f4b74ad5c",
       "rows": 8,
       "style": "IPY_MODEL_75be046d5b964dc6955627414b30ca6d"
      }
     },
     "261120f700c942d0a5408dbcb3a7b3f1": {
      "model_module": "@jupyter-widgets/base",
      "model_module_version": "1.2.0",
      "model_name": "LayoutModel",
      "state": {}
     },
     "264906e97f374b5b96bccfacb8d098cc": {
      "model_module": "@jupyter-widgets/controls",
      "model_module_version": "1.5.0",
      "model_name": "ButtonStyleModel",
      "state": {}
     },
     "26906c5d36524e008311a72535beae73": {
      "model_module": "@jupyter-widgets/controls",
      "model_module_version": "1.5.0",
      "model_name": "DescriptionStyleModel",
      "state": {
       "description_width": ""
      }
     },
     "26933df903064ca48fcc5f61c4f0623e": {
      "model_module": "@jupyter-widgets/base",
      "model_module_version": "1.2.0",
      "model_name": "LayoutModel",
      "state": {}
     },
     "26ed23cff0974fa3b86ce5f8d53ef5b6": {
      "model_module": "@jupyter-widgets/base",
      "model_module_version": "1.2.0",
      "model_name": "LayoutModel",
      "state": {
       "display": "none",
       "grid_area": "filename",
       "width": "auto"
      }
     },
     "26ee73cc55fd476eaf7c89024874ebf8": {
      "model_module": "@jupyter-widgets/controls",
      "model_module_version": "1.5.0",
      "model_name": "ButtonModel",
      "state": {
       "description": "Create copy:",
       "layout": "IPY_MODEL_ed59d6d923df4d07bc9abd86e4764ee2",
       "style": "IPY_MODEL_f035ff915d86431cbf5a2267367238bb"
      }
     },
     "2701409aae8c4cc3b726b2de9b721ad2": {
      "model_module": "@jupyter-widgets/controls",
      "model_module_version": "1.5.0",
      "model_name": "DescriptionStyleModel",
      "state": {
       "description_width": ""
      }
     },
     "27122e0f58094eaf845022d96c235b35": {
      "model_module": "@jupyter-widgets/controls",
      "model_module_version": "1.5.0",
      "model_name": "LabelModel",
      "state": {
       "layout": "IPY_MODEL_f7d2b9a208514a4d835947ce32b8982f",
       "style": "IPY_MODEL_1963480fc50a449b8e1d5c2b08ac6a33",
       "value": "Monitoring folder"
      }
     },
     "274aa5ce31d342478b839a6ebe0f0d5d": {
      "model_module": "@jupyter-widgets/controls",
      "model_module_version": "1.5.0",
      "model_name": "VBoxModel",
      "state": {
       "children": [
        "IPY_MODEL_acfec0f4c909432f8acfe3d3ed9aae6f",
        "IPY_MODEL_cf51a00e19744204843f7cfc0ce765a4"
       ],
       "layout": "IPY_MODEL_e590f2ee7ade4ef984d5dd49d31ae0d9"
      }
     },
     "27a2474fe62e498e9cbcc98d9310945f": {
      "model_module": "@jupyter-widgets/controls",
      "model_module_version": "1.5.0",
      "model_name": "HTMLModel",
      "state": {
       "layout": "IPY_MODEL_64071734438b4ede985f35e16ad87734",
       "placeholder": "",
       "style": "IPY_MODEL_ebd83ad714ca4aa79e4a09705a16f92f",
       "value": "<span style=\"margin-left:10px; color:green;\">C:\\Users\\dominiquef\\Documents\\GIT\\mira\\mirageoscience-apps\\assets\\</span>"
      }
     },
     "27ac00d2fe3c4d8b889850d393a397f5": {
      "model_module": "@jupyter-widgets/base",
      "model_module_version": "1.2.0",
      "model_name": "LayoutModel",
      "state": {}
     },
     "282d689ff0a14759ace45de530127050": {
      "model_module": "@jupyter-widgets/controls",
      "model_module_version": "1.5.0",
      "model_name": "VBoxModel",
      "state": {
       "children": [
        "IPY_MODEL_db6f5b367faf44cb89af6b72f1b73074",
        "IPY_MODEL_bc3aea27f69b454f91348149f80b1587"
       ],
       "layout": "IPY_MODEL_392db5c4ff8a4b2da497514af2a72502"
      }
     },
     "28385a0c0863464b8b0ce51f49002aad": {
      "model_module": "@jupyter-widgets/controls",
      "model_module_version": "1.5.0",
      "model_name": "ButtonStyleModel",
      "state": {}
     },
     "2852ce0a97454ff8826307e4b80b14f7": {
      "model_module": "@jupyter-widgets/controls",
      "model_module_version": "1.5.0",
      "model_name": "FloatTextModel",
      "state": {
       "description": "No-Data-Value",
       "layout": "IPY_MODEL_bf8cc1e69e1040bc9eae812fc16ce174",
       "step": null,
       "style": "IPY_MODEL_7334784dd45e4fbf9f6e234160145887",
       "value": -99999
      }
     },
     "289708e9dbca4e8bb62569f8c7fe8561": {
      "model_module": "@jupyter-widgets/controls",
      "model_module_version": "1.5.0",
      "model_name": "DescriptionStyleModel",
      "state": {
       "description_width": ""
      }
     },
     "28ee6726c9b6430991d3d22bc6e2c51f": {
      "model_module": "@jupyter-widgets/controls",
      "model_module_version": "1.5.0",
      "model_name": "HTMLModel",
      "state": {
       "layout": "IPY_MODEL_4f8afc51b3a34badb1993e9132b7886f",
       "placeholder": "",
       "style": "IPY_MODEL_fc24c8b5f9d74a8f93b98d1f429b8866",
       "value": "<span style=\"margin-left:10px; color:orange;\">C:\\Users\\dominiquef\\Documents\\GIT\\mira\\mirageoscience-apps\\assets\\FlinFlon.geoh5</span>"
      }
     },
     "2941cf15505c4de4b5b310891541b865": {
      "model_module": "@jupyter-widgets/base",
      "model_module_version": "1.2.0",
      "model_name": "LayoutModel",
      "state": {
       "display": "none",
       "grid_area": "filename",
       "width": "auto"
      }
     },
     "2985bff4472642eb97564f49cc52d22d": {
      "model_module": "@jupyter-widgets/controls",
      "model_module_version": "1.5.0",
      "model_name": "ButtonModel",
      "state": {
       "description": "Create copy:",
       "layout": "IPY_MODEL_408b6550d4aa456483c1ad22d905a68f",
       "style": "IPY_MODEL_6da27e814e8a4cb69e7f3838f177b619"
      }
     },
     "29a98db18ee54e03b1cd38f3d8fc3b33": {
      "model_module": "@jupyter-widgets/base",
      "model_module_version": "1.2.0",
      "model_name": "LayoutModel",
      "state": {}
     },
     "29eb441dbb114e2b85b77c317f9c7cb6": {
      "model_module": "@jupyter-widgets/controls",
      "model_module_version": "1.5.0",
      "model_name": "VBoxModel",
      "state": {
       "children": [
        "IPY_MODEL_7b9f47c3dac84265ac23c80cc5207c91",
        "IPY_MODEL_e5614f0468c143ba9b2ee27b70498bbc",
        "IPY_MODEL_784df2395ef042c7b13366487c84eee9",
        "IPY_MODEL_8476de829b284b49a3518eb286c55d28",
        "IPY_MODEL_4513ad6acc8a4c478b373cf8575ece6d",
        "IPY_MODEL_b3f0c67f5e86404e87ac7b37f6ce6001",
        "IPY_MODEL_aa003954ce9546e68d83b51ac2846b9a"
       ],
       "layout": "IPY_MODEL_4063bc16605348f5b5d90e207f15834b"
      }
     },
     "29f9c24063f34a71ba7f27ae7cca427d": {
      "model_module": "@jupyter-widgets/controls",
      "model_module_version": "1.5.0",
      "model_name": "SelectModel",
      "state": {
       "_options_labels": [
        "..",
        "SimPEG_PFInversion",
        "Temp",
        "FlinFlon.geoh5",
        "Gravity_Magnetics_drape60m_Airborne_Gxx.tif",
        "Gravity_Magnetics_drape60m_Airborne_Gxx_Colorbar.png",
        "Gravity_Magnetics_drape60m_Airborne_Gxx_RGB.txt",
        "MtDore_TMI.geoh5",
        "Octree_Mesh.json",
        "Octree_Mesh.ui.json",
        "Octree_Mesh_v2.json",
        "input.ui.geoh5",
        "input.ui.json",
        "options_tree.json",
        "test_no_root.py",
        "tester.ui.geoh5",
        "tester.ui.json"
       ],
       "index": 3,
       "layout": "IPY_MODEL_5cc908c8d91342419a27f552e1b5b95c",
       "rows": 8,
       "style": "IPY_MODEL_34e98510d28546b6a3de13014be9e575"
      }
     },
     "2a2ac56e7e924cc1ad761ceeaf8a1db6": {
      "model_module": "@jupyter-widgets/controls",
      "model_module_version": "1.5.0",
      "model_name": "DropdownModel",
      "state": {
       "_options_labels": [
        "C:\\Users\\dominiquef\\Documents\\GIT\\mira\\mirageoscience-apps\\assets",
        "C:\\Users\\dominiquef\\Documents\\GIT\\mira\\mirageoscience-apps",
        "C:\\Users\\dominiquef\\Documents\\GIT\\mira",
        "C:\\Users\\dominiquef\\Documents\\GIT",
        "C:\\Users\\dominiquef\\Documents",
        "C:\\Users\\dominiquef",
        "C:\\Users",
        "C:\\",
        "D:\\",
        "Z:\\"
       ],
       "index": 0,
       "layout": "IPY_MODEL_e2b884b184d3474f848a957d94490026",
       "style": "IPY_MODEL_1ac1b6c10fe54607b436a4624f6ef33e"
      }
     },
     "2a49c03fc7fa435ebcb2ddc5372e51cf": {
      "model_module": "@jupyter-widgets/base",
      "model_module_version": "1.2.0",
      "model_name": "LayoutModel",
      "state": {
       "width": "auto"
      }
     },
     "2aaee3d4c9664ee690bdf2ddc10135c0": {
      "model_module": "@jupyter-widgets/controls",
      "model_module_version": "1.5.0",
      "model_name": "DropdownModel",
      "state": {
       "_options_labels": [
        "C:\\Users\\dominiquef\\Documents\\GIT\\mira\\mirageoscience-apps\\assets",
        "C:\\Users\\dominiquef\\Documents\\GIT\\mira\\mirageoscience-apps",
        "C:\\Users\\dominiquef\\Documents\\GIT\\mira",
        "C:\\Users\\dominiquef\\Documents\\GIT",
        "C:\\Users\\dominiquef\\Documents",
        "C:\\Users\\dominiquef",
        "C:\\Users",
        "C:\\",
        "D:\\",
        "Z:\\"
       ],
       "index": 0,
       "layout": "IPY_MODEL_4e396da35c6c4a03903272aaf2e57c45",
       "style": "IPY_MODEL_3c55f7f4bc9c416ab71eab343f0059b8"
      }
     },
     "2ae06a3b2848487b9c609f948d35c09f": {
      "model_module": "@jupyter-widgets/controls",
      "model_module_version": "1.5.0",
      "model_name": "ButtonModel",
      "state": {
       "description": "Change",
       "layout": "IPY_MODEL_4c4385aac6824036a13d9d51a90daa8c",
       "style": "IPY_MODEL_0b69cf1dde694db29a406502d389a21d"
      }
     },
     "2b7a604295144c49a9f9fb8eb500e4c0": {
      "model_module": "@jupyter-widgets/base",
      "model_module_version": "1.2.0",
      "model_name": "LayoutModel",
      "state": {
       "display": "none",
       "width": "auto"
      }
     },
     "2bfa689430c240729a27a333d7baa444": {
      "model_module": "@jupyter-widgets/base",
      "model_module_version": "1.2.0",
      "model_name": "LayoutModel",
      "state": {}
     },
     "2bff9408066841919e60da347e2e6ce3": {
      "model_module": "@jupyter-widgets/controls",
      "model_module_version": "1.5.0",
      "model_name": "DescriptionStyleModel",
      "state": {
       "description_width": "initial"
      }
     },
     "2c36c693503349e0afc61f3a1826076c": {
      "model_module": "@jupyter-widgets/base",
      "model_module_version": "1.2.0",
      "model_name": "LayoutModel",
      "state": {}
     },
     "2c5a9b1a0ea94468b7a070399527ec97": {
      "model_module": "@jupyter-widgets/controls",
      "model_module_version": "1.5.0",
      "model_name": "HBoxModel",
      "state": {
       "children": [
        "IPY_MODEL_97b79c1c996f437cbb9ba4385a8a6de8",
        "IPY_MODEL_bb0be385c1f74e21a9060bf8d440c8f5",
        "IPY_MODEL_30d2a5cb5c9e4b00af372bb8ae8b6487"
       ],
       "layout": "IPY_MODEL_04cfa5f87d004a47ae9c6571437b6996"
      }
     },
     "2cb22abcfd5e45009fd0fd7905cb8248": {
      "model_module": "@jupyter-widgets/base",
      "model_module_version": "1.2.0",
      "model_name": "LayoutModel",
      "state": {}
     },
     "2d4c7cdd12ff449a9bf78ca2f6f6ac50": {
      "model_module": "@jupyter-widgets/controls",
      "model_module_version": "1.5.0",
      "model_name": "DescriptionStyleModel",
      "state": {
       "description_width": ""
      }
     },
     "2d89ab3db6e6434b8f770f9ac859b8b8": {
      "model_module": "@jupyter-widgets/base",
      "model_module_version": "1.2.0",
      "model_name": "LayoutModel",
      "state": {}
     },
     "2dddf5f7e5cf4acfb51e9f257bbf6893": {
      "model_module": "@jupyter-widgets/base",
      "model_module_version": "1.2.0",
      "model_name": "LayoutModel",
      "state": {}
     },
     "2e098fd37b424fd2a0a0d291f5872f12": {
      "model_module": "@jupyter-widgets/base",
      "model_module_version": "1.2.0",
      "model_name": "LayoutModel",
      "state": {
       "grid_area": "pathlist",
       "width": "auto"
      }
     },
     "2e0f5a2c9b05480f85db8f59438b3b5c": {
      "model_module": "@jupyter-widgets/controls",
      "model_module_version": "1.5.0",
      "model_name": "HTMLModel",
      "state": {
       "layout": "IPY_MODEL_7f48879a2592476bbebad8e4967bc3df",
       "style": "IPY_MODEL_30ce71b185a340b1b03bc1760ec0a967"
      }
     },
     "2ebc4937244d40cf83d3ded7f127913a": {
      "model_module": "@jupyter-widgets/controls",
      "model_module_version": "1.5.0",
      "model_name": "SelectModel",
      "state": {
       "_options_labels": [
        "..",
        "Temp",
        "FlinFlon.geoh5",
        "Inversion_.json",
        "MtDore_TMI.geoh5"
       ],
       "index": 2,
       "layout": "IPY_MODEL_2fc983996e134dcea46c04c9dde40f8a",
       "rows": 8,
       "style": "IPY_MODEL_af79ff19262d4a9db8b532c63dcccc99"
      }
     },
     "2eeb655e87a1402fa79bd383f2bb59af": {
      "model_module": "@jupyter-widgets/controls",
      "model_module_version": "1.5.0",
      "model_name": "ButtonStyleModel",
      "state": {}
     },
     "2f77880d139c4b9eaa80c697392e9856": {
      "model_module": "@jupyter-widgets/controls",
      "model_module_version": "1.5.0",
      "model_name": "LabelModel",
      "state": {
       "layout": "IPY_MODEL_f36e854b82a140698401d84092cb354b",
       "style": "IPY_MODEL_e5c310aaa1b647e6be1125b33f571602",
       "value": "Monitoring folder"
      }
     },
     "2fabe6959ba740ea8353a53dd5ce1b43": {
      "model_module": "@jupyter-widgets/controls",
      "model_module_version": "1.5.0",
      "model_name": "DescriptionStyleModel",
      "state": {
       "description_width": "initial"
      }
     },
     "2fc983996e134dcea46c04c9dde40f8a": {
      "model_module": "@jupyter-widgets/base",
      "model_module_version": "1.2.0",
      "model_name": "LayoutModel",
      "state": {
       "grid_area": "dircontent",
       "width": "auto"
      }
     },
     "309683ea8d1b49d48a8cd3b76aa228bb": {
      "model_module": "@jupyter-widgets/base",
      "model_module_version": "1.2.0",
      "model_name": "LayoutModel",
      "state": {}
     },
     "30ce71b185a340b1b03bc1760ec0a967": {
      "model_module": "@jupyter-widgets/controls",
      "model_module_version": "1.5.0",
      "model_name": "DescriptionStyleModel",
      "state": {
       "description_width": ""
      }
     },
     "30d2a5cb5c9e4b00af372bb8ae8b6487": {
      "model_module": "@jupyter-widgets/controls",
      "model_module_version": "1.5.0",
      "model_name": "HTMLModel",
      "state": {
       "layout": "IPY_MODEL_63e6453af3364a5d85061038ea64f96b",
       "placeholder": "",
       "style": "IPY_MODEL_b805455005f340788652791232285d37",
       "value": "<span style=\"margin-left:10px; color:orange;\">C:\\Users\\dominiquef\\Documents\\GIT\\mira\\mirageoscience-apps\\assets\\FlinFlon.geoh5</span>"
      }
     },
     "30e2e54f6c9041b7bef2353d3db77d85": {
      "model_module": "@jupyter-widgets/controls",
      "model_module_version": "1.5.0",
      "model_name": "VBoxModel",
      "state": {
       "children": [
        "IPY_MODEL_19c4412ca6a8438aa4c6e351fe12a918",
        "IPY_MODEL_ee4129eeeae34ed680ae471e4ee84214"
       ],
       "layout": "IPY_MODEL_7b7a7dd5307b4881a0436ee12d2105c5"
      }
     },
     "315fe5e9d3044383b1c66a9f0e4e1032": {
      "model_module": "@jupyter-widgets/base",
      "model_module_version": "1.2.0",
      "model_name": "LayoutModel",
      "state": {}
     },
     "316b92f0bbf8403aa861bd6e7eb201fb": {
      "model_module": "@jupyter-widgets/controls",
      "model_module_version": "1.5.0",
      "model_name": "ButtonModel",
      "state": {
       "description": "Change",
       "layout": "IPY_MODEL_b358785b23a7492897d69246e80d5314",
       "style": "IPY_MODEL_9f078f97f7cb4733a82ea5ff814f036f"
      }
     },
     "319b2233895f4e8f917eeb3b6b96f582": {
      "model_module": "@jupyter-widgets/controls",
      "model_module_version": "1.5.0",
      "model_name": "DescriptionStyleModel",
      "state": {
       "description_width": ""
      }
     },
     "319da1f343214449ae7c272ff39d62e5": {
      "model_module": "@jupyter-widgets/controls",
      "model_module_version": "1.5.0",
      "model_name": "DescriptionStyleModel",
      "state": {
       "description_width": ""
      }
     },
     "32095945925e4041baed60f2cbbfc95f": {
      "model_module": "@jupyter-widgets/controls",
      "model_module_version": "1.5.0",
      "model_name": "HBoxModel",
      "state": {
       "children": [
        "IPY_MODEL_7ae565f8e63f4869a45ba9221b994fd1",
        "IPY_MODEL_6dc0a28d3d3c421d89b4864876c84f64"
       ],
       "layout": "IPY_MODEL_261120f700c942d0a5408dbcb3a7b3f1"
      }
     },
     "3235a1f296f9476bb387fff2e48b1789": {
      "model_module": "@jupyter-widgets/controls",
      "model_module_version": "1.5.0",
      "model_name": "HTMLModel",
      "state": {
       "layout": "IPY_MODEL_f35895403ad24ad8a23bde5a7461b1fc",
       "style": "IPY_MODEL_5ae9eb48375c4d2f91ed00cfc2ef5560"
      }
     },
     "32d0fa4e650e4ce382348b0074377424": {
      "model_module": "@jupyter-widgets/controls",
      "model_module_version": "1.5.0",
      "model_name": "DescriptionStyleModel",
      "state": {
       "description_width": ""
      }
     },
     "3381c51b50994d8584e6ce17b2a6c802": {
      "model_module": "@jupyter-widgets/controls",
      "model_module_version": "1.5.0",
      "model_name": "DescriptionStyleModel",
      "state": {
       "description_width": ""
      }
     },
     "33d0f415e6404038b80f3b81572813d9": {
      "model_module": "@jupyter-widgets/controls",
      "model_module_version": "1.5.0",
      "model_name": "DescriptionStyleModel",
      "state": {
       "description_width": "initial"
      }
     },
     "33fa2932af124eb0ba02877cfa9be430": {
      "model_module": "@jupyter-widgets/controls",
      "model_module_version": "1.5.0",
      "model_name": "DescriptionStyleModel",
      "state": {
       "description_width": ""
      }
     },
     "33fe6174ce1c4647bb034b6d0d519376": {
      "model_module": "@jupyter-widgets/base",
      "model_module_version": "1.2.0",
      "model_name": "LayoutModel",
      "state": {
       "width": "auto"
      }
     },
     "3406d113c88f4b62ac4bc7685c75acbd": {
      "model_module": "@jupyter-widgets/controls",
      "model_module_version": "1.5.0",
      "model_name": "HTMLModel",
      "state": {
       "layout": "IPY_MODEL_f5304a0fdcdc4e8da1e019e584e5264a",
       "placeholder": "",
       "style": "IPY_MODEL_63d1e6ca511c442e90fa9f8f3d010bb6",
       "value": "<span style=\"margin-left:10px; color:green;\">C:\\Users\\dominiquef\\Documents\\GIT\\mira\\mirageoscience-apps\\assets\\</span>"
      }
     },
     "3455aec573a047f49ebbe2a86c89410c": {
      "model_module": "@jupyter-widgets/base",
      "model_module_version": "1.2.0",
      "model_name": "LayoutModel",
      "state": {}
     },
     "349e5d300cbd4ffb9b07afbb1641dd82": {
      "model_module": "@jupyter-widgets/controls",
      "model_module_version": "1.5.0",
      "model_name": "VBoxModel",
      "state": {
       "children": [
        "IPY_MODEL_cb66bbc2b8934ff9a3a0effd9b0a5a69",
        "IPY_MODEL_a91df016660142d18fa423c8a0ff2b27",
        "IPY_MODEL_6720c968ee9942f89cc2a9b045e201cf"
       ],
       "layout": "IPY_MODEL_d3dad3dcaada445b81686d710dfe9482"
      }
     },
     "34bcbcdc85a543759f394fed83c45896": {
      "model_module": "@jupyter-widgets/base",
      "model_module_version": "1.2.0",
      "model_name": "LayoutModel",
      "state": {}
     },
     "34e98510d28546b6a3de13014be9e575": {
      "model_module": "@jupyter-widgets/controls",
      "model_module_version": "1.5.0",
      "model_name": "DescriptionStyleModel",
      "state": {
       "description_width": ""
      }
     },
     "3542436fe2bf4d7f87fe4ac51166e284": {
      "model_module": "@jupyter-widgets/controls",
      "model_module_version": "1.5.0",
      "model_name": "HBoxModel",
      "state": {
       "children": [
        "IPY_MODEL_316b92f0bbf8403aa861bd6e7eb201fb",
        "IPY_MODEL_70d9edf7d1a04c56890dea4052cd676c",
        "IPY_MODEL_27a2474fe62e498e9cbcc98d9310945f"
       ],
       "layout": "IPY_MODEL_a8a7125741d5447f8baa825cffb4c9b5"
      }
     },
     "354fea7e0f874436be95ed983a2650c8": {
      "model_module": "@jupyter-widgets/base",
      "model_module_version": "1.2.0",
      "model_name": "LayoutModel",
      "state": {
       "display": "none",
       "grid_gap": "0px 0px",
       "grid_template_areas": "\n                    'pathlist filename'\n                    'dircontent dircontent'\n                    ",
       "grid_template_columns": "60% 40%",
       "grid_template_rows": "auto auto",
       "width": "500px"
      }
     },
     "35c6766a961d4a4a8dfa8758fd1214a6": {
      "model_module": "@jupyter-widgets/controls",
      "model_module_version": "1.5.0",
      "model_name": "DescriptionStyleModel",
      "state": {
       "description_width": ""
      }
     },
     "35ef36f2809b44fc8879b9351657cd1e": {
      "model_module": "@jupyter-widgets/base",
      "model_module_version": "1.2.0",
      "model_name": "LayoutModel",
      "state": {}
     },
     "3605d7abb7eb4e48b0beb8ab732ecf17": {
      "model_module": "@jupyter-widgets/controls",
      "model_module_version": "1.5.0",
      "model_name": "DescriptionStyleModel",
      "state": {
       "description_width": ""
      }
     },
     "36140327b93e4edc826a79e430df8fb4": {
      "model_module": "@jupyter-widgets/base",
      "model_module_version": "1.2.0",
      "model_name": "LayoutModel",
      "state": {}
     },
     "362580fc75184e8a85c481a443836ee5": {
      "model_module": "@jupyter-widgets/controls",
      "model_module_version": "1.5.0",
      "model_name": "VBoxModel",
      "state": {
       "children": [
        "IPY_MODEL_e61eb31c3c7648d18eedf8a6fc091c42",
        "IPY_MODEL_4822d3994a1142faae65c4665072ef12"
       ],
       "layout": "IPY_MODEL_8453b0e809eb441cbeb83e6b5ae29a86"
      }
     },
     "362b633a6293456ab093a4e3150c9cf2": {
      "model_module": "@jupyter-widgets/controls",
      "model_module_version": "1.5.0",
      "model_name": "DescriptionStyleModel",
      "state": {
       "description_width": ""
      }
     },
     "366ad8bdd552411ab668e4f4af21405d": {
      "model_module": "@jupyter-widgets/controls",
      "model_module_version": "1.5.0",
      "model_name": "DescriptionStyleModel",
      "state": {
       "description_width": ""
      }
     },
     "369e345e9fd34ec4a8192c0aa68e99c7": {
      "model_module": "@jupyter-widgets/base",
      "model_module_version": "1.2.0",
      "model_name": "LayoutModel",
      "state": {
       "grid_area": "filename",
       "width": "auto"
      }
     },
     "3798d426e676456ba1eb82b100cc99e3": {
      "model_module": "@jupyter-widgets/controls",
      "model_module_version": "1.5.0",
      "model_name": "DescriptionStyleModel",
      "state": {
       "description_width": "initial"
      }
     },
     "37bd6fbfe8ac41648a86da5183321a91": {
      "model_module": "@jupyter-widgets/controls",
      "model_module_version": "1.5.0",
      "model_name": "DescriptionStyleModel",
      "state": {
       "description_width": ""
      }
     },
     "37f72f0047794ed08d7e5336dde56912": {
      "model_module": "@jupyter-widgets/controls",
      "model_module_version": "1.5.0",
      "model_name": "DescriptionStyleModel",
      "state": {
       "description_width": "initial"
      }
     },
     "38583c05f8144cd5bdea540bc4c79e35": {
      "model_module": "@jupyter-widgets/base",
      "model_module_version": "1.2.0",
      "model_name": "LayoutModel",
      "state": {}
     },
     "38623429e7ae4cf2abb169a2be3b5051": {
      "model_module": "@jupyter-widgets/controls",
      "model_module_version": "1.5.0",
      "model_name": "ButtonModel",
      "state": {
       "description": "Cancel",
       "layout": "IPY_MODEL_137f83453a04412c9dfd8105379c4e9a",
       "style": "IPY_MODEL_e522b3e7fc124804bc768c04b3f6ea3e"
      }
     },
     "387d099a82454608a15c3f54566f5535": {
      "model_module": "@jupyter-widgets/controls",
      "model_module_version": "1.5.0",
      "model_name": "TextareaModel",
      "state": {
       "continuous_update": false,
       "description": "WKT:",
       "layout": "IPY_MODEL_7fbe41851c42442e910bbd07ec5f3a93",
       "style": "IPY_MODEL_c621de334c334e679597c32be0ff3e69",
       "value": "PROJCS[\"NAD83 / UTM zone 14N\",GEOGCS[\"NAD83\",DATUM[\"North_American_Datum_1983\",SPHEROID[\"GRS 1980\",6378137,298.257222101,AUTHORITY[\"EPSG\",\"7019\"]],AUTHORITY[\"EPSG\",\"6269\"]],PRIMEM[\"Greenwich\",0,AUTHORITY[\"EPSG\",\"8901\"]],UNIT[\"degree\",0.0174532925199433,AUTHORITY[\"EPSG\",\"9122\"]],AUTHORITY[\"EPSG\",\"4269\"]],PROJECTION[\"Transverse_Mercator\"],PARAMETER[\"latitude_of_origin\",0],PARAMETER[\"central_meridian\",-99],PARAMETER[\"scale_factor\",0.9996],PARAMETER[\"false_easting\",500000],PARAMETER[\"false_northing\",0],UNIT[\"metre\",1,AUTHORITY[\"EPSG\",\"9001\"]],AXIS[\"Easting\",EAST],AXIS[\"Northing\",NORTH],AUTHORITY[\"EPSG\",\"26914\"]]"
      }
     },
     "38a49e97688741279f8ae295cc93dea5": {
      "model_module": "@jupyter-widgets/controls",
      "model_module_version": "1.5.0",
      "model_name": "TextareaModel",
      "state": {
       "continuous_update": false,
       "description": "WKT:",
       "layout": "IPY_MODEL_c7f06b88f7a341f4b3f7b187dde22c0c",
       "style": "IPY_MODEL_366ad8bdd552411ab668e4f4af21405d",
       "value": "PROJCS[\"NAD83 / UTM zone 14N\",GEOGCS[\"NAD83\",DATUM[\"North_American_Datum_1983\",SPHEROID[\"GRS 1980\",6378137,298.257222101,AUTHORITY[\"EPSG\",\"7019\"]],AUTHORITY[\"EPSG\",\"6269\"]],PRIMEM[\"Greenwich\",0,AUTHORITY[\"EPSG\",\"8901\"]],UNIT[\"degree\",0.0174532925199433,AUTHORITY[\"EPSG\",\"9122\"]],AUTHORITY[\"EPSG\",\"4269\"]],PROJECTION[\"Transverse_Mercator\"],PARAMETER[\"latitude_of_origin\",0],PARAMETER[\"central_meridian\",-99],PARAMETER[\"scale_factor\",0.9996],PARAMETER[\"false_easting\",500000],PARAMETER[\"false_northing\",0],UNIT[\"metre\",1,AUTHORITY[\"EPSG\",\"9001\"]],AXIS[\"Easting\",EAST],AXIS[\"Northing\",NORTH],AUTHORITY[\"EPSG\",\"26914\"]]"
      }
     },
     "38baa11dbad84c8da4208f3293ab4cb5": {
      "model_module": "@jupyter-widgets/controls",
      "model_module_version": "1.5.0",
      "model_name": "VBoxModel",
      "state": {
       "children": [
        "IPY_MODEL_689156964fc646ae84938a72a0364385",
        "IPY_MODEL_b2362ccd64a5446499b2497fc847cc48"
       ],
       "layout": "IPY_MODEL_3455aec573a047f49ebbe2a86c89410c"
      }
     },
     "38d5a037833b4b238170c953e6b59692": {
      "model_module": "@jupyter-widgets/controls",
      "model_module_version": "1.5.0",
      "model_name": "DropdownModel",
      "state": {
       "_options_labels": [
        "ESRI shapefile",
        "csv",
        "geotiff",
        "UBC format"
       ],
       "description": "Export type",
       "index": 2,
       "layout": "IPY_MODEL_ed56578c65e04a1ca0f80128e21d8011",
       "style": "IPY_MODEL_a75bece7e66840ce8da0e89cb660aee6"
      }
     },
     "38f824c3e16e41ae9bae3d418250ec72": {
      "model_module": "@jupyter-widgets/controls",
      "model_module_version": "1.5.0",
      "model_name": "DescriptionStyleModel",
      "state": {
       "description_width": ""
      }
     },
     "39081f58ffc24a2385d23b3e867ef0a5": {
      "model_module": "@jupyter-widgets/base",
      "model_module_version": "1.2.0",
      "model_name": "LayoutModel",
      "state": {}
     },
     "392db5c4ff8a4b2da497514af2a72502": {
      "model_module": "@jupyter-widgets/base",
      "model_module_version": "1.2.0",
      "model_name": "LayoutModel",
      "state": {}
     },
     "3931044f64324d7cb1b826fb94281380": {
      "model_module": "@jupyter-widgets/controls",
      "model_module_version": "1.5.0",
      "model_name": "GridBoxModel",
      "state": {
       "children": [
        "IPY_MODEL_0466943893194045800df54fada8e46b",
        "IPY_MODEL_ab2ace3429b84fedbcfaf5da84b78580",
        "IPY_MODEL_a279d579787f4cfba313faa1fe454488"
       ],
       "layout": "IPY_MODEL_354fea7e0f874436be95ed983a2650c8"
      }
     },
     "3a28abcc63aa4664b8e5b462456c19d5": {
      "model_module": "@jupyter-widgets/controls",
      "model_module_version": "1.5.0",
      "model_name": "ButtonStyleModel",
      "state": {}
     },
     "3a538e11adc54dacb7f629ff7c8777ed": {
      "model_module": "@jupyter-widgets/base",
      "model_module_version": "1.2.0",
      "model_name": "LayoutModel",
      "state": {}
     },
     "3a89d225358641b8988b1ec5c07989d1": {
      "model_module": "@jupyter-widgets/base",
      "model_module_version": "1.2.0",
      "model_name": "LayoutModel",
      "state": {}
     },
     "3a925806e924466e89e9304d282686a1": {
      "model_module": "@jupyter-widgets/controls",
      "model_module_version": "1.5.0",
      "model_name": "DescriptionStyleModel",
      "state": {
       "description_width": ""
      }
     },
     "3b12887cee9344d184829dd689f713e2": {
      "model_module": "@jupyter-widgets/controls",
      "model_module_version": "1.5.0",
      "model_name": "HTMLModel",
      "state": {
       "layout": "IPY_MODEL_97f15aa259fc4b61872201b4eec7a612",
       "style": "IPY_MODEL_41a476076a244debbbc3011960c22736"
      }
     },
     "3bd208341b3a4a2caac5f17603c8e976": {
      "model_module": "@jupyter-widgets/controls",
      "model_module_version": "1.5.0",
      "model_name": "LabelModel",
      "state": {
       "layout": "IPY_MODEL_8c60b08fb910411194c886ef1e80dc95",
       "style": "IPY_MODEL_62e5119853444647be8ce57ab86b23a2",
       "value": "Workspace"
      }
     },
     "3be0e9748caf445f9c28b16d53b95e52": {
      "model_module": "@jupyter-widgets/base",
      "model_module_version": "1.2.0",
      "model_name": "LayoutModel",
      "state": {}
     },
     "3bee6be30e0c4c73aca4d8a469fefea7": {
      "model_module": "@jupyter-widgets/controls",
      "model_module_version": "1.5.0",
      "model_name": "VBoxModel",
      "state": {
       "children": [
        "IPY_MODEL_7b8a40c47fc1458bb5e07f374bc84975",
        "IPY_MODEL_6223406e69a744a988645fb38226eeb6"
       ],
       "layout": "IPY_MODEL_5054ed647a3941eea55b68598d7d3ef4"
      }
     },
     "3c09b9acf9c642aa89b7ec0238195e5e": {
      "model_module": "@jupyter-widgets/controls",
      "model_module_version": "1.5.0",
      "model_name": "VBoxModel",
      "state": {
       "children": [
        "IPY_MODEL_8ff1bdb760734a05b3f9c9ddc87d1c87",
        "IPY_MODEL_b5ec999d3b4b43ea831dd15d5a9ab4a4"
       ],
       "layout": "IPY_MODEL_74c7fd30265d42ada988b0a7346a58ea"
      }
     },
     "3c55f7f4bc9c416ab71eab343f0059b8": {
      "model_module": "@jupyter-widgets/controls",
      "model_module_version": "1.5.0",
      "model_name": "DescriptionStyleModel",
      "state": {
       "description_width": ""
      }
     },
     "3c5ad3dc876d420a81f23609424a5050": {
      "model_module": "@jupyter-widgets/base",
      "model_module_version": "1.2.0",
      "model_name": "LayoutModel",
      "state": {}
     },
     "3c83e6e1dc3445a29dc324344703e6f3": {
      "model_module": "@jupyter-widgets/base",
      "model_module_version": "1.2.0",
      "model_name": "LayoutModel",
      "state": {
       "width": "75%"
      }
     },
     "3cd3c0c2c9304964b2c945bcdaceae77": {
      "model_module": "@jupyter-widgets/controls",
      "model_module_version": "1.5.0",
      "model_name": "TextModel",
      "state": {
       "disabled": true,
       "layout": "IPY_MODEL_e7b05a57c60f4d1aaefa6ebb25c9a196",
       "placeholder": "output filename",
       "style": "IPY_MODEL_b374a014883648219a698eb19532288b"
      }
     },
     "3ceae8b4c34e4b7589bc3e833c457c00": {
      "model_module": "@jupyter-widgets/controls",
      "model_module_version": "1.5.0",
      "model_name": "DescriptionStyleModel",
      "state": {
       "description_width": "initial"
      }
     },
     "3d20150d7a7c44009545533c7595bd4d": {
      "model_module": "@jupyter-widgets/controls",
      "model_module_version": "1.5.0",
      "model_name": "DescriptionStyleModel",
      "state": {
       "description_width": ""
      }
     },
     "3d5018ef2ce746fe8f24ab442b4b2ff9": {
      "model_module": "@jupyter-widgets/controls",
      "model_module_version": "1.5.0",
      "model_name": "TextareaModel",
      "state": {
       "continuous_update": false,
       "description": "WKT:",
       "layout": "IPY_MODEL_e13286a21ec04d59ac4b37aa42395bc8",
       "style": "IPY_MODEL_56a8c8ee2dcc40ff9fc3a7c262c5aae6",
       "value": "PROJCS[\"NAD83 / UTM zone 14N\",GEOGCS[\"NAD83\",DATUM[\"North_American_Datum_1983\",SPHEROID[\"GRS 1980\",6378137,298.257222101,AUTHORITY[\"EPSG\",\"7019\"]],AUTHORITY[\"EPSG\",\"6269\"]],PRIMEM[\"Greenwich\",0,AUTHORITY[\"EPSG\",\"8901\"]],UNIT[\"degree\",0.0174532925199433,AUTHORITY[\"EPSG\",\"9122\"]],AUTHORITY[\"EPSG\",\"4269\"]],PROJECTION[\"Transverse_Mercator\"],PARAMETER[\"latitude_of_origin\",0],PARAMETER[\"central_meridian\",-99],PARAMETER[\"scale_factor\",0.9996],PARAMETER[\"false_easting\",500000],PARAMETER[\"false_northing\",0],UNIT[\"metre\",1,AUTHORITY[\"EPSG\",\"9001\"]],AXIS[\"Easting\",EAST],AXIS[\"Northing\",NORTH],AUTHORITY[\"EPSG\",\"26914\"]]"
      }
     },
     "3dfe267c187844709436123a1169bdec": {
      "model_module": "@jupyter-widgets/controls",
      "model_module_version": "1.5.0",
      "model_name": "VBoxModel",
      "state": {
       "children": [
        "IPY_MODEL_3235a1f296f9476bb387fff2e48b1789",
        "IPY_MODEL_b809e5d9278c4f6eae566705e07e7d4f",
        "IPY_MODEL_5cbd072206654a9f9eb1c5e1f788da2c"
       ],
       "layout": "IPY_MODEL_76906da9179a4a87ba1e7874fc43f318"
      }
     },
     "3e293ccf2164434a942acca18016a344": {
      "model_module": "@jupyter-widgets/controls",
      "model_module_version": "1.5.0",
      "model_name": "TextModel",
      "state": {
       "continuous_update": false,
       "description": "Projection:",
       "layout": "IPY_MODEL_9f9d76d8c74447fe8be6fd9d02a7b50f",
       "style": "IPY_MODEL_a400fc0ebf454715abef36efb3663499",
       "value": "EPSG:26914"
      }
     },
     "3e73eaac96a34e71828bd500c4a515ea": {
      "model_module": "@jupyter-widgets/controls",
      "model_module_version": "1.5.0",
      "model_name": "HTMLModel",
      "state": {
       "layout": "IPY_MODEL_904cda1bcd1d443a8b89cc0a5a28d15d",
       "placeholder": "",
       "style": "IPY_MODEL_88636525799a426ba4ede152272501a6",
       "value": "<span style=\"margin-left:10px; color:orange;\">C:\\Users\\dominiquef\\Documents\\GIT\\mira\\mirageoscience-apps\\assets\\FlinFlon.geoh5</span>"
      }
     },
     "3e76b9b4636f4c9580ed5647046e9f12": {
      "model_module": "@jupyter-widgets/controls",
      "model_module_version": "1.5.0",
      "model_name": "ButtonModel",
      "state": {
       "description": "Change",
       "layout": "IPY_MODEL_885fb81c39584538b0e303a630d4f081",
       "style": "IPY_MODEL_581cd2a8057348f4b0a8a574bb11a2df"
      }
     },
     "3ec257c6bbf44fc99c8a0388237065c3": {
      "model_module": "@jupyter-widgets/controls",
      "model_module_version": "1.5.0",
      "model_name": "TextModel",
      "state": {
       "disabled": true,
       "layout": "IPY_MODEL_bf5420f544724b1581b41ca975283819",
       "placeholder": "output filename",
       "style": "IPY_MODEL_4484a5d38be6485bb640d98d14dddc1b"
      }
     },
     "3f12b5ea62604e53ab8b8e3131d2614d": {
      "model_module": "@jupyter-widgets/base",
      "model_module_version": "1.2.0",
      "model_name": "LayoutModel",
      "state": {
       "grid_area": "dircontent",
       "width": "auto"
      }
     },
     "3f370b10ceb04a69a2b5da4537e7193c": {
      "model_module": "@jupyter-widgets/controls",
      "model_module_version": "1.5.0",
      "model_name": "ButtonStyleModel",
      "state": {}
     },
     "3fa2ba99d2684d9c96d78ba8cbd1a074": {
      "model_module": "@jupyter-widgets/base",
      "model_module_version": "1.2.0",
      "model_name": "LayoutModel",
      "state": {
       "width": "auto"
      }
     },
     "3fac2ff63e144dd48a133a72f3014a65": {
      "model_module": "@jupyter-widgets/controls",
      "model_module_version": "1.5.0",
      "model_name": "TextModel",
      "state": {
       "continuous_update": false,
       "description": "Save as:",
       "layout": "IPY_MODEL_b268382a0172400d81e9b976f25b7786",
       "style": "IPY_MODEL_3381c51b50994d8584e6ce17b2a6c802"
      }
     },
     "3fc282683e294afbb987574b4b87651d": {
      "model_module": "@jupyter-widgets/controls",
      "model_module_version": "1.5.0",
      "model_name": "SelectModel",
      "state": {
       "_options_labels": [
        "..",
        "SimPEG_PFInversion",
        "Temp"
       ],
       "index": null,
       "layout": "IPY_MODEL_cf52f0a98e07402a823ecc7189639451",
       "rows": 8,
       "style": "IPY_MODEL_1c8ba3abcaab44c592ab8caea924341e"
      }
     },
     "3fc32f2c23414b259f550a0d943df58a": {
      "model_module": "@jupyter-widgets/controls",
      "model_module_version": "1.5.0",
      "model_name": "DescriptionStyleModel",
      "state": {
       "description_width": "initial"
      }
     },
     "400cda87e81444498cfefb667c60b845": {
      "model_module": "@jupyter-widgets/controls",
      "model_module_version": "1.5.0",
      "model_name": "VBoxModel",
      "state": {
       "children": [
        "IPY_MODEL_e881619a050c455bb11c8720e27e71d6",
        "IPY_MODEL_986a03203a784998bb0cceab1306f10d"
       ],
       "layout": "IPY_MODEL_b77fc5bed12647f38bc02f3f6d6c141f"
      }
     },
     "4019c944fc3a47e4b1f514f75b387a8c": {
      "model_module": "@jupyter-widgets/controls",
      "model_module_version": "1.5.0",
      "model_name": "VBoxModel",
      "state": {
       "children": [
        "IPY_MODEL_e002253fbd3d40c59e4cf919e05efcfe",
        "IPY_MODEL_abcf129fd6d84393aaded3282953f938"
       ],
       "layout": "IPY_MODEL_fd468409a16b43f5812ce73dbfc1c00d"
      }
     },
     "4063bc16605348f5b5d90e207f15834b": {
      "model_module": "@jupyter-widgets/base",
      "model_module_version": "1.2.0",
      "model_name": "LayoutModel",
      "state": {}
     },
     "408b6550d4aa456483c1ad22d905a68f": {
      "model_module": "@jupyter-widgets/base",
      "model_module_version": "1.2.0",
      "model_name": "LayoutModel",
      "state": {}
     },
     "41212bd0feef4ab6955f4f8e1a701585": {
      "model_module": "@jupyter-widgets/controls",
      "model_module_version": "1.5.0",
      "model_name": "DescriptionStyleModel",
      "state": {
       "description_width": ""
      }
     },
     "414804b4614948a78731965b9c123939": {
      "model_module": "@jupyter-widgets/controls",
      "model_module_version": "1.5.0",
      "model_name": "DescriptionStyleModel",
      "state": {
       "description_width": "initial"
      }
     },
     "41a476076a244debbbc3011960c22736": {
      "model_module": "@jupyter-widgets/controls",
      "model_module_version": "1.5.0",
      "model_name": "DescriptionStyleModel",
      "state": {
       "description_width": ""
      }
     },
     "4272ce00d58a4c7d854b965731f00a93": {
      "model_module": "@jupyter-widgets/controls",
      "model_module_version": "1.5.0",
      "model_name": "VBoxModel",
      "state": {
       "children": [
        "IPY_MODEL_bfd570b3863146bc83dc57fc17c9bde0",
        "IPY_MODEL_db279bb5332b4561909d2996acbac15b",
        "IPY_MODEL_2c5a9b1a0ea94468b7a070399527ec97"
       ],
       "layout": "IPY_MODEL_5fe89f7712d94ba5b83b1b9290ae3a9e"
      }
     },
     "432c7419d6c543f8b45da95ae25b8801": {
      "model_module": "@jupyter-widgets/base",
      "model_module_version": "1.2.0",
      "model_name": "LayoutModel",
      "state": {}
     },
     "4361bb0df96345ba8f4a9a3e42c34966": {
      "model_module": "@jupyter-widgets/controls",
      "model_module_version": "1.5.0",
      "model_name": "ButtonStyleModel",
      "state": {}
     },
     "43764ce117c1497998e5521407fc9e16": {
      "model_module": "@jupyter-widgets/controls",
      "model_module_version": "1.5.0",
      "model_name": "DescriptionStyleModel",
      "state": {
       "description_width": ""
      }
     },
     "437b7855a5c2469db3948b9592c099b8": {
      "model_module": "@jupyter-widgets/base",
      "model_module_version": "1.2.0",
      "model_name": "LayoutModel",
      "state": {}
     },
     "43dfa94901df4ac1a26db92fcda3ded3": {
      "model_module": "@jupyter-widgets/base",
      "model_module_version": "1.2.0",
      "model_name": "LayoutModel",
      "state": {}
     },
     "440549696a2d43459a489625325c6400": {
      "model_module": "@jupyter-widgets/base",
      "model_module_version": "1.2.0",
      "model_name": "LayoutModel",
      "state": {}
     },
     "442aea0a2a8e4b5484ff4b8dd082274d": {
      "model_module": "@jupyter-widgets/controls",
      "model_module_version": "1.5.0",
      "model_name": "DescriptionStyleModel",
      "state": {
       "description_width": ""
      }
     },
     "446c52e7b6724465a47087f65e1c2f85": {
      "model_module": "@jupyter-widgets/base",
      "model_module_version": "1.2.0",
      "model_name": "LayoutModel",
      "state": {
       "display": "none"
      }
     },
     "446da297ef284a0bbaa821ee06e55339": {
      "model_module": "@jupyter-widgets/controls",
      "model_module_version": "1.5.0",
      "model_name": "LabelModel",
      "state": {
       "layout": "IPY_MODEL_2dddf5f7e5cf4acfb51e9f257bbf6893",
       "style": "IPY_MODEL_e7631d3bbd744cd49b616a2779428f02",
       "value": "Workspace"
      }
     },
     "447e2b73e87a403e994fa4fc4890af3a": {
      "model_module": "@jupyter-widgets/controls",
      "model_module_version": "1.5.0",
      "model_name": "DescriptionStyleModel",
      "state": {
       "description_width": ""
      }
     },
     "4483f00f68174869a174ea24f11d3a8e": {
      "model_module": "@jupyter-widgets/controls",
      "model_module_version": "1.5.0",
      "model_name": "ButtonStyleModel",
      "state": {}
     },
     "4484a5d38be6485bb640d98d14dddc1b": {
      "model_module": "@jupyter-widgets/controls",
      "model_module_version": "1.5.0",
      "model_name": "DescriptionStyleModel",
      "state": {
       "description_width": ""
      }
     },
     "44a6cce900bf483fbfe49f5c974ccb5a": {
      "model_module": "@jupyter-widgets/controls",
      "model_module_version": "1.5.0",
      "model_name": "VBoxModel",
      "state": {
       "children": [
        "IPY_MODEL_7b9f47c3dac84265ac23c80cc5207c91",
        "IPY_MODEL_238468b86ccb45dc9d0d7b3ce951382b"
       ],
       "layout": "IPY_MODEL_8c9a1f9e106e42f68a12460f6247d166"
      }
     },
     "4513ad6acc8a4c478b373cf8575ece6d": {
      "model_module": "@jupyter-widgets/controls",
      "model_module_version": "1.5.0",
      "model_name": "TextModel",
      "state": {
       "continuous_update": false,
       "description": "Save as:",
       "layout": "IPY_MODEL_c40e74f6892b40e5a683d9455c7e526e",
       "style": "IPY_MODEL_473c0c1b7ec8431eb2484126f81c6d14"
      }
     },
     "453dec1916764505b0d8c70d87f93fb0": {
      "model_module": "@jupyter-widgets/base",
      "model_module_version": "1.2.0",
      "model_name": "LayoutModel",
      "state": {}
     },
     "456072cd4dd9492d91bbc73c4cd8b84c": {
      "model_module": "@jupyter-widgets/base",
      "model_module_version": "1.2.0",
      "model_name": "LayoutModel",
      "state": {}
     },
     "457ab12b871a4231b73ccd2687b60e7f": {
      "model_module": "@jupyter-widgets/controls",
      "model_module_version": "1.5.0",
      "model_name": "VBoxModel",
      "state": {
       "children": [
        "IPY_MODEL_c0b90510847d4abc842f3d68a2fb8a3d",
        "IPY_MODEL_38a49e97688741279f8ae295cc93dea5"
       ],
       "layout": "IPY_MODEL_ca12d7f5db2e4df884991aac9eaea99e"
      }
     },
     "45ba13ee492c4184bfb9e6c24428e1ff": {
      "model_module": "@jupyter-widgets/base",
      "model_module_version": "1.2.0",
      "model_name": "LayoutModel",
      "state": {
       "display": "none",
       "width": "auto"
      }
     },
     "45e1c4376bf24773a60678173daa09c4": {
      "model_module": "@jupyter-widgets/controls",
      "model_module_version": "1.5.0",
      "model_name": "ToggleButtonModel",
      "state": {
       "layout": "IPY_MODEL_0685779358cf4135921eecd154e3217c",
       "style": "IPY_MODEL_66b610119fc648e4b536bed7e81020f2",
       "value": true
      }
     },
     "464bd9cc607f4c85b126101e2051ae26": {
      "model_module": "@jupyter-widgets/controls",
      "model_module_version": "1.5.0",
      "model_name": "ButtonStyleModel",
      "state": {}
     },
     "465409bea84a4467955e1c316844ba84": {
      "model_module": "@jupyter-widgets/controls",
      "model_module_version": "1.5.0",
      "model_name": "DescriptionStyleModel",
      "state": {
       "description_width": ""
      }
     },
     "46c2e316d8054eeb884091266b74f265": {
      "model_module": "@jupyter-widgets/controls",
      "model_module_version": "1.5.0",
      "model_name": "DescriptionStyleModel",
      "state": {
       "description_width": ""
      }
     },
     "46c9c524116c4541b8f1a36003e35c78": {
      "model_module": "@jupyter-widgets/base",
      "model_module_version": "1.2.0",
      "model_name": "LayoutModel",
      "state": {}
     },
     "46e610e38605429fab6e5f883750c756": {
      "model_module": "@jupyter-widgets/base",
      "model_module_version": "1.2.0",
      "model_name": "LayoutModel",
      "state": {}
     },
     "470b15b7855a4aa8bd4e5b10fb1866b1": {
      "model_module": "@jupyter-widgets/base",
      "model_module_version": "1.2.0",
      "model_name": "LayoutModel",
      "state": {}
     },
     "473c0c1b7ec8431eb2484126f81c6d14": {
      "model_module": "@jupyter-widgets/controls",
      "model_module_version": "1.5.0",
      "model_name": "DescriptionStyleModel",
      "state": {
       "description_width": ""
      }
     },
     "477fe62ddf6d4c92896aea5bbfdc8693": {
      "model_module": "@jupyter-widgets/controls",
      "model_module_version": "1.5.0",
      "model_name": "ToggleButtonModel",
      "state": {
       "layout": "IPY_MODEL_bdb3cd8590a949c880b4db8e9d8b99be",
       "style": "IPY_MODEL_1703f408c0204bc3b5f282e0dc690fd1",
       "value": true
      }
     },
     "479e3ae0abc747418b8db01ba1487122": {
      "model_module": "@jupyter-widgets/base",
      "model_module_version": "1.2.0",
      "model_name": "LayoutModel",
      "state": {
       "display": "none"
      }
     },
     "4822d3994a1142faae65c4665072ef12": {
      "model_module": "@jupyter-widgets/controls",
      "model_module_version": "1.5.0",
      "model_name": "VBoxModel",
      "state": {
       "children": [
        "IPY_MODEL_631ceed5f1464ac8a9f8f2dc40648414",
        "IPY_MODEL_d1b0a521dcd242e4a88243964f773e86"
       ],
       "layout": "IPY_MODEL_dfdd0a8cfead4d06b85878be7fdadef7"
      }
     },
     "4862262e72ec4662ab1b47f2c28d62d6": {
      "model_module": "@jupyter-widgets/base",
      "model_module_version": "1.2.0",
      "model_name": "LayoutModel",
      "state": {}
     },
     "48678a4c94d44296b9d0936f7bb14d21": {
      "model_module": "@jupyter-widgets/controls",
      "model_module_version": "1.5.0",
      "model_name": "DescriptionStyleModel",
      "state": {
       "description_width": ""
      }
     },
     "4915d6826fcb408589be8c242a85be36": {
      "model_module": "@jupyter-widgets/controls",
      "model_module_version": "1.5.0",
      "model_name": "ButtonModel",
      "state": {
       "description": "Create copy:",
       "layout": "IPY_MODEL_9299a60b16f5443a95495b0a64cdab92",
       "style": "IPY_MODEL_542a3d9d257c413095e7f8a0ba03deef"
      }
     },
     "493a3add3c3341139473a529648dec09": {
      "model_module": "@jupyter-widgets/controls",
      "model_module_version": "1.5.0",
      "model_name": "DescriptionStyleModel",
      "state": {
       "description_width": ""
      }
     },
     "4949f38dc29a42218c088a8f17b4e181": {
      "model_module": "@jupyter-widgets/controls",
      "model_module_version": "1.5.0",
      "model_name": "ButtonStyleModel",
      "state": {}
     },
     "4a11f262180249dba21ef81a4655f79b": {
      "model_module": "@jupyter-widgets/controls",
      "model_module_version": "1.5.0",
      "model_name": "TextareaModel",
      "state": {
       "continuous_update": false,
       "description": "WKT:",
       "layout": "IPY_MODEL_1a109d1beaf5413fa654286026511f3c",
       "style": "IPY_MODEL_e2b20e2877ed46df945aafbd56aaca98",
       "value": "PROJCS[\"NAD83 / UTM zone 14N\",GEOGCS[\"NAD83\",DATUM[\"North_American_Datum_1983\",SPHEROID[\"GRS 1980\",6378137,298.257222101,AUTHORITY[\"EPSG\",\"7019\"]],AUTHORITY[\"EPSG\",\"6269\"]],PRIMEM[\"Greenwich\",0,AUTHORITY[\"EPSG\",\"8901\"]],UNIT[\"degree\",0.0174532925199433,AUTHORITY[\"EPSG\",\"9122\"]],AUTHORITY[\"EPSG\",\"4269\"]],PROJECTION[\"Transverse_Mercator\"],PARAMETER[\"latitude_of_origin\",0],PARAMETER[\"central_meridian\",-99],PARAMETER[\"scale_factor\",0.9996],PARAMETER[\"false_easting\",500000],PARAMETER[\"false_northing\",0],UNIT[\"metre\",1,AUTHORITY[\"EPSG\",\"9001\"]],AXIS[\"Easting\",EAST],AXIS[\"Northing\",NORTH],AUTHORITY[\"EPSG\",\"26914\"]]"
      }
     },
     "4a18167a1dd847cf9e2c0cedbbdab2c9": {
      "model_module": "@jupyter-widgets/controls",
      "model_module_version": "1.5.0",
      "model_name": "VBoxModel",
      "state": {
       "children": [
        "IPY_MODEL_8a8031276d7442119d5ce59c22c19f3a",
        "IPY_MODEL_dbc3c05517d04866b742b42a9dc179b2"
       ],
       "layout": "IPY_MODEL_3c5ad3dc876d420a81f23609424a5050"
      }
     },
     "4a9c9251659c479c872376e280c708f2": {
      "model_module": "@jupyter-widgets/controls",
      "model_module_version": "1.5.0",
      "model_name": "ButtonStyleModel",
      "state": {}
     },
     "4aa2cafa79c54451900d92f19e3e4279": {
      "model_module": "@jupyter-widgets/controls",
      "model_module_version": "1.5.0",
      "model_name": "DescriptionStyleModel",
      "state": {
       "description_width": "initial"
      }
     },
     "4abacc08e43c41319912dbb862e9868a": {
      "model_module": "@jupyter-widgets/controls",
      "model_module_version": "1.5.0",
      "model_name": "ButtonStyleModel",
      "state": {}
     },
     "4aed85ddc25f4c90858c88949956e00b": {
      "model_module": "@jupyter-widgets/base",
      "model_module_version": "1.2.0",
      "model_name": "LayoutModel",
      "state": {}
     },
     "4b057cd5de2644c08760bc2bba54c6ec": {
      "model_module": "@jupyter-widgets/base",
      "model_module_version": "1.2.0",
      "model_name": "LayoutModel",
      "state": {}
     },
     "4b3760319f9b4003a512bd4f75007e11": {
      "model_module": "@jupyter-widgets/base",
      "model_module_version": "1.2.0",
      "model_name": "LayoutModel",
      "state": {}
     },
     "4b3e6ae9713e493aadf135daae5664a2": {
      "model_module": "@jupyter-widgets/base",
      "model_module_version": "1.2.0",
      "model_name": "LayoutModel",
      "state": {}
     },
     "4b65866c2a2742f6bd56f965e6d23b16": {
      "model_module": "@jupyter-widgets/base",
      "model_module_version": "1.2.0",
      "model_name": "LayoutModel",
      "state": {
       "width": "auto"
      }
     },
     "4c2ba438cce24ea5b03b30265b84dc9e": {
      "model_module": "@jupyter-widgets/base",
      "model_module_version": "1.2.0",
      "model_name": "LayoutModel",
      "state": {
       "display": "none",
       "grid_gap": "0px 0px",
       "grid_template_areas": "\n                    'pathlist pathlist'\n                    'dircontent dircontent'\n                    ",
       "grid_template_columns": "60% 40%",
       "grid_template_rows": "auto auto",
       "width": "500px"
      }
     },
     "4c363571b4fd4be181c6e531c4f56c8b": {
      "model_module": "@jupyter-widgets/base",
      "model_module_version": "1.2.0",
      "model_name": "LayoutModel",
      "state": {}
     },
     "4c4385aac6824036a13d9d51a90daa8c": {
      "model_module": "@jupyter-widgets/base",
      "model_module_version": "1.2.0",
      "model_name": "LayoutModel",
      "state": {
       "width": "auto"
      }
     },
     "4c55dc2a227d47bab5b23a4933cff733": {
      "model_module": "@jupyter-widgets/controls",
      "model_module_version": "1.5.0",
      "model_name": "ButtonStyleModel",
      "state": {}
     },
     "4c79f0813eeb4ccb8b59455c8e29ba83": {
      "model_module": "@jupyter-widgets/controls",
      "model_module_version": "1.5.0",
      "model_name": "DescriptionStyleModel",
      "state": {
       "description_width": "initial"
      }
     },
     "4c7acbc22d5f46b891af7e07d6aca8bb": {
      "model_module": "@jupyter-widgets/controls",
      "model_module_version": "1.5.0",
      "model_name": "DropdownModel",
      "state": {
       "_options_labels": [
        "C:\\Users\\dominiquef\\Documents\\GIT\\mira\\mirageoscience-apps\\assets",
        "C:\\Users\\dominiquef\\Documents\\GIT\\mira\\mirageoscience-apps",
        "C:\\Users\\dominiquef\\Documents\\GIT\\mira",
        "C:\\Users\\dominiquef\\Documents\\GIT",
        "C:\\Users\\dominiquef\\Documents",
        "C:\\Users\\dominiquef",
        "C:\\Users",
        "C:\\",
        "D:\\",
        "Z:\\"
       ],
       "index": 0,
       "layout": "IPY_MODEL_ab5c7952a1564427afbd0891c8b8bd85",
       "style": "IPY_MODEL_7445ac134caa4368882c2e65b410a2f4"
      }
     },
     "4ce9426812694349a354dd02477220c9": {
      "model_module": "@jupyter-widgets/controls",
      "model_module_version": "1.5.0",
      "model_name": "DescriptionStyleModel",
      "state": {
       "description_width": ""
      }
     },
     "4cecf36c231c4b1d8e9a77f320eb6aad": {
      "model_module": "@jupyter-widgets/base",
      "model_module_version": "1.2.0",
      "model_name": "LayoutModel",
      "state": {}
     },
     "4d09102b8fbf4ed68e5f092297393c4a": {
      "model_module": "@jupyter-widgets/controls",
      "model_module_version": "1.5.0",
      "model_name": "DescriptionStyleModel",
      "state": {
       "description_width": ""
      }
     },
     "4d6320defe444479b3f492c594f8ee18": {
      "model_module": "@jupyter-widgets/controls",
      "model_module_version": "1.5.0",
      "model_name": "DropdownModel",
      "state": {
       "_options_labels": [
        "C:\\Users\\dominiquef\\Documents\\GIT\\mira\\mirageoscience-apps\\assets",
        "C:\\Users\\dominiquef\\Documents\\GIT\\mira\\mirageoscience-apps",
        "C:\\Users\\dominiquef\\Documents\\GIT\\mira",
        "C:\\Users\\dominiquef\\Documents\\GIT",
        "C:\\Users\\dominiquef\\Documents",
        "C:\\Users\\dominiquef",
        "C:\\Users",
        "C:\\",
        "D:\\",
        "Z:\\"
       ],
       "index": 0,
       "layout": "IPY_MODEL_5457c18b0117493fb54b8b57a0e6bfbb",
       "style": "IPY_MODEL_a60190036e4b45d486761ab09be17bde"
      }
     },
     "4dcc71953b51409a814cc89fdbdf327d": {
      "model_module": "@jupyter-widgets/controls",
      "model_module_version": "1.5.0",
      "model_name": "DescriptionStyleModel",
      "state": {
       "description_width": "initial"
      }
     },
     "4e33321ef25047a1bcfb6a97ad9e5f95": {
      "model_module": "@jupyter-widgets/base",
      "model_module_version": "1.2.0",
      "model_name": "LayoutModel",
      "state": {
       "display": "none",
       "width": "auto"
      }
     },
     "4e396da35c6c4a03903272aaf2e57c45": {
      "model_module": "@jupyter-widgets/base",
      "model_module_version": "1.2.0",
      "model_name": "LayoutModel",
      "state": {
       "grid_area": "pathlist",
       "width": "auto"
      }
     },
     "4e3d80e6e5474b4c83e13505a6879a0e": {
      "model_module": "@jupyter-widgets/controls",
      "model_module_version": "1.5.0",
      "model_name": "VBoxModel",
      "state": {
       "children": [
        "IPY_MODEL_1b6696372e1d4544bd47a5a9fa000cc3",
        "IPY_MODEL_68c8df4d9cc14e35a2db8c2eb2ef1246"
       ],
       "layout": "IPY_MODEL_315fe5e9d3044383b1c66a9f0e4e1032"
      }
     },
     "4ee2a0cec3f943e2b35e2b639c8ca035": {
      "model_module": "@jupyter-widgets/base",
      "model_module_version": "1.2.0",
      "model_name": "LayoutModel",
      "state": {}
     },
     "4f3aab0dffbf445caae91f47b229e9ea": {
      "model_module": "@jupyter-widgets/base",
      "model_module_version": "1.2.0",
      "model_name": "LayoutModel",
      "state": {
       "display": "none",
       "width": "auto"
      }
     },
     "4f7d4da9bd014a42961380ae3d0cbbf0": {
      "model_module": "@jupyter-widgets/controls",
      "model_module_version": "1.5.0",
      "model_name": "ButtonStyleModel",
      "state": {}
     },
     "4f8afc51b3a34badb1993e9132b7886f": {
      "model_module": "@jupyter-widgets/base",
      "model_module_version": "1.2.0",
      "model_name": "LayoutModel",
      "state": {}
     },
     "501ca7eedcba4996b499130b054e35ff": {
      "model_module": "@jupyter-widgets/controls",
      "model_module_version": "1.5.0",
      "model_name": "HTMLModel",
      "state": {
       "layout": "IPY_MODEL_309683ea8d1b49d48a8cd3b76aa228bb",
       "placeholder": "",
       "style": "IPY_MODEL_7a335f31580840b8be55584ae381dfac",
       "value": "<span style=\"margin-left:10px; color:orange;\">C:\\Users\\dominiquef\\Documents\\GIT\\mira\\mirageoscience-apps\\assets\\FlinFlon.geoh5</span>"
      }
     },
     "502553129ea14d059710202a90b13b38": {
      "model_module": "@jupyter-widgets/base",
      "model_module_version": "1.2.0",
      "model_name": "LayoutModel",
      "state": {}
     },
     "504716b6c3ad4f72a7c1bc3eaf8c0d65": {
      "model_module": "@jupyter-widgets/base",
      "model_module_version": "1.2.0",
      "model_name": "LayoutModel",
      "state": {}
     },
     "5054ed647a3941eea55b68598d7d3ef4": {
      "model_module": "@jupyter-widgets/base",
      "model_module_version": "1.2.0",
      "model_name": "LayoutModel",
      "state": {}
     },
     "510143562c8a434491d584a970fce135": {
      "model_module": "@jupyter-widgets/controls",
      "model_module_version": "1.5.0",
      "model_name": "VBoxModel",
      "state": {
       "children": [
        "IPY_MODEL_24eb1c0e41ec4aa8b363b54476f5e93c",
        "IPY_MODEL_fc5491fee01c40c69908e3adb231bb24",
        "IPY_MODEL_a87249f3232847bb9f51c65359749074",
        "IPY_MODEL_a9374932676148d19afb94cc007c1de4",
        "IPY_MODEL_729a4b676e5649aa86de9f0262aaf2c4",
        "IPY_MODEL_d7db254398154f37acd535d5be3cb6b8",
        "IPY_MODEL_7126f043322d458a809b5fc3731531f2"
       ],
       "layout": "IPY_MODEL_6836f4a3e29b40c3bf34ecba70dcd4fc"
      }
     },
     "5141bd62e4894fd68466f94dc797b8a5": {
      "model_module": "@jupyter-widgets/controls",
      "model_module_version": "1.5.0",
      "model_name": "DescriptionStyleModel",
      "state": {
       "description_width": ""
      }
     },
     "5142759c0c564aa2949f3aa7b4a356f6": {
      "model_module": "@jupyter-widgets/base",
      "model_module_version": "1.2.0",
      "model_name": "LayoutModel",
      "state": {
       "width": "auto"
      }
     },
     "514619807623464a8d6a2e1999f66d28": {
      "model_module": "@jupyter-widgets/base",
      "model_module_version": "1.2.0",
      "model_name": "LayoutModel",
      "state": {}
     },
     "515f2a430e784c259febd7e8aba7e4a1": {
      "model_module": "@jupyter-widgets/controls",
      "model_module_version": "1.5.0",
      "model_name": "ButtonModel",
      "state": {
       "description": "Change",
       "layout": "IPY_MODEL_f9207b119bdd4130ada2e95ed88baf79",
       "style": "IPY_MODEL_7e0e0183e00c4bc7b9eab8d7f3c581c6"
      }
     },
     "51e77c1845c14f85aa4c1a2e54e62921": {
      "model_module": "@jupyter-widgets/base",
      "model_module_version": "1.2.0",
      "model_name": "LayoutModel",
      "state": {}
     },
     "52125bc32f3a44f29e982406eb4ffae7": {
      "model_module": "@jupyter-widgets/controls",
      "model_module_version": "1.5.0",
      "model_name": "VBoxModel",
      "state": {
       "children": [
        "IPY_MODEL_27122e0f58094eaf845022d96c235b35",
        "IPY_MODEL_0afa2d113f4c4c75baf4ff0c0f435180"
       ],
       "layout": "IPY_MODEL_df3f2abfed1044478115a9cefcea08fa"
      }
     },
     "523aaa7787104276a64ea144c8e22ffc": {
      "model_module": "@jupyter-widgets/base",
      "model_module_version": "1.2.0",
      "model_name": "LayoutModel",
      "state": {}
     },
     "52e0eb9652604da6a6444df7b98a9ff4": {
      "model_module": "@jupyter-widgets/controls",
      "model_module_version": "1.5.0",
      "model_name": "VBoxModel",
      "state": {
       "children": [
        "IPY_MODEL_446da297ef284a0bbaa821ee06e55339",
        "IPY_MODEL_9c6b1bb53a4d4b148aee9e4bea1c5e03"
       ],
       "layout": "IPY_MODEL_a22d679d785f46858d46387fccb882e1"
      }
     },
     "52f265155b2e4b738948f93882b70fd3": {
      "model_module": "@jupyter-widgets/base",
      "model_module_version": "1.2.0",
      "model_name": "LayoutModel",
      "state": {}
     },
     "539bbc77b55a4effa2a9bb2af8f94b14": {
      "model_module": "@jupyter-widgets/controls",
      "model_module_version": "1.5.0",
      "model_name": "DescriptionStyleModel",
      "state": {
       "description_width": "initial"
      }
     },
     "542a3d9d257c413095e7f8a0ba03deef": {
      "model_module": "@jupyter-widgets/controls",
      "model_module_version": "1.5.0",
      "model_name": "ButtonStyleModel",
      "state": {}
     },
     "5457c18b0117493fb54b8b57a0e6bfbb": {
      "model_module": "@jupyter-widgets/base",
      "model_module_version": "1.2.0",
      "model_name": "LayoutModel",
      "state": {
       "grid_area": "pathlist",
       "width": "auto"
      }
     },
     "545f19a51c684b05b5e6b93bbdd5fe06": {
      "model_module": "@jupyter-widgets/controls",
      "model_module_version": "1.5.0",
      "model_name": "VBoxModel",
      "state": {
       "children": [
        "IPY_MODEL_7637c06863b34e32b181b0a2f3908b65",
        "IPY_MODEL_c550c94aa55e41718ff75ff7954b199d",
        "IPY_MODEL_7d1e33354a9f4280ad0c451d82782ade"
       ],
       "layout": "IPY_MODEL_2d89ab3db6e6434b8f770f9ac859b8b8"
      }
     },
     "54673da00d1b49859e683cfa681c6cf4": {
      "model_module": "@jupyter-widgets/base",
      "model_module_version": "1.2.0",
      "model_name": "LayoutModel",
      "state": {}
     },
     "5514a8209a264bbdb76c3a8b543eb38a": {
      "model_module": "@jupyter-widgets/base",
      "model_module_version": "1.2.0",
      "model_name": "LayoutModel",
      "state": {}
     },
     "555d01f183074480b123a7e184212e93": {
      "model_module": "@jupyter-widgets/base",
      "model_module_version": "1.2.0",
      "model_name": "LayoutModel",
      "state": {}
     },
     "556ae5cd934a401489057e439d1be51d": {
      "model_module": "@jupyter-widgets/controls",
      "model_module_version": "1.5.0",
      "model_name": "DropdownModel",
      "state": {
       "_options_labels": [
        "",
        "fault_splay1",
        "fault_Cliff_Lake",
        "fault_Other_FlinFlon",
        "fault_Club_Lake_splay",
        "fault_Catherine_splay2",
        "fault_Birch_View",
        "fault_Dion_Lake",
        "fault_FlinFlon_splay",
        "fault_West_Mandy_Road",
        "fault_Channing",
        "fault_Ross_Lake",
        "fault_Louis_Hidden",
        "fault_Lake_View_thrust",
        "contact_Schist_Lake",
        "fault_Burley_Lake",
        "fault_Dion_Lake_splay",
        "fault_Green_Lake",
        "fault_FlinFlon",
        "fault_Catherine_splay1",
        "fault_East_Mandy_Road",
        "fault_Other_FlinFlon_South",
        "fault_Catherine_splay4",
        "contact_Stitt_Island",
        "fault_Club_Lake",
        "fault_Tailing_Pond",
        "35_Hidden_Reservoir_Hr5",
        "29_Hidden_Reservoir_Hr1a",
        "60_BlueLagoon_Fb2",
        "20_FlinFlon_Undivided_Int_Dykes_D2f",
        "04_Boundary_Intrusive_S4h",
        "53_Millrock_Rhyolite_Fm4b",
        "19_FlinFlon_Undivided_Int_Dykes_D2b",
        "18_FlinFlon_Undivided_Int_Dykes_777_D2b",
        "06_Phantom_Lake_Intrusive_S3a",
        "21_FlinFlon_Undivided_Int_Dykes_D3a",
        "43_Millrock_CHLSH_South",
        "56_Millrock_Basalt_Fm1ba",
        "17_FlinFlon_Undivided_Int_Dykes_D2",
        "32_Hidden_Reservoir_Hr1b_SW",
        "11_Missi_M3_NE",
        "13_Missi_M1",
        "07_Annabel_Granitoid_S1",
        "45_Millrock_Gabbro_South",
        "01_Late_Intrusive_S5b",
        "31_Hidden_Reservoir_Hr1c_SW",
        "52_Millrock_Rhyolite_Fm4_West_check",
        "55_Millrock_Basalt_Fm1bf",
        "34_Hidden_Reservoir_Hr2b",
        "03_Boundary_Intrusive_S4b",
        "42_Millrock_CHLSH_North",
        "26_Louis_L3",
        "23_FlinFlon_Undivided_Int_Felsic_D4g",
        "30_Hidden_Reservoir_Hr1b",
        "59_BlueLagoon_Fb3",
        "49_Millrock_MVR_Fm5d",
        "44_Millrock_Gabbro_North",
        "27_Hidden_Carlisle_Hc4",
        "22_FlinFlon_Undivided_Int_Felsic_D4e",
        "02_Boundary_Intrusive_S4a",
        "61_BlueLagoon_Fb1_NW",
        "05_Boundary_Intrusive_S4g",
        "39_Ore_Callinan",
        "38_Ore_Dan_Owens",
        "40_Ore_FlinFlon",
        "Inversion_VTEM_Model",
        "Gravity_Magnetics_drape60m",
        "CDI_VTEM_model",
        "Data_FEM_pseudo3D",
        "O2O_Interp_25m",
        "geochem",
        "Inversion_DIGHEM_Model",
        "Topography",
        "Data_TEM_pseudo3D",
        "Data_ZTEM"
       ],
       "description": "Object:",
       "index": 66,
       "layout": "IPY_MODEL_edf364114f1a4c4cbf39486c3958d597",
       "style": "IPY_MODEL_7ed9631ad8544453b9e6a00621da7aac"
      }
     },
     "55abac6ca7784a06be65870ecfb1c265": {
      "model_module": "@jupyter-widgets/controls",
      "model_module_version": "1.5.0",
      "model_name": "HTMLModel",
      "state": {
       "layout": "IPY_MODEL_6fcfc35d10a444b3b00fd3e14651f659",
       "placeholder": "",
       "style": "IPY_MODEL_48678a4c94d44296b9d0936f7bb14d21",
       "value": "<span style=\"margin-left:10px; color:orange;\">C:\\Users\\dominiquef\\Documents\\GIT\\mira\\mirageoscience-apps\\assets\\FlinFlon.geoh5</span>"
      }
     },
     "55d10c924c8d49609a4cda70a1012bcb": {
      "model_module": "@jupyter-widgets/controls",
      "model_module_version": "1.5.0",
      "model_name": "ButtonModel",
      "state": {
       "description": "Create copy:",
       "layout": "IPY_MODEL_6a793e15df2540bea4d5132487b9bb7a",
       "style": "IPY_MODEL_dcfd922f16344abfbbdc646836ede8a6"
      }
     },
     "564adc1d17ed403cb1e574b40e4546ca": {
      "model_module": "@jupyter-widgets/controls",
      "model_module_version": "1.5.0",
      "model_name": "DescriptionStyleModel",
      "state": {
       "description_width": ""
      }
     },
     "565a81ccc4414c8fbf4b9a5f2e846bcf": {
      "model_module": "@jupyter-widgets/controls",
      "model_module_version": "1.5.0",
      "model_name": "DescriptionStyleModel",
      "state": {
       "description_width": "initial"
      }
     },
     "56a8c8ee2dcc40ff9fc3a7c262c5aae6": {
      "model_module": "@jupyter-widgets/controls",
      "model_module_version": "1.5.0",
      "model_name": "DescriptionStyleModel",
      "state": {
       "description_width": ""
      }
     },
     "571b7152d1354cdfb74716a0e03b3cc5": {
      "model_module": "@jupyter-widgets/controls",
      "model_module_version": "1.5.0",
      "model_name": "VBoxModel",
      "state": {
       "children": [
        "IPY_MODEL_a33884d714ce43eba7f4d3fc426bbf3d",
        "IPY_MODEL_7e1702869d574a9f91fb6a5b9c33ed61"
       ],
       "layout": "IPY_MODEL_e2b06ca113764c9ca2a3949b87f5c6e8"
      }
     },
     "574d07d2d41046be8f73e08d9560742f": {
      "model_module": "@jupyter-widgets/controls",
      "model_module_version": "1.5.0",
      "model_name": "FloatTextModel",
      "state": {
       "description": "No-Data-Value",
       "layout": "IPY_MODEL_440549696a2d43459a489625325c6400",
       "step": null,
       "style": "IPY_MODEL_1736921a2fc44778a958c9d11b2c77c2",
       "value": -99999
      }
     },
     "581cd2a8057348f4b0a8a574bb11a2df": {
      "model_module": "@jupyter-widgets/controls",
      "model_module_version": "1.5.0",
      "model_name": "ButtonStyleModel",
      "state": {}
     },
     "582c7106791147bfbc80df7dc63b8dc5": {
      "model_module": "@jupyter-widgets/controls",
      "model_module_version": "1.5.0",
      "model_name": "HTMLModel",
      "state": {
       "layout": "IPY_MODEL_446c52e7b6724465a47087f65e1c2f85",
       "style": "IPY_MODEL_786446d1bf1c48ffbbb4fab12ac49760"
      }
     },
     "58549bd89ff64caf80b1d391b6207402": {
      "model_module": "@jupyter-widgets/base",
      "model_module_version": "1.2.0",
      "model_name": "LayoutModel",
      "state": {}
     },
     "588282ab5e3f4b80b5b70dad5a0064ed": {
      "model_module": "@jupyter-widgets/base",
      "model_module_version": "1.2.0",
      "model_name": "LayoutModel",
      "state": {}
     },
     "5a03d77ef75c483cb68803a3bb87a4a2": {
      "model_module": "@jupyter-widgets/controls",
      "model_module_version": "1.5.0",
      "model_name": "DescriptionStyleModel",
      "state": {
       "description_width": ""
      }
     },
     "5a3dcefa62a946948d641c7e8ae8f551": {
      "model_module": "@jupyter-widgets/controls",
      "model_module_version": "1.5.0",
      "model_name": "DescriptionStyleModel",
      "state": {
       "description_width": ""
      }
     },
     "5a69c6d5cd144a3381760cf4a1d72e0c": {
      "model_module": "@jupyter-widgets/controls",
      "model_module_version": "1.5.0",
      "model_name": "DescriptionStyleModel",
      "state": {
       "description_width": ""
      }
     },
     "5a6f9cd2dccf47a48c4996afdc9f91a9": {
      "model_module": "@jupyter-widgets/controls",
      "model_module_version": "1.5.0",
      "model_name": "VBoxModel",
      "state": {
       "children": [
        "IPY_MODEL_a24a4709c76e45d49059a1765cbad962",
        "IPY_MODEL_0f6be1f0566a4f8fab5176036111fdff",
        "IPY_MODEL_6c40f3410fc246b6b8d092c7eda64d43"
       ],
       "layout": "IPY_MODEL_f70e0f84c75f4e5085f94e762c76353f"
      }
     },
     "5ae9eb48375c4d2f91ed00cfc2ef5560": {
      "model_module": "@jupyter-widgets/controls",
      "model_module_version": "1.5.0",
      "model_name": "DescriptionStyleModel",
      "state": {
       "description_width": ""
      }
     },
     "5b3ec45ee1694c108adcc6ac7a00305e": {
      "model_module": "@jupyter-widgets/base",
      "model_module_version": "1.2.0",
      "model_name": "LayoutModel",
      "state": {
       "width": "auto"
      }
     },
     "5bc6751aedba4c7a8744a116df7bfcff": {
      "model_module": "@jupyter-widgets/controls",
      "model_module_version": "1.5.0",
      "model_name": "HBoxModel",
      "state": {
       "children": [
        "IPY_MODEL_3bee6be30e0c4c73aca4d8a469fefea7",
        "IPY_MODEL_79dfca8bec80402eb38d13a7bf10853e"
       ],
       "layout": "IPY_MODEL_cde331ffeac945cca09645ffabdfe6ec"
      }
     },
     "5ca4a702fbd644378de0ebe4fbe27b00": {
      "model_module": "@jupyter-widgets/base",
      "model_module_version": "1.2.0",
      "model_name": "LayoutModel",
      "state": {
       "width": "auto"
      }
     },
     "5cbd072206654a9f9eb1c5e1f788da2c": {
      "model_module": "@jupyter-widgets/controls",
      "model_module_version": "1.5.0",
      "model_name": "HBoxModel",
      "state": {
       "children": [
        "IPY_MODEL_16c733edaaa449d3a2c966899e1af8a5",
        "IPY_MODEL_38623429e7ae4cf2abb169a2be3b5051",
        "IPY_MODEL_fa159facb58e4356a0a5d8c314945660"
       ],
       "layout": "IPY_MODEL_1f7854d3d33b4ee3873362eb62ae7d45"
      }
     },
     "5cc908c8d91342419a27f552e1b5b95c": {
      "model_module": "@jupyter-widgets/base",
      "model_module_version": "1.2.0",
      "model_name": "LayoutModel",
      "state": {
       "grid_area": "dircontent",
       "width": "auto"
      }
     },
     "5d1048a212184b1da2086255344f42c9": {
      "model_module": "@jupyter-widgets/base",
      "model_module_version": "1.2.0",
      "model_name": "LayoutModel",
      "state": {}
     },
     "5d477e3e05834b5d9094199c487a38ea": {
      "model_module": "@jupyter-widgets/controls",
      "model_module_version": "1.5.0",
      "model_name": "DropdownModel",
      "state": {
       "_options_labels": [
        "C:\\Users\\dominiquef\\Documents\\GIT\\mira\\mirageoscience-apps\\assets",
        "C:\\Users\\dominiquef\\Documents\\GIT\\mira\\mirageoscience-apps",
        "C:\\Users\\dominiquef\\Documents\\GIT\\mira",
        "C:\\Users\\dominiquef\\Documents\\GIT",
        "C:\\Users\\dominiquef\\Documents",
        "C:\\Users\\dominiquef",
        "C:\\Users",
        "C:\\",
        "D:\\",
        "Z:\\"
       ],
       "index": 0,
       "layout": "IPY_MODEL_a23e30d9851d41de8616a0a7133400d2",
       "style": "IPY_MODEL_26906c5d36524e008311a72535beae73"
      }
     },
     "5d4fc1f501524173b7246b6d47c9e0bb": {
      "model_module": "@jupyter-widgets/controls",
      "model_module_version": "1.5.0",
      "model_name": "VBoxModel",
      "state": {
       "children": [
        "IPY_MODEL_b3f0c67f5e86404e87ac7b37f6ce6001",
        "IPY_MODEL_7fef2d7539ce46198fc4d576f9fbd5c0"
       ],
       "layout": "IPY_MODEL_0b9da1153b6f439a921bbc108e6fb38c"
      }
     },
     "5d5e9a83ea114b99a9b37482a3bf2ccf": {
      "model_module": "@jupyter-widgets/controls",
      "model_module_version": "1.5.0",
      "model_name": "DescriptionStyleModel",
      "state": {
       "description_width": ""
      }
     },
     "5dd75bebc0bc4731834da0dc72da3f4a": {
      "model_module": "@jupyter-widgets/base",
      "model_module_version": "1.2.0",
      "model_name": "LayoutModel",
      "state": {
       "display": "none",
       "width": "auto"
      }
     },
     "5e6c750b204e4cb4953bc10826334a5a": {
      "model_module": "@jupyter-widgets/controls",
      "model_module_version": "1.5.0",
      "model_name": "GridBoxModel",
      "state": {
       "children": [
        "IPY_MODEL_1da5a15022834cc595066c5f1f66b1ef",
        "IPY_MODEL_b60fe6c11a864f1e8035810ecae17b1d",
        "IPY_MODEL_73cc871895da40488bcc742b550b703c"
       ],
       "layout": "IPY_MODEL_a34a6b6f6ef84110b101ac67177cb041"
      }
     },
     "5e8e0c9fb14242828d97fa7f876ddc4a": {
      "model_module": "@jupyter-widgets/controls",
      "model_module_version": "1.5.0",
      "model_name": "DescriptionStyleModel",
      "state": {
       "description_width": ""
      }
     },
     "5ecfe11e168847699a1c806c65004c22": {
      "model_module": "@jupyter-widgets/base",
      "model_module_version": "1.2.0",
      "model_name": "LayoutModel",
      "state": {}
     },
     "5f42b308305a4a499038c55c9b30780a": {
      "model_module": "@jupyter-widgets/base",
      "model_module_version": "1.2.0",
      "model_name": "LayoutModel",
      "state": {
       "grid_area": "dircontent",
       "width": "auto"
      }
     },
     "5fd93a739da047cdbf2ae10e50f21dec": {
      "model_module": "@jupyter-widgets/controls",
      "model_module_version": "1.5.0",
      "model_name": "ButtonStyleModel",
      "state": {}
     },
     "5fe44f05ab874cabbff43d0b99870e4a": {
      "model_module": "@jupyter-widgets/base",
      "model_module_version": "1.2.0",
      "model_name": "LayoutModel",
      "state": {
       "grid_area": "pathlist",
       "width": "auto"
      }
     },
     "5fe89f7712d94ba5b83b1b9290ae3a9e": {
      "model_module": "@jupyter-widgets/base",
      "model_module_version": "1.2.0",
      "model_name": "LayoutModel",
      "state": {
       "width": "auto"
      }
     },
     "6122fe022dc84f6080cffc6336634c71": {
      "model_module": "@jupyter-widgets/controls",
      "model_module_version": "1.5.0",
      "model_name": "DescriptionStyleModel",
      "state": {
       "description_width": ""
      }
     },
     "61df47fa9f1346899af5df81c05b1222": {
      "model_module": "@jupyter-widgets/controls",
      "model_module_version": "1.5.0",
      "model_name": "VBoxModel",
      "state": {
       "children": [
        "IPY_MODEL_d91e2e2ef1ac4cddb7ee9e7c2f73fbc7",
        "IPY_MODEL_1be37e48441d4b228f7d592ca394fab1"
       ],
       "layout": "IPY_MODEL_99571c913a2241da9c4ccb72aa2c63c6"
      }
     },
     "6223406e69a744a988645fb38226eeb6": {
      "model_module": "@jupyter-widgets/controls",
      "model_module_version": "1.5.0",
      "model_name": "SelectMultipleModel",
      "state": {
       "_options_labels": [
        "",
        "--- Channels ---",
        "Airborne_Gxx",
        "Airborne_Gxy",
        "Airborne_Gxz",
        "Airborne_Gyy",
        "Airborne_Gyz",
        "Airborne_Gz",
        "Airborne_Gzz",
        "Airborne_TMI",
        "Ground_Gz",
        "Z"
       ],
       "description": "Data: ",
       "index": [
        2
       ],
       "layout": "IPY_MODEL_502553129ea14d059710202a90b13b38",
       "rows": 5,
       "style": "IPY_MODEL_0e75678d0755488883bf6b231a0b7130"
      }
     },
     "626cbf94b9194a5a8dbe89b86cd09541": {
      "model_module": "@jupyter-widgets/base",
      "model_module_version": "1.2.0",
      "model_name": "LayoutModel",
      "state": {}
     },
     "62e5119853444647be8ce57ab86b23a2": {
      "model_module": "@jupyter-widgets/controls",
      "model_module_version": "1.5.0",
      "model_name": "DescriptionStyleModel",
      "state": {
       "description_width": "initial"
      }
     },
     "63007f97359445eca53693392a90a10d": {
      "model_module": "@jupyter-widgets/controls",
      "model_module_version": "1.5.0",
      "model_name": "DescriptionStyleModel",
      "state": {
       "description_width": ""
      }
     },
     "630c9a1f69fc4750bcd679d6e046a51e": {
      "model_module": "@jupyter-widgets/base",
      "model_module_version": "1.2.0",
      "model_name": "LayoutModel",
      "state": {
       "grid_area": "pathlist",
       "width": "auto"
      }
     },
     "631ceed5f1464ac8a9f8f2dc40648414": {
      "model_module": "@jupyter-widgets/controls",
      "model_module_version": "1.5.0",
      "model_name": "VBoxModel",
      "state": {
       "children": [
        "IPY_MODEL_f093c88bc61b4a9b9b20e2b5fc79f15f",
        "IPY_MODEL_bb0f53256ed94523b423c93d9c174e9b"
       ],
       "layout": "IPY_MODEL_dfd906ad7e51433ab7f58bed230cbd91"
      }
     },
     "63a2e3aaee2b452ea685543ea34e4657": {
      "model_module": "@jupyter-widgets/base",
      "model_module_version": "1.2.0",
      "model_name": "LayoutModel",
      "state": {}
     },
     "63cbcff45c2c47debc10d52f08f85855": {
      "model_module": "@jupyter-widgets/controls",
      "model_module_version": "1.5.0",
      "model_name": "DropdownModel",
      "state": {
       "_options_labels": [
        "",
        "fault_splay1",
        "fault_Cliff_Lake",
        "fault_Other_FlinFlon",
        "fault_Club_Lake_splay",
        "fault_Catherine_splay2",
        "fault_Birch_View",
        "fault_Dion_Lake",
        "fault_FlinFlon_splay",
        "fault_West_Mandy_Road",
        "fault_Channing",
        "fault_Ross_Lake",
        "fault_Louis_Hidden",
        "fault_Lake_View_thrust",
        "contact_Schist_Lake",
        "fault_Burley_Lake",
        "fault_Dion_Lake_splay",
        "fault_Green_Lake",
        "fault_FlinFlon",
        "fault_Catherine_splay1",
        "fault_East_Mandy_Road",
        "fault_Other_FlinFlon_South",
        "fault_Catherine_splay4",
        "contact_Stitt_Island",
        "fault_Club_Lake",
        "fault_Tailing_Pond",
        "35_Hidden_Reservoir_Hr5",
        "29_Hidden_Reservoir_Hr1a",
        "60_BlueLagoon_Fb2",
        "20_FlinFlon_Undivided_Int_Dykes_D2f",
        "04_Boundary_Intrusive_S4h",
        "53_Millrock_Rhyolite_Fm4b",
        "19_FlinFlon_Undivided_Int_Dykes_D2b",
        "18_FlinFlon_Undivided_Int_Dykes_777_D2b",
        "06_Phantom_Lake_Intrusive_S3a",
        "21_FlinFlon_Undivided_Int_Dykes_D3a",
        "43_Millrock_CHLSH_South",
        "56_Millrock_Basalt_Fm1ba",
        "17_FlinFlon_Undivided_Int_Dykes_D2",
        "32_Hidden_Reservoir_Hr1b_SW",
        "11_Missi_M3_NE",
        "13_Missi_M1",
        "07_Annabel_Granitoid_S1",
        "45_Millrock_Gabbro_South",
        "01_Late_Intrusive_S5b",
        "31_Hidden_Reservoir_Hr1c_SW",
        "52_Millrock_Rhyolite_Fm4_West_check",
        "55_Millrock_Basalt_Fm1bf",
        "34_Hidden_Reservoir_Hr2b",
        "03_Boundary_Intrusive_S4b",
        "42_Millrock_CHLSH_North",
        "26_Louis_L3",
        "23_FlinFlon_Undivided_Int_Felsic_D4g",
        "30_Hidden_Reservoir_Hr1b",
        "59_BlueLagoon_Fb3",
        "49_Millrock_MVR_Fm5d",
        "44_Millrock_Gabbro_North",
        "27_Hidden_Carlisle_Hc4",
        "22_FlinFlon_Undivided_Int_Felsic_D4e",
        "02_Boundary_Intrusive_S4a",
        "61_BlueLagoon_Fb1_NW",
        "05_Boundary_Intrusive_S4g",
        "39_Ore_Callinan",
        "38_Ore_Dan_Owens",
        "40_Ore_FlinFlon",
        "Inversion_VTEM_Model",
        "Gravity_Magnetics_drape60m",
        "CDI_VTEM_model",
        "Data_FEM_pseudo3D",
        "O2O_Interp_25m",
        "geochem",
        "Inversion_DIGHEM_Model",
        "Topography",
        "Data_TEM_pseudo3D",
        "Data_ZTEM"
       ],
       "description": "Object:",
       "index": 66,
       "layout": "IPY_MODEL_523aaa7787104276a64ea144c8e22ffc",
       "style": "IPY_MODEL_a89daf2ab7f04c35971f28375e7a1bae"
      }
     },
     "63d1e6ca511c442e90fa9f8f3d010bb6": {
      "model_module": "@jupyter-widgets/controls",
      "model_module_version": "1.5.0",
      "model_name": "DescriptionStyleModel",
      "state": {
       "description_width": ""
      }
     },
     "63e6453af3364a5d85061038ea64f96b": {
      "model_module": "@jupyter-widgets/base",
      "model_module_version": "1.2.0",
      "model_name": "LayoutModel",
      "state": {}
     },
     "63fa44ac39334a0f9b2de124a37e221a": {
      "model_module": "@jupyter-widgets/base",
      "model_module_version": "1.2.0",
      "model_name": "LayoutModel",
      "state": {
       "display": "none",
       "width": "auto"
      }
     },
     "6403af48834a418294b046c192a24658": {
      "model_module": "@jupyter-widgets/controls",
      "model_module_version": "1.5.0",
      "model_name": "HTMLModel",
      "state": {
       "layout": "IPY_MODEL_479e3ae0abc747418b8db01ba1487122",
       "style": "IPY_MODEL_2d4c7cdd12ff449a9bf78ca2f6f6ac50"
      }
     },
     "64071734438b4ede985f35e16ad87734": {
      "model_module": "@jupyter-widgets/base",
      "model_module_version": "1.2.0",
      "model_name": "LayoutModel",
      "state": {}
     },
     "642a658f54f24aa49b149b296369a344": {
      "model_module": "@jupyter-widgets/base",
      "model_module_version": "1.2.0",
      "model_name": "LayoutModel",
      "state": {
       "width": "auto"
      }
     },
     "646e8271ab5a452fb0a2c4cafc80a512": {
      "model_module": "@jupyter-widgets/controls",
      "model_module_version": "1.5.0",
      "model_name": "VBoxModel",
      "state": {
       "children": [
        "IPY_MODEL_9ff3bdbc46a1492986a41d6c1a8a7729",
        "IPY_MODEL_571b7152d1354cdfb74716a0e03b3cc5",
        "IPY_MODEL_1efc1bd745194365975787e25834c1cf"
       ],
       "layout": "IPY_MODEL_e0e808072bae44d9ace8f3c3c66b14fe"
      }
     },
     "64f7aafe2a0b46d98d5c597ac221c5cd": {
      "model_module": "@jupyter-widgets/controls",
      "model_module_version": "1.5.0",
      "model_name": "DescriptionStyleModel",
      "state": {
       "description_width": ""
      }
     },
     "6504c4ec972a47bdaadac519ae00d0c5": {
      "model_module": "@jupyter-widgets/base",
      "model_module_version": "1.2.0",
      "model_name": "LayoutModel",
      "state": {
       "display": "none"
      }
     },
     "6600197cab6d4f6c81f61cbcf6923d82": {
      "model_module": "@jupyter-widgets/controls",
      "model_module_version": "1.5.0",
      "model_name": "DescriptionStyleModel",
      "state": {
       "description_width": ""
      }
     },
     "66b610119fc648e4b536bed7e81020f2": {
      "model_module": "@jupyter-widgets/controls",
      "model_module_version": "1.5.0",
      "model_name": "DescriptionStyleModel",
      "state": {
       "description_width": ""
      }
     },
     "66cd1c069c3749f8abcd6e4ae881efca": {
      "model_module": "@jupyter-widgets/controls",
      "model_module_version": "1.5.0",
      "model_name": "HTMLModel",
      "state": {
       "layout": "IPY_MODEL_f0c7c16ae6554bd3b2bf01d8aa15f5b2",
       "placeholder": "",
       "style": "IPY_MODEL_64f7aafe2a0b46d98d5c597ac221c5cd",
       "value": "<span style=\"margin-left:10px; color:orange;\">C:\\Users\\dominiquef\\Documents\\GIT\\mira\\mirageoscience-apps\\assets\\FlinFlon.geoh5</span>"
      }
     },
     "670bb46f5c2947b1a6535a2c48a28aa6": {
      "model_module": "@jupyter-widgets/controls",
      "model_module_version": "1.5.0",
      "model_name": "DescriptionStyleModel",
      "state": {
       "description_width": ""
      }
     },
     "6720c968ee9942f89cc2a9b045e201cf": {
      "model_module": "@jupyter-widgets/controls",
      "model_module_version": "1.5.0",
      "model_name": "RadioButtonsModel",
      "state": {
       "_options_labels": [
        "float",
        "RGB"
       ],
       "description": "Type:",
       "index": 1,
       "layout": "IPY_MODEL_ebab9e4657d944bcbcbaa1df04e714ad",
       "style": "IPY_MODEL_e6ca0435cdce4076a132b998e54f13d3"
      }
     },
     "67def3098af34003b08e8790cc4e70d5": {
      "model_module": "@jupyter-widgets/base",
      "model_module_version": "1.2.0",
      "model_name": "LayoutModel",
      "state": {}
     },
     "6805f2c6e6df417f929c7416986abae8": {
      "model_module": "@jupyter-widgets/base",
      "model_module_version": "1.2.0",
      "model_name": "LayoutModel",
      "state": {
       "display": "none",
       "width": "auto"
      }
     },
     "6836f4a3e29b40c3bf34ecba70dcd4fc": {
      "model_module": "@jupyter-widgets/base",
      "model_module_version": "1.2.0",
      "model_name": "LayoutModel",
      "state": {}
     },
     "685c2abe7e1f4d47ab69b3861b6b1479": {
      "model_module": "@jupyter-widgets/base",
      "model_module_version": "1.2.0",
      "model_name": "LayoutModel",
      "state": {}
     },
     "6875153dc80143889aa1a5e26fe0ff17": {
      "model_module": "@jupyter-widgets/controls",
      "model_module_version": "1.5.0",
      "model_name": "DescriptionStyleModel",
      "state": {
       "description_width": ""
      }
     },
     "689156964fc646ae84938a72a0364385": {
      "model_module": "@jupyter-widgets/controls",
      "model_module_version": "1.5.0",
      "model_name": "VBoxModel",
      "state": {
       "children": [
        "IPY_MODEL_0924aa704c3a4a638038912c7ba421bb",
        "IPY_MODEL_efce112c8b2848c1a13a097972b41481"
       ],
       "layout": "IPY_MODEL_ec986b626b8548d3ad93f459f80a50e9"
      }
     },
     "68adeee8bffa427ba1152a8abc44f356": {
      "model_module": "@jupyter-widgets/controls",
      "model_module_version": "1.5.0",
      "model_name": "TextModel",
      "state": {
       "continuous_update": false,
       "description": "Projection:",
       "layout": "IPY_MODEL_4cecf36c231c4b1d8e9a77f320eb6aad",
       "style": "IPY_MODEL_bd49ecd4aa8d46f5bf4ce50178407caa",
       "value": "EPSG:26914"
      }
     },
     "68c8df4d9cc14e35a2db8c2eb2ef1246": {
      "model_module": "@jupyter-widgets/controls",
      "model_module_version": "1.5.0",
      "model_name": "VBoxModel",
      "state": {
       "children": [
        "IPY_MODEL_d46e8f0c919a4cd89d1902df870ebdec",
        "IPY_MODEL_208c33ce483a45cfb99e22614dcaebf6"
       ],
       "layout": "IPY_MODEL_7f6dde1e3fa242008040d1949e3157fa"
      }
     },
     "69657dd6a058486981cbf1c45b7cec16": {
      "model_module": "@jupyter-widgets/base",
      "model_module_version": "1.2.0",
      "model_name": "LayoutModel",
      "state": {
       "width": "auto"
      }
     },
     "69aae0de19b8435e878f9c5567a31815": {
      "model_module": "@jupyter-widgets/base",
      "model_module_version": "1.2.0",
      "model_name": "LayoutModel",
      "state": {}
     },
     "69ad116a03cd41e8b18da27166307de5": {
      "model_module": "@jupyter-widgets/base",
      "model_module_version": "1.2.0",
      "model_name": "LayoutModel",
      "state": {}
     },
     "6a69eb4a4f6a4e439b57821d0e453664": {
      "model_module": "@jupyter-widgets/base",
      "model_module_version": "1.2.0",
      "model_name": "LayoutModel",
      "state": {}
     },
     "6a793e15df2540bea4d5132487b9bb7a": {
      "model_module": "@jupyter-widgets/base",
      "model_module_version": "1.2.0",
      "model_name": "LayoutModel",
      "state": {}
     },
     "6b2417868f56450ebbd06fda859076e9": {
      "model_module": "@jupyter-widgets/controls",
      "model_module_version": "1.5.0",
      "model_name": "DescriptionStyleModel",
      "state": {
       "description_width": "initial"
      }
     },
     "6b3b5cdce6774baebb5e0fbad5af372a": {
      "model_module": "@jupyter-widgets/controls",
      "model_module_version": "1.5.0",
      "model_name": "DescriptionStyleModel",
      "state": {
       "description_width": ""
      }
     },
     "6b490473a23849ec803f39cf1ab74c9f": {
      "model_module": "@jupyter-widgets/base",
      "model_module_version": "1.2.0",
      "model_name": "LayoutModel",
      "state": {
       "display": "none",
       "grid_gap": "0px 0px",
       "grid_template_areas": "\n                    'pathlist filename'\n                    'dircontent dircontent'\n                    ",
       "grid_template_columns": "60% 40%",
       "grid_template_rows": "auto auto",
       "width": "500px"
      }
     },
     "6b644f5b271449aca9dff3cf98e88e6b": {
      "model_module": "@jupyter-widgets/base",
      "model_module_version": "1.2.0",
      "model_name": "LayoutModel",
      "state": {
       "display": "none",
       "grid_gap": "0px 0px",
       "grid_template_areas": "\n                    'pathlist filename'\n                    'dircontent dircontent'\n                    ",
       "grid_template_columns": "60% 40%",
       "grid_template_rows": "auto auto",
       "width": "500px"
      }
     },
     "6b8943f8b9ce42439a1a536e561781ce": {
      "model_module": "@jupyter-widgets/base",
      "model_module_version": "1.2.0",
      "model_name": "LayoutModel",
      "state": {
       "width": "auto"
      }
     },
     "6bcf1f1e7a354475bd22964712e5be68": {
      "model_module": "@jupyter-widgets/controls",
      "model_module_version": "1.5.0",
      "model_name": "TextModel",
      "state": {
       "continuous_update": false,
       "description": "Save as:",
       "layout": "IPY_MODEL_4b3e6ae9713e493aadf135daae5664a2",
       "style": "IPY_MODEL_1a9332c69ee04642bb56ccb798bf340f",
       "value": "Gravity_Magnetics_drape60m"
      }
     },
     "6bd953aa431943fdb1c555bd4518ce81": {
      "model_module": "@jupyter-widgets/base",
      "model_module_version": "1.2.0",
      "model_name": "LayoutModel",
      "state": {}
     },
     "6be45eb45f05449faf9e89d22fe35828": {
      "model_module": "@jupyter-widgets/controls",
      "model_module_version": "1.5.0",
      "model_name": "DescriptionStyleModel",
      "state": {
       "description_width": ""
      }
     },
     "6c11c70f0a464388b93b4f7cbc32658e": {
      "model_module": "@jupyter-widgets/controls",
      "model_module_version": "1.5.0",
      "model_name": "HBoxModel",
      "state": {
       "children": [
        "IPY_MODEL_4272ce00d58a4c7d854b965731f00a93",
        "IPY_MODEL_4915d6826fcb408589be8c242a85be36"
       ],
       "layout": "IPY_MODEL_d570ea4dee0d4f1782d79d091b76bc06"
      }
     },
     "6c40f3410fc246b6b8d092c7eda64d43": {
      "model_module": "@jupyter-widgets/controls",
      "model_module_version": "1.5.0",
      "model_name": "HBoxModel",
      "state": {
       "children": [
        "IPY_MODEL_24804e15ee1c401ab45ea9ec4bd8094c",
        "IPY_MODEL_a18212f9641e464189456ccbaf0204eb",
        "IPY_MODEL_501ca7eedcba4996b499130b054e35ff"
       ],
       "layout": "IPY_MODEL_3fa2ba99d2684d9c96d78ba8cbd1a074"
      }
     },
     "6c43111a92374ae3ac01501e75d5d7d4": {
      "model_module": "@jupyter-widgets/controls",
      "model_module_version": "1.5.0",
      "model_name": "DescriptionStyleModel",
      "state": {
       "description_width": "initial"
      }
     },
     "6c9b7b783b644d1b8a35c6051dceb578": {
      "model_module": "@jupyter-widgets/controls",
      "model_module_version": "1.5.0",
      "model_name": "CheckboxModel",
      "state": {
       "description": "GA Pro - Live link",
       "disabled": false,
       "indent": false,
       "layout": "IPY_MODEL_8c71d62cb24f4507acbbbf7ef4725899",
       "style": "IPY_MODEL_cd9d43c37e47404b8014b9c8af8b6ce5",
       "value": false
      }
     },
     "6d879306c5694226b34194988a7b8ab3": {
      "model_module": "@jupyter-widgets/controls",
      "model_module_version": "1.5.0",
      "model_name": "DescriptionStyleModel",
      "state": {
       "description_width": ""
      }
     },
     "6da27e814e8a4cb69e7f3838f177b619": {
      "model_module": "@jupyter-widgets/controls",
      "model_module_version": "1.5.0",
      "model_name": "ButtonStyleModel",
      "state": {}
     },
     "6dc0a28d3d3c421d89b4864876c84f64": {
      "model_module": "@jupyter-widgets/controls",
      "model_module_version": "1.5.0",
      "model_name": "ButtonModel",
      "state": {
       "description": "Create copy:",
       "layout": "IPY_MODEL_a1f0ca27b97b410fa0ff7dbaf89bfb19",
       "style": "IPY_MODEL_ab8cfc955bce49fd9d539a79f1199157"
      }
     },
     "6ddc8090ceec422f993a2da136eaee1b": {
      "model_module": "@jupyter-widgets/base",
      "model_module_version": "1.2.0",
      "model_name": "LayoutModel",
      "state": {}
     },
     "6e489e1cefb246b7832013ac1b964e22": {
      "model_module": "@jupyter-widgets/controls",
      "model_module_version": "1.5.0",
      "model_name": "HBoxModel",
      "state": {
       "children": [
        "IPY_MODEL_8513723e1b2c4c5bb43ffa9b914eea9d",
        "IPY_MODEL_c91f6736a5d742da841b353d1196db47"
       ],
       "layout": "IPY_MODEL_588282ab5e3f4b80b5b70dad5a0064ed"
      }
     },
     "6e8bdfec301e41e88483dd709dee1354": {
      "model_module": "@jupyter-widgets/controls",
      "model_module_version": "1.5.0",
      "model_name": "LabelModel",
      "state": {
       "layout": "IPY_MODEL_b18e9b80e2734a7c894befb54d889aab",
       "style": "IPY_MODEL_b7dbd91ae2204cbe97b5b6d9e5a99d64",
       "value": "Monitoring folder"
      }
     },
     "6e9480d88b354ea19ed426e3f231b9ef": {
      "model_module": "@jupyter-widgets/controls",
      "model_module_version": "1.5.0",
      "model_name": "DescriptionStyleModel",
      "state": {
       "description_width": "initial"
      }
     },
     "6f19cc6905da4da1817c4c37c281d0eb": {
      "model_module": "@jupyter-widgets/controls",
      "model_module_version": "1.5.0",
      "model_name": "TextModel",
      "state": {
       "continuous_update": false,
       "description": "Save as:",
       "layout": "IPY_MODEL_ab0ab048ab0648d8b6adcc8ddb743bf8",
       "style": "IPY_MODEL_9ac8a94a9c7a4e93a670859a27989d72"
      }
     },
     "6f1e4bbe5cce4f9ca37edae6e4f796fa": {
      "model_module": "@jupyter-widgets/base",
      "model_module_version": "1.2.0",
      "model_name": "LayoutModel",
      "state": {}
     },
     "6f41da12494f41dbb6b5e283506f00fa": {
      "model_module": "@jupyter-widgets/controls",
      "model_module_version": "1.5.0",
      "model_name": "VBoxModel",
      "state": {
       "children": [
        "IPY_MODEL_18dfa62bb827453c8f132bc2d788ebac",
        "IPY_MODEL_ec4c99ed9a8f49f584e3e1bbbd782bb1"
       ],
       "layout": "IPY_MODEL_f8ce8a0c96414a3d9226753f34dcebf1"
      }
     },
     "6f5754f5882d4d819dccd3d111f6853c": {
      "model_module": "@jupyter-widgets/controls",
      "model_module_version": "1.5.0",
      "model_name": "DropdownModel",
      "state": {
       "_options_labels": [
        "C:\\Users\\dominiquef\\Documents\\GIT\\mira\\mirageoscience-apps\\assets",
        "C:\\Users\\dominiquef\\Documents\\GIT\\mira\\mirageoscience-apps",
        "C:\\Users\\dominiquef\\Documents\\GIT\\mira",
        "C:\\Users\\dominiquef\\Documents\\GIT",
        "C:\\Users\\dominiquef\\Documents",
        "C:\\Users\\dominiquef",
        "C:\\Users",
        "C:\\",
        "D:\\",
        "Z:\\"
       ],
       "index": 0,
       "layout": "IPY_MODEL_9f3328c929cf450a9476ea4f8ad1d38b",
       "style": "IPY_MODEL_09572af07acc4689b0e168b3faa65cf5"
      }
     },
     "6fcfc35d10a444b3b00fd3e14651f659": {
      "model_module": "@jupyter-widgets/base",
      "model_module_version": "1.2.0",
      "model_name": "LayoutModel",
      "state": {}
     },
     "6ffe68cf55b1472b96275f9ee74e566a": {
      "model_module": "@jupyter-widgets/base",
      "model_module_version": "1.2.0",
      "model_name": "LayoutModel",
      "state": {}
     },
     "7009bb07143a47b8b4e19f8095ba533c": {
      "model_module": "@jupyter-widgets/controls",
      "model_module_version": "1.5.0",
      "model_name": "DescriptionStyleModel",
      "state": {
       "description_width": ""
      }
     },
     "70d9edf7d1a04c56890dea4052cd676c": {
      "model_module": "@jupyter-widgets/controls",
      "model_module_version": "1.5.0",
      "model_name": "ButtonModel",
      "state": {
       "description": "Cancel",
       "layout": "IPY_MODEL_192e104ab3b34f98aab7380112ea0cb9",
       "style": "IPY_MODEL_cb0a45e3891c42d8bc88351728ab208f"
      }
     },
     "70db5232474b442cb0a9041ab8950954": {
      "model_module": "@jupyter-widgets/base",
      "model_module_version": "1.2.0",
      "model_name": "LayoutModel",
      "state": {
       "width": "auto"
      }
     },
     "7104cc520357410bb6bedbc9b2f1a264": {
      "model_module": "@jupyter-widgets/controls",
      "model_module_version": "1.5.0",
      "model_name": "VBoxModel",
      "state": {
       "children": [
        "IPY_MODEL_840f4c22afcc43ae989877deaa61b3e3",
        "IPY_MODEL_4a11f262180249dba21ef81a4655f79b"
       ],
       "layout": "IPY_MODEL_05f017a0b5ee44a3804854a96b1e521f"
      }
     },
     "711de5f3659249439fa826468b9a2789": {
      "model_module": "@jupyter-widgets/controls",
      "model_module_version": "1.5.0",
      "model_name": "HTMLModel",
      "state": {
       "layout": "IPY_MODEL_6504c4ec972a47bdaadac519ae00d0c5",
       "style": "IPY_MODEL_9dfabd7b89e44a18b2bbb2b58a2471bf"
      }
     },
     "7126f043322d458a809b5fc3731531f2": {
      "model_module": "@jupyter-widgets/controls",
      "model_module_version": "1.5.0",
      "model_name": "VBoxModel",
      "state": {
       "children": [
        "IPY_MODEL_6403af48834a418294b046c192a24658",
        "IPY_MODEL_737e0bf63f2e4bb3a280dc472af56d5a",
        "IPY_MODEL_7f0eaaed1be04f7a82089786223019ef"
       ],
       "layout": "IPY_MODEL_becf6a8166494be09db37c97597a0fbf"
      }
     },
     "71357faba03f4633b9cefa8d39a78f14": {
      "model_module": "@jupyter-widgets/controls",
      "model_module_version": "1.5.0",
      "model_name": "DescriptionStyleModel",
      "state": {
       "description_width": ""
      }
     },
     "7187031097c94495b4a3a41ad0116f2e": {
      "model_module": "@jupyter-widgets/controls",
      "model_module_version": "1.5.0",
      "model_name": "HBoxModel",
      "state": {
       "children": [
        "IPY_MODEL_3dfe267c187844709436123a1169bdec",
        "IPY_MODEL_26ee73cc55fd476eaf7c89024874ebf8"
       ],
       "layout": "IPY_MODEL_6f1e4bbe5cce4f9ca37edae6e4f796fa"
      }
     },
     "723bb09dfb7445d2b65aaee88a79b8c0": {
      "model_module": "@jupyter-widgets/controls",
      "model_module_version": "1.5.0",
      "model_name": "VBoxModel",
      "state": {
       "children": [
        "IPY_MODEL_95fa93bac6c34c1aaa9bac88da32d2d1",
        "IPY_MODEL_7187031097c94495b4a3a41ad0116f2e"
       ],
       "layout": "IPY_MODEL_43dfa94901df4ac1a26db92fcda3ded3"
      }
     },
     "729a4b676e5649aa86de9f0262aaf2c4": {
      "model_module": "@jupyter-widgets/controls",
      "model_module_version": "1.5.0",
      "model_name": "TextModel",
      "state": {
       "continuous_update": false,
       "description": "Save as:",
       "layout": "IPY_MODEL_d3332e9031884be289caf9e0f3b25bae",
       "style": "IPY_MODEL_6875153dc80143889aa1a5e26fe0ff17",
       "value": "Gravity_Magnetics_drape60m"
      }
     },
     "7334784dd45e4fbf9f6e234160145887": {
      "model_module": "@jupyter-widgets/controls",
      "model_module_version": "1.5.0",
      "model_name": "DescriptionStyleModel",
      "state": {
       "description_width": ""
      }
     },
     "737e0bf63f2e4bb3a280dc472af56d5a": {
      "model_module": "@jupyter-widgets/controls",
      "model_module_version": "1.5.0",
      "model_name": "GridBoxModel",
      "state": {
       "children": [
        "IPY_MODEL_f6f81a8b3a6d40c09bb9c6a107ba7e69",
        "IPY_MODEL_dfb558696e01418b9b3cfe34e378af3d",
        "IPY_MODEL_3fc282683e294afbb987574b4b87651d"
       ],
       "layout": "IPY_MODEL_845642a3a52e402fa081bc637102f2b4"
      }
     },
     "73cc871895da40488bcc742b550b703c": {
      "model_module": "@jupyter-widgets/controls",
      "model_module_version": "1.5.0",
      "model_name": "SelectModel",
      "state": {
       "_options_labels": [
        "..",
        "Temp"
       ],
       "index": null,
       "layout": "IPY_MODEL_a44a34fe39144c12967d40d6003e8e10",
       "rows": 8,
       "style": "IPY_MODEL_7ffcc4b4d4cd4f53b23bbc98e0d46b18"
      }
     },
     "73e62db1fdf14e66bf8510c6bc1249cb": {
      "model_module": "@jupyter-widgets/controls",
      "model_module_version": "1.5.0",
      "model_name": "VBoxModel",
      "state": {
       "children": [
        "IPY_MODEL_cb8b8e34328247debf3e57df61504460",
        "IPY_MODEL_9c17bbabe4954b938e5f8f209831f5c4"
       ],
       "layout": "IPY_MODEL_17453e6ec37041639ce96b72f1163062"
      }
     },
     "743555244e7d4fca8343cc75c257a612": {
      "model_module": "@jupyter-widgets/controls",
      "model_module_version": "1.5.0",
      "model_name": "DropdownModel",
      "state": {
       "_options_labels": [
        "ESRI shapefile",
        "csv",
        "geotiff",
        "UBC format"
       ],
       "description": "Export type",
       "index": 2,
       "layout": "IPY_MODEL_b31dc9e85c4b4e69970d33378052aac6",
       "style": "IPY_MODEL_eb1c942f74e14df5b7473a1fae859a74"
      }
     },
     "7445ac134caa4368882c2e65b410a2f4": {
      "model_module": "@jupyter-widgets/controls",
      "model_module_version": "1.5.0",
      "model_name": "DescriptionStyleModel",
      "state": {
       "description_width": ""
      }
     },
     "74a6fee1a01146239901b90e6fd6ba64": {
      "model_module": "@jupyter-widgets/base",
      "model_module_version": "1.2.0",
      "model_name": "LayoutModel",
      "state": {
       "grid_area": "pathlist",
       "width": "auto"
      }
     },
     "74c11992bf7745a88ae3a2b9e22a9c4c": {
      "model_module": "@jupyter-widgets/base",
      "model_module_version": "1.2.0",
      "model_name": "LayoutModel",
      "state": {
       "display": "none",
       "width": "auto"
      }
     },
     "74c7fd30265d42ada988b0a7346a58ea": {
      "model_module": "@jupyter-widgets/base",
      "model_module_version": "1.2.0",
      "model_name": "LayoutModel",
      "state": {}
     },
     "751378ecab2940b7888bd7faab81796e": {
      "model_module": "@jupyter-widgets/base",
      "model_module_version": "1.2.0",
      "model_name": "LayoutModel",
      "state": {
       "display": "none",
       "grid_gap": "0px 0px",
       "grid_template_areas": "\n                    'pathlist pathlist'\n                    'dircontent dircontent'\n                    ",
       "grid_template_columns": "60% 40%",
       "grid_template_rows": "auto auto",
       "width": "500px"
      }
     },
     "755e8df17962410289c2df2f79cb0788": {
      "model_module": "@jupyter-widgets/controls",
      "model_module_version": "1.5.0",
      "model_name": "DescriptionStyleModel",
      "state": {
       "description_width": ""
      }
     },
     "75be046d5b964dc6955627414b30ca6d": {
      "model_module": "@jupyter-widgets/controls",
      "model_module_version": "1.5.0",
      "model_name": "DescriptionStyleModel",
      "state": {
       "description_width": ""
      }
     },
     "75c95e093655432cb1c0caa3c881d277": {
      "model_module": "@jupyter-widgets/controls",
      "model_module_version": "1.5.0",
      "model_name": "TextModel",
      "state": {
       "continuous_update": false,
       "description": "Projection:",
       "layout": "IPY_MODEL_52f265155b2e4b738948f93882b70fd3",
       "style": "IPY_MODEL_85fe37e84c1e4a9f889782579a674cb6",
       "value": "EPSG:26914"
      }
     },
     "760b67eb24454926918cd18aec13a964": {
      "model_module": "@jupyter-widgets/controls",
      "model_module_version": "1.5.0",
      "model_name": "DescriptionStyleModel",
      "state": {
       "description_width": ""
      }
     },
     "7637c06863b34e32b181b0a2f3908b65": {
      "model_module": "@jupyter-widgets/controls",
      "model_module_version": "1.5.0",
      "model_name": "DropdownModel",
      "state": {
       "_options_labels": [
        "ESRI shapefile",
        "csv",
        "geotiff",
        "UBC format"
       ],
       "description": "Export type",
       "index": 2,
       "layout": "IPY_MODEL_67def3098af34003b08e8790cc4e70d5",
       "style": "IPY_MODEL_d665aa15d9884a0f8c3ab3f543013aaa"
      }
     },
     "76906da9179a4a87ba1e7874fc43f318": {
      "model_module": "@jupyter-widgets/base",
      "model_module_version": "1.2.0",
      "model_name": "LayoutModel",
      "state": {
       "width": "auto"
      }
     },
     "7693bb04c29942b38e2370345ea87780": {
      "model_module": "@jupyter-widgets/controls",
      "model_module_version": "1.5.0",
      "model_name": "DescriptionStyleModel",
      "state": {
       "description_width": ""
      }
     },
     "76e7201837384d5e9cf35f64fc4a43dd": {
      "model_module": "@jupyter-widgets/controls",
      "model_module_version": "1.5.0",
      "model_name": "ButtonStyleModel",
      "state": {}
     },
     "7708e1f44e70485f99a3ad2bc158ef41": {
      "model_module": "@jupyter-widgets/base",
      "model_module_version": "1.2.0",
      "model_name": "LayoutModel",
      "state": {}
     },
     "77f149bd878f4401b81b5d3a4ba60c04": {
      "model_module": "@jupyter-widgets/controls",
      "model_module_version": "1.5.0",
      "model_name": "ButtonModel",
      "state": {
       "description": "Change",
       "layout": "IPY_MODEL_b5b5d56eb68d4178913f6ad98d0fc34f",
       "style": "IPY_MODEL_76e7201837384d5e9cf35f64fc4a43dd"
      }
     },
     "7829630862ef4e9f88514ddc665e92db": {
      "model_module": "@jupyter-widgets/controls",
      "model_module_version": "1.5.0",
      "model_name": "DescriptionStyleModel",
      "state": {
       "description_width": ""
      }
     },
     "783dada734f34aa9a8274c2fc1317e68": {
      "model_module": "@jupyter-widgets/controls",
      "model_module_version": "1.5.0",
      "model_name": "GridBoxModel",
      "state": {
       "children": [
        "IPY_MODEL_c27a96b4ee8645b7bc6a046fd14e1447",
        "IPY_MODEL_89568b26190d44a8a73e02004fa2d703",
        "IPY_MODEL_c0ba335849d2409f9bfb995cac0b747c"
       ],
       "layout": "IPY_MODEL_4c2ba438cce24ea5b03b30265b84dc9e"
      }
     },
     "784df2395ef042c7b13366487c84eee9": {
      "model_module": "@jupyter-widgets/controls",
      "model_module_version": "1.5.0",
      "model_name": "VBoxModel",
      "state": {
       "children": [
        "IPY_MODEL_743555244e7d4fca8343cc75c257a612",
        "IPY_MODEL_b4f9afd452f34fada2f03c504a4c815c",
        "IPY_MODEL_d141c54854754ccabfd5d44d4aa404c7"
       ],
       "layout": "IPY_MODEL_bc38c58a65814085bd97a0a2039f77ef"
      }
     },
     "786446d1bf1c48ffbbb4fab12ac49760": {
      "model_module": "@jupyter-widgets/controls",
      "model_module_version": "1.5.0",
      "model_name": "DescriptionStyleModel",
      "state": {
       "description_width": ""
      }
     },
     "788b2fe9e749425caeb5903805b71732": {
      "model_module": "@jupyter-widgets/controls",
      "model_module_version": "1.5.0",
      "model_name": "ButtonModel",
      "state": {
       "description": "Change",
       "layout": "IPY_MODEL_bdad99e7c8344789b8eaccfec769ea48",
       "style": "IPY_MODEL_1e1b14acaaa64971844ac1aae95ddb1b"
      }
     },
     "78b9a81a064e47c088c7311a16b38d25": {
      "model_module": "@jupyter-widgets/base",
      "model_module_version": "1.2.0",
      "model_name": "LayoutModel",
      "state": {
       "width": "auto"
      }
     },
     "78dccac2827043a4a082e893698deceb": {
      "model_module": "@jupyter-widgets/base",
      "model_module_version": "1.2.0",
      "model_name": "LayoutModel",
      "state": {
       "width": "auto"
      }
     },
     "7916cd6258e5425586764f5b03d702b7": {
      "model_module": "@jupyter-widgets/base",
      "model_module_version": "1.2.0",
      "model_name": "LayoutModel",
      "state": {
       "width": "auto"
      }
     },
     "7930d4a4017e467699f638f74fde60a3": {
      "model_module": "@jupyter-widgets/controls",
      "model_module_version": "1.5.0",
      "model_name": "DescriptionStyleModel",
      "state": {
       "description_width": "initial"
      }
     },
     "7973adf8e85347aa82eaec6862f16424": {
      "model_module": "@jupyter-widgets/base",
      "model_module_version": "1.2.0",
      "model_name": "LayoutModel",
      "state": {}
     },
     "79a3f7590e7645c0838f6fc0c37a87e3": {
      "model_module": "@jupyter-widgets/base",
      "model_module_version": "1.2.0",
      "model_name": "LayoutModel",
      "state": {}
     },
     "79acda4d5de6469196a108d5386f39a4": {
      "model_module": "@jupyter-widgets/controls",
      "model_module_version": "1.5.0",
      "model_name": "SelectMultipleModel",
      "state": {
       "_options_labels": [
        "",
        "--- Channels ---",
        "Airborne_Gxx",
        "Airborne_Gxy",
        "Airborne_Gxz",
        "Airborne_Gyy",
        "Airborne_Gyz",
        "Airborne_Gz",
        "Airborne_Gzz",
        "Airborne_TMI",
        "Ground_Gz",
        "Z"
       ],
       "description": "Data: ",
       "index": [],
       "layout": "IPY_MODEL_3be0e9748caf445f9c28b16d53b95e52",
       "rows": 5,
       "style": "IPY_MODEL_755e8df17962410289c2df2f79cb0788"
      }
     },
     "79b074d31b3e4c8f9ee5c35c8b7e1937": {
      "model_module": "@jupyter-widgets/controls",
      "model_module_version": "1.5.0",
      "model_name": "DescriptionStyleModel",
      "state": {
       "description_width": ""
      }
     },
     "79d064e47e2a493ea4f30ad66e29c2c7": {
      "model_module": "@jupyter-widgets/controls",
      "model_module_version": "1.5.0",
      "model_name": "VBoxModel",
      "state": {
       "children": [
        "IPY_MODEL_ff5b03fd15d5409f96c70dcdb8e52503",
        "IPY_MODEL_8c1c63399169411f866767f853531435",
        "IPY_MODEL_baa1476d65694899b68442203a43bb5c"
       ],
       "layout": "IPY_MODEL_642a658f54f24aa49b149b296369a344"
      }
     },
     "79dfca8bec80402eb38d13a7bf10853e": {
      "model_module": "@jupyter-widgets/controls",
      "model_module_version": "1.5.0",
      "model_name": "FloatTextModel",
      "state": {
       "description": "No-Data-Value",
       "layout": "IPY_MODEL_db82d54b8e644e4a9fb8d9a4cb07bb3f",
       "step": null,
       "style": "IPY_MODEL_2365481059114f80835132bacafc5529",
       "value": -99999
      }
     },
     "7a335f31580840b8be55584ae381dfac": {
      "model_module": "@jupyter-widgets/controls",
      "model_module_version": "1.5.0",
      "model_name": "DescriptionStyleModel",
      "state": {
       "description_width": ""
      }
     },
     "7ae565f8e63f4869a45ba9221b994fd1": {
      "model_module": "@jupyter-widgets/controls",
      "model_module_version": "1.5.0",
      "model_name": "VBoxModel",
      "state": {
       "children": [
        "IPY_MODEL_582c7106791147bfbc80df7dc63b8dc5",
        "IPY_MODEL_cd376434138b41d89474fe763ffc8d12",
        "IPY_MODEL_e2eaae32fb5743e1a6ba4ef3355f78a2"
       ],
       "layout": "IPY_MODEL_2a49c03fc7fa435ebcb2ddc5372e51cf"
      }
     },
     "7b136595b2734e048834c0f285132ea4": {
      "model_module": "@jupyter-widgets/controls",
      "model_module_version": "1.5.0",
      "model_name": "VBoxModel",
      "state": {
       "children": [
        "IPY_MODEL_f2af139885b94e92b44d1693248d9c55",
        "IPY_MODEL_98419c963e9d4752b4509d36b208dcf9"
       ],
       "layout": "IPY_MODEL_46e610e38605429fab6e5f883750c756"
      }
     },
     "7b213b6e64fc446d88b2d4ffb2992791": {
      "model_module": "@jupyter-widgets/base",
      "model_module_version": "1.2.0",
      "model_name": "LayoutModel",
      "state": {
       "grid_area": "pathlist",
       "width": "auto"
      }
     },
     "7b2d272cef6f4092a1a16d3264cf5137": {
      "model_module": "@jupyter-widgets/controls",
      "model_module_version": "1.5.0",
      "model_name": "DescriptionStyleModel",
      "state": {
       "description_width": "initial"
      }
     },
     "7b68d30f03af4413ab437ebe9576a61a": {
      "model_module": "@jupyter-widgets/base",
      "model_module_version": "1.2.0",
      "model_name": "LayoutModel",
      "state": {
       "display": "none",
       "grid_area": "filename",
       "width": "auto"
      }
     },
     "7b7a7dd5307b4881a0436ee12d2105c5": {
      "model_module": "@jupyter-widgets/base",
      "model_module_version": "1.2.0",
      "model_name": "LayoutModel",
      "state": {}
     },
     "7b8a40c47fc1458bb5e07f374bc84975": {
      "model_module": "@jupyter-widgets/controls",
      "model_module_version": "1.5.0",
      "model_name": "DropdownModel",
      "state": {
       "_options_labels": [
        "",
        "fault_splay1",
        "fault_Cliff_Lake",
        "fault_Other_FlinFlon",
        "fault_Club_Lake_splay",
        "fault_Catherine_splay2",
        "fault_Birch_View",
        "fault_Dion_Lake",
        "fault_FlinFlon_splay",
        "fault_West_Mandy_Road",
        "fault_Channing",
        "fault_Ross_Lake",
        "fault_Louis_Hidden",
        "fault_Lake_View_thrust",
        "contact_Schist_Lake",
        "fault_Burley_Lake",
        "fault_Dion_Lake_splay",
        "fault_Green_Lake",
        "fault_FlinFlon",
        "fault_Catherine_splay1",
        "fault_East_Mandy_Road",
        "fault_Other_FlinFlon_South",
        "fault_Catherine_splay4",
        "contact_Stitt_Island",
        "fault_Club_Lake",
        "fault_Tailing_Pond",
        "35_Hidden_Reservoir_Hr5",
        "29_Hidden_Reservoir_Hr1a",
        "60_BlueLagoon_Fb2",
        "20_FlinFlon_Undivided_Int_Dykes_D2f",
        "04_Boundary_Intrusive_S4h",
        "53_Millrock_Rhyolite_Fm4b",
        "19_FlinFlon_Undivided_Int_Dykes_D2b",
        "18_FlinFlon_Undivided_Int_Dykes_777_D2b",
        "06_Phantom_Lake_Intrusive_S3a",
        "21_FlinFlon_Undivided_Int_Dykes_D3a",
        "43_Millrock_CHLSH_South",
        "56_Millrock_Basalt_Fm1ba",
        "17_FlinFlon_Undivided_Int_Dykes_D2",
        "32_Hidden_Reservoir_Hr1b_SW",
        "11_Missi_M3_NE",
        "13_Missi_M1",
        "07_Annabel_Granitoid_S1",
        "45_Millrock_Gabbro_South",
        "01_Late_Intrusive_S5b",
        "31_Hidden_Reservoir_Hr1c_SW",
        "52_Millrock_Rhyolite_Fm4_West_check",
        "55_Millrock_Basalt_Fm1bf",
        "34_Hidden_Reservoir_Hr2b",
        "03_Boundary_Intrusive_S4b",
        "42_Millrock_CHLSH_North",
        "26_Louis_L3",
        "23_FlinFlon_Undivided_Int_Felsic_D4g",
        "30_Hidden_Reservoir_Hr1b",
        "59_BlueLagoon_Fb3",
        "49_Millrock_MVR_Fm5d",
        "44_Millrock_Gabbro_North",
        "27_Hidden_Carlisle_Hc4",
        "22_FlinFlon_Undivided_Int_Felsic_D4e",
        "02_Boundary_Intrusive_S4a",
        "61_BlueLagoon_Fb1_NW",
        "05_Boundary_Intrusive_S4g",
        "39_Ore_Callinan",
        "38_Ore_Dan_Owens",
        "40_Ore_FlinFlon",
        "Inversion_VTEM_Model",
        "Gravity_Magnetics_drape60m",
        "CDI_VTEM_model",
        "Data_FEM_pseudo3D",
        "O2O_Interp_25m",
        "geochem",
        "Inversion_DIGHEM_Model",
        "Topography",
        "Data_TEM_pseudo3D",
        "Data_ZTEM"
       ],
       "description": "Object:",
       "index": 66,
       "layout": "IPY_MODEL_1da63a7d297f4200b0fde7a74fbb8bfb",
       "style": "IPY_MODEL_7ef332bc0b9a4256ae788897680f68f1"
      }
     },
     "7b92a12552d047fb95e72fd5659c9a28": {
      "model_module": "@jupyter-widgets/controls",
      "model_module_version": "1.5.0",
      "model_name": "HBoxModel",
      "state": {
       "children": [
        "IPY_MODEL_515f2a430e784c259febd7e8aba7e4a1",
        "IPY_MODEL_fad3086b019c49e4925aaac7f68307ea",
        "IPY_MODEL_9a595e37b0644c8fa74b4a8720345cc2"
       ],
       "layout": "IPY_MODEL_dfc8a856d38a4faaaf9bcc2a27b23558"
      }
     },
     "7b9f47c3dac84265ac23c80cc5207c91": {
      "model_module": "@jupyter-widgets/controls",
      "model_module_version": "1.5.0",
      "model_name": "VBoxModel",
      "state": {
       "children": [
        "IPY_MODEL_06de5d91c17949dcb5977a5ecee289ca",
        "IPY_MODEL_6c11c70f0a464388b93b4f7cbc32658e"
       ],
       "layout": "IPY_MODEL_27ac00d2fe3c4d8b889850d393a397f5"
      }
     },
     "7bc5512eaa9f45e8b1480a7d18fd5f38": {
      "model_module": "@jupyter-widgets/controls",
      "model_module_version": "1.5.0",
      "model_name": "DescriptionStyleModel",
      "state": {
       "description_width": ""
      }
     },
     "7bee07d8514444bf94e1772bfa9781dc": {
      "model_module": "@jupyter-widgets/base",
      "model_module_version": "1.2.0",
      "model_name": "LayoutModel",
      "state": {
       "grid_area": "pathlist",
       "width": "auto"
      }
     },
     "7c18e288fa4e456b8c31d592bf1c0deb": {
      "model_module": "@jupyter-widgets/base",
      "model_module_version": "1.2.0",
      "model_name": "LayoutModel",
      "state": {}
     },
     "7c4dd28f96b04bbeb8dbc76f83d9edbd": {
      "model_module": "@jupyter-widgets/base",
      "model_module_version": "1.2.0",
      "model_name": "LayoutModel",
      "state": {}
     },
     "7c9d4e1b2f4049aeabc1b2d51e733bbd": {
      "model_module": "@jupyter-widgets/controls",
      "model_module_version": "1.5.0",
      "model_name": "DescriptionStyleModel",
      "state": {
       "description_width": ""
      }
     },
     "7cba3e7fd5b54531ae21fcb289314084": {
      "model_module": "@jupyter-widgets/controls",
      "model_module_version": "1.5.0",
      "model_name": "ButtonModel",
      "state": {
       "description": "Cancel",
       "layout": "IPY_MODEL_4e33321ef25047a1bcfb6a97ad9e5f95",
       "style": "IPY_MODEL_464bd9cc607f4c85b126101e2051ae26"
      }
     },
     "7cbd2e8660714ae9b5d1d31275c53f9e": {
      "model_module": "@jupyter-widgets/base",
      "model_module_version": "1.2.0",
      "model_name": "LayoutModel",
      "state": {}
     },
     "7ccfee181e7646478c2665a813ba0b10": {
      "model_module": "@jupyter-widgets/controls",
      "model_module_version": "1.5.0",
      "model_name": "DescriptionStyleModel",
      "state": {
       "description_width": ""
      }
     },
     "7d049643fe594ee79ffccbdf309e11c2": {
      "model_module": "@jupyter-widgets/base",
      "model_module_version": "1.2.0",
      "model_name": "LayoutModel",
      "state": {}
     },
     "7d1e33354a9f4280ad0c451d82782ade": {
      "model_module": "@jupyter-widgets/controls",
      "model_module_version": "1.5.0",
      "model_name": "RadioButtonsModel",
      "state": {
       "_options_labels": [
        "float",
        "RGB"
       ],
       "description": "Type:",
       "index": 1,
       "layout": "IPY_MODEL_7d83f2ea2bb94195a2d6d3863e824077",
       "style": "IPY_MODEL_0b8e81026d4c46b68494c95ee492265d"
      }
     },
     "7d83f2ea2bb94195a2d6d3863e824077": {
      "model_module": "@jupyter-widgets/base",
      "model_module_version": "1.2.0",
      "model_name": "LayoutModel",
      "state": {}
     },
     "7dc01eddab2c4d95b75f94c94363e7a7": {
      "model_module": "@jupyter-widgets/base",
      "model_module_version": "1.2.0",
      "model_name": "LayoutModel",
      "state": {}
     },
     "7de4b56c9f404e16ad569b8e797532bc": {
      "model_module": "@jupyter-widgets/controls",
      "model_module_version": "1.5.0",
      "model_name": "DescriptionStyleModel",
      "state": {
       "description_width": ""
      }
     },
     "7e0e0183e00c4bc7b9eab8d7f3c581c6": {
      "model_module": "@jupyter-widgets/controls",
      "model_module_version": "1.5.0",
      "model_name": "ButtonStyleModel",
      "state": {}
     },
     "7e1702869d574a9f91fb6a5b9c33ed61": {
      "model_module": "@jupyter-widgets/controls",
      "model_module_version": "1.5.0",
      "model_name": "TextareaModel",
      "state": {
       "continuous_update": false,
       "description": "WKT:",
       "layout": "IPY_MODEL_c605aae3c6894c5db554765fec08d3f3",
       "style": "IPY_MODEL_37bd6fbfe8ac41648a86da5183321a91",
       "value": "PROJCS[\"NAD83 / UTM zone 14N\",GEOGCS[\"NAD83\",DATUM[\"North_American_Datum_1983\",SPHEROID[\"GRS 1980\",6378137,298.257222101,AUTHORITY[\"EPSG\",\"7019\"]],AUTHORITY[\"EPSG\",\"6269\"]],PRIMEM[\"Greenwich\",0,AUTHORITY[\"EPSG\",\"8901\"]],UNIT[\"degree\",0.0174532925199433,AUTHORITY[\"EPSG\",\"9122\"]],AUTHORITY[\"EPSG\",\"4269\"]],PROJECTION[\"Transverse_Mercator\"],PARAMETER[\"latitude_of_origin\",0],PARAMETER[\"central_meridian\",-99],PARAMETER[\"scale_factor\",0.9996],PARAMETER[\"false_easting\",500000],PARAMETER[\"false_northing\",0],UNIT[\"metre\",1,AUTHORITY[\"EPSG\",\"9001\"]],AXIS[\"Easting\",EAST],AXIS[\"Northing\",NORTH],AUTHORITY[\"EPSG\",\"26914\"]]"
      }
     },
     "7e645c745c89426f935f418cf4d434ff": {
      "model_module": "@jupyter-widgets/controls",
      "model_module_version": "1.5.0",
      "model_name": "DescriptionStyleModel",
      "state": {
       "description_width": "initial"
      }
     },
     "7e739b8876f84730bd6fc5b39c596eee": {
      "model_module": "@jupyter-widgets/controls",
      "model_module_version": "1.5.0",
      "model_name": "TextModel",
      "state": {
       "layout": "IPY_MODEL_ba2e73d0920146beb0c14e6ece71548d",
       "placeholder": "output filename",
       "style": "IPY_MODEL_319da1f343214449ae7c272ff39d62e5",
       "value": "FlinFlon.geoh5"
      }
     },
     "7ed9631ad8544453b9e6a00621da7aac": {
      "model_module": "@jupyter-widgets/controls",
      "model_module_version": "1.5.0",
      "model_name": "DescriptionStyleModel",
      "state": {
       "description_width": "initial"
      }
     },
     "7ef332bc0b9a4256ae788897680f68f1": {
      "model_module": "@jupyter-widgets/controls",
      "model_module_version": "1.5.0",
      "model_name": "DescriptionStyleModel",
      "state": {
       "description_width": "initial"
      }
     },
     "7f0eaaed1be04f7a82089786223019ef": {
      "model_module": "@jupyter-widgets/controls",
      "model_module_version": "1.5.0",
      "model_name": "HBoxModel",
      "state": {
       "children": [
        "IPY_MODEL_77f149bd878f4401b81b5d3a4ba60c04",
        "IPY_MODEL_14913dea9b074d07a7130e739adca48f",
        "IPY_MODEL_fddb6665db274c05b2fc4a4cdb6730f2"
       ],
       "layout": "IPY_MODEL_cde439d31729498dbebb75fe4519f49e"
      }
     },
     "7f1b2fe9231f4ad099b87f484d013d40": {
      "model_module": "@jupyter-widgets/base",
      "model_module_version": "1.2.0",
      "model_name": "LayoutModel",
      "state": {}
     },
     "7f48879a2592476bbebad8e4967bc3df": {
      "model_module": "@jupyter-widgets/base",
      "model_module_version": "1.2.0",
      "model_name": "LayoutModel",
      "state": {
       "display": "none"
      }
     },
     "7f6dde1e3fa242008040d1949e3157fa": {
      "model_module": "@jupyter-widgets/base",
      "model_module_version": "1.2.0",
      "model_name": "LayoutModel",
      "state": {}
     },
     "7f83ae788d1d4427bead73a3673d75f3": {
      "model_module": "@jupyter-widgets/controls",
      "model_module_version": "1.5.0",
      "model_name": "DescriptionStyleModel",
      "state": {
       "description_width": "initial"
      }
     },
     "7fbe41851c42442e910bbd07ec5f3a93": {
      "model_module": "@jupyter-widgets/base",
      "model_module_version": "1.2.0",
      "model_name": "LayoutModel",
      "state": {
       "width": "75%"
      }
     },
     "7fef2d7539ce46198fc4d576f9fbd5c0": {
      "model_module": "@jupyter-widgets/controls",
      "model_module_version": "1.5.0",
      "model_name": "TextModel",
      "state": {
       "continuous_update": false,
       "description": "Group:",
       "layout": "IPY_MODEL_3a538e11adc54dacb7f629ff7c8777ed",
       "style": "IPY_MODEL_c80d7efaa8bd4e43b09f676bf3f2bb56"
      }
     },
     "7ffcc4b4d4cd4f53b23bbc98e0d46b18": {
      "model_module": "@jupyter-widgets/controls",
      "model_module_version": "1.5.0",
      "model_name": "DescriptionStyleModel",
      "state": {
       "description_width": ""
      }
     },
     "7ffd44131361412d90964223dc1b62a5": {
      "model_module": "@jupyter-widgets/controls",
      "model_module_version": "1.5.0",
      "model_name": "HTMLModel",
      "state": {
       "layout": "IPY_MODEL_8fe930fe815c48fbb6ef5cee3dd35ab9",
       "placeholder": "",
       "style": "IPY_MODEL_037b091270284a529a7bf71d87984bf8",
       "value": "<span style=\"margin-left:10px; color:green;\">C:\\Users\\dominiquef\\Documents\\GIT\\mira\\mirageoscience-apps\\assets\\</span>"
      }
     },
     "80970747248146788052a1e4c77d1316": {
      "model_module": "@jupyter-widgets/base",
      "model_module_version": "1.2.0",
      "model_name": "LayoutModel",
      "state": {
       "grid_area": "filename",
       "width": "auto"
      }
     },
     "80bad037323d4979b7dfb94aac5c2425": {
      "model_module": "@jupyter-widgets/base",
      "model_module_version": "1.2.0",
      "model_name": "LayoutModel",
      "state": {}
     },
     "815f49551fb44093b6cb83f9497ede48": {
      "model_module": "@jupyter-widgets/controls",
      "model_module_version": "1.5.0",
      "model_name": "ButtonStyleModel",
      "state": {}
     },
     "82335f8f2555425f9320c7e4457f42c0": {
      "model_module": "@jupyter-widgets/controls",
      "model_module_version": "1.5.0",
      "model_name": "CheckboxModel",
      "state": {
       "description": "GA Pro - Live link",
       "disabled": false,
       "indent": false,
       "layout": "IPY_MODEL_cab4b399d304465f9d4007a817d9bf4e",
       "style": "IPY_MODEL_aed6f2db454949fbbf2a4e3f31b919a0",
       "value": false
      }
     },
     "8256c64e9e084e549eba9fb965dd29f1": {
      "model_module": "@jupyter-widgets/controls",
      "model_module_version": "1.5.0",
      "model_name": "DescriptionStyleModel",
      "state": {
       "description_width": ""
      }
     },
     "82b0c52a42b341a29a0d30d1eb0d3ba7": {
      "model_module": "@jupyter-widgets/controls",
      "model_module_version": "1.5.0",
      "model_name": "ButtonModel",
      "state": {
       "description": "Change",
       "layout": "IPY_MODEL_5ca4a702fbd644378de0ebe4fbe27b00",
       "style": "IPY_MODEL_1dd9505fb62844748e04320bbe4712e0"
      }
     },
     "82d2bdbf678d4bad80bd0bb5ce02fdf1": {
      "model_module": "@jupyter-widgets/controls",
      "model_module_version": "1.5.0",
      "model_name": "SelectMultipleModel",
      "state": {
       "_options_labels": [
        "",
        "--- Channels ---",
        "Airborne_Gxx",
        "Airborne_Gxy",
        "Airborne_Gxz",
        "Airborne_Gyy",
        "Airborne_Gyz",
        "Airborne_Gz",
        "Airborne_Gzz",
        "Airborne_TMI",
        "Ground_Gz",
        "Z"
       ],
       "description": "Data: ",
       "index": [
        2
       ],
       "layout": "IPY_MODEL_4b3760319f9b4003a512bd4f75007e11",
       "rows": 5,
       "style": "IPY_MODEL_dc328d8112d94d61b7a3246ae487e893"
      }
     },
     "837f8d82758e4c0195c32f8fcc7b068b": {
      "model_module": "@jupyter-widgets/controls",
      "model_module_version": "1.5.0",
      "model_name": "DescriptionStyleModel",
      "state": {
       "description_width": ""
      }
     },
     "83a2faa007da42e9bee390911aa5cff6": {
      "model_module": "@jupyter-widgets/base",
      "model_module_version": "1.2.0",
      "model_name": "LayoutModel",
      "state": {}
     },
     "83de98fa3ec0442fa233934eb3730e3b": {
      "model_module": "@jupyter-widgets/controls",
      "model_module_version": "1.5.0",
      "model_name": "VBoxModel",
      "state": {
       "children": [
        "IPY_MODEL_6f41da12494f41dbb6b5e283506f00fa",
        "IPY_MODEL_30e2e54f6c9041b7bef2353d3db77d85"
       ],
       "layout": "IPY_MODEL_c57498e540374415a734e4f098d54361"
      }
     },
     "840f4c22afcc43ae989877deaa61b3e3": {
      "model_module": "@jupyter-widgets/controls",
      "model_module_version": "1.5.0",
      "model_name": "TextModel",
      "state": {
       "continuous_update": false,
       "description": "Projection:",
       "layout": "IPY_MODEL_f8c3583af0604a12a75c085ab5a8ccbf",
       "style": "IPY_MODEL_7e645c745c89426f935f418cf4d434ff",
       "value": "EPSG:26914"
      }
     },
     "84429757543d44cf8b22cadf72040851": {
      "model_module": "@jupyter-widgets/controls",
      "model_module_version": "1.5.0",
      "model_name": "LabelModel",
      "state": {
       "layout": "IPY_MODEL_5514a8209a264bbdb76c3a8b543eb38a",
       "style": "IPY_MODEL_08a1b60ade07412396d0b0b80823c5d1",
       "value": "Workspace"
      }
     },
     "8453b0e809eb441cbeb83e6b5ae29a86": {
      "model_module": "@jupyter-widgets/base",
      "model_module_version": "1.2.0",
      "model_name": "LayoutModel",
      "state": {}
     },
     "845642a3a52e402fa081bc637102f2b4": {
      "model_module": "@jupyter-widgets/base",
      "model_module_version": "1.2.0",
      "model_name": "LayoutModel",
      "state": {
       "display": "none",
       "grid_gap": "0px 0px",
       "grid_template_areas": "\n                    'pathlist pathlist'\n                    'dircontent dircontent'\n                    ",
       "grid_template_columns": "60% 40%",
       "grid_template_rows": "auto auto",
       "width": "500px"
      }
     },
     "8476de829b284b49a3518eb286c55d28": {
      "model_module": "@jupyter-widgets/controls",
      "model_module_version": "1.5.0",
      "model_name": "FloatTextModel",
      "state": {
       "description": "No-Data-Value",
       "layout": "IPY_MODEL_432c7419d6c543f8b45da95ae25b8801",
       "step": null,
       "style": "IPY_MODEL_d9dc0d78d70347c4a5403096838fbb04",
       "value": -99999
      }
     },
     "84a37f4785ef405788e545165fb49f28": {
      "model_module": "@jupyter-widgets/controls",
      "model_module_version": "1.5.0",
      "model_name": "DescriptionStyleModel",
      "state": {
       "description_width": "initial"
      }
     },
     "8513723e1b2c4c5bb43ffa9b914eea9d": {
      "model_module": "@jupyter-widgets/controls",
      "model_module_version": "1.5.0",
      "model_name": "VBoxModel",
      "state": {
       "children": [
        "IPY_MODEL_06a4f281a4ed46f9b67527456f3f1b2c",
        "IPY_MODEL_cf4607936887491499a5dec05ee61429",
        "IPY_MODEL_d582340069fd4b98acccfaa84170b75d"
       ],
       "layout": "IPY_MODEL_a60325db04224c609753f29e4350eebb"
      }
     },
     "8525bdda3fb34d07a37f664df49042e2": {
      "model_module": "@jupyter-widgets/controls",
      "model_module_version": "1.5.0",
      "model_name": "VBoxModel",
      "state": {
       "children": [
        "IPY_MODEL_09893dfe7c654ab0a96e42ebb4b6434c",
        "IPY_MODEL_3931044f64324d7cb1b826fb94281380",
        "IPY_MODEL_0ad62f3df31c44bfa2f3828b5a74297d"
       ],
       "layout": "IPY_MODEL_cedd022d171f4f70996bd80f5cb02421"
      }
     },
     "85fe37e84c1e4a9f889782579a674cb6": {
      "model_module": "@jupyter-widgets/controls",
      "model_module_version": "1.5.0",
      "model_name": "DescriptionStyleModel",
      "state": {
       "description_width": "initial"
      }
     },
     "865e88a338b64fa486021542ee0e2b0e": {
      "model_module": "@jupyter-widgets/controls",
      "model_module_version": "1.5.0",
      "model_name": "HTMLModel",
      "state": {
       "layout": "IPY_MODEL_c476613900b24b5c9c65881394432c3f",
       "placeholder": "",
       "style": "IPY_MODEL_8e6c7a9e20644f66a05424353b358704",
       "value": "<span style=\"margin-left:10px; color:green;\">C:\\Users\\dominiquef\\Documents\\GIT\\mira\\mirageoscience-apps\\assets\\</span>"
      }
     },
     "86786713ec684d05b4898b806d8a4985": {
      "model_module": "@jupyter-widgets/base",
      "model_module_version": "1.2.0",
      "model_name": "LayoutModel",
      "state": {
       "display": "none",
       "grid_area": "filename",
       "width": "auto"
      }
     },
     "867f752b67f4422e8689a2dd24668bd9": {
      "model_module": "@jupyter-widgets/controls",
      "model_module_version": "1.5.0",
      "model_name": "DescriptionStyleModel",
      "state": {
       "description_width": ""
      }
     },
     "870d7848d4384fa4bac028c39c4103a9": {
      "model_module": "@jupyter-widgets/base",
      "model_module_version": "1.2.0",
      "model_name": "LayoutModel",
      "state": {}
     },
     "877d5eac20d74c2daa9cc7ff0a69a9c1": {
      "model_module": "@jupyter-widgets/controls",
      "model_module_version": "1.5.0",
      "model_name": "HBoxModel",
      "state": {
       "children": [
        "IPY_MODEL_7b136595b2734e048834c0f285132ea4",
        "IPY_MODEL_574d07d2d41046be8f73e08d9560742f"
       ],
       "layout": "IPY_MODEL_4b057cd5de2644c08760bc2bba54c6ec"
      }
     },
     "87e3ed6c488244e5bf4a0d80d50706db": {
      "model_module": "@jupyter-widgets/controls",
      "model_module_version": "1.5.0",
      "model_name": "TextModel",
      "state": {
       "continuous_update": false,
       "description": "Group:",
       "layout": "IPY_MODEL_38583c05f8144cd5bdea540bc4c79e35",
       "style": "IPY_MODEL_1b2be81a4dd242f1b9ffcd1051d89ee9"
      }
     },
     "88500a1119714c429892f7c6aa5f07d5": {
      "model_module": "@jupyter-widgets/controls",
      "model_module_version": "1.5.0",
      "model_name": "DescriptionStyleModel",
      "state": {
       "description_width": ""
      }
     },
     "885fb81c39584538b0e303a630d4f081": {
      "model_module": "@jupyter-widgets/base",
      "model_module_version": "1.2.0",
      "model_name": "LayoutModel",
      "state": {
       "width": "auto"
      }
     },
     "88636525799a426ba4ede152272501a6": {
      "model_module": "@jupyter-widgets/controls",
      "model_module_version": "1.5.0",
      "model_name": "DescriptionStyleModel",
      "state": {
       "description_width": ""
      }
     },
     "889dc0a21d3c411394abb70194c74782": {
      "model_module": "@jupyter-widgets/controls",
      "model_module_version": "1.5.0",
      "model_name": "DescriptionStyleModel",
      "state": {
       "description_width": ""
      }
     },
     "892d41a1402f4fd4a0380280f595fbbf": {
      "model_module": "@jupyter-widgets/base",
      "model_module_version": "1.2.0",
      "model_name": "LayoutModel",
      "state": {}
     },
     "89568b26190d44a8a73e02004fa2d703": {
      "model_module": "@jupyter-widgets/controls",
      "model_module_version": "1.5.0",
      "model_name": "TextModel",
      "state": {
       "disabled": true,
       "layout": "IPY_MODEL_1734d7fccfc34e6fab571989407e1902",
       "placeholder": "output filename",
       "style": "IPY_MODEL_c8117fa3d8094b959fbcd31459ca2e1f"
      }
     },
     "8966df6b8b994e8699fb2b5e238978d0": {
      "model_module": "@jupyter-widgets/controls",
      "model_module_version": "1.5.0",
      "model_name": "DescriptionStyleModel",
      "state": {
       "description_width": ""
      }
     },
     "89ff9ae6b8844ad39eed4d1adfa16f48": {
      "model_module": "@jupyter-widgets/controls",
      "model_module_version": "1.5.0",
      "model_name": "ToggleButtonModel",
      "state": {
       "layout": "IPY_MODEL_acc5eedbbadc46e8b3fd5282d5ece1e6",
       "style": "IPY_MODEL_8966df6b8b994e8699fb2b5e238978d0",
       "value": true
      }
     },
     "8a8031276d7442119d5ce59c22c19f3a": {
      "model_module": "@jupyter-widgets/controls",
      "model_module_version": "1.5.0",
      "model_name": "LabelModel",
      "state": {
       "layout": "IPY_MODEL_2cb22abcfd5e45009fd0fd7905cb8248",
       "style": "IPY_MODEL_37f72f0047794ed08d7e5336dde56912",
       "value": "Monitoring folder"
      }
     },
     "8a8c4bcdea3e47ac8c9127c72c181e9d": {
      "model_module": "@jupyter-widgets/controls",
      "model_module_version": "1.5.0",
      "model_name": "DescriptionStyleModel",
      "state": {
       "description_width": ""
      }
     },
     "8a9450c024b74a5c92b944e63c1104be": {
      "model_module": "@jupyter-widgets/base",
      "model_module_version": "1.2.0",
      "model_name": "LayoutModel",
      "state": {}
     },
     "8a9b7f4e6d674e2b88f61e6acb0a82f2": {
      "model_module": "@jupyter-widgets/controls",
      "model_module_version": "1.5.0",
      "model_name": "DescriptionStyleModel",
      "state": {
       "description_width": "initial"
      }
     },
     "8ab709f75be14fd8924bc0754ec14c77": {
      "model_module": "@jupyter-widgets/controls",
      "model_module_version": "1.5.0",
      "model_name": "VBoxModel",
      "state": {
       "children": [
        "IPY_MODEL_901f3aa1389d4093a4f3e3dc08947725"
       ],
       "layout": "IPY_MODEL_9a896eab717346649076914598c25b8c"
      }
     },
     "8b661c39ae364e8b85fbc8e7a1b11f71": {
      "model_module": "@jupyter-widgets/controls",
      "model_module_version": "1.5.0",
      "model_name": "DropdownModel",
      "state": {
       "_options_labels": [
        "ESRI shapefile",
        "csv",
        "geotiff",
        "UBC format"
       ],
       "description": "Export type",
       "index": 2,
       "layout": "IPY_MODEL_e989df3010ac4220a7b62ebe4df9a2f3",
       "style": "IPY_MODEL_b966bc5bcfa84e2b8a4a33ed7cdae026"
      }
     },
     "8ba9c05bc9054249bfa03d4e62b77468": {
      "model_module": "@jupyter-widgets/controls",
      "model_module_version": "1.5.0",
      "model_name": "ButtonStyleModel",
      "state": {}
     },
     "8c1c63399169411f866767f853531435": {
      "model_module": "@jupyter-widgets/controls",
      "model_module_version": "1.5.0",
      "model_name": "GridBoxModel",
      "state": {
       "children": [
        "IPY_MODEL_d76efdafa12544f39d4a4a5d3d89946d",
        "IPY_MODEL_23eda325de434eed807dfdbcd6c89f4d",
        "IPY_MODEL_18d13628477046a28b9c68eaae5546f6"
       ],
       "layout": "IPY_MODEL_751378ecab2940b7888bd7faab81796e"
      }
     },
     "8c3e54dc049c41efb824d79e3786e83c": {
      "model_module": "@jupyter-widgets/base",
      "model_module_version": "1.2.0",
      "model_name": "LayoutModel",
      "state": {}
     },
     "8c60b08fb910411194c886ef1e80dc95": {
      "model_module": "@jupyter-widgets/base",
      "model_module_version": "1.2.0",
      "model_name": "LayoutModel",
      "state": {}
     },
     "8c71d62cb24f4507acbbbf7ef4725899": {
      "model_module": "@jupyter-widgets/base",
      "model_module_version": "1.2.0",
      "model_name": "LayoutModel",
      "state": {}
     },
     "8c9a1f9e106e42f68a12460f6247d166": {
      "model_module": "@jupyter-widgets/base",
      "model_module_version": "1.2.0",
      "model_name": "LayoutModel",
      "state": {}
     },
     "8d2b9d478e3f447aa329ad430db80b52": {
      "model_module": "@jupyter-widgets/controls",
      "model_module_version": "1.5.0",
      "model_name": "DescriptionStyleModel",
      "state": {
       "description_width": ""
      }
     },
     "8d5d4e29aacb4054820103e9664a38a1": {
      "model_module": "@jupyter-widgets/controls",
      "model_module_version": "1.5.0",
      "model_name": "TextModel",
      "state": {
       "continuous_update": false,
       "description": "Group:",
       "layout": "IPY_MODEL_9499439df3b04a63a905fedbc39ac500",
       "style": "IPY_MODEL_fb1047ef81b24462be7652a87e990cad"
      }
     },
     "8e6c7a9e20644f66a05424353b358704": {
      "model_module": "@jupyter-widgets/controls",
      "model_module_version": "1.5.0",
      "model_name": "DescriptionStyleModel",
      "state": {
       "description_width": ""
      }
     },
     "8e7fec71f06c442b8ba6fd4341c5d02b": {
      "model_module": "@jupyter-widgets/base",
      "model_module_version": "1.2.0",
      "model_name": "LayoutModel",
      "state": {
       "width": "auto"
      }
     },
     "8e80dbeb8d2248e88ad774208ffbe728": {
      "model_module": "@jupyter-widgets/base",
      "model_module_version": "1.2.0",
      "model_name": "LayoutModel",
      "state": {}
     },
     "8efa49c2e3404d6c8d91f5c7d305fddd": {
      "model_module": "@jupyter-widgets/base",
      "model_module_version": "1.2.0",
      "model_name": "LayoutModel",
      "state": {
       "display": "none",
       "grid_gap": "0px 0px",
       "grid_template_areas": "\n                    'pathlist pathlist'\n                    'dircontent dircontent'\n                    ",
       "grid_template_columns": "60% 40%",
       "grid_template_rows": "auto auto",
       "width": "500px"
      }
     },
     "8fe5fbd2b7264b8b959e7533af0d1d0b": {
      "model_module": "@jupyter-widgets/controls",
      "model_module_version": "1.5.0",
      "model_name": "GridBoxModel",
      "state": {
       "children": [
        "IPY_MODEL_fd39534af4f445d486088a3aabd96d97",
        "IPY_MODEL_3cd3c0c2c9304964b2c945bcdaceae77",
        "IPY_MODEL_e1d816d46aca4dfaa6ee2e1ff36e9181"
       ],
       "layout": "IPY_MODEL_8efa49c2e3404d6c8d91f5c7d305fddd"
      }
     },
     "8fe930fe815c48fbb6ef5cee3dd35ab9": {
      "model_module": "@jupyter-widgets/base",
      "model_module_version": "1.2.0",
      "model_name": "LayoutModel",
      "state": {}
     },
     "8fed742d2b6a429ba2c5538836fae5b8": {
      "model_module": "@jupyter-widgets/controls",
      "model_module_version": "1.5.0",
      "model_name": "DescriptionStyleModel",
      "state": {
       "description_width": "initial"
      }
     },
     "8ff1bdb760734a05b3f9c9ddc87d1c87": {
      "model_module": "@jupyter-widgets/controls",
      "model_module_version": "1.5.0",
      "model_name": "LabelModel",
      "state": {
       "layout": "IPY_MODEL_29a98db18ee54e03b1cd38f3d8fc3b33",
       "style": "IPY_MODEL_f231026803254d52aa89a1a872a39f7c",
       "value": "Monitoring folder"
      }
     },
     "901f3aa1389d4093a4f3e3dc08947725": {
      "model_module": "@jupyter-widgets/controls",
      "model_module_version": "1.5.0",
      "model_name": "CheckboxModel",
      "state": {
       "description": "GA Pro - Live link",
       "disabled": false,
       "indent": false,
       "layout": "IPY_MODEL_95994506b8f74fad8c0cec6e01217afb",
       "style": "IPY_MODEL_3ceae8b4c34e4b7589bc3e833c457c00",
       "value": false
      }
     },
     "90274afbdec9435fb6b034daeeb84d94": {
      "model_module": "@jupyter-widgets/controls",
      "model_module_version": "1.5.0",
      "model_name": "DropdownModel",
      "state": {
       "_options_labels": [
        "C:\\Users\\dominiquef\\Documents\\GIT\\mira\\mirageoscience-apps\\assets",
        "C:\\Users\\dominiquef\\Documents\\GIT\\mira\\mirageoscience-apps",
        "C:\\Users\\dominiquef\\Documents\\GIT\\mira",
        "C:\\Users\\dominiquef\\Documents\\GIT",
        "C:\\Users\\dominiquef\\Documents",
        "C:\\Users\\dominiquef",
        "C:\\Users",
        "C:\\",
        "D:\\",
        "Z:\\"
       ],
       "index": 0,
       "layout": "IPY_MODEL_fa11ce32cdba47f5b64b46dbb63dbbf0",
       "style": "IPY_MODEL_9354a40b29fe4e11b641d69b3bed19e8"
      }
     },
     "904cda1bcd1d443a8b89cc0a5a28d15d": {
      "model_module": "@jupyter-widgets/base",
      "model_module_version": "1.2.0",
      "model_name": "LayoutModel",
      "state": {}
     },
     "906dcdec3f76458d896549a6b9cbcaa2": {
      "model_module": "@jupyter-widgets/controls",
      "model_module_version": "1.5.0",
      "model_name": "HBoxModel",
      "state": {
       "children": [
        "IPY_MODEL_21da18c750d84c738fbcab4b2f8385a9",
        "IPY_MODEL_e7eb9e7021db414e924166e3339f4b4e"
       ],
       "layout": "IPY_MODEL_514619807623464a8d6a2e1999f66d28"
      }
     },
     "91ed8408c7bd4b1581d9f8190b6084ef": {
      "model_module": "@jupyter-widgets/controls",
      "model_module_version": "1.5.0",
      "model_name": "ButtonStyleModel",
      "state": {}
     },
     "927cf934fcec4aa5b1fa059967246974": {
      "model_module": "@jupyter-widgets/controls",
      "model_module_version": "1.5.0",
      "model_name": "DescriptionStyleModel",
      "state": {
       "description_width": "initial"
      }
     },
     "9299a60b16f5443a95495b0a64cdab92": {
      "model_module": "@jupyter-widgets/base",
      "model_module_version": "1.2.0",
      "model_name": "LayoutModel",
      "state": {}
     },
     "9354a40b29fe4e11b641d69b3bed19e8": {
      "model_module": "@jupyter-widgets/controls",
      "model_module_version": "1.5.0",
      "model_name": "DescriptionStyleModel",
      "state": {
       "description_width": ""
      }
     },
     "93612f610eea46c8859de49816bba374": {
      "model_module": "@jupyter-widgets/base",
      "model_module_version": "1.2.0",
      "model_name": "LayoutModel",
      "state": {}
     },
     "93ac0e40bac94132a3ce3c09d3f4079f": {
      "model_module": "@jupyter-widgets/base",
      "model_module_version": "1.2.0",
      "model_name": "LayoutModel",
      "state": {}
     },
     "93d2c388f0e942e8958812ac81eb9c89": {
      "model_module": "@jupyter-widgets/controls",
      "model_module_version": "1.5.0",
      "model_name": "HBoxModel",
      "state": {
       "children": [
        "IPY_MODEL_4019c944fc3a47e4b1f514f75b387a8c",
        "IPY_MODEL_dd550224af024afab79ca792bf7835fe"
       ],
       "layout": "IPY_MODEL_9c6dbd145279448fae3dc697f0f2cd97"
      }
     },
     "943b53961cbb449c934b6ddd5d3d83ac": {
      "model_module": "@jupyter-widgets/base",
      "model_module_version": "1.2.0",
      "model_name": "LayoutModel",
      "state": {}
     },
     "94591964c674451db4ef4aacd4732f11": {
      "model_module": "@jupyter-widgets/controls",
      "model_module_version": "1.5.0",
      "model_name": "ButtonModel",
      "state": {
       "description": "Change",
       "layout": "IPY_MODEL_c694bbbe902e43feba1130bee9d57858",
       "style": "IPY_MODEL_d25dea6d18c14b1e9f86f2c9e1056146"
      }
     },
     "9499439df3b04a63a905fedbc39ac500": {
      "model_module": "@jupyter-widgets/base",
      "model_module_version": "1.2.0",
      "model_name": "LayoutModel",
      "state": {}
     },
     "94c8e44575b04defba60c0390e23d30d": {
      "model_module": "@jupyter-widgets/base",
      "model_module_version": "1.2.0",
      "model_name": "LayoutModel",
      "state": {
       "grid_area": "filename",
       "width": "auto"
      }
     },
     "94e1a33d5a6145bdb754f564b845dcb4": {
      "model_module": "@jupyter-widgets/controls",
      "model_module_version": "1.5.0",
      "model_name": "DescriptionStyleModel",
      "state": {
       "description_width": ""
      }
     },
     "95994506b8f74fad8c0cec6e01217afb": {
      "model_module": "@jupyter-widgets/base",
      "model_module_version": "1.2.0",
      "model_name": "LayoutModel",
      "state": {}
     },
     "95fa93bac6c34c1aaa9bac88da32d2d1": {
      "model_module": "@jupyter-widgets/controls",
      "model_module_version": "1.5.0",
      "model_name": "LabelModel",
      "state": {
       "layout": "IPY_MODEL_34bcbcdc85a543759f394fed83c45896",
       "style": "IPY_MODEL_228751ae2e55462599587695bf2da767",
       "value": "Workspace"
      }
     },
     "970322ac0aca45e7b1e5c87032ff6b1d": {
      "model_module": "@jupyter-widgets/base",
      "model_module_version": "1.2.0",
      "model_name": "LayoutModel",
      "state": {}
     },
     "97366ee7e93e4b4ebcd02abf9a046032": {
      "model_module": "@jupyter-widgets/base",
      "model_module_version": "1.2.0",
      "model_name": "LayoutModel",
      "state": {}
     },
     "9782dc3ec6f842ee9aed82554772f17a": {
      "model_module": "@jupyter-widgets/base",
      "model_module_version": "1.2.0",
      "model_name": "LayoutModel",
      "state": {
       "display": "none",
       "width": "auto"
      }
     },
     "979fa3f114c744cfbcf1d1010803e1f0": {
      "model_module": "@jupyter-widgets/controls",
      "model_module_version": "1.5.0",
      "model_name": "TextModel",
      "state": {
       "layout": "IPY_MODEL_b712ed3ee3c04ee4935aa80ea0e3ccea",
       "placeholder": "output filename",
       "style": "IPY_MODEL_d812a50576ea494f80148c1ccd4403ae",
       "value": "FlinFlon.geoh5"
      }
     },
     "97b79c1c996f437cbb9ba4385a8a6de8": {
      "model_module": "@jupyter-widgets/controls",
      "model_module_version": "1.5.0",
      "model_name": "ButtonModel",
      "state": {
       "description": "Change",
       "layout": "IPY_MODEL_dcb88f8cd440432da7e1cd74dbb02ccb",
       "style": "IPY_MODEL_91ed8408c7bd4b1581d9f8190b6084ef"
      }
     },
     "97f15aa259fc4b61872201b4eec7a612": {
      "model_module": "@jupyter-widgets/base",
      "model_module_version": "1.2.0",
      "model_name": "LayoutModel",
      "state": {
       "display": "none"
      }
     },
     "98059e58c8aa421899526950a3336b90": {
      "model_module": "@jupyter-widgets/controls",
      "model_module_version": "1.5.0",
      "model_name": "ButtonModel",
      "state": {
       "description": "Change",
       "layout": "IPY_MODEL_78b9a81a064e47c088c7311a16b38d25",
       "style": "IPY_MODEL_21e5198e5efa48d789be6c0ecc9771f9"
      }
     },
     "98419c963e9d4752b4509d36b208dcf9": {
      "model_module": "@jupyter-widgets/controls",
      "model_module_version": "1.5.0",
      "model_name": "SelectMultipleModel",
      "state": {
       "_options_labels": [
        "",
        "--- Channels ---",
        "Airborne_Gxx",
        "Airborne_Gxy",
        "Airborne_Gxz",
        "Airborne_Gyy",
        "Airborne_Gyz",
        "Airborne_Gz",
        "Airborne_Gzz",
        "Airborne_TMI",
        "Ground_Gz",
        "Z"
       ],
       "description": "Data: ",
       "index": [
        2
       ],
       "layout": "IPY_MODEL_3a89d225358641b8988b1ec5c07989d1",
       "rows": 5,
       "style": "IPY_MODEL_4aa2cafa79c54451900d92f19e3e4279"
      }
     },
     "986a03203a784998bb0cceab1306f10d": {
      "model_module": "@jupyter-widgets/controls",
      "model_module_version": "1.5.0",
      "model_name": "TextModel",
      "state": {
       "continuous_update": false,
       "description": "Group:",
       "layout": "IPY_MODEL_9ebbffb7d2cf47f8a8e766813d6c9e52",
       "style": "IPY_MODEL_fdfed50300ac4fcf9ff472e2d2ab9dbe"
      }
     },
     "99571c913a2241da9c4ccb72aa2c63c6": {
      "model_module": "@jupyter-widgets/base",
      "model_module_version": "1.2.0",
      "model_name": "LayoutModel",
      "state": {}
     },
     "999787e52c2f4131ac3faab31d524c01": {
      "model_module": "@jupyter-widgets/controls",
      "model_module_version": "1.5.0",
      "model_name": "DescriptionStyleModel",
      "state": {
       "description_width": ""
      }
     },
     "9a04b9a9f60943b0b6e3d545dccd0c60": {
      "model_module": "@jupyter-widgets/controls",
      "model_module_version": "1.5.0",
      "model_name": "ButtonStyleModel",
      "state": {}
     },
     "9a595e37b0644c8fa74b4a8720345cc2": {
      "model_module": "@jupyter-widgets/controls",
      "model_module_version": "1.5.0",
      "model_name": "HTMLModel",
      "state": {
       "layout": "IPY_MODEL_39081f58ffc24a2385d23b3e867ef0a5",
       "placeholder": "",
       "style": "IPY_MODEL_6600197cab6d4f6c81f61cbcf6923d82",
       "value": "<span style=\"margin-left:10px; color:green;\">C:\\Users\\dominiquef\\Documents\\GIT\\mira\\mirageoscience-apps\\assets\\</span>"
      }
     },
     "9a896eab717346649076914598c25b8c": {
      "model_module": "@jupyter-widgets/base",
      "model_module_version": "1.2.0",
      "model_name": "LayoutModel",
      "state": {}
     },
     "9ac8a94a9c7a4e93a670859a27989d72": {
      "model_module": "@jupyter-widgets/controls",
      "model_module_version": "1.5.0",
      "model_name": "DescriptionStyleModel",
      "state": {
       "description_width": ""
      }
     },
     "9ad66a03ad894c87b1815ec9b81bc8fb": {
      "model_module": "@jupyter-widgets/base",
      "model_module_version": "1.2.0",
      "model_name": "LayoutModel",
      "state": {
       "display": "none",
       "width": "auto"
      }
     },
     "9b31560823654048b7f22c9a0332e9fe": {
      "model_module": "@jupyter-widgets/controls",
      "model_module_version": "1.5.0",
      "model_name": "VBoxModel",
      "state": {
       "children": [
        "IPY_MODEL_6f41da12494f41dbb6b5e283506f00fa",
        "IPY_MODEL_5bc6751aedba4c7a8744a116df7bfcff",
        "IPY_MODEL_646e8271ab5a452fb0a2c4cafc80a512",
        "IPY_MODEL_79dfca8bec80402eb38d13a7bf10853e",
        "IPY_MODEL_10036c5881514400acccb49b8d97cc2d",
        "IPY_MODEL_16b11b584f1649e7ab0c90d7ffdc5ed9",
        "IPY_MODEL_d1c8159a7ee147ffb38f5f3f8ffbc602"
       ],
       "layout": "IPY_MODEL_f4fbc01aab184018b9eda9704bba630b"
      }
     },
     "9b8630eacea44fa891b8bd37ac5f0157": {
      "model_module": "@jupyter-widgets/controls",
      "model_module_version": "1.5.0",
      "model_name": "HTMLModel",
      "state": {
       "layout": "IPY_MODEL_e2dcaf432fe04dd59f09cd412ab61600",
       "style": "IPY_MODEL_94e1a33d5a6145bdb754f564b845dcb4"
      }
     },
     "9bc83016dc544d6a8fb78e83cc1de1e5": {
      "model_module": "@jupyter-widgets/base",
      "model_module_version": "1.2.0",
      "model_name": "LayoutModel",
      "state": {
       "display": "none"
      }
     },
     "9c14d04966a54aedacd4f1eb14a12395": {
      "model_module": "@jupyter-widgets/base",
      "model_module_version": "1.2.0",
      "model_name": "LayoutModel",
      "state": {}
     },
     "9c17bbabe4954b938e5f8f209831f5c4": {
      "model_module": "@jupyter-widgets/controls",
      "model_module_version": "1.5.0",
      "model_name": "TextareaModel",
      "state": {
       "continuous_update": false,
       "description": "WKT:",
       "layout": "IPY_MODEL_de1fef4f33234073aedef503f25d721a",
       "style": "IPY_MODEL_38f824c3e16e41ae9bae3d418250ec72",
       "value": "PROJCS[\"NAD83 / UTM zone 14N\",GEOGCS[\"NAD83\",DATUM[\"North_American_Datum_1983\",SPHEROID[\"GRS 1980\",6378137,298.257222101,AUTHORITY[\"EPSG\",\"7019\"]],AUTHORITY[\"EPSG\",\"6269\"]],PRIMEM[\"Greenwich\",0,AUTHORITY[\"EPSG\",\"8901\"]],UNIT[\"degree\",0.0174532925199433,AUTHORITY[\"EPSG\",\"9122\"]],AUTHORITY[\"EPSG\",\"4269\"]],PROJECTION[\"Transverse_Mercator\"],PARAMETER[\"latitude_of_origin\",0],PARAMETER[\"central_meridian\",-99],PARAMETER[\"scale_factor\",0.9996],PARAMETER[\"false_easting\",500000],PARAMETER[\"false_northing\",0],UNIT[\"metre\",1,AUTHORITY[\"EPSG\",\"9001\"]],AXIS[\"Easting\",EAST],AXIS[\"Northing\",NORTH],AUTHORITY[\"EPSG\",\"26914\"]]"
      }
     },
     "9c6b1bb53a4d4b148aee9e4bea1c5e03": {
      "model_module": "@jupyter-widgets/controls",
      "model_module_version": "1.5.0",
      "model_name": "HBoxModel",
      "state": {
       "children": [
        "IPY_MODEL_5a6f9cd2dccf47a48c4996afdc9f91a9",
        "IPY_MODEL_2985bff4472642eb97564f49cc52d22d"
       ],
       "layout": "IPY_MODEL_970322ac0aca45e7b1e5c87032ff6b1d"
      }
     },
     "9c6dbd145279448fae3dc697f0f2cd97": {
      "model_module": "@jupyter-widgets/base",
      "model_module_version": "1.2.0",
      "model_name": "LayoutModel",
      "state": {}
     },
     "9c6dd13df07149b1bcde6ac9eb6e0c56": {
      "model_module": "@jupyter-widgets/controls",
      "model_module_version": "1.5.0",
      "model_name": "ButtonModel",
      "state": {
       "description": "Cancel",
       "layout": "IPY_MODEL_2b7a604295144c49a9f9fb8eb500e4c0",
       "style": "IPY_MODEL_029233f62f67411ab68a98c56a87263a"
      }
     },
     "9cc166e5a22e44d0b793ea2e738dd6c8": {
      "model_module": "@jupyter-widgets/controls",
      "model_module_version": "1.5.0",
      "model_name": "DescriptionStyleModel",
      "state": {
       "description_width": "initial"
      }
     },
     "9d3b5f9ec2474828aad750c648eaf19a": {
      "model_module": "@jupyter-widgets/controls",
      "model_module_version": "1.5.0",
      "model_name": "HTMLModel",
      "state": {
       "layout": "IPY_MODEL_bbb4bd477b8040a591eed4018ab813cc",
       "placeholder": "",
       "style": "IPY_MODEL_fefe1efa911e44f0af01f8c8f613e860",
       "value": "<span style=\"margin-left:10px; color:orange;\">C:\\Users\\dominiquef\\Documents\\GIT\\mira\\mirageoscience-apps\\assets\\FlinFlon.geoh5</span>"
      }
     },
     "9d8e19fed03647dca85fc380fce60046": {
      "model_module": "@jupyter-widgets/controls",
      "model_module_version": "1.5.0",
      "model_name": "DescriptionStyleModel",
      "state": {
       "description_width": ""
      }
     },
     "9da272e4e55e4555913d110de5bcc875": {
      "model_module": "@jupyter-widgets/controls",
      "model_module_version": "1.5.0",
      "model_name": "DescriptionStyleModel",
      "state": {
       "description_width": ""
      }
     },
     "9dfabd7b89e44a18b2bbb2b58a2471bf": {
      "model_module": "@jupyter-widgets/controls",
      "model_module_version": "1.5.0",
      "model_name": "DescriptionStyleModel",
      "state": {
       "description_width": ""
      }
     },
     "9ebbffb7d2cf47f8a8e766813d6c9e52": {
      "model_module": "@jupyter-widgets/base",
      "model_module_version": "1.2.0",
      "model_name": "LayoutModel",
      "state": {}
     },
     "9ebcd443e6d749c5a25602a23e6c07e4": {
      "model_module": "@jupyter-widgets/controls",
      "model_module_version": "1.5.0",
      "model_name": "DropdownModel",
      "state": {
       "_options_labels": [
        "ESRI shapefile",
        "csv",
        "geotiff",
        "UBC format"
       ],
       "description": "Export type",
       "index": 2,
       "layout": "IPY_MODEL_efdefae7a44a445d961ea70ae5d4f75a",
       "style": "IPY_MODEL_b69c3b373ac142d1b09d194647f55f32"
      }
     },
     "9f078f97f7cb4733a82ea5ff814f036f": {
      "model_module": "@jupyter-widgets/controls",
      "model_module_version": "1.5.0",
      "model_name": "ButtonStyleModel",
      "state": {}
     },
     "9f19c7c7330543eb9e7c55d21a82d3b7": {
      "model_module": "@jupyter-widgets/base",
      "model_module_version": "1.2.0",
      "model_name": "LayoutModel",
      "state": {}
     },
     "9f3328c929cf450a9476ea4f8ad1d38b": {
      "model_module": "@jupyter-widgets/base",
      "model_module_version": "1.2.0",
      "model_name": "LayoutModel",
      "state": {
       "grid_area": "pathlist",
       "width": "auto"
      }
     },
     "9f6db7b3679e4d1cab62cbe2b782dfb5": {
      "model_module": "@jupyter-widgets/controls",
      "model_module_version": "1.5.0",
      "model_name": "RadioButtonsModel",
      "state": {
       "_options_labels": [
        "float",
        "RGB"
       ],
       "description": "Type:",
       "index": 1,
       "layout": "IPY_MODEL_b34903d7a28f440cb708e1a39927797a",
       "style": "IPY_MODEL_ed6a2168afdd450496384332a11c5a4d"
      }
     },
     "9f9d76d8c74447fe8be6fd9d02a7b50f": {
      "model_module": "@jupyter-widgets/base",
      "model_module_version": "1.2.0",
      "model_name": "LayoutModel",
      "state": {}
     },
     "9fb9dbb4f89845248547ce9bbc4c060e": {
      "model_module": "@jupyter-widgets/base",
      "model_module_version": "1.2.0",
      "model_name": "LayoutModel",
      "state": {}
     },
     "9febc3bd73a649578ff8ed6a974dea5b": {
      "model_module": "@jupyter-widgets/base",
      "model_module_version": "1.2.0",
      "model_name": "LayoutModel",
      "state": {
       "display": "none",
       "width": "auto"
      }
     },
     "9ff3bdbc46a1492986a41d6c1a8a7729": {
      "model_module": "@jupyter-widgets/controls",
      "model_module_version": "1.5.0",
      "model_name": "DropdownModel",
      "state": {
       "_options_labels": [
        "ESRI shapefile",
        "csv",
        "geotiff",
        "UBC format"
       ],
       "description": "Export type",
       "index": 2,
       "layout": "IPY_MODEL_b0c5bd401be14f80b10c1ae1df0cbd07",
       "style": "IPY_MODEL_cdb3f7162e8b4700803192dc1b974e23"
      }
     },
     "a02f9f99b32a45428643c6d096a3ab99": {
      "model_module": "@jupyter-widgets/base",
      "model_module_version": "1.2.0",
      "model_name": "LayoutModel",
      "state": {
       "width": "auto"
      }
     },
     "a18212f9641e464189456ccbaf0204eb": {
      "model_module": "@jupyter-widgets/controls",
      "model_module_version": "1.5.0",
      "model_name": "ButtonModel",
      "state": {
       "description": "Cancel",
       "layout": "IPY_MODEL_9ad66a03ad894c87b1815ec9b81bc8fb",
       "style": "IPY_MODEL_bcebcfe2058e4fc2a7764d60c56a165d"
      }
     },
     "a19e85b09b91442b86e342fa2ed36840": {
      "model_module": "@jupyter-widgets/base",
      "model_module_version": "1.2.0",
      "model_name": "LayoutModel",
      "state": {
       "display": "none"
      }
     },
     "a1e0a43ecc834269a9263000bea4ed98": {
      "model_module": "@jupyter-widgets/controls",
      "model_module_version": "1.5.0",
      "model_name": "DescriptionStyleModel",
      "state": {
       "description_width": ""
      }
     },
     "a1f0ca27b97b410fa0ff7dbaf89bfb19": {
      "model_module": "@jupyter-widgets/base",
      "model_module_version": "1.2.0",
      "model_name": "LayoutModel",
      "state": {}
     },
     "a1f55c73035b4856b52771911e53d8d8": {
      "model_module": "@jupyter-widgets/controls",
      "model_module_version": "1.5.0",
      "model_name": "GridBoxModel",
      "state": {
       "children": [
        "IPY_MODEL_12a2268498cb42a2920f762fc1ae3a20",
        "IPY_MODEL_b98fd5caebc844c6bcd1e39161d4c2f2",
        "IPY_MODEL_25bb599fbafa4a12bc81ed3f4b439966"
       ],
       "layout": "IPY_MODEL_6b490473a23849ec803f39cf1ab74c9f"
      }
     },
     "a22d679d785f46858d46387fccb882e1": {
      "model_module": "@jupyter-widgets/base",
      "model_module_version": "1.2.0",
      "model_name": "LayoutModel",
      "state": {}
     },
     "a23e30d9851d41de8616a0a7133400d2": {
      "model_module": "@jupyter-widgets/base",
      "model_module_version": "1.2.0",
      "model_name": "LayoutModel",
      "state": {
       "grid_area": "pathlist",
       "width": "auto"
      }
     },
     "a24a4709c76e45d49059a1765cbad962": {
      "model_module": "@jupyter-widgets/controls",
      "model_module_version": "1.5.0",
      "model_name": "HTMLModel",
      "state": {
       "layout": "IPY_MODEL_186a8939101e414eb86fd2c05d320432",
       "style": "IPY_MODEL_025aa4b4acab488488cb85607ab72d9e"
      }
     },
     "a279d579787f4cfba313faa1fe454488": {
      "model_module": "@jupyter-widgets/controls",
      "model_module_version": "1.5.0",
      "model_name": "SelectModel",
      "state": {
       "_options_labels": [
        "..",
        "SimPEG_PFInversion",
        "Temp",
        "FlinFlon.geoh5",
        "Gravity_Magnetics_drape60m_Airborne_Gxx.tif",
        "Gravity_Magnetics_drape60m_Airborne_Gxx_Colorbar.png",
        "Gravity_Magnetics_drape60m_Airborne_Gxx_RGB.txt",
        "MtDore_TMI.geoh5",
        "Octree_Mesh.json",
        "Octree_Mesh.ui.json",
        "Octree_Mesh_v2.json",
        "input.ui.geoh5",
        "input.ui.json",
        "options_tree.json",
        "test_no_root.py",
        "tester.ui.geoh5",
        "tester.ui.json"
       ],
       "index": 3,
       "layout": "IPY_MODEL_f7ca60ed1ece4ae9840d247086b73866",
       "rows": 8,
       "style": "IPY_MODEL_362b633a6293456ab093a4e3150c9cf2"
      }
     },
     "a2a8553495a149ecbf5eb75bac4881cf": {
      "model_module": "@jupyter-widgets/controls",
      "model_module_version": "1.5.0",
      "model_name": "HBoxModel",
      "state": {
       "children": [
        "IPY_MODEL_61df47fa9f1346899af5df81c05b1222",
        "IPY_MODEL_2852ce0a97454ff8826307e4b80b14f7"
       ],
       "layout": "IPY_MODEL_fd4ff0fb98c7440d92be38f7a536fd3c"
      }
     },
     "a33884d714ce43eba7f4d3fc426bbf3d": {
      "model_module": "@jupyter-widgets/controls",
      "model_module_version": "1.5.0",
      "model_name": "TextModel",
      "state": {
       "continuous_update": false,
       "description": "Projection:",
       "layout": "IPY_MODEL_470b15b7855a4aa8bd4e5b10fb1866b1",
       "style": "IPY_MODEL_c1059a208be14e6a99fa76951d41c701",
       "value": "EPSG:26914"
      }
     },
     "a34a6b6f6ef84110b101ac67177cb041": {
      "model_module": "@jupyter-widgets/base",
      "model_module_version": "1.2.0",
      "model_name": "LayoutModel",
      "state": {
       "display": "none",
       "grid_gap": "0px 0px",
       "grid_template_areas": "\n                    'pathlist pathlist'\n                    'dircontent dircontent'\n                    ",
       "grid_template_columns": "60% 40%",
       "grid_template_rows": "auto auto",
       "width": "500px"
      }
     },
     "a400fc0ebf454715abef36efb3663499": {
      "model_module": "@jupyter-widgets/controls",
      "model_module_version": "1.5.0",
      "model_name": "DescriptionStyleModel",
      "state": {
       "description_width": "initial"
      }
     },
     "a44a34fe39144c12967d40d6003e8e10": {
      "model_module": "@jupyter-widgets/base",
      "model_module_version": "1.2.0",
      "model_name": "LayoutModel",
      "state": {
       "grid_area": "dircontent",
       "width": "auto"
      }
     },
     "a475b688cac645a2956621050d6a359b": {
      "model_module": "@jupyter-widgets/controls",
      "model_module_version": "1.5.0",
      "model_name": "DescriptionStyleModel",
      "state": {
       "description_width": ""
      }
     },
     "a49212b0fc8e4b5e8d7d8f47ddf1393e": {
      "model_module": "@jupyter-widgets/controls",
      "model_module_version": "1.5.0",
      "model_name": "SelectModel",
      "state": {
       "_options_labels": [
        "..",
        "SimPEG_PFInversion",
        "Temp",
        "FlinFlon.geoh5",
        "Gravity_Magnetics_drape60m_Airborne_Gxx.tif",
        "Gravity_Magnetics_drape60m_Airborne_Gxx_Colorbar.png",
        "Gravity_Magnetics_drape60m_Airborne_Gxx_RGB.txt",
        "MtDore_TMI.geoh5",
        "Octree_Mesh.json",
        "Octree_Mesh.ui.json",
        "Octree_Mesh_v2.json",
        "input.ui.geoh5",
        "input.ui.json",
        "options_tree.json",
        "test_no_root.py",
        "tester.ui.geoh5",
        "tester.ui.json"
       ],
       "index": 3,
       "layout": "IPY_MODEL_c161ec2d66614e0fb63eec16e6983ced",
       "rows": 8,
       "style": "IPY_MODEL_7de4b56c9f404e16ad569b8e797532bc"
      }
     },
     "a4ae6e5ede3947909ec7dd9bdda94f1f": {
      "model_module": "@jupyter-widgets/controls",
      "model_module_version": "1.5.0",
      "model_name": "SelectModel",
      "state": {
       "_options_labels": [
        "..",
        "SimPEG_PFInversion",
        "Temp"
       ],
       "index": null,
       "layout": "IPY_MODEL_ea146b4ecf6743b6ae1fae24ba54fab5",
       "rows": 8,
       "style": "IPY_MODEL_32d0fa4e650e4ce382348b0074377424"
      }
     },
     "a524db045cf24810b3caba37597c8d57": {
      "model_module": "@jupyter-widgets/controls",
      "model_module_version": "1.5.0",
      "model_name": "CheckboxModel",
      "state": {
       "description": "GA Pro - Live link",
       "disabled": false,
       "indent": false,
       "layout": "IPY_MODEL_d9f0873fc4124272b1152017315a0e57",
       "style": "IPY_MODEL_d22a1592ae1f4069b8655f1d962f420d",
       "value": false
      }
     },
     "a5901666bb4046c790f49f1b63130ae3": {
      "model_module": "@jupyter-widgets/controls",
      "model_module_version": "1.5.0",
      "model_name": "DescriptionStyleModel",
      "state": {
       "description_width": "initial"
      }
     },
     "a600d66edfff42fcb18a4568dc747df9": {
      "model_module": "@jupyter-widgets/controls",
      "model_module_version": "1.5.0",
      "model_name": "DescriptionStyleModel",
      "state": {
       "description_width": ""
      }
     },
     "a60190036e4b45d486761ab09be17bde": {
      "model_module": "@jupyter-widgets/controls",
      "model_module_version": "1.5.0",
      "model_name": "DescriptionStyleModel",
      "state": {
       "description_width": ""
      }
     },
     "a60325db04224c609753f29e4350eebb": {
      "model_module": "@jupyter-widgets/base",
      "model_module_version": "1.2.0",
      "model_name": "LayoutModel",
      "state": {
       "width": "auto"
      }
     },
     "a6502f480983455b9c1d62dba844a5e1": {
      "model_module": "@jupyter-widgets/controls",
      "model_module_version": "1.5.0",
      "model_name": "DescriptionStyleModel",
      "state": {
       "description_width": ""
      }
     },
     "a692190f84e04892a4a3b46fe6078423": {
      "model_module": "@jupyter-widgets/controls",
      "model_module_version": "1.5.0",
      "model_name": "DescriptionStyleModel",
      "state": {
       "description_width": ""
      }
     },
     "a6a54b47c740438fb80b8039faebf75b": {
      "model_module": "@jupyter-widgets/base",
      "model_module_version": "1.2.0",
      "model_name": "LayoutModel",
      "state": {
       "grid_area": "dircontent",
       "width": "auto"
      }
     },
     "a75bece7e66840ce8da0e89cb660aee6": {
      "model_module": "@jupyter-widgets/controls",
      "model_module_version": "1.5.0",
      "model_name": "DescriptionStyleModel",
      "state": {
       "description_width": "initial"
      }
     },
     "a78dc7f1400f4eebac1631626fb72057": {
      "model_module": "@jupyter-widgets/controls",
      "model_module_version": "1.5.0",
      "model_name": "DescriptionStyleModel",
      "state": {
       "description_width": ""
      }
     },
     "a7a2e1be041f4ae0b4fad6ff36b5ca54": {
      "model_module": "@jupyter-widgets/base",
      "model_module_version": "1.2.0",
      "model_name": "LayoutModel",
      "state": {}
     },
     "a7a3f2418982499da049c74a669af4fa": {
      "model_module": "@jupyter-widgets/controls",
      "model_module_version": "1.5.0",
      "model_name": "ToggleButtonModel",
      "state": {
       "layout": "IPY_MODEL_ddc3bc10886c4726a4acc39b5ad010e0",
       "style": "IPY_MODEL_6122fe022dc84f6080cffc6336634c71",
       "value": true
      }
     },
     "a8031c4ab2724f589fbb4f9a638b7472": {
      "model_module": "@jupyter-widgets/controls",
      "model_module_version": "1.5.0",
      "model_name": "ButtonStyleModel",
      "state": {}
     },
     "a8577ffcd5a4488a89e00ed9b4fa534e": {
      "model_module": "@jupyter-widgets/controls",
      "model_module_version": "1.5.0",
      "model_name": "DescriptionStyleModel",
      "state": {
       "description_width": ""
      }
     },
     "a87249f3232847bb9f51c65359749074": {
      "model_module": "@jupyter-widgets/controls",
      "model_module_version": "1.5.0",
      "model_name": "VBoxModel",
      "state": {
       "children": [
        "IPY_MODEL_8b661c39ae364e8b85fbc8e7a1b11f71",
        "IPY_MODEL_73e62db1fdf14e66bf8510c6bc1249cb",
        "IPY_MODEL_9f6db7b3679e4d1cab62cbe2b782dfb5"
       ],
       "layout": "IPY_MODEL_cdcd835ec55c4afa81ce2796a75fd670"
      }
     },
     "a89daf2ab7f04c35971f28375e7a1bae": {
      "model_module": "@jupyter-widgets/controls",
      "model_module_version": "1.5.0",
      "model_name": "DescriptionStyleModel",
      "state": {
       "description_width": ""
      }
     },
     "a8a4a634f3a54038a8b39facb93cf014": {
      "model_module": "@jupyter-widgets/controls",
      "model_module_version": "1.5.0",
      "model_name": "DescriptionStyleModel",
      "state": {
       "description_width": ""
      }
     },
     "a8a7125741d5447f8baa825cffb4c9b5": {
      "model_module": "@jupyter-widgets/base",
      "model_module_version": "1.2.0",
      "model_name": "LayoutModel",
      "state": {
       "width": "auto"
      }
     },
     "a91df016660142d18fa423c8a0ff2b27": {
      "model_module": "@jupyter-widgets/controls",
      "model_module_version": "1.5.0",
      "model_name": "VBoxModel",
      "state": {
       "children": [
        "IPY_MODEL_68adeee8bffa427ba1152a8abc44f356",
        "IPY_MODEL_387d099a82454608a15c3f54566f5535"
       ],
       "layout": "IPY_MODEL_0511b975673f4b9da48f8a96fb980c6a"
      }
     },
     "a9374932676148d19afb94cc007c1de4": {
      "model_module": "@jupyter-widgets/controls",
      "model_module_version": "1.5.0",
      "model_name": "FloatTextModel",
      "state": {
       "description": "No-Data-Value",
       "layout": "IPY_MODEL_93612f610eea46c8859de49816bba374",
       "step": null,
       "style": "IPY_MODEL_b2c0b18b03c0489bbbe1f2f7f08ddc93",
       "value": -99999
      }
     },
     "a9deb58b83ef4039923ebca2fed114f7": {
      "model_module": "@jupyter-widgets/controls",
      "model_module_version": "1.5.0",
      "model_name": "VBoxModel",
      "state": {
       "children": [
        "IPY_MODEL_282d689ff0a14759ace45de530127050",
        "IPY_MODEL_f995213008bd4fc298cd2306000b0033"
       ],
       "layout": "IPY_MODEL_626cbf94b9194a5a8dbe89b86cd09541"
      }
     },
     "aa003954ce9546e68d83b51ac2846b9a": {
      "model_module": "@jupyter-widgets/controls",
      "model_module_version": "1.5.0",
      "model_name": "VBoxModel",
      "state": {
       "children": [
        "IPY_MODEL_9b8630eacea44fa891b8bd37ac5f0157",
        "IPY_MODEL_1308974476774651a03608feb2348ee5",
        "IPY_MODEL_3542436fe2bf4d7f87fe4ac51166e284"
       ],
       "layout": "IPY_MODEL_5b3ec45ee1694c108adcc6ac7a00305e"
      }
     },
     "aa78468da2164d7a8016d615b656d5a0": {
      "model_module": "@jupyter-widgets/controls",
      "model_module_version": "1.5.0",
      "model_name": "VBoxModel",
      "state": {
       "children": [
        "IPY_MODEL_bc0afaf0bb814f009ebb732a4e8debb2",
        "IPY_MODEL_32095945925e4041baed60f2cbbfc95f"
       ],
       "layout": "IPY_MODEL_b801ec0e653d46e48118c5be5f15b0c2"
      }
     },
     "ab0ab048ab0648d8b6adcc8ddb743bf8": {
      "model_module": "@jupyter-widgets/base",
      "model_module_version": "1.2.0",
      "model_name": "LayoutModel",
      "state": {}
     },
     "ab2ace3429b84fedbcfaf5da84b78580": {
      "model_module": "@jupyter-widgets/controls",
      "model_module_version": "1.5.0",
      "model_name": "TextModel",
      "state": {
       "layout": "IPY_MODEL_ec37b52c27924a9da0dd208a483f12c3",
       "placeholder": "output filename",
       "style": "IPY_MODEL_6d879306c5694226b34194988a7b8ab3",
       "value": "FlinFlon.geoh5"
      }
     },
     "ab5c7952a1564427afbd0891c8b8bd85": {
      "model_module": "@jupyter-widgets/base",
      "model_module_version": "1.2.0",
      "model_name": "LayoutModel",
      "state": {
       "grid_area": "pathlist",
       "width": "auto"
      }
     },
     "ab8cfc955bce49fd9d539a79f1199157": {
      "model_module": "@jupyter-widgets/controls",
      "model_module_version": "1.5.0",
      "model_name": "ButtonStyleModel",
      "state": {}
     },
     "abcf129fd6d84393aaded3282953f938": {
      "model_module": "@jupyter-widgets/controls",
      "model_module_version": "1.5.0",
      "model_name": "SelectMultipleModel",
      "state": {
       "_options_labels": [
        "",
        "--- Channels ---",
        "Airborne_Gxx",
        "Airborne_Gxy",
        "Airborne_Gxz",
        "Airborne_Gyy",
        "Airborne_Gyz",
        "Airborne_Gz",
        "Airborne_Gzz",
        "Airborne_TMI",
        "Ground_Gz",
        "Z"
       ],
       "description": "Data: ",
       "index": [
        2
       ],
       "layout": "IPY_MODEL_0e39f6aba7a44c909dd2f745ff2c4d82",
       "rows": 5,
       "style": "IPY_MODEL_d9e17ea6e75a4259b4251d071ca11cb1"
      }
     },
     "abd7f7f5954d4d47bb16610216be2be5": {
      "model_module": "@jupyter-widgets/base",
      "model_module_version": "1.2.0",
      "model_name": "LayoutModel",
      "state": {
       "width": "auto"
      }
     },
     "ac287fee3d344117800f06c468ddeac5": {
      "model_module": "@jupyter-widgets/controls",
      "model_module_version": "1.5.0",
      "model_name": "DescriptionStyleModel",
      "state": {
       "description_width": ""
      }
     },
     "acc5eedbbadc46e8b3fd5282d5ece1e6": {
      "model_module": "@jupyter-widgets/base",
      "model_module_version": "1.2.0",
      "model_name": "LayoutModel",
      "state": {}
     },
     "acfec0f4c909432f8acfe3d3ed9aae6f": {
      "model_module": "@jupyter-widgets/controls",
      "model_module_version": "1.5.0",
      "model_name": "VBoxModel",
      "state": {
       "children": [
        "IPY_MODEL_d7db254398154f37acd535d5be3cb6b8",
        "IPY_MODEL_8d5d4e29aacb4054820103e9664a38a1"
       ],
       "layout": "IPY_MODEL_f0a800b33ec84ec481dca48e4f3e7b0f"
      }
     },
     "ae7b58ed74274cba8c843ad571a7fc7b": {
      "model_module": "@jupyter-widgets/base",
      "model_module_version": "1.2.0",
      "model_name": "LayoutModel",
      "state": {}
     },
     "aed6f2db454949fbbf2a4e3f31b919a0": {
      "model_module": "@jupyter-widgets/controls",
      "model_module_version": "1.5.0",
      "model_name": "DescriptionStyleModel",
      "state": {
       "description_width": "initial"
      }
     },
     "af6a6ba5fb1947459dd25dcd5f2e740f": {
      "model_module": "@jupyter-widgets/controls",
      "model_module_version": "1.5.0",
      "model_name": "DescriptionStyleModel",
      "state": {
       "description_width": ""
      }
     },
     "af79ff19262d4a9db8b532c63dcccc99": {
      "model_module": "@jupyter-widgets/controls",
      "model_module_version": "1.5.0",
      "model_name": "DescriptionStyleModel",
      "state": {
       "description_width": ""
      }
     },
     "afc6ef0b5bde426eb7d831fae9e85d98": {
      "model_module": "@jupyter-widgets/base",
      "model_module_version": "1.2.0",
      "model_name": "LayoutModel",
      "state": {}
     },
     "b0b3587116af474fb30c409b8705b950": {
      "model_module": "@jupyter-widgets/base",
      "model_module_version": "1.2.0",
      "model_name": "LayoutModel",
      "state": {}
     },
     "b0c5bd401be14f80b10c1ae1df0cbd07": {
      "model_module": "@jupyter-widgets/base",
      "model_module_version": "1.2.0",
      "model_name": "LayoutModel",
      "state": {}
     },
     "b0f2534e7d81435abd9f9cae37e32429": {
      "model_module": "@jupyter-widgets/base",
      "model_module_version": "1.2.0",
      "model_name": "LayoutModel",
      "state": {}
     },
     "b16e4eda79f94ac3befdf61bf31a2c04": {
      "model_module": "@jupyter-widgets/controls",
      "model_module_version": "1.5.0",
      "model_name": "DescriptionStyleModel",
      "state": {
       "description_width": ""
      }
     },
     "b18955aa307d49deade78df0a7b1c8f8": {
      "model_module": "@jupyter-widgets/controls",
      "model_module_version": "1.5.0",
      "model_name": "VBoxModel",
      "state": {
       "children": [
        "IPY_MODEL_bc1f0dc7d7eb4955a52402ccd2a4b6d3",
        "IPY_MODEL_ec3817cf52af41bab9de0a01b45657d3"
       ],
       "layout": "IPY_MODEL_7c18e288fa4e456b8c31d592bf1c0deb"
      }
     },
     "b18e9b80e2734a7c894befb54d889aab": {
      "model_module": "@jupyter-widgets/base",
      "model_module_version": "1.2.0",
      "model_name": "LayoutModel",
      "state": {}
     },
     "b1d472f0b5d4459e9db65bccb6df7d17": {
      "model_module": "@jupyter-widgets/controls",
      "model_module_version": "1.5.0",
      "model_name": "DescriptionStyleModel",
      "state": {
       "description_width": ""
      }
     },
     "b2362ccd64a5446499b2497fc847cc48": {
      "model_module": "@jupyter-widgets/controls",
      "model_module_version": "1.5.0",
      "model_name": "VBoxModel",
      "state": {
       "children": [
        "IPY_MODEL_82335f8f2555425f9320c7e4457f42c0"
       ],
       "layout": "IPY_MODEL_d8311694d4ca4b3fb70876d1574543b7"
      }
     },
     "b25445cb8d1747749e7447f0520c7637": {
      "model_module": "@jupyter-widgets/controls",
      "model_module_version": "1.5.0",
      "model_name": "DescriptionStyleModel",
      "state": {
       "description_width": ""
      }
     },
     "b268382a0172400d81e9b976f25b7786": {
      "model_module": "@jupyter-widgets/base",
      "model_module_version": "1.2.0",
      "model_name": "LayoutModel",
      "state": {}
     },
     "b2c0b18b03c0489bbbe1f2f7f08ddc93": {
      "model_module": "@jupyter-widgets/controls",
      "model_module_version": "1.5.0",
      "model_name": "DescriptionStyleModel",
      "state": {
       "description_width": ""
      }
     },
     "b31dc9e85c4b4e69970d33378052aac6": {
      "model_module": "@jupyter-widgets/base",
      "model_module_version": "1.2.0",
      "model_name": "LayoutModel",
      "state": {}
     },
     "b324f387ee0b4251ae1b9ef9ff5c541b": {
      "model_module": "@jupyter-widgets/base",
      "model_module_version": "1.2.0",
      "model_name": "LayoutModel",
      "state": {
       "display": "none"
      }
     },
     "b34903d7a28f440cb708e1a39927797a": {
      "model_module": "@jupyter-widgets/base",
      "model_module_version": "1.2.0",
      "model_name": "LayoutModel",
      "state": {}
     },
     "b358785b23a7492897d69246e80d5314": {
      "model_module": "@jupyter-widgets/base",
      "model_module_version": "1.2.0",
      "model_name": "LayoutModel",
      "state": {
       "width": "auto"
      }
     },
     "b374a014883648219a698eb19532288b": {
      "model_module": "@jupyter-widgets/controls",
      "model_module_version": "1.5.0",
      "model_name": "DescriptionStyleModel",
      "state": {
       "description_width": ""
      }
     },
     "b3f0c67f5e86404e87ac7b37f6ce6001": {
      "model_module": "@jupyter-widgets/controls",
      "model_module_version": "1.5.0",
      "model_name": "ButtonModel",
      "state": {
       "button_style": "danger",
       "description": "Export",
       "icon": "check",
       "layout": "IPY_MODEL_03245a5df5634268aeb5204cadc0e518",
       "style": "IPY_MODEL_264906e97f374b5b96bccfacb8d098cc",
       "tooltip": "Run computation"
      }
     },
     "b400e35850cd4e4a947f2442b5f3994d": {
      "model_module": "@jupyter-widgets/controls",
      "model_module_version": "1.5.0",
      "model_name": "DropdownModel",
      "state": {
       "_options_labels": [
        "C:\\Users\\dominiquef\\Documents\\GIT\\mira\\mirageoscience-apps\\assets",
        "C:\\Users\\dominiquef\\Documents\\GIT\\mira\\mirageoscience-apps",
        "C:\\Users\\dominiquef\\Documents\\GIT\\mira",
        "C:\\Users\\dominiquef\\Documents\\GIT",
        "C:\\Users\\dominiquef\\Documents",
        "C:\\Users\\dominiquef",
        "C:\\Users",
        "C:\\",
        "D:\\",
        "Z:\\"
       ],
       "index": 0,
       "layout": "IPY_MODEL_f87bfe1d25c144e8aa99429dd4c8719f",
       "style": "IPY_MODEL_c9e4bbd4d9c749dc8dd654975dce1504"
      }
     },
     "b40e4af8a70e45b1bae72162747ddda6": {
      "model_module": "@jupyter-widgets/controls",
      "model_module_version": "1.5.0",
      "model_name": "RadioButtonsModel",
      "state": {
       "_options_labels": [
        "float",
        "RGB"
       ],
       "description": "Type:",
       "index": 1,
       "layout": "IPY_MODEL_e3e414ca69c04645a39f1a45ce45fee2",
       "style": "IPY_MODEL_6c43111a92374ae3ac01501e75d5d7d4"
      }
     },
     "b45abf8a74674cb0abd2ff3f3ad2d106": {
      "model_module": "@jupyter-widgets/controls",
      "model_module_version": "1.5.0",
      "model_name": "ButtonStyleModel",
      "state": {}
     },
     "b4f9afd452f34fada2f03c504a4c815c": {
      "model_module": "@jupyter-widgets/controls",
      "model_module_version": "1.5.0",
      "model_name": "VBoxModel",
      "state": {
       "children": [
        "IPY_MODEL_75c95e093655432cb1c0caa3c881d277",
        "IPY_MODEL_3d5018ef2ce746fe8f24ab442b4b2ff9"
       ],
       "layout": "IPY_MODEL_69ad116a03cd41e8b18da27166307de5"
      }
     },
     "b5b5d56eb68d4178913f6ad98d0fc34f": {
      "model_module": "@jupyter-widgets/base",
      "model_module_version": "1.2.0",
      "model_name": "LayoutModel",
      "state": {
       "width": "auto"
      }
     },
     "b5ec999d3b4b43ea831dd15d5a9ab4a4": {
      "model_module": "@jupyter-widgets/controls",
      "model_module_version": "1.5.0",
      "model_name": "VBoxModel",
      "state": {
       "children": [
        "IPY_MODEL_0ae2b33aeab7484689e84fcc5267c76d",
        "IPY_MODEL_8fe5fbd2b7264b8b959e7533af0d1d0b",
        "IPY_MODEL_bb2012134dd647ac868e1566a7e21967"
       ],
       "layout": "IPY_MODEL_f0c1b012ddaa4531adf0f0e7bcc96edd"
      }
     },
     "b605309e9c3945ca8e1550f4550a6f1b": {
      "model_module": "@jupyter-widgets/base",
      "model_module_version": "1.2.0",
      "model_name": "LayoutModel",
      "state": {}
     },
     "b60fe6c11a864f1e8035810ecae17b1d": {
      "model_module": "@jupyter-widgets/controls",
      "model_module_version": "1.5.0",
      "model_name": "TextModel",
      "state": {
       "disabled": true,
       "layout": "IPY_MODEL_20531519a6d942a985fc0ec27929fd25",
       "placeholder": "output filename",
       "style": "IPY_MODEL_bdd3ad809a8f431dafe0edd54dde6441"
      }
     },
     "b69c3b373ac142d1b09d194647f55f32": {
      "model_module": "@jupyter-widgets/controls",
      "model_module_version": "1.5.0",
      "model_name": "DescriptionStyleModel",
      "state": {
       "description_width": "initial"
      }
     },
     "b712ed3ee3c04ee4935aa80ea0e3ccea": {
      "model_module": "@jupyter-widgets/base",
      "model_module_version": "1.2.0",
      "model_name": "LayoutModel",
      "state": {
       "grid_area": "filename",
       "width": "auto"
      }
     },
     "b77bd33c3db9492192554c60d0375e57": {
      "model_module": "@jupyter-widgets/base",
      "model_module_version": "1.2.0",
      "model_name": "LayoutModel",
      "state": {}
     },
     "b77fc5bed12647f38bc02f3f6d6c141f": {
      "model_module": "@jupyter-widgets/base",
      "model_module_version": "1.2.0",
      "model_name": "LayoutModel",
      "state": {}
     },
     "b7800cd7997d4977add2a5861472a5f6": {
      "model_module": "@jupyter-widgets/base",
      "model_module_version": "1.2.0",
      "model_name": "LayoutModel",
      "state": {
       "width": "auto"
      }
     },
     "b7922f5478ce4ce89782eebfb9f9d44a": {
      "model_module": "@jupyter-widgets/base",
      "model_module_version": "1.2.0",
      "model_name": "LayoutModel",
      "state": {
       "display": "none",
       "grid_gap": "0px 0px",
       "grid_template_areas": "\n                    'pathlist filename'\n                    'dircontent dircontent'\n                    ",
       "grid_template_columns": "60% 40%",
       "grid_template_rows": "auto auto",
       "width": "500px"
      }
     },
     "b7dbd91ae2204cbe97b5b6d9e5a99d64": {
      "model_module": "@jupyter-widgets/controls",
      "model_module_version": "1.5.0",
      "model_name": "DescriptionStyleModel",
      "state": {
       "description_width": "initial"
      }
     },
     "b801ec0e653d46e48118c5be5f15b0c2": {
      "model_module": "@jupyter-widgets/base",
      "model_module_version": "1.2.0",
      "model_name": "LayoutModel",
      "state": {}
     },
     "b805455005f340788652791232285d37": {
      "model_module": "@jupyter-widgets/controls",
      "model_module_version": "1.5.0",
      "model_name": "DescriptionStyleModel",
      "state": {
       "description_width": ""
      }
     },
     "b809e5d9278c4f6eae566705e07e7d4f": {
      "model_module": "@jupyter-widgets/controls",
      "model_module_version": "1.5.0",
      "model_name": "GridBoxModel",
      "state": {
       "children": [
        "IPY_MODEL_b400e35850cd4e4a947f2442b5f3994d",
        "IPY_MODEL_cbeb84dbbe284e3e9a7270c339f5d8ce",
        "IPY_MODEL_2ebc4937244d40cf83d3ded7f127913a"
       ],
       "layout": "IPY_MODEL_12b73224e32a473aad871561cc436f04"
      }
     },
     "b888697841de4136a28021ce5ca40e95": {
      "model_module": "@jupyter-widgets/base",
      "model_module_version": "1.2.0",
      "model_name": "LayoutModel",
      "state": {
       "grid_area": "dircontent",
       "width": "auto"
      }
     },
     "b966bc5bcfa84e2b8a4a33ed7cdae026": {
      "model_module": "@jupyter-widgets/controls",
      "model_module_version": "1.5.0",
      "model_name": "DescriptionStyleModel",
      "state": {
       "description_width": "initial"
      }
     },
     "b98fd5caebc844c6bcd1e39161d4c2f2": {
      "model_module": "@jupyter-widgets/controls",
      "model_module_version": "1.5.0",
      "model_name": "TextModel",
      "state": {
       "layout": "IPY_MODEL_369e345e9fd34ec4a8192c0aa68e99c7",
       "placeholder": "output filename",
       "style": "IPY_MODEL_c91d0b707a55455cb5a7f3196bd4633c",
       "value": "FlinFlon.geoh5"
      }
     },
     "b9e7a7639dbf44dfa50d856009a0badf": {
      "model_module": "@jupyter-widgets/controls",
      "model_module_version": "1.5.0",
      "model_name": "DescriptionStyleModel",
      "state": {
       "description_width": ""
      }
     },
     "ba2e73d0920146beb0c14e6ece71548d": {
      "model_module": "@jupyter-widgets/base",
      "model_module_version": "1.2.0",
      "model_name": "LayoutModel",
      "state": {
       "grid_area": "filename",
       "width": "auto"
      }
     },
     "ba413159f48e4696b3e905df26c2bd79": {
      "model_module": "@jupyter-widgets/controls",
      "model_module_version": "1.5.0",
      "model_name": "TextModel",
      "state": {
       "layout": "IPY_MODEL_94c8e44575b04defba60c0390e23d30d",
       "placeholder": "output filename",
       "style": "IPY_MODEL_05ff645a620049dfb0808ba13df3ece3",
       "value": "FlinFlon.geoh5"
      }
     },
     "ba60c9749e714c59b8ef2651a985c8fb": {
      "model_module": "@jupyter-widgets/controls",
      "model_module_version": "1.5.0",
      "model_name": "ButtonStyleModel",
      "state": {}
     },
     "baa1476d65694899b68442203a43bb5c": {
      "model_module": "@jupyter-widgets/controls",
      "model_module_version": "1.5.0",
      "model_name": "HBoxModel",
      "state": {
       "children": [
        "IPY_MODEL_fb354a68a9624fcc81b0f91b5e508f63",
        "IPY_MODEL_d8fb3f5b65ed4a2a99f43d839016406c",
        "IPY_MODEL_7ffd44131361412d90964223dc1b62a5"
       ],
       "layout": "IPY_MODEL_33fe6174ce1c4647bb034b6d0d519376"
      }
     },
     "bac1777bde864457b993d6502e7431c7": {
      "model_module": "@jupyter-widgets/controls",
      "model_module_version": "1.5.0",
      "model_name": "VBoxModel",
      "state": {
       "children": [
        "IPY_MODEL_38d5a037833b4b238170c953e6b59692",
        "IPY_MODEL_7104cc520357410bb6bedbc9b2f1a264",
        "IPY_MODEL_b40e4af8a70e45b1bae72162747ddda6"
       ],
       "layout": "IPY_MODEL_7973adf8e85347aa82eaec6862f16424"
      }
     },
     "bb0be385c1f74e21a9060bf8d440c8f5": {
      "model_module": "@jupyter-widgets/controls",
      "model_module_version": "1.5.0",
      "model_name": "ButtonModel",
      "state": {
       "description": "Cancel",
       "layout": "IPY_MODEL_9febc3bd73a649578ff8ed6a974dea5b",
       "style": "IPY_MODEL_4f7d4da9bd014a42961380ae3d0cbbf0"
      }
     },
     "bb0f53256ed94523b423c93d9c174e9b": {
      "model_module": "@jupyter-widgets/controls",
      "model_module_version": "1.5.0",
      "model_name": "TextModel",
      "state": {
       "continuous_update": false,
       "description": "Group:",
       "layout": "IPY_MODEL_555d01f183074480b123a7e184212e93",
       "style": "IPY_MODEL_4c79f0813eeb4ccb8b59455c8e29ba83"
      }
     },
     "bb2012134dd647ac868e1566a7e21967": {
      "model_module": "@jupyter-widgets/controls",
      "model_module_version": "1.5.0",
      "model_name": "HBoxModel",
      "state": {
       "children": [
        "IPY_MODEL_3e76b9b4636f4c9580ed5647046e9f12",
        "IPY_MODEL_fc14b850e16a432b803201070fc1cd30",
        "IPY_MODEL_865e88a338b64fa486021542ee0e2b0e"
       ],
       "layout": "IPY_MODEL_5142759c0c564aa2949f3aa7b4a356f6"
      }
     },
     "bbb4bd477b8040a591eed4018ab813cc": {
      "model_module": "@jupyter-widgets/base",
      "model_module_version": "1.2.0",
      "model_name": "LayoutModel",
      "state": {}
     },
     "bc0afaf0bb814f009ebb732a4e8debb2": {
      "model_module": "@jupyter-widgets/controls",
      "model_module_version": "1.5.0",
      "model_name": "LabelModel",
      "state": {
       "layout": "IPY_MODEL_0b83387bc1a646f39beeab5872911deb",
       "style": "IPY_MODEL_6e9480d88b354ea19ed426e3f231b9ef",
       "value": "Workspace"
      }
     },
     "bc12594a8f2c45e299a9f82183db02e2": {
      "model_module": "@jupyter-widgets/controls",
      "model_module_version": "1.5.0",
      "model_name": "DropdownModel",
      "state": {
       "_options_labels": [
        "",
        "fault_splay1",
        "fault_Cliff_Lake",
        "fault_Other_FlinFlon",
        "fault_Club_Lake_splay",
        "fault_Catherine_splay2",
        "fault_Birch_View",
        "fault_Dion_Lake",
        "fault_FlinFlon_splay",
        "fault_West_Mandy_Road",
        "fault_Channing",
        "fault_Ross_Lake",
        "fault_Louis_Hidden",
        "fault_Lake_View_thrust",
        "contact_Schist_Lake",
        "fault_Burley_Lake",
        "fault_Dion_Lake_splay",
        "fault_Green_Lake",
        "fault_FlinFlon",
        "fault_Catherine_splay1",
        "fault_East_Mandy_Road",
        "fault_Other_FlinFlon_South",
        "fault_Catherine_splay4",
        "contact_Stitt_Island",
        "fault_Club_Lake",
        "fault_Tailing_Pond",
        "35_Hidden_Reservoir_Hr5",
        "29_Hidden_Reservoir_Hr1a",
        "60_BlueLagoon_Fb2",
        "20_FlinFlon_Undivided_Int_Dykes_D2f",
        "04_Boundary_Intrusive_S4h",
        "53_Millrock_Rhyolite_Fm4b",
        "19_FlinFlon_Undivided_Int_Dykes_D2b",
        "18_FlinFlon_Undivided_Int_Dykes_777_D2b",
        "06_Phantom_Lake_Intrusive_S3a",
        "21_FlinFlon_Undivided_Int_Dykes_D3a",
        "43_Millrock_CHLSH_South",
        "56_Millrock_Basalt_Fm1ba",
        "17_FlinFlon_Undivided_Int_Dykes_D2",
        "32_Hidden_Reservoir_Hr1b_SW",
        "11_Missi_M3_NE",
        "13_Missi_M1",
        "07_Annabel_Granitoid_S1",
        "45_Millrock_Gabbro_South",
        "01_Late_Intrusive_S5b",
        "31_Hidden_Reservoir_Hr1c_SW",
        "52_Millrock_Rhyolite_Fm4_West_check",
        "55_Millrock_Basalt_Fm1bf",
        "34_Hidden_Reservoir_Hr2b",
        "03_Boundary_Intrusive_S4b",
        "42_Millrock_CHLSH_North",
        "26_Louis_L3",
        "23_FlinFlon_Undivided_Int_Felsic_D4g",
        "30_Hidden_Reservoir_Hr1b",
        "59_BlueLagoon_Fb3",
        "49_Millrock_MVR_Fm5d",
        "44_Millrock_Gabbro_North",
        "27_Hidden_Carlisle_Hc4",
        "22_FlinFlon_Undivided_Int_Felsic_D4e",
        "02_Boundary_Intrusive_S4a",
        "61_BlueLagoon_Fb1_NW",
        "05_Boundary_Intrusive_S4g",
        "39_Ore_Callinan",
        "38_Ore_Dan_Owens",
        "40_Ore_FlinFlon",
        "Inversion_VTEM_Model",
        "Gravity_Magnetics_drape60m",
        "CDI_VTEM_model",
        "Data_FEM_pseudo3D",
        "O2O_Interp_25m",
        "geochem",
        "Inversion_DIGHEM_Model",
        "Topography",
        "Data_TEM_pseudo3D",
        "Data_ZTEM"
       ],
       "description": "Object:",
       "index": 66,
       "layout": "IPY_MODEL_f8c52d540d3f421a871b8a9f85850974",
       "style": "IPY_MODEL_670bb46f5c2947b1a6535a2c48a28aa6"
      }
     },
     "bc1f0dc7d7eb4955a52402ccd2a4b6d3": {
      "model_module": "@jupyter-widgets/controls",
      "model_module_version": "1.5.0",
      "model_name": "TextModel",
      "state": {
       "continuous_update": false,
       "description": "Projection:",
       "layout": "IPY_MODEL_a7a2e1be041f4ae0b4fad6ff36b5ca54",
       "style": "IPY_MODEL_6b2417868f56450ebbd06fda859076e9",
       "value": "EPSG:26914"
      }
     },
     "bc20a188b3144b6abed1b9964d7415dc": {
      "model_module": "@jupyter-widgets/controls",
      "model_module_version": "1.5.0",
      "model_name": "VBoxModel",
      "state": {
       "children": [
        "IPY_MODEL_24eb1c0e41ec4aa8b363b54476f5e93c",
        "IPY_MODEL_274aa5ce31d342478b839a6ebe0f0d5d"
       ],
       "layout": "IPY_MODEL_bf13f7c1b6044bd28c38a8c75541e9b1"
      }
     },
     "bc34dd02d0dc45699e064cab6e0c25cd": {
      "model_module": "@jupyter-widgets/controls",
      "model_module_version": "1.5.0",
      "model_name": "SelectMultipleModel",
      "state": {
       "_options_labels": [
        "",
        "--- Channels ---",
        "Airborne_Gxx",
        "Airborne_Gxy",
        "Airborne_Gxz",
        "Airborne_Gyy",
        "Airborne_Gyz",
        "Airborne_Gz",
        "Airborne_Gzz",
        "Airborne_TMI",
        "Ground_Gz",
        "Z"
       ],
       "description": "Data: ",
       "index": [
        2
       ],
       "layout": "IPY_MODEL_f2e62f74ce07446fa0077c34c4e1ed61",
       "rows": 5,
       "style": "IPY_MODEL_9cc166e5a22e44d0b793ea2e738dd6c8"
      }
     },
     "bc38c58a65814085bd97a0a2039f77ef": {
      "model_module": "@jupyter-widgets/base",
      "model_module_version": "1.2.0",
      "model_name": "LayoutModel",
      "state": {}
     },
     "bc3aea27f69b454f91348149f80b1587": {
      "model_module": "@jupyter-widgets/controls",
      "model_module_version": "1.5.0",
      "model_name": "TextModel",
      "state": {
       "continuous_update": false,
       "description": "Group:",
       "layout": "IPY_MODEL_c8fa9c707aef43e0ab47186d2a35a256",
       "style": "IPY_MODEL_0ad4885afe7d4024932b200d9197cbb3"
      }
     },
     "bc73ad0a0823448e9574d159e7842f31": {
      "model_module": "@jupyter-widgets/base",
      "model_module_version": "1.2.0",
      "model_name": "LayoutModel",
      "state": {
       "width": "auto"
      }
     },
     "bcebcfe2058e4fc2a7764d60c56a165d": {
      "model_module": "@jupyter-widgets/controls",
      "model_module_version": "1.5.0",
      "model_name": "ButtonStyleModel",
      "state": {}
     },
     "bced5b6bb9e846258cd49dbd24552e91": {
      "model_module": "@jupyter-widgets/base",
      "model_module_version": "1.2.0",
      "model_name": "LayoutModel",
      "state": {}
     },
     "bd49ecd4aa8d46f5bf4ce50178407caa": {
      "model_module": "@jupyter-widgets/controls",
      "model_module_version": "1.5.0",
      "model_name": "DescriptionStyleModel",
      "state": {
       "description_width": "initial"
      }
     },
     "bdad99e7c8344789b8eaccfec769ea48": {
      "model_module": "@jupyter-widgets/base",
      "model_module_version": "1.2.0",
      "model_name": "LayoutModel",
      "state": {
       "width": "auto"
      }
     },
     "bdb3cd8590a949c880b4db8e9d8b99be": {
      "model_module": "@jupyter-widgets/base",
      "model_module_version": "1.2.0",
      "model_name": "LayoutModel",
      "state": {}
     },
     "bdd3ad809a8f431dafe0edd54dde6441": {
      "model_module": "@jupyter-widgets/controls",
      "model_module_version": "1.5.0",
      "model_name": "DescriptionStyleModel",
      "state": {
       "description_width": ""
      }
     },
     "be1612fca5a94d7ea95110880d2fbf9a": {
      "model_module": "@jupyter-widgets/base",
      "model_module_version": "1.2.0",
      "model_name": "LayoutModel",
      "state": {
       "display": "none"
      }
     },
     "be648bea5c084a888fa395f7a1ac7b45": {
      "model_module": "@jupyter-widgets/controls",
      "model_module_version": "1.5.0",
      "model_name": "DescriptionStyleModel",
      "state": {
       "description_width": ""
      }
     },
     "bebb3445499440df8841867bd033d6b2": {
      "model_module": "@jupyter-widgets/controls",
      "model_module_version": "1.5.0",
      "model_name": "ButtonStyleModel",
      "state": {}
     },
     "becf6a8166494be09db37c97597a0fbf": {
      "model_module": "@jupyter-widgets/base",
      "model_module_version": "1.2.0",
      "model_name": "LayoutModel",
      "state": {
       "width": "auto"
      }
     },
     "bf13f7c1b6044bd28c38a8c75541e9b1": {
      "model_module": "@jupyter-widgets/base",
      "model_module_version": "1.2.0",
      "model_name": "LayoutModel",
      "state": {}
     },
     "bf5420f544724b1581b41ca975283819": {
      "model_module": "@jupyter-widgets/base",
      "model_module_version": "1.2.0",
      "model_name": "LayoutModel",
      "state": {
       "display": "none",
       "grid_area": "filename",
       "width": "auto"
      }
     },
     "bf8cc1e69e1040bc9eae812fc16ce174": {
      "model_module": "@jupyter-widgets/base",
      "model_module_version": "1.2.0",
      "model_name": "LayoutModel",
      "state": {}
     },
     "bfd570b3863146bc83dc57fc17c9bde0": {
      "model_module": "@jupyter-widgets/controls",
      "model_module_version": "1.5.0",
      "model_name": "HTMLModel",
      "state": {
       "layout": "IPY_MODEL_e2d0bece57c9478a8d126ee99047265b",
       "style": "IPY_MODEL_c908ad912d704e799ec3046658e1f287"
      }
     },
     "c006be7f0394444cbbfeb2ba827eb2ad": {
      "model_module": "@jupyter-widgets/controls",
      "model_module_version": "1.5.0",
      "model_name": "VBoxModel",
      "state": {
       "children": [
        "IPY_MODEL_11860df43a49443399c74df86a99f63a"
       ],
       "layout": "IPY_MODEL_e29caf14f08f44cf9938ce69cf0c94bb"
      }
     },
     "c0b90510847d4abc842f3d68a2fb8a3d": {
      "model_module": "@jupyter-widgets/controls",
      "model_module_version": "1.5.0",
      "model_name": "TextModel",
      "state": {
       "continuous_update": false,
       "description": "Projection:",
       "layout": "IPY_MODEL_ff0b6b4b4f944ff4b3d980247b5c44fc",
       "style": "IPY_MODEL_4dcc71953b51409a814cc89fdbdf327d",
       "value": "EPSG:26914"
      }
     },
     "c0ba335849d2409f9bfb995cac0b747c": {
      "model_module": "@jupyter-widgets/controls",
      "model_module_version": "1.5.0",
      "model_name": "SelectModel",
      "state": {
       "_options_labels": [
        "..",
        "SimPEG_PFInversion",
        "Temp"
       ],
       "index": null,
       "layout": "IPY_MODEL_5f42b308305a4a499038c55c9b30780a",
       "rows": 8,
       "style": "IPY_MODEL_3a925806e924466e89e9304d282686a1"
      }
     },
     "c0ec801ddfb44ec3a8fa60b2fb60b842": {
      "model_module": "@jupyter-widgets/controls",
      "model_module_version": "1.5.0",
      "model_name": "VBoxModel",
      "state": {
       "children": [
        "IPY_MODEL_723bb09dfb7445d2b65aaee88a79b8c0",
        "IPY_MODEL_a2a8553495a149ecbf5eb75bac4881cf",
        "IPY_MODEL_214fb1c399394b288bd5ffbb390331f2",
        "IPY_MODEL_2852ce0a97454ff8826307e4b80b14f7",
        "IPY_MODEL_6bcf1f1e7a354475bd22964712e5be68",
        "IPY_MODEL_db6f5b367faf44cb89af6b72f1b73074",
        "IPY_MODEL_0afa2d113f4c4c75baf4ff0c0f435180"
       ],
       "layout": "IPY_MODEL_afc6ef0b5bde426eb7d831fae9e85d98"
      }
     },
     "c0fbcf20dfda45abb3ae8dff9d43254d": {
      "model_module": "@jupyter-widgets/controls",
      "model_module_version": "1.5.0",
      "model_name": "LabelModel",
      "state": {
       "layout": "IPY_MODEL_58549bd89ff64caf80b1d391b6207402",
       "style": "IPY_MODEL_024f323b2f24439f9287c3a1b12a7ae4",
       "value": "Monitoring folder"
      }
     },
     "c1059a208be14e6a99fa76951d41c701": {
      "model_module": "@jupyter-widgets/controls",
      "model_module_version": "1.5.0",
      "model_name": "DescriptionStyleModel",
      "state": {
       "description_width": "initial"
      }
     },
     "c12fdd1ec6fa401d8c6202b9f2e7e13c": {
      "model_module": "@jupyter-widgets/controls",
      "model_module_version": "1.5.0",
      "model_name": "ButtonStyleModel",
      "state": {}
     },
     "c161ec2d66614e0fb63eec16e6983ced": {
      "model_module": "@jupyter-widgets/base",
      "model_module_version": "1.2.0",
      "model_name": "LayoutModel",
      "state": {
       "grid_area": "dircontent",
       "width": "auto"
      }
     },
     "c17b9fd4a9554066b1e8756812400b05": {
      "model_module": "@jupyter-widgets/base",
      "model_module_version": "1.2.0",
      "model_name": "LayoutModel",
      "state": {
       "display": "none"
      }
     },
     "c223cc5112924ec9a9566aa5b3f4d685": {
      "model_module": "@jupyter-widgets/base",
      "model_module_version": "1.2.0",
      "model_name": "LayoutModel",
      "state": {
       "grid_area": "dircontent",
       "width": "auto"
      }
     },
     "c27a96b4ee8645b7bc6a046fd14e1447": {
      "model_module": "@jupyter-widgets/controls",
      "model_module_version": "1.5.0",
      "model_name": "DropdownModel",
      "state": {
       "_options_labels": [
        "C:\\Users\\dominiquef\\Documents\\GIT\\mira\\mirageoscience-apps\\assets",
        "C:\\Users\\dominiquef\\Documents\\GIT\\mira\\mirageoscience-apps",
        "C:\\Users\\dominiquef\\Documents\\GIT\\mira",
        "C:\\Users\\dominiquef\\Documents\\GIT",
        "C:\\Users\\dominiquef\\Documents",
        "C:\\Users\\dominiquef",
        "C:\\Users",
        "C:\\",
        "D:\\",
        "Z:\\"
       ],
       "index": 0,
       "layout": "IPY_MODEL_efa50a74cf8a42d8aa4c73d8c4d2c199",
       "style": "IPY_MODEL_205e78f0c0fb4918a30d63ad47b465a3"
      }
     },
     "c2cdf1fa758d44cabcca4a08ff31cf88": {
      "model_module": "@jupyter-widgets/controls",
      "model_module_version": "1.5.0",
      "model_name": "ButtonStyleModel",
      "state": {}
     },
     "c2e24d95c34f48bc8e4f1ca88d78ecce": {
      "model_module": "@jupyter-widgets/base",
      "model_module_version": "1.2.0",
      "model_name": "LayoutModel",
      "state": {
       "width": "auto"
      }
     },
     "c312ee2a1fed4b20bd1ba08d7b395f3f": {
      "model_module": "@jupyter-widgets/controls",
      "model_module_version": "1.5.0",
      "model_name": "SelectModel",
      "state": {
       "_options_labels": [
        "..",
        "SimPEG_PFInversion",
        "Temp",
        "FlinFlon.geoh5",
        "Gravity_Magnetics_drape60m_Airborne_Gxx.tif",
        "Gravity_Magnetics_drape60m_Airborne_Gxx_Colorbar.png",
        "Gravity_Magnetics_drape60m_Airborne_Gxx_RGB.txt",
        "MtDore_TMI.geoh5",
        "Octree_Mesh.json",
        "Octree_Mesh.ui.json",
        "Octree_Mesh_v2.json",
        "input.ui.geoh5",
        "input.ui.json",
        "options_tree.json",
        "test_no_root.py",
        "tester.ui.geoh5",
        "tester.ui.json"
       ],
       "index": 3,
       "layout": "IPY_MODEL_b888697841de4136a28021ce5ca40e95",
       "rows": 8,
       "style": "IPY_MODEL_71357faba03f4633b9cefa8d39a78f14"
      }
     },
     "c40e74f6892b40e5a683d9455c7e526e": {
      "model_module": "@jupyter-widgets/base",
      "model_module_version": "1.2.0",
      "model_name": "LayoutModel",
      "state": {}
     },
     "c476613900b24b5c9c65881394432c3f": {
      "model_module": "@jupyter-widgets/base",
      "model_module_version": "1.2.0",
      "model_name": "LayoutModel",
      "state": {}
     },
     "c550c94aa55e41718ff75ff7954b199d": {
      "model_module": "@jupyter-widgets/controls",
      "model_module_version": "1.5.0",
      "model_name": "VBoxModel",
      "state": {
       "children": [
        "IPY_MODEL_3e293ccf2164434a942acca18016a344",
        "IPY_MODEL_eba1886127ef4b50bb3cb5c55ce82b60"
       ],
       "layout": "IPY_MODEL_7708e1f44e70485f99a3ad2bc158ef41"
      }
     },
     "c57498e540374415a734e4f098d54361": {
      "model_module": "@jupyter-widgets/base",
      "model_module_version": "1.2.0",
      "model_name": "LayoutModel",
      "state": {}
     },
     "c605aae3c6894c5db554765fec08d3f3": {
      "model_module": "@jupyter-widgets/base",
      "model_module_version": "1.2.0",
      "model_name": "LayoutModel",
      "state": {
       "width": "75%"
      }
     },
     "c60f04168c574a508c18b994ba4a3750": {
      "model_module": "@jupyter-widgets/controls",
      "model_module_version": "1.5.0",
      "model_name": "SelectMultipleModel",
      "state": {
       "_options_labels": [
        "",
        "--- Channels ---",
        "Airborne_Gxx",
        "Airborne_Gxy",
        "Airborne_Gxz",
        "Airborne_Gyy",
        "Airborne_Gyz",
        "Airborne_Gz",
        "Airborne_Gzz",
        "Airborne_TMI",
        "Ground_Gz",
        "Z"
       ],
       "description": "Data: ",
       "index": [],
       "layout": "IPY_MODEL_26933df903064ca48fcc5f61c4f0623e",
       "rows": 5,
       "style": "IPY_MODEL_a692190f84e04892a4a3b46fe6078423"
      }
     },
     "c621de334c334e679597c32be0ff3e69": {
      "model_module": "@jupyter-widgets/controls",
      "model_module_version": "1.5.0",
      "model_name": "DescriptionStyleModel",
      "state": {
       "description_width": ""
      }
     },
     "c694bbbe902e43feba1130bee9d57858": {
      "model_module": "@jupyter-widgets/base",
      "model_module_version": "1.2.0",
      "model_name": "LayoutModel",
      "state": {
       "width": "auto"
      }
     },
     "c6e7f167addd4cfb93aa0bd6ef7acc4a": {
      "model_module": "@jupyter-widgets/base",
      "model_module_version": "1.2.0",
      "model_name": "LayoutModel",
      "state": {
       "display": "none",
       "grid_gap": "0px 0px",
       "grid_template_areas": "\n                    'pathlist pathlist'\n                    'dircontent dircontent'\n                    ",
       "grid_template_columns": "60% 40%",
       "grid_template_rows": "auto auto",
       "width": "500px"
      }
     },
     "c728040ed826464bb2434d6fee3030d0": {
      "model_module": "@jupyter-widgets/controls",
      "model_module_version": "1.5.0",
      "model_name": "ButtonModel",
      "state": {
       "description": "Cancel",
       "layout": "IPY_MODEL_74c11992bf7745a88ae3a2b9e22a9c4c",
       "style": "IPY_MODEL_3f370b10ceb04a69a2b5da4537e7193c"
      }
     },
     "c7910fa5f4f941539e3d16322c7666e2": {
      "model_module": "@jupyter-widgets/base",
      "model_module_version": "1.2.0",
      "model_name": "LayoutModel",
      "state": {
       "display": "none"
      }
     },
     "c7f06b88f7a341f4b3f7b187dde22c0c": {
      "model_module": "@jupyter-widgets/base",
      "model_module_version": "1.2.0",
      "model_name": "LayoutModel",
      "state": {
       "width": "75%"
      }
     },
     "c80d7efaa8bd4e43b09f676bf3f2bb56": {
      "model_module": "@jupyter-widgets/controls",
      "model_module_version": "1.5.0",
      "model_name": "DescriptionStyleModel",
      "state": {
       "description_width": "initial"
      }
     },
     "c8117fa3d8094b959fbcd31459ca2e1f": {
      "model_module": "@jupyter-widgets/controls",
      "model_module_version": "1.5.0",
      "model_name": "DescriptionStyleModel",
      "state": {
       "description_width": ""
      }
     },
     "c85bfe3fffba4c8da2e88f50852ad615": {
      "model_module": "@jupyter-widgets/controls",
      "model_module_version": "1.5.0",
      "model_name": "ButtonModel",
      "state": {
       "description": "Change",
       "layout": "IPY_MODEL_69657dd6a058486981cbf1c45b7cec16",
       "style": "IPY_MODEL_feb1e37080ae466d90771a560254e1c5"
      }
     },
     "c86ce3714e4545e295f6570d7785e65d": {
      "model_module": "@jupyter-widgets/controls",
      "model_module_version": "1.5.0",
      "model_name": "DropdownModel",
      "state": {
       "_options_labels": [
        "C:\\Users\\dominiquef\\Documents\\GIT\\mira\\mirageoscience-apps\\assets",
        "C:\\Users\\dominiquef\\Documents\\GIT\\mira\\mirageoscience-apps",
        "C:\\Users\\dominiquef\\Documents\\GIT\\mira",
        "C:\\Users\\dominiquef\\Documents\\GIT",
        "C:\\Users\\dominiquef\\Documents",
        "C:\\Users\\dominiquef",
        "C:\\Users",
        "C:\\",
        "D:\\",
        "Z:\\"
       ],
       "index": 0,
       "layout": "IPY_MODEL_2e098fd37b424fd2a0a0d291f5872f12",
       "style": "IPY_MODEL_d5f9d5001a2d42fd9d37a9467ecbc1bc"
      }
     },
     "c8fa9c707aef43e0ab47186d2a35a256": {
      "model_module": "@jupyter-widgets/base",
      "model_module_version": "1.2.0",
      "model_name": "LayoutModel",
      "state": {}
     },
     "c903c30ed9154540889df6e58a7ce055": {
      "model_module": "@jupyter-widgets/controls",
      "model_module_version": "1.5.0",
      "model_name": "DescriptionStyleModel",
      "state": {
       "description_width": ""
      }
     },
     "c908ad912d704e799ec3046658e1f287": {
      "model_module": "@jupyter-widgets/controls",
      "model_module_version": "1.5.0",
      "model_name": "DescriptionStyleModel",
      "state": {
       "description_width": ""
      }
     },
     "c91d0b707a55455cb5a7f3196bd4633c": {
      "model_module": "@jupyter-widgets/controls",
      "model_module_version": "1.5.0",
      "model_name": "DescriptionStyleModel",
      "state": {
       "description_width": ""
      }
     },
     "c91f6736a5d742da841b353d1196db47": {
      "model_module": "@jupyter-widgets/controls",
      "model_module_version": "1.5.0",
      "model_name": "ButtonModel",
      "state": {
       "description": "Create copy:",
       "layout": "IPY_MODEL_7cbd2e8660714ae9b5d1d31275c53f9e",
       "style": "IPY_MODEL_e15306edce1246e68bda4e20dd70eed1"
      }
     },
     "c9d0962c895d48f3b382424973ff9c37": {
      "model_module": "@jupyter-widgets/controls",
      "model_module_version": "1.5.0",
      "model_name": "HBoxModel",
      "state": {
       "children": [
        "IPY_MODEL_cb0ef943ef4d401397f445f628d07275",
        "IPY_MODEL_cb027f63cd73483daf9d8c1b3247eaef"
       ],
       "layout": "IPY_MODEL_1e6cb8eb8c414e58b6524b677b306a79"
      }
     },
     "c9e4bbd4d9c749dc8dd654975dce1504": {
      "model_module": "@jupyter-widgets/controls",
      "model_module_version": "1.5.0",
      "model_name": "DescriptionStyleModel",
      "state": {
       "description_width": ""
      }
     },
     "ca12d7f5db2e4df884991aac9eaea99e": {
      "model_module": "@jupyter-widgets/base",
      "model_module_version": "1.2.0",
      "model_name": "LayoutModel",
      "state": {}
     },
     "ca1f4aa8842f43d499570ae67a306f33": {
      "model_module": "@jupyter-widgets/controls",
      "model_module_version": "1.5.0",
      "model_name": "TextModel",
      "state": {
       "continuous_update": false,
       "description": "Group:",
       "layout": "IPY_MODEL_4ee2a0cec3f943e2b35e2b639c8ca035",
       "style": "IPY_MODEL_7f83ae788d1d4427bead73a3673d75f3"
      }
     },
     "cab4b399d304465f9d4007a817d9bf4e": {
      "model_module": "@jupyter-widgets/base",
      "model_module_version": "1.2.0",
      "model_name": "LayoutModel",
      "state": {}
     },
     "cac7f35a2a3f45e78de1428937724091": {
      "model_module": "@jupyter-widgets/base",
      "model_module_version": "1.2.0",
      "model_name": "LayoutModel",
      "state": {}
     },
     "cad9bdb59d554709a352189b82f57d59": {
      "model_module": "@jupyter-widgets/base",
      "model_module_version": "1.2.0",
      "model_name": "LayoutModel",
      "state": {}
     },
     "cb027f63cd73483daf9d8c1b3247eaef": {
      "model_module": "@jupyter-widgets/controls",
      "model_module_version": "1.5.0",
      "model_name": "FloatTextModel",
      "state": {
       "description": "No-Data-Value",
       "layout": "IPY_MODEL_f7ae7d821ded475abc1c908e1c2b627f",
       "step": null,
       "style": "IPY_MODEL_b9e7a7639dbf44dfa50d856009a0badf",
       "value": -99999
      }
     },
     "cb0a45e3891c42d8bc88351728ab208f": {
      "model_module": "@jupyter-widgets/controls",
      "model_module_version": "1.5.0",
      "model_name": "ButtonStyleModel",
      "state": {}
     },
     "cb0ef943ef4d401397f445f628d07275": {
      "model_module": "@jupyter-widgets/controls",
      "model_module_version": "1.5.0",
      "model_name": "VBoxModel",
      "state": {
       "children": [
        "IPY_MODEL_bc12594a8f2c45e299a9f82183db02e2",
        "IPY_MODEL_c60f04168c574a508c18b994ba4a3750"
       ],
       "layout": "IPY_MODEL_f8426e08bd834a16a9defa79e3e0df8f"
      }
     },
     "cb66bbc2b8934ff9a3a0effd9b0a5a69": {
      "model_module": "@jupyter-widgets/controls",
      "model_module_version": "1.5.0",
      "model_name": "DropdownModel",
      "state": {
       "_options_labels": [
        "ESRI shapefile",
        "csv",
        "geotiff",
        "UBC format"
       ],
       "description": "Export type",
       "index": 2,
       "layout": "IPY_MODEL_6ffe68cf55b1472b96275f9ee74e566a",
       "style": "IPY_MODEL_3fc32f2c23414b259f550a0d943df58a"
      }
     },
     "cb8b8e34328247debf3e57df61504460": {
      "model_module": "@jupyter-widgets/controls",
      "model_module_version": "1.5.0",
      "model_name": "TextModel",
      "state": {
       "continuous_update": false,
       "description": "Projection:",
       "layout": "IPY_MODEL_0d8d63040a6546e98e11e0f533727b4c",
       "style": "IPY_MODEL_8fed742d2b6a429ba2c5538836fae5b8",
       "value": "EPSG:26914"
      }
     },
     "cbeb84dbbe284e3e9a7270c339f5d8ce": {
      "model_module": "@jupyter-widgets/controls",
      "model_module_version": "1.5.0",
      "model_name": "TextModel",
      "state": {
       "layout": "IPY_MODEL_80970747248146788052a1e4c77d1316",
       "placeholder": "output filename",
       "style": "IPY_MODEL_41212bd0feef4ab6955f4f8e1a701585",
       "value": "FlinFlon.geoh5"
      }
     },
     "cc024e9d618c493492f8d67bb695fb7c": {
      "model_module": "@jupyter-widgets/controls",
      "model_module_version": "1.5.0",
      "model_name": "DescriptionStyleModel",
      "state": {
       "description_width": ""
      }
     },
     "cc384b8696a14db48141e24bf29610dd": {
      "model_module": "@jupyter-widgets/controls",
      "model_module_version": "1.5.0",
      "model_name": "ButtonStyleModel",
      "state": {}
     },
     "cd376434138b41d89474fe763ffc8d12": {
      "model_module": "@jupyter-widgets/controls",
      "model_module_version": "1.5.0",
      "model_name": "GridBoxModel",
      "state": {
       "children": [
        "IPY_MODEL_6f5754f5882d4d819dccd3d111f6853c",
        "IPY_MODEL_22b81bdd57ff497aa2a4a89a9cfaddca",
        "IPY_MODEL_dbdfe6996ff24e04b7ace9fd1ddee3e8"
       ],
       "layout": "IPY_MODEL_f1fa23c179c24f2cb3bbbd0aa3e800e7"
      }
     },
     "cd9d43c37e47404b8014b9c8af8b6ce5": {
      "model_module": "@jupyter-widgets/controls",
      "model_module_version": "1.5.0",
      "model_name": "DescriptionStyleModel",
      "state": {
       "description_width": "initial"
      }
     },
     "cdb3f7162e8b4700803192dc1b974e23": {
      "model_module": "@jupyter-widgets/controls",
      "model_module_version": "1.5.0",
      "model_name": "DescriptionStyleModel",
      "state": {
       "description_width": "initial"
      }
     },
     "cdcd835ec55c4afa81ce2796a75fd670": {
      "model_module": "@jupyter-widgets/base",
      "model_module_version": "1.2.0",
      "model_name": "LayoutModel",
      "state": {}
     },
     "cde331ffeac945cca09645ffabdfe6ec": {
      "model_module": "@jupyter-widgets/base",
      "model_module_version": "1.2.0",
      "model_name": "LayoutModel",
      "state": {}
     },
     "cde439d31729498dbebb75fe4519f49e": {
      "model_module": "@jupyter-widgets/base",
      "model_module_version": "1.2.0",
      "model_name": "LayoutModel",
      "state": {
       "width": "auto"
      }
     },
     "ce6002f39dd544b4b42f7625f32c67ea": {
      "model_module": "@jupyter-widgets/controls",
      "model_module_version": "1.5.0",
      "model_name": "ButtonModel",
      "state": {
       "description": "Cancel",
       "layout": "IPY_MODEL_9782dc3ec6f842ee9aed82554772f17a",
       "style": "IPY_MODEL_28385a0c0863464b8b0ce51f49002aad"
      }
     },
     "ce609f8662a24feaa44fec6d4fae5a89": {
      "model_module": "@jupyter-widgets/controls",
      "model_module_version": "1.5.0",
      "model_name": "SelectModel",
      "state": {
       "_options_labels": [
        "..",
        "SimPEG_PFInversion",
        "Temp"
       ],
       "index": null,
       "layout": "IPY_MODEL_d37358d5e2ee46bf8906347bd161372f",
       "rows": 8,
       "style": "IPY_MODEL_a1e0a43ecc834269a9263000bea4ed98"
      }
     },
     "cedd022d171f4f70996bd80f5cb02421": {
      "model_module": "@jupyter-widgets/base",
      "model_module_version": "1.2.0",
      "model_name": "LayoutModel",
      "state": {
       "width": "auto"
      }
     },
     "cf066ab6d477422f9905367ff6349c7a": {
      "model_module": "@jupyter-widgets/base",
      "model_module_version": "1.2.0",
      "model_name": "LayoutModel",
      "state": {}
     },
     "cf4607936887491499a5dec05ee61429": {
      "model_module": "@jupyter-widgets/controls",
      "model_module_version": "1.5.0",
      "model_name": "GridBoxModel",
      "state": {
       "children": [
        "IPY_MODEL_c86ce3714e4545e295f6570d7785e65d",
        "IPY_MODEL_7e739b8876f84730bd6fc5b39c596eee",
        "IPY_MODEL_a49212b0fc8e4b5e8d7d8f47ddf1393e"
       ],
       "layout": "IPY_MODEL_b7922f5478ce4ce89782eebfb9f9d44a"
      }
     },
     "cf51a00e19744204843f7cfc0ce765a4": {
      "model_module": "@jupyter-widgets/controls",
      "model_module_version": "1.5.0",
      "model_name": "VBoxModel",
      "state": {
       "children": [
        "IPY_MODEL_a524db045cf24810b3caba37597c8d57"
       ],
       "layout": "IPY_MODEL_cf9f6b3723af4be493c36ec450e9e2f3"
      }
     },
     "cf52f0a98e07402a823ecc7189639451": {
      "model_module": "@jupyter-widgets/base",
      "model_module_version": "1.2.0",
      "model_name": "LayoutModel",
      "state": {
       "grid_area": "dircontent",
       "width": "auto"
      }
     },
     "cf9f6b3723af4be493c36ec450e9e2f3": {
      "model_module": "@jupyter-widgets/base",
      "model_module_version": "1.2.0",
      "model_name": "LayoutModel",
      "state": {}
     },
     "cfbc8896766442cb920e28db126483c4": {
      "model_module": "@jupyter-widgets/controls",
      "model_module_version": "1.5.0",
      "model_name": "TextModel",
      "state": {
       "disabled": true,
       "layout": "IPY_MODEL_86786713ec684d05b4898b806d8a4985",
       "placeholder": "output filename",
       "style": "IPY_MODEL_f2a7de91caeb4df9bc777ca5b96db191"
      }
     },
     "d01c754b860847e3b788151abd4b64bb": {
      "model_module": "@jupyter-widgets/controls",
      "model_module_version": "1.5.0",
      "model_name": "CheckboxModel",
      "state": {
       "description": "GA Pro - Live link",
       "disabled": false,
       "indent": false,
       "layout": "IPY_MODEL_46c9c524116c4541b8f1a36003e35c78",
       "style": "IPY_MODEL_3798d426e676456ba1eb82b100cc99e3",
       "value": false
      }
     },
     "d0368d97d4a54d4babf1709bdec53ea2": {
      "model_module": "@jupyter-widgets/base",
      "model_module_version": "1.2.0",
      "model_name": "LayoutModel",
      "state": {
       "width": "auto"
      }
     },
     "d137e9b8787d423bae00a2b5bacae9f6": {
      "model_module": "@jupyter-widgets/controls",
      "model_module_version": "1.5.0",
      "model_name": "VBoxModel",
      "state": {
       "children": [
        "IPY_MODEL_723bb09dfb7445d2b65aaee88a79b8c0",
        "IPY_MODEL_a9deb58b83ef4039923ebca2fed114f7"
       ],
       "layout": "IPY_MODEL_456072cd4dd9492d91bbc73c4cd8b84c"
      }
     },
     "d141c54854754ccabfd5d44d4aa404c7": {
      "model_module": "@jupyter-widgets/controls",
      "model_module_version": "1.5.0",
      "model_name": "RadioButtonsModel",
      "state": {
       "_options_labels": [
        "float",
        "RGB"
       ],
       "description": "Type:",
       "index": 1,
       "layout": "IPY_MODEL_d2f40a10c4404444a4e38c648519b758",
       "style": "IPY_MODEL_84a37f4785ef405788e545165fb49f28"
      }
     },
     "d1689b1c8c7d4770bc85aebac8ff7d19": {
      "model_module": "@jupyter-widgets/controls",
      "model_module_version": "1.5.0",
      "model_name": "SelectModel",
      "state": {
       "_options_labels": [
        "..",
        "SimPEG_PFInversion",
        "Temp"
       ],
       "index": null,
       "layout": "IPY_MODEL_0bc9c5a9cc264e14abbc698d937f31d9",
       "rows": 8,
       "style": "IPY_MODEL_79b074d31b3e4c8f9ee5c35c8b7e1937"
      }
     },
     "d1b0a521dcd242e4a88243964f773e86": {
      "model_module": "@jupyter-widgets/controls",
      "model_module_version": "1.5.0",
      "model_name": "VBoxModel",
      "state": {
       "children": [
        "IPY_MODEL_6c9b7b783b644d1b8a35c6051dceb578"
       ],
       "layout": "IPY_MODEL_d33c76373b8842bdb6651183930d58fc"
      }
     },
     "d1c8159a7ee147ffb38f5f3f8ffbc602": {
      "model_module": "@jupyter-widgets/controls",
      "model_module_version": "1.5.0",
      "model_name": "VBoxModel",
      "state": {
       "children": [
        "IPY_MODEL_2400ed87cbdb47a1b5e04785973e0ad6",
        "IPY_MODEL_783dada734f34aa9a8274c2fc1317e68",
        "IPY_MODEL_24d37286bacb416f819e74756b23db9c"
       ],
       "layout": "IPY_MODEL_e0fa1498cd244a88be0eaf67657aacf3"
      }
     },
     "d22a1592ae1f4069b8655f1d962f420d": {
      "model_module": "@jupyter-widgets/controls",
      "model_module_version": "1.5.0",
      "model_name": "DescriptionStyleModel",
      "state": {
       "description_width": "initial"
      }
     },
     "d25dea6d18c14b1e9f86f2c9e1056146": {
      "model_module": "@jupyter-widgets/controls",
      "model_module_version": "1.5.0",
      "model_name": "ButtonStyleModel",
      "state": {}
     },
     "d264bcc8a5dd4852966b9e27d946c549": {
      "model_module": "@jupyter-widgets/controls",
      "model_module_version": "1.5.0",
      "model_name": "DescriptionStyleModel",
      "state": {
       "description_width": ""
      }
     },
     "d273b239e6fa44ff97ef4ad3c78069bf": {
      "model_module": "@jupyter-widgets/controls",
      "model_module_version": "1.5.0",
      "model_name": "DescriptionStyleModel",
      "state": {
       "description_width": ""
      }
     },
     "d2f40a10c4404444a4e38c648519b758": {
      "model_module": "@jupyter-widgets/base",
      "model_module_version": "1.2.0",
      "model_name": "LayoutModel",
      "state": {}
     },
     "d303d2919c4c434ba9e3c7adb91924a4": {
      "model_module": "@jupyter-widgets/controls",
      "model_module_version": "1.5.0",
      "model_name": "DescriptionStyleModel",
      "state": {
       "description_width": ""
      }
     },
     "d3332e9031884be289caf9e0f3b25bae": {
      "model_module": "@jupyter-widgets/base",
      "model_module_version": "1.2.0",
      "model_name": "LayoutModel",
      "state": {}
     },
     "d33c76373b8842bdb6651183930d58fc": {
      "model_module": "@jupyter-widgets/base",
      "model_module_version": "1.2.0",
      "model_name": "LayoutModel",
      "state": {}
     },
     "d352616666f54fae9685ce4e98164810": {
      "model_module": "@jupyter-widgets/base",
      "model_module_version": "1.2.0",
      "model_name": "LayoutModel",
      "state": {
       "width": "auto"
      }
     },
     "d37358d5e2ee46bf8906347bd161372f": {
      "model_module": "@jupyter-widgets/base",
      "model_module_version": "1.2.0",
      "model_name": "LayoutModel",
      "state": {
       "grid_area": "dircontent",
       "width": "auto"
      }
     },
     "d3dad3dcaada445b81686d710dfe9482": {
      "model_module": "@jupyter-widgets/base",
      "model_module_version": "1.2.0",
      "model_name": "LayoutModel",
      "state": {}
     },
     "d3e803ccfe884489a0655194afe3f9c2": {
      "model_module": "@jupyter-widgets/controls",
      "model_module_version": "1.5.0",
      "model_name": "ButtonModel",
      "state": {
       "description": "Cancel",
       "layout": "IPY_MODEL_6805f2c6e6df417f929c7416986abae8",
       "style": "IPY_MODEL_4483f00f68174869a174ea24f11d3a8e"
      }
     },
     "d4608ee1d84546deb4d1d2056bb2e84c": {
      "model_module": "@jupyter-widgets/controls",
      "model_module_version": "1.5.0",
      "model_name": "DescriptionStyleModel",
      "state": {
       "description_width": ""
      }
     },
     "d46e8f0c919a4cd89d1902df870ebdec": {
      "model_module": "@jupyter-widgets/controls",
      "model_module_version": "1.5.0",
      "model_name": "VBoxModel",
      "state": {
       "children": [
        "IPY_MODEL_f1c51f8fdd574b0b94108a8e00c90bbc",
        "IPY_MODEL_87e3ed6c488244e5bf4a0d80d50706db"
       ],
       "layout": "IPY_MODEL_ef6569ee37d84d0eae4f55e11960e319"
      }
     },
     "d570ea4dee0d4f1782d79d091b76bc06": {
      "model_module": "@jupyter-widgets/base",
      "model_module_version": "1.2.0",
      "model_name": "LayoutModel",
      "state": {}
     },
     "d582340069fd4b98acccfaa84170b75d": {
      "model_module": "@jupyter-widgets/controls",
      "model_module_version": "1.5.0",
      "model_name": "HBoxModel",
      "state": {
       "children": [
        "IPY_MODEL_ea467775315549f49574ee4534711ae0",
        "IPY_MODEL_130de76936d1439785dbacbf3412eded",
        "IPY_MODEL_28ee6726c9b6430991d3d22bc6e2c51f"
       ],
       "layout": "IPY_MODEL_78dccac2827043a4a082e893698deceb"
      }
     },
     "d5f9d5001a2d42fd9d37a9467ecbc1bc": {
      "model_module": "@jupyter-widgets/controls",
      "model_module_version": "1.5.0",
      "model_name": "DescriptionStyleModel",
      "state": {
       "description_width": ""
      }
     },
     "d665aa15d9884a0f8c3ab3f543013aaa": {
      "model_module": "@jupyter-widgets/controls",
      "model_module_version": "1.5.0",
      "model_name": "DescriptionStyleModel",
      "state": {
       "description_width": "initial"
      }
     },
     "d76efdafa12544f39d4a4a5d3d89946d": {
      "model_module": "@jupyter-widgets/controls",
      "model_module_version": "1.5.0",
      "model_name": "DropdownModel",
      "state": {
       "_options_labels": [
        "C:\\Users\\dominiquef\\Documents\\GIT\\mira\\mirageoscience-apps\\assets",
        "C:\\Users\\dominiquef\\Documents\\GIT\\mira\\mirageoscience-apps",
        "C:\\Users\\dominiquef\\Documents\\GIT\\mira",
        "C:\\Users\\dominiquef\\Documents\\GIT",
        "C:\\Users\\dominiquef\\Documents",
        "C:\\Users\\dominiquef",
        "C:\\Users",
        "C:\\",
        "D:\\",
        "Z:\\"
       ],
       "index": 0,
       "layout": "IPY_MODEL_1681386dce2048258946cf42420d470d",
       "style": "IPY_MODEL_465409bea84a4467955e1c316844ba84"
      }
     },
     "d76f54af1b664992b5026748262a1826": {
      "model_module": "@jupyter-widgets/controls",
      "model_module_version": "1.5.0",
      "model_name": "DescriptionStyleModel",
      "state": {
       "description_width": ""
      }
     },
     "d7d49b0d1b514873869a20a520314f1f": {
      "model_module": "@jupyter-widgets/controls",
      "model_module_version": "1.5.0",
      "model_name": "VBoxModel",
      "state": {
       "children": [
        "IPY_MODEL_e61eb31c3c7648d18eedf8a6fc091c42",
        "IPY_MODEL_93d2c388f0e942e8958812ac81eb9c89",
        "IPY_MODEL_bac1777bde864457b993d6502e7431c7",
        "IPY_MODEL_dd550224af024afab79ca792bf7835fe",
        "IPY_MODEL_0d09fb795ca944038b0ac806c80b2a45",
        "IPY_MODEL_f093c88bc61b4a9b9b20e2b5fc79f15f",
        "IPY_MODEL_79d064e47e2a493ea4f30ad66e29c2c7"
       ],
       "layout": "IPY_MODEL_2c36c693503349e0afc61f3a1826076c"
      }
     },
     "d7db254398154f37acd535d5be3cb6b8": {
      "model_module": "@jupyter-widgets/controls",
      "model_module_version": "1.5.0",
      "model_name": "ButtonModel",
      "state": {
       "button_style": "danger",
       "description": "Export",
       "icon": "check",
       "layout": "IPY_MODEL_e196d807e5e8464fb834366b877b9376",
       "style": "IPY_MODEL_120465fd7ed24aadabdd4049eaa4fba6",
       "tooltip": "Run computation"
      }
     },
     "d812a50576ea494f80148c1ccd4403ae": {
      "model_module": "@jupyter-widgets/controls",
      "model_module_version": "1.5.0",
      "model_name": "DescriptionStyleModel",
      "state": {
       "description_width": ""
      }
     },
     "d8311694d4ca4b3fb70876d1574543b7": {
      "model_module": "@jupyter-widgets/base",
      "model_module_version": "1.2.0",
      "model_name": "LayoutModel",
      "state": {}
     },
     "d84def24acdc4f8782aa6913b1beb0c4": {
      "model_module": "@jupyter-widgets/base",
      "model_module_version": "1.2.0",
      "model_name": "LayoutModel",
      "state": {
       "display": "none",
       "grid_gap": "0px 0px",
       "grid_template_areas": "\n                    'pathlist pathlist'\n                    'dircontent dircontent'\n                    ",
       "grid_template_columns": "60% 40%",
       "grid_template_rows": "auto auto",
       "width": "500px"
      }
     },
     "d8a594133a9c49daa9f58bf2af86c797": {
      "model_module": "@jupyter-widgets/base",
      "model_module_version": "1.2.0",
      "model_name": "LayoutModel",
      "state": {}
     },
     "d8fb3f5b65ed4a2a99f43d839016406c": {
      "model_module": "@jupyter-widgets/controls",
      "model_module_version": "1.5.0",
      "model_name": "ButtonModel",
      "state": {
       "description": "Cancel",
       "layout": "IPY_MODEL_e3cc243caab24238982e1828737db3e7",
       "style": "IPY_MODEL_0f18a09051d64eddb6de136d352cd67d"
      }
     },
     "d91e2e2ef1ac4cddb7ee9e7c2f73fbc7": {
      "model_module": "@jupyter-widgets/controls",
      "model_module_version": "1.5.0",
      "model_name": "DropdownModel",
      "state": {
       "_options_labels": [
        "",
        "fault_splay1",
        "fault_Cliff_Lake",
        "fault_Other_FlinFlon",
        "fault_Club_Lake_splay",
        "fault_Catherine_splay2",
        "fault_Birch_View",
        "fault_Dion_Lake",
        "fault_FlinFlon_splay",
        "fault_West_Mandy_Road",
        "fault_Channing",
        "fault_Ross_Lake",
        "fault_Louis_Hidden",
        "fault_Lake_View_thrust",
        "contact_Schist_Lake",
        "fault_Burley_Lake",
        "fault_Dion_Lake_splay",
        "fault_Green_Lake",
        "fault_FlinFlon",
        "fault_Catherine_splay1",
        "fault_East_Mandy_Road",
        "fault_Other_FlinFlon_South",
        "fault_Catherine_splay4",
        "contact_Stitt_Island",
        "fault_Club_Lake",
        "fault_Tailing_Pond",
        "35_Hidden_Reservoir_Hr5",
        "29_Hidden_Reservoir_Hr1a",
        "60_BlueLagoon_Fb2",
        "20_FlinFlon_Undivided_Int_Dykes_D2f",
        "04_Boundary_Intrusive_S4h",
        "53_Millrock_Rhyolite_Fm4b",
        "19_FlinFlon_Undivided_Int_Dykes_D2b",
        "18_FlinFlon_Undivided_Int_Dykes_777_D2b",
        "06_Phantom_Lake_Intrusive_S3a",
        "21_FlinFlon_Undivided_Int_Dykes_D3a",
        "43_Millrock_CHLSH_South",
        "56_Millrock_Basalt_Fm1ba",
        "17_FlinFlon_Undivided_Int_Dykes_D2",
        "32_Hidden_Reservoir_Hr1b_SW",
        "11_Missi_M3_NE",
        "13_Missi_M1",
        "07_Annabel_Granitoid_S1",
        "45_Millrock_Gabbro_South",
        "01_Late_Intrusive_S5b",
        "31_Hidden_Reservoir_Hr1c_SW",
        "52_Millrock_Rhyolite_Fm4_West_check",
        "55_Millrock_Basalt_Fm1bf",
        "34_Hidden_Reservoir_Hr2b",
        "03_Boundary_Intrusive_S4b",
        "42_Millrock_CHLSH_North",
        "26_Louis_L3",
        "23_FlinFlon_Undivided_Int_Felsic_D4g",
        "30_Hidden_Reservoir_Hr1b",
        "59_BlueLagoon_Fb3",
        "49_Millrock_MVR_Fm5d",
        "44_Millrock_Gabbro_North",
        "27_Hidden_Carlisle_Hc4",
        "22_FlinFlon_Undivided_Int_Felsic_D4e",
        "02_Boundary_Intrusive_S4a",
        "61_BlueLagoon_Fb1_NW",
        "05_Boundary_Intrusive_S4g",
        "39_Ore_Callinan",
        "38_Ore_Dan_Owens",
        "40_Ore_FlinFlon",
        "Inversion_VTEM_Model",
        "Gravity_Magnetics_drape60m",
        "CDI_VTEM_model",
        "Data_FEM_pseudo3D",
        "O2O_Interp_25m",
        "geochem",
        "Inversion_DIGHEM_Model",
        "Topography",
        "Data_TEM_pseudo3D"
       ],
       "description": "Object:",
       "index": 66,
       "layout": "IPY_MODEL_b77bd33c3db9492192554c60d0375e57",
       "style": "IPY_MODEL_7930d4a4017e467699f638f74fde60a3"
      }
     },
     "d9dc0d78d70347c4a5403096838fbb04": {
      "model_module": "@jupyter-widgets/controls",
      "model_module_version": "1.5.0",
      "model_name": "DescriptionStyleModel",
      "state": {
       "description_width": ""
      }
     },
     "d9e17ea6e75a4259b4251d071ca11cb1": {
      "model_module": "@jupyter-widgets/controls",
      "model_module_version": "1.5.0",
      "model_name": "DescriptionStyleModel",
      "state": {
       "description_width": "initial"
      }
     },
     "d9f0873fc4124272b1152017315a0e57": {
      "model_module": "@jupyter-widgets/base",
      "model_module_version": "1.2.0",
      "model_name": "LayoutModel",
      "state": {}
     },
     "da93c38b06be4a0884d7c02c6fdeb413": {
      "model_module": "@jupyter-widgets/controls",
      "model_module_version": "1.5.0",
      "model_name": "GridBoxModel",
      "state": {
       "children": [
        "IPY_MODEL_4d6320defe444479b3f492c594f8ee18",
        "IPY_MODEL_3ec257c6bbf44fc99c8a0388237065c3",
        "IPY_MODEL_ce609f8662a24feaa44fec6d4fae5a89"
       ],
       "layout": "IPY_MODEL_0666abf64f3a4fc38d7408293e230641"
      }
     },
     "daa881a16db94a628395c8028786288a": {
      "model_module": "@jupyter-widgets/controls",
      "model_module_version": "1.5.0",
      "model_name": "DropdownModel",
      "state": {
       "_options_labels": [
        "ESRI shapefile",
        "csv",
        "geotiff",
        "UBC format"
       ],
       "description": "Export type",
       "index": 2,
       "layout": "IPY_MODEL_5ecfe11e168847699a1c806c65004c22",
       "style": "IPY_MODEL_927cf934fcec4aa5b1fa059967246974"
      }
     },
     "dac2bb7ed8794050b72e845831db7144": {
      "model_module": "@jupyter-widgets/controls",
      "model_module_version": "1.5.0",
      "model_name": "VBoxModel",
      "state": {
       "children": [
        "IPY_MODEL_400cda87e81444498cfefb667c60b845",
        "IPY_MODEL_8ab709f75be14fd8924bc0754ec14c77"
       ],
       "layout": "IPY_MODEL_80bad037323d4979b7dfb94aac5c2425"
      }
     },
     "dae1e895dc144637bc57e560279e49b6": {
      "model_module": "@jupyter-widgets/base",
      "model_module_version": "1.2.0",
      "model_name": "LayoutModel",
      "state": {}
     },
     "db1c4c1de5f548f8bea57a0fa6a03f14": {
      "model_module": "@jupyter-widgets/controls",
      "model_module_version": "1.5.0",
      "model_name": "HBoxModel",
      "state": {
       "children": [
        "IPY_MODEL_788b2fe9e749425caeb5903805b71732",
        "IPY_MODEL_7cba3e7fd5b54531ae21fcb289314084",
        "IPY_MODEL_55abac6ca7784a06be65870ecfb1c265"
       ],
       "layout": "IPY_MODEL_15343b0621fd4bd88af31b198436931d"
      }
     },
     "db279bb5332b4561909d2996acbac15b": {
      "model_module": "@jupyter-widgets/controls",
      "model_module_version": "1.5.0",
      "model_name": "GridBoxModel",
      "state": {
       "children": [
        "IPY_MODEL_90274afbdec9435fb6b034daeeb84d94",
        "IPY_MODEL_979fa3f114c744cfbcf1d1010803e1f0",
        "IPY_MODEL_29f9c24063f34a71ba7f27ae7cca427d"
       ],
       "layout": "IPY_MODEL_dc00620f672b4ee485b8c6b609c38f90"
      }
     },
     "db6d9ac410aa45fd86389e8913757e73": {
      "model_module": "@jupyter-widgets/controls",
      "model_module_version": "1.5.0",
      "model_name": "DescriptionStyleModel",
      "state": {
       "description_width": ""
      }
     },
     "db6f5b367faf44cb89af6b72f1b73074": {
      "model_module": "@jupyter-widgets/controls",
      "model_module_version": "1.5.0",
      "model_name": "ButtonModel",
      "state": {
       "button_style": "danger",
       "description": "Export",
       "icon": "check",
       "layout": "IPY_MODEL_1f4840d60e3b46fea687aeaf69e1871a",
       "style": "IPY_MODEL_c12fdd1ec6fa401d8c6202b9f2e7e13c",
       "tooltip": "Run computation"
      }
     },
     "db82d54b8e644e4a9fb8d9a4cb07bb3f": {
      "model_module": "@jupyter-widgets/base",
      "model_module_version": "1.2.0",
      "model_name": "LayoutModel",
      "state": {}
     },
     "dbc3c05517d04866b742b42a9dc179b2": {
      "model_module": "@jupyter-widgets/controls",
      "model_module_version": "1.5.0",
      "model_name": "VBoxModel",
      "state": {
       "children": [
        "IPY_MODEL_3b12887cee9344d184829dd689f713e2",
        "IPY_MODEL_da93c38b06be4a0884d7c02c6fdeb413",
        "IPY_MODEL_e7dad3ccf7d84f9196cd054fa0fc15fd"
       ],
       "layout": "IPY_MODEL_abd7f7f5954d4d47bb16610216be2be5"
      }
     },
     "dbdfe6996ff24e04b7ace9fd1ddee3e8": {
      "model_module": "@jupyter-widgets/controls",
      "model_module_version": "1.5.0",
      "model_name": "SelectModel",
      "state": {
       "_options_labels": [
        "..",
        "SimPEG_PFInversion",
        "Temp",
        "FlinFlon.geoh5",
        "Gravity_Magnetics_drape60m_Airborne_Gxx.tif",
        "Gravity_Magnetics_drape60m_Airborne_Gxx_Colorbar.png",
        "Gravity_Magnetics_drape60m_Airborne_Gxx_RGB.txt",
        "MtDore_TMI.geoh5",
        "Octree_Mesh.json",
        "Octree_Mesh.ui.json",
        "Octree_Mesh_v2.json",
        "input.ui.geoh5",
        "input.ui.json",
        "options_tree.json",
        "test_no_root.py",
        "tester.ui.geoh5",
        "tester.ui.json"
       ],
       "index": 3,
       "layout": "IPY_MODEL_f9c1548d6e6648ac84feaf73bb4639ba",
       "rows": 8,
       "style": "IPY_MODEL_5d5e9a83ea114b99a9b37482a3bf2ccf"
      }
     },
     "dbee8a7ce0ea4f29a9d72264e6cace80": {
      "model_module": "@jupyter-widgets/controls",
      "model_module_version": "1.5.0",
      "model_name": "VBoxModel",
      "state": {
       "children": [
        "IPY_MODEL_c0fbcf20dfda45abb3ae8dff9d43254d",
        "IPY_MODEL_d1c8159a7ee147ffb38f5f3f8ffbc602"
       ],
       "layout": "IPY_MODEL_00882857292343c5ad5fef035138a8ef"
      }
     },
     "dc00620f672b4ee485b8c6b609c38f90": {
      "model_module": "@jupyter-widgets/base",
      "model_module_version": "1.2.0",
      "model_name": "LayoutModel",
      "state": {
       "display": "none",
       "grid_gap": "0px 0px",
       "grid_template_areas": "\n                    'pathlist filename'\n                    'dircontent dircontent'\n                    ",
       "grid_template_columns": "60% 40%",
       "grid_template_rows": "auto auto",
       "width": "500px"
      }
     },
     "dc328d8112d94d61b7a3246ae487e893": {
      "model_module": "@jupyter-widgets/controls",
      "model_module_version": "1.5.0",
      "model_name": "DescriptionStyleModel",
      "state": {
       "description_width": ""
      }
     },
     "dcb88f8cd440432da7e1cd74dbb02ccb": {
      "model_module": "@jupyter-widgets/base",
      "model_module_version": "1.2.0",
      "model_name": "LayoutModel",
      "state": {
       "width": "auto"
      }
     },
     "dcfd922f16344abfbbdc646836ede8a6": {
      "model_module": "@jupyter-widgets/controls",
      "model_module_version": "1.5.0",
      "model_name": "ButtonStyleModel",
      "state": {}
     },
     "dd550224af024afab79ca792bf7835fe": {
      "model_module": "@jupyter-widgets/controls",
      "model_module_version": "1.5.0",
      "model_name": "FloatTextModel",
      "state": {
       "description": "No-Data-Value",
       "layout": "IPY_MODEL_cad9bdb59d554709a352189b82f57d59",
       "step": null,
       "style": "IPY_MODEL_7009bb07143a47b8b4e19f8095ba533c",
       "value": -99999
      }
     },
     "ddb2b7b690364a8e9a8f1fe72540fcb0": {
      "model_module": "@jupyter-widgets/base",
      "model_module_version": "1.2.0",
      "model_name": "LayoutModel",
      "state": {
       "display": "none"
      }
     },
     "ddb5e25545e2463681dd5bced92a649b": {
      "model_module": "@jupyter-widgets/controls",
      "model_module_version": "1.5.0",
      "model_name": "VBoxModel",
      "state": {
       "children": [
        "IPY_MODEL_52e0eb9652604da6a6444df7b98a9ff4",
        "IPY_MODEL_877d5eac20d74c2daa9cc7ff0a69a9c1",
        "IPY_MODEL_094fbd332f5e49b38fe510a5a731ab6f",
        "IPY_MODEL_574d07d2d41046be8f73e08d9560742f",
        "IPY_MODEL_24660ebdca7941a6bd087ce0a6cc1406",
        "IPY_MODEL_e881619a050c455bb11c8720e27e71d6",
        "IPY_MODEL_b5ec999d3b4b43ea831dd15d5a9ab4a4"
       ],
       "layout": "IPY_MODEL_5d1048a212184b1da2086255344f42c9"
      }
     },
     "ddc3bc10886c4726a4acc39b5ad010e0": {
      "model_module": "@jupyter-widgets/base",
      "model_module_version": "1.2.0",
      "model_name": "LayoutModel",
      "state": {}
     },
     "de1fef4f33234073aedef503f25d721a": {
      "model_module": "@jupyter-widgets/base",
      "model_module_version": "1.2.0",
      "model_name": "LayoutModel",
      "state": {
       "width": "75%"
      }
     },
     "de338ebeb0eb4880a7974c46e2e45fdf": {
      "model_module": "@jupyter-widgets/controls",
      "model_module_version": "1.5.0",
      "model_name": "LabelModel",
      "state": {
       "layout": "IPY_MODEL_095c82b236214859a7717f05331b9882",
       "style": "IPY_MODEL_a5901666bb4046c790f49f1b63130ae3",
       "value": "Monitoring folder"
      }
     },
     "de683ce7315d4ef2a2a5b6e6745350ee": {
      "model_module": "@jupyter-widgets/controls",
      "model_module_version": "1.5.0",
      "model_name": "DropdownModel",
      "state": {
       "_options_labels": [
        "",
        "fault_splay1",
        "fault_Cliff_Lake",
        "fault_Other_FlinFlon",
        "fault_Club_Lake_splay",
        "fault_Catherine_splay2",
        "fault_Birch_View",
        "fault_Dion_Lake",
        "fault_FlinFlon_splay",
        "fault_West_Mandy_Road",
        "fault_Channing",
        "fault_Ross_Lake",
        "fault_Louis_Hidden",
        "fault_Lake_View_thrust",
        "contact_Schist_Lake",
        "fault_Burley_Lake",
        "fault_Dion_Lake_splay",
        "fault_Green_Lake",
        "fault_FlinFlon",
        "fault_Catherine_splay1",
        "fault_East_Mandy_Road",
        "fault_Other_FlinFlon_South",
        "fault_Catherine_splay4",
        "contact_Stitt_Island",
        "fault_Club_Lake",
        "fault_Tailing_Pond",
        "35_Hidden_Reservoir_Hr5",
        "29_Hidden_Reservoir_Hr1a",
        "60_BlueLagoon_Fb2",
        "20_FlinFlon_Undivided_Int_Dykes_D2f",
        "04_Boundary_Intrusive_S4h",
        "53_Millrock_Rhyolite_Fm4b",
        "19_FlinFlon_Undivided_Int_Dykes_D2b",
        "18_FlinFlon_Undivided_Int_Dykes_777_D2b",
        "06_Phantom_Lake_Intrusive_S3a",
        "21_FlinFlon_Undivided_Int_Dykes_D3a",
        "43_Millrock_CHLSH_South",
        "56_Millrock_Basalt_Fm1ba",
        "17_FlinFlon_Undivided_Int_Dykes_D2",
        "32_Hidden_Reservoir_Hr1b_SW",
        "11_Missi_M3_NE",
        "13_Missi_M1",
        "07_Annabel_Granitoid_S1",
        "45_Millrock_Gabbro_South",
        "01_Late_Intrusive_S5b",
        "31_Hidden_Reservoir_Hr1c_SW",
        "52_Millrock_Rhyolite_Fm4_West_check",
        "55_Millrock_Basalt_Fm1bf",
        "34_Hidden_Reservoir_Hr2b",
        "03_Boundary_Intrusive_S4b",
        "42_Millrock_CHLSH_North",
        "26_Louis_L3",
        "23_FlinFlon_Undivided_Int_Felsic_D4g",
        "30_Hidden_Reservoir_Hr1b",
        "59_BlueLagoon_Fb3",
        "49_Millrock_MVR_Fm5d",
        "44_Millrock_Gabbro_North",
        "27_Hidden_Carlisle_Hc4",
        "22_FlinFlon_Undivided_Int_Felsic_D4e",
        "02_Boundary_Intrusive_S4a",
        "61_BlueLagoon_Fb1_NW",
        "05_Boundary_Intrusive_S4g",
        "39_Ore_Callinan",
        "38_Ore_Dan_Owens",
        "40_Ore_FlinFlon",
        "Inversion_VTEM_Model",
        "Gravity_Magnetics_drape60m",
        "CDI_VTEM_model",
        "Data_FEM_pseudo3D",
        "O2O_Interp_25m",
        "geochem",
        "Inversion_DIGHEM_Model",
        "Topography",
        "Data_TEM_pseudo3D",
        "Data_ZTEM"
       ],
       "description": "Object:",
       "index": 66,
       "layout": "IPY_MODEL_892d41a1402f4fd4a0380280f595fbbf",
       "style": "IPY_MODEL_5141bd62e4894fd68466f94dc797b8a5"
      }
     },
     "de795d9052e64aed9f4affb1995f8ac7": {
      "model_module": "@jupyter-widgets/base",
      "model_module_version": "1.2.0",
      "model_name": "LayoutModel",
      "state": {
       "display": "none",
       "width": "auto"
      }
     },
     "de9dfb59a0544aa8a4b41435a98b4aa0": {
      "model_module": "@jupyter-widgets/controls",
      "model_module_version": "1.5.0",
      "model_name": "VBoxModel",
      "state": {
       "children": [
        "IPY_MODEL_556ae5cd934a401489057e439d1be51d",
        "IPY_MODEL_bc34dd02d0dc45699e064cab6e0c25cd"
       ],
       "layout": "IPY_MODEL_9f19c7c7330543eb9e7c55d21a82d3b7"
      }
     },
     "dec8f5cfa4fb4644a83eba495851496c": {
      "model_module": "@jupyter-widgets/controls",
      "model_module_version": "1.5.0",
      "model_name": "CheckboxModel",
      "state": {
       "description": "GA Pro - Live link",
       "disabled": false,
       "indent": false,
       "layout": "IPY_MODEL_54673da00d1b49859e683cfa681c6cf4",
       "style": "IPY_MODEL_195a14ab40fc4f889f21eafe39781539",
       "value": false
      }
     },
     "df3f2abfed1044478115a9cefcea08fa": {
      "model_module": "@jupyter-widgets/base",
      "model_module_version": "1.2.0",
      "model_name": "LayoutModel",
      "state": {}
     },
     "dfb558696e01418b9b3cfe34e378af3d": {
      "model_module": "@jupyter-widgets/controls",
      "model_module_version": "1.5.0",
      "model_name": "TextModel",
      "state": {
       "disabled": true,
       "layout": "IPY_MODEL_2941cf15505c4de4b5b310891541b865",
       "placeholder": "output filename",
       "style": "IPY_MODEL_8256c64e9e084e549eba9fb965dd29f1"
      }
     },
     "dfc8a856d38a4faaaf9bcc2a27b23558": {
      "model_module": "@jupyter-widgets/base",
      "model_module_version": "1.2.0",
      "model_name": "LayoutModel",
      "state": {
       "width": "auto"
      }
     },
     "dfd906ad7e51433ab7f58bed230cbd91": {
      "model_module": "@jupyter-widgets/base",
      "model_module_version": "1.2.0",
      "model_name": "LayoutModel",
      "state": {}
     },
     "dfdd0a8cfead4d06b85878be7fdadef7": {
      "model_module": "@jupyter-widgets/base",
      "model_module_version": "1.2.0",
      "model_name": "LayoutModel",
      "state": {}
     },
     "e002253fbd3d40c59e4cf919e05efcfe": {
      "model_module": "@jupyter-widgets/controls",
      "model_module_version": "1.5.0",
      "model_name": "DropdownModel",
      "state": {
       "_options_labels": [
        "",
        "fault_splay1",
        "fault_Cliff_Lake",
        "fault_Other_FlinFlon",
        "fault_Club_Lake_splay",
        "fault_Catherine_splay2",
        "fault_Birch_View",
        "fault_Dion_Lake",
        "fault_FlinFlon_splay",
        "fault_West_Mandy_Road",
        "fault_Channing",
        "fault_Ross_Lake",
        "fault_Louis_Hidden",
        "fault_Lake_View_thrust",
        "contact_Schist_Lake",
        "fault_Burley_Lake",
        "fault_Dion_Lake_splay",
        "fault_Green_Lake",
        "fault_FlinFlon",
        "fault_Catherine_splay1",
        "fault_East_Mandy_Road",
        "fault_Other_FlinFlon_South",
        "fault_Catherine_splay4",
        "contact_Stitt_Island",
        "fault_Club_Lake",
        "fault_Tailing_Pond",
        "35_Hidden_Reservoir_Hr5",
        "29_Hidden_Reservoir_Hr1a",
        "60_BlueLagoon_Fb2",
        "20_FlinFlon_Undivided_Int_Dykes_D2f",
        "04_Boundary_Intrusive_S4h",
        "53_Millrock_Rhyolite_Fm4b",
        "19_FlinFlon_Undivided_Int_Dykes_D2b",
        "18_FlinFlon_Undivided_Int_Dykes_777_D2b",
        "06_Phantom_Lake_Intrusive_S3a",
        "21_FlinFlon_Undivided_Int_Dykes_D3a",
        "43_Millrock_CHLSH_South",
        "56_Millrock_Basalt_Fm1ba",
        "17_FlinFlon_Undivided_Int_Dykes_D2",
        "32_Hidden_Reservoir_Hr1b_SW",
        "11_Missi_M3_NE",
        "13_Missi_M1",
        "07_Annabel_Granitoid_S1",
        "45_Millrock_Gabbro_South",
        "01_Late_Intrusive_S5b",
        "31_Hidden_Reservoir_Hr1c_SW",
        "52_Millrock_Rhyolite_Fm4_West_check",
        "55_Millrock_Basalt_Fm1bf",
        "34_Hidden_Reservoir_Hr2b",
        "03_Boundary_Intrusive_S4b",
        "42_Millrock_CHLSH_North",
        "26_Louis_L3",
        "23_FlinFlon_Undivided_Int_Felsic_D4g",
        "30_Hidden_Reservoir_Hr1b",
        "59_BlueLagoon_Fb3",
        "49_Millrock_MVR_Fm5d",
        "44_Millrock_Gabbro_North",
        "27_Hidden_Carlisle_Hc4",
        "22_FlinFlon_Undivided_Int_Felsic_D4e",
        "02_Boundary_Intrusive_S4a",
        "61_BlueLagoon_Fb1_NW",
        "05_Boundary_Intrusive_S4g",
        "39_Ore_Callinan",
        "38_Ore_Dan_Owens",
        "40_Ore_FlinFlon",
        "Inversion_VTEM_Model",
        "Gravity_Magnetics_drape60m",
        "CDI_VTEM_model",
        "Data_FEM_pseudo3D",
        "O2O_Interp_25m",
        "geochem",
        "Inversion_DIGHEM_Model",
        "Topography",
        "Data_TEM_pseudo3D",
        "Data_ZTEM"
       ],
       "description": "Object:",
       "index": 66,
       "layout": "IPY_MODEL_83a2faa007da42e9bee390911aa5cff6",
       "style": "IPY_MODEL_1687f2ea267f44cb9ada2c1e76f26f54"
      }
     },
     "e010c129691445a4af6f89e0af05ca7f": {
      "model_module": "@jupyter-widgets/controls",
      "model_module_version": "1.5.0",
      "model_name": "DescriptionStyleModel",
      "state": {
       "description_width": "initial"
      }
     },
     "e0a6d48200854e4f88ab95aaca13eb99": {
      "model_module": "@jupyter-widgets/controls",
      "model_module_version": "1.5.0",
      "model_name": "TextModel",
      "state": {
       "disabled": true,
       "layout": "IPY_MODEL_7b68d30f03af4413ab437ebe9576a61a",
       "placeholder": "output filename",
       "style": "IPY_MODEL_e38dfae8e1b14e72a3fbfb905d8bb61f"
      }
     },
     "e0e808072bae44d9ace8f3c3c66b14fe": {
      "model_module": "@jupyter-widgets/base",
      "model_module_version": "1.2.0",
      "model_name": "LayoutModel",
      "state": {}
     },
     "e0fa1498cd244a88be0eaf67657aacf3": {
      "model_module": "@jupyter-widgets/base",
      "model_module_version": "1.2.0",
      "model_name": "LayoutModel",
      "state": {
       "width": "auto"
      }
     },
     "e13286a21ec04d59ac4b37aa42395bc8": {
      "model_module": "@jupyter-widgets/base",
      "model_module_version": "1.2.0",
      "model_name": "LayoutModel",
      "state": {
       "width": "75%"
      }
     },
     "e15306edce1246e68bda4e20dd70eed1": {
      "model_module": "@jupyter-widgets/controls",
      "model_module_version": "1.5.0",
      "model_name": "ButtonStyleModel",
      "state": {}
     },
     "e196d807e5e8464fb834366b877b9376": {
      "model_module": "@jupyter-widgets/base",
      "model_module_version": "1.2.0",
      "model_name": "LayoutModel",
      "state": {}
     },
     "e1d816d46aca4dfaa6ee2e1ff36e9181": {
      "model_module": "@jupyter-widgets/controls",
      "model_module_version": "1.5.0",
      "model_name": "SelectModel",
      "state": {
       "_options_labels": [
        "..",
        "SimPEG_PFInversion",
        "Temp"
       ],
       "index": null,
       "layout": "IPY_MODEL_3f12b5ea62604e53ab8b8e3131d2614d",
       "rows": 8,
       "style": "IPY_MODEL_db6d9ac410aa45fd86389e8913757e73"
      }
     },
     "e1ec05768fbf49e8bcb5a56954034e56": {
      "model_module": "@jupyter-widgets/controls",
      "model_module_version": "1.5.0",
      "model_name": "VBoxModel",
      "state": {
       "children": [
        "IPY_MODEL_fb11d62bea6643c0b5e24d09ba62ed00",
        "IPY_MODEL_0a4917698ada4f518c123996f7aba605",
        "IPY_MODEL_7b92a12552d047fb95e72fd5659c9a28"
       ],
       "layout": "IPY_MODEL_70db5232474b442cb0a9041ab8950954"
      }
     },
     "e1ff38de12ef4490981b3293bb760ed0": {
      "model_module": "@jupyter-widgets/controls",
      "model_module_version": "1.5.0",
      "model_name": "ButtonModel",
      "state": {
       "description": "Create copy:",
       "layout": "IPY_MODEL_6bd953aa431943fdb1c555bd4518ce81",
       "style": "IPY_MODEL_4949f38dc29a42218c088a8f17b4e181"
      }
     },
     "e29caf14f08f44cf9938ce69cf0c94bb": {
      "model_module": "@jupyter-widgets/base",
      "model_module_version": "1.2.0",
      "model_name": "LayoutModel",
      "state": {}
     },
     "e2b06ca113764c9ca2a3949b87f5c6e8": {
      "model_module": "@jupyter-widgets/base",
      "model_module_version": "1.2.0",
      "model_name": "LayoutModel",
      "state": {}
     },
     "e2b20e2877ed46df945aafbd56aaca98": {
      "model_module": "@jupyter-widgets/controls",
      "model_module_version": "1.5.0",
      "model_name": "DescriptionStyleModel",
      "state": {
       "description_width": ""
      }
     },
     "e2b884b184d3474f848a957d94490026": {
      "model_module": "@jupyter-widgets/base",
      "model_module_version": "1.2.0",
      "model_name": "LayoutModel",
      "state": {
       "grid_area": "pathlist",
       "width": "auto"
      }
     },
     "e2bd161fad5041c3a490bae05d7208f0": {
      "model_module": "@jupyter-widgets/base",
      "model_module_version": "1.2.0",
      "model_name": "LayoutModel",
      "state": {}
     },
     "e2d0bece57c9478a8d126ee99047265b": {
      "model_module": "@jupyter-widgets/base",
      "model_module_version": "1.2.0",
      "model_name": "LayoutModel",
      "state": {
       "display": "none"
      }
     },
     "e2dcaf432fe04dd59f09cd412ab61600": {
      "model_module": "@jupyter-widgets/base",
      "model_module_version": "1.2.0",
      "model_name": "LayoutModel",
      "state": {
       "display": "none"
      }
     },
     "e2eaae32fb5743e1a6ba4ef3355f78a2": {
      "model_module": "@jupyter-widgets/controls",
      "model_module_version": "1.5.0",
      "model_name": "HBoxModel",
      "state": {
       "children": [
        "IPY_MODEL_82b0c52a42b341a29a0d30d1eb0d3ba7",
        "IPY_MODEL_ce6002f39dd544b4b42f7625f32c67ea",
        "IPY_MODEL_9d3b5f9ec2474828aad750c648eaf19a"
       ],
       "layout": "IPY_MODEL_0a847be77530417098a1dd53e8483faf"
      }
     },
     "e32d092dd27a4c85b388fabc17cf5fdc": {
      "model_module": "@jupyter-widgets/controls",
      "model_module_version": "1.5.0",
      "model_name": "DescriptionStyleModel",
      "state": {
       "description_width": ""
      }
     },
     "e38dfae8e1b14e72a3fbfb905d8bb61f": {
      "model_module": "@jupyter-widgets/controls",
      "model_module_version": "1.5.0",
      "model_name": "DescriptionStyleModel",
      "state": {
       "description_width": ""
      }
     },
     "e3bb7995989b4dd89747c16f34142a20": {
      "model_module": "@jupyter-widgets/controls",
      "model_module_version": "1.5.0",
      "model_name": "ButtonStyleModel",
      "state": {}
     },
     "e3cc243caab24238982e1828737db3e7": {
      "model_module": "@jupyter-widgets/base",
      "model_module_version": "1.2.0",
      "model_name": "LayoutModel",
      "state": {
       "display": "none",
       "width": "auto"
      }
     },
     "e3e414ca69c04645a39f1a45ce45fee2": {
      "model_module": "@jupyter-widgets/base",
      "model_module_version": "1.2.0",
      "model_name": "LayoutModel",
      "state": {}
     },
     "e506372c18f64a5299db128f4b74ad5c": {
      "model_module": "@jupyter-widgets/base",
      "model_module_version": "1.2.0",
      "model_name": "LayoutModel",
      "state": {
       "grid_area": "dircontent",
       "width": "auto"
      }
     },
     "e522b3e7fc124804bc768c04b3f6ea3e": {
      "model_module": "@jupyter-widgets/controls",
      "model_module_version": "1.5.0",
      "model_name": "ButtonStyleModel",
      "state": {}
     },
     "e5614f0468c143ba9b2ee27b70498bbc": {
      "model_module": "@jupyter-widgets/controls",
      "model_module_version": "1.5.0",
      "model_name": "HBoxModel",
      "state": {
       "children": [
        "IPY_MODEL_046110f1bbd9414aaa38fe0f4ae899ee",
        "IPY_MODEL_8476de829b284b49a3518eb286c55d28"
       ],
       "layout": "IPY_MODEL_36140327b93e4edc826a79e430df8fb4"
      }
     },
     "e590f2ee7ade4ef984d5dd49d31ae0d9": {
      "model_module": "@jupyter-widgets/base",
      "model_module_version": "1.2.0",
      "model_name": "LayoutModel",
      "state": {}
     },
     "e5afb3cb02b440f09c1edc3ea5a75800": {
      "model_module": "@jupyter-widgets/controls",
      "model_module_version": "1.5.0",
      "model_name": "ButtonStyleModel",
      "state": {}
     },
     "e5c310aaa1b647e6be1125b33f571602": {
      "model_module": "@jupyter-widgets/controls",
      "model_module_version": "1.5.0",
      "model_name": "DescriptionStyleModel",
      "state": {
       "description_width": "initial"
      }
     },
     "e61eb31c3c7648d18eedf8a6fc091c42": {
      "model_module": "@jupyter-widgets/controls",
      "model_module_version": "1.5.0",
      "model_name": "VBoxModel",
      "state": {
       "children": [
        "IPY_MODEL_f56c57bd35a042b598a5b36f68afedc1",
        "IPY_MODEL_6e489e1cefb246b7832013ac1b964e22"
       ],
       "layout": "IPY_MODEL_1eee2da6edb64f65a1fee1a845c0003a"
      }
     },
     "e62b65fa3d7649ba8027d1b90a505897": {
      "model_module": "@jupyter-widgets/controls",
      "model_module_version": "1.5.0",
      "model_name": "DescriptionStyleModel",
      "state": {
       "description_width": "initial"
      }
     },
     "e6ca0435cdce4076a132b998e54f13d3": {
      "model_module": "@jupyter-widgets/controls",
      "model_module_version": "1.5.0",
      "model_name": "DescriptionStyleModel",
      "state": {
       "description_width": "initial"
      }
     },
     "e7631d3bbd744cd49b616a2779428f02": {
      "model_module": "@jupyter-widgets/controls",
      "model_module_version": "1.5.0",
      "model_name": "DescriptionStyleModel",
      "state": {
       "description_width": "initial"
      }
     },
     "e7afbb4ef2de4e3682143908f5eda8c6": {
      "model_module": "@jupyter-widgets/base",
      "model_module_version": "1.2.0",
      "model_name": "LayoutModel",
      "state": {
       "width": "auto"
      }
     },
     "e7b05a57c60f4d1aaefa6ebb25c9a196": {
      "model_module": "@jupyter-widgets/base",
      "model_module_version": "1.2.0",
      "model_name": "LayoutModel",
      "state": {
       "display": "none",
       "grid_area": "filename",
       "width": "auto"
      }
     },
     "e7c6614300584bc8ab1cf5c723dd752a": {
      "model_module": "@jupyter-widgets/controls",
      "model_module_version": "1.5.0",
      "model_name": "HTMLModel",
      "state": {
       "layout": "IPY_MODEL_c17b9fd4a9554066b1e8756812400b05",
       "style": "IPY_MODEL_2701409aae8c4cc3b726b2de9b721ad2"
      }
     },
     "e7dad3ccf7d84f9196cd054fa0fc15fd": {
      "model_module": "@jupyter-widgets/controls",
      "model_module_version": "1.5.0",
      "model_name": "HBoxModel",
      "state": {
       "children": [
        "IPY_MODEL_2ae06a3b2848487b9c609f948d35c09f",
        "IPY_MODEL_c728040ed826464bb2434d6fee3030d0",
        "IPY_MODEL_3406d113c88f4b62ac4bc7685c75acbd"
       ],
       "layout": "IPY_MODEL_d0368d97d4a54d4babf1709bdec53ea2"
      }
     },
     "e7eb9e7021db414e924166e3339f4b4e": {
      "model_module": "@jupyter-widgets/controls",
      "model_module_version": "1.5.0",
      "model_name": "ButtonModel",
      "state": {
       "description": "Create copy:",
       "layout": "IPY_MODEL_870d7848d4384fa4bac028c39c4103a9",
       "style": "IPY_MODEL_3a28abcc63aa4664b8e5b462456c19d5"
      }
     },
     "e86db034fbe74f57b75e1f0a51166a72": {
      "model_module": "@jupyter-widgets/controls",
      "model_module_version": "1.5.0",
      "model_name": "DescriptionStyleModel",
      "state": {
       "description_width": ""
      }
     },
     "e881619a050c455bb11c8720e27e71d6": {
      "model_module": "@jupyter-widgets/controls",
      "model_module_version": "1.5.0",
      "model_name": "ButtonModel",
      "state": {
       "button_style": "danger",
       "description": "Export",
       "icon": "check",
       "layout": "IPY_MODEL_b0f2534e7d81435abd9f9cae37e32429",
       "style": "IPY_MODEL_4abacc08e43c41319912dbb862e9868a",
       "tooltip": "Run computation"
      }
     },
     "e989df3010ac4220a7b62ebe4df9a2f3": {
      "model_module": "@jupyter-widgets/base",
      "model_module_version": "1.2.0",
      "model_name": "LayoutModel",
      "state": {}
     },
     "ea146b4ecf6743b6ae1fae24ba54fab5": {
      "model_module": "@jupyter-widgets/base",
      "model_module_version": "1.2.0",
      "model_name": "LayoutModel",
      "state": {
       "grid_area": "dircontent",
       "width": "auto"
      }
     },
     "ea467775315549f49574ee4534711ae0": {
      "model_module": "@jupyter-widgets/controls",
      "model_module_version": "1.5.0",
      "model_name": "ButtonModel",
      "state": {
       "description": "Change",
       "layout": "IPY_MODEL_031130deb20645c1a187d16b6f48b21b",
       "style": "IPY_MODEL_f6354d417b644e9d80d8ae3f60037bf7"
      }
     },
     "eb1c942f74e14df5b7473a1fae859a74": {
      "model_module": "@jupyter-widgets/controls",
      "model_module_version": "1.5.0",
      "model_name": "DescriptionStyleModel",
      "state": {
       "description_width": "initial"
      }
     },
     "eba1886127ef4b50bb3cb5c55ce82b60": {
      "model_module": "@jupyter-widgets/controls",
      "model_module_version": "1.5.0",
      "model_name": "TextareaModel",
      "state": {
       "continuous_update": false,
       "description": "WKT:",
       "layout": "IPY_MODEL_3c83e6e1dc3445a29dc324344703e6f3",
       "style": "IPY_MODEL_5a69c6d5cd144a3381760cf4a1d72e0c",
       "value": "PROJCS[\"NAD83 / UTM zone 14N\",GEOGCS[\"NAD83\",DATUM[\"North_American_Datum_1983\",SPHEROID[\"GRS 1980\",6378137,298.257222101,AUTHORITY[\"EPSG\",\"7019\"]],AUTHORITY[\"EPSG\",\"6269\"]],PRIMEM[\"Greenwich\",0,AUTHORITY[\"EPSG\",\"8901\"]],UNIT[\"degree\",0.0174532925199433,AUTHORITY[\"EPSG\",\"9122\"]],AUTHORITY[\"EPSG\",\"4269\"]],PROJECTION[\"Transverse_Mercator\"],PARAMETER[\"latitude_of_origin\",0],PARAMETER[\"central_meridian\",-99],PARAMETER[\"scale_factor\",0.9996],PARAMETER[\"false_easting\",500000],PARAMETER[\"false_northing\",0],UNIT[\"metre\",1,AUTHORITY[\"EPSG\",\"9001\"]],AXIS[\"Easting\",EAST],AXIS[\"Northing\",NORTH],AUTHORITY[\"EPSG\",\"26914\"]]"
      }
     },
     "ebab9e4657d944bcbcbaa1df04e714ad": {
      "model_module": "@jupyter-widgets/base",
      "model_module_version": "1.2.0",
      "model_name": "LayoutModel",
      "state": {}
     },
     "ebd83ad714ca4aa79e4a09705a16f92f": {
      "model_module": "@jupyter-widgets/controls",
      "model_module_version": "1.5.0",
      "model_name": "DescriptionStyleModel",
      "state": {
       "description_width": ""
      }
     },
     "ec37b52c27924a9da0dd208a483f12c3": {
      "model_module": "@jupyter-widgets/base",
      "model_module_version": "1.2.0",
      "model_name": "LayoutModel",
      "state": {
       "grid_area": "filename",
       "width": "auto"
      }
     },
     "ec3817cf52af41bab9de0a01b45657d3": {
      "model_module": "@jupyter-widgets/controls",
      "model_module_version": "1.5.0",
      "model_name": "TextareaModel",
      "state": {
       "continuous_update": false,
       "description": "WKT:",
       "layout": "IPY_MODEL_2498abca7705402f8955c7e3eaaaa8d2",
       "style": "IPY_MODEL_43764ce117c1497998e5521407fc9e16",
       "value": "PROJCS[\"NAD83 / UTM zone 14N\",GEOGCS[\"NAD83\",DATUM[\"North_American_Datum_1983\",SPHEROID[\"GRS 1980\",6378137,298.257222101,AUTHORITY[\"EPSG\",\"7019\"]],AUTHORITY[\"EPSG\",\"6269\"]],PRIMEM[\"Greenwich\",0,AUTHORITY[\"EPSG\",\"8901\"]],UNIT[\"degree\",0.0174532925199433,AUTHORITY[\"EPSG\",\"9122\"]],AUTHORITY[\"EPSG\",\"4269\"]],PROJECTION[\"Transverse_Mercator\"],PARAMETER[\"latitude_of_origin\",0],PARAMETER[\"central_meridian\",-99],PARAMETER[\"scale_factor\",0.9996],PARAMETER[\"false_easting\",500000],PARAMETER[\"false_northing\",0],UNIT[\"metre\",1,AUTHORITY[\"EPSG\",\"9001\"]],AXIS[\"Easting\",EAST],AXIS[\"Northing\",NORTH],AUTHORITY[\"EPSG\",\"26914\"]]"
      }
     },
     "ec4c99ed9a8f49f584e3e1bbbd782bb1": {
      "model_module": "@jupyter-widgets/controls",
      "model_module_version": "1.5.0",
      "model_name": "HBoxModel",
      "state": {
       "children": [
        "IPY_MODEL_8525bdda3fb34d07a37f664df49042e2",
        "IPY_MODEL_55d10c924c8d49609a4cda70a1012bcb"
       ],
       "layout": "IPY_MODEL_f8a65ba894fa4a2bba1fde729158173c"
      }
     },
     "ec986b626b8548d3ad93f459f80a50e9": {
      "model_module": "@jupyter-widgets/base",
      "model_module_version": "1.2.0",
      "model_name": "LayoutModel",
      "state": {}
     },
     "ecabc20136dd4d76b1eb8ce7f3d82e5c": {
      "model_module": "@jupyter-widgets/controls",
      "model_module_version": "1.5.0",
      "model_name": "DescriptionStyleModel",
      "state": {
       "description_width": ""
      }
     },
     "ecba4039ae834902bb8c232a68303914": {
      "model_module": "@jupyter-widgets/controls",
      "model_module_version": "1.5.0",
      "model_name": "ButtonStyleModel",
      "state": {}
     },
     "ed56578c65e04a1ca0f80128e21d8011": {
      "model_module": "@jupyter-widgets/base",
      "model_module_version": "1.2.0",
      "model_name": "LayoutModel",
      "state": {}
     },
     "ed59d6d923df4d07bc9abd86e4764ee2": {
      "model_module": "@jupyter-widgets/base",
      "model_module_version": "1.2.0",
      "model_name": "LayoutModel",
      "state": {}
     },
     "ed6a2168afdd450496384332a11c5a4d": {
      "model_module": "@jupyter-widgets/controls",
      "model_module_version": "1.5.0",
      "model_name": "DescriptionStyleModel",
      "state": {
       "description_width": "initial"
      }
     },
     "edf364114f1a4c4cbf39486c3958d597": {
      "model_module": "@jupyter-widgets/base",
      "model_module_version": "1.2.0",
      "model_name": "LayoutModel",
      "state": {}
     },
     "ee22b45f49de402c8ccd78b9bb2be25e": {
      "model_module": "@jupyter-widgets/controls",
      "model_module_version": "1.5.0",
      "model_name": "ButtonStyleModel",
      "state": {}
     },
     "ee4129eeeae34ed680ae471e4ee84214": {
      "model_module": "@jupyter-widgets/controls",
      "model_module_version": "1.5.0",
      "model_name": "VBoxModel",
      "state": {
       "children": [
        "IPY_MODEL_1549c4fb230549cf8dbe463fe506be74"
       ],
       "layout": "IPY_MODEL_090f67dd53fe414cae0159e089e42656"
      }
     },
     "eee37240ad6d4d699ae010a033ac4c82": {
      "model_module": "@jupyter-widgets/controls",
      "model_module_version": "1.5.0",
      "model_name": "ButtonModel",
      "state": {
       "description": "Cancel",
       "layout": "IPY_MODEL_45ba13ee492c4184bfb9e6c24428e1ff",
       "style": "IPY_MODEL_5fd93a739da047cdbf2ae10e50f21dec"
      }
     },
     "ef5b3cf1831a45be927ed94a91ea0e88": {
      "model_module": "@jupyter-widgets/controls",
      "model_module_version": "1.5.0",
      "model_name": "GridBoxModel",
      "state": {
       "children": [
        "IPY_MODEL_2aaee3d4c9664ee690bdf2ddc10135c0",
        "IPY_MODEL_ba413159f48e4696b3e905df26c2bd79",
        "IPY_MODEL_1405d7641d814ddd994fc546b19ae741"
       ],
       "layout": "IPY_MODEL_6b644f5b271449aca9dff3cf98e88e6b"
      }
     },
     "ef6569ee37d84d0eae4f55e11960e319": {
      "model_module": "@jupyter-widgets/base",
      "model_module_version": "1.2.0",
      "model_name": "LayoutModel",
      "state": {}
     },
     "efa50a74cf8a42d8aa4c73d8c4d2c199": {
      "model_module": "@jupyter-widgets/base",
      "model_module_version": "1.2.0",
      "model_name": "LayoutModel",
      "state": {
       "grid_area": "pathlist",
       "width": "auto"
      }
     },
     "efce112c8b2848c1a13a097972b41481": {
      "model_module": "@jupyter-widgets/controls",
      "model_module_version": "1.5.0",
      "model_name": "TextModel",
      "state": {
       "continuous_update": false,
       "description": "Group:",
       "layout": "IPY_MODEL_bced5b6bb9e846258cd49dbd24552e91",
       "style": "IPY_MODEL_565a81ccc4414c8fbf4b9a5f2e846bcf"
      }
     },
     "efdefae7a44a445d961ea70ae5d4f75a": {
      "model_module": "@jupyter-widgets/base",
      "model_module_version": "1.2.0",
      "model_name": "LayoutModel",
      "state": {}
     },
     "f035ff915d86431cbf5a2267367238bb": {
      "model_module": "@jupyter-widgets/controls",
      "model_module_version": "1.5.0",
      "model_name": "ButtonStyleModel",
      "state": {}
     },
     "f093c88bc61b4a9b9b20e2b5fc79f15f": {
      "model_module": "@jupyter-widgets/controls",
      "model_module_version": "1.5.0",
      "model_name": "ButtonModel",
      "state": {
       "button_style": "danger",
       "description": "Export",
       "icon": "check",
       "layout": "IPY_MODEL_6ddc8090ceec422f993a2da136eaee1b",
       "style": "IPY_MODEL_c2cdf1fa758d44cabcca4a08ff31cf88",
       "tooltip": "Run computation"
      }
     },
     "f0a800b33ec84ec481dca48e4f3e7b0f": {
      "model_module": "@jupyter-widgets/base",
      "model_module_version": "1.2.0",
      "model_name": "LayoutModel",
      "state": {}
     },
     "f0c1b012ddaa4531adf0f0e7bcc96edd": {
      "model_module": "@jupyter-widgets/base",
      "model_module_version": "1.2.0",
      "model_name": "LayoutModel",
      "state": {
       "width": "auto"
      }
     },
     "f0c7c16ae6554bd3b2bf01d8aa15f5b2": {
      "model_module": "@jupyter-widgets/base",
      "model_module_version": "1.2.0",
      "model_name": "LayoutModel",
      "state": {}
     },
     "f1c51f8fdd574b0b94108a8e00c90bbc": {
      "model_module": "@jupyter-widgets/controls",
      "model_module_version": "1.5.0",
      "model_name": "ButtonModel",
      "state": {
       "button_style": "danger",
       "description": "Export",
       "icon": "check",
       "layout": "IPY_MODEL_cac7f35a2a3f45e78de1428937724091",
       "style": "IPY_MODEL_2eeb655e87a1402fa79bd383f2bb59af",
       "tooltip": "Run computation"
      }
     },
     "f1fa23c179c24f2cb3bbbd0aa3e800e7": {
      "model_module": "@jupyter-widgets/base",
      "model_module_version": "1.2.0",
      "model_name": "LayoutModel",
      "state": {
       "display": "none",
       "grid_gap": "0px 0px",
       "grid_template_areas": "\n                    'pathlist filename'\n                    'dircontent dircontent'\n                    ",
       "grid_template_columns": "60% 40%",
       "grid_template_rows": "auto auto",
       "width": "500px"
      }
     },
     "f231026803254d52aa89a1a872a39f7c": {
      "model_module": "@jupyter-widgets/controls",
      "model_module_version": "1.5.0",
      "model_name": "DescriptionStyleModel",
      "state": {
       "description_width": "initial"
      }
     },
     "f2a7de91caeb4df9bc777ca5b96db191": {
      "model_module": "@jupyter-widgets/controls",
      "model_module_version": "1.5.0",
      "model_name": "DescriptionStyleModel",
      "state": {
       "description_width": ""
      }
     },
     "f2af139885b94e92b44d1693248d9c55": {
      "model_module": "@jupyter-widgets/controls",
      "model_module_version": "1.5.0",
      "model_name": "DropdownModel",
      "state": {
       "_options_labels": [
        "",
        "fault_splay1",
        "fault_Cliff_Lake",
        "fault_Other_FlinFlon",
        "fault_Club_Lake_splay",
        "fault_Catherine_splay2",
        "fault_Birch_View",
        "fault_Dion_Lake",
        "fault_FlinFlon_splay",
        "fault_West_Mandy_Road",
        "fault_Channing",
        "fault_Ross_Lake",
        "fault_Louis_Hidden",
        "fault_Lake_View_thrust",
        "contact_Schist_Lake",
        "fault_Burley_Lake",
        "fault_Dion_Lake_splay",
        "fault_Green_Lake",
        "fault_FlinFlon",
        "fault_Catherine_splay1",
        "fault_East_Mandy_Road",
        "fault_Other_FlinFlon_South",
        "fault_Catherine_splay4",
        "contact_Stitt_Island",
        "fault_Club_Lake",
        "fault_Tailing_Pond",
        "35_Hidden_Reservoir_Hr5",
        "29_Hidden_Reservoir_Hr1a",
        "60_BlueLagoon_Fb2",
        "20_FlinFlon_Undivided_Int_Dykes_D2f",
        "04_Boundary_Intrusive_S4h",
        "53_Millrock_Rhyolite_Fm4b",
        "19_FlinFlon_Undivided_Int_Dykes_D2b",
        "18_FlinFlon_Undivided_Int_Dykes_777_D2b",
        "06_Phantom_Lake_Intrusive_S3a",
        "21_FlinFlon_Undivided_Int_Dykes_D3a",
        "43_Millrock_CHLSH_South",
        "56_Millrock_Basalt_Fm1ba",
        "17_FlinFlon_Undivided_Int_Dykes_D2",
        "32_Hidden_Reservoir_Hr1b_SW",
        "11_Missi_M3_NE",
        "13_Missi_M1",
        "07_Annabel_Granitoid_S1",
        "45_Millrock_Gabbro_South",
        "01_Late_Intrusive_S5b",
        "31_Hidden_Reservoir_Hr1c_SW",
        "52_Millrock_Rhyolite_Fm4_West_check",
        "55_Millrock_Basalt_Fm1bf",
        "34_Hidden_Reservoir_Hr2b",
        "03_Boundary_Intrusive_S4b",
        "42_Millrock_CHLSH_North",
        "26_Louis_L3",
        "23_FlinFlon_Undivided_Int_Felsic_D4g",
        "30_Hidden_Reservoir_Hr1b",
        "59_BlueLagoon_Fb3",
        "49_Millrock_MVR_Fm5d",
        "44_Millrock_Gabbro_North",
        "27_Hidden_Carlisle_Hc4",
        "22_FlinFlon_Undivided_Int_Felsic_D4e",
        "02_Boundary_Intrusive_S4a",
        "61_BlueLagoon_Fb1_NW",
        "05_Boundary_Intrusive_S4g",
        "39_Ore_Callinan",
        "38_Ore_Dan_Owens",
        "40_Ore_FlinFlon",
        "Inversion_VTEM_Model",
        "Gravity_Magnetics_drape60m",
        "CDI_VTEM_model",
        "Data_FEM_pseudo3D",
        "O2O_Interp_25m",
        "geochem",
        "Inversion_DIGHEM_Model",
        "Topography",
        "Data_TEM_pseudo3D",
        "Data_ZTEM"
       ],
       "description": "Object:",
       "index": 66,
       "layout": "IPY_MODEL_35ef36f2809b44fc8879b9351657cd1e",
       "style": "IPY_MODEL_8a9b7f4e6d674e2b88f61e6acb0a82f2"
      }
     },
     "f2e62f74ce07446fa0077c34c4e1ed61": {
      "model_module": "@jupyter-widgets/base",
      "model_module_version": "1.2.0",
      "model_name": "LayoutModel",
      "state": {}
     },
     "f35895403ad24ad8a23bde5a7461b1fc": {
      "model_module": "@jupyter-widgets/base",
      "model_module_version": "1.2.0",
      "model_name": "LayoutModel",
      "state": {
       "display": "none"
      }
     },
     "f36a224b103d4adc9ea8cede010a60fa": {
      "model_module": "@jupyter-widgets/controls",
      "model_module_version": "1.5.0",
      "model_name": "VBoxModel",
      "state": {
       "children": [
        "IPY_MODEL_2f77880d139c4b9eaa80c697392e9856",
        "IPY_MODEL_79d064e47e2a493ea4f30ad66e29c2c7"
       ],
       "layout": "IPY_MODEL_4c363571b4fd4be181c6e531c4f56c8b"
      }
     },
     "f36e854b82a140698401d84092cb354b": {
      "model_module": "@jupyter-widgets/base",
      "model_module_version": "1.2.0",
      "model_name": "LayoutModel",
      "state": {}
     },
     "f3d85dc2a2a84c1cb16ffce4316a5525": {
      "model_module": "@jupyter-widgets/controls",
      "model_module_version": "1.5.0",
      "model_name": "HBoxModel",
      "state": {
       "children": [
        "IPY_MODEL_f87b75fd352b4d03b621776e3f2e70b9",
        "IPY_MODEL_e1ff38de12ef4490981b3293bb760ed0"
       ],
       "layout": "IPY_MODEL_05eedd64fb154bfd99b1415e7e1487bb"
      }
     },
     "f400949b70f048fe93350976e6fc910f": {
      "model_module": "@jupyter-widgets/controls",
      "model_module_version": "1.5.0",
      "model_name": "ButtonStyleModel",
      "state": {}
     },
     "f44f130073614bf9865596a34b0fa70b": {
      "model_module": "@jupyter-widgets/controls",
      "model_module_version": "1.5.0",
      "model_name": "HTMLModel",
      "state": {
       "layout": "IPY_MODEL_ae7b58ed74274cba8c843ad571a7fc7b",
       "placeholder": "",
       "style": "IPY_MODEL_b1d472f0b5d4459e9db65bccb6df7d17",
       "value": "<span style=\"margin-left:10px; color:green;\">C:\\Users\\dominiquef\\Documents\\GIT\\mira\\mirageoscience-apps\\assets\\</span>"
      }
     },
     "f47fe748ab7246f8a1a18439a4bf9a20": {
      "model_module": "@jupyter-widgets/controls",
      "model_module_version": "1.5.0",
      "model_name": "HBoxModel",
      "state": {
       "children": [
        "IPY_MODEL_f5afb9e61fe340e781bd0e6381d63301",
        "IPY_MODEL_d3e803ccfe884489a0655194afe3f9c2",
        "IPY_MODEL_040086cc15b942b890d62ca34946acda"
       ],
       "layout": "IPY_MODEL_6b8943f8b9ce42439a1a536e561781ce"
      }
     },
     "f4fbc01aab184018b9eda9704bba630b": {
      "model_module": "@jupyter-widgets/base",
      "model_module_version": "1.2.0",
      "model_name": "LayoutModel",
      "state": {}
     },
     "f5304a0fdcdc4e8da1e019e584e5264a": {
      "model_module": "@jupyter-widgets/base",
      "model_module_version": "1.2.0",
      "model_name": "LayoutModel",
      "state": {}
     },
     "f56c57bd35a042b598a5b36f68afedc1": {
      "model_module": "@jupyter-widgets/controls",
      "model_module_version": "1.5.0",
      "model_name": "LabelModel",
      "state": {
       "layout": "IPY_MODEL_2bfa689430c240729a27a333d7baa444",
       "style": "IPY_MODEL_e62b65fa3d7649ba8027d1b90a505897",
       "value": "Workspace"
      }
     },
     "f5afb9e61fe340e781bd0e6381d63301": {
      "model_module": "@jupyter-widgets/controls",
      "model_module_version": "1.5.0",
      "model_name": "ButtonModel",
      "state": {
       "description": "Change",
       "layout": "IPY_MODEL_e7afbb4ef2de4e3682143908f5eda8c6",
       "style": "IPY_MODEL_e5afb3cb02b440f09c1edc3ea5a75800"
      }
     },
     "f5cd21fd723a421398347a00240cab20": {
      "model_module": "@jupyter-widgets/controls",
      "model_module_version": "1.5.0",
      "model_name": "ButtonStyleModel",
      "state": {}
     },
     "f6354d417b644e9d80d8ae3f60037bf7": {
      "model_module": "@jupyter-widgets/controls",
      "model_module_version": "1.5.0",
      "model_name": "ButtonStyleModel",
      "state": {}
     },
     "f6f81a8b3a6d40c09bb9c6a107ba7e69": {
      "model_module": "@jupyter-widgets/controls",
      "model_module_version": "1.5.0",
      "model_name": "DropdownModel",
      "state": {
       "_options_labels": [
        "C:\\Users\\dominiquef\\Documents\\GIT\\mira\\mirageoscience-apps\\assets",
        "C:\\Users\\dominiquef\\Documents\\GIT\\mira\\mirageoscience-apps",
        "C:\\Users\\dominiquef\\Documents\\GIT\\mira",
        "C:\\Users\\dominiquef\\Documents\\GIT",
        "C:\\Users\\dominiquef\\Documents",
        "C:\\Users\\dominiquef",
        "C:\\Users",
        "C:\\",
        "D:\\",
        "Z:\\"
       ],
       "index": 0,
       "layout": "IPY_MODEL_5fe44f05ab874cabbff43d0b99870e4a",
       "style": "IPY_MODEL_0e1666a9811d44558b6e74bb3ad47911"
      }
     },
     "f70af4bb1e0b470dae871e8b51b7954b": {
      "model_module": "@jupyter-widgets/base",
      "model_module_version": "1.2.0",
      "model_name": "LayoutModel",
      "state": {}
     },
     "f70e0f84c75f4e5085f94e762c76353f": {
      "model_module": "@jupyter-widgets/base",
      "model_module_version": "1.2.0",
      "model_name": "LayoutModel",
      "state": {
       "width": "auto"
      }
     },
     "f7ae7d821ded475abc1c908e1c2b627f": {
      "model_module": "@jupyter-widgets/base",
      "model_module_version": "1.2.0",
      "model_name": "LayoutModel",
      "state": {}
     },
     "f7ca60ed1ece4ae9840d247086b73866": {
      "model_module": "@jupyter-widgets/base",
      "model_module_version": "1.2.0",
      "model_name": "LayoutModel",
      "state": {
       "grid_area": "dircontent",
       "width": "auto"
      }
     },
     "f7d2b9a208514a4d835947ce32b8982f": {
      "model_module": "@jupyter-widgets/base",
      "model_module_version": "1.2.0",
      "model_name": "LayoutModel",
      "state": {}
     },
     "f83cedbdc47f45889c77a6893c7aa7ca": {
      "model_module": "@jupyter-widgets/controls",
      "model_module_version": "1.5.0",
      "model_name": "VBoxModel",
      "state": {
       "children": [
        "IPY_MODEL_1b6696372e1d4544bd47a5a9fa000cc3",
        "IPY_MODEL_fe13d97bf5ff471396cbdc3452e222c3",
        "IPY_MODEL_349e5d300cbd4ffb9b07afbb1641dd82",
        "IPY_MODEL_1abc7f756b6444a297bf055edf5a8a5b",
        "IPY_MODEL_6f19cc6905da4da1817c4c37c281d0eb",
        "IPY_MODEL_f1c51f8fdd574b0b94108a8e00c90bbc",
        "IPY_MODEL_e1ec05768fbf49e8bcb5a56954034e56"
       ],
       "layout": "IPY_MODEL_437b7855a5c2469db3948b9592c099b8"
      }
     },
     "f8426e08bd834a16a9defa79e3e0df8f": {
      "model_module": "@jupyter-widgets/base",
      "model_module_version": "1.2.0",
      "model_name": "LayoutModel",
      "state": {}
     },
     "f87b75fd352b4d03b621776e3f2e70b9": {
      "model_module": "@jupyter-widgets/controls",
      "model_module_version": "1.5.0",
      "model_name": "VBoxModel",
      "state": {
       "children": [
        "IPY_MODEL_2e0f5a2c9b05480f85db8f59438b3b5c",
        "IPY_MODEL_ef5b3cf1831a45be927ed94a91ea0e88",
        "IPY_MODEL_db1c4c1de5f548f8bea57a0fa6a03f14"
       ],
       "layout": "IPY_MODEL_8e7fec71f06c442b8ba6fd4341c5d02b"
      }
     },
     "f87bfe1d25c144e8aa99429dd4c8719f": {
      "model_module": "@jupyter-widgets/base",
      "model_module_version": "1.2.0",
      "model_name": "LayoutModel",
      "state": {
       "grid_area": "pathlist",
       "width": "auto"
      }
     },
     "f8a65ba894fa4a2bba1fde729158173c": {
      "model_module": "@jupyter-widgets/base",
      "model_module_version": "1.2.0",
      "model_name": "LayoutModel",
      "state": {}
     },
     "f8c3583af0604a12a75c085ab5a8ccbf": {
      "model_module": "@jupyter-widgets/base",
      "model_module_version": "1.2.0",
      "model_name": "LayoutModel",
      "state": {}
     },
     "f8c52d540d3f421a871b8a9f85850974": {
      "model_module": "@jupyter-widgets/base",
      "model_module_version": "1.2.0",
      "model_name": "LayoutModel",
      "state": {}
     },
     "f8ce8a0c96414a3d9226753f34dcebf1": {
      "model_module": "@jupyter-widgets/base",
      "model_module_version": "1.2.0",
      "model_name": "LayoutModel",
      "state": {}
     },
     "f8d4abebfe454c7b9bb4d17366ef579f": {
      "model_module": "@jupyter-widgets/controls",
      "model_module_version": "1.5.0",
      "model_name": "ToggleButtonModel",
      "state": {
       "layout": "IPY_MODEL_7dc01eddab2c4d95b75f94c94363e7a7",
       "style": "IPY_MODEL_33fa2932af124eb0ba02877cfa9be430",
       "value": true
      }
     },
     "f9207b119bdd4130ada2e95ed88baf79": {
      "model_module": "@jupyter-widgets/base",
      "model_module_version": "1.2.0",
      "model_name": "LayoutModel",
      "state": {
       "width": "auto"
      }
     },
     "f995213008bd4fc298cd2306000b0033": {
      "model_module": "@jupyter-widgets/controls",
      "model_module_version": "1.5.0",
      "model_name": "VBoxModel",
      "state": {
       "children": [
        "IPY_MODEL_dec8f5cfa4fb4644a83eba495851496c"
       ],
       "layout": "IPY_MODEL_b0b3587116af474fb30c409b8705b950"
      }
     },
     "f9c1548d6e6648ac84feaf73bb4639ba": {
      "model_module": "@jupyter-widgets/base",
      "model_module_version": "1.2.0",
      "model_name": "LayoutModel",
      "state": {
       "grid_area": "dircontent",
       "width": "auto"
      }
     },
     "fa11ce32cdba47f5b64b46dbb63dbbf0": {
      "model_module": "@jupyter-widgets/base",
      "model_module_version": "1.2.0",
      "model_name": "LayoutModel",
      "state": {
       "grid_area": "pathlist",
       "width": "auto"
      }
     },
     "fa159facb58e4356a0a5d8c314945660": {
      "model_module": "@jupyter-widgets/controls",
      "model_module_version": "1.5.0",
      "model_name": "HTMLModel",
      "state": {
       "layout": "IPY_MODEL_1edb300c39774f9dba7ffd3f4b029cff",
       "placeholder": "",
       "style": "IPY_MODEL_8a8c4bcdea3e47ac8c9127c72c181e9d",
       "value": "<span style=\"margin-left:10px; color:orange;\">C:\\Users\\dominiquef\\Documents\\GIT\\mira\\mirageoscience-apps\\assets\\FlinFlon.geoh5</span>"
      }
     },
     "fa4a65c29d604b7480097a115562e820": {
      "model_module": "@jupyter-widgets/controls",
      "model_module_version": "1.5.0",
      "model_name": "DescriptionStyleModel",
      "state": {
       "description_width": ""
      }
     },
     "fad3086b019c49e4925aaac7f68307ea": {
      "model_module": "@jupyter-widgets/controls",
      "model_module_version": "1.5.0",
      "model_name": "ButtonModel",
      "state": {
       "description": "Cancel",
       "layout": "IPY_MODEL_63fa44ac39334a0f9b2de124a37e221a",
       "style": "IPY_MODEL_8ba9c05bc9054249bfa03d4e62b77468"
      }
     },
     "fb1047ef81b24462be7652a87e990cad": {
      "model_module": "@jupyter-widgets/controls",
      "model_module_version": "1.5.0",
      "model_name": "DescriptionStyleModel",
      "state": {
       "description_width": "initial"
      }
     },
     "fb11d62bea6643c0b5e24d09ba62ed00": {
      "model_module": "@jupyter-widgets/controls",
      "model_module_version": "1.5.0",
      "model_name": "HTMLModel",
      "state": {
       "layout": "IPY_MODEL_9bc83016dc544d6a8fb78e83cc1de1e5",
       "style": "IPY_MODEL_ac287fee3d344117800f06c468ddeac5"
      }
     },
     "fb354a68a9624fcc81b0f91b5e508f63": {
      "model_module": "@jupyter-widgets/controls",
      "model_module_version": "1.5.0",
      "model_name": "ButtonModel",
      "state": {
       "description": "Change",
       "layout": "IPY_MODEL_7916cd6258e5425586764f5b03d702b7",
       "style": "IPY_MODEL_815f49551fb44093b6cb83f9497ede48"
      }
     },
     "fc14b850e16a432b803201070fc1cd30": {
      "model_module": "@jupyter-widgets/controls",
      "model_module_version": "1.5.0",
      "model_name": "ButtonModel",
      "state": {
       "description": "Cancel",
       "layout": "IPY_MODEL_de795d9052e64aed9f4affb1995f8ac7",
       "style": "IPY_MODEL_4361bb0df96345ba8f4a9a3e42c34966"
      }
     },
     "fc24c8b5f9d74a8f93b98d1f429b8866": {
      "model_module": "@jupyter-widgets/controls",
      "model_module_version": "1.5.0",
      "model_name": "DescriptionStyleModel",
      "state": {
       "description_width": ""
      }
     },
     "fc5491fee01c40c69908e3adb231bb24": {
      "model_module": "@jupyter-widgets/controls",
      "model_module_version": "1.5.0",
      "model_name": "HBoxModel",
      "state": {
       "children": [
        "IPY_MODEL_de9dfb59a0544aa8a4b41435a98b4aa0",
        "IPY_MODEL_a9374932676148d19afb94cc007c1de4"
       ],
       "layout": "IPY_MODEL_f70af4bb1e0b470dae871e8b51b7954b"
      }
     },
     "fd39534af4f445d486088a3aabd96d97": {
      "model_module": "@jupyter-widgets/controls",
      "model_module_version": "1.5.0",
      "model_name": "DropdownModel",
      "state": {
       "_options_labels": [
        "C:\\Users\\dominiquef\\Documents\\GIT\\mira\\mirageoscience-apps\\assets",
        "C:\\Users\\dominiquef\\Documents\\GIT\\mira\\mirageoscience-apps",
        "C:\\Users\\dominiquef\\Documents\\GIT\\mira",
        "C:\\Users\\dominiquef\\Documents\\GIT",
        "C:\\Users\\dominiquef\\Documents",
        "C:\\Users\\dominiquef",
        "C:\\Users",
        "C:\\",
        "D:\\",
        "Z:\\"
       ],
       "index": 0,
       "layout": "IPY_MODEL_7bee07d8514444bf94e1772bfa9781dc",
       "style": "IPY_MODEL_d273b239e6fa44ff97ef4ad3c78069bf"
      }
     },
     "fd468409a16b43f5812ce73dbfc1c00d": {
      "model_module": "@jupyter-widgets/base",
      "model_module_version": "1.2.0",
      "model_name": "LayoutModel",
      "state": {}
     },
     "fd4ff0fb98c7440d92be38f7a536fd3c": {
      "model_module": "@jupyter-widgets/base",
      "model_module_version": "1.2.0",
      "model_name": "LayoutModel",
      "state": {}
     },
     "fd6d9a695cbe4e58b6ef99ab7f3c1d12": {
      "model_module": "@jupyter-widgets/base",
      "model_module_version": "1.2.0",
      "model_name": "LayoutModel",
      "state": {
       "grid_area": "filename",
       "width": "auto"
      }
     },
     "fddb6665db274c05b2fc4a4cdb6730f2": {
      "model_module": "@jupyter-widgets/controls",
      "model_module_version": "1.5.0",
      "model_name": "HTMLModel",
      "state": {
       "layout": "IPY_MODEL_6a69eb4a4f6a4e439b57821d0e453664",
       "placeholder": "",
       "style": "IPY_MODEL_4d09102b8fbf4ed68e5f092297393c4a",
       "value": "<span style=\"margin-left:10px; color:green;\">C:\\Users\\dominiquef\\Documents\\GIT\\mira\\mirageoscience-apps\\assets\\</span>"
      }
     },
     "fdfed50300ac4fcf9ff472e2d2ab9dbe": {
      "model_module": "@jupyter-widgets/controls",
      "model_module_version": "1.5.0",
      "model_name": "DescriptionStyleModel",
      "state": {
       "description_width": "initial"
      }
     },
     "fe13d97bf5ff471396cbdc3452e222c3": {
      "model_module": "@jupyter-widgets/controls",
      "model_module_version": "1.5.0",
      "model_name": "HBoxModel",
      "state": {
       "children": [
        "IPY_MODEL_197f945a728347e3abdf305a3d7c76f4",
        "IPY_MODEL_1abc7f756b6444a297bf055edf5a8a5b"
       ],
       "layout": "IPY_MODEL_63a2e3aaee2b452ea685543ea34e4657"
      }
     },
     "fe1b6b5d27cd43a9b2cd3644c682b1d7": {
      "model_module": "@jupyter-widgets/base",
      "model_module_version": "1.2.0",
      "model_name": "LayoutModel",
      "state": {
       "display": "none",
       "grid_gap": "0px 0px",
       "grid_template_areas": "\n                    'pathlist filename'\n                    'dircontent dircontent'\n                    ",
       "grid_template_columns": "60% 40%",
       "grid_template_rows": "auto auto",
       "width": "500px"
      }
     },
     "feb1e37080ae466d90771a560254e1c5": {
      "model_module": "@jupyter-widgets/controls",
      "model_module_version": "1.5.0",
      "model_name": "ButtonStyleModel",
      "state": {}
     },
     "fefe1efa911e44f0af01f8c8f613e860": {
      "model_module": "@jupyter-widgets/controls",
      "model_module_version": "1.5.0",
      "model_name": "DescriptionStyleModel",
      "state": {
       "description_width": ""
      }
     },
     "ff0b6b4b4f944ff4b3d980247b5c44fc": {
      "model_module": "@jupyter-widgets/base",
      "model_module_version": "1.2.0",
      "model_name": "LayoutModel",
      "state": {}
     },
     "ff5b03fd15d5409f96c70dcdb8e52503": {
      "model_module": "@jupyter-widgets/controls",
      "model_module_version": "1.5.0",
      "model_name": "HTMLModel",
      "state": {
       "layout": "IPY_MODEL_c7910fa5f4f941539e3d16322c7666e2",
       "style": "IPY_MODEL_837f8d82758e4c0195c32f8fcc7b068b"
      }
     }
    },
    "version_major": 2,
    "version_minor": 0
   }
  }
 },
 "nbformat": 4,
 "nbformat_minor": 5
}

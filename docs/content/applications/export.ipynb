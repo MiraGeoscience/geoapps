{
 "cells": [
  {
   "cell_type": "markdown",
   "id": "dental-preview",
   "metadata": {},
   "source": [
    "# Export\n",
    "\n",
    "  <img align=\"right\" width=\"50%\" src=\"./images/export_app.png\">\n",
    "\n",
    "\n",
    "This application lets user export objects and data stored in `geoh5` to various file formats. \n",
    "\n",
    "The app currently supports:\n",
    "  \n",
    "- ESRI Shapefile (**shp**)\n",
    "- Column file (**csv**)\n",
    "- Geotiff (1 or 3-band) (**tiff**)\n",
    "- UBC-GIF (Tensor or OcTree) (**msh, mod**)\n",
    "\n",
    "\n",
    "New user? Visit the [Getting Started](../installation.rst) page."
   ]
  },
  {
   "cell_type": "markdown",
   "id": "large-jamaica",
   "metadata": {},
   "source": [
    "## Application\n",
    "The following sections provide details on the different parameters controling the application. Interactive widgets shown below are for demonstration purposes only."
   ]
  },
  {
   "cell_type": "code",
   "execution_count": 1,
   "id": "blind-titanium",
   "metadata": {
    "scrolled": false
   },
   "outputs": [
    {
     "data": {
      "application/vnd.jupyter.widget-view+json": {
       "model_id": "c0ec801ddfb44ec3a8fa60b2fb60b842",
       "version_major": 2,
       "version_minor": 0
      },
      "text/plain": [
       "VBox(children=(VBox(children=(Label(value='Workspace', style=DescriptionStyle(description_width='initial')), H…"
      ]
     },
     "metadata": {},
     "output_type": "display_data"
    }
   ],
   "source": [
    "from geoapps.export import Export\n",
    "\n",
    "app = Export(h5file=r\"../../../assets/FlinFlon.geoh5\")\n",
    "app.main"
   ]
  },
  {
   "cell_type": "markdown",
   "id": "third-wellington",
   "metadata": {},
   "source": [
    "## Project Selection\n",
    "\n",
    "Select and connect to an existing **geoh5** project file containing data. "
   ]
  },
  {
   "cell_type": "code",
   "execution_count": 2,
   "id": "extraordinary-series",
   "metadata": {
    "scrolled": false
   },
   "outputs": [
    {
     "data": {
      "application/vnd.jupyter.widget-view+json": {
       "model_id": "723bb09dfb7445d2b65aaee88a79b8c0",
       "version_major": 2,
       "version_minor": 0
      },
      "text/plain": [
       "VBox(children=(Label(value='Workspace', style=DescriptionStyle(description_width='initial')), HBox(children=(F…"
      ]
     },
     "metadata": {},
     "output_type": "display_data"
    }
   ],
   "source": [
    "app.project_panel"
   ]
  },
  {
   "cell_type": "markdown",
   "id": "superb-navigator",
   "metadata": {},
   "source": [
    "See the [Project Panel](base_application.ipynb#Project-Panel) page for more details."
   ]
  },
  {
   "cell_type": "markdown",
   "id": "independent-specialist",
   "metadata": {},
   "source": [
    "## Object and Data Selection\n",
    "\n",
    "List of objects available for export from the target `geoh5` project. "
   ]
  },
  {
   "cell_type": "code",
   "execution_count": 3,
   "id": "decent-bowling",
   "metadata": {
    "scrolled": true
   },
   "outputs": [
    {
     "data": {
      "application/vnd.jupyter.widget-view+json": {
       "model_id": "61df47fa9f1346899af5df81c05b1222",
       "version_major": 2,
       "version_minor": 0
      },
      "text/plain": [
       "VBox(children=(Dropdown(description='Object:', index=66, options=('', 'fault_splay1', 'fault_Cliff_Lake', 'fau…"
      ]
     },
     "metadata": {},
     "output_type": "display_data"
    }
   ],
   "source": [
    "app.data_panel"
   ]
  },
  {
   "cell_type": "markdown",
   "id": "industrial-employee",
   "metadata": {},
   "source": [
    "## Output type\n",
    "\n",
    "List of file formats currently supported."
   ]
  },
  {
   "cell_type": "code",
   "execution_count": 4,
   "id": "whole-closer",
   "metadata": {},
   "outputs": [
    {
     "data": {
      "application/vnd.jupyter.widget-view+json": {
       "model_id": "daa881a16db94a628395c8028786288a",
       "version_major": 2,
       "version_minor": 0
      },
      "text/plain": [
       "Dropdown(description='Export type', index=2, options=('ESRI shapefile', 'csv', 'geotiff', 'UBC format'), style…"
      ]
     },
     "metadata": {},
     "output_type": "display_data"
    }
   ],
   "source": [
    "app.file_type"
   ]
  },
  {
   "cell_type": "markdown",
   "id": "known-pantyhose",
   "metadata": {},
   "source": [
    "### ESRI Shapefile\n",
    "\n",
    "Export option to **.shp** file format for `Points`, `Curve` objects. "
   ]
  },
  {
   "cell_type": "markdown",
   "id": "designing-concert",
   "metadata": {},
   "source": [
    "#### Projection\n",
    "\n",
    "Coordinate system assigned to the shapefile, either as ESRI, EPSG or WKT code."
   ]
  },
  {
   "cell_type": "code",
   "execution_count": 5,
   "id": "defensive-meditation",
   "metadata": {},
   "outputs": [
    {
     "data": {
      "application/vnd.jupyter.widget-view+json": {
       "model_id": "b18955aa307d49deade78df0a7b1c8f8",
       "version_major": 2,
       "version_minor": 0
      },
      "text/plain": [
       "VBox(children=(Text(value='EPSG:26914', continuous_update=False, description='Projection:', style=DescriptionS…"
      ]
     },
     "metadata": {},
     "output_type": "display_data"
    }
   ],
   "source": [
    "app.projection_panel"
   ]
  },
  {
   "cell_type": "markdown",
   "id": "spiritual-cincinnati",
   "metadata": {},
   "source": [
    "### Column Seperated Values\n",
    "\n",
    "Export data to **csv** file format. The x, y and z coordinates of every nodes/cells are appended to the list of data by default."
   ]
  },
  {
   "cell_type": "markdown",
   "id": "blank-basement",
   "metadata": {},
   "source": [
    "### Geotiff\n",
    "\n",
    "Export option to **.geotiff** for `Grid2D` objects."
   ]
  },
  {
   "cell_type": "markdown",
   "id": "occupational-socket",
   "metadata": {},
   "source": [
    "#### Projection\n",
    "\n",
    "Coordinate system assigned to the geotiff, either as ESRI, EPSG or WKT code."
   ]
  },
  {
   "cell_type": "code",
   "execution_count": 6,
   "id": "architectural-romantic",
   "metadata": {},
   "outputs": [
    {
     "data": {
      "application/vnd.jupyter.widget-view+json": {
       "model_id": "b18955aa307d49deade78df0a7b1c8f8",
       "version_major": 2,
       "version_minor": 0
      },
      "text/plain": [
       "VBox(children=(Text(value='EPSG:26914', continuous_update=False, description='Projection:', style=DescriptionS…"
      ]
     },
     "metadata": {},
     "output_type": "display_data"
    }
   ],
   "source": [
    "app.projection_panel"
   ]
  },
  {
   "cell_type": "markdown",
   "id": "emerging-complement",
   "metadata": {},
   "source": [
    "#### Type\n",
    "Date type options exported to geotiff"
   ]
  },
  {
   "cell_type": "code",
   "execution_count": 7,
   "id": "olympic-quarterly",
   "metadata": {},
   "outputs": [
    {
     "data": {
      "application/vnd.jupyter.widget-view+json": {
       "model_id": "071fee7358ff4f98877f103e57bf66a8",
       "version_major": 2,
       "version_minor": 0
      },
      "text/plain": [
       "RadioButtons(description='Type:', index=1, options=('float', 'RGB'), style=DescriptionStyle(description_width=…"
      ]
     },
     "metadata": {},
     "output_type": "display_data"
    }
   ],
   "source": [
    "app.data_type"
   ]
  },
  {
   "cell_type": "markdown",
   "id": "professional-extent",
   "metadata": {},
   "source": [
    "- **Float**: Single-band image containing the float value of selected data.\n",
    "- **RGB**: 3-band image containing the RGB color displayed in ANALYST."
   ]
  },
  {
   "cell_type": "markdown",
   "id": "hindu-stupid",
   "metadata": {},
   "source": [
    "### UBC Model\n",
    "\n",
    "Export option for `BlockModel` and `Octree` objects to UBC mesh (**.msh**) and model (**.mod**) format."
   ]
  },
  {
   "cell_type": "markdown",
   "id": "gorgeous-startup",
   "metadata": {},
   "source": [
    "## Output Panel\n",
    "\n",
    "Trigger the computation routine and store the result."
   ]
  },
  {
   "cell_type": "code",
   "execution_count": 8,
   "id": "sharp-probability",
   "metadata": {
    "scrolled": false
   },
   "outputs": [
    {
     "data": {
      "application/vnd.jupyter.widget-view+json": {
       "model_id": "a9deb58b83ef4039923ebca2fed114f7",
       "version_major": 2,
       "version_minor": 0
      },
      "text/plain": [
       "VBox(children=(VBox(children=(Button(button_style='danger', description='Export', icon='check', style=ButtonSt…"
      ]
     },
     "metadata": {},
     "output_type": "display_data"
    }
   ],
   "source": [
    "app.output_panel"
   ]
  },
  {
   "cell_type": "markdown",
   "id": "better-bulgaria",
   "metadata": {},
   "source": [
    "See the [Output Panel](base_application.ipynb#Output-Panel) page for more details."
   ]
  },
  {
   "cell_type": "markdown",
   "id": "suffering-chrome",
   "metadata": {},
   "source": [
    "Need help? Contact us at support@mirageoscience.com"
   ]
  }
 ],
 "metadata": {
  "kernelspec": {
   "display_name": "Python 3",
   "language": "python",
   "name": "python3"
  },
  "language_info": {
   "codemirror_mode": {
    "name": "ipython",
    "version": 3
   },
   "file_extension": ".py",
   "mimetype": "text/x-python",
   "name": "python",
   "nbconvert_exporter": "python",
   "pygments_lexer": "ipython3",
   "version": "3.7.10"
  },
  "widgets": {
   "application/vnd.jupyter.widget-state+json": {
    "state": {
     "040086cc15b942b890d62ca34946acda": {
      "model_module": "@jupyter-widgets/controls",
      "model_module_version": "1.5.0",
      "model_name": "HTMLModel",
      "state": {
       "layout": "IPY_MODEL_8c3e54dc049c41efb824d79e3786e83c",
       "placeholder": "",
       "style": "IPY_MODEL_88500a1119714c429892f7c6aa5f07d5",
       "value": "<span style=\"margin-left:10px; color:green;\">C:\\Users\\dominiquef\\Documents\\GIT\\mira\\mirageoscience-apps\\assets\\</span>"
      }
     },
     "071fee7358ff4f98877f103e57bf66a8": {
      "model_module": "@jupyter-widgets/controls",
      "model_module_version": "1.5.0",
      "model_name": "RadioButtonsModel",
      "state": {
       "_options_labels": [
        "float",
        "RGB"
       ],
       "description": "Type:",
       "index": 1,
       "layout": "IPY_MODEL_e2bd161fad5041c3a490bae05d7208f0",
       "style": "IPY_MODEL_0beba3c17f8143eead209e087f39141f"
      }
     },
     "0ad4885afe7d4024932b200d9197cbb3": {
      "model_module": "@jupyter-widgets/controls",
      "model_module_version": "1.5.0",
      "model_name": "DescriptionStyleModel",
      "state": {
       "description_width": "initial"
      }
     },
     "0afa2d113f4c4c75baf4ff0c0f435180": {
      "model_module": "@jupyter-widgets/controls",
      "model_module_version": "1.5.0",
      "model_name": "VBoxModel",
      "state": {
       "children": [
        "IPY_MODEL_e7c6614300584bc8ab1cf5c723dd752a",
        "IPY_MODEL_5e6c750b204e4cb4953bc10826334a5a",
        "IPY_MODEL_f47fe748ab7246f8a1a18439a4bf9a20"
       ],
       "layout": "IPY_MODEL_d352616666f54fae9685ce4e98164810"
      }
     },
     "0beba3c17f8143eead209e087f39141f": {
      "model_module": "@jupyter-widgets/controls",
      "model_module_version": "1.5.0",
      "model_name": "DescriptionStyleModel",
      "state": {
       "description_width": "initial"
      }
     },
     "12b73224e32a473aad871561cc436f04": {
      "model_module": "@jupyter-widgets/base",
      "model_module_version": "1.2.0",
      "model_name": "LayoutModel",
      "state": {
       "display": "none",
       "grid_gap": "0px 0px",
       "grid_template_areas": "\n                    'pathlist filename'\n                    'dircontent dircontent'\n                    ",
       "grid_template_columns": "60% 40%",
       "grid_template_rows": "auto auto",
       "width": "500px"
      }
     },
     "137f83453a04412c9dfd8105379c4e9a": {
      "model_module": "@jupyter-widgets/base",
      "model_module_version": "1.2.0",
      "model_name": "LayoutModel",
      "state": {
       "display": "none",
       "width": "auto"
      }
     },
     "16c733edaaa449d3a2c966899e1af8a5": {
      "model_module": "@jupyter-widgets/controls",
      "model_module_version": "1.5.0",
      "model_name": "ButtonModel",
      "state": {
       "description": "Change",
       "layout": "IPY_MODEL_b7800cd7997d4977add2a5861472a5f6",
       "style": "IPY_MODEL_b45abf8a74674cb0abd2ff3f3ad2d106"
      }
     },
     "195a14ab40fc4f889f21eafe39781539": {
      "model_module": "@jupyter-widgets/controls",
      "model_module_version": "1.5.0",
      "model_name": "DescriptionStyleModel",
      "state": {
       "description_width": "initial"
      }
     },
     "1963480fc50a449b8e1d5c2b08ac6a33": {
      "model_module": "@jupyter-widgets/controls",
      "model_module_version": "1.5.0",
      "model_name": "DescriptionStyleModel",
      "state": {
       "description_width": "initial"
      }
     },
     "1a9332c69ee04642bb56ccb798bf340f": {
      "model_module": "@jupyter-widgets/controls",
      "model_module_version": "1.5.0",
      "model_name": "DescriptionStyleModel",
      "state": {
       "description_width": ""
      }
     },
     "1be37e48441d4b228f7d592ca394fab1": {
      "model_module": "@jupyter-widgets/controls",
      "model_module_version": "1.5.0",
      "model_name": "SelectMultipleModel",
      "state": {
       "_options_labels": [
        "",
        "--- Channels ---",
        "Airborne_Gxx",
        "Airborne_Gxy",
        "Airborne_Gxz",
        "Airborne_Gyy",
        "Airborne_Gyz",
        "Airborne_Gz",
        "Airborne_Gzz",
        "Airborne_TMI",
        "Ground_Gz",
        "Z"
       ],
       "description": "Data: ",
       "index": [
        2
       ],
       "layout": "IPY_MODEL_504716b6c3ad4f72a7c1bc3eaf8c0d65",
       "rows": 5,
       "style": "IPY_MODEL_7b2d272cef6f4092a1a16d3264cf5137"
      }
     },
     "1d6a0b4f9c3d4679b60bc78baf572949": {
      "model_module": "@jupyter-widgets/controls",
      "model_module_version": "1.5.0",
      "model_name": "ToggleButtonModel",
      "state": {
       "layout": "IPY_MODEL_943b53961cbb449c934b6ddd5d3d83ac",
       "style": "IPY_MODEL_999787e52c2f4131ac3faab31d524c01",
       "value": true
      }
     },
     "1da5a15022834cc595066c5f1f66b1ef": {
      "model_module": "@jupyter-widgets/controls",
      "model_module_version": "1.5.0",
      "model_name": "DropdownModel",
      "state": {
       "_options_labels": [
        "C:\\Users\\dominiquef\\Documents\\GIT\\mira\\mirageoscience-apps\\assets",
        "C:\\Users\\dominiquef\\Documents\\GIT\\mira\\mirageoscience-apps",
        "C:\\Users\\dominiquef\\Documents\\GIT\\mira",
        "C:\\Users\\dominiquef\\Documents\\GIT",
        "C:\\Users\\dominiquef\\Documents",
        "C:\\Users\\dominiquef",
        "C:\\Users",
        "C:\\",
        "D:\\",
        "Z:\\"
       ],
       "index": 0,
       "layout": "IPY_MODEL_630c9a1f69fc4750bcd679d6e046a51e",
       "style": "IPY_MODEL_319b2233895f4e8f917eeb3b6b96f582"
      }
     },
     "1edb300c39774f9dba7ffd3f4b029cff": {
      "model_module": "@jupyter-widgets/base",
      "model_module_version": "1.2.0",
      "model_name": "LayoutModel",
      "state": {}
     },
     "1f4840d60e3b46fea687aeaf69e1871a": {
      "model_module": "@jupyter-widgets/base",
      "model_module_version": "1.2.0",
      "model_name": "LayoutModel",
      "state": {}
     },
     "1f7854d3d33b4ee3873362eb62ae7d45": {
      "model_module": "@jupyter-widgets/base",
      "model_module_version": "1.2.0",
      "model_name": "LayoutModel",
      "state": {
       "width": "auto"
      }
     },
     "20531519a6d942a985fc0ec27929fd25": {
      "model_module": "@jupyter-widgets/base",
      "model_module_version": "1.2.0",
      "model_name": "LayoutModel",
      "state": {
       "display": "none",
       "grid_area": "filename",
       "width": "auto"
      }
     },
     "214fb1c399394b288bd5ffbb390331f2": {
      "model_module": "@jupyter-widgets/controls",
      "model_module_version": "1.5.0",
      "model_name": "VBoxModel",
      "state": {
       "children": [
        "IPY_MODEL_daa881a16db94a628395c8028786288a",
        "IPY_MODEL_b18955aa307d49deade78df0a7b1c8f8",
        "IPY_MODEL_071fee7358ff4f98877f103e57bf66a8"
       ],
       "layout": "IPY_MODEL_69aae0de19b8435e878f9c5567a31815"
      }
     },
     "228751ae2e55462599587695bf2da767": {
      "model_module": "@jupyter-widgets/controls",
      "model_module_version": "1.5.0",
      "model_name": "DescriptionStyleModel",
      "state": {
       "description_width": "initial"
      }
     },
     "2498abca7705402f8955c7e3eaaaa8d2": {
      "model_module": "@jupyter-widgets/base",
      "model_module_version": "1.2.0",
      "model_name": "LayoutModel",
      "state": {
       "width": "75%"
      }
     },
     "26ee73cc55fd476eaf7c89024874ebf8": {
      "model_module": "@jupyter-widgets/controls",
      "model_module_version": "1.5.0",
      "model_name": "ButtonModel",
      "state": {
       "description": "Create copy:",
       "layout": "IPY_MODEL_ed59d6d923df4d07bc9abd86e4764ee2",
       "style": "IPY_MODEL_f035ff915d86431cbf5a2267367238bb"
      }
     },
     "2701409aae8c4cc3b726b2de9b721ad2": {
      "model_module": "@jupyter-widgets/controls",
      "model_module_version": "1.5.0",
      "model_name": "DescriptionStyleModel",
      "state": {
       "description_width": ""
      }
     },
     "27122e0f58094eaf845022d96c235b35": {
      "model_module": "@jupyter-widgets/controls",
      "model_module_version": "1.5.0",
      "model_name": "LabelModel",
      "state": {
       "layout": "IPY_MODEL_f7d2b9a208514a4d835947ce32b8982f",
       "style": "IPY_MODEL_1963480fc50a449b8e1d5c2b08ac6a33",
       "value": "Monitoring folder"
      }
     },
     "282d689ff0a14759ace45de530127050": {
      "model_module": "@jupyter-widgets/controls",
      "model_module_version": "1.5.0",
      "model_name": "VBoxModel",
      "state": {
       "children": [
        "IPY_MODEL_db6f5b367faf44cb89af6b72f1b73074",
        "IPY_MODEL_bc3aea27f69b454f91348149f80b1587"
       ],
       "layout": "IPY_MODEL_392db5c4ff8a4b2da497514af2a72502"
      }
     },
     "2852ce0a97454ff8826307e4b80b14f7": {
      "model_module": "@jupyter-widgets/controls",
      "model_module_version": "1.5.0",
      "model_name": "FloatTextModel",
      "state": {
       "description": "No-Data-Value",
       "layout": "IPY_MODEL_bf8cc1e69e1040bc9eae812fc16ce174",
       "step": null,
       "style": "IPY_MODEL_7334784dd45e4fbf9f6e234160145887",
       "value": -99999
      }
     },
     "2ebc4937244d40cf83d3ded7f127913a": {
      "model_module": "@jupyter-widgets/controls",
      "model_module_version": "1.5.0",
      "model_name": "SelectModel",
      "state": {
       "_options_labels": [
        "..",
        "Temp",
        "FlinFlon.geoh5",
        "Inversion_.json",
        "MtDore_TMI.geoh5"
       ],
       "index": 2,
       "layout": "IPY_MODEL_2fc983996e134dcea46c04c9dde40f8a",
       "rows": 8,
       "style": "IPY_MODEL_af79ff19262d4a9db8b532c63dcccc99"
      }
     },
     "2fc983996e134dcea46c04c9dde40f8a": {
      "model_module": "@jupyter-widgets/base",
      "model_module_version": "1.2.0",
      "model_name": "LayoutModel",
      "state": {
       "grid_area": "dircontent",
       "width": "auto"
      }
     },
     "319b2233895f4e8f917eeb3b6b96f582": {
      "model_module": "@jupyter-widgets/controls",
      "model_module_version": "1.5.0",
      "model_name": "DescriptionStyleModel",
      "state": {
       "description_width": ""
      }
     },
     "3235a1f296f9476bb387fff2e48b1789": {
      "model_module": "@jupyter-widgets/controls",
      "model_module_version": "1.5.0",
      "model_name": "HTMLModel",
      "state": {
       "layout": "IPY_MODEL_f35895403ad24ad8a23bde5a7461b1fc",
       "style": "IPY_MODEL_5ae9eb48375c4d2f91ed00cfc2ef5560"
      }
     },
     "34bcbcdc85a543759f394fed83c45896": {
      "model_module": "@jupyter-widgets/base",
      "model_module_version": "1.2.0",
      "model_name": "LayoutModel",
      "state": {}
     },
     "35c6766a961d4a4a8dfa8758fd1214a6": {
      "model_module": "@jupyter-widgets/controls",
      "model_module_version": "1.5.0",
      "model_name": "DescriptionStyleModel",
      "state": {
       "description_width": ""
      }
     },
     "38623429e7ae4cf2abb169a2be3b5051": {
      "model_module": "@jupyter-widgets/controls",
      "model_module_version": "1.5.0",
      "model_name": "ButtonModel",
      "state": {
       "description": "Cancel",
       "layout": "IPY_MODEL_137f83453a04412c9dfd8105379c4e9a",
       "style": "IPY_MODEL_e522b3e7fc124804bc768c04b3f6ea3e"
      }
     },
     "392db5c4ff8a4b2da497514af2a72502": {
      "model_module": "@jupyter-widgets/base",
      "model_module_version": "1.2.0",
      "model_name": "LayoutModel",
      "state": {}
     },
     "3dfe267c187844709436123a1169bdec": {
      "model_module": "@jupyter-widgets/controls",
      "model_module_version": "1.5.0",
      "model_name": "VBoxModel",
      "state": {
       "children": [
        "IPY_MODEL_3235a1f296f9476bb387fff2e48b1789",
        "IPY_MODEL_b809e5d9278c4f6eae566705e07e7d4f",
        "IPY_MODEL_5cbd072206654a9f9eb1c5e1f788da2c"
       ],
       "layout": "IPY_MODEL_76906da9179a4a87ba1e7874fc43f318"
      }
     },
     "41212bd0feef4ab6955f4f8e1a701585": {
      "model_module": "@jupyter-widgets/controls",
      "model_module_version": "1.5.0",
      "model_name": "DescriptionStyleModel",
      "state": {
       "description_width": ""
      }
     },
     "43764ce117c1497998e5521407fc9e16": {
      "model_module": "@jupyter-widgets/controls",
      "model_module_version": "1.5.0",
      "model_name": "DescriptionStyleModel",
      "state": {
       "description_width": ""
      }
     },
     "43dfa94901df4ac1a26db92fcda3ded3": {
      "model_module": "@jupyter-widgets/base",
      "model_module_version": "1.2.0",
      "model_name": "LayoutModel",
      "state": {}
     },
     "4483f00f68174869a174ea24f11d3a8e": {
      "model_module": "@jupyter-widgets/controls",
      "model_module_version": "1.5.0",
      "model_name": "ButtonStyleModel",
      "state": {}
     },
     "456072cd4dd9492d91bbc73c4cd8b84c": {
      "model_module": "@jupyter-widgets/base",
      "model_module_version": "1.2.0",
      "model_name": "LayoutModel",
      "state": {}
     },
     "4b3e6ae9713e493aadf135daae5664a2": {
      "model_module": "@jupyter-widgets/base",
      "model_module_version": "1.2.0",
      "model_name": "LayoutModel",
      "state": {}
     },
     "504716b6c3ad4f72a7c1bc3eaf8c0d65": {
      "model_module": "@jupyter-widgets/base",
      "model_module_version": "1.2.0",
      "model_name": "LayoutModel",
      "state": {}
     },
     "52125bc32f3a44f29e982406eb4ffae7": {
      "model_module": "@jupyter-widgets/controls",
      "model_module_version": "1.5.0",
      "model_name": "VBoxModel",
      "state": {
       "children": [
        "IPY_MODEL_27122e0f58094eaf845022d96c235b35",
        "IPY_MODEL_0afa2d113f4c4c75baf4ff0c0f435180"
       ],
       "layout": "IPY_MODEL_df3f2abfed1044478115a9cefcea08fa"
      }
     },
     "54673da00d1b49859e683cfa681c6cf4": {
      "model_module": "@jupyter-widgets/base",
      "model_module_version": "1.2.0",
      "model_name": "LayoutModel",
      "state": {}
     },
     "5ae9eb48375c4d2f91ed00cfc2ef5560": {
      "model_module": "@jupyter-widgets/controls",
      "model_module_version": "1.5.0",
      "model_name": "DescriptionStyleModel",
      "state": {
       "description_width": ""
      }
     },
     "5cbd072206654a9f9eb1c5e1f788da2c": {
      "model_module": "@jupyter-widgets/controls",
      "model_module_version": "1.5.0",
      "model_name": "HBoxModel",
      "state": {
       "children": [
        "IPY_MODEL_16c733edaaa449d3a2c966899e1af8a5",
        "IPY_MODEL_38623429e7ae4cf2abb169a2be3b5051",
        "IPY_MODEL_fa159facb58e4356a0a5d8c314945660"
       ],
       "layout": "IPY_MODEL_1f7854d3d33b4ee3873362eb62ae7d45"
      }
     },
     "5e6c750b204e4cb4953bc10826334a5a": {
      "model_module": "@jupyter-widgets/controls",
      "model_module_version": "1.5.0",
      "model_name": "GridBoxModel",
      "state": {
       "children": [
        "IPY_MODEL_1da5a15022834cc595066c5f1f66b1ef",
        "IPY_MODEL_b60fe6c11a864f1e8035810ecae17b1d",
        "IPY_MODEL_73cc871895da40488bcc742b550b703c"
       ],
       "layout": "IPY_MODEL_a34a6b6f6ef84110b101ac67177cb041"
      }
     },
     "5ecfe11e168847699a1c806c65004c22": {
      "model_module": "@jupyter-widgets/base",
      "model_module_version": "1.2.0",
      "model_name": "LayoutModel",
      "state": {}
     },
     "61df47fa9f1346899af5df81c05b1222": {
      "model_module": "@jupyter-widgets/controls",
      "model_module_version": "1.5.0",
      "model_name": "VBoxModel",
      "state": {
       "children": [
        "IPY_MODEL_d91e2e2ef1ac4cddb7ee9e7c2f73fbc7",
        "IPY_MODEL_1be37e48441d4b228f7d592ca394fab1"
       ],
       "layout": "IPY_MODEL_99571c913a2241da9c4ccb72aa2c63c6"
      }
     },
     "626cbf94b9194a5a8dbe89b86cd09541": {
      "model_module": "@jupyter-widgets/base",
      "model_module_version": "1.2.0",
      "model_name": "LayoutModel",
      "state": {}
     },
     "63007f97359445eca53693392a90a10d": {
      "model_module": "@jupyter-widgets/controls",
      "model_module_version": "1.5.0",
      "model_name": "DescriptionStyleModel",
      "state": {
       "description_width": ""
      }
     },
     "630c9a1f69fc4750bcd679d6e046a51e": {
      "model_module": "@jupyter-widgets/base",
      "model_module_version": "1.2.0",
      "model_name": "LayoutModel",
      "state": {
       "grid_area": "pathlist",
       "width": "auto"
      }
     },
     "6805f2c6e6df417f929c7416986abae8": {
      "model_module": "@jupyter-widgets/base",
      "model_module_version": "1.2.0",
      "model_name": "LayoutModel",
      "state": {
       "display": "none",
       "width": "auto"
      }
     },
     "69aae0de19b8435e878f9c5567a31815": {
      "model_module": "@jupyter-widgets/base",
      "model_module_version": "1.2.0",
      "model_name": "LayoutModel",
      "state": {}
     },
     "6b2417868f56450ebbd06fda859076e9": {
      "model_module": "@jupyter-widgets/controls",
      "model_module_version": "1.5.0",
      "model_name": "DescriptionStyleModel",
      "state": {
       "description_width": "initial"
      }
     },
     "6b8943f8b9ce42439a1a536e561781ce": {
      "model_module": "@jupyter-widgets/base",
      "model_module_version": "1.2.0",
      "model_name": "LayoutModel",
      "state": {
       "width": "auto"
      }
     },
     "6bcf1f1e7a354475bd22964712e5be68": {
      "model_module": "@jupyter-widgets/controls",
      "model_module_version": "1.5.0",
      "model_name": "TextModel",
      "state": {
       "continuous_update": false,
       "description": "Save as:",
       "layout": "IPY_MODEL_4b3e6ae9713e493aadf135daae5664a2",
       "style": "IPY_MODEL_1a9332c69ee04642bb56ccb798bf340f",
       "value": "Gravity_Magnetics_drape60m"
      }
     },
     "6f1e4bbe5cce4f9ca37edae6e4f796fa": {
      "model_module": "@jupyter-widgets/base",
      "model_module_version": "1.2.0",
      "model_name": "LayoutModel",
      "state": {}
     },
     "7187031097c94495b4a3a41ad0116f2e": {
      "model_module": "@jupyter-widgets/controls",
      "model_module_version": "1.5.0",
      "model_name": "HBoxModel",
      "state": {
       "children": [
        "IPY_MODEL_3dfe267c187844709436123a1169bdec",
        "IPY_MODEL_26ee73cc55fd476eaf7c89024874ebf8"
       ],
       "layout": "IPY_MODEL_6f1e4bbe5cce4f9ca37edae6e4f796fa"
      }
     },
     "723bb09dfb7445d2b65aaee88a79b8c0": {
      "model_module": "@jupyter-widgets/controls",
      "model_module_version": "1.5.0",
      "model_name": "VBoxModel",
      "state": {
       "children": [
        "IPY_MODEL_95fa93bac6c34c1aaa9bac88da32d2d1",
        "IPY_MODEL_7187031097c94495b4a3a41ad0116f2e"
       ],
       "layout": "IPY_MODEL_43dfa94901df4ac1a26db92fcda3ded3"
      }
     },
     "7334784dd45e4fbf9f6e234160145887": {
      "model_module": "@jupyter-widgets/controls",
      "model_module_version": "1.5.0",
      "model_name": "DescriptionStyleModel",
      "state": {
       "description_width": ""
      }
     },
     "73cc871895da40488bcc742b550b703c": {
      "model_module": "@jupyter-widgets/controls",
      "model_module_version": "1.5.0",
      "model_name": "SelectModel",
      "state": {
       "_options_labels": [
        "..",
        "Temp"
       ],
       "index": null,
       "layout": "IPY_MODEL_a44a34fe39144c12967d40d6003e8e10",
       "rows": 8,
       "style": "IPY_MODEL_7ffcc4b4d4cd4f53b23bbc98e0d46b18"
      }
     },
     "760b67eb24454926918cd18aec13a964": {
      "model_module": "@jupyter-widgets/controls",
      "model_module_version": "1.5.0",
      "model_name": "DescriptionStyleModel",
      "state": {
       "description_width": ""
      }
     },
     "76906da9179a4a87ba1e7874fc43f318": {
      "model_module": "@jupyter-widgets/base",
      "model_module_version": "1.2.0",
      "model_name": "LayoutModel",
      "state": {
       "width": "auto"
      }
     },
     "7930d4a4017e467699f638f74fde60a3": {
      "model_module": "@jupyter-widgets/controls",
      "model_module_version": "1.5.0",
      "model_name": "DescriptionStyleModel",
      "state": {
       "description_width": "initial"
      }
     },
     "7b2d272cef6f4092a1a16d3264cf5137": {
      "model_module": "@jupyter-widgets/controls",
      "model_module_version": "1.5.0",
      "model_name": "DescriptionStyleModel",
      "state": {
       "description_width": "initial"
      }
     },
     "7c18e288fa4e456b8c31d592bf1c0deb": {
      "model_module": "@jupyter-widgets/base",
      "model_module_version": "1.2.0",
      "model_name": "LayoutModel",
      "state": {}
     },
     "7ffcc4b4d4cd4f53b23bbc98e0d46b18": {
      "model_module": "@jupyter-widgets/controls",
      "model_module_version": "1.5.0",
      "model_name": "DescriptionStyleModel",
      "state": {
       "description_width": ""
      }
     },
     "80970747248146788052a1e4c77d1316": {
      "model_module": "@jupyter-widgets/base",
      "model_module_version": "1.2.0",
      "model_name": "LayoutModel",
      "state": {
       "grid_area": "filename",
       "width": "auto"
      }
     },
     "88500a1119714c429892f7c6aa5f07d5": {
      "model_module": "@jupyter-widgets/controls",
      "model_module_version": "1.5.0",
      "model_name": "DescriptionStyleModel",
      "state": {
       "description_width": ""
      }
     },
     "889dc0a21d3c411394abb70194c74782": {
      "model_module": "@jupyter-widgets/controls",
      "model_module_version": "1.5.0",
      "model_name": "DescriptionStyleModel",
      "state": {
       "description_width": ""
      }
     },
     "8a8c4bcdea3e47ac8c9127c72c181e9d": {
      "model_module": "@jupyter-widgets/controls",
      "model_module_version": "1.5.0",
      "model_name": "DescriptionStyleModel",
      "state": {
       "description_width": ""
      }
     },
     "8c3e54dc049c41efb824d79e3786e83c": {
      "model_module": "@jupyter-widgets/base",
      "model_module_version": "1.2.0",
      "model_name": "LayoutModel",
      "state": {}
     },
     "927cf934fcec4aa5b1fa059967246974": {
      "model_module": "@jupyter-widgets/controls",
      "model_module_version": "1.5.0",
      "model_name": "DescriptionStyleModel",
      "state": {
       "description_width": "initial"
      }
     },
     "943b53961cbb449c934b6ddd5d3d83ac": {
      "model_module": "@jupyter-widgets/base",
      "model_module_version": "1.2.0",
      "model_name": "LayoutModel",
      "state": {}
     },
     "95fa93bac6c34c1aaa9bac88da32d2d1": {
      "model_module": "@jupyter-widgets/controls",
      "model_module_version": "1.5.0",
      "model_name": "LabelModel",
      "state": {
       "layout": "IPY_MODEL_34bcbcdc85a543759f394fed83c45896",
       "style": "IPY_MODEL_228751ae2e55462599587695bf2da767",
       "value": "Workspace"
      }
     },
     "99571c913a2241da9c4ccb72aa2c63c6": {
      "model_module": "@jupyter-widgets/base",
      "model_module_version": "1.2.0",
      "model_name": "LayoutModel",
      "state": {}
     },
     "999787e52c2f4131ac3faab31d524c01": {
      "model_module": "@jupyter-widgets/controls",
      "model_module_version": "1.5.0",
      "model_name": "DescriptionStyleModel",
      "state": {
       "description_width": ""
      }
     },
     "a2a8553495a149ecbf5eb75bac4881cf": {
      "model_module": "@jupyter-widgets/controls",
      "model_module_version": "1.5.0",
      "model_name": "HBoxModel",
      "state": {
       "children": [
        "IPY_MODEL_61df47fa9f1346899af5df81c05b1222",
        "IPY_MODEL_2852ce0a97454ff8826307e4b80b14f7"
       ],
       "layout": "IPY_MODEL_fd4ff0fb98c7440d92be38f7a536fd3c"
      }
     },
     "a34a6b6f6ef84110b101ac67177cb041": {
      "model_module": "@jupyter-widgets/base",
      "model_module_version": "1.2.0",
      "model_name": "LayoutModel",
      "state": {
       "display": "none",
       "grid_gap": "0px 0px",
       "grid_template_areas": "\n                    'pathlist pathlist'\n                    'dircontent dircontent'\n                    ",
       "grid_template_columns": "60% 40%",
       "grid_template_rows": "auto auto",
       "width": "500px"
      }
     },
     "a44a34fe39144c12967d40d6003e8e10": {
      "model_module": "@jupyter-widgets/base",
      "model_module_version": "1.2.0",
      "model_name": "LayoutModel",
      "state": {
       "grid_area": "dircontent",
       "width": "auto"
      }
     },
     "a7a2e1be041f4ae0b4fad6ff36b5ca54": {
      "model_module": "@jupyter-widgets/base",
      "model_module_version": "1.2.0",
      "model_name": "LayoutModel",
      "state": {}
     },
     "a8031c4ab2724f589fbb4f9a638b7472": {
      "model_module": "@jupyter-widgets/controls",
      "model_module_version": "1.5.0",
      "model_name": "ButtonStyleModel",
      "state": {}
     },
     "a9deb58b83ef4039923ebca2fed114f7": {
      "model_module": "@jupyter-widgets/controls",
      "model_module_version": "1.5.0",
      "model_name": "VBoxModel",
      "state": {
       "children": [
        "IPY_MODEL_282d689ff0a14759ace45de530127050",
        "IPY_MODEL_f995213008bd4fc298cd2306000b0033"
       ],
       "layout": "IPY_MODEL_626cbf94b9194a5a8dbe89b86cd09541"
      }
     },
     "af79ff19262d4a9db8b532c63dcccc99": {
      "model_module": "@jupyter-widgets/controls",
      "model_module_version": "1.5.0",
      "model_name": "DescriptionStyleModel",
      "state": {
       "description_width": ""
      }
     },
     "afc6ef0b5bde426eb7d831fae9e85d98": {
      "model_module": "@jupyter-widgets/base",
      "model_module_version": "1.2.0",
      "model_name": "LayoutModel",
      "state": {}
     },
     "b0b3587116af474fb30c409b8705b950": {
      "model_module": "@jupyter-widgets/base",
      "model_module_version": "1.2.0",
      "model_name": "LayoutModel",
      "state": {}
     },
     "b18955aa307d49deade78df0a7b1c8f8": {
      "model_module": "@jupyter-widgets/controls",
      "model_module_version": "1.5.0",
      "model_name": "VBoxModel",
      "state": {
       "children": [
        "IPY_MODEL_bc1f0dc7d7eb4955a52402ccd2a4b6d3",
        "IPY_MODEL_ec3817cf52af41bab9de0a01b45657d3"
       ],
       "layout": "IPY_MODEL_7c18e288fa4e456b8c31d592bf1c0deb"
      }
     },
     "b25445cb8d1747749e7447f0520c7637": {
      "model_module": "@jupyter-widgets/controls",
      "model_module_version": "1.5.0",
      "model_name": "DescriptionStyleModel",
      "state": {
       "description_width": ""
      }
     },
     "b400e35850cd4e4a947f2442b5f3994d": {
      "model_module": "@jupyter-widgets/controls",
      "model_module_version": "1.5.0",
      "model_name": "DropdownModel",
      "state": {
       "_options_labels": [
        "C:\\Users\\dominiquef\\Documents\\GIT\\mira\\mirageoscience-apps\\assets",
        "C:\\Users\\dominiquef\\Documents\\GIT\\mira\\mirageoscience-apps",
        "C:\\Users\\dominiquef\\Documents\\GIT\\mira",
        "C:\\Users\\dominiquef\\Documents\\GIT",
        "C:\\Users\\dominiquef\\Documents",
        "C:\\Users\\dominiquef",
        "C:\\Users",
        "C:\\",
        "D:\\",
        "Z:\\"
       ],
       "index": 0,
       "layout": "IPY_MODEL_f87bfe1d25c144e8aa99429dd4c8719f",
       "style": "IPY_MODEL_c9e4bbd4d9c749dc8dd654975dce1504"
      }
     },
     "b45abf8a74674cb0abd2ff3f3ad2d106": {
      "model_module": "@jupyter-widgets/controls",
      "model_module_version": "1.5.0",
      "model_name": "ButtonStyleModel",
      "state": {}
     },
     "b60fe6c11a864f1e8035810ecae17b1d": {
      "model_module": "@jupyter-widgets/controls",
      "model_module_version": "1.5.0",
      "model_name": "TextModel",
      "state": {
       "disabled": true,
       "layout": "IPY_MODEL_20531519a6d942a985fc0ec27929fd25",
       "placeholder": "output filename",
       "style": "IPY_MODEL_bdd3ad809a8f431dafe0edd54dde6441"
      }
     },
     "b77bd33c3db9492192554c60d0375e57": {
      "model_module": "@jupyter-widgets/base",
      "model_module_version": "1.2.0",
      "model_name": "LayoutModel",
      "state": {}
     },
     "b7800cd7997d4977add2a5861472a5f6": {
      "model_module": "@jupyter-widgets/base",
      "model_module_version": "1.2.0",
      "model_name": "LayoutModel",
      "state": {
       "width": "auto"
      }
     },
     "b809e5d9278c4f6eae566705e07e7d4f": {
      "model_module": "@jupyter-widgets/controls",
      "model_module_version": "1.5.0",
      "model_name": "GridBoxModel",
      "state": {
       "children": [
        "IPY_MODEL_b400e35850cd4e4a947f2442b5f3994d",
        "IPY_MODEL_cbeb84dbbe284e3e9a7270c339f5d8ce",
        "IPY_MODEL_2ebc4937244d40cf83d3ded7f127913a"
       ],
       "layout": "IPY_MODEL_12b73224e32a473aad871561cc436f04"
      }
     },
     "bc1f0dc7d7eb4955a52402ccd2a4b6d3": {
      "model_module": "@jupyter-widgets/controls",
      "model_module_version": "1.5.0",
      "model_name": "TextModel",
      "state": {
       "continuous_update": false,
       "description": "Projection:",
       "layout": "IPY_MODEL_a7a2e1be041f4ae0b4fad6ff36b5ca54",
       "style": "IPY_MODEL_6b2417868f56450ebbd06fda859076e9",
       "value": "EPSG:26914"
      }
     },
     "bc3aea27f69b454f91348149f80b1587": {
      "model_module": "@jupyter-widgets/controls",
      "model_module_version": "1.5.0",
      "model_name": "TextModel",
      "state": {
       "continuous_update": false,
       "description": "Group:",
       "layout": "IPY_MODEL_c8fa9c707aef43e0ab47186d2a35a256",
       "style": "IPY_MODEL_0ad4885afe7d4024932b200d9197cbb3"
      }
     },
     "bdd3ad809a8f431dafe0edd54dde6441": {
      "model_module": "@jupyter-widgets/controls",
      "model_module_version": "1.5.0",
      "model_name": "DescriptionStyleModel",
      "state": {
       "description_width": ""
      }
     },
     "bf8cc1e69e1040bc9eae812fc16ce174": {
      "model_module": "@jupyter-widgets/base",
      "model_module_version": "1.2.0",
      "model_name": "LayoutModel",
      "state": {}
     },
     "c0ec801ddfb44ec3a8fa60b2fb60b842": {
      "model_module": "@jupyter-widgets/controls",
      "model_module_version": "1.5.0",
      "model_name": "VBoxModel",
      "state": {
       "children": [
        "IPY_MODEL_723bb09dfb7445d2b65aaee88a79b8c0",
        "IPY_MODEL_a2a8553495a149ecbf5eb75bac4881cf",
        "IPY_MODEL_214fb1c399394b288bd5ffbb390331f2",
        "IPY_MODEL_2852ce0a97454ff8826307e4b80b14f7",
        "IPY_MODEL_6bcf1f1e7a354475bd22964712e5be68",
        "IPY_MODEL_db6f5b367faf44cb89af6b72f1b73074",
        "IPY_MODEL_0afa2d113f4c4c75baf4ff0c0f435180"
       ],
       "layout": "IPY_MODEL_afc6ef0b5bde426eb7d831fae9e85d98"
      }
     },
     "c12fdd1ec6fa401d8c6202b9f2e7e13c": {
      "model_module": "@jupyter-widgets/controls",
      "model_module_version": "1.5.0",
      "model_name": "ButtonStyleModel",
      "state": {}
     },
     "c17b9fd4a9554066b1e8756812400b05": {
      "model_module": "@jupyter-widgets/base",
      "model_module_version": "1.2.0",
      "model_name": "LayoutModel",
      "state": {
       "display": "none"
      }
     },
     "c8fa9c707aef43e0ab47186d2a35a256": {
      "model_module": "@jupyter-widgets/base",
      "model_module_version": "1.2.0",
      "model_name": "LayoutModel",
      "state": {}
     },
     "c9e4bbd4d9c749dc8dd654975dce1504": {
      "model_module": "@jupyter-widgets/controls",
      "model_module_version": "1.5.0",
      "model_name": "DescriptionStyleModel",
      "state": {
       "description_width": ""
      }
     },
     "cbeb84dbbe284e3e9a7270c339f5d8ce": {
      "model_module": "@jupyter-widgets/controls",
      "model_module_version": "1.5.0",
      "model_name": "TextModel",
      "state": {
       "layout": "IPY_MODEL_80970747248146788052a1e4c77d1316",
       "placeholder": "output filename",
       "style": "IPY_MODEL_41212bd0feef4ab6955f4f8e1a701585",
       "value": "FlinFlon.geoh5"
      }
     },
     "d137e9b8787d423bae00a2b5bacae9f6": {
      "model_module": "@jupyter-widgets/controls",
      "model_module_version": "1.5.0",
      "model_name": "VBoxModel",
      "state": {
       "children": [
        "IPY_MODEL_723bb09dfb7445d2b65aaee88a79b8c0",
        "IPY_MODEL_a9deb58b83ef4039923ebca2fed114f7"
       ],
       "layout": "IPY_MODEL_456072cd4dd9492d91bbc73c4cd8b84c"
      }
     },
     "d352616666f54fae9685ce4e98164810": {
      "model_module": "@jupyter-widgets/base",
      "model_module_version": "1.2.0",
      "model_name": "LayoutModel",
      "state": {
       "width": "auto"
      }
     },
     "d3e803ccfe884489a0655194afe3f9c2": {
      "model_module": "@jupyter-widgets/controls",
      "model_module_version": "1.5.0",
      "model_name": "ButtonModel",
      "state": {
       "description": "Cancel",
       "layout": "IPY_MODEL_6805f2c6e6df417f929c7416986abae8",
       "style": "IPY_MODEL_4483f00f68174869a174ea24f11d3a8e"
      }
     },
     "d91e2e2ef1ac4cddb7ee9e7c2f73fbc7": {
      "model_module": "@jupyter-widgets/controls",
      "model_module_version": "1.5.0",
      "model_name": "DropdownModel",
      "state": {
       "_options_labels": [
        "",
        "fault_splay1",
        "fault_Cliff_Lake",
        "fault_Other_FlinFlon",
        "fault_Club_Lake_splay",
        "fault_Catherine_splay2",
        "fault_Birch_View",
        "fault_Dion_Lake",
        "fault_FlinFlon_splay",
        "fault_West_Mandy_Road",
        "fault_Channing",
        "fault_Ross_Lake",
        "fault_Louis_Hidden",
        "fault_Lake_View_thrust",
        "contact_Schist_Lake",
        "fault_Burley_Lake",
        "fault_Dion_Lake_splay",
        "fault_Green_Lake",
        "fault_FlinFlon",
        "fault_Catherine_splay1",
        "fault_East_Mandy_Road",
        "fault_Other_FlinFlon_South",
        "fault_Catherine_splay4",
        "contact_Stitt_Island",
        "fault_Club_Lake",
        "fault_Tailing_Pond",
        "35_Hidden_Reservoir_Hr5",
        "29_Hidden_Reservoir_Hr1a",
        "60_BlueLagoon_Fb2",
        "20_FlinFlon_Undivided_Int_Dykes_D2f",
        "04_Boundary_Intrusive_S4h",
        "53_Millrock_Rhyolite_Fm4b",
        "19_FlinFlon_Undivided_Int_Dykes_D2b",
        "18_FlinFlon_Undivided_Int_Dykes_777_D2b",
        "06_Phantom_Lake_Intrusive_S3a",
        "21_FlinFlon_Undivided_Int_Dykes_D3a",
        "43_Millrock_CHLSH_South",
        "56_Millrock_Basalt_Fm1ba",
        "17_FlinFlon_Undivided_Int_Dykes_D2",
        "32_Hidden_Reservoir_Hr1b_SW",
        "11_Missi_M3_NE",
        "13_Missi_M1",
        "07_Annabel_Granitoid_S1",
        "45_Millrock_Gabbro_South",
        "01_Late_Intrusive_S5b",
        "31_Hidden_Reservoir_Hr1c_SW",
        "52_Millrock_Rhyolite_Fm4_West_check",
        "55_Millrock_Basalt_Fm1bf",
        "34_Hidden_Reservoir_Hr2b",
        "03_Boundary_Intrusive_S4b",
        "42_Millrock_CHLSH_North",
        "26_Louis_L3",
        "23_FlinFlon_Undivided_Int_Felsic_D4g",
        "30_Hidden_Reservoir_Hr1b",
        "59_BlueLagoon_Fb3",
        "49_Millrock_MVR_Fm5d",
        "44_Millrock_Gabbro_North",
        "27_Hidden_Carlisle_Hc4",
        "22_FlinFlon_Undivided_Int_Felsic_D4e",
        "02_Boundary_Intrusive_S4a",
        "61_BlueLagoon_Fb1_NW",
        "05_Boundary_Intrusive_S4g",
        "39_Ore_Callinan",
        "38_Ore_Dan_Owens",
        "40_Ore_FlinFlon",
        "Inversion_VTEM_Model",
        "Gravity_Magnetics_drape60m",
        "CDI_VTEM_model",
        "Data_FEM_pseudo3D",
        "O2O_Interp_25m",
        "geochem",
        "Inversion_DIGHEM_Model",
        "Topography",
        "Data_TEM_pseudo3D"
       ],
       "description": "Object:",
       "index": 66,
       "layout": "IPY_MODEL_b77bd33c3db9492192554c60d0375e57",
       "style": "IPY_MODEL_7930d4a4017e467699f638f74fde60a3"
      }
     },
     "daa881a16db94a628395c8028786288a": {
      "model_module": "@jupyter-widgets/controls",
      "model_module_version": "1.5.0",
      "model_name": "DropdownModel",
      "state": {
       "_options_labels": [
        "ESRI shapefile",
        "csv",
        "geotiff",
        "UBC format"
       ],
       "description": "Export type",
       "index": 2,
       "layout": "IPY_MODEL_5ecfe11e168847699a1c806c65004c22",
       "style": "IPY_MODEL_927cf934fcec4aa5b1fa059967246974"
      }
     },
     "db6f5b367faf44cb89af6b72f1b73074": {
      "model_module": "@jupyter-widgets/controls",
      "model_module_version": "1.5.0",
      "model_name": "ButtonModel",
      "state": {
       "button_style": "danger",
       "description": "Export",
       "icon": "check",
       "layout": "IPY_MODEL_1f4840d60e3b46fea687aeaf69e1871a",
       "style": "IPY_MODEL_c12fdd1ec6fa401d8c6202b9f2e7e13c",
       "tooltip": "Run computation"
      }
     },
     "dec8f5cfa4fb4644a83eba495851496c": {
      "model_module": "@jupyter-widgets/controls",
      "model_module_version": "1.5.0",
      "model_name": "CheckboxModel",
      "state": {
       "description": "GA Pro - Live link",
       "disabled": false,
       "indent": false,
       "layout": "IPY_MODEL_54673da00d1b49859e683cfa681c6cf4",
       "style": "IPY_MODEL_195a14ab40fc4f889f21eafe39781539",
       "value": false
      }
     },
     "df3f2abfed1044478115a9cefcea08fa": {
      "model_module": "@jupyter-widgets/base",
      "model_module_version": "1.2.0",
      "model_name": "LayoutModel",
      "state": {}
     },
     "e2bd161fad5041c3a490bae05d7208f0": {
      "model_module": "@jupyter-widgets/base",
      "model_module_version": "1.2.0",
      "model_name": "LayoutModel",
      "state": {}
     },
     "e522b3e7fc124804bc768c04b3f6ea3e": {
      "model_module": "@jupyter-widgets/controls",
      "model_module_version": "1.5.0",
      "model_name": "ButtonStyleModel",
      "state": {}
     },
     "e5afb3cb02b440f09c1edc3ea5a75800": {
      "model_module": "@jupyter-widgets/controls",
      "model_module_version": "1.5.0",
      "model_name": "ButtonStyleModel",
      "state": {}
     },
     "e7afbb4ef2de4e3682143908f5eda8c6": {
      "model_module": "@jupyter-widgets/base",
      "model_module_version": "1.2.0",
      "model_name": "LayoutModel",
      "state": {
       "width": "auto"
      }
     },
     "e7c6614300584bc8ab1cf5c723dd752a": {
      "model_module": "@jupyter-widgets/controls",
      "model_module_version": "1.5.0",
      "model_name": "HTMLModel",
      "state": {
       "layout": "IPY_MODEL_c17b9fd4a9554066b1e8756812400b05",
       "style": "IPY_MODEL_2701409aae8c4cc3b726b2de9b721ad2"
      }
     },
     "ec3817cf52af41bab9de0a01b45657d3": {
      "model_module": "@jupyter-widgets/controls",
      "model_module_version": "1.5.0",
      "model_name": "TextareaModel",
      "state": {
       "continuous_update": false,
       "description": "WKT:",
       "layout": "IPY_MODEL_2498abca7705402f8955c7e3eaaaa8d2",
       "style": "IPY_MODEL_43764ce117c1497998e5521407fc9e16",
       "value": "PROJCS[\"NAD83 / UTM zone 14N\",GEOGCS[\"NAD83\",DATUM[\"North_American_Datum_1983\",SPHEROID[\"GRS 1980\",6378137,298.257222101,AUTHORITY[\"EPSG\",\"7019\"]],AUTHORITY[\"EPSG\",\"6269\"]],PRIMEM[\"Greenwich\",0,AUTHORITY[\"EPSG\",\"8901\"]],UNIT[\"degree\",0.0174532925199433,AUTHORITY[\"EPSG\",\"9122\"]],AUTHORITY[\"EPSG\",\"4269\"]],PROJECTION[\"Transverse_Mercator\"],PARAMETER[\"latitude_of_origin\",0],PARAMETER[\"central_meridian\",-99],PARAMETER[\"scale_factor\",0.9996],PARAMETER[\"false_easting\",500000],PARAMETER[\"false_northing\",0],UNIT[\"metre\",1,AUTHORITY[\"EPSG\",\"9001\"]],AXIS[\"Easting\",EAST],AXIS[\"Northing\",NORTH],AUTHORITY[\"EPSG\",\"26914\"]]"
      }
     },
     "ed59d6d923df4d07bc9abd86e4764ee2": {
      "model_module": "@jupyter-widgets/base",
      "model_module_version": "1.2.0",
      "model_name": "LayoutModel",
      "state": {}
     },
     "f035ff915d86431cbf5a2267367238bb": {
      "model_module": "@jupyter-widgets/controls",
      "model_module_version": "1.5.0",
      "model_name": "ButtonStyleModel",
      "state": {}
     },
     "f35895403ad24ad8a23bde5a7461b1fc": {
      "model_module": "@jupyter-widgets/base",
      "model_module_version": "1.2.0",
      "model_name": "LayoutModel",
      "state": {
       "display": "none"
      }
     },
     "f47fe748ab7246f8a1a18439a4bf9a20": {
      "model_module": "@jupyter-widgets/controls",
      "model_module_version": "1.5.0",
      "model_name": "HBoxModel",
      "state": {
       "children": [
        "IPY_MODEL_f5afb9e61fe340e781bd0e6381d63301",
        "IPY_MODEL_d3e803ccfe884489a0655194afe3f9c2",
        "IPY_MODEL_040086cc15b942b890d62ca34946acda"
       ],
       "layout": "IPY_MODEL_6b8943f8b9ce42439a1a536e561781ce"
      }
     },
     "f5afb9e61fe340e781bd0e6381d63301": {
      "model_module": "@jupyter-widgets/controls",
      "model_module_version": "1.5.0",
      "model_name": "ButtonModel",
      "state": {
       "description": "Change",
       "layout": "IPY_MODEL_e7afbb4ef2de4e3682143908f5eda8c6",
       "style": "IPY_MODEL_e5afb3cb02b440f09c1edc3ea5a75800"
      }
     },
     "f7d2b9a208514a4d835947ce32b8982f": {
      "model_module": "@jupyter-widgets/base",
      "model_module_version": "1.2.0",
      "model_name": "LayoutModel",
      "state": {}
     },
     "f87bfe1d25c144e8aa99429dd4c8719f": {
      "model_module": "@jupyter-widgets/base",
      "model_module_version": "1.2.0",
      "model_name": "LayoutModel",
      "state": {
       "grid_area": "pathlist",
       "width": "auto"
      }
     },
     "f995213008bd4fc298cd2306000b0033": {
      "model_module": "@jupyter-widgets/controls",
      "model_module_version": "1.5.0",
      "model_name": "VBoxModel",
      "state": {
       "children": [
        "IPY_MODEL_dec8f5cfa4fb4644a83eba495851496c"
       ],
       "layout": "IPY_MODEL_b0b3587116af474fb30c409b8705b950"
      }
     },
     "fa159facb58e4356a0a5d8c314945660": {
      "model_module": "@jupyter-widgets/controls",
      "model_module_version": "1.5.0",
      "model_name": "HTMLModel",
      "state": {
       "layout": "IPY_MODEL_1edb300c39774f9dba7ffd3f4b029cff",
       "placeholder": "",
       "style": "IPY_MODEL_8a8c4bcdea3e47ac8c9127c72c181e9d",
       "value": "<span style=\"margin-left:10px; color:orange;\">C:\\Users\\dominiquef\\Documents\\GIT\\mira\\mirageoscience-apps\\assets\\FlinFlon.geoh5</span>"
      }
     },
     "fd4ff0fb98c7440d92be38f7a536fd3c": {
      "model_module": "@jupyter-widgets/base",
      "model_module_version": "1.2.0",
      "model_name": "LayoutModel",
      "state": {}
     }
    },
    "version_major": 2,
    "version_minor": 0
   }
  }
 },
 "nbformat": 4,
 "nbformat_minor": 5
}

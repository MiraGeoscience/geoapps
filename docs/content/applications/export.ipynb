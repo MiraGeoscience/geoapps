version https://git-lfs.github.com/spec/v1
oid sha256:a3eaa834bc356b2e2a0f906b5b61b911c6e37297b72af7023d5ae59b827be509
size 435891

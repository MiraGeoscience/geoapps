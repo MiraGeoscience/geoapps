version https://git-lfs.github.com/spec/v1
oid sha256:f84a9ce38fadeb973b32d80e1ab7dac925f0453f98040c67dee5108cc60e69f1
size 19089037

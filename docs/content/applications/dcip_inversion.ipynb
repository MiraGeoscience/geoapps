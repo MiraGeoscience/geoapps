version https://git-lfs.github.com/spec/v1
oid sha256:37930cb962be82b8e6b8d92c07e00a76b67a3afad53ff0be536258f554c64df1
size 19088984

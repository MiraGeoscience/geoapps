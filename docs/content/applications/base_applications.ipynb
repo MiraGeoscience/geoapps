version https://git-lfs.github.com/spec/v1
oid sha256:8bc48e59febfec4878204396fb1b03effffd27f325ebb4141742832cfb5544c2
size 1192

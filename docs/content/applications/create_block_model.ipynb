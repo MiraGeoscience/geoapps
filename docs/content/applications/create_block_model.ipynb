version https://git-lfs.github.com/spec/v1
oid sha256:0956dfd12a52228af68c93d2a09799ea2816f188f63864e213a2cefa306750ce
size 327556

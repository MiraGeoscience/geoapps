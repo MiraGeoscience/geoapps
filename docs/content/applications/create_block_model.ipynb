version https://git-lfs.github.com/spec/v1
oid sha256:40ace7b6357443855191ac4abe7bc4aae0d79e6cb4bcd0b0c49ce405f9867a35
size 327579

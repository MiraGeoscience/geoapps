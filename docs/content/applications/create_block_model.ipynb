version https://git-lfs.github.com/spec/v1
oid sha256:8e5012ee7f0ce72eebc1aeba3aee3c02f3bde98b3313e036b7329f509f686e8d
size 327490

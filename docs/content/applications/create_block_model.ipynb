version https://git-lfs.github.com/spec/v1
oid sha256:17674640438dbe03967befb1609a2c472a643cbbf61a6f2b00fe97a460bdc029
size 327432

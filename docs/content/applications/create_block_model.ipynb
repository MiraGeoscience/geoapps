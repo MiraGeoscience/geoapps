{
 "cells": [
  {
   "cell_type": "markdown",
   "id": "direct-cloud",
   "metadata": {},
   "source": [
    "# Block Model Creation\n",
    "\n",
    "\n",
    "This application lets users create [Block Model](https://geoh5py.readthedocs.io/en/stable/content/geoh5_format/analyst/objects.html#block-model) objects through a [Dash](https://dash.plotly.com/introduction) interface.\n",
    "\n",
    "<img align=\"center\" src=\"./images/block_model/block_model_application.png\"> \n",
    "\n",
    "\n",
    "New user? Visit the [Getting Started](../installation.rst) page."
   ]
  },
  {
   "cell_type": "markdown",
   "id": "deadly-listing",
   "metadata": {},
   "source": [
    "## Project Selection\n",
    "\n",
    "Use the upload button to connect to an existing `geoh5` project file containing data.\n",
    "\n",
    "OR \n",
    "\n",
    "Select a `ui.json` input file to re-load parameters from. See the [Input ui.json](#Input-ui.json) section for details.\n",
    "\n",
    "<img align=\"left\" src=\"./images/block_model/block_model_upload.png\" > \n"
   ]
  },
  {
   "cell_type": "markdown",
   "id": "65b695d7",
   "metadata": {},
   "source": [
    "Press `Upload Workspace/ui.json` to display a menu contaning the hard-drive directory. After navigating to the desired geoh5 or ui.json file, press `Open` to confirm the selection.\n",
    "\n",
    "Press `Cancel` to abandon navigation and return to the current geoh5."
   ]
  },
  {
   "cell_type": "markdown",
   "id": "infinite-auditor",
   "metadata": {},
   "source": [
    "## Object Selection\n",
    "\n",
    "The object dropdown menus can be used to select from the objects in the target workspace.\n",
    "\n",
    "<img align=\"left\" src=\"./images/block_model/block_model_dropdown.png\" > "
   ]
  },
  {
   "cell_type": "markdown",
   "id": "8627dbc8",
   "metadata": {},
   "source": [
    "Note: The list of available objects is preceded by the group name they belong to (e.g. **Workspace/**geochem), such that multiple objects with the same name can easily be differentiated."
   ]
  },
  {
   "cell_type": "markdown",
   "id": "7f1795a5",
   "metadata": {},
   "source": [
    "## Parameter Selection\n",
    "\n",
    "Input parameters used to create the Block Model."
   ]
  },
  {
   "cell_type": "markdown",
   "id": "33cd36ee",
   "metadata": {},
   "source": [
    "**Minimum cell size**\n",
    "\n",
    "Grid cell size (m) along the x, y and z-axis.\n",
    "\n",
    "**Core depth**\n",
    "\n",
    "Depth of the core region of the grid.\n",
    "\n",
    "**Horizontal padding**\n",
    "\n",
    "Padding cell size (m) outside the core region, in the West, East, North, and South directions.\n",
    "\n",
    "**Bottom padding**\n",
    "\n",
    "Padding cell size (m) below the core region.\n",
    "\n",
    "**Expansion Factor**\n",
    "\n",
    "Rate of expansion in padding cells determined by: $h_x = h_0 * \\alpha^{[0, 1, ..., N_c]}$"
   ]
  },
  {
   "cell_type": "markdown",
   "id": "polished-harris",
   "metadata": {},
   "source": [
    "## Run\n",
    "\n",
    "The `Export` button saves the Block Model to the `Output path`.\n",
    "\n",
    "<img align=\"left\" src=\"./images/block_model/block_model_export.png\" > "
   ]
  },
  {
   "cell_type": "markdown",
   "id": "c9e48ed0",
   "metadata": {},
   "source": [
    "## (Optional) Geoscience ANALYST Pro - Live link\n",
    "  \n",
    "Activate the Live Link between Geoscience ANALYST and the application. The `Output path` lets users select the target monitoring folder used by Geoscience ANALYST.\n",
    "\n",
    "  <img align=\"left\" width=\"50%\" src=\"./images/monitoring_folder.png\"> "
   ]
  },
  {
   "cell_type": "markdown",
   "id": "657d92e7",
   "metadata": {},
   "source": [
    "Every time the `Export` button gets triggered, the application will write the result to the target `geoh5` while also writing a light weight temporary `geoh5` to the monitoring folder that contains only the result. If activated in Geoscience ANALYST, the result will be automatically processed and displayed in the workspace. This low-level interaction allows users to directly see the outcome of a computation in 3D."
   ]
  },
  {
   "cell_type": "markdown",
   "id": "7a261644",
   "metadata": {},
   "source": [
    "## Input ui.json \n",
    "\n",
    "This application relies on a [structured json](https://github.com/MiraGeoscience/geoapps/tree/main/assets/uijson) file to store and run the program.\n",
    "\n",
    "The [input ui.json file](https://raw.githubusercontent.com/MiraGeoscience/geoapps/develop/assets/uijson/block_model_creation.ui.json) can be used to run the program from command line:\n",
    "\n",
    "```\n",
    "activate geoapps\n",
    "python -m geoapps.block_model_creation.driver [YourInputName].ui.json\n",
    "```\n",
    "\n",
    "or directly from [Geoscience ANALYST Pro](#Geoscience-ANALYST-Pro) v3.3.1 or higher.\n",
    "The `ui.json` can also be used to re-load the parameters from a previous run by selecting the `ui.json` file from the [Project Selection](#Project-Selection) button, instead of a `geoh5` file. "
   ]
  },
  {
   "cell_type": "markdown",
   "id": "243ac18c",
   "metadata": {},
   "source": [
    "### Geoscience ANALYST Pro v3.4\n",
    "\n",
    "Users with an active Geoscience ANALYST Pro license (v3.4) can execute this application directly from an active session with a drag & drop of a `*.ui.json` file to the `Viewport`. "
   ]
  },
  {
   "cell_type": "markdown",
   "id": "residential-classroom",
   "metadata": {},
   "source": [
    "Need help? Contact us at support@mirageoscience.com\n"
   ]
  }
 ],
 "metadata": {
  "kernelspec": {
   "display_name": "Python 3 (ipykernel)",
   "language": "python",
   "name": "python3"
  },
  "language_info": {
   "codemirror_mode": {
    "name": "ipython",
    "version": 3
   },
   "file_extension": ".py",
   "mimetype": "text/x-python",
   "name": "python",
   "nbconvert_exporter": "python",
   "pygments_lexer": "ipython3",
   "version": "3.9.12"
  },
  "widgets": {
   "application/vnd.jupyter.widget-state+json": {
    "state": {
     "004dc0a36855464ba63134ee644658a5": {
      "model_module": "@jupyter-widgets/controls",
      "model_module_version": "1.5.0",
      "model_name": "HBoxModel",
      "state": {
       "children": [
        "IPY_MODEL_4c163db634fe449b99748ecdc01af926",
        "IPY_MODEL_d8f76293bb1a4daba1fee5aa1e1896d4",
        "IPY_MODEL_063ee4b08cf8402d8f0ec026c0aff786"
       ],
       "layout": "IPY_MODEL_1956e4f3cc6148b2b6e9bd662c3ae540"
      }
     },
     "006cfa920cc04de7838c234110ea25b4": {
      "model_module": "@jupyter-widgets/base",
      "model_module_version": "1.2.0",
      "model_name": "LayoutModel",
      "state": {}
     },
     "00afe9c537304721a339de5ccb430bf9": {
      "model_module": "@jupyter-widgets/controls",
      "model_module_version": "1.5.0",
      "model_name": "ButtonModel",
      "state": {
       "description": "Change",
       "layout": "IPY_MODEL_d98513fd3719441cb7e6c7ddb3086345",
       "style": "IPY_MODEL_56ea15176d7c4b209ce4888ddefbcce8"
      }
     },
     "013a42bcb518482da6108b2f6afb53b8": {
      "model_module": "@jupyter-widgets/controls",
      "model_module_version": "1.5.0",
      "model_name": "ButtonStyleModel",
      "state": {}
     },
     "0150910219464f8e80d75b121e9c1a93": {
      "model_module": "@jupyter-widgets/base",
      "model_module_version": "1.2.0",
      "model_name": "LayoutModel",
      "state": {}
     },
     "018ad18c7dd24c82b7e0adbb6807914e": {
      "model_module": "@jupyter-widgets/controls",
      "model_module_version": "1.5.0",
      "model_name": "DescriptionStyleModel",
      "state": {
       "description_width": "initial"
      }
     },
     "023db3c3dc604b229d68f54601307009": {
      "model_module": "@jupyter-widgets/controls",
      "model_module_version": "1.5.0",
      "model_name": "ButtonStyleModel",
      "state": {}
     },
     "02585139d29640a88255ce544a40345a": {
      "model_module": "@jupyter-widgets/controls",
      "model_module_version": "1.5.0",
      "model_name": "DescriptionStyleModel",
      "state": {
       "description_width": "initial"
      }
     },
     "027533185fec47db8bb08cb09d079618": {
      "model_module": "@jupyter-widgets/controls",
      "model_module_version": "1.5.0",
      "model_name": "DescriptionStyleModel",
      "state": {
       "description_width": ""
      }
     },
     "0288cc076f2b443b90ea1ffade755277": {
      "model_module": "@jupyter-widgets/base",
      "model_module_version": "1.2.0",
      "model_name": "LayoutModel",
      "state": {}
     },
     "02f2cf802b1140d0b523534c1a2dccad": {
      "model_module": "@jupyter-widgets/controls",
      "model_module_version": "1.5.0",
      "model_name": "HBoxModel",
      "state": {
       "children": [
        "IPY_MODEL_d360e7a4d31e444ea424aaaea09ef5ed",
        "IPY_MODEL_8097d3a18d494a3c8f57bf7cd1ccd9f1",
        "IPY_MODEL_777443fe46dd42b1a6d72a9c16fe50b8"
       ],
       "layout": "IPY_MODEL_eb40228fccc94a05913c39b6a736bc85"
      }
     },
     "031d1bb5c9b5436fa9b16653171f1c8b": {
      "model_module": "@jupyter-widgets/base",
      "model_module_version": "1.2.0",
      "model_name": "LayoutModel",
      "state": {}
     },
     "0325595a163d4e3bb47dde122e1b76ab": {
      "model_module": "@jupyter-widgets/base",
      "model_module_version": "1.2.0",
      "model_name": "LayoutModel",
      "state": {}
     },
     "034f5d59d27f4c81ba0282b818642842": {
      "model_module": "@jupyter-widgets/base",
      "model_module_version": "1.2.0",
      "model_name": "LayoutModel",
      "state": {}
     },
     "038ea5fdcb564377a1da7a40f9d279ff": {
      "model_module": "@jupyter-widgets/controls",
      "model_module_version": "1.5.0",
      "model_name": "GridBoxModel",
      "state": {
       "children": [
        "IPY_MODEL_beabefe334814d9c8b3439aef6503612",
        "IPY_MODEL_6101edc91df84a198e1fbaf0cca689bc",
        "IPY_MODEL_8373a2c5768e42b48fbe5a90c4b3752c"
       ],
       "layout": "IPY_MODEL_2447c4c7b01e428a8a622d4cb2d55334"
      }
     },
     "03f137b218ea42338551327fc92f2d4c": {
      "model_module": "@jupyter-widgets/controls",
      "model_module_version": "1.5.0",
      "model_name": "DescriptionStyleModel",
      "state": {
       "description_width": ""
      }
     },
     "0437489fa3264f58bea5469b88afd794": {
      "model_module": "@jupyter-widgets/controls",
      "model_module_version": "1.5.0",
      "model_name": "TextModel",
      "state": {
       "description": "Name: ",
       "layout": "IPY_MODEL_6d33749c9bf54ad18cb74a8818fa9027",
       "style": "IPY_MODEL_2a274f41afbe4b118484cd0c5b8338db"
      }
     },
     "04795d21630241cc847429881cfe1682": {
      "model_module": "@jupyter-widgets/base",
      "model_module_version": "1.2.0",
      "model_name": "LayoutModel",
      "state": {
       "margin": "0 0 0 1em"
      }
     },
     "05061b12b4fe4a66b73e98fd5f506c5a": {
      "model_module": "@jupyter-widgets/controls",
      "model_module_version": "1.5.0",
      "model_name": "SelectMultipleModel",
      "state": {
       "_options_labels": [
        "Ag",
        "Al2O3",
        "As",
        "Au",
        "Ba",
        "Be",
        "Bi",
        "CaO",
        "Cd",
        "Ce",
        "Cl",
        "Co",
        "Cr",
        "Cr2O3",
        "Cs",
        "Ctot",
        "Cu",
        "Dy",
        "Er",
        "Eu",
        "F",
        "Fe2O3",
        "Ga",
        "Gd",
        "Ge",
        "Hf",
        "Hg",
        "Ho",
        "In",
        "Ir",
        "K2O",
        "LOI",
        "La",
        "Li",
        "Lu",
        "MgO",
        "MnO",
        "Mo",
        "Na2O",
        "Nb",
        "Nd",
        "NewChannel",
        "Ni",
        "Ni2",
        "P2O5",
        "Pb",
        "Pr",
        "Rb",
        "SUM",
        "Sb",
        "Sc",
        "Se",
        "SiO2",
        "Sm",
        "Sn",
        "Sr",
        "Stot",
        "Ta",
        "Tb",
        "Th",
        "Ti",
        "TiO2",
        "Tl",
        "Tm",
        "U",
        "V",
        "Visual Parameters",
        "W",
        "Y_",
        "Yb",
        "Zn",
        "Zr",
        "interval_length"
       ],
       "description": "Data: ",
       "index": [
        1,
        7
       ],
       "layout": "IPY_MODEL_11f889e9a4ea4444b7399422138184bf",
       "rows": 5,
       "style": "IPY_MODEL_5b4fae2edd934eac8c3060d773a7289c"
      }
     },
     "0523ff14e8bb43a2a452d053e0acd70f": {
      "model_module": "@jupyter-widgets/controls",
      "model_module_version": "1.5.0",
      "model_name": "DescriptionStyleModel",
      "state": {
       "description_width": ""
      }
     },
     "0588b262a7d2424a93b3cc4c5f6495d7": {
      "model_module": "@jupyter-widgets/base",
      "model_module_version": "1.2.0",
      "model_name": "LayoutModel",
      "state": {
       "display": "none"
      }
     },
     "05b96ce5ded74e5bb798c7b5a6ec4441": {
      "model_module": "@jupyter-widgets/controls",
      "model_module_version": "1.5.0",
      "model_name": "ButtonStyleModel",
      "state": {}
     },
     "0631fc11c7f44a18abe202c66f917f2b": {
      "model_module": "@jupyter-widgets/controls",
      "model_module_version": "1.5.0",
      "model_name": "DescriptionStyleModel",
      "state": {
       "description_width": "initial"
      }
     },
     "063ee4b08cf8402d8f0ec026c0aff786": {
      "model_module": "@jupyter-widgets/controls",
      "model_module_version": "1.5.0",
      "model_name": "BoxModel",
      "state": {
       "children": [
        "IPY_MODEL_71e327501e7149a197cba52d9a94cbc3"
       ],
       "layout": "IPY_MODEL_e5256603312349d9a7814235afcd11aa"
      }
     },
     "07433535e94b4488af6fb6a50ecbec55": {
      "model_module": "@jupyter-widgets/base",
      "model_module_version": "1.2.0",
      "model_name": "LayoutModel",
      "state": {}
     },
     "075b38b9a0134e31ba6c0b147f707f7e": {
      "model_module": "@jupyter-widgets/base",
      "model_module_version": "1.2.0",
      "model_name": "LayoutModel",
      "state": {}
     },
     "0763e25e83434cc09a67e4d7ea8f7132": {
      "model_module": "@jupyter-widgets/base",
      "model_module_version": "1.2.0",
      "model_name": "LayoutModel",
      "state": {
       "width": "auto"
      }
     },
     "07de4a855f674aefb7a353dcbca8902d": {
      "model_module": "@jupyter-widgets/controls",
      "model_module_version": "1.5.0",
      "model_name": "VBoxModel",
      "state": {
       "children": [
        "IPY_MODEL_deef56f3cd1b489286cbe2662dbc13ad",
        "IPY_MODEL_0f02c732a59147d0baf42657a7d79cd1"
       ],
       "layout": "IPY_MODEL_ee96b337ff6d4018b54e39fc93333f3b"
      }
     },
     "086630edbe004c2d8aa61d39c0790a05": {
      "model_module": "@jupyter-widgets/controls",
      "model_module_version": "1.5.0",
      "model_name": "ToggleButtonModel",
      "state": {
       "layout": "IPY_MODEL_fd80e4a222f94e6a9ca8e32e8ee5a385",
       "style": "IPY_MODEL_578db0c3fa1d49acb5ed56ee3840260d"
      }
     },
     "08670b644eef42b49617dae5ddbe3cc5": {
      "model_module": "@jupyter-widgets/base",
      "model_module_version": "1.2.0",
      "model_name": "LayoutModel",
      "state": {
       "display": "none",
       "grid_area": "filename",
       "width": "auto"
      }
     },
     "0893adfe5f624856b1a299cbedaaab0c": {
      "model_module": "@jupyter-widgets/controls",
      "model_module_version": "1.5.0",
      "model_name": "ButtonModel",
      "state": {
       "description": "Select",
       "layout": "IPY_MODEL_8f2b4fa65d84490fab02d0fb8c4dcaff",
       "style": "IPY_MODEL_013a42bcb518482da6108b2f6afb53b8"
      }
     },
     "09168081b46243f388b48c437987477c": {
      "model_module": "@jupyter-widgets/base",
      "model_module_version": "1.2.0",
      "model_name": "LayoutModel",
      "state": {
       "width": "auto"
      }
     },
     "0921ca8a454a4d5a9906f2387174a295": {
      "model_module": "@jupyter-widgets/controls",
      "model_module_version": "1.5.0",
      "model_name": "DescriptionStyleModel",
      "state": {
       "description_width": "initial"
      }
     },
     "095a7aca13b049d2ad19d2742c434cbc": {
      "model_module": "@jupyter-widgets/controls",
      "model_module_version": "1.5.0",
      "model_name": "ButtonStyleModel",
      "state": {}
     },
     "09a9a4daa8704845b54f089f3eb369b9": {
      "model_module": "@jupyter-widgets/base",
      "model_module_version": "1.2.0",
      "model_name": "LayoutModel",
      "state": {
       "grid_area": "pathlist",
       "width": "auto"
      }
     },
     "09c757cc94e646daa428679bc814e9d7": {
      "model_module": "@jupyter-widgets/base",
      "model_module_version": "1.2.0",
      "model_name": "LayoutModel",
      "state": {
       "grid_area": "pathlist",
       "width": "auto"
      }
     },
     "0a449e9561e7451c8e681eb80aa0a38f": {
      "model_module": "@jupyter-widgets/controls",
      "model_module_version": "1.5.0",
      "model_name": "SelectModel",
      "state": {
       "_options_labels": [
        "..",
        "dask-worker-space",
        "images"
       ],
       "index": null,
       "layout": "IPY_MODEL_3bdff6b285d54d65b390b48abf9c44e4",
       "rows": 8,
       "style": "IPY_MODEL_7ede5d71dfbe45398d281e6e3566b84a"
      }
     },
     "0a8df30dd18a4ba38e786110272bfd4d": {
      "model_module": "@jupyter-widgets/controls",
      "model_module_version": "1.5.0",
      "model_name": "DescriptionStyleModel",
      "state": {
       "description_width": ""
      }
     },
     "0aa5009e64f14066a4e1a87375444abf": {
      "model_module": "@jupyter-widgets/controls",
      "model_module_version": "1.5.0",
      "model_name": "VBoxModel",
      "state": {
       "children": [
        "IPY_MODEL_635d806ae9a342b8b81f72c871bbd6bd",
        "IPY_MODEL_bc2abc91fa1b4d35834cc7e610a9c7c2"
       ],
       "layout": "IPY_MODEL_ecbb582e155f44e7a007ba22278ff6a2"
      }
     },
     "0ae4a9cc8c154ce79727edabce64171a": {
      "model_module": "@jupyter-widgets/base",
      "model_module_version": "1.2.0",
      "model_name": "LayoutModel",
      "state": {}
     },
     "0af2ccb563084caf8c703463ca5aafac": {
      "model_module": "@jupyter-widgets/controls",
      "model_module_version": "1.5.0",
      "model_name": "VBoxModel",
      "state": {
       "children": [
        "IPY_MODEL_f5363637a4e549e4912d50e20791e437"
       ],
       "layout": "IPY_MODEL_aef01a6ea10948fc8d06367d9d54afc5"
      }
     },
     "0b671e4098d44a839315a0b9f3932156": {
      "model_module": "@jupyter-widgets/controls",
      "model_module_version": "1.5.0",
      "model_name": "LabelModel",
      "state": {
       "layout": "IPY_MODEL_5e5896024d96429480f6609e2d7acfa0",
       "style": "IPY_MODEL_1b07f059884a4d4b971efffa279d7b9b",
       "value": "Workspace"
      }
     },
     "0bcd5886adba47f9a33c6314ef1bec15": {
      "model_module": "@jupyter-widgets/controls",
      "model_module_version": "1.5.0",
      "model_name": "ButtonModel",
      "state": {
       "description": ">> Add Variable >>",
       "layout": "IPY_MODEL_fa42f6591c5f486f8a61de53adcd041c",
       "style": "IPY_MODEL_1369ade4e772471eb34ae88dc97fb5f9"
      }
     },
     "0c069f01572b45f0bdee4aff54542d5f": {
      "model_module": "@jupyter-widgets/base",
      "model_module_version": "1.2.0",
      "model_name": "LayoutModel",
      "state": {}
     },
     "0c227121b2d642f69afef5d570c4fcf2": {
      "model_module": "@jupyter-widgets/controls",
      "model_module_version": "1.5.0",
      "model_name": "ToggleButtonModel",
      "state": {
       "layout": "IPY_MODEL_2b46b552a8004e67b7b792e4eed04971",
       "style": "IPY_MODEL_d894d1b3702c4386aba881175fced5c9"
      }
     },
     "0c9baae7fc6c4b31a155b7bf05c913a3": {
      "model_module": "@jupyter-widgets/controls",
      "model_module_version": "1.5.0",
      "model_name": "DescriptionStyleModel",
      "state": {
       "description_width": ""
      }
     },
     "0ca37e1497e84f689661542f8b081dce": {
      "model_module": "@jupyter-widgets/controls",
      "model_module_version": "1.5.0",
      "model_name": "DescriptionStyleModel",
      "state": {
       "description_width": ""
      }
     },
     "0d1a1083ab0947109e9c5754e02cc54c": {
      "model_module": "@jupyter-widgets/controls",
      "model_module_version": "1.5.0",
      "model_name": "DescriptionStyleModel",
      "state": {
       "description_width": ""
      }
     },
     "0d7a87a486c141fb852ee02e8efc58a5": {
      "model_module": "@jupyter-widgets/controls",
      "model_module_version": "1.5.0",
      "model_name": "HTMLModel",
      "state": {
       "layout": "IPY_MODEL_350dc37f729b41f99a98d1f6117049ee",
       "style": "IPY_MODEL_cac769c905a14313afc0b448d8915217"
      }
     },
     "0d896b0ad7034847b5c65ad2ebc04a87": {
      "model_module": "@jupyter-widgets/controls",
      "model_module_version": "1.5.0",
      "model_name": "ButtonStyleModel",
      "state": {}
     },
     "0e2042d821c344b7a33fe693fad23aa1": {
      "model_module": "@jupyter-widgets/base",
      "model_module_version": "1.2.0",
      "model_name": "LayoutModel",
      "state": {}
     },
     "0e605805ca0640cfbc25f562f5223a8e": {
      "model_module": "@jupyter-widgets/controls",
      "model_module_version": "1.5.0",
      "model_name": "DescriptionStyleModel",
      "state": {
       "description_width": ""
      }
     },
     "0ebf8d4530444927971c341a5e105b9a": {
      "model_module": "@jupyter-widgets/controls",
      "model_module_version": "1.5.0",
      "model_name": "DescriptionStyleModel",
      "state": {
       "description_width": "initial"
      }
     },
     "0ed608a64d334cf9a80802c26bd278e3": {
      "model_module": "@jupyter-widgets/base",
      "model_module_version": "1.2.0",
      "model_name": "LayoutModel",
      "state": {
       "overflow": "auto"
      }
     },
     "0ed9dd8d825843df84a213b2723bbd03": {
      "model_module": "@jupyter-widgets/controls",
      "model_module_version": "1.5.0",
      "model_name": "VBoxModel",
      "state": {
       "children": [
        "IPY_MODEL_ea0a006d85cc48ed97c6f9ec8e99dd38",
        "IPY_MODEL_643cba90c5f34db681586bccc1aa4ea5"
       ],
       "layout": "IPY_MODEL_c98a43468b6c47c1a601de64058d91c9"
      }
     },
     "0eddc4b8ebba4ce981d9127ac3826c3a": {
      "model_module": "@jupyter-widgets/controls",
      "model_module_version": "1.5.0",
      "model_name": "VBoxModel",
      "state": {
       "children": [
        "IPY_MODEL_7cbde29fd6f441b98d39f5133314a6ff"
       ],
       "layout": "IPY_MODEL_864886acff414b78ad461ba001678421"
      }
     },
     "0f02c732a59147d0baf42657a7d79cd1": {
      "model_module": "@jupyter-widgets/controls",
      "model_module_version": "1.5.0",
      "model_name": "VBoxModel",
      "state": {
       "children": [
        "IPY_MODEL_198e08bf76994182830763621808c197",
        "IPY_MODEL_be2a9650a6a04401aad03527b1134f1b"
       ],
       "layout": "IPY_MODEL_34cbac5cb3f74789bf338c73a7f41b4c"
      }
     },
     "0f45e8c0f92845a38e8f9a577abed516": {
      "model_module": "@jupyter-widgets/controls",
      "model_module_version": "1.5.0",
      "model_name": "VBoxModel",
      "state": {
       "children": [
        "IPY_MODEL_7242bc1e4bd24453a73df4f5a9e9b1a7",
        "IPY_MODEL_e2700f8222554da79c063d75ea4a5e71"
       ],
       "layout": "IPY_MODEL_2a73c72d4b3c4d51bd637b3f3c1e59e9"
      }
     },
     "0f6c02879d1c4cb7adeca2f52b59232a": {
      "model_module": "@jupyter-widgets/base",
      "model_module_version": "1.2.0",
      "model_name": "LayoutModel",
      "state": {
       "display": "none"
      }
     },
     "0f6fc082abb145e5bff15b32c5057a3e": {
      "model_module": "@jupyter-widgets/controls",
      "model_module_version": "1.5.0",
      "model_name": "ButtonStyleModel",
      "state": {}
     },
     "10f103d042c547619c368d883ed03ca5": {
      "model_module": "@jupyter-widgets/controls",
      "model_module_version": "1.5.0",
      "model_name": "VBoxModel",
      "state": {
       "children": [
        "IPY_MODEL_19be5cc9428f4bcb9e7a5a95d06523da"
       ],
       "layout": "IPY_MODEL_a7200572318a40f68d727da82c6fedce"
      }
     },
     "1103c59d1e90405a9a9df2664e9174ac": {
      "model_module": "@jupyter-widgets/controls",
      "model_module_version": "1.5.0",
      "model_name": "DescriptionStyleModel",
      "state": {
       "description_width": ""
      }
     },
     "11e39cc1983c40b0a242b948f16d1834": {
      "model_module": "@jupyter-widgets/controls",
      "model_module_version": "1.5.0",
      "model_name": "DescriptionStyleModel",
      "state": {
       "description_width": ""
      }
     },
     "11f889e9a4ea4444b7399422138184bf": {
      "model_module": "@jupyter-widgets/base",
      "model_module_version": "1.2.0",
      "model_name": "LayoutModel",
      "state": {}
     },
     "12114d21a99a4f2288d26c5e926449f1": {
      "model_module": "@jupyter-widgets/base",
      "model_module_version": "1.2.0",
      "model_name": "LayoutModel",
      "state": {
       "width": "75%"
      }
     },
     "121f142dbd9844de85ada75645d90bc2": {
      "model_module": "@jupyter-widgets/controls",
      "model_module_version": "1.5.0",
      "model_name": "ToggleButtonModel",
      "state": {
       "layout": "IPY_MODEL_ced490905d1f43239cf1bcff43930586",
       "style": "IPY_MODEL_d1f73e4d0114413ab102a119aee4e84b",
       "value": true
      }
     },
     "1229f582354a4b3a912ba00e1e5c65cc": {
      "model_module": "@jupyter-widgets/base",
      "model_module_version": "1.2.0",
      "model_name": "LayoutModel",
      "state": {}
     },
     "125a7011ddb749c68c67e8095246042c": {
      "model_module": "@jupyter-widgets/controls",
      "model_module_version": "1.5.0",
      "model_name": "TextareaModel",
      "state": {
       "layout": "IPY_MODEL_64d181d4079441478f130863b00b23f8",
       "style": "IPY_MODEL_22b1de6ee8c043ed9103841e016834df",
       "value": "{NewChannel} = {Al2O3} + numpy.cos({CaO} / 30.0 * numpy.pi)"
      }
     },
     "129e73a67f534cb0bca72dcc14c9a342": {
      "model_module": "@jupyter-widgets/controls",
      "model_module_version": "1.5.0",
      "model_name": "ButtonStyleModel",
      "state": {}
     },
     "12c03a52e05f46e7adba2c5f3908adfb": {
      "model_module": "@jupyter-widgets/controls",
      "model_module_version": "1.5.0",
      "model_name": "VBoxModel",
      "state": {
       "children": [
        "IPY_MODEL_de3c4cef9ecd4f12bef50c6c191e6c99",
        "IPY_MODEL_fea64fc00aa04e789f0c92ed0743f582"
       ],
       "layout": "IPY_MODEL_3bb967b55dde462db80199e26748f6d8"
      }
     },
     "1301cbf315c14d6bb23ba5ee76913cbe": {
      "model_module": "@jupyter-widgets/controls",
      "model_module_version": "1.5.0",
      "model_name": "DropdownModel",
      "state": {
       "_options_labels": [
        "C:\\Users\\dominiquef\\Documents\\GIT\\mira\\mirageoscience-apps\\docs\\content\\applications",
        "C:\\Users\\dominiquef\\Documents\\GIT\\mira\\mirageoscience-apps\\docs\\content",
        "C:\\Users\\dominiquef\\Documents\\GIT\\mira\\mirageoscience-apps\\docs",
        "C:\\Users\\dominiquef\\Documents\\GIT\\mira\\mirageoscience-apps",
        "C:\\Users\\dominiquef\\Documents\\GIT\\mira",
        "C:\\Users\\dominiquef\\Documents\\GIT",
        "C:\\Users\\dominiquef\\Documents",
        "C:\\Users\\dominiquef",
        "C:\\Users",
        "C:\\",
        "D:\\",
        "Z:\\"
       ],
       "index": 0,
       "layout": "IPY_MODEL_d684803faf604ebd8afc0be81595609a",
       "style": "IPY_MODEL_4a714c52ef3d46b699c0be9da8f84b65"
      }
     },
     "131ea12ccf4d46c9aa213cab3296d854": {
      "model_module": "@jupyter-widgets/controls",
      "model_module_version": "1.5.0",
      "model_name": "ButtonStyleModel",
      "state": {}
     },
     "1329c2ae317a400198024ff1391e1b82": {
      "model_module": "@jupyter-widgets/base",
      "model_module_version": "1.2.0",
      "model_name": "LayoutModel",
      "state": {
       "width": "auto"
      }
     },
     "1369ade4e772471eb34ae88dc97fb5f9": {
      "model_module": "@jupyter-widgets/controls",
      "model_module_version": "1.5.0",
      "model_name": "ButtonStyleModel",
      "state": {}
     },
     "13847b76d87e44b7ae7b8adc094e8234": {
      "model_module": "@jupyter-widgets/base",
      "model_module_version": "1.2.0",
      "model_name": "LayoutModel",
      "state": {}
     },
     "13e710ea4e54488badbc3c83e6cea4f5": {
      "model_module": "@jupyter-widgets/controls",
      "model_module_version": "1.5.0",
      "model_name": "VBoxModel",
      "state": {
       "children": [
        "IPY_MODEL_5bc6a8ddf6204e72ab2018a947e8c3d2",
        "IPY_MODEL_10f103d042c547619c368d883ed03ca5"
       ],
       "layout": "IPY_MODEL_79379692ff2449e0949de20d60d50ee8"
      }
     },
     "143646b504c44c8b9b31e2b53cb26fed": {
      "model_module": "@jupyter-widgets/controls",
      "model_module_version": "1.5.0",
      "model_name": "DescriptionStyleModel",
      "state": {
       "description_width": ""
      }
     },
     "14b1c5fc0411495c8565713492fb031b": {
      "model_module": "@jupyter-widgets/base",
      "model_module_version": "1.2.0",
      "model_name": "LayoutModel",
      "state": {}
     },
     "14dcca7bf3ab409691c0530299e2fb57": {
      "model_module": "@jupyter-widgets/controls",
      "model_module_version": "1.5.0",
      "model_name": "DescriptionStyleModel",
      "state": {
       "description_width": ""
      }
     },
     "15dab356124a4381bb7595495056a62b": {
      "model_module": "@jupyter-widgets/controls",
      "model_module_version": "1.5.0",
      "model_name": "ButtonStyleModel",
      "state": {}
     },
     "15fe39de8eca457692e856ddd4dc156f": {
      "model_module": "@jupyter-widgets/controls",
      "model_module_version": "1.5.0",
      "model_name": "DropdownModel",
      "state": {
       "_options_labels": [
        "C:\\Users\\dominiquef\\Documents\\GIT\\mira\\geoapps\\assets",
        "C:\\Users\\dominiquef\\Documents\\GIT\\mira\\geoapps",
        "C:\\Users\\dominiquef\\Documents\\GIT\\mira",
        "C:\\Users\\dominiquef\\Documents\\GIT",
        "C:\\Users\\dominiquef\\Documents",
        "C:\\Users\\dominiquef",
        "C:\\Users",
        "C:\\",
        "\\\\EgnyteDrive\\mirageoscience\\",
        "G:\\",
        "D:\\"
       ],
       "index": 0,
       "layout": "IPY_MODEL_a7b953c421574e56a2ed663d868fcc53",
       "style": "IPY_MODEL_d2a704b9f51547f1bfb7c77025ea0f58"
      }
     },
     "16a1a06d8a904af490a211e081831be5": {
      "model_module": "@jupyter-widgets/controls",
      "model_module_version": "1.5.0",
      "model_name": "ButtonModel",
      "state": {
       "description": "Change",
       "layout": "IPY_MODEL_48a59d13cbc84d2da45755897b18f553",
       "style": "IPY_MODEL_39677331a7794366b476d73b3d1887bc"
      }
     },
     "16ca38fbcd5a4837b81309e4a00d6272": {
      "model_module": "@jupyter-widgets/base",
      "model_module_version": "1.2.0",
      "model_name": "LayoutModel",
      "state": {
       "width": "100%"
      }
     },
     "175b448959aa4be6819ab592106c80e4": {
      "model_module": "@jupyter-widgets/base",
      "model_module_version": "1.2.0",
      "model_name": "LayoutModel",
      "state": {
       "width": "auto"
      }
     },
     "1764418ec29b416fb687aea6365666c4": {
      "model_module": "@jupyter-widgets/base",
      "model_module_version": "1.2.0",
      "model_name": "LayoutModel",
      "state": {}
     },
     "17956ed47f0649b696b43c906e97a672": {
      "model_module": "@jupyter-widgets/controls",
      "model_module_version": "1.5.0",
      "model_name": "VBoxModel",
      "state": {
       "children": [
        "IPY_MODEL_5f69462f6b224c3397eb24084eb9dec8",
        "IPY_MODEL_d06b71b980f047fb9150c30f524bc462"
       ],
       "layout": "IPY_MODEL_006cfa920cc04de7838c234110ea25b4"
      }
     },
     "185466513beb4f4fa3e7636a9390262a": {
      "model_module": "@jupyter-widgets/base",
      "model_module_version": "1.2.0",
      "model_name": "LayoutModel",
      "state": {}
     },
     "1859c60fdfe04c76ad95cc56da331557": {
      "model_module": "@jupyter-widgets/base",
      "model_module_version": "1.2.0",
      "model_name": "LayoutModel",
      "state": {}
     },
     "18afd626bdcd42b3b2d5ba5eb0837c25": {
      "model_module": "@jupyter-widgets/base",
      "model_module_version": "1.2.0",
      "model_name": "LayoutModel",
      "state": {
       "width": "auto"
      }
     },
     "18f384d8c308450cb81a8f49b20e5d96": {
      "model_module": "@jupyter-widgets/controls",
      "model_module_version": "1.5.0",
      "model_name": "ButtonModel",
      "state": {
       "button_style": "danger",
       "description": "Compute",
       "icon": "check",
       "layout": "IPY_MODEL_44d501df04ce4574a2b551a57c179259",
       "style": "IPY_MODEL_f4b2d9b37d684ca98c7eefe682fc5632",
       "tooltip": "Run computation"
      }
     },
     "18f8d1f804894e359b78f5c9fabe37ea": {
      "model_module": "@jupyter-widgets/controls",
      "model_module_version": "1.5.0",
      "model_name": "VBoxModel",
      "state": {
       "children": [
        "IPY_MODEL_361e59c37a224cbc98ca9d808ad3dac2",
        "IPY_MODEL_19dd29c54a9a48cd9d0bd4aceda6b7a9"
       ],
       "layout": "IPY_MODEL_8584ee3faee2485c90fa3f6f198c4d6c"
      }
     },
     "190e269f747a448aa75ccd1039f577d1": {
      "model_module": "@jupyter-widgets/base",
      "model_module_version": "1.2.0",
      "model_name": "LayoutModel",
      "state": {
       "margin": "0 0 0 1em"
      }
     },
     "1956e4f3cc6148b2b6e9bd662c3ae540": {
      "model_module": "@jupyter-widgets/base",
      "model_module_version": "1.2.0",
      "model_name": "LayoutModel",
      "state": {
       "width": "auto"
      }
     },
     "196a15f27f0d4c3c939ac261a85e12e1": {
      "model_module": "@jupyter-widgets/controls",
      "model_module_version": "1.5.0",
      "model_name": "SelectModel",
      "state": {
       "_options_labels": [
        "..",
        "images"
       ],
       "index": null,
       "layout": "IPY_MODEL_f00e868a43794d62870986904ded3519",
       "rows": 8,
       "style": "IPY_MODEL_adb8dbf5196c49f5b09463649b162d08"
      }
     },
     "198bad6ed2614174954c4c042883b8e4": {
      "model_module": "@jupyter-widgets/controls",
      "model_module_version": "1.5.0",
      "model_name": "ToggleButtonModel",
      "state": {
       "layout": "IPY_MODEL_f280b831049e45169f0fa362c51fc7ef",
       "style": "IPY_MODEL_5c6bd2229df540c9be075b88528d30c0",
       "value": true
      }
     },
     "198dcfd710ed4b6d8db58b0add5fc629": {
      "model_module": "@jupyter-widgets/controls",
      "model_module_version": "1.5.0",
      "model_name": "ButtonStyleModel",
      "state": {}
     },
     "198e08bf76994182830763621808c197": {
      "model_module": "@jupyter-widgets/controls",
      "model_module_version": "1.5.0",
      "model_name": "VBoxModel",
      "state": {
       "children": [
        "IPY_MODEL_59b80fef65a74b4f89d402e5b83fb46c",
        "IPY_MODEL_a4a9fad427ff42a29535c39c20821347"
       ],
       "layout": "IPY_MODEL_6b745ee67ab640ec9449604b1550586a"
      }
     },
     "1997c8f3931541f9869cae92596bf66c": {
      "model_module": "@jupyter-widgets/base",
      "model_module_version": "1.2.0",
      "model_name": "LayoutModel",
      "state": {}
     },
     "19be5cc9428f4bcb9e7a5a95d06523da": {
      "model_module": "@jupyter-widgets/controls",
      "model_module_version": "1.5.0",
      "model_name": "CheckboxModel",
      "state": {
       "description": "Geoscience ANALYST Pro - Live link",
       "disabled": false,
       "indent": false,
       "layout": "IPY_MODEL_0150910219464f8e80d75b121e9c1a93",
       "style": "IPY_MODEL_2caa2e05d0ab4edb9fedc46edb718305",
       "value": false
      }
     },
     "19cb543480594d9793b6baba54c7583a": {
      "model_module": "@jupyter-widgets/controls",
      "model_module_version": "1.5.0",
      "model_name": "DescriptionStyleModel",
      "state": {
       "description_width": "initial"
      }
     },
     "19dd29c54a9a48cd9d0bd4aceda6b7a9": {
      "model_module": "@jupyter-widgets/controls",
      "model_module_version": "1.5.0",
      "model_name": "HBoxModel",
      "state": {
       "children": [
        "IPY_MODEL_ba71c705d0ed444c96fc28f7b3060bfd",
        "IPY_MODEL_6389db6d7e2b4db1b3729041f26b7f41"
       ],
       "layout": "IPY_MODEL_5489ae493c974d1e8cc86ba8916bb08f"
      }
     },
     "1a6900eb7e264bf69a4278ab7bf45a9c": {
      "model_module": "@jupyter-widgets/base",
      "model_module_version": "1.2.0",
      "model_name": "LayoutModel",
      "state": {
       "width": "auto"
      }
     },
     "1b07f059884a4d4b971efffa279d7b9b": {
      "model_module": "@jupyter-widgets/controls",
      "model_module_version": "1.5.0",
      "model_name": "DescriptionStyleModel",
      "state": {
       "description_width": "initial"
      }
     },
     "1b1d728488fd4ebbafb44b818d213adc": {
      "model_module": "@jupyter-widgets/controls",
      "model_module_version": "1.5.0",
      "model_name": "LabelModel",
      "state": {
       "layout": "IPY_MODEL_0e2042d821c344b7a33fe693fad23aa1",
       "style": "IPY_MODEL_dac8b148e35c4be292b7fcd1a03dad5f",
       "value": "Workspace"
      }
     },
     "1b84346c6c55443da62435237949430d": {
      "model_module": "@jupyter-widgets/controls",
      "model_module_version": "1.5.0",
      "model_name": "DescriptionStyleModel",
      "state": {
       "description_width": ""
      }
     },
     "1b984fdbd9b145788c74b9f6ed3da742": {
      "model_module": "@jupyter-widgets/controls",
      "model_module_version": "1.5.0",
      "model_name": "TextModel",
      "state": {
       "layout": "IPY_MODEL_bc9a62f32da84bebab79ae08fd268b08",
       "placeholder": "output filename",
       "style": "IPY_MODEL_b7455bd7008141e8ba69a94b12cb5dd7",
       "value": "FlinFlon.geoh5"
      }
     },
     "1bdf3bf256954aa39c5c5ee705d5e2d7": {
      "model_module": "@jupyter-widgets/base",
      "model_module_version": "1.2.0",
      "model_name": "LayoutModel",
      "state": {
       "width": "75%"
      }
     },
     "1c5302ee8b91424d919ca4fdaa304631": {
      "model_module": "@jupyter-widgets/controls",
      "model_module_version": "1.5.0",
      "model_name": "DropdownModel",
      "state": {
       "_options_labels": [
        "C:\\Users\\dominiquef\\Documents\\GIT\\mira\\geoapps\\assets",
        "C:\\Users\\dominiquef\\Documents\\GIT\\mira\\geoapps",
        "C:\\Users\\dominiquef\\Documents\\GIT\\mira",
        "C:\\Users\\dominiquef\\Documents\\GIT",
        "C:\\Users\\dominiquef\\Documents",
        "C:\\Users\\dominiquef",
        "C:\\Users",
        "C:\\",
        "D:\\",
        "Z:\\"
       ],
       "index": 0,
       "layout": "IPY_MODEL_1e080dfc2a874b04a776595288273905",
       "style": "IPY_MODEL_59f0a676565e47aab111d025151c105d"
      }
     },
     "1c8b5e74d3674061a1a92dabca6936eb": {
      "model_module": "@jupyter-widgets/base",
      "model_module_version": "1.2.0",
      "model_name": "LayoutModel",
      "state": {}
     },
     "1cbf3f1df5b9436db3b10e3e41c0b5cb": {
      "model_module": "@jupyter-widgets/base",
      "model_module_version": "1.2.0",
      "model_name": "LayoutModel",
      "state": {}
     },
     "1d54e797ea9945d190b56b7e4b8c0d2b": {
      "model_module": "@jupyter-widgets/base",
      "model_module_version": "1.2.0",
      "model_name": "LayoutModel",
      "state": {
       "display": "none",
       "min_width": "6em",
       "width": "6em"
      }
     },
     "1d5b41ddab4f47acb1e8073f5a2c6f8d": {
      "model_module": "@jupyter-widgets/base",
      "model_module_version": "1.2.0",
      "model_name": "LayoutModel",
      "state": {}
     },
     "1d7dd1123bd6485db025a0ea2c84f382": {
      "model_module": "@jupyter-widgets/base",
      "model_module_version": "1.2.0",
      "model_name": "LayoutModel",
      "state": {
       "display": "none",
       "grid_gap": "0px 0px",
       "grid_template_areas": "\n                    'pathlist filename'\n                    'dircontent dircontent'\n                    ",
       "grid_template_columns": "60% 40%",
       "grid_template_rows": "auto auto",
       "width": "500px"
      }
     },
     "1dbf9cb1bcd5443180c5c659ba1fa244": {
      "model_module": "@jupyter-widgets/controls",
      "model_module_version": "1.5.0",
      "model_name": "DescriptionStyleModel",
      "state": {
       "description_width": ""
      }
     },
     "1e080dfc2a874b04a776595288273905": {
      "model_module": "@jupyter-widgets/base",
      "model_module_version": "1.2.0",
      "model_name": "LayoutModel",
      "state": {
       "grid_area": "pathlist",
       "width": "auto"
      }
     },
     "1e083171df5847a6bdb11da025808dd1": {
      "model_module": "@jupyter-widgets/controls",
      "model_module_version": "1.5.0",
      "model_name": "ButtonModel",
      "state": {
       "button_style": "danger",
       "description": "Compute",
       "icon": "check",
       "layout": "IPY_MODEL_1997c8f3931541f9869cae92596bf66c",
       "style": "IPY_MODEL_3a181e31c5e84956a80bc58c84caff9e",
       "tooltip": "Run computation"
      }
     },
     "1e283bb609ce4ccdb21c5c240fafbf84": {
      "model_module": "@jupyter-widgets/base",
      "model_module_version": "1.2.0",
      "model_name": "LayoutModel",
      "state": {
       "grid_area": "pathlist",
       "width": "auto"
      }
     },
     "1e2c128e25684875adad2f98e80b7ba0": {
      "model_module": "@jupyter-widgets/base",
      "model_module_version": "1.2.0",
      "model_name": "LayoutModel",
      "state": {}
     },
     "1e5cd0f262af4377aef3cdbbdcf06fc2": {
      "model_module": "@jupyter-widgets/base",
      "model_module_version": "1.2.0",
      "model_name": "LayoutModel",
      "state": {}
     },
     "1ec469fc7ff24bdcb77cfea067f08c9b": {
      "model_module": "@jupyter-widgets/controls",
      "model_module_version": "1.5.0",
      "model_name": "HTMLModel",
      "state": {
       "layout": "IPY_MODEL_c26eb6330bac4dccaaaa50881e797cfc",
       "style": "IPY_MODEL_3ef9a8729af44a69a64ba1c4764abc9b"
      }
     },
     "1ec87652b12846599205422493eb23af": {
      "model_module": "@jupyter-widgets/base",
      "model_module_version": "1.2.0",
      "model_name": "LayoutModel",
      "state": {}
     },
     "1f1ef62e70754b21bd1ae41d8d6e6f4a": {
      "model_module": "@jupyter-widgets/base",
      "model_module_version": "1.2.0",
      "model_name": "LayoutModel",
      "state": {}
     },
     "1fbebabadfdb4f3b9b44b6c30552581a": {
      "model_module": "@jupyter-widgets/controls",
      "model_module_version": "1.5.0",
      "model_name": "DescriptionStyleModel",
      "state": {
       "description_width": ""
      }
     },
     "1fbfd404646d48a1b8645a46d8a9ce1e": {
      "model_module": "@jupyter-widgets/base",
      "model_module_version": "1.2.0",
      "model_name": "LayoutModel",
      "state": {
       "display": "none",
       "grid_gap": "0px 0px",
       "grid_template_areas": "\n                    'pathlist filename'\n                    'dircontent dircontent'\n                    ",
       "grid_template_columns": "60% 40%",
       "grid_template_rows": "auto auto",
       "width": "500px"
      }
     },
     "1fdfa714dc1445f3a9d6fdcaaa14e84e": {
      "model_module": "@jupyter-widgets/base",
      "model_module_version": "1.2.0",
      "model_name": "LayoutModel",
      "state": {}
     },
     "215536066e5145faaab7385fb069fa1b": {
      "model_module": "@jupyter-widgets/base",
      "model_module_version": "1.2.0",
      "model_name": "LayoutModel",
      "state": {
       "display": "none"
      }
     },
     "220ab9a8dac349299b2076408c68894c": {
      "model_module": "@jupyter-widgets/base",
      "model_module_version": "1.2.0",
      "model_name": "LayoutModel",
      "state": {
       "width": "auto"
      }
     },
     "226a4efde6be47d0828a16ced9f607b0": {
      "model_module": "@jupyter-widgets/controls",
      "model_module_version": "1.5.0",
      "model_name": "ButtonStyleModel",
      "state": {}
     },
     "229b42425b2d48bea6cc6c195452291c": {
      "model_module": "@jupyter-widgets/base",
      "model_module_version": "1.2.0",
      "model_name": "LayoutModel",
      "state": {}
     },
     "22a6978ca2024c258f56ee9b92f6d2e7": {
      "model_module": "@jupyter-widgets/base",
      "model_module_version": "1.2.0",
      "model_name": "LayoutModel",
      "state": {
       "margin": "0 0 0 1em"
      }
     },
     "22b1de6ee8c043ed9103841e016834df": {
      "model_module": "@jupyter-widgets/controls",
      "model_module_version": "1.5.0",
      "model_name": "DescriptionStyleModel",
      "state": {
       "description_width": "initial"
      }
     },
     "22e1be5b106d4433883f29d9ec2e36b5": {
      "model_module": "@jupyter-widgets/controls",
      "model_module_version": "1.5.0",
      "model_name": "HBoxModel",
      "state": {
       "children": [
        "IPY_MODEL_ee016868fa6b49ee9f2690ed2545c6b6",
        "IPY_MODEL_7689493bf8f24d7eb399b58237504f84"
       ],
       "layout": "IPY_MODEL_b9bddf1ea4a24166b582aea298227b35"
      }
     },
     "239c5030c20040cfa6572e0b2cb6cf97": {
      "model_module": "@jupyter-widgets/controls",
      "model_module_version": "1.5.0",
      "model_name": "SelectMultipleModel",
      "state": {
       "_options_labels": [
        "Ho",
        "CaO",
        "Hf",
        "Be",
        "Mo",
        "Visual Parameters",
        "Se",
        "Bi",
        "Tb",
        "Cs",
        "In",
        "Dy",
        "MgO",
        "Cl",
        "Ni",
        "Hg",
        "SUM",
        "Co",
        "Tm",
        "Ta",
        "Pb",
        "U",
        "Cr",
        "Y_",
        "Zn",
        "Sn",
        "Na2O",
        "Ce",
        "Eu",
        "Cd",
        "Sr",
        "Zr",
        "Ir",
        "Cu",
        "K2O",
        "LOI",
        "Er",
        "Nb",
        "Ctot",
        "Ti",
        "Sm",
        "Ni2",
        "Cr2O3",
        "V",
        "Ge",
        "Nd",
        "Lu",
        "TiO2",
        "F",
        "W",
        "Ag",
        "Rb",
        "Stot",
        "As",
        "La",
        "Tl",
        "Th",
        "Sc",
        "Fe2O3",
        "Yb",
        "Ba",
        "Al2O3",
        "Sb",
        "MnO",
        "Li",
        "Au",
        "Ga",
        "Pr",
        "SiO2",
        "interval_length",
        "Gd",
        "P2O5",
        "NewChannel"
       ],
       "description": "Data: ",
       "index": [],
       "layout": "IPY_MODEL_e64c797f7d424a72be8fc172bcb9e48a",
       "rows": 5,
       "style": "IPY_MODEL_4ab2bfb832fa4c81a37dd7c9722cc91c"
      }
     },
     "23de7847082c4a8f88f717421927d5fe": {
      "model_module": "@jupyter-widgets/base",
      "model_module_version": "1.2.0",
      "model_name": "LayoutModel",
      "state": {
       "width": "500px"
      }
     },
     "2447c4c7b01e428a8a622d4cb2d55334": {
      "model_module": "@jupyter-widgets/base",
      "model_module_version": "1.2.0",
      "model_name": "LayoutModel",
      "state": {
       "display": "none",
       "grid_gap": "0px 0px",
       "grid_template_areas": "\n                    'pathlist filename'\n                    'dircontent dircontent'\n                    ",
       "grid_template_columns": "60% 40%",
       "grid_template_rows": "auto auto",
       "width": "500px"
      }
     },
     "245677cb3d33497ea51c64c461250ad9": {
      "model_module": "@jupyter-widgets/controls",
      "model_module_version": "1.5.0",
      "model_name": "VBoxModel",
      "state": {
       "children": [
        "IPY_MODEL_0d7a87a486c141fb852ee02e8efc58a5",
        "IPY_MODEL_a00406a54072412d90de6b5a01296454",
        "IPY_MODEL_e360d40446244be9a217ebffe41fd68c"
       ],
       "layout": "IPY_MODEL_605fd286a45f4b1f913fd424d26a0673"
      }
     },
     "2462ce4fed3f45158519c86541be3c75": {
      "model_module": "@jupyter-widgets/base",
      "model_module_version": "1.2.0",
      "model_name": "LayoutModel",
      "state": {}
     },
     "24d899b4eb1d4ec58d6445a041507f17": {
      "model_module": "@jupyter-widgets/controls",
      "model_module_version": "1.5.0",
      "model_name": "VBoxModel",
      "state": {
       "children": [
        "IPY_MODEL_aa6ec75f0de942a58dc1e399e3d89947",
        "IPY_MODEL_0f45e8c0f92845a38e8f9a577abed516",
        "IPY_MODEL_4c63f6fd7ec646bd80387de7e5fec4a4",
        "IPY_MODEL_69451450994e4486923635cabb39d8a5"
       ],
       "layout": "IPY_MODEL_81aebae6d41b4ae89d5a3f6ca1bd378c"
      }
     },
     "250ba6c57845450fb01c115448f6684a": {
      "model_module": "@jupyter-widgets/base",
      "model_module_version": "1.2.0",
      "model_name": "LayoutModel",
      "state": {}
     },
     "25f6dc24f7de4e339f0d02e23b0810bb": {
      "model_module": "@jupyter-widgets/controls",
      "model_module_version": "1.5.0",
      "model_name": "HBoxModel",
      "state": {
       "children": [
        "IPY_MODEL_8a9da51d5b434e34825144c9fbff0427",
        "IPY_MODEL_e84dad1ba6bd4010925e532fca56b773",
        "IPY_MODEL_e68944fc50b64949b710f3036b311945"
       ],
       "layout": "IPY_MODEL_ccdc2690f4c0429795335cf7ce96b9b2"
      }
     },
     "260d4360e5fa4421894bf5c365dae5a3": {
      "model_module": "@jupyter-widgets/base",
      "model_module_version": "1.2.0",
      "model_name": "LayoutModel",
      "state": {
       "display": "none",
       "min_width": "6em",
       "width": "6em"
      }
     },
     "261c6d5602484279beb24f5ecbf3b5a4": {
      "model_module": "@jupyter-widgets/controls",
      "model_module_version": "1.5.0",
      "model_name": "HTMLModel",
      "state": {
       "layout": "IPY_MODEL_a012a134fcc84290bb3c7f7bac297ae9",
       "style": "IPY_MODEL_3c4e9b01455c487bac101f7158161a64"
      }
     },
     "2638f1cf268e4bf4a485fd65bd7329c6": {
      "model_module": "@jupyter-widgets/controls",
      "model_module_version": "1.5.0",
      "model_name": "DescriptionStyleModel",
      "state": {
       "description_width": ""
      }
     },
     "2644bbd4bfe6430a8fe931b6a25f88e5": {
      "model_module": "@jupyter-widgets/base",
      "model_module_version": "1.2.0",
      "model_name": "LayoutModel",
      "state": {
       "width": "100%"
      }
     },
     "2685333a0d3741bb9c8278889556fc3d": {
      "model_module": "@jupyter-widgets/base",
      "model_module_version": "1.2.0",
      "model_name": "LayoutModel",
      "state": {
       "grid_area": "dircontent",
       "width": "auto"
      }
     },
     "2686b4d14c284bf99e1cdc04ee8014cc": {
      "model_module": "@jupyter-widgets/base",
      "model_module_version": "1.2.0",
      "model_name": "LayoutModel",
      "state": {}
     },
     "26a6531b46db40d6b96d50dcccd94405": {
      "model_module": "@jupyter-widgets/base",
      "model_module_version": "1.2.0",
      "model_name": "LayoutModel",
      "state": {}
     },
     "26c09a8b01664f728b147de18aaef986": {
      "model_module": "@jupyter-widgets/controls",
      "model_module_version": "1.5.0",
      "model_name": "ButtonStyleModel",
      "state": {}
     },
     "270ccf33207d4d5a8fd77725e614f7db": {
      "model_module": "@jupyter-widgets/base",
      "model_module_version": "1.2.0",
      "model_name": "LayoutModel",
      "state": {}
     },
     "2718227f4c7e4cc7bf77c30bea8fbfe4": {
      "model_module": "@jupyter-widgets/controls",
      "model_module_version": "1.5.0",
      "model_name": "DescriptionStyleModel",
      "state": {
       "description_width": ""
      }
     },
     "27aa1487b85d46ca933795392cc25102": {
      "model_module": "@jupyter-widgets/controls",
      "model_module_version": "1.5.0",
      "model_name": "ButtonModel",
      "state": {
       "description": ">> Add Variable >>",
       "layout": "IPY_MODEL_eb4e457602ff425bb3675e48ffeecde0",
       "style": "IPY_MODEL_cd11c40e3fd54854bf808d94503dfc9c"
      }
     },
     "281f97b360e14341a8ac52dc5927290a": {
      "model_module": "@jupyter-widgets/controls",
      "model_module_version": "1.5.0",
      "model_name": "DescriptionStyleModel",
      "state": {
       "description_width": ""
      }
     },
     "286a4159435241d58167710b6290ac3d": {
      "model_module": "@jupyter-widgets/controls",
      "model_module_version": "1.5.0",
      "model_name": "ButtonStyleModel",
      "state": {}
     },
     "2906e466e4d04ee5af8311d320c254eb": {
      "model_module": "@jupyter-widgets/controls",
      "model_module_version": "1.5.0",
      "model_name": "SelectModel",
      "state": {
       "_options_labels": [
        "..",
        "dask-worker-space",
        "images"
       ],
       "index": null,
       "layout": "IPY_MODEL_af67ce5e8f044426bd7d9eda9756eef6",
       "rows": 8,
       "style": "IPY_MODEL_f4f67178a8a4499585408de1ec3a35c0"
      }
     },
     "2a274f41afbe4b118484cd0c5b8338db": {
      "model_module": "@jupyter-widgets/controls",
      "model_module_version": "1.5.0",
      "model_name": "DescriptionStyleModel",
      "state": {
       "description_width": "initial"
      }
     },
     "2a73c72d4b3c4d51bd637b3f3c1e59e9": {
      "model_module": "@jupyter-widgets/base",
      "model_module_version": "1.2.0",
      "model_name": "LayoutModel",
      "state": {}
     },
     "2ab1957e5e044fdd8cba0ea99b17e4b6": {
      "model_module": "@jupyter-widgets/base",
      "model_module_version": "1.2.0",
      "model_name": "LayoutModel",
      "state": {
       "width": "75%"
      }
     },
     "2b113ad4bd02424498eb4072f41a55c5": {
      "model_module": "@jupyter-widgets/controls",
      "model_module_version": "1.5.0",
      "model_name": "ButtonModel",
      "state": {
       "description": "Change",
       "layout": "IPY_MODEL_1329c2ae317a400198024ff1391e1b82",
       "style": "IPY_MODEL_0d896b0ad7034847b5c65ad2ebc04a87"
      }
     },
     "2b21d7d953ff4a8691e75c81e8e5b0f2": {
      "model_module": "@jupyter-widgets/controls",
      "model_module_version": "1.5.0",
      "model_name": "DescriptionStyleModel",
      "state": {
       "description_width": ""
      }
     },
     "2b46b552a8004e67b7b792e4eed04971": {
      "model_module": "@jupyter-widgets/base",
      "model_module_version": "1.2.0",
      "model_name": "LayoutModel",
      "state": {}
     },
     "2bb38cfc1a6c4f7a92fcce071a09b9be": {
      "model_module": "@jupyter-widgets/base",
      "model_module_version": "1.2.0",
      "model_name": "LayoutModel",
      "state": {}
     },
     "2bb99989126e43e58ee2970fc5f6a862": {
      "model_module": "@jupyter-widgets/base",
      "model_module_version": "1.2.0",
      "model_name": "LayoutModel",
      "state": {}
     },
     "2bfb2bd12da64f88989e059836f54c20": {
      "model_module": "@jupyter-widgets/controls",
      "model_module_version": "1.5.0",
      "model_name": "VBoxModel",
      "state": {
       "children": [
        "IPY_MODEL_59b80fef65a74b4f89d402e5b83fb46c",
        "IPY_MODEL_be2a9650a6a04401aad03527b1134f1b"
       ],
       "layout": "IPY_MODEL_1fdfa714dc1445f3a9d6fdcaaa14e84e"
      }
     },
     "2c3580dea4e94fafad669f267d1f99ee": {
      "model_module": "@jupyter-widgets/base",
      "model_module_version": "1.2.0",
      "model_name": "LayoutModel",
      "state": {}
     },
     "2c4b7757652e4dc2bac6a9b2983aa49c": {
      "model_module": "@jupyter-widgets/controls",
      "model_module_version": "1.5.0",
      "model_name": "VBoxModel",
      "state": {
       "children": [
        "IPY_MODEL_6028ae5e4b894532b1b2429f187185df",
        "IPY_MODEL_e89266a333af4596bb1df459010cc5a9"
       ],
       "layout": "IPY_MODEL_65b3fedb298c436eb889d80ea34fc3bc"
      }
     },
     "2c662785f5454e5eaf680bd368b27b76": {
      "model_module": "@jupyter-widgets/controls",
      "model_module_version": "1.5.0",
      "model_name": "SelectModel",
      "state": {
       "_options_labels": [
        "..",
        "Temp",
        "FlinFlon.geoh5",
        "Inversion_.json",
        "MtDore_TMI.geoh5"
       ],
       "index": 2,
       "layout": "IPY_MODEL_47f792cfd90a4f1aa7b93fd332ab98a4",
       "rows": 8,
       "style": "IPY_MODEL_bbcd43cacf4d4ccbbd43e3ae93e5a7ac"
      }
     },
     "2c78f2ba45c54ce7a617f2c1c63322f3": {
      "model_module": "@jupyter-widgets/base",
      "model_module_version": "1.2.0",
      "model_name": "LayoutModel",
      "state": {
       "display": "none"
      }
     },
     "2caa2e05d0ab4edb9fedc46edb718305": {
      "model_module": "@jupyter-widgets/controls",
      "model_module_version": "1.5.0",
      "model_name": "DescriptionStyleModel",
      "state": {
       "description_width": "initial"
      }
     },
     "2d0b838b398a4428aa23ff4dbf674bad": {
      "model_module": "@jupyter-widgets/base",
      "model_module_version": "1.2.0",
      "model_name": "LayoutModel",
      "state": {}
     },
     "2d0bcb2a80d9443fa8eb8e118ce404ce": {
      "model_module": "@jupyter-widgets/controls",
      "model_module_version": "1.5.0",
      "model_name": "DescriptionStyleModel",
      "state": {
       "description_width": "initial"
      }
     },
     "2d6da41546b54437915a80335679dd1e": {
      "model_module": "@jupyter-widgets/controls",
      "model_module_version": "1.5.0",
      "model_name": "SelectModel",
      "state": {
       "_options_labels": [
        "..",
        "SimPEG_PFInversion",
        "Temp",
        "dask-worker-space",
        "FlinFlon.geoh5",
        "HelloWorld.ui.json",
        "Inversion_.json",
        "Inversion_1.json",
        "Inversion_2.json",
        "MtDore_TMI.geoh5",
        "Octree_Mesh.ui.json",
        "Untitled.ipynb",
        "VTEM_model.mod",
        "Workspace.Gravity_Magnetics_drape60m_Airborne_Gxx.tif",
        "Workspace.Gravity_Magnetics_drape60m_Airborne_Gxx_Colorbar.png",
        "Workspace.Gravity_Magnetics_drape60m_Airborne_Gxx_RGB.txt",
        "Workspace.Gravity_Magnetics_drape60m_Airborne_TMI.tif",
        "Workspace.Gravity_Magnetics_drape60m_Airborne_TMI_Colorbar.png",
        "Workspace.Gravity_Magnetics_drape60m_Airborne_TMI_RGB.txt",
        "demo.ipynb",
        "input.ui.json",
        "options_tree.json",
        "tempui.ui.geoh5",
        "tempui.ui.json",
        "test.ui.geoh5",
        "test.ui.json",
        "testPoints.geoh5"
       ],
       "index": 4,
       "layout": "IPY_MODEL_416be20170e440b58ce40eb146f993ba",
       "rows": 8,
       "style": "IPY_MODEL_1fbebabadfdb4f3b9b44b6c30552581a"
      }
     },
     "2e6413e202c048689777a1882ef00471": {
      "model_module": "@jupyter-widgets/controls",
      "model_module_version": "1.5.0",
      "model_name": "DescriptionStyleModel",
      "state": {
       "description_width": "initial"
      }
     },
     "2ecc0f1a919e43e7a6ebbeef603238e5": {
      "model_module": "@jupyter-widgets/controls",
      "model_module_version": "1.5.0",
      "model_name": "HBoxModel",
      "state": {
       "children": [
        "IPY_MODEL_517c02bc3cda432a930abb1ee3b38b9c",
        "IPY_MODEL_39dcf433f84f42c488564d5710521b63"
       ],
       "layout": "IPY_MODEL_270ccf33207d4d5a8fd77725e614f7db"
      }
     },
     "2f8c499df99145cd9ad2ab9268c66a63": {
      "model_module": "@jupyter-widgets/controls",
      "model_module_version": "1.5.0",
      "model_name": "SelectModel",
      "state": {
       "_options_labels": [
        "..",
        "dask-worker-space",
        "images"
       ],
       "index": null,
       "layout": "IPY_MODEL_938efa44f7604c8b83ff48444e58fdd6",
       "rows": 8,
       "style": "IPY_MODEL_7e4fb161edb84c59860d34a1669029d3"
      }
     },
     "304a27ea26cd4290942ad71ff79ad565": {
      "model_module": "@jupyter-widgets/controls",
      "model_module_version": "1.5.0",
      "model_name": "DescriptionStyleModel",
      "state": {
       "description_width": "initial"
      }
     },
     "3112e43e26134edaaacf7187bae5ed5a": {
      "model_module": "@jupyter-widgets/base",
      "model_module_version": "1.2.0",
      "model_name": "LayoutModel",
      "state": {
       "display": "none",
       "width": "auto"
      }
     },
     "318d75d07c3240d5a94ed37676a0bd7c": {
      "model_module": "@jupyter-widgets/base",
      "model_module_version": "1.2.0",
      "model_name": "LayoutModel",
      "state": {}
     },
     "3201b4a1f0ad42938d706ea8968b430a": {
      "model_module": "@jupyter-widgets/base",
      "model_module_version": "1.2.0",
      "model_name": "LayoutModel",
      "state": {}
     },
     "321a61ce512b46f985befbd86391a41c": {
      "model_module": "@jupyter-widgets/controls",
      "model_module_version": "1.5.0",
      "model_name": "DropdownModel",
      "state": {
       "_options_labels": [
        "",
        "CDI/ELEV_surface",
        "CDI/CDI_",
        "CDI/COND[23]_surface",
        "CDI/COND[21]_surface",
        "CDI/COND[21]_surface",
        "CDI/COND[23]_surface",
        "CDI/COND[11]_surface",
        "CDI/ELEV_surface",
        "CDI/COND[11]_surface",
        "CDI/CDI_",
        "CDI/ELEV[4]_surface",
        "CDI/ELEV[4]_surface",
        "ISO/Iso_Iteration_7_model_2_50e-03",
        "ISO/Iso_Iteration_7_model_1_00e-02",
        "ISO/Iso_Iteration_7_model_1_50e-02",
        "ISO/Iso_Iteration_7_model_5_00e-03",
        "ISO/Iso_Iteration_7_model_2_00e-02",
        "CoordinateTransformation/Data_TEM_pseudo3DEPSG_4326",
        "CoordinateTransformation/Gravity_Magnetics_drape60mEPSG_4326",
        "CoordinateTransformation/Gravity_Magnetics_drape60mEPSG_4326",
        "CoordinateTransformation/Data_TEM_pseudo3DEPSG_4326",
        "Faults_Dikes/fault_splay1",
        "Faults_Dikes/fault_Cliff_Lake",
        "Faults_Dikes/fault_Other_FlinFlon",
        "Faults_Dikes/fault_Club_Lake_splay",
        "Faults_Dikes/fault_Catherine_splay2",
        "Faults_Dikes/fault_Birch_View",
        "Faults_Dikes/fault_Dion_Lake",
        "Faults_Dikes/fault_FlinFlon_splay",
        "Faults_Dikes/fault_West_Mandy_Road",
        "Faults_Dikes/fault_Channing",
        "Faults_Dikes/fault_Ross_Lake",
        "Faults_Dikes/fault_Louis_Hidden",
        "Faults_Dikes/fault_Lake_View_thrust",
        "Faults_Dikes/contact_Schist_Lake",
        "Faults_Dikes/fault_Burley_Lake",
        "Faults_Dikes/fault_Dion_Lake_splay",
        "Faults_Dikes/fault_Green_Lake",
        "Faults_Dikes/fault_FlinFlon",
        "Faults_Dikes/fault_Catherine_splay1",
        "Faults_Dikes/fault_East_Mandy_Road",
        "Faults_Dikes/fault_Other_FlinFlon_South",
        "Faults_Dikes/fault_Catherine_splay4",
        "Faults_Dikes/contact_Stitt_Island",
        "Faults_Dikes/fault_Club_Lake",
        "Faults_Dikes/fault_Tailing_Pond",
        "Horizons/35_Hidden_Reservoir_Hr5",
        "Horizons/29_Hidden_Reservoir_Hr1a",
        "Horizons/60_BlueLagoon_Fb2",
        "Horizons/20_FlinFlon_Undivided_Int_Dykes_D2f",
        "Horizons/04_Boundary_Intrusive_S4h",
        "Horizons/53_Millrock_Rhyolite_Fm4b",
        "Horizons/19_FlinFlon_Undivided_Int_Dykes_D2b",
        "Horizons/18_FlinFlon_Undivided_Int_Dykes_777_D2b",
        "Horizons/06_Phantom_Lake_Intrusive_S3a",
        "Horizons/21_FlinFlon_Undivided_Int_Dykes_D3a",
        "Horizons/43_Millrock_CHLSH_South",
        "Horizons/56_Millrock_Basalt_Fm1ba",
        "Horizons/17_FlinFlon_Undivided_Int_Dykes_D2",
        "Horizons/32_Hidden_Reservoir_Hr1b_SW",
        "Horizons/11_Missi_M3_NE",
        "Horizons/13_Missi_M1",
        "Horizons/07_Annabel_Granitoid_S1",
        "Horizons/45_Millrock_Gabbro_South",
        "Horizons/01_Late_Intrusive_S5b",
        "Horizons/31_Hidden_Reservoir_Hr1c_SW",
        "Horizons/52_Millrock_Rhyolite_Fm4_West_check",
        "Horizons/55_Millrock_Basalt_Fm1bf",
        "Horizons/34_Hidden_Reservoir_Hr2b",
        "Horizons/03_Boundary_Intrusive_S4b",
        "Horizons/42_Millrock_CHLSH_North",
        "Horizons/26_Louis_L3",
        "Horizons/23_FlinFlon_Undivided_Int_Felsic_D4g",
        "Horizons/30_Hidden_Reservoir_Hr1b",
        "Horizons/59_BlueLagoon_Fb3",
        "Horizons/49_Millrock_MVR_Fm5d",
        "Horizons/44_Millrock_Gabbro_North",
        "Horizons/27_Hidden_Carlisle_Hc4",
        "Horizons/22_FlinFlon_Undivided_Int_Felsic_D4e",
        "Horizons/02_Boundary_Intrusive_S4a",
        "Horizons/61_BlueLagoon_Fb1_NW",
        "Horizons/05_Boundary_Intrusive_S4g",
        "Ore/39_Ore_Callinan",
        "Ore/38_Ore_Dan_Owens",
        "Ore/40_Ore_FlinFlon",
        "Workspace/InterpGrid",
        "Workspace/Inversion_VTEM_Model",
        "Workspace/Gravity_Magnetics_drape60m",
        "Workspace/InterpGrid",
        "Workspace/CDI_VTEM_model",
        "Workspace/Data_FEM_pseudo3D",
        "Workspace/O2O_Interp_25m",
        "Workspace/geochem",
        "Workspace/Inversion_DIGHEM_Model",
        "Workspace/Topography",
        "Workspace/Data_TEM_pseudo3D",
        "Workspace/Data_ZTEM",
        "Workspace/Mesh"
       ],
       "description": "Object:",
       "index": 93,
       "layout": "IPY_MODEL_6b5cd705a32742cc8af6a1d6c4cd8f51",
       "style": "IPY_MODEL_930b52cb59654e86b31a8d99ab354302"
      }
     },
     "323726a524f44262a99fd9eabc6cf674": {
      "model_module": "@jupyter-widgets/base",
      "model_module_version": "1.2.0",
      "model_name": "LayoutModel",
      "state": {}
     },
     "328569246f9f4819a676b9e58bc4b548": {
      "model_module": "@jupyter-widgets/controls",
      "model_module_version": "1.5.0",
      "model_name": "VBoxModel",
      "state": {
       "children": [
        "IPY_MODEL_79cfa2ab02d74527b33cdbc1c39c483e",
        "IPY_MODEL_92101be0476840ff8c09ef89bd227c95"
       ],
       "layout": "IPY_MODEL_41269227b362482fb54892a2d58ef267"
      }
     },
     "32ce97bce80448b1ae881a3c741abb19": {
      "model_module": "@jupyter-widgets/controls",
      "model_module_version": "1.5.0",
      "model_name": "ButtonModel",
      "state": {
       "description": "Create copy:",
       "layout": "IPY_MODEL_1e2c128e25684875adad2f98e80b7ba0",
       "style": "IPY_MODEL_48a95879cfc74dccb1259275251685e5"
      }
     },
     "32dd20faa17c4a98954dcc9ab43431e6": {
      "model_module": "@jupyter-widgets/base",
      "model_module_version": "1.2.0",
      "model_name": "LayoutModel",
      "state": {}
     },
     "3372f4c28c57494293754240c7f69377": {
      "model_module": "@jupyter-widgets/controls",
      "model_module_version": "1.5.0",
      "model_name": "VBoxModel",
      "state": {
       "children": [
        "IPY_MODEL_eda134e78d894bcf913845ba0d9d4e3c",
        "IPY_MODEL_4250f792592342ab8daa728aef2503b5"
       ],
       "layout": "IPY_MODEL_6963d4cf515d49b48afbb4bd6c2e21c5"
      }
     },
     "33c7dff4162c4a5795cee2fda3b1d0c9": {
      "model_module": "@jupyter-widgets/controls",
      "model_module_version": "1.5.0",
      "model_name": "ButtonStyleModel",
      "state": {}
     },
     "33e602fb73f54b7da48d1a71dfab65e0": {
      "model_module": "@jupyter-widgets/controls",
      "model_module_version": "1.5.0",
      "model_name": "VBoxModel",
      "state": {
       "children": [
        "IPY_MODEL_dffa8a5ba38748c89e9da3601389325d",
        "IPY_MODEL_c3c1e6ad4a9f494987da0807bb2f45da"
       ],
       "layout": "IPY_MODEL_65ae2c73d06f4c3ba4e6ca33fe1cbaaa"
      }
     },
     "3405a4e26dfe4ab8867a37ae0961d7f2": {
      "model_module": "@jupyter-widgets/controls",
      "model_module_version": "1.5.0",
      "model_name": "ButtonStyleModel",
      "state": {}
     },
     "34150c05ccc84f8988a62d98ac1da524": {
      "model_module": "@jupyter-widgets/controls",
      "model_module_version": "1.5.0",
      "model_name": "DescriptionStyleModel",
      "state": {
       "description_width": "initial"
      }
     },
     "347688dc2d714319a76242e4d954882d": {
      "model_module": "@jupyter-widgets/controls",
      "model_module_version": "1.5.0",
      "model_name": "HTMLModel",
      "state": {
       "layout": "IPY_MODEL_cc8aedb345d546e8ba3edac9b19e27ed",
       "placeholder": "",
       "style": "IPY_MODEL_11e39cc1983c40b0a242b948f16d1834",
       "value": "<span style=\"margin-left:10px; color:black;\">No file selected</span>"
      }
     },
     "3483b506ea8f437fac1624883af7e992": {
      "model_module": "@jupyter-widgets/base",
      "model_module_version": "1.2.0",
      "model_name": "LayoutModel",
      "state": {
       "grid_area": "dircontent",
       "width": "auto"
      }
     },
     "34cbac5cb3f74789bf338c73a7f41b4c": {
      "model_module": "@jupyter-widgets/base",
      "model_module_version": "1.2.0",
      "model_name": "LayoutModel",
      "state": {}
     },
     "350dc37f729b41f99a98d1f6117049ee": {
      "model_module": "@jupyter-widgets/base",
      "model_module_version": "1.2.0",
      "model_name": "LayoutModel",
      "state": {
       "display": "none"
      }
     },
     "3556845a85e644bd8439e1b21e4e9f15": {
      "model_module": "@jupyter-widgets/base",
      "model_module_version": "1.2.0",
      "model_name": "LayoutModel",
      "state": {
       "width": "75%"
      }
     },
     "356594cf4ee94fbeb810a1a3b2ddce7c": {
      "model_module": "@jupyter-widgets/base",
      "model_module_version": "1.2.0",
      "model_name": "LayoutModel",
      "state": {
       "display": "none",
       "width": "auto"
      }
     },
     "35a90f0fae32415da4ce6603a5388454": {
      "model_module": "@jupyter-widgets/controls",
      "model_module_version": "1.5.0",
      "model_name": "DescriptionStyleModel",
      "state": {
       "description_width": ""
      }
     },
     "35daf9bb5512405686a4e390f5d6f674": {
      "model_module": "@jupyter-widgets/controls",
      "model_module_version": "1.5.0",
      "model_name": "HBoxModel",
      "state": {
       "children": [
        "IPY_MODEL_d6846bdf76654da4a8d73d0e1f713363",
        "IPY_MODEL_d90308ec208844fe9c32b1084b097c7a",
        "IPY_MODEL_aa72627d66794acda79c2b06847d1e90"
       ],
       "layout": "IPY_MODEL_175b448959aa4be6819ab592106c80e4"
      }
     },
     "35dd25dfc9e840f9b342a14d0dc79b31": {
      "model_module": "@jupyter-widgets/controls",
      "model_module_version": "1.5.0",
      "model_name": "DescriptionStyleModel",
      "state": {
       "description_width": "initial"
      }
     },
     "36074434530846d7b7321c81d3ec5cfa": {
      "model_module": "@jupyter-widgets/base",
      "model_module_version": "1.2.0",
      "model_name": "LayoutModel",
      "state": {
       "display": "none"
      }
     },
     "360a36b6f1f54c14bd9254ca1b3acd68": {
      "model_module": "@jupyter-widgets/base",
      "model_module_version": "1.2.0",
      "model_name": "LayoutModel",
      "state": {
       "display": "none",
       "grid_gap": "0px 0px",
       "grid_template_areas": "\n                    'pathlist filename'\n                    'dircontent dircontent'\n                    ",
       "grid_template_columns": "60% 40%",
       "grid_template_rows": "auto auto",
       "width": "auto"
      }
     },
     "3616530987684bed8359f61653a1885b": {
      "model_module": "@jupyter-widgets/controls",
      "model_module_version": "1.5.0",
      "model_name": "DescriptionStyleModel",
      "state": {
       "description_width": ""
      }
     },
     "36173b0a0f9047248729db9a20217870": {
      "model_module": "@jupyter-widgets/base",
      "model_module_version": "1.2.0",
      "model_name": "LayoutModel",
      "state": {
       "display": "none",
       "grid_gap": "0px 0px",
       "grid_template_areas": "\n                    'pathlist filename'\n                    'dircontent dircontent'\n                    ",
       "grid_template_columns": "60% 40%",
       "grid_template_rows": "auto auto",
       "width": "auto"
      }
     },
     "361e59c37a224cbc98ca9d808ad3dac2": {
      "model_module": "@jupyter-widgets/controls",
      "model_module_version": "1.5.0",
      "model_name": "LabelModel",
      "state": {
       "layout": "IPY_MODEL_998bd7c5562c47b78707e001e6b77e32",
       "style": "IPY_MODEL_d329ab053d7d46e5ad1c08911c678d88",
       "value": "Workspace"
      }
     },
     "362eb08e3f8a4d5594db938ada3b0a22": {
      "model_module": "@jupyter-widgets/controls",
      "model_module_version": "1.5.0",
      "model_name": "VBoxModel",
      "state": {
       "children": [
        "IPY_MODEL_0ed9dd8d825843df84a213b2723bbd03",
        "IPY_MODEL_d130dd08ac04492b96944c452c2f4817",
        "IPY_MODEL_58bdc1b439e441e1a0f35a1e104daa73",
        "IPY_MODEL_92018862d8c34de297d0cfa22a4c8b5d"
       ],
       "layout": "IPY_MODEL_6bbdac7c9529497385dda2e518bb3fb2"
      }
     },
     "362fa470b79e4a85a9f8370c1fea519e": {
      "model_module": "@jupyter-widgets/controls",
      "model_module_version": "1.5.0",
      "model_name": "VBoxModel",
      "state": {
       "children": [
        "IPY_MODEL_b498e67dba95456397dd770265ca01c2",
        "IPY_MODEL_f3ea9627b0cc4678baa78ecc4eab5799"
       ],
       "layout": "IPY_MODEL_abb143086c6d4bb29e6ebfc1f5969c61"
      }
     },
     "36c57abebe534900ab46e9f30e461730": {
      "model_module": "@jupyter-widgets/controls",
      "model_module_version": "1.5.0",
      "model_name": "DropdownModel",
      "state": {
       "_options_labels": [
        "C:\\Users\\dominiquef\\Documents\\GIT\\mira\\geoapps\\assets",
        "C:\\Users\\dominiquef\\Documents\\GIT\\mira\\geoapps",
        "C:\\Users\\dominiquef\\Documents\\GIT\\mira",
        "C:\\Users\\dominiquef\\Documents\\GIT",
        "C:\\Users\\dominiquef\\Documents",
        "C:\\Users\\dominiquef",
        "C:\\Users",
        "C:\\",
        "D:\\",
        "G:\\",
        "\\\\EgnyteDrive\\mirageoscience\\"
       ],
       "index": 0,
       "layout": "IPY_MODEL_51c17c39f8b94562a95980f6a4fe9ac1",
       "style": "IPY_MODEL_35a90f0fae32415da4ce6603a5388454"
      }
     },
     "3713235ac19a41908662807fc157ef8a": {
      "model_module": "@jupyter-widgets/base",
      "model_module_version": "1.2.0",
      "model_name": "LayoutModel",
      "state": {
       "display": "none",
       "min_width": "6em",
       "width": "6em"
      }
     },
     "373d83f955494f7ba6be98f484ab0900": {
      "model_module": "@jupyter-widgets/controls",
      "model_module_version": "1.5.0",
      "model_name": "ButtonStyleModel",
      "state": {}
     },
     "37ccad3aaef94242b0cdf7a4332a588d": {
      "model_module": "@jupyter-widgets/controls",
      "model_module_version": "1.5.0",
      "model_name": "DescriptionStyleModel",
      "state": {
       "description_width": ""
      }
     },
     "39677331a7794366b476d73b3d1887bc": {
      "model_module": "@jupyter-widgets/controls",
      "model_module_version": "1.5.0",
      "model_name": "ButtonStyleModel",
      "state": {}
     },
     "39cdd1b1e32e4b01b02b6c04062c2019": {
      "model_module": "@jupyter-widgets/controls",
      "model_module_version": "1.5.0",
      "model_name": "ButtonModel",
      "state": {
       "description": "Select",
       "layout": "IPY_MODEL_eeb78110235f49fd93b799f181f699a3",
       "style": "IPY_MODEL_58f4e2f08f70467abd4fd84215798555"
      }
     },
     "39dcf433f84f42c488564d5710521b63": {
      "model_module": "@jupyter-widgets/controls",
      "model_module_version": "1.5.0",
      "model_name": "ButtonModel",
      "state": {
       "description": ">> Add Variable >>",
       "layout": "IPY_MODEL_13847b76d87e44b7ae7b8adc094e8234",
       "style": "IPY_MODEL_9f3bab494493496182ea03e8bf837457"
      }
     },
     "3a181e31c5e84956a80bc58c84caff9e": {
      "model_module": "@jupyter-widgets/controls",
      "model_module_version": "1.5.0",
      "model_name": "ButtonStyleModel",
      "state": {}
     },
     "3a30b7a7b6444b938035d0ca9469ff16": {
      "model_module": "@jupyter-widgets/base",
      "model_module_version": "1.2.0",
      "model_name": "LayoutModel",
      "state": {
       "display": "none",
       "grid_area": "filename",
       "width": "auto"
      }
     },
     "3a3788ee94ed490dbc85f3b9a268ccf5": {
      "model_module": "@jupyter-widgets/controls",
      "model_module_version": "1.5.0",
      "model_name": "VBoxModel",
      "state": {
       "children": [
        "IPY_MODEL_b8103a0af8a44c5f8c4207b8fa120427"
       ],
       "layout": "IPY_MODEL_2644bbd4bfe6430a8fe931b6a25f88e5"
      }
     },
     "3b0031880d6146568809b936e42f4147": {
      "model_module": "@jupyter-widgets/base",
      "model_module_version": "1.2.0",
      "model_name": "LayoutModel",
      "state": {}
     },
     "3b2e3e1f94464acb90c5c61fc454e3a7": {
      "model_module": "@jupyter-widgets/base",
      "model_module_version": "1.2.0",
      "model_name": "LayoutModel",
      "state": {}
     },
     "3ba1c638a9284dea8bcc39834317e871": {
      "model_module": "@jupyter-widgets/base",
      "model_module_version": "1.2.0",
      "model_name": "LayoutModel",
      "state": {}
     },
     "3bb967b55dde462db80199e26748f6d8": {
      "model_module": "@jupyter-widgets/base",
      "model_module_version": "1.2.0",
      "model_name": "LayoutModel",
      "state": {}
     },
     "3bd00a9bf03945e0a42363be33c0f72f": {
      "model_module": "@jupyter-widgets/controls",
      "model_module_version": "1.5.0",
      "model_name": "ButtonStyleModel",
      "state": {}
     },
     "3bdff6b285d54d65b390b48abf9c44e4": {
      "model_module": "@jupyter-widgets/base",
      "model_module_version": "1.2.0",
      "model_name": "LayoutModel",
      "state": {
       "grid_area": "dircontent",
       "width": "auto"
      }
     },
     "3c18bbdf1c8945f7989afd6cc6f7a212": {
      "model_module": "@jupyter-widgets/base",
      "model_module_version": "1.2.0",
      "model_name": "LayoutModel",
      "state": {}
     },
     "3c3ec0fe49e045fb8ba10bf2d3289ffb": {
      "model_module": "@jupyter-widgets/base",
      "model_module_version": "1.2.0",
      "model_name": "LayoutModel",
      "state": {}
     },
     "3c4e9b01455c487bac101f7158161a64": {
      "model_module": "@jupyter-widgets/controls",
      "model_module_version": "1.5.0",
      "model_name": "DescriptionStyleModel",
      "state": {
       "description_width": ""
      }
     },
     "3c702710a2144ee8bf87286d97eb550b": {
      "model_module": "@jupyter-widgets/controls",
      "model_module_version": "1.5.0",
      "model_name": "VBoxModel",
      "state": {
       "children": [
        "IPY_MODEL_321a61ce512b46f985befbd86391a41c",
        "IPY_MODEL_d5c007a2c602479d9e9f421f0d4bab73"
       ],
       "layout": "IPY_MODEL_6d693b4c29044268932c579782d64662"
      }
     },
     "3c81891634744fc48e98fd7caf92abe6": {
      "model_module": "@jupyter-widgets/base",
      "model_module_version": "1.2.0",
      "model_name": "LayoutModel",
      "state": {}
     },
     "3cc809993f6c4a08bef7b94a65d90f0e": {
      "model_module": "@jupyter-widgets/controls",
      "model_module_version": "1.5.0",
      "model_name": "TextModel",
      "state": {
       "continuous_update": false,
       "description": "Group:",
       "layout": "IPY_MODEL_ce43af1314b843948aeb1a1bd8cc9a62",
       "style": "IPY_MODEL_ff3c9ec7d3a84252a09f39c72c6a96e8"
      }
     },
     "3cf6ecd0edaa4fe8a77838582b021df0": {
      "model_module": "@jupyter-widgets/controls",
      "model_module_version": "1.5.0",
      "model_name": "VBoxModel",
      "state": {
       "children": [
        "IPY_MODEL_b5c5ec515c31418cafdb95a60b077db4",
        "IPY_MODEL_f6b3d5d49cf54760ae627e9e18dc76f3"
       ],
       "layout": "IPY_MODEL_2bb38cfc1a6c4f7a92fcce071a09b9be"
      }
     },
     "3d14c9ea3cf44e4c843cd94178b63a52": {
      "model_module": "@jupyter-widgets/controls",
      "model_module_version": "1.5.0",
      "model_name": "HTMLModel",
      "state": {
       "layout": "IPY_MODEL_190e269f747a448aa75ccd1039f577d1",
       "placeholder": "",
       "style": "IPY_MODEL_8aabcb2075cf415b94245cf278c2c96f",
       "value": "<span style=\"color:orange;\">C:\\Users\\dominiquef\\Documents\\GIT\\mira\\geoapps\\assets\\FlinFlon.geoh5</span>"
      }
     },
     "3d90f48fb32443089b23cad00ee7da46": {
      "model_module": "@jupyter-widgets/base",
      "model_module_version": "1.2.0",
      "model_name": "LayoutModel",
      "state": {}
     },
     "3dac274eb62445088054383c7c45522e": {
      "model_module": "@jupyter-widgets/controls",
      "model_module_version": "1.5.0",
      "model_name": "DescriptionStyleModel",
      "state": {
       "description_width": ""
      }
     },
     "3e85cc72ab2f487aa3ac5939d6f9c02a": {
      "model_module": "@jupyter-widgets/controls",
      "model_module_version": "1.5.0",
      "model_name": "DescriptionStyleModel",
      "state": {
       "description_width": ""
      }
     },
     "3ef9a8729af44a69a64ba1c4764abc9b": {
      "model_module": "@jupyter-widgets/controls",
      "model_module_version": "1.5.0",
      "model_name": "DescriptionStyleModel",
      "state": {
       "description_width": ""
      }
     },
     "3f1ec89b71074a82b4934cbea823af3c": {
      "model_module": "@jupyter-widgets/controls",
      "model_module_version": "1.5.0",
      "model_name": "DescriptionStyleModel",
      "state": {
       "description_width": "initial"
      }
     },
     "3f6a147248dd4cc5a4ec745ec6b4b4a1": {
      "model_module": "@jupyter-widgets/base",
      "model_module_version": "1.2.0",
      "model_name": "LayoutModel",
      "state": {
       "grid_area": "pathlist",
       "width": "auto"
      }
     },
     "3f7bcac2659e48b890f95473a2303da4": {
      "model_module": "@jupyter-widgets/controls",
      "model_module_version": "1.5.0",
      "model_name": "ButtonStyleModel",
      "state": {}
     },
     "3fdc72c3d181466bb201b4ebb41c38a7": {
      "model_module": "@jupyter-widgets/base",
      "model_module_version": "1.2.0",
      "model_name": "LayoutModel",
      "state": {
       "display": "none"
      }
     },
     "40b3ef9f225e482398e35cd3cbdaab38": {
      "model_module": "@jupyter-widgets/controls",
      "model_module_version": "1.5.0",
      "model_name": "DescriptionStyleModel",
      "state": {
       "description_width": ""
      }
     },
     "40d4247c51d74ac89f8aadd11213bf96": {
      "model_module": "@jupyter-widgets/base",
      "model_module_version": "1.2.0",
      "model_name": "LayoutModel",
      "state": {
       "margin": "0 0 0 1em"
      }
     },
     "40edefeb39d640a5a7145d3b2b3afc06": {
      "model_module": "@jupyter-widgets/controls",
      "model_module_version": "1.5.0",
      "model_name": "VBoxModel",
      "state": {
       "children": [
        "IPY_MODEL_33e602fb73f54b7da48d1a71dfab65e0",
        "IPY_MODEL_3c702710a2144ee8bf87286d97eb550b",
        "IPY_MODEL_b1b7f74da6b049a88d85307cd83c816a",
        "IPY_MODEL_52de3bc3a4a1401b91f01ed878d62779"
       ],
       "layout": "IPY_MODEL_5b1bf9d4707d4c9884af0d1d60d91ee6"
      }
     },
     "411118d4a9234fcc89f4b21574eff432": {
      "model_module": "@jupyter-widgets/base",
      "model_module_version": "1.2.0",
      "model_name": "LayoutModel",
      "state": {
       "grid_area": "filename",
       "width": "auto"
      }
     },
     "41269227b362482fb54892a2d58ef267": {
      "model_module": "@jupyter-widgets/base",
      "model_module_version": "1.2.0",
      "model_name": "LayoutModel",
      "state": {}
     },
     "4144b94e98404d0d97ec43e14959228b": {
      "model_module": "@jupyter-widgets/controls",
      "model_module_version": "1.5.0",
      "model_name": "LabelModel",
      "state": {
       "layout": "IPY_MODEL_4367a935f21c4796afe24251e8ad694f",
       "style": "IPY_MODEL_7e716f4898cb4d84bfe0418259c737ba",
       "value": "Monitoring folder"
      }
     },
     "416be20170e440b58ce40eb146f993ba": {
      "model_module": "@jupyter-widgets/base",
      "model_module_version": "1.2.0",
      "model_name": "LayoutModel",
      "state": {
       "grid_area": "dircontent",
       "width": "auto"
      }
     },
     "41b0411c5d2d4d9cb2a4c65e7a9fb3b5": {
      "model_module": "@jupyter-widgets/base",
      "model_module_version": "1.2.0",
      "model_name": "LayoutModel",
      "state": {}
     },
     "422cc9b2a7a341ed8c87a0611edf9870": {
      "model_module": "@jupyter-widgets/base",
      "model_module_version": "1.2.0",
      "model_name": "LayoutModel",
      "state": {}
     },
     "4250f792592342ab8daa728aef2503b5": {
      "model_module": "@jupyter-widgets/controls",
      "model_module_version": "1.5.0",
      "model_name": "VBoxModel",
      "state": {
       "children": [
        "IPY_MODEL_cc7b24cf5dfc4443850db6da2a4ce57f"
       ],
       "layout": "IPY_MODEL_93d5630703f8400a93e9d08db300b393"
      }
     },
     "426eb245e0b54e58b473339ee1cdf624": {
      "model_module": "@jupyter-widgets/base",
      "model_module_version": "1.2.0",
      "model_name": "LayoutModel",
      "state": {}
     },
     "429297fdc4d04f148ccc0d57d21c9e1d": {
      "model_module": "@jupyter-widgets/base",
      "model_module_version": "1.2.0",
      "model_name": "LayoutModel",
      "state": {
       "display": "none",
       "min_width": "6em",
       "width": "6em"
      }
     },
     "42a747a35d47466f893488a4b393cf5f": {
      "model_module": "@jupyter-widgets/base",
      "model_module_version": "1.2.0",
      "model_name": "LayoutModel",
      "state": {
       "grid_area": "pathlist",
       "width": "auto"
      }
     },
     "42f5aa6fedcf40f0bb45c3a396174907": {
      "model_module": "@jupyter-widgets/controls",
      "model_module_version": "1.5.0",
      "model_name": "TextareaModel",
      "state": {
       "layout": "IPY_MODEL_1bdf3bf256954aa39c5c5ee705d5e2d7",
       "style": "IPY_MODEL_c4689d527beb458f80374e8db9eebe11",
       "value": "{NewChannel} = {Al2O3} + numpy.cos({CaO} / 30.0 * numpy.pi)"
      }
     },
     "43085aec3054444da9417e8117475d7f": {
      "model_module": "@jupyter-widgets/controls",
      "model_module_version": "1.5.0",
      "model_name": "DescriptionStyleModel",
      "state": {
       "description_width": ""
      }
     },
     "432ffe8cefb6489893874ba5bf91cc2b": {
      "model_module": "@jupyter-widgets/controls",
      "model_module_version": "1.5.0",
      "model_name": "HTMLModel",
      "state": {
       "layout": "IPY_MODEL_3fdc72c3d181466bb201b4ebb41c38a7",
       "style": "IPY_MODEL_85914abd31d64f4c81f27ec86e371b30"
      }
     },
     "4367a935f21c4796afe24251e8ad694f": {
      "model_module": "@jupyter-widgets/base",
      "model_module_version": "1.2.0",
      "model_name": "LayoutModel",
      "state": {}
     },
     "437959717c7848c199cb597e4c1b3e3e": {
      "model_module": "@jupyter-widgets/base",
      "model_module_version": "1.2.0",
      "model_name": "LayoutModel",
      "state": {}
     },
     "43c3a6ec1f8a49b48f823149a104a718": {
      "model_module": "@jupyter-widgets/controls",
      "model_module_version": "1.5.0",
      "model_name": "DescriptionStyleModel",
      "state": {
       "description_width": ""
      }
     },
     "43eaa6f34ae74f26b3161c14452db072": {
      "model_module": "@jupyter-widgets/controls",
      "model_module_version": "1.5.0",
      "model_name": "TextModel",
      "state": {
       "description": "Name: ",
       "layout": "IPY_MODEL_70a7b64fe03b4281b1e0fc3233765d47",
       "style": "IPY_MODEL_d52e2b6ab56f44539440283f266d95fe"
      }
     },
     "44028555dfa948a8a042130d3620982b": {
      "model_module": "@jupyter-widgets/base",
      "model_module_version": "1.2.0",
      "model_name": "LayoutModel",
      "state": {
       "width": "auto"
      }
     },
     "44348d5d23fb4218b33f5bd8e4f72a4a": {
      "model_module": "@jupyter-widgets/controls",
      "model_module_version": "1.5.0",
      "model_name": "DropdownModel",
      "state": {
       "_options_labels": [
        "",
        "Data_TEM_pseudo3DEPSG_4326",
        "Gravity_Magnetics_drape60mEPSG_4326",
        "Iso_Iteration_7_model_0.015",
        "Iso_Iteration_7_model_0.01",
        "Iso_Iteration_7_model_0.02",
        "Iso_Iteration_7_model_0.005",
        "Iso_Iteration_7_model_0.0025",
        "fault_splay1",
        "fault_Cliff_Lake",
        "fault_Other_FlinFlon",
        "fault_Club_Lake_splay",
        "fault_Catherine_splay2",
        "fault_Birch_View",
        "fault_Dion_Lake",
        "fault_FlinFlon_splay",
        "fault_West_Mandy_Road",
        "fault_Channing",
        "fault_Ross_Lake",
        "fault_Louis_Hidden",
        "fault_Lake_View_thrust",
        "contact_Schist_Lake",
        "fault_Burley_Lake",
        "fault_Dion_Lake_splay",
        "fault_Green_Lake",
        "fault_FlinFlon",
        "fault_Catherine_splay1",
        "fault_East_Mandy_Road",
        "fault_Other_FlinFlon_South",
        "fault_Catherine_splay4",
        "contact_Stitt_Island",
        "fault_Club_Lake",
        "fault_Tailing_Pond",
        "35_Hidden_Reservoir_Hr5",
        "29_Hidden_Reservoir_Hr1a",
        "60_BlueLagoon_Fb2",
        "20_FlinFlon_Undivided_Int_Dykes_D2f",
        "04_Boundary_Intrusive_S4h",
        "53_Millrock_Rhyolite_Fm4b",
        "19_FlinFlon_Undivided_Int_Dykes_D2b",
        "18_FlinFlon_Undivided_Int_Dykes_777_D2b",
        "06_Phantom_Lake_Intrusive_S3a",
        "21_FlinFlon_Undivided_Int_Dykes_D3a",
        "43_Millrock_CHLSH_South",
        "56_Millrock_Basalt_Fm1ba",
        "17_FlinFlon_Undivided_Int_Dykes_D2",
        "32_Hidden_Reservoir_Hr1b_SW",
        "11_Missi_M3_NE",
        "13_Missi_M1",
        "07_Annabel_Granitoid_S1",
        "45_Millrock_Gabbro_South",
        "01_Late_Intrusive_S5b",
        "31_Hidden_Reservoir_Hr1c_SW",
        "52_Millrock_Rhyolite_Fm4_West_check",
        "55_Millrock_Basalt_Fm1bf",
        "34_Hidden_Reservoir_Hr2b",
        "03_Boundary_Intrusive_S4b",
        "42_Millrock_CHLSH_North",
        "26_Louis_L3",
        "23_FlinFlon_Undivided_Int_Felsic_D4g",
        "30_Hidden_Reservoir_Hr1b",
        "59_BlueLagoon_Fb3",
        "49_Millrock_MVR_Fm5d",
        "44_Millrock_Gabbro_North",
        "27_Hidden_Carlisle_Hc4",
        "22_FlinFlon_Undivided_Int_Felsic_D4e",
        "02_Boundary_Intrusive_S4a",
        "61_BlueLagoon_Fb1_NW",
        "05_Boundary_Intrusive_S4g",
        "39_Ore_Callinan",
        "38_Ore_Dan_Owens",
        "40_Ore_FlinFlon",
        "Inversion_VTEM_Model",
        "Gravity_Magnetics_drape60m",
        "CDI_VTEM_model",
        "Data_FEM_pseudo3D",
        "O2O_Interp_25m",
        "geochem",
        "Inversion_DIGHEM_Model",
        "Topography",
        "Data_TEM_pseudo3D"
       ],
       "description": "Object:",
       "index": 77,
       "layout": "IPY_MODEL_e31dfe88897d4132b76c816915803e9e",
       "style": "IPY_MODEL_0631fc11c7f44a18abe202c66f917f2b"
      }
     },
     "44b3b46264ca493cb9ff426e31b3fb27": {
      "model_module": "@jupyter-widgets/controls",
      "model_module_version": "1.5.0",
      "model_name": "SelectMultipleModel",
      "state": {
       "_options_labels": [
        "Ho",
        "CaO",
        "Hf",
        "Be",
        "Mo",
        "Visual Parameters",
        "Se",
        "Bi",
        "Tb",
        "Cs",
        "In",
        "Dy",
        "MgO",
        "Cl",
        "Ni",
        "Hg",
        "SUM",
        "Co",
        "Tm",
        "Ta",
        "Pb",
        "U",
        "Cr",
        "Y_",
        "Zn",
        "Sn",
        "Na2O",
        "Ce",
        "Eu",
        "Cd",
        "Sr",
        "Zr",
        "Ir",
        "Cu",
        "K2O",
        "LOI",
        "Er",
        "Nb",
        "Ctot",
        "Ti",
        "Sm",
        "Ni2",
        "Cr2O3",
        "V",
        "Ge",
        "Nd",
        "Lu",
        "TiO2",
        "F",
        "W",
        "Ag",
        "Rb",
        "Stot",
        "As",
        "La",
        "Tl",
        "Th",
        "Sc",
        "Fe2O3",
        "Yb",
        "Ba",
        "Al2O3",
        "Sb",
        "MnO",
        "Li",
        "Au",
        "Ga",
        "Pr",
        "SiO2",
        "interval_length",
        "Gd",
        "P2O5",
        "NewChannel"
       ],
       "description": "Data: ",
       "index": [],
       "layout": "IPY_MODEL_426eb245e0b54e58b473339ee1cdf624",
       "rows": 5,
       "style": "IPY_MODEL_9b1d7b53fb8f46b28af98dc2c20df45a"
      }
     },
     "44d501df04ce4574a2b551a57c179259": {
      "model_module": "@jupyter-widgets/base",
      "model_module_version": "1.2.0",
      "model_name": "LayoutModel",
      "state": {}
     },
     "450b6b58791841e7b01e1c583c08ddec": {
      "model_module": "@jupyter-widgets/controls",
      "model_module_version": "1.5.0",
      "model_name": "GridBoxModel",
      "state": {
       "children": [
        "IPY_MODEL_1301cbf315c14d6bb23ba5ee76913cbe",
        "IPY_MODEL_ade6f941045a408a9e583872e742d5b0",
        "IPY_MODEL_196a15f27f0d4c3c939ac261a85e12e1"
       ],
       "layout": "IPY_MODEL_ecb1458847f44f05b088f735c40d3bde"
      }
     },
     "4515819e09fc43c69d23ab776274ffc4": {
      "model_module": "@jupyter-widgets/base",
      "model_module_version": "1.2.0",
      "model_name": "LayoutModel",
      "state": {}
     },
     "454fe867d17e4f9c9d2cf10ae2bdff06": {
      "model_module": "@jupyter-widgets/controls",
      "model_module_version": "1.5.0",
      "model_name": "DescriptionStyleModel",
      "state": {
       "description_width": ""
      }
     },
     "456aad6f8004421fb39bf378f81909c5": {
      "model_module": "@jupyter-widgets/controls",
      "model_module_version": "1.5.0",
      "model_name": "GridBoxModel",
      "state": {
       "children": [
        "IPY_MODEL_8cdfbcacde524cc893fa96d94cf2a93b",
        "IPY_MODEL_a3320aa880f3424a9b1eb09fc5c53451",
        "IPY_MODEL_2906e466e4d04ee5af8311d320c254eb"
       ],
       "layout": "IPY_MODEL_5f63d1282cdc436884dceae453570adb"
      }
     },
     "45bab22cc4d54894a04f943363157d6f": {
      "model_module": "@jupyter-widgets/base",
      "model_module_version": "1.2.0",
      "model_name": "LayoutModel",
      "state": {}
     },
     "461fee7252404e29a7ca8b373875b030": {
      "model_module": "@jupyter-widgets/base",
      "model_module_version": "1.2.0",
      "model_name": "LayoutModel",
      "state": {
       "width": "100%"
      }
     },
     "4623ac94366e44a19b8026728b1e2621": {
      "model_module": "@jupyter-widgets/base",
      "model_module_version": "1.2.0",
      "model_name": "LayoutModel",
      "state": {
       "display": "none",
       "min_width": "6em",
       "width": "6em"
      }
     },
     "47242ed4962d46e584d20b74b305a292": {
      "model_module": "@jupyter-widgets/controls",
      "model_module_version": "1.5.0",
      "model_name": "BoxModel",
      "state": {
       "children": [
        "IPY_MODEL_7ee8aaca436d480ba51c004482658ec1"
       ],
       "layout": "IPY_MODEL_7dfa87230b464f988804f1f75fd1509f"
      }
     },
     "477e5dd73df542d6863d3fd1a05c5bd3": {
      "model_module": "@jupyter-widgets/base",
      "model_module_version": "1.2.0",
      "model_name": "LayoutModel",
      "state": {}
     },
     "47f792cfd90a4f1aa7b93fd332ab98a4": {
      "model_module": "@jupyter-widgets/base",
      "model_module_version": "1.2.0",
      "model_name": "LayoutModel",
      "state": {
       "grid_area": "dircontent",
       "width": "auto"
      }
     },
     "484553e125174b61aa31e3d1be3122be": {
      "model_module": "@jupyter-widgets/controls",
      "model_module_version": "1.5.0",
      "model_name": "VBoxModel",
      "state": {
       "children": [
        "IPY_MODEL_e834c327c3a548928b59e424c308e260",
        "IPY_MODEL_d775bb6a5b2e47fbbe48e5b9f3480615"
       ],
       "layout": "IPY_MODEL_5c53c348c9d94f9cb0786393144c03a9"
      }
     },
     "4847ff3578e24f268cf5a76c3a5fe4cd": {
      "model_module": "@jupyter-widgets/controls",
      "model_module_version": "1.5.0",
      "model_name": "VBoxModel",
      "state": {
       "children": [
        "IPY_MODEL_7a9f0ca21ca74e7a8c22d3c88b792f6a",
        "IPY_MODEL_974c7a6477124ebdb6e7a7f88baa3861"
       ],
       "layout": "IPY_MODEL_075b38b9a0134e31ba6c0b147f707f7e"
      }
     },
     "487a9faf5489424398bfb2d483bd4957": {
      "model_module": "@jupyter-widgets/controls",
      "model_module_version": "1.5.0",
      "model_name": "ButtonStyleModel",
      "state": {}
     },
     "48a288008ad84ef187e6b4545cb3e52b": {
      "model_module": "@jupyter-widgets/controls",
      "model_module_version": "1.5.0",
      "model_name": "DescriptionStyleModel",
      "state": {
       "description_width": ""
      }
     },
     "48a59d13cbc84d2da45755897b18f553": {
      "model_module": "@jupyter-widgets/base",
      "model_module_version": "1.2.0",
      "model_name": "LayoutModel",
      "state": {
       "min_width": "6em",
       "width": "6em"
      }
     },
     "48a95879cfc74dccb1259275251685e5": {
      "model_module": "@jupyter-widgets/controls",
      "model_module_version": "1.5.0",
      "model_name": "ButtonStyleModel",
      "state": {}
     },
     "491346e08ddd40998a2ab5f193edcf08": {
      "model_module": "@jupyter-widgets/controls",
      "model_module_version": "1.5.0",
      "model_name": "HBoxModel",
      "state": {
       "children": [
        "IPY_MODEL_00afe9c537304721a339de5ccb430bf9",
        "IPY_MODEL_9475d958e8fc466f95a673b1ad5c5180",
        "IPY_MODEL_d603ced39e994a78977afdab603cf561"
       ],
       "layout": "IPY_MODEL_8db46bf931e14fd790f460327e281932"
      }
     },
     "4921c003808748509290744a542dc955": {
      "model_module": "@jupyter-widgets/controls",
      "model_module_version": "1.5.0",
      "model_name": "HTMLModel",
      "state": {
       "layout": "IPY_MODEL_5adb5458b45b4bf1a36224eda2628198",
       "style": "IPY_MODEL_aee7e6fd124e40dcb3042bb2333fbd98"
      }
     },
     "49286708e8de4f97a6e89a903b51a6ab": {
      "model_module": "@jupyter-widgets/base",
      "model_module_version": "1.2.0",
      "model_name": "LayoutModel",
      "state": {
       "width": "auto"
      }
     },
     "4a29af76e90344b3a6bee471c0d14c41": {
      "model_module": "@jupyter-widgets/controls",
      "model_module_version": "1.5.0",
      "model_name": "ButtonStyleModel",
      "state": {}
     },
     "4a714c52ef3d46b699c0be9da8f84b65": {
      "model_module": "@jupyter-widgets/controls",
      "model_module_version": "1.5.0",
      "model_name": "DescriptionStyleModel",
      "state": {
       "description_width": ""
      }
     },
     "4a936d3a54084455889ef0e4733a1d2d": {
      "model_module": "@jupyter-widgets/controls",
      "model_module_version": "1.5.0",
      "model_name": "DescriptionStyleModel",
      "state": {
       "description_width": "initial"
      }
     },
     "4ab2bfb832fa4c81a37dd7c9722cc91c": {
      "model_module": "@jupyter-widgets/controls",
      "model_module_version": "1.5.0",
      "model_name": "DescriptionStyleModel",
      "state": {
       "description_width": "initial"
      }
     },
     "4ab48632ea2b4704816ab5293d6c23d3": {
      "model_module": "@jupyter-widgets/controls",
      "model_module_version": "1.5.0",
      "model_name": "VBoxModel",
      "state": {
       "children": [
        "IPY_MODEL_d480d14f464142dcb41e7ef5d7e68e9e",
        "IPY_MODEL_c0fc031419e34ec2ba82e90a98dab7ff"
       ],
       "layout": "IPY_MODEL_c32df19bcd324cae8c0b3094cb8067c0"
      }
     },
     "4ae44339f6c04b0faa0a42addb004fad": {
      "model_module": "@jupyter-widgets/base",
      "model_module_version": "1.2.0",
      "model_name": "LayoutModel",
      "state": {}
     },
     "4c08a0dea6f14cab8a9bab127a608239": {
      "model_module": "@jupyter-widgets/controls",
      "model_module_version": "1.5.0",
      "model_name": "DropdownModel",
      "state": {
       "_options_labels": [
        "C:\\Users\\dominiquef\\Documents\\GIT\\mira\\geoapps\\docs\\content\\applications",
        "C:\\Users\\dominiquef\\Documents\\GIT\\mira\\geoapps\\docs\\content",
        "C:\\Users\\dominiquef\\Documents\\GIT\\mira\\geoapps\\docs",
        "C:\\Users\\dominiquef\\Documents\\GIT\\mira\\geoapps",
        "C:\\Users\\dominiquef\\Documents\\GIT\\mira",
        "C:\\Users\\dominiquef\\Documents\\GIT",
        "C:\\Users\\dominiquef\\Documents",
        "C:\\Users\\dominiquef",
        "C:\\Users",
        "C:\\",
        "D:\\",
        "Z:\\"
       ],
       "index": 0,
       "layout": "IPY_MODEL_98aa99ea505547a0ba6108abdb2ef3f9",
       "style": "IPY_MODEL_43c3a6ec1f8a49b48f823149a104a718"
      }
     },
     "4c163db634fe449b99748ecdc01af926": {
      "model_module": "@jupyter-widgets/controls",
      "model_module_version": "1.5.0",
      "model_name": "ButtonModel",
      "state": {
       "description": "Change",
       "layout": "IPY_MODEL_97edd3f84322491caee402821d9f4eeb",
       "style": "IPY_MODEL_fd2336634fd04ff2b2a73c83bb8fb47a"
      }
     },
     "4c2668e9d4d845169caf5fbff4412ff0": {
      "model_module": "@jupyter-widgets/controls",
      "model_module_version": "1.5.0",
      "model_name": "ButtonStyleModel",
      "state": {}
     },
     "4c575fb7cd254b22850fa2a46aef4eb8": {
      "model_module": "@jupyter-widgets/base",
      "model_module_version": "1.2.0",
      "model_name": "LayoutModel",
      "state": {}
     },
     "4c63f6fd7ec646bd80387de7e5fec4a4": {
      "model_module": "@jupyter-widgets/controls",
      "model_module_version": "1.5.0",
      "model_name": "VBoxModel",
      "state": {
       "children": [
        "IPY_MODEL_42f5aa6fedcf40f0bb45c3a396174907"
       ],
       "layout": "IPY_MODEL_fc2bee6f9ce246c7a059feddfb4cb71c"
      }
     },
     "4cc9fa256b2e49a69f85236033d58e2d": {
      "model_module": "@jupyter-widgets/controls",
      "model_module_version": "1.5.0",
      "model_name": "ButtonModel",
      "state": {
       "description": ">> Add Variable >>",
       "layout": "IPY_MODEL_a963506385d44164877fd2a89f42afd0",
       "style": "IPY_MODEL_d93ea2f84fa740b09304f270158abdf4"
      }
     },
     "4d0597ec4e214adf8eedfc396e373be9": {
      "model_module": "@jupyter-widgets/controls",
      "model_module_version": "1.5.0",
      "model_name": "TextModel",
      "state": {
       "disabled": true,
       "layout": "IPY_MODEL_ac8be4616065400cbad91231d2589b19",
       "placeholder": "output filename",
       "style": "IPY_MODEL_809f3ebc5df6403c962320716dfcebca"
      }
     },
     "4d2ca3c7aa9a4245af0045e2728fd48c": {
      "model_module": "@jupyter-widgets/base",
      "model_module_version": "1.2.0",
      "model_name": "LayoutModel",
      "state": {}
     },
     "4d6087d967b04c18862b257dbd88d7b9": {
      "model_module": "@jupyter-widgets/base",
      "model_module_version": "1.2.0",
      "model_name": "LayoutModel",
      "state": {
       "grid_area": "filename",
       "width": "auto"
      }
     },
     "4dcf1b8607bd4b1489180a308e517cd1": {
      "model_module": "@jupyter-widgets/base",
      "model_module_version": "1.2.0",
      "model_name": "LayoutModel",
      "state": {
       "grid_area": "pathlist",
       "width": "auto"
      }
     },
     "4e359d1d73754b3ba28d6aa4e408c7d2": {
      "model_module": "@jupyter-widgets/base",
      "model_module_version": "1.2.0",
      "model_name": "LayoutModel",
      "state": {}
     },
     "4f2070b06eca411a90e1370fda6c945b": {
      "model_module": "@jupyter-widgets/base",
      "model_module_version": "1.2.0",
      "model_name": "LayoutModel",
      "state": {}
     },
     "4f519f104a3e4d52803b8ecfb86a392b": {
      "model_module": "@jupyter-widgets/controls",
      "model_module_version": "1.5.0",
      "model_name": "DescriptionStyleModel",
      "state": {
       "description_width": ""
      }
     },
     "4fd2bce1ee7a4e07aff1c7d4d92ca154": {
      "model_module": "@jupyter-widgets/controls",
      "model_module_version": "1.5.0",
      "model_name": "ButtonModel",
      "state": {
       "description": ">> Add Variable >>",
       "layout": "IPY_MODEL_6f910ade1a224826aca349f7c4bd0b2b",
       "style": "IPY_MODEL_7ca83751f9894af0b07b4c863878fb7c"
      }
     },
     "4fd39de3a21b43ec91acf29b763dedf5": {
      "model_module": "@jupyter-widgets/base",
      "model_module_version": "1.2.0",
      "model_name": "LayoutModel",
      "state": {
       "width": "75%"
      }
     },
     "502f1bb008614c4ea81b4e9f9b3620d7": {
      "model_module": "@jupyter-widgets/controls",
      "model_module_version": "1.5.0",
      "model_name": "ButtonStyleModel",
      "state": {}
     },
     "5041b95c581a4751abf7afab62fbdbbb": {
      "model_module": "@jupyter-widgets/controls",
      "model_module_version": "1.5.0",
      "model_name": "DescriptionStyleModel",
      "state": {
       "description_width": "initial"
      }
     },
     "5160f8e6548941439d66086549c8fae5": {
      "model_module": "@jupyter-widgets/controls",
      "model_module_version": "1.5.0",
      "model_name": "DescriptionStyleModel",
      "state": {
       "description_width": "initial"
      }
     },
     "517c02bc3cda432a930abb1ee3b38b9c": {
      "model_module": "@jupyter-widgets/controls",
      "model_module_version": "1.5.0",
      "model_name": "SelectMultipleModel",
      "state": {
       "_options_labels": [
        "Ag",
        "Al2O3",
        "As",
        "Au",
        "Ba",
        "Be",
        "Bi",
        "CaO",
        "Cd",
        "Ce",
        "Cl",
        "Co",
        "Cr",
        "Cr2O3",
        "Cs",
        "Ctot",
        "Cu",
        "Dy",
        "Er",
        "Eu",
        "F",
        "Fe2O3",
        "Ga",
        "Gd",
        "Ge",
        "Hf",
        "Hg",
        "Ho",
        "In",
        "Ir",
        "K2O",
        "LOI",
        "La",
        "Li",
        "Lu",
        "MgO",
        "MnO",
        "Mo",
        "Na2O",
        "Nb",
        "Nd",
        "NewChannel",
        "Ni",
        "Ni2",
        "P2O5",
        "Pb",
        "Pr",
        "Rb",
        "SUM",
        "Sb",
        "Sc",
        "Se",
        "SiO2",
        "Sm",
        "Sn",
        "Sr",
        "Stot",
        "Ta",
        "Tb",
        "Th",
        "Ti",
        "TiO2",
        "Tl",
        "Tm",
        "U",
        "V",
        "Visual Parameters",
        "W",
        "Y_",
        "Yb",
        "Zn",
        "Zr",
        "interval_length"
       ],
       "description": "Data: ",
       "index": [
        1,
        7
       ],
       "layout": "IPY_MODEL_771c493ead3a414b8148c9f3082313e1",
       "rows": 5,
       "style": "IPY_MODEL_d91f3927287e4324822136b088666fd2"
      }
     },
     "51c17c39f8b94562a95980f6a4fe9ac1": {
      "model_module": "@jupyter-widgets/base",
      "model_module_version": "1.2.0",
      "model_name": "LayoutModel",
      "state": {
       "grid_area": "pathlist",
       "width": "auto"
      }
     },
     "51f2a06edacc4519b91be5822b957c4e": {
      "model_module": "@jupyter-widgets/controls",
      "model_module_version": "1.5.0",
      "model_name": "VBoxModel",
      "state": {
       "children": [
        "IPY_MODEL_b159624d062b4ff499c84d1c74a2db0b"
       ],
       "layout": "IPY_MODEL_461fee7252404e29a7ca8b373875b030"
      }
     },
     "529c297373d74e0abf85bef680ae41bb": {
      "model_module": "@jupyter-widgets/controls",
      "model_module_version": "1.5.0",
      "model_name": "ButtonStyleModel",
      "state": {}
     },
     "52de3bc3a4a1401b91f01ed878d62779": {
      "model_module": "@jupyter-widgets/controls",
      "model_module_version": "1.5.0",
      "model_name": "VBoxModel",
      "state": {
       "children": [
        "IPY_MODEL_ccf868147b5e47b985021e8b77ecde64",
        "IPY_MODEL_e93a37d8925b49dd91d26d72392be938"
       ],
       "layout": "IPY_MODEL_80368b04228a4624b377fdea3f6112ac"
      }
     },
     "535d9757a451471db9e7c61aa3839b84": {
      "model_module": "@jupyter-widgets/controls",
      "model_module_version": "1.5.0",
      "model_name": "HTMLModel",
      "state": {
       "layout": "IPY_MODEL_c4b0b4a371574459973c37ed325bf23f",
       "style": "IPY_MODEL_143646b504c44c8b9b31e2b53cb26fed"
      }
     },
     "538c60e787794d39856e02b2cb43c8e0": {
      "model_module": "@jupyter-widgets/base",
      "model_module_version": "1.2.0",
      "model_name": "LayoutModel",
      "state": {
       "width": "auto"
      }
     },
     "53b1b2b4f2b74c14b6546374c1477378": {
      "model_module": "@jupyter-widgets/controls",
      "model_module_version": "1.5.0",
      "model_name": "DescriptionStyleModel",
      "state": {
       "description_width": ""
      }
     },
     "540f52223c9146d9b972d78f12a7ca73": {
      "model_module": "@jupyter-widgets/base",
      "model_module_version": "1.2.0",
      "model_name": "LayoutModel",
      "state": {
       "display": "none",
       "grid_gap": "0px 0px",
       "grid_template_areas": "\n                    'pathlist filename'\n                    'dircontent dircontent'\n                    ",
       "grid_template_columns": "60% 40%",
       "grid_template_rows": "auto auto",
       "width": "auto"
      }
     },
     "542ef80af7a04cc584415d616bdc6b70": {
      "model_module": "@jupyter-widgets/base",
      "model_module_version": "1.2.0",
      "model_name": "LayoutModel",
      "state": {}
     },
     "5489ae493c974d1e8cc86ba8916bb08f": {
      "model_module": "@jupyter-widgets/base",
      "model_module_version": "1.2.0",
      "model_name": "LayoutModel",
      "state": {}
     },
     "55449f02f7e0412da7820eaf9e3ffbad": {
      "model_module": "@jupyter-widgets/controls",
      "model_module_version": "1.5.0",
      "model_name": "DescriptionStyleModel",
      "state": {
       "description_width": ""
      }
     },
     "55db89afd91149148fbbb9984c7aa2d0": {
      "model_module": "@jupyter-widgets/controls",
      "model_module_version": "1.5.0",
      "model_name": "HTMLModel",
      "state": {
       "layout": "IPY_MODEL_6d33e7a58407443bb2127e0fefd402a4",
       "style": "IPY_MODEL_8efb50cd6da84f0b88a3aa1b100ffc11"
      }
     },
     "56853a4f274f460583378a1967403049": {
      "model_module": "@jupyter-widgets/controls",
      "model_module_version": "1.5.0",
      "model_name": "VBoxModel",
      "state": {
       "children": [
        "IPY_MODEL_c65b74aaa3444ab8a78271d7faecd957",
        "IPY_MODEL_ff74c80646bd45498f7d4eec2e27890b"
       ],
       "layout": "IPY_MODEL_a6a87903a92149fb844a1b351ad4f829"
      }
     },
     "56ea15176d7c4b209ce4888ddefbcce8": {
      "model_module": "@jupyter-widgets/controls",
      "model_module_version": "1.5.0",
      "model_name": "ButtonStyleModel",
      "state": {}
     },
     "570eb244f87246b4bfc1578344a7e326": {
      "model_module": "@jupyter-widgets/controls",
      "model_module_version": "1.5.0",
      "model_name": "DescriptionStyleModel",
      "state": {
       "description_width": ""
      }
     },
     "572fa3d7c63c4ff081ff1a8843c50026": {
      "model_module": "@jupyter-widgets/base",
      "model_module_version": "1.2.0",
      "model_name": "LayoutModel",
      "state": {
       "display": "none",
       "grid_gap": "0px 0px",
       "grid_template_areas": "\n                    'pathlist pathlist'\n                    'dircontent dircontent'\n                    ",
       "grid_template_columns": "60% 40%",
       "grid_template_rows": "auto auto",
       "width": "auto"
      }
     },
     "578db0c3fa1d49acb5ed56ee3840260d": {
      "model_module": "@jupyter-widgets/controls",
      "model_module_version": "1.5.0",
      "model_name": "DescriptionStyleModel",
      "state": {
       "description_width": "initial"
      }
     },
     "57cdd7fd947e4f2dbe12055a81bad9bf": {
      "model_module": "@jupyter-widgets/controls",
      "model_module_version": "1.5.0",
      "model_name": "ButtonModel",
      "state": {
       "description": "Create copy:",
       "layout": "IPY_MODEL_07433535e94b4488af6fb6a50ecbec55",
       "style": "IPY_MODEL_b7d0a050b8e746d490bb6e953714f8eb"
      }
     },
     "58bdc1b439e441e1a0f35a1e104daa73": {
      "model_module": "@jupyter-widgets/controls",
      "model_module_version": "1.5.0",
      "model_name": "VBoxModel",
      "state": {
       "children": [
        "IPY_MODEL_a372c1b5a33c4b1dac8efd04695484ae"
       ],
       "layout": "IPY_MODEL_5bd0e05a5dce49dba97abac29df34b09"
      }
     },
     "58c580c6dfdd48e5982c41f6e7d8b3fb": {
      "model_module": "@jupyter-widgets/controls",
      "model_module_version": "1.5.0",
      "model_name": "VBoxModel",
      "state": {
       "children": [
        "IPY_MODEL_deef56f3cd1b489286cbe2662dbc13ad",
        "IPY_MODEL_484553e125174b61aa31e3d1be3122be",
        "IPY_MODEL_51f2a06edacc4519b91be5822b957c4e",
        "IPY_MODEL_2bfb2bd12da64f88989e059836f54c20"
       ],
       "layout": "IPY_MODEL_9ab671b7143c4880b9a55cd45c52499d"
      }
     },
     "58c6fbdeff67415a9cf65bac9fbdc9e8": {
      "model_module": "@jupyter-widgets/base",
      "model_module_version": "1.2.0",
      "model_name": "LayoutModel",
      "state": {}
     },
     "58f4e2f08f70467abd4fd84215798555": {
      "model_module": "@jupyter-widgets/controls",
      "model_module_version": "1.5.0",
      "model_name": "ButtonStyleModel",
      "state": {}
     },
     "5973383426b346f782b8e0e36b48933b": {
      "model_module": "@jupyter-widgets/controls",
      "model_module_version": "1.5.0",
      "model_name": "DescriptionStyleModel",
      "state": {
       "description_width": ""
      }
     },
     "59ac3ada6a694d5596a40117a2f507bc": {
      "model_module": "@jupyter-widgets/controls",
      "model_module_version": "1.5.0",
      "model_name": "DescriptionStyleModel",
      "state": {
       "description_width": "initial"
      }
     },
     "59b80fef65a74b4f89d402e5b83fb46c": {
      "model_module": "@jupyter-widgets/controls",
      "model_module_version": "1.5.0",
      "model_name": "ButtonModel",
      "state": {
       "button_style": "danger",
       "description": "Compute",
       "icon": "check",
       "layout": "IPY_MODEL_90c3f851ae8d42128a7f5c0260688c91",
       "style": "IPY_MODEL_a6e350b3acc749f48a081337a0a222ce",
       "tooltip": "Run computation"
      }
     },
     "59f0a676565e47aab111d025151c105d": {
      "model_module": "@jupyter-widgets/controls",
      "model_module_version": "1.5.0",
      "model_name": "DescriptionStyleModel",
      "state": {
       "description_width": ""
      }
     },
     "5a0f0c974cc248ac886087da67941d2f": {
      "model_module": "@jupyter-widgets/base",
      "model_module_version": "1.2.0",
      "model_name": "LayoutModel",
      "state": {
       "grid_area": "dircontent",
       "width": "auto"
      }
     },
     "5a5380edd83b4a4c9db6ae5abf0785be": {
      "model_module": "@jupyter-widgets/controls",
      "model_module_version": "1.5.0",
      "model_name": "DescriptionStyleModel",
      "state": {
       "description_width": ""
      }
     },
     "5a5dc48b6f82409baf6cd37d93783eca": {
      "model_module": "@jupyter-widgets/controls",
      "model_module_version": "1.5.0",
      "model_name": "DescriptionStyleModel",
      "state": {
       "description_width": ""
      }
     },
     "5adb5458b45b4bf1a36224eda2628198": {
      "model_module": "@jupyter-widgets/base",
      "model_module_version": "1.2.0",
      "model_name": "LayoutModel",
      "state": {
       "display": "none"
      }
     },
     "5b1bf9d4707d4c9884af0d1d60d91ee6": {
      "model_module": "@jupyter-widgets/base",
      "model_module_version": "1.2.0",
      "model_name": "LayoutModel",
      "state": {}
     },
     "5b41d05c657f41d89194334487dadbde": {
      "model_module": "@jupyter-widgets/controls",
      "model_module_version": "1.5.0",
      "model_name": "DropdownModel",
      "state": {
       "_options_labels": [
        "",
        "Ore/39_Ore_Callinan",
        "Ore/38_Ore_Dan_Owens",
        "Ore/40_Ore_FlinFlon",
        "Workspace/Inversion_VTEM_Model",
        "Workspace/Gravity_Magnetics_drape60m",
        "Workspace/CDI_VTEM_model",
        "Workspace/Data_FEM_pseudo3D",
        "Workspace/O2O_Interp_25m",
        "Workspace/geochem",
        "Workspace/Inversion_DIGHEM_Model",
        "Workspace/Topography",
        "Workspace/Data_TEM_pseudo3D",
        "Workspace/Data_ZTEM",
        "Workspace/Mesh"
       ],
       "description": "Object:",
       "index": 9,
       "layout": "IPY_MODEL_1d5b41ddab4f47acb1e8073f5a2c6f8d",
       "style": "IPY_MODEL_9403bc1001bc41a4b23ca44de9dfef50"
      }
     },
     "5b4fae2edd934eac8c3060d773a7289c": {
      "model_module": "@jupyter-widgets/controls",
      "model_module_version": "1.5.0",
      "model_name": "DescriptionStyleModel",
      "state": {
       "description_width": "initial"
      }
     },
     "5b73723b4e3c4867bcfa3ed383b6230e": {
      "model_module": "@jupyter-widgets/controls",
      "model_module_version": "1.5.0",
      "model_name": "HBoxModel",
      "state": {
       "children": [
        "IPY_MODEL_0893adfe5f624856b1a299cbedaaab0c",
        "IPY_MODEL_75d9e9ebad5243b58bddff014e41f383",
        "IPY_MODEL_c2d843060797461c8f3baec71c03878d"
       ],
       "layout": "IPY_MODEL_8389a025618844bb81da432c765a4222"
      }
     },
     "5bc6a8ddf6204e72ab2018a947e8c3d2": {
      "model_module": "@jupyter-widgets/controls",
      "model_module_version": "1.5.0",
      "model_name": "ButtonModel",
      "state": {
       "button_style": "danger",
       "description": "Compute",
       "icon": "check",
       "layout": "IPY_MODEL_1e5cd0f262af4377aef3cdbbdcf06fc2",
       "style": "IPY_MODEL_023db3c3dc604b229d68f54601307009",
       "tooltip": "Run computation"
      }
     },
     "5bd0e05a5dce49dba97abac29df34b09": {
      "model_module": "@jupyter-widgets/base",
      "model_module_version": "1.2.0",
      "model_name": "LayoutModel",
      "state": {
       "width": "100%"
      }
     },
     "5c3636745f8f4cd7a58f58c81bb54169": {
      "model_module": "@jupyter-widgets/controls",
      "model_module_version": "1.5.0",
      "model_name": "HTMLModel",
      "state": {
       "layout": "IPY_MODEL_ac1bdd28ffe24c93b0cb86d263e8262b",
       "style": "IPY_MODEL_b603216e6bc946fdad2479be4f487f05"
      }
     },
     "5c53c348c9d94f9cb0786393144c03a9": {
      "model_module": "@jupyter-widgets/base",
      "model_module_version": "1.2.0",
      "model_name": "LayoutModel",
      "state": {}
     },
     "5c6bd2229df540c9be075b88528d30c0": {
      "model_module": "@jupyter-widgets/controls",
      "model_module_version": "1.5.0",
      "model_name": "DescriptionStyleModel",
      "state": {
       "description_width": ""
      }
     },
     "5c7d27848c34463d9295175573342bcd": {
      "model_module": "@jupyter-widgets/controls",
      "model_module_version": "1.5.0",
      "model_name": "DescriptionStyleModel",
      "state": {
       "description_width": ""
      }
     },
     "5d0081387fba4f95a95b25a6ccdd7d7d": {
      "model_module": "@jupyter-widgets/base",
      "model_module_version": "1.2.0",
      "model_name": "LayoutModel",
      "state": {
       "grid_area": "filename",
       "width": "auto"
      }
     },
     "5d81b466fbac4d3093a3b855e3cb0566": {
      "model_module": "@jupyter-widgets/base",
      "model_module_version": "1.2.0",
      "model_name": "LayoutModel",
      "state": {}
     },
     "5df4fd316ecd46f1abc9f142e65f8a41": {
      "model_module": "@jupyter-widgets/controls",
      "model_module_version": "1.5.0",
      "model_name": "VBoxModel",
      "state": {
       "children": [
        "IPY_MODEL_4ab48632ea2b4704816ab5293d6c23d3",
        "IPY_MODEL_12c03a52e05f46e7adba2c5f3908adfb",
        "IPY_MODEL_b86d95bd0bbd40aba2ba8a033532ce6f",
        "IPY_MODEL_13e710ea4e54488badbc3c83e6cea4f5"
       ],
       "layout": "IPY_MODEL_32dd20faa17c4a98954dcc9ab43431e6"
      }
     },
     "5e0455346f6b42c5b957d17d4916a9b7": {
      "model_module": "@jupyter-widgets/base",
      "model_module_version": "1.2.0",
      "model_name": "LayoutModel",
      "state": {
       "grid_area": "dircontent",
       "width": "auto"
      }
     },
     "5e53438f41c74a6d9d62e3f32a857587": {
      "model_module": "@jupyter-widgets/base",
      "model_module_version": "1.2.0",
      "model_name": "LayoutModel",
      "state": {
       "display": "none",
       "grid_gap": "0px 0px",
       "grid_template_areas": "\n                    'pathlist pathlist'\n                    'dircontent dircontent'\n                    ",
       "grid_template_columns": "60% 40%",
       "grid_template_rows": "auto auto",
       "width": "auto"
      }
     },
     "5e5896024d96429480f6609e2d7acfa0": {
      "model_module": "@jupyter-widgets/base",
      "model_module_version": "1.2.0",
      "model_name": "LayoutModel",
      "state": {}
     },
     "5ecca6c752f440e793200dd3160365ee": {
      "model_module": "@jupyter-widgets/base",
      "model_module_version": "1.2.0",
      "model_name": "LayoutModel",
      "state": {
       "grid_area": "dircontent",
       "width": "auto"
      }
     },
     "5f10510ecd6943c3903b4339ff53ae41": {
      "model_module": "@jupyter-widgets/base",
      "model_module_version": "1.2.0",
      "model_name": "LayoutModel",
      "state": {}
     },
     "5f49715ca95346b497b6da431785077b": {
      "model_module": "@jupyter-widgets/controls",
      "model_module_version": "1.5.0",
      "model_name": "ButtonStyleModel",
      "state": {}
     },
     "5f63d1282cdc436884dceae453570adb": {
      "model_module": "@jupyter-widgets/base",
      "model_module_version": "1.2.0",
      "model_name": "LayoutModel",
      "state": {
       "display": "none",
       "grid_gap": "0px 0px",
       "grid_template_areas": "\n                    'pathlist pathlist'\n                    'dircontent dircontent'\n                    ",
       "grid_template_columns": "60% 40%",
       "grid_template_rows": "auto auto",
       "width": "500px"
      }
     },
     "5f69462f6b224c3397eb24084eb9dec8": {
      "model_module": "@jupyter-widgets/controls",
      "model_module_version": "1.5.0",
      "model_name": "DropdownModel",
      "state": {
       "_options_labels": [
        "",
        "Data_TEM_pseudo3DEPSG_4326",
        "Gravity_Magnetics_drape60mEPSG_4326",
        "Iso_Iteration_7_model_0.015",
        "Iso_Iteration_7_model_0.01",
        "Iso_Iteration_7_model_0.02",
        "Iso_Iteration_7_model_0.005",
        "Iso_Iteration_7_model_0.0025",
        "fault_splay1",
        "fault_Cliff_Lake",
        "fault_Other_FlinFlon",
        "fault_Club_Lake_splay",
        "fault_Catherine_splay2",
        "fault_Birch_View",
        "fault_Dion_Lake",
        "fault_FlinFlon_splay",
        "fault_West_Mandy_Road",
        "fault_Channing",
        "fault_Ross_Lake",
        "fault_Louis_Hidden",
        "fault_Lake_View_thrust",
        "contact_Schist_Lake",
        "fault_Burley_Lake",
        "fault_Dion_Lake_splay",
        "fault_Green_Lake",
        "fault_FlinFlon",
        "fault_Catherine_splay1",
        "fault_East_Mandy_Road",
        "fault_Other_FlinFlon_South",
        "fault_Catherine_splay4",
        "contact_Stitt_Island",
        "fault_Club_Lake",
        "fault_Tailing_Pond",
        "35_Hidden_Reservoir_Hr5",
        "29_Hidden_Reservoir_Hr1a",
        "60_BlueLagoon_Fb2",
        "20_FlinFlon_Undivided_Int_Dykes_D2f",
        "04_Boundary_Intrusive_S4h",
        "53_Millrock_Rhyolite_Fm4b",
        "19_FlinFlon_Undivided_Int_Dykes_D2b",
        "18_FlinFlon_Undivided_Int_Dykes_777_D2b",
        "06_Phantom_Lake_Intrusive_S3a",
        "21_FlinFlon_Undivided_Int_Dykes_D3a",
        "43_Millrock_CHLSH_South",
        "56_Millrock_Basalt_Fm1ba",
        "17_FlinFlon_Undivided_Int_Dykes_D2",
        "32_Hidden_Reservoir_Hr1b_SW",
        "11_Missi_M3_NE",
        "13_Missi_M1",
        "07_Annabel_Granitoid_S1",
        "45_Millrock_Gabbro_South",
        "01_Late_Intrusive_S5b",
        "31_Hidden_Reservoir_Hr1c_SW",
        "52_Millrock_Rhyolite_Fm4_West_check",
        "55_Millrock_Basalt_Fm1bf",
        "34_Hidden_Reservoir_Hr2b",
        "03_Boundary_Intrusive_S4b",
        "42_Millrock_CHLSH_North",
        "26_Louis_L3",
        "23_FlinFlon_Undivided_Int_Felsic_D4g",
        "30_Hidden_Reservoir_Hr1b",
        "59_BlueLagoon_Fb3",
        "49_Millrock_MVR_Fm5d",
        "44_Millrock_Gabbro_North",
        "27_Hidden_Carlisle_Hc4",
        "22_FlinFlon_Undivided_Int_Felsic_D4e",
        "02_Boundary_Intrusive_S4a",
        "61_BlueLagoon_Fb1_NW",
        "05_Boundary_Intrusive_S4g",
        "39_Ore_Callinan",
        "38_Ore_Dan_Owens",
        "40_Ore_FlinFlon",
        "Inversion_VTEM_Model",
        "Gravity_Magnetics_drape60m",
        "CDI_VTEM_model",
        "Data_FEM_pseudo3D",
        "O2O_Interp_25m",
        "geochem",
        "Inversion_DIGHEM_Model",
        "Topography",
        "Data_TEM_pseudo3D"
       ],
       "description": "Object:",
       "index": 77,
       "layout": "IPY_MODEL_fb320a97bd064d089ae92f13bad231f7",
       "style": "IPY_MODEL_a6ebc2ceeda84e3d940b62840be83f40"
      }
     },
     "5f9c82d3e965429c98cf3726faa23062": {
      "model_module": "@jupyter-widgets/base",
      "model_module_version": "1.2.0",
      "model_name": "LayoutModel",
      "state": {}
     },
     "6028ae5e4b894532b1b2429f187185df": {
      "model_module": "@jupyter-widgets/controls",
      "model_module_version": "1.5.0",
      "model_name": "LabelModel",
      "state": {
       "layout": "IPY_MODEL_5f9c82d3e965429c98cf3726faa23062",
       "style": "IPY_MODEL_afa37eb426244a9497375fd5cacde423",
       "value": "Monitoring folder"
      }
     },
     "60569010a9d14394a580cf550334a3a1": {
      "model_module": "@jupyter-widgets/controls",
      "model_module_version": "1.5.0",
      "model_name": "DescriptionStyleModel",
      "state": {
       "description_width": ""
      }
     },
     "605fd286a45f4b1f913fd424d26a0673": {
      "model_module": "@jupyter-widgets/base",
      "model_module_version": "1.2.0",
      "model_name": "LayoutModel",
      "state": {
       "width": "500px"
      }
     },
     "60a63750bd794e25864fd19c9020771f": {
      "model_module": "@jupyter-widgets/base",
      "model_module_version": "1.2.0",
      "model_name": "LayoutModel",
      "state": {
       "width": "auto"
      }
     },
     "60e64d8ce8d24266b623c19dbd6f1a02": {
      "model_module": "@jupyter-widgets/base",
      "model_module_version": "1.2.0",
      "model_name": "LayoutModel",
      "state": {}
     },
     "60ea1a09cd4a489881754638744e073a": {
      "model_module": "@jupyter-widgets/controls",
      "model_module_version": "1.5.0",
      "model_name": "GridBoxModel",
      "state": {
       "children": [
        "IPY_MODEL_c7019ecd34a54af3a536a3bb63546d2f",
        "IPY_MODEL_98a6e223e9164347b3958c2a1e3da299",
        "IPY_MODEL_c557d686f2724b5e805eb69379551a2d"
       ],
       "layout": "IPY_MODEL_9f8d6bf3d36d4095aa67d8e6eb836605"
      }
     },
     "6101edc91df84a198e1fbaf0cca689bc": {
      "model_module": "@jupyter-widgets/controls",
      "model_module_version": "1.5.0",
      "model_name": "TextModel",
      "state": {
       "layout": "IPY_MODEL_411118d4a9234fcc89f4b21574eff432",
       "placeholder": "output filename",
       "style": "IPY_MODEL_b7b74978fcf94059a0455e88afdb3009",
       "value": "FlinFlon.geoh5"
      }
     },
     "6140eb80ca9f4e57ac186ae9916fea10": {
      "model_module": "@jupyter-widgets/controls",
      "model_module_version": "1.5.0",
      "model_name": "DescriptionStyleModel",
      "state": {
       "description_width": ""
      }
     },
     "618a55c39d8346ed91db8e1ce115b23d": {
      "model_module": "@jupyter-widgets/controls",
      "model_module_version": "1.5.0",
      "model_name": "DropdownModel",
      "state": {
       "_options_labels": [
        "C:\\Users\\dominiquef\\Documents\\GIT\\mira\\geoapps\\assets",
        "C:\\Users\\dominiquef\\Documents\\GIT\\mira\\geoapps",
        "C:\\Users\\dominiquef\\Documents\\GIT\\mira",
        "C:\\Users\\dominiquef\\Documents\\GIT",
        "C:\\Users\\dominiquef\\Documents",
        "C:\\Users\\dominiquef",
        "C:\\Users",
        "C:\\",
        "D:\\",
        "Z:\\"
       ],
       "index": 0,
       "layout": "IPY_MODEL_4dcf1b8607bd4b1489180a308e517cd1",
       "style": "IPY_MODEL_f615003ac3fb4583a307b32e7183ebed"
      }
     },
     "6198b6d223f94dc88b65be839d8fdba7": {
      "model_module": "@jupyter-widgets/base",
      "model_module_version": "1.2.0",
      "model_name": "LayoutModel",
      "state": {
       "grid_area": "dircontent",
       "width": "auto"
      }
     },
     "61fa5a7d948f464a852e18bbc185c101": {
      "model_module": "@jupyter-widgets/base",
      "model_module_version": "1.2.0",
      "model_name": "LayoutModel",
      "state": {}
     },
     "6252d4bcdbc64abb949f7331dfde1551": {
      "model_module": "@jupyter-widgets/controls",
      "model_module_version": "1.5.0",
      "model_name": "CheckboxModel",
      "state": {
       "description": "Geoscience ANALYST Pro - Live link",
       "disabled": false,
       "indent": false,
       "layout": "IPY_MODEL_1cbf3f1df5b9436db3b10e3e41c0b5cb",
       "style": "IPY_MODEL_82a4baab3790412eaeafb3a68d243ef3",
       "value": false
      }
     },
     "62ca0e1592ab4f3c9805222b955cf965": {
      "model_module": "@jupyter-widgets/controls",
      "model_module_version": "1.5.0",
      "model_name": "ButtonModel",
      "state": {
       "description": "Cancel",
       "layout": "IPY_MODEL_66c8051aea9f40b0a96680b0f9fe0fdf",
       "style": "IPY_MODEL_846a76a5e4254dc2a37afa5107124242"
      }
     },
     "62f93418baf847beb8ca62be9af8dd3c": {
      "model_module": "@jupyter-widgets/base",
      "model_module_version": "1.2.0",
      "model_name": "LayoutModel",
      "state": {}
     },
     "635d806ae9a342b8b81f72c871bbd6bd": {
      "model_module": "@jupyter-widgets/controls",
      "model_module_version": "1.5.0",
      "model_name": "VBoxModel",
      "state": {
       "children": [
        "IPY_MODEL_1b1d728488fd4ebbafb44b818d213adc",
        "IPY_MODEL_22e1be5b106d4433883f29d9ec2e36b5"
       ],
       "layout": "IPY_MODEL_70f2fd301c2e48cb85c216bd3bc79ede"
      }
     },
     "6389db6d7e2b4db1b3729041f26b7f41": {
      "model_module": "@jupyter-widgets/controls",
      "model_module_version": "1.5.0",
      "model_name": "ButtonModel",
      "state": {
       "description": "Create copy:",
       "layout": "IPY_MODEL_3c81891634744fc48e98fd7caf92abe6",
       "style": "IPY_MODEL_c47b1586e0a047e9aa6b2fdc72042ef9"
      }
     },
     "643cba90c5f34db681586bccc1aa4ea5": {
      "model_module": "@jupyter-widgets/controls",
      "model_module_version": "1.5.0",
      "model_name": "HBoxModel",
      "state": {
       "children": [
        "IPY_MODEL_c5f398ffff7c4d81bc6ac09c0b1f1bd9",
        "IPY_MODEL_fcb908e96d49465fa4dcd28393726869"
       ],
       "layout": "IPY_MODEL_d2ecfe46cc3c410f8fa8e71dcd2f8c91"
      }
     },
     "6447934f4ea74c459fba3bff11c7e5b0": {
      "model_module": "@jupyter-widgets/base",
      "model_module_version": "1.2.0",
      "model_name": "LayoutModel",
      "state": {}
     },
     "645ccd8b09544d1e90c39080532dc85c": {
      "model_module": "@jupyter-widgets/controls",
      "model_module_version": "1.5.0",
      "model_name": "DescriptionStyleModel",
      "state": {
       "description_width": ""
      }
     },
     "649fdaf1ff194895b6c9ea1b747e6cd2": {
      "model_module": "@jupyter-widgets/controls",
      "model_module_version": "1.5.0",
      "model_name": "DescriptionStyleModel",
      "state": {
       "description_width": ""
      }
     },
     "64c0fb7001ef4ecbbce3434897dd15a5": {
      "model_module": "@jupyter-widgets/controls",
      "model_module_version": "1.5.0",
      "model_name": "TextModel",
      "state": {
       "layout": "IPY_MODEL_6bc4e829b1f24f92a3750f87a5d94896",
       "placeholder": "output filename",
       "style": "IPY_MODEL_fb0c5be288674cae87f2cdbfa5fe2cee",
       "value": "FlinFlon.geoh5"
      }
     },
     "64d181d4079441478f130863b00b23f8": {
      "model_module": "@jupyter-widgets/base",
      "model_module_version": "1.2.0",
      "model_name": "LayoutModel",
      "state": {
       "width": "75%"
      }
     },
     "64fe1624883140079f944c87d84de49a": {
      "model_module": "@jupyter-widgets/base",
      "model_module_version": "1.2.0",
      "model_name": "LayoutModel",
      "state": {}
     },
     "65ae2c73d06f4c3ba4e6ca33fe1cbaaa": {
      "model_module": "@jupyter-widgets/base",
      "model_module_version": "1.2.0",
      "model_name": "LayoutModel",
      "state": {}
     },
     "65b3fedb298c436eb889d80ea34fc3bc": {
      "model_module": "@jupyter-widgets/base",
      "model_module_version": "1.2.0",
      "model_name": "LayoutModel",
      "state": {}
     },
     "660fefe5fee445ca9754c3765371956b": {
      "model_module": "@jupyter-widgets/base",
      "model_module_version": "1.2.0",
      "model_name": "LayoutModel",
      "state": {
       "width": "500px"
      }
     },
     "6642f8d200934c1487c58ab239db6b73": {
      "model_module": "@jupyter-widgets/controls",
      "model_module_version": "1.5.0",
      "model_name": "SelectModel",
      "state": {
       "_options_labels": [
        "📁 ..",
        "📁 SimPEG_PFInversion",
        "📁 Temp"
       ],
       "index": null,
       "layout": "IPY_MODEL_6198b6d223f94dc88b65be839d8fdba7",
       "rows": 8,
       "style": "IPY_MODEL_454fe867d17e4f9c9d2cf10ae2bdff06"
      }
     },
     "66687910e1214460b6a2e6fe4a32a6d5": {
      "model_module": "@jupyter-widgets/controls",
      "model_module_version": "1.5.0",
      "model_name": "DescriptionStyleModel",
      "state": {
       "description_width": ""
      }
     },
     "669b3b5d4731441880ce42ee778f1857": {
      "model_module": "@jupyter-widgets/base",
      "model_module_version": "1.2.0",
      "model_name": "LayoutModel",
      "state": {}
     },
     "66c8051aea9f40b0a96680b0f9fe0fdf": {
      "model_module": "@jupyter-widgets/base",
      "model_module_version": "1.2.0",
      "model_name": "LayoutModel",
      "state": {
       "display": "none",
       "width": "auto"
      }
     },
     "66c90849c3e4434e9cd1229bb576d7e8": {
      "model_module": "@jupyter-widgets/controls",
      "model_module_version": "1.5.0",
      "model_name": "ButtonModel",
      "state": {
       "description": "Change",
       "layout": "IPY_MODEL_ecd99e37a6624cafa4f1e89e82474a4b",
       "style": "IPY_MODEL_4a29af76e90344b3a6bee471c0d14c41"
      }
     },
     "6711ee4d0b504422b24dc6cf8191b265": {
      "model_module": "@jupyter-widgets/controls",
      "model_module_version": "1.5.0",
      "model_name": "ButtonModel",
      "state": {
       "description": ">> Add Variable >>",
       "layout": "IPY_MODEL_daf1ea5f1eb04c1c9120621d5609ea33",
       "style": "IPY_MODEL_d2fa9b18f6a3429f8c1734f7e9d4b617"
      }
     },
     "69451450994e4486923635cabb39d8a5": {
      "model_module": "@jupyter-widgets/controls",
      "model_module_version": "1.5.0",
      "model_name": "VBoxModel",
      "state": {
       "children": [
        "IPY_MODEL_fae0737f3a0a4c2d8c8f86cc383d6e49",
        "IPY_MODEL_4250f792592342ab8daa728aef2503b5"
       ],
       "layout": "IPY_MODEL_185466513beb4f4fa3e7636a9390262a"
      }
     },
     "6963d4cf515d49b48afbb4bd6c2e21c5": {
      "model_module": "@jupyter-widgets/base",
      "model_module_version": "1.2.0",
      "model_name": "LayoutModel",
      "state": {}
     },
     "696e6b4f204f41a0ba3adbc14dd05662": {
      "model_module": "@jupyter-widgets/controls",
      "model_module_version": "1.5.0",
      "model_name": "HBoxModel",
      "state": {
       "children": [
        "IPY_MODEL_89ad895a156a46829321dfc7017ead19",
        "IPY_MODEL_fa2315eeba3d4ed2a14306d675f99fde"
       ],
       "layout": "IPY_MODEL_61fa5a7d948f464a852e18bbc185c101"
      }
     },
     "6a17412aaf2c4677a4eef85d726b6f44": {
      "model_module": "@jupyter-widgets/base",
      "model_module_version": "1.2.0",
      "model_name": "LayoutModel",
      "state": {
       "display": "none",
       "width": "auto"
      }
     },
     "6aa42045c0454d4fbb8d7371ca0fac12": {
      "model_module": "@jupyter-widgets/controls",
      "model_module_version": "1.5.0",
      "model_name": "VBoxModel",
      "state": {
       "children": [
        "IPY_MODEL_3cf6ecd0edaa4fe8a77838582b021df0",
        "IPY_MODEL_ae7bfb4cb5af480bb7fd4341578ebb79"
       ],
       "layout": "IPY_MODEL_a901642c488d471883584a87154fdea3"
      }
     },
     "6b3a4bcabcae4e76b427015e475965ad": {
      "model_module": "@jupyter-widgets/controls",
      "model_module_version": "1.5.0",
      "model_name": "TextareaModel",
      "state": {
       "layout": "IPY_MODEL_12114d21a99a4f2288d26c5e926449f1",
       "style": "IPY_MODEL_19cb543480594d9793b6baba54c7583a",
       "value": "{NewChannel} = {Al2O3} + numpy.cos({CaO} / 30.0 * numpy.pi)"
      }
     },
     "6b3da000e6ad489b81e9153befe54147": {
      "model_module": "@jupyter-widgets/base",
      "model_module_version": "1.2.0",
      "model_name": "LayoutModel",
      "state": {}
     },
     "6b5cd705a32742cc8af6a1d6c4cd8f51": {
      "model_module": "@jupyter-widgets/base",
      "model_module_version": "1.2.0",
      "model_name": "LayoutModel",
      "state": {}
     },
     "6b6cc55693d04120bd2dfe5620ced9f7": {
      "model_module": "@jupyter-widgets/base",
      "model_module_version": "1.2.0",
      "model_name": "LayoutModel",
      "state": {
       "overflow": "auto"
      }
     },
     "6b745ee67ab640ec9449604b1550586a": {
      "model_module": "@jupyter-widgets/base",
      "model_module_version": "1.2.0",
      "model_name": "LayoutModel",
      "state": {}
     },
     "6b8c657cd95d41f18211b4422dfa13cc": {
      "model_module": "@jupyter-widgets/controls",
      "model_module_version": "1.5.0",
      "model_name": "ButtonStyleModel",
      "state": {}
     },
     "6ba10959f7894a6d9a23b0a0b5f50789": {
      "model_module": "@jupyter-widgets/base",
      "model_module_version": "1.2.0",
      "model_name": "LayoutModel",
      "state": {}
     },
     "6bbdac7c9529497385dda2e518bb3fb2": {
      "model_module": "@jupyter-widgets/base",
      "model_module_version": "1.2.0",
      "model_name": "LayoutModel",
      "state": {}
     },
     "6bc4e829b1f24f92a3750f87a5d94896": {
      "model_module": "@jupyter-widgets/base",
      "model_module_version": "1.2.0",
      "model_name": "LayoutModel",
      "state": {
       "grid_area": "filename",
       "width": "auto"
      }
     },
     "6d33749c9bf54ad18cb74a8818fa9027": {
      "model_module": "@jupyter-widgets/base",
      "model_module_version": "1.2.0",
      "model_name": "LayoutModel",
      "state": {}
     },
     "6d33e7a58407443bb2127e0fefd402a4": {
      "model_module": "@jupyter-widgets/base",
      "model_module_version": "1.2.0",
      "model_name": "LayoutModel",
      "state": {
       "display": "none"
      }
     },
     "6d693b4c29044268932c579782d64662": {
      "model_module": "@jupyter-widgets/base",
      "model_module_version": "1.2.0",
      "model_name": "LayoutModel",
      "state": {}
     },
     "6e296dfa525e4f02a42a7926e737bfe3": {
      "model_module": "@jupyter-widgets/controls",
      "model_module_version": "1.5.0",
      "model_name": "DescriptionStyleModel",
      "state": {
       "description_width": ""
      }
     },
     "6e9715fbf97b4c1f9d0920f7b591e680": {
      "model_module": "@jupyter-widgets/controls",
      "model_module_version": "1.5.0",
      "model_name": "DescriptionStyleModel",
      "state": {
       "description_width": "initial"
      }
     },
     "6f29a712b5e14ceca0ed0fa7529a6c6e": {
      "model_module": "@jupyter-widgets/base",
      "model_module_version": "1.2.0",
      "model_name": "LayoutModel",
      "state": {
       "grid_area": "filename",
       "width": "auto"
      }
     },
     "6f75d8be0c3942a8aa7e2ed75f9b6f7f": {
      "model_module": "@jupyter-widgets/controls",
      "model_module_version": "1.5.0",
      "model_name": "DropdownModel",
      "state": {
       "_options_labels": [
        "",
        "fault_splay1",
        "fault_Cliff_Lake",
        "fault_Other_FlinFlon",
        "fault_Club_Lake_splay",
        "fault_Catherine_splay2",
        "fault_Birch_View",
        "fault_Dion_Lake",
        "fault_FlinFlon_splay",
        "fault_West_Mandy_Road",
        "fault_Channing",
        "fault_Ross_Lake",
        "fault_Louis_Hidden",
        "fault_Lake_View_thrust",
        "contact_Schist_Lake",
        "fault_Burley_Lake",
        "fault_Dion_Lake_splay",
        "fault_Green_Lake",
        "fault_FlinFlon",
        "fault_Catherine_splay1",
        "fault_East_Mandy_Road",
        "fault_Other_FlinFlon_South",
        "fault_Catherine_splay4",
        "contact_Stitt_Island",
        "fault_Club_Lake",
        "fault_Tailing_Pond",
        "35_Hidden_Reservoir_Hr5",
        "29_Hidden_Reservoir_Hr1a",
        "60_BlueLagoon_Fb2",
        "20_FlinFlon_Undivided_Int_Dykes_D2f",
        "04_Boundary_Intrusive_S4h",
        "53_Millrock_Rhyolite_Fm4b",
        "19_FlinFlon_Undivided_Int_Dykes_D2b",
        "18_FlinFlon_Undivided_Int_Dykes_777_D2b",
        "06_Phantom_Lake_Intrusive_S3a",
        "21_FlinFlon_Undivided_Int_Dykes_D3a",
        "43_Millrock_CHLSH_South",
        "56_Millrock_Basalt_Fm1ba",
        "17_FlinFlon_Undivided_Int_Dykes_D2",
        "32_Hidden_Reservoir_Hr1b_SW",
        "11_Missi_M3_NE",
        "13_Missi_M1",
        "07_Annabel_Granitoid_S1",
        "45_Millrock_Gabbro_South",
        "01_Late_Intrusive_S5b",
        "31_Hidden_Reservoir_Hr1c_SW",
        "52_Millrock_Rhyolite_Fm4_West_check",
        "55_Millrock_Basalt_Fm1bf",
        "34_Hidden_Reservoir_Hr2b",
        "03_Boundary_Intrusive_S4b",
        "42_Millrock_CHLSH_North",
        "26_Louis_L3",
        "23_FlinFlon_Undivided_Int_Felsic_D4g",
        "30_Hidden_Reservoir_Hr1b",
        "59_BlueLagoon_Fb3",
        "49_Millrock_MVR_Fm5d",
        "44_Millrock_Gabbro_North",
        "27_Hidden_Carlisle_Hc4",
        "22_FlinFlon_Undivided_Int_Felsic_D4e",
        "02_Boundary_Intrusive_S4a",
        "61_BlueLagoon_Fb1_NW",
        "05_Boundary_Intrusive_S4g",
        "39_Ore_Callinan",
        "38_Ore_Dan_Owens",
        "40_Ore_FlinFlon",
        "Inversion_VTEM_Model",
        "Gravity_Magnetics_drape60m",
        "CDI_VTEM_model",
        "Data_FEM_pseudo3D",
        "O2O_Interp_25m",
        "geochem",
        "Inversion_DIGHEM_Model",
        "Topography",
        "Data_TEM_pseudo3D",
        "Data_ZTEM",
        "Mesh"
       ],
       "description": "Object:",
       "index": 70,
       "layout": "IPY_MODEL_58c6fbdeff67415a9cf65bac9fbdc9e8",
       "style": "IPY_MODEL_b86e94de665844a7812b50d21a1d86c8"
      }
     },
     "6f910ade1a224826aca349f7c4bd0b2b": {
      "model_module": "@jupyter-widgets/base",
      "model_module_version": "1.2.0",
      "model_name": "LayoutModel",
      "state": {}
     },
     "70a7b64fe03b4281b1e0fc3233765d47": {
      "model_module": "@jupyter-widgets/base",
      "model_module_version": "1.2.0",
      "model_name": "LayoutModel",
      "state": {}
     },
     "70da2ea91a614795a1b25683c66b7fa6": {
      "model_module": "@jupyter-widgets/controls",
      "model_module_version": "1.5.0",
      "model_name": "DescriptionStyleModel",
      "state": {
       "description_width": "initial"
      }
     },
     "70f2fd301c2e48cb85c216bd3bc79ede": {
      "model_module": "@jupyter-widgets/base",
      "model_module_version": "1.2.0",
      "model_name": "LayoutModel",
      "state": {}
     },
     "710b3e76ed05483191a508e7a9ea0cca": {
      "model_module": "@jupyter-widgets/controls",
      "model_module_version": "1.5.0",
      "model_name": "DescriptionStyleModel",
      "state": {
       "description_width": ""
      }
     },
     "710dabc608094bf7980d311af964310c": {
      "model_module": "@jupyter-widgets/controls",
      "model_module_version": "1.5.0",
      "model_name": "ButtonModel",
      "state": {
       "description": "Cancel",
       "layout": "IPY_MODEL_260d4360e5fa4421894bf5c365dae5a3",
       "style": "IPY_MODEL_7fe7acebf0bf40e3a75f4f2ddf360e58"
      }
     },
     "71e327501e7149a197cba52d9a94cbc3": {
      "model_module": "@jupyter-widgets/controls",
      "model_module_version": "1.5.0",
      "model_name": "HTMLModel",
      "state": {
       "layout": "IPY_MODEL_dea9f2ef8fb848a2aa2a8ad8b4e4b93a",
       "placeholder": "",
       "style": "IPY_MODEL_03f137b218ea42338551327fc92f2d4c",
       "value": "<span style=\"color:green;\">C:\\Users\\dominiquef\\Documents\\GIT\\mira\\geoapps\\assets\\Temp\\</span>"
      }
     },
     "722e0e2a5d514ce48c8be57794527543": {
      "model_module": "@jupyter-widgets/controls",
      "model_module_version": "1.5.0",
      "model_name": "ButtonStyleModel",
      "state": {}
     },
     "723731cf97af4d62bb55085a406394c4": {
      "model_module": "@jupyter-widgets/base",
      "model_module_version": "1.2.0",
      "model_name": "LayoutModel",
      "state": {
       "width": "auto"
      }
     },
     "7242bc1e4bd24453a73df4f5a9e9b1a7": {
      "model_module": "@jupyter-widgets/controls",
      "model_module_version": "1.5.0",
      "model_name": "DropdownModel",
      "state": {
       "_options_labels": [
        "",
        "ISO/Iso_Iteration_7_model_5_00e-03",
        "ISO/Iso_Iteration_7_model_1_50e-02",
        "ISO/Iso_Iteration_7_model_2_50e-03",
        "ISO/Iso_Iteration_7_model_1_00e-02",
        "ISO/Iso_Iteration_7_model_2_00e-02",
        "Ore/39_Ore_Callinan",
        "Ore/38_Ore_Dan_Owens",
        "Ore/40_Ore_FlinFlon",
        "CDI/COND_surface",
        "CDI/COND[8]_surface",
        "CDI/COND[18]_surface",
        "CDI/COND[3]_surface",
        "CDI/COND[13]_surface",
        "CDI/CDI_",
        "Workspace/InterpGrid",
        "Workspace/Inversion_VTEM_Model",
        "Workspace/InterpGrid",
        "Workspace/Gravity_Magnetics_drape60m",
        "Workspace/CDI_VTEM_model",
        "Workspace/Data_FEM_pseudo3D",
        "Workspace/O2O_Interp_25m",
        "Workspace/geochem",
        "Workspace/Inversion_DIGHEM_Model",
        "Workspace/InterpGrid",
        "Workspace/Topography",
        "Workspace/Data_TEM_pseudo3D",
        "Workspace/Data_ZTEM",
        "Workspace/Mesh",
        "Workspace/InterpGrid"
       ],
       "description": "Object:",
       "index": 22,
       "layout": "IPY_MODEL_0288cc076f2b443b90ea1ffade755277",
       "style": "IPY_MODEL_70da2ea91a614795a1b25683c66b7fa6"
      }
     },
     "725bbd5ff48b42c0a5411b271fc980c8": {
      "model_module": "@jupyter-widgets/controls",
      "model_module_version": "1.5.0",
      "model_name": "VBoxModel",
      "state": {
       "children": [
        "IPY_MODEL_5c3636745f8f4cd7a58f58c81bb54169",
        "IPY_MODEL_8584d643b08248e18a8dfd27716da5a4",
        "IPY_MODEL_974acc3dc71c4c96a15b7e102fc244e2"
       ],
       "layout": "IPY_MODEL_d5299360a38840ebb80a174d084506b0"
      }
     },
     "72b5c62bbaef42649ca0c604fe209b11": {
      "model_module": "@jupyter-widgets/base",
      "model_module_version": "1.2.0",
      "model_name": "LayoutModel",
      "state": {}
     },
     "72c01ea72822447089e53f8303f9cd8e": {
      "model_module": "@jupyter-widgets/base",
      "model_module_version": "1.2.0",
      "model_name": "LayoutModel",
      "state": {}
     },
     "72e5375bb6074414a007f68c4666a94f": {
      "model_module": "@jupyter-widgets/base",
      "model_module_version": "1.2.0",
      "model_name": "LayoutModel",
      "state": {}
     },
     "72e8009d267847bd933c25e501842fc5": {
      "model_module": "@jupyter-widgets/controls",
      "model_module_version": "1.5.0",
      "model_name": "ButtonModel",
      "state": {
       "description": "Cancel",
       "layout": "IPY_MODEL_6a17412aaf2c4677a4eef85d726b6f44",
       "style": "IPY_MODEL_373d83f955494f7ba6be98f484ab0900"
      }
     },
     "7314674fdf3d4923965f53afc66e8241": {
      "model_module": "@jupyter-widgets/controls",
      "model_module_version": "1.5.0",
      "model_name": "SelectModel",
      "state": {
       "_options_labels": [
        "📁 ..",
        "📁 SimPEG_PFInversion",
        "📁 Temp",
        "📁 uijson",
        "FlinFlon.geoh5",
        "FlinFlon_dcip.geoh5",
        "FlinFlon_natural_sources.geoh5",
        "MtDore_TMI.geoh5",
        "tem.geoh5",
        "test_forward.ui.geoh5",
        "test_forward.ui.json"
       ],
       "index": 4,
       "layout": "IPY_MODEL_5e0455346f6b42c5b957d17d4916a9b7",
       "rows": 8,
       "style": "IPY_MODEL_f86ce0f969af4b2e94784bef8466a326"
      }
     },
     "733687bf89144251a6ba7bc9127e7017": {
      "model_module": "@jupyter-widgets/controls",
      "model_module_version": "1.5.0",
      "model_name": "DescriptionStyleModel",
      "state": {
       "description_width": "initial"
      }
     },
     "7342a1a0ca324b48bdd18609738e8418": {
      "model_module": "@jupyter-widgets/controls",
      "model_module_version": "1.5.0",
      "model_name": "SelectMultipleModel",
      "state": {
       "_options_labels": [
        "Ag",
        "Al2O3",
        "As",
        "Au",
        "Ba",
        "Be",
        "Bi",
        "CaO",
        "Cd",
        "Ce",
        "Cl",
        "Co",
        "Cr",
        "Cr2O3",
        "Cs",
        "Ctot",
        "Cu",
        "Dy",
        "Er",
        "Eu",
        "F",
        "Fe2O3",
        "Ga",
        "Gd",
        "Ge",
        "Hf",
        "Hg",
        "Ho",
        "In",
        "Ir",
        "K2O",
        "LOI",
        "La",
        "Li",
        "Lu",
        "MgO",
        "MnO",
        "Mo",
        "Na2O",
        "Nb",
        "Nd",
        "NewChannel",
        "Ni",
        "Ni2",
        "P2O5",
        "Pb",
        "Pr",
        "Rb",
        "SUM",
        "Sb",
        "Sc",
        "Se",
        "SiO2",
        "Sm",
        "Sn",
        "Sr",
        "Stot",
        "Ta",
        "Tb",
        "Th",
        "Ti",
        "TiO2",
        "Tl",
        "Tm",
        "U",
        "V",
        "Visual Parameters",
        "W",
        "Y_",
        "Yb",
        "Zn",
        "Zr",
        "interval_length"
       ],
       "description": "Data: ",
       "index": [
        1,
        7
       ],
       "layout": "IPY_MODEL_4515819e09fc43c69d23ab776274ffc4",
       "rows": 5,
       "style": "IPY_MODEL_889a2069aaf24557aefe6c4cf2609c01"
      }
     },
     "7415a9b6b31047a1847c880c3a7dfa67": {
      "model_module": "@jupyter-widgets/controls",
      "model_module_version": "1.5.0",
      "model_name": "DescriptionStyleModel",
      "state": {
       "description_width": ""
      }
     },
     "7571401917df4970a3a656545c8c333c": {
      "model_module": "@jupyter-widgets/controls",
      "model_module_version": "1.5.0",
      "model_name": "ButtonStyleModel",
      "state": {}
     },
     "75a7f948a91a4389b886fb440b227892": {
      "model_module": "@jupyter-widgets/base",
      "model_module_version": "1.2.0",
      "model_name": "LayoutModel",
      "state": {}
     },
     "75b3460d86f74e1ca384207d586f9b5e": {
      "model_module": "@jupyter-widgets/controls",
      "model_module_version": "1.5.0",
      "model_name": "TextModel",
      "state": {
       "description": "Name: ",
       "layout": "IPY_MODEL_60e64d8ce8d24266b623c19dbd6f1a02",
       "style": "IPY_MODEL_e69e57b3d4134824b94fe30a02bb24d6"
      }
     },
     "75d9e9ebad5243b58bddff014e41f383": {
      "model_module": "@jupyter-widgets/controls",
      "model_module_version": "1.5.0",
      "model_name": "ButtonModel",
      "state": {
       "description": "Cancel",
       "layout": "IPY_MODEL_95eb4f54793e4795928f99dce900043f",
       "style": "IPY_MODEL_e2009489ca1246bf819184a12f1890ff"
      }
     },
     "76023be53e3843f69447960eaaf024d5": {
      "model_module": "@jupyter-widgets/base",
      "model_module_version": "1.2.0",
      "model_name": "LayoutModel",
      "state": {}
     },
     "7650d03dd81d48e8ab5ecbbb7c1131be": {
      "model_module": "@jupyter-widgets/controls",
      "model_module_version": "1.5.0",
      "model_name": "HTMLModel",
      "state": {
       "layout": "IPY_MODEL_b2e1d180902d4cf38e40b5765963e147",
       "placeholder": "",
       "style": "IPY_MODEL_4f519f104a3e4d52803b8ecfb86a392b",
       "value": "<span style=\"margin-left:10px; color:orange;\">C:\\Users\\dominiquef\\Documents\\GIT\\mira\\geoapps\\assets\\FlinFlon.geoh5</span>"
      }
     },
     "767aeb8b2dc94311b621039a0af02a99": {
      "model_module": "@jupyter-widgets/controls",
      "model_module_version": "1.5.0",
      "model_name": "DescriptionStyleModel",
      "state": {
       "description_width": "initial"
      }
     },
     "7684f671b6ea427f926f087fc90354c6": {
      "model_module": "@jupyter-widgets/controls",
      "model_module_version": "1.5.0",
      "model_name": "DescriptionStyleModel",
      "state": {
       "description_width": "initial"
      }
     },
     "76867dd8c2164c4b8d32bf4eddee30a1": {
      "model_module": "@jupyter-widgets/controls",
      "model_module_version": "1.5.0",
      "model_name": "SelectModel",
      "state": {
       "_options_labels": [
        "..",
        "Temp",
        "FlinFlon.geoh5",
        "Inversion_.json",
        "MtDore_TMI.geoh5"
       ],
       "index": 2,
       "layout": "IPY_MODEL_2685333a0d3741bb9c8278889556fc3d",
       "rows": 8,
       "style": "IPY_MODEL_5973383426b346f782b8e0e36b48933b"
      }
     },
     "7689493bf8f24d7eb399b58237504f84": {
      "model_module": "@jupyter-widgets/controls",
      "model_module_version": "1.5.0",
      "model_name": "ButtonModel",
      "state": {
       "description": "Create copy:",
       "layout": "IPY_MODEL_5f10510ecd6943c3903b4339ff53ae41",
       "style": "IPY_MODEL_ab163e995e5f4fd8ac74baa3cd4d9003"
      }
     },
     "76bb50c1afb540988e9b12f0dddb8676": {
      "model_module": "@jupyter-widgets/controls",
      "model_module_version": "1.5.0",
      "model_name": "DescriptionStyleModel",
      "state": {
       "description_width": "initial"
      }
     },
     "771c493ead3a414b8148c9f3082313e1": {
      "model_module": "@jupyter-widgets/base",
      "model_module_version": "1.2.0",
      "model_name": "LayoutModel",
      "state": {}
     },
     "773722dbdddf489a9426517b419e05e9": {
      "model_module": "@jupyter-widgets/controls",
      "model_module_version": "1.5.0",
      "model_name": "DescriptionStyleModel",
      "state": {
       "description_width": ""
      }
     },
     "7743497aedeb473886fb3d138e1602bf": {
      "model_module": "@jupyter-widgets/base",
      "model_module_version": "1.2.0",
      "model_name": "LayoutModel",
      "state": {
       "display": "none",
       "grid_area": "filename",
       "width": "auto"
      }
     },
     "775c07903fe344769eca394474ae3500": {
      "model_module": "@jupyter-widgets/controls",
      "model_module_version": "1.5.0",
      "model_name": "ButtonStyleModel",
      "state": {}
     },
     "777443fe46dd42b1a6d72a9c16fe50b8": {
      "model_module": "@jupyter-widgets/controls",
      "model_module_version": "1.5.0",
      "model_name": "BoxModel",
      "state": {
       "children": [
        "IPY_MODEL_ab8cb2d5b3084c9f9cd0c4ed062b45c9"
       ],
       "layout": "IPY_MODEL_b9fdedab907a4b5e89143435dd2c8431"
      }
     },
     "77b0bbefc7c54c4a9fd7d52aad74c09e": {
      "model_module": "@jupyter-widgets/base",
      "model_module_version": "1.2.0",
      "model_name": "LayoutModel",
      "state": {}
     },
     "77dbbad1847b4570b239c2ae06636ea6": {
      "model_module": "@jupyter-widgets/controls",
      "model_module_version": "1.5.0",
      "model_name": "BoxModel",
      "state": {
       "children": [
        "IPY_MODEL_e6e5b6da007b4593abeb0e1b51d04a83"
       ],
       "layout": "IPY_MODEL_6b6cc55693d04120bd2dfe5620ced9f7"
      }
     },
     "77e2e9c4ecc449e9a4e9687baa3e9c9d": {
      "model_module": "@jupyter-widgets/controls",
      "model_module_version": "1.5.0",
      "model_name": "TextModel",
      "state": {
       "continuous_update": false,
       "description": "Group:",
       "layout": "IPY_MODEL_0325595a163d4e3bb47dde122e1b76ab",
       "style": "IPY_MODEL_f8899f178f084be8aeac2bbb82e2f4e2"
      }
     },
     "7844df1654f640ecbc03df57b03c7c5e": {
      "model_module": "@jupyter-widgets/base",
      "model_module_version": "1.2.0",
      "model_name": "LayoutModel",
      "state": {
       "width": "100%"
      }
     },
     "78463de9d93f4653bdfdc29a9937e617": {
      "model_module": "@jupyter-widgets/base",
      "model_module_version": "1.2.0",
      "model_name": "LayoutModel",
      "state": {}
     },
     "785ae4dedb0e4ed5b050c6fef3514502": {
      "model_module": "@jupyter-widgets/controls",
      "model_module_version": "1.5.0",
      "model_name": "ButtonStyleModel",
      "state": {}
     },
     "78675e44865d45fdaee791888ed766b5": {
      "model_module": "@jupyter-widgets/controls",
      "model_module_version": "1.5.0",
      "model_name": "DescriptionStyleModel",
      "state": {
       "description_width": ""
      }
     },
     "786a65f45cd74469afe76eb8861987ab": {
      "model_module": "@jupyter-widgets/controls",
      "model_module_version": "1.5.0",
      "model_name": "DescriptionStyleModel",
      "state": {
       "description_width": ""
      }
     },
     "79205e3b815342adbb84d48aad29a229": {
      "model_module": "@jupyter-widgets/controls",
      "model_module_version": "1.5.0",
      "model_name": "ButtonStyleModel",
      "state": {}
     },
     "79379692ff2449e0949de20d60d50ee8": {
      "model_module": "@jupyter-widgets/base",
      "model_module_version": "1.2.0",
      "model_name": "LayoutModel",
      "state": {}
     },
     "79582cdfa3c24c9bb3da30251c065774": {
      "model_module": "@jupyter-widgets/controls",
      "model_module_version": "1.5.0",
      "model_name": "GridBoxModel",
      "state": {
       "children": [
        "IPY_MODEL_ad6e087b8b8c4b3f9c502a3e546ba7e5",
        "IPY_MODEL_4d0597ec4e214adf8eedfc396e373be9",
        "IPY_MODEL_2f8c499df99145cd9ad2ab9268c66a63"
       ],
       "layout": "IPY_MODEL_8b2a41da771a489581648ea8c41a67af"
      }
     },
     "79626b9f58bc42888c31560e84a8b5bb": {
      "model_module": "@jupyter-widgets/controls",
      "model_module_version": "1.5.0",
      "model_name": "DescriptionStyleModel",
      "state": {
       "description_width": ""
      }
     },
     "79ab31d090804d048ea53f5609b86dd2": {
      "model_module": "@jupyter-widgets/base",
      "model_module_version": "1.2.0",
      "model_name": "LayoutModel",
      "state": {
       "grid_area": "pathlist",
       "width": "auto"
      }
     },
     "79cfa2ab02d74527b33cdbc1c39c483e": {
      "model_module": "@jupyter-widgets/controls",
      "model_module_version": "1.5.0",
      "model_name": "LabelModel",
      "state": {
       "layout": "IPY_MODEL_477e5dd73df542d6863d3fd1a05c5bd3",
       "style": "IPY_MODEL_f224705a2bc24ebea42f4a90e1d0dc0c",
       "value": "Monitoring folder"
      }
     },
     "7a11c857df9d4d89b5a1d3fcee521826": {
      "model_module": "@jupyter-widgets/controls",
      "model_module_version": "1.5.0",
      "model_name": "DropdownModel",
      "state": {
       "_options_labels": [
        "C:\\Users\\dominiquef\\Documents\\GIT\\mira\\geoapps\\assets",
        "C:\\Users\\dominiquef\\Documents\\GIT\\mira\\geoapps",
        "C:\\Users\\dominiquef\\Documents\\GIT\\mira",
        "C:\\Users\\dominiquef\\Documents\\GIT",
        "C:\\Users\\dominiquef\\Documents",
        "C:\\Users\\dominiquef",
        "C:\\Users",
        "C:\\",
        "G:\\",
        "\\\\EgnyteDrive\\mirageoscience\\",
        "D:\\"
       ],
       "index": 0,
       "layout": "IPY_MODEL_a48f18c123994a4ebafcf4a62b114c75",
       "style": "IPY_MODEL_b95c6e26affc4f46bba2a78eb7b1fe86"
      }
     },
     "7a9f0ca21ca74e7a8c22d3c88b792f6a": {
      "model_module": "@jupyter-widgets/controls",
      "model_module_version": "1.5.0",
      "model_name": "LabelModel",
      "state": {
       "layout": "IPY_MODEL_8f95004d4b7b405b9f62e5ee92303621",
       "style": "IPY_MODEL_5041b95c581a4751abf7afab62fbdbbb",
       "value": "Monitoring folder"
      }
     },
     "7aabe8a6a1dd468aabf77b7ab882a0b4": {
      "model_module": "@jupyter-widgets/controls",
      "model_module_version": "1.5.0",
      "model_name": "ToggleButtonModel",
      "state": {
       "layout": "IPY_MODEL_72c01ea72822447089e53f8303f9cd8e",
       "style": "IPY_MODEL_0c9baae7fc6c4b31a155b7bf05c913a3",
       "value": true
      }
     },
     "7b37a4a08e51448da99c9f21281e6fb0": {
      "model_module": "@jupyter-widgets/controls",
      "model_module_version": "1.5.0",
      "model_name": "DescriptionStyleModel",
      "state": {
       "description_width": ""
      }
     },
     "7c668002a0ea413ea44c233bf74ae5ca": {
      "model_module": "@jupyter-widgets/controls",
      "model_module_version": "1.5.0",
      "model_name": "ButtonModel",
      "state": {
       "description": "Change",
       "layout": "IPY_MODEL_89ca838742d749db8556b737ba31b98f",
       "style": "IPY_MODEL_92aaef1b72d8414896a0e93c256415d5"
      }
     },
     "7c67c6914c824a1badef75b6bb8473bc": {
      "model_module": "@jupyter-widgets/base",
      "model_module_version": "1.2.0",
      "model_name": "LayoutModel",
      "state": {}
     },
     "7c7e4793b10446de8db885f2a5e0f4da": {
      "model_module": "@jupyter-widgets/controls",
      "model_module_version": "1.5.0",
      "model_name": "DescriptionStyleModel",
      "state": {
       "description_width": "initial"
      }
     },
     "7ca0e83d92b749d1acde29fa854d72f9": {
      "model_module": "@jupyter-widgets/controls",
      "model_module_version": "1.5.0",
      "model_name": "DescriptionStyleModel",
      "state": {
       "description_width": ""
      }
     },
     "7ca83751f9894af0b07b4c863878fb7c": {
      "model_module": "@jupyter-widgets/controls",
      "model_module_version": "1.5.0",
      "model_name": "ButtonStyleModel",
      "state": {}
     },
     "7cbde29fd6f441b98d39f5133314a6ff": {
      "model_module": "@jupyter-widgets/controls",
      "model_module_version": "1.5.0",
      "model_name": "TextareaModel",
      "state": {
       "layout": "IPY_MODEL_f98f933924f4430099a6f5ec87629236",
       "style": "IPY_MODEL_a5507ba8628d4f5faf5b694f33d41ecc",
       "value": "{NewChannel} = {Al2O3} + numpy.cos({CaO} / numpy.max({CaO}) * numpy.pi)"
      }
     },
     "7ce707a0c6b5491184b7fd7c49cc6a03": {
      "model_module": "@jupyter-widgets/controls",
      "model_module_version": "1.5.0",
      "model_name": "LabelModel",
      "state": {
       "layout": "IPY_MODEL_3c18bbdf1c8945f7989afd6cc6f7a212",
       "style": "IPY_MODEL_2e6413e202c048689777a1882ef00471",
       "value": "Monitoring folder"
      }
     },
     "7d27d160b5544747947b0dbe48194ebb": {
      "model_module": "@jupyter-widgets/base",
      "model_module_version": "1.2.0",
      "model_name": "LayoutModel",
      "state": {
       "width": "auto"
      }
     },
     "7d87ae57cd4f46f79aa0009fce0fb8d0": {
      "model_module": "@jupyter-widgets/base",
      "model_module_version": "1.2.0",
      "model_name": "LayoutModel",
      "state": {
       "width": "auto"
      }
     },
     "7d9e2eb4b42e4a66bca5f0c62aa4088f": {
      "model_module": "@jupyter-widgets/controls",
      "model_module_version": "1.5.0",
      "model_name": "LabelModel",
      "state": {
       "layout": "IPY_MODEL_87a90041e88f4ad790f07ff73fd7b425",
       "style": "IPY_MODEL_7c7e4793b10446de8db885f2a5e0f4da",
       "value": "Workspace"
      }
     },
     "7db4c519e0074da18f3218a141295811": {
      "model_module": "@jupyter-widgets/base",
      "model_module_version": "1.2.0",
      "model_name": "LayoutModel",
      "state": {
       "grid_area": "pathlist",
       "width": "auto"
      }
     },
     "7dfa87230b464f988804f1f75fd1509f": {
      "model_module": "@jupyter-widgets/base",
      "model_module_version": "1.2.0",
      "model_name": "LayoutModel",
      "state": {
       "overflow": "auto"
      }
     },
     "7e4861b77c024a5a9f7d645bbb89ef11": {
      "model_module": "@jupyter-widgets/controls",
      "model_module_version": "1.5.0",
      "model_name": "TextareaModel",
      "state": {
       "layout": "IPY_MODEL_3556845a85e644bd8439e1b21e4e9f15",
       "style": "IPY_MODEL_93a531d060004dd582d1908c116312f2",
       "value": "{NewChannel} = {Al2O3} + numpy.cos({CaO} / 30.0 * numpy.pi)"
      }
     },
     "7e4fb161edb84c59860d34a1669029d3": {
      "model_module": "@jupyter-widgets/controls",
      "model_module_version": "1.5.0",
      "model_name": "DescriptionStyleModel",
      "state": {
       "description_width": ""
      }
     },
     "7e716f4898cb4d84bfe0418259c737ba": {
      "model_module": "@jupyter-widgets/controls",
      "model_module_version": "1.5.0",
      "model_name": "DescriptionStyleModel",
      "state": {
       "description_width": "initial"
      }
     },
     "7e852d6e319b46d29943fa50710927f0": {
      "model_module": "@jupyter-widgets/controls",
      "model_module_version": "1.5.0",
      "model_name": "DescriptionStyleModel",
      "state": {
       "description_width": ""
      }
     },
     "7ecf259ee5f444afbf120cf5aeae1d82": {
      "model_module": "@jupyter-widgets/controls",
      "model_module_version": "1.5.0",
      "model_name": "ButtonStyleModel",
      "state": {}
     },
     "7ede5d71dfbe45398d281e6e3566b84a": {
      "model_module": "@jupyter-widgets/controls",
      "model_module_version": "1.5.0",
      "model_name": "DescriptionStyleModel",
      "state": {
       "description_width": ""
      }
     },
     "7ee8aaca436d480ba51c004482658ec1": {
      "model_module": "@jupyter-widgets/controls",
      "model_module_version": "1.5.0",
      "model_name": "HTMLModel",
      "state": {
       "layout": "IPY_MODEL_faf8537481fd411a810526f35a96db52",
       "placeholder": "",
       "style": "IPY_MODEL_0a8df30dd18a4ba38e786110272bfd4d",
       "value": "<span style=\"color:orange;\">C:\\Users\\dominiquef\\Documents\\GIT\\mira\\geoapps\\assets\\FlinFlon.geoh5</span>"
      }
     },
     "7ef11fc7bda8435fa28b1310d80aa987": {
      "model_module": "@jupyter-widgets/controls",
      "model_module_version": "1.5.0",
      "model_name": "DescriptionStyleModel",
      "state": {
       "description_width": "initial"
      }
     },
     "7fe7acebf0bf40e3a75f4f2ddf360e58": {
      "model_module": "@jupyter-widgets/controls",
      "model_module_version": "1.5.0",
      "model_name": "ButtonStyleModel",
      "state": {}
     },
     "80368b04228a4624b377fdea3f6112ac": {
      "model_module": "@jupyter-widgets/base",
      "model_module_version": "1.2.0",
      "model_name": "LayoutModel",
      "state": {}
     },
     "80466409df824d2481e35f6bbeb8d81e": {
      "model_module": "@jupyter-widgets/base",
      "model_module_version": "1.2.0",
      "model_name": "LayoutModel",
      "state": {
       "width": "auto"
      }
     },
     "8071270666514d5780c928830043f9ce": {
      "model_module": "@jupyter-widgets/controls",
      "model_module_version": "1.5.0",
      "model_name": "HBoxModel",
      "state": {
       "children": [
        "IPY_MODEL_725bbd5ff48b42c0a5411b271fc980c8",
        "IPY_MODEL_32ce97bce80448b1ae881a3c741abb19"
       ],
       "layout": "IPY_MODEL_d942fc4774f84d68aed30037354aa47e"
      }
     },
     "8097d3a18d494a3c8f57bf7cd1ccd9f1": {
      "model_module": "@jupyter-widgets/controls",
      "model_module_version": "1.5.0",
      "model_name": "ButtonModel",
      "state": {
       "description": "Cancel",
       "layout": "IPY_MODEL_1d54e797ea9945d190b56b7e4b8c0d2b",
       "style": "IPY_MODEL_a180aad6a9194bb8b208239fdc5ad396"
      }
     },
     "809f3ebc5df6403c962320716dfcebca": {
      "model_module": "@jupyter-widgets/controls",
      "model_module_version": "1.5.0",
      "model_name": "DescriptionStyleModel",
      "state": {
       "description_width": ""
      }
     },
     "80e49a4394934273be4d57974c37c842": {
      "model_module": "@jupyter-widgets/controls",
      "model_module_version": "1.5.0",
      "model_name": "DescriptionStyleModel",
      "state": {
       "description_width": ""
      }
     },
     "80f8c593ea93494fba4d62db358c6592": {
      "model_module": "@jupyter-widgets/base",
      "model_module_version": "1.2.0",
      "model_name": "LayoutModel",
      "state": {}
     },
     "81015ed242ec499cb6c997b3f1c0f7c6": {
      "model_module": "@jupyter-widgets/controls",
      "model_module_version": "1.5.0",
      "model_name": "DescriptionStyleModel",
      "state": {
       "description_width": ""
      }
     },
     "817e4db94756406ea816e98457a99c11": {
      "model_module": "@jupyter-widgets/controls",
      "model_module_version": "1.5.0",
      "model_name": "TextModel",
      "state": {
       "layout": "IPY_MODEL_4d6087d967b04c18862b257dbd88d7b9",
       "placeholder": "output filename",
       "style": "IPY_MODEL_2b21d7d953ff4a8691e75c81e8e5b0f2",
       "value": "FlinFlon.geoh5"
      }
     },
     "8189d8e7c48e4d9482a189fef12e64a6": {
      "model_module": "@jupyter-widgets/controls",
      "model_module_version": "1.5.0",
      "model_name": "HBoxModel",
      "state": {
       "children": [
        "IPY_MODEL_05061b12b4fe4a66b73e98fd5f506c5a",
        "IPY_MODEL_6711ee4d0b504422b24dc6cf8191b265"
       ],
       "layout": "IPY_MODEL_422cc9b2a7a341ed8c87a0611edf9870"
      }
     },
     "81aebae6d41b4ae89d5a3f6ca1bd378c": {
      "model_module": "@jupyter-widgets/base",
      "model_module_version": "1.2.0",
      "model_name": "LayoutModel",
      "state": {}
     },
     "82386c5c01b84dd0a961d54df15e516a": {
      "model_module": "@jupyter-widgets/controls",
      "model_module_version": "1.5.0",
      "model_name": "ButtonStyleModel",
      "state": {}
     },
     "824c9faf8e304c09bbc6488ae158f9bc": {
      "model_module": "@jupyter-widgets/controls",
      "model_module_version": "1.5.0",
      "model_name": "DescriptionStyleModel",
      "state": {
       "description_width": "initial"
      }
     },
     "828cce28cfd1446385a8c55ec5240f49": {
      "model_module": "@jupyter-widgets/base",
      "model_module_version": "1.2.0",
      "model_name": "LayoutModel",
      "state": {}
     },
     "82a4baab3790412eaeafb3a68d243ef3": {
      "model_module": "@jupyter-widgets/controls",
      "model_module_version": "1.5.0",
      "model_name": "DescriptionStyleModel",
      "state": {
       "description_width": "initial"
      }
     },
     "8341837b52a444429c8fce193723e741": {
      "model_module": "@jupyter-widgets/controls",
      "model_module_version": "1.5.0",
      "model_name": "VBoxModel",
      "state": {
       "children": [
        "IPY_MODEL_f443b7a68a6b474fa1be790e963c145f",
        "IPY_MODEL_696e6b4f204f41a0ba3adbc14dd05662"
       ],
       "layout": "IPY_MODEL_be7d6ffe42514eceaeaeab202154fc40"
      }
     },
     "8373a2c5768e42b48fbe5a90c4b3752c": {
      "model_module": "@jupyter-widgets/controls",
      "model_module_version": "1.5.0",
      "model_name": "SelectModel",
      "state": {
       "_options_labels": [
        "..",
        "Temp",
        "FlinFlon.geoh5",
        "Inversion_.json",
        "MtDore_TMI.geoh5"
       ],
       "index": 2,
       "layout": "IPY_MODEL_d11dca818c114bd18d4d396941ecb2c8",
       "rows": 8,
       "style": "IPY_MODEL_3e85cc72ab2f487aa3ac5939d6f9c02a"
      }
     },
     "8389a025618844bb81da432c765a4222": {
      "model_module": "@jupyter-widgets/base",
      "model_module_version": "1.2.0",
      "model_name": "LayoutModel",
      "state": {
       "width": "auto"
      }
     },
     "83ada24b206b432e8578843e481bdf85": {
      "model_module": "@jupyter-widgets/controls",
      "model_module_version": "1.5.0",
      "model_name": "DropdownModel",
      "state": {
       "_options_labels": [
        "C:\\Users\\dominiquef\\Documents\\GIT\\mira\\geoapps\\assets\\Temp",
        "C:\\Users\\dominiquef\\Documents\\GIT\\mira\\geoapps\\assets",
        "C:\\Users\\dominiquef\\Documents\\GIT\\mira\\geoapps",
        "C:\\Users\\dominiquef\\Documents\\GIT\\mira",
        "C:\\Users\\dominiquef\\Documents\\GIT",
        "C:\\Users\\dominiquef\\Documents",
        "C:\\Users\\dominiquef",
        "C:\\Users",
        "C:\\",
        "D:\\",
        "G:\\",
        "\\\\EgnyteDrive\\mirageoscience\\"
       ],
       "index": 0,
       "layout": "IPY_MODEL_7db4c519e0074da18f3218a141295811",
       "style": "IPY_MODEL_645ccd8b09544d1e90c39080532dc85c"
      }
     },
     "83b97c784be346e1bb3ab67a4e81bde2": {
      "model_module": "@jupyter-widgets/controls",
      "model_module_version": "1.5.0",
      "model_name": "DescriptionStyleModel",
      "state": {
       "description_width": ""
      }
     },
     "83c3d83255cb447ba4f91a0b3e5741ed": {
      "model_module": "@jupyter-widgets/controls",
      "model_module_version": "1.5.0",
      "model_name": "ButtonStyleModel",
      "state": {}
     },
     "83d1b7f9bdfe47f5b393480ff25375a5": {
      "model_module": "@jupyter-widgets/base",
      "model_module_version": "1.2.0",
      "model_name": "LayoutModel",
      "state": {}
     },
     "84583ac518bf42ec994b317441d111d0": {
      "model_module": "@jupyter-widgets/base",
      "model_module_version": "1.2.0",
      "model_name": "LayoutModel",
      "state": {
       "min_width": "6em",
       "width": "6em"
      }
     },
     "845b14ff3a82422abce51a824d9db5f9": {
      "model_module": "@jupyter-widgets/controls",
      "model_module_version": "1.5.0",
      "model_name": "TextModel",
      "state": {
       "disabled": true,
       "layout": "IPY_MODEL_eca205920f4c4fd6af95190b41e5518b",
       "placeholder": "output filename",
       "style": "IPY_MODEL_991738f27dab4d83abb1ed10986a6a5b"
      }
     },
     "846a76a5e4254dc2a37afa5107124242": {
      "model_module": "@jupyter-widgets/controls",
      "model_module_version": "1.5.0",
      "model_name": "ButtonStyleModel",
      "state": {}
     },
     "84a5434ca9b84be3a8f3bdbedfdbaeda": {
      "model_module": "@jupyter-widgets/base",
      "model_module_version": "1.2.0",
      "model_name": "LayoutModel",
      "state": {
       "display": "none",
       "grid_gap": "0px 0px",
       "grid_template_areas": "\n                    'pathlist filename'\n                    'dircontent dircontent'\n                    ",
       "grid_template_columns": "60% 40%",
       "grid_template_rows": "auto auto",
       "width": "500px"
      }
     },
     "84b43f78d58a4014886dd9394cb5b42b": {
      "model_module": "@jupyter-widgets/controls",
      "model_module_version": "1.5.0",
      "model_name": "DescriptionStyleModel",
      "state": {
       "description_width": "initial"
      }
     },
     "84c0080c260c4e2cacca8b3a7f4d31f8": {
      "model_module": "@jupyter-widgets/controls",
      "model_module_version": "1.5.0",
      "model_name": "ButtonModel",
      "state": {
       "description": "Cancel",
       "layout": "IPY_MODEL_356594cf4ee94fbeb810a1a3b2ddce7c",
       "style": "IPY_MODEL_129e73a67f534cb0bca72dcc14c9a342"
      }
     },
     "84ce230ffede47399a146c968c0f2144": {
      "model_module": "@jupyter-widgets/controls",
      "model_module_version": "1.5.0",
      "model_name": "ButtonModel",
      "state": {
       "description": "Cancel",
       "layout": "IPY_MODEL_b1c86c7e8f524a91a4347cf078f89c36",
       "style": "IPY_MODEL_83c3d83255cb447ba4f91a0b3e5741ed"
      }
     },
     "84d4b61f2607468db32815d9c9e9a085": {
      "model_module": "@jupyter-widgets/controls",
      "model_module_version": "1.5.0",
      "model_name": "VBoxModel",
      "state": {
       "children": [
        "IPY_MODEL_8341837b52a444429c8fce193723e741",
        "IPY_MODEL_ffaea2f9e31449259dcbecf01d9621af",
        "IPY_MODEL_3a3788ee94ed490dbc85f3b9a268ccf5",
        "IPY_MODEL_e3946f7fcd154ef2969664d14bcaf0c8"
       ],
       "layout": "IPY_MODEL_4ae44339f6c04b0faa0a42addb004fad"
      }
     },
     "850ce3f98b8841b4af720262b376efaa": {
      "model_module": "@jupyter-widgets/controls",
      "model_module_version": "1.5.0",
      "model_name": "DescriptionStyleModel",
      "state": {
       "description_width": ""
      }
     },
     "8543a9e511ee435eaac7895de28d002e": {
      "model_module": "@jupyter-widgets/base",
      "model_module_version": "1.2.0",
      "model_name": "LayoutModel",
      "state": {}
     },
     "8584d643b08248e18a8dfd27716da5a4": {
      "model_module": "@jupyter-widgets/controls",
      "model_module_version": "1.5.0",
      "model_name": "GridBoxModel",
      "state": {
       "children": [
        "IPY_MODEL_7a11c857df9d4d89b5a1d3fcee521826",
        "IPY_MODEL_b58f2652cc4749058839fefb32d0001e",
        "IPY_MODEL_7314674fdf3d4923965f53afc66e8241"
       ],
       "layout": "IPY_MODEL_36173b0a0f9047248729db9a20217870"
      }
     },
     "8584ee3faee2485c90fa3f6f198c4d6c": {
      "model_module": "@jupyter-widgets/base",
      "model_module_version": "1.2.0",
      "model_name": "LayoutModel",
      "state": {}
     },
     "85914abd31d64f4c81f27ec86e371b30": {
      "model_module": "@jupyter-widgets/controls",
      "model_module_version": "1.5.0",
      "model_name": "DescriptionStyleModel",
      "state": {
       "description_width": ""
      }
     },
     "85d0e164dd9e4f70a065d117814a17d1": {
      "model_module": "@jupyter-widgets/controls",
      "model_module_version": "1.5.0",
      "model_name": "VBoxModel",
      "state": {
       "children": [
        "IPY_MODEL_5bc6a8ddf6204e72ab2018a947e8c3d2",
        "IPY_MODEL_77e2e9c4ecc449e9a4e9687baa3e9c9d"
       ],
       "layout": "IPY_MODEL_6447934f4ea74c459fba3bff11c7e5b0"
      }
     },
     "8617b242ee31413cbd1df24623e12400": {
      "model_module": "@jupyter-widgets/base",
      "model_module_version": "1.2.0",
      "model_name": "LayoutModel",
      "state": {}
     },
     "864886acff414b78ad461ba001678421": {
      "model_module": "@jupyter-widgets/base",
      "model_module_version": "1.2.0",
      "model_name": "LayoutModel",
      "state": {
       "width": "100%"
      }
     },
     "8705f1cf374c416c9ea7499f652d9026": {
      "model_module": "@jupyter-widgets/base",
      "model_module_version": "1.2.0",
      "model_name": "LayoutModel",
      "state": {}
     },
     "875f949ab4354aedabe81b0031ce4f73": {
      "model_module": "@jupyter-widgets/controls",
      "model_module_version": "1.5.0",
      "model_name": "ButtonStyleModel",
      "state": {}
     },
     "877c34ae5e9d42308b8b75936e5fbbd2": {
      "model_module": "@jupyter-widgets/controls",
      "model_module_version": "1.5.0",
      "model_name": "ButtonModel",
      "state": {
       "description": "Cancel",
       "layout": "IPY_MODEL_3112e43e26134edaaacf7187bae5ed5a",
       "style": "IPY_MODEL_15dab356124a4381bb7595495056a62b"
      }
     },
     "87a90041e88f4ad790f07ff73fd7b425": {
      "model_module": "@jupyter-widgets/base",
      "model_module_version": "1.2.0",
      "model_name": "LayoutModel",
      "state": {}
     },
     "887ebe73a4e4448f9117cf83a56ec57f": {
      "model_module": "@jupyter-widgets/controls",
      "model_module_version": "1.5.0",
      "model_name": "HBoxModel",
      "state": {
       "children": [
        "IPY_MODEL_d06b71b980f047fb9150c30f524bc462",
        "IPY_MODEL_4fd2bce1ee7a4e07aff1c7d4d92ca154"
       ],
       "layout": "IPY_MODEL_77b0bbefc7c54c4a9fd7d52aad74c09e"
      }
     },
     "889a2069aaf24557aefe6c4cf2609c01": {
      "model_module": "@jupyter-widgets/controls",
      "model_module_version": "1.5.0",
      "model_name": "DescriptionStyleModel",
      "state": {
       "description_width": "initial"
      }
     },
     "891d60ce666c4eadb2011ee7014051d0": {
      "model_module": "@jupyter-widgets/controls",
      "model_module_version": "1.5.0",
      "model_name": "DescriptionStyleModel",
      "state": {
       "description_width": ""
      }
     },
     "899f8cf4cf1f45609a1b033e5e48b16a": {
      "model_module": "@jupyter-widgets/controls",
      "model_module_version": "1.5.0",
      "model_name": "DropdownModel",
      "state": {
       "_options_labels": [
        "C:\\Users\\dominiquef\\Documents\\GIT\\mira\\mirageoscience-apps\\assets",
        "C:\\Users\\dominiquef\\Documents\\GIT\\mira\\mirageoscience-apps",
        "C:\\Users\\dominiquef\\Documents\\GIT\\mira",
        "C:\\Users\\dominiquef\\Documents\\GIT",
        "C:\\Users\\dominiquef\\Documents",
        "C:\\Users\\dominiquef",
        "C:\\Users",
        "C:\\",
        "D:\\",
        "Z:\\"
       ],
       "index": 0,
       "layout": "IPY_MODEL_b72f5ad58e3a496a8e86baac1f81d1c8",
       "style": "IPY_MODEL_def68c07924e45a5b792e8552f15e72c"
      }
     },
     "89ad895a156a46829321dfc7017ead19": {
      "model_module": "@jupyter-widgets/controls",
      "model_module_version": "1.5.0",
      "model_name": "VBoxModel",
      "state": {
       "children": [
        "IPY_MODEL_535d9757a451471db9e7c61aa3839b84",
        "IPY_MODEL_a18139b66f0244b2bdd400ed5cdb5a3e",
        "IPY_MODEL_aec9ed48b04d4d149f758f25fd4e11de"
       ],
       "layout": "IPY_MODEL_723731cf97af4d62bb55085a406394c4"
      }
     },
     "89ca838742d749db8556b737ba31b98f": {
      "model_module": "@jupyter-widgets/base",
      "model_module_version": "1.2.0",
      "model_name": "LayoutModel",
      "state": {
       "min_width": "6em",
       "width": "6em"
      }
     },
     "8a9da51d5b434e34825144c9fbff0427": {
      "model_module": "@jupyter-widgets/controls",
      "model_module_version": "1.5.0",
      "model_name": "ButtonModel",
      "state": {
       "description": "Select",
       "layout": "IPY_MODEL_0763e25e83434cc09a67e4d7ea8f7132",
       "style": "IPY_MODEL_875f949ab4354aedabe81b0031ce4f73"
      }
     },
     "8aabcb2075cf415b94245cf278c2c96f": {
      "model_module": "@jupyter-widgets/controls",
      "model_module_version": "1.5.0",
      "model_name": "DescriptionStyleModel",
      "state": {
       "description_width": ""
      }
     },
     "8abdea1881c74cbe884de5468c073678": {
      "model_module": "@jupyter-widgets/controls",
      "model_module_version": "1.5.0",
      "model_name": "HTMLModel",
      "state": {
       "layout": "IPY_MODEL_2c78f2ba45c54ce7a617f2c1c63322f3",
       "style": "IPY_MODEL_a0551c60aeb54ac3ad35a4ee0f674a15"
      }
     },
     "8b194fb533bc418c823bc72f9e6f420a": {
      "model_module": "@jupyter-widgets/controls",
      "model_module_version": "1.5.0",
      "model_name": "VBoxModel",
      "state": {
       "children": [
        "IPY_MODEL_85d0e164dd9e4f70a065d117814a17d1",
        "IPY_MODEL_10f103d042c547619c368d883ed03ca5"
       ],
       "layout": "IPY_MODEL_b7cdb2c0f6de4fb1a7d82a9bb670a1bf"
      }
     },
     "8b2a41da771a489581648ea8c41a67af": {
      "model_module": "@jupyter-widgets/base",
      "model_module_version": "1.2.0",
      "model_name": "LayoutModel",
      "state": {
       "display": "none",
       "grid_gap": "0px 0px",
       "grid_template_areas": "\n                    'pathlist pathlist'\n                    'dircontent dircontent'\n                    ",
       "grid_template_columns": "60% 40%",
       "grid_template_rows": "auto auto",
       "width": "500px"
      }
     },
     "8b5bd7c8167943bdb7fe85f44db47bfe": {
      "model_module": "@jupyter-widgets/controls",
      "model_module_version": "1.5.0",
      "model_name": "VBoxModel",
      "state": {
       "children": [
        "IPY_MODEL_b5c5ec515c31418cafdb95a60b077db4",
        "IPY_MODEL_ae7bfb4cb5af480bb7fd4341578ebb79"
       ],
       "layout": "IPY_MODEL_1764418ec29b416fb687aea6365666c4"
      }
     },
     "8cdfbcacde524cc893fa96d94cf2a93b": {
      "model_module": "@jupyter-widgets/controls",
      "model_module_version": "1.5.0",
      "model_name": "DropdownModel",
      "state": {
       "_options_labels": [
        "C:\\Users\\dominiquef\\Documents\\GIT\\mira\\mirageoscience-apps\\docs\\content\\applications",
        "C:\\Users\\dominiquef\\Documents\\GIT\\mira\\mirageoscience-apps\\docs\\content",
        "C:\\Users\\dominiquef\\Documents\\GIT\\mira\\mirageoscience-apps\\docs",
        "C:\\Users\\dominiquef\\Documents\\GIT\\mira\\mirageoscience-apps",
        "C:\\Users\\dominiquef\\Documents\\GIT\\mira",
        "C:\\Users\\dominiquef\\Documents\\GIT",
        "C:\\Users\\dominiquef\\Documents",
        "C:\\Users\\dominiquef",
        "C:\\Users",
        "C:\\",
        "D:\\",
        "Z:\\"
       ],
       "index": 0,
       "layout": "IPY_MODEL_3f6a147248dd4cc5a4ec745ec6b4b4a1",
       "style": "IPY_MODEL_2638f1cf268e4bf4a485fd65bd7329c6"
      }
     },
     "8d153f88af73418f9751d58850e1add5": {
      "model_module": "@jupyter-widgets/controls",
      "model_module_version": "1.5.0",
      "model_name": "DropdownModel",
      "state": {
       "_options_labels": [
        "C:\\Users\\dominiquef\\Documents\\GIT\\mira\\geoapps\\assets\\Temp",
        "C:\\Users\\dominiquef\\Documents\\GIT\\mira\\geoapps\\assets",
        "C:\\Users\\dominiquef\\Documents\\GIT\\mira\\geoapps",
        "C:\\Users\\dominiquef\\Documents\\GIT\\mira",
        "C:\\Users\\dominiquef\\Documents\\GIT",
        "C:\\Users\\dominiquef\\Documents",
        "C:\\Users\\dominiquef",
        "C:\\Users",
        "C:\\",
        "\\\\EgnyteDrive\\mirageoscience\\",
        "G:\\",
        "D:\\"
       ],
       "index": 0,
       "layout": "IPY_MODEL_09a9a4daa8704845b54f089f3eb369b9",
       "style": "IPY_MODEL_a391a1e2ddd54a60b8f743ceea797548"
      }
     },
     "8d2b82618123495a915bddf856fcf42a": {
      "model_module": "@jupyter-widgets/controls",
      "model_module_version": "1.5.0",
      "model_name": "VBoxModel",
      "state": {
       "children": [
        "IPY_MODEL_95bafa386f224addbb15f15479793904",
        "IPY_MODEL_e93a37d8925b49dd91d26d72392be938"
       ],
       "layout": "IPY_MODEL_b6cebae7fbb74fd194377e05d1dad78d"
      }
     },
     "8d54736948f74947a4a18371b5e73ddb": {
      "model_module": "@jupyter-widgets/controls",
      "model_module_version": "1.5.0",
      "model_name": "HBoxModel",
      "state": {
       "children": [
        "IPY_MODEL_7c668002a0ea413ea44c233bf74ae5ca",
        "IPY_MODEL_bdb444e9d10b4ca1a478f2fb586eb05c",
        "IPY_MODEL_c65503c2499b4b30be81be2fed091c49"
       ],
       "layout": "IPY_MODEL_cde8827521284742916cb1e2f384f319"
      }
     },
     "8db46bf931e14fd790f460327e281932": {
      "model_module": "@jupyter-widgets/base",
      "model_module_version": "1.2.0",
      "model_name": "LayoutModel",
      "state": {
       "width": "auto"
      }
     },
     "8e4b2243790042539c8945119efaa042": {
      "model_module": "@jupyter-widgets/base",
      "model_module_version": "1.2.0",
      "model_name": "LayoutModel",
      "state": {}
     },
     "8e973eae542347d294ff51f527830fd9": {
      "model_module": "@jupyter-widgets/controls",
      "model_module_version": "1.5.0",
      "model_name": "HTMLModel",
      "state": {
       "layout": "IPY_MODEL_a5e26428605c4644ada5abc22dea75e1",
       "placeholder": "",
       "style": "IPY_MODEL_37ccad3aaef94242b0cdf7a4332a588d",
       "value": "<span style=\"margin-left:10px; color:black;\">No file selected</span>"
      }
     },
     "8efb50cd6da84f0b88a3aa1b100ffc11": {
      "model_module": "@jupyter-widgets/controls",
      "model_module_version": "1.5.0",
      "model_name": "DescriptionStyleModel",
      "state": {
       "description_width": ""
      }
     },
     "8f2b4fa65d84490fab02d0fb8c4dcaff": {
      "model_module": "@jupyter-widgets/base",
      "model_module_version": "1.2.0",
      "model_name": "LayoutModel",
      "state": {
       "width": "auto"
      }
     },
     "8f8efddd87fc40b38643ea74abc013ec": {
      "model_module": "@jupyter-widgets/controls",
      "model_module_version": "1.5.0",
      "model_name": "VBoxModel",
      "state": {
       "children": [
        "IPY_MODEL_8abdea1881c74cbe884de5468c073678",
        "IPY_MODEL_b7a9f2e018ca4144badf46f6212c6e3d",
        "IPY_MODEL_b9f94f4364dc4d40a50e6ebb080ed75b"
       ],
       "layout": "IPY_MODEL_be4134b59d67476fa7c9b420ab85b03e"
      }
     },
     "8f95004d4b7b405b9f62e5ee92303621": {
      "model_module": "@jupyter-widgets/base",
      "model_module_version": "1.2.0",
      "model_name": "LayoutModel",
      "state": {}
     },
     "8fbf1864af64497c8ca7a029d56506b4": {
      "model_module": "@jupyter-widgets/controls",
      "model_module_version": "1.5.0",
      "model_name": "TextModel",
      "state": {
       "continuous_update": false,
       "description": "Group:",
       "layout": "IPY_MODEL_3b0031880d6146568809b936e42f4147",
       "style": "IPY_MODEL_4a936d3a54084455889ef0e4733a1d2d"
      }
     },
     "90a9b61ea4a24a43b1eb59a8863558a2": {
      "model_module": "@jupyter-widgets/base",
      "model_module_version": "1.2.0",
      "model_name": "LayoutModel",
      "state": {}
     },
     "90c3f851ae8d42128a7f5c0260688c91": {
      "model_module": "@jupyter-widgets/base",
      "model_module_version": "1.2.0",
      "model_name": "LayoutModel",
      "state": {}
     },
     "92018862d8c34de297d0cfa22a4c8b5d": {
      "model_module": "@jupyter-widgets/controls",
      "model_module_version": "1.5.0",
      "model_name": "VBoxModel",
      "state": {
       "children": [
        "IPY_MODEL_1e083171df5847a6bdb11da025808dd1",
        "IPY_MODEL_0af2ccb563084caf8c703463ca5aafac"
       ],
       "layout": "IPY_MODEL_8617b242ee31413cbd1df24623e12400"
      }
     },
     "92101be0476840ff8c09ef89bd227c95": {
      "model_module": "@jupyter-widgets/controls",
      "model_module_version": "1.5.0",
      "model_name": "VBoxModel",
      "state": {
       "children": [
        "IPY_MODEL_b415e623b6e14979bdae06465ff741b2",
        "IPY_MODEL_456aad6f8004421fb39bf378f81909c5",
        "IPY_MODEL_5b73723b4e3c4867bcfa3ed383b6230e"
       ],
       "layout": "IPY_MODEL_b3c73a09caf74d7e8274fe0a2a47fd34"
      }
     },
     "9265a80752e94d3d86bd29a35a3629d1": {
      "model_module": "@jupyter-widgets/controls",
      "model_module_version": "1.5.0",
      "model_name": "HTMLModel",
      "state": {
       "layout": "IPY_MODEL_0f6c02879d1c4cb7adeca2f52b59232a",
       "style": "IPY_MODEL_e8b58070c2384003a4c8ed3f85a801b3"
      }
     },
     "92aaef1b72d8414896a0e93c256415d5": {
      "model_module": "@jupyter-widgets/controls",
      "model_module_version": "1.5.0",
      "model_name": "ButtonStyleModel",
      "state": {}
     },
     "930b52cb59654e86b31a8d99ab354302": {
      "model_module": "@jupyter-widgets/controls",
      "model_module_version": "1.5.0",
      "model_name": "DescriptionStyleModel",
      "state": {
       "description_width": "initial"
      }
     },
     "938efa44f7604c8b83ff48444e58fdd6": {
      "model_module": "@jupyter-widgets/base",
      "model_module_version": "1.2.0",
      "model_name": "LayoutModel",
      "state": {
       "grid_area": "dircontent",
       "width": "auto"
      }
     },
     "93a531d060004dd582d1908c116312f2": {
      "model_module": "@jupyter-widgets/controls",
      "model_module_version": "1.5.0",
      "model_name": "DescriptionStyleModel",
      "state": {
       "description_width": "initial"
      }
     },
     "93d5630703f8400a93e9d08db300b393": {
      "model_module": "@jupyter-widgets/base",
      "model_module_version": "1.2.0",
      "model_name": "LayoutModel",
      "state": {}
     },
     "9403bc1001bc41a4b23ca44de9dfef50": {
      "model_module": "@jupyter-widgets/controls",
      "model_module_version": "1.5.0",
      "model_name": "DescriptionStyleModel",
      "state": {
       "description_width": "initial"
      }
     },
     "9475d958e8fc466f95a673b1ad5c5180": {
      "model_module": "@jupyter-widgets/controls",
      "model_module_version": "1.5.0",
      "model_name": "ButtonModel",
      "state": {
       "description": "Cancel",
       "layout": "IPY_MODEL_f0b2b41eff2d4ef490838b188ea0b776",
       "style": "IPY_MODEL_4c2668e9d4d845169caf5fbff4412ff0"
      }
     },
     "948800357c86454f95d0c5a37bcc649b": {
      "model_module": "@jupyter-widgets/base",
      "model_module_version": "1.2.0",
      "model_name": "LayoutModel",
      "state": {
       "grid_area": "filename",
       "width": "auto"
      }
     },
     "95bafa386f224addbb15f15479793904": {
      "model_module": "@jupyter-widgets/controls",
      "model_module_version": "1.5.0",
      "model_name": "VBoxModel",
      "state": {
       "children": [
        "IPY_MODEL_ccf868147b5e47b985021e8b77ecde64",
        "IPY_MODEL_3cc809993f6c4a08bef7b94a65d90f0e"
       ],
       "layout": "IPY_MODEL_c5941c9349fc44868a02bbfb9f73cb61"
      }
     },
     "95eb4f54793e4795928f99dce900043f": {
      "model_module": "@jupyter-widgets/base",
      "model_module_version": "1.2.0",
      "model_name": "LayoutModel",
      "state": {
       "display": "none",
       "width": "auto"
      }
     },
     "963efc634b5a4a10bb4200192e44831d": {
      "model_module": "@jupyter-widgets/base",
      "model_module_version": "1.2.0",
      "model_name": "LayoutModel",
      "state": {
       "display": "none"
      }
     },
     "965e34775adb4e33b1d3c685863ad693": {
      "model_module": "@jupyter-widgets/controls",
      "model_module_version": "1.5.0",
      "model_name": "HBoxModel",
      "state": {
       "children": [
        "IPY_MODEL_d1f8d3c754344aa9becaa9cd6bb9e3e6",
        "IPY_MODEL_f892f4d0224743f8899697b0002a9b89",
        "IPY_MODEL_8e973eae542347d294ff51f527830fd9"
       ],
       "layout": "IPY_MODEL_9ccd15705cd64c4eaa3e0c745c6823c5"
      }
     },
     "96a69592b32543b78e932b31fd63db8c": {
      "model_module": "@jupyter-widgets/controls",
      "model_module_version": "1.5.0",
      "model_name": "DescriptionStyleModel",
      "state": {
       "description_width": ""
      }
     },
     "96c5837f904347d9a715de5ec890e22e": {
      "model_module": "@jupyter-widgets/controls",
      "model_module_version": "1.5.0",
      "model_name": "DescriptionStyleModel",
      "state": {
       "description_width": "initial"
      }
     },
     "96e344b9273948ecb830f3e14cc286b5": {
      "model_module": "@jupyter-widgets/base",
      "model_module_version": "1.2.0",
      "model_name": "LayoutModel",
      "state": {}
     },
     "96f046bdd2df4231ba079854e22c9971": {
      "model_module": "@jupyter-widgets/controls",
      "model_module_version": "1.5.0",
      "model_name": "ButtonStyleModel",
      "state": {}
     },
     "973bee7d4b3b4db48c7a05b1f7bf68fe": {
      "model_module": "@jupyter-widgets/controls",
      "model_module_version": "1.5.0",
      "model_name": "DescriptionStyleModel",
      "state": {
       "description_width": "initial"
      }
     },
     "974acc3dc71c4c96a15b7e102fc244e2": {
      "model_module": "@jupyter-widgets/controls",
      "model_module_version": "1.5.0",
      "model_name": "HBoxModel",
      "state": {
       "children": [
        "IPY_MODEL_16a1a06d8a904af490a211e081831be5",
        "IPY_MODEL_710dabc608094bf7980d311af964310c",
        "IPY_MODEL_47242ed4962d46e584d20b74b305a292"
       ],
       "layout": "IPY_MODEL_44028555dfa948a8a042130d3620982b"
      }
     },
     "974c7a6477124ebdb6e7a7f88baa3861": {
      "model_module": "@jupyter-widgets/controls",
      "model_module_version": "1.5.0",
      "model_name": "VBoxModel",
      "state": {
       "children": [
        "IPY_MODEL_dce9c2e242d241e1810de96078c8dd65",
        "IPY_MODEL_bbb403625ad44b7189534f23448b3748",
        "IPY_MODEL_b3097b3f5c214fefa817395709ee935d"
       ],
       "layout": "IPY_MODEL_d5299360a38840ebb80a174d084506b0"
      }
     },
     "974da166467e45f49cee86423a44dd6a": {
      "model_module": "@jupyter-widgets/controls",
      "model_module_version": "1.5.0",
      "model_name": "SelectMultipleModel",
      "state": {
       "_options_labels": [
        "Ho",
        "CaO",
        "Hf",
        "Be",
        "Mo",
        "Visual Parameters",
        "Se",
        "Bi",
        "Tb",
        "Cs",
        "In",
        "Dy",
        "MgO",
        "Cl",
        "Ni",
        "Hg",
        "SUM",
        "Co",
        "Tm",
        "Ta",
        "Pb",
        "U",
        "Cr",
        "Y_",
        "Zn",
        "Sn",
        "Na2O",
        "Ce",
        "Eu",
        "Cd",
        "Sr",
        "Zr",
        "Ir",
        "Cu",
        "K2O",
        "LOI",
        "Er",
        "Nb",
        "Ctot",
        "Ti",
        "Sm",
        "Ni2",
        "Cr2O3",
        "V",
        "Ge",
        "Nd",
        "Lu",
        "TiO2",
        "F",
        "W",
        "Ag",
        "Rb",
        "Stot",
        "As",
        "La",
        "Tl",
        "Th",
        "Sc",
        "Fe2O3",
        "Yb",
        "Ba",
        "Al2O3",
        "Sb",
        "MnO",
        "Li",
        "Au",
        "Ga",
        "Pr",
        "SiO2",
        "interval_length",
        "Gd",
        "P2O5",
        "NewChannel"
       ],
       "description": "Data: ",
       "index": [],
       "layout": "IPY_MODEL_8705f1cf374c416c9ea7499f652d9026",
       "rows": 5,
       "style": "IPY_MODEL_1dbf9cb1bcd5443180c5c659ba1fa244"
      }
     },
     "978a5387706c458d85661e637536c13d": {
      "model_module": "@jupyter-widgets/base",
      "model_module_version": "1.2.0",
      "model_name": "LayoutModel",
      "state": {
       "display": "none",
       "grid_area": "filename",
       "width": "auto"
      }
     },
     "979fea12b6d84c519ff96a4662bc2690": {
      "model_module": "@jupyter-widgets/controls",
      "model_module_version": "1.5.0",
      "model_name": "VBoxModel",
      "state": {
       "children": [
        "IPY_MODEL_9265a80752e94d3d86bd29a35a3629d1",
        "IPY_MODEL_a147ea5d0b144e1f858f4be50b252e16",
        "IPY_MODEL_8d54736948f74947a4a18371b5e73ddb"
       ],
       "layout": "IPY_MODEL_23de7847082c4a8f88f717421927d5fe"
      }
     },
     "97edd3f84322491caee402821d9f4eeb": {
      "model_module": "@jupyter-widgets/base",
      "model_module_version": "1.2.0",
      "model_name": "LayoutModel",
      "state": {
       "min_width": "6em",
       "width": "6em"
      }
     },
     "97fb48d2ac3e49828d66d65c6b0c82d5": {
      "model_module": "@jupyter-widgets/controls",
      "model_module_version": "1.5.0",
      "model_name": "ButtonStyleModel",
      "state": {}
     },
     "9844cb44d3c146d2a1274f12e3a71d6d": {
      "model_module": "@jupyter-widgets/controls",
      "model_module_version": "1.5.0",
      "model_name": "DescriptionStyleModel",
      "state": {
       "description_width": "initial"
      }
     },
     "98a6e223e9164347b3958c2a1e3da299": {
      "model_module": "@jupyter-widgets/controls",
      "model_module_version": "1.5.0",
      "model_name": "TextModel",
      "state": {
       "disabled": true,
       "layout": "IPY_MODEL_d24e5e1a26014a71a7d48355ad47111d",
       "placeholder": "output filename",
       "style": "IPY_MODEL_48a288008ad84ef187e6b4545cb3e52b"
      }
     },
     "98aa99ea505547a0ba6108abdb2ef3f9": {
      "model_module": "@jupyter-widgets/base",
      "model_module_version": "1.2.0",
      "model_name": "LayoutModel",
      "state": {
       "grid_area": "pathlist",
       "width": "auto"
      }
     },
     "98bda642232f4d7590c6bb5de08aad71": {
      "model_module": "@jupyter-widgets/controls",
      "model_module_version": "1.5.0",
      "model_name": "ToggleButtonModel",
      "state": {
       "layout": "IPY_MODEL_3ba1c638a9284dea8bcc39834317e871",
       "style": "IPY_MODEL_ff18fdd196de4496bf31324cb4f9eade",
       "value": true
      }
     },
     "99091b6190834ba1a9ce108754e0a631": {
      "model_module": "@jupyter-widgets/controls",
      "model_module_version": "1.5.0",
      "model_name": "VBoxModel",
      "state": {
       "children": [
        "IPY_MODEL_fd13f5b3e32a447eb46372a1259d606a",
        "IPY_MODEL_979fea12b6d84c519ff96a4662bc2690"
       ],
       "layout": "IPY_MODEL_c3324723ab694f1c97d426bd5bcd700f"
      }
     },
     "991738f27dab4d83abb1ed10986a6a5b": {
      "model_module": "@jupyter-widgets/controls",
      "model_module_version": "1.5.0",
      "model_name": "DescriptionStyleModel",
      "state": {
       "description_width": ""
      }
     },
     "998b3f8cf70449f2a062a6ff72e209da": {
      "model_module": "@jupyter-widgets/base",
      "model_module_version": "1.2.0",
      "model_name": "LayoutModel",
      "state": {
       "grid_area": "dircontent",
       "width": "auto"
      }
     },
     "998bd7c5562c47b78707e001e6b77e32": {
      "model_module": "@jupyter-widgets/base",
      "model_module_version": "1.2.0",
      "model_name": "LayoutModel",
      "state": {}
     },
     "99f653e2f9e24a69a69865935d9917f7": {
      "model_module": "@jupyter-widgets/controls",
      "model_module_version": "1.5.0",
      "model_name": "ButtonModel",
      "state": {
       "description": "Cancel",
       "layout": "IPY_MODEL_4623ac94366e44a19b8026728b1e2621",
       "style": "IPY_MODEL_aacb7d08ad3a463da41c0fa96c979994"
      }
     },
     "9a9249e4df0c490090e8519ee41ca95e": {
      "model_module": "@jupyter-widgets/controls",
      "model_module_version": "1.5.0",
      "model_name": "HTMLModel",
      "state": {
       "layout": "IPY_MODEL_b57a6f58d32c491b8713440881030553",
       "placeholder": "",
       "style": "IPY_MODEL_53b1b2b4f2b74c14b6546374c1477378",
       "value": "<span style=\"margin-left:10px; color:black;\">No file selected</span>"
      }
     },
     "9ab671b7143c4880b9a55cd45c52499d": {
      "model_module": "@jupyter-widgets/base",
      "model_module_version": "1.2.0",
      "model_name": "LayoutModel",
      "state": {}
     },
     "9b1d7b53fb8f46b28af98dc2c20df45a": {
      "model_module": "@jupyter-widgets/controls",
      "model_module_version": "1.5.0",
      "model_name": "DescriptionStyleModel",
      "state": {
       "description_width": "initial"
      }
     },
     "9ba4802779104ff5b1fdd4b2f1428954": {
      "model_module": "@jupyter-widgets/base",
      "model_module_version": "1.2.0",
      "model_name": "LayoutModel",
      "state": {
       "overflow": "auto"
      }
     },
     "9bc2791663cb499fa6b396b6aa2436d8": {
      "model_module": "@jupyter-widgets/base",
      "model_module_version": "1.2.0",
      "model_name": "LayoutModel",
      "state": {
       "display": "none",
       "width": "auto"
      }
     },
     "9c27195251904c5a9ce63cc8409b7d75": {
      "model_module": "@jupyter-widgets/controls",
      "model_module_version": "1.5.0",
      "model_name": "ButtonStyleModel",
      "state": {}
     },
     "9c347da45c114ce39802c32e93dbf853": {
      "model_module": "@jupyter-widgets/controls",
      "model_module_version": "1.5.0",
      "model_name": "TextModel",
      "state": {
       "description": "Name: ",
       "layout": "IPY_MODEL_14b1c5fc0411495c8565713492fb031b",
       "style": "IPY_MODEL_3616530987684bed8359f61653a1885b"
      }
     },
     "9c7ad54d6b2541e0819d16efb2e99dba": {
      "model_module": "@jupyter-widgets/controls",
      "model_module_version": "1.5.0",
      "model_name": "GridBoxModel",
      "state": {
       "children": [
        "IPY_MODEL_4c08a0dea6f14cab8a9bab127a608239",
        "IPY_MODEL_cdf58e418ed34777ad0b2f28db3762db",
        "IPY_MODEL_0a449e9561e7451c8e681eb80aa0a38f"
       ],
       "layout": "IPY_MODEL_a0ca878ce518487ab22b288b14112250"
      }
     },
     "9ccd15705cd64c4eaa3e0c745c6823c5": {
      "model_module": "@jupyter-widgets/base",
      "model_module_version": "1.2.0",
      "model_name": "LayoutModel",
      "state": {
       "width": "auto"
      }
     },
     "9cfdfeba657549d4b03546e6c54f303e": {
      "model_module": "@jupyter-widgets/base",
      "model_module_version": "1.2.0",
      "model_name": "LayoutModel",
      "state": {
       "width": "auto"
      }
     },
     "9d039af502614da088360beee683050b": {
      "model_module": "@jupyter-widgets/controls",
      "model_module_version": "1.5.0",
      "model_name": "DescriptionStyleModel",
      "state": {
       "description_width": ""
      }
     },
     "9d0d1261a2234e3781ce24ce0f706d6c": {
      "model_module": "@jupyter-widgets/base",
      "model_module_version": "1.2.0",
      "model_name": "LayoutModel",
      "state": {}
     },
     "9d772744804149c2a8b0029fe66a8398": {
      "model_module": "@jupyter-widgets/controls",
      "model_module_version": "1.5.0",
      "model_name": "HTMLModel",
      "state": {
       "layout": "IPY_MODEL_963efc634b5a4a10bb4200192e44831d",
       "style": "IPY_MODEL_f6e7c556428042cda088c602e7b3d0c8"
      }
     },
     "9f3bab494493496182ea03e8bf837457": {
      "model_module": "@jupyter-widgets/controls",
      "model_module_version": "1.5.0",
      "model_name": "ButtonStyleModel",
      "state": {}
     },
     "9f3f1ac63d724b6498a5b46fb220f0c0": {
      "model_module": "@jupyter-widgets/base",
      "model_module_version": "1.2.0",
      "model_name": "LayoutModel",
      "state": {
       "grid_area": "filename",
       "width": "auto"
      }
     },
     "9f8d6bf3d36d4095aa67d8e6eb836605": {
      "model_module": "@jupyter-widgets/base",
      "model_module_version": "1.2.0",
      "model_name": "LayoutModel",
      "state": {
       "display": "none",
       "grid_gap": "0px 0px",
       "grid_template_areas": "\n                    'pathlist pathlist'\n                    'dircontent dircontent'\n                    ",
       "grid_template_columns": "60% 40%",
       "grid_template_rows": "auto auto",
       "width": "500px"
      }
     },
     "9fccf32d6fa947cabf87cc091d97778f": {
      "model_module": "@jupyter-widgets/controls",
      "model_module_version": "1.5.0",
      "model_name": "VBoxModel",
      "state": {
       "children": [
        "IPY_MODEL_18f384d8c308450cb81a8f49b20e5d96",
        "IPY_MODEL_b0f84b7a04274710a5d81f5e37165f96"
       ],
       "layout": "IPY_MODEL_542ef80af7a04cc584415d616bdc6b70"
      }
     },
     "a00406a54072412d90de6b5a01296454": {
      "model_module": "@jupyter-widgets/controls",
      "model_module_version": "1.5.0",
      "model_name": "GridBoxModel",
      "state": {
       "children": [
        "IPY_MODEL_15fe39de8eca457692e856ddd4dc156f",
        "IPY_MODEL_cdbb1f78fae74619a4640e11af1e95b3",
        "IPY_MODEL_a1fe1f8875314df39114c64d6b7d10f7"
       ],
       "layout": "IPY_MODEL_360a36b6f1f54c14bd9254ca1b3acd68"
      }
     },
     "a012a134fcc84290bb3c7f7bac297ae9": {
      "model_module": "@jupyter-widgets/base",
      "model_module_version": "1.2.0",
      "model_name": "LayoutModel",
      "state": {
       "display": "none"
      }
     },
     "a03b42d8492e4030a47c04b333f99ddb": {
      "model_module": "@jupyter-widgets/controls",
      "model_module_version": "1.5.0",
      "model_name": "ButtonStyleModel",
      "state": {}
     },
     "a0551c60aeb54ac3ad35a4ee0f674a15": {
      "model_module": "@jupyter-widgets/controls",
      "model_module_version": "1.5.0",
      "model_name": "DescriptionStyleModel",
      "state": {
       "description_width": ""
      }
     },
     "a06a47f9610149feacb97fed71c5d8e3": {
      "model_module": "@jupyter-widgets/controls",
      "model_module_version": "1.5.0",
      "model_name": "ButtonStyleModel",
      "state": {}
     },
     "a0956c61f205454e9a38bf4f20c340a7": {
      "model_module": "@jupyter-widgets/controls",
      "model_module_version": "1.5.0",
      "model_name": "DescriptionStyleModel",
      "state": {
       "description_width": ""
      }
     },
     "a0af38bb7e664c389812e528e8db44e3": {
      "model_module": "@jupyter-widgets/base",
      "model_module_version": "1.2.0",
      "model_name": "LayoutModel",
      "state": {
       "min_width": "6em",
       "width": "6em"
      }
     },
     "a0ca878ce518487ab22b288b14112250": {
      "model_module": "@jupyter-widgets/base",
      "model_module_version": "1.2.0",
      "model_name": "LayoutModel",
      "state": {
       "display": "none",
       "grid_gap": "0px 0px",
       "grid_template_areas": "\n                    'pathlist pathlist'\n                    'dircontent dircontent'\n                    ",
       "grid_template_columns": "60% 40%",
       "grid_template_rows": "auto auto",
       "width": "500px"
      }
     },
     "a0ed3a9300ed42d38b3c7b48d580bf31": {
      "model_module": "@jupyter-widgets/controls",
      "model_module_version": "1.5.0",
      "model_name": "VBoxModel",
      "state": {
       "children": [
        "IPY_MODEL_55db89afd91149148fbbb9984c7aa2d0",
        "IPY_MODEL_af5f335797ae4aea92602b9f6235f392",
        "IPY_MODEL_004dc0a36855464ba63134ee644658a5"
       ],
       "layout": "IPY_MODEL_605fd286a45f4b1f913fd424d26a0673"
      }
     },
     "a0ee8746da1f4655b41dfbb16767e6f3": {
      "model_module": "@jupyter-widgets/base",
      "model_module_version": "1.2.0",
      "model_name": "LayoutModel",
      "state": {}
     },
     "a147ea5d0b144e1f858f4be50b252e16": {
      "model_module": "@jupyter-widgets/controls",
      "model_module_version": "1.5.0",
      "model_name": "GridBoxModel",
      "state": {
       "children": [
        "IPY_MODEL_83ada24b206b432e8578843e481bdf85",
        "IPY_MODEL_845b14ff3a82422abce51a824d9db5f9",
        "IPY_MODEL_c08481335d48452ea92beeac903c0b51"
       ],
       "layout": "IPY_MODEL_572fa3d7c63c4ff081ff1a8843c50026"
      }
     },
     "a180aad6a9194bb8b208239fdc5ad396": {
      "model_module": "@jupyter-widgets/controls",
      "model_module_version": "1.5.0",
      "model_name": "ButtonStyleModel",
      "state": {}
     },
     "a18139b66f0244b2bdd400ed5cdb5a3e": {
      "model_module": "@jupyter-widgets/controls",
      "model_module_version": "1.5.0",
      "model_name": "GridBoxModel",
      "state": {
       "children": [
        "IPY_MODEL_618a55c39d8346ed91db8e1ce115b23d",
        "IPY_MODEL_64c0fb7001ef4ecbbce3434897dd15a5",
        "IPY_MODEL_d2260f88a4e748aab3d041fa3188633f"
       ],
       "layout": "IPY_MODEL_1d7dd1123bd6485db025a0ea2c84f382"
      }
     },
     "a1fe1f8875314df39114c64d6b7d10f7": {
      "model_module": "@jupyter-widgets/controls",
      "model_module_version": "1.5.0",
      "model_name": "SelectModel",
      "state": {
       "_options_labels": [
        "📁 ..",
        "📁 SimPEG_PFInversion",
        "📁 Temp",
        "📁 uijson",
        "FlinFlon.geoh5",
        "FlinFlon_dcip.geoh5",
        "MtDore_TMI.geoh5",
        "tem.geoh5",
        "test_forward.ui.geoh5",
        "test_forward.ui.json"
       ],
       "index": 4,
       "layout": "IPY_MODEL_a7c686fc3b8d4b4a887b77bcff0664d2",
       "rows": 8,
       "style": "IPY_MODEL_570eb244f87246b4bfc1578344a7e326"
      }
     },
     "a230200c37a941628e5d101804da13df": {
      "model_module": "@jupyter-widgets/controls",
      "model_module_version": "1.5.0",
      "model_name": "HTMLModel",
      "state": {
       "layout": "IPY_MODEL_1c8b5e74d3674061a1a92dabca6936eb",
       "placeholder": "",
       "style": "IPY_MODEL_af5ad9704eb34ff9818c64381282bdb5",
       "value": "<span style=\"margin-left:10px; color:orange;\">C:\\Users\\dominiquef\\Documents\\GIT\\mira\\mirageoscience-apps\\assets\\FlinFlon.geoh5</span>"
      }
     },
     "a237780eb10c463382765c6b567034c4": {
      "model_module": "@jupyter-widgets/controls",
      "model_module_version": "1.5.0",
      "model_name": "DescriptionStyleModel",
      "state": {
       "description_width": "initial"
      }
     },
     "a2cd5f6841ef4a60acd5ca37e9ce1fc7": {
      "model_module": "@jupyter-widgets/base",
      "model_module_version": "1.2.0",
      "model_name": "LayoutModel",
      "state": {}
     },
     "a2fb194a35bb415c84180826223c87a2": {
      "model_module": "@jupyter-widgets/controls",
      "model_module_version": "1.5.0",
      "model_name": "TextModel",
      "state": {
       "description": "Name: ",
       "layout": "IPY_MODEL_d563a1a9041746a381cf2f0cb53ef6cb",
       "style": "IPY_MODEL_b923e37702134e5a9906486a8a70be5b"
      }
     },
     "a32a91d0a23841b4894336f0fa0fb050": {
      "model_module": "@jupyter-widgets/controls",
      "model_module_version": "1.5.0",
      "model_name": "DescriptionStyleModel",
      "state": {
       "description_width": ""
      }
     },
     "a3320aa880f3424a9b1eb09fc5c53451": {
      "model_module": "@jupyter-widgets/controls",
      "model_module_version": "1.5.0",
      "model_name": "TextModel",
      "state": {
       "disabled": true,
       "layout": "IPY_MODEL_3a30b7a7b6444b938035d0ca9469ff16",
       "placeholder": "output filename",
       "style": "IPY_MODEL_ce94f56ef7dc4b9d9492f261c6ea1270"
      }
     },
     "a33ff9dfb7ed490ab6759160cc34b453": {
      "model_module": "@jupyter-widgets/controls",
      "model_module_version": "1.5.0",
      "model_name": "GridBoxModel",
      "state": {
       "children": [
        "IPY_MODEL_bcc996f7a8bb4df0a45a0beacf72d5cf",
        "IPY_MODEL_1b984fdbd9b145788c74b9f6ed3da742",
        "IPY_MODEL_76867dd8c2164c4b8d32bf4eddee30a1"
       ],
       "layout": "IPY_MODEL_cef74e75048a47f3a035bc1e11afaef3"
      }
     },
     "a36f3fc4899541aa991294a4207eebb3": {
      "model_module": "@jupyter-widgets/controls",
      "model_module_version": "1.5.0",
      "model_name": "GridBoxModel",
      "state": {
       "children": [
        "IPY_MODEL_36c57abebe534900ab46e9f30e461730",
        "IPY_MODEL_817e4db94756406ea816e98457a99c11",
        "IPY_MODEL_f84b1804052246a1bc4f1c48040b1fcf"
       ],
       "layout": "IPY_MODEL_540f52223c9146d9b972d78f12a7ca73"
      }
     },
     "a372c1b5a33c4b1dac8efd04695484ae": {
      "model_module": "@jupyter-widgets/controls",
      "model_module_version": "1.5.0",
      "model_name": "TextareaModel",
      "state": {
       "layout": "IPY_MODEL_b21645c310bc443d9f835a498ddc5eef",
       "style": "IPY_MODEL_35dd25dfc9e840f9b342a14d0dc79b31",
       "value": "{NewChannel} = {Al2O3} + numpy.cos({CaO} / numpy.max({CaO}) * numpy.pi)"
      }
     },
     "a37c891d78304e1dab9f25d24ae1d600": {
      "model_module": "@jupyter-widgets/base",
      "model_module_version": "1.2.0",
      "model_name": "LayoutModel",
      "state": {}
     },
     "a391a1e2ddd54a60b8f743ceea797548": {
      "model_module": "@jupyter-widgets/controls",
      "model_module_version": "1.5.0",
      "model_name": "DescriptionStyleModel",
      "state": {
       "description_width": ""
      }
     },
     "a3a6d54e6d4646bcbdf93c8c57aecd8d": {
      "model_module": "@jupyter-widgets/controls",
      "model_module_version": "1.5.0",
      "model_name": "ButtonModel",
      "state": {
       "description": "Select",
       "layout": "IPY_MODEL_60a63750bd794e25864fd19c9020771f",
       "style": "IPY_MODEL_fd34562ee13c45469a71b607b3c3bd43"
      }
     },
     "a3be4caccc8041c6a4462d348af1d475": {
      "model_module": "@jupyter-widgets/base",
      "model_module_version": "1.2.0",
      "model_name": "LayoutModel",
      "state": {
       "display": "none",
       "grid_area": "filename",
       "width": "auto"
      }
     },
     "a40f0beebc7547259684b69b29ca8c6a": {
      "model_module": "@jupyter-widgets/controls",
      "model_module_version": "1.5.0",
      "model_name": "TextModel",
      "state": {
       "layout": "IPY_MODEL_948800357c86454f95d0c5a37bcc649b",
       "placeholder": "output filename",
       "style": "IPY_MODEL_b32df38c35ba438db721cdaa75c2e51a",
       "value": "FlinFlon.geoh5"
      }
     },
     "a48f18c123994a4ebafcf4a62b114c75": {
      "model_module": "@jupyter-widgets/base",
      "model_module_version": "1.2.0",
      "model_name": "LayoutModel",
      "state": {
       "grid_area": "pathlist",
       "width": "auto"
      }
     },
     "a4a9fad427ff42a29535c39c20821347": {
      "model_module": "@jupyter-widgets/controls",
      "model_module_version": "1.5.0",
      "model_name": "TextModel",
      "state": {
       "continuous_update": false,
       "description": "Group:",
       "layout": "IPY_MODEL_4c575fb7cd254b22850fa2a46aef4eb8",
       "style": "IPY_MODEL_84b43f78d58a4014886dd9394cb5b42b"
      }
     },
     "a5507ba8628d4f5faf5b694f33d41ecc": {
      "model_module": "@jupyter-widgets/controls",
      "model_module_version": "1.5.0",
      "model_name": "DescriptionStyleModel",
      "state": {
       "description_width": "initial"
      }
     },
     "a599228e360b481bbae9b3a96626a0e6": {
      "model_module": "@jupyter-widgets/base",
      "model_module_version": "1.2.0",
      "model_name": "LayoutModel",
      "state": {
       "grid_area": "pathlist",
       "width": "auto"
      }
     },
     "a5b55e66f08e485ebb9024f79e913de4": {
      "model_module": "@jupyter-widgets/controls",
      "model_module_version": "1.5.0",
      "model_name": "DescriptionStyleModel",
      "state": {
       "description_width": ""
      }
     },
     "a5e26428605c4644ada5abc22dea75e1": {
      "model_module": "@jupyter-widgets/base",
      "model_module_version": "1.2.0",
      "model_name": "LayoutModel",
      "state": {}
     },
     "a6200443af8043639f276afdf657360f": {
      "model_module": "@jupyter-widgets/controls",
      "model_module_version": "1.5.0",
      "model_name": "HBoxModel",
      "state": {
       "children": [
        "IPY_MODEL_a3a6d54e6d4646bcbdf93c8c57aecd8d",
        "IPY_MODEL_84ce230ffede47399a146c968c0f2144",
        "IPY_MODEL_9a9249e4df0c490090e8519ee41ca95e"
       ],
       "layout": "IPY_MODEL_7d27d160b5544747947b0dbe48194ebb"
      }
     },
     "a661f1e9ce584b2eae48082c4f237785": {
      "model_module": "@jupyter-widgets/controls",
      "model_module_version": "1.5.0",
      "model_name": "HTMLModel",
      "state": {
       "layout": "IPY_MODEL_62f93418baf847beb8ca62be9af8dd3c",
       "placeholder": "",
       "style": "IPY_MODEL_7b37a4a08e51448da99c9f21281e6fb0",
       "value": "<span style=\"margin-left:10px; color:orange;\">C:\\Users\\dominiquef\\Documents\\GIT\\mira\\mirageoscience-apps\\assets\\FlinFlon.geoh5</span>"
      }
     },
     "a6a434c9ca5e4c948f301e85468c3342": {
      "model_module": "@jupyter-widgets/controls",
      "model_module_version": "1.5.0",
      "model_name": "DescriptionStyleModel",
      "state": {
       "description_width": ""
      }
     },
     "a6a87903a92149fb844a1b351ad4f829": {
      "model_module": "@jupyter-widgets/base",
      "model_module_version": "1.2.0",
      "model_name": "LayoutModel",
      "state": {}
     },
     "a6dab89ab8eb43d4a4d5f8bff7a1efa1": {
      "model_module": "@jupyter-widgets/base",
      "model_module_version": "1.2.0",
      "model_name": "LayoutModel",
      "state": {}
     },
     "a6e350b3acc749f48a081337a0a222ce": {
      "model_module": "@jupyter-widgets/controls",
      "model_module_version": "1.5.0",
      "model_name": "ButtonStyleModel",
      "state": {}
     },
     "a6ebc2ceeda84e3d940b62840be83f40": {
      "model_module": "@jupyter-widgets/controls",
      "model_module_version": "1.5.0",
      "model_name": "DescriptionStyleModel",
      "state": {
       "description_width": "initial"
      }
     },
     "a7200572318a40f68d727da82c6fedce": {
      "model_module": "@jupyter-widgets/base",
      "model_module_version": "1.2.0",
      "model_name": "LayoutModel",
      "state": {}
     },
     "a79fa792d94f4389ad98aced52c80426": {
      "model_module": "@jupyter-widgets/controls",
      "model_module_version": "1.5.0",
      "model_name": "CheckboxModel",
      "state": {
       "description": "Geoscience ANALYST Pro - Live link",
       "disabled": false,
       "indent": false,
       "layout": "IPY_MODEL_2d0b838b398a4428aa23ff4dbf674bad",
       "style": "IPY_MODEL_304a27ea26cd4290942ad71ff79ad565",
       "value": false
      }
     },
     "a7b953c421574e56a2ed663d868fcc53": {
      "model_module": "@jupyter-widgets/base",
      "model_module_version": "1.2.0",
      "model_name": "LayoutModel",
      "state": {
       "grid_area": "pathlist",
       "width": "auto"
      }
     },
     "a7c686fc3b8d4b4a887b77bcff0664d2": {
      "model_module": "@jupyter-widgets/base",
      "model_module_version": "1.2.0",
      "model_name": "LayoutModel",
      "state": {
       "grid_area": "dircontent",
       "width": "auto"
      }
     },
     "a84de3f20cf24e659037f3298445bdbb": {
      "model_module": "@jupyter-widgets/controls",
      "model_module_version": "1.5.0",
      "model_name": "DescriptionStyleModel",
      "state": {
       "description_width": "initial"
      }
     },
     "a8a4e2bda95744d78b8dad69e0f0e8b4": {
      "model_module": "@jupyter-widgets/controls",
      "model_module_version": "1.5.0",
      "model_name": "ButtonStyleModel",
      "state": {}
     },
     "a901642c488d471883584a87154fdea3": {
      "model_module": "@jupyter-widgets/base",
      "model_module_version": "1.2.0",
      "model_name": "LayoutModel",
      "state": {}
     },
     "a963506385d44164877fd2a89f42afd0": {
      "model_module": "@jupyter-widgets/base",
      "model_module_version": "1.2.0",
      "model_name": "LayoutModel",
      "state": {}
     },
     "aa44d13f9ea645548358702ec149337a": {
      "model_module": "@jupyter-widgets/controls",
      "model_module_version": "1.5.0",
      "model_name": "ButtonStyleModel",
      "state": {}
     },
     "aa6ec75f0de942a58dc1e399e3d89947": {
      "model_module": "@jupyter-widgets/controls",
      "model_module_version": "1.5.0",
      "model_name": "VBoxModel",
      "state": {
       "children": [
        "IPY_MODEL_0b671e4098d44a839315a0b9f3932156",
        "IPY_MODEL_8071270666514d5780c928830043f9ce"
       ],
       "layout": "IPY_MODEL_a6dab89ab8eb43d4a4d5f8bff7a1efa1"
      }
     },
     "aa72627d66794acda79c2b06847d1e90": {
      "model_module": "@jupyter-widgets/controls",
      "model_module_version": "1.5.0",
      "model_name": "HTMLModel",
      "state": {
       "layout": "IPY_MODEL_8543a9e511ee435eaac7895de28d002e",
       "placeholder": "",
       "style": "IPY_MODEL_5c7d27848c34463d9295175573342bcd",
       "value": "<span style=\"margin-left:10px; color:orange;\">C:\\Users\\dominiquef\\Documents\\GIT\\mira\\mirageoscience-apps\\assets\\FlinFlon.geoh5</span>"
      }
     },
     "aacb7d08ad3a463da41c0fa96c979994": {
      "model_module": "@jupyter-widgets/controls",
      "model_module_version": "1.5.0",
      "model_name": "ButtonStyleModel",
      "state": {}
     },
     "ab163e995e5f4fd8ac74baa3cd4d9003": {
      "model_module": "@jupyter-widgets/controls",
      "model_module_version": "1.5.0",
      "model_name": "ButtonStyleModel",
      "state": {}
     },
     "ab8cb2d5b3084c9f9cd0c4ed062b45c9": {
      "model_module": "@jupyter-widgets/controls",
      "model_module_version": "1.5.0",
      "model_name": "HTMLModel",
      "state": {
       "layout": "IPY_MODEL_22a6978ca2024c258f56ee9b92f6d2e7",
       "placeholder": "",
       "style": "IPY_MODEL_60569010a9d14394a580cf550334a3a1",
       "value": "<span style=\"color:orange;\">C:\\Users\\dominiquef\\Documents\\GIT\\mira\\geoapps\\assets\\FlinFlon.geoh5</span>"
      }
     },
     "abb143086c6d4bb29e6ebfc1f5969c61": {
      "model_module": "@jupyter-widgets/base",
      "model_module_version": "1.2.0",
      "model_name": "LayoutModel",
      "state": {}
     },
     "ac1bdd28ffe24c93b0cb86d263e8262b": {
      "model_module": "@jupyter-widgets/base",
      "model_module_version": "1.2.0",
      "model_name": "LayoutModel",
      "state": {
       "display": "none"
      }
     },
     "ac8be4616065400cbad91231d2589b19": {
      "model_module": "@jupyter-widgets/base",
      "model_module_version": "1.2.0",
      "model_name": "LayoutModel",
      "state": {
       "display": "none",
       "grid_area": "filename",
       "width": "auto"
      }
     },
     "acfc94f674b5492989bd5da9bda3e15d": {
      "model_module": "@jupyter-widgets/controls",
      "model_module_version": "1.5.0",
      "model_name": "DescriptionStyleModel",
      "state": {
       "description_width": "initial"
      }
     },
     "ad1780e200d0480fa5dcb78fd3738d75": {
      "model_module": "@jupyter-widgets/base",
      "model_module_version": "1.2.0",
      "model_name": "LayoutModel",
      "state": {}
     },
     "ad6e087b8b8c4b3f9c502a3e546ba7e5": {
      "model_module": "@jupyter-widgets/controls",
      "model_module_version": "1.5.0",
      "model_name": "DropdownModel",
      "state": {
       "_options_labels": [
        "C:\\Users\\dominiquef\\Documents\\GIT\\mira\\mirageoscience-apps\\docs\\content\\applications",
        "C:\\Users\\dominiquef\\Documents\\GIT\\mira\\mirageoscience-apps\\docs\\content",
        "C:\\Users\\dominiquef\\Documents\\GIT\\mira\\mirageoscience-apps\\docs",
        "C:\\Users\\dominiquef\\Documents\\GIT\\mira\\mirageoscience-apps",
        "C:\\Users\\dominiquef\\Documents\\GIT\\mira",
        "C:\\Users\\dominiquef\\Documents\\GIT",
        "C:\\Users\\dominiquef\\Documents",
        "C:\\Users\\dominiquef",
        "C:\\Users",
        "C:\\",
        "D:\\",
        "Z:\\"
       ],
       "index": 0,
       "layout": "IPY_MODEL_a599228e360b481bbae9b3a96626a0e6",
       "style": "IPY_MODEL_1103c59d1e90405a9a9df2664e9174ac"
      }
     },
     "ad72d0e45f124700a0644154caeca34c": {
      "model_module": "@jupyter-widgets/controls",
      "model_module_version": "1.5.0",
      "model_name": "DescriptionStyleModel",
      "state": {
       "description_width": ""
      }
     },
     "adb8dbf5196c49f5b09463649b162d08": {
      "model_module": "@jupyter-widgets/controls",
      "model_module_version": "1.5.0",
      "model_name": "DescriptionStyleModel",
      "state": {
       "description_width": ""
      }
     },
     "add6d230318148cda11d944f1acd35cc": {
      "model_module": "@jupyter-widgets/controls",
      "model_module_version": "1.5.0",
      "model_name": "HTMLModel",
      "state": {
       "layout": "IPY_MODEL_0588b262a7d2424a93b3cc4c5f6495d7",
       "style": "IPY_MODEL_0e605805ca0640cfbc25f562f5223a8e"
      }
     },
     "ade6f941045a408a9e583872e742d5b0": {
      "model_module": "@jupyter-widgets/controls",
      "model_module_version": "1.5.0",
      "model_name": "TextModel",
      "state": {
       "disabled": true,
       "layout": "IPY_MODEL_978a5387706c458d85661e637536c13d",
       "placeholder": "output filename",
       "style": "IPY_MODEL_a5b55e66f08e485ebb9024f79e913de4"
      }
     },
     "ae09e60d162347679a182a93738acb60": {
      "model_module": "@jupyter-widgets/base",
      "model_module_version": "1.2.0",
      "model_name": "LayoutModel",
      "state": {
       "display": "none",
       "width": "auto"
      }
     },
     "ae4a31e336f84d76b29089dbe4a5f7b6": {
      "model_module": "@jupyter-widgets/controls",
      "model_module_version": "1.5.0",
      "model_name": "DescriptionStyleModel",
      "state": {
       "description_width": ""
      }
     },
     "ae7bfb4cb5af480bb7fd4341578ebb79": {
      "model_module": "@jupyter-widgets/controls",
      "model_module_version": "1.5.0",
      "model_name": "VBoxModel",
      "state": {
       "children": [
        "IPY_MODEL_cf47349720e54ab38704faf40c326791"
       ],
       "layout": "IPY_MODEL_2686b4d14c284bf99e1cdc04ee8014cc"
      }
     },
     "aec9d37a1aa64e02b38c0850f7410e69": {
      "model_module": "@jupyter-widgets/base",
      "model_module_version": "1.2.0",
      "model_name": "LayoutModel",
      "state": {}
     },
     "aec9ed48b04d4d149f758f25fd4e11de": {
      "model_module": "@jupyter-widgets/controls",
      "model_module_version": "1.5.0",
      "model_name": "HBoxModel",
      "state": {
       "children": [
        "IPY_MODEL_d5ea54edffb04dba895eca74b6c4dfeb",
        "IPY_MODEL_84c0080c260c4e2cacca8b3a7f4d31f8",
        "IPY_MODEL_7650d03dd81d48e8ab5ecbbb7c1131be"
       ],
       "layout": "IPY_MODEL_220ab9a8dac349299b2076408c68894c"
      }
     },
     "aee7e6fd124e40dcb3042bb2333fbd98": {
      "model_module": "@jupyter-widgets/controls",
      "model_module_version": "1.5.0",
      "model_name": "DescriptionStyleModel",
      "state": {
       "description_width": ""
      }
     },
     "aef01a6ea10948fc8d06367d9d54afc5": {
      "model_module": "@jupyter-widgets/base",
      "model_module_version": "1.2.0",
      "model_name": "LayoutModel",
      "state": {}
     },
     "af5ad9704eb34ff9818c64381282bdb5": {
      "model_module": "@jupyter-widgets/controls",
      "model_module_version": "1.5.0",
      "model_name": "DescriptionStyleModel",
      "state": {
       "description_width": ""
      }
     },
     "af5f335797ae4aea92602b9f6235f392": {
      "model_module": "@jupyter-widgets/controls",
      "model_module_version": "1.5.0",
      "model_name": "GridBoxModel",
      "state": {
       "children": [
        "IPY_MODEL_8d153f88af73418f9751d58850e1add5",
        "IPY_MODEL_b347d162eed046539952109153d12ebb",
        "IPY_MODEL_6642f8d200934c1487c58ab239db6b73"
       ],
       "layout": "IPY_MODEL_e6cfc144ca124cc68dc32b354a32ea26"
      }
     },
     "af67ce5e8f044426bd7d9eda9756eef6": {
      "model_module": "@jupyter-widgets/base",
      "model_module_version": "1.2.0",
      "model_name": "LayoutModel",
      "state": {
       "grid_area": "dircontent",
       "width": "auto"
      }
     },
     "afa37eb426244a9497375fd5cacde423": {
      "model_module": "@jupyter-widgets/controls",
      "model_module_version": "1.5.0",
      "model_name": "DescriptionStyleModel",
      "state": {
       "description_width": "initial"
      }
     },
     "b08dde0f01b9464eaf7e1a86df9b58b4": {
      "model_module": "@jupyter-widgets/controls",
      "model_module_version": "1.5.0",
      "model_name": "VBoxModel",
      "state": {
       "children": [
        "IPY_MODEL_add6d230318148cda11d944f1acd35cc",
        "IPY_MODEL_bb59d09dc9104463ae412a287a0e4017",
        "IPY_MODEL_491346e08ddd40998a2ab5f193edcf08"
       ],
       "layout": "IPY_MODEL_09168081b46243f388b48c437987477c"
      }
     },
     "b0ed519d5b9547ac99bdc5660808790f": {
      "model_module": "@jupyter-widgets/base",
      "model_module_version": "1.2.0",
      "model_name": "LayoutModel",
      "state": {}
     },
     "b0f84b7a04274710a5d81f5e37165f96": {
      "model_module": "@jupyter-widgets/controls",
      "model_module_version": "1.5.0",
      "model_name": "VBoxModel",
      "state": {
       "children": [
        "IPY_MODEL_a79fa792d94f4389ad98aced52c80426"
       ],
       "layout": "IPY_MODEL_cef1d8d9224846e29a52b0f075781bf8"
      }
     },
     "b159624d062b4ff499c84d1c74a2db0b": {
      "model_module": "@jupyter-widgets/controls",
      "model_module_version": "1.5.0",
      "model_name": "TextareaModel",
      "state": {
       "layout": "IPY_MODEL_4fd39de3a21b43ec91acf29b763dedf5",
       "style": "IPY_MODEL_bc5c39a63a1a49bba87e1e1c0e734e8d",
       "value": "{NewChannel} = {Al2O3} + numpy.cos({CaO} / 30.0 * numpy.pi)"
      }
     },
     "b1b7f74da6b049a88d85307cd83c816a": {
      "model_module": "@jupyter-widgets/controls",
      "model_module_version": "1.5.0",
      "model_name": "VBoxModel",
      "state": {
       "children": [
        "IPY_MODEL_7e4861b77c024a5a9f7d645bbb89ef11"
       ],
       "layout": "IPY_MODEL_7844df1654f640ecbc03df57b03c7c5e"
      }
     },
     "b1c86c7e8f524a91a4347cf078f89c36": {
      "model_module": "@jupyter-widgets/base",
      "model_module_version": "1.2.0",
      "model_name": "LayoutModel",
      "state": {
       "display": "none",
       "width": "auto"
      }
     },
     "b20b06190ad44e0abfdaa3d68139cdec": {
      "model_module": "@jupyter-widgets/controls",
      "model_module_version": "1.5.0",
      "model_name": "DescriptionStyleModel",
      "state": {
       "description_width": ""
      }
     },
     "b21645c310bc443d9f835a498ddc5eef": {
      "model_module": "@jupyter-widgets/base",
      "model_module_version": "1.2.0",
      "model_name": "LayoutModel",
      "state": {
       "width": "75%"
      }
     },
     "b2d3b5e861dd4f939c8accf8f4c1ac80": {
      "model_module": "@jupyter-widgets/controls",
      "model_module_version": "1.5.0",
      "model_name": "VBoxModel",
      "state": {
       "children": [
        "IPY_MODEL_635d806ae9a342b8b81f72c871bbd6bd",
        "IPY_MODEL_c6724c7c60524c3fbf9ef61fe60186b6",
        "IPY_MODEL_0eddc4b8ebba4ce981d9127ac3826c3a",
        "IPY_MODEL_9fccf32d6fa947cabf87cc091d97778f"
       ],
       "layout": "IPY_MODEL_2bb99989126e43e58ee2970fc5f6a862"
      }
     },
     "b2e1d180902d4cf38e40b5765963e147": {
      "model_module": "@jupyter-widgets/base",
      "model_module_version": "1.2.0",
      "model_name": "LayoutModel",
      "state": {}
     },
     "b3097b3f5c214fefa817395709ee935d": {
      "model_module": "@jupyter-widgets/controls",
      "model_module_version": "1.5.0",
      "model_name": "HBoxModel",
      "state": {
       "children": [
        "IPY_MODEL_ef02d8a58d7e43c286f7ebf007ad2ebb",
        "IPY_MODEL_99f653e2f9e24a69a69865935d9917f7",
        "IPY_MODEL_77dbbad1847b4570b239c2ae06636ea6"
       ],
       "layout": "IPY_MODEL_ba9a5623f4c6478ab09875ad9cc46eac"
      }
     },
     "b32df38c35ba438db721cdaa75c2e51a": {
      "model_module": "@jupyter-widgets/controls",
      "model_module_version": "1.5.0",
      "model_name": "DescriptionStyleModel",
      "state": {
       "description_width": ""
      }
     },
     "b347d162eed046539952109153d12ebb": {
      "model_module": "@jupyter-widgets/controls",
      "model_module_version": "1.5.0",
      "model_name": "TextModel",
      "state": {
       "disabled": true,
       "layout": "IPY_MODEL_a3be4caccc8041c6a4462d348af1d475",
       "placeholder": "output filename",
       "style": "IPY_MODEL_e3162bd404c345a885f1d20950bb8893"
      }
     },
     "b3c73a09caf74d7e8274fe0a2a47fd34": {
      "model_module": "@jupyter-widgets/base",
      "model_module_version": "1.2.0",
      "model_name": "LayoutModel",
      "state": {
       "width": "auto"
      }
     },
     "b415e623b6e14979bdae06465ff741b2": {
      "model_module": "@jupyter-widgets/controls",
      "model_module_version": "1.5.0",
      "model_name": "HTMLModel",
      "state": {
       "layout": "IPY_MODEL_215536066e5145faaab7385fb069fa1b",
       "style": "IPY_MODEL_6e296dfa525e4f02a42a7926e737bfe3"
      }
     },
     "b498ab629f14480b8a5adf2d45a41903": {
      "model_module": "@jupyter-widgets/controls",
      "model_module_version": "1.5.0",
      "model_name": "DescriptionStyleModel",
      "state": {
       "description_width": ""
      }
     },
     "b498e67dba95456397dd770265ca01c2": {
      "model_module": "@jupyter-widgets/controls",
      "model_module_version": "1.5.0",
      "model_name": "LabelModel",
      "state": {
       "layout": "IPY_MODEL_ddd09c5819024cdfbb8b5c0d700b226a",
       "style": "IPY_MODEL_bfb1a6341d1246cc8dd38d15ba365375",
       "value": "Monitoring folder"
      }
     },
     "b569327e3d614cc19619336b6b5ff7b5": {
      "model_module": "@jupyter-widgets/controls",
      "model_module_version": "1.5.0",
      "model_name": "ButtonStyleModel",
      "state": {}
     },
     "b57a6f58d32c491b8713440881030553": {
      "model_module": "@jupyter-widgets/base",
      "model_module_version": "1.2.0",
      "model_name": "LayoutModel",
      "state": {}
     },
     "b58f2652cc4749058839fefb32d0001e": {
      "model_module": "@jupyter-widgets/controls",
      "model_module_version": "1.5.0",
      "model_name": "TextModel",
      "state": {
       "layout": "IPY_MODEL_5d0081387fba4f95a95b25a6ccdd7d7d",
       "placeholder": "output filename",
       "style": "IPY_MODEL_0523ff14e8bb43a2a452d053e0acd70f",
       "value": "FlinFlon.geoh5"
      }
     },
     "b5c5ec515c31418cafdb95a60b077db4": {
      "model_module": "@jupyter-widgets/controls",
      "model_module_version": "1.5.0",
      "model_name": "ButtonModel",
      "state": {
       "button_style": "danger",
       "description": "Compute",
       "icon": "check",
       "layout": "IPY_MODEL_45bab22cc4d54894a04f943363157d6f",
       "style": "IPY_MODEL_26c09a8b01664f728b147de18aaef986",
       "tooltip": "Run computation"
      }
     },
     "b603216e6bc946fdad2479be4f487f05": {
      "model_module": "@jupyter-widgets/controls",
      "model_module_version": "1.5.0",
      "model_name": "DescriptionStyleModel",
      "state": {
       "description_width": ""
      }
     },
     "b6a7489b4ec94f05a2b7ae5378c70b71": {
      "model_module": "@jupyter-widgets/controls",
      "model_module_version": "1.5.0",
      "model_name": "DescriptionStyleModel",
      "state": {
       "description_width": ""
      }
     },
     "b6cebae7fbb74fd194377e05d1dad78d": {
      "model_module": "@jupyter-widgets/base",
      "model_module_version": "1.2.0",
      "model_name": "LayoutModel",
      "state": {}
     },
     "b72f5ad58e3a496a8e86baac1f81d1c8": {
      "model_module": "@jupyter-widgets/base",
      "model_module_version": "1.2.0",
      "model_name": "LayoutModel",
      "state": {
       "grid_area": "pathlist",
       "width": "auto"
      }
     },
     "b7455bd7008141e8ba69a94b12cb5dd7": {
      "model_module": "@jupyter-widgets/controls",
      "model_module_version": "1.5.0",
      "model_name": "DescriptionStyleModel",
      "state": {
       "description_width": ""
      }
     },
     "b7a9f2e018ca4144badf46f6212c6e3d": {
      "model_module": "@jupyter-widgets/controls",
      "model_module_version": "1.5.0",
      "model_name": "GridBoxModel",
      "state": {
       "children": [
        "IPY_MODEL_899f8cf4cf1f45609a1b033e5e48b16a",
        "IPY_MODEL_a40f0beebc7547259684b69b29ca8c6a",
        "IPY_MODEL_2c662785f5454e5eaf680bd368b27b76"
       ],
       "layout": "IPY_MODEL_84a5434ca9b84be3a8f3bdbedfdbaeda"
      }
     },
     "b7b74978fcf94059a0455e88afdb3009": {
      "model_module": "@jupyter-widgets/controls",
      "model_module_version": "1.5.0",
      "model_name": "DescriptionStyleModel",
      "state": {
       "description_width": ""
      }
     },
     "b7cdb2c0f6de4fb1a7d82a9bb670a1bf": {
      "model_module": "@jupyter-widgets/base",
      "model_module_version": "1.2.0",
      "model_name": "LayoutModel",
      "state": {}
     },
     "b7d0a050b8e746d490bb6e953714f8eb": {
      "model_module": "@jupyter-widgets/controls",
      "model_module_version": "1.5.0",
      "model_name": "ButtonStyleModel",
      "state": {}
     },
     "b8103a0af8a44c5f8c4207b8fa120427": {
      "model_module": "@jupyter-widgets/controls",
      "model_module_version": "1.5.0",
      "model_name": "TextareaModel",
      "state": {
       "layout": "IPY_MODEL_2ab1957e5e044fdd8cba0ea99b17e4b6",
       "style": "IPY_MODEL_824c9faf8e304c09bbc6488ae158f9bc",
       "value": "{NewChannel} = {Al2O3} + numpy.cos({CaO} / 30.0 * numpy.pi)"
      }
     },
     "b86d95bd0bbd40aba2ba8a033532ce6f": {
      "model_module": "@jupyter-widgets/controls",
      "model_module_version": "1.5.0",
      "model_name": "VBoxModel",
      "state": {
       "children": [
        "IPY_MODEL_125a7011ddb749c68c67e8095246042c"
       ],
       "layout": "IPY_MODEL_16ca38fbcd5a4837b81309e4a00d6272"
      }
     },
     "b86e94de665844a7812b50d21a1d86c8": {
      "model_module": "@jupyter-widgets/controls",
      "model_module_version": "1.5.0",
      "model_name": "DescriptionStyleModel",
      "state": {
       "description_width": "initial"
      }
     },
     "b8bf7a24dd644d71865b7b48fdf6c5d6": {
      "model_module": "@jupyter-widgets/controls",
      "model_module_version": "1.5.0",
      "model_name": "DescriptionStyleModel",
      "state": {
       "description_width": ""
      }
     },
     "b923e37702134e5a9906486a8a70be5b": {
      "model_module": "@jupyter-widgets/controls",
      "model_module_version": "1.5.0",
      "model_name": "DescriptionStyleModel",
      "state": {
       "description_width": "initial"
      }
     },
     "b95c6e26affc4f46bba2a78eb7b1fe86": {
      "model_module": "@jupyter-widgets/controls",
      "model_module_version": "1.5.0",
      "model_name": "DescriptionStyleModel",
      "state": {
       "description_width": ""
      }
     },
     "b96cde70cb174e8185ebb2e7374853ef": {
      "model_module": "@jupyter-widgets/controls",
      "model_module_version": "1.5.0",
      "model_name": "ButtonModel",
      "state": {
       "description": "Create copy:",
       "layout": "IPY_MODEL_3c3ec0fe49e045fb8ba10bf2d3289ffb",
       "style": "IPY_MODEL_fcda5fb1fcae44acad903ac662f7cdf2"
      }
     },
     "b98fa2c70dc742d29487cd2e57e59189": {
      "model_module": "@jupyter-widgets/controls",
      "model_module_version": "1.5.0",
      "model_name": "ButtonModel",
      "state": {
       "description": "Create copy:",
       "layout": "IPY_MODEL_d872d90f89ec4becb69dfdb509c2925b",
       "style": "IPY_MODEL_96f046bdd2df4231ba079854e22c9971"
      }
     },
     "b9bddf1ea4a24166b582aea298227b35": {
      "model_module": "@jupyter-widgets/base",
      "model_module_version": "1.2.0",
      "model_name": "LayoutModel",
      "state": {}
     },
     "b9f94f4364dc4d40a50e6ebb080ed75b": {
      "model_module": "@jupyter-widgets/controls",
      "model_module_version": "1.5.0",
      "model_name": "HBoxModel",
      "state": {
       "children": [
        "IPY_MODEL_66c90849c3e4434e9cd1229bb576d7e8",
        "IPY_MODEL_72e8009d267847bd933c25e501842fc5",
        "IPY_MODEL_a230200c37a941628e5d101804da13df"
       ],
       "layout": "IPY_MODEL_538c60e787794d39856e02b2cb43c8e0"
      }
     },
     "b9fdedab907a4b5e89143435dd2c8431": {
      "model_module": "@jupyter-widgets/base",
      "model_module_version": "1.2.0",
      "model_name": "LayoutModel",
      "state": {
       "overflow": "auto"
      }
     },
     "ba38c258744c4f45976651b122117141": {
      "model_module": "@jupyter-widgets/base",
      "model_module_version": "1.2.0",
      "model_name": "LayoutModel",
      "state": {}
     },
     "ba71c705d0ed444c96fc28f7b3060bfd": {
      "model_module": "@jupyter-widgets/controls",
      "model_module_version": "1.5.0",
      "model_name": "VBoxModel",
      "state": {
       "children": [
        "IPY_MODEL_c614c75f424f4f9f93a15d92ec6095d2",
        "IPY_MODEL_a36f3fc4899541aa991294a4207eebb3",
        "IPY_MODEL_02f2cf802b1140d0b523534c1a2dccad"
       ],
       "layout": "IPY_MODEL_23de7847082c4a8f88f717421927d5fe"
      }
     },
     "ba9a5623f4c6478ab09875ad9cc46eac": {
      "model_module": "@jupyter-widgets/base",
      "model_module_version": "1.2.0",
      "model_name": "LayoutModel",
      "state": {
       "width": "auto"
      }
     },
     "bae0000afe06410f9699b6c3da8bd797": {
      "model_module": "@jupyter-widgets/base",
      "model_module_version": "1.2.0",
      "model_name": "LayoutModel",
      "state": {}
     },
     "baeafda038124a98a1586a3356f821d0": {
      "model_module": "@jupyter-widgets/base",
      "model_module_version": "1.2.0",
      "model_name": "LayoutModel",
      "state": {
       "display": "none",
       "min_width": "6em",
       "width": "6em"
      }
     },
     "bb4a5203d2674b3aa056a30c0884681f": {
      "model_module": "@jupyter-widgets/controls",
      "model_module_version": "1.5.0",
      "model_name": "LabelModel",
      "state": {
       "layout": "IPY_MODEL_7c67c6914c824a1badef75b6bb8473bc",
       "style": "IPY_MODEL_a237780eb10c463382765c6b567034c4",
       "value": "Monitoring folder"
      }
     },
     "bb59d09dc9104463ae412a287a0e4017": {
      "model_module": "@jupyter-widgets/controls",
      "model_module_version": "1.5.0",
      "model_name": "GridBoxModel",
      "state": {
       "children": [
        "IPY_MODEL_1c5302ee8b91424d919ca4fdaa304631",
        "IPY_MODEL_f0d636a9ee6d4cc3be5dc4f623d2b7a6",
        "IPY_MODEL_2d6da41546b54437915a80335679dd1e"
       ],
       "layout": "IPY_MODEL_1fbfd404646d48a1b8645a46d8a9ce1e"
      }
     },
     "bba9171a1ece41ab9949129d6a787ef6": {
      "model_module": "@jupyter-widgets/controls",
      "model_module_version": "1.5.0",
      "model_name": "DropdownModel",
      "state": {
       "_options_labels": [
        "C:\\Users\\dominiquef\\Documents\\GIT\\mira\\geoapps\\assets\\Temp",
        "C:\\Users\\dominiquef\\Documents\\GIT\\mira\\geoapps\\assets",
        "C:\\Users\\dominiquef\\Documents\\GIT\\mira\\geoapps",
        "C:\\Users\\dominiquef\\Documents\\GIT\\mira",
        "C:\\Users\\dominiquef\\Documents\\GIT",
        "C:\\Users\\dominiquef\\Documents",
        "C:\\Users\\dominiquef",
        "C:\\Users",
        "C:\\",
        "G:\\",
        "\\\\EgnyteDrive\\mirageoscience\\",
        "D:\\"
       ],
       "index": 0,
       "layout": "IPY_MODEL_09c757cc94e646daa428679bc814e9d7",
       "style": "IPY_MODEL_f3ebf230f5b14cf7bc57401b27c5ed18"
      }
     },
     "bbb403625ad44b7189534f23448b3748": {
      "model_module": "@jupyter-widgets/controls",
      "model_module_version": "1.5.0",
      "model_name": "GridBoxModel",
      "state": {
       "children": [
        "IPY_MODEL_bba9171a1ece41ab9949129d6a787ef6",
        "IPY_MODEL_c8de1ae3993e49778dc971c02fcc6d68",
        "IPY_MODEL_e7fb11cad7934170a9374eabf531e090"
       ],
       "layout": "IPY_MODEL_5e53438f41c74a6d9d62e3f32a857587"
      }
     },
     "bbcd43cacf4d4ccbbd43e3ae93e5a7ac": {
      "model_module": "@jupyter-widgets/controls",
      "model_module_version": "1.5.0",
      "model_name": "DescriptionStyleModel",
      "state": {
       "description_width": ""
      }
     },
     "bc2abc91fa1b4d35834cc7e610a9c7c2": {
      "model_module": "@jupyter-widgets/controls",
      "model_module_version": "1.5.0",
      "model_name": "VBoxModel",
      "state": {
       "children": [
        "IPY_MODEL_dc870b2beb7c4d06a960dd32f32240bd",
        "IPY_MODEL_b0f84b7a04274710a5d81f5e37165f96"
       ],
       "layout": "IPY_MODEL_72b5c62bbaef42649ca0c604fe209b11"
      }
     },
     "bc5c39a63a1a49bba87e1e1c0e734e8d": {
      "model_module": "@jupyter-widgets/controls",
      "model_module_version": "1.5.0",
      "model_name": "DescriptionStyleModel",
      "state": {
       "description_width": "initial"
      }
     },
     "bc763769a31649c08840ca7f3a1049e5": {
      "model_module": "@jupyter-widgets/controls",
      "model_module_version": "1.5.0",
      "model_name": "TextModel",
      "state": {
       "description": "Name: ",
       "layout": "IPY_MODEL_323726a524f44262a99fd9eabc6cf674",
       "style": "IPY_MODEL_ebba8129b2aa46ccaaa61608b26f0db0"
      }
     },
     "bc9a62f32da84bebab79ae08fd268b08": {
      "model_module": "@jupyter-widgets/base",
      "model_module_version": "1.2.0",
      "model_name": "LayoutModel",
      "state": {
       "grid_area": "filename",
       "width": "auto"
      }
     },
     "bcc996f7a8bb4df0a45a0beacf72d5cf": {
      "model_module": "@jupyter-widgets/controls",
      "model_module_version": "1.5.0",
      "model_name": "DropdownModel",
      "state": {
       "_options_labels": [
        "C:\\Users\\dominiquef\\Documents\\GIT\\mira\\mirageoscience-apps\\assets",
        "C:\\Users\\dominiquef\\Documents\\GIT\\mira\\mirageoscience-apps",
        "C:\\Users\\dominiquef\\Documents\\GIT\\mira",
        "C:\\Users\\dominiquef\\Documents\\GIT",
        "C:\\Users\\dominiquef\\Documents",
        "C:\\Users\\dominiquef",
        "C:\\Users",
        "C:\\",
        "D:\\",
        "Z:\\"
       ],
       "index": 0,
       "layout": "IPY_MODEL_42a747a35d47466f893488a4b393cf5f",
       "style": "IPY_MODEL_0ca37e1497e84f689661542f8b081dce"
      }
     },
     "bdb444e9d10b4ca1a478f2fb586eb05c": {
      "model_module": "@jupyter-widgets/controls",
      "model_module_version": "1.5.0",
      "model_name": "ButtonModel",
      "state": {
       "description": "Cancel",
       "layout": "IPY_MODEL_3713235ac19a41908662807fc157ef8a",
       "style": "IPY_MODEL_d127791b8b844e1f9698be3418753bc2"
      }
     },
     "be2a9650a6a04401aad03527b1134f1b": {
      "model_module": "@jupyter-widgets/controls",
      "model_module_version": "1.5.0",
      "model_name": "VBoxModel",
      "state": {
       "children": [
        "IPY_MODEL_e1fa8562b5664a37987a8f061d86fe39"
       ],
       "layout": "IPY_MODEL_3201b4a1f0ad42938d706ea8968b430a"
      }
     },
     "be4134b59d67476fa7c9b420ab85b03e": {
      "model_module": "@jupyter-widgets/base",
      "model_module_version": "1.2.0",
      "model_name": "LayoutModel",
      "state": {
       "width": "auto"
      }
     },
     "be565230b9c04853b2cd8c8b02b7cb95": {
      "model_module": "@jupyter-widgets/base",
      "model_module_version": "1.2.0",
      "model_name": "LayoutModel",
      "state": {}
     },
     "be7d6ffe42514eceaeaeab202154fc40": {
      "model_module": "@jupyter-widgets/base",
      "model_module_version": "1.2.0",
      "model_name": "LayoutModel",
      "state": {}
     },
     "beabefe334814d9c8b3439aef6503612": {
      "model_module": "@jupyter-widgets/controls",
      "model_module_version": "1.5.0",
      "model_name": "DropdownModel",
      "state": {
       "_options_labels": [
        "C:\\Users\\dominiquef\\Documents\\GIT\\mira\\mirageoscience-apps\\assets",
        "C:\\Users\\dominiquef\\Documents\\GIT\\mira\\mirageoscience-apps",
        "C:\\Users\\dominiquef\\Documents\\GIT\\mira",
        "C:\\Users\\dominiquef\\Documents\\GIT",
        "C:\\Users\\dominiquef\\Documents",
        "C:\\Users\\dominiquef",
        "C:\\Users",
        "C:\\",
        "D:\\",
        "Z:\\"
       ],
       "index": 0,
       "layout": "IPY_MODEL_79ab31d090804d048ea53f5609b86dd2",
       "style": "IPY_MODEL_f463d4839a7442148f5d1f0045ccf59b"
      }
     },
     "bf20e75f73784159b13407689588ddf3": {
      "model_module": "@jupyter-widgets/base",
      "model_module_version": "1.2.0",
      "model_name": "LayoutModel",
      "state": {}
     },
     "bfb1a6341d1246cc8dd38d15ba365375": {
      "model_module": "@jupyter-widgets/controls",
      "model_module_version": "1.5.0",
      "model_name": "DescriptionStyleModel",
      "state": {
       "description_width": "initial"
      }
     },
     "bfba1d8b57254bbd89954cabdaae4bd0": {
      "model_module": "@jupyter-widgets/controls",
      "model_module_version": "1.5.0",
      "model_name": "DescriptionStyleModel",
      "state": {
       "description_width": ""
      }
     },
     "c043108d3d13444888de44df544f7eeb": {
      "model_module": "@jupyter-widgets/base",
      "model_module_version": "1.2.0",
      "model_name": "LayoutModel",
      "state": {}
     },
     "c08481335d48452ea92beeac903c0b51": {
      "model_module": "@jupyter-widgets/controls",
      "model_module_version": "1.5.0",
      "model_name": "SelectModel",
      "state": {
       "_options_labels": [
        "📁 ..",
        "📁 SimPEG_PFInversion"
       ],
       "index": null,
       "layout": "IPY_MODEL_e38bbf917f434d6790aff9d957700552",
       "rows": 8,
       "style": "IPY_MODEL_e2bbc24ecf824f1a8ff4624bba3cc6ac"
      }
     },
     "c0fc031419e34ec2ba82e90a98dab7ff": {
      "model_module": "@jupyter-widgets/controls",
      "model_module_version": "1.5.0",
      "model_name": "HBoxModel",
      "state": {
       "children": [
        "IPY_MODEL_245677cb3d33497ea51c64c461250ad9",
        "IPY_MODEL_b98fa2c70dc742d29487cd2e57e59189"
       ],
       "layout": "IPY_MODEL_4d2ca3c7aa9a4245af0045e2728fd48c"
      }
     },
     "c16cc09def874094b38aee72689d4a20": {
      "model_module": "@jupyter-widgets/controls",
      "model_module_version": "1.5.0",
      "model_name": "DescriptionStyleModel",
      "state": {
       "description_width": ""
      }
     },
     "c181952783fe4902822d5d7852963fa9": {
      "model_module": "@jupyter-widgets/base",
      "model_module_version": "1.2.0",
      "model_name": "LayoutModel",
      "state": {}
     },
     "c20d98d24fce4ad18df56e39656caeed": {
      "model_module": "@jupyter-widgets/controls",
      "model_module_version": "1.5.0",
      "model_name": "VBoxModel",
      "state": {
       "children": [
        "IPY_MODEL_5b41d05c657f41d89194334487dadbde",
        "IPY_MODEL_c5f29b6ce12949a48b9237a620e07c6b"
       ],
       "layout": "IPY_MODEL_669b3b5d4731441880ce42ee778f1857"
      }
     },
     "c2104351f7894eac9c437c229b081434": {
      "model_module": "@jupyter-widgets/controls",
      "model_module_version": "1.5.0",
      "model_name": "HBoxModel",
      "state": {
       "children": [
        "IPY_MODEL_8f8efddd87fc40b38643ea74abc013ec",
        "IPY_MODEL_57cdd7fd947e4f2dbe12055a81bad9bf"
       ],
       "layout": "IPY_MODEL_8e4b2243790042539c8945119efaa042"
      }
     },
     "c26eb6330bac4dccaaaa50881e797cfc": {
      "model_module": "@jupyter-widgets/base",
      "model_module_version": "1.2.0",
      "model_name": "LayoutModel",
      "state": {
       "display": "none"
      }
     },
     "c2d843060797461c8f3baec71c03878d": {
      "model_module": "@jupyter-widgets/controls",
      "model_module_version": "1.5.0",
      "model_name": "HTMLModel",
      "state": {
       "layout": "IPY_MODEL_3d90f48fb32443089b23cad00ee7da46",
       "placeholder": "",
       "style": "IPY_MODEL_c16cc09def874094b38aee72689d4a20",
       "value": "<span style=\"margin-left:10px; color:black;\">No file selected</span>"
      }
     },
     "c32cd102780943f2b25ffeea146eba52": {
      "model_module": "@jupyter-widgets/controls",
      "model_module_version": "1.5.0",
      "model_name": "TextModel",
      "state": {
       "continuous_update": false,
       "description": "Group:",
       "layout": "IPY_MODEL_a2cd5f6841ef4a60acd5ca37e9ce1fc7",
       "style": "IPY_MODEL_34150c05ccc84f8988a62d98ac1da524"
      }
     },
     "c32df19bcd324cae8c0b3094cb8067c0": {
      "model_module": "@jupyter-widgets/base",
      "model_module_version": "1.2.0",
      "model_name": "LayoutModel",
      "state": {}
     },
     "c3324723ab694f1c97d426bd5bcd700f": {
      "model_module": "@jupyter-widgets/base",
      "model_module_version": "1.2.0",
      "model_name": "LayoutModel",
      "state": {}
     },
     "c3c1e6ad4a9f494987da0807bb2f45da": {
      "model_module": "@jupyter-widgets/controls",
      "model_module_version": "1.5.0",
      "model_name": "HBoxModel",
      "state": {
       "children": [
        "IPY_MODEL_b08dde0f01b9464eaf7e1a86df9b58b4",
        "IPY_MODEL_b96cde70cb174e8185ebb2e7374853ef"
       ],
       "layout": "IPY_MODEL_d3b69614f62e43a68072ce69b6de4763"
      }
     },
     "c3c3e5192aa14bd5bab82675683a6486": {
      "model_module": "@jupyter-widgets/controls",
      "model_module_version": "1.5.0",
      "model_name": "VBoxModel",
      "state": {
       "children": [
        "IPY_MODEL_7ce707a0c6b5491184b7fd7c49cc6a03",
        "IPY_MODEL_a0ed3a9300ed42d38b3c7b48d580bf31"
       ],
       "layout": "IPY_MODEL_2462ce4fed3f45158519c86541be3c75"
      }
     },
     "c4253abb893445698e34ad28006606d2": {
      "model_module": "@jupyter-widgets/controls",
      "model_module_version": "1.5.0",
      "model_name": "ButtonStyleModel",
      "state": {}
     },
     "c4689d527beb458f80374e8db9eebe11": {
      "model_module": "@jupyter-widgets/controls",
      "model_module_version": "1.5.0",
      "model_name": "DescriptionStyleModel",
      "state": {
       "description_width": "initial"
      }
     },
     "c47b1586e0a047e9aa6b2fdc72042ef9": {
      "model_module": "@jupyter-widgets/controls",
      "model_module_version": "1.5.0",
      "model_name": "ButtonStyleModel",
      "state": {}
     },
     "c4b0b4a371574459973c37ed325bf23f": {
      "model_module": "@jupyter-widgets/base",
      "model_module_version": "1.2.0",
      "model_name": "LayoutModel",
      "state": {
       "display": "none"
      }
     },
     "c52c4fd718bd411ba64379d094e7e70c": {
      "model_module": "@jupyter-widgets/controls",
      "model_module_version": "1.5.0",
      "model_name": "HTMLModel",
      "state": {
       "layout": "IPY_MODEL_36074434530846d7b7321c81d3ec5cfa",
       "style": "IPY_MODEL_649fdaf1ff194895b6c9ea1b747e6cd2"
      }
     },
     "c54517dd49a14a9685ff5e6340987546": {
      "model_module": "@jupyter-widgets/controls",
      "model_module_version": "1.5.0",
      "model_name": "ButtonStyleModel",
      "state": {}
     },
     "c557d686f2724b5e805eb69379551a2d": {
      "model_module": "@jupyter-widgets/controls",
      "model_module_version": "1.5.0",
      "model_name": "SelectModel",
      "state": {
       "_options_labels": [
        "..",
        "dask-worker-space",
        "images"
       ],
       "index": null,
       "layout": "IPY_MODEL_5ecca6c752f440e793200dd3160365ee",
       "rows": 8,
       "style": "IPY_MODEL_d6f1270891b3490b8962342cb494fbe4"
      }
     },
     "c58e65d94b944d27a0061b0d79d74862": {
      "model_module": "@jupyter-widgets/controls",
      "model_module_version": "1.5.0",
      "model_name": "DescriptionStyleModel",
      "state": {
       "description_width": "initial"
      }
     },
     "c5941c9349fc44868a02bbfb9f73cb61": {
      "model_module": "@jupyter-widgets/base",
      "model_module_version": "1.2.0",
      "model_name": "LayoutModel",
      "state": {}
     },
     "c5f29b6ce12949a48b9237a620e07c6b": {
      "model_module": "@jupyter-widgets/controls",
      "model_module_version": "1.5.0",
      "model_name": "HBoxModel",
      "state": {
       "children": [
        "IPY_MODEL_44b3b46264ca493cb9ff426e31b3fb27",
        "IPY_MODEL_e6625720530042858f15c5217aa14905"
       ],
       "layout": "IPY_MODEL_dd0fa6920f28420ab1ceb1e9bbb0c37a"
      }
     },
     "c5f398ffff7c4d81bc6ac09c0b1f1bd9": {
      "model_module": "@jupyter-widgets/controls",
      "model_module_version": "1.5.0",
      "model_name": "VBoxModel",
      "state": {
       "children": [
        "IPY_MODEL_1ec469fc7ff24bdcb77cfea067f08c9b",
        "IPY_MODEL_038ea5fdcb564377a1da7a40f9d279ff",
        "IPY_MODEL_fd49959d39cf4835a779bc9bcfb7d55b"
       ],
       "layout": "IPY_MODEL_1a6900eb7e264bf69a4278ab7bf45a9c"
      }
     },
     "c614c75f424f4f9f93a15d92ec6095d2": {
      "model_module": "@jupyter-widgets/controls",
      "model_module_version": "1.5.0",
      "model_name": "HTMLModel",
      "state": {
       "layout": "IPY_MODEL_d0e521293a9b45c3926813dc2ab7fe77",
       "style": "IPY_MODEL_ae4a31e336f84d76b29089dbe4a5f7b6"
      }
     },
     "c65503c2499b4b30be81be2fed091c49": {
      "model_module": "@jupyter-widgets/controls",
      "model_module_version": "1.5.0",
      "model_name": "BoxModel",
      "state": {
       "children": [
        "IPY_MODEL_e7a1aedebaaa407eb6a9c4f24e22b24f"
       ],
       "layout": "IPY_MODEL_9ba4802779104ff5b1fdd4b2f1428954"
      }
     },
     "c65b74aaa3444ab8a78271d7faecd957": {
      "model_module": "@jupyter-widgets/controls",
      "model_module_version": "1.5.0",
      "model_name": "VBoxModel",
      "state": {
       "children": [
        "IPY_MODEL_d5149c103e5f4d459457c108b988df10",
        "IPY_MODEL_c32cd102780943f2b25ffeea146eba52"
       ],
       "layout": "IPY_MODEL_1f1ef62e70754b21bd1ae41d8d6e6f4a"
      }
     },
     "c6724c7c60524c3fbf9ef61fe60186b6": {
      "model_module": "@jupyter-widgets/controls",
      "model_module_version": "1.5.0",
      "model_name": "VBoxModel",
      "state": {
       "children": [
        "IPY_MODEL_5f69462f6b224c3397eb24084eb9dec8",
        "IPY_MODEL_887ebe73a4e4448f9117cf83a56ec57f"
       ],
       "layout": "IPY_MODEL_250ba6c57845450fb01c115448f6684a"
      }
     },
     "c7019ecd34a54af3a536a3bb63546d2f": {
      "model_module": "@jupyter-widgets/controls",
      "model_module_version": "1.5.0",
      "model_name": "DropdownModel",
      "state": {
       "_options_labels": [
        "C:\\Users\\dominiquef\\Documents\\GIT\\mira\\geoapps\\docs\\content\\applications",
        "C:\\Users\\dominiquef\\Documents\\GIT\\mira\\geoapps\\docs\\content",
        "C:\\Users\\dominiquef\\Documents\\GIT\\mira\\geoapps\\docs",
        "C:\\Users\\dominiquef\\Documents\\GIT\\mira\\geoapps",
        "C:\\Users\\dominiquef\\Documents\\GIT\\mira",
        "C:\\Users\\dominiquef\\Documents\\GIT",
        "C:\\Users\\dominiquef\\Documents",
        "C:\\Users\\dominiquef",
        "C:\\Users",
        "C:\\",
        "D:\\",
        "Z:\\"
       ],
       "index": 0,
       "layout": "IPY_MODEL_1e283bb609ce4ccdb21c5c240fafbf84",
       "style": "IPY_MODEL_7e852d6e319b46d29943fa50710927f0"
      }
     },
     "c7e7cdf918bc47d1b931985aa0c76954": {
      "model_module": "@jupyter-widgets/controls",
      "model_module_version": "1.5.0",
      "model_name": "DescriptionStyleModel",
      "state": {
       "description_width": ""
      }
     },
     "c7f85ac6f1f943c18b2ba7877a1f73a9": {
      "model_module": "@jupyter-widgets/base",
      "model_module_version": "1.2.0",
      "model_name": "LayoutModel",
      "state": {
       "width": "auto"
      }
     },
     "c8de1ae3993e49778dc971c02fcc6d68": {
      "model_module": "@jupyter-widgets/controls",
      "model_module_version": "1.5.0",
      "model_name": "TextModel",
      "state": {
       "disabled": true,
       "layout": "IPY_MODEL_7743497aedeb473886fb3d138e1602bf",
       "placeholder": "output filename",
       "style": "IPY_MODEL_710b3e76ed05483191a508e7a9ea0cca"
      }
     },
     "c98a43468b6c47c1a601de64058d91c9": {
      "model_module": "@jupyter-widgets/base",
      "model_module_version": "1.2.0",
      "model_name": "LayoutModel",
      "state": {}
     },
     "ca41cd3ffab84b3cb8173ae727578a2c": {
      "model_module": "@jupyter-widgets/controls",
      "model_module_version": "1.5.0",
      "model_name": "VBoxModel",
      "state": {
       "children": [
        "IPY_MODEL_e1d3dcc4ddb74f76a8335f0b36a7815a",
        "IPY_MODEL_0af2ccb563084caf8c703463ca5aafac"
       ],
       "layout": "IPY_MODEL_90a9b61ea4a24a43b1eb59a8863558a2"
      }
     },
     "cac769c905a14313afc0b448d8915217": {
      "model_module": "@jupyter-widgets/controls",
      "model_module_version": "1.5.0",
      "model_name": "DescriptionStyleModel",
      "state": {
       "description_width": ""
      }
     },
     "cb33a2fbed3747ce9653ed3783fffa19": {
      "model_module": "@jupyter-widgets/controls",
      "model_module_version": "1.5.0",
      "model_name": "ToggleButtonModel",
      "state": {
       "layout": "IPY_MODEL_80f8c593ea93494fba4d62db358c6592",
       "style": "IPY_MODEL_b6a7489b4ec94f05a2b7ae5378c70b71",
       "value": true
      }
     },
     "cb9c5d8ba887433aae5aa43553ae13b3": {
      "model_module": "@jupyter-widgets/controls",
      "model_module_version": "1.5.0",
      "model_name": "ButtonStyleModel",
      "state": {}
     },
     "cba17293f1454cb681ddf54a81cac577": {
      "model_module": "@jupyter-widgets/base",
      "model_module_version": "1.2.0",
      "model_name": "LayoutModel",
      "state": {
       "width": "auto"
      }
     },
     "cba47c2e2ea5492f99cc441b1cccf0ae": {
      "model_module": "@jupyter-widgets/base",
      "model_module_version": "1.2.0",
      "model_name": "LayoutModel",
      "state": {}
     },
     "cbb7d61b6bc9444b9991c4fd7602542c": {
      "model_module": "@jupyter-widgets/controls",
      "model_module_version": "1.5.0",
      "model_name": "VBoxModel",
      "state": {
       "children": [
        "IPY_MODEL_c52c4fd718bd411ba64379d094e7e70c",
        "IPY_MODEL_450b6b58791841e7b01e1c583c08ddec",
        "IPY_MODEL_25f6dc24f7de4e339f0d02e23b0810bb"
       ],
       "layout": "IPY_MODEL_fa8d79aca46341fa86cdac405bfba79c"
      }
     },
     "cbc5d6a048b048bab0e583da29fe108d": {
      "model_module": "@jupyter-widgets/base",
      "model_module_version": "1.2.0",
      "model_name": "LayoutModel",
      "state": {}
     },
     "cc0a0197888a40f1bab5ff038c2adb6b": {
      "model_module": "@jupyter-widgets/controls",
      "model_module_version": "1.5.0",
      "model_name": "DescriptionStyleModel",
      "state": {
       "description_width": ""
      }
     },
     "cc7b24cf5dfc4443850db6da2a4ce57f": {
      "model_module": "@jupyter-widgets/controls",
      "model_module_version": "1.5.0",
      "model_name": "CheckboxModel",
      "state": {
       "description": "Geoscience ANALYST Pro - Live link",
       "disabled": false,
       "indent": false,
       "layout": "IPY_MODEL_828cce28cfd1446385a8c55ec5240f49",
       "style": "IPY_MODEL_018ad18c7dd24c82b7e0adbb6807914e",
       "value": false
      }
     },
     "cc8aedb345d546e8ba3edac9b19e27ed": {
      "model_module": "@jupyter-widgets/base",
      "model_module_version": "1.2.0",
      "model_name": "LayoutModel",
      "state": {}
     },
     "ccdc2690f4c0429795335cf7ce96b9b2": {
      "model_module": "@jupyter-widgets/base",
      "model_module_version": "1.2.0",
      "model_name": "LayoutModel",
      "state": {
       "width": "auto"
      }
     },
     "ccf868147b5e47b985021e8b77ecde64": {
      "model_module": "@jupyter-widgets/controls",
      "model_module_version": "1.5.0",
      "model_name": "ButtonModel",
      "state": {
       "button_style": "danger",
       "description": "Compute",
       "icon": "check",
       "layout": "IPY_MODEL_75a7f948a91a4389b886fb440b227892",
       "style": "IPY_MODEL_33c7dff4162c4a5795cee2fda3b1d0c9",
       "tooltip": "Run computation"
      }
     },
     "cd11c40e3fd54854bf808d94503dfc9c": {
      "model_module": "@jupyter-widgets/controls",
      "model_module_version": "1.5.0",
      "model_name": "ButtonStyleModel",
      "state": {}
     },
     "cdbb1f78fae74619a4640e11af1e95b3": {
      "model_module": "@jupyter-widgets/controls",
      "model_module_version": "1.5.0",
      "model_name": "TextModel",
      "state": {
       "layout": "IPY_MODEL_6f29a712b5e14ceca0ed0fa7529a6c6e",
       "placeholder": "output filename",
       "style": "IPY_MODEL_d425de2fbeb54a87aef5e6f1cf4dbb63",
       "value": "FlinFlon.geoh5"
      }
     },
     "cde8827521284742916cb1e2f384f319": {
      "model_module": "@jupyter-widgets/base",
      "model_module_version": "1.2.0",
      "model_name": "LayoutModel",
      "state": {
       "width": "auto"
      }
     },
     "cdf58e418ed34777ad0b2f28db3762db": {
      "model_module": "@jupyter-widgets/controls",
      "model_module_version": "1.5.0",
      "model_name": "TextModel",
      "state": {
       "disabled": true,
       "layout": "IPY_MODEL_08670b644eef42b49617dae5ddbe3cc5",
       "placeholder": "output filename",
       "style": "IPY_MODEL_bfba1d8b57254bbd89954cabdaae4bd0"
      }
     },
     "ce43af1314b843948aeb1a1bd8cc9a62": {
      "model_module": "@jupyter-widgets/base",
      "model_module_version": "1.2.0",
      "model_name": "LayoutModel",
      "state": {}
     },
     "ce94f56ef7dc4b9d9492f261c6ea1270": {
      "model_module": "@jupyter-widgets/controls",
      "model_module_version": "1.5.0",
      "model_name": "DescriptionStyleModel",
      "state": {
       "description_width": ""
      }
     },
     "ced490905d1f43239cf1bcff43930586": {
      "model_module": "@jupyter-widgets/base",
      "model_module_version": "1.2.0",
      "model_name": "LayoutModel",
      "state": {}
     },
     "cef1d8d9224846e29a52b0f075781bf8": {
      "model_module": "@jupyter-widgets/base",
      "model_module_version": "1.2.0",
      "model_name": "LayoutModel",
      "state": {}
     },
     "cef74e75048a47f3a035bc1e11afaef3": {
      "model_module": "@jupyter-widgets/base",
      "model_module_version": "1.2.0",
      "model_name": "LayoutModel",
      "state": {
       "display": "none",
       "grid_gap": "0px 0px",
       "grid_template_areas": "\n                    'pathlist filename'\n                    'dircontent dircontent'\n                    ",
       "grid_template_columns": "60% 40%",
       "grid_template_rows": "auto auto",
       "width": "500px"
      }
     },
     "cf27de90993c4789851d473aac15a71b": {
      "model_module": "@jupyter-widgets/base",
      "model_module_version": "1.2.0",
      "model_name": "LayoutModel",
      "state": {
       "width": "auto"
      }
     },
     "cf47349720e54ab38704faf40c326791": {
      "model_module": "@jupyter-widgets/controls",
      "model_module_version": "1.5.0",
      "model_name": "CheckboxModel",
      "state": {
       "description": "Geoscience ANALYST Pro - Live link",
       "disabled": false,
       "indent": false,
       "layout": "IPY_MODEL_c043108d3d13444888de44df544f7eeb",
       "style": "IPY_MODEL_de31798c0ae14d0e92892441723b301e",
       "value": false
      }
     },
     "cf61d713789e4c7194a0433178ef1738": {
      "model_module": "@jupyter-widgets/controls",
      "model_module_version": "1.5.0",
      "model_name": "VBoxModel",
      "state": {
       "children": [
        "IPY_MODEL_44348d5d23fb4218b33f5bd8e4f72a4a",
        "IPY_MODEL_517c02bc3cda432a930abb1ee3b38b9c"
       ],
       "layout": "IPY_MODEL_5d81b466fbac4d3093a3b855e3cb0566"
      }
     },
     "cf63410115a94d6fb05ee0b8fd78c5ce": {
      "model_module": "@jupyter-widgets/controls",
      "model_module_version": "1.5.0",
      "model_name": "BoxModel",
      "state": {
       "children": [
        "IPY_MODEL_3d14c9ea3cf44e4c843cd94178b63a52"
       ],
       "layout": "IPY_MODEL_0ed608a64d334cf9a80802c26bd278e3"
      }
     },
     "cf96e7b1afb34ebea9aac762c9014d26": {
      "model_module": "@jupyter-widgets/base",
      "model_module_version": "1.2.0",
      "model_name": "LayoutModel",
      "state": {
       "display": "none",
       "width": "auto"
      }
     },
     "d06b71b980f047fb9150c30f524bc462": {
      "model_module": "@jupyter-widgets/controls",
      "model_module_version": "1.5.0",
      "model_name": "SelectMultipleModel",
      "state": {
       "_options_labels": [
        "Ag",
        "Al2O3",
        "As",
        "Au",
        "Ba",
        "Be",
        "Bi",
        "CaO",
        "Cd",
        "Ce",
        "Cl",
        "Co",
        "Cr",
        "Cr2O3",
        "Cs",
        "Ctot",
        "Cu",
        "Dy",
        "Er",
        "Eu",
        "F",
        "Fe2O3",
        "Ga",
        "Gd",
        "Ge",
        "Hf",
        "Hg",
        "Ho",
        "In",
        "Ir",
        "K2O",
        "LOI",
        "La",
        "Li",
        "Lu",
        "MgO",
        "MnO",
        "Mo",
        "Na2O",
        "Nb",
        "Nd",
        "NewChannel",
        "Ni",
        "Ni2",
        "P2O5",
        "Pb",
        "Pr",
        "Rb",
        "SUM",
        "Sb",
        "Sc",
        "Se",
        "SiO2",
        "Sm",
        "Sn",
        "Sr",
        "Stot",
        "Ta",
        "Tb",
        "Th",
        "Ti",
        "TiO2",
        "Tl",
        "Tm",
        "U",
        "V",
        "Visual Parameters",
        "W",
        "Y_",
        "Yb",
        "Zn",
        "Zr",
        "interval_length"
       ],
       "description": "Data: ",
       "index": [
        1,
        7
       ],
       "layout": "IPY_MODEL_ff64ab76a13d4541933c9ebbc3cc29f2",
       "rows": 5,
       "style": "IPY_MODEL_d40771fc098c49ea82453f55e325d163"
      }
     },
     "d0e521293a9b45c3926813dc2ab7fe77": {
      "model_module": "@jupyter-widgets/base",
      "model_module_version": "1.2.0",
      "model_name": "LayoutModel",
      "state": {
       "display": "none"
      }
     },
     "d11dca818c114bd18d4d396941ecb2c8": {
      "model_module": "@jupyter-widgets/base",
      "model_module_version": "1.2.0",
      "model_name": "LayoutModel",
      "state": {
       "grid_area": "dircontent",
       "width": "auto"
      }
     },
     "d127791b8b844e1f9698be3418753bc2": {
      "model_module": "@jupyter-widgets/controls",
      "model_module_version": "1.5.0",
      "model_name": "ButtonStyleModel",
      "state": {}
     },
     "d130dd08ac04492b96944c452c2f4817": {
      "model_module": "@jupyter-widgets/controls",
      "model_module_version": "1.5.0",
      "model_name": "VBoxModel",
      "state": {
       "children": [
        "IPY_MODEL_44348d5d23fb4218b33f5bd8e4f72a4a",
        "IPY_MODEL_2ecc0f1a919e43e7a6ebbeef603238e5"
       ],
       "layout": "IPY_MODEL_3b2e3e1f94464acb90c5c61fc454e3a7"
      }
     },
     "d1f73e4d0114413ab102a119aee4e84b": {
      "model_module": "@jupyter-widgets/controls",
      "model_module_version": "1.5.0",
      "model_name": "DescriptionStyleModel",
      "state": {
       "description_width": ""
      }
     },
     "d1f8d3c754344aa9becaa9cd6bb9e3e6": {
      "model_module": "@jupyter-widgets/controls",
      "model_module_version": "1.5.0",
      "model_name": "ButtonModel",
      "state": {
       "description": "Select",
       "layout": "IPY_MODEL_18afd626bdcd42b3b2d5ba5eb0837c25",
       "style": "IPY_MODEL_79205e3b815342adbb84d48aad29a229"
      }
     },
     "d2260f88a4e748aab3d041fa3188633f": {
      "model_module": "@jupyter-widgets/controls",
      "model_module_version": "1.5.0",
      "model_name": "SelectModel",
      "state": {
       "_options_labels": [
        "..",
        "SimPEG_PFInversion",
        "Temp",
        "dask-worker-space",
        "Crossplot.html",
        "FlinFlon.geoh5",
        "Gravity_Magnetics_drape60m_Airborne_Gxx.tif",
        "Gravity_Magnetics_drape60m_Airborne_Gxx_Colorbar.png",
        "Gravity_Magnetics_drape60m_Airborne_Gxx_RGB.txt",
        "Inversion_.json",
        "Inversion_2.json",
        "Inversion_L0L2.json",
        "Inversion_L1L2.json",
        "Inversion_MVI_susRef.json",
        "Inversion_MagSusc.json",
        "Inversion_MagSusc_noref.json",
        "Inversion_TMI.json",
        "Inversion_test.json",
        "MtDore.geoh5",
        "MtDore_TMI.geoh5",
        "Octree_Mesh.ui.geoh5",
        "Octree_Mesh.ui.json",
        "Octree_Mesh_2.ui.json",
        "Octree_Mesh_33.ui.json",
        "Octree_Mesh_44.ui.json",
        "Octree_Mesh_55.ui.json",
        "Octree_Mesh_done.ui.json",
        "Octree_Mesh_done2.ui.json",
        "Octree_Mesh_geochem.ui.json",
        "Octree_Mesh_max_dist.ui.json",
        "Octree_Mesh_max_dist_10m.ui.json",
        "Octree_Mesh_ore.ui.json",
        "Octree_Mesh_padded.ui.json",
        "Octree_Mesh_surf.ui.json",
        "Octree_Mesh_v2.ui.json",
        "Octree_Mesh_v3.ui.geoh5",
        "Octree_Mesh_v3.ui.json",
        "Octree_Mesh_v4.ui.geoh5",
        "Octree_Mesh_v4.ui.json",
        "Octree_Mesh_v5.ui.json",
        "Octree_Mesh_v6.ui.geoh5",
        "Octree_Mesh_v6.ui.json",
        "Octree_Mesh_v7.ui.json",
        "default_mvi.ui.geoh5",
        "default_mvi.ui.json",
        "demo.ipynb",
        "edge_tester.geoh5",
        "input.ui.json",
        "live_update_demo.ipynb",
        "live_update_demo.ipynb.zip",
        "options_tree.json",
        "project.geoh5",
        "testPoints.geoh5",
        "tester.ui.geoh5",
        "tester.ui.json"
       ],
       "index": 5,
       "layout": "IPY_MODEL_998b3f8cf70449f2a062a6ff72e209da",
       "rows": 8,
       "style": "IPY_MODEL_66687910e1214460b6a2e6fe4a32a6d5"
      }
     },
     "d24e5e1a26014a71a7d48355ad47111d": {
      "model_module": "@jupyter-widgets/base",
      "model_module_version": "1.2.0",
      "model_name": "LayoutModel",
      "state": {
       "display": "none",
       "grid_area": "filename",
       "width": "auto"
      }
     },
     "d2a704b9f51547f1bfb7c77025ea0f58": {
      "model_module": "@jupyter-widgets/controls",
      "model_module_version": "1.5.0",
      "model_name": "DescriptionStyleModel",
      "state": {
       "description_width": ""
      }
     },
     "d2ecfe46cc3c410f8fa8e71dcd2f8c91": {
      "model_module": "@jupyter-widgets/base",
      "model_module_version": "1.2.0",
      "model_name": "LayoutModel",
      "state": {}
     },
     "d2fa9b18f6a3429f8c1734f7e9d4b617": {
      "model_module": "@jupyter-widgets/controls",
      "model_module_version": "1.5.0",
      "model_name": "ButtonStyleModel",
      "state": {}
     },
     "d329ab053d7d46e5ad1c08911c678d88": {
      "model_module": "@jupyter-widgets/controls",
      "model_module_version": "1.5.0",
      "model_name": "DescriptionStyleModel",
      "state": {
       "description_width": "initial"
      }
     },
     "d342c32b359840af8488a32f49b3a4c5": {
      "model_module": "@jupyter-widgets/base",
      "model_module_version": "1.2.0",
      "model_name": "LayoutModel",
      "state": {}
     },
     "d360e7a4d31e444ea424aaaea09ef5ed": {
      "model_module": "@jupyter-widgets/controls",
      "model_module_version": "1.5.0",
      "model_name": "ButtonModel",
      "state": {
       "description": "Change",
       "layout": "IPY_MODEL_a0af38bb7e664c389812e528e8db44e3",
       "style": "IPY_MODEL_722e0e2a5d514ce48c8be57794527543"
      }
     },
     "d3afb5e2da7542b899d9cb691066392d": {
      "model_module": "@jupyter-widgets/controls",
      "model_module_version": "1.5.0",
      "model_name": "DescriptionStyleModel",
      "state": {
       "description_width": "initial"
      }
     },
     "d3b69614f62e43a68072ce69b6de4763": {
      "model_module": "@jupyter-widgets/base",
      "model_module_version": "1.2.0",
      "model_name": "LayoutModel",
      "state": {}
     },
     "d40771fc098c49ea82453f55e325d163": {
      "model_module": "@jupyter-widgets/controls",
      "model_module_version": "1.5.0",
      "model_name": "DescriptionStyleModel",
      "state": {
       "description_width": "initial"
      }
     },
     "d425de2fbeb54a87aef5e6f1cf4dbb63": {
      "model_module": "@jupyter-widgets/controls",
      "model_module_version": "1.5.0",
      "model_name": "DescriptionStyleModel",
      "state": {
       "description_width": ""
      }
     },
     "d440e2722af34931855166b195e5e4ad": {
      "model_module": "@jupyter-widgets/controls",
      "model_module_version": "1.5.0",
      "model_name": "DescriptionStyleModel",
      "state": {
       "description_width": "initial"
      }
     },
     "d480d14f464142dcb41e7ef5d7e68e9e": {
      "model_module": "@jupyter-widgets/controls",
      "model_module_version": "1.5.0",
      "model_name": "LabelModel",
      "state": {
       "layout": "IPY_MODEL_be565230b9c04853b2cd8c8b02b7cb95",
       "style": "IPY_MODEL_da04bbfb467e4e7c8c0e40849ec11b0a",
       "value": "Workspace"
      }
     },
     "d4f2146248e6429f8e04a048d59e1315": {
      "model_module": "@jupyter-widgets/base",
      "model_module_version": "1.2.0",
      "model_name": "LayoutModel",
      "state": {
       "display": "none"
      }
     },
     "d5149c103e5f4d459457c108b988df10": {
      "model_module": "@jupyter-widgets/controls",
      "model_module_version": "1.5.0",
      "model_name": "ButtonModel",
      "state": {
       "button_style": "danger",
       "description": "Compute",
       "icon": "check",
       "layout": "IPY_MODEL_76023be53e3843f69447960eaaf024d5",
       "style": "IPY_MODEL_9c27195251904c5a9ce63cc8409b7d75",
       "tooltip": "Run computation"
      }
     },
     "d5299360a38840ebb80a174d084506b0": {
      "model_module": "@jupyter-widgets/base",
      "model_module_version": "1.2.0",
      "model_name": "LayoutModel",
      "state": {
       "width": "500px"
      }
     },
     "d52e2b6ab56f44539440283f266d95fe": {
      "model_module": "@jupyter-widgets/controls",
      "model_module_version": "1.5.0",
      "model_name": "DescriptionStyleModel",
      "state": {
       "description_width": ""
      }
     },
     "d563a1a9041746a381cf2f0cb53ef6cb": {
      "model_module": "@jupyter-widgets/base",
      "model_module_version": "1.2.0",
      "model_name": "LayoutModel",
      "state": {}
     },
     "d5c007a2c602479d9e9f421f0d4bab73": {
      "model_module": "@jupyter-widgets/controls",
      "model_module_version": "1.5.0",
      "model_name": "HBoxModel",
      "state": {
       "children": [
        "IPY_MODEL_974da166467e45f49cee86423a44dd6a",
        "IPY_MODEL_27aa1487b85d46ca933795392cc25102"
       ],
       "layout": "IPY_MODEL_bf20e75f73784159b13407689588ddf3"
      }
     },
     "d5ea54edffb04dba895eca74b6c4dfeb": {
      "model_module": "@jupyter-widgets/controls",
      "model_module_version": "1.5.0",
      "model_name": "ButtonModel",
      "state": {
       "description": "Change",
       "layout": "IPY_MODEL_49286708e8de4f97a6e89a903b51a6ab",
       "style": "IPY_MODEL_7571401917df4970a3a656545c8c333c"
      }
     },
     "d603ced39e994a78977afdab603cf561": {
      "model_module": "@jupyter-widgets/controls",
      "model_module_version": "1.5.0",
      "model_name": "HTMLModel",
      "state": {
       "layout": "IPY_MODEL_de97a514538e4b86bf600f3408b91da1",
       "placeholder": "",
       "style": "IPY_MODEL_80e49a4394934273be4d57974c37c842",
       "value": "<span style=\"margin-left:10px; color:orange;\">C:\\Users\\dominiquef\\Documents\\GIT\\mira\\geoapps\\assets\\FlinFlon.geoh5</span>"
      }
     },
     "d6846bdf76654da4a8d73d0e1f713363": {
      "model_module": "@jupyter-widgets/controls",
      "model_module_version": "1.5.0",
      "model_name": "ButtonModel",
      "state": {
       "description": "Change",
       "layout": "IPY_MODEL_7d87ae57cd4f46f79aa0009fce0fb8d0",
       "style": "IPY_MODEL_198dcfd710ed4b6d8db58b0add5fc629"
      }
     },
     "d684803faf604ebd8afc0be81595609a": {
      "model_module": "@jupyter-widgets/base",
      "model_module_version": "1.2.0",
      "model_name": "LayoutModel",
      "state": {
       "grid_area": "pathlist",
       "width": "auto"
      }
     },
     "d6f1270891b3490b8962342cb494fbe4": {
      "model_module": "@jupyter-widgets/controls",
      "model_module_version": "1.5.0",
      "model_name": "DescriptionStyleModel",
      "state": {
       "description_width": ""
      }
     },
     "d775bb6a5b2e47fbbe48e5b9f3480615": {
      "model_module": "@jupyter-widgets/controls",
      "model_module_version": "1.5.0",
      "model_name": "HBoxModel",
      "state": {
       "children": [
        "IPY_MODEL_7342a1a0ca324b48bdd18609738e8418",
        "IPY_MODEL_0bcd5886adba47f9a33c6314ef1bec15"
       ],
       "layout": "IPY_MODEL_cba47c2e2ea5492f99cc441b1cccf0ae"
      }
     },
     "d86993a54ef3487eaa7414182b7b759f": {
      "model_module": "@jupyter-widgets/base",
      "model_module_version": "1.2.0",
      "model_name": "LayoutModel",
      "state": {
       "min_width": "6em",
       "width": "6em"
      }
     },
     "d872d90f89ec4becb69dfdb509c2925b": {
      "model_module": "@jupyter-widgets/base",
      "model_module_version": "1.2.0",
      "model_name": "LayoutModel",
      "state": {}
     },
     "d894d1b3702c4386aba881175fced5c9": {
      "model_module": "@jupyter-widgets/controls",
      "model_module_version": "1.5.0",
      "model_name": "DescriptionStyleModel",
      "state": {
       "description_width": "initial"
      }
     },
     "d8f76293bb1a4daba1fee5aa1e1896d4": {
      "model_module": "@jupyter-widgets/controls",
      "model_module_version": "1.5.0",
      "model_name": "ButtonModel",
      "state": {
       "description": "Cancel",
       "layout": "IPY_MODEL_429297fdc4d04f148ccc0d57d21c9e1d",
       "style": "IPY_MODEL_c54517dd49a14a9685ff5e6340987546"
      }
     },
     "d901a9836dac4b25972eae3a1793b687": {
      "model_module": "@jupyter-widgets/controls",
      "model_module_version": "1.5.0",
      "model_name": "ButtonModel",
      "state": {
       "description": "Change",
       "layout": "IPY_MODEL_d86993a54ef3487eaa7414182b7b759f",
       "style": "IPY_MODEL_502f1bb008614c4ea81b4e9f9b3620d7"
      }
     },
     "d90308ec208844fe9c32b1084b097c7a": {
      "model_module": "@jupyter-widgets/controls",
      "model_module_version": "1.5.0",
      "model_name": "ButtonModel",
      "state": {
       "description": "Cancel",
       "layout": "IPY_MODEL_9bc2791663cb499fa6b396b6aa2436d8",
       "style": "IPY_MODEL_b569327e3d614cc19619336b6b5ff7b5"
      }
     },
     "d91f3927287e4324822136b088666fd2": {
      "model_module": "@jupyter-widgets/controls",
      "model_module_version": "1.5.0",
      "model_name": "DescriptionStyleModel",
      "state": {
       "description_width": "initial"
      }
     },
     "d93ea2f84fa740b09304f270158abdf4": {
      "model_module": "@jupyter-widgets/controls",
      "model_module_version": "1.5.0",
      "model_name": "ButtonStyleModel",
      "state": {}
     },
     "d942fc4774f84d68aed30037354aa47e": {
      "model_module": "@jupyter-widgets/base",
      "model_module_version": "1.2.0",
      "model_name": "LayoutModel",
      "state": {}
     },
     "d98513fd3719441cb7e6c7ddb3086345": {
      "model_module": "@jupyter-widgets/base",
      "model_module_version": "1.2.0",
      "model_name": "LayoutModel",
      "state": {
       "width": "auto"
      }
     },
     "d9fef75d9eb14141b67626cea4c93086": {
      "model_module": "@jupyter-widgets/controls",
      "model_module_version": "1.5.0",
      "model_name": "ButtonModel",
      "state": {
       "description": ">> Add Variable >>",
       "layout": "IPY_MODEL_0ae4a9cc8c154ce79727edabce64171a",
       "style": "IPY_MODEL_775c07903fe344769eca394474ae3500"
      }
     },
     "da04bbfb467e4e7c8c0e40849ec11b0a": {
      "model_module": "@jupyter-widgets/controls",
      "model_module_version": "1.5.0",
      "model_name": "DescriptionStyleModel",
      "state": {
       "description_width": "initial"
      }
     },
     "da65a8955ccf4747a4fd5806714509c1": {
      "model_module": "@jupyter-widgets/controls",
      "model_module_version": "1.5.0",
      "model_name": "DescriptionStyleModel",
      "state": {
       "description_width": ""
      }
     },
     "dac8b148e35c4be292b7fcd1a03dad5f": {
      "model_module": "@jupyter-widgets/controls",
      "model_module_version": "1.5.0",
      "model_name": "DescriptionStyleModel",
      "state": {
       "description_width": "initial"
      }
     },
     "dad61588076d4c15894364959d4fa840": {
      "model_module": "@jupyter-widgets/controls",
      "model_module_version": "1.5.0",
      "model_name": "ButtonStyleModel",
      "state": {}
     },
     "daf1ea5f1eb04c1c9120621d5609ea33": {
      "model_module": "@jupyter-widgets/base",
      "model_module_version": "1.2.0",
      "model_name": "LayoutModel",
      "state": {}
     },
     "dc1b4ed935ef40729c481af865b57e67": {
      "model_module": "@jupyter-widgets/controls",
      "model_module_version": "1.5.0",
      "model_name": "HBoxModel",
      "state": {
       "children": [
        "IPY_MODEL_39cdd1b1e32e4b01b02b6c04062c2019",
        "IPY_MODEL_62ca0e1592ab4f3c9805222b955cf965",
        "IPY_MODEL_347688dc2d714319a76242e4d954882d"
       ],
       "layout": "IPY_MODEL_80466409df824d2481e35f6bbeb8d81e"
      }
     },
     "dc870b2beb7c4d06a960dd32f32240bd": {
      "model_module": "@jupyter-widgets/controls",
      "model_module_version": "1.5.0",
      "model_name": "VBoxModel",
      "state": {
       "children": [
        "IPY_MODEL_18f384d8c308450cb81a8f49b20e5d96",
        "IPY_MODEL_8fbf1864af64497c8ca7a029d56506b4"
       ],
       "layout": "IPY_MODEL_83d1b7f9bdfe47f5b393480ff25375a5"
      }
     },
     "dce9c2e242d241e1810de96078c8dd65": {
      "model_module": "@jupyter-widgets/controls",
      "model_module_version": "1.5.0",
      "model_name": "HTMLModel",
      "state": {
       "layout": "IPY_MODEL_d4f2146248e6429f8e04a048d59e1315",
       "style": "IPY_MODEL_b20b06190ad44e0abfdaa3d68139cdec"
      }
     },
     "dcefb6fc4c0c4c8f87ed37b2d5c109f5": {
      "model_module": "@jupyter-widgets/controls",
      "model_module_version": "1.5.0",
      "model_name": "SelectMultipleModel",
      "state": {
       "_options_labels": [
        "Ho",
        "CaO",
        "Hf",
        "Be",
        "Mo",
        "Visual Parameters",
        "Se",
        "Bi",
        "Tb",
        "Cs",
        "In",
        "Dy",
        "MgO",
        "Cl",
        "Ni",
        "Hg",
        "SUM",
        "Co",
        "Tm",
        "Ta",
        "Pb",
        "U",
        "Cr",
        "Y_",
        "Zn",
        "Sn",
        "Na2O",
        "Ce",
        "Eu",
        "Cd",
        "Sr",
        "Zr",
        "Ir",
        "Cu",
        "K2O",
        "LOI",
        "Er",
        "Nb",
        "Ctot",
        "Ti",
        "Sm",
        "Ni2",
        "Cr2O3",
        "V",
        "Ge",
        "Nd",
        "Lu",
        "TiO2",
        "F",
        "W",
        "Ag",
        "Rb",
        "Stot",
        "As",
        "La",
        "Tl",
        "Th",
        "Sc",
        "Fe2O3",
        "Yb",
        "Ba",
        "Al2O3",
        "Sb",
        "MnO",
        "Li",
        "Au",
        "Ga",
        "Pr",
        "SiO2",
        "interval_length",
        "Gd",
        "P2O5",
        "NewChannel"
       ],
       "description": "Data: ",
       "index": [],
       "layout": "IPY_MODEL_a0ee8746da1f4655b41dfbb16767e6f3",
       "rows": 5,
       "style": "IPY_MODEL_c58e65d94b944d27a0061b0d79d74862"
      }
     },
     "dd0fa6920f28420ab1ceb1e9bbb0c37a": {
      "model_module": "@jupyter-widgets/base",
      "model_module_version": "1.2.0",
      "model_name": "LayoutModel",
      "state": {}
     },
     "dd3ff830dddd4cc0b5fc4c776de77116": {
      "model_module": "@jupyter-widgets/controls",
      "model_module_version": "1.5.0",
      "model_name": "DescriptionStyleModel",
      "state": {
       "description_width": "initial"
      }
     },
     "ddd09c5819024cdfbb8b5c0d700b226a": {
      "model_module": "@jupyter-widgets/base",
      "model_module_version": "1.2.0",
      "model_name": "LayoutModel",
      "state": {}
     },
     "de31798c0ae14d0e92892441723b301e": {
      "model_module": "@jupyter-widgets/controls",
      "model_module_version": "1.5.0",
      "model_name": "DescriptionStyleModel",
      "state": {
       "description_width": "initial"
      }
     },
     "de3c4cef9ecd4f12bef50c6c191e6c99": {
      "model_module": "@jupyter-widgets/controls",
      "model_module_version": "1.5.0",
      "model_name": "DropdownModel",
      "state": {
       "_options_labels": [
        "",
        "Ore/39_Ore_Callinan",
        "Ore/38_Ore_Dan_Owens",
        "Ore/40_Ore_FlinFlon",
        "Workspace/Inversion_VTEM_Model",
        "Workspace/Gravity_Magnetics_drape60m",
        "Workspace/CDI_VTEM_model",
        "Workspace/Data_FEM_pseudo3D",
        "Workspace/O2O_Interp_25m",
        "Workspace/geochem",
        "Workspace/Inversion_DIGHEM_Model",
        "Workspace/Topography",
        "Workspace/Data_TEM_pseudo3D",
        "Workspace/Data_ZTEM",
        "Workspace/Mesh"
       ],
       "description": "Object:",
       "index": 9,
       "layout": "IPY_MODEL_1859c60fdfe04c76ad95cc56da331557",
       "style": "IPY_MODEL_96c5837f904347d9a715de5ec890e22e"
      }
     },
     "de97a514538e4b86bf600f3408b91da1": {
      "model_module": "@jupyter-widgets/base",
      "model_module_version": "1.2.0",
      "model_name": "LayoutModel",
      "state": {}
     },
     "dea9f2ef8fb848a2aa2a8ad8b4e4b93a": {
      "model_module": "@jupyter-widgets/base",
      "model_module_version": "1.2.0",
      "model_name": "LayoutModel",
      "state": {
       "margin": "0 0 0 1em"
      }
     },
     "deef56f3cd1b489286cbe2662dbc13ad": {
      "model_module": "@jupyter-widgets/controls",
      "model_module_version": "1.5.0",
      "model_name": "VBoxModel",
      "state": {
       "children": [
        "IPY_MODEL_7d9e2eb4b42e4a66bca5f0c62aa4088f",
        "IPY_MODEL_c2104351f7894eac9c437c229b081434"
       ],
       "layout": "IPY_MODEL_aec9d37a1aa64e02b38c0850f7410e69"
      }
     },
     "def68c07924e45a5b792e8552f15e72c": {
      "model_module": "@jupyter-widgets/controls",
      "model_module_version": "1.5.0",
      "model_name": "DescriptionStyleModel",
      "state": {
       "description_width": ""
      }
     },
     "df001983529f480e8fb6147d1c04fd67": {
      "model_module": "@jupyter-widgets/controls",
      "model_module_version": "1.5.0",
      "model_name": "VBoxModel",
      "state": {
       "children": [
        "IPY_MODEL_e834c327c3a548928b59e424c308e260",
        "IPY_MODEL_7342a1a0ca324b48bdd18609738e8418"
       ],
       "layout": "IPY_MODEL_031d1bb5c9b5436fa9b16653171f1c8b"
      }
     },
     "df9ca406409b48869b3a8a518e84b050": {
      "model_module": "@jupyter-widgets/controls",
      "model_module_version": "1.5.0",
      "model_name": "TextModel",
      "state": {
       "description": "Name: ",
       "layout": "IPY_MODEL_c181952783fe4902822d5d7852963fa9",
       "style": "IPY_MODEL_9d039af502614da088360beee683050b"
      }
     },
     "dffa8a5ba38748c89e9da3601389325d": {
      "model_module": "@jupyter-widgets/controls",
      "model_module_version": "1.5.0",
      "model_name": "LabelModel",
      "state": {
       "layout": "IPY_MODEL_4e359d1d73754b3ba28d6aa4e408c7d2",
       "style": "IPY_MODEL_edd24a67c49a4b0180982bd1c128c344",
       "value": "Workspace"
      }
     },
     "e01a5dc9f6be4022af05abcaebe603a0": {
      "model_module": "@jupyter-widgets/controls",
      "model_module_version": "1.5.0",
      "model_name": "DescriptionStyleModel",
      "state": {
       "description_width": ""
      }
     },
     "e0e6695f97814e3db529268a390851d5": {
      "model_module": "@jupyter-widgets/base",
      "model_module_version": "1.2.0",
      "model_name": "LayoutModel",
      "state": {
       "width": "100%"
      }
     },
     "e1d3dcc4ddb74f76a8335f0b36a7815a": {
      "model_module": "@jupyter-widgets/controls",
      "model_module_version": "1.5.0",
      "model_name": "VBoxModel",
      "state": {
       "children": [
        "IPY_MODEL_1e083171df5847a6bdb11da025808dd1",
        "IPY_MODEL_efb05e7b55f7440ebde6d9c340ae86f7"
       ],
       "layout": "IPY_MODEL_26a6531b46db40d6b96d50dcccd94405"
      }
     },
     "e1e2b1b0a29a4b3eb77d889708403585": {
      "model_module": "@jupyter-widgets/controls",
      "model_module_version": "1.5.0",
      "model_name": "ButtonStyleModel",
      "state": {}
     },
     "e1fa8562b5664a37987a8f061d86fe39": {
      "model_module": "@jupyter-widgets/controls",
      "model_module_version": "1.5.0",
      "model_name": "CheckboxModel",
      "state": {
       "description": "Geoscience ANALYST Pro - Live link",
       "disabled": false,
       "indent": false,
       "layout": "IPY_MODEL_6b3da000e6ad489b81e9153befe54147",
       "style": "IPY_MODEL_3f1ec89b71074a82b4934cbea823af3c",
       "value": false
      }
     },
     "e2009489ca1246bf819184a12f1890ff": {
      "model_module": "@jupyter-widgets/controls",
      "model_module_version": "1.5.0",
      "model_name": "ButtonStyleModel",
      "state": {}
     },
     "e2700f8222554da79c063d75ea4a5e71": {
      "model_module": "@jupyter-widgets/controls",
      "model_module_version": "1.5.0",
      "model_name": "HBoxModel",
      "state": {
       "children": [
        "IPY_MODEL_dcefb6fc4c0c4c8f87ed37b2d5c109f5",
        "IPY_MODEL_d9fef75d9eb14141b67626cea4c93086"
       ],
       "layout": "IPY_MODEL_96e344b9273948ecb830f3e14cc286b5"
      }
     },
     "e2bbc24ecf824f1a8ff4624bba3cc6ac": {
      "model_module": "@jupyter-widgets/controls",
      "model_module_version": "1.5.0",
      "model_name": "DescriptionStyleModel",
      "state": {
       "description_width": ""
      }
     },
     "e3162bd404c345a885f1d20950bb8893": {
      "model_module": "@jupyter-widgets/controls",
      "model_module_version": "1.5.0",
      "model_name": "DescriptionStyleModel",
      "state": {
       "description_width": ""
      }
     },
     "e31dfe88897d4132b76c816915803e9e": {
      "model_module": "@jupyter-widgets/base",
      "model_module_version": "1.2.0",
      "model_name": "LayoutModel",
      "state": {}
     },
     "e360d40446244be9a217ebffe41fd68c": {
      "model_module": "@jupyter-widgets/controls",
      "model_module_version": "1.5.0",
      "model_name": "HBoxModel",
      "state": {
       "children": [
        "IPY_MODEL_d901a9836dac4b25972eae3a1793b687",
        "IPY_MODEL_fd2ab74e8a7c40289d49e6d401329bfe",
        "IPY_MODEL_cf63410115a94d6fb05ee0b8fd78c5ce"
       ],
       "layout": "IPY_MODEL_cf27de90993c4789851d473aac15a71b"
      }
     },
     "e38bbf917f434d6790aff9d957700552": {
      "model_module": "@jupyter-widgets/base",
      "model_module_version": "1.2.0",
      "model_name": "LayoutModel",
      "state": {
       "grid_area": "dircontent",
       "width": "auto"
      }
     },
     "e3946f7fcd154ef2969664d14bcaf0c8": {
      "model_module": "@jupyter-widgets/controls",
      "model_module_version": "1.5.0",
      "model_name": "VBoxModel",
      "state": {
       "children": [
        "IPY_MODEL_d5149c103e5f4d459457c108b988df10",
        "IPY_MODEL_ff74c80646bd45498f7d4eec2e27890b"
       ],
       "layout": "IPY_MODEL_9d0d1261a2234e3781ce24ce0f706d6c"
      }
     },
     "e518e03658994a938411916d2ef134b0": {
      "model_module": "@jupyter-widgets/controls",
      "model_module_version": "1.5.0",
      "model_name": "VBoxModel",
      "state": {
       "children": [
        "IPY_MODEL_6b3a4bcabcae4e76b427015e475965ad"
       ],
       "layout": "IPY_MODEL_e0e6695f97814e3db529268a390851d5"
      }
     },
     "e5256603312349d9a7814235afcd11aa": {
      "model_module": "@jupyter-widgets/base",
      "model_module_version": "1.2.0",
      "model_name": "LayoutModel",
      "state": {
       "overflow": "auto"
      }
     },
     "e5bddd01be434765ac0ac7a7f8de992c": {
      "model_module": "@jupyter-widgets/controls",
      "model_module_version": "1.5.0",
      "model_name": "VBoxModel",
      "state": {
       "children": [
        "IPY_MODEL_261c6d5602484279beb24f5ecbf3b5a4",
        "IPY_MODEL_9c7ad54d6b2541e0819d16efb2e99dba",
        "IPY_MODEL_965e34775adb4e33b1d3c685863ad693"
       ],
       "layout": "IPY_MODEL_9cfdfeba657549d4b03546e6c54f303e"
      }
     },
     "e64c797f7d424a72be8fc172bcb9e48a": {
      "model_module": "@jupyter-widgets/base",
      "model_module_version": "1.2.0",
      "model_name": "LayoutModel",
      "state": {}
     },
     "e6625720530042858f15c5217aa14905": {
      "model_module": "@jupyter-widgets/controls",
      "model_module_version": "1.5.0",
      "model_name": "ButtonModel",
      "state": {
       "description": ">> Add Variable >>",
       "layout": "IPY_MODEL_229b42425b2d48bea6cc6c195452291c",
       "style": "IPY_MODEL_a8a4e2bda95744d78b8dad69e0f0e8b4"
      }
     },
     "e6780ec91c754380841409d4aac66f27": {
      "model_module": "@jupyter-widgets/controls",
      "model_module_version": "1.5.0",
      "model_name": "VBoxModel",
      "state": {
       "children": [
        "IPY_MODEL_bb4a5203d2674b3aa056a30c0884681f",
        "IPY_MODEL_e5bddd01be434765ac0ac7a7f8de992c"
       ],
       "layout": "IPY_MODEL_64fe1624883140079f944c87d84de49a"
      }
     },
     "e68944fc50b64949b710f3036b311945": {
      "model_module": "@jupyter-widgets/controls",
      "model_module_version": "1.5.0",
      "model_name": "HTMLModel",
      "state": {
       "layout": "IPY_MODEL_318d75d07c3240d5a94ed37676a0bd7c",
       "placeholder": "",
       "style": "IPY_MODEL_83b97c784be346e1bb3ab67a4e81bde2",
       "value": "<span style=\"margin-left:10px; color:black;\">No file selected</span>"
      }
     },
     "e69e57b3d4134824b94fe30a02bb24d6": {
      "model_module": "@jupyter-widgets/controls",
      "model_module_version": "1.5.0",
      "model_name": "DescriptionStyleModel",
      "state": {
       "description_width": "initial"
      }
     },
     "e6ccdfb0a47941f08222623dcc3f4315": {
      "model_module": "@jupyter-widgets/base",
      "model_module_version": "1.2.0",
      "model_name": "LayoutModel",
      "state": {
       "width": "auto"
      }
     },
     "e6cfc144ca124cc68dc32b354a32ea26": {
      "model_module": "@jupyter-widgets/base",
      "model_module_version": "1.2.0",
      "model_name": "LayoutModel",
      "state": {
       "display": "none",
       "grid_gap": "0px 0px",
       "grid_template_areas": "\n                    'pathlist pathlist'\n                    'dircontent dircontent'\n                    ",
       "grid_template_columns": "60% 40%",
       "grid_template_rows": "auto auto",
       "width": "auto"
      }
     },
     "e6e5b6da007b4593abeb0e1b51d04a83": {
      "model_module": "@jupyter-widgets/controls",
      "model_module_version": "1.5.0",
      "model_name": "HTMLModel",
      "state": {
       "layout": "IPY_MODEL_40d4247c51d74ac89f8aadd11213bf96",
       "placeholder": "",
       "style": "IPY_MODEL_0d1a1083ab0947109e9c5754e02cc54c",
       "value": "<span style=\"color:green;\">C:\\Users\\dominiquef\\Documents\\GIT\\mira\\geoapps\\assets\\Temp\\</span>"
      }
     },
     "e7a1aedebaaa407eb6a9c4f24e22b24f": {
      "model_module": "@jupyter-widgets/controls",
      "model_module_version": "1.5.0",
      "model_name": "HTMLModel",
      "state": {
       "layout": "IPY_MODEL_04795d21630241cc847429881cfe1682",
       "placeholder": "",
       "style": "IPY_MODEL_55449f02f7e0412da7820eaf9e3ffbad",
       "value": "<span style=\"color:green;\">C:\\Users\\dominiquef\\Documents\\GIT\\mira\\geoapps\\assets\\Temp\\</span>"
      }
     },
     "e7c918d5b514493a9e931c5faae62354": {
      "model_module": "@jupyter-widgets/controls",
      "model_module_version": "1.5.0",
      "model_name": "VBoxModel",
      "state": {
       "children": [
        "IPY_MODEL_18f8d1f804894e359b78f5c9fabe37ea",
        "IPY_MODEL_c20d98d24fce4ad18df56e39656caeed",
        "IPY_MODEL_e518e03658994a938411916d2ef134b0",
        "IPY_MODEL_8b5bd7c8167943bdb7fe85f44db47bfe"
       ],
       "layout": "IPY_MODEL_b0ed519d5b9547ac99bdc5660808790f"
      }
     },
     "e7fb11cad7934170a9374eabf531e090": {
      "model_module": "@jupyter-widgets/controls",
      "model_module_version": "1.5.0",
      "model_name": "SelectModel",
      "state": {
       "_options_labels": [
        "📁 ..",
        "📁 SimPEG_PFInversion",
        "📁 Temp"
       ],
       "index": null,
       "layout": "IPY_MODEL_3483b506ea8f437fac1624883af7e992",
       "rows": 8,
       "style": "IPY_MODEL_a0956c61f205454e9a38bf4f20c340a7"
      }
     },
     "e834c327c3a548928b59e424c308e260": {
      "model_module": "@jupyter-widgets/controls",
      "model_module_version": "1.5.0",
      "model_name": "DropdownModel",
      "state": {
       "_options_labels": [
        "",
        "Data_TEM_pseudo3DEPSG_4326",
        "Gravity_Magnetics_drape60mEPSG_4326",
        "Iso_Iteration_7_model_0.015",
        "Iso_Iteration_7_model_0.01",
        "Iso_Iteration_7_model_0.02",
        "Iso_Iteration_7_model_0.005",
        "Iso_Iteration_7_model_0.0025",
        "fault_splay1",
        "fault_Cliff_Lake",
        "fault_Other_FlinFlon",
        "fault_Club_Lake_splay",
        "fault_Catherine_splay2",
        "fault_Birch_View",
        "fault_Dion_Lake",
        "fault_FlinFlon_splay",
        "fault_West_Mandy_Road",
        "fault_Channing",
        "fault_Ross_Lake",
        "fault_Louis_Hidden",
        "fault_Lake_View_thrust",
        "contact_Schist_Lake",
        "fault_Burley_Lake",
        "fault_Dion_Lake_splay",
        "fault_Green_Lake",
        "fault_FlinFlon",
        "fault_Catherine_splay1",
        "fault_East_Mandy_Road",
        "fault_Other_FlinFlon_South",
        "fault_Catherine_splay4",
        "contact_Stitt_Island",
        "fault_Club_Lake",
        "fault_Tailing_Pond",
        "35_Hidden_Reservoir_Hr5",
        "29_Hidden_Reservoir_Hr1a",
        "60_BlueLagoon_Fb2",
        "20_FlinFlon_Undivided_Int_Dykes_D2f",
        "04_Boundary_Intrusive_S4h",
        "53_Millrock_Rhyolite_Fm4b",
        "19_FlinFlon_Undivided_Int_Dykes_D2b",
        "18_FlinFlon_Undivided_Int_Dykes_777_D2b",
        "06_Phantom_Lake_Intrusive_S3a",
        "21_FlinFlon_Undivided_Int_Dykes_D3a",
        "43_Millrock_CHLSH_South",
        "56_Millrock_Basalt_Fm1ba",
        "17_FlinFlon_Undivided_Int_Dykes_D2",
        "32_Hidden_Reservoir_Hr1b_SW",
        "11_Missi_M3_NE",
        "13_Missi_M1",
        "07_Annabel_Granitoid_S1",
        "45_Millrock_Gabbro_South",
        "01_Late_Intrusive_S5b",
        "31_Hidden_Reservoir_Hr1c_SW",
        "52_Millrock_Rhyolite_Fm4_West_check",
        "55_Millrock_Basalt_Fm1bf",
        "34_Hidden_Reservoir_Hr2b",
        "03_Boundary_Intrusive_S4b",
        "42_Millrock_CHLSH_North",
        "26_Louis_L3",
        "23_FlinFlon_Undivided_Int_Felsic_D4g",
        "30_Hidden_Reservoir_Hr1b",
        "59_BlueLagoon_Fb3",
        "49_Millrock_MVR_Fm5d",
        "44_Millrock_Gabbro_North",
        "27_Hidden_Carlisle_Hc4",
        "22_FlinFlon_Undivided_Int_Felsic_D4e",
        "02_Boundary_Intrusive_S4a",
        "61_BlueLagoon_Fb1_NW",
        "05_Boundary_Intrusive_S4g",
        "39_Ore_Callinan",
        "38_Ore_Dan_Owens",
        "40_Ore_FlinFlon",
        "Inversion_VTEM_Model",
        "Gravity_Magnetics_drape60m",
        "CDI_VTEM_model",
        "Data_FEM_pseudo3D",
        "O2O_Interp_25m",
        "geochem",
        "Inversion_DIGHEM_Model",
        "Topography",
        "Data_TEM_pseudo3D"
       ],
       "description": "Object:",
       "index": 77,
       "layout": "IPY_MODEL_e8c93ae97557422386ef3282231a555a",
       "style": "IPY_MODEL_973bee7d4b3b4db48c7a05b1f7bf68fe"
      }
     },
     "e84dad1ba6bd4010925e532fca56b773": {
      "model_module": "@jupyter-widgets/controls",
      "model_module_version": "1.5.0",
      "model_name": "ButtonModel",
      "state": {
       "description": "Cancel",
       "layout": "IPY_MODEL_ae09e60d162347679a182a93738acb60",
       "style": "IPY_MODEL_286a4159435241d58167710b6290ac3d"
      }
     },
     "e89266a333af4596bb1df459010cc5a9": {
      "model_module": "@jupyter-widgets/controls",
      "model_module_version": "1.5.0",
      "model_name": "VBoxModel",
      "state": {
       "children": [
        "IPY_MODEL_432ffe8cefb6489893874ba5bf91cc2b",
        "IPY_MODEL_79582cdfa3c24c9bb3da30251c065774",
        "IPY_MODEL_dc1b4ed935ef40729c481af865b57e67"
       ],
       "layout": "IPY_MODEL_e6ccdfb0a47941f08222623dcc3f4315"
      }
     },
     "e8b58070c2384003a4c8ed3f85a801b3": {
      "model_module": "@jupyter-widgets/controls",
      "model_module_version": "1.5.0",
      "model_name": "DescriptionStyleModel",
      "state": {
       "description_width": ""
      }
     },
     "e8c93ae97557422386ef3282231a555a": {
      "model_module": "@jupyter-widgets/base",
      "model_module_version": "1.2.0",
      "model_name": "LayoutModel",
      "state": {}
     },
     "e93a37d8925b49dd91d26d72392be938": {
      "model_module": "@jupyter-widgets/controls",
      "model_module_version": "1.5.0",
      "model_name": "VBoxModel",
      "state": {
       "children": [
        "IPY_MODEL_6252d4bcdbc64abb949f7331dfde1551"
       ],
       "layout": "IPY_MODEL_2c3580dea4e94fafad669f267d1f99ee"
      }
     },
     "ea0a006d85cc48ed97c6f9ec8e99dd38": {
      "model_module": "@jupyter-widgets/controls",
      "model_module_version": "1.5.0",
      "model_name": "LabelModel",
      "state": {
       "layout": "IPY_MODEL_f997d015d486456287dc15e00dbb5fdd",
       "style": "IPY_MODEL_0921ca8a454a4d5a9906f2387174a295",
       "value": "Workspace"
      }
     },
     "ea3cc8e79b284f5383744161d1793bd9": {
      "model_module": "@jupyter-widgets/controls",
      "model_module_version": "1.5.0",
      "model_name": "DescriptionStyleModel",
      "state": {
       "description_width": ""
      }
     },
     "ea64514b2b7a4989ae6e10acaea5db52": {
      "model_module": "@jupyter-widgets/controls",
      "model_module_version": "1.5.0",
      "model_name": "VBoxModel",
      "state": {
       "children": [
        "IPY_MODEL_4144b94e98404d0d97ec43e14959228b",
        "IPY_MODEL_cbb7d61b6bc9444b9991c4fd7602542c"
       ],
       "layout": "IPY_MODEL_1ec87652b12846599205422493eb23af"
      }
     },
     "eab79d245d9e4095bb20712915ae9a0f": {
      "model_module": "@jupyter-widgets/base",
      "model_module_version": "1.2.0",
      "model_name": "LayoutModel",
      "state": {
       "width": "auto"
      }
     },
     "eb40228fccc94a05913c39b6a736bc85": {
      "model_module": "@jupyter-widgets/base",
      "model_module_version": "1.2.0",
      "model_name": "LayoutModel",
      "state": {
       "width": "auto"
      }
     },
     "eb4e457602ff425bb3675e48ffeecde0": {
      "model_module": "@jupyter-widgets/base",
      "model_module_version": "1.2.0",
      "model_name": "LayoutModel",
      "state": {}
     },
     "eb845a8dd6de42c6b532af8fe510e270": {
      "model_module": "@jupyter-widgets/controls",
      "model_module_version": "1.5.0",
      "model_name": "DescriptionStyleModel",
      "state": {
       "description_width": "initial"
      }
     },
     "ebba8129b2aa46ccaaa61608b26f0db0": {
      "model_module": "@jupyter-widgets/controls",
      "model_module_version": "1.5.0",
      "model_name": "DescriptionStyleModel",
      "state": {
       "description_width": ""
      }
     },
     "eca205920f4c4fd6af95190b41e5518b": {
      "model_module": "@jupyter-widgets/base",
      "model_module_version": "1.2.0",
      "model_name": "LayoutModel",
      "state": {
       "display": "none",
       "grid_area": "filename",
       "width": "auto"
      }
     },
     "ecb1458847f44f05b088f735c40d3bde": {
      "model_module": "@jupyter-widgets/base",
      "model_module_version": "1.2.0",
      "model_name": "LayoutModel",
      "state": {
       "display": "none",
       "grid_gap": "0px 0px",
       "grid_template_areas": "\n                    'pathlist pathlist'\n                    'dircontent dircontent'\n                    ",
       "grid_template_columns": "60% 40%",
       "grid_template_rows": "auto auto",
       "width": "500px"
      }
     },
     "ecbb582e155f44e7a007ba22278ff6a2": {
      "model_module": "@jupyter-widgets/base",
      "model_module_version": "1.2.0",
      "model_name": "LayoutModel",
      "state": {}
     },
     "ecbcdfc5dcca417f9a62b08f712a9f7a": {
      "model_module": "@jupyter-widgets/controls",
      "model_module_version": "1.5.0",
      "model_name": "TextModel",
      "state": {
       "continuous_update": false,
       "description": "Group:",
       "layout": "IPY_MODEL_4f2070b06eca411a90e1370fda6c945b",
       "style": "IPY_MODEL_5160f8e6548941439d66086549c8fae5"
      }
     },
     "ecd99e37a6624cafa4f1e89e82474a4b": {
      "model_module": "@jupyter-widgets/base",
      "model_module_version": "1.2.0",
      "model_name": "LayoutModel",
      "state": {
       "width": "auto"
      }
     },
     "eda134e78d894bcf913845ba0d9d4e3c": {
      "model_module": "@jupyter-widgets/controls",
      "model_module_version": "1.5.0",
      "model_name": "VBoxModel",
      "state": {
       "children": [
        "IPY_MODEL_fae0737f3a0a4c2d8c8f86cc383d6e49",
        "IPY_MODEL_ecbcdfc5dcca417f9a62b08f712a9f7a"
       ],
       "layout": "IPY_MODEL_1229f582354a4b3a912ba00e1e5c65cc"
      }
     },
     "edbf7852c0db483da68f99fd70853634": {
      "model_module": "@jupyter-widgets/base",
      "model_module_version": "1.2.0",
      "model_name": "LayoutModel",
      "state": {}
     },
     "edd24a67c49a4b0180982bd1c128c344": {
      "model_module": "@jupyter-widgets/controls",
      "model_module_version": "1.5.0",
      "model_name": "DescriptionStyleModel",
      "state": {
       "description_width": "initial"
      }
     },
     "ee016868fa6b49ee9f2690ed2545c6b6": {
      "model_module": "@jupyter-widgets/controls",
      "model_module_version": "1.5.0",
      "model_name": "VBoxModel",
      "state": {
       "children": [
        "IPY_MODEL_9d772744804149c2a8b0029fe66a8398",
        "IPY_MODEL_a33ff9dfb7ed490ab6759160cc34b453",
        "IPY_MODEL_35daf9bb5512405686a4e390f5d6f674"
       ],
       "layout": "IPY_MODEL_eab79d245d9e4095bb20712915ae9a0f"
      }
     },
     "ee382fe52d4a4540a841280e8196ef5c": {
      "model_module": "@jupyter-widgets/controls",
      "model_module_version": "1.5.0",
      "model_name": "DescriptionStyleModel",
      "state": {
       "description_width": "initial"
      }
     },
     "ee96b337ff6d4018b54e39fc93333f3b": {
      "model_module": "@jupyter-widgets/base",
      "model_module_version": "1.2.0",
      "model_name": "LayoutModel",
      "state": {}
     },
     "eeb78110235f49fd93b799f181f699a3": {
      "model_module": "@jupyter-widgets/base",
      "model_module_version": "1.2.0",
      "model_name": "LayoutModel",
      "state": {
       "width": "auto"
      }
     },
     "eeea9eb852644ed190b3e7bbd6b558c4": {
      "model_module": "@jupyter-widgets/controls",
      "model_module_version": "1.5.0",
      "model_name": "DescriptionStyleModel",
      "state": {
       "description_width": "initial"
      }
     },
     "ef02d8a58d7e43c286f7ebf007ad2ebb": {
      "model_module": "@jupyter-widgets/controls",
      "model_module_version": "1.5.0",
      "model_name": "ButtonModel",
      "state": {
       "description": "Change",
       "layout": "IPY_MODEL_84583ac518bf42ec994b317441d111d0",
       "style": "IPY_MODEL_82386c5c01b84dd0a961d54df15e516a"
      }
     },
     "efb05e7b55f7440ebde6d9c340ae86f7": {
      "model_module": "@jupyter-widgets/controls",
      "model_module_version": "1.5.0",
      "model_name": "TextModel",
      "state": {
       "continuous_update": false,
       "description": "Group:",
       "layout": "IPY_MODEL_ba38c258744c4f45976651b122117141",
       "style": "IPY_MODEL_59ac3ada6a694d5596a40117a2f507bc"
      }
     },
     "f00e868a43794d62870986904ded3519": {
      "model_module": "@jupyter-widgets/base",
      "model_module_version": "1.2.0",
      "model_name": "LayoutModel",
      "state": {
       "grid_area": "dircontent",
       "width": "auto"
      }
     },
     "f0b2b41eff2d4ef490838b188ea0b776": {
      "model_module": "@jupyter-widgets/base",
      "model_module_version": "1.2.0",
      "model_name": "LayoutModel",
      "state": {
       "display": "none",
       "width": "auto"
      }
     },
     "f0d636a9ee6d4cc3be5dc4f623d2b7a6": {
      "model_module": "@jupyter-widgets/controls",
      "model_module_version": "1.5.0",
      "model_name": "TextModel",
      "state": {
       "layout": "IPY_MODEL_9f3f1ac63d724b6498a5b46fb220f0c0",
       "placeholder": "output filename",
       "style": "IPY_MODEL_96a69592b32543b78e932b31fd63db8c",
       "value": "FlinFlon.geoh5"
      }
     },
     "f0da9c94a55f4c6487f8d04b9e40517b": {
      "model_module": "@jupyter-widgets/controls",
      "model_module_version": "1.5.0",
      "model_name": "ToggleButtonModel",
      "state": {
       "layout": "IPY_MODEL_72e5375bb6074414a007f68c4666a94f",
       "style": "IPY_MODEL_6e9715fbf97b4c1f9d0920f7b591e680"
      }
     },
     "f1bdeadf9c964a879a065c6ccef91f6f": {
      "model_module": "@jupyter-widgets/base",
      "model_module_version": "1.2.0",
      "model_name": "LayoutModel",
      "state": {}
     },
     "f224705a2bc24ebea42f4a90e1d0dc0c": {
      "model_module": "@jupyter-widgets/controls",
      "model_module_version": "1.5.0",
      "model_name": "DescriptionStyleModel",
      "state": {
       "description_width": "initial"
      }
     },
     "f280b831049e45169f0fa362c51fc7ef": {
      "model_module": "@jupyter-widgets/base",
      "model_module_version": "1.2.0",
      "model_name": "LayoutModel",
      "state": {}
     },
     "f3ea9627b0cc4678baa78ecc4eab5799": {
      "model_module": "@jupyter-widgets/controls",
      "model_module_version": "1.5.0",
      "model_name": "VBoxModel",
      "state": {
       "children": [
        "IPY_MODEL_4921c003808748509290744a542dc955",
        "IPY_MODEL_60ea1a09cd4a489881754638744e073a",
        "IPY_MODEL_a6200443af8043639f276afdf657360f"
       ],
       "layout": "IPY_MODEL_cba17293f1454cb681ddf54a81cac577"
      }
     },
     "f3ebf230f5b14cf7bc57401b27c5ed18": {
      "model_module": "@jupyter-widgets/controls",
      "model_module_version": "1.5.0",
      "model_name": "DescriptionStyleModel",
      "state": {
       "description_width": ""
      }
     },
     "f443b7a68a6b474fa1be790e963c145f": {
      "model_module": "@jupyter-widgets/controls",
      "model_module_version": "1.5.0",
      "model_name": "LabelModel",
      "state": {
       "layout": "IPY_MODEL_78463de9d93f4653bdfdc29a9937e617",
       "style": "IPY_MODEL_dd3ff830dddd4cc0b5fc4c776de77116",
       "value": "Workspace"
      }
     },
     "f463d4839a7442148f5d1f0045ccf59b": {
      "model_module": "@jupyter-widgets/controls",
      "model_module_version": "1.5.0",
      "model_name": "DescriptionStyleModel",
      "state": {
       "description_width": ""
      }
     },
     "f4b2d9b37d684ca98c7eefe682fc5632": {
      "model_module": "@jupyter-widgets/controls",
      "model_module_version": "1.5.0",
      "model_name": "ButtonStyleModel",
      "state": {}
     },
     "f4f67178a8a4499585408de1ec3a35c0": {
      "model_module": "@jupyter-widgets/controls",
      "model_module_version": "1.5.0",
      "model_name": "DescriptionStyleModel",
      "state": {
       "description_width": ""
      }
     },
     "f5363637a4e549e4912d50e20791e437": {
      "model_module": "@jupyter-widgets/controls",
      "model_module_version": "1.5.0",
      "model_name": "CheckboxModel",
      "state": {
       "description": "Geoscience ANALYST Pro - Live link",
       "disabled": false,
       "indent": false,
       "layout": "IPY_MODEL_ad1780e200d0480fa5dcb78fd3738d75",
       "style": "IPY_MODEL_767aeb8b2dc94311b621039a0af02a99",
       "value": false
      }
     },
     "f615003ac3fb4583a307b32e7183ebed": {
      "model_module": "@jupyter-widgets/controls",
      "model_module_version": "1.5.0",
      "model_name": "DescriptionStyleModel",
      "state": {
       "description_width": ""
      }
     },
     "f6b3d5d49cf54760ae627e9e18dc76f3": {
      "model_module": "@jupyter-widgets/controls",
      "model_module_version": "1.5.0",
      "model_name": "TextModel",
      "state": {
       "continuous_update": false,
       "description": "Group:",
       "layout": "IPY_MODEL_437959717c7848c199cb597e4c1b3e3e",
       "style": "IPY_MODEL_ee382fe52d4a4540a841280e8196ef5c"
      }
     },
     "f6e7c556428042cda088c602e7b3d0c8": {
      "model_module": "@jupyter-widgets/controls",
      "model_module_version": "1.5.0",
      "model_name": "DescriptionStyleModel",
      "state": {
       "description_width": ""
      }
     },
     "f84b1804052246a1bc4f1c48040b1fcf": {
      "model_module": "@jupyter-widgets/controls",
      "model_module_version": "1.5.0",
      "model_name": "SelectModel",
      "state": {
       "_options_labels": [
        "📁 ..",
        "📁 SimPEG_PFInversion",
        "📁 Temp",
        "📁 uijson",
        "FlinFlon.geoh5",
        "FlinFlon_dcip.geoh5",
        "FlinFlon_natural_sources.geoh5",
        "MtDore_TMI.geoh5",
        "VectorInversion.geoh5",
        "tem.geoh5",
        "test_forward.ui.geoh5",
        "test_forward.ui.json"
       ],
       "index": 4,
       "layout": "IPY_MODEL_5a0f0c974cc248ac886087da67941d2f",
       "rows": 8,
       "style": "IPY_MODEL_e01a5dc9f6be4022af05abcaebe603a0"
      }
     },
     "f86ce0f969af4b2e94784bef8466a326": {
      "model_module": "@jupyter-widgets/controls",
      "model_module_version": "1.5.0",
      "model_name": "DescriptionStyleModel",
      "state": {
       "description_width": ""
      }
     },
     "f8899f178f084be8aeac2bbb82e2f4e2": {
      "model_module": "@jupyter-widgets/controls",
      "model_module_version": "1.5.0",
      "model_name": "DescriptionStyleModel",
      "state": {
       "description_width": "initial"
      }
     },
     "f892f4d0224743f8899697b0002a9b89": {
      "model_module": "@jupyter-widgets/controls",
      "model_module_version": "1.5.0",
      "model_name": "ButtonModel",
      "state": {
       "description": "Cancel",
       "layout": "IPY_MODEL_cf96e7b1afb34ebea9aac762c9014d26",
       "style": "IPY_MODEL_cb9c5d8ba887433aae5aa43553ae13b3"
      }
     },
     "f98f933924f4430099a6f5ec87629236": {
      "model_module": "@jupyter-widgets/base",
      "model_module_version": "1.2.0",
      "model_name": "LayoutModel",
      "state": {
       "width": "75%"
      }
     },
     "f997d015d486456287dc15e00dbb5fdd": {
      "model_module": "@jupyter-widgets/base",
      "model_module_version": "1.2.0",
      "model_name": "LayoutModel",
      "state": {}
     },
     "f9b342736fcb4dfdaf5fd5bdb87a6950": {
      "model_module": "@jupyter-widgets/controls",
      "model_module_version": "1.5.0",
      "model_name": "DescriptionStyleModel",
      "state": {
       "description_width": ""
      }
     },
     "fa2315eeba3d4ed2a14306d675f99fde": {
      "model_module": "@jupyter-widgets/controls",
      "model_module_version": "1.5.0",
      "model_name": "ButtonModel",
      "state": {
       "description": "Create copy:",
       "layout": "IPY_MODEL_d342c32b359840af8488a32f49b3a4c5",
       "style": "IPY_MODEL_0f6fc082abb145e5bff15b32c5057a3e"
      }
     },
     "fa2ec05131984c29a30a0270759caaf6": {
      "model_module": "@jupyter-widgets/controls",
      "model_module_version": "1.5.0",
      "model_name": "VBoxModel",
      "state": {
       "children": [
        "IPY_MODEL_0ed9dd8d825843df84a213b2723bbd03",
        "IPY_MODEL_ca41cd3ffab84b3cb8173ae727578a2c"
       ],
       "layout": "IPY_MODEL_0c069f01572b45f0bdee4aff54542d5f"
      }
     },
     "fa42f6591c5f486f8a61de53adcd041c": {
      "model_module": "@jupyter-widgets/base",
      "model_module_version": "1.2.0",
      "model_name": "LayoutModel",
      "state": {}
     },
     "fa8d79aca46341fa86cdac405bfba79c": {
      "model_module": "@jupyter-widgets/base",
      "model_module_version": "1.2.0",
      "model_name": "LayoutModel",
      "state": {
       "width": "auto"
      }
     },
     "fae0737f3a0a4c2d8c8f86cc383d6e49": {
      "model_module": "@jupyter-widgets/controls",
      "model_module_version": "1.5.0",
      "model_name": "ButtonModel",
      "state": {
       "button_style": "danger",
       "description": "Compute",
       "icon": "check",
       "layout": "IPY_MODEL_6ba10959f7894a6d9a23b0a0b5f50789",
       "style": "IPY_MODEL_dad61588076d4c15894364959d4fa840",
       "tooltip": "Run computation"
      }
     },
     "faf8537481fd411a810526f35a96db52": {
      "model_module": "@jupyter-widgets/base",
      "model_module_version": "1.2.0",
      "model_name": "LayoutModel",
      "state": {
       "margin": "0 0 0 1em"
      }
     },
     "fb0c5be288674cae87f2cdbfa5fe2cee": {
      "model_module": "@jupyter-widgets/controls",
      "model_module_version": "1.5.0",
      "model_name": "DescriptionStyleModel",
      "state": {
       "description_width": ""
      }
     },
     "fb320a97bd064d089ae92f13bad231f7": {
      "model_module": "@jupyter-widgets/base",
      "model_module_version": "1.2.0",
      "model_name": "LayoutModel",
      "state": {}
     },
     "fc2bee6f9ce246c7a059feddfb4cb71c": {
      "model_module": "@jupyter-widgets/base",
      "model_module_version": "1.2.0",
      "model_name": "LayoutModel",
      "state": {
       "width": "100%"
      }
     },
     "fc5816358750420790655c5961b1d49a": {
      "model_module": "@jupyter-widgets/controls",
      "model_module_version": "1.5.0",
      "model_name": "CheckboxModel",
      "state": {
       "description": "Geoscience ANALYST Pro - Live link",
       "disabled": false,
       "indent": false,
       "layout": "IPY_MODEL_f1bdeadf9c964a879a065c6ccef91f6f",
       "style": "IPY_MODEL_a84de3f20cf24e659037f3298445bdbb",
       "value": false
      }
     },
     "fcb908e96d49465fa4dcd28393726869": {
      "model_module": "@jupyter-widgets/controls",
      "model_module_version": "1.5.0",
      "model_name": "ButtonModel",
      "state": {
       "description": "Create copy:",
       "layout": "IPY_MODEL_41b0411c5d2d4d9cb2a4c65e7a9fb3b5",
       "style": "IPY_MODEL_a03b42d8492e4030a47c04b333f99ddb"
      }
     },
     "fcda5fb1fcae44acad903ac662f7cdf2": {
      "model_module": "@jupyter-widgets/controls",
      "model_module_version": "1.5.0",
      "model_name": "ButtonStyleModel",
      "state": {}
     },
     "fd13f5b3e32a447eb46372a1259d606a": {
      "model_module": "@jupyter-widgets/controls",
      "model_module_version": "1.5.0",
      "model_name": "LabelModel",
      "state": {
       "layout": "IPY_MODEL_a37c891d78304e1dab9f25d24ae1d600",
       "style": "IPY_MODEL_0ebf8d4530444927971c341a5e105b9a",
       "value": "Monitoring folder"
      }
     },
     "fd2336634fd04ff2b2a73c83bb8fb47a": {
      "model_module": "@jupyter-widgets/controls",
      "model_module_version": "1.5.0",
      "model_name": "ButtonStyleModel",
      "state": {}
     },
     "fd2ab74e8a7c40289d49e6d401329bfe": {
      "model_module": "@jupyter-widgets/controls",
      "model_module_version": "1.5.0",
      "model_name": "ButtonModel",
      "state": {
       "description": "Cancel",
       "layout": "IPY_MODEL_baeafda038124a98a1586a3356f821d0",
       "style": "IPY_MODEL_785ae4dedb0e4ed5b050c6fef3514502"
      }
     },
     "fd34562ee13c45469a71b607b3c3bd43": {
      "model_module": "@jupyter-widgets/controls",
      "model_module_version": "1.5.0",
      "model_name": "ButtonStyleModel",
      "state": {}
     },
     "fd49959d39cf4835a779bc9bcfb7d55b": {
      "model_module": "@jupyter-widgets/controls",
      "model_module_version": "1.5.0",
      "model_name": "HBoxModel",
      "state": {
       "children": [
        "IPY_MODEL_2b113ad4bd02424498eb4072f41a55c5",
        "IPY_MODEL_877c34ae5e9d42308b8b75936e5fbbd2",
        "IPY_MODEL_a661f1e9ce584b2eae48082c4f237785"
       ],
       "layout": "IPY_MODEL_c7f85ac6f1f943c18b2ba7877a1f73a9"
      }
     },
     "fd7beae794a6456796d9ce7dc3b8a07f": {
      "model_module": "@jupyter-widgets/controls",
      "model_module_version": "1.5.0",
      "model_name": "TextModel",
      "state": {
       "description": "Name: ",
       "layout": "IPY_MODEL_cbc5d6a048b048bab0e583da29fe108d",
       "style": "IPY_MODEL_891d60ce666c4eadb2011ee7014051d0"
      }
     },
     "fd80e4a222f94e6a9ca8e32e8ee5a385": {
      "model_module": "@jupyter-widgets/base",
      "model_module_version": "1.2.0",
      "model_name": "LayoutModel",
      "state": {}
     },
     "fea64fc00aa04e789f0c92ed0743f582": {
      "model_module": "@jupyter-widgets/controls",
      "model_module_version": "1.5.0",
      "model_name": "HBoxModel",
      "state": {
       "children": [
        "IPY_MODEL_239c5030c20040cfa6572e0b2cb6cf97",
        "IPY_MODEL_4cc9fa256b2e49a69f85236033d58e2d"
       ],
       "layout": "IPY_MODEL_edbf7852c0db483da68f99fd70853634"
      }
     },
     "ff18fdd196de4496bf31324cb4f9eade": {
      "model_module": "@jupyter-widgets/controls",
      "model_module_version": "1.5.0",
      "model_name": "DescriptionStyleModel",
      "state": {
       "description_width": ""
      }
     },
     "ff3c9ec7d3a84252a09f39c72c6a96e8": {
      "model_module": "@jupyter-widgets/controls",
      "model_module_version": "1.5.0",
      "model_name": "DescriptionStyleModel",
      "state": {
       "description_width": "initial"
      }
     },
     "ff64ab76a13d4541933c9ebbc3cc29f2": {
      "model_module": "@jupyter-widgets/base",
      "model_module_version": "1.2.0",
      "model_name": "LayoutModel",
      "state": {}
     },
     "ff74c80646bd45498f7d4eec2e27890b": {
      "model_module": "@jupyter-widgets/controls",
      "model_module_version": "1.5.0",
      "model_name": "VBoxModel",
      "state": {
       "children": [
        "IPY_MODEL_fc5816358750420790655c5961b1d49a"
       ],
       "layout": "IPY_MODEL_034f5d59d27f4c81ba0282b818642842"
      }
     },
     "ffaea2f9e31449259dcbecf01d9621af": {
      "model_module": "@jupyter-widgets/controls",
      "model_module_version": "1.5.0",
      "model_name": "VBoxModel",
      "state": {
       "children": [
        "IPY_MODEL_6f75d8be0c3942a8aa7e2ed75f9b6f7f",
        "IPY_MODEL_8189d8e7c48e4d9482a189fef12e64a6"
       ],
       "layout": "IPY_MODEL_bae0000afe06410f9699b6c3da8bd797"
      }
     }
    },
    "version_major": 2,
    "version_minor": 0
   }
  }
 },
 "nbformat": 4,
 "nbformat_minor": 5
}

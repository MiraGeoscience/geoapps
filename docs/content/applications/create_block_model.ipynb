version https://git-lfs.github.com/spec/v1
oid sha256:610a7bdaeb799caa53573c20add985a1daed8896afc0bddf8e2ef7063ad17150
size 327478

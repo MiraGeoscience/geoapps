version https://git-lfs.github.com/spec/v1
oid sha256:e6270e19707260724ffd69b4004da349e18a52d977ffb5aa40b30521526e8d0a
size 5329907

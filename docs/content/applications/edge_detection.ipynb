{
 "cells": [
  {
   "cell_type": "markdown",
   "id": "quick-depression",
   "metadata": {},
   "source": [
    "# Edge Detection\n",
    "\n",
    "With this application, users can create lines along edges (lineaments) from gridded data in a\n",
    "semi-automated fashion. The application uses machine vision algorithms from the [Scikit-Image](https://scikit-image.org/) open-source package.\n",
    "\n",
    "- Currently available for Grid2D objects.\n",
    "- Edges can be exported to [Geoscience ANALYST](https://mirageoscience.com/mining-industry-software/geoscience-analyst/) for viewing and editing.\n",
    "- See the [Methodology](#Methodology) section for algorithmic details\n",
    "\n",
    "[Video tutorial available on Youtube](https://youtu.be/Lpn3xA7xlBs)\n",
    "\n",
    "  <img align=\"right\" width=\"50%\" src=\"./images/edge_detection_app.png\">\n",
    "\n",
    "\n",
    "New user? Visit the [Getting Started](../installation.rst) page."
   ]
  },
  {
   "cell_type": "markdown",
   "id": "instant-providence",
   "metadata": {},
   "source": [
    "## Application\n",
    "The following sections provide details on the different parameters controlling the application. Interactive widgets shown below are for demonstration purposes only."
   ]
  },
  {
   "cell_type": "code",
   "execution_count": 1,
   "id": "grand-monkey",
   "metadata": {
    "scrolled": false
   },
   "outputs": [
    {
     "data": {
      "application/vnd.jupyter.widget-view+json": {
       "model_id": "5ccd2c6ab1fb4a8ab0798bd558a7b635",
       "version_major": 2,
       "version_minor": 0
      },
      "text/plain": [
       "VBox(children=(VBox(children=(Label(value='Workspace', style=DescriptionStyle(description_width='initial')), H…"
      ]
     },
     "metadata": {},
     "output_type": "display_data"
    }
   ],
   "source": [
    "from geoapps.processing import EdgeDetectionApp\n",
    "\n",
    "app = EdgeDetectionApp(h5file=r\"../../../assets/FlinFlon.geoh5\")\n",
    "app.main"
   ]
  },
  {
   "cell_type": "markdown",
   "id": "bibliographic-nitrogen",
   "metadata": {},
   "source": [
    "## Project Selection\n",
    "\n",
    "Select and connect to an existing **geoh5** project file containing data. "
   ]
  },
  {
   "cell_type": "code",
   "execution_count": 2,
   "id": "vertical-integrity",
   "metadata": {
    "scrolled": true
   },
   "outputs": [
    {
     "data": {
      "application/vnd.jupyter.widget-view+json": {
       "model_id": "0d074432965547d3b16531d592055397",
       "version_major": 2,
       "version_minor": 0
      },
      "text/plain": [
       "VBox(children=(Label(value='Workspace', style=DescriptionStyle(description_width='initial')), HBox(children=(F…"
      ]
     },
     "metadata": {},
     "output_type": "display_data"
    }
   ],
   "source": [
    "app.project_panel"
   ]
  },
  {
   "cell_type": "markdown",
   "id": "faced-junior",
   "metadata": {},
   "source": [
    "See the [Project Panel](base_application.ipynb#Project-Panel) page for more details."
   ]
  },
  {
   "cell_type": "markdown",
   "id": "hungry-shape",
   "metadata": {},
   "source": [
    "## Input Data\n",
    "\n",
    "### Object and Data Selection\n",
    "\n",
    "List of `Grid2D` objects available in the target `geoh5` project. "
   ]
  },
  {
   "cell_type": "code",
   "execution_count": 3,
   "id": "unknown-telephone",
   "metadata": {
    "scrolled": true
   },
   "outputs": [
    {
     "data": {
      "application/vnd.jupyter.widget-view+json": {
       "model_id": "2d022ebcab2a492f883307803df4c1fd",
       "version_major": 2,
       "version_minor": 0
      },
      "text/plain": [
       "VBox(children=(Dropdown(description='Object:', index=2, options=(['', None], ['Gravity_Magnetics_drape60mEPSG_…"
      ]
     },
     "metadata": {},
     "output_type": "display_data"
    }
   ],
   "source": [
    "app.data_panel"
   ]
  },
  {
   "cell_type": "markdown",
   "id": "crude-profit",
   "metadata": {},
   "source": [
    "### Window selection\n",
    "\n",
    "Select a subset of the input `Grid2D`."
   ]
  },
  {
   "cell_type": "code",
   "execution_count": 4,
   "id": "marked-thong",
   "metadata": {},
   "outputs": [
    {
     "data": {
      "application/vnd.jupyter.widget-view+json": {
       "model_id": "359afc9ca5c44b6691e0460bcec1f31b",
       "version_major": 2,
       "version_minor": 0
      },
      "text/plain": [
       "VBox(children=(VBox(children=(FloatText(value=50.0, description='Grid Resolution (m)', style=DescriptionStyle(…"
      ]
     },
     "metadata": {},
     "output_type": "display_data"
    }
   ],
   "source": [
    "app.window_selection"
   ]
  },
  {
   "cell_type": "markdown",
   "id": "latest-governor",
   "metadata": {},
   "source": [
    "See the [Map View Selection](view_selection.ipynb#Map-View-Selection) page for more details."
   ]
  },
  {
   "cell_type": "markdown",
   "id": "vocational-subscriber",
   "metadata": {},
   "source": [
    "## Canny Edge Parameters\n",
    "\n",
    "Parameters controling the [Scikit-Image.feature.Canny](https://scikit-image.org/docs/dev/auto_examples/edges/plot_canny.html#sphx-glr-auto-examples-edges-plot-canny-py) edge detection routine."
   ]
  },
  {
   "cell_type": "markdown",
   "id": "respected-linux",
   "metadata": {},
   "source": [
    "### Sigma\n",
    "\n",
    "Standard deviation of the Gaussian filter used in the Canny algorithm."
   ]
  },
  {
   "cell_type": "code",
   "execution_count": 5,
   "id": "equipped-correction",
   "metadata": {},
   "outputs": [
    {
     "data": {
      "application/vnd.jupyter.widget-view+json": {
       "model_id": "3dc7984e39b7445285ccf3342aca08db",
       "version_major": 2,
       "version_minor": 0
      },
      "text/plain": [
       "FloatSlider(value=0.5, continuous_update=False, description='Sigma', max=10.0, style=SliderStyle(description_w…"
      ]
     },
     "metadata": {},
     "output_type": "display_data"
    }
   ],
   "source": [
    "app.sigma"
   ]
  },
  {
   "cell_type": "markdown",
   "id": "indirect-fossil",
   "metadata": {},
   "source": [
    "## Hough Line Parameters\n",
    "\n",
    "Parameters controling the [Scikit-Image.transform.probabilistic_hough_line](https://scikit-image.org/docs/dev/api/skimage.transform.html#probabilistic-hough-line) routine."
   ]
  },
  {
   "cell_type": "markdown",
   "id": "ordered-eagle",
   "metadata": {},
   "source": [
    "### Threshold\n",
    "\n",
    "Detection threshold"
   ]
  },
  {
   "cell_type": "code",
   "execution_count": 6,
   "id": "external-sheriff",
   "metadata": {},
   "outputs": [
    {
     "data": {
      "application/vnd.jupyter.widget-view+json": {
       "model_id": "0b95678e4dc746ffbc51b98644e73375",
       "version_major": 2,
       "version_minor": 0
      },
      "text/plain": [
       "IntSlider(value=1, continuous_update=False, description='Threshold', min=1)"
      ]
     },
     "metadata": {},
     "output_type": "display_data"
    }
   ],
   "source": [
    "app.threshold"
   ]
  },
  {
   "cell_type": "markdown",
   "id": "temporal-release",
   "metadata": {},
   "source": [
    "### Line Length\n",
    "\n",
    "Filter for the minimum length (pixels) of detected lines."
   ]
  },
  {
   "cell_type": "code",
   "execution_count": 7,
   "id": "executive-branch",
   "metadata": {},
   "outputs": [
    {
     "data": {
      "application/vnd.jupyter.widget-view+json": {
       "model_id": "863901cd806c4450873f66a59ee05dd3",
       "version_major": 2,
       "version_minor": 0
      },
      "text/plain": [
       "IntSlider(value=1, continuous_update=False, description='Line Length', min=1)"
      ]
     },
     "metadata": {},
     "output_type": "display_data"
    }
   ],
   "source": [
    "app.line_length"
   ]
  },
  {
   "cell_type": "markdown",
   "id": "legal-antique",
   "metadata": {},
   "source": [
    "### Line Gap\n",
    "\n",
    "Maximum gap between pixels to still form a line."
   ]
  },
  {
   "cell_type": "code",
   "execution_count": 8,
   "id": "favorite-tonight",
   "metadata": {},
   "outputs": [
    {
     "data": {
      "application/vnd.jupyter.widget-view+json": {
       "model_id": "e34b07d4fff5489ba1ed0351b4034bc4",
       "version_major": 2,
       "version_minor": 0
      },
      "text/plain": [
       "IntSlider(value=1, continuous_update=False, description='Line Gap', min=1)"
      ]
     },
     "metadata": {},
     "output_type": "display_data"
    }
   ],
   "source": [
    "app.line_gap"
   ]
  },
  {
   "cell_type": "markdown",
   "id": "geographic-rings",
   "metadata": {},
   "source": [
    "## Window size\n",
    "\n",
    "Window size (square) used for the tiling of the data (see the [Methodology](#Methodology) section)"
   ]
  },
  {
   "cell_type": "code",
   "execution_count": 9,
   "id": "urban-typing",
   "metadata": {},
   "outputs": [
    {
     "data": {
      "application/vnd.jupyter.widget-view+json": {
       "model_id": "dd13c80be1d844d0babe29250af6c254",
       "version_major": 2,
       "version_minor": 0
      },
      "text/plain": [
       "IntSlider(value=64, continuous_update=False, description='Window size', max=512, min=16)"
      ]
     },
     "metadata": {},
     "output_type": "display_data"
    }
   ],
   "source": [
    "app.window_size"
   ]
  },
  {
   "cell_type": "markdown",
   "id": "cathedral-cleaners",
   "metadata": {},
   "source": [
    "## Output Panel\n",
    "\n",
    "Trigger the computation routine and store the result."
   ]
  },
  {
   "cell_type": "code",
   "execution_count": 10,
   "id": "insured-drama",
   "metadata": {
    "scrolled": false
   },
   "outputs": [
    {
     "data": {
      "application/vnd.jupyter.widget-view+json": {
       "model_id": "5e458e6358fd44d3a427d9a21209a458",
       "version_major": 2,
       "version_minor": 0
      },
      "text/plain": [
       "VBox(children=(VBox(children=(Button(button_style='success', description='Export', icon='check', style=But…"
      ]
     },
     "metadata": {},
     "output_type": "display_data"
    }
   ],
   "source": [
    "app.output_panel"
   ]
  },
  {
   "cell_type": "markdown",
   "id": "secondary-kidney",
   "metadata": {},
   "source": [
    "See the [Output Panel](base_application.ipynb#Output-Panel) page for more details."
   ]
  },
  {
   "cell_type": "markdown",
   "id": "variable-ethnic",
   "metadata": {},
   "source": [
    "## Methodology\n",
    "\n",
    "The conversion from raster data to lines involves the following four main processing steps.\n",
    "\n",
    "<img align=\"center\" width=\"50%\" src=\"./images/edge_detection_algo.png\">\n",
    "\n",
    "1. The selected gridded data are normalized between [0, 1]\n",
    "\n",
    "2. Normalized values are processed with the [Canny](#Canny-Parameters) edge detection algorithm.\n",
    "\n",
    "3. The full grid is sub-divided into overlapping square tiles defined by the\n",
    "   [window size](#Window-size) parameter. Tiling is used to speed up computations and reduce\n",
    "   skews in the Hough line parametrization observed on grids with small aspect ratios.\n",
    "\n",
    "4. For each tile, edges are converted to a line parametric form using the [Hough Line Transform](#Hough-Line-Parameters).\n"
   ]
  },
  {
   "cell_type": "markdown",
   "id": "explicit-aquarium",
   "metadata": {},
   "source": [
    "Need help? Contact us at support@mirageoscience.com"
   ]
  },
  {
   "cell_type": "code",
   "execution_count": 11,
   "id": "centered-permit",
   "metadata": {
    "nbsphinx": "hidden"
   },
   "outputs": [],
   "source": [
    "import matplotlib.pyplot as plt\n",
    "app.figure.savefig(\"images/edge_detection_thumbnail.png\", dpi=300, bbox_inches=\"tight\")"
   ]
  }
 ],
 "metadata": {
  "kernelspec": {
   "display_name": "Python 3",
   "language": "python",
   "name": "python3"
  },
  "language_info": {
   "codemirror_mode": {
    "name": "ipython",
    "version": 3
   },
   "file_extension": ".py",
   "mimetype": "text/x-python",
   "name": "python",
   "nbconvert_exporter": "python",
   "pygments_lexer": "ipython3",
   "version": "3.9.4"
  },
  "widgets": {
   "application/vnd.jupyter.widget-state+json": {
    "state": {
     "009c7c7f9fde4e578e3383d8947aad0a": {
      "model_module": "@jupyter-widgets/controls",
      "model_module_version": "1.5.0",
      "model_name": "HBoxModel",
      "state": {
       "children": [
        "IPY_MODEL_11b1cb4bf877435cad6b21b8d3d71003",
        "IPY_MODEL_37e161de27984f63bb7eafb2670f824f",
        "IPY_MODEL_f02f85e7ee314ae2b66551501cc629cc"
       ],
       "layout": "IPY_MODEL_38261ba470c34bb882c19d965d4f74d4"
      }
     },
     "0205efc6f03c479eb5da1be6ed755709": {
      "model_module": "@jupyter-widgets/controls",
      "model_module_version": "1.5.0",
      "model_name": "SliderStyleModel",
      "state": {
       "description_width": ""
      }
     },
     "02217e8fc28c4ec782a0ce62d9c53cbc": {
      "model_module": "@jupyter-widgets/base",
      "model_module_version": "1.2.0",
      "model_name": "LayoutModel",
      "state": {}
     },
     "025795f0b07447dba346c24b7ea9271a": {
      "model_module": "@jupyter-widgets/controls",
      "model_module_version": "1.5.0",
      "model_name": "ButtonModel",
      "state": {
       "description": "Create copy:",
       "layout": "IPY_MODEL_02217e8fc28c4ec782a0ce62d9c53cbc",
       "style": "IPY_MODEL_6b8476d99396412b9dddcd4facd0019b"
      }
     },
     "027755b2e1694c0f837d659ea55f9fa7": {
      "model_module": "@jupyter-widgets/controls",
      "model_module_version": "1.5.0",
      "model_name": "SliderStyleModel",
      "state": {
       "description_width": ""
      }
     },
     "04d52ee2f14f46af971f08f0da5d9323": {
      "model_module": "@jupyter-widgets/controls",
      "model_module_version": "1.5.0",
      "model_name": "SelectModel",
      "state": {
       "_options_labels": [
        "..",
        "Temp",
        "FlinFlon.geoh5",
        "Inversion_.json",
        "MtDore_TMI.geoh5"
       ],
       "index": 2,
       "layout": "IPY_MODEL_afe763e217514bdd863a431452e0848d",
       "rows": 8,
       "style": "IPY_MODEL_e76ca0d8f7ee42adaa591b802340c19d"
      }
     },
     "04e8605b1a2c46e2a4b043cf47a0be1d": {
      "model_module": "@jupyter-widgets/base",
      "model_module_version": "1.2.0",
      "model_name": "LayoutModel",
      "state": {}
     },
     "051cfa6df59549ea9794498e7f9983d1": {
      "model_module": "@jupyter-widgets/controls",
      "model_module_version": "1.5.0",
      "model_name": "FloatSliderModel",
      "state": {
       "continuous_update": false,
       "description": "Azimuth",
       "layout": "IPY_MODEL_12cce50a9e554d60b026637a099c45c3",
       "max": 90,
       "min": -90,
       "step": 5,
       "style": "IPY_MODEL_c4237d52418641f2af88ec3ccd33499f"
      }
     },
     "0526bf2b4dcd408c9a9cf715940fd4ec": {
      "model_module": "@jupyter-widgets/controls",
      "model_module_version": "1.5.0",
      "model_name": "DescriptionStyleModel",
      "state": {
       "description_width": ""
      }
     },
     "062d9ecb66f74b1ebee5687eff5f9672": {
      "model_module": "@jupyter-widgets/controls",
      "model_module_version": "1.5.0",
      "model_name": "VBoxModel",
      "state": {
       "children": [
        "IPY_MODEL_7d840638dd8e4cb3837d7a95bcbe6696"
       ],
       "layout": "IPY_MODEL_39e69fd99c2349f58d42dbc7a8002dee"
      }
     },
     "07580d6e85784fc7b20b507f2082b40a": {
      "model_module": "@jupyter-widgets/controls",
      "model_module_version": "1.5.0",
      "model_name": "IntSliderModel",
      "state": {
       "continuous_update": false,
       "description": "Threshold",
       "layout": "IPY_MODEL_d2c85721e7c14ec5b8c772846a81e23a",
       "min": 1,
       "style": "IPY_MODEL_0ce0d5b46b1a4777ae135d14b67c0709",
       "value": 1
      }
     },
     "07d4f66c0e2b451d8957751dd9ff7cd5": {
      "model_module": "@jupyter-widgets/controls",
      "model_module_version": "1.5.0",
      "model_name": "SelectModel",
      "state": {
       "_options_labels": [
        "..",
        "SimPEG_PFInversion",
        "Temp",
        "dask-worker-space",
        "Crossplot.html",
        "FlinFlon.geoh5",
        "Gravity_Magnetics_drape60m_Airborne_Gxx.tif",
        "Gravity_Magnetics_drape60m_Airborne_Gxx_Colorbar.png",
        "Gravity_Magnetics_drape60m_Airborne_Gxx_RGB.txt",
        "Inversion_.json",
        "Inversion_2.json",
        "Inversion_L0L2.json",
        "Inversion_L1L2.json",
        "Inversion_MVI_susRef.json",
        "Inversion_MagSusc.json",
        "Inversion_MagSusc_noref.json",
        "Inversion_TMI.json",
        "Inversion_test.json",
        "MtDore.geoh5",
        "MtDore_TMI.geoh5",
        "Octree_Mesh.ui.geoh5",
        "Octree_Mesh.ui.json",
        "Octree_Mesh_2.ui.json",
        "Octree_Mesh_33.ui.json",
        "Octree_Mesh_44.ui.json",
        "Octree_Mesh_55.ui.json",
        "Octree_Mesh_done.ui.json",
        "Octree_Mesh_done2.ui.json",
        "Octree_Mesh_geochem.ui.json",
        "Octree_Mesh_max_dist.ui.json",
        "Octree_Mesh_max_dist_10m.ui.json",
        "Octree_Mesh_ore.ui.json",
        "Octree_Mesh_padded.ui.json",
        "Octree_Mesh_surf.ui.json",
        "Octree_Mesh_v2.ui.json",
        "Octree_Mesh_v3.ui.geoh5",
        "Octree_Mesh_v3.ui.json",
        "Octree_Mesh_v4.ui.geoh5",
        "Octree_Mesh_v4.ui.json",
        "Octree_Mesh_v5.ui.json",
        "Octree_Mesh_v6.ui.geoh5",
        "Octree_Mesh_v6.ui.json",
        "Octree_Mesh_v7.ui.json",
        "default_mvi.ui.geoh5",
        "default_mvi.ui.json",
        "demo.ipynb",
        "edge_tester.geoh5",
        "input.ui.json",
        "live_update_demo.ipynb",
        "live_update_demo.ipynb.zip",
        "options_tree.json",
        "project.geoh5",
        "testPoints.geoh5",
        "tester.ui.geoh5",
        "tester.ui.json"
       ],
       "index": 5,
       "layout": "IPY_MODEL_950afec46a3d4e2386eb29c6da5f6018",
       "rows": 8,
       "style": "IPY_MODEL_6362cc719775485aa18a52df01a99ae0"
      }
     },
     "090c67de29444bbaa942a1bc34b55367": {
      "model_module": "@jupyter-widgets/base",
      "model_module_version": "1.2.0",
      "model_name": "LayoutModel",
      "state": {
       "display": "none",
       "grid_area": "filename",
       "width": "auto"
      }
     },
     "0a0e75b0582842f485c4053aa19bf8fc": {
      "model_module": "@jupyter-widgets/controls",
      "model_module_version": "1.5.0",
      "model_name": "VBoxModel",
      "state": {
       "children": [
        "IPY_MODEL_f48a09d42056428fa8b80cd25adf21dd",
        "IPY_MODEL_07580d6e85784fc7b20b507f2082b40a",
        "IPY_MODEL_ed53f5933e6f4a5ab564e96c7812c68d",
        "IPY_MODEL_797fa7a396d6451188e598aa0ead395a",
        "IPY_MODEL_d622904523d041ffa4b635b162bbca12",
        "IPY_MODEL_892bb7fe45fb4d91a9c7c438d824452d",
        "IPY_MODEL_dbb24051fbb3490d8481ce2491874bc8",
        "IPY_MODEL_7be5e94ecefa4e8a92e309b595d64967"
       ],
       "layout": "IPY_MODEL_cd2927cc5e354daa9aaef0b822a1658b"
      }
     },
     "0a4f116195ac4d7783f6f3d2b9c001dc": {
      "model_module": "@jupyter-widgets/base",
      "model_module_version": "1.2.0",
      "model_name": "LayoutModel",
      "state": {}
     },
     "0aff56d9305647f1af50c5893e702ccf": {
      "model_module": "@jupyter-widgets/output",
      "model_module_version": "1.0.0",
      "model_name": "OutputModel",
      "state": {
       "layout": "IPY_MODEL_b643145fdbe74defa542bfce6702ba60",
       "outputs": [
        {
         "data": {
          "image/png": "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\n",
          "text/plain": "<Figure size 720x720 with 1 Axes>"
         },
         "metadata": {
          "needs_background": "light"
         },
         "output_type": "display_data"
        }
       ]
      }
     },
     "0b6a888f9d7d4e82ba8d3fedc3d57c83": {
      "model_module": "@jupyter-widgets/controls",
      "model_module_version": "1.5.0",
      "model_name": "FloatSliderModel",
      "state": {
       "continuous_update": false,
       "description": "Width",
       "layout": "IPY_MODEL_9bc3d1252251438692b19f561aee8752",
       "max": 8802.607126275985,
       "step": 10,
       "style": "IPY_MODEL_51fe5141d6c44044abf5d402dc02e7f3",
       "value": 4401.303563137993
      }
     },
     "0b7ad01eb27240aeba060dd5748d3f2a": {
      "model_module": "@jupyter-widgets/controls",
      "model_module_version": "1.5.0",
      "model_name": "DescriptionStyleModel",
      "state": {
       "description_width": ""
      }
     },
     "0b95678e4dc746ffbc51b98644e73375": {
      "model_module": "@jupyter-widgets/controls",
      "model_module_version": "1.5.0",
      "model_name": "IntSliderModel",
      "state": {
       "continuous_update": false,
       "description": "Threshold",
       "layout": "IPY_MODEL_5dc6c7bdac914d7280dac288f34a0c9f",
       "min": 1,
       "style": "IPY_MODEL_847c3214fc884a1ab1191f44b486a27a",
       "value": 1
      }
     },
     "0ce0d5b46b1a4777ae135d14b67c0709": {
      "model_module": "@jupyter-widgets/controls",
      "model_module_version": "1.5.0",
      "model_name": "SliderStyleModel",
      "state": {
       "description_width": ""
      }
     },
     "0ce868ce5a9e44feb6ee0e7dc839b9b3": {
      "model_module": "@jupyter-widgets/controls",
      "model_module_version": "1.5.0",
      "model_name": "SliderStyleModel",
      "state": {
       "description_width": ""
      }
     },
     "0d074432965547d3b16531d592055397": {
      "model_module": "@jupyter-widgets/controls",
      "model_module_version": "1.5.0",
      "model_name": "VBoxModel",
      "state": {
       "children": [
        "IPY_MODEL_a6ef3f21b18d4eb7a34ceced38cbd7ac",
        "IPY_MODEL_295a473479594a8eb3d654f4cd0e599a"
       ],
       "layout": "IPY_MODEL_fba9e637b1a6405cb16a0ff7ad8dfe53"
      }
     },
     "0dbf22df344f48a4a3e50279bff2c759": {
      "model_module": "@jupyter-widgets/controls",
      "model_module_version": "1.5.0",
      "model_name": "DescriptionStyleModel",
      "state": {
       "description_width": "initial"
      }
     },
     "1056b418c2884756a18bcbb396b6254c": {
      "model_module": "@jupyter-widgets/base",
      "model_module_version": "1.2.0",
      "model_name": "LayoutModel",
      "state": {}
     },
     "106b28c1b02b435e9fcec28e957e9054": {
      "model_module": "@jupyter-widgets/base",
      "model_module_version": "1.2.0",
      "model_name": "LayoutModel",
      "state": {
       "width": "auto"
      }
     },
     "11375d4cedea4e0bb20ea2a9b5933b88": {
      "model_module": "@jupyter-widgets/controls",
      "model_module_version": "1.5.0",
      "model_name": "DescriptionStyleModel",
      "state": {
       "description_width": ""
      }
     },
     "11b1cb4bf877435cad6b21b8d3d71003": {
      "model_module": "@jupyter-widgets/controls",
      "model_module_version": "1.5.0",
      "model_name": "FloatSliderModel",
      "state": {
       "continuous_update": false,
       "description": "Northing",
       "layout": "IPY_MODEL_6b8b10f3a5004f4b87ba53de7e40f679",
       "max": 6076443.652111261,
       "min": 6065091.787108775,
       "orientation": "vertical",
       "step": 10,
       "style": "IPY_MODEL_b4d2389e07ae40539b34ff1f1f64e563",
       "value": 6070767.719610019
      }
     },
     "12416fe510444c5a8b542c923d7594b9": {
      "model_module": "@jupyter-widgets/controls",
      "model_module_version": "1.5.0",
      "model_name": "CheckboxModel",
      "state": {
       "description": "Colorbar",
       "disabled": false,
       "layout": "IPY_MODEL_8a9c244138514aa5a4e0c8b04239cb53",
       "style": "IPY_MODEL_4423ad64722046de81b7efa84b5d12d5",
       "value": true
      }
     },
     "12cce50a9e554d60b026637a099c45c3": {
      "model_module": "@jupyter-widgets/base",
      "model_module_version": "1.2.0",
      "model_name": "LayoutModel",
      "state": {}
     },
     "1334b2a9acaf48a9817c3d278af52448": {
      "model_module": "@jupyter-widgets/base",
      "model_module_version": "1.2.0",
      "model_name": "LayoutModel",
      "state": {}
     },
     "13ca4d05df554f678aa4e0e58098349f": {
      "model_module": "@jupyter-widgets/base",
      "model_module_version": "1.2.0",
      "model_name": "LayoutModel",
      "state": {}
     },
     "13dbc1cf50474da8af25b6cac6a2a913": {
      "model_module": "@jupyter-widgets/base",
      "model_module_version": "1.2.0",
      "model_name": "LayoutModel",
      "state": {}
     },
     "14b44906792c4d48b057512b8825d7d3": {
      "model_module": "@jupyter-widgets/base",
      "model_module_version": "1.2.0",
      "model_name": "LayoutModel",
      "state": {
       "width": "auto"
      }
     },
     "15fbed8e97d94590ba1696aee8e41bb0": {
      "model_module": "@jupyter-widgets/controls",
      "model_module_version": "1.5.0",
      "model_name": "DescriptionStyleModel",
      "state": {
       "description_width": ""
      }
     },
     "16ba8dd5393c4b4abcf305f22b51e9d3": {
      "model_module": "@jupyter-widgets/base",
      "model_module_version": "1.2.0",
      "model_name": "LayoutModel",
      "state": {}
     },
     "1746e83d23264287b1b303b83ffda99f": {
      "model_module": "@jupyter-widgets/base",
      "model_module_version": "1.2.0",
      "model_name": "LayoutModel",
      "state": {}
     },
     "174a96227d2d470f9d821413e8fa65e7": {
      "model_module": "@jupyter-widgets/controls",
      "model_module_version": "1.5.0",
      "model_name": "ButtonModel",
      "state": {
       "description": "Select",
       "layout": "IPY_MODEL_9ec5b15dabb84320b4ba4f8e9e55e277",
       "style": "IPY_MODEL_6b03a1930ae043fda94cd6cc8410235c"
      }
     },
     "178e3d5543ed48658e4f93756350b39f": {
      "model_module": "@jupyter-widgets/controls",
      "model_module_version": "1.5.0",
      "model_name": "VBoxModel",
      "state": {
       "children": [
        "IPY_MODEL_7f0ca6432a624d1e9e4f58c85fa9ed84",
        "IPY_MODEL_e2693a9e16494776b6e180461a78bbd3"
       ],
       "layout": "IPY_MODEL_e4b7dcd8a46246128a1203ef4db98a10"
      }
     },
     "17a9a0c5b5dc4e3daa49e925032c9dcd": {
      "model_module": "@jupyter-widgets/controls",
      "model_module_version": "1.5.0",
      "model_name": "SliderStyleModel",
      "state": {
       "description_width": ""
      }
     },
     "181b63f43d1d4c3785e900eed08afcda": {
      "model_module": "@jupyter-widgets/controls",
      "model_module_version": "1.5.0",
      "model_name": "SliderStyleModel",
      "state": {
       "description_width": ""
      }
     },
     "1981e9fe546945a8b8729b6bbaefec7b": {
      "model_module": "@jupyter-widgets/controls",
      "model_module_version": "1.5.0",
      "model_name": "ButtonStyleModel",
      "state": {}
     },
     "1a22fb1280d544c9851a431f4e9f8395": {
      "model_module": "@jupyter-widgets/controls",
      "model_module_version": "1.5.0",
      "model_name": "HTMLModel",
      "state": {
       "layout": "IPY_MODEL_59c534c33dbf4da1b2c57c1e44144eda",
       "placeholder": "",
       "style": "IPY_MODEL_a5557278af6743e0a45acf96dc5b60dd",
       "value": "<span style=\"margin-left:10px; color:black;\">No file selected</span>"
      }
     },
     "1adfa3e991c94c0197211e4fbda5280d": {
      "model_module": "@jupyter-widgets/controls",
      "model_module_version": "1.5.0",
      "model_name": "HBoxModel",
      "state": {
       "children": [
        "IPY_MODEL_41b1a74dc8ab4791b5e25642aba97a36",
        "IPY_MODEL_6457691893f54bc9be5b1e56aac7f220",
        "IPY_MODEL_b237c3d6d69d4cd2a02314fa847fa278"
       ],
       "layout": "IPY_MODEL_7f105783583e464da7c69043f04432fe"
      }
     },
     "1ae46522eb4645c18ae8077d252c1645": {
      "model_module": "@jupyter-widgets/controls",
      "model_module_version": "1.5.0",
      "model_name": "DescriptionStyleModel",
      "state": {
       "description_width": ""
      }
     },
     "1b01f41cee0c414b86adfdcbbcbe11ac": {
      "model_module": "@jupyter-widgets/base",
      "model_module_version": "1.2.0",
      "model_name": "LayoutModel",
      "state": {}
     },
     "1cf1bbd8c3464f66808a9138261116be": {
      "model_module": "@jupyter-widgets/controls",
      "model_module_version": "1.5.0",
      "model_name": "CheckboxModel",
      "state": {
       "description": "Geoscience ANALYST Pro - Live link",
       "disabled": false,
       "indent": false,
       "layout": "IPY_MODEL_13ca4d05df554f678aa4e0e58098349f",
       "style": "IPY_MODEL_c5dbac204d034957b2e76b8a684252e5",
       "value": false
      }
     },
     "1e1c61030a134b5194c789dc454fe086": {
      "model_module": "@jupyter-widgets/controls",
      "model_module_version": "1.5.0",
      "model_name": "VBoxModel",
      "state": {
       "children": [
        "IPY_MODEL_0b6a888f9d7d4e82ba8d3fedc3d57c83",
        "IPY_MODEL_f29d540351214b8bb3f7f2cc2651a835",
        "IPY_MODEL_b5c3c0ce7b67449eab9e31336b0ae9e9",
        "IPY_MODEL_44a8c594b07f4a1fb206e43e0d113c7f",
        "IPY_MODEL_a0c5bf9934654fc49f17b49e1bc8f44e"
       ],
       "layout": "IPY_MODEL_261860824d334d77acf54a8bd3ee7255"
      }
     },
     "1e3e27c10a1c4d46a7ed9a8a08141500": {
      "model_module": "@jupyter-widgets/base",
      "model_module_version": "1.2.0",
      "model_name": "LayoutModel",
      "state": {}
     },
     "1f77167c6d96488a8d0932d920ccd2be": {
      "model_module": "@jupyter-widgets/base",
      "model_module_version": "1.2.0",
      "model_name": "LayoutModel",
      "state": {}
     },
     "1f90f1a08c6543e3824043d69a764a96": {
      "model_module": "@jupyter-widgets/controls",
      "model_module_version": "1.5.0",
      "model_name": "DescriptionStyleModel",
      "state": {
       "description_width": ""
      }
     },
     "1fd70edf312949a19b2198fdb526e223": {
      "model_module": "@jupyter-widgets/controls",
      "model_module_version": "1.5.0",
      "model_name": "VBoxModel",
      "state": {
       "children": [
        "IPY_MODEL_a32dce9bbbc446f487499b5bb6019c08",
        "IPY_MODEL_45a96a87adb347b68d407cbda9deb453"
       ],
       "layout": "IPY_MODEL_c129a12db4c64fc8a9969b037a2603a5"
      }
     },
     "21592b6947eb489c8713ab3e9ce52343": {
      "model_module": "@jupyter-widgets/controls",
      "model_module_version": "1.5.0",
      "model_name": "VBoxModel",
      "state": {
       "children": [
        "IPY_MODEL_4e519a34b4664e568d44bdccd6142b7c",
        "IPY_MODEL_e80ae5dbd7fd4e8db7d6b0f868a8506f"
       ],
       "layout": "IPY_MODEL_5e3e9b1545454c6889d5740b669462a3"
      }
     },
     "22730262a6804054b8d7d247dc9a4ca0": {
      "model_module": "@jupyter-widgets/base",
      "model_module_version": "1.2.0",
      "model_name": "LayoutModel",
      "state": {}
     },
     "2273e79e849845c1bed71da8a40abca1": {
      "model_module": "@jupyter-widgets/base",
      "model_module_version": "1.2.0",
      "model_name": "LayoutModel",
      "state": {
       "grid_area": "filename",
       "width": "auto"
      }
     },
     "233a6fb7c19144ae923d8522871e0e4f": {
      "model_module": "@jupyter-widgets/base",
      "model_module_version": "1.2.0",
      "model_name": "LayoutModel",
      "state": {
       "width": "50%"
      }
     },
     "2391cccac2f24895a551b5c9b6580c5e": {
      "model_module": "@jupyter-widgets/base",
      "model_module_version": "1.2.0",
      "model_name": "LayoutModel",
      "state": {
       "display": "none",
       "grid_gap": "0px 0px",
       "grid_template_areas": "\n                    'pathlist filename'\n                    'dircontent dircontent'\n                    ",
       "grid_template_columns": "60% 40%",
       "grid_template_rows": "auto auto",
       "width": "500px"
      }
     },
     "23fca4b8c5b94ec6aa6129df1dbd6ddd": {
      "model_module": "@jupyter-widgets/controls",
      "model_module_version": "1.5.0",
      "model_name": "DescriptionStyleModel",
      "state": {
       "description_width": ""
      }
     },
     "25d0429394414e8cbdc16491cdc8bb39": {
      "model_module": "@jupyter-widgets/controls",
      "model_module_version": "1.5.0",
      "model_name": "DescriptionStyleModel",
      "state": {
       "description_width": ""
      }
     },
     "261860824d334d77acf54a8bd3ee7255": {
      "model_module": "@jupyter-widgets/base",
      "model_module_version": "1.2.0",
      "model_name": "LayoutModel",
      "state": {}
     },
     "264971b5400c4effaf07f607e3baaa55": {
      "model_module": "@jupyter-widgets/controls",
      "model_module_version": "1.5.0",
      "model_name": "ButtonModel",
      "state": {
       "description": "Select",
       "layout": "IPY_MODEL_ef174781a1d94dd29989205f77f6ba2b",
       "style": "IPY_MODEL_73988bf6358e409dab5207a154d44c85"
      }
     },
     "26671de11340441d83cd40316c685d44": {
      "model_module": "@jupyter-widgets/controls",
      "model_module_version": "1.5.0",
      "model_name": "ButtonStyleModel",
      "state": {}
     },
     "27bd0087978b4805a92f6b6abebcc97b": {
      "model_module": "@jupyter-widgets/controls",
      "model_module_version": "1.5.0",
      "model_name": "VBoxModel",
      "state": {
       "children": [
        "IPY_MODEL_fa9d910aa4bb45e9bf12453d890314a8",
        "IPY_MODEL_40d0544ae9484490bd4225fc0c8f0aa2",
        "IPY_MODEL_487f30fabce74b659b06fd2b33c85312"
       ],
       "layout": "IPY_MODEL_8012bd0212a140e78b97345b0c78886b"
      }
     },
     "295a473479594a8eb3d654f4cd0e599a": {
      "model_module": "@jupyter-widgets/controls",
      "model_module_version": "1.5.0",
      "model_name": "HBoxModel",
      "state": {
       "children": [
        "IPY_MODEL_5930e6160e604647a6544eb627d6370f",
        "IPY_MODEL_6093761814de496787509c8f310008f0"
       ],
       "layout": "IPY_MODEL_59e081d0528b4e64b42f4ded1ae333bb"
      }
     },
     "2b881c9106464ad68826ead90182fce1": {
      "model_module": "@jupyter-widgets/base",
      "model_module_version": "1.2.0",
      "model_name": "LayoutModel",
      "state": {}
     },
     "2d022ebcab2a492f883307803df4c1fd": {
      "model_module": "@jupyter-widgets/controls",
      "model_module_version": "1.5.0",
      "model_name": "VBoxModel",
      "state": {
       "children": [
        "IPY_MODEL_9dd4bba26b374a638234e74eb8d2ec4a",
        "IPY_MODEL_552b9daa3580499792262d3f99c3a518"
       ],
       "layout": "IPY_MODEL_651cfb5a78d0406cb9fc3d230cb60e7d"
      }
     },
     "2fbff242d1024e59a42d2bcf8cc62366": {
      "model_module": "@jupyter-widgets/controls",
      "model_module_version": "1.5.0",
      "model_name": "ToggleButtonModel",
      "state": {
       "description": "Zoom on selection",
       "icon": "check",
       "layout": "IPY_MODEL_b506525cd67644dea5f242d1153eac05",
       "style": "IPY_MODEL_dae905cad96d4443835dd274ba2f7873",
       "value": true
      }
     },
     "31efdc11717d4b6b8dd23c6807da2a29": {
      "model_module": "@jupyter-widgets/base",
      "model_module_version": "1.2.0",
      "model_name": "LayoutModel",
      "state": {}
     },
     "3285bef417e94bb0aed3e73079e6dc81": {
      "model_module": "@jupyter-widgets/controls",
      "model_module_version": "1.5.0",
      "model_name": "ButtonStyleModel",
      "state": {}
     },
     "331a3473b42e4f178675ab0dd784953a": {
      "model_module": "@jupyter-widgets/controls",
      "model_module_version": "1.5.0",
      "model_name": "HTMLModel",
      "state": {
       "layout": "IPY_MODEL_31efdc11717d4b6b8dd23c6807da2a29",
       "placeholder": "",
       "style": "IPY_MODEL_11375d4cedea4e0bb20ea2a9b5933b88",
       "value": "<span style=\"margin-left:10px; color:black;\">No file selected</span>"
      }
     },
     "34181a6f05c24f1880b2d63d6e27e49d": {
      "model_module": "@jupyter-widgets/controls",
      "model_module_version": "1.5.0",
      "model_name": "DropdownModel",
      "state": {
       "_options_labels": [
        "C:\\Users\\dominiquef\\Documents\\GIT\\mira\\geoapps\\assets",
        "C:\\Users\\dominiquef\\Documents\\GIT\\mira\\geoapps",
        "C:\\Users\\dominiquef\\Documents\\GIT\\mira",
        "C:\\Users\\dominiquef\\Documents\\GIT",
        "C:\\Users\\dominiquef\\Documents",
        "C:\\Users\\dominiquef",
        "C:\\Users",
        "C:\\",
        "D:\\",
        "Z:\\"
       ],
       "index": 0,
       "layout": "IPY_MODEL_39d9293644ed4ee59097fae776a4e54d",
       "style": "IPY_MODEL_e8c2ad99bfa043a3a1004a73dffed767"
      }
     },
     "35343ccd49824218a7122494c6f24c53": {
      "model_module": "@jupyter-widgets/base",
      "model_module_version": "1.2.0",
      "model_name": "LayoutModel",
      "state": {}
     },
     "359afc9ca5c44b6691e0460bcec1f31b": {
      "model_module": "@jupyter-widgets/controls",
      "model_module_version": "1.5.0",
      "model_name": "VBoxModel",
      "state": {
       "children": [
        "IPY_MODEL_bdc3964a6f95424fbe355603195dfcbc",
        "IPY_MODEL_97baed3d0199424094760f0c28b01fc8"
       ],
       "layout": "IPY_MODEL_2b881c9106464ad68826ead90182fce1"
      }
     },
     "36201ada77744719a506353bd0a51bbc": {
      "model_module": "@jupyter-widgets/controls",
      "model_module_version": "1.5.0",
      "model_name": "SelectModel",
      "state": {
       "_options_labels": [
        "..",
        "dask-worker-space",
        "images"
       ],
       "index": null,
       "layout": "IPY_MODEL_5aa31bfd0d4b44db9f067555a29fbf56",
       "rows": 8,
       "style": "IPY_MODEL_23fca4b8c5b94ec6aa6129df1dbd6ddd"
      }
     },
     "363bfec0b5db452dba2eda68f6bc6450": {
      "model_module": "@jupyter-widgets/controls",
      "model_module_version": "1.5.0",
      "model_name": "VBoxModel",
      "state": {
       "children": [
        "IPY_MODEL_1cf1bbd8c3464f66808a9138261116be"
       ],
       "layout": "IPY_MODEL_8198858db83441a494313406f34dc845"
      }
     },
     "372526baf3e54087950254706b5e313b": {
      "model_module": "@jupyter-widgets/controls",
      "model_module_version": "1.5.0",
      "model_name": "DescriptionStyleModel",
      "state": {
       "description_width": ""
      }
     },
     "37e161de27984f63bb7eafb2670f824f": {
      "model_module": "@jupyter-widgets/controls",
      "model_module_version": "1.5.0",
      "model_name": "FloatSliderModel",
      "state": {
       "continuous_update": false,
       "description": "Height",
       "layout": "IPY_MODEL_fab55a34a73648f79ab383706801824c",
       "max": 11351.865002485923,
       "orientation": "vertical",
       "step": 10,
       "style": "IPY_MODEL_645a388d79c04c9ab9a027c9d2037060",
       "value": 5675.932501242962
      }
     },
     "38261ba470c34bb882c19d965d4f74d4": {
      "model_module": "@jupyter-widgets/base",
      "model_module_version": "1.2.0",
      "model_name": "LayoutModel",
      "state": {
       "align_items": "center"
      }
     },
     "388d5000276c478c93814db44cdef603": {
      "model_module": "@jupyter-widgets/base",
      "model_module_version": "1.2.0",
      "model_name": "LayoutModel",
      "state": {}
     },
     "398d75bfec9a4d8596cbfebb7618aff9": {
      "model_module": "@jupyter-widgets/controls",
      "model_module_version": "1.5.0",
      "model_name": "ToggleButtonModel",
      "state": {
       "layout": "IPY_MODEL_388d5000276c478c93814db44cdef603",
       "style": "IPY_MODEL_ace9b167e66d41098c12eb7a36b65240",
       "value": true
      }
     },
     "39d9293644ed4ee59097fae776a4e54d": {
      "model_module": "@jupyter-widgets/base",
      "model_module_version": "1.2.0",
      "model_name": "LayoutModel",
      "state": {
       "grid_area": "pathlist",
       "width": "auto"
      }
     },
     "39e69fd99c2349f58d42dbc7a8002dee": {
      "model_module": "@jupyter-widgets/base",
      "model_module_version": "1.2.0",
      "model_name": "LayoutModel",
      "state": {}
     },
     "3a56c86797444c0fac7e0035e460ed71": {
      "model_module": "@jupyter-widgets/controls",
      "model_module_version": "1.5.0",
      "model_name": "DropdownModel",
      "state": {
       "_options_labels": [
        "C:\\Users\\dominiquef\\Documents\\GIT\\mira\\mirageoscience-apps\\assets",
        "C:\\Users\\dominiquef\\Documents\\GIT\\mira\\mirageoscience-apps",
        "C:\\Users\\dominiquef\\Documents\\GIT\\mira",
        "C:\\Users\\dominiquef\\Documents\\GIT",
        "C:\\Users\\dominiquef\\Documents",
        "C:\\Users\\dominiquef",
        "C:\\Users",
        "C:\\",
        "D:\\",
        "Z:\\"
       ],
       "index": 0,
       "layout": "IPY_MODEL_a9f4ebb25c2d4e6395c66d38ca0422f1",
       "style": "IPY_MODEL_15fbed8e97d94590ba1696aee8e41bb0"
      }
     },
     "3dc7984e39b7445285ccf3342aca08db": {
      "model_module": "@jupyter-widgets/controls",
      "model_module_version": "1.5.0",
      "model_name": "FloatSliderModel",
      "state": {
       "continuous_update": false,
       "description": "Sigma",
       "layout": "IPY_MODEL_5e58c30bf3884f94a364445167e4d012",
       "max": 10,
       "step": 0.1,
       "style": "IPY_MODEL_b1fcedb1c5a24e9fa1d4cf88a13ea083",
       "value": 0.5
      }
     },
     "406945de057344649f0061134d1f4290": {
      "model_module": "@jupyter-widgets/controls",
      "model_module_version": "1.5.0",
      "model_name": "VBoxModel",
      "state": {
       "children": [
        "IPY_MODEL_c77fd1f39cdb42579897643735e72410",
        "IPY_MODEL_bf6023bcb44b40cfb1b8482255025639",
        "IPY_MODEL_8a6241c286204920b9d87641274f1fca"
       ],
       "layout": "IPY_MODEL_14b44906792c4d48b057512b8825d7d3"
      }
     },
     "40d0544ae9484490bd4225fc0c8f0aa2": {
      "model_module": "@jupyter-widgets/controls",
      "model_module_version": "1.5.0",
      "model_name": "GridBoxModel",
      "state": {
       "children": [
        "IPY_MODEL_75ce6a3d126543aba7bb70e8fd511ee4",
        "IPY_MODEL_b6bc93260a8e4734b1c606675a21e168",
        "IPY_MODEL_daa66d4589d24c28acdc0c06d4bbfa45"
       ],
       "layout": "IPY_MODEL_54291d35dcce473da02e9e3eff2d7b1d"
      }
     },
     "41b1a74dc8ab4791b5e25642aba97a36": {
      "model_module": "@jupyter-widgets/controls",
      "model_module_version": "1.5.0",
      "model_name": "ButtonModel",
      "state": {
       "description": "Change",
       "layout": "IPY_MODEL_ce0ca7e548274437aec37b32429c9ca0",
       "style": "IPY_MODEL_1981e9fe546945a8b8729b6bbaefec7b"
      }
     },
     "42112be459d74a95a47d607e9729503c": {
      "model_module": "@jupyter-widgets/base",
      "model_module_version": "1.2.0",
      "model_name": "LayoutModel",
      "state": {}
     },
     "429fd870397e4be79f58de7a0894143e": {
      "model_module": "@jupyter-widgets/base",
      "model_module_version": "1.2.0",
      "model_name": "LayoutModel",
      "state": {}
     },
     "435691dd47d74b33b596e00100e45bf3": {
      "model_module": "@jupyter-widgets/controls",
      "model_module_version": "1.5.0",
      "model_name": "ButtonStyleModel",
      "state": {}
     },
     "43af204491d045ff85695de23afc491c": {
      "model_module": "@jupyter-widgets/controls",
      "model_module_version": "1.5.0",
      "model_name": "FloatSliderModel",
      "state": {
       "continuous_update": false,
       "description": "Width",
       "layout": "IPY_MODEL_df4fee8ef4994df0871adc9e1e15c0c4",
       "max": 7335.505938563321,
       "step": 10,
       "style": "IPY_MODEL_0ce868ce5a9e44feb6ee0e7dc839b9b3",
       "value": 3667.7529692816606
      }
     },
     "4423ad64722046de81b7efa84b5d12d5": {
      "model_module": "@jupyter-widgets/controls",
      "model_module_version": "1.5.0",
      "model_name": "DescriptionStyleModel",
      "state": {
       "description_width": ""
      }
     },
     "44a2abbf5f784c459c51fdc19985b760": {
      "model_module": "@jupyter-widgets/controls",
      "model_module_version": "1.5.0",
      "model_name": "ButtonStyleModel",
      "state": {}
     },
     "44a8c594b07f4a1fb206e43e0d113c7f": {
      "model_module": "@jupyter-widgets/controls",
      "model_module_version": "1.5.0",
      "model_name": "FloatSliderModel",
      "state": {
       "continuous_update": false,
       "description": "Azimuth",
       "layout": "IPY_MODEL_04e8605b1a2c46e2a4b043cf47a0be1d",
       "max": 90,
       "min": -90,
       "step": 5,
       "style": "IPY_MODEL_a2313dbd20214669bfd13c24398b08d0"
      }
     },
     "459513feee9a45d7a9ff2022574f2423": {
      "model_module": "@jupyter-widgets/controls",
      "model_module_version": "1.5.0",
      "model_name": "DescriptionStyleModel",
      "state": {
       "description_width": "initial"
      }
     },
     "45a96a87adb347b68d407cbda9deb453": {
      "model_module": "@jupyter-widgets/controls",
      "model_module_version": "1.5.0",
      "model_name": "LabelModel",
      "state": {
       "layout": "IPY_MODEL_16ba8dd5393c4b4abcf305f22b51e9d3",
       "style": "IPY_MODEL_5a77ed191c5846e6b3886864fefc5937",
       "value": "Data Count: 5341"
      }
     },
     "47f144a095f145eca32eeefa5191fe28": {
      "model_module": "@jupyter-widgets/controls",
      "model_module_version": "1.5.0",
      "model_name": "DescriptionStyleModel",
      "state": {
       "description_width": "initial"
      }
     },
     "4824c6e9bfef4f0b9c621619b25bf22b": {
      "model_module": "@jupyter-widgets/controls",
      "model_module_version": "1.5.0",
      "model_name": "ButtonStyleModel",
      "state": {}
     },
     "48726ec441ce4cb49291a5165eb74168": {
      "model_module": "@jupyter-widgets/base",
      "model_module_version": "1.2.0",
      "model_name": "LayoutModel",
      "state": {}
     },
     "487df1c88fd242c5b1878c408b94a1ce": {
      "model_module": "@jupyter-widgets/base",
      "model_module_version": "1.2.0",
      "model_name": "LayoutModel",
      "state": {
       "width": "auto"
      }
     },
     "487f30fabce74b659b06fd2b33c85312": {
      "model_module": "@jupyter-widgets/controls",
      "model_module_version": "1.5.0",
      "model_name": "HBoxModel",
      "state": {
       "children": [
        "IPY_MODEL_264971b5400c4effaf07f607e3baaa55",
        "IPY_MODEL_5f1fc15ee17b4265b8efe3c9d45d8be0",
        "IPY_MODEL_331a3473b42e4f178675ab0dd784953a"
       ],
       "layout": "IPY_MODEL_faab92b9dd6c4845ae45f2d326b0de6f"
      }
     },
     "48ddb38958404f8891e0237236bd393f": {
      "model_module": "@jupyter-widgets/controls",
      "model_module_version": "1.5.0",
      "model_name": "DescriptionStyleModel",
      "state": {
       "description_width": "initial"
      }
     },
     "498c338fe18a4102a0dfa19acb539e94": {
      "model_module": "@jupyter-widgets/controls",
      "model_module_version": "1.5.0",
      "model_name": "DescriptionStyleModel",
      "state": {
       "description_width": "initial"
      }
     },
     "49dfe84724f7484b92a6a029fce975b7": {
      "model_module": "@jupyter-widgets/controls",
      "model_module_version": "1.5.0",
      "model_name": "ButtonStyleModel",
      "state": {}
     },
     "4a5c93d4051b4b8d93bec6cf69f021ad": {
      "model_module": "@jupyter-widgets/base",
      "model_module_version": "1.2.0",
      "model_name": "LayoutModel",
      "state": {}
     },
     "4b270cb9ff044a64b74ebc8974878b02": {
      "model_module": "@jupyter-widgets/controls",
      "model_module_version": "1.5.0",
      "model_name": "HTMLModel",
      "state": {
       "layout": "IPY_MODEL_8a7fe32d65374ed3a081dd515417967b",
       "style": "IPY_MODEL_25d0429394414e8cbdc16491cdc8bb39"
      }
     },
     "4bc997499cdb40929ae203a51664a5d8": {
      "model_module": "@jupyter-widgets/controls",
      "model_module_version": "1.5.0",
      "model_name": "FloatSliderModel",
      "state": {
       "continuous_update": false,
       "description": "Easting",
       "layout": "IPY_MODEL_1746e83d23264287b1b303b83ffda99f",
       "max": 319234.2051362576,
       "min": 311898.69919769425,
       "step": 10,
       "style": "IPY_MODEL_96ef1e26f33842ada9552cd7d0e6b56f",
       "value": 315566.45216697594
      }
     },
     "4d3f06145c0a4149b86ffa4af124131d": {
      "model_module": "@jupyter-widgets/base",
      "model_module_version": "1.2.0",
      "model_name": "LayoutModel",
      "state": {}
     },
     "4d725f614b854892ae92ea1a36d183ac": {
      "model_module": "@jupyter-widgets/controls",
      "model_module_version": "1.5.0",
      "model_name": "ButtonStyleModel",
      "state": {}
     },
     "4de28d2255eb459a9a41dd6e081dd7c4": {
      "model_module": "@jupyter-widgets/controls",
      "model_module_version": "1.5.0",
      "model_name": "DescriptionStyleModel",
      "state": {
       "description_width": ""
      }
     },
     "4df7ac33b64743df9c14d47c47e894fd": {
      "model_module": "@jupyter-widgets/base",
      "model_module_version": "1.2.0",
      "model_name": "LayoutModel",
      "state": {}
     },
     "4e519a34b4664e568d44bdccd6142b7c": {
      "model_module": "@jupyter-widgets/controls",
      "model_module_version": "1.5.0",
      "model_name": "ButtonModel",
      "state": {
       "button_style": "success",
       "description": "Export",
       "icon": "check",
       "layout": "IPY_MODEL_e9137141c1204ab0b12f366bac78f06a",
       "style": "IPY_MODEL_3285bef417e94bb0aed3e73079e6dc81",
       "tooltip": "Run computation"
      }
     },
     "506645e59b7143129aa3b95c4ffcc4ed": {
      "model_module": "@jupyter-widgets/base",
      "model_module_version": "1.2.0",
      "model_name": "LayoutModel",
      "state": {}
     },
     "514e7d96079a46108bddc4c9f765c78a": {
      "model_module": "@jupyter-widgets/controls",
      "model_module_version": "1.5.0",
      "model_name": "VBoxModel",
      "state": {
       "children": [
        "IPY_MODEL_8d97f81c291447e39d924866cf57e217",
        "IPY_MODEL_765dfa8836b8460e9ae78ccc523bf46b"
       ],
       "layout": "IPY_MODEL_429fd870397e4be79f58de7a0894143e"
      }
     },
     "51fe5141d6c44044abf5d402dc02e7f3": {
      "model_module": "@jupyter-widgets/controls",
      "model_module_version": "1.5.0",
      "model_name": "SliderStyleModel",
      "state": {
       "description_width": ""
      }
     },
     "52baef05d584464a8fbe895f8e15569c": {
      "model_module": "@jupyter-widgets/base",
      "model_module_version": "1.2.0",
      "model_name": "LayoutModel",
      "state": {
       "display": "none",
       "grid_gap": "0px 0px",
       "grid_template_areas": "\n                    'pathlist pathlist'\n                    'dircontent dircontent'\n                    ",
       "grid_template_columns": "60% 40%",
       "grid_template_rows": "auto auto",
       "width": "500px"
      }
     },
     "52c558c0da0d47af971ba8832a327d1f": {
      "model_module": "@jupyter-widgets/controls",
      "model_module_version": "1.5.0",
      "model_name": "TextModel",
      "state": {
       "layout": "IPY_MODEL_2273e79e849845c1bed71da8a40abca1",
       "placeholder": "output filename",
       "style": "IPY_MODEL_e19b6c28b18d40b28fe10f864ea1e722",
       "value": "FlinFlon.geoh5"
      }
     },
     "54291d35dcce473da02e9e3eff2d7b1d": {
      "model_module": "@jupyter-widgets/base",
      "model_module_version": "1.2.0",
      "model_name": "LayoutModel",
      "state": {
       "display": "none",
       "grid_gap": "0px 0px",
       "grid_template_areas": "\n                    'pathlist pathlist'\n                    'dircontent dircontent'\n                    ",
       "grid_template_columns": "60% 40%",
       "grid_template_rows": "auto auto",
       "width": "500px"
      }
     },
     "54fd6fb802524f60935b09f775a72128": {
      "model_module": "@jupyter-widgets/base",
      "model_module_version": "1.2.0",
      "model_name": "LayoutModel",
      "state": {
       "display": "none"
      }
     },
     "552b9daa3580499792262d3f99c3a518": {
      "model_module": "@jupyter-widgets/controls",
      "model_module_version": "1.5.0",
      "model_name": "DropdownModel",
      "state": {
       "_options_labels": [
        "",
        "--- Channels ---",
        "Airborne_Gxx",
        "Airborne_Gxy",
        "Airborne_Gxz",
        "Airborne_Gyy",
        "Airborne_Gyz",
        "Airborne_Gz",
        "Airborne_Gzz",
        "Airborne_TMI",
        "Ground_Gz",
        "Z"
       ],
       "description": "Data: ",
       "index": 2,
       "layout": "IPY_MODEL_a278761f8bad4b8b95520ece4f627757",
       "style": "IPY_MODEL_5ea4d0ff5c954de1826b186065eef8f5"
      }
     },
     "56c6845cbdf149988ed7b25d1f33371a": {
      "model_module": "@jupyter-widgets/base",
      "model_module_version": "1.2.0",
      "model_name": "LayoutModel",
      "state": {
       "display": "none",
       "grid_gap": "0px 0px",
       "grid_template_areas": "\n                    'pathlist filename'\n                    'dircontent dircontent'\n                    ",
       "grid_template_columns": "60% 40%",
       "grid_template_rows": "auto auto",
       "width": "500px"
      }
     },
     "5930e6160e604647a6544eb627d6370f": {
      "model_module": "@jupyter-widgets/controls",
      "model_module_version": "1.5.0",
      "model_name": "VBoxModel",
      "state": {
       "children": [
        "IPY_MODEL_4b270cb9ff044a64b74ebc8974878b02",
        "IPY_MODEL_5b143948e4044b0cbdbaa15775cbe984",
        "IPY_MODEL_d4f3499089b94cf6aeee6326639fc5d3"
       ],
       "layout": "IPY_MODEL_b66b06a0cd2c4311b6a0f56fea49f1a3"
      }
     },
     "59987d76cdf74952ba4d88e68f1a88e9": {
      "model_module": "@jupyter-widgets/base",
      "model_module_version": "1.2.0",
      "model_name": "LayoutModel",
      "state": {}
     },
     "59c534c33dbf4da1b2c57c1e44144eda": {
      "model_module": "@jupyter-widgets/base",
      "model_module_version": "1.2.0",
      "model_name": "LayoutModel",
      "state": {}
     },
     "59e081d0528b4e64b42f4ded1ae333bb": {
      "model_module": "@jupyter-widgets/base",
      "model_module_version": "1.2.0",
      "model_name": "LayoutModel",
      "state": {}
     },
     "5a77ed191c5846e6b3886864fefc5937": {
      "model_module": "@jupyter-widgets/controls",
      "model_module_version": "1.5.0",
      "model_name": "DescriptionStyleModel",
      "state": {
       "description_width": ""
      }
     },
     "5aa31bfd0d4b44db9f067555a29fbf56": {
      "model_module": "@jupyter-widgets/base",
      "model_module_version": "1.2.0",
      "model_name": "LayoutModel",
      "state": {
       "grid_area": "dircontent",
       "width": "auto"
      }
     },
     "5af992619b5e4f13bc8295ce2dc7aaa3": {
      "model_module": "@jupyter-widgets/controls",
      "model_module_version": "1.5.0",
      "model_name": "HTMLModel",
      "state": {
       "layout": "IPY_MODEL_13dbc1cf50474da8af25b6cac6a2a913",
       "placeholder": "",
       "style": "IPY_MODEL_ac98589e6fae45f08e1010523eae14a8",
       "value": "<span style=\"margin-left:10px; color:orange;\">C:\\Users\\dominiquef\\Documents\\GIT\\mira\\geoapps\\assets\\FlinFlon.geoh5</span>"
      }
     },
     "5b143948e4044b0cbdbaa15775cbe984": {
      "model_module": "@jupyter-widgets/controls",
      "model_module_version": "1.5.0",
      "model_name": "GridBoxModel",
      "state": {
       "children": [
        "IPY_MODEL_34181a6f05c24f1880b2d63d6e27e49d",
        "IPY_MODEL_52c558c0da0d47af971ba8832a327d1f",
        "IPY_MODEL_07d4f66c0e2b451d8957751dd9ff7cd5"
       ],
       "layout": "IPY_MODEL_56c6845cbdf149988ed7b25d1f33371a"
      }
     },
     "5b32d4483ec54ff89ce5ce86fd381339": {
      "model_module": "@jupyter-widgets/base",
      "model_module_version": "1.2.0",
      "model_name": "LayoutModel",
      "state": {
       "display": "none"
      }
     },
     "5c4f0d04bdf04ea49c44d9e2138352cf": {
      "model_module": "@jupyter-widgets/controls",
      "model_module_version": "1.5.0",
      "model_name": "ToggleButtonModel",
      "state": {
       "layout": "IPY_MODEL_6251427721d7420abe180dc419899138",
       "style": "IPY_MODEL_a4111093d6854a0b8ab23087664ec068",
       "value": true
      }
     },
     "5ccd2c6ab1fb4a8ab0798bd558a7b635": {
      "model_module": "@jupyter-widgets/controls",
      "model_module_version": "1.5.0",
      "model_name": "VBoxModel",
      "state": {
       "children": [
        "IPY_MODEL_0d074432965547d3b16531d592055397",
        "IPY_MODEL_7e105188d8ce4aff87835b699ba5f06c"
       ],
       "layout": "IPY_MODEL_1b01f41cee0c414b86adfdcbbcbe11ac"
      }
     },
     "5d0079966fe94a5fa8360274c2894b57": {
      "model_module": "@jupyter-widgets/base",
      "model_module_version": "1.2.0",
      "model_name": "LayoutModel",
      "state": {}
     },
     "5dc6c7bdac914d7280dac288f34a0c9f": {
      "model_module": "@jupyter-widgets/base",
      "model_module_version": "1.2.0",
      "model_name": "LayoutModel",
      "state": {}
     },
     "5e3e9b1545454c6889d5740b669462a3": {
      "model_module": "@jupyter-widgets/base",
      "model_module_version": "1.2.0",
      "model_name": "LayoutModel",
      "state": {}
     },
     "5e458e6358fd44d3a427d9a21209a458": {
      "model_module": "@jupyter-widgets/controls",
      "model_module_version": "1.5.0",
      "model_name": "VBoxModel",
      "state": {
       "children": [
        "IPY_MODEL_514e7d96079a46108bddc4c9f765c78a",
        "IPY_MODEL_363bfec0b5db452dba2eda68f6bc6450"
       ],
       "layout": "IPY_MODEL_db224cd9c69649e8ac5c36bcff07963d"
      }
     },
     "5e58c30bf3884f94a364445167e4d012": {
      "model_module": "@jupyter-widgets/base",
      "model_module_version": "1.2.0",
      "model_name": "LayoutModel",
      "state": {}
     },
     "5e6a1b0d08b9414983ada8b3c3b5e36b": {
      "model_module": "@jupyter-widgets/controls",
      "model_module_version": "1.5.0",
      "model_name": "DescriptionStyleModel",
      "state": {
       "description_width": ""
      }
     },
     "5ea4d0ff5c954de1826b186065eef8f5": {
      "model_module": "@jupyter-widgets/controls",
      "model_module_version": "1.5.0",
      "model_name": "DescriptionStyleModel",
      "state": {
       "description_width": "initial"
      }
     },
     "5ec9682dfd2c4a6b9e63d0bea3973341": {
      "model_module": "@jupyter-widgets/controls",
      "model_module_version": "1.5.0",
      "model_name": "DescriptionStyleModel",
      "state": {
       "description_width": "initial"
      }
     },
     "5f1fc15ee17b4265b8efe3c9d45d8be0": {
      "model_module": "@jupyter-widgets/controls",
      "model_module_version": "1.5.0",
      "model_name": "ButtonModel",
      "state": {
       "description": "Cancel",
       "layout": "IPY_MODEL_902c6e9b53e44080bff7585855a4f50c",
       "style": "IPY_MODEL_d7266e08a27b4e2a826afeb8ded739e8"
      }
     },
     "6093761814de496787509c8f310008f0": {
      "model_module": "@jupyter-widgets/controls",
      "model_module_version": "1.5.0",
      "model_name": "ButtonModel",
      "state": {
       "description": "Create copy:",
       "layout": "IPY_MODEL_a2aada0d6147443eadcb3cb701be5cd9",
       "style": "IPY_MODEL_435691dd47d74b33b596e00100e45bf3"
      }
     },
     "6251427721d7420abe180dc419899138": {
      "model_module": "@jupyter-widgets/base",
      "model_module_version": "1.2.0",
      "model_name": "LayoutModel",
      "state": {}
     },
     "62f6018f95df48cc81a85f4d0cac696e": {
      "model_module": "@jupyter-widgets/controls",
      "model_module_version": "1.5.0",
      "model_name": "DescriptionStyleModel",
      "state": {
       "description_width": ""
      }
     },
     "6362cc719775485aa18a52df01a99ae0": {
      "model_module": "@jupyter-widgets/controls",
      "model_module_version": "1.5.0",
      "model_name": "DescriptionStyleModel",
      "state": {
       "description_width": ""
      }
     },
     "63c9b2cfdc794412944c859fc619754a": {
      "model_module": "@jupyter-widgets/controls",
      "model_module_version": "1.5.0",
      "model_name": "TextModel",
      "state": {
       "description": "Save as:",
       "layout": "IPY_MODEL_22730262a6804054b8d7d247dc9a4ca0",
       "style": "IPY_MODEL_62f6018f95df48cc81a85f4d0cac696e",
       "value": "Airborne_Gxx"
      }
     },
     "642a8e54714f472f88cbc0c838afcf20": {
      "model_module": "@jupyter-widgets/controls",
      "model_module_version": "1.5.0",
      "model_name": "DescriptionStyleModel",
      "state": {
       "description_width": ""
      }
     },
     "6457691893f54bc9be5b1e56aac7f220": {
      "model_module": "@jupyter-widgets/controls",
      "model_module_version": "1.5.0",
      "model_name": "ButtonModel",
      "state": {
       "description": "Cancel",
       "layout": "IPY_MODEL_7da16d9a06bb40c6829fafc88109b465",
       "style": "IPY_MODEL_d93688e330cd45f2b44f52171df99845"
      }
     },
     "645a388d79c04c9ab9a027c9d2037060": {
      "model_module": "@jupyter-widgets/controls",
      "model_module_version": "1.5.0",
      "model_name": "SliderStyleModel",
      "state": {
       "description_width": ""
      }
     },
     "651cfb5a78d0406cb9fc3d230cb60e7d": {
      "model_module": "@jupyter-widgets/base",
      "model_module_version": "1.2.0",
      "model_name": "LayoutModel",
      "state": {}
     },
     "6948eb195828402285498b326f1a9d37": {
      "model_module": "@jupyter-widgets/base",
      "model_module_version": "1.2.0",
      "model_name": "LayoutModel",
      "state": {}
     },
     "6a6452bce661423aa1737460394bb015": {
      "model_module": "@jupyter-widgets/controls",
      "model_module_version": "1.5.0",
      "model_name": "ButtonModel",
      "state": {
       "description": "Change",
       "layout": "IPY_MODEL_487df1c88fd242c5b1878c408b94a1ce",
       "style": "IPY_MODEL_49dfe84724f7484b92a6a029fce975b7"
      }
     },
     "6b03a1930ae043fda94cd6cc8410235c": {
      "model_module": "@jupyter-widgets/controls",
      "model_module_version": "1.5.0",
      "model_name": "ButtonStyleModel",
      "state": {}
     },
     "6b8476d99396412b9dddcd4facd0019b": {
      "model_module": "@jupyter-widgets/controls",
      "model_module_version": "1.5.0",
      "model_name": "ButtonStyleModel",
      "state": {}
     },
     "6b8b10f3a5004f4b87ba53de7e40f679": {
      "model_module": "@jupyter-widgets/base",
      "model_module_version": "1.2.0",
      "model_name": "LayoutModel",
      "state": {}
     },
     "6d2e96f096074714993dae059f0985ce": {
      "model_module": "@jupyter-widgets/controls",
      "model_module_version": "1.5.0",
      "model_name": "SliderStyleModel",
      "state": {
       "description_width": ""
      }
     },
     "6d8404e0f2034601b6b8e56f5c55cd9e": {
      "model_module": "@jupyter-widgets/base",
      "model_module_version": "1.2.0",
      "model_name": "LayoutModel",
      "state": {}
     },
     "717103c080d64e61b5aecc96ee0eeeeb": {
      "model_module": "@jupyter-widgets/controls",
      "model_module_version": "1.5.0",
      "model_name": "SliderStyleModel",
      "state": {
       "description_width": ""
      }
     },
     "7299c35582db455ca6ed02eaac69b397": {
      "model_module": "@jupyter-widgets/controls",
      "model_module_version": "1.5.0",
      "model_name": "GridBoxModel",
      "state": {
       "children": [
        "IPY_MODEL_3a56c86797444c0fac7e0035e460ed71",
        "IPY_MODEL_ac462eadb0834a7d85df6e062ddbbd7c",
        "IPY_MODEL_04d52ee2f14f46af971f08f0da5d9323"
       ],
       "layout": "IPY_MODEL_2391cccac2f24895a551b5c9b6580c5e"
      }
     },
     "73324fa5b9c54e7ebc27f022292ab9e0": {
      "model_module": "@jupyter-widgets/controls",
      "model_module_version": "1.5.0",
      "model_name": "DescriptionStyleModel",
      "state": {
       "description_width": ""
      }
     },
     "7336f3e68d55403683e7a98e9b83338e": {
      "model_module": "@jupyter-widgets/controls",
      "model_module_version": "1.5.0",
      "model_name": "DescriptionStyleModel",
      "state": {
       "description_width": ""
      }
     },
     "73988bf6358e409dab5207a154d44c85": {
      "model_module": "@jupyter-widgets/controls",
      "model_module_version": "1.5.0",
      "model_name": "ButtonStyleModel",
      "state": {}
     },
     "7517b9ffe043497490ea98a4282657b6": {
      "model_module": "@jupyter-widgets/controls",
      "model_module_version": "1.5.0",
      "model_name": "SliderStyleModel",
      "state": {
       "description_width": ""
      }
     },
     "75ce6a3d126543aba7bb70e8fd511ee4": {
      "model_module": "@jupyter-widgets/controls",
      "model_module_version": "1.5.0",
      "model_name": "DropdownModel",
      "state": {
       "_options_labels": [
        "C:\\Users\\dominiquef\\Documents\\GIT\\mira\\geoapps\\docs\\content\\applications",
        "C:\\Users\\dominiquef\\Documents\\GIT\\mira\\geoapps\\docs\\content",
        "C:\\Users\\dominiquef\\Documents\\GIT\\mira\\geoapps\\docs",
        "C:\\Users\\dominiquef\\Documents\\GIT\\mira\\geoapps",
        "C:\\Users\\dominiquef\\Documents\\GIT\\mira",
        "C:\\Users\\dominiquef\\Documents\\GIT",
        "C:\\Users\\dominiquef\\Documents",
        "C:\\Users\\dominiquef",
        "C:\\Users",
        "C:\\",
        "D:\\",
        "Z:\\"
       ],
       "index": 0,
       "layout": "IPY_MODEL_84d00e65c53c4206a082f86977360262",
       "style": "IPY_MODEL_5e6a1b0d08b9414983ada8b3c3b5e36b"
      }
     },
     "765dfa8836b8460e9ae78ccc523bf46b": {
      "model_module": "@jupyter-widgets/controls",
      "model_module_version": "1.5.0",
      "model_name": "TextModel",
      "state": {
       "continuous_update": false,
       "description": "Group:",
       "layout": "IPY_MODEL_796e71804ccb49bba8d97463d8bdcde5",
       "style": "IPY_MODEL_47f144a095f145eca32eeefa5191fe28",
       "value": "Edges"
      }
     },
     "76dd58d1002541d5afbc12803ba50951": {
      "model_module": "@jupyter-widgets/controls",
      "model_module_version": "1.5.0",
      "model_name": "ButtonModel",
      "state": {
       "description": "Cancel",
       "layout": "IPY_MODEL_9009586af6d04b03b7f79ef7e66f88ad",
       "style": "IPY_MODEL_dec5088d71b143c2b4829b3d0f9f2b0d"
      }
     },
     "76f6c88103fe481e8e801b592f4bc3dd": {
      "model_module": "@jupyter-widgets/base",
      "model_module_version": "1.2.0",
      "model_name": "LayoutModel",
      "state": {}
     },
     "775de93f2efe43689254c16316ceda44": {
      "model_module": "@jupyter-widgets/base",
      "model_module_version": "1.2.0",
      "model_name": "LayoutModel",
      "state": {}
     },
     "77697bed9c604391a639ef8cb436973b": {
      "model_module": "@jupyter-widgets/controls",
      "model_module_version": "1.5.0",
      "model_name": "DescriptionStyleModel",
      "state": {
       "description_width": "initial"
      }
     },
     "796e71804ccb49bba8d97463d8bdcde5": {
      "model_module": "@jupyter-widgets/base",
      "model_module_version": "1.2.0",
      "model_name": "LayoutModel",
      "state": {}
     },
     "797fa7a396d6451188e598aa0ead395a": {
      "model_module": "@jupyter-widgets/controls",
      "model_module_version": "1.5.0",
      "model_name": "IntSliderModel",
      "state": {
       "continuous_update": false,
       "description": "Line Gap",
       "layout": "IPY_MODEL_9b7e84f600574a199dea6b1a42d13600",
       "min": 1,
       "style": "IPY_MODEL_717103c080d64e61b5aecc96ee0eeeeb",
       "value": 1
      }
     },
     "79cc52ab368f4bdf9d90aa08fd951bf8": {
      "model_module": "@jupyter-widgets/controls",
      "model_module_version": "1.5.0",
      "model_name": "VBoxModel",
      "state": {
       "children": [
        "IPY_MODEL_2d022ebcab2a492f883307803df4c1fd",
        "IPY_MODEL_359afc9ca5c44b6691e0460bcec1f31b"
       ],
       "layout": "IPY_MODEL_85199ff1c0bb4a7aa291e36b5ff6e88b"
      }
     },
     "7a446d5deea44893a5632cf4d858582f": {
      "model_module": "@jupyter-widgets/base",
      "model_module_version": "1.2.0",
      "model_name": "LayoutModel",
      "state": {
       "grid_area": "filename",
       "width": "auto"
      }
     },
     "7b6ddc2165db4f1bb9ae0edc94123614": {
      "model_module": "@jupyter-widgets/controls",
      "model_module_version": "1.5.0",
      "model_name": "SliderStyleModel",
      "state": {
       "description_width": ""
      }
     },
     "7be5e94ecefa4e8a92e309b595d64967": {
      "model_module": "@jupyter-widgets/controls",
      "model_module_version": "1.5.0",
      "model_name": "VBoxModel",
      "state": {
       "children": [
        "IPY_MODEL_21592b6947eb489c8713ab3e9ce52343",
        "IPY_MODEL_062d9ecb66f74b1ebee5687eff5f9672"
       ],
       "layout": "IPY_MODEL_1056b418c2884756a18bcbb396b6254c"
      }
     },
     "7d308a324bad462bb825dc4fa75a5ffa": {
      "model_module": "@jupyter-widgets/base",
      "model_module_version": "1.2.0",
      "model_name": "LayoutModel",
      "state": {}
     },
     "7d840638dd8e4cb3837d7a95bcbe6696": {
      "model_module": "@jupyter-widgets/controls",
      "model_module_version": "1.5.0",
      "model_name": "CheckboxModel",
      "state": {
       "description": "Geoscience ANALYST Pro - Live link",
       "disabled": false,
       "indent": false,
       "layout": "IPY_MODEL_6948eb195828402285498b326f1a9d37",
       "style": "IPY_MODEL_a9bf0a535fc44751ba4ac732ce7da869",
       "value": false
      }
     },
     "7da16d9a06bb40c6829fafc88109b465": {
      "model_module": "@jupyter-widgets/base",
      "model_module_version": "1.2.0",
      "model_name": "LayoutModel",
      "state": {
       "display": "none",
       "width": "auto"
      }
     },
     "7e105188d8ce4aff87835b699ba5f06c": {
      "model_module": "@jupyter-widgets/controls",
      "model_module_version": "1.5.0",
      "model_name": "HBoxModel",
      "state": {
       "children": [
        "IPY_MODEL_79cc52ab368f4bdf9d90aa08fd951bf8",
        "IPY_MODEL_fad51e57e55b4713a458a5f10f8a88ab"
       ],
       "layout": "IPY_MODEL_4a5c93d4051b4b8d93bec6cf69f021ad"
      }
     },
     "7f0ca6432a624d1e9e4f58c85fa9ed84": {
      "model_module": "@jupyter-widgets/controls",
      "model_module_version": "1.5.0",
      "model_name": "VBoxModel",
      "state": {
       "children": [
        "IPY_MODEL_9402c23ec49d49a8a900498fcf46fd5e",
        "IPY_MODEL_b722e65a6c6447558cfb65fc157d1a01"
       ],
       "layout": "IPY_MODEL_1e3e27c10a1c4d46a7ed9a8a08141500"
      }
     },
     "7f105783583e464da7c69043f04432fe": {
      "model_module": "@jupyter-widgets/base",
      "model_module_version": "1.2.0",
      "model_name": "LayoutModel",
      "state": {
       "width": "auto"
      }
     },
     "7ffc3ad039bf4ed99536dddfabb2f4b1": {
      "model_module": "@jupyter-widgets/base",
      "model_module_version": "1.2.0",
      "model_name": "LayoutModel",
      "state": {}
     },
     "8012bd0212a140e78b97345b0c78886b": {
      "model_module": "@jupyter-widgets/base",
      "model_module_version": "1.2.0",
      "model_name": "LayoutModel",
      "state": {
       "width": "auto"
      }
     },
     "810b40b954c04813bef2100c0afe95fd": {
      "model_module": "@jupyter-widgets/base",
      "model_module_version": "1.2.0",
      "model_name": "LayoutModel",
      "state": {}
     },
     "811a061f833c4776a44d6df6b940396c": {
      "model_module": "@jupyter-widgets/controls",
      "model_module_version": "1.5.0",
      "model_name": "SliderStyleModel",
      "state": {
       "description_width": ""
      }
     },
     "8193b6d55d564e3f89a1f202f647030b": {
      "model_module": "@jupyter-widgets/base",
      "model_module_version": "1.2.0",
      "model_name": "LayoutModel",
      "state": {
       "display": "none",
       "width": "auto"
      }
     },
     "8198858db83441a494313406f34dc845": {
      "model_module": "@jupyter-widgets/base",
      "model_module_version": "1.2.0",
      "model_name": "LayoutModel",
      "state": {}
     },
     "8268f974d42a46a9bdf0ffdc2e2ff7c0": {
      "model_module": "@jupyter-widgets/controls",
      "model_module_version": "1.5.0",
      "model_name": "DropdownModel",
      "state": {
       "_options_labels": [
        "",
        "Gravity_Magnetics_drape60mEPSG_4326",
        "Gravity_Magnetics_drape60m"
       ],
       "description": "Object:",
       "index": 2,
       "layout": "IPY_MODEL_d4699d1f0bfc467f8b6ba32279fa0829",
       "style": "IPY_MODEL_968476e32d0a40e890cc1c5283a002af"
      }
     },
     "847c3214fc884a1ab1191f44b486a27a": {
      "model_module": "@jupyter-widgets/controls",
      "model_module_version": "1.5.0",
      "model_name": "SliderStyleModel",
      "state": {
       "description_width": ""
      }
     },
     "8499dcde27db4eefbb5dd9130edf2e74": {
      "model_module": "@jupyter-widgets/controls",
      "model_module_version": "1.5.0",
      "model_name": "ButtonStyleModel",
      "state": {}
     },
     "84d00e65c53c4206a082f86977360262": {
      "model_module": "@jupyter-widgets/base",
      "model_module_version": "1.2.0",
      "model_name": "LayoutModel",
      "state": {
       "grid_area": "pathlist",
       "width": "auto"
      }
     },
     "85199ff1c0bb4a7aa291e36b5ff6e88b": {
      "model_module": "@jupyter-widgets/base",
      "model_module_version": "1.2.0",
      "model_name": "LayoutModel",
      "state": {}
     },
     "853ad28e372f4f9782e54826ba1597e4": {
      "model_module": "@jupyter-widgets/controls",
      "model_module_version": "1.5.0",
      "model_name": "FloatTextModel",
      "state": {
       "description": "Grid Resolution (m)",
       "layout": "IPY_MODEL_4d3f06145c0a4149b86ffa4af124131d",
       "step": null,
       "style": "IPY_MODEL_0dbf22df344f48a4a3e50279bff2c759",
       "value": 50
      }
     },
     "863901cd806c4450873f66a59ee05dd3": {
      "model_module": "@jupyter-widgets/controls",
      "model_module_version": "1.5.0",
      "model_name": "IntSliderModel",
      "state": {
       "continuous_update": false,
       "description": "Line Length",
       "layout": "IPY_MODEL_0a4f116195ac4d7783f6f3d2b9c001dc",
       "min": 1,
       "style": "IPY_MODEL_7517b9ffe043497490ea98a4282657b6",
       "value": 1
      }
     },
     "892bb7fe45fb4d91a9c7c438d824452d": {
      "model_module": "@jupyter-widgets/controls",
      "model_module_version": "1.5.0",
      "model_name": "ToggleButtonModel",
      "state": {
       "button_style": "warning",
       "description": "Compute",
       "icon": "check",
       "layout": "IPY_MODEL_ff7b4ccddea14ddb8f1c019e935baea9",
       "style": "IPY_MODEL_459513feee9a45d7a9ff2022574f2423",
       "tooltip": "Description"
      }
     },
     "8a6241c286204920b9d87641274f1fca": {
      "model_module": "@jupyter-widgets/controls",
      "model_module_version": "1.5.0",
      "model_name": "HBoxModel",
      "state": {
       "children": [
        "IPY_MODEL_174a96227d2d470f9d821413e8fa65e7",
        "IPY_MODEL_dc400f6373284d06922c7c4ae0fbd5ac",
        "IPY_MODEL_1a22fb1280d544c9851a431f4e9f8395"
       ],
       "layout": "IPY_MODEL_efc070757fcb49138e505f04d1f1344c"
      }
     },
     "8a7fe32d65374ed3a081dd515417967b": {
      "model_module": "@jupyter-widgets/base",
      "model_module_version": "1.2.0",
      "model_name": "LayoutModel",
      "state": {
       "display": "none"
      }
     },
     "8a9c244138514aa5a4e0c8b04239cb53": {
      "model_module": "@jupyter-widgets/base",
      "model_module_version": "1.2.0",
      "model_name": "LayoutModel",
      "state": {}
     },
     "8cae0773c2d74d529ffea8903f4df740": {
      "model_module": "@jupyter-widgets/controls",
      "model_module_version": "1.5.0",
      "model_name": "DescriptionStyleModel",
      "state": {
       "description_width": "initial"
      }
     },
     "8d7a5a6835b34f74af11e0e8b50e0f92": {
      "model_module": "@jupyter-widgets/base",
      "model_module_version": "1.2.0",
      "model_name": "LayoutModel",
      "state": {
       "grid_area": "pathlist",
       "width": "auto"
      }
     },
     "8d7ddeae7d9e4fd887d85488f49d152d": {
      "model_module": "@jupyter-widgets/base",
      "model_module_version": "1.2.0",
      "model_name": "LayoutModel",
      "state": {}
     },
     "8d97f81c291447e39d924866cf57e217": {
      "model_module": "@jupyter-widgets/controls",
      "model_module_version": "1.5.0",
      "model_name": "ButtonModel",
      "state": {
       "button_style": "success",
       "description": "Export",
       "icon": "check",
       "layout": "IPY_MODEL_35343ccd49824218a7122494c6f24c53",
       "style": "IPY_MODEL_4824c6e9bfef4f0b9c621619b25bf22b",
       "tooltip": "Run computation"
      }
     },
     "8f44adc797b04ab0b46bd03e62df0468": {
      "model_module": "@jupyter-widgets/base",
      "model_module_version": "1.2.0",
      "model_name": "LayoutModel",
      "state": {
       "display": "none"
      }
     },
     "9009586af6d04b03b7f79ef7e66f88ad": {
      "model_module": "@jupyter-widgets/base",
      "model_module_version": "1.2.0",
      "model_name": "LayoutModel",
      "state": {
       "display": "none",
       "width": "auto"
      }
     },
     "902c6e9b53e44080bff7585855a4f50c": {
      "model_module": "@jupyter-widgets/base",
      "model_module_version": "1.2.0",
      "model_name": "LayoutModel",
      "state": {
       "display": "none",
       "width": "auto"
      }
     },
     "9045bd96c85f44ba85d51651b58fe5c0": {
      "model_module": "@jupyter-widgets/base",
      "model_module_version": "1.2.0",
      "model_name": "LayoutModel",
      "state": {}
     },
     "9077bb769a3849e494545eac0ea0e3c6": {
      "model_module": "@jupyter-widgets/controls",
      "model_module_version": "1.5.0",
      "model_name": "LabelModel",
      "state": {
       "layout": "IPY_MODEL_cb6960bf534a4f0dabb972e9f1a63124",
       "style": "IPY_MODEL_48ddb38958404f8891e0237236bd393f",
       "value": "Monitoring folder"
      }
     },
     "908f0a2966fa4b3f80f6a6df8a49087e": {
      "model_module": "@jupyter-widgets/base",
      "model_module_version": "1.2.0",
      "model_name": "LayoutModel",
      "state": {}
     },
     "9090057fd610476ab4110dc999856ef5": {
      "model_module": "@jupyter-widgets/controls",
      "model_module_version": "1.5.0",
      "model_name": "DropdownModel",
      "state": {
       "_options_labels": [
        "",
        "--- Channels ---",
        "Airborne_Gxx",
        "Airborne_Gxy",
        "Airborne_Gxz",
        "Airborne_Gyy",
        "Airborne_Gyz",
        "Airborne_Gz",
        "Airborne_Gzz",
        "Airborne_TMI",
        "Ground_Gz",
        "Z"
       ],
       "description": "Data: ",
       "index": 2,
       "layout": "IPY_MODEL_48726ec441ce4cb49291a5165eb74168",
       "style": "IPY_MODEL_8cae0773c2d74d529ffea8903f4df740"
      }
     },
     "92130be6ce7e4efa96c71e53d40459c0": {
      "model_module": "@jupyter-widgets/controls",
      "model_module_version": "1.5.0",
      "model_name": "DescriptionStyleModel",
      "state": {
       "description_width": ""
      }
     },
     "9247fde3e5034e3099dd868c103eb315": {
      "model_module": "@jupyter-widgets/base",
      "model_module_version": "1.2.0",
      "model_name": "LayoutModel",
      "state": {}
     },
     "92cd82664c7e4efc8fd34854f0658841": {
      "model_module": "@jupyter-widgets/controls",
      "model_module_version": "1.5.0",
      "model_name": "DescriptionStyleModel",
      "state": {
       "description_width": ""
      }
     },
     "9402c23ec49d49a8a900498fcf46fd5e": {
      "model_module": "@jupyter-widgets/controls",
      "model_module_version": "1.5.0",
      "model_name": "LabelModel",
      "state": {
       "layout": "IPY_MODEL_8d7ddeae7d9e4fd887d85488f49d152d",
       "style": "IPY_MODEL_a5a44a9bb6054cfb86b4cec68dfad98b",
       "value": "Workspace"
      }
     },
     "950afec46a3d4e2386eb29c6da5f6018": {
      "model_module": "@jupyter-widgets/base",
      "model_module_version": "1.2.0",
      "model_name": "LayoutModel",
      "state": {
       "grid_area": "dircontent",
       "width": "auto"
      }
     },
     "956a72be3356408bb40fd401978c2076": {
      "model_module": "@jupyter-widgets/base",
      "model_module_version": "1.2.0",
      "model_name": "LayoutModel",
      "state": {}
     },
     "965c2acac78949b0901827f048406bb9": {
      "model_module": "@jupyter-widgets/base",
      "model_module_version": "1.2.0",
      "model_name": "LayoutModel",
      "state": {}
     },
     "968476e32d0a40e890cc1c5283a002af": {
      "model_module": "@jupyter-widgets/controls",
      "model_module_version": "1.5.0",
      "model_name": "DescriptionStyleModel",
      "state": {
       "description_width": "initial"
      }
     },
     "96e949d092454f7a95da47f9f9c79795": {
      "model_module": "@jupyter-widgets/base",
      "model_module_version": "1.2.0",
      "model_name": "LayoutModel",
      "state": {}
     },
     "96ef1e26f33842ada9552cd7d0e6b56f": {
      "model_module": "@jupyter-widgets/controls",
      "model_module_version": "1.5.0",
      "model_name": "SliderStyleModel",
      "state": {
       "description_width": ""
      }
     },
     "9795f0c3e988478b9fc54711a27cbb2f": {
      "model_module": "@jupyter-widgets/controls",
      "model_module_version": "1.5.0",
      "model_name": "VBoxModel",
      "state": {
       "children": [
        "IPY_MODEL_f77c94deb41240dda15f5113fdd2b80a",
        "IPY_MODEL_7299c35582db455ca6ed02eaac69b397",
        "IPY_MODEL_1adfa3e991c94c0197211e4fbda5280d"
       ],
       "layout": "IPY_MODEL_106b28c1b02b435e9fcec28e957e9054"
      }
     },
     "97baed3d0199424094760f0c28b01fc8": {
      "model_module": "@jupyter-widgets/controls",
      "model_module_version": "1.5.0",
      "model_name": "HBoxModel",
      "state": {
       "children": [
        "IPY_MODEL_f6050124cd9c4419bc16bbbdf3d98f82",
        "IPY_MODEL_c0d5df824f7f4c4db6ef57a1407edfbd",
        "IPY_MODEL_1e1c61030a134b5194c789dc454fe086"
       ],
       "layout": "IPY_MODEL_e76525d99ad24bef98380b3d176acffc"
      }
     },
     "990e3f0526474dbb94ad25e09e1d68e6": {
      "model_module": "@jupyter-widgets/controls",
      "model_module_version": "1.5.0",
      "model_name": "DescriptionStyleModel",
      "state": {
       "description_width": "initial"
      }
     },
     "9b1786b70eb44b469275b6f941cc7383": {
      "model_module": "@jupyter-widgets/controls",
      "model_module_version": "1.5.0",
      "model_name": "DescriptionStyleModel",
      "state": {
       "description_width": "initial"
      }
     },
     "9b7a3cacc41744dda1342168b5f3da98": {
      "model_module": "@jupyter-widgets/controls",
      "model_module_version": "1.5.0",
      "model_name": "TextModel",
      "state": {
       "continuous_update": false,
       "description": "Contours",
       "layout": "IPY_MODEL_ca49dbd35e89484ea35cabed4d436e90",
       "style": "IPY_MODEL_c4ee42342a534121afdf6beace63a47e"
      }
     },
     "9b7e84f600574a199dea6b1a42d13600": {
      "model_module": "@jupyter-widgets/base",
      "model_module_version": "1.2.0",
      "model_name": "LayoutModel",
      "state": {}
     },
     "9bc3d1252251438692b19f561aee8752": {
      "model_module": "@jupyter-widgets/base",
      "model_module_version": "1.2.0",
      "model_name": "LayoutModel",
      "state": {}
     },
     "9dd4bba26b374a638234e74eb8d2ec4a": {
      "model_module": "@jupyter-widgets/controls",
      "model_module_version": "1.5.0",
      "model_name": "DropdownModel",
      "state": {
       "_options_labels": [
        "",
        "Gravity_Magnetics_drape60mEPSG_4326",
        "Gravity_Magnetics_drape60m"
       ],
       "description": "Object:",
       "index": 2,
       "layout": "IPY_MODEL_b93ba27fc65a409b80fc5593adc7e0f0",
       "style": "IPY_MODEL_498c338fe18a4102a0dfa19acb539e94"
      }
     },
     "9ec5b15dabb84320b4ba4f8e9e55e277": {
      "model_module": "@jupyter-widgets/base",
      "model_module_version": "1.2.0",
      "model_name": "LayoutModel",
      "state": {
       "width": "auto"
      }
     },
     "a0c5bf9934654fc49f17b49e1bc8f44e": {
      "model_module": "@jupyter-widgets/controls",
      "model_module_version": "1.5.0",
      "model_name": "HBoxModel",
      "state": {
       "children": [
        "IPY_MODEL_2fbff242d1024e59a42d2bcf8cc62366",
        "IPY_MODEL_12416fe510444c5a8b542c923d7594b9"
       ],
       "layout": "IPY_MODEL_908f0a2966fa4b3f80f6a6df8a49087e"
      }
     },
     "a2313dbd20214669bfd13c24398b08d0": {
      "model_module": "@jupyter-widgets/controls",
      "model_module_version": "1.5.0",
      "model_name": "SliderStyleModel",
      "state": {
       "description_width": ""
      }
     },
     "a278761f8bad4b8b95520ece4f627757": {
      "model_module": "@jupyter-widgets/base",
      "model_module_version": "1.2.0",
      "model_name": "LayoutModel",
      "state": {}
     },
     "a2aada0d6147443eadcb3cb701be5cd9": {
      "model_module": "@jupyter-widgets/base",
      "model_module_version": "1.2.0",
      "model_name": "LayoutModel",
      "state": {}
     },
     "a32dce9bbbc446f487499b5bb6019c08": {
      "model_module": "@jupyter-widgets/controls",
      "model_module_version": "1.5.0",
      "model_name": "FloatTextModel",
      "state": {
       "description": "Grid Resolution (m)",
       "layout": "IPY_MODEL_956a72be3356408bb40fd401978c2076",
       "step": null,
       "style": "IPY_MODEL_77697bed9c604391a639ef8cb436973b",
       "value": 50
      }
     },
     "a40e8da71fd245f18f90c96a834f7108": {
      "model_module": "@jupyter-widgets/base",
      "model_module_version": "1.2.0",
      "model_name": "LayoutModel",
      "state": {}
     },
     "a4111093d6854a0b8ab23087664ec068": {
      "model_module": "@jupyter-widgets/controls",
      "model_module_version": "1.5.0",
      "model_name": "DescriptionStyleModel",
      "state": {
       "description_width": ""
      }
     },
     "a5557278af6743e0a45acf96dc5b60dd": {
      "model_module": "@jupyter-widgets/controls",
      "model_module_version": "1.5.0",
      "model_name": "DescriptionStyleModel",
      "state": {
       "description_width": ""
      }
     },
     "a5a44a9bb6054cfb86b4cec68dfad98b": {
      "model_module": "@jupyter-widgets/controls",
      "model_module_version": "1.5.0",
      "model_name": "DescriptionStyleModel",
      "state": {
       "description_width": "initial"
      }
     },
     "a6ef3f21b18d4eb7a34ceced38cbd7ac": {
      "model_module": "@jupyter-widgets/controls",
      "model_module_version": "1.5.0",
      "model_name": "LabelModel",
      "state": {
       "layout": "IPY_MODEL_f5c546d5c6ac49a9b02723ae09e731b7",
       "style": "IPY_MODEL_9b1786b70eb44b469275b6f941cc7383",
       "value": "Workspace"
      }
     },
     "a8ae4d753a774e3e875591e66aabdfd5": {
      "model_module": "@jupyter-widgets/controls",
      "model_module_version": "1.5.0",
      "model_name": "VBoxModel",
      "state": {
       "children": [
        "IPY_MODEL_1fd70edf312949a19b2198fdb526e223",
        "IPY_MODEL_009c7c7f9fde4e578e3383d8947aad0a"
       ],
       "layout": "IPY_MODEL_7d308a324bad462bb825dc4fa75a5ffa"
      }
     },
     "a9bf0a535fc44751ba4ac732ce7da869": {
      "model_module": "@jupyter-widgets/controls",
      "model_module_version": "1.5.0",
      "model_name": "DescriptionStyleModel",
      "state": {
       "description_width": "initial"
      }
     },
     "a9f49e8dbd1e4a7b987621f38dcbe711": {
      "model_module": "@jupyter-widgets/controls",
      "model_module_version": "1.5.0",
      "model_name": "DropdownModel",
      "state": {
       "_options_labels": [
        "C:\\Users\\dominiquef\\Documents\\GIT\\mira\\mirageoscience-apps\\docs\\content\\applications",
        "C:\\Users\\dominiquef\\Documents\\GIT\\mira\\mirageoscience-apps\\docs\\content",
        "C:\\Users\\dominiquef\\Documents\\GIT\\mira\\mirageoscience-apps\\docs",
        "C:\\Users\\dominiquef\\Documents\\GIT\\mira\\mirageoscience-apps",
        "C:\\Users\\dominiquef\\Documents\\GIT\\mira",
        "C:\\Users\\dominiquef\\Documents\\GIT",
        "C:\\Users\\dominiquef\\Documents",
        "C:\\Users\\dominiquef",
        "C:\\Users",
        "C:\\",
        "D:\\",
        "Z:\\"
       ],
       "index": 0,
       "layout": "IPY_MODEL_8d7a5a6835b34f74af11e0e8b50e0f92",
       "style": "IPY_MODEL_ef9515137e5c40eaa95a3c434314977a"
      }
     },
     "a9f4ebb25c2d4e6395c66d38ca0422f1": {
      "model_module": "@jupyter-widgets/base",
      "model_module_version": "1.2.0",
      "model_name": "LayoutModel",
      "state": {
       "grid_area": "pathlist",
       "width": "auto"
      }
     },
     "ac462eadb0834a7d85df6e062ddbbd7c": {
      "model_module": "@jupyter-widgets/controls",
      "model_module_version": "1.5.0",
      "model_name": "TextModel",
      "state": {
       "layout": "IPY_MODEL_7a446d5deea44893a5632cf4d858582f",
       "placeholder": "output filename",
       "style": "IPY_MODEL_bad1baf2195d47b2b019b06fea343492",
       "value": "FlinFlon.geoh5"
      }
     },
     "ac98589e6fae45f08e1010523eae14a8": {
      "model_module": "@jupyter-widgets/controls",
      "model_module_version": "1.5.0",
      "model_name": "DescriptionStyleModel",
      "state": {
       "description_width": ""
      }
     },
     "ace9b167e66d41098c12eb7a36b65240": {
      "model_module": "@jupyter-widgets/controls",
      "model_module_version": "1.5.0",
      "model_name": "DescriptionStyleModel",
      "state": {
       "description_width": ""
      }
     },
     "ad59b756ffcc48e19b2671aa41d0470d": {
      "model_module": "@jupyter-widgets/controls",
      "model_module_version": "1.5.0",
      "model_name": "DescriptionStyleModel",
      "state": {
       "description_width": "initial"
      }
     },
     "adbe97017a2144b8a31697fbc73a0767": {
      "model_module": "@jupyter-widgets/controls",
      "model_module_version": "1.5.0",
      "model_name": "VBoxModel",
      "state": {
       "children": [
        "IPY_MODEL_8268f974d42a46a9bdf0ffdc2e2ff7c0",
        "IPY_MODEL_9090057fd610476ab4110dc999856ef5"
       ],
       "layout": "IPY_MODEL_e91f28b7d52b408d8cea8086afd29b5e"
      }
     },
     "af878db1d1614714945890ed5b61e415": {
      "model_module": "@jupyter-widgets/controls",
      "model_module_version": "1.5.0",
      "model_name": "ToggleButtonModel",
      "state": {
       "description": "Zoom on selection",
       "icon": "check",
       "layout": "IPY_MODEL_c153d092ded549418aa318ed4b682e0c",
       "style": "IPY_MODEL_372526baf3e54087950254706b5e313b",
       "value": true
      }
     },
     "afe763e217514bdd863a431452e0848d": {
      "model_module": "@jupyter-widgets/base",
      "model_module_version": "1.2.0",
      "model_name": "LayoutModel",
      "state": {
       "grid_area": "dircontent",
       "width": "auto"
      }
     },
     "b0d06d7dc42645f38e3b0c40b231055b": {
      "model_module": "@jupyter-widgets/controls",
      "model_module_version": "1.5.0",
      "model_name": "VBoxModel",
      "state": {
       "children": [
        "IPY_MODEL_c8c89ed9f45c4370b4b8b4f7777a0a0e",
        "IPY_MODEL_406945de057344649f0061134d1f4290"
       ],
       "layout": "IPY_MODEL_dd4ee08d26fe43d4bf6e49f872049273"
      }
     },
     "b10e292a031349cda46bad01a6a9ddd6": {
      "model_module": "@jupyter-widgets/controls",
      "model_module_version": "1.5.0",
      "model_name": "ButtonModel",
      "state": {
       "button_style": "warning",
       "description": "Compute",
       "layout": "IPY_MODEL_9247fde3e5034e3099dd868c103eb315",
       "style": "IPY_MODEL_44a2abbf5f784c459c51fdc19985b760"
      }
     },
     "b1fcedb1c5a24e9fa1d4cf88a13ea083": {
      "model_module": "@jupyter-widgets/controls",
      "model_module_version": "1.5.0",
      "model_name": "SliderStyleModel",
      "state": {
       "description_width": "initial"
      }
     },
     "b237c3d6d69d4cd2a02314fa847fa278": {
      "model_module": "@jupyter-widgets/controls",
      "model_module_version": "1.5.0",
      "model_name": "HTMLModel",
      "state": {
       "layout": "IPY_MODEL_c3b511468ba84940bb1f33999a65d5f4",
       "placeholder": "",
       "style": "IPY_MODEL_92130be6ce7e4efa96c71e53d40459c0",
       "value": "<span style=\"margin-left:10px; color:orange;\">C:\\Users\\dominiquef\\Documents\\GIT\\mira\\mirageoscience-apps\\assets\\FlinFlon.geoh5</span>"
      }
     },
     "b4d2389e07ae40539b34ff1f1f64e563": {
      "model_module": "@jupyter-widgets/controls",
      "model_module_version": "1.5.0",
      "model_name": "SliderStyleModel",
      "state": {
       "description_width": ""
      }
     },
     "b500e6c29c034389a33ff910896afc7b": {
      "model_module": "@jupyter-widgets/controls",
      "model_module_version": "1.5.0",
      "model_name": "SliderStyleModel",
      "state": {
       "description_width": ""
      }
     },
     "b506525cd67644dea5f242d1153eac05": {
      "model_module": "@jupyter-widgets/base",
      "model_module_version": "1.2.0",
      "model_name": "LayoutModel",
      "state": {}
     },
     "b5c3c0ce7b67449eab9e31336b0ae9e9": {
      "model_module": "@jupyter-widgets/output",
      "model_module_version": "1.0.0",
      "model_name": "OutputModel",
      "state": {
       "layout": "IPY_MODEL_e87220ac06ee4e0995358eb394cae255",
       "outputs": [
        {
         "data": {
          "image/png": "iVBORw0KGgoAAAANSUhEUgAAAe8AAAJICAYAAABIeGwGAAAAOXRFWHRTb2Z0d2FyZQBNYXRwbG90bGliIHZlcnNpb24zLjMuNCwgaHR0cHM6Ly9tYXRwbG90bGliLm9yZy8QVMy6AAAACXBIWXMAAAsTAAALEwEAmpwYAAEAAElEQVR4nOydd3gVVfrHPye9kYQSINTQexVBRQUbKnYUERV1bWvvP+uuq+va1q7rWtZ1VcTeexdEUZHeO6GGEkIC6e38/jhncueeO3NnEk0EnM/zvM+9c++ZO5PkZr7zvuc97yuklAQEBAQEBATsPcT83icQEBAQEBAQUD8C8Q4ICAgICNjLCMQ7ICAgICBgLyMQ74CAgICAgL2MQLwDAgICAgL2MgLxDggICAgI2MuI+71PwI1WrVrJnJyc3/s0AgIanW3btrFhwwbS09Pp0aPH7306AX9wZs+enS+lzGqq4x1zwDEyvyi/qQ7H7GWzP5dSHtNkB2wk9ljxzsnJYdasWb/3aQQENDr5+flkZ2dTUlLCxx9/TJs2bX7vUwr4AyOEWNeUx8svymfW/5ruWi8OFK2a7GCNSBA2Dwj4nWnVqhXHHnssNTU1vPrqq7/36QQEBOwFBOIdELAHMGnSJAAmT578O59JQEATUwuUNqHtIwTiHRBgsHnzZu677z7eeOONJjvmCSecQEZGBnPmzGHJkiVNdtyAgIC9k0C8AwIMpk2bxi233MJDDz3UZMdMSkri9NNPBwLvO+APhgSqmtD2EQLxDggwOOmkk2jWrBkzZ85k+fLlTXZcK3T+8ssvU1tb22THDQgI2PsIxDsgwCAlJYXTTjsNUELaVIwcOZKcnBw2btzI1KlTm+y4AQG/K4Hn3SAC8Q4IcOD38IJjYmI4++yzgSB0HhAQEJ1AvAMCHBg1ahQdO3YkNzeX77//vsmOa900vPXWW5SW7kOpsQEBbgSed4MIxDsgwIGYmBjOOussoGm94J49ezJ8+HCKi4t5//33m+y4AQEBexeBeAcEuGB5wW+++Sbl5eVNdtxzzjkHCELnAX8QAs+7QQTiHRDgQt++fdlvv/0oKiriww8/bLLjTpgwgbi4OL744gu2bNnSZMcNCAjYewjEOyAgCr9H5bNWrVoxduzYoFxqQECAK4F4BwREYeLEicTGxvLpp5+yffv2JjtuUC414A9DEDZvEIF4BwREoXXr1hx99NFUV1fz2muvNdlxjz/+eDIyMpg7dy6LFy9usuMGBATsHQTiHRDgwe/hBQflUgP+MASed4MIxDsgwAOrXOovv/zSpOVSrazzKVOmBOVSAwICwgjEOyDAg+TkZMaPHw80rRc8cuRIunTpEpRLDdi3CTzvBhGId0CAD36PcqlCiLpyqS+99FKTHDMgIGDvIBDvgAAfHHrooXTq1Il169Yxffr0JjuuddPw9ttvB+VSA/ZNAs+7QQTiHRDgg9+rXGqPHj0YMWIExcXFvPfee0123ICAgD2bQLwDAnxiL5daVlbW5McNss4D9kkCz7tBBOIdEOCTPn36MGzYMHbt2tXk5VLj4+ODcqkBAQF1BOIdEFAPfs9yqbW1tUG51IB9j8DzbhCBeAcE1IMzzjiD2NhYPvvsM7Zt29Zkx7VuGoKs84CAAGgk8RZCxAkh/iyE+EwIsUAIMV8I8akQ4hIhRHxjHDMgoClo3bo1xxxzzO9SLjUzM5N58+axaNGiJjtuQECjE3jeDaKxPO/JwGDgDmAscBxwJzAIeLmRjhkQ0CT8HqHzxMTEoFxqQEBAHY0l3kOllJdKKX+SUm7U9pOU8lJgSCMdMyCgSTjxxBNJT09n1qxZLFu2rMmOa900TJkyhZqamiY7bkBAwJ5HY4n3TiHEeCFE3ecLIWKEEBOAnY10zICAJuH3Lpe6adOmoFxqwL5DEDZvEI0l3mcApwFbhRArhBArgC3AOP1eQMBeze9VLjVY8x0QEACNJN5Sylwp5QQpZRZwIHCQlLK1fm1tYxwzIKApOeSQQ+jUqRPr169v0nKpVq3zt956i5KSkiY7bkBAoxF43g2isbLNTxRCJAJIKXdIKfMb4zgBAb8XMTExv0vTkB49enDAAQdQUlISlEsNCPgD01hh89eBTUKIyUKIsUKI2EY6TkDA74YVwn7rrbeCcqkBAQ0l8LwbRGOJ9zKgB/AdcD2wWQjxtBBiVCMdLyCgyendu3ddudQPPvigyY5rlUv98ssvycvLa7LjBgQE7Dk0lnhLKeVOKeV/pJRHoNZ3LwHuE0JsaKRjBgQ0Oeeccw7QtF5wy5YtOe6444JyqQH7BnuQ5y2E6CiE+FYIsVQIsVgIcbV+vYUQ4kshxEr92Nxl/1whxEIhxDwhxCzjvSuFEMv15/6zXr8jBxpLvIV9Q0q5RUr5uJTyQODgRjpmQECTc8YZZxAXF/e7lUsNQucBAb8p1cD1Uso+wAHA5UKIvsDNwNdSyh7A13rbjcOklIOllMOsF4QQhwEnAQOllP2AB3/tiTaWeF/r9oaUcl0jHTMgoMnJysrimGOOoaampkm94OOOO47mzZszb948Fi5c2GTHDQj4zdmDPG8pZZ6Uco5+vhtYCrRHCe+LetiLwMn1/CkvBe6TUlboz/7Vd/qNtVRsamN8bkBAQyguLmbDhsabrQnKpQYE7HsIIXJQFUF/BtpIKfNACTzQ2mU3CXwhhJgthLjY9npP4BAhxM9CiGlCiP1/7fk1eVcxIUTgJrhQW1uLlPL3Po19io8//pi2bdty7bWuwaBfzQknnEB6ejqzZ89m6dKljXYck6BcasA+QdN73q2EELNsZhdZAIQQacDbwDVSyl31+GlGSimHAseiQu6H6tfjgOaoUPz/AW8IIYTLZ/iisdZ5j3OxU4G2jXHMfYGZM2eSmprKqaee+nufyj7DoEGDKC0t5cMPP2TnzsapzJucnPy7eMEHHXQQXbt2ZfPmzXz77bdNdtyAgL2cfCnlMJs9a39Td758G5gipXxHv7xVCJGt388GHMPeUsrN+nEb8C4wXL+1EXhHKmYCtUCrX/NDNOY67xOBEww7HkhqpGPu9WzYsIGysrLfxfsuKyvj9ddfZ82aNU1+7MakQ4cOHH744VRWVvLmm2822nHsXnBQLjUgoB7sQXPe2hv+L7BUSvmw7a0PgHP183OB9x32TRVCNLOeA2MAq3/ve8Dh+r2eQALwq4qXNZZ4LwAelFL+yTSgsJGOudezfv16ADp27Njkx77hhhs444wzeO6555r82I1NUyznOvjgg+ncuTPr16/nu+++a9BnXEb9o2hWlbe33347KJcaEPDrGQlMAg7Xy73mCSHGAvcBRwkhVgJH6W2EEO2EEJ/ofdsA3wsh5gMzgY+llJ/p954HugohFgGvAefKX+mlNZZ4XwO4zROc0kjHbBxeEyHzgWB1mNUHK6nKTbwrEVQ6XOCrqqp49tlnOfXUU8O9vntEyDyYMGECAE+9fC8P1AoeaoCQREPcoMz3+CtD5jn2zXAzGTduHCkpKXz//fesXVv/0vriYWXRsJdLPeylCxCc5euzL0PUWUPo3r07Bx54ICUlJbz77rvhb4rxyvwieoQsIOAPiJTyeymlkFIO1Mu9BkspP9Flvo+QUvbQjwV6/GYp5Vj9fI2UcpC2flLKu22fWymlPFtK2V9KOVRK+c2vPVexpyZIDRs2TM6aNct74G/Es88+yyuvvKI2Vk2DdIdBrZ0LxE3jF/2sf8R7o0iOHF9pjElQj4sXLyY/P5++ffuSlZUFgGRaxP6CyPP4+eefKS8vZ1BXyHT6k3ZyKW63UX3+hg6w/ieoroDsQZCcCR2N40wzcqJGeRS9neZw7zKqW5TxS1FpHeY+LloyLc95PMCoLGPs3KWwaxu0yoFWnRnVxv08AKZtdPjMDlHGsxRKq+GXAogFDsqCGMEo+kSMXaX/pk5/ph4Of9sNxnfA/Lts3ryZlStX0rx5cwYOHAjTFjucfD/nE59bDLucxo9wHj/te9uYoGRDY3PmmWdy8cUR+VSNihBitn2NcmMzrNUwOeu4prvWi5ea9udrLFwufb89QohvpJSHN9Xx6ssrr7zCvB+nMTgryqBt02wCPo1ppHh+7jTKGEUy06wrdZQ5l/LyckAtA1qpL9jdHcZJpoUL+M5ptEmHdeWwZSdkZqqXa2uhoAxapQDrp4UEfMY06BT5uWltoHA9FG9V4h36GVZATc/In60mUsCn5br/fKAE3S7g0+qZnD1tPRBve6Ea12/xtB22MRltlHgXbYFWnZm2lQgBDzt3H/8Z4TczfSBlKTSLg93VkF8BrUPpHdOZRrb3R7KSafRgFKv13z/Bxz5ZWVmsWrmSnTt3UrlgGgleeTBzi70/dNrPIQGfMQ2qgvYETc28efMAmly8A/YOGsXzFkIsMF9CrXNbDiClHOiy38XAxQCdOnXab926pqvnMrqDCltOtSd6H+gw0NaNXER4VR9Gjq8yXE2HFAWpr+qiTTps282kjZDWPvT+ow6nkYCEVTrUuhZWboKef4K0ZNh6I6QkwIDHYdFWmH4RHPye8QG3hm8+dA1sWw7/7A2JzeBvW+DWlEvCB5U8FXnuqfrc3wRMB85NI7a6vA6Q6fBaO2PbvMHKMLbNlMgioKYaHhsHA4+Fwy6C2Djk2SDu1WMqjH2cIi8A+9mem/fuqWfBv5bDlbNhbDv4eDQpvFL39oUOH2fey5m3g26Cfz0SFuu//1/glJ/hvTx4sB9cv/i0yB3kmzBGh0JKiyLf/2FC+HbWqvDt7eYv2frcQpczDPi1jB49GoCpU6c26XGb3PNuuZ+cdfSMpjoc4tWkfcLzbqw571xU0trphDLNt9meOyKlfNZK37fCxk1Gdx89U84I35SYbqPrjxYVwXOI8qdg226IiyXFYzFdwipCwg3QBXq0hxG9obgM3tNCdFwv9fjSXO9zuP5RaN0LOu4PFbthcUQupcu52+eZzchsmsMO0YQbnNMZK0thzosw63l/J2WSAcTGwXUfwJGXqucbbMLthFPGxn4Or5mc0RniBHyeB1vDO439VqmA1y8mJNyac3SaxGS3WjRjbHMYKS5CHBAQsNfQWBXWTkStk3sWGCSlzAWqpJTr9tryqBWEiuP9Gtwimvm7ISsNWqUS4xGhLHOKpQOTjlSPk7/S24PV4xvzodwMsNzj/BnZKjGbqS9HP4cG4SXcJiIPpp0H97SBt86Ddy+GhQ4ZaZYjmUTDFyImNnA/OyVToFUSHNsOaiS85u+rHm8z0xP32zNsbBtoHg/zd8GCw94Kf7OlUwjJhdRVykqN17McvPWAgN8CWQtVFU1n+wiNVmFNSvkuqsrMaCHEB/ibvvt9Mb3v6SjR9vn3zmYp2eYsdbxLxnm1zQBap0N8HGzbzVN5D4QNvQaosZkbE0ZBXCx8MQe2dIF+BSp6e343KD0syo5dlC0EupwB+z8KI5+Hc3k6fFzqpeqxwGZebLWZHzKBZtoSmsGyN6GyGGITQNYAArbbxmdoq69o/xar8cwcG+sbPqmLenwpemZ7PqH7Di+G2yyCf0BiLEzQUy2TN6AE2zI/jH4fUldxQwWcXg7vRlsPm1gUsqTfdlVCQECAPxq1PKqUskRKeR3wV+AfjXms3wxTVD2QeUvJZiltipdSOhnK3o4yOF+b+dkbLoSEOBieA7USXp0JqJwyyzzpAq2awXHDITEe5ugpy48Ph4eHQQsnz1KLtsUL70NSK+h7NSRHZGMfrMxLsK3Q+SZtfkQ102YAu/VjQhoc/yKMvh9qKiGrD/Qbp+a8LdH2QyLulYhNKm1m5ifMdhifYDOLE9pDRjzM2UnpkuPChj9OQt3XwA+dCM/PA5jukjg+aYt6fGU11EqjUMwcYx4kJQPik0IG7JDwRDW8WQNPO33/L9OCHRDwW1IrA8+7ATRWedSwhDQp5Xwp5dNu4/cqXkTFMi3TVH4FRedA8d8d9jGv1m6ZzJO0l/TSJ56CXRc6b2Uz4LFLYOurMNbRRTO4KPrb6sfTou3GAbbnq7Rt8nFsO4VR3us1Dha9pJ4f93/QxuUrW25sp6NEuz7hcL9jE3H/7KopkBQL4/VfcPJaSkmoMz+kUI+bthXavoQDY+DeePgqCWIq/s95fKsOITP4V5W6ZwFd+7EUGG+zgICAPYbG8rznCiFWCSHu0r1Q9x6eNCaHZ+rHcps5kHgsiOZQvQBaLeiOuvJpy/bTi+VlOG4RZMbB/BJu+SDcvXrM9rxIm9P8eec20MxKWT5bP76rzZzHdMC8LxlT9yGajlPCt3cREm037N53PaYhANj8KeQvhvT2MMJW+MTJAUy3mROm9+2SO+BKIqFihxZO3jjAOTqkMSVXeRY2XjFEPJ9QIMFvMKGyH0q0LSaDEHBzAvQx/6uzeyszBTs7tBKipKaUx2Xo6MuB2pN9nsyQIHQe8CsI5rwbRGOWRz1Zf/4HQoj5QoibdYu1PZsOxoWoGlfBtticByIR2uvVNql+qnDGGZY3FRJjoJ2+sP8jMtmpTrTdsNfVKNb2rstYk3bKPv/Fc6QSbMuc6Gpsr6d+op2IcgGbAd0Oh5OegjH3QJyL5+qmek6ecTSv2Yld9RxvMTILclJhQylMO9RxSIrNvJiL+vNa5gtLtC0Wfu069L/rplBQXcQBrdRS9bJaeG6lw8AL9GMfmwUEBDQ5jSXeUkq5SEp5m5SyOypA2xqYLoRougV9fukg4MdpyiBy3nuOMf4D2/MSZQOADhdCl1ugwwVEYnnfHh48V+pFzbOLSa0M98hMHd6SabyQSZ1or98Oj3yokp7DsHvfQ4B/E7mO2pX2yvpNDX/5RIeh623mhCnkhTiLZHwyjLgEhp4T/nqG8ej0mXbcPHLT+26G8zx2NMzAStUUiBFwdo7adkhcMwXbzCq3Zll62MyTyUBJp5AtutR7n9JCKC0kKz6TLontuDEztAxhfiHhN2jWiTgJduB9BzQUGcx5N4TGEu+w/2Qp5UyduNYJuKWRjvnb8bGPMVq07aTvBz3ugdTeMAaHOjQeHjwAF2crT7wWrnrUR/fUTMKTvVD/C0fcCde9CN+a9cRLMpRoD/FxLijt7c3ZKOH2wWZtJtFCBrW18OOFUOaRDbeL+sWWmxEp2m5Z5vXxyGfjT+CtrPO31kNp+F3Uc1F2zNHmJdiVVpeAX2zmRXxiuPU+CICJLY9ixcBXyYxNY7e+ae2WBnSjHncPAQEBTUVjifcDTi/qXqaRxbp/bzb6qDJntpX7LPztz6PN+bphF/NEoGAqxOyCCZlwdBqMaea66w5tEVWpT1Vzn2ceojYnT0MJtmVO/CV883OiO80R5AMHES7akdVUQ2zQZjHtRFj9X/hPNyjeEnp9B/UPczezGXh7z0kOn2166NbStPqcS9UU6NkBhreGkmqYcbTnLjnaLExv3B70TvhFGb9AcSX87TsY+zpIs2K65X23ylG2fonr8eNEHA9sCVWEW2vVGyg0Bp5rbO+HvwI2AQFOBJ53g2isIi2veI/aS7AWV8/zHmqfw0ysACqMDiRdHBLXnMTg5c7wWTcYnBIx9BOUpnlxtp5mfftHKDEv6F84iPj+NvNDv9WRWfTR2EikaFs3PN0uAGKgqhCe7wGFOsxc5aPFZRERGfeeJBFe0MXLq7Qy16PhlpP41CGw/mw4MjK7u5th2zwOATbRtpEYC0/PhU/XwOzz7L/gQ5W1yvHxybBg03d8WvQTiXo5xPJoX7T9iBTtC4PQeUBAU9FYS8UyhBD3CSGWCSF2aFuqX8tsjGP+ag60FWgpA94iekUUO3qe+d15anPVI/BZWxj6RgPK5xbMC9u8jE71cjwrgcpToUcpDGgLJZVw28FumWW4ek1m4dfeHIaKOVvmg9Yo0bY6dLmdRqdT4IgvQMRCVTG80BfWfAIvDoDPng0fa9cmvyH0BMP8zACYmevmuZt5EG5/oKFZ0MGqE3s+ANlUkk0lj/s4jUMMKzZvrk6B+FiYqNd0vLQQ6kTbD/HAgIMgP5ec+Fbc3+IMLklXpfocxduoDRAQ8KuRtVBV3nS2j9BYYfM3gJ3AaCllSyllS+Aw/ZpDfcs9hFqUcPuhEpW45tB8IzZFOZEbwrLOXfKKHeeCd4Ysoq5pJNMJ1RWx01cvjXrZFBoSIkX7VnNMiGW0YBktPM+D01AhVsv8YGWhtzgCDvsBRDzUlMN7J0LRWvjyEphvK/eZiH/Rrk86dzMJO36Bj6+C8tWQ6MPr9wqjV9kbuag7gWwqqV4NO46G7VFCzVZWua8Cqx/AJJ0u8P4CqDUjLVONIu75G0P1WO1nGJPCjZkn8EDLicTFwPoiKK3Sp15LuGg3rIx/QEDAb0RjiXeOlPJ+KWXdBKaUcouU8n581p7YIzDTu+fhrJIG7U+HmATY/hXsv2kgYerRxaVcKkCqNlDzQH/aAVkbuWBzeDr4z/irUHrXGPW4oxTmjS8iLMPq3uiNX37GSbSNyi+jbD9LtKVjdnYZZp+0bzkCjpoDsUmhUqhImHImrP3KXSTN0L1fwQYlTDNfgbv6wD3D4Zsn4O5h8O5tkWPbGGaywuE1hzT32hKo/AKq58B22z6norxr30vBlmsDhibBax1gQTeI6TclcmxKesg8iBdxdNOt21b6nSK0qsr8PQidBwQ0BY0l3uuEEDcKIeoucUKINkKImwgPfO5ZjHTpLFaCY3a5E+/Og13NofnxgITtXrP/cYSLNkDFOpV1VlQLxRJeCa3v8ruCqfJG6JEF2VrE/u6j1/3PNgP4yasWquymBLhIws8fwKPnqTKmdob6OFk7Gf3hzCUQnwZIQEBNFTx7MuTqijlO64+9vGzz9a6ENLW8FDYsh2atYf8z1PKpma+qNqKgwv+tiYySrKnPD6bI40YSBoLQ8/P//qsS7VOj7hUiLRdVHna57cWb1ddlQgZkmE1tUnKURZzIxvDtw85Uvc619YpVYZvl0SbiJ1GPUnABAS4EYfMG0VjiPQFoCUwTQuwUQhQAU4EWqDahez5ugm0ux/lGP9oz0YHWk9TjNqeCLfbiLOCeqTRJKXri5EJP0f7Z9rxu7Dr4+3D4y37w8hEOO1ned1tlQx6OcgAL2S1kdibfCt+8CF2NNPz6JncWAVu7wNkrVKF1pApjVJbAU2Nhi202vr6Z6G7jR4+H+z+BBzbBRa9A216wexsUfOG/JrrbjUPV/REvDQA66P+Cqk+8P3odSrTTcv2dilwcHynaU59x38H2vbXoFau+G8vs383VOC5NDAgIaHoaS7x7AvdIKXuj0oP+hfrXB/9pYL8PpmBHq1BmhdAdOjA1HwtxLaB0IQyeb1UC0Vf4jt6NHnuznp5j84nJhJoiuNMIDZtzocU4e+UX9oW7RkBKAnCZvR2XPvm28O58aHkLdL/L7Wzahyy8bD0cj3L7DtN3K99ODs1j+xXuxUSWj0vNhvM2QM7xUFsJMbFQsgOeGAPr18NMo3PGVpfPNm+U7FjZ6WkZMOJY6B0HmQJGT1LNOrZ5uNZZqCYqdtHe6DIWsM8tdLsTYhKhphj+ZITbrb9hv5KQebH1Unh0cSz7LRa8g4TSf3rvZIr2cdfVPY3wvOtzk/TPIHQeUA+kDDzvBtBY4v08IQl8FLXq9j5Ufa//NdIxfxu8EsQK8Jz3nv6LchazzlDb8yaD70nYxDxIzGMZm4lJhLiOUL0Oqhx0pNhmjjxpbM/D8eQ7ZEJBKWwohE22YmDfAw/66vsJDD1LifgvH0JlYfh7Ll2wPIlLgmPfgR4ToLYGRAwUbYR/D4enD4LdhS774SzYbuJjeuRHXw7/2QrHXBE5tggl2tFTBkLEg5kQ8AWXkNAK2urvR56td3qPEmWegm31ilkAz7wE7a+Ea6lhDpI3qY26ax357ncalue9PJ/oom2fabIvvwsICGhUGku8Y6SUlms0TEp5rZTyeynlnURWvt7zMbPDvjXeN0tGVyvhy5sEDMK5nKTd+05F3eokRnrkNdrzibPlrKVpMx3bT53OfZ7NnLg6g/07Qwt9b/HO+ercv3cZHkElMAZo0QH6Hq6KILRswIICU0dWoDLWd8fD/lPUWnCrzWXxVtj0C1x9KBTaoglbce/Y5oYpTB2B1MxQYpf1fmubebERI5v7Kcdh2bri6/aXoXuxEm1X7DcLC2wGDGur7puOR/AGcbyAnvi2vO/0bGVz7HV9Xagug+oyekv18y/fkIC038+ajVmsXuqmaAfed4BfgjnvBtFY4r1ICPEn/Xy+EGIYgBCiJ45B5j2Eab+AGBDarohV9oWZBeSAUx/wESjRvAAiC4hnRyaqGdRWQM1WIBb6Z8PbKNH2Ra42k4Mc1qZ1g1N1Rbav5vn4bHGwc/RhpA6d/2BM9P/aFtAxsXDAf2DkNeGvr1kIVx4M26LGqqPjXsTOv2BbIftUPP+mFp2AwaMhtQPsXgsnzvPYYS5hgm1naBvIuxQ+/D/JeGJIQlAXHkjP9j4ZCFWfGqvq6baKSaWFSKaYSvLMv199W6AFBAT85jSWeF8IjBJCrAb6Aj8KIdYA/9Hv7XlMs2WiVfRXou0Hq/On4fbKHzEqvANk28yBgvDXV2y8G4Dk9qp+iR8+BciFm++H1sPgxv4uA1OLQgbcdTYkxcPWQjjlv+FDH2Qh3v02gWHjICEZlk+HIWvD57EjC4yFcPtYe7KUEJDzMBx+e/iYDSuUgG+OMj8dazOv2YtmRAq26Z3bl8RZld08BdvyvlUI/TnORMRAN93ldOVLDrvMtRkQsdReh86FgFYpqJRQr5i+6X3nb8StZGSvGJUUUDfvbXnYZhvUMQ47Vzu8FhDgRDDn3SAaqzxqkZTyPGAwcDFwAHCglHKUlHJ+YxyzSdkEvIyv/tiK7jg2j3ase/JxyGartLSUKEtx3DLQ5y2B7TvgTTObeRl1gl3HBGjTHE4dqTZf1tMCC23myXhANIPBulvGt//y3scU7WjrxCuASgEj7oTDH4D2B0GC3nnrOrhiJOQuUX8bCBdsL8x66F5lVtvjXY41bAWB1SE98gfsoYMVa9+A8nJjeFuP8wAl2JY5seWe8O14/5PSlngv+++p/uayzejTPUHoPCCgsWgszxsAKeVuKeV8KeVsKaVbPvAeijFR/UUzJQybHAdHkgxyHoSLdpQi2maBltEPwARVGjTZVo30RSK1xolTj1GPuRth/eUo0V6m33RJQJp0mHqc/D0sMPL2zuWH8BcStdtnZpb3Plw9fvOE6hZmx/S+/RR1MbPWVwEjboCzv4PTP1IFXQAKtsBVo2DuHG/Btrzv+iw1syXc152XHfNnSYWQCjvzHGfSvB+0HAKVRXDBt1GHh2OF0M12rPs7fEHjk0Lmh9EXQ1wyByZ04+j4XrQRHpM1ZQSedkDDCea8G0SjivdexSinjhz1qa+JWlaWDDIJfl4In3t2Ls9zKNByoYqDZocmFC3xHqDNi09z4CBb2HeKmVDnRC844nRomwWr1sGlb3ntMMB5KdiIs1RWeE0VtGvAwoIM/M2pxsRCx0PglDfVc4DinVBcGP3zrSx0v8ue6tPwxHPO+0FjewPdgAN04tpcp5oAdjaioj0O897OuEzRLPwifLtoO5TuCpnm4qQD+Sz9YsYlOrS3/QEl2lY54cP8nlNAQMBvQSDejmTiWIViseHrvoNq62mZ5puZ6oJ81T8hPFUXYCBhHplDhjkAkw6se9q1Y7homz1VrdB5C5v16ghxWtNe/MLhNBIJ7yR2EcTFwVnak5v8vtNJDSDsFiL90vC3TwcSkqDjYLX91WPOP5sdSyusELqf5LbdNmt7PBz+vHq9tgZ2bIzMiK7Bfa23E4mEQuN+cBPsEqfchg2Y7dUGTVT3H8s/gXxzZV4N4c1dolBVC5XzIUK0Nzhnu6udfLZJvOkhx+96VIqBW4PQeYAHgefdIALxDiOOcNEe5D50G66V0UbtB21awop18POU1UCyzfzwXxjzMySoC9/nFdHrTyYQOX0eFwsD9aK85Rth9j/0G/a64g5MOkk9vvYxzK8Mn/ceytPep14BHHGjer55EVQbq9DtoXN7DlxlPqy+E5Zd7X0McwKm9zlwgS4P9/j5MPPDUCtXt5JATj2861utDcJFO+o0gHP/1Fs4hGZtoPsYqK2GC34hND3jY4pGSvglHa6aA+1mw1u1QKJHLdz4pEjRLjVO/mA9Ga+XjtX6ac96GD6KDwQEBPwWBOJtZ9QQjwFJkaL9gjHkFeXBTtRzzpONCKUjujBLnfEOxAlI03+eWZEXTnuHSyd+PgKG2KbbJ7+HrznmQX2g7wAoKITrfJTuDPPGrJvaIeMhLhGQEHdv5D5O2eWyGlb/XXmJFX46lhucdC2Mv1V53/efDr9MD3/fybn8rcqrupEEkaJtVs5RDNFa6Zh1btKdujnvf74Jw7+GJ2rUUaa51Wcx571X/+wyUFO0XQk38EXVSgYU/4slZpDI6la3jag3swEBUQmyzRtEIN6eJBFWhWK7R2mtIiANzhmvNl/7CKgyY9ZH2547e2QAVOj9viqia5WqOWuZWR7VqeDbIJs7/upPDqdhVmJ5GQq6w0VXwsVXQU+n4jJ1HKystdHBajwQEwM9deLazy96z2PvAhLbQssxIKtgxevRDuzMF8CICyAxTf2DXnA8LK3nwgZTlBOpv2DXEF60pMYrS6GMkcAFJ0FKM1g6E6aYWeb26PsqbZrjsqF1IlwTC7Pj4WlraiBxFnVF62kLa171Pvei7SEDGKJWDrxdvZgltdu47L6cuumX6hrUd92PYAeh84CA35xAvC2+X6cs4xjCBTtK6NyiiIja3IP7Qr8ekL8TPnjenIRNJKpoAxRVQ0mtWiueX811n3ufRg/DButoe1I8bN8NX1zpsNMom2nOuQjufQx69AofOoe2wHuEanNGYeyd+ufYBMVrw9/rGDkcgHba/czzytwiMnRevAnuPxIqiqFZFpTtgvOPhnW6pH59G6T4FewS6lWcRVGGPdvrUIaRlAKjT1PvfvGyMXwbEaJt0T8DNh0Pj4yDoTEq15GKFsq8KC0KNxev5J7EMbQSKUyryeX/XocznoGut0OV05SE2c/U5bwDAgJ+HYF4A2TeXf997HPHLxrvPaAuotb88UvvgbcLZwj5BpWwJvQ1ePct7qdihc/NTpkdb1KP1kV2spX97lQNTtPijvDtL1GiPcfXomOUmI0FcvYPVfdKitbdxUbrkyE2DYp+gs0OzbHdPOGy7fD+UbB9LXTdH+5bDP2OgPytcN5RsFHHe/0sTTM/O5qA+xXsmgGov45lzn/MMfre5YuXoXYL4aFo40YKWwJ4XAwwA2/RtrxvK3y4fp73uRdtoeXuXdwvlSo/9D28vhA2FMFPGwjvx26xikjRPj3wvgNcCBLWGkQg3vUmAba39x4GnHWREvEPvwUKTaU832GP50O2vhCAWJ10Vr0Ithux8kqitwlNz4AuWVCj50Hfn6Mc+jDudN73E5t50nqKc/vUk+5Tjwt8iPcuIDYF2ujO1vZuHdHueSoK4YOjYedSaNEfrngTfvoUhp0PnfeHjWvh4qOhaKefn8SbWLxF2/57iM1T5sEhVXDlQdChPWzJhZ/8VDWdYTPXAXba+r94Wb29dej8PPrSVi+ZPKAj5N4Ah+SooXIOzPgAbrgfqs3qawEBAY1CIN5OZIw2XhhF9PQwg0rgbnUhPuxQqKiAZ1+e5zJ4I45rgTaoGHz8ABCZ6qXbbvcssBrB4APU44j2cNFQKL8+ymC9CswU7MlsMV65QT8OtJnTwcdBQgqs/h76+QydZ2v3c+vLkCCje775JfDhcbB9LqS0g+a94Oa+MPlc+PpBuPQT6NILVi6EK06AstKQ9x0l+hCBWa3N1D/zpiURH6Jt9743IuLbIgSkpsKw/SDbLdCx3Gbm2ur2Th3gbPPeTpjed36uEm2DGATvM5YYYOZG2FEKLIWH3oYeD8PI5+GhH+HrNaiCyAEBvqmtW9XQJLaPEIg3QOFtDi9m4rre24lnYx2bdUyaqB4nh+ULxWgzF+8ODT3V4h3bEfroiqM1jmuvw1kJtCgJ2WCtq4d2hsePhTZOxbKM6i9nvx3tCG20uQi2xVhU8lh/ffI/+pjHzgC6jIbkDlCyFjb/4D62phy+PQK2zFBFYUo3w+q3obIUuo6Eg/8MKS3gT19Amw4w9we4cjxsqap/NTA/68M9E9sONLaXYt60Tf8elq+ANWuhtdkMZbXP8wCiZgdu+DHyNcvLdhBtO8Npy9UMolbCpa9DrYSlRbC6GLLT4IYDobsZtV9is/5B6Dwg4LciEG87IhbikpVFYFx8K9qHuo5FaWJy6kmQnAzTZ8Dy3FmE/8rvcD8X7RGN6AQj/g7tDoWxb4LZ1NFaTptmMzuDtCjPs1+X/0aof0UWYNRaMVEtWyzRtpgUPqiLrQK6vWSqJd5f3xNZLtX0vjeg/gaddLeOXId1U3GbYc2D8HE/2KqXO8layOgOw++ESavhuu+VeMfEQE0n+OcXkJoBP30Cd50ZeR4NLe1p98jN4jIVTrGRpTaLZNRDSvmvvEx54LRGifZqH+dSty7c9L79lNczMEPrQ05B9Wct5A560Y5kZu6A51bBtX3giyNgw7XwwBjoZom3JdgBAV4ES8UaRCDeFmbbrpamp2ThtcLaxhVqBdRJWr9eNbOIHZmirEc89Eng69hsmnWA06ZBp6OczyRa5WnL8563BeRifF9Uf7EZwFV4LbsaEFmHHKDPccozrq6AmOe9DwzQWd8YbHxDedhVxbBhMnw7Bl7sCDP+D3atgfhm0P10OHUGnL0Cht8OGV1hOyED6NwHeu6nnk97C266LrzkXH0z0cF/lbGoDdWvCD1dUAWfVJCcCFcMI8o8tkEW/uvtOzbext3jdvDI00ngEYYBcPNcaJ0ER2VD7FrgR5v5SwsJCAhoIIF4W4yM1rPSwhRso/LZC/oGoNBmwJlai15+CYc6pXegql1Ypr3OEglLK2FG5ByNeetg+lqLbclUnXZCZjPYXgpbogmO5X13UfbYnChj6zDKpfY23h6LKpfaXhe/me6jXOoGIKMfZA6BqiL4cgy83RamnQObvgQRB13Hwdh34cJ8OOZ1yD5QZQZaYWuzutdbK2DetxAbB3Hx8PZj8Pg9zjcbbvgOWWsSIVKwh0aOA8awhewHVGGai46HVplRPrcfqvyrZb4wRHvDXNeRdd5JlBD6eDpxFNnsrISbP0PVCzBrBrieShA6DzAIss0bRCDe9WK/KO/poHVh5DtHHAlt2sCqlTB9puXL1trMgbN1CbI3dtGtXOmiZb6u2QtAzofZyyC7pXppnv3cRtueD9fWxc8HQyhA72O9N8Bhulxq/krv0LmF5X3nT4fqEmh9EIx8Gs7Mg7FvQ9eTITYBWqIsWmLbjAfVTdMx58ElU5TQP/YXeO3p0Bgf1T89KcGY9z7WY4fPGaOTAbv/AzpdBXMfMoZYAaC1NvNkLeGLz6d672Je2MwOZF1DP4tgK/8ihwTg+WL4we16aHnfTkvHAgICfhWBeNsxvW/X0LkdY6b5vfAkoYRTVLnUCWeq7Vcng6tg13EW9E8idQhQWMtTH3ufRTMiW4UKAUdfC0tz1XaYeP9CSLR9sBo4jvlED9LbsNcVH3w6nPQo3FUIB/n8ynWaiKpQEwMnzYQTf4A+f4akFuoHbCFh1nUw9Q549USodCmmvTsP5r+ofhkHXgHv3wX7naze+/tl8Nmb4ePrk4VeQqjhiW/P/HObwRccAkByZ+j9mHqsI1ebl2APtp74acemMb0Rj2Q1xRZt0JNUbtSHuWwHVEvAvjT/J22BYAd4EXjeDSIQ73rT0rAoPbo1scAk7Ui+/hpQaYr3e7bnHwAfcDBLaa332RYlUXuHNjPKvV7fd3SzzT3OX0P4RLbJ7eGbj1X5z5cCoAroRngzEKsS7KFXqxC6HaMqXR0bgKS20PYYoBbW/xyeYAfwzV/gp0dg2t9hxYfw1hgoLwx9RiIq83/Go1BTCT3HwYrpsGEhFGyE0/6hvPEbz4IfvlStNk3BNrctgfZqehLGsYRPixwdfTiERNviION9+w3Xem2egj1VPVj1zXf4cOG3LA23lAPC3r616DC6xKnp+n/t0udsiXY0gtB5QMCvJhBv31jzhubErgPbiGjWMHgw9O8PO3bAu585TSh/gJlLnjURiIGdH0OxUYBtEUq0vehuCybMMwugO1XHMqaxvTlLiXaVz+G7iBRts0mJhRU6X2/cvfx4H3x/j0oyHPskpHeEvB/hncMgcbu6pwIoL4K5OjQ+/Hr4RPfTPv5mOPFWOPMaqKqCS0+Ar94CrzouFXgLdl0Cws82i84kbceuh7Nq4OVzPXexibYbG2zP2yozQ+Fu5OcqS24edVgysTyub3D+utMlb86czqhopiwgoA5JZIejxrR9g0C8TToNDt9ueSCOGbqO6LafM9qGvRo7UkVtz9JaNPklCG9KvTvik75nOAltofkY1XDr6Xr26kgDCg6EbvrUhYAVNapcuiNWxxODjwxRPo4fgM4288FBaNGWsHkWtI+yftsiEehyksoo3zETFi1Xr8/+N0y9BRBw8ouw/6Vww/eQ1QPy5sF/DoUivXZ67lNQsQs6HwaFayB/HbTuCd1Pgl0CDngIRp8MVRVw03hY6OAy2pe9OWFmCyaCt2Bb3reqbz+JPqoZ2pFwU1/YtsZhl02GmTM6LZxCGFq03bB732U7lXedn+tx7hbqQng8B3MSKkfwenAuQWsJtl20hdsdW0BAgB8C8QYY+g3MLlRWbzKB/fHTq3vimUpEP/oQ2Gm6cJEX3wHAUC345W9GvB3BK0Su9e6ul2anJ6ko8SK7GOcRKdo3uX++p7Nn0RPn+5Kl78B/9oevohzEYhUQlwIddbnUtS/Dwpfgi8vV9klPwRFnqTB6i05w7XfQdgBsXwbPHgJbl8KsR9XYg2+Cn+9Xz4+8EWL0qoCYGGhu6xJ303jYsD4UEq+WUOKjMbVngZYjje1PMWvZz3oXtqyE6kpoaV/EkKfNV25gGu4r/oGqeZGvle1U5ofSLUAOpvfyGOrb/zrwlf2NXcnKAgKiUkvgedefQLwNqmUNtdJwT1uafb57U6/qa/kQ2ws6Szj8IKishGeeiZbJE0rN7XIyHP4iHPshLDRG5QHLbOZEN12pK07r1bz+hAQB4N/RT319fKRoD+CV8EHxZ4WeR0mgp/vREJ8CG36A3mvCm7u40dVqdP0MfHSeen7sAzDiz+H7pbeFa6dCh+GwMxeePhCKt0LbIVBbDdsWQrN2sP/ZoX12bYEPdSGY7kNh60Y4awzs2A4/T4WjesLfHVqxVRiWa7xfYrbWAiXYlhlIyRP3qxDJ2Bvg3GLgJEJ/Iy8KYpVFlLF1KAZTVRhuJmb5yNJCJdql7gltnQmlS1xODBW70g3RbmgVnICAADcC8baxoXIbHRedwdfN3dQnE9+iPaOtY9fPSePU4+R3wl8fynLM9TRP0YL4FOh1DiQY04R+E8laau0p1Tec87e7j7VYH6/sf5/Dzh3wkecefaOLNsAxQEIa9NG/gFk+KtYkAZ1HQ0p7qNgOSDj8djjkBufxqS3gpq+g5yio0JGMvqfDjH+q5yOugUKbezz1cVU85sCT4JgLIKMVbFwOFx4LaemwbhV8/paqiQ71WxfOQsNMbHVEvy2FWeW0agk3DoUvvnEoB2CyEmiFFm0/uHgdRbmRr+1YGzJfDOM60ulNDALY6LmaQi9hE34r9AcENB1CiOeFENuEEItsrz0ghFgmhFgghHhXCKvjRMS+VwshFgkhFgshrrG9/roQYp62XCHEvF97noF4A8w5HIAaWcuW6gImF3zlMCjT2DYT1/rrx+gV2MYdC8lJ8P0vsPr75QxluRZuGBoxgRpOBpGibXYEf9b2PBno3AZS46GsGrJTYbRTLRrL+26trNN9sG0LXHoajMxRAh5JX5sBiUZbVTNYsQs1MdrzPOh+MrQzU6gdxs9AVWfrob3vFgPhiDsix9pXSGU2g6s/hf56XfL3/4B130FiBgz7s3qtAijaBd/pH3z8DfD2Q1CUD5ltYNFsuP//oP8wFTZ/933/om3lNdZcaLxxXsTQg1nKwSwl8z4V17jqz/DIU3D0qXDXA8AlETuEuor6Zinhou0co6msreb5os+dxTwi56M3ZhgyAcHHpDKfNLrhdEORRD2bngf8YdjjEtZeQLkbdr4E+kspB6IWRUb09RVC9AcuQq0HGQQcL4ToASClnCClHCylHAy8Dbxj7l9f/nDiPW/ePMaMGcPXX3+NNNybNvEqu/adoumUSONq3TJaBRPriu1RMvVIaJYG40aqzZef8z5fc+VuvMf4hdSlzfHjD3DtFdBZ5wbllUCHdOAq2w5WbXajEcb/HlPd0A4+Epq3DH12yI/8i/fJO4XFOx8BJ70LnY+EkT7GA3TX4l28TnnKEJpjdhLVhGS4/D3Y7zSo1NVX+hwLWemhzPYfn1HZ6F0PhTmbIG8NZHeDh76D5m3gx2+gXCcIfOajqUoe/vMa2YCVDV48Bwq/hJhUeHcivPSayouYeKrx2fapjqi4h7edeJu5DC96lOTdd3IB05nKZqJf4La4HqMrMSRiLQOzCve6zL8HBOyhSCm/w0hFlVJ+IaW05n9+ApzcoD7AT1LKUj12GnCKfYAQQgCnA6867F8v/nDi/eijj/Lll19y5JFHMnz4cN566y1qampgv0ySYxI5KLUfJbXlvNss2kSshSXaFkanrRW2zCMrhL4CJun8pclfRYZHLe/7YAo4mAJfVSfN4Kzl8910HTz7byjS04+9WsBB7YEfiNpQZVc5THlUPb/kJlgHPOnjPIDwueADjPfGOB2M6PPeM4DmfaHlUKgsgh8/jF5NzSIuAc6wLVxf+A4sfE89r66A7x5Rzw+7Cb7VyWzH/B8k9ITrP4e0DFg1Xynpz5/Duq2Rx/BMVLPzPnbRBvieTmzUEf22F8O2F9XKtVNPhG5bUDXCvQS7p5X4aPYtdSePXB5mBkN4g9OYzS/kU4skDsE8xwWIW4gm2gp7vQPr9tEHwrtOQsC+zl6XsHY+jskrLAIOFUK0FEKkoApEmzUkDwG2SinrFT9z4g8n3o888gj/+Mc/yMrKYtasWYwfP54+ffqQl5dHraxlUgvV/cM5dG6S4/F+guO89xFDoW0LWLUJ/v2v0OsnazvYI3xuYSWqOS0SApioHdYtWgCGx6CE24lbQhf9Z2ZCUTkMHgUtTQF2pRkkPu5v6Fab+SEJ6KN/mGUOncZMrFBFfCKMOBU6DVCFWl46DWZPgVmTYVceZA+ExFjYNBcy2sDBeoF150FwzUeqqIyUqqTrF/pGOR/Hv6kjNReiRNvq5Wrc3K2uIv9NVa69zfmw8xn18rheMORKWL6RyOCdfXunNk/BtuauC/knK+nAV1zPEuaxixRi6UMaT3EQFfyJa+oW+JuCbYYV2hrbSXiLtn2FReCRB/xutBJCzLLZxX53FELchsrAnGK+J6VcCtyPCrF/BswnMltzIr+B1w1/QPFu3rw5t912G+vWrePJJ58kJyeHlStXsmLFCn4qWcqWqh0kiDi+2j2Hzdk6MmJVpWrbx8cRjDnvgu7hb5+uMr/PVNPsTH4vJNpu2L3veCAF9+xyO+PP0F0x9TUz1l7Y6iCHaiP6ejpNp5af6bmi6z7CC7J6UESkYDv36oik50RVlGX9Z1BsZN1tw9kLbtcTrn8L7p8LR9wKtTXw6iT4VPdvH3MjfKVd31HXhFeA63Uw3POW+gUCTH7QW7AtjYxdGLJoPLgbauGYs2HSFnV6/Q6Ea56FBWvhgbcc9inAJtpu2H8/1rq3QgAGkUQsgpNpw9vsRwFjWMJoLqEvMcQQEmw/HkoSrp3KgMibimQC0Q6IpMk973wp5TCb2VOFXBFCnAscD5wlzTlXjZTyv1LKoVLKQ1H/rStt+8cB41CrKn81fzjxtkhOTuayyy5j5cqVvPLKK6SmplJFNXdumUytlNRSy/M7PvNflaruIjbYe+hGmKQdnNd+Vmt77ZjR5QEo0faa77bIA44D2rSC2/8Ox4xVr6/2mXT14Z9h2tVwg7Ga7Tug3vOYg1GivakAnr8KSv8afbxT+PwbIKUNdDpaLfv66jX1ut+wdWws/PluOPM+5UkXb1eLqVt1hRXfQFIzOPiSyP06HQcX/0c/HwCbjYo19pJi6dq8BJuBUCUZNWU9Mf9Va8gn3gjDjoQnf4C8tbCtEI4aAk/qJe0U2AwiK6xmmaXzYnGr33oEaeTRi3fJYhzZJGItMZuH//ly6yJo/m90dxibjKdHHoTOA/ZwhBDHoKpgnCilLI0yrrV+7IQSaruXfSSwTEq58bc4p/o2OtzniIuLY+LEiTzzzDMUFBTQcm0MU4tV7+o3dk7lL5nDPD4hB98XPZswDeoE/TvAoo0w5AZYaEScfVcn1azHWdxvuQ3WrYOeObDKvoTXacblylh4ogYh4FDbddhPGdY60h+HbVdFvv7WXfDZE5CYAuPvCn/PFOxdOJdM7TUJ1n0CKydDosP6ayfsJb9PvgnSWkDnARAbD6/dq14/+BJIyYx0NsuBw8+HfodBG4eExQ2oFJWo3APcqm4aZk2HyRUkvVbBtO2QtT90GAs5fSA/D24/DQq2wMi+8O5fIdFaXD8CH1VWvULn+UAr4hC0JA7VVaU+yW2F9RhrF2rzBqKSyMTO3vX47IB9DyvbfM9ACPEqqu9iKyHERuBvqOzyROBLlXPGT1LKS4QQ7YDnpJTaReJtIURLVMHoy6WU9hjZGfxGIXP4A3veTrRo0YJvezzMd90fIS0mmYXla1mQaUhi1KxzFwq6hwvUhSoP6hy9WmryjNBbx2szMSO2QwmVCHeb87bo0AHi4yGvCkpWEBLuLI9C3a0ihfvdiGbZOgRNis0cOE173BWl0OHj8NrvfT1+AFD/Nr1PgmYdodVAWGV4wdtsz60giFOvjiMvgh4HKG97/jsqse20a1S2vVtvD7twbyA87+wLY+w247Zr3UVw99fQ51MYvgueqKB8O2T2hS6nw353wLM74PqjYNNqGNoHPn4aUh0LhTtgJQemm33fnb4VJTZzwhTzXMIa0/vC9L7dbip62wwQJ9TjGAEBjYeUcqKUMltKGS+l7KBD4d2llB2t5V5Sykv02M024UZKeYiUsq+UcpCU8mvjc8+TUj79W51nIN4mcw7nkGYDwxPX6t1Ozp8nceaBulzqPDh0Z7hoX1Svk3bmGCChBJLLoWuOem2NV2ONVsrW1MC3i2HEU15HScBVsC1GoTzeLF2H9fV7vD40kk+B+GS4KBeOfk55zibRpl8hXJy/fEB5w4eeAy3aeR/futHwulMC4EplRZdCj5nwlzJYXgutBVyTCLPTOXURDLwBKnfBvGNg7WLo0wU++xdkeKUQbAT6UY+CMW4t0BqaWW7H77SSRTqBpx0Qzl6Xbb5HEIi3nUVVcLJK9pnUQq3nmlLwNTUR5VJN77st9f5ynJdA+1o4ojtU1sAyj3xHp8vdYca25YuaPnDeFti0WT1fYeY+ZtVAos3OUy/f/iYc/g/4ehEOmIVojMy21sYC9gqU8B12tdresVb18LVjed8btS1xOi6qaIsbZuF1J3HThWhITAYElO+GLbbJfbvAJ9nO3Q/WzcOuqWr7wQ2qPvqIZvBxGmzKhEdSYWgcNwm4shSWHA+LZkHXDvDV05BlFV4za5l3JPS78U0R4aIdrU57Ic4ettNr9SWBUFIARNaTDQgIqC+BeIMS7EXhYdgDUvrSIT6LvOodPJS0IsrOPgW7ujtUJ4RMM0lPqU+eFbmLEViklfdRHH3gtm1CSdNfjtcvbk8ImQMtdD5aQUl4jZA84N9+lrI5deM6+BJo3kkt0+rzXej1jTRAmAhld0cjEefEtv2OBCTMeB2u7gWPTIA1c5RIennwdoqAN/X45UvhmkvgaZ3A0DFRTec1i4WxCRAnuIoCrqKAygq4YpyaBm/THv7zHbQzCuWw2WZ+iDND515UEinahU4Dqd/NaXvqs+5c0RbEbxFvCtj7CDzvhhCIN8B7WeHbnQYghKB7ogqnPp3/ocNO5hehrfG+3Vd2V4NxAyAlAX7IhfRb1Upgyy533CM6ZlT3+FQVmj9wuNr+9ktcBbuO80LivaMSLv3Yz5FbhFtHo/rfiag7CKsxyMyXvAXb9L6dyiJ44Vb8ZeSJ8OJSGHu+ykb/8Q24eT+4egws/jq8eo45F+6WbLA+F/73DPznSbX/+CxIEPB1IWzM5Cp901NbDSedBdM/h+at4IWvoKM9mLNIm4nZBnQoUGozXxShRNvKUPcSfKcLnrmdZHv0e+eTS6hlqfm/ExAQ4EUg3lH4W9tzAFhbuYUttYYKtPSz5tvjQnZ9AmmJcIoui/7yTO9PLDLM1zLpBXDq/urp6k1QirFEscIQ887QQpdELYhsNW5gLRu71vs8dgF9dbGVuW9BjaF+0RLXqvNh13vex/DVs1TTvzfc9V94ew1MvB5S0mDml3DfkfC3/WHmW2rxtV8OOwpat4FVK+CrB6D5DjghFXonwEY1XyFr4asLYPXb0CwD/vcFdOsNPeYQKdrRfh+5+Iw+FxOa8/b7s5heSqGPfbwE2/qsHJsFBMAeWNt8ryAQbzc6DWB0Um+axahlL3fgQ1kjyDG2exrbsVAJ5wxSW5PnRpZLtXvfLVCdw73oZNhlB8Kh+hg1tfDeHVWRO3W2GdBCJ01Z4m163/dSgO+13tXazgBa94aMjlCxG1p4rPm2qC2FlTmw8VT4wIgh+218ZWGFz+1JYR06wFUPwrvr4c//UD2+186GJ8bDrX0gb6r3504GiINxE9X2+2+ox/9lw+IcOCAZKWHaVapIXHwq3PcJnCS1cIN31v1avEW73qFzCBf3Gtyz0etDjrHd1uE1B4LQeUCALwLxtuhvy14u3aUMOKGZ6s38ZtF0lx3td3SZPg4UORd4RHfIbgarC+CXy4zRhaFgtBdWkppTq9CcbBU+B3jxE+tV97BlC70ascCW4+R3aZr+BOg41bmVcwcdw1/wWug1t/rmS4CYFEgbA9RC0SsOgzzYhb9iLunN4bzb4Jt1cMWT0LYLbFoJH/4bYub7O9b5l8GrH8Ff9RryZjF1v/gnbm3BgichPgH++T4M8GisBijBtgwi68Wb7RGq/cwxmwJvFnnxgx8PxissviV8MyNHWUBAgCeBeNupra4TbYt/tFFztAW1xczKsP26ynZCSkPm6rqFb96STGwMnDlYbU6eqwTbMidM77sbnou1SEyADnpq/8uZsOVO44Jtb6ICtNAaUFBKeFszG/dGxKivxdetxpF/V48l2yF/UbhoO/XqAcjQ4fYiHx2+6hM6t8i0WVIyXH4ZPL8CDjoZpr8JX75gnI/L53TrAWOOUwvrC5aFXv/nKrivgNhYuPNN2O8Il/3XGOZndqY6NmSONMQbt7CmfvyIdRLR570LI1+yBDsQ7T8wksjoT2PavkEg3tHI7kWXhGzaxSkx+lvei0q0y6IWlrZRjt9knEk6rP36AtWK087ZhZHj6+cFw/MHQk8tOGP7QHVtlME5qnoowA6bsN7s2uLMRwlMizOAlL6QolOrM2+POryOtLEQ2wIqFsC7C8Lfq2/oHELOZpS6MsTGwQTdtnfqq5BWHX4jYwq4WTsp0Tq5tbC/gHS4bTIcfGJoyHR70sI6/JfWs5dMTXeqYlZfzH3Kqf8ablPgM52HxfcOmROZdzu/HhAQUEcg3nYGOohPaSHnpqpFt8uq/KzZyaR+iRFlUAuDsmFAGygog0+ucx5prq6OxmpgmM0Auum1Zkf3hg6ZDjvlUDct2ULPIhS4ZGuHbhw8BLvLVPVoLh3rd6Z6XPN59P1Bh84TIX2CPrjhffspVmLv1WH9Er3CFQC99odOPWHnVthhllNzwK3e+mExsCaev08M/+sdAkq01/k4F1B/2CzPUZo4m5k4eeP1Xd7ln5XkUMmASMEuLfzNjxWwNxJ43vUlEG8nSotCBtza/CQ+afN/rO70SGRnsZScBhygBeriqS+gusLopCHqcfI829DdykzBHmtsZ+vHDFyj3HTX4r3KqrX6yHrCUtu+CFUGsarCFhaHupLRKtLbv5nlxlEusT1vqcxJXEdqj7u6FA74IPw9z9D5FCirCb8ZWGaMdQqd+73zsegEZAgYoTuBPBhl8Z4l2Kb3XWL74Vuque9DbOaI6X23QIm2UzKDI04/pEOSoieFxrbljftbDpZPJU8SwwGspCcv8wnrolcpjEsOWauHG3C+AQF/HALxNik1AtHZvUmLSeLY1MG/4kPbEurj6B5yP2sQxAj4aDkUbEAJt+b0Da67UaXNbRrWYt2f1OPqBcAr2lyIFZAZp7LfixKpqxBzrymSESRQJ9punAMkN4cWOvt++r1eH6pIPgASukN1Hnz0tfd4L/yujT7idPWYlwsFtoXprYEeeCfCASOoZHhNJSOcQtqnOOxQ357niTX4vztx865/zdy4RTlWCOdO8riC7/iZraQRz2anLPaUzJBgB/xBCea8G0Ig3ibfe6ycdvIcIrxva547F98Lcm+DdklwRBeorYUffeiZJdoWZrXvz2zPJwLn6Fy5VdHCzJb33RFa6OtpgefEuhnQPyv87d5Gm8xS1I1JP+3JbvtFJQvaMb3vJais7Qxd5KUhiWt+m33YyQQGHQyp+tbo69tDJVb9kApQQW05zM6C+b1gwAKXsZtsZmJmKfbCuYpdVGoIF+1oc+P1SDoDwjP+FJPozTF04hXGsJXzucwKKVSVK9FO0WOrf4ubhoCAPxaBePvBbEzi2VlsC96C3V49pNoMePxY2Hw9HGcuCUeV27CbW8KynYna5s+DebPVa2sroMZaT76/PQstU1lHtdVCe5Ru4m2F0C/Fq4c1zpXABlwGIhZkDXQxeqK6VV6zxHvXO1BpW8eWSMMS1/yQAIw+ST2fPyPqUAB+IOxvCpD/EtTshPIVUGve/60iUrDdsszrlalYjfoXt8wPpmhHy92wxmY6vjucNnzKiUykJynEhwQ7xXl8BNn/9jcuYC8n8LwbQiDedmbmQ+93ID8XiraELMNPxvgWwrsx5Rjv28OCOk04lQh6t4LW1uv/DX/v/Cihc4sUwy7Vr08cB38+H1q2gkoJGy2n65f2mB6ThSXeO+zn0QLu3eY/y11N4A6ILAX3JyAmDtrqhcuLnvaucb4ESOgGyQeBLIWP3vW3ftuOKZLRQuf2XK/L74b7Xod3lkUWmTer4pjU1LD5gdBmbLLu/7JKG6gWcNHYReQvvbOxnWh5sNES1Uys/tqW+SnQ4iXwtvXbLbso8xJsy/uOTwpZQECAK4F4W8w0O2Z7UFoYbr7aHFpre1x40P751AnL6nVw6GnQzew05TDcTVR79FKPrXSm8uoFrbRwO/Bf1Zy0peV5J+O/UgygblQuxNe6p2E6W69oJZFdy13IPEfv85L32Ias+TZ1Lx1o0wGOOj18XDrhzbLceOcdKlaB0PMaOdGW6dnZRXjxmuFRxtaFz70E27prq8/ahUzDvFZStA2Jthv26SdrzjsQ7D8wgeddXwLx9ovlfe9Yq8xX6C8U5K5iNyVhNTmBEqelaUR4g/FxMH0mrFkPvWz9PnYS6k3hRS99b5GqJ8lXhZU+mxu5Q1to0Vw9LXCYkvy30SZzPAvxvdYblE6fALQ5FuJ0qKHvnf72TT8dRAKUfA0fGK50Q0Ln5i/QqSqcnUQiBdvctlaVyZfhftUyNV5Xk/18NOQ55dsdQ/j0go97n8g5b7MYvf1OwUpU85tyn4k/sQZoSzmtuIU1FFBGsTQm4pObh2/HJ/lLVAtC5wEBjgTi7YaZmJa3TIl2vVAdRyZTRnu285iTzJpxbpMnoFN76KjXgt35qFfOejitgL8C/fQNp1U7fbWrQoXWqNclrJUBj0eOzLeZLwa47NDhWPW45nXvz1gCxDaHtOMB2bByqQ1JXDPXbzeLMhZ0+HwKbCuCDi2gf4e63311GWT2h/O667HmjEs0SgxzCZ6E47V22564Zs3ZZPr5YCyBX88mRvAm9zGHlvyX5wo+iRzqFRI3/+eC8PkfhGDOuyEE4m0x3KFbdt6ykDkR4X07h85bEsN2anmJMqTV0atFmTLzu/SCwwfEwXlnqKfTflLZ6HbMaHoeSrTtP1Evnb1drL3oMM875U+QMpgwD+vuI0PibVxTa1orMxkf0bxlRCglPtoy42F3qcfy7XCcUy9MBxq7XKqJn3l1p3nv7bvh/dkgoapYCWjXsyG5DYwAf4INIQ/bTz30sCQ1p39xp+xuI8MuKpnYE9W+ZQv78QkL2FE34hVWhIa7ibBTlnkw5x0Q4ItAvO1UlsCWpSEzMUN/PhlDAq2JYTk1zKJaibYfbCHRmy9XK6Uqq6DNvyKHerV1tsR7i3bZV7Uu16L9J9fDt9DXz4IyID1StM16JOH4DKGPB5J6Q1IbtT3/r977ADQbCzHNoWIhvGF4eU0ROgflfdvNvBFbdhaU67uWGAHVasCZN2jhdsIuzpWEloT5wvKwi43XnbyNBKLPexc6vJaJ3SOXSB5mCUfxNflUEIsqQpNCHL+wjWUV68NFONr/TzTB7vS8+34B+wiB511fAvG2c7CRvtug9aem992fOHZyJtAcWGP20jZpTuQ85n2QkgID9fKhh58JveU3bP3QREhLgN36R1q9E6TZf9TA6um9Q+tP7D+jHyMP8BTtw2zP7T9nji6XmuezXKpIgIQctb3dZ310O2bovD7lwN1KoDpRriMDhSEXu02v0NtPOSUhVtbjfCrR5VL9ljR1E2unLHP3amolVHMWP3A9c6hBciitqUHSPaYFMcSQTiIbpceaBCtJzS7a0SqwBQQE1BGIt1/cGpK4Jq6VY58/vp1Y8ohngtNFtgYl2pZj8lnkEIDr/qweFyyFzaXhom2uxLKvvM4G2gnopcW4WQKUVMFW84Kdopdt6QnYFi90BXRnMRfybAZwMNPCB8SPDt+uxLmwyEAtwDVlMOp99wPaydQL4crnqjKk9qIlfsqlVhJdKE3vuz7L0rppK9YJV121YCaJutasdew2zGSgsX0Q9RN4kokU7Wg3ptELtKymmIP4llfJJY14nucQ5uhVFKtqCyimkl1UUCkdvJz07PBENS+xtsS9WwNyGwIC9mEC8Y5G0Zb6dRGr8yIiL0jNESTqsCIF+iIabW2wSSycfTokxKuks1SP6HIRSrSzba9Z4t1SXzdXT3jU9uZhymyTsC30jYZTtrlVJ8SXzHqJ5OlAQiaka5d0oc9yqZkXoOrK1cLbD/nbJxqFv/4jSCS862u5/i4k6H+1lNC/3JHaItjP5bO95kbCKKZe2f/EEinahRGjPmMLw/iaBRTRk2b8zIk8wzKKqUYAB8WoL3M7mnFkXDf1v1Pfeexg3vsPhkStimgq2zcIxBtAXATTlisryg0VZwF/XY/MC038AcYA2wLd1EplXoJtet93Q0wMjNJzoi+8FrmLWXzrTeP9HXqZcpJeCrzqPWyiHUlLS7wtsUiF2Cf9FmjpE7LUS8PfOtxheAXQVZdLLfPRvW0J6heSOlptl7r2Kw154yuN17c7jIX6TY8lEn21gCXe8erGLS6phqcIF+2Vx0b5/GptpmCba76zrJONdjImZYRnohe6jpRI7mEtY/meQqo4gfbM5Fhmspmf9S/yXoYRU6tCKtcnHUxCfDN/Ncst79v6PwpC5wEBngTi/Vvg6SEUhkTbDfu11q0tGHDn/6nHDZuhSIeCrXlvr2XBWdqxrSlUj6udxGnIY3VPm+uL+s4yqK3H8u3eZujcDfNuo9ulMHoaHL9eJbL5Iftp9Vg6LbxcKqjQue9kL435O3Hb32/3zDIVtmgWpyqtxPhxJisJibbFMJexYPPG/Qg21K9Ai2IlpTyo+5beyUDeYzRbKecSfgagNUkcSBu+ZyuZIpmLUqJUFLJPNdXHy+79jveYgL0QSegL3xS2bxCItx8s79uscR6VwjrbRjXbS4xENtMLzCSqaANwNxy4P2TqgiClN/tfYz0cOFyL926dp7aqGtjmVCFdrSSPo5B0BLUSdtl+5BZPho9+nHqu9y4hMt36RFS51KxD/X6KLpfaFZIP1uVSG3BxN0vOOs05m3gJtlXeNf5SqH4OAKGjHcJFo1YeS/jUwhCPY+wkMoSeap68PafBr2AXOm6PYwE7qWYIadzOQKqo5QymU6HDkHfFHMKcmFJiEVwuBtHM/oM6Ra+8BNv+PxaE0AMCIgjE2xG7OBcqq28oL14Vq36EfNqxjCdsa2DryMStrLjiR2M7EUiAk1X1Ut772Ps03iQUYe3QQz1u19M+q82b0Oyeymy00F+RHUZu2zqb+SL17lBhET/4L54OmfVY870SM5ew/kQLp1sdx+KtZDo1WGjBtzTtVD28R0nIPDG7yg7y2iEJb8H2l/WWrL8HKyilghpuYi5z9Ym0JolzYvpxTex+rIq7kGtj3Cbto+BWoCUQ7T8IwVKx+hKIN4D8j/FCoc1ccLrYODCQJGqAlymsq7BVNyW52BjsVCPDYVnSXbeqx6JdcO6n4cOjVVhPSoE2nUJf31XVwKYuMPfCcNEe+1PdU0u8C0oJtel2aNVt5gL35mlUX0/LfDCK8DD6GH+7kT4+VC7189+gXKrpwHqF3pOIbBNa8pR61OJdFKuy2GKS4GSUeQq25X1bHvkoj/F1J2NPPPNa7uhniVlh3QLHYmq5g5k8xjIr/ZLrGECSDi3kiAxaCh9zLE7/L34EOwidBwQAgXjbsOZDCp3frvJbCiuc0aTSnjjWUsUPpa38T0u2x7n05T3QoT101O/d+U9/RcwsOurQeSJQIGGnx51onXgb1/ghDglzoKaZLfNkDCGx3loMs32URzWpK5d6Aqpc6pT6f4YVOq9Pf2xTI3e5jNPiTYw6SOtojqQ9i61Mm9/lYCWxyqI1vqnDa8K+0Ngup1iHx7uQzCP6jkgC6cRzidm/ND4pcoWGW+JnNMF2inYFnvg+SFAetSEE4m0xqp/xQgNiqhEXlgOIpZCzSGIAcZR6FWhJQK31tou2OTeuuUBHir/7IbJcqul9/x9wSImyA9TS7bpkNNca56ctAYoZimQ0saTcF7105hacBPsv4Zut71aPpkhuXgQ3Nof/TYSy3PB9/Hrf9tC5WXzG9L7t89z1EWw7vsL/b0C5XnFfpc4pzvYVud38leYSEm0/5KO+KyV+C7S4CbbTBS18bqFYj1lLGRXUkqXvWi6lDxkkKKFtyHIwO25TU0EIPSAggkC8feEyQep0sakqDJnmLtJZQBvGOBW+WEn9En/TgHi46YZQudQjzKi/jYi13nre24rCr7L89U8OhZT0kGnuJ5lvSeMQh1aTWwjvp+HQisKgjbNItu0LCamAhPUTPD/FkbRjIbYlVCyHz3O9x3sJtj37rgJ3z9qJ1J+V8Unoa/O2+j3HmV+BXJs5YRZoGUw9swNjUe67X4F39k5KjBDAdspJJJar2Q/ngi4OmALvJcZugj3A+5sWsLcReN71JRBvVwpRsmQT6KrcBnzOsSTUzQ4C29vXf6VOAUq0dUtJHoKkJBik14Y9bNQ6jydStC1667B5dbb6Eq9OHAQZFyjzwuiAduwHfk6+jc0cOBG1Xvu0R9X2upmw8wc/HxzCKpfa4R3omQcJDn2kK4juZZtZ5/X1yGNR3njqz+Gvl+sogI6OWMueJ2iLwGm9n7mkzpNi/K1js3C6sIVCCxLJbofiFufSm+xozUx+iwItwZrvgABHAvG2M6ofnolqdpwuLClto+xg9ff2wCM5zOL6q9TjwsUgSpVox+v3zB5pp+hrrOV5F1kNSmodsuAtTtMLyeOKIK6I/HHepx66y7Ds2vC3Oz4XuUsFMOQ8yOyotheeHf6+39B56qEQZ/zCrKDJGmOsKdbWeUQTbNP7LsFbIy3x1n+Y4vJw0V5sztbYKYJFS2Cn+TUzy7L1rKH+d4SxhAu2u0eyiaq6dy+nW92t6A1mIqKfgkYmdrH2W6AlJRNGzKj/sQL2XOKa0PYRAvGuL+Zab88LVi6WaH9CFWdQSr55nbRnnXut9bZIgDPPhoQENcXb8W4f+8yA9rmQkqhEBGB1rS3B6csnIveJU+7e57WQUwOvfuf80VZZ7tf93Jy4MfFF9VieC5t9LPuKxjco0S5eD7/cCgsfcR/rtmzMd2g6CuXNAMjsDjEJEJ/mMX4bdV729yvh0Ieg/WS4/gfY6PSr9d3c3V5Nza9HrjLylupcjRggkRgkMJ4O9PBsau5AQwQ+JTPcAgICAvH2ptDY9pN1nkv4ROb+ADxBJa9TxetbjBBiJt6ibW+skQ48qaLNh+nlQ/97KXKXbobdcJTap6fNYVpV6yc7GT6XytE88yG46UWo0Tcgx37sr66JQtfa7mhkhFvV1LofBu31+qjlV0F6jf+bmSUurxevg/n3wqKHwzP7KoBVhIt2tL7fbrXZTW982wjgmpBpz3vwrfCnchj1gsNnZKFEe5ve1qv2PlgAO0uhrAoeng9dX4bzv4FlG4gU7Swzy80eY/frkZtzg+qE7tJtZwTwrM7+u4leTh8QKc678hyHRcUsl9oQwQ/YexCE31c2tu0jBOJtZ9oMYFH99ystDDeX1dbn6NjpZKq8C7SYotAaJdrp4S/f8Vf1uHEj7DYqprhNkVq9vWNjIE/upqTzYOh6oDKTk9WnPBQDT8So7/4/34Hj71ZlU71JAG7Cd4OMs3SX8KpCWPL30Ot+y6WatBkJaTlQshFmTK3fPHYRkaIdzRu3d4azKFc3DAnNqesm9ijQb1vI3LhIVxhNiodxHaFGwv+WwdvrgaO9Tt5PGN1fiP0sWgBKzoup5kjash/ZKM+80Ndn1Au/c+SHud2xBQTs+wTiDSCytXD7pWFrvk+igmbAz9SwYrHxq3e6DrUmsviHnSfhgAMgM1Ntxvlsa91LTy1n6Ovjmkqbd7R6luM+ogVc0RKeToOWzeCz2TDiOli6AU43Kr2p0Hk95l+rgVP08za9oLeqTsey+6DKwa93q/ti/g5nACIGuus59JU+QvGLCE8Oc5obNzFFu8pWGk+Ld6z+XV+mzZOe0KMFHJAD5VUw7jBYfiJc3hMu6+m2kynY5u1bfZqWW2xjqJGUdhPRJuqJnMf2s+bbK7HNvk8QPg8ICMTbZAFV7I5Y+1z4Kz81F8giBcGpOt3nZbc136k2M3Hw0irj4SQtfB/66M/5xlHQS0eP4/Vff1WFSxev/I3KtDDNroLrS6B7GfTvDCs3KwH/UCdY1ytlquMU9z4BZ7ykRLe2EuboMqOJRIq2z8Jt9NBrwHPfgiqjPZdVh3wX9VsOZidajVgt3uOTPETbroe238s5urbt5F+gezP413Bobu8pbm8TmlqfmrL+KbZFTeIRHIFLUmZ9wtymwJs4JoNmBqK9LyIIEtYaQCDeAFJ5nsupYRA7eJM5v8GHtsVpAe8kLd6TkdTa9TuLyBaVbtOFHW0G/E1Hl3cVwUSjM2YRqra5ZQC9stRjlZ63Xm2KtyXaFv1URl2KgDQBP1dDYjycNAJ2l8FJ/4D37w6vjfJuRKUvnRpfV4UkSsy9WRYMP189X/8KVOaq56Pdd3FlBpDRE7KGQ1Ux/Gi7w7FC4l6ibVZg2xRlrGYEPzGCn0gTxcSkwcPGrMFcM5qyDsebmdOHQnwsfLkM8uyzMTuJbAvqC9P79r7VKrZlolchWcyqyEG/pjiLC7Wylm+qVnP19hfcRTsInQf8QQnE20Z6nbBad/3hVabCcQqdF+K11Gw0ymHMBX7IRYl2lo+Ta6WtY/jLCW9D+w7QSfcHv/sO74+yxLtI/1irOj0DGW1D5kKfOJieCV1iYPYqWJ0HV4xVov3KX+DBCVDuWHnMWiLnMUluhc4TgdMfgbhEQMKMc7x/KAu3a3kP/RnLJ7snn1nYQ+VWCN3vPHn8FIifws+8DEBFLtQWR65gA7y7u/SClqlwXD+olfDKj9QjuxxUhoLf7H/3IhbFOjyRqP8//soavJM2DKwCLRZRvPPauARuK3idLisv5IjlV/H41jd5dtv7QeLavkyQsFZvGkW8hRBdhRDPCyH+IYRIE0L8RwixSAjxphAipzGO+VuQRQxJwFQqWY9RbMN1njuawB9gbHchJr2Ws7Sz87OfYj/VhC/adrnQn6drrEz/LrJc6pfG2E9ug/YZKgEKYLWf5h39FkNz6NoKpneGPgmwaD28rFt3x8fBjDfhloNg61roDESua788/DO72NZ8WyEtKyScmAZjblPPt0+HbTqkMNo4Lz+h83Kg3QTVl3PzZ7DIKORqJqHtwrsoit37TkR9PeLDs+hlNVTlAQLidcWcIXkhiyDT4bVSmKS7hz1jfiWdiCui/lcp84sYvl2ip3i662zJj8nnU9ZRHq03cmmhqkhjmR+0Vx4jYvi2eAHrK7cCEEMMzWONZWkO1QADAv5INJbn/QLwC+rK/ROq7PWxwGfA8410zF/HqIOIo5ZxxHMscez2qkPuKNhu4UAlYuV6UdXVCbAuDW5IdBiaS8gb9+ORo5zIK29Uy8CqqmDYi+5je2jrpY99RXe406mql8WyqSHTtI+HaR1gSFco1J52Yhx06g65C+Dm/WHah/DlVq8Eqa3R56HG3ATJmer5jHMhUfquxBnGHCCpFaR1ASTMvTlyzC6iz3ubNeYriOj2ZlK5GaiF+LZwdgJMNwe43XjY57GBsb0gVsDKfHjbzGYfTQPqs5tiHU1cEyjWl4mRZHEwWUhgLB/Siv8yjk94gaVsr9LhgPqsxy4tdJ337pekbv9iiOHdHvcwvuXhkNHGWbCP20jAXkww590gGku8m0kpn5JS3gekSykfklJukFL+l8jFNHsUk0nmE1Lp5+i5WOVSy23b0SjE8jwvo4h0tvLGrgyyY6CT9Zu3ptfb2syLdYR1tUr7WJVLHaA9tCcd6pFYom3R8lT12LUZHNQKaGvLmCraoswm2CZZcfDN3+EgPQ9bXA43D4WRx0LhDrj2RLh5ApFNQthqMwdOtD2PS4AzH9QHWOMvWxzcQ+ftT1CPeV+EXrOqy5g46UE9RXLe+r4AtOvkbzxbqRPsOnqppWI99Y3c/VP162Zv76gUU/+4YSj10Ooo1pJE3mc0t9GfITSnhCreZQ1/4mva8F9G1r7BfeXTWFKzDRnxdycU9vbILP/Xjg95bufnCAQv93+IE3NOU8INUFXfDjIBAfsmjSXetUKInkKI/YEUIcQwACFEd/bwWYcYex1yFjbgEwoJn/ceBsC3VFIFXMIudlnXNSvpzEuwrXuEaJnowJXXq8cli6CoJNyBe9AY21nX2Fhu9zQt0XZj15Nh55R5GXxxIfTPVvOy44fAox/CCeeqIbOnAedXQ4VkAJXajE5jTqXhMmx26J8gVU/0/3Q1VJfBMcb4vu6nHMZAvSi+pgymvR8u2lGqxLoK9lJje8NZwL+UVT8K/1XLA5obeQphFBJ+L+Py33H1SPU4exNUmudqJq7FWcmC9RHsZGN8KGpSosU7jXhakMgdDGIOx7E+7mL+HXMkx4gc4ollRs16bqn4kn7Fj9Oj+BGu3f0231atokrWhLxxj2S1F3Z+yZV5TwPwTLdbmZhxqI9zJ/C+92aCIi0NorHE+0bgQ+Al4GTgFiHEKlTu718b6Zi/nlG6KoafjOg6yg3LdBx1p+4qshPJ9bFEJJ6FYU+YshqBRO/ICcD4iZCQqJzdnHujj60T7zxgIfx7Gvwn/2Mqam2h7myj2MyWu8LbiAGpiTD3Jvjwz9AqDWJj4Y7/QVY7PeAFSfLoKjX364XTjUlMDFzylHpeWQjz9A+WjmPRGlemAjITmumfaZnHL6iSSNF2ac9alyVuTQGvKof4WfCCmkzPtP2tH89GrSW3zA+FcFFPFTqvlXBDtMbtdefhdZXy312pWE8hpdEMe6Jax+oELo0dzKdxp5Efdzlvx57IufFDaCVSWF1bwKOVMzh811O03nkHZ+Y/w0slM1hXlc+2miI2VO9gVdUWFhcuYk7ZKn4sXcq9uz7hgk2PA/BQzrVc1NZXMf2AgD8kjTIDIKX8GsLqJ34vhGgF7JRS7uE92cqoQfIstXxMLe9SS3zYPU4h4QJtbjtRwElImqGcvecKYVw6HGvl4CwksptUisdHbiQ0Zyoh7SMoPh4OPQy++gymvAij/+G8azGQZYl3Jeyugdu2QmHtw/wt70WuaT2OS1qdQHpsqhLsaNwGcTbneciNwD/hmsvhttsgJQVKf4JVw6Dzu5ASsbzpS+j4JRRMDb00lvD+ooPGQouBULAAFtwPh1xGRLiiL+Hh8iU4zyl3uxzmXQk7Z0F1pQrNW2wiPM9gE+G91U22ET4XAbD2R+h+oPImdISleSd1B+ubWMIbqbSFmC3QsRnk7oL/LYDH9zf2icgd2074D1NMqC2dXypRc95qYj+VPGCQ48hmIoFxoifjWh5Njazlp6q1nFP4Imtrd1AoS3m1bCavls0kYgWhjeax6k7sjo5/5rr2tuY0pUWQYquRW1UB8VGSDQL2LgT+++kE1NFY2eadhBBJ+rkQQvwJ+BtwkRBij08ZiAEep4aPkXzBzF/xSYu1tScRwdvE8Rf9K79wM+y038YkGWbi5LlKMPPq/qLXfG/eqMp6W8QDjxHK/W7TCRKSIK8aqiQ8lq0yyPOqd3DT5v/QZsGJ3Dv35Mhj7nKI8a+3meass9RjbS2kHATVm2HNobDzRTiXv6By4M08eBfaCDj+Wf2BlfD1DXCSv10j6HaJyjqXNfDDY9EXCzixjfA65G7dS7uH/ohjokVZIJT0lkvU3t53HqIei6tg7WZCfb3zqauH/uuwX0GtGGNb1utfzhWsdt/VCouX7SRWxLCwejPragvCvp4ibEpK0T6uJQNTejAirT+jMoYye9DL3N7xovBBfteQB6HzgD8QjRU2/8T22fcBxwE/o2bnnm2kY/42yAoEgnN02HGyQx/jSAptz3P19uKIUUcRwx3EchCCzdVwdR6hPp7zjMFOS8I8sibTPoL99odMnRKY8leIk1BbADsXwqbP4ePn4cW74JHLIU63qeyxCs7bBEttEfNyVIg/avh1V7Iykxuhc2cYNQrKy+HR86DXZSArYON5sGO2+0fWMYHw0rBnjYAuR6nnS16BbQvCxzuFz81r+Y9ATBy01DXcVz3jfR6bUE6sZQ71SSLZDVNCNzmXzmoR9u76o4zh63EV7DrawjkDQ/9UF5qJbY6Yk33mNJBTECxyYrBCS3A5ko/4OvSGJaoOmeU5sS2oQdI9Nouy9k9R2+E5avt/xI7er/FyhxuYkHEoKSKR7dVF3NLiFH4a9CLv9nmIwWm9EEJ4l0sNEtf2HQSh62BTWLRTEaKXEGKezXYJIa4xxjQXQrwrhFgghJgphOhvvB8rhJgrhPioYb8QfzSWeMdIKa3Ly5HA6VLKl6WU5wP7NdIxfz2LpsEpAqjkLH1he59ainyVS83F+woMsQheQJIMTC6C9/1UtHRb4uCQsJ1WBaeerJ6//jJMSYHXWsIHA+GrY+D+C+C/t8MHz0CpTtgq0NfwLAFD4+AkkjiVJMY5hQBu2xIp2g84LzU6R9dFeeUpOOBJOPA/MOAWaOn0DWgxGpoRMieOelw/kfDZJdBMhs97m8vqnSgCOuqkubLVqmWone22x+1EVr1zosKwZYtg/9SQBj5bGLmPQ7QiDPM/cyOwFo5sC22S4MyoGey6e1vUheoWXiGfTWFJnNeT66tK2pEJvWkT04xVNdtZEFuEyFQL3VvENeOszMN4reNN3NvmXCqp5qXCb0I7upZLDcQ6oPGRUi6XUg6WUg5GaVUp8K4x7FZgnpRyIHAOKqhp52oi01l/cxpLvDcIIQ7Xz3PR6VlCCKc6U78/pwgl3BYnQyfUEtpy4G1+cthpi2Em5mRpe6zSXj1Q4QiAizdAvlOti1jUBdsu2tGSvmz5dX//m3qUEmrKIT4dMnpD9hHQ7Rw4+xa4+gkYdZoad3Uq3JIG2yUcnwzv0ZK3aMkBVjz3iS1KtG/TP+dtHol8S4Dv4bhWkN0SBnSF/02HnhfC0HvUkHOx/b49qtLVcWpvGKznQjf9CPs5N1HxPLesMdR99b+4IPz9IrwF2/K+rUIuX7uMO1jf1BTU0q4IOpWEjDOMsU73Pxttpvl8NGw5GS7oDgy1jd2CvonxWRClzsM25wsiMyOLbZeJlZRRa1YBcqh8FpfZnpOaHUDb2EzWVjkvCzwzczRxxPJF8Vy2lm6uR4nVRPc57yB0vvdhzXk3lfnnCGC1lNKMg/ZF/9dLKZcBOUKINgBCiA6oSPNzNDKNJd4XAn8VQnyH+nXNE0J8A3wFXNdIx2w47zoXZNHtLAhvlb1Wm4nbpGkxkZXG4ApgVCpsq4bLrevNPOq3nMEpKf49aNcOOmvPbNShcGYRnLwUzv0Kxr8IF98Dp14BB+s11ZtrYZO+HneMBdrr8mFPbFLmhyU2A7gPvl8AeTvgpyWhdpgWagFQIVFF+zDb807ajr4XYqzYV+Qcal3zErfOYxbNdOLVzmkhEXZzVM1fQXGUsXbeC7nH8ddneo/3uh90mjt3G+uItQTM7xdMpf+X2CJPEni1JqLcDCQ3D5mmU3wrttQUMqNseeT4lExapXfm2MwDqKGGV3d45D9Ygh0kqgU0HWcArzq8Ph8YByCEGI4qKGldbR5FrbbyM9/6q2gU8dYFWQ4D/oy6A7kQuAXYT2ei7zGUlZXxyy+/OL53GiqQOA1Y1+F7wkU7mhtsZUCZdaVD2b8xwPMlkBoDbxTCG/lAtCVA9sPaBdul1smFuq/HjBnQphaybe9Zidwddcb5nB6wXl+fO5WgEqC8RNvyvlPLlE2NHPLGt+rxdC3Ch9ps/kdwz8r54TvEDza2F4ZE2yKjA4y8Rj3/4pbwoi4dAYeW5I70/rd6lFWw9rvw95yE2fkeLIT5rZ6zCDITIFnfYEyJovYbcG496uQlLDPMk/qWS03CXLNXrG9Me+v5jIdYERoepZratmr1M3eKz1K1zR2qr01qpRbtT87/PPIDTMH2Cp1XVQTh9QA/tBJCzLLZxeYAIUQC6urypsP+9wHNhRDzgCuBuUC1EOJ4YJuU0k9Wz6+mURuTSCmXSinfl1K+DVRJKRv9bqQ+bN++nbZt23LEEUeEd/gCOBnSc+AkvWRriq/+Dmbacmf3oXHQNQ4e1IWjJm2CsbkO45xe82Ih3HAUxAioqoZDn3Ae1kmL9+aVsEEnq7kmRtuSzBf/Qxmp7uHzkmr4aIZ6Pr43sBHOf01tf/ccPH4CPP8nQgXWLeIXhsyJU4BRN0NSJqz6Coq+Cuuw5oslQPMDIPMQ6PEQtHApBBItE90p+GKUNQXgvEz9WZJ8s4b6EMJFO9o6jJU4rzPvamynW3+TZJt5UU74nHd4+NqqsHYF3QCYTxHlSSnhom327C7awoZqVU2mY2onV4E/IXMkGbFpzCldzpIdc9WL9fGwLcG2i/aYKFnxAXseTZ+wli+lHGYzpyTqY4E5UsoI90hKuUtK+Sc9L34OyitbC4wEThRC5AKvAYcLIV7+Fb+ZqDTWUrGhpgEfCCGG6Od7BFlZWfTq1Yvdu3eT36aPerE1YVnO5+ilsZNLQEbUO/dTecROeUTy2Z+3wWEpUCnhixKonVHvHyPkfedp+16VSz1PVwP91OEzRwBHZECbNpCYCBv0tbKjFYm+IXx85RU20XZjaujpxxugtBwO6AGdjRrt+50KGdmw6gfg0e3AapsZ9HYQ8V4t4MSb1PP/XQKrn1GT+/Vl+HfQxZjFscLn5se5RDg8E9seD931ZJ2dDMsJmReriRTtnCjjd8Uq8xRsS+CjJaopJLKuwtoFMaNIIAaBYHqpRyvOlEzW1yhB75Rg9j8NkRSTyOktVHrM5KKp/kTb7pEHjUkCGoeJOIfMEUJkas8cVFT5Oy3ot0gpO0gpc1Ah92+klGc7fcZvQWN53rNQdSIfsllL4GEiK3X+rkyapGa2t27d6himHJMMrWNgWRXMzrb6Xlfi3VfSwnDfqsNTqYWAF/VsSQ3OickR2MdYnp7DfcSVOinqtc+hRp/qEG3v6TELl8OCZVBRAS1Q/botKq8I2ZLFqumJncVmNOJioETZ63od9ASHDPDU5nCeTudIuC0PltoDMgdF7gDq5CwDGHMVTHwQtq2GOZfAxzmw7D6oKvIfOrezgfBw+Ta3gYQE3hTsD4ztOQsgLg5a6n+zH31U7Isj/D7GK4drJTbRtp+gHftxrawdrw9W71fQiRoggRiSYuP5LvYMymOv5aiYnMhddEh8a4JgSeUmcnWf+I7x+u6tyuEGKyWTCe3Uov2nN79ObbTgXH3muwPve+9hD1oqBiCESAGOAt6xvXaJEOISvdkHWCyEWIby0K9u4E/+q2gs8T4dNYP7gJTyMD3/vUU/P9xj3ybljDPOIC4ujoKCAipzjKv+GIgTMFFP/02OAX+CDSHBjhI613SMhzb62vtCoUMvj1xju5rI8KwDg3pC/26wowgOvlOJtklGBmzUods6r7uihTLNpIkwpD+s+czhAy6GsvNh/imhl3ZXwye6ktZpI8KHn/8oHAJcPhZOOx8qK4Bzy6HarYvbtyHBthgDJKbA0VfD5a9B58FQsRUW3gIfd4Qit8opNpbg3UnMxExqi5YWUNfwpBb+qedGamDBCmOcNWdfH498JeEeeapX0UI/qbZ2Yc3UlsMKPclvRZ1GxLQjLsblsrFDzSUM3Hgz/TbeyI7aYuKIpW28+QcMZ2T6YAAKq3fzxdZvwt8MEtUCmhgpZamUsqWUssj22tNSyqf18x+llD2klL2llOOklBHtgaSUU6WUxzfmeTZWwtpbqHT5o3QP705E1ALbM8jKyuKYY1TSzLZthruVCuTAJF296tVtUBXxYzhVU6lnCHc59NHXptuzQDj1bTbrZ3sd8hMQm2CSLtd+xbOqGqgTlnh3Oogw0U4Q6vlAnZj9im7q1Z8BdQbwwmIY/DJcPw0YAh/ugPJaODgDOryFawb1LQ9Ddkfgl1r4Z8itH8FA4FttQOvHcSQ2Dg6YAM/MgcM/hzaHQU0FfHkEdP/EeZ/6sI3w9dt+MszNLmXTFsH5LeqmSgY9bgtpW8vAvATbcpJ/0Zbp4zwiBNv0+kuM7baERDtErM7or0KypsqWhxOf5OxJA8W1odfbxbckVtiiAuY+pYUkxSbRPE6Fv5/e/Ia3YJtJaYGw793sYZ733kKjJaxJKYullNcCdwMvUv/Cyk1GWOjcoXPX0DTokwLbq+Dz/mbWkZ8rup1qqI6ck+ygv1TbTHF2SxR28rodPMkJuhvVhnz4z6XhwwuAhO8hMxeG9YJUl0jqGWep8P6H70P/ed2hIhTaFP/sz4P6mj5CT+++oe+BTm9P1IYqzTLgHt3dXdxRyYAFxYxwTec2sOcmCAE3jYGjvoHk9qqU2+J7/H2OnV22R78eebFhH7qMO1D/zWeWRazdjspCbc4LIhyw2rH5iRC1JXof2nLsy/FepsizQMuu2lJKbcfOEP7WnQ9MVdmTn+/8gdIaH9MLTolqJkHoPGAfplGzzQGklPOAw4HujX2shnLCCScQGxtLcXExSy5cHP7mEKUNk3Tkc/JWsC8MXk4tlRFL+syLWxuiu83QXov3pmrU3eFswkU7Wm6cWwh9AXRuA/vr3/zU52Hz/0LLtSxSEmHWcvh+IdQakYUEMYzUjnDQaKisBIasgqTFkL0Uhq+CkatZUwQt9Y+8oj98ulNd8k+z1qd9FX5aPR7Vj1Vw3ii49M9qxdbqc1XpckdaPx5+YzXSZVyvq9Rj/k9Q6/77BsIF1K9gW/dq1qyIWyJbGOtCJRtqQMQZnuJEY/hCm7mRaXtekozysDOcx0bQXpt3hKjY9pnfO/2whie9IV+VrU0XybSMSWNwose0kfbg92um+rqW11Zw86I7XMZG8cgD73vvJfC8G0SjibcQ4mghxAVCiByp2KVfP7+xjtlQkpOTycpSSTWTJ092HHOWFu/3C6BIC9xgKulNNQ9FFCaH+na8aKdnTTZWw+xS+NjLoa8lUrRdtOqK40LPb74U5hle3IH9IScbNm6DqY/uRK0/skwxXpc6TUhE3VRsqYZfypQnCewohwmfwL8+hMpaOLQFZLs5aMVKuKWEJ56E+QsgIQdK58Hmu9WQEXU5IEtt5kESMPgKELGq8Uj7R7338RJs+1Iut0x0NxK1/bQbesZCJ+3FPuzwh/IS7ExjexNKtEv8VlRrhbrridYmzY7KQi/WxQeG0JLPOQZKo1eEWV+rvrj7J3Unv8eLvNTOIZenqjzCg++VklP3/NVtn4aPdxLsQKwD/uA01lKxe4DbUI0uvxZCXGl7+4oo+11sLZzfvt1PUenfjrZtVehwypQp4Wu+M4HDoFM/uLofPDoC4s5RF7QWOqT4nzDP202wjYtmdXJYz4j2+rq+qByGrYDLNhK59nwnSrStw3mtmi8A8mBcF0jRU58VFXDBOMjXoe0tB6uW2WfrVp2T33b+qONOhaRklWD243Jg/QZ4+GH1Zloal54AJx0IC3Sk8vRs4wPMIif3q4jGa2/AjB/hhgnq5U13Q8lsqy6Lh2Bb3rclkmejGo+0O1K9vvjR6PtDpHA7CXm06msQ7n0XAS8T6hRm50I98f1dDXUVRtdou9D7VNlkM0fMcHMySrRb+fhwcFo6VqJT6tuTEtkVrKo80vOWtsIsFg7lU016pXSpe55ftZMFBfPrl6jmFj4PQud7PntuedQ9msbyvE8ADpdSXoMq7n6sEOIR/Z5DTUuFlPJZa+G85Qk3FRlb55EYAxs2bGDaKpxyd3j0ALikD6Tq0MvtOq69FtjCbsJF22edZo0l3mW10Cke1lfB9G/xsxQ3nAKbASyHtCQ4ZbDa7NBctQv98wSoroa2G4BcmKSF8K1foNToNtVWDCOtGZyiY+1fPQR06AAf6aY5t97Gv6+E/90AM5aqm4FTu6J6kltmNAGzOEevgvxlNvS4GqiB9eeqvLMIUm2T9tZ6eadr+1Bd3L10E5R/5TDAA3sIvWAbVBvz8OYysm14CzzA/8Wr/7gqGLGT8J7d0cjFpViP09xwhs384v4FK9bfhTQr3hifGSnaNnFeX6ued4zXbQx8NDEB6B3fDgi1Db199aPep+1n3jsgYB+lscQ7TkpZDSClLESJeboQ4k324HufNrqa2kvmch4n7q5kdHp1XQOs5xP8rPExqAiFPC3x3lwNZ+ny0JN95O1QS/iyc5fr5CS9ZCsuBtq0ghlT4WFLC0dBz2wY0Q2Ky+G1C+dSQDVbqGIdFaxAsv11OGQIHH8ItMgAHnsMvvkGkpMhIwOx9lmufFJVdOvbH1LNNc9ObILTR0JCAnz9DVyeAandYddiWPw3GM/Tkfu4dVizOBtocyAka9e/+iqHtXcumPPeuUfCijYw7/bIsWZfb5P/GtuLdzM+qZQMlaDP8vs9zsUqmZprey1K8l/4IvhoFFKfO8JiPReTJlKVcHuwQYfNOyVmRxdtwxtvHd+CjLhmdUvSvtjxveexfBVoCcLrez4xBJ53A2gs8V4thBhlbUgpa6SUF6AWxfRppGP+atpqLX1rLZSaiVOdcJoK5g59bfjWa6ktEG2+sS0qJLG1GsblqNem5EGZOT1a3+R2gO1wREtomwa5OyBWOyqPPAeZ/aB5f0i5AGZqT/CC56Al88hmPjkspBezGXgGXHYffDQdLr8PuPYaNbisDC6/DP58MVP0Et2N6+HQYVHOx5qrfxaaZ8CUR6BDW7jm71BTrH4Ry/8JO36C8DlvhzC6QxEYAPpdpT6ocClUeJTTd5v3jtG3ZkWveI91au3p0OK0pY5w7F6ubpTCGIt7nXNHsogUbfOLa18SVp8QTiYFJFOk75RShUemT1wyxCXTIiadbJFO4i5jVYbLsjILIQS9UkL/WGW15byb+5baqM9ab/tYa3zQaSxgH6SxxHs8MNN8UUr5F+pXhbrp6DmK5DgYngXFVfD+j7b3MnFdW/unBHUz93UNbEpbRLj75mO5ju5HHZ8BrYVypFO1Z1leCx+aDkhU70tjvz7vBFZDXCycpddrb7atQy7aDYW7oKwy3EFNT4LWxNORRLqTRD9SGNobDhwIw/vpQSIGjjoeTj0bxp2FEGoeu7AQ5s6GmabDOhvHrPiTjoK/XQ29ukL5FlRFAAk/ngSUGXdFiaMjP8Dspw3Q608qcQ2g6Gb/3red1nepx5qtsGVpuGj7LexikDUq9Hz/3cBmm/n7BJuB93csFm/RdhbW0/iOG1H1xtO8XJZdajlEjBDkyV0sqPb9A9XRK1GVGmyboObo78t9tv6ecxBC3/sIss0bRGOJdw8ppWPQV0oZrS7V786kHupx8hqiijYAN0FzAcfHKb15xXe3cluce3toPVh7/XSHrQzp5M04rj0Pwwwjl6NE26j7M0mLd0YizPsMxh2rtjtlwbrnofJRePFsWHobFD0AWxnBevZnJcNYxFBmT4EZt8MB1uqfCefBix/CE5PhwNFICYcfBa31suG7/oqqs2eZC/HxcP7psOR1eOcByNJee9k26Hiqj/CpyXgguQ20O0JtV82GmE/rbpTwUw57CVDZH2K0SK5x6l1gw0nMHw3ffHOxJM6WHL79RR/nEUsoq7wkGfe2ZuZO9gIBhcb75nYka9jNt7ZMvI21vtbEMS5BzQtMqZhDjTRuvBwKtNjplay+WL1S1drGMqf13g3NOj+5aRNgAwIam8YS77lCiFVCiLuEEH0b6Ri/PbFwxkA1L7xhN1SaiapmmZleQH+YpJotMdnX9cE9dN5e/zW22ZyHz3bAdtNbdVoS5mNl2qBsGNAGiiog90F4+QLYrzus3w4X/0t1ITtnBPSOqNmhe5jrTlp5BcrDvqTg+dCQD98A4JTTod+Z+tydyqmaPEtdgl1MDJxyOJw6E/pcpN7e8CkwvdC2g0OK/ajIlwDo+afQ8+23+/O+zQIq6boTS8UPkWPNOfJFHp/dAo7RDmxsHAx3Kp74Z/vnmzXL3Yg1zG8JX3es5Y/xOoHsO8ziRM4cFJdD19gsNstdfLTlC+8drIS2+CR6pKqw+dYKdazeaT2g1OGuqD6JakFp1T2fwPNuEI0l3guAk/XnfyCEmC+EuFkIkdNIx/tt6DaKVsmw9FxYMAkSnK6bvWymGdscWsTBwlKYP8ic/CzAL+30X2NzKSTo59+OhVa7XXaIwz2Bq7mxvRqVVd5J1WtfWgjJifDOLdAqHT6fA7d/bOzzN6OH+WnqxqO4Qungh7P06zu2ww/fQFwcu06BMX9VL1eXw6lmJXtr2nqHzQyEgIMfgxh9zU09a76ay7CEO9GlhaedJKDXiRCrsxDLZ8Pu90Pv273vjbhXPUudBKIZVP0Ca5d7jzcxGqr8tViVfO19IFz5NHz6T2O8Y6MRE7v3XR+xtieqmXd5oe1tVPC8nnjvpb9IJVEKDNWxKw+R2pwTkwcDMG7Hk3xZPNd5rCXa2vt+Ie9drl2tfhmrytR37uz2toL59SnQUlURiHbAPk9jibeUUi6SUt4mpewOXIQqZDldCNGQppdNSvdMJSB1dLaZyXVKaM/QS2mV920uavZBPxjWCQ5sBqvLIVFfuwe0MM4FVATAFOxMl88tsRlwUS/YNBFu1iH0Tq3h9RuV13vPF/DOdCBfmwt3WmuyC4CVa+H9d6CmBkYexa1FkpRMSNIrlb6617ZjoTYHwbbz7zkq/8ny4Es2ADc5NdCOwgmoD0mwZYttuxGsrlXpeAvwRkAkQ/JpanvrC/7LmlqY8/4JSlDCnEaz0UgEpjjH4V43141C3yOfZh3l1HI8nemhl5z9i1GeSWcWQ+JVWkstkjG5f+GWLS9QJbX4WwVaDKplDZsrt9U975Pag+PbH+cswhkuy0i9EtuC0HnAPkRjiXeY3EgpZ0opr0PlbN/SSMf89cyZFr6dQuRSIJdlSpP2V4+vFEJNRPMS0/vuAlk1IdP0S4Ufd6t2mpbnXWG9nYQSbSt0H225lEWJsb0LMhOhtTXv+p56OLwC/qk95HPfgyXRrnGntWf/VtBcO7RpY7rCfTeqDSnhhceZ/y70HasPmQeVOwjXDnMp3jO25zoTPQMYcK7t9X/nwde2SXzL+7aqzrqVS93v5tDzypVQ8WLI63bLVK+jXJW8K9V3ETwE5dPDh5glVr1uTbV4V1fAsduUhf38ACc7LV2IFmaBSIH3s87QRInzViqIQxBPRd2a/1RfXzhgy1LOSRsZdgG4L/9NDl1zE7mV7vPmp2WNIVGEkuImdTqdGKH/CZxC5xZW+NzJ+w7YOwjC5g2iscT7AacXdZnUaU7v/a4MFyHh/h5Igeok+Gw1vLHEY982QB8YkQU3DYTXRoM4P6JDnGa7zSI5IB26J0NeJVh1UiraYpUbqz8dorw3XZteE9AvS/0PFVfCKa9DkeVk/c3KLwyf4P3biRAfo0LoFOuL63efwd+v5vlxMMfWxr6vV9bDLhzrs3c8JNxx5twVsKuaurRyH5FcBl4RyjoHyL0KaqNkzzkmDxyKWu9VBfljoPzL0FsbqV9b0Q5qYIJHO1dvzDszUF8ay/xQ6PjqTqqoRjKNHXXlUdMSm6t+3T4Zmqjmr2OJoUNcK34qW8bgVVfytlO71tJCMlOyGGYtggd6pHWNHGfHnPOOJtYZWSELCNhHaKyWoK94j9qz+WkTHPsaXP8VoVKWFm1sBnCeCm3ftz8cmq0Sv8IpIkKwtxsVsBarzzh7oNqs0J9REU2g4gifxnRrDmXHEm2L19VDvk1MVuyAc96F2jeBt8BJmc4/GGLtUdu+g+GWe+HcS+HI48kcSF38ZZ3Tt8FM9noy/O17v1cr0YZebntxUyVc4xpbDve+E4HTgIw46DY29HptMayc4P4ZEUuqqlH/JlYmWTnkHwcbJ8LGCcCKyEQ40/u+B8jOg9YbYaaaA66I5hgWAqNNAXZTe3uFHhPT+96Cn8zGu3RCRwFVbNdTP2mWVxyt8Ep6trKUTJ5p82dy4rJ4oe0VzMt5kJOaHUBRbQmnbbiHS1fdTVltRViyGkBBVWHdR60uNqZJTO+7VbQ7U1QBFyfBPtd5eMDvjJlz2Zi2j9BYtc0zhBD3CSGWCSF2aFuqX8tsjGP+1hzUAXIyYONumPo20NJmvigivGamx/z3aGAgnK0T4Uq0c1hhv4ZbQt7eZl5sN6yd87CzB8Jbp6lkNoAPVsBdbuHzC5vRLAnGDbW9dun1cOXNcO+/4aUPGTsfhutOWtW7Yb2lI9b8u4+S0xnAQefpDeub+r98+KRQPU8dEb5DEqE653YO11lhsVqAdr4LBe+p8PkY7/NQTNKPArXu7TXgDaAXLHVowO5UxGz5ajj/OgDKTfG+lVBOgC8q8B8qr49HXk432tMONbeySX9m1HXeWrR/qlzL0MKHeXT9i+yX3J213Z7m7IxRtIxtxrud/sLj2X8mQcTzdMEnjFhyMUtLQwL9/c5ZLC0JfSlmbNeFFupToCUlPWQQPdweELCX01hh8zdQq4xHSylbSilbAofp195spGM2nJmG5/SF8p7P3k9tTl7m4zPOo24NcW0zyL/Ex4VytM0A8qBbJozMpm7WvM7z7qPNS7BN73uI92nwsLJBH8OH8aEKgndsh/d3Af3MdHd1cTzrAEhOgPhYYGR4WvkreZLu51P3DRucjnOkNwo3fw9ZveCiqXDRt8oTB+Ds1bBT/2K8Kn0eDbTsDW2HQU1lKA6/aiKU+KmDC+quqSdwHdCfyHnnl7w/4sps6NsTBqgCg3mlqbCOkPkhdTfhlWi8EiJt8y91mNmChfox3CP/E2r9o5VlnhptslAXaDmh+H/MrdnE3eWRFe1EQjJXtj2dn3o+Qc/EDiwsXcWw+Wfz/Nb3kVJy/2oVerEalPyye5H/bHFLsIN57r0TQXhKR2PbPkJjiXeOlPJ+KWVd/0Ap5RYp5f00fAa36WgOpMMALYSvL4BStyhjImHe3qwt0PV5OMNcdgWQUxRuvziMASb1Dj2v6Ej0grJtbM/rU/0SYEWyspJkdkgYWAa3V8NHiZCgPfDTNqhOZ04VTo7pB4f2gKoauORa464ieyF5QJrOat/1k8e5pAPO3VjpOgq6HgonPK5f2FkDk1bi6Gke7PABzYBhuqdpu8HqsbYc5p6swgIRuP2H342aZ8gD7rO9/gJIwwv+xuUjJuqiAKU+EspG10CqzXxhhtGjCbx7CP1m+oYlnaWJhFCI22Xu+6ok9cvPlyUUxVSHh8V1pvqQlB7M7vU057Q4itLaci5Y9XeOW3I1H+2cTnJMEn/rcR3xIo5OyQ4hIlOcW3XwV98cwhOW/HRwCwjYw2ks8V4nhLhRCFEnLUKINkKIm6hH5eYmxbors9ZHfw2vzldPy6rgPbPRRFscO1p1y4S8EvhmA2y8UF9wraxyP55nTzj92FC6fr65bDzFYR8v0bZ734X6M1aE94H+V5WaVW0l4Kg4mJ6jrnPVwAGrYyijdfhnXtiemBh4YLzyvJ+eBix6FrIXKtP00U5pzW7Y/znjvArwX/EMOPwyGHSq3vh4N0zeCbED3XewTy0MPhMu+g7O/xpS9d1R6VJYfD4cJQmlrXtlwXVBpfxfD1h3E5mw1KNwYCLAmzBJl4+rqWWpufrNWvOdiXd1vzrKDPOzPNGjmg+5pJFAH1tnstT4ZlHGK25NPKLu+aXrH3UdlxabzIudb+bF3veQGpPMp4Uqie38jhM4o91JlB2zip8O+iAy7O1XqC3iE3Umev12C2hiAs+7QTSWeE9AzQ5PE0LsFEIUAFNRpSpOb6Rj/joGhpfpWloM7y1W1dYAJs9BCbZlTkyE5klwQhddLnUxYUvBojJU2261DOvZifDDtXBkb4exrQ0zyXF4rRDX+dQSJI/rOfab4oGS4xm+9nim05s4YDzNSXbJ9BjQAe605o3/9FdVLF3zLQtI6w8J+veVezvq5sgyH9w8J9RVVAiY9DKqZyrAhZtgqy1zvLoaYr6NzAcYD6S0hC6HQFw8nKhrliNg61uw9WF/JxNGNXAp8DGqkI1DyX4jKsMNV6merFlqvV/fNwdFfmSmx2FTtUedWKnNz5KwSsPM1RCFjntdTs+657VmUp7d+45PgrKdxLZoT/c4db/+Xuls99NJyYSUTM5peTRzhr3F+Kyj+XTA09yYfTZCCGLtqwPMeeyIz3J43c8c+aXR3w4I2NNpLPHuCdwjpeyNuoz+i1CKkt/43+/KA7nq8cxRqqnHl6tgx4/GICcBqlD10ZPjYJdTArDd+x6L6i8xNHLYhSPhoG5qTrmOHtpMnF6rB/+lhgLgADI5tPy4utdHkMZ2BvM/ujjsdUpd/fTRXdWyMTZtg6sie1221sukC31Uy2Qy4X3ADeKTgO+6KG+qUsKoNbDwOfi/8dC5NfywCLpPjX6MY8ZBxiBAQnwmbPmUyLX4fm/Rx+Cawvqpyy4TdCjk06XeDv9RxnYWSrR9YYl1fbzxkFd+CT3qyqM+tPvdyF0cenX/s8VEAMpkJYvK1oWPhYiQe8+UHN7o9zDHtDyETkm2ULmbYLtVWKtPRbXAE9+zEATZ5g2gscT7eUIy9Shq1vE+VGT2f410zN+Mjf3g5S0qae2vp8NLV8OKf0NLp5v/UsOAsZ1gy3nwjxEor89krDY/DAKyCRfo7CjjnbKtQaUL2hlcBrSgiuY8pMuO3kR3RHh9HTLtIjb8DeAUbcD/XQHAmwugylpO99IH8PZXemM0Q4Fjr4WYBMg+EK79yDiPXNvzjvjqOfdY5xXwgu7SsrwShlwEj7wFW3fCJy6T6x1tFhMD5/9dvV5dCtu+hqHveB84AkNxl/hZeP4W3KHFt6QSUWgsgr/RYZcswhuJmYR532WoZQV+Bd4S60Lj9WXEEMPBOrTzLKu8P2rLUk5J2584fVn58+YnHAXeFUus7aLdkIxxc268tGKfLNIR8MemscQ7RkqrHiLDpJTXSim/l1LeSVg37D2MgaPgQHj0JyVGp/WF7tkw8VDoaobKW2kzOV3NAaebK2uOsJkXu1GiPchroKYZkaLdy2WswWuUsZ4aehPHiWHZbwBtYfhjIXPhukONknpnXge5hwDwEC1Y+SbUVkJNOcSaF89+eIr2VXNCz+vKhJ+ZCOclwFnx0FLA5SfDT0/C3TobyZxaONH40CEnQPP9Q4lm63xkjP8arOp4d3wHLROgtf5FXO6wZq4l0ZcmOt68WXPefqhB1b/1Lnd6O6pwSi4lbKk1kvucRDklkxHJ6ss3s2y596nEJ9Z52VN3zOCJ3Oe993H6DDdSEpU5EYTO9xwCz7veNJZ4LxJCWC2d5gshhgEIIXoStTnk78/OMnhGT9fd5FRy0xTtaAJrFXIxBduM0FopfP1t5kU2SrStPKJ+UcZCWAj6jZ0wdDl8nLOJ+1EX5BtJI0Z3kgKg7bHKvPi/K+iQCUfom5sYUE7fsF2woxYqJbMeUu8NtyqV9rMZRP4+Pok8d1tvjxD/S4MX02BzJvzrOxjRVxeC/w+knxX9vIWA/n8Pbe/4EU7KNQY1ILvF9L4/JbIbHcAonQyWW0G1tUuytiuMsU43fK0Mi6DI2C6mftXXAJYxmpy60qjn7HZZDgCQ3FwZ8J92VwNQTS0/FM4JH1daCCkZIdM8t/5VDvt5AtctvYtasyqS6Ul7hcdT0iNFe4++6gQE1J/GEu8LgVFCiNVAX+BHIcQa4D/s4Qs1/v2LKhF6VFcYmg3MRbWctMyLZoRXX4PoS72sRDUvwdbTlmWDQ+aJOXesp7P/mgdzy+CGPFhMNe2J4SxSgARv0R4+MfR8yCnK5sNt/eFIe3Rih4Shu+Df5RRvgpZ94e2R8GAhkc06/Jy7wWRL8WMFJAhGUID6ev3Hx4cD3YH7j4asg0KvLTZbfPnBT6jcgb/oUIOE+LntITn68DpycE5IdF3/H60Cm0mh46t9dRbdt+RFvmkTbQDyltEnuSOd4lWM/85ttvJ6OlHNiXM6nEoMMVTLap5b8Uz957HNxDYvsQ5C6HsOQbZ5g2is8qhFUsrzgMHAxagWEAdKKUdJKec3xjF/C2q3TeMx7XWPPQ5eBTjSx46DqPOCv/oZJnwPczZHGT+CkGhbmD0bCkNPtxyszFOwLU/W8sZcCrRcqj21ZdqhuY5MEqyY+5YHwwevnxe+3al/SLRtjGoDQ1sY3bbX1xL/fyqU+/CVaqo5KvZ5aaNo2dkOhXJGUFBnjpje99l5SrS7620hYNA/Qu9v+hgimsr8Bv/tZlmiO76D/jIUwnvKo1d2a2Ai4aIdLUmxbvmdKdhO3jh4VWB7Vi+er0bySdF34W9WO4fqz2+uMu2mlS6kNik9XLRLjfOoqiAhJoGhGeoO9rFcH2kxlqjXN1HNFO2r/O0aELCn0VieNwBSyt1SyvlSytlSSveWQr83bwvYPo3NBbB9FyTEw7VPwBWPQGWUO/ifM0Nm8eBkeONL2O8ZGPMSfL1Gl74eYTMAp9ogdo4OibYbZfb3OmhzDKGGc0Wr0B8+OQYuqou9u9Cpf8icWPy1qu0+BO4eHP5WVTXExcF+g5121LTDd3GZaN1ZR+BQRD09L2ROtD0MhBboss1wtEvlnPrglrhmr3MTI2CwdreXVVBQaIy9AvelgE50JnLNfLqfOXCvMPo8BtOKJH2ncb15V+VESiY3dboAgaBSVvPYRh/5BPGJ3NRDKemS4uX8nD8z/H2zCYlTJzHHz7VZEDoP2IdoVPHe20iIU9fUyiponwUXHg9lFcCi0JhbMpXZBdvOc3+F686CtBT4cjUc+SIMeQFOnAJlXpHLo20GtDUuNqbf9DmERNsNu/edBkyAuDQYq89/UAo0c/saWJnCP78V/nq3YZFjXwPxOtyyEE4xGrNUV8PhJ8AC2++RtijRdqm1HkEcnG0kPDu2rgNgsc0MDjBE/IJSkDaxXWn25/SDj9C5uVLh4TkwLrNus+X7OpXcq9yrnR6E38l45ko4CbUp8PbyqaFlY+P1csG17Eaaa74t79sKi+ctIykmiXbxKtvuns3+kgFPa38isfom4dhvT6CwsjB8gNlJLBpBSHzvIQibN4hAvAFOVRej1hnwv8vhi7/Cuv9n77zDoyj+MP6Z9EYSQg29V1FAEEGkoyIWEMEGdv3Ze++KBTs2LFhQsDcUGyACggVF6UgvASSUhCSkt/39MbN3u3O7txvseu/zfHO3e7N7e3ebeefb34UHL4a0FJjeN0jablikTOBNGsBD02DVOrj3dKiXCsu2wIzFkHQj9H4c9uhpt2bqmIf1FCRhm+KIQ7XtdOx9wBUebiEfV5dAic3YXQ7Z9/tP72nWRYrCMwZ8aEhuForEowTs3gv9j4JFtwEv+Ds1a6nRP5y8Cp2wPYLudpnRgupfYfMbBGuHm/gd/uP1Cn0AfZKDz9/I9Sbs3uqxBe6+7xDoJnEXF4MNoRXYJtEHAZRRzTsFc4MvxCRKcfBl/6/+CAD2VuWTX65MTYFyqXo6l0wJG1pfBpbsq8xn3HfnUm3oLf0sCAlko2a+bHPstT7HRxDB3wgR8tZw5gAYegjM6C9Je7oyTWv9q5jusF3VXUpuLnQ7GDbvgtl3Qj9LKu/3WVD/dujwBKysi+9873uU6HVOprdwGJxO+PKax0OHJOiRDAVV8HGPrfgPalJo3cNG2gzfDcBoIUk0G6hTWy6qqw1IjIa8EhgyGeaZ2VH6vLzHx7Vr+Az5fuaVnE+4kIosJRbsMrfVxRiVcPjb/t48HLxyvusj+8ib/4G7q/hGC8zmTMtzM3ivhc/3NzMRGtfgN3XF96QQR2dVlehhVgRJOwxuaRj8AP/bMN7XgvC+DrcEnn/y62eMX3l/+AMOJH87Eqz290MkVazGiJC3jlFSRvgYOt0iVsz9Cvbtg5fmQLfroG4qzLkLjhoU1EbXboEuI6BRN/hqofP5b46FJ5Ck7QeFLaSEoKfDvvpwpsq4f9pHe05mP+XrGhoImBcNh5HM3lxIVZNkSRXUjZeR/MNehk9/sRwUZxEPHLkhNNPMGxppH27x2wY0byBW2baXeRCGDTUwDeglbT9YB92DhNb3Ie0LSCBsxD2ApYKpbPlzLHiFMARhauS6KcipCH8CV9IVgGXspbBKM7cX59m3d64hOjqatvHSp/PV/jDlUiFQh7x77YM5ut5AzmwiqyjftfJeZuz4NHSs30C1CvwRfET7juAfhgh5m6jX372ClYbpOJP2bepx1Mmwei1ccCHExsIH38Pgu6QvfcbTMO54WXIVYOcuGDwGaneA196VhG2KH8wCLmlhJ+3CcIVgLLnhJyl/88J98LVesGPbHbLVoyl+UNkDKnuQUdWDL2nHAGqRXwEJ6i7bWwZNUqG0Eka8Bu9MwpuwTSt4GfZumGGxT5Mw5fS3WsLY26jSrrEZhI86r6EDzQwke8bhtSMs2uuKcm+fd2ttOxNJ2r579VUhTRx+873TMc0g59KRaASVGFyWFybn24IpLW8FYE9lHlml2n1kBp1pJPxFn7d59dCneaCj/I8a+905rCtY7xyk5haEFqmo9s9BxOd9QIiQt0+8gSzOPt3n+OVtYcjzsGU13HgNpKbCvAVw3KWwfB289gDcdB7EK/LKK4CzroRHkmDh+PDnHklDZhFqQndFc+wFXQCGQOPEYOvPy1OtgUo+q3XpE+mJweoqtYjmM9pybCMorQ5aq7YXQPNYqKyG9WWEFsvVe1tH40nYZjX1Dkoe0U3jTihQskyVU23aAZpeBANy4PAf4CinWd/8718NnEF4N0OMHObVCKuPhaWrQczU1OyxDsdkWsQJR2rb7cy+3n4J2/TFp1v2LSWKKJqq4In38GGu2bmGPqkHkx4tj7ljw6M+31/ixraXM6rhsRRUFDBywWj2V+z3LpfqRNg6wUeiziP4FyBC3mFQiCRthwQkR6wB3ldiYkFrmHAPZP0iHxs2gGVr4fQb4Pmv4KzZcMzzEKcm+coSWHgHPBQLn10AVVWQBjxLw4D4gp5TdbTzsCHKhLuyADxJ2zSd790elDBIJIoPf+3EaFJttLG1AjonwCVOpT/B0z+VYYlJy6iQ4tR8LSyOUqbz/SqAq54qmhJnqePWJMYuAfQE3gEe105aw+V9U0ColCgBHBIFvcM45dw0cqe+MclB+d5X1dRyy0HuuI/DASiiknVVu+0v6qZzhZG1ZRDa9H1fO75ugxlRXlGGqCznlYMfpVNqB1YXrOHcxZeGRrrDgQWqOSFiOv9rENG8DwgR8rahP9MgIH7wKpK0TePrmy7j0tKkBn7JFhj5AtRpC/lZkNYU+l8I1+TDyZ9CkqrMVl0Jy1+Eh2NhQr9EKAwfAHUDdnP+tDY+Lr4+vKBM7FECNp+qRSLna60y89d4EnZA+046BpKOIS7pJN6kKedoEWirSmHwJthTiYwVs4reA0Pve02QtN1g174LcY0MNDW5zStAj2zWeoYECdwM+34Rz1lB75MyFXst9/pNoFmUtNJPTYGDHZhlLHbSDqkTq72mXq+qgoR10HsbvN1Q17pzqVGwAQBrOJ32gTXVKXlOIfShuKfJ+UQhyK8qYuGu+fYXze/fQtpW1IpJ4cPer5Mak8p7Oz7iobUT5TE1zd+OmNEj+JchQt41RBdkvrUpfjAhOSixCXDYBXDNL/C/byDDojW1ORauyAaWtIDWapYxgAUlUGsvtNwNWySJWzXw6cCH3j0mgnnVphwDjVNg9WiouABaOpl489cExQn5e+zbe7dJ4rYgGsGLNOZyC+vEClmitf9KyL3ax4xaoImGax0n8ELCtsM0jOD178uGHvPdx9pgRjdsQcbVe8BanMUJRyji/1b+to1a+LwMEwmEFn8fAtHREKPcIjfb0hD9ht3m4eSEb64+yDI/uY0719Akrj5N4qSJ5+4dWuORilLP3O120fWZepjMv79l1T18lfOt9/vGcmAEH8Ffg6g/Uf4l+Bd9lN8HY7VAJWszKkvXz7B4E5hnEScPbFQ0NLPkn02gY0Domgj319dadQFbqqHlXqi7C747XJJ2FRQ+CtkZsFQLyrVq3yVtoMRe0TSAjra+5PmaaLaEeQ+EnmDvtqA4IWkEUQieIJOrVZusCkO6A/oQ5dgWPQDTVatZaFkcOrSBJqHQtO8es6G8FKJjZJOMPI/AvCbA4THQZAgIZV6OOzP8eKcCOnowez3pC078pphMX3nYyIh1K6c6f2BOVvn9mytNj7eVtLWFF/t8vfUrDALkunJKjnbTuZjOz6t3HABf719KdVmxIm214nQol6rjhOYjufOgWzkm8yi6ZzjU/TXJ+UDyvK3H3OQ+PIII/k6IkLcH1uFN2taCkRX4j4e5mWYBsaXnfLofztghZ8d76sK+tnCIJTgsx4A+09nbC8qXQeF4oAQePREWWepof44ibT8mdLP95M0+g5pWfAErvmDN0lfZW6FN+t0cVgkHPYg46CEeO+g1xqXJ5uL5QG2MkB7ilCODvfzGV+1QomGqIxE2C4q5qoqJlwRS7uAc7oQzCccom3r5XO/xq8Nce2NgkGxfVx5OoTyZA/LbPW0pr/pU3Zp0FHPDGvrRJDBxXI8PLbg4jxvSjiNKlUt96QDbr95x0K3M6PcB6XHpske3jppqzpHAtb8HBBHN+wDwL/oovw0bmc9G5nMdgnUQELD3D3Ha7oI3aVu171eVOGJuEYzaIStuXpcBt82B9Pdh6Y9Q8TMMbRL41Sp+gNxDCU7mVfDMqfDMFEncTgjRvk/CuWe0I75nOwvJmic12I1VexmY/yz9fzqDneW6Fgc07RYUC15reh09E2RnjUcwuJUKjKtja1Ynphj4Ghtpj90S7gAH3+421T2mrAjikuDQETBOvZZmESfUNsvEVUL7zyRpmz5yrwjz+kjSbgw8eAOMGwjx8VRthCrVAcBmOq/EX/OyBpaxlcAASImGQ9THfskjUFtC176d3AKl9Kch0QgGOAVQmtq3qV3v3UJCVByt4uTYm3c53P1Wn7eTGT1/D1EiiijxJ0xZt//xbxFBBL8VEfIGrtM0Pz+m8S7YK3vp0E3lWXiQNsCiEjhhO5QZcNFoeGhusKoLyA4fs46DqotgygBoLE23hpnlJWTM1ffnwNqn5a7znd7Ho91mCJKnYUZejWMXzdlKr7yJbKzaS52oZFZX7eLIFeezpfRXWDNPikbYAROpwhctxgdC2O7H4BU/Ptjd+PddYFK1TtqWpVeWhfkHXgAldeR7uBG2iSZAXFcQyma91UeYsl6g5W71OPVJ2J8PQn7+8m/k7mbgTdpeiwSFm5UvfFU5FDqWtas5vuI4KjmPdxkCOb/YX6wsCfm9Ac5KHwJATlVBsFyqSfC6ud0rJcwJTvdFTQLVIgFtfx0imneN8S/6KAeOR0IKcrijrhI9xdZJ687CsSBnAB2srywvh2G7oLAazhgOz9xqJ24dZ3WAbYXw2WfQXpnULR/jp8vBWllysUVCoPcpv7kKki1iwUb1SX+o2sbR+ydTZlTQJqouG0u303fJWNaYquPeLe7X3uxgMlodwTTL6uFmyth5o1YabK163G8RD4zdYqfrt8MFlK1UQXgiCnpeE9x/uDauqfa8KZLA64yW+0rN1nEWmMRqmtD1CHoT/VWT9VLJPAnfhqm3cpy2HabstxWjUyBeyNvj/tp++4+HqxazJXRXZUlQXHBzndGBZfKFq290JHhHuFVTczKdQ80I21qBLYII/kGIkLcP5CMLW9X1MTZc/Qy9OJbEhVKebgL7SmDEIJgy3r359YZnwVACcMwwWNMFblPmS4sCu/xWeONk+FHjlQUuOd9+MoeyaMEU6tNYvdGG6hw2VO8lHdhRnU+//Eksq3RpZt7sYCkKw49dyzlq1tyNwTSrzdw0oXsRtlkrpMgiXqjIlLJMHXz44VA7TImyNOzpXSZaTEI67Mqh4p3gfjOyPFy3NxP3TrZtFn4TfH64U6yCNaXOCY217SPlrTREFXJ7x3MBFE1oOH+ey9hSnJqYAFCimd/3biG6bD9tYuR9OqN4ideFqJSwePu2Gw60KYnb+IjpPIK/OSLkrdBaUz/XULN0sF6E+sLdCmCtoXNAAKiogq+3SB6Y2E2ax63Y0CUobriyQTAv6IQeQT/4NugfRoEP1OXQCfs6fZypOm7gLHaznSq+IIPm6hbKU6/uMQrpm/8U31VsgcwOdnGYfB8nMeByf5wyb7+3NSDcrCnjh7CBgBM7VpV0MRdIl13pOtTVhN4U2Vs1Uf2GOQ+HTwfTkY4sXN86A9KD8fZFP0G1zoWFuGe9pTjs0xuJAXepL3ljJWx2NJ37TR8ztXHtIt1SCU2zuNKyH6lzOgAlRjnLizRzhEukeljoBBzOpRLJ9f57IhKwdkD4F32U344ywpu5dQxHkrbeccwNeyFI2AG8CbHR0KGetGt+oEKT/RC2CeNHqHsHHNtDamQfL5a+UoFstOIEvZjWkDDnr6dEs/0eTSLraEhtZQw1q3QXUk7fgqeYOO90KqvDm2nTKOVVRRo7gTm3awSyRTsgD89CcGMsFdjKgalk48jC21VqW3dLH1WzfnqrkAsNRVOgkyL+vOX2vuBO2I1zx7QzLwg8NSqgSPk2MoGRuvY9KPxbOOJI6JEIGeq//fZafk3nVpRiN6HnuQ8tzpOim8Xzszkh+VBi1LRz0YbxtvHr9jn0Xw85d4G9MYlX/IMfwrb6vGoaDxJBBH8RIuRdA6QhtWtT/GCvRQB6hfSbVhjXVT6+luVN2KapeItFAB4aB52Vbbc1sARZeg34QZNH+/q4+ABpu2EHcQhOVTPdmXFwL51JIIpq4GqW0f6H43h2x1uUVOkT+W4pR3zHcKLpqHbf7JQflmcRJ+gV2Cp8BK5XVcEOFbCW3ERWMfPV9AR7InmLcyGxqWTduDmhY70KtADcZk/8Ft+6W218wcUDMEoR0sdh6tYEsRvvLikaTNI24dLQprfKNPihbCMU51FtVHNq1gTar7+QmzY+bi+BahbRqUknsZpq2G6E7VDSIII/CBHNu8b4F32U345OmuncnHq8LKhWZGpylK93PheOux/SUmHpKlgXpjjrEiVbHF5r3xieOh8aZUiCHwR83AaqDuW62W1DYqpCEKfJBdrrLRyOydjBuFrSbj25HNayn4UM4Fm60ZpkNpVu45L142nx/VHct+0l9hUr0tZwpdK+fwLKTcXQjLbWC3k5ffYKwubrTQ1EvynsPUQSeL0GEO+DEOoBbbAXQ2mANL23Ul/UVkunLScfOQTzD03cCaRHQ/MWgV053xAeeuMRJ9O5jnK4J10+3W/AG3X0pY2PSnEhyLNvVvg4R3EeLyadAkC6SKJ81zqiRBRLSjcB8OC2F7lm44MYhkFuhTq/F2Gb2rdJwH7yt3XCjuR8R/APQ4S8wyAWb8I2g9iGW8QbdTU5TRJIE6Vv3f1Y6CEmabth80nyccBB8M0aOPpYWb76xA1w3Ho4aj2PHQI/vw5VutXUvIyTfFz6AE2QRccaCWmxn0oWPfiKz8jmFXryDofTvVZndlfkcNvGx2i2oB/XbX6cHWV2Ar8AQQzyHI89gb+8ZnBtEzp2qdNgy4ydpcircZhAtY74sD4AzVXrr18/hIb77aTtdgPVwt7p7Z57Ay/tXWAPXh/ZFc/FiScGQ8MYSFbxD7fagjlqUi4VaqSRW9vKFuyEnM20i2tAWb3H2dvgIeKiZbDFtXVlAQKBYOL2qdT/ti/tFw3n4ayXKK7UbOPW2ImamrkjJvG/J/4mmrcQIkEI8YMQYpkQYpUQ4m6HMdcLIZYqWSmEqBJCZKjX0oUQ7wkh1gghfhFC9A59l98HEfLWoFvc9MaHuhJ4Ad6EbWrfi4hjEXHAd84DLz1bPi5eBgvLZWq1KTpBOeV8FZ0kpV49eHcGPNZEFhH/ogBiYecKeGMsTGgDbz4Np/bAXwg9BOuh6wrbwTKj7UI1j7eLggSimMFO+jGPJ1nP3a2vZFa3KQzJOILCqiIe/XUaLX86nvPW38Oa4s3AGKJaVNIyWt6QeV6FwEqREYXW7yRMh8pcJfLYami7Go5RBzS2MO15QLxF/KAT0KglNOwH9Q6D2F3hx9fH3poVpPZ92hmyGDlQuQ+K1tfM4kMK9kh0l0j30Yq4tvgql2qN/vBJ2Kb2XZEXFAeYpC3HljI6qSdxIgZD5TvurcgjpzKPGzY9xsdrNUtUbLw3Cf9efuyI6fy/hjJgkGEYhwBdgWOEELbkUcMwHjYMo6thGF2Bm4H5hmGYU8wTwBeGYXQADgG0Igi/HyLkreF1HznfF1jECVYyr66SVr1Ffjo3/W+cjDSvroasid7j12tiRVQUXLgNvu0ArePlZBYvSGgI+7bCyrvA8FMt8wIkaXtgnPp42w1YzVGcpXqRLiSH45deyDXr7+fMzBF83/M9RjcYRqVRycu7P6LTkpP5US2Jsqsl7+x0SoPai2tWkiOqNdIGnmAJJETBrgrYr97E1LwLcGx4EoJaBEvJWivTDZsNw+dCmkN+l16gxaUEPN2CkRQlXlVHTdO5V+qYFRXwjGXhMD7FTzk7L8Iu1Z6XuhJ2CEr2Scn+hdrRKcxscjvnpQ7i8IR2JEbFB/4Tp2RP9/Z564FrNSXsSAT6X4e/UbS5IWFGhZh6XDhSOA3VAEIIkQr0A15S5yo3DCPPxzdwQIiQtw+M1ERPijlY2y4vg2UfwpsnwYt6wY8AdO37UyhsDMeeAN16wKGHuV+QmcOmh8U7+Up73As/vwin9YUyg9JsqD8AuoyHmGQ4Q2+E7cd0bkUn4FRo1QSOSIJiAxY0/oI8pfoMph6NSWRl4TrOXHU9Y5ZdSt/49izhWC6gNfVJoC+zuH/LIew35P/xA7XxKEXngmXYiOyKn13GNbLM1HWa2kn7BG1sXe25m6XCqkmmaeIn3isGeOGFwOY3n42xvXx2T2282Uo1HEzt23QtDISkaGinlO33HBdC0ZroJo08h2M8VlVWMq/Ig+wloXngwICkg5jc8BK+a/4AX3d9jdoxMspv5r5vyF6vdXzLd/CVHIiG7SewLaJ9/6cghIgWQixFRm3ONgxjkcu4JOAY4H21qxXSfPWKEGKJEOJFIcwORr8/IuSt4RJLqVSz/OlMH8cdakDFdzDlEjgxEz4+CTZ8CLt/hrxNcK1j7PNYiyhMfR/m/QhHDrAPzUfeSn4Tz7cQDOxKTYLXr4KXLoHEOHbPg7WPQ67pQ0/WxAutsdfyVhin7LvP5cJH/Eo8UbxOLzY1mMDLLW+hfUIzssp3cWXWRAbHfENjkjmcupRTzQMqCr9PPDTqS2iVMydsJnwOtCNSoXFicLObR0/qVMKTNgQLo9TEzq0HB94NdO0KffrI1+fPCz3GWrfcCXrgWjWO8QD3qsj31ZXWcqlmxxMfbT5txVmcSDsvdFcYE7oVQgioKKVHXiVfHzSZlKhExtYbRmJ0GD+GG2FHgtD+OfhzNe+6QojFFrnQeimGYVQpk3gT4DAhxEEuV3088I3FZB6DTER61jCMbsgKFH9Yn7oIeSusZz7rkav7NNxrluvY+TI8NBY6NoEj+8Bzz8K+fdC0KfR7WFqu01tZj+hsEQ2pL9q3T6BmlWJ2Ax9ij8ZepVRpIeDcwfDTw6R3gf3rYebh8NWLoZU9A805TAxHBm+Z4oIxaRAn4DuVg31OYh8aNBxGnIjhnJLGrO7yOh+2fYBeyZ3IqcznLpbzBbIaW6FipOcHWU6oBYjbCNpnE5MrfpZZA6bcxHxobCGCZg6koKd36Wle+nY9vAk7wfKYgGMXNACuvEo+7t5NVK6HMnmEwz4fZvTRSfISDOC+xDJq1KbMEU4E7kXwGrYtsbcJBQ5KbsPOw2Yxtd29pMVogQJOfm8/BVoiiAD2GobRwyIvOA1SJu95SO3aCadi75m8Hdhu0dTfw39WcY0RIe8DQME+eO1qGNoZWp8Hd70OG36FzEwYrIqdtO8APa+DlEawECmhhD3J+Q1+tYgXspCkHZp95Yw2V1B/EaRfLGuK7HsO6jzhQOAm/Lag7A+1o2GwZde1SYNtQ6JEFCNq9+O7Ti8wr8PTDAPKLCzTAejsRYJepL3Cx7U2tpi4m8YHzcqm+IkPNaPQMyph9Uyo0i5K/xx+06VPPDFQYe+VN56yvXSJ03VVE56wW2rbA4FyGKy+gnc8c9uTCU0jC0fGbmSt5/lvCam+5oSUaAs779wY8HvP/nU2r3z/Stgrd8z31gncr3YeMZ3/cfgb+byFEPWEEOnqeSKyfFVI+UAhRBqyK8RH5j7DMLKBbUKI9mrXYMI3BP5NiJC3C3R38kyg2xxo+gF8cQlcNBG+WQ1J8TB2IMy8F7Zsgzffhrg4+GoOXPmrSdoSvcLmeqlEM52wB2vbZZZHlzSpEKw6CSqUAOtiDBpOgszXoGw57HsM/neTTHsGqGpKKGm3c7kOLGM3QJqlFOtdRZ+x31rrM2spAOLHKfRfs5TPOJ/PLd28X9P7evuBrsH6CWirp2bwKKDhJdD5dX/v1ZTQ/O1njoZJx0DxF6Hja1jjhLuB+DhpPgd4+GH3sW6LGLecb83kfo/ixE3VsDGE9ffi34cCzhp2no/xHti5BmITgqJw99K7OerLo7jihytCj9EJ24ucI9p4BHZkAnOFEMuBH5E+70+EEBcJIS6yjBsJzDIMQy/OfDnwujq+K3A/fxAi5K3QNqS1lsTZSs5SmumLn8GEt6BlQ3jtWtj1Bky9Ho7qDnGzICMDhh8HCQnw8UeOp7TgEkKywzs4V6WywYuwzTWCXt5NQ9oZ0OQj2dly8psw9hYoVf1Nqm7weI9mhBB8rgEzFA8kAK+X/kj3nAn8VJEFSelSfrBrSzOR5tvTEPQ0b0crSeqmUCfC8rDOPqAFrnWKkwVBiI/DtQGMibZKDtX2m5HjHVWXlx9VgZZwzV10EncznQ9R5pusLMq1z39lb+zfQbjavOZ3ovvIB0P3WMhQa6Xb4835pyarDf1L9yLjPEJ+pOIt9iHZlqwajbCtuLj9xQAUVhYye/lsNV6Jn3axB9rEJII/Dn8TzdswjOWGYXQzDONgwzAOMgzjHrX/OcMwnrOMm2IYxqkOxy9VpviDDcMYYRhGaGTm74QIeTvAjE86W20/ejf0aQu79sH85XLf/efBuGGQkkiwgIoizXPOlWboF57DAZdYBODT8BejmwCcYPWJmwFTfuKOgO3DOmN82hySBG+9CWNOhlK3ebiZRRwwqbuM0DhKwJJYOIRkNlTtoXfOI0zM/9xe9hLIoZTJKgvjBgT0qfJfWD4cYf8YumuFRQL6fXSY238AkrS90ON0GU+wcgZU59lf0/O5/eLeYMGWly49u2ZcU0no9+JU6Q0Yrdz9n5SBN2GbpvMa+LFD6trmuYxTcNCyQ5C1mvqJ9WldS/bou3f5vf6+mCRqFo3u9KU/4uO4CCL4kxAhbwtisQcVmx7p5T/Blo3wbBZ8o0qTH5kPzMGx6tmQoZCYCMuXw7OK7BfRhUV0AZ70vpAs7B1SvEgkHu8oZ2ve8D5Ys9uQTVKqDZiWDwJSUmDGx3DCcVBoDQ4za3k3185pyXMuroAnlsrnNxoH0aGiL99zCJemDqWCKq7OmcYJux5lb/MegWOeYTVFwNHp0LWPz+bU1YTyhpsG61JXPOCerrQkund+veYFWg4F2jeBDv2gogxWH0AfSf3a70IWa2nRQm6/+673OXphj0JP9xi/HyiGu0Rwc1qcXqDFWmwmXYkXYZuvZ1vEAzphW7VvkKZzK5Lkj3lJ+0tIj02nV10H04NV+07i92sTGkEEfyNEyNuCFi6m85NV9PXrk2F/MbROh8YuWlX0/dLnPUaWb+bxqSjS9oFtmVLCRHQH4EU0Bdp2LWCfEiuqgOJqKDKorIT0dOmvP3wovHYa9lreYfDKp7C3FDqTyEC1ikggiqcLSvigwVWkRyXxSfESDtl+M/OZQhGv8iTSnn2T3oNaR00KkZjQCPsTS0O0KtNSUVoBFR2Rmfp6tr4D6uPs985Uq6uvX/M+hx+LtAHcozpuFRWxZ7n95SvN27Qm38t+iwAMgIZRQRf57SG+4RScW6BZofu48/BfI11p7/lLvYcmpQZF4ZpO17DvtH081OMhe5tYkORb0wItEcL+a/E3MZv/k/Av+ih/DBouhHEZkJYCG5QS0N9qNtbzi/fCcqDXOKjbCLasAar0UG6L9l12PpQp0vYDt8IfTlU59frZOnavlOVTX28C56ZTWgqFRZBaBwpy4KLOcNM7sDPP5fgEoDFUfgu3bJe7VlHCCaxmocWWPzK5J0urD6cPtfm1ah+DqORkKslRrzdapYWzf0PNg722atsODb5MlFqDArNzgs/baKHq5qKiAfZOYjrGqPLHJQUQ/7Xd713H5ZhwuBsYG8z9f3NM+8DzAM94EXa6ejRTDV0WSGNUwZYtBlSRiCRtk9LdTBomSgnf7g3sZJ6HzGP0Y3InqJFnaauXvdsdxhKehPXFSZrHeDdETOcR/E0QIW8LlhCs4tRCyct9ISEeRg8Ijuun+xAdAsO69IKkZFjwCTwzZ6V2wI2KtM/3d2FlSD+zryLXuGvkDnMeZEB0HZh8EFzZiMoKKMyDhq2gZD88+Bm0uA7+NwXWZwNDCSHVd3KhQJFJHPAJ+ziSFfRlOTOi61G96Q2ak8R8enMrbTCALywVB183mairRfzAq2iJhrlKdlj96r+65NiZwdZeloemQEYjqK98Cu+H9DHwhhtHmqbzdeu8ecaaRmZq4z7qAzxtOenNzjeIhpr4vMG7n6sDsn8J7/c2Ec6H7fTZI2bxvyf+Rqli/yT8iz7KgeNIRIC45+Lc+XKspbdnX5O8v1Sy0D622zUyiHnYGXL706kAN1rEAfW17VT8p4KBJPZS7KQdLmhN12qjBDzeCm5vSnUV/DwTTr4B+pwEFVXwwjxofzOMvhUWW+Z4w4AJFk12bRe4nWRqk8A3FHBC1YcczPe8xnYM4F46cCOtbZfyfEw1xiHa9eXgjJpwxxwobxMU02NgWGuL79DIW8+Q0hdM6drzdOT3OFRVul+9QNamt0LXvv1aE6aoGrGGwaPvvGN76bqBDuO9TOhW7Xs30AkSS+MC65MXwx5s3jDpYS9ZIo/whK2Z1vPn+TinBbHxwT7fJnwGaNpwoN3FnjjA4yKI4HdEhLx9It2SP7s1FknaHjhWWT5nvg/k7re/GO+QW7zDIn7QgBq0nUISu07aBV8HnwsB97Tg3Ifk5nsPQU4tmPU4nHc8xETDe3Oh51MwZDJ8uR4+XwMrFJFmIGixoiH3UIusmAt5LGoATajFKnI4i6W05ismsokZysbfRi00kqMg7ycf1+9F2KbpPEyZUsMAw6p578jDpsJlhmlPZiKdUA4beS2IKKiqgH0exUP84G6gXz8ZQAFwxwEEw+kWon04FvS5Xk0D+4A9WLvVtKZmvos8nAnbyQ+eR4008p3rwjcm8QO3NLKIRv7XI6J51xj/oo/y+0Gfetf3hYWfy+dJcbDPK5e0EXR7BOa0htodoKoEEjtd7D5eb39lQu8jrTe88IMd2M3obh2tAqgm/no47D65tfZVGHoVfLcC/jcCTh8q0+PmbIChL8IpljVIU0t7yRQRx9XRPdgYcz6vRB9DRzLYRilXs5pVFFIb2dwLoFcq1PZTxU3nECdzucf3sjkPmc9m5mHv8BH9n+EgVrQF4hKgVTe5PWOi9zn95nwfrzqlrFsXKKJj8szNuvbtVC51H86BihZcS0wgfe5CspGk3dr9ABsSqJlZ3GcU+rYlAZ93dXQcK0s2+Ty/BX7KCkci0SP4hyJC3sACh45vR1oE4GulkD12Eozq5nCSVQR7XlsQqzT2kl3Aw59YXjk4lLT1VKwDQT41q74G6GHLz3IEpZpVcvUWePo9eGM2JCTDoQ0hNQ4KLYFABlBqfpcVsgdzXOWPnF1VyEo6Mp04UoBEJJfsr4bRdeAFkycaaPJbS24DcW8Fny8APjK17kYxcE8GDAtTRcwkaj8LpXhgzPXyedZqqNTMBLrp3K/L+Pnn5aNhMPGRW/xzh5sJvYW23bMcSKODWnh95ateaAfsGnlDj/ElhJL2FvsQq+m8opTPS1ZSVl3OLyVbSVp+LIesuZBS/TvducdOqn57AFihf6FO205fesR0/vtC/InyL0GEvDU4KbWGAV8pzWiAmXN9FlDbIi4YZnVV3vgWLI4mkJaU6VGIW0/3coJfi6YV24DUnUFByyXOqWC1KtXf+1GIUlpqx07QvDns3Qs/ZUOBVu1sOZW0YA8TKCSfRKj4PvBaFIIEDAqRU3kU8BAxvN0OUg5FBqk5RczrqCR8oNry0F0LgK8N2PoLvGtGC7ePg9szoH+iNnodZH4eql27weoj7zca6jUFoxpiHHrR1TTW61agThlkpMvtxxz7J9ihk7ZbPySwdZ57jhTOJ4Fs15u5oUX8oMQiWB7dkBeoc/51VRbHlr9F/RWjmJH/HdVGNdUYPPSTch04pI65IlYTP2uTiJYdwT8AEfJW0Et5X215vmU97N0FDWpBu/rICcDHJPDEI7CmJcSYEUEGMOwS2O0WjYUkbFPAu2CIj/kLq8XRTxGSZ3ZSWQyZx0DLa6D/DIhOhF9WQ8/D4MefYfx90KtR6KG7qOZmCmnMFm5gMztVLc8VFDFK+VMTgZnEcd0hlQgnK4YTTNLTtXEnIqxNyMKquBDO6wRfTlNjmlpPdAywTokP1EGayq1Ke0dklOIJl8ntOVP9ncuKHQRrllsXRv87Uz7u3ku5lpp4h246P5Lw2IG9XSxAvT30I47J1CKRaGRjdBMdlHihoXbx0eGHAyF+b1Uffm6VvLiC6mJu3DmZamXNmZzzuTdhm9q3GcZQ03KpEdL+8yEITsB/hvxLECFvhS4uBVoAflQxXf1agbBqe8O0gbMtz9sRaOZR7xzL/r37YPS1UKlOlLnCrkn6KdDiUjksAJ3Q8vFfOayoCp6UZoZOKjA+8ygYOAtSU+G9d+GO2+Cqq+H7YbBsRPBQ681UhMHD7KAJP9CVJfRkKUVUI4D5baHnQeXUWQlXLwzV4G2Ic/g8bnCJrRo8E5JrSXN/AM2sVW58fDFpSNKuA2zaBFdfCRUOK7iBqlzqohlQojmawxWjCaeRj78+8PSxS0+uOcfogZCeZV+b403aLSzP/ZoTCjVxTk27M64fU2KPJ0rZOKuUKWF7xW5+LdYqsuzVfENpHHgUeU0RMZ1H8BciQt5h0ERJxS5ZsXJjLGzQq0hacQg20jbR6Fbsvpavf4YbHke1f/V3MVae0X3ZepoZBItzuPkBN+hFYYYB2+DltZBTDb3iqG9Zz9TvC7O/gjp14PPPYHAf+LCP5Km7u0G9BGmtbUEMA0mkjvrA1cAyiihT2tP5GdAzGS7cDvuqYOJyaPgK3Pwd7CpGms5rGhlaip20FzkPa2ZdGDXWl+DX2zfjVYRi/DyImwtPXgRZWTIN7OSR8NSTcJFWCL4rUK8JdB0MafWgsQ9NXuc9PaDwlkx587VUlYHe+wRPHIl9Qah3pnNEc4sAfK+9nu6wXcp37KEDK+mDVtYUsGvfpsPEA8p0fhbteSf6eGLVTWAS+R3fXB56jFcQp659+20DChFt/M9ARPM+IETI2wHmPGCWUImOlu0yf14M7R+AMVPgJ3OSPcQiDvj+Y4hJgUS9lffjU+GNuf4uyG92TLhANX0uBuBlMF6Cgkkwcz1UGPCostffmIrQgju2HApfvw+ZDaCqGk46Dw7+EO5cIrXnGAFbqGQuJVRihCiatwA3qQC9V5rCMFX5raQKJiyB5lPh4h9go1PkvRU1/QdsDfOBWj2Du05tGK572zwp8fPk5lc/ww3PQ7vWcN45cMPNULs2zP4YzjkOKgvtv9FNr8NrW6FDuJZfCl4xC3EAWfCAyiMvLmWvtiYIMZ37xZ7ooIRtV2siHUinmjQG8AFXk8VsClhLKd9RROgqMp+glu2FPCkV0wN7RkW1Y0b0SBKj4gOm8/dy58k+vFbR4cdUHg5medUIYUfwN0aEvC3oQn/HxXs/NTkmJMpaJu8ugx6PyVSpL6NkQFsAC0OPLwYyrlQbVuI5/0lYtgmafq5fSM3hpH07IdoiADsKIO1eOOZVmNgJtlZB+xg4MZE3aMaJEBCATu1g8edw+blwVH/okAZJMVBWDZWW7yEfWTa9PvA10u1+H9BKvZ4UDZ+dA+8Mg2QVEFdWBc8thnYT4dS3YYlZ/CXVctJw1gQrFmHLeLpnA9S1WIEzQkzHUQRIOwD1uzSuB6cNklr31Ndg7GnQpRnUSYVv5sCYoyA/L3hYen254gPoo/aZrmA9/c8JelvRu3rBKUMDXdCevaCrbbgvjrFq31txblnqhLSGdgGG8THz+ZWJ7OYeS2HxIqrw/pF07Xsr4dLMjo5qyRftHiMlSgYW5lcX8s0PL9kHua3DwlVgc9K+a6Jhm2MneQ2MwBMRzfuAECFvH+h5GLRtB6UlcM8UuHYYpCTAl6tg6IPQcyq8u1ZqowF0sgiQfi5kXIY0Y5oabUkZjLxXFnD5o2+ufEJjiDbfComW2ephufLodkMlI6K2McKlP2ejhnDWGJj5JvzyCxSOgpyRsORo+PhIWbl9JDAF+AlpxW1pPUE/JcDotrDiNOjVJPiyAN5eCd2fhaNegWVZeBN2nnpMx7WfRu02weepTSDUPv95yDEAdGgGb9wO6/vDJSdCQhwsWg1H94RGTWDxd3DSQNiz217a1bSChPPpO8GtTkwPZff/doW3NVfXxkuRPKnXgHdFV9z82CPViqg+ibaSLo+5XriOKot4o9/Gzcw96IWA6fyerBfdB9ek7SfUzCweMaFH8DdChLw1vK7lfJ8ObBYw7Czo0Q8aNoFHToesiXDfaKhXC37aBWM+hg4vwcvFhMxJyzfIQOSG4yGpDwTeIkbA5mw4/SYCFThMOGnfNW1ZqStBnzmd08Loe4pIaARNzgjuelMb/o7pKv82KEJARjx0rQ3HN4bLgQ+Ao5ExAwCMtoimKbVMgwXnwo195XaVAU1TISkWZm+CyUtgq/6ZiyzPzUVPusPns+BqU+kTkJUIp+ORqgfAo0FplQzPVMHWt6BlJrwxB24YAa3awsqlMLI//LrdO8feqn37DcYDeOEm+VhZxR0zbrK9NN7JdO6VmtZYJ8+d+CkuP4Y2xBHFbkpItqwIX6GQta6sGU4j1/ZZTOcmetTqxOUNZau++QU/Ua2XoM3HTtjhTOcmuXuRcKzlMRxpR7TvCP4CRMhbYQnzWcJ8jkRQDAExccHNMGU+HKYmydrJcMsJsHUiTLoDWjaADXmwYLX7e0SnQ8tZUHeQ2lFpQEwUzNwMN7m0pKwJYTelZqZlgPhPbZulI+oR7fJeY9ZIsfUGd8Kp6tFK2B6ITYYJx8PM86B+CmwrgMQY6FAHnlkM03SeLcbbUmFZrJS0gSJz4WFAuef3M0+JQ+OS+rXhipPUe3wPHy2Ajl1g/RqYNjl0fG9tez81y/eOBx7oBQcnQZwiy3NdGCNcm9DTnQ6oYf52q95kAGNoRTpxylQusZlqllCGYa5Ok/OlhNyMblGf4TXy+5tfhkBQZlTw5sL7a6Zlm37smkaiR7TsPx4Cuzvvj5Z/CSLkjWxMEg63gS14a9VYoIeUuF5QLwPWPQ1vXgM3j3I+x/tI92vbZOj9KdQxI7kr1Sz7+mr47IPgAdH417D13PBw+IxgYZFkIHexPRK+NHTWD5C2CT347mTLc/O8XoRtat+NsaVQHdUOll0FQ9pATgmsUSnxry4Howj7qkr3deqB+40laZe0gdWr4AUL3xWslY927bsa+BS739sFYwZAbDR8+RPUeQE+nAc3jofr7gSnODW9n7YXVuO8aOuhbP97CwLZhiA56VFd+z7a5dxha+hrroP8LVCnZVAUXqM/J9Ei5D/nNHJpIgo4LTqf5ypgdTUYYQnTXMV4mNB/eJOkmES6JMtghUd3OvQG0KFrzDWJMg93zggi+BsgQt4OCNeg6AUlAPsLIf0wGH0VzFwKp/aFdmbhkhWwvk1QrIhOgCNmA+20alZXngUbVgdXh14532X4I2xzrJM5VwiIt0zB7+VxWwncS1BW+anRoXfjCoeDlLjkPTesJTXwBwYFb9D1ua4ZYHY0JmRBUFUFxw6Ctyzz/X5F3pL/vdpxWbERuATqbIXjOkO1AW/8BLUz4JrbpH/ECjcrSLrDPj9lbd8PprTdc/VhNVMm83EgbJei6g27BcUBAsFkjrRURZdIBX414K0quLgcOpdA/WIYhUyLXoJJ07rpQfuvq3g/+Nzs6x2bwI1NzwMgqzSbymqtxJ65mDMJ+7dGndcEEdP5b0MkYK3G+E+Td3V1NfPmzeOh78LbgadjJ22AKztArRRIV+lOZz0DBcVQPjIo4RAVC8d+tw8SLT9BUSGcMxIKwth09Qle18yaWZ6b2rhXjfM4Gc4d0xUoqGLIDI/xAL9o0kJ7XS8g04kgaftAVAzcNAwWnA4ZCTC6PbQPV7LUZDHNvJ74vgz8Hn2aff+va92DlEPxLZK0tYCscT3k49TF9v1lhJK2j6wxTzxwEjTMhgS1unvFR3qX7ka50OuAjq6EHUArqeLvYR0VWoxIGdLo8mwcnBoNmULS8gfAVUB34PpEoJ4PE4RJ2hac1mA47RNbklOZx6yvLYFrfv3YgXMTCT6L4B+N/zR5v/LKKwwcOJC777475LXpFgEZQe2E66UiQE4eXOWRtq06bQbyyOtlAJO1ii4b18FlZ4b2hDbhx5TuZUKfZnleD0iQJ41TpTXzzgtzrNnDPN3HdWgR9yHQfb5pBIK/H50HBz8KfRrD5gvh7eOhtp4TnURooJILThtn3y5eG3w+kFXa6CJgg0VccGxnqJ0Ey3ZA9uX2RZV7wT536L/tEst+qwn9fLVoKKqgREuhfnQw9gItJ/l5444WAbI/tL9cnBd8HkgZ20I0gpOoZ9O9y5DxmBeVR/NmAuw4HDZ0h5daw1nx0DIK+vglzGLNNP7DmwghGNfweACm5s7y9mNbte9Y7fFAESH83xcRn/cB4T9N3iNGjCA2NpbZs2fTubw30QTngqN8HP9yBzCuli2GRRS88pKsPmZCbxL2JQ5FoE6vD0fUsu+b+TE8eZ808fjJ+V6viQ4nzbsewajneMkKsSram0L42ZKv3vlDpHbto4c54B7/5LQecaiO9dV6uO5TWJENX2yE1HhLzEEmNQs8SpW9SqK7QwNLf+viNW4H5CjxwnMQXwKnKFPCU45VcMIj3ccYp8XaxGMDT2+/WFYHqpkiqfc3/dn7EEuet4k6xLKcwpCefLm1gJ5VcIj83VonwLkNYEoqbKoDo/Qc85j9Sjb7uI56jG1zFgDTd35OQZm2StV9XjXVsGuqjVuD5qbU4LgIIviN+E+Td506dRg+fDjV1dXs3u0QVazhXU1uA2rVhcf3wMkT5JhLLoB9lpLWX1rECWeJr2Fy+9BWdQ/cCbOdcrssWKlEh9OEn4p7TXRF3nGHECjece5lkrQ7a0qYK7YhV7XW+d2p65cJs+2njlowqG3w67hgjs/3t2Izts/Za7YkkVGXBIeUrAdDxUjJOCadtHWGCbY868AvdDDLgTZSPV9fXAwlWgGS/tjN1n5iB3Toa4LHbpV+gFYqXuKDld5cY2rfZrDfWK8SdkDrw+2SlG5/vdvNCATj0MvsQq5b7JkqjCMEMiahqyLtmmD2kzRPakr/On0orS7l/XlTQsd4EbYeuGYZ/8uvv/Dej++Fv4YDjVyPwB1Rf6L8S/Av+igHhnHjpD01Ozs7zKguQBd2uqjBibXgqGugTR/49VcYekUw2EuHo+uzYzKcWEc+TzXtOgaceRJs1FTp3UgicCJtJ7hFOFuLVCnyfqoM+qg0tmo/KdAfI0l7m89rycCdtDV0VmO2+0l52wmkWMQFR58R1OCry6AwKziP9yXc7w/DybWTduCklmjEBy0tvYqw56L7ha8Mg+9hQgv5tLiKbZri/KRTlLnf4K06w6Ssmedj8ErGOvhncsxFm1N0txZMGB7lUPyK4yvjmsp0hqnbLe1s3QjV52ffuncrnW7txDkvn0NxmXaQ6U+PmMwj+JvgP0/ew4cPp3bt2hQVFdG6qIfttS6Wv154NRrSpkBUIqyYBmumy/1OQVE7NQHg5fZwSSYUVAV/lfIyOPpwaF4gSdvbOCCxBJlqZCXtTS5jAeJl2a2KMrhDxQBVV8OTOpE0Bl6ziB/EELTOgnfwnIpYf+/M4K7xy7QxVt+Dz8VAr9lQ3RQ6DwjuK1nrOhyQhG0KBCqtBtCB26CeZbXwzkpv0ta17/Tw1wDYfd7xwDMzYHSQAR85zW+YvwU27bsRkC1J2w9ME/qAObQihu5aCG+u1eLSThMdegBji82E9kQNxcmNjichKoG5exeStWKVnbTDLfjCEHDzus3p1aoXhaWFfLTyI5tJvLDUT312IqbzA4EgonkfAP5FH+XAEB8fz5gxYwDYtWtXKKl64DwyMHWDxLbQQpnPP/sfFGv+N7fzHsV8qB0Lj7aBSxvZfcP7cmFYH6gKZ4NWWIK//hIgw37FACmD0qFHCuO2dKJ+Y2imzJsv3WcZf48SL5j1N1zaczrCmncO0BDa15f1awAema+NT8KbtK2Eb9HIB1gC14o18u5Ctk2y/Fx7hoWNi8qgUDNzDLZvei5erDDJ2s2d3lLW+2Z9kXc76rFOOxsp8YHW3aHLoBC/N8CFFuYUQFE1lA0Ahjicp6vDviYW8YPPHiItqR4nNJKLjdez3gk/vgZa87g+8gZ5bZFcnRaVFjF0wlCaX9Wc0oqalMOLIII/Fv958gY480yp5u3atSvgBzXRRcs92kkXdpIREB2Zl0HzAVC0Gz6/VO6bjp20XbOGEqLg6QHwwZGQbskBX7MKpp0iVWMTZvDVTIt4YROStLur7Z/nyceUaFhcCDOkz3e08g2v+g4q78JO2rop1LpYMK0DXqRtfoy6ShKdhx3TXj4WlEFpHHazqH7n6tbbejia0XuPgmg1iTezZHilYc+yC4dmFhmaemGgYQgGsOaG0AO88rfTtW2/FfVe6xp430tetndaedbJdF6oiY4czUS9Zp4k7dbdHQYHMYaEQIyC6fTZZ/JcqEs8iBaEphgCtNByz4tfCbQKxUKg45rJUn5Tt76NYWhhcxXY7xevAi3Kj31K/1OIjopm5tKZLP91OckJyeTszyG3MJdPVn4SPL2ocF8MTPF4rwhCEdG8a4x/0Uc5cPTu3ZuEhATKy8t5fO7s33QuEQX1XoboFFj9DnwwBfa49LswIRV0izNwZFNY1g8OOyI46NMP4METoKxYVitZhDdhm75or+peY5UK+/4e2o6HCcUQLSQXfd/H5RhkfRLjx6beJn0rsZqR5XU9rh1411LO88xP3McFUA97FL2GEd9BUip0UJ/pl2/Ct4HW0YvQCqNCABmWFcLUb+RjnkV0tHTYV1M8NgP6xgXZ8l5fdgI7RrgETnQYEBQvDJhD7fjdgZ/TvJxcNyU1k1DS7hruDQpwy3s8uuFg6sXX5Zf9a/l5wddy529pSlIBdVPrUi+1HgYGd7xzBwDj+kptfOq3UyEWnvzqSfrf15+8ojyfbxRBBL8/IuQNCCFo0EAS2CuvDQ3sX0EcKxx7J9ojbhYqDXwhKSwkhcUtU2j3iHxt1bmwdATkaunCvZCkbVrWu/OGfUCzZFly86pbg1FWy2fB9QPBTI/R3fFWAp1WKcUrmPfnedA6kfZHAMXVHPQ+DHsFOjWA7o3gso+g4y/QajU0XgV1V0CtHwVxP0L0YviIYvZO1yKQftLeoxpvlrRq3/FAc0hIgXS1f5abfzrdInqGl9b3GqQnta/yp+fuCE2n17XvWORvFbbGSoay98fGyFZzqVqIvNsCyNSwS7d5u0W+x1mDH6Voc0uZrbdNLWCarn1fFO4NukrRCXujFg3XzDlp/1J1i5q2qFxr4H2mRcC7cmAj8CxW8NF4YqNiOa2prM07devb3qSta98u2vjYvtLHMGv5LIiF0/qdRnRUNHsL9vLi3Be5cuqVfLf+O75c9WWo9h0JajswiD9R/iXwRd5CiNpCiM5CiFZCiH8d4ZcgqNdABm199AGsKIrVSNs9simTXDLJZaFmn21yIdQZChhglMObl8q+3zVKO42JgZvvhXdmQx01SWf/ANMOhRKHXORZpUHSdoPVMtr9c+j+OW8zn5G3Qv9zYOsy+HKDzLFevAOW7YQ1ZbC5HH6tgJwqKMQIzHsjyWGykw02XIMMCDXbxuBoLr7nGPmYXwrZ1mOSCBtZbkNtiwBHjpUV3CrLofmrocNbY2sF7omkDOUUadJArgamfeo+WC+48uYR8GIz+HGMz3fT8IIylxtw+QMtqIUkbl/YDSFdxL553H286eZwQD2lcpv/NbmlyGbupnihEXYXfB9t1VnxvLYtswPGNZOdxt7c9h4VVRobWwPXakCqt4+6HYGgpLyED3/4kIbpDdn81GauPPZK/vfy/wB4fOzjnHzYyfZzW8/vo/R6BBH8FrgSsRAiTQhxixBiBXLd/zzwDrBVCPGuEMKpCeE/EokYJCZCrVQoKoKXPvTuYGCSdnDbzkazRQqdX4JoNZPmzoL1HxAWQe17lZT6XeVmv8EwfxUcrppg522Al9vJphGzSoMChCRXP61t7yJA2lZ0GwYn3wE3fAy3zIR5/4PvLoGfac0q2rCRcWznbPZwHgVcSBlNmaFm8qkUEXA5moVi9BiirQ4f2KvecGO4vJ8l53smNTOL1iFEGx+zBmLjoJmyWnymuEpXDq3QS5j0xZ4tEG2qm1sVib/skByvL0xM03mRSlHb8CFsV3Vp0/EXhf7YPEiLgzqKNZ781fuY3UHZXAoLO08LPz6zTVjSBqD3qsBHi1WXkuO3hnS6EqdIdB0V2UFROLR2NzrUasfusj3MmjE99JiaFmgBUpNSad9IBlxM+EhGoK7YtoIznjqDaqOau0fdzVUnXcX6vPWRXO8I/jKE06LfQ3pNjzQMo71hGH0Nw+hhGEZTYAJwohAiXCHNfxyU5Zw3p4a+lskKm3ijObubQr0nQKgArs+vhDKLQjHCMtoMgCKkVKdCvfrw4Vw4/Ha5XZoLL3YgbPlOE7ss4oBTVO/M+i3g0OPhvveh//MHcfikg+hGIp1IoBVpNCaFuiRSizjiEBxNIvWI4hcq+emTsc7V3ZzgVqbQyUORCJ2VNvala1U0DXWUhMHxqr/HtpVQV0vtcuMptw6UAfKuroa4GFi7BRLfk5H3prhFw/W+M/h84elgWGz96dpYa3BgwHxeCy5Q0Yt7yinMsx8SYjqXblxu3AKtfoZTnX6zzDZBAcjSzNfdQ03n8epLMzk7V8+ttmrfZuXAdIf3dkKgApu20HjvUlkuVWnfU7e+5fOEGhwI/vJjLgdg8cbFzFo+i1GPjqKyqpLrTryO20+/nQ+//5COV3RkwgcTIgT+WxFJFTsguH4UwzCGGoYx1TCMPIfXfjIM4yrDMF5yOPQfi7r1IS4OvvoSNvwq80wzKSfTI+c0iOYWgTV0Ju1saLUREnpAwQ6YZ4ncTsJK2i4wtW+ABlHw7T3ISLVY5OzdDXCbtCqBAnhXY+0xofm8Y/4XFF84bR2xsadwipDlOc+v8oieKyeUtN388Zpp+UllUS6thG/0CpqVBMnag7BNxAEDTpE9LwwDSh50H9tBSbj5OcqaZn3sifJxio9yqSlAz7EQrVYtlYXw+UgoDxOo4BS1Pj6otl48MpgBEa5mzcnqu9pRDpvNH6JONylzX3Q5yh1mY7oo9Zi70GFQTbo6xQED/FVgO6OZvEE++vUz8ku0JG+nFoE+fFcXDb2ImOgYqo1qjn/weEorSrlw6IU8dOZDzF42m1MfO5Wq6iqKSsMk9UdM5xH8gfDr8z5YCHGCEOIkU/7oC/uzEUV/YmPgmOFSgXr0DXyT9lFA12+g58RV8H4B/FgC2RVQbSAExDaCBs8CAr6bCPkr3clghC1BGSaxzCGC+ihkVFgUkr3OAf5HsDqI2ZWiHDgNOAbK9uCEvhxLX44NfeFCPRJ5Hpz2SFAU6gsZUbaMPeTrZTGfxl5vw0tzjiM0RSoTBnaAOEX6l5lR5w410V2xgWDeeQKM2AJRUXCQcvzMcSjiZZK2CZ0DzrI8z92o2LtZcxh9CnQ+CJIdaFNfpdVDXkhjSzhc7mqYcw7oqU8mVmvbD8yQsREZiokW7PMqNAd3QM9aUFt9p7fX+kiSdk2gad/xdZ4CghOKa4lUK5pq2+2Q94CTBcYR2fDeKJonN+OQtIMorS7lmpcv93twEA5esqj4KPq0l5GG5ZXlnH7k6Uy6cBLfrPmGERNGUF5ZzpXDr+Se09Rq3G/KQgTOiASs1Rie5C2EeBl4GdmS93glx/3B1/WXYD9w2DhIr0dIW2YdFwP/q5I0mv01zB0FP14NnLwNDtsEmesg8Rc2toatA2Drk3FwYizVlfDBJcG5ua/DuSexLCDu6AJco55HIUue9UG24TCRg2xjuRTm9oeSHbKg97slIaR9pBYPZMNpi6U44BZLHPbFazvYfKq+EId9wnbRhgYo5XL5DrwnStPPnWgRB5yqmsnlbIf6W4OE3QFfmWysoDMr6AyJakZop+h+1UpYvtTe3casb+6EwQ/Ytze+D6selJFnOsG54R4VuFZlsO5H+0vTnXK+98Ioteb40av2SFJq+Cb3QHyU/AHNuTHXaZIMLYtQc8RMA7KVBNEtXVqAPtjxsX28U/iKd0gLALedfFvg+UNnPsTSLUsZft9wSspLOHfwuTx24WN8vfZr1u7yKNUXQQR/APxo3ocrX/dZhmGco+TcP/zK/iL0OR4+2AGnXANva691QZL2xUDOBnisBax8CPJWQalpmT42GbomQJ1oKDeo2AQl84Gp5TA8FuoJNi+Anxz86i9hLzluYpLQZsJqkP00r0Y6DquRat06oB8yttBAhl99CXSG/b/AJ53gvQbAQywUHv1LP38pLGkDcPK9REdH00Y5L6cbG93HmlgDVFnED8nXhRevkE+rDZisV5HTyScVV8I2MWILtOsJqSoCfd6F7squiY2aXGzGJ2xWbJA3H7ar5PqmSs0OR9ogte9mR0C8tiKZdzO8PwrmXOd+rGlCv2sGXNoqsPvGM/w5YR+uJ40R6ypgU61r7S8uek+SdpLexcYZ8cUqYFPNKLmVgEMkfwCmcUhHC23baXXrgPGdbwUgryKfb954XRK0SdL+G7cHUQFDuw4lJUHaMK6dci1H33M0BcUFjOk7hhcuf4Ef1v3A8HuGc+RNR7J1t1NEJqGBmxE4I+LzrjH8fJTvhBBuHZn/VUijPzExEGPR/rpYxIrlr0PBdvjpRvjpJgLfZL/DimDJobD3cCg8HNZ0g1m14KVkGBoLj8iJ9ZProXifVGh00j4l3EWKrlIASdzmT2gA5yJn86uAU5F9PF8mOIsVINXSu4CbQ8/9+UtBAVjo4bRrHQ+pmUxIkX7eEipYqWs1L6hHr9QxK2ppkgFN60GqIuR7nJo+uXVMM+GwrmgLDFEOoG9nwZO9YPn7UK2ZfM24BNcq90OVkXpDOaxWxVJSmjo3bNGtBmlIAu82Ulb4ibI4hdd9AD8/C5WaX3U1ztXaWinS3uCjE8eTkB4NJ6lsiGn7kZ3DTPGDLp0gPxvys4mPkv805vrH0WyeSyhph6vA9qsSL7w3iibFBk3j5cnu3vKMj4M0uGjjww8dDsA7375Dzv4chvcYztRrprIyayXD7hpGUWkRR3c7mqZ1mwZ/25q2IY0gggOAH/J+FUnga4UQy4UQK4QQyz2P+ieiMlhE+wclOsw4nAF3wNjPoEV/qCwgQEpLrSycHA3tkyRpnxsPzaNhXBwcWYvC3TBdWeUe9risi89BI23AOBz587VQO7Yhte7JSLXzY2Qd1PFIjTwZ+0z5PQvFau6HgCzI8pE80Do+KAAXX8Oo+IOJUbfS//brXczxJmxT+/aoh36Gatq1PQfKUwmmMNV1eI8w9T2suMwSQLjtR3jtZHi4E+S/CCPLfZZMPU4xYF41ZCuzbSN15OEO45389Sc/BY+XwDla8GFlMZT5jKJ+VZqOMWDk5Fa2lxxN58A4tdiZmkdoidG5L9u39xLUaDWyixeSqarVKQKdxZ5FkraZVekVsLaHUNJupY2JMRvsZmM1oZ/bcAQA8/MWU61X39mpXbvPTmPjTx8PyO+mR+sevHvTu2zetZmj7jiKvKI8RvYeyStXvUJUfJQ7YUe07/CIRJsfEPx8lJeBccAxBP3dx/+RF/WnIk9IUcStk/ZRjgfJomf3DYP58+Cc76CZSsEu2g3k6/bAjgTaKon2MKklIloqVTtdrNIXnxMUAOMcN//3ewQ9jecDVwIlDuM+RfYRtc7iXssGoEO8XVy0iV7RkqwWVWV5n1N3EUbjq4nJxLODz6/3MyHGEDaXvPMWqN8IGqn1RvN20KgF7FkHT90ElR6+0RVAX1ZBc8tdslIFBmY6OKtLCTXxgyTxhBSIiYNuo+Ao0yqiftcFD4W/EFDlUqOC0fyPe9iKK4EiGGLAyQlweypUV5/vPr6izF5bX0O8kD7vKtVdJLcK/21IrSl1EOj7HfbaHVq43tD0XASCcqOCaVNVCkGxRWqKCmib2ZbM2nLRWy+tHrvydjHk9iHsztvN0K5DefPmN4lJ8BtCH0EEvx/8kHeWYRgfG4ax2TCMrab84Vf2ZyHdrm1cmxd+eAdkpLE12viuw+Gs+dDsSKgqg+PfX2R5dZgSCw5KoufVgAEzL5ZmWpNGM66RYlYD80YmYPbPrETOUocDjwOHWcbdjVRH3ybYh3FmiJ/Xpn33OhlW+FBhC3Yy2ZCh21UYvJ+jre2cMo+icc/3dkIHiKsLTVQk2dQvw4w1NSA9y8jhrm0LXKA4K3srTF8P970Ol0+AxORQxbkLkrRtmf4ZlpVHtjJxZyrNey/QBjtphwsQqw+cOx7aHk3ACJ2zAZpo9uONOLsKLlNdvzaWhpR+nXM0drP18xAj4N06cGaSrGdvQ0VpKGnv1Qi87yCAgNm8orKMaGB/NVS4xRDEYK9y41KL3oZK3P3kAPNOISkmiUOSZXGVx7ZOrjlhu5VL7S/Lpc5dMZchtw9h+97t9O3clw/v+pD4OC09wimYMmI+90ZE864x/HyUNUKIN4QQp/lNFRNCXCaEqKuetxFCfC2EyBNCLBJC+GuQ/TeCNQoZ4FGXcQcrRl80FRxJ24If7uxJrcaQvRg2TJaW34xrXIcHsJVlQTHMqKynCKqWMUgt+0zATIpOA+YiK3R/TbCX5q/0j7Kz4EcgSbvXyd4XYwZjXfQwHaPrkKiu4abqBc7jw/0D7XDY51Be8ybZSIp9hbDT2pI6ARmx7neiLCKQWXfNdXDq6bB4GRwSA8NOh5EWJbQOHqnkqfFB40eVoT5jpmeEdgDx2D9nVDTc/AbUVmXYjGpYaok/COdeuL+5vJZyg1FvtLWFDviC3r1rrkcph2Jg7xbq5OdxTcpRXJjSL5CCts/0e1sjP80KfF7Yp0kIwTs0Vdm7hWtrSx91abVDmqduFAoXSGjBbSffhkBQWlHKxp0b6d6mO5/c8wnJCS591J36szoU3Ysggt8CP+SdiAyPOQr/qWIXG4ZhTl1PAI8bhpEO3Ag8d2CX+ufB1L5NbvKTwrkRSDgZohNg9zwY9NVt2gjtK0u5kBET5dMZV8N9LWTrSxus2ve+3Rgj3DqexSIJHKRqcgkydWwP0u/9MzAA6Vw+AZhDcFZ5k48gII7QtW+XCOqRQlbk2kBesEmG2SxN76zmlvOdgnt1kUZw6QnBPi3nv0jN+oZXIn8oS/xX3CpISIBXX4d27e3DOyvRoWcS9416GDIs4e1JSRDtYVLQa5zrSMmAsR8GC7h894T3Z31sISTFwMEqcO1Rp4g5Dc8jvSxKKssu9T7GwRRdOyqZR2ufwo2px5Ih5OIw19T8d+CftLco8VMPPeCHCPojTk8dwIa2L7Km3Qsw/bPQQ1x89q6ogNS0VDo0kUv3hNgEZt43k7TkSGL374aIz/uA4PlRLOlh59QgVczqBKpvGMaH6lzzqIES8KfBYjpfkC7F56I80GnzFiAuDaLVYvwHx0pl51kEDh4FbYdKJWffVuifpw1//HzYt1uKJ84iGJD2NmAWUrkO2e3hE6Tp3FQRTVvrW+zUIvOue9dhYtqLvQ2aA54VQwLP782trTdfc4eZi60TtovZ8yDVMeRLPWXMCfsJb27VEJcXStojwow3O8mRoawZF58Orz8WOtD0VJgE7O4+DqLFITBahesX74Om2pf/iza+LUABXJMhtzeVhzQrmzPcsmHxwV9fBOm50M/NS5K/Jyg7t9tfO8o+HdSJkj9kbjbOFhXzva3YhyRtXzBvGO3kK68kKiqK1vFaCLu6b7M2Z1Gm++31f3QXUr/iBJmrWF5ZTmqixU/hFKQWKZcawZ8AV/IWQtwmhMgI8/ogIYSbBv6eEGKKEKIV8KEQ4iohRDMhxDmEGq/+FsiPkeIGK50dgsyedircmKk6ihZugKD6OUSJ3WNwvZjMqEkyQwhg6Zuw8vGTJGk/7hw81GyEnciN602NTwDvW17ZgXS2nqC2o4HRBMk7B6n2RfNGL3j/GMiaq+U6fzQ+KF646GFSq7+grrqlvvDjcNQLqIS7M0wNPh2eUqnP5RXwjV5xTFgefVZUissLirnthQBpm8hQd8i4EXDCEDjckptm5mP7tRCYBN8W6HmWJPB78yDFoXRMW4uYGJcugwsLqjl6lj36vxk4Bs5tqpY89mMV7Ku2/HYl++CzR6gJMlS92FzrvTTDYeA6i/hBDHgm8JvYu0WJ3Jy7Yy7d3uvGVS9c5fPN7Ljw6AsD5VInfjCx5g1PYpHr5wicEdG8a4xwH2UFMEMIMUcI8bAQ4gYhxB1CiKmq09jxwCKnAw3DuBWYB7yJLAM2HvgCOcWc8Xt+gD8KQ7XtJCRpH+JxXE+LU6DhvXciSdsdddvAsSZPG3ARCzGwzHof3RJyTLMbgmJHN+zNo0/AHhE2EZlTNRr585Uhg9hi2DIT3h0Ej/Vqx6Oz7w0l7Oeud/4AP/8cFOBtGrCIxnznVBrsU2xlSkM0RyeYpG2iLfTvLvt/AFw62fKaGVXuRdhmoLJJqpt8XIeGt/WepnWUDzYnTz5WtHauQ26F9TUzdcyJ4A+/wF58AILf4Sxt7Izl0q8wLl1uT80L5Km7pr29ADnqlqsE3im4XpJ2yb4wF29BBTBQat/Ti3/muzK5cMkxHMausYgO3eBTH7vf2w9W3ihJ28T0SQDUiq1FUWURz61+jpe/VSlwblHouvZdDFFRURzR8QgAnv8iXDlChSQiud4R/KFwJW/DMD4yDOMI4CJkq6to5Ew/DTjMMIyrDcNwLpgtj59iGEYvwzDqGoZRyzCMToZh3GIYhl+L9J+KNPqH7HPrIuWGK4BNaRCtFKQ9T3sd0YWuwCUTg4WsvmE3U506hR1VLyhhYbXXv2Z5vtuyfTPStP44UvuuhPppkJ4MP66Dl2cj3g6jJn76hpSf9WaZMIhkDjO1o6WqK5Ue8RcO9TTJcx42qKd8XLEB74YXTtHdfszWQFyFlDFePtIMtWLYHS+J2wn6eqYm9dlBXnMr/GnwZ6gPPT2fQs0Uvn5U6PAsS1GVZX7qkm9c7eg7zjdKyDVkUEEgnrAoTopO2G7GGWskuid2YF8ROqNH/R48e+SzAFz81sX8uNZSQ9ZnBbarjr8KgE3Zm9itu7JiLY8R0v7XQgiRIYSYLYRYrx4d84KEEMeo2igbhBA3Wfa/LYRYqmSLEGLpgV6LH5/3ekXEDxiGMdEwjJmGYTglElsvvJkQshGmkDhHCPGUEOJiIcTfPilyCfbuiyZ0z/MioNAiJupdJh+r9gL5moZmnI+1ZtsQvic+Ec6wxLddzyL2mezS7bRQwm5hV2mCpnOw52XtBcxqU5OQLHYcMu9cINdl84F2sDsfyirgiE7w1ny46nlKDG1mNknbxE5tNj7CElYcv0GKF2Gb2rc597p0RLUhCV68Vz6tNuDN5drrB3KHWbXvEojbKUnbH5pCbRXKsc8SAt/HYagXYesBbE3x1uCt6AhsWC4LAnWJglLofpVLpw/lC67eDdvVLbUsGSYlAoYWcPnNq1BcEBQXnJTYnRhl7dkUN0iStomlYTqOmAFtOpHqFfNizKnHo3C9FdMnwd4Czqk7iotbnUd5VTknvXoSuwtdYkmcfvdiGNYzmD1y+4u3h47xQ9gezff+s/jnmM1vAuYYhtEWGfl7kz5ACBGNnHiHAZ2A08wqpYZhnGIYRlfDMLoi/ZwfHOiF/FEegM8s554ADEdyXU+CBTP/dijETtrhNG63SGSABpZ5L/3iIWD0CooLBp8urZ1CwG5Kua1uviRugBe/Cn/hD5um8R+ABcgZz5wob0Y28jZNfddoBx8CfAOMg5Jy6UROT4asPTze9wm44ZGgnObD42GSthus5GxGlfv1Bacr6QyNG0BTldL8zJs+j7dCN8NWEYy69oFs4AkKgabwZSFMUQal3BznA9zytZxI2R5A7Y2fkKTdUdt/qFrFfGhno0ywBR7u2i/5qo6Ag/UgeT11LBwGnkutqEQOiZWFWhaU+Qgv16PQwwXpVyZK8SLsbKlhU7AzKAoTu06gT51ebM/fzpipY6ioUt+NHoXuYBWIj40nLkb+X7278N3w1wD2CSSijf9bcCLBqv2v4hzPehiwwTCMTYZhlCN7Np9oHSCEEMAYpGv5gPBHkXeUYRjm7T8EGGMYxjQVpX7oH/SevxmNHUznVtQnPGmD1G+jo5GxYkDedO/3HcL39G4MfYcEA8ae3TuDxcVhuhU9HB0UwCCFYAb6hQTLvlQgfd95SFWwt8PJUpBrqpchJRHypNnz1u+SyS50GG7FNzfapUzz8Tvlt3r1rLQSfLr2aME1qjbN98uhUo8m17VvJ+6xNkhxghbcPQKnflbAnipZlQTgu++C+6OQjTWspB0uAt8tdayNtt0Ifz3M71Ekl2dwzHeStM047EKLd2WbMhY0s8YKVBFK2D9o80yWihbUNPJzkmU3kVUVO6jW69YujZNWDlP8WBQCpG1CX2FZC9goE06Bsy08LiqOdw9/lYYJDZi/aT43fHCDjNTz0VMHoGUDmXu/r3AfS1cuDT/Yze8d0b7tENiLNv3R8tvQwDCMnQDq0SmpsTH2zgbbCf3PPxLYZRiGnwRKR/xR5L1NCDFIPd+C8vYJIcJNNX9LmLUz6lbB6jnwhW6i1VCOzKrGrGhZAmRpYdQBDXyHReDmh+CYk9QQDIZtuJmVJarQSr4m99vZag0GMqQ3HrgUuIBgZYvlyJkkTIcqAE6DO5dBs0MgMRXKirh9vsvQTedI4WuPcwKtNdGh375JBLXsMLjsdLlQqqqCZ1zqwtQI20N3lccGxRVjUiFZMd/Xc2DnDv//WfUIJW1fOc4e2JBDl6b5xCo/e24Ye1eWIu+mAvtiRtzrflBxnpJQE/p5yX2JQlBJNa/UHqv21sDBn6uJL3OIRxL8Z8FSwI2Kqniv4yPERsUy8YeJHPX6UZz10Vnux5oaeT60atgqsPv2aQ6m85oGykTwV6CuEGKxRS60viiE+FIIsdJBTnQ7oQankFk9fPM0foPWDT6mGCHEkw4y3uODnA/cLoT4Gmm/XSqE+AqZYaXbbf9WuALDxpFmJumsx+DRIfCFQznwcouAorORBMnnTq1Zh1iBUwJs565w+W0wTBH43qp8uqw5n5OWjKHylvC9ER/GAAyofzZ0WAe94qCj9d5ojL2uuQsatoUbvwxoXS8uEyxT7U4X3QuLNp6hSNsHTlCipwI55YpbJr2FKxw06Tz7ZnlniImBw1T+9CvTPa4liuAPZMLddevqTr1I236CXyA6Ho5Vztkq4MLzw/cXPYhgQB64F2oJB/2YaepRq0rX6DloMQuavhJ6isL/AUWwTf2+zZyaqOgwSdtEllbprNfJJETF0S1WxrZPLPwSSCObagaTRyZ7Q8q2BrRvM6rcV8xCoiaapl38hX27ohT2bpcCHJHWnSeOfgKA2ZtnM23FNHbl77IcT7ARiwWN6wQVqC+XWqoTuhF2pFyqN/58zXuvanNtim1paxjGEMMwDnKQj4BdQohMAPXoFDixHXt4ahMs5iEV93USoV2nawQ/+kEC0JWgd+pgIAM4Twgx0ekAwzC2GYYxEBn6/CKSzG8GDjUMY85vueC/CoeqCN2fP4DKQrkiMcXVAjxCPU5HErYpDmiucrQP6gbPvQ/nPxV87ReKuDJMPtOO0VVMjTKIEkBcI1hzNGw8G1IHEawOsh5f7Y3GlUJqXeipyqMaBudvgu99pHoDkPqlJJYTPEdKaCSZeAwceSWc5dAXVV8kAdyq1szL1kKuTsZx1CxIJTb0esLlfGdhSU2/qwFMagypAmZ+AS9byooegqyWZ0pNsD8H1iyEurvCj0vFUWNPPRZqqbxHM34upSIoAJf3ha23wU2DHc5bvMUuPzzrfc2xCVyfLktAJIn4wOXNpYJsDN4stPzHFMRJ8ZsKFviBfGjjHv76i4r7cc4hciFaTTUvvf6SZxOTRhmNAs9LK0p5b9Z7/rVsqwndI4wlgr8tPibY2uIsnAtT/gi0FUK0FELEIfszf2x5fQiwxjAMB1uff/iZ1toAgwzDeMowjKfUG3dE6pZuTbcAMAzjF5Vy9r5hGIsMw/DTzflvhx1AvVbQ7ggoL4apvuID42C8UiHygbndtNdDWyf9bJFjL4Wjleq+jlImsZOsW3pqR5wDZ1fx+GqoqIYedYDtd8mXUnqrOqKW6HAuw1ftuKVA5ji1IVj8FSy0FJhYZOgq7NeStFPDdQuxIBXJwFbNVmnnUcrg9J7FGl+VLkVHeWcY3h+SlLV0/MfUPKq0GPukuiX88Gw00gauZRl0SoSL68KzasF93TWwdStE75TihXjsPcxN98JLl8IdR8LSL0KP8ehhvqLArv03I0jYVsREQ7Pa0NiqJZqm/IxpoQf4wOjkw9nX7AUWNbkHWk0kiSgOUmrPo5QESdsX0pArMZ8FWtx8Lt/YzQ9CCCb1nESrVGkKn7xmcugxGhonSc07PTmd+Nh4svaGqyykEAlW84beAfCPlN+GCcBQIcR6ZDmQCQBCiEZCiM8ADMOoRE62M5H5NO8YhmGN5DmV32gyB39TXGNkM2gTyUAjwzCqcAk3EULkCiFeFEIMVlF1/yjcrrknipFTxxGKzxZOdT/WTDN7gnJoEiU7jgBc6BQVNVuTIISAE9fnEY8IhPy8zh645YKgAPvK4HkV17Z4L4ABzR6EhpfI22peF4INUkoJdb24oPkQOPLBwOZtp8D86RZr8CXldvFCFGGJxsQlyhlTXglbC+2k7RZrcozyKLzhUMo6BOXU+B85G3ug2hXhBp+WDielwf79cMFYQm3ECmZvmLoWcUIjVXD917X2euhOpnaH7m2eBVr0Qu33uJzbCaYJfc1C+/7uxxEVFUV6jHXaSONqFV23jCqK9CjBSo3IY+Qx/pPg45BVA9ODuyqWug/Pz4b8bBJiEvji2C84vc3prBqzSmsXR8hat3FtSd7dW3en+L1irhnhwwsY8X//a2AYRo5hGIMNw2irHnPV/l8NwzjWMu4zwzDaGYbR2jCM+7RznG0Yxm/u8eGHvB9C+qxfEUJMQXLTI0KIZKQP2wl7kPrbPcB2IcQTQgg/HrW/DZzaAPcaI1sur54DCzSX9Vacc8M5Sq1dbOVSJymxY6TmUc1sAzeq/sgAr2VstVdfA559sweFldJtVA3cejDw2g1qPWjiZST1VeEdtAY8WgpRMdDlPOh5I4goykrgxpEw+BC4wClGbay2PZOaFWcBSIGHLZd37knhh5tkfs9l8vPn5MFu3fxqJWjTz+GFLUFtvyrdf4l2QK662sdBWi34aiE8pwrjtNS07zq4E7YVjdSXt2utd59rsGvvS76mQCOj436zBpgNP9xp93uHQ1pDKcBZpBCFvE8vctKiK2vZxRPR+P9RgdiEAGkHsOgr2qa35fUhr5MUq7FsPhh59v+3xhnybtidv5uoKDV9+u0eZ0US8P0BHPdvxD8r2vxvAz9FWl5CusumK+lrGMaLhmEUGYbhUjOTIsMwnlYV2nojLc+ThBCbhBD3/z6X/udiFZBcG7odL7XP796Q+0xxxXOWr/ieQ3EibSe8quSmq7bRUmmra3Lh53FBX2oJlTyMDH83gCvOh/F6uUxAaiMXqOdvIvO+fSCxDvR7AE5RpncBxSsg+0Xo7th4ReFYJV4wtRpTwVLpOm2VmvjN0tBD9P/Bqs7QuQ0c2w+qquEtfQUVg/f8btWu0vGMcjeRZZHRLJM7Z+TDA3ugROXYXT8eNm6Rz73Su3SrRDegpdK8d4RJG4RgkJrZOfSjj2DQQBb0SqTQb+1wE7dq2xnTcEmSc0f34wKkDUC354kiihZqNfWBtbWba+6gbrWoInzbOQdUrJGkHat8K2vnhh+fXxaIVt2cu5nBLw1m1pzgP1WjdOnz3pGjVu9+I8uTiESiR/C7wq9nMAqpTecCbYQQ/TzGB0zlhmFkGYbxkGEY3ZH2W7+1ov5SPOBiXm6jTOdzw5jOTTxBOdSKDmpYk7xd/iZpmzj9cXjGUmj92aXB51f3m0KeCt86+xR4fHywXaYN8xKAhyE6CaiGzMu8L95KNF3GQKtBYEB8S9gzFXZN0ca3xZu0rTnj5iTmYBV9Ri0Jyyrghx9CX3fCuOPl49QZeJvF9Uj2WtSItFcBTrFdgIw6Py8Dyg3pwC8ugXMugOrQUrKOKWGmayGhHL6fC43ayf2/rrdYbrRzOJ2ndSuIioKSEhYeCvtXh3G96qZzE5nYk8PDQTedu2CCWrkUY7AmpJVcOLOAX8LeiJ9yqTbklwUFYIV8fGfFO8zdNJfzPjiPvKI8AOrWqktsdCz7CvdREu2zok8E3vjnVFj728BPqtiDyBJctwLXK/GyvToubw3DWGsYxt01vci/Gmaa52ag7TAYeDec8q7ctiJDPVoDzwC4wmJey3dauwR1+OkcGfLqsFYwUMVBTV0LE056kYMbv8jzX0NcNBzeCl58XM7VAEZHC4P3VTI6BbpMgMzhcFi4ICQ16Vn7oQgBxz4KAspUfM6eN6CyFfaOVnoBOT1/Ox1vzWMjDO0FsYp4Lz87zFgLThgCqSmweBVc+bLmana6y63mZQdEbwnd52llAYgWMLkJXFVX1m4FWLAKnvgIUvWm5gpaehfV1XB0exg3CDJ2Qp3GUFkOu7fI71of74SDusBHMsC1qhC+PRzy1A05MhxHmv50nbA7ax6ylY/Lx0C+d16Ykyp0e57RtA1YTW7wtGGmEkra+gLGuh3OrGGBqX2bkegrnBNgru17LYc1OYzt+du5etrVgf1piXLF+WuOpTiMjyZ6joiYziM4QPhZh4wA2huGMdwwjOOVhE0EMgzjb53L7Rd634V8pM974B1Qt7197HwlDvoV3CKCtoj/TVFPFlskPHIfgokLJYeWl8PNH8CKHZCRDK+cA3OvU1XdFET9lCBpW9H2cuj7iWw8PtqilTRJkBJOU2nUlQbnIufKZKjYBcmdPC89qNGmu7yu+wsTgVg4UgXn/+zUfcqC6CKgBSQmwMSbpav5yWmQfCxc/iSUWmPpwpktc0N32UvoeGOgaToXAh5rBHc0CL54w8uw1pIZYmrYOgHXR67Ceqpqf9OnQmN1s+1b6xnwB0jTudgIx7aDh2Xp5cr9sKA/5HwTOrwkltAguIvDvcEWKV6E3bqHfExKDwowUi1zFzhmPniE0IegPp6kXbw0+Nw0ofso9xpTFsOrx71KQkwCUxZM4ZMln3DYHYext1DetDv2+r0zIggLgb2hyx8t/xL4Ie9NHMBHFkIcLYR4VgjxsRDiI/X8mJpf4l+HR3xEZpukbUL/os6iXDKrWeLyYwMvwja17+k0YzrNqEMzmjSDJ16Cex+F406CDy+FnY/C6YdDQpwkbFMAiNZUSj0x4XwspO0Cq/Z9EOw68leZa6DclRXhrO9NlehuUqfAdIceE0/eKB8NAx67yj48Ok+SdnSRff9ZI+CIbtJaXVoOT0+HWsPhjAehWPd5uzlvGhPahlRBL4t7DoHeHqExS0LA3Q3h4fPkdmUVDL0Fku6x85IbR41Q/pkZ06CFMp1vU35vh26rgLNGfu15cJr0KVQVwrdHwe7ZUvsuUQJQcqnLOU00hgBpm9h0p33Mz58QAkXYVjyCTM3Ko4pFgYBMM/DBT/CZl+lBv+nS7X5vJ1i174oy+FkWDehQtwP3DZDBwhe8eAGDOwcdJtt2b7OdIqJ9R/Bnwg95FyOjzZ+3VlkLd4Aq3nIlktceQhbang9cIYR4IsxxF5ol6/bsce02+pdioyZ+Gk8lUU7cI2ojw2lEifa8hOkOyT1nnAMXXwOvvg8jusme1pecJ+Vivb+0E863iBOaaNvXImu8mHVeMjKJvTn4srEJfrUqT7WBY3AnFx3pOGvkW6Fza5l/DHDvi4qwlbghKgo+fR5yvodxJ0rTe2UVvDETWpwI974C+9yqqtUjhLCbufy46wntp+GK6xbDYypVb9temOOjeXgqMHQA1GsAWZuhQDloshyC1rx4TAh48X44REatVxXDd8fBrpUu463QFzJHhWk4A/5M50c8QXMSaKJI+k524T8dzKxy46djSzphTT7btMjG2ARJ2hWhq7orD7uSvk37kp2fzRZLr/AZc2f4uI4IPBGJNj8g+CHvj4HxwLfI/kWmhMOxhmEcaxjGW4ZhLFTyFrK7mGtIk2EYL5gl6+rVq+c27E+FqX2baWN+AkXXaNIFiDkB4ssgaTskhWjeeXi1tKpjIfODgEaKtH3BvGn1kjovOYy91iIOqGhfjLCQc+NtcTWrHJaMNE+kW/btdx46VPnQC4ocyqXqxNqUQJBaega89ggUzoNrz4AurWHPPrh9MjQdCdc+Cdt3I39Ma5lSj2DqrYQS9ghtO2A6pzooVx8Bdw2C906Dox3yvVI1qY+01phBDD+oYLBtFvL28nnPah18nlQE0+8nRv1GtQ6GFIfuOgHt2zy32yLPCt3nvVCLp8jUu6oANORsZIOPL9lNVYgf26p9mxFzfm+wdCXaj5nv4H8xtXE3jXyNXOlFR0Uz5fgpJMUm8c6id6hbS0agfr8hojJH8NfBT6rYq07icVipEOIwh/098d/o8G8Dv9awhUrcaphF2yyCeRZxQqgz1KoEe+M5iH7d/0rzaiU69MYk8YkYEyzFN973UaClEEnayV4DFVSw2jvBGjGM0/PITRRZRENcHDxyJSx7A+Y8A0f1gqISeOwtaDUazrkFfvFQn7daBGT2lhvMevihKU7AnYNglMmYZs2GDyzigCuUmaNYfbjta4IFXbySzxuDzaDfohGHvA0IKFgMez62LzzMJl/Uhx83QMeroWVYU7r6tNl3eVyIM65D+vGrMHggJIq8NX7D3MuoZj8p+E4XiEkMio6NDu4sFfjSulZrHhoguw2VKn95Vk4WxaUHaivXEFkHRFBDuJK3EOId9bhCCLFcF4/zngM8JYRYLYSYpeQX4Cng7N/t6v8iWLXvFcggtYXArmtg1xVQ8avzcRD07GWimyDzHEaHt4lOD9lzEPCcEh/ogmwBbiXtRi5jIWhCPS0OuqpVQR6ITprjtjM1TscF7OldOyAlBZKVUvSBXgt6P6GErfuPlbImUmHQIJg5BX56D04ZJrOupnwInQbDiPPhO9OWlA25sUEJ1/7VRJC0JbqHlOmy9h8wq+l51NitD5x/eTD3LyoK9mZDYZhuKrqZe5U9/P+nod/TVhXvWTEO1q+xkLYFSfGwZgds2QMrrVaRpsB5G/BVYhdczdAccTNpxFFHadhPsoHwbefsMDD4ljguZieZLOdxW7FaN6SHEnbWUuehWotTExd3u5hBnQZRWFpIlIjCMAwmTJ4Qyd/+rRD8k8qj/m0QTvO+Uj0eBxzvIK4wDOMnwzB6AYOQDUluAQYahtHLMAwvk/vfDpMcAtdWYK+kWJkNeZNg39NQrc2vi4ijmDjfnj03E/pOeoTse5bDA+ILA5Gk3cXnpRxPaADXklyYZJmprrewqN9JrAjPdC2AS1SDkvIK2L4WSdomoXhVDIgJPXf3zvDWY7Duc7j4VIiPg49mQZ+R0H8slPioerZTk7AF/gMILYFrh5XMP5dSG+iolg9mXdrNDn5vlwA7J0RdD7VGQ9V+yHXokLdqNHRuCvXVQugOQTD40A9K9sHsp+ykXdf54EsVUe+hnMKQSMZ0bTuBjdTjZkpoySaO4FueYwf7qGSpm9+FUmwaeY6e3KnBqcXpimCGQJSI4qV+L5GSkEK1atMwZcGU8OeMIII/CK7kbWk4vtVJwp1UCHGwOjZbEfliwzBqUJ7p74d8TXTsfwKMMkgZAfEdYBGdWUQci/yWbiQb6SHXg9ecsZMj2MkRDq88rW2/Hsx58xNdB3AD9iWa09zYOxY6qdtnQRXVCdhJu6M23izqlox/E/oOeMhSye0MvR+nE3yusFs3g0l3wtYVcMstkJYGiYlS3GCaz/1o4/YeaE6uBaeYT0XaVjym4jtN8t6iyDsDuQDzXbtVLgiFgMyXoe590PA5ONlpaCqcPkg+/fQHKNbjDXRkXydJu8Rna7DiPKAhdzCA2sRzHC1wq6GbSyXPEcURbKUNc5nARrZSQioxXEdzltGLDzjEckQ6Naq4o/vsZZfKbwAA4DVJREFUN4avCtQirQWPnflYYHt7zna2ZoedDv3jv2o6j2jeBwQ/RVpOEkKsF0LkCyEKhBD7hRBhbHcALBFCbFB9v/1kA//jYJ1qqvJhj6p6WnhjS9b4nN5lwfOalJ1MdCDtcE7tQUo8cBqyNrkpfvGeYuBqiC7zULfjgGQoLYX2N0D0mZCt51abJKH9o3VRltR1WmYOIPPOraI31XCKRWoYlAb14b77ICsLnlPeBmtCwFak5b+m03N3dA3Z6Td2b0wDQOzn0t4fa1kA7lrrkrHggAxgZy+si8A1zCUqBereAkLLa1ykBOD20+VjeSUcNg8KrOuP8/YgAxlM8YGkNDtJdhtJNNHkcgEzOI4UyyLXwGA6cYxiF5ks52J+4Fv2kEAUCWrKeodDeZguHBwwrbRQ4oGczVBZEpTsX/xdvwXnp5/PMV2PCVzrHY/fUeNzRBDBb4XfxiQnGIaRZhhGqmEYtQzD8KqgsBwZDxMFfCyEWCaEuEkI0eK3Xe5fh9fD5Hwvez5Rmsr7JUEvK4nZI4t3Emczt/qDngTt9ZOdhidpW03DJpF5obYmm3OgYyy0Vz7ZiQ42bGvTc4WYGFi3UxYfG/WANj4Bx5Xxa7fLx+wcWG9aPs0gNT/u1zRNdORBaiq0aBHcZQ1S80I+ocXlwsMts+Dj0F2xG2GgJfZzo0eN81Qkafsk+DW0sZE2wMtHQ0YqtFA1ZlZthcGfQ04pMiYiXFyEiXkvuPqO3SG72Ag6Mp4f+YBtVGLQSN37falPKdV0J42jqEuQsFuEOecBGPys111cAItW214WQjD5wsnERsvVz7vfv1vz94jAjkiqWI3hh7x3GYZR0+WpYRjGSsMwbjUMow2yK0Z9YIEQ4tsaX+XfEHuBn8ngZzLg8Gipnq0ugcf3QqFT+8/WsKmpj46cW4Ey2FwIucX4o/nTLAKgTSaxDufwIm2r2bsd7sXXblSLlWVV9mpmEBp7tF2Sd10VxPb9BrzLUBdA13ZQR5Hu7XfhGFnuCLfWmQ68mU1o608rdFtKZ9xdKM4oQRbUtb65Yz0+y2vq9cmWXj5LFtiHZVDjomRrmMsa2rBGVQ46L1BByI5rTgo+X7wX+s+C2+dCiydhzhnal5hv6Xqod+5yQ7eRUKelXRSupxsP04dtjGSasjTNU76Xm+iNwByr3zjp2raP+uam9m1aBjZ626+bNGzCQ2fK6POS8hK++OwL7/fxg/+q6TyCGiNctPlJQoiTgMVCiLeFEKeZ+9T+cLC1xzAM4wdVMrUZMoDtHwm9mtZRZk3NtjHQPBr2GnDNLmi2Hm7fBXtSCETQziuCzpugEzAVi//ZanZUZshtFTBwB/TfAbvcHI7DLOIWsFMD6Gn19VdI0m7ncdxZsTJvuxoSN/p7q4fPko/VBizysywsh1MGyqc7/LRfjMZ3T+rydCk6nJKUcjXxgjSdh8/ft2MpWlV84C1o1ghS1CJpR3awcLtfDXvnAJ/vb0ETuPh/Mt08Pg5aNoFVe2DCt7A1H8ZrawjiS7xJu27z4HOPeuin0o7r6E6jpE70T+xFHRKpxKCJqMVJqkKbOzxWhPo1VpT6b3FqYhFcedyVJMXL3+WyF3w0+4nAGRGf9wEhnOZthiylIlOdj7LsO87jvA5xrFIdNwxDzxz+x2Cmm9qcGQXLU+HjFDgiFfZVwb17odmPcFkebC6HW/dAqSFj0s5Elkt9Eihqi813uBsY8itsrYQUAclRhGrfB9AaR9e+ndYE9VcExQn6XFiWA1F5BFzwj4d5f3Mu3QtnD5YNVUCWMPWD+86DTW/CgqcI7Wiaj/w8pnihLpAsSXv7dnjwflgQ5jrctHE9xMo0ndcsPnABkrSXqu1PnIedodoJGMC+DXbS1jMJrd+BT438PNrYqu1f0llaSVZNh9Kf4Yc3oXtDqFTrhoXboDq2RJJ2vFqcxGvBkrMn2rd3rvVuYmLRvmnYEVIzEUCakKux22L6Eh1y/ydokq697vB+ZlMStxrnuvY9N9RgKITgpF5Sj9m4ayNVTl3fDgQR7TsCHwgXbX6OYRjnAC+azy37nGpzWY994/e+0L89ohrB8c3h68aw4GA4LgNKq+GZndDWopK2joX2cbIJ9JXAM/vAdAnuQy6R1lXAIXHwWSNIiSJA7JUGfJ4Ld3p5Y9sSJAMPiM+DoiPTgcQbEer3vEQ95sGa7dr4jjgqQOMGyMePrcG9bn23SyG9FrTU1WFroJofmAVOLPhyFtxxKzw90b5/K6Gk7VAbLQCzAp83YZtndKks44hl8OSJwc17zw0/3GpKd8Vky/N03KKz2ysurVsbvhoHfVrI7SoDngvbnkhh59qgOKFuC/t2Zgdo2JGSBq2ZWrKIW/d/zOzqTWwy8mhAMmfFWCLLvSqk1QROaWQ+OqY9+79nA8/vfuIf1zDx74FIedQDgh8V7imf+wIQQqQJISYIIdYIIXKU/KL2pR/Qlf5NYNW+ZaBSLpAJn+yHRmuhw0bomwYzOsOK7nBmfXlzfqu0k40VcHNz+KARtIqBG/fCOw2k5XsYsAxoD8xKg9ol2MzqZdUw+he4Jws2TNeurAn2/pwecDQf6cyrEK5WTJkBown8U3T8AMdANR33KPd8QQl8/bM21k92XRUUFMIRY+Hc2wgugEyY2qfHP+1JJ0NCAnw9H/ZvtQeqeVmk8wmStonu2pgutgIipoXFi7RN7duMQn9SlovLTJe7v1gSekgG4c3oRQMcdqYTLqXqEqujvx2k3QezLoJ0FTv5zEK3Iy3FgVdq5hgnos3sEBSFEqOC8/PfYELRLMZXy3C6q2IPI0HESO3cN2Gb2rimYbsRcjjC1rXvRZCSmEK9VOlzen7m8z6vKYIIfjvC+bx7CyGuBeoJIa6xyF14r1/eQeqRAwzDqGMYRh1keZB9hERT/fPgGKiUGgU7K2F9OfyqIq8PSoZXz4aNF8GVjSBWhQKcvR4ezIVhKnLr1QI4EVgEojkkzAbq61/xekiOhlFKdZy2G6nWmuIDsTtr6PdZFErYLscmmQHRfkx+W6FRA2iuzn33W36vx4K9kLUTvl0K3y5zGeNxl8ZVyCjzY0bI7Zeneb+tnuvvVQ9MxiN7pVRZYxZMjdwhdewWlZWdXwzZSoOP3ykl2X/+ghue1YoAbYSQuIfkeHhRFc75ZRcUWCvBNgfa6XUGXKC1CbWhbgsyopIZHt+ZagwWVmyilojnopTBkOizxnlsQ3wFq0HQfK4TtlvgmlZR7arjrgJgd8Fu8gv9hzCGxX/JdC6wL/j/aPmXIJzmHYeMoTbrVJlSgEttBwtaGIbxoLUwiyrY8iA4tMv6h6MXq6BfsiRwgDs3Ab2VAM1SYWJrmXN7VzOoEwOLSuGZPHnjLiyBuSAyIX4ORDWFJLcUl3EqRHzq7mDhjgD0wKilB/BppmHL+I1+0X1o/AcQ/wHdgWam0lEJ7fUodtONqfXUPX+ofFywKhiDFUAc9iATB1/2NvUVNW0Q+hoQWoHNUkOkKlZKLnB4P8ioC1MmhX6lpiKbo6Ql3tBbB3cPCW/Tidas9RpOI38SLhsWLJd6aS9J2n5gEo0xQHshNDTF2jHPEZfCqEMgIUa63+8diiTt5m4HaNi5JpSwXbTocekDA88viu9NelSYCjpWE7pfrVz3eReE+T7NsQ7lDG4ceSNCxeheeOeFcmcxoWaZCCL4HRHO5z0fuBf4xjCMuy3ymGEYXt0QtwohbhBCBKZVIUQDIcSNgFOpjX8UvncMXEuEE9Pl0/ddKk3ViYU7m8PWw+DJwdAsNpg6liiInw1RrqpcGhAFByVBejQckwGGW3dVhwbZbjCGAfMs4gOKtE38zPskdYFY1VJ0p7XNs0kcDh3hrztJ9t6uqIJXPlI7oyzigSw11zYzfeFe6cTJQdK2omVbyN0L2b9CnqU3hZmPn+N9KUAwSM25VpiO/dhrverQCb8AmA0HpcvNHz1a5tao3rZ7KO7RDr8bdWGI6pDzjZ++qCsvlqS9c43cdqspDjaN/NikrqQJeQ8fld7bPi5V/eg1ImzNdO4WrGaisiSU4KdrRfZXQHR0NG0zpbtqxuIZEcKuKQT2Fe8fLf8ShJ0iDcOown89JytOAeoA84UQ+4QQuUhmyADGHMD5/rbIUgLAeBXFta8KftQLbvQOSnJfuPxQ2NAZrlO24waxhNaiK8deWSQbJv0KeVWQVRpsGRlAW0IJWwsUEorxxMageCH6RYj+ICguqHOOfCycR2i5VD3lbCskxEFXlfUz8WO8CdvUvhUpbVPLwKbh8tW1cqzRmnJbD0i0XOerU2tWRKcYmVbmt/Kse6KZk7m1wCIK01Txnd0loS3RkufVsEFGCTphz3KpkW9t1gIwcSzMvwW+cSou1u5LYJ1FfEA3oddtQbyI5bSUPgDMLHHoheRF2LHp4V93grX6GsCm73wd9sjZjwDQOMOhXu2Bkrnf2jYR/CfhJ2BtiRDiYyHEuBrkebcD7jcMowOy+vLTBC1xv1M+xV8LG2kDmSyG5gnQWM1ud4RpLWYiVsADjaBBDGwpp+THdhSTEZAQFFbD0+q8N5reh7bYA9XqeLxpsQ/CNklhrkXCowsw+CZAyBrvA/zkYwu4Xt1Jq7KgUJ/krLxiauMWYtqmUsYCmrcTfCRkF1hywn+YE2o61xuj1aXmFtHuIaQdrhOWW/mXRXBwPainSOuOc5CLM1P8oD323HPv0p65mraSOxZaN4B+ZqiFqoDnmInghqylvrTmcbX6AvBG4bdUGZpvRfd/H0jUualVmxq2n+IyOlbA8T2Pp/LdStZPWl+Tyj0RRHDA8EPeGUjL4SD853m/TNCBNxHpK5+AnO9eOZAL/bvhV7ec77NUQNnc/Q6OXB1DIUbACSqnZ6qHgXZyHuyrhD6toeXpUHU69sKWbvBywF1oeW76u70JW+IB4AFepQcxSVBbdStb+YjDUD0dFxhzJMTHSsK8X78zqglrQs9S5B3QvKPxn31FkCLjFHk3bAZvLoUWInSsl5Fbh1cgWyiyCSVtl/vhVFUR7fMt/k4tdgblAHCa14B4vAk7R7l4zAYmPpuY9I5vS+uYBvxatY+v4vw6MMLBwVTuZT7XoZvOFaKjnSMk5y2dx47dO2r2Hv8lRALWDgie5K3neCvxSDQlyjAM08jZwzCMqw3DWGgYxt3gWR7pH4wyuDld3oxlBnzzvvvQwnJ47WsYuh4mK43szTwo1xcFyrdZXgseUxP7DUfDyEnQ4XZY5TQplGjix3SpV7jWYf0sE5Xoxcmh0zXycd8yguVSTXeq/stnS8v/oIPl5mtzkIRtihMsQdsBzbsJ/vM3k+VQK0W2UOQdEwuxupaJs/KuR102w16cpcCHIpxJFvZsci+tLwdYCneplU9RNYzXOsmIeeqxBm4R7sB6v8yydelygSo9W2TA6wtgix7COsBqWdgnxW/XMRN1WyCEYFwtWQXotUK9rJsDdO1bN537MaVbte+KUljrdyFLcI2s1knDbhrGwGsHcuadZ/o/hxUR03kELvDTVayJEOJDIcRuIcQuIcT7QogmHoetFEIoDyjLhBA91LnaURP34D8MmayAlBi4UJm8P9T+86qqYdaPMPYdaPAUnPU9fFkogyhSoyCnCr7QO2fEAWlw+VbYXg6t42W+zo9bIK8YWlqqjlR1UTLMx9VuC0rFZllQxganRcFEJe5oNQ6i4gADjluMr7S0u89Q75gLm/0oh9FQLYLkHdbnDVIbD9OGNF6Rt9mCOptQ0g5XbdVaTa2yED5Mh5kdoFyzjHdH+sdN8YcciwD8ChkxwbTDh/UvbIcPwu6qHtdbJDwSNSkZLfdfOQXGPgWvzHM6SpG2G1ZaCgO5pY0BY1Ok6fyDosUUGloKgZ/Usdj0oPhFuOprIWORFW0dDFuHdZA5lF8t/Yqf1vzk//3/S4gErB0Q/JjNX0G2O2qE9F/PwNv0fT7QXwixEVnN+zshxCZkWafzD/xy/15wNZ2fqyaUN/KhMguWrYDrPoY6T8DRc+H1LVBcBX3rwfOHwa7OcIsKzJ+6jxAbT2U1TFFO5IG14GFV4O6KwZAUD9SVpO0LZkRTe7n5wgxoPBqm9HAYu0ETHfbguFfpQacoaNVfbq9zKNpmQwywF3q2hSbKVf/xvDDjLSb0PfugvAIy0iBJ/xmKCDYl8VHj3DSbl5YFdV8vcnUqgdoMiEkJZnPtt7iT/c8b2QQjKvTICguGqUXe/moo3YhcbJkLLj1JWGeVvXgRtql9mwuNi13GnSrjyZi2AIy6yAjAelBcG3YfrzkZih2yI8KQNgB1W9A6tgF94ttSbJTxoXsSm+O5tycItiRoN8iB+MZ17XvWz75q4F416iqio6RZ6Lx7zjuwEqr/pZzvCHzDD3nXMwzjFcMwKpVMIbSNhQ2GYeQbhnE2col/IXA40NswjP6GYbiV1Pj3oGcitBOyqUjbt6Hr5/DoGsi3/KcLoKACVuSR/uUq6hy1U+6bkQ95mhZ85y/SnB6N9KnPKoDkJLj0fmC4jwvKQE7YDmHISQmwJw9em2XZ6dZMw6HtJ8s1gePVHL1zGRToPuhGOGYl3TtOPr73jTa+nFC/937IUizbTNe6fRahMQM5coAiTfN2g07YbgULGo+Qjzume5N2JuW259Ztd+yHty3J7Wdf4+MYva2ODt0Tts+XdWDgQdA4AzbtgrdUoPVFP0HKh3CGn3AMHU5EXlHK0HgZHfda4behr1sRm2BbENxV+hVt9j/O2MpPWW44pNe5Bcw5VVgLV1jGCWugdkJtjuslQ4SWbV7G5I8mexz030TVnyj/Fvgh771CiLFCiGglY/GZ+moYxn7DMJYZhvGTYRh6O4l/BXTtuy8rQGyBS2KhdxRsMSAjDi5pC8/0gFs7w5H1IDYKlufB0+vIGwM53ZFBXGWQeN1u2Ga5zZ5SmtPxbWGiIvYLx0KGxWQYrZlPq4bhq+3UyL6QnADfrYINR+G/A9ZuJXbcTBz1O0LL/lBZCufuQcYImeKCk3pLI8LC1bB5LZK0y+GrpfCmgwYfMJk3QN7FOmnrvkLLpVqXJjm74bJR8nm5dn2ZBGujhauPZkUF0G58cLuOdh064dfFD2lnqevJUrJKVkmpo/59v3C6umLCByoOdNi3j3Cmbqv2HQ2Uj4boGLhqOAzoDGc8CaO+ld3iDGD+HqgOBC+o6yjW4iR+eDP0jaxNQ5TpenWFzLKYU/4Lv8Y7aNIOJGwYRqC94evGLxxS+SrHVr7P11G7JAFbxx+INj5Xa+m6htASfMC5RwUXRjc9exO7c0P/byKIoKbwQ97nInOzs5FhGCcTukz/T6O1RQK4Mg5mJMKHCbBzJDzTEy5pB/ceAl+3hPy2MK8Z9LeYnhWjlLwENNsDtXZBk12w35Ba+Rkd4f118le72uWnq0l3LdpD8g4Y1Q1qJ8EvXg7n/YSStnPNsW5Kk17/mo/LyIFaSTBSteW6+HnYtx9uflmmn13yTOgh29QlBNLEvNg12dmekF5HLRaAyvJgmpjVyxwOFZo0A5KawOA1cFwexDk0B6mLY4+UAHSNV/rKHcznd6saAfnVsNMkXPNT+lF7Z2tix6sOtgWnMvHXnQhHdIDYaPhgB0xWPT4qDJjSpwjfSXUufuYttRL4oORnBHJR8EbRotB8bAcIIZicNJKNta7miqQBJBHL58Zmri6fzY1lc8JfixOZL/nQfXwYo8YxPY6hTqr0C+UX5nPjpBvDv7cO59T7fw0MIpr3gcBPtHmWYRgnGIZRzzCM+oZhjDAMw6ut1X8afU0mqSNgRAzEfUrAb5y9Gvr9Ap8VQt8kODsdjkkm2qn7VqEBOwzpWu4XDXcqm3KrdGhqYYWyTCk6YZf10naYBKCFTT18Mux8BI53izK2JkmFv2UGUs4hwGknQ2w8LJ8Hj6Vrg6z10k02qICrj4fzB8PMpdDsTMhRWmteISxaqsarSPSsLXLTtTQqhBRoSdRM+E2Q/apPOCO4b3dFzSqquZnOa7W3b1vjZfSQRCcS724RJ2SyCi6tE/w5zr8e/1YT08Vxqrb/YMfRadhLBVlRrqwW954GmyfBDSdCLYuf4C2HZl0h0ElbM0s/tuc9qqimX5ys9PPa/q99nBQZzJZYm+bJrXgidTRbEy+nh2jIz0Y2D1c5FF/RNXivgLWktPCeCICNEBcbx6n95XcdHRXNlE+nsGCpj8h5n+1cI/hvIlxjkjvCyO1ux/0XscAlcK0DhQEJ4NndsGA/jNoBnTbJNp/Tm1C1uiMTi6HD0RAdB4NvBG5OgCEx8EkteDIRVitaeXww0DZI2r7QS4nD+PqpMtkagAvUYxF+21YOpDwgICtmJ6dBmiLp1+/SDijHUYU7tDWcPQiGHAyFJTD5i+Brt7yELX0soHk7RZqbJnSPCqIgI8r7KfIWUVL7tkJ3OtSsV7cka7/F/MNFojv/yvuhs/rdvvITGZ2DGZfgDeks0An7erfhUdCoLjx4FmSdDBeomkFLcqFC///QTedhNNo9FXm8uPdTAB6NHUyGSGRF9S6WVYWxEinS1lFXJPFZnCRRA3jMDL+piS87KS0oABu1ADq9i64i9nGDpSkqIU4uDC55+BIqKv+1iTc1QkTzPjCEU6OKHATgPKCGdp//DkztqoNmx+2Aalx9YyY81Ryax8G6crggm4QWaxm58xeEgNJ8abptOxC4Pwlmp8KgWLhIaVUNU+G4Y+Tz+DBNQ0Bp4iZpu8Ea/D9NiRdhy9smk7VkspY1LqNMV9/yeVBdSsCPDciyPVaotzyiI8y+CxZPgNFHBCO31+6wVz7LUuRtSxMrxFewmjUDvi2wSxkkeg6GLno5NbwJ2ynn2290uRn773cJ1sEiADydLh9LgW/0jIBFhKaahUM+uof/yTAxE4H1lzaLpMfD832gczrsLYMvBstVVwVVVPudQvdugb1bWLbrW2KJZnjCwRwa05hTYmVWxdTypfbxFaWupB1Aaib1olNIVyauh6sX+Q8+M8/980feYx1iAw9rfxhtG7elqLSIhrUbsnLTSp5850l/7x1BBA4I15jkUVOAF5DG23OAt/hXF1o5MOiTtetknBQNl+2H9cn0ngZJzaCiAHIWw5bvpcQnQcve8ISZafxrLnynJry7Twx/IbrP21Nx3kiQtN1gvU02AhvJ9FGO8+QbJPlWlsNTfopNWK790Fbwzk2w6hlIS5Y54EssSmNYzdsNyc6tWl6bIB97W9Lja1pRzUR1FezxkU+RiT32PxzRm/5xveHJQLKgX2KwatSlj6knNWlpdSr2CKvOYcbKa9aNJlUjtUEnyN99nAoCmboJoIq7kKb3E5xObGrf+dlS0uQPOyShE1mNHuKZ2tI8Mi62KwBvVCynqrzYbnIP1xUMJFGnZnJeoiz6kl1dQGFlaegY6/PYBH+55PllQVmjpS0skv73cYOk9t2hqfwl73rpLrbv3u5+zv9QgZaI5l1zhHVgCiEyhBD3Im1tMUB3wzBuNAwjEi6p4Su3nG8bLPnSsYLvTq9NQj2oKobibfDug/KlIy6B/qmmvpwrfeF9kdrqBUfaT6lr3756dW/E3vjxJe113Qubg0ejSBu6AF8AvZOgaQu574b/+TrUjhLo2BTOVIHRU+cClVBZBrn7ZUeyRmGTFpETYJgCLd8vhOXfQGptOPECaUbXCdtvn4/KEni1FbzdE8o0Rdck65r0DdGD2lwJfpDKdVtRgTdhm40z/Gvk+nXf5nkEEA1ntJVxlh9nSQ/Gy0idfgVA8b3BscV5UlzqiqdFJdE8Rn4Th0c3pQ2p7DT2836Jj6YhDibxCcnB5cPo8vft4xNr1ywdLCkVdvrwzwBj+8lqeIvWLGJ4n+EUFhdyzRN+0vwiiCAU4XzeDwM/IueyLoZh3GUYRg3rG/63sUaTkEKbcyrJ/Qni60Hd3rB9uiwYcvWV2olqqRPsB5Za65D7bPtpImD/9VN5O/zkvlMrEpyEJO0u2rijR8jH8jL4zqqsVxNKqC551uMUeU+ZA5t2StKOj5EpSTNmaIPzqFGBlifVgunYS6FUmcxbeB8WgmZATCLU7gjVFVDwjtxfk8JOZjCbKb49oi+qCjfVwL16OIrVx23WjfMibFP7lib0CQdSEHo4NEmGgZlQVgU3tg0WwJFG6+ggabshzWJW2bYE8rMRBVu5ja70pj63sJg8w8XX70bASenExMSQpq7iy4q1QZO4m4atR7Tv3SpJO8lnNFkxMBdaNmxJp6adKCkvoVZ0LZISknj3q3eZ+f1M92P/A9p3NUGP2p8h/xaE07yvRZbUuA34VQhRoGS/EOI/cEsdOPz14QIelJPCsVfC/qfkruFnQx1LBPX3IGd1MzD4tShqRNoxSFL0wwQlVfD2VpcJNdT36RURDXDnw8HnY54ifN1yHQVAGfRoBlcdB0lx0P5cOPsRyFA+8wlvq7FeNdEtMAu0bMyF7xZCQiKceIXPa/JAB2kZZc1Ub8JOszy6RXPrSNJkOFnQOCb4Zg/p/5pJuFdoN2EtTG5+if4y2wMmdN10rjBO9VB5e1Nwn+sEai2XCrL/97YlUiwYTStKqGIj+zmjbDrV1mCIgp2+tOZbU44GoJJqVpZrHQCdSLxZV2jWFaPpIawt3eZ5fn7e4+i5OLTNoQDMXDKTO8+Tje8ve/QySstq2Bwlgv88wvm8owzDSDQMo5ZhGKkWqWUYRiSBwQFfYfjuxdXjp1z4spLoFOh6Inw/TUY797zOaXQcjFP28DeroVLz3MS/bt9OwHelMQC+/xjOj4eG38KpW+CjPMKFUPWlnL4OU7BuVH8AaFwNLVrI7e3bYalX6lAx9hbWedJ/esfJshBItQFTv4TNqkjLj+tCi6uENONW2/rqOz0D5m2FZz+GNM383oKaeY5NtB4BMUmQ/R2UaDeD1QSeBqSUeRO2ueYyo9DdcsMZrtKb9gOlUdgN3Tpx660J9uO18rFq30nA/fjrBTOqBcRFyWrAZifToIHl2dADdq4JiiMSSCKGDxlCBvF8Vr2BuyrmU1ldzTVls+hZoruANCSlQ90WXF9/TKCAyxVFLj3q67QMClBtVHPo2ovo+Ms5bNswxz62uMAuLhh/hqzgs69wH0c0O4KOLTqyYfsGzh5/NsvW//uLT0bw+8FPkZYIflfkMpBcElpBy3uh2c3wzStQVQE9ToYGbYIjbS0jegrZJX0XMPu80NPGUDPCrmiN7Da2Dp77FF6aBQXV0DMJUkKn5Q5kh5B2uLbF1ojopx4P7r/uVW1gMr6iSWqnwOtXwYan4NLjIEFxiWHAEz4qTrppeympcMQQML/2msRm62gGxCZDslr3LLordIypYRvV8GUPWH4qFFgUS6u23kyJr0j0Ny2WkdNv8nGAV0heT227vEb+egCGQ604uOUQGNMSrj1I7nb2juQp0VDHqQjQFlqQw1t0IgoYX7mQmyvm8HjVDyw2djK3eJV9uFYy1cShcfLcC8u0rntpDUPfNz+bKBFF2/gmGBi8nquRtx8shOYNmtO4jow7eH3+60y6fhIAb895m6fefcr5uH95bXODiNn8QBAh798ZRkjgWnvHcbG1ocWt0PhimP+C3DdMJeCtwt42YirlKnxXkepUq4bkYkLXSdxNqfphLbw6B2olwqoO8EN7ON7UB+PoQDYdlLcyXC0KcEhjAp6NheOGQ6qy1cxZDj+YH86vMziPQAZTy2R4+mTYOgWaqzzy570aoABxmjbeXHu9kAMjbCd0VmEJO7+FhGq7mdv8ZvOWwf61kP02fN8dfjoacr6SixGTtN1g1b6LUVHnCbUgTemSX4azFZhJci20/U6d6MJPeeP1HS6m8zu7w9uD4H8dgmeVqAKexkbaOXYTuR3B6BGAodThAbXser5qCdFKlz47+2nXkqlWPFdX5jJWUMWs1DJJ2qaf3eW4cRlDAJhaMA/D0P/X9ctVgWyaX+SlK17i24e+ZdLFkxjQfQADD5VBHR/M/8D7nBFEoBAh7z8E7S0SHjsmQVkhdBoKzcM5jwHGqp9ruqEUJgtpR7uY/rzQoy20aAD7SyD7TGqqe+qE7RaPftKI4PM73iY8aZsLjzB1Yuqnw2Tlp964E3bvwa7Bh8nAMeFVt9xavK0mhVm6XiVdIEYlbH/eeUztbnDsJmh3DcQkQ84s+GkwlE3x9x6O5vwHFK3vN2RunQ25+K/A5mwGuSN0YI0Qr9aeZYH38IGcX9BJ24rrac5o6rOfchLVjZNFAfOKV4Y/b1I6hzYZRLyQJpzLtz4efjxA3eYc3XIUjeMb0C6pJYX7PVLT0uo5+kWO7n40vTv2lht74alrpMa9r2AfH8w9wP/jfzAimveBIULefwrsJD4XqVk1qYLdanI3tW43XEw5tGgFRyZCiQHvOzrHg3D6ZXXtu2IYREXBWDMX643w50Rq39Za7l7auHnQeEsE/cyf4ZvVltfraOMr8c5P3w1Du0OKUpDumuh9Gfo/cVvtdacM55qQdhJyEZMaB62PgyZHQkOnTqsKzZrA4EdhXBYcOh5S20KLUc7rGj1QTcdA1sLFGcHf/cJ7fF61ie3IXAErqboX1XY1mujat6XpnZW8w+qXOR9K0s75Re1o4TpUIHiZ7nSOqk+h5Ze6ZvcUuxZr5oLXbREU4MgUWRJ2XZlDEJqpiZuydyuxUbFs6juXD7s+S60Yh4o+afWC4gS9AhvQuVVnMlKl2+PZDx3iACKIwAER8v4DYLjWHLOnU0VFw7GLoOfj0HGQfVw58K1FAjhT2Z+nOgTFRGFvn+krw2cenK40+CkrYa3dI7nGYsANab7igoM0WZAJTTKhpcUWfLsWY+fZUEV3sO8HKmC4Isd39FaiVqiQ6JTd3tfutUp3InInQj35Ixj7NTTSXMd1kd+h1fSdkAHdboPRa0Ibmbg1MNELtkjEwEEqP26Od1lbmYO4HV9mCqTvXSftCeEO0GLgosT/2TvvMCmKrY3/enOCXWDJOaMEERMKimLCLGZR0Ktew/UargH1GjF9Zq8561XABCoGMAsqBhQRBAQkLzktu7Bs3u3vj6reqampnu4eWK9Av89T29Pd1T09M7391jl1znsgRXr2o7/HMcAypflBRl3LIYX3avesS/8C+LViKe+VKMVZclvUEbaKVzr+u+71tUVvR/rmtnB1naclxfnHKtZyvt0fBVEYvI94AHw5/UvmLFa8Bg3ZLQqTVPyJbVdBSN5/EhzSLv0ZVv0TfpSSnFktYc+r4Vsr0neVbEac1gDSLZhcCiscpWk57235mPzVUXU/7KFYCadHuzNbUuBJ2qr13Q5wm7U87/TI68m/wVezieQatdI6m0RVDDFWdw0Ty01bYaZO4MvwFxJNxH2uW+PNDH29rGBT2c94VcQcWEmR/npkebxAsSgX+hNyzrYCmKvfRWUEnRbR9dY9BT23ETdwPdp1TlwBnWgUaS1a0KUrOYzNOh3l34h/F75FdcP86HxxFVl5tMloTrolhiPPbvjAvW/MsQHyvHOJnw+4EQ7sfWDd6uhPRosXYU5PiDgIyftPwmzpOt/4EBQ+BUWa5ZmKB2kDl7EA8pLhxBwxXB1bha98b9WqdZv0aSNdgHM2KnWjDWUoiXWVt8M7yArghssjWuUAt46O1is3ohz3WuAF0LU1tJRpube9TqCSqJWIwDW/tbr9xtc5cJ7VaT7eIBV/BK9Cn/c+gLlwSA40kwx528PK3qjchTjoi/olriGO39+BHpswRNuvxMLVkXcWHqStmqzLgDzPyziuyaHc3OD4uvUF5QX8d8OkSAeTfkFWHqc1FTnfpbVllFRrP5bJ+vZL2s6oR/83Mvxb7b/n/nWvx346lpqamt1CoAVCkZZEEZJ3PcHNdZ4nRTyKRkOKHU0I+v+0niI0FYBGsH8jUdiktcF9p1rftfhPHXuhrXPhrHm3W9SuGYbuXoStW99rW0KGBQP2gfzGgsS/nwef/mI42I2wXYKozx0klp/PdLkYBTnrg/0TVxBL2vFiuRvIlgvU1MCoRnBnA1j9U3Q/xwDza5Wb4BrfeLY8+ycleJP2Hspr/y501fPwuB/LORlKbUi2ICMZbqmElap1nj1VO6AA/270FqKt+IFRuSfRLjmSNnfHqpcpq9Wcpdq89H+73VO367SlhliB/PaR5hd+K83Im2vvbnuTlCQex6s2rGLKjCn+3yvEbomQvP9kNDgaUppCxTyYZmJFDVOVVvwOUFINU7bA8kpYVA7oD5vGwVTMkoCa+2FI4wjR325WkFID1XSYAte6Ks3Bl2Mhv1HE4r7xFcX6bkE0YccjBYeBa+CW0yAlGcqr4B29uqQ/OfaY61bnx+K5rEHE2zmk7cCpFV4prdEvLovscyxyL8J2BgwOSfom+NvkNEipDY/rifW6b2ceXqStWt8tgXF+r0NRvbMPhwu/hg3lUF4Dz1VDpzK4oALm1d2rBUozIU9bL0fcNBEkWUlcJ9XTAFZVbeDJdePd5VJzm5KSkkJeivj1vtgsk6rjlQk1ibB4BaqpyEL8wygjwuzKbHp16lW3Xuc63w2wM0WbW5Z1l2VZv1mWNdOyrM8sy9In/Jx+/7Isa65lWXMsy3rDsqwMuf0Oy7JWyeNnWpZ1bKLXEpL3n4YyZtOO7FRocrbYsjHO/+dsogNT57cXdZLzrpoOE4sgMwmucB5cjZXm61KiA9scDJH+57nRKUU9iCVsN4EWE2GrSEuDyW/AnrLDrKXwwsf4H2zo/4FLoWEWdJOWzv0qefssI+REmQf5B2+iNHCPDewkvQJrZnpLoKrWfbw5dRMcF3pv5kLjFMiU8xM3m6L05inNBH3et8y1zrgRW4CDojc9+AG8uRhyUuHtw+GMTuKneaUa9iyDp4w69H8YtuUpzYzLcg4lWbm5/2/NGIqq4vugb2knKufUUMNvNVqBlCqXMKfU9EjzQgGeP6jqOh8/eTw1tbuP63wnwoO2bfexbbsv8BGGDErLsloDVwL72rbdCxF5c5bS5VHbtvvKNkk/3i9C8q5HCNe5I4oRQb50nW98QxSxcFCKmOlTSduJKs6Qg/LiN+SGi/aE/P0Qc5QakqdFr2fgrybeC12cC2fNE62i8rcNGS51cB7sOmHHuM47iGWLBvDta9BOssHlz8Dc5S4nzybaje4yf3ylTEn6ZTFUlhH9OTUOaGzgMy/Cdp65jWTzM0+eBZwj1TrtWpj1Uux+fd2LsHWBlh64uPGHyBiGEhvKnQCA32XTrWxdLhWiq57HQrfn384mWtZWwce/wo0yC3HMYXB6Z3jrJFjwN7i0gRhnHJkJdHCzuItwVWDT3eorfiAlPYf+6eJezrTS2Fy9hftXxJFN7bwn1/a7lSSSyEhKpyA9TsBEy86i6YStW+NOCniAeZH9Owryzs3OJT01ndLyIMK8Oy92Jsvbtm31h87GPesxBci0LCsF8S+92qVfwgjJ+3+A7H0gowdUr4cfP/Onn91slFjajtV8TR9l73/NBwUo1kHNVGhRCXnylnjAZLFFQ7fGlsXp21Q2xy3eOA+mjxfVwapr4MDrYMYiIim9QQrwVsDfDxGu81ob7vAMifaGOuvvFCjzUdUZiFjkXYHG7SBd+tM/GRXb14uwTQFyvvTWX1e8eWc/hyBtLxQTXds7ghmGLPgWSnPDH6vh7MfE1MioU+CkntRNh3TJg2eawNq20C3mgzoDhyJtu74ukZoXacAteSeLs9jicf3YyjGsrpD3dPEGyG8aaRI1p22m7JT1HN9Kj7gjQtoO4gWt+SVsTeNlv24ir7CkrITyyvK6OfAQfy1YlnWPZVkrgHMwWN62ba8CHkL4W9YAxbZtf6Z0+ad0vb9sWZbfx0oMwrujnmETbVJOox1pFjSX1vd6H1Nbs4HF+/YUKWIATZOhQ7yI1/xYwtaD0p3I4GSlAVwg76WV1dRoAWOziQ5U82MX1JG2RI2SoNy0MTwwUrzeWgaH3gTfzcWbsB2z12GxRUJrpptkkSfiVFh0oFvfe2v70/CuKqpa300QAxldbwZgn2FiWbRCBLGBO2kHiWZ3oAeutWQuZCRBA3m/fOaV822a7zZPweipYyre1jZu2QtOegCKS2HovnDLSeZ3b6g+hXoWEG3tu7lkFEjCrsOKXxmSvRfZlvj1OiU3o6y2nFGrX/Y/L53fJrrFKTYi+jeMJWxdgE0NDFF+/MKthVz82MVc/uTlpKWkUVNbQ+umrcnOkKOcUNt8R1ve+ZZlTVeaWmcZy7K+kHPVejsJwLbtm23bbguMBf6pfx5JyCcBHRFJsNmWZZ0rdz+DmIXsi7hDHtaP94uQvP9HaHqOWBa+D5WaoZOKCApyGgAbq6FKemg2mNhNG+6n+ojUMuVA3x95An9zlXiAxwtU09FOa14aFZeeGdEoLymDka/AWv05mae8dtznhpHDDSfK85TDEt1JZZo+1ZCmND9oTPS8txuGPhZ5/e31/uex3VLTTBH+G5VWhwedwDVgle7+nk2Q6HLYGkPYr7n0tItgzUI45xKYvxp6tYFXLxYDrBgMpS7XuzpLxGEGRtVM4+ZjMvcCYLNdShJJvFTwOn+UuPxf5DaMLJ3mhfyGkQbeo9lcjCO2BpkNeO/79/h+3vdYMpfyhIEneL9/iESx0bbtfZX2vLrTtu0jbNvuZWjva+d5HTjVcP4jgKW2bW+wbbsKeBcZBWLb9jrbtmts264FXgD2NxzvCyF5/w8wlXZktIfcQ6G2HGa+I7YvVloMniiMWNO1wJgPgIFKS2B4HmNMzBS+57aSMt7Y7EnYzvPKscb8ZBKrtTbTquG2SyO7vp8Pd+hZQ+Ce6+1gEYw4RKh4AVx0u58LiYbuGDYF3XmFBurEvzfQIh3yJPP9PD7+NaQinu168Job3FzoLZkHlzSJ/Idf9COwWWl+0ABVFWeiRyZ/e4BiGPUUdBkCH02BRrkw4WpR9wZwzW/7vRza/AHHFZiK+ywnet57mfelZ+VxVytReKSotoQzGx5MjV3DLfP+T+zfqCih1Qmo+MzfdsbIfkZhXsXaiyE1JZWzB4ko1goZHNcgq4HLASH+l7AsS30snIjZPikA+luWlWWJ0djhyOhQy7LUMfBQwEOE3x0hef8J0F3nDppK1/na0R4ZTduAJ+XDxokivtWHQlat1nwExcI2uDNPvNxqU6Tdmupqc9n8RiEnbxNNr9cy4jjo0jIS+THuO6LFVkzxQzpjlQMV0E+m4v7kVTe8Bhp71JVQkSObDlNBzRxi+494UiwLV8RqhTQjmACMqc74QLfOveVwwpdcai4RNXd/iu7tlQZw5URB3qVlYiD19iPQ2anw4lJkBqBLGlTbMLcCZnZy/AfxFHo0qFXEUjNgyQ/0yGjL8Tn7YQPd01uTkZTBuNUfMH3zzMjHjRf+r5J5y4b+8vvq+sumhw+Y0jRSYfjRw6M2/TJfE0DYhV3nO1PAGnCfdKH/BhwFXAVgWVYry7ImAdi2PQ0Yj5DImI3gWce6f8CyrNny+MOAfyV6ISF5/49QCmSfBkk5UD4fFpwF22ZF9h+gdn4RURTqwIbwtxaQlwLnm8KE5H+43Vk0X/7fxVr7BM6PPNHGnx5LKQ5pu0G1vpsAG5Ck7YKUFLj97Mh6YQlM140v00PT8Gx/7e9iua0CZugll535dJ8FrdIQ1rhKwvH++d0s8vbAfqdAmrQ+v7nLTPDxkEo0YXup2QmOqIWn5C9VBbyvD/g2K73NgWo6WmrtRWXfhOfhCaVezkMj4YiDiEvaABwFaUkRbZnRZeCLsFWUmtltRKPDAfhg6zSu7CLSwW6cf485vUsn8iwEabcMYJFn4X80q7jQ9+2+L93bRka1P/3+U3TfXVzffGeBbdunShd6H9u2T5DBadi2vdq27WOVfrfbtt1D9h1u23aF3D7ctu3e8vgTbdsOYEJEIyTvPw1pUW0GXUhuCD1mQU0hFL0Fc/rC/CGwZYojXLKXaLMaifnpq1rBU91g8wC4vQNiykRFH0HaQbDFpX9bqdgytyrmga3DlDblZy64DhVw9lDYQ8lYuiBexLgbGSyEPVpDyzyxett7BDUk2Ztg895NiCVtN0LudZRY/uBdvI1UAl96DAVnsQAGZEFXOQC7aCFsU0cuVXgTthO1vhZYy4su38ynr8N9l0TWRxwNVw8B1hFbRcVUKTcXhrcWL59bBwUxI6x1yutKfAUxACc0OIDc5GxmlC9m74oG5KXm8uX6r/l83VdQYAhC8wr/13+MdgSTyHMGCOr5S8GyLEYcOQKAtNQ01m9eT3ll+W5RmCSUR00MIXn/SbBdZoMzOkHPhdDsaiALij+FeYfBT/2T4b3FsKUaXtksLUYTTfZRmgF+WUjHS/nOhXPXm9G7TI9NL4Jfq6uldSdKxiw5GUYp1vecAk333CkTqpK2yWcNDD9ILL+ca96vovGa4IFqukCLV863Y2EPl2J4RWthkWYoqvkifl3oxVpzdZ2Pkr/lxhq4YQnxhwT6O9eiFwHR8c37MErx+u6zHzx3TbSOfQxStAbslyOk+0trYUhmKZUxc98BH79LfiAjvSHXNzuTgdm9GLb8HlpnisHIjbPvoNZWUjKCzFvkQ03jGtalr+Pmz27muxXxStpJeLnogXOOEFGs1dVinmjrNpcbPEQIQvL+S2BJOyh5FDILgFGZ0MSCn2rglBLYS6HK1x0r6VylabAMciqB6uGtAF6AI9eKOfIGxK194mZhG2f5t2hNw6kHwh4RiXUenEn0nHdrj0uvBErg5sPAQmiTPPyE1sdniUYV7YnInzbAn0CL7hZvD3ToAylyhPDmP2KP8eIP59nvkLWX6xwAuxo6JkdO/NR6+KRI6WC6KeILBKjW96ov4KYzoFZ2bd4C3nwPMtziK5z07Vba9gGC7C+VXv55ZXAV2zDP8DvQhpEurvObW5zDflndSbVSmLtFqMrNKJrFLXPuEta33+hAZWQ64fcJtH2gLfdOuZeBrw7k4FcP5qOFH4kBQTHegWo6qqB9x/YM2ntQ3aBia+nuQd5hSdDEEJL3nwjd+p5B9ygusZoAt2XC8jx4PAvaJ8EyxUL6eCusP1E7q6am5iCIn2hLZwRpa5rm5QiS1fJz84kl7cI4p/f7DEtqAf+njEce/sDHQfrnXA4NMyFPPoQf/ELr70OwRo0692uRNzE0E3odKpbLZrl0UKB/Z36c3A5KV0Lp/UDvxXDgSnFwtjSFj/8D7lsNJY5rWo9s1NE3ZouTOlg2GWrkd5+aCm+8A631QVYJQsTNLNYWhUuUUI5nsXk56nri1dyLj0fa/INlPcdyQ7OzyEgSlcIeWfgUX63/Ov6Bzhy24k6ybZv7v7mfqpoqhnQdQl5GHlNXTOWEt06gz8t9+LnyZ+8LKiUyWlMGD8OHRFwYW7xyy0Ps1gjJ+0+HropiQLYFV2TAwly4UJlN7d8IquPU7LZ7i6YTtq8o8/i4i+ipPa+UsBxiSbtM96d3UF7LwLMT+0Er6UNevwXK9c/SOrq/G5v9XbrO122FMr3GtCY2lqOFjCTjTdqq9d0C/yP6q2WYgl0Ls1/WrsPQ32veW7W+q7dC01eh9Ai540ZEkF5+ElzeEK7LE6XdaoCbVkL7mfDwSmKtWrP935LKuuagx/GQJN3ejz0D/eX3XjaISJF0vxggtIfOaw4ny9HPZdj8ZFSgdBmZ6tb3gsmR609twn2t/87K4+aRl9KQitoKzvjxfGxTXVp13lu7x6YsmcLPK38mPyufd855h4J7Cnho6EO0zmvNgnULeOCzB1i+VvM9qeeI42I5bfBppMtguq3btmIXe9XM3fmxk0Wb/2UQkvdfDFkUUpd8s7UNFEvr6KxW8PH+0MpQX9ghbQfxWMdnrWsQD70DlOYF3VW8xOuAbcREi1sWPK/kfd+rWqjOtfsIRL5X0bi4/G7v/l5DKj22vzHe0qAqchAWfbN2kCddw5++bO4bj7D18U9tNSz+BH4+ByY3h+XnA18i7oHTgA+A1R3hyWZwRxP4qU2kelxhDby8CZ4z1YRzIJimpfbYexzYshrGniquof/lcP6FkLki0jyhu84l/rsHvNcbLmslHranUst6bEipIfYRHDxNtkl6Y57dRyjnbKos5IsfpPaGL91ZuO+b+wC4avBVZDXNokFGA6494lqWjFrCIV0OYfzM8Yz9eWz0Qbl4z4sUQ25OLicPOhmAWrt2t9E3DxEcIXn/ydDrfJfK0NtSutQ1AL7ZCk1mw3g5ZB/cBBo6//nvA70jzXJxnTuoIJa0dQLfcqiy8hvwmydhO9a3Q9jxXOd12EZ04FlbbX9jOLafcH0DPDEJ7wGHbn0vh+Qk6CCdFm/rFVIcKHnkOtnoAdLy0uIKtOjWd3vM6WCnXi+WC6aBjE2qs/T1c8fR9mDtGhjTGhYfA5tfF7r3OQdDu+cRMWbjgBOQanvSDO5dBfcoV/R7Bdy9VosOBOGuiTDNGgZE7bXLYfRQ2LoGeg6Cax81ELYeQ+nIW/g0g/7TBQ5qKDTgzqCWglqYlxw/eM44slOsbwAWT+eMNkNpkS5GUdfNutmbtOU9NnPrTD5b+BnZadn845DowIW0lDSuPfxaAF776TXshna0+0kfjbm8Z4zrfBfO8YbQ8k4UIXn/TyHqctYRtoqB2ZCqhOu2zURUlXOaB/QIjZQ4fUGanIK0uedTyB3JVm3qTs1wCpqnnCmb6aPqsMrhjqHidVEpLNygdWivrbt8truOF8ttlbBYl0v1U6eD+JHopsGKn+/lpKsgKVlYrLOf9R/l7hiGzlhl5tVQuR7SmkLLu6DnEuj2DeT/HSkp63I112ZDK/mlJQErq+D7DUTqxMZ/LNg2lF8KK3+Cpu3h+nGQkgoT9IGYCkeozevpuV/kZVoSjO8pvA1fA+1r4V/GmAUt4b90Svz3qCrHqq7k7h43kmGlM2/rQgaOH8hHSz+KRKCrxOq40HPhvk/vo3er3ow8YiSNs2OHcUf1P4pmDZuxYN0Cpi+Y7vFhzTjqgKPIzhTpGYXFvobEIXZDhOT9P4H+gNR9aVuFEPQAJb+qnUlCV4FjfTtP+DhT6nXQfcXbrhTLWybBlgp+Pye6gENLvIlJfdQ0QRBNnGD1aDjP3ybwr2MgRX5Ff//E0FdLM4pBAZy7HyTL8c/f7/J7EQLJxMqlun3ueEFq+rYuQFYKdJckNUlP1Tcgl2gucea5S5eJZXoTaHkLpHcUwfTzjVerTD6X2FAsTX6HDF/TR0ixWMMA8oG81bB1IlgZcNOEOHU+lqOqq0ZfvAM1P9oQDtwyHcYrwfKf2bCmzvp2FHcWeF47VeWRBrD4Zy7scA4TD3yd7JQsvlvzHSd8dAJ9Xu/Da/Neo6qkCrKgNqOWr5Z8xc1f3Myi9YsY9+s45q2dx98O+lv0+SXBpySnMOygYQCM/s6l6pAhUK0OUi51SH9R2ax4m98QxZ0XYZ53YgjJ+38A25fZtwfcJjXrLaCRnii9SDnhAaL5nR5zHpJuwaydJeUs2hA3dxtiA9dyCCjQsgXBTgZvZ78OYvmdmhHkFhDtouDVT1qDP/koTpW5wjOUMApOYRI/UFPNAIb9WyyX/AbbiqL7xlOvU9H9RrHcugB+L4rOgsuKFyn27CbxfXVR2OOFIqEpEAXn8RAtglo2C2q2QEZv6NhXO2S50sBcKlyFlLWNF/F30MHwmLwUG3jIAt8yeQ6W/GDcPLjpwRQc+SsP9xxF66zWzC2cy3lfnEeXt7vw2A+PUVxezBnjzuDeb+/l3+P+Ta1dy7n7n0vbRm1dBV2GDxBu7zd/fJOqasVXnkUsYbtEIl55uhhIV1VXsWXbru86DxEcIXn/ZZCntT/gsBYwIF88sT4fo/XvHyFtN6gstA3/iY6j5ZybDRNeiC7P8aGhu5erOGaWsiGuud4qnpPGTXUtfLSKaNJ2G01ofu6XhgkLvrQKVunP7z8IDH3e20thPpMIYTvoCRx4AqRLl8TndxovPS7aAQ2GQlImYEOTG3wcRCGUb4L/SOIbopC1DdytfiHOZK0+RwFZ+wK1UDYDitZHPlNPYKGrUowCL8lyg97QpRkwOEl8N83iib848HKdK2hQVcs1rc5hyRlLePngl+mR24OCbQVc/cnVdHm8Cx3zOgLw7rx3ARh5wsi4+eB7d9ibPVvvyYYtG/h07qfxFdt0SHI/uO/BpKaIlcm/TI5zwM6PMM87MYTk/T+H87h2GYIPFw8ORi9D6CQ6zQD9AaEHh3khBai4Eg78NUL8N7lX+HAjGqNY73ql+UFD6NsUMlMF+S7wilNKN1zMWujdGk7sLeZpX09gCrIrwRXYMpUG7kFn+xwtll+97n1uZ6yiR6I36CuWq181HZWmtRwYXStGU12AZ2WQmvMUeGEzXln5sxlGSjNoMASogRvejJ1ecMVa2XSpcB/uC8uCj9JhTRbckAZk625+n0EMDqrKYf63UXW601at4G/d/sbcU+fy3uHv0b9pfwrLCpm+Wtw4NXYNJ/Q9gT1a7RHnvGBlWww/TAyAX/7SJaVAh+pGl3KpbZoKt8Ubn78R7LOF2C0Qkvf/CMJ17oMOzmgPaSnw5TpY9VX0PstQiywoYRdinjs+SD5hN1XXRUSDGB84mUgO4qmQulKB7k5tjjFHav0DUPU0XHuU4RzNEaTt5LG7Re/K+eXRPrQz0vykOGnIJJawPd8HuFjOw29eBws0hU019st5rpuGd11kGpxdATXStVpKO0ppR4wvpMaGB6TVvR4RaX91LoyUv1BRLfyhq3rp7pEDqAIaSOfMxjvMn68OhYibxmvw5cDt3t0PMpOgcZTVXUOgSjNLfoie93ZBkpXEyR1O5vsTvufry77mmO7HYGFxTPdjuPGgG80HaS70w3odBsB7096jqKQotn+8eW+J5o3FBMqEbyZQvMeuP/cdIhhC8v7LogWwBRqdDYN6CtPxypfcu7vlqJomcOOV2nTwbsS6+OiK/ECeP6NAS7M4B8TJr81R2bApXsqdsbDg2F7QKBNmr4bnXtT2667zAFOpzhy2n8eqbgP3BDr1isilvvbP2GO80oJ7AE0GgyU7Jf8DSdoueK9KhEqkAVsg7XBo/kCxCGBzcNsvhgNjs/2zBDdRuxkGPhPdu3IggrT9BkqXIAZgKmkHrK8joFnfAVzndSiIDIgty+KQykOYdNEklt+8nEkXTeKgjgdF93cKsKuogn6d+mEhRhpjv9Ryvv2gFNJT0snNzaWisoLx4z0Kwe/EsIket9d321UQkvf/EDYzDVsN0h/7dBLLiTOi83FrOscSnx7XpsJnaWQqpkB+jVDjAvivd+1wfd57ped74C2Koc5r+/3PS9LaOuG4SJGDmNsnGo7xMOD0WV9H8t0PnAA4t3iAvQ8Vy8W/xRK8DhOfFQMN5DnK4rlAbBvuk/qklZDcERq9BdtGAU9uiTwJJqoMuqds0ZjPY6Q0BUs6Zwrvia3r7Ykkgimwmazx7B2QRlXgQ6cWaJun+EJ0q9lwX6ampNJcqvG8PNmH69zl3m7RQjwLRo92iVwPsdsiJO//OXz4z24+VUScV1TB25MEadfIR7lBcC0KFcSStm5xq/PQahbbcBmWVW5Trj0ndZFWD5mYyLWoUSP6k15Pm/UzXM7T1l3I4MIDxXLdVtima2xrsw9py2KPTyfaQ69Dtb4d8vUTtX6DdKbYtfCTljZmsqFTib1jOsn5brsSun9aoB0hv+QtNmyS7oosaPQ+lL4IJffIC31JukZKbPj8F6JJ26wpnnueWFavgkotB6dSl+DvRISs/RJ2U6Ld6LHjCG/o1vcKN8WeOJhPtFvcj6slFfp16SdepqRGR51D7D3t8u/fNLUpGRkZfP311yxf7iNlYidEaHknhpC8//J4BXL6w54y6vtRH6P4oAIt1Zi1OZ6OWBvvnuJXjiWCmLngeCIeDrz+y3SC9+k+v/v4yOt/3uvdP5n4kqmmfNEgQW1piNrhbdpAtrRgX7rTvb/b8G4gkN4S0qX4zaq7wZh5PqkSlgmvTe7zUPktbL0RsKDNq8D5DaGzvFGuiyeXKs5fAJQ9FNmSd3Wc7ptl80Jj4lad84eAgWsmOK7zIJXB9FFVFfRsJ0L5jtv3uLrIcddjXJCcnMzJJ58MwNixCbjfQ+yyCMn7fwwbPYpKjew5ibqSXvdeC9f/HT77b+xJHOvbsVL8FCLR5711P3fVz5CSAo0ldU31NpdU67sBPmOUlIFGbRmU6p4EU0qY17y3fqkbIDkdOkguG2ea1nUgv5PkRdGbWxu65hA/TU4n/RzMBH/0OWK5fmW0BZuOiHZXn+1uU8HNpB58yY+I3DoVi1rAPyLuhuKv09hyuXjd6hloJN+fY+Tk7W9VUKPPIUQPCEoZQ3IadYGHNRqvpK0nlrT1wZsade53jly3vhNxnevWt+46T02HXKioruCF317g3EnnxhYv0a1vw/RP99ZC+njBKikiYyB4Pxg+fDgNGjSgUndv7CIILe/EEJL3Xw4p1JH2899A79th+So48Qh44AZo2ACSFT9vkOjywAmPNXBPy7qXm7VS4brrvJJoIRJPbKOOFe8eA1nHwZCbXPrGk0jSU4/AqPR5j3TlGuVSF+OzYIu7he1W8dKr6MnV/4m8fuf6+O55HalIFburEJ+1GhrdqJDRlho4cQkU2bCXvIIXxJfY4kFocolysgcUS33ki4iEa6e5vP9tzvvAul8Faac50zDHeFx8Od6k3UF5nejT10/gWmp6pEkkJyVz6/e3Mnb+WH767ietv/cpo8jbR383HJV6FGvXruWOO+5I/CQhdjmE5P2XgK71KSdCb3gH5qyG27T0lKrO3oStPv0dgRY/UEmvZgZc2rSOdT6+LDYazkt2MMb6bozx2jPTxZT+D79HinVQJluedg4TWXthDQw7ICKXemFAuVQQ4wyVtOP5ItwIW08l6wmkpUFTOYiZ9F/v6+hLtLf1ZERZzmQZ51jkRNTX2jB8Ocwrhz1T4RrF/3tlNk2vi6z2ZhFkJkNLecUv6yljsShlDKl/p+4p0t5t4KVCF2jRy7Lpv20x3qQdY337cJ2nZkS3gt+i989fSUpSCsN6SKnT30d7u7k167t78+7yVPPNZUd9IiU5hawsv7keOx9CyzsxhOT9F4CNWbqRU/cWy/dnCsJ2mgm6uzlovje4h4gfIEl7mjhZKe6B4pNMx/u4lquGikpg1TXw7De4m7E63NznLnOm+3QQy+8MKfI6dNe5Z39iCTte0JrTNw24UMqllmyBTZpXoINcenk1mkjytIuBtSkwahN8UAx5yXBLR7hU8WG3jA6EEA+1TBgphcqLamFtUZx3i8CSt6ntJgS2VWl+aqgWK82Ertq6T49JFFzkUnWM2H8EAG8tfIvqGu2N4mRKrC9az5ivx9AopxElZSWsKTRIF22HNR4iREjef2XcebJYFpfBtOei95nUQIIStl8t9BfkZGU1vP5OdFkwk1yqJ/S5z9bC57CPPPXrftQgc4gmbT/xdCnwnBQXqa6FSR9o+xMI5i0hmrC9xhwmgu8BnPEPsOR/47N/j+xz5tO9piJOBhr/E3BETI7/Be5cIf7D72oHlyyGMhuOkC6ZMaVU2tHWSA9mw9VNI+e4RDelzRI0aU/IF5UwZaqyYwtolUTdEW86x6QR4EerQEVpAHHw3KaywV4t9uKJY59g2t+nkbLeJfJTs8jXF62n+QXNuea/19CumcgZWLByQWx/P8gDBvu/9J0RoeWdGELy/ksiFXgNWh0M7aWpcoeuLiIRTyfaNHEaUJQKewbs2RCy5BP9ej0VKRqmZ+/aWG+7EUftI5bTF0K57odvRnCBFh0roG87yJAPzmvfVvb5PG/TBN5WJ2w3FbbOIjiZn77wrt7W07BtPjnQV/5Ov8gPc00ruGMFbK2BM7Pgg6bQJAnmVrFgposZ3FPeOJ+W4KUdV8oYkg+kbj7hmDsIFi1eSWwGgZugTzyXT7rJdZ6hNB/YWBBdIm1+BZZl8c8D/kmnxp2i+zppYzoJV0GzvGbkNxDl0hx1tSjy9ou84IeE2H0QkvdfBMJ1bhiSX3CCWH4zE2oVdjGZeG4kGY+w9QdhAeayzufIJ+zSSko1t+7zRBtN77lcRly0h2z5jK2qhg99uLVjkEP0Z3VJTzqut1guWAs1VUSTtiblHtR1HoUAw/0cYNST8rBKWKQFQPsWPzlesQ6H5MGYDbCpGo5vDKP3ERqjD+bBB/nQy8X8e0wGKVbY8KNOOrEk3gNoeKR4XT7HxzXmE6w+Ywmx96nrFxJAiX7JD5CVF2l+oEsNuvy2Zww4A6DOXZ4Qee8mCC3vxBCS918dI8+BJEsw2uuvRoK4/KAC/xa2V33s/0Selp+NaMAaqGsJwZDzvWJD5PXor2L3x8AJbgpikVfD8yIGCRv42Mvv7yPQT52aTUZyks+nhEMznYD9DoGGjcT2txIIqBtZXQLjFD/ytC2wtgoOy4O394RU+e/+txw4IQtSo8tzzScNWACDW0OW7PvwQ5ixSWnQ9gW52YYWr2hdhxDczZ1LtKBLfpy+dSNHnbC1kYTjOs9sFGlemF8h3ttpPgVaRp07CoDKajFCiSJvvwxS5LNfiN0SIXn/hWDzjbblesgYBHv1FauPPurvRKoZ7Efmy0vExZ4GWSnQQ5rGX26l3MMirdRagQ/XeYEk7+x0MV6JcZ2rXl5noOHXha7IpTbOgTuOh+X3wvGmLCiPdDqT6zxIHXC2QeY2s214kpyT/+YT79PorvOvrgfmK1HNm2vhgAbwfk8RSW7AfFownzRJ3ArOl77rj4u0IzLRC6HO4DHSWxKZ831c7ghC2C0JXrcxpm88ZYE80bwIe7EUAchPj7SgKIX83Hy6tIzEh4SWtztCyzsxhOT9l4Ui7XT99WI5Zw6UaAlKGSQWWa5Cn5/Uo84tgFS4OWIuF2ixTE5FSidI+HU/75sS3VZIqyYjHd7/AQpN2TGy77Rl0Oo2mKpXAdMjuzZjvMtvPx7amdTaaon5/MnxNMNdUKl7pIvw9RtdcbtYlm2DBVoifTzX+azxMP0/REYQh2bA3Y3h43xooI7OOuKd4AeMkr/1tlr49E2i5731cG+BXKknZJdAuZ5HN0RbbyWXQQg+n+h7vbWPYxzSdrBJizJfrASy5TYXLT+dqaun0mN0D7q81oXaWm2EqFvfLoxw6ZBL614vXbuUikplpLErsUiI/wlC8v7LwaDHeOaZkJ4uiks89X9iW7xANR1bDc0LltIcDMuvc7VuHg/bZojNXpk9MXB8xRobrZCGU5Y0dioqiRYVV4ygAY/Dmq1w+Fj4Jn4MXXykIOb5a2HBCrjsCbjvLffubha2UWck4KCqE5DXGNpLg+3/ronfv5JI/JaVBFnNoaMjA5uTBDc3hkbq1fo1a3+G/MOgc55Yfem3uL1BGM79ldoZ+3qJ3UtBmbhwyDmQ2aSXd/kpfneIkLaChUULWVC0gMXFi5k6WQmhDxApftWJV5GcJL5/27ZZtDqBAIqi4IeE2D0QkvdfDHZM8tUJkJQEh8kajK++6k3Yan3rUvwLbquIqWs9VV5HZGCx9N/xCVu3vguy3a9lWykUFkF6qhBsASHaEhNxKx/oh8h098oaGPIGfBIvwE0virYJ4/z+uiJ4diI8/VF0bCBVkDwzmrTjpSu7hktp5JPsQuqHSGWyJfNjC340Idpm3ksuN86C0nVQ5Vi8FY77PJ1Y0u6gvaPjguioNOCZI2HiqfD2SYar7ArMq2sTuZSUDOg4UuwtNpG3HgipX4Za490vYddZ345nYIN7Xwe5LaLbYu1i5y9mZUnE/TJ62Whv0tavsxRSUlI4Yq8j6jaFrnMzQrd5YgjJe2dABXCzrFqxahWs0BKS9flkp9xmEPhK7UmBOzrUrW37FLYpOdmvxh7gGytk5FvbloLAQZK3C+5UpDfLquHEt+Gd+XKDKSnaKyAPGNgTOjQXgXNff0yg/3ajbnlenAPinPsGJUbsv9f6K8bV41yxXPOd3FBhERnFebla1lJH2CqO7AjHOqJAUzzOIdDuQnnG8VCqB1Ye5eMEXt95K+V1XfCmW/KdDllu14dAy9KKSNrBxws/pqZWi/z0+f/18IUP172es0wLoNuVmCTEn46QvP+S6B/d0u+B/faDPBls88itsYd4BfvopqBX4SgjpsCBudAgYoOu/1d0iXG99oKOAn1je6AaSkugc1tITvYg7ySgLQzcC3LlM7tXK6iqhTPehVd1D2825hS6ddr6SuFYOFcKYrz2heEYDS2qovOxPUu3lBFDTslF0V06IeRSm0uLcsJr3texF1DWFZocCDWOV6bCjncIgrCdBqBbhe9r694TzBO5lJxu0Hx/qN4Kp8z3PCQW+hjC9LaeGReq9d0QUdPTj7Qb0LIzV614nNdmRb74p49/muR1vsMRIyiFnu170q6pEGr5aqafFAoDEjxsZ0FoeSeGkLz/grC52bxj6Kli+dH70fOpJverKdgraDRvjOtc4oRIpFfFLNj8mPuc9zifb5WSDItXwIKlItIcFPLOxFiy9KS+YrmyCG4/WEh5n/8hPPUrsaQdj1kVi3z44WI5fqrBcpxJ8KdAGdFk4yPNrwS48FZIz4BDh8buVwutqYW7+jwEBzhzFTHkXay1PXxcfGulmaAX7Z5NZ6DDcWJt8qV6fwVO8IBbmTQVpcQXaGls+lIb4lsEv2UPKC2Glp0ZMXUE36//nhpbWNo3DLyBAe0GRPd3G5m63BMn7C+0Gn5b6h07ECKEX4TkvTPhNpE7ypYtMFdLK3PLaIkXWKxb335Vse6PVptafx1Uyrighw3dHbjOBXeGPj0gRw44Vkk2qigl7kDjTjkVW1QKxxwMD0m37BtzoNorqMjkRl8L3drA/t2hpAzeV41Pn3nkJRA9qEqgiEof4LRL4IcyuPO/sTbjJswlsvMPglyZ+tagwjHBnW/dp8qYg5oaKHxC27jQ0HG20gTayd+hcgucomZvZSD43q8R65C1PnYwlYmNCVTzQPFaQdote9Rt+mXTL4xeMpp5xfPITBZunRsG3kCTrCYihlQnbZ8DuGtOuoYkK4ktZVvYUKTNye9KpmCCCC3vxBCS986C9LHQsBW0lSHaD4xy7+sojOmEnUDKaiymQJum0E76rFPEe20aBJXfxfZuROzjdK0LsR5/qFiul6Hb8ea8yYP2+dBWziTc/j5cOwDePgM+GiYs+RjohK27ziUc63v0V3iSdo5yjT5pIwa669yEaEmUWBzgnMsJ9jOKlphxWF2TrvNjVkDKIhhkCuMvI9adEMHjDKBl/8h1fHMFgRRKqQHa4T9mwzXNTHcbTYEmHSPNgPvn3A/A37r8jbKaMrJTs8lrnhdJ/vCdTqGgFDq17MTR/Y6mpraGtyYrqQxBNM5DhNAQkvdfFMJ13kFpEsMvEssfv9VCoqkj0jr4LqytQLe+nWegrTSAiftB8VHwSl+xXg6bjoSKL4T13Ug2cKk0pmIbUAp3Xywy06rkwziKvNWBhzKEPl96NKcsEF/H6T0hz4lfylCWGfhLqwPOGiTIf20hVOp1v7Wa5lQGJO1q/KXqESl1bUpDa27YthiYPw+sNEj2+dsfZtqYJuct5qqjP10X1IE5n62blEst9FGdk84E09uvIpa0G8ZjVhmoFgcLywp4Z/k7pCalktlQ3EDtGrbDsqy4xxmvzYDhhwn1ndGTfUSuq8gjLEyyg9uugpC8dzZcfp2IrKqqgomvBCs0YnJB+wlcM8U+9WoIDdNgWGvoK33DZbD5OMgweVd16PP1nUTA2skKm0SRdwXG/74bjwHLgopqeGOVssOxsAN6i1kL+bmw8CWY8RSkmR6yHhonlXqAXDKBpEErEXrhKoyeYkSKutMqlsLyc8CuhOR86MevWu8M6tK7KuaBW6GtF+XQwAb+czPRpG3MaFf2FdIOOO0FaNEbLv4cHu6gdTtOuRy/Vnlron9/z/izZGJIe5OmejN/St3L2zeMpZZaau1aHvz5Qdo3bM+zRz0be1qfAi06TjrgJBpkNuCnP37im590JUUX5PnrFmL3REjef2HYnBO9ofFYyMiAnn3F+jP/8T5JA4JLTurQFddsJRc9qSfcf7R4nQapXWDtBe6ndyRoyvLM+4cfq1xKGfGvPVsIuvSWc6IPfYxnOlgUUnD1Q3fwGZwMkGYKGAwo0JJc5L9Wx1LZVKd2ySooOAxqpVXf7MqosxMlL1OCyKkeBFXaxPlhLICmpZAnLc4nvCLsVqL7B65jD3JbwHW/QVc3q9GLsPXRiy/o9dtmxO/esge07MLaRg14d5WoD1tj1zCwzUD+feC/GdBmQLR4f1A3t9O/CrIysujUQsSK3DzaJSBVR1GA99qJEVreiSEk750GMuq3Arjy32LT6pWxKh6OezlIZLned0OcviAtyD1lA47sQNZgoBIql0DZVLhLqYrVGGHk5ernMeDYgRFrd7Huwjc9OMvgmkHi5RITEetEXk0wgofY78NFayNuuJQeb+DTda6ikuiiZ06tjtIN8N6RsFWm/2f2gSUnNGIGjYmNDttX5Lb1FSecKsui9lAaACOltb2sBip1l0EhgrSdUV28sPK6uyQah2vrqsa8pqbnCmeA5XiesuN5BSRkkNrXDav4o3wl6+d8xGMLn6GitpL9Gu3NkmNm8e0533Jx34uFOpopUE2Hygip2lKB4zr/Yf4PVFdX77qsEuJPQUjef3lI0lZx7CnQoxdsKYJpiivQcc0GLezgx3UeT4Pasii9T1bUkA+hlaMFaevy4a4oEp3TK+CqU+GfQ+EM44SshGLVDt8fxoyAzfdjju72IdASBUnWy9bCGffAKXd69K8yELZbTeoA0xwHAcuVZkJFMbx/NGyeB0nyIsr+nS3mEgBYYj5Q/ly5o12M3BuyI4VfHpPa+nHztaKxJ1HDOz7u4HFANt6kbTqH33lyx4U+5w2WVq7lsKU30X3RJTywYTxPL34JgMf7PkjH7A4R95DbaFP/+PGEDRRcdYKQS62preGZd57xe+G7PELLOzGE5P0Xh82h0RtaThEP5lPl0/ft0d7zqWrwUtBcb+fcuuu86v7o9f1aknwadQ/T6jGxToFP9XNnI0i7KHrzA5fCE1dB705a/zJ5LaorOlOEAJyzn1j6gh64tolYjyswaiyM+xYmfA/V+ve7gOingfYZYlBKLNFox2TK9Q1Ki4fKbfDxcbDhV0jJByzI6AScGj987jDg4FMgKQuKv4NfNX6/jLXiyzxIsFHqc6aC2jqE9d2befRmHjd49AYiufjZMHcFLNbGqHXarw78uKyjrO80RFnQ6DmQhze+hy0DOf5b9AVbqrcwKH8g/fc+HNo1jB3MmmLhvAhbZ4kqIZd6QHeRF/DlrC99fBh2G9d5iOAIyXtnRDlw7DBB4l9/Am88A2rFongCLX6xAf+1l+kD9CH1biLktw7ONSR9Z1ZFmi9kEayGuZ9JYwe61raGf8giHzbw2AsBzuvAv6FaR2JehO3w2482vDgCCr6D1HyoLoTU5tDjRSBFj5COtj0msxcpOdD0FLF37Zjo3u2AHqyl7S3iR6paDMyNV7l9PDCe3syj7Df4oxfMN9Rrr4NjYcvpjuMfgF4j4RLTd+xFkjrhV0O8+P8NlPPy5s8BaJqcy6YaMX9xw8H/jnPBhuvR4fN+fv7y5wGYMmcK5ZXaKHJXMgsDILS8E0NI3jsVuovWcQ20bANPvysspDv/AUd0hJcehBKD0sqvU6HMg0GCyqWWAVvuR52sLO8+hmQlWK1aeRi7ekT1h297gpGeAzXay0/0sn7n659/A/RQCOiZiT7OWUR0oJqp8LcOx/qUaKc9XY5QXs+SbRqw8hUoXw1pzaGqGKiFFiOg0WFwWF3wWEvZzKOwFtJ5s240tLUFabeT+84Dso+M9E078z7t6HdxSFtFci5UzIWqlXDFz5HtjYFpHTDeBP1lFbVv5ivZjw7/9tU6m6qRepYVjWjdPsECyuwKjm9+FD1yhcpc28zWDOmg1yxVkIV46qukHbR2AOIcPdv3pF/nfhRvK+bD7/QiRC6IcVmFCBGS904B4TrvHrvj8OPh7mehe2/YsAYeGgmD28EjN8FGKW11yeFw0cHw7EXbfyGL8bSCU2+nzuixl8K2tdHP64/juT7dkpp1pBNPJ8QffDx8G2RBYznlsHgNbNQlzVymk+OiWmtuk9kKHNIuL4TZz0H1Nlj8ABT9CJWFQBW0uRI63gmTSWMyabgnl0XQ6HDIbAlli+Bbl7SxFDmAqfwdBGE7LRazOZi09pAiB2QVt/mLe7jueCGJW1UDr1aQmNKNivS1sdtye2A37M67SUKZ57oulzFv6x8A7JHTNTafuwr31Ha/cDHzonK+vWDDd3O/49JLL+Wtt+LUqg2x2yEk750ZKSlw0jD4cBa8OAn2GwRbi+GF++CEDnDvpdAwT/T95A2Y71HbWLc+NxN4jry89SL4V8SUPPeV7Di9ERaqTtq6AkkT5bXfa8kgoo7mU9o0BhtgL2Xe/fbHEjiHY307tdd9TEUs1JqjIP7hiUIvfP1tsG0BUtEG2lwAKx9NZYoVj/XUN65lMr1pnwyt5dTAT1eYj2rxknxhwwFvfq3tjX18HAD0+pt4vXpyrI7QNH1MMRgycqFvR8hIhQ1eEr2pxIavtzd1dBBxoVfZNRTUignsX4p+Y2OVuOn2zu0Nizd4B6p5wcsnKweuZx9yNslJyXz8y8eucqmLli9i2ZplTJs/jYHXDuS5557jueeeS/DC/toI3eaJ4U8jb8uy/viz3mu3QBsiUcuWBYOOgdemwBs/wOEniznwd56Dye9FjnlguEye9gG/ScdbziG6ChoiUtlRORtnYFqDQEtclONN2g5veQioxIVh6qC7UmP6bZ27TFCfDltk86nsVpkq2sEu+7udKZZznOkIGzg9hZXPZ0equdRhoeEMsaOYVtI1vmkGlCvpaz2A/wMOPBIsSTpLXox39WtwkqL73gRYUFsB/37D0NUQHPj13VA2DkaeYui/LwlIiWrz3sXPk5aUQqYlUg7umvt/dbsa5DeHdj7mOEqJnoP3wwSGOfvmjZpz1N5HUV1THSWXumnLJp756BkOvPxAul7QleXrl1NeWU7r/NaMPH0kjz/+uI83DLG7oF7I27KsrZZlbZFtq2VZW4HOzvb6eM9dHTYtoUppbujbH558DybOg1MugGQlP2rVH/DgedE1PHXoxFek7VflQt1ESBolCQIH+LWaY1fkswzq2jN57m9fh3KlQazvVS/h7Iewdevbh+u8uzLvvXELzNdFy0yuc4e03aBb38sFaXuh65lAElQ5JHt0EoxJh2QLs6+5gdZi0fF0SM4AbJh0j5brLdHtX2K5KUa7vhCVtAFepAspWdCol1ifrQQtquVTdeSo7un9CJ7epyPdpMsOw1JFCHsR5WQki+CInFSXq3KizH2mgsX0jUPwIwaPAOC1r17j3anvMvTOobQc1pJ/PPkPfpz/I9kZ2TTPa06fjn1Y/upy7r/wfnr16uXjAnY+hJZ3Yqgvy/u/wASgq23bDWzbbgAUyNcJ1FkK4Qvqg65TD7jnJfhgCeynKGJ8Ow4u2gO+HS8qR+nwGlrV4EM5bCpcnxMJHLvOh694s9b83CVeVrb+4A/iOpfE0UO6UBvIwcIk08xDJfGvJVE3rMSnS+H3O+G1A6j7DKntgfcyIzrkUeiMudZm9BTGq/QmH2gnb4/fXWqH97gZYUmXwxnjvyZ6nkMfRQn0koRfOBNSyqNJe66eA3+g8joNSv38TnsSTZJdfBzTdm9u6xSRnmufJOZj6shb97xk4U3YDhsEscaJyKX+vPBnTr37VCZ8P4Ga2hqO3udoxowcw7o319GjbQ8a5TQiOTkZjvZ33hC7D+qFvG3bvgJ4DHjDsqwrLctKwqyQHSIAbP1Bos71ubmVm7eB+96CFOXglQvg7tPhlqMhxYfKhS4sogeVrdGIoqozZLWFi5pCo2T4fCuLv49z/kqgt/dlAPED1UzGZ9A570KiSL97K7F0qpSN9pOea6po5lWTWsPBwM/AZ8vhmwfhi9uhcpnYl9YB9pwNZKrE3Z5Y0o5XrCPypQyQIjTb1sCaxdG9hgH7NISmsvz39494X3tnYMh5kJwKyWnwwnSPAxRpuv9+Ds2GwcP6/aLmfPuuUqaVCZ1zFY1SGjAiT4xWbPn1Zacqg5os4geqmX47v+58xfzLTM/ktAGnAdAstxkP/f0hVo5eySf3fMI5g88hOyM7Eu23ixP3zmR5W5b1lmVZM2VbZlnWTJd+/7Isa65lWXMsy3rDsqwMuf0Oy7JWKec41nS8H9TbnLdt278QyXT5muAlIkJ4YSvec8FZQF4TGCDvkUZybi8jGzashNtPMx+nBqr5SSOr6hxpDh5vB6c2gs01PHxkEvMjGTtclUeAeXXZdEvaLT4rnhWsOwFKiZvv3S4f0lNhcwnkZcPMxTBHJyNdwEaFm5dC83CkLRJLvZLY94/DtGcgRRq4Gb2hxy+ialg/ShCk7YzivP6d09FHMg/Tk+b9IENOSzx+a6S3k2gGMOgWaNwFtqwCavRxuLi4fiyiH4sYh8hgvGoujCqFDgMNl6JryUrr+4HxsK0crvscHvhO6+9F2rr1nb7I2O3CRqLgeEGVCBbLycuJBKrp450EU8Ji1g2s4USdZ6Zn8q+h/6JlE206zE/mRYg/FbZtn2nbdl/btvsC72BIvbAsqzVwJbCvbdu9EMP5s5QujzrnsG3bs+iiG+o1YM227Vrbth8HzgB2QK5SCLYqzQSTIZ0ODD0P+vSHzRtEgFv5Nli1EH74CNSI1wq8lUIc6PPSKqp+Fu/zTHs4rwmU1vLkcTDxfZhTCXOe93H+VLzd+A6CBqp5CLQ4SE6CrlKga3BfyM6AuV7pXaXEkraPaQDTs3rxZLGsLoMmXaHr5/Bb4y7MQDRvpBOdZZ9v7NXtdPl+H0WTtoPeZwE2bCmAEV/NqduexWyymE0/YomyaVd31bu5eebtN5yuvP4Cbvna4HGquyht3acFPDBrT9pntqHcFjeL65y3XyRC8MCgXoNom9+W5euXM3XW1O27hp0YO5Pl7cASuYVnAKaQTBCmRqZlWSkIE0ovLrzdqK+AtXaKm8AChgDHWJZ1mfwwIRKErQdueafzChwxFM68DFLTIgFrNlBTDdPeDF55TBfccrM+Uw6Hly+Af/ajthImngLPZsNXl8AJem5xb4LnbycRTdh+coT1u15/+K6PXu0uv+PD94Z1b8GZhxrOuZJol7jXXW544LfQ+O+49bBGBsilt4E9v4DZzb0I2/lwjpnqb/Rz0CixrNoKT8+K3ncUYhzW51yxXjA6QtpuGKe8boYQlvGDUw6FTDnOsIB7psDVE2XKmWlqxSuYTLe+5zxDUvu+XNruXBqn5gGQk+ZC3m7z2AmSdRSqICkpiXMOPYfs9Gw+mfGJuV9off9VcTCwzrbtmLQO27ZXAQ8hCv+tAYpt2/5M6fJPy7J+syzrZcuyGiV6AfVleU9Szn0fooLvNEQcqR+bK0QicCNgZw72pBHw2TL4m6wJbkv36Qdxc4AEVsU5vwllALIeZJIFjx8ON/WHWqiVruvpTrZO3HJcGhrgQ1HLAwHTyJx577WbIduJz3IpJRoX+py3QUvEQVUVnOIkeKdAo0PANpoN6g+SKZvfGSoRlfcwe5HdHDqfJLYufC+2Z5OFkCmnT1YtiE1YmK/1PwBB2m71WWKQChwihHGeukLk19sIAn/8B7jgXahxvP3xItH3MJ08pmYaN3a+nKZpImAtOy06kI8q/M9jB5VL1QYbIwaPoNau5elJT1PmN41zF8P/wPLOtyxrutIuVq/Hsqwv5Fy13k5Sup2Ni9UtCfkkoCPQCsi2LEsOfXkGERbSF0HsBhFpf6gv8k6ybdt5RB0BnGHb9hjbti8A9qmn99w9sQ3hklWf4fEsg6Yt4doH4dmpYMmff9FvUKrVudxC8CImy4m2mrcoxUssC+49hIMi6bWsnQbV+h2oz486Ai3xXPQ60th+gRbF+nYs7wXx5rZNcMhlg2ymQDYN38j26i+w+GexLacnrH0dFlwDR8W4pxsQIW03qNb3HgijIZb5+l4ulvPGCHIu2giTnoJL+sPl3eDjp8T+M26H1w1B7gcozQTd+l6Yh5H8RhwJww6HFo0jUa6v/gr9n4WqPtF9ccueile9bdJlAGyrEf8oOQu2egeq6dAJ3o8/1kDye7Tdgz3b7RlMLjXE9mKjbdv7Ki3KoLRt+wjbtnsZ2vsA0nt8CuAmeXcEsNS27Q22bVch5sUPkudeZ9t2jW3btcALwP6Jfoj6Iu8VlmVJs4tlQFsAy7KauB4RwjfsxvhI11JgeoAddCBcek9k/f0Xgl/IZgKVuARIuhE6OkplNnR9NU5nZ+DgRdiOobk9FnmcAY9jeS9Y4XEO1cVZJJvf+AE5LX2GfI9u/aGVNBTLJF93GOl0jp+7HTtKyEGQttEsrUO7wZDTCooWw8mHwPEt4c5/wqxpkJ0Dg8+HUV9CP0UG/GSl6TAFmftxsiQnw8gzYekYeP46aCNT7cqqZUq7F/R7MeUjY7eSWjHKzGltEkzX4JB1YLEY7RwGeMql7uLa5jvhnPcRwHzbtt2G8wVAf8uysuS08eHAPADLstSJzqGIsncJob7I+yLgVsuyvkH8n860LOsrRIWAa+rpPUOoKMKbVIddBx0kQ0x4NlbLUre4gxYvAWl9H1rXpjKJ1ldCdl+xe+2zhmN0a1+PsVKNTMey9iJs3fr24zqXKmCOytq85dpXpLvOazCWOI05p4MyYCnGYh0VpbB2IWBBzTbIGwg/DwAxcaYrxZh+5Bziy6IcGLX2MPuyNRk6yJjYdVPFZz3kGHjkdfh+HVzxCvQZLGZcegIztTO6JaY1xl3jfKHmsaY/dS7xjCz4+/Gw7EZ47ASY9DeXADjdlxdPyySrr2gt21BSVQJAdkq20O1XsYPmtf3g7EPOJslKYtL0Sfxe8PsOeOMQ9Yyz0FzmlmW1sixrEoBt29MQFXtmALMRPOtY9w9YljXbsqzfENV5/5XoRdRL8Jht2yuAwyzL2gPohhBtWQn8LN0FIXY0miLmpYMgJQXufReG9YSGTSCtEKrN0ci+sR4x0elBph3ug7lDoHwRbCyGfPVthwAu8Tt18LqLUryvwRUOQawDmsPBt4nVyhpYuRHaqRO5Xh6HTKKD77bga8i88EeoqYKkVKitgiJfBbLBpXYbMBdBuSpiTchmBwEyl/vjedCxW2RfP4JVle1BLGGbrgKIa4onJ8GV6nRKbyCo2HJWXwB+rFnJBruU/cf+i2q7mtSkVNKStTf3a1mXEu1mDzJXrqBZXjOaNGzChuIN3PbKbYy/fbz3QbsQHMt7Z4Ft2+cbtq0GjlXWbwduN/QbvqOuo75TxeYB3wJf2bY9LSTuHQfbke3UdcK9oM5jpwEd94BxC2HCcmjkg7h161udTvXptp7KJBodTZ3gV9OH/PhCNegWWyLVn1TrOwnhnjf8R/RUJFJ/X6b0TyI2mNv0FNpCfMlULdrrDODjb8Tr7NbQuBfKY8GEHMQoQSXueP9qbWSLRadTpVwqcP1LsYlmXtBDw8wipRGkg3egojOJHkQytTo5upWKYIurqz7nxMq3mVkrqovlpCieCS+XuGqNJ+o+d2Gpsw85G4CPZ3xs7rCLu85DBEd9poq9aVnWBkScys+WZa2X2zrUx3vulvAibCcX3CvwrI0irJJO8Ce2F2EXHqO+GdCGqaTBCZK0340jvuc8rFv4uA6vIDV9m89c7+cUhYIn3vHuX4dizL5k07W1VRqwWpL3gEfhlB9M71lKfLe46Q100j45qseL7AtAMymt9IePipV3IGIMneaHz/Tbq0A/6CBtPRlIgaoaeOArOPwZqNa/Q8d17kxs9jS7RNLlvEWRLQIpctJzxLRMPrEDUxPRepG2foxPk/L2s4SRVlpRyqTvE9btCLEbob4s77eA94AWtm13tW27CyIjeQLwZj29524HW68gkaet+4kU162eoJrilcTO8a7XDwCjtXeHnABeDdYSxZzKBk4l+KSOzmOmu9snYddhPeTmQLZkmp/Mol0RVFBH2jc9Dz3Ph5fiSaoaBj4VFbDuB/G6xUBIzQERH91daX6gjQjwmk9NoRjoeZdYK18Ds36O7uEQbhvi2e/RaKI1HyXMjZXHUpLgpZ/gq0XwuSly3wdROuRd3FjMfURJo5qgFxrxes8Eg9kaN2zMsfsey7BBw+jVYdcsQOKGnTBg7S+B+iLvfNu237Jtu274K8Pj3yS6OnOIHY2g6V2JlM70o/tRjYcbfTp0T4pY1LfWCNL2eJZGIUhfN8LWP38pIrnYaRKPiCJQbCqBcv0YNa0O6gjn7SnCzf5fff6+lNjvRfGWTp8ONeXQqCdk5ouolxmuH0xFEtBIaX5+qGhf9Dj606hvpAzoeZdF907Dm7Ad/uoqW4mPq4ghST1lcH+RbThCOAcY/YuPc0ZZ37lQ+jTpmWIWfmuNtLx3hECLVxS6T2t84u0TGXvdWNo1bRe942h2eX3zEMFRX+T9i2VZT1uWdYCMwmslXz9NbKhsiO2BV8ELk4zq9tS8ThTrTfJYLWCYTHf63Mc5/LjOVaQQS9rxpoLjWOQXHQ5pKSL/+f5X/L29E9j24++weT3Rv1Gc9LevZd3w1EFepK26OFQLOwiON27Nl0XFN//qnd51vrbeD0HaQeA1N+7gnH5iOWEObNHv3/6mIxzRcoF0OSrZImUoosg7i0jNbj/YnrQxL1QhTFJTiP4uhhoiM0x/RttVUF/kPQIRIj8KEWrxmXw9B9hh0XYhwO6nbXBL/Q2CRIq2FmnrcWUdFTWMW3NFrFWpjTVXY+eTiLaC/cS1NSQ6qMnL9W4ieF3oar1IURok06RfnuzjOpIhVwZ+VdfABB+W4q+yLa+EnFz41yHR+w9AE9IhA2/SdqxvRz7F+wapAvZyRPdq4VitVKjpAdhPts6F8MRIqNa8Lbr1nYhAHftDh8ZwSCcoq4J3TIPPbcQN4kwvEcOhrTLHO3vT1mDiLI417legJagCW4gQPlEv5G3bdqVt28/Ytj3Etu3eUp1miG3bT9u2HSTbJMT2wM197mZCBXG5+y0YEgX9KfkV5CXBudL/PTriOvAtb+64zoPMY+tRy14pZZLgb5FFM1ZshIJ1Wh/1O5OTa+nyoX3LmXDe4cQiKbrtLSOKL70DJm+CwaeYLiaD+OW19JHXnrhrnpkxgf7kdIRkaZTOvzW2T6bWHJzQGsY+CF89FXuMV+a5ihqgxlSNDBgug9OiXOdumgYdokeRzpz9tgxx1TlZPgVcg1rZO8oqT2iUs3MhtLwTQ72lilmWdZhlWU9alvW+ZVnvWJZ1n2VZcasqWJZ1saM3u2GDX2mqEEaoZBJPXMWNsP1GmseDbn2v72zsxgjJwGNL2VYbTdplJ2p9VX0ih4C97mLVCk/Bn1yqTvAbYe+O4qUN3G4SpNMiYtLlsV1aSXERddC0jbjqa8nJkCof/tOUBlrVEOYajt5TaSbo1vfZxl6tpWBLWQHUSGJ0yFe3pJ3hQXfpCXr3abGMJ9Ci81IB/sT6TttLfLdTFsOKFtoBh8Y7Mpd0eWNvrhKjzylFP8NkLZCvmOBqaglGmQN8Pftrzn/0fFZtCirUEGJ3Rn2lit2HcJ3/iLiNlyA0jMZZlnW623G2bT/v6M02bdq0Pi5tl4TdD+9SoTqCVhHz07fI5/mikAYDGkDHFCivJefb1vG7J+Gd66sa945l6zdy3elvcLmqgWoTfvI+Vbo0SSucB7mpVGgcfAsM89cVYXE7TYeJFLwkVmGvxyOvj7jBn8V8/s1iWfAHJGuDtx0SYrE/5KXDiXtCo0yYp3tAdGwBdd47Xc69lNWKoIONVdpF+nWh70AFtsc/fJxXv3qV179+fQecdOdDLbGhO/XZdhXUl+V9nG3bf7NtewxCSu4g27ZfQJSZilGdCfEnYCPRgWpelrXJItcJPBHXeZ317fwrvSvCiC/NhcJa+K/hpHp6V3Ntv84/pnlsHar1nSTXPf4byhVrqqgUftDFuzWL3nGbV2zD/amhWd97TxWkPXY6/PgyrDEZ1nVwTENdbszth4lXfSPa+p5AfxpkQoYMQ1j5frzrEDhgG5xwLGTK048d5d7XLQBOH2bUuc61XJ8nToY1t8JRpqy5Q4kWxWm8tG6XQ97lNeJmrqEWu0Wn2K9F/71US9qvRe7T+vbUNjdLs4fYzVFf5F1rWZbjKWuFTJ6xbXsz/sKOQmwvEnF764RdH65zwMhkQ7MF+Y0voVTudtJ8K80B0dHwUt/S73Q/BK/1L5d+3pwMeOA82KeTS19Z/SxdnrtCfYibvtNsYtLkZr0Lb1wIv71reoN1+PfnOglbOmG7mZfRKjf7PSe2VmwU+ecqSsAYHHawLFzykabokEMsaftyFBlIsHkDEf0PRPRWfSj81ZF3auSHr6qtghkeriU/bvQEg9CO3fdYGjdozOxls5m1VJ8W2R1gEZ3TUN9t10B9kfe9wK+WZX0GTAXuArAsqymxk3YhdgDsQcqKXze3QyRBXOg6dCOvKJGTvAtd0+CAdCixyZ+Q7qd6poBDerqyq8nH60Xw+kO/Irq/Y3l3aAbXD4U003NAWt83vQJPygqPFSYyiRMceOVUKJLVxfLagijC1kJpftAQ/wlbznxLtOvgdfan7YnQqC9UFcHJ0gL0egxedadYFq6H1XOC6cD5glqIxBmA+dSxT5dum7KNEZdGRa3LzR80fzsRVEFaahpnHSwCDEZ/5UPWLkQI6i/a/C1gb+DfQB/btifK7Rts2/Y/jRciGLxIWCXaoGIu6nHbi5ic74XAWjheksczHk/FVIRSiF+RliAD7jgEXyYnbTP0wDMDFqyESkkoUZZ3IbHfoZ4BBmyWic+lbWILXpkxnWC6ZxAbJKFHBwp0kMmdq0d7f41dt0HXniAFzHjmNp+XoiDGdX6YtkGZRpmzBm7/xCCXqmrBbwPSlwI9GUoL3qYfbZRo/Rjydgg7nuvcgI9mfER5pZbAH9B1/vo3r1NTo0TgNcEtFX8XQmh5J4L6ClhLAzbbtj3dtu0iGXl+rWVZx3geHCJh2Ed5dAhK2IkQewXCq6vC6DpfqDSJRnJGZWot6Wuj3bolxxMs+jcVITKm/q+6Wdw+C16USzLOSMMz7/yuEZHXq9YgvgPne/CyEvNhg7S8J18GC8eZOjmlhINU69ATvDp4HpEP9DtbFEhp1EOI1KioVAdQyrPxgmvhyKFw9V3eV+XLdW6QtbVtOO1VuPNz+FyfBajAGBy4Jw04nVakKSeqqKmA/HQR7p5gele7K9txwiMn8PAHDyd0/AHdD6Brq66sKVzDl7Oknm6oRRkiDurLbf4zUmnbsqzrgXsQT4trZCR6iD8LXoRtmoMNapE78qB+4Jqi/CpsVlbfqA4uBNeaYASfRizn6cTqPPzTI6JoGV7nT4OeLcXcOMAPfuTD8iOtpgbKJDcXL4L10+FK1iqdnehpL8LWR1F+Mucrotrj7EV2S7igAAbcByO1AUua80czaC4eCU+9K6zw7bF1nNSxykHajn1EnONwKZf62nR83OuRyK8S5YeuyDV1doFLSljXFmKK4oXJphxC73NalsW5h54LwNTfpwY/x06N0PJOBPVF3skyOA3gTOBw27bvBo7Bo7hhiB0Et4dYQuIqGhJROtBJe4tBgWRFxPeZNdoHZTcieAU0/X/Y6z8gKXLuD6Wwb7J+jEPwWkWzG08Vyyw/1/Zd5OW6TVAlSSEpDfpe7eyJlvqMxfaEJTvh2WYRbUv5zF6Pwa7bORdcgcgt9cr3Bk0uVX9f0yxAbn/I7U9JcsRUr6iJM/L0WxVsqEiiWb5xOasLVyd0jkuGXML8Z+Zz57kyaGA3EGgJkTjqi7y3WJbllMbZSOSx7UdSI8R2wD6K7Z+XNpFNudL8QDf6Vht7Kfic3AJhDTU4GFrfDIdrLtoSlVf8DqKzifYs+7n7dBdtkVh8I+tub9CnAZxUMw3XnAgNs+CXxTDfMfScQVWcXO8VayKv254Hm1oKj+7JMZPjmwmOMu11c/yM6GproPoLaL4BHtd3engili2MlUvVsYmADp804EAhlzryMHjpTEgzaptLVGSKJrHNjjBqFHkvJiGBlkP2OISGmSLH/va3EsiGrYLmjZrTvY3finG7EkLLOxHUF5FeCoy1LOs1RPWE6ZZlvYyIPL+3nt4zRKLYESlhCQ0YPlcaFK9oBED7J6DxqcItqqIEvP//mimv46mIqtBkSt3mpPtLfcAVhRjnYKOQBZnpcNqBYnX0Z/j+jmYqinhdr/PqnYyxfmYdTComvsVnYcFmHh+Zx+h28PSR8PMYj/4a6Z3QB47qBm8/Gds16LRI2SCMv//9x8OwfobpjFJiSJviewAoUd61jry9HBsOXCzpk/qdBMA7P7/j4yQhQmwf6iva/DdEnYI3gF+ApxEFSo6wbfv1+njPEAHgZWiZSEYnQdV17tdkWk20m7vimej9BUJ0M12ps1GiNIC1euRxnraeijdpJylLn7nedgbkyOCsDVthpe5JMH3+rXD2vpCWDD8vgVrdOlet73REwHhnyGsEjRtBbi7kdIv3IZKIjQb82NDXC3pKWU/qor0mboMHiyheDU06QYZJwM0hM4U8nTNmy/5jn47scyNsXXJ1OZE5bz8udAAOIlpK6zjzIKVEKbFQkVERTdprtM4+3d53nSai8zZv28zP87VC6IlOJYSu8xAuqDcXtqzf/bFt24/Ztv2wrO9dVF/vFyIC+4QEDkokdcyrv2r0eT2BiytgaxUp2bBfo0iVqjv9XIeXm1O3ppLxf+enwis/Q/fL4RE5pZyTHkkbi0IlMeZk+yZQWQOfz4FvTVrmhvn6/MZQuBmKi6Fcqfq5BqeyWH38265UmoJhDeCShlw1FW5dBAdeKDZPgxgtdxMuk3KpyxfCuo3+rWzfFvmBBBqEAdDpQEosMZLqkd6OtGm/+TwwDqqgfdP2tG4k5H1vfzcx1/nuCUf4P3SbB0F9pYrlykIk8y3L2iTbPLktrz7eM0RAONa3Q8CJuM71+W/doq/Am7Qd61ta3dVt02Lc5UY0irSSPG2fKcUmnmcZYv8TaoFU+Og3eOhzWLhekDbAtkpoob6nW9pYI1ipTEuP/o7ooDZTgZS34PDDIUeqmnS8VZC2bgy6Iwnh5FLhJQBuwv5i0SIFnm3GYwO60N+KFBb1g/bAgcdAZjakpsG8H+P3N7nRl2h9yg5UVvxmyB1XRsQnnov96zC2yZKgv+3xAv2z3Qq4KPBZeOS8g88D4Ku5X1Gru1oSJedQHjWEAfVleb+NiKY51LbtJrZtNwEOk9uMWash/kQ4gWd+rOyggWpeFvwibT0d4Fv47lux3iD+LbkcmCZd58NugqR+0Ocsl87xItFNJG6w4N79FX5fA6nJcJxMS2qZBw0yEYMSj4FGgeL2HDfNYLG7VHw7QgpzvOlr+lSdhE8U+nxEBL1ZRO+YH86AKjMBvzsLfimDQw1iI3p/3XWuIxm8SfsI5bUh11uMKWtJt1JJteSJUrUWrxJfHNx04k1YWFRUV/DWt28ldpLdDmHAWiKoL/LuYNv2/bZt1yWn2ra91rbt+4F29fSeIRTEuM79kLBKckEIWz23nkZmKmhlItVv5SRlcS3P1IlVCzyNIO3l2mlSU4RQx9JVkZKVdedtpXV2E7yI53KtEFY2QFUN/Cr1ZDq1wJfFt3o9vKFMfQ7pCeXxjpPaKWtT4fo7RcDe5k1w98zobgcwT74KItAS1PpeHkPaf9d6TFOnKeJMW7TtLEuiIh6dahyDH9e4l9OEAYZtcaq3lSDSGLKTZGBEfnuY6k/HLi6qICcjh15tRaLNQxMf2v5zhgjhgvoi7+WWZY20LKuu/pNlWc0ty7oBWFFP7xlChxdh60Rb4dFfR4XhHAlhDiyTPsVWgogUzRJXPHVD5PVtX+Hf9e8EtOl3v+G/oUCJB1suX3fTBwY6ZHGMW8fCpzI3PDMVjukJjXRJ1yQigmcSLd6BTl2hmZQxf+DWyL5inK/ci7B117kfLEcdJs02smIEXcEzpUoNhVMDD72gWuR6YbXK/XyeRMWhEZGbbZK8c1IbCOL2C5+u86uPvhqAmQUz/cml+klN2+Vd53rWRH22XQP1Rd5nImydry3L2mxZViEwBWgMnFFP7xlCg+1aOV1BIpKpQfvrE5emMpdrRH5WZsdSWho6TNTWp/WFnM7QTLL7U6/4uJZmREehZ7p1pM6CX1EU2eQUGNlDlQ530spspUmcPxiay2C5MX+D8w+SO3Rr3+SdAE6TmuJff6GSthuK4u6Nj3WyeasXd1WaCbpTUs8W8EIJRGnJxUW85/FJpgPEcLBY1jzPUYRajEhwYHr+IeeTmpxKrV3LQ+/vIOt7l9c3DxEU9UXe3YB7bdvugRCtfJJIfQXfWR8h6gnxCNiUYhWUsNcH7M9YrEJhkqT0EFtedOm5hugArotkmZvirbBWn6dsQvABt+LOr6qB1UWxXRo79cOd89qxfQAO7glNZKpU52ZEylX6uJaFwHE3AxZUlsOw8dH7ezBbOyJR17k/d/qgGjErrpfoNsnWO2S9pRbefQvKNeNTJ/hCghF8DVCmW9+HuHTWSpba2JyE0KtN2qY5AacuTkigRV9PSkrikB7igl6c4nYnxzmHgybsRoVJdLGF+my7Burrk7xMZMbpP0AD4D5E9qUfGynEn4Ud4fauIDjBM1a0h4fBaf/B3ioiv1L2iu3puM9NEdejFBGTU52aEEGmgi2tKQItq4sihThSlP+UzAziE7DcZ9tQINPD2jZw7x4F6dI/eCLkNIQOe4jNr99v6uz1QXXXud+LcFDEbHpyqA3vHgafnQel691764FqvdrA38+CzwzGZ1CL/FcC5ntD7Jz3fnOwsOghR2dbnXD//DaR5gWfEeN3nHIHkIBcahW+UvBChKgv8k6ybdt5DO5r2/a/bNueatv2KKBTPb1nCAN8uc5VmOa73eaSg0SiLyE6UG3ROWL7LePhnelQK1gyTanVrM956/U9JrSElBSRFw3w4694E7YjMuJcRxxFLXW+u2WjyOuy0ti+UagBKmHZKmifDwO6QyPdQ5usvV6L0etx6pVi+ccMqJXMOF82QWkqTFTYQGkmNNfWByBc8EV1W1Z9A6u/hWUTIVWbs89EaLWppO3U7u4mBx6jX4xcnRth64FrhQRXYONQbd2l+PBAxI+xnlpqm2gBDLO10aczuA1ikVfBwO4D6+RSH58YIyhrPCaGsBOMeN85EVreQVFfn2SOZVl/k69nWZa1L4BlWd0Ix5R/PQRNB/PT13noeZ1bzYW1YK986I1o+jy3CZUt4b5HIqeaqWc0qezvZIr4DGybvr7ustggc9hnPQLn6BWuwCgF9tQnMHcldGwGls6RKfhy55/wd0hOEZ+t7yMOaW8PTCOPLUqLxS/S6u/zT0HeXxATY2fESKlTsmI5LNOMT7eEnSCEXdaPBJ7JfWmP0LltQSYlb57v3tUvYbs80UYeNxKAn5f8bO4QIsR2oL7I+yJgkGVZi4E9gR8sy1oCvCD3hfhfIp346V0meJGwvr04Tl8H884Q8mMOUrzVWXQRswnA8POEBQ5wsWmK0Su9U7W+cxAWcC4c2QvOPgiO6A3lVdCjNfTpAOnqw9whYO38myvhuS/E638d53w+4nu5l0WvHvwlrEiCrgPFur9qk7pdO97YS0DVEVVxXOTlb+Us/xjSs+Dv/zRnZbmhzyHC9Q8wwUNwrAKz9a3C0UELJJk6jEi0XzHQbQyl8sjDaUFD042hE3a8/4845H75kZeTnprO5HmTWblWU67za8LsFvKo4Zx3IqiXT2LbdrFt2+cDfYGLgf7AgbZtD7Jte1Z9vGcIdwR2nUPsPLafAh/qQ9IE1cubvBFeuiN6f667GdpYNjeL7EDJKjN+IZIK5qZxrnuQ0xGknRO9uVc7eP0KOFzWxxvkpJ+nIZ43cazmpz+GknJB/P3aY2YaE4kbrvtkmSq2YQmG+LKF7hdhxFZiSbu1a++MB0Sc6eCLoGGcvL0azG7xI6XewMcGsRk9TMIrXKISH4R9qFxWK03DNrkxx/kBctOjm5+Uby+LvArysvM4ce8TsW2bsd+P9XFS7dx+lAZD7Lao12GIbdtbbdueZdv2L7ZtJ6LRGOLPQrGy9GM1Q7S3dQuxT19TcFMz2f6YDw9rBeZapvIZkbqOLYEZCNL2wrPS4q6pgZeXGd5Th1cdcOWzfCM1UQ7pgy+BprIKeOxD8fpGtaZ0vIpVLgONc7+EnoMhQw44DrsdIiONnNgDjHgbQdpb5frWOH0BptGSuTRdNpfyN4FkmH5NdA/58erqk7nVKLtW1OqgeDOU/hy5Cq8rcKC70WNm+fsqK47krEf50ZImvwCQk9kGmuwN4x7xeTUKfFrOwweKfL/HPn3Mn1xqKixes5h/PP0Plq5bGvy6dlqElndQ7DqfJEQwmIjEb+S5+/RoLEyR6LYNVxhmT9oKJm0pm19MANp1gRxJcHffGqezm9valPKbBZWpMPUPsXpIL0MfFWlANbzyuZgj36cTDO4Zp38KsaS9zNy1r0wXmuZLXLiE+ALqJkxTGqxhENseBmog82xI0bRM2uNdVDQHaNsRmknD/oHbvK9Cv118eY29PqYqDbcRSmQUepFdxvXbPmRsxS/e75FgVsaRvY7EsizWFK3hjW/e8HXMltItPPPxM6wuXI1t27uBQEuIRBCS926ChFznuvVdgX/Sdghe19P7AKH7eeKpscd0tjA9Jb/Q1t1c5yfJUy5drMilgrCu2xJN2vH0ORSj9r0foboGLjgC2jTS+hkIo7oGHvpAvL5xaGxNcnLxn8aG6FcIHHEXWElQVgR3rtbntVXXuV/C1m3fU6JXN1RS+pJ4mS3irmivNP1dTdgk3+VkUauDnyYbyqJKBEkdMxRvi8Zgw7aN1EVvb5Ppf1tqK3iofAoTK+dF980iSCUY99SuKshIy6B3m94APDzpYUOnWPTt1Jde7XtRXVNN4VZTJn2IECF5734Imo/tNY+tYguwAX8Ef9bw2G17CJ/0q+wRs8tPaYFHnoq8vmki8d3ipjfQPNF2Jdz3DpRWwP66pJjLhYz7AZauh64tYej++Bf7UKEFtl35NTTtDL1PArsWfnnddJAXaQes8/3EKiiDtsfBMW1ECJsPuRE2Kc3BRTeJQUxlBSzWanVUElwyVXedF/aL09nA8CWSvHMs8QNWUC1c51nEH9SpqEKEDVRp2wy45hgx5zCrYJa3XGoVWJbF8MPE/8eazUFGETszQrd5UOw6nySEJ2Ksb7cgtHgEbyLDIG70dIR2yL6pkKtFjvWLvSCnkKMXJgFZWdBMzm+/+JyPg/KIJmHNGv58FsxcCs3z4LzBiNwonbSVY2wb7pdW93UnQnIQGWV1Dt5F/X+/EWL582g/J/RLiaZDN8CTQrO193Xw/gEw8TAoNfDIJsyE7SANyMqBLnLK4ZWHgqWDVSKMYN+53m5h6NdGXjrk3SC3LQAVGVnQrq/3uYtJSEBl+MDhpCWnUWvX8sCEB3wdc8ZAoSK9aesmlq9bHrrOQ8QgJO8QAoEtclvkQ/kh7RWYreBszczZK6PuAJ20v4tzekeCJA24Wj6kN2+GQt1b4Eyk+6wMeP8Esbz6FMjwMYL49BeYtUTU+h5hygV3kK291ouVuKDDsZDZGFb/BlfN0ck5kapYuut8D6BQGPBXNIHjG1C+EbYshK3LIKNp7Bn8OnVPv0osF8yEai2gzKSHHkicBWl9q6R9pHvfEkm+DZLE/Vdhyw2Tv4rumIjR6yaXuoeQS31pyku+ztGheQdSksTI8Nax8YI4dgU4qRthYZIgCMk7hH/CViPLF38Gj3WEGQZnqnM+r9DibUq6UjKQsQrH7HzcI5K6ErNu2DXXR+aZL3xS2eF4zHyW8521Gr6aI+p2X+qlLS091rOWQHISXHIUZKjvo7vOUwlE2qTBlT9AShqc/DRc9iM0dw2EixeoZnKdz1OaRMNkGNUcPmjPbGko9rkOklJgqs9LBkHsjm758X+DwafBc1Ohs8t8fxCLXHede6IUKEyGwmROwuIyLNqu/S8AFbUGUzqAmpof3D5UJLoXbCpg5SZ/Od/5uSI37/1f3t8N9M1DBEVI3rsZ7HMJpqjmBKmpFnY68N39sHU1lGrOUifqyCsXaHRzUU3EQYp3BJf+cNfdtF8iiLtbd7H+ySS8p7lU41+J/u7TET4ZBY/+HfLcxhHOuaXDYPl6qKmFBiYlUi+1Lv3jr8foIehzJrQ7IDYQLosSstAlFNzcIuooTIciwzJ5Gxt+hux8Qb49XM6mYy2xFnlSEtw7DnofGL3dra637ldwfutAkqlHEp3SfrMwzS8jiadJoptMpK6zvPPbx/5GukSplzSuCVIuNTdLuG9GjdfLu5iP6di0IwBbtmzhm2++SeCNdyaEc95Bset8khA7DroLXXd3r/gJlk2G9Iaw76WRqKN406yqqZQBbNUmdps2xA1OHJGpkqiOZOAhGdRbXg4l+jXprt80jNHflgVH7wMXHmXon4bxP2fgnmI5zjFP4z0vTCTulXuu4WlKJGn7md92JoN1wjZ/7z2YTfZDIs/44KsgLU4gVyGCsJ3mhaBFSfwSdqFTaawUd/E4Bc7XXJFkRep6z0hk+kGDakkrg7abh97Mv4f+m0fPe9TXadJS00hPF1c5apQPwg+xWyEk7xDKUwx/LvRvpNj13pdBkpwM1t3R+pO2kuic5o0aebfMA56NrFLCOPwH/zqB4t8DxxwL9z8kosQzBxo6e4Wt60jx1//k/pCTCdMWwB9F2k63/7R4U3Gad/XGHyIBfGlb4IXTodbz9yokejI4ngU3E5hZV260xXPQ+DpY/I/oXs7YpFBpfqASdvt4HYnIpaq3ke5pmWY60Msyvtn5LhqTIaMqKuwgs+uG99Dd3i5elutPvJ57zrqHnIyc2P4uaNlSBGp8++23sSIvuwxCedREsOt8khC+Yav6KEED1ZYtgLnvQXIa7HdV/L7xTKYNBdHr7fOB32hJCS192mROJLLJq33ttZCmk62bXKrpBFkESx3KEVHVQ6Vb+CavwrdOYRI/0MS8bRtG9YBfx0NFP7AVtZQsZhNXG9SImbIJzJcqd6ltodmDkNxYPb9oXoTt/ORBrGz9VvSaefE19lID1+qs8cYUUMONsmZoRa0LeTsE7CdN0mtaxEVNzWtevW12W5KSkqiqquKVV8JqyiEiCMl7d0UQwt4i+24FcjvAsS/CgFshx0UHzW1A8LXyWre8u5qFnF/V1mcSPBK5pi/RpK1X+FLhZmHrRk8KxkIje3USyw9+iI2qJlXr78U+acSkPV02Vbj0D71CrNu/Q/kA6Foi5qT9zUt/gzDrndbJ8wh9HLNM21+ivfZD2I71HeRW1J0mMTnfepR/NUYXeg4WH8u7qLRMcXHkt4GCiuD5+V7WeCKwIMlKYt9996Vp06akpiYiGrCzIIw2D4qQvEMI6POspkA1gJR02OsCGHBL9PatBEw108i7t5iMXsPImK5VBEuvne6zXx1MbnQ3o9XDIr/yJBFxXl0Lz04h+DNDvxYXfdAhN8Fx54vX9q/wxyCo3ux2Usd09G+RO2VZOyyAXjUw2aP/VoLNYztJCH5vF2fAttxPZ6+P+a8NNCaJoyRDb8USpJ3fxufVkFjgmo541rjC0z/88APr169nxIgRO+BNQ+wqCMl7N4V9uWGjlwvdNK8dpMoECOu7IXDkuXDCxZHt/WLN4Xyiy3E7+F1bX0jwaWxaawd41fjIJZaw9fUMSE2FfbuJ1ac+xBt+pOM09JPtpheg90FiW9kM+OMQqFoH/dS0LzbL5kXYjvW9DFjGOFpQUwaTB8HH3aHMkPOsZwLqt4HuHQlalMQ5JuCMNIWHaxuOM/VqzzkIsi6nVmiIx0OC2uZRSNAaT5q0qz+mwznvRLDrfJIQiSOImlqgXB3cH3r9BsNeio+zqyMc/nsMaX8W5/R+jf2aHnjX09aRS7TEmx/rOQn+fZZ4uXIjlOvfkzM7EPRaFBwgI8ZSUuDB96GpLPxRPkcQeOUKiJC2G/7QXv8BLINRJXBBMSypZtmrULEOUnMho0Wkt+MF8RNZ7kXY+sRLUH6rxCVwzQ0bZANOIY88kqgFZr25T3S/xX59AgoMAi3bfY4QIVwQkvduDPtyopkvXoqSG2GbjvGbR75M2tCWBUnzcWzq2R6KFKXEkvYMrU9g1zlEV9rMwb9PV0UanHgQ9OsCJWXwkZ56nYx/wnas8Timal6+IPAk+TtU/AFLDgYW6Zb2Sv1QIqQtsaUWHt0Gr5TB6hoWPCg297gBmlowG//cEsTCDjot8gcB4x7KiSJtAM6dTjrJDKMJAKPV+YmsdNG8UIp3oJoXQrKW2Dksb8uyTrcsa65lWbWWZe2rbD/SsqxfLMuaLZeDPc5znWVZtmVZ+cq2PpZl/SDPP9uyLDcBa9juTxJi14aarzPzRXiuOyx4zb2/X+GXDxGkv0bWpUr2ZjM9dXe2j7fxhJPznak0L+ixLyZBFmD4EWI5+ku8573Vjx/Qhd4HOGMfeO55ucGC0uWQcfBGmKMzQ5HWNDyfJmRvD0mFVbVsWwINO8Nep/q7lhJE9L9K2vEI1o2A9as2VZX1vJbDib4fzzL3Gy7J+3W2Up2RHE3a+lRBIq7z7bDGa+1aNm7ZyLJ1y0Jt878O5iBK8Ok5lxuBE2zb7g2cB4x2O4FlWW0ReRAFyrYUYAxwqW3bPYFD8bhbQvIOEQv1KemQyIxnoPAPmPZQbF8v0lYfeuq5L/s/uPwBuCK2VKJufQeR5XRDTRdtQzb+CBuCpY4lwdmHi8C1ST8J97kngkzYJ8MBPwjidnDOCOjyT8AWVnj5WmBQIUyvojdr6bFqLWzUK3YURV5W1MIj6wDofkMVDV8QP1rf6yEpznTBWrZfcKWFS1/wb5FPI4G4B/pzAIfTjhxakkXBKxf4PtIVO8KSludYvGYxcwvm8uJnfuq5hfgzYNv2PNu2Fxi2/2rb9mq5OhfIsCzLzX3zKDASUAMtjgJ+s217ljzfJtu2TSV26hCS924O+xr5wsusOeA6sdwwB7aWRPeP69xBELvp/K07wbnXwxlXwI9+oruiUaU1fe7T6DrPJr6uuE7m6fjP9Xas63Ro3gh6dhD1vf/1sqFv0EC1rXhGre/1COQPFMItmY2BQpukwZvY9i2s/TdY7ZbCFRtgmYFhxsyCNVVk9obcY6Db+9DhKSg7L7rbfB+XqiNooRGTG12/4mXKa98W+VlEZ8gd+iQWFm1pwK9sZJkfR79ufdejNd40V7iGRk8evQsLtEDEhfVntXrHqcCvtm3H3JaWZZ0IrHJIWkE3wLYs61PLsmZYlhWbdqMhJO8Q3k++NGCPMyE5HbDhNx9lDb3mvccGucBYFOM/UKlMaTEw5Xw3VJof5GIk1UN6i+XHPykb3cjabeYgA3dxGQ2jU+Fv46BBK0jJgK7HQu1WWHIUVC6SYi5PFkOX5XDuWrrPWgT8JtreFpxsUXZTMpYFydnQ/B+QpLyvW/S/DpWsEyVsPwasF2mXqFHmcS5mtRRraUtO9Bx2KrHa5okgQWs8LzuP9PR0CjYU8G3utzvgQkJI5FuWNV1pF6s7Lcv6wrKsOYZ2kteJLcvqCdwPXGLYlwXcDNxmODQFGAicI5dDLcvS8yaiEJJ3iFiozh7noVedBPuNhAF3wwH/Nh8Xj7CL4ryfbcO3H0J5tJdId52/iiBtP8aO48qdom930ZWJClTToTuvsvAV/3L7cLHcVg4fz8W/P9dxz+uErX2vmT+IZdQUfAs4dyJc+guc8wE0ulAcV/YztHgEGp6GEJwZW8KKS6Gfw2j9kuC9VDg7ehTSg1jS1vlMdZkHmZeGyO0VTzfHDfqU9BfaerL6Bi6oHfQkK+UnaNN6AEw0uUk8oN+QOyLKvAqwoXlz8c2MHu06hboLIJnoEXN9Nzbatr2v0pyIEQBs2z7Ctu1ehvZ+vE9hWVYb4D1ghG3bJpH8zkBHYJZlWcuANsAMy7JaIHxBX9u2vdG27VJgEiIj1BUheYfAvknb4ASqlVbCDw/AGJnSNeBO6H+zMOtU+AlSi4d7LoSRJ8INsUWYFyvNDz7D//xr3f+yTthuM1UBrGDSIT8fuso0ri+8wt8ziZ1Tj/ff2Ug0kxe9ZV9B4knJcPUL0ORqsKtg7bWw9T3qZtqSXXLbexCt1lZg7hYFL9Ku1F77tcpVi9yPLoqnJs6V0avrFkMVtTRNakBmks/R1Z+Y8+2Q97hx4ygrM/qOQvwFYFlWHjARuMm27e9MfWzbnm3bdjPbtjvYtt0BQdj9bNteC3wK9LEsK0sGrw0iVtIiCiF5hxAwhfNWboEpN8CKb2CFoRa03+hyB0XauuM6P0yGM796DxRXEc9vPUFbn0bEGvf7TF3bUju1mzUOkflxnbDztHWHCLXKYONHwbr34GGTKA5ER7l75ZE3UppEmjYJfYPyuiPQyYKjHoFet0Kn88X2hsdBhzeh8wdi3bG+T6aSk6ncIdO4JsEWL8LWre9EDNhPtfWyoYZOy0SrXQofyBFBW1XAXbe+/+QocxVZpVnss88+bNmyhQ8/DB4XsnPgT7e8E4ZlWUMty1oJHAhMtCzLueX+CXQBbrUsa6ZszeQxL6ppZSbYtr0ZeAT4GaECPcO27YnxjklAIiLEboE0gHxo1AU2L4Lv74GTj6mf9zroWOh7MMz8Fh5aCXc1qdtVyjCyeD3mkCDP02lAz6DX5BbQZoKT42uw2PuoEe5pCPbyHw4dRdSAGCzFsfwrEaStwrKgz51QWwt974eMppHAswPksp3P2WlHr6YK79TmoMpoQVGF8Aq089N5W+ym/mvgZ3mR7VIaR+8MmrddTOTLSRQuX+qIESP45ZdfGD16NGecccZ2vkmI7YFt2+8hXOP69ruBu12OuchlewdtfQwiXcwXQss7BAD2HS47+lwmlqt+hFpN+EMnET/uZB1jEezyD1lm9KGlsNbsHiylMaU0jiFuPXDte7kMJMfZkuhIdD81tXVxjnjyqX4jyx3rW1V284Bu1Z6s7XeGXElJgrh7IEj7ANyhfsedER/TLze5lSTfEWQeVNAlGajUre+7xGKgcr+2TW4M+R0iTceOiDLX4fNDnNXgLB588EGee+65HfCmf0UksbNY3n8lhOQdwgyHDfpdCak5YNfARpdsa7+KauAeuNb7QDjkJCgvhbvmRO1ySNvBRBrrRyt9RfMi7LWOZR0kXUsXaPF6DiT7OLcaDOe4xP2yZGPRctZ7d9XnsXXoMwc9EKTd2eelxHE+BIIpcC2oiNmH+KsFM1zxrrRqoPkrpn7l893iYAe5zpvlNeO6666jVatW231JIXYdhOQdog72HUSbcGlAUgrs/U+xPk/L7wo65+2FS+4R5uFzS2FRc2BP2a7xODC26qNujf+ovK6zxr0I22EiJ5DMDzPpEVP6Mfp7ZhEzjx0XeQgPh/v4JQpNZNMn3EzT/F4EryOHYKQaZLYgCGEXEDw1jTXQd1PkeyhftwOEUP6HxUt2buw8c95/JYTkHcIbe8qcpz/GQUl5NGkn4irX4YwJWveEo0ZATTXc9mXcQ4q15keBzdOFruZDOYFkQQVa/PT3UmvTGStPaT5QAhwBNPHqKOFG2Hp0dynGmLm4CKp6lob/wUAQgq88l+gb5mExW3OVHGTN9fOGf6JAS4gQXgjJO0R8pAE5e0LTfaCiGNbugIjXIsM2J8r9b6MgNR3e+A1+Xa10cKzvpkBTptLd820KtaZjoemp71fjHES4Z2P81+p2mww25UDlEYiwc6qCyZR2JJa04wXdt5bNCxUkRthq/3hyqeCPsCfIpVfq2DnJotDbh7VQlJUFuS0ibXbcTB1/2B5ydhLsTRHzuxR2OYW1PwUheYeIgn2vy44e0vqeH6cwyY5A83YwVOZV3fS53NhBtqbGQ3Q4xpWeWm3SqKpJjW4x0BmoMcFKeaYjPHUqaccj+3jSrSoSMIMPRZC2M7vr5XlvhzdppytLt7GJCUEJ3svK3mTY5jmmehjaWDCYJCqAcd8d4vNqFNSXNR5a5CE8EJJ3CH/oejZYyVDwCZTJ2opB5ry9SkONV16f82/IbgifLoTJfqQ5xDNzIv6fnW5Wak2eYaOXHroOh6z9MllWwPPn4csi35v4wnEmtFMa+FPO3d4gNRP06qw74j1q1Fx7hyArMjlFPgZv8cOYfm4wXXTftD+EgiSi55Lqu+0aCMk7hDcaAFnNoN3RIl1syZvBSVvHujjH5DaBs6Qu/41vCflUAG6N6jaV7oHEWTYDHxBN2r/FOyAPM0nqMS+5RKxxvxZ5A6KfJYY85ChkGa5HO6ZFAqTQGJED77RuPo7RrWbdetaDxoIEqjnn9RmPFwXd+n7H1MlAqCdLG3098M2UvSM7UtNhvl9tPwWmYIFEsMG7S4jdFyF5h4iB0XVeDnSSrvNFPnSWg4hcmyz4066GRs3hp8Xw7s/KjgyC6JROR5D2Zp+XUgaxJBnPIvaTkwSR6mRBBv96f49Q6kofkVvttdft3ToqaKw1P1a8l1vc9FH8knwTpXkhuSq6xeDRMlqRRHssAEZRLUg71aetn0ri5KwitMZDBERI3iHcoefftD8JUhvAhp+hPKakbXy3uAnriCZtVVsoMxvOu028vnkcVHdAqA9GYzZ7Ra07UedBJFOnE111zDPoK5tY0tat8XTttR8u2EZggq9MjTSItVi7auuN8SZtx/ruIJufS9crnG6P9e1A/ywd8B9B71zHBH1AY5SpzeEiGaX4LbWx5Td167uYYDlyEEvwfsl6t7C+k4hEiv4ZbddASN4hzNCfvrlASiZ0PF2s+7G+txdH/h06t4EFa+CVj+RGd5Wp2bJ5EbYjvxEoL1if927m0d9PBJdK/kHmyJVrSfNBAqrVbIJOrC0QROkHQebUvUqYm36LlkrzQgMCqs/WygZcRyZJCE595cu4xZz8YUdY4yFCxEFI3iGMsB9y2dHFcZ2PAVuzUHZEVNEYItZ7Siqc8aDYfsdLUGqaaM+sI20HuhL6DOW1I+biRdqO9R23FrgOnbD170OfD08hOGkH1dwm1lo1kXgLpZmgX2J7/AfBBUW8cY+e6NOEBBKALqeOtAF4eAMZJLG3/IEeU39tNxe6Xhc1EbIOc74lQss7EYTkHSIYWh4COe2gZDkUmZKvAsLLTD7kDNi7G6zeAE+8LTfq/4j9455iI7EKbDpUkQ4nEt13AUbHEvYTZeUV2LbF5dw+I9Fr8K+uGo+wTcU+nHnmzBL44HlDBw2JuMr9jmMc138T/fsyIMZ17oLr5f00hxpKrKpo0l680ueVxUGi1vjb3l1C7H4IyTuEK2Ks71zASoLO54j1hX+C6zwpCU5/Qry+73XY3A34wfOwjUqDWAW2z7T1ErxFTlQyrwQqm+GPVFMIFo3uRdia2yAZQdo1pr4aHCtVn/N2I1rd5b61CI7JhYcugeJoCfqY9K5EEE8Bz4mIb49IQLh4IByZB/OmRPfzXc89CpmcTi7piHLn//fZ/gmdJQqh69wnLELLOzhC8g4RHI7rfOk4qNbs0x3hOh+nvK4Aeh4JgwdDURHcf7/HwcKW/MxTp8ubsHWnQBmCN8tq4Ksv4bFHPd7AEWjxg6AWdjxhGQNa4t+17BC87khIAxrkQZ7Uynnx1uj+2dosyo5AGhHSdtASIW26YZUg8TeUIDTfA4crtPWHC0giicEyg+FVz9w9vF3nfn6b0HUeIkGE5B0iGHKBRntA432hagus2gFyqSbXuRq1blnwf/8nXj/2GKxaRbT13Re4FG9hTQHHhf6Ftt2kb22a8y4shBOGwE3Xwzo9X70tweax04klbDdXcACCzyW4ipk+d+wWJHbkMLGc/qnoX1sL1xwKx2bA6oXRfdVccL/XovYtKYapBeZ+I24Sy6W/Q8G38Uk7ynUeJ1J8lJx0WEUtS0uXR+/04zr3koILXecGhHPeiSAk7xBxEeU6dwhVzfle8ie4zgHW7Q+nngrl5TBqlBQo6SubNxwFNr/PTrciJiVA06Zw1BCoqYExH1JHqHYWLF3q4+ROvXCH4Kvj9HX6a4Stp5YnOr+sKj77OUcLYORtkJIC7bpAfqmY2Vg2B6qrYJyio+N8RL/X5kT/r5HrU9+DM1rACyNj+7YHLhkOafI7fP1KRcvHgHTwTu96uID9SKeRzPm+dcrRPq9cgT4QTcSS1o85Q7YQIRSE5B3CG6oV7KDDWUIudfUnUK4VlN4RrvMPDNtuvgeSk+Hll+GPBZ6n+IyegRTYthJL2ibNbIBT5dhltBy7VFZC377QvTts0qugOOVEE0wH21HIUZZ+3cv6PHYl0DAP5lTAR79BlsxHHyTJZdpE74+pknm8Up5d94HKcvhuAmyRP6Kjtd4UyMyEE+X7zp0JP2n3jOdXrleaTQJI5jT5pX/oNdRLJZiWudvgwY3gm+JXzn8nR2h5J4KQvEMERx6Q0QxaDQG7Gpa9uf3njPcQXCdbt+4w/AJh8o66GbY9o3U8mWD6W2KMoBK2V2nITQjr++gTYPhFcNt9sMmGtDRo0QKqquDtybJzEALWre81xl5xoVu4mdq+NLwJWz+H2zx5kvLkaAxcdYd4XVYCG6ZF9zWRp1eO/RpEjZq9DoWqCnh3vLlAytkXRl6PuUncGs6vr3/Wj01vlKQ0iVGy0ssWbL6ZtF90/8Urgwu0VGn941nj6rl3C4GWEIkiJO8QnrCfcNnRsZ5d5w5pO3gD+PftkJEB778D039Sdh4pW3xMJjLn7deFvklpznpmJvznBTj0CDElDzBcfh2vjsabsFOUpc8o9Bqt+YHXPHMi7nYHbWTrATRuBgcNEdunTtqOkypoQcTD8aHLLdb/YGjdVrxeOQ+m+yx65zp4eHQpLUmhg5yYGGWsX+uBROa1gw4IdimEhUkSQUjeIRJHmxMhtSEUTofi+dH7EnGd69b3NEOfVq3hH1eJ1/++EewjiCbtO7VTROKUC2Tzwlyi3bl+VNjKgCFDIS8P8ptCkU7GetR5Mt6ErVnffsuGxzsmEbJuoL1OR5C2juHXiuXHYyLzz467XfeD+E0lO+o0SM+A6V/DV1r8WIsiaJ4kBk2tWoltL98OFS5Fc9KAL4n+PSuvNve9SH7qbyk3yKVqgWuqXKpfAtat7zCtLERAhOQdIjHkIeRS20m51KV/UuBaIXD+DWLitbYW5nlZ23mepD1Zee2XrNdobQmQnQ2LVsG49yHdNHhJxn8hE6e/TzjWuJ9DvGRKTdv8qJjtexg0aw0rl4D1vX+CdvvOfwVyGsLgk8X6h2MguSjSHNx2OywtgD59YP0KmPB0ZF8XgkXcC2RzLa3q5FJf/uTAQEcbEVYWi4PQ8k4EIXmH8AVX17kTdb40oFyq3+CtaYjUKaeNA/IawScz4a3J0MCUSJ2HWhpsDQOi9o7TehfjTdrOvkLZ3HLDs9RnQ7bWdD10E9N6ELxps18XutupTSS7FXMAnwOdU/Yugk7JcOY50LwlfPmJ9/U4AXAO3L7/E+Qt9vHo2Ijy5CIRb5CcDHfLbMLRd8H7/wdTnvO+BjBY34/OkXKpIuf7MdewRQU7Qi41tL5DBEBI3iG2D80Ohux2kJwFpavj9/UTce03erdN+8hkM6doTddTM79NvEh0PXCtBEHafuCcd62fzsnEJ+z1hm0BkIywOv0a8W5kbdqWWRRpDs4aAevWwItPxrqv/ZQfVZGGyDU/9Sho2gwWLYAvF7n379UeGjWCLUXw8L/h2XuFc0aHX1Hf68kHYC4VlFRrwzXddZ4IHNd5UJd7iBCE5B0iAGKs7zyEXOqQaXDC75BtmAn1Imx9ux9rXDWdVwE/+jgGWEPjuvaqph9mirHyUmDTt88nQOZQANUSr0A1nZiDeuedSlwqQce7LLc0s8ZF0KMn9O4LxUWwcmJwuVTnWpz3/wKRU37K2WL9bX12pgySt4nWNB/KpJpOUjJcerMgb1Wn3b8LPYMzaE4GFjZw72eH+fwEcWBSYPND2Lu0QAuEbvPEEJJ3iO1HZgvFCk4AXgQ/T1uvQJD2Kr9vcAZreMxXTz2y3AtBgtpA6qH7nYANPlnrG8kEu+4CIiQ84W0YtDe88rm575kjxHKCjzAIP7VcAM6QrvN33xDCflGyd1KRLicH3n8LhhwJtTUwf6Yg/pZ4f5VRrvMk4LHpWFgMlpGGr5ruiFSt6SM3kxvcy8oO5VFD+ERI3iG2D3kJHpehNRWmaOEKzGIxDnTre81U4AwoOQle+wmedneWOgFtz2rbZxj6QnzC1tOz1yp9V2+E22+B6niKagaLXA3OShTJytKvVV5AdIS+E/z/0N0wZyb85/+0A9YKMr7wbJEHPmkSbNbmgoO6zkFY34f0gz32gE0b4ePZ7n2POhwevle8/9svwLaF8NOPoqCKCj2RoQZi8r0BRiHC2FdTFS2XmpoO831Gk8Uj7JCsEV9Myz+x7RoIyTtEIMS4zoOmhJnI2quvqf9kwzY1/NvBog1w3li47WOojI52epW9faWOQcR9rhO2m0tdJ3jbhrNPg/vugTP+BhXqICSoCLkBfsjYq4+TzrVWNjdX96UyU2/OLChfphwAMF+I1Rx1lBCsmfdW9LF+PqL6nTpR7pYF//cAfPI5DBnicqAMatyzNZx3uhgknXw0HH4gLDToCHnmzD82nX3JprH85m6dcpx7fW8dDlnvqJSwXd51HiIoQvIOERxBpT7jkXC8/ircYuE2KM2EvVpDr5awaRtMHAqfNYLhNtyXDr97V+zW57y9ItLdLHLLgrvvE3ng730EJw6T8uw7WALVgR8yV8nZuW4/QXbD/gapqWI++W6TjC0RwZrRo73HJibXuSk17fjj4YgjRGR5FKqJiSYcdZ1I11sutebfkC78eHPwZVearq6cU6XrfLKfSmNOzvf2YHe0xu0/se0iCMk7xPajuWFbUMLO0/q7CG1EQSfs6dr6misFa557tVgf9jocvRjGbIab18BhC6nVXNjjiFZgm+njMnTCNrnOAQ7oD5OmCBGXz76CIcdDsVeEm7Tgkn3whu4S90PgXvPeKslNB54CMpLgxFPFtnkuerInnww52TBtGqRq5de7+rguHZ/pGxoiSNtlCqJta7j4n+J1cjJM+x6aL47uMz/2MHkAUV/k3TQnE4vVVLPk/YHaSRJIxA5SBrQpYWGSEEaE5B0iMKIqjalI1ML221/HnDj7HPe5fSWccw5c/S9hKnZJhztaQLs0WF/D1190juruR1JcV19zc507qFD69t4LPv0W2rSBqd/B4KNg40airW/HGv8fpA7pxLoQQdr6uGiUnO/++EPYqg4stgI/Q1YJPHg7fPAadGyHK9wcOKbfwYkq9zOQAbh9BDRsKPTOAcaO8XGQPuJ5cg7NSKmzvsc4cqmO+9yPC72UxBTY6qE++l8WtX9i20UQkneI7Uca9UPY5US76P2EgOsM/CvQujU88gj8NhsWlMHtLeFCOcP7muVJ2DPlMp5oiQ49vk59j27d4ZNvoXNnmPErDDoclm3A04Xul7SMx2IOVDO5rBcqzYRHgfYd4KCDRWrW2NkYv5hLz4MTjhYudhUNgH5Ek7ZbGFFjpRl3qqiObk0awfU3RHaPNYi86NnaZZebr2O4jMx8jULsFG0CYLFWgN0J0gtC2LujqzzEdiEk7xCJQZ/I9Cpd6Iewnf25SvNCsdZ+j9O3WzeZ0nYAnCvzdscvoVJLOXtReb1RNj+ErcJL0KV9B/jyW9izJ/w+D+6/19BJnyQOGNAWVKDFzYVuquYFcJZTiOUF73P3XCFIO6sGvvkMPns/fv80Itz8xdtw6SHw/EyXznEiz668CprLaZ3Fi2HbD8Fzz2ELh1NLC5JYTDVj3unk3tUvYYdkHYFNaHkngJC8QyQE20Q2OoK6xdPxJmzd+l7h47ybtVb4DHRoCLlpUFXLktu7xxzikLYbtmqvg1TwdEiyQUv44mu44mq4/yGoND3wA0aiBxVoAUGSKmkfEafvbNkATjpVjIV+/B4m6w/F5RjT+777EoYfDfdeH2sF6/nYjuU//xeY+S18rFcMqyKWsLX1hoVw6+2R9TGvxPlwEmWXE33vvlhAMhZt5Ld6P1tiD9IJe0fIpcJuom0eIhGE5B1ix0G1mBvWguXDXg0SuR40ncphyT9c9p8os47fWcp82kXaxlaUa89nPS94Df5d6OoxumXbpAk89Kiochp16almMk82WGxBCTtoRtrvRJM2wAVA48aiyBvAPQpBxsvHP2gwNG0OSxdC1U/+3v8YaeF/+TaUb0WQtvM95Hkff/F50FaWDR3zOlRq1+a4zr3GSSPlvPfvVBvkUg2EHhTqb5vK7vV0Di3vwNidbo8QOxh11reT1+MkCi//El7sDF9dFXtQOsFTzbxIW7e+f8efdNhd+4llUSVMu028HrIOmq7mPzfFOlW9gtr07X610B1UAiUaaRut8YDwkk834WDE1+jMQrjFnJ1zvlh+OwVqy4gmba2EZ7sVQvFs6DCx/r4PBbaFwH69YM+9hdDK45/6uHgNqZvgQRlgV1oKvyk5086t62dAczrZZCC8vPdM6BL8QnToA7FQ4zxEAITkHWL7YKoT2aANbFkGC8dDlfQXBiFrLwSdgNZRDCx9BtpfCfvvCUcdAI2lvz5P/ku8HfFzupUUDeIqd0MhwWRKTQ/2uFXFVCs1DloQ7eXe5hVCj4iyv+Qm4TqvrIBnvKYwKgRJniYt6QlvQpX2wZ3xn24F7yMztB680XBeH6OT00+D1kIsjbv/z7vEac2FykoK8N8CoIzD5RW9Fi+XcUfKpcKuL9BiExNsWK9tF0FI3iF2LJoAjbtDi/2hcius/SC4ha2bQSZm87Lg9epTf2AuIzbtZfj0Megq/ap3SRLfWMt9v/WNIu14tcrcCpjo1vcmguuhF2oPeE/ruQpP0nazNFcshVP3h7MHxu4r0NrJiBKoe/QW+5992HBCw7x3r77Qoxds3gSbtdKhbk6W0ySZblwLC518bedL9HF/JVXDQ9JTNG++KJyiwji1nCKbgjtlYYvV2CwuWRLZUVUBszf4t5pDudQQ24mQvENsF+ybDBvTgN7SvJrj4RsNKg3qZjKZSmdu0ZoXapZD187QQj5Vb10et/tGYknbLb0qCJzc8XgVzWLgRdg+hUGat4KCRTB/FhyqTHIX4O46v/gasZw7E8q3adeiWeMtFglL3bG+x/tQYPsV2GMvaCQqdHLdgwRwVUgUwlmnwYUj4LcfobspnmCbRy75fzfQj1QaI4rw3PpJf0HaVW6C+xocuVT1veORtTNHWwWM9fcWIXYfhOQdYsegodIA9jwLklJgyadQtS62fxDCziGWtOM9L8vxp9C29ACxrDlANAfnyry3z2PlzzYSHYm+1OMt/HBMifbaD2HrZUJ9zY17EHx7IC0djj1TrI8b7T5loOL04ZCaJqLHb/JRnjUHOHeYIPHPP4SSouj9TQzHNABOkipjX070eAODxezgxaehV0/vawTgNNPGck6XJ58Y9yaUUAVa/MLnVMcuA5vYG7o+2y6CkLxDbD8aauutgax86HQM2DUw9w2xPYiVnUZ0Mq4f40YnbZ11VLPYceWqpO3g1rZgAWW1vP6eSCObL9sEH5ehu8V1vXDTlL0Xaavu9zICPIN0OTgFaQaCKAGOklZxwR+x6Vy69d0PqE6CgTK/bGY88pYfMmcmtG4DgwaLAi0F48zdGxA9ZrtulFhuK4E3Z2qd04lL2jHIFvP8KtbG05hX5tPvII10hDNn8fsdo/vN2JCYmlqIEAERkneI7YbtokpFL8kC80YHd4vHiyZyg5dr3KusKEDNVGiYAj0yxfp95e4a2Bqc1LF4qq1+Yapeppawrk/0ORAys2HK+3CF4TvVS4UC3PWUWP4wBbboLuflGEcmjsjLG0r+tjO203/+X4Em+dBBqNnyn7u1A/zcX4UEKwSzjdgguNFbaUESZ8hRwhiVef260BPJ+T4ngWN2FoQBawkhJO8QOx65iKfv3idARi6sngGlcaTP/BK281wMErmuE7Y+Ka2vbwM4A644XqxPL6BWY9IJyuvFiHrTQQPg/fT3mvfWre+yoClGlZCmEW1PhDu7mczf3iDV51QROx39gbYd4IBDoKIcnt+Ar7zaE0+BzEz4YSq0WRrNv27qZ8MvEctffoBa3crO1NZTlKVPq3xtNuIecL6Xo1yuQ5rVo6nEriyPJu2pmuiqV/GZeGjOrk3cIRJGSN4hdgx0SdO2QGoG9JYTlTO1wDU/hJ2uvU4k3cww3R6DbUQ/sAEuOQhSkqDWZuZ/TojqPoN2LEYQtx+UEBv87oZ4keimiGhnGq+iGsa9ZeigY1ucN1DQVKZVLV4Vyz29XY45cYRYjteV0AzImQlNGsBJQ4VAzcwZ8fs7xvU/roLsbOjTDxb7EdzwIGzHdR5Etx62MpgyWiHugR8+jlN5xS92d9d5aHkHRkjeIXYI7HNddvSVvtGZYyC7NrhLPAhhp+NvbtyBU/dTZ9YtV0JSEhwk5zOf+54ZtKtrfFoWU0pUV2CbQrBo8SCpY7oVXF0NTXPgvLPgS/1C0vCVOqaiB5ArLe9Nq2Gkj2upAIacBskpMG0KjNdNZ0fWtowo//8990PBWhh6auy5c4j2iP8KpKVBQQl8Pk240aOQ5/3Z1OR8x/XvSdiO9e2MlP4rPOlSawYfWjP+cr5N8DP4DLFbIiTvEPWL9gOgSQcoXgmFU7b/fCZyDkLw5QidTz8Pz9uOFsslm2C9ZOvWK2HIBkY/kxfTXY9E94Ijl+qXtCuI5YBihGpZM1l84x4Z1BUkaCptW2wwbr4k742rzMfoLvS+QINcaCrLgz2myqU6Fo9hwr5NG8iV3hondDBQ4ZC8SFu6FH7z0gJP9o6gX9hMWXHSDA0RgnJYyltARY28MYvXizbRw5UQIoIw2jwh1At5W5aVbFnWJZZl3WVZ1gBt3y318Z4h/veIsr6bAfsAzZOgv9zxYxwbJVG3uAk6wa/Df/oYCKIpvBIOPx4O2gNuOgNynhT72kk/7FMRm9qJRNcxXVtfRPD8bX3K3s1KPE+KmEz9Bmp1FZc8bd2HBa6T90gijopSRJS5CaeeL5bTJiNiBVQPhRb8lvaD8rpKNC/C/lUuHZnauXL9wguhUyc41+QBUtTX1m+AXM3Tot9yhc61egRA9gH2QtS6eeenLoK0/SAUaAmxA1BflvdzwCCEs+xxy7IeUfadUk/vGeKvgGayqegvbZRfxkOlYvI6eeFB3OKmvkFc5W74HfOc2HcPw73nQ5asHHKTzItbUM2comjSdks/3qQ0P/ATFK+iGLhwpHBZN2sBc3xySDwcJOe8V66Kr+eu4+83ioC3qkp4xOsDb4mQ9s8/wwlDoVQb1aglux0XuulajpCpanPmwDYndsGJY5AkfM+j0GoveOWN2OMLlWbEAG39RaA1DG8Ie6TAhZvhuqWPsqoizpdfjH+BFhW7ukDLThRtblnW6ZZlzbUsq9ayrH2V7amWZb1qWdZsy7LmWZZlkq9y+l5hWdYCeZ4HlO19LMv6QW6fbVlW3HqM9UXe+9u2Pcy27f8gvGE5lmW9a1lWOkh5ohC7B9oBLbpBxwOgogQK348Wc/HCjrLIdX/zYoLrlPIRnNgJspOgUTK/zN0jbu81xBL2XG3dL6Gr2GpoGRmwaCtMXy4IPCgylWC9DUCmtLwLV8C7d8B/hnqfoy9CLrWbjGh72SSX6qJ4d8jh8NFEmHhX9Ha9TKgbzjwT0tNFXvrN/yU6+FCiexeoqYHR4yPbJmDO3Z9mqjtiIIB/5cCwTOHUeXj1GDr+cgIXLryT+aVL4fVJHlcdYifEHIQB+o22/XQg3bbt3gif4yWWZXXQD7Ys6zDgJKCPbds9gYfk9hRgDHCp3H4oHsO7+iLvuv8127arbdu+GJgJfIXPqawQOydsU2pNLnCYtL6/9RHe41jjQSxyHTvCGi88BmijNInVfaFwHxgQG3mnVx773uMtfMuf4j3WUMuKqlN828phuf5GhsfCBiIR7S0keRethc8eh18mwDG/RR/uFnV+gZRLnT8Lyp2LdbN8vhKLwYeJ5WtjBGE7zQTdOh4DrE+CAYPF+tSvzMcdfyTkNoQZv8HWudGkrcf5RcHNDTIKkiy4pSFMbwqnZ0KNXcvL699nr5lnMb/cR7F5n7K1uzR2Isvbtu15tm0vcPkU2ZKEMxH/pqaJl8uA+2zbrpDnc1w1RwG/2bY9S27fZNt23Bn6+iLv6ZZlDVE32LZ9J/AK0KGe3jPEXw2qhX3QmcKvO/NTSNM0xxIpExq0f1wHlIRa9zveP3rDSP7RNHIizc7mmRJvBRCveW/9IwVxDjiWuFMyY+T10DAbTjnZ0LkK10j0ZpI5i9fC/jLb77vR/oLWT1LkUm+dga8H5ihZkXXValiuac52NfT/VWkO7n1SuOznzIAi7bE5/1u46zmokelloz3GkIUQS9r93fvv0xXe3hsWdH2Oi/KOIi8ph70XX0lxueby8RvNqCLM894ZMB7h71mDiId8yLZt0yxMN+Bgy7KmWZb1tWVZ+ynbbcuyPrUsa4ZlWfGSPIB6Im/bts+1bfsTw/YXbdsOq9Xu6tDd4m2Bhvmw97Fg18JUZdKxvgnbaRBrPZkMI8/R+Yty2UW2E8XqtBroWQrnx0bFFWrtV22/qfyJl5Vdqb3ehDmYrVt3qK2Fmb9CeblygOHk7Yoir1NTIb+Z+LlaHCu2ffu6ULtVoVvffYHcJDhwkFh/42WXD+CgHJgE+7aIVGV9/F/u3d1c6F8A7TvBQCm5+uIvsGE5PPE87HcS7HEa3HsvlMgR09ix4ntR8SLR894fe2mgpyAE4dtHNnVp+ndeaHMVe6a3pdyuZPyLt3mcxABnhNRctt0Bf260eb5lWdOVdrF6KZZlfWFZ1hxDOynOJ9hfnr0V0BG41rKsToZ+KUAjxFDweuBty7IsuX0gYqg2EBhqWdbh8b6y+oo2b+dMtlsCf7Ms6wnLsi6TboUQuzBsNwvlEOk6/2G0NwmbBFq8oFvwfqPL42G9yTlsmBBtY8F8Gz6soWKz2OS4zyf7eBt9DtsP/FjkF1wgiLi2Fh54yccBEpuIRJw3aAGNu8DW1dDDxSWt41qZKraqAFbq1mYpxuj/U48Ryw+/jN7elFjSNlnjEKlWdteN0OpouPJBmP47NMgW38WXX0KHDrByJfSZIrIGneYLulrbxeZuwxsJH/7ows+9z7k7usr/t9ho2/a+Snte3Wnb9hG2bfcytPfjnHMY8Ilt21XSFf4dsK+h30rgXVvgJ4QGYb7c/rVt2xtt2y4FJuGe1AHUn9t8knLu+4DjENNK+wHPux0UYhdGM+Do4yEnDxb+Cila6JZOzom40f1Ctcj1vOAlsd29cSK0ToLDk6ESXn67pe/obMd97lW5C+LWGKnbr2IJYCfBgIPF+ssv6kfEnqDd+kgQXVNJ3ltXw14yBWuWop7mpI3p6AzsPwAaSkv6uikeFy5xp5wr31oC858VpC3ruxmfgir+QHgwep0C6ZmwpRBqbTh2ALxxL6z9FF66HAYPFsFtAE/4CL/4uCfRUwt7eR9DaRGnpfYiw0rl6/J5/PSkFoXn13WuV7QJ8VdGATBYGqvZCMvalEE6ARgMYFlWN8SYdCPwKdDHsqwsaeAOQuTAuKK+yDtJjh4AjgDOsG17jG3bFyAi8ULsLsiXrTWQngGHyQnUzwxPzkQiy4P29xvI5lhXybYIUY7CjYYD2sPwFpBqwUpvU+pzggWrmeDGg/qc+i3SCl6+DNbqmUxxSNXRN9+yKkLec98V5KqSdmeX6xhyslh+MsGlg4pZQqq0o0xRu9vL3Y4gbKeBSNXLbgCDZGT8sOtg4uNw1tGQngaffyskXP/zuNj/2Xio1kYf7yqvfafrtdbaPufQMCmLNski0e3mwrf9nGX3xU4UsGZZ1lDLslYCBwITLcv6VO56ChGMPQf4GXjFtu3f5DEvKmllLwOdLMuaA7wJnCet8M3AI/LYmcAM27bjFr+tL/JeYVmWjP1kGWLWE8uyTKV6Q+yCsPsjSFvHkdKv+cVYqK2J1kTP1fruCMGWROBY3xcPgzbZcPXrLh0PUxpwekNY0w3uas4EoidMJxNMgc3Ep/HSpZz++oBgLnDwIdBQxiDc8riPN5dw9M2brYKSztDsIEjLhW6mWFsFuYin2B13ivXiIvhST19T55uVuYLr5CBh6erYcqTO0y9HtjNd3v8YeYt9/R78NhdGPgLtjoWjroYPR0NFGWTliJzyPTVH6EZ8kLZqfce5kHMbDATgm/J51OoT7PpNYBrvhUm1fznYtv2ebdttbNtOt227uW3bR8vtJbZtn27bdk/btve0bftB5ZiLbNueLl9XypiwXrZt97Nt+yul3xh5fC/btv83AWvARcCtlmV9g3jmzLQs6ytEXMk19fSeIXYG9B4ALTvChpWQOsXfMfEsctNTVg9U84KbpOaa1VBeBhPfUzY6zuLDtM5XQ2YSNIkO6XCkOJf5MOEKCJh2HqD/cbK2yjvj4/cD2Fta542l5b1OqqwdPg7OWgH5Bt+ZPv7qBrRtB23aivV779AOqMA4wX/JUGiZD0tWwc/S+i4vh4JpkLzGX57pXkdA4xawYiHsNQIeHAurN0KnVnD7BTBpIfzrPtH3g9e8B1UT+mobcvCl33pD7vFYWFRSw+gHz/dx5cTK2u4O2uahPGpCqK9o8xW2bR8GXIII4rwIuAnYx7btL+MeHGKXga3HdfUGWlhwsjSvPvCYdMygfqxxvyUaB8uk9aWLYH4u0c5ityxncMS2nXns9U/CnLYw7pfoXo46aBAFNr9l0R2UIMj9JjntWrQZvjaFtzuQD7hKoMc+0G8QzPtFWMHZrSBJSq86OuSLZXP7Ss+9QCynToHaMqLNWj10dQEkJ8MwKSn/wMtw2bnQqhkcPwJuuDvWGleN3mLgdYTW+xX/gWPOFyEWlw6F756DRePgjougXRfoJTMXv/8MTtUCFF41fRAvwtat70POIaO8lL1SxAjokW0+Iv3CPJwQAVCvhUlkQvv7tm2/Y9v2NNu2/RTxC7ErobHSHJwo/ZqfvQMV2qRjV4JZzSYyd4syDzKn/gfQb+/I+lt+NCrzUIXEZ0hNzcrlUL0BVitZQ05hDy/CDmKFO9DnvH8FOnaEltKSvud27YA0jFZJp16wdB4snQsDpke2O1H0i31cy79Gitzrykp41Y/VUwQjZIDdhO/hhbGwZSv8sRgeeBoqP4s9xFRn/PAz4arHYcJaeOZ6OKi3uA6Anj9Abj503VdE4T91mY/r0mEKXMtWmsR12SLbZ3b1akortXvdFIW/O8ImWhO4vtsugvpKFethWdbHlmVNtCyrs2VZ/7Usq8iyrJ8sy4qvKRli10az/2/vzMOkqq4E/ju90E0DodmDC7LIosgitCFp0CZRiA5xS1BsBMfJ4meMSoghQQwE1BggakIGnAQdY0QEFScYiRGjIz0qKoIgYGQRRCSigLLIvp35476iX72u6qqu7tdFdZ/f992v6t29TlfXefe+c88B2neGXl91Dx0/mV/uDz3oEz0eTUnNsM1PUMFHts4b+FLnruXlc2ZVXPbRg+i7k9hPhNr8DLIawZ7nYM3r0YrmrUBdvw1+qlvo8Vbnw7142//3v3A8h+jzVw2j6/bb6lawg0vd9QuzqubjvCnuaElhAfTo6fJ+F8tdagRfPPWeHWHVH+GagfDzYbD6Zfjhv7uyR5PY9o9Q0AQa5MH6r8UuP6vYvb4duCGItQCeH8tdKiS8ISzNKyKPHBRl8m+GJp50LOq6b3MjJcJaec8EHsB5Lvxf4HncwfS7gOkhjWmchGjzOAXDvNX3c0mc18mn6s+xgyRzxx3Ueu3OcAGkAda+B69G9nkPEBWUuhLepgGrWjXg+Cj3r/bUhMqtkL4gsdKOpZyTUfI/HedWn4cOwcwkjh83wFlnA7yzuOK9S/Cp/1aax7Q7HOXd06xaCfv9N00Ry1+/H3LPWPCcDjBnHEz+HnTvCiOHuPw5f3Hxy/0Ej1rPw1mufxloo7AxjoFd6Xj3evgAdJ0f/ag5nokiUH6CIqiwgzHJL/4RWVlZDMx19vh/OpDIWS71c/WtVDwHGWaqI4SlvJuo6rOqOgc4oqpzPXP4Z3FK3KivNMP9ul82zHkPKXsBCgMHWj0jp7hW6PGoroIP8n42dPK5A3lyFskobEcPL3kPfW/Ldl7nXlS2lEXXTOScpSaOlL0J0BguvRqu/T4UlyTXttu58KfXYNYSuDvGfcd+mp9I8Rg+wt0DqcLUTVTtyM5RYB8U9YBT28C2z+CZ22JXLfAlgJVvQbdsuOQs2Blwl3rJ65BbCKd1c9f/MzmJuUSUdoQBldSNTOTIQSY1HMyAnA481CiGWXoq7lINg/CUtz+i8P2Bsqra3BiZTjNfArckat4CvvFv7qHjXwLrnCYkVtj5vtdUFXZw6/xfMep09W2dPzEHjgS1jl9pNQTuIKYxW3OBn7h/izfGO0UWsXB+NVD17cQzr0Dwn6oBsRcaf5wL9z4YI/JYLhUivZ271a3UexVDVuCXIp6P8zUBJd4LyM+CgQPd9ZwY4TgrsI5oBb/ezeNsb+v6vwNb500oV9gRHgYKGjk5q8L0iJFewEPaJbe41w1LvfjjPh4nelf874VJzN1/9wAw7Db65bbnlaY3880GXeE+389hMo7iI9TlrfPj2DPvFAhLec8QkcYAqvpAJFNEzsQdFzPqERpvpzjiy3LeLPcLHEmxaBp435SqGbUl+3y8IJC6eMq7ZUvYvh2ei/Xf35AKD41j8eMsaJ7Fx6/A6iT/C+IFMKmJO+B3C4neK05AC8r1zWf/gOVXQN+X4kbAjtJj99zjXjdvht3BreFGJOVE45eeot38MezdEv11iWVz1sD3N184i4rW7cDFNzqr8+PHoPE0l9fOlxKSHUjfSqJNIqXtl08bnLdrC05iBAjrqNgfVbXCb46qvq+qPw5jTCPD+BLw7W9BYSG8uwKOro4uPzVGmypsoesIl6oc9CTop7SZp7y/7IXZmj2LiqFGglwWPRcOAR2gaUcY41amK8fHsH/z+CFKPzRKaafiKTN4quldoo+lrVqSuI9zUVrgFDfAg97rrtdh+zPw8SPR9ZXPKiw++wJ9+7rV98GDMC+yL1cV6//10L8XNPW09WOxnNwF6OD1m5UFp5wK+3pHl1/xlivr4hm0vfrHTgkV9onVd+Sm54Ik5n70QHS6/1fR5bGsAK+l/gQlMWvzlBCN9wtSnU5F7geeVtXXUu2jqKhIly5dmrhiDSHeOZKSkiQfBhpVIvKY1y/dsmPA++vgk63Om0ebikF4SnwaqCzWuarASq0k8INXFs8BC1DiOc4u2xko8CuTvXvgveVQUAD79yMiaHFXyMkONKp4H1zi20Iuw9OUx4A3D8ARaHoO5Hla8Swqfu92Ev1w3L/abkQJewPlEO24LDIcQDOv/31em01rYccn0P0saBn0e5gdPZdDgXHWAscOwp43gSwYUDyA7OxoeSwLtOkLfPIJrF0LTZs2pfepgcNdsQyJGgLNfXPZX8YH/3Ir76ZN4KwYYRvyfHI8cuQIixcvJicHit2pPSRoWNCkhJ07d7JypQtWfkoxZAV2IiJPe5pH+j4WkHvwnFrke9rZN/dXA4frTz+DCgSyVqxYQe/evVm0aFHFuiEiIstUNZE7+Zobr0uRMr32fuv5Zu1+vrAIK8LXSOACEWkFPAHMUdVgJMQKeKHZbgBo1y6pTSsjQ4h7S9S6jVPe2z6F1h1AJEphR/XRIoYCz3H5ccdtVVGBR5R2MvRvXsBrQNbBgzRp2pTdu3fTZftx1rUNKm+v7ziGWyV8xSnwbKBdLmw4wu5NQkmLZJZujkYBKTaOo8AjfCmG1BtRwj7KaOidRV6zHs5r4nx/B5V2PLoCefklLP/Scvbs2cPnn39Oq1aJhFpCq1bHWLfuNXbv3s3Bbv3I/+LN8uLIQ/oIp8aey+lfho+2wu4vgF1AYbTC9pPlPaj3eybVJiCB+s2aNSMrK8u5MN10CnT+OKq8efxvr6Mp5Qq8eQmV2O5VJIYOj9C7d2+GDx9ehc4ylMjK26gSYSnvLapaJCKdgWuAx0QkG5iDU+TrYjXyQrPNBLfyDmluMQljB8KoHNmH2zvueSZ8sJEXp07gwgsrDWGLPOte9dIanEcMxx86uPx9mzZt2LZtG7/4xS8YM2YMbdu2Zd2iW8vr8u3kxsGZNu8/sJxOnTqxdetWRo0axZVXXpny3JcHHGCfS+Lv8bsIqnDTEHjl75DXsISXXnqpwurZz2ZvnHa+/hcvXkxeXh59+vQ5sXOViNLSUubOnctll13GuM5vRhdelcT/4Bph2Gh48nm4bNg93H777XGrHjp0iPz8fLKzoWxR5X1fc801PPHEExw+fJjtCeoCsC/weRslaFPo2yrfdUfi/g0jAWEZrCmAqq5X1btUtTtwNc7E6LmQxjQyDG0E2liYMHIEBQUFbNiQ2GeXXlqzihvKFbUOLk9+unoW5507dyY/P5+ysjI2fdgX5dtJK24AZQ3KGho2bMi4ceMAmDBhQsWgFVXgXDQqJUN3lHNEmffIp7Rp04aysjJ+/etfV9qmHRqluAGKi4vp27dv0oobYORIZ6Q4a9YsdOhxp7AjKRm6KdfdvKC8j0puuht4Z/SPHCGhjO+6y/mP3bFjx4kt9EpppNEpEbvuKE9GNMcpj+9eG6mOEJbyrvDfrKorVfV21Qoer416zujRo/n000+54Yagu43aI6iw/USU90cffcQVV1wBwOzZ1Tu784Mf/IDTTz+d1atX8+ST6QkZ2bp1a2bNck5yJk6cyOLFSTgRqSaDBw+mdevWrFmzhlRtWgYPHkyrVq147733WLZsWdx6IkJenjNgOHy4cu8cnTt3pkePHhQXF1e6A2EYJwthKe/zQ+rXqIMUFhbSuHEy8aLSQ0R5r127NnrlWI1HLXl5eYwf71x8TZw4kaNBt2G1xKBBgxgzZgzHjh1j+PDh7Nq1K9TxcnJyKC11PlcjNw5VJTc3N+k+Isr70KHED1VXrlzJa6+9Rvfu3RPWNYx0E5byPiy+vTQR+bqI3CYil4Q0nmGEhl95+1eOla36kuH666+nY8eOrF27lscfr9QhZ6jcfffdFBUV8eGHH3LDDTeEbv8RuQGaO3cuR44k66Ukdh9z5syptI+qKG8jTdhRsZQIS3m/hRdeSUTGAL/CHfz4iYhU/nDNME4y/Mrbv3J89NFHq9Vvbm4uEya4UGOTJk1KWZFVlwYNGjBnzhwaN27MU089xcMPPxzqeH369OHss89m+/btLFy4MKU++vbtS7du3di+fTsvvBDD4tDDlLdRVwnNPaqqRk7PDgMuVNW7gUuAISGNaRih0KFDB3Jycti8eTP79+8/sep7661gTLCqc+2119KlSxc2btzIn/8cM5J0rXDmmWfywAPOGeKtt97KmjVrQhtLRKIeP4TZx+WXX87w4cNPKHHjJMQM1lIiLOW9R0TO8d7voNyRZU6IYxpGKOTm5tKpk4sMtX79evr06cOSJUtqxMArJyeHiRMnAs7iOZ0rxJEjRzJixAj2799PaWlpqHMZMWIEd955J5MnJxMRJH4fAM888wy7dwc9pTimT5/O7Nmzad062XizhpEZhKVIbwRmi8ijwDZgqYg8jIvBcE9IYxpGaIwfP55Zs2Zx2mmnISKcd955VToiVRnDhg2je/fubN68mYceeqhG+kyVGTNm0LFjR1asWMHYsUn4IE2R0047jfHjx9OhQ4eU+2jXrh0DBw7k4MGDzJtXhUDfxsmFBSZJiVDcowJ4TlkGA11wK+4twEJV3ZVM+9p2j2oY6eTpp59m6NChtG3blg0bNtCwYRKBTkJiyZIl9O/fn6NHj7JgwQKGDDl5n3QtWLCADRs2UFpaaqvrGqLW3aO2K1J+Xou/9TfXDfeooSnv6mLK26hPHD9+nKKiIpYvX87999/P6NGj0zqfKVOmMHbsWFq2bMnKlStp27ZtWudj1B61rrxPL1JG1+Jv/W11Q3mHsm0uIk1FZLKIrBGRz7z0npdXGMaYhpHJZGVlceeddwIwefJk9u3bl9b5jBkzhosuuogdO3Zw3XXXVcsLnGEYNU9Yz7yfBHYCA1W1haq2AL7u5T0V0piGkdEMGTKEfv36sW3bNqZPn57WuWRlZfHoo4/SsmVLXnzxRe699960zseow9g575QIS3m3V9UpqnoiDLGqfqKqU0gyxr1h1DdE5MTqe+rUqezZsyet82nbti2PPPIIAHfccQdLliQRANwwjFohLOX9oYj8TERORFcWkTYi8nPgo5DGNIyMZ9CgQQwYMIDPP/+cadOmpXs6DBkyhFGjRnH06FGGDx+e9hsKow5i1uYpEZbyHga0AMpEZKeIfA4swkW6vTqkMQ0j4xGRExGu7rvvPnbu3JmgRfhMmTKFXr16sWHDBn70ox+lezqGYRCe8u4C3KOq3YBTgelAJN7jsZDGNIw6wcCBA/nGN77B7t27ue+++9I9HfLy8pg7dy4FBQU89thjKXtFM4yYKHC4FlMdISzl/TAQMZf9HdAEmAzsB/4U0piGUWeIrL6nTZvGjh070jwb6NatG7///e8BuOmmm3j//ffTPCPDqN+EpbyzVDUS47BIVUer6quqOgnoGNKYhlFnKC4u5pJLLkFVU457XdN897vf5aqrrmLv3r2UlpYmjJFtGEZ4hKW8V4vIf3jv3xGRIgAR6QKkJ3SSYWQYM2bM4IMPPuDiiy9O91QA9zx+5syZnHHGGSxduvREPHLDqBa2bZ4SYSnv7wMlIrIBOBt4XUQ2Ag96ZYZhJKBDhw60atUq3dOIorCwkNmzZ5OVlcXUqVMrDcdpGEZ45ITRqaruBq4XkSa4bfIcYIuqfhrGeIZh1B79+/dn4sSJPPjggzRq1Cjd0zEynchRMaNKhKK8I6jqF8A7YY5hGEbtM27cOG655RYKCwvTPRXDqJeEqrwNw6ibZGdnm+I2agYFDqZ7EplHWM+8DcMwDMMICVt5G4ZhGOnjOLbyTgFbeRuGYRhGhmErb8MwDCN9REKCGlXCVt6GYRiGkWHYytswDMNIH8eA3emeROZhK2/DMAzDyDBs5W0YhmGkj2PAnnRPIvOwlbdhGIZhZBimvA3DMAwjw7Btc8MwDCN92LZ5StjK2zAMwzAyDFt5G4ZhGOkjg1beInIXcDnOqes24HpV/dhX3g74JzBRVe+N0f43wKXAYWAD8B+quktErgXG+Kr2BPqo6op4c7GVt2EYhmEkx29Utaeq9gYWABMC5b8F/l5J+38A56hqT2AdcDuAqs5W1d5evyOBTZUpbrCVt2EYhpFOjgBb0j2J5FBV/x5BI5xzVwBE5ApgI7CvkvYv+C7fAIbGqFYKzEk0F1PehmEYhpEkIvIr4DqcX7ive3mNgJ8Dg4CfJtnVd4EnYuQPw23NV4ptmxuGYRhpRIGjtZhoKSJLfekG/2xE5EURWR0jXQ6gqneo6unAbOBmr9kk4LequjeZTywid3iTmR3I7wfsV9XVifqwlbdhGIZRn9ihqkXxClX1oiT7eRz4G/BLoB8wVESmAoXAcRE5qKrTg41E5N+BbwEXqqoGiq8hiS1zMOVtGIZhpJ2j6Z5AUohIZ1Vd711eBqwBUNXzfXUmAnvjKO6LcdvrJaq6P1CWBVwFXJDMXGzb3DAMwzCSY7K3hb4SGAyMStRARB4SkchKfzrQBPiHiKwQkT/4ql4AbFHVjclMRCqu2k8ORGQ78GEtD9sS2FHLY2YiJqfEmIwSYzJKTDpkdIaqtqqtwUTkedznrC12qOrFtTheKJy0yjsdiMjSyp6FGA6TU2JMRokxGSXGZGTEo05sm4tIvogsEZF3RORdEZnk5V/lXR/3bVsgIl/xtixWeG2u9JU97+vnDyKS7Su7WkT+6ZU97ss/5uvvr7X1uatCVWXka9dORPaKSIXjDyLyVxFZHcirNzISkfYicsD3ufxbYF1FZK2vrLWvXcbKCFL7LolITxF53StfJSL5Xn4DEZkpIutEZI2IfMfXJmPllMJ36VrfZ1rhlfcGsgL5O0Tkd752GSsjo5qoasYnQIDG3vtc4E3gq8BZQFdgEVDkq18A5Hjv2+Lc3OUAS4Ev+fp8GrjGu+4MLAeaedetff3tTbcMalpGvnZPA08BP/XlLQW+jbO2XO3Lr1cyAtr7P3+gry/iyDOjZZSinHKAlUAv77oFkO19jyYBd3v5WUDLuiCnVP/fvPo9gI3e+6WBsmXABXVBRpaql+qEtbm6b2vkfF2ul1RV3wMQkWB9v5VfPuVecmZquQedHKCBr+wHwAxV3en1sa2GP0aoVFVGXt4VxPYY9GfgJ8ANwJO+/Hono0r4OE5+RssIUpLTYGClqr7jtf/MqzcTGA908/KPU/58N6PlVM3vkt/D1sxIpoh0BloDr3hZGS0jo3rUiW1zABHJFpEVuFX0P1T1zQT1+4nIu8Aq4EZVPaqqM72yhV4/XwDzvCZdgC4i8pqIvCHO5D9CvrjD/m94Cu+kpCoyknKPQZNiFHcE7gP2B/LrlYw8OojIchEpE5HzfflbgT9525bjpfzXOuNlBFWWUxdARWShiLwtIj/z8iM3fnd5+U+JSBtfm4yWUwrfpQjD8JR35DfJoxR4wrsxgDogI6MapHvpX9MJd0D+ZZzz90jeIuJvUZ0FLAHyA/n5uC3jQd71AuAvuDvoDjhvvIVe2Snea0dgE9Ap3XKoroyAe4GrvfcT8bbNgd7As9779kRvm9c3GeUBLbz3fYGPKH/scqr32gR4AbiursmoCnL6KfABzqK4AHgduNC7VuA7Xr2fALPqmpySkZEvvx+wKk4//wT6+q7rjIwsVT3VmZV3BFXdhfvHSOoogLptrH3AOYH8g8BfKfcxuwV4RlWPqOoHwFrcMyfUCwmn7nzeIuDcan6MUElSRv2AqSKyCfgxME5Ebga+BvT18l/F3fkv8trUKxmp6iH1toBVdRkuxF8X7/pf3usXONuAr3jN6oyMIOnv0hagTFV3qHtk9RzQB/gMt3vzF6/eU15+pE2dkFMVf5NietgSkV44O51lvuw6IyOj6tQJ5S0irUSk0HvfELgIz/NNnPodRCTHe38GzoBkk4g0FpG2Xn4O8G++fuZT7oS+Je5HeqOINBORPF9+f9wd8klFVWWkquerantVbQ/8DrhHVaer6n+p6ile/gBgnaoO9JrNpx7JyKuf7b3viPvh3CgiOd7nRERyca4QI1b588lgGUHV5QQsBHqKSIH3f1UC/FNVFXgWGOjVu5DyzzyfDJZTCjLye9iaG6M4VqSp+WSwjIxqku6lf00kXODy5TiL1tXABC//Stzd6SHgU2Chlz8SeBdYAbwNXOHltwHe8vp5F/hPyq3SBbgf90+winIr9GLv+h3v9XvplkdNyCjQdiI+a3Nffnuit83rlYyA73jfk3e879GlXn4jnFVw5Hs0DciuCzJK9bsEjPBksRqY6ss/A/g/r6+XgHZ1QU4pymgg8Eac/jYC3QJ5GS0jS9VL5qTFMAzDMDKMOrFtbhiGYRj1CVPehmEYhpFhmPI2DMMwjAzDlLdhGIZhZBimvA3DMAwjwzDlbdQLJDrK0goRGZtCHwNFpNh3faOIXFeDc5znnRdPtn4PEXmkpsY3DCNzqBOBSQwjCQ6oau9q9jEQF2xiMYCq/qHS2lVARLrjzoJvTLaNqq4SkdNEpJ2qbq6puRiGcfJjK2+jXiMiE0TkLRFZLS6utHj5t4qLk7xSROaKSHvgRmC0t3I/X0QmihfnXEQWicgUcTGc14kXpMTzKvak188TIvKmxIibDlwLPOOb116vv2Ui8qK4GPSLRGSjiFzma/cszqWmYRj1CFPeRn2hYWDbfJiXP11Vz1PVc4CGOFemAGOBc1W1Jy7q3CbgD8BvVbW3qr5SYQTnje8rOF/wv/TybgJ2ev3chQtgEov+OK9sERoBi1S1Ly663d3AIJyHrjt99ZYC/mhmhmHUA2zb3KgvxNs2/7q4EJUFQHOcC89ncW4tZ4vIfJwP6WT4H+91Gc51LDj/79MAVHW1iKyM07YtsN13fRh43nu/CjikqkdEZJWvb3DhJk9Jcn6GYdQRbOVt1FtEJB94ABiqqj2AB3GhYAGGADNwK+VlkUA2CTjkvR6j/MZY4tQNcsA3NsARLfddfDzSt6oeJ/qmO99raxhGPcKUt1GfiSjLHSLSGBgKJ6I7na6qLwM/w8Vjbozbvm5SxTFeBa72+j0b6BGn3nvAmVXsG1wkqdUJaxmGUaewbXOjvtBQRFb4rp9X1bEi8iBuW3oTLqIcQDbwmIg0xa2cf6uqu0TkWWCeiFwO3JLkuA8Af/a2yyNRpnbHqPc3nDX7i1X6VC4k5N+q2MYwjAzHoooZRoh48b5zVfWgiHTChb3soqqHA/UaAi8D/VX1WJJ95wFlwABVPVrDUzcM4yTGVt6GES4FwMsikotbxf8wqLgBVPWAiPwSOBVI9sx2O2CsKW7DqH/YytswDMMwMgwzWDMMwzCMDMOUt2EYhmFkGKa8DcMwDCPDMOVtGIZhGBmGKW/DMAzDyDBMeRuGYRhGhvH/oGINmd2mmLUAAAAASUVORK5CYII=\n",
          "text/plain": "<Figure size 720x720 with 2 Axes>"
         },
         "metadata": {
          "needs_background": "light"
         },
         "output_type": "display_data"
        }
       ]
      }
     },
     "b643145fdbe74defa542bfce6702ba60": {
      "model_module": "@jupyter-widgets/base",
      "model_module_version": "1.2.0",
      "model_name": "LayoutModel",
      "state": {}
     },
     "b66b06a0cd2c4311b6a0f56fea49f1a3": {
      "model_module": "@jupyter-widgets/base",
      "model_module_version": "1.2.0",
      "model_name": "LayoutModel",
      "state": {
       "width": "auto"
      }
     },
     "b6bc93260a8e4734b1c606675a21e168": {
      "model_module": "@jupyter-widgets/controls",
      "model_module_version": "1.5.0",
      "model_name": "TextModel",
      "state": {
       "disabled": true,
       "layout": "IPY_MODEL_090c67de29444bbaa942a1bc34b55367",
       "placeholder": "output filename",
       "style": "IPY_MODEL_1ae46522eb4645c18ae8077d252c1645"
      }
     },
     "b722e65a6c6447558cfb65fc157d1a01": {
      "model_module": "@jupyter-widgets/controls",
      "model_module_version": "1.5.0",
      "model_name": "HBoxModel",
      "state": {
       "children": [
        "IPY_MODEL_9795f0c3e988478b9fc54711a27cbb2f",
        "IPY_MODEL_025795f0b07447dba346c24b7ea9271a"
       ],
       "layout": "IPY_MODEL_506645e59b7143129aa3b95c4ffcc4ed"
      }
     },
     "b93ba27fc65a409b80fc5593adc7e0f0": {
      "model_module": "@jupyter-widgets/base",
      "model_module_version": "1.2.0",
      "model_name": "LayoutModel",
      "state": {}
     },
     "bad1baf2195d47b2b019b06fea343492": {
      "model_module": "@jupyter-widgets/controls",
      "model_module_version": "1.5.0",
      "model_name": "DescriptionStyleModel",
      "state": {
       "description_width": ""
      }
     },
     "bdc3964a6f95424fbe355603195dfcbc": {
      "model_module": "@jupyter-widgets/controls",
      "model_module_version": "1.5.0",
      "model_name": "VBoxModel",
      "state": {
       "children": [
        "IPY_MODEL_853ad28e372f4f9782e54826ba1597e4",
        "IPY_MODEL_eb2e8ae3078e44b0bc90623af66f1fe0"
       ],
       "layout": "IPY_MODEL_810b40b954c04813bef2100c0afe95fd"
      }
     },
     "be19b76c2445415db3a93507a9a8ad98": {
      "model_module": "@jupyter-widgets/base",
      "model_module_version": "1.2.0",
      "model_name": "LayoutModel",
      "state": {}
     },
     "bf6023bcb44b40cfb1b8482255025639": {
      "model_module": "@jupyter-widgets/controls",
      "model_module_version": "1.5.0",
      "model_name": "GridBoxModel",
      "state": {
       "children": [
        "IPY_MODEL_a9f49e8dbd1e4a7b987621f38dcbe711",
        "IPY_MODEL_cc494dafe4b142afa2e16180c9288224",
        "IPY_MODEL_36201ada77744719a506353bd0a51bbc"
       ],
       "layout": "IPY_MODEL_52baef05d584464a8fbe895f8e15569c"
      }
     },
     "c0317dd752d2410ba42f42650c28b718": {
      "model_module": "@jupyter-widgets/controls",
      "model_module_version": "1.5.0",
      "model_name": "TextModel",
      "state": {
       "continuous_update": false,
       "description": "Contours",
       "layout": "IPY_MODEL_6d8404e0f2034601b6b8e56f5c55cd9e",
       "style": "IPY_MODEL_73324fa5b9c54e7ebc27f022292ab9e0"
      }
     },
     "c09f73b7366f47a4a036dabc3f16c944": {
      "model_module": "@jupyter-widgets/controls",
      "model_module_version": "1.5.0",
      "model_name": "DescriptionStyleModel",
      "state": {
       "description_width": ""
      }
     },
     "c0d5df824f7f4c4db6ef57a1407edfbd": {
      "model_module": "@jupyter-widgets/controls",
      "model_module_version": "1.5.0",
      "model_name": "FloatSliderModel",
      "state": {
       "continuous_update": false,
       "description": "Height",
       "layout": "IPY_MODEL_e34878e0072a498ca82feff0c77c224b",
       "max": 13622.238002983107,
       "orientation": "vertical",
       "step": 10,
       "style": "IPY_MODEL_b500e6c29c034389a33ff910896afc7b",
       "value": 6811.119001491554
      }
     },
     "c129a12db4c64fc8a9969b037a2603a5": {
      "model_module": "@jupyter-widgets/base",
      "model_module_version": "1.2.0",
      "model_name": "LayoutModel",
      "state": {}
     },
     "c153d092ded549418aa318ed4b682e0c": {
      "model_module": "@jupyter-widgets/base",
      "model_module_version": "1.2.0",
      "model_name": "LayoutModel",
      "state": {}
     },
     "c17ccd093cce45f394d253e9c0f5cef9": {
      "model_module": "@jupyter-widgets/controls",
      "model_module_version": "1.5.0",
      "model_name": "DescriptionStyleModel",
      "state": {
       "description_width": "initial"
      }
     },
     "c23dc126087842c5adf27972e980ffaf": {
      "model_module": "@jupyter-widgets/base",
      "model_module_version": "1.2.0",
      "model_name": "LayoutModel",
      "state": {
       "width": "auto"
      }
     },
     "c26763d957084848860fe11a0b99981d": {
      "model_module": "@jupyter-widgets/controls",
      "model_module_version": "1.5.0",
      "model_name": "SliderStyleModel",
      "state": {
       "description_width": ""
      }
     },
     "c3b511468ba84940bb1f33999a65d5f4": {
      "model_module": "@jupyter-widgets/base",
      "model_module_version": "1.2.0",
      "model_name": "LayoutModel",
      "state": {}
     },
     "c4237d52418641f2af88ec3ccd33499f": {
      "model_module": "@jupyter-widgets/controls",
      "model_module_version": "1.5.0",
      "model_name": "SliderStyleModel",
      "state": {
       "description_width": ""
      }
     },
     "c4ee42342a534121afdf6beace63a47e": {
      "model_module": "@jupyter-widgets/controls",
      "model_module_version": "1.5.0",
      "model_name": "DescriptionStyleModel",
      "state": {
       "description_width": ""
      }
     },
     "c5dbac204d034957b2e76b8a684252e5": {
      "model_module": "@jupyter-widgets/controls",
      "model_module_version": "1.5.0",
      "model_name": "DescriptionStyleModel",
      "state": {
       "description_width": "initial"
      }
     },
     "c624e4a871724f0092e490d7355817a7": {
      "model_module": "@jupyter-widgets/controls",
      "model_module_version": "1.5.0",
      "model_name": "DescriptionStyleModel",
      "state": {
       "description_width": ""
      }
     },
     "c77fd1f39cdb42579897643735e72410": {
      "model_module": "@jupyter-widgets/controls",
      "model_module_version": "1.5.0",
      "model_name": "HTMLModel",
      "state": {
       "layout": "IPY_MODEL_54fd6fb802524f60935b09f775a72128",
       "style": "IPY_MODEL_c624e4a871724f0092e490d7355817a7"
      }
     },
     "c8c89ed9f45c4370b4b8b4f7777a0a0e": {
      "model_module": "@jupyter-widgets/controls",
      "model_module_version": "1.5.0",
      "model_name": "LabelModel",
      "state": {
       "layout": "IPY_MODEL_9045bd96c85f44ba85d51651b58fe5c0",
       "style": "IPY_MODEL_ef409932011e447693b617e16bb64f45",
       "value": "Monitoring folder"
      }
     },
     "ca49dbd35e89484ea35cabed4d436e90": {
      "model_module": "@jupyter-widgets/base",
      "model_module_version": "1.2.0",
      "model_name": "LayoutModel",
      "state": {}
     },
     "cb6960bf534a4f0dabb972e9f1a63124": {
      "model_module": "@jupyter-widgets/base",
      "model_module_version": "1.2.0",
      "model_name": "LayoutModel",
      "state": {}
     },
     "cc494dafe4b142afa2e16180c9288224": {
      "model_module": "@jupyter-widgets/controls",
      "model_module_version": "1.5.0",
      "model_name": "TextModel",
      "state": {
       "disabled": true,
       "layout": "IPY_MODEL_ce05e9d2e209460e99a3bfcfd770a728",
       "placeholder": "output filename",
       "style": "IPY_MODEL_fe7abe1f87234835896ef93a7e110e15"
      }
     },
     "cd2927cc5e354daa9aaef0b822a1658b": {
      "model_module": "@jupyter-widgets/base",
      "model_module_version": "1.2.0",
      "model_name": "LayoutModel",
      "state": {
       "width": "50%"
      }
     },
     "ce05e9d2e209460e99a3bfcfd770a728": {
      "model_module": "@jupyter-widgets/base",
      "model_module_version": "1.2.0",
      "model_name": "LayoutModel",
      "state": {
       "display": "none",
       "grid_area": "filename",
       "width": "auto"
      }
     },
     "ce0ca7e548274437aec37b32429c9ca0": {
      "model_module": "@jupyter-widgets/base",
      "model_module_version": "1.2.0",
      "model_name": "LayoutModel",
      "state": {
       "width": "auto"
      }
     },
     "d041a996767647e3a089547df2a32c01": {
      "model_module": "@jupyter-widgets/controls",
      "model_module_version": "1.5.0",
      "model_name": "VBoxModel",
      "state": {
       "children": [
        "IPY_MODEL_adbe97017a2144b8a31697fbc73a0767",
        "IPY_MODEL_a8ae4d753a774e3e875591e66aabdfd5"
       ],
       "layout": "IPY_MODEL_775de93f2efe43689254c16316ceda44"
      }
     },
     "d2c85721e7c14ec5b8c772846a81e23a": {
      "model_module": "@jupyter-widgets/base",
      "model_module_version": "1.2.0",
      "model_name": "LayoutModel",
      "state": {}
     },
     "d4699d1f0bfc467f8b6ba32279fa0829": {
      "model_module": "@jupyter-widgets/base",
      "model_module_version": "1.2.0",
      "model_name": "LayoutModel",
      "state": {}
     },
     "d4d9bec09ff2428d982c79a6380fb394": {
      "model_module": "@jupyter-widgets/controls",
      "model_module_version": "1.5.0",
      "model_name": "DescriptionStyleModel",
      "state": {
       "description_width": ""
      }
     },
     "d4f3499089b94cf6aeee6326639fc5d3": {
      "model_module": "@jupyter-widgets/controls",
      "model_module_version": "1.5.0",
      "model_name": "HBoxModel",
      "state": {
       "children": [
        "IPY_MODEL_6a6452bce661423aa1737460394bb015",
        "IPY_MODEL_76dd58d1002541d5afbc12803ba50951",
        "IPY_MODEL_5af992619b5e4f13bc8295ce2dc7aaa3"
       ],
       "layout": "IPY_MODEL_c23dc126087842c5adf27972e980ffaf"
      }
     },
     "d622904523d041ffa4b635b162bbca12": {
      "model_module": "@jupyter-widgets/controls",
      "model_module_version": "1.5.0",
      "model_name": "IntSliderModel",
      "state": {
       "continuous_update": false,
       "description": "Window size",
       "layout": "IPY_MODEL_42112be459d74a95a47d607e9729503c",
       "max": 512,
       "min": 16,
       "style": "IPY_MODEL_6d2e96f096074714993dae059f0985ce",
       "value": 64
      }
     },
     "d639041fb93e4762b1e70bfec4bc84fa": {
      "model_module": "@jupyter-widgets/base",
      "model_module_version": "1.2.0",
      "model_name": "LayoutModel",
      "state": {}
     },
     "d7266e08a27b4e2a826afeb8ded739e8": {
      "model_module": "@jupyter-widgets/controls",
      "model_module_version": "1.5.0",
      "model_name": "ButtonStyleModel",
      "state": {}
     },
     "d7cb1ef5b630427f8b07e38743e4b518": {
      "model_module": "@jupyter-widgets/output",
      "model_module_version": "1.0.0",
      "model_name": "OutputModel",
      "state": {
       "layout": "IPY_MODEL_4df7ac33b64743df9c14d47c47e894fd"
      }
     },
     "d93688e330cd45f2b44f52171df99845": {
      "model_module": "@jupyter-widgets/controls",
      "model_module_version": "1.5.0",
      "model_name": "ButtonStyleModel",
      "state": {}
     },
     "daa66d4589d24c28acdc0c06d4bbfa45": {
      "model_module": "@jupyter-widgets/controls",
      "model_module_version": "1.5.0",
      "model_name": "SelectModel",
      "state": {
       "_options_labels": [
        "..",
        "dask-worker-space",
        "images"
       ],
       "index": null,
       "layout": "IPY_MODEL_dbcd5f2808f145c1b94a4170c4ea67ce",
       "rows": 8,
       "style": "IPY_MODEL_d4d9bec09ff2428d982c79a6380fb394"
      }
     },
     "dae905cad96d4443835dd274ba2f7873": {
      "model_module": "@jupyter-widgets/controls",
      "model_module_version": "1.5.0",
      "model_name": "DescriptionStyleModel",
      "state": {
       "description_width": ""
      }
     },
     "db224cd9c69649e8ac5c36bcff07963d": {
      "model_module": "@jupyter-widgets/base",
      "model_module_version": "1.2.0",
      "model_name": "LayoutModel",
      "state": {}
     },
     "dbb24051fbb3490d8481ce2491874bc8": {
      "model_module": "@jupyter-widgets/controls",
      "model_module_version": "1.5.0",
      "model_name": "TextModel",
      "state": {
       "description": "Save as:",
       "layout": "IPY_MODEL_5d0079966fe94a5fa8360274c2894b57",
       "style": "IPY_MODEL_0526bf2b4dcd408c9a9cf715940fd4ec",
       "value": "Airborne_Gxx"
      }
     },
     "dbcd5f2808f145c1b94a4170c4ea67ce": {
      "model_module": "@jupyter-widgets/base",
      "model_module_version": "1.2.0",
      "model_name": "LayoutModel",
      "state": {
       "grid_area": "dircontent",
       "width": "auto"
      }
     },
     "dc400f6373284d06922c7c4ae0fbd5ac": {
      "model_module": "@jupyter-widgets/controls",
      "model_module_version": "1.5.0",
      "model_name": "ButtonModel",
      "state": {
       "description": "Cancel",
       "layout": "IPY_MODEL_8193b6d55d564e3f89a1f202f647030b",
       "style": "IPY_MODEL_8499dcde27db4eefbb5dd9130edf2e74"
      }
     },
     "dd13c80be1d844d0babe29250af6c254": {
      "model_module": "@jupyter-widgets/controls",
      "model_module_version": "1.5.0",
      "model_name": "IntSliderModel",
      "state": {
       "continuous_update": false,
       "description": "Window size",
       "layout": "IPY_MODEL_7ffc3ad039bf4ed99536dddfabb2f4b1",
       "max": 512,
       "min": 16,
       "style": "IPY_MODEL_181b63f43d1d4c3785e900eed08afcda",
       "value": 64
      }
     },
     "dd4ee08d26fe43d4bf6e49f872049273": {
      "model_module": "@jupyter-widgets/base",
      "model_module_version": "1.2.0",
      "model_name": "LayoutModel",
      "state": {}
     },
     "dec5088d71b143c2b4829b3d0f9f2b0d": {
      "model_module": "@jupyter-widgets/controls",
      "model_module_version": "1.5.0",
      "model_name": "ButtonStyleModel",
      "state": {}
     },
     "df4fee8ef4994df0871adc9e1e15c0c4": {
      "model_module": "@jupyter-widgets/base",
      "model_module_version": "1.2.0",
      "model_name": "LayoutModel",
      "state": {}
     },
     "e19b6c28b18d40b28fe10f864ea1e722": {
      "model_module": "@jupyter-widgets/controls",
      "model_module_version": "1.5.0",
      "model_name": "DescriptionStyleModel",
      "state": {
       "description_width": ""
      }
     },
     "e2693a9e16494776b6e180461a78bbd3": {
      "model_module": "@jupyter-widgets/controls",
      "model_module_version": "1.5.0",
      "model_name": "HBoxModel",
      "state": {
       "children": [
        "IPY_MODEL_d041a996767647e3a089547df2a32c01",
        "IPY_MODEL_0a0e75b0582842f485c4053aa19bf8fc",
        "IPY_MODEL_d7cb1ef5b630427f8b07e38743e4b518"
       ],
       "layout": "IPY_MODEL_be19b76c2445415db3a93507a9a8ad98"
      }
     },
     "e34878e0072a498ca82feff0c77c224b": {
      "model_module": "@jupyter-widgets/base",
      "model_module_version": "1.2.0",
      "model_name": "LayoutModel",
      "state": {}
     },
     "e34b07d4fff5489ba1ed0351b4034bc4": {
      "model_module": "@jupyter-widgets/controls",
      "model_module_version": "1.5.0",
      "model_name": "IntSliderModel",
      "state": {
       "continuous_update": false,
       "description": "Line Gap",
       "layout": "IPY_MODEL_a40e8da71fd245f18f90c96a834f7108",
       "min": 1,
       "style": "IPY_MODEL_0205efc6f03c479eb5da1be6ed755709",
       "value": 1
      }
     },
     "e4b7dcd8a46246128a1203ef4db98a10": {
      "model_module": "@jupyter-widgets/base",
      "model_module_version": "1.2.0",
      "model_name": "LayoutModel",
      "state": {}
     },
     "e74df740b223422e990b30bf2bae7e29": {
      "model_module": "@jupyter-widgets/base",
      "model_module_version": "1.2.0",
      "model_name": "LayoutModel",
      "state": {}
     },
     "e76525d99ad24bef98380b3d176acffc": {
      "model_module": "@jupyter-widgets/base",
      "model_module_version": "1.2.0",
      "model_name": "LayoutModel",
      "state": {
       "align_items": "center"
      }
     },
     "e76ca0d8f7ee42adaa591b802340c19d": {
      "model_module": "@jupyter-widgets/controls",
      "model_module_version": "1.5.0",
      "model_name": "DescriptionStyleModel",
      "state": {
       "description_width": ""
      }
     },
     "e80ae5dbd7fd4e8db7d6b0f868a8506f": {
      "model_module": "@jupyter-widgets/controls",
      "model_module_version": "1.5.0",
      "model_name": "TextModel",
      "state": {
       "continuous_update": false,
       "description": "Group:",
       "layout": "IPY_MODEL_1334b2a9acaf48a9817c3d278af52448",
       "style": "IPY_MODEL_5ec9682dfd2c4a6b9e63d0bea3973341",
       "value": "Edges"
      }
     },
     "e87220ac06ee4e0995358eb394cae255": {
      "model_module": "@jupyter-widgets/base",
      "model_module_version": "1.2.0",
      "model_name": "LayoutModel",
      "state": {}
     },
     "e8c2ad99bfa043a3a1004a73dffed767": {
      "model_module": "@jupyter-widgets/controls",
      "model_module_version": "1.5.0",
      "model_name": "DescriptionStyleModel",
      "state": {
       "description_width": ""
      }
     },
     "e9137141c1204ab0b12f366bac78f06a": {
      "model_module": "@jupyter-widgets/base",
      "model_module_version": "1.2.0",
      "model_name": "LayoutModel",
      "state": {}
     },
     "e91f28b7d52b408d8cea8086afd29b5e": {
      "model_module": "@jupyter-widgets/base",
      "model_module_version": "1.2.0",
      "model_name": "LayoutModel",
      "state": {}
     },
     "ea3d424e63a345d3b3930e89d7e911c1": {
      "model_module": "@jupyter-widgets/controls",
      "model_module_version": "1.5.0",
      "model_name": "DescriptionStyleModel",
      "state": {
       "description_width": ""
      }
     },
     "eacf75eb2d1d4e689e3e32a807fea0e5": {
      "model_module": "@jupyter-widgets/controls",
      "model_module_version": "1.5.0",
      "model_name": "SliderStyleModel",
      "state": {
       "description_width": "initial"
      }
     },
     "eb2e8ae3078e44b0bc90623af66f1fe0": {
      "model_module": "@jupyter-widgets/controls",
      "model_module_version": "1.5.0",
      "model_name": "LabelModel",
      "state": {
       "layout": "IPY_MODEL_ebdbc1e5602a4c0f8263bd4fe164b069",
       "style": "IPY_MODEL_ea3d424e63a345d3b3930e89d7e911c1",
       "value": "Data Count: 6970"
      }
     },
     "ebdbc1e5602a4c0f8263bd4fe164b069": {
      "model_module": "@jupyter-widgets/base",
      "model_module_version": "1.2.0",
      "model_name": "LayoutModel",
      "state": {}
     },
     "ed53f5933e6f4a5ab564e96c7812c68d": {
      "model_module": "@jupyter-widgets/controls",
      "model_module_version": "1.5.0",
      "model_name": "IntSliderModel",
      "state": {
       "continuous_update": false,
       "description": "Line Length",
       "layout": "IPY_MODEL_76f6c88103fe481e8e801b592f4bc3dd",
       "min": 1,
       "style": "IPY_MODEL_027755b2e1694c0f837d659ea55f9fa7",
       "value": 1
      }
     },
     "ef174781a1d94dd29989205f77f6ba2b": {
      "model_module": "@jupyter-widgets/base",
      "model_module_version": "1.2.0",
      "model_name": "LayoutModel",
      "state": {
       "width": "auto"
      }
     },
     "ef409932011e447693b617e16bb64f45": {
      "model_module": "@jupyter-widgets/controls",
      "model_module_version": "1.5.0",
      "model_name": "DescriptionStyleModel",
      "state": {
       "description_width": "initial"
      }
     },
     "ef9515137e5c40eaa95a3c434314977a": {
      "model_module": "@jupyter-widgets/controls",
      "model_module_version": "1.5.0",
      "model_name": "DescriptionStyleModel",
      "state": {
       "description_width": ""
      }
     },
     "efc070757fcb49138e505f04d1f1344c": {
      "model_module": "@jupyter-widgets/base",
      "model_module_version": "1.2.0",
      "model_name": "LayoutModel",
      "state": {
       "width": "auto"
      }
     },
     "f02f85e7ee314ae2b66551501cc629cc": {
      "model_module": "@jupyter-widgets/controls",
      "model_module_version": "1.5.0",
      "model_name": "VBoxModel",
      "state": {
       "children": [
        "IPY_MODEL_43af204491d045ff85695de23afc491c",
        "IPY_MODEL_4bc997499cdb40929ae203a51664a5d8",
        "IPY_MODEL_0aff56d9305647f1af50c5893e702ccf",
        "IPY_MODEL_051cfa6df59549ea9794498e7f9983d1",
        "IPY_MODEL_af878db1d1614714945890ed5b61e415"
       ],
       "layout": "IPY_MODEL_965c2acac78949b0901827f048406bb9"
      }
     },
     "f29d540351214b8bb3f7f2cc2651a835": {
      "model_module": "@jupyter-widgets/controls",
      "model_module_version": "1.5.0",
      "model_name": "FloatSliderModel",
      "state": {
       "continuous_update": false,
       "description": "Easting",
       "layout": "IPY_MODEL_1f77167c6d96488a8d0932d920ccd2be",
       "max": 319967.7557301139,
       "min": 311165.14860383794,
       "step": 10,
       "style": "IPY_MODEL_811a061f833c4776a44d6df6b940396c",
       "value": 315566.45216697594
      }
     },
     "f30f4ad20731465db207167e759cff94": {
      "model_module": "@jupyter-widgets/controls",
      "model_module_version": "1.5.0",
      "model_name": "VBoxModel",
      "state": {
       "children": [
        "IPY_MODEL_9077bb769a3849e494545eac0ea0e3c6",
        "IPY_MODEL_27bd0087978b4805a92f6b6abebcc97b"
       ],
       "layout": "IPY_MODEL_59987d76cdf74952ba4d88e68f1a88e9"
      }
     },
     "f33274e7f0ef49fd8186c0651ae9340d": {
      "model_module": "@jupyter-widgets/controls",
      "model_module_version": "1.5.0",
      "model_name": "DescriptionStyleModel",
      "state": {
       "description_width": "initial"
      }
     },
     "f48a09d42056428fa8b80cd25adf21dd": {
      "model_module": "@jupyter-widgets/controls",
      "model_module_version": "1.5.0",
      "model_name": "FloatSliderModel",
      "state": {
       "continuous_update": false,
       "description": "Sigma",
       "layout": "IPY_MODEL_e74df740b223422e990b30bf2bae7e29",
       "max": 10,
       "step": 0.1,
       "style": "IPY_MODEL_eacf75eb2d1d4e689e3e32a807fea0e5",
       "value": 0.5
      }
     },
     "f5c546d5c6ac49a9b02723ae09e731b7": {
      "model_module": "@jupyter-widgets/base",
      "model_module_version": "1.2.0",
      "model_name": "LayoutModel",
      "state": {}
     },
     "f6050124cd9c4419bc16bbbdf3d98f82": {
      "model_module": "@jupyter-widgets/controls",
      "model_module_version": "1.5.0",
      "model_name": "FloatSliderModel",
      "state": {
       "continuous_update": false,
       "description": "Northing",
       "layout": "IPY_MODEL_96e949d092454f7a95da47f9f9c79795",
       "max": 6077578.83861151,
       "min": 6063956.600608527,
       "orientation": "vertical",
       "step": 10,
       "style": "IPY_MODEL_c26763d957084848860fe11a0b99981d",
       "value": 6070767.719610019
      }
     },
     "f77c94deb41240dda15f5113fdd2b80a": {
      "model_module": "@jupyter-widgets/controls",
      "model_module_version": "1.5.0",
      "model_name": "HTMLModel",
      "state": {
       "layout": "IPY_MODEL_8f44adc797b04ab0b46bd03e62df0468",
       "style": "IPY_MODEL_1f90f1a08c6543e3824043d69a764a96"
      }
     },
     "fa9d910aa4bb45e9bf12453d890314a8": {
      "model_module": "@jupyter-widgets/controls",
      "model_module_version": "1.5.0",
      "model_name": "HTMLModel",
      "state": {
       "layout": "IPY_MODEL_5b32d4483ec54ff89ce5ce86fd381339",
       "style": "IPY_MODEL_642a8e54714f472f88cbc0c838afcf20"
      }
     },
     "faab92b9dd6c4845ae45f2d326b0de6f": {
      "model_module": "@jupyter-widgets/base",
      "model_module_version": "1.2.0",
      "model_name": "LayoutModel",
      "state": {
       "width": "auto"
      }
     },
     "fab55a34a73648f79ab383706801824c": {
      "model_module": "@jupyter-widgets/base",
      "model_module_version": "1.2.0",
      "model_name": "LayoutModel",
      "state": {}
     },
     "fad51e57e55b4713a458a5f10f8a88ab": {
      "model_module": "@jupyter-widgets/controls",
      "model_module_version": "1.5.0",
      "model_name": "VBoxModel",
      "state": {
       "children": [
        "IPY_MODEL_3dc7984e39b7445285ccf3342aca08db",
        "IPY_MODEL_0b95678e4dc746ffbc51b98644e73375",
        "IPY_MODEL_863901cd806c4450873f66a59ee05dd3",
        "IPY_MODEL_e34b07d4fff5489ba1ed0351b4034bc4",
        "IPY_MODEL_dd13c80be1d844d0babe29250af6c254",
        "IPY_MODEL_b10e292a031349cda46bad01a6a9ddd6",
        "IPY_MODEL_63c9b2cfdc794412944c859fc619754a",
        "IPY_MODEL_5e458e6358fd44d3a427d9a21209a458"
       ],
       "layout": "IPY_MODEL_233a6fb7c19144ae923d8522871e0e4f"
      }
     },
     "fba9e637b1a6405cb16a0ff7ad8dfe53": {
      "model_module": "@jupyter-widgets/base",
      "model_module_version": "1.2.0",
      "model_name": "LayoutModel",
      "state": {}
     },
     "fe57a847160641a8b704837738af30cb": {
      "model_module": "@jupyter-widgets/controls",
      "model_module_version": "1.5.0",
      "model_name": "VBoxModel",
      "state": {
       "children": [
        "IPY_MODEL_7f0ca6432a624d1e9e4f58c85fa9ed84",
        "IPY_MODEL_7be5e94ecefa4e8a92e309b595d64967"
       ],
       "layout": "IPY_MODEL_d639041fb93e4762b1e70bfec4bc84fa"
      }
     },
     "fe7abe1f87234835896ef93a7e110e15": {
      "model_module": "@jupyter-widgets/controls",
      "model_module_version": "1.5.0",
      "model_name": "DescriptionStyleModel",
      "state": {
       "description_width": ""
      }
     },
     "ff7b4ccddea14ddb8f1c019e935baea9": {
      "model_module": "@jupyter-widgets/base",
      "model_module_version": "1.2.0",
      "model_name": "LayoutModel",
      "state": {}
     }
    },
    "version_major": 2,
    "version_minor": 0
   }
  }
 },
 "nbformat": 4,
 "nbformat_minor": 5
}

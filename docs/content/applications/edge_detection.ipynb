{
 "cells": [
  {
   "cell_type": "markdown",
   "id": "quick-depression",
   "metadata": {},
   "source": [
    "# Edge Detection\n",
    "\n",
    "With this application, users can create lines along edges (lineaments) from gridded data in a\n",
    "semi-automated fashion. The application uses machine vision algorithms from the [Scikit-Image](https://scikit-image.org/) open-source package.\n",
    "\n",
    "- Currently available for Grid2D objects.\n",
    "- Edges can be exported to [Geoscience ANALYST](https://mirageoscience.com/mining-industry-software/geoscience-analyst/) for viewing and editing.\n",
    "- See the [Methodology](#Methodology) section for algorithmic details\n",
    "\n",
    "[Video tutorial available on Youtube](https://youtu.be/Lpn3xA7xlBs)\n",
    "\n",
    "  <img align=\"right\" width=\"50%\" src=\"./images/edge_detection_app.png\">\n",
    "\n",
    "\n",
    "New user? Visit the [Getting Started](../installation.rst) page."
   ]
  },
  {
   "cell_type": "markdown",
   "id": "instant-providence",
   "metadata": {},
   "source": [
    "## Application\n",
    "The following sections provide details on the different parameters controlling the application. Interactive widgets shown below are for demonstration purposes only."
   ]
  },
  {
   "cell_type": "code",
   "execution_count": 1,
   "id": "grand-monkey",
   "metadata": {
    "scrolled": false
   },
   "outputs": [
    {
     "data": {
      "application/vnd.jupyter.widget-view+json": {
       "model_id": "178e3d5543ed48658e4f93756350b39f",
       "version_major": 2,
       "version_minor": 0
      },
      "text/plain": [
       "VBox(children=(VBox(children=(Label(value='Workspace', style=DescriptionStyle(description_width='initial')), H…"
      ]
     },
     "metadata": {},
     "output_type": "display_data"
    }
   ],
   "source": [
    "from geoapps.processing import EdgeDetectionApp\n",
    "\n",
    "app = EdgeDetectionApp(h5file=r\"../../../assets/FlinFlon.geoh5\")\n",
    "app.main"
   ]
  },
  {
   "cell_type": "markdown",
   "id": "bibliographic-nitrogen",
   "metadata": {},
   "source": [
    "## Project Selection\n",
    "\n",
    "Select and connect to an existing **geoh5** project file containing data. "
   ]
  },
  {
   "cell_type": "code",
   "execution_count": 2,
   "id": "vertical-integrity",
   "metadata": {
    "scrolled": true
   },
   "outputs": [
    {
     "data": {
      "application/vnd.jupyter.widget-view+json": {
       "model_id": "7f0ca6432a624d1e9e4f58c85fa9ed84",
       "version_major": 2,
       "version_minor": 0
      },
      "text/plain": [
       "VBox(children=(Label(value='Workspace', style=DescriptionStyle(description_width='initial')), HBox(children=(F…"
      ]
     },
     "metadata": {},
     "output_type": "display_data"
    }
   ],
   "source": [
    "app.project_panel"
   ]
  },
  {
   "cell_type": "markdown",
   "id": "faced-junior",
   "metadata": {},
   "source": [
    "See the [Project Panel](base_application.ipynb#Project-Panel) page for more details."
   ]
  },
  {
   "cell_type": "markdown",
   "id": "hungry-shape",
   "metadata": {},
   "source": [
    "## Input Data\n",
    "\n",
    "### Object and Data Selection\n",
    "\n",
    "List of `Grid2D` objects available in the target `geoh5` project. "
   ]
  },
  {
   "cell_type": "code",
   "execution_count": 3,
   "id": "unknown-telephone",
   "metadata": {
    "scrolled": true
   },
   "outputs": [
    {
     "data": {
      "application/vnd.jupyter.widget-view+json": {
       "model_id": "adbe97017a2144b8a31697fbc73a0767",
       "version_major": 2,
       "version_minor": 0
      },
      "text/plain": [
       "VBox(children=(Dropdown(description='Object:', index=2, options=('', 'Gravity_Magnetics_drape60mEPSG_4326', 'G…"
      ]
     },
     "metadata": {},
     "output_type": "display_data"
    }
   ],
   "source": [
    "app.data_panel"
   ]
  },
  {
   "cell_type": "markdown",
   "id": "crude-profit",
   "metadata": {},
   "source": [
    "### Window selection\n",
    "\n",
    "Select a subset of the input `Grid2D`."
   ]
  },
  {
   "cell_type": "code",
   "execution_count": 4,
   "id": "marked-thong",
   "metadata": {},
   "outputs": [
    {
     "data": {
      "application/vnd.jupyter.widget-view+json": {
       "model_id": "a8ae4d753a774e3e875591e66aabdfd5",
       "version_major": 2,
       "version_minor": 0
      },
      "text/plain": [
       "VBox(children=(VBox(children=(FloatText(value=50.0, description='Grid Resolution (m)', style=DescriptionStyle(…"
      ]
     },
     "metadata": {},
     "output_type": "display_data"
    }
   ],
   "source": [
    "app.window_selection"
   ]
  },
  {
   "cell_type": "markdown",
   "id": "latest-governor",
   "metadata": {},
   "source": [
    "See the [Map View Selection](view_selection.ipynb#Map-View-Selection) page for more details."
   ]
  },
  {
   "cell_type": "markdown",
   "id": "vocational-subscriber",
   "metadata": {},
   "source": [
    "## Canny Edge Parameters\n",
    "\n",
    "Parameters controling the [Scikit-Image.feature.Canny](https://scikit-image.org/docs/dev/auto_examples/edges/plot_canny.html#sphx-glr-auto-examples-edges-plot-canny-py) edge detection routine."
   ]
  },
  {
   "cell_type": "markdown",
   "id": "respected-linux",
   "metadata": {},
   "source": [
    "### Sigma\n",
    "\n",
    "Standard deviation of the Gaussian filter used in the Canny algorithm."
   ]
  },
  {
   "cell_type": "code",
   "execution_count": 5,
   "id": "equipped-correction",
   "metadata": {},
   "outputs": [
    {
     "data": {
      "application/vnd.jupyter.widget-view+json": {
       "model_id": "f48a09d42056428fa8b80cd25adf21dd",
       "version_major": 2,
       "version_minor": 0
      },
      "text/plain": [
       "FloatSlider(value=0.5, continuous_update=False, description='Sigma', max=10.0, style=SliderStyle(description_w…"
      ]
     },
     "metadata": {},
     "output_type": "display_data"
    }
   ],
   "source": [
    "app.sigma"
   ]
  },
  {
   "cell_type": "markdown",
   "id": "indirect-fossil",
   "metadata": {},
   "source": [
    "## Hough Line Parameters\n",
    "\n",
    "Parameters controling the [Scikit-Image.transform.probabilistic_hough_line](https://scikit-image.org/docs/dev/api/skimage.transform.html#probabilistic-hough-line) routine."
   ]
  },
  {
   "cell_type": "markdown",
   "id": "ordered-eagle",
   "metadata": {},
   "source": [
    "### Threshold\n",
    "\n",
    "Detection threshold"
   ]
  },
  {
   "cell_type": "code",
   "execution_count": 6,
   "id": "external-sheriff",
   "metadata": {},
   "outputs": [
    {
     "data": {
      "application/vnd.jupyter.widget-view+json": {
       "model_id": "07580d6e85784fc7b20b507f2082b40a",
       "version_major": 2,
       "version_minor": 0
      },
      "text/plain": [
       "IntSlider(value=1, continuous_update=False, description='Threshold', min=1)"
      ]
     },
     "metadata": {},
     "output_type": "display_data"
    }
   ],
   "source": [
    "app.threshold"
   ]
  },
  {
   "cell_type": "markdown",
   "id": "temporal-release",
   "metadata": {},
   "source": [
    "### Line Length\n",
    "\n",
    "Filter for the minimum length (pixels) of detected lines."
   ]
  },
  {
   "cell_type": "code",
   "execution_count": 7,
   "id": "executive-branch",
   "metadata": {},
   "outputs": [
    {
     "data": {
      "application/vnd.jupyter.widget-view+json": {
       "model_id": "ed53f5933e6f4a5ab564e96c7812c68d",
       "version_major": 2,
       "version_minor": 0
      },
      "text/plain": [
       "IntSlider(value=1, continuous_update=False, description='Line Length', min=1)"
      ]
     },
     "metadata": {},
     "output_type": "display_data"
    }
   ],
   "source": [
    "app.line_length"
   ]
  },
  {
   "cell_type": "markdown",
   "id": "legal-antique",
   "metadata": {},
   "source": [
    "### Line Gap\n",
    "\n",
    "Maximum gap between pixels to still form a line."
   ]
  },
  {
   "cell_type": "code",
   "execution_count": 8,
   "id": "favorite-tonight",
   "metadata": {},
   "outputs": [
    {
     "data": {
      "application/vnd.jupyter.widget-view+json": {
       "model_id": "797fa7a396d6451188e598aa0ead395a",
       "version_major": 2,
       "version_minor": 0
      },
      "text/plain": [
       "IntSlider(value=1, continuous_update=False, description='Line Gap', min=1)"
      ]
     },
     "metadata": {},
     "output_type": "display_data"
    }
   ],
   "source": [
    "app.line_gap"
   ]
  },
  {
   "cell_type": "markdown",
   "id": "geographic-rings",
   "metadata": {},
   "source": [
    "## Window size\n",
    "\n",
    "Window size (square) used for the tiling of the data (see the [Methodology](#Methodology) section)"
   ]
  },
  {
   "cell_type": "code",
   "execution_count": 9,
   "id": "urban-typing",
   "metadata": {},
   "outputs": [
    {
     "data": {
      "application/vnd.jupyter.widget-view+json": {
       "model_id": "d622904523d041ffa4b635b162bbca12",
       "version_major": 2,
       "version_minor": 0
      },
      "text/plain": [
       "IntSlider(value=64, continuous_update=False, description='Window size', max=512, min=16)"
      ]
     },
     "metadata": {},
     "output_type": "display_data"
    }
   ],
   "source": [
    "app.window_size"
   ]
  },
  {
   "cell_type": "markdown",
   "id": "cathedral-cleaners",
   "metadata": {},
   "source": [
    "## Output Panel\n",
    "\n",
    "Trigger the computation routine and store the result."
   ]
  },
  {
   "cell_type": "code",
   "execution_count": 10,
   "id": "insured-drama",
   "metadata": {
    "scrolled": false
   },
   "outputs": [
    {
     "data": {
      "application/vnd.jupyter.widget-view+json": {
       "model_id": "7be5e94ecefa4e8a92e309b595d64967",
       "version_major": 2,
       "version_minor": 0
      },
      "text/plain": [
       "VBox(children=(VBox(children=(Button(button_style='success', description='Save to GA', icon='check', style=But…"
      ]
     },
     "metadata": {},
     "output_type": "display_data"
    }
   ],
   "source": [
    "app.output_panel"
   ]
  },
  {
   "cell_type": "markdown",
   "id": "secondary-kidney",
   "metadata": {},
   "source": [
    "See the [Output Panel](base_application.ipynb#Output-Panel) page for more details."
   ]
  },
  {
   "cell_type": "markdown",
   "id": "variable-ethnic",
   "metadata": {},
   "source": [
    "## Methodology\n",
    "\n",
    "The conversion from raster data to lines involves the following four main processing steps.\n",
    "\n",
    "<img align=\"center\" width=\"50%\" src=\"./images/edge_detection_algo.png\">\n",
    "\n",
    "1. The selected gridded data are normalized between [0, 1]\n",
    "\n",
    "2. Normalized values are processed with the [Canny](#Canny-Parameters) edge detection algorithm.\n",
    "\n",
    "3. The full grid is sub-divided into overlapping square tiles defined by the\n",
    "   [window size](#Window-size) parameter. Tiling is used to speed up computations and reduce\n",
    "   skews in the Hough line parametrization observed on grids with small aspect ratios.\n",
    "\n",
    "4. For each tile, edges are converted to a line parametric form using the [Hough Line Transform](#Hough-Line-Parameters).\n"
   ]
  },
  {
   "cell_type": "markdown",
   "id": "explicit-aquarium",
   "metadata": {},
   "source": [
    "Need help? Contact us at support@mirageoscience.com"
   ]
  },
  {
   "cell_type": "code",
   "execution_count": 11,
   "id": "centered-permit",
   "metadata": {
    "nbsphinx": "hidden"
   },
   "outputs": [],
   "source": [
    "import matplotlib.pyplot as plt\n",
    "app.figure.savefig(\"images/edge_detection_thumbnail.png\", dpi=300, bbox_inches=\"tight\")"
   ]
  }
 ],
 "metadata": {
  "kernelspec": {
   "display_name": "Python 3",
   "language": "python",
   "name": "python3"
  },
  "language_info": {
   "codemirror_mode": {
    "name": "ipython",
    "version": 3
   },
   "file_extension": ".py",
   "mimetype": "text/x-python",
   "name": "python",
   "nbconvert_exporter": "python",
   "pygments_lexer": "ipython3",
   "version": "3.9.4"
  },
  "widgets": {
   "application/vnd.jupyter.widget-state+json": {
    "state": {
     "009c7c7f9fde4e578e3383d8947aad0a": {
      "model_module": "@jupyter-widgets/controls",
      "model_module_version": "1.5.0",
      "model_name": "HBoxModel",
      "state": {
       "children": [
        "IPY_MODEL_11b1cb4bf877435cad6b21b8d3d71003",
        "IPY_MODEL_37e161de27984f63bb7eafb2670f824f",
        "IPY_MODEL_f02f85e7ee314ae2b66551501cc629cc"
       ],
       "layout": "IPY_MODEL_38261ba470c34bb882c19d965d4f74d4"
      }
     },
     "02217e8fc28c4ec782a0ce62d9c53cbc": {
      "model_module": "@jupyter-widgets/base",
      "model_module_version": "1.2.0",
      "model_name": "LayoutModel",
      "state": {}
     },
     "025795f0b07447dba346c24b7ea9271a": {
      "model_module": "@jupyter-widgets/controls",
      "model_module_version": "1.5.0",
      "model_name": "ButtonModel",
      "state": {
       "description": "Create copy:",
       "layout": "IPY_MODEL_02217e8fc28c4ec782a0ce62d9c53cbc",
       "style": "IPY_MODEL_6b8476d99396412b9dddcd4facd0019b"
      }
     },
     "027755b2e1694c0f837d659ea55f9fa7": {
      "model_module": "@jupyter-widgets/controls",
      "model_module_version": "1.5.0",
      "model_name": "SliderStyleModel",
      "state": {
       "description_width": ""
      }
     },
     "04d52ee2f14f46af971f08f0da5d9323": {
      "model_module": "@jupyter-widgets/controls",
      "model_module_version": "1.5.0",
      "model_name": "SelectModel",
      "state": {
       "_options_labels": [
        "..",
        "Temp",
        "FlinFlon.geoh5",
        "Inversion_.json",
        "MtDore_TMI.geoh5"
       ],
       "index": 2,
       "layout": "IPY_MODEL_afe763e217514bdd863a431452e0848d",
       "rows": 8,
       "style": "IPY_MODEL_e76ca0d8f7ee42adaa591b802340c19d"
      }
     },
     "051cfa6df59549ea9794498e7f9983d1": {
      "model_module": "@jupyter-widgets/controls",
      "model_module_version": "1.5.0",
      "model_name": "FloatSliderModel",
      "state": {
       "continuous_update": false,
       "description": "Azimuth",
       "layout": "IPY_MODEL_12cce50a9e554d60b026637a099c45c3",
       "max": 90,
       "min": -90,
       "step": 5,
       "style": "IPY_MODEL_c4237d52418641f2af88ec3ccd33499f"
      }
     },
     "0526bf2b4dcd408c9a9cf715940fd4ec": {
      "model_module": "@jupyter-widgets/controls",
      "model_module_version": "1.5.0",
      "model_name": "DescriptionStyleModel",
      "state": {
       "description_width": ""
      }
     },
     "062d9ecb66f74b1ebee5687eff5f9672": {
      "model_module": "@jupyter-widgets/controls",
      "model_module_version": "1.5.0",
      "model_name": "VBoxModel",
      "state": {
       "children": [
        "IPY_MODEL_7d840638dd8e4cb3837d7a95bcbe6696"
       ],
       "layout": "IPY_MODEL_39e69fd99c2349f58d42dbc7a8002dee"
      }
     },
     "07580d6e85784fc7b20b507f2082b40a": {
      "model_module": "@jupyter-widgets/controls",
      "model_module_version": "1.5.0",
      "model_name": "IntSliderModel",
      "state": {
       "continuous_update": false,
       "description": "Threshold",
       "layout": "IPY_MODEL_d2c85721e7c14ec5b8c772846a81e23a",
       "min": 1,
       "style": "IPY_MODEL_0ce0d5b46b1a4777ae135d14b67c0709",
       "value": 1
      }
     },
     "0a0e75b0582842f485c4053aa19bf8fc": {
      "model_module": "@jupyter-widgets/controls",
      "model_module_version": "1.5.0",
      "model_name": "VBoxModel",
      "state": {
       "children": [
        "IPY_MODEL_f48a09d42056428fa8b80cd25adf21dd",
        "IPY_MODEL_07580d6e85784fc7b20b507f2082b40a",
        "IPY_MODEL_ed53f5933e6f4a5ab564e96c7812c68d",
        "IPY_MODEL_797fa7a396d6451188e598aa0ead395a",
        "IPY_MODEL_d622904523d041ffa4b635b162bbca12",
        "IPY_MODEL_892bb7fe45fb4d91a9c7c438d824452d",
        "IPY_MODEL_dbb24051fbb3490d8481ce2491874bc8",
        "IPY_MODEL_7be5e94ecefa4e8a92e309b595d64967"
       ],
       "layout": "IPY_MODEL_cd2927cc5e354daa9aaef0b822a1658b"
      }
     },
     "0aff56d9305647f1af50c5893e702ccf": {
      "model_module": "@jupyter-widgets/output",
      "model_module_version": "1.0.0",
      "model_name": "OutputModel",
      "state": {
       "layout": "IPY_MODEL_b643145fdbe74defa542bfce6702ba60",
       "outputs": [
        {
         "data": {
          "image/png": "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\n",
          "text/plain": "<Figure size 720x720 with 1 Axes>"
         },
         "metadata": {
          "needs_background": "light"
         },
         "output_type": "display_data"
        }
       ]
      }
     },
     "0b7ad01eb27240aeba060dd5748d3f2a": {
      "model_module": "@jupyter-widgets/controls",
      "model_module_version": "1.5.0",
      "model_name": "DescriptionStyleModel",
      "state": {
       "description_width": ""
      }
     },
     "0ce0d5b46b1a4777ae135d14b67c0709": {
      "model_module": "@jupyter-widgets/controls",
      "model_module_version": "1.5.0",
      "model_name": "SliderStyleModel",
      "state": {
       "description_width": ""
      }
     },
     "0ce868ce5a9e44feb6ee0e7dc839b9b3": {
      "model_module": "@jupyter-widgets/controls",
      "model_module_version": "1.5.0",
      "model_name": "SliderStyleModel",
      "state": {
       "description_width": ""
      }
     },
     "1056b418c2884756a18bcbb396b6254c": {
      "model_module": "@jupyter-widgets/base",
      "model_module_version": "1.2.0",
      "model_name": "LayoutModel",
      "state": {}
     },
     "106b28c1b02b435e9fcec28e957e9054": {
      "model_module": "@jupyter-widgets/base",
      "model_module_version": "1.2.0",
      "model_name": "LayoutModel",
      "state": {
       "width": "auto"
      }
     },
     "11b1cb4bf877435cad6b21b8d3d71003": {
      "model_module": "@jupyter-widgets/controls",
      "model_module_version": "1.5.0",
      "model_name": "FloatSliderModel",
      "state": {
       "continuous_update": false,
       "description": "Northing",
       "layout": "IPY_MODEL_6b8b10f3a5004f4b87ba53de7e40f679",
       "max": 6076443.652111261,
       "min": 6065091.787108775,
       "orientation": "vertical",
       "step": 10,
       "style": "IPY_MODEL_b4d2389e07ae40539b34ff1f1f64e563",
       "value": 6070767.719610019
      }
     },
     "12cce50a9e554d60b026637a099c45c3": {
      "model_module": "@jupyter-widgets/base",
      "model_module_version": "1.2.0",
      "model_name": "LayoutModel",
      "state": {}
     },
     "1334b2a9acaf48a9817c3d278af52448": {
      "model_module": "@jupyter-widgets/base",
      "model_module_version": "1.2.0",
      "model_name": "LayoutModel",
      "state": {}
     },
     "14b44906792c4d48b057512b8825d7d3": {
      "model_module": "@jupyter-widgets/base",
      "model_module_version": "1.2.0",
      "model_name": "LayoutModel",
      "state": {
       "width": "auto"
      }
     },
     "15fbed8e97d94590ba1696aee8e41bb0": {
      "model_module": "@jupyter-widgets/controls",
      "model_module_version": "1.5.0",
      "model_name": "DescriptionStyleModel",
      "state": {
       "description_width": ""
      }
     },
     "16ba8dd5393c4b4abcf305f22b51e9d3": {
      "model_module": "@jupyter-widgets/base",
      "model_module_version": "1.2.0",
      "model_name": "LayoutModel",
      "state": {}
     },
     "1746e83d23264287b1b303b83ffda99f": {
      "model_module": "@jupyter-widgets/base",
      "model_module_version": "1.2.0",
      "model_name": "LayoutModel",
      "state": {}
     },
     "174a96227d2d470f9d821413e8fa65e7": {
      "model_module": "@jupyter-widgets/controls",
      "model_module_version": "1.5.0",
      "model_name": "ButtonModel",
      "state": {
       "description": "Select",
       "layout": "IPY_MODEL_9ec5b15dabb84320b4ba4f8e9e55e277",
       "style": "IPY_MODEL_6b03a1930ae043fda94cd6cc8410235c"
      }
     },
     "178e3d5543ed48658e4f93756350b39f": {
      "model_module": "@jupyter-widgets/controls",
      "model_module_version": "1.5.0",
      "model_name": "VBoxModel",
      "state": {
       "children": [
        "IPY_MODEL_7f0ca6432a624d1e9e4f58c85fa9ed84",
        "IPY_MODEL_e2693a9e16494776b6e180461a78bbd3"
       ],
       "layout": "IPY_MODEL_e4b7dcd8a46246128a1203ef4db98a10"
      }
     },
     "17a9a0c5b5dc4e3daa49e925032c9dcd": {
      "model_module": "@jupyter-widgets/controls",
      "model_module_version": "1.5.0",
      "model_name": "SliderStyleModel",
      "state": {
       "description_width": ""
      }
     },
     "1981e9fe546945a8b8729b6bbaefec7b": {
      "model_module": "@jupyter-widgets/controls",
      "model_module_version": "1.5.0",
      "model_name": "ButtonStyleModel",
      "state": {}
     },
     "1a22fb1280d544c9851a431f4e9f8395": {
      "model_module": "@jupyter-widgets/controls",
      "model_module_version": "1.5.0",
      "model_name": "HTMLModel",
      "state": {
       "layout": "IPY_MODEL_59c534c33dbf4da1b2c57c1e44144eda",
       "placeholder": "",
       "style": "IPY_MODEL_a5557278af6743e0a45acf96dc5b60dd",
       "value": "<span style=\"margin-left:10px; color:black;\">No file selected</span>"
      }
     },
     "1adfa3e991c94c0197211e4fbda5280d": {
      "model_module": "@jupyter-widgets/controls",
      "model_module_version": "1.5.0",
      "model_name": "HBoxModel",
      "state": {
       "children": [
        "IPY_MODEL_41b1a74dc8ab4791b5e25642aba97a36",
        "IPY_MODEL_6457691893f54bc9be5b1e56aac7f220",
        "IPY_MODEL_b237c3d6d69d4cd2a02314fa847fa278"
       ],
       "layout": "IPY_MODEL_7f105783583e464da7c69043f04432fe"
      }
     },
     "1e3e27c10a1c4d46a7ed9a8a08141500": {
      "model_module": "@jupyter-widgets/base",
      "model_module_version": "1.2.0",
      "model_name": "LayoutModel",
      "state": {}
     },
     "1f90f1a08c6543e3824043d69a764a96": {
      "model_module": "@jupyter-widgets/controls",
      "model_module_version": "1.5.0",
      "model_name": "DescriptionStyleModel",
      "state": {
       "description_width": ""
      }
     },
     "1fd70edf312949a19b2198fdb526e223": {
      "model_module": "@jupyter-widgets/controls",
      "model_module_version": "1.5.0",
      "model_name": "VBoxModel",
      "state": {
       "children": [
        "IPY_MODEL_a32dce9bbbc446f487499b5bb6019c08",
        "IPY_MODEL_45a96a87adb347b68d407cbda9deb453"
       ],
       "layout": "IPY_MODEL_c129a12db4c64fc8a9969b037a2603a5"
      }
     },
     "21592b6947eb489c8713ab3e9ce52343": {
      "model_module": "@jupyter-widgets/controls",
      "model_module_version": "1.5.0",
      "model_name": "VBoxModel",
      "state": {
       "children": [
        "IPY_MODEL_4e519a34b4664e568d44bdccd6142b7c",
        "IPY_MODEL_e80ae5dbd7fd4e8db7d6b0f868a8506f"
       ],
       "layout": "IPY_MODEL_5e3e9b1545454c6889d5740b669462a3"
      }
     },
     "2391cccac2f24895a551b5c9b6580c5e": {
      "model_module": "@jupyter-widgets/base",
      "model_module_version": "1.2.0",
      "model_name": "LayoutModel",
      "state": {
       "display": "none",
       "grid_gap": "0px 0px",
       "grid_template_areas": "\n                    'pathlist filename'\n                    'dircontent dircontent'\n                    ",
       "grid_template_columns": "60% 40%",
       "grid_template_rows": "auto auto",
       "width": "500px"
      }
     },
     "23fca4b8c5b94ec6aa6129df1dbd6ddd": {
      "model_module": "@jupyter-widgets/controls",
      "model_module_version": "1.5.0",
      "model_name": "DescriptionStyleModel",
      "state": {
       "description_width": ""
      }
     },
     "26671de11340441d83cd40316c685d44": {
      "model_module": "@jupyter-widgets/controls",
      "model_module_version": "1.5.0",
      "model_name": "ButtonStyleModel",
      "state": {}
     },
     "3285bef417e94bb0aed3e73079e6dc81": {
      "model_module": "@jupyter-widgets/controls",
      "model_module_version": "1.5.0",
      "model_name": "ButtonStyleModel",
      "state": {}
     },
     "36201ada77744719a506353bd0a51bbc": {
      "model_module": "@jupyter-widgets/controls",
      "model_module_version": "1.5.0",
      "model_name": "SelectModel",
      "state": {
       "_options_labels": [
        "..",
        "dask-worker-space",
        "images"
       ],
       "index": null,
       "layout": "IPY_MODEL_5aa31bfd0d4b44db9f067555a29fbf56",
       "rows": 8,
       "style": "IPY_MODEL_23fca4b8c5b94ec6aa6129df1dbd6ddd"
      }
     },
     "372526baf3e54087950254706b5e313b": {
      "model_module": "@jupyter-widgets/controls",
      "model_module_version": "1.5.0",
      "model_name": "DescriptionStyleModel",
      "state": {
       "description_width": ""
      }
     },
     "37e161de27984f63bb7eafb2670f824f": {
      "model_module": "@jupyter-widgets/controls",
      "model_module_version": "1.5.0",
      "model_name": "FloatSliderModel",
      "state": {
       "continuous_update": false,
       "description": "Height",
       "layout": "IPY_MODEL_fab55a34a73648f79ab383706801824c",
       "max": 11351.865002485923,
       "orientation": "vertical",
       "step": 10,
       "style": "IPY_MODEL_645a388d79c04c9ab9a027c9d2037060",
       "value": 5675.932501242962
      }
     },
     "38261ba470c34bb882c19d965d4f74d4": {
      "model_module": "@jupyter-widgets/base",
      "model_module_version": "1.2.0",
      "model_name": "LayoutModel",
      "state": {
       "align_items": "center"
      }
     },
     "39e69fd99c2349f58d42dbc7a8002dee": {
      "model_module": "@jupyter-widgets/base",
      "model_module_version": "1.2.0",
      "model_name": "LayoutModel",
      "state": {}
     },
     "3a56c86797444c0fac7e0035e460ed71": {
      "model_module": "@jupyter-widgets/controls",
      "model_module_version": "1.5.0",
      "model_name": "DropdownModel",
      "state": {
       "_options_labels": [
        "C:\\Users\\dominiquef\\Documents\\GIT\\mira\\mirageoscience-apps\\assets",
        "C:\\Users\\dominiquef\\Documents\\GIT\\mira\\mirageoscience-apps",
        "C:\\Users\\dominiquef\\Documents\\GIT\\mira",
        "C:\\Users\\dominiquef\\Documents\\GIT",
        "C:\\Users\\dominiquef\\Documents",
        "C:\\Users\\dominiquef",
        "C:\\Users",
        "C:\\",
        "D:\\",
        "Z:\\"
       ],
       "index": 0,
       "layout": "IPY_MODEL_a9f4ebb25c2d4e6395c66d38ca0422f1",
       "style": "IPY_MODEL_15fbed8e97d94590ba1696aee8e41bb0"
      }
     },
     "406945de057344649f0061134d1f4290": {
      "model_module": "@jupyter-widgets/controls",
      "model_module_version": "1.5.0",
      "model_name": "VBoxModel",
      "state": {
       "children": [
        "IPY_MODEL_c77fd1f39cdb42579897643735e72410",
        "IPY_MODEL_bf6023bcb44b40cfb1b8482255025639",
        "IPY_MODEL_8a6241c286204920b9d87641274f1fca"
       ],
       "layout": "IPY_MODEL_14b44906792c4d48b057512b8825d7d3"
      }
     },
     "41b1a74dc8ab4791b5e25642aba97a36": {
      "model_module": "@jupyter-widgets/controls",
      "model_module_version": "1.5.0",
      "model_name": "ButtonModel",
      "state": {
       "description": "Change",
       "layout": "IPY_MODEL_ce0ca7e548274437aec37b32429c9ca0",
       "style": "IPY_MODEL_1981e9fe546945a8b8729b6bbaefec7b"
      }
     },
     "42112be459d74a95a47d607e9729503c": {
      "model_module": "@jupyter-widgets/base",
      "model_module_version": "1.2.0",
      "model_name": "LayoutModel",
      "state": {}
     },
     "43af204491d045ff85695de23afc491c": {
      "model_module": "@jupyter-widgets/controls",
      "model_module_version": "1.5.0",
      "model_name": "FloatSliderModel",
      "state": {
       "continuous_update": false,
       "description": "Width",
       "layout": "IPY_MODEL_df4fee8ef4994df0871adc9e1e15c0c4",
       "max": 7335.505938563321,
       "step": 10,
       "style": "IPY_MODEL_0ce868ce5a9e44feb6ee0e7dc839b9b3",
       "value": 3667.7529692816606
      }
     },
     "459513feee9a45d7a9ff2022574f2423": {
      "model_module": "@jupyter-widgets/controls",
      "model_module_version": "1.5.0",
      "model_name": "DescriptionStyleModel",
      "state": {
       "description_width": "initial"
      }
     },
     "45a96a87adb347b68d407cbda9deb453": {
      "model_module": "@jupyter-widgets/controls",
      "model_module_version": "1.5.0",
      "model_name": "LabelModel",
      "state": {
       "layout": "IPY_MODEL_16ba8dd5393c4b4abcf305f22b51e9d3",
       "style": "IPY_MODEL_5a77ed191c5846e6b3886864fefc5937",
       "value": "Data Count: 5341"
      }
     },
     "48726ec441ce4cb49291a5165eb74168": {
      "model_module": "@jupyter-widgets/base",
      "model_module_version": "1.2.0",
      "model_name": "LayoutModel",
      "state": {}
     },
     "4bc997499cdb40929ae203a51664a5d8": {
      "model_module": "@jupyter-widgets/controls",
      "model_module_version": "1.5.0",
      "model_name": "FloatSliderModel",
      "state": {
       "continuous_update": false,
       "description": "Easting",
       "layout": "IPY_MODEL_1746e83d23264287b1b303b83ffda99f",
       "max": 319234.2051362576,
       "min": 311898.69919769425,
       "step": 10,
       "style": "IPY_MODEL_96ef1e26f33842ada9552cd7d0e6b56f",
       "value": 315566.45216697594
      }
     },
     "4de28d2255eb459a9a41dd6e081dd7c4": {
      "model_module": "@jupyter-widgets/controls",
      "model_module_version": "1.5.0",
      "model_name": "DescriptionStyleModel",
      "state": {
       "description_width": ""
      }
     },
     "4df7ac33b64743df9c14d47c47e894fd": {
      "model_module": "@jupyter-widgets/base",
      "model_module_version": "1.2.0",
      "model_name": "LayoutModel",
      "state": {}
     },
     "4e519a34b4664e568d44bdccd6142b7c": {
      "model_module": "@jupyter-widgets/controls",
      "model_module_version": "1.5.0",
      "model_name": "ButtonModel",
      "state": {
       "button_style": "success",
       "description": "Save to GA",
       "icon": "check",
       "layout": "IPY_MODEL_e9137141c1204ab0b12f366bac78f06a",
       "style": "IPY_MODEL_3285bef417e94bb0aed3e73079e6dc81",
       "tooltip": "Run computation"
      }
     },
     "506645e59b7143129aa3b95c4ffcc4ed": {
      "model_module": "@jupyter-widgets/base",
      "model_module_version": "1.2.0",
      "model_name": "LayoutModel",
      "state": {}
     },
     "52baef05d584464a8fbe895f8e15569c": {
      "model_module": "@jupyter-widgets/base",
      "model_module_version": "1.2.0",
      "model_name": "LayoutModel",
      "state": {
       "display": "none",
       "grid_gap": "0px 0px",
       "grid_template_areas": "\n                    'pathlist pathlist'\n                    'dircontent dircontent'\n                    ",
       "grid_template_columns": "60% 40%",
       "grid_template_rows": "auto auto",
       "width": "500px"
      }
     },
     "54fd6fb802524f60935b09f775a72128": {
      "model_module": "@jupyter-widgets/base",
      "model_module_version": "1.2.0",
      "model_name": "LayoutModel",
      "state": {
       "display": "none"
      }
     },
     "59c534c33dbf4da1b2c57c1e44144eda": {
      "model_module": "@jupyter-widgets/base",
      "model_module_version": "1.2.0",
      "model_name": "LayoutModel",
      "state": {}
     },
     "5a77ed191c5846e6b3886864fefc5937": {
      "model_module": "@jupyter-widgets/controls",
      "model_module_version": "1.5.0",
      "model_name": "DescriptionStyleModel",
      "state": {
       "description_width": ""
      }
     },
     "5aa31bfd0d4b44db9f067555a29fbf56": {
      "model_module": "@jupyter-widgets/base",
      "model_module_version": "1.2.0",
      "model_name": "LayoutModel",
      "state": {
       "grid_area": "dircontent",
       "width": "auto"
      }
     },
     "5c4f0d04bdf04ea49c44d9e2138352cf": {
      "model_module": "@jupyter-widgets/controls",
      "model_module_version": "1.5.0",
      "model_name": "ToggleButtonModel",
      "state": {
       "layout": "IPY_MODEL_6251427721d7420abe180dc419899138",
       "style": "IPY_MODEL_a4111093d6854a0b8ab23087664ec068",
       "value": true
      }
     },
     "5d0079966fe94a5fa8360274c2894b57": {
      "model_module": "@jupyter-widgets/base",
      "model_module_version": "1.2.0",
      "model_name": "LayoutModel",
      "state": {}
     },
     "5e3e9b1545454c6889d5740b669462a3": {
      "model_module": "@jupyter-widgets/base",
      "model_module_version": "1.2.0",
      "model_name": "LayoutModel",
      "state": {}
     },
     "5ec9682dfd2c4a6b9e63d0bea3973341": {
      "model_module": "@jupyter-widgets/controls",
      "model_module_version": "1.5.0",
      "model_name": "DescriptionStyleModel",
      "state": {
       "description_width": "initial"
      }
     },
     "6251427721d7420abe180dc419899138": {
      "model_module": "@jupyter-widgets/base",
      "model_module_version": "1.2.0",
      "model_name": "LayoutModel",
      "state": {}
     },
     "6457691893f54bc9be5b1e56aac7f220": {
      "model_module": "@jupyter-widgets/controls",
      "model_module_version": "1.5.0",
      "model_name": "ButtonModel",
      "state": {
       "description": "Cancel",
       "layout": "IPY_MODEL_7da16d9a06bb40c6829fafc88109b465",
       "style": "IPY_MODEL_d93688e330cd45f2b44f52171df99845"
      }
     },
     "645a388d79c04c9ab9a027c9d2037060": {
      "model_module": "@jupyter-widgets/controls",
      "model_module_version": "1.5.0",
      "model_name": "SliderStyleModel",
      "state": {
       "description_width": ""
      }
     },
     "6948eb195828402285498b326f1a9d37": {
      "model_module": "@jupyter-widgets/base",
      "model_module_version": "1.2.0",
      "model_name": "LayoutModel",
      "state": {}
     },
     "6b03a1930ae043fda94cd6cc8410235c": {
      "model_module": "@jupyter-widgets/controls",
      "model_module_version": "1.5.0",
      "model_name": "ButtonStyleModel",
      "state": {}
     },
     "6b8476d99396412b9dddcd4facd0019b": {
      "model_module": "@jupyter-widgets/controls",
      "model_module_version": "1.5.0",
      "model_name": "ButtonStyleModel",
      "state": {}
     },
     "6b8b10f3a5004f4b87ba53de7e40f679": {
      "model_module": "@jupyter-widgets/base",
      "model_module_version": "1.2.0",
      "model_name": "LayoutModel",
      "state": {}
     },
     "6d2e96f096074714993dae059f0985ce": {
      "model_module": "@jupyter-widgets/controls",
      "model_module_version": "1.5.0",
      "model_name": "SliderStyleModel",
      "state": {
       "description_width": ""
      }
     },
     "6d8404e0f2034601b6b8e56f5c55cd9e": {
      "model_module": "@jupyter-widgets/base",
      "model_module_version": "1.2.0",
      "model_name": "LayoutModel",
      "state": {}
     },
     "717103c080d64e61b5aecc96ee0eeeeb": {
      "model_module": "@jupyter-widgets/controls",
      "model_module_version": "1.5.0",
      "model_name": "SliderStyleModel",
      "state": {
       "description_width": ""
      }
     },
     "7299c35582db455ca6ed02eaac69b397": {
      "model_module": "@jupyter-widgets/controls",
      "model_module_version": "1.5.0",
      "model_name": "GridBoxModel",
      "state": {
       "children": [
        "IPY_MODEL_3a56c86797444c0fac7e0035e460ed71",
        "IPY_MODEL_ac462eadb0834a7d85df6e062ddbbd7c",
        "IPY_MODEL_04d52ee2f14f46af971f08f0da5d9323"
       ],
       "layout": "IPY_MODEL_2391cccac2f24895a551b5c9b6580c5e"
      }
     },
     "73324fa5b9c54e7ebc27f022292ab9e0": {
      "model_module": "@jupyter-widgets/controls",
      "model_module_version": "1.5.0",
      "model_name": "DescriptionStyleModel",
      "state": {
       "description_width": ""
      }
     },
     "76f6c88103fe481e8e801b592f4bc3dd": {
      "model_module": "@jupyter-widgets/base",
      "model_module_version": "1.2.0",
      "model_name": "LayoutModel",
      "state": {}
     },
     "775de93f2efe43689254c16316ceda44": {
      "model_module": "@jupyter-widgets/base",
      "model_module_version": "1.2.0",
      "model_name": "LayoutModel",
      "state": {}
     },
     "77697bed9c604391a639ef8cb436973b": {
      "model_module": "@jupyter-widgets/controls",
      "model_module_version": "1.5.0",
      "model_name": "DescriptionStyleModel",
      "state": {
       "description_width": "initial"
      }
     },
     "797fa7a396d6451188e598aa0ead395a": {
      "model_module": "@jupyter-widgets/controls",
      "model_module_version": "1.5.0",
      "model_name": "IntSliderModel",
      "state": {
       "continuous_update": false,
       "description": "Line Gap",
       "layout": "IPY_MODEL_9b7e84f600574a199dea6b1a42d13600",
       "min": 1,
       "style": "IPY_MODEL_717103c080d64e61b5aecc96ee0eeeeb",
       "value": 1
      }
     },
     "7a446d5deea44893a5632cf4d858582f": {
      "model_module": "@jupyter-widgets/base",
      "model_module_version": "1.2.0",
      "model_name": "LayoutModel",
      "state": {
       "grid_area": "filename",
       "width": "auto"
      }
     },
     "7be5e94ecefa4e8a92e309b595d64967": {
      "model_module": "@jupyter-widgets/controls",
      "model_module_version": "1.5.0",
      "model_name": "VBoxModel",
      "state": {
       "children": [
        "IPY_MODEL_21592b6947eb489c8713ab3e9ce52343",
        "IPY_MODEL_062d9ecb66f74b1ebee5687eff5f9672"
       ],
       "layout": "IPY_MODEL_1056b418c2884756a18bcbb396b6254c"
      }
     },
     "7d308a324bad462bb825dc4fa75a5ffa": {
      "model_module": "@jupyter-widgets/base",
      "model_module_version": "1.2.0",
      "model_name": "LayoutModel",
      "state": {}
     },
     "7d840638dd8e4cb3837d7a95bcbe6696": {
      "model_module": "@jupyter-widgets/controls",
      "model_module_version": "1.5.0",
      "model_name": "CheckboxModel",
      "state": {
       "description": "GA Pro - Live link",
       "disabled": false,
       "indent": false,
       "layout": "IPY_MODEL_6948eb195828402285498b326f1a9d37",
       "style": "IPY_MODEL_a9bf0a535fc44751ba4ac732ce7da869",
       "value": false
      }
     },
     "7da16d9a06bb40c6829fafc88109b465": {
      "model_module": "@jupyter-widgets/base",
      "model_module_version": "1.2.0",
      "model_name": "LayoutModel",
      "state": {
       "display": "none",
       "width": "auto"
      }
     },
     "7f0ca6432a624d1e9e4f58c85fa9ed84": {
      "model_module": "@jupyter-widgets/controls",
      "model_module_version": "1.5.0",
      "model_name": "VBoxModel",
      "state": {
       "children": [
        "IPY_MODEL_9402c23ec49d49a8a900498fcf46fd5e",
        "IPY_MODEL_b722e65a6c6447558cfb65fc157d1a01"
       ],
       "layout": "IPY_MODEL_1e3e27c10a1c4d46a7ed9a8a08141500"
      }
     },
     "7f105783583e464da7c69043f04432fe": {
      "model_module": "@jupyter-widgets/base",
      "model_module_version": "1.2.0",
      "model_name": "LayoutModel",
      "state": {
       "width": "auto"
      }
     },
     "8193b6d55d564e3f89a1f202f647030b": {
      "model_module": "@jupyter-widgets/base",
      "model_module_version": "1.2.0",
      "model_name": "LayoutModel",
      "state": {
       "display": "none",
       "width": "auto"
      }
     },
     "8268f974d42a46a9bdf0ffdc2e2ff7c0": {
      "model_module": "@jupyter-widgets/controls",
      "model_module_version": "1.5.0",
      "model_name": "DropdownModel",
      "state": {
       "_options_labels": [
        "",
        "Gravity_Magnetics_drape60mEPSG_4326",
        "Gravity_Magnetics_drape60m"
       ],
       "description": "Object:",
       "index": 2,
       "layout": "IPY_MODEL_d4699d1f0bfc467f8b6ba32279fa0829",
       "style": "IPY_MODEL_968476e32d0a40e890cc1c5283a002af"
      }
     },
     "8499dcde27db4eefbb5dd9130edf2e74": {
      "model_module": "@jupyter-widgets/controls",
      "model_module_version": "1.5.0",
      "model_name": "ButtonStyleModel",
      "state": {}
     },
     "892bb7fe45fb4d91a9c7c438d824452d": {
      "model_module": "@jupyter-widgets/controls",
      "model_module_version": "1.5.0",
      "model_name": "ToggleButtonModel",
      "state": {
       "button_style": "warning",
       "description": "Compute",
       "icon": "check",
       "layout": "IPY_MODEL_ff7b4ccddea14ddb8f1c019e935baea9",
       "style": "IPY_MODEL_459513feee9a45d7a9ff2022574f2423",
       "tooltip": "Description"
      }
     },
     "8a6241c286204920b9d87641274f1fca": {
      "model_module": "@jupyter-widgets/controls",
      "model_module_version": "1.5.0",
      "model_name": "HBoxModel",
      "state": {
       "children": [
        "IPY_MODEL_174a96227d2d470f9d821413e8fa65e7",
        "IPY_MODEL_dc400f6373284d06922c7c4ae0fbd5ac",
        "IPY_MODEL_1a22fb1280d544c9851a431f4e9f8395"
       ],
       "layout": "IPY_MODEL_efc070757fcb49138e505f04d1f1344c"
      }
     },
     "8cae0773c2d74d529ffea8903f4df740": {
      "model_module": "@jupyter-widgets/controls",
      "model_module_version": "1.5.0",
      "model_name": "DescriptionStyleModel",
      "state": {
       "description_width": "initial"
      }
     },
     "8d7a5a6835b34f74af11e0e8b50e0f92": {
      "model_module": "@jupyter-widgets/base",
      "model_module_version": "1.2.0",
      "model_name": "LayoutModel",
      "state": {
       "grid_area": "pathlist",
       "width": "auto"
      }
     },
     "8d7ddeae7d9e4fd887d85488f49d152d": {
      "model_module": "@jupyter-widgets/base",
      "model_module_version": "1.2.0",
      "model_name": "LayoutModel",
      "state": {}
     },
     "8f44adc797b04ab0b46bd03e62df0468": {
      "model_module": "@jupyter-widgets/base",
      "model_module_version": "1.2.0",
      "model_name": "LayoutModel",
      "state": {
       "display": "none"
      }
     },
     "9045bd96c85f44ba85d51651b58fe5c0": {
      "model_module": "@jupyter-widgets/base",
      "model_module_version": "1.2.0",
      "model_name": "LayoutModel",
      "state": {}
     },
     "9090057fd610476ab4110dc999856ef5": {
      "model_module": "@jupyter-widgets/controls",
      "model_module_version": "1.5.0",
      "model_name": "DropdownModel",
      "state": {
       "_options_labels": [
        "",
        "--- Channels ---",
        "Airborne_Gxx",
        "Airborne_Gxy",
        "Airborne_Gxz",
        "Airborne_Gyy",
        "Airborne_Gyz",
        "Airborne_Gz",
        "Airborne_Gzz",
        "Airborne_TMI",
        "Ground_Gz",
        "Z"
       ],
       "description": "Data: ",
       "index": 2,
       "layout": "IPY_MODEL_48726ec441ce4cb49291a5165eb74168",
       "style": "IPY_MODEL_8cae0773c2d74d529ffea8903f4df740"
      }
     },
     "92130be6ce7e4efa96c71e53d40459c0": {
      "model_module": "@jupyter-widgets/controls",
      "model_module_version": "1.5.0",
      "model_name": "DescriptionStyleModel",
      "state": {
       "description_width": ""
      }
     },
     "9402c23ec49d49a8a900498fcf46fd5e": {
      "model_module": "@jupyter-widgets/controls",
      "model_module_version": "1.5.0",
      "model_name": "LabelModel",
      "state": {
       "layout": "IPY_MODEL_8d7ddeae7d9e4fd887d85488f49d152d",
       "style": "IPY_MODEL_a5a44a9bb6054cfb86b4cec68dfad98b",
       "value": "Workspace"
      }
     },
     "956a72be3356408bb40fd401978c2076": {
      "model_module": "@jupyter-widgets/base",
      "model_module_version": "1.2.0",
      "model_name": "LayoutModel",
      "state": {}
     },
     "965c2acac78949b0901827f048406bb9": {
      "model_module": "@jupyter-widgets/base",
      "model_module_version": "1.2.0",
      "model_name": "LayoutModel",
      "state": {}
     },
     "968476e32d0a40e890cc1c5283a002af": {
      "model_module": "@jupyter-widgets/controls",
      "model_module_version": "1.5.0",
      "model_name": "DescriptionStyleModel",
      "state": {
       "description_width": "initial"
      }
     },
     "96ef1e26f33842ada9552cd7d0e6b56f": {
      "model_module": "@jupyter-widgets/controls",
      "model_module_version": "1.5.0",
      "model_name": "SliderStyleModel",
      "state": {
       "description_width": ""
      }
     },
     "9795f0c3e988478b9fc54711a27cbb2f": {
      "model_module": "@jupyter-widgets/controls",
      "model_module_version": "1.5.0",
      "model_name": "VBoxModel",
      "state": {
       "children": [
        "IPY_MODEL_f77c94deb41240dda15f5113fdd2b80a",
        "IPY_MODEL_7299c35582db455ca6ed02eaac69b397",
        "IPY_MODEL_1adfa3e991c94c0197211e4fbda5280d"
       ],
       "layout": "IPY_MODEL_106b28c1b02b435e9fcec28e957e9054"
      }
     },
     "990e3f0526474dbb94ad25e09e1d68e6": {
      "model_module": "@jupyter-widgets/controls",
      "model_module_version": "1.5.0",
      "model_name": "DescriptionStyleModel",
      "state": {
       "description_width": "initial"
      }
     },
     "9b7e84f600574a199dea6b1a42d13600": {
      "model_module": "@jupyter-widgets/base",
      "model_module_version": "1.2.0",
      "model_name": "LayoutModel",
      "state": {}
     },
     "9ec5b15dabb84320b4ba4f8e9e55e277": {
      "model_module": "@jupyter-widgets/base",
      "model_module_version": "1.2.0",
      "model_name": "LayoutModel",
      "state": {
       "width": "auto"
      }
     },
     "a32dce9bbbc446f487499b5bb6019c08": {
      "model_module": "@jupyter-widgets/controls",
      "model_module_version": "1.5.0",
      "model_name": "FloatTextModel",
      "state": {
       "description": "Grid Resolution (m)",
       "layout": "IPY_MODEL_956a72be3356408bb40fd401978c2076",
       "step": null,
       "style": "IPY_MODEL_77697bed9c604391a639ef8cb436973b",
       "value": 50
      }
     },
     "a4111093d6854a0b8ab23087664ec068": {
      "model_module": "@jupyter-widgets/controls",
      "model_module_version": "1.5.0",
      "model_name": "DescriptionStyleModel",
      "state": {
       "description_width": ""
      }
     },
     "a5557278af6743e0a45acf96dc5b60dd": {
      "model_module": "@jupyter-widgets/controls",
      "model_module_version": "1.5.0",
      "model_name": "DescriptionStyleModel",
      "state": {
       "description_width": ""
      }
     },
     "a5a44a9bb6054cfb86b4cec68dfad98b": {
      "model_module": "@jupyter-widgets/controls",
      "model_module_version": "1.5.0",
      "model_name": "DescriptionStyleModel",
      "state": {
       "description_width": "initial"
      }
     },
     "a8ae4d753a774e3e875591e66aabdfd5": {
      "model_module": "@jupyter-widgets/controls",
      "model_module_version": "1.5.0",
      "model_name": "VBoxModel",
      "state": {
       "children": [
        "IPY_MODEL_1fd70edf312949a19b2198fdb526e223",
        "IPY_MODEL_009c7c7f9fde4e578e3383d8947aad0a"
       ],
       "layout": "IPY_MODEL_7d308a324bad462bb825dc4fa75a5ffa"
      }
     },
     "a9bf0a535fc44751ba4ac732ce7da869": {
      "model_module": "@jupyter-widgets/controls",
      "model_module_version": "1.5.0",
      "model_name": "DescriptionStyleModel",
      "state": {
       "description_width": "initial"
      }
     },
     "a9f49e8dbd1e4a7b987621f38dcbe711": {
      "model_module": "@jupyter-widgets/controls",
      "model_module_version": "1.5.0",
      "model_name": "DropdownModel",
      "state": {
       "_options_labels": [
        "C:\\Users\\dominiquef\\Documents\\GIT\\mira\\mirageoscience-apps\\docs\\content\\applications",
        "C:\\Users\\dominiquef\\Documents\\GIT\\mira\\mirageoscience-apps\\docs\\content",
        "C:\\Users\\dominiquef\\Documents\\GIT\\mira\\mirageoscience-apps\\docs",
        "C:\\Users\\dominiquef\\Documents\\GIT\\mira\\mirageoscience-apps",
        "C:\\Users\\dominiquef\\Documents\\GIT\\mira",
        "C:\\Users\\dominiquef\\Documents\\GIT",
        "C:\\Users\\dominiquef\\Documents",
        "C:\\Users\\dominiquef",
        "C:\\Users",
        "C:\\",
        "D:\\",
        "Z:\\"
       ],
       "index": 0,
       "layout": "IPY_MODEL_8d7a5a6835b34f74af11e0e8b50e0f92",
       "style": "IPY_MODEL_ef9515137e5c40eaa95a3c434314977a"
      }
     },
     "a9f4ebb25c2d4e6395c66d38ca0422f1": {
      "model_module": "@jupyter-widgets/base",
      "model_module_version": "1.2.0",
      "model_name": "LayoutModel",
      "state": {
       "grid_area": "pathlist",
       "width": "auto"
      }
     },
     "ac462eadb0834a7d85df6e062ddbbd7c": {
      "model_module": "@jupyter-widgets/controls",
      "model_module_version": "1.5.0",
      "model_name": "TextModel",
      "state": {
       "layout": "IPY_MODEL_7a446d5deea44893a5632cf4d858582f",
       "placeholder": "output filename",
       "style": "IPY_MODEL_bad1baf2195d47b2b019b06fea343492",
       "value": "FlinFlon.geoh5"
      }
     },
     "ad59b756ffcc48e19b2671aa41d0470d": {
      "model_module": "@jupyter-widgets/controls",
      "model_module_version": "1.5.0",
      "model_name": "DescriptionStyleModel",
      "state": {
       "description_width": "initial"
      }
     },
     "adbe97017a2144b8a31697fbc73a0767": {
      "model_module": "@jupyter-widgets/controls",
      "model_module_version": "1.5.0",
      "model_name": "VBoxModel",
      "state": {
       "children": [
        "IPY_MODEL_8268f974d42a46a9bdf0ffdc2e2ff7c0",
        "IPY_MODEL_9090057fd610476ab4110dc999856ef5"
       ],
       "layout": "IPY_MODEL_e91f28b7d52b408d8cea8086afd29b5e"
      }
     },
     "af878db1d1614714945890ed5b61e415": {
      "model_module": "@jupyter-widgets/controls",
      "model_module_version": "1.5.0",
      "model_name": "ToggleButtonModel",
      "state": {
       "description": "Zoom on selection",
       "icon": "check",
       "layout": "IPY_MODEL_c153d092ded549418aa318ed4b682e0c",
       "style": "IPY_MODEL_372526baf3e54087950254706b5e313b",
       "value": true
      }
     },
     "afe763e217514bdd863a431452e0848d": {
      "model_module": "@jupyter-widgets/base",
      "model_module_version": "1.2.0",
      "model_name": "LayoutModel",
      "state": {
       "grid_area": "dircontent",
       "width": "auto"
      }
     },
     "b0d06d7dc42645f38e3b0c40b231055b": {
      "model_module": "@jupyter-widgets/controls",
      "model_module_version": "1.5.0",
      "model_name": "VBoxModel",
      "state": {
       "children": [
        "IPY_MODEL_c8c89ed9f45c4370b4b8b4f7777a0a0e",
        "IPY_MODEL_406945de057344649f0061134d1f4290"
       ],
       "layout": "IPY_MODEL_dd4ee08d26fe43d4bf6e49f872049273"
      }
     },
     "b237c3d6d69d4cd2a02314fa847fa278": {
      "model_module": "@jupyter-widgets/controls",
      "model_module_version": "1.5.0",
      "model_name": "HTMLModel",
      "state": {
       "layout": "IPY_MODEL_c3b511468ba84940bb1f33999a65d5f4",
       "placeholder": "",
       "style": "IPY_MODEL_92130be6ce7e4efa96c71e53d40459c0",
       "value": "<span style=\"margin-left:10px; color:orange;\">C:\\Users\\dominiquef\\Documents\\GIT\\mira\\mirageoscience-apps\\assets\\FlinFlon.geoh5</span>"
      }
     },
     "b4d2389e07ae40539b34ff1f1f64e563": {
      "model_module": "@jupyter-widgets/controls",
      "model_module_version": "1.5.0",
      "model_name": "SliderStyleModel",
      "state": {
       "description_width": ""
      }
     },
     "b643145fdbe74defa542bfce6702ba60": {
      "model_module": "@jupyter-widgets/base",
      "model_module_version": "1.2.0",
      "model_name": "LayoutModel",
      "state": {}
     },
     "b722e65a6c6447558cfb65fc157d1a01": {
      "model_module": "@jupyter-widgets/controls",
      "model_module_version": "1.5.0",
      "model_name": "HBoxModel",
      "state": {
       "children": [
        "IPY_MODEL_9795f0c3e988478b9fc54711a27cbb2f",
        "IPY_MODEL_025795f0b07447dba346c24b7ea9271a"
       ],
       "layout": "IPY_MODEL_506645e59b7143129aa3b95c4ffcc4ed"
      }
     },
     "bad1baf2195d47b2b019b06fea343492": {
      "model_module": "@jupyter-widgets/controls",
      "model_module_version": "1.5.0",
      "model_name": "DescriptionStyleModel",
      "state": {
       "description_width": ""
      }
     },
     "be19b76c2445415db3a93507a9a8ad98": {
      "model_module": "@jupyter-widgets/base",
      "model_module_version": "1.2.0",
      "model_name": "LayoutModel",
      "state": {}
     },
     "bf6023bcb44b40cfb1b8482255025639": {
      "model_module": "@jupyter-widgets/controls",
      "model_module_version": "1.5.0",
      "model_name": "GridBoxModel",
      "state": {
       "children": [
        "IPY_MODEL_a9f49e8dbd1e4a7b987621f38dcbe711",
        "IPY_MODEL_cc494dafe4b142afa2e16180c9288224",
        "IPY_MODEL_36201ada77744719a506353bd0a51bbc"
       ],
       "layout": "IPY_MODEL_52baef05d584464a8fbe895f8e15569c"
      }
     },
     "c0317dd752d2410ba42f42650c28b718": {
      "model_module": "@jupyter-widgets/controls",
      "model_module_version": "1.5.0",
      "model_name": "TextModel",
      "state": {
       "continuous_update": false,
       "description": "Contours",
       "layout": "IPY_MODEL_6d8404e0f2034601b6b8e56f5c55cd9e",
       "style": "IPY_MODEL_73324fa5b9c54e7ebc27f022292ab9e0"
      }
     },
     "c09f73b7366f47a4a036dabc3f16c944": {
      "model_module": "@jupyter-widgets/controls",
      "model_module_version": "1.5.0",
      "model_name": "DescriptionStyleModel",
      "state": {
       "description_width": ""
      }
     },
     "c129a12db4c64fc8a9969b037a2603a5": {
      "model_module": "@jupyter-widgets/base",
      "model_module_version": "1.2.0",
      "model_name": "LayoutModel",
      "state": {}
     },
     "c153d092ded549418aa318ed4b682e0c": {
      "model_module": "@jupyter-widgets/base",
      "model_module_version": "1.2.0",
      "model_name": "LayoutModel",
      "state": {}
     },
     "c3b511468ba84940bb1f33999a65d5f4": {
      "model_module": "@jupyter-widgets/base",
      "model_module_version": "1.2.0",
      "model_name": "LayoutModel",
      "state": {}
     },
     "c4237d52418641f2af88ec3ccd33499f": {
      "model_module": "@jupyter-widgets/controls",
      "model_module_version": "1.5.0",
      "model_name": "SliderStyleModel",
      "state": {
       "description_width": ""
      }
     },
     "c624e4a871724f0092e490d7355817a7": {
      "model_module": "@jupyter-widgets/controls",
      "model_module_version": "1.5.0",
      "model_name": "DescriptionStyleModel",
      "state": {
       "description_width": ""
      }
     },
     "c77fd1f39cdb42579897643735e72410": {
      "model_module": "@jupyter-widgets/controls",
      "model_module_version": "1.5.0",
      "model_name": "HTMLModel",
      "state": {
       "layout": "IPY_MODEL_54fd6fb802524f60935b09f775a72128",
       "style": "IPY_MODEL_c624e4a871724f0092e490d7355817a7"
      }
     },
     "c8c89ed9f45c4370b4b8b4f7777a0a0e": {
      "model_module": "@jupyter-widgets/controls",
      "model_module_version": "1.5.0",
      "model_name": "LabelModel",
      "state": {
       "layout": "IPY_MODEL_9045bd96c85f44ba85d51651b58fe5c0",
       "style": "IPY_MODEL_ef409932011e447693b617e16bb64f45",
       "value": "Monitoring folder"
      }
     },
     "cc494dafe4b142afa2e16180c9288224": {
      "model_module": "@jupyter-widgets/controls",
      "model_module_version": "1.5.0",
      "model_name": "TextModel",
      "state": {
       "disabled": true,
       "layout": "IPY_MODEL_ce05e9d2e209460e99a3bfcfd770a728",
       "placeholder": "output filename",
       "style": "IPY_MODEL_fe7abe1f87234835896ef93a7e110e15"
      }
     },
     "cd2927cc5e354daa9aaef0b822a1658b": {
      "model_module": "@jupyter-widgets/base",
      "model_module_version": "1.2.0",
      "model_name": "LayoutModel",
      "state": {
       "width": "50%"
      }
     },
     "ce05e9d2e209460e99a3bfcfd770a728": {
      "model_module": "@jupyter-widgets/base",
      "model_module_version": "1.2.0",
      "model_name": "LayoutModel",
      "state": {
       "display": "none",
       "grid_area": "filename",
       "width": "auto"
      }
     },
     "ce0ca7e548274437aec37b32429c9ca0": {
      "model_module": "@jupyter-widgets/base",
      "model_module_version": "1.2.0",
      "model_name": "LayoutModel",
      "state": {
       "width": "auto"
      }
     },
     "d041a996767647e3a089547df2a32c01": {
      "model_module": "@jupyter-widgets/controls",
      "model_module_version": "1.5.0",
      "model_name": "VBoxModel",
      "state": {
       "children": [
        "IPY_MODEL_adbe97017a2144b8a31697fbc73a0767",
        "IPY_MODEL_a8ae4d753a774e3e875591e66aabdfd5"
       ],
       "layout": "IPY_MODEL_775de93f2efe43689254c16316ceda44"
      }
     },
     "d2c85721e7c14ec5b8c772846a81e23a": {
      "model_module": "@jupyter-widgets/base",
      "model_module_version": "1.2.0",
      "model_name": "LayoutModel",
      "state": {}
     },
     "d4699d1f0bfc467f8b6ba32279fa0829": {
      "model_module": "@jupyter-widgets/base",
      "model_module_version": "1.2.0",
      "model_name": "LayoutModel",
      "state": {}
     },
     "d622904523d041ffa4b635b162bbca12": {
      "model_module": "@jupyter-widgets/controls",
      "model_module_version": "1.5.0",
      "model_name": "IntSliderModel",
      "state": {
       "continuous_update": false,
       "description": "Window size",
       "layout": "IPY_MODEL_42112be459d74a95a47d607e9729503c",
       "max": 512,
       "min": 16,
       "style": "IPY_MODEL_6d2e96f096074714993dae059f0985ce",
       "value": 64
      }
     },
     "d639041fb93e4762b1e70bfec4bc84fa": {
      "model_module": "@jupyter-widgets/base",
      "model_module_version": "1.2.0",
      "model_name": "LayoutModel",
      "state": {}
     },
     "d7cb1ef5b630427f8b07e38743e4b518": {
      "model_module": "@jupyter-widgets/output",
      "model_module_version": "1.0.0",
      "model_name": "OutputModel",
      "state": {
       "layout": "IPY_MODEL_4df7ac33b64743df9c14d47c47e894fd"
      }
     },
     "d93688e330cd45f2b44f52171df99845": {
      "model_module": "@jupyter-widgets/controls",
      "model_module_version": "1.5.0",
      "model_name": "ButtonStyleModel",
      "state": {}
     },
     "dbb24051fbb3490d8481ce2491874bc8": {
      "model_module": "@jupyter-widgets/controls",
      "model_module_version": "1.5.0",
      "model_name": "TextModel",
      "state": {
       "description": "Save as:",
       "layout": "IPY_MODEL_5d0079966fe94a5fa8360274c2894b57",
       "style": "IPY_MODEL_0526bf2b4dcd408c9a9cf715940fd4ec",
       "value": "Airborne_Gxx"
      }
     },
     "dc400f6373284d06922c7c4ae0fbd5ac": {
      "model_module": "@jupyter-widgets/controls",
      "model_module_version": "1.5.0",
      "model_name": "ButtonModel",
      "state": {
       "description": "Cancel",
       "layout": "IPY_MODEL_8193b6d55d564e3f89a1f202f647030b",
       "style": "IPY_MODEL_8499dcde27db4eefbb5dd9130edf2e74"
      }
     },
     "dd4ee08d26fe43d4bf6e49f872049273": {
      "model_module": "@jupyter-widgets/base",
      "model_module_version": "1.2.0",
      "model_name": "LayoutModel",
      "state": {}
     },
     "df4fee8ef4994df0871adc9e1e15c0c4": {
      "model_module": "@jupyter-widgets/base",
      "model_module_version": "1.2.0",
      "model_name": "LayoutModel",
      "state": {}
     },
     "e2693a9e16494776b6e180461a78bbd3": {
      "model_module": "@jupyter-widgets/controls",
      "model_module_version": "1.5.0",
      "model_name": "HBoxModel",
      "state": {
       "children": [
        "IPY_MODEL_d041a996767647e3a089547df2a32c01",
        "IPY_MODEL_0a0e75b0582842f485c4053aa19bf8fc",
        "IPY_MODEL_d7cb1ef5b630427f8b07e38743e4b518"
       ],
       "layout": "IPY_MODEL_be19b76c2445415db3a93507a9a8ad98"
      }
     },
     "e4b7dcd8a46246128a1203ef4db98a10": {
      "model_module": "@jupyter-widgets/base",
      "model_module_version": "1.2.0",
      "model_name": "LayoutModel",
      "state": {}
     },
     "e74df740b223422e990b30bf2bae7e29": {
      "model_module": "@jupyter-widgets/base",
      "model_module_version": "1.2.0",
      "model_name": "LayoutModel",
      "state": {}
     },
     "e76ca0d8f7ee42adaa591b802340c19d": {
      "model_module": "@jupyter-widgets/controls",
      "model_module_version": "1.5.0",
      "model_name": "DescriptionStyleModel",
      "state": {
       "description_width": ""
      }
     },
     "e80ae5dbd7fd4e8db7d6b0f868a8506f": {
      "model_module": "@jupyter-widgets/controls",
      "model_module_version": "1.5.0",
      "model_name": "TextModel",
      "state": {
       "continuous_update": false,
       "description": "Group:",
       "layout": "IPY_MODEL_1334b2a9acaf48a9817c3d278af52448",
       "style": "IPY_MODEL_5ec9682dfd2c4a6b9e63d0bea3973341",
       "value": "Edges"
      }
     },
     "e9137141c1204ab0b12f366bac78f06a": {
      "model_module": "@jupyter-widgets/base",
      "model_module_version": "1.2.0",
      "model_name": "LayoutModel",
      "state": {}
     },
     "e91f28b7d52b408d8cea8086afd29b5e": {
      "model_module": "@jupyter-widgets/base",
      "model_module_version": "1.2.0",
      "model_name": "LayoutModel",
      "state": {}
     },
     "eacf75eb2d1d4e689e3e32a807fea0e5": {
      "model_module": "@jupyter-widgets/controls",
      "model_module_version": "1.5.0",
      "model_name": "SliderStyleModel",
      "state": {
       "description_width": "initial"
      }
     },
     "ed53f5933e6f4a5ab564e96c7812c68d": {
      "model_module": "@jupyter-widgets/controls",
      "model_module_version": "1.5.0",
      "model_name": "IntSliderModel",
      "state": {
       "continuous_update": false,
       "description": "Line Length",
       "layout": "IPY_MODEL_76f6c88103fe481e8e801b592f4bc3dd",
       "min": 1,
       "style": "IPY_MODEL_027755b2e1694c0f837d659ea55f9fa7",
       "value": 1
      }
     },
     "ef409932011e447693b617e16bb64f45": {
      "model_module": "@jupyter-widgets/controls",
      "model_module_version": "1.5.0",
      "model_name": "DescriptionStyleModel",
      "state": {
       "description_width": "initial"
      }
     },
     "ef9515137e5c40eaa95a3c434314977a": {
      "model_module": "@jupyter-widgets/controls",
      "model_module_version": "1.5.0",
      "model_name": "DescriptionStyleModel",
      "state": {
       "description_width": ""
      }
     },
     "efc070757fcb49138e505f04d1f1344c": {
      "model_module": "@jupyter-widgets/base",
      "model_module_version": "1.2.0",
      "model_name": "LayoutModel",
      "state": {
       "width": "auto"
      }
     },
     "f02f85e7ee314ae2b66551501cc629cc": {
      "model_module": "@jupyter-widgets/controls",
      "model_module_version": "1.5.0",
      "model_name": "VBoxModel",
      "state": {
       "children": [
        "IPY_MODEL_43af204491d045ff85695de23afc491c",
        "IPY_MODEL_4bc997499cdb40929ae203a51664a5d8",
        "IPY_MODEL_0aff56d9305647f1af50c5893e702ccf",
        "IPY_MODEL_051cfa6df59549ea9794498e7f9983d1",
        "IPY_MODEL_af878db1d1614714945890ed5b61e415"
       ],
       "layout": "IPY_MODEL_965c2acac78949b0901827f048406bb9"
      }
     },
     "f48a09d42056428fa8b80cd25adf21dd": {
      "model_module": "@jupyter-widgets/controls",
      "model_module_version": "1.5.0",
      "model_name": "FloatSliderModel",
      "state": {
       "continuous_update": false,
       "description": "Sigma",
       "layout": "IPY_MODEL_e74df740b223422e990b30bf2bae7e29",
       "max": 10,
       "step": 0.1,
       "style": "IPY_MODEL_eacf75eb2d1d4e689e3e32a807fea0e5",
       "value": 0.5
      }
     },
     "f77c94deb41240dda15f5113fdd2b80a": {
      "model_module": "@jupyter-widgets/controls",
      "model_module_version": "1.5.0",
      "model_name": "HTMLModel",
      "state": {
       "layout": "IPY_MODEL_8f44adc797b04ab0b46bd03e62df0468",
       "style": "IPY_MODEL_1f90f1a08c6543e3824043d69a764a96"
      }
     },
     "fab55a34a73648f79ab383706801824c": {
      "model_module": "@jupyter-widgets/base",
      "model_module_version": "1.2.0",
      "model_name": "LayoutModel",
      "state": {}
     },
     "fe57a847160641a8b704837738af30cb": {
      "model_module": "@jupyter-widgets/controls",
      "model_module_version": "1.5.0",
      "model_name": "VBoxModel",
      "state": {
       "children": [
        "IPY_MODEL_7f0ca6432a624d1e9e4f58c85fa9ed84",
        "IPY_MODEL_7be5e94ecefa4e8a92e309b595d64967"
       ],
       "layout": "IPY_MODEL_d639041fb93e4762b1e70bfec4bc84fa"
      }
     },
     "fe7abe1f87234835896ef93a7e110e15": {
      "model_module": "@jupyter-widgets/controls",
      "model_module_version": "1.5.0",
      "model_name": "DescriptionStyleModel",
      "state": {
       "description_width": ""
      }
     },
     "ff7b4ccddea14ddb8f1c019e935baea9": {
      "model_module": "@jupyter-widgets/base",
      "model_module_version": "1.2.0",
      "model_name": "LayoutModel",
      "state": {}
     }
    },
    "version_major": 2,
    "version_minor": 0
   }
  }
 },
 "nbformat": 4,
 "nbformat_minor": 5
}

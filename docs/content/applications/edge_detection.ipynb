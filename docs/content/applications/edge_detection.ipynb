{
 "cells": [
  {
   "cell_type": "markdown",
   "metadata": {},
   "source": [
    "# Edge Detection\n",
    "\n",
    "With this application, users can create lines along edges (lineaments) from gridded data in a\n",
    "semi-automated fashion. The application uses machine vision algorithms from the [Scikit-Image](https://scikit-image.org/) open-source package.\n",
    "\n",
    "- Currently available for Grid2D objects.\n",
    "- Edges can be exported to [Geoscience ANALYST](https://mirageoscience.com/mining-industry-software/geoscience-analyst/) for viewing and editing.\n",
    "- See the [Methodology](#Methodology) section for algorithmic details\n",
    "\n",
    "[Video tutorial available on Youtube](https://youtu.be/Lpn3xA7xlBs)\n",
    "\n",
    "  <img align=\"right\" width=\"50%\" src=\"./images/edge_detection_app.png\">\n",
    "\n",
    "\n",
    "New user? Visit the [Getting Started](../installation.rst) page."
   ]
  },
  {
   "cell_type": "markdown",
   "metadata": {},
   "source": [
    "## Application\n",
    "The following sections provide details on the different parameters controling the application. Interactive widgets shown below are for demonstration purposes only."
   ]
  },
  {
   "cell_type": "code",
   "execution_count": 1,
   "metadata": {
    "scrolled": false
   },
   "outputs": [
    {
     "data": {
      "application/vnd.jupyter.widget-view+json": {
       "model_id": "3a2f3f9fd8e844839300c39c0f76fd62",
       "version_major": 2,
       "version_minor": 0
      },
      "text/plain": [
       "VBox(children=(VBox(children=(Label(value='Workspace', style=DescriptionStyle(description_width='initial')), H…"
      ]
     },
     "metadata": {},
     "output_type": "display_data"
    }
   ],
   "source": [
    "from geoapps.processing import EdgeDetectionApp\n",
    "\n",
    "app = EdgeDetectionApp(h5file=r\"../../../assets/FlinFlon.geoh5\")\n",
    "app.main"
   ]
  },
  {
   "cell_type": "markdown",
   "metadata": {},
   "source": [
    "## Project Selection\n",
    "\n",
    "Select and connect to an existing **geoh5** project file containing data. "
   ]
  },
  {
   "cell_type": "code",
   "execution_count": 2,
   "metadata": {
    "scrolled": true
   },
   "outputs": [
    {
     "data": {
      "application/vnd.jupyter.widget-view+json": {
       "model_id": "783d929953bd4e338f314ee7f4df9e58",
       "version_major": 2,
       "version_minor": 0
      },
      "text/plain": [
       "VBox(children=(Label(value='Workspace', style=DescriptionStyle(description_width='initial')), HBox(children=(F…"
      ]
     },
     "metadata": {},
     "output_type": "display_data"
    }
   ],
   "source": [
    "app.project_panel"
   ]
  },
  {
   "cell_type": "markdown",
   "metadata": {},
   "source": [
    "See the [Project Panel](base_application.ipynb#Project-Panel) page for more details."
   ]
  },
  {
   "cell_type": "markdown",
   "metadata": {},
   "source": [
    "## Input Data\n",
    "\n",
    "### Object and Data Selection\n",
    "\n",
    "List of `Grid2D` objects available in the target `geoh5` project. "
   ]
  },
  {
   "cell_type": "code",
   "execution_count": 3,
   "metadata": {
    "scrolled": true
   },
   "outputs": [
    {
     "data": {
      "application/vnd.jupyter.widget-view+json": {
       "model_id": "b950a57bbece45c798031293edcb549b",
       "version_major": 2,
       "version_minor": 0
      },
      "text/plain": [
       "VBox(children=(Dropdown(description='Object:', index=1, options=('', 'Gravity_Magnetics_drape60m'), style=Desc…"
      ]
     },
     "metadata": {},
     "output_type": "display_data"
    }
   ],
   "source": [
    "app.data_panel"
   ]
  },
  {
   "cell_type": "markdown",
   "metadata": {},
   "source": [
    "### Window selection\n",
    "\n",
    "Select a subset of the input `Grid2D`."
   ]
  },
  {
   "cell_type": "code",
   "execution_count": 4,
   "metadata": {},
   "outputs": [
    {
     "data": {
      "application/vnd.jupyter.widget-view+json": {
       "model_id": "341ecd7c286a4f32b041498c1010c440",
       "version_major": 2,
       "version_minor": 0
      },
      "text/plain": [
       "VBox(children=(VBox(children=(FloatText(value=50.0, description='Grid Resolution (m)', style=DescriptionStyle(…"
      ]
     },
     "metadata": {},
     "output_type": "display_data"
    }
   ],
   "source": [
    "app.window_selection"
   ]
  },
  {
   "cell_type": "markdown",
   "metadata": {},
   "source": [
    "See the [Map View Selection](view_selection.ipynb#Map-View-Selection) page for more details."
   ]
  },
  {
   "cell_type": "markdown",
   "metadata": {},
   "source": [
    "## Canny Edge Parameters\n",
    "\n",
    "Parameters controling the [Scikit-Image.feature.Canny](https://scikit-image.org/docs/dev/auto_examples/edges/plot_canny.html#sphx-glr-auto-examples-edges-plot-canny-py) edge detection routine."
   ]
  },
  {
   "cell_type": "markdown",
   "metadata": {},
   "source": [
    "### Sigma\n",
    "\n",
    "Standard deviation of the Gaussian filter used in the Canny algorithm."
   ]
  },
  {
   "cell_type": "code",
   "execution_count": 5,
   "metadata": {},
   "outputs": [
    {
     "data": {
      "application/vnd.jupyter.widget-view+json": {
       "model_id": "5450b875364a4b698c7481fe134197de",
       "version_major": 2,
       "version_minor": 0
      },
      "text/plain": [
       "FloatSlider(value=0.5, continuous_update=False, description='Sigma', max=10.0, style=SliderStyle(description_w…"
      ]
     },
     "metadata": {},
     "output_type": "display_data"
    }
   ],
   "source": [
    "app.sigma"
   ]
  },
  {
   "cell_type": "markdown",
   "metadata": {},
   "source": [
    "## Hough Line Parameters\n",
    "\n",
    "Parameters controling the [Scikit-Image.transform.probabilistic_hough_line](https://scikit-image.org/docs/dev/api/skimage.transform.html#probabilistic-hough-line) routine."
   ]
  },
  {
   "cell_type": "markdown",
   "metadata": {},
   "source": [
    "### Threshold\n",
    "\n",
    "Detection threshold"
   ]
  },
  {
   "cell_type": "code",
   "execution_count": 6,
   "metadata": {},
   "outputs": [
    {
     "data": {
      "application/vnd.jupyter.widget-view+json": {
       "model_id": "d52896b5c47a4976b0a0297005307c14",
       "version_major": 2,
       "version_minor": 0
      },
      "text/plain": [
       "IntSlider(value=1, continuous_update=False, description='Threshold', min=1)"
      ]
     },
     "metadata": {},
     "output_type": "display_data"
    }
   ],
   "source": [
    "app.threshold"
   ]
  },
  {
   "cell_type": "markdown",
   "metadata": {},
   "source": [
    "### Line Length\n",
    "\n",
    "Filter for the minimum length (pixels) of detected lines."
   ]
  },
  {
   "cell_type": "code",
   "execution_count": 7,
   "metadata": {},
   "outputs": [
    {
     "data": {
      "application/vnd.jupyter.widget-view+json": {
       "model_id": "a8c2b2d38c334b3cb97add8a0fc0e1d9",
       "version_major": 2,
       "version_minor": 0
      },
      "text/plain": [
       "IntSlider(value=1, continuous_update=False, description='Line Length', min=1)"
      ]
     },
     "metadata": {},
     "output_type": "display_data"
    }
   ],
   "source": [
    "app.line_length"
   ]
  },
  {
   "cell_type": "markdown",
   "metadata": {},
   "source": [
    "### Line Gap\n",
    "\n",
    "Maximum gap between pixels to still form a line."
   ]
  },
  {
   "cell_type": "code",
   "execution_count": 8,
   "metadata": {},
   "outputs": [
    {
     "data": {
      "application/vnd.jupyter.widget-view+json": {
       "model_id": "c914549c84bc43c3a209c1b5f91e5b6f",
       "version_major": 2,
       "version_minor": 0
      },
      "text/plain": [
       "IntSlider(value=1, continuous_update=False, description='Line Gap', min=1)"
      ]
     },
     "metadata": {},
     "output_type": "display_data"
    }
   ],
   "source": [
    "app.line_gap"
   ]
  },
  {
   "cell_type": "markdown",
   "metadata": {},
   "source": [
    "## Window size\n",
    "\n",
    "Window size (square) used for the tiling of the data (see the [Methodology](#Methodology) section)"
   ]
  },
  {
   "cell_type": "code",
   "execution_count": 9,
   "metadata": {},
   "outputs": [
    {
     "data": {
      "application/vnd.jupyter.widget-view+json": {
       "model_id": "8ee5c6c7ea444bfc8c65830e46a96ac6",
       "version_major": 2,
       "version_minor": 0
      },
      "text/plain": [
       "IntSlider(value=64, continuous_update=False, description='Window size', max=512, min=16)"
      ]
     },
     "metadata": {},
     "output_type": "display_data"
    }
   ],
   "source": [
    "app.window_size"
   ]
  },
  {
   "cell_type": "markdown",
   "metadata": {},
   "source": [
    "## Output Panel\n",
    "\n",
    "Trigger the computation routine and store the result."
   ]
  },
  {
   "cell_type": "code",
   "execution_count": 10,
   "metadata": {
    "scrolled": false
   },
   "outputs": [
    {
     "data": {
      "application/vnd.jupyter.widget-view+json": {
       "model_id": "e2f40a1c0c044fce96fa8e4601a7e205",
       "version_major": 2,
       "version_minor": 0
      },
      "text/plain": [
       "VBox(children=(VBox(children=(Button(button_style='success', description='Save to GA', icon='check', style=But…"
      ]
     },
     "metadata": {},
     "output_type": "display_data"
    }
   ],
   "source": [
    "app.output_panel"
   ]
  },
  {
   "cell_type": "markdown",
   "metadata": {},
   "source": [
    "See the [Output Panel](base_application.ipynb#Output-Panel) page for more details."
   ]
  },
  {
   "cell_type": "markdown",
   "metadata": {},
   "source": [
    "## Methodology\n",
    "\n",
    "The conversion from raster data to lines involves the following four main processing steps.\n",
    "\n",
    "<img align=\"center\" width=\"50%\" src=\"./images/edge_detection_algo.png\">\n",
    "\n",
    "1. The selected gridded data are normalized between [0, 1]\n",
    "\n",
    "2. Normalized values are processed with the [Canny](#Canny-Parameters) edge detection algorithm.\n",
    "\n",
    "3. The full grid is sub-divided into overlapping square tiles defined by the\n",
    "   [window size](#Window-size) parameter. Tiling is used to speed up computations and reduce\n",
    "   skews in the Hough line parametrization observed on grids with small aspect ratios.\n",
    "\n",
    "4. For each tile, edges are converted to a line parametric form using the [Hough Line Transform](#Hough-Line-Parameters).\n"
   ]
  },
  {
   "cell_type": "markdown",
   "metadata": {},
   "source": [
    "Need help? Contact us at support@mirageoscience.com"
   ]
  },
  {
   "cell_type": "code",
   "execution_count": 11,
   "metadata": {
    "nbsphinx": "hidden"
   },
   "outputs": [],
   "source": [
    "import matplotlib.pyplot as plt\n",
    "app.figure.savefig(\"images/edge_detection_thumbnail.png\", dpi=300, bbox_inches=\"tight\")"
   ]
  }
 ],
 "metadata": {
  "kernelspec": {
   "display_name": "Python 3",
   "language": "python",
   "name": "python3"
  },
  "language_info": {
   "codemirror_mode": {
    "name": "ipython",
    "version": 3
   },
   "file_extension": ".py",
   "mimetype": "text/x-python",
   "name": "python",
   "nbconvert_exporter": "python",
   "pygments_lexer": "ipython3",
   "version": "3.7.8"
  },
  "widgets": {
   "application/vnd.jupyter.widget-state+json": {
    "state": {
     "009d3f7f12834abfaa62ec6f05cdcddf": {
      "model_module": "@jupyter-widgets/base",
      "model_module_version": "1.2.0",
      "model_name": "LayoutModel",
      "state": {
       "width": "auto"
      }
     },
     "011bfe61d62f4892ab7cc2b5e5a8bb7b": {
      "model_module": "@jupyter-widgets/controls",
      "model_module_version": "1.5.0",
      "model_name": "FloatSliderModel",
      "state": {
       "continuous_update": false,
       "description": "Width",
       "layout": "IPY_MODEL_0f985a5adb8547cb9a3134fff1d21dfa",
       "max": 7335.505938563321,
       "step": 0.1,
       "style": "IPY_MODEL_041360ae6a8d475293b964065e717217",
       "value": 3667.7529692816606
      }
     },
     "013ff5c0f7214e619706c96348d670db": {
      "model_module": "@jupyter-widgets/controls",
      "model_module_version": "1.5.0",
      "model_name": "FloatSliderModel",
      "state": {
       "continuous_update": false,
       "description": "Width",
       "layout": "IPY_MODEL_9c66399b25b545b18e1d60957a6bf4e4",
       "max": 7335.505938563321,
       "step": 0.1,
       "style": "IPY_MODEL_d9d260ff68c1485ca5c72ef9adf0be7d",
       "value": 3667.7529692816606
      }
     },
     "03fa97697d82493095481d72b4738507": {
      "model_module": "@jupyter-widgets/output",
      "model_module_version": "1.0.0",
      "model_name": "OutputModel",
      "state": {
       "layout": "IPY_MODEL_d58721544a414f969dfbe01057d082f7"
      }
     },
     "040a7dbc40c9473eb3751364ece8dc71": {
      "model_module": "@jupyter-widgets/base",
      "model_module_version": "1.2.0",
      "model_name": "LayoutModel",
      "state": {
       "width": "auto"
      }
     },
     "040e6600610e4e0ebb8cfc85543f670c": {
      "model_module": "@jupyter-widgets/base",
      "model_module_version": "1.2.0",
      "model_name": "LayoutModel",
      "state": {}
     },
     "041360ae6a8d475293b964065e717217": {
      "model_module": "@jupyter-widgets/controls",
      "model_module_version": "1.5.0",
      "model_name": "SliderStyleModel",
      "state": {
       "description_width": ""
      }
     },
     "04188095fa1a413c9d4b1dee131693d0": {
      "model_module": "@jupyter-widgets/controls",
      "model_module_version": "1.5.0",
      "model_name": "VBoxModel",
      "state": {
       "children": [
        "IPY_MODEL_8a1c7d527eb14e1fbb7d0ab9276a4ffd",
        "IPY_MODEL_7cbab6ab79b44d758730c3f4a662a4aa"
       ],
       "layout": "IPY_MODEL_56dc96d4fa394cd6a0774a3060cd9e1e"
      }
     },
     "0462bbc3d259445b8839318800c7f5dc": {
      "model_module": "@jupyter-widgets/base",
      "model_module_version": "1.2.0",
      "model_name": "LayoutModel",
      "state": {}
     },
     "0472e653a7064d109ddb369061048160": {
      "model_module": "@jupyter-widgets/controls",
      "model_module_version": "1.5.0",
      "model_name": "DescriptionStyleModel",
      "state": {
       "description_width": "initial"
      }
     },
     "0476b86c87df401a889de1f7c918f2b7": {
      "model_module": "@jupyter-widgets/controls",
      "model_module_version": "1.5.0",
      "model_name": "DescriptionStyleModel",
      "state": {
       "description_width": ""
      }
     },
     "04bf2ba4832340b292c41210a47c2bad": {
      "model_module": "@jupyter-widgets/controls",
      "model_module_version": "1.5.0",
      "model_name": "VBoxModel",
      "state": {
       "children": [
        "IPY_MODEL_93f7fe1c9c5d46f4b99346cdb459b0c9",
        "IPY_MODEL_fd3a7ec8526f406682cb6cf4f091219a",
        "IPY_MODEL_b28de4ab5e954bfaa8d8d9dcfc622720"
       ],
       "layout": "IPY_MODEL_83abb395d07548abb977eaad4bbb3843"
      }
     },
     "053a07d505344393b09dd669d7cc2bc4": {
      "model_module": "@jupyter-widgets/controls",
      "model_module_version": "1.5.0",
      "model_name": "SliderStyleModel",
      "state": {
       "description_width": ""
      }
     },
     "0544e56c7b1d496c8c214fa418e259bf": {
      "model_module": "@jupyter-widgets/controls",
      "model_module_version": "1.5.0",
      "model_name": "ToggleButtonModel",
      "state": {
       "button_style": "warning",
       "description": "Compute",
       "icon": "check",
       "layout": "IPY_MODEL_a36036d29c2f4f9986fc900b1e5e6077",
       "style": "IPY_MODEL_5118505844c944b0b96d3b5e08c45a33",
       "tooltip": "Description"
      }
     },
     "064a083d3cd44db9b729ee82e8e742a5": {
      "model_module": "@jupyter-widgets/controls",
      "model_module_version": "1.5.0",
      "model_name": "CheckboxModel",
      "state": {
       "description": "GA Pro - Live link",
       "disabled": false,
       "indent": false,
       "layout": "IPY_MODEL_0978da024ad74165b226c6218d2d6fc6",
       "style": "IPY_MODEL_f9ad95744302432c9b7e72ca7214210e",
       "value": false
      }
     },
     "07577d38920e4b74848ee7c8ccf0b96f": {
      "model_module": "@jupyter-widgets/base",
      "model_module_version": "1.2.0",
      "model_name": "LayoutModel",
      "state": {}
     },
     "07c6af3d6478486d877202742c5fbb80": {
      "model_module": "@jupyter-widgets/controls",
      "model_module_version": "1.5.0",
      "model_name": "VBoxModel",
      "state": {
       "children": [
        "IPY_MODEL_de1b6e5153424d869768cadbb8883780",
        "IPY_MODEL_ce4480b89de149ffb374ed4de9372b54"
       ],
       "layout": "IPY_MODEL_d2680599946344b987f50117a1e43d6d"
      }
     },
     "07fe0af879ca471bb8beb983b12f700f": {
      "model_module": "@jupyter-widgets/base",
      "model_module_version": "1.2.0",
      "model_name": "LayoutModel",
      "state": {}
     },
     "083548df2da5487eaaa8b5f81d05e311": {
      "model_module": "@jupyter-widgets/base",
      "model_module_version": "1.2.0",
      "model_name": "LayoutModel",
      "state": {}
     },
     "0915c8344ecd4519ac00b6dd2848618f": {
      "model_module": "@jupyter-widgets/output",
      "model_module_version": "1.0.0",
      "model_name": "OutputModel",
      "state": {
       "layout": "IPY_MODEL_91609bdd8e104270bd911ba10e8fe5e5",
       "outputs": [
        {
         "ename": "AttributeError",
         "evalue": "'list' object has no attribute 'values'",
         "output_type": "error",
         "traceback": [
          "\u001b[1;31m---------------------------------------------------------------------------\u001b[0m",
          "\u001b[1;31mAttributeError\u001b[0m                            Traceback (most recent call last)",
          "\u001b[1;32m~\\AppData\\Local\\Continuum\\anaconda3\\envs\\geoapps\\lib\\site-packages\\ipywidgets\\widgets\\interaction.py\u001b[0m in \u001b[0;36mobserver\u001b[1;34m(change)\u001b[0m\n\u001b[0;32m     77\u001b[0m         \u001b[1;32mwith\u001b[0m \u001b[0mout\u001b[0m\u001b[1;33m:\u001b[0m\u001b[1;33m\u001b[0m\u001b[1;33m\u001b[0m\u001b[0m\n\u001b[0;32m     78\u001b[0m             \u001b[0mclear_output\u001b[0m\u001b[1;33m(\u001b[0m\u001b[0mwait\u001b[0m\u001b[1;33m=\u001b[0m\u001b[1;32mTrue\u001b[0m\u001b[1;33m)\u001b[0m\u001b[1;33m\u001b[0m\u001b[1;33m\u001b[0m\u001b[0m\n\u001b[1;32m---> 79\u001b[1;33m             \u001b[0mf\u001b[0m\u001b[1;33m(\u001b[0m\u001b[1;33m**\u001b[0m\u001b[0mkwargs\u001b[0m\u001b[1;33m)\u001b[0m\u001b[1;33m\u001b[0m\u001b[1;33m\u001b[0m\u001b[0m\n\u001b[0m\u001b[0;32m     80\u001b[0m             \u001b[0mshow_inline_matplotlib_plots\u001b[0m\u001b[1;33m(\u001b[0m\u001b[1;33m)\u001b[0m\u001b[1;33m\u001b[0m\u001b[1;33m\u001b[0m\u001b[0m\n\u001b[0;32m     81\u001b[0m     \u001b[1;32mfor\u001b[0m \u001b[0mk\u001b[0m\u001b[1;33m,\u001b[0m\u001b[0mw\u001b[0m \u001b[1;32min\u001b[0m \u001b[0mcontrols\u001b[0m\u001b[1;33m.\u001b[0m\u001b[0mitems\u001b[0m\u001b[1;33m(\u001b[0m\u001b[1;33m)\u001b[0m\u001b[1;33m:\u001b[0m\u001b[1;33m\u001b[0m\u001b[1;33m\u001b[0m\u001b[0m\n",
          "\u001b[1;32m~\\Documents\\GIT\\mira\\mirageoscience-apps\\geoapps\\processing\\edge_detection.py\u001b[0m in \u001b[0;36mcompute_trigger\u001b[1;34m(self, compute)\u001b[0m\n\u001b[0;32m    231\u001b[0m             \u001b[0my\u001b[0m \u001b[1;33m=\u001b[0m \u001b[0mgrid\u001b[0m\u001b[1;33m.\u001b[0m\u001b[0mcentroids\u001b[0m\u001b[1;33m[\u001b[0m\u001b[1;33m:\u001b[0m\u001b[1;33m,\u001b[0m \u001b[1;36m1\u001b[0m\u001b[1;33m]\u001b[0m\u001b[1;33m.\u001b[0m\u001b[0mreshape\u001b[0m\u001b[1;33m(\u001b[0m\u001b[0mgrid\u001b[0m\u001b[1;33m.\u001b[0m\u001b[0mshape\u001b[0m\u001b[1;33m,\u001b[0m \u001b[0morder\u001b[0m\u001b[1;33m=\u001b[0m\u001b[1;34m\"F\"\u001b[0m\u001b[1;33m)\u001b[0m\u001b[1;33m\u001b[0m\u001b[1;33m\u001b[0m\u001b[0m\n\u001b[0;32m    232\u001b[0m             \u001b[0mz\u001b[0m \u001b[1;33m=\u001b[0m \u001b[0mgrid\u001b[0m\u001b[1;33m.\u001b[0m\u001b[0mcentroids\u001b[0m\u001b[1;33m[\u001b[0m\u001b[1;33m:\u001b[0m\u001b[1;33m,\u001b[0m \u001b[1;36m2\u001b[0m\u001b[1;33m]\u001b[0m\u001b[1;33m.\u001b[0m\u001b[0mreshape\u001b[0m\u001b[1;33m(\u001b[0m\u001b[0mgrid\u001b[0m\u001b[1;33m.\u001b[0m\u001b[0mshape\u001b[0m\u001b[1;33m,\u001b[0m \u001b[0morder\u001b[0m\u001b[1;33m=\u001b[0m\u001b[1;34m\"F\"\u001b[0m\u001b[1;33m)\u001b[0m\u001b[1;33m\u001b[0m\u001b[1;33m\u001b[0m\u001b[0m\n\u001b[1;32m--> 233\u001b[1;33m             \u001b[0mgrid_data\u001b[0m \u001b[1;33m=\u001b[0m \u001b[0mdata\u001b[0m\u001b[1;33m.\u001b[0m\u001b[0mvalues\u001b[0m\u001b[1;33m.\u001b[0m\u001b[0mreshape\u001b[0m\u001b[1;33m(\u001b[0m\u001b[0mgrid\u001b[0m\u001b[1;33m.\u001b[0m\u001b[0mshape\u001b[0m\u001b[1;33m,\u001b[0m \u001b[0morder\u001b[0m\u001b[1;33m=\u001b[0m\u001b[1;34m\"F\"\u001b[0m\u001b[1;33m)\u001b[0m\u001b[1;33m\u001b[0m\u001b[1;33m\u001b[0m\u001b[0m\n\u001b[0m\u001b[0;32m    234\u001b[0m             \u001b[0mindices\u001b[0m \u001b[1;33m=\u001b[0m \u001b[0mself\u001b[0m\u001b[1;33m.\u001b[0m\u001b[0mindices\u001b[0m\u001b[1;33m\u001b[0m\u001b[1;33m\u001b[0m\u001b[0m\n\u001b[0;32m    235\u001b[0m             ind_x, ind_y = (\n",
          "\u001b[1;31mAttributeError\u001b[0m: 'list' object has no attribute 'values'"
         ]
        }
       ]
      }
     },
     "092b7dba0e714ce0aa57269c327a4f65": {
      "model_module": "@jupyter-widgets/controls",
      "model_module_version": "1.5.0",
      "model_name": "DescriptionStyleModel",
      "state": {
       "description_width": ""
      }
     },
     "093bd7333420405a839ad7741edcb6b1": {
      "model_module": "@jupyter-widgets/controls",
      "model_module_version": "1.5.0",
      "model_name": "ButtonModel",
      "state": {
       "description": "Cancel",
       "layout": "IPY_MODEL_307a1d22249a4a819668ef005fd8f269",
       "style": "IPY_MODEL_7204b356a96c4c3ab7af006deb0d69c2"
      }
     },
     "0948b431ee6c453e98d1cd2c8a6a4052": {
      "model_module": "@jupyter-widgets/controls",
      "model_module_version": "1.5.0",
      "model_name": "CheckboxModel",
      "state": {
       "description": "GA Pro - Live link",
       "disabled": false,
       "indent": false,
       "layout": "IPY_MODEL_9a95a791a2ba452a99f697de05e1d191",
       "style": "IPY_MODEL_c3cd4f70ee704004b48e368e828f1327",
       "value": false
      }
     },
     "0978da024ad74165b226c6218d2d6fc6": {
      "model_module": "@jupyter-widgets/base",
      "model_module_version": "1.2.0",
      "model_name": "LayoutModel",
      "state": {}
     },
     "0984ebda22534d13a32cb106aeb6b217": {
      "model_module": "@jupyter-widgets/controls",
      "model_module_version": "1.5.0",
      "model_name": "DescriptionStyleModel",
      "state": {
       "description_width": ""
      }
     },
     "09a0f85509b843d784bbc368f48c878e": {
      "model_module": "@jupyter-widgets/controls",
      "model_module_version": "1.5.0",
      "model_name": "DescriptionStyleModel",
      "state": {
       "description_width": ""
      }
     },
     "0a006d0c5c194506ba6cdd8a1cb29ef9": {
      "model_module": "@jupyter-widgets/base",
      "model_module_version": "1.2.0",
      "model_name": "LayoutModel",
      "state": {}
     },
     "0a006fa75b63455b9e5f37aeaa7432a5": {
      "model_module": "@jupyter-widgets/controls",
      "model_module_version": "1.5.0",
      "model_name": "DescriptionStyleModel",
      "state": {
       "description_width": ""
      }
     },
     "0af64ae684e846b7b992ea42baed5d48": {
      "model_module": "@jupyter-widgets/base",
      "model_module_version": "1.2.0",
      "model_name": "LayoutModel",
      "state": {}
     },
     "0b3afaf1a1e548f39f1f819639649719": {
      "model_module": "@jupyter-widgets/base",
      "model_module_version": "1.2.0",
      "model_name": "LayoutModel",
      "state": {}
     },
     "0b885815e19a4132a62998ad08a9bfec": {
      "model_module": "@jupyter-widgets/output",
      "model_module_version": "1.0.0",
      "model_name": "OutputModel",
      "state": {
       "layout": "IPY_MODEL_2e4ca914ad6446d8b7949dd7ca08a8a9",
       "outputs": [
        {
         "data": {
          "image/png": "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\n",
          "text/plain": "<Figure size 720x720 with 1 Axes>"
         },
         "metadata": {
          "needs_background": "light"
         },
         "output_type": "display_data"
        }
       ]
      }
     },
     "0bb6ce445e8c4c5cb4ee64aa09eb5d8b": {
      "model_module": "@jupyter-widgets/controls",
      "model_module_version": "1.5.0",
      "model_name": "DescriptionStyleModel",
      "state": {
       "description_width": ""
      }
     },
     "0c2303f7e4db42ffaad54924c937edf7": {
      "model_module": "@jupyter-widgets/controls",
      "model_module_version": "1.5.0",
      "model_name": "HTMLModel",
      "state": {
       "layout": "IPY_MODEL_608a7fb1dec34ba5ab371f60fc13a681",
       "style": "IPY_MODEL_77d0bf684a074b9c81a4799ce2b8d6d4"
      }
     },
     "0cad1401700045c0a58d5392aba1e296": {
      "model_module": "@jupyter-widgets/controls",
      "model_module_version": "1.5.0",
      "model_name": "HBoxModel",
      "state": {
       "children": [
        "IPY_MODEL_30ee4647a22d4f1b8a302dc6f74a34df",
        "IPY_MODEL_d932dfb55d9e4abe813995e6e8c3cc77",
        "IPY_MODEL_5a126d9a23c24723829edc203f210bbe"
       ],
       "layout": "IPY_MODEL_6270fce66f2844f6828b4ea2838bd360"
      }
     },
     "0cb66c9e9d1a4cb38c850d7f35875a96": {
      "model_module": "@jupyter-widgets/controls",
      "model_module_version": "1.5.0",
      "model_name": "DescriptionStyleModel",
      "state": {
       "description_width": "initial"
      }
     },
     "0d384bda05e14db8a54cf0d9196cda53": {
      "model_module": "@jupyter-widgets/base",
      "model_module_version": "1.2.0",
      "model_name": "LayoutModel",
      "state": {
       "width": "auto"
      }
     },
     "0da2b59fee604102a9ad39244bcdfadc": {
      "model_module": "@jupyter-widgets/controls",
      "model_module_version": "1.5.0",
      "model_name": "LabelModel",
      "state": {
       "layout": "IPY_MODEL_1b5f718d646340098ce529c01c3a38eb",
       "style": "IPY_MODEL_1686a6a8fd99404a9c95bef98d2dc3b3",
       "value": "Data Count: 5341"
      }
     },
     "0e4fe2a8c219410099f6a560517e16db": {
      "model_module": "@jupyter-widgets/controls",
      "model_module_version": "1.5.0",
      "model_name": "ButtonModel",
      "state": {
       "description": "Create copy:",
       "layout": "IPY_MODEL_ec9ef6a59f0641bf860c7f4fade2894f",
       "style": "IPY_MODEL_e397de08f7df405c989768369b57eae7"
      }
     },
     "0f34834f8fed48beb3a60383df1b5f2d": {
      "model_module": "@jupyter-widgets/controls",
      "model_module_version": "1.5.0",
      "model_name": "HTMLModel",
      "state": {
       "layout": "IPY_MODEL_335e2b6982944a5f8ff2179d0e2b0d34",
       "style": "IPY_MODEL_53086a299b0d41d6be0fb026e79cbd95"
      }
     },
     "0f5fb1a117f045a1b9482f092bb38ad8": {
      "model_module": "@jupyter-widgets/controls",
      "model_module_version": "1.5.0",
      "model_name": "TextModel",
      "state": {
       "description": "Save as:",
       "layout": "IPY_MODEL_f4660a9ac7b74a498a64e1fce9d04932",
       "style": "IPY_MODEL_157ce7f1545440bb8c47cbb16b0aea80",
       "value": "Airborne_Gxx"
      }
     },
     "0f74a36dc02541e5aae0e5e9a3e65334": {
      "model_module": "@jupyter-widgets/base",
      "model_module_version": "1.2.0",
      "model_name": "LayoutModel",
      "state": {}
     },
     "0f985a5adb8547cb9a3134fff1d21dfa": {
      "model_module": "@jupyter-widgets/base",
      "model_module_version": "1.2.0",
      "model_name": "LayoutModel",
      "state": {}
     },
     "0fb871016fe74105a448069e74249841": {
      "model_module": "@jupyter-widgets/base",
      "model_module_version": "1.2.0",
      "model_name": "LayoutModel",
      "state": {}
     },
     "0fecc21aabab46c79b9e5d01dd5e361b": {
      "model_module": "@jupyter-widgets/controls",
      "model_module_version": "1.5.0",
      "model_name": "ButtonStyleModel",
      "state": {}
     },
     "1021aa137afe438d9717389e850f2a34": {
      "model_module": "@jupyter-widgets/controls",
      "model_module_version": "1.5.0",
      "model_name": "VBoxModel",
      "state": {
       "children": [
        "IPY_MODEL_699b686172b34b4aae8e29d49fe4f37f",
        "IPY_MODEL_ce479aaf676749dfbb36c8bdedeedf39"
       ],
       "layout": "IPY_MODEL_1bda428db8fa426d98f4685ca873dffe"
      }
     },
     "102ed7b452344501be08d94e911435f1": {
      "model_module": "@jupyter-widgets/controls",
      "model_module_version": "1.5.0",
      "model_name": "TextModel",
      "state": {
       "disabled": true,
       "layout": "IPY_MODEL_29aacfbd792b43c79efa53a18e9737e3",
       "placeholder": "output filename",
       "style": "IPY_MODEL_52e208fca304459f98f0c359ba01ecd3"
      }
     },
     "1033229ace114f1ab3ddb3e33dfa0939": {
      "model_module": "@jupyter-widgets/base",
      "model_module_version": "1.2.0",
      "model_name": "LayoutModel",
      "state": {}
     },
     "1105bc7cf7b746f6a9b02914e5aa7ec6": {
      "model_module": "@jupyter-widgets/controls",
      "model_module_version": "1.5.0",
      "model_name": "VBoxModel",
      "state": {
       "children": [
        "IPY_MODEL_7071281d494d44ff8cceffd842641023",
        "IPY_MODEL_f384294302fd4a5ebc76a2e82deb2c23"
       ],
       "layout": "IPY_MODEL_b2539b7d6eab4170975186a5bb58c74b"
      }
     },
     "114b26a19e7b4393a5d7e370c86413cb": {
      "model_module": "@jupyter-widgets/controls",
      "model_module_version": "1.5.0",
      "model_name": "DescriptionStyleModel",
      "state": {
       "description_width": ""
      }
     },
     "114ba43c01404544b86006ea36d22cfd": {
      "model_module": "@jupyter-widgets/controls",
      "model_module_version": "1.5.0",
      "model_name": "IntSliderModel",
      "state": {
       "continuous_update": false,
       "description": "Line Gap",
       "layout": "IPY_MODEL_5042b64198e7424ebe4e3dd54f9e1cef",
       "min": 1,
       "style": "IPY_MODEL_651c2b30148640beb4bc77913fcdebf1",
       "value": 1
      }
     },
     "1197de009fae4c0fb694fea1460cc1ea": {
      "model_module": "@jupyter-widgets/controls",
      "model_module_version": "1.5.0",
      "model_name": "FloatSliderModel",
      "state": {
       "continuous_update": false,
       "description": "Height",
       "layout": "IPY_MODEL_ddd9f50be2814c03acaf3d1fce745216",
       "max": 11351.865002485923,
       "orientation": "vertical",
       "step": 0.1,
       "style": "IPY_MODEL_56a0d0e2b9ba43ed822371c513b52057",
       "value": 5675.932501242962
      }
     },
     "125bc31421eb4712a0bf7e45d6fcf8a0": {
      "model_module": "@jupyter-widgets/base",
      "model_module_version": "1.2.0",
      "model_name": "LayoutModel",
      "state": {}
     },
     "12749e4f07f84aa99a29bc642d314e6c": {
      "model_module": "@jupyter-widgets/base",
      "model_module_version": "1.2.0",
      "model_name": "LayoutModel",
      "state": {
       "width": "auto"
      }
     },
     "13041a3700b743d89f65695bcb4091ea": {
      "model_module": "@jupyter-widgets/controls",
      "model_module_version": "1.5.0",
      "model_name": "DescriptionStyleModel",
      "state": {
       "description_width": "initial"
      }
     },
     "131bedf32d8b41d2aefad1bfe180ae92": {
      "model_module": "@jupyter-widgets/controls",
      "model_module_version": "1.5.0",
      "model_name": "DescriptionStyleModel",
      "state": {
       "description_width": ""
      }
     },
     "136b2e3c20d044b2b6d2a059d2be0c16": {
      "model_module": "@jupyter-widgets/controls",
      "model_module_version": "1.5.0",
      "model_name": "LabelModel",
      "state": {
       "layout": "IPY_MODEL_cf30b8865e2f4af2947bb62cbd382223",
       "style": "IPY_MODEL_bd1fe9dcc41b4f6a8f503a741c9af754",
       "value": "Monitoring folder"
      }
     },
     "138555b4f4a644e594996a791ab9e6e5": {
      "model_module": "@jupyter-widgets/base",
      "model_module_version": "1.2.0",
      "model_name": "LayoutModel",
      "state": {}
     },
     "138c8c0cbfb7402881e35b6c53693cc3": {
      "model_module": "@jupyter-widgets/controls",
      "model_module_version": "1.5.0",
      "model_name": "ButtonModel",
      "state": {
       "description": "Cancel",
       "layout": "IPY_MODEL_92ee2ed248444b198fd3fe70726f7059",
       "style": "IPY_MODEL_7cc2abeeb19d4e19970a6dde1576973e"
      }
     },
     "145a2b5a140640d0b337866b1f7d67c2": {
      "model_module": "@jupyter-widgets/controls",
      "model_module_version": "1.5.0",
      "model_name": "DescriptionStyleModel",
      "state": {
       "description_width": "initial"
      }
     },
     "1477d26bbee9466ebf1732ca7e7f4eb5": {
      "model_module": "@jupyter-widgets/controls",
      "model_module_version": "1.5.0",
      "model_name": "ButtonStyleModel",
      "state": {}
     },
     "14cc689d2e5b47738ff5676fb91556be": {
      "model_module": "@jupyter-widgets/controls",
      "model_module_version": "1.5.0",
      "model_name": "DropdownModel",
      "state": {
       "_options_labels": [
        "",
        "Gravity_Magnetics_drape60m"
       ],
       "description": "Object:",
       "index": 1,
       "layout": "IPY_MODEL_7914ee5efd0343d393e0fef033e3ee0f",
       "style": "IPY_MODEL_98144430f161415f921b007082353b63"
      }
     },
     "14d70015d1304a16a1eed447ea2f5486": {
      "model_module": "@jupyter-widgets/base",
      "model_module_version": "1.2.0",
      "model_name": "LayoutModel",
      "state": {}
     },
     "14efc3be0a62404f90c0c7a18201a271": {
      "model_module": "@jupyter-widgets/base",
      "model_module_version": "1.2.0",
      "model_name": "LayoutModel",
      "state": {
       "grid_area": "pathlist",
       "width": "auto"
      }
     },
     "156a49a6226641bd90b1f42f154a286a": {
      "model_module": "@jupyter-widgets/controls",
      "model_module_version": "1.5.0",
      "model_name": "IntSliderModel",
      "state": {
       "continuous_update": false,
       "description": "Threshold",
       "layout": "IPY_MODEL_eefbd6f354e840e3bf99f521c9e760c4",
       "min": 1,
       "style": "IPY_MODEL_e016bae93811469086bb68b7b68c5208",
       "value": 1
      }
     },
     "157ce7f1545440bb8c47cbb16b0aea80": {
      "model_module": "@jupyter-widgets/controls",
      "model_module_version": "1.5.0",
      "model_name": "DescriptionStyleModel",
      "state": {
       "description_width": ""
      }
     },
     "15c59b8ddcee4a7b86d12d25fe860be5": {
      "model_module": "@jupyter-widgets/controls",
      "model_module_version": "1.5.0",
      "model_name": "VBoxModel",
      "state": {
       "children": [
        "IPY_MODEL_33384c637c6b47ba8d7539c5665ed8ba",
        "IPY_MODEL_9939e56ed04b4c16b865bf2851e9effe"
       ],
       "layout": "IPY_MODEL_24188cdc3e1b46669cd4f5416d993693"
      }
     },
     "15c72386d44b40619e46216cf57f848c": {
      "model_module": "@jupyter-widgets/controls",
      "model_module_version": "1.5.0",
      "model_name": "TextModel",
      "state": {
       "disabled": true,
       "layout": "IPY_MODEL_cdec7ebe59434144afe88357a9ccff81",
       "placeholder": "output filename",
       "style": "IPY_MODEL_457e36b76c1a4360863eaa91f98aad59"
      }
     },
     "15f22067de0c461caa932b24c3b75b54": {
      "model_module": "@jupyter-widgets/controls",
      "model_module_version": "1.5.0",
      "model_name": "DescriptionStyleModel",
      "state": {
       "description_width": ""
      }
     },
     "167ace6d4cc84007afe880cf35589dba": {
      "model_module": "@jupyter-widgets/controls",
      "model_module_version": "1.5.0",
      "model_name": "VBoxModel",
      "state": {
       "children": [
        "IPY_MODEL_d755c93d9a2a47d7a3cde5148ef544a9",
        "IPY_MODEL_2b4791cf3ec644bbb375363a48c9e36a"
       ],
       "layout": "IPY_MODEL_bda51cab27ac4395a8caeab7f3dd1e29"
      }
     },
     "1686a6a8fd99404a9c95bef98d2dc3b3": {
      "model_module": "@jupyter-widgets/controls",
      "model_module_version": "1.5.0",
      "model_name": "DescriptionStyleModel",
      "state": {
       "description_width": ""
      }
     },
     "170e8f039a9b4972b11021034a801d65": {
      "model_module": "@jupyter-widgets/base",
      "model_module_version": "1.2.0",
      "model_name": "LayoutModel",
      "state": {}
     },
     "17691012141540668250d59fcc4f7e92": {
      "model_module": "@jupyter-widgets/base",
      "model_module_version": "1.2.0",
      "model_name": "LayoutModel",
      "state": {}
     },
     "1849d7cb34594d978a18070eec44ffd3": {
      "model_module": "@jupyter-widgets/controls",
      "model_module_version": "1.5.0",
      "model_name": "DescriptionStyleModel",
      "state": {
       "description_width": ""
      }
     },
     "1927ae68e74649f3b472f7a0e711bcfc": {
      "model_module": "@jupyter-widgets/controls",
      "model_module_version": "1.5.0",
      "model_name": "ButtonStyleModel",
      "state": {}
     },
     "1955d98385ce4969b2669afd8d3f2c37": {
      "model_module": "@jupyter-widgets/controls",
      "model_module_version": "1.5.0",
      "model_name": "VBoxModel",
      "state": {
       "children": [
        "IPY_MODEL_2b5e830cbed1497482b4ed010c32d73f",
        "IPY_MODEL_55fb706004cb404ca253ffcec01a06e9"
       ],
       "layout": "IPY_MODEL_1f131b6dedee4a6c875077ee95c91be0"
      }
     },
     "19584b7ba4344623844d278920c2c442": {
      "model_module": "@jupyter-widgets/controls",
      "model_module_version": "1.5.0",
      "model_name": "DescriptionStyleModel",
      "state": {
       "description_width": "initial"
      }
     },
     "19745314ed094fbc8ece46bd9117f0c8": {
      "model_module": "@jupyter-widgets/base",
      "model_module_version": "1.2.0",
      "model_name": "LayoutModel",
      "state": {}
     },
     "19d2788a47b84eeaae012b29bfd3da3d": {
      "model_module": "@jupyter-widgets/controls",
      "model_module_version": "1.5.0",
      "model_name": "VBoxModel",
      "state": {
       "children": [
        "IPY_MODEL_f677e1ef6bf44722808739db10cbc3e5",
        "IPY_MODEL_baff60ebcce14e668cbbc62f8d789a17"
       ],
       "layout": "IPY_MODEL_b8a1421292264868b56bc68cbc7289e5"
      }
     },
     "19e098e32cfc455f8ed720b3b0081876": {
      "model_module": "@jupyter-widgets/base",
      "model_module_version": "1.2.0",
      "model_name": "LayoutModel",
      "state": {}
     },
     "1a6d3c2c5e414b57917d36a33ff63963": {
      "model_module": "@jupyter-widgets/base",
      "model_module_version": "1.2.0",
      "model_name": "LayoutModel",
      "state": {
       "grid_area": "dircontent",
       "width": "auto"
      }
     },
     "1b5f718d646340098ce529c01c3a38eb": {
      "model_module": "@jupyter-widgets/base",
      "model_module_version": "1.2.0",
      "model_name": "LayoutModel",
      "state": {}
     },
     "1bad33b48dac479288a8baa3be1911b4": {
      "model_module": "@jupyter-widgets/controls",
      "model_module_version": "1.5.0",
      "model_name": "SliderStyleModel",
      "state": {
       "description_width": ""
      }
     },
     "1bda428db8fa426d98f4685ca873dffe": {
      "model_module": "@jupyter-widgets/base",
      "model_module_version": "1.2.0",
      "model_name": "LayoutModel",
      "state": {}
     },
     "1c03547b171e46f8a0b2822bf0629351": {
      "model_module": "@jupyter-widgets/controls",
      "model_module_version": "1.5.0",
      "model_name": "IntSliderModel",
      "state": {
       "continuous_update": false,
       "description": "Line Length",
       "layout": "IPY_MODEL_3929633137814647aecdcb64b171c4c5",
       "min": 1,
       "style": "IPY_MODEL_5b279644121146b883f5dee943dd8593",
       "value": 1
      }
     },
     "1c2709617408436486698bc3469e4811": {
      "model_module": "@jupyter-widgets/controls",
      "model_module_version": "1.5.0",
      "model_name": "ButtonModel",
      "state": {
       "description": "Create copy:",
       "layout": "IPY_MODEL_8a776cd50ac142b692a6aa5e87439e15",
       "style": "IPY_MODEL_1927ae68e74649f3b472f7a0e711bcfc"
      }
     },
     "1c99b5b1d3094d1ca4d48f362c3a6b42": {
      "model_module": "@jupyter-widgets/controls",
      "model_module_version": "1.5.0",
      "model_name": "VBoxModel",
      "state": {
       "children": [
        "IPY_MODEL_362b5699f7554a97bf58d9a6d0bdbe12",
        "IPY_MODEL_32bdf3a2b0bf44a1a317b6b98c5abfc6"
       ],
       "layout": "IPY_MODEL_fd890da2b0a047efb78c7c333f1a28b9"
      }
     },
     "1cfcedb2b006437495e8c360fe3bc77b": {
      "model_module": "@jupyter-widgets/controls",
      "model_module_version": "1.5.0",
      "model_name": "DescriptionStyleModel",
      "state": {
       "description_width": ""
      }
     },
     "1d36c22afe18416d8f50368297e3c295": {
      "model_module": "@jupyter-widgets/controls",
      "model_module_version": "1.5.0",
      "model_name": "DescriptionStyleModel",
      "state": {
       "description_width": "initial"
      }
     },
     "1d5371c11dd14f0f95c7a76f6eb2020a": {
      "model_module": "@jupyter-widgets/base",
      "model_module_version": "1.2.0",
      "model_name": "LayoutModel",
      "state": {}
     },
     "1df21e5085134d939983d624f460c3a7": {
      "model_module": "@jupyter-widgets/controls",
      "model_module_version": "1.5.0",
      "model_name": "DescriptionStyleModel",
      "state": {
       "description_width": ""
      }
     },
     "1eaec31383554996ae3205f6d915941b": {
      "model_module": "@jupyter-widgets/controls",
      "model_module_version": "1.5.0",
      "model_name": "DescriptionStyleModel",
      "state": {
       "description_width": "initial"
      }
     },
     "1eb453ddc86144bc8fb0466adad6e88b": {
      "model_module": "@jupyter-widgets/base",
      "model_module_version": "1.2.0",
      "model_name": "LayoutModel",
      "state": {
       "display": "none",
       "width": "auto"
      }
     },
     "1ee72b73f55649c8a5afdf32f6580142": {
      "model_module": "@jupyter-widgets/controls",
      "model_module_version": "1.5.0",
      "model_name": "ButtonStyleModel",
      "state": {}
     },
     "1f131b6dedee4a6c875077ee95c91be0": {
      "model_module": "@jupyter-widgets/base",
      "model_module_version": "1.2.0",
      "model_name": "LayoutModel",
      "state": {}
     },
     "1fae014501244411bcc6bbd89a1579bd": {
      "model_module": "@jupyter-widgets/base",
      "model_module_version": "1.2.0",
      "model_name": "LayoutModel",
      "state": {}
     },
     "1fbca724c51a41f98756a0eb57593942": {
      "model_module": "@jupyter-widgets/controls",
      "model_module_version": "1.5.0",
      "model_name": "ButtonStyleModel",
      "state": {}
     },
     "2009d26d306a4a2e8c8476f3bf925f75": {
      "model_module": "@jupyter-widgets/base",
      "model_module_version": "1.2.0",
      "model_name": "LayoutModel",
      "state": {}
     },
     "2108ddd98e524b93ad39b21b5f2cd36c": {
      "model_module": "@jupyter-widgets/controls",
      "model_module_version": "1.5.0",
      "model_name": "ButtonStyleModel",
      "state": {}
     },
     "217c04387c1a49608de69962129368ab": {
      "model_module": "@jupyter-widgets/controls",
      "model_module_version": "1.5.0",
      "model_name": "ButtonStyleModel",
      "state": {}
     },
     "2182e530e98240db920f79149f85c0f7": {
      "model_module": "@jupyter-widgets/controls",
      "model_module_version": "1.5.0",
      "model_name": "ToggleButtonModel",
      "state": {
       "layout": "IPY_MODEL_e7bf9516ae034045a872c80f50b56d53",
       "style": "IPY_MODEL_d792f6b74ea84fa5b54df887cd0ba6de",
       "value": true
      }
     },
     "21a3c6bdb475433da786998956aaf418": {
      "model_module": "@jupyter-widgets/controls",
      "model_module_version": "1.5.0",
      "model_name": "TextModel",
      "state": {
       "disabled": true,
       "layout": "IPY_MODEL_95c95471a93f4dbc8039615c26076e3d",
       "placeholder": "output filename",
       "style": "IPY_MODEL_87516ad68c9a45c59b83d94e79f22ace"
      }
     },
     "22aa724d8b68459fbfebf17ab1e5ceac": {
      "model_module": "@jupyter-widgets/base",
      "model_module_version": "1.2.0",
      "model_name": "LayoutModel",
      "state": {}
     },
     "239bdb2e634e492a964ffff7668dc69b": {
      "model_module": "@jupyter-widgets/controls",
      "model_module_version": "1.5.0",
      "model_name": "DescriptionStyleModel",
      "state": {
       "description_width": "initial"
      }
     },
     "24188cdc3e1b46669cd4f5416d993693": {
      "model_module": "@jupyter-widgets/base",
      "model_module_version": "1.2.0",
      "model_name": "LayoutModel",
      "state": {}
     },
     "248285774c2b43338188e3e619e740f2": {
      "model_module": "@jupyter-widgets/base",
      "model_module_version": "1.2.0",
      "model_name": "LayoutModel",
      "state": {
       "grid_area": "pathlist",
       "width": "auto"
      }
     },
     "2566a8e8b73b4551a242e836a1a2f691": {
      "model_module": "@jupyter-widgets/base",
      "model_module_version": "1.2.0",
      "model_name": "LayoutModel",
      "state": {
       "display": "none",
       "grid_gap": "0px 0px",
       "grid_template_areas": "\n                    'pathlist filename'\n                    'dircontent dircontent'\n                    ",
       "grid_template_columns": "60% 40%",
       "grid_template_rows": "auto auto",
       "width": "500px"
      }
     },
     "259da2fd65fd47c882809741100ae651": {
      "model_module": "@jupyter-widgets/controls",
      "model_module_version": "1.5.0",
      "model_name": "ButtonModel",
      "state": {
       "description": "Change",
       "layout": "IPY_MODEL_352ece5ea4d64dae9d486ed3910540ed",
       "style": "IPY_MODEL_2a42c9c48932403e9d2090dd74f98bf3"
      }
     },
     "2619abf9218c4d5c8564b8bbdbb73c9c": {
      "model_module": "@jupyter-widgets/controls",
      "model_module_version": "1.5.0",
      "model_name": "SelectModel",
      "state": {
       "_options_labels": [
        "..",
        "images"
       ],
       "index": null,
       "layout": "IPY_MODEL_edd5b66e49a34875a6ae4f7a02a54f05",
       "rows": 8,
       "style": "IPY_MODEL_f438441fa15540aa95fdbd08b7a7ed42"
      }
     },
     "265526b3eb134b588963213548754180": {
      "model_module": "@jupyter-widgets/controls",
      "model_module_version": "1.5.0",
      "model_name": "VBoxModel",
      "state": {
       "children": [
        "IPY_MODEL_5b8c20114ac74ecaa71a2501d4aabe1c",
        "IPY_MODEL_6c6b78a1d8ed4962827c79178d06bd3f"
       ],
       "layout": "IPY_MODEL_3e1fda877fdd4a2f99515272b4bc6c6f"
      }
     },
     "27580eabdc9f494fb30ef3cd0e63d4f5": {
      "model_module": "@jupyter-widgets/controls",
      "model_module_version": "1.5.0",
      "model_name": "VBoxModel",
      "state": {
       "children": [
        "IPY_MODEL_1105bc7cf7b746f6a9b02914e5aa7ec6",
        "IPY_MODEL_62ef076af7a946c39d5adfb77553e23c"
       ],
       "layout": "IPY_MODEL_2009d26d306a4a2e8c8476f3bf925f75"
      }
     },
     "276f6764365d46859ccfab58d25f3c1b": {
      "model_module": "@jupyter-widgets/controls",
      "model_module_version": "1.5.0",
      "model_name": "TextModel",
      "state": {
       "layout": "IPY_MODEL_5a793c52c052485693c4629e87b87c80",
       "placeholder": "output filename",
       "style": "IPY_MODEL_d9dadab6ac2f4c59bb14a5b714fc33f7",
       "value": "FlinFlon.geoh5"
      }
     },
     "287593e9ab8844949ba0dc50b6030baf": {
      "model_module": "@jupyter-widgets/base",
      "model_module_version": "1.2.0",
      "model_name": "LayoutModel",
      "state": {}
     },
     "28ee0480f9034e3a919ac117f60e2e99": {
      "model_module": "@jupyter-widgets/controls",
      "model_module_version": "1.5.0",
      "model_name": "GridBoxModel",
      "state": {
       "children": [
        "IPY_MODEL_2c4c53ab037f47d39f14edcae6e75229",
        "IPY_MODEL_21a3c6bdb475433da786998956aaf418",
        "IPY_MODEL_31d4f7c028bc4174bcfb71d14b469509"
       ],
       "layout": "IPY_MODEL_775864e37b7e45b38347662328c45203"
      }
     },
     "29aacfbd792b43c79efa53a18e9737e3": {
      "model_module": "@jupyter-widgets/base",
      "model_module_version": "1.2.0",
      "model_name": "LayoutModel",
      "state": {
       "display": "none",
       "grid_area": "filename",
       "width": "auto"
      }
     },
     "2a42c9c48932403e9d2090dd74f98bf3": {
      "model_module": "@jupyter-widgets/controls",
      "model_module_version": "1.5.0",
      "model_name": "ButtonStyleModel",
      "state": {}
     },
     "2a741800d62344be9fb0f69adaf23718": {
      "model_module": "@jupyter-widgets/controls",
      "model_module_version": "1.5.0",
      "model_name": "SelectModel",
      "state": {
       "_options_labels": [
        "..",
        "Temp",
        "dask-worker-space",
        "Crossplot.html",
        "FlinFlon.geoh5",
        "FlinFlon_light.geoh5",
        "MtDore_TMI.geoh5"
       ],
       "index": 4,
       "layout": "IPY_MODEL_b9d9ca589fb84d71b74b2cdcfaa47216",
       "rows": 8,
       "style": "IPY_MODEL_4a2a429d0a824800999eacc5b438dfc1"
      }
     },
     "2af82f904c994b2d884697a7acedd660": {
      "model_module": "@jupyter-widgets/output",
      "model_module_version": "1.0.0",
      "model_name": "OutputModel",
      "state": {
       "layout": "IPY_MODEL_774c7fbbcd774a2e8ca2472605a417bb",
       "outputs": [
        {
         "ename": "AttributeError",
         "evalue": "'list' object has no attribute 'values'",
         "output_type": "error",
         "traceback": [
          "\u001b[1;31m---------------------------------------------------------------------------\u001b[0m",
          "\u001b[1;31mAttributeError\u001b[0m                            Traceback (most recent call last)",
          "\u001b[1;32m~\\AppData\\Local\\Continuum\\anaconda3\\envs\\geoapps\\lib\\site-packages\\ipywidgets\\widgets\\interaction.py\u001b[0m in \u001b[0;36mobserver\u001b[1;34m(change)\u001b[0m\n\u001b[0;32m     77\u001b[0m         \u001b[1;32mwith\u001b[0m \u001b[0mout\u001b[0m\u001b[1;33m:\u001b[0m\u001b[1;33m\u001b[0m\u001b[1;33m\u001b[0m\u001b[0m\n\u001b[0;32m     78\u001b[0m             \u001b[0mclear_output\u001b[0m\u001b[1;33m(\u001b[0m\u001b[0mwait\u001b[0m\u001b[1;33m=\u001b[0m\u001b[1;32mTrue\u001b[0m\u001b[1;33m)\u001b[0m\u001b[1;33m\u001b[0m\u001b[1;33m\u001b[0m\u001b[0m\n\u001b[1;32m---> 79\u001b[1;33m             \u001b[0mf\u001b[0m\u001b[1;33m(\u001b[0m\u001b[1;33m**\u001b[0m\u001b[0mkwargs\u001b[0m\u001b[1;33m)\u001b[0m\u001b[1;33m\u001b[0m\u001b[1;33m\u001b[0m\u001b[0m\n\u001b[0m\u001b[0;32m     80\u001b[0m             \u001b[0mshow_inline_matplotlib_plots\u001b[0m\u001b[1;33m(\u001b[0m\u001b[1;33m)\u001b[0m\u001b[1;33m\u001b[0m\u001b[1;33m\u001b[0m\u001b[0m\n\u001b[0;32m     81\u001b[0m     \u001b[1;32mfor\u001b[0m \u001b[0mk\u001b[0m\u001b[1;33m,\u001b[0m\u001b[0mw\u001b[0m \u001b[1;32min\u001b[0m \u001b[0mcontrols\u001b[0m\u001b[1;33m.\u001b[0m\u001b[0mitems\u001b[0m\u001b[1;33m(\u001b[0m\u001b[1;33m)\u001b[0m\u001b[1;33m:\u001b[0m\u001b[1;33m\u001b[0m\u001b[1;33m\u001b[0m\u001b[0m\n",
          "\u001b[1;32m~\\Documents\\GIT\\mira\\mirageoscience-apps\\geoapps\\processing\\edge_detection.py\u001b[0m in \u001b[0;36mcompute_trigger\u001b[1;34m(self, compute)\u001b[0m\n\u001b[0;32m    231\u001b[0m             \u001b[0my\u001b[0m \u001b[1;33m=\u001b[0m \u001b[0mgrid\u001b[0m\u001b[1;33m.\u001b[0m\u001b[0mcentroids\u001b[0m\u001b[1;33m[\u001b[0m\u001b[1;33m:\u001b[0m\u001b[1;33m,\u001b[0m \u001b[1;36m1\u001b[0m\u001b[1;33m]\u001b[0m\u001b[1;33m.\u001b[0m\u001b[0mreshape\u001b[0m\u001b[1;33m(\u001b[0m\u001b[0mgrid\u001b[0m\u001b[1;33m.\u001b[0m\u001b[0mshape\u001b[0m\u001b[1;33m,\u001b[0m \u001b[0morder\u001b[0m\u001b[1;33m=\u001b[0m\u001b[1;34m\"F\"\u001b[0m\u001b[1;33m)\u001b[0m\u001b[1;33m\u001b[0m\u001b[1;33m\u001b[0m\u001b[0m\n\u001b[0;32m    232\u001b[0m             \u001b[0mz\u001b[0m \u001b[1;33m=\u001b[0m \u001b[0mgrid\u001b[0m\u001b[1;33m.\u001b[0m\u001b[0mcentroids\u001b[0m\u001b[1;33m[\u001b[0m\u001b[1;33m:\u001b[0m\u001b[1;33m,\u001b[0m \u001b[1;36m2\u001b[0m\u001b[1;33m]\u001b[0m\u001b[1;33m.\u001b[0m\u001b[0mreshape\u001b[0m\u001b[1;33m(\u001b[0m\u001b[0mgrid\u001b[0m\u001b[1;33m.\u001b[0m\u001b[0mshape\u001b[0m\u001b[1;33m,\u001b[0m \u001b[0morder\u001b[0m\u001b[1;33m=\u001b[0m\u001b[1;34m\"F\"\u001b[0m\u001b[1;33m)\u001b[0m\u001b[1;33m\u001b[0m\u001b[1;33m\u001b[0m\u001b[0m\n\u001b[1;32m--> 233\u001b[1;33m             \u001b[0mgrid_data\u001b[0m \u001b[1;33m=\u001b[0m \u001b[0mdata\u001b[0m\u001b[1;33m.\u001b[0m\u001b[0mvalues\u001b[0m\u001b[1;33m.\u001b[0m\u001b[0mreshape\u001b[0m\u001b[1;33m(\u001b[0m\u001b[0mgrid\u001b[0m\u001b[1;33m.\u001b[0m\u001b[0mshape\u001b[0m\u001b[1;33m,\u001b[0m \u001b[0morder\u001b[0m\u001b[1;33m=\u001b[0m\u001b[1;34m\"F\"\u001b[0m\u001b[1;33m)\u001b[0m\u001b[1;33m\u001b[0m\u001b[1;33m\u001b[0m\u001b[0m\n\u001b[0m\u001b[0;32m    234\u001b[0m             \u001b[0mindices\u001b[0m \u001b[1;33m=\u001b[0m \u001b[0mself\u001b[0m\u001b[1;33m.\u001b[0m\u001b[0mindices\u001b[0m\u001b[1;33m\u001b[0m\u001b[1;33m\u001b[0m\u001b[0m\n\u001b[0;32m    235\u001b[0m             ind_x, ind_y = (\n",
          "\u001b[1;31mAttributeError\u001b[0m: 'list' object has no attribute 'values'"
         ]
        }
       ]
      }
     },
     "2b4791cf3ec644bbb375363a48c9e36a": {
      "model_module": "@jupyter-widgets/controls",
      "model_module_version": "1.5.0",
      "model_name": "HBoxModel",
      "state": {
       "children": [
        "IPY_MODEL_522f659038c44161980d959373f120cd",
        "IPY_MODEL_fdf7636c8217423d8463b57ef0e5d6a6",
        "IPY_MODEL_03fa97697d82493095481d72b4738507"
       ],
       "layout": "IPY_MODEL_724c2dc43f5a4b0e9e03aea8538c5007"
      }
     },
     "2b5e830cbed1497482b4ed010c32d73f": {
      "model_module": "@jupyter-widgets/controls",
      "model_module_version": "1.5.0",
      "model_name": "VBoxModel",
      "state": {
       "children": [
        "IPY_MODEL_d3986273699e4a27b9b0dc69cdc18216",
        "IPY_MODEL_eed837fb05c3463fa62106f9db4e8389"
       ],
       "layout": "IPY_MODEL_499fd0beed0349c0a2a4aeec8b697d00"
      }
     },
     "2bdca72eb447438da7338e892ac7e03a": {
      "model_module": "@jupyter-widgets/controls",
      "model_module_version": "1.5.0",
      "model_name": "FloatTextModel",
      "state": {
       "description": "Grid Resolution (m)",
       "layout": "IPY_MODEL_f27b86d1fb75478ab89b2599f8b4b855",
       "step": null,
       "style": "IPY_MODEL_239bdb2e634e492a964ffff7668dc69b",
       "value": 50
      }
     },
     "2c4c53ab037f47d39f14edcae6e75229": {
      "model_module": "@jupyter-widgets/controls",
      "model_module_version": "1.5.0",
      "model_name": "DropdownModel",
      "state": {
       "_options_labels": [
        "C:\\Users\\dominiquef\\Documents\\GIT\\mira\\mirageoscience-apps\\docs\\content\\applications",
        "C:\\Users\\dominiquef\\Documents\\GIT\\mira\\mirageoscience-apps\\docs\\content",
        "C:\\Users\\dominiquef\\Documents\\GIT\\mira\\mirageoscience-apps\\docs",
        "C:\\Users\\dominiquef\\Documents\\GIT\\mira\\mirageoscience-apps",
        "C:\\Users\\dominiquef\\Documents\\GIT\\mira",
        "C:\\Users\\dominiquef\\Documents\\GIT",
        "C:\\Users\\dominiquef\\Documents",
        "C:\\Users\\dominiquef",
        "C:\\Users",
        "C:\\",
        "D:\\",
        "Z:\\"
       ],
       "index": 0,
       "layout": "IPY_MODEL_248285774c2b43338188e3e619e740f2",
       "style": "IPY_MODEL_114b26a19e7b4393a5d7e370c86413cb"
      }
     },
     "2c77e15f53044a6e9743c0971a0572fd": {
      "model_module": "@jupyter-widgets/base",
      "model_module_version": "1.2.0",
      "model_name": "LayoutModel",
      "state": {
       "display": "none"
      }
     },
     "2cd8ae021f07472ea18bfcc335ddb3ca": {
      "model_module": "@jupyter-widgets/base",
      "model_module_version": "1.2.0",
      "model_name": "LayoutModel",
      "state": {}
     },
     "2d49c7eb75924426875d16596836b525": {
      "model_module": "@jupyter-widgets/base",
      "model_module_version": "1.2.0",
      "model_name": "LayoutModel",
      "state": {}
     },
     "2e1ba529886849c0b76ddfefcec06fa6": {
      "model_module": "@jupyter-widgets/base",
      "model_module_version": "1.2.0",
      "model_name": "LayoutModel",
      "state": {}
     },
     "2e4ca914ad6446d8b7949dd7ca08a8a9": {
      "model_module": "@jupyter-widgets/base",
      "model_module_version": "1.2.0",
      "model_name": "LayoutModel",
      "state": {}
     },
     "2eb6a3767c224ba49cef89cd8691d402": {
      "model_module": "@jupyter-widgets/base",
      "model_module_version": "1.2.0",
      "model_name": "LayoutModel",
      "state": {}
     },
     "2ebcdeaa6c054c62a18f201444db90e3": {
      "model_module": "@jupyter-widgets/controls",
      "model_module_version": "1.5.0",
      "model_name": "SliderStyleModel",
      "state": {
       "description_width": ""
      }
     },
     "2fbca2d59562400cb2e86728f8cce55b": {
      "model_module": "@jupyter-widgets/base",
      "model_module_version": "1.2.0",
      "model_name": "LayoutModel",
      "state": {}
     },
     "300630f85bfa44aab1a4e1dd02b0bd4e": {
      "model_module": "@jupyter-widgets/controls",
      "model_module_version": "1.5.0",
      "model_name": "DescriptionStyleModel",
      "state": {
       "description_width": ""
      }
     },
     "303b1688ec52405b9066089b1364045d": {
      "model_module": "@jupyter-widgets/base",
      "model_module_version": "1.2.0",
      "model_name": "LayoutModel",
      "state": {}
     },
     "30473a35e80b4268aaaf06f7fc2e0908": {
      "model_module": "@jupyter-widgets/controls",
      "model_module_version": "1.5.0",
      "model_name": "DescriptionStyleModel",
      "state": {
       "description_width": ""
      }
     },
     "307a1d22249a4a819668ef005fd8f269": {
      "model_module": "@jupyter-widgets/base",
      "model_module_version": "1.2.0",
      "model_name": "LayoutModel",
      "state": {
       "display": "none",
       "width": "auto"
      }
     },
     "30ac9d4cd111483dbf01ebcb27801803": {
      "model_module": "@jupyter-widgets/controls",
      "model_module_version": "1.5.0",
      "model_name": "ButtonStyleModel",
      "state": {}
     },
     "30ee4647a22d4f1b8a302dc6f74a34df": {
      "model_module": "@jupyter-widgets/controls",
      "model_module_version": "1.5.0",
      "model_name": "ButtonModel",
      "state": {
       "description": "Change",
       "layout": "IPY_MODEL_a8304945a6d84927a57d8b0a6cd64839",
       "style": "IPY_MODEL_f28ee5ed28e04150b9ddc7cbd06b9344"
      }
     },
     "312e91f1b5a34214b81bf26420278bcd": {
      "model_module": "@jupyter-widgets/controls",
      "model_module_version": "1.5.0",
      "model_name": "IntSliderModel",
      "state": {
       "continuous_update": false,
       "description": "Window size",
       "layout": "IPY_MODEL_0f74a36dc02541e5aae0e5e9a3e65334",
       "max": 512,
       "min": 16,
       "style": "IPY_MODEL_b5cb3c28da6c4a0da62080357d178789",
       "value": 64
      }
     },
     "313c6ee41b834d3b9fbb944d0a8f368f": {
      "model_module": "@jupyter-widgets/controls",
      "model_module_version": "1.5.0",
      "model_name": "DescriptionStyleModel",
      "state": {
       "description_width": ""
      }
     },
     "31d4f7c028bc4174bcfb71d14b469509": {
      "model_module": "@jupyter-widgets/controls",
      "model_module_version": "1.5.0",
      "model_name": "SelectModel",
      "state": {
       "_options_labels": [
        "..",
        "images"
       ],
       "index": null,
       "layout": "IPY_MODEL_f624d11bc40f4094a47a9f927560f816",
       "rows": 8,
       "style": "IPY_MODEL_778d9d7c40554ce19343164814243a44"
      }
     },
     "32bdf3a2b0bf44a1a317b6b98c5abfc6": {
      "model_module": "@jupyter-widgets/controls",
      "model_module_version": "1.5.0",
      "model_name": "TextModel",
      "state": {
       "continuous_update": false,
       "description": "Group:",
       "layout": "IPY_MODEL_3324c6a7ea984585adb5d3ee9127049e",
       "style": "IPY_MODEL_0cb66c9e9d1a4cb38c850d7f35875a96",
       "value": "Edges"
      }
     },
     "32c2994f9ae74054bca82475427a0357": {
      "model_module": "@jupyter-widgets/controls",
      "model_module_version": "1.5.0",
      "model_name": "SelectModel",
      "state": {
       "_options_labels": [
        "..",
        "Temp",
        "dask-worker-space",
        "Crossplot.html",
        "FlinFlon.geoh5",
        "FlinFlon_light.geoh5",
        "MtDore_TMI.geoh5"
       ],
       "index": 4,
       "layout": "IPY_MODEL_c98d69a9832d470c96f2a1160bb84c13",
       "rows": 8,
       "style": "IPY_MODEL_5b67aca71a1c4726bce459e5fcbd74d6"
      }
     },
     "32d253cbb05e4c8d8863ff3ca5e58779": {
      "model_module": "@jupyter-widgets/controls",
      "model_module_version": "1.5.0",
      "model_name": "ButtonModel",
      "state": {
       "description": "Create copy:",
       "layout": "IPY_MODEL_4772995888d5420d8c7fbfde0667c4a9",
       "style": "IPY_MODEL_9942705630134fe984a3cd157805aff5"
      }
     },
     "3322953cebe846ffb305c6bcdf82085a": {
      "model_module": "@jupyter-widgets/controls",
      "model_module_version": "1.5.0",
      "model_name": "FloatSliderModel",
      "state": {
       "continuous_update": false,
       "description": "Sigma",
       "layout": "IPY_MODEL_68e4d0026015434b8eaa69da60c851b6",
       "max": 10,
       "step": 0.1,
       "style": "IPY_MODEL_8b63f448bcf74f35b7aa73ccc7bd9719",
       "value": 0.5
      }
     },
     "3324c6a7ea984585adb5d3ee9127049e": {
      "model_module": "@jupyter-widgets/base",
      "model_module_version": "1.2.0",
      "model_name": "LayoutModel",
      "state": {}
     },
     "33384c637c6b47ba8d7539c5665ed8ba": {
      "model_module": "@jupyter-widgets/controls",
      "model_module_version": "1.5.0",
      "model_name": "FloatTextModel",
      "state": {
       "description": "Grid Resolution (m)",
       "layout": "IPY_MODEL_dc78696d976e4c2d8eb2057f3fca58a5",
       "step": null,
       "style": "IPY_MODEL_d70fa88158d1477b9a5a83d6aa2fa7e7",
       "value": 50
      }
     },
     "335e2b6982944a5f8ff2179d0e2b0d34": {
      "model_module": "@jupyter-widgets/base",
      "model_module_version": "1.2.0",
      "model_name": "LayoutModel",
      "state": {
       "display": "none"
      }
     },
     "3372a696631b4f04b22a285d02e3e81c": {
      "model_module": "@jupyter-widgets/controls",
      "model_module_version": "1.5.0",
      "model_name": "VBoxModel",
      "state": {
       "children": [
        "IPY_MODEL_0948b431ee6c453e98d1cd2c8a6a4052"
       ],
       "layout": "IPY_MODEL_75fec73ac9c04fd790985ac9b39546ba"
      }
     },
     "349dea9a2a044598b5acb1d74470c340": {
      "model_module": "@jupyter-widgets/controls",
      "model_module_version": "1.5.0",
      "model_name": "VBoxModel",
      "state": {
       "children": [
        "IPY_MODEL_d755c93d9a2a47d7a3cde5148ef544a9",
        "IPY_MODEL_a1b97762825f402995cb116e0ce4b879"
       ],
       "layout": "IPY_MODEL_4af8b8d3fccf4759a462fbf5ae672b74"
      }
     },
     "34bc6067595b4a5aae4c8814ca8f435b": {
      "model_module": "@jupyter-widgets/base",
      "model_module_version": "1.2.0",
      "model_name": "LayoutModel",
      "state": {
       "width": "auto"
      }
     },
     "352ece5ea4d64dae9d486ed3910540ed": {
      "model_module": "@jupyter-widgets/base",
      "model_module_version": "1.2.0",
      "model_name": "LayoutModel",
      "state": {
       "width": "auto"
      }
     },
     "3586da831573414a8878118b0c10c5ab": {
      "model_module": "@jupyter-widgets/controls",
      "model_module_version": "1.5.0",
      "model_name": "SliderStyleModel",
      "state": {
       "description_width": ""
      }
     },
     "35f9fd3d0ece4df380e7b409d6e435b3": {
      "model_module": "@jupyter-widgets/controls",
      "model_module_version": "1.5.0",
      "model_name": "SliderStyleModel",
      "state": {
       "description_width": ""
      }
     },
     "362b5699f7554a97bf58d9a6d0bdbe12": {
      "model_module": "@jupyter-widgets/controls",
      "model_module_version": "1.5.0",
      "model_name": "ButtonModel",
      "state": {
       "button_style": "success",
       "description": "Save to GA",
       "icon": "check",
       "layout": "IPY_MODEL_aa317d22158b48b8879fb1a5c0bdcdc3",
       "style": "IPY_MODEL_1477d26bbee9466ebf1732ca7e7f4eb5",
       "tooltip": "Run computation"
      }
     },
     "36301c2457134ac49fb91edda083697d": {
      "model_module": "@jupyter-widgets/controls",
      "model_module_version": "1.5.0",
      "model_name": "ButtonModel",
      "state": {
       "description": "Cancel",
       "layout": "IPY_MODEL_a5cca40d535d4036956c29a91c60df10",
       "style": "IPY_MODEL_a52febe8bbcb47ed90a45ab9cdb9d667"
      }
     },
     "372a68f1a9934317b11e8af74291b328": {
      "model_module": "@jupyter-widgets/base",
      "model_module_version": "1.2.0",
      "model_name": "LayoutModel",
      "state": {}
     },
     "3752da4178354849aac50043cfcc7598": {
      "model_module": "@jupyter-widgets/base",
      "model_module_version": "1.2.0",
      "model_name": "LayoutModel",
      "state": {}
     },
     "378f80e2b9fd4ffaab079995bb0cf192": {
      "model_module": "@jupyter-widgets/controls",
      "model_module_version": "1.5.0",
      "model_name": "DescriptionStyleModel",
      "state": {
       "description_width": ""
      }
     },
     "37b922d5409643139a2b594f60945878": {
      "model_module": "@jupyter-widgets/base",
      "model_module_version": "1.2.0",
      "model_name": "LayoutModel",
      "state": {}
     },
     "37d3e9e13684418f87e9ca6bdc4fb065": {
      "model_module": "@jupyter-widgets/base",
      "model_module_version": "1.2.0",
      "model_name": "LayoutModel",
      "state": {
       "width": "auto"
      }
     },
     "3819f8b50f95496aa3f2f80850be3989": {
      "model_module": "@jupyter-widgets/base",
      "model_module_version": "1.2.0",
      "model_name": "LayoutModel",
      "state": {}
     },
     "390f960ce8a14b2ca461fad2434fbef4": {
      "model_module": "@jupyter-widgets/controls",
      "model_module_version": "1.5.0",
      "model_name": "SliderStyleModel",
      "state": {
       "description_width": ""
      }
     },
     "3929633137814647aecdcb64b171c4c5": {
      "model_module": "@jupyter-widgets/base",
      "model_module_version": "1.2.0",
      "model_name": "LayoutModel",
      "state": {}
     },
     "396c15ab817e42c69af35d14475da50c": {
      "model_module": "@jupyter-widgets/controls",
      "model_module_version": "1.5.0",
      "model_name": "VBoxModel",
      "state": {
       "children": [
        "IPY_MODEL_011bfe61d62f4892ab7cc2b5e5a8bb7b",
        "IPY_MODEL_46a865e1bbbf4b61bf339934f5481d30",
        "IPY_MODEL_0b885815e19a4132a62998ad08a9bfec",
        "IPY_MODEL_8760293ee77a4b8d9e70c33173d2af4c",
        "IPY_MODEL_7634d06617324821956f10ede238ee2e"
       ],
       "layout": "IPY_MODEL_2eb6a3767c224ba49cef89cd8691d402"
      }
     },
     "3a0f0de6bdaa44a49cfd78faec2525c8": {
      "model_module": "@jupyter-widgets/base",
      "model_module_version": "1.2.0",
      "model_name": "LayoutModel",
      "state": {}
     },
     "3a50cb4ac983482f8cb7ff5a550c0b32": {
      "model_module": "@jupyter-widgets/base",
      "model_module_version": "1.2.0",
      "model_name": "LayoutModel",
      "state": {}
     },
     "3a9a1ae95b3540a5962e888e822dd2fe": {
      "model_module": "@jupyter-widgets/controls",
      "model_module_version": "1.5.0",
      "model_name": "DescriptionStyleModel",
      "state": {
       "description_width": ""
      }
     },
     "3afdd203736c42e4b58b9f8073b81c19": {
      "model_module": "@jupyter-widgets/controls",
      "model_module_version": "1.5.0",
      "model_name": "SliderStyleModel",
      "state": {
       "description_width": ""
      }
     },
     "3b30701677e14320b0cc4f6dd8089b8f": {
      "model_module": "@jupyter-widgets/controls",
      "model_module_version": "1.5.0",
      "model_name": "HTMLModel",
      "state": {
       "layout": "IPY_MODEL_4a852a4519da45e4b4a5a7335fb58394",
       "placeholder": "",
       "style": "IPY_MODEL_0984ebda22534d13a32cb106aeb6b217",
       "value": "<span style=\"margin-left:10px; color:orange;\">C:\\Users\\dominiquef\\Documents\\GIT\\mira\\mirageoscience-apps\\assets\\FlinFlon.geoh5</span>"
      }
     },
     "3bc4c5edbf14427393602be030b10558": {
      "model_module": "@jupyter-widgets/controls",
      "model_module_version": "1.5.0",
      "model_name": "SelectModel",
      "state": {
       "_options_labels": [
        "..",
        "Temp",
        "dask-worker-space",
        "Crossplot.html",
        "FlinFlon.geoh5",
        "FlinFlon_light.geoh5",
        "MtDore_TMI.geoh5"
       ],
       "index": 4,
       "layout": "IPY_MODEL_79da426f5672427cb1517df0f71a6a65",
       "rows": 8,
       "style": "IPY_MODEL_300630f85bfa44aab1a4e1dd02b0bd4e"
      }
     },
     "3c674ca94c984c639ff2e5fb9c8531ae": {
      "model_module": "@jupyter-widgets/controls",
      "model_module_version": "1.5.0",
      "model_name": "SliderStyleModel",
      "state": {
       "description_width": ""
      }
     },
     "3d480bcb33944a2e8421c42cb992db5c": {
      "model_module": "@jupyter-widgets/base",
      "model_module_version": "1.2.0",
      "model_name": "LayoutModel",
      "state": {}
     },
     "3e1fda877fdd4a2f99515272b4bc6c6f": {
      "model_module": "@jupyter-widgets/base",
      "model_module_version": "1.2.0",
      "model_name": "LayoutModel",
      "state": {}
     },
     "3e77b599bf584313adb5dc5c55d20c3e": {
      "model_module": "@jupyter-widgets/base",
      "model_module_version": "1.2.0",
      "model_name": "LayoutModel",
      "state": {}
     },
     "3ee250e35d984ba4bc11ac4adffa094c": {
      "model_module": "@jupyter-widgets/base",
      "model_module_version": "1.2.0",
      "model_name": "LayoutModel",
      "state": {}
     },
     "3f975c3403214792a86dd06763bafaf3": {
      "model_module": "@jupyter-widgets/controls",
      "model_module_version": "1.5.0",
      "model_name": "ButtonStyleModel",
      "state": {}
     },
     "3fc9f314379d4335bfae77891f8fc76a": {
      "model_module": "@jupyter-widgets/controls",
      "model_module_version": "1.5.0",
      "model_name": "SliderStyleModel",
      "state": {
       "description_width": ""
      }
     },
     "40be3f2392524f26bf3ba7a4b3e3e0bd": {
      "model_module": "@jupyter-widgets/controls",
      "model_module_version": "1.5.0",
      "model_name": "HBoxModel",
      "state": {
       "children": [
        "IPY_MODEL_259da2fd65fd47c882809741100ae651",
        "IPY_MODEL_c40560a5182f437086fd076f91385325",
        "IPY_MODEL_8a84ac5917594b49a7b22151e7fb056a"
       ],
       "layout": "IPY_MODEL_e9910621852543cb8940b3578e6f85ef"
      }
     },
     "41c1d78b62b648659d00932f42d90a86": {
      "model_module": "@jupyter-widgets/base",
      "model_module_version": "1.2.0",
      "model_name": "LayoutModel",
      "state": {}
     },
     "425a6adbdabe43fc91c6c9a6ca7ecd84": {
      "model_module": "@jupyter-widgets/controls",
      "model_module_version": "1.5.0",
      "model_name": "SliderStyleModel",
      "state": {
       "description_width": ""
      }
     },
     "42a07af343d54d05bcc1e8c8dbd4aa8a": {
      "model_module": "@jupyter-widgets/controls",
      "model_module_version": "1.5.0",
      "model_name": "DescriptionStyleModel",
      "state": {
       "description_width": "initial"
      }
     },
     "4386b91962e24239bf4ccf59920e3546": {
      "model_module": "@jupyter-widgets/controls",
      "model_module_version": "1.5.0",
      "model_name": "SliderStyleModel",
      "state": {
       "description_width": "initial"
      }
     },
     "4467a8bef4bb412ba7d75a311adb5a4e": {
      "model_module": "@jupyter-widgets/base",
      "model_module_version": "1.2.0",
      "model_name": "LayoutModel",
      "state": {}
     },
     "448669a4054544d08114a1a3bbe3d45c": {
      "model_module": "@jupyter-widgets/controls",
      "model_module_version": "1.5.0",
      "model_name": "ButtonStyleModel",
      "state": {}
     },
     "4517b77bb6de4fe787951dbfd7da24b6": {
      "model_module": "@jupyter-widgets/controls",
      "model_module_version": "1.5.0",
      "model_name": "DescriptionStyleModel",
      "state": {
       "description_width": ""
      }
     },
     "451961f1f67d41c6b9cbca50b90fae95": {
      "model_module": "@jupyter-widgets/controls",
      "model_module_version": "1.5.0",
      "model_name": "VBoxModel",
      "state": {
       "children": [
        "IPY_MODEL_f2cfb66885f74bf7a403b798ecfaf766",
        "IPY_MODEL_b309d6c0daad4918a056175beffd3511",
        "IPY_MODEL_40be3f2392524f26bf3ba7a4b3e3e0bd"
       ],
       "layout": "IPY_MODEL_569ec8e0ff594ea6be25d0a174bc8a03"
      }
     },
     "457e36b76c1a4360863eaa91f98aad59": {
      "model_module": "@jupyter-widgets/controls",
      "model_module_version": "1.5.0",
      "model_name": "DescriptionStyleModel",
      "state": {
       "description_width": ""
      }
     },
     "4626fe91ce3a4888af95729e3de47683": {
      "model_module": "@jupyter-widgets/controls",
      "model_module_version": "1.5.0",
      "model_name": "DescriptionStyleModel",
      "state": {
       "description_width": "initial"
      }
     },
     "466638c48bc94910b5263a12d3c23edf": {
      "model_module": "@jupyter-widgets/base",
      "model_module_version": "1.2.0",
      "model_name": "LayoutModel",
      "state": {}
     },
     "46a865e1bbbf4b61bf339934f5481d30": {
      "model_module": "@jupyter-widgets/controls",
      "model_module_version": "1.5.0",
      "model_name": "FloatSliderModel",
      "state": {
       "continuous_update": false,
       "description": "Easting",
       "layout": "IPY_MODEL_07fe0af879ca471bb8beb983b12f700f",
       "max": 319234.2051362576,
       "min": 311898.69919769425,
       "step": 0.1,
       "style": "IPY_MODEL_e286b85f77304537af5eb67be571f434",
       "value": 315566.45216697594
      }
     },
     "46ce7eeffe874ee79ceae119c0abe9f7": {
      "model_module": "@jupyter-widgets/controls",
      "model_module_version": "1.5.0",
      "model_name": "IntSliderModel",
      "state": {
       "continuous_update": false,
       "description": "Window size",
       "layout": "IPY_MODEL_712c631a8c2d4eae8853f1d247f2ea9e",
       "max": 512,
       "min": 16,
       "style": "IPY_MODEL_bfc742b074064d6cbef4340f5e380af2",
       "value": 64
      }
     },
     "4772995888d5420d8c7fbfde0667c4a9": {
      "model_module": "@jupyter-widgets/base",
      "model_module_version": "1.2.0",
      "model_name": "LayoutModel",
      "state": {}
     },
     "47b6f01d217f496183911307c851d669": {
      "model_module": "@jupyter-widgets/controls",
      "model_module_version": "1.5.0",
      "model_name": "ToggleButtonModel",
      "state": {
       "layout": "IPY_MODEL_f4311545ba7a42169d02179d276d709b",
       "style": "IPY_MODEL_6b99141f1d8e4faeb1e8bdedabf6997c",
       "value": true
      }
     },
     "47b9aead09ae499b88a1d8728bed70c1": {
      "model_module": "@jupyter-widgets/base",
      "model_module_version": "1.2.0",
      "model_name": "LayoutModel",
      "state": {}
     },
     "47eb5ce7777946279ec257721be94f19": {
      "model_module": "@jupyter-widgets/base",
      "model_module_version": "1.2.0",
      "model_name": "LayoutModel",
      "state": {
       "width": "50%"
      }
     },
     "47f83ee49dbe4c659638f7cabcd376f8": {
      "model_module": "@jupyter-widgets/base",
      "model_module_version": "1.2.0",
      "model_name": "LayoutModel",
      "state": {}
     },
     "480332ca7eeb43f7932cf5d611361c26": {
      "model_module": "@jupyter-widgets/base",
      "model_module_version": "1.2.0",
      "model_name": "LayoutModel",
      "state": {
       "align_items": "center"
      }
     },
     "48c4854168624e49ae147e682c8eca67": {
      "model_module": "@jupyter-widgets/controls",
      "model_module_version": "1.5.0",
      "model_name": "DescriptionStyleModel",
      "state": {
       "description_width": ""
      }
     },
     "48df5fb60f68412f813d5040d2c95e43": {
      "model_module": "@jupyter-widgets/base",
      "model_module_version": "1.2.0",
      "model_name": "LayoutModel",
      "state": {
       "width": "auto"
      }
     },
     "495733ca50a84d3b9217f989aad94086": {
      "model_module": "@jupyter-widgets/controls",
      "model_module_version": "1.5.0",
      "model_name": "FloatSliderModel",
      "state": {
       "continuous_update": false,
       "description": "Sigma",
       "layout": "IPY_MODEL_d74de8730166467d89e4a03887cc6438",
       "max": 10,
       "step": 0.1,
       "style": "IPY_MODEL_4386b91962e24239bf4ccf59920e3546",
       "value": 0.5
      }
     },
     "499fd0beed0349c0a2a4aeec8b697d00": {
      "model_module": "@jupyter-widgets/base",
      "model_module_version": "1.2.0",
      "model_name": "LayoutModel",
      "state": {}
     },
     "49d3313a113f4dcd8d31dbbfa7862e4b": {
      "model_module": "@jupyter-widgets/base",
      "model_module_version": "1.2.0",
      "model_name": "LayoutModel",
      "state": {
       "display": "none",
       "width": "auto"
      }
     },
     "4a2a429d0a824800999eacc5b438dfc1": {
      "model_module": "@jupyter-widgets/controls",
      "model_module_version": "1.5.0",
      "model_name": "DescriptionStyleModel",
      "state": {
       "description_width": ""
      }
     },
     "4a852a4519da45e4b4a5a7335fb58394": {
      "model_module": "@jupyter-widgets/base",
      "model_module_version": "1.2.0",
      "model_name": "LayoutModel",
      "state": {}
     },
     "4af8b8d3fccf4759a462fbf5ae672b74": {
      "model_module": "@jupyter-widgets/base",
      "model_module_version": "1.2.0",
      "model_name": "LayoutModel",
      "state": {}
     },
     "4b59d26fff6f4285aa4988bda6f68b7c": {
      "model_module": "@jupyter-widgets/base",
      "model_module_version": "1.2.0",
      "model_name": "LayoutModel",
      "state": {}
     },
     "4b75d75efbb942d9a8d5c50ef31054f1": {
      "model_module": "@jupyter-widgets/base",
      "model_module_version": "1.2.0",
      "model_name": "LayoutModel",
      "state": {}
     },
     "4c15c4bafb8840c48a8469d382753180": {
      "model_module": "@jupyter-widgets/controls",
      "model_module_version": "1.5.0",
      "model_name": "VBoxModel",
      "state": {
       "children": [
        "IPY_MODEL_064a083d3cd44db9b729ee82e8e742a5"
       ],
       "layout": "IPY_MODEL_81663e17c2ba407ea606beca0dc00f38"
      }
     },
     "4c6668faaaef4807b3f02217731d007c": {
      "model_module": "@jupyter-widgets/base",
      "model_module_version": "1.2.0",
      "model_name": "LayoutModel",
      "state": {}
     },
     "4cccb36ed6e14e85b2d94a3d1fd57fe5": {
      "model_module": "@jupyter-widgets/base",
      "model_module_version": "1.2.0",
      "model_name": "LayoutModel",
      "state": {}
     },
     "4cecd7585eb54dc9a421ad14308be52a": {
      "model_module": "@jupyter-widgets/controls",
      "model_module_version": "1.5.0",
      "model_name": "DescriptionStyleModel",
      "state": {
       "description_width": ""
      }
     },
     "4d09611b5b504d3cbe64e617cb9cce50": {
      "model_module": "@jupyter-widgets/controls",
      "model_module_version": "1.5.0",
      "model_name": "DescriptionStyleModel",
      "state": {
       "description_width": ""
      }
     },
     "4d9ba4f36d114729bdb1e479ae8590ff": {
      "model_module": "@jupyter-widgets/controls",
      "model_module_version": "1.5.0",
      "model_name": "DescriptionStyleModel",
      "state": {
       "description_width": ""
      }
     },
     "4da9f670235f4a8aa36700102bc04e15": {
      "model_module": "@jupyter-widgets/controls",
      "model_module_version": "1.5.0",
      "model_name": "ButtonStyleModel",
      "state": {}
     },
     "4e4076f3c7164d66b1a658cf9c5262be": {
      "model_module": "@jupyter-widgets/controls",
      "model_module_version": "1.5.0",
      "model_name": "DescriptionStyleModel",
      "state": {
       "description_width": ""
      }
     },
     "4f442af1a0114390a6a957e49f15b804": {
      "model_module": "@jupyter-widgets/base",
      "model_module_version": "1.2.0",
      "model_name": "LayoutModel",
      "state": {}
     },
     "4ffa8e18d3464ec1a758242efe529452": {
      "model_module": "@jupyter-widgets/controls",
      "model_module_version": "1.5.0",
      "model_name": "SelectModel",
      "state": {
       "_options_labels": [
        "..",
        "images"
       ],
       "index": null,
       "layout": "IPY_MODEL_932fc12a324246ffbef653586a5aa699",
       "rows": 8,
       "style": "IPY_MODEL_4cecd7585eb54dc9a421ad14308be52a"
      }
     },
     "5042b64198e7424ebe4e3dd54f9e1cef": {
      "model_module": "@jupyter-widgets/base",
      "model_module_version": "1.2.0",
      "model_name": "LayoutModel",
      "state": {}
     },
     "505ee4aebb9d472ebaee68c8862f2b20": {
      "model_module": "@jupyter-widgets/controls",
      "model_module_version": "1.5.0",
      "model_name": "DescriptionStyleModel",
      "state": {
       "description_width": "initial"
      }
     },
     "50780fede3b14195b8e4d5556eaedc48": {
      "model_module": "@jupyter-widgets/controls",
      "model_module_version": "1.5.0",
      "model_name": "DescriptionStyleModel",
      "state": {
       "description_width": "initial"
      }
     },
     "508e06eb28fe4c08b2d4aeac7edbc3c3": {
      "model_module": "@jupyter-widgets/base",
      "model_module_version": "1.2.0",
      "model_name": "LayoutModel",
      "state": {}
     },
     "5118505844c944b0b96d3b5e08c45a33": {
      "model_module": "@jupyter-widgets/controls",
      "model_module_version": "1.5.0",
      "model_name": "DescriptionStyleModel",
      "state": {
       "description_width": "initial"
      }
     },
     "51705fd9e8144a9f992de43eef7bf48a": {
      "model_module": "@jupyter-widgets/controls",
      "model_module_version": "1.5.0",
      "model_name": "DescriptionStyleModel",
      "state": {
       "description_width": ""
      }
     },
     "522f659038c44161980d959373f120cd": {
      "model_module": "@jupyter-widgets/controls",
      "model_module_version": "1.5.0",
      "model_name": "VBoxModel",
      "state": {
       "children": [
        "IPY_MODEL_265526b3eb134b588963213548754180",
        "IPY_MODEL_6458a8645a404f549e84b84492df24b5"
       ],
       "layout": "IPY_MODEL_c049aac107174c2b8fa785df593776d3"
      }
     },
     "52e208fca304459f98f0c359ba01ecd3": {
      "model_module": "@jupyter-widgets/controls",
      "model_module_version": "1.5.0",
      "model_name": "DescriptionStyleModel",
      "state": {
       "description_width": ""
      }
     },
     "53086a299b0d41d6be0fb026e79cbd95": {
      "model_module": "@jupyter-widgets/controls",
      "model_module_version": "1.5.0",
      "model_name": "DescriptionStyleModel",
      "state": {
       "description_width": ""
      }
     },
     "5341f81745df44039036287ad44d7ec6": {
      "model_module": "@jupyter-widgets/controls",
      "model_module_version": "1.5.0",
      "model_name": "HTMLModel",
      "state": {
       "layout": "IPY_MODEL_19745314ed094fbc8ece46bd9117f0c8",
       "placeholder": "",
       "style": "IPY_MODEL_6d2ae9561ecc4c108fe1dea2c653574d",
       "value": "<span style=\"margin-left:10px; color:black;\">No file selected</span>"
      }
     },
     "538e087a8e4c4506b5855bc4a2a36fab": {
      "model_module": "@jupyter-widgets/controls",
      "model_module_version": "1.5.0",
      "model_name": "DescriptionStyleModel",
      "state": {
       "description_width": "initial"
      }
     },
     "5474ece5a7bf4d9c8cae3309c2df5328": {
      "model_module": "@jupyter-widgets/controls",
      "model_module_version": "1.5.0",
      "model_name": "VBoxModel",
      "state": {
       "children": [
        "IPY_MODEL_5e8272ebfd394626b7f102167d9fbe64",
        "IPY_MODEL_843374379b1a4fd7b51138c1fcfd6bfc"
       ],
       "layout": "IPY_MODEL_287593e9ab8844949ba0dc50b6030baf"
      }
     },
     "55ccdb460e204dc99094865dab2e315b": {
      "model_module": "@jupyter-widgets/controls",
      "model_module_version": "1.5.0",
      "model_name": "ButtonStyleModel",
      "state": {}
     },
     "55fb706004cb404ca253ffcec01a06e9": {
      "model_module": "@jupyter-widgets/controls",
      "model_module_version": "1.5.0",
      "model_name": "VBoxModel",
      "state": {
       "children": [
        "IPY_MODEL_b9dc2232155a4bba9e33cc6dde3da4d1",
        "IPY_MODEL_b8d11118ea414a1bb846f2e63eb64aca"
       ],
       "layout": "IPY_MODEL_4f442af1a0114390a6a957e49f15b804"
      }
     },
     "569ec8e0ff594ea6be25d0a174bc8a03": {
      "model_module": "@jupyter-widgets/base",
      "model_module_version": "1.2.0",
      "model_name": "LayoutModel",
      "state": {
       "width": "auto"
      }
     },
     "56a0d0e2b9ba43ed822371c513b52057": {
      "model_module": "@jupyter-widgets/controls",
      "model_module_version": "1.5.0",
      "model_name": "SliderStyleModel",
      "state": {
       "description_width": ""
      }
     },
     "56d2409d82b74861b22fb40fa2394e5a": {
      "model_module": "@jupyter-widgets/controls",
      "model_module_version": "1.5.0",
      "model_name": "HBoxModel",
      "state": {
       "children": [
        "IPY_MODEL_451961f1f67d41c6b9cbca50b90fae95",
        "IPY_MODEL_32d253cbb05e4c8d8863ff3ca5e58779"
       ],
       "layout": "IPY_MODEL_b205acd56e064557920dcc246b7cdbbd"
      }
     },
     "56dc96d4fa394cd6a0774a3060cd9e1e": {
      "model_module": "@jupyter-widgets/base",
      "model_module_version": "1.2.0",
      "model_name": "LayoutModel",
      "state": {}
     },
     "56f716c1b1cb48368fed1cf9da9958ec": {
      "model_module": "@jupyter-widgets/controls",
      "model_module_version": "1.5.0",
      "model_name": "LabelModel",
      "state": {
       "layout": "IPY_MODEL_ead393251b4e46e5a6a1a807b55dea2c",
       "style": "IPY_MODEL_0472e653a7064d109ddb369061048160",
       "value": "Monitoring folder"
      }
     },
     "572c1e626d7a45128ebc9491c53a0bcb": {
      "model_module": "@jupyter-widgets/controls",
      "model_module_version": "1.5.0",
      "model_name": "TextModel",
      "state": {
       "continuous_update": false,
       "description": "Contours",
       "layout": "IPY_MODEL_4b75d75efbb942d9a8d5c50ef31054f1",
       "style": "IPY_MODEL_63ef8e4f3eb24cbe9489c556ecbe08a8"
      }
     },
     "572d86d53bae468c93d7b29c5fd2b782": {
      "model_module": "@jupyter-widgets/controls",
      "model_module_version": "1.5.0",
      "model_name": "SliderStyleModel",
      "state": {
       "description_width": ""
      }
     },
     "576deb6dd5ee426bb9ae5c6ac90bc5c6": {
      "model_module": "@jupyter-widgets/base",
      "model_module_version": "1.2.0",
      "model_name": "LayoutModel",
      "state": {}
     },
     "5794952ac1024b5bb6eac3c854dfbdb9": {
      "model_module": "@jupyter-widgets/controls",
      "model_module_version": "1.5.0",
      "model_name": "DescriptionStyleModel",
      "state": {
       "description_width": ""
      }
     },
     "57bbe246b33c4ff488f1617dd2f43950": {
      "model_module": "@jupyter-widgets/controls",
      "model_module_version": "1.5.0",
      "model_name": "ButtonStyleModel",
      "state": {}
     },
     "58dda25e25ea485cada34c059b5569e2": {
      "model_module": "@jupyter-widgets/base",
      "model_module_version": "1.2.0",
      "model_name": "LayoutModel",
      "state": {
       "display": "none",
       "grid_gap": "0px 0px",
       "grid_template_areas": "\n                    'pathlist filename'\n                    'dircontent dircontent'\n                    ",
       "grid_template_columns": "60% 40%",
       "grid_template_rows": "auto auto",
       "width": "500px"
      }
     },
     "595bf25b9ebb468fa64fdc6e0fd679b4": {
      "model_module": "@jupyter-widgets/controls",
      "model_module_version": "1.5.0",
      "model_name": "VBoxModel",
      "state": {
       "children": [
        "IPY_MODEL_136b2e3c20d044b2b6d2a059d2be0c16",
        "IPY_MODEL_b14b6c6884424f049a1115a8f9d212cf"
       ],
       "layout": "IPY_MODEL_2e1ba529886849c0b76ddfefcec06fa6"
      }
     },
     "597801df8dac4290bd8b2e8a78384b25": {
      "model_module": "@jupyter-widgets/controls",
      "model_module_version": "1.5.0",
      "model_name": "HTMLModel",
      "state": {
       "layout": "IPY_MODEL_2c77e15f53044a6e9743c0971a0572fd",
       "style": "IPY_MODEL_0bb6ce445e8c4c5cb4ee64aa09eb5d8b"
      }
     },
     "5a126d9a23c24723829edc203f210bbe": {
      "model_module": "@jupyter-widgets/controls",
      "model_module_version": "1.5.0",
      "model_name": "HTMLModel",
      "state": {
       "layout": "IPY_MODEL_303b1688ec52405b9066089b1364045d",
       "placeholder": "",
       "style": "IPY_MODEL_7beb6a94e4354053af70d9b764533860",
       "value": "<span style=\"margin-left:10px; color:orange;\">C:\\Users\\dominiquef\\Documents\\GIT\\mira\\mirageoscience-apps\\assets\\FlinFlon.geoh5</span>"
      }
     },
     "5a793c52c052485693c4629e87b87c80": {
      "model_module": "@jupyter-widgets/base",
      "model_module_version": "1.2.0",
      "model_name": "LayoutModel",
      "state": {
       "grid_area": "filename",
       "width": "auto"
      }
     },
     "5a9c5d96973b4d43a568a57ee9be1acb": {
      "model_module": "@jupyter-widgets/controls",
      "model_module_version": "1.5.0",
      "model_name": "SelectModel",
      "state": {
       "_options_labels": [
        "..",
        "Temp",
        "dask-worker-space",
        "Crossplot.html",
        "FlinFlon.geoh5",
        "FlinFlon_light.geoh5",
        "MtDore_TMI.geoh5"
       ],
       "index": 4,
       "layout": "IPY_MODEL_8303b6a98b07485ab1a7560441ee3f42",
       "rows": 8,
       "style": "IPY_MODEL_e9327e29ca32456eaa54038262df9379"
      }
     },
     "5b279644121146b883f5dee943dd8593": {
      "model_module": "@jupyter-widgets/controls",
      "model_module_version": "1.5.0",
      "model_name": "SliderStyleModel",
      "state": {
       "description_width": ""
      }
     },
     "5b67aca71a1c4726bce459e5fcbd74d6": {
      "model_module": "@jupyter-widgets/controls",
      "model_module_version": "1.5.0",
      "model_name": "DescriptionStyleModel",
      "state": {
       "description_width": ""
      }
     },
     "5b8c20114ac74ecaa71a2501d4aabe1c": {
      "model_module": "@jupyter-widgets/controls",
      "model_module_version": "1.5.0",
      "model_name": "DropdownModel",
      "state": {
       "_options_labels": [
        "",
        "Gravity_Magnetics_drape60m"
       ],
       "description": "Object:",
       "index": 1,
       "layout": "IPY_MODEL_3ee250e35d984ba4bc11ac4adffa094c",
       "style": "IPY_MODEL_d7b37aae6de547a7acf9cd3b0f578bcf"
      }
     },
     "5c2ea8bf186449599852285cf7c03fc4": {
      "model_module": "@jupyter-widgets/controls",
      "model_module_version": "1.5.0",
      "model_name": "ButtonStyleModel",
      "state": {}
     },
     "5d125837e7e141f9b371e6fe67341fda": {
      "model_module": "@jupyter-widgets/base",
      "model_module_version": "1.2.0",
      "model_name": "LayoutModel",
      "state": {}
     },
     "5dc27a907338402d9f6f68806da5afca": {
      "model_module": "@jupyter-widgets/base",
      "model_module_version": "1.2.0",
      "model_name": "LayoutModel",
      "state": {
       "display": "none",
       "width": "auto"
      }
     },
     "5e8272ebfd394626b7f102167d9fbe64": {
      "model_module": "@jupyter-widgets/controls",
      "model_module_version": "1.5.0",
      "model_name": "ButtonModel",
      "state": {
       "button_style": "success",
       "description": "Save to GA",
       "icon": "check",
       "layout": "IPY_MODEL_4cccb36ed6e14e85b2d94a3d1fd57fe5",
       "style": "IPY_MODEL_2108ddd98e524b93ad39b21b5f2cd36c",
       "tooltip": "Run computation"
      }
     },
     "5f045a4509ad4f4792a77d460558177b": {
      "model_module": "@jupyter-widgets/controls",
      "model_module_version": "1.5.0",
      "model_name": "GridBoxModel",
      "state": {
       "children": [
        "IPY_MODEL_b2155a87da1441e194a4b809d2bd832c",
        "IPY_MODEL_c3ae1bd516ea4fd99e8f4033ba9a3936",
        "IPY_MODEL_4ffa8e18d3464ec1a758242efe529452"
       ],
       "layout": "IPY_MODEL_adec9bdf26cd4fc983fa5b167364b6f2"
      }
     },
     "5f11b8597ae94862b77f1935bfd799b4": {
      "model_module": "@jupyter-widgets/controls",
      "model_module_version": "1.5.0",
      "model_name": "VBoxModel",
      "state": {
       "children": [
        "IPY_MODEL_a392aa56ec704c06857960efa267ef75",
        "IPY_MODEL_0da2b59fee604102a9ad39244bcdfadc"
       ],
       "layout": "IPY_MODEL_883cc8587e0f4671adadf4c0dd6e5b47"
      }
     },
     "5f52c39e1aa7470ea0bad031d16e88ef": {
      "model_module": "@jupyter-widgets/base",
      "model_module_version": "1.2.0",
      "model_name": "LayoutModel",
      "state": {}
     },
     "608a7fb1dec34ba5ab371f60fc13a681": {
      "model_module": "@jupyter-widgets/base",
      "model_module_version": "1.2.0",
      "model_name": "LayoutModel",
      "state": {
       "display": "none"
      }
     },
     "6123a9b0b80c47829078bc4164d492cb": {
      "model_module": "@jupyter-widgets/controls",
      "model_module_version": "1.5.0",
      "model_name": "HTMLModel",
      "state": {
       "layout": "IPY_MODEL_9fbf4584a92f4bbc95b02d2c6605d7f7",
       "style": "IPY_MODEL_0476b86c87df401a889de1f7c918f2b7"
      }
     },
     "616b45bf9f784b81a0a4c24882e7a339": {
      "model_module": "@jupyter-widgets/controls",
      "model_module_version": "1.5.0",
      "model_name": "HTMLModel",
      "state": {
       "layout": "IPY_MODEL_a22e2d1c0cf44cd1901d72db2585d419",
       "placeholder": "",
       "style": "IPY_MODEL_c8adf27f28544a25a5fd5edbd626746b",
       "value": "<span style=\"margin-left:10px; color:black;\">No file selected</span>"
      }
     },
     "616feeb8f9a64b1d820d586948560ea3": {
      "model_module": "@jupyter-widgets/controls",
      "model_module_version": "1.5.0",
      "model_name": "DescriptionStyleModel",
      "state": {
       "description_width": "initial"
      }
     },
     "6174a5beb70742dca652c7d005509b4c": {
      "model_module": "@jupyter-widgets/controls",
      "model_module_version": "1.5.0",
      "model_name": "DescriptionStyleModel",
      "state": {
       "description_width": "initial"
      }
     },
     "61c238ee67954aa18c0b42682b3c569e": {
      "model_module": "@jupyter-widgets/controls",
      "model_module_version": "1.5.0",
      "model_name": "DescriptionStyleModel",
      "state": {
       "description_width": "initial"
      }
     },
     "61cf3a6193054a85aa6d8c9f87d7c655": {
      "model_module": "@jupyter-widgets/controls",
      "model_module_version": "1.5.0",
      "model_name": "IntSliderModel",
      "state": {
       "continuous_update": false,
       "description": "Line Length",
       "layout": "IPY_MODEL_c7486bea6b0243dfb7241369e4485128",
       "min": 1,
       "style": "IPY_MODEL_84bd827ed2ac461ebc338bc36fb92593",
       "value": 1
      }
     },
     "61ed1a6e1797404eb087006c02309496": {
      "model_module": "@jupyter-widgets/controls",
      "model_module_version": "1.5.0",
      "model_name": "CheckboxModel",
      "state": {
       "description": "GA Pro - Live link",
       "disabled": false,
       "indent": false,
       "layout": "IPY_MODEL_37b922d5409643139a2b594f60945878",
       "style": "IPY_MODEL_bc5a4175e0d84e5fb7bf79e9ab77602f",
       "value": false
      }
     },
     "6270fce66f2844f6828b4ea2838bd360": {
      "model_module": "@jupyter-widgets/base",
      "model_module_version": "1.2.0",
      "model_name": "LayoutModel",
      "state": {
       "width": "auto"
      }
     },
     "62ad35fe1d134add8bfec3258262fa8b": {
      "model_module": "@jupyter-widgets/controls",
      "model_module_version": "1.5.0",
      "model_name": "ButtonModel",
      "state": {
       "description": "Select",
       "layout": "IPY_MODEL_34bc6067595b4a5aae4c8814ca8f435b",
       "style": "IPY_MODEL_6ff7fd76bfdf4688b9efa6df467cf005"
      }
     },
     "62ef076af7a946c39d5adfb77553e23c": {
      "model_module": "@jupyter-widgets/controls",
      "model_module_version": "1.5.0",
      "model_name": "VBoxModel",
      "state": {
       "children": [
        "IPY_MODEL_cf40bd4a7f2e4c47bd2a95d4ed85b425"
       ],
       "layout": "IPY_MODEL_a67f1e0090864f2a8ff231a132aee6b4"
      }
     },
     "62fff458e7784d66af214c6c89240559": {
      "model_module": "@jupyter-widgets/controls",
      "model_module_version": "1.5.0",
      "model_name": "HTMLModel",
      "state": {
       "layout": "IPY_MODEL_4467a8bef4bb412ba7d75a311adb5a4e",
       "placeholder": "",
       "style": "IPY_MODEL_1df21e5085134d939983d624f460c3a7",
       "value": "<span style=\"margin-left:10px; color:black;\">No file selected</span>"
      }
     },
     "6303cfb4dfd942a7bfc50e71265a6895": {
      "model_module": "@jupyter-widgets/controls",
      "model_module_version": "1.5.0",
      "model_name": "VBoxModel",
      "state": {
       "children": [
        "IPY_MODEL_5f11b8597ae94862b77f1935bfd799b4",
        "IPY_MODEL_651cd76d26464cd6848c08a83bbbc3e7"
       ],
       "layout": "IPY_MODEL_3752da4178354849aac50043cfcc7598"
      }
     },
     "630625d1f5584ec7888544fd80b64cc1": {
      "model_module": "@jupyter-widgets/controls",
      "model_module_version": "1.5.0",
      "model_name": "DescriptionStyleModel",
      "state": {
       "description_width": "initial"
      }
     },
     "63ef8e4f3eb24cbe9489c556ecbe08a8": {
      "model_module": "@jupyter-widgets/controls",
      "model_module_version": "1.5.0",
      "model_name": "DescriptionStyleModel",
      "state": {
       "description_width": ""
      }
     },
     "642db6f0f8ea47cc9dea422d8861016b": {
      "model_module": "@jupyter-widgets/controls",
      "model_module_version": "1.5.0",
      "model_name": "SliderStyleModel",
      "state": {
       "description_width": ""
      }
     },
     "64579ddc012a4bffb6c51d087fe8d819": {
      "model_module": "@jupyter-widgets/controls",
      "model_module_version": "1.5.0",
      "model_name": "IntSliderModel",
      "state": {
       "continuous_update": false,
       "description": "Threshold",
       "layout": "IPY_MODEL_8bd4a50d01a84ce884f816efadc4d4a7",
       "min": 1,
       "style": "IPY_MODEL_2ebcdeaa6c054c62a18f201444db90e3",
       "value": 1
      }
     },
     "6458a8645a404f549e84b84492df24b5": {
      "model_module": "@jupyter-widgets/controls",
      "model_module_version": "1.5.0",
      "model_name": "VBoxModel",
      "state": {
       "children": [
        "IPY_MODEL_c63f3f771953402788ea2a9e75453968",
        "IPY_MODEL_cbe7e630e9d147b29e5af4fde815af7c"
       ],
       "layout": "IPY_MODEL_fc6eda2ca53542dfb3c1097733cf3199"
      }
     },
     "64de0fa927d341ba83fca4b67d0248ed": {
      "model_module": "@jupyter-widgets/base",
      "model_module_version": "1.2.0",
      "model_name": "LayoutModel",
      "state": {
       "grid_area": "filename",
       "width": "auto"
      }
     },
     "651c2b30148640beb4bc77913fcdebf1": {
      "model_module": "@jupyter-widgets/controls",
      "model_module_version": "1.5.0",
      "model_name": "SliderStyleModel",
      "state": {
       "description_width": ""
      }
     },
     "651cd76d26464cd6848c08a83bbbc3e7": {
      "model_module": "@jupyter-widgets/controls",
      "model_module_version": "1.5.0",
      "model_name": "HBoxModel",
      "state": {
       "children": [
        "IPY_MODEL_8e2bb5385c3b4a81ba1e8ad93e8c9769",
        "IPY_MODEL_1197de009fae4c0fb694fea1460cc1ea",
        "IPY_MODEL_83f25f77c95243a5a60249dcf9764392"
       ],
       "layout": "IPY_MODEL_99cd6aa1dd7e49a7ad59d93a799b31a0"
      }
     },
     "65a0dc5527fb4ccda707fe3e437a156c": {
      "model_module": "@jupyter-widgets/base",
      "model_module_version": "1.2.0",
      "model_name": "LayoutModel",
      "state": {}
     },
     "66217ec322504e96828a8331a5270e0c": {
      "model_module": "@jupyter-widgets/base",
      "model_module_version": "1.2.0",
      "model_name": "LayoutModel",
      "state": {}
     },
     "6669e6cf56bc49909165dc60f771038a": {
      "model_module": "@jupyter-widgets/controls",
      "model_module_version": "1.5.0",
      "model_name": "DescriptionStyleModel",
      "state": {
       "description_width": "initial"
      }
     },
     "6787a491aa674cd99d86fe3a446b31fb": {
      "model_module": "@jupyter-widgets/base",
      "model_module_version": "1.2.0",
      "model_name": "LayoutModel",
      "state": {
       "align_items": "center"
      }
     },
     "685db44f69744f839aaeb2ba1aab667b": {
      "model_module": "@jupyter-widgets/controls",
      "model_module_version": "1.5.0",
      "model_name": "TextModel",
      "state": {
       "layout": "IPY_MODEL_80e7407aa9fb4718944da11bc0809e68",
       "placeholder": "output filename",
       "style": "IPY_MODEL_b742eff2c19b4c4398879bba4d0908ee",
       "value": "FlinFlon.geoh5"
      }
     },
     "68e4d0026015434b8eaa69da60c851b6": {
      "model_module": "@jupyter-widgets/base",
      "model_module_version": "1.2.0",
      "model_name": "LayoutModel",
      "state": {}
     },
     "69986eeb6ee64f25ab8ee9bd1c064d52": {
      "model_module": "@jupyter-widgets/base",
      "model_module_version": "1.2.0",
      "model_name": "LayoutModel",
      "state": {}
     },
     "699b686172b34b4aae8e29d49fe4f37f": {
      "model_module": "@jupyter-widgets/controls",
      "model_module_version": "1.5.0",
      "model_name": "ButtonModel",
      "state": {
       "button_style": "success",
       "description": "Save to GA",
       "icon": "check",
       "layout": "IPY_MODEL_3819f8b50f95496aa3f2f80850be3989",
       "style": "IPY_MODEL_448669a4054544d08114a1a3bbe3d45c",
       "tooltip": "Run computation"
      }
     },
     "6a560f0005a2412f97c436997098c4de": {
      "model_module": "@jupyter-widgets/controls",
      "model_module_version": "1.5.0",
      "model_name": "DropdownModel",
      "state": {
       "_options_labels": [
        "C:\\Users\\dominiquef\\Documents\\GIT\\mira\\mirageoscience-apps\\assets",
        "C:\\Users\\dominiquef\\Documents\\GIT\\mira\\mirageoscience-apps",
        "C:\\Users\\dominiquef\\Documents\\GIT\\mira",
        "C:\\Users\\dominiquef\\Documents\\GIT",
        "C:\\Users\\dominiquef\\Documents",
        "C:\\Users\\dominiquef",
        "C:\\Users",
        "C:\\",
        "D:\\",
        "Z:\\"
       ],
       "index": 0,
       "layout": "IPY_MODEL_14efc3be0a62404f90c0c7a18201a271",
       "style": "IPY_MODEL_ef985744930341ee9a6758bdbcab65ba"
      }
     },
     "6a6d845b875e4b30b3a1e35fcee7c9ba": {
      "model_module": "@jupyter-widgets/controls",
      "model_module_version": "1.5.0",
      "model_name": "TextModel",
      "state": {
       "description": "Save as:",
       "layout": "IPY_MODEL_22aa724d8b68459fbfebf17ab1e5ceac",
       "style": "IPY_MODEL_1849d7cb34594d978a18070eec44ffd3",
       "value": "Airborne_Gxx"
      }
     },
     "6b70fbd53c7547d18a33902ce16a2e66": {
      "model_module": "@jupyter-widgets/controls",
      "model_module_version": "1.5.0",
      "model_name": "DescriptionStyleModel",
      "state": {
       "description_width": "initial"
      }
     },
     "6b99141f1d8e4faeb1e8bdedabf6997c": {
      "model_module": "@jupyter-widgets/controls",
      "model_module_version": "1.5.0",
      "model_name": "DescriptionStyleModel",
      "state": {
       "description_width": ""
      }
     },
     "6bdb7c7203124ef482cf9fddf365b0a5": {
      "model_module": "@jupyter-widgets/base",
      "model_module_version": "1.2.0",
      "model_name": "LayoutModel",
      "state": {}
     },
     "6beea23d6aa549fd93b15eb764375713": {
      "model_module": "@jupyter-widgets/controls",
      "model_module_version": "1.5.0",
      "model_name": "TextModel",
      "state": {
       "description": "Save as:",
       "layout": "IPY_MODEL_b32fbb97049d4b0bab4c3bdee2775e62",
       "style": "IPY_MODEL_48c4854168624e49ae147e682c8eca67",
       "value": "Airborne_Gxx"
      }
     },
     "6c6b78a1d8ed4962827c79178d06bd3f": {
      "model_module": "@jupyter-widgets/controls",
      "model_module_version": "1.5.0",
      "model_name": "DropdownModel",
      "state": {
       "_options_labels": [
        "",
        "--- Channels ---",
        "Airborne_Gxx",
        "Airborne_Gxy",
        "Airborne_Gxz",
        "Airborne_Gyy",
        "Airborne_Gyz",
        "Airborne_Gz",
        "Airborne_Gzz",
        "Airborne_TMI",
        "Ground_Gz",
        "Z"
       ],
       "description": "Data: ",
       "index": 2,
       "layout": "IPY_MODEL_41c1d78b62b648659d00932f42d90a86",
       "style": "IPY_MODEL_85829048570a4a119718c440a6b7e8e5"
      }
     },
     "6c84a8ab4a5340e6a904125ce03a47dd": {
      "model_module": "@jupyter-widgets/controls",
      "model_module_version": "1.5.0",
      "model_name": "DescriptionStyleModel",
      "state": {
       "description_width": ""
      }
     },
     "6d07e9d6e3744e56b9183af8559f3b08": {
      "model_module": "@jupyter-widgets/base",
      "model_module_version": "1.2.0",
      "model_name": "LayoutModel",
      "state": {}
     },
     "6d0f38a40b354d679bb307a728b697ed": {
      "model_module": "@jupyter-widgets/controls",
      "model_module_version": "1.5.0",
      "model_name": "DescriptionStyleModel",
      "state": {
       "description_width": ""
      }
     },
     "6d2ae9561ecc4c108fe1dea2c653574d": {
      "model_module": "@jupyter-widgets/controls",
      "model_module_version": "1.5.0",
      "model_name": "DescriptionStyleModel",
      "state": {
       "description_width": ""
      }
     },
     "6d6d03dfd9064dc394ad241863f2ca66": {
      "model_module": "@jupyter-widgets/controls",
      "model_module_version": "1.5.0",
      "model_name": "IntSliderModel",
      "state": {
       "continuous_update": false,
       "description": "Threshold",
       "layout": "IPY_MODEL_d1621d865d554406b7ecb7e20ab394f4",
       "min": 1,
       "style": "IPY_MODEL_8ed142c860c045e1b980ed7f8f6dd6c7",
       "value": 1
      }
     },
     "6e219fa0c41c4517a4c3c076b88872bc": {
      "model_module": "@jupyter-widgets/controls",
      "model_module_version": "1.5.0",
      "model_name": "SliderStyleModel",
      "state": {
       "description_width": ""
      }
     },
     "6e702218287f419cb686568673dc2a50": {
      "model_module": "@jupyter-widgets/controls",
      "model_module_version": "1.5.0",
      "model_name": "TextModel",
      "state": {
       "continuous_update": false,
       "description": "Contours",
       "layout": "IPY_MODEL_d1a7289bfbac46f2b73242ac9b74f640",
       "style": "IPY_MODEL_fe0374aea3214a4a864e7e78886bc8b9"
      }
     },
     "6ff7fd76bfdf4688b9efa6df467cf005": {
      "model_module": "@jupyter-widgets/controls",
      "model_module_version": "1.5.0",
      "model_name": "ButtonStyleModel",
      "state": {}
     },
     "7037b25e61e24fbca7d7d34ec60af69a": {
      "model_module": "@jupyter-widgets/controls",
      "model_module_version": "1.5.0",
      "model_name": "DropdownModel",
      "state": {
       "_options_labels": [
        "C:\\Users\\dominiquef\\Documents\\GIT\\mira\\mirageoscience-apps\\docs\\content\\applications",
        "C:\\Users\\dominiquef\\Documents\\GIT\\mira\\mirageoscience-apps\\docs\\content",
        "C:\\Users\\dominiquef\\Documents\\GIT\\mira\\mirageoscience-apps\\docs",
        "C:\\Users\\dominiquef\\Documents\\GIT\\mira\\mirageoscience-apps",
        "C:\\Users\\dominiquef\\Documents\\GIT\\mira",
        "C:\\Users\\dominiquef\\Documents\\GIT",
        "C:\\Users\\dominiquef\\Documents",
        "C:\\Users\\dominiquef",
        "C:\\Users",
        "C:\\",
        "D:\\",
        "Z:\\"
       ],
       "index": 0,
       "layout": "IPY_MODEL_b739e12455ee405ea5ffe8450793978d",
       "style": "IPY_MODEL_3a9a1ae95b3540a5962e888e822dd2fe"
      }
     },
     "705a33e6b9174458bcd8c1b59d94eced": {
      "model_module": "@jupyter-widgets/controls",
      "model_module_version": "1.5.0",
      "model_name": "SliderStyleModel",
      "state": {
       "description_width": ""
      }
     },
     "70708e7b8c5445d5987f16e6a314783e": {
      "model_module": "@jupyter-widgets/base",
      "model_module_version": "1.2.0",
      "model_name": "LayoutModel",
      "state": {}
     },
     "7071281d494d44ff8cceffd842641023": {
      "model_module": "@jupyter-widgets/controls",
      "model_module_version": "1.5.0",
      "model_name": "ButtonModel",
      "state": {
       "button_style": "success",
       "description": "Save to GA",
       "icon": "check",
       "layout": "IPY_MODEL_e6d5ed9806754ecfbdd4d11a734a220b",
       "style": "IPY_MODEL_57bbe246b33c4ff488f1617dd2f43950",
       "tooltip": "Run computation"
      }
     },
     "710eccfa6d054a9b8557f04714188375": {
      "model_module": "@jupyter-widgets/controls",
      "model_module_version": "1.5.0",
      "model_name": "LabelModel",
      "state": {
       "layout": "IPY_MODEL_66217ec322504e96828a8331a5270e0c",
       "style": "IPY_MODEL_630625d1f5584ec7888544fd80b64cc1",
       "value": "Workspace"
      }
     },
     "712c631a8c2d4eae8853f1d247f2ea9e": {
      "model_module": "@jupyter-widgets/base",
      "model_module_version": "1.2.0",
      "model_name": "LayoutModel",
      "state": {}
     },
     "7159d64a7e3b42979e82c784212211db": {
      "model_module": "@jupyter-widgets/base",
      "model_module_version": "1.2.0",
      "model_name": "LayoutModel",
      "state": {}
     },
     "71c87c4fe1db4325a8caf30f317a2d15": {
      "model_module": "@jupyter-widgets/base",
      "model_module_version": "1.2.0",
      "model_name": "LayoutModel",
      "state": {}
     },
     "71e8d938b00045f69fde341fdf557dba": {
      "model_module": "@jupyter-widgets/controls",
      "model_module_version": "1.5.0",
      "model_name": "DescriptionStyleModel",
      "state": {
       "description_width": ""
      }
     },
     "7204b356a96c4c3ab7af006deb0d69c2": {
      "model_module": "@jupyter-widgets/controls",
      "model_module_version": "1.5.0",
      "model_name": "ButtonStyleModel",
      "state": {}
     },
     "724c2dc43f5a4b0e9e03aea8538c5007": {
      "model_module": "@jupyter-widgets/base",
      "model_module_version": "1.2.0",
      "model_name": "LayoutModel",
      "state": {}
     },
     "727386b819d741a68c96ef6859cbdcb1": {
      "model_module": "@jupyter-widgets/controls",
      "model_module_version": "1.5.0",
      "model_name": "FloatSliderModel",
      "state": {
       "continuous_update": false,
       "description": "Sigma",
       "layout": "IPY_MODEL_ccaf92f4afc6455caedcee8d6cfa4fe8",
       "max": 10,
       "step": 0.1,
       "style": "IPY_MODEL_e456d2329bff4df2ac3ee239967e54ee",
       "value": 0.5
      }
     },
     "727cb387c65448c3b5b4402a7a162d97": {
      "model_module": "@jupyter-widgets/controls",
      "model_module_version": "1.5.0",
      "model_name": "ToggleButtonModel",
      "state": {
       "description": "Zoom on selection",
       "icon": "check",
       "layout": "IPY_MODEL_88a203b890b840e88d894ed92ec2cce9",
       "style": "IPY_MODEL_4d9ba4f36d114729bdb1e479ae8590ff",
       "tooltip": "Keep plot extent on selection",
       "value": true
      }
     },
     "752d7dd405f9483d918669c1eb2aacf7": {
      "model_module": "@jupyter-widgets/controls",
      "model_module_version": "1.5.0",
      "model_name": "ButtonModel",
      "state": {
       "description": "Change",
       "layout": "IPY_MODEL_c8a52a4548b94fdaa5036865338c31ec",
       "style": "IPY_MODEL_5c2ea8bf186449599852285cf7c03fc4"
      }
     },
     "75a7d2eb13354829a053f52ca888f0bc": {
      "model_module": "@jupyter-widgets/controls",
      "model_module_version": "1.5.0",
      "model_name": "HBoxModel",
      "state": {
       "children": [
        "IPY_MODEL_1955d98385ce4969b2669afd8d3f2c37",
        "IPY_MODEL_8ab3ef41a81d4ed48cd3411b5195f98a",
        "IPY_MODEL_cdff6046ddd24bb0a60fdb8829e0f2cf"
       ],
       "layout": "IPY_MODEL_c72f374dae814554b3238e2a1599117a"
      }
     },
     "75c0aa6cdc614915a6c31338320e7e50": {
      "model_module": "@jupyter-widgets/base",
      "model_module_version": "1.2.0",
      "model_name": "LayoutModel",
      "state": {}
     },
     "75fec73ac9c04fd790985ac9b39546ba": {
      "model_module": "@jupyter-widgets/base",
      "model_module_version": "1.2.0",
      "model_name": "LayoutModel",
      "state": {}
     },
     "7634d06617324821956f10ede238ee2e": {
      "model_module": "@jupyter-widgets/controls",
      "model_module_version": "1.5.0",
      "model_name": "ToggleButtonModel",
      "state": {
       "description": "Zoom on selection",
       "icon": "check",
       "layout": "IPY_MODEL_372a68f1a9934317b11e8af74291b328",
       "style": "IPY_MODEL_dc9527cadef6434f8b72b2efda9ce851",
       "tooltip": "Keep plot extent on selection",
       "value": true
      }
     },
     "774c7fbbcd774a2e8ca2472605a417bb": {
      "model_module": "@jupyter-widgets/base",
      "model_module_version": "1.2.0",
      "model_name": "LayoutModel",
      "state": {}
     },
     "775864e37b7e45b38347662328c45203": {
      "model_module": "@jupyter-widgets/base",
      "model_module_version": "1.2.0",
      "model_name": "LayoutModel",
      "state": {
       "display": "none",
       "grid_gap": "0px 0px",
       "grid_template_areas": "\n                    'pathlist pathlist'\n                    'dircontent dircontent'\n                    ",
       "grid_template_columns": "60% 40%",
       "grid_template_rows": "auto auto",
       "width": "500px"
      }
     },
     "7763ac6459cf4d259e9d98757ec4ca00": {
      "model_module": "@jupyter-widgets/controls",
      "model_module_version": "1.5.0",
      "model_name": "ButtonModel",
      "state": {
       "description": "Create copy:",
       "layout": "IPY_MODEL_2fbca2d59562400cb2e86728f8cce55b",
       "style": "IPY_MODEL_f1ffdc2720714995b6cbc2ae6f7dde52"
      }
     },
     "778d9d7c40554ce19343164814243a44": {
      "model_module": "@jupyter-widgets/controls",
      "model_module_version": "1.5.0",
      "model_name": "DescriptionStyleModel",
      "state": {
       "description_width": ""
      }
     },
     "77d0bf684a074b9c81a4799ce2b8d6d4": {
      "model_module": "@jupyter-widgets/controls",
      "model_module_version": "1.5.0",
      "model_name": "DescriptionStyleModel",
      "state": {
       "description_width": ""
      }
     },
     "7813cc9da5ab417b9d51cbdbd00114ad": {
      "model_module": "@jupyter-widgets/controls",
      "model_module_version": "1.5.0",
      "model_name": "HBoxModel",
      "state": {
       "children": [
        "IPY_MODEL_ed0c444459c64d0da7770c6695d093b2",
        "IPY_MODEL_36301c2457134ac49fb91edda083697d",
        "IPY_MODEL_616b45bf9f784b81a0a4c24882e7a339"
       ],
       "layout": "IPY_MODEL_37d3e9e13684418f87e9ca6bdc4fb065"
      }
     },
     "786b4e0009cb4c92b70fa75f32420723": {
      "model_module": "@jupyter-widgets/controls",
      "model_module_version": "1.5.0",
      "model_name": "VBoxModel",
      "state": {
       "children": [
        "IPY_MODEL_ae13d28985ee4b99910ab19eb93427b3",
        "IPY_MODEL_f795d3bd45b24b24a26ff86690a1122e",
        "IPY_MODEL_f1bb8702dcae4e378abf5a5e1bd50435"
       ],
       "layout": "IPY_MODEL_f08303451564433bb86e9cc0e4009a90"
      }
     },
     "787a0f55a02c4fd2a6476ae4468e873f": {
      "model_module": "@jupyter-widgets/controls",
      "model_module_version": "1.5.0",
      "model_name": "VBoxModel",
      "state": {
       "children": [
        "IPY_MODEL_04188095fa1a413c9d4b1dee131693d0",
        "IPY_MODEL_27580eabdc9f494fb30ef3cd0e63d4f5"
       ],
       "layout": "IPY_MODEL_7e07b1d3b9bf4d55b24669e9bfb79d53"
      }
     },
     "78e581e21dea480ebea1847ff4a7cd90": {
      "model_module": "@jupyter-widgets/base",
      "model_module_version": "1.2.0",
      "model_name": "LayoutModel",
      "state": {}
     },
     "790c79b646ef4d319cd1b75952e38df2": {
      "model_module": "@jupyter-widgets/base",
      "model_module_version": "1.2.0",
      "model_name": "LayoutModel",
      "state": {
       "display": "none",
       "grid_area": "filename",
       "width": "auto"
      }
     },
     "7914ee5efd0343d393e0fef033e3ee0f": {
      "model_module": "@jupyter-widgets/base",
      "model_module_version": "1.2.0",
      "model_name": "LayoutModel",
      "state": {}
     },
     "794fc1df986642998b855bef6f4e97b0": {
      "model_module": "@jupyter-widgets/controls",
      "model_module_version": "1.5.0",
      "model_name": "DescriptionStyleModel",
      "state": {
       "description_width": ""
      }
     },
     "79d67b9242cc4c63be3ee488c617985d": {
      "model_module": "@jupyter-widgets/base",
      "model_module_version": "1.2.0",
      "model_name": "LayoutModel",
      "state": {
       "width": "auto"
      }
     },
     "79da426f5672427cb1517df0f71a6a65": {
      "model_module": "@jupyter-widgets/base",
      "model_module_version": "1.2.0",
      "model_name": "LayoutModel",
      "state": {
       "grid_area": "dircontent",
       "width": "auto"
      }
     },
     "7a1441fbf7fb44209b33c4df89b4cce0": {
      "model_module": "@jupyter-widgets/controls",
      "model_module_version": "1.5.0",
      "model_name": "ToggleButtonModel",
      "state": {
       "button_style": "warning",
       "description": "Compute",
       "icon": "check",
       "layout": "IPY_MODEL_47f83ee49dbe4c659638f7cabcd376f8",
       "style": "IPY_MODEL_1eaec31383554996ae3205f6d915941b",
       "tooltip": "Description",
       "value": true
      }
     },
     "7a5455dc4b784b21adb12d5472ed9972": {
      "model_module": "@jupyter-widgets/controls",
      "model_module_version": "1.5.0",
      "model_name": "HBoxModel",
      "state": {
       "children": [
        "IPY_MODEL_ae6d47c7390d4a038b3e11950c10faae",
        "IPY_MODEL_138c8c0cbfb7402881e35b6c53693cc3",
        "IPY_MODEL_7f6348ef315c4017b45c59caf2fb90da"
       ],
       "layout": "IPY_MODEL_009d3f7f12834abfaa62ec6f05cdcddf"
      }
     },
     "7ae3497236e34d0e9c07f0cd9f62467a": {
      "model_module": "@jupyter-widgets/controls",
      "model_module_version": "1.5.0",
      "model_name": "IntSliderModel",
      "state": {
       "continuous_update": false,
       "description": "Threshold",
       "layout": "IPY_MODEL_3a50cb4ac983482f8cb7ff5a550c0b32",
       "min": 1,
       "style": "IPY_MODEL_35f9fd3d0ece4df380e7b409d6e435b3",
       "value": 1
      }
     },
     "7beb6a94e4354053af70d9b764533860": {
      "model_module": "@jupyter-widgets/controls",
      "model_module_version": "1.5.0",
      "model_name": "DescriptionStyleModel",
      "state": {
       "description_width": ""
      }
     },
     "7cbab6ab79b44d758730c3f4a662a4aa": {
      "model_module": "@jupyter-widgets/controls",
      "model_module_version": "1.5.0",
      "model_name": "HBoxModel",
      "state": {
       "children": [
        "IPY_MODEL_b25f04dbd26445889d5f16618a00214f",
        "IPY_MODEL_0e4fe2a8c219410099f6a560517e16db"
       ],
       "layout": "IPY_MODEL_5d125837e7e141f9b371e6fe67341fda"
      }
     },
     "7cc2abeeb19d4e19970a6dde1576973e": {
      "model_module": "@jupyter-widgets/controls",
      "model_module_version": "1.5.0",
      "model_name": "ButtonStyleModel",
      "state": {}
     },
     "7cc4c88109304777adddd4f03267a78b": {
      "model_module": "@jupyter-widgets/base",
      "model_module_version": "1.2.0",
      "model_name": "LayoutModel",
      "state": {}
     },
     "7e07b1d3b9bf4d55b24669e9bfb79d53": {
      "model_module": "@jupyter-widgets/base",
      "model_module_version": "1.2.0",
      "model_name": "LayoutModel",
      "state": {}
     },
     "7ea014ba7b484c8bb071129e8454333e": {
      "model_module": "@jupyter-widgets/controls",
      "model_module_version": "1.5.0",
      "model_name": "GridBoxModel",
      "state": {
       "children": [
        "IPY_MODEL_6a560f0005a2412f97c436997098c4de",
        "IPY_MODEL_685db44f69744f839aaeb2ba1aab667b",
        "IPY_MODEL_32c2994f9ae74054bca82475427a0357"
       ],
       "layout": "IPY_MODEL_58dda25e25ea485cada34c059b5569e2"
      }
     },
     "7ed2bd277b0d4cd1a64d282b02d1fa23": {
      "model_module": "@jupyter-widgets/base",
      "model_module_version": "1.2.0",
      "model_name": "LayoutModel",
      "state": {
       "width": "50%"
      }
     },
     "7ee1673f406440fb9787b9613ed853cb": {
      "model_module": "@jupyter-widgets/controls",
      "model_module_version": "1.5.0",
      "model_name": "ToggleButtonModel",
      "state": {
       "description": "Zoom on selection",
       "icon": "check",
       "layout": "IPY_MODEL_abf057a4bb67416d88dd3ebc180075fd",
       "style": "IPY_MODEL_7fa22fc46c154d81a00b211b8b783ed2",
       "tooltip": "Keep plot extent on selection",
       "value": true
      }
     },
     "7ee703778d5c4057bebdfd3936327ed4": {
      "model_module": "@jupyter-widgets/controls",
      "model_module_version": "1.5.0",
      "model_name": "DescriptionStyleModel",
      "state": {
       "description_width": "initial"
      }
     },
     "7f6348ef315c4017b45c59caf2fb90da": {
      "model_module": "@jupyter-widgets/controls",
      "model_module_version": "1.5.0",
      "model_name": "HTMLModel",
      "state": {
       "layout": "IPY_MODEL_eb7d510f8c6c4823a1f267f4ac303d44",
       "placeholder": "",
       "style": "IPY_MODEL_f490dccb9bb34455be163d70d03d07a0",
       "value": "<span style=\"margin-left:10px; color:black;\">No file selected</span>"
      }
     },
     "7fa22fc46c154d81a00b211b8b783ed2": {
      "model_module": "@jupyter-widgets/controls",
      "model_module_version": "1.5.0",
      "model_name": "DescriptionStyleModel",
      "state": {
       "description_width": ""
      }
     },
     "80e7407aa9fb4718944da11bc0809e68": {
      "model_module": "@jupyter-widgets/base",
      "model_module_version": "1.2.0",
      "model_name": "LayoutModel",
      "state": {
       "grid_area": "filename",
       "width": "auto"
      }
     },
     "81663e17c2ba407ea606beca0dc00f38": {
      "model_module": "@jupyter-widgets/base",
      "model_module_version": "1.2.0",
      "model_name": "LayoutModel",
      "state": {}
     },
     "82ab4cb42d4b4066a777ece530a0d7f6": {
      "model_module": "@jupyter-widgets/base",
      "model_module_version": "1.2.0",
      "model_name": "LayoutModel",
      "state": {
       "display": "none",
       "grid_gap": "0px 0px",
       "grid_template_areas": "\n                    'pathlist filename'\n                    'dircontent dircontent'\n                    ",
       "grid_template_columns": "60% 40%",
       "grid_template_rows": "auto auto",
       "width": "500px"
      }
     },
     "8303b6a98b07485ab1a7560441ee3f42": {
      "model_module": "@jupyter-widgets/base",
      "model_module_version": "1.2.0",
      "model_name": "LayoutModel",
      "state": {
       "grid_area": "dircontent",
       "width": "auto"
      }
     },
     "835aa5f4bee443e78616e980e9e968eb": {
      "model_module": "@jupyter-widgets/controls",
      "model_module_version": "1.5.0",
      "model_name": "SliderStyleModel",
      "state": {
       "description_width": ""
      }
     },
     "837202297f094d3086cf25fe1a9ae54e": {
      "model_module": "@jupyter-widgets/controls",
      "model_module_version": "1.5.0",
      "model_name": "GridBoxModel",
      "state": {
       "children": [
        "IPY_MODEL_c53b7c3b6ac34ccdbfca9b39ee9d86bb",
        "IPY_MODEL_f80a0316689a4fac93125d76f9ae59f0",
        "IPY_MODEL_3bc4c5edbf14427393602be030b10558"
       ],
       "layout": "IPY_MODEL_c23372bf5dd744f79d7eaf6bdcd4d77c"
      }
     },
     "83abb395d07548abb977eaad4bbb3843": {
      "model_module": "@jupyter-widgets/base",
      "model_module_version": "1.2.0",
      "model_name": "LayoutModel",
      "state": {
       "width": "auto"
      }
     },
     "83f25f77c95243a5a60249dcf9764392": {
      "model_module": "@jupyter-widgets/controls",
      "model_module_version": "1.5.0",
      "model_name": "VBoxModel",
      "state": {
       "children": [
        "IPY_MODEL_013ff5c0f7214e619706c96348d670db",
        "IPY_MODEL_f832407f84a14221bdcd32165c5999af",
        "IPY_MODEL_e7981efd47cb4ab2b5b20ed041512885",
        "IPY_MODEL_a3f4d188e51049c088dab48a397f7eb2",
        "IPY_MODEL_c24d1bef84f64af9a0cfbecb694c4d32"
       ],
       "layout": "IPY_MODEL_19e098e32cfc455f8ed720b3b0081876"
      }
     },
     "843374379b1a4fd7b51138c1fcfd6bfc": {
      "model_module": "@jupyter-widgets/controls",
      "model_module_version": "1.5.0",
      "model_name": "TextModel",
      "state": {
       "continuous_update": false,
       "description": "Group:",
       "layout": "IPY_MODEL_0b3afaf1a1e548f39f1f819639649719",
       "style": "IPY_MODEL_13041a3700b743d89f65695bcb4091ea",
       "value": "Edges"
      }
     },
     "8489c6d00a554fea857db81427ebcae6": {
      "model_module": "@jupyter-widgets/controls",
      "model_module_version": "1.5.0",
      "model_name": "DescriptionStyleModel",
      "state": {
       "description_width": ""
      }
     },
     "84ae863b9b3447a88669d5fed5273f38": {
      "model_module": "@jupyter-widgets/controls",
      "model_module_version": "1.5.0",
      "model_name": "SliderStyleModel",
      "state": {
       "description_width": ""
      }
     },
     "84bd827ed2ac461ebc338bc36fb92593": {
      "model_module": "@jupyter-widgets/controls",
      "model_module_version": "1.5.0",
      "model_name": "SliderStyleModel",
      "state": {
       "description_width": ""
      }
     },
     "85829048570a4a119718c440a6b7e8e5": {
      "model_module": "@jupyter-widgets/controls",
      "model_module_version": "1.5.0",
      "model_name": "DescriptionStyleModel",
      "state": {
       "description_width": "initial"
      }
     },
     "85df38d427f14f6a93aa76829b427800": {
      "model_module": "@jupyter-widgets/base",
      "model_module_version": "1.2.0",
      "model_name": "LayoutModel",
      "state": {
       "display": "none",
       "width": "auto"
      }
     },
     "87516ad68c9a45c59b83d94e79f22ace": {
      "model_module": "@jupyter-widgets/controls",
      "model_module_version": "1.5.0",
      "model_name": "DescriptionStyleModel",
      "state": {
       "description_width": ""
      }
     },
     "8760293ee77a4b8d9e70c33173d2af4c": {
      "model_module": "@jupyter-widgets/controls",
      "model_module_version": "1.5.0",
      "model_name": "FloatSliderModel",
      "state": {
       "continuous_update": false,
       "description": "Azimuth",
       "layout": "IPY_MODEL_576deb6dd5ee426bb9ae5c6ac90bc5c6",
       "max": 90,
       "min": -90,
       "step": 0.1,
       "style": "IPY_MODEL_c307e30b594d45628f2a358d68f5be94"
      }
     },
     "883cc8587e0f4671adadf4c0dd6e5b47": {
      "model_module": "@jupyter-widgets/base",
      "model_module_version": "1.2.0",
      "model_name": "LayoutModel",
      "state": {}
     },
     "886b597baa3d492a9323b7dfef070a70": {
      "model_module": "@jupyter-widgets/controls",
      "model_module_version": "1.5.0",
      "model_name": "SliderStyleModel",
      "state": {
       "description_width": ""
      }
     },
     "88a203b890b840e88d894ed92ec2cce9": {
      "model_module": "@jupyter-widgets/base",
      "model_module_version": "1.2.0",
      "model_name": "LayoutModel",
      "state": {}
     },
     "89bc9a621b7e4b97a10bc6746abe807b": {
      "model_module": "@jupyter-widgets/base",
      "model_module_version": "1.2.0",
      "model_name": "LayoutModel",
      "state": {
       "grid_area": "pathlist",
       "width": "auto"
      }
     },
     "89c3a9b2211d4896885772aa17781b49": {
      "model_module": "@jupyter-widgets/controls",
      "model_module_version": "1.5.0",
      "model_name": "FloatSliderModel",
      "state": {
       "continuous_update": false,
       "description": "Sigma",
       "layout": "IPY_MODEL_47b9aead09ae499b88a1d8728bed70c1",
       "max": 10,
       "step": 0.1,
       "style": "IPY_MODEL_dc79ecd871994791b7794937d7bde9fd",
       "value": 0.5
      }
     },
     "8a1c7d527eb14e1fbb7d0ab9276a4ffd": {
      "model_module": "@jupyter-widgets/controls",
      "model_module_version": "1.5.0",
      "model_name": "LabelModel",
      "state": {
       "layout": "IPY_MODEL_c6c9213c872a49649c200ea54a1cc7f7",
       "style": "IPY_MODEL_fad30cbef14c44948bbd46a15ed605a7",
       "value": "Workspace"
      }
     },
     "8a4bbfef79dd460b96ad38dcf1088fc2": {
      "model_module": "@jupyter-widgets/controls",
      "model_module_version": "1.5.0",
      "model_name": "DescriptionStyleModel",
      "state": {
       "description_width": "initial"
      }
     },
     "8a776cd50ac142b692a6aa5e87439e15": {
      "model_module": "@jupyter-widgets/base",
      "model_module_version": "1.2.0",
      "model_name": "LayoutModel",
      "state": {}
     },
     "8a84ac5917594b49a7b22151e7fb056a": {
      "model_module": "@jupyter-widgets/controls",
      "model_module_version": "1.5.0",
      "model_name": "HTMLModel",
      "state": {
       "layout": "IPY_MODEL_9ee0b98533f145cdb5f73ca63b17869e",
       "placeholder": "",
       "style": "IPY_MODEL_8c26dedec07c48dbb622455a8f37cf91",
       "value": "<span style=\"margin-left:10px; color:orange;\">C:\\Users\\dominiquef\\Documents\\GIT\\mira\\mirageoscience-apps\\assets\\FlinFlon.geoh5</span>"
      }
     },
     "8a96a530bdb14c81b834a9443dc15b0f": {
      "model_module": "@jupyter-widgets/controls",
      "model_module_version": "1.5.0",
      "model_name": "VBoxModel",
      "state": {
       "children": [
        "IPY_MODEL_56f716c1b1cb48368fed1cf9da9958ec",
        "IPY_MODEL_786b4e0009cb4c92b70fa75f32420723"
       ],
       "layout": "IPY_MODEL_939a99da0f494086888a575a7605dd2e"
      }
     },
     "8ab3ef41a81d4ed48cd3411b5195f98a": {
      "model_module": "@jupyter-widgets/controls",
      "model_module_version": "1.5.0",
      "model_name": "VBoxModel",
      "state": {
       "children": [
        "IPY_MODEL_727386b819d741a68c96ef6859cbdcb1",
        "IPY_MODEL_6d6d03dfd9064dc394ad241863f2ca66",
        "IPY_MODEL_61cf3a6193054a85aa6d8c9f87d7c655",
        "IPY_MODEL_bf24c7535b9941f69a4a80d648d68037",
        "IPY_MODEL_c3610a2107a94ef58570f9eda56b5f03",
        "IPY_MODEL_b4ab88404a92425799aae7cb946fe174",
        "IPY_MODEL_6beea23d6aa549fd93b15eb764375713",
        "IPY_MODEL_98232990487f4f68b1774b6bff5d70ec"
       ],
       "layout": "IPY_MODEL_47eb5ce7777946279ec257721be94f19"
      }
     },
     "8b63f448bcf74f35b7aa73ccc7bd9719": {
      "model_module": "@jupyter-widgets/controls",
      "model_module_version": "1.5.0",
      "model_name": "SliderStyleModel",
      "state": {
       "description_width": "initial"
      }
     },
     "8b9c5622e9034502ad3ff6ec99eed1d1": {
      "model_module": "@jupyter-widgets/controls",
      "model_module_version": "1.5.0",
      "model_name": "LabelModel",
      "state": {
       "layout": "IPY_MODEL_b146b34e3b26417fb3961181c4604662",
       "style": "IPY_MODEL_911a77b8af1544f381649556c66410c0",
       "value": "Monitoring folder"
      }
     },
     "8bd4a50d01a84ce884f816efadc4d4a7": {
      "model_module": "@jupyter-widgets/base",
      "model_module_version": "1.2.0",
      "model_name": "LayoutModel",
      "state": {}
     },
     "8bdd30a2871c439b82a81ac524c58d63": {
      "model_module": "@jupyter-widgets/base",
      "model_module_version": "1.2.0",
      "model_name": "LayoutModel",
      "state": {}
     },
     "8c26dedec07c48dbb622455a8f37cf91": {
      "model_module": "@jupyter-widgets/controls",
      "model_module_version": "1.5.0",
      "model_name": "DescriptionStyleModel",
      "state": {
       "description_width": ""
      }
     },
     "8d23e57bb98047f4896f5a81721b8ba1": {
      "model_module": "@jupyter-widgets/controls",
      "model_module_version": "1.5.0",
      "model_name": "VBoxModel",
      "state": {
       "children": [
        "IPY_MODEL_04188095fa1a413c9d4b1dee131693d0",
        "IPY_MODEL_9e06f54d137847c09bce09b3ffc2b1ee"
       ],
       "layout": "IPY_MODEL_75c0aa6cdc614915a6c31338320e7e50"
      }
     },
     "8d38cae87d14403395a66c02248da32d": {
      "model_module": "@jupyter-widgets/base",
      "model_module_version": "1.2.0",
      "model_name": "LayoutModel",
      "state": {}
     },
     "8dd3dacf98004f2d83b91b9039e9c8b8": {
      "model_module": "@jupyter-widgets/controls",
      "model_module_version": "1.5.0",
      "model_name": "HBoxModel",
      "state": {
       "children": [
        "IPY_MODEL_04bf2ba4832340b292c41210a47c2bad",
        "IPY_MODEL_1c2709617408436486698bc3469e4811"
       ],
       "layout": "IPY_MODEL_14d70015d1304a16a1eed447ea2f5486"
      }
     },
     "8e079e007341401a919b56e7e5b10fe9": {
      "model_module": "@jupyter-widgets/base",
      "model_module_version": "1.2.0",
      "model_name": "LayoutModel",
      "state": {}
     },
     "8e083e68a64d4ae78aa442e40e79df8f": {
      "model_module": "@jupyter-widgets/controls",
      "model_module_version": "1.5.0",
      "model_name": "SliderStyleModel",
      "state": {
       "description_width": ""
      }
     },
     "8e2bb5385c3b4a81ba1e8ad93e8c9769": {
      "model_module": "@jupyter-widgets/controls",
      "model_module_version": "1.5.0",
      "model_name": "FloatSliderModel",
      "state": {
       "continuous_update": false,
       "description": "Northing",
       "layout": "IPY_MODEL_a6a561f4c5364d3f852b43032961d088",
       "max": 6076443.652111261,
       "min": 6065091.787108775,
       "orientation": "vertical",
       "step": 0.1,
       "style": "IPY_MODEL_3c674ca94c984c639ff2e5fb9c8531ae",
       "value": 6070767.719610019
      }
     },
     "8ed142c860c045e1b980ed7f8f6dd6c7": {
      "model_module": "@jupyter-widgets/controls",
      "model_module_version": "1.5.0",
      "model_name": "SliderStyleModel",
      "state": {
       "description_width": ""
      }
     },
     "8fef414a30c8433b885a863cf0c60916": {
      "model_module": "@jupyter-widgets/controls",
      "model_module_version": "1.5.0",
      "model_name": "SliderStyleModel",
      "state": {
       "description_width": ""
      }
     },
     "911a77b8af1544f381649556c66410c0": {
      "model_module": "@jupyter-widgets/controls",
      "model_module_version": "1.5.0",
      "model_name": "DescriptionStyleModel",
      "state": {
       "description_width": "initial"
      }
     },
     "915e156f69ca4852accf406d1b20d7f2": {
      "model_module": "@jupyter-widgets/controls",
      "model_module_version": "1.5.0",
      "model_name": "IntSliderModel",
      "state": {
       "continuous_update": false,
       "description": "Line Gap",
       "layout": "IPY_MODEL_0fb871016fe74105a448069e74249841",
       "min": 1,
       "style": "IPY_MODEL_c7e58b398f9e485cbfbd572e2ea970ea",
       "value": 1
      }
     },
     "91609bdd8e104270bd911ba10e8fe5e5": {
      "model_module": "@jupyter-widgets/base",
      "model_module_version": "1.2.0",
      "model_name": "LayoutModel",
      "state": {}
     },
     "92ee2ed248444b198fd3fe70726f7059": {
      "model_module": "@jupyter-widgets/base",
      "model_module_version": "1.2.0",
      "model_name": "LayoutModel",
      "state": {
       "display": "none",
       "width": "auto"
      }
     },
     "930207c65cb94e98b90cfe430f62a326": {
      "model_module": "@jupyter-widgets/base",
      "model_module_version": "1.2.0",
      "model_name": "LayoutModel",
      "state": {
       "width": "50%"
      }
     },
     "93090c27b5f048fe9913e1b93c1b434a": {
      "model_module": "@jupyter-widgets/controls",
      "model_module_version": "1.5.0",
      "model_name": "DescriptionStyleModel",
      "state": {
       "description_width": ""
      }
     },
     "932fc12a324246ffbef653586a5aa699": {
      "model_module": "@jupyter-widgets/base",
      "model_module_version": "1.2.0",
      "model_name": "LayoutModel",
      "state": {
       "grid_area": "dircontent",
       "width": "auto"
      }
     },
     "939a99da0f494086888a575a7605dd2e": {
      "model_module": "@jupyter-widgets/base",
      "model_module_version": "1.2.0",
      "model_name": "LayoutModel",
      "state": {}
     },
     "93f7fe1c9c5d46f4b99346cdb459b0c9": {
      "model_module": "@jupyter-widgets/controls",
      "model_module_version": "1.5.0",
      "model_name": "HTMLModel",
      "state": {
       "layout": "IPY_MODEL_d32f3db573fe457b911d20448093c11d",
       "style": "IPY_MODEL_09a0f85509b843d784bbc368f48c878e"
      }
     },
     "947a8343a83b47238159291309f35817": {
      "model_module": "@jupyter-widgets/controls",
      "model_module_version": "1.5.0",
      "model_name": "VBoxModel",
      "state": {
       "children": [
        "IPY_MODEL_ffa8c3f62c704d47b0be5a6f08023527",
        "IPY_MODEL_5f045a4509ad4f4792a77d460558177b",
        "IPY_MODEL_7a5455dc4b784b21adb12d5472ed9972"
       ],
       "layout": "IPY_MODEL_0d384bda05e14db8a54cf0d9196cda53"
      }
     },
     "94a45023d8ef41e9bd4fe6bd1df52324": {
      "model_module": "@jupyter-widgets/controls",
      "model_module_version": "1.5.0",
      "model_name": "DropdownModel",
      "state": {
       "_options_labels": [
        "C:\\Users\\dominiquef\\Documents\\GIT\\mira\\mirageoscience-apps\\assets",
        "C:\\Users\\dominiquef\\Documents\\GIT\\mira\\mirageoscience-apps",
        "C:\\Users\\dominiquef\\Documents\\GIT\\mira",
        "C:\\Users\\dominiquef\\Documents\\GIT",
        "C:\\Users\\dominiquef\\Documents",
        "C:\\Users\\dominiquef",
        "C:\\Users",
        "C:\\",
        "D:\\",
        "Z:\\"
       ],
       "index": 0,
       "layout": "IPY_MODEL_89bc9a621b7e4b97a10bc6746abe807b",
       "style": "IPY_MODEL_cc3ab610508a4f029beca98eefbfb5ab"
      }
     },
     "953fe7aa815b40ef8546fec12d82b42b": {
      "model_module": "@jupyter-widgets/base",
      "model_module_version": "1.2.0",
      "model_name": "LayoutModel",
      "state": {}
     },
     "95a9dd7c1e83433a8e3714ebc54b8627": {
      "model_module": "@jupyter-widgets/base",
      "model_module_version": "1.2.0",
      "model_name": "LayoutModel",
      "state": {}
     },
     "95c95471a93f4dbc8039615c26076e3d": {
      "model_module": "@jupyter-widgets/base",
      "model_module_version": "1.2.0",
      "model_name": "LayoutModel",
      "state": {
       "display": "none",
       "grid_area": "filename",
       "width": "auto"
      }
     },
     "964678f0b79748e2a9cc257e693d5e79": {
      "model_module": "@jupyter-widgets/controls",
      "model_module_version": "1.5.0",
      "model_name": "DescriptionStyleModel",
      "state": {
       "description_width": "initial"
      }
     },
     "96b8ec13e71e4e99ba5f21fbd4758e8b": {
      "model_module": "@jupyter-widgets/controls",
      "model_module_version": "1.5.0",
      "model_name": "SliderStyleModel",
      "state": {
       "description_width": ""
      }
     },
     "976364622e344e4d9e17a40b2986564b": {
      "model_module": "@jupyter-widgets/base",
      "model_module_version": "1.2.0",
      "model_name": "LayoutModel",
      "state": {
       "display": "none"
      }
     },
     "9769c9ec5c2e4cd683eaa2dc775c2001": {
      "model_module": "@jupyter-widgets/base",
      "model_module_version": "1.2.0",
      "model_name": "LayoutModel",
      "state": {}
     },
     "97bc18ad7f2642c7b4bfd9f8a4a71c2f": {
      "model_module": "@jupyter-widgets/controls",
      "model_module_version": "1.5.0",
      "model_name": "HBoxModel",
      "state": {
       "children": [
        "IPY_MODEL_62ad35fe1d134add8bfec3258262fa8b",
        "IPY_MODEL_c61cff68d3a1436ca68b7a98e89bbde8",
        "IPY_MODEL_5341f81745df44039036287ad44d7ec6"
       ],
       "layout": "IPY_MODEL_9b2ed8b2e5184637bf84b686f4b0130c"
      }
     },
     "97d1752938b74b889a41033e36ffac47": {
      "model_module": "@jupyter-widgets/controls",
      "model_module_version": "1.5.0",
      "model_name": "ButtonStyleModel",
      "state": {}
     },
     "98144430f161415f921b007082353b63": {
      "model_module": "@jupyter-widgets/controls",
      "model_module_version": "1.5.0",
      "model_name": "DescriptionStyleModel",
      "state": {
       "description_width": "initial"
      }
     },
     "98232990487f4f68b1774b6bff5d70ec": {
      "model_module": "@jupyter-widgets/controls",
      "model_module_version": "1.5.0",
      "model_name": "VBoxModel",
      "state": {
       "children": [
        "IPY_MODEL_1c99b5b1d3094d1ca4d48f362c3a6b42",
        "IPY_MODEL_ff86f9ba3bea4ab7b96e7266aabb81af"
       ],
       "layout": "IPY_MODEL_4b59d26fff6f4285aa4988bda6f68b7c"
      }
     },
     "9870a5b477034288afa54d92554d585e": {
      "model_module": "@jupyter-widgets/controls",
      "model_module_version": "1.5.0",
      "model_name": "DescriptionStyleModel",
      "state": {
       "description_width": ""
      }
     },
     "98fa608474204e9fb655ed5c33219b47": {
      "model_module": "@jupyter-widgets/controls",
      "model_module_version": "1.5.0",
      "model_name": "HBoxModel",
      "state": {
       "children": [
        "IPY_MODEL_e4810eab2cda4c868352517d15a2ab97",
        "IPY_MODEL_ba69908b44584e02a3ec77636f688ecb",
        "IPY_MODEL_396c15ab817e42c69af35d14475da50c"
       ],
       "layout": "IPY_MODEL_9e505b12ad624e7e91ffa2a126743556"
      }
     },
     "9914794e65424d10b160379cade1cd76": {
      "model_module": "@jupyter-widgets/base",
      "model_module_version": "1.2.0",
      "model_name": "LayoutModel",
      "state": {
       "grid_area": "filename",
       "width": "auto"
      }
     },
     "9918ffcf61f346afa0df2be03be1fb8c": {
      "model_module": "@jupyter-widgets/controls",
      "model_module_version": "1.5.0",
      "model_name": "HBoxModel",
      "state": {
       "children": [
        "IPY_MODEL_ac9c07aae5754227aa42017555221bb5",
        "IPY_MODEL_7763ac6459cf4d259e9d98757ec4ca00"
       ],
       "layout": "IPY_MODEL_3a0f0de6bdaa44a49cfd78faec2525c8"
      }
     },
     "9939e56ed04b4c16b865bf2851e9effe": {
      "model_module": "@jupyter-widgets/controls",
      "model_module_version": "1.5.0",
      "model_name": "LabelModel",
      "state": {
       "layout": "IPY_MODEL_3e77b599bf584313adb5dc5c55d20c3e",
       "style": "IPY_MODEL_4517b77bb6de4fe787951dbfd7da24b6",
       "value": "Data Count: 5341"
      }
     },
     "9942705630134fe984a3cd157805aff5": {
      "model_module": "@jupyter-widgets/controls",
      "model_module_version": "1.5.0",
      "model_name": "ButtonStyleModel",
      "state": {}
     },
     "99525f9d4dc44231b5e600aabdcf9269": {
      "model_module": "@jupyter-widgets/base",
      "model_module_version": "1.2.0",
      "model_name": "LayoutModel",
      "state": {}
     },
     "9952a28d7c3c4a839e88fc6760a86f84": {
      "model_module": "@jupyter-widgets/base",
      "model_module_version": "1.2.0",
      "model_name": "LayoutModel",
      "state": {
       "width": "auto"
      }
     },
     "99810b48762545aa82bb796f887e180f": {
      "model_module": "@jupyter-widgets/base",
      "model_module_version": "1.2.0",
      "model_name": "LayoutModel",
      "state": {
       "grid_area": "pathlist",
       "width": "auto"
      }
     },
     "99cd6aa1dd7e49a7ad59d93a799b31a0": {
      "model_module": "@jupyter-widgets/base",
      "model_module_version": "1.2.0",
      "model_name": "LayoutModel",
      "state": {
       "align_items": "center"
      }
     },
     "9a68864455014a4488c423f6a1fa9269": {
      "model_module": "@jupyter-widgets/base",
      "model_module_version": "1.2.0",
      "model_name": "LayoutModel",
      "state": {}
     },
     "9a82944deade445798d296806032b5b7": {
      "model_module": "@jupyter-widgets/controls",
      "model_module_version": "1.5.0",
      "model_name": "DescriptionStyleModel",
      "state": {
       "description_width": ""
      }
     },
     "9a95a791a2ba452a99f697de05e1d191": {
      "model_module": "@jupyter-widgets/base",
      "model_module_version": "1.2.0",
      "model_name": "LayoutModel",
      "state": {}
     },
     "9b2ed8b2e5184637bf84b686f4b0130c": {
      "model_module": "@jupyter-widgets/base",
      "model_module_version": "1.2.0",
      "model_name": "LayoutModel",
      "state": {
       "width": "auto"
      }
     },
     "9b5bac95bd5b40bbb5892344985df5d1": {
      "model_module": "@jupyter-widgets/controls",
      "model_module_version": "1.5.0",
      "model_name": "DescriptionStyleModel",
      "state": {
       "description_width": ""
      }
     },
     "9bab441e8fdb49aab985c96cc896dd2d": {
      "model_module": "@jupyter-widgets/controls",
      "model_module_version": "1.5.0",
      "model_name": "ButtonModel",
      "state": {
       "description": "Cancel",
       "layout": "IPY_MODEL_49d3313a113f4dcd8d31dbbfa7862e4b",
       "style": "IPY_MODEL_97d1752938b74b889a41033e36ffac47"
      }
     },
     "9bdc96e6a1d74b61a61148d09ee037e5": {
      "model_module": "@jupyter-widgets/controls",
      "model_module_version": "1.5.0",
      "model_name": "SliderStyleModel",
      "state": {
       "description_width": ""
      }
     },
     "9c66399b25b545b18e1d60957a6bf4e4": {
      "model_module": "@jupyter-widgets/base",
      "model_module_version": "1.2.0",
      "model_name": "LayoutModel",
      "state": {}
     },
     "9e06f54d137847c09bce09b3ffc2b1ee": {
      "model_module": "@jupyter-widgets/controls",
      "model_module_version": "1.5.0",
      "model_name": "HBoxModel",
      "state": {
       "children": [
        "IPY_MODEL_daabea7a15a44094ad10588dab087060",
        "IPY_MODEL_c4f9a43a7260485fbc3dedbb86ed09db",
        "IPY_MODEL_0915c8344ecd4519ac00b6dd2848618f"
       ],
       "layout": "IPY_MODEL_1033229ace114f1ab3ddb3e33dfa0939"
      }
     },
     "9e232d66da6f4c93b2c36c75f72dacb0": {
      "model_module": "@jupyter-widgets/controls",
      "model_module_version": "1.5.0",
      "model_name": "IntSliderModel",
      "state": {
       "continuous_update": false,
       "description": "Window size",
       "layout": "IPY_MODEL_0af64ae684e846b7b992ea42baed5d48",
       "max": 512,
       "min": 16,
       "style": "IPY_MODEL_1bad33b48dac479288a8baa3be1911b4",
       "value": 64
      }
     },
     "9e3de192a96e49bd9c17f185df34d3f9": {
      "model_module": "@jupyter-widgets/controls",
      "model_module_version": "1.5.0",
      "model_name": "ButtonModel",
      "state": {
       "description": "Cancel",
       "layout": "IPY_MODEL_85df38d427f14f6a93aa76829b427800",
       "style": "IPY_MODEL_fc3e24189da34b7082768518d3d80a24"
      }
     },
     "9e505b12ad624e7e91ffa2a126743556": {
      "model_module": "@jupyter-widgets/base",
      "model_module_version": "1.2.0",
      "model_name": "LayoutModel",
      "state": {
       "align_items": "center"
      }
     },
     "9ee0b98533f145cdb5f73ca63b17869e": {
      "model_module": "@jupyter-widgets/base",
      "model_module_version": "1.2.0",
      "model_name": "LayoutModel",
      "state": {}
     },
     "9fbf4584a92f4bbc95b02d2c6605d7f7": {
      "model_module": "@jupyter-widgets/base",
      "model_module_version": "1.2.0",
      "model_name": "LayoutModel",
      "state": {
       "display": "none"
      }
     },
     "9fe5b41415fb412aa655973a5bbed4a3": {
      "model_module": "@jupyter-widgets/controls",
      "model_module_version": "1.5.0",
      "model_name": "SliderStyleModel",
      "state": {
       "description_width": ""
      }
     },
     "a199f139816f478f8df2fcadb356946c": {
      "model_module": "@jupyter-widgets/controls",
      "model_module_version": "1.5.0",
      "model_name": "DescriptionStyleModel",
      "state": {
       "description_width": ""
      }
     },
     "a1b97762825f402995cb116e0ce4b879": {
      "model_module": "@jupyter-widgets/controls",
      "model_module_version": "1.5.0",
      "model_name": "VBoxModel",
      "state": {
       "children": [
        "IPY_MODEL_5474ece5a7bf4d9c8cae3309c2df5328",
        "IPY_MODEL_3372a696631b4f04b22a285d02e3e81c"
       ],
       "layout": "IPY_MODEL_78e581e21dea480ebea1847ff4a7cd90"
      }
     },
     "a22e2d1c0cf44cd1901d72db2585d419": {
      "model_module": "@jupyter-widgets/base",
      "model_module_version": "1.2.0",
      "model_name": "LayoutModel",
      "state": {}
     },
     "a2ed2278a1ed472b8bc9f9e8a10364b1": {
      "model_module": "@jupyter-widgets/controls",
      "model_module_version": "1.5.0",
      "model_name": "VBoxModel",
      "state": {
       "children": [
        "IPY_MODEL_d75e3c5dfdf9416a909ddb3c3db30d57",
        "IPY_MODEL_75a7d2eb13354829a053f52ca888f0bc"
       ],
       "layout": "IPY_MODEL_c253f86d9aea4e2a9527e79a7f1ae80d"
      }
     },
     "a2ff51f9fc2347619ba649a7d09b9584": {
      "model_module": "@jupyter-widgets/controls",
      "model_module_version": "1.5.0",
      "model_name": "LabelModel",
      "state": {
       "layout": "IPY_MODEL_0462bbc3d259445b8839318800c7f5dc",
       "style": "IPY_MODEL_505ee4aebb9d472ebaee68c8862f2b20",
       "value": "Workspace"
      }
     },
     "a36036d29c2f4f9986fc900b1e5e6077": {
      "model_module": "@jupyter-widgets/base",
      "model_module_version": "1.2.0",
      "model_name": "LayoutModel",
      "state": {}
     },
     "a392aa56ec704c06857960efa267ef75": {
      "model_module": "@jupyter-widgets/controls",
      "model_module_version": "1.5.0",
      "model_name": "FloatTextModel",
      "state": {
       "description": "Grid Resolution (m)",
       "layout": "IPY_MODEL_99525f9d4dc44231b5e600aabdcf9269",
       "step": null,
       "style": "IPY_MODEL_42a07af343d54d05bcc1e8c8dbd4aa8a",
       "value": 50
      }
     },
     "a3f4d188e51049c088dab48a397f7eb2": {
      "model_module": "@jupyter-widgets/controls",
      "model_module_version": "1.5.0",
      "model_name": "FloatSliderModel",
      "state": {
       "continuous_update": false,
       "description": "Azimuth",
       "layout": "IPY_MODEL_69986eeb6ee64f25ab8ee9bd1c064d52",
       "max": 90,
       "min": -90,
       "step": 0.1,
       "style": "IPY_MODEL_053a07d505344393b09dd669d7cc2bc4"
      }
     },
     "a49c1f4d77dd4d9a8d17c9cbf6f617a1": {
      "model_module": "@jupyter-widgets/base",
      "model_module_version": "1.2.0",
      "model_name": "LayoutModel",
      "state": {}
     },
     "a4f9a69b11f2467cb1925751ad5938f5": {
      "model_module": "@jupyter-widgets/controls",
      "model_module_version": "1.5.0",
      "model_name": "TextModel",
      "state": {
       "continuous_update": false,
       "description": "Contours",
       "layout": "IPY_MODEL_8e079e007341401a919b56e7e5b10fe9",
       "style": "IPY_MODEL_794fc1df986642998b855bef6f4e97b0"
      }
     },
     "a52febe8bbcb47ed90a45ab9cdb9d667": {
      "model_module": "@jupyter-widgets/controls",
      "model_module_version": "1.5.0",
      "model_name": "ButtonStyleModel",
      "state": {}
     },
     "a5cca40d535d4036956c29a91c60df10": {
      "model_module": "@jupyter-widgets/base",
      "model_module_version": "1.2.0",
      "model_name": "LayoutModel",
      "state": {
       "display": "none",
       "width": "auto"
      }
     },
     "a5eaa893c8274dd49c90433028803299": {
      "model_module": "@jupyter-widgets/controls",
      "model_module_version": "1.5.0",
      "model_name": "DropdownModel",
      "state": {
       "_options_labels": [
        "",
        "--- Channels ---",
        "Airborne_Gxx",
        "Airborne_Gxy",
        "Airborne_Gxz",
        "Airborne_Gyy",
        "Airborne_Gyz",
        "Airborne_Gz",
        "Airborne_Gzz",
        "Airborne_TMI",
        "Ground_Gz",
        "Z"
       ],
       "description": "Data: ",
       "index": 2,
       "layout": "IPY_MODEL_f20090345a29459ab90122ef794e08fc",
       "style": "IPY_MODEL_6669e6cf56bc49909165dc60f771038a"
      }
     },
     "a60c1692e9304645ad55d7f617db556c": {
      "model_module": "@jupyter-widgets/controls",
      "model_module_version": "1.5.0",
      "model_name": "TextModel",
      "state": {
       "layout": "IPY_MODEL_9914794e65424d10b160379cade1cd76",
       "placeholder": "output filename",
       "style": "IPY_MODEL_9a82944deade445798d296806032b5b7",
       "value": "FlinFlon.geoh5"
      }
     },
     "a67f1e0090864f2a8ff231a132aee6b4": {
      "model_module": "@jupyter-widgets/base",
      "model_module_version": "1.2.0",
      "model_name": "LayoutModel",
      "state": {}
     },
     "a6a561f4c5364d3f852b43032961d088": {
      "model_module": "@jupyter-widgets/base",
      "model_module_version": "1.2.0",
      "model_name": "LayoutModel",
      "state": {}
     },
     "a8304945a6d84927a57d8b0a6cd64839": {
      "model_module": "@jupyter-widgets/base",
      "model_module_version": "1.2.0",
      "model_name": "LayoutModel",
      "state": {
       "width": "auto"
      }
     },
     "a8c7e2c0d5e9464887bd27a6e03de211": {
      "model_module": "@jupyter-widgets/controls",
      "model_module_version": "1.5.0",
      "model_name": "VBoxModel",
      "state": {
       "children": [
        "IPY_MODEL_15c59b8ddcee4a7b86d12d25fe860be5",
        "IPY_MODEL_98fa608474204e9fb655ed5c33219b47"
       ],
       "layout": "IPY_MODEL_170e8f039a9b4972b11021034a801d65"
      }
     },
     "a93ca8ca63ae491e99fe01820c5a929e": {
      "model_module": "@jupyter-widgets/controls",
      "model_module_version": "1.5.0",
      "model_name": "ToggleButtonModel",
      "state": {
       "layout": "IPY_MODEL_f4f34fa6a1bf49c9869d2950d03f6c87",
       "style": "IPY_MODEL_f19cabc5f4b048199d7a1f19a199f740",
       "value": true
      }
     },
     "a97207e9e1554eb0b08e562159765d34": {
      "model_module": "@jupyter-widgets/base",
      "model_module_version": "1.2.0",
      "model_name": "LayoutModel",
      "state": {}
     },
     "a9b712e1d3474c78b116018b4d5bff47": {
      "model_module": "@jupyter-widgets/controls",
      "model_module_version": "1.5.0",
      "model_name": "HBoxModel",
      "state": {
       "children": [
        "IPY_MODEL_b9d5d507861a46a0a849e9c644695ba6",
        "IPY_MODEL_9bab441e8fdb49aab985c96cc896dd2d",
        "IPY_MODEL_b1c455a7549c4a2289ff6e261da8bf7f"
       ],
       "layout": "IPY_MODEL_fb7fcc25bd464209a461f4ed7f2b4f93"
      }
     },
     "aa317d22158b48b8879fb1a5c0bdcdc3": {
      "model_module": "@jupyter-widgets/base",
      "model_module_version": "1.2.0",
      "model_name": "LayoutModel",
      "state": {}
     },
     "aaec99ac82b1451a8a8737a18a1ddd0a": {
      "model_module": "@jupyter-widgets/base",
      "model_module_version": "1.2.0",
      "model_name": "LayoutModel",
      "state": {}
     },
     "ab5a040e01b14d75b629c5f975ec83d1": {
      "model_module": "@jupyter-widgets/base",
      "model_module_version": "1.2.0",
      "model_name": "LayoutModel",
      "state": {}
     },
     "abf057a4bb67416d88dd3ebc180075fd": {
      "model_module": "@jupyter-widgets/base",
      "model_module_version": "1.2.0",
      "model_name": "LayoutModel",
      "state": {}
     },
     "ac5623e6a2564783a0c85d6f44a563fe": {
      "model_module": "@jupyter-widgets/controls",
      "model_module_version": "1.5.0",
      "model_name": "FloatSliderModel",
      "state": {
       "continuous_update": false,
       "description": "Azimuth",
       "layout": "IPY_MODEL_cafff7a80e7c46f6bc6a101e8caeac4a",
       "max": 90,
       "min": -90,
       "step": 0.1,
       "style": "IPY_MODEL_390f960ce8a14b2ca461fad2434fbef4"
      }
     },
     "ac9c07aae5754227aa42017555221bb5": {
      "model_module": "@jupyter-widgets/controls",
      "model_module_version": "1.5.0",
      "model_name": "VBoxModel",
      "state": {
       "children": [
        "IPY_MODEL_597801df8dac4290bd8b2e8a78384b25",
        "IPY_MODEL_7ea014ba7b484c8bb071129e8454333e",
        "IPY_MODEL_a9b712e1d3474c78b116018b4d5bff47"
       ],
       "layout": "IPY_MODEL_e3caa57987534b6293913b30d50d5caf"
      }
     },
     "ad0c2f611d234a64ab224e978300907f": {
      "model_module": "@jupyter-widgets/controls",
      "model_module_version": "1.5.0",
      "model_name": "DescriptionStyleModel",
      "state": {
       "description_width": ""
      }
     },
     "adec9bdf26cd4fc983fa5b167364b6f2": {
      "model_module": "@jupyter-widgets/base",
      "model_module_version": "1.2.0",
      "model_name": "LayoutModel",
      "state": {
       "display": "none",
       "grid_gap": "0px 0px",
       "grid_template_areas": "\n                    'pathlist pathlist'\n                    'dircontent dircontent'\n                    ",
       "grid_template_columns": "60% 40%",
       "grid_template_rows": "auto auto",
       "width": "500px"
      }
     },
     "ae13d28985ee4b99910ab19eb93427b3": {
      "model_module": "@jupyter-widgets/controls",
      "model_module_version": "1.5.0",
      "model_name": "HTMLModel",
      "state": {
       "layout": "IPY_MODEL_976364622e344e4d9e17a40b2986564b",
       "style": "IPY_MODEL_4e4076f3c7164d66b1a658cf9c5262be"
      }
     },
     "ae6d47c7390d4a038b3e11950c10faae": {
      "model_module": "@jupyter-widgets/controls",
      "model_module_version": "1.5.0",
      "model_name": "ButtonModel",
      "state": {
       "description": "Select",
       "layout": "IPY_MODEL_d0e5675f9bae45aab430c0046cf3809a",
       "style": "IPY_MODEL_55ccdb460e204dc99094865dab2e315b"
      }
     },
     "aefcb548dcf442a7adff04e3baacc389": {
      "model_module": "@jupyter-widgets/controls",
      "model_module_version": "1.5.0",
      "model_name": "VBoxModel",
      "state": {
       "children": [
        "IPY_MODEL_d75e3c5dfdf9416a909ddb3c3db30d57",
        "IPY_MODEL_98232990487f4f68b1774b6bff5d70ec"
       ],
       "layout": "IPY_MODEL_f3f3efa0d36c414494a0881c5914bea4"
      }
     },
     "aefef50c16294e4b8d22f945089e7f92": {
      "model_module": "@jupyter-widgets/controls",
      "model_module_version": "1.5.0",
      "model_name": "DescriptionStyleModel",
      "state": {
       "description_width": "initial"
      }
     },
     "afa0fb3353e84488978289189cdbbafd": {
      "model_module": "@jupyter-widgets/controls",
      "model_module_version": "1.5.0",
      "model_name": "LabelModel",
      "state": {
       "layout": "IPY_MODEL_d7acd5a42b5c4347b57bf28fb27460c7",
       "style": "IPY_MODEL_5794952ac1024b5bb6eac3c854dfbdb9",
       "value": "Data Count: 5341"
      }
     },
     "afcaa928f3c8464e9ea8d2465ec74574": {
      "model_module": "@jupyter-widgets/base",
      "model_module_version": "1.2.0",
      "model_name": "LayoutModel",
      "state": {
       "display": "none"
      }
     },
     "affb4f12ed2f4718bd9b8c416addab7f": {
      "model_module": "@jupyter-widgets/base",
      "model_module_version": "1.2.0",
      "model_name": "LayoutModel",
      "state": {
       "width": "auto"
      }
     },
     "b05912b62db744c490309569217dde9e": {
      "model_module": "@jupyter-widgets/controls",
      "model_module_version": "1.5.0",
      "model_name": "ButtonStyleModel",
      "state": {}
     },
     "b146b34e3b26417fb3961181c4604662": {
      "model_module": "@jupyter-widgets/base",
      "model_module_version": "1.2.0",
      "model_name": "LayoutModel",
      "state": {}
     },
     "b14b6c6884424f049a1115a8f9d212cf": {
      "model_module": "@jupyter-widgets/controls",
      "model_module_version": "1.5.0",
      "model_name": "VBoxModel",
      "state": {
       "children": [
        "IPY_MODEL_0f34834f8fed48beb3a60383df1b5f2d",
        "IPY_MODEL_28ee0480f9034e3a919ac117f60e2e99",
        "IPY_MODEL_7813cc9da5ab417b9d51cbdbd00114ad"
       ],
       "layout": "IPY_MODEL_f53910fbc1da49aab471772e41d86fac"
      }
     },
     "b1c455a7549c4a2289ff6e261da8bf7f": {
      "model_module": "@jupyter-widgets/controls",
      "model_module_version": "1.5.0",
      "model_name": "HTMLModel",
      "state": {
       "layout": "IPY_MODEL_4c6668faaaef4807b3f02217731d007c",
       "placeholder": "",
       "style": "IPY_MODEL_be6e4571b53e4578bd53cc585f872c52",
       "value": "<span style=\"margin-left:10px; color:orange;\">C:\\Users\\dominiquef\\Documents\\GIT\\mira\\mirageoscience-apps\\assets\\FlinFlon.geoh5</span>"
      }
     },
     "b205acd56e064557920dcc246b7cdbbd": {
      "model_module": "@jupyter-widgets/base",
      "model_module_version": "1.2.0",
      "model_name": "LayoutModel",
      "state": {}
     },
     "b2155a87da1441e194a4b809d2bd832c": {
      "model_module": "@jupyter-widgets/controls",
      "model_module_version": "1.5.0",
      "model_name": "DropdownModel",
      "state": {
       "_options_labels": [
        "C:\\Users\\dominiquef\\Documents\\GIT\\mira\\mirageoscience-apps\\docs\\content\\applications",
        "C:\\Users\\dominiquef\\Documents\\GIT\\mira\\mirageoscience-apps\\docs\\content",
        "C:\\Users\\dominiquef\\Documents\\GIT\\mira\\mirageoscience-apps\\docs",
        "C:\\Users\\dominiquef\\Documents\\GIT\\mira\\mirageoscience-apps",
        "C:\\Users\\dominiquef\\Documents\\GIT\\mira",
        "C:\\Users\\dominiquef\\Documents\\GIT",
        "C:\\Users\\dominiquef\\Documents",
        "C:\\Users\\dominiquef",
        "C:\\Users",
        "C:\\",
        "D:\\",
        "Z:\\"
       ],
       "index": 0,
       "layout": "IPY_MODEL_e495303420714827a592bd9da745d9e7",
       "style": "IPY_MODEL_0a006fa75b63455b9e5f37aeaa7432a5"
      }
     },
     "b2539b7d6eab4170975186a5bb58c74b": {
      "model_module": "@jupyter-widgets/base",
      "model_module_version": "1.2.0",
      "model_name": "LayoutModel",
      "state": {}
     },
     "b25f04dbd26445889d5f16618a00214f": {
      "model_module": "@jupyter-widgets/controls",
      "model_module_version": "1.5.0",
      "model_name": "VBoxModel",
      "state": {
       "children": [
        "IPY_MODEL_0c2303f7e4db42ffaad54924c937edf7",
        "IPY_MODEL_837202297f094d3086cf25fe1a9ae54e",
        "IPY_MODEL_0cad1401700045c0a58d5392aba1e296"
       ],
       "layout": "IPY_MODEL_affb4f12ed2f4718bd9b8c416addab7f"
      }
     },
     "b26ed8bd419044bb8303f3a12ef4717e": {
      "model_module": "@jupyter-widgets/base",
      "model_module_version": "1.2.0",
      "model_name": "LayoutModel",
      "state": {
       "display": "none"
      }
     },
     "b28de4ab5e954bfaa8d8d9dcfc622720": {
      "model_module": "@jupyter-widgets/controls",
      "model_module_version": "1.5.0",
      "model_name": "HBoxModel",
      "state": {
       "children": [
        "IPY_MODEL_752d7dd405f9483d918669c1eb2aacf7",
        "IPY_MODEL_093bd7333420405a839ad7741edcb6b1",
        "IPY_MODEL_3b30701677e14320b0cc4f6dd8089b8f"
       ],
       "layout": "IPY_MODEL_48df5fb60f68412f813d5040d2c95e43"
      }
     },
     "b2e9777043a64b6f9b7b7f6a0b7024e6": {
      "model_module": "@jupyter-widgets/controls",
      "model_module_version": "1.5.0",
      "model_name": "ButtonStyleModel",
      "state": {}
     },
     "b309d6c0daad4918a056175beffd3511": {
      "model_module": "@jupyter-widgets/controls",
      "model_module_version": "1.5.0",
      "model_name": "GridBoxModel",
      "state": {
       "children": [
        "IPY_MODEL_94a45023d8ef41e9bd4fe6bd1df52324",
        "IPY_MODEL_a60c1692e9304645ad55d7f617db556c",
        "IPY_MODEL_5a9c5d96973b4d43a568a57ee9be1acb"
       ],
       "layout": "IPY_MODEL_82ab4cb42d4b4066a777ece530a0d7f6"
      }
     },
     "b32fbb97049d4b0bab4c3bdee2775e62": {
      "model_module": "@jupyter-widgets/base",
      "model_module_version": "1.2.0",
      "model_name": "LayoutModel",
      "state": {}
     },
     "b355644eda4649f7b6403f9f374b2c9f": {
      "model_module": "@jupyter-widgets/base",
      "model_module_version": "1.2.0",
      "model_name": "LayoutModel",
      "state": {}
     },
     "b4ab88404a92425799aae7cb946fe174": {
      "model_module": "@jupyter-widgets/controls",
      "model_module_version": "1.5.0",
      "model_name": "ToggleButtonModel",
      "state": {
       "button_style": "warning",
       "description": "Compute",
       "icon": "check",
       "layout": "IPY_MODEL_b355644eda4649f7b6403f9f374b2c9f",
       "style": "IPY_MODEL_616feeb8f9a64b1d820d586948560ea3",
       "tooltip": "Description"
      }
     },
     "b4ebb796c55e487c98c7311005d26eb7": {
      "model_module": "@jupyter-widgets/controls",
      "model_module_version": "1.5.0",
      "model_name": "ToggleButtonModel",
      "state": {
       "button_style": "warning",
       "description": "Compute",
       "icon": "check",
       "layout": "IPY_MODEL_95a9dd7c1e83433a8e3714ebc54b8627",
       "style": "IPY_MODEL_c3273a0b142a4ad594a339c7bd7bbefa",
       "tooltip": "Description",
       "value": true
      }
     },
     "b5cb3c28da6c4a0da62080357d178789": {
      "model_module": "@jupyter-widgets/controls",
      "model_module_version": "1.5.0",
      "model_name": "SliderStyleModel",
      "state": {
       "description_width": ""
      }
     },
     "b6207e84bb0c475cb538483fb6e422ef": {
      "model_module": "@jupyter-widgets/base",
      "model_module_version": "1.2.0",
      "model_name": "LayoutModel",
      "state": {
       "display": "none",
       "grid_gap": "0px 0px",
       "grid_template_areas": "\n                    'pathlist pathlist'\n                    'dircontent dircontent'\n                    ",
       "grid_template_columns": "60% 40%",
       "grid_template_rows": "auto auto",
       "width": "500px"
      }
     },
     "b622cc8f3b6943abbf3bb5389392b8b7": {
      "model_module": "@jupyter-widgets/base",
      "model_module_version": "1.2.0",
      "model_name": "LayoutModel",
      "state": {}
     },
     "b6a7ea7cf02c4d2891260a4bc54418d0": {
      "model_module": "@jupyter-widgets/controls",
      "model_module_version": "1.5.0",
      "model_name": "DescriptionStyleModel",
      "state": {
       "description_width": "initial"
      }
     },
     "b739e12455ee405ea5ffe8450793978d": {
      "model_module": "@jupyter-widgets/base",
      "model_module_version": "1.2.0",
      "model_name": "LayoutModel",
      "state": {
       "grid_area": "pathlist",
       "width": "auto"
      }
     },
     "b742eff2c19b4c4398879bba4d0908ee": {
      "model_module": "@jupyter-widgets/controls",
      "model_module_version": "1.5.0",
      "model_name": "DescriptionStyleModel",
      "state": {
       "description_width": ""
      }
     },
     "b7b0e662a02f480eb148f94dd44d8d23": {
      "model_module": "@jupyter-widgets/base",
      "model_module_version": "1.2.0",
      "model_name": "LayoutModel",
      "state": {}
     },
     "b8a1421292264868b56bc68cbc7289e5": {
      "model_module": "@jupyter-widgets/base",
      "model_module_version": "1.2.0",
      "model_name": "LayoutModel",
      "state": {}
     },
     "b8d11118ea414a1bb846f2e63eb64aca": {
      "model_module": "@jupyter-widgets/controls",
      "model_module_version": "1.5.0",
      "model_name": "HBoxModel",
      "state": {
       "children": [
        "IPY_MODEL_f263e97b91284d88a8d355c58c7bd862",
        "IPY_MODEL_ba6925a51c6f4a4786da7f8e17d736ac",
        "IPY_MODEL_fb9ab73e01a4404f9013e0b7c2916b55"
       ],
       "layout": "IPY_MODEL_6787a491aa674cd99d86fe3a446b31fb"
      }
     },
     "b91a539cb6824d23a5f7e429cf7a65c1": {
      "model_module": "@jupyter-widgets/base",
      "model_module_version": "1.2.0",
      "model_name": "LayoutModel",
      "state": {}
     },
     "b9d5d507861a46a0a849e9c644695ba6": {
      "model_module": "@jupyter-widgets/controls",
      "model_module_version": "1.5.0",
      "model_name": "ButtonModel",
      "state": {
       "description": "Change",
       "layout": "IPY_MODEL_12749e4f07f84aa99a29bc642d314e6c",
       "style": "IPY_MODEL_217c04387c1a49608de69962129368ab"
      }
     },
     "b9d9ca589fb84d71b74b2cdcfaa47216": {
      "model_module": "@jupyter-widgets/base",
      "model_module_version": "1.2.0",
      "model_name": "LayoutModel",
      "state": {
       "grid_area": "dircontent",
       "width": "auto"
      }
     },
     "b9dc2232155a4bba9e33cc6dde3da4d1": {
      "model_module": "@jupyter-widgets/controls",
      "model_module_version": "1.5.0",
      "model_name": "VBoxModel",
      "state": {
       "children": [
        "IPY_MODEL_2bdca72eb447438da7338e892ac7e03a",
        "IPY_MODEL_c5f65ce42e664d6188e4502e1bb1b13e"
       ],
       "layout": "IPY_MODEL_f9287ac52d7a4ab3b5c4b42fec825486"
      }
     },
     "ba5e43927b424a51912d47edceacef45": {
      "model_module": "@jupyter-widgets/output",
      "model_module_version": "1.0.0",
      "model_name": "OutputModel",
      "state": {
       "layout": "IPY_MODEL_0a006d0c5c194506ba6cdd8a1cb29ef9",
       "outputs": [
        {
         "data": {
          "image/png": "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\n",
          "text/plain": "<Figure size 720x720 with 1 Axes>"
         },
         "metadata": {
          "needs_background": "light"
         },
         "output_type": "display_data"
        }
       ]
      }
     },
     "ba6925a51c6f4a4786da7f8e17d736ac": {
      "model_module": "@jupyter-widgets/controls",
      "model_module_version": "1.5.0",
      "model_name": "FloatSliderModel",
      "state": {
       "continuous_update": false,
       "description": "Height",
       "layout": "IPY_MODEL_d6e81351f7b84c56b71b6592fab89bc9",
       "max": 11351.865002485923,
       "orientation": "vertical",
       "step": 0.1,
       "style": "IPY_MODEL_fce92da3c4a2465c990e4a85ce289ceb",
       "value": 5675.932501242962
      }
     },
     "ba69908b44584e02a3ec77636f688ecb": {
      "model_module": "@jupyter-widgets/controls",
      "model_module_version": "1.5.0",
      "model_name": "FloatSliderModel",
      "state": {
       "continuous_update": false,
       "description": "Height",
       "layout": "IPY_MODEL_a97207e9e1554eb0b08e562159765d34",
       "max": 11351.865002485923,
       "orientation": "vertical",
       "step": 0.1,
       "style": "IPY_MODEL_8fef414a30c8433b885a863cf0c60916",
       "value": 5675.932501242962
      }
     },
     "baff60ebcce14e668cbbc62f8d789a17": {
      "model_module": "@jupyter-widgets/controls",
      "model_module_version": "1.5.0",
      "model_name": "VBoxModel",
      "state": {
       "children": [
        "IPY_MODEL_6123a9b0b80c47829078bc4164d492cb",
        "IPY_MODEL_e300557d23cc4779a06b2e8074126aa1",
        "IPY_MODEL_97bc18ad7f2642c7b4bfd9f8a4a71c2f"
       ],
       "layout": "IPY_MODEL_79d67b9242cc4c63be3ee488c617985d"
      }
     },
     "bb03a23e67f945bb963b52c45f0e4be7": {
      "model_module": "@jupyter-widgets/base",
      "model_module_version": "1.2.0",
      "model_name": "LayoutModel",
      "state": {}
     },
     "bb8b86d54a5e4c6688a089aed50f018c": {
      "model_module": "@jupyter-widgets/controls",
      "model_module_version": "1.5.0",
      "model_name": "ButtonStyleModel",
      "state": {}
     },
     "bc0604c6e30544508e083edfd06372c8": {
      "model_module": "@jupyter-widgets/controls",
      "model_module_version": "1.5.0",
      "model_name": "FloatSliderModel",
      "state": {
       "continuous_update": false,
       "description": "Width",
       "layout": "IPY_MODEL_6bdb7c7203124ef482cf9fddf365b0a5",
       "max": 7335.505938563321,
       "step": 0.1,
       "style": "IPY_MODEL_d4606317ac8e4d44bf2e9f94320fea4b",
       "value": 3667.7529692816606
      }
     },
     "bc5a4175e0d84e5fb7bf79e9ab77602f": {
      "model_module": "@jupyter-widgets/controls",
      "model_module_version": "1.5.0",
      "model_name": "DescriptionStyleModel",
      "state": {
       "description_width": "initial"
      }
     },
     "bd1fe9dcc41b4f6a8f503a741c9af754": {
      "model_module": "@jupyter-widgets/controls",
      "model_module_version": "1.5.0",
      "model_name": "DescriptionStyleModel",
      "state": {
       "description_width": "initial"
      }
     },
     "bd747a1a5de740fe8739d2fedb5e53f2": {
      "model_module": "@jupyter-widgets/controls",
      "model_module_version": "1.5.0",
      "model_name": "FloatSliderModel",
      "state": {
       "continuous_update": false,
       "description": "Width",
       "layout": "IPY_MODEL_6d07e9d6e3744e56b9183af8559f3b08",
       "max": 7335.505938563321,
       "step": 0.1,
       "style": "IPY_MODEL_642db6f0f8ea47cc9dea422d8861016b",
       "value": 3667.7529692816606
      }
     },
     "bd7dd10a365b4704a0efacc9c6bd3afb": {
      "model_module": "@jupyter-widgets/controls",
      "model_module_version": "1.5.0",
      "model_name": "FloatSliderModel",
      "state": {
       "continuous_update": false,
       "description": "Azimuth",
       "layout": "IPY_MODEL_083548df2da5487eaaa8b5f81d05e311",
       "max": 90,
       "min": -90,
       "step": 0.1,
       "style": "IPY_MODEL_84ae863b9b3447a88669d5fed5273f38"
      }
     },
     "bda51cab27ac4395a8caeab7f3dd1e29": {
      "model_module": "@jupyter-widgets/base",
      "model_module_version": "1.2.0",
      "model_name": "LayoutModel",
      "state": {}
     },
     "be6e4571b53e4578bd53cc585f872c52": {
      "model_module": "@jupyter-widgets/controls",
      "model_module_version": "1.5.0",
      "model_name": "DescriptionStyleModel",
      "state": {
       "description_width": ""
      }
     },
     "bf24c7535b9941f69a4a80d648d68037": {
      "model_module": "@jupyter-widgets/controls",
      "model_module_version": "1.5.0",
      "model_name": "IntSliderModel",
      "state": {
       "continuous_update": false,
       "description": "Line Gap",
       "layout": "IPY_MODEL_b91a539cb6824d23a5f7e429cf7a65c1",
       "min": 1,
       "style": "IPY_MODEL_3afdd203736c42e4b58b9f8073b81c19",
       "value": 1
      }
     },
     "bf865bac458f4f2682960e8ed651e26b": {
      "model_module": "@jupyter-widgets/controls",
      "model_module_version": "1.5.0",
      "model_name": "SelectModel",
      "state": {
       "_options_labels": [
        "..",
        "images"
       ],
       "index": null,
       "layout": "IPY_MODEL_1a6d3c2c5e414b57917d36a33ff63963",
       "rows": 8,
       "style": "IPY_MODEL_131bedf32d8b41d2aefad1bfe180ae92"
      }
     },
     "bfc742b074064d6cbef4340f5e380af2": {
      "model_module": "@jupyter-widgets/controls",
      "model_module_version": "1.5.0",
      "model_name": "SliderStyleModel",
      "state": {
       "description_width": ""
      }
     },
     "c049aac107174c2b8fa785df593776d3": {
      "model_module": "@jupyter-widgets/base",
      "model_module_version": "1.2.0",
      "model_name": "LayoutModel",
      "state": {}
     },
     "c14f121809ac4a37814800c19b234008": {
      "model_module": "@jupyter-widgets/base",
      "model_module_version": "1.2.0",
      "model_name": "LayoutModel",
      "state": {
       "display": "none",
       "width": "auto"
      }
     },
     "c150eba5d0f94e44a2ef1d39e7e62011": {
      "model_module": "@jupyter-widgets/base",
      "model_module_version": "1.2.0",
      "model_name": "LayoutModel",
      "state": {}
     },
     "c23372bf5dd744f79d7eaf6bdcd4d77c": {
      "model_module": "@jupyter-widgets/base",
      "model_module_version": "1.2.0",
      "model_name": "LayoutModel",
      "state": {
       "display": "none",
       "grid_gap": "0px 0px",
       "grid_template_areas": "\n                    'pathlist filename'\n                    'dircontent dircontent'\n                    ",
       "grid_template_columns": "60% 40%",
       "grid_template_rows": "auto auto",
       "width": "500px"
      }
     },
     "c24d1bef84f64af9a0cfbecb694c4d32": {
      "model_module": "@jupyter-widgets/controls",
      "model_module_version": "1.5.0",
      "model_name": "ToggleButtonModel",
      "state": {
       "description": "Zoom on selection",
       "icon": "check",
       "layout": "IPY_MODEL_1d5371c11dd14f0f95c7a76f6eb2020a",
       "style": "IPY_MODEL_ee9b2d752a1d464b9d739a7951713e27",
       "tooltip": "Keep plot extent on selection",
       "value": true
      }
     },
     "c253f86d9aea4e2a9527e79a7f1ae80d": {
      "model_module": "@jupyter-widgets/base",
      "model_module_version": "1.2.0",
      "model_name": "LayoutModel",
      "state": {}
     },
     "c307e30b594d45628f2a358d68f5be94": {
      "model_module": "@jupyter-widgets/controls",
      "model_module_version": "1.5.0",
      "model_name": "SliderStyleModel",
      "state": {
       "description_width": ""
      }
     },
     "c3273a0b142a4ad594a339c7bd7bbefa": {
      "model_module": "@jupyter-widgets/controls",
      "model_module_version": "1.5.0",
      "model_name": "DescriptionStyleModel",
      "state": {
       "description_width": "initial"
      }
     },
     "c3610a2107a94ef58570f9eda56b5f03": {
      "model_module": "@jupyter-widgets/controls",
      "model_module_version": "1.5.0",
      "model_name": "IntSliderModel",
      "state": {
       "continuous_update": false,
       "description": "Window size",
       "layout": "IPY_MODEL_040e6600610e4e0ebb8cfc85543f670c",
       "max": 512,
       "min": 16,
       "style": "IPY_MODEL_8e083e68a64d4ae78aa442e40e79df8f",
       "value": 64
      }
     },
     "c3ae1bd516ea4fd99e8f4033ba9a3936": {
      "model_module": "@jupyter-widgets/controls",
      "model_module_version": "1.5.0",
      "model_name": "TextModel",
      "state": {
       "disabled": true,
       "layout": "IPY_MODEL_790c79b646ef4d319cd1b75952e38df2",
       "placeholder": "output filename",
       "style": "IPY_MODEL_93090c27b5f048fe9913e1b93c1b434a"
      }
     },
     "c3b27f30693f4a0e931d92f6b8bb0f9a": {
      "model_module": "@jupyter-widgets/controls",
      "model_module_version": "1.5.0",
      "model_name": "VBoxModel",
      "state": {
       "children": [
        "IPY_MODEL_8b9c5622e9034502ad3ff6ec99eed1d1",
        "IPY_MODEL_947a8343a83b47238159291309f35817"
       ],
       "layout": "IPY_MODEL_c150eba5d0f94e44a2ef1d39e7e62011"
      }
     },
     "c3cd4f70ee704004b48e368e828f1327": {
      "model_module": "@jupyter-widgets/controls",
      "model_module_version": "1.5.0",
      "model_name": "DescriptionStyleModel",
      "state": {
       "description_width": "initial"
      }
     },
     "c40560a5182f437086fd076f91385325": {
      "model_module": "@jupyter-widgets/controls",
      "model_module_version": "1.5.0",
      "model_name": "ButtonModel",
      "state": {
       "description": "Cancel",
       "layout": "IPY_MODEL_c14f121809ac4a37814800c19b234008",
       "style": "IPY_MODEL_b2e9777043a64b6f9b7b7f6a0b7024e6"
      }
     },
     "c4f9a43a7260485fbc3dedbb86ed09db": {
      "model_module": "@jupyter-widgets/controls",
      "model_module_version": "1.5.0",
      "model_name": "VBoxModel",
      "state": {
       "children": [
        "IPY_MODEL_495733ca50a84d3b9217f989aad94086",
        "IPY_MODEL_156a49a6226641bd90b1f42f154a286a",
        "IPY_MODEL_1c03547b171e46f8a0b2822bf0629351",
        "IPY_MODEL_915e156f69ca4852accf406d1b20d7f2",
        "IPY_MODEL_312e91f1b5a34214b81bf26420278bcd",
        "IPY_MODEL_b4ebb796c55e487c98c7311005d26eb7",
        "IPY_MODEL_0f5fb1a117f045a1b9482f092bb38ad8",
        "IPY_MODEL_27580eabdc9f494fb30ef3cd0e63d4f5"
       ],
       "layout": "IPY_MODEL_7ed2bd277b0d4cd1a64d282b02d1fa23"
      }
     },
     "c53b7c3b6ac34ccdbfca9b39ee9d86bb": {
      "model_module": "@jupyter-widgets/controls",
      "model_module_version": "1.5.0",
      "model_name": "DropdownModel",
      "state": {
       "_options_labels": [
        "C:\\Users\\dominiquef\\Documents\\GIT\\mira\\mirageoscience-apps\\assets",
        "C:\\Users\\dominiquef\\Documents\\GIT\\mira\\mirageoscience-apps",
        "C:\\Users\\dominiquef\\Documents\\GIT\\mira",
        "C:\\Users\\dominiquef\\Documents\\GIT",
        "C:\\Users\\dominiquef\\Documents",
        "C:\\Users\\dominiquef",
        "C:\\Users",
        "C:\\",
        "D:\\",
        "Z:\\"
       ],
       "index": 0,
       "layout": "IPY_MODEL_99810b48762545aa82bb796f887e180f",
       "style": "IPY_MODEL_4d09611b5b504d3cbe64e617cb9cce50"
      }
     },
     "c5719b0cdcbe4d30a1ac7b91c4ace603": {
      "model_module": "@jupyter-widgets/controls",
      "model_module_version": "1.5.0",
      "model_name": "DescriptionStyleModel",
      "state": {
       "description_width": ""
      }
     },
     "c5f65ce42e664d6188e4502e1bb1b13e": {
      "model_module": "@jupyter-widgets/controls",
      "model_module_version": "1.5.0",
      "model_name": "LabelModel",
      "state": {
       "layout": "IPY_MODEL_9769c9ec5c2e4cd683eaa2dc775c2001",
       "style": "IPY_MODEL_cc75aa16c0ae40659bcb6d0a550cb1ec",
       "value": "Data Count: 5341"
      }
     },
     "c61cff68d3a1436ca68b7a98e89bbde8": {
      "model_module": "@jupyter-widgets/controls",
      "model_module_version": "1.5.0",
      "model_name": "ButtonModel",
      "state": {
       "description": "Cancel",
       "layout": "IPY_MODEL_5dc27a907338402d9f6f68806da5afca",
       "style": "IPY_MODEL_1ee72b73f55649c8a5afdf32f6580142"
      }
     },
     "c63f119795294a5b9ca885b894eb1c48": {
      "model_module": "@jupyter-widgets/controls",
      "model_module_version": "1.5.0",
      "model_name": "VBoxModel",
      "state": {
       "children": [
        "IPY_MODEL_bd747a1a5de740fe8739d2fedb5e53f2",
        "IPY_MODEL_f1b39a1d65f74c7e8e19ca6e824deb8b",
        "IPY_MODEL_ba5e43927b424a51912d47edceacef45",
        "IPY_MODEL_bd7dd10a365b4704a0efacc9c6bd3afb",
        "IPY_MODEL_7ee1673f406440fb9787b9613ed853cb"
       ],
       "layout": "IPY_MODEL_9a68864455014a4488c423f6a1fa9269"
      }
     },
     "c63f3f771953402788ea2a9e75453968": {
      "model_module": "@jupyter-widgets/controls",
      "model_module_version": "1.5.0",
      "model_name": "VBoxModel",
      "state": {
       "children": [
        "IPY_MODEL_fe6ae07f958a461b8a6734cf2224720d",
        "IPY_MODEL_afa0fb3353e84488978289189cdbbafd"
       ],
       "layout": "IPY_MODEL_e192f7b1eb804a5a86891b750a5553ae"
      }
     },
     "c6c9213c872a49649c200ea54a1cc7f7": {
      "model_module": "@jupyter-widgets/base",
      "model_module_version": "1.2.0",
      "model_name": "LayoutModel",
      "state": {}
     },
     "c72f374dae814554b3238e2a1599117a": {
      "model_module": "@jupyter-widgets/base",
      "model_module_version": "1.2.0",
      "model_name": "LayoutModel",
      "state": {}
     },
     "c7486bea6b0243dfb7241369e4485128": {
      "model_module": "@jupyter-widgets/base",
      "model_module_version": "1.2.0",
      "model_name": "LayoutModel",
      "state": {}
     },
     "c7d193a16a404c32b2c4f6865d150ab6": {
      "model_module": "@jupyter-widgets/base",
      "model_module_version": "1.2.0",
      "model_name": "LayoutModel",
      "state": {}
     },
     "c7e58b398f9e485cbfbd572e2ea970ea": {
      "model_module": "@jupyter-widgets/controls",
      "model_module_version": "1.5.0",
      "model_name": "SliderStyleModel",
      "state": {
       "description_width": ""
      }
     },
     "c8224e85ac6842ea8f82751ce8a8c464": {
      "model_module": "@jupyter-widgets/controls",
      "model_module_version": "1.5.0",
      "model_name": "DropdownModel",
      "state": {
       "_options_labels": [
        "",
        "--- Channels ---",
        "Airborne_Gxx",
        "Airborne_Gxy",
        "Airborne_Gxz",
        "Airborne_Gyy",
        "Airborne_Gyz",
        "Airborne_Gz",
        "Airborne_Gzz",
        "Airborne_TMI",
        "Ground_Gz",
        "Z"
       ],
       "description": "Data: ",
       "index": 2,
       "layout": "IPY_MODEL_cd3513fd598441028899356fed1413ac",
       "style": "IPY_MODEL_7ee703778d5c4057bebdfd3936327ed4"
      }
     },
     "c8a52a4548b94fdaa5036865338c31ec": {
      "model_module": "@jupyter-widgets/base",
      "model_module_version": "1.2.0",
      "model_name": "LayoutModel",
      "state": {
       "width": "auto"
      }
     },
     "c8adf27f28544a25a5fd5edbd626746b": {
      "model_module": "@jupyter-widgets/controls",
      "model_module_version": "1.5.0",
      "model_name": "DescriptionStyleModel",
      "state": {
       "description_width": ""
      }
     },
     "c9044c8366d843339f67dde485f291eb": {
      "model_module": "@jupyter-widgets/controls",
      "model_module_version": "1.5.0",
      "model_name": "IntSliderModel",
      "state": {
       "continuous_update": false,
       "description": "Line Length",
       "layout": "IPY_MODEL_5f52c39e1aa7470ea0bad031d16e88ef",
       "min": 1,
       "style": "IPY_MODEL_6e219fa0c41c4517a4c3c076b88872bc",
       "value": 1
      }
     },
     "c98d69a9832d470c96f2a1160bb84c13": {
      "model_module": "@jupyter-widgets/base",
      "model_module_version": "1.2.0",
      "model_name": "LayoutModel",
      "state": {
       "grid_area": "dircontent",
       "width": "auto"
      }
     },
     "cafdc936b53f4901a4f5e21eb7d64456": {
      "model_module": "@jupyter-widgets/base",
      "model_module_version": "1.2.0",
      "model_name": "LayoutModel",
      "state": {}
     },
     "cafff7a80e7c46f6bc6a101e8caeac4a": {
      "model_module": "@jupyter-widgets/base",
      "model_module_version": "1.2.0",
      "model_name": "LayoutModel",
      "state": {}
     },
     "cb02a4e926344739a05f06200e97072c": {
      "model_module": "@jupyter-widgets/controls",
      "model_module_version": "1.5.0",
      "model_name": "DescriptionStyleModel",
      "state": {
       "description_width": "initial"
      }
     },
     "cb4f3ff0e6854f95b41f39274540af07": {
      "model_module": "@jupyter-widgets/base",
      "model_module_version": "1.2.0",
      "model_name": "LayoutModel",
      "state": {}
     },
     "cbe7e630e9d147b29e5af4fde815af7c": {
      "model_module": "@jupyter-widgets/controls",
      "model_module_version": "1.5.0",
      "model_name": "HBoxModel",
      "state": {
       "children": [
        "IPY_MODEL_fb2a35ca4ccd46b59c7b42a007bf1e37",
        "IPY_MODEL_edb8cc7febf645baa3b2e3826403e2ba",
        "IPY_MODEL_c63f119795294a5b9ca885b894eb1c48"
       ],
       "layout": "IPY_MODEL_480332ca7eeb43f7932cf5d611361c26"
      }
     },
     "cbe7eafbcf42446689fce72a35597be7": {
      "model_module": "@jupyter-widgets/controls",
      "model_module_version": "1.5.0",
      "model_name": "DropdownModel",
      "state": {
       "_options_labels": [
        "C:\\Users\\dominiquef\\Documents\\GIT\\mira\\mirageoscience-apps\\docs\\content\\applications",
        "C:\\Users\\dominiquef\\Documents\\GIT\\mira\\mirageoscience-apps\\docs\\content",
        "C:\\Users\\dominiquef\\Documents\\GIT\\mira\\mirageoscience-apps\\docs",
        "C:\\Users\\dominiquef\\Documents\\GIT\\mira\\mirageoscience-apps",
        "C:\\Users\\dominiquef\\Documents\\GIT\\mira",
        "C:\\Users\\dominiquef\\Documents\\GIT",
        "C:\\Users\\dominiquef\\Documents",
        "C:\\Users\\dominiquef",
        "C:\\Users",
        "C:\\",
        "D:\\",
        "Z:\\"
       ],
       "index": 0,
       "layout": "IPY_MODEL_d757b352bd424895a516c24211d3946d",
       "style": "IPY_MODEL_c5719b0cdcbe4d30a1ac7b91c4ace603"
      }
     },
     "cc3ab610508a4f029beca98eefbfb5ab": {
      "model_module": "@jupyter-widgets/controls",
      "model_module_version": "1.5.0",
      "model_name": "DescriptionStyleModel",
      "state": {
       "description_width": ""
      }
     },
     "cc3af091e78940418246b0114a802ae2": {
      "model_module": "@jupyter-widgets/controls",
      "model_module_version": "1.5.0",
      "model_name": "SliderStyleModel",
      "state": {
       "description_width": ""
      }
     },
     "cc5a9db7020c4842be7dcf7dab211d23": {
      "model_module": "@jupyter-widgets/controls",
      "model_module_version": "1.5.0",
      "model_name": "LabelModel",
      "state": {
       "layout": "IPY_MODEL_8d38cae87d14403395a66c02248da32d",
       "style": "IPY_MODEL_538e087a8e4c4506b5855bc4a2a36fab",
       "value": "Workspace"
      }
     },
     "cc75aa16c0ae40659bcb6d0a550cb1ec": {
      "model_module": "@jupyter-widgets/controls",
      "model_module_version": "1.5.0",
      "model_name": "DescriptionStyleModel",
      "state": {
       "description_width": ""
      }
     },
     "ccaf92f4afc6455caedcee8d6cfa4fe8": {
      "model_module": "@jupyter-widgets/base",
      "model_module_version": "1.2.0",
      "model_name": "LayoutModel",
      "state": {}
     },
     "cd3513fd598441028899356fed1413ac": {
      "model_module": "@jupyter-widgets/base",
      "model_module_version": "1.2.0",
      "model_name": "LayoutModel",
      "state": {}
     },
     "cd6268291deb4d859eab6c3d85f4aa00": {
      "model_module": "@jupyter-widgets/base",
      "model_module_version": "1.2.0",
      "model_name": "LayoutModel",
      "state": {
       "width": "auto"
      }
     },
     "cdec7ebe59434144afe88357a9ccff81": {
      "model_module": "@jupyter-widgets/base",
      "model_module_version": "1.2.0",
      "model_name": "LayoutModel",
      "state": {
       "display": "none",
       "grid_area": "filename",
       "width": "auto"
      }
     },
     "cdff6046ddd24bb0a60fdb8829e0f2cf": {
      "model_module": "@jupyter-widgets/output",
      "model_module_version": "1.0.0",
      "model_name": "OutputModel",
      "state": {
       "layout": "IPY_MODEL_7cc4c88109304777adddd4f03267a78b"
      }
     },
     "ce4480b89de149ffb374ed4de9372b54": {
      "model_module": "@jupyter-widgets/controls",
      "model_module_version": "1.5.0",
      "model_name": "VBoxModel",
      "state": {
       "children": [
        "IPY_MODEL_1021aa137afe438d9717389e850f2a34",
        "IPY_MODEL_4c15c4bafb8840c48a8469d382753180"
       ],
       "layout": "IPY_MODEL_cb4f3ff0e6854f95b41f39274540af07"
      }
     },
     "ce479aaf676749dfbb36c8bdedeedf39": {
      "model_module": "@jupyter-widgets/controls",
      "model_module_version": "1.5.0",
      "model_name": "TextModel",
      "state": {
       "continuous_update": false,
       "description": "Group:",
       "layout": "IPY_MODEL_e0ea3c326b57458586afc025311981f2",
       "style": "IPY_MODEL_d0ed7b088b8d478ead51961b3a37eef6",
       "value": "Edges"
      }
     },
     "ced90c496d4a4784ad786b4fd089b890": {
      "model_module": "@jupyter-widgets/controls",
      "model_module_version": "1.5.0",
      "model_name": "ToggleButtonModel",
      "state": {
       "layout": "IPY_MODEL_d6dba8ba0069440884e1f11466755cab",
       "style": "IPY_MODEL_edee57cfa348469b928d49f6cb83ce87",
       "value": true
      }
     },
     "cf30b8865e2f4af2947bb62cbd382223": {
      "model_module": "@jupyter-widgets/base",
      "model_module_version": "1.2.0",
      "model_name": "LayoutModel",
      "state": {}
     },
     "cf40bd4a7f2e4c47bd2a95d4ed85b425": {
      "model_module": "@jupyter-widgets/controls",
      "model_module_version": "1.5.0",
      "model_name": "CheckboxModel",
      "state": {
       "description": "GA Pro - Live link",
       "disabled": false,
       "indent": false,
       "layout": "IPY_MODEL_138555b4f4a644e594996a791ab9e6e5",
       "style": "IPY_MODEL_6174a5beb70742dca652c7d005509b4c",
       "value": false
      }
     },
     "d0e5675f9bae45aab430c0046cf3809a": {
      "model_module": "@jupyter-widgets/base",
      "model_module_version": "1.2.0",
      "model_name": "LayoutModel",
      "state": {
       "width": "auto"
      }
     },
     "d0ed7b088b8d478ead51961b3a37eef6": {
      "model_module": "@jupyter-widgets/controls",
      "model_module_version": "1.5.0",
      "model_name": "DescriptionStyleModel",
      "state": {
       "description_width": "initial"
      }
     },
     "d1621d865d554406b7ecb7e20ab394f4": {
      "model_module": "@jupyter-widgets/base",
      "model_module_version": "1.2.0",
      "model_name": "LayoutModel",
      "state": {}
     },
     "d1a7289bfbac46f2b73242ac9b74f640": {
      "model_module": "@jupyter-widgets/base",
      "model_module_version": "1.2.0",
      "model_name": "LayoutModel",
      "state": {}
     },
     "d2680599946344b987f50117a1e43d6d": {
      "model_module": "@jupyter-widgets/base",
      "model_module_version": "1.2.0",
      "model_name": "LayoutModel",
      "state": {}
     },
     "d32f3db573fe457b911d20448093c11d": {
      "model_module": "@jupyter-widgets/base",
      "model_module_version": "1.2.0",
      "model_name": "LayoutModel",
      "state": {
       "display": "none"
      }
     },
     "d3986273699e4a27b9b0dc69cdc18216": {
      "model_module": "@jupyter-widgets/controls",
      "model_module_version": "1.5.0",
      "model_name": "DropdownModel",
      "state": {
       "_options_labels": [
        "",
        "Gravity_Magnetics_drape60m"
       ],
       "description": "Object:",
       "index": 1,
       "layout": "IPY_MODEL_07577d38920e4b74848ee7c8ccf0b96f",
       "style": "IPY_MODEL_1d36c22afe18416d8f50368297e3c295"
      }
     },
     "d4606317ac8e4d44bf2e9f94320fea4b": {
      "model_module": "@jupyter-widgets/controls",
      "model_module_version": "1.5.0",
      "model_name": "SliderStyleModel",
      "state": {
       "description_width": ""
      }
     },
     "d58721544a414f969dfbe01057d082f7": {
      "model_module": "@jupyter-widgets/base",
      "model_module_version": "1.2.0",
      "model_name": "LayoutModel",
      "state": {}
     },
     "d6dba8ba0069440884e1f11466755cab": {
      "model_module": "@jupyter-widgets/base",
      "model_module_version": "1.2.0",
      "model_name": "LayoutModel",
      "state": {}
     },
     "d6e81351f7b84c56b71b6592fab89bc9": {
      "model_module": "@jupyter-widgets/base",
      "model_module_version": "1.2.0",
      "model_name": "LayoutModel",
      "state": {}
     },
     "d70fa88158d1477b9a5a83d6aa2fa7e7": {
      "model_module": "@jupyter-widgets/controls",
      "model_module_version": "1.5.0",
      "model_name": "DescriptionStyleModel",
      "state": {
       "description_width": "initial"
      }
     },
     "d74de8730166467d89e4a03887cc6438": {
      "model_module": "@jupyter-widgets/base",
      "model_module_version": "1.2.0",
      "model_name": "LayoutModel",
      "state": {}
     },
     "d755c93d9a2a47d7a3cde5148ef544a9": {
      "model_module": "@jupyter-widgets/controls",
      "model_module_version": "1.5.0",
      "model_name": "VBoxModel",
      "state": {
       "children": [
        "IPY_MODEL_a2ff51f9fc2347619ba649a7d09b9584",
        "IPY_MODEL_8dd3dacf98004f2d83b91b9039e9c8b8"
       ],
       "layout": "IPY_MODEL_a49c1f4d77dd4d9a8d17c9cbf6f617a1"
      }
     },
     "d757b352bd424895a516c24211d3946d": {
      "model_module": "@jupyter-widgets/base",
      "model_module_version": "1.2.0",
      "model_name": "LayoutModel",
      "state": {
       "grid_area": "pathlist",
       "width": "auto"
      }
     },
     "d75e3c5dfdf9416a909ddb3c3db30d57": {
      "model_module": "@jupyter-widgets/controls",
      "model_module_version": "1.5.0",
      "model_name": "VBoxModel",
      "state": {
       "children": [
        "IPY_MODEL_710eccfa6d054a9b8557f04714188375",
        "IPY_MODEL_9918ffcf61f346afa0df2be03be1fb8c"
       ],
       "layout": "IPY_MODEL_8bdd30a2871c439b82a81ac524c58d63"
      }
     },
     "d792f6b74ea84fa5b54df887cd0ba6de": {
      "model_module": "@jupyter-widgets/controls",
      "model_module_version": "1.5.0",
      "model_name": "DescriptionStyleModel",
      "state": {
       "description_width": ""
      }
     },
     "d7acd5a42b5c4347b57bf28fb27460c7": {
      "model_module": "@jupyter-widgets/base",
      "model_module_version": "1.2.0",
      "model_name": "LayoutModel",
      "state": {}
     },
     "d7b37aae6de547a7acf9cd3b0f578bcf": {
      "model_module": "@jupyter-widgets/controls",
      "model_module_version": "1.5.0",
      "model_name": "DescriptionStyleModel",
      "state": {
       "description_width": "initial"
      }
     },
     "d80f7ce5a5b8438ba9fc396a6317ea99": {
      "model_module": "@jupyter-widgets/controls",
      "model_module_version": "1.5.0",
      "model_name": "DescriptionStyleModel",
      "state": {
       "description_width": ""
      }
     },
     "d84ca572a52d40c6bc7377453468f6eb": {
      "model_module": "@jupyter-widgets/controls",
      "model_module_version": "1.5.0",
      "model_name": "DescriptionStyleModel",
      "state": {
       "description_width": ""
      }
     },
     "d932dfb55d9e4abe813995e6e8c3cc77": {
      "model_module": "@jupyter-widgets/controls",
      "model_module_version": "1.5.0",
      "model_name": "ButtonModel",
      "state": {
       "description": "Cancel",
       "layout": "IPY_MODEL_1eb453ddc86144bc8fb0466adad6e88b",
       "style": "IPY_MODEL_0fecc21aabab46c79b9e5d01dd5e361b"
      }
     },
     "d9d260ff68c1485ca5c72ef9adf0be7d": {
      "model_module": "@jupyter-widgets/controls",
      "model_module_version": "1.5.0",
      "model_name": "SliderStyleModel",
      "state": {
       "description_width": ""
      }
     },
     "d9dadab6ac2f4c59bb14a5b714fc33f7": {
      "model_module": "@jupyter-widgets/controls",
      "model_module_version": "1.5.0",
      "model_name": "DescriptionStyleModel",
      "state": {
       "description_width": ""
      }
     },
     "daabea7a15a44094ad10588dab087060": {
      "model_module": "@jupyter-widgets/controls",
      "model_module_version": "1.5.0",
      "model_name": "VBoxModel",
      "state": {
       "children": [
        "IPY_MODEL_df114de513994362bed0f9026608b716",
        "IPY_MODEL_a8c7e2c0d5e9464887bd27a6e03de211"
       ],
       "layout": "IPY_MODEL_2cd8ae021f07472ea18bfcc335ddb3ca"
      }
     },
     "dae01effedc44adfa7e21041ddb61935": {
      "model_module": "@jupyter-widgets/output",
      "model_module_version": "1.0.0",
      "model_name": "OutputModel",
      "state": {
       "layout": "IPY_MODEL_953fe7aa815b40ef8546fec12d82b42b",
       "outputs": [
        {
         "data": {
          "image/png": "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\n",
          "text/plain": "<Figure size 720x720 with 1 Axes>"
         },
         "metadata": {
          "needs_background": "light"
         },
         "output_type": "display_data"
        }
       ]
      }
     },
     "db5111b6abcd4ec6a345cce5f289ffb1": {
      "model_module": "@jupyter-widgets/controls",
      "model_module_version": "1.5.0",
      "model_name": "IntSliderModel",
      "state": {
       "continuous_update": false,
       "description": "Line Gap",
       "layout": "IPY_MODEL_b622cc8f3b6943abbf3bb5389392b8b7",
       "min": 1,
       "style": "IPY_MODEL_e3f0c41bc181493593789eb73da25fda",
       "value": 1
      }
     },
     "dbed1a00d19b47f988b80af0bc88c53e": {
      "model_module": "@jupyter-widgets/controls",
      "model_module_version": "1.5.0",
      "model_name": "VBoxModel",
      "state": {
       "children": [
        "IPY_MODEL_14cc689d2e5b47738ff5676fb91556be",
        "IPY_MODEL_c8224e85ac6842ea8f82751ce8a8c464"
       ],
       "layout": "IPY_MODEL_7159d64a7e3b42979e82c784212211db"
      }
     },
     "dc78696d976e4c2d8eb2057f3fca58a5": {
      "model_module": "@jupyter-widgets/base",
      "model_module_version": "1.2.0",
      "model_name": "LayoutModel",
      "state": {}
     },
     "dc79ecd871994791b7794937d7bde9fd": {
      "model_module": "@jupyter-widgets/controls",
      "model_module_version": "1.5.0",
      "model_name": "SliderStyleModel",
      "state": {
       "description_width": "initial"
      }
     },
     "dc9527cadef6434f8b72b2efda9ce851": {
      "model_module": "@jupyter-widgets/controls",
      "model_module_version": "1.5.0",
      "model_name": "DescriptionStyleModel",
      "state": {
       "description_width": ""
      }
     },
     "ddd9f50be2814c03acaf3d1fce745216": {
      "model_module": "@jupyter-widgets/base",
      "model_module_version": "1.2.0",
      "model_name": "LayoutModel",
      "state": {}
     },
     "de1b6e5153424d869768cadbb8883780": {
      "model_module": "@jupyter-widgets/controls",
      "model_module_version": "1.5.0",
      "model_name": "VBoxModel",
      "state": {
       "children": [
        "IPY_MODEL_cc5a9db7020c4842be7dcf7dab211d23",
        "IPY_MODEL_56d2409d82b74861b22fb40fa2394e5a"
       ],
       "layout": "IPY_MODEL_17691012141540668250d59fcc4f7e92"
      }
     },
     "deff2ef574b741afaa9c45b097fdec9b": {
      "model_module": "@jupyter-widgets/controls",
      "model_module_version": "1.5.0",
      "model_name": "DescriptionStyleModel",
      "state": {
       "description_width": "initial"
      }
     },
     "df114de513994362bed0f9026608b716": {
      "model_module": "@jupyter-widgets/controls",
      "model_module_version": "1.5.0",
      "model_name": "VBoxModel",
      "state": {
       "children": [
        "IPY_MODEL_e7a135a2f4184bd68de18b6ee36b895f",
        "IPY_MODEL_a5eaa893c8274dd49c90433028803299"
       ],
       "layout": "IPY_MODEL_f5ca6b46d7a641e1b7e609a24cb3656d"
      }
     },
     "e016bae93811469086bb68b7b68c5208": {
      "model_module": "@jupyter-widgets/controls",
      "model_module_version": "1.5.0",
      "model_name": "SliderStyleModel",
      "state": {
       "description_width": ""
      }
     },
     "e0ea3c326b57458586afc025311981f2": {
      "model_module": "@jupyter-widgets/base",
      "model_module_version": "1.2.0",
      "model_name": "LayoutModel",
      "state": {}
     },
     "e192f7b1eb804a5a86891b750a5553ae": {
      "model_module": "@jupyter-widgets/base",
      "model_module_version": "1.2.0",
      "model_name": "LayoutModel",
      "state": {}
     },
     "e286b85f77304537af5eb67be571f434": {
      "model_module": "@jupyter-widgets/controls",
      "model_module_version": "1.5.0",
      "model_name": "SliderStyleModel",
      "state": {
       "description_width": ""
      }
     },
     "e2f4e5aea6e948e38da3ffd2b6413818": {
      "model_module": "@jupyter-widgets/controls",
      "model_module_version": "1.5.0",
      "model_name": "DescriptionStyleModel",
      "state": {
       "description_width": ""
      }
     },
     "e300557d23cc4779a06b2e8074126aa1": {
      "model_module": "@jupyter-widgets/controls",
      "model_module_version": "1.5.0",
      "model_name": "GridBoxModel",
      "state": {
       "children": [
        "IPY_MODEL_7037b25e61e24fbca7d7d34ec60af69a",
        "IPY_MODEL_102ed7b452344501be08d94e911435f1",
        "IPY_MODEL_bf865bac458f4f2682960e8ed651e26b"
       ],
       "layout": "IPY_MODEL_f3a852ad3d1543028f669514008727b9"
      }
     },
     "e397de08f7df405c989768369b57eae7": {
      "model_module": "@jupyter-widgets/controls",
      "model_module_version": "1.5.0",
      "model_name": "ButtonStyleModel",
      "state": {}
     },
     "e3caa57987534b6293913b30d50d5caf": {
      "model_module": "@jupyter-widgets/base",
      "model_module_version": "1.2.0",
      "model_name": "LayoutModel",
      "state": {
       "width": "auto"
      }
     },
     "e3f0c41bc181493593789eb73da25fda": {
      "model_module": "@jupyter-widgets/controls",
      "model_module_version": "1.5.0",
      "model_name": "SliderStyleModel",
      "state": {
       "description_width": ""
      }
     },
     "e456d2329bff4df2ac3ee239967e54ee": {
      "model_module": "@jupyter-widgets/controls",
      "model_module_version": "1.5.0",
      "model_name": "SliderStyleModel",
      "state": {
       "description_width": "initial"
      }
     },
     "e4810eab2cda4c868352517d15a2ab97": {
      "model_module": "@jupyter-widgets/controls",
      "model_module_version": "1.5.0",
      "model_name": "FloatSliderModel",
      "state": {
       "continuous_update": false,
       "description": "Northing",
       "layout": "IPY_MODEL_70708e7b8c5445d5987f16e6a314783e",
       "max": 6076443.652111261,
       "min": 6065091.787108775,
       "orientation": "vertical",
       "step": 0.1,
       "style": "IPY_MODEL_9fe5b41415fb412aa655973a5bbed4a3",
       "value": 6070767.719610019
      }
     },
     "e495303420714827a592bd9da745d9e7": {
      "model_module": "@jupyter-widgets/base",
      "model_module_version": "1.2.0",
      "model_name": "LayoutModel",
      "state": {
       "grid_area": "pathlist",
       "width": "auto"
      }
     },
     "e6d5ed9806754ecfbdd4d11a734a220b": {
      "model_module": "@jupyter-widgets/base",
      "model_module_version": "1.2.0",
      "model_name": "LayoutModel",
      "state": {}
     },
     "e7981efd47cb4ab2b5b20ed041512885": {
      "model_module": "@jupyter-widgets/output",
      "model_module_version": "1.0.0",
      "model_name": "OutputModel",
      "state": {
       "layout": "IPY_MODEL_125bc31421eb4712a0bf7e45d6fcf8a0",
       "outputs": [
        {
         "data": {
          "image/png": "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\n",
          "text/plain": "<Figure size 720x720 with 1 Axes>"
         },
         "metadata": {
          "needs_background": "light"
         },
         "output_type": "display_data"
        }
       ]
      }
     },
     "e7a135a2f4184bd68de18b6ee36b895f": {
      "model_module": "@jupyter-widgets/controls",
      "model_module_version": "1.5.0",
      "model_name": "DropdownModel",
      "state": {
       "_options_labels": [
        "",
        "Gravity_Magnetics_drape60m"
       ],
       "description": "Object:",
       "index": 1,
       "layout": "IPY_MODEL_aaec99ac82b1451a8a8737a18a1ddd0a",
       "style": "IPY_MODEL_aefef50c16294e4b8d22f945089e7f92"
      }
     },
     "e7bf9516ae034045a872c80f50b56d53": {
      "model_module": "@jupyter-widgets/base",
      "model_module_version": "1.2.0",
      "model_name": "LayoutModel",
      "state": {}
     },
     "e814f5e4030c4c2fba0a309d1f6247ac": {
      "model_module": "@jupyter-widgets/controls",
      "model_module_version": "1.5.0",
      "model_name": "DropdownModel",
      "state": {
       "_options_labels": [
        "C:\\Users\\dominiquef\\Documents\\GIT\\mira\\mirageoscience-apps\\assets",
        "C:\\Users\\dominiquef\\Documents\\GIT\\mira\\mirageoscience-apps",
        "C:\\Users\\dominiquef\\Documents\\GIT\\mira",
        "C:\\Users\\dominiquef\\Documents\\GIT",
        "C:\\Users\\dominiquef\\Documents",
        "C:\\Users\\dominiquef",
        "C:\\Users",
        "C:\\",
        "D:\\",
        "Z:\\"
       ],
       "index": 0,
       "layout": "IPY_MODEL_e8c117445f594c19a35c87d4bb954ab4",
       "style": "IPY_MODEL_378f80e2b9fd4ffaab079995bb0cf192"
      }
     },
     "e8c117445f594c19a35c87d4bb954ab4": {
      "model_module": "@jupyter-widgets/base",
      "model_module_version": "1.2.0",
      "model_name": "LayoutModel",
      "state": {
       "grid_area": "pathlist",
       "width": "auto"
      }
     },
     "e9327e29ca32456eaa54038262df9379": {
      "model_module": "@jupyter-widgets/controls",
      "model_module_version": "1.5.0",
      "model_name": "DescriptionStyleModel",
      "state": {
       "description_width": ""
      }
     },
     "e9910621852543cb8940b3578e6f85ef": {
      "model_module": "@jupyter-widgets/base",
      "model_module_version": "1.2.0",
      "model_name": "LayoutModel",
      "state": {
       "width": "auto"
      }
     },
     "ead393251b4e46e5a6a1a807b55dea2c": {
      "model_module": "@jupyter-widgets/base",
      "model_module_version": "1.2.0",
      "model_name": "LayoutModel",
      "state": {}
     },
     "eb7d510f8c6c4823a1f267f4ac303d44": {
      "model_module": "@jupyter-widgets/base",
      "model_module_version": "1.2.0",
      "model_name": "LayoutModel",
      "state": {}
     },
     "ec73e763ad574fb7a22d569e3a5552b9": {
      "model_module": "@jupyter-widgets/controls",
      "model_module_version": "1.5.0",
      "model_name": "TextModel",
      "state": {
       "description": "Save as:",
       "layout": "IPY_MODEL_bb03a23e67f945bb963b52c45f0e4be7",
       "style": "IPY_MODEL_e2f4e5aea6e948e38da3ffd2b6413818",
       "value": "Airborne_Gxx"
      }
     },
     "ec9ef6a59f0641bf860c7f4fade2894f": {
      "model_module": "@jupyter-widgets/base",
      "model_module_version": "1.2.0",
      "model_name": "LayoutModel",
      "state": {}
     },
     "ed0c444459c64d0da7770c6695d093b2": {
      "model_module": "@jupyter-widgets/controls",
      "model_module_version": "1.5.0",
      "model_name": "ButtonModel",
      "state": {
       "description": "Select",
       "layout": "IPY_MODEL_040a7dbc40c9473eb3751364ece8dc71",
       "style": "IPY_MODEL_4da9f670235f4a8aa36700102bc04e15"
      }
     },
     "edb8cc7febf645baa3b2e3826403e2ba": {
      "model_module": "@jupyter-widgets/controls",
      "model_module_version": "1.5.0",
      "model_name": "FloatSliderModel",
      "state": {
       "continuous_update": false,
       "description": "Height",
       "layout": "IPY_MODEL_65a0dc5527fb4ccda707fe3e437a156c",
       "max": 11351.865002485923,
       "orientation": "vertical",
       "step": 0.1,
       "style": "IPY_MODEL_cc3af091e78940418246b0114a802ae2",
       "value": 5675.932501242962
      }
     },
     "edd5b66e49a34875a6ae4f7a02a54f05": {
      "model_module": "@jupyter-widgets/base",
      "model_module_version": "1.2.0",
      "model_name": "LayoutModel",
      "state": {
       "grid_area": "dircontent",
       "width": "auto"
      }
     },
     "edee57cfa348469b928d49f6cb83ce87": {
      "model_module": "@jupyter-widgets/controls",
      "model_module_version": "1.5.0",
      "model_name": "DescriptionStyleModel",
      "state": {
       "description_width": ""
      }
     },
     "ee9b2d752a1d464b9d739a7951713e27": {
      "model_module": "@jupyter-widgets/controls",
      "model_module_version": "1.5.0",
      "model_name": "DescriptionStyleModel",
      "state": {
       "description_width": ""
      }
     },
     "eed837fb05c3463fa62106f9db4e8389": {
      "model_module": "@jupyter-widgets/controls",
      "model_module_version": "1.5.0",
      "model_name": "DropdownModel",
      "state": {
       "_options_labels": [
        "",
        "--- Channels ---",
        "Airborne_Gxx",
        "Airborne_Gxy",
        "Airborne_Gxz",
        "Airborne_Gyy",
        "Airborne_Gyz",
        "Airborne_Gz",
        "Airborne_Gzz",
        "Airborne_TMI",
        "Ground_Gz",
        "Z"
       ],
       "description": "Data: ",
       "index": 2,
       "layout": "IPY_MODEL_f604b9bdabc14f85b4f452e0ca731713",
       "style": "IPY_MODEL_19584b7ba4344623844d278920c2c442"
      }
     },
     "eefbd6f354e840e3bf99f521c9e760c4": {
      "model_module": "@jupyter-widgets/base",
      "model_module_version": "1.2.0",
      "model_name": "LayoutModel",
      "state": {}
     },
     "ef916494ed49407e8ea6a669d1fcb70b": {
      "model_module": "@jupyter-widgets/controls",
      "model_module_version": "1.5.0",
      "model_name": "IntSliderModel",
      "state": {
       "continuous_update": false,
       "description": "Line Length",
       "layout": "IPY_MODEL_2d49c7eb75924426875d16596836b525",
       "min": 1,
       "style": "IPY_MODEL_425a6adbdabe43fc91c6c9a6ca7ecd84",
       "value": 1
      }
     },
     "ef985744930341ee9a6758bdbcab65ba": {
      "model_module": "@jupyter-widgets/controls",
      "model_module_version": "1.5.0",
      "model_name": "DescriptionStyleModel",
      "state": {
       "description_width": ""
      }
     },
     "f08303451564433bb86e9cc0e4009a90": {
      "model_module": "@jupyter-widgets/base",
      "model_module_version": "1.2.0",
      "model_name": "LayoutModel",
      "state": {
       "width": "auto"
      }
     },
     "f18a6c0a86b647b486d7fb6594d7bf5c": {
      "model_module": "@jupyter-widgets/base",
      "model_module_version": "1.2.0",
      "model_name": "LayoutModel",
      "state": {}
     },
     "f19cabc5f4b048199d7a1f19a199f740": {
      "model_module": "@jupyter-widgets/controls",
      "model_module_version": "1.5.0",
      "model_name": "DescriptionStyleModel",
      "state": {
       "description_width": ""
      }
     },
     "f1b39a1d65f74c7e8e19ca6e824deb8b": {
      "model_module": "@jupyter-widgets/controls",
      "model_module_version": "1.5.0",
      "model_name": "FloatSliderModel",
      "state": {
       "continuous_update": false,
       "description": "Easting",
       "layout": "IPY_MODEL_f6d5fdc17638476bbf43feb40bba4ea1",
       "max": 319234.2051362576,
       "min": 311898.69919769425,
       "step": 0.1,
       "style": "IPY_MODEL_3586da831573414a8878118b0c10c5ab",
       "value": 315566.45216697594
      }
     },
     "f1bb8702dcae4e378abf5a5e1bd50435": {
      "model_module": "@jupyter-widgets/controls",
      "model_module_version": "1.5.0",
      "model_name": "HBoxModel",
      "state": {
       "children": [
        "IPY_MODEL_fbddfa8814c8450baa68791801a77fe5",
        "IPY_MODEL_9e3de192a96e49bd9c17f185df34d3f9",
        "IPY_MODEL_62fff458e7784d66af214c6c89240559"
       ],
       "layout": "IPY_MODEL_cd6268291deb4d859eab6c3d85f4aa00"
      }
     },
     "f1ffdc2720714995b6cbc2ae6f7dde52": {
      "model_module": "@jupyter-widgets/controls",
      "model_module_version": "1.5.0",
      "model_name": "ButtonStyleModel",
      "state": {}
     },
     "f20090345a29459ab90122ef794e08fc": {
      "model_module": "@jupyter-widgets/base",
      "model_module_version": "1.2.0",
      "model_name": "LayoutModel",
      "state": {}
     },
     "f263e97b91284d88a8d355c58c7bd862": {
      "model_module": "@jupyter-widgets/controls",
      "model_module_version": "1.5.0",
      "model_name": "FloatSliderModel",
      "state": {
       "continuous_update": false,
       "description": "Northing",
       "layout": "IPY_MODEL_ff6bb82a18a744b082d46e8bbeae95d1",
       "max": 6076443.652111261,
       "min": 6065091.787108775,
       "orientation": "vertical",
       "step": 0.1,
       "style": "IPY_MODEL_96b8ec13e71e4e99ba5f21fbd4758e8b",
       "value": 6070767.719610019
      }
     },
     "f27b86d1fb75478ab89b2599f8b4b855": {
      "model_module": "@jupyter-widgets/base",
      "model_module_version": "1.2.0",
      "model_name": "LayoutModel",
      "state": {}
     },
     "f28ee5ed28e04150b9ddc7cbd06b9344": {
      "model_module": "@jupyter-widgets/controls",
      "model_module_version": "1.5.0",
      "model_name": "ButtonStyleModel",
      "state": {}
     },
     "f2cfb66885f74bf7a403b798ecfaf766": {
      "model_module": "@jupyter-widgets/controls",
      "model_module_version": "1.5.0",
      "model_name": "HTMLModel",
      "state": {
       "layout": "IPY_MODEL_afcaa928f3c8464e9ea8d2465ec74574",
       "style": "IPY_MODEL_6c84a8ab4a5340e6a904125ce03a47dd"
      }
     },
     "f384294302fd4a5ebc76a2e82deb2c23": {
      "model_module": "@jupyter-widgets/controls",
      "model_module_version": "1.5.0",
      "model_name": "TextModel",
      "state": {
       "continuous_update": false,
       "description": "Group:",
       "layout": "IPY_MODEL_71c87c4fe1db4325a8caf30f317a2d15",
       "style": "IPY_MODEL_deff2ef574b741afaa9c45b097fdec9b",
       "value": "Edges"
      }
     },
     "f3a852ad3d1543028f669514008727b9": {
      "model_module": "@jupyter-widgets/base",
      "model_module_version": "1.2.0",
      "model_name": "LayoutModel",
      "state": {
       "display": "none",
       "grid_gap": "0px 0px",
       "grid_template_areas": "\n                    'pathlist pathlist'\n                    'dircontent dircontent'\n                    ",
       "grid_template_columns": "60% 40%",
       "grid_template_rows": "auto auto",
       "width": "500px"
      }
     },
     "f3f3efa0d36c414494a0881c5914bea4": {
      "model_module": "@jupyter-widgets/base",
      "model_module_version": "1.2.0",
      "model_name": "LayoutModel",
      "state": {}
     },
     "f4311545ba7a42169d02179d276d709b": {
      "model_module": "@jupyter-widgets/base",
      "model_module_version": "1.2.0",
      "model_name": "LayoutModel",
      "state": {}
     },
     "f438441fa15540aa95fdbd08b7a7ed42": {
      "model_module": "@jupyter-widgets/controls",
      "model_module_version": "1.5.0",
      "model_name": "DescriptionStyleModel",
      "state": {
       "description_width": ""
      }
     },
     "f4660a9ac7b74a498a64e1fce9d04932": {
      "model_module": "@jupyter-widgets/base",
      "model_module_version": "1.2.0",
      "model_name": "LayoutModel",
      "state": {}
     },
     "f490dccb9bb34455be163d70d03d07a0": {
      "model_module": "@jupyter-widgets/controls",
      "model_module_version": "1.5.0",
      "model_name": "DescriptionStyleModel",
      "state": {
       "description_width": ""
      }
     },
     "f4f34fa6a1bf49c9869d2950d03f6c87": {
      "model_module": "@jupyter-widgets/base",
      "model_module_version": "1.2.0",
      "model_name": "LayoutModel",
      "state": {}
     },
     "f53910fbc1da49aab471772e41d86fac": {
      "model_module": "@jupyter-widgets/base",
      "model_module_version": "1.2.0",
      "model_name": "LayoutModel",
      "state": {
       "width": "auto"
      }
     },
     "f5ca6b46d7a641e1b7e609a24cb3656d": {
      "model_module": "@jupyter-widgets/base",
      "model_module_version": "1.2.0",
      "model_name": "LayoutModel",
      "state": {}
     },
     "f604b9bdabc14f85b4f452e0ca731713": {
      "model_module": "@jupyter-widgets/base",
      "model_module_version": "1.2.0",
      "model_name": "LayoutModel",
      "state": {}
     },
     "f624d11bc40f4094a47a9f927560f816": {
      "model_module": "@jupyter-widgets/base",
      "model_module_version": "1.2.0",
      "model_name": "LayoutModel",
      "state": {
       "grid_area": "dircontent",
       "width": "auto"
      }
     },
     "f677e1ef6bf44722808739db10cbc3e5": {
      "model_module": "@jupyter-widgets/controls",
      "model_module_version": "1.5.0",
      "model_name": "LabelModel",
      "state": {
       "layout": "IPY_MODEL_f18a6c0a86b647b486d7fb6594d7bf5c",
       "style": "IPY_MODEL_8a4bbfef79dd460b96ad38dcf1088fc2",
       "value": "Monitoring folder"
      }
     },
     "f6bdecbe9a6a4f0c97422b185d47ac8d": {
      "model_module": "@jupyter-widgets/controls",
      "model_module_version": "1.5.0",
      "model_name": "TextModel",
      "state": {
       "continuous_update": false,
       "description": "Contours",
       "layout": "IPY_MODEL_c7d193a16a404c32b2c4f6865d150ab6",
       "style": "IPY_MODEL_8489c6d00a554fea857db81427ebcae6"
      }
     },
     "f6d5fdc17638476bbf43feb40bba4ea1": {
      "model_module": "@jupyter-widgets/base",
      "model_module_version": "1.2.0",
      "model_name": "LayoutModel",
      "state": {}
     },
     "f739ead9de3846c7a0ba732054e8d8d9": {
      "model_module": "@jupyter-widgets/controls",
      "model_module_version": "1.5.0",
      "model_name": "SliderStyleModel",
      "state": {
       "description_width": ""
      }
     },
     "f795d3bd45b24b24a26ff86690a1122e": {
      "model_module": "@jupyter-widgets/controls",
      "model_module_version": "1.5.0",
      "model_name": "GridBoxModel",
      "state": {
       "children": [
        "IPY_MODEL_cbe7eafbcf42446689fce72a35597be7",
        "IPY_MODEL_15c72386d44b40619e46216cf57f848c",
        "IPY_MODEL_2619abf9218c4d5c8564b8bbdbb73c9c"
       ],
       "layout": "IPY_MODEL_b6207e84bb0c475cb538483fb6e422ef"
      }
     },
     "f80a0316689a4fac93125d76f9ae59f0": {
      "model_module": "@jupyter-widgets/controls",
      "model_module_version": "1.5.0",
      "model_name": "TextModel",
      "state": {
       "layout": "IPY_MODEL_64de0fa927d341ba83fca4b67d0248ed",
       "placeholder": "output filename",
       "style": "IPY_MODEL_1cfcedb2b006437495e8c360fe3bc77b",
       "value": "FlinFlon.geoh5"
      }
     },
     "f832407f84a14221bdcd32165c5999af": {
      "model_module": "@jupyter-widgets/controls",
      "model_module_version": "1.5.0",
      "model_name": "FloatSliderModel",
      "state": {
       "continuous_update": false,
       "description": "Easting",
       "layout": "IPY_MODEL_b7b0e662a02f480eb148f94dd44d8d23",
       "max": 319234.2051362576,
       "min": 311898.69919769425,
       "step": 0.1,
       "style": "IPY_MODEL_9bdc96e6a1d74b61a61148d09ee037e5",
       "value": 315566.45216697594
      }
     },
     "f88583bd52f549a4acb5fe88ef891dbf": {
      "model_module": "@jupyter-widgets/controls",
      "model_module_version": "1.5.0",
      "model_name": "VBoxModel",
      "state": {
       "children": [
        "IPY_MODEL_dbed1a00d19b47f988b80af0bc88c53e",
        "IPY_MODEL_6303cfb4dfd942a7bfc50e71265a6895"
       ],
       "layout": "IPY_MODEL_cafdc936b53f4901a4f5e21eb7d64456"
      }
     },
     "f8f4cee6191f4529bea00c53ea5659b1": {
      "model_module": "@jupyter-widgets/controls",
      "model_module_version": "1.5.0",
      "model_name": "FloatSliderModel",
      "state": {
       "continuous_update": false,
       "description": "Easting",
       "layout": "IPY_MODEL_1fae014501244411bcc6bbd89a1579bd",
       "max": 319234.2051362576,
       "min": 311898.69919769425,
       "step": 0.1,
       "style": "IPY_MODEL_886b597baa3d492a9323b7dfef070a70",
       "value": 315566.45216697594
      }
     },
     "f9287ac52d7a4ab3b5c4b42fec825486": {
      "model_module": "@jupyter-widgets/base",
      "model_module_version": "1.2.0",
      "model_name": "LayoutModel",
      "state": {}
     },
     "f9ad95744302432c9b7e72ca7214210e": {
      "model_module": "@jupyter-widgets/controls",
      "model_module_version": "1.5.0",
      "model_name": "DescriptionStyleModel",
      "state": {
       "description_width": "initial"
      }
     },
     "fa057d2cfd0f4eca8da4efc2432ff42b": {
      "model_module": "@jupyter-widgets/controls",
      "model_module_version": "1.5.0",
      "model_name": "DescriptionStyleModel",
      "state": {
       "description_width": "initial"
      }
     },
     "fad30cbef14c44948bbd46a15ed605a7": {
      "model_module": "@jupyter-widgets/controls",
      "model_module_version": "1.5.0",
      "model_name": "DescriptionStyleModel",
      "state": {
       "description_width": "initial"
      }
     },
     "fb2a35ca4ccd46b59c7b42a007bf1e37": {
      "model_module": "@jupyter-widgets/controls",
      "model_module_version": "1.5.0",
      "model_name": "FloatSliderModel",
      "state": {
       "continuous_update": false,
       "description": "Northing",
       "layout": "IPY_MODEL_3d480bcb33944a2e8421c42cb992db5c",
       "max": 6076443.652111261,
       "min": 6065091.787108775,
       "orientation": "vertical",
       "step": 0.1,
       "style": "IPY_MODEL_3fc9f314379d4335bfae77891f8fc76a",
       "value": 6070767.719610019
      }
     },
     "fb7fcc25bd464209a461f4ed7f2b4f93": {
      "model_module": "@jupyter-widgets/base",
      "model_module_version": "1.2.0",
      "model_name": "LayoutModel",
      "state": {
       "width": "auto"
      }
     },
     "fb9ab73e01a4404f9013e0b7c2916b55": {
      "model_module": "@jupyter-widgets/controls",
      "model_module_version": "1.5.0",
      "model_name": "VBoxModel",
      "state": {
       "children": [
        "IPY_MODEL_bc0604c6e30544508e083edfd06372c8",
        "IPY_MODEL_f8f4cee6191f4529bea00c53ea5659b1",
        "IPY_MODEL_dae01effedc44adfa7e21041ddb61935",
        "IPY_MODEL_ac5623e6a2564783a0c85d6f44a563fe",
        "IPY_MODEL_727cb387c65448c3b5b4402a7a162d97"
       ],
       "layout": "IPY_MODEL_ab5a040e01b14d75b629c5f975ec83d1"
      }
     },
     "fbddfa8814c8450baa68791801a77fe5": {
      "model_module": "@jupyter-widgets/controls",
      "model_module_version": "1.5.0",
      "model_name": "ButtonModel",
      "state": {
       "description": "Select",
       "layout": "IPY_MODEL_9952a28d7c3c4a839e88fc6760a86f84",
       "style": "IPY_MODEL_bb8b86d54a5e4c6688a089aed50f018c"
      }
     },
     "fc3e24189da34b7082768518d3d80a24": {
      "model_module": "@jupyter-widgets/controls",
      "model_module_version": "1.5.0",
      "model_name": "ButtonStyleModel",
      "state": {}
     },
     "fc6eda2ca53542dfb3c1097733cf3199": {
      "model_module": "@jupyter-widgets/base",
      "model_module_version": "1.2.0",
      "model_name": "LayoutModel",
      "state": {}
     },
     "fce92da3c4a2465c990e4a85ce289ceb": {
      "model_module": "@jupyter-widgets/controls",
      "model_module_version": "1.5.0",
      "model_name": "SliderStyleModel",
      "state": {
       "description_width": ""
      }
     },
     "fd3a7ec8526f406682cb6cf4f091219a": {
      "model_module": "@jupyter-widgets/controls",
      "model_module_version": "1.5.0",
      "model_name": "GridBoxModel",
      "state": {
       "children": [
        "IPY_MODEL_e814f5e4030c4c2fba0a309d1f6247ac",
        "IPY_MODEL_276f6764365d46859ccfab58d25f3c1b",
        "IPY_MODEL_2a741800d62344be9fb0f69adaf23718"
       ],
       "layout": "IPY_MODEL_2566a8e8b73b4551a242e836a1a2f691"
      }
     },
     "fd890da2b0a047efb78c7c333f1a28b9": {
      "model_module": "@jupyter-widgets/base",
      "model_module_version": "1.2.0",
      "model_name": "LayoutModel",
      "state": {}
     },
     "fdf7636c8217423d8463b57ef0e5d6a6": {
      "model_module": "@jupyter-widgets/controls",
      "model_module_version": "1.5.0",
      "model_name": "VBoxModel",
      "state": {
       "children": [
        "IPY_MODEL_3322953cebe846ffb305c6bcdf82085a",
        "IPY_MODEL_64579ddc012a4bffb6c51d087fe8d819",
        "IPY_MODEL_c9044c8366d843339f67dde485f291eb",
        "IPY_MODEL_db5111b6abcd4ec6a345cce5f289ffb1",
        "IPY_MODEL_9e232d66da6f4c93b2c36c75f72dacb0",
        "IPY_MODEL_0544e56c7b1d496c8c214fa418e259bf",
        "IPY_MODEL_ec73e763ad574fb7a22d569e3a5552b9",
        "IPY_MODEL_a1b97762825f402995cb116e0ce4b879"
       ],
       "layout": "IPY_MODEL_930207c65cb94e98b90cfe430f62a326"
      }
     },
     "fe0374aea3214a4a864e7e78886bc8b9": {
      "model_module": "@jupyter-widgets/controls",
      "model_module_version": "1.5.0",
      "model_name": "DescriptionStyleModel",
      "state": {
       "description_width": ""
      }
     },
     "fe6ae07f958a461b8a6734cf2224720d": {
      "model_module": "@jupyter-widgets/controls",
      "model_module_version": "1.5.0",
      "model_name": "FloatTextModel",
      "state": {
       "description": "Grid Resolution (m)",
       "layout": "IPY_MODEL_466638c48bc94910b5263a12d3c23edf",
       "step": null,
       "style": "IPY_MODEL_6b70fbd53c7547d18a33902ce16a2e66",
       "value": 50
      }
     },
     "ff6bb82a18a744b082d46e8bbeae95d1": {
      "model_module": "@jupyter-widgets/base",
      "model_module_version": "1.2.0",
      "model_name": "LayoutModel",
      "state": {}
     },
     "ff86f9ba3bea4ab7b96e7266aabb81af": {
      "model_module": "@jupyter-widgets/controls",
      "model_module_version": "1.5.0",
      "model_name": "VBoxModel",
      "state": {
       "children": [
        "IPY_MODEL_61ed1a6e1797404eb087006c02309496"
       ],
       "layout": "IPY_MODEL_508e06eb28fe4c08b2d4aeac7edbc3c3"
      }
     },
     "ffa8c3f62c704d47b0be5a6f08023527": {
      "model_module": "@jupyter-widgets/controls",
      "model_module_version": "1.5.0",
      "model_name": "HTMLModel",
      "state": {
       "layout": "IPY_MODEL_b26ed8bd419044bb8303f3a12ef4717e",
       "style": "IPY_MODEL_d84ca572a52d40c6bc7377453468f6eb"
      }
     }
    },
    "version_major": 2,
    "version_minor": 0
   }
  }
 },
 "nbformat": 4,
 "nbformat_minor": 4
}

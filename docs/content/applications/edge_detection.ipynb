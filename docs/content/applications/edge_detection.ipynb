version https://git-lfs.github.com/spec/v1
oid sha256:09e5743f9fce33907ef327f45d4c8b29c7c4f82f92d65cd3693a31998dc04742
size 240103

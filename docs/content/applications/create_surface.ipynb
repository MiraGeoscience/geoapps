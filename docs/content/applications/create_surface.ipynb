version https://git-lfs.github.com/spec/v1
oid sha256:cea5ab7229cdbc5b61eaddb1fee68998aae16fda99a4e166e4c013d0fd8fb2a2
size 26665401

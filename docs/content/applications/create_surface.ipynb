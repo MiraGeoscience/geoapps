version https://git-lfs.github.com/spec/v1
oid sha256:f58f5dca6f5ddbd6b2caccb11ccd188ca42c08a8c34360f53733b849e16d52ea
size 22770821

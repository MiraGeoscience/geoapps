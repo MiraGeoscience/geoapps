version https://git-lfs.github.com/spec/v1
oid sha256:6b77bd274b0b17308a2ed590bba64889b71a038bd3bebced8b34e0ad3a8077ed
size 22397925

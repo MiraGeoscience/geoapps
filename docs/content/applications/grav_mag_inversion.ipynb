version https://git-lfs.github.com/spec/v1
oid sha256:a0c5dc4b3248c190c214692f87783d1e61c5120adbc3f5b2756ddcb7a4952cca
size 15168530

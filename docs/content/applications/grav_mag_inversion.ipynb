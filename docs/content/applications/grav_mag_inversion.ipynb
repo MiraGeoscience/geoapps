{
 "cells": [
  {
   "cell_type": "markdown",
   "id": "5a91974a",
   "metadata": {},
   "source": [
    "# Gravity and Magnetic 3D Inversion\n",
    "\n",
    "<img align=\"right\" width=\"300px\" src=\"./images/inversion_grav_mag_thumbnail.png\">\n",
    "\n",
    "This application provides an interface to the open-source [SimPEG](https://simpeg.xyz/) package for the inversion of gravity and magnetic data (fields and tensor components). The application handles:\n",
    "\n",
    " - Gravity inversion for the recovery of residual density (g/cc).\n",
    " - Scalar magnetic inversion (MAG) for the recovery of susceptibility (SI).\n",
    " - Vector magnetic inversion (MVI) for the recovery of 3-component magnetization (effective susceptibility and angles).\n",
    "\n",
    "All inversions are performed on a 3D octree mesh.\n",
    "\n",
    "New user? Visit the [**Getting Started**](https://geoapps.readthedocs.io/en/latest/content/installation.html) page."
   ]
  },
  {
   "cell_type": "markdown",
   "id": "unnecessary-nerve",
   "metadata": {},
   "source": [
    "## Application\n",
    "The following sections provide details on the different parameters controlling the application. Interactive widgets shown below are for demonstration purposes only."
   ]
  },
  {
   "cell_type": "code",
   "execution_count": 1,
   "id": "collect-motel",
   "metadata": {
    "scrolled": false
   },
   "outputs": [
    {
     "data": {
      "application/vnd.jupyter.widget-view+json": {
       "model_id": "04a9b6964d7b4660836c41c442b8884e",
       "version_major": 2,
       "version_minor": 0
      },
      "text/plain": [
       "VBox(children=(VBox(children=(Label(value='Workspace', style=DescriptionStyle(description_width='initial')), H…"
      ]
     },
     "metadata": {},
     "output_type": "display_data"
    }
   ],
   "source": [
    "from geoapps.inversion.potential_fields.application import InversionApp\n",
    "\n",
    "app = InversionApp(geoh5=r\"../../../assets/FlinFlon.geoh5\")\n",
    "app()"
   ]
  },
  {
   "cell_type": "markdown",
   "id": "adolescent-found",
   "metadata": {},
   "source": [
    "## Project Selection\n",
    "\n",
    "Select and connect to an existing **geoh5** project file containing data\n",
    "\n",
    "OR \n",
    "\n",
    "Select a `*.ui.json` input file to re-load parameters from. See the [Input ui.json](#Input-ui.json) section for details."
   ]
  },
  {
   "cell_type": "code",
   "execution_count": 2,
   "id": "forbidden-newark",
   "metadata": {},
   "outputs": [
    {
     "data": {
      "application/vnd.jupyter.widget-view+json": {
       "model_id": "eb78f86937a44bb899f83c312bc239fc",
       "version_major": 2,
       "version_minor": 0
      },
      "text/plain": [
       "VBox(children=(Label(value='Workspace', style=DescriptionStyle(description_width='initial')), HBox(children=(F…"
      ]
     },
     "metadata": {},
     "output_type": "display_data"
    }
   ],
   "source": [
    "app.project_panel"
   ]
  },
  {
   "cell_type": "markdown",
   "id": "comprehensive-revelation",
   "metadata": {},
   "source": [
    "See the [Project Panel](base_application.ipynb#Project-Panel) page for more details."
   ]
  },
  {
   "cell_type": "markdown",
   "id": "specialized-visit",
   "metadata": {},
   "source": [
    "## Survey Selection\n",
    "\n",
    "### Object\n",
    "\n",
    "List of objects available containing geophysical data to be inverted. Currently supports objects of type `Points`, `Curve`, `Surface` and `Grid2D`."
   ]
  },
  {
   "cell_type": "code",
   "execution_count": 3,
   "id": "contrary-english",
   "metadata": {
    "scrolled": true
   },
   "outputs": [
    {
     "data": {
      "application/vnd.jupyter.widget-view+json": {
       "model_id": "34d5da43815148d78c4f33337ab56895",
       "version_major": 2,
       "version_minor": 0
      },
      "text/plain": [
       "Dropdown(description='Object:', index=18, options=(['', None], ['ISO/Iso_Iteration_7_model_5_00e-03', UUID('3f…"
      ]
     },
     "metadata": {},
     "output_type": "display_data"
    }
   ],
   "source": [
    "app.objects"
   ]
  },
  {
   "cell_type": "markdown",
   "id": "ruled-characteristic",
   "metadata": {},
   "source": [
    "### Inversion Type\n",
    "\n",
    "List of available inversion types. \n",
    "\n",
    "- **gravity**: Invert bouguer corrected (mGal) or tensor (Etvos) data for the recovery of residual density (g/cc).\n",
    "- **magnetic scalar**: Invert magnetic data for the recovery of scalar susceptibility (SI).\n",
    "- **magnetic vector**: Invert magnetic data for the recovery of 3-component magnetization (effective susceptibility + angles)."
   ]
  },
  {
   "cell_type": "code",
   "execution_count": 4,
   "id": "activated-retirement",
   "metadata": {},
   "outputs": [
    {
     "data": {
      "application/vnd.jupyter.widget-view+json": {
       "model_id": "bc4b5cfeee164b24b89dc6517a2058e8",
       "version_major": 2,
       "version_minor": 0
      },
      "text/plain": [
       "HBox(children=(Dropdown(description='inversion Type:', options=('magnetic vector', 'magnetic scalar', 'gravity…"
      ]
     },
     "metadata": {},
     "output_type": "display_data"
    }
   ],
   "source": [
    "app.survey_type_panel"
   ]
  },
  {
   "cell_type": "markdown",
   "id": "accomplished-voice",
   "metadata": {},
   "source": [
    "#### Inducing field parameters\n",
    "\n",
    "For magnetic data only, set the inducing field parameters:"
   ]
  },
  {
   "cell_type": "markdown",
   "id": "angry-origin",
   "metadata": {},
   "source": [
    "## Data Channel Options\n",
    "\n",
    "Define the geophysical data to be inverted."
   ]
  },
  {
   "cell_type": "markdown",
   "id": "final-seeker",
   "metadata": {},
   "source": [
    "### Channel Options\n",
    "\n",
    "Set parameters to invividual channels."
   ]
  },
  {
   "cell_type": "code",
   "execution_count": 5,
   "id": "baking-running",
   "metadata": {},
   "outputs": [
    {
     "data": {
      "application/vnd.jupyter.widget-view+json": {
       "model_id": "999a6e2826e84c2591d55e54795148c3",
       "version_major": 2,
       "version_minor": 0
      },
      "text/plain": [
       "VBox(children=(Checkbox(value=True, description='Active', indent=False, style=DescriptionStyle(description_wid…"
      ]
     },
     "metadata": {},
     "output_type": "display_data"
    }
   ],
   "source": [
    "app.data_channel_choices.data_channel_options['tmi']"
   ]
  },
  {
   "cell_type": "markdown",
   "id": "5181737f",
   "metadata": {},
   "source": [
    "#### Active\n",
    "\n",
    "Checked if the channel is to be used in the inversion\n",
    "\n",
    "#### Channel:\n",
    "\n",
    "Association between the \"data channel\" and one of the expected \"system channel\".\n",
    "\n",
    "#### Uncertainty floor\n",
    "\n",
    "Estimated data uncertainty floor (constant) value associated with the data channel. \n",
    "\n",
    "#### Uncertainty channel\n",
    "\n",
    "Optionally, use a data channel to assign point-based uncertainties. Uncertainty floor value is ignored if a channel of uncertainties is selected."
   ]
  },
  {
   "cell_type": "markdown",
   "id": "defined-princeton",
   "metadata": {},
   "source": [
    "## Window Selection\n",
    "\n",
    "Manual selection of an area of interest and data resolution."
   ]
  },
  {
   "cell_type": "code",
   "execution_count": 6,
   "id": "opponent-canada",
   "metadata": {},
   "outputs": [
    {
     "data": {
      "application/vnd.jupyter.widget-view+json": {
       "model_id": "e2b0f21582224555be1d63b222c816a4",
       "version_major": 2,
       "version_minor": 0
      },
      "text/plain": [
       "VBox(children=(VBox(children=(FloatText(value=50.0, description='Grid Resolution (m)', style=DescriptionStyle(…"
      ]
     },
     "metadata": {},
     "output_type": "display_data"
    }
   ],
   "source": [
    "app.window_selection"
   ]
  },
  {
   "cell_type": "markdown",
   "id": "surface-rider",
   "metadata": {},
   "source": [
    "See the [Map View Selection](view_selection.ipynb#Map-View-Selection) page for more details."
   ]
  },
  {
   "cell_type": "markdown",
   "id": "artificial-madness",
   "metadata": {},
   "source": [
    "## Spatial information"
   ]
  },
  {
   "cell_type": "markdown",
   "id": "earlier-verse",
   "metadata": {},
   "source": [
    "### Topography\n",
    "\n",
    "Set the air/ground interface of the inversion model."
   ]
  },
  {
   "cell_type": "code",
   "execution_count": 7,
   "id": "robust-prior",
   "metadata": {
    "scrolled": true
   },
   "outputs": [
    {
     "data": {
      "application/vnd.jupyter.widget-view+json": {
       "model_id": "0e226e769d2b45c896c3ee8e440eea4a",
       "version_major": 2,
       "version_minor": 0
      },
      "text/plain": [
       "VBox(children=(RadioButtons(description='Define by:', index=1, options=('None', 'Object', 'Relative to Sensor'…"
      ]
     },
     "metadata": {},
     "output_type": "display_data"
    }
   ],
   "source": [
    "app.topography_group()"
   ]
  },
  {
   "cell_type": "markdown",
   "id": "atmospheric-globe",
   "metadata": {},
   "source": [
    "#### Object\n",
    "\n",
    "Set the topography based on an object stored in the target `geoh5` project. The Z value of the cells/vertices can be assigned based on a chosen `Data` field.\n",
    "\n",
    "#### Relative to Sensor\n",
    "\n",
    "Topography is defined by a fixed vertical offset from a selected object position (vertices or centroids), also referred to as a \"draped height\".\n",
    "\n",
    "#### Constant\n",
    "\n",
    "Topography is defined as a flat surface with constant elevation."
   ]
  },
  {
   "cell_type": "markdown",
   "id": "governing-emperor",
   "metadata": {},
   "source": [
    "### Sensor Location\n",
    "\n",
    "Defines the sensors position in 3D space. The vertical position can be referenced to:\n",
    "- **sensor location**: Use the target [object](#Object) vertices or centroids z-locations\n",
    "- **topo + radar**: Interpolate the topography to set the elevation. Typically used for gridded\n",
    "    data with constant draped height or for airborne survey with inaccurate GPS\n",
    "    elevation (see [radar channel](#Radar-channel-(optional)))."
   ]
  },
  {
   "cell_type": "code",
   "execution_count": 8,
   "id": "threatened-athens",
   "metadata": {
    "scrolled": true
   },
   "outputs": [
    {
     "data": {
      "application/vnd.jupyter.widget-view+json": {
       "model_id": "45b3577f099f4e32b2a812ae1420bc94",
       "version_major": 2,
       "version_minor": 0
      },
      "text/plain": [
       "VBox(children=(Checkbox(value=True, description='Set Z from topo + offsets', style=DescriptionStyle(descriptio…"
      ]
     },
     "metadata": {},
     "output_type": "display_data"
    }
   ],
   "source": [
    "app.sensor()"
   ]
  },
  {
   "cell_type": "markdown",
   "id": "817f66fd",
   "metadata": {},
   "source": [
    "#### Constant offsets (dx, dy, dz)\n",
    "\n",
    "Sensor position shifted by a constant offset from the vertices of the selected\n",
    "object. Typically used for towed systems where the GPS receiver is on the\n",
    "aircraft.\n",
    "\n",
    "- dx: East(+) or West(-) offset.\n",
    "- dy: North(+) or South(-) offset\n",
    "- dz: Up(+) or Down(-) offset\n",
    "\n",
    "#### Radar channel (optional)\n",
    "\n",
    "Channel defining the ground clearance (radar) of each data point."
   ]
  },
  {
   "cell_type": "markdown",
   "id": "victorian-tiffany",
   "metadata": {},
   "source": [
    "## Inversion Options\n",
    "\n",
    "List of parameters controlling the inversion."
   ]
  },
  {
   "cell_type": "code",
   "execution_count": 9,
   "id": "incorrect-bidding",
   "metadata": {},
   "outputs": [
    {
     "data": {
      "application/vnd.jupyter.widget-view+json": {
       "model_id": "588419e912864c0d8fb1ae6c0914b47c",
       "version_major": 2,
       "version_minor": 0
      },
      "text/plain": [
       "Dropdown(options=('starting model', 'mesh', 'reference model', 'regularization', 'upper-lower bounds', 'detren…"
      ]
     },
     "metadata": {},
     "output_type": "display_data"
    }
   ],
   "source": [
    "app.option_choices"
   ]
  },
  {
   "cell_type": "markdown",
   "id": "traditional-latino",
   "metadata": {},
   "source": [
    "### Starting Model\n",
    "\n",
    "Initial model used to begin the inversion.\n"
   ]
  },
  {
   "cell_type": "code",
   "execution_count": 10,
   "id": "attractive-canvas",
   "metadata": {
    "scrolled": true
   },
   "outputs": [
    {
     "data": {
      "application/vnd.jupyter.widget-view+json": {
       "model_id": "e7586cae76474a40876e3efc1837f607",
       "version_major": 2,
       "version_minor": 0
      },
      "text/plain": [
       "VBox(children=(Label(value='Starting effective susceptibility', style=DescriptionStyle(description_width='init…"
      ]
     },
     "metadata": {},
     "output_type": "display_data"
    }
   ],
   "source": [
    "app._starting_model_group()"
   ]
  },
  {
   "cell_type": "markdown",
   "id": "authentic-payroll",
   "metadata": {},
   "source": [
    "#### Model\n",
    "\n",
    "Model object and values selected from any `Points`, `Curve`, `Surface`, `BlockModel` or `Octree` object.\n",
    "Values are interpolated onto the inversion mesh using a nearest neighbor approach.\n",
    "\n",
    "#### Constant\n",
    "\n",
    "Constant background half-space value."
   ]
  },
  {
   "cell_type": "markdown",
   "id": "spiritual-coating",
   "metadata": {},
   "source": [
    "## Mesh\n",
    "\n",
    "### Option 1: Object\n",
    "Select an existing `Octree` mesh object from the target geoh5."
   ]
  },
  {
   "cell_type": "code",
   "execution_count": 11,
   "id": "committed-genealogy",
   "metadata": {
    "scrolled": false
   },
   "outputs": [
    {
     "data": {
      "application/vnd.jupyter.widget-view+json": {
       "model_id": "ebcc9de00c164e279883f497fe4487a6",
       "version_major": 2,
       "version_minor": 0
      },
      "text/plain": [
       "Dropdown(description='Object:', options=(['', None], ['ISO/Iso_Iteration_7_model_5_00e-03', UUID('3fde53cf-ea6…"
      ]
     },
     "metadata": {},
     "output_type": "display_data"
    }
   ],
   "source": [
    "app._mesh_octree.objects"
   ]
  },
  {
   "cell_type": "markdown",
   "id": "2f15c35a",
   "metadata": {},
   "source": [
    "### Option 2: Create\n",
    "\n",
    "Set parameters used to build of an `Octree` mesh."
   ]
  },
  {
   "cell_type": "code",
   "execution_count": 12,
   "id": "0f402ac7",
   "metadata": {},
   "outputs": [
    {
     "data": {
      "application/vnd.jupyter.widget-view+json": {
       "model_id": "dcbf76c4dfc04e479c744ca7442d4be8",
       "version_major": 2,
       "version_minor": 0
      },
      "text/plain": [
       "VBox(children=(Label(value='Core cell size (u, v, z)'), FloatText(value=25.0, style=DescriptionStyle(descripti…"
      ]
     },
     "metadata": {},
     "output_type": "display_data"
    }
   ],
   "source": [
    "app._mesh_octree._parameters"
   ]
  },
  {
   "cell_type": "markdown",
   "id": "resistant-albert",
   "metadata": {},
   "source": [
    "#### Core cell size (u, v, z)\n",
    "\n",
    "Smallest (core) cell dimensions along \n",
    "\n",
    "- u: East-West\n",
    "- v: North-South\n",
    "- z: Vertical\n",
    "\n",
    "As a general rule of thumb, the cell size should be roughly equal or smaller to the data resolution.\n",
    "\n",
    "\n",
    "####  # Cells below topography\n",
    "\n",
    "\n",
    "Number of layers of cells at each octree level below the topography surface.\n",
    "As topography generally extends further, it is common practice to use only\n",
    "coarse cells once outside of the survey area.\n",
    "\n",
    "\n",
    "####  # Cells below sensors\n",
    "\n",
    "Number of layers of cells at each octree level below the observation points.\n",
    "\n",
    "\n",
    "#### Maximum distance\n",
    "\n",
    "\n",
    "Parameter controlling the Delaunay triangulation used for the refinement of\n",
    "the mesh around topography and observation points. Large triangles generated\n",
    "between points far apart are filtered out, reducing the number of small cells\n",
    "in regions without data.\n",
    "\n",
    "####  Horizontal padding\n",
    "\n",
    "Additional padding distance (m) around the survey extent. Distances are rounded up to the next power of 2.\n",
    "\n",
    "####  Vertical padding\n",
    "\n",
    "Additional padding distance (m) added above and below the survey vertical relief. Distances rounded up to the next power of 2.\n",
    "\n",
    "####  Minimum depth\n",
    "\n",
    "\n",
    "Minimum thickness of the mesh added at depth below topography.\n",
    "\n",
    "\n",
    "See the [Octree Mesh Creation](create_octree.ipynb#Mesh-Parameters) app for more details\n"
   ]
  },
  {
   "cell_type": "markdown",
   "id": "variable-arrival",
   "metadata": {},
   "source": [
    " <img align=\"center\" width=\"50%\" src=\"./images/Octree_refinement.png\">"
   ]
  },
  {
   "cell_type": "markdown",
   "id": "handed-journalism",
   "metadata": {},
   "source": [
    "## Regularization Panel\n",
    "\n",
    "Parameters controlling the regularization function."
   ]
  },
  {
   "cell_type": "code",
   "execution_count": 13,
   "id": "linear-climb",
   "metadata": {},
   "outputs": [
    {
     "data": {
      "application/vnd.jupyter.widget-view+json": {
       "model_id": "1460bc2463d9412498ff63956238a11e",
       "version_major": 2,
       "version_minor": 0
      },
      "text/plain": [
       "HBox(children=(VBox(children=(Label(value='Scaling (alphas)'), FloatText(value=1.0, description='Reference Mod…"
      ]
     },
     "metadata": {},
     "output_type": "display_data"
    }
   ],
   "source": [
    "app.inversion_options['regularization']"
   ]
  },
  {
   "cell_type": "markdown",
   "id": "russian-evidence",
   "metadata": {},
   "source": [
    "### Reference model\n",
    "\n",
    "Reference model values used to constrain the inversion."
   ]
  },
  {
   "cell_type": "code",
   "execution_count": 14,
   "id": "2ba7940b",
   "metadata": {},
   "outputs": [
    {
     "data": {
      "application/vnd.jupyter.widget-view+json": {
       "model_id": "4faeae27024d4319bac35187209d026b",
       "version_major": 2,
       "version_minor": 0
      },
      "text/plain": [
       "VBox(children=(Label(value='Reference effective susceptibility', style=DescriptionStyle(description_width='ini…"
      ]
     },
     "metadata": {},
     "output_type": "display_data"
    }
   ],
   "source": [
    "app._reference_model_group()"
   ]
  },
  {
   "cell_type": "markdown",
   "id": "obvious-advertiser",
   "metadata": {},
   "source": [
    "#### None\n",
    "\n",
    "No reference model used. This is equivalent as setting the [Alphas](#Alpha-Parameters) `s` parameter to zero.\n",
    "\n",
    "#### Model\n",
    "\n",
    "Reference model selected from any `Points`, `Curve`, `Surface`, `BlockModel` or `Octree` object.\n",
    "Values are interpolated onto the inversion mesh using a nearest neighbor approach.\n",
    "\n",
    "#### Constant\n",
    "\n",
    "Constant reference half-space value."
   ]
  },
  {
   "cell_type": "markdown",
   "id": "differential-fifth",
   "metadata": {},
   "source": [
    "### Scaling (alpha) parameters"
   ]
  },
  {
   "cell_type": "code",
   "execution_count": 15,
   "id": "metric-southwest",
   "metadata": {},
   "outputs": [
    {
     "data": {
      "application/vnd.jupyter.widget-view+json": {
       "model_id": "51a61c877b9f4a9784e9348b8ee78aae",
       "version_major": 2,
       "version_minor": 0
      },
      "text/plain": [
       "VBox(children=(Label(value='Scaling (alphas)'), FloatText(value=1.0, description='Reference Model (s)', style=…"
      ]
     },
     "metadata": {},
     "output_type": "display_data"
    }
   ],
   "source": [
    "app._alphas"
   ]
  },
  {
   "cell_type": "markdown",
   "id": "empty-meeting",
   "metadata": {},
   "source": [
    "Scaling between the components of the regularization function.\n",
    "\n",
    "See the [SimPEG.API](https://docs.simpeg.xyz/content/api_core/api_Regularization.html#SimPEG.regularization.Simple) for technical details."
   ]
  },
  {
   "cell_type": "markdown",
   "id": "intimate-fisher",
   "metadata": {},
   "source": [
    "### $l_p$-norms\n",
    "\n",
    "Approximated norms applied to the components of the regularization."
   ]
  },
  {
   "cell_type": "code",
   "execution_count": 16,
   "id": "potential-fifth",
   "metadata": {},
   "outputs": [
    {
     "data": {
      "application/vnd.jupyter.widget-view+json": {
       "model_id": "0ccb0229a5c24b02900cd03ba2b1a2a1",
       "version_major": 2,
       "version_minor": 0
      },
      "text/plain": [
       "VBox(children=(Label(value='Lp-norms'), FloatText(value=0.0, style=DescriptionStyle(description_width='initial…"
      ]
     },
     "metadata": {},
     "output_type": "display_data"
    }
   ],
   "source": [
    "app._norms"
   ]
  },
  {
   "cell_type": "markdown",
   "id": "middle-sweet",
   "metadata": {},
   "source": [
    "See notes on [Sparse and Blocky Norms](https://giftoolscookbook.readthedocs.io/en/latest/content/fundamentals/Norms.html#sparse-and-blocky-norms) for technical details."
   ]
  },
  {
   "cell_type": "markdown",
   "id": "pacific-realtor",
   "metadata": {},
   "source": [
    "### Upper-Lower Bounds\n",
    "\n",
    "Upper and lower bound constraints applied on physical property model."
   ]
  },
  {
   "cell_type": "code",
   "execution_count": 17,
   "id": "liable-license",
   "metadata": {},
   "outputs": [
    {
     "data": {
      "application/vnd.jupyter.widget-view+json": {
       "model_id": "deb21787073d447f8e6a1bd7c70d418d",
       "version_major": 2,
       "version_minor": 0
      },
      "text/plain": [
       "HBox(children=(VBox(children=(Label(value='Lower Bounds'), VBox(children=(Label(value='', style=DescriptionSty…"
      ]
     },
     "metadata": {},
     "output_type": "display_data"
    }
   ],
   "source": [
    "app.bound_panel"
   ]
  },
  {
   "cell_type": "markdown",
   "id": "amber-migration",
   "metadata": {},
   "source": [
    "Bounds can be defined as either:\n",
    "- Model: Values defined on a cell-by-cell basis. The values are projected onto the inversion mesh using a nearest neighour interpolation. \n",
    "- Constant: Constant value defining the bounds.\n",
    "- None: The inversion uses [$-\\infty$, $\\infty$] as physical property bounds."
   ]
  },
  {
   "cell_type": "markdown",
   "id": "73052aee",
   "metadata": {},
   "source": [
    "### Detrend (optional)\n",
    "\n",
    "Remove a polynomial trend from the selected data channels."
   ]
  },
  {
   "cell_type": "code",
   "execution_count": 18,
   "id": "ab495d1d",
   "metadata": {},
   "outputs": [
    {
     "data": {
      "text/plain": [
       "<geoh5py.workspace.workspace.Workspace at 0x1da53c2e760>"
      ]
     },
     "execution_count": 18,
     "metadata": {},
     "output_type": "execute_result"
    }
   ],
   "source": [
    "app.workspace\n"
   ]
  },
  {
   "cell_type": "code",
   "execution_count": 19,
   "id": "3932cae2",
   "metadata": {
    "nbsphinx": "hidden"
   },
   "outputs": [],
   "source": [
    "import os\n",
    "app.write_trigger(None)\n",
    "app.params.write_input_file(name=\"VectorInversion.ui.json\", path='./')\n",
    "app.detrend_type.value = \"all\""
   ]
  },
  {
   "cell_type": "code",
   "execution_count": 20,
   "id": "256b9331",
   "metadata": {},
   "outputs": [
    {
     "data": {
      "application/vnd.jupyter.widget-view+json": {
       "model_id": "4320d8846ec14132b2bb15771f18ba86",
       "version_major": 2,
       "version_minor": 0
      },
      "text/plain": [
       "VBox(children=(Dropdown(description='Method', index=1, options=('', 'all', 'perimeter'), style=DescriptionStyl…"
      ]
     },
     "metadata": {},
     "output_type": "display_data"
    }
   ],
   "source": [
    "app._detrend_panel"
   ]
  },
  {
   "cell_type": "markdown",
   "id": "9fccc8a5",
   "metadata": {},
   "source": [
    "#### Order\n",
    "\n",
    "Order [0, 1 or 2] of the polynomial defining the trend. The 0th order trend corresponds to removing the mean value.\n",
    "\n",
    "#### Method\n",
    "\n",
    "- all: Use all data points to compute the trend\n",
    "- perimeter: Use only the edge points to compute the trend."
   ]
  },
  {
   "cell_type": "markdown",
   "id": "preliminary-element",
   "metadata": {},
   "source": [
    "### Ignore Values"
   ]
  },
  {
   "cell_type": "code",
   "execution_count": 21,
   "id": "lesbian-crawford",
   "metadata": {},
   "outputs": [
    {
     "data": {
      "application/vnd.jupyter.widget-view+json": {
       "model_id": "e2c0d05de5c54a6dbbd8dc216055f681",
       "version_major": 2,
       "version_minor": 0
      },
      "text/plain": [
       "Text(value='', description=\"Value (i.e. '<0' for no negatives)\", style=DescriptionStyle(description_width='ini…"
      ]
     },
     "metadata": {},
     "output_type": "display_data"
    }
   ],
   "source": [
    "app.ignore_values"
   ]
  },
  {
   "cell_type": "markdown",
   "id": "b82c2cb8",
   "metadata": {},
   "source": [
    "Flag value ignored by the inversion by assigning $\\infty$ uncertainties on the data points."
   ]
  },
  {
   "cell_type": "markdown",
   "id": "flying-style",
   "metadata": {},
   "source": [
    "### Optimization\n",
    "\n",
    "Parameters controlling various aspects of the projected Gauss-Newton inversion algorithm."
   ]
  },
  {
   "cell_type": "code",
   "execution_count": 22,
   "id": "junior-devices",
   "metadata": {},
   "outputs": [
    {
     "data": {
      "application/vnd.jupyter.widget-view+json": {
       "model_id": "04b2179c40a449b8979a344b9fe99438",
       "version_major": 2,
       "version_minor": 0
      },
      "text/plain": [
       "VBox(children=(IntText(value=25, description='Max beta Iterations', style=DescriptionStyle(description_width='…"
      ]
     },
     "metadata": {},
     "output_type": "display_data"
    }
   ],
   "source": [
    "app.optimization"
   ]
  },
  {
   "cell_type": "markdown",
   "id": "pleased-respondent",
   "metadata": {},
   "source": [
    "#### Max beta Iterations\n",
    "\n",
    "Maximum number of $\\beta$-iterations allowed.\n",
    "Note that when applying sparse norms, the inversion may require $>20$ iterations to converge.\n",
    "\n",
    "\n",
    "#### Target misfit\n",
    "\n",
    "Target data misfit where $\\chi=1$ corresponds to $\\phi_d=N$ (number of data). (See documentation on [Data Misfit and Uncertainties](https://giftoolscookbook.readthedocs.io/en/latest/content/fundamentals/Uncertainties.html#data-misfit-and-uncertainties) for mathematical details)\n",
    "\n",
    "\n",
    "#### Starting trade-off ($\\beta$)\n",
    "\n",
    "**ratio**: Factor multiplying the initial $\\beta$ defined by the ratio between the initial misfit and regularization:\n",
    "\n",
    "\\begin{equation}\n",
    "\\beta_0 = \\gamma * \\frac{\\phi_d}{ \\phi_m}\n",
    "\\end{equation}\n",
    "\n",
    "**value**: Fixed $\\beta$ value specified by the user.\n",
    "\n",
    "#### Max CG Iterations\n",
    "\n",
    "Maximum number of Conjugate Gradient (CG) iterations per Gauss-Newton solve.\n",
    "\n",
    "\n",
    "#### CG Tolerance\n",
    "\n",
    "Threshold on the minimum Conjugate Gradient (CG) step to end the Gauss-Newton solve.\n",
    "\n",
    "\n",
    "#### Max CPUs\n",
    "\n",
    "Maximum number of threads used for the parallelization. Defaults to half the system thread count.\n",
    "\n",
    "\n",
    "#### Number of tiles\n",
    "\n",
    "Number of data tiles used by the mesh decoupling algorithm. Nested sensitivities for each data blocks are interpolated to the global inversion mesh with a volumetric weighted averaging scheme."
   ]
  },
  {
   "cell_type": "markdown",
   "id": "smart-notebook",
   "metadata": {},
   "source": [
    "## Output panel\n",
    "\n",
    "Setup the inversion and launch the process."
   ]
  },
  {
   "cell_type": "markdown",
   "id": "executive-revolution",
   "metadata": {},
   "source": [
    "### Output Name"
   ]
  },
  {
   "cell_type": "code",
   "execution_count": 23,
   "id": "referenced-buffalo",
   "metadata": {},
   "outputs": [
    {
     "data": {
      "application/vnd.jupyter.widget-view+json": {
       "model_id": "e91200ddb4f34de6aa067725e713e9fd",
       "version_major": 2,
       "version_minor": 0
      },
      "text/plain": [
       "Text(value='VectorInversion', description='Save as:', style=DescriptionStyle(description_width='initial'))"
      ]
     },
     "metadata": {},
     "output_type": "display_data"
    }
   ],
   "source": [
    "app.ga_group_name"
   ]
  },
  {
   "cell_type": "markdown",
   "id": "359adb87",
   "metadata": {},
   "source": [
    "Name given to the inversion group added to the Geoscience ANALYST project."
   ]
  },
  {
   "cell_type": "markdown",
   "id": "fbc59fa0",
   "metadata": {},
   "source": [
    "### Working directory"
   ]
  },
  {
   "cell_type": "code",
   "execution_count": 24,
   "id": "3fa0113e",
   "metadata": {
    "scrolled": true
   },
   "outputs": [
    {
     "data": {
      "application/vnd.jupyter.widget-view+json": {
       "model_id": "2a44eab5ed354e279f424d5cc2e1c218",
       "version_major": 2,
       "version_minor": 0
      },
      "text/plain": [
       "FileChooser(path='C:\\Users\\dominiquef\\Documents\\GIT\\mira\\geoapps\\docs\\content\\applications', filename='', titl…"
      ]
     },
     "metadata": {},
     "output_type": "display_data"
    }
   ],
   "source": [
    "app.export_directory"
   ]
  },
  {
   "cell_type": "markdown",
   "id": "5d23ac07",
   "metadata": {},
   "source": [
    "Specify the working directory where the inversion occurs. \n",
    "\n",
    "**It is highly recommended to chose a location on a solid-state drive (SSD) to fully take advantage of the `Dask` parallelization.**"
   ]
  },
  {
   "cell_type": "markdown",
   "id": "af703f0a",
   "metadata": {},
   "source": [
    "### Write input"
   ]
  },
  {
   "cell_type": "code",
   "execution_count": 25,
   "id": "43a2716d",
   "metadata": {
    "scrolled": true
   },
   "outputs": [
    {
     "data": {
      "application/vnd.jupyter.widget-view+json": {
       "model_id": "bcd721b28cc54d20a7d21daa39128ab9",
       "version_major": 2,
       "version_minor": 0
      },
      "text/plain": [
       "Button(description='Write input', icon='check', style=ButtonStyle())"
      ]
     },
     "metadata": {},
     "output_type": "display_data"
    }
   ],
   "source": [
    "app.write"
   ]
  },
  {
   "cell_type": "markdown",
   "id": "341c1ed4",
   "metadata": {},
   "source": [
    "\n",
    "Click to write the input parameters to a `*.json` file and a workspace (.geoh5) with all required entities. "
   ]
  },
  {
   "cell_type": "markdown",
   "id": "ff5ce976",
   "metadata": {},
   "source": [
    "### Run Inversion: "
   ]
  },
  {
   "cell_type": "code",
   "execution_count": 26,
   "id": "a7ae6328",
   "metadata": {
    "scrolled": true
   },
   "outputs": [
    {
     "data": {
      "application/vnd.jupyter.widget-view+json": {
       "model_id": "ab75b98474024504bb09c5f414b963e9",
       "version_major": 2,
       "version_minor": 0
      },
      "text/plain": [
       "Button(button_style='success', description='Compute', icon='check', style=ButtonStyle(), tooltip='Run computat…"
      ]
     },
     "metadata": {},
     "output_type": "display_data"
    }
   ],
   "source": [
    "app.trigger"
   ]
  },
  {
   "cell_type": "markdown",
   "id": "08216fba",
   "metadata": {},
   "source": [
    "Launch the inversion routine. Results will be written directly to the target `geoh5` project."
   ]
  },
  {
   "cell_type": "markdown",
   "id": "2cfe2258",
   "metadata": {},
   "source": [
    "## Input ui.json \n",
    "\n",
    "This application relies on a [structured json](./VectorInversion.ui.json) file to store the parameters and run the program.\n",
    "The `ui.json` can be used to re-load the parameters from a previous run by selecting the `ui.json` file from the [Project Selection](#Project-Selection) widget, instead of a `geoh5` file. \n",
    "\n",
    "\n",
    "### Command line execution\n",
    "\n",
    "The same input `ui.json` file can be used to run the program from command line:\n",
    "\n",
    "```\n",
    "activate geoapps\n",
    "python -m geoapps.inversion.driver [Name].ui.json\n",
    "```\n",
    "\n",
    "This assumes that the geoapps have been installed and that the reference `*.ui.json` and `*.geoh5` project are accessible in the current directory."
   ]
  },
  {
   "cell_type": "markdown",
   "id": "db791f15",
   "metadata": {},
   "source": [
    "### Geoscience ANALYST Pro v3.4\n",
    "\n",
    "Geoscience ANALYST Pro users (v3.4) can execute this application directly from an active session with a drag & drop of a `*.ui.json` file to the `Viewport`. \n",
    "\n",
    "![GAPro_Octree](images/GA_pro_grav_mag_inversion.gif \"ga_pro\")"
   ]
  },
  {
   "cell_type": "code",
   "execution_count": 27,
   "id": "hairy-seeking",
   "metadata": {
    "nbsphinx": "hidden"
   },
   "outputs": [],
   "source": [
    "import matplotlib.pyplot as plt\n",
    "app.figure.savefig(\"images/inversion_thumbnail.png\", dpi=300, bbox_inches=\"tight\")"
   ]
  }
 ],
 "metadata": {
  "kernelspec": {
   "display_name": "Python 3 (ipykernel)",
   "language": "python",
   "name": "python3"
  },
  "language_info": {
   "codemirror_mode": {
    "name": "ipython",
    "version": 3
   },
   "file_extension": ".py",
   "mimetype": "text/x-python",
   "name": "python",
   "nbconvert_exporter": "python",
   "pygments_lexer": "ipython3",
   "version": "3.9.10"
  },
  "widgets": {
   "application/vnd.jupyter.widget-state+json": {
    "state": {
     "002472d710924341a6962425908a829b": {
      "model_module": "@jupyter-widgets/base",
      "model_module_version": "1.2.0",
      "model_name": "LayoutModel",
      "state": {}
     },
     "007c5278a287482686bb9ca2c7d67882": {
      "model_module": "@jupyter-widgets/base",
      "model_module_version": "1.2.0",
      "model_name": "LayoutModel",
      "state": {
       "overflow": "auto"
      }
     },
     "0088346e89f74934ba510e02ee62d615": {
      "model_module": "@jupyter-widgets/base",
      "model_module_version": "1.2.0",
      "model_name": "LayoutModel",
      "state": {}
     },
     "0089fbf658fe4c2fb0a957b5cfd393f0": {
      "model_module": "@jupyter-widgets/controls",
      "model_module_version": "1.5.0",
      "model_name": "VBoxModel",
      "state": {
       "children": [
        "IPY_MODEL_c41a95dcbdf040cfb9ad045348de413d",
        "IPY_MODEL_777d9edcbb2449ba8dd0f47632bc6054",
        "IPY_MODEL_42270ae4a1224325a3b1b326cd9d0e60"
       ],
       "layout": "IPY_MODEL_2ded96b474f0462290b47dd42bc9c773"
      }
     },
     "00a60c5197964f84b0b1e2dcc3a9dcc4": {
      "model_module": "@jupyter-widgets/base",
      "model_module_version": "1.2.0",
      "model_name": "LayoutModel",
      "state": {}
     },
     "00c484e941a740158452d453f20b558b": {
      "model_module": "@jupyter-widgets/controls",
      "model_module_version": "1.5.0",
      "model_name": "TextModel",
      "state": {
       "continuous_update": false,
       "description": "Group:",
       "layout": "IPY_MODEL_b53a8f84e30c4e669987bf4046755668",
       "style": "IPY_MODEL_7cca73f91047454f8ec348e9e68d185e"
      }
     },
     "00c5f6dfbe34487095234eca0853959e": {
      "model_module": "@jupyter-widgets/controls",
      "model_module_version": "1.5.0",
      "model_name": "ButtonModel",
      "state": {
       "description": "Change",
       "layout": "IPY_MODEL_1b88bd034d204380aacaa7f889b459b8",
       "style": "IPY_MODEL_23f3cb5a85344573bc4c5ddce85749ae"
      }
     },
     "00de60a855a242d79aa37167e6fa4047": {
      "model_module": "@jupyter-widgets/base",
      "model_module_version": "1.2.0",
      "model_name": "LayoutModel",
      "state": {}
     },
     "00dec8f0674948acb90275ca3af3387c": {
      "model_module": "@jupyter-widgets/controls",
      "model_module_version": "1.5.0",
      "model_name": "BoxModel",
      "state": {
       "children": [
        "IPY_MODEL_104bb9089385481e9256a7c1f8c1661e"
       ],
       "layout": "IPY_MODEL_438804579b294b79ae0d33842c725f4b"
      }
     },
     "00e54bc18f2d414799b3933ac9289f76": {
      "model_module": "@jupyter-widgets/controls",
      "model_module_version": "1.5.0",
      "model_name": "VBoxModel",
      "state": {
       "children": [
        "IPY_MODEL_1674bca5c39d4c788a3d30cd100310ec",
        "IPY_MODEL_92e47d715e46490eb73195ccba16908b"
       ],
       "layout": "IPY_MODEL_b45df2b80c674899aeb47aa5b3e2a811"
      }
     },
     "00e54fb2ab914fbf9e059ae360f1c776": {
      "model_module": "@jupyter-widgets/controls",
      "model_module_version": "1.5.0",
      "model_name": "LabelModel",
      "state": {
       "layout": "IPY_MODEL_b9d62b014f8d4875946006e1464d8bf9",
       "style": "IPY_MODEL_6950d9bf9f114e29800ad1ffeea2fc14",
       "value": "Uncertainties"
      }
     },
     "0115be1076644014b431c3b39fdb7f68": {
      "model_module": "@jupyter-widgets/controls",
      "model_module_version": "1.5.0",
      "model_name": "ButtonStyleModel",
      "state": {}
     },
     "014a653bbf274da6add5872903c201fc": {
      "model_module": "@jupyter-widgets/base",
      "model_module_version": "1.2.0",
      "model_name": "LayoutModel",
      "state": {}
     },
     "014a7f175c314d2581416c8a8ae15117": {
      "model_module": "@jupyter-widgets/controls",
      "model_module_version": "1.5.0",
      "model_name": "VBoxModel",
      "state": {
       "children": [
        "IPY_MODEL_3dd963b83c74448581b004776a08f820",
        "IPY_MODEL_1077510d8c2148bb82f5ee9fc352b59a"
       ],
       "layout": "IPY_MODEL_4c87515e50c8486797d0db89cdf10b14"
      }
     },
     "01ba40974b4949e6a13f4de1d9e70ec9": {
      "model_module": "@jupyter-widgets/controls",
      "model_module_version": "1.5.0",
      "model_name": "VBoxModel",
      "state": {
       "children": [
        "IPY_MODEL_c2f10d28a5e5479b91e3a02e8f2b8919",
        "IPY_MODEL_6a689417b2f04eba8a41caf5a4623e41"
       ],
       "layout": "IPY_MODEL_e0a8dd67c15f40d3be61cc0718844c3c"
      }
     },
     "01d7be0b8acf466f82476de6077413db": {
      "model_module": "@jupyter-widgets/controls",
      "model_module_version": "1.5.0",
      "model_name": "DescriptionStyleModel",
      "state": {
       "description_width": ""
      }
     },
     "020537f2d1564000b51777227fd6de3d": {
      "model_module": "@jupyter-widgets/base",
      "model_module_version": "1.2.0",
      "model_name": "LayoutModel",
      "state": {}
     },
     "020bf9f7512b43c8a81d8a32e9be0520": {
      "model_module": "@jupyter-widgets/controls",
      "model_module_version": "1.5.0",
      "model_name": "HTMLModel",
      "state": {
       "layout": "IPY_MODEL_cd278d8647484e93b961f6aba1e4b4ef",
       "placeholder": "",
       "style": "IPY_MODEL_d390ba2490274c34a1eedfbb2cd10e61",
       "value": "<span style=\"color:orange;\">C:\\Users\\dominiquef\\Documents\\GIT\\mira\\geoapps\\assets\\FlinFlon.geoh5</span>"
      }
     },
     "0213e45dc152483d9bb76b8d5c68fc4a": {
      "model_module": "@jupyter-widgets/controls",
      "model_module_version": "1.5.0",
      "model_name": "VBoxModel",
      "state": {
       "children": [
        "IPY_MODEL_12f47ad7533d4e398ac6e8b6b236354a",
        "IPY_MODEL_648d9e58efde426882d32247fd663218"
       ],
       "layout": "IPY_MODEL_3ff6d1d6dbe043e09d2354cee2af3300"
      }
     },
     "02190d014bd745a6a7e2c92feecea0f5": {
      "model_module": "@jupyter-widgets/controls",
      "model_module_version": "1.5.0",
      "model_name": "DescriptionStyleModel",
      "state": {
       "description_width": "initial"
      }
     },
     "026e8ebe60104de5967fd0ff212201d6": {
      "model_module": "@jupyter-widgets/controls",
      "model_module_version": "1.5.0",
      "model_name": "DescriptionStyleModel",
      "state": {
       "description_width": ""
      }
     },
     "028482559b7d4a64b4f72d9946cb0d0b": {
      "model_module": "@jupyter-widgets/controls",
      "model_module_version": "1.5.0",
      "model_name": "TextModel",
      "state": {
       "layout": "IPY_MODEL_9f057373f20a4e1a9bd8973783e0b514",
       "placeholder": "output filename",
       "style": "IPY_MODEL_d4ab91dafddc4cd482442e887e080fe8",
       "value": "FlinFlon.geoh5"
      }
     },
     "02a44593045c4aea8a44e10e06ba4c72": {
      "model_module": "@jupyter-widgets/controls",
      "model_module_version": "1.5.0",
      "model_name": "ButtonStyleModel",
      "state": {}
     },
     "02aed942b70a4474a2c54c90d53c06b1": {
      "model_module": "@jupyter-widgets/base",
      "model_module_version": "1.2.0",
      "model_name": "LayoutModel",
      "state": {
       "border": "solid"
      }
     },
     "02d3b614c2e347bda35829c6fb27f3f2": {
      "model_module": "@jupyter-widgets/controls",
      "model_module_version": "1.5.0",
      "model_name": "HBoxModel",
      "state": {
       "children": [
        "IPY_MODEL_dc81bf00cd7c4890bbda9e5450c4826f",
        "IPY_MODEL_1de6183924214fd0b1bdf2e54a274f33",
        "IPY_MODEL_b1266ecbaaf145bf921ab075a44cdefe"
       ],
       "layout": "IPY_MODEL_25d246111d134e709838fed478d05a7b"
      }
     },
     "02ed537cb5564c6fbd59612a553b0181": {
      "model_module": "@jupyter-widgets/controls",
      "model_module_version": "1.5.0",
      "model_name": "VBoxModel",
      "state": {
       "children": [
        "IPY_MODEL_50699000bba445dfa2dfe8de7b38387f",
        "IPY_MODEL_d99304fa198b4df2926031c890e06b5c"
       ],
       "layout": "IPY_MODEL_e5b408576a294652a0cd76bd8834e11f"
      }
     },
     "0325b5e3a95241fbbfacec1b5978d440": {
      "model_module": "@jupyter-widgets/controls",
      "model_module_version": "1.5.0",
      "model_name": "DescriptionStyleModel",
      "state": {
       "description_width": ""
      }
     },
     "03443c2bcc964aedb68a4ed8aebb40e8": {
      "model_module": "@jupyter-widgets/controls",
      "model_module_version": "1.5.0",
      "model_name": "DropdownModel",
      "state": {
       "_options_labels": [
        "",
        "--- Channels ---",
        "elevation"
       ],
       "description": "Data: ",
       "index": 2,
       "layout": "IPY_MODEL_002472d710924341a6962425908a829b",
       "style": "IPY_MODEL_349113eab6f74a258d7169391f0e4851"
      }
     },
     "0354ab92d5ec485192784869f8603d8d": {
      "model_module": "@jupyter-widgets/controls",
      "model_module_version": "1.5.0",
      "model_name": "DescriptionStyleModel",
      "state": {
       "description_width": ""
      }
     },
     "0378361e4f844fd199d240dd0f8206b8": {
      "model_module": "@jupyter-widgets/controls",
      "model_module_version": "1.5.0",
      "model_name": "ButtonStyleModel",
      "state": {}
     },
     "03840360349549a29323d9f1fbb2dd08": {
      "model_module": "@jupyter-widgets/controls",
      "model_module_version": "1.5.0",
      "model_name": "DescriptionStyleModel",
      "state": {
       "description_width": ""
      }
     },
     "03930c23b46946cfa73d79a599bb3a3e": {
      "model_module": "@jupyter-widgets/controls",
      "model_module_version": "1.5.0",
      "model_name": "DescriptionStyleModel",
      "state": {
       "description_width": "initial"
      }
     },
     "03998f129d6e4e05891d7d0a6a4c5cfe": {
      "model_module": "@jupyter-widgets/controls",
      "model_module_version": "1.5.0",
      "model_name": "DescriptionStyleModel",
      "state": {
       "description_width": ""
      }
     },
     "03cfd651a6b2499eb47271b8142d79a2": {
      "model_module": "@jupyter-widgets/controls",
      "model_module_version": "1.5.0",
      "model_name": "DropdownModel",
      "state": {
       "_options_labels": [
        "C:\\Users\\dominiquef\\Documents\\GIT\\mira\\geoapps\\assets\\Temp",
        "C:\\Users\\dominiquef\\Documents\\GIT\\mira\\geoapps\\assets",
        "C:\\Users\\dominiquef\\Documents\\GIT\\mira\\geoapps",
        "C:\\Users\\dominiquef\\Documents\\GIT\\mira",
        "C:\\Users\\dominiquef\\Documents\\GIT",
        "C:\\Users\\dominiquef\\Documents",
        "C:\\Users\\dominiquef",
        "C:\\Users",
        "C:\\",
        "G:\\",
        "\\\\EgnyteDrive\\mirageoscience\\",
        "D:\\"
       ],
       "index": 0,
       "layout": "IPY_MODEL_3f8785218d3f42bba36dc322e915acab",
       "style": "IPY_MODEL_c2a9acbb33c74183bc613b258e950347"
      }
     },
     "03d06607c7e74fe7933fceb82353237c": {
      "model_module": "@jupyter-widgets/controls",
      "model_module_version": "1.5.0",
      "model_name": "FloatTextModel",
      "state": {
       "description": "Reference Model (s)",
       "layout": "IPY_MODEL_d5aa7edea13e4724ab04eb7f19086ffc",
       "step": null,
       "style": "IPY_MODEL_853f5f873afc4132bbc9234e87ba3fb1",
       "value": 1
      }
     },
     "03d42526a85947a6815524cf26bf0844": {
      "model_module": "@jupyter-widgets/base",
      "model_module_version": "1.2.0",
      "model_name": "LayoutModel",
      "state": {
       "display": "none",
       "min_width": "6em",
       "width": "6em"
      }
     },
     "040cc8816c9344bb9967e68aae36b884": {
      "model_module": "@jupyter-widgets/base",
      "model_module_version": "1.2.0",
      "model_name": "LayoutModel",
      "state": {
       "display": "none",
       "grid_area": "filename",
       "width": "auto"
      }
     },
     "041cc6057cfd4575bd3cc9b724ac9c12": {
      "model_module": "@jupyter-widgets/controls",
      "model_module_version": "1.5.0",
      "model_name": "DescriptionStyleModel",
      "state": {
       "description_width": "initial"
      }
     },
     "0437b66eb4594a4287f67820630bf08c": {
      "model_module": "@jupyter-widgets/base",
      "model_module_version": "1.2.0",
      "model_name": "LayoutModel",
      "state": {}
     },
     "0449cd4507fc48cea81a9f9afc83342d": {
      "model_module": "@jupyter-widgets/base",
      "model_module_version": "1.2.0",
      "model_name": "LayoutModel",
      "state": {
       "display": "none",
       "min_width": "6em",
       "width": "6em"
      }
     },
     "04611f62efe44de0adb316ac4a3a8116": {
      "model_module": "@jupyter-widgets/controls",
      "model_module_version": "1.5.0",
      "model_name": "DescriptionStyleModel",
      "state": {
       "description_width": "initial"
      }
     },
     "04661605cd854fa8b9e16c833aa2e5e9": {
      "model_module": "@jupyter-widgets/base",
      "model_module_version": "1.2.0",
      "model_name": "LayoutModel",
      "state": {}
     },
     "048394c91024424ca658e964ef7eb245": {
      "model_module": "@jupyter-widgets/base",
      "model_module_version": "1.2.0",
      "model_name": "LayoutModel",
      "state": {}
     },
     "048519f9dcb9409cb5d1ffb0394428f4": {
      "model_module": "@jupyter-widgets/controls",
      "model_module_version": "1.5.0",
      "model_name": "VBoxModel",
      "state": {
       "children": [
        "IPY_MODEL_e20d7658dbc540bfa5110f0e76b3ec46",
        "IPY_MODEL_4c12f5e83e7a459f8450b3a54e16e85a",
        "IPY_MODEL_f04cd2ad5d19479e84c692d8e8e41774"
       ],
       "layout": "IPY_MODEL_2ded96b474f0462290b47dd42bc9c773"
      }
     },
     "04a66b73973448c8bd24a27f66622902": {
      "model_module": "@jupyter-widgets/controls",
      "model_module_version": "1.5.0",
      "model_name": "ToggleButtonModel",
      "state": {
       "layout": "IPY_MODEL_0088346e89f74934ba510e02ee62d615",
       "style": "IPY_MODEL_a58916e50ade488faecdbe0dc8906888",
       "value": true
      }
     },
     "04a9b6964d7b4660836c41c442b8884e": {
      "model_module": "@jupyter-widgets/controls",
      "model_module_version": "1.5.0",
      "model_name": "VBoxModel",
      "state": {
       "children": [
        "IPY_MODEL_eb78f86937a44bb899f83c312bc239fc",
        "IPY_MODEL_0e56a2170a27459d8af138f3e3b80110",
        "IPY_MODEL_0c3cb85b7ce1421fb5f6021d920bd5dc",
        "IPY_MODEL_a50777cbf24c41d4bd66801539471084",
        "IPY_MODEL_0a03c46ee3c74bc2b96d1980dd994561",
        "IPY_MODEL_65a13414798742bd8c22bc973e4b6214"
       ],
       "layout": "IPY_MODEL_5a0d4a5a1c9b4a59914387cde48eeb3f"
      }
     },
     "04abc0b90813406c8f2b7e33d2be452c": {
      "model_module": "@jupyter-widgets/controls",
      "model_module_version": "1.5.0",
      "model_name": "ButtonModel",
      "state": {
       "description": "Cancel",
       "layout": "IPY_MODEL_84e90663fe304208a129e8f969742e90",
       "style": "IPY_MODEL_75ce9d0c907c4f97bce465a692166b8d"
      }
     },
     "04b2179c40a449b8979a344b9fe99438": {
      "model_module": "@jupyter-widgets/controls",
      "model_module_version": "1.5.0",
      "model_name": "VBoxModel",
      "state": {
       "children": [
        "IPY_MODEL_5e119fb749234421b0fde82ff44583aa",
        "IPY_MODEL_b0d1ca9646204aa4ad221f2cda6b1d1a",
        "IPY_MODEL_17b9d94d6bca4db9967bf18db03ea986",
        "IPY_MODEL_185729d72a164651a37e78017e7165fd",
        "IPY_MODEL_403555f6662e43e8bbc3baad7b5baaee",
        "IPY_MODEL_a252ea0afe224fbb9b44b4c60b9f8cc7",
        "IPY_MODEL_cda8a7a486294b109d6e24845f241796"
       ],
       "layout": "IPY_MODEL_ff5f2197d6ef4c11bfd2f995fb1cc797"
      }
     },
     "050e333dcfba4e488e26b4090c8795cf": {
      "model_module": "@jupyter-widgets/controls",
      "model_module_version": "1.5.0",
      "model_name": "HBoxModel",
      "state": {
       "children": [
        "IPY_MODEL_e29e0ef2fef04fbd9aef36a5503b4140",
        "IPY_MODEL_06a05f5685414ab1892a74c0bd44c635"
       ],
       "layout": "IPY_MODEL_fd1c3a2badc94bf581cbe52249e878e0"
      }
     },
     "051126720a034e2dbcf82fdd6790fdff": {
      "model_module": "@jupyter-widgets/base",
      "model_module_version": "1.2.0",
      "model_name": "LayoutModel",
      "state": {
       "overflow": "auto"
      }
     },
     "0519013b0a164f699ab9dde451669596": {
      "model_module": "@jupyter-widgets/controls",
      "model_module_version": "1.5.0",
      "model_name": "DescriptionStyleModel",
      "state": {
       "description_width": "initial"
      }
     },
     "05251909e545480d9fa929db20a47c46": {
      "model_module": "@jupyter-widgets/controls",
      "model_module_version": "1.5.0",
      "model_name": "DescriptionStyleModel",
      "state": {
       "description_width": ""
      }
     },
     "054e3aba3d0d478f8b5005d9a5ff59c8": {
      "model_module": "@jupyter-widgets/base",
      "model_module_version": "1.2.0",
      "model_name": "LayoutModel",
      "state": {}
     },
     "055464b1b27a49c88a15b1d2ec17885d": {
      "model_module": "@jupyter-widgets/base",
      "model_module_version": "1.2.0",
      "model_name": "LayoutModel",
      "state": {}
     },
     "0556ec8c82b443b0b2a9c5608b66d5b2": {
      "model_module": "@jupyter-widgets/controls",
      "model_module_version": "1.5.0",
      "model_name": "ButtonModel",
      "state": {
       "description": "Change",
       "layout": "IPY_MODEL_3e4926d8528143569465030aa24e954d",
       "style": "IPY_MODEL_d118aabf233943eb9f875801ceac8374"
      }
     },
     "0561d566a8c94af8989d16bc4aef3fbc": {
      "model_module": "@jupyter-widgets/controls",
      "model_module_version": "1.5.0",
      "model_name": "DescriptionStyleModel",
      "state": {
       "description_width": "initial"
      }
     },
     "057fc7f9ed284513a5788a9711f0e057": {
      "model_module": "@jupyter-widgets/controls",
      "model_module_version": "1.5.0",
      "model_name": "DescriptionStyleModel",
      "state": {
       "description_width": ""
      }
     },
     "058e624a4eb949feb70c60f8238b3453": {
      "model_module": "@jupyter-widgets/base",
      "model_module_version": "1.2.0",
      "model_name": "LayoutModel",
      "state": {}
     },
     "0622cdb24a8b4af8a3005ca79e142d3d": {
      "model_module": "@jupyter-widgets/controls",
      "model_module_version": "1.5.0",
      "model_name": "DescriptionStyleModel",
      "state": {
       "description_width": "initial"
      }
     },
     "06672468d07a4fc3a96fa47041b670b8": {
      "model_module": "@jupyter-widgets/controls",
      "model_module_version": "1.5.0",
      "model_name": "BoxModel",
      "state": {
       "children": [
        "IPY_MODEL_c8562f0d8e0549ffb10c0c99bf8d2b24"
       ],
       "layout": "IPY_MODEL_fadcaaf225ff45f0a6e14f59508d50dd"
      }
     },
     "067155a90ef8481b810df01088588554": {
      "model_module": "@jupyter-widgets/controls",
      "model_module_version": "1.5.0",
      "model_name": "ButtonStyleModel",
      "state": {}
     },
     "06a05f5685414ab1892a74c0bd44c635": {
      "model_module": "@jupyter-widgets/controls",
      "model_module_version": "1.5.0",
      "model_name": "ButtonModel",
      "state": {
       "description": "Create copy:",
       "layout": "IPY_MODEL_6dedd44a64bd40879b659150bc882609",
       "style": "IPY_MODEL_1af766e634f043d99008608cd192b646"
      }
     },
     "06a67525b2ac4120baa7cf85d1325805": {
      "model_module": "@jupyter-widgets/controls",
      "model_module_version": "1.5.0",
      "model_name": "HTMLModel",
      "state": {
       "layout": "IPY_MODEL_82fa522f6cc14271b2564947b3fe4c19",
       "style": "IPY_MODEL_8379d33cc85b436d8c8aed70340833cd"
      }
     },
     "06b82b41c35f4afca7d28af95151cf1d": {
      "model_module": "@jupyter-widgets/controls",
      "model_module_version": "1.5.0",
      "model_name": "LabelModel",
      "state": {
       "layout": "IPY_MODEL_4c33b3c70b9a464385efad0dbf597eb0",
       "style": "IPY_MODEL_c20237579b5944258a1e517a7baee93d",
       "value": "Uncertainties"
      }
     },
     "06e12727542147e7855785f2fe9b0610": {
      "model_module": "@jupyter-widgets/controls",
      "model_module_version": "1.5.0",
      "model_name": "DescriptionStyleModel",
      "state": {
       "description_width": ""
      }
     },
     "06e2f1d012aa4fcdabe7fd16357cb270": {
      "model_module": "@jupyter-widgets/controls",
      "model_module_version": "1.5.0",
      "model_name": "VBoxModel",
      "state": {
       "children": [
        "IPY_MODEL_9e5e4c8d75c94fcdb9561ccc6d8721f0",
        "IPY_MODEL_c3996070e66740648d9f7e10e84f752f",
        "IPY_MODEL_1d9635454b2542528d5a46ce7bcee65d",
        "IPY_MODEL_a8cb965d91964d50bc3184caf8760103"
       ],
       "layout": "IPY_MODEL_6e475b682738488191afe115ffe81389"
      }
     },
     "06e891f22de74cf18c0d38847a28dfef": {
      "model_module": "@jupyter-widgets/base",
      "model_module_version": "1.2.0",
      "model_name": "LayoutModel",
      "state": {}
     },
     "070dc511dd5a44fd933f34f594fc899f": {
      "model_module": "@jupyter-widgets/base",
      "model_module_version": "1.2.0",
      "model_name": "LayoutModel",
      "state": {}
     },
     "071bed5a408248939bfffb8f426192e9": {
      "model_module": "@jupyter-widgets/controls",
      "model_module_version": "1.5.0",
      "model_name": "DescriptionStyleModel",
      "state": {
       "description_width": ""
      }
     },
     "0739c5ea06f349ddb9ef81d5d6a2f796": {
      "model_module": "@jupyter-widgets/controls",
      "model_module_version": "1.5.0",
      "model_name": "HTMLModel",
      "state": {
       "layout": "IPY_MODEL_ddaa289c286c4b0e8b135eea72adfbae",
       "style": "IPY_MODEL_ea919d0351734d7d8c4ce90cde1dda20"
      }
     },
     "073e27e4b12242b7818fb38be21b4b08": {
      "model_module": "@jupyter-widgets/controls",
      "model_module_version": "1.5.0",
      "model_name": "ButtonStyleModel",
      "state": {}
     },
     "0761096737cd42398409dd423e04a0ca": {
      "model_module": "@jupyter-widgets/controls",
      "model_module_version": "1.5.0",
      "model_name": "DescriptionStyleModel",
      "state": {
       "description_width": "initial"
      }
     },
     "07a73941b9f141baa2650380d2ec1538": {
      "model_module": "@jupyter-widgets/controls",
      "model_module_version": "1.5.0",
      "model_name": "DescriptionStyleModel",
      "state": {
       "description_width": ""
      }
     },
     "07ac7b1c97b24226be475a8dcd971d9f": {
      "model_module": "@jupyter-widgets/controls",
      "model_module_version": "1.5.0",
      "model_name": "ButtonModel",
      "state": {
       "description": "Create copy:",
       "layout": "IPY_MODEL_b5d3d339b7b14fb9a179463e0042fafb",
       "style": "IPY_MODEL_b62d8c7c4b634a75a7e503909bf72ec3"
      }
     },
     "080ab9f045494e9dbd15ba0df36da401": {
      "model_module": "@jupyter-widgets/controls",
      "model_module_version": "1.5.0",
      "model_name": "ButtonModel",
      "state": {
       "description": "Change",
       "layout": "IPY_MODEL_1e348b761b6548b9b1aa4c55b7ca2a74",
       "style": "IPY_MODEL_7ca24754621845c789d5cd10ef1b7b41"
      }
     },
     "080e56469b734ad3b5dadbf3d5a618e9": {
      "model_module": "@jupyter-widgets/controls",
      "model_module_version": "1.5.0",
      "model_name": "HBoxModel",
      "state": {
       "children": [
        "IPY_MODEL_ad4e4597afe844d087538db880b177b8",
        "IPY_MODEL_ff77a0c8e01d497391aa15eb87c392ac",
        "IPY_MODEL_0d4b43788d444432a66fbe923f824742"
       ],
       "layout": "IPY_MODEL_380981b3c4954b0a8b811a4d09ec6734"
      }
     },
     "082a0c78db6c48a8a53d8f4dbcaf0b6d": {
      "model_module": "@jupyter-widgets/controls",
      "model_module_version": "1.5.0",
      "model_name": "VBoxModel",
      "state": {
       "children": [
        "IPY_MODEL_342a49edf67e40c0836acc39ebf096d8",
        "IPY_MODEL_5ce55855a21d48089fce0ed1e33811f0"
       ],
       "layout": "IPY_MODEL_4184a78caacc4ed9a5e6368f299585a7"
      }
     },
     "082ff4637a394d088a6b6ac422d55e8f": {
      "model_module": "@jupyter-widgets/controls",
      "model_module_version": "1.5.0",
      "model_name": "DescriptionStyleModel",
      "state": {
       "description_width": "initial"
      }
     },
     "08e273caa0f549639b9d69ba5ab16df7": {
      "model_module": "@jupyter-widgets/controls",
      "model_module_version": "1.5.0",
      "model_name": "DropdownModel",
      "state": {
       "_options_labels": [
        "",
        "Airborne_Gxx",
        "Airborne_Gxy",
        "Airborne_Gxz",
        "Airborne_Gyy",
        "Airborne_Gyz",
        "Airborne_Gz",
        "Airborne_Gzz",
        "Airborne_TMI",
        "Ground_Gz"
       ],
       "description": "Channel:",
       "index": 0,
       "layout": "IPY_MODEL_6f7ce94fb4454b408ab6d53be4e026a9",
       "style": "IPY_MODEL_249e667622c64437ac7ba64207f5b404"
      }
     },
     "0957c0d639bf45c78ba11e72d07554cf": {
      "model_module": "@jupyter-widgets/controls",
      "model_module_version": "1.5.0",
      "model_name": "DescriptionStyleModel",
      "state": {
       "description_width": "initial"
      }
     },
     "09a8edb583e44ed6b6f4ded0f5f0abc9": {
      "model_module": "@jupyter-widgets/controls",
      "model_module_version": "1.5.0",
      "model_name": "HBoxModel",
      "state": {
       "children": [
        "IPY_MODEL_bad0e7d5fe9746028ede3aeeb9ac500c",
        "IPY_MODEL_9a0f351da03040b48c528923fe979bd1",
        "IPY_MODEL_06672468d07a4fc3a96fa47041b670b8"
       ],
       "layout": "IPY_MODEL_f67a5aa2fb524281aa47a03079c536d4"
      }
     },
     "09f009c831bf41c98e0ab9e675c153ed": {
      "model_module": "@jupyter-widgets/base",
      "model_module_version": "1.2.0",
      "model_name": "LayoutModel",
      "state": {}
     },
     "0a03c46ee3c74bc2b96d1980dd994561": {
      "model_module": "@jupyter-widgets/controls",
      "model_module_version": "1.5.0",
      "model_name": "VBoxModel",
      "state": {
       "children": [
        "IPY_MODEL_dc9491973d8d4d71a53994c2ee02091f",
        "IPY_MODEL_ba797465ffb94523a1d6b91cf44022f5",
        "IPY_MODEL_4fa1a9a6225943e7ab9c5866ed90ab22"
       ],
       "layout": "IPY_MODEL_02aed942b70a4474a2c54c90d53c06b1"
      }
     },
     "0a2bcdfbe3ee4cee9229905633c23f5a": {
      "model_module": "@jupyter-widgets/base",
      "model_module_version": "1.2.0",
      "model_name": "LayoutModel",
      "state": {}
     },
     "0a2d93a24b9244f28684d60f22c8da8f": {
      "model_module": "@jupyter-widgets/controls",
      "model_module_version": "1.5.0",
      "model_name": "ButtonModel",
      "state": {
       "button_style": "danger",
       "description": "Compute",
       "icon": "check",
       "layout": "IPY_MODEL_3e7d71fdd2754bc88bd2bd19b5f079c9",
       "style": "IPY_MODEL_f0b6f9531dcc4603980bb9541fcb8db8",
       "tooltip": "Run computation"
      }
     },
     "0a3e263ee77c4556bdb2d38237f2a44f": {
      "model_module": "@jupyter-widgets/controls",
      "model_module_version": "1.5.0",
      "model_name": "LabelModel",
      "state": {
       "layout": "IPY_MODEL_14dfdda4866a473885f1be12b3d78d79",
       "style": "IPY_MODEL_112e28739299458a8d25dc2ee8b1b660",
       "value": "Monitoring folder"
      }
     },
     "0a88d236d15e4a74a436148af571dfc8": {
      "model_module": "@jupyter-widgets/controls",
      "model_module_version": "1.5.0",
      "model_name": "FloatSliderModel",
      "state": {
       "continuous_update": false,
       "description": "Azimuth",
       "layout": "IPY_MODEL_ec799a7f13c347b59fb457028a668196",
       "max": 90,
       "min": -90,
       "step": 5,
       "style": "IPY_MODEL_26dba5ec3351453dbfec488e599bdebd"
      }
     },
     "0ae25df45ea0411a9da0f9f23b1560c6": {
      "model_module": "@jupyter-widgets/controls",
      "model_module_version": "1.5.0",
      "model_name": "DescriptionStyleModel",
      "state": {
       "description_width": "initial"
      }
     },
     "0b142fb8d9e3475fbf97c573e7b069e5": {
      "model_module": "@jupyter-widgets/base",
      "model_module_version": "1.2.0",
      "model_name": "LayoutModel",
      "state": {}
     },
     "0b3d4210bfbb4148b8c6d7d4d2075684": {
      "model_module": "@jupyter-widgets/controls",
      "model_module_version": "1.5.0",
      "model_name": "DescriptionStyleModel",
      "state": {
       "description_width": "initial"
      }
     },
     "0b4ea22851164b53a06ac47c1a495d0b": {
      "model_module": "@jupyter-widgets/controls",
      "model_module_version": "1.5.0",
      "model_name": "DropdownModel",
      "state": {
       "description": "Values",
       "index": null,
       "layout": "IPY_MODEL_921862f13c764bf7b90c66022617145f",
       "style": "IPY_MODEL_c3aa9ec53ea24778b02cf73d2ccf11de"
      }
     },
     "0b5ed4698fd94d87add9bf8e3d9c340e": {
      "model_module": "@jupyter-widgets/base",
      "model_module_version": "1.2.0",
      "model_name": "LayoutModel",
      "state": {
       "min_width": "6em",
       "width": "6em"
      }
     },
     "0b6d566a986c4929bb3441b4e0e6c207": {
      "model_module": "@jupyter-widgets/controls",
      "model_module_version": "1.5.0",
      "model_name": "DescriptionStyleModel",
      "state": {
       "description_width": "initial"
      }
     },
     "0b755c608dac4486a5b026aec786177b": {
      "model_module": "@jupyter-widgets/base",
      "model_module_version": "1.2.0",
      "model_name": "LayoutModel",
      "state": {
       "min_width": "6em",
       "width": "6em"
      }
     },
     "0b781dab6b7e4978b37c90c95cc2640b": {
      "model_module": "@jupyter-widgets/base",
      "model_module_version": "1.2.0",
      "model_name": "LayoutModel",
      "state": {
       "grid_area": "dircontent",
       "width": "auto"
      }
     },
     "0b79b898ee824c24bdcfe8f7cc28850b": {
      "model_module": "@jupyter-widgets/base",
      "model_module_version": "1.2.0",
      "model_name": "LayoutModel",
      "state": {}
     },
     "0b7fe960a78140cda83a96385aab7ff4": {
      "model_module": "@jupyter-widgets/controls",
      "model_module_version": "1.5.0",
      "model_name": "VBoxModel",
      "state": {
       "children": [
        "IPY_MODEL_f81f2a26b45e4a95befd73e88b94f1e0",
        "IPY_MODEL_3c6fb4633b1e4c81aca8cc97d18a12b2"
       ],
       "layout": "IPY_MODEL_ad0a0fd09c5d4288a21a580616395eaa"
      }
     },
     "0c3cb85b7ce1421fb5f6021d920bd5dc": {
      "model_module": "@jupyter-widgets/controls",
      "model_module_version": "1.5.0",
      "model_name": "VBoxModel",
      "state": {
       "children": [
        "IPY_MODEL_4c41fb28a6244cf08648d1203d939508",
        "IPY_MODEL_284bf48b21d14597abfa54377f06cc88"
       ],
       "layout": "IPY_MODEL_e00c0a269cd146388a8813e0fe67f7a2"
      }
     },
     "0c805ed805e4450ab6d5587292d8f9cb": {
      "model_module": "@jupyter-widgets/base",
      "model_module_version": "1.2.0",
      "model_name": "LayoutModel",
      "state": {}
     },
     "0ccb01d647e14a6fb230d70ef378e74f": {
      "model_module": "@jupyter-widgets/controls",
      "model_module_version": "1.5.0",
      "model_name": "DescriptionStyleModel",
      "state": {
       "description_width": "initial"
      }
     },
     "0ccb0229a5c24b02900cd03ba2b1a2a1": {
      "model_module": "@jupyter-widgets/controls",
      "model_module_version": "1.5.0",
      "model_name": "VBoxModel",
      "state": {
       "children": [
        "IPY_MODEL_7c00f210a36a480f9207b8988956c7af",
        "IPY_MODEL_bb34c3d5c63e4e79ba0b434f0eed987f",
        "IPY_MODEL_1be57f58bd724b899342ff8915c89a91",
        "IPY_MODEL_5e29910ad5b24fd28ca213bd2bd164f2",
        "IPY_MODEL_544a47e365564281ae5939218c492535"
       ],
       "layout": "IPY_MODEL_fcc324bca3d945349f9c944485e8af7b"
      }
     },
     "0cd1e4d21a534fdda355b5072e57767f": {
      "model_module": "@jupyter-widgets/base",
      "model_module_version": "1.2.0",
      "model_name": "LayoutModel",
      "state": {}
     },
     "0cda8d03f168456c9638040bab72bfa6": {
      "model_module": "@jupyter-widgets/base",
      "model_module_version": "1.2.0",
      "model_name": "LayoutModel",
      "state": {
       "display": "none"
      }
     },
     "0d1c865bf48844bcb4370b456eb1edb8": {
      "model_module": "@jupyter-widgets/base",
      "model_module_version": "1.2.0",
      "model_name": "LayoutModel",
      "state": {}
     },
     "0d1e7c00696a4066adb89a11b12d386f": {
      "model_module": "@jupyter-widgets/controls",
      "model_module_version": "1.5.0",
      "model_name": "VBoxModel",
      "state": {
       "children": [
        "IPY_MODEL_2e3f4d8b52ae47ea960645eff9648f1e",
        "IPY_MODEL_c89ebd0c460e49f98b45ba99913f7269",
        "IPY_MODEL_79c3b81dd8d64fd6b2f1306a49592e8e"
       ],
       "layout": "IPY_MODEL_2ded96b474f0462290b47dd42bc9c773"
      }
     },
     "0d4b43788d444432a66fbe923f824742": {
      "model_module": "@jupyter-widgets/controls",
      "model_module_version": "1.5.0",
      "model_name": "BoxModel",
      "state": {
       "children": [
        "IPY_MODEL_a4c3b291a9414e1c99f0f3c0dc220ba4"
       ],
       "layout": "IPY_MODEL_503a758aabe74de5a8090a970a169cf9"
      }
     },
     "0d57a7306c904e2591cf7e0f2ef4e213": {
      "model_module": "@jupyter-widgets/base",
      "model_module_version": "1.2.0",
      "model_name": "LayoutModel",
      "state": {}
     },
     "0d62cca0e5374256b1aab72d0548ec78": {
      "model_module": "@jupyter-widgets/controls",
      "model_module_version": "1.5.0",
      "model_name": "CheckboxModel",
      "state": {
       "description": "Set Z from topo + offsets",
       "disabled": false,
       "layout": "IPY_MODEL_6a9f25ff806542f680ec2c81b9f57004",
       "style": "IPY_MODEL_88de2591b7bd4a6090a8fc1b7978b0c6",
       "value": true
      }
     },
     "0d89d6fb48bd4933bc64075c30f7c58b": {
      "model_module": "@jupyter-widgets/controls",
      "model_module_version": "1.5.0",
      "model_name": "DescriptionStyleModel",
      "state": {
       "description_width": ""
      }
     },
     "0d8af902f302447faeb93bef3fa57eb0": {
      "model_module": "@jupyter-widgets/base",
      "model_module_version": "1.2.0",
      "model_name": "LayoutModel",
      "state": {
       "overflow": "auto"
      }
     },
     "0de3e68e65ce4af183ad7eb4a29e8b70": {
      "model_module": "@jupyter-widgets/base",
      "model_module_version": "1.2.0",
      "model_name": "LayoutModel",
      "state": {}
     },
     "0e226e769d2b45c896c3ee8e440eea4a": {
      "model_module": "@jupyter-widgets/controls",
      "model_module_version": "1.5.0",
      "model_name": "VBoxModel",
      "state": {
       "children": [
        "IPY_MODEL_cf5ce559a33043eea27e30e2f2c432b1",
        "IPY_MODEL_e1b50678ccd3447a9d36bd2f74a9b6e1"
       ],
       "layout": "IPY_MODEL_facc9470447a44bd9dee2560a80fe471"
      }
     },
     "0e3ac5e69f254331bb3832e52e538521": {
      "model_module": "@jupyter-widgets/controls",
      "model_module_version": "1.5.0",
      "model_name": "DescriptionStyleModel",
      "state": {
       "description_width": "initial"
      }
     },
     "0e56a2170a27459d8af138f3e3b80110": {
      "model_module": "@jupyter-widgets/controls",
      "model_module_version": "1.5.0",
      "model_name": "VBoxModel",
      "state": {
       "children": [
        "IPY_MODEL_34d5da43815148d78c4f33337ab56895",
        "IPY_MODEL_bc4b5cfeee164b24b89dc6517a2058e8"
       ],
       "layout": "IPY_MODEL_d60504bb27644c8ea6130343166b0062"
      }
     },
     "0e5a1900bee44b4fb832ea5c190b922e": {
      "model_module": "@jupyter-widgets/base",
      "model_module_version": "1.2.0",
      "model_name": "LayoutModel",
      "state": {
       "grid_area": "dircontent",
       "width": "auto"
      }
     },
     "0eecd408842f45168ab620edc912b9fe": {
      "model_module": "@jupyter-widgets/controls",
      "model_module_version": "1.5.0",
      "model_name": "DescriptionStyleModel",
      "state": {
       "description_width": "initial"
      }
     },
     "0f38e9a4988942ff9367b1caab66b2fa": {
      "model_module": "@jupyter-widgets/controls",
      "model_module_version": "1.5.0",
      "model_name": "LabelModel",
      "state": {
       "layout": "IPY_MODEL_0c805ed805e4450ab6d5587292d8f9cb",
       "style": "IPY_MODEL_5e93576a5c244d719706f562bf05ae21",
       "value": "Monitoring folder"
      }
     },
     "0f4d6a8ccfe14c05b5ca229c92248f86": {
      "model_module": "@jupyter-widgets/base",
      "model_module_version": "1.2.0",
      "model_name": "LayoutModel",
      "state": {}
     },
     "0f634d00bdb34e5094ebc2a7d8f04c1b": {
      "model_module": "@jupyter-widgets/controls",
      "model_module_version": "1.5.0",
      "model_name": "DescriptionStyleModel",
      "state": {
       "description_width": "initial"
      }
     },
     "0f9e1ba367f249229203cdb68ccf7cb3": {
      "model_module": "@jupyter-widgets/controls",
      "model_module_version": "1.5.0",
      "model_name": "DescriptionStyleModel",
      "state": {
       "description_width": "initial"
      }
     },
     "0f9f200f7da4416c85df85d26457ebf7": {
      "model_module": "@jupyter-widgets/controls",
      "model_module_version": "1.5.0",
      "model_name": "LabelModel",
      "state": {
       "layout": "IPY_MODEL_7ebf90bebf834bd3a63d26e95a863fb5",
       "style": "IPY_MODEL_7b6bb6bd08cb4e0f9411b0808417f70b",
       "value": "Refinement Layers"
      }
     },
     "0fb869f7aa9c44f0bdf2851267570f21": {
      "model_module": "@jupyter-widgets/controls",
      "model_module_version": "1.5.0",
      "model_name": "VBoxModel",
      "state": {
       "children": [
        "IPY_MODEL_2c56d179f29f4464a40ed380aa0239c4",
        "IPY_MODEL_c73e00ff7f614811a9847f4ddc26e18f"
       ],
       "layout": "IPY_MODEL_a915281991634da9ad857deaa6c05915"
      }
     },
     "10055127878e4b3b89970a6032cd15cf": {
      "model_module": "@jupyter-widgets/controls",
      "model_module_version": "1.5.0",
      "model_name": "TextModel",
      "state": {
       "continuous_update": false,
       "description": "Group:",
       "layout": "IPY_MODEL_842f64d82688402ebe035378b49e81ea",
       "style": "IPY_MODEL_0f634d00bdb34e5094ebc2a7d8f04c1b"
      }
     },
     "104bb9089385481e9256a7c1f8c1661e": {
      "model_module": "@jupyter-widgets/controls",
      "model_module_version": "1.5.0",
      "model_name": "HTMLModel",
      "state": {
       "layout": "IPY_MODEL_7fc73235441c45daa788927df9c62f55",
       "placeholder": "",
       "style": "IPY_MODEL_67f2a13c7a06496f9ac0a8d407e323ad",
       "value": "<span style=\"color:orange;\">C:\\Users\\dominiquef\\Documents\\GIT\\mira\\geoapps\\assets\\FlinFlon.geoh5</span>"
      }
     },
     "106621696c344535a3e0f20ec2ad2a16": {
      "model_module": "@jupyter-widgets/controls",
      "model_module_version": "1.5.0",
      "model_name": "DescriptionStyleModel",
      "state": {
       "description_width": ""
      }
     },
     "1077510d8c2148bb82f5ee9fc352b59a": {
      "model_module": "@jupyter-widgets/controls",
      "model_module_version": "1.5.0",
      "model_name": "VBoxModel",
      "state": {
       "children": [
        "IPY_MODEL_2e4b54df3fb84f8fa9266453663fea6d"
       ],
       "layout": "IPY_MODEL_70dc3ca5d65746ba9e69385f3a02d4aa"
      }
     },
     "1096aa7eeaca4f408558a387f5182a0f": {
      "model_module": "@jupyter-widgets/controls",
      "model_module_version": "1.5.0",
      "model_name": "DescriptionStyleModel",
      "state": {
       "description_width": "initial"
      }
     },
     "109e083c0ab641e6a1a3a6d474719c02": {
      "model_module": "@jupyter-widgets/controls",
      "model_module_version": "1.5.0",
      "model_name": "FloatTextModel",
      "state": {
       "description": "Floor:",
       "layout": "IPY_MODEL_0cd1e4d21a534fdda355b5072e57767f",
       "step": null,
       "style": "IPY_MODEL_73343b2f6721465a903e0f6a6c18d897",
       "value": 1
      }
     },
     "10a1f884cd6a4228901b9a30c593b12b": {
      "model_module": "@jupyter-widgets/controls",
      "model_module_version": "1.5.0",
      "model_name": "DescriptionStyleModel",
      "state": {
       "description_width": "initial"
      }
     },
     "10e1354821f6426286365a20bff559e4": {
      "model_module": "@jupyter-widgets/controls",
      "model_module_version": "1.5.0",
      "model_name": "DescriptionStyleModel",
      "state": {
       "description_width": "initial"
      }
     },
     "10f2215b0d234d5ea3aca545660b112c": {
      "model_module": "@jupyter-widgets/controls",
      "model_module_version": "1.5.0",
      "model_name": "ButtonModel",
      "state": {
       "button_style": "danger",
       "description": "Compute",
       "icon": "check",
       "layout": "IPY_MODEL_1871433586c9496a8638ef210584b380",
       "style": "IPY_MODEL_8030c6cf0e0c456ca0803df0e8f833f9",
       "tooltip": "Run computation"
      }
     },
     "10f578a789af43a380971cdf0cb1f839": {
      "model_module": "@jupyter-widgets/base",
      "model_module_version": "1.2.0",
      "model_name": "LayoutModel",
      "state": {
       "grid_area": "dircontent",
       "width": "auto"
      }
     },
     "111764515f7549939037f86da6dcb2bc": {
      "model_module": "@jupyter-widgets/controls",
      "model_module_version": "1.5.0",
      "model_name": "FloatTextModel",
      "state": {
       "description": "Minimum depth (m)",
       "layout": "IPY_MODEL_48aa9195d77342f8a4c8dfe33aa88a1e",
       "step": null,
       "style": "IPY_MODEL_fae4c044312444f69dd79b9a3daebc92",
       "value": 500
      }
     },
     "112b1ce9cbc54b598fd02e6abb8f1460": {
      "model_module": "@jupyter-widgets/controls",
      "model_module_version": "1.5.0",
      "model_name": "ButtonModel",
      "state": {
       "description": "Change",
       "layout": "IPY_MODEL_b7b4f0de13ca4a708cba98e683b7d7da",
       "style": "IPY_MODEL_56c39c47f401417e813f888bf6b5bbc2"
      }
     },
     "112e28739299458a8d25dc2ee8b1b660": {
      "model_module": "@jupyter-widgets/controls",
      "model_module_version": "1.5.0",
      "model_name": "DescriptionStyleModel",
      "state": {
       "description_width": "initial"
      }
     },
     "112e2a1cc5654e25a9282877ebc31a51": {
      "model_module": "@jupyter-widgets/controls",
      "model_module_version": "1.5.0",
      "model_name": "DescriptionStyleModel",
      "state": {
       "description_width": ""
      }
     },
     "116d0e979d6440d7bc6aa98b97622a2f": {
      "model_module": "@jupyter-widgets/base",
      "model_module_version": "1.2.0",
      "model_name": "LayoutModel",
      "state": {
       "display": "none"
      }
     },
     "118c5ceab5a64ab6b3ea35f26d8b7698": {
      "model_module": "@jupyter-widgets/controls",
      "model_module_version": "1.5.0",
      "model_name": "FloatSliderModel",
      "state": {
       "continuous_update": false,
       "description": "Northing",
       "layout": "IPY_MODEL_2c9db897d4ee4672ae5f9c3a6fe1ab3c",
       "max": 6077578.83861151,
       "min": 6063956.600608527,
       "orientation": "vertical",
       "step": 10,
       "style": "IPY_MODEL_dcf63b1b1bde464e985bd239ae9532c1",
       "value": 6072300
      }
     },
     "119735bc5ab848769b8d4f16ba4aa3aa": {
      "model_module": "@jupyter-widgets/controls",
      "model_module_version": "1.5.0",
      "model_name": "DescriptionStyleModel",
      "state": {
       "description_width": "initial"
      }
     },
     "11a5f55bdd74410dbf30fa6ca52e6ec8": {
      "model_module": "@jupyter-widgets/controls",
      "model_module_version": "1.5.0",
      "model_name": "VBoxModel",
      "state": {
       "children": [
        "IPY_MODEL_907f398ab18640efb72843b727fce84e",
        "IPY_MODEL_f6486f2d53b74e79827da55e8d83508c",
        "IPY_MODEL_5ed21c937f7b43748b89ca685a895dfe"
       ],
       "layout": "IPY_MODEL_2ded96b474f0462290b47dd42bc9c773"
      }
     },
     "11b32ce9479d4e3e9e054c9b7c9dd22f": {
      "model_module": "@jupyter-widgets/controls",
      "model_module_version": "1.5.0",
      "model_name": "DescriptionStyleModel",
      "state": {
       "description_width": "initial"
      }
     },
     "11e2f5dce9d94aa2b3237f879b4e52a2": {
      "model_module": "@jupyter-widgets/base",
      "model_module_version": "1.2.0",
      "model_name": "LayoutModel",
      "state": {}
     },
     "120478a06d1441e190a3368c9e8af09f": {
      "model_module": "@jupyter-widgets/base",
      "model_module_version": "1.2.0",
      "model_name": "LayoutModel",
      "state": {}
     },
     "120ff982dea047e4952bc54e5e287965": {
      "model_module": "@jupyter-widgets/base",
      "model_module_version": "1.2.0",
      "model_name": "LayoutModel",
      "state": {}
     },
     "1246753ae889443ba486a05b9f41a612": {
      "model_module": "@jupyter-widgets/base",
      "model_module_version": "1.2.0",
      "model_name": "LayoutModel",
      "state": {}
     },
     "129eb03be77c4b7485f37efa70bad30e": {
      "model_module": "@jupyter-widgets/controls",
      "model_module_version": "1.5.0",
      "model_name": "SelectMultipleModel",
      "state": {
       "_options_labels": [
        "",
        "--- Channels ---",
        "Airborne_Gxx",
        "Airborne_Gxy",
        "Airborne_Gxz",
        "Airborne_Gyy",
        "Airborne_Gyz",
        "Airborne_Gz",
        "Airborne_Gzz",
        "Airborne_TMI",
        "Ground_Gz",
        "X",
        "Y",
        "Z"
       ],
       "description": "Data: ",
       "index": [],
       "layout": "IPY_MODEL_a5f2e187f4454d94a40c93b230285101",
       "rows": 5,
       "style": "IPY_MODEL_daeea7582787473fb8c684a542d967d7"
      }
     },
     "12f47ad7533d4e398ac6e8b6b236354a": {
      "model_module": "@jupyter-widgets/controls",
      "model_module_version": "1.5.0",
      "model_name": "LabelModel",
      "state": {
       "layout": "IPY_MODEL_f93a6a1b671f4aaa8058636b935b5c67",
       "style": "IPY_MODEL_8a74b3ade6a34123a49a57c8bee9021a",
       "value": "Workspace"
      }
     },
     "1324799407ef44c2aae7ca7147f2e253": {
      "model_module": "@jupyter-widgets/controls",
      "model_module_version": "1.5.0",
      "model_name": "BoxModel",
      "state": {
       "children": [
        "IPY_MODEL_e8e90f92a6b94e5388b5d0f46931bca4"
       ],
       "layout": "IPY_MODEL_f284e282967742cc890f7f1691347567"
      }
     },
     "132e941a40a1403c9e7ebc2dc74492db": {
      "model_module": "@jupyter-widgets/controls",
      "model_module_version": "1.5.0",
      "model_name": "LabelModel",
      "state": {
       "layout": "IPY_MODEL_73f3709687fc42f1a13fb182d50ec04d",
       "style": "IPY_MODEL_0e3ac5e69f254331bb3832e52e538521",
       "value": "Monitoring folder"
      }
     },
     "13360b0c879143608607b5e851108eeb": {
      "model_module": "@jupyter-widgets/controls",
      "model_module_version": "1.5.0",
      "model_name": "GridBoxModel",
      "state": {
       "children": [
        "IPY_MODEL_216ccce4f4544e93b6426cc35c9ec700",
        "IPY_MODEL_effbd7b6bfa9485786e42e68e47b270c",
        "IPY_MODEL_753c91d8ea694078a7a25bf1d2f2a302"
       ],
       "layout": "IPY_MODEL_767c6227aef94be296f00313be472f98"
      }
     },
     "134f133643814227b1b89cf67a1f0d7b": {
      "model_module": "@jupyter-widgets/controls",
      "model_module_version": "1.5.0",
      "model_name": "BoxModel",
      "state": {
       "children": [
        "IPY_MODEL_170ffe5dc2854faeb0daf1896da45a2a"
       ],
       "layout": "IPY_MODEL_f57822acc51349ce9416cbe56483a3fe"
      }
     },
     "136e63c58ebb4baf9be45a1603f20d68": {
      "model_module": "@jupyter-widgets/controls",
      "model_module_version": "1.5.0",
      "model_name": "ButtonStyleModel",
      "state": {}
     },
     "138d77fd4fce4c81b77ce68692193133": {
      "model_module": "@jupyter-widgets/controls",
      "model_module_version": "1.5.0",
      "model_name": "LabelModel",
      "state": {
       "layout": "IPY_MODEL_cf66f4d8443b4ff3a47fc674aeb0e9cd",
       "style": "IPY_MODEL_15f8bd8b071342b198320f362f60ad31",
       "value": "Workspace"
      }
     },
     "13e6ba4d9f2143a98fe4ffa13475c094": {
      "model_module": "@jupyter-widgets/base",
      "model_module_version": "1.2.0",
      "model_name": "LayoutModel",
      "state": {}
     },
     "13ee70ed9c9f442fbf2e6e5dd14875e8": {
      "model_module": "@jupyter-widgets/controls",
      "model_module_version": "1.5.0",
      "model_name": "DescriptionStyleModel",
      "state": {
       "description_width": "initial"
      }
     },
     "1438959149bb4b8182d68c03e5360e89": {
      "model_module": "@jupyter-widgets/base",
      "model_module_version": "1.2.0",
      "model_name": "LayoutModel",
      "state": {
       "width": "auto"
      }
     },
     "1460bc2463d9412498ff63956238a11e": {
      "model_module": "@jupyter-widgets/controls",
      "model_module_version": "1.5.0",
      "model_name": "HBoxModel",
      "state": {
       "children": [
        "IPY_MODEL_51a61c877b9f4a9784e9348b8ee78aae",
        "IPY_MODEL_0ccb0229a5c24b02900cd03ba2b1a2a1"
       ],
       "layout": "IPY_MODEL_f9ff448abb7d4e15a1ae286cd678eb9c"
      }
     },
     "1463761cf4e94be9bd050e6ac3bd5c9a": {
      "model_module": "@jupyter-widgets/base",
      "model_module_version": "1.2.0",
      "model_name": "LayoutModel",
      "state": {
       "display": "none"
      }
     },
     "1488076b0c9446558208b2a11c28099a": {
      "model_module": "@jupyter-widgets/controls",
      "model_module_version": "1.5.0",
      "model_name": "ButtonStyleModel",
      "state": {}
     },
     "14a8162c05f9459a8cbf3858675221a8": {
      "model_module": "@jupyter-widgets/controls",
      "model_module_version": "1.5.0",
      "model_name": "VBoxModel",
      "state": {
       "children": [
        "IPY_MODEL_c0041e88dc4649a492c752469e9a39e3",
        "IPY_MODEL_ab5d95370b2c4155ae8a05caf55ee882",
        "IPY_MODEL_5817ca7fd9eb4d7790ecccf2ed235445"
       ],
       "layout": "IPY_MODEL_2ded96b474f0462290b47dd42bc9c773"
      }
     },
     "14b82ab6a26c48e7b254c6cdca5a66df": {
      "model_module": "@jupyter-widgets/base",
      "model_module_version": "1.2.0",
      "model_name": "LayoutModel",
      "state": {}
     },
     "14d5c2fe3e1d4e70932e4b04df84fafc": {
      "model_module": "@jupyter-widgets/base",
      "model_module_version": "1.2.0",
      "model_name": "LayoutModel",
      "state": {}
     },
     "14d8fd77d96c412fb09032956ae813f6": {
      "model_module": "@jupyter-widgets/controls",
      "model_module_version": "1.5.0",
      "model_name": "VBoxModel",
      "state": {
       "children": [
        "IPY_MODEL_553e645ca0e348c4a058faeee9eeb566",
        "IPY_MODEL_9248cef83002432db44d5324134432ab",
        "IPY_MODEL_298d8db88237405794523b48b2715292",
        "IPY_MODEL_01ba40974b4949e6a13f4de1d9e70ec9"
       ],
       "layout": "IPY_MODEL_61d2a81c8d804029ac0d4a7c04b2d51b"
      }
     },
     "14db09552a524caabbccd0e0635422a0": {
      "model_module": "@jupyter-widgets/base",
      "model_module_version": "1.2.0",
      "model_name": "LayoutModel",
      "state": {}
     },
     "14dfdda4866a473885f1be12b3d78d79": {
      "model_module": "@jupyter-widgets/base",
      "model_module_version": "1.2.0",
      "model_name": "LayoutModel",
      "state": {}
     },
     "150a1e6fb581453383080222d0eec3c1": {
      "model_module": "@jupyter-widgets/controls",
      "model_module_version": "1.5.0",
      "model_name": "DescriptionStyleModel",
      "state": {
       "description_width": ""
      }
     },
     "1530648d0bcb4361bb4e16b0d06bafbd": {
      "model_module": "@jupyter-widgets/controls",
      "model_module_version": "1.5.0",
      "model_name": "ButtonStyleModel",
      "state": {}
     },
     "1570c83367be41278e629f83f70aab65": {
      "model_module": "@jupyter-widgets/controls",
      "model_module_version": "1.5.0",
      "model_name": "DescriptionStyleModel",
      "state": {
       "description_width": "initial"
      }
     },
     "15b78f91cad442a69852dde330009d59": {
      "model_module": "@jupyter-widgets/controls",
      "model_module_version": "1.5.0",
      "model_name": "DescriptionStyleModel",
      "state": {
       "description_width": ""
      }
     },
     "15e4b793689845c1bc4ef27a8c5fcf94": {
      "model_module": "@jupyter-widgets/base",
      "model_module_version": "1.2.0",
      "model_name": "LayoutModel",
      "state": {}
     },
     "15f8bd8b071342b198320f362f60ad31": {
      "model_module": "@jupyter-widgets/controls",
      "model_module_version": "1.5.0",
      "model_name": "DescriptionStyleModel",
      "state": {
       "description_width": "initial"
      }
     },
     "16286fa1a55a441385a5dcc92e51953a": {
      "model_module": "@jupyter-widgets/base",
      "model_module_version": "1.2.0",
      "model_name": "LayoutModel",
      "state": {
       "width": "auto"
      }
     },
     "162efe84ebd54cfc8793bab163a16f5a": {
      "model_module": "@jupyter-widgets/base",
      "model_module_version": "1.2.0",
      "model_name": "LayoutModel",
      "state": {}
     },
     "1649a0b08c2247dd841105346ac8444a": {
      "model_module": "@jupyter-widgets/base",
      "model_module_version": "1.2.0",
      "model_name": "LayoutModel",
      "state": {
       "width": "auto"
      }
     },
     "165490a2e0b144d59dedc60bacba00bb": {
      "model_module": "@jupyter-widgets/controls",
      "model_module_version": "1.5.0",
      "model_name": "ButtonStyleModel",
      "state": {}
     },
     "1674bca5c39d4c788a3d30cd100310ec": {
      "model_module": "@jupyter-widgets/controls",
      "model_module_version": "1.5.0",
      "model_name": "RadioButtonsModel",
      "state": {
       "_options_labels": [
        "Constant",
        "Model"
       ],
       "index": 0,
       "layout": "IPY_MODEL_baa753b5c2cd45dc8867b5c304ce660d",
       "style": "IPY_MODEL_42fb945e596d4177bbd3c202349731ba"
      }
     },
     "168c1656984c43568a5d447a3321d1bc": {
      "model_module": "@jupyter-widgets/base",
      "model_module_version": "1.2.0",
      "model_name": "LayoutModel",
      "state": {
       "grid_area": "pathlist",
       "width": "auto"
      }
     },
     "16a2490b2e184b7d804b468b5cf70697": {
      "model_module": "@jupyter-widgets/base",
      "model_module_version": "1.2.0",
      "model_name": "LayoutModel",
      "state": {
       "grid_area": "dircontent",
       "width": "auto"
      }
     },
     "16af47e1e16649fd8fae2dad6fd8f6c8": {
      "model_module": "@jupyter-widgets/controls",
      "model_module_version": "1.5.0",
      "model_name": "DescriptionStyleModel",
      "state": {
       "description_width": "initial"
      }
     },
     "16e49e0bc5b248aa8a4f3f6addbc8435": {
      "model_module": "@jupyter-widgets/controls",
      "model_module_version": "1.5.0",
      "model_name": "DescriptionStyleModel",
      "state": {
       "description_width": ""
      }
     },
     "16f91704f83345e391e3700350b0040e": {
      "model_module": "@jupyter-widgets/controls",
      "model_module_version": "1.5.0",
      "model_name": "DescriptionStyleModel",
      "state": {
       "description_width": "initial"
      }
     },
     "170ffe5dc2854faeb0daf1896da45a2a": {
      "model_module": "@jupyter-widgets/controls",
      "model_module_version": "1.5.0",
      "model_name": "HTMLModel",
      "state": {
       "layout": "IPY_MODEL_d84569cefa5c431ba8788d11f66e27f4",
       "placeholder": "",
       "style": "IPY_MODEL_84fa77905016480d8b35e25236497e69",
       "value": "<span style=\"color:orange;\">C:\\Users\\dominiquef\\Documents\\GIT\\mira\\geoapps\\assets\\FlinFlon.geoh5</span>"
      }
     },
     "17379063000c433eb8acb736ab1895b0": {
      "model_module": "@jupyter-widgets/controls",
      "model_module_version": "1.5.0",
      "model_name": "DropdownModel",
      "state": {
       "_options_labels": [
        "",
        "Airborne_Gxx",
        "Airborne_Gxy",
        "Airborne_Gxz",
        "Airborne_Gyy",
        "Airborne_Gyz",
        "Airborne_Gz",
        "Airborne_Gzz",
        "Airborne_TMI",
        "Ground_Gz"
       ],
       "description": "[Optional] Channel:",
       "index": 0,
       "layout": "IPY_MODEL_8b08a72a8a7c4e6b896cb6cabac3624b",
       "style": "IPY_MODEL_6687c623ed3240bf820958c82d866ce4"
      }
     },
     "1751c25600ac435591a2190c75c19b76": {
      "model_module": "@jupyter-widgets/controls",
      "model_module_version": "1.5.0",
      "model_name": "ButtonStyleModel",
      "state": {}
     },
     "179b6f993e094c5f8f2bd94eb9c7a275": {
      "model_module": "@jupyter-widgets/controls",
      "model_module_version": "1.5.0",
      "model_name": "ButtonStyleModel",
      "state": {}
     },
     "179f131d49b545cc8e502adc676c3a08": {
      "model_module": "@jupyter-widgets/controls",
      "model_module_version": "1.5.0",
      "model_name": "DescriptionStyleModel",
      "state": {
       "description_width": ""
      }
     },
     "179f6b536abd4c9fb6f0e0877507058f": {
      "model_module": "@jupyter-widgets/controls",
      "model_module_version": "1.5.0",
      "model_name": "VBoxModel",
      "state": {
       "children": [
        "IPY_MODEL_393678545b3745b9ac34c4417241d180",
        "IPY_MODEL_82a036ec96ed4e44abe655a6abef90c0"
       ],
       "layout": "IPY_MODEL_5f92066bced548fba7ac6a46dc232a90"
      }
     },
     "17b9d94d6bca4db9967bf18db03ea986": {
      "model_module": "@jupyter-widgets/controls",
      "model_module_version": "1.5.0",
      "model_name": "HBoxModel",
      "state": {
       "children": [
        "IPY_MODEL_cbcbec73aa494b38b8d12fd213ed71ef"
       ],
       "layout": "IPY_MODEL_c055699b93934562bc34a70ab4d8aea9"
      }
     },
     "17cf52fcc64041ffab2a678163c40e51": {
      "model_module": "@jupyter-widgets/controls",
      "model_module_version": "1.5.0",
      "model_name": "DescriptionStyleModel",
      "state": {
       "description_width": "initial"
      }
     },
     "18040c383277420798eba656a1ce8ed0": {
      "model_module": "@jupyter-widgets/base",
      "model_module_version": "1.2.0",
      "model_name": "LayoutModel",
      "state": {
       "min_width": "6em",
       "width": "6em"
      }
     },
     "185729d72a164651a37e78017e7165fd": {
      "model_module": "@jupyter-widgets/controls",
      "model_module_version": "1.5.0",
      "model_name": "IntTextModel",
      "state": {
       "description": "Max CG Iterations",
       "layout": "IPY_MODEL_e114fa2ec0ae4fffbb0bdf50ea845a82",
       "step": 1,
       "style": "IPY_MODEL_ca78c386c50547cf9cc07b4114bb3ef1",
       "value": 30
      }
     },
     "1871433586c9496a8638ef210584b380": {
      "model_module": "@jupyter-widgets/base",
      "model_module_version": "1.2.0",
      "model_name": "LayoutModel",
      "state": {}
     },
     "188a8e9cf57c43608091727b17cf9062": {
      "model_module": "@jupyter-widgets/controls",
      "model_module_version": "1.5.0",
      "model_name": "DescriptionStyleModel",
      "state": {
       "description_width": ""
      }
     },
     "191a1769aeb243c796cd72243c06dc2f": {
      "model_module": "@jupyter-widgets/controls",
      "model_module_version": "1.5.0",
      "model_name": "DescriptionStyleModel",
      "state": {
       "description_width": ""
      }
     },
     "19b82da26ba44c2e9cb3865f567817c6": {
      "model_module": "@jupyter-widgets/controls",
      "model_module_version": "1.5.0",
      "model_name": "DescriptionStyleModel",
      "state": {
       "description_width": "initial"
      }
     },
     "19e26fc6dbc34fa2bbb59b84d6cde843": {
      "model_module": "@jupyter-widgets/base",
      "model_module_version": "1.2.0",
      "model_name": "LayoutModel",
      "state": {
       "grid_area": "pathlist",
       "width": "auto"
      }
     },
     "1a2473678dfe45a1a14651a30b9f69e2": {
      "model_module": "@jupyter-widgets/controls",
      "model_module_version": "1.5.0",
      "model_name": "ButtonStyleModel",
      "state": {}
     },
     "1a61556063964e5794e174d63773d781": {
      "model_module": "@jupyter-widgets/base",
      "model_module_version": "1.2.0",
      "model_name": "LayoutModel",
      "state": {
       "margin": "0 0 0 1em"
      }
     },
     "1a9644ac95c0469ca1fa9cf454e97f4d": {
      "model_module": "@jupyter-widgets/controls",
      "model_module_version": "1.5.0",
      "model_name": "LabelModel",
      "state": {
       "layout": "IPY_MODEL_3f9d87ccaa1c478a9532264bddf6dbc6",
       "style": "IPY_MODEL_24c7fa677f93411fa58b9e6387983aeb",
       "value": "Topography"
      }
     },
     "1a9a774a48eb4ba38593249faab16634": {
      "model_module": "@jupyter-widgets/base",
      "model_module_version": "1.2.0",
      "model_name": "LayoutModel",
      "state": {
       "min_width": "6em",
       "width": "6em"
      }
     },
     "1a9d9b90e47d4799934c515ac172ff6e": {
      "model_module": "@jupyter-widgets/controls",
      "model_module_version": "1.5.0",
      "model_name": "SliderStyleModel",
      "state": {
       "description_width": "initial"
      }
     },
     "1a9edd5c74d14d798c73701182b89d66": {
      "model_module": "@jupyter-widgets/base",
      "model_module_version": "1.2.0",
      "model_name": "LayoutModel",
      "state": {}
     },
     "1adc0804993e4943b6e8247371b85dc1": {
      "model_module": "@jupyter-widgets/controls",
      "model_module_version": "1.5.0",
      "model_name": "BoxModel",
      "state": {
       "children": [
        "IPY_MODEL_3ea1d7f50b2b4f4c90e6ac3ae5529878"
       ],
       "layout": "IPY_MODEL_051126720a034e2dbcf82fdd6790fdff"
      }
     },
     "1ae66c5b653c4287a8840fdc832469a0": {
      "model_module": "@jupyter-widgets/controls",
      "model_module_version": "1.5.0",
      "model_name": "VBoxModel",
      "state": {
       "children": [
        "IPY_MODEL_659da161bef9483ea448bc73c1977bc7",
        "IPY_MODEL_9b8a4cfc42e74fcf99f03da5152d21ca"
       ],
       "layout": "IPY_MODEL_425d18afe550461390d3e18dcad14d4b"
      }
     },
     "1af766e634f043d99008608cd192b646": {
      "model_module": "@jupyter-widgets/controls",
      "model_module_version": "1.5.0",
      "model_name": "ButtonStyleModel",
      "state": {}
     },
     "1b00d1c056dd4528b89582dd9d5d52d9": {
      "model_module": "@jupyter-widgets/base",
      "model_module_version": "1.2.0",
      "model_name": "LayoutModel",
      "state": {
       "margin": "0 0 0 1em"
      }
     },
     "1b2caca1aca541caae1a68bb70217de0": {
      "model_module": "@jupyter-widgets/base",
      "model_module_version": "1.2.0",
      "model_name": "LayoutModel",
      "state": {}
     },
     "1b88bd034d204380aacaa7f889b459b8": {
      "model_module": "@jupyter-widgets/base",
      "model_module_version": "1.2.0",
      "model_name": "LayoutModel",
      "state": {
       "min_width": "6em",
       "width": "6em"
      }
     },
     "1b9e1e35590b46ccab61fc24062508c4": {
      "model_module": "@jupyter-widgets/controls",
      "model_module_version": "1.5.0",
      "model_name": "DescriptionStyleModel",
      "state": {
       "description_width": "initial"
      }
     },
     "1bac95a5c2a64d7bbaf8b077c538f561": {
      "model_module": "@jupyter-widgets/base",
      "model_module_version": "1.2.0",
      "model_name": "LayoutModel",
      "state": {
       "display": "none"
      }
     },
     "1bcd0a0d4057407c8ff4a333fc971fee": {
      "model_module": "@jupyter-widgets/controls",
      "model_module_version": "1.5.0",
      "model_name": "HTMLModel",
      "state": {
       "layout": "IPY_MODEL_bca4415ff5674aa0a7b4811412f384c4",
       "placeholder": "",
       "style": "IPY_MODEL_f8939da1b95f45e5afebb56c0c61cef0",
       "value": "<span style=\"color:green;\">C:\\Users\\dominiquef\\Documents\\GIT\\mira\\geoapps\\assets\\Temp\\</span>"
      }
     },
     "1bd45a03481b432999ad10ef6b1e3424": {
      "model_module": "@jupyter-widgets/controls",
      "model_module_version": "1.5.0",
      "model_name": "BoxModel",
      "state": {
       "children": [
        "IPY_MODEL_f4bdadb3a19340d7852d0b64095f6309"
       ],
       "layout": "IPY_MODEL_d881d454a8a14113b94150e6d644e020"
      }
     },
     "1be57f58bd724b899342ff8915c89a91": {
      "model_module": "@jupyter-widgets/controls",
      "model_module_version": "1.5.0",
      "model_name": "FloatTextModel",
      "state": {
       "layout": "IPY_MODEL_2e8f04b82a7643cd9b7bc06844ae5a00",
       "step": null,
       "style": "IPY_MODEL_41296c387dcf4f54b0a7edddc5786166",
       "value": 2
      }
     },
     "1c375389aedb4e97a88ab01c2de8a239": {
      "model_module": "@jupyter-widgets/base",
      "model_module_version": "1.2.0",
      "model_name": "LayoutModel",
      "state": {
       "grid_area": "pathlist",
       "width": "auto"
      }
     },
     "1c39541a67a54f30823b0829aa95c573": {
      "model_module": "@jupyter-widgets/base",
      "model_module_version": "1.2.0",
      "model_name": "LayoutModel",
      "state": {
       "grid_area": "dircontent",
       "width": "auto"
      }
     },
     "1c68aa03e25a4d8fb0cce38e43c41541": {
      "model_module": "@jupyter-widgets/controls",
      "model_module_version": "1.5.0",
      "model_name": "DescriptionStyleModel",
      "state": {
       "description_width": "initial"
      }
     },
     "1c6ef155a3774d4dab5237ed3f8495b9": {
      "model_module": "@jupyter-widgets/base",
      "model_module_version": "1.2.0",
      "model_name": "LayoutModel",
      "state": {
       "align_items": "center"
      }
     },
     "1ca18da6649940389cfafc1e8a8a6838": {
      "model_module": "@jupyter-widgets/controls",
      "model_module_version": "1.5.0",
      "model_name": "VBoxModel",
      "state": {
       "children": [
        "IPY_MODEL_3bd01018c557432bbadb4ba9a6e87d94",
        "IPY_MODEL_df9b2e70e3d2481db3e79cdf322e3ec6"
       ],
       "layout": "IPY_MODEL_eeb594d725414ef992ad57a4b6780dc5"
      }
     },
     "1cab13f61df344db86090d17ff49c7b8": {
      "model_module": "@jupyter-widgets/base",
      "model_module_version": "1.2.0",
      "model_name": "LayoutModel",
      "state": {
       "margin": "0 0 0 1em"
      }
     },
     "1cace8bc98e24ddf8f18b94d0cd96213": {
      "model_module": "@jupyter-widgets/controls",
      "model_module_version": "1.5.0",
      "model_name": "DescriptionStyleModel",
      "state": {
       "description_width": "initial"
      }
     },
     "1cc30e5afac749108a00e85b1a36a359": {
      "model_module": "@jupyter-widgets/controls",
      "model_module_version": "1.5.0",
      "model_name": "ButtonModel",
      "state": {
       "description": "Cancel",
       "layout": "IPY_MODEL_4893e8a32a654dd5bba490ca362ff142",
       "style": "IPY_MODEL_7275f66150c14eba8be4f5d6b9b8c896"
      }
     },
     "1ccfd49821a347acbe130086a35c4bd5": {
      "model_module": "@jupyter-widgets/controls",
      "model_module_version": "1.5.0",
      "model_name": "DescriptionStyleModel",
      "state": {
       "description_width": "initial"
      }
     },
     "1d2bbbac5d0245e1a0c9ed7ed2a17be5": {
      "model_module": "@jupyter-widgets/controls",
      "model_module_version": "1.5.0",
      "model_name": "DescriptionStyleModel",
      "state": {
       "description_width": ""
      }
     },
     "1d4329ef10f0494d9672c8cc9a54a12d": {
      "model_module": "@jupyter-widgets/base",
      "model_module_version": "1.2.0",
      "model_name": "LayoutModel",
      "state": {}
     },
     "1d450f21666c48e49184ac441fff4aef": {
      "model_module": "@jupyter-widgets/base",
      "model_module_version": "1.2.0",
      "model_name": "LayoutModel",
      "state": {}
     },
     "1d4fadd6b1a14d099a8bfdbe82ae7f07": {
      "model_module": "@jupyter-widgets/controls",
      "model_module_version": "1.5.0",
      "model_name": "DescriptionStyleModel",
      "state": {
       "description_width": "initial"
      }
     },
     "1d55e243433e419bbb6c2fecada11dc7": {
      "model_module": "@jupyter-widgets/controls",
      "model_module_version": "1.5.0",
      "model_name": "VBoxModel",
      "state": {
       "children": [
        "IPY_MODEL_cb23cdb101264f1c9e131ee88c7f5969",
        "IPY_MODEL_4732cec64e1447c28ea614b457714ef9",
        "IPY_MODEL_080e56469b734ad3b5dadbf3d5a618e9"
       ],
       "layout": "IPY_MODEL_2ded96b474f0462290b47dd42bc9c773"
      }
     },
     "1d6c7275bfe6429b94a1a745cf5925dc": {
      "model_module": "@jupyter-widgets/controls",
      "model_module_version": "1.5.0",
      "model_name": "ButtonModel",
      "state": {
       "description": "Cancel",
       "layout": "IPY_MODEL_f8ea9726a3e347f49318e70721f11e45",
       "style": "IPY_MODEL_2c9ab1dafa9143d1ae387bbd6b0c001f"
      }
     },
     "1d8cc6c331c148938d5fa015f0c48c80": {
      "model_module": "@jupyter-widgets/base",
      "model_module_version": "1.2.0",
      "model_name": "LayoutModel",
      "state": {}
     },
     "1d954e10e0c24db6945d2710a57b0a65": {
      "model_module": "@jupyter-widgets/controls",
      "model_module_version": "1.5.0",
      "model_name": "ButtonModel",
      "state": {
       "description": "Cancel",
       "layout": "IPY_MODEL_e7272625e9594bab93c3b6935474afbd",
       "style": "IPY_MODEL_52bb81a43e3945c1999ea613c3b30856"
      }
     },
     "1d9635454b2542528d5a46ce7bcee65d": {
      "model_module": "@jupyter-widgets/controls",
      "model_module_version": "1.5.0",
      "model_name": "LabelModel",
      "state": {
       "layout": "IPY_MODEL_e589b5ccbb8d48b38e63ece7d519f220",
       "style": "IPY_MODEL_61590203844947d3bd258bf6a9961356",
       "value": "Uncertainties"
      }
     },
     "1dad2d96279e46728241f90efa2e871c": {
      "model_module": "@jupyter-widgets/controls",
      "model_module_version": "1.5.0",
      "model_name": "VBoxModel",
      "state": {
       "children": [
        "IPY_MODEL_40b14cf5761a484f8b132f2de98e9a2d",
        "IPY_MODEL_92d1395d246e4de49921ea2876fd20ba"
       ],
       "layout": "IPY_MODEL_b299279f8be64e46acb8aa50878cecec"
      }
     },
     "1dc10b92ad494a4eb686f7369be010d9": {
      "model_module": "@jupyter-widgets/controls",
      "model_module_version": "1.5.0",
      "model_name": "DescriptionStyleModel",
      "state": {
       "description_width": ""
      }
     },
     "1de6183924214fd0b1bdf2e54a274f33": {
      "model_module": "@jupyter-widgets/controls",
      "model_module_version": "1.5.0",
      "model_name": "ButtonModel",
      "state": {
       "description": "Cancel",
       "layout": "IPY_MODEL_65e4cbfc3f34482192050ac258d6a836",
       "style": "IPY_MODEL_77357158003644cdbdc07e2d695b7bb5"
      }
     },
     "1e348b761b6548b9b1aa4c55b7ca2a74": {
      "model_module": "@jupyter-widgets/base",
      "model_module_version": "1.2.0",
      "model_name": "LayoutModel",
      "state": {
       "min_width": "6em",
       "width": "6em"
      }
     },
     "1e42175f692946f7b835c180cf123041": {
      "model_module": "@jupyter-widgets/controls",
      "model_module_version": "1.5.0",
      "model_name": "DescriptionStyleModel",
      "state": {
       "description_width": ""
      }
     },
     "1e5b071fa31f47218101e16a8bbab30a": {
      "model_module": "@jupyter-widgets/controls",
      "model_module_version": "1.5.0",
      "model_name": "DescriptionStyleModel",
      "state": {
       "description_width": ""
      }
     },
     "1ef23875f4704e059edb6fbaf91f168e": {
      "model_module": "@jupyter-widgets/controls",
      "model_module_version": "1.5.0",
      "model_name": "DropdownModel",
      "state": {
       "description": "Values",
       "index": null,
       "layout": "IPY_MODEL_0a2bcdfbe3ee4cee9229905633c23f5a",
       "style": "IPY_MODEL_90bc191977fe4e6fa9f0fe890ddd31d7"
      }
     },
     "1ef30c258ac341a689063104000005b5": {
      "model_module": "@jupyter-widgets/controls",
      "model_module_version": "1.5.0",
      "model_name": "CheckboxModel",
      "state": {
       "description": "Geoscience ANALYST Pro - Live link",
       "disabled": false,
       "indent": false,
       "layout": "IPY_MODEL_d9d8554aff3e472093974bdda2abffed",
       "style": "IPY_MODEL_3c6a444c53c240f79e1fb215dc74d66b",
       "value": false
      }
     },
     "1f082c27378543388cc7403fa011eef3": {
      "model_module": "@jupyter-widgets/controls",
      "model_module_version": "1.5.0",
      "model_name": "DescriptionStyleModel",
      "state": {
       "description_width": ""
      }
     },
     "1f28045613a441f8b7d54e793fc9ec49": {
      "model_module": "@jupyter-widgets/controls",
      "model_module_version": "1.5.0",
      "model_name": "DescriptionStyleModel",
      "state": {
       "description_width": "initial"
      }
     },
     "1f30fd70535c457c89dcfae323bba6a7": {
      "model_module": "@jupyter-widgets/base",
      "model_module_version": "1.2.0",
      "model_name": "LayoutModel",
      "state": {
       "grid_area": "pathlist",
       "width": "auto"
      }
     },
     "1f42e98dfe26497f9c83b8544d709929": {
      "model_module": "@jupyter-widgets/controls",
      "model_module_version": "1.5.0",
      "model_name": "VBoxModel",
      "state": {
       "children": [
        "IPY_MODEL_926a07d96176401aa9ab0262ac6c0d77",
        "IPY_MODEL_13360b0c879143608607b5e851108eeb",
        "IPY_MODEL_9399c25bb068487c8dea6d4cb5041b26"
       ],
       "layout": "IPY_MODEL_2ded96b474f0462290b47dd42bc9c773"
      }
     },
     "1f51ade9c95a481fa06c781061467fc6": {
      "model_module": "@jupyter-widgets/controls",
      "model_module_version": "1.5.0",
      "model_name": "SelectModel",
      "state": {
       "_options_labels": [
        "📁 ..",
        "📁 SimPEG_PFInversion",
        "📁 Temp"
       ],
       "index": null,
       "layout": "IPY_MODEL_5a9b713f5f1f44039211c3ca6ae4c5fd",
       "rows": 8,
       "style": "IPY_MODEL_06e12727542147e7855785f2fe9b0610"
      }
     },
     "1f64b06936fa499a8a2d2ebca6f08443": {
      "model_module": "@jupyter-widgets/controls",
      "model_module_version": "1.5.0",
      "model_name": "DescriptionStyleModel",
      "state": {
       "description_width": "initial"
      }
     },
     "1fafc176179c45ca9c20b49f864ad2fa": {
      "model_module": "@jupyter-widgets/controls",
      "model_module_version": "1.5.0",
      "model_name": "ButtonStyleModel",
      "state": {}
     },
     "1fb0ea2245ee4aa2847cd56c213d9487": {
      "model_module": "@jupyter-widgets/controls",
      "model_module_version": "1.5.0",
      "model_name": "DescriptionStyleModel",
      "state": {
       "description_width": "initial"
      }
     },
     "1fd31f656448425f949ee7828977d948": {
      "model_module": "@jupyter-widgets/controls",
      "model_module_version": "1.5.0",
      "model_name": "ButtonModel",
      "state": {
       "button_style": "danger",
       "description": "Compute",
       "icon": "check",
       "layout": "IPY_MODEL_fa9f3b9854614f788ff7e427185929f1",
       "style": "IPY_MODEL_5f4c8167306d4066b91345f4a0b273fd",
       "tooltip": "Run computation"
      }
     },
     "1fe042cc587b41f9be56abd48cf5aaf3": {
      "model_module": "@jupyter-widgets/controls",
      "model_module_version": "1.5.0",
      "model_name": "DescriptionStyleModel",
      "state": {
       "description_width": "initial"
      }
     },
     "20635ae11ad7425b8a134340058f0536": {
      "model_module": "@jupyter-widgets/controls",
      "model_module_version": "1.5.0",
      "model_name": "DescriptionStyleModel",
      "state": {
       "description_width": "initial"
      }
     },
     "2081d309798d45c790d1a1bde2b10287": {
      "model_module": "@jupyter-widgets/controls",
      "model_module_version": "1.5.0",
      "model_name": "DescriptionStyleModel",
      "state": {
       "description_width": "initial"
      }
     },
     "209f9fc73dc84296a07ce5aecdf23df6": {
      "model_module": "@jupyter-widgets/controls",
      "model_module_version": "1.5.0",
      "model_name": "DescriptionStyleModel",
      "state": {
       "description_width": "initial"
      }
     },
     "20aa074a0e604bf397d0329f6e709e52": {
      "model_module": "@jupyter-widgets/controls",
      "model_module_version": "1.5.0",
      "model_name": "CheckboxModel",
      "state": {
       "description": "Active",
       "disabled": false,
       "indent": false,
       "layout": "IPY_MODEL_9297fc30ab75421bbf4dc7ce05e46f1b",
       "style": "IPY_MODEL_eff42ee696a14c179b0e8ced58e3e84e",
       "value": false
      }
     },
     "20d83cd531d44ad89d3febb4cbd70bae": {
      "model_module": "@jupyter-widgets/controls",
      "model_module_version": "1.5.0",
      "model_name": "VBoxModel",
      "state": {
       "children": [
        "IPY_MODEL_efb599f3491f4f3fa16eeeff1af3c93e",
        "IPY_MODEL_333384d7b61c423d807950bcf9f943a9"
       ],
       "layout": "IPY_MODEL_6ae2319a2e70415dbb514c51246ac2c5"
      }
     },
     "20f7b32963d848c483046bee4c0f6393": {
      "model_module": "@jupyter-widgets/controls",
      "model_module_version": "1.5.0",
      "model_name": "ToggleButtonModel",
      "state": {
       "layout": "IPY_MODEL_dd3f909f817b4d8e8a39facb65647e21",
       "style": "IPY_MODEL_3a3318cac64c46f3988d1c8c2b3628ea"
      }
     },
     "2168a98c91b04bda8740f4b33f5518c7": {
      "model_module": "@jupyter-widgets/controls",
      "model_module_version": "1.5.0",
      "model_name": "HBoxModel",
      "state": {
       "children": [
        "IPY_MODEL_118c5ceab5a64ab6b3ea35f26d8b7698",
        "IPY_MODEL_626c1878706343d594baed5e460b2df6",
        "IPY_MODEL_5952ca8f7bf84568a7672e56aff1a113"
       ],
       "layout": "IPY_MODEL_1c6ef155a3774d4dab5237ed3f8495b9"
      }
     },
     "216ccce4f4544e93b6426cc35c9ec700": {
      "model_module": "@jupyter-widgets/controls",
      "model_module_version": "1.5.0",
      "model_name": "DropdownModel",
      "state": {
       "_options_labels": [
        "C:\\Users\\dominiquef\\Documents\\GIT\\mira\\geoapps\\assets\\Temp",
        "C:\\Users\\dominiquef\\Documents\\GIT\\mira\\geoapps\\assets",
        "C:\\Users\\dominiquef\\Documents\\GIT\\mira\\geoapps",
        "C:\\Users\\dominiquef\\Documents\\GIT\\mira",
        "C:\\Users\\dominiquef\\Documents\\GIT",
        "C:\\Users\\dominiquef\\Documents",
        "C:\\Users\\dominiquef",
        "C:\\Users",
        "C:\\",
        "G:\\",
        "\\\\EgnyteDrive\\mirageoscience\\",
        "D:\\"
       ],
       "index": 0,
       "layout": "IPY_MODEL_7dc667fac7704e6182e458ee779af5fe",
       "style": "IPY_MODEL_9708c115757b40ec90f4618a2edc5c7c"
      }
     },
     "218aee5e22ff4364886b80955f1b1503": {
      "model_module": "@jupyter-widgets/base",
      "model_module_version": "1.2.0",
      "model_name": "LayoutModel",
      "state": {}
     },
     "21bf3e59f7b841ab9024029f1cb0688d": {
      "model_module": "@jupyter-widgets/base",
      "model_module_version": "1.2.0",
      "model_name": "LayoutModel",
      "state": {}
     },
     "21c1fb8a79784afd83bd607bf45b7656": {
      "model_module": "@jupyter-widgets/controls",
      "model_module_version": "1.5.0",
      "model_name": "FloatTextModel",
      "state": {
       "description": "Inclination (d.dd)",
       "layout": "IPY_MODEL_c2ffe80aecda488db902a2f171f91480",
       "step": null,
       "style": "IPY_MODEL_f45e067910d746cebe1dca13eb62440b",
       "value": 79
      }
     },
     "21ffce96396545399f32953e51357ce4": {
      "model_module": "@jupyter-widgets/controls",
      "model_module_version": "1.5.0",
      "model_name": "TextModel",
      "state": {
       "continuous_update": false,
       "description": "Group:",
       "layout": "IPY_MODEL_364def651b7c43a98b80178de0d03286",
       "style": "IPY_MODEL_1cace8bc98e24ddf8f18b94d0cd96213"
      }
     },
     "2257235934084ce686148475a50cbd44": {
      "model_module": "@jupyter-widgets/base",
      "model_module_version": "1.2.0",
      "model_name": "LayoutModel",
      "state": {}
     },
     "227793c71ae24127a2cfce4baab23e3d": {
      "model_module": "@jupyter-widgets/controls",
      "model_module_version": "1.5.0",
      "model_name": "ButtonStyleModel",
      "state": {}
     },
     "227a465794ae4575b750fa6d8acee29a": {
      "model_module": "@jupyter-widgets/controls",
      "model_module_version": "1.5.0",
      "model_name": "SliderStyleModel",
      "state": {
       "description_width": ""
      }
     },
     "228ee294ad524e368349da113a6b715d": {
      "model_module": "@jupyter-widgets/base",
      "model_module_version": "1.2.0",
      "model_name": "LayoutModel",
      "state": {}
     },
     "22921659a3a3424a895bcab77a881c06": {
      "model_module": "@jupyter-widgets/controls",
      "model_module_version": "1.5.0",
      "model_name": "BoxModel",
      "state": {
       "children": [
        "IPY_MODEL_c411310172eb4601880fc556cfaf1a64"
       ],
       "layout": "IPY_MODEL_8776831bfab348178908651028409570"
      }
     },
     "2296baa83d5940f1bc042e119b6846c2": {
      "model_module": "@jupyter-widgets/controls",
      "model_module_version": "1.5.0",
      "model_name": "DescriptionStyleModel",
      "state": {
       "description_width": "initial"
      }
     },
     "22d11b754a154349b3f1379fc4928d83": {
      "model_module": "@jupyter-widgets/base",
      "model_module_version": "1.2.0",
      "model_name": "LayoutModel",
      "state": {
       "display": "none"
      }
     },
     "2307d256b53c43c180a0e5d5456a9184": {
      "model_module": "@jupyter-widgets/controls",
      "model_module_version": "1.5.0",
      "model_name": "DescriptionStyleModel",
      "state": {
       "description_width": "initial"
      }
     },
     "230c13e5500f40899d8a6b4f824e35c1": {
      "model_module": "@jupyter-widgets/controls",
      "model_module_version": "1.5.0",
      "model_name": "DescriptionStyleModel",
      "state": {
       "description_width": ""
      }
     },
     "2317fc5bcda24e08be280ddacb845569": {
      "model_module": "@jupyter-widgets/base",
      "model_module_version": "1.2.0",
      "model_name": "LayoutModel",
      "state": {}
     },
     "23230901a9b848b6acbb9f10a2355da5": {
      "model_module": "@jupyter-widgets/base",
      "model_module_version": "1.2.0",
      "model_name": "LayoutModel",
      "state": {}
     },
     "234992f21bd9402cbaf3e6da1f8438a5": {
      "model_module": "@jupyter-widgets/controls",
      "model_module_version": "1.5.0",
      "model_name": "DescriptionStyleModel",
      "state": {
       "description_width": "initial"
      }
     },
     "23659ec017a14a46851b3205d2319604": {
      "model_module": "@jupyter-widgets/controls",
      "model_module_version": "1.5.0",
      "model_name": "DescriptionStyleModel",
      "state": {
       "description_width": ""
      }
     },
     "23783babfb3a49219bd3640f82fd6c34": {
      "model_module": "@jupyter-widgets/controls",
      "model_module_version": "1.5.0",
      "model_name": "LabelModel",
      "state": {
       "layout": "IPY_MODEL_ae4a9a0a35f14f0889d3f42c3b50bacf",
       "style": "IPY_MODEL_c80a8b757d8d430d9f4a0d5e1cc9a28b"
      }
     },
     "239da1cadef64a0cb30e4d1a8ac371ca": {
      "model_module": "@jupyter-widgets/controls",
      "model_module_version": "1.5.0",
      "model_name": "DescriptionStyleModel",
      "state": {
       "description_width": ""
      }
     },
     "23bc91b53e134c4389289c241386e101": {
      "model_module": "@jupyter-widgets/controls",
      "model_module_version": "1.5.0",
      "model_name": "VBoxModel",
      "state": {
       "children": [
        "IPY_MODEL_3f37bc7386b84d14826a052d18407dbb",
        "IPY_MODEL_5ec15fc0dd56463ea7c8b16f3411e6de"
       ],
       "layout": "IPY_MODEL_2fa6554a4981469d8408cc29ab748e75"
      }
     },
     "23f3cb5a85344573bc4c5ddce85749ae": {
      "model_module": "@jupyter-widgets/controls",
      "model_module_version": "1.5.0",
      "model_name": "ButtonStyleModel",
      "state": {}
     },
     "2404f2cdbd464a21b6a16d1d45dc84fb": {
      "model_module": "@jupyter-widgets/controls",
      "model_module_version": "1.5.0",
      "model_name": "TextModel",
      "state": {
       "disabled": true,
       "layout": "IPY_MODEL_3b90fc788e9243b08eac701b33ee876a",
       "placeholder": "output filename",
       "style": "IPY_MODEL_0354ab92d5ec485192784869f8603d8d"
      }
     },
     "242a4563b16b477081b0df4cd69b7890": {
      "model_module": "@jupyter-widgets/base",
      "model_module_version": "1.2.0",
      "model_name": "LayoutModel",
      "state": {}
     },
     "2443a2e8949d44a19f95c70056893391": {
      "model_module": "@jupyter-widgets/base",
      "model_module_version": "1.2.0",
      "model_name": "LayoutModel",
      "state": {}
     },
     "244c9a30b2c14e1ea6b55f4763abc701": {
      "model_module": "@jupyter-widgets/controls",
      "model_module_version": "1.5.0",
      "model_name": "DescriptionStyleModel",
      "state": {
       "description_width": ""
      }
     },
     "244d10cf7dce47d69db6903851a78894": {
      "model_module": "@jupyter-widgets/controls",
      "model_module_version": "1.5.0",
      "model_name": "ButtonModel",
      "state": {
       "description": "Create copy:",
       "layout": "IPY_MODEL_09f009c831bf41c98e0ab9e675c153ed",
       "style": "IPY_MODEL_e18b2a2251334a178513a3718ecbc2ac"
      }
     },
     "246f0f946ec643db86d71cf3d37043c8": {
      "model_module": "@jupyter-widgets/controls",
      "model_module_version": "1.5.0",
      "model_name": "DescriptionStyleModel",
      "state": {
       "description_width": "initial"
      }
     },
     "249a860984c349a293688104253c93bb": {
      "model_module": "@jupyter-widgets/controls",
      "model_module_version": "1.5.0",
      "model_name": "DescriptionStyleModel",
      "state": {
       "description_width": "initial"
      }
     },
     "249e667622c64437ac7ba64207f5b404": {
      "model_module": "@jupyter-widgets/controls",
      "model_module_version": "1.5.0",
      "model_name": "DescriptionStyleModel",
      "state": {
       "description_width": "initial"
      }
     },
     "24a77b0ee09e417ea05798ae94bf3aea": {
      "model_module": "@jupyter-widgets/controls",
      "model_module_version": "1.5.0",
      "model_name": "VBoxModel",
      "state": {
       "children": [
        "IPY_MODEL_65020fa5a3ca4fc09b5cca7a88fdee74",
        "IPY_MODEL_fcd173f6eb8243108115c30a03c41fbe"
       ],
       "layout": "IPY_MODEL_25536b05e61d4e7693ee29a87b103be8"
      }
     },
     "24c7fa677f93411fa58b9e6387983aeb": {
      "model_module": "@jupyter-widgets/controls",
      "model_module_version": "1.5.0",
      "model_name": "DescriptionStyleModel",
      "state": {
       "description_width": ""
      }
     },
     "24cf633c520943c48bd94ee120a6aa41": {
      "model_module": "@jupyter-widgets/base",
      "model_module_version": "1.2.0",
      "model_name": "LayoutModel",
      "state": {}
     },
     "25321a1a708440c8a462f501ba8944ef": {
      "model_module": "@jupyter-widgets/controls",
      "model_module_version": "1.5.0",
      "model_name": "DescriptionStyleModel",
      "state": {
       "description_width": "initial"
      }
     },
     "25437404f0b446fbb1248e1f5419e6fd": {
      "model_module": "@jupyter-widgets/controls",
      "model_module_version": "1.5.0",
      "model_name": "VBoxModel",
      "state": {
       "children": [
        "IPY_MODEL_735744acec87454f891879ed18d7f62e",
        "IPY_MODEL_8e0518ea856b45bd8c73cfa785301397"
       ],
       "layout": "IPY_MODEL_8823dbb83228427ca218846e77c47c72"
      }
     },
     "254d05da2d6d4ec2a38fee0fc4a9d689": {
      "model_module": "@jupyter-widgets/controls",
      "model_module_version": "1.5.0",
      "model_name": "FloatTextModel",
      "state": {
       "layout": "IPY_MODEL_cb98124632614ba2b1907043830cc052",
       "step": null,
       "style": "IPY_MODEL_041cc6057cfd4575bd3cc9b724ac9c12",
       "value": 25
      }
     },
     "254ff1fb3f724a0599c01729c9323dc4": {
      "model_module": "@jupyter-widgets/base",
      "model_module_version": "1.2.0",
      "model_name": "LayoutModel",
      "state": {
       "display": "none"
      }
     },
     "25536b05e61d4e7693ee29a87b103be8": {
      "model_module": "@jupyter-widgets/base",
      "model_module_version": "1.2.0",
      "model_name": "LayoutModel",
      "state": {}
     },
     "2592e018e5a84317b772e1ca4220fd32": {
      "model_module": "@jupyter-widgets/controls",
      "model_module_version": "1.5.0",
      "model_name": "DropdownModel",
      "state": {
       "_options_labels": [
        "",
        "Airborne_Gxx",
        "Airborne_Gxy",
        "Airborne_Gxz",
        "Airborne_Gyy",
        "Airborne_Gyz",
        "Airborne_Gz",
        "Airborne_Gzz",
        "Airborne_TMI",
        "Ground_Gz"
       ],
       "description": "[Optional] Channel:",
       "index": 0,
       "layout": "IPY_MODEL_9d511d3466b94964bab929b8cdbe5587",
       "style": "IPY_MODEL_1fe042cc587b41f9be56abd48cf5aaf3"
      }
     },
     "25b54324263e4dd1a9275eccad085ead": {
      "model_module": "@jupyter-widgets/controls",
      "model_module_version": "1.5.0",
      "model_name": "LabelModel",
      "state": {
       "layout": "IPY_MODEL_fe58581669a945b4b505544414d0032d",
       "style": "IPY_MODEL_ea1d5a7cfc794e76a3869a12dc838881",
       "value": "Workspace"
      }
     },
     "25c07841427942249ffb7580f5e61863": {
      "model_module": "@jupyter-widgets/controls",
      "model_module_version": "1.5.0",
      "model_name": "HTMLModel",
      "state": {
       "layout": "IPY_MODEL_1bac95a5c2a64d7bbaf8b077c538f561",
       "style": "IPY_MODEL_90703bca3a794e778348e575169e4758"
      }
     },
     "25d246111d134e709838fed478d05a7b": {
      "model_module": "@jupyter-widgets/base",
      "model_module_version": "1.2.0",
      "model_name": "LayoutModel",
      "state": {
       "width": "auto"
      }
     },
     "260588313581475e9341db0f251dad83": {
      "model_module": "@jupyter-widgets/base",
      "model_module_version": "1.2.0",
      "model_name": "LayoutModel",
      "state": {}
     },
     "261c39bacf154dfbb02b1799c39496f6": {
      "model_module": "@jupyter-widgets/controls",
      "model_module_version": "1.5.0",
      "model_name": "SelectModel",
      "state": {
       "_options_labels": [
        "📁 ..",
        "📁 SimPEG_PFInversion",
        "📁 Temp"
       ],
       "index": null,
       "layout": "IPY_MODEL_fed10d2db3724ecea0ddcd981898538b",
       "rows": 8,
       "style": "IPY_MODEL_a8da717945ab4df2898bd6ae0363c99a"
      }
     },
     "2625322c421e4dca924059bbf7acbc4b": {
      "model_module": "@jupyter-widgets/base",
      "model_module_version": "1.2.0",
      "model_name": "LayoutModel",
      "state": {}
     },
     "2631ff0819be425c83cdc45f143b28f2": {
      "model_module": "@jupyter-widgets/controls",
      "model_module_version": "1.5.0",
      "model_name": "HBoxModel",
      "state": {
       "children": [
        "IPY_MODEL_f745ced319454dbc852ae710ef6237fc",
        "IPY_MODEL_f921f0b9a8d24e229782fcfbaaea8334",
        "IPY_MODEL_00dec8f0674948acb90275ca3af3387c"
       ],
       "layout": "IPY_MODEL_d891fdaea9dc4b469289b9f269450dc0"
      }
     },
     "266fc45ad8d745e38d997ba2cc7dfd13": {
      "model_module": "@jupyter-widgets/controls",
      "model_module_version": "1.5.0",
      "model_name": "CheckboxModel",
      "state": {
       "description": "Active",
       "disabled": false,
       "indent": false,
       "layout": "IPY_MODEL_6cb4143e178c48b5bd699ba5510a58b6",
       "style": "IPY_MODEL_547aac6c399e4324a95d770edc5e7937",
       "value": false
      }
     },
     "268b7b1b6f9b46f3b696e65d9eadd540": {
      "model_module": "@jupyter-widgets/controls",
      "model_module_version": "1.5.0",
      "model_name": "DescriptionStyleModel",
      "state": {
       "description_width": "initial"
      }
     },
     "26c10eb83fe943fbb8210b16a4ea4224": {
      "model_module": "@jupyter-widgets/base",
      "model_module_version": "1.2.0",
      "model_name": "LayoutModel",
      "state": {}
     },
     "26dba5ec3351453dbfec488e599bdebd": {
      "model_module": "@jupyter-widgets/controls",
      "model_module_version": "1.5.0",
      "model_name": "SliderStyleModel",
      "state": {
       "description_width": "initial"
      }
     },
     "26f1e43407d9497abff3d7863285e0b6": {
      "model_module": "@jupyter-widgets/controls",
      "model_module_version": "1.5.0",
      "model_name": "SelectModel",
      "state": {
       "_options_labels": [
        "📁 ..",
        "📁 SimPEG_PFInversion",
        "📁 Temp"
       ],
       "index": null,
       "layout": "IPY_MODEL_f8824fc231594e70a18c3a5224006c4f",
       "rows": 8,
       "style": "IPY_MODEL_909ee4bb4ea448d5ba7100f10499ccf8"
      }
     },
     "271de0195d904de09ab64ce3be3f902d": {
      "model_module": "@jupyter-widgets/controls",
      "model_module_version": "1.5.0",
      "model_name": "DescriptionStyleModel",
      "state": {
       "description_width": ""
      }
     },
     "2720d721df6a4353bbceee538b12e9b2": {
      "model_module": "@jupyter-widgets/controls",
      "model_module_version": "1.5.0",
      "model_name": "DropdownModel",
      "state": {
       "_options_labels": [
        "C:\\Users\\dominiquef\\Documents\\GIT\\mira\\geoapps\\assets",
        "C:\\Users\\dominiquef\\Documents\\GIT\\mira\\geoapps",
        "C:\\Users\\dominiquef\\Documents\\GIT\\mira",
        "C:\\Users\\dominiquef\\Documents\\GIT",
        "C:\\Users\\dominiquef\\Documents",
        "C:\\Users\\dominiquef",
        "C:\\Users",
        "C:\\",
        "G:\\",
        "\\\\EgnyteDrive\\mirageoscience\\",
        "D:\\"
       ],
       "index": 0,
       "layout": "IPY_MODEL_294cba6898344b9cb51e8fcccad9f55d",
       "style": "IPY_MODEL_83d53150b0d94b96b30de40dbb6a0719"
      }
     },
     "274ce537fd8a45668769d90aea46b03d": {
      "model_module": "@jupyter-widgets/controls",
      "model_module_version": "1.5.0",
      "model_name": "DescriptionStyleModel",
      "state": {
       "description_width": "initial"
      }
     },
     "274e389ee868477495c8a5ce119cd7ec": {
      "model_module": "@jupyter-widgets/base",
      "model_module_version": "1.2.0",
      "model_name": "LayoutModel",
      "state": {}
     },
     "278d894e518e4c50a0c4b6723ef16f7b": {
      "model_module": "@jupyter-widgets/controls",
      "model_module_version": "1.5.0",
      "model_name": "DescriptionStyleModel",
      "state": {
       "description_width": "initial"
      }
     },
     "2799b4c256ce4dc5b95cbedd312cbc65": {
      "model_module": "@jupyter-widgets/base",
      "model_module_version": "1.2.0",
      "model_name": "LayoutModel",
      "state": {}
     },
     "27cb763f6f9246fbbc9d479709df91d3": {
      "model_module": "@jupyter-widgets/base",
      "model_module_version": "1.2.0",
      "model_name": "LayoutModel",
      "state": {}
     },
     "27d36a906c834acfb861ec5d42111c1a": {
      "model_module": "@jupyter-widgets/controls",
      "model_module_version": "1.5.0",
      "model_name": "DropdownModel",
      "state": {
       "_options_labels": [
        "C:\\Users\\dominiquef\\Documents\\GIT\\mira\\geoapps\\assets\\Temp",
        "C:\\Users\\dominiquef\\Documents\\GIT\\mira\\geoapps\\assets",
        "C:\\Users\\dominiquef\\Documents\\GIT\\mira\\geoapps",
        "C:\\Users\\dominiquef\\Documents\\GIT\\mira",
        "C:\\Users\\dominiquef\\Documents\\GIT",
        "C:\\Users\\dominiquef\\Documents",
        "C:\\Users\\dominiquef",
        "C:\\Users",
        "C:\\",
        "G:\\",
        "\\\\EgnyteDrive\\mirageoscience\\",
        "D:\\"
       ],
       "index": 0,
       "layout": "IPY_MODEL_1c375389aedb4e97a88ab01c2de8a239",
       "style": "IPY_MODEL_33b77681fe334485b16d94f0e534595c"
      }
     },
     "282ec30710df46d09d80676d826fc527": {
      "model_module": "@jupyter-widgets/base",
      "model_module_version": "1.2.0",
      "model_name": "LayoutModel",
      "state": {
       "grid_area": "filename",
       "width": "auto"
      }
     },
     "284bf48b21d14597abfa54377f06cc88": {
      "model_module": "@jupyter-widgets/controls",
      "model_module_version": "1.5.0",
      "model_name": "HBoxModel",
      "state": {
       "children": [
        "IPY_MODEL_b32838505de64627897397db69a13e53",
        "IPY_MODEL_e2b0f21582224555be1d63b222c816a4"
       ],
       "layout": "IPY_MODEL_5e011ae7efa94a66ab0a996c580999a9"
      }
     },
     "284d66a4d9954b8cbb88d8894c997b7c": {
      "model_module": "@jupyter-widgets/controls",
      "model_module_version": "1.5.0",
      "model_name": "ButtonModel",
      "state": {
       "description": "Create copy:",
       "layout": "IPY_MODEL_0f4d6a8ccfe14c05b5ca229c92248f86",
       "style": "IPY_MODEL_7c555694d2ce4acd95484d8b0e8d8e2e"
      }
     },
     "28523fca9eb045baa45ad16f4342f317": {
      "model_module": "@jupyter-widgets/controls",
      "model_module_version": "1.5.0",
      "model_name": "DescriptionStyleModel",
      "state": {
       "description_width": ""
      }
     },
     "2890cd726b1b49f38ec141f5ab0de8eb": {
      "model_module": "@jupyter-widgets/controls",
      "model_module_version": "1.5.0",
      "model_name": "SelectModel",
      "state": {
       "_options_labels": [
        "📁 ..",
        "📁 SimPEG_PFInversion",
        "📁 Temp",
        "📁 uijson",
        "FlinFlon.geoh5",
        "FlinFlon_dcip.geoh5",
        "FlinFlon_natural_sources.geoh5",
        "MtDore_TMI.geoh5",
        "tem.geoh5",
        "test_forward.ui.geoh5",
        "test_forward.ui.json"
       ],
       "index": 4,
       "layout": "IPY_MODEL_1c39541a67a54f30823b0829aa95c573",
       "rows": 8,
       "style": "IPY_MODEL_6bbe1b358ac541d890d4df2a2d018479"
      }
     },
     "2893f6d6f20e456ba0deb8e0a5882171": {
      "model_module": "@jupyter-widgets/base",
      "model_module_version": "1.2.0",
      "model_name": "LayoutModel",
      "state": {}
     },
     "2905981855f54749a91b566bcd289731": {
      "model_module": "@jupyter-widgets/controls",
      "model_module_version": "1.5.0",
      "model_name": "DescriptionStyleModel",
      "state": {
       "description_width": "initial"
      }
     },
     "29388ff0a8d749ffb8e5fa17851087d3": {
      "model_module": "@jupyter-widgets/base",
      "model_module_version": "1.2.0",
      "model_name": "LayoutModel",
      "state": {}
     },
     "294cba6898344b9cb51e8fcccad9f55d": {
      "model_module": "@jupyter-widgets/base",
      "model_module_version": "1.2.0",
      "model_name": "LayoutModel",
      "state": {
       "grid_area": "pathlist",
       "width": "auto"
      }
     },
     "2960626c7f6a42ab8d00d5329e3d0829": {
      "model_module": "@jupyter-widgets/base",
      "model_module_version": "1.2.0",
      "model_name": "LayoutModel",
      "state": {}
     },
     "296fcf1f1e4e41acac3f89f69ef8a811": {
      "model_module": "@jupyter-widgets/base",
      "model_module_version": "1.2.0",
      "model_name": "LayoutModel",
      "state": {
       "display": "none",
       "min_width": "6em",
       "width": "6em"
      }
     },
     "298d8db88237405794523b48b2715292": {
      "model_module": "@jupyter-widgets/controls",
      "model_module_version": "1.5.0",
      "model_name": "LabelModel",
      "state": {
       "layout": "IPY_MODEL_13e6ba4d9f2143a98fe4ffa13475c094",
       "style": "IPY_MODEL_f9ce9f18fed04d2088182a1b830f7363",
       "value": "Uncertainties"
      }
     },
     "29d0dd9954d5479598ccf908b9cb31a8": {
      "model_module": "@jupyter-widgets/controls",
      "model_module_version": "1.5.0",
      "model_name": "ToggleButtonModel",
      "state": {
       "layout": "IPY_MODEL_99d2e897f78244aa89c2efbd50a4ea2c",
       "style": "IPY_MODEL_ebcd1c20392040eaa841f2081741426f"
      }
     },
     "29d8ffbe6f124f58a7fb0951533784fc": {
      "model_module": "@jupyter-widgets/controls",
      "model_module_version": "1.5.0",
      "model_name": "HBoxModel",
      "state": {
       "children": [
        "IPY_MODEL_e0d2bd5fad5544ac832461613b1202ab",
        "IPY_MODEL_e247d69f700e4259853b22f4d34c767b"
       ],
       "layout": "IPY_MODEL_a7d193f6981f483ea48bb0aa78fadadb"
      }
     },
     "29f826b2956d45bf848c347972346979": {
      "model_module": "@jupyter-widgets/controls",
      "model_module_version": "1.5.0",
      "model_name": "DescriptionStyleModel",
      "state": {
       "description_width": ""
      }
     },
     "2a27c74cf94f456780939b77f4f6d206": {
      "model_module": "@jupyter-widgets/controls",
      "model_module_version": "1.5.0",
      "model_name": "GridBoxModel",
      "state": {
       "children": [
        "IPY_MODEL_f0b4bbb707294db8a8ec7fc4cc17d62f",
        "IPY_MODEL_950ba2cb8e204f3cb35c56e160d3472d",
        "IPY_MODEL_fab0a792a1484061ae3a705c7fd0724b"
       ],
       "layout": "IPY_MODEL_7146ee4452ae4e5eb145b4858800b3b5"
      }
     },
     "2a44eab5ed354e279f424d5cc2e1c218": {
      "model_module": "@jupyter-widgets/controls",
      "model_module_version": "1.5.0",
      "model_name": "VBoxModel",
      "state": {
       "children": [
        "IPY_MODEL_84a6d245d73f4a53a71fc9ff7f23a62a",
        "IPY_MODEL_621640c3673f45e382d750a3bbc7af2a",
        "IPY_MODEL_931b3f6dfc9c40cb9de97d3f05045a43"
       ],
       "layout": "IPY_MODEL_2ded96b474f0462290b47dd42bc9c773"
      }
     },
     "2a58e276fb424a95b5196abd03416dc4": {
      "model_module": "@jupyter-widgets/controls",
      "model_module_version": "1.5.0",
      "model_name": "HBoxModel",
      "state": {
       "children": [
        "IPY_MODEL_778475827a88486d9794bb6bc01ccfc7",
        "IPY_MODEL_e2a70693bfad44ccbd42a9394a099995"
       ],
       "layout": "IPY_MODEL_2e7f68dea8104de2993782daeb23dffa"
      }
     },
     "2a5c811515b74e0e9438dacf002cfacc": {
      "model_module": "@jupyter-widgets/base",
      "model_module_version": "1.2.0",
      "model_name": "LayoutModel",
      "state": {
       "min_width": "6em",
       "width": "6em"
      }
     },
     "2a6b92d2dbac4dbf87a066049c16de85": {
      "model_module": "@jupyter-widgets/controls",
      "model_module_version": "1.5.0",
      "model_name": "VBoxModel",
      "state": {
       "children": [
        "IPY_MODEL_6d3b2deb342948f9ba6e3b672b100d71",
        "IPY_MODEL_2e92d807c81346e2a56b159815cedcae",
        "IPY_MODEL_a8cee4e93098459eb980edab85595c03"
       ],
       "layout": "IPY_MODEL_2ded96b474f0462290b47dd42bc9c773"
      }
     },
     "2a86a217beea44639e09a72ac0dd9d2a": {
      "model_module": "@jupyter-widgets/base",
      "model_module_version": "1.2.0",
      "model_name": "LayoutModel",
      "state": {
       "grid_area": "filename",
       "width": "auto"
      }
     },
     "2a97fa574bf847c9be491f0f10d7eb01": {
      "model_module": "@jupyter-widgets/controls",
      "model_module_version": "1.5.0",
      "model_name": "DescriptionStyleModel",
      "state": {
       "description_width": "initial"
      }
     },
     "2aa2f16f225748dcb2f57766a25560d9": {
      "model_module": "@jupyter-widgets/controls",
      "model_module_version": "1.5.0",
      "model_name": "DescriptionStyleModel",
      "state": {
       "description_width": ""
      }
     },
     "2aa4a169f4ea4f4d9642b72d7b0f84ad": {
      "model_module": "@jupyter-widgets/controls",
      "model_module_version": "1.5.0",
      "model_name": "DescriptionStyleModel",
      "state": {
       "description_width": ""
      }
     },
     "2abd075aba62442a948b3040fb0e0efc": {
      "model_module": "@jupyter-widgets/controls",
      "model_module_version": "1.5.0",
      "model_name": "DescriptionStyleModel",
      "state": {
       "description_width": "initial"
      }
     },
     "2abee2847be84deeb803dd14038418b2": {
      "model_module": "@jupyter-widgets/base",
      "model_module_version": "1.2.0",
      "model_name": "LayoutModel",
      "state": {}
     },
     "2ac7de9ae78a46989eabf265633d6450": {
      "model_module": "@jupyter-widgets/base",
      "model_module_version": "1.2.0",
      "model_name": "LayoutModel",
      "state": {}
     },
     "2acaee977a3f4170b2344fdb39f0e15a": {
      "model_module": "@jupyter-widgets/base",
      "model_module_version": "1.2.0",
      "model_name": "LayoutModel",
      "state": {}
     },
     "2acdd9d5a07e4dbc9afa9e44cd95166a": {
      "model_module": "@jupyter-widgets/controls",
      "model_module_version": "1.5.0",
      "model_name": "DescriptionStyleModel",
      "state": {
       "description_width": "initial"
      }
     },
     "2ae61b8fc59f4fa885703bcf1c9f059e": {
      "model_module": "@jupyter-widgets/controls",
      "model_module_version": "1.5.0",
      "model_name": "ToggleButtonModel",
      "state": {
       "layout": "IPY_MODEL_f7533bc46db7497e8ae6943da6c6e99f",
       "style": "IPY_MODEL_2fd3f8ad2e124e159703b59eb909aee7"
      }
     },
     "2b039edae4d34e8fb58d1e5b00a39884": {
      "model_module": "@jupyter-widgets/controls",
      "model_module_version": "1.5.0",
      "model_name": "ButtonStyleModel",
      "state": {}
     },
     "2b52432f4e744554bc663876e1ce1814": {
      "model_module": "@jupyter-widgets/controls",
      "model_module_version": "1.5.0",
      "model_name": "DescriptionStyleModel",
      "state": {
       "description_width": ""
      }
     },
     "2b6bca6f5def4a3aa26d9de924ab7fbd": {
      "model_module": "@jupyter-widgets/controls",
      "model_module_version": "1.5.0",
      "model_name": "CheckboxModel",
      "state": {
       "description": "Active",
       "disabled": false,
       "indent": false,
       "layout": "IPY_MODEL_880f227413504349a9074228ead42187",
       "style": "IPY_MODEL_7b98f8fcbdc646689ede7f5e9c1047da",
       "value": false
      }
     },
     "2bacce3ba44f4542b77d749e53e47a96": {
      "model_module": "@jupyter-widgets/base",
      "model_module_version": "1.2.0",
      "model_name": "LayoutModel",
      "state": {}
     },
     "2bba3390ba73428c95e0888d31ef80a6": {
      "model_module": "@jupyter-widgets/controls",
      "model_module_version": "1.5.0",
      "model_name": "DescriptionStyleModel",
      "state": {
       "description_width": "initial"
      }
     },
     "2bbf881b7ee04e49b52c6759a6a8d01e": {
      "model_module": "@jupyter-widgets/base",
      "model_module_version": "1.2.0",
      "model_name": "LayoutModel",
      "state": {
       "grid_area": "dircontent",
       "width": "auto"
      }
     },
     "2c1aff698e024476badbd70b0fce01fb": {
      "model_module": "@jupyter-widgets/controls",
      "model_module_version": "1.5.0",
      "model_name": "FloatTextModel",
      "state": {
       "description": "Vertical-gradient (z)",
       "layout": "IPY_MODEL_8a1fcb165150404aab1242a499e8e411",
       "step": null,
       "style": "IPY_MODEL_6ce67e3c6b4c4fc9b425fe1b2a5fd84f",
       "value": 1
      }
     },
     "2c56d179f29f4464a40ed380aa0239c4": {
      "model_module": "@jupyter-widgets/controls",
      "model_module_version": "1.5.0",
      "model_name": "VBoxModel",
      "state": {
       "children": [
        "IPY_MODEL_ab75b98474024504bb09c5f414b963e9",
        "IPY_MODEL_e91200ddb4f34de6aa067725e713e9fd"
       ],
       "layout": "IPY_MODEL_8dd56729c98e477480782d5cad8d4443"
      }
     },
     "2c9ab1dafa9143d1ae387bbd6b0c001f": {
      "model_module": "@jupyter-widgets/controls",
      "model_module_version": "1.5.0",
      "model_name": "ButtonStyleModel",
      "state": {}
     },
     "2c9db897d4ee4672ae5f9c3a6fe1ab3c": {
      "model_module": "@jupyter-widgets/base",
      "model_module_version": "1.2.0",
      "model_name": "LayoutModel",
      "state": {}
     },
     "2ce3cd1eb4574669ac7139f67f54cb55": {
      "model_module": "@jupyter-widgets/controls",
      "model_module_version": "1.5.0",
      "model_name": "DescriptionStyleModel",
      "state": {
       "description_width": "initial"
      }
     },
     "2ce767069e384eb88f49bd8f47edb367": {
      "model_module": "@jupyter-widgets/base",
      "model_module_version": "1.2.0",
      "model_name": "LayoutModel",
      "state": {}
     },
     "2ce7e2959a0640869f3bdf43fc5f93fe": {
      "model_module": "@jupyter-widgets/controls",
      "model_module_version": "1.5.0",
      "model_name": "DescriptionStyleModel",
      "state": {
       "description_width": "initial"
      }
     },
     "2cf6abfd3291489387242c5f9a413d3b": {
      "model_module": "@jupyter-widgets/base",
      "model_module_version": "1.2.0",
      "model_name": "LayoutModel",
      "state": {}
     },
     "2d11a4d344984de0a97e8f797dd76801": {
      "model_module": "@jupyter-widgets/controls",
      "model_module_version": "1.5.0",
      "model_name": "ButtonModel",
      "state": {
       "description": "Change",
       "layout": "IPY_MODEL_0b755c608dac4486a5b026aec786177b",
       "style": "IPY_MODEL_3dddbb439ce449e093cf18bb0a25df61"
      }
     },
     "2d13f132cc174fff8044f0704a6b1557": {
      "model_module": "@jupyter-widgets/base",
      "model_module_version": "1.2.0",
      "model_name": "LayoutModel",
      "state": {}
     },
     "2d200c1fdbad48bf94e252cfc923efe3": {
      "model_module": "@jupyter-widgets/base",
      "model_module_version": "1.2.0",
      "model_name": "LayoutModel",
      "state": {}
     },
     "2d2537256d934ac28d57cdd982cba218": {
      "model_module": "@jupyter-widgets/controls",
      "model_module_version": "1.5.0",
      "model_name": "DescriptionStyleModel",
      "state": {
       "description_width": "initial"
      }
     },
     "2d27c0a20825457eb18c829c9cbf3fd7": {
      "model_module": "@jupyter-widgets/base",
      "model_module_version": "1.2.0",
      "model_name": "LayoutModel",
      "state": {
       "grid_area": "dircontent",
       "width": "auto"
      }
     },
     "2d49d640ac50449993afb7ccf5eebbf9": {
      "model_module": "@jupyter-widgets/controls",
      "model_module_version": "1.5.0",
      "model_name": "VBoxModel",
      "state": {
       "children": [
        "IPY_MODEL_d118d02e7bfd4e9d845f28f994de25d5",
        "IPY_MODEL_4270779f224c417790d228b4cb3fc427"
       ],
       "layout": "IPY_MODEL_482e1a0cc72e46ce86cd49f27ae66133"
      }
     },
     "2d609fde71214a2ba4fcc99099a05705": {
      "model_module": "@jupyter-widgets/controls",
      "model_module_version": "1.5.0",
      "model_name": "VBoxModel",
      "state": {
       "children": [
        "IPY_MODEL_109e083c0ab641e6a1a3a6d474719c02",
        "IPY_MODEL_cff65d38346f460ab17c51c846ee80f3"
       ],
       "layout": "IPY_MODEL_9a6f508ddcc44781b9453aefe4212a34"
      }
     },
     "2d62e119dff247b1b1a1c25a989b4658": {
      "model_module": "@jupyter-widgets/controls",
      "model_module_version": "1.5.0",
      "model_name": "DescriptionStyleModel",
      "state": {
       "description_width": "initial"
      }
     },
     "2d97fd028c5c442495757e7b405ccdad": {
      "model_module": "@jupyter-widgets/base",
      "model_module_version": "1.2.0",
      "model_name": "LayoutModel",
      "state": {
       "overflow": "auto"
      }
     },
     "2db04c177dac4b909d87469887b5f4a8": {
      "model_module": "@jupyter-widgets/controls",
      "model_module_version": "1.5.0",
      "model_name": "DescriptionStyleModel",
      "state": {
       "description_width": "initial"
      }
     },
     "2de79e5180be4050aee13b657f9a0d38": {
      "model_module": "@jupyter-widgets/base",
      "model_module_version": "1.2.0",
      "model_name": "LayoutModel",
      "state": {}
     },
     "2ded96b474f0462290b47dd42bc9c773": {
      "model_module": "@jupyter-widgets/base",
      "model_module_version": "1.2.0",
      "model_name": "LayoutModel",
      "state": {
       "width": "500px"
      }
     },
     "2dfcec1c2b1e46938e7576166a2f3320": {
      "model_module": "@jupyter-widgets/controls",
      "model_module_version": "1.5.0",
      "model_name": "LabelModel",
      "state": {
       "layout": "IPY_MODEL_ed7f39503ddf400899df51e8cf687a82",
       "style": "IPY_MODEL_239da1cadef64a0cb30e4d1a8ac371ca",
       "value": "Uncertainties"
      }
     },
     "2e0b36e79b574ecdae6efe155dcd88eb": {
      "model_module": "@jupyter-widgets/base",
      "model_module_version": "1.2.0",
      "model_name": "LayoutModel",
      "state": {}
     },
     "2e19a41b5aae4b07bb7b4a7ac2279c3f": {
      "model_module": "@jupyter-widgets/controls",
      "model_module_version": "1.5.0",
      "model_name": "DropdownModel",
      "state": {
       "_options_labels": [
        "",
        "--- Channels ---",
        "Airborne_Gxx",
        "Airborne_Gxy",
        "Airborne_Gxz",
        "Airborne_Gyy",
        "Airborne_Gyz",
        "Airborne_Gz",
        "Airborne_Gzz",
        "Airborne_TMI",
        "Ground_Gz"
       ],
       "description": "Radar (Optional):",
       "index": 0,
       "layout": "IPY_MODEL_545fc7d315e04ca08fe1e6a0c254d99e",
       "style": "IPY_MODEL_1ccfd49821a347acbe130086a35c4bd5"
      }
     },
     "2e1f8417f29749ad8dad440b941c8550": {
      "model_module": "@jupyter-widgets/base",
      "model_module_version": "1.2.0",
      "model_name": "LayoutModel",
      "state": {}
     },
     "2e25a130579449d1b5dbc9c434097470": {
      "model_module": "@jupyter-widgets/controls",
      "model_module_version": "1.5.0",
      "model_name": "DescriptionStyleModel",
      "state": {
       "description_width": ""
      }
     },
     "2e3f4d8b52ae47ea960645eff9648f1e": {
      "model_module": "@jupyter-widgets/controls",
      "model_module_version": "1.5.0",
      "model_name": "HTMLModel",
      "state": {
       "layout": "IPY_MODEL_f12bf736951f410a98ba506478dafaa8",
       "style": "IPY_MODEL_1f082c27378543388cc7403fa011eef3"
      }
     },
     "2e4b54df3fb84f8fa9266453663fea6d": {
      "model_module": "@jupyter-widgets/controls",
      "model_module_version": "1.5.0",
      "model_name": "CheckboxModel",
      "state": {
       "description": "Geoscience ANALYST Pro - Live link",
       "disabled": false,
       "indent": false,
       "layout": "IPY_MODEL_d2b4bcebc41241afa7daca7d49bf3cc5",
       "style": "IPY_MODEL_fe776a9ff5fe4a54ad56e8f1c2277c9a",
       "value": false
      }
     },
     "2e5e591ff27d4abba877c858454d19c1": {
      "model_module": "@jupyter-widgets/controls",
      "model_module_version": "1.5.0",
      "model_name": "DescriptionStyleModel",
      "state": {
       "description_width": "initial"
      }
     },
     "2e7f68dea8104de2993782daeb23dffa": {
      "model_module": "@jupyter-widgets/base",
      "model_module_version": "1.2.0",
      "model_name": "LayoutModel",
      "state": {}
     },
     "2e8f04b82a7643cd9b7bc06844ae5a00": {
      "model_module": "@jupyter-widgets/base",
      "model_module_version": "1.2.0",
      "model_name": "LayoutModel",
      "state": {}
     },
     "2e92d807c81346e2a56b159815cedcae": {
      "model_module": "@jupyter-widgets/controls",
      "model_module_version": "1.5.0",
      "model_name": "GridBoxModel",
      "state": {
       "children": [
        "IPY_MODEL_490262a058f24ad3afd20d7d288c5706",
        "IPY_MODEL_c2de8645d1ea49388ff6b0ef57588c41",
        "IPY_MODEL_45eb55df1d4745d3857c9857f88134ea"
       ],
       "layout": "IPY_MODEL_a6908f2586194f89ab326957565fd674"
      }
     },
     "2e9636190a5d4358bfc0f46aa7050e6f": {
      "model_module": "@jupyter-widgets/base",
      "model_module_version": "1.2.0",
      "model_name": "LayoutModel",
      "state": {
       "grid_area": "dircontent",
       "width": "auto"
      }
     },
     "2ea5c011bf4e497b99228239886077aa": {
      "model_module": "@jupyter-widgets/base",
      "model_module_version": "1.2.0",
      "model_name": "LayoutModel",
      "state": {}
     },
     "2ebf0bbbdb314e9093f94d5b4568f2a1": {
      "model_module": "@jupyter-widgets/controls",
      "model_module_version": "1.5.0",
      "model_name": "LabelModel",
      "state": {
       "layout": "IPY_MODEL_0d57a7306c904e2591cf7e0f2ef4e213",
       "style": "IPY_MODEL_77ffb15df2c5432c8fe2e442e75807ec",
       "value": "Monitoring folder"
      }
     },
     "2ed1128cfd7f4546a3741cc95ece22df": {
      "model_module": "@jupyter-widgets/controls",
      "model_module_version": "1.5.0",
      "model_name": "DescriptionStyleModel",
      "state": {
       "description_width": ""
      }
     },
     "2f1be6593d9d4016add70fd3fb280029": {
      "model_module": "@jupyter-widgets/controls",
      "model_module_version": "1.5.0",
      "model_name": "FloatTextModel",
      "state": {
       "description": "Floor:",
       "layout": "IPY_MODEL_b808d65fcc9942c5a78d4ab101d09331",
       "step": null,
       "style": "IPY_MODEL_5f6b212ef8744669bd7d4661d4df6643",
       "value": 1
      }
     },
     "2f38389733d541f9b43874bdda08c56a": {
      "model_module": "@jupyter-widgets/controls",
      "model_module_version": "1.5.0",
      "model_name": "DescriptionStyleModel",
      "state": {
       "description_width": "initial"
      }
     },
     "2f672edf7b964bb189483497e3a37ddc": {
      "model_module": "@jupyter-widgets/base",
      "model_module_version": "1.2.0",
      "model_name": "LayoutModel",
      "state": {
       "min_width": "6em",
       "width": "6em"
      }
     },
     "2f6a9212f48b47a5be91063c485d81ce": {
      "model_module": "@jupyter-widgets/base",
      "model_module_version": "1.2.0",
      "model_name": "LayoutModel",
      "state": {}
     },
     "2f95fafd74714a50b9b3df943e1f418e": {
      "model_module": "@jupyter-widgets/base",
      "model_module_version": "1.2.0",
      "model_name": "LayoutModel",
      "state": {
       "grid_area": "pathlist",
       "width": "auto"
      }
     },
     "2fa6554a4981469d8408cc29ab748e75": {
      "model_module": "@jupyter-widgets/base",
      "model_module_version": "1.2.0",
      "model_name": "LayoutModel",
      "state": {}
     },
     "2fd3f8ad2e124e159703b59eb909aee7": {
      "model_module": "@jupyter-widgets/controls",
      "model_module_version": "1.5.0",
      "model_name": "DescriptionStyleModel",
      "state": {
       "description_width": "initial"
      }
     },
     "2fd5941829a24535bb2c5045fd7ae119": {
      "model_module": "@jupyter-widgets/controls",
      "model_module_version": "1.5.0",
      "model_name": "DescriptionStyleModel",
      "state": {
       "description_width": ""
      }
     },
     "2fe4edaadd6440ef9436e95297775f84": {
      "model_module": "@jupyter-widgets/controls",
      "model_module_version": "1.5.0",
      "model_name": "DescriptionStyleModel",
      "state": {
       "description_width": ""
      }
     },
     "30646beba430429ca9309480d8cdf716": {
      "model_module": "@jupyter-widgets/controls",
      "model_module_version": "1.5.0",
      "model_name": "DescriptionStyleModel",
      "state": {
       "description_width": "initial"
      }
     },
     "307797d4ad354f928bde7478e2a6a630": {
      "model_module": "@jupyter-widgets/base",
      "model_module_version": "1.2.0",
      "model_name": "LayoutModel",
      "state": {}
     },
     "30a5579ee42844aebbc4d366c3419ef7": {
      "model_module": "@jupyter-widgets/controls",
      "model_module_version": "1.5.0",
      "model_name": "DescriptionStyleModel",
      "state": {
       "description_width": ""
      }
     },
     "30ae156fe46643c2a4f269d359e4d296": {
      "model_module": "@jupyter-widgets/controls",
      "model_module_version": "1.5.0",
      "model_name": "DescriptionStyleModel",
      "state": {
       "description_width": ""
      }
     },
     "30e9d4c07ab94b6a8e51f57d1ac30eec": {
      "model_module": "@jupyter-widgets/base",
      "model_module_version": "1.2.0",
      "model_name": "LayoutModel",
      "state": {
       "min_width": "6em",
       "width": "6em"
      }
     },
     "310619d45a0b42158d9826d10d679c57": {
      "model_module": "@jupyter-widgets/controls",
      "model_module_version": "1.5.0",
      "model_name": "DescriptionStyleModel",
      "state": {
       "description_width": ""
      }
     },
     "310a72fbdf75490191f0e8f058c35164": {
      "model_module": "@jupyter-widgets/controls",
      "model_module_version": "1.5.0",
      "model_name": "RadioButtonsModel",
      "state": {
       "_options_labels": [
        "Model",
        "Constant",
        "None"
       ],
       "index": 1,
       "layout": "IPY_MODEL_bacbe58bcac146c5a096e943395b13c8",
       "style": "IPY_MODEL_0957c0d639bf45c78ba11e72d07554cf"
      }
     },
     "312f35388cd5488b822a4ed89da84626": {
      "model_module": "@jupyter-widgets/base",
      "model_module_version": "1.2.0",
      "model_name": "LayoutModel",
      "state": {
       "grid_area": "filename",
       "width": "auto"
      }
     },
     "3166d86c628f4f64bbd8afa369f3658c": {
      "model_module": "@jupyter-widgets/controls",
      "model_module_version": "1.5.0",
      "model_name": "DescriptionStyleModel",
      "state": {
       "description_width": "initial"
      }
     },
     "31972012ad1a402d915e556f43b5b846": {
      "model_module": "@jupyter-widgets/controls",
      "model_module_version": "1.5.0",
      "model_name": "VBoxModel",
      "state": {
       "children": [
        "IPY_MODEL_0a3e263ee77c4556bdb2d38237f2a44f",
        "IPY_MODEL_94cd83a04cbe40a38dab1551b0831d12"
       ],
       "layout": "IPY_MODEL_9b4c5d3efd4c4d739bf6136007e79b66"
      }
     },
     "31d9291d464148df9e27bde274c8aa25": {
      "model_module": "@jupyter-widgets/controls",
      "model_module_version": "1.5.0",
      "model_name": "DescriptionStyleModel",
      "state": {
       "description_width": ""
      }
     },
     "31e44274fdc744d992188017d6844455": {
      "model_module": "@jupyter-widgets/controls",
      "model_module_version": "1.5.0",
      "model_name": "DescriptionStyleModel",
      "state": {
       "description_width": "initial"
      }
     },
     "31eb08570aa74d88943366e153b2bb8a": {
      "model_module": "@jupyter-widgets/controls",
      "model_module_version": "1.5.0",
      "model_name": "VBoxModel",
      "state": {
       "children": [
        "IPY_MODEL_82814ba27a7449fc9391318c4c83c49a",
        "IPY_MODEL_b8af190dc13747e5a9a49da9c7595cae"
       ],
       "layout": "IPY_MODEL_8f958229f70f4734ab608e4c352e265b"
      }
     },
     "3201b5bc2afb4adf89429ad4bd1c65a4": {
      "model_module": "@jupyter-widgets/base",
      "model_module_version": "1.2.0",
      "model_name": "LayoutModel",
      "state": {
       "margin": "0 0 0 1em"
      }
     },
     "320c92fd7aa64c268ee50bf7914bbcab": {
      "model_module": "@jupyter-widgets/base",
      "model_module_version": "1.2.0",
      "model_name": "LayoutModel",
      "state": {
       "min_width": "6em",
       "width": "6em"
      }
     },
     "32225432a18a439694c90e6d449798e4": {
      "model_module": "@jupyter-widgets/controls",
      "model_module_version": "1.5.0",
      "model_name": "DescriptionStyleModel",
      "state": {
       "description_width": ""
      }
     },
     "326c026d6b4440f48e1b0c613dd0e9b1": {
      "model_module": "@jupyter-widgets/controls",
      "model_module_version": "1.5.0",
      "model_name": "VBoxModel",
      "state": {
       "children": [
        "IPY_MODEL_e76f2279fad74fdf811b52872d62555c",
        "IPY_MODEL_569dc5e4b53949499285b13d4b82ae2a"
       ],
       "layout": "IPY_MODEL_34f70d8f1a5040be8b2c32980bfa7a23"
      }
     },
     "32a12a7f042c4a1b9b43a7e84f860608": {
      "model_module": "@jupyter-widgets/base",
      "model_module_version": "1.2.0",
      "model_name": "LayoutModel",
      "state": {}
     },
     "32bcd8dc4a9c4a949051948959adfc27": {
      "model_module": "@jupyter-widgets/controls",
      "model_module_version": "1.5.0",
      "model_name": "DescriptionStyleModel",
      "state": {
       "description_width": ""
      }
     },
     "333384d7b61c423d807950bcf9f943a9": {
      "model_module": "@jupyter-widgets/controls",
      "model_module_version": "1.5.0",
      "model_name": "VBoxModel",
      "state": {
       "children": [
        "IPY_MODEL_4600e08281f0400e9d2ff54108136ac5"
       ],
       "layout": "IPY_MODEL_14db09552a524caabbccd0e0635422a0"
      }
     },
     "33406d7ba9094986bc0d929acd12e0a5": {
      "model_module": "@jupyter-widgets/controls",
      "model_module_version": "1.5.0",
      "model_name": "ButtonModel",
      "state": {
       "description": "Change",
       "layout": "IPY_MODEL_1a9a774a48eb4ba38593249faab16634",
       "style": "IPY_MODEL_b6b9c5ae26c24aca9a62b80f55ac0372"
      }
     },
     "3357f048d7d84293a0abf4857c2ac255": {
      "model_module": "@jupyter-widgets/controls",
      "model_module_version": "1.5.0",
      "model_name": "ToggleButtonModel",
      "state": {
       "layout": "IPY_MODEL_a3ef2572ae294bcc86a06c638b95c71a",
       "style": "IPY_MODEL_f86572c142f14dfd8b50f5ffb1ee3871"
      }
     },
     "3365a49d692e42c59a597dccea5f4129": {
      "model_module": "@jupyter-widgets/base",
      "model_module_version": "1.2.0",
      "model_name": "LayoutModel",
      "state": {
       "display": "none",
       "min_width": "6em",
       "width": "6em"
      }
     },
     "336a770e24dc4653813e2572794b77fe": {
      "model_module": "@jupyter-widgets/base",
      "model_module_version": "1.2.0",
      "model_name": "LayoutModel",
      "state": {}
     },
     "33b6811aed95421482c3990ad254b6bc": {
      "model_module": "@jupyter-widgets/controls",
      "model_module_version": "1.5.0",
      "model_name": "DropdownModel",
      "state": {
       "_options_labels": [
        "C:\\Users\\dominiquef\\Documents\\GIT\\mira\\geoapps\\assets\\Temp",
        "C:\\Users\\dominiquef\\Documents\\GIT\\mira\\geoapps\\assets",
        "C:\\Users\\dominiquef\\Documents\\GIT\\mira\\geoapps",
        "C:\\Users\\dominiquef\\Documents\\GIT\\mira",
        "C:\\Users\\dominiquef\\Documents\\GIT",
        "C:\\Users\\dominiquef\\Documents",
        "C:\\Users\\dominiquef",
        "C:\\Users",
        "C:\\",
        "G:\\",
        "\\\\EgnyteDrive\\mirageoscience\\",
        "D:\\"
       ],
       "index": 0,
       "layout": "IPY_MODEL_e64274a7f2094dba99293781c55e9745",
       "style": "IPY_MODEL_68bd5c54417e41089bb9b8a6e9bcd440"
      }
     },
     "33b77681fe334485b16d94f0e534595c": {
      "model_module": "@jupyter-widgets/controls",
      "model_module_version": "1.5.0",
      "model_name": "DescriptionStyleModel",
      "state": {
       "description_width": ""
      }
     },
     "33d2c40f21894f3f9641c5d472706b44": {
      "model_module": "@jupyter-widgets/base",
      "model_module_version": "1.2.0",
      "model_name": "LayoutModel",
      "state": {}
     },
     "33f8e0cfa7a64b9d852cb4cad7d36be5": {
      "model_module": "@jupyter-widgets/controls",
      "model_module_version": "1.5.0",
      "model_name": "DescriptionStyleModel",
      "state": {
       "description_width": "initial"
      }
     },
     "342a49edf67e40c0836acc39ebf096d8": {
      "model_module": "@jupyter-widgets/controls",
      "model_module_version": "1.5.0",
      "model_name": "LabelModel",
      "state": {
       "layout": "IPY_MODEL_242a4563b16b477081b0df4cd69b7890",
       "style": "IPY_MODEL_639004eac1874bef9daaab01502f22b3",
       "value": "Monitoring folder"
      }
     },
     "34331fe4e9cd4e669a1cc34afb18856b": {
      "model_module": "@jupyter-widgets/base",
      "model_module_version": "1.2.0",
      "model_name": "LayoutModel",
      "state": {}
     },
     "3477cd61f2e64d5c986d92c09273d6e1": {
      "model_module": "@jupyter-widgets/controls",
      "model_module_version": "1.5.0",
      "model_name": "TextModel",
      "state": {
       "disabled": true,
       "layout": "IPY_MODEL_91975c7d8cd94303923b92376e513268",
       "placeholder": "output filename",
       "style": "IPY_MODEL_8845f2a1f22d4c8db12e8b8e09874410"
      }
     },
     "34826dacecd34cc7b990b133d3051612": {
      "model_module": "@jupyter-widgets/controls",
      "model_module_version": "1.5.0",
      "model_name": "DescriptionStyleModel",
      "state": {
       "description_width": ""
      }
     },
     "349113eab6f74a258d7169391f0e4851": {
      "model_module": "@jupyter-widgets/controls",
      "model_module_version": "1.5.0",
      "model_name": "DescriptionStyleModel",
      "state": {
       "description_width": "initial"
      }
     },
     "34a03bf085a9401fa4dcf62f9112c89d": {
      "model_module": "@jupyter-widgets/controls",
      "model_module_version": "1.5.0",
      "model_name": "DescriptionStyleModel",
      "state": {
       "description_width": ""
      }
     },
     "34a41f19fa29452eae891781b4c07f5c": {
      "model_module": "@jupyter-widgets/controls",
      "model_module_version": "1.5.0",
      "model_name": "FloatTextModel",
      "state": {
       "description": "Maximum distance (m)",
       "layout": "IPY_MODEL_a9a8af443f7e4b75b7d76e47dfd91cdc",
       "step": null,
       "style": "IPY_MODEL_3f5b73b95dc544b5aecc0a41aa24186e",
       "value": 5000
      }
     },
     "34abd3adb024424cab1fe6b63e31edfb": {
      "model_module": "@jupyter-widgets/controls",
      "model_module_version": "1.5.0",
      "model_name": "VBoxModel",
      "state": {
       "children": [
        "IPY_MODEL_5a3b56e8137b4e789743021643514a51",
        "IPY_MODEL_81a38c2de7d248eabf930ac9353732c7"
       ],
       "layout": "IPY_MODEL_5afcff9c3a934c90a95159396ba6965a"
      }
     },
     "34bdc152806b4298acdf630055d914d5": {
      "model_module": "@jupyter-widgets/base",
      "model_module_version": "1.2.0",
      "model_name": "LayoutModel",
      "state": {}
     },
     "34d5da43815148d78c4f33337ab56895": {
      "model_module": "@jupyter-widgets/controls",
      "model_module_version": "1.5.0",
      "model_name": "DropdownModel",
      "state": {
       "_options_labels": [
        "",
        "ISO/Iso_Iteration_7_model_5_00e-03",
        "ISO/Iso_Iteration_7_model_1_50e-02",
        "ISO/Iso_Iteration_7_model_2_50e-03",
        "ISO/Iso_Iteration_7_model_1_00e-02",
        "ISO/Iso_Iteration_7_model_2_00e-02",
        "Ore/39_Ore_Callinan",
        "Ore/38_Ore_Dan_Owens",
        "Ore/40_Ore_FlinFlon",
        "CDI/COND_surface",
        "CDI/COND[8]_surface",
        "CDI/COND[18]_surface",
        "CDI/COND[3]_surface",
        "CDI/COND[13]_surface",
        "CDI/CDI_",
        "Workspace/InterpGrid",
        "Workspace/Inversion_VTEM_Model",
        "Workspace/InterpGrid",
        "Workspace/Gravity_Magnetics_drape60m",
        "Workspace/CDI_VTEM_model",
        "Workspace/Data_FEM_pseudo3D",
        "Workspace/O2O_Interp_25m",
        "Workspace/geochem",
        "Workspace/Inversion_DIGHEM_Model",
        "Workspace/InterpGrid",
        "Workspace/Topography",
        "Workspace/Data_TEM_pseudo3D",
        "Workspace/Data_ZTEM",
        "Workspace/Mesh",
        "Workspace/InterpGrid"
       ],
       "description": "Object:",
       "index": 18,
       "layout": "IPY_MODEL_218aee5e22ff4364886b80955f1b1503",
       "style": "IPY_MODEL_a1d740ce87184e6a82fd9869c0475512"
      }
     },
     "34eb6abb838e437f84d4973520cfae4b": {
      "model_module": "@jupyter-widgets/controls",
      "model_module_version": "1.5.0",
      "model_name": "DescriptionStyleModel",
      "state": {
       "description_width": "initial"
      }
     },
     "34f70d8f1a5040be8b2c32980bfa7a23": {
      "model_module": "@jupyter-widgets/base",
      "model_module_version": "1.2.0",
      "model_name": "LayoutModel",
      "state": {}
     },
     "3515bbc1a1544e508e216d5ea03fc68a": {
      "model_module": "@jupyter-widgets/controls",
      "model_module_version": "1.5.0",
      "model_name": "DescriptionStyleModel",
      "state": {
       "description_width": "initial"
      }
     },
     "35771c3693e1450589f2e3234a986dcf": {
      "model_module": "@jupyter-widgets/controls",
      "model_module_version": "1.5.0",
      "model_name": "ButtonModel",
      "state": {
       "description": "Change",
       "layout": "IPY_MODEL_516c4b7346414e408949676d4b8ce65c",
       "style": "IPY_MODEL_9672743c21944d0098edd6c287ff8b9b"
      }
     },
     "358fc728fc9e4eb3b597ea794464ac2b": {
      "model_module": "@jupyter-widgets/base",
      "model_module_version": "1.2.0",
      "model_name": "LayoutModel",
      "state": {}
     },
     "359d5dce41ef41f9aaf8802277a10c5c": {
      "model_module": "@jupyter-widgets/controls",
      "model_module_version": "1.5.0",
      "model_name": "DescriptionStyleModel",
      "state": {
       "description_width": ""
      }
     },
     "35fa684cd4154c7d989ca2c57ac2394f": {
      "model_module": "@jupyter-widgets/controls",
      "model_module_version": "1.5.0",
      "model_name": "LabelModel",
      "state": {
       "layout": "IPY_MODEL_42df5c24c0544017b0eea9a0b29dff04",
       "style": "IPY_MODEL_246f0f946ec643db86d71cf3d37043c8",
       "value": "Workspace"
      }
     },
     "361bef9d7b084766b694a0218a155d85": {
      "model_module": "@jupyter-widgets/controls",
      "model_module_version": "1.5.0",
      "model_name": "GridBoxModel",
      "state": {
       "children": [
        "IPY_MODEL_b4e308a1fd1c40aba8fcee4c2ac192ad",
        "IPY_MODEL_5501040a7363458ab559421aabdd483f",
        "IPY_MODEL_4695811b162f4bbb80ded719d0261c9b"
       ],
       "layout": "IPY_MODEL_ef1940bf074548b6a38062ebbd7798a3"
      }
     },
     "3630fb1681c048aa8e0a675d7f430261": {
      "model_module": "@jupyter-widgets/controls",
      "model_module_version": "1.5.0",
      "model_name": "DescriptionStyleModel",
      "state": {
       "description_width": ""
      }
     },
     "364def651b7c43a98b80178de0d03286": {
      "model_module": "@jupyter-widgets/base",
      "model_module_version": "1.2.0",
      "model_name": "LayoutModel",
      "state": {}
     },
     "366e9a6502f04d47b8a2e2f7bf9512b1": {
      "model_module": "@jupyter-widgets/base",
      "model_module_version": "1.2.0",
      "model_name": "LayoutModel",
      "state": {}
     },
     "36f1cdd38f0f49e7a4de47c3dcf0ae67": {
      "model_module": "@jupyter-widgets/controls",
      "model_module_version": "1.5.0",
      "model_name": "HTMLModel",
      "state": {
       "layout": "IPY_MODEL_bf5a3840491c41a6817a67d2c4a5dfa9",
       "style": "IPY_MODEL_e36194bfb87845e6bd4a6d75a589e0bf"
      }
     },
     "36fc0bcb62794a57974a5ad8eceea1ac": {
      "model_module": "@jupyter-widgets/base",
      "model_module_version": "1.2.0",
      "model_name": "LayoutModel",
      "state": {
       "display": "none",
       "grid_gap": "0px 0px",
       "grid_template_areas": "\n                    'pathlist filename'\n                    'dircontent dircontent'\n                    ",
       "grid_template_columns": "60% 40%",
       "grid_template_rows": "auto auto",
       "width": "auto"
      }
     },
     "370c5b5a249343afbb1fa37f7488fd26": {
      "model_module": "@jupyter-widgets/controls",
      "model_module_version": "1.5.0",
      "model_name": "DescriptionStyleModel",
      "state": {
       "description_width": "initial"
      }
     },
     "37520b53ad064b9dbee75909f739c707": {
      "model_module": "@jupyter-widgets/base",
      "model_module_version": "1.2.0",
      "model_name": "LayoutModel",
      "state": {}
     },
     "377538e36e264867970daf6654d1208f": {
      "model_module": "@jupyter-widgets/controls",
      "model_module_version": "1.5.0",
      "model_name": "VBoxModel",
      "state": {
       "children": [
        "IPY_MODEL_1ef30c258ac341a689063104000005b5"
       ],
       "layout": "IPY_MODEL_badc0f52b33f450aa704d026ef87113c"
      }
     },
     "380981b3c4954b0a8b811a4d09ec6734": {
      "model_module": "@jupyter-widgets/base",
      "model_module_version": "1.2.0",
      "model_name": "LayoutModel",
      "state": {
       "width": "auto"
      }
     },
     "38194eb3e2aa4a39861e56d330975eb0": {
      "model_module": "@jupyter-widgets/controls",
      "model_module_version": "1.5.0",
      "model_name": "DropdownModel",
      "state": {
       "_options_labels": [
        "C:\\Users\\dominiquef\\Documents\\GIT\\mira\\geoapps\\assets",
        "C:\\Users\\dominiquef\\Documents\\GIT\\mira\\geoapps",
        "C:\\Users\\dominiquef\\Documents\\GIT\\mira",
        "C:\\Users\\dominiquef\\Documents\\GIT",
        "C:\\Users\\dominiquef\\Documents",
        "C:\\Users\\dominiquef",
        "C:\\Users",
        "C:\\",
        "G:\\",
        "\\\\EgnyteDrive\\mirageoscience\\",
        "D:\\"
       ],
       "index": 0,
       "layout": "IPY_MODEL_41a943cc52de48b68477373fcc116a56",
       "style": "IPY_MODEL_e8745e58a2cd43c989569f1b69374d59"
      }
     },
     "381ea4953c214f57972a72497d547d33": {
      "model_module": "@jupyter-widgets/controls",
      "model_module_version": "1.5.0",
      "model_name": "ButtonStyleModel",
      "state": {}
     },
     "385ea8bba0694f70910af469accd64d6": {
      "model_module": "@jupyter-widgets/controls",
      "model_module_version": "1.5.0",
      "model_name": "VBoxModel",
      "state": {
       "children": [
        "IPY_MODEL_ec13cc6f0ff34f42b4b5ac4308448656"
       ],
       "layout": "IPY_MODEL_020537f2d1564000b51777227fd6de3d"
      }
     },
     "388b3711fc3e435da7f2d3e7df1ae67f": {
      "model_module": "@jupyter-widgets/controls",
      "model_module_version": "1.5.0",
      "model_name": "SliderStyleModel",
      "state": {
       "description_width": ""
      }
     },
     "38c9c68fb6ef4fe69b6cc34ebabe842b": {
      "model_module": "@jupyter-widgets/base",
      "model_module_version": "1.2.0",
      "model_name": "LayoutModel",
      "state": {
       "display": "none",
       "grid_gap": "0px 0px",
       "grid_template_areas": "\n                    'pathlist pathlist'\n                    'dircontent dircontent'\n                    ",
       "grid_template_columns": "60% 40%",
       "grid_template_rows": "auto auto",
       "width": "auto"
      }
     },
     "3909aef83bf5425abb760f4257b2bcd1": {
      "model_module": "@jupyter-widgets/controls",
      "model_module_version": "1.5.0",
      "model_name": "ButtonStyleModel",
      "state": {}
     },
     "39104440e54a4c31a251118a6212bd6c": {
      "model_module": "@jupyter-widgets/controls",
      "model_module_version": "1.5.0",
      "model_name": "DescriptionStyleModel",
      "state": {
       "description_width": ""
      }
     },
     "393678545b3745b9ac34c4417241d180": {
      "model_module": "@jupyter-widgets/controls",
      "model_module_version": "1.5.0",
      "model_name": "ButtonModel",
      "state": {
       "button_style": "danger",
       "description": "Compute",
       "icon": "check",
       "layout": "IPY_MODEL_d77362626b134ed489adfe932ead25db",
       "style": "IPY_MODEL_637a694a05c841b08c2cf7d355aab803",
       "tooltip": "Run computation"
      }
     },
     "394c36856d29489a8f93a3bed5392ace": {
      "model_module": "@jupyter-widgets/controls",
      "model_module_version": "1.5.0",
      "model_name": "ToggleButtonModel",
      "state": {
       "layout": "IPY_MODEL_4b498abfe0b24c0ba5a50bbcc8c68d33",
       "style": "IPY_MODEL_f3cda1f5ac9042758d8e5073fc3d8d06"
      }
     },
     "399960b541d0426f9e0136d41a2c5c24": {
      "model_module": "@jupyter-widgets/controls",
      "model_module_version": "1.5.0",
      "model_name": "DescriptionStyleModel",
      "state": {
       "description_width": ""
      }
     },
     "39b7cc787ebf4c5aafa89826af095071": {
      "model_module": "@jupyter-widgets/base",
      "model_module_version": "1.2.0",
      "model_name": "LayoutModel",
      "state": {}
     },
     "39b962625bd743fead8fd556860ec20a": {
      "model_module": "@jupyter-widgets/controls",
      "model_module_version": "1.5.0",
      "model_name": "VBoxModel",
      "state": {
       "children": [
        "IPY_MODEL_06a67525b2ac4120baa7cf85d1325805",
        "IPY_MODEL_2a27c74cf94f456780939b77f4f6d206",
        "IPY_MODEL_8c4f2ea065f74f608f8e7aad653c757a"
       ],
       "layout": "IPY_MODEL_2ded96b474f0462290b47dd42bc9c773"
      }
     },
     "39c410ef4921432791afc65e914c15cb": {
      "model_module": "@jupyter-widgets/base",
      "model_module_version": "1.2.0",
      "model_name": "LayoutModel",
      "state": {
       "margin": "0 0 0 1em"
      }
     },
     "39f6a523a7d54a47afe5efaa9166cb02": {
      "model_module": "@jupyter-widgets/controls",
      "model_module_version": "1.5.0",
      "model_name": "DescriptionStyleModel",
      "state": {
       "description_width": ""
      }
     },
     "39f9659b20e54bd3a025a18b5e8b86ae": {
      "model_module": "@jupyter-widgets/controls",
      "model_module_version": "1.5.0",
      "model_name": "DescriptionStyleModel",
      "state": {
       "description_width": "initial"
      }
     },
     "39fb04a783d54cef98f2b2c86e5664c1": {
      "model_module": "@jupyter-widgets/controls",
      "model_module_version": "1.5.0",
      "model_name": "DescriptionStyleModel",
      "state": {
       "description_width": ""
      }
     },
     "3a105b9503c44edaa6bdc159fb8ffc3c": {
      "model_module": "@jupyter-widgets/base",
      "model_module_version": "1.2.0",
      "model_name": "LayoutModel",
      "state": {
       "overflow": "auto"
      }
     },
     "3a1bf0bb1a3f42dea58be20c771280bb": {
      "model_module": "@jupyter-widgets/base",
      "model_module_version": "1.2.0",
      "model_name": "LayoutModel",
      "state": {
       "width": "auto"
      }
     },
     "3a22cac64b4d4773a817c10ab67f4b3b": {
      "model_module": "@jupyter-widgets/controls",
      "model_module_version": "1.5.0",
      "model_name": "DescriptionStyleModel",
      "state": {
       "description_width": "initial"
      }
     },
     "3a3318cac64c46f3988d1c8c2b3628ea": {
      "model_module": "@jupyter-widgets/controls",
      "model_module_version": "1.5.0",
      "model_name": "DescriptionStyleModel",
      "state": {
       "description_width": "initial"
      }
     },
     "3a49ca036d8a4ca8be435d41c015985a": {
      "model_module": "@jupyter-widgets/controls",
      "model_module_version": "1.5.0",
      "model_name": "ButtonStyleModel",
      "state": {}
     },
     "3a52ad32f1594ffc854793fbd8675d64": {
      "model_module": "@jupyter-widgets/controls",
      "model_module_version": "1.5.0",
      "model_name": "DescriptionStyleModel",
      "state": {
       "description_width": ""
      }
     },
     "3a5c2dd6d63b485491222193e6ed3639": {
      "model_module": "@jupyter-widgets/base",
      "model_module_version": "1.2.0",
      "model_name": "LayoutModel",
      "state": {}
     },
     "3aa8e2f5bacb449d8e2fb24789f762db": {
      "model_module": "@jupyter-widgets/controls",
      "model_module_version": "1.5.0",
      "model_name": "HTMLModel",
      "state": {
       "layout": "IPY_MODEL_fbfdd562254e4d2f8ef1186919282a49",
       "placeholder": "",
       "style": "IPY_MODEL_70e7a47712bf418a98b143892995e8fd",
       "value": "<span style=\"color:green;\">C:\\Users\\dominiquef\\Documents\\GIT\\mira\\geoapps\\assets\\Temp\\</span>"
      }
     },
     "3ab46c9cbf914b5498352fb7ae9f95eb": {
      "model_module": "@jupyter-widgets/controls",
      "model_module_version": "1.5.0",
      "model_name": "DescriptionStyleModel",
      "state": {
       "description_width": ""
      }
     },
     "3ae872bbeff5434b80b82f3d27dd439a": {
      "model_module": "@jupyter-widgets/base",
      "model_module_version": "1.2.0",
      "model_name": "LayoutModel",
      "state": {
       "width": "auto"
      }
     },
     "3b1b610207c7452cbbe79ea11890f721": {
      "model_module": "@jupyter-widgets/base",
      "model_module_version": "1.2.0",
      "model_name": "LayoutModel",
      "state": {}
     },
     "3b32727e310345669a4dd8a6a1f5e14c": {
      "model_module": "@jupyter-widgets/controls",
      "model_module_version": "1.5.0",
      "model_name": "DescriptionStyleModel",
      "state": {
       "description_width": "initial"
      }
     },
     "3b8f579e7668476595d7d33572aac888": {
      "model_module": "@jupyter-widgets/base",
      "model_module_version": "1.2.0",
      "model_name": "LayoutModel",
      "state": {}
     },
     "3b90fc788e9243b08eac701b33ee876a": {
      "model_module": "@jupyter-widgets/base",
      "model_module_version": "1.2.0",
      "model_name": "LayoutModel",
      "state": {
       "display": "none",
       "grid_area": "filename",
       "width": "auto"
      }
     },
     "3b938e44569b46a59540c5aac8849e82": {
      "model_module": "@jupyter-widgets/base",
      "model_module_version": "1.2.0",
      "model_name": "LayoutModel",
      "state": {}
     },
     "3ba45a84565749179f02b6fcd4ebb05f": {
      "model_module": "@jupyter-widgets/controls",
      "model_module_version": "1.5.0",
      "model_name": "DescriptionStyleModel",
      "state": {
       "description_width": ""
      }
     },
     "3bb4924f82324b58bfc49bb0ca94c28c": {
      "model_module": "@jupyter-widgets/controls",
      "model_module_version": "1.5.0",
      "model_name": "DescriptionStyleModel",
      "state": {
       "description_width": ""
      }
     },
     "3bc2052fe8b6471b8406d7e2099ca96e": {
      "model_module": "@jupyter-widgets/controls",
      "model_module_version": "1.5.0",
      "model_name": "VBoxModel",
      "state": {
       "children": [
        "IPY_MODEL_36f1cdd38f0f49e7a4de47c3dcf0ae67",
        "IPY_MODEL_b0f7fbf95ec140419d4ecdac5ed1bd34",
        "IPY_MODEL_967ea79df09544cdbad2a19dcdf12303"
       ],
       "layout": "IPY_MODEL_2ded96b474f0462290b47dd42bc9c773"
      }
     },
     "3bd01018c557432bbadb4ba9a6e87d94": {
      "model_module": "@jupyter-widgets/controls",
      "model_module_version": "1.5.0",
      "model_name": "FloatTextModel",
      "state": {
       "description": "Floor:",
       "layout": "IPY_MODEL_260588313581475e9341db0f251dad83",
       "step": null,
       "style": "IPY_MODEL_c43e7d4059bf4937ad7d5ea7aeeccc8b",
       "value": 1
      }
     },
     "3bf213534e604dc78015cf29486313ca": {
      "model_module": "@jupyter-widgets/controls",
      "model_module_version": "1.5.0",
      "model_name": "DescriptionStyleModel",
      "state": {
       "description_width": "initial"
      }
     },
     "3bf9a699b04d4c57b934af6ed44df951": {
      "model_module": "@jupyter-widgets/controls",
      "model_module_version": "1.5.0",
      "model_name": "DescriptionStyleModel",
      "state": {
       "description_width": "initial"
      }
     },
     "3c2f9272a321477eae3e0bd005d8a759": {
      "model_module": "@jupyter-widgets/controls",
      "model_module_version": "1.5.0",
      "model_name": "DescriptionStyleModel",
      "state": {
       "description_width": "initial"
      }
     },
     "3c55b63dd66d4ffeac3015858ad10c26": {
      "model_module": "@jupyter-widgets/controls",
      "model_module_version": "1.5.0",
      "model_name": "DescriptionStyleModel",
      "state": {
       "description_width": "initial"
      }
     },
     "3c6a444c53c240f79e1fb215dc74d66b": {
      "model_module": "@jupyter-widgets/controls",
      "model_module_version": "1.5.0",
      "model_name": "DescriptionStyleModel",
      "state": {
       "description_width": "initial"
      }
     },
     "3c6fb4633b1e4c81aca8cc97d18a12b2": {
      "model_module": "@jupyter-widgets/controls",
      "model_module_version": "1.5.0",
      "model_name": "FloatTextModel",
      "state": {
       "description": "Units",
       "layout": "IPY_MODEL_7dabe82148cc4a9aa4199ad0d1cb71b3",
       "step": null,
       "style": "IPY_MODEL_fa0aae90bbc64d56aeb698e07c47c7a2"
      }
     },
     "3cbef38844c84406887dd84d6b79090d": {
      "model_module": "@jupyter-widgets/controls",
      "model_module_version": "1.5.0",
      "model_name": "DescriptionStyleModel",
      "state": {
       "description_width": "initial"
      }
     },
     "3ceaf0aa781d487dacde48981386814d": {
      "model_module": "@jupyter-widgets/base",
      "model_module_version": "1.2.0",
      "model_name": "LayoutModel",
      "state": {}
     },
     "3d2633312cfd4c23a71da6f647219b55": {
      "model_module": "@jupyter-widgets/controls",
      "model_module_version": "1.5.0",
      "model_name": "DescriptionStyleModel",
      "state": {
       "description_width": "initial"
      }
     },
     "3d3ba38fad434b20a0f045831e502dcd": {
      "model_module": "@jupyter-widgets/base",
      "model_module_version": "1.2.0",
      "model_name": "LayoutModel",
      "state": {}
     },
     "3d7f63f8d0c44f9fa7a59cfde4701062": {
      "model_module": "@jupyter-widgets/controls",
      "model_module_version": "1.5.0",
      "model_name": "DescriptionStyleModel",
      "state": {
       "description_width": ""
      }
     },
     "3d94b847eccd402d93d50ff5bf074970": {
      "model_module": "@jupyter-widgets/base",
      "model_module_version": "1.2.0",
      "model_name": "LayoutModel",
      "state": {}
     },
     "3da11ea0afe545cdb643d62178d6c26d": {
      "model_module": "@jupyter-widgets/controls",
      "model_module_version": "1.5.0",
      "model_name": "SliderStyleModel",
      "state": {
       "description_width": "initial"
      }
     },
     "3dd963b83c74448581b004776a08f820": {
      "model_module": "@jupyter-widgets/controls",
      "model_module_version": "1.5.0",
      "model_name": "VBoxModel",
      "state": {
       "children": [
        "IPY_MODEL_1fd31f656448425f949ee7828977d948",
        "IPY_MODEL_fe91069b1a8d446fbf50e8fdb72cce15"
       ],
       "layout": "IPY_MODEL_f650beb794b64822b2db602c63d0bba7"
      }
     },
     "3dddbb439ce449e093cf18bb0a25df61": {
      "model_module": "@jupyter-widgets/controls",
      "model_module_version": "1.5.0",
      "model_name": "ButtonStyleModel",
      "state": {}
     },
     "3df6990146664600afee35303f69ba07": {
      "model_module": "@jupyter-widgets/base",
      "model_module_version": "1.2.0",
      "model_name": "LayoutModel",
      "state": {}
     },
     "3dfe527a217141dd86214afec9efb922": {
      "model_module": "@jupyter-widgets/controls",
      "model_module_version": "1.5.0",
      "model_name": "DescriptionStyleModel",
      "state": {
       "description_width": "initial"
      }
     },
     "3e25843ee7d64a7f92274ce4659dd4c8": {
      "model_module": "@jupyter-widgets/base",
      "model_module_version": "1.2.0",
      "model_name": "LayoutModel",
      "state": {
       "width": "auto"
      }
     },
     "3e39a67691164cc8960689cbd4ff8444": {
      "model_module": "@jupyter-widgets/controls",
      "model_module_version": "1.5.0",
      "model_name": "DescriptionStyleModel",
      "state": {
       "description_width": ""
      }
     },
     "3e4926d8528143569465030aa24e954d": {
      "model_module": "@jupyter-widgets/base",
      "model_module_version": "1.2.0",
      "model_name": "LayoutModel",
      "state": {
       "min_width": "6em",
       "width": "6em"
      }
     },
     "3e7d71fdd2754bc88bd2bd19b5f079c9": {
      "model_module": "@jupyter-widgets/base",
      "model_module_version": "1.2.0",
      "model_name": "LayoutModel",
      "state": {}
     },
     "3e88b6a1a9cf48a9abe2cc26559cf48b": {
      "model_module": "@jupyter-widgets/base",
      "model_module_version": "1.2.0",
      "model_name": "LayoutModel",
      "state": {
       "display": "none"
      }
     },
     "3ea1d7f50b2b4f4c90e6ac3ae5529878": {
      "model_module": "@jupyter-widgets/controls",
      "model_module_version": "1.5.0",
      "model_name": "HTMLModel",
      "state": {
       "layout": "IPY_MODEL_d55080478eb8414399735740f73661bf",
       "placeholder": "",
       "style": "IPY_MODEL_aca5b01ca94e4cee8e94075ed17b2c9a",
       "value": "<span style=\"color:green;\">C:\\Users\\dominiquef\\Documents\\GIT\\mira\\geoapps\\assets\\Temp\\</span>"
      }
     },
     "3ebfc5e3b20c4455905b998d32f8e2fb": {
      "model_module": "@jupyter-widgets/controls",
      "model_module_version": "1.5.0",
      "model_name": "GridBoxModel",
      "state": {
       "children": [
        "IPY_MODEL_33b6811aed95421482c3990ad254b6bc",
        "IPY_MODEL_58ac6aa2f7494972883abb305d9a086f",
        "IPY_MODEL_261c39bacf154dfbb02b1799c39496f6"
       ],
       "layout": "IPY_MODEL_bbb5e16b14314d0f83b03ecca3b11caf"
      }
     },
     "3f37bc7386b84d14826a052d18407dbb": {
      "model_module": "@jupyter-widgets/controls",
      "model_module_version": "1.5.0",
      "model_name": "FloatTextModel",
      "state": {
       "description": "Floor:",
       "layout": "IPY_MODEL_735e003ada754224b8cf21e6d362e0b9",
       "step": null,
       "style": "IPY_MODEL_7f641050ee634cc883643f6c319a4b59",
       "value": 10
      }
     },
     "3f3a32ae8d5c48bbb3a3bf4df4d68237": {
      "model_module": "@jupyter-widgets/controls",
      "model_module_version": "1.5.0",
      "model_name": "DescriptionStyleModel",
      "state": {
       "description_width": ""
      }
     },
     "3f3ee41d33574b2baa6ab3f8240e49f7": {
      "model_module": "@jupyter-widgets/controls",
      "model_module_version": "1.5.0",
      "model_name": "BoxModel",
      "state": {
       "children": [
        "IPY_MODEL_1bcd0a0d4057407c8ff4a333fc971fee"
       ],
       "layout": "IPY_MODEL_8222289f12004fa7a1daa557a11b0e2f"
      }
     },
     "3f5b73b95dc544b5aecc0a41aa24186e": {
      "model_module": "@jupyter-widgets/controls",
      "model_module_version": "1.5.0",
      "model_name": "DescriptionStyleModel",
      "state": {
       "description_width": "initial"
      }
     },
     "3f8785218d3f42bba36dc322e915acab": {
      "model_module": "@jupyter-widgets/base",
      "model_module_version": "1.2.0",
      "model_name": "LayoutModel",
      "state": {
       "grid_area": "pathlist",
       "width": "auto"
      }
     },
     "3f9d87ccaa1c478a9532264bddf6dbc6": {
      "model_module": "@jupyter-widgets/base",
      "model_module_version": "1.2.0",
      "model_name": "LayoutModel",
      "state": {}
     },
     "3fe18d19e3e04770837a7e0fc8b5b26d": {
      "model_module": "@jupyter-widgets/controls",
      "model_module_version": "1.5.0",
      "model_name": "DescriptionStyleModel",
      "state": {
       "description_width": "initial"
      }
     },
     "3ff6d1d6dbe043e09d2354cee2af3300": {
      "model_module": "@jupyter-widgets/base",
      "model_module_version": "1.2.0",
      "model_name": "LayoutModel",
      "state": {}
     },
     "40283afc14d944caa087e949670712bd": {
      "model_module": "@jupyter-widgets/base",
      "model_module_version": "1.2.0",
      "model_name": "LayoutModel",
      "state": {}
     },
     "403555f6662e43e8bbc3baad7b5baaee": {
      "model_module": "@jupyter-widgets/controls",
      "model_module_version": "1.5.0",
      "model_name": "FloatTextModel",
      "state": {
       "description": "CG Tolerance",
       "layout": "IPY_MODEL_228ee294ad524e368349da113a6b715d",
       "step": null,
       "style": "IPY_MODEL_2abd075aba62442a948b3040fb0e0efc",
       "value": 0.0001
      }
     },
     "40700939314d4bf9976a1215fc9fa9e5": {
      "model_module": "@jupyter-widgets/controls",
      "model_module_version": "1.5.0",
      "model_name": "ButtonStyleModel",
      "state": {}
     },
     "40b14cf5761a484f8b132f2de98e9a2d": {
      "model_module": "@jupyter-widgets/controls",
      "model_module_version": "1.5.0",
      "model_name": "RadioButtonsModel",
      "state": {
       "_options_labels": [
        "Model",
        "Constant",
        "None"
       ],
       "index": 2,
       "layout": "IPY_MODEL_ef2d7c7f405d4260a779bc99a686f3e1",
       "style": "IPY_MODEL_7842a3b181ad474799ea7ccfdc8b2385"
      }
     },
     "40f3f0206ce94bc090841cf780bc704b": {
      "model_module": "@jupyter-widgets/controls",
      "model_module_version": "1.5.0",
      "model_name": "DescriptionStyleModel",
      "state": {
       "description_width": ""
      }
     },
     "41296c387dcf4f54b0a7edddc5786166": {
      "model_module": "@jupyter-widgets/controls",
      "model_module_version": "1.5.0",
      "model_name": "DescriptionStyleModel",
      "state": {
       "description_width": "initial"
      }
     },
     "41375b516c254dda89ed58cff3986204": {
      "model_module": "@jupyter-widgets/controls",
      "model_module_version": "1.5.0",
      "model_name": "DescriptionStyleModel",
      "state": {
       "description_width": ""
      }
     },
     "41453db2b45345f6ab36ace7c2a2a00d": {
      "model_module": "@jupyter-widgets/controls",
      "model_module_version": "1.5.0",
      "model_name": "TextModel",
      "state": {
       "continuous_update": false,
       "description": "Contours",
       "layout": "IPY_MODEL_af8ed66f844e43d2b6096bc756d3928a",
       "style": "IPY_MODEL_3166d86c628f4f64bbd8afa369f3658c"
      }
     },
     "4173535a3b8f48e0a7acae605ca29846": {
      "model_module": "@jupyter-widgets/controls",
      "model_module_version": "1.5.0",
      "model_name": "DescriptionStyleModel",
      "state": {
       "description_width": "initial"
      }
     },
     "4184a78caacc4ed9a5e6368f299585a7": {
      "model_module": "@jupyter-widgets/base",
      "model_module_version": "1.2.0",
      "model_name": "LayoutModel",
      "state": {}
     },
     "418648a9451946b0bb252f84d55af4eb": {
      "model_module": "@jupyter-widgets/controls",
      "model_module_version": "1.5.0",
      "model_name": "VBoxModel",
      "state": {
       "children": [
        "IPY_MODEL_2b6bca6f5def4a3aa26d9de924ab7fbd",
        "IPY_MODEL_454ab40399d5405cbb0b9c8aeb89d6bb",
        "IPY_MODEL_452aecdb8ef048fe96b619ece53ffa0b",
        "IPY_MODEL_b8df4f06633d47e8a7200f393b9e93b7"
       ],
       "layout": "IPY_MODEL_b6c400b26a774be69acc33112eb65bd3"
      }
     },
     "41a943cc52de48b68477373fcc116a56": {
      "model_module": "@jupyter-widgets/base",
      "model_module_version": "1.2.0",
      "model_name": "LayoutModel",
      "state": {
       "grid_area": "pathlist",
       "width": "auto"
      }
     },
     "41c2df79b91b4190a2e25dd6bf9c3b6a": {
      "model_module": "@jupyter-widgets/controls",
      "model_module_version": "1.5.0",
      "model_name": "DescriptionStyleModel",
      "state": {
       "description_width": "initial"
      }
     },
     "41d806c13e67409497d20f15423061c7": {
      "model_module": "@jupyter-widgets/controls",
      "model_module_version": "1.5.0",
      "model_name": "DescriptionStyleModel",
      "state": {
       "description_width": "initial"
      }
     },
     "41e3ce1d87be4c68be4c413138d1ae16": {
      "model_module": "@jupyter-widgets/base",
      "model_module_version": "1.2.0",
      "model_name": "LayoutModel",
      "state": {}
     },
     "4212f507ce83496dab255880d1947b9b": {
      "model_module": "@jupyter-widgets/controls",
      "model_module_version": "1.5.0",
      "model_name": "VBoxModel",
      "state": {
       "children": [
        "IPY_MODEL_c65b168bc7d84a3aa0b5c8a5ffaa32dc",
        "IPY_MODEL_385ea8bba0694f70910af469accd64d6"
       ],
       "layout": "IPY_MODEL_4fc681a32eb240fc972e1fb1b0267375"
      }
     },
     "42270ae4a1224325a3b1b326cd9d0e60": {
      "model_module": "@jupyter-widgets/controls",
      "model_module_version": "1.5.0",
      "model_name": "HBoxModel",
      "state": {
       "children": [
        "IPY_MODEL_c12a17a33e6a4731a2734ef18bf21f8f",
        "IPY_MODEL_fe2c569dbe454b729e20c5ea6ea3f2ea",
        "IPY_MODEL_fc0cb7396c9d4c37964be13d239d48bd"
       ],
       "layout": "IPY_MODEL_16286fa1a55a441385a5dcc92e51953a"
      }
     },
     "425d18afe550461390d3e18dcad14d4b": {
      "model_module": "@jupyter-widgets/base",
      "model_module_version": "1.2.0",
      "model_name": "LayoutModel",
      "state": {}
     },
     "4270779f224c417790d228b4cb3fc427": {
      "model_module": "@jupyter-widgets/controls",
      "model_module_version": "1.5.0",
      "model_name": "TextModel",
      "state": {
       "continuous_update": false,
       "description": "Group:",
       "layout": "IPY_MODEL_f3eaf583ff8a440187b967d5d6a45561",
       "style": "IPY_MODEL_ae9bba22af5b486f8b42c6124ced8793"
      }
     },
     "427a7da35a424548b0ffbff0694730c2": {
      "model_module": "@jupyter-widgets/controls",
      "model_module_version": "1.5.0",
      "model_name": "DescriptionStyleModel",
      "state": {
       "description_width": ""
      }
     },
     "42a6783ac322488298ed93d45e07ffcf": {
      "model_module": "@jupyter-widgets/base",
      "model_module_version": "1.2.0",
      "model_name": "LayoutModel",
      "state": {}
     },
     "42df5c24c0544017b0eea9a0b29dff04": {
      "model_module": "@jupyter-widgets/base",
      "model_module_version": "1.2.0",
      "model_name": "LayoutModel",
      "state": {}
     },
     "42e835b2c55b4953b98c18931c04652c": {
      "model_module": "@jupyter-widgets/controls",
      "model_module_version": "1.5.0",
      "model_name": "DescriptionStyleModel",
      "state": {
       "description_width": "initial"
      }
     },
     "42fb945e596d4177bbd3c202349731ba": {
      "model_module": "@jupyter-widgets/controls",
      "model_module_version": "1.5.0",
      "model_name": "DescriptionStyleModel",
      "state": {
       "description_width": "initial"
      }
     },
     "4320d8846ec14132b2bb15771f18ba86": {
      "model_module": "@jupyter-widgets/controls",
      "model_module_version": "1.5.0",
      "model_name": "VBoxModel",
      "state": {
       "children": [
        "IPY_MODEL_48585697bf6246238acbfee34446602a",
        "IPY_MODEL_6590da6cb8294e419ea75f56f518bcb8"
       ],
       "layout": "IPY_MODEL_c40773576726450ead7387464a129290"
      }
     },
     "436988e706304ffb8fd52938df653547": {
      "model_module": "@jupyter-widgets/controls",
      "model_module_version": "1.5.0",
      "model_name": "ButtonStyleModel",
      "state": {}
     },
     "437395619ea742be95d113a228c3035e": {
      "model_module": "@jupyter-widgets/controls",
      "model_module_version": "1.5.0",
      "model_name": "LabelModel",
      "state": {
       "layout": "IPY_MODEL_7e1c5abe6b594a3fba60e1a2cba8fc4b",
       "style": "IPY_MODEL_f010c49dd6d94a929a1dfe3cc8322084",
       "value": "Offsets"
      }
     },
     "437be1f24d4e4471b0d705b9f2afa34a": {
      "model_module": "@jupyter-widgets/controls",
      "model_module_version": "1.5.0",
      "model_name": "DescriptionStyleModel",
      "state": {
       "description_width": ""
      }
     },
     "438804579b294b79ae0d33842c725f4b": {
      "model_module": "@jupyter-widgets/base",
      "model_module_version": "1.2.0",
      "model_name": "LayoutModel",
      "state": {
       "overflow": "auto"
      }
     },
     "43b83dfbfa8541f68f17c212a3b521a8": {
      "model_module": "@jupyter-widgets/controls",
      "model_module_version": "1.5.0",
      "model_name": "DescriptionStyleModel",
      "state": {
       "description_width": ""
      }
     },
     "43d579ca09084e76881f65d1d16d774f": {
      "model_module": "@jupyter-widgets/controls",
      "model_module_version": "1.5.0",
      "model_name": "FloatTextModel",
      "state": {
       "description": "Degree",
       "layout": "IPY_MODEL_4d1fb8f2f5d346ff8aa3d04403992f19",
       "step": null,
       "style": "IPY_MODEL_a59bd3e419a54563a15f1b4f5b546a6e",
       "value": 11
      }
     },
     "43d9712ebaf045acb87af30b4ab32eed": {
      "model_module": "@jupyter-widgets/controls",
      "model_module_version": "1.5.0",
      "model_name": "DescriptionStyleModel",
      "state": {
       "description_width": "initial"
      }
     },
     "43fad9e42dec4220b6d84f6981387c17": {
      "model_module": "@jupyter-widgets/controls",
      "model_module_version": "1.5.0",
      "model_name": "DescriptionStyleModel",
      "state": {
       "description_width": ""
      }
     },
     "443e00e92e9d4e9bae6af7e95e0cf162": {
      "model_module": "@jupyter-widgets/base",
      "model_module_version": "1.2.0",
      "model_name": "LayoutModel",
      "state": {}
     },
     "448e7d6a1caf4fd1ad86f6a0cdc41ea1": {
      "model_module": "@jupyter-widgets/controls",
      "model_module_version": "1.5.0",
      "model_name": "DescriptionStyleModel",
      "state": {
       "description_width": ""
      }
     },
     "44d4383683ee4531897186226ee27dbc": {
      "model_module": "@jupyter-widgets/base",
      "model_module_version": "1.2.0",
      "model_name": "LayoutModel",
      "state": {}
     },
     "44d7787d7cef427290428b8838714a62": {
      "model_module": "@jupyter-widgets/controls",
      "model_module_version": "1.5.0",
      "model_name": "DescriptionStyleModel",
      "state": {
       "description_width": ""
      }
     },
     "44fa7ba0d61b4ac8b4241ad6226eaf00": {
      "model_module": "@jupyter-widgets/controls",
      "model_module_version": "1.5.0",
      "model_name": "DescriptionStyleModel",
      "state": {
       "description_width": ""
      }
     },
     "452aecdb8ef048fe96b619ece53ffa0b": {
      "model_module": "@jupyter-widgets/controls",
      "model_module_version": "1.5.0",
      "model_name": "LabelModel",
      "state": {
       "layout": "IPY_MODEL_b2fcc74fd61740dc870847f1f06eb0f9",
       "style": "IPY_MODEL_877c10ed3da443f5ae1d0a43c87a1f4a",
       "value": "Uncertainties"
      }
     },
     "452e86cfc3494370b8596fb9f47aa81b": {
      "model_module": "@jupyter-widgets/controls",
      "model_module_version": "1.5.0",
      "model_name": "DescriptionStyleModel",
      "state": {
       "description_width": "initial"
      }
     },
     "454ab40399d5405cbb0b9c8aeb89d6bb": {
      "model_module": "@jupyter-widgets/controls",
      "model_module_version": "1.5.0",
      "model_name": "DropdownModel",
      "state": {
       "_options_labels": [
        "",
        "Airborne_Gxx",
        "Airborne_Gxy",
        "Airborne_Gxz",
        "Airborne_Gyy",
        "Airborne_Gyz",
        "Airborne_Gz",
        "Airborne_Gzz",
        "Airborne_TMI",
        "Ground_Gz"
       ],
       "description": "Channel:",
       "index": 0,
       "layout": "IPY_MODEL_00a60c5197964f84b0b1e2dcc3a9dcc4",
       "style": "IPY_MODEL_2905981855f54749a91b566bcd289731"
      }
     },
     "45605442ce95459abefa79cc7c4ee6f5": {
      "model_module": "@jupyter-widgets/controls",
      "model_module_version": "1.5.0",
      "model_name": "BoxModel",
      "state": {
       "children": [
        "IPY_MODEL_acebc8faed4943d29902da10576083c7"
       ],
       "layout": "IPY_MODEL_3a105b9503c44edaa6bdc159fb8ffc3c"
      }
     },
     "459e1fef9c1b4a99bdb54a90127aa7f5": {
      "model_module": "@jupyter-widgets/controls",
      "model_module_version": "1.5.0",
      "model_name": "DescriptionStyleModel",
      "state": {
       "description_width": ""
      }
     },
     "45b3577f099f4e32b2a812ae1420bc94": {
      "model_module": "@jupyter-widgets/controls",
      "model_module_version": "1.5.0",
      "model_name": "VBoxModel",
      "state": {
       "children": [
        "IPY_MODEL_0d62cca0e5374256b1aab72d0548ec78",
        "IPY_MODEL_437395619ea742be95d113a228c3035e",
        "IPY_MODEL_db79b818d03243189a694b3bdfcc914c",
        "IPY_MODEL_465733d24ca94b6ab4269d595c24fded",
        "IPY_MODEL_8587f89c02e748e5a3135c83a740140d",
        "IPY_MODEL_2e19a41b5aae4b07bb7b4a7ac2279c3f"
       ],
       "layout": "IPY_MODEL_3d94b847eccd402d93d50ff5bf074970"
      }
     },
     "45b7a77467934521855c79e1439a847a": {
      "model_module": "@jupyter-widgets/controls",
      "model_module_version": "1.5.0",
      "model_name": "DescriptionStyleModel",
      "state": {
       "description_width": ""
      }
     },
     "45cded5f2197457bbe04c4e97c9a939e": {
      "model_module": "@jupyter-widgets/controls",
      "model_module_version": "1.5.0",
      "model_name": "DescriptionStyleModel",
      "state": {
       "description_width": ""
      }
     },
     "45dd51dc09ec4919be6271f1711bdf60": {
      "model_module": "@jupyter-widgets/controls",
      "model_module_version": "1.5.0",
      "model_name": "DescriptionStyleModel",
      "state": {
       "description_width": ""
      }
     },
     "45eb55df1d4745d3857c9857f88134ea": {
      "model_module": "@jupyter-widgets/controls",
      "model_module_version": "1.5.0",
      "model_name": "SelectModel",
      "state": {
       "_options_labels": [
        "📁 ..",
        "📁 SimPEG_PFInversion",
        "📁 Temp",
        "📁 uijson",
        "FlinFlon.geoh5",
        "FlinFlon_dcip.geoh5",
        "FlinFlon_natural_sources.geoh5",
        "MtDore_TMI.geoh5",
        "tem.geoh5",
        "test_forward.ui.geoh5",
        "test_forward.ui.json"
       ],
       "index": 4,
       "layout": "IPY_MODEL_2bbf881b7ee04e49b52c6759a6a8d01e",
       "rows": 8,
       "style": "IPY_MODEL_6fff71fde0dc44d6b316fbd6617f90f4"
      }
     },
     "4600e08281f0400e9d2ff54108136ac5": {
      "model_module": "@jupyter-widgets/controls",
      "model_module_version": "1.5.0",
      "model_name": "CheckboxModel",
      "state": {
       "description": "Geoscience ANALYST Pro - Live link",
       "disabled": false,
       "indent": false,
       "layout": "IPY_MODEL_ade64f0c24df4cf1aeeaa29d11c447db",
       "style": "IPY_MODEL_11b32ce9479d4e3e9e054c9b7c9dd22f",
       "value": false
      }
     },
     "46037502a621470c88c7e5d3f94fec5d": {
      "model_module": "@jupyter-widgets/controls",
      "model_module_version": "1.5.0",
      "model_name": "LabelModel",
      "state": {
       "layout": "IPY_MODEL_79276086b7c443d7a0aceeb5bf029511",
       "style": "IPY_MODEL_0325b5e3a95241fbbfacec1b5978d440",
       "value": "Upper Bounds"
      }
     },
     "46073aa4b7464a6aabf59364f2605bcc": {
      "model_module": "@jupyter-widgets/controls",
      "model_module_version": "1.5.0",
      "model_name": "TextModel",
      "state": {
       "continuous_update": false,
       "description": "Group:",
       "layout": "IPY_MODEL_dde45c0b7adb46bd96c0a83d231e4d1a",
       "style": "IPY_MODEL_86aad388085646348616061c7b0d20c9"
      }
     },
     "46094ad1e3cd4bec8f97223a7998a19f": {
      "model_module": "@jupyter-widgets/controls",
      "model_module_version": "1.5.0",
      "model_name": "LabelModel",
      "state": {
       "layout": "IPY_MODEL_054e3aba3d0d478f8b5005d9a5ff59c8",
       "style": "IPY_MODEL_79c5e6fe9fc345b790dccb04138eafb4",
       "value": "Workspace"
      }
     },
     "460cb0f9059b418a81e0991d643c5015": {
      "model_module": "@jupyter-widgets/base",
      "model_module_version": "1.2.0",
      "model_name": "LayoutModel",
      "state": {}
     },
     "4624bd4bbd8f4d6db4f5e4d19e067a5e": {
      "model_module": "@jupyter-widgets/base",
      "model_module_version": "1.2.0",
      "model_name": "LayoutModel",
      "state": {}
     },
     "4655952313d4459c9a937bada654c605": {
      "model_module": "@jupyter-widgets/controls",
      "model_module_version": "1.5.0",
      "model_name": "ToggleButtonModel",
      "state": {
       "layout": "IPY_MODEL_048394c91024424ca658e964ef7eb245",
       "style": "IPY_MODEL_0561d566a8c94af8989d16bc4aef3fbc"
      }
     },
     "465733d24ca94b6ab4269d595c24fded": {
      "model_module": "@jupyter-widgets/controls",
      "model_module_version": "1.5.0",
      "model_name": "FloatTextModel",
      "state": {
       "description": "dy (+North)",
       "layout": "IPY_MODEL_46a8183f72694802984a84d7dbebf89a",
       "step": null,
       "style": "IPY_MODEL_6edf69e8aa9547e8a14715dde671e20b"
      }
     },
     "467eeb9cf77c4bf8a5ead3d48cc9efd8": {
      "model_module": "@jupyter-widgets/controls",
      "model_module_version": "1.5.0",
      "model_name": "DropdownModel",
      "state": {
       "_options_labels": [
        "C:\\Users\\dominiquef\\Documents\\GIT\\mira\\geoapps\\assets",
        "C:\\Users\\dominiquef\\Documents\\GIT\\mira\\geoapps",
        "C:\\Users\\dominiquef\\Documents\\GIT\\mira",
        "C:\\Users\\dominiquef\\Documents\\GIT",
        "C:\\Users\\dominiquef\\Documents",
        "C:\\Users\\dominiquef",
        "C:\\Users",
        "C:\\",
        "G:\\",
        "\\\\EgnyteDrive\\mirageoscience\\",
        "D:\\"
       ],
       "index": 0,
       "layout": "IPY_MODEL_f75d98c52ee94205bed00cd28c58c7a4",
       "style": "IPY_MODEL_88123fff2be24103adc3155cedbda2af"
      }
     },
     "4695811b162f4bbb80ded719d0261c9b": {
      "model_module": "@jupyter-widgets/controls",
      "model_module_version": "1.5.0",
      "model_name": "SelectModel",
      "state": {
       "_options_labels": [
        "📁 ..",
        "📁 SimPEG_PFInversion",
        "📁 Temp",
        "📁 uijson",
        "FlinFlon.geoh5",
        "FlinFlon_dcip.geoh5",
        "FlinFlon_natural_sources.geoh5",
        "MtDore_TMI.geoh5",
        "tem.geoh5",
        "test_forward.ui.geoh5",
        "test_forward.ui.json"
       ],
       "index": 4,
       "layout": "IPY_MODEL_a32ba49411d6458896356b423d0448d9",
       "rows": 8,
       "style": "IPY_MODEL_fc280e1c9eea411ea87b867c8f262c7f"
      }
     },
     "46a8183f72694802984a84d7dbebf89a": {
      "model_module": "@jupyter-widgets/base",
      "model_module_version": "1.2.0",
      "model_name": "LayoutModel",
      "state": {}
     },
     "46dba457afe54af8a0a44316e05fdd2d": {
      "model_module": "@jupyter-widgets/controls",
      "model_module_version": "1.5.0",
      "model_name": "TextModel",
      "state": {
       "disabled": true,
       "layout": "IPY_MODEL_b616c71bbb624dea8f0cc2f7fac8a03c",
       "placeholder": "output filename",
       "style": "IPY_MODEL_01d7be0b8acf466f82476de6077413db"
      }
     },
     "46e860a298b14fc090c2c7f3dcabc5ee": {
      "model_module": "@jupyter-widgets/controls",
      "model_module_version": "1.5.0",
      "model_name": "DescriptionStyleModel",
      "state": {
       "description_width": "initial"
      }
     },
     "46ea9abedda54b07b7e481405194df64": {
      "model_module": "@jupyter-widgets/base",
      "model_module_version": "1.2.0",
      "model_name": "LayoutModel",
      "state": {
       "margin": "0 0 0 1em"
      }
     },
     "4720b59bb27d4b0d81a9b7139ef4b4d3": {
      "model_module": "@jupyter-widgets/base",
      "model_module_version": "1.2.0",
      "model_name": "LayoutModel",
      "state": {}
     },
     "4732cec64e1447c28ea614b457714ef9": {
      "model_module": "@jupyter-widgets/controls",
      "model_module_version": "1.5.0",
      "model_name": "GridBoxModel",
      "state": {
       "children": [
        "IPY_MODEL_daf377387a59406e940efc0160ec4915",
        "IPY_MODEL_2404f2cdbd464a21b6a16d1d45dc84fb",
        "IPY_MODEL_d912b8266b68405aa5f30787b0e50f89"
       ],
       "layout": "IPY_MODEL_f78150a835d740639e121484023445a5"
      }
     },
     "4774fb14183e4d28a10e6fea5b6bf49a": {
      "model_module": "@jupyter-widgets/base",
      "model_module_version": "1.2.0",
      "model_name": "LayoutModel",
      "state": {
       "margin": "0 0 0 1em"
      }
     },
     "47b82a12327e4c3683392193b96b9c88": {
      "model_module": "@jupyter-widgets/controls",
      "model_module_version": "1.5.0",
      "model_name": "VBoxModel",
      "state": {
       "children": [
        "IPY_MODEL_af8ba9f76a494198accf78244318d0f5",
        "IPY_MODEL_c5e55d2062684f68b9d18ac865abd7c3"
       ],
       "layout": "IPY_MODEL_6a27ec930ec64ee592e71d4a1dc366da"
      }
     },
     "47cd84ea43874fcfbc0fe309943fd0a2": {
      "model_module": "@jupyter-widgets/controls",
      "model_module_version": "1.5.0",
      "model_name": "ButtonStyleModel",
      "state": {}
     },
     "48262030e2e14a8ab88c3fdcc822861b": {
      "model_module": "@jupyter-widgets/base",
      "model_module_version": "1.2.0",
      "model_name": "LayoutModel",
      "state": {}
     },
     "482e1a0cc72e46ce86cd49f27ae66133": {
      "model_module": "@jupyter-widgets/base",
      "model_module_version": "1.2.0",
      "model_name": "LayoutModel",
      "state": {}
     },
     "48585697bf6246238acbfee34446602a": {
      "model_module": "@jupyter-widgets/controls",
      "model_module_version": "1.5.0",
      "model_name": "DropdownModel",
      "state": {
       "_options_labels": [
        "",
        "all",
        "perimeter"
       ],
       "description": "Method",
       "index": 1,
       "layout": "IPY_MODEL_e05c2811933648d89573f55de1799bcb",
       "style": "IPY_MODEL_da7f9829651a450789ccf95226c60dce"
      }
     },
     "485dfe6f19c14ab4874c1a691572ae1f": {
      "model_module": "@jupyter-widgets/base",
      "model_module_version": "1.2.0",
      "model_name": "LayoutModel",
      "state": {}
     },
     "48739c54ceee4d3cbccffcbe670f5bf5": {
      "model_module": "@jupyter-widgets/controls",
      "model_module_version": "1.5.0",
      "model_name": "DescriptionStyleModel",
      "state": {
       "description_width": ""
      }
     },
     "4882fe02278a4ef69080cb5a7dcdff31": {
      "model_module": "@jupyter-widgets/controls",
      "model_module_version": "1.5.0",
      "model_name": "DescriptionStyleModel",
      "state": {
       "description_width": "initial"
      }
     },
     "48889617934142848e6ff7877629425b": {
      "model_module": "@jupyter-widgets/controls",
      "model_module_version": "1.5.0",
      "model_name": "DescriptionStyleModel",
      "state": {
       "description_width": ""
      }
     },
     "4893e8a32a654dd5bba490ca362ff142": {
      "model_module": "@jupyter-widgets/base",
      "model_module_version": "1.2.0",
      "model_name": "LayoutModel",
      "state": {
       "display": "none",
       "min_width": "6em",
       "width": "6em"
      }
     },
     "48aa9195d77342f8a4c8dfe33aa88a1e": {
      "model_module": "@jupyter-widgets/base",
      "model_module_version": "1.2.0",
      "model_name": "LayoutModel",
      "state": {}
     },
     "48cb9bf8493443e58fa18cbff5ca8617": {
      "model_module": "@jupyter-widgets/controls",
      "model_module_version": "1.5.0",
      "model_name": "DescriptionStyleModel",
      "state": {
       "description_width": ""
      }
     },
     "48e738f7c98749fa92c46ed25db9fdfb": {
      "model_module": "@jupyter-widgets/base",
      "model_module_version": "1.2.0",
      "model_name": "LayoutModel",
      "state": {
       "grid_area": "pathlist",
       "width": "auto"
      }
     },
     "490262a058f24ad3afd20d7d288c5706": {
      "model_module": "@jupyter-widgets/controls",
      "model_module_version": "1.5.0",
      "model_name": "DropdownModel",
      "state": {
       "_options_labels": [
        "C:\\Users\\dominiquef\\Documents\\GIT\\mira\\geoapps\\assets",
        "C:\\Users\\dominiquef\\Documents\\GIT\\mira\\geoapps",
        "C:\\Users\\dominiquef\\Documents\\GIT\\mira",
        "C:\\Users\\dominiquef\\Documents\\GIT",
        "C:\\Users\\dominiquef\\Documents",
        "C:\\Users\\dominiquef",
        "C:\\Users",
        "C:\\",
        "G:\\",
        "\\\\EgnyteDrive\\mirageoscience\\",
        "D:\\"
       ],
       "index": 0,
       "layout": "IPY_MODEL_6b97eca4cadf4e6885ea609fffe843c3",
       "style": "IPY_MODEL_fbdd3d9e0c264de9a7b584a878c972a0"
      }
     },
     "490db8ae1903422cba7bba67e6aa078e": {
      "model_module": "@jupyter-widgets/controls",
      "model_module_version": "1.5.0",
      "model_name": "DescriptionStyleModel",
      "state": {
       "description_width": ""
      }
     },
     "4922ea5b66424f3f9000c35553379519": {
      "model_module": "@jupyter-widgets/base",
      "model_module_version": "1.2.0",
      "model_name": "LayoutModel",
      "state": {}
     },
     "492398b1fa2246fd97dbb89d4e70a127": {
      "model_module": "@jupyter-widgets/base",
      "model_module_version": "1.2.0",
      "model_name": "LayoutModel",
      "state": {
       "overflow": "auto"
      }
     },
     "4950e702930f4ae0b5a950390ff3462b": {
      "model_module": "@jupyter-widgets/controls",
      "model_module_version": "1.5.0",
      "model_name": "DescriptionStyleModel",
      "state": {
       "description_width": "initial"
      }
     },
     "49570f0b12c44adcb56b13c078e19817": {
      "model_module": "@jupyter-widgets/controls",
      "model_module_version": "1.5.0",
      "model_name": "ButtonModel",
      "state": {
       "description": "Cancel",
       "layout": "IPY_MODEL_b54efe8c935e484b9ee47c60a105352f",
       "style": "IPY_MODEL_4b0853c7f2f14c94af3494efb571873b"
      }
     },
     "4974399539be437b978422800201ae06": {
      "model_module": "@jupyter-widgets/base",
      "model_module_version": "1.2.0",
      "model_name": "LayoutModel",
      "state": {
       "overflow": "auto"
      }
     },
     "4979cf51305f44709b7042950dbe2649": {
      "model_module": "@jupyter-widgets/controls",
      "model_module_version": "1.5.0",
      "model_name": "DescriptionStyleModel",
      "state": {
       "description_width": ""
      }
     },
     "4988f5e195cd4a4291ac02915ba2efd5": {
      "model_module": "@jupyter-widgets/controls",
      "model_module_version": "1.5.0",
      "model_name": "ButtonStyleModel",
      "state": {}
     },
     "49b1b113503f459eaf3aa08db5cb741d": {
      "model_module": "@jupyter-widgets/base",
      "model_module_version": "1.2.0",
      "model_name": "LayoutModel",
      "state": {}
     },
     "49cccd470a144fcc90a172c0b275d30e": {
      "model_module": "@jupyter-widgets/controls",
      "model_module_version": "1.5.0",
      "model_name": "DescriptionStyleModel",
      "state": {
       "description_width": "initial"
      }
     },
     "49df7fa5518948acb54ea967f0cf7dac": {
      "model_module": "@jupyter-widgets/base",
      "model_module_version": "1.2.0",
      "model_name": "LayoutModel",
      "state": {}
     },
     "4a358ef3b2d642e3836784e8c34d1787": {
      "model_module": "@jupyter-widgets/controls",
      "model_module_version": "1.5.0",
      "model_name": "ButtonStyleModel",
      "state": {}
     },
     "4a6b24b944354eb09e03305413c0049c": {
      "model_module": "@jupyter-widgets/controls",
      "model_module_version": "1.5.0",
      "model_name": "ButtonStyleModel",
      "state": {}
     },
     "4a9a269553fe45a19cfdf48e8acf64ec": {
      "model_module": "@jupyter-widgets/base",
      "model_module_version": "1.2.0",
      "model_name": "LayoutModel",
      "state": {}
     },
     "4acb00f47edd44c8b5e53f28ecdd8941": {
      "model_module": "@jupyter-widgets/base",
      "model_module_version": "1.2.0",
      "model_name": "LayoutModel",
      "state": {}
     },
     "4b0853c7f2f14c94af3494efb571873b": {
      "model_module": "@jupyter-widgets/controls",
      "model_module_version": "1.5.0",
      "model_name": "ButtonStyleModel",
      "state": {}
     },
     "4b148ba95d1d4cd3a4b6c06da2309f34": {
      "model_module": "@jupyter-widgets/controls",
      "model_module_version": "1.5.0",
      "model_name": "DescriptionStyleModel",
      "state": {
       "description_width": ""
      }
     },
     "4b498abfe0b24c0ba5a50bbcc8c68d33": {
      "model_module": "@jupyter-widgets/base",
      "model_module_version": "1.2.0",
      "model_name": "LayoutModel",
      "state": {}
     },
     "4b4aa6bb222f4cf7be9d940602fad701": {
      "model_module": "@jupyter-widgets/base",
      "model_module_version": "1.2.0",
      "model_name": "LayoutModel",
      "state": {}
     },
     "4b7ce057a6884d63b3c9efc55deb950e": {
      "model_module": "@jupyter-widgets/controls",
      "model_module_version": "1.5.0",
      "model_name": "DescriptionStyleModel",
      "state": {
       "description_width": "initial"
      }
     },
     "4c02ecaabb3d464a8e1f13289ef231b9": {
      "model_module": "@jupyter-widgets/base",
      "model_module_version": "1.2.0",
      "model_name": "LayoutModel",
      "state": {
       "display": "none"
      }
     },
     "4c065aeb196a4ed4af4788fea470995b": {
      "model_module": "@jupyter-widgets/controls",
      "model_module_version": "1.5.0",
      "model_name": "DescriptionStyleModel",
      "state": {
       "description_width": "initial"
      }
     },
     "4c0f82a7f731497b9c85a637c2870e48": {
      "model_module": "@jupyter-widgets/base",
      "model_module_version": "1.2.0",
      "model_name": "LayoutModel",
      "state": {}
     },
     "4c12f5e83e7a459f8450b3a54e16e85a": {
      "model_module": "@jupyter-widgets/controls",
      "model_module_version": "1.5.0",
      "model_name": "GridBoxModel",
      "state": {
       "children": [
        "IPY_MODEL_bb6f0a32ab2548b491b8f818875cecf0",
        "IPY_MODEL_d5b0b225d4c04712944e05c938b03155",
        "IPY_MODEL_dcb410a6974a46068327e83245d31f0c"
       ],
       "layout": "IPY_MODEL_89a705e5d2de4d40ad4d56cf2d5d8ba7"
      }
     },
     "4c13b3cb25964438a443076498c8b817": {
      "model_module": "@jupyter-widgets/base",
      "model_module_version": "1.2.0",
      "model_name": "LayoutModel",
      "state": {}
     },
     "4c21b2891830465b973fc38d17771c2d": {
      "model_module": "@jupyter-widgets/base",
      "model_module_version": "1.2.0",
      "model_name": "LayoutModel",
      "state": {}
     },
     "4c2261ff93694e5c977ff6c17c60e59c": {
      "model_module": "@jupyter-widgets/controls",
      "model_module_version": "1.5.0",
      "model_name": "ButtonStyleModel",
      "state": {}
     },
     "4c33b3c70b9a464385efad0dbf597eb0": {
      "model_module": "@jupyter-widgets/base",
      "model_module_version": "1.2.0",
      "model_name": "LayoutModel",
      "state": {}
     },
     "4c41fb28a6244cf08648d1203d939508": {
      "model_module": "@jupyter-widgets/controls",
      "model_module_version": "1.5.0",
      "model_name": "LabelModel",
      "state": {
       "layout": "IPY_MODEL_9a31611f748241d9880c62c78cb59ba8",
       "style": "IPY_MODEL_399960b541d0426f9e0136d41a2c5c24",
       "value": "Input Data"
      }
     },
     "4c6289ebd6ec4abdb63d49b5d731b9d0": {
      "model_module": "@jupyter-widgets/controls",
      "model_module_version": "1.5.0",
      "model_name": "DescriptionStyleModel",
      "state": {
       "description_width": "initial"
      }
     },
     "4c87515e50c8486797d0db89cdf10b14": {
      "model_module": "@jupyter-widgets/base",
      "model_module_version": "1.2.0",
      "model_name": "LayoutModel",
      "state": {}
     },
     "4c8a0137f7684f42957b8009de7d743b": {
      "model_module": "@jupyter-widgets/controls",
      "model_module_version": "1.5.0",
      "model_name": "VBoxModel",
      "state": {
       "children": [
        "IPY_MODEL_b8753a41c7d64709837a73ea37a63b62",
        "IPY_MODEL_e7c723b97ccb4b5b853db5c872712d12"
       ],
       "layout": "IPY_MODEL_9bc76b8cca4241bc87a34695860b44b7"
      }
     },
     "4c8e9ceaf4284a779413e9ad28891f85": {
      "model_module": "@jupyter-widgets/controls",
      "model_module_version": "1.5.0",
      "model_name": "DescriptionStyleModel",
      "state": {
       "description_width": "initial"
      }
     },
     "4c8ec53df08948eab94695e3455ceb0c": {
      "model_module": "@jupyter-widgets/controls",
      "model_module_version": "1.5.0",
      "model_name": "DescriptionStyleModel",
      "state": {
       "description_width": ""
      }
     },
     "4cbe37dda46c42938619d5e8d7e337cc": {
      "model_module": "@jupyter-widgets/controls",
      "model_module_version": "1.5.0",
      "model_name": "DescriptionStyleModel",
      "state": {
       "description_width": "initial"
      }
     },
     "4cc5a855b6544764985795f81f35f40a": {
      "model_module": "@jupyter-widgets/controls",
      "model_module_version": "1.5.0",
      "model_name": "DescriptionStyleModel",
      "state": {
       "description_width": ""
      }
     },
     "4cf31b6b1f9e444aade0ddfa9e196b14": {
      "model_module": "@jupyter-widgets/controls",
      "model_module_version": "1.5.0",
      "model_name": "DescriptionStyleModel",
      "state": {
       "description_width": ""
      }
     },
     "4d1fb8f2f5d346ff8aa3d04403992f19": {
      "model_module": "@jupyter-widgets/base",
      "model_module_version": "1.2.0",
      "model_name": "LayoutModel",
      "state": {}
     },
     "4d5e98eb650a41c7b5b39e298fbd3cd3": {
      "model_module": "@jupyter-widgets/controls",
      "model_module_version": "1.5.0",
      "model_name": "LabelModel",
      "state": {
       "layout": "IPY_MODEL_5eaee931144743fea3756d832206133a",
       "style": "IPY_MODEL_96c8845e165c41f883b22d28e78f52f2",
       "value": "Core cell size (u, v, z)"
      }
     },
     "4d93367eeaa94baaa38fbcfbfb84fc29": {
      "model_module": "@jupyter-widgets/controls",
      "model_module_version": "1.5.0",
      "model_name": "TextModel",
      "state": {
       "layout": "IPY_MODEL_60d66fe0e2d44cc0871792504f5feb33",
       "placeholder": "output filename",
       "style": "IPY_MODEL_a01cd77241a14df29daf9d9e117874b5",
       "value": "FlinFlon.geoh5"
      }
     },
     "4d9f059a5d674db2a4c537664de894dc": {
      "model_module": "@jupyter-widgets/base",
      "model_module_version": "1.2.0",
      "model_name": "LayoutModel",
      "state": {}
     },
     "4dad909e5b544a8591af45cc7de67893": {
      "model_module": "@jupyter-widgets/controls",
      "model_module_version": "1.5.0",
      "model_name": "DescriptionStyleModel",
      "state": {
       "description_width": ""
      }
     },
     "4ddd2f7ed35a46e592b24f3348f38a28": {
      "model_module": "@jupyter-widgets/controls",
      "model_module_version": "1.5.0",
      "model_name": "DescriptionStyleModel",
      "state": {
       "description_width": ""
      }
     },
     "4df1984b877947c08349c86b9c69f8a5": {
      "model_module": "@jupyter-widgets/controls",
      "model_module_version": "1.5.0",
      "model_name": "ButtonModel",
      "state": {
       "description": "Change",
       "layout": "IPY_MODEL_d15e7e947f5143a5bf6d054eca98e25a",
       "style": "IPY_MODEL_381ea4953c214f57972a72497d547d33"
      }
     },
     "4ea0bc47ca9f4d578f2aaaf20d84d34c": {
      "model_module": "@jupyter-widgets/controls",
      "model_module_version": "1.5.0",
      "model_name": "FloatTextModel",
      "state": {
       "description": "Floor:",
       "layout": "IPY_MODEL_ed6046ee93824c45a12cb937196ce413",
       "step": null,
       "style": "IPY_MODEL_ae7f656e41f24d079b4e688eb00f3aac",
       "value": 1
      }
     },
     "4f06c0027e9444a49b13ba5e1f2b153a": {
      "model_module": "@jupyter-widgets/controls",
      "model_module_version": "1.5.0",
      "model_name": "VBoxModel",
      "state": {
       "children": [
        "IPY_MODEL_c2dfa38d3344466190def2c8547044cd",
        "IPY_MODEL_6093047f975a4a8cadc95640b3a8829a",
        "IPY_MODEL_9f0574df578a45039d7e0599bc69bb84"
       ],
       "layout": "IPY_MODEL_2ded96b474f0462290b47dd42bc9c773"
      }
     },
     "4f0a90152c54471683ad2c4f581d3ed3": {
      "model_module": "@jupyter-widgets/controls",
      "model_module_version": "1.5.0",
      "model_name": "DescriptionStyleModel",
      "state": {
       "description_width": "initial"
      }
     },
     "4f0e8f69b2f7470697cbc3f76e36e4d2": {
      "model_module": "@jupyter-widgets/controls",
      "model_module_version": "1.5.0",
      "model_name": "DescriptionStyleModel",
      "state": {
       "description_width": ""
      }
     },
     "4f23540babef4e2da37a8934acb5112c": {
      "model_module": "@jupyter-widgets/controls",
      "model_module_version": "1.5.0",
      "model_name": "DescriptionStyleModel",
      "state": {
       "description_width": ""
      }
     },
     "4f3a609d2b754278b8db880e5eb30dc9": {
      "model_module": "@jupyter-widgets/controls",
      "model_module_version": "1.5.0",
      "model_name": "DescriptionStyleModel",
      "state": {
       "description_width": ""
      }
     },
     "4f7fa99e8fb442e7bcaa06e74ed16ae3": {
      "model_module": "@jupyter-widgets/controls",
      "model_module_version": "1.5.0",
      "model_name": "DescriptionStyleModel",
      "state": {
       "description_width": ""
      }
     },
     "4fa0134a8ca64493a15165772db9ef80": {
      "model_module": "@jupyter-widgets/controls",
      "model_module_version": "1.5.0",
      "model_name": "SelectModel",
      "state": {
       "_options_labels": [
        "📁 ..",
        "📁 SimPEG_PFInversion",
        "📁 Temp",
        "📁 uijson",
        "FlinFlon.geoh5",
        "FlinFlon_dcip.geoh5",
        "FlinFlon_natural_sources.geoh5",
        "MtDore_TMI.geoh5",
        "tem.geoh5",
        "test_forward.ui.geoh5",
        "test_forward.ui.json"
       ],
       "index": 4,
       "layout": "IPY_MODEL_0b781dab6b7e4978b37c90c95cc2640b",
       "rows": 8,
       "style": "IPY_MODEL_95f45a7ddaa34492912da950758fd8b3"
      }
     },
     "4fa1a9a6225943e7ab9c5866ed90ab22": {
      "model_module": "@jupyter-widgets/controls",
      "model_module_version": "1.5.0",
      "model_name": "HBoxModel",
      "state": {
       "children": [
        "IPY_MODEL_588419e912864c0d8fb1ae6c0914b47c",
        "IPY_MODEL_67c2e5212f98437fabd2f9ad2addf0cb"
       ],
       "layout": "IPY_MODEL_5d6fbe743c0047cea9a61ff9710f5f02"
      }
     },
     "4faeae27024d4319bac35187209d026b": {
      "model_module": "@jupyter-widgets/controls",
      "model_module_version": "1.5.0",
      "model_name": "VBoxModel",
      "state": {
       "children": [
        "IPY_MODEL_9025e5ab876a47c7b8d63226efcc6769",
        "IPY_MODEL_c4f810fe3e084fc084aa67a9e0cd6ef4"
       ],
       "layout": "IPY_MODEL_06e891f22de74cf18c0d38847a28dfef"
      }
     },
     "4fc681a32eb240fc972e1fb1b0267375": {
      "model_module": "@jupyter-widgets/base",
      "model_module_version": "1.2.0",
      "model_name": "LayoutModel",
      "state": {}
     },
     "4ff118a8d69744d99cdbf87e1f0c2438": {
      "model_module": "@jupyter-widgets/controls",
      "model_module_version": "1.5.0",
      "model_name": "DescriptionStyleModel",
      "state": {
       "description_width": ""
      }
     },
     "503a758aabe74de5a8090a970a169cf9": {
      "model_module": "@jupyter-widgets/base",
      "model_module_version": "1.2.0",
      "model_name": "LayoutModel",
      "state": {
       "overflow": "auto"
      }
     },
     "50699000bba445dfa2dfe8de7b38387f": {
      "model_module": "@jupyter-widgets/controls",
      "model_module_version": "1.5.0",
      "model_name": "FloatTextModel",
      "state": {
       "description": "Grid Resolution (m)",
       "layout": "IPY_MODEL_3ceaf0aa781d487dacde48981386814d",
       "step": null,
       "style": "IPY_MODEL_89e26f61a5834b60a59759713577b3e4",
       "value": 50
      }
     },
     "5089f83519f14617b4105114aaaf9432": {
      "model_module": "@jupyter-widgets/controls",
      "model_module_version": "1.5.0",
      "model_name": "GridBoxModel",
      "state": {
       "children": [
        "IPY_MODEL_98d7df1a05a6491fbe0b95fe42000b18",
        "IPY_MODEL_73f3c3466f5d41edb684826e11f260f3",
        "IPY_MODEL_c8432e62eee94178b7b151ef7dbf65e0"
       ],
       "layout": "IPY_MODEL_aedbef5b01714a33b3633eb5c9f1756a"
      }
     },
     "50b33dc0c2f84699ad1313c4145eac25": {
      "model_module": "@jupyter-widgets/controls",
      "model_module_version": "1.5.0",
      "model_name": "HTMLModel",
      "state": {
       "layout": "IPY_MODEL_7cec4a3a2dc543d2887189e23c792c92",
       "style": "IPY_MODEL_3ab46c9cbf914b5498352fb7ae9f95eb"
      }
     },
     "50d81389aceb4b1d81affaf018ce4f72": {
      "model_module": "@jupyter-widgets/base",
      "model_module_version": "1.2.0",
      "model_name": "LayoutModel",
      "state": {
       "min_width": "6em",
       "width": "6em"
      }
     },
     "50eb14cf24a44be6a3fc2fdb10d261f7": {
      "model_module": "@jupyter-widgets/base",
      "model_module_version": "1.2.0",
      "model_name": "LayoutModel",
      "state": {
       "grid_area": "pathlist",
       "width": "auto"
      }
     },
     "511fb18370e14125b6879990a8b1212d": {
      "model_module": "@jupyter-widgets/base",
      "model_module_version": "1.2.0",
      "model_name": "LayoutModel",
      "state": {}
     },
     "513b341768ed42a9994a01e020b6ce01": {
      "model_module": "@jupyter-widgets/controls",
      "model_module_version": "1.5.0",
      "model_name": "DescriptionStyleModel",
      "state": {
       "description_width": ""
      }
     },
     "516c4b7346414e408949676d4b8ce65c": {
      "model_module": "@jupyter-widgets/base",
      "model_module_version": "1.2.0",
      "model_name": "LayoutModel",
      "state": {
       "min_width": "6em",
       "width": "6em"
      }
     },
     "516ce86ea1b84e4f9d0db45861b744dc": {
      "model_module": "@jupyter-widgets/controls",
      "model_module_version": "1.5.0",
      "model_name": "DescriptionStyleModel",
      "state": {
       "description_width": ""
      }
     },
     "51a61c877b9f4a9784e9348b8ee78aae": {
      "model_module": "@jupyter-widgets/controls",
      "model_module_version": "1.5.0",
      "model_name": "VBoxModel",
      "state": {
       "children": [
        "IPY_MODEL_772887bd73ea40cfba4d3d6472ecfe41",
        "IPY_MODEL_03d06607c7e74fe7933fceb82353237c",
        "IPY_MODEL_f63ec067407f4885a2d9a268082ad929",
        "IPY_MODEL_8a32d5e0cd484410b77255c05cd8be1b",
        "IPY_MODEL_2c1aff698e024476badbd70b0fce01fb"
       ],
       "layout": "IPY_MODEL_2bacce3ba44f4542b77d749e53e47a96"
      }
     },
     "51acb0e88eba4ba49f41e79bb2d01cf2": {
      "model_module": "@jupyter-widgets/controls",
      "model_module_version": "1.5.0",
      "model_name": "ToggleButtonModel",
      "state": {
       "layout": "IPY_MODEL_4c21b2891830465b973fc38d17771c2d",
       "style": "IPY_MODEL_278d894e518e4c50a0c4b6723ef16f7b"
      }
     },
     "51fe55687d6944cda4b88329ad1dcf40": {
      "model_module": "@jupyter-widgets/controls",
      "model_module_version": "1.5.0",
      "model_name": "DescriptionStyleModel",
      "state": {
       "description_width": "initial"
      }
     },
     "5217a400975242a1b4482001c179be04": {
      "model_module": "@jupyter-widgets/base",
      "model_module_version": "1.2.0",
      "model_name": "LayoutModel",
      "state": {}
     },
     "52bb81a43e3945c1999ea613c3b30856": {
      "model_module": "@jupyter-widgets/controls",
      "model_module_version": "1.5.0",
      "model_name": "ButtonStyleModel",
      "state": {}
     },
     "52c252f12ac548ad99cb30415ed92e49": {
      "model_module": "@jupyter-widgets/controls",
      "model_module_version": "1.5.0",
      "model_name": "DescriptionStyleModel",
      "state": {
       "description_width": ""
      }
     },
     "535a66a8274a42a2a8b622f2048b2259": {
      "model_module": "@jupyter-widgets/controls",
      "model_module_version": "1.5.0",
      "model_name": "VBoxModel",
      "state": {
       "children": [
        "IPY_MODEL_aec89ff7faab49278c03992794d78e83"
       ],
       "layout": "IPY_MODEL_1d450f21666c48e49184ac441fff4aef"
      }
     },
     "536c96e978624a8e8bf2ecff31ef813d": {
      "model_module": "@jupyter-widgets/controls",
      "model_module_version": "1.5.0",
      "model_name": "ButtonStyleModel",
      "state": {}
     },
     "53a1defde36e4cba87a8ffc2de5d8981": {
      "model_module": "@jupyter-widgets/controls",
      "model_module_version": "1.5.0",
      "model_name": "DescriptionStyleModel",
      "state": {
       "description_width": ""
      }
     },
     "53b7a930cce24c92bc539c3f1ef13713": {
      "model_module": "@jupyter-widgets/controls",
      "model_module_version": "1.5.0",
      "model_name": "DescriptionStyleModel",
      "state": {
       "description_width": ""
      }
     },
     "53d4b12c3bdb47d5b85a7afd70452746": {
      "model_module": "@jupyter-widgets/controls",
      "model_module_version": "1.5.0",
      "model_name": "HBoxModel",
      "state": {
       "children": [
        "IPY_MODEL_7dbd73c95f70464cae6ee6a6dacb1e30",
        "IPY_MODEL_b59b86c63fd54b1fba2209ed81f8aadc",
        "IPY_MODEL_f83b4643bb2d498eafc179a60951c3d1"
       ],
       "layout": "IPY_MODEL_b60554ac6d9543df97f92e1ddaff7e7c"
      }
     },
     "541f75a3015d45f581bf92372454faeb": {
      "model_module": "@jupyter-widgets/controls",
      "model_module_version": "1.5.0",
      "model_name": "DescriptionStyleModel",
      "state": {
       "description_width": "initial"
      }
     },
     "542bdacf71314dc0a5fc746831c93a24": {
      "model_module": "@jupyter-widgets/controls",
      "model_module_version": "1.5.0",
      "model_name": "DescriptionStyleModel",
      "state": {
       "description_width": ""
      }
     },
     "544a47e365564281ae5939218c492535": {
      "model_module": "@jupyter-widgets/controls",
      "model_module_version": "1.5.0",
      "model_name": "FloatTextModel",
      "state": {
       "layout": "IPY_MODEL_3df6990146664600afee35303f69ba07",
       "step": null,
       "style": "IPY_MODEL_c0fc8d3727224f229b388d337552b97a",
       "value": 2
      }
     },
     "54592dfba1d54ccfb8aaa5da18947e57": {
      "model_module": "@jupyter-widgets/controls",
      "model_module_version": "1.5.0",
      "model_name": "DescriptionStyleModel",
      "state": {
       "description_width": "initial"
      }
     },
     "545fc7d315e04ca08fe1e6a0c254d99e": {
      "model_module": "@jupyter-widgets/base",
      "model_module_version": "1.2.0",
      "model_name": "LayoutModel",
      "state": {}
     },
     "547aac6c399e4324a95d770edc5e7937": {
      "model_module": "@jupyter-widgets/controls",
      "model_module_version": "1.5.0",
      "model_name": "DescriptionStyleModel",
      "state": {
       "description_width": "initial"
      }
     },
     "54b4384bdf6c4125a7f7eed1da45299f": {
      "model_module": "@jupyter-widgets/controls",
      "model_module_version": "1.5.0",
      "model_name": "LabelModel",
      "state": {
       "layout": "IPY_MODEL_162efe84ebd54cfc8793bab163a16f5a",
       "style": "IPY_MODEL_c57f366b7aae4fcc981a9c67578c16c9",
       "value": "Monitoring folder"
      }
     },
     "5501040a7363458ab559421aabdd483f": {
      "model_module": "@jupyter-widgets/controls",
      "model_module_version": "1.5.0",
      "model_name": "TextModel",
      "state": {
       "layout": "IPY_MODEL_312f35388cd5488b822a4ed89da84626",
       "placeholder": "output filename",
       "style": "IPY_MODEL_05251909e545480d9fa929db20a47c46",
       "value": "FlinFlon.geoh5"
      }
     },
     "550687077d16498a9878433ab0b02d25": {
      "model_module": "@jupyter-widgets/base",
      "model_module_version": "1.2.0",
      "model_name": "LayoutModel",
      "state": {
       "display": "none",
       "grid_gap": "0px 0px",
       "grid_template_areas": "\n                    'pathlist pathlist'\n                    'dircontent dircontent'\n                    ",
       "grid_template_columns": "60% 40%",
       "grid_template_rows": "auto auto",
       "width": "auto"
      }
     },
     "5510af7b4e03427f958aa0c45b843614": {
      "model_module": "@jupyter-widgets/controls",
      "model_module_version": "1.5.0",
      "model_name": "TextModel",
      "state": {
       "layout": "IPY_MODEL_a1343748a00e43b0b87b03c56f443cfe",
       "placeholder": "output filename",
       "style": "IPY_MODEL_3e39a67691164cc8960689cbd4ff8444",
       "value": "FlinFlon.geoh5"
      }
     },
     "552834553c0c4c4abd6b3cbc51c392a8": {
      "model_module": "@jupyter-widgets/controls",
      "model_module_version": "1.5.0",
      "model_name": "DescriptionStyleModel",
      "state": {
       "description_width": "initial"
      }
     },
     "553e645ca0e348c4a058faeee9eeb566": {
      "model_module": "@jupyter-widgets/controls",
      "model_module_version": "1.5.0",
      "model_name": "CheckboxModel",
      "state": {
       "description": "Active",
       "disabled": false,
       "indent": false,
       "layout": "IPY_MODEL_cd4a50f3d2f445f4896b321d74f53b23",
       "style": "IPY_MODEL_860558b0e6a748fb979315e9693770b6",
       "value": false
      }
     },
     "555d8e050a6945fda99213e2a3b1a399": {
      "model_module": "@jupyter-widgets/base",
      "model_module_version": "1.2.0",
      "model_name": "LayoutModel",
      "state": {
       "display": "none",
       "min_width": "6em",
       "width": "6em"
      }
     },
     "556e007646fc47d582041e606baba192": {
      "model_module": "@jupyter-widgets/base",
      "model_module_version": "1.2.0",
      "model_name": "LayoutModel",
      "state": {}
     },
     "5647bdf8691e4eab9c264ab85cab66dc": {
      "model_module": "@jupyter-widgets/controls",
      "model_module_version": "1.5.0",
      "model_name": "GridBoxModel",
      "state": {
       "children": [
        "IPY_MODEL_a51038f0454b4b1498e643d82b153efd",
        "IPY_MODEL_b12aa202c13b448f91f6b2ccc15bb6d0",
        "IPY_MODEL_7cba6dd9ae304e59896822d41c1e66aa"
       ],
       "layout": "IPY_MODEL_bd330b269d864fd3bd6dd95732f89e04"
      }
     },
     "566b1fe24e1842f4b3b7394497390014": {
      "model_module": "@jupyter-widgets/base",
      "model_module_version": "1.2.0",
      "model_name": "LayoutModel",
      "state": {}
     },
     "569dc5e4b53949499285b13d4b82ae2a": {
      "model_module": "@jupyter-widgets/controls",
      "model_module_version": "1.5.0",
      "model_name": "DropdownModel",
      "state": {
       "description": "Values",
       "index": null,
       "layout": "IPY_MODEL_7d6e211ac3b84f51a2d1fb784cdb8871",
       "style": "IPY_MODEL_2d2537256d934ac28d57cdd982cba218"
      }
     },
     "56c39c47f401417e813f888bf6b5bbc2": {
      "model_module": "@jupyter-widgets/controls",
      "model_module_version": "1.5.0",
      "model_name": "ButtonStyleModel",
      "state": {}
     },
     "56e94f799fdd4aa79fc2d99470453859": {
      "model_module": "@jupyter-widgets/controls",
      "model_module_version": "1.5.0",
      "model_name": "HTMLModel",
      "state": {
       "layout": "IPY_MODEL_3201b5bc2afb4adf89429ad4bd1c65a4",
       "placeholder": "",
       "style": "IPY_MODEL_9ff681ea3a5b4c2b8294e2d96470c1a5",
       "value": "<span style=\"color:orange;\">C:\\Users\\dominiquef\\Documents\\GIT\\mira\\geoapps\\assets\\FlinFlon.geoh5</span>"
      }
     },
     "5746051974d347eca3ae346319d50547": {
      "model_module": "@jupyter-widgets/base",
      "model_module_version": "1.2.0",
      "model_name": "LayoutModel",
      "state": {}
     },
     "574c3dce8c4a4585aca660eab2bb9a8a": {
      "model_module": "@jupyter-widgets/controls",
      "model_module_version": "1.5.0",
      "model_name": "DescriptionStyleModel",
      "state": {
       "description_width": "initial"
      }
     },
     "5764a1bc17d84bdf9b6ce01163612014": {
      "model_module": "@jupyter-widgets/controls",
      "model_module_version": "1.5.0",
      "model_name": "DescriptionStyleModel",
      "state": {
       "description_width": ""
      }
     },
     "578cccfac5174611945033f7f27a25a2": {
      "model_module": "@jupyter-widgets/controls",
      "model_module_version": "1.5.0",
      "model_name": "FloatTextModel",
      "state": {
       "layout": "IPY_MODEL_5217a400975242a1b4482001c179be04",
       "step": null,
       "style": "IPY_MODEL_3cbef38844c84406887dd84d6b79090d",
       "value": 25
      }
     },
     "57f42f68f514480ebb17e818aba88011": {
      "model_module": "@jupyter-widgets/base",
      "model_module_version": "1.2.0",
      "model_name": "LayoutModel",
      "state": {}
     },
     "580ea91518364ade9b7ac112ea20eeb7": {
      "model_module": "@jupyter-widgets/base",
      "model_module_version": "1.2.0",
      "model_name": "LayoutModel",
      "state": {}
     },
     "5817ca7fd9eb4d7790ecccf2ed235445": {
      "model_module": "@jupyter-widgets/controls",
      "model_module_version": "1.5.0",
      "model_name": "HBoxModel",
      "state": {
       "children": [
        "IPY_MODEL_00c5f6dfbe34487095234eca0853959e",
        "IPY_MODEL_6995fb7999234ae7a0824a96dae92a4c",
        "IPY_MODEL_d406076f2de144fba305930c977dd6c1"
       ],
       "layout": "IPY_MODEL_7d6d842b445a45ec9d42701b1b2fc7bd"
      }
     },
     "588419e912864c0d8fb1ae6c0914b47c": {
      "model_module": "@jupyter-widgets/controls",
      "model_module_version": "1.5.0",
      "model_name": "DropdownModel",
      "state": {
       "_options_labels": [
        "starting model",
        "mesh",
        "reference model",
        "regularization",
        "upper-lower bounds",
        "detrend",
        "ignore values",
        "optimization"
       ],
       "index": 0,
       "layout": "IPY_MODEL_358fc728fc9e4eb3b597ea794464ac2b",
       "style": "IPY_MODEL_8677bf26821d416d838ead2ba1bbd812"
      }
     },
     "58a9dcc11d4848fa93dffc9aa5a4e518": {
      "model_module": "@jupyter-widgets/controls",
      "model_module_version": "1.5.0",
      "model_name": "GridBoxModel",
      "state": {
       "children": [
        "IPY_MODEL_467eeb9cf77c4bf8a5ead3d48cc9efd8",
        "IPY_MODEL_ad9f5ef1b95043d18f1a9bfa1a158e2a",
        "IPY_MODEL_a3e4c20c1c7c4251bc89d46df40262f8"
       ],
       "layout": "IPY_MODEL_fa5112f65b5c42dd816c7872d4992bae"
      }
     },
     "58ac6aa2f7494972883abb305d9a086f": {
      "model_module": "@jupyter-widgets/controls",
      "model_module_version": "1.5.0",
      "model_name": "TextModel",
      "state": {
       "disabled": true,
       "layout": "IPY_MODEL_871d952e618649db98aea4cd26a6fec9",
       "placeholder": "output filename",
       "style": "IPY_MODEL_83cf345b7e86455b9826a3dd7a09c71e"
      }
     },
     "58b86769dcd74ac29d0b791f9933d32d": {
      "model_module": "@jupyter-widgets/base",
      "model_module_version": "1.2.0",
      "model_name": "LayoutModel",
      "state": {}
     },
     "58cfc402ce374b09a7df016178a7f3f1": {
      "model_module": "@jupyter-widgets/base",
      "model_module_version": "1.2.0",
      "model_name": "LayoutModel",
      "state": {}
     },
     "58eb6ac7ef964035b80e79a8e3d03881": {
      "model_module": "@jupyter-widgets/base",
      "model_module_version": "1.2.0",
      "model_name": "LayoutModel",
      "state": {
       "min_width": "6em",
       "width": "6em"
      }
     },
     "590f58a30ec244e6a601a70c813382c7": {
      "model_module": "@jupyter-widgets/base",
      "model_module_version": "1.2.0",
      "model_name": "LayoutModel",
      "state": {}
     },
     "59453d8522d14e5fb8eedf5b1764627f": {
      "model_module": "@jupyter-widgets/controls",
      "model_module_version": "1.5.0",
      "model_name": "DropdownModel",
      "state": {
       "_options_labels": [
        "",
        "ISO/Iso_Iteration_7_model_5_00e-03",
        "ISO/Iso_Iteration_7_model_1_50e-02",
        "ISO/Iso_Iteration_7_model_2_50e-03",
        "ISO/Iso_Iteration_7_model_1_00e-02",
        "ISO/Iso_Iteration_7_model_2_00e-02",
        "Ore/39_Ore_Callinan",
        "Ore/38_Ore_Dan_Owens",
        "Ore/40_Ore_FlinFlon",
        "CDI/COND_surface",
        "CDI/COND[8]_surface",
        "CDI/COND[18]_surface",
        "CDI/COND[3]_surface",
        "CDI/COND[13]_surface",
        "CDI/CDI_",
        "Workspace/InterpGrid",
        "Workspace/Inversion_VTEM_Model",
        "Workspace/InterpGrid",
        "Workspace/CDI_VTEM_model",
        "Workspace/Data_FEM_pseudo3D",
        "Workspace/O2O_Interp_25m",
        "Workspace/geochem",
        "Workspace/Inversion_DIGHEM_Model",
        "Workspace/InterpGrid",
        "Workspace/Topography",
        "Workspace/Data_TEM_pseudo3D",
        "Workspace/Data_ZTEM",
        "Workspace/Mesh",
        "Workspace/InterpGrid"
       ],
       "description": "Object",
       "index": 0,
       "layout": "IPY_MODEL_91e6e58434854ec5ac5ba8855761a884",
       "style": "IPY_MODEL_3d2633312cfd4c23a71da6f647219b55"
      }
     },
     "5952ca8f7bf84568a7672e56aff1a113": {
      "model_module": "@jupyter-widgets/controls",
      "model_module_version": "1.5.0",
      "model_name": "VBoxModel",
      "state": {
       "children": [
        "IPY_MODEL_c46de2d14caf49b897db3b763f8a56f3",
        "IPY_MODEL_ababc91b0a6f4c54a8aa980fd0a430d5",
        "IPY_MODEL_8bfc92473474472b877fafb63ebfbd13",
        "IPY_MODEL_0a88d236d15e4a74a436148af571dfc8",
        "IPY_MODEL_2a58e276fb424a95b5196abd03416dc4"
       ],
       "layout": "IPY_MODEL_460cb0f9059b418a81e0991d643c5015"
      }
     },
     "595883820d964b3c8863c842e87d095d": {
      "model_module": "@jupyter-widgets/base",
      "model_module_version": "1.2.0",
      "model_name": "LayoutModel",
      "state": {
       "width": "auto"
      }
     },
     "59a15f8215d64717b83cbc5ebc9a21d3": {
      "model_module": "@jupyter-widgets/base",
      "model_module_version": "1.2.0",
      "model_name": "LayoutModel",
      "state": {}
     },
     "59a4ffb349e8435e8a9b697e44d57d27": {
      "model_module": "@jupyter-widgets/base",
      "model_module_version": "1.2.0",
      "model_name": "LayoutModel",
      "state": {}
     },
     "5a0d4a5a1c9b4a59914387cde48eeb3f": {
      "model_module": "@jupyter-widgets/base",
      "model_module_version": "1.2.0",
      "model_name": "LayoutModel",
      "state": {}
     },
     "5a3b56e8137b4e789743021643514a51": {
      "model_module": "@jupyter-widgets/controls",
      "model_module_version": "1.5.0",
      "model_name": "LabelModel",
      "state": {
       "layout": "IPY_MODEL_4922ea5b66424f3f9000c35553379519",
       "style": "IPY_MODEL_7b5be9199cb647898c052f5752ccadce",
       "value": "Workspace"
      }
     },
     "5a415718e6684e9db5e0a631ba25b8a7": {
      "model_module": "@jupyter-widgets/controls",
      "model_module_version": "1.5.0",
      "model_name": "VBoxModel",
      "state": {
       "children": [
        "IPY_MODEL_d76968874b254665bce87f3280d3dc1a",
        "IPY_MODEL_1dad2d96279e46728241f90efa2e871c"
       ],
       "layout": "IPY_MODEL_dd0a32010fff4efa8e2ce0f557261c5e"
      }
     },
     "5a687c0810a841b093c562f7d7242285": {
      "model_module": "@jupyter-widgets/controls",
      "model_module_version": "1.5.0",
      "model_name": "VBoxModel",
      "state": {
       "children": [
        "IPY_MODEL_ca78174d9ba94056aa0c94df3ea452b7",
        "IPY_MODEL_361bef9d7b084766b694a0218a155d85",
        "IPY_MODEL_880c9ece5ae0420b848a52ff3964dfaa"
       ],
       "layout": "IPY_MODEL_2ded96b474f0462290b47dd42bc9c773"
      }
     },
     "5a8dfd854a214586a65b7a86a6435bb9": {
      "model_module": "@jupyter-widgets/base",
      "model_module_version": "1.2.0",
      "model_name": "LayoutModel",
      "state": {}
     },
     "5a9b713f5f1f44039211c3ca6ae4c5fd": {
      "model_module": "@jupyter-widgets/base",
      "model_module_version": "1.2.0",
      "model_name": "LayoutModel",
      "state": {
       "grid_area": "dircontent",
       "width": "auto"
      }
     },
     "5a9e87c8ead14022b30b4cf24220140d": {
      "model_module": "@jupyter-widgets/controls",
      "model_module_version": "1.5.0",
      "model_name": "GridBoxModel",
      "state": {
       "children": [
        "IPY_MODEL_f3cf621edcfb43f78241a3fbb329b14b",
        "IPY_MODEL_ec030d5723a2491ba9aab5c7a72e7823",
        "IPY_MODEL_1f51ade9c95a481fa06c781061467fc6"
       ],
       "layout": "IPY_MODEL_926f2220afe040af86b253eb0959ba06"
      }
     },
     "5a9f04e27ff244519d89b55119e0cff4": {
      "model_module": "@jupyter-widgets/controls",
      "model_module_version": "1.5.0",
      "model_name": "DescriptionStyleModel",
      "state": {
       "description_width": ""
      }
     },
     "5abcc2c9846e425885f19e47c4e1f2bc": {
      "model_module": "@jupyter-widgets/controls",
      "model_module_version": "1.5.0",
      "model_name": "VBoxModel",
      "state": {
       "children": [
        "IPY_MODEL_6d1da71d7b724879b59289e4e420a53e",
        "IPY_MODEL_7bdb5742bc9346a1bd6ee540c07b9f34"
       ],
       "layout": "IPY_MODEL_44d4383683ee4531897186226ee27dbc"
      }
     },
     "5af865d72e9b41aba39cc656cdb9083f": {
      "model_module": "@jupyter-widgets/controls",
      "model_module_version": "1.5.0",
      "model_name": "LabelModel",
      "state": {
       "layout": "IPY_MODEL_3d3ba38fad434b20a0f045831e502dcd",
       "style": "IPY_MODEL_b547eed06d2e4f1c802be59f067e2b55",
       "value": "Lower Bounds"
      }
     },
     "5afcff9c3a934c90a95159396ba6965a": {
      "model_module": "@jupyter-widgets/base",
      "model_module_version": "1.2.0",
      "model_name": "LayoutModel",
      "state": {}
     },
     "5b14c874fc6541f8aa2cb62b92a6034a": {
      "model_module": "@jupyter-widgets/controls",
      "model_module_version": "1.5.0",
      "model_name": "LabelModel",
      "state": {
       "layout": "IPY_MODEL_4acb00f47edd44c8b5e53f28ecdd8941",
       "style": "IPY_MODEL_31d9291d464148df9e27bde274c8aa25",
       "value": "Sensor Location"
      }
     },
     "5b35bef5b09a44e4a388e96283463e08": {
      "model_module": "@jupyter-widgets/controls",
      "model_module_version": "1.5.0",
      "model_name": "ButtonStyleModel",
      "state": {}
     },
     "5b8df329c1244d8694a479bc9558fc5e": {
      "model_module": "@jupyter-widgets/base",
      "model_module_version": "1.2.0",
      "model_name": "LayoutModel",
      "state": {
       "visibility": "hidden"
      }
     },
     "5bdf689f6e7c4d298dbf96987af75ae9": {
      "model_module": "@jupyter-widgets/controls",
      "model_module_version": "1.5.0",
      "model_name": "VBoxModel",
      "state": {
       "children": [
        "IPY_MODEL_4ea0bc47ca9f4d578f2aaaf20d84d34c",
        "IPY_MODEL_2592e018e5a84317b772e1ca4220fd32"
       ],
       "layout": "IPY_MODEL_58b86769dcd74ac29d0b791f9933d32d"
      }
     },
     "5c1a859314014927991e66a3dbb1c9f6": {
      "model_module": "@jupyter-widgets/controls",
      "model_module_version": "1.5.0",
      "model_name": "DescriptionStyleModel",
      "state": {
       "description_width": ""
      }
     },
     "5c35166130ef4b39a919814dc5382671": {
      "model_module": "@jupyter-widgets/controls",
      "model_module_version": "1.5.0",
      "model_name": "VBoxModel",
      "state": {
       "children": [
        "IPY_MODEL_cde2d58bc0444e8eaa7f92778c6c9aee",
        "IPY_MODEL_31eb08570aa74d88943366e153b2bb8a"
       ],
       "layout": "IPY_MODEL_39b7cc787ebf4c5aafa89826af095071"
      }
     },
     "5cab0ed091de484389dba8913c895253": {
      "model_module": "@jupyter-widgets/controls",
      "model_module_version": "1.5.0",
      "model_name": "DescriptionStyleModel",
      "state": {
       "description_width": ""
      }
     },
     "5ce55855a21d48089fce0ed1e33811f0": {
      "model_module": "@jupyter-widgets/controls",
      "model_module_version": "1.5.0",
      "model_name": "VBoxModel",
      "state": {
       "children": [
        "IPY_MODEL_f9beae70d125444686a54cb176932d80",
        "IPY_MODEL_d5d73349e436469fa48dcd0d44fd88eb",
        "IPY_MODEL_f50b651776494084b869c9b69148b78f"
       ],
       "layout": "IPY_MODEL_2ded96b474f0462290b47dd42bc9c773"
      }
     },
     "5d6fbe743c0047cea9a61ff9710f5f02": {
      "model_module": "@jupyter-widgets/base",
      "model_module_version": "1.2.0",
      "model_name": "LayoutModel",
      "state": {}
     },
     "5d8dea060e0349d190568e04255118d6": {
      "model_module": "@jupyter-widgets/base",
      "model_module_version": "1.2.0",
      "model_name": "LayoutModel",
      "state": {}
     },
     "5dae6825bf2c43fbbd71f6cdd6bffb53": {
      "model_module": "@jupyter-widgets/controls",
      "model_module_version": "1.5.0",
      "model_name": "ButtonStyleModel",
      "state": {}
     },
     "5df320fb57bd4b0381c8a054532aa0a0": {
      "model_module": "@jupyter-widgets/controls",
      "model_module_version": "1.5.0",
      "model_name": "DropdownModel",
      "state": {
       "_options_labels": [
        "C:\\Users\\dominiquef\\Documents\\GIT\\mira\\geoapps\\assets",
        "C:\\Users\\dominiquef\\Documents\\GIT\\mira\\geoapps",
        "C:\\Users\\dominiquef\\Documents\\GIT\\mira",
        "C:\\Users\\dominiquef\\Documents\\GIT",
        "C:\\Users\\dominiquef\\Documents",
        "C:\\Users\\dominiquef",
        "C:\\Users",
        "C:\\",
        "G:\\",
        "\\\\EgnyteDrive\\mirageoscience\\",
        "D:\\"
       ],
       "index": 0,
       "layout": "IPY_MODEL_96d2dae81c804ab79cde51fe28e8eaf1",
       "style": "IPY_MODEL_5764a1bc17d84bdf9b6ce01163612014"
      }
     },
     "5e011ae7efa94a66ab0a996c580999a9": {
      "model_module": "@jupyter-widgets/base",
      "model_module_version": "1.2.0",
      "model_name": "LayoutModel",
      "state": {}
     },
     "5e119fb749234421b0fde82ff44583aa": {
      "model_module": "@jupyter-widgets/controls",
      "model_module_version": "1.5.0",
      "model_name": "IntTextModel",
      "state": {
       "description": "Max beta Iterations",
       "layout": "IPY_MODEL_73a6f3dfeba0431da029c3f00dc01b60",
       "step": 1,
       "style": "IPY_MODEL_10a1f884cd6a4228901b9a30c593b12b",
       "value": 25
      }
     },
     "5e27365022bb4371a31d3f2dd7ebc479": {
      "model_module": "@jupyter-widgets/controls",
      "model_module_version": "1.5.0",
      "model_name": "DescriptionStyleModel",
      "state": {
       "description_width": "initial"
      }
     },
     "5e29910ad5b24fd28ca213bd2bd164f2": {
      "model_module": "@jupyter-widgets/controls",
      "model_module_version": "1.5.0",
      "model_name": "FloatTextModel",
      "state": {
       "layout": "IPY_MODEL_37520b53ad064b9dbee75909f739c707",
       "step": null,
       "style": "IPY_MODEL_0519013b0a164f699ab9dde451669596",
       "value": 2
      }
     },
     "5e78ad47de4e4cffb335b0ddbccd18fd": {
      "model_module": "@jupyter-widgets/controls",
      "model_module_version": "1.5.0",
      "model_name": "TextModel",
      "state": {
       "continuous_update": false,
       "description": "Group:",
       "layout": "IPY_MODEL_41e3ce1d87be4c68be4c413138d1ae16",
       "style": "IPY_MODEL_f4900b6b52964498a9605d1ff811c418"
      }
     },
     "5e78ea09afe54a78915e8d9a6ad6de40": {
      "model_module": "@jupyter-widgets/controls",
      "model_module_version": "1.5.0",
      "model_name": "DescriptionStyleModel",
      "state": {
       "description_width": "initial"
      }
     },
     "5e93576a5c244d719706f562bf05ae21": {
      "model_module": "@jupyter-widgets/controls",
      "model_module_version": "1.5.0",
      "model_name": "DescriptionStyleModel",
      "state": {
       "description_width": "initial"
      }
     },
     "5eaee931144743fea3756d832206133a": {
      "model_module": "@jupyter-widgets/base",
      "model_module_version": "1.2.0",
      "model_name": "LayoutModel",
      "state": {}
     },
     "5ec15fc0dd56463ea7c8b16f3411e6de": {
      "model_module": "@jupyter-widgets/controls",
      "model_module_version": "1.5.0",
      "model_name": "DropdownModel",
      "state": {
       "_options_labels": [
        "",
        "Airborne_Gxx",
        "Airborne_Gxy",
        "Airborne_Gxz",
        "Airborne_Gyy",
        "Airborne_Gyz",
        "Airborne_Gz",
        "Airborne_Gzz",
        "Airborne_TMI",
        "Ground_Gz"
       ],
       "description": "[Optional] Channel:",
       "index": 0,
       "layout": "IPY_MODEL_34331fe4e9cd4e669a1cc34afb18856b",
       "style": "IPY_MODEL_ea3ccf77a8e849638f7231b66163e09a"
      }
     },
     "5ed21c937f7b43748b89ca685a895dfe": {
      "model_module": "@jupyter-widgets/controls",
      "model_module_version": "1.5.0",
      "model_name": "HBoxModel",
      "state": {
       "children": [
        "IPY_MODEL_87a6779ffd3e422592ab8ec7e9b2e33d",
        "IPY_MODEL_815c3ed2d5984322b197d8a4c346de14",
        "IPY_MODEL_134f133643814227b1b89cf67a1f0d7b"
       ],
       "layout": "IPY_MODEL_cfcc73ade3b547de99cbd80e8238bf48"
      }
     },
     "5ee5b3b1f9714b66a5ba2b597e6dc9ae": {
      "model_module": "@jupyter-widgets/controls",
      "model_module_version": "1.5.0",
      "model_name": "TextModel",
      "state": {
       "disabled": true,
       "layout": "IPY_MODEL_bee3cba32c2f4baa8a3322504640f9cf",
       "placeholder": "output filename",
       "style": "IPY_MODEL_9edaeb1f800e4b34954d075d85ba8e2f"
      }
     },
     "5f4075bd47604c81aa62a0f1eb02e822": {
      "model_module": "@jupyter-widgets/controls",
      "model_module_version": "1.5.0",
      "model_name": "DescriptionStyleModel",
      "state": {
       "description_width": ""
      }
     },
     "5f4c8167306d4066b91345f4a0b273fd": {
      "model_module": "@jupyter-widgets/controls",
      "model_module_version": "1.5.0",
      "model_name": "ButtonStyleModel",
      "state": {}
     },
     "5f57e9ca982d4830a17a17450a3db086": {
      "model_module": "@jupyter-widgets/base",
      "model_module_version": "1.2.0",
      "model_name": "LayoutModel",
      "state": {
       "display": "none",
       "min_width": "6em",
       "width": "6em"
      }
     },
     "5f6b212ef8744669bd7d4661d4df6643": {
      "model_module": "@jupyter-widgets/controls",
      "model_module_version": "1.5.0",
      "model_name": "DescriptionStyleModel",
      "state": {
       "description_width": "initial"
      }
     },
     "5f863f1a091e426ab17bce5a71938a3a": {
      "model_module": "@jupyter-widgets/controls",
      "model_module_version": "1.5.0",
      "model_name": "DescriptionStyleModel",
      "state": {
       "description_width": ""
      }
     },
     "5f89ae52cf4e414badec270235c46a63": {
      "model_module": "@jupyter-widgets/controls",
      "model_module_version": "1.5.0",
      "model_name": "ButtonModel",
      "state": {
       "description": "Cancel",
       "layout": "IPY_MODEL_03d42526a85947a6815524cf26bf0844",
       "style": "IPY_MODEL_a1196dbfb0e448469aef67246c763804"
      }
     },
     "5f8af613c9494a8aa0e9f1a0c4a66d61": {
      "model_module": "@jupyter-widgets/controls",
      "model_module_version": "1.5.0",
      "model_name": "DescriptionStyleModel",
      "state": {
       "description_width": ""
      }
     },
     "5f92066bced548fba7ac6a46dc232a90": {
      "model_module": "@jupyter-widgets/base",
      "model_module_version": "1.2.0",
      "model_name": "LayoutModel",
      "state": {}
     },
     "5f9d8832862e4743b80b722c785c917e": {
      "model_module": "@jupyter-widgets/controls",
      "model_module_version": "1.5.0",
      "model_name": "DescriptionStyleModel",
      "state": {
       "description_width": ""
      }
     },
     "5fa5e2561b2e43e8a479f3baef027fba": {
      "model_module": "@jupyter-widgets/controls",
      "model_module_version": "1.5.0",
      "model_name": "DescriptionStyleModel",
      "state": {
       "description_width": ""
      }
     },
     "60412f29f75348fcb9aff4494a2a72f3": {
      "model_module": "@jupyter-widgets/controls",
      "model_module_version": "1.5.0",
      "model_name": "DescriptionStyleModel",
      "state": {
       "description_width": "initial"
      }
     },
     "6049bcb9aab74646bffa47d842652183": {
      "model_module": "@jupyter-widgets/base",
      "model_module_version": "1.2.0",
      "model_name": "LayoutModel",
      "state": {}
     },
     "605e01c20f9f430ca0adf3fa23a48b1b": {
      "model_module": "@jupyter-widgets/controls",
      "model_module_version": "1.5.0",
      "model_name": "ButtonStyleModel",
      "state": {}
     },
     "6078b9da5ca2484e8038de50fffa8fae": {
      "model_module": "@jupyter-widgets/controls",
      "model_module_version": "1.5.0",
      "model_name": "DescriptionStyleModel",
      "state": {
       "description_width": "initial"
      }
     },
     "6080e0914b8b4e49865bd037f896d09a": {
      "model_module": "@jupyter-widgets/controls",
      "model_module_version": "1.5.0",
      "model_name": "ToggleButtonModel",
      "state": {
       "layout": "IPY_MODEL_2893f6d6f20e456ba0deb8e0a5882171",
       "style": "IPY_MODEL_ece8dd65179040458065711ace48280d"
      }
     },
     "6093047f975a4a8cadc95640b3a8829a": {
      "model_module": "@jupyter-widgets/controls",
      "model_module_version": "1.5.0",
      "model_name": "GridBoxModel",
      "state": {
       "children": [
        "IPY_MODEL_2720d721df6a4353bbceee538b12e9b2",
        "IPY_MODEL_5510af7b4e03427f958aa0c45b843614",
        "IPY_MODEL_7eaabecaccf54de7a54e728117bbcc37"
       ],
       "layout": "IPY_MODEL_efc826ef7dcd42dc853d8ab34b572931"
      }
     },
     "60bdfe92fbe04599a788a64097d69548": {
      "model_module": "@jupyter-widgets/controls",
      "model_module_version": "1.5.0",
      "model_name": "DescriptionStyleModel",
      "state": {
       "description_width": "initial"
      }
     },
     "60d66fe0e2d44cc0871792504f5feb33": {
      "model_module": "@jupyter-widgets/base",
      "model_module_version": "1.2.0",
      "model_name": "LayoutModel",
      "state": {
       "grid_area": "filename",
       "width": "auto"
      }
     },
     "612e03e25eea45d7b59da4a373e7ff32": {
      "model_module": "@jupyter-widgets/controls",
      "model_module_version": "1.5.0",
      "model_name": "DescriptionStyleModel",
      "state": {
       "description_width": "initial"
      }
     },
     "61590203844947d3bd258bf6a9961356": {
      "model_module": "@jupyter-widgets/controls",
      "model_module_version": "1.5.0",
      "model_name": "DescriptionStyleModel",
      "state": {
       "description_width": ""
      }
     },
     "6162b2c2e5be43739022311ddf3ae10c": {
      "model_module": "@jupyter-widgets/base",
      "model_module_version": "1.2.0",
      "model_name": "LayoutModel",
      "state": {
       "display": "none",
       "grid_area": "filename",
       "width": "auto"
      }
     },
     "6172dd75600c4a69bd30c442fdd608d9": {
      "model_module": "@jupyter-widgets/controls",
      "model_module_version": "1.5.0",
      "model_name": "DescriptionStyleModel",
      "state": {
       "description_width": ""
      }
     },
     "619648e2cecf46868231cc5df2917ad9": {
      "model_module": "@jupyter-widgets/controls",
      "model_module_version": "1.5.0",
      "model_name": "DescriptionStyleModel",
      "state": {
       "description_width": "initial"
      }
     },
     "61a233ed583e4291a141b7e4713538f7": {
      "model_module": "@jupyter-widgets/controls",
      "model_module_version": "1.5.0",
      "model_name": "FloatTextModel",
      "state": {
       "description": "SI",
       "layout": "IPY_MODEL_2625322c421e4dca924059bbf7acbc4b",
       "step": null,
       "style": "IPY_MODEL_1570c83367be41278e629f83f70aab65"
      }
     },
     "61a4b5d9c63d4f118750509b6394ec6f": {
      "model_module": "@jupyter-widgets/controls",
      "model_module_version": "1.5.0",
      "model_name": "ButtonStyleModel",
      "state": {}
     },
     "61d2a81c8d804029ac0d4a7c04b2d51b": {
      "model_module": "@jupyter-widgets/base",
      "model_module_version": "1.2.0",
      "model_name": "LayoutModel",
      "state": {}
     },
     "61d64b1f62de492a92d6eff3b96edd3d": {
      "model_module": "@jupyter-widgets/controls",
      "model_module_version": "1.5.0",
      "model_name": "DescriptionStyleModel",
      "state": {
       "description_width": ""
      }
     },
     "621640c3673f45e382d750a3bbc7af2a": {
      "model_module": "@jupyter-widgets/controls",
      "model_module_version": "1.5.0",
      "model_name": "GridBoxModel",
      "state": {
       "children": [
        "IPY_MODEL_c91a7d51fa8f49a5a2dc940da9d40d9d",
        "IPY_MODEL_c1c037db492a43b0b33abdf49554bdb0",
        "IPY_MODEL_d3ff895671124ec8bf50bf1faa916415"
       ],
       "layout": "IPY_MODEL_f29ab072660f44e89302cb3352ba9487"
      }
     },
     "6230845b57254a55b2c96b9a281bf9f2": {
      "model_module": "@jupyter-widgets/controls",
      "model_module_version": "1.5.0",
      "model_name": "HTMLModel",
      "state": {
       "layout": "IPY_MODEL_39c410ef4921432791afc65e914c15cb",
       "placeholder": "",
       "style": "IPY_MODEL_c2ad1c7aee3c4d67b6b00055a5248e9c",
       "value": "<span style=\"color:orange;\">C:\\Users\\dominiquef\\Documents\\GIT\\mira\\geoapps\\assets\\FlinFlon.geoh5</span>"
      }
     },
     "62367940e78b445b9bc2463d9b76a3f3": {
      "model_module": "@jupyter-widgets/controls",
      "model_module_version": "1.5.0",
      "model_name": "VBoxModel",
      "state": {
       "children": [
        "IPY_MODEL_9c823be070714bf2926d121edc7b2f42",
        "IPY_MODEL_00e54bc18f2d414799b3933ac9289f76"
       ],
       "layout": "IPY_MODEL_48262030e2e14a8ab88c3fdcc822861b"
      }
     },
     "626c1878706343d594baed5e460b2df6": {
      "model_module": "@jupyter-widgets/controls",
      "model_module_version": "1.5.0",
      "model_name": "FloatSliderModel",
      "state": {
       "continuous_update": false,
       "description": "Height",
       "layout": "IPY_MODEL_23230901a9b848b6acbb9f10a2355da5",
       "max": 13622.238002983107,
       "orientation": "vertical",
       "step": 10,
       "style": "IPY_MODEL_778acb5ec1044c6db8c928b6b4c0a891",
       "value": 1500
      }
     },
     "62b7482dcd4245b9a06f24250cf7e213": {
      "model_module": "@jupyter-widgets/base",
      "model_module_version": "1.2.0",
      "model_name": "LayoutModel",
      "state": {}
     },
     "62c675876330484caddbce4a1d47dc51": {
      "model_module": "@jupyter-widgets/base",
      "model_module_version": "1.2.0",
      "model_name": "LayoutModel",
      "state": {}
     },
     "62cddf074e7841ceb22b32e8589b5efd": {
      "model_module": "@jupyter-widgets/controls",
      "model_module_version": "1.5.0",
      "model_name": "TextModel",
      "state": {
       "description": "# Cells below sensors",
       "layout": "IPY_MODEL_4c0f82a7f731497b9c85a637c2870e48",
       "style": "IPY_MODEL_7367fcf7bcc1484cb60e67428358ad49",
       "value": "5, 5, 5, 5"
      }
     },
     "62dda6b68a444145958bc72034b92cb6": {
      "model_module": "@jupyter-widgets/controls",
      "model_module_version": "1.5.0",
      "model_name": "DescriptionStyleModel",
      "state": {
       "description_width": "initial"
      }
     },
     "62def65b542742a9bbb416901df20695": {
      "model_module": "@jupyter-widgets/controls",
      "model_module_version": "1.5.0",
      "model_name": "VBoxModel",
      "state": {
       "children": [
        "IPY_MODEL_f7eebac9d5174971afc7c19454522925",
        "IPY_MODEL_82658e5d6fad4ca28fe74be8fbd3b13b",
        "IPY_MODEL_21c1fb8a79784afd83bd607bf45b7656",
        "IPY_MODEL_74a59cbe42ee449497c494746aaf67c3"
       ],
       "layout": "IPY_MODEL_3b1b610207c7452cbbe79ea11890f721"
      }
     },
     "63559097dbce4dfb95f7750f60a0df80": {
      "model_module": "@jupyter-widgets/base",
      "model_module_version": "1.2.0",
      "model_name": "LayoutModel",
      "state": {}
     },
     "637a694a05c841b08c2cf7d355aab803": {
      "model_module": "@jupyter-widgets/controls",
      "model_module_version": "1.5.0",
      "model_name": "ButtonStyleModel",
      "state": {}
     },
     "639004eac1874bef9daaab01502f22b3": {
      "model_module": "@jupyter-widgets/controls",
      "model_module_version": "1.5.0",
      "model_name": "DescriptionStyleModel",
      "state": {
       "description_width": "initial"
      }
     },
     "63b97dd161e14abea47b87e593096dac": {
      "model_module": "@jupyter-widgets/controls",
      "model_module_version": "1.5.0",
      "model_name": "DescriptionStyleModel",
      "state": {
       "description_width": "initial"
      }
     },
     "63c718232bfa4dc48f7346259ef0dfce": {
      "model_module": "@jupyter-widgets/controls",
      "model_module_version": "1.5.0",
      "model_name": "DescriptionStyleModel",
      "state": {
       "description_width": "initial"
      }
     },
     "63dd3c96c8e845d2ae199251cc8b8eae": {
      "model_module": "@jupyter-widgets/controls",
      "model_module_version": "1.5.0",
      "model_name": "DescriptionStyleModel",
      "state": {
       "description_width": "initial"
      }
     },
     "64515ab651ef42a8bf8e76c8c854a25f": {
      "model_module": "@jupyter-widgets/base",
      "model_module_version": "1.2.0",
      "model_name": "LayoutModel",
      "state": {}
     },
     "647db9088e0448b8a7d345ef435ac5a3": {
      "model_module": "@jupyter-widgets/controls",
      "model_module_version": "1.5.0",
      "model_name": "VBoxModel",
      "state": {
       "children": [
        "IPY_MODEL_b477a4dab6414f64859db4ebf9ca82d7",
        "IPY_MODEL_f0ad965a7a824477bf858df90c3ddea4"
       ],
       "layout": "IPY_MODEL_4a9a269553fe45a19cfdf48e8acf64ec"
      }
     },
     "648d9e58efde426882d32247fd663218": {
      "model_module": "@jupyter-widgets/controls",
      "model_module_version": "1.5.0",
      "model_name": "HBoxModel",
      "state": {
       "children": [
        "IPY_MODEL_ab8b5a6f66984693a53796b4fd209ec2",
        "IPY_MODEL_284d66a4d9954b8cbb88d8894c997b7c"
       ],
       "layout": "IPY_MODEL_0b79b898ee824c24bdcfe8f7cc28850b"
      }
     },
     "64feee3ca2f348469c46ef0064178b10": {
      "model_module": "@jupyter-widgets/controls",
      "model_module_version": "1.5.0",
      "model_name": "DescriptionStyleModel",
      "state": {
       "description_width": ""
      }
     },
     "65020fa5a3ca4fc09b5cca7a88fdee74": {
      "model_module": "@jupyter-widgets/controls",
      "model_module_version": "1.5.0",
      "model_name": "LabelModel",
      "state": {
       "layout": "IPY_MODEL_76d53d573def42a099d054223d94f623",
       "style": "IPY_MODEL_75caf9828988418e8efe22da4432cdbb",
       "value": "Workspace"
      }
     },
     "654aaee9b2f04feaa383433f0e3de790": {
      "model_module": "@jupyter-widgets/controls",
      "model_module_version": "1.5.0",
      "model_name": "DescriptionStyleModel",
      "state": {
       "description_width": "initial"
      }
     },
     "6574e3422f8e4a31b0e7a6461faab0c1": {
      "model_module": "@jupyter-widgets/controls",
      "model_module_version": "1.5.0",
      "model_name": "HBoxModel",
      "state": {
       "children": [
        "IPY_MODEL_ff741538ce2145e0863aa3bc2824b952",
        "IPY_MODEL_7cf4dd5a92794ffa8e1275c3c4949fb1"
       ],
       "layout": "IPY_MODEL_6049bcb9aab74646bffa47d842652183"
      }
     },
     "658a39ace3d84092aac45e849ad53172": {
      "model_module": "@jupyter-widgets/controls",
      "model_module_version": "1.5.0",
      "model_name": "BoxModel",
      "state": {
       "children": [
        "IPY_MODEL_020bf9f7512b43c8a81d8a32e9be0520"
       ],
       "layout": "IPY_MODEL_c145bc80fbef4330bfd858f3f97b618d"
      }
     },
     "6590da6cb8294e419ea75f56f518bcb8": {
      "model_module": "@jupyter-widgets/controls",
      "model_module_version": "1.5.0",
      "model_name": "IntTextModel",
      "state": {
       "description": "Order",
       "layout": "IPY_MODEL_78fea3f9b94b4342b48158a5a0ec6af2",
       "step": 1,
       "style": "IPY_MODEL_97526cb9a140477eaa986d479269f718"
      }
     },
     "659da161bef9483ea448bc73c1977bc7": {
      "model_module": "@jupyter-widgets/controls",
      "model_module_version": "1.5.0",
      "model_name": "VBoxModel",
      "state": {
       "children": [
        "IPY_MODEL_99603952d28d4992a6f09010c617f586",
        "IPY_MODEL_46073aa4b7464a6aabf59364f2605bcc"
       ],
       "layout": "IPY_MODEL_27cb763f6f9246fbbc9d479709df91d3"
      }
     },
     "65a13414798742bd8c22bc973e4b6214": {
      "model_module": "@jupyter-widgets/controls",
      "model_module_version": "1.5.0",
      "model_name": "VBoxModel",
      "state": {
       "children": [
        "IPY_MODEL_c6061657d6cf4d78b9d0dffd2534a973",
        "IPY_MODEL_e91200ddb4f34de6aa067725e713e9fd",
        "IPY_MODEL_2a44eab5ed354e279f424d5cc2e1c218",
        "IPY_MODEL_bcd721b28cc54d20a7d21daa39128ab9",
        "IPY_MODEL_ab75b98474024504bb09c5f414b963e9"
       ],
       "layout": "IPY_MODEL_ff83853cdb194a86b073099c579a906e"
      }
     },
     "65a6f73539394bf98d44cb11c6b88652": {
      "model_module": "@jupyter-widgets/controls",
      "model_module_version": "1.5.0",
      "model_name": "ButtonStyleModel",
      "state": {}
     },
     "65e4cbfc3f34482192050ac258d6a836": {
      "model_module": "@jupyter-widgets/base",
      "model_module_version": "1.2.0",
      "model_name": "LayoutModel",
      "state": {
       "display": "none",
       "min_width": "6em",
       "width": "6em"
      }
     },
     "65f47e860325461da55081e9daf582fa": {
      "model_module": "@jupyter-widgets/controls",
      "model_module_version": "1.5.0",
      "model_name": "DescriptionStyleModel",
      "state": {
       "description_width": ""
      }
     },
     "6648d099f4544e24a8fff25700d301a3": {
      "model_module": "@jupyter-widgets/controls",
      "model_module_version": "1.5.0",
      "model_name": "RadioButtonsModel",
      "state": {
       "_options_labels": [
        "Model",
        "Constant",
        "None"
       ],
       "index": 2,
       "layout": "IPY_MODEL_f12ecd2ebba44ee68c956b423e52fc22",
       "style": "IPY_MODEL_d19e9f19e4974ac699a40fc984229f18"
      }
     },
     "66805b588e0e4a33b99200ce8290be3c": {
      "model_module": "@jupyter-widgets/base",
      "model_module_version": "1.2.0",
      "model_name": "LayoutModel",
      "state": {
       "grid_area": "pathlist",
       "width": "auto"
      }
     },
     "6687c623ed3240bf820958c82d866ce4": {
      "model_module": "@jupyter-widgets/controls",
      "model_module_version": "1.5.0",
      "model_name": "DescriptionStyleModel",
      "state": {
       "description_width": "initial"
      }
     },
     "66a40659f48048dcb8a34d6bdb86413f": {
      "model_module": "@jupyter-widgets/base",
      "model_module_version": "1.2.0",
      "model_name": "LayoutModel",
      "state": {}
     },
     "67c2e5212f98437fabd2f9ad2addf0cb": {
      "model_module": "@jupyter-widgets/controls",
      "model_module_version": "1.5.0",
      "model_name": "VBoxModel",
      "state": {
       "children": [
        "IPY_MODEL_e7586cae76474a40876e3efc1837f607",
        "IPY_MODEL_62367940e78b445b9bc2463d9b76a3f3",
        "IPY_MODEL_68fefa2bed17482e8672d471cef1824a"
       ],
       "layout": "IPY_MODEL_7459701fb2494d109424d19188715117"
      }
     },
     "67f2a13c7a06496f9ac0a8d407e323ad": {
      "model_module": "@jupyter-widgets/controls",
      "model_module_version": "1.5.0",
      "model_name": "DescriptionStyleModel",
      "state": {
       "description_width": ""
      }
     },
     "6820cfc96b7d4d5883e8c4f6c0dca083": {
      "model_module": "@jupyter-widgets/controls",
      "model_module_version": "1.5.0",
      "model_name": "DescriptionStyleModel",
      "state": {
       "description_width": ""
      }
     },
     "682dd7b7df094d3aa156881444448944": {
      "model_module": "@jupyter-widgets/base",
      "model_module_version": "1.2.0",
      "model_name": "LayoutModel",
      "state": {
       "display": "none",
       "grid_gap": "0px 0px",
       "grid_template_areas": "\n                    'pathlist filename'\n                    'dircontent dircontent'\n                    ",
       "grid_template_columns": "60% 40%",
       "grid_template_rows": "auto auto",
       "width": "auto"
      }
     },
     "689172a02f314a6c8821a6d203f132d9": {
      "model_module": "@jupyter-widgets/base",
      "model_module_version": "1.2.0",
      "model_name": "LayoutModel",
      "state": {
       "margin": "0 0 0 1em"
      }
     },
     "689e3e20462340e69e84bcae8623009f": {
      "model_module": "@jupyter-widgets/controls",
      "model_module_version": "1.5.0",
      "model_name": "DescriptionStyleModel",
      "state": {
       "description_width": "initial"
      }
     },
     "68a239c7a7a34f1fb8348303c5f5bb69": {
      "model_module": "@jupyter-widgets/controls",
      "model_module_version": "1.5.0",
      "model_name": "LabelModel",
      "state": {
       "layout": "IPY_MODEL_7ae4488f65d84db199512665a374d196",
       "style": "IPY_MODEL_dcb32a608ce149629c767f25dcd9238b",
       "value": "Workspace"
      }
     },
     "68bd5c54417e41089bb9b8a6e9bcd440": {
      "model_module": "@jupyter-widgets/controls",
      "model_module_version": "1.5.0",
      "model_name": "DescriptionStyleModel",
      "state": {
       "description_width": ""
      }
     },
     "68fee44f7372496e82833d3796930ea5": {
      "model_module": "@jupyter-widgets/controls",
      "model_module_version": "1.5.0",
      "model_name": "DescriptionStyleModel",
      "state": {
       "description_width": ""
      }
     },
     "68fefa2bed17482e8672d471cef1824a": {
      "model_module": "@jupyter-widgets/controls",
      "model_module_version": "1.5.0",
      "model_name": "VBoxModel",
      "state": {
       "children": [
        "IPY_MODEL_f99ad042335248bc827c6ea4ebf0499f",
        "IPY_MODEL_ba2da0ac9911449394502f4577cd4acb"
       ],
       "layout": "IPY_MODEL_b94c0bd1d2bd476382d62a89690a7e89"
      }
     },
     "69022aca10f34065801bbf6ef08de879": {
      "model_module": "@jupyter-widgets/controls",
      "model_module_version": "1.5.0",
      "model_name": "DescriptionStyleModel",
      "state": {
       "description_width": ""
      }
     },
     "6910877ba97d4611a97a60ee2fa37bd7": {
      "model_module": "@jupyter-widgets/base",
      "model_module_version": "1.2.0",
      "model_name": "LayoutModel",
      "state": {
       "visibility": "hidden"
      }
     },
     "6914cd41df3a4a10abf5af3baf435814": {
      "model_module": "@jupyter-widgets/controls",
      "model_module_version": "1.5.0",
      "model_name": "DropdownModel",
      "state": {
       "_options_labels": [
        "",
        "ISO/Iso_Iteration_7_model_5_00e-03",
        "ISO/Iso_Iteration_7_model_1_50e-02",
        "ISO/Iso_Iteration_7_model_2_50e-03",
        "ISO/Iso_Iteration_7_model_1_00e-02",
        "ISO/Iso_Iteration_7_model_2_00e-02",
        "Ore/39_Ore_Callinan",
        "Ore/38_Ore_Dan_Owens",
        "Ore/40_Ore_FlinFlon",
        "CDI/COND_surface",
        "CDI/COND[8]_surface",
        "CDI/COND[18]_surface",
        "CDI/COND[3]_surface",
        "CDI/COND[13]_surface",
        "CDI/CDI_",
        "Workspace/InterpGrid",
        "Workspace/Inversion_VTEM_Model",
        "Workspace/InterpGrid",
        "Workspace/CDI_VTEM_model",
        "Workspace/Data_FEM_pseudo3D",
        "Workspace/O2O_Interp_25m",
        "Workspace/geochem",
        "Workspace/Inversion_DIGHEM_Model",
        "Workspace/InterpGrid",
        "Workspace/Topography",
        "Workspace/Data_TEM_pseudo3D",
        "Workspace/Data_ZTEM",
        "Workspace/Mesh",
        "Workspace/InterpGrid"
       ],
       "description": "Object",
       "index": 0,
       "layout": "IPY_MODEL_73ad0d9c47f1455b819fc9173e3b7509",
       "style": "IPY_MODEL_f35d1f0d2e9b4568b0fc1a7deb871333"
      }
     },
     "69319f006ff748ca814b82f0fd2d3909": {
      "model_module": "@jupyter-widgets/controls",
      "model_module_version": "1.5.0",
      "model_name": "DropdownModel",
      "state": {
       "_options_labels": [
        "",
        "ISO/Iso_Iteration_7_model_5_00e-03",
        "ISO/Iso_Iteration_7_model_1_50e-02",
        "ISO/Iso_Iteration_7_model_2_50e-03",
        "ISO/Iso_Iteration_7_model_1_00e-02",
        "ISO/Iso_Iteration_7_model_2_00e-02",
        "Ore/39_Ore_Callinan",
        "Ore/38_Ore_Dan_Owens",
        "Ore/40_Ore_FlinFlon",
        "CDI/COND_surface",
        "CDI/COND[8]_surface",
        "CDI/COND[18]_surface",
        "CDI/COND[3]_surface",
        "CDI/COND[13]_surface",
        "CDI/CDI_",
        "Workspace/InterpGrid",
        "Workspace/Inversion_VTEM_Model",
        "Workspace/InterpGrid",
        "Workspace/CDI_VTEM_model",
        "Workspace/Data_FEM_pseudo3D",
        "Workspace/O2O_Interp_25m",
        "Workspace/geochem",
        "Workspace/Inversion_DIGHEM_Model",
        "Workspace/InterpGrid",
        "Workspace/Topography",
        "Workspace/Data_TEM_pseudo3D",
        "Workspace/Data_ZTEM",
        "Workspace/Mesh",
        "Workspace/InterpGrid"
       ],
       "description": "Object",
       "index": 0,
       "layout": "IPY_MODEL_566b1fe24e1842f4b3b7394497390014",
       "style": "IPY_MODEL_34eb6abb838e437f84d4973520cfae4b"
      }
     },
     "6950d9bf9f114e29800ad1ffeea2fc14": {
      "model_module": "@jupyter-widgets/controls",
      "model_module_version": "1.5.0",
      "model_name": "DescriptionStyleModel",
      "state": {
       "description_width": ""
      }
     },
     "6995fb7999234ae7a0824a96dae92a4c": {
      "model_module": "@jupyter-widgets/controls",
      "model_module_version": "1.5.0",
      "model_name": "ButtonModel",
      "state": {
       "description": "Cancel",
       "layout": "IPY_MODEL_bf926474a1c04bfe88b93d750541bbc7",
       "style": "IPY_MODEL_cc3ca330fe164b0c96d4a9b1ce1d33f0"
      }
     },
     "69ad7026e7524785ae03cb70f51370ea": {
      "model_module": "@jupyter-widgets/controls",
      "model_module_version": "1.5.0",
      "model_name": "DropdownModel",
      "state": {
       "_options_labels": [
        "",
        "ISO/Iso_Iteration_7_model_5_00e-03",
        "ISO/Iso_Iteration_7_model_1_50e-02",
        "ISO/Iso_Iteration_7_model_2_50e-03",
        "ISO/Iso_Iteration_7_model_1_00e-02",
        "ISO/Iso_Iteration_7_model_2_00e-02",
        "Ore/39_Ore_Callinan",
        "Ore/38_Ore_Dan_Owens",
        "Ore/40_Ore_FlinFlon",
        "CDI/COND_surface",
        "CDI/COND[8]_surface",
        "CDI/COND[18]_surface",
        "CDI/COND[3]_surface",
        "CDI/COND[13]_surface",
        "CDI/CDI_",
        "Workspace/InterpGrid",
        "Workspace/Inversion_VTEM_Model",
        "Workspace/InterpGrid",
        "Workspace/Gravity_Magnetics_drape60m",
        "Workspace/CDI_VTEM_model",
        "Workspace/Data_FEM_pseudo3D",
        "Workspace/O2O_Interp_25m",
        "Workspace/geochem",
        "Workspace/Inversion_DIGHEM_Model",
        "Workspace/InterpGrid",
        "Workspace/Topography",
        "Workspace/Data_TEM_pseudo3D",
        "Workspace/Data_ZTEM",
        "Workspace/Mesh",
        "Workspace/InterpGrid"
       ],
       "description": "Object:",
       "index": 25,
       "layout": "IPY_MODEL_7786752ef96d4998af4bda107dc3bd99",
       "style": "IPY_MODEL_797cf9d3145349bba9ca01fc4f82715f"
      }
     },
     "69c054566b634b84a56df69a50f8cd80": {
      "model_module": "@jupyter-widgets/controls",
      "model_module_version": "1.5.0",
      "model_name": "DescriptionStyleModel",
      "state": {
       "description_width": ""
      }
     },
     "69ef6a43012945d8965a9d62deac0b86": {
      "model_module": "@jupyter-widgets/base",
      "model_module_version": "1.2.0",
      "model_name": "LayoutModel",
      "state": {}
     },
     "69f94679e7b54d399054c4a85333fb31": {
      "model_module": "@jupyter-widgets/controls",
      "model_module_version": "1.5.0",
      "model_name": "DescriptionStyleModel",
      "state": {
       "description_width": "initial"
      }
     },
     "6a0abd79fbec4faa878087bb404d86d8": {
      "model_module": "@jupyter-widgets/base",
      "model_module_version": "1.2.0",
      "model_name": "LayoutModel",
      "state": {}
     },
     "6a1cdbff43e24ddea95acde88f580ca8": {
      "model_module": "@jupyter-widgets/base",
      "model_module_version": "1.2.0",
      "model_name": "LayoutModel",
      "state": {}
     },
     "6a27ec930ec64ee592e71d4a1dc366da": {
      "model_module": "@jupyter-widgets/base",
      "model_module_version": "1.2.0",
      "model_name": "LayoutModel",
      "state": {}
     },
     "6a5357df5e534c34af01184eefb39600": {
      "model_module": "@jupyter-widgets/controls",
      "model_module_version": "1.5.0",
      "model_name": "DescriptionStyleModel",
      "state": {
       "description_width": "initial"
      }
     },
     "6a689417b2f04eba8a41caf5a4623e41": {
      "model_module": "@jupyter-widgets/controls",
      "model_module_version": "1.5.0",
      "model_name": "DropdownModel",
      "state": {
       "_options_labels": [
        "",
        "Airborne_Gxx",
        "Airborne_Gxy",
        "Airborne_Gxz",
        "Airborne_Gyy",
        "Airborne_Gyz",
        "Airborne_Gz",
        "Airborne_Gzz",
        "Airborne_TMI",
        "Ground_Gz"
       ],
       "description": "[Optional] Channel:",
       "index": 0,
       "layout": "IPY_MODEL_2799b4c256ce4dc5b95cbedd312cbc65",
       "style": "IPY_MODEL_bb604b763f9c48e08e744fddad736120"
      }
     },
     "6a782b8a1f79415182a7b82d6f77974a": {
      "model_module": "@jupyter-widgets/controls",
      "model_module_version": "1.5.0",
      "model_name": "CheckboxModel",
      "state": {
       "description": "Geoscience ANALYST Pro - Live link",
       "disabled": false,
       "indent": false,
       "layout": "IPY_MODEL_2d200c1fdbad48bf94e252cfc923efe3",
       "style": "IPY_MODEL_ea2bf6e5e67844b2a884a3512143ae34",
       "value": false
      }
     },
     "6a9f25ff806542f680ec2c81b9f57004": {
      "model_module": "@jupyter-widgets/base",
      "model_module_version": "1.2.0",
      "model_name": "LayoutModel",
      "state": {}
     },
     "6ae2319a2e70415dbb514c51246ac2c5": {
      "model_module": "@jupyter-widgets/base",
      "model_module_version": "1.2.0",
      "model_name": "LayoutModel",
      "state": {}
     },
     "6b2edf43a3344870ae1da93b8a2efd2e": {
      "model_module": "@jupyter-widgets/controls",
      "model_module_version": "1.5.0",
      "model_name": "DescriptionStyleModel",
      "state": {
       "description_width": ""
      }
     },
     "6b3e127878e542fd87ee5c1240e3ec49": {
      "model_module": "@jupyter-widgets/base",
      "model_module_version": "1.2.0",
      "model_name": "LayoutModel",
      "state": {
       "min_width": "6em",
       "width": "6em"
      }
     },
     "6b4e38957ad948d1a42a7e3f04c82f28": {
      "model_module": "@jupyter-widgets/controls",
      "model_module_version": "1.5.0",
      "model_name": "DescriptionStyleModel",
      "state": {
       "description_width": "initial"
      }
     },
     "6b5e424c5902436cab8df1071773b950": {
      "model_module": "@jupyter-widgets/controls",
      "model_module_version": "1.5.0",
      "model_name": "DescriptionStyleModel",
      "state": {
       "description_width": "initial"
      }
     },
     "6b96cfb22d924771827cffdb65ff153f": {
      "model_module": "@jupyter-widgets/controls",
      "model_module_version": "1.5.0",
      "model_name": "DescriptionStyleModel",
      "state": {
       "description_width": ""
      }
     },
     "6b97eca4cadf4e6885ea609fffe843c3": {
      "model_module": "@jupyter-widgets/base",
      "model_module_version": "1.2.0",
      "model_name": "LayoutModel",
      "state": {
       "grid_area": "pathlist",
       "width": "auto"
      }
     },
     "6ba57b3e145a4cedab13864a319f6197": {
      "model_module": "@jupyter-widgets/controls",
      "model_module_version": "1.5.0",
      "model_name": "DescriptionStyleModel",
      "state": {
       "description_width": ""
      }
     },
     "6bbe1b358ac541d890d4df2a2d018479": {
      "model_module": "@jupyter-widgets/controls",
      "model_module_version": "1.5.0",
      "model_name": "DescriptionStyleModel",
      "state": {
       "description_width": ""
      }
     },
     "6be77a5fcbd24b9d8239554981e43947": {
      "model_module": "@jupyter-widgets/base",
      "model_module_version": "1.2.0",
      "model_name": "LayoutModel",
      "state": {}
     },
     "6c3ac096a46e4402889b58e5213c7b95": {
      "model_module": "@jupyter-widgets/controls",
      "model_module_version": "1.5.0",
      "model_name": "DescriptionStyleModel",
      "state": {
       "description_width": "initial"
      }
     },
     "6c585ce2ce894038b8c130fa88fffa55": {
      "model_module": "@jupyter-widgets/controls",
      "model_module_version": "1.5.0",
      "model_name": "GridBoxModel",
      "state": {
       "children": [
        "IPY_MODEL_bfeb0d1e70a3423b81a8cd2ee9f35ba2",
        "IPY_MODEL_3477cd61f2e64d5c986d92c09273d6e1",
        "IPY_MODEL_d036b70fba4b42d6a893e09b38029a2c"
       ],
       "layout": "IPY_MODEL_ecf1ee49374b4a03bbabe5861d870ef0"
      }
     },
     "6c5edffbbd6d4a38bd841160c9729eb2": {
      "model_module": "@jupyter-widgets/controls",
      "model_module_version": "1.5.0",
      "model_name": "DescriptionStyleModel",
      "state": {
       "description_width": ""
      }
     },
     "6c957ec3e91343b1bc3d2821c55fc695": {
      "model_module": "@jupyter-widgets/controls",
      "model_module_version": "1.5.0",
      "model_name": "LabelModel",
      "state": {
       "layout": "IPY_MODEL_eb57583c62804837b5f5d17544c44c8f",
       "style": "IPY_MODEL_9f4c73db91e546f4a9ca13df8e97c3c4",
       "value": "No topography"
      }
     },
     "6cb4143e178c48b5bd699ba5510a58b6": {
      "model_module": "@jupyter-widgets/base",
      "model_module_version": "1.2.0",
      "model_name": "LayoutModel",
      "state": {}
     },
     "6cbcaafee55e48bc89495c38d143d25d": {
      "model_module": "@jupyter-widgets/base",
      "model_module_version": "1.2.0",
      "model_name": "LayoutModel",
      "state": {}
     },
     "6ce67e3c6b4c4fc9b425fe1b2a5fd84f": {
      "model_module": "@jupyter-widgets/controls",
      "model_module_version": "1.5.0",
      "model_name": "DescriptionStyleModel",
      "state": {
       "description_width": "initial"
      }
     },
     "6cefdf62a50347849625ffd25a689e29": {
      "model_module": "@jupyter-widgets/controls",
      "model_module_version": "1.5.0",
      "model_name": "DescriptionStyleModel",
      "state": {
       "description_width": "initial"
      }
     },
     "6cfcf3c00c424362b165c2990170b6d8": {
      "model_module": "@jupyter-widgets/controls",
      "model_module_version": "1.5.0",
      "model_name": "DescriptionStyleModel",
      "state": {
       "description_width": ""
      }
     },
     "6cfecd44f1b34885b0e6973618f33bcc": {
      "model_module": "@jupyter-widgets/base",
      "model_module_version": "1.2.0",
      "model_name": "LayoutModel",
      "state": {}
     },
     "6d1da71d7b724879b59289e4e420a53e": {
      "model_module": "@jupyter-widgets/controls",
      "model_module_version": "1.5.0",
      "model_name": "LabelModel",
      "state": {
       "layout": "IPY_MODEL_afab9cb858c84466be7a3389cefc6a31",
       "style": "IPY_MODEL_b6fbc205ec8f47e19f77e5e2a6219c13",
       "value": "Monitoring folder"
      }
     },
     "6d3b2deb342948f9ba6e3b672b100d71": {
      "model_module": "@jupyter-widgets/controls",
      "model_module_version": "1.5.0",
      "model_name": "HTMLModel",
      "state": {
       "layout": "IPY_MODEL_d8bb741e2e1e45a5bac39db98de9889b",
       "style": "IPY_MODEL_d8c84a506d9544229ecb9aaee012b605"
      }
     },
     "6d958e02302b4c09877297bebc5cf36e": {
      "model_module": "@jupyter-widgets/controls",
      "model_module_version": "1.5.0",
      "model_name": "DescriptionStyleModel",
      "state": {
       "description_width": ""
      }
     },
     "6d9fa03924b94f6fae3d77bc0ed2e61b": {
      "model_module": "@jupyter-widgets/controls",
      "model_module_version": "1.5.0",
      "model_name": "CheckboxModel",
      "state": {
       "description": "Geoscience ANALYST Pro - Live link",
       "disabled": false,
       "indent": false,
       "layout": "IPY_MODEL_6a1cdbff43e24ddea95acde88f580ca8",
       "style": "IPY_MODEL_42e835b2c55b4953b98c18931c04652c",
       "value": false
      }
     },
     "6dedd44a64bd40879b659150bc882609": {
      "model_module": "@jupyter-widgets/base",
      "model_module_version": "1.2.0",
      "model_name": "LayoutModel",
      "state": {}
     },
     "6e394d4781d046f69249ebe8eb767a92": {
      "model_module": "@jupyter-widgets/base",
      "model_module_version": "1.2.0",
      "model_name": "LayoutModel",
      "state": {}
     },
     "6e475b682738488191afe115ffe81389": {
      "model_module": "@jupyter-widgets/base",
      "model_module_version": "1.2.0",
      "model_name": "LayoutModel",
      "state": {}
     },
     "6e66e56229234e2d926fe132a938faea": {
      "model_module": "@jupyter-widgets/base",
      "model_module_version": "1.2.0",
      "model_name": "LayoutModel",
      "state": {}
     },
     "6ea767f7ff704c8f86983a5357575750": {
      "model_module": "@jupyter-widgets/controls",
      "model_module_version": "1.5.0",
      "model_name": "ToggleButtonModel",
      "state": {
       "layout": "IPY_MODEL_90d92ec7e59042bba0fb64ba6b00c3c1",
       "style": "IPY_MODEL_3fe18d19e3e04770837a7e0fc8b5b26d"
      }
     },
     "6edf69e8aa9547e8a14715dde671e20b": {
      "model_module": "@jupyter-widgets/controls",
      "model_module_version": "1.5.0",
      "model_name": "DescriptionStyleModel",
      "state": {
       "description_width": "initial"
      }
     },
     "6f05779f55154751b17bf6874d29943b": {
      "model_module": "@jupyter-widgets/controls",
      "model_module_version": "1.5.0",
      "model_name": "DescriptionStyleModel",
      "state": {
       "description_width": "initial"
      }
     },
     "6f308d1875c4403893a33008cde8247f": {
      "model_module": "@jupyter-widgets/base",
      "model_module_version": "1.2.0",
      "model_name": "LayoutModel",
      "state": {
       "width": "auto"
      }
     },
     "6f31d09f71234b18a4ff17fc4a5e27cc": {
      "model_module": "@jupyter-widgets/controls",
      "model_module_version": "1.5.0",
      "model_name": "DescriptionStyleModel",
      "state": {
       "description_width": "initial"
      }
     },
     "6f5020031fb147c788352318c1042989": {
      "model_module": "@jupyter-widgets/controls",
      "model_module_version": "1.5.0",
      "model_name": "HTMLModel",
      "state": {
       "layout": "IPY_MODEL_f80af9d27ca2436fa398c3b77b960b0f",
       "placeholder": "",
       "style": "IPY_MODEL_3f3a32ae8d5c48bbb3a3bf4df4d68237",
       "value": "<span style=\"color:orange;\">C:\\Users\\dominiquef\\Documents\\GIT\\mira\\geoapps\\assets\\FlinFlon.geoh5</span>"
      }
     },
     "6f747cb21e99404eadafa733d13c828c": {
      "model_module": "@jupyter-widgets/controls",
      "model_module_version": "1.5.0",
      "model_name": "ButtonStyleModel",
      "state": {}
     },
     "6f7ce94fb4454b408ab6d53be4e026a9": {
      "model_module": "@jupyter-widgets/base",
      "model_module_version": "1.2.0",
      "model_name": "LayoutModel",
      "state": {}
     },
     "6f80d95ac7704f6d8f74773e45dd9a56": {
      "model_module": "@jupyter-widgets/controls",
      "model_module_version": "1.5.0",
      "model_name": "ButtonStyleModel",
      "state": {}
     },
     "6f834183ae6b4407b704c798e50cb3a0": {
      "model_module": "@jupyter-widgets/base",
      "model_module_version": "1.2.0",
      "model_name": "LayoutModel",
      "state": {}
     },
     "6f87c3e55715447f973bee51027ce646": {
      "model_module": "@jupyter-widgets/controls",
      "model_module_version": "1.5.0",
      "model_name": "ButtonModel",
      "state": {
       "description": "Change",
       "layout": "IPY_MODEL_ba9518df9cfc4244817377d174d33e2f",
       "style": "IPY_MODEL_9283129daab24043b3a79ebc2153602a"
      }
     },
     "6f8b7027f3a34266b3f7e006118e2201": {
      "model_module": "@jupyter-widgets/controls",
      "model_module_version": "1.5.0",
      "model_name": "ButtonModel",
      "state": {
       "description": "Change",
       "layout": "IPY_MODEL_0b5ed4698fd94d87add9bf8e3d9c340e",
       "style": "IPY_MODEL_e193e826c53d4ea68075d1b27c145d03"
      }
     },
     "6fd8b468ba12470d9ac66ba8309d30e7": {
      "model_module": "@jupyter-widgets/controls",
      "model_module_version": "1.5.0",
      "model_name": "DescriptionStyleModel",
      "state": {
       "description_width": ""
      }
     },
     "6ff1bcc7f90941479bb4e759e8696e40": {
      "model_module": "@jupyter-widgets/controls",
      "model_module_version": "1.5.0",
      "model_name": "DescriptionStyleModel",
      "state": {
       "description_width": ""
      }
     },
     "6ff7f3342fcf464ea509529251933e21": {
      "model_module": "@jupyter-widgets/controls",
      "model_module_version": "1.5.0",
      "model_name": "DescriptionStyleModel",
      "state": {
       "description_width": "initial"
      }
     },
     "6fff71fde0dc44d6b316fbd6617f90f4": {
      "model_module": "@jupyter-widgets/controls",
      "model_module_version": "1.5.0",
      "model_name": "DescriptionStyleModel",
      "state": {
       "description_width": ""
      }
     },
     "7019c86569f744f7a1cd90ecdd209f5b": {
      "model_module": "@jupyter-widgets/controls",
      "model_module_version": "1.5.0",
      "model_name": "DescriptionStyleModel",
      "state": {
       "description_width": ""
      }
     },
     "703d59a84b3b494b9039f32afb13fdfc": {
      "model_module": "@jupyter-widgets/controls",
      "model_module_version": "1.5.0",
      "model_name": "DescriptionStyleModel",
      "state": {
       "description_width": "initial"
      }
     },
     "704ea29aec7041c194584443d3856b3c": {
      "model_module": "@jupyter-widgets/controls",
      "model_module_version": "1.5.0",
      "model_name": "ButtonStyleModel",
      "state": {}
     },
     "706279df8ce347b6a2278bb2bc8ed9bc": {
      "model_module": "@jupyter-widgets/controls",
      "model_module_version": "1.5.0",
      "model_name": "ButtonStyleModel",
      "state": {}
     },
     "7077b41c67d0434aab6812baa849cd66": {
      "model_module": "@jupyter-widgets/controls",
      "model_module_version": "1.5.0",
      "model_name": "DescriptionStyleModel",
      "state": {
       "description_width": "initial"
      }
     },
     "70d35643f02140edbfa470d1f7bcb926": {
      "model_module": "@jupyter-widgets/controls",
      "model_module_version": "1.5.0",
      "model_name": "DescriptionStyleModel",
      "state": {
       "description_width": "initial"
      }
     },
     "70dc3ca5d65746ba9e69385f3a02d4aa": {
      "model_module": "@jupyter-widgets/base",
      "model_module_version": "1.2.0",
      "model_name": "LayoutModel",
      "state": {}
     },
     "70e7a47712bf418a98b143892995e8fd": {
      "model_module": "@jupyter-widgets/controls",
      "model_module_version": "1.5.0",
      "model_name": "DescriptionStyleModel",
      "state": {
       "description_width": ""
      }
     },
     "7118f625f2a348f393e054be7899ebc7": {
      "model_module": "@jupyter-widgets/controls",
      "model_module_version": "1.5.0",
      "model_name": "VBoxModel",
      "state": {
       "children": [
        "IPY_MODEL_d4252a7fd472405b87725f74fe10d2d0",
        "IPY_MODEL_be5d28df6b6d4bedb9830628533dfa8f",
        "IPY_MODEL_b2eac11b109f4ac1b57309532a5b5980",
        "IPY_MODEL_1ca18da6649940389cfafc1e8a8a6838"
       ],
       "layout": "IPY_MODEL_a97d9d23c7a74e69b859393c06b43794"
      }
     },
     "7146ee4452ae4e5eb145b4858800b3b5": {
      "model_module": "@jupyter-widgets/base",
      "model_module_version": "1.2.0",
      "model_name": "LayoutModel",
      "state": {
       "display": "none",
       "grid_gap": "0px 0px",
       "grid_template_areas": "\n                    'pathlist filename'\n                    'dircontent dircontent'\n                    ",
       "grid_template_columns": "60% 40%",
       "grid_template_rows": "auto auto",
       "width": "auto"
      }
     },
     "71acb776f85543178f50fcfb009718d9": {
      "model_module": "@jupyter-widgets/controls",
      "model_module_version": "1.5.0",
      "model_name": "DescriptionStyleModel",
      "state": {
       "description_width": "initial"
      }
     },
     "71bdccf267d847c1b963eaa94dac3fce": {
      "model_module": "@jupyter-widgets/base",
      "model_module_version": "1.2.0",
      "model_name": "LayoutModel",
      "state": {
       "width": "auto"
      }
     },
     "71dd3791b98445e9a167a30bee0e585a": {
      "model_module": "@jupyter-widgets/controls",
      "model_module_version": "1.5.0",
      "model_name": "DescriptionStyleModel",
      "state": {
       "description_width": "initial"
      }
     },
     "71e04b88d2db41e3a032deb3bfd91c48": {
      "model_module": "@jupyter-widgets/controls",
      "model_module_version": "1.5.0",
      "model_name": "LabelModel",
      "state": {
       "layout": "IPY_MODEL_04661605cd854fa8b9e16c833aa2e5e9",
       "style": "IPY_MODEL_268b7b1b6f9b46f3b696e65d9eadd540",
       "value": "Monitoring folder"
      }
     },
     "7216edbad4684134b5864b819f743635": {
      "model_module": "@jupyter-widgets/controls",
      "model_module_version": "1.5.0",
      "model_name": "DescriptionStyleModel",
      "state": {
       "description_width": "initial"
      }
     },
     "722cf721a93f4013986a7e6d9ec3c21c": {
      "model_module": "@jupyter-widgets/controls",
      "model_module_version": "1.5.0",
      "model_name": "ButtonStyleModel",
      "state": {}
     },
     "7275f66150c14eba8be4f5d6b9b8c896": {
      "model_module": "@jupyter-widgets/controls",
      "model_module_version": "1.5.0",
      "model_name": "ButtonStyleModel",
      "state": {}
     },
     "72bae4d6e81f42dd95e36aba7a627243": {
      "model_module": "@jupyter-widgets/base",
      "model_module_version": "1.2.0",
      "model_name": "LayoutModel",
      "state": {}
     },
     "730337d9c3f14e7ba387e52213e64382": {
      "model_module": "@jupyter-widgets/controls",
      "model_module_version": "1.5.0",
      "model_name": "ButtonStyleModel",
      "state": {}
     },
     "73343b2f6721465a903e0f6a6c18d897": {
      "model_module": "@jupyter-widgets/controls",
      "model_module_version": "1.5.0",
      "model_name": "DescriptionStyleModel",
      "state": {
       "description_width": "initial"
      }
     },
     "735744acec87454f891879ed18d7f62e": {
      "model_module": "@jupyter-widgets/controls",
      "model_module_version": "1.5.0",
      "model_name": "RadioButtonsModel",
      "state": {
       "_options_labels": [
        "Constant",
        "Model"
       ],
       "index": 0,
       "layout": "IPY_MODEL_24cf633c520943c48bd94ee120a6aa41",
       "style": "IPY_MODEL_9482bf24b9ba414db78f74727189b383"
      }
     },
     "735e003ada754224b8cf21e6d362e0b9": {
      "model_module": "@jupyter-widgets/base",
      "model_module_version": "1.2.0",
      "model_name": "LayoutModel",
      "state": {}
     },
     "7367fcf7bcc1484cb60e67428358ad49": {
      "model_module": "@jupyter-widgets/controls",
      "model_module_version": "1.5.0",
      "model_name": "DescriptionStyleModel",
      "state": {
       "description_width": "initial"
      }
     },
     "736f60fbf78e4698aa4fd2239d41801a": {
      "model_module": "@jupyter-widgets/controls",
      "model_module_version": "1.5.0",
      "model_name": "ButtonModel",
      "state": {
       "description": "Cancel",
       "layout": "IPY_MODEL_9c5f9f1062e34be88409e0f646aff1e7",
       "style": "IPY_MODEL_9e1665e525184d0fa1e0bda5906e0fc7"
      }
     },
     "7376396c5a4949d4be4e79e786ff8ff2": {
      "model_module": "@jupyter-widgets/controls",
      "model_module_version": "1.5.0",
      "model_name": "DescriptionStyleModel",
      "state": {
       "description_width": ""
      }
     },
     "73a6f3dfeba0431da029c3f00dc01b60": {
      "model_module": "@jupyter-widgets/base",
      "model_module_version": "1.2.0",
      "model_name": "LayoutModel",
      "state": {}
     },
     "73ad0d9c47f1455b819fc9173e3b7509": {
      "model_module": "@jupyter-widgets/base",
      "model_module_version": "1.2.0",
      "model_name": "LayoutModel",
      "state": {}
     },
     "73f1967b38ad42e4a52d7665b1a0e4f6": {
      "model_module": "@jupyter-widgets/base",
      "model_module_version": "1.2.0",
      "model_name": "LayoutModel",
      "state": {}
     },
     "73f3709687fc42f1a13fb182d50ec04d": {
      "model_module": "@jupyter-widgets/base",
      "model_module_version": "1.2.0",
      "model_name": "LayoutModel",
      "state": {}
     },
     "73f3c3466f5d41edb684826e11f260f3": {
      "model_module": "@jupyter-widgets/controls",
      "model_module_version": "1.5.0",
      "model_name": "TextModel",
      "state": {
       "layout": "IPY_MODEL_282ec30710df46d09d80676d826fc527",
       "placeholder": "output filename",
       "style": "IPY_MODEL_f10dd7e9e10c4504909d1fd974b26db2",
       "value": "FlinFlon.geoh5"
      }
     },
     "744ed20788f14c5d9a2e56a91ae2dbd2": {
      "model_module": "@jupyter-widgets/controls",
      "model_module_version": "1.5.0",
      "model_name": "ButtonStyleModel",
      "state": {}
     },
     "7459701fb2494d109424d19188715117": {
      "model_module": "@jupyter-widgets/base",
      "model_module_version": "1.2.0",
      "model_name": "LayoutModel",
      "state": {}
     },
     "7470cfb1b96d46b5b1518fd1be1954c4": {
      "model_module": "@jupyter-widgets/base",
      "model_module_version": "1.2.0",
      "model_name": "LayoutModel",
      "state": {
       "display": "none",
       "min_width": "6em",
       "width": "6em"
      }
     },
     "74a59cbe42ee449497c494746aaf67c3": {
      "model_module": "@jupyter-widgets/controls",
      "model_module_version": "1.5.0",
      "model_name": "FloatTextModel",
      "state": {
       "description": "Declination (d.dd)",
       "layout": "IPY_MODEL_d277ac8e0f09485c80bdceb202b789d3",
       "step": null,
       "style": "IPY_MODEL_541f75a3015d45f581bf92372454faeb",
       "value": 11
      }
     },
     "74a6682635084187998b171c8acc5129": {
      "model_module": "@jupyter-widgets/controls",
      "model_module_version": "1.5.0",
      "model_name": "DescriptionStyleModel",
      "state": {
       "description_width": ""
      }
     },
     "74cf95e143654569b544f94d1ca9d372": {
      "model_module": "@jupyter-widgets/base",
      "model_module_version": "1.2.0",
      "model_name": "LayoutModel",
      "state": {}
     },
     "74dce751e9c04ee28909372d3e6cc1b1": {
      "model_module": "@jupyter-widgets/controls",
      "model_module_version": "1.5.0",
      "model_name": "DescriptionStyleModel",
      "state": {
       "description_width": ""
      }
     },
     "7509e07440264f95b1fc9fed9aa58b56": {
      "model_module": "@jupyter-widgets/controls",
      "model_module_version": "1.5.0",
      "model_name": "DescriptionStyleModel",
      "state": {
       "description_width": ""
      }
     },
     "753c91d8ea694078a7a25bf1d2f2a302": {
      "model_module": "@jupyter-widgets/controls",
      "model_module_version": "1.5.0",
      "model_name": "SelectModel",
      "state": {
       "_options_labels": [
        "📁 ..",
        "📁 SimPEG_PFInversion",
        "📁 Temp"
       ],
       "index": null,
       "layout": "IPY_MODEL_e2ee9cb08b2948afb3664365b94b6847",
       "rows": 8,
       "style": "IPY_MODEL_188a8e9cf57c43608091727b17cf9062"
      }
     },
     "7553f848fbe24ad5a2ea5cb204e9fa5f": {
      "model_module": "@jupyter-widgets/controls",
      "model_module_version": "1.5.0",
      "model_name": "ButtonModel",
      "state": {
       "description": "Cancel",
       "layout": "IPY_MODEL_a9958eb647eb4d46824e54386560eec8",
       "style": "IPY_MODEL_f865fbe4aea24d898c5174ef812e2a5d"
      }
     },
     "7581272dd5ce486db147323a2be0f303": {
      "model_module": "@jupyter-widgets/base",
      "model_module_version": "1.2.0",
      "model_name": "LayoutModel",
      "state": {
       "margin": "0 0 0 1em"
      }
     },
     "75906497453d48a8bb9821f12b4b4cc7": {
      "model_module": "@jupyter-widgets/base",
      "model_module_version": "1.2.0",
      "model_name": "LayoutModel",
      "state": {
       "grid_area": "dircontent",
       "width": "auto"
      }
     },
     "75caf9828988418e8efe22da4432cdbb": {
      "model_module": "@jupyter-widgets/controls",
      "model_module_version": "1.5.0",
      "model_name": "DescriptionStyleModel",
      "state": {
       "description_width": "initial"
      }
     },
     "75ce9d0c907c4f97bce465a692166b8d": {
      "model_module": "@jupyter-widgets/controls",
      "model_module_version": "1.5.0",
      "model_name": "ButtonStyleModel",
      "state": {}
     },
     "761b5dd0f2ed4d53875d727622d80e62": {
      "model_module": "@jupyter-widgets/base",
      "model_module_version": "1.2.0",
      "model_name": "LayoutModel",
      "state": {
       "min_width": "6em",
       "width": "6em"
      }
     },
     "761dda0dd20a4a9d9dde308768f1eab7": {
      "model_module": "@jupyter-widgets/controls",
      "model_module_version": "1.5.0",
      "model_name": "DropdownModel",
      "state": {
       "_options_labels": [
        "",
        "Airborne_Gxx",
        "Airborne_Gxy",
        "Airborne_Gxz",
        "Airborne_Gyy",
        "Airborne_Gyz",
        "Airborne_Gz",
        "Airborne_Gzz",
        "Airborne_TMI",
        "Ground_Gz"
       ],
       "description": "[Optional] Channel:",
       "index": 0,
       "layout": "IPY_MODEL_85f9b484fe834c5fb70b92bb762522b5",
       "style": "IPY_MODEL_d982de08d9f54248a51f49ff0ce3f56f"
      }
     },
     "762c79e102e34d1aa19c002475bbc438": {
      "model_module": "@jupyter-widgets/controls",
      "model_module_version": "1.5.0",
      "model_name": "DescriptionStyleModel",
      "state": {
       "description_width": ""
      }
     },
     "764b7a5dfa5e424db3d2b97c8579acbb": {
      "model_module": "@jupyter-widgets/controls",
      "model_module_version": "1.5.0",
      "model_name": "DescriptionStyleModel",
      "state": {
       "description_width": ""
      }
     },
     "767c6227aef94be296f00313be472f98": {
      "model_module": "@jupyter-widgets/base",
      "model_module_version": "1.2.0",
      "model_name": "LayoutModel",
      "state": {
       "display": "none",
       "grid_gap": "0px 0px",
       "grid_template_areas": "\n                    'pathlist pathlist'\n                    'dircontent dircontent'\n                    ",
       "grid_template_columns": "60% 40%",
       "grid_template_rows": "auto auto",
       "width": "auto"
      }
     },
     "7692641eefc6426f99be74403bb25e53": {
      "model_module": "@jupyter-widgets/base",
      "model_module_version": "1.2.0",
      "model_name": "LayoutModel",
      "state": {}
     },
     "769fff05752b47e099d10e060c5e5339": {
      "model_module": "@jupyter-widgets/base",
      "model_module_version": "1.2.0",
      "model_name": "LayoutModel",
      "state": {
       "grid_area": "dircontent",
       "width": "auto"
      }
     },
     "76c64d36ec794b98937241be19d90d18": {
      "model_module": "@jupyter-widgets/controls",
      "model_module_version": "1.5.0",
      "model_name": "ButtonStyleModel",
      "state": {}
     },
     "76d53d573def42a099d054223d94f623": {
      "model_module": "@jupyter-widgets/base",
      "model_module_version": "1.2.0",
      "model_name": "LayoutModel",
      "state": {}
     },
     "772887bd73ea40cfba4d3d6472ecfe41": {
      "model_module": "@jupyter-widgets/controls",
      "model_module_version": "1.5.0",
      "model_name": "LabelModel",
      "state": {
       "layout": "IPY_MODEL_9071cf8176a1412e83a9c028962bb540",
       "style": "IPY_MODEL_74dce751e9c04ee28909372d3e6cc1b1",
       "value": "Scaling (alphas)"
      }
     },
     "77357158003644cdbdc07e2d695b7bb5": {
      "model_module": "@jupyter-widgets/controls",
      "model_module_version": "1.5.0",
      "model_name": "ButtonStyleModel",
      "state": {}
     },
     "7749e471939c4f3c8439efcbd0e2ead3": {
      "model_module": "@jupyter-widgets/controls",
      "model_module_version": "1.5.0",
      "model_name": "DescriptionStyleModel",
      "state": {
       "description_width": "initial"
      }
     },
     "777d9edcbb2449ba8dd0f47632bc6054": {
      "model_module": "@jupyter-widgets/controls",
      "model_module_version": "1.5.0",
      "model_name": "GridBoxModel",
      "state": {
       "children": [
        "IPY_MODEL_8b974c69616a40cb8541ea2081ee26a1",
        "IPY_MODEL_5ee5b3b1f9714b66a5ba2b597e6dc9ae",
        "IPY_MODEL_26f1e43407d9497abff3d7863285e0b6"
       ],
       "layout": "IPY_MODEL_38c9c68fb6ef4fe69b6cc34ebabe842b"
      }
     },
     "778475827a88486d9794bb6bc01ccfc7": {
      "model_module": "@jupyter-widgets/controls",
      "model_module_version": "1.5.0",
      "model_name": "ToggleButtonModel",
      "state": {
       "description": "Zoom on selection",
       "icon": "check",
       "layout": "IPY_MODEL_e14e806fddf344009ed0ae8eef581f6f",
       "style": "IPY_MODEL_0761096737cd42398409dd423e04a0ca",
       "value": true
      }
     },
     "7786752ef96d4998af4bda107dc3bd99": {
      "model_module": "@jupyter-widgets/base",
      "model_module_version": "1.2.0",
      "model_name": "LayoutModel",
      "state": {}
     },
     "778acb5ec1044c6db8c928b6b4c0a891": {
      "model_module": "@jupyter-widgets/controls",
      "model_module_version": "1.5.0",
      "model_name": "SliderStyleModel",
      "state": {
       "description_width": "initial"
      }
     },
     "779f4198938b44f890aa444cf65558f7": {
      "model_module": "@jupyter-widgets/controls",
      "model_module_version": "1.5.0",
      "model_name": "DescriptionStyleModel",
      "state": {
       "description_width": "initial"
      }
     },
     "77c208e6a57d4177b1218d5ae36c4cb7": {
      "model_module": "@jupyter-widgets/controls",
      "model_module_version": "1.5.0",
      "model_name": "DescriptionStyleModel",
      "state": {
       "description_width": ""
      }
     },
     "77ffb15df2c5432c8fe2e442e75807ec": {
      "model_module": "@jupyter-widgets/controls",
      "model_module_version": "1.5.0",
      "model_name": "DescriptionStyleModel",
      "state": {
       "description_width": "initial"
      }
     },
     "7842a3b181ad474799ea7ccfdc8b2385": {
      "model_module": "@jupyter-widgets/controls",
      "model_module_version": "1.5.0",
      "model_name": "DescriptionStyleModel",
      "state": {
       "description_width": "initial"
      }
     },
     "784b24311d4b472e93f8600e8c585cd2": {
      "model_module": "@jupyter-widgets/controls",
      "model_module_version": "1.5.0",
      "model_name": "ButtonStyleModel",
      "state": {}
     },
     "786f782a1c504c61907d5d1c45dacaff": {
      "model_module": "@jupyter-widgets/controls",
      "model_module_version": "1.5.0",
      "model_name": "DescriptionStyleModel",
      "state": {
       "description_width": "initial"
      }
     },
     "787a40ff1c3045b483f3c14f05d25196": {
      "model_module": "@jupyter-widgets/controls",
      "model_module_version": "1.5.0",
      "model_name": "VBoxModel",
      "state": {
       "children": [
        "IPY_MODEL_d87df37dc7bd4395bbb91f15ca23b98d",
        "IPY_MODEL_fe80586e43d146989ebd83b8604e35ef"
       ],
       "layout": "IPY_MODEL_7e1aacee686b4e7092f851efd6fb7d55"
      }
     },
     "78fea3f9b94b4342b48158a5a0ec6af2": {
      "model_module": "@jupyter-widgets/base",
      "model_module_version": "1.2.0",
      "model_name": "LayoutModel",
      "state": {}
     },
     "790dc349a4bb4ff281d2a583c7298f97": {
      "model_module": "@jupyter-widgets/controls",
      "model_module_version": "1.5.0",
      "model_name": "ButtonStyleModel",
      "state": {}
     },
     "791a9d096a72414bb7884105a131e464": {
      "model_module": "@jupyter-widgets/base",
      "model_module_version": "1.2.0",
      "model_name": "LayoutModel",
      "state": {}
     },
     "79276086b7c443d7a0aceeb5bf029511": {
      "model_module": "@jupyter-widgets/base",
      "model_module_version": "1.2.0",
      "model_name": "LayoutModel",
      "state": {}
     },
     "792fab6230114565a24af2ec40f8f5d9": {
      "model_module": "@jupyter-widgets/base",
      "model_module_version": "1.2.0",
      "model_name": "LayoutModel",
      "state": {}
     },
     "793b631de2fc4bfcbc0a6024810fd11a": {
      "model_module": "@jupyter-widgets/controls",
      "model_module_version": "1.5.0",
      "model_name": "DescriptionStyleModel",
      "state": {
       "description_width": "initial"
      }
     },
     "79564b506bd648768cf3aadfdb2fa4a8": {
      "model_module": "@jupyter-widgets/base",
      "model_module_version": "1.2.0",
      "model_name": "LayoutModel",
      "state": {
       "grid_area": "dircontent",
       "width": "auto"
      }
     },
     "79734b71041745c0a9080fcd0372fa73": {
      "model_module": "@jupyter-widgets/base",
      "model_module_version": "1.2.0",
      "model_name": "LayoutModel",
      "state": {}
     },
     "797cf9d3145349bba9ca01fc4f82715f": {
      "model_module": "@jupyter-widgets/controls",
      "model_module_version": "1.5.0",
      "model_name": "DescriptionStyleModel",
      "state": {
       "description_width": "initial"
      }
     },
     "799b9c0d0de44318b23e4aa46910169a": {
      "model_module": "@jupyter-widgets/controls",
      "model_module_version": "1.5.0",
      "model_name": "VBoxModel",
      "state": {
       "children": [
        "IPY_MODEL_54b4384bdf6c4125a7f7eed1da45299f",
        "IPY_MODEL_2a44eab5ed354e279f424d5cc2e1c218"
       ],
       "layout": "IPY_MODEL_eb62ff8269734d0ab6ab4680024c00a6"
      }
     },
     "799bc0814fc14d91bc780870d767ff84": {
      "model_module": "@jupyter-widgets/controls",
      "model_module_version": "1.5.0",
      "model_name": "DescriptionStyleModel",
      "state": {
       "description_width": "initial"
      }
     },
     "79a231861c02421f9134a2af6e61b1d6": {
      "model_module": "@jupyter-widgets/base",
      "model_module_version": "1.2.0",
      "model_name": "LayoutModel",
      "state": {}
     },
     "79c3b81dd8d64fd6b2f1306a49592e8e": {
      "model_module": "@jupyter-widgets/controls",
      "model_module_version": "1.5.0",
      "model_name": "HBoxModel",
      "state": {
       "children": [
        "IPY_MODEL_6f8b7027f3a34266b3f7e006118e2201",
        "IPY_MODEL_1d954e10e0c24db6945d2710a57b0a65",
        "IPY_MODEL_3f3ee41d33574b2baa6ab3f8240e49f7"
       ],
       "layout": "IPY_MODEL_bddbf8ce060e40d9a24d284ea8c649e8"
      }
     },
     "79c5e6fe9fc345b790dccb04138eafb4": {
      "model_module": "@jupyter-widgets/controls",
      "model_module_version": "1.5.0",
      "model_name": "DescriptionStyleModel",
      "state": {
       "description_width": "initial"
      }
     },
     "79d3132cea2f451eb80a3b340bdd1fdb": {
      "model_module": "@jupyter-widgets/base",
      "model_module_version": "1.2.0",
      "model_name": "LayoutModel",
      "state": {}
     },
     "79ee7a98361e4a64899f4c1141e4587a": {
      "model_module": "@jupyter-widgets/controls",
      "model_module_version": "1.5.0",
      "model_name": "DescriptionStyleModel",
      "state": {
       "description_width": ""
      }
     },
     "7a658544f2d4450881ba1d814c9d0f15": {
      "model_module": "@jupyter-widgets/controls",
      "model_module_version": "1.5.0",
      "model_name": "DescriptionStyleModel",
      "state": {
       "description_width": ""
      }
     },
     "7a6fe573db524b7e9ea62063b34f20fb": {
      "model_module": "@jupyter-widgets/controls",
      "model_module_version": "1.5.0",
      "model_name": "VBoxModel",
      "state": {
       "children": [
        "IPY_MODEL_35fa684cd4154c7d989ca2c57ac2394f",
        "IPY_MODEL_c2249171adf94ad8a443bbcb42a77fb3"
       ],
       "layout": "IPY_MODEL_bd95a095ef184549a4c42e7dbafbe0c7"
      }
     },
     "7a7d6a00f1bf44cf861fd8c64eb7ff56": {
      "model_module": "@jupyter-widgets/controls",
      "model_module_version": "1.5.0",
      "model_name": "ButtonModel",
      "state": {
       "description": "Change",
       "layout": "IPY_MODEL_18040c383277420798eba656a1ce8ed0",
       "style": "IPY_MODEL_cd1e3c16a72048c695ec423b205d7cb1"
      }
     },
     "7a7dad73d1ec4f408ba139f82d3024dc": {
      "model_module": "@jupyter-widgets/base",
      "model_module_version": "1.2.0",
      "model_name": "LayoutModel",
      "state": {}
     },
     "7a8fe4b7d0064a9aa36783675c6ed4e4": {
      "model_module": "@jupyter-widgets/controls",
      "model_module_version": "1.5.0",
      "model_name": "DescriptionStyleModel",
      "state": {
       "description_width": "initial"
      }
     },
     "7a90dcdb66524b1c879a22fdb7283017": {
      "model_module": "@jupyter-widgets/controls",
      "model_module_version": "1.5.0",
      "model_name": "LabelModel",
      "state": {
       "layout": "IPY_MODEL_49df7fa5518948acb54ea967f0cf7dac",
       "style": "IPY_MODEL_a18d71493bbe4d679c39bf25ebe99375",
       "value": "Workspace"
      }
     },
     "7ad595fb3dad4133b05030c64583287a": {
      "model_module": "@jupyter-widgets/base",
      "model_module_version": "1.2.0",
      "model_name": "LayoutModel",
      "state": {
       "grid_area": "dircontent",
       "width": "auto"
      }
     },
     "7ae4488f65d84db199512665a374d196": {
      "model_module": "@jupyter-widgets/base",
      "model_module_version": "1.2.0",
      "model_name": "LayoutModel",
      "state": {}
     },
     "7b101e936e764b25b5b6fe6acc0af6df": {
      "model_module": "@jupyter-widgets/base",
      "model_module_version": "1.2.0",
      "model_name": "LayoutModel",
      "state": {}
     },
     "7b37d1580fe846fcb0a8f6a4662a9aca": {
      "model_module": "@jupyter-widgets/controls",
      "model_module_version": "1.5.0",
      "model_name": "DropdownModel",
      "state": {
       "_options_labels": [
        "C:\\Users\\dominiquef\\Documents\\GIT\\mira\\geoapps\\assets\\Temp",
        "C:\\Users\\dominiquef\\Documents\\GIT\\mira\\geoapps\\assets",
        "C:\\Users\\dominiquef\\Documents\\GIT\\mira\\geoapps",
        "C:\\Users\\dominiquef\\Documents\\GIT\\mira",
        "C:\\Users\\dominiquef\\Documents\\GIT",
        "C:\\Users\\dominiquef\\Documents",
        "C:\\Users\\dominiquef",
        "C:\\Users",
        "C:\\",
        "G:\\",
        "\\\\EgnyteDrive\\mirageoscience\\",
        "D:\\"
       ],
       "index": 0,
       "layout": "IPY_MODEL_db0a797a0e3f4d40a5ea4e0152d3e258",
       "style": "IPY_MODEL_a52fb972c3774a328eaab1ed2fd7204e"
      }
     },
     "7b3ca286a16746d4a5423e588ce85119": {
      "model_module": "@jupyter-widgets/controls",
      "model_module_version": "1.5.0",
      "model_name": "HTMLModel",
      "state": {
       "layout": "IPY_MODEL_d7f145a111b94c358209464fde859b44",
       "placeholder": "",
       "style": "IPY_MODEL_979b86182dc24733a7a1c88fe9010fa5",
       "value": "<span style=\"color:green;\">C:\\Users\\dominiquef\\Documents\\GIT\\mira\\geoapps\\assets\\Temp\\</span>"
      }
     },
     "7b5224a244134b6aae2d68a2b86db529": {
      "model_module": "@jupyter-widgets/base",
      "model_module_version": "1.2.0",
      "model_name": "LayoutModel",
      "state": {}
     },
     "7b5be9199cb647898c052f5752ccadce": {
      "model_module": "@jupyter-widgets/controls",
      "model_module_version": "1.5.0",
      "model_name": "DescriptionStyleModel",
      "state": {
       "description_width": "initial"
      }
     },
     "7b6bb6bd08cb4e0f9411b0808417f70b": {
      "model_module": "@jupyter-widgets/controls",
      "model_module_version": "1.5.0",
      "model_name": "DescriptionStyleModel",
      "state": {
       "description_width": ""
      }
     },
     "7b98f8fcbdc646689ede7f5e9c1047da": {
      "model_module": "@jupyter-widgets/controls",
      "model_module_version": "1.5.0",
      "model_name": "DescriptionStyleModel",
      "state": {
       "description_width": "initial"
      }
     },
     "7ba0a6684ed64b4da4105bee13ae85a3": {
      "model_module": "@jupyter-widgets/base",
      "model_module_version": "1.2.0",
      "model_name": "LayoutModel",
      "state": {}
     },
     "7bb43f7e4d3a4380bb901691383814fe": {
      "model_module": "@jupyter-widgets/base",
      "model_module_version": "1.2.0",
      "model_name": "LayoutModel",
      "state": {}
     },
     "7bcfa06d0cf94f2596655f7581ef5792": {
      "model_module": "@jupyter-widgets/controls",
      "model_module_version": "1.5.0",
      "model_name": "VBoxModel",
      "state": {
       "children": [
        "IPY_MODEL_46037502a621470c88c7e5d3f94fec5d",
        "IPY_MODEL_851cfa6d6493455e9b8b77a05f1ea5e9"
       ],
       "layout": "IPY_MODEL_869b01d6c0cb4beb91b492f229dd060e"
      }
     },
     "7bdb5742bc9346a1bd6ee540c07b9f34": {
      "model_module": "@jupyter-widgets/controls",
      "model_module_version": "1.5.0",
      "model_name": "VBoxModel",
      "state": {
       "children": [
        "IPY_MODEL_e4b3c9c2485446fea11b4e1a75bdf83f",
        "IPY_MODEL_f1b731595d5842a1b8fbe2c5fd6d16b9",
        "IPY_MODEL_53d4b12c3bdb47d5b85a7afd70452746"
       ],
       "layout": "IPY_MODEL_2ded96b474f0462290b47dd42bc9c773"
      }
     },
     "7bde965a23804bd0be46dde4a11968fa": {
      "model_module": "@jupyter-widgets/controls",
      "model_module_version": "1.5.0",
      "model_name": "DescriptionStyleModel",
      "state": {
       "description_width": ""
      }
     },
     "7bf86551e0f74347957592823952d86c": {
      "model_module": "@jupyter-widgets/controls",
      "model_module_version": "1.5.0",
      "model_name": "DescriptionStyleModel",
      "state": {
       "description_width": "initial"
      }
     },
     "7bfdf10ec402449e80593116d2e3ca16": {
      "model_module": "@jupyter-widgets/base",
      "model_module_version": "1.2.0",
      "model_name": "LayoutModel",
      "state": {
       "grid_area": "filename",
       "width": "auto"
      }
     },
     "7c00f210a36a480f9207b8988956c7af": {
      "model_module": "@jupyter-widgets/controls",
      "model_module_version": "1.5.0",
      "model_name": "LabelModel",
      "state": {
       "layout": "IPY_MODEL_8f199f62f8534f4c82ddaef2db9ea2b9",
       "style": "IPY_MODEL_68fee44f7372496e82833d3796930ea5",
       "value": "Lp-norms"
      }
     },
     "7c0fbda343b14e6b9e82f64d0ce30b47": {
      "model_module": "@jupyter-widgets/base",
      "model_module_version": "1.2.0",
      "model_name": "LayoutModel",
      "state": {
       "display": "none"
      }
     },
     "7c3dd88a8fdd4bf6b06cc1a423e0b416": {
      "model_module": "@jupyter-widgets/base",
      "model_module_version": "1.2.0",
      "model_name": "LayoutModel",
      "state": {
       "overflow": "auto"
      }
     },
     "7c555694d2ce4acd95484d8b0e8d8e2e": {
      "model_module": "@jupyter-widgets/controls",
      "model_module_version": "1.5.0",
      "model_name": "ButtonStyleModel",
      "state": {}
     },
     "7c866f1f8d284437a95dabbee88297b5": {
      "model_module": "@jupyter-widgets/controls",
      "model_module_version": "1.5.0",
      "model_name": "DropdownModel",
      "state": {
       "description": "Values",
       "index": null,
       "layout": "IPY_MODEL_8120613b5c7847e2af0044fe20166712",
       "style": "IPY_MODEL_fccf0f3a656743a1b42c1e1e59f27865"
      }
     },
     "7ca24754621845c789d5cd10ef1b7b41": {
      "model_module": "@jupyter-widgets/controls",
      "model_module_version": "1.5.0",
      "model_name": "ButtonStyleModel",
      "state": {}
     },
     "7cba6dd9ae304e59896822d41c1e66aa": {
      "model_module": "@jupyter-widgets/controls",
      "model_module_version": "1.5.0",
      "model_name": "SelectModel",
      "state": {
       "_options_labels": [
        "📁 ..",
        "📁 SimPEG_PFInversion",
        "📁 Temp",
        "📁 uijson",
        "FlinFlon.geoh5",
        "FlinFlon_dcip.geoh5",
        "FlinFlon_natural_sources.geoh5",
        "MtDore_TMI.geoh5",
        "tem.geoh5",
        "test_forward.ui.geoh5",
        "test_forward.ui.json"
       ],
       "index": 4,
       "layout": "IPY_MODEL_e3ef6c42c75343228db4c52fa69fd952",
       "rows": 8,
       "style": "IPY_MODEL_150a1e6fb581453383080222d0eec3c1"
      }
     },
     "7cca73f91047454f8ec348e9e68d185e": {
      "model_module": "@jupyter-widgets/controls",
      "model_module_version": "1.5.0",
      "model_name": "DescriptionStyleModel",
      "state": {
       "description_width": "initial"
      }
     },
     "7cd50478f05e4c30b3c95060c015578a": {
      "model_module": "@jupyter-widgets/controls",
      "model_module_version": "1.5.0",
      "model_name": "DescriptionStyleModel",
      "state": {
       "description_width": "initial"
      }
     },
     "7cec4a3a2dc543d2887189e23c792c92": {
      "model_module": "@jupyter-widgets/base",
      "model_module_version": "1.2.0",
      "model_name": "LayoutModel",
      "state": {
       "display": "none"
      }
     },
     "7cf4dd5a92794ffa8e1275c3c4949fb1": {
      "model_module": "@jupyter-widgets/controls",
      "model_module_version": "1.5.0",
      "model_name": "ButtonModel",
      "state": {
       "description": "Create copy:",
       "layout": "IPY_MODEL_a0041488bdd04d568f277326599e941e",
       "style": "IPY_MODEL_8a11c231788f488ca6821ca7a3fce393"
      }
     },
     "7d476c750adb4cb0992157a5eb3d8c30": {
      "model_module": "@jupyter-widgets/controls",
      "model_module_version": "1.5.0",
      "model_name": "ButtonStyleModel",
      "state": {}
     },
     "7d4e17c1945d41c0ac3ec991b2543086": {
      "model_module": "@jupyter-widgets/controls",
      "model_module_version": "1.5.0",
      "model_name": "LabelModel",
      "state": {
       "layout": "IPY_MODEL_ff5417bb7dda4fdabc674858caf1fc69",
       "style": "IPY_MODEL_b4ee416c06584f46a0e3ea9406269dfb",
       "value": "Workspace"
      }
     },
     "7d6d842b445a45ec9d42701b1b2fc7bd": {
      "model_module": "@jupyter-widgets/base",
      "model_module_version": "1.2.0",
      "model_name": "LayoutModel",
      "state": {
       "width": "auto"
      }
     },
     "7d6e211ac3b84f51a2d1fb784cdb8871": {
      "model_module": "@jupyter-widgets/base",
      "model_module_version": "1.2.0",
      "model_name": "LayoutModel",
      "state": {}
     },
     "7dabe82148cc4a9aa4199ad0d1cb71b3": {
      "model_module": "@jupyter-widgets/base",
      "model_module_version": "1.2.0",
      "model_name": "LayoutModel",
      "state": {
       "visibility": "hidden"
      }
     },
     "7dbd73c95f70464cae6ee6a6dacb1e30": {
      "model_module": "@jupyter-widgets/controls",
      "model_module_version": "1.5.0",
      "model_name": "ButtonModel",
      "state": {
       "description": "Change",
       "layout": "IPY_MODEL_30e9d4c07ab94b6a8e51f57d1ac30eec",
       "style": "IPY_MODEL_e6f1455dac2e4d8d84486d69d1522b58"
      }
     },
     "7dc667fac7704e6182e458ee779af5fe": {
      "model_module": "@jupyter-widgets/base",
      "model_module_version": "1.2.0",
      "model_name": "LayoutModel",
      "state": {
       "grid_area": "pathlist",
       "width": "auto"
      }
     },
     "7ddc30d5c50e49eb8ff3e9f2f6af6ecf": {
      "model_module": "@jupyter-widgets/controls",
      "model_module_version": "1.5.0",
      "model_name": "DescriptionStyleModel",
      "state": {
       "description_width": ""
      }
     },
     "7dec9fbbecf841d994261e57608f5173": {
      "model_module": "@jupyter-widgets/controls",
      "model_module_version": "1.5.0",
      "model_name": "SliderStyleModel",
      "state": {
       "description_width": "initial"
      }
     },
     "7e032652883e4bd480abf3678c856497": {
      "model_module": "@jupyter-widgets/controls",
      "model_module_version": "1.5.0",
      "model_name": "ButtonModel",
      "state": {
       "description": "Change",
       "layout": "IPY_MODEL_58eb6ac7ef964035b80e79a8e3d03881",
       "style": "IPY_MODEL_47cd84ea43874fcfbc0fe309943fd0a2"
      }
     },
     "7e1aacee686b4e7092f851efd6fb7d55": {
      "model_module": "@jupyter-widgets/base",
      "model_module_version": "1.2.0",
      "model_name": "LayoutModel",
      "state": {}
     },
     "7e1c5abe6b594a3fba60e1a2cba8fc4b": {
      "model_module": "@jupyter-widgets/base",
      "model_module_version": "1.2.0",
      "model_name": "LayoutModel",
      "state": {}
     },
     "7e30a942f0544612819e0b15ae43237a": {
      "model_module": "@jupyter-widgets/controls",
      "model_module_version": "1.5.0",
      "model_name": "DescriptionStyleModel",
      "state": {
       "description_width": "initial"
      }
     },
     "7e551f58673c4497b6faddf16bf0af40": {
      "model_module": "@jupyter-widgets/base",
      "model_module_version": "1.2.0",
      "model_name": "LayoutModel",
      "state": {}
     },
     "7e9ca8c5b55a44c48362ad084465d9ce": {
      "model_module": "@jupyter-widgets/controls",
      "model_module_version": "1.5.0",
      "model_name": "DescriptionStyleModel",
      "state": {
       "description_width": "initial"
      }
     },
     "7ea3a8118d254accb45ad147859542eb": {
      "model_module": "@jupyter-widgets/controls",
      "model_module_version": "1.5.0",
      "model_name": "HBoxModel",
      "state": {
       "children": [
        "IPY_MODEL_4f06c0027e9444a49b13ba5e1f2b153a",
        "IPY_MODEL_dba1929a09304a4191b3d6b137892bef"
       ],
       "layout": "IPY_MODEL_826907ab1f814343b653e2b70ba3627f"
      }
     },
     "7eaabecaccf54de7a54e728117bbcc37": {
      "model_module": "@jupyter-widgets/controls",
      "model_module_version": "1.5.0",
      "model_name": "SelectModel",
      "state": {
       "_options_labels": [
        "📁 ..",
        "📁 SimPEG_PFInversion",
        "📁 Temp",
        "📁 uijson",
        "FlinFlon.geoh5",
        "FlinFlon_dcip.geoh5",
        "FlinFlon_natural_sources.geoh5",
        "MtDore_TMI.geoh5",
        "tem.geoh5",
        "test_forward.ui.geoh5",
        "test_forward.ui.json"
       ],
       "index": 4,
       "layout": "IPY_MODEL_2e9636190a5d4358bfc0f46aa7050e6f",
       "rows": 8,
       "style": "IPY_MODEL_6b96cfb22d924771827cffdb65ff153f"
      }
     },
     "7ebf90bebf834bd3a63d26e95a863fb5": {
      "model_module": "@jupyter-widgets/base",
      "model_module_version": "1.2.0",
      "model_name": "LayoutModel",
      "state": {}
     },
     "7ed1129c518a4a938ef55bced56a093b": {
      "model_module": "@jupyter-widgets/controls",
      "model_module_version": "1.5.0",
      "model_name": "ButtonStyleModel",
      "state": {}
     },
     "7ee0fbd84c4049acb4d8d6e4b4f2fb4a": {
      "model_module": "@jupyter-widgets/base",
      "model_module_version": "1.2.0",
      "model_name": "LayoutModel",
      "state": {}
     },
     "7f0524bec68d4accaa50cef1845ff290": {
      "model_module": "@jupyter-widgets/controls",
      "model_module_version": "1.5.0",
      "model_name": "DescriptionStyleModel",
      "state": {
       "description_width": "initial"
      }
     },
     "7f147d10a04c4ba7be93e04a6f65d660": {
      "model_module": "@jupyter-widgets/controls",
      "model_module_version": "1.5.0",
      "model_name": "TextModel",
      "state": {
       "disabled": true,
       "layout": "IPY_MODEL_040cc8816c9344bb9967e68aae36b884",
       "placeholder": "output filename",
       "style": "IPY_MODEL_810f359bf03c411a8800b770185f7d7f"
      }
     },
     "7f2421604bb14580addeef1280aff0fc": {
      "model_module": "@jupyter-widgets/controls",
      "model_module_version": "1.5.0",
      "model_name": "DescriptionStyleModel",
      "state": {
       "description_width": ""
      }
     },
     "7f3ca18fec0144a9bba0ab34efc19836": {
      "model_module": "@jupyter-widgets/controls",
      "model_module_version": "1.5.0",
      "model_name": "ButtonModel",
      "state": {
       "description": "Create copy:",
       "layout": "IPY_MODEL_59a4ffb349e8435e8a9b697e44d57d27",
       "style": "IPY_MODEL_eaea13f9c104473ca307e38f2c1c5dca"
      }
     },
     "7f641050ee634cc883643f6c319a4b59": {
      "model_module": "@jupyter-widgets/controls",
      "model_module_version": "1.5.0",
      "model_name": "DescriptionStyleModel",
      "state": {
       "description_width": "initial"
      }
     },
     "7f7e3fc195774fd9b50bfac30254b592": {
      "model_module": "@jupyter-widgets/controls",
      "model_module_version": "1.5.0",
      "model_name": "DescriptionStyleModel",
      "state": {
       "description_width": ""
      }
     },
     "7fc73235441c45daa788927df9c62f55": {
      "model_module": "@jupyter-widgets/base",
      "model_module_version": "1.2.0",
      "model_name": "LayoutModel",
      "state": {
       "margin": "0 0 0 1em"
      }
     },
     "7feee0b31ea5484688eff6401b9263b4": {
      "model_module": "@jupyter-widgets/base",
      "model_module_version": "1.2.0",
      "model_name": "LayoutModel",
      "state": {}
     },
     "8030c6cf0e0c456ca0803df0e8f833f9": {
      "model_module": "@jupyter-widgets/controls",
      "model_module_version": "1.5.0",
      "model_name": "ButtonStyleModel",
      "state": {}
     },
     "8053906c54664415898f7b2c38382813": {
      "model_module": "@jupyter-widgets/base",
      "model_module_version": "1.2.0",
      "model_name": "LayoutModel",
      "state": {}
     },
     "80689e4116eb4d2ea776753e6badb829": {
      "model_module": "@jupyter-widgets/controls",
      "model_module_version": "1.5.0",
      "model_name": "DescriptionStyleModel",
      "state": {
       "description_width": ""
      }
     },
     "80b81ffe3b2747b08fa45c0a77416777": {
      "model_module": "@jupyter-widgets/base",
      "model_module_version": "1.2.0",
      "model_name": "LayoutModel",
      "state": {}
     },
     "810b88e354fd444dbe6af5f3338016f3": {
      "model_module": "@jupyter-widgets/controls",
      "model_module_version": "1.5.0",
      "model_name": "DescriptionStyleModel",
      "state": {
       "description_width": ""
      }
     },
     "810f359bf03c411a8800b770185f7d7f": {
      "model_module": "@jupyter-widgets/controls",
      "model_module_version": "1.5.0",
      "model_name": "DescriptionStyleModel",
      "state": {
       "description_width": ""
      }
     },
     "8120613b5c7847e2af0044fe20166712": {
      "model_module": "@jupyter-widgets/base",
      "model_module_version": "1.2.0",
      "model_name": "LayoutModel",
      "state": {}
     },
     "81476fdbe92644c097b275d91e490301": {
      "model_module": "@jupyter-widgets/base",
      "model_module_version": "1.2.0",
      "model_name": "LayoutModel",
      "state": {
       "grid_area": "filename",
       "width": "auto"
      }
     },
     "815c3ed2d5984322b197d8a4c346de14": {
      "model_module": "@jupyter-widgets/controls",
      "model_module_version": "1.5.0",
      "model_name": "ButtonModel",
      "state": {
       "description": "Cancel",
       "layout": "IPY_MODEL_b915d53930ed411aad908a78a3105b09",
       "style": "IPY_MODEL_165490a2e0b144d59dedc60bacba00bb"
      }
     },
     "815cd401bbef4083a0ebdd3fb58200c4": {
      "model_module": "@jupyter-widgets/base",
      "model_module_version": "1.2.0",
      "model_name": "LayoutModel",
      "state": {}
     },
     "8164a2dc51c644b0903b4e4d0739aa51": {
      "model_module": "@jupyter-widgets/controls",
      "model_module_version": "1.5.0",
      "model_name": "VBoxModel",
      "state": {
       "children": [
        "IPY_MODEL_b1f8392e3e3847f6ab00012a0b272717",
        "IPY_MODEL_b4c32a7ddc15445da08dbe6ee8bffcdd"
       ],
       "layout": "IPY_MODEL_7a7dad73d1ec4f408ba139f82d3024dc"
      }
     },
     "81a38c2de7d248eabf930ac9353732c7": {
      "model_module": "@jupyter-widgets/controls",
      "model_module_version": "1.5.0",
      "model_name": "HBoxModel",
      "state": {
       "children": [
        "IPY_MODEL_14a8162c05f9459a8cbf3858675221a8",
        "IPY_MODEL_8fd7e9ceeb24453197c44ec40a80f0eb"
       ],
       "layout": "IPY_MODEL_b1dfa9330cd744a8a638a1836b0bd548"
      }
     },
     "81dbea05537444e7bed031787a767b5c": {
      "model_module": "@jupyter-widgets/base",
      "model_module_version": "1.2.0",
      "model_name": "LayoutModel",
      "state": {
       "display": "none",
       "grid_gap": "0px 0px",
       "grid_template_areas": "\n                    'pathlist filename'\n                    'dircontent dircontent'\n                    ",
       "grid_template_columns": "60% 40%",
       "grid_template_rows": "auto auto",
       "width": "auto"
      }
     },
     "81de48bc98904dc5be0b9e2b5166ea57": {
      "model_module": "@jupyter-widgets/controls",
      "model_module_version": "1.5.0",
      "model_name": "HTMLModel",
      "state": {
       "layout": "IPY_MODEL_1b00d1c056dd4528b89582dd9d5d52d9",
       "placeholder": "",
       "style": "IPY_MODEL_1d2bbbac5d0245e1a0c9ed7ed2a17be5",
       "value": "<span style=\"color:green;\">C:\\Users\\dominiquef\\Documents\\GIT\\mira\\geoapps\\assets\\Temp\\</span>"
      }
     },
     "820f7e0f20d2440589e60d974303e00d": {
      "model_module": "@jupyter-widgets/controls",
      "model_module_version": "1.5.0",
      "model_name": "FloatTextModel",
      "state": {
       "description": "Horizontal padding (m)",
       "layout": "IPY_MODEL_bf876cd47d8c4f23a12dec4b3ee9c094",
       "step": null,
       "style": "IPY_MODEL_2db04c177dac4b909d87469887b5f4a8",
       "value": 1000
      }
     },
     "8222289f12004fa7a1daa557a11b0e2f": {
      "model_module": "@jupyter-widgets/base",
      "model_module_version": "1.2.0",
      "model_name": "LayoutModel",
      "state": {
       "overflow": "auto"
      }
     },
     "82658e5d6fad4ca28fe74be8fbd3b13b": {
      "model_module": "@jupyter-widgets/controls",
      "model_module_version": "1.5.0",
      "model_name": "FloatTextModel",
      "state": {
       "description": "Amplitude (nT)",
       "layout": "IPY_MODEL_058e624a4eb949feb70c60f8238b3453",
       "step": null,
       "style": "IPY_MODEL_234992f21bd9402cbaf3e6da1f8438a5",
       "value": 60000
      }
     },
     "826907ab1f814343b653e2b70ba3627f": {
      "model_module": "@jupyter-widgets/base",
      "model_module_version": "1.2.0",
      "model_name": "LayoutModel",
      "state": {}
     },
     "826bcbea2fd54a789d7951c371dac6e1": {
      "model_module": "@jupyter-widgets/controls",
      "model_module_version": "1.5.0",
      "model_name": "BoxModel",
      "state": {
       "children": [
        "IPY_MODEL_fb2ab7a2e792431093a4dcbf8cf9aee9"
       ],
       "layout": "IPY_MODEL_0d8af902f302447faeb93bef3fa57eb0"
      }
     },
     "827260b1fdb14128a45fc6e1d2c4d965": {
      "model_module": "@jupyter-widgets/controls",
      "model_module_version": "1.5.0",
      "model_name": "VBoxModel",
      "state": {
       "children": [
        "IPY_MODEL_89bcae3a705c4144b807cadb5263f983",
        "IPY_MODEL_0b4ea22851164b53a06ac47c1a495d0b"
       ],
       "layout": "IPY_MODEL_7feee0b31ea5484688eff6401b9263b4"
      }
     },
     "82814ba27a7449fc9391318c4c83c49a": {
      "model_module": "@jupyter-widgets/controls",
      "model_module_version": "1.5.0",
      "model_name": "RadioButtonsModel",
      "state": {
       "_options_labels": [
        "Model",
        "Constant",
        "None"
       ],
       "index": 2,
       "layout": "IPY_MODEL_dc5ffa30eda8464d89aa6bd5c3030680",
       "style": "IPY_MODEL_ac60b285db7e43e2860ee624752d66a5"
      }
     },
     "82a036ec96ed4e44abe655a6abef90c0": {
      "model_module": "@jupyter-widgets/controls",
      "model_module_version": "1.5.0",
      "model_name": "TextModel",
      "state": {
       "continuous_update": false,
       "description": "Group:",
       "layout": "IPY_MODEL_6f834183ae6b4407b704c798e50cb3a0",
       "style": "IPY_MODEL_41c2df79b91b4190a2e25dd6bf9c3b6a"
      }
     },
     "82a45cf1426a4cd79fd96516211b9b42": {
      "model_module": "@jupyter-widgets/controls",
      "model_module_version": "1.5.0",
      "model_name": "CheckboxModel",
      "state": {
       "description": "Geoscience ANALYST Pro - Live link",
       "disabled": false,
       "indent": false,
       "layout": "IPY_MODEL_815cd401bbef4083a0ebdd3fb58200c4",
       "style": "IPY_MODEL_82bf9517a89b4b1a95c9035867f83144",
       "value": false
      }
     },
     "82bf9517a89b4b1a95c9035867f83144": {
      "model_module": "@jupyter-widgets/controls",
      "model_module_version": "1.5.0",
      "model_name": "DescriptionStyleModel",
      "state": {
       "description_width": "initial"
      }
     },
     "82cb06b20bae41e89041fe108145d58f": {
      "model_module": "@jupyter-widgets/controls",
      "model_module_version": "1.5.0",
      "model_name": "DescriptionStyleModel",
      "state": {
       "description_width": ""
      }
     },
     "82fa522f6cc14271b2564947b3fe4c19": {
      "model_module": "@jupyter-widgets/base",
      "model_module_version": "1.2.0",
      "model_name": "LayoutModel",
      "state": {
       "display": "none"
      }
     },
     "8379d33cc85b436d8c8aed70340833cd": {
      "model_module": "@jupyter-widgets/controls",
      "model_module_version": "1.5.0",
      "model_name": "DescriptionStyleModel",
      "state": {
       "description_width": ""
      }
     },
     "839b82f92f9244dea8546beabc58a84b": {
      "model_module": "@jupyter-widgets/controls",
      "model_module_version": "1.5.0",
      "model_name": "DescriptionStyleModel",
      "state": {
       "description_width": "initial"
      }
     },
     "83a34bfec62d4d23a849b8fbf81da1ce": {
      "model_module": "@jupyter-widgets/base",
      "model_module_version": "1.2.0",
      "model_name": "LayoutModel",
      "state": {}
     },
     "83bc00637ed641ddb85efc4f95face8f": {
      "model_module": "@jupyter-widgets/base",
      "model_module_version": "1.2.0",
      "model_name": "LayoutModel",
      "state": {}
     },
     "83cf345b7e86455b9826a3dd7a09c71e": {
      "model_module": "@jupyter-widgets/controls",
      "model_module_version": "1.5.0",
      "model_name": "DescriptionStyleModel",
      "state": {
       "description_width": ""
      }
     },
     "83d53150b0d94b96b30de40dbb6a0719": {
      "model_module": "@jupyter-widgets/controls",
      "model_module_version": "1.5.0",
      "model_name": "DescriptionStyleModel",
      "state": {
       "description_width": ""
      }
     },
     "83eb67f8d76040b39285067294e2a032": {
      "model_module": "@jupyter-widgets/controls",
      "model_module_version": "1.5.0",
      "model_name": "VBoxModel",
      "state": {
       "children": [
        "IPY_MODEL_69319f006ff748ca814b82f0fd2d3909",
        "IPY_MODEL_1ef23875f4704e059edb6fbaf91f168e"
       ],
       "layout": "IPY_MODEL_2960626c7f6a42ab8d00d5329e3d0829"
      }
     },
     "83fbb8413750454c96828fc6a7a629ef": {
      "model_module": "@jupyter-widgets/controls",
      "model_module_version": "1.5.0",
      "model_name": "SliderStyleModel",
      "state": {
       "description_width": ""
      }
     },
     "842f64d82688402ebe035378b49e81ea": {
      "model_module": "@jupyter-widgets/base",
      "model_module_version": "1.2.0",
      "model_name": "LayoutModel",
      "state": {}
     },
     "84a6d245d73f4a53a71fc9ff7f23a62a": {
      "model_module": "@jupyter-widgets/controls",
      "model_module_version": "1.5.0",
      "model_name": "HTMLModel",
      "state": {
       "layout": "IPY_MODEL_cf1cca163ec542fb86d8db4213789c2a",
       "style": "IPY_MODEL_e0521e78924d4db790a45ef80dddff65"
      }
     },
     "84c7bcd31daf427c9fa8aebd9b8b89bd": {
      "model_module": "@jupyter-widgets/controls",
      "model_module_version": "1.5.0",
      "model_name": "DescriptionStyleModel",
      "state": {
       "description_width": "initial"
      }
     },
     "84e06d61077a4712bc72789a81d3ab05": {
      "model_module": "@jupyter-widgets/controls",
      "model_module_version": "1.5.0",
      "model_name": "VBoxModel",
      "state": {
       "children": [
        "IPY_MODEL_6914cd41df3a4a10abf5af3baf435814",
        "IPY_MODEL_f6049d1b8e604a4cadb9e3be64e179d1"
       ],
       "layout": "IPY_MODEL_8e8475582e684a0397fbe117c4c4d742"
      }
     },
     "84e90663fe304208a129e8f969742e90": {
      "model_module": "@jupyter-widgets/base",
      "model_module_version": "1.2.0",
      "model_name": "LayoutModel",
      "state": {
       "display": "none",
       "min_width": "6em",
       "width": "6em"
      }
     },
     "84f6090f406542c8a06555f10f65494f": {
      "model_module": "@jupyter-widgets/controls",
      "model_module_version": "1.5.0",
      "model_name": "DescriptionStyleModel",
      "state": {
       "description_width": ""
      }
     },
     "84fa77905016480d8b35e25236497e69": {
      "model_module": "@jupyter-widgets/controls",
      "model_module_version": "1.5.0",
      "model_name": "DescriptionStyleModel",
      "state": {
       "description_width": ""
      }
     },
     "84fcc91e4f8d482c87d333be5d9f9c1f": {
      "model_module": "@jupyter-widgets/controls",
      "model_module_version": "1.5.0",
      "model_name": "DescriptionStyleModel",
      "state": {
       "description_width": ""
      }
     },
     "851cfa6d6493455e9b8b77a05f1ea5e9": {
      "model_module": "@jupyter-widgets/controls",
      "model_module_version": "1.5.0",
      "model_name": "VBoxModel",
      "state": {
       "children": [
        "IPY_MODEL_23783babfb3a49219bd3640f82fd6c34",
        "IPY_MODEL_0b7fe960a78140cda83a96385aab7ff4"
       ],
       "layout": "IPY_MODEL_73f1967b38ad42e4a52d7665b1a0e4f6"
      }
     },
     "853f5f873afc4132bbc9234e87ba3fb1": {
      "model_module": "@jupyter-widgets/controls",
      "model_module_version": "1.5.0",
      "model_name": "DescriptionStyleModel",
      "state": {
       "description_width": "initial"
      }
     },
     "8585b6d6f20e48048d70c8ceeb8048db": {
      "model_module": "@jupyter-widgets/controls",
      "model_module_version": "1.5.0",
      "model_name": "VBoxModel",
      "state": {
       "children": [
        "IPY_MODEL_b45f230275364f8d9cdb5449e0089be3",
        "IPY_MODEL_0d1e7c00696a4066adb89a11b12d386f"
       ],
       "layout": "IPY_MODEL_ffd51a8c0b904fea905e1c3111a3e58d"
      }
     },
     "8587f89c02e748e5a3135c83a740140d": {
      "model_module": "@jupyter-widgets/controls",
      "model_module_version": "1.5.0",
      "model_name": "FloatTextModel",
      "state": {
       "description": "dz (+ve up)",
       "layout": "IPY_MODEL_1d8cc6c331c148938d5fa015f0c48c80",
       "step": null,
       "style": "IPY_MODEL_02190d014bd745a6a7e2c92feecea0f5",
       "value": 60
      }
     },
     "8599b23186df45979d45bead64903b57": {
      "model_module": "@jupyter-widgets/controls",
      "model_module_version": "1.5.0",
      "model_name": "ButtonStyleModel",
      "state": {}
     },
     "85f9b484fe834c5fb70b92bb762522b5": {
      "model_module": "@jupyter-widgets/base",
      "model_module_version": "1.2.0",
      "model_name": "LayoutModel",
      "state": {}
     },
     "860558b0e6a748fb979315e9693770b6": {
      "model_module": "@jupyter-widgets/controls",
      "model_module_version": "1.5.0",
      "model_name": "DescriptionStyleModel",
      "state": {
       "description_width": "initial"
      }
     },
     "8668a17a679a437fb2641152884c1ea2": {
      "model_module": "@jupyter-widgets/controls",
      "model_module_version": "1.5.0",
      "model_name": "CheckboxModel",
      "state": {
       "description": "Active",
       "disabled": false,
       "indent": false,
       "layout": "IPY_MODEL_a6bea12bc7d34f93b664f75fce94ac8d",
       "style": "IPY_MODEL_2bba3390ba73428c95e0888d31ef80a6",
       "value": true
      }
     },
     "8677bf26821d416d838ead2ba1bbd812": {
      "model_module": "@jupyter-widgets/controls",
      "model_module_version": "1.5.0",
      "model_name": "DescriptionStyleModel",
      "state": {
       "description_width": "initial"
      }
     },
     "8688cc0befe14090b21b2fad92d8306c": {
      "model_module": "@jupyter-widgets/base",
      "model_module_version": "1.2.0",
      "model_name": "LayoutModel",
      "state": {
       "display": "none",
       "grid_area": "filename",
       "width": "auto"
      }
     },
     "869b01d6c0cb4beb91b492f229dd060e": {
      "model_module": "@jupyter-widgets/base",
      "model_module_version": "1.2.0",
      "model_name": "LayoutModel",
      "state": {}
     },
     "86aad388085646348616061c7b0d20c9": {
      "model_module": "@jupyter-widgets/controls",
      "model_module_version": "1.5.0",
      "model_name": "DescriptionStyleModel",
      "state": {
       "description_width": "initial"
      }
     },
     "86dc30190b084cbd87c4566185435139": {
      "model_module": "@jupyter-widgets/controls",
      "model_module_version": "1.5.0",
      "model_name": "DescriptionStyleModel",
      "state": {
       "description_width": ""
      }
     },
     "871d952e618649db98aea4cd26a6fec9": {
      "model_module": "@jupyter-widgets/base",
      "model_module_version": "1.2.0",
      "model_name": "LayoutModel",
      "state": {
       "display": "none",
       "grid_area": "filename",
       "width": "auto"
      }
     },
     "873b866f722c458c920e358e52d5d8cf": {
      "model_module": "@jupyter-widgets/controls",
      "model_module_version": "1.5.0",
      "model_name": "DescriptionStyleModel",
      "state": {
       "description_width": ""
      }
     },
     "874330aeab134893b4d6732d82a94e45": {
      "model_module": "@jupyter-widgets/base",
      "model_module_version": "1.2.0",
      "model_name": "LayoutModel",
      "state": {
       "grid_area": "filename",
       "width": "auto"
      }
     },
     "8768a11678e84242ae81f291ee5c760b": {
      "model_module": "@jupyter-widgets/controls",
      "model_module_version": "1.5.0",
      "model_name": "SelectModel",
      "state": {
       "_options_labels": [
        "📁 ..",
        "📁 SimPEG_PFInversion",
        "📁 Temp",
        "📁 uijson",
        "FlinFlon.geoh5",
        "FlinFlon_dcip.geoh5",
        "FlinFlon_natural_sources.geoh5",
        "MtDore_TMI.geoh5",
        "tem.geoh5",
        "test_forward.ui.geoh5",
        "test_forward.ui.json"
       ],
       "index": 4,
       "layout": "IPY_MODEL_cb0f514d8ca94a4195a8bf6b617e7184",
       "rows": 8,
       "style": "IPY_MODEL_4b148ba95d1d4cd3a4b6c06da2309f34"
      }
     },
     "8776831bfab348178908651028409570": {
      "model_module": "@jupyter-widgets/base",
      "model_module_version": "1.2.0",
      "model_name": "LayoutModel",
      "state": {
       "overflow": "auto"
      }
     },
     "877c10ed3da443f5ae1d0a43c87a1f4a": {
      "model_module": "@jupyter-widgets/controls",
      "model_module_version": "1.5.0",
      "model_name": "DescriptionStyleModel",
      "state": {
       "description_width": ""
      }
     },
     "878f7291a2c14d10b18d24f6c055e775": {
      "model_module": "@jupyter-widgets/controls",
      "model_module_version": "1.5.0",
      "model_name": "ButtonModel",
      "state": {
       "button_style": "danger",
       "description": "Compute",
       "icon": "check",
       "layout": "IPY_MODEL_1246753ae889443ba486a05b9f41a612",
       "style": "IPY_MODEL_067155a90ef8481b810df01088588554",
       "tooltip": "Run computation"
      }
     },
     "879be5a0af5542689ca385d17a49ab17": {
      "model_module": "@jupyter-widgets/base",
      "model_module_version": "1.2.0",
      "model_name": "LayoutModel",
      "state": {
       "display": "none"
      }
     },
     "87a6779ffd3e422592ab8ec7e9b2e33d": {
      "model_module": "@jupyter-widgets/controls",
      "model_module_version": "1.5.0",
      "model_name": "ButtonModel",
      "state": {
       "description": "Change",
       "layout": "IPY_MODEL_320c92fd7aa64c268ee50bf7914bbcab",
       "style": "IPY_MODEL_436988e706304ffb8fd52938df653547"
      }
     },
     "87c44c97046d4ea0969827595dbc3a67": {
      "model_module": "@jupyter-widgets/controls",
      "model_module_version": "1.5.0",
      "model_name": "ButtonStyleModel",
      "state": {}
     },
     "87e022ff9283408a96266d6c72dc25d1": {
      "model_module": "@jupyter-widgets/controls",
      "model_module_version": "1.5.0",
      "model_name": "TextModel",
      "state": {
       "disabled": true,
       "layout": "IPY_MODEL_baf49717850048bf8d611ef601d63aee",
       "placeholder": "output filename",
       "style": "IPY_MODEL_45dd51dc09ec4919be6271f1711bdf60"
      }
     },
     "880c9ece5ae0420b848a52ff3964dfaa": {
      "model_module": "@jupyter-widgets/controls",
      "model_module_version": "1.5.0",
      "model_name": "HBoxModel",
      "state": {
       "children": [
        "IPY_MODEL_6f87c3e55715447f973bee51027ce646",
        "IPY_MODEL_fca302184a774dc5bc1d655c6027d3a2",
        "IPY_MODEL_8e3223c84cad4cebadafe003a11d491b"
       ],
       "layout": "IPY_MODEL_1438959149bb4b8182d68c03e5360e89"
      }
     },
     "880f227413504349a9074228ead42187": {
      "model_module": "@jupyter-widgets/base",
      "model_module_version": "1.2.0",
      "model_name": "LayoutModel",
      "state": {}
     },
     "88123fff2be24103adc3155cedbda2af": {
      "model_module": "@jupyter-widgets/controls",
      "model_module_version": "1.5.0",
      "model_name": "DescriptionStyleModel",
      "state": {
       "description_width": ""
      }
     },
     "8823dbb83228427ca218846e77c47c72": {
      "model_module": "@jupyter-widgets/base",
      "model_module_version": "1.2.0",
      "model_name": "LayoutModel",
      "state": {}
     },
     "88430af8764643688dd33a15c7df2dd4": {
      "model_module": "@jupyter-widgets/controls",
      "model_module_version": "1.5.0",
      "model_name": "DescriptionStyleModel",
      "state": {
       "description_width": "initial"
      }
     },
     "8845f2a1f22d4c8db12e8b8e09874410": {
      "model_module": "@jupyter-widgets/controls",
      "model_module_version": "1.5.0",
      "model_name": "DescriptionStyleModel",
      "state": {
       "description_width": ""
      }
     },
     "885576c4fd1d4703930d826efd6efada": {
      "model_module": "@jupyter-widgets/controls",
      "model_module_version": "1.5.0",
      "model_name": "ButtonStyleModel",
      "state": {}
     },
     "8874870b85c948a2b611cf61ac2df1e5": {
      "model_module": "@jupyter-widgets/controls",
      "model_module_version": "1.5.0",
      "model_name": "DescriptionStyleModel",
      "state": {
       "description_width": ""
      }
     },
     "8883c81708c94dfa9652a4c2979e4fd8": {
      "model_module": "@jupyter-widgets/base",
      "model_module_version": "1.2.0",
      "model_name": "LayoutModel",
      "state": {
       "grid_area": "pathlist",
       "width": "auto"
      }
     },
     "88b35940c8b444e69a3e53cd407493f3": {
      "model_module": "@jupyter-widgets/controls",
      "model_module_version": "1.5.0",
      "model_name": "VBoxModel",
      "state": {
       "children": [
        "IPY_MODEL_8e0e3ea07417427fab519f3a2b6bfdbb",
        "IPY_MODEL_e1e0e1364e2947d59d7b46fca4422e81"
       ],
       "layout": "IPY_MODEL_63559097dbce4dfb95f7750f60a0df80"
      }
     },
     "88d543e48e8e483b81f05f489d457355": {
      "model_module": "@jupyter-widgets/base",
      "model_module_version": "1.2.0",
      "model_name": "LayoutModel",
      "state": {}
     },
     "88de2591b7bd4a6090a8fc1b7978b0c6": {
      "model_module": "@jupyter-widgets/controls",
      "model_module_version": "1.5.0",
      "model_name": "DescriptionStyleModel",
      "state": {
       "description_width": "initial"
      }
     },
     "8915b9395de4419cae8493bbcbaf8563": {
      "model_module": "@jupyter-widgets/base",
      "model_module_version": "1.2.0",
      "model_name": "LayoutModel",
      "state": {
       "display": "none",
       "grid_area": "filename",
       "width": "auto"
      }
     },
     "895ce2ac9cd24327b7ca9d73a7d19ac7": {
      "model_module": "@jupyter-widgets/controls",
      "model_module_version": "1.5.0",
      "model_name": "ButtonStyleModel",
      "state": {}
     },
     "898aaf76aa5c49d2b9d035ec5d475ba3": {
      "model_module": "@jupyter-widgets/base",
      "model_module_version": "1.2.0",
      "model_name": "LayoutModel",
      "state": {}
     },
     "89961f03ac4948639e1ce9503b8871de": {
      "model_module": "@jupyter-widgets/base",
      "model_module_version": "1.2.0",
      "model_name": "LayoutModel",
      "state": {
       "width": "auto"
      }
     },
     "89a705e5d2de4d40ad4d56cf2d5d8ba7": {
      "model_module": "@jupyter-widgets/base",
      "model_module_version": "1.2.0",
      "model_name": "LayoutModel",
      "state": {
       "display": "none",
       "grid_gap": "0px 0px",
       "grid_template_areas": "\n                    'pathlist pathlist'\n                    'dircontent dircontent'\n                    ",
       "grid_template_columns": "60% 40%",
       "grid_template_rows": "auto auto",
       "width": "auto"
      }
     },
     "89bcae3a705c4144b807cadb5263f983": {
      "model_module": "@jupyter-widgets/controls",
      "model_module_version": "1.5.0",
      "model_name": "DropdownModel",
      "state": {
       "_options_labels": [
        "",
        "ISO/Iso_Iteration_7_model_5_00e-03",
        "ISO/Iso_Iteration_7_model_1_50e-02",
        "ISO/Iso_Iteration_7_model_2_50e-03",
        "ISO/Iso_Iteration_7_model_1_00e-02",
        "ISO/Iso_Iteration_7_model_2_00e-02",
        "Ore/39_Ore_Callinan",
        "Ore/38_Ore_Dan_Owens",
        "Ore/40_Ore_FlinFlon",
        "CDI/COND_surface",
        "CDI/COND[8]_surface",
        "CDI/COND[18]_surface",
        "CDI/COND[3]_surface",
        "CDI/COND[13]_surface",
        "CDI/CDI_",
        "Workspace/InterpGrid",
        "Workspace/Inversion_VTEM_Model",
        "Workspace/InterpGrid",
        "Workspace/CDI_VTEM_model",
        "Workspace/Data_FEM_pseudo3D",
        "Workspace/O2O_Interp_25m",
        "Workspace/geochem",
        "Workspace/Inversion_DIGHEM_Model",
        "Workspace/InterpGrid",
        "Workspace/Topography",
        "Workspace/Data_TEM_pseudo3D",
        "Workspace/Data_ZTEM",
        "Workspace/Mesh",
        "Workspace/InterpGrid"
       ],
       "description": "Object",
       "index": 0,
       "layout": "IPY_MODEL_7692641eefc6426f99be74403bb25e53",
       "style": "IPY_MODEL_2f38389733d541f9b43874bdda08c56a"
      }
     },
     "89e26f61a5834b60a59759713577b3e4": {
      "model_module": "@jupyter-widgets/controls",
      "model_module_version": "1.5.0",
      "model_name": "DescriptionStyleModel",
      "state": {
       "description_width": "initial"
      }
     },
     "8a0c426dc3cc4609bd24e91498fe1c2b": {
      "model_module": "@jupyter-widgets/controls",
      "model_module_version": "1.5.0",
      "model_name": "ButtonModel",
      "state": {
       "button_style": "danger",
       "description": "Compute",
       "icon": "check",
       "layout": "IPY_MODEL_d7467481bff045b08d8890e0c6c108be",
       "style": "IPY_MODEL_744ed20788f14c5d9a2e56a91ae2dbd2",
       "tooltip": "Run computation"
      }
     },
     "8a11c231788f488ca6821ca7a3fce393": {
      "model_module": "@jupyter-widgets/controls",
      "model_module_version": "1.5.0",
      "model_name": "ButtonStyleModel",
      "state": {}
     },
     "8a1fcb165150404aab1242a499e8e411": {
      "model_module": "@jupyter-widgets/base",
      "model_module_version": "1.2.0",
      "model_name": "LayoutModel",
      "state": {}
     },
     "8a32d5e0cd484410b77255c05cd8be1b": {
      "model_module": "@jupyter-widgets/controls",
      "model_module_version": "1.5.0",
      "model_name": "FloatTextModel",
      "state": {
       "description": "NS-gradient (y)",
       "layout": "IPY_MODEL_6e66e56229234e2d926fe132a938faea",
       "step": null,
       "style": "IPY_MODEL_60bdfe92fbe04599a788a64097d69548",
       "value": 1
      }
     },
     "8a74b3ade6a34123a49a57c8bee9021a": {
      "model_module": "@jupyter-widgets/controls",
      "model_module_version": "1.5.0",
      "model_name": "DescriptionStyleModel",
      "state": {
       "description_width": "initial"
      }
     },
     "8a84103c94214bc098abab4e488d33a1": {
      "model_module": "@jupyter-widgets/controls",
      "model_module_version": "1.5.0",
      "model_name": "DescriptionStyleModel",
      "state": {
       "description_width": ""
      }
     },
     "8aa27e002716407a96f69d4cb186d3bc": {
      "model_module": "@jupyter-widgets/controls",
      "model_module_version": "1.5.0",
      "model_name": "GridBoxModel",
      "state": {
       "children": [
        "IPY_MODEL_ce619bc7e751451c87fbe4591a05776a",
        "IPY_MODEL_ccf2735fca274909b5860f5bba5f0710",
        "IPY_MODEL_acb43a1e94d148b6ac9a70ba59b604cc"
       ],
       "layout": "IPY_MODEL_c9c8b5454be3483d96479bd1409b19d9"
      }
     },
     "8ac132fd4bab44f9bf1f8722dcb9d0c6": {
      "model_module": "@jupyter-widgets/base",
      "model_module_version": "1.2.0",
      "model_name": "LayoutModel",
      "state": {
       "display": "none"
      }
     },
     "8b08a72a8a7c4e6b896cb6cabac3624b": {
      "model_module": "@jupyter-widgets/base",
      "model_module_version": "1.2.0",
      "model_name": "LayoutModel",
      "state": {}
     },
     "8b16c675a01f485db99f400cfe5bf88b": {
      "model_module": "@jupyter-widgets/controls",
      "model_module_version": "1.5.0",
      "model_name": "VBoxModel",
      "state": {
       "children": [
        "IPY_MODEL_25c07841427942249ffb7580f5e61863",
        "IPY_MODEL_be7b89f2488a42e793e634f27c60f621",
        "IPY_MODEL_a8c4a2323b9346ac8d731ec594bb2bd1"
       ],
       "layout": "IPY_MODEL_2ded96b474f0462290b47dd42bc9c773"
      }
     },
     "8b1783f6cbaa40e8b66c97673aceafe0": {
      "model_module": "@jupyter-widgets/base",
      "model_module_version": "1.2.0",
      "model_name": "LayoutModel",
      "state": {}
     },
     "8b35c7178c8346368b3f06a75ddfc83c": {
      "model_module": "@jupyter-widgets/controls",
      "model_module_version": "1.5.0",
      "model_name": "DescriptionStyleModel",
      "state": {
       "description_width": ""
      }
     },
     "8b974c69616a40cb8541ea2081ee26a1": {
      "model_module": "@jupyter-widgets/controls",
      "model_module_version": "1.5.0",
      "model_name": "DropdownModel",
      "state": {
       "_options_labels": [
        "C:\\Users\\dominiquef\\Documents\\GIT\\mira\\geoapps\\assets\\Temp",
        "C:\\Users\\dominiquef\\Documents\\GIT\\mira\\geoapps\\assets",
        "C:\\Users\\dominiquef\\Documents\\GIT\\mira\\geoapps",
        "C:\\Users\\dominiquef\\Documents\\GIT\\mira",
        "C:\\Users\\dominiquef\\Documents\\GIT",
        "C:\\Users\\dominiquef\\Documents",
        "C:\\Users\\dominiquef",
        "C:\\Users",
        "C:\\",
        "G:\\",
        "\\\\EgnyteDrive\\mirageoscience\\",
        "D:\\"
       ],
       "index": 0,
       "layout": "IPY_MODEL_2f95fafd74714a50b9b3df943e1f418e",
       "style": "IPY_MODEL_8b35c7178c8346368b3f06a75ddfc83c"
      }
     },
     "8ba80cfba32b45ce88549adb68d4c186": {
      "model_module": "@jupyter-widgets/controls",
      "model_module_version": "1.5.0",
      "model_name": "ButtonModel",
      "state": {
       "description": "Change",
       "layout": "IPY_MODEL_2f672edf7b964bb189483497e3a37ddc",
       "style": "IPY_MODEL_cc5a775186e540dab239d8ef4517fd97"
      }
     },
     "8bb1c73110194928ade2422067e7e653": {
      "model_module": "@jupyter-widgets/base",
      "model_module_version": "1.2.0",
      "model_name": "LayoutModel",
      "state": {}
     },
     "8bb71db5da574964ad2f35eae81b0041": {
      "model_module": "@jupyter-widgets/controls",
      "model_module_version": "1.5.0",
      "model_name": "DropdownModel",
      "state": {
       "_options_labels": [
        "C:\\Users\\dominiquef\\Documents\\GIT\\mira\\geoapps\\assets",
        "C:\\Users\\dominiquef\\Documents\\GIT\\mira\\geoapps",
        "C:\\Users\\dominiquef\\Documents\\GIT\\mira",
        "C:\\Users\\dominiquef\\Documents\\GIT",
        "C:\\Users\\dominiquef\\Documents",
        "C:\\Users\\dominiquef",
        "C:\\Users",
        "C:\\",
        "G:\\",
        "\\\\EgnyteDrive\\mirageoscience\\",
        "D:\\"
       ],
       "index": 0,
       "layout": "IPY_MODEL_f18e5a377b8744138bf87633c36ee4f0",
       "style": "IPY_MODEL_427a7da35a424548b0ffbff0694730c2"
      }
     },
     "8bfc92473474472b877fafb63ebfbd13": {
      "model_module": "@jupyter-widgets/output",
      "model_module_version": "1.0.0",
      "model_name": "OutputModel",
      "state": {
       "layout": "IPY_MODEL_aaf055900bfb43f1a957048d573bc52c",
       "outputs": [
        {
         "data": {
          "image/png": "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\n",
          "text/plain": "<Figure size 720x720 with 1 Axes>"
         },
         "metadata": {
          "needs_background": "light"
         },
         "output_type": "display_data"
        }
       ]
      }
     },
     "8c4f2ea065f74f608f8e7aad653c757a": {
      "model_module": "@jupyter-widgets/controls",
      "model_module_version": "1.5.0",
      "model_name": "HBoxModel",
      "state": {
       "children": [
        "IPY_MODEL_8ba80cfba32b45ce88549adb68d4c186",
        "IPY_MODEL_7553f848fbe24ad5a2ea5cb204e9fa5f",
        "IPY_MODEL_dfba08e7c1a140e1963140b0d175311e"
       ],
       "layout": "IPY_MODEL_89961f03ac4948639e1ce9503b8871de"
      }
     },
     "8c709e71e18e4797bdb734d6f2c6b5d3": {
      "model_module": "@jupyter-widgets/controls",
      "model_module_version": "1.5.0",
      "model_name": "DescriptionStyleModel",
      "state": {
       "description_width": "initial"
      }
     },
     "8c748567c80c45f8b0d9864a80777c3a": {
      "model_module": "@jupyter-widgets/base",
      "model_module_version": "1.2.0",
      "model_name": "LayoutModel",
      "state": {
       "min_width": "6em",
       "width": "6em"
      }
     },
     "8c840c87c1cf41638483f3dadabdec1d": {
      "model_module": "@jupyter-widgets/controls",
      "model_module_version": "1.5.0",
      "model_name": "DescriptionStyleModel",
      "state": {
       "description_width": ""
      }
     },
     "8d5c0ee7a511454c960e89592b57964b": {
      "model_module": "@jupyter-widgets/controls",
      "model_module_version": "1.5.0",
      "model_name": "CheckboxModel",
      "state": {
       "description": "Active",
       "disabled": false,
       "indent": false,
       "layout": "IPY_MODEL_2cf6abfd3291489387242c5f9a413d3b",
       "style": "IPY_MODEL_eefce8b7de56463bbe780d35abe6b3e4",
       "value": false
      }
     },
     "8d9762595cdf499ba2afbbd15487df09": {
      "model_module": "@jupyter-widgets/controls",
      "model_module_version": "1.5.0",
      "model_name": "DescriptionStyleModel",
      "state": {
       "description_width": "initial"
      }
     },
     "8db187d6afb748f6ab7ce2200a41e031": {
      "model_module": "@jupyter-widgets/controls",
      "model_module_version": "1.5.0",
      "model_name": "FloatTextModel",
      "state": {
       "description": "Degree",
       "layout": "IPY_MODEL_9bbded23b274498687c79c463bd81fe6",
       "step": null,
       "style": "IPY_MODEL_43d9712ebaf045acb87af30b4ab32eed",
       "value": 11
      }
     },
     "8dd56729c98e477480782d5cad8d4443": {
      "model_module": "@jupyter-widgets/base",
      "model_module_version": "1.2.0",
      "model_name": "LayoutModel",
      "state": {}
     },
     "8e0518ea856b45bd8c73cfa785301397": {
      "model_module": "@jupyter-widgets/controls",
      "model_module_version": "1.5.0",
      "model_name": "FloatTextModel",
      "state": {
       "description": "SI",
       "layout": "IPY_MODEL_a27f95f8a7b1492f91260582110fb62f",
       "step": null,
       "style": "IPY_MODEL_8d9762595cdf499ba2afbbd15487df09",
       "value": 0.0001
      }
     },
     "8e0e3ea07417427fab519f3a2b6bfdbb": {
      "model_module": "@jupyter-widgets/controls",
      "model_module_version": "1.5.0",
      "model_name": "FloatTextModel",
      "state": {
       "description": "Floor:",
       "layout": "IPY_MODEL_9fd5d7730a784f18b2c686dad0b34649",
       "step": null,
       "style": "IPY_MODEL_d9297603109c41c89fa1a2dc0d5cd2bc",
       "value": 1
      }
     },
     "8e2a2d11848e4cc59b2b636849f125ba": {
      "model_module": "@jupyter-widgets/controls",
      "model_module_version": "1.5.0",
      "model_name": "DescriptionStyleModel",
      "state": {
       "description_width": ""
      }
     },
     "8e3223c84cad4cebadafe003a11d491b": {
      "model_module": "@jupyter-widgets/controls",
      "model_module_version": "1.5.0",
      "model_name": "BoxModel",
      "state": {
       "children": [
        "IPY_MODEL_56e94f799fdd4aa79fc2d99470453859"
       ],
       "layout": "IPY_MODEL_bdca7c4e68614b1092029561f11416f9"
      }
     },
     "8e4cece4216b4e32b7194707880aa4ed": {
      "model_module": "@jupyter-widgets/controls",
      "model_module_version": "1.5.0",
      "model_name": "LabelModel",
      "state": {
       "layout": "IPY_MODEL_e5063d5058754339b92ad82b8578f905",
       "style": "IPY_MODEL_786f782a1c504c61907d5d1c45dacaff",
       "value": "Reference Declination"
      }
     },
     "8e8475582e684a0397fbe117c4c4d742": {
      "model_module": "@jupyter-widgets/base",
      "model_module_version": "1.2.0",
      "model_name": "LayoutModel",
      "state": {}
     },
     "8e900f23951b4be4a8e9bd13f2fd8430": {
      "model_module": "@jupyter-widgets/controls",
      "model_module_version": "1.5.0",
      "model_name": "SelectModel",
      "state": {
       "_options_labels": [
        "📁 ..",
        "📁 SimPEG_PFInversion",
        "📁 Temp"
       ],
       "index": null,
       "layout": "IPY_MODEL_10f578a789af43a380971cdf0cb1f839",
       "rows": 8,
       "style": "IPY_MODEL_e6f5b79ce35f460e8f4a6e2e937740c2"
      }
     },
     "8e903fc7a1d04953b07d414298239d61": {
      "model_module": "@jupyter-widgets/base",
      "model_module_version": "1.2.0",
      "model_name": "LayoutModel",
      "state": {}
     },
     "8eaa3f924699400eaec51921a755bf80": {
      "model_module": "@jupyter-widgets/base",
      "model_module_version": "1.2.0",
      "model_name": "LayoutModel",
      "state": {
       "margin": "0 0 0 1em"
      }
     },
     "8f00c8b2d0924188b5ac0b3189adba43": {
      "model_module": "@jupyter-widgets/controls",
      "model_module_version": "1.5.0",
      "model_name": "HTMLModel",
      "state": {
       "layout": "IPY_MODEL_22d11b754a154349b3f1379fc4928d83",
       "style": "IPY_MODEL_2aa4a169f4ea4f4d9642b72d7b0f84ad"
      }
     },
     "8f199f62f8534f4c82ddaef2db9ea2b9": {
      "model_module": "@jupyter-widgets/base",
      "model_module_version": "1.2.0",
      "model_name": "LayoutModel",
      "state": {}
     },
     "8f1dd08d5721427eb47418bed0c2f767": {
      "model_module": "@jupyter-widgets/controls",
      "model_module_version": "1.5.0",
      "model_name": "DescriptionStyleModel",
      "state": {
       "description_width": "initial"
      }
     },
     "8f7c57eb6b2a4fc78428c7c1e0697d46": {
      "model_module": "@jupyter-widgets/controls",
      "model_module_version": "1.5.0",
      "model_name": "DescriptionStyleModel",
      "state": {
       "description_width": "initial"
      }
     },
     "8f958229f70f4734ab608e4c352e265b": {
      "model_module": "@jupyter-widgets/base",
      "model_module_version": "1.2.0",
      "model_name": "LayoutModel",
      "state": {}
     },
     "8fd7e9ceeb24453197c44ec40a80f0eb": {
      "model_module": "@jupyter-widgets/controls",
      "model_module_version": "1.5.0",
      "model_name": "ButtonModel",
      "state": {
       "description": "Create copy:",
       "layout": "IPY_MODEL_590f58a30ec244e6a601a70c813382c7",
       "style": "IPY_MODEL_76c64d36ec794b98937241be19d90d18"
      }
     },
     "8fefd6eedbd64bcfa0764fbb4fb651d5": {
      "model_module": "@jupyter-widgets/controls",
      "model_module_version": "1.5.0",
      "model_name": "DescriptionStyleModel",
      "state": {
       "description_width": ""
      }
     },
     "9025e5ab876a47c7b8d63226efcc6769": {
      "model_module": "@jupyter-widgets/controls",
      "model_module_version": "1.5.0",
      "model_name": "LabelModel",
      "state": {
       "layout": "IPY_MODEL_15e4b793689845c1bc4ef27a8c5fcf94",
       "style": "IPY_MODEL_71dd3791b98445e9a167a30bee0e585a",
       "value": "Reference effective susceptibility"
      }
     },
     "905862b9a85540c29a53253dc9da3bbb": {
      "model_module": "@jupyter-widgets/base",
      "model_module_version": "1.2.0",
      "model_name": "LayoutModel",
      "state": {}
     },
     "90703bca3a794e778348e575169e4758": {
      "model_module": "@jupyter-widgets/controls",
      "model_module_version": "1.5.0",
      "model_name": "DescriptionStyleModel",
      "state": {
       "description_width": ""
      }
     },
     "9071cf8176a1412e83a9c028962bb540": {
      "model_module": "@jupyter-widgets/base",
      "model_module_version": "1.2.0",
      "model_name": "LayoutModel",
      "state": {}
     },
     "907f398ab18640efb72843b727fce84e": {
      "model_module": "@jupyter-widgets/controls",
      "model_module_version": "1.5.0",
      "model_name": "HTMLModel",
      "state": {
       "layout": "IPY_MODEL_e58bceec93fc4eae83d43bdea519ddeb",
       "style": "IPY_MODEL_f9f7e03d22534499b896493883169c1c"
      }
     },
     "909ee4bb4ea448d5ba7100f10499ccf8": {
      "model_module": "@jupyter-widgets/controls",
      "model_module_version": "1.5.0",
      "model_name": "DescriptionStyleModel",
      "state": {
       "description_width": ""
      }
     },
     "90bc191977fe4e6fa9f0fe890ddd31d7": {
      "model_module": "@jupyter-widgets/controls",
      "model_module_version": "1.5.0",
      "model_name": "DescriptionStyleModel",
      "state": {
       "description_width": "initial"
      }
     },
     "90c12604ed0f40b58fca3a2b9764ebd7": {
      "model_module": "@jupyter-widgets/controls",
      "model_module_version": "1.5.0",
      "model_name": "DescriptionStyleModel",
      "state": {
       "description_width": "initial"
      }
     },
     "90d92ec7e59042bba0fb64ba6b00c3c1": {
      "model_module": "@jupyter-widgets/base",
      "model_module_version": "1.2.0",
      "model_name": "LayoutModel",
      "state": {}
     },
     "911041b0d14c43c6b2c2428b9f62f43f": {
      "model_module": "@jupyter-widgets/controls",
      "model_module_version": "1.5.0",
      "model_name": "DescriptionStyleModel",
      "state": {
       "description_width": "initial"
      }
     },
     "9193face3c0c41f2ad12b60e1ca343bd": {
      "model_module": "@jupyter-widgets/controls",
      "model_module_version": "1.5.0",
      "model_name": "DescriptionStyleModel",
      "state": {
       "description_width": "initial"
      }
     },
     "9196326fcfd641479c571a2d0fee33dd": {
      "model_module": "@jupyter-widgets/controls",
      "model_module_version": "1.5.0",
      "model_name": "LabelModel",
      "state": {
       "layout": "IPY_MODEL_792fab6230114565a24af2ec40f8f5d9",
       "style": "IPY_MODEL_6fd8b468ba12470d9ac66ba8309d30e7",
       "value": "Uncertainties"
      }
     },
     "91975c7d8cd94303923b92376e513268": {
      "model_module": "@jupyter-widgets/base",
      "model_module_version": "1.2.0",
      "model_name": "LayoutModel",
      "state": {
       "display": "none",
       "grid_area": "filename",
       "width": "auto"
      }
     },
     "91c4c28c923d45389e78d2996cc66d05": {
      "model_module": "@jupyter-widgets/controls",
      "model_module_version": "1.5.0",
      "model_name": "TextModel",
      "state": {
       "continuous_update": false,
       "description": "Group:",
       "layout": "IPY_MODEL_b3e6ae1525f8472f8e8e4bd5b43f9978",
       "style": "IPY_MODEL_60412f29f75348fcb9aff4494a2a72f3"
      }
     },
     "91e6e58434854ec5ac5ba8855761a884": {
      "model_module": "@jupyter-widgets/base",
      "model_module_version": "1.2.0",
      "model_name": "LayoutModel",
      "state": {}
     },
     "91f508d8b6594f5da3e0d8c51f02beff": {
      "model_module": "@jupyter-widgets/base",
      "model_module_version": "1.2.0",
      "model_name": "LayoutModel",
      "state": {
       "display": "none"
      }
     },
     "921862f13c764bf7b90c66022617145f": {
      "model_module": "@jupyter-widgets/base",
      "model_module_version": "1.2.0",
      "model_name": "LayoutModel",
      "state": {}
     },
     "9248cef83002432db44d5324134432ab": {
      "model_module": "@jupyter-widgets/controls",
      "model_module_version": "1.5.0",
      "model_name": "DropdownModel",
      "state": {
       "_options_labels": [
        "",
        "Airborne_Gxx",
        "Airborne_Gxy",
        "Airborne_Gxz",
        "Airborne_Gyy",
        "Airborne_Gyz",
        "Airborne_Gz",
        "Airborne_Gzz",
        "Airborne_TMI",
        "Ground_Gz"
       ],
       "description": "Channel:",
       "index": 0,
       "layout": "IPY_MODEL_ada9a5dae68a437b85215af50f43c591",
       "style": "IPY_MODEL_d45decbe0c0d4baaafd948c82f5cf842"
      }
     },
     "926a07d96176401aa9ab0262ac6c0d77": {
      "model_module": "@jupyter-widgets/controls",
      "model_module_version": "1.5.0",
      "model_name": "HTMLModel",
      "state": {
       "layout": "IPY_MODEL_d915d6b2da4b4b8caf052e2a82895bd5",
       "style": "IPY_MODEL_48739c54ceee4d3cbccffcbe670f5bf5"
      }
     },
     "926f2220afe040af86b253eb0959ba06": {
      "model_module": "@jupyter-widgets/base",
      "model_module_version": "1.2.0",
      "model_name": "LayoutModel",
      "state": {
       "display": "none",
       "grid_gap": "0px 0px",
       "grid_template_areas": "\n                    'pathlist pathlist'\n                    'dircontent dircontent'\n                    ",
       "grid_template_columns": "60% 40%",
       "grid_template_rows": "auto auto",
       "width": "auto"
      }
     },
     "9283129daab24043b3a79ebc2153602a": {
      "model_module": "@jupyter-widgets/controls",
      "model_module_version": "1.5.0",
      "model_name": "ButtonStyleModel",
      "state": {}
     },
     "9297fc30ab75421bbf4dc7ce05e46f1b": {
      "model_module": "@jupyter-widgets/base",
      "model_module_version": "1.2.0",
      "model_name": "LayoutModel",
      "state": {}
     },
     "92d1395d246e4de49921ea2876fd20ba": {
      "model_module": "@jupyter-widgets/controls",
      "model_module_version": "1.5.0",
      "model_name": "FloatTextModel",
      "state": {
       "description": "Units",
       "layout": "IPY_MODEL_6910877ba97d4611a97a60ee2fa37bd7",
       "step": null,
       "style": "IPY_MODEL_0eecd408842f45168ab620edc912b9fe"
      }
     },
     "92e47d715e46490eb73195ccba16908b": {
      "model_module": "@jupyter-widgets/controls",
      "model_module_version": "1.5.0",
      "model_name": "FloatTextModel",
      "state": {
       "description": "Degree",
       "layout": "IPY_MODEL_e7f7bc0c3f0344c6b46d83324868b66b",
       "step": null,
       "style": "IPY_MODEL_17cf52fcc64041ffab2a678163c40e51",
       "value": 79
      }
     },
     "92f0fbf016e74c5fb45c128c9c4f23df": {
      "model_module": "@jupyter-widgets/base",
      "model_module_version": "1.2.0",
      "model_name": "LayoutModel",
      "state": {
       "display": "none",
       "grid_gap": "0px 0px",
       "grid_template_areas": "\n                    'pathlist filename'\n                    'dircontent dircontent'\n                    ",
       "grid_template_columns": "60% 40%",
       "grid_template_rows": "auto auto",
       "width": "auto"
      }
     },
     "931b3f6dfc9c40cb9de97d3f05045a43": {
      "model_module": "@jupyter-widgets/controls",
      "model_module_version": "1.5.0",
      "model_name": "HBoxModel",
      "state": {
       "children": [
        "IPY_MODEL_4df1984b877947c08349c86b9c69f8a5",
        "IPY_MODEL_f3b0e8b8e48b490aabb55266c18204bb",
        "IPY_MODEL_a59695778b3d40e1ac01303f9db801c6"
       ],
       "layout": "IPY_MODEL_6f308d1875c4403893a33008cde8247f"
      }
     },
     "934d31ebbf434596bf05e8059ff06891": {
      "model_module": "@jupyter-widgets/controls",
      "model_module_version": "1.5.0",
      "model_name": "ButtonStyleModel",
      "state": {}
     },
     "935b9358341e4cb7a4e4d8c04b568617": {
      "model_module": "@jupyter-widgets/controls",
      "model_module_version": "1.5.0",
      "model_name": "ButtonStyleModel",
      "state": {}
     },
     "93700026b12f4d4ca271181a49103f32": {
      "model_module": "@jupyter-widgets/base",
      "model_module_version": "1.2.0",
      "model_name": "LayoutModel",
      "state": {
       "display": "none"
      }
     },
     "9399c25bb068487c8dea6d4cb5041b26": {
      "model_module": "@jupyter-widgets/controls",
      "model_module_version": "1.5.0",
      "model_name": "HBoxModel",
      "state": {
       "children": [
        "IPY_MODEL_33406d7ba9094986bc0d929acd12e0a5",
        "IPY_MODEL_b0cd83d4214949a392595d85317da2a5",
        "IPY_MODEL_f97396588c8d447ba3fce599b2bdc0be"
       ],
       "layout": "IPY_MODEL_3ae872bbeff5434b80b82f3d27dd439a"
      }
     },
     "93bed2c24a0d495d91e3264b9f995a7f": {
      "model_module": "@jupyter-widgets/controls",
      "model_module_version": "1.5.0",
      "model_name": "DropdownModel",
      "state": {
       "description": "Object:",
       "index": null,
       "layout": "IPY_MODEL_11e2f5dce9d94aa2b3237f879b4e52a2",
       "style": "IPY_MODEL_99d1651da884487083ae941354ea2c04"
      }
     },
     "93c8ccee871e4cb396cbee063f613eaa": {
      "model_module": "@jupyter-widgets/base",
      "model_module_version": "1.2.0",
      "model_name": "LayoutModel",
      "state": {
       "grid_area": "dircontent",
       "width": "auto"
      }
     },
     "942e5b37d5084d20a9861162860b1e13": {
      "model_module": "@jupyter-widgets/controls",
      "model_module_version": "1.5.0",
      "model_name": "DescriptionStyleModel",
      "state": {
       "description_width": "initial"
      }
     },
     "9436b9ee6ad545b69be9b84093067582": {
      "model_module": "@jupyter-widgets/base",
      "model_module_version": "1.2.0",
      "model_name": "LayoutModel",
      "state": {
       "grid_area": "dircontent",
       "width": "auto"
      }
     },
     "94583866965141b196fd35435ca6aea9": {
      "model_module": "@jupyter-widgets/controls",
      "model_module_version": "1.5.0",
      "model_name": "HTMLModel",
      "state": {
       "layout": "IPY_MODEL_3e88b6a1a9cf48a9abe2cc26559cf48b",
       "style": "IPY_MODEL_b3c0b94789794439acc59aef8a656c8f"
      }
     },
     "945af7c8d14b43c3a0eadcc0f31f7dcc": {
      "model_module": "@jupyter-widgets/controls",
      "model_module_version": "1.5.0",
      "model_name": "DropdownModel",
      "state": {
       "_options_labels": [
        "C:\\Users\\dominiquef\\Documents\\GIT\\mira\\geoapps\\assets",
        "C:\\Users\\dominiquef\\Documents\\GIT\\mira\\geoapps",
        "C:\\Users\\dominiquef\\Documents\\GIT\\mira",
        "C:\\Users\\dominiquef\\Documents\\GIT",
        "C:\\Users\\dominiquef\\Documents",
        "C:\\Users\\dominiquef",
        "C:\\Users",
        "C:\\",
        "G:\\",
        "\\\\EgnyteDrive\\mirageoscience\\",
        "D:\\"
       ],
       "index": 0,
       "layout": "IPY_MODEL_66805b588e0e4a33b99200ce8290be3c",
       "style": "IPY_MODEL_873b866f722c458c920e358e52d5d8cf"
      }
     },
     "9482bf24b9ba414db78f74727189b383": {
      "model_module": "@jupyter-widgets/controls",
      "model_module_version": "1.5.0",
      "model_name": "DescriptionStyleModel",
      "state": {
       "description_width": "initial"
      }
     },
     "94a04fa88b2b400dbe17d13bb2e9fc3d": {
      "model_module": "@jupyter-widgets/controls",
      "model_module_version": "1.5.0",
      "model_name": "ButtonModel",
      "state": {
       "description": "Cancel",
       "layout": "IPY_MODEL_b697755d417c4fb684c0b239d9d0c547",
       "style": "IPY_MODEL_7ed1129c518a4a938ef55bced56a093b"
      }
     },
     "94b74c4f03e64390ab7f3163c6f3bfe4": {
      "model_module": "@jupyter-widgets/controls",
      "model_module_version": "1.5.0",
      "model_name": "DescriptionStyleModel",
      "state": {
       "description_width": "initial"
      }
     },
     "94caad78ae16479c970b33462f290408": {
      "model_module": "@jupyter-widgets/controls",
      "model_module_version": "1.5.0",
      "model_name": "DescriptionStyleModel",
      "state": {
       "description_width": "initial"
      }
     },
     "94cd83a04cbe40a38dab1551b0831d12": {
      "model_module": "@jupyter-widgets/controls",
      "model_module_version": "1.5.0",
      "model_name": "VBoxModel",
      "state": {
       "children": [
        "IPY_MODEL_50b33dc0c2f84699ad1313c4145eac25",
        "IPY_MODEL_6c585ce2ce894038b8c130fa88fffa55",
        "IPY_MODEL_f8e75f6e5d2c4848a1d3bd2a2ad1da07"
       ],
       "layout": "IPY_MODEL_2ded96b474f0462290b47dd42bc9c773"
      }
     },
     "94e4b25030a543f199684c0b89afbad8": {
      "model_module": "@jupyter-widgets/controls",
      "model_module_version": "1.5.0",
      "model_name": "DescriptionStyleModel",
      "state": {
       "description_width": "initial"
      }
     },
     "950ba2cb8e204f3cb35c56e160d3472d": {
      "model_module": "@jupyter-widgets/controls",
      "model_module_version": "1.5.0",
      "model_name": "TextModel",
      "state": {
       "layout": "IPY_MODEL_2a86a217beea44639e09a72ac0dd9d2a",
       "placeholder": "output filename",
       "style": "IPY_MODEL_15b78f91cad442a69852dde330009d59",
       "value": "FlinFlon.geoh5"
      }
     },
     "95348ac3f0d34f5981f7a32c0802e1ad": {
      "model_module": "@jupyter-widgets/controls",
      "model_module_version": "1.5.0",
      "model_name": "SelectModel",
      "state": {
       "_options_labels": [
        "📁 ..",
        "📁 SimPEG_PFInversion",
        "📁 Temp",
        "📁 uijson",
        "FlinFlon.geoh5",
        "FlinFlon_dcip.geoh5",
        "FlinFlon_natural_sources.geoh5",
        "MtDore_TMI.geoh5",
        "tem.geoh5",
        "test_forward.ui.geoh5",
        "test_forward.ui.json"
       ],
       "index": 4,
       "layout": "IPY_MODEL_c775116dc7e743d494629389be7455b1",
       "rows": 8,
       "style": "IPY_MODEL_eb9e859ffcb74beba93166c7a1065c29"
      }
     },
     "9541d1c413c24a609cb961f2359a5ff0": {
      "model_module": "@jupyter-widgets/base",
      "model_module_version": "1.2.0",
      "model_name": "LayoutModel",
      "state": {}
     },
     "95a48084ef8a4ac980c0bcafb5ace219": {
      "model_module": "@jupyter-widgets/controls",
      "model_module_version": "1.5.0",
      "model_name": "DescriptionStyleModel",
      "state": {
       "description_width": "initial"
      }
     },
     "95bab137d34e4ba288fd559b1f6eb603": {
      "model_module": "@jupyter-widgets/controls",
      "model_module_version": "1.5.0",
      "model_name": "VBoxModel",
      "state": {
       "children": [
        "IPY_MODEL_2f1be6593d9d4016add70fd3fb280029",
        "IPY_MODEL_761dda0dd20a4a9d9dde308768f1eab7"
       ],
       "layout": "IPY_MODEL_5d8dea060e0349d190568e04255118d6"
      }
     },
     "95c862a2433344dcb0af8afe2df7c73d": {
      "model_module": "@jupyter-widgets/base",
      "model_module_version": "1.2.0",
      "model_name": "LayoutModel",
      "state": {
       "min_width": "6em",
       "width": "6em"
      }
     },
     "95f45a7ddaa34492912da950758fd8b3": {
      "model_module": "@jupyter-widgets/controls",
      "model_module_version": "1.5.0",
      "model_name": "DescriptionStyleModel",
      "state": {
       "description_width": ""
      }
     },
     "961c2f7d9620462981355766660cddef": {
      "model_module": "@jupyter-widgets/controls",
      "model_module_version": "1.5.0",
      "model_name": "DescriptionStyleModel",
      "state": {
       "description_width": ""
      }
     },
     "9672743c21944d0098edd6c287ff8b9b": {
      "model_module": "@jupyter-widgets/controls",
      "model_module_version": "1.5.0",
      "model_name": "ButtonStyleModel",
      "state": {}
     },
     "967ea79df09544cdbad2a19dcdf12303": {
      "model_module": "@jupyter-widgets/controls",
      "model_module_version": "1.5.0",
      "model_name": "HBoxModel",
      "state": {
       "children": [
        "IPY_MODEL_e063272bbebb45bb82670191d82a470c",
        "IPY_MODEL_bbdc7ff0a02b438c8956938f9cec0b71",
        "IPY_MODEL_826bcbea2fd54a789d7951c371dac6e1"
       ],
       "layout": "IPY_MODEL_3e25843ee7d64a7f92274ce4659dd4c8"
      }
     },
     "96a2dc4028354ae0baf7d36440fc6c33": {
      "model_module": "@jupyter-widgets/base",
      "model_module_version": "1.2.0",
      "model_name": "LayoutModel",
      "state": {}
     },
     "96c8845e165c41f883b22d28e78f52f2": {
      "model_module": "@jupyter-widgets/controls",
      "model_module_version": "1.5.0",
      "model_name": "DescriptionStyleModel",
      "state": {
       "description_width": ""
      }
     },
     "96d2dae81c804ab79cde51fe28e8eaf1": {
      "model_module": "@jupyter-widgets/base",
      "model_module_version": "1.2.0",
      "model_name": "LayoutModel",
      "state": {
       "grid_area": "pathlist",
       "width": "auto"
      }
     },
     "96dae274fae54fd5b11f0cf16ab46d5f": {
      "model_module": "@jupyter-widgets/controls",
      "model_module_version": "1.5.0",
      "model_name": "DescriptionStyleModel",
      "state": {
       "description_width": ""
      }
     },
     "9708c115757b40ec90f4618a2edc5c7c": {
      "model_module": "@jupyter-widgets/controls",
      "model_module_version": "1.5.0",
      "model_name": "DescriptionStyleModel",
      "state": {
       "description_width": ""
      }
     },
     "973dacd62cc141b09c35272b42c5307f": {
      "model_module": "@jupyter-widgets/controls",
      "model_module_version": "1.5.0",
      "model_name": "DescriptionStyleModel",
      "state": {
       "description_width": ""
      }
     },
     "97526cb9a140477eaa986d479269f718": {
      "model_module": "@jupyter-widgets/controls",
      "model_module_version": "1.5.0",
      "model_name": "DescriptionStyleModel",
      "state": {
       "description_width": "initial"
      }
     },
     "97705344b22f4a55b96c3ab1ef3bc953": {
      "model_module": "@jupyter-widgets/controls",
      "model_module_version": "1.5.0",
      "model_name": "DescriptionStyleModel",
      "state": {
       "description_width": ""
      }
     },
     "979b86182dc24733a7a1c88fe9010fa5": {
      "model_module": "@jupyter-widgets/controls",
      "model_module_version": "1.5.0",
      "model_name": "DescriptionStyleModel",
      "state": {
       "description_width": ""
      }
     },
     "97c4f04e16054fad8fabf53f49cf207d": {
      "model_module": "@jupyter-widgets/base",
      "model_module_version": "1.2.0",
      "model_name": "LayoutModel",
      "state": {}
     },
     "982cda3eb80e4b45a738fda26a27ee5e": {
      "model_module": "@jupyter-widgets/base",
      "model_module_version": "1.2.0",
      "model_name": "LayoutModel",
      "state": {}
     },
     "988b6fa1cdfa4721ac204baa6f344c57": {
      "model_module": "@jupyter-widgets/base",
      "model_module_version": "1.2.0",
      "model_name": "LayoutModel",
      "state": {}
     },
     "98d7df1a05a6491fbe0b95fe42000b18": {
      "model_module": "@jupyter-widgets/controls",
      "model_module_version": "1.5.0",
      "model_name": "DropdownModel",
      "state": {
       "_options_labels": [
        "C:\\Users\\dominiquef\\Documents\\GIT\\mira\\geoapps\\assets",
        "C:\\Users\\dominiquef\\Documents\\GIT\\mira\\geoapps",
        "C:\\Users\\dominiquef\\Documents\\GIT\\mira",
        "C:\\Users\\dominiquef\\Documents\\GIT",
        "C:\\Users\\dominiquef\\Documents",
        "C:\\Users\\dominiquef",
        "C:\\Users",
        "C:\\",
        "G:\\",
        "\\\\EgnyteDrive\\mirageoscience\\",
        "D:\\"
       ],
       "index": 0,
       "layout": "IPY_MODEL_48e738f7c98749fa92c46ed25db9fdfb",
       "style": "IPY_MODEL_aaae14da1595452390beec853058ea45"
      }
     },
     "98da229b5bd5405d9e69454a9d5f2d25": {
      "model_module": "@jupyter-widgets/base",
      "model_module_version": "1.2.0",
      "model_name": "LayoutModel",
      "state": {}
     },
     "9917e90484734e27af4eb7da6b30b244": {
      "model_module": "@jupyter-widgets/controls",
      "model_module_version": "1.5.0",
      "model_name": "ButtonStyleModel",
      "state": {}
     },
     "99312e6c225c4258a2c71779e00bc134": {
      "model_module": "@jupyter-widgets/controls",
      "model_module_version": "1.5.0",
      "model_name": "DescriptionStyleModel",
      "state": {
       "description_width": "initial"
      }
     },
     "99603952d28d4992a6f09010c617f586": {
      "model_module": "@jupyter-widgets/controls",
      "model_module_version": "1.5.0",
      "model_name": "ButtonModel",
      "state": {
       "button_style": "danger",
       "description": "Compute",
       "icon": "check",
       "layout": "IPY_MODEL_e1cf21dacfb24138bdb720b6e015e008",
       "style": "IPY_MODEL_1488076b0c9446558208b2a11c28099a",
       "tooltip": "Run computation"
      }
     },
     "99993f9634ea48fb8a71552f431be7a3": {
      "model_module": "@jupyter-widgets/controls",
      "model_module_version": "1.5.0",
      "model_name": "ButtonStyleModel",
      "state": {}
     },
     "999a6e2826e84c2591d55e54795148c3": {
      "model_module": "@jupyter-widgets/controls",
      "model_module_version": "1.5.0",
      "model_name": "VBoxModel",
      "state": {
       "children": [
        "IPY_MODEL_8668a17a679a437fb2641152884c1ea2",
        "IPY_MODEL_b02d71f42f1e45e98cf97d4b8d62c2ae",
        "IPY_MODEL_2dfcec1c2b1e46938e7576166a2f3320",
        "IPY_MODEL_23bc91b53e134c4389289c241386e101"
       ],
       "layout": "IPY_MODEL_9541d1c413c24a609cb961f2359a5ff0"
      }
     },
     "99d1651da884487083ae941354ea2c04": {
      "model_module": "@jupyter-widgets/controls",
      "model_module_version": "1.5.0",
      "model_name": "DescriptionStyleModel",
      "state": {
       "description_width": ""
      }
     },
     "99d2e897f78244aa89c2efbd50a4ea2c": {
      "model_module": "@jupyter-widgets/base",
      "model_module_version": "1.2.0",
      "model_name": "LayoutModel",
      "state": {}
     },
     "9a0ed54fce5446b5be177f623643536b": {
      "model_module": "@jupyter-widgets/controls",
      "model_module_version": "1.5.0",
      "model_name": "DescriptionStyleModel",
      "state": {
       "description_width": ""
      }
     },
     "9a0f351da03040b48c528923fe979bd1": {
      "model_module": "@jupyter-widgets/controls",
      "model_module_version": "1.5.0",
      "model_name": "ButtonModel",
      "state": {
       "description": "Cancel",
       "layout": "IPY_MODEL_5f57e9ca982d4830a17a17450a3db086",
       "style": "IPY_MODEL_1751c25600ac435591a2190c75c19b76"
      }
     },
     "9a270baac07c4de49c692cfebfa12cb1": {
      "model_module": "@jupyter-widgets/controls",
      "model_module_version": "1.5.0",
      "model_name": "DescriptionStyleModel",
      "state": {
       "description_width": "initial"
      }
     },
     "9a31611f748241d9880c62c78cb59ba8": {
      "model_module": "@jupyter-widgets/base",
      "model_module_version": "1.2.0",
      "model_name": "LayoutModel",
      "state": {}
     },
     "9a51326cbd0c43d89443600fc9f92d9a": {
      "model_module": "@jupyter-widgets/controls",
      "model_module_version": "1.5.0",
      "model_name": "DescriptionStyleModel",
      "state": {
       "description_width": "initial"
      }
     },
     "9a6f508ddcc44781b9453aefe4212a34": {
      "model_module": "@jupyter-widgets/base",
      "model_module_version": "1.2.0",
      "model_name": "LayoutModel",
      "state": {}
     },
     "9a7668caadc241d1ad1e4583d9d90fb1": {
      "model_module": "@jupyter-widgets/controls",
      "model_module_version": "1.5.0",
      "model_name": "DescriptionStyleModel",
      "state": {
       "description_width": ""
      }
     },
     "9b153ddc18554abab2947c61489fa46e": {
      "model_module": "@jupyter-widgets/base",
      "model_module_version": "1.2.0",
      "model_name": "LayoutModel",
      "state": {
       "display": "none",
       "min_width": "6em",
       "width": "6em"
      }
     },
     "9b3faedf7f594c41a074712ce6fc83b9": {
      "model_module": "@jupyter-widgets/controls",
      "model_module_version": "1.5.0",
      "model_name": "VBoxModel",
      "state": {
       "children": [
        "IPY_MODEL_d5ea3cdf8d92459abc1b621f900dbb39",
        "IPY_MODEL_e1003a47725d4110a2c2b02a8a9315ac"
       ],
       "layout": "IPY_MODEL_fe92cb19673145a7a58acab0e724b52e"
      }
     },
     "9b4c5d3efd4c4d739bf6136007e79b66": {
      "model_module": "@jupyter-widgets/base",
      "model_module_version": "1.2.0",
      "model_name": "LayoutModel",
      "state": {}
     },
     "9b8487c62ac1451dbd93ceb1d13f80a8": {
      "model_module": "@jupyter-widgets/controls",
      "model_module_version": "1.5.0",
      "model_name": "CheckboxModel",
      "state": {
       "description": "Geoscience ANALYST Pro - Live link",
       "disabled": false,
       "indent": false,
       "layout": "IPY_MODEL_40283afc14d944caa087e949670712bd",
       "style": "IPY_MODEL_4b7ce057a6884d63b3c9efc55deb950e",
       "value": false
      }
     },
     "9b8a4cfc42e74fcf99f03da5152d21ca": {
      "model_module": "@jupyter-widgets/controls",
      "model_module_version": "1.5.0",
      "model_name": "VBoxModel",
      "state": {
       "children": [
        "IPY_MODEL_ea026ab9e8f84c3790ff592a9f3efdda"
       ],
       "layout": "IPY_MODEL_d57d7e69a7c3445cb06fd3388dceed2f"
      }
     },
     "9b974ec6162b47538228e8b2922cd217": {
      "model_module": "@jupyter-widgets/controls",
      "model_module_version": "1.5.0",
      "model_name": "DescriptionStyleModel",
      "state": {
       "description_width": ""
      }
     },
     "9bafb07b9e804de891be45e2adae3aa9": {
      "model_module": "@jupyter-widgets/controls",
      "model_module_version": "1.5.0",
      "model_name": "DescriptionStyleModel",
      "state": {
       "description_width": "initial"
      }
     },
     "9bbded23b274498687c79c463bd81fe6": {
      "model_module": "@jupyter-widgets/base",
      "model_module_version": "1.2.0",
      "model_name": "LayoutModel",
      "state": {
       "visibility": "hidden"
      }
     },
     "9bc76b8cca4241bc87a34695860b44b7": {
      "model_module": "@jupyter-widgets/base",
      "model_module_version": "1.2.0",
      "model_name": "LayoutModel",
      "state": {}
     },
     "9c3b472082a94c4bbd5af513fa9161ec": {
      "model_module": "@jupyter-widgets/controls",
      "model_module_version": "1.5.0",
      "model_name": "VBoxModel",
      "state": {
       "children": [
        "IPY_MODEL_5b14c874fc6541f8aa2cb62b92a6034a",
        "IPY_MODEL_45b3577f099f4e32b2a812ae1420bc94"
       ],
       "layout": "IPY_MODEL_6be77a5fcbd24b9d8239554981e43947"
      }
     },
     "9c5f9f1062e34be88409e0f646aff1e7": {
      "model_module": "@jupyter-widgets/base",
      "model_module_version": "1.2.0",
      "model_name": "LayoutModel",
      "state": {
       "display": "none",
       "min_width": "6em",
       "width": "6em"
      }
     },
     "9c7aa1fb044346a3940e23fcee482154": {
      "model_module": "@jupyter-widgets/base",
      "model_module_version": "1.2.0",
      "model_name": "LayoutModel",
      "state": {
       "grid_area": "filename",
       "width": "auto"
      }
     },
     "9c7da123ac5349608895328e8ce89fd7": {
      "model_module": "@jupyter-widgets/controls",
      "model_module_version": "1.5.0",
      "model_name": "DescriptionStyleModel",
      "state": {
       "description_width": ""
      }
     },
     "9c823be070714bf2926d121edc7b2f42": {
      "model_module": "@jupyter-widgets/controls",
      "model_module_version": "1.5.0",
      "model_name": "LabelModel",
      "state": {
       "layout": "IPY_MODEL_58cfc402ce374b09a7df016178a7f3f1",
       "style": "IPY_MODEL_6f31d09f71234b18a4ff17fc4a5e27cc",
       "value": "Starting Inclination"
      }
     },
     "9cc37a93dc954e6e96b2e7c90d3d301e": {
      "model_module": "@jupyter-widgets/controls",
      "model_module_version": "1.5.0",
      "model_name": "LabelModel",
      "state": {
       "layout": "IPY_MODEL_34bdc152806b4298acdf630055d914d5",
       "style": "IPY_MODEL_cec9047327bc4585b11c2c9f62f0c181",
       "value": "Uncertainties"
      }
     },
     "9d18fd300651440b948cd967302abfe1": {
      "model_module": "@jupyter-widgets/controls",
      "model_module_version": "1.5.0",
      "model_name": "SliderStyleModel",
      "state": {
       "description_width": ""
      }
     },
     "9d2829e51a6f45038a90348d59387901": {
      "model_module": "@jupyter-widgets/base",
      "model_module_version": "1.2.0",
      "model_name": "LayoutModel",
      "state": {}
     },
     "9d3b8cb83a0c4b218139cf65c4201581": {
      "model_module": "@jupyter-widgets/controls",
      "model_module_version": "1.5.0",
      "model_name": "SelectModel",
      "state": {
       "_options_labels": [
        "📁 ..",
        "📁 SimPEG_PFInversion",
        "📁 Temp"
       ],
       "index": null,
       "layout": "IPY_MODEL_769fff05752b47e099d10e060c5e5339",
       "rows": 8,
       "style": "IPY_MODEL_8874870b85c948a2b611cf61ac2df1e5"
      }
     },
     "9d511d3466b94964bab929b8cdbe5587": {
      "model_module": "@jupyter-widgets/base",
      "model_module_version": "1.2.0",
      "model_name": "LayoutModel",
      "state": {}
     },
     "9d6bc6e3a1b04438937dec00e45f140f": {
      "model_module": "@jupyter-widgets/controls",
      "model_module_version": "1.5.0",
      "model_name": "BoxModel",
      "state": {
       "children": [
        "IPY_MODEL_d68c320803be43d7a49f514912ac8423"
       ],
       "layout": "IPY_MODEL_007c5278a287482686bb9ca2c7d67882"
      }
     },
     "9d91200dc7d64645bb36f24eeb439780": {
      "model_module": "@jupyter-widgets/controls",
      "model_module_version": "1.5.0",
      "model_name": "TextModel",
      "state": {
       "description": "# Cells below topography",
       "layout": "IPY_MODEL_a2ab119854064b16a10b3b19e42089de",
       "style": "IPY_MODEL_839b82f92f9244dea8546beabc58a84b",
       "value": "0, 0, 0, 2"
      }
     },
     "9e1665e525184d0fa1e0bda5906e0fc7": {
      "model_module": "@jupyter-widgets/controls",
      "model_module_version": "1.5.0",
      "model_name": "ButtonStyleModel",
      "state": {}
     },
     "9e5e4c8d75c94fcdb9561ccc6d8721f0": {
      "model_module": "@jupyter-widgets/controls",
      "model_module_version": "1.5.0",
      "model_name": "CheckboxModel",
      "state": {
       "description": "Active",
       "disabled": false,
       "indent": false,
       "layout": "IPY_MODEL_485dfe6f19c14ab4874c1a691572ae1f",
       "style": "IPY_MODEL_7f0524bec68d4accaa50cef1845ff290",
       "value": false
      }
     },
     "9edaeb1f800e4b34954d075d85ba8e2f": {
      "model_module": "@jupyter-widgets/controls",
      "model_module_version": "1.5.0",
      "model_name": "DescriptionStyleModel",
      "state": {
       "description_width": ""
      }
     },
     "9f057373f20a4e1a9bd8973783e0b514": {
      "model_module": "@jupyter-widgets/base",
      "model_module_version": "1.2.0",
      "model_name": "LayoutModel",
      "state": {
       "grid_area": "filename",
       "width": "auto"
      }
     },
     "9f0574df578a45039d7e0599bc69bb84": {
      "model_module": "@jupyter-widgets/controls",
      "model_module_version": "1.5.0",
      "model_name": "HBoxModel",
      "state": {
       "children": [
        "IPY_MODEL_7e032652883e4bd480abf3678c856497",
        "IPY_MODEL_04abc0b90813406c8f2b7e33d2be452c",
        "IPY_MODEL_45605442ce95459abefa79cc7c4ee6f5"
       ],
       "layout": "IPY_MODEL_595883820d964b3c8863c842e87d095d"
      }
     },
     "9f3ee5afa640474093aff3625810206f": {
      "model_module": "@jupyter-widgets/controls",
      "model_module_version": "1.5.0",
      "model_name": "DescriptionStyleModel",
      "state": {
       "description_width": "initial"
      }
     },
     "9f4c73db91e546f4a9ca13df8e97c3c4": {
      "model_module": "@jupyter-widgets/controls",
      "model_module_version": "1.5.0",
      "model_name": "DescriptionStyleModel",
      "state": {
       "description_width": ""
      }
     },
     "9f79617e1c344ef3bebcf63ba4582657": {
      "model_module": "@jupyter-widgets/base",
      "model_module_version": "1.2.0",
      "model_name": "LayoutModel",
      "state": {}
     },
     "9f8f4491a950476e90e318d184984cf4": {
      "model_module": "@jupyter-widgets/controls",
      "model_module_version": "1.5.0",
      "model_name": "DescriptionStyleModel",
      "state": {
       "description_width": ""
      }
     },
     "9f9373b371b14d8982fc7096a56c3b76": {
      "model_module": "@jupyter-widgets/controls",
      "model_module_version": "1.5.0",
      "model_name": "VBoxModel",
      "state": {
       "children": [
        "IPY_MODEL_eec045cf73944713a5a2113fdad1fe4e",
        "IPY_MODEL_d55f26523ea4418d90bd0960f5c7a72e",
        "IPY_MODEL_9cc37a93dc954e6e96b2e7c90d3d301e",
        "IPY_MODEL_2d609fde71214a2ba4fcc99099a05705"
       ],
       "layout": "IPY_MODEL_29388ff0a8d749ffb8e5fa17851087d3"
      }
     },
     "9fd5d7730a784f18b2c686dad0b34649": {
      "model_module": "@jupyter-widgets/base",
      "model_module_version": "1.2.0",
      "model_name": "LayoutModel",
      "state": {}
     },
     "9fdb37e43d8f42138aa01b1c7985b451": {
      "model_module": "@jupyter-widgets/controls",
      "model_module_version": "1.5.0",
      "model_name": "DescriptionStyleModel",
      "state": {
       "description_width": "initial"
      }
     },
     "9ff681ea3a5b4c2b8294e2d96470c1a5": {
      "model_module": "@jupyter-widgets/controls",
      "model_module_version": "1.5.0",
      "model_name": "DescriptionStyleModel",
      "state": {
       "description_width": ""
      }
     },
     "a0041488bdd04d568f277326599e941e": {
      "model_module": "@jupyter-widgets/base",
      "model_module_version": "1.2.0",
      "model_name": "LayoutModel",
      "state": {}
     },
     "a01cd77241a14df29daf9d9e117874b5": {
      "model_module": "@jupyter-widgets/controls",
      "model_module_version": "1.5.0",
      "model_name": "DescriptionStyleModel",
      "state": {
       "description_width": ""
      }
     },
     "a0855e82e4564a6fa28b9ad8380410e6": {
      "model_module": "@jupyter-widgets/controls",
      "model_module_version": "1.5.0",
      "model_name": "DescriptionStyleModel",
      "state": {
       "description_width": ""
      }
     },
     "a1058d3fe38f44e99cfe24607b0141ff": {
      "model_module": "@jupyter-widgets/controls",
      "model_module_version": "1.5.0",
      "model_name": "DescriptionStyleModel",
      "state": {
       "description_width": ""
      }
     },
     "a1196dbfb0e448469aef67246c763804": {
      "model_module": "@jupyter-widgets/controls",
      "model_module_version": "1.5.0",
      "model_name": "ButtonStyleModel",
      "state": {}
     },
     "a130a5c1fbc54a78ac51a32e922f15b7": {
      "model_module": "@jupyter-widgets/base",
      "model_module_version": "1.2.0",
      "model_name": "LayoutModel",
      "state": {}
     },
     "a1343748a00e43b0b87b03c56f443cfe": {
      "model_module": "@jupyter-widgets/base",
      "model_module_version": "1.2.0",
      "model_name": "LayoutModel",
      "state": {
       "grid_area": "filename",
       "width": "auto"
      }
     },
     "a18d71493bbe4d679c39bf25ebe99375": {
      "model_module": "@jupyter-widgets/controls",
      "model_module_version": "1.5.0",
      "model_name": "DescriptionStyleModel",
      "state": {
       "description_width": "initial"
      }
     },
     "a1d740ce87184e6a82fd9869c0475512": {
      "model_module": "@jupyter-widgets/controls",
      "model_module_version": "1.5.0",
      "model_name": "DescriptionStyleModel",
      "state": {
       "description_width": "initial"
      }
     },
     "a2092280cbeb42f7a4ac4726833f9a52": {
      "model_module": "@jupyter-widgets/controls",
      "model_module_version": "1.5.0",
      "model_name": "DescriptionStyleModel",
      "state": {
       "description_width": "initial"
      }
     },
     "a228082277804cd2a35f255a91cb8d26": {
      "model_module": "@jupyter-widgets/base",
      "model_module_version": "1.2.0",
      "model_name": "LayoutModel",
      "state": {}
     },
     "a252ea0afe224fbb9b44b4c60b9f8cc7": {
      "model_module": "@jupyter-widgets/controls",
      "model_module_version": "1.5.0",
      "model_name": "IntTextModel",
      "state": {
       "description": "Max CPUs",
       "layout": "IPY_MODEL_a2b7a37d5726431eb6974380249180d7",
       "step": 1,
       "style": "IPY_MODEL_f7f807f9777e4f4582237aa0776da8e6",
       "value": 6
      }
     },
     "a27f95f8a7b1492f91260582110fb62f": {
      "model_module": "@jupyter-widgets/base",
      "model_module_version": "1.2.0",
      "model_name": "LayoutModel",
      "state": {}
     },
     "a281f225555e41cfadc40fa075d0148b": {
      "model_module": "@jupyter-widgets/base",
      "model_module_version": "1.2.0",
      "model_name": "LayoutModel",
      "state": {}
     },
     "a2a5bade43e5451ba32ea42218339131": {
      "model_module": "@jupyter-widgets/base",
      "model_module_version": "1.2.0",
      "model_name": "LayoutModel",
      "state": {}
     },
     "a2ab119854064b16a10b3b19e42089de": {
      "model_module": "@jupyter-widgets/base",
      "model_module_version": "1.2.0",
      "model_name": "LayoutModel",
      "state": {}
     },
     "a2afdcd17aea438a80f6da3932335d36": {
      "model_module": "@jupyter-widgets/base",
      "model_module_version": "1.2.0",
      "model_name": "LayoutModel",
      "state": {}
     },
     "a2b40a44f71f493a8ce3f5240bfe96b3": {
      "model_module": "@jupyter-widgets/controls",
      "model_module_version": "1.5.0",
      "model_name": "GridBoxModel",
      "state": {
       "children": [
        "IPY_MODEL_38194eb3e2aa4a39861e56d330975eb0",
        "IPY_MODEL_4d93367eeaa94baaa38fbcfbfb84fc29",
        "IPY_MODEL_95348ac3f0d34f5981f7a32c0802e1ad"
       ],
       "layout": "IPY_MODEL_81dbea05537444e7bed031787a767b5c"
      }
     },
     "a2b7a37d5726431eb6974380249180d7": {
      "model_module": "@jupyter-widgets/base",
      "model_module_version": "1.2.0",
      "model_name": "LayoutModel",
      "state": {}
     },
     "a2e1f13dc9d44c588f2d8bc531310510": {
      "model_module": "@jupyter-widgets/controls",
      "model_module_version": "1.5.0",
      "model_name": "VBoxModel",
      "state": {
       "children": [
        "IPY_MODEL_179f6b536abd4c9fb6f0e0877507058f",
        "IPY_MODEL_b269962202ed47b98c090b17d23722fa"
       ],
       "layout": "IPY_MODEL_7e551f58673c4497b6faddf16bf0af40"
      }
     },
     "a32ba49411d6458896356b423d0448d9": {
      "model_module": "@jupyter-widgets/base",
      "model_module_version": "1.2.0",
      "model_name": "LayoutModel",
      "state": {
       "grid_area": "dircontent",
       "width": "auto"
      }
     },
     "a361a59bea7f42f29d29a9267f0a9d0d": {
      "model_module": "@jupyter-widgets/controls",
      "model_module_version": "1.5.0",
      "model_name": "DescriptionStyleModel",
      "state": {
       "description_width": ""
      }
     },
     "a382eb0a598f4d158f97fb01d42fadc1": {
      "model_module": "@jupyter-widgets/controls",
      "model_module_version": "1.5.0",
      "model_name": "VBoxModel",
      "state": {
       "children": [
        "IPY_MODEL_71e04b88d2db41e3a032deb3bfd91c48",
        "IPY_MODEL_d68c00c60bff4e4d8fc3bb88dc9bdbf6"
       ],
       "layout": "IPY_MODEL_a6321bf3d019485ea258c6ebd37d2a4e"
      }
     },
     "a3a5ff9899ec49edbfaf763e6b257e01": {
      "model_module": "@jupyter-widgets/base",
      "model_module_version": "1.2.0",
      "model_name": "LayoutModel",
      "state": {
       "margin": "0 0 0 1em"
      }
     },
     "a3e4c20c1c7c4251bc89d46df40262f8": {
      "model_module": "@jupyter-widgets/controls",
      "model_module_version": "1.5.0",
      "model_name": "SelectModel",
      "state": {
       "_options_labels": [
        "📁 ..",
        "📁 SimPEG_PFInversion",
        "📁 Temp",
        "📁 uijson",
        "FlinFlon.geoh5",
        "FlinFlon_dcip.geoh5",
        "FlinFlon_natural_sources.geoh5",
        "MtDore_TMI.geoh5",
        "tem.geoh5",
        "test_forward.ui.geoh5",
        "test_forward.ui.json"
       ],
       "index": 4,
       "layout": "IPY_MODEL_ad33b46b42f84b109cad4db7c67e0c0c",
       "rows": 8,
       "style": "IPY_MODEL_bfbeb6e7616e432bba19bbe2eee4dd3c"
      }
     },
     "a3ef2572ae294bcc86a06c638b95c71a": {
      "model_module": "@jupyter-widgets/base",
      "model_module_version": "1.2.0",
      "model_name": "LayoutModel",
      "state": {}
     },
     "a3faf28827e540999cf74a0ef07bfe12": {
      "model_module": "@jupyter-widgets/base",
      "model_module_version": "1.2.0",
      "model_name": "LayoutModel",
      "state": {}
     },
     "a3fdea1663c940018b21a6bb999616cb": {
      "model_module": "@jupyter-widgets/base",
      "model_module_version": "1.2.0",
      "model_name": "LayoutModel",
      "state": {}
     },
     "a3ff1745dd4a48989fff5f23050623a1": {
      "model_module": "@jupyter-widgets/base",
      "model_module_version": "1.2.0",
      "model_name": "LayoutModel",
      "state": {}
     },
     "a409162e741c441b964a6bcca655b3ea": {
      "model_module": "@jupyter-widgets/controls",
      "model_module_version": "1.5.0",
      "model_name": "VBoxModel",
      "state": {
       "children": [
        "IPY_MODEL_1a9644ac95c0469ca1fa9cf454e97f4d",
        "IPY_MODEL_0e226e769d2b45c896c3ee8e440eea4a"
       ],
       "layout": "IPY_MODEL_32a12a7f042c4a1b9b43a7e84f860608"
      }
     },
     "a427af81ceb94a58bb3fa2ec2651e2e8": {
      "model_module": "@jupyter-widgets/base",
      "model_module_version": "1.2.0",
      "model_name": "LayoutModel",
      "state": {}
     },
     "a432fbc059724fe484a3517f745ad9fe": {
      "model_module": "@jupyter-widgets/base",
      "model_module_version": "1.2.0",
      "model_name": "LayoutModel",
      "state": {
       "width": "auto"
      }
     },
     "a4433e75b2e94cccaee8a798773b9e93": {
      "model_module": "@jupyter-widgets/controls",
      "model_module_version": "1.5.0",
      "model_name": "LabelModel",
      "state": {
       "layout": "IPY_MODEL_cdbc049ba6b645759b524cc7eeaae107",
       "style": "IPY_MODEL_bbe46111b10f4e7b8b5deab3af5f48e9",
       "value": "Workspace"
      }
     },
     "a461914c9ec347bc8107da694258dde9": {
      "model_module": "@jupyter-widgets/base",
      "model_module_version": "1.2.0",
      "model_name": "LayoutModel",
      "state": {}
     },
     "a47970031a4f41c281043ea96b1f0bb3": {
      "model_module": "@jupyter-widgets/base",
      "model_module_version": "1.2.0",
      "model_name": "LayoutModel",
      "state": {
       "grid_area": "pathlist",
       "width": "auto"
      }
     },
     "a47f0afd37ad4ebc8ea6e1134a208fd5": {
      "model_module": "@jupyter-widgets/controls",
      "model_module_version": "1.5.0",
      "model_name": "TextModel",
      "state": {
       "continuous_update": false,
       "description": "Group:",
       "layout": "IPY_MODEL_a281f225555e41cfadc40fa075d0148b",
       "style": "IPY_MODEL_d83c113a86404ca3b8a6827324522fac"
      }
     },
     "a4c3b291a9414e1c99f0f3c0dc220ba4": {
      "model_module": "@jupyter-widgets/controls",
      "model_module_version": "1.5.0",
      "model_name": "HTMLModel",
      "state": {
       "layout": "IPY_MODEL_b8626502f78644e1a9e11891695f381e",
       "placeholder": "",
       "style": "IPY_MODEL_39f6a523a7d54a47afe5efaa9166cb02",
       "value": "<span style=\"color:green;\">C:\\Users\\dominiquef\\Documents\\GIT\\mira\\geoapps\\assets\\Temp\\</span>"
      }
     },
     "a4c47ebf80234ff5993f10ac09dc89df": {
      "model_module": "@jupyter-widgets/controls",
      "model_module_version": "1.5.0",
      "model_name": "VBoxModel",
      "state": {
       "children": [
        "IPY_MODEL_f0556e121c64498e9a3bf9936dc94ecf",
        "IPY_MODEL_6574e3422f8e4a31b0e7a6461faab0c1"
       ],
       "layout": "IPY_MODEL_a862fd3cc34044e1b28550e03e84aa5a"
      }
     },
     "a50777cbf24c41d4bd66801539471084": {
      "model_module": "@jupyter-widgets/controls",
      "model_module_version": "1.5.0",
      "model_name": "HBoxModel",
      "state": {
       "children": [
        "IPY_MODEL_a409162e741c441b964a6bcca655b3ea",
        "IPY_MODEL_9c3b472082a94c4bbd5af513fa9161ec"
       ],
       "layout": "IPY_MODEL_c93c3dcf640a49148153fc7fd1eaa4d6"
      }
     },
     "a50dc97e2acd47b092f3cc9321ee2ee3": {
      "model_module": "@jupyter-widgets/controls",
      "model_module_version": "1.5.0",
      "model_name": "BoxModel",
      "state": {
       "children": [
        "IPY_MODEL_6230845b57254a55b2c96b9a281bf9f2"
       ],
       "layout": "IPY_MODEL_c41ec92bb0c64af4aa3aaa564d90902f"
      }
     },
     "a51038f0454b4b1498e643d82b153efd": {
      "model_module": "@jupyter-widgets/controls",
      "model_module_version": "1.5.0",
      "model_name": "DropdownModel",
      "state": {
       "_options_labels": [
        "C:\\Users\\dominiquef\\Documents\\GIT\\mira\\geoapps\\assets",
        "C:\\Users\\dominiquef\\Documents\\GIT\\mira\\geoapps",
        "C:\\Users\\dominiquef\\Documents\\GIT\\mira",
        "C:\\Users\\dominiquef\\Documents\\GIT",
        "C:\\Users\\dominiquef\\Documents",
        "C:\\Users\\dominiquef",
        "C:\\Users",
        "C:\\",
        "G:\\",
        "\\\\EgnyteDrive\\mirageoscience\\",
        "D:\\"
       ],
       "index": 0,
       "layout": "IPY_MODEL_d474bd233c584f8e8b4edab7f24e28da",
       "style": "IPY_MODEL_c307698690994462a962fd28fcc84e74"
      }
     },
     "a52fb972c3774a328eaab1ed2fd7204e": {
      "model_module": "@jupyter-widgets/controls",
      "model_module_version": "1.5.0",
      "model_name": "DescriptionStyleModel",
      "state": {
       "description_width": ""
      }
     },
     "a58916e50ade488faecdbe0dc8906888": {
      "model_module": "@jupyter-widgets/controls",
      "model_module_version": "1.5.0",
      "model_name": "DescriptionStyleModel",
      "state": {
       "description_width": "initial"
      }
     },
     "a58d31259cfb4d25b115dc8271d9663d": {
      "model_module": "@jupyter-widgets/controls",
      "model_module_version": "1.5.0",
      "model_name": "ToggleButtonModel",
      "state": {
       "layout": "IPY_MODEL_ab410e4582194e528f0d58b090643c3c",
       "style": "IPY_MODEL_2a97fa574bf847c9be491f0f10d7eb01"
      }
     },
     "a59695778b3d40e1ac01303f9db801c6": {
      "model_module": "@jupyter-widgets/controls",
      "model_module_version": "1.5.0",
      "model_name": "BoxModel",
      "state": {
       "children": [
        "IPY_MODEL_c67bcac7bac14954b254f97bfc68ca11"
       ],
       "layout": "IPY_MODEL_cffc6be3f9864bafae2d4593cb5dcd10"
      }
     },
     "a59bd3e419a54563a15f1b4f5b546a6e": {
      "model_module": "@jupyter-widgets/controls",
      "model_module_version": "1.5.0",
      "model_name": "DescriptionStyleModel",
      "state": {
       "description_width": "initial"
      }
     },
     "a5f2e187f4454d94a40c93b230285101": {
      "model_module": "@jupyter-widgets/base",
      "model_module_version": "1.2.0",
      "model_name": "LayoutModel",
      "state": {}
     },
     "a6321bf3d019485ea258c6ebd37d2a4e": {
      "model_module": "@jupyter-widgets/base",
      "model_module_version": "1.2.0",
      "model_name": "LayoutModel",
      "state": {}
     },
     "a6632eeb54834fbfb49ea4d5bd2d25a1": {
      "model_module": "@jupyter-widgets/controls",
      "model_module_version": "1.5.0",
      "model_name": "CheckboxModel",
      "state": {
       "description": "Geoscience ANALYST Pro - Live link",
       "disabled": false,
       "indent": false,
       "layout": "IPY_MODEL_a6c954e0f84846be9b95da31e2cdf252",
       "style": "IPY_MODEL_6078b9da5ca2484e8038de50fffa8fae",
       "value": false
      }
     },
     "a6731cfa09d04f37a0f65d03e9e521d7": {
      "model_module": "@jupyter-widgets/controls",
      "model_module_version": "1.5.0",
      "model_name": "ButtonModel",
      "state": {
       "description": "Cancel",
       "layout": "IPY_MODEL_f6019e4ac78a48fd85a9bd1b3a5a4e24",
       "style": "IPY_MODEL_ab7072d059cd4638a8090240daeb45ca"
      }
     },
     "a6908f2586194f89ab326957565fd674": {
      "model_module": "@jupyter-widgets/base",
      "model_module_version": "1.2.0",
      "model_name": "LayoutModel",
      "state": {
       "display": "none",
       "grid_gap": "0px 0px",
       "grid_template_areas": "\n                    'pathlist filename'\n                    'dircontent dircontent'\n                    ",
       "grid_template_columns": "60% 40%",
       "grid_template_rows": "auto auto",
       "width": "auto"
      }
     },
     "a6af8bff052c43e1997f4d4f10912843": {
      "model_module": "@jupyter-widgets/controls",
      "model_module_version": "1.5.0",
      "model_name": "DescriptionStyleModel",
      "state": {
       "description_width": ""
      }
     },
     "a6bea12bc7d34f93b664f75fce94ac8d": {
      "model_module": "@jupyter-widgets/base",
      "model_module_version": "1.2.0",
      "model_name": "LayoutModel",
      "state": {}
     },
     "a6c954e0f84846be9b95da31e2cdf252": {
      "model_module": "@jupyter-widgets/base",
      "model_module_version": "1.2.0",
      "model_name": "LayoutModel",
      "state": {}
     },
     "a6cc7a2214464a7b8384b102f589da47": {
      "model_module": "@jupyter-widgets/base",
      "model_module_version": "1.2.0",
      "model_name": "LayoutModel",
      "state": {
       "grid_area": "pathlist",
       "width": "auto"
      }
     },
     "a6ebf53cf91f4dbdbd9faf6a35fb686b": {
      "model_module": "@jupyter-widgets/base",
      "model_module_version": "1.2.0",
      "model_name": "LayoutModel",
      "state": {}
     },
     "a7189f64748745eb9665fd59c10fe04d": {
      "model_module": "@jupyter-widgets/base",
      "model_module_version": "1.2.0",
      "model_name": "LayoutModel",
      "state": {}
     },
     "a7d193f6981f483ea48bb0aa78fadadb": {
      "model_module": "@jupyter-widgets/base",
      "model_module_version": "1.2.0",
      "model_name": "LayoutModel",
      "state": {}
     },
     "a862fd3cc34044e1b28550e03e84aa5a": {
      "model_module": "@jupyter-widgets/base",
      "model_module_version": "1.2.0",
      "model_name": "LayoutModel",
      "state": {}
     },
     "a87d8c72cc5a4bb9930b95e2d3946a65": {
      "model_module": "@jupyter-widgets/base",
      "model_module_version": "1.2.0",
      "model_name": "LayoutModel",
      "state": {}
     },
     "a88a971e500e41ef82dd5840cce88b67": {
      "model_module": "@jupyter-widgets/controls",
      "model_module_version": "1.5.0",
      "model_name": "DescriptionStyleModel",
      "state": {
       "description_width": ""
      }
     },
     "a8c3c79048054e139613953a59c77d77": {
      "model_module": "@jupyter-widgets/controls",
      "model_module_version": "1.5.0",
      "model_name": "DescriptionStyleModel",
      "state": {
       "description_width": "initial"
      }
     },
     "a8c4a2323b9346ac8d731ec594bb2bd1": {
      "model_module": "@jupyter-widgets/controls",
      "model_module_version": "1.5.0",
      "model_name": "HBoxModel",
      "state": {
       "children": [
        "IPY_MODEL_cab87b908cd041a9b6c464d552033b64",
        "IPY_MODEL_1d6c7275bfe6429b94a1a745cf5925dc",
        "IPY_MODEL_a50dc97e2acd47b092f3cc9321ee2ee3"
       ],
       "layout": "IPY_MODEL_d52e04aed0fd455f808ef61f4ab1a43b"
      }
     },
     "a8cb965d91964d50bc3184caf8760103": {
      "model_module": "@jupyter-widgets/controls",
      "model_module_version": "1.5.0",
      "model_name": "VBoxModel",
      "state": {
       "children": [
        "IPY_MODEL_dadbd07ea26d4f579cb7312b7ec8a448",
        "IPY_MODEL_ed3c029666c04c98995ceb2bf79b2dd9"
       ],
       "layout": "IPY_MODEL_a228082277804cd2a35f255a91cb8d26"
      }
     },
     "a8cedb30dcb3472db0477fb50778ba7d": {
      "model_module": "@jupyter-widgets/controls",
      "model_module_version": "1.5.0",
      "model_name": "HTMLModel",
      "state": {
       "layout": "IPY_MODEL_689172a02f314a6c8821a6d203f132d9",
       "placeholder": "",
       "style": "IPY_MODEL_e7e27cf8433a40f9a8731cba8e2580d0",
       "value": "<span style=\"color:orange;\">C:\\Users\\dominiquef\\Documents\\GIT\\mira\\geoapps\\assets\\FlinFlon.geoh5</span>"
      }
     },
     "a8cee4e93098459eb980edab85595c03": {
      "model_module": "@jupyter-widgets/controls",
      "model_module_version": "1.5.0",
      "model_name": "HBoxModel",
      "state": {
       "children": [
        "IPY_MODEL_2d11a4d344984de0a97e8f797dd76801",
        "IPY_MODEL_1cc30e5afac749108a00e85b1a36a359",
        "IPY_MODEL_9d6bc6e3a1b04438937dec00e45f140f"
       ],
       "layout": "IPY_MODEL_71bdccf267d847c1b963eaa94dac3fce"
      }
     },
     "a8da717945ab4df2898bd6ae0363c99a": {
      "model_module": "@jupyter-widgets/controls",
      "model_module_version": "1.5.0",
      "model_name": "DescriptionStyleModel",
      "state": {
       "description_width": ""
      }
     },
     "a8f4212a8b134410bfaa08eb4ec1a76e": {
      "model_module": "@jupyter-widgets/controls",
      "model_module_version": "1.5.0",
      "model_name": "HBoxModel",
      "state": {
       "children": [
        "IPY_MODEL_f31b5115e55b4057826017a7779c5fbd",
        "IPY_MODEL_94a04fa88b2b400dbe17d13bb2e9fc3d",
        "IPY_MODEL_1324799407ef44c2aae7ca7147f2e253"
       ],
       "layout": "IPY_MODEL_cd4c25fe9b204d19a2a567d5b2231211"
      }
     },
     "a915281991634da9ad857deaa6c05915": {
      "model_module": "@jupyter-widgets/base",
      "model_module_version": "1.2.0",
      "model_name": "LayoutModel",
      "state": {}
     },
     "a967bfa46fda4537b505ee936306afa4": {
      "model_module": "@jupyter-widgets/controls",
      "model_module_version": "1.5.0",
      "model_name": "DescriptionStyleModel",
      "state": {
       "description_width": ""
      }
     },
     "a97d9d23c7a74e69b859393c06b43794": {
      "model_module": "@jupyter-widgets/base",
      "model_module_version": "1.2.0",
      "model_name": "LayoutModel",
      "state": {}
     },
     "a9958eb647eb4d46824e54386560eec8": {
      "model_module": "@jupyter-widgets/base",
      "model_module_version": "1.2.0",
      "model_name": "LayoutModel",
      "state": {
       "display": "none",
       "min_width": "6em",
       "width": "6em"
      }
     },
     "a9a8af443f7e4b75b7d76e47dfd91cdc": {
      "model_module": "@jupyter-widgets/base",
      "model_module_version": "1.2.0",
      "model_name": "LayoutModel",
      "state": {}
     },
     "aa098a55c58245519566d08d09fa610b": {
      "model_module": "@jupyter-widgets/controls",
      "model_module_version": "1.5.0",
      "model_name": "DescriptionStyleModel",
      "state": {
       "description_width": ""
      }
     },
     "aa2062245db04845bcf1676a67b2f232": {
      "model_module": "@jupyter-widgets/controls",
      "model_module_version": "1.5.0",
      "model_name": "HTMLModel",
      "state": {
       "layout": "IPY_MODEL_7581272dd5ce486db147323a2be0f303",
       "placeholder": "",
       "style": "IPY_MODEL_7bde965a23804bd0be46dde4a11968fa",
       "value": "<span style=\"color:orange;\">C:\\Users\\dominiquef\\Documents\\GIT\\mira\\geoapps\\assets\\FlinFlon.geoh5</span>"
      }
     },
     "aa7d35c7573d45e49c23a3f3dea5a5ed": {
      "model_module": "@jupyter-widgets/controls",
      "model_module_version": "1.5.0",
      "model_name": "DescriptionStyleModel",
      "state": {
       "description_width": "initial"
      }
     },
     "aaae14da1595452390beec853058ea45": {
      "model_module": "@jupyter-widgets/controls",
      "model_module_version": "1.5.0",
      "model_name": "DescriptionStyleModel",
      "state": {
       "description_width": ""
      }
     },
     "aabde6330fc8463793932fc5587efba0": {
      "model_module": "@jupyter-widgets/controls",
      "model_module_version": "1.5.0",
      "model_name": "ButtonStyleModel",
      "state": {}
     },
     "aaf055900bfb43f1a957048d573bc52c": {
      "model_module": "@jupyter-widgets/base",
      "model_module_version": "1.2.0",
      "model_name": "LayoutModel",
      "state": {}
     },
     "ab1f02c0d9e6490284ae35d02bc57ca4": {
      "model_module": "@jupyter-widgets/base",
      "model_module_version": "1.2.0",
      "model_name": "LayoutModel",
      "state": {
       "min_width": "6em",
       "width": "6em"
      }
     },
     "ab410e4582194e528f0d58b090643c3c": {
      "model_module": "@jupyter-widgets/base",
      "model_module_version": "1.2.0",
      "model_name": "LayoutModel",
      "state": {}
     },
     "ab5d95370b2c4155ae8a05caf55ee882": {
      "model_module": "@jupyter-widgets/controls",
      "model_module_version": "1.5.0",
      "model_name": "GridBoxModel",
      "state": {
       "children": [
        "IPY_MODEL_5df320fb57bd4b0381c8a054532aa0a0",
        "IPY_MODEL_e0003ad8d52b453b8234b09350b48804",
        "IPY_MODEL_2890cd726b1b49f38ec141f5ab0de8eb"
       ],
       "layout": "IPY_MODEL_92f0fbf016e74c5fb45c128c9c4f23df"
      }
     },
     "ab7072d059cd4638a8090240daeb45ca": {
      "model_module": "@jupyter-widgets/controls",
      "model_module_version": "1.5.0",
      "model_name": "ButtonStyleModel",
      "state": {}
     },
     "ab75b98474024504bb09c5f414b963e9": {
      "model_module": "@jupyter-widgets/controls",
      "model_module_version": "1.5.0",
      "model_name": "ButtonModel",
      "state": {
       "button_style": "success",
       "description": "Compute",
       "icon": "check",
       "layout": "IPY_MODEL_80b81ffe3b2747b08fa45c0a77416777",
       "style": "IPY_MODEL_3909aef83bf5425abb760f4257b2bcd1",
       "tooltip": "Run computation"
      }
     },
     "ab8b5a6f66984693a53796b4fd209ec2": {
      "model_module": "@jupyter-widgets/controls",
      "model_module_version": "1.5.0",
      "model_name": "VBoxModel",
      "state": {
       "children": [
        "IPY_MODEL_b51749f3f65143b3bf6443235723ff52",
        "IPY_MODEL_58a9dcc11d4848fa93dffc9aa5a4e518",
        "IPY_MODEL_2631ff0819be425c83cdc45f143b28f2"
       ],
       "layout": "IPY_MODEL_2ded96b474f0462290b47dd42bc9c773"
      }
     },
     "ababc91b0a6f4c54a8aa980fd0a430d5": {
      "model_module": "@jupyter-widgets/controls",
      "model_module_version": "1.5.0",
      "model_name": "FloatSliderModel",
      "state": {
       "continuous_update": false,
       "description": "Easting",
       "layout": "IPY_MODEL_69ef6a43012945d8965a9d62deac0b86",
       "max": 319967.7557301139,
       "min": 311165.14860383794,
       "step": 10,
       "style": "IPY_MODEL_1a9d9b90e47d4799934c515ac172ff6e",
       "value": 314600
      }
     },
     "abd42a61f51d4ac6be08667303c7ff69": {
      "model_module": "@jupyter-widgets/controls",
      "model_module_version": "1.5.0",
      "model_name": "DescriptionStyleModel",
      "state": {
       "description_width": ""
      }
     },
     "abd4a0639d21431ebca61391d36e65b4": {
      "model_module": "@jupyter-widgets/base",
      "model_module_version": "1.2.0",
      "model_name": "LayoutModel",
      "state": {}
     },
     "ac12231773424033a517305e5ed26f13": {
      "model_module": "@jupyter-widgets/controls",
      "model_module_version": "1.5.0",
      "model_name": "DescriptionStyleModel",
      "state": {
       "description_width": ""
      }
     },
     "ac312e3edd654462abb99ef1dfa58adf": {
      "model_module": "@jupyter-widgets/controls",
      "model_module_version": "1.5.0",
      "model_name": "HBoxModel",
      "state": {
       "children": [
        "IPY_MODEL_35771c3693e1450589f2e3234a986dcf",
        "IPY_MODEL_736f60fbf78e4698aa4fd2239d41801a",
        "IPY_MODEL_658a39ace3d84092aac45e849ad53172"
       ],
       "layout": "IPY_MODEL_fc21318869134fabb52e976222d763fe"
      }
     },
     "ac40520d68ff447cbff72a589355f02f": {
      "model_module": "@jupyter-widgets/controls",
      "model_module_version": "1.5.0",
      "model_name": "DescriptionStyleModel",
      "state": {
       "description_width": ""
      }
     },
     "ac60b285db7e43e2860ee624752d66a5": {
      "model_module": "@jupyter-widgets/controls",
      "model_module_version": "1.5.0",
      "model_name": "DescriptionStyleModel",
      "state": {
       "description_width": "initial"
      }
     },
     "ac78a7ee31fb487f9314d6a226ea56df": {
      "model_module": "@jupyter-widgets/controls",
      "model_module_version": "1.5.0",
      "model_name": "DescriptionStyleModel",
      "state": {
       "description_width": ""
      }
     },
     "aca5b01ca94e4cee8e94075ed17b2c9a": {
      "model_module": "@jupyter-widgets/controls",
      "model_module_version": "1.5.0",
      "model_name": "DescriptionStyleModel",
      "state": {
       "description_width": ""
      }
     },
     "acb43a1e94d148b6ac9a70ba59b604cc": {
      "model_module": "@jupyter-widgets/controls",
      "model_module_version": "1.5.0",
      "model_name": "SelectModel",
      "state": {
       "_options_labels": [
        "📁 ..",
        "📁 SimPEG_PFInversion",
        "📁 Temp"
       ],
       "index": null,
       "layout": "IPY_MODEL_be7273b976514dc1bd56b5120a94d167",
       "rows": 8,
       "style": "IPY_MODEL_d769264ef6b54193adb883dd5eff7878"
      }
     },
     "acebc8faed4943d29902da10576083c7": {
      "model_module": "@jupyter-widgets/controls",
      "model_module_version": "1.5.0",
      "model_name": "HTMLModel",
      "state": {
       "layout": "IPY_MODEL_c6e2719dc88149aba023ad4f76c5df42",
       "placeholder": "",
       "style": "IPY_MODEL_a88a971e500e41ef82dd5840cce88b67",
       "value": "<span style=\"color:orange;\">C:\\Users\\dominiquef\\Documents\\GIT\\mira\\geoapps\\assets\\FlinFlon.geoh5</span>"
      }
     },
     "ad0a0fd09c5d4288a21a580616395eaa": {
      "model_module": "@jupyter-widgets/base",
      "model_module_version": "1.2.0",
      "model_name": "LayoutModel",
      "state": {}
     },
     "ad33b46b42f84b109cad4db7c67e0c0c": {
      "model_module": "@jupyter-widgets/base",
      "model_module_version": "1.2.0",
      "model_name": "LayoutModel",
      "state": {
       "grid_area": "dircontent",
       "width": "auto"
      }
     },
     "ad4e4597afe844d087538db880b177b8": {
      "model_module": "@jupyter-widgets/controls",
      "model_module_version": "1.5.0",
      "model_name": "ButtonModel",
      "state": {
       "description": "Change",
       "layout": "IPY_MODEL_761b5dd0f2ed4d53875d727622d80e62",
       "style": "IPY_MODEL_136e63c58ebb4baf9be45a1603f20d68"
      }
     },
     "ad91fe80b68d4316945303d13c38b7fb": {
      "model_module": "@jupyter-widgets/controls",
      "model_module_version": "1.5.0",
      "model_name": "HBoxModel",
      "state": {
       "children": [
        "IPY_MODEL_8b16c675a01f485db99f400cfe5bf88b",
        "IPY_MODEL_db008ae5837d4dcf9781ff86619a9867"
       ],
       "layout": "IPY_MODEL_a2afdcd17aea438a80f6da3932335d36"
      }
     },
     "ad9f5ef1b95043d18f1a9bfa1a158e2a": {
      "model_module": "@jupyter-widgets/controls",
      "model_module_version": "1.5.0",
      "model_name": "TextModel",
      "state": {
       "layout": "IPY_MODEL_81476fdbe92644c097b275d91e490301",
       "placeholder": "output filename",
       "style": "IPY_MODEL_448e7d6a1caf4fd1ad86f6a0cdc41ea1",
       "value": "FlinFlon.geoh5"
      }
     },
     "ada9a5dae68a437b85215af50f43c591": {
      "model_module": "@jupyter-widgets/base",
      "model_module_version": "1.2.0",
      "model_name": "LayoutModel",
      "state": {}
     },
     "add942153eb441a3b9722d700cdafd7f": {
      "model_module": "@jupyter-widgets/controls",
      "model_module_version": "1.5.0",
      "model_name": "DescriptionStyleModel",
      "state": {
       "description_width": ""
      }
     },
     "ade64f0c24df4cf1aeeaa29d11c447db": {
      "model_module": "@jupyter-widgets/base",
      "model_module_version": "1.2.0",
      "model_name": "LayoutModel",
      "state": {}
     },
     "ae4a9a0a35f14f0889d3f42c3b50bacf": {
      "model_module": "@jupyter-widgets/base",
      "model_module_version": "1.2.0",
      "model_name": "LayoutModel",
      "state": {}
     },
     "ae5c55cfd4854a34a491064c25c592c0": {
      "model_module": "@jupyter-widgets/controls",
      "model_module_version": "1.5.0",
      "model_name": "DescriptionStyleModel",
      "state": {
       "description_width": ""
      }
     },
     "ae7f656e41f24d079b4e688eb00f3aac": {
      "model_module": "@jupyter-widgets/controls",
      "model_module_version": "1.5.0",
      "model_name": "DescriptionStyleModel",
      "state": {
       "description_width": "initial"
      }
     },
     "ae9bba22af5b486f8b42c6124ced8793": {
      "model_module": "@jupyter-widgets/controls",
      "model_module_version": "1.5.0",
      "model_name": "DescriptionStyleModel",
      "state": {
       "description_width": "initial"
      }
     },
     "aec89ff7faab49278c03992794d78e83": {
      "model_module": "@jupyter-widgets/controls",
      "model_module_version": "1.5.0",
      "model_name": "CheckboxModel",
      "state": {
       "description": "Geoscience ANALYST Pro - Live link",
       "disabled": false,
       "indent": false,
       "layout": "IPY_MODEL_62b7482dcd4245b9a06f24250cf7e213",
       "style": "IPY_MODEL_b53a0e2c3e5443ed881b29b5f5e3ed43",
       "value": false
      }
     },
     "aedbef5b01714a33b3633eb5c9f1756a": {
      "model_module": "@jupyter-widgets/base",
      "model_module_version": "1.2.0",
      "model_name": "LayoutModel",
      "state": {
       "display": "none",
       "grid_gap": "0px 0px",
       "grid_template_areas": "\n                    'pathlist filename'\n                    'dircontent dircontent'\n                    ",
       "grid_template_columns": "60% 40%",
       "grid_template_rows": "auto auto",
       "width": "auto"
      }
     },
     "af2c60052f27457994910a59691e2256": {
      "model_module": "@jupyter-widgets/base",
      "model_module_version": "1.2.0",
      "model_name": "LayoutModel",
      "state": {}
     },
     "af75f4cef415454e9d7fa31641e8edc7": {
      "model_module": "@jupyter-widgets/controls",
      "model_module_version": "1.5.0",
      "model_name": "FloatTextModel",
      "state": {
       "description": "Elevation (m)",
       "layout": "IPY_MODEL_6cfecd44f1b34885b0e6973618f33bcc",
       "step": null,
       "style": "IPY_MODEL_8f7c57eb6b2a4fc78428c7c1e0697d46"
      }
     },
     "af8ba9f76a494198accf78244318d0f5": {
      "model_module": "@jupyter-widgets/controls",
      "model_module_version": "1.5.0",
      "model_name": "LabelModel",
      "state": {
       "layout": "IPY_MODEL_fec0fe9b58554752ab0c723b97a279c6",
       "style": "IPY_MODEL_a8c3c79048054e139613953a59c77d77",
       "value": "Monitoring folder"
      }
     },
     "af8ed66f844e43d2b6096bc756d3928a": {
      "model_module": "@jupyter-widgets/base",
      "model_module_version": "1.2.0",
      "model_name": "LayoutModel",
      "state": {}
     },
     "afab9cb858c84466be7a3389cefc6a31": {
      "model_module": "@jupyter-widgets/base",
      "model_module_version": "1.2.0",
      "model_name": "LayoutModel",
      "state": {}
     },
     "afdf38a0583f41b293f6e128a4061b9d": {
      "model_module": "@jupyter-widgets/controls",
      "model_module_version": "1.5.0",
      "model_name": "ButtonStyleModel",
      "state": {}
     },
     "aff8e6d3c7f14ea8a5d45a99a1c31835": {
      "model_module": "@jupyter-widgets/base",
      "model_module_version": "1.2.0",
      "model_name": "LayoutModel",
      "state": {
       "display": "none",
       "min_width": "6em",
       "width": "6em"
      }
     },
     "b02d71f42f1e45e98cf97d4b8d62c2ae": {
      "model_module": "@jupyter-widgets/controls",
      "model_module_version": "1.5.0",
      "model_name": "DropdownModel",
      "state": {
       "_options_labels": [
        "",
        "Airborne_Gxx",
        "Airborne_Gxy",
        "Airborne_Gxz",
        "Airborne_Gyy",
        "Airborne_Gyz",
        "Airborne_Gz",
        "Airborne_Gzz",
        "Airborne_TMI",
        "Ground_Gz"
       ],
       "description": "Channel:",
       "index": 8,
       "layout": "IPY_MODEL_59a15f8215d64717b83cbc5ebc9a21d3",
       "style": "IPY_MODEL_cd37b80b34644ec5aadb5c4d3f7d2ae5"
      }
     },
     "b04b05b1f84c45358f7bcb50ca089425": {
      "model_module": "@jupyter-widgets/base",
      "model_module_version": "1.2.0",
      "model_name": "LayoutModel",
      "state": {}
     },
     "b08eec91a861431db08925a7be2dafc1": {
      "model_module": "@jupyter-widgets/controls",
      "model_module_version": "1.5.0",
      "model_name": "DescriptionStyleModel",
      "state": {
       "description_width": "initial"
      }
     },
     "b0924e67e63342739f996096347c1f65": {
      "model_module": "@jupyter-widgets/controls",
      "model_module_version": "1.5.0",
      "model_name": "DescriptionStyleModel",
      "state": {
       "description_width": "initial"
      }
     },
     "b0cd83d4214949a392595d85317da2a5": {
      "model_module": "@jupyter-widgets/controls",
      "model_module_version": "1.5.0",
      "model_name": "ButtonModel",
      "state": {
       "description": "Cancel",
       "layout": "IPY_MODEL_be3244d3c2ac4bf98f26c92534f55ad5",
       "style": "IPY_MODEL_706279df8ce347b6a2278bb2bc8ed9bc"
      }
     },
     "b0d1ca9646204aa4ad221f2cda6b1d1a": {
      "model_module": "@jupyter-widgets/controls",
      "model_module_version": "1.5.0",
      "model_name": "FloatTextModel",
      "state": {
       "description": "Target misfit",
       "layout": "IPY_MODEL_120478a06d1441e190a3368c9e8af09f",
       "step": null,
       "style": "IPY_MODEL_3515bbc1a1544e508e216d5ea03fc68a",
       "value": 1
      }
     },
     "b0f7fbf95ec140419d4ecdac5ed1bd34": {
      "model_module": "@jupyter-widgets/controls",
      "model_module_version": "1.5.0",
      "model_name": "GridBoxModel",
      "state": {
       "children": [
        "IPY_MODEL_945af7c8d14b43c3a0eadcc0f31f7dcc",
        "IPY_MODEL_c48b6d3c9d8041159a91ca98aaa2047f",
        "IPY_MODEL_4fa0134a8ca64493a15165772db9ef80"
       ],
       "layout": "IPY_MODEL_fd3c85a1beb341d3ba581de8465e99f1"
      }
     },
     "b1266ecbaaf145bf921ab075a44cdefe": {
      "model_module": "@jupyter-widgets/controls",
      "model_module_version": "1.5.0",
      "model_name": "BoxModel",
      "state": {
       "children": [
        "IPY_MODEL_aa2062245db04845bcf1676a67b2f232"
       ],
       "layout": "IPY_MODEL_f61a9c83d5f7416895a12096ba1d64a9"
      }
     },
     "b12aa202c13b448f91f6b2ccc15bb6d0": {
      "model_module": "@jupyter-widgets/controls",
      "model_module_version": "1.5.0",
      "model_name": "TextModel",
      "state": {
       "layout": "IPY_MODEL_874330aeab134893b4d6732d82a94e45",
       "placeholder": "output filename",
       "style": "IPY_MODEL_cccc45cba7be4ab8ad8e55f4c8c0bf26",
       "value": "FlinFlon.geoh5"
      }
     },
     "b14902153701452ab112246174c941f3": {
      "model_module": "@jupyter-widgets/controls",
      "model_module_version": "1.5.0",
      "model_name": "DescriptionStyleModel",
      "state": {
       "description_width": ""
      }
     },
     "b19116fa319448aa9f8698e1e4747efa": {
      "model_module": "@jupyter-widgets/controls",
      "model_module_version": "1.5.0",
      "model_name": "DescriptionStyleModel",
      "state": {
       "description_width": "initial"
      }
     },
     "b1dfa9330cd744a8a638a1836b0bd548": {
      "model_module": "@jupyter-widgets/base",
      "model_module_version": "1.2.0",
      "model_name": "LayoutModel",
      "state": {}
     },
     "b1f8392e3e3847f6ab00012a0b272717": {
      "model_module": "@jupyter-widgets/controls",
      "model_module_version": "1.5.0",
      "model_name": "DropdownModel",
      "state": {
       "_options_labels": [
        "",
        "ISO/Iso_Iteration_7_model_5_00e-03",
        "ISO/Iso_Iteration_7_model_1_50e-02",
        "ISO/Iso_Iteration_7_model_2_50e-03",
        "ISO/Iso_Iteration_7_model_1_00e-02",
        "ISO/Iso_Iteration_7_model_2_00e-02",
        "Ore/39_Ore_Callinan",
        "Ore/38_Ore_Dan_Owens",
        "Ore/40_Ore_FlinFlon",
        "CDI/COND_surface",
        "CDI/COND[8]_surface",
        "CDI/COND[18]_surface",
        "CDI/COND[3]_surface",
        "CDI/COND[13]_surface",
        "CDI/CDI_",
        "Workspace/InterpGrid",
        "Workspace/Inversion_VTEM_Model",
        "Workspace/InterpGrid",
        "Workspace/CDI_VTEM_model",
        "Workspace/Data_FEM_pseudo3D",
        "Workspace/O2O_Interp_25m",
        "Workspace/geochem",
        "Workspace/Inversion_DIGHEM_Model",
        "Workspace/InterpGrid",
        "Workspace/Topography",
        "Workspace/Data_TEM_pseudo3D",
        "Workspace/Data_ZTEM",
        "Workspace/Mesh",
        "Workspace/InterpGrid"
       ],
       "description": "Object",
       "index": 0,
       "layout": "IPY_MODEL_64515ab651ef42a8bf8e76c8c854a25f",
       "style": "IPY_MODEL_16f91704f83345e391e3700350b0040e"
      }
     },
     "b269962202ed47b98c090b17d23722fa": {
      "model_module": "@jupyter-widgets/controls",
      "model_module_version": "1.5.0",
      "model_name": "VBoxModel",
      "state": {
       "children": [
        "IPY_MODEL_6d9fa03924b94f6fae3d77bc0ed2e61b"
       ],
       "layout": "IPY_MODEL_070dc511dd5a44fd933f34f594fc899f"
      }
     },
     "b299279f8be64e46acb8aa50878cecec": {
      "model_module": "@jupyter-widgets/base",
      "model_module_version": "1.2.0",
      "model_name": "LayoutModel",
      "state": {}
     },
     "b2a6d95497ac402f8261e534555e668f": {
      "model_module": "@jupyter-widgets/controls",
      "model_module_version": "1.5.0",
      "model_name": "DescriptionStyleModel",
      "state": {
       "description_width": "initial"
      }
     },
     "b2a95c889f914488b5b9d810763aefca": {
      "model_module": "@jupyter-widgets/controls",
      "model_module_version": "1.5.0",
      "model_name": "ButtonStyleModel",
      "state": {}
     },
     "b2c9e153228a48e98b2c7dd95da0d432": {
      "model_module": "@jupyter-widgets/controls",
      "model_module_version": "1.5.0",
      "model_name": "VBoxModel",
      "state": {
       "children": [
        "IPY_MODEL_f4cd78fb3346432f896161d9663ea76a",
        "IPY_MODEL_1f42e98dfe26497f9c83b8544d709929"
       ],
       "layout": "IPY_MODEL_8053906c54664415898f7b2c38382813"
      }
     },
     "b2d83ccada9346f2943e18449b6afd54": {
      "model_module": "@jupyter-widgets/controls",
      "model_module_version": "1.5.0",
      "model_name": "ButtonStyleModel",
      "state": {}
     },
     "b2eac11b109f4ac1b57309532a5b5980": {
      "model_module": "@jupyter-widgets/controls",
      "model_module_version": "1.5.0",
      "model_name": "LabelModel",
      "state": {
       "layout": "IPY_MODEL_e7c2450be492493381cde7ae3ad0082c",
       "style": "IPY_MODEL_f6b2d666c4ba4d52a8e5265d32470943",
       "value": "Uncertainties"
      }
     },
     "b2fcc74fd61740dc870847f1f06eb0f9": {
      "model_module": "@jupyter-widgets/base",
      "model_module_version": "1.2.0",
      "model_name": "LayoutModel",
      "state": {}
     },
     "b315b94c697c4e128e764beca8c869dc": {
      "model_module": "@jupyter-widgets/controls",
      "model_module_version": "1.5.0",
      "model_name": "ButtonStyleModel",
      "state": {}
     },
     "b32838505de64627897397db69a13e53": {
      "model_module": "@jupyter-widgets/controls",
      "model_module_version": "1.5.0",
      "model_name": "VBoxModel",
      "state": {
       "children": [
        "IPY_MODEL_bb2615173e604147b38d99f4c379fab0",
        "IPY_MODEL_999a6e2826e84c2591d55e54795148c3"
       ],
       "layout": "IPY_MODEL_83a34bfec62d4d23a849b8fbf81da1ce"
      }
     },
     "b3c0b94789794439acc59aef8a656c8f": {
      "model_module": "@jupyter-widgets/controls",
      "model_module_version": "1.5.0",
      "model_name": "DescriptionStyleModel",
      "state": {
       "description_width": ""
      }
     },
     "b3e6ae1525f8472f8e8e4bd5b43f9978": {
      "model_module": "@jupyter-widgets/base",
      "model_module_version": "1.2.0",
      "model_name": "LayoutModel",
      "state": {}
     },
     "b431783223f74b5981191b4e7338fcfc": {
      "model_module": "@jupyter-widgets/base",
      "model_module_version": "1.2.0",
      "model_name": "LayoutModel",
      "state": {
       "grid_area": "pathlist",
       "width": "auto"
      }
     },
     "b45df2b80c674899aeb47aa5b3e2a811": {
      "model_module": "@jupyter-widgets/base",
      "model_module_version": "1.2.0",
      "model_name": "LayoutModel",
      "state": {}
     },
     "b45f230275364f8d9cdb5449e0089be3": {
      "model_module": "@jupyter-widgets/controls",
      "model_module_version": "1.5.0",
      "model_name": "LabelModel",
      "state": {
       "layout": "IPY_MODEL_b51126a987bd458aba31c9f8bfce7923",
       "style": "IPY_MODEL_2ce3cd1eb4574669ac7139f67f54cb55",
       "value": "Monitoring folder"
      }
     },
     "b477a4dab6414f64859db4ebf9ca82d7": {
      "model_module": "@jupyter-widgets/controls",
      "model_module_version": "1.5.0",
      "model_name": "VBoxModel",
      "state": {
       "children": [
        "IPY_MODEL_8a0c426dc3cc4609bd24e91498fe1c2b",
        "IPY_MODEL_00c484e941a740158452d453f20b558b"
       ],
       "layout": "IPY_MODEL_2e0b36e79b574ecdae6efe155dcd88eb"
      }
     },
     "b49bc02eba4341628cfcb17108947661": {
      "model_module": "@jupyter-widgets/controls",
      "model_module_version": "1.5.0",
      "model_name": "CheckboxModel",
      "state": {
       "description": "Active",
       "disabled": false,
       "indent": false,
       "layout": "IPY_MODEL_a87d8c72cc5a4bb9930b95e2d3946a65",
       "style": "IPY_MODEL_6ff7f3342fcf464ea509529251933e21",
       "value": false
      }
     },
     "b4c32a7ddc15445da08dbe6ee8bffcdd": {
      "model_module": "@jupyter-widgets/controls",
      "model_module_version": "1.5.0",
      "model_name": "DropdownModel",
      "state": {
       "description": "Values",
       "index": null,
       "layout": "IPY_MODEL_79734b71041745c0a9080fcd0372fa73",
       "style": "IPY_MODEL_04611f62efe44de0adb316ac4a3a8116"
      }
     },
     "b4e308a1fd1c40aba8fcee4c2ac192ad": {
      "model_module": "@jupyter-widgets/controls",
      "model_module_version": "1.5.0",
      "model_name": "DropdownModel",
      "state": {
       "_options_labels": [
        "C:\\Users\\dominiquef\\Documents\\GIT\\mira\\geoapps\\assets",
        "C:\\Users\\dominiquef\\Documents\\GIT\\mira\\geoapps",
        "C:\\Users\\dominiquef\\Documents\\GIT\\mira",
        "C:\\Users\\dominiquef\\Documents\\GIT",
        "C:\\Users\\dominiquef\\Documents",
        "C:\\Users\\dominiquef",
        "C:\\Users",
        "C:\\",
        "G:\\",
        "\\\\EgnyteDrive\\mirageoscience\\",
        "D:\\"
       ],
       "index": 0,
       "layout": "IPY_MODEL_8883c81708c94dfa9652a4c2979e4fd8",
       "style": "IPY_MODEL_03998f129d6e4e05891d7d0a6a4c5cfe"
      }
     },
     "b4e6699fa41443b8b9320fe2d4cfeb4d": {
      "model_module": "@jupyter-widgets/controls",
      "model_module_version": "1.5.0",
      "model_name": "DescriptionStyleModel",
      "state": {
       "description_width": ""
      }
     },
     "b4ee416c06584f46a0e3ea9406269dfb": {
      "model_module": "@jupyter-widgets/controls",
      "model_module_version": "1.5.0",
      "model_name": "DescriptionStyleModel",
      "state": {
       "description_width": "initial"
      }
     },
     "b4f7865a1b2c49a4a01e915faa3b45d7": {
      "model_module": "@jupyter-widgets/controls",
      "model_module_version": "1.5.0",
      "model_name": "ButtonStyleModel",
      "state": {}
     },
     "b4f875a3b201426da90bf056ba2f55d0": {
      "model_module": "@jupyter-widgets/controls",
      "model_module_version": "1.5.0",
      "model_name": "VBoxModel",
      "state": {
       "children": [
        "IPY_MODEL_94583866965141b196fd35435ca6aea9",
        "IPY_MODEL_3ebfc5e3b20c4455905b998d32f8e2fb",
        "IPY_MODEL_09a8edb583e44ed6b6f4ded0f5f0abc9"
       ],
       "layout": "IPY_MODEL_2ded96b474f0462290b47dd42bc9c773"
      }
     },
     "b4fbf245ec0b4bb4a5452e093035efa3": {
      "model_module": "@jupyter-widgets/controls",
      "model_module_version": "1.5.0",
      "model_name": "FloatTextModel",
      "state": {
       "description": "Floor:",
       "layout": "IPY_MODEL_98da229b5bd5405d9e69454a9d5f2d25",
       "step": null,
       "style": "IPY_MODEL_84c7bcd31daf427c9fa8aebd9b8b89bd",
       "value": 1
      }
     },
     "b51126a987bd458aba31c9f8bfce7923": {
      "model_module": "@jupyter-widgets/base",
      "model_module_version": "1.2.0",
      "model_name": "LayoutModel",
      "state": {}
     },
     "b51749f3f65143b3bf6443235723ff52": {
      "model_module": "@jupyter-widgets/controls",
      "model_module_version": "1.5.0",
      "model_name": "HTMLModel",
      "state": {
       "layout": "IPY_MODEL_1463761cf4e94be9bd050e6ac3bd5c9a",
       "style": "IPY_MODEL_d58af0b6bfcf4b8b8a39a7cef0347d57"
      }
     },
     "b5374d1351594eddbc948fd4694a4695": {
      "model_module": "@jupyter-widgets/controls",
      "model_module_version": "1.5.0",
      "model_name": "DescriptionStyleModel",
      "state": {
       "description_width": "initial"
      }
     },
     "b53a0e2c3e5443ed881b29b5f5e3ed43": {
      "model_module": "@jupyter-widgets/controls",
      "model_module_version": "1.5.0",
      "model_name": "DescriptionStyleModel",
      "state": {
       "description_width": "initial"
      }
     },
     "b53a8f84e30c4e669987bf4046755668": {
      "model_module": "@jupyter-widgets/base",
      "model_module_version": "1.2.0",
      "model_name": "LayoutModel",
      "state": {}
     },
     "b547eed06d2e4f1c802be59f067e2b55": {
      "model_module": "@jupyter-widgets/controls",
      "model_module_version": "1.5.0",
      "model_name": "DescriptionStyleModel",
      "state": {
       "description_width": ""
      }
     },
     "b54efe8c935e484b9ee47c60a105352f": {
      "model_module": "@jupyter-widgets/base",
      "model_module_version": "1.2.0",
      "model_name": "LayoutModel",
      "state": {
       "display": "none",
       "min_width": "6em",
       "width": "6em"
      }
     },
     "b566fab94d39401c994c652e9ed356d8": {
      "model_module": "@jupyter-widgets/controls",
      "model_module_version": "1.5.0",
      "model_name": "DescriptionStyleModel",
      "state": {
       "description_width": ""
      }
     },
     "b57d3dcf4a584dfdb2d0436c996957ca": {
      "model_module": "@jupyter-widgets/base",
      "model_module_version": "1.2.0",
      "model_name": "LayoutModel",
      "state": {
       "overflow": "auto"
      }
     },
     "b59b86c63fd54b1fba2209ed81f8aadc": {
      "model_module": "@jupyter-widgets/controls",
      "model_module_version": "1.5.0",
      "model_name": "ButtonModel",
      "state": {
       "description": "Cancel",
       "layout": "IPY_MODEL_f7b71873886444299d05f2017ee8042d",
       "style": "IPY_MODEL_e42f8a46876042ff965583d17cf9abc5"
      }
     },
     "b5a7f85cbac342fd8ce5b74093ab366c": {
      "model_module": "@jupyter-widgets/controls",
      "model_module_version": "1.5.0",
      "model_name": "VBoxModel",
      "state": {
       "children": [
        "IPY_MODEL_10f2215b0d234d5ea3aca545660b112c",
        "IPY_MODEL_a47f0afd37ad4ebc8ea6e1134a208fd5"
       ],
       "layout": "IPY_MODEL_ccb5436129274a7ba5a05009a9253d47"
      }
     },
     "b5cb9e4e7bda49deb00800961ee38389": {
      "model_module": "@jupyter-widgets/controls",
      "model_module_version": "1.5.0",
      "model_name": "DescriptionStyleModel",
      "state": {
       "description_width": ""
      }
     },
     "b5d3d339b7b14fb9a179463e0042fafb": {
      "model_module": "@jupyter-widgets/base",
      "model_module_version": "1.2.0",
      "model_name": "LayoutModel",
      "state": {}
     },
     "b60554ac6d9543df97f92e1ddaff7e7c": {
      "model_module": "@jupyter-widgets/base",
      "model_module_version": "1.2.0",
      "model_name": "LayoutModel",
      "state": {
       "width": "auto"
      }
     },
     "b616c71bbb624dea8f0cc2f7fac8a03c": {
      "model_module": "@jupyter-widgets/base",
      "model_module_version": "1.2.0",
      "model_name": "LayoutModel",
      "state": {
       "display": "none",
       "grid_area": "filename",
       "width": "auto"
      }
     },
     "b62d8c7c4b634a75a7e503909bf72ec3": {
      "model_module": "@jupyter-widgets/controls",
      "model_module_version": "1.5.0",
      "model_name": "ButtonStyleModel",
      "state": {}
     },
     "b64dcfc441ef46c48d99e06909704b3d": {
      "model_module": "@jupyter-widgets/base",
      "model_module_version": "1.2.0",
      "model_name": "LayoutModel",
      "state": {
       "display": "none",
       "grid_gap": "0px 0px",
       "grid_template_areas": "\n                    'pathlist pathlist'\n                    'dircontent dircontent'\n                    ",
       "grid_template_columns": "60% 40%",
       "grid_template_rows": "auto auto",
       "width": "auto"
      }
     },
     "b697755d417c4fb684c0b239d9d0c547": {
      "model_module": "@jupyter-widgets/base",
      "model_module_version": "1.2.0",
      "model_name": "LayoutModel",
      "state": {
       "display": "none",
       "min_width": "6em",
       "width": "6em"
      }
     },
     "b6b9c5ae26c24aca9a62b80f55ac0372": {
      "model_module": "@jupyter-widgets/controls",
      "model_module_version": "1.5.0",
      "model_name": "ButtonStyleModel",
      "state": {}
     },
     "b6c30a6280d0432d856ad2621b39c5c1": {
      "model_module": "@jupyter-widgets/controls",
      "model_module_version": "1.5.0",
      "model_name": "ButtonModel",
      "state": {
       "description": "Cancel",
       "layout": "IPY_MODEL_3365a49d692e42c59a597dccea5f4129",
       "style": "IPY_MODEL_895ce2ac9cd24327b7ca9d73a7d19ac7"
      }
     },
     "b6c400b26a774be69acc33112eb65bd3": {
      "model_module": "@jupyter-widgets/base",
      "model_module_version": "1.2.0",
      "model_name": "LayoutModel",
      "state": {}
     },
     "b6c888c201fc40ee9052254046548259": {
      "model_module": "@jupyter-widgets/controls",
      "model_module_version": "1.5.0",
      "model_name": "VBoxModel",
      "state": {
       "children": [
        "IPY_MODEL_e2c0d05de5c54a6dbbd8dc216055f681"
       ],
       "layout": "IPY_MODEL_307797d4ad354f928bde7478e2a6a630"
      }
     },
     "b6e2bdf1065c4bd2b3c81eaac890840d": {
      "model_module": "@jupyter-widgets/controls",
      "model_module_version": "1.5.0",
      "model_name": "DescriptionStyleModel",
      "state": {
       "description_width": "initial"
      }
     },
     "b6fbc205ec8f47e19f77e5e2a6219c13": {
      "model_module": "@jupyter-widgets/controls",
      "model_module_version": "1.5.0",
      "model_name": "DescriptionStyleModel",
      "state": {
       "description_width": "initial"
      }
     },
     "b6fde39fcfc24cd49d39d692d34fd2af": {
      "model_module": "@jupyter-widgets/base",
      "model_module_version": "1.2.0",
      "model_name": "LayoutModel",
      "state": {}
     },
     "b72d4d9118024c3a851f35486c3cdfcd": {
      "model_module": "@jupyter-widgets/controls",
      "model_module_version": "1.5.0",
      "model_name": "DescriptionStyleModel",
      "state": {
       "description_width": ""
      }
     },
     "b74f1c15c4584b6cbc674f922faf9622": {
      "model_module": "@jupyter-widgets/controls",
      "model_module_version": "1.5.0",
      "model_name": "DescriptionStyleModel",
      "state": {
       "description_width": "initial"
      }
     },
     "b78f7e9ceaa443849ed087d5205b4547": {
      "model_module": "@jupyter-widgets/base",
      "model_module_version": "1.2.0",
      "model_name": "LayoutModel",
      "state": {
       "display": "none",
       "grid_area": "filename",
       "width": "auto"
      }
     },
     "b795df31a470463c8cb1be0a6d980660": {
      "model_module": "@jupyter-widgets/controls",
      "model_module_version": "1.5.0",
      "model_name": "RadioButtonsModel",
      "state": {
       "_options_labels": [
        "Constant",
        "Model"
       ],
       "index": 0,
       "layout": "IPY_MODEL_2e1f8417f29749ad8dad440b941c8550",
       "style": "IPY_MODEL_3b32727e310345669a4dd8a6a1f5e14c"
      }
     },
     "b7b4f0de13ca4a708cba98e683b7d7da": {
      "model_module": "@jupyter-widgets/base",
      "model_module_version": "1.2.0",
      "model_name": "LayoutModel",
      "state": {
       "min_width": "6em",
       "width": "6em"
      }
     },
     "b808d65fcc9942c5a78d4ab101d09331": {
      "model_module": "@jupyter-widgets/base",
      "model_module_version": "1.2.0",
      "model_name": "LayoutModel",
      "state": {}
     },
     "b81eb425ac8a4a94a541de945b148083": {
      "model_module": "@jupyter-widgets/base",
      "model_module_version": "1.2.0",
      "model_name": "LayoutModel",
      "state": {}
     },
     "b848729602934aada4cf4f4915b34f84": {
      "model_module": "@jupyter-widgets/base",
      "model_module_version": "1.2.0",
      "model_name": "LayoutModel",
      "state": {}
     },
     "b8626502f78644e1a9e11891695f381e": {
      "model_module": "@jupyter-widgets/base",
      "model_module_version": "1.2.0",
      "model_name": "LayoutModel",
      "state": {
       "margin": "0 0 0 1em"
      }
     },
     "b8753a41c7d64709837a73ea37a63b62": {
      "model_module": "@jupyter-widgets/controls",
      "model_module_version": "1.5.0",
      "model_name": "DropdownModel",
      "state": {
       "_options_labels": [
        "",
        "ISO/Iso_Iteration_7_model_5_00e-03",
        "ISO/Iso_Iteration_7_model_1_50e-02",
        "ISO/Iso_Iteration_7_model_2_50e-03",
        "ISO/Iso_Iteration_7_model_1_00e-02",
        "ISO/Iso_Iteration_7_model_2_00e-02",
        "Ore/39_Ore_Callinan",
        "Ore/38_Ore_Dan_Owens",
        "Ore/40_Ore_FlinFlon",
        "CDI/COND_surface",
        "CDI/COND[8]_surface",
        "CDI/COND[18]_surface",
        "CDI/COND[3]_surface",
        "CDI/COND[13]_surface",
        "CDI/CDI_",
        "Workspace/InterpGrid",
        "Workspace/Inversion_VTEM_Model",
        "Workspace/InterpGrid",
        "Workspace/CDI_VTEM_model",
        "Workspace/Data_FEM_pseudo3D",
        "Workspace/O2O_Interp_25m",
        "Workspace/geochem",
        "Workspace/Inversion_DIGHEM_Model",
        "Workspace/InterpGrid",
        "Workspace/Topography",
        "Workspace/Data_TEM_pseudo3D",
        "Workspace/Data_ZTEM",
        "Workspace/Mesh",
        "Workspace/InterpGrid"
       ],
       "description": "Object",
       "index": 0,
       "layout": "IPY_MODEL_49b1b113503f459eaf3aa08db5cb741d",
       "style": "IPY_MODEL_aa7d35c7573d45e49c23a3f3dea5a5ed"
      }
     },
     "b885aa9d02ea4c28b4812dd43d78bda3": {
      "model_module": "@jupyter-widgets/base",
      "model_module_version": "1.2.0",
      "model_name": "LayoutModel",
      "state": {}
     },
     "b8af190dc13747e5a9a49da9c7595cae": {
      "model_module": "@jupyter-widgets/controls",
      "model_module_version": "1.5.0",
      "model_name": "FloatTextModel",
      "state": {
       "description": "Degree",
       "layout": "IPY_MODEL_5b8df329c1244d8694a479bc9558fc5e",
       "step": null,
       "style": "IPY_MODEL_dc6eee4ff9174559af5a91926b0931c4",
       "value": 79
      }
     },
     "b8af951d12d242049b88f76b3e304f3f": {
      "model_module": "@jupyter-widgets/controls",
      "model_module_version": "1.5.0",
      "model_name": "SliderStyleModel",
      "state": {
       "description_width": "initial"
      }
     },
     "b8db9d479f6746889897ea440942e75a": {
      "model_module": "@jupyter-widgets/controls",
      "model_module_version": "1.5.0",
      "model_name": "FloatTextModel",
      "state": {
       "description": "Vertical offset (+ve up)",
       "layout": "IPY_MODEL_4b4aa6bb222f4cf7be9d940602fad701",
       "step": null,
       "style": "IPY_MODEL_3bf213534e604dc78015cf29486313ca"
      }
     },
     "b8df4f06633d47e8a7200f393b9e93b7": {
      "model_module": "@jupyter-widgets/controls",
      "model_module_version": "1.5.0",
      "model_name": "VBoxModel",
      "state": {
       "children": [
        "IPY_MODEL_cb0dadc8a2ac4afda5d9d99240126cba",
        "IPY_MODEL_17379063000c433eb8acb736ab1895b0"
       ],
       "layout": "IPY_MODEL_443e00e92e9d4e9bae6af7e95e0cf162"
      }
     },
     "b8f62ec63351495cabff22a22c05bb3d": {
      "model_module": "@jupyter-widgets/controls",
      "model_module_version": "1.5.0",
      "model_name": "VBoxModel",
      "state": {
       "children": [
        "IPY_MODEL_8e4cece4216b4e32b7194707880aa4ed",
        "IPY_MODEL_f691d91bc1024a4daea1a6bb59e4fca8"
       ],
       "layout": "IPY_MODEL_3a5c2dd6d63b485491222193e6ed3639"
      }
     },
     "b915d53930ed411aad908a78a3105b09": {
      "model_module": "@jupyter-widgets/base",
      "model_module_version": "1.2.0",
      "model_name": "LayoutModel",
      "state": {
       "display": "none",
       "min_width": "6em",
       "width": "6em"
      }
     },
     "b9341d4f91ef46b8a48b365a4e1b7f0e": {
      "model_module": "@jupyter-widgets/base",
      "model_module_version": "1.2.0",
      "model_name": "LayoutModel",
      "state": {}
     },
     "b936c938fdeb4cee968fdcc3d91dd91b": {
      "model_module": "@jupyter-widgets/controls",
      "model_module_version": "1.5.0",
      "model_name": "VBoxModel",
      "state": {
       "children": [
        "IPY_MODEL_b5a7f85cbac342fd8ce5b74093ab366c",
        "IPY_MODEL_bc505e0752a14f59945dcf22d4d61404"
       ],
       "layout": "IPY_MODEL_96a2dc4028354ae0baf7d36440fc6c33"
      }
     },
     "b94c0bd1d2bd476382d62a89690a7e89": {
      "model_module": "@jupyter-widgets/base",
      "model_module_version": "1.2.0",
      "model_name": "LayoutModel",
      "state": {}
     },
     "b99328f88f2f4178af95ea066aa3178f": {
      "model_module": "@jupyter-widgets/controls",
      "model_module_version": "1.5.0",
      "model_name": "DescriptionStyleModel",
      "state": {
       "description_width": "initial"
      }
     },
     "b9a3c593fe874791aa04c4482bc68e47": {
      "model_module": "@jupyter-widgets/controls",
      "model_module_version": "1.5.0",
      "model_name": "DescriptionStyleModel",
      "state": {
       "description_width": "initial"
      }
     },
     "b9ceac58e184484f82536f82727a5d76": {
      "model_module": "@jupyter-widgets/controls",
      "model_module_version": "1.5.0",
      "model_name": "VBoxModel",
      "state": {
       "children": [
        "IPY_MODEL_0f38e9a4988942ff9367b1caab66b2fa",
        "IPY_MODEL_b4f875a3b201426da90bf056ba2f55d0"
       ],
       "layout": "IPY_MODEL_0d1c865bf48844bcb4370b456eb1edb8"
      }
     },
     "b9d62b014f8d4875946006e1464d8bf9": {
      "model_module": "@jupyter-widgets/base",
      "model_module_version": "1.2.0",
      "model_name": "LayoutModel",
      "state": {}
     },
     "b9e087ebe16f4f57966a6b721fe70bb3": {
      "model_module": "@jupyter-widgets/controls",
      "model_module_version": "1.5.0",
      "model_name": "VBoxModel",
      "state": {
       "children": [
        "IPY_MODEL_132e941a40a1403c9e7ebc2dc74492db",
        "IPY_MODEL_1d55e243433e419bbb6c2fecada11dc7"
       ],
       "layout": "IPY_MODEL_a130a5c1fbc54a78ac51a32e922f15b7"
      }
     },
     "b9e35f991b0f41f0a2969766c5a4d20f": {
      "model_module": "@jupyter-widgets/controls",
      "model_module_version": "1.5.0",
      "model_name": "DescriptionStyleModel",
      "state": {
       "description_width": "initial"
      }
     },
     "ba2da0ac9911449394502f4577cd4acb": {
      "model_module": "@jupyter-widgets/controls",
      "model_module_version": "1.5.0",
      "model_name": "VBoxModel",
      "state": {
       "children": [
        "IPY_MODEL_b795df31a470463c8cb1be0a6d980660",
        "IPY_MODEL_43d579ca09084e76881f65d1d16d774f"
       ],
       "layout": "IPY_MODEL_a461914c9ec347bc8107da694258dde9"
      }
     },
     "ba797465ffb94523a1d6b91cf44022f5": {
      "model_module": "@jupyter-widgets/controls",
      "model_module_version": "1.5.0",
      "model_name": "CheckboxModel",
      "state": {
       "description": "Forward only",
       "disabled": false,
       "layout": "IPY_MODEL_b9341d4f91ef46b8a48b365a4e1b7f0e",
       "style": "IPY_MODEL_619648e2cecf46868231cc5df2917ad9",
       "value": false
      }
     },
     "ba9518df9cfc4244817377d174d33e2f": {
      "model_module": "@jupyter-widgets/base",
      "model_module_version": "1.2.0",
      "model_name": "LayoutModel",
      "state": {
       "min_width": "6em",
       "width": "6em"
      }
     },
     "baa753b5c2cd45dc8867b5c304ce660d": {
      "model_module": "@jupyter-widgets/base",
      "model_module_version": "1.2.0",
      "model_name": "LayoutModel",
      "state": {}
     },
     "bacbe58bcac146c5a096e943395b13c8": {
      "model_module": "@jupyter-widgets/base",
      "model_module_version": "1.2.0",
      "model_name": "LayoutModel",
      "state": {}
     },
     "bacd3ee2b63f4447b529c67fd4864d7f": {
      "model_module": "@jupyter-widgets/controls",
      "model_module_version": "1.5.0",
      "model_name": "DescriptionStyleModel",
      "state": {
       "description_width": ""
      }
     },
     "bad0e7d5fe9746028ede3aeeb9ac500c": {
      "model_module": "@jupyter-widgets/controls",
      "model_module_version": "1.5.0",
      "model_name": "ButtonModel",
      "state": {
       "description": "Change",
       "layout": "IPY_MODEL_ab1f02c0d9e6490284ae35d02bc57ca4",
       "style": "IPY_MODEL_f9c23ac6542d47a3b4d968eae6076ae2"
      }
     },
     "badc0f52b33f450aa704d026ef87113c": {
      "model_module": "@jupyter-widgets/base",
      "model_module_version": "1.2.0",
      "model_name": "LayoutModel",
      "state": {}
     },
     "baf49717850048bf8d611ef601d63aee": {
      "model_module": "@jupyter-widgets/base",
      "model_module_version": "1.2.0",
      "model_name": "LayoutModel",
      "state": {
       "display": "none",
       "grid_area": "filename",
       "width": "auto"
      }
     },
     "bb0bde7733a54f30899511817a59c759": {
      "model_module": "@jupyter-widgets/controls",
      "model_module_version": "1.5.0",
      "model_name": "DescriptionStyleModel",
      "state": {
       "description_width": "initial"
      }
     },
     "bb2615173e604147b38d99f4c379fab0": {
      "model_module": "@jupyter-widgets/controls",
      "model_module_version": "1.5.0",
      "model_name": "DropdownModel",
      "state": {
       "_options_labels": [
        "tmi",
        "bx",
        "by",
        "bz",
        "bxx",
        "bxy",
        "bxz",
        "byy",
        "byz",
        "bzz"
       ],
       "description": "Component:",
       "index": 0,
       "layout": "IPY_MODEL_a3fdea1663c940018b21a6bb999616cb",
       "style": "IPY_MODEL_b19116fa319448aa9f8698e1e4747efa"
      }
     },
     "bb283b5c7a194956a62e365d1bb17103": {
      "model_module": "@jupyter-widgets/controls",
      "model_module_version": "1.5.0",
      "model_name": "SelectModel",
      "state": {
       "_options_labels": [
        "📁 ..",
        "📁 SimPEG_PFInversion",
        "📁 Temp"
       ],
       "index": null,
       "layout": "IPY_MODEL_75906497453d48a8bb9821f12b4b4cc7",
       "rows": 8,
       "style": "IPY_MODEL_7019c86569f744f7a1cd90ecdd209f5b"
      }
     },
     "bb34c3d5c63e4e79ba0b434f0eed987f": {
      "model_module": "@jupyter-widgets/controls",
      "model_module_version": "1.5.0",
      "model_name": "FloatTextModel",
      "state": {
       "layout": "IPY_MODEL_4c13b3cb25964438a443076498c8b817",
       "step": null,
       "style": "IPY_MODEL_95a48084ef8a4ac980c0bcafb5ace219"
      }
     },
     "bb604b763f9c48e08e744fddad736120": {
      "model_module": "@jupyter-widgets/controls",
      "model_module_version": "1.5.0",
      "model_name": "DescriptionStyleModel",
      "state": {
       "description_width": "initial"
      }
     },
     "bb6f0a32ab2548b491b8f818875cecf0": {
      "model_module": "@jupyter-widgets/controls",
      "model_module_version": "1.5.0",
      "model_name": "DropdownModel",
      "state": {
       "_options_labels": [
        "C:\\Users\\dominiquef\\Documents\\GIT\\mira\\geoapps\\assets\\Temp",
        "C:\\Users\\dominiquef\\Documents\\GIT\\mira\\geoapps\\assets",
        "C:\\Users\\dominiquef\\Documents\\GIT\\mira\\geoapps",
        "C:\\Users\\dominiquef\\Documents\\GIT\\mira",
        "C:\\Users\\dominiquef\\Documents\\GIT",
        "C:\\Users\\dominiquef\\Documents",
        "C:\\Users\\dominiquef",
        "C:\\Users",
        "C:\\",
        "G:\\",
        "\\\\EgnyteDrive\\mirageoscience\\",
        "D:\\"
       ],
       "index": 0,
       "layout": "IPY_MODEL_a6cc7a2214464a7b8384b102f589da47",
       "style": "IPY_MODEL_34a03bf085a9401fa4dcf62f9112c89d"
      }
     },
     "bba18989c9d7414f823baa15b4b48d94": {
      "model_module": "@jupyter-widgets/base",
      "model_module_version": "1.2.0",
      "model_name": "LayoutModel",
      "state": {}
     },
     "bbadaac69ae04ab0a2a162d6ada1e3a2": {
      "model_module": "@jupyter-widgets/controls",
      "model_module_version": "1.5.0",
      "model_name": "DescriptionStyleModel",
      "state": {
       "description_width": "initial"
      }
     },
     "bbb5e16b14314d0f83b03ecca3b11caf": {
      "model_module": "@jupyter-widgets/base",
      "model_module_version": "1.2.0",
      "model_name": "LayoutModel",
      "state": {
       "display": "none",
       "grid_gap": "0px 0px",
       "grid_template_areas": "\n                    'pathlist pathlist'\n                    'dircontent dircontent'\n                    ",
       "grid_template_columns": "60% 40%",
       "grid_template_rows": "auto auto",
       "width": "auto"
      }
     },
     "bbdc7ff0a02b438c8956938f9cec0b71": {
      "model_module": "@jupyter-widgets/controls",
      "model_module_version": "1.5.0",
      "model_name": "ButtonModel",
      "state": {
       "description": "Cancel",
       "layout": "IPY_MODEL_9b153ddc18554abab2947c61489fa46e",
       "style": "IPY_MODEL_aabde6330fc8463793932fc5587efba0"
      }
     },
     "bbe46111b10f4e7b8b5deab3af5f48e9": {
      "model_module": "@jupyter-widgets/controls",
      "model_module_version": "1.5.0",
      "model_name": "DescriptionStyleModel",
      "state": {
       "description_width": "initial"
      }
     },
     "bbeaa991a20c4a6dbaf3799bcd6067b8": {
      "model_module": "@jupyter-widgets/controls",
      "model_module_version": "1.5.0",
      "model_name": "HTMLModel",
      "state": {
       "layout": "IPY_MODEL_1a61556063964e5794e174d63773d781",
       "placeholder": "",
       "style": "IPY_MODEL_cbab2b81463349fdb1326ac5de2cbd16",
       "value": "<span style=\"color:green;\">C:\\Users\\dominiquef\\Documents\\GIT\\mira\\geoapps\\assets\\Temp\\</span>"
      }
     },
     "bbf8a4f3da0c4b3094e403c98a1e36bc": {
      "model_module": "@jupyter-widgets/controls",
      "model_module_version": "1.5.0",
      "model_name": "CheckboxModel",
      "state": {
       "description": "Geoscience ANALYST Pro - Live link",
       "disabled": false,
       "indent": false,
       "layout": "IPY_MODEL_72bae4d6e81f42dd95e36aba7a627243",
       "style": "IPY_MODEL_94caad78ae16479c970b33462f290408",
       "value": false
      }
     },
     "bc287d19528f452c8768f8ae77a5f030": {
      "model_module": "@jupyter-widgets/controls",
      "model_module_version": "1.5.0",
      "model_name": "ToggleButtonModel",
      "state": {
       "layout": "IPY_MODEL_fbc67c44dc1b4e8a910f9f6757d1b719",
       "style": "IPY_MODEL_4c8e9ceaf4284a779413e9ad28891f85"
      }
     },
     "bc4b5cfeee164b24b89dc6517a2058e8": {
      "model_module": "@jupyter-widgets/controls",
      "model_module_version": "1.5.0",
      "model_name": "HBoxModel",
      "state": {
       "children": [
        "IPY_MODEL_c55b677f081148588267bc97d207ffc2",
        "IPY_MODEL_62def65b542742a9bbb416901df20695"
       ],
       "layout": "IPY_MODEL_97c4f04e16054fad8fabf53f49cf207d"
      }
     },
     "bc505e0752a14f59945dcf22d4d61404": {
      "model_module": "@jupyter-widgets/controls",
      "model_module_version": "1.5.0",
      "model_name": "VBoxModel",
      "state": {
       "children": [
        "IPY_MODEL_82a45cf1426a4cd79fd96516211b9b42"
       ],
       "layout": "IPY_MODEL_14d5c2fe3e1d4e70932e4b04df84fafc"
      }
     },
     "bc9989214038460681a018d6623dacf9": {
      "model_module": "@jupyter-widgets/controls",
      "model_module_version": "1.5.0",
      "model_name": "HBoxModel",
      "state": {
       "children": [
        "IPY_MODEL_3bc2052fe8b6471b8406d7e2099ca96e",
        "IPY_MODEL_07ac7b1c97b24226be475a8dcd971d9f"
       ],
       "layout": "IPY_MODEL_88d543e48e8e483b81f05f489d457355"
      }
     },
     "bca4415ff5674aa0a7b4811412f384c4": {
      "model_module": "@jupyter-widgets/base",
      "model_module_version": "1.2.0",
      "model_name": "LayoutModel",
      "state": {
       "margin": "0 0 0 1em"
      }
     },
     "bca5c243ee664e86a988fdc8eeb2dd70": {
      "model_module": "@jupyter-widgets/controls",
      "model_module_version": "1.5.0",
      "model_name": "DescriptionStyleModel",
      "state": {
       "description_width": ""
      }
     },
     "bcd721b28cc54d20a7d21daa39128ab9": {
      "model_module": "@jupyter-widgets/controls",
      "model_module_version": "1.5.0",
      "model_name": "ButtonModel",
      "state": {
       "description": "Write input",
       "icon": "check",
       "layout": "IPY_MODEL_1b2caca1aca541caae1a68bb70217de0",
       "style": "IPY_MODEL_227793c71ae24127a2cfce4baab23e3d"
      }
     },
     "bd330b269d864fd3bd6dd95732f89e04": {
      "model_module": "@jupyter-widgets/base",
      "model_module_version": "1.2.0",
      "model_name": "LayoutModel",
      "state": {
       "display": "none",
       "grid_gap": "0px 0px",
       "grid_template_areas": "\n                    'pathlist filename'\n                    'dircontent dircontent'\n                    ",
       "grid_template_columns": "60% 40%",
       "grid_template_rows": "auto auto",
       "width": "auto"
      }
     },
     "bd3fd3500a804c6b95eec775467c35ec": {
      "model_module": "@jupyter-widgets/controls",
      "model_module_version": "1.5.0",
      "model_name": "ButtonStyleModel",
      "state": {}
     },
     "bd95a095ef184549a4c42e7dbafbe0c7": {
      "model_module": "@jupyter-widgets/base",
      "model_module_version": "1.2.0",
      "model_name": "LayoutModel",
      "state": {}
     },
     "bdca7c4e68614b1092029561f11416f9": {
      "model_module": "@jupyter-widgets/base",
      "model_module_version": "1.2.0",
      "model_name": "LayoutModel",
      "state": {
       "overflow": "auto"
      }
     },
     "bddbf8ce060e40d9a24d284ea8c649e8": {
      "model_module": "@jupyter-widgets/base",
      "model_module_version": "1.2.0",
      "model_name": "LayoutModel",
      "state": {
       "width": "auto"
      }
     },
     "be18e7c135314318b380c9fff3ba1d39": {
      "model_module": "@jupyter-widgets/base",
      "model_module_version": "1.2.0",
      "model_name": "LayoutModel",
      "state": {}
     },
     "be3244d3c2ac4bf98f26c92534f55ad5": {
      "model_module": "@jupyter-widgets/base",
      "model_module_version": "1.2.0",
      "model_name": "LayoutModel",
      "state": {
       "display": "none",
       "min_width": "6em",
       "width": "6em"
      }
     },
     "be5d28df6b6d4bedb9830628533dfa8f": {
      "model_module": "@jupyter-widgets/controls",
      "model_module_version": "1.5.0",
      "model_name": "DropdownModel",
      "state": {
       "_options_labels": [
        "",
        "Airborne_Gxx",
        "Airborne_Gxy",
        "Airborne_Gxz",
        "Airborne_Gyy",
        "Airborne_Gyz",
        "Airborne_Gz",
        "Airborne_Gzz",
        "Airborne_TMI",
        "Ground_Gz"
       ],
       "description": "Channel:",
       "index": 0,
       "layout": "IPY_MODEL_bf044f9050844f7bae5a1344ffbf5c09",
       "style": "IPY_MODEL_8f1dd08d5721427eb47418bed0c2f767"
      }
     },
     "be7273b976514dc1bd56b5120a94d167": {
      "model_module": "@jupyter-widgets/base",
      "model_module_version": "1.2.0",
      "model_name": "LayoutModel",
      "state": {
       "grid_area": "dircontent",
       "width": "auto"
      }
     },
     "be745cd3dd2c41918d4a50748eac0a74": {
      "model_module": "@jupyter-widgets/base",
      "model_module_version": "1.2.0",
      "model_name": "LayoutModel",
      "state": {
       "min_width": "6em",
       "width": "6em"
      }
     },
     "be7b89f2488a42e793e634f27c60f621": {
      "model_module": "@jupyter-widgets/controls",
      "model_module_version": "1.5.0",
      "model_name": "GridBoxModel",
      "state": {
       "children": [
        "IPY_MODEL_8bb71db5da574964ad2f35eae81b0041",
        "IPY_MODEL_f8af64650fe74df092adee95fa7249b5",
        "IPY_MODEL_e6ed328b40ec45f1a93a5e00108d9da3"
       ],
       "layout": "IPY_MODEL_36fc0bcb62794a57974a5ad8eceea1ac"
      }
     },
     "bee3cba32c2f4baa8a3322504640f9cf": {
      "model_module": "@jupyter-widgets/base",
      "model_module_version": "1.2.0",
      "model_name": "LayoutModel",
      "state": {
       "display": "none",
       "grid_area": "filename",
       "width": "auto"
      }
     },
     "bee6c987d06540d0b099b01e8d148b2e": {
      "model_module": "@jupyter-widgets/controls",
      "model_module_version": "1.5.0",
      "model_name": "DescriptionStyleModel",
      "state": {
       "description_width": "initial"
      }
     },
     "bf044f9050844f7bae5a1344ffbf5c09": {
      "model_module": "@jupyter-widgets/base",
      "model_module_version": "1.2.0",
      "model_name": "LayoutModel",
      "state": {}
     },
     "bf0c076eef064be8b5648c890a8c5fd6": {
      "model_module": "@jupyter-widgets/base",
      "model_module_version": "1.2.0",
      "model_name": "LayoutModel",
      "state": {
       "width": "auto"
      }
     },
     "bf5a3840491c41a6817a67d2c4a5dfa9": {
      "model_module": "@jupyter-widgets/base",
      "model_module_version": "1.2.0",
      "model_name": "LayoutModel",
      "state": {
       "display": "none"
      }
     },
     "bf7883c445fc4e32ade8a907d62f315c": {
      "model_module": "@jupyter-widgets/controls",
      "model_module_version": "1.5.0",
      "model_name": "LabelModel",
      "state": {
       "layout": "IPY_MODEL_274e389ee868477495c8a5ce119cd7ec",
       "style": "IPY_MODEL_dc524602de8f4349aa778c44808564cf",
       "value": "Uncertainties"
      }
     },
     "bf858838d9864f959acf7f14a013fd3a": {
      "model_module": "@jupyter-widgets/controls",
      "model_module_version": "1.5.0",
      "model_name": "ButtonStyleModel",
      "state": {}
     },
     "bf876cd47d8c4f23a12dec4b3ee9c094": {
      "model_module": "@jupyter-widgets/base",
      "model_module_version": "1.2.0",
      "model_name": "LayoutModel",
      "state": {}
     },
     "bf926474a1c04bfe88b93d750541bbc7": {
      "model_module": "@jupyter-widgets/base",
      "model_module_version": "1.2.0",
      "model_name": "LayoutModel",
      "state": {
       "display": "none",
       "min_width": "6em",
       "width": "6em"
      }
     },
     "bfbeb6e7616e432bba19bbe2eee4dd3c": {
      "model_module": "@jupyter-widgets/controls",
      "model_module_version": "1.5.0",
      "model_name": "DescriptionStyleModel",
      "state": {
       "description_width": ""
      }
     },
     "bfeb0d1e70a3423b81a8cd2ee9f35ba2": {
      "model_module": "@jupyter-widgets/controls",
      "model_module_version": "1.5.0",
      "model_name": "DropdownModel",
      "state": {
       "_options_labels": [
        "C:\\Users\\dominiquef\\Documents\\GIT\\mira\\geoapps\\assets\\Temp",
        "C:\\Users\\dominiquef\\Documents\\GIT\\mira\\geoapps\\assets",
        "C:\\Users\\dominiquef\\Documents\\GIT\\mira\\geoapps",
        "C:\\Users\\dominiquef\\Documents\\GIT\\mira",
        "C:\\Users\\dominiquef\\Documents\\GIT",
        "C:\\Users\\dominiquef\\Documents",
        "C:\\Users\\dominiquef",
        "C:\\Users",
        "C:\\",
        "G:\\",
        "\\\\EgnyteDrive\\mirageoscience\\",
        "D:\\"
       ],
       "index": 0,
       "layout": "IPY_MODEL_a47970031a4f41c281043ea96b1f0bb3",
       "style": "IPY_MODEL_eb685de529604a949c1e73e653985f21"
      }
     },
     "bff6d0bcd9a249b0b86f1701735fc1e7": {
      "model_module": "@jupyter-widgets/controls",
      "model_module_version": "1.5.0",
      "model_name": "DescriptionStyleModel",
      "state": {
       "description_width": ""
      }
     },
     "c000847d8b504a8db0433615fb98620e": {
      "model_module": "@jupyter-widgets/base",
      "model_module_version": "1.2.0",
      "model_name": "LayoutModel",
      "state": {}
     },
     "c0041e88dc4649a492c752469e9a39e3": {
      "model_module": "@jupyter-widgets/controls",
      "model_module_version": "1.5.0",
      "model_name": "HTMLModel",
      "state": {
       "layout": "IPY_MODEL_7c0fbda343b14e6b9e82f64d0ce30b47",
       "style": "IPY_MODEL_30ae156fe46643c2a4f269d359e4d296"
      }
     },
     "c055699b93934562bc34a70ab4d8aea9": {
      "model_module": "@jupyter-widgets/base",
      "model_module_version": "1.2.0",
      "model_name": "LayoutModel",
      "state": {}
     },
     "c0e2675305c34d91944fec699818afe1": {
      "model_module": "@jupyter-widgets/base",
      "model_module_version": "1.2.0",
      "model_name": "LayoutModel",
      "state": {
       "display": "none"
      }
     },
     "c0fc8d3727224f229b388d337552b97a": {
      "model_module": "@jupyter-widgets/controls",
      "model_module_version": "1.5.0",
      "model_name": "DescriptionStyleModel",
      "state": {
       "description_width": "initial"
      }
     },
     "c12a17a33e6a4731a2734ef18bf21f8f": {
      "model_module": "@jupyter-widgets/controls",
      "model_module_version": "1.5.0",
      "model_name": "ButtonModel",
      "state": {
       "description": "Change",
       "layout": "IPY_MODEL_2a5c811515b74e0e9438dacf002cfacc",
       "style": "IPY_MODEL_bf858838d9864f959acf7f14a013fd3a"
      }
     },
     "c145bc80fbef4330bfd858f3f97b618d": {
      "model_module": "@jupyter-widgets/base",
      "model_module_version": "1.2.0",
      "model_name": "LayoutModel",
      "state": {
       "overflow": "auto"
      }
     },
     "c1618653a6954b92a8a95ab314964fba": {
      "model_module": "@jupyter-widgets/controls",
      "model_module_version": "1.5.0",
      "model_name": "DescriptionStyleModel",
      "state": {
       "description_width": ""
      }
     },
     "c177032f932d41d7845cbbd1dc2c884b": {
      "model_module": "@jupyter-widgets/controls",
      "model_module_version": "1.5.0",
      "model_name": "DescriptionStyleModel",
      "state": {
       "description_width": ""
      }
     },
     "c17d45387e7c4a8cb475e4e4e6cd5ee1": {
      "model_module": "@jupyter-widgets/controls",
      "model_module_version": "1.5.0",
      "model_name": "ButtonStyleModel",
      "state": {}
     },
     "c19a166411414d589ecde7f00ea328c5": {
      "model_module": "@jupyter-widgets/controls",
      "model_module_version": "1.5.0",
      "model_name": "VBoxModel",
      "state": {
       "children": [
        "IPY_MODEL_46094ad1e3cd4bec8f97223a7998a19f",
        "IPY_MODEL_050e333dcfba4e488e26b4090c8795cf"
       ],
       "layout": "IPY_MODEL_898aaf76aa5c49d2b9d035ec5d475ba3"
      }
     },
     "c1aaefc4ac714f57b61578609beedc74": {
      "model_module": "@jupyter-widgets/controls",
      "model_module_version": "1.5.0",
      "model_name": "DescriptionStyleModel",
      "state": {
       "description_width": ""
      }
     },
     "c1c037db492a43b0b33abdf49554bdb0": {
      "model_module": "@jupyter-widgets/controls",
      "model_module_version": "1.5.0",
      "model_name": "TextModel",
      "state": {
       "disabled": true,
       "layout": "IPY_MODEL_6162b2c2e5be43739022311ddf3ae10c",
       "placeholder": "output filename",
       "style": "IPY_MODEL_ac40520d68ff447cbff72a589355f02f"
      }
     },
     "c1ecf301d50a4a9f8e999f0b6135a4b7": {
      "model_module": "@jupyter-widgets/controls",
      "model_module_version": "1.5.0",
      "model_name": "DescriptionStyleModel",
      "state": {
       "description_width": "initial"
      }
     },
     "c20237579b5944258a1e517a7baee93d": {
      "model_module": "@jupyter-widgets/controls",
      "model_module_version": "1.5.0",
      "model_name": "DescriptionStyleModel",
      "state": {
       "description_width": ""
      }
     },
     "c2249171adf94ad8a443bbcb42a77fb3": {
      "model_module": "@jupyter-widgets/controls",
      "model_module_version": "1.5.0",
      "model_name": "HBoxModel",
      "state": {
       "children": [
        "IPY_MODEL_2a6b92d2dbac4dbf87a066049c16de85",
        "IPY_MODEL_d8615d8c069b48e694e23dc33adf9d75"
       ],
       "layout": "IPY_MODEL_905862b9a85540c29a53253dc9da3bbb"
      }
     },
     "c280fef72ed94e44b633ef4339daf457": {
      "model_module": "@jupyter-widgets/controls",
      "model_module_version": "1.5.0",
      "model_name": "DescriptionStyleModel",
      "state": {
       "description_width": ""
      }
     },
     "c2a9acbb33c74183bc613b258e950347": {
      "model_module": "@jupyter-widgets/controls",
      "model_module_version": "1.5.0",
      "model_name": "DescriptionStyleModel",
      "state": {
       "description_width": ""
      }
     },
     "c2ad1c7aee3c4d67b6b00055a5248e9c": {
      "model_module": "@jupyter-widgets/controls",
      "model_module_version": "1.5.0",
      "model_name": "DescriptionStyleModel",
      "state": {
       "description_width": ""
      }
     },
     "c2de8645d1ea49388ff6b0ef57588c41": {
      "model_module": "@jupyter-widgets/controls",
      "model_module_version": "1.5.0",
      "model_name": "TextModel",
      "state": {
       "layout": "IPY_MODEL_e1915a0468674d998d79fbc5517b1b29",
       "placeholder": "output filename",
       "style": "IPY_MODEL_6b2edf43a3344870ae1da93b8a2efd2e",
       "value": "FlinFlon.geoh5"
      }
     },
     "c2dfa38d3344466190def2c8547044cd": {
      "model_module": "@jupyter-widgets/controls",
      "model_module_version": "1.5.0",
      "model_name": "HTMLModel",
      "state": {
       "layout": "IPY_MODEL_879be5a0af5542689ca385d17a49ab17",
       "style": "IPY_MODEL_ae5c55cfd4854a34a491064c25c592c0"
      }
     },
     "c2f10d28a5e5479b91e3a02e8f2b8919": {
      "model_module": "@jupyter-widgets/controls",
      "model_module_version": "1.5.0",
      "model_name": "FloatTextModel",
      "state": {
       "description": "Floor:",
       "layout": "IPY_MODEL_2f6a9212f48b47a5be91063c485d81ce",
       "step": null,
       "style": "IPY_MODEL_94b74c4f03e64390ab7f3163c6f3bfe4",
       "value": 1
      }
     },
     "c2ffe80aecda488db902a2f171f91480": {
      "model_module": "@jupyter-widgets/base",
      "model_module_version": "1.2.0",
      "model_name": "LayoutModel",
      "state": {}
     },
     "c3070fa5399c4d09a6a9ce73d0951460": {
      "model_module": "@jupyter-widgets/controls",
      "model_module_version": "1.5.0",
      "model_name": "ButtonModel",
      "state": {
       "button_style": "danger",
       "description": "Compute",
       "icon": "check",
       "layout": "IPY_MODEL_f434bae0ca494ed48a2afb2826a7e1fc",
       "style": "IPY_MODEL_1fafc176179c45ca9c20b49f864ad2fa",
       "tooltip": "Run computation"
      }
     },
     "c307698690994462a962fd28fcc84e74": {
      "model_module": "@jupyter-widgets/controls",
      "model_module_version": "1.5.0",
      "model_name": "DescriptionStyleModel",
      "state": {
       "description_width": ""
      }
     },
     "c3081b6fe4ec459a891e003225e14a66": {
      "model_module": "@jupyter-widgets/controls",
      "model_module_version": "1.5.0",
      "model_name": "DescriptionStyleModel",
      "state": {
       "description_width": "initial"
      }
     },
     "c30e6757f6a94ebab632ccf06cff7942": {
      "model_module": "@jupyter-widgets/base",
      "model_module_version": "1.2.0",
      "model_name": "LayoutModel",
      "state": {}
     },
     "c3996070e66740648d9f7e10e84f752f": {
      "model_module": "@jupyter-widgets/controls",
      "model_module_version": "1.5.0",
      "model_name": "DropdownModel",
      "state": {
       "_options_labels": [
        "",
        "Airborne_Gxx",
        "Airborne_Gxy",
        "Airborne_Gxz",
        "Airborne_Gyy",
        "Airborne_Gyz",
        "Airborne_Gz",
        "Airborne_Gzz",
        "Airborne_TMI",
        "Ground_Gz"
       ],
       "description": "Channel:",
       "index": 0,
       "layout": "IPY_MODEL_57f42f68f514480ebb17e818aba88011",
       "style": "IPY_MODEL_3a22cac64b4d4773a817c10ab67f4b3b"
      }
     },
     "c3aa9ec53ea24778b02cf73d2ccf11de": {
      "model_module": "@jupyter-widgets/controls",
      "model_module_version": "1.5.0",
      "model_name": "DescriptionStyleModel",
      "state": {
       "description_width": "initial"
      }
     },
     "c3b63484755242a49462085de43c07f7": {
      "model_module": "@jupyter-widgets/controls",
      "model_module_version": "1.5.0",
      "model_name": "VBoxModel",
      "state": {
       "children": [
        "IPY_MODEL_2d49d640ac50449993afb7ccf5eebbf9",
        "IPY_MODEL_dbf8d088814b4017bae203e2f8e1d86e"
       ],
       "layout": "IPY_MODEL_b848729602934aada4cf4f4915b34f84"
      }
     },
     "c40773576726450ead7387464a129290": {
      "model_module": "@jupyter-widgets/base",
      "model_module_version": "1.2.0",
      "model_name": "LayoutModel",
      "state": {}
     },
     "c411310172eb4601880fc556cfaf1a64": {
      "model_module": "@jupyter-widgets/controls",
      "model_module_version": "1.5.0",
      "model_name": "HTMLModel",
      "state": {
       "layout": "IPY_MODEL_d1e3d44eb83e4eb0955e5b5d708859ef",
       "placeholder": "",
       "style": "IPY_MODEL_b566fab94d39401c994c652e9ed356d8",
       "value": "<span style=\"color:green;\">C:\\Users\\dominiquef\\Documents\\GIT\\mira\\geoapps\\assets\\Temp\\</span>"
      }
     },
     "c41a95dcbdf040cfb9ad045348de413d": {
      "model_module": "@jupyter-widgets/controls",
      "model_module_version": "1.5.0",
      "model_name": "HTMLModel",
      "state": {
       "layout": "IPY_MODEL_8ac132fd4bab44f9bf1f8722dcb9d0c6",
       "style": "IPY_MODEL_c1aaefc4ac714f57b61578609beedc74"
      }
     },
     "c41ec92bb0c64af4aa3aaa564d90902f": {
      "model_module": "@jupyter-widgets/base",
      "model_module_version": "1.2.0",
      "model_name": "LayoutModel",
      "state": {
       "overflow": "auto"
      }
     },
     "c43e7d4059bf4937ad7d5ea7aeeccc8b": {
      "model_module": "@jupyter-widgets/controls",
      "model_module_version": "1.5.0",
      "model_name": "DescriptionStyleModel",
      "state": {
       "description_width": "initial"
      }
     },
     "c46de2d14caf49b897db3b763f8a56f3": {
      "model_module": "@jupyter-widgets/controls",
      "model_module_version": "1.5.0",
      "model_name": "FloatSliderModel",
      "state": {
       "continuous_update": false,
       "description": "Width",
       "layout": "IPY_MODEL_0437b66eb4594a4287f67820630bf08c",
       "max": 8802.607126275985,
       "step": 10,
       "style": "IPY_MODEL_3da11ea0afe545cdb643d62178d6c26d",
       "value": 1000
      }
     },
     "c48b6d3c9d8041159a91ca98aaa2047f": {
      "model_module": "@jupyter-widgets/controls",
      "model_module_version": "1.5.0",
      "model_name": "TextModel",
      "state": {
       "layout": "IPY_MODEL_7bfdf10ec402449e80593116d2e3ca16",
       "placeholder": "output filename",
       "style": "IPY_MODEL_a0855e82e4564a6fa28b9ad8380410e6",
       "value": "FlinFlon.geoh5"
      }
     },
     "c4a0e040307b4029aa8fd66754383138": {
      "model_module": "@jupyter-widgets/controls",
      "model_module_version": "1.5.0",
      "model_name": "ButtonModel",
      "state": {
       "description": "Cancel",
       "layout": "IPY_MODEL_0449cd4507fc48cea81a9f9afc83342d",
       "style": "IPY_MODEL_2b039edae4d34e8fb58d1e5b00a39884"
      }
     },
     "c4b5559bebe14ee8a5d6dd19c1b29fc1": {
      "model_module": "@jupyter-widgets/controls",
      "model_module_version": "1.5.0",
      "model_name": "VBoxModel",
      "state": {
       "children": [
        "IPY_MODEL_dd4d914f483b4b249fd04a84d6ec8a6c",
        "IPY_MODEL_048519f9dcb9409cb5d1ffb0394428f4"
       ],
       "layout": "IPY_MODEL_f3bb98551cc64450b73618dae4c0a313"
      }
     },
     "c4f810fe3e084fc084aa67a9e0cd6ef4": {
      "model_module": "@jupyter-widgets/controls",
      "model_module_version": "1.5.0",
      "model_name": "VBoxModel",
      "state": {
       "children": [
        "IPY_MODEL_310a72fbdf75490191f0e8f058c35164",
        "IPY_MODEL_61a233ed583e4291a141b7e4713538f7"
       ],
       "layout": "IPY_MODEL_0de3e68e65ce4af183ad7eb4a29e8b70"
      }
     },
     "c50e1d7b5188460499820f290e57ab0c": {
      "model_module": "@jupyter-widgets/controls",
      "model_module_version": "1.5.0",
      "model_name": "ButtonModel",
      "state": {
       "button_style": "danger",
       "description": "Compute",
       "icon": "check",
       "layout": "IPY_MODEL_26c10eb83fe943fbb8210b16a4ea4224",
       "style": "IPY_MODEL_ebfc2d57a41742f19136361118cf67d1",
       "tooltip": "Run computation"
      }
     },
     "c53ec80455d8428da5afa88c659993cb": {
      "model_module": "@jupyter-widgets/controls",
      "model_module_version": "1.5.0",
      "model_name": "DescriptionStyleModel",
      "state": {
       "description_width": ""
      }
     },
     "c5423513c1b049bba25ec097fdbd2216": {
      "model_module": "@jupyter-widgets/controls",
      "model_module_version": "1.5.0",
      "model_name": "DescriptionStyleModel",
      "state": {
       "description_width": "initial"
      }
     },
     "c55b677f081148588267bc97d207ffc2": {
      "model_module": "@jupyter-widgets/controls",
      "model_module_version": "1.5.0",
      "model_name": "DropdownModel",
      "state": {
       "_options_labels": [
        "magnetic vector",
        "magnetic scalar",
        "gravity"
       ],
       "description": "inversion Type:",
       "index": 0,
       "layout": "IPY_MODEL_bba18989c9d7414f823baa15b4b48d94",
       "style": "IPY_MODEL_c7040123602e4389bccc0c7668797131"
      }
     },
     "c57f366b7aae4fcc981a9c67578c16c9": {
      "model_module": "@jupyter-widgets/controls",
      "model_module_version": "1.5.0",
      "model_name": "DescriptionStyleModel",
      "state": {
       "description_width": "initial"
      }
     },
     "c5914b91f91d4be4ab2ec0e974c44a73": {
      "model_module": "@jupyter-widgets/controls",
      "model_module_version": "1.5.0",
      "model_name": "DescriptionStyleModel",
      "state": {
       "description_width": ""
      }
     },
     "c5e55d2062684f68b9d18ac865abd7c3": {
      "model_module": "@jupyter-widgets/controls",
      "model_module_version": "1.5.0",
      "model_name": "VBoxModel",
      "state": {
       "children": [
        "IPY_MODEL_0739c5ea06f349ddb9ef81d5d6a2f796",
        "IPY_MODEL_8aa27e002716407a96f69d4cb186d3bc",
        "IPY_MODEL_e60e779b2ad04096863594b2bf815edc"
       ],
       "layout": "IPY_MODEL_2ded96b474f0462290b47dd42bc9c773"
      }
     },
     "c6061657d6cf4d78b9d0dffd2534a973": {
      "model_module": "@jupyter-widgets/controls",
      "model_module_version": "1.5.0",
      "model_name": "LabelModel",
      "state": {
       "layout": "IPY_MODEL_d57be2cbd97d44ec8b36a0f72b013900",
       "style": "IPY_MODEL_6d958e02302b4c09877297bebc5cf36e",
       "value": "Output"
      }
     },
     "c65b168bc7d84a3aa0b5c8a5ffaa32dc": {
      "model_module": "@jupyter-widgets/controls",
      "model_module_version": "1.5.0",
      "model_name": "VBoxModel",
      "state": {
       "children": [
        "IPY_MODEL_878f7291a2c14d10b18d24f6c055e775",
        "IPY_MODEL_5e78ad47de4e4cffb335b0ddbccd18fd"
       ],
       "layout": "IPY_MODEL_2ce767069e384eb88f49bd8f47edb367"
      }
     },
     "c660d934fccc48728d584d80098f6b68": {
      "model_module": "@jupyter-widgets/controls",
      "model_module_version": "1.5.0",
      "model_name": "DescriptionStyleModel",
      "state": {
       "description_width": "initial"
      }
     },
     "c67bcac7bac14954b254f97bfc68ca11": {
      "model_module": "@jupyter-widgets/controls",
      "model_module_version": "1.5.0",
      "model_name": "HTMLModel",
      "state": {
       "layout": "IPY_MODEL_1cab13f61df344db86090d17ff49c7b8",
       "placeholder": "",
       "style": "IPY_MODEL_e9e82b46c53947ab855255fb858be8df",
       "value": "<span style=\"color:green;\">C:\\Users\\dominiquef\\Documents\\GIT\\mira\\geoapps\\assets\\Temp\\</span>"
      }
     },
     "c690c1c93a5546dba30f152eca418512": {
      "model_module": "@jupyter-widgets/controls",
      "model_module_version": "1.5.0",
      "model_name": "DescriptionStyleModel",
      "state": {
       "description_width": "initial"
      }
     },
     "c6e2719dc88149aba023ad4f76c5df42": {
      "model_module": "@jupyter-widgets/base",
      "model_module_version": "1.2.0",
      "model_name": "LayoutModel",
      "state": {
       "margin": "0 0 0 1em"
      }
     },
     "c7040123602e4389bccc0c7668797131": {
      "model_module": "@jupyter-widgets/controls",
      "model_module_version": "1.5.0",
      "model_name": "DescriptionStyleModel",
      "state": {
       "description_width": "initial"
      }
     },
     "c73e00ff7f614811a9847f4ddc26e18f": {
      "model_module": "@jupyter-widgets/controls",
      "model_module_version": "1.5.0",
      "model_name": "VBoxModel",
      "state": {
       "children": [
        "IPY_MODEL_a6632eeb54834fbfb49ea4d5bd2d25a1"
       ],
       "layout": "IPY_MODEL_a2a5bade43e5451ba32ea42218339131"
      }
     },
     "c751aa4dae144fae898155f97b514389": {
      "model_module": "@jupyter-widgets/controls",
      "model_module_version": "1.5.0",
      "model_name": "DescriptionStyleModel",
      "state": {
       "description_width": ""
      }
     },
     "c76e6ff4edb74011a8aa5a4757ae44a7": {
      "model_module": "@jupyter-widgets/controls",
      "model_module_version": "1.5.0",
      "model_name": "DescriptionStyleModel",
      "state": {
       "description_width": ""
      }
     },
     "c775116dc7e743d494629389be7455b1": {
      "model_module": "@jupyter-widgets/base",
      "model_module_version": "1.2.0",
      "model_name": "LayoutModel",
      "state": {
       "grid_area": "dircontent",
       "width": "auto"
      }
     },
     "c7f15e22c4eb4271be60598d34df193d": {
      "model_module": "@jupyter-widgets/controls",
      "model_module_version": "1.5.0",
      "model_name": "ButtonStyleModel",
      "state": {}
     },
     "c7f53d00be614c5a8667a61801f006b7": {
      "model_module": "@jupyter-widgets/controls",
      "model_module_version": "1.5.0",
      "model_name": "HBoxModel",
      "state": {
       "children": [
        "IPY_MODEL_5a687c0810a841b093c562f7d7242285",
        "IPY_MODEL_ed2fe8fa2c2a4413bfe2d6b8b481ddec"
       ],
       "layout": "IPY_MODEL_3b8f579e7668476595d7d33572aac888"
      }
     },
     "c80a8b757d8d430d9f4a0d5e1cc9a28b": {
      "model_module": "@jupyter-widgets/controls",
      "model_module_version": "1.5.0",
      "model_name": "DescriptionStyleModel",
      "state": {
       "description_width": "initial"
      }
     },
     "c8432e62eee94178b7b151ef7dbf65e0": {
      "model_module": "@jupyter-widgets/controls",
      "model_module_version": "1.5.0",
      "model_name": "SelectModel",
      "state": {
       "_options_labels": [
        "📁 ..",
        "📁 SimPEG_PFInversion",
        "📁 Temp",
        "📁 uijson",
        "FlinFlon.geoh5",
        "FlinFlon_dcip.geoh5",
        "FlinFlon_natural_sources.geoh5",
        "MtDore_TMI.geoh5",
        "tem.geoh5",
        "test_forward.ui.geoh5",
        "test_forward.ui.json"
       ],
       "index": 4,
       "layout": "IPY_MODEL_2d27c0a20825457eb18c829c9cbf3fd7",
       "rows": 8,
       "style": "IPY_MODEL_80689e4116eb4d2ea776753e6badb829"
      }
     },
     "c8562f0d8e0549ffb10c0c99bf8d2b24": {
      "model_module": "@jupyter-widgets/controls",
      "model_module_version": "1.5.0",
      "model_name": "HTMLModel",
      "state": {
       "layout": "IPY_MODEL_fc6515b7402344e5949dc1eaedeac389",
       "placeholder": "",
       "style": "IPY_MODEL_2fd5941829a24535bb2c5045fd7ae119",
       "value": "<span style=\"color:green;\">C:\\Users\\dominiquef\\Documents\\GIT\\mira\\geoapps\\assets\\Temp\\</span>"
      }
     },
     "c87906b16c2043ea98118fce5322643f": {
      "model_module": "@jupyter-widgets/controls",
      "model_module_version": "1.5.0",
      "model_name": "DescriptionStyleModel",
      "state": {
       "description_width": ""
      }
     },
     "c89ebd0c460e49f98b45ba99913f7269": {
      "model_module": "@jupyter-widgets/controls",
      "model_module_version": "1.5.0",
      "model_name": "GridBoxModel",
      "state": {
       "children": [
        "IPY_MODEL_27d36a906c834acfb861ec5d42111c1a",
        "IPY_MODEL_87e022ff9283408a96266d6c72dc25d1",
        "IPY_MODEL_bb283b5c7a194956a62e365d1bb17103"
       ],
       "layout": "IPY_MODEL_550687077d16498a9878433ab0b02d25"
      }
     },
     "c8b31042c86c44339e8f4a31a6e9abe3": {
      "model_module": "@jupyter-widgets/controls",
      "model_module_version": "1.5.0",
      "model_name": "VBoxModel",
      "state": {
       "children": [
        "IPY_MODEL_b49bc02eba4341628cfcb17108947661",
        "IPY_MODEL_f357c30ff34943b5884bcdf66b82d701",
        "IPY_MODEL_bf7883c445fc4e32ade8a907d62f315c",
        "IPY_MODEL_95bab137d34e4ba288fd559b1f6eb603"
       ],
       "layout": "IPY_MODEL_4720b59bb27d4b0d81a9b7139ef4b4d3"
      }
     },
     "c91a7d51fa8f49a5a2dc940da9d40d9d": {
      "model_module": "@jupyter-widgets/controls",
      "model_module_version": "1.5.0",
      "model_name": "DropdownModel",
      "state": {
       "_options_labels": [
        "C:\\Users\\dominiquef\\Documents\\GIT\\mira\\geoapps\\assets\\Temp",
        "C:\\Users\\dominiquef\\Documents\\GIT\\mira\\geoapps\\assets",
        "C:\\Users\\dominiquef\\Documents\\GIT\\mira\\geoapps",
        "C:\\Users\\dominiquef\\Documents\\GIT\\mira",
        "C:\\Users\\dominiquef\\Documents\\GIT",
        "C:\\Users\\dominiquef\\Documents",
        "C:\\Users\\dominiquef",
        "C:\\Users",
        "C:\\",
        "G:\\",
        "\\\\EgnyteDrive\\mirageoscience\\",
        "D:\\"
       ],
       "index": 0,
       "layout": "IPY_MODEL_b431783223f74b5981191b4e7338fcfc",
       "style": "IPY_MODEL_c280fef72ed94e44b633ef4339daf457"
      }
     },
     "c93c3dcf640a49148153fc7fd1eaa4d6": {
      "model_module": "@jupyter-widgets/base",
      "model_module_version": "1.2.0",
      "model_name": "LayoutModel",
      "state": {
       "border": "solid"
      }
     },
     "c9c8b5454be3483d96479bd1409b19d9": {
      "model_module": "@jupyter-widgets/base",
      "model_module_version": "1.2.0",
      "model_name": "LayoutModel",
      "state": {
       "display": "none",
       "grid_gap": "0px 0px",
       "grid_template_areas": "\n                    'pathlist pathlist'\n                    'dircontent dircontent'\n                    ",
       "grid_template_columns": "60% 40%",
       "grid_template_rows": "auto auto",
       "width": "auto"
      }
     },
     "ca7314c8595e421d89361ab0fcd21c83": {
      "model_module": "@jupyter-widgets/controls",
      "model_module_version": "1.5.0",
      "model_name": "DescriptionStyleModel",
      "state": {
       "description_width": ""
      }
     },
     "ca78174d9ba94056aa0c94df3ea452b7": {
      "model_module": "@jupyter-widgets/controls",
      "model_module_version": "1.5.0",
      "model_name": "HTMLModel",
      "state": {
       "layout": "IPY_MODEL_c0e2675305c34d91944fec699818afe1",
       "style": "IPY_MODEL_764b7a5dfa5e424db3d2b97c8579acbb"
      }
     },
     "ca78c386c50547cf9cc07b4114bb3ef1": {
      "model_module": "@jupyter-widgets/controls",
      "model_module_version": "1.5.0",
      "model_name": "DescriptionStyleModel",
      "state": {
       "description_width": "initial"
      }
     },
     "cab87b908cd041a9b6c464d552033b64": {
      "model_module": "@jupyter-widgets/controls",
      "model_module_version": "1.5.0",
      "model_name": "ButtonModel",
      "state": {
       "description": "Change",
       "layout": "IPY_MODEL_d2530e505f624222a0a6849140ca2083",
       "style": "IPY_MODEL_afdf38a0583f41b293f6e128a4061b9d"
      }
     },
     "caf09afb89da48d6be4d70051f26fda6": {
      "model_module": "@jupyter-widgets/base",
      "model_module_version": "1.2.0",
      "model_name": "LayoutModel",
      "state": {
       "overflow": "auto"
      }
     },
     "cb0dadc8a2ac4afda5d9d99240126cba": {
      "model_module": "@jupyter-widgets/controls",
      "model_module_version": "1.5.0",
      "model_name": "FloatTextModel",
      "state": {
       "description": "Floor:",
       "layout": "IPY_MODEL_2de79e5180be4050aee13b657f9a0d38",
       "step": null,
       "style": "IPY_MODEL_fd1af070bf6c476abbf1f391489a4863",
       "value": 1
      }
     },
     "cb0f514d8ca94a4195a8bf6b617e7184": {
      "model_module": "@jupyter-widgets/base",
      "model_module_version": "1.2.0",
      "model_name": "LayoutModel",
      "state": {
       "grid_area": "dircontent",
       "width": "auto"
      }
     },
     "cb23cdb101264f1c9e131ee88c7f5969": {
      "model_module": "@jupyter-widgets/controls",
      "model_module_version": "1.5.0",
      "model_name": "HTMLModel",
      "state": {
       "layout": "IPY_MODEL_93700026b12f4d4ca271181a49103f32",
       "style": "IPY_MODEL_112e2a1cc5654e25a9282877ebc31a51"
      }
     },
     "cb5647d23c464d298dd4eb96413188ab": {
      "model_module": "@jupyter-widgets/controls",
      "model_module_version": "1.5.0",
      "model_name": "DescriptionStyleModel",
      "state": {
       "description_width": ""
      }
     },
     "cb98124632614ba2b1907043830cc052": {
      "model_module": "@jupyter-widgets/base",
      "model_module_version": "1.2.0",
      "model_name": "LayoutModel",
      "state": {}
     },
     "cbab2b81463349fdb1326ac5de2cbd16": {
      "model_module": "@jupyter-widgets/controls",
      "model_module_version": "1.5.0",
      "model_name": "DescriptionStyleModel",
      "state": {
       "description_width": ""
      }
     },
     "cbcbec73aa494b38b8d12fd213ed71ef": {
      "model_module": "@jupyter-widgets/controls",
      "model_module_version": "1.5.0",
      "model_name": "FloatTextModel",
      "state": {
       "description": "Beta ratio (phi_d/phi_m):",
       "layout": "IPY_MODEL_a7189f64748745eb9665fd59c10fe04d",
       "step": null,
       "style": "IPY_MODEL_5e78ea09afe54a78915e8d9a6ad6de40",
       "value": 100
      }
     },
     "cc370fa82c454c66890fba1301da057f": {
      "model_module": "@jupyter-widgets/controls",
      "model_module_version": "1.5.0",
      "model_name": "DescriptionStyleModel",
      "state": {
       "description_width": ""
      }
     },
     "cc3ca330fe164b0c96d4a9b1ce1d33f0": {
      "model_module": "@jupyter-widgets/controls",
      "model_module_version": "1.5.0",
      "model_name": "ButtonStyleModel",
      "state": {}
     },
     "cc5a775186e540dab239d8ef4517fd97": {
      "model_module": "@jupyter-widgets/controls",
      "model_module_version": "1.5.0",
      "model_name": "ButtonStyleModel",
      "state": {}
     },
     "cc5c38687456481a9ae70aa20bc9fd72": {
      "model_module": "@jupyter-widgets/controls",
      "model_module_version": "1.5.0",
      "model_name": "DescriptionStyleModel",
      "state": {
       "description_width": "initial"
      }
     },
     "cc751a18b9d847caaffdab9f7c92fb11": {
      "model_module": "@jupyter-widgets/controls",
      "model_module_version": "1.5.0",
      "model_name": "DescriptionStyleModel",
      "state": {
       "description_width": "initial"
      }
     },
     "ccb5436129274a7ba5a05009a9253d47": {
      "model_module": "@jupyter-widgets/base",
      "model_module_version": "1.2.0",
      "model_name": "LayoutModel",
      "state": {}
     },
     "cccc45cba7be4ab8ad8e55f4c8c0bf26": {
      "model_module": "@jupyter-widgets/controls",
      "model_module_version": "1.5.0",
      "model_name": "DescriptionStyleModel",
      "state": {
       "description_width": ""
      }
     },
     "ccf2735fca274909b5860f5bba5f0710": {
      "model_module": "@jupyter-widgets/controls",
      "model_module_version": "1.5.0",
      "model_name": "TextModel",
      "state": {
       "disabled": true,
       "layout": "IPY_MODEL_8915b9395de4419cae8493bbcbaf8563",
       "placeholder": "output filename",
       "style": "IPY_MODEL_fca0a68d98b747fb8fd1ee7926517c2e"
      }
     },
     "cd1e3c16a72048c695ec423b205d7cb1": {
      "model_module": "@jupyter-widgets/controls",
      "model_module_version": "1.5.0",
      "model_name": "ButtonStyleModel",
      "state": {}
     },
     "cd278d8647484e93b961f6aba1e4b4ef": {
      "model_module": "@jupyter-widgets/base",
      "model_module_version": "1.2.0",
      "model_name": "LayoutModel",
      "state": {
       "margin": "0 0 0 1em"
      }
     },
     "cd37b80b34644ec5aadb5c4d3f7d2ae5": {
      "model_module": "@jupyter-widgets/controls",
      "model_module_version": "1.5.0",
      "model_name": "DescriptionStyleModel",
      "state": {
       "description_width": "initial"
      }
     },
     "cd4a50f3d2f445f4896b321d74f53b23": {
      "model_module": "@jupyter-widgets/base",
      "model_module_version": "1.2.0",
      "model_name": "LayoutModel",
      "state": {}
     },
     "cd4c25fe9b204d19a2a567d5b2231211": {
      "model_module": "@jupyter-widgets/base",
      "model_module_version": "1.2.0",
      "model_name": "LayoutModel",
      "state": {
       "width": "auto"
      }
     },
     "cd7b8085376c4daf810a1be86df3868f": {
      "model_module": "@jupyter-widgets/controls",
      "model_module_version": "1.5.0",
      "model_name": "DescriptionStyleModel",
      "state": {
       "description_width": "initial"
      }
     },
     "cda8a7a486294b109d6e24845f241796": {
      "model_module": "@jupyter-widgets/controls",
      "model_module_version": "1.5.0",
      "model_name": "IntTextModel",
      "state": {
       "description": "Number of tiles",
       "layout": "IPY_MODEL_79a231861c02421f9134a2af6e61b1d6",
       "step": 1,
       "style": "IPY_MODEL_e4ba991edb524c8b99b6a37347e2f0f8",
       "value": 1
      }
     },
     "cdbc049ba6b645759b524cc7eeaae107": {
      "model_module": "@jupyter-widgets/base",
      "model_module_version": "1.2.0",
      "model_name": "LayoutModel",
      "state": {}
     },
     "cde2d58bc0444e8eaa7f92778c6c9aee": {
      "model_module": "@jupyter-widgets/controls",
      "model_module_version": "1.5.0",
      "model_name": "LabelModel",
      "state": {
       "layout": "IPY_MODEL_42a6783ac322488298ed93d45e07ffcf",
       "style": "IPY_MODEL_3c2f9272a321477eae3e0bd005d8a759",
       "value": "Reference Inclination"
      }
     },
     "ce3d19d56dc04e1aabb2a144edb2a27d": {
      "model_module": "@jupyter-widgets/controls",
      "model_module_version": "1.5.0",
      "model_name": "VBoxModel",
      "state": {
       "children": [
        "IPY_MODEL_5af865d72e9b41aba39cc656cdb9083f",
        "IPY_MODEL_5a415718e6684e9db5e0a631ba25b8a7"
       ],
       "layout": "IPY_MODEL_00de60a855a242d79aa37167e6fa4047"
      }
     },
     "ce619bc7e751451c87fbe4591a05776a": {
      "model_module": "@jupyter-widgets/controls",
      "model_module_version": "1.5.0",
      "model_name": "DropdownModel",
      "state": {
       "_options_labels": [
        "C:\\Users\\dominiquef\\Documents\\GIT\\mira\\geoapps\\assets\\Temp",
        "C:\\Users\\dominiquef\\Documents\\GIT\\mira\\geoapps\\assets",
        "C:\\Users\\dominiquef\\Documents\\GIT\\mira\\geoapps",
        "C:\\Users\\dominiquef\\Documents\\GIT\\mira",
        "C:\\Users\\dominiquef\\Documents\\GIT",
        "C:\\Users\\dominiquef\\Documents",
        "C:\\Users\\dominiquef",
        "C:\\Users",
        "C:\\",
        "G:\\",
        "\\\\EgnyteDrive\\mirageoscience\\",
        "D:\\"
       ],
       "index": 0,
       "layout": "IPY_MODEL_19e26fc6dbc34fa2bbb59b84d6cde843",
       "style": "IPY_MODEL_310619d45a0b42158d9826d10d679c57"
      }
     },
     "cec3b25b58b74ae5b6b9f0a2b8f6d6ed": {
      "model_module": "@jupyter-widgets/base",
      "model_module_version": "1.2.0",
      "model_name": "LayoutModel",
      "state": {}
     },
     "cec559554aa74048aadac81da060524e": {
      "model_module": "@jupyter-widgets/controls",
      "model_module_version": "1.5.0",
      "model_name": "DescriptionStyleModel",
      "state": {
       "description_width": ""
      }
     },
     "cec9047327bc4585b11c2c9f62f0c181": {
      "model_module": "@jupyter-widgets/controls",
      "model_module_version": "1.5.0",
      "model_name": "DescriptionStyleModel",
      "state": {
       "description_width": ""
      }
     },
     "cefac0d546a04d52bd1faada769b1180": {
      "model_module": "@jupyter-widgets/controls",
      "model_module_version": "1.5.0",
      "model_name": "DescriptionStyleModel",
      "state": {
       "description_width": "initial"
      }
     },
     "cf11fb456b204446ba8ca4fcb6699d8f": {
      "model_module": "@jupyter-widgets/controls",
      "model_module_version": "1.5.0",
      "model_name": "DescriptionStyleModel",
      "state": {
       "description_width": "initial"
      }
     },
     "cf1cca163ec542fb86d8db4213789c2a": {
      "model_module": "@jupyter-widgets/base",
      "model_module_version": "1.2.0",
      "model_name": "LayoutModel",
      "state": {
       "display": "none"
      }
     },
     "cf5ce559a33043eea27e30e2f2c432b1": {
      "model_module": "@jupyter-widgets/controls",
      "model_module_version": "1.5.0",
      "model_name": "RadioButtonsModel",
      "state": {
       "_options_labels": [
        "None",
        "Object",
        "Relative to Sensor",
        "Constant"
       ],
       "description": "Define by:",
       "index": 1,
       "layout": "IPY_MODEL_0b142fb8d9e3475fbf97c573e7b069e5",
       "style": "IPY_MODEL_71acb776f85543178f50fcfb009718d9"
      }
     },
     "cf66a7af02054f22a6a9a2e53f5f470c": {
      "model_module": "@jupyter-widgets/controls",
      "model_module_version": "1.5.0",
      "model_name": "DescriptionStyleModel",
      "state": {
       "description_width": ""
      }
     },
     "cf66f4d8443b4ff3a47fc674aeb0e9cd": {
      "model_module": "@jupyter-widgets/base",
      "model_module_version": "1.2.0",
      "model_name": "LayoutModel",
      "state": {}
     },
     "cfcc73ade3b547de99cbd80e8238bf48": {
      "model_module": "@jupyter-widgets/base",
      "model_module_version": "1.2.0",
      "model_name": "LayoutModel",
      "state": {
       "width": "auto"
      }
     },
     "cfce8043bb964a7abd1b7cc80e7423e1": {
      "model_module": "@jupyter-widgets/controls",
      "model_module_version": "1.5.0",
      "model_name": "DescriptionStyleModel",
      "state": {
       "description_width": "initial"
      }
     },
     "cff65d38346f460ab17c51c846ee80f3": {
      "model_module": "@jupyter-widgets/controls",
      "model_module_version": "1.5.0",
      "model_name": "DropdownModel",
      "state": {
       "_options_labels": [
        "",
        "Airborne_Gxx",
        "Airborne_Gxy",
        "Airborne_Gxz",
        "Airborne_Gyy",
        "Airborne_Gyz",
        "Airborne_Gz",
        "Airborne_Gzz",
        "Airborne_TMI",
        "Ground_Gz"
       ],
       "description": "[Optional] Channel:",
       "index": 0,
       "layout": "IPY_MODEL_2ea5c011bf4e497b99228239886077aa",
       "style": "IPY_MODEL_9f3ee5afa640474093aff3625810206f"
      }
     },
     "cffc6be3f9864bafae2d4593cb5dcd10": {
      "model_module": "@jupyter-widgets/base",
      "model_module_version": "1.2.0",
      "model_name": "LayoutModel",
      "state": {
       "overflow": "auto"
      }
     },
     "d005eb9df6ff43928f751678c10b15f0": {
      "model_module": "@jupyter-widgets/controls",
      "model_module_version": "1.5.0",
      "model_name": "VBoxModel",
      "state": {
       "children": [
        "IPY_MODEL_c3070fa5399c4d09a6a9ce73d0951460",
        "IPY_MODEL_10055127878e4b3b89970a6032cd15cf"
       ],
       "layout": "IPY_MODEL_120ff982dea047e4952bc54e5e287965"
      }
     },
     "d036b70fba4b42d6a893e09b38029a2c": {
      "model_module": "@jupyter-widgets/controls",
      "model_module_version": "1.5.0",
      "model_name": "SelectModel",
      "state": {
       "_options_labels": [
        "📁 ..",
        "📁 SimPEG_PFInversion",
        "📁 Temp"
       ],
       "index": null,
       "layout": "IPY_MODEL_79564b506bd648768cf3aadfdb2fa4a8",
       "rows": 8,
       "style": "IPY_MODEL_359d5dce41ef41f9aaf8802277a10c5c"
      }
     },
     "d0486adb8bc149a087311b37ff428550": {
      "model_module": "@jupyter-widgets/controls",
      "model_module_version": "1.5.0",
      "model_name": "VBoxModel",
      "state": {
       "children": [
        "IPY_MODEL_0a2d93a24b9244f28684d60f22c8da8f",
        "IPY_MODEL_91c4c28c923d45389e78d2996cc66d05"
       ],
       "layout": "IPY_MODEL_9f79617e1c344ef3bebcf63ba4582657"
      }
     },
     "d04d431a69bd4d74921b03e7c92934b0": {
      "model_module": "@jupyter-widgets/base",
      "model_module_version": "1.2.0",
      "model_name": "LayoutModel",
      "state": {}
     },
     "d118aabf233943eb9f875801ceac8374": {
      "model_module": "@jupyter-widgets/controls",
      "model_module_version": "1.5.0",
      "model_name": "ButtonStyleModel",
      "state": {}
     },
     "d118d02e7bfd4e9d845f28f994de25d5": {
      "model_module": "@jupyter-widgets/controls",
      "model_module_version": "1.5.0",
      "model_name": "ButtonModel",
      "state": {
       "button_style": "danger",
       "description": "Compute",
       "icon": "check",
       "layout": "IPY_MODEL_f8929f0c7f264b44b45f595b5b946a62",
       "style": "IPY_MODEL_c17d45387e7c4a8cb475e4e4e6cd5ee1",
       "tooltip": "Run computation"
      }
     },
     "d15e7e947f5143a5bf6d054eca98e25a": {
      "model_module": "@jupyter-widgets/base",
      "model_module_version": "1.2.0",
      "model_name": "LayoutModel",
      "state": {
       "min_width": "6em",
       "width": "6em"
      }
     },
     "d19e9f19e4974ac699a40fc984229f18": {
      "model_module": "@jupyter-widgets/controls",
      "model_module_version": "1.5.0",
      "model_name": "DescriptionStyleModel",
      "state": {
       "description_width": "initial"
      }
     },
     "d1e3d44eb83e4eb0955e5b5d708859ef": {
      "model_module": "@jupyter-widgets/base",
      "model_module_version": "1.2.0",
      "model_name": "LayoutModel",
      "state": {
       "margin": "0 0 0 1em"
      }
     },
     "d1ec88954b8d40f39d910d5d62dffd89": {
      "model_module": "@jupyter-widgets/controls",
      "model_module_version": "1.5.0",
      "model_name": "HTMLModel",
      "state": {
       "layout": "IPY_MODEL_4c02ecaabb3d464a8e1f13289ef231b9",
       "style": "IPY_MODEL_e343eca40e41446d88a114457ac12610"
      }
     },
     "d2530e505f624222a0a6849140ca2083": {
      "model_module": "@jupyter-widgets/base",
      "model_module_version": "1.2.0",
      "model_name": "LayoutModel",
      "state": {
       "min_width": "6em",
       "width": "6em"
      }
     },
     "d25ce0933e09492aaf3e82d5998ac13f": {
      "model_module": "@jupyter-widgets/controls",
      "model_module_version": "1.5.0",
      "model_name": "ButtonStyleModel",
      "state": {}
     },
     "d2695bafe9314bd4a94297905ca6e0bb": {
      "model_module": "@jupyter-widgets/base",
      "model_module_version": "1.2.0",
      "model_name": "LayoutModel",
      "state": {
       "display": "none",
       "grid_area": "filename",
       "width": "auto"
      }
     },
     "d27551605c644f97ba3e20f26c08b589": {
      "model_module": "@jupyter-widgets/controls",
      "model_module_version": "1.5.0",
      "model_name": "VBoxModel",
      "state": {
       "children": [
        "IPY_MODEL_787a40ff1c3045b483f3c14f05d25196",
        "IPY_MODEL_d35c1ebdc8b1481f9f7ca374b3f16656"
       ],
       "layout": "IPY_MODEL_c000847d8b504a8db0433615fb98620e"
      }
     },
     "d277ac8e0f09485c80bdceb202b789d3": {
      "model_module": "@jupyter-widgets/base",
      "model_module_version": "1.2.0",
      "model_name": "LayoutModel",
      "state": {}
     },
     "d28f8b4d2dc042ffaf45877b0877ec6c": {
      "model_module": "@jupyter-widgets/base",
      "model_module_version": "1.2.0",
      "model_name": "LayoutModel",
      "state": {}
     },
     "d2b4bcebc41241afa7daca7d49bf3cc5": {
      "model_module": "@jupyter-widgets/base",
      "model_module_version": "1.2.0",
      "model_name": "LayoutModel",
      "state": {}
     },
     "d35c1ebdc8b1481f9f7ca374b3f16656": {
      "model_module": "@jupyter-widgets/controls",
      "model_module_version": "1.5.0",
      "model_name": "VBoxModel",
      "state": {
       "children": [
        "IPY_MODEL_bbf8a4f3da0c4b3094e403c98a1e36bc"
       ],
       "layout": "IPY_MODEL_af2c60052f27457994910a59691e2256"
      }
     },
     "d390ba2490274c34a1eedfbb2cd10e61": {
      "model_module": "@jupyter-widgets/controls",
      "model_module_version": "1.5.0",
      "model_name": "DescriptionStyleModel",
      "state": {
       "description_width": ""
      }
     },
     "d3ff895671124ec8bf50bf1faa916415": {
      "model_module": "@jupyter-widgets/controls",
      "model_module_version": "1.5.0",
      "model_name": "SelectModel",
      "state": {
       "_options_labels": [
        "📁 ..",
        "📁 SimPEG_PFInversion",
        "📁 Temp"
       ],
       "index": null,
       "layout": "IPY_MODEL_16a2490b2e184b7d804b468b5cf70697",
       "rows": 8,
       "style": "IPY_MODEL_cc370fa82c454c66890fba1301da057f"
      }
     },
     "d406076f2de144fba305930c977dd6c1": {
      "model_module": "@jupyter-widgets/controls",
      "model_module_version": "1.5.0",
      "model_name": "BoxModel",
      "state": {
       "children": [
        "IPY_MODEL_a8cedb30dcb3472db0477fb50778ba7d"
       ],
       "layout": "IPY_MODEL_492398b1fa2246fd97dbb89d4e70a127"
      }
     },
     "d4252a7fd472405b87725f74fe10d2d0": {
      "model_module": "@jupyter-widgets/controls",
      "model_module_version": "1.5.0",
      "model_name": "CheckboxModel",
      "state": {
       "description": "Active",
       "disabled": false,
       "indent": false,
       "layout": "IPY_MODEL_2257235934084ce686148475a50cbd44",
       "style": "IPY_MODEL_63c718232bfa4dc48f7346259ef0dfce",
       "value": false
      }
     },
     "d45decbe0c0d4baaafd948c82f5cf842": {
      "model_module": "@jupyter-widgets/controls",
      "model_module_version": "1.5.0",
      "model_name": "DescriptionStyleModel",
      "state": {
       "description_width": "initial"
      }
     },
     "d474bd233c584f8e8b4edab7f24e28da": {
      "model_module": "@jupyter-widgets/base",
      "model_module_version": "1.2.0",
      "model_name": "LayoutModel",
      "state": {
       "grid_area": "pathlist",
       "width": "auto"
      }
     },
     "d47fb808ca2445edb724d79b581012ed": {
      "model_module": "@jupyter-widgets/controls",
      "model_module_version": "1.5.0",
      "model_name": "VBoxModel",
      "state": {
       "children": [
        "IPY_MODEL_20aa074a0e604bf397d0329f6e709e52",
        "IPY_MODEL_08e273caa0f549639b9d69ba5ab16df7",
        "IPY_MODEL_9196326fcfd641479c571a2d0fee33dd",
        "IPY_MODEL_88b35940c8b444e69a3e53cd407493f3"
       ],
       "layout": "IPY_MODEL_1a9edd5c74d14d798c73701182b89d66"
      }
     },
     "d4ab91dafddc4cd482442e887e080fe8": {
      "model_module": "@jupyter-widgets/controls",
      "model_module_version": "1.5.0",
      "model_name": "DescriptionStyleModel",
      "state": {
       "description_width": ""
      }
     },
     "d52e04aed0fd455f808ef61f4ab1a43b": {
      "model_module": "@jupyter-widgets/base",
      "model_module_version": "1.2.0",
      "model_name": "LayoutModel",
      "state": {
       "width": "auto"
      }
     },
     "d5305ae67a644f2b8ece9455c75ae1ce": {
      "model_module": "@jupyter-widgets/controls",
      "model_module_version": "1.5.0",
      "model_name": "ButtonStyleModel",
      "state": {}
     },
     "d55080478eb8414399735740f73661bf": {
      "model_module": "@jupyter-widgets/base",
      "model_module_version": "1.2.0",
      "model_name": "LayoutModel",
      "state": {
       "margin": "0 0 0 1em"
      }
     },
     "d55f26523ea4418d90bd0960f5c7a72e": {
      "model_module": "@jupyter-widgets/controls",
      "model_module_version": "1.5.0",
      "model_name": "DropdownModel",
      "state": {
       "_options_labels": [
        "",
        "Airborne_Gxx",
        "Airborne_Gxy",
        "Airborne_Gxz",
        "Airborne_Gyy",
        "Airborne_Gyz",
        "Airborne_Gz",
        "Airborne_Gzz",
        "Airborne_TMI",
        "Ground_Gz"
       ],
       "description": "Channel:",
       "index": 0,
       "layout": "IPY_MODEL_1d4329ef10f0494d9672c8cc9a54a12d",
       "style": "IPY_MODEL_16af47e1e16649fd8fae2dad6fd8f6c8"
      }
     },
     "d577aebaf22c40f9abde26e4cc99ac28": {
      "model_module": "@jupyter-widgets/base",
      "model_module_version": "1.2.0",
      "model_name": "LayoutModel",
      "state": {
       "grid_area": "filename",
       "width": "auto"
      }
     },
     "d57be2cbd97d44ec8b36a0f72b013900": {
      "model_module": "@jupyter-widgets/base",
      "model_module_version": "1.2.0",
      "model_name": "LayoutModel",
      "state": {}
     },
     "d57d7e69a7c3445cb06fd3388dceed2f": {
      "model_module": "@jupyter-widgets/base",
      "model_module_version": "1.2.0",
      "model_name": "LayoutModel",
      "state": {}
     },
     "d58af0b6bfcf4b8b8a39a7cef0347d57": {
      "model_module": "@jupyter-widgets/controls",
      "model_module_version": "1.5.0",
      "model_name": "DescriptionStyleModel",
      "state": {
       "description_width": ""
      }
     },
     "d5aa7edea13e4724ab04eb7f19086ffc": {
      "model_module": "@jupyter-widgets/base",
      "model_module_version": "1.2.0",
      "model_name": "LayoutModel",
      "state": {}
     },
     "d5b0b225d4c04712944e05c938b03155": {
      "model_module": "@jupyter-widgets/controls",
      "model_module_version": "1.5.0",
      "model_name": "TextModel",
      "state": {
       "disabled": true,
       "layout": "IPY_MODEL_b78f7e9ceaa443849ed087d5205b4547",
       "placeholder": "output filename",
       "style": "IPY_MODEL_4ff118a8d69744d99cdbf87e1f0c2438"
      }
     },
     "d5d73349e436469fa48dcd0d44fd88eb": {
      "model_module": "@jupyter-widgets/controls",
      "model_module_version": "1.5.0",
      "model_name": "GridBoxModel",
      "state": {
       "children": [
        "IPY_MODEL_03cfd651a6b2499eb47271b8142d79a2",
        "IPY_MODEL_7f147d10a04c4ba7be93e04a6f65d660",
        "IPY_MODEL_8e900f23951b4be4a8e9bd13f2fd8430"
       ],
       "layout": "IPY_MODEL_b64dcfc441ef46c48d99e06909704b3d"
      }
     },
     "d5ea3cdf8d92459abc1b621f900dbb39": {
      "model_module": "@jupyter-widgets/controls",
      "model_module_version": "1.5.0",
      "model_name": "DropdownModel",
      "state": {
       "_options_labels": [
        "",
        "ISO/Iso_Iteration_7_model_5_00e-03",
        "ISO/Iso_Iteration_7_model_1_50e-02",
        "ISO/Iso_Iteration_7_model_2_50e-03",
        "ISO/Iso_Iteration_7_model_1_00e-02",
        "ISO/Iso_Iteration_7_model_2_00e-02",
        "Ore/39_Ore_Callinan",
        "Ore/38_Ore_Dan_Owens",
        "Ore/40_Ore_FlinFlon",
        "CDI/COND_surface",
        "CDI/COND[8]_surface",
        "CDI/COND[18]_surface",
        "CDI/COND[3]_surface",
        "CDI/COND[13]_surface",
        "CDI/CDI_",
        "Workspace/InterpGrid",
        "Workspace/Inversion_VTEM_Model",
        "Workspace/InterpGrid",
        "Workspace/CDI_VTEM_model",
        "Workspace/Data_FEM_pseudo3D",
        "Workspace/O2O_Interp_25m",
        "Workspace/geochem",
        "Workspace/Inversion_DIGHEM_Model",
        "Workspace/InterpGrid",
        "Workspace/Topography",
        "Workspace/Data_TEM_pseudo3D",
        "Workspace/Data_ZTEM",
        "Workspace/Mesh",
        "Workspace/InterpGrid"
       ],
       "description": "Object",
       "index": 0,
       "layout": "IPY_MODEL_c30e6757f6a94ebab632ccf06cff7942",
       "style": "IPY_MODEL_689e3e20462340e69e84bcae8623009f"
      }
     },
     "d60504bb27644c8ea6130343166b0062": {
      "model_module": "@jupyter-widgets/base",
      "model_module_version": "1.2.0",
      "model_name": "LayoutModel",
      "state": {
       "border": "solid"
      }
     },
     "d68c00c60bff4e4d8fc3bb88dc9bdbf6": {
      "model_module": "@jupyter-widgets/controls",
      "model_module_version": "1.5.0",
      "model_name": "VBoxModel",
      "state": {
       "children": [
        "IPY_MODEL_dab7fca32f604f0fbb528b1362093ed3",
        "IPY_MODEL_5a9e87c8ead14022b30b4cf24220140d",
        "IPY_MODEL_e347fac34cfc4672bdcc3f3c568a7c83"
       ],
       "layout": "IPY_MODEL_2ded96b474f0462290b47dd42bc9c773"
      }
     },
     "d68c320803be43d7a49f514912ac8423": {
      "model_module": "@jupyter-widgets/controls",
      "model_module_version": "1.5.0",
      "model_name": "HTMLModel",
      "state": {
       "layout": "IPY_MODEL_a3a5ff9899ec49edbfaf763e6b257e01",
       "placeholder": "",
       "style": "IPY_MODEL_84fcc91e4f8d482c87d333be5d9f9c1f",
       "value": "<span style=\"color:orange;\">C:\\Users\\dominiquef\\Documents\\GIT\\mira\\geoapps\\assets\\FlinFlon.geoh5</span>"
      }
     },
     "d6b5c85fe47148b88e9804d06ad206d2": {
      "model_module": "@jupyter-widgets/controls",
      "model_module_version": "1.5.0",
      "model_name": "DescriptionStyleModel",
      "state": {
       "description_width": "initial"
      }
     },
     "d6c0dd0045614b89b4450959a1a75d16": {
      "model_module": "@jupyter-widgets/controls",
      "model_module_version": "1.5.0",
      "model_name": "ButtonStyleModel",
      "state": {}
     },
     "d7467481bff045b08d8890e0c6c108be": {
      "model_module": "@jupyter-widgets/base",
      "model_module_version": "1.2.0",
      "model_name": "LayoutModel",
      "state": {}
     },
     "d769264ef6b54193adb883dd5eff7878": {
      "model_module": "@jupyter-widgets/controls",
      "model_module_version": "1.5.0",
      "model_name": "DescriptionStyleModel",
      "state": {
       "description_width": ""
      }
     },
     "d76968874b254665bce87f3280d3dc1a": {
      "model_module": "@jupyter-widgets/controls",
      "model_module_version": "1.5.0",
      "model_name": "LabelModel",
      "state": {
       "layout": "IPY_MODEL_83bc00637ed641ddb85efc4f95face8f",
       "style": "IPY_MODEL_d6b5c85fe47148b88e9804d06ad206d2"
      }
     },
     "d77362626b134ed489adfe932ead25db": {
      "model_module": "@jupyter-widgets/base",
      "model_module_version": "1.2.0",
      "model_name": "LayoutModel",
      "state": {}
     },
     "d78f0a4e64954572a5879e7ddab4d9d8": {
      "model_module": "@jupyter-widgets/controls",
      "model_module_version": "1.5.0",
      "model_name": "DescriptionStyleModel",
      "state": {
       "description_width": ""
      }
     },
     "d7a64909a4e24f98a0978f843e75b4a2": {
      "model_module": "@jupyter-widgets/controls",
      "model_module_version": "1.5.0",
      "model_name": "DescriptionStyleModel",
      "state": {
       "description_width": "initial"
      }
     },
     "d7f145a111b94c358209464fde859b44": {
      "model_module": "@jupyter-widgets/base",
      "model_module_version": "1.2.0",
      "model_name": "LayoutModel",
      "state": {
       "margin": "0 0 0 1em"
      }
     },
     "d83c113a86404ca3b8a6827324522fac": {
      "model_module": "@jupyter-widgets/controls",
      "model_module_version": "1.5.0",
      "model_name": "DescriptionStyleModel",
      "state": {
       "description_width": "initial"
      }
     },
     "d84569cefa5c431ba8788d11f66e27f4": {
      "model_module": "@jupyter-widgets/base",
      "model_module_version": "1.2.0",
      "model_name": "LayoutModel",
      "state": {
       "margin": "0 0 0 1em"
      }
     },
     "d853e4906c0b43a6a9dada5afd5c1fcc": {
      "model_module": "@jupyter-widgets/controls",
      "model_module_version": "1.5.0",
      "model_name": "DescriptionStyleModel",
      "state": {
       "description_width": ""
      }
     },
     "d8615d8c069b48e694e23dc33adf9d75": {
      "model_module": "@jupyter-widgets/controls",
      "model_module_version": "1.5.0",
      "model_name": "ButtonModel",
      "state": {
       "description": "Create copy:",
       "layout": "IPY_MODEL_6a0abd79fbec4faa878087bb404d86d8",
       "style": "IPY_MODEL_61a4b5d9c63d4f118750509b6394ec6f"
      }
     },
     "d87df37dc7bd4395bbb91f15ca23b98d": {
      "model_module": "@jupyter-widgets/controls",
      "model_module_version": "1.5.0",
      "model_name": "ButtonModel",
      "state": {
       "button_style": "danger",
       "description": "Compute",
       "icon": "check",
       "layout": "IPY_MODEL_cec3b25b58b74ae5b6b9f0a2b8f6d6ed",
       "style": "IPY_MODEL_605e01c20f9f430ca0adf3fa23a48b1b",
       "tooltip": "Run computation"
      }
     },
     "d881d454a8a14113b94150e6d644e020": {
      "model_module": "@jupyter-widgets/base",
      "model_module_version": "1.2.0",
      "model_name": "LayoutModel",
      "state": {
       "overflow": "auto"
      }
     },
     "d891fdaea9dc4b469289b9f269450dc0": {
      "model_module": "@jupyter-widgets/base",
      "model_module_version": "1.2.0",
      "model_name": "LayoutModel",
      "state": {
       "width": "auto"
      }
     },
     "d8bb741e2e1e45a5bac39db98de9889b": {
      "model_module": "@jupyter-widgets/base",
      "model_module_version": "1.2.0",
      "model_name": "LayoutModel",
      "state": {
       "display": "none"
      }
     },
     "d8c84a506d9544229ecb9aaee012b605": {
      "model_module": "@jupyter-widgets/controls",
      "model_module_version": "1.5.0",
      "model_name": "DescriptionStyleModel",
      "state": {
       "description_width": ""
      }
     },
     "d912b8266b68405aa5f30787b0e50f89": {
      "model_module": "@jupyter-widgets/controls",
      "model_module_version": "1.5.0",
      "model_name": "SelectModel",
      "state": {
       "_options_labels": [
        "📁 ..",
        "📁 SimPEG_PFInversion",
        "📁 Temp"
       ],
       "index": null,
       "layout": "IPY_MODEL_7ad595fb3dad4133b05030c64583287a",
       "rows": 8,
       "style": "IPY_MODEL_d78f0a4e64954572a5879e7ddab4d9d8"
      }
     },
     "d915d6b2da4b4b8caf052e2a82895bd5": {
      "model_module": "@jupyter-widgets/base",
      "model_module_version": "1.2.0",
      "model_name": "LayoutModel",
      "state": {
       "display": "none"
      }
     },
     "d92467aa71b743f68f606705e8a729c7": {
      "model_module": "@jupyter-widgets/controls",
      "model_module_version": "1.5.0",
      "model_name": "VBoxModel",
      "state": {
       "children": [
        "IPY_MODEL_68a239c7a7a34f1fb8348303c5f5bb69",
        "IPY_MODEL_7ea3a8118d254accb45ad147859542eb"
       ],
       "layout": "IPY_MODEL_6cbcaafee55e48bc89495c38d143d25d"
      }
     },
     "d9297603109c41c89fa1a2dc0d5cd2bc": {
      "model_module": "@jupyter-widgets/controls",
      "model_module_version": "1.5.0",
      "model_name": "DescriptionStyleModel",
      "state": {
       "description_width": "initial"
      }
     },
     "d982de08d9f54248a51f49ff0ce3f56f": {
      "model_module": "@jupyter-widgets/controls",
      "model_module_version": "1.5.0",
      "model_name": "DescriptionStyleModel",
      "state": {
       "description_width": "initial"
      }
     },
     "d99304fa198b4df2926031c890e06b5c": {
      "model_module": "@jupyter-widgets/controls",
      "model_module_version": "1.5.0",
      "model_name": "LabelModel",
      "state": {
       "layout": "IPY_MODEL_b885aa9d02ea4c28b4812dd43d78bda3",
       "style": "IPY_MODEL_33f8e0cfa7a64b9d852cb4cad7d36be5",
       "value": "Data Count: 418"
      }
     },
     "d9d8554aff3e472093974bdda2abffed": {
      "model_module": "@jupyter-widgets/base",
      "model_module_version": "1.2.0",
      "model_name": "LayoutModel",
      "state": {}
     },
     "da31d7d1ac9b489c9e9e0c3264da86cb": {
      "model_module": "@jupyter-widgets/controls",
      "model_module_version": "1.5.0",
      "model_name": "DescriptionStyleModel",
      "state": {
       "description_width": ""
      }
     },
     "da3bd60513b7497faaee9bf118be96e5": {
      "model_module": "@jupyter-widgets/base",
      "model_module_version": "1.2.0",
      "model_name": "LayoutModel",
      "state": {}
     },
     "da7f9829651a450789ccf95226c60dce": {
      "model_module": "@jupyter-widgets/controls",
      "model_module_version": "1.5.0",
      "model_name": "DescriptionStyleModel",
      "state": {
       "description_width": "initial"
      }
     },
     "dab7fca32f604f0fbb528b1362093ed3": {
      "model_module": "@jupyter-widgets/controls",
      "model_module_version": "1.5.0",
      "model_name": "HTMLModel",
      "state": {
       "layout": "IPY_MODEL_116d0e979d6440d7bc6aa98b97622a2f",
       "style": "IPY_MODEL_34826dacecd34cc7b990b133d3051612"
      }
     },
     "dadbd07ea26d4f579cb7312b7ec8a448": {
      "model_module": "@jupyter-widgets/controls",
      "model_module_version": "1.5.0",
      "model_name": "FloatTextModel",
      "state": {
       "description": "Floor:",
       "layout": "IPY_MODEL_4d9f059a5d674db2a4c537664de894dc",
       "step": null,
       "style": "IPY_MODEL_7749e471939c4f3c8439efcbd0e2ead3",
       "value": 1
      }
     },
     "daeb760e83ec4343b805eb03aeb9dfaa": {
      "model_module": "@jupyter-widgets/controls",
      "model_module_version": "1.5.0",
      "model_name": "DescriptionStyleModel",
      "state": {
       "description_width": "initial"
      }
     },
     "daeea7582787473fb8c684a542d967d7": {
      "model_module": "@jupyter-widgets/controls",
      "model_module_version": "1.5.0",
      "model_name": "DescriptionStyleModel",
      "state": {
       "description_width": "initial"
      }
     },
     "daf377387a59406e940efc0160ec4915": {
      "model_module": "@jupyter-widgets/controls",
      "model_module_version": "1.5.0",
      "model_name": "DropdownModel",
      "state": {
       "_options_labels": [
        "C:\\Users\\dominiquef\\Documents\\GIT\\mira\\geoapps\\assets\\Temp",
        "C:\\Users\\dominiquef\\Documents\\GIT\\mira\\geoapps\\assets",
        "C:\\Users\\dominiquef\\Documents\\GIT\\mira\\geoapps",
        "C:\\Users\\dominiquef\\Documents\\GIT\\mira",
        "C:\\Users\\dominiquef\\Documents\\GIT",
        "C:\\Users\\dominiquef\\Documents",
        "C:\\Users\\dominiquef",
        "C:\\Users",
        "C:\\",
        "G:\\",
        "\\\\EgnyteDrive\\mirageoscience\\",
        "D:\\"
       ],
       "index": 0,
       "layout": "IPY_MODEL_50eb14cf24a44be6a3fc2fdb10d261f7",
       "style": "IPY_MODEL_d853e4906c0b43a6a9dada5afd5c1fcc"
      }
     },
     "db008ae5837d4dcf9781ff86619a9867": {
      "model_module": "@jupyter-widgets/controls",
      "model_module_version": "1.5.0",
      "model_name": "ButtonModel",
      "state": {
       "description": "Create copy:",
       "layout": "IPY_MODEL_da3bd60513b7497faaee9bf118be96e5",
       "style": "IPY_MODEL_1a2473678dfe45a1a14651a30b9f69e2"
      }
     },
     "db0a797a0e3f4d40a5ea4e0152d3e258": {
      "model_module": "@jupyter-widgets/base",
      "model_module_version": "1.2.0",
      "model_name": "LayoutModel",
      "state": {
       "grid_area": "pathlist",
       "width": "auto"
      }
     },
     "db5bb11dac0d405aa0ea6d871cf66b8e": {
      "model_module": "@jupyter-widgets/base",
      "model_module_version": "1.2.0",
      "model_name": "LayoutModel",
      "state": {}
     },
     "db79b818d03243189a694b3bdfcc914c": {
      "model_module": "@jupyter-widgets/controls",
      "model_module_version": "1.5.0",
      "model_name": "FloatTextModel",
      "state": {
       "description": "dx (+East)",
       "layout": "IPY_MODEL_7ba0a6684ed64b4da4105bee13ae85a3",
       "step": null,
       "style": "IPY_MODEL_0ae25df45ea0411a9da0f9f23b1560c6"
      }
     },
     "dba1929a09304a4191b3d6b137892bef": {
      "model_module": "@jupyter-widgets/controls",
      "model_module_version": "1.5.0",
      "model_name": "ButtonModel",
      "state": {
       "description": "Create copy:",
       "layout": "IPY_MODEL_7b5224a244134b6aae2d68a2b86db529",
       "style": "IPY_MODEL_99993f9634ea48fb8a71552f431be7a3"
      }
     },
     "dbb5bfc278b74807b78c3bbb4dd958fa": {
      "model_module": "@jupyter-widgets/controls",
      "model_module_version": "1.5.0",
      "model_name": "SliderStyleModel",
      "state": {
       "description_width": "initial"
      }
     },
     "dbdf27d6525f4915b5ab15f61bb03622": {
      "model_module": "@jupyter-widgets/controls",
      "model_module_version": "1.5.0",
      "model_name": "VBoxModel",
      "state": {
       "children": [
        "IPY_MODEL_59453d8522d14e5fb8eedf5b1764627f",
        "IPY_MODEL_7c866f1f8d284437a95dabbee88297b5"
       ],
       "layout": "IPY_MODEL_f39f1274bf494dee80326458eb139422"
      }
     },
     "dbf8d088814b4017bae203e2f8e1d86e": {
      "model_module": "@jupyter-widgets/controls",
      "model_module_version": "1.5.0",
      "model_name": "VBoxModel",
      "state": {
       "children": [
        "IPY_MODEL_6a782b8a1f79415182a7b82d6f77974a"
       ],
       "layout": "IPY_MODEL_d28f8b4d2dc042ffaf45877b0877ec6c"
      }
     },
     "dbfd1d7ab5904743bb6d9e21d869e69d": {
      "model_module": "@jupyter-widgets/controls",
      "model_module_version": "1.5.0",
      "model_name": "DescriptionStyleModel",
      "state": {
       "description_width": "initial"
      }
     },
     "dc2c6e0dd2fc4d8e9feebbb7e3e9ad69": {
      "model_module": "@jupyter-widgets/controls",
      "model_module_version": "1.5.0",
      "model_name": "SliderStyleModel",
      "state": {
       "description_width": ""
      }
     },
     "dc524602de8f4349aa778c44808564cf": {
      "model_module": "@jupyter-widgets/controls",
      "model_module_version": "1.5.0",
      "model_name": "DescriptionStyleModel",
      "state": {
       "description_width": ""
      }
     },
     "dc5ffa30eda8464d89aa6bd5c3030680": {
      "model_module": "@jupyter-widgets/base",
      "model_module_version": "1.2.0",
      "model_name": "LayoutModel",
      "state": {}
     },
     "dc6eee4ff9174559af5a91926b0931c4": {
      "model_module": "@jupyter-widgets/controls",
      "model_module_version": "1.5.0",
      "model_name": "DescriptionStyleModel",
      "state": {
       "description_width": "initial"
      }
     },
     "dc81bf00cd7c4890bbda9e5450c4826f": {
      "model_module": "@jupyter-widgets/controls",
      "model_module_version": "1.5.0",
      "model_name": "ButtonModel",
      "state": {
       "description": "Change",
       "layout": "IPY_MODEL_be745cd3dd2c41918d4a50748eac0a74",
       "style": "IPY_MODEL_e975bbf21cfd40fa9373974a5aa1bb68"
      }
     },
     "dc9491973d8d4d71a53994c2ee02091f": {
      "model_module": "@jupyter-widgets/controls",
      "model_module_version": "1.5.0",
      "model_name": "LabelModel",
      "state": {
       "layout": "IPY_MODEL_055464b1b27a49c88a15b1d2ec17885d",
       "style": "IPY_MODEL_1dc10b92ad494a4eb686f7369be010d9",
       "value": "inversion Parameters"
      }
     },
     "dca5ee99e27c4b21871670c50c47ac2b": {
      "model_module": "@jupyter-widgets/controls",
      "model_module_version": "1.5.0",
      "model_name": "DescriptionStyleModel",
      "state": {
       "description_width": ""
      }
     },
     "dca796802c7f4f2bbb77af64a44b4335": {
      "model_module": "@jupyter-widgets/controls",
      "model_module_version": "1.5.0",
      "model_name": "DescriptionStyleModel",
      "state": {
       "description_width": "initial"
      }
     },
     "dcb32a608ce149629c767f25dcd9238b": {
      "model_module": "@jupyter-widgets/controls",
      "model_module_version": "1.5.0",
      "model_name": "DescriptionStyleModel",
      "state": {
       "description_width": "initial"
      }
     },
     "dcb410a6974a46068327e83245d31f0c": {
      "model_module": "@jupyter-widgets/controls",
      "model_module_version": "1.5.0",
      "model_name": "SelectModel",
      "state": {
       "_options_labels": [
        "📁 ..",
        "📁 SimPEG_PFInversion",
        "📁 Temp"
       ],
       "index": null,
       "layout": "IPY_MODEL_93c8ccee871e4cb396cbee063f613eaa",
       "rows": 8,
       "style": "IPY_MODEL_9c7da123ac5349608895328e8ce89fd7"
      }
     },
     "dcbf76c4dfc04e479c744ca7442d4be8": {
      "model_module": "@jupyter-widgets/controls",
      "model_module_version": "1.5.0",
      "model_name": "VBoxModel",
      "state": {
       "children": [
        "IPY_MODEL_4d5e98eb650a41c7b5b39e298fbd3cd3",
        "IPY_MODEL_578cccfac5174611945033f7f27a25a2",
        "IPY_MODEL_254d05da2d6d4ec2a38fee0fc4a9d689",
        "IPY_MODEL_edf487d0fdfd4ac59466ff7138bec601",
        "IPY_MODEL_0f9f200f7da4416c85df85d26457ebf7",
        "IPY_MODEL_9d91200dc7d64645bb36f24eeb439780",
        "IPY_MODEL_62cddf074e7841ceb22b32e8589b5efd",
        "IPY_MODEL_34a41f19fa29452eae891781b4c07f5c",
        "IPY_MODEL_f09df2cdb3414ee18e97ae8833c51390",
        "IPY_MODEL_820f7e0f20d2440589e60d974303e00d",
        "IPY_MODEL_ec0a6722e9854709bdb133b85ab3935f",
        "IPY_MODEL_111764515f7549939037f86da6dcb2bc"
       ],
       "layout": "IPY_MODEL_eef8e6859f3545678ac105f1016e6a75"
      }
     },
     "dcea81aa364e4ca5820f2e2d07fea144": {
      "model_module": "@jupyter-widgets/controls",
      "model_module_version": "1.5.0",
      "model_name": "DescriptionStyleModel",
      "state": {
       "description_width": ""
      }
     },
     "dcf63b1b1bde464e985bd239ae9532c1": {
      "model_module": "@jupyter-widgets/controls",
      "model_module_version": "1.5.0",
      "model_name": "SliderStyleModel",
      "state": {
       "description_width": "initial"
      }
     },
     "dd0a32010fff4efa8e2ce0f557261c5e": {
      "model_module": "@jupyter-widgets/base",
      "model_module_version": "1.2.0",
      "model_name": "LayoutModel",
      "state": {}
     },
     "dd3f909f817b4d8e8a39facb65647e21": {
      "model_module": "@jupyter-widgets/base",
      "model_module_version": "1.2.0",
      "model_name": "LayoutModel",
      "state": {}
     },
     "dd4d914f483b4b249fd04a84d6ec8a6c": {
      "model_module": "@jupyter-widgets/controls",
      "model_module_version": "1.5.0",
      "model_name": "LabelModel",
      "state": {
       "layout": "IPY_MODEL_2d13f132cc174fff8044f0704a6b1557",
       "style": "IPY_MODEL_7a8fe4b7d0064a9aa36783675c6ed4e4",
       "value": "Monitoring folder"
      }
     },
     "dd4da196064740b480538989583a6587": {
      "model_module": "@jupyter-widgets/controls",
      "model_module_version": "1.5.0",
      "model_name": "DescriptionStyleModel",
      "state": {
       "description_width": ""
      }
     },
     "dd9fd5d869014d8db8208977344a2b8d": {
      "model_module": "@jupyter-widgets/controls",
      "model_module_version": "1.5.0",
      "model_name": "HTMLModel",
      "state": {
       "layout": "IPY_MODEL_46ea9abedda54b07b7e481405194df64",
       "placeholder": "",
       "style": "IPY_MODEL_106621696c344535a3e0f20ec2ad2a16",
       "value": "<span style=\"color:green;\">C:\\Users\\dominiquef\\Documents\\GIT\\mira\\geoapps\\assets\\Temp\\</span>"
      }
     },
     "ddaa289c286c4b0e8b135eea72adfbae": {
      "model_module": "@jupyter-widgets/base",
      "model_module_version": "1.2.0",
      "model_name": "LayoutModel",
      "state": {
       "display": "none"
      }
     },
     "ddc84e6ba68940ba83beebd952847465": {
      "model_module": "@jupyter-widgets/controls",
      "model_module_version": "1.5.0",
      "model_name": "VBoxModel",
      "state": {
       "children": [
        "IPY_MODEL_2ebf0bbbdb314e9093f94d5b4568f2a1",
        "IPY_MODEL_0089fbf658fe4c2fb0a957b5cfd393f0"
       ],
       "layout": "IPY_MODEL_2443a2e8949d44a19f95c70056893391"
      }
     },
     "dde45c0b7adb46bd96c0a83d231e4d1a": {
      "model_module": "@jupyter-widgets/base",
      "model_module_version": "1.2.0",
      "model_name": "LayoutModel",
      "state": {}
     },
     "de336add38ef4d07960acbf5af78c748": {
      "model_module": "@jupyter-widgets/controls",
      "model_module_version": "1.5.0",
      "model_name": "DescriptionStyleModel",
      "state": {
       "description_width": "initial"
      }
     },
     "de8e3874873043e5950b2370f49892ef": {
      "model_module": "@jupyter-widgets/controls",
      "model_module_version": "1.5.0",
      "model_name": "DescriptionStyleModel",
      "state": {
       "description_width": ""
      }
     },
     "deb21787073d447f8e6a1bd7c70d418d": {
      "model_module": "@jupyter-widgets/controls",
      "model_module_version": "1.5.0",
      "model_name": "HBoxModel",
      "state": {
       "children": [
        "IPY_MODEL_ce3d19d56dc04e1aabb2a144edb2a27d",
        "IPY_MODEL_7bcfa06d0cf94f2596655f7581ef5792"
       ],
       "layout": "IPY_MODEL_014a653bbf274da6add5872903c201fc"
      }
     },
     "def5f748fbf1442ea041a99f6c941857": {
      "model_module": "@jupyter-widgets/base",
      "model_module_version": "1.2.0",
      "model_name": "LayoutModel",
      "state": {}
     },
     "df18a749bd0b408b99cfd6bd2ec1137b": {
      "model_module": "@jupyter-widgets/controls",
      "model_module_version": "1.5.0",
      "model_name": "SliderStyleModel",
      "state": {
       "description_width": "initial"
      }
     },
     "df9b2e70e3d2481db3e79cdf322e3ec6": {
      "model_module": "@jupyter-widgets/controls",
      "model_module_version": "1.5.0",
      "model_name": "DropdownModel",
      "state": {
       "_options_labels": [
        "",
        "Airborne_Gxx",
        "Airborne_Gxy",
        "Airborne_Gxz",
        "Airborne_Gyy",
        "Airborne_Gyz",
        "Airborne_Gz",
        "Airborne_Gzz",
        "Airborne_TMI",
        "Ground_Gz"
       ],
       "description": "[Optional] Channel:",
       "index": 0,
       "layout": "IPY_MODEL_e4a728f1ee204a7bbb1cb08ce344e0e6",
       "style": "IPY_MODEL_eb13704899684b0bb096bf559f46c0db"
      }
     },
     "dfba08e7c1a140e1963140b0d175311e": {
      "model_module": "@jupyter-widgets/controls",
      "model_module_version": "1.5.0",
      "model_name": "BoxModel",
      "state": {
       "children": [
        "IPY_MODEL_6f5020031fb147c788352318c1042989"
       ],
       "layout": "IPY_MODEL_caf09afb89da48d6be4d70051f26fda6"
      }
     },
     "e0003ad8d52b453b8234b09350b48804": {
      "model_module": "@jupyter-widgets/controls",
      "model_module_version": "1.5.0",
      "model_name": "TextModel",
      "state": {
       "layout": "IPY_MODEL_9c7aa1fb044346a3940e23fcee482154",
       "placeholder": "output filename",
       "style": "IPY_MODEL_1e42175f692946f7b835c180cf123041",
       "value": "FlinFlon.geoh5"
      }
     },
     "e00a85161a79423d9666f162210cf9f8": {
      "model_module": "@jupyter-widgets/controls",
      "model_module_version": "1.5.0",
      "model_name": "DescriptionStyleModel",
      "state": {
       "description_width": "initial"
      }
     },
     "e00c0a269cd146388a8813e0fe67f7a2": {
      "model_module": "@jupyter-widgets/base",
      "model_module_version": "1.2.0",
      "model_name": "LayoutModel",
      "state": {
       "border": "solid"
      }
     },
     "e02376cab6eb46f6bbd01978de002d7c": {
      "model_module": "@jupyter-widgets/controls",
      "model_module_version": "1.5.0",
      "model_name": "DescriptionStyleModel",
      "state": {
       "description_width": "initial"
      }
     },
     "e03413f669fd4d248c2016cb4fa421f4": {
      "model_module": "@jupyter-widgets/base",
      "model_module_version": "1.2.0",
      "model_name": "LayoutModel",
      "state": {}
     },
     "e0521e78924d4db790a45ef80dddff65": {
      "model_module": "@jupyter-widgets/controls",
      "model_module_version": "1.5.0",
      "model_name": "DescriptionStyleModel",
      "state": {
       "description_width": ""
      }
     },
     "e05c2811933648d89573f55de1799bcb": {
      "model_module": "@jupyter-widgets/base",
      "model_module_version": "1.2.0",
      "model_name": "LayoutModel",
      "state": {}
     },
     "e063272bbebb45bb82670191d82a470c": {
      "model_module": "@jupyter-widgets/controls",
      "model_module_version": "1.5.0",
      "model_name": "ButtonModel",
      "state": {
       "description": "Change",
       "layout": "IPY_MODEL_6b3e127878e542fd87ee5c1240e3ec49",
       "style": "IPY_MODEL_9917e90484734e27af4eb7da6b30b244"
      }
     },
     "e09b30a3a3aa40eb8b0dfe8b525ade37": {
      "model_module": "@jupyter-widgets/controls",
      "model_module_version": "1.5.0",
      "model_name": "DescriptionStyleModel",
      "state": {
       "description_width": "initial"
      }
     },
     "e0a8dd67c15f40d3be61cc0718844c3c": {
      "model_module": "@jupyter-widgets/base",
      "model_module_version": "1.2.0",
      "model_name": "LayoutModel",
      "state": {}
     },
     "e0cdbea509a9491c8b0afea64f5c4ce1": {
      "model_module": "@jupyter-widgets/controls",
      "model_module_version": "1.5.0",
      "model_name": "DescriptionStyleModel",
      "state": {
       "description_width": "initial"
      }
     },
     "e0d2bd5fad5544ac832461613b1202ab": {
      "model_module": "@jupyter-widgets/controls",
      "model_module_version": "1.5.0",
      "model_name": "VBoxModel",
      "state": {
       "children": [
        "IPY_MODEL_d1ec88954b8d40f39d910d5d62dffd89",
        "IPY_MODEL_a2b40a44f71f493a8ce3f5240bfe96b3",
        "IPY_MODEL_a8f4212a8b134410bfaa08eb4ec1a76e"
       ],
       "layout": "IPY_MODEL_2ded96b474f0462290b47dd42bc9c773"
      }
     },
     "e1003a47725d4110a2c2b02a8a9315ac": {
      "model_module": "@jupyter-widgets/controls",
      "model_module_version": "1.5.0",
      "model_name": "DropdownModel",
      "state": {
       "description": "Values",
       "index": null,
       "layout": "IPY_MODEL_e03413f669fd4d248c2016cb4fa421f4",
       "style": "IPY_MODEL_ec72356783514491af11929c5c067a19"
      }
     },
     "e114fa2ec0ae4fffbb0bdf50ea845a82": {
      "model_module": "@jupyter-widgets/base",
      "model_module_version": "1.2.0",
      "model_name": "LayoutModel",
      "state": {}
     },
     "e148a16eb3e34020859dcb28837c010c": {
      "model_module": "@jupyter-widgets/controls",
      "model_module_version": "1.5.0",
      "model_name": "HTMLModel",
      "state": {
       "layout": "IPY_MODEL_91f508d8b6594f5da3e0d8c51f02beff",
       "style": "IPY_MODEL_6ba57b3e145a4cedab13864a319f6197"
      }
     },
     "e14e806fddf344009ed0ae8eef581f6f": {
      "model_module": "@jupyter-widgets/base",
      "model_module_version": "1.2.0",
      "model_name": "LayoutModel",
      "state": {}
     },
     "e1727a4027504532b19459737ca784e7": {
      "model_module": "@jupyter-widgets/controls",
      "model_module_version": "1.5.0",
      "model_name": "DescriptionStyleModel",
      "state": {
       "description_width": "initial"
      }
     },
     "e18b2a2251334a178513a3718ecbc2ac": {
      "model_module": "@jupyter-widgets/controls",
      "model_module_version": "1.5.0",
      "model_name": "ButtonStyleModel",
      "state": {}
     },
     "e1915a0468674d998d79fbc5517b1b29": {
      "model_module": "@jupyter-widgets/base",
      "model_module_version": "1.2.0",
      "model_name": "LayoutModel",
      "state": {
       "grid_area": "filename",
       "width": "auto"
      }
     },
     "e193e826c53d4ea68075d1b27c145d03": {
      "model_module": "@jupyter-widgets/controls",
      "model_module_version": "1.5.0",
      "model_name": "ButtonStyleModel",
      "state": {}
     },
     "e19bcc6f06ba4e2e940ff4aa3a5b5e20": {
      "model_module": "@jupyter-widgets/controls",
      "model_module_version": "1.5.0",
      "model_name": "LabelModel",
      "state": {
       "layout": "IPY_MODEL_8bb1c73110194928ade2422067e7e653",
       "style": "IPY_MODEL_dca796802c7f4f2bbb77af64a44b4335",
       "value": "Starting effective susceptibility"
      }
     },
     "e1b50678ccd3447a9d36bd2f74a9b6e1": {
      "model_module": "@jupyter-widgets/controls",
      "model_module_version": "1.5.0",
      "model_name": "VBoxModel",
      "state": {
       "children": [
        "IPY_MODEL_69ad7026e7524785ae03cb70f51370ea",
        "IPY_MODEL_03443c2bcc964aedb68a4ed8aebb40e8"
       ],
       "layout": "IPY_MODEL_db5bb11dac0d405aa0ea6d871cf66b8e"
      }
     },
     "e1c7645a12f741588bd51edae9289f7f": {
      "model_module": "@jupyter-widgets/controls",
      "model_module_version": "1.5.0",
      "model_name": "DescriptionStyleModel",
      "state": {
       "description_width": ""
      }
     },
     "e1cf21dacfb24138bdb720b6e015e008": {
      "model_module": "@jupyter-widgets/base",
      "model_module_version": "1.2.0",
      "model_name": "LayoutModel",
      "state": {}
     },
     "e1e0e1364e2947d59d7b46fca4422e81": {
      "model_module": "@jupyter-widgets/controls",
      "model_module_version": "1.5.0",
      "model_name": "DropdownModel",
      "state": {
       "_options_labels": [
        "",
        "Airborne_Gxx",
        "Airborne_Gxy",
        "Airborne_Gxz",
        "Airborne_Gyy",
        "Airborne_Gyz",
        "Airborne_Gz",
        "Airborne_Gzz",
        "Airborne_TMI",
        "Ground_Gz"
       ],
       "description": "[Optional] Channel:",
       "index": 0,
       "layout": "IPY_MODEL_8e903fc7a1d04953b07d414298239d61",
       "style": "IPY_MODEL_fbfe47bb066b459b92ca5ee5e512ae0a"
      }
     },
     "e20d7658dbc540bfa5110f0e76b3ec46": {
      "model_module": "@jupyter-widgets/controls",
      "model_module_version": "1.5.0",
      "model_name": "HTMLModel",
      "state": {
       "layout": "IPY_MODEL_254ff1fb3f724a0599c01729c9323dc4",
       "style": "IPY_MODEL_4f23540babef4e2da37a8934acb5112c"
      }
     },
     "e247d69f700e4259853b22f4d34c767b": {
      "model_module": "@jupyter-widgets/controls",
      "model_module_version": "1.5.0",
      "model_name": "ButtonModel",
      "state": {
       "description": "Create copy:",
       "layout": "IPY_MODEL_2317fc5bcda24e08be280ddacb845569",
       "style": "IPY_MODEL_934d31ebbf434596bf05e8059ff06891"
      }
     },
     "e2872fe40c444ab3a96343a9f9eeaf32": {
      "model_module": "@jupyter-widgets/base",
      "model_module_version": "1.2.0",
      "model_name": "LayoutModel",
      "state": {}
     },
     "e29e0ef2fef04fbd9aef36a5503b4140": {
      "model_module": "@jupyter-widgets/controls",
      "model_module_version": "1.5.0",
      "model_name": "VBoxModel",
      "state": {
       "children": [
        "IPY_MODEL_8f00c8b2d0924188b5ac0b3189adba43",
        "IPY_MODEL_5089f83519f14617b4105114aaaf9432",
        "IPY_MODEL_02d3b614c2e347bda35829c6fb27f3f2"
       ],
       "layout": "IPY_MODEL_2ded96b474f0462290b47dd42bc9c773"
      }
     },
     "e2a70693bfad44ccbd42a9394a099995": {
      "model_module": "@jupyter-widgets/controls",
      "model_module_version": "1.5.0",
      "model_name": "CheckboxModel",
      "state": {
       "description": "Colorbar",
       "disabled": false,
       "layout": "IPY_MODEL_f9fc041365dc424c9484900169fac87e",
       "style": "IPY_MODEL_62dda6b68a444145958bc72034b92cb6",
       "value": false
      }
     },
     "e2a863e59b354c8c86246ad2c7466f4d": {
      "model_module": "@jupyter-widgets/controls",
      "model_module_version": "1.5.0",
      "model_name": "DescriptionStyleModel",
      "state": {
       "description_width": ""
      }
     },
     "e2b0f21582224555be1d63b222c816a4": {
      "model_module": "@jupyter-widgets/controls",
      "model_module_version": "1.5.0",
      "model_name": "VBoxModel",
      "state": {
       "children": [
        "IPY_MODEL_02ed537cb5564c6fbd59612a553b0181",
        "IPY_MODEL_2168a98c91b04bda8740f4b33f5518c7"
       ],
       "layout": "IPY_MODEL_5a8dfd854a214586a65b7a86a6435bb9"
      }
     },
     "e2c0d05de5c54a6dbbd8dc216055f681": {
      "model_module": "@jupyter-widgets/controls",
      "model_module_version": "1.5.0",
      "model_name": "TextModel",
      "state": {
       "description": "Value (i.e. '<0' for no negatives)",
       "layout": "IPY_MODEL_79d3132cea2f451eb80a3b340bdd1fdb",
       "style": "IPY_MODEL_b9a3c593fe874791aa04c4482bc68e47"
      }
     },
     "e2ee9cb08b2948afb3664365b94b6847": {
      "model_module": "@jupyter-widgets/base",
      "model_module_version": "1.2.0",
      "model_name": "LayoutModel",
      "state": {
       "grid_area": "dircontent",
       "width": "auto"
      }
     },
     "e33ef765351c4776ab97e589cc70ce48": {
      "model_module": "@jupyter-widgets/controls",
      "model_module_version": "1.5.0",
      "model_name": "DescriptionStyleModel",
      "state": {
       "description_width": "initial"
      }
     },
     "e343eca40e41446d88a114457ac12610": {
      "model_module": "@jupyter-widgets/controls",
      "model_module_version": "1.5.0",
      "model_name": "DescriptionStyleModel",
      "state": {
       "description_width": ""
      }
     },
     "e347fac34cfc4672bdcc3f3c568a7c83": {
      "model_module": "@jupyter-widgets/controls",
      "model_module_version": "1.5.0",
      "model_name": "HBoxModel",
      "state": {
       "children": [
        "IPY_MODEL_7a7d6a00f1bf44cf861fd8c64eb7ff56",
        "IPY_MODEL_c4a0e040307b4029aa8fd66754383138",
        "IPY_MODEL_f64de1c4676d459bb3dc13dfb62f2ea9"
       ],
       "layout": "IPY_MODEL_1649a0b08c2247dd841105346ac8444a"
      }
     },
     "e36194bfb87845e6bd4a6d75a589e0bf": {
      "model_module": "@jupyter-widgets/controls",
      "model_module_version": "1.5.0",
      "model_name": "DescriptionStyleModel",
      "state": {
       "description_width": ""
      }
     },
     "e37440b489004e04a2e0f853389498fc": {
      "model_module": "@jupyter-widgets/base",
      "model_module_version": "1.2.0",
      "model_name": "LayoutModel",
      "state": {
       "grid_area": "pathlist",
       "width": "auto"
      }
     },
     "e3ead5e689f949719e86972b0a1b66a9": {
      "model_module": "@jupyter-widgets/controls",
      "model_module_version": "1.5.0",
      "model_name": "VBoxModel",
      "state": {
       "children": [
        "IPY_MODEL_8d5c0ee7a511454c960e89592b57964b",
        "IPY_MODEL_f7e7eb06fb6944c986b84a89a2e740fb",
        "IPY_MODEL_06b82b41c35f4afca7d28af95151cf1d",
        "IPY_MODEL_5bdf689f6e7c4d298dbf96987af75ae9"
       ],
       "layout": "IPY_MODEL_b04b05b1f84c45358f7bcb50ca089425"
      }
     },
     "e3ef6c42c75343228db4c52fa69fd952": {
      "model_module": "@jupyter-widgets/base",
      "model_module_version": "1.2.0",
      "model_name": "LayoutModel",
      "state": {
       "grid_area": "dircontent",
       "width": "auto"
      }
     },
     "e428a85ad4ae4c53b3179b8fe79522cc": {
      "model_module": "@jupyter-widgets/base",
      "model_module_version": "1.2.0",
      "model_name": "LayoutModel",
      "state": {}
     },
     "e42f8a46876042ff965583d17cf9abc5": {
      "model_module": "@jupyter-widgets/controls",
      "model_module_version": "1.5.0",
      "model_name": "ButtonStyleModel",
      "state": {}
     },
     "e43dcc2e0eab4a5eaf309215a41682e1": {
      "model_module": "@jupyter-widgets/controls",
      "model_module_version": "1.5.0",
      "model_name": "DescriptionStyleModel",
      "state": {
       "description_width": "initial"
      }
     },
     "e44f78eecdf44ac388fc5a59f98bc104": {
      "model_module": "@jupyter-widgets/base",
      "model_module_version": "1.2.0",
      "model_name": "LayoutModel",
      "state": {
       "margin": "0 0 0 1em"
      }
     },
     "e4998b228655479cb23ef8cff09f7080": {
      "model_module": "@jupyter-widgets/controls",
      "model_module_version": "1.5.0",
      "model_name": "VBoxModel",
      "state": {
       "children": [
        "IPY_MODEL_b4fbf245ec0b4bb4a5452e093035efa3",
        "IPY_MODEL_e9c4f0db191248228121b1b015c358f3"
       ],
       "layout": "IPY_MODEL_e6cafd83e0734420a53f1bd5737411b0"
      }
     },
     "e4a728f1ee204a7bbb1cb08ce344e0e6": {
      "model_module": "@jupyter-widgets/base",
      "model_module_version": "1.2.0",
      "model_name": "LayoutModel",
      "state": {}
     },
     "e4b3c9c2485446fea11b4e1a75bdf83f": {
      "model_module": "@jupyter-widgets/controls",
      "model_module_version": "1.5.0",
      "model_name": "HTMLModel",
      "state": {
       "layout": "IPY_MODEL_0cda8d03f168456c9638040bab72bfa6",
       "style": "IPY_MODEL_add942153eb441a3b9722d700cdafd7f"
      }
     },
     "e4ba991edb524c8b99b6a37347e2f0f8": {
      "model_module": "@jupyter-widgets/controls",
      "model_module_version": "1.5.0",
      "model_name": "DescriptionStyleModel",
      "state": {
       "description_width": "initial"
      }
     },
     "e5063d5058754339b92ad82b8578f905": {
      "model_module": "@jupyter-widgets/base",
      "model_module_version": "1.2.0",
      "model_name": "LayoutModel",
      "state": {}
     },
     "e589b5ccbb8d48b38e63ece7d519f220": {
      "model_module": "@jupyter-widgets/base",
      "model_module_version": "1.2.0",
      "model_name": "LayoutModel",
      "state": {}
     },
     "e58bceec93fc4eae83d43bdea519ddeb": {
      "model_module": "@jupyter-widgets/base",
      "model_module_version": "1.2.0",
      "model_name": "LayoutModel",
      "state": {
       "display": "none"
      }
     },
     "e5b408576a294652a0cd76bd8834e11f": {
      "model_module": "@jupyter-widgets/base",
      "model_module_version": "1.2.0",
      "model_name": "LayoutModel",
      "state": {}
     },
     "e60e779b2ad04096863594b2bf815edc": {
      "model_module": "@jupyter-widgets/controls",
      "model_module_version": "1.5.0",
      "model_name": "HBoxModel",
      "state": {
       "children": [
        "IPY_MODEL_080ab9f045494e9dbd15ba0df36da401",
        "IPY_MODEL_a6731cfa09d04f37a0f65d03e9e521d7",
        "IPY_MODEL_1adc0804993e4943b6e8247371b85dc1"
       ],
       "layout": "IPY_MODEL_3a1bf0bb1a3f42dea58be20c771280bb"
      }
     },
     "e617cce1e3fb41009bbe2b81c6763d1c": {
      "model_module": "@jupyter-widgets/controls",
      "model_module_version": "1.5.0",
      "model_name": "DropdownModel",
      "state": {
       "_options_labels": [
        "C:\\Users\\dominiquef\\Documents\\GIT\\mira\\geoapps\\assets",
        "C:\\Users\\dominiquef\\Documents\\GIT\\mira\\geoapps",
        "C:\\Users\\dominiquef\\Documents\\GIT\\mira",
        "C:\\Users\\dominiquef\\Documents\\GIT",
        "C:\\Users\\dominiquef\\Documents",
        "C:\\Users\\dominiquef",
        "C:\\Users",
        "C:\\",
        "G:\\",
        "\\\\EgnyteDrive\\mirageoscience\\",
        "D:\\"
       ],
       "index": 0,
       "layout": "IPY_MODEL_e37440b489004e04a2e0f853389498fc",
       "style": "IPY_MODEL_c87906b16c2043ea98118fce5322643f"
      }
     },
     "e61eac0f4ecf4765a9d024fad180efcf": {
      "model_module": "@jupyter-widgets/base",
      "model_module_version": "1.2.0",
      "model_name": "LayoutModel",
      "state": {}
     },
     "e64274a7f2094dba99293781c55e9745": {
      "model_module": "@jupyter-widgets/base",
      "model_module_version": "1.2.0",
      "model_name": "LayoutModel",
      "state": {
       "grid_area": "pathlist",
       "width": "auto"
      }
     },
     "e6c73d7f59f34ce5994a6074f4aa9334": {
      "model_module": "@jupyter-widgets/base",
      "model_module_version": "1.2.0",
      "model_name": "LayoutModel",
      "state": {}
     },
     "e6cafd83e0734420a53f1bd5737411b0": {
      "model_module": "@jupyter-widgets/base",
      "model_module_version": "1.2.0",
      "model_name": "LayoutModel",
      "state": {}
     },
     "e6d7c18376c748e1ae39b05e904931a2": {
      "model_module": "@jupyter-widgets/controls",
      "model_module_version": "1.5.0",
      "model_name": "VBoxModel",
      "state": {
       "children": [
        "IPY_MODEL_4faeae27024d4319bac35187209d026b",
        "IPY_MODEL_5c35166130ef4b39a919814dc5382671",
        "IPY_MODEL_b8f62ec63351495cabff22a22c05bb3d"
       ],
       "layout": "IPY_MODEL_2ac7de9ae78a46989eabf265633d6450"
      }
     },
     "e6ed328b40ec45f1a93a5e00108d9da3": {
      "model_module": "@jupyter-widgets/controls",
      "model_module_version": "1.5.0",
      "model_name": "SelectModel",
      "state": {
       "_options_labels": [
        "📁 ..",
        "📁 SimPEG_PFInversion",
        "📁 Temp",
        "📁 uijson",
        "FlinFlon.geoh5",
        "FlinFlon_dcip.geoh5",
        "FlinFlon_natural_sources.geoh5",
        "MtDore_TMI.geoh5",
        "tem.geoh5",
        "test_forward.ui.geoh5",
        "test_forward.ui.json"
       ],
       "index": 4,
       "layout": "IPY_MODEL_0e5a1900bee44b4fb832ea5c190b922e",
       "rows": 8,
       "style": "IPY_MODEL_cb5647d23c464d298dd4eb96413188ab"
      }
     },
     "e6f1455dac2e4d8d84486d69d1522b58": {
      "model_module": "@jupyter-widgets/controls",
      "model_module_version": "1.5.0",
      "model_name": "ButtonStyleModel",
      "state": {}
     },
     "e6f5b79ce35f460e8f4a6e2e937740c2": {
      "model_module": "@jupyter-widgets/controls",
      "model_module_version": "1.5.0",
      "model_name": "DescriptionStyleModel",
      "state": {
       "description_width": ""
      }
     },
     "e704be7eb1a44c93b92245b3d2a60726": {
      "model_module": "@jupyter-widgets/base",
      "model_module_version": "1.2.0",
      "model_name": "LayoutModel",
      "state": {
       "display": "none",
       "min_width": "6em",
       "width": "6em"
      }
     },
     "e7272625e9594bab93c3b6935474afbd": {
      "model_module": "@jupyter-widgets/base",
      "model_module_version": "1.2.0",
      "model_name": "LayoutModel",
      "state": {
       "display": "none",
       "min_width": "6em",
       "width": "6em"
      }
     },
     "e7542c3b02ea4f6a85e058d3c2d6b063": {
      "model_module": "@jupyter-widgets/controls",
      "model_module_version": "1.5.0",
      "model_name": "DescriptionStyleModel",
      "state": {
       "description_width": ""
      }
     },
     "e7586cae76474a40876e3efc1837f607": {
      "model_module": "@jupyter-widgets/controls",
      "model_module_version": "1.5.0",
      "model_name": "VBoxModel",
      "state": {
       "children": [
        "IPY_MODEL_e19bcc6f06ba4e2e940ff4aa3a5b5e20",
        "IPY_MODEL_25437404f0b446fbb1248e1f5419e6fd"
       ],
       "layout": "IPY_MODEL_6e394d4781d046f69249ebe8eb767a92"
      }
     },
     "e76f2279fad74fdf811b52872d62555c": {
      "model_module": "@jupyter-widgets/controls",
      "model_module_version": "1.5.0",
      "model_name": "DropdownModel",
      "state": {
       "_options_labels": [
        "",
        "ISO/Iso_Iteration_7_model_5_00e-03",
        "ISO/Iso_Iteration_7_model_1_50e-02",
        "ISO/Iso_Iteration_7_model_2_50e-03",
        "ISO/Iso_Iteration_7_model_1_00e-02",
        "ISO/Iso_Iteration_7_model_2_00e-02",
        "Ore/39_Ore_Callinan",
        "Ore/38_Ore_Dan_Owens",
        "Ore/40_Ore_FlinFlon",
        "CDI/COND_surface",
        "CDI/COND[8]_surface",
        "CDI/COND[18]_surface",
        "CDI/COND[3]_surface",
        "CDI/COND[13]_surface",
        "CDI/CDI_",
        "Workspace/InterpGrid",
        "Workspace/Inversion_VTEM_Model",
        "Workspace/InterpGrid",
        "Workspace/CDI_VTEM_model",
        "Workspace/Data_FEM_pseudo3D",
        "Workspace/O2O_Interp_25m",
        "Workspace/geochem",
        "Workspace/Inversion_DIGHEM_Model",
        "Workspace/InterpGrid",
        "Workspace/Topography",
        "Workspace/Data_TEM_pseudo3D",
        "Workspace/Data_ZTEM",
        "Workspace/Mesh",
        "Workspace/InterpGrid"
       ],
       "description": "Object",
       "index": 0,
       "layout": "IPY_MODEL_556e007646fc47d582041e606baba192",
       "style": "IPY_MODEL_c1ecf301d50a4a9f8e999f0b6135a4b7"
      }
     },
     "e7c2450be492493381cde7ae3ad0082c": {
      "model_module": "@jupyter-widgets/base",
      "model_module_version": "1.2.0",
      "model_name": "LayoutModel",
      "state": {}
     },
     "e7c723b97ccb4b5b853db5c872712d12": {
      "model_module": "@jupyter-widgets/controls",
      "model_module_version": "1.5.0",
      "model_name": "DropdownModel",
      "state": {
       "description": "Values",
       "index": null,
       "layout": "IPY_MODEL_be18e7c135314318b380c9fff3ba1d39",
       "style": "IPY_MODEL_703d59a84b3b494b9039f32afb13fdfc"
      }
     },
     "e7cf6bf95d9f4068bc078f5d6c01477e": {
      "model_module": "@jupyter-widgets/controls",
      "model_module_version": "1.5.0",
      "model_name": "ButtonStyleModel",
      "state": {}
     },
     "e7cfa446a5f04435b2397ccb9593e168": {
      "model_module": "@jupyter-widgets/controls",
      "model_module_version": "1.5.0",
      "model_name": "LabelModel",
      "state": {
       "layout": "IPY_MODEL_7bb43f7e4d3a4380bb901691383814fe",
       "style": "IPY_MODEL_da31d7d1ac9b489c9e9e0c3264da86cb",
       "value": "Data Count: 0"
      }
     },
     "e7e27cf8433a40f9a8731cba8e2580d0": {
      "model_module": "@jupyter-widgets/controls",
      "model_module_version": "1.5.0",
      "model_name": "DescriptionStyleModel",
      "state": {
       "description_width": ""
      }
     },
     "e7f7bc0c3f0344c6b46d83324868b66b": {
      "model_module": "@jupyter-widgets/base",
      "model_module_version": "1.2.0",
      "model_name": "LayoutModel",
      "state": {}
     },
     "e865cd5eb00a4354b62a7cca9b303491": {
      "model_module": "@jupyter-widgets/controls",
      "model_module_version": "1.5.0",
      "model_name": "VBoxModel",
      "state": {
       "children": [
        "IPY_MODEL_d0486adb8bc149a087311b37ff428550",
        "IPY_MODEL_377538e36e264867970daf6654d1208f"
       ],
       "layout": "IPY_MODEL_f12361e52ac24b92a265c16ffaca8107"
      }
     },
     "e8745e58a2cd43c989569f1b69374d59": {
      "model_module": "@jupyter-widgets/controls",
      "model_module_version": "1.5.0",
      "model_name": "DescriptionStyleModel",
      "state": {
       "description_width": ""
      }
     },
     "e8e90f92a6b94e5388b5d0f46931bca4": {
      "model_module": "@jupyter-widgets/controls",
      "model_module_version": "1.5.0",
      "model_name": "HTMLModel",
      "state": {
       "layout": "IPY_MODEL_8eaa3f924699400eaec51921a755bf80",
       "placeholder": "",
       "style": "IPY_MODEL_86dc30190b084cbd87c4566185435139",
       "value": "<span style=\"color:orange;\">C:\\Users\\dominiquef\\Documents\\GIT\\mira\\geoapps\\assets\\FlinFlon.geoh5</span>"
      }
     },
     "e91200ddb4f34de6aa067725e713e9fd": {
      "model_module": "@jupyter-widgets/controls",
      "model_module_version": "1.5.0",
      "model_name": "TextModel",
      "state": {
       "description": "Save as:",
       "layout": "IPY_MODEL_2acaee977a3f4170b2344fdb39f0e15a",
       "style": "IPY_MODEL_8c709e71e18e4797bdb734d6f2c6b5d3",
       "value": "VectorInversion"
      }
     },
     "e959b4fc65b54f3293e5d6877d009880": {
      "model_module": "@jupyter-widgets/controls",
      "model_module_version": "1.5.0",
      "model_name": "DescriptionStyleModel",
      "state": {
       "description_width": ""
      }
     },
     "e975bbf21cfd40fa9373974a5aa1bb68": {
      "model_module": "@jupyter-widgets/controls",
      "model_module_version": "1.5.0",
      "model_name": "ButtonStyleModel",
      "state": {}
     },
     "e992acf7e18847088eff88141eb21c68": {
      "model_module": "@jupyter-widgets/controls",
      "model_module_version": "1.5.0",
      "model_name": "DescriptionStyleModel",
      "state": {
       "description_width": ""
      }
     },
     "e9c4f0db191248228121b1b015c358f3": {
      "model_module": "@jupyter-widgets/controls",
      "model_module_version": "1.5.0",
      "model_name": "DropdownModel",
      "state": {
       "_options_labels": [
        "",
        "Airborne_Gxx",
        "Airborne_Gxy",
        "Airborne_Gxz",
        "Airborne_Gyy",
        "Airborne_Gyz",
        "Airborne_Gz",
        "Airborne_Gzz",
        "Airborne_TMI",
        "Ground_Gz"
       ],
       "description": "[Optional] Channel:",
       "index": 0,
       "layout": "IPY_MODEL_74cf95e143654569b544f94d1ca9d372",
       "style": "IPY_MODEL_6cefdf62a50347849625ffd25a689e29"
      }
     },
     "e9e82b46c53947ab855255fb858be8df": {
      "model_module": "@jupyter-widgets/controls",
      "model_module_version": "1.5.0",
      "model_name": "DescriptionStyleModel",
      "state": {
       "description_width": ""
      }
     },
     "e9f2d21fd8c942b2b910a1b7562d12ae": {
      "model_module": "@jupyter-widgets/controls",
      "model_module_version": "1.5.0",
      "model_name": "DescriptionStyleModel",
      "state": {
       "description_width": "initial"
      }
     },
     "ea026ab9e8f84c3790ff592a9f3efdda": {
      "model_module": "@jupyter-widgets/controls",
      "model_module_version": "1.5.0",
      "model_name": "CheckboxModel",
      "state": {
       "description": "Geoscience ANALYST Pro - Live link",
       "disabled": false,
       "indent": false,
       "layout": "IPY_MODEL_e61eac0f4ecf4765a9d024fad180efcf",
       "style": "IPY_MODEL_082ff4637a394d088a6b6ac422d55e8f",
       "value": false
      }
     },
     "ea0ec65de4a64b7c961b1ea712fc0b4f": {
      "model_module": "@jupyter-widgets/base",
      "model_module_version": "1.2.0",
      "model_name": "LayoutModel",
      "state": {}
     },
     "ea1d5a7cfc794e76a3869a12dc838881": {
      "model_module": "@jupyter-widgets/controls",
      "model_module_version": "1.5.0",
      "model_name": "DescriptionStyleModel",
      "state": {
       "description_width": "initial"
      }
     },
     "ea2bf6e5e67844b2a884a3512143ae34": {
      "model_module": "@jupyter-widgets/controls",
      "model_module_version": "1.5.0",
      "model_name": "DescriptionStyleModel",
      "state": {
       "description_width": "initial"
      }
     },
     "ea3ccf77a8e849638f7231b66163e09a": {
      "model_module": "@jupyter-widgets/controls",
      "model_module_version": "1.5.0",
      "model_name": "DescriptionStyleModel",
      "state": {
       "description_width": "initial"
      }
     },
     "ea919d0351734d7d8c4ce90cde1dda20": {
      "model_module": "@jupyter-widgets/controls",
      "model_module_version": "1.5.0",
      "model_name": "DescriptionStyleModel",
      "state": {
       "description_width": ""
      }
     },
     "eaea13f9c104473ca307e38f2c1c5dca": {
      "model_module": "@jupyter-widgets/controls",
      "model_module_version": "1.5.0",
      "model_name": "ButtonStyleModel",
      "state": {}
     },
     "eb0d5a06a74b4f5a908ef13be6ebea1e": {
      "model_module": "@jupyter-widgets/controls",
      "model_module_version": "1.5.0",
      "model_name": "DescriptionStyleModel",
      "state": {
       "description_width": ""
      }
     },
     "eb13704899684b0bb096bf559f46c0db": {
      "model_module": "@jupyter-widgets/controls",
      "model_module_version": "1.5.0",
      "model_name": "DescriptionStyleModel",
      "state": {
       "description_width": "initial"
      }
     },
     "eb23cdb088164b28b38805786f0ddce7": {
      "model_module": "@jupyter-widgets/controls",
      "model_module_version": "1.5.0",
      "model_name": "DescriptionStyleModel",
      "state": {
       "description_width": ""
      }
     },
     "eb2e042c0a2548c4bbc898024d3c2e56": {
      "model_module": "@jupyter-widgets/controls",
      "model_module_version": "1.5.0",
      "model_name": "DropdownModel",
      "state": {
       "_options_labels": [
        "",
        "Airborne_Gxx",
        "Airborne_Gxy",
        "Airborne_Gxz",
        "Airborne_Gyy",
        "Airborne_Gyz",
        "Airborne_Gz",
        "Airborne_Gzz",
        "Airborne_TMI",
        "Ground_Gz"
       ],
       "description": "Channel:",
       "index": 0,
       "layout": "IPY_MODEL_14b82ab6a26c48e7b254c6cdca5a66df",
       "style": "IPY_MODEL_7e30a942f0544612819e0b15ae43237a"
      }
     },
     "eb310444fb3f419fa4d7f8f9d3d71d6b": {
      "model_module": "@jupyter-widgets/controls",
      "model_module_version": "1.5.0",
      "model_name": "DescriptionStyleModel",
      "state": {
       "description_width": ""
      }
     },
     "eb4408f1b57c453b8b912b8668d11dfc": {
      "model_module": "@jupyter-widgets/controls",
      "model_module_version": "1.5.0",
      "model_name": "DescriptionStyleModel",
      "state": {
       "description_width": "initial"
      }
     },
     "eb57583c62804837b5f5d17544c44c8f": {
      "model_module": "@jupyter-widgets/base",
      "model_module_version": "1.2.0",
      "model_name": "LayoutModel",
      "state": {}
     },
     "eb624200ca754b158fa69ff26e2c821d": {
      "model_module": "@jupyter-widgets/controls",
      "model_module_version": "1.5.0",
      "model_name": "ButtonStyleModel",
      "state": {}
     },
     "eb62ff8269734d0ab6ab4680024c00a6": {
      "model_module": "@jupyter-widgets/base",
      "model_module_version": "1.2.0",
      "model_name": "LayoutModel",
      "state": {}
     },
     "eb669fd57ec142a7a771969ae45d3cb3": {
      "model_module": "@jupyter-widgets/controls",
      "model_module_version": "1.5.0",
      "model_name": "VBoxModel",
      "state": {
       "children": [
        "IPY_MODEL_d005eb9df6ff43928f751678c10b15f0",
        "IPY_MODEL_535a66a8274a42a2a8b622f2048b2259"
       ],
       "layout": "IPY_MODEL_e6c73d7f59f34ce5994a6074f4aa9334"
      }
     },
     "eb685de529604a949c1e73e653985f21": {
      "model_module": "@jupyter-widgets/controls",
      "model_module_version": "1.5.0",
      "model_name": "DescriptionStyleModel",
      "state": {
       "description_width": ""
      }
     },
     "eb78f86937a44bb899f83c312bc239fc": {
      "model_module": "@jupyter-widgets/controls",
      "model_module_version": "1.5.0",
      "model_name": "VBoxModel",
      "state": {
       "children": [
        "IPY_MODEL_138d77fd4fce4c81b77ce68692193133",
        "IPY_MODEL_fcdeffb53f364b27a55c89e02e416a72"
       ],
       "layout": "IPY_MODEL_a427af81ceb94a58bb3fa2ec2651e2e8"
      }
     },
     "eb9e859ffcb74beba93166c7a1065c29": {
      "model_module": "@jupyter-widgets/controls",
      "model_module_version": "1.5.0",
      "model_name": "DescriptionStyleModel",
      "state": {
       "description_width": ""
      }
     },
     "ebcc9de00c164e279883f497fe4487a6": {
      "model_module": "@jupyter-widgets/controls",
      "model_module_version": "1.5.0",
      "model_name": "DropdownModel",
      "state": {
       "_options_labels": [
        "",
        "ISO/Iso_Iteration_7_model_5_00e-03",
        "ISO/Iso_Iteration_7_model_1_50e-02",
        "ISO/Iso_Iteration_7_model_2_50e-03",
        "ISO/Iso_Iteration_7_model_1_00e-02",
        "ISO/Iso_Iteration_7_model_2_00e-02",
        "Ore/39_Ore_Callinan",
        "Ore/38_Ore_Dan_Owens",
        "Ore/40_Ore_FlinFlon",
        "CDI/COND_surface",
        "CDI/COND[8]_surface",
        "CDI/COND[18]_surface",
        "CDI/COND[3]_surface",
        "CDI/COND[13]_surface",
        "CDI/CDI_",
        "Workspace/InterpGrid",
        "Workspace/Inversion_VTEM_Model",
        "Workspace/InterpGrid",
        "Workspace/Gravity_Magnetics_drape60m",
        "Workspace/CDI_VTEM_model",
        "Workspace/Data_FEM_pseudo3D",
        "Workspace/O2O_Interp_25m",
        "Workspace/geochem",
        "Workspace/Inversion_DIGHEM_Model",
        "Workspace/InterpGrid",
        "Workspace/Topography",
        "Workspace/Data_TEM_pseudo3D",
        "Workspace/Data_ZTEM",
        "Workspace/Mesh",
        "Workspace/InterpGrid"
       ],
       "description": "Object:",
       "index": 0,
       "layout": "IPY_MODEL_580ea91518364ade9b7ac112ea20eeb7",
       "style": "IPY_MODEL_25321a1a708440c8a462f501ba8944ef"
      }
     },
     "ebcd1c20392040eaa841f2081741426f": {
      "model_module": "@jupyter-widgets/controls",
      "model_module_version": "1.5.0",
      "model_name": "DescriptionStyleModel",
      "state": {
       "description_width": "initial"
      }
     },
     "ebe4696db9c745abadefdb8bf3b140b5": {
      "model_module": "@jupyter-widgets/controls",
      "model_module_version": "1.5.0",
      "model_name": "DropdownModel",
      "state": {
       "description": "Data: ",
       "index": null,
       "layout": "IPY_MODEL_9d2829e51a6f45038a90348d59387901",
       "style": "IPY_MODEL_eb4408f1b57c453b8b912b8668d11dfc"
      }
     },
     "ebfc2d57a41742f19136361118cf67d1": {
      "model_module": "@jupyter-widgets/controls",
      "model_module_version": "1.5.0",
      "model_name": "ButtonStyleModel",
      "state": {}
     },
     "ec030d5723a2491ba9aab5c7a72e7823": {
      "model_module": "@jupyter-widgets/controls",
      "model_module_version": "1.5.0",
      "model_name": "TextModel",
      "state": {
       "disabled": true,
       "layout": "IPY_MODEL_d2695bafe9314bd4a94297905ca6e0bb",
       "placeholder": "output filename",
       "style": "IPY_MODEL_fcd93a863deb44e29c52c5ea7050df19"
      }
     },
     "ec0a6722e9854709bdb133b85ab3935f": {
      "model_module": "@jupyter-widgets/controls",
      "model_module_version": "1.5.0",
      "model_name": "FloatTextModel",
      "state": {
       "description": "Vertical padding (m)",
       "layout": "IPY_MODEL_7ee0fbd84c4049acb4d8d6e4b4f2fb4a",
       "step": null,
       "style": "IPY_MODEL_cc5c38687456481a9ae70aa20bc9fd72",
       "value": 1000
      }
     },
     "ec13cc6f0ff34f42b4b5ac4308448656": {
      "model_module": "@jupyter-widgets/controls",
      "model_module_version": "1.5.0",
      "model_name": "CheckboxModel",
      "state": {
       "description": "Geoscience ANALYST Pro - Live link",
       "disabled": false,
       "indent": false,
       "layout": "IPY_MODEL_8b1783f6cbaa40e8b66c97673aceafe0",
       "style": "IPY_MODEL_10e1354821f6426286365a20bff559e4",
       "value": false
      }
     },
     "ec72356783514491af11929c5c067a19": {
      "model_module": "@jupyter-widgets/controls",
      "model_module_version": "1.5.0",
      "model_name": "DescriptionStyleModel",
      "state": {
       "description_width": "initial"
      }
     },
     "ec799a7f13c347b59fb457028a668196": {
      "model_module": "@jupyter-widgets/base",
      "model_module_version": "1.2.0",
      "model_name": "LayoutModel",
      "state": {}
     },
     "ecc8b11a7bab4ad295bdd5d55cba93f9": {
      "model_module": "@jupyter-widgets/base",
      "model_module_version": "1.2.0",
      "model_name": "LayoutModel",
      "state": {
       "display": "none"
      }
     },
     "ece8dd65179040458065711ace48280d": {
      "model_module": "@jupyter-widgets/controls",
      "model_module_version": "1.5.0",
      "model_name": "DescriptionStyleModel",
      "state": {
       "description_width": "initial"
      }
     },
     "ecf1ee49374b4a03bbabe5861d870ef0": {
      "model_module": "@jupyter-widgets/base",
      "model_module_version": "1.2.0",
      "model_name": "LayoutModel",
      "state": {
       "display": "none",
       "grid_gap": "0px 0px",
       "grid_template_areas": "\n                    'pathlist pathlist'\n                    'dircontent dircontent'\n                    ",
       "grid_template_columns": "60% 40%",
       "grid_template_rows": "auto auto",
       "width": "auto"
      }
     },
     "ed2fe8fa2c2a4413bfe2d6b8b481ddec": {
      "model_module": "@jupyter-widgets/controls",
      "model_module_version": "1.5.0",
      "model_name": "ButtonModel",
      "state": {
       "description": "Create copy:",
       "layout": "IPY_MODEL_a3faf28827e540999cf74a0ef07bfe12",
       "style": "IPY_MODEL_4988f5e195cd4a4291ac02915ba2efd5"
      }
     },
     "ed3c029666c04c98995ceb2bf79b2dd9": {
      "model_module": "@jupyter-widgets/controls",
      "model_module_version": "1.5.0",
      "model_name": "DropdownModel",
      "state": {
       "_options_labels": [
        "",
        "Airborne_Gxx",
        "Airborne_Gxy",
        "Airborne_Gxz",
        "Airborne_Gyy",
        "Airborne_Gyz",
        "Airborne_Gz",
        "Airborne_Gzz",
        "Airborne_TMI",
        "Ground_Gz"
       ],
       "description": "[Optional] Channel:",
       "index": 0,
       "layout": "IPY_MODEL_e428a85ad4ae4c53b3179b8fe79522cc",
       "style": "IPY_MODEL_1f64b06936fa499a8a2d2ebca6f08443"
      }
     },
     "ed6046ee93824c45a12cb937196ce413": {
      "model_module": "@jupyter-widgets/base",
      "model_module_version": "1.2.0",
      "model_name": "LayoutModel",
      "state": {}
     },
     "ed7f39503ddf400899df51e8cf687a82": {
      "model_module": "@jupyter-widgets/base",
      "model_module_version": "1.2.0",
      "model_name": "LayoutModel",
      "state": {}
     },
     "edf487d0fdfd4ac59466ff7138bec601": {
      "model_module": "@jupyter-widgets/controls",
      "model_module_version": "1.5.0",
      "model_name": "FloatTextModel",
      "state": {
       "layout": "IPY_MODEL_a3ff1745dd4a48989fff5f23050623a1",
       "step": null,
       "style": "IPY_MODEL_03930c23b46946cfa73d79a599bb3a3e",
       "value": 25
      }
     },
     "eeb594d725414ef992ad57a4b6780dc5": {
      "model_module": "@jupyter-widgets/base",
      "model_module_version": "1.2.0",
      "model_name": "LayoutModel",
      "state": {}
     },
     "eec045cf73944713a5a2113fdad1fe4e": {
      "model_module": "@jupyter-widgets/controls",
      "model_module_version": "1.5.0",
      "model_name": "CheckboxModel",
      "state": {
       "description": "Active",
       "disabled": false,
       "indent": false,
       "layout": "IPY_MODEL_366e9a6502f04d47b8a2e2f7bf9512b1",
       "style": "IPY_MODEL_daeb760e83ec4343b805eb03aeb9dfaa",
       "value": false
      }
     },
     "eef8e6859f3545678ac105f1016e6a75": {
      "model_module": "@jupyter-widgets/base",
      "model_module_version": "1.2.0",
      "model_name": "LayoutModel",
      "state": {}
     },
     "eefce8b7de56463bbe780d35abe6b3e4": {
      "model_module": "@jupyter-widgets/controls",
      "model_module_version": "1.5.0",
      "model_name": "DescriptionStyleModel",
      "state": {
       "description_width": "initial"
      }
     },
     "ef0aa61cfe0a4dab82d4071530c4e54c": {
      "model_module": "@jupyter-widgets/controls",
      "model_module_version": "1.5.0",
      "model_name": "VBoxModel",
      "state": {
       "children": [
        "IPY_MODEL_266fc45ad8d745e38d997ba2cc7dfd13",
        "IPY_MODEL_eb2e042c0a2548c4bbc898024d3c2e56",
        "IPY_MODEL_00e54fb2ab914fbf9e059ae360f1c776",
        "IPY_MODEL_e4998b228655479cb23ef8cff09f7080"
       ],
       "layout": "IPY_MODEL_21bf3e59f7b841ab9024029f1cb0688d"
      }
     },
     "ef1940bf074548b6a38062ebbd7798a3": {
      "model_module": "@jupyter-widgets/base",
      "model_module_version": "1.2.0",
      "model_name": "LayoutModel",
      "state": {
       "display": "none",
       "grid_gap": "0px 0px",
       "grid_template_areas": "\n                    'pathlist filename'\n                    'dircontent dircontent'\n                    ",
       "grid_template_columns": "60% 40%",
       "grid_template_rows": "auto auto",
       "width": "auto"
      }
     },
     "ef2d7c7f405d4260a779bc99a686f3e1": {
      "model_module": "@jupyter-widgets/base",
      "model_module_version": "1.2.0",
      "model_name": "LayoutModel",
      "state": {}
     },
     "ef33cd9847f340109096fefe5b04747d": {
      "model_module": "@jupyter-widgets/controls",
      "model_module_version": "1.5.0",
      "model_name": "DescriptionStyleModel",
      "state": {
       "description_width": ""
      }
     },
     "efb599f3491f4f3fa16eeeff1af3c93e": {
      "model_module": "@jupyter-widgets/controls",
      "model_module_version": "1.5.0",
      "model_name": "VBoxModel",
      "state": {
       "children": [
        "IPY_MODEL_c50e1d7b5188460499820f290e57ab0c",
        "IPY_MODEL_21ffce96396545399f32953e51357ce4"
       ],
       "layout": "IPY_MODEL_982cda3eb80e4b45a738fda26a27ee5e"
      }
     },
     "efc826ef7dcd42dc853d8ab34b572931": {
      "model_module": "@jupyter-widgets/base",
      "model_module_version": "1.2.0",
      "model_name": "LayoutModel",
      "state": {
       "display": "none",
       "grid_gap": "0px 0px",
       "grid_template_areas": "\n                    'pathlist filename'\n                    'dircontent dircontent'\n                    ",
       "grid_template_columns": "60% 40%",
       "grid_template_rows": "auto auto",
       "width": "auto"
      }
     },
     "efd7ba07c08d47308b44f74f41a42d0a": {
      "model_module": "@jupyter-widgets/controls",
      "model_module_version": "1.5.0",
      "model_name": "DescriptionStyleModel",
      "state": {
       "description_width": ""
      }
     },
     "eff42ee696a14c179b0e8ced58e3e84e": {
      "model_module": "@jupyter-widgets/controls",
      "model_module_version": "1.5.0",
      "model_name": "DescriptionStyleModel",
      "state": {
       "description_width": "initial"
      }
     },
     "effbd7b6bfa9485786e42e68e47b270c": {
      "model_module": "@jupyter-widgets/controls",
      "model_module_version": "1.5.0",
      "model_name": "TextModel",
      "state": {
       "disabled": true,
       "layout": "IPY_MODEL_8688cc0befe14090b21b2fad92d8306c",
       "placeholder": "output filename",
       "style": "IPY_MODEL_f8fb6917d5644a4ab97babcfcc66793e"
      }
     },
     "f010c49dd6d94a929a1dfe3cc8322084": {
      "model_module": "@jupyter-widgets/controls",
      "model_module_version": "1.5.0",
      "model_name": "DescriptionStyleModel",
      "state": {
       "description_width": ""
      }
     },
     "f04cd2ad5d19479e84c692d8e8e41774": {
      "model_module": "@jupyter-widgets/controls",
      "model_module_version": "1.5.0",
      "model_name": "HBoxModel",
      "state": {
       "children": [
        "IPY_MODEL_0556ec8c82b443b0b2a9c5608b66d5b2",
        "IPY_MODEL_5f89ae52cf4e414badec270235c46a63",
        "IPY_MODEL_fb783c74dedf448885f56b293c239169"
       ],
       "layout": "IPY_MODEL_a432fbc059724fe484a3517f745ad9fe"
      }
     },
     "f0556e121c64498e9a3bf9936dc94ecf": {
      "model_module": "@jupyter-widgets/controls",
      "model_module_version": "1.5.0",
      "model_name": "LabelModel",
      "state": {
       "layout": "IPY_MODEL_4624bd4bbd8f4d6db4f5e4d19e067a5e",
       "style": "IPY_MODEL_1b9e1e35590b46ccab61fc24062508c4",
       "value": "Workspace"
      }
     },
     "f09df2cdb3414ee18e97ae8833c51390": {
      "model_module": "@jupyter-widgets/controls",
      "model_module_version": "1.5.0",
      "model_name": "LabelModel",
      "state": {
       "layout": "IPY_MODEL_66a40659f48048dcb8a34d6bdb86413f",
       "style": "IPY_MODEL_97705344b22f4a55b96c3ab1ef3bc953",
       "value": "Dimensions"
      }
     },
     "f0a6751bc86b44bb9de758ef03399ffa": {
      "model_module": "@jupyter-widgets/controls",
      "model_module_version": "1.5.0",
      "model_name": "DescriptionStyleModel",
      "state": {
       "description_width": "initial"
      }
     },
     "f0ad965a7a824477bf858df90c3ddea4": {
      "model_module": "@jupyter-widgets/controls",
      "model_module_version": "1.5.0",
      "model_name": "VBoxModel",
      "state": {
       "children": [
        "IPY_MODEL_9b8487c62ac1451dbd93ceb1d13f80a8"
       ],
       "layout": "IPY_MODEL_b81eb425ac8a4a94a541de945b148083"
      }
     },
     "f0b4bbb707294db8a8ec7fc4cc17d62f": {
      "model_module": "@jupyter-widgets/controls",
      "model_module_version": "1.5.0",
      "model_name": "DropdownModel",
      "state": {
       "_options_labels": [
        "C:\\Users\\dominiquef\\Documents\\GIT\\mira\\geoapps\\assets",
        "C:\\Users\\dominiquef\\Documents\\GIT\\mira\\geoapps",
        "C:\\Users\\dominiquef\\Documents\\GIT\\mira",
        "C:\\Users\\dominiquef\\Documents\\GIT",
        "C:\\Users\\dominiquef\\Documents",
        "C:\\Users\\dominiquef",
        "C:\\Users",
        "C:\\",
        "G:\\",
        "\\\\EgnyteDrive\\mirageoscience\\",
        "D:\\"
       ],
       "index": 0,
       "layout": "IPY_MODEL_168c1656984c43568a5d447a3321d1bc",
       "style": "IPY_MODEL_179f131d49b545cc8e502adc676c3a08"
      }
     },
     "f0b6f9531dcc4603980bb9541fcb8db8": {
      "model_module": "@jupyter-widgets/controls",
      "model_module_version": "1.5.0",
      "model_name": "ButtonStyleModel",
      "state": {}
     },
     "f10dd7e9e10c4504909d1fd974b26db2": {
      "model_module": "@jupyter-widgets/controls",
      "model_module_version": "1.5.0",
      "model_name": "DescriptionStyleModel",
      "state": {
       "description_width": ""
      }
     },
     "f11c11059ac449c789a35fda1e574573": {
      "model_module": "@jupyter-widgets/controls",
      "model_module_version": "1.5.0",
      "model_name": "VBoxModel",
      "state": {
       "children": [
        "IPY_MODEL_7d4e17c1945d41c0ac3ec991b2543086",
        "IPY_MODEL_c7f53d00be614c5a8667a61801f006b7"
       ],
       "layout": "IPY_MODEL_e2872fe40c444ab3a96343a9f9eeaf32"
      }
     },
     "f12361e52ac24b92a265c16ffaca8107": {
      "model_module": "@jupyter-widgets/base",
      "model_module_version": "1.2.0",
      "model_name": "LayoutModel",
      "state": {}
     },
     "f12bf736951f410a98ba506478dafaa8": {
      "model_module": "@jupyter-widgets/base",
      "model_module_version": "1.2.0",
      "model_name": "LayoutModel",
      "state": {
       "display": "none"
      }
     },
     "f12ecd2ebba44ee68c956b423e52fc22": {
      "model_module": "@jupyter-widgets/base",
      "model_module_version": "1.2.0",
      "model_name": "LayoutModel",
      "state": {}
     },
     "f135ac5aff91481f87175da700a19516": {
      "model_module": "@jupyter-widgets/base",
      "model_module_version": "1.2.0",
      "model_name": "LayoutModel",
      "state": {}
     },
     "f18e5a377b8744138bf87633c36ee4f0": {
      "model_module": "@jupyter-widgets/base",
      "model_module_version": "1.2.0",
      "model_name": "LayoutModel",
      "state": {
       "grid_area": "pathlist",
       "width": "auto"
      }
     },
     "f1b731595d5842a1b8fbe2c5fd6d16b9": {
      "model_module": "@jupyter-widgets/controls",
      "model_module_version": "1.5.0",
      "model_name": "GridBoxModel",
      "state": {
       "children": [
        "IPY_MODEL_7b37d1580fe846fcb0a8f6a4662a9aca",
        "IPY_MODEL_46dba457afe54af8a0a44316e05fdd2d",
        "IPY_MODEL_9d3b8cb83a0c4b218139cf65c4201581"
       ],
       "layout": "IPY_MODEL_f828f79edbd54406b473bc9937d1fc8a"
      }
     },
     "f216f8341ab24364b14d22eb1efa6b2a": {
      "model_module": "@jupyter-widgets/controls",
      "model_module_version": "1.5.0",
      "model_name": "ButtonStyleModel",
      "state": {}
     },
     "f2671cb3714340138857c0a70a21944d": {
      "model_module": "@jupyter-widgets/base",
      "model_module_version": "1.2.0",
      "model_name": "LayoutModel",
      "state": {
       "overflow": "auto"
      }
     },
     "f284e282967742cc890f7f1691347567": {
      "model_module": "@jupyter-widgets/base",
      "model_module_version": "1.2.0",
      "model_name": "LayoutModel",
      "state": {
       "overflow": "auto"
      }
     },
     "f29ab072660f44e89302cb3352ba9487": {
      "model_module": "@jupyter-widgets/base",
      "model_module_version": "1.2.0",
      "model_name": "LayoutModel",
      "state": {
       "display": "none",
       "grid_gap": "0px 0px",
       "grid_template_areas": "\n                    'pathlist pathlist'\n                    'dircontent dircontent'\n                    ",
       "grid_template_columns": "60% 40%",
       "grid_template_rows": "auto auto",
       "width": "auto"
      }
     },
     "f2a7364e57b54041aed9a4d749e9da9a": {
      "model_module": "@jupyter-widgets/controls",
      "model_module_version": "1.5.0",
      "model_name": "DescriptionStyleModel",
      "state": {
       "description_width": "initial"
      }
     },
     "f2ddfa14f980491a894d283ed9608672": {
      "model_module": "@jupyter-widgets/controls",
      "model_module_version": "1.5.0",
      "model_name": "DescriptionStyleModel",
      "state": {
       "description_width": "initial"
      }
     },
     "f31b5115e55b4057826017a7779c5fbd": {
      "model_module": "@jupyter-widgets/controls",
      "model_module_version": "1.5.0",
      "model_name": "ButtonModel",
      "state": {
       "description": "Change",
       "layout": "IPY_MODEL_95c862a2433344dcb0af8afe2df7c73d",
       "style": "IPY_MODEL_4a6b24b944354eb09e03305413c0049c"
      }
     },
     "f357c30ff34943b5884bcdf66b82d701": {
      "model_module": "@jupyter-widgets/controls",
      "model_module_version": "1.5.0",
      "model_name": "DropdownModel",
      "state": {
       "_options_labels": [
        "",
        "Airborne_Gxx",
        "Airborne_Gxy",
        "Airborne_Gxz",
        "Airborne_Gyy",
        "Airborne_Gyz",
        "Airborne_Gz",
        "Airborne_Gzz",
        "Airborne_TMI",
        "Ground_Gz"
       ],
       "description": "Channel:",
       "index": 0,
       "layout": "IPY_MODEL_b6fde39fcfc24cd49d39d692d34fd2af",
       "style": "IPY_MODEL_7bf86551e0f74347957592823952d86c"
      }
     },
     "f35d1f0d2e9b4568b0fc1a7deb871333": {
      "model_module": "@jupyter-widgets/controls",
      "model_module_version": "1.5.0",
      "model_name": "DescriptionStyleModel",
      "state": {
       "description_width": "initial"
      }
     },
     "f39f1274bf494dee80326458eb139422": {
      "model_module": "@jupyter-widgets/base",
      "model_module_version": "1.2.0",
      "model_name": "LayoutModel",
      "state": {}
     },
     "f3b0e8b8e48b490aabb55266c18204bb": {
      "model_module": "@jupyter-widgets/controls",
      "model_module_version": "1.5.0",
      "model_name": "ButtonModel",
      "state": {
       "description": "Cancel",
       "layout": "IPY_MODEL_296fcf1f1e4e41acac3f89f69ef8a811",
       "style": "IPY_MODEL_b315b94c697c4e128e764beca8c869dc"
      }
     },
     "f3bb98551cc64450b73618dae4c0a313": {
      "model_module": "@jupyter-widgets/base",
      "model_module_version": "1.2.0",
      "model_name": "LayoutModel",
      "state": {}
     },
     "f3cda1f5ac9042758d8e5073fc3d8d06": {
      "model_module": "@jupyter-widgets/controls",
      "model_module_version": "1.5.0",
      "model_name": "DescriptionStyleModel",
      "state": {
       "description_width": "initial"
      }
     },
     "f3cf621edcfb43f78241a3fbb329b14b": {
      "model_module": "@jupyter-widgets/controls",
      "model_module_version": "1.5.0",
      "model_name": "DropdownModel",
      "state": {
       "_options_labels": [
        "C:\\Users\\dominiquef\\Documents\\GIT\\mira\\geoapps\\assets\\Temp",
        "C:\\Users\\dominiquef\\Documents\\GIT\\mira\\geoapps\\assets",
        "C:\\Users\\dominiquef\\Documents\\GIT\\mira\\geoapps",
        "C:\\Users\\dominiquef\\Documents\\GIT\\mira",
        "C:\\Users\\dominiquef\\Documents\\GIT",
        "C:\\Users\\dominiquef\\Documents",
        "C:\\Users\\dominiquef",
        "C:\\Users",
        "C:\\",
        "G:\\",
        "\\\\EgnyteDrive\\mirageoscience\\",
        "D:\\"
       ],
       "index": 0,
       "layout": "IPY_MODEL_1f30fd70535c457c89dcfae323bba6a7",
       "style": "IPY_MODEL_b4e6699fa41443b8b9320fe2d4cfeb4d"
      }
     },
     "f3e8db8a07484bf8acdc7d291bb322f3": {
      "model_module": "@jupyter-widgets/controls",
      "model_module_version": "1.5.0",
      "model_name": "DescriptionStyleModel",
      "state": {
       "description_width": "initial"
      }
     },
     "f3eaf583ff8a440187b967d5d6a45561": {
      "model_module": "@jupyter-widgets/base",
      "model_module_version": "1.2.0",
      "model_name": "LayoutModel",
      "state": {}
     },
     "f3f4189585db482f9cb05eadab6062bd": {
      "model_module": "@jupyter-widgets/controls",
      "model_module_version": "1.5.0",
      "model_name": "VBoxModel",
      "state": {
       "children": [
        "IPY_MODEL_25b54324263e4dd1a9275eccad085ead",
        "IPY_MODEL_29d8ffbe6f124f58a7fb0951533784fc"
       ],
       "layout": "IPY_MODEL_f135ac5aff91481f87175da700a19516"
      }
     },
     "f434bae0ca494ed48a2afb2826a7e1fc": {
      "model_module": "@jupyter-widgets/base",
      "model_module_version": "1.2.0",
      "model_name": "LayoutModel",
      "state": {}
     },
     "f45e067910d746cebe1dca13eb62440b": {
      "model_module": "@jupyter-widgets/controls",
      "model_module_version": "1.5.0",
      "model_name": "DescriptionStyleModel",
      "state": {
       "description_width": "initial"
      }
     },
     "f48d4ef1fa3f4aceb411fb8833f4f20f": {
      "model_module": "@jupyter-widgets/controls",
      "model_module_version": "1.5.0",
      "model_name": "ButtonStyleModel",
      "state": {}
     },
     "f4900b6b52964498a9605d1ff811c418": {
      "model_module": "@jupyter-widgets/controls",
      "model_module_version": "1.5.0",
      "model_name": "DescriptionStyleModel",
      "state": {
       "description_width": "initial"
      }
     },
     "f4bdadb3a19340d7852d0b64095f6309": {
      "model_module": "@jupyter-widgets/controls",
      "model_module_version": "1.5.0",
      "model_name": "HTMLModel",
      "state": {
       "layout": "IPY_MODEL_4774fb14183e4d28a10e6fea5b6bf49a",
       "placeholder": "",
       "style": "IPY_MODEL_1e5b071fa31f47218101e16a8bbab30a",
       "value": "<span style=\"color:green;\">C:\\Users\\dominiquef\\Documents\\GIT\\mira\\geoapps\\assets\\Temp\\</span>"
      }
     },
     "f4c22f8f40474766879bd76399ba4a0e": {
      "model_module": "@jupyter-widgets/controls",
      "model_module_version": "1.5.0",
      "model_name": "DescriptionStyleModel",
      "state": {
       "description_width": "initial"
      }
     },
     "f4cd78fb3346432f896161d9663ea76a": {
      "model_module": "@jupyter-widgets/controls",
      "model_module_version": "1.5.0",
      "model_name": "LabelModel",
      "state": {
       "layout": "IPY_MODEL_62c675876330484caddbce4a1d47dc51",
       "style": "IPY_MODEL_63b97dd161e14abea47b87e593096dac",
       "value": "Monitoring folder"
      }
     },
     "f50b651776494084b869c9b69148b78f": {
      "model_module": "@jupyter-widgets/controls",
      "model_module_version": "1.5.0",
      "model_name": "HBoxModel",
      "state": {
       "children": [
        "IPY_MODEL_112b1ce9cbc54b598fd02e6abb8f1460",
        "IPY_MODEL_b6c30a6280d0432d856ad2621b39c5c1",
        "IPY_MODEL_1bd45a03481b432999ad10ef6b1e3424"
       ],
       "layout": "IPY_MODEL_bf0c076eef064be8b5648c890a8c5fd6"
      }
     },
     "f551f5273abd46fca5617d4e13005331": {
      "model_module": "@jupyter-widgets/base",
      "model_module_version": "1.2.0",
      "model_name": "LayoutModel",
      "state": {
       "width": "auto"
      }
     },
     "f57822acc51349ce9416cbe56483a3fe": {
      "model_module": "@jupyter-widgets/base",
      "model_module_version": "1.2.0",
      "model_name": "LayoutModel",
      "state": {
       "overflow": "auto"
      }
     },
     "f6019e4ac78a48fd85a9bd1b3a5a4e24": {
      "model_module": "@jupyter-widgets/base",
      "model_module_version": "1.2.0",
      "model_name": "LayoutModel",
      "state": {
       "display": "none",
       "min_width": "6em",
       "width": "6em"
      }
     },
     "f6049d1b8e604a4cadb9e3be64e179d1": {
      "model_module": "@jupyter-widgets/controls",
      "model_module_version": "1.5.0",
      "model_name": "DropdownModel",
      "state": {
       "description": "Values",
       "index": null,
       "layout": "IPY_MODEL_a6ebf53cf91f4dbdbd9faf6a35fb686b",
       "style": "IPY_MODEL_41d806c13e67409497d20f15423061c7"
      }
     },
     "f61a9c83d5f7416895a12096ba1d64a9": {
      "model_module": "@jupyter-widgets/base",
      "model_module_version": "1.2.0",
      "model_name": "LayoutModel",
      "state": {
       "overflow": "auto"
      }
     },
     "f639ccdbfdf340fe9470327422390147": {
      "model_module": "@jupyter-widgets/controls",
      "model_module_version": "1.5.0",
      "model_name": "DescriptionStyleModel",
      "state": {
       "description_width": "initial"
      }
     },
     "f63ec067407f4885a2d9a268082ad929": {
      "model_module": "@jupyter-widgets/controls",
      "model_module_version": "1.5.0",
      "model_name": "FloatTextModel",
      "state": {
       "description": "EW-gradient (x)",
       "layout": "IPY_MODEL_ea0ec65de4a64b7c961b1ea712fc0b4f",
       "step": null,
       "style": "IPY_MODEL_f79f537dd84446429a3ec03be3cd1f96",
       "value": 1
      }
     },
     "f6486f2d53b74e79827da55e8d83508c": {
      "model_module": "@jupyter-widgets/controls",
      "model_module_version": "1.5.0",
      "model_name": "GridBoxModel",
      "state": {
       "children": [
        "IPY_MODEL_e617cce1e3fb41009bbe2b81c6763d1c",
        "IPY_MODEL_028482559b7d4a64b4f72d9946cb0d0b",
        "IPY_MODEL_8768a11678e84242ae81f291ee5c760b"
       ],
       "layout": "IPY_MODEL_682dd7b7df094d3aa156881444448944"
      }
     },
     "f64de1c4676d459bb3dc13dfb62f2ea9": {
      "model_module": "@jupyter-widgets/controls",
      "model_module_version": "1.5.0",
      "model_name": "BoxModel",
      "state": {
       "children": [
        "IPY_MODEL_3aa8e2f5bacb449d8e2fb24789f762db"
       ],
       "layout": "IPY_MODEL_b57d3dcf4a584dfdb2d0436c996957ca"
      }
     },
     "f650beb794b64822b2db602c63d0bba7": {
      "model_module": "@jupyter-widgets/base",
      "model_module_version": "1.2.0",
      "model_name": "LayoutModel",
      "state": {}
     },
     "f651202717674bd9b7982af0d9169d4c": {
      "model_module": "@jupyter-widgets/controls",
      "model_module_version": "1.5.0",
      "model_name": "DescriptionStyleModel",
      "state": {
       "description_width": "initial"
      }
     },
     "f67a5aa2fb524281aa47a03079c536d4": {
      "model_module": "@jupyter-widgets/base",
      "model_module_version": "1.2.0",
      "model_name": "LayoutModel",
      "state": {
       "width": "auto"
      }
     },
     "f691d91bc1024a4daea1a6bb59e4fca8": {
      "model_module": "@jupyter-widgets/controls",
      "model_module_version": "1.5.0",
      "model_name": "VBoxModel",
      "state": {
       "children": [
        "IPY_MODEL_6648d099f4544e24a8fff25700d301a3",
        "IPY_MODEL_8db187d6afb748f6ab7ce2200a41e031"
       ],
       "layout": "IPY_MODEL_791a9d096a72414bb7884105a131e464"
      }
     },
     "f6b2d666c4ba4d52a8e5265d32470943": {
      "model_module": "@jupyter-widgets/controls",
      "model_module_version": "1.5.0",
      "model_name": "DescriptionStyleModel",
      "state": {
       "description_width": ""
      }
     },
     "f6c322598fdd4f2dab08430c7bf656c4": {
      "model_module": "@jupyter-widgets/controls",
      "model_module_version": "1.5.0",
      "model_name": "DescriptionStyleModel",
      "state": {
       "description_width": ""
      }
     },
     "f745ced319454dbc852ae710ef6237fc": {
      "model_module": "@jupyter-widgets/controls",
      "model_module_version": "1.5.0",
      "model_name": "ButtonModel",
      "state": {
       "description": "Change",
       "layout": "IPY_MODEL_8c748567c80c45f8b0d9864a80777c3a",
       "style": "IPY_MODEL_722cf721a93f4013986a7e6d9ec3c21c"
      }
     },
     "f7533bc46db7497e8ae6943da6c6e99f": {
      "model_module": "@jupyter-widgets/base",
      "model_module_version": "1.2.0",
      "model_name": "LayoutModel",
      "state": {}
     },
     "f75d98c52ee94205bed00cd28c58c7a4": {
      "model_module": "@jupyter-widgets/base",
      "model_module_version": "1.2.0",
      "model_name": "LayoutModel",
      "state": {
       "grid_area": "pathlist",
       "width": "auto"
      }
     },
     "f78150a835d740639e121484023445a5": {
      "model_module": "@jupyter-widgets/base",
      "model_module_version": "1.2.0",
      "model_name": "LayoutModel",
      "state": {
       "display": "none",
       "grid_gap": "0px 0px",
       "grid_template_areas": "\n                    'pathlist pathlist'\n                    'dircontent dircontent'\n                    ",
       "grid_template_columns": "60% 40%",
       "grid_template_rows": "auto auto",
       "width": "auto"
      }
     },
     "f79f537dd84446429a3ec03be3cd1f96": {
      "model_module": "@jupyter-widgets/controls",
      "model_module_version": "1.5.0",
      "model_name": "DescriptionStyleModel",
      "state": {
       "description_width": "initial"
      }
     },
     "f7b591c19da34a3c9ddd062ba4af26cc": {
      "model_module": "@jupyter-widgets/controls",
      "model_module_version": "1.5.0",
      "model_name": "DescriptionStyleModel",
      "state": {
       "description_width": ""
      }
     },
     "f7b71873886444299d05f2017ee8042d": {
      "model_module": "@jupyter-widgets/base",
      "model_module_version": "1.2.0",
      "model_name": "LayoutModel",
      "state": {
       "display": "none",
       "min_width": "6em",
       "width": "6em"
      }
     },
     "f7e7eb06fb6944c986b84a89a2e740fb": {
      "model_module": "@jupyter-widgets/controls",
      "model_module_version": "1.5.0",
      "model_name": "DropdownModel",
      "state": {
       "_options_labels": [
        "",
        "Airborne_Gxx",
        "Airborne_Gxy",
        "Airborne_Gxz",
        "Airborne_Gyy",
        "Airborne_Gyz",
        "Airborne_Gz",
        "Airborne_Gzz",
        "Airborne_TMI",
        "Ground_Gz"
       ],
       "description": "Channel:",
       "index": 0,
       "layout": "IPY_MODEL_5746051974d347eca3ae346319d50547",
       "style": "IPY_MODEL_51fe55687d6944cda4b88329ad1dcf40"
      }
     },
     "f7eebac9d5174971afc7c19454522925": {
      "model_module": "@jupyter-widgets/controls",
      "model_module_version": "1.5.0",
      "model_name": "LabelModel",
      "state": {
       "layout": "IPY_MODEL_511fb18370e14125b6879990a8b1212d",
       "style": "IPY_MODEL_244c9a30b2c14e1ea6b55f4763abc701",
       "value": "Inducing Field Parameters"
      }
     },
     "f7f807f9777e4f4582237aa0776da8e6": {
      "model_module": "@jupyter-widgets/controls",
      "model_module_version": "1.5.0",
      "model_name": "DescriptionStyleModel",
      "state": {
       "description_width": "initial"
      }
     },
     "f80af9d27ca2436fa398c3b77b960b0f": {
      "model_module": "@jupyter-widgets/base",
      "model_module_version": "1.2.0",
      "model_name": "LayoutModel",
      "state": {
       "margin": "0 0 0 1em"
      }
     },
     "f80fb2ea32b7494caee1229f970fa96d": {
      "model_module": "@jupyter-widgets/controls",
      "model_module_version": "1.5.0",
      "model_name": "ButtonStyleModel",
      "state": {}
     },
     "f81f2a26b45e4a95befd73e88b94f1e0": {
      "model_module": "@jupyter-widgets/controls",
      "model_module_version": "1.5.0",
      "model_name": "RadioButtonsModel",
      "state": {
       "_options_labels": [
        "Model",
        "Constant",
        "None"
       ],
       "index": 2,
       "layout": "IPY_MODEL_336a770e24dc4653813e2572794b77fe",
       "style": "IPY_MODEL_f98b875a02c0414bb296054991e5eb7c"
      }
     },
     "f828f79edbd54406b473bc9937d1fc8a": {
      "model_module": "@jupyter-widgets/base",
      "model_module_version": "1.2.0",
      "model_name": "LayoutModel",
      "state": {
       "display": "none",
       "grid_gap": "0px 0px",
       "grid_template_areas": "\n                    'pathlist pathlist'\n                    'dircontent dircontent'\n                    ",
       "grid_template_columns": "60% 40%",
       "grid_template_rows": "auto auto",
       "width": "auto"
      }
     },
     "f83b4643bb2d498eafc179a60951c3d1": {
      "model_module": "@jupyter-widgets/controls",
      "model_module_version": "1.5.0",
      "model_name": "BoxModel",
      "state": {
       "children": [
        "IPY_MODEL_81de48bc98904dc5be0b9e2b5166ea57"
       ],
       "layout": "IPY_MODEL_f2671cb3714340138857c0a70a21944d"
      }
     },
     "f86572c142f14dfd8b50f5ffb1ee3871": {
      "model_module": "@jupyter-widgets/controls",
      "model_module_version": "1.5.0",
      "model_name": "DescriptionStyleModel",
      "state": {
       "description_width": "initial"
      }
     },
     "f865fbe4aea24d898c5174ef812e2a5d": {
      "model_module": "@jupyter-widgets/controls",
      "model_module_version": "1.5.0",
      "model_name": "ButtonStyleModel",
      "state": {}
     },
     "f8824fc231594e70a18c3a5224006c4f": {
      "model_module": "@jupyter-widgets/base",
      "model_module_version": "1.2.0",
      "model_name": "LayoutModel",
      "state": {
       "grid_area": "dircontent",
       "width": "auto"
      }
     },
     "f8929f0c7f264b44b45f595b5b946a62": {
      "model_module": "@jupyter-widgets/base",
      "model_module_version": "1.2.0",
      "model_name": "LayoutModel",
      "state": {}
     },
     "f8939da1b95f45e5afebb56c0c61cef0": {
      "model_module": "@jupyter-widgets/controls",
      "model_module_version": "1.5.0",
      "model_name": "DescriptionStyleModel",
      "state": {
       "description_width": ""
      }
     },
     "f8aaf73e8db9425e8e3a88f12406a3e4": {
      "model_module": "@jupyter-widgets/controls",
      "model_module_version": "1.5.0",
      "model_name": "ButtonStyleModel",
      "state": {}
     },
     "f8af64650fe74df092adee95fa7249b5": {
      "model_module": "@jupyter-widgets/controls",
      "model_module_version": "1.5.0",
      "model_name": "TextModel",
      "state": {
       "layout": "IPY_MODEL_d577aebaf22c40f9abde26e4cc99ac28",
       "placeholder": "output filename",
       "style": "IPY_MODEL_5f8af613c9494a8aa0e9f1a0c4a66d61",
       "value": "FlinFlon.geoh5"
      }
     },
     "f8e75f6e5d2c4848a1d3bd2a2ad1da07": {
      "model_module": "@jupyter-widgets/controls",
      "model_module_version": "1.5.0",
      "model_name": "HBoxModel",
      "state": {
       "children": [
        "IPY_MODEL_f99709d2cb7f46ae858bdc40e3fbc32c",
        "IPY_MODEL_49570f0b12c44adcb56b13c078e19817",
        "IPY_MODEL_22921659a3a3424a895bcab77a881c06"
       ],
       "layout": "IPY_MODEL_f551f5273abd46fca5617d4e13005331"
      }
     },
     "f8ea9726a3e347f49318e70721f11e45": {
      "model_module": "@jupyter-widgets/base",
      "model_module_version": "1.2.0",
      "model_name": "LayoutModel",
      "state": {
       "display": "none",
       "min_width": "6em",
       "width": "6em"
      }
     },
     "f8fb6917d5644a4ab97babcfcc66793e": {
      "model_module": "@jupyter-widgets/controls",
      "model_module_version": "1.5.0",
      "model_name": "DescriptionStyleModel",
      "state": {
       "description_width": ""
      }
     },
     "f921f0b9a8d24e229782fcfbaaea8334": {
      "model_module": "@jupyter-widgets/controls",
      "model_module_version": "1.5.0",
      "model_name": "ButtonModel",
      "state": {
       "description": "Cancel",
       "layout": "IPY_MODEL_555d8e050a6945fda99213e2a3b1a399",
       "style": "IPY_MODEL_6f80d95ac7704f6d8f74773e45dd9a56"
      }
     },
     "f92be63b02c14d8f88cfc3bab4e7af6b": {
      "model_module": "@jupyter-widgets/controls",
      "model_module_version": "1.5.0",
      "model_name": "DescriptionStyleModel",
      "state": {
       "description_width": ""
      }
     },
     "f93a6a1b671f4aaa8058636b935b5c67": {
      "model_module": "@jupyter-widgets/base",
      "model_module_version": "1.2.0",
      "model_name": "LayoutModel",
      "state": {}
     },
     "f9650e60edea494290f195dae4757b48": {
      "model_module": "@jupyter-widgets/controls",
      "model_module_version": "1.5.0",
      "model_name": "DescriptionStyleModel",
      "state": {
       "description_width": "initial"
      }
     },
     "f97396588c8d447ba3fce599b2bdc0be": {
      "model_module": "@jupyter-widgets/controls",
      "model_module_version": "1.5.0",
      "model_name": "BoxModel",
      "state": {
       "children": [
        "IPY_MODEL_dd9fd5d869014d8db8208977344a2b8d"
       ],
       "layout": "IPY_MODEL_4974399539be437b978422800201ae06"
      }
     },
     "f98b875a02c0414bb296054991e5eb7c": {
      "model_module": "@jupyter-widgets/controls",
      "model_module_version": "1.5.0",
      "model_name": "DescriptionStyleModel",
      "state": {
       "description_width": "initial"
      }
     },
     "f99709d2cb7f46ae858bdc40e3fbc32c": {
      "model_module": "@jupyter-widgets/controls",
      "model_module_version": "1.5.0",
      "model_name": "ButtonModel",
      "state": {
       "description": "Change",
       "layout": "IPY_MODEL_50d81389aceb4b1d81affaf018ce4f72",
       "style": "IPY_MODEL_885576c4fd1d4703930d826efd6efada"
      }
     },
     "f99ad042335248bc827c6ea4ebf0499f": {
      "model_module": "@jupyter-widgets/controls",
      "model_module_version": "1.5.0",
      "model_name": "LabelModel",
      "state": {
       "layout": "IPY_MODEL_7b101e936e764b25b5b6fe6acc0af6df",
       "style": "IPY_MODEL_b9e35f991b0f41f0a2969766c5a4d20f",
       "value": "Starting Declination"
      }
     },
     "f9beae70d125444686a54cb176932d80": {
      "model_module": "@jupyter-widgets/controls",
      "model_module_version": "1.5.0",
      "model_name": "HTMLModel",
      "state": {
       "layout": "IPY_MODEL_ecc8b11a7bab4ad295bdd5d55cba93f9",
       "style": "IPY_MODEL_82cb06b20bae41e89041fe108145d58f"
      }
     },
     "f9c23ac6542d47a3b4d968eae6076ae2": {
      "model_module": "@jupyter-widgets/controls",
      "model_module_version": "1.5.0",
      "model_name": "ButtonStyleModel",
      "state": {}
     },
     "f9ce9f18fed04d2088182a1b830f7363": {
      "model_module": "@jupyter-widgets/controls",
      "model_module_version": "1.5.0",
      "model_name": "DescriptionStyleModel",
      "state": {
       "description_width": ""
      }
     },
     "f9f7e03d22534499b896493883169c1c": {
      "model_module": "@jupyter-widgets/controls",
      "model_module_version": "1.5.0",
      "model_name": "DescriptionStyleModel",
      "state": {
       "description_width": ""
      }
     },
     "f9fc041365dc424c9484900169fac87e": {
      "model_module": "@jupyter-widgets/base",
      "model_module_version": "1.2.0",
      "model_name": "LayoutModel",
      "state": {}
     },
     "f9ff448abb7d4e15a1ae286cd678eb9c": {
      "model_module": "@jupyter-widgets/base",
      "model_module_version": "1.2.0",
      "model_name": "LayoutModel",
      "state": {}
     },
     "fa0aae90bbc64d56aeb698e07c47c7a2": {
      "model_module": "@jupyter-widgets/controls",
      "model_module_version": "1.5.0",
      "model_name": "DescriptionStyleModel",
      "state": {
       "description_width": "initial"
      }
     },
     "fa5112f65b5c42dd816c7872d4992bae": {
      "model_module": "@jupyter-widgets/base",
      "model_module_version": "1.2.0",
      "model_name": "LayoutModel",
      "state": {
       "display": "none",
       "grid_gap": "0px 0px",
       "grid_template_areas": "\n                    'pathlist filename'\n                    'dircontent dircontent'\n                    ",
       "grid_template_columns": "60% 40%",
       "grid_template_rows": "auto auto",
       "width": "auto"
      }
     },
     "fa9f3b9854614f788ff7e427185929f1": {
      "model_module": "@jupyter-widgets/base",
      "model_module_version": "1.2.0",
      "model_name": "LayoutModel",
      "state": {}
     },
     "fab0a792a1484061ae3a705c7fd0724b": {
      "model_module": "@jupyter-widgets/controls",
      "model_module_version": "1.5.0",
      "model_name": "SelectModel",
      "state": {
       "_options_labels": [
        "📁 ..",
        "📁 SimPEG_PFInversion",
        "📁 Temp",
        "📁 uijson",
        "FlinFlon.geoh5",
        "FlinFlon_dcip.geoh5",
        "FlinFlon_natural_sources.geoh5",
        "MtDore_TMI.geoh5",
        "tem.geoh5",
        "test_forward.ui.geoh5",
        "test_forward.ui.json"
       ],
       "index": 4,
       "layout": "IPY_MODEL_9436b9ee6ad545b69be9b84093067582",
       "rows": 8,
       "style": "IPY_MODEL_973dacd62cc141b09c35272b42c5307f"
      }
     },
     "facc9470447a44bd9dee2560a80fe471": {
      "model_module": "@jupyter-widgets/base",
      "model_module_version": "1.2.0",
      "model_name": "LayoutModel",
      "state": {}
     },
     "fadcaaf225ff45f0a6e14f59508d50dd": {
      "model_module": "@jupyter-widgets/base",
      "model_module_version": "1.2.0",
      "model_name": "LayoutModel",
      "state": {
       "overflow": "auto"
      }
     },
     "fae4c044312444f69dd79b9a3daebc92": {
      "model_module": "@jupyter-widgets/controls",
      "model_module_version": "1.5.0",
      "model_name": "DescriptionStyleModel",
      "state": {
       "description_width": "initial"
      }
     },
     "fb2ab7a2e792431093a4dcbf8cf9aee9": {
      "model_module": "@jupyter-widgets/controls",
      "model_module_version": "1.5.0",
      "model_name": "HTMLModel",
      "state": {
       "layout": "IPY_MODEL_e44f78eecdf44ac388fc5a59f98bc104",
       "placeholder": "",
       "style": "IPY_MODEL_eb0d5a06a74b4f5a908ef13be6ebea1e",
       "value": "<span style=\"color:orange;\">C:\\Users\\dominiquef\\Documents\\GIT\\mira\\geoapps\\assets\\FlinFlon.geoh5</span>"
      }
     },
     "fb5b0aa6c0824390b0f6c890b053e07d": {
      "model_module": "@jupyter-widgets/controls",
      "model_module_version": "1.5.0",
      "model_name": "DescriptionStyleModel",
      "state": {
       "description_width": "initial"
      }
     },
     "fb783c74dedf448885f56b293c239169": {
      "model_module": "@jupyter-widgets/controls",
      "model_module_version": "1.5.0",
      "model_name": "BoxModel",
      "state": {
       "children": [
        "IPY_MODEL_7b3ca286a16746d4a5423e588ce85119"
       ],
       "layout": "IPY_MODEL_7c3dd88a8fdd4bf6b06cc1a423e0b416"
      }
     },
     "fbc67c44dc1b4e8a910f9f6757d1b719": {
      "model_module": "@jupyter-widgets/base",
      "model_module_version": "1.2.0",
      "model_name": "LayoutModel",
      "state": {}
     },
     "fbdd3d9e0c264de9a7b584a878c972a0": {
      "model_module": "@jupyter-widgets/controls",
      "model_module_version": "1.5.0",
      "model_name": "DescriptionStyleModel",
      "state": {
       "description_width": ""
      }
     },
     "fbfdd562254e4d2f8ef1186919282a49": {
      "model_module": "@jupyter-widgets/base",
      "model_module_version": "1.2.0",
      "model_name": "LayoutModel",
      "state": {
       "margin": "0 0 0 1em"
      }
     },
     "fbfe47bb066b459b92ca5ee5e512ae0a": {
      "model_module": "@jupyter-widgets/controls",
      "model_module_version": "1.5.0",
      "model_name": "DescriptionStyleModel",
      "state": {
       "description_width": "initial"
      }
     },
     "fc0cb7396c9d4c37964be13d239d48bd": {
      "model_module": "@jupyter-widgets/controls",
      "model_module_version": "1.5.0",
      "model_name": "BoxModel",
      "state": {
       "children": [
        "IPY_MODEL_bbeaa991a20c4a6dbaf3799bcd6067b8"
       ],
       "layout": "IPY_MODEL_2d97fd028c5c442495757e7b405ccdad"
      }
     },
     "fc21318869134fabb52e976222d763fe": {
      "model_module": "@jupyter-widgets/base",
      "model_module_version": "1.2.0",
      "model_name": "LayoutModel",
      "state": {
       "width": "auto"
      }
     },
     "fc280e1c9eea411ea87b867c8f262c7f": {
      "model_module": "@jupyter-widgets/controls",
      "model_module_version": "1.5.0",
      "model_name": "DescriptionStyleModel",
      "state": {
       "description_width": ""
      }
     },
     "fc32bec0ae1d4d26b4e12359100da070": {
      "model_module": "@jupyter-widgets/controls",
      "model_module_version": "1.5.0",
      "model_name": "VBoxModel",
      "state": {
       "children": [
        "IPY_MODEL_ebcc9de00c164e279883f497fe4487a6",
        "IPY_MODEL_dcbf76c4dfc04e479c744ca7442d4be8"
       ],
       "layout": "IPY_MODEL_33d2c40f21894f3f9641c5d472706b44"
      }
     },
     "fc6515b7402344e5949dc1eaedeac389": {
      "model_module": "@jupyter-widgets/base",
      "model_module_version": "1.2.0",
      "model_name": "LayoutModel",
      "state": {
       "margin": "0 0 0 1em"
      }
     },
     "fca0a68d98b747fb8fd1ee7926517c2e": {
      "model_module": "@jupyter-widgets/controls",
      "model_module_version": "1.5.0",
      "model_name": "DescriptionStyleModel",
      "state": {
       "description_width": ""
      }
     },
     "fca302184a774dc5bc1d655c6027d3a2": {
      "model_module": "@jupyter-widgets/controls",
      "model_module_version": "1.5.0",
      "model_name": "ButtonModel",
      "state": {
       "description": "Cancel",
       "layout": "IPY_MODEL_7470cfb1b96d46b5b1518fd1be1954c4",
       "style": "IPY_MODEL_b2a95c889f914488b5b9d810763aefca"
      }
     },
     "fcb5ceb7b0d14804adb10a7a469773b4": {
      "model_module": "@jupyter-widgets/controls",
      "model_module_version": "1.5.0",
      "model_name": "ButtonStyleModel",
      "state": {}
     },
     "fcb71d4ab5f948a5a7fc4ba820ac2122": {
      "model_module": "@jupyter-widgets/controls",
      "model_module_version": "1.5.0",
      "model_name": "ButtonStyleModel",
      "state": {}
     },
     "fcc324bca3d945349f9c944485e8af7b": {
      "model_module": "@jupyter-widgets/base",
      "model_module_version": "1.2.0",
      "model_name": "LayoutModel",
      "state": {}
     },
     "fccf0f3a656743a1b42c1e1e59f27865": {
      "model_module": "@jupyter-widgets/controls",
      "model_module_version": "1.5.0",
      "model_name": "DescriptionStyleModel",
      "state": {
       "description_width": "initial"
      }
     },
     "fcd173f6eb8243108115c30a03c41fbe": {
      "model_module": "@jupyter-widgets/controls",
      "model_module_version": "1.5.0",
      "model_name": "HBoxModel",
      "state": {
       "children": [
        "IPY_MODEL_39b962625bd743fead8fd556860ec20a",
        "IPY_MODEL_7f3ca18fec0144a9bba0ab34efc19836"
       ],
       "layout": "IPY_MODEL_2abee2847be84deeb803dd14038418b2"
      }
     },
     "fcd93a863deb44e29c52c5ea7050df19": {
      "model_module": "@jupyter-widgets/controls",
      "model_module_version": "1.5.0",
      "model_name": "DescriptionStyleModel",
      "state": {
       "description_width": ""
      }
     },
     "fcdeffb53f364b27a55c89e02e416a72": {
      "model_module": "@jupyter-widgets/controls",
      "model_module_version": "1.5.0",
      "model_name": "HBoxModel",
      "state": {
       "children": [
        "IPY_MODEL_11a5f55bdd74410dbf30fa6ca52e6ec8",
        "IPY_MODEL_244d10cf7dce47d69db6903851a78894"
       ],
       "layout": "IPY_MODEL_988b6fa1cdfa4721ac204baa6f344c57"
      }
     },
     "fd1af070bf6c476abbf1f391489a4863": {
      "model_module": "@jupyter-widgets/controls",
      "model_module_version": "1.5.0",
      "model_name": "DescriptionStyleModel",
      "state": {
       "description_width": "initial"
      }
     },
     "fd1c3a2badc94bf581cbe52249e878e0": {
      "model_module": "@jupyter-widgets/base",
      "model_module_version": "1.2.0",
      "model_name": "LayoutModel",
      "state": {}
     },
     "fd3c85a1beb341d3ba581de8465e99f1": {
      "model_module": "@jupyter-widgets/base",
      "model_module_version": "1.2.0",
      "model_name": "LayoutModel",
      "state": {
       "display": "none",
       "grid_gap": "0px 0px",
       "grid_template_areas": "\n                    'pathlist filename'\n                    'dircontent dircontent'\n                    ",
       "grid_template_columns": "60% 40%",
       "grid_template_rows": "auto auto",
       "width": "auto"
      }
     },
     "fd83bbfe57a04144a97de252e2f30882": {
      "model_module": "@jupyter-widgets/controls",
      "model_module_version": "1.5.0",
      "model_name": "ButtonStyleModel",
      "state": {}
     },
     "fe0dabcd7e7b4581974c782eeabb49e5": {
      "model_module": "@jupyter-widgets/controls",
      "model_module_version": "1.5.0",
      "model_name": "VBoxModel",
      "state": {
       "children": [
        "IPY_MODEL_a4433e75b2e94cccaee8a798773b9e93",
        "IPY_MODEL_ad91fe80b68d4316945303d13c38b7fb"
       ],
       "layout": "IPY_MODEL_3b938e44569b46a59540c5aac8849e82"
      }
     },
     "fe2c569dbe454b729e20c5ea6ea3f2ea": {
      "model_module": "@jupyter-widgets/controls",
      "model_module_version": "1.5.0",
      "model_name": "ButtonModel",
      "state": {
       "description": "Cancel",
       "layout": "IPY_MODEL_e704be7eb1a44c93b92245b3d2a60726",
       "style": "IPY_MODEL_f216f8341ab24364b14d22eb1efa6b2a"
      }
     },
     "fe58581669a945b4b505544414d0032d": {
      "model_module": "@jupyter-widgets/base",
      "model_module_version": "1.2.0",
      "model_name": "LayoutModel",
      "state": {}
     },
     "fe776a9ff5fe4a54ad56e8f1c2277c9a": {
      "model_module": "@jupyter-widgets/controls",
      "model_module_version": "1.5.0",
      "model_name": "DescriptionStyleModel",
      "state": {
       "description_width": "initial"
      }
     },
     "fe80586e43d146989ebd83b8604e35ef": {
      "model_module": "@jupyter-widgets/controls",
      "model_module_version": "1.5.0",
      "model_name": "TextModel",
      "state": {
       "continuous_update": false,
       "description": "Group:",
       "layout": "IPY_MODEL_def5f748fbf1442ea041a99f6c941857",
       "style": "IPY_MODEL_209f9fc73dc84296a07ce5aecdf23df6"
      }
     },
     "fe91069b1a8d446fbf50e8fdb72cce15": {
      "model_module": "@jupyter-widgets/controls",
      "model_module_version": "1.5.0",
      "model_name": "TextModel",
      "state": {
       "continuous_update": false,
       "description": "Group:",
       "layout": "IPY_MODEL_d04d431a69bd4d74921b03e7c92934b0",
       "style": "IPY_MODEL_19b82da26ba44c2e9cb3865f567817c6"
      }
     },
     "fe92cb19673145a7a58acab0e724b52e": {
      "model_module": "@jupyter-widgets/base",
      "model_module_version": "1.2.0",
      "model_name": "LayoutModel",
      "state": {}
     },
     "fec0fe9b58554752ab0c723b97a279c6": {
      "model_module": "@jupyter-widgets/base",
      "model_module_version": "1.2.0",
      "model_name": "LayoutModel",
      "state": {}
     },
     "fed10d2db3724ecea0ddcd981898538b": {
      "model_module": "@jupyter-widgets/base",
      "model_module_version": "1.2.0",
      "model_name": "LayoutModel",
      "state": {
       "grid_area": "dircontent",
       "width": "auto"
      }
     },
     "ff52253216a3460cb76ebde5a05be82a": {
      "model_module": "@jupyter-widgets/controls",
      "model_module_version": "1.5.0",
      "model_name": "SliderStyleModel",
      "state": {
       "description_width": "initial"
      }
     },
     "ff5417bb7dda4fdabc674858caf1fc69": {
      "model_module": "@jupyter-widgets/base",
      "model_module_version": "1.2.0",
      "model_name": "LayoutModel",
      "state": {}
     },
     "ff56ec32ebe543519a0368a0f4c01835": {
      "model_module": "@jupyter-widgets/controls",
      "model_module_version": "1.5.0",
      "model_name": "VBoxModel",
      "state": {
       "children": [
        "IPY_MODEL_7a90dcdb66524b1c879a22fdb7283017",
        "IPY_MODEL_bc9989214038460681a018d6623dacf9"
       ],
       "layout": "IPY_MODEL_abd4a0639d21431ebca61391d36e65b4"
      }
     },
     "ff5f2197d6ef4c11bfd2f995fb1cc797": {
      "model_module": "@jupyter-widgets/base",
      "model_module_version": "1.2.0",
      "model_name": "LayoutModel",
      "state": {}
     },
     "ff741538ce2145e0863aa3bc2824b952": {
      "model_module": "@jupyter-widgets/controls",
      "model_module_version": "1.5.0",
      "model_name": "VBoxModel",
      "state": {
       "children": [
        "IPY_MODEL_e148a16eb3e34020859dcb28837c010c",
        "IPY_MODEL_5647bdf8691e4eab9c264ab85cab66dc",
        "IPY_MODEL_ac312e3edd654462abb99ef1dfa58adf"
       ],
       "layout": "IPY_MODEL_2ded96b474f0462290b47dd42bc9c773"
      }
     },
     "ff77a0c8e01d497391aa15eb87c392ac": {
      "model_module": "@jupyter-widgets/controls",
      "model_module_version": "1.5.0",
      "model_name": "ButtonModel",
      "state": {
       "description": "Cancel",
       "layout": "IPY_MODEL_aff8e6d3c7f14ea8a5d45a99a1c31835",
       "style": "IPY_MODEL_5dae6825bf2c43fbbd71f6cdd6bffb53"
      }
     },
     "ff83853cdb194a86b073099c579a906e": {
      "model_module": "@jupyter-widgets/base",
      "model_module_version": "1.2.0",
      "model_name": "LayoutModel",
      "state": {
       "border": "solid"
      }
     },
     "ffb80ac9382f4efcb930f40bcd1cccd9": {
      "model_module": "@jupyter-widgets/controls",
      "model_module_version": "1.5.0",
      "model_name": "DescriptionStyleModel",
      "state": {
       "description_width": "initial"
      }
     },
     "ffd51a8c0b904fea905e1c3111a3e58d": {
      "model_module": "@jupyter-widgets/base",
      "model_module_version": "1.2.0",
      "model_name": "LayoutModel",
      "state": {}
     },
     "ffe361ae50b74eb9b480a87eef17612c": {
      "model_module": "@jupyter-widgets/controls",
      "model_module_version": "1.5.0",
      "model_name": "DescriptionStyleModel",
      "state": {
       "description_width": ""
      }
     }
    },
    "version_major": 2,
    "version_minor": 0
   }
  }
 },
 "nbformat": 4,
 "nbformat_minor": 5
}

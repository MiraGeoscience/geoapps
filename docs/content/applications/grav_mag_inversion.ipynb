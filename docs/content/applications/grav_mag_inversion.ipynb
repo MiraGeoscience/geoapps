version https://git-lfs.github.com/spec/v1
oid sha256:0fcd0b09a56e5b6d365a818effbbc1b2f69486bf5ca40f8a3a216da9925f96bb
size 13215318

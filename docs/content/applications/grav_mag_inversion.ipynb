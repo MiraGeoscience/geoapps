version https://git-lfs.github.com/spec/v1
oid sha256:cd8d354d600cff24f0c00ecc71f3597c9bafdb018df3fe3e9fff282a8db20e93
size 2627940

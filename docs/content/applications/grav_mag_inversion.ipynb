version https://git-lfs.github.com/spec/v1
oid sha256:b18dbe4895bb1da8ad01dcab25858abfa38ce00ed0b67cd3efa519e8613ea04d
size 684432

version https://git-lfs.github.com/spec/v1
oid sha256:bf3592c44b58290dcd74a5c8923e1a84efa373a845e7c9cb9aa2a658ac46b9d6
size 1971863

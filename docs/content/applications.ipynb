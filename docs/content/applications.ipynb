version https://git-lfs.github.com/spec/v1
oid sha256:498a3b5d9936315946a65f40a7318b0cd7439ca20de7ed507f1ae82cee3482ff
size 2835

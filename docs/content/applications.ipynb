version https://git-lfs.github.com/spec/v1
oid sha256:a0a354d5a2dd27d622722f9a5b4f3d7bd35e4dc16791dda72a790338850d929d
size 3061

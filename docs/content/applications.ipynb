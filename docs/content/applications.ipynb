{
 "cells": [
  {
   "cell_type": "markdown",
   "metadata": {},
   "source": [
    "# Welcome to the geoapps\n",
    "\n",
    "Select one of our open-source geoscientific applications:"
   ]
  },
  {
   "cell_type": "markdown",
   "metadata": {},
   "source": [
    "## Data Processing\n",
    "\n",
    "- ### [Contours](./apps/create_contours.rst)\n",
    "\n",
    "  <img align=\"center\" width=\"50%\" src=\"./apps/images/Contouring_app.png\"> \n",
    "\n",
    "  Create contours from any type of geo-spatial data.\n",
    "\n",
    "- ### [Geophysical Data Inversion with SimPEG](./apps/geophysical_inversion.rst)\n",
    "\n",
    "  <img align=\"center\" width=\"50%\" src=\"./apps/images/Geophysical_inversion_app.png\">\n",
    "\n",
    "  Invert EM (time or frequency), gravity or magnetics (field and/or tensor) data"
   ]
  },
  {
   "cell_type": "markdown",
   "metadata": {},
   "source": [
    "## Machine Learning\n",
    "\n",
    "- ### [Edge Detection](./apps/edge_detection.rst)\n",
    "   \n",
    "  <img align=\"center\" width=\"50%\" src=\"./apps/images/edge_detection_app.png\">\n",
    "  \n",
    "  Use machine-vision algorithms ([Scikit-Image](https://scikit-image.org/)) to detect lines and edges in gridded data."
   ]
  }
 ],
 "metadata": {
  "kernelspec": {
   "display_name": "Python 3",
   "language": "python",
   "name": "python3"
  },
  "language_info": {
   "codemirror_mode": {
    "name": "ipython",
    "version": 3
   },
   "file_extension": ".py",
   "mimetype": "text/x-python",
   "name": "python",
   "nbconvert_exporter": "python",
   "pygments_lexer": "ipython3",
   "version": "3.7.7"
  }
 },
 "nbformat": 4,
 "nbformat_minor": 4
}

{
 "cells": [
  {
   "cell_type": "markdown",
   "metadata": {},
   "source": [
    "# Applications\n",
    "\n",
    "\n",
    "This section provides information on how to use the applications currently\n",
    "supported by the **geoapps** package.\n"
   ]
  },
  {
   "cell_type": "markdown",
   "metadata": {},
   "source": [
    "## Data Processing\n",
    "\n",
    "### [Calculator](./apps/calculator.rst)\n",
    "  \n",
    "  Edit or add data from objects using simple Python operations or any function from the [Numpy](https://numpy.org/doc/stable/reference/index.html) library.\n",
    "\n",
    "  <img align=\"center\" width=\"50%\" src=\"./apps/images/calculator_app.png\"> \n",
    "  \n",
    "\n",
    "### [Contours](./apps/create_contours.rst)\n",
    "  \n",
    "  Create contours from geo-spatial data.\n",
    "\n",
    "  <img align=\"center\" width=\"50%\" src=\"./apps/images/Contouring_app.png\"> \n",
    "\n",
    "\n",
    "### [Data Interpolation](./apps/data_interpolation.rst)\n",
    "\n",
    "  Transfer data from one object to another.\n",
    "   \n",
    "  <img align=\"center\" width=\"50%\" src=\"./apps/images/data_interp_app.png\">\n",
    "  \n",
    "  \n",
    "### [Export](./apps/export.rst)\n",
    "\n",
    "  Export objects to various file formats.  \n",
    "   \n",
    "  <img align=\"center\" width=\"50%\" src=\"./apps/images/export_app.png\">\n",
    "\n",
    "  \n",
    "\n",
    "### [Geophysical Data Inversion](./apps/geophysical_inversion.rst)\n",
    "\n",
    "Invert EM (time or frequency), gravity or magnetics (field and/or tensor) data with [SimPEG](https://simpeg.xyz)\n",
    "\n",
    "  <img align=\"center\" width=\"50%\" src=\"./apps/images/Geophysical_inversion_app.png\">\n",
    "\n",
    "  \n",
    "  \n",
    "\n",
    "### [Scatter plots](./apps/scatter_plots.rst)\n",
    "\n",
    " Visualize up to 5D of data with [Plotly](https://plotly.com/python/) interactive figures.\n",
    "   \n",
    "  <img align=\"center\" width=\"50%\" src=\"./apps/images/Scatter_plots.png\">\n",
    "\n",
    "\n"
   ]
  },
  {
   "cell_type": "markdown",
   "metadata": {},
   "source": [
    "## Machine Learning\n",
    "\n",
    "### [Edge Detection](./apps/edge_detection.rst)\n",
    "\n",
    "  Use machine-vision algorithms ([Scikit-Image](https://scikit-image.org/)) to detect lines and edges in gridded data.\n",
    "  \n",
    "  <img align=\"center\" width=\"50%\" src=\"./apps/images/edge_detection_app.png\">\n",
    "  \n"
   ]
  },
  {
   "cell_type": "markdown",
   "metadata": {},
   "source": [
    "Next up, EM data profiler ..."
   ]
  }
 ],
 "metadata": {
  "kernelspec": {
   "display_name": "Python 3",
   "language": "python",
   "name": "python3"
  },
  "language_info": {
   "codemirror_mode": {
    "name": "ipython",
    "version": 3
   },
   "file_extension": ".py",
   "mimetype": "text/x-python",
   "name": "python",
   "nbconvert_exporter": "python",
   "pygments_lexer": "ipython3",
   "version": "3.7.7"
  }
 },
 "nbformat": 4,
 "nbformat_minor": 4
}

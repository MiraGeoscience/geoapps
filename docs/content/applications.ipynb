version https://git-lfs.github.com/spec/v1
oid sha256:6876b6bf6075a8fb654ed927c82a51d418183b0157454086d60a3ced6111dce4
size 2489

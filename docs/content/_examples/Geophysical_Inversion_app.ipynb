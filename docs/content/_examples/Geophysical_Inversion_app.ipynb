version https://git-lfs.github.com/spec/v1
oid sha256:a3a0b4d1f3db3ae58f80f089859c49a7d3a0614eb42785c8d5645eb2b0ace6b6
size 5241

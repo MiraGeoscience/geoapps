version https://git-lfs.github.com/spec/v1
oid sha256:e62f2166b174ffe9171c792a3686c231997bf118b3ad1a83dfff31ed1b84da9b
size 31969

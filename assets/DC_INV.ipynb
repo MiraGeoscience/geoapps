{
 "cells": [
  {
   "cell_type": "code",
   "execution_count": 3,
   "id": "4ad93bbc",
   "metadata": {},
   "outputs": [],
   "source": [
    "from geoh5py.workspace import Workspace\n",
    "from geoh5py.groups import ContainerGroup\n",
    "import numpy as np\n",
    "from scipy.spatial import cKDTree\n",
    "from SimPEG import dask\n",
    "import dask\n",
    "from SimPEG import (\n",
    "    maps,\n",
    "    utils,\n",
    "    data_misfit,\n",
    "    regularization,\n",
    "    optimization,\n",
    "    inverse_problem,\n",
    "    directives,\n",
    "    inversion,\n",
    "    objective_function,\n",
    "    data\n",
    ")\n",
    "from SimPEG.utils.drivers import create_nested_mesh\n",
    "from SimPEG.electromagnetics.static import resistivity as dc, utils as DCutils\n",
    "from SimPEG.electromagnetics.static import induced_polarization as ip\n",
    "from dask.distributed import Client, LocalCluster, get_client\n",
    "from geoapps.io.DirectCurrent import DirectCurrentParams"
   ]
  },
  {
   "cell_type": "code",
   "execution_count": 4,
   "id": "d0ec376a",
   "metadata": {},
   "outputs": [],
   "source": [
    "from geoapps.utils import octree_2_treemesh, treemesh_2_octree\n",
    "from discretize import utils as d_utils\n",
    "from discretize.utils import mesh_builder_xyz, refine_tree_xyz\n",
    "from discretize import TensorMesh\n",
    "from pymatsolver.direct import Pardiso as Solver\n",
    "\n",
    "def create_tile_dc(source, obs, uncert, global_mesh, global_active, tile_id, buffer=200.):\n",
    "    print(f\"Processing tile {tile_id}\")\n",
    "    local_survey = dc.Survey(source)\n",
    "    electrodes = np.vstack((local_survey.locations_a,\n",
    "                            local_survey.locations_b,\n",
    "                            local_survey.locations_m,\n",
    "                            local_survey.locations_n))\n",
    "    local_survey.dobs = obs\n",
    "    local_survey.std = uncert\n",
    "    local_mesh = create_nested_mesh(\n",
    "        electrodes, global_mesh, method=\"radial\", max_distance=buffer\n",
    "    )\n",
    "    local_map = maps.TileMap(global_mesh, global_active, local_mesh)\n",
    "    actmap = maps.InjectActiveCells(\n",
    "        local_mesh, indActive=local_map.local_active, valInactive=np.log(1e-8)\n",
    "    )\n",
    "\n",
    "    expmap = maps.ExpMap(local_mesh)\n",
    "    mapping = expmap * actmap\n",
    "    # Create the local misfit\n",
    "    max_chunk_size = 256\n",
    "    simulation = dc.Simulation3DNodal(\n",
    "        local_mesh, survey=local_survey, sigmaMap=mapping, storeJ=True,\n",
    "        Solver=Solver, max_ram=1\n",
    "    )\n",
    "\n",
    "    simulation.mesh = TensorMesh([1])  # Light dummy\n",
    "    del local_mesh,\n",
    "    local_map.local_mesh = None\n",
    "    actmap.mesh = None\n",
    "    expmap.mesh = None\n",
    "\n",
    "    simulation.sensitivity_path = './sensitivity/Tile' + str(tile_id) + '/'\n",
    "    data_object = data.Data(\n",
    "        local_survey,\n",
    "        dobs=obs,\n",
    "        standard_deviation=uncert,\n",
    "    )\n",
    "    data_object.dobs = obs\n",
    "    data_object.standard_deviation = uncert\n",
    "    local_misfit = data_misfit.L2DataMisfit(\n",
    "        data=data_object, simulation=simulation, model_map=local_map\n",
    "    )\n",
    "    local_misfit.W = 1 / uncert\n",
    "\n",
    "    return local_misfit"
   ]
  },
  {
   "cell_type": "code",
   "execution_count": 2,
   "id": "023c9d41",
   "metadata": {},
   "outputs": [],
   "source": [
    "# params = DirectCurrentParams()\n",
    "# params.write_input_file()"
   ]
  },
  {
   "cell_type": "code",
   "execution_count": 5,
   "id": "6b5b71fa",
   "metadata": {},
   "outputs": [
    {
     "name": "stderr",
     "output_type": "stream",
     "text": [
      "C:\\Users\\dominiquef\\Anaconda3\\envs\\geoapps\\lib\\site-packages\\distributed\\node.py:160: UserWarning: Port 8787 is already in use.\n",
      "Perhaps you already have a cluster running?\n",
      "Hosting the HTTP server on port 65247 instead\n",
      "  warnings.warn(\n"
     ]
    }
   ],
   "source": [
    "cluster = LocalCluster(processes=False)\n",
    "client = Client(cluster)"
   ]
  },
  {
   "cell_type": "code",
   "execution_count": 6,
   "id": "034936fe",
   "metadata": {},
   "outputs": [
    {
     "ename": "IndexError",
     "evalue": "list index out of range",
     "output_type": "error",
     "traceback": [
      "\u001b[1;31m---------------------------------------------------------------------------\u001b[0m",
      "\u001b[1;31mIndexError\u001b[0m                                Traceback (most recent call last)",
      "\u001b[1;32m~\\AppData\\Local\\Temp/ipykernel_43420/3788062772.py\u001b[0m in \u001b[0;36m<module>\u001b[1;34m\u001b[0m\n\u001b[0;32m      8\u001b[0m \u001b[0mmesh\u001b[0m \u001b[1;33m=\u001b[0m \u001b[0moctree_2_treemesh\u001b[0m\u001b[1;33m(\u001b[0m\u001b[0moctree\u001b[0m\u001b[1;33m)\u001b[0m\u001b[1;33m\u001b[0m\u001b[1;33m\u001b[0m\u001b[0m\n\u001b[0;32m      9\u001b[0m \u001b[1;33m\u001b[0m\u001b[0m\n\u001b[1;32m---> 10\u001b[1;33m \u001b[0mdobs\u001b[0m \u001b[1;33m=\u001b[0m \u001b[0mrx_obj\u001b[0m\u001b[1;33m.\u001b[0m\u001b[0mget_data\u001b[0m\u001b[1;33m(\u001b[0m\u001b[1;34m\"dc\"\u001b[0m\u001b[1;33m)\u001b[0m\u001b[1;33m[\u001b[0m\u001b[1;36m0\u001b[0m\u001b[1;33m]\u001b[0m\u001b[1;33m.\u001b[0m\u001b[0mvalues\u001b[0m\u001b[1;33m\u001b[0m\u001b[1;33m\u001b[0m\u001b[0m\n\u001b[0m",
      "\u001b[1;31mIndexError\u001b[0m: list index out of range"
     ]
    }
   ],
   "source": [
    "ws = Workspace(\"FlinFlon_simulation.geoh5\")\n",
    "rx_obj = ws.get_entity(\"DC_survey\")[0]\n",
    "tx_obj = ws.get_entity(\"DC_survey (currents)\")[0]\n",
    "topo = ws.get_entity(\"TopoMT\")[0].vertices\n",
    "# Generate data\n",
    "octree = ws.get_entity(\"DC_mesh\")[0]\n",
    "model = octree.get_data(\"Forward_con\")[0]\n",
    "mesh = octree_2_treemesh(octree)\n",
    "\n",
    "dobs = rx_obj.get_data(\"dc\")[0]"
   ]
  },
  {
   "cell_type": "code",
   "execution_count": 5,
   "id": "e566892e",
   "metadata": {
    "collapsed": true
   },
   "outputs": [],
   "source": [
    "ab_id = np.unique(rx_obj.ab_cell_id.values).astype(int).tolist()\n",
    "value_map = {value: key for key, value in rx_obj.ab_cell_id.value_map.map.items()}\n",
    "src_lists = []\n",
    "data_id = []\n",
    "lines = {ii: {\"sources\": [], \"data_id\": []} for ii in np.unique(tx_obj.parts)}\n",
    "for ab, cell in enumerate(tx_obj.cells.tolist()):\n",
    "    \n",
    "    \n",
    "    rx_id = np.where(rx_obj.ab_cell_id.values.astype(int)==value_map[str(ab+1)])[0]\n",
    "    \n",
    "    if len(rx_id) == 0:\n",
    "        continue\n",
    "        \n",
    "    rx_M = rx_obj.vertices[rx_obj.cells[rx_id, 0]]\n",
    "    rx_N = rx_obj.vertices[rx_obj.cells[rx_id, 1]]\n",
    "    receivers = dc.receivers.Dipole(\n",
    "            rx_M, \n",
    "            rx_N\n",
    "    )\n",
    "    src_lists.append(\n",
    "        dc.sources.Dipole(\n",
    "            [receivers], \n",
    "            tx_obj.vertices[cell[0]],\n",
    "            tx_obj.vertices[cell[1]]\n",
    "        )\n",
    "    )\n",
    "    line_id = tx_obj.parts[cell[0]]\n",
    "    lines[line_id][\"sources\"].append(src_lists[-1])\n",
    "    lines[line_id][\"data_id\"].append(rx_id)\n",
    "    data_id.append(rx_id)\n",
    "    \n",
    "survey_dc = dc.Survey(src_lists)\n",
    "\n",
    "data_id = np.hstack(data_id)"
   ]
  },
  {
   "cell_type": "code",
   "execution_count": 7,
   "id": "240081cf",
   "metadata": {},
   "outputs": [
    {
     "data": {
      "text/plain": [
       "UUID('275ecee9-9c24-4378-bf94-65f3c5fbe163')"
      ]
     },
     "execution_count": 7,
     "metadata": {},
     "output_type": "execute_result"
    }
   ],
   "source": [
    "rx_obj.entity_type.uid\n"
   ]
  },
  {
   "cell_type": "code",
   "execution_count": 42,
   "id": "2c94c590",
   "metadata": {},
   "outputs": [],
   "source": [
    "floor_res = 0.2\n",
    "geofact = DCutils.geometric_factor(survey_dc)\n",
    "floor = np.abs(geofact*floor_res)"
   ]
  },
  {
   "cell_type": "code",
   "execution_count": 43,
   "id": "92137fec",
   "metadata": {},
   "outputs": [],
   "source": [
    "activeCells = d_utils.active_from_xyz(mesh, topo)\n",
    "mstart =np.log(model.values[np.argsort(mesh._ubc_order)])[activeCells]\n",
    "survey_dc.drape_electrodes_on_topography(mesh, activeCells, option='top')\n",
    "survey_dc.dobs = dobs\n",
    "survey_dc.std = floor\n",
    "# expmap = maps.ExpMap(mesh)\n",
    "# mapactive = maps.InjectActiveCells(mesh=mesh, indActive=activeCells, valInactive=np.log(1e-8))\n",
    "# mapping = expmap * mapactive\n",
    "# simulation_g = dc.Simulation3DNodal(\n",
    "#     mesh, survey=survey_dc, sigmaMap=mapping, solver=Solver, model=mstart\n",
    "# )\n",
    "# global_data = simulation_g.make_synthetic_data(mtrue[activeCells], relative_error=0.05, noise_floor=1., add_noise=True)"
   ]
  },
  {
   "cell_type": "code",
   "execution_count": 44,
   "id": "04533274",
   "metadata": {},
   "outputs": [
    {
     "name": "stdout",
     "output_type": "stream",
     "text": [
      "Processing tile 0\n",
      "Processing tile 1\n",
      "Processing tile 2\n",
      "Processing tile 3\n",
      "Processing tile 4\n",
      "Processing tile 5\n",
      "Processing tile 6\n",
      "Processing tile 7\n",
      "Processing tile 8\n",
      "Processing tile 9\n",
      "Wall time: 11.1 s\n"
     ]
    }
   ],
   "source": [
    "%%time\n",
    "\n",
    "local_misfits = []\n",
    "for ab_id, part in lines.items():\n",
    "    ind = np.hstack(part[\"data_id\"])\n",
    "    local_misfits.append(\n",
    "            create_tile_dc(\n",
    "                part[\"sources\"],  \n",
    "                dobs[ind],\n",
    "                floor[ind], \n",
    "                mesh, \n",
    "                activeCells, \n",
    "                ab_id,\n",
    "                buffer=200\n",
    "            )\n",
    "    )\n",
    "    \n",
    "local_misfits = client.gather(local_misfits)\n",
    "global_misfit = objective_function.ComboObjectiveFunction(\n",
    "    local_misfits\n",
    ")"
   ]
  },
  {
   "cell_type": "code",
   "execution_count": 46,
   "id": "4e98f498",
   "metadata": {},
   "outputs": [
    {
     "data": {
      "text/plain": [
       "UUID('9b08bb5a-300c-48fe-9007-d206f971ea92')"
      ]
     },
     "execution_count": 46,
     "metadata": {},
     "output_type": "execute_result"
    }
   ],
   "source": [
    "tx_obj.entity_type.uid\n"
   ]
  },
  {
   "cell_type": "code",
   "execution_count": 45,
   "id": "66a77b8f",
   "metadata": {},
   "outputs": [
    {
     "name": "stdout",
     "output_type": "stream",
     "text": [
      "[INFO] Getting things started on inversion...\n",
      "Pre-computing Jmatrix and predicted_0\n",
      "SimPEG.InvProblem will set Regularization.mref to m0.\n",
      "\n",
      "        SimPEG.InvProblem is setting bfgsH0 to the inverse of the eval2Deriv.\n",
      "        ***Done using same Solver and solver_opts as the Simulation3DNodal problem***\n",
      "model has any nan: 0\n",
      "=============================== Projected GNCG ===============================\n",
      "  #     beta     phi_d     phi_m       f      |proj(x-g)-x|  LS    Comment   \n",
      "-----------------------------------------------------------------------------\n",
      "   0  8.33e+03  2.69e+06  0.00e+00  2.69e+06    2.20e+04      0              \n",
      "   1  4.17e+03  6.44e+05  4.09e+01  8.14e+05    1.26e+04      0              \n",
      "   2  2.08e+03  2.20e+05  3.74e+02  1.00e+06    7.60e+03      0              \n",
      "   3  1.04e+03  4.64e+05  1.48e+02  6.18e+05    7.91e+03      0              \n",
      "   4  5.21e+02  1.82e+05  5.22e+02  4.54e+05    3.06e+03      0              \n"
     ]
    },
    {
     "ename": "KeyboardInterrupt",
     "evalue": "",
     "output_type": "error",
     "traceback": [
      "\u001b[1;31m---------------------------------------------------------------------------\u001b[0m",
      "\u001b[1;31mKeyboardInterrupt\u001b[0m                         Traceback (most recent call last)",
      "\u001b[1;32m~\\AppData\\Local\\Temp/ipykernel_23428/486019656.py\u001b[0m in \u001b[0;36m<module>\u001b[1;34m\u001b[0m\n\u001b[0;32m     73\u001b[0m \u001b[0mmstart\u001b[0m \u001b[1;33m=\u001b[0m \u001b[0mnp\u001b[0m\u001b[1;33m.\u001b[0m\u001b[0mones\u001b[0m\u001b[1;33m(\u001b[0m\u001b[0mint\u001b[0m\u001b[1;33m(\u001b[0m\u001b[0mactiveCells\u001b[0m\u001b[1;33m.\u001b[0m\u001b[0msum\u001b[0m\u001b[1;33m(\u001b[0m\u001b[1;33m)\u001b[0m\u001b[1;33m)\u001b[0m\u001b[1;33m)\u001b[0m \u001b[1;33m*\u001b[0m \u001b[0mnp\u001b[0m\u001b[1;33m.\u001b[0m\u001b[0mlog\u001b[0m\u001b[1;33m(\u001b[0m\u001b[1;36m.05\u001b[0m\u001b[1;33m)\u001b[0m\u001b[1;33m\u001b[0m\u001b[1;33m\u001b[0m\u001b[0m\n\u001b[0;32m     74\u001b[0m \u001b[1;31m# Run Inversion ================================================================\u001b[0m\u001b[1;33m\u001b[0m\u001b[1;33m\u001b[0m\u001b[1;33m\u001b[0m\u001b[0m\n\u001b[1;32m---> 75\u001b[1;33m \u001b[0mminv\u001b[0m \u001b[1;33m=\u001b[0m \u001b[0minv\u001b[0m\u001b[1;33m.\u001b[0m\u001b[0mrun\u001b[0m\u001b[1;33m(\u001b[0m\u001b[0mmstart\u001b[0m\u001b[1;33m)\u001b[0m\u001b[1;33m\u001b[0m\u001b[1;33m\u001b[0m\u001b[0m\n\u001b[0m",
      "\u001b[1;32m~\\Documents\\GIT\\SimPEG\\simpeg\\SimPEG\\utils\\counter_utils.py\u001b[0m in \u001b[0;36mwrapper\u001b[1;34m(self, *args, **kwargs)\u001b[0m\n\u001b[0;32m    103\u001b[0m         \u001b[1;32mif\u001b[0m \u001b[0misinstance\u001b[0m\u001b[1;33m(\u001b[0m\u001b[0mcounter\u001b[0m\u001b[1;33m,\u001b[0m \u001b[0mCounter\u001b[0m\u001b[1;33m)\u001b[0m\u001b[1;33m:\u001b[0m\u001b[1;33m\u001b[0m\u001b[1;33m\u001b[0m\u001b[0m\n\u001b[0;32m    104\u001b[0m             \u001b[0mcounter\u001b[0m\u001b[1;33m.\u001b[0m\u001b[0mcountTic\u001b[0m\u001b[1;33m(\u001b[0m\u001b[0mself\u001b[0m\u001b[1;33m.\u001b[0m\u001b[0m__class__\u001b[0m\u001b[1;33m.\u001b[0m\u001b[0m__name__\u001b[0m \u001b[1;33m+\u001b[0m \u001b[1;34m\".\"\u001b[0m \u001b[1;33m+\u001b[0m \u001b[0mf\u001b[0m\u001b[1;33m.\u001b[0m\u001b[0m__name__\u001b[0m\u001b[1;33m)\u001b[0m\u001b[1;33m\u001b[0m\u001b[1;33m\u001b[0m\u001b[0m\n\u001b[1;32m--> 105\u001b[1;33m         \u001b[0mout\u001b[0m \u001b[1;33m=\u001b[0m \u001b[0mf\u001b[0m\u001b[1;33m(\u001b[0m\u001b[0mself\u001b[0m\u001b[1;33m,\u001b[0m \u001b[1;33m*\u001b[0m\u001b[0margs\u001b[0m\u001b[1;33m,\u001b[0m \u001b[1;33m**\u001b[0m\u001b[0mkwargs\u001b[0m\u001b[1;33m)\u001b[0m\u001b[1;33m\u001b[0m\u001b[1;33m\u001b[0m\u001b[0m\n\u001b[0m\u001b[0;32m    106\u001b[0m         \u001b[1;32mif\u001b[0m \u001b[0misinstance\u001b[0m\u001b[1;33m(\u001b[0m\u001b[0mcounter\u001b[0m\u001b[1;33m,\u001b[0m \u001b[0mCounter\u001b[0m\u001b[1;33m)\u001b[0m\u001b[1;33m:\u001b[0m\u001b[1;33m\u001b[0m\u001b[1;33m\u001b[0m\u001b[0m\n\u001b[0;32m    107\u001b[0m             \u001b[0mcounter\u001b[0m\u001b[1;33m.\u001b[0m\u001b[0mcountToc\u001b[0m\u001b[1;33m(\u001b[0m\u001b[0mself\u001b[0m\u001b[1;33m.\u001b[0m\u001b[0m__class__\u001b[0m\u001b[1;33m.\u001b[0m\u001b[0m__name__\u001b[0m \u001b[1;33m+\u001b[0m \u001b[1;34m\".\"\u001b[0m \u001b[1;33m+\u001b[0m \u001b[0mf\u001b[0m\u001b[1;33m.\u001b[0m\u001b[0m__name__\u001b[0m\u001b[1;33m)\u001b[0m\u001b[1;33m\u001b[0m\u001b[1;33m\u001b[0m\u001b[0m\n",
      "\u001b[1;32m~\\Documents\\GIT\\SimPEG\\simpeg\\SimPEG\\inversion.py\u001b[0m in \u001b[0;36mrun\u001b[1;34m(self, m0)\u001b[0m\n\u001b[0;32m     64\u001b[0m         \u001b[0mself\u001b[0m\u001b[1;33m.\u001b[0m\u001b[0mdirectiveList\u001b[0m\u001b[1;33m.\u001b[0m\u001b[0mcall\u001b[0m\u001b[1;33m(\u001b[0m\u001b[1;34m\"initialize\"\u001b[0m\u001b[1;33m)\u001b[0m\u001b[1;33m\u001b[0m\u001b[1;33m\u001b[0m\u001b[0m\n\u001b[0;32m     65\u001b[0m         \u001b[0mprint\u001b[0m\u001b[1;33m(\u001b[0m\u001b[1;34m\"model has any nan: {:b}\"\u001b[0m\u001b[1;33m.\u001b[0m\u001b[0mformat\u001b[0m\u001b[1;33m(\u001b[0m\u001b[0mnp\u001b[0m\u001b[1;33m.\u001b[0m\u001b[0many\u001b[0m\u001b[1;33m(\u001b[0m\u001b[0mnp\u001b[0m\u001b[1;33m.\u001b[0m\u001b[0misnan\u001b[0m\u001b[1;33m(\u001b[0m\u001b[0mself\u001b[0m\u001b[1;33m.\u001b[0m\u001b[0minvProb\u001b[0m\u001b[1;33m.\u001b[0m\u001b[0mmodel\u001b[0m\u001b[1;33m)\u001b[0m\u001b[1;33m)\u001b[0m\u001b[1;33m)\u001b[0m\u001b[1;33m)\u001b[0m\u001b[1;33m\u001b[0m\u001b[1;33m\u001b[0m\u001b[0m\n\u001b[1;32m---> 66\u001b[1;33m         \u001b[0mself\u001b[0m\u001b[1;33m.\u001b[0m\u001b[0mm\u001b[0m \u001b[1;33m=\u001b[0m \u001b[0mself\u001b[0m\u001b[1;33m.\u001b[0m\u001b[0mopt\u001b[0m\u001b[1;33m.\u001b[0m\u001b[0mminimize\u001b[0m\u001b[1;33m(\u001b[0m\u001b[0mself\u001b[0m\u001b[1;33m.\u001b[0m\u001b[0minvProb\u001b[0m\u001b[1;33m.\u001b[0m\u001b[0mevalFunction\u001b[0m\u001b[1;33m,\u001b[0m \u001b[0mself\u001b[0m\u001b[1;33m.\u001b[0m\u001b[0minvProb\u001b[0m\u001b[1;33m.\u001b[0m\u001b[0mmodel\u001b[0m\u001b[1;33m)\u001b[0m\u001b[1;33m\u001b[0m\u001b[1;33m\u001b[0m\u001b[0m\n\u001b[0m\u001b[0;32m     67\u001b[0m         \u001b[0mself\u001b[0m\u001b[1;33m.\u001b[0m\u001b[0mdirectiveList\u001b[0m\u001b[1;33m.\u001b[0m\u001b[0mcall\u001b[0m\u001b[1;33m(\u001b[0m\u001b[1;34m\"finish\"\u001b[0m\u001b[1;33m)\u001b[0m\u001b[1;33m\u001b[0m\u001b[1;33m\u001b[0m\u001b[0m\n\u001b[0;32m     68\u001b[0m \u001b[1;33m\u001b[0m\u001b[0m\n",
      "\u001b[1;32m~\\Documents\\GIT\\SimPEG\\simpeg\\SimPEG\\utils\\counter_utils.py\u001b[0m in \u001b[0;36mwrapper\u001b[1;34m(self, *args, **kwargs)\u001b[0m\n\u001b[0;32m    103\u001b[0m         \u001b[1;32mif\u001b[0m \u001b[0misinstance\u001b[0m\u001b[1;33m(\u001b[0m\u001b[0mcounter\u001b[0m\u001b[1;33m,\u001b[0m \u001b[0mCounter\u001b[0m\u001b[1;33m)\u001b[0m\u001b[1;33m:\u001b[0m\u001b[1;33m\u001b[0m\u001b[1;33m\u001b[0m\u001b[0m\n\u001b[0;32m    104\u001b[0m             \u001b[0mcounter\u001b[0m\u001b[1;33m.\u001b[0m\u001b[0mcountTic\u001b[0m\u001b[1;33m(\u001b[0m\u001b[0mself\u001b[0m\u001b[1;33m.\u001b[0m\u001b[0m__class__\u001b[0m\u001b[1;33m.\u001b[0m\u001b[0m__name__\u001b[0m \u001b[1;33m+\u001b[0m \u001b[1;34m\".\"\u001b[0m \u001b[1;33m+\u001b[0m \u001b[0mf\u001b[0m\u001b[1;33m.\u001b[0m\u001b[0m__name__\u001b[0m\u001b[1;33m)\u001b[0m\u001b[1;33m\u001b[0m\u001b[1;33m\u001b[0m\u001b[0m\n\u001b[1;32m--> 105\u001b[1;33m         \u001b[0mout\u001b[0m \u001b[1;33m=\u001b[0m \u001b[0mf\u001b[0m\u001b[1;33m(\u001b[0m\u001b[0mself\u001b[0m\u001b[1;33m,\u001b[0m \u001b[1;33m*\u001b[0m\u001b[0margs\u001b[0m\u001b[1;33m,\u001b[0m \u001b[1;33m**\u001b[0m\u001b[0mkwargs\u001b[0m\u001b[1;33m)\u001b[0m\u001b[1;33m\u001b[0m\u001b[1;33m\u001b[0m\u001b[0m\n\u001b[0m\u001b[0;32m    106\u001b[0m         \u001b[1;32mif\u001b[0m \u001b[0misinstance\u001b[0m\u001b[1;33m(\u001b[0m\u001b[0mcounter\u001b[0m\u001b[1;33m,\u001b[0m \u001b[0mCounter\u001b[0m\u001b[1;33m)\u001b[0m\u001b[1;33m:\u001b[0m\u001b[1;33m\u001b[0m\u001b[1;33m\u001b[0m\u001b[0m\n\u001b[0;32m    107\u001b[0m             \u001b[0mcounter\u001b[0m\u001b[1;33m.\u001b[0m\u001b[0mcountToc\u001b[0m\u001b[1;33m(\u001b[0m\u001b[0mself\u001b[0m\u001b[1;33m.\u001b[0m\u001b[0m__class__\u001b[0m\u001b[1;33m.\u001b[0m\u001b[0m__name__\u001b[0m \u001b[1;33m+\u001b[0m \u001b[1;34m\".\"\u001b[0m \u001b[1;33m+\u001b[0m \u001b[0mf\u001b[0m\u001b[1;33m.\u001b[0m\u001b[0m__name__\u001b[0m\u001b[1;33m)\u001b[0m\u001b[1;33m\u001b[0m\u001b[1;33m\u001b[0m\u001b[0m\n",
      "\u001b[1;32m~\\Documents\\GIT\\SimPEG\\simpeg\\SimPEG\\optimization.py\u001b[0m in \u001b[0;36mminimize\u001b[1;34m(self, evalFunction, x0)\u001b[0m\n\u001b[0;32m    405\u001b[0m                         \u001b[0mobjfct\u001b[0m\u001b[1;33m.\u001b[0m\u001b[0msimulation\u001b[0m\u001b[1;33m.\u001b[0m\u001b[0mgtgdiag\u001b[0m \u001b[1;33m=\u001b[0m \u001b[1;32mNone\u001b[0m\u001b[1;33m\u001b[0m\u001b[1;33m\u001b[0m\u001b[0m\n\u001b[0;32m    406\u001b[0m \u001b[1;33m\u001b[0m\u001b[0m\n\u001b[1;32m--> 407\u001b[1;33m             \u001b[0mself\u001b[0m\u001b[1;33m.\u001b[0m\u001b[0mf\u001b[0m\u001b[1;33m,\u001b[0m \u001b[0mself\u001b[0m\u001b[1;33m.\u001b[0m\u001b[0mg\u001b[0m\u001b[1;33m,\u001b[0m \u001b[0mself\u001b[0m\u001b[1;33m.\u001b[0m\u001b[0mH\u001b[0m \u001b[1;33m=\u001b[0m \u001b[0mevalFunction\u001b[0m\u001b[1;33m(\u001b[0m\u001b[0mxt\u001b[0m\u001b[1;33m,\u001b[0m \u001b[0mreturn_g\u001b[0m\u001b[1;33m=\u001b[0m\u001b[1;32mTrue\u001b[0m\u001b[1;33m,\u001b[0m \u001b[0mreturn_H\u001b[0m\u001b[1;33m=\u001b[0m\u001b[1;32mTrue\u001b[0m\u001b[1;33m)\u001b[0m\u001b[1;33m\u001b[0m\u001b[1;33m\u001b[0m\u001b[0m\n\u001b[0m\u001b[0;32m    408\u001b[0m             \u001b[1;31m# self.doEndIteration(xt)\u001b[0m\u001b[1;33m\u001b[0m\u001b[1;33m\u001b[0m\u001b[1;33m\u001b[0m\u001b[0m\n\u001b[0;32m    409\u001b[0m             \u001b[1;31m# self.printIter()\u001b[0m\u001b[1;33m\u001b[0m\u001b[1;33m\u001b[0m\u001b[1;33m\u001b[0m\u001b[0m\n",
      "\u001b[1;32m~\\Documents\\GIT\\SimPEG\\simpeg\\SimPEG\\dask\\inverse_problem.py\u001b[0m in \u001b[0;36mdask_evalFunction\u001b[1;34m(self, m, return_g, return_H)\u001b[0m\n\u001b[0;32m    146\u001b[0m     \u001b[1;31m# if isinstance(self.dmisfit, BaseDataMisfit):\u001b[0m\u001b[1;33m\u001b[0m\u001b[1;33m\u001b[0m\u001b[1;33m\u001b[0m\u001b[0m\n\u001b[0;32m    147\u001b[0m     \u001b[1;31m# phi_d = np.asarray(self.dmisfit(m, f=f))\u001b[0m\u001b[1;33m\u001b[0m\u001b[1;33m\u001b[0m\u001b[1;33m\u001b[0m\u001b[0m\n\u001b[1;32m--> 148\u001b[1;33m     \u001b[0mself\u001b[0m\u001b[1;33m.\u001b[0m\u001b[0mdpred\u001b[0m \u001b[1;33m=\u001b[0m \u001b[0mself\u001b[0m\u001b[1;33m.\u001b[0m\u001b[0mget_dpred\u001b[0m\u001b[1;33m(\u001b[0m\u001b[0mm\u001b[0m\u001b[1;33m,\u001b[0m \u001b[0mcompute_J\u001b[0m\u001b[1;33m=\u001b[0m\u001b[0mreturn_H\u001b[0m\u001b[1;33m)\u001b[0m\u001b[1;33m\u001b[0m\u001b[1;33m\u001b[0m\u001b[0m\n\u001b[0m\u001b[0;32m    149\u001b[0m \u001b[1;33m\u001b[0m\u001b[0m\n\u001b[0;32m    150\u001b[0m     \u001b[0mphi_d\u001b[0m \u001b[1;33m=\u001b[0m \u001b[1;36m0\u001b[0m\u001b[1;33m\u001b[0m\u001b[1;33m\u001b[0m\u001b[0m\n",
      "\u001b[1;32m~\\Documents\\GIT\\SimPEG\\simpeg\\SimPEG\\dask\\inverse_problem.py\u001b[0m in \u001b[0;36mget_dpred\u001b[1;34m(self, m, f, compute_J)\u001b[0m\n\u001b[0;32m    120\u001b[0m \u001b[1;33m\u001b[0m\u001b[0m\n\u001b[0;32m    121\u001b[0m     \u001b[1;32mif\u001b[0m \u001b[0misinstance\u001b[0m\u001b[1;33m(\u001b[0m\u001b[0mdpreds\u001b[0m\u001b[1;33m[\u001b[0m\u001b[1;36m0\u001b[0m\u001b[1;33m]\u001b[0m\u001b[1;33m,\u001b[0m \u001b[0mFuture\u001b[0m\u001b[1;33m)\u001b[0m\u001b[1;33m:\u001b[0m\u001b[1;33m\u001b[0m\u001b[1;33m\u001b[0m\u001b[0m\n\u001b[1;32m--> 122\u001b[1;33m         \u001b[0mdpreds\u001b[0m \u001b[1;33m=\u001b[0m \u001b[0mclient\u001b[0m\u001b[1;33m.\u001b[0m\u001b[0mgather\u001b[0m\u001b[1;33m(\u001b[0m\u001b[0mdpreds\u001b[0m\u001b[1;33m)\u001b[0m\u001b[1;33m\u001b[0m\u001b[1;33m\u001b[0m\u001b[0m\n\u001b[0m\u001b[0;32m    123\u001b[0m         \u001b[0mpreds\u001b[0m \u001b[1;33m=\u001b[0m \u001b[1;33m[\u001b[0m\u001b[1;33m]\u001b[0m\u001b[1;33m\u001b[0m\u001b[1;33m\u001b[0m\u001b[0m\n\u001b[0;32m    124\u001b[0m         \u001b[1;32mif\u001b[0m \u001b[0misinstance\u001b[0m\u001b[1;33m(\u001b[0m\u001b[0mdpreds\u001b[0m\u001b[1;33m[\u001b[0m\u001b[1;36m0\u001b[0m\u001b[1;33m]\u001b[0m\u001b[1;33m,\u001b[0m \u001b[0mtuple\u001b[0m\u001b[1;33m)\u001b[0m\u001b[1;33m:\u001b[0m  \u001b[1;31m# Jmatrix was computed\u001b[0m\u001b[1;33m\u001b[0m\u001b[1;33m\u001b[0m\u001b[0m\n",
      "\u001b[1;32m~\\Anaconda3\\envs\\geoapps\\lib\\site-packages\\distributed\\client.py\u001b[0m in \u001b[0;36mgather\u001b[1;34m(self, futures, errors, direct, asynchronous)\u001b[0m\n\u001b[0;32m   2016\u001b[0m             \u001b[1;32melse\u001b[0m\u001b[1;33m:\u001b[0m\u001b[1;33m\u001b[0m\u001b[1;33m\u001b[0m\u001b[0m\n\u001b[0;32m   2017\u001b[0m                 \u001b[0mlocal_worker\u001b[0m \u001b[1;33m=\u001b[0m \u001b[1;32mNone\u001b[0m\u001b[1;33m\u001b[0m\u001b[1;33m\u001b[0m\u001b[0m\n\u001b[1;32m-> 2018\u001b[1;33m             return self.sync(\n\u001b[0m\u001b[0;32m   2019\u001b[0m                 \u001b[0mself\u001b[0m\u001b[1;33m.\u001b[0m\u001b[0m_gather\u001b[0m\u001b[1;33m,\u001b[0m\u001b[1;33m\u001b[0m\u001b[1;33m\u001b[0m\u001b[0m\n\u001b[0;32m   2020\u001b[0m                 \u001b[0mfutures\u001b[0m\u001b[1;33m,\u001b[0m\u001b[1;33m\u001b[0m\u001b[1;33m\u001b[0m\u001b[0m\n",
      "\u001b[1;32m~\\Anaconda3\\envs\\geoapps\\lib\\site-packages\\distributed\\client.py\u001b[0m in \u001b[0;36msync\u001b[1;34m(self, func, asynchronous, callback_timeout, *args, **kwargs)\u001b[0m\n\u001b[0;32m    857\u001b[0m             \u001b[1;32mreturn\u001b[0m \u001b[0mfuture\u001b[0m\u001b[1;33m\u001b[0m\u001b[1;33m\u001b[0m\u001b[0m\n\u001b[0;32m    858\u001b[0m         \u001b[1;32melse\u001b[0m\u001b[1;33m:\u001b[0m\u001b[1;33m\u001b[0m\u001b[1;33m\u001b[0m\u001b[0m\n\u001b[1;32m--> 859\u001b[1;33m             return sync(\n\u001b[0m\u001b[0;32m    860\u001b[0m                 \u001b[0mself\u001b[0m\u001b[1;33m.\u001b[0m\u001b[0mloop\u001b[0m\u001b[1;33m,\u001b[0m \u001b[0mfunc\u001b[0m\u001b[1;33m,\u001b[0m \u001b[1;33m*\u001b[0m\u001b[0margs\u001b[0m\u001b[1;33m,\u001b[0m \u001b[0mcallback_timeout\u001b[0m\u001b[1;33m=\u001b[0m\u001b[0mcallback_timeout\u001b[0m\u001b[1;33m,\u001b[0m \u001b[1;33m**\u001b[0m\u001b[0mkwargs\u001b[0m\u001b[1;33m\u001b[0m\u001b[1;33m\u001b[0m\u001b[0m\n\u001b[0;32m    861\u001b[0m             )\n",
      "\u001b[1;32m~\\Anaconda3\\envs\\geoapps\\lib\\site-packages\\distributed\\utils.py\u001b[0m in \u001b[0;36msync\u001b[1;34m(loop, func, callback_timeout, *args, **kwargs)\u001b[0m\n\u001b[0;32m    321\u001b[0m     \u001b[1;32melse\u001b[0m\u001b[1;33m:\u001b[0m\u001b[1;33m\u001b[0m\u001b[1;33m\u001b[0m\u001b[0m\n\u001b[0;32m    322\u001b[0m         \u001b[1;32mwhile\u001b[0m \u001b[1;32mnot\u001b[0m \u001b[0me\u001b[0m\u001b[1;33m.\u001b[0m\u001b[0mis_set\u001b[0m\u001b[1;33m(\u001b[0m\u001b[1;33m)\u001b[0m\u001b[1;33m:\u001b[0m\u001b[1;33m\u001b[0m\u001b[1;33m\u001b[0m\u001b[0m\n\u001b[1;32m--> 323\u001b[1;33m             \u001b[0me\u001b[0m\u001b[1;33m.\u001b[0m\u001b[0mwait\u001b[0m\u001b[1;33m(\u001b[0m\u001b[1;36m10\u001b[0m\u001b[1;33m)\u001b[0m\u001b[1;33m\u001b[0m\u001b[1;33m\u001b[0m\u001b[0m\n\u001b[0m\u001b[0;32m    324\u001b[0m     \u001b[1;32mif\u001b[0m \u001b[0merror\u001b[0m\u001b[1;33m[\u001b[0m\u001b[1;36m0\u001b[0m\u001b[1;33m]\u001b[0m\u001b[1;33m:\u001b[0m\u001b[1;33m\u001b[0m\u001b[1;33m\u001b[0m\u001b[0m\n\u001b[0;32m    325\u001b[0m         \u001b[0mtyp\u001b[0m\u001b[1;33m,\u001b[0m \u001b[0mexc\u001b[0m\u001b[1;33m,\u001b[0m \u001b[0mtb\u001b[0m \u001b[1;33m=\u001b[0m \u001b[0merror\u001b[0m\u001b[1;33m[\u001b[0m\u001b[1;36m0\u001b[0m\u001b[1;33m]\u001b[0m\u001b[1;33m\u001b[0m\u001b[1;33m\u001b[0m\u001b[0m\n",
      "\u001b[1;32m~\\Anaconda3\\envs\\geoapps\\lib\\threading.py\u001b[0m in \u001b[0;36mwait\u001b[1;34m(self, timeout)\u001b[0m\n\u001b[0;32m    572\u001b[0m             \u001b[0msignaled\u001b[0m \u001b[1;33m=\u001b[0m \u001b[0mself\u001b[0m\u001b[1;33m.\u001b[0m\u001b[0m_flag\u001b[0m\u001b[1;33m\u001b[0m\u001b[1;33m\u001b[0m\u001b[0m\n\u001b[0;32m    573\u001b[0m             \u001b[1;32mif\u001b[0m \u001b[1;32mnot\u001b[0m \u001b[0msignaled\u001b[0m\u001b[1;33m:\u001b[0m\u001b[1;33m\u001b[0m\u001b[1;33m\u001b[0m\u001b[0m\n\u001b[1;32m--> 574\u001b[1;33m                 \u001b[0msignaled\u001b[0m \u001b[1;33m=\u001b[0m \u001b[0mself\u001b[0m\u001b[1;33m.\u001b[0m\u001b[0m_cond\u001b[0m\u001b[1;33m.\u001b[0m\u001b[0mwait\u001b[0m\u001b[1;33m(\u001b[0m\u001b[0mtimeout\u001b[0m\u001b[1;33m)\u001b[0m\u001b[1;33m\u001b[0m\u001b[1;33m\u001b[0m\u001b[0m\n\u001b[0m\u001b[0;32m    575\u001b[0m             \u001b[1;32mreturn\u001b[0m \u001b[0msignaled\u001b[0m\u001b[1;33m\u001b[0m\u001b[1;33m\u001b[0m\u001b[0m\n\u001b[0;32m    576\u001b[0m \u001b[1;33m\u001b[0m\u001b[0m\n",
      "\u001b[1;32m~\\Anaconda3\\envs\\geoapps\\lib\\threading.py\u001b[0m in \u001b[0;36mwait\u001b[1;34m(self, timeout)\u001b[0m\n\u001b[0;32m    314\u001b[0m             \u001b[1;32melse\u001b[0m\u001b[1;33m:\u001b[0m\u001b[1;33m\u001b[0m\u001b[1;33m\u001b[0m\u001b[0m\n\u001b[0;32m    315\u001b[0m                 \u001b[1;32mif\u001b[0m \u001b[0mtimeout\u001b[0m \u001b[1;33m>\u001b[0m \u001b[1;36m0\u001b[0m\u001b[1;33m:\u001b[0m\u001b[1;33m\u001b[0m\u001b[1;33m\u001b[0m\u001b[0m\n\u001b[1;32m--> 316\u001b[1;33m                     \u001b[0mgotit\u001b[0m \u001b[1;33m=\u001b[0m \u001b[0mwaiter\u001b[0m\u001b[1;33m.\u001b[0m\u001b[0macquire\u001b[0m\u001b[1;33m(\u001b[0m\u001b[1;32mTrue\u001b[0m\u001b[1;33m,\u001b[0m \u001b[0mtimeout\u001b[0m\u001b[1;33m)\u001b[0m\u001b[1;33m\u001b[0m\u001b[1;33m\u001b[0m\u001b[0m\n\u001b[0m\u001b[0;32m    317\u001b[0m                 \u001b[1;32melse\u001b[0m\u001b[1;33m:\u001b[0m\u001b[1;33m\u001b[0m\u001b[1;33m\u001b[0m\u001b[0m\n\u001b[0;32m    318\u001b[0m                     \u001b[0mgotit\u001b[0m \u001b[1;33m=\u001b[0m \u001b[0mwaiter\u001b[0m\u001b[1;33m.\u001b[0m\u001b[0macquire\u001b[0m\u001b[1;33m(\u001b[0m\u001b[1;32mFalse\u001b[0m\u001b[1;33m)\u001b[0m\u001b[1;33m\u001b[0m\u001b[1;33m\u001b[0m\u001b[0m\n",
      "\u001b[1;31mKeyboardInterrupt\u001b[0m: "
     ]
    }
   ],
   "source": [
    "name = \"Inversion_3\"\n",
    "inv_group = ContainerGroup.create(ws, name=name)\n",
    "octree = treemesh_2_octree(ws, mesh, parent=inv_group)\n",
    "\n",
    "pred = rx_obj.copy(parent=inv_group, copy_children=False)\n",
    "rx_obj.get_data(\"A-B Cell ID\")[0].copy(parent=pred)\n",
    "src = tx_obj.copy(parent=inv_group, copy_children=False)\n",
    "pred.current_electrodes = src\n",
    "\n",
    "\n",
    "obs_entity = pred.add_data({\n",
    "    \"Observed\": {\"values\": dobs, \"association\": \"CELL\"}\n",
    "})\n",
    "    \n",
    "coolingFactor = 2\n",
    "coolingRate = 1\n",
    "beta0_ratio = 1e1\n",
    "\n",
    "# Map for a regularization\n",
    "regmap = maps.IdentityMap(nP=int(activeCells.sum()))\n",
    "# reg = regularization.Tikhonov(mesh, indActive=global_actinds, mapping=regmap)\n",
    "reg = regularization.Sparse(mesh, indActive=activeCells, mapping=regmap)\n",
    "reg.norms = np.c_[0, 2, 2, 2]\n",
    "print('[INFO] Getting things started on inversion...')\n",
    "# set alpha length scales\n",
    "\n",
    "\n",
    "opt = optimization.ProjectedGNCG(\n",
    "    maxIter=15, upper=np.inf, lower=-np.inf,\n",
    "    maxIterCG=20, tolCG=1e-4\n",
    ")\n",
    "invProb = inverse_problem.BaseInvProblem(global_misfit, reg, opt)\n",
    "\n",
    "print(\"Pre-computing Jmatrix and predicted_0\")\n",
    "invProb.dpred = invProb.get_dpred(mstart, compute_J=True)\n",
    "\n",
    "actmap = maps.InjectActiveCells(\n",
    "    mesh, indActive=activeCells, valInactive=np.nan\n",
    ")\n",
    "expmap = maps.ExpMap(mesh)\n",
    "\n",
    "directive_list = []\n",
    "directive_list.append(directives.UpdateSensitivityWeights(threshold=1e-8))\n",
    "directive_list.append(directives.Update_IRLS(f_min_change=1e-4, minGNiter=1))\n",
    "directive_list.append(directives.BetaEstimate_ByEig(beta0_ratio=beta0_ratio, method=\"ratio\"))\n",
    "directive_list.append(directives.UpdatePreconditioner())\n",
    "directive_list.append(\n",
    "    directives.SaveIterationsGeoH5(\n",
    "        h5_object=octree,\n",
    "        mapping=expmap*actmap,\n",
    "        attribute_type=\"model\",\n",
    "        association=\"CELL\",\n",
    "        sorting=mesh._ubc_order,\n",
    "    )\n",
    ")\n",
    "directive_list.append(\n",
    "    directives.SaveIterationsGeoH5(\n",
    "        h5_object=pred,\n",
    "        channels=[\"dc\"],\n",
    "        attribute_type=\"predicted\",\n",
    "        association=\"CELL\",\n",
    "        data_type={\"\": {\"dc\": obs_entity.entity_type}},\n",
    "        save_objective_function=True,\n",
    "    )\n",
    ")\n",
    "\n",
    "# Need to have basice saving function\n",
    "\n",
    "inv = inversion.BaseInversion(\n",
    "    invProb, directiveList=directive_list)\n",
    "opt.LSshorten = 0.5\n",
    "opt.remember('xc')\n",
    "mstart = np.ones(int(activeCells.sum())) * np.log(.05)\n",
    "# Run Inversion ================================================================\n",
    "minv = inv.run(mstart)"
   ]
  },
  {
   "cell_type": "code",
   "execution_count": null,
   "id": "ec771dac",
   "metadata": {},
   "outputs": [],
   "source": []
  }
 ],
 "metadata": {
  "kernelspec": {
   "display_name": "Python 3 (ipykernel)",
   "language": "python",
   "name": "python3"
  },
  "language_info": {
   "codemirror_mode": {
    "name": "ipython",
    "version": 3
   },
   "file_extension": ".py",
   "mimetype": "text/x-python",
   "name": "python",
   "nbconvert_exporter": "python",
   "pygments_lexer": "ipython3",
   "version": "3.9.6"
  }
 },
 "nbformat": 4,
 "nbformat_minor": 5
}

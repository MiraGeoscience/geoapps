{
 "cells": [
  {
   "cell_type": "markdown",
   "metadata": {},
   "source": [
    "# Tutorial 6: Export objects\n",
    "\n",
    "In this tutorial, we designed a simple widget to export objects from a geoh5 project to various file formats."
   ]
  },
  {
   "cell_type": "code",
   "execution_count": 1,
   "metadata": {},
   "outputs": [
    {
     "data": {
      "application/vnd.jupyter.widget-view+json": {
       "model_id": "3396127095e6481981e87b378ba86635",
       "version_major": 2,
       "version_minor": 0
      },
      "text/plain": [
       "VBox(children=(Dropdown(description='Object:', options=('Canada - 200m - MAG - Residual Total Field - Composan…"
      ]
     },
     "metadata": {},
     "output_type": "display_data"
    },
    {
     "name": "stdout",
     "output_type": "stream",
     "text": [
      "Object saved to C:\\Users\\dominiquef\\Desktop\\Canada - 200m - MAG - Residual Total Field - Composante residuelle.tif\n"
     ]
    }
   ],
   "source": [
    "from functions.export import export_widget\n",
    "my_h5file = r\"C:\\Users\\dominiquef\\Desktop\\NRCAN_Mag_250m.geoh5\"#\"assets/MtDore_TMIwork.geoh5\"\n",
    "export_widget(my_h5file)"
   ]
  },
  {
   "cell_type": "code",
   "execution_count": null,
   "metadata": {},
   "outputs": [],
   "source": []
  }
 ],
 "metadata": {
  "kernelspec": {
   "display_name": "Python 3",
   "language": "python",
   "name": "python3"
  },
  "language_info": {
   "codemirror_mode": {
    "name": "ipython",
    "version": 3
   },
   "file_extension": ".py",
   "mimetype": "text/x-python",
   "name": "python",
   "nbconvert_exporter": "python",
   "pygments_lexer": "ipython3",
   "version": "3.7.4"
  }
 },
 "nbformat": 4,
 "nbformat_minor": 2
}

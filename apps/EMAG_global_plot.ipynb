{
 "cells": [
  {
   "cell_type": "code",
   "execution_count": 1,
   "metadata": {},
   "outputs": [],
   "source": [
    "%matplotlib inline\n",
    "\n",
    "from GeoToolkit.Mag import Mag, ProblemSetter, MathUtils, Simulator, DataIO\n",
    "import matplotlib.pyplot as plt\n",
    "from GeoToolkit.graphics import graphics\n",
    "import numpy as np\n",
    "import scipy.sparse as sp\n",
    "from scipy.spatial import Delaunay\n",
    "from skimage import exposure\n",
    "from geoh5io.workspace import Workspace\n",
    "from geoh5io.objects import Surface"
   ]
  },
  {
   "cell_type": "code",
   "execution_count": 2,
   "metadata": {
    "scrolled": false
   },
   "outputs": [
    {
     "name": "stdout",
     "output_type": "stream",
     "text": [
      "\n"
     ]
    },
    {
     "data": {
      "application/vnd.jupyter.widget-view+json": {
       "model_id": "845e437eb3a64f1993308b30903aac7a",
       "version_major": 2,
       "version_minor": 0
      },
      "text/plain": [
       "interactive(children=(RadioButtons(description='File Type:', options=('Local', 'Cloud'), value='Local'), Text(…"
      ]
     },
     "metadata": {},
     "output_type": "display_data"
    }
   ],
   "source": [
    "download = DataIO.fetchData(path=r\"C:\\Users\\DominiqueFournier\\Documents\\GIT\\GeoToolkit\\Notebooks\\Output\", localCloud='Local')\n",
    "display(download)"
   ]
  },
  {
   "cell_type": "code",
   "execution_count": 5,
   "metadata": {},
   "outputs": [
    {
     "data": {
      "application/vnd.jupyter.widget-view+json": {
       "model_id": "e0aa8faca33748b69c22b7c47b958cb3",
       "version_major": 2,
       "version_minor": 0
      },
      "text/plain": [
       "interactive(children=(Dropdown(description='ColorMap', index=3, options=('viridis', 'plasma', 'magma', 'Spectr…"
      ]
     },
     "metadata": {},
     "output_type": "display_data"
    }
   ],
   "source": [
    "if download.result is not None:\n",
    "    if (download.result[1] == \"CSV\")  :\n",
    "        grid = Simulator.dataGriddingWidget(download.result[0], marker=False, dataColumn=3, Resolution=100, Method='linear')\n",
    "        display(grid)\n",
    "    else:\n",
    "        grid = Simulator.dataGridGeoref(download.result[0])\n",
    "        display(grid)"
   ]
  },
  {
   "cell_type": "code",
   "execution_count": 7,
   "metadata": {},
   "outputs": [
    {
     "data": {
      "application/vnd.jupyter.widget-view+json": {
       "model_id": "db7f9c7b90694f9695de5a6a031a0397",
       "version_major": 2,
       "version_minor": 0
      },
      "text/plain": [
       "interactive(children=(FloatSlider(value=-5.389099242057903e-15, continuous_update=False, description='East', m…"
      ]
     },
     "metadata": {},
     "output_type": "display_data"
    }
   ],
   "source": [
    "if download.result is not None:\n",
    "    selection = Simulator.setDataExtentWidget(grid.result)\n",
    "    display(selection)"
   ]
  },
  {
   "cell_type": "code",
   "execution_count": 8,
   "metadata": {},
   "outputs": [],
   "source": [
    "\n",
    "sub = 5\n",
    "\n",
    "grid_shape = selection.result.values.shape\n",
    "values = (selection.result.values.copy())\n",
    "indNan = np.isnan(values)\n",
    "values[indNan] = 0\n",
    "values = values[::sub, ::sub].ravel()\n",
    "\n",
    "\n",
    "theta = selection.result.gridCC[:, 0].reshape(grid_shape, order='F')[::sub, ::sub].ravel()\n",
    "phi = selection.result.gridCC[:, 1].reshape(grid_shape, order='F')[::sub, ::sub].ravel()\n",
    "\n",
    "\n",
    "R = 5380\n",
    "R = (R+(values)/10)\n",
    "x = R * np.cos(np.deg2rad(phi)) * np.cos(np.deg2rad(theta))\n",
    "y = R * np.cos(np.deg2rad(phi)) * np.sin(np.deg2rad(theta))\n",
    "z = R * np.sin(np.deg2rad(phi))\n",
    "\n",
    "\n",
    "# Triangulate the surface\n",
    "surf = Delaunay(np.c_[theta, phi])"
   ]
  },
  {
   "cell_type": "code",
   "execution_count": 9,
   "metadata": {},
   "outputs": [],
   "source": [
    "# Interpolate values on cell\n",
    "values = np.mean(np.c_[\n",
    "                     values[surf.simplices[:, 0]],\n",
    "                     values[surf.simplices[:, 1]],\n",
    "                     values[surf.simplices[:, 2]]\n",
    "                 ], axis=1\n",
    ")\n",
    "\n"
   ]
  },
  {
   "cell_type": "code",
   "execution_count": 11,
   "metadata": {},
   "outputs": [],
   "source": [
    "# Create a geoh5 surface and export\n",
    "workspace = Workspace(\"EMAG_V2_new2.geoh5\")\n",
    "surface, data = Surface.create(\n",
    "    workspace, vertices=np.c_[x, y, z], \n",
    "    name=\"Tester\",\n",
    "    cells=surf.simplices,\n",
    "    data={\"TMI\": [\"CELL\", values]})\n",
    "workspace.save_entity(surface)\n",
    "workspace.finalize()\n"
   ]
  },
  {
   "cell_type": "code",
   "execution_count": 12,
   "metadata": {},
   "outputs": [],
   "source": [
    "workspace.tree??\n"
   ]
  },
  {
   "cell_type": "code",
   "execution_count": 25,
   "metadata": {},
   "outputs": [],
   "source": [
    "obj = workspace.get_entity(\"CentralCanada\")[0]\n",
    "obj.name = \"SouthAmerica\"\n",
    "\n",
    "workspace.save_entity(obj)\n",
    "workspace.finalize()\n",
    "\n",
    "# workspace.tree\n"
   ]
  },
  {
   "cell_type": "code",
   "execution_count": 31,
   "metadata": {},
   "outputs": [
    {
     "name": "stdout",
     "output_type": "stream",
     "text": [
      "Is true\n"
     ]
    }
   ],
   "source": [
    "aa = [1]\n",
    "\n",
    "\n",
    "\n",
    "if aa:\n",
    "    \n",
    "    print('Is true')\n"
   ]
  },
  {
   "cell_type": "markdown",
   "metadata": {},
   "source": [
    "# Repeat for EWGM2012 (GRAV)"
   ]
  }
 ],
 "metadata": {
  "kernelspec": {
   "display_name": "Python 3",
   "language": "python",
   "name": "python3"
  },
  "language_info": {
   "codemirror_mode": {
    "name": "ipython",
    "version": 3
   },
   "file_extension": ".py",
   "mimetype": "text/x-python",
   "name": "python",
   "nbconvert_exporter": "python",
   "pygments_lexer": "ipython3",
   "version": "3.7.4"
  }
 },
 "nbformat": 4,
 "nbformat_minor": 2
}

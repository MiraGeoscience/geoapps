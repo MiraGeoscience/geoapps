{
 "cells": [
  {
   "cell_type": "markdown",
   "metadata": {},
   "source": [
    "# Object to object transfer\n",
    "\n",
    "This app allows user to transfer data from one object to another in a fast and easy way.\n",
    "The primary would be to transfer a model from one mesh to another. Alternatively, users can generate a uniform grid (BlockModel) to transer data/models to at a defined resolution and extant.\n",
    "\n",
    "- Choose an object and associated data\n",
    "- Pick a destination object or create a 3D grid\n",
    "- Interpolate your data/model !"
   ]
  },
  {
   "cell_type": "code",
   "execution_count": 1,
   "metadata": {},
   "outputs": [],
   "source": [
    "from functions.selection import object_data_selection_widget\n",
    "from functions.export import mesh_to_mesh_interpolation"
   ]
  },
  {
   "cell_type": "code",
   "execution_count": 2,
   "metadata": {},
   "outputs": [
    {
     "data": {
      "application/vnd.jupyter.widget-view+json": {
       "model_id": "dd5994d2834f454893425aa669ac0cc0",
       "version_major": 2,
       "version_minor": 0
      },
      "text/plain": [
       "VBox(children=(Dropdown(description='Object:', options=('fault_splay1', 'fault_Cliff_Lake', 'fault_Other_FlinF…"
      ]
     },
     "metadata": {},
     "output_type": "display_data"
    }
   ],
   "source": [
    "h5file = r\"assets\\FlinFlon.geoh5\"\n",
    "mesh_to_mesh_interpolation(h5file)"
   ]
  },
  {
   "cell_type": "markdown",
   "metadata": {},
   "source": [
    "# Export the model\n",
    "\n",
    "This section re-uses the \"export\" app to save the interpolated mesh and model."
   ]
  },
  {
   "cell_type": "code",
   "execution_count": 2,
   "metadata": {},
   "outputs": [
    {
     "data": {
      "application/vnd.jupyter.widget-view+json": {
       "model_id": "85e416e9a7fc4fd886569a5a270aceed",
       "version_major": 2,
       "version_minor": 0
      },
      "text/plain": [
       "VBox(children=(Dropdown(description='Object:', options=('Mesh', 'Predicted', 'Obs_REM_GRID_TMI', 'Topo_Flat', …"
      ]
     },
     "metadata": {},
     "output_type": "display_data"
    }
   ],
   "source": [
    "from functions.export import export_widget\n",
    "export_widget(h5file)"
   ]
  },
  {
   "cell_type": "code",
   "execution_count": null,
   "metadata": {},
   "outputs": [],
   "source": []
  }
 ],
 "metadata": {
  "kernelspec": {
   "display_name": "Python 3",
   "language": "python",
   "name": "python3"
  },
  "language_info": {
   "codemirror_mode": {
    "name": "ipython",
    "version": 3
   },
   "file_extension": ".py",
   "mimetype": "text/x-python",
   "name": "python",
   "nbconvert_exporter": "python",
   "pygments_lexer": "ipython3",
   "version": "3.7.4"
  }
 },
 "nbformat": 4,
 "nbformat_minor": 2
}

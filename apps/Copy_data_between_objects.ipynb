version https://git-lfs.github.com/spec/v1
oid sha256:9dee957bf0352a286e9efcbd19d6b446d9b59daef7569c46be96aa37091d45ff
size 2808

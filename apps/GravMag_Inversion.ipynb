{
 "cells": [
  {
   "cell_type": "markdown",
   "metadata": {},
   "source": [
    "# Tutorial 7: Potential field data inversion\n",
    "\n",
    "In this tutorial we demonstrate how to invert gravity and magnetic data with open-source software.\n",
    "The inversion routine uses [SimPEG](https://simpeg.xyz/) has the core algorithm. We will invert field and tensor data simulated over the synthetic Flin Flon deposit.\n",
    "\n",
    "## User Notes\n",
    "\n",
    "### Data Panel\n",
    " - **Survey Type:** Select one of *Magnetic* or *Gravity*\n",
    " - **Object:** Select a Point, Curve, Surface of Grid2D object present in your project geoh5 file\n",
    " - **Channels:** Select one or multiple data channels corresponding to the field and/or tensor data associated to the same *Survey Type* (e.g. TMI, bxx, byy, bzz for magnetic tensor data)\n",
    "#### Component Panel\n",
    "For each *Data Channel* selected above specify:\n",
    "   - **Data type**\n",
    "   - **Uncertainties** (default to a floor value = 5th percentile) \n",
    " \n",
    "### Spatial information\n",
    " - **Topography** \n",
    "  - [Option 1] Object: Select an object from the source geoh5 file and channel\n",
    "  - [Option 2] Drape Height: Specify a drape offset from the data locations\n",
    " - **Sensor Height**\n",
    "  - [Option 1] Channel: Use a specific data channel for the receiver heights or vertices [Default]\n",
    "  - [Option 2] Drape Height: Specify a drape offset above topography. Requires topography.\n",
    "  \n",
    "### Data selection (window and downample)\n",
    "Interactive data selection from the source object.\n",
    "\n",
    "### Inversion options\n",
    "Parameters controling the inversion routine (on-going)"
   ]
  },
  {
   "cell_type": "code",
   "execution_count": null,
   "metadata": {
    "scrolled": false
   },
   "outputs": [],
   "source": [
    "from shutil import copyfile\n",
    "from functions.inversion import pf_inversion_widget\n",
    "\n",
    "# Lets create a working copy\n",
    "my_h5file = r\"assets/FlinFlon.geoh5\"\n",
    "new_file = copyfile(my_h5file, my_h5file[:-6] + \"_pf.geoh5\")\n",
    "\n",
    "# Start the potential fields widget\n",
    "pf_inversion_widget(new_file, resolution=100, inducing_field=\"58500, 78, 7.5\")"
   ]
  },
  {
   "cell_type": "markdown",
   "metadata": {},
   "source": [
    "Congratulation\n",
    "----\n",
    "\n",
    "By completeing this demo, you have inverted potential field data over windowed regions of the Flin Flon deposit. You are invited to try the same process on your own data.  "
   ]
  }
 ],
 "metadata": {
  "kernelspec": {
   "display_name": "Python 3",
   "language": "python",
   "name": "python3"
  },
  "language_info": {
   "codemirror_mode": {
    "name": "ipython",
    "version": 3
   },
   "file_extension": ".py",
   "mimetype": "text/x-python",
   "name": "python",
   "nbconvert_exporter": "python",
   "pygments_lexer": "ipython3",
   "version": "3.7.4"
  }
 },
 "nbformat": 4,
 "nbformat_minor": 2
}

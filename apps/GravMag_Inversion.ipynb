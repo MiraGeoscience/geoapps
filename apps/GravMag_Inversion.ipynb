version https://git-lfs.github.com/spec/v1
oid sha256:c67a93b1b9bda04f87a7943403cfd184301c97d856f1e6cdc4d6b672e8f815fb
size 3057

{
 "cells": [
  {
   "cell_type": "markdown",
   "metadata": {},
   "source": [
    "# Tutorial 2: Automated Lineament Extraction\n",
    "In this tutorial we demosntrate how to extract lineament from gridded magnetic data in a semi-automated fashion. The main goals are\n",
    "\n",
    "- Speed-up the interpretation of gravity and magnetic data\n",
    "- Promote reproducibility\n",
    "- Demonstrate the power of open-source technology.\n",
    "\n",
    "This application is NOT meant to replace the work of experts, but rather to provide a \"first guess\" from machine vision algorithms provided by the open-sourced [scikit-image](https://scikit-image.org/) package.\n",
    "\n",
    "[Youtube demo here!!](https://youtu.be/Lpn3xA7xlBs)"
   ]
  },
  {
   "cell_type": "code",
   "execution_count": null,
   "metadata": {},
   "outputs": [],
   "source": [
    "%matplotlib inline\n",
    "from shutil import copyfile\n",
    "from functions.processing import edge_detection_widget"
   ]
  },
  {
   "cell_type": "markdown",
   "metadata": {},
   "source": [
    "Extract spatial data\n",
    "--------------\n",
    "For this example we have pre-computed the reduce-to-pole (RTP) magnetic data from Mount Dore, Australia.\n",
    "\n",
    "In order to estimate the position and orientation of magnetic lineaments, we need to extract edges. We can use the [skimage.feature.canny](https://scikit-image.org/docs/dev/auto_examples/edges/plot_canny.html#sphx-glr-auto-examples-edges-plot-canny-py) algorithm to do this for us. The main parameter that controles this function is:\n",
    "\n",
    "- [sigma](https://scikit-image.org/docs/dev/api/skimage.feature.html?highlight=canny#canny): Standard deviation of the Gaussian filter\n",
    "\n",
    "Next, we need to translate this simplified raster image into a parametric form. We can use the [skimage.transform.hough_line](https://scikit-image.org/docs/dev/auto_examples/edges/plot_line_hough_transform.html?highlight=hough) algorithm to do the job. The main parameters to control the algorithm are:\n",
    "\n",
    "- [threshold](https://scikit-image.org/docs/dev/api/skimage.transform.html#probabilistic-hough-line): Value threshold \n",
    "\n",
    "- [line_length](https://scikit-image.org/docs/dev/api/skimage.transform.html#probabilistic-hough-line): Minimum accepted pixel length of detected lines \n",
    "\n",
    "- [line_gap](https://scikit-image.org/docs/dev/api/skimage.transform.html#probabilistic-hough-line): Maximum gap between pixels to still form a line.\n",
    "\n",
    "The result can be exported directly to the `geoh5` file for viewing in 3D.\n"
   ]
  },
  {
   "cell_type": "code",
   "execution_count": null,
   "metadata": {},
   "outputs": [],
   "source": [
    "# grid, data = selection.result\n",
    "my_h5file = r\"assets/MtDore_TMI.geoh5\"\n",
    "\n",
    "# Lets create a working copy\n",
    "new_file = my_h5file[:-6] + \"_work.geoh5\"\n",
    "copyfile(my_h5file, new_file)\n",
    "\n",
    "lines = edge_detection_widget(new_file, resolution=50)\n",
    "display(lines)"
   ]
  },
  {
   "cell_type": "markdown",
   "metadata": {},
   "source": [
    "Congratulation\n",
    "---------\n",
    "\n",
    "You have completed this tutorial. Feel free to try different parameters and export multiple curve objects to the GA project.\n",
    "\n",
    "You can also apply the same process to your own data by simply pointing to a different Geoscience Analyst project.\n",
    "\n",
    "Et voila!"
   ]
  }
 ],
 "metadata": {
  "kernelspec": {
   "display_name": "Python 3",
   "language": "python",
   "name": "python3"
  },
  "language_info": {
   "codemirror_mode": {
    "name": "ipython",
    "version": 3
   },
   "file_extension": ".py",
   "mimetype": "text/x-python",
   "name": "python",
   "nbconvert_exporter": "python",
   "pygments_lexer": "ipython3",
   "version": "3.7.4"
  }
 },
 "nbformat": 4,
 "nbformat_minor": 2
}

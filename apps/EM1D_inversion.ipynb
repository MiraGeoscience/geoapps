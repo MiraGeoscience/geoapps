version https://git-lfs.github.com/spec/v1
oid sha256:dfda272f86be7d4cc7ec32496ce42853f215c26caacd2341a68deb3226284fb0
size 1757

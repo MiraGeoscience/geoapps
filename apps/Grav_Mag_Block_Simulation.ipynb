{
 "cells": [
  {
   "cell_type": "markdown",
   "metadata": {},
   "source": [
    "# Grav/Mag Block Simulation\n",
    "\n",
    "This app allows users to simulate gravity and magnetic field tensor data over a collection of prisms."
   ]
  },
  {
   "cell_type": "code",
   "execution_count": 1,
   "metadata": {},
   "outputs": [],
   "source": [
    "from functions.simulation import block_model_widget\n",
    "from shutil import copyfile"
   ]
  },
  {
   "cell_type": "code",
   "execution_count": 2,
   "metadata": {},
   "outputs": [],
   "source": [
    "my_h5file = r\"C:\\Users\\dominiquef\\Desktop\\Decar_Simulation_temp.geoh5\"\n",
    "new_file = copyfile(my_h5file, my_h5file[:-6] + \"_sim.geoh5\")"
   ]
  },
  {
   "cell_type": "code",
   "execution_count": 3,
   "metadata": {
    "scrolled": false
   },
   "outputs": [
    {
     "data": {
      "application/vnd.jupyter.widget-view+json": {
       "model_id": "3ffd35ba10064f5ebdb21558037a665a",
       "version_major": 2,
       "version_minor": 0
      },
      "text/plain": [
       "VBox(children=(HBox(children=(VBox(children=(VBox(children=(Dropdown(description='Survey Type:', options=('Mag…"
      ]
     },
     "metadata": {},
     "output_type": "display_data"
    },
    {
     "name": "stdout",
     "output_type": "stream",
     "text": [
      "Forward calculation: \n",
      "[########################################] | 100% Completed |  7.5s\n",
      "Forward calculation: \n",
      "[########################################] | 100% Completed |  8.6s\n"
     ]
    }
   ],
   "source": [
    "display(block_model_widget(new_file))"
   ]
  },
  {
   "cell_type": "code",
   "execution_count": null,
   "metadata": {},
   "outputs": [],
   "source": []
  }
 ],
 "metadata": {
  "kernelspec": {
   "display_name": "Python 3",
   "language": "python",
   "name": "python3"
  },
  "language_info": {
   "codemirror_mode": {
    "name": "ipython",
    "version": 3
   },
   "file_extension": ".py",
   "mimetype": "text/x-python",
   "name": "python",
   "nbconvert_exporter": "python",
   "pygments_lexer": "ipython3",
   "version": "3.7.7"
  }
 },
 "nbformat": 4,
 "nbformat_minor": 2
}

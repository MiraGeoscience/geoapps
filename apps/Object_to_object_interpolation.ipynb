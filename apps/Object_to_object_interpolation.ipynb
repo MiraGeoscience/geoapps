{
 "cells": [
  {
   "cell_type": "markdown",
   "metadata": {},
   "source": [
    "# Object to object transfer\n",
    "\n",
    "This app allows user to transfer data from one object to another in a fast and easy way.\n",
    "The primary would be to transfer a model from one mesh to another. Alternatively, users can generate a uniform grid (BlockModel) to transer data/models to at a defined resolution and extant.\n",
    "\n",
    "- Choose an object and associated data\n",
    "- Pick a destination object or create a 3D grid\n",
    "- Select the `Space` to use for interpolation: \n",
    " - `Linear` \n",
    " - `Log`\n",
    "- Select the `Method`\n",
    " - `Nearest`: Nearest neighbour interpolation using [scipy.spatial.cKDTree](https://docs.scipy.org/doc/scipy/reference/generated/scipy.spatial.cKDTree.html) (Fastest)\n",
    " - `Linear`: Linear interpolation from [scipy.interpolate.LinearNDInterpolator](https://docs.scipy.org/doc/scipy/reference/generated/scipy.interpolate.LinearNDInterpolator.html) (Slowest)\n",
    " - `Inverse Distance`: Custom method using 8 nearest neighbours and their radial distance from [scipy.spatial.cKDTree](https://docs.scipy.org/doc/scipy/reference/generated/scipy.spatial.cKDTree.html). (Best for line models) **Skew parameters can be used to compensate for orientated line data with short station seperation.**\n",
    "   - Azimuth (lines orientation angle from North)\n",
    "   - Factor (ratio between along vs cross line distance)\n",
    "     - e.g.: For EW orientation @ 200 m line spacing and stations 25 m appart. Use -> Azimuth: 90, Factor: 0.125 (25/200)   \n",
    "- Interpolate your data/model !"
   ]
  },
  {
   "cell_type": "code",
   "execution_count": 1,
   "metadata": {},
   "outputs": [],
   "source": [
    "from functions.selection import object_data_selection_widget\n",
    "from functions.export import object_to_object_interpolation"
   ]
  },
  {
   "cell_type": "code",
   "execution_count": 3,
   "metadata": {
    "scrolled": false
   },
   "outputs": [
    {
     "data": {
      "application/vnd.jupyter.widget-view+json": {
       "model_id": "f3f395c823dc42ed8de901fb0001aff7",
       "version_major": 2,
       "version_minor": 0
      },
      "text/plain": [
       "VBox(children=(HBox(children=(VBox(children=(Label(value='Input'), Dropdown(description='Object:', options=('f…"
      ]
     },
     "metadata": {},
     "output_type": "display_data"
    }
   ],
   "source": [
    "h5file = r\"assets/FlinFlon.geoh5\"\n",
    "object_to_object_interpolation(h5file)"
   ]
  },
  {
   "cell_type": "markdown",
   "metadata": {},
   "source": [
    "# Export the model\n",
    "\n",
    "This section re-uses the \"export\" app to save the interpolated mesh and model."
   ]
  },
  {
   "cell_type": "code",
   "execution_count": 4,
   "metadata": {
    "scrolled": false
   },
   "outputs": [
    {
     "data": {
      "application/vnd.jupyter.widget-view+json": {
       "model_id": "1d14bee2e3094e15a564a15593b275ad",
       "version_major": 2,
       "version_minor": 0
      },
      "text/plain": [
       "VBox(children=(Dropdown(description='Object:', options=('EM1D_Predicted_South', 'EM1D_Model_South', 'EM1D_Pred…"
      ]
     },
     "metadata": {},
     "output_type": "display_data"
    }
   ],
   "source": [
    "from functions.export import export_widget\n",
    "export_widget(h5file)"
   ]
  }
 ],
 "metadata": {
  "kernelspec": {
   "display_name": "Python 3",
   "language": "python",
   "name": "python3"
  },
  "language_info": {
   "codemirror_mode": {
    "name": "ipython",
    "version": 3
   },
   "file_extension": ".py",
   "mimetype": "text/x-python",
   "name": "python",
   "nbconvert_exporter": "python",
   "pygments_lexer": "ipython3",
   "version": "3.7.7"
  }
 },
 "nbformat": 4,
 "nbformat_minor": 2
}

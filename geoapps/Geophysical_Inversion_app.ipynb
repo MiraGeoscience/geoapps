{
 "cells": [
  {
   "cell_type": "markdown",
   "metadata": {},
   "source": [
    "# SimPEG Inversion\n",
    "\n",
    "With this application, we let the user invert electromagnetic (Pseudo-3D) and potential data (gravity and magnetics) in 3D with open-source software.\n",
    "The inversion routine uses [SimPEG](https://simpeg.xyz/) has the core algorithm. \n",
    "\n",
    " - We provide a test dataset simulated over the synthetic Flin Flon deposit.\n",
    " - See **User Notes** (below) for instructions on how to use the application. "
   ]
  },
  {
   "cell_type": "code",
   "execution_count": 1,
   "metadata": {
    "scrolled": false
   },
   "outputs": [
    {
     "data": {
      "application/vnd.jupyter.widget-view+json": {
       "model_id": "2181571e91764af0b780aca07857a15f",
       "version_major": 2,
       "version_minor": 0
      },
      "text/plain": [
       "VBox(children=(HBox(children=(VBox(children=(VBox(children=(Label(value='Input Data'), VBox(children=(Dropdown…"
      ]
     },
     "metadata": {},
     "output_type": "display_data"
    }
   ],
   "source": [
    "%matplotlib inline\n",
    "\n",
    "from shutil import copyfile\n",
    "from geoapps.functions.inversion import inversion_app\n",
    "\n",
    "# Lets create a working copy\n",
    "h5file = r\"assets/FlinFlon.geoh5\"\n",
    "new_file = copyfile(h5file, h5file[:-6] + \"_inversion.geoh5\")\n",
    "\n",
    "# Start the inversion widget\n",
    "inversion_app(\n",
    "    new_file,\n",
    "    resolution=200,                   # Optional default resolution for demo\n",
    "    inducing_field=\"60000, 79, 11\", # Optional inducing field for demo\n",
    "    objects=\"Gravity_Magnetics_drape60m\",\n",
    "    zoom_extent=True\n",
    ")"
   ]
  },
  {
   "cell_type": "markdown",
   "metadata": {},
   "source": [
    "## User Notes\n",
    "\n",
    "### Data Panel\n",
    " - **Survey Type:** Select one of *Magnetic* or *Gravity*\n",
    " - **Object:** Select a Point, Curve, Surface of Grid2D object present in your project geoh5 file\n",
    " - **Channels:** Select one or multiple data channels corresponding to the field and/or tensor data associated to the same *Survey Type* (e.g. TMI, bxx, byy, bzz for magnetic tensor data)\n",
    "#### Component Panel\n",
    "For each *Data Channel* selected above specify:\n",
    "   - **Data type**\n",
    "   - **Uncertainties** (default to a floor value = 5th percentile) \n",
    " \n",
    "### Spatial information\n",
    " - **Topography** \n",
    "  - [Option 1] Object: Select an object from the source geoh5 file and channel\n",
    "  - [Option 2] Drape Height: Specify a drape offset from the data locations\n",
    " - **Sensor Height**\n",
    "  - [Option 1] Channel: Use a specific data channel for the receiver heights or vertices [Default]\n",
    "  - [Option 2] Drape Height: Specify a drape offset above topography. Requires topography.\n",
    "  \n",
    "### Data selection (window and downample)\n",
    "Interactive data selection from the source object.\n",
    "\n",
    "### Inversion options\n",
    "Parameters controlling the inversion routine (on-going)"
   ]
  },
  {
   "cell_type": "markdown",
   "metadata": {},
   "source": [
    "## Plot convergence curve\n",
    "\n",
    "Display the misfit and regularization as a function of iterations. Type `out.result` to access a dictionary of numerical values."
   ]
  },
  {
   "cell_type": "code",
   "execution_count": null,
   "metadata": {
    "scrolled": true
   },
   "outputs": [],
   "source": [
    "from functions.inversion import plot_convergence_curve\n",
    "out = plot_convergence_curve(new_file)\n",
    "display(out)\n",
    "# print(out.result)"
   ]
  },
  {
   "cell_type": "markdown",
   "metadata": {},
   "source": [
    "Congratulations\n",
    "----\n",
    "\n",
    "By completeing this demo, you have inverted potential field and EM data over windowed regions of the Flin Flon deposit. You are invited to try the same process on your own data.  "
   ]
  }
 ],
 "metadata": {
  "kernelspec": {
   "display_name": "Python 3",
   "language": "python",
   "name": "python3"
  },
  "language_info": {
   "codemirror_mode": {
    "name": "ipython",
    "version": 3
   },
   "file_extension": ".py",
   "mimetype": "text/x-python",
   "name": "python",
   "nbconvert_exporter": "python",
   "pygments_lexer": "ipython3",
   "version": "3.7.8"
  }
 },
 "nbformat": 4,
 "nbformat_minor": 2
}

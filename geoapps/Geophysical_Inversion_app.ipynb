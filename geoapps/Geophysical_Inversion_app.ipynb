version https://git-lfs.github.com/spec/v1
oid sha256:10f6d3661f7e8f3473a0c18dc8ac328ba15c8ea52e212c2c1301a7dc4f5f1056
size 4469

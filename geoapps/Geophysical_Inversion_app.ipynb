version https://git-lfs.github.com/spec/v1
oid sha256:d4de946c9efcabd0dccae4a00fd275c886a79a6cfe02473641c893eaa99b9a0e
size 4618

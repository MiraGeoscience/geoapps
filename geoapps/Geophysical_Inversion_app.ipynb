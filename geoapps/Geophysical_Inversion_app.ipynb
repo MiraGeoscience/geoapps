{
 "cells": [
  {
   "cell_type": "markdown",
   "metadata": {},
   "source": [
    "# Grav/Mag Octree inversion\n",
    "\n",
    "In this tutorial we demonstrate how to invert gravity and magnetic data with open-source software.\n",
    "The inversion routine uses [SimPEG](https://simpeg.xyz/) has the core algorithm. We will invert field and tensor data simulated over the synthetic Flin Flon deposit.\n",
    "\n",
    "## User Notes\n",
    "\n",
    "### Data Panel\n",
    " - **Survey Type:** Select one of *Magnetic* or *Gravity*\n",
    " - **Object:** Select a Point, Curve, Surface of Grid2D object present in your project geoh5 file\n",
    " - **Channels:** Select one or multiple data channels corresponding to the field and/or tensor data associated to the same *Survey Type* (e.g. TMI, bxx, byy, bzz for magnetic tensor data)\n",
    "#### Component Panel\n",
    "For each *Data Channel* selected above specify:\n",
    "   - **Data type**\n",
    "   - **Uncertainties** (default to a floor value = 5th percentile) \n",
    " \n",
    "### Spatial information\n",
    " - **Topography** \n",
    "  - [Option 1] Object: Select an object from the source geoh5 file and channel\n",
    "  - [Option 2] Drape Height: Specify a drape offset from the data locations\n",
    " - **Sensor Height**\n",
    "  - [Option 1] Channel: Use a specific data channel for the receiver heights or vertices [Default]\n",
    "  - [Option 2] Drape Height: Specify a drape offset above topography. Requires topography.\n",
    "  \n",
    "### Data selection (window and downample)\n",
    "Interactive data selection from the source object.\n",
    "\n",
    "### Inversion options\n",
    "Parameters controlling the inversion routine (on-going)"
   ]
  },
  {
   "cell_type": "code",
   "execution_count": 2,
   "metadata": {
    "scrolled": false
   },
   "outputs": [
    {
     "data": {
      "application/vnd.jupyter.widget-view+json": {
       "model_id": "8b3c74ecac94434fb2b43b7494a30b66",
       "version_major": 2,
       "version_minor": 0
      },
      "text/plain": [
       "VBox(children=(VBox(children=(VBox(children=(Dropdown(description='Object:', index=41, options=('01_Late_Intru…"
      ]
     },
     "metadata": {},
     "output_type": "display_data"
    }
   ],
   "source": [
    "from shutil import copyfile\n",
    "from functions.inversion import inversion_widget\n",
    "\n",
    "# Lets create a working copy\n",
    "# my_h5file = r\"assets/FlinFlon.geoh5\"\n",
    "my_h5file = r\"C:\\Users\\dominiquef\\Documents\\Workspace\\Spectrem\\WilliamsLake.geoh5\"\n",
    "# my_h5file = r\"C:\\Users\\dominiquef\\Downloads\\Testv2\\Inversion_TESTv2\\Tellus_EM_A1_Inversion_100m_600mMesh_TEST.geoh5\"\n",
    "new_file = copyfile(my_h5file, my_h5file[:-6] + \"_inv.geoh5\")\n",
    "\n",
    "# Start the potential fields widget\n",
    "inversion_widget(\n",
    "    new_file, \n",
    "    resolution=100,                  # Optional default resolution for demo\n",
    "    inducing_field=\"58500, 78, 7.5\", # Optional inducing field for demo\n",
    ")"
   ]
  },
  {
   "cell_type": "markdown",
   "metadata": {},
   "source": [
    "## Plot convergence curve\n",
    "\n",
    "Display the misfit and regularization as a function of iterations. Type `out.result` to access a dictionary of numerical values."
   ]
  },
  {
   "cell_type": "code",
   "execution_count": 99,
   "metadata": {
    "scrolled": true
   },
   "outputs": [
    {
     "data": {
      "application/vnd.jupyter.widget-view+json": {
       "model_id": "a8f53e078a1d42a5ae7f4a9293e12905",
       "version_major": 2,
       "version_minor": 0
      },
      "text/plain": [
       "interactive(children=(Dropdown(description='Inversion Group:', options=('D_inv1_750', 'D_inv1_2500_sparse', 'D…"
      ]
     },
     "metadata": {},
     "output_type": "display_data"
    }
   ],
   "source": [
    "from functions.inversion import plot_convergence_curve\n",
    "out = plot_convergence_curve(new_file)\n",
    "display(out)\n",
    "# print(out.result)"
   ]
  },
  {
   "cell_type": "markdown",
   "metadata": {},
   "source": [
    "Congratulations\n",
    "----\n",
    "\n",
    "By completeing this demo, you have inverted potential field and EM data over windowed regions of the Flin Flon deposit. You are invited to try the same process on your own data.  "
   ]
  },
  {
   "cell_type": "code",
   "execution_count": 3,
   "metadata": {},
   "outputs": [
    {
     "data": {
      "text/plain": [
       "array([-0.86308093, -1.06983177, -0.07935041])"
      ]
     },
     "execution_count": 3,
     "metadata": {},
     "output_type": "execute_result"
    }
   ],
   "source": [
    "import numpy as np\n",
    "aa = np.random.randn(10)\n",
    "ind = [1, 0 ,3]\n",
    "aa[ind]\n"
   ]
  }
 ],
 "metadata": {
  "kernelspec": {
   "display_name": "Python 3",
   "language": "python",
   "name": "python3"
  },
  "language_info": {
   "codemirror_mode": {
    "name": "ipython",
    "version": 3
   },
   "file_extension": ".py",
   "mimetype": "text/x-python",
   "name": "python",
   "nbconvert_exporter": "python",
   "pygments_lexer": "ipython3",
   "version": "3.7.7"
  }
 },
 "nbformat": 4,
 "nbformat_minor": 2
}

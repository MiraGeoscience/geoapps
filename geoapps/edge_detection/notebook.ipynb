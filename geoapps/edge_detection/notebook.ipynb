version https://git-lfs.github.com/spec/v1
oid sha256:830891cdfafa144343cdde2a204412191453cd4e0ffa4ee7687560657d44e7a2
size 2820

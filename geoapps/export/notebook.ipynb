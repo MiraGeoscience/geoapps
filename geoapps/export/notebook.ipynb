version https://git-lfs.github.com/spec/v1
oid sha256:16649102f7260d26ca654dc0e909f1e9a3ddee2b2bafdec72a1aca0aed17617e
size 1700

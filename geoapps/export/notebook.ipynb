{
 "cells": [
  {
   "cell_type": "markdown",
   "metadata": {},
   "source": [
    "# Export\n",
    "\n",
    "<img align=\"right\" width=\"300px\" src=\"../images/export_thumbnail.png\">\n",
    "\n",
    "This application lets user export objects and data stored in `geoh5` to various file formats. \n",
    "\n",
    "The app currently supports:\n",
    "  \n",
    "- ESRI Shapefile (**shp**)\n",
    "- Column file (**csv**)\n",
    "- Geotiff (1 or 3-band) (**tiff**)\n",
    "- UBC-GIF (Tensor or OcTree) (**msh, mod**)\n",
    "\n",
    "New user? Visit the [**Getting Started**](https://geoapps.readthedocs.io/en/latest/content/installation.html) page.\n",
    "\n",
    "[**Online Documentation**](https://geoapps.readthedocs.io/en/latest/content/applications/export.html)\n",
    "\n",
    "*Click on the cell below and press **Shift+Enter** to run the application*\n"
   ]
  },
  {
   "cell_type": "code",
   "execution_count": null,
   "metadata": {
    "scrolled": false
   },
   "outputs": [],
   "source": [
    "from geoapps.export import Export\n",
    "\n",
    "app = Export()\n",
    "app()"
   ]
  },
  {
   "cell_type": "markdown",
   "metadata": {},
   "source": [
    "Need help? Contact us at support@mirageoscience.com\n"
   ]
  }
 ],
 "metadata": {
  "kernelspec": {
   "display_name": "Python 3 (ipykernel)",
   "language": "python",
   "name": "python3"
  },
  "language_info": {
   "codemirror_mode": {
    "name": "ipython",
    "version": 3
   },
   "file_extension": ".py",
   "mimetype": "text/x-python",
   "name": "python",
   "nbconvert_exporter": "python",
   "pygments_lexer": "ipython3",
   "version": "3.9.7"
  }
 },
 "nbformat": 4,
 "nbformat_minor": 2
}

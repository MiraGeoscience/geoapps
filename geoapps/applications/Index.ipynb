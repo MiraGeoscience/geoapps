{
 "cells": [
  {
   "cell_type": "markdown",
   "metadata": {},
   "source": [
    "# Welcome to Geoapps\n",
    "\n",
    "Our collection of open-source applications for geosciences. \n",
    "\n",
    "See the [**Online Documentation**](https://geoapps.readthedocs.io/en/latest/content/applications.html) for details.\n",
    "\n",
    "Check for updates on the Release Page."
   ]
  },
  {
   "cell_type": "markdown",
   "metadata": {},
   "source": [
    "## Utilities"
   ]
  },
  {
   "cell_type": "markdown",
   "metadata": {},
   "source": [
    "| [<img align=\"left\" width=\"250px\" src=\"./images/object_selection_thumbnail.png\">](./Calculator.ipynb) |  [<img align=\"left\" width=\"200px\" src=\"./images/contours_thumbnail.png\">](./Create_Contours.ipynb) | [<img align=\"left\" width=\"200px\" src=\"./images/coordinate_transform_thumbnail.png\">](./Coordinate_Transformation.ipynb)  |\n",
    "|:---:|:---:|:---:|\n",
    "|  [Calculator](./Calculator.ipynb)  | [Contouring](./Create_Contours.ipynb)  | [Coordinate Transformation](Coordinate_Transformation.ipynb)  |\n",
    "\n",
    "| [<img align=\"left\" width=\"300px\" src=\"./images/data_interp_thumbnail.png\">](./Data_Transfer.ipynb)  | [<img align=\"left\" width=\"300px\" src=\"./images/model_surface.png\">](./Create_Surfaces.ipynb)  | [<img align=\"left\" width=\"300px\" src=\"./images/iso_surface.png\">](./Create_Iso_Surfaces.ipynb)|\n",
    "|:---:|:---:|:---:|\n",
    "|  [Data Transfer](./Data_Transfer.ipynb) | [Create 2.5D Surfaces](./Create_Surfaces.ipynb) | [Create Isosurfaces](./Create_Iso_Surfaces.ipynb)|\n",
    "\n",
    "|  [<img align=\"left\" width=\"200px\" src=\"./images/export_thumbnail.png\">](Export_to.ipynb)|[<img align=\"center\" width=\"300px\" src=\"./images/scatter_thumbnail.png\">](./scatter_plots.ipynb)|[<img align=\"left\" width=\"200px\" src=\"./images/octree_mesh_creation.png\">](./Octree_Mesh_Creation.ipynb)  |\n",
    "|:---:|:---:|:---:|\n",
    "|   [Export](./Export_to.ipynb)| [Scatter Plots](./scatter_plots.ipynb) |[Octree Mesh Creation](./Octree_Mesh_Creation.ipynb) |"
   ]
  },
  {
   "cell_type": "markdown",
   "metadata": {},
   "source": [
    "## Machine Learning"
   ]
  },
  {
   "cell_type": "markdown",
   "metadata": {},
   "source": [
    "| [<img align=\"center\" width=\"250px\" src=\"./images/peak_finder_parameters.png\">](./Peak_Finder.ipynb)| [<img align=\"center\" width=\"250px\" src=\"./images/cluster_thumbnail.png\">](./Data_Clustering.ipynb)| [<img align=\"center\" width=\"250px\" src=\"./images/edge_detection_thumbnail.png\">](./Edge_Detection.ipynb)|\n",
    "|:---:|:---:|:---:|\n",
    "|[Peak Finder](./Peak_Finder.ipynb)|[Data Clustering](./Data_Clustering.ipynb)| [Edge Detection](./Edge_Detection.ipynb)|"
   ]
  },
  {
   "cell_type": "markdown",
   "metadata": {},
   "source": [
    "## Geophysical Inversion"
   ]
  },
  {
   "cell_type": "markdown",
   "metadata": {},
   "source": [
    "|[<img align=\"center\" width=\"250px\" src=\"./images/inversion_grav_mag_thumbnail.png\">](./Inversion_Grav_Mag_app.ipynb)| [<img align=\"center\" width=\"250px\" src=\"./images/inversion_em1d_thumbnail.png\">](./Inversion_EM1D_app.ipynb)|[<img align=\"center\" width=\"250px\" src=\"./images/inversion_dcip_thumbnail.png\">](./Inversion_DCIP_app.ipynb)| \n",
    "|:---:|:---:|:---:|\n",
    "|[Gravity and Magnetics](./Inversion_Grav_Mag_app.ipynb)|[EM-1D (Time/Frequency)](./Inversion_EM1D_app.ipynb)|[DC&IP 3D](./Inversion_DCIP_app.ipynb)|"
   ]
  },
  {
   "cell_type": "markdown",
   "metadata": {},
   "source": [
    "Need help? Contact us at support@mirageoscience.com"
   ]
  }
 ],
 "metadata": {
  "kernelspec": {
   "display_name": "Python 3 (ipykernel)",
   "language": "python",
   "name": "python3"
  },
  "language_info": {
   "codemirror_mode": {
    "name": "ipython",
    "version": 3
   },
   "file_extension": ".py",
   "mimetype": "text/x-python",
   "name": "python",
   "nbconvert_exporter": "python",
   "pygments_lexer": "ipython3",
   "version": "3.9.7"
  },
  "widgets": {
   "application/vnd.jupyter.widget-state+json": {
    "state": {},
    "version_major": 2,
    "version_minor": 0
   }
  }
 },
 "nbformat": 4,
 "nbformat_minor": 4
}

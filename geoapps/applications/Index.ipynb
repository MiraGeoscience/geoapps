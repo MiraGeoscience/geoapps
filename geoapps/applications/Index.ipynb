version https://git-lfs.github.com/spec/v1
oid sha256:80d3b08807671fc23ec08c01bad15086687fbc97cf116f6cd7a426a00fa2b70a
size 4399

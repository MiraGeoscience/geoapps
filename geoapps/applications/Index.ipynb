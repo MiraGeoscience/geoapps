{
 "cells": [
  {
   "cell_type": "markdown",
   "metadata": {},
   "source": [
    "# Welcome to the geoapps\n",
    "\n",
    "Select one of our open-source geoscientific applications:"
   ]
  },
  {
   "cell_type": "markdown",
   "metadata": {},
   "source": [
    "<img align=\"right\" width=\"30%\" src=\"./images/Contouring_app.png\">\n",
    "\n",
    "### [Contouring](./Create_Contours.ipynb)\n",
    "\n",
    "\n",
    "  - Create contours from any type of geo-spatial data.\n",
    "  - Export as curve (2D or 3D) to Geoscience ANALYST"
   ]
  },
  {
   "cell_type": "markdown",
   "metadata": {},
   "source": [
    "<img align=\"right\" width=\"30%\" src=\"./images/edge_detection_app.png\">\n",
    "\n",
    "### [Lineament detection](./Automated_Lineament.ipynb)\n",
    "\n",
    "\n",
    "  - Use machine-vision algorithms (Skikit-Image) to detect lines and edges."
   ]
  },
  {
   "cell_type": "markdown",
   "metadata": {},
   "source": [
    "<img align=\"right\" width=\"30%\" src=\"./images/Geophysical_inversion_app.png\">\n",
    "\n",
    "### [Geophysical Data Inversion with SimPEG](./Geophysical_Inversion_app.ipynb)\n",
    "\n",
    "\n",
    "  - Electromagnetic line data (time or frequency) with a Laterally Constrained 1D approach.\n",
    "  - Gravity and magnetics (field and/or tensor) data on 3D-octree meshes"
   ]
  }
 ],
 "metadata": {
  "kernelspec": {
   "display_name": "Python 3",
   "language": "python",
   "name": "python3"
  },
  "language_info": {
   "codemirror_mode": {
    "name": "ipython",
    "version": 3
   },
   "file_extension": ".py",
   "mimetype": "text/x-python",
   "name": "python",
   "nbconvert_exporter": "python",
   "pygments_lexer": "ipython3",
   "version": "3.7.8"
  }
 },
 "nbformat": 4,
 "nbformat_minor": 4
}

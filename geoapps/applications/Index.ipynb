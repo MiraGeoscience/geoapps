{
 "cells": [
  {
   "cell_type": "markdown",
   "metadata": {},
   "source": [
    "# Welcome to the geoapps\n",
    "\n",
    "Select one of our open-source geoscientific applications:"
   ]
  },
  {
   "cell_type": "code",
   "execution_count": null,
   "metadata": {},
   "outputs": [],
   "source": [
    "# Stay up-to-date! Click here and press shift+enter.\n",
    "from geoapps.base import update_apps\n",
    "update_apps()"
   ]
  },
  {
   "cell_type": "markdown",
   "metadata": {},
   "source": [
    "<img align=\"right\" width=\"30%\" src=\"./images/calculator_app.png\">\n",
    "\n",
    "### [Calculator](./Calculator.ipynb)\n",
    "\n",
    "Edit or add data to objects with a simple Python calculator. "
   ]
  },
  {
   "cell_type": "markdown",
   "metadata": {},
   "source": [
    "<img align=\"right\" width=\"30%\" src=\"./images/cdi_surface_app.png\">\n",
    "\n",
    "### [CDI curve to surface](./CDI_to_surfaces.ipynb)\n",
    "\n",
    "\n",
    "Convert conductivty-depth curves to vertical sections."
   ]
  },
  {
   "cell_type": "markdown",
   "metadata": {},
   "source": [
    "<img align=\"right\" width=\"30%\" src=\"./images/Contouring_app.png\">\n",
    "\n",
    "### [Contouring](./Create_Contours.ipynb)\n",
    "\n",
    "\n",
    "Create contours (2D or 3D) from any type of geo-spatial data."
   ]
  },
  {
   "cell_type": "markdown",
   "metadata": {},
   "source": [
    "<img align=\"right\" width=\"30%\" src=\"./images/coordinate_transformation_app.png\">\n",
    "\n",
    "### [Coordinate Transformation](./Coordinate_Transformation.ipynb)\n",
    "\n",
    "\n",
    "Re-project the coordinates of objects using [GeoPandas](https://geopandas.org/) "
   ]
  },
  {
   "cell_type": "markdown",
   "metadata": {},
   "source": [
    "<img align=\"right\" width=\"30%\" src=\"./images/data_interp_app.png\">\n",
    "\n",
    "### [Data Interpolation](./Data_interpolation.ipynb)\n",
    "\n",
    "\n",
    "Interpolate data from one object to another using one of:"
   ]
  },
  {
   "cell_type": "markdown",
   "metadata": {},
   "source": [
    "<img align=\"right\" width=\"30%\" src=\"./images/edge_detection_app.png\">\n",
    "\n",
    "### [Edge Detection](./Edge_Detection.ipynb)\n",
    "\n",
    "Use machine-vision algorithms ([Scikit-Image](https://scikit-image.org/)) to detect lines and edges from gridded data."
   ]
  },
  {
   "cell_type": "markdown",
   "metadata": {},
   "source": [
    "<img align=\"right\" width=\"30%\" src=\"./images/export_app.png\">\n",
    "\n",
    "### [Export](./Export_to.ipynb)\n",
    "\n",
    "\n",
    "Export objects and data to various file formats."
   ]
  },
  {
   "cell_type": "markdown",
   "metadata": {},
   "source": [
    "<img align=\"right\" width=\"30%\" src=\"./images/Geophysical_inversion_app.png\">\n",
    "\n",
    "### [Geophysical Data Inversion](./Geophysical_Inversion_app.ipynb)\n",
    "\n",
    "Invert geophysical data with [SimPEG](https://simpeg.xyz)\n",
    "\n",
    "  - Electromagnetic line data (time or frequency) with a Laterally Constrained 1D approach.\n",
    "  - Gravity and magnetics (field and/or tensor) data on 3D-octree meshes"
   ]
  },
  {
   "cell_type": "markdown",
   "metadata": {},
   "source": [
    "<img align=\"right\" width=\"30%\" src=\"./images/scatter_plots.png\">\n",
    "\n",
    "### [Scatter Plots](./scatter_plots.ipynb)\n",
    "\n",
    "\n",
    "  - Visualize up to 5D of data with interactive cross-plots.\n",
    "  - Plot positive and negative values in log scale (symmetric-log)\n",
    "  - Change the color and size of markers based on property values\n",
    "  - Zoom, pan, rotate and export figures.\n"
   ]
  },
  {
   "cell_type": "markdown",
   "metadata": {},
   "source": [
    "Need help? Contact us at support@mirageoscience.com"
   ]
  }
 ],
 "metadata": {
  "kernelspec": {
   "display_name": "Python 3",
   "language": "python",
   "name": "python3"
  },
  "language_info": {
   "codemirror_mode": {
    "name": "ipython",
    "version": 3
   },
   "file_extension": ".py",
   "mimetype": "text/x-python",
   "name": "python",
   "nbconvert_exporter": "python",
   "pygments_lexer": "ipython3",
   "version": "3.7.8"
  }
 },
 "nbformat": 4,
 "nbformat_minor": 4
}

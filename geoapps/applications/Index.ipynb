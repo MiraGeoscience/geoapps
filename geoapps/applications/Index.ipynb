version https://git-lfs.github.com/spec/v1
oid sha256:1975c3931ef7329dcfb3eb05b9fef2445a5bd77876e2a04456f4443845a3240b
size 2819

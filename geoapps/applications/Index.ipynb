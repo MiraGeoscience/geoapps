version https://git-lfs.github.com/spec/v1
oid sha256:06b54a58a38ca5111c3bea58e0f67bfce4fe48952ad77c4bb26a1bc04a0610ea
size 3310

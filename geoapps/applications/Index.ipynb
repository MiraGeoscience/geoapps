version https://git-lfs.github.com/spec/v1
oid sha256:053507892cae9c66dd47e733463d3fa794b350d693cf4b50d09873272b2dff4d
size 4239

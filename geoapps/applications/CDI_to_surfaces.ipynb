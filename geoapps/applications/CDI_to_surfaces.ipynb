version https://git-lfs.github.com/spec/v1
oid sha256:ea8c9b842e2e271150946d9336c6b8d59119bf892a807dc028ae4962846e762f
size 1310

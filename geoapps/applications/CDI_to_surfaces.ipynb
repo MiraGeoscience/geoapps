version https://git-lfs.github.com/spec/v1
oid sha256:b983bbe6d1ae5cb5d8bc1f94146713100df893f0deff807c7f9a61ed5b3999b4
size 1212

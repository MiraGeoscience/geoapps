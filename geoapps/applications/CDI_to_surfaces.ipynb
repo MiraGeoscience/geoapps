{
 "cells": [
  {
   "cell_type": "markdown",
   "metadata": {},
   "source": [
    "# CDI to surface\n",
    "\n",
    "This application allows to convert a CDI model from a Curve to a Surface object. Information about the vertical position of each layer can be provided either in absolute elevation or in depth. \n",
    "\n",
    "<img align=\"left\" width=\"30%\" src=\"./images/cdi_surface_app.png\">\n",
    "\n",
    "*Click on the cell below and press **Shift+Enter** to run the application*"
   ]
  },
  {
   "cell_type": "code",
   "execution_count": null,
   "metadata": {},
   "outputs": [],
   "source": [
    "from geoapps.processing import cdi_curve_2_surface\n",
    "\n",
    "h5file = r\"../../assets/FlinFlon.geoh5\"\n",
    "cdi_curve_2_surface(h5file) "
   ]
  }
 ],
 "metadata": {
  "kernelspec": {
   "display_name": "Python 3",
   "language": "python",
   "name": "python3"
  },
  "language_info": {
   "codemirror_mode": {
    "name": "ipython",
    "version": 3
   },
   "file_extension": ".py",
   "mimetype": "text/x-python",
   "name": "python",
   "nbconvert_exporter": "python",
   "pygments_lexer": "ipython3",
   "version": "3.7.8"
  }
 },
 "nbformat": 4,
 "nbformat_minor": 4
}

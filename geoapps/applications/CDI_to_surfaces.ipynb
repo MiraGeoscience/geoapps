version https://git-lfs.github.com/spec/v1
oid sha256:f5b0b15b881678d1c62ea65bf53146b8bf49375ab1b54cc62a4e91c319ec3489
size 1555

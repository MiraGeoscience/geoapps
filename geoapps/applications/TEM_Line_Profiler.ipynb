{
 "cells": [
  {
   "cell_type": "markdown",
   "metadata": {},
   "source": [
    "# TEM Line Profiling\n",
    "\n",
    "This application is designed to extract \"bump\" anomalies from time-domain EM (TEM) data collected along lines."
   ]
  },
  {
   "cell_type": "code",
   "execution_count": 1,
   "metadata": {},
   "outputs": [
    {
     "data": {
      "application/vnd.jupyter.widget-view+json": {
       "model_id": "c1a538d40779418a91540016e2c5a15f",
       "version_major": 2,
       "version_minor": 0
      },
      "text/plain": [
       "VBox(children=(VBox(children=(HBox(children=(VBox(children=(Dropdown(description='Survey', options=('fault_spl…"
      ]
     },
     "metadata": {},
     "output_type": "display_data"
    }
   ],
   "source": [
    "from shutil import copyfile\n",
    "from geoapps.processing import EMLineProfiling\n",
    "# Load workspace\n",
    "h5file = r\"../../assets/FlinFlon.geoh5\"\n",
    "new_file = copyfile(h5file, h5file[:-6] + \"_work.geoh5\")\n",
    "\n",
    "EMLineProfiling(new_file).widget"
   ]
  },
  {
   "cell_type": "code",
   "execution_count": null,
   "metadata": {},
   "outputs": [],
   "source": [
    "# # Create a surface\n",
    "# dem = ws.get_entity(\"DEM\")[0]\n",
    "# surf = Delaunay(dem.vertices[:, :2])\n",
    "\n",
    "# # Filter out long simplices\n",
    "# max_distance = 300\n",
    "# edges = []\n",
    "# for ii in range(3):\n",
    "#     length = np.linalg.norm(np.c_[\n",
    "#         surf.points[surf.simplices[:, ii],:]-\n",
    "#         surf.points[surf.simplices[:, ii-1],:]\n",
    "#     ], axis=1)\n",
    "#     edges.append(length)\n",
    "    \n",
    "\n",
    "# long_edge = np.max(np.vstack(edges), axis=0)\n",
    "# GAsurf = Surface.create(ws, name='DEMsurf', vertices=dem.vertices, cells=surf.simplices[long_edge < max_distance, :])"
   ]
  }
 ],
 "metadata": {
  "kernelspec": {
   "display_name": "Python 3",
   "language": "python",
   "name": "python3"
  },
  "language_info": {
   "codemirror_mode": {
    "name": "ipython",
    "version": 3
   },
   "file_extension": ".py",
   "mimetype": "text/x-python",
   "name": "python",
   "nbconvert_exporter": "python",
   "pygments_lexer": "ipython3",
   "version": "3.7.8"
  }
 },
 "nbformat": 4,
 "nbformat_minor": 4
}

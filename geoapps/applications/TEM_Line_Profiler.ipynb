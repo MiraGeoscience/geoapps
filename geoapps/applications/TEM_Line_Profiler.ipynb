{
 "cells": [
  {
   "cell_type": "markdown",
   "metadata": {},
   "source": [
    "# TEM Line Profiling\n",
    "\n",
    "This application is designed to extract \"bump\" anomalies from time-domain EM (TEM) data collected along lines."
   ]
  },
  {
   "cell_type": "code",
   "execution_count": 1,
   "metadata": {
    "scrolled": false
   },
   "outputs": [
    {
     "data": {
      "application/vnd.jupyter.widget-view+json": {
       "model_id": "3d23640faffa438f87501146a9c485f6",
       "version_major": 2,
       "version_minor": 0
      },
      "text/plain": [
       "VBox(children=(HBox(children=(VBox(children=(Dropdown(description='Survey', index=71, options=('fault_splay1',…"
      ]
     },
     "metadata": {},
     "output_type": "display_data"
    }
   ],
   "source": [
    "from shutil import copyfile\n",
    "from geoapps.processing import EMLineProfiler\n",
    "# Load workspace\n",
    "h5file = r\"../../assets/FlinFlon.geoh5\"\n",
    "\n",
    "app = EMLineProfiler(\n",
    "    h5file=h5file,\n",
    "    objects=\"Data_TEM_pseudo3D\",\n",
    "    working_copy=True\n",
    ")\n",
    "app.widget"
   ]
  },
  {
   "cell_type": "code",
   "execution_count": 8,
   "metadata": {},
   "outputs": [
    {
     "data": {
      "text/plain": [
       "14"
      ]
     },
     "execution_count": 8,
     "metadata": {},
     "output_type": "execute_result"
    }
   ],
   "source": [
    "import numpy as np\n",
    "np.sum(app.surface_model.parts == 0)\n",
    "\n",
    "\n",
    "\n",
    "\n",
    "# app.surface_model.cells.tolist()\n",
    "# [cell for cell in self.surface_model.cells.tolist() if (cell[0] in vert_ind)]\n"
   ]
  },
  {
   "cell_type": "code",
   "execution_count": 19,
   "metadata": {},
   "outputs": [],
   "source": [
    "def get_surface_parts(surface):\n",
    "    \"\"\"\n",
    "    Find the connected cells from a surface\n",
    "\n",
    "    :param :obj:`geoh5yp.objects.surface`: Input surface with cells\n",
    "\n",
    "    :return: parts, numpy.array of int\n",
    "        Array of parts id for each of the surface vertices\n",
    "    \"\"\"\n",
    "    cell_sorted = np.sort(surface.cells, axis=1)\n",
    "    cell_sorted = cell_sorted[np.argsort(cell_sorted[:, 0]), :]\n",
    "\n",
    "    parts = np.zeros(surface.vertices.shape[0], dtype=\"int\")\n",
    "    count = 1\n",
    "    for ii in range(cell_sorted.shape[0] - 1):\n",
    "\n",
    "        if (\n",
    "            (cell_sorted[ii, 0] in cell_sorted[ii + 1:, :]) or\n",
    "            (cell_sorted[ii, 1] in cell_sorted[ii + 1:, :]) or\n",
    "            (cell_sorted[ii, 2] in cell_sorted[ii + 1:, :])\n",
    "        ):\n",
    "            parts[cell_sorted[ii, :]] = count\n",
    "        else:\n",
    "            parts[cell_sorted[ii, :]] = count\n",
    "            count += 1\n",
    "            \n",
    "\n",
    "    parts[cell_sorted[-1, :]] = count\n",
    "\n",
    "    return parts"
   ]
  },
  {
   "cell_type": "code",
   "execution_count": 20,
   "metadata": {},
   "outputs": [],
   "source": [
    "parts = get_surface_parts(app.surface_model)"
   ]
  },
  {
   "cell_type": "code",
   "execution_count": 9,
   "metadata": {},
   "outputs": [
    {
     "data": {
      "text/plain": [
       "array([[3674, 3648, 3649],\n",
       "       [3648, 3624, 3649],\n",
       "       [3624, 3648, 3623],\n",
       "       ...,\n",
       "       [2133, 2158, 2157],\n",
       "       [2133, 2134, 2159],\n",
       "       [2133, 2159, 2158]])"
      ]
     },
     "execution_count": 9,
     "metadata": {},
     "output_type": "execute_result"
    }
   ],
   "source": [
    "import numpy as np\n",
    "np.asarray(app.lines.model_cells)\n",
    "\n",
    "\n",
    "\n"
   ]
  },
  {
   "cell_type": "code",
   "execution_count": null,
   "metadata": {},
   "outputs": [],
   "source": []
  }
 ],
 "metadata": {
  "kernelspec": {
   "display_name": "Python 3",
   "language": "python",
   "name": "python3"
  },
  "language_info": {
   "codemirror_mode": {
    "name": "ipython",
    "version": 3
   },
   "file_extension": ".py",
   "mimetype": "text/x-python",
   "name": "python",
   "nbconvert_exporter": "python",
   "pygments_lexer": "ipython3",
   "version": "3.7.8"
  }
 },
 "nbformat": 4,
 "nbformat_minor": 4
}

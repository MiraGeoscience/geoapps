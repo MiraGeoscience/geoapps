version https://git-lfs.github.com/spec/v1
oid sha256:16f81d0c44ec03132afa886a02eabb87f7289eaf0fb70e7b6889970608db75ba
size 1485

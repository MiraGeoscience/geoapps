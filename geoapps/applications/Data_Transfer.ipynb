version https://git-lfs.github.com/spec/v1
oid sha256:74c5eaeb1a8b0c2ed6b461242e1ca5d7d385f7681789d600da3dfdeaed60df9b
size 1598

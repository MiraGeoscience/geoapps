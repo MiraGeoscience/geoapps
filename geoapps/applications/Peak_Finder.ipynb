{
 "cells": [
  {
   "cell_type": "markdown",
   "metadata": {},
   "source": [
    "# Peak Finder\n",
    "\n",
    "<img align=\"right\" width=\"50%\" src=\"./images/peak_finder_app.png\">\n",
    "  \n",
    "This application has been designed for the detection of anomalies measured along survey lines. Simple detection parameters based on amplitude and peak migration allows for easy grouping of anomalies across data channels. Additionally, the application lets user:\n",
    "\n",
    "- Amplitude\n",
    "- Dip direction\n",
    "- Mad Tau (TEM data only)\n",
    "- Anomaly skewness\n",
    "\n",
    "While initially designed for TEM data, the same application can be used for the characterization of anomalies of mixed data types (e.g. magnetics, gravity, topography, etc.).\n",
    "\n",
    "New user? Visit the [**Getting Started**](https://geoapps.readthedocs.io/en/latest/content/installation.html) page.\n",
    "\n",
    "[**Online Documentation**](https://geoapps.readthedocs.io/en/latest/content/applications/peak_finder.html)\n",
    "\n",
    "Click on the cell below and press **Shift+Enter** to run the application"
   ]
  },
  {
   "cell_type": "code",
   "execution_count": null,
   "metadata": {
    "scrolled": false
   },
   "outputs": [],
   "source": [
    "from geoapps.processing.peak_finder import PeakFinder\n",
    "\n",
    "app = PeakFinder()\n",
    "app()"
   ]
  },
  {
   "cell_type": "markdown",
   "metadata": {},
   "source": [
    "Need help? Contact us at support@mirageoscience.com\n"
   ]
  }
 ],
 "metadata": {
  "kernelspec": {
   "display_name": "Python 3",
   "language": "python",
   "name": "python3"
  },
  "language_info": {
   "codemirror_mode": {
    "name": "ipython",
    "version": 3
   },
   "file_extension": ".py",
   "mimetype": "text/x-python",
   "name": "python",
   "nbconvert_exporter": "python",
   "pygments_lexer": "ipython3",
   "version": "3.9.4"
  }
 },
 "nbformat": 4,
 "nbformat_minor": 4
}

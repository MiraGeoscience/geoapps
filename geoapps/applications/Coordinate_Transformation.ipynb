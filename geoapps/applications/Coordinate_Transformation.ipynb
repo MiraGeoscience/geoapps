{
 "cells": [
  {
   "cell_type": "markdown",
   "metadata": {},
   "source": [
    "# Coordinate transformation\n",
    "With this application users can change the coordinate system of objects based on [EPSG codes](https://spatialreference.org/).\n",
    "The application relies on open-source libraries supported by the [GeoPandas](https://geopandas.org/) project. \n",
    "\n",
    "  <img align=\"left\" width=\"30%\" src=\"./images/coordinate_transformation_app.png\">\n",
    "\n",
    "*Click on the cell below and press **Shift+Enter** to run the application*\n",
    "\n"
   ]
  },
  {
   "cell_type": "code",
   "execution_count": null,
   "metadata": {
    "scrolled": false
   },
   "outputs": [],
   "source": [
    "from geoapps.processing import CoordinateTransformation\n",
    "\n",
    "app = CoordinateTransformation()\n",
    "app.widget"
   ]
  },
  {
   "cell_type": "markdown",
   "metadata": {},
   "source": [
    "Need help? Contact us at support@mirageoscience.com"
   ]
  }
 ],
 "metadata": {
  "kernelspec": {
   "display_name": "Python 3",
   "language": "python",
   "name": "python3"
  },
  "language_info": {
   "codemirror_mode": {
    "name": "ipython",
    "version": 3
   },
   "file_extension": ".py",
   "mimetype": "text/x-python",
   "name": "python",
   "nbconvert_exporter": "python",
   "pygments_lexer": "ipython3",
   "version": "3.7.8"
  }
 },
 "nbformat": 4,
 "nbformat_minor": 2
}

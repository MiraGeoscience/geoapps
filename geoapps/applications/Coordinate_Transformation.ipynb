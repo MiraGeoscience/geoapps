version https://git-lfs.github.com/spec/v1
oid sha256:3ec07a8b1d36b353d200fec07d0e17e83201e4a7ac7d97a4da48a68b464eb0ae
size 2828

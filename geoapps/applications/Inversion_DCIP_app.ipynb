version https://git-lfs.github.com/spec/v1
oid sha256:5514569a9a7c89d4daadf75ffc5a03cbdb2c77131cdb17fd37acb06d7e82133b
size 2509

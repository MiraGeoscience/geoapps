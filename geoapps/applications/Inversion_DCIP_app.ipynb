version https://git-lfs.github.com/spec/v1
oid sha256:1b976c854814454ea5eaebc5945807360b5f2d6d00e2426ae3cd536362d83230
size 2923

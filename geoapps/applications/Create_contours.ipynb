{
 "cells": [
  {
   "cell_type": "markdown",
   "metadata": {},
   "source": [
    "# Contours\n",
    "\n",
    " <img align=\"right\" width=\"50%\" src=\"./images/Contouring_app.png\">  \n",
    " \n",
    "With this application, users can create contours from data stored on points,\n",
    "curve, surface or grid objects.  The application relies on the [matplotlib.pyplot](https://matplotlib.org/api/pyplot_summary.html?highlight=pyplot) contouring routines. The result can be exported to [Geoscience ANALYST](https://mirageoscience.com/mining-industry-software/geoscience-analyst/) as either 2D or 3D curves.\n",
    "\n",
    "\n",
    "New user? Visit the [Getting Started](https://geoapps.readthedocs.io/en/latest/content/installation.html) page.\n",
    "\n",
    "[**Online Documentation**](https://geoapps.readthedocs.io/en/latest/content/applications/contouring.html)\n",
    "\n",
    "[Video tutorial available on Youtube](https://youtu.be/sjaQzZlm8qQ)\n",
    "\n",
    "*Click on the cell below and press **Shift+Enter** to run the application*"
   ]
  },
  {
   "cell_type": "code",
   "execution_count": null,
   "metadata": {
    "scrolled": false
   },
   "outputs": [],
   "source": [
    "from geoapps.create.contours import ContourValues\n",
    "\n",
    "app = ContourValues()\n",
    "app()"
   ]
  },
  {
   "cell_type": "markdown",
   "metadata": {},
   "source": [
    "Need help? Contact us at support@mirageoscience.com\n"
   ]
  }
 ],
 "metadata": {
  "kernelspec": {
   "display_name": "Python 3 (ipykernel)",
   "language": "python",
   "name": "python3"
  },
  "language_info": {
   "codemirror_mode": {
    "name": "ipython",
    "version": 3
   },
   "file_extension": ".py",
   "mimetype": "text/x-python",
   "name": "python",
   "nbconvert_exporter": "python",
   "pygments_lexer": "ipython3",
   "version": "3.9.7"
  }
 },
 "nbformat": 4,
 "nbformat_minor": 2
}

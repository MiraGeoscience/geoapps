version https://git-lfs.github.com/spec/v1
oid sha256:acd0af43852ec78f540d64b06a73ee1f898bd5a0bf3baa5c63554684b76e0ae0
size 2300

version https://git-lfs.github.com/spec/v1
oid sha256:fde0fccb4ece88ebf7341ba6b2c0892cf5f969a2cb2038d30fc97e295bad81f9
size 2307

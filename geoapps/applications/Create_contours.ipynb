{
 "cells": [
  {
   "cell_type": "markdown",
   "metadata": {},
   "source": [
    "# Create contours\n",
    "With this application, users can create contours from data using the [matplotlib](https://scikit-image.org/) open-source package. The contouring can be done on points, curves, surfaces and grids. \n",
    "\n",
    " - [**Online Documentation**](https://geoapps.readthedocs.io/en/latest/content/apps/create_contours.html#create-contours) for instructions on how to use the application. \n",
    " - [**Youtube demo**](https://youtu.be/sjaQzZlm8qQ)"
   ]
  },
  {
   "cell_type": "code",
   "execution_count": 1,
   "metadata": {
    "scrolled": false
   },
   "outputs": [
    {
     "data": {
      "application/vnd.jupyter.widget-view+json": {
       "model_id": "b93bfb6e8b0f40188950f21e5c92d5f9",
       "version_major": 2,
       "version_minor": 0
      },
      "text/plain": [
       "VBox(children=(VBox(children=(Label(value='Workspace'), FileChooser(path='C:\\Users\\dominiquef\\Documents\\GIT\\mi…"
      ]
     },
     "metadata": {},
     "output_type": "display_data"
    }
   ],
   "source": [
    "from geoapps.processing import ContourValues\n",
    "\n",
    "app = ContourValues()\n",
    "app.widget"
   ]
  }
 ],
 "metadata": {
  "kernelspec": {
   "display_name": "Python 3",
   "language": "python",
   "name": "python3"
  },
  "language_info": {
   "codemirror_mode": {
    "name": "ipython",
    "version": 3
   },
   "file_extension": ".py",
   "mimetype": "text/x-python",
   "name": "python",
   "nbconvert_exporter": "python",
   "pygments_lexer": "ipython3",
   "version": "3.7.8"
  }
 },
 "nbformat": 4,
 "nbformat_minor": 2
}

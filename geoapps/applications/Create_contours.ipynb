{
 "cells": [
  {
   "cell_type": "markdown",
   "metadata": {},
   "source": [
    "# Create contours\n",
    "With this application, users can create contours from data using the [matplotlib](https://scikit-image.org/) open-source package. The contouring can be done on points, curves, surfaces and grids. \n",
    "\n",
    " - See **User Notes** for instructions on how to use the application. \n",
    " - **Disclaimer**: Only the X and Y coordinates are used to generate contours in plan view. The result might not be satisfactory when applied to 3D geometries.\n",
    " - [Youtube demo available](https://youtu.be/sjaQzZlm8qQ)!!\n"
   ]
  },
  {
   "cell_type": "code",
   "execution_count": 2,
   "metadata": {},
   "outputs": [
    {
     "data": {
      "application/vnd.jupyter.widget-view+json": {
       "model_id": "749bda69a74243019948fbbf6da94e88",
       "version_major": 2,
       "version_minor": 0
      },
      "text/plain": [
       "VBox(children=(HBox(children=(VBox(children=(Label(value='Input options:'), Dropdown(description='Object:', in…"
      ]
     },
     "metadata": {},
     "output_type": "display_data"
    }
   ],
   "source": [
    "from shutil import copyfile\n",
    "from geoapps.processing import contour_values_widget\n",
    "\n",
    "\n",
    "# Lets create a working copy\n",
    "my_h5file = r\"../../assets/FlinFlon.geoh5\"\n",
    "new_file = copyfile(my_h5file, my_h5file[:-6] + \"_work.geoh5\")\n",
    "\n",
    "# Generate contours on pre-set values for this demo\n",
    "contour_values_widget(\n",
    "    new_file,\n",
    "    objects=\"Gravity_Magnetics_drape60m\",\n",
    "    data='Airborne_TMI',\n",
    "    contours=\"-400:100:2000,-240\"\n",
    ")"
   ]
  },
  {
   "cell_type": "code",
   "execution_count": null,
   "metadata": {},
   "outputs": [],
   "source": []
  }
 ],
 "metadata": {
  "kernelspec": {
   "display_name": "Python 3",
   "language": "python",
   "name": "python3"
  },
  "language_info": {
   "codemirror_mode": {
    "name": "ipython",
    "version": 3
   },
   "file_extension": ".py",
   "mimetype": "text/x-python",
   "name": "python",
   "nbconvert_exporter": "python",
   "pygments_lexer": "ipython3",
   "version": "3.7.8"
  }
 },
 "nbformat": 4,
 "nbformat_minor": 2
}

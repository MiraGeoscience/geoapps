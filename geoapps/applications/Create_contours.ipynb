{
 "cells": [
  {
   "cell_type": "markdown",
   "metadata": {},
   "source": [
    "# Create contours\n",
    "With this application, users can create contours from data using the [matplotlib](https://scikit-image.org/) open-source package. The contouring can be done on points, curves, surfaces and grids. \n",
    "\n",
    " - [**Online Documentation**](https://geoapps.readthedocs.io/en/latest/content/apps/create_contours.html#create-contours) for instructions on how to use the application. \n",
    " - [**Youtube demo**](https://youtu.be/sjaQzZlm8qQ)"
   ]
  },
  {
   "cell_type": "code",
   "execution_count": 3,
   "metadata": {
    "scrolled": false
   },
   "outputs": [
    {
     "data": {
      "application/vnd.jupyter.widget-view+json": {
       "model_id": "371c8e0b947c4403aea0455997df820b",
       "version_major": 2,
       "version_minor": 0
      },
      "text/plain": [
       "VBox(children=(HBox(children=(VBox(children=(Label(value='Input options:'), VBox(children=(Dropdown(descriptio…"
      ]
     },
     "metadata": {},
     "output_type": "display_data"
    },
    {
     "name": "stdout",
     "output_type": "stream",
     "text": [
      "[<geoh5py.data.float_data.FloatData object at 0x0000024D7A53A108>] [<geoh5py.data.float_data.FloatData object at 0x0000024D7BD29C88>]\n"
     ]
    }
   ],
   "source": [
    "from geoapps.processing import ContourValues\n",
    "\n",
    "# Lets create a working copy\n",
    "my_h5file = r\"../../assets/FlinFlon.geoh5\"\n",
    "\n",
    "ContourValues(\n",
    "    h5file=my_h5file, make_working_copy=True,\n",
    "    # Generate contours on pre-set values for this demo\n",
    "    objects=\"Gravity_Magnetics_drape60m\", data='Airborne_TMI', \n",
    "    contours=\"-400:2000:100,-240\", resolution=50\n",
    ").widget"
   ]
  },
  {
   "cell_type": "code",
   "execution_count": null,
   "metadata": {},
   "outputs": [],
   "source": []
  }
 ],
 "metadata": {
  "kernelspec": {
   "display_name": "Python 3",
   "language": "python",
   "name": "python3"
  },
  "language_info": {
   "codemirror_mode": {
    "name": "ipython",
    "version": 3
   },
   "file_extension": ".py",
   "mimetype": "text/x-python",
   "name": "python",
   "nbconvert_exporter": "python",
   "pygments_lexer": "ipython3",
   "version": "3.7.8"
  }
 },
 "nbformat": 4,
 "nbformat_minor": 2
}

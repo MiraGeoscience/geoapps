{
 "cells": [
  {
   "cell_type": "markdown",
   "metadata": {},
   "source": [
    "# Create contours\n",
    "With this application, users can create contours from data using the [matplotlib](https://scikit-image.org/) open-source package. The contouring can be done on points, curves, surfaces and grids. \n",
    "\n",
    " - [**Online Documentation**](https://geoapps.readthedocs.io/en/latest/content/apps/create_contours.html#create-contours) for instructions on how to use the application. \n",
    " - [**Youtube demo**](https://youtu.be/sjaQzZlm8qQ)\n",
    " \n",
    " <img align=\"left\" width=\"30%\" src=\"./images/Contouring_app.png\">\n",
    "\n",
    "*Click on the cell below and press **Shift+Enter** to run the application*"
   ]
  },
  {
   "cell_type": "code",
   "execution_count": null,
   "metadata": {
    "scrolled": false
   },
   "outputs": [],
   "source": [
    "from geoapps.processing import ContourValues\n",
    "\n",
    "app = ContourValues()\n",
    "app.widget"
   ]
  },
  {
   "cell_type": "markdown",
   "metadata": {},
   "source": [
    "Need help? Contact us at support@mirageoscience.com\n"
   ]
  }
 ],
 "metadata": {
  "kernelspec": {
   "display_name": "Python 3",
   "language": "python",
   "name": "python3"
  },
  "language_info": {
   "codemirror_mode": {
    "name": "ipython",
    "version": 3
   },
   "file_extension": ".py",
   "mimetype": "text/x-python",
   "name": "python",
   "nbconvert_exporter": "python",
   "pygments_lexer": "ipython3",
   "version": "3.7.8"
  }
 },
 "nbformat": 4,
 "nbformat_minor": 2
}

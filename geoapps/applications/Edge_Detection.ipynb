{
 "cells": [
  {
   "cell_type": "markdown",
   "metadata": {},
   "source": [
    "# Edge detection\n",
    "\n",
    "  <img align=\"right\" width=\"30%\" src=\"./images/edge_detection_app.png\">\n",
    "  \n",
    "With this application, users can create lineaments from gridded data using machine vision algorithms from the [Scikit-Image](https://scikit-image.org/) open-source package. \n",
    "\n",
    "New user? Visit the [Getting Started](https://geoapps.readthedocs.io/en/latest/content/installation.html) page.\n",
    "\n",
    "[**Online Documentation**](https://geoapps.readthedocs.io/en/latest/content/applications/edge_detection.html)\n",
    "\n",
    "[**Youtube demo**](https://youtu.be/Lpn3xA7xlBs)\n",
    " \n",
    "\n",
    "*Click on the cell below and press **Shift+Enter** to run the application*"
   ]
  },
  {
   "cell_type": "code",
   "execution_count": null,
   "metadata": {
    "scrolled": false
   },
   "outputs": [],
   "source": [
    "from geoapps.processing import EdgeDetectionApp\n",
    "\n",
    "app = EdgeDetectionApp()\n",
    "app()"
   ]
  },
  {
   "cell_type": "markdown",
   "metadata": {},
   "source": [
    "# Pro Tip\n",
    "\n",
    "Author: Philippe Drouin (philipped@mirageoscience.com)\n",
    "\n",
    "\"Manual adjustement of each parameter is important to understand how the algorithm works, but finding interesting features manually can rapidly become a tedious process. The script below will let you automate this search by iterating over ranges of parameters. All results will be exported directly to Geoscience ANALYST for analysis.\n",
    "\n",
    "Enjoy.\"\n",
    "\n",
    "\\- Phil"
   ]
  },
  {
   "cell_type": "code",
   "execution_count": null,
   "metadata": {},
   "outputs": [],
   "source": [
    "x=1\n",
    "\n",
    "sigmavalues = [4,5]\n",
    "threshvalues = [1]\n",
    "linelengthvalues =[5,10] \n",
    "linegapvalues = [1]\n",
    "windowsizevalues = [2500]\n",
    "\n",
    "\n",
    "for sigma in sigmavalues:\n",
    "    for thresh in threshvalues:\n",
    "        for linelength in linelengthvalues:\n",
    "            for linegap in linegapvalues:\n",
    "                for windowsize in windowsizevalues:\n",
    "                    print('computing ' + str(x) + ' of ' + str(len(sigmavalues) * len(threshvalues) * len(linelengthvalues) * len(linegapvalues) * len(windowsizevalues)))\n",
    "                    x = x+1\n",
    "                    app.sigma.value=sigma\n",
    "                    app.line_length.value=linelength\n",
    "                    app.line_gap.value = linegap\n",
    "                    app.threshold.value = thresh\n",
    "                    app.window_size.value = windowsize\n",
    "                    app.compute.value=True\n",
    "                    app.export_as.value=f\"Sigma{sigma}_Thresh{thresh}_LineLength{linelength}_LineGap{linegap}_WindowSize{windowsize}\"\n",
    "                    app.trigger.click()\n"
   ]
  },
  {
   "cell_type": "markdown",
   "metadata": {},
   "source": [
    "Need help? Contact us at support@mirageoscience.com\n"
   ]
  }
 ],
 "metadata": {
  "kernelspec": {
   "display_name": "Python 3 (ipykernel)",
   "language": "python",
   "name": "python3"
  },
  "language_info": {
   "codemirror_mode": {
    "name": "ipython",
    "version": 3
   },
   "file_extension": ".py",
   "mimetype": "text/x-python",
   "name": "python",
   "nbconvert_exporter": "python",
   "pygments_lexer": "ipython3",
   "version": "3.9.7"
  }
 },
 "nbformat": 4,
 "nbformat_minor": 2
}

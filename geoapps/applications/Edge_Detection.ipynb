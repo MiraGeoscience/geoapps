{
 "cells": [
  {
   "cell_type": "markdown",
   "metadata": {},
   "source": [
    "# Edge detection\n",
    "With this application, users can create lineaments from gridded data using machine vision algorithms from the [Scikit-Image](https://scikit-image.org/) open-source package. \n",
    "\n",
    " - [**Online Documentation**](https://geoapps.readthedocs.io/en/latest/content/apps/create_contours.html#create-contours) for instructions on how to use the application. \n",
    " - [**Youtube demo**](https://youtu.be/Lpn3xA7xlBs)"
   ]
  },
  {
   "cell_type": "code",
   "execution_count": 1,
   "metadata": {
    "scrolled": false
   },
   "outputs": [
    {
     "data": {
      "application/vnd.jupyter.widget-view+json": {
       "model_id": "c2848997d81f4d2b9acfccb12171273f",
       "version_major": 2,
       "version_minor": 0
      },
      "text/plain": [
       "VBox(children=(HBox(children=(VBox(children=(VBox(children=(Dropdown(description='Object:', options=('Gravity_…"
      ]
     },
     "metadata": {},
     "output_type": "display_data"
    }
   ],
   "source": [
    "from geoapps.processing import EdgeDetectionApp\n",
    "\n",
    "my_h5file = r\"../../assets/FlinFlon.geoh5\"\n",
    "\n",
    "EdgeDetectionApp(\n",
    "    h5file=my_h5file, \n",
    "    working_copy=True,\n",
    "    objects=\"Gravity_Magnetics_drape60m\",\n",
    "    resolution=50, azimuth=-20\n",
    ").widget"
   ]
  },
  {
   "cell_type": "code",
   "execution_count": null,
   "metadata": {},
   "outputs": [],
   "source": []
  }
 ],
 "metadata": {
  "kernelspec": {
   "display_name": "Python 3",
   "language": "python",
   "name": "python3"
  },
  "language_info": {
   "codemirror_mode": {
    "name": "ipython",
    "version": 3
   },
   "file_extension": ".py",
   "mimetype": "text/x-python",
   "name": "python",
   "nbconvert_exporter": "python",
   "pygments_lexer": "ipython3",
   "version": "3.7.8"
  }
 },
 "nbformat": 4,
 "nbformat_minor": 2
}

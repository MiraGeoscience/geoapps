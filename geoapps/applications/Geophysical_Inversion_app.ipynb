version https://git-lfs.github.com/spec/v1
oid sha256:0fc61846c9a6f989b9286b612eb4108f8849d668297943ab3dc031b62f22b57f
size 3140

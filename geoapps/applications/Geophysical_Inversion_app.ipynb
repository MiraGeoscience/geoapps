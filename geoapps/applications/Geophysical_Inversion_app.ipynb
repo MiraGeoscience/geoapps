version https://git-lfs.github.com/spec/v1
oid sha256:b58f94d29ec199d0f2ba77b721e2d271f3b8d5f41c5205567704279194dcd5c3
size 4515

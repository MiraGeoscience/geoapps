{
 "cells": [
  {
   "cell_type": "markdown",
   "metadata": {},
   "source": [
    "# SimPEG Inversion\n",
    "\n",
    "This application provides an interface to geophysical inversion using the [SimPEG](https://simpeg.xyz/) open-source algorithms. The application currently supports:\n",
    "\n",
    " - Electromagnetic (time or frequency) data using a Laterally Constrained 1D approach\n",
    " - Gravity and magnetics (field and/or tensor) data using an octree mesh tiling approach. \n",
    "\n",
    "[**Visit the online documentation**](https://geoapps.readthedocs.io/en/latest/content/apps/geophysical_inversion.html#geophysical-inversion-simpeg) for instructions on how to use the application. "
   ]
  },
  {
   "cell_type": "code",
   "execution_count": 1,
   "metadata": {
    "scrolled": false
   },
   "outputs": [
    {
     "data": {
      "application/vnd.jupyter.widget-view+json": {
       "model_id": "adb0905b78114b39888e4f2fe82db629",
       "version_major": 2,
       "version_minor": 0
      },
      "text/plain": [
       "VBox(children=(HBox(children=(VBox(children=(VBox(children=(Dropdown(description='Object:', index=66, options=…"
      ]
     },
     "metadata": {},
     "output_type": "display_data"
    }
   ],
   "source": [
    "%matplotlib inline\n",
    "\n",
    "from geoapps.inversion import InversionApp\n",
    "\n",
    "# Lets create a working copy\n",
    "h5file = r\"../../assets/FlinFlon.geoh5\"\n",
    "\n",
    "# Start the inversion widget\n",
    "InversionApp(\n",
    "    h5file=h5file,\n",
    "    working_copy=True,\n",
    "    resolution=100,                   # Optional default resolution for demo\n",
    "    inducing_field=\"60000, 79, 11\", # Optional inducing field for demo\n",
    "    objects=\"Gravity_Magnetics_drape60m\",\n",
    "    zoom_extent=True\n",
    ").widget"
   ]
  },
  {
   "cell_type": "markdown",
   "metadata": {},
   "source": [
    "## Plot convergence curve\n",
    "\n",
    "Display the misfit and regularization as a function of iterations. Type `out.result` to access a dictionary of numerical values."
   ]
  },
  {
   "cell_type": "code",
   "execution_count": null,
   "metadata": {
    "scrolled": true
   },
   "outputs": [],
   "source": [
    "from functions.inversion import plot_convergence_curve\n",
    "out = plot_convergence_curve(new_file)\n",
    "display(out)\n",
    "# print(out.result)"
   ]
  },
  {
   "cell_type": "markdown",
   "metadata": {},
   "source": [
    "Congratulations\n",
    "----\n",
    "\n",
    "By completeing this demo, you have inverted potential field and EM data over windowed regions of the Flin Flon deposit. You are invited to try the same process on your own data.  "
   ]
  }
 ],
 "metadata": {
  "kernelspec": {
   "display_name": "Python 3",
   "language": "python",
   "name": "python3"
  },
  "language_info": {
   "codemirror_mode": {
    "name": "ipython",
    "version": 3
   },
   "file_extension": ".py",
   "mimetype": "text/x-python",
   "name": "python",
   "nbconvert_exporter": "python",
   "pygments_lexer": "ipython3",
   "version": "3.7.8"
  }
 },
 "nbformat": 4,
 "nbformat_minor": 2
}

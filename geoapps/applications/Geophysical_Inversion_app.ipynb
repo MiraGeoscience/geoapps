version https://git-lfs.github.com/spec/v1
oid sha256:1b1411fefcef09b458770ee0703ded10509ba8b689f0d73e07ac1366a974418c
size 3160

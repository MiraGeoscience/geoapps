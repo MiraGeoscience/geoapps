{
 "cells": [
  {
   "cell_type": "markdown",
   "metadata": {},
   "source": [
    "# SimPEG Inversion\n",
    "\n",
    "This application provides an interface to geophysical inversion using the [SimPEG](https://simpeg.xyz/) open-source algorithms. The application currently supports:\n",
    "\n",
    " - Electromagnetic (time or frequency) data using a Laterally Constrained 1D approach\n",
    " - Gravity and magnetics (field and/or tensor) data using an octree mesh tiling approach. \n",
    "\n",
    "[**Visit the online documentation**](https://geoapps.readthedocs.io/en/latest/content/apps/geophysical_inversion.html#geophysical-inversion-simpeg) for instructions on how to use the application. "
   ]
  },
  {
   "cell_type": "code",
   "execution_count": 2,
   "metadata": {
    "scrolled": false
   },
   "outputs": [
    {
     "data": {
      "application/vnd.jupyter.widget-view+json": {
       "model_id": "42557ea5d768403db602b2b966fd4c5f",
       "version_major": 2,
       "version_minor": 0
      },
      "text/plain": [
       "VBox(children=(VBox(children=(Label(value='Workspace'), FileChooser(path='C:\\Users\\dominiquef\\Documents\\GIT\\mi…"
      ]
     },
     "metadata": {},
     "output_type": "display_data"
    }
   ],
   "source": [
    "from geoapps.inversion import InversionApp\n",
    "\n",
    "# Start the inversion widget\n",
    "app = InversionApp()\n",
    "app.widget"
   ]
  },
  {
   "cell_type": "markdown",
   "metadata": {},
   "source": [
    "## Plot convergence curve\n",
    "\n",
    "Display the misfit and regularization as a function of iterations. Type `out.result` to access a dictionary of numerical values."
   ]
  },
  {
   "cell_type": "code",
   "execution_count": 2,
   "metadata": {
    "scrolled": true
   },
   "outputs": [
    {
     "data": {
      "application/vnd.jupyter.widget-view+json": {
       "model_id": "3b13fd301bd84a28bc2890a6acef3bf5",
       "version_major": 2,
       "version_minor": 0
      },
      "text/plain": [
       "interactive(children=(Dropdown(description='Inversion Group:', options=('Inversion_', 'Inversion_', 'Inversion…"
      ]
     },
     "metadata": {},
     "output_type": "display_data"
    }
   ],
   "source": [
    "from geoapps.inversion import plot_convergence_curve\n",
    "out = plot_convergence_curve(app.h5file)\n",
    "display(out)\n",
    "# print(out.result)"
   ]
  },
  {
   "cell_type": "markdown",
   "metadata": {},
   "source": [
    "Congratulations\n",
    "----\n",
    "\n",
    "By completeing this demo, you have inverted potential field and EM data over windowed regions of the Flin Flon deposit. You are invited to try the same process on your own data.  "
   ]
  },
  {
   "cell_type": "code",
   "execution_count": 12,
   "metadata": {},
   "outputs": [
    {
     "data": {
      "application/vnd.jupyter.widget-view+json": {
       "model_id": "cd7842e7d49d42c399b1c4b52b0ea690",
       "version_major": 2,
       "version_minor": 0
      },
      "text/plain": [
       "VBox(children=(Label(value='Workspace'), FileChooser(path='C:\\Users\\dominiquef\\Documents\\GIT\\mira\\mirageoscien…"
      ]
     },
     "metadata": {},
     "output_type": "display_data"
    }
   ],
   "source": [
    "from geoapps.plotting import ScatterPlots\n",
    "app = ScatterPlots(\n",
    "    h5file=r\"../assets/FlinFlon.geoh5\"\n",
    ")\n",
    "app.project_panel\n",
    "\n"
   ]
  },
  {
   "cell_type": "code",
   "execution_count": 8,
   "metadata": {},
   "outputs": [
    {
     "data": {
      "application/vnd.jupyter.widget-view+json": {
       "model_id": "e58e848fb7ff4d4793661ea990581ce0",
       "version_major": 2,
       "version_minor": 0
      },
      "text/plain": [
       "Dropdown(description='Associated Data:', index=8, options=('', 'Airborne_Gxx', 'Airborne_Gxy', 'Airborne_Gxz',…"
      ]
     },
     "metadata": {},
     "output_type": "display_data"
    }
   ],
   "source": [
    "item\n"
   ]
  },
  {
   "cell_type": "code",
   "execution_count": null,
   "metadata": {},
   "outputs": [],
   "source": []
  }
 ],
 "metadata": {
  "kernelspec": {
   "display_name": "Python 3",
   "language": "python",
   "name": "python3"
  },
  "language_info": {
   "codemirror_mode": {
    "name": "ipython",
    "version": 3
   },
   "file_extension": ".py",
   "mimetype": "text/x-python",
   "name": "python",
   "nbconvert_exporter": "python",
   "pygments_lexer": "ipython3",
   "version": "3.7.8"
  }
 },
 "nbformat": 4,
 "nbformat_minor": 2
}

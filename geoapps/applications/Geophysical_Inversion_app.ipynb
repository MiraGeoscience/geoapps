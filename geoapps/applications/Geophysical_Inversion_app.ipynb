version https://git-lfs.github.com/spec/v1
oid sha256:30c63560c10e1c474802f8738902e606e384d7ff7f9123ca001c9d1c58b0e6d4
size 4467

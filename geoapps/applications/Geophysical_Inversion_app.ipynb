version https://git-lfs.github.com/spec/v1
oid sha256:1be0f090bb1fa5ca1c05fbec9525339f0ad172a26de294080b3d73809801576c
size 2581

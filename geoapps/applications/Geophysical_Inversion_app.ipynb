{
 "cells": [
  {
   "cell_type": "markdown",
   "metadata": {},
   "source": [
    "# SimPEG Inversion\n",
    "\n",
    "This application provides an interface to geophysical inversion using the [SimPEG](https://simpeg.xyz/) open-source algorithms. The application currently supports:\n",
    "\n",
    " - Electromagnetic (time or frequency) data using a Laterally Constrained 1D approach\n",
    " - Gravity and magnetics (field and/or tensor) data using an octree mesh tiling approach. \n",
    "\n",
    "[**Visit the online documentation**](https://geoapps.readthedocs.io/en/latest/content/apps/geophysical_inversion.html#geophysical-inversion-simpeg) for instructions on how to use the application. \n",
    "\n",
    "  <img align=\"left\" width=\"30%\" src=\"./images/Geophysical_inversion_app.png\">\n",
    "\n",
    "*Click on the cell below and press **Shift+Enter** to run the application*"
   ]
  },
  {
   "cell_type": "code",
   "execution_count": null,
   "metadata": {
    "scrolled": false
   },
   "outputs": [],
   "source": [
    "from geoapps.inversion import InversionApp\n",
    "\n",
    "# Start the inversion widget\n",
    "app = InversionApp()\n",
    "app.widget"
   ]
  },
  {
   "cell_type": "markdown",
   "metadata": {},
   "source": [
    "## Plot convergence curve\n",
    "\n",
    "Display the misfit and regularization as a function of iterations. Type `out.result` to access a dictionary of numerical values."
   ]
  },
  {
   "cell_type": "code",
   "execution_count": null,
   "metadata": {
    "scrolled": true
   },
   "outputs": [],
   "source": [
    "from geoapps.inversion import plot_convergence_curve\n",
    "out = plot_convergence_curve(app.h5file)\n",
    "display(out)"
   ]
  },
  {
   "cell_type": "markdown",
   "metadata": {},
   "source": [
    "Need help? Contact us at support@mirageoscience.com"
   ]
  }
 ],
 "metadata": {
  "kernelspec": {
   "display_name": "Python 3",
   "language": "python",
   "name": "python3"
  },
  "language_info": {
   "codemirror_mode": {
    "name": "ipython",
    "version": 3
   },
   "file_extension": ".py",
   "mimetype": "text/x-python",
   "name": "python",
   "nbconvert_exporter": "python",
   "pygments_lexer": "ipython3",
   "version": "3.7.8"
  }
 },
 "nbformat": 4,
 "nbformat_minor": 2
}

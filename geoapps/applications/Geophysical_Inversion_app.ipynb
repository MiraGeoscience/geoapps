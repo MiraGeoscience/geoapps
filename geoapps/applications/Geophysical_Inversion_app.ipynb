version https://git-lfs.github.com/spec/v1
oid sha256:1cc22aaa9440772051c568abc5252141cca7f424dbb6fbaa458a8c52c5d46810
size 2763

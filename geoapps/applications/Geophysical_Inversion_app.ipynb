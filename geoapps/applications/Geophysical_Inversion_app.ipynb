version https://git-lfs.github.com/spec/v1
oid sha256:eefe7d5a969a43f7fdd4f5182e47142d7904a6700ca23b60dfeb711dfaacc167
size 2352

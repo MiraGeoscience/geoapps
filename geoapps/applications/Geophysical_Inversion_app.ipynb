version https://git-lfs.github.com/spec/v1
oid sha256:9ca9b7af18adc6dd15dc79710acfd07c2c9fc0cef5f6f71941b2dc667ee1ce56
size 2298

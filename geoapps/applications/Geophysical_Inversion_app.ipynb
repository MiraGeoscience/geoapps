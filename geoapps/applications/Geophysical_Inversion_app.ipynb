version https://git-lfs.github.com/spec/v1
oid sha256:638f7ab22762b1ff95a789aac1be8f380cb65e1d1e7d1be6b7af8b2c190b3e33
size 2130

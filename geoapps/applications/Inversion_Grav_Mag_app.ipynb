{
 "cells": [
  {
   "cell_type": "markdown",
   "metadata": {},
   "source": [
    "# Gravity and Magnetic 3D Inversion\n",
    "\n",
    "<img align=\"right\" width=\"300px\" src=\"./images/inversion_grav_mag_thumbnail.png\">\n",
    "\n",
    "This application provides an interface to the open-source [SimPEG](https://simpeg.xyz/) package for the inversion of gravity and magnetic data (fields and tensor components). The application handles:\n",
    "\n",
    " - Gravity inversion for the recovery of residual density (g/cc).\n",
    " - Scalar magnetic inversion (MAG) for the recovery of susceptibility (SI).\n",
    " - Vector magnetic inversion (MVI) for the recovery of 3-component magnetization (effective susceptibility and angles).\n",
    "\n",
    "All inversion are performed on a 3D octree mesh.\n",
    "\n",
    "New user? Visit the [**Getting Started**](https://geoapps.readthedocs.io/en/latest/content/installation.html) page.\n",
    "\n",
    "[**Online Documentation**](https://geoapps.readthedocs.io/en/latest/content/applications/grav_mag_inversion.html)\n",
    "\n",
    "*Click on the cell below and press **Shift+Enter** to run the application*"
   ]
  },
  {
   "cell_type": "code",
   "execution_count": 1,
   "metadata": {
    "scrolled": false
   },
   "outputs": [
    {
     "name": "stderr",
     "output_type": "stream",
     "text": [
      "C:\\Users\\Benjamink\\Anaconda3\\envs\\geoapps\\lib\\site-packages\\jupyter_client\\session.py:716: UserWarning: Message serialization failed with:\n",
      "Out of range float values are not JSON compliant\n",
      "Supporting this message is deprecated in jupyter-client 7, please make sure your message is JSON-compliant\n",
      "  content = self.pack(content)\n"
     ]
    },
    {
     "data": {
      "application/vnd.jupyter.widget-view+json": {
       "model_id": "00933ec2a25d4a4f83202eab6cbe630f",
       "version_major": 2,
       "version_minor": 0
      },
      "text/plain": [
       "VBox(children=(VBox(children=(Label(value='Workspace', style=DescriptionStyle(description_width='initial')), H…"
      ]
     },
     "metadata": {},
     "output_type": "display_data"
    }
   ],
   "source": [
    "from geoapps.inversion.pf_inversion_app import InversionApp\n",
    "\n",
    "# Start the inversion widget\n",
    "app = InversionApp()\n",
    "app()"
   ]
  },
  {
   "cell_type": "markdown",
   "metadata": {},
   "source": [
    "## Plot convergence curve\n",
    "\n",
    "Display the misfit and regularization as a function of iterations by changing the path to inversion workspace (`*.geoh5`)"
   ]
  },
  {
   "cell_type": "code",
   "execution_count": null,
   "metadata": {
    "scrolled": true
   },
   "outputs": [],
   "source": [
    "from geoapps.plotting import plot_convergence_curve\n",
    "out = plot_convergence_curve(r\"..\\..\\assets\\VectorInversion.geoh5\")\n",
    "display(out)"
   ]
  },
  {
   "cell_type": "markdown",
   "metadata": {},
   "source": [
    "Need help? Contact us at support@mirageoscience.com"
   ]
  }
 ],
 "metadata": {
  "kernelspec": {
   "display_name": "Python 3 (ipykernel)",
   "language": "python",
   "name": "python3"
  },
  "language_info": {
   "codemirror_mode": {
    "name": "ipython",
    "version": 3
   },
   "file_extension": ".py",
   "mimetype": "text/x-python",
   "name": "python",
   "nbconvert_exporter": "python",
   "pygments_lexer": "ipython3",
   "version": "3.9.7"
  }
 },
 "nbformat": 4,
 "nbformat_minor": 2
}

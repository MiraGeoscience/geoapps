{
 "cells": [
  {
   "cell_type": "markdown",
   "metadata": {},
   "source": [
    "# Object to object transfer\n",
    "\n",
    "This app allows user to transfer data from one object to another in a fast and easy way.\n",
    "The primary would be to transfer a model from one mesh to another. Alternatively, users can generate a uniform grid (BlockModel) to transfer data/models to at a defined resolution and extant.\n",
    "\n",
    "- Choose an object and associated data\n",
    "- Pick a destination object or create a 3D grid\n",
    "- Select the `Space` to use for interpolation: \n",
    " - `Linear` \n",
    " - `Log`\n",
    "- Select the `Method`\n",
    " - `Nearest`: Nearest neighbour interpolation using [scipy.spatial.cKDTree](https://docs.scipy.org/doc/scipy/reference/generated/scipy.spatial.cKDTree.html) (Fastest)\n",
    " - `Linear`: Linear interpolation from [scipy.interpolate.LinearNDInterpolator](https://docs.scipy.org/doc/scipy/reference/generated/scipy.interpolate.LinearNDInterpolator.html) (Slowest)\n",
    " - `Inverse Distance`: Custom method using 8 nearest neighbours and their radial distance from [scipy.spatial.cKDTree](https://docs.scipy.org/doc/scipy/reference/generated/scipy.spatial.cKDTree.html). (Best for line models) **Skew parameters can be used to compensate for orientated line data with short station separation.**\n",
    "   - Azimuth (lines orientation angle from North)\n",
    "   - Factor (ratio between along vs cross line distance)\n",
    "     - e.g.: For EW orientation @ 200 m line spacing and stations 25 m apart. Use -> Azimuth: 90, Factor: 0.125 (25/200)   \n",
    "- Interpolate your data/model !"
   ]
  },
  {
   "cell_type": "code",
   "execution_count": 2,
   "metadata": {
    "scrolled": false
   },
   "outputs": [
    {
     "data": {
      "application/vnd.jupyter.widget-view+json": {
       "model_id": "2c199238853d46aeb0ea5319548f73ba",
       "version_major": 2,
       "version_minor": 0
      },
      "text/plain": [
       "VBox(children=(HBox(children=(VBox(children=(Label(value='Input'), Dropdown(description='Object:', options=('m…"
      ]
     },
     "metadata": {},
     "output_type": "display_data"
    }
   ],
   "source": [
    "from geoapps.export import object_to_object_interpolation\n",
    "\n",
    "h5file = r\"C:\\Users\\dominiquef\\Downloads\\Test.geoh5\"\n",
    "object_to_object_interpolation(h5file)"
   ]
  },
  {
   "cell_type": "markdown",
   "metadata": {},
   "source": [
    "# Export the model\n",
    "\n",
    "This section re-uses the \"export\" app to save the interpolated mesh and model."
   ]
  },
  {
   "cell_type": "code",
   "execution_count": 3,
   "metadata": {
    "scrolled": false
   },
   "outputs": [
    {
     "data": {
      "application/vnd.jupyter.widget-view+json": {
       "model_id": "a329616a86384362b39befbc492e76b6",
       "version_major": 2,
       "version_minor": 0
      },
      "text/plain": [
       "VBox(children=(Dropdown(description='Object:', options=('mag', 'InterpGrid_v2', 'InterpGrid'), value='mag'), H…"
      ]
     },
     "metadata": {},
     "output_type": "display_data"
    }
   ],
   "source": [
    "from geoapps.export import export_widget\n",
    "export_widget(h5file)"
   ]
  },
  {
   "cell_type": "code",
   "execution_count": null,
   "metadata": {},
   "outputs": [],
   "source": []
  }
 ],
 "metadata": {
  "kernelspec": {
   "display_name": "Python 3",
   "language": "python",
   "name": "python3"
  },
  "language_info": {
   "codemirror_mode": {
    "name": "ipython",
    "version": 3
   },
   "file_extension": ".py",
   "mimetype": "text/x-python",
   "name": "python",
   "nbconvert_exporter": "python",
   "pygments_lexer": "ipython3",
   "version": "3.7.8"
  }
 },
 "nbformat": 4,
 "nbformat_minor": 2
}

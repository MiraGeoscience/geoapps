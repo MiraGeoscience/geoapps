{
 "cells": [
  {
   "cell_type": "markdown",
   "metadata": {},
   "source": [
    "# Export objects\n",
    "\n",
    "With this app, we provide a simple tool to export objects from a geoh5 project to various file formats.\n",
    "\n",
    "- Pick an object from the project tree\n",
    "- Pick data to go along with with\n",
    "- Chose a file format form the list\n",
    "- Add a name for the file saved to disk (path relative to the *.geoh5 file)\n",
    "- Export !"
   ]
  },
  {
   "cell_type": "code",
   "execution_count": 1,
   "metadata": {
    "scrolled": false
   },
   "outputs": [
    {
     "data": {
      "application/vnd.jupyter.widget-view+json": {
       "model_id": "014046970762415e878bbcdaa38d56fb",
       "version_major": 2,
       "version_minor": 0
      },
      "text/plain": [
       "VBox(children=(Dropdown(description='Object:', options=('fault_splay1', 'fault_Cliff_Lake', 'fault_Other_FlinF…"
      ]
     },
     "metadata": {},
     "output_type": "display_data"
    }
   ],
   "source": [
    "from geoapps.export import export_widget\n",
    "my_h5file = r\"../../assets/FlinFlon.geoh5\"\n",
    "export_widget(my_h5file)"
   ]
  },
  {
   "cell_type": "code",
   "execution_count": null,
   "metadata": {},
   "outputs": [],
   "source": []
  }
 ],
 "metadata": {
  "kernelspec": {
   "display_name": "Python 3",
   "language": "python",
   "name": "python3"
  },
  "language_info": {
   "codemirror_mode": {
    "name": "ipython",
    "version": 3
   },
   "file_extension": ".py",
   "mimetype": "text/x-python",
   "name": "python",
   "nbconvert_exporter": "python",
   "pygments_lexer": "ipython3",
   "version": "3.7.8"
  }
 },
 "nbformat": 4,
 "nbformat_minor": 2
}

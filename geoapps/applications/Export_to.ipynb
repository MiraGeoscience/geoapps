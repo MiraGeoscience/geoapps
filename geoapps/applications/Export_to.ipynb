{
 "cells": [
  {
   "cell_type": "markdown",
   "metadata": {},
   "source": [
    "# Export objects\n",
    "\n",
    "With this app, we provide a simple tool to export objects from a geoh5 project to various file formats.\n",
    "\n",
    "- Pick an object from the project tree\n",
    "- Pick data to go along with with\n",
    "- Chose a file format form the list\n",
    "- Add a name for the file saved to disk (path relative to the *.geoh5 file)\n",
    "- Export !"
   ]
  },
  {
   "cell_type": "code",
   "execution_count": null,
   "metadata": {
    "scrolled": false
   },
   "outputs": [],
   "source": [
    "from functions.export import export_widget\n",
    "my_h5file = r\"assets/FlinFlon.geoh5\"\n",
    "export_widget(my_h5file)"
   ]
  },
  {
   "cell_type": "code",
   "execution_count": null,
   "metadata": {},
   "outputs": [],
   "source": []
  }
 ],
 "metadata": {
  "kernelspec": {
   "display_name": "Python 3",
   "language": "python",
   "name": "python3"
  },
  "language_info": {
   "codemirror_mode": {
    "name": "ipython",
    "version": 3
   },
   "file_extension": ".py",
   "mimetype": "text/x-python",
   "name": "python",
   "nbconvert_exporter": "python",
   "pygments_lexer": "ipython3",
   "version": "3.7.6"
  }
 },
 "nbformat": 4,
 "nbformat_minor": 2
}

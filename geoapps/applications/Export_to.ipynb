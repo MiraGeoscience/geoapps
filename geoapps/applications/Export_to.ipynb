{
 "cells": [
  {
   "cell_type": "markdown",
   "metadata": {},
   "source": [
    "# Export\n",
    "\n",
    "With this app, we provide a simple tool to export objects from a geoh5 project to various file formats. Currently supported:\n",
    "\n",
    "- ESRI Shapefile (*.shp)\n",
    "- Column file (*.csv)\n",
    "- Geotiff (1 or 3-band) (*.tiff)\n",
    "- UBC-GIF (Tensor or OcTree) (*.msh, *.mod)\n",
    "\n",
    "  <img align=\"left\" width=\"30%\" src=\"./images/export_app.png\">\n",
    "\n",
    "*Click on the cell below and press **Shift+Enter** to run the application*\n"
   ]
  },
  {
   "cell_type": "code",
   "execution_count": null,
   "metadata": {
    "scrolled": false
   },
   "outputs": [],
   "source": [
    "from geoapps.export import Export\n",
    "\n",
    "app = Export()\n",
    "app.widget"
   ]
  },
  {
   "cell_type": "markdown",
   "metadata": {},
   "source": [
    "Need help? Contact us at support@mirageoscience.com\n"
   ]
  }
 ],
 "metadata": {
  "kernelspec": {
   "display_name": "Python 3",
   "language": "python",
   "name": "python3"
  },
  "language_info": {
   "codemirror_mode": {
    "name": "ipython",
    "version": 3
   },
   "file_extension": ".py",
   "mimetype": "text/x-python",
   "name": "python",
   "nbconvert_exporter": "python",
   "pygments_lexer": "ipython3",
   "version": "3.7.8"
  }
 },
 "nbformat": 4,
 "nbformat_minor": 2
}

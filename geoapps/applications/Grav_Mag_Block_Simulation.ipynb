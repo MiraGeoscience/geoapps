{
 "cells": [
  {
   "cell_type": "markdown",
   "metadata": {},
   "source": [
    "# Grav/Mag Block Simulation\n",
    "\n",
    "This app allows users to simulate gravity and magnetic field tensor data over a collection of prisms."
   ]
  },
  {
   "cell_type": "code",
   "execution_count": null,
   "metadata": {
    "scrolled": false
   },
   "outputs": [],
   "source": [
    "from functions.simulation import block_model_widget\n",
    "from shutil import copyfile\n",
    "\n",
    "my_h5file = r\"assets\\FlinFlon.geoh5\"\n",
    "new_file = copyfile(my_h5file, my_h5file[:-6] + \"_sim.geoh5\")\n",
    "display(block_model_widget(new_file))"
   ]
  }
 ],
 "metadata": {
  "kernelspec": {
   "display_name": "Python 3",
   "language": "python",
   "name": "python3"
  },
  "language_info": {
   "codemirror_mode": {
    "name": "ipython",
    "version": 3
   },
   "file_extension": ".py",
   "mimetype": "text/x-python",
   "name": "python",
   "nbconvert_exporter": "python",
   "pygments_lexer": "ipython3",
   "version": "3.7.7"
  }
 },
 "nbformat": 4,
 "nbformat_minor": 2
}

version https://git-lfs.github.com/spec/v1
oid sha256:824cffa0b773f78caf3d6a884f4f6ac473a682a19e60a562a7240c2c0e1b6911
size 1090

{
 "cells": [
  {
   "cell_type": "markdown",
   "metadata": {},
   "source": [
    "# Data Interpolation\n",
    "\n",
    "This application lets users transfer data from any object to another.\n",
    "Alternatively, users can generate a uniform grid (BlockModel) to transfer data/models at a set resolution and extant.\n",
    "\n",
    " - [**Online Documentation**](https://geoapps.readthedocs.io/en/latest/content/applications.html) for instructions on how to use the application. \n",
    "\n",
    " <img align=\"left\" width=\"30%\" src=\"./images/data_interp_app.png\">\n",
    "\n",
    "*Click on the cell below and press **Shift+Enter** to run the application*"
   ]
  },
  {
   "cell_type": "code",
   "execution_count": null,
   "metadata": {
    "scrolled": false
   },
   "outputs": [],
   "source": [
    "from geoapps.processing import DataInterpolation\n",
    "\n",
    "app = DataInterpolation()\n",
    "app.widget"
   ]
  },
  {
   "cell_type": "markdown",
   "metadata": {},
   "source": [
    "Need help? Contact us at support@mirageoscience.com"
   ]
  }
 ],
 "metadata": {
  "kernelspec": {
   "display_name": "Python 3",
   "language": "python",
   "name": "python3"
  },
  "language_info": {
   "codemirror_mode": {
    "name": "ipython",
    "version": 3
   },
   "file_extension": ".py",
   "mimetype": "text/x-python",
   "name": "python",
   "nbconvert_exporter": "python",
   "pygments_lexer": "ipython3",
   "version": "3.7.8"
  }
 },
 "nbformat": 4,
 "nbformat_minor": 2
}

version https://git-lfs.github.com/spec/v1
oid sha256:1ddee79c6a28b9b321b185955a8001ec041916f8b69fbfb9e9f1a3aff5469e72
size 1570

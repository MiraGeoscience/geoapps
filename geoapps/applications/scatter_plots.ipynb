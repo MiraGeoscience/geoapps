{
 "cells": [
  {
   "cell_type": "markdown",
   "metadata": {},
   "source": [
    "# Scatter Plots\n",
    "\n",
    "This application lets users visualize up to 5D of data pulled from any Geoscience ANALYST objects. The application uses the rich [Plotly](https://plotly.com/) graphical interface and allows to:\n",
    "\n",
    "- Easily flip between 2D and 3D cross-plots.\n",
    "- Plot positive and negative values in log scale (symmetric-log)\n",
    "- Change the color and size of markers based on property values\n",
    "- Zoom, pan, rotate and export figures.\n",
    "\n",
    "\n",
    "[**Visit the online documentation**](https://geoapps.readthedocs.io/en/latest/content/applications.html#applications) for instructions on how to use the application. "
   ]
  },
  {
   "cell_type": "code",
   "execution_count": null,
   "metadata": {
    "scrolled": false
   },
   "outputs": [],
   "source": [
    "from geoapps.plotting import ScatterPlots\n",
    "\n",
    "app = ScatterPlots(static=False)\n",
    "app.widget"
   ]
  },
  {
   "cell_type": "markdown",
   "metadata": {},
   "source": [
    "Need help? \n",
    "support@mirageoscience.com"
   ]
  }
 ],
 "metadata": {
  "kernelspec": {
   "display_name": "Python 3",
   "language": "python",
   "name": "python3"
  },
  "language_info": {
   "codemirror_mode": {
    "name": "ipython",
    "version": 3
   },
   "file_extension": ".py",
   "mimetype": "text/x-python",
   "name": "python",
   "nbconvert_exporter": "python",
   "pygments_lexer": "ipython3",
   "version": "3.7.8"
  }
 },
 "nbformat": 4,
 "nbformat_minor": 4
}

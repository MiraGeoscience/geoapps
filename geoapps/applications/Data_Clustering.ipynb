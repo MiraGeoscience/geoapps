{
 "cells": [
  {
   "cell_type": "markdown",
   "metadata": {},
   "source": [
    "# Data Clustering\n",
    "\n",
    "This application lets users cluster data using the kmeans algorithm from [Scikit-Learn](https://scikit-learn.org/stable/modules/generated/sklearn.cluster.KMeans.html)\n",
    "\n",
    "\n",
    "[**Visit the online documentation**](https://geoapps.readthedocs.io/en/latest/content/applications.html#applications) for instructions on how to use the application. \n",
    "\n",
    "  <img align=\"left\" width=\"30%\" src=\"./images/data_clustering.png\">\n",
    "\n",
    "*Click on the cell below and press **Shift+Enter** to run the application*"
   ]
  },
  {
   "cell_type": "code",
   "execution_count": null,
   "metadata": {},
   "outputs": [],
   "source": [
    "from geoapps.processing import Clustering\n",
    "\n",
    "app = Clustering()\n",
    "app.widget"
   ]
  },
  {
   "cell_type": "markdown",
   "metadata": {},
   "source": [
    "Need help? Contact us at support@mirageoscience.com"
   ]
  }
 ],
 "metadata": {
  "kernelspec": {
   "display_name": "Python 3",
   "language": "python",
   "name": "python3"
  },
  "language_info": {
   "codemirror_mode": {
    "name": "ipython",
    "version": 3
   },
   "file_extension": ".py",
   "mimetype": "text/x-python",
   "name": "python",
   "nbconvert_exporter": "python",
   "pygments_lexer": "ipython3",
   "version": "3.7.8"
  }
 },
 "nbformat": 4,
 "nbformat_minor": 4
}

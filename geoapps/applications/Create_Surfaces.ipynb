version https://git-lfs.github.com/spec/v1
oid sha256:8e935b64c72d3a90624545c03df8ad96083500ce840eb083d5702cb715236b6a
size 2206

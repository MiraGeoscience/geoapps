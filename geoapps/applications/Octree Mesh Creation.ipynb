{
 "cells": [
  {
   "cell_type": "markdown",
   "id": "f63e71f9",
   "metadata": {},
   "source": [
    "# Octree Mesh Creation\n",
    "\n",
    "This application lets user create an `Octree` mesh object from scratch based on exhisting `geoh5` `Objects`."
   ]
  },
  {
   "cell_type": "code",
   "execution_count": 1,
   "id": "a0afe1e3",
   "metadata": {
    "scrolled": false
   },
   "outputs": [
    {
     "data": {
      "application/vnd.jupyter.widget-view+json": {
       "model_id": "313f1ef3381b4465b1287bb9e5d78093",
       "version_major": 2,
       "version_minor": 0
      },
      "text/plain": [
       "VBox(children=(VBox(children=(Label(value='Workspace', style=DescriptionStyle(description_width='initial')), H…"
      ]
     },
     "metadata": {},
     "output_type": "display_data"
    }
   ],
   "source": [
    "from geoapps.create import OctreeMesh\n",
    "app = OctreeMesh()\n",
    "app()"
   ]
  },
  {
   "cell_type": "markdown",
   "id": "ed27570e",
   "metadata": {},
   "source": [
    "Need help? Contact us at support@mirageoscience.com"
   ]
  }
 ],
 "metadata": {
  "kernelspec": {
   "display_name": "Python 3",
   "language": "python",
   "name": "python3"
  },
  "language_info": {
   "codemirror_mode": {
    "name": "ipython",
    "version": 3
   },
   "file_extension": ".py",
   "mimetype": "text/x-python",
   "name": "python",
   "nbconvert_exporter": "python",
   "pygments_lexer": "ipython3",
   "version": "3.7.10"
  }
 },
 "nbformat": 4,
 "nbformat_minor": 5
}

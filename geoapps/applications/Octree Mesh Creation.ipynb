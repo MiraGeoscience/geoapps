{
 "cells": [
  {
   "cell_type": "markdown",
   "id": "97718083",
   "metadata": {},
   "source": [
    "# Octree Mesh Creation\n",
    "\n",
    "This application lets user create an `Octree` mesh object from scratch based on exhisting `geoh5` `Objects`."
   ]
  },
  {
   "cell_type": "code",
   "execution_count": 1,
   "id": "3bbe37e3",
   "metadata": {},
   "outputs": [],
   "source": [
    "# from geoh5py.objects import BlockModel, Curve, Grid2D, Octree, Points, Surface\n",
    "# from geoh5py.workspace import Workspace\n",
    "# from ipywidgets.widgets import (\n",
    "#     Checkbox,\n",
    "#     Dropdown,\n",
    "#     FloatText,\n",
    "#     HBox,\n",
    "#     IntText,\n",
    "#     Label,\n",
    "#     Layout,\n",
    "#     SelectMultiple,\n",
    "#     Text,\n",
    "#     ToggleButton,\n",
    "#     VBox,\n",
    "#     Widget,\n",
    "# )\n",
    "# from geoapps.selection import ObjectDataSelection \n",
    "# from geoapps.utils import string_2_list, treemesh_2_octree\n",
    "# from discretize.utils import meshutils"
   ]
  },
  {
   "cell_type": "code",
   "execution_count": 1,
   "id": "3dd13ea3",
   "metadata": {},
   "outputs": [],
   "source": [
    "from geoapps.processing import OctreeMeshCreations"
   ]
  },
  {
   "cell_type": "code",
   "execution_count": 3,
   "id": "d08714d8",
   "metadata": {
    "scrolled": false
   },
   "outputs": [
    {
     "data": {
      "application/vnd.jupyter.widget-view+json": {
       "model_id": "ef78207e95294f9c91b2b2ba77ce6b03",
       "version_major": 2,
       "version_minor": 0
      },
      "text/plain": [
       "VBox(children=(VBox(children=(Label(value='Workspace', style=DescriptionStyle(description_width='initial')), H…"
      ]
     },
     "metadata": {},
     "output_type": "display_data"
    }
   ],
   "source": [
    "app = OctreeMeshCreations()\n",
    "app()"
   ]
  },
  {
   "cell_type": "code",
   "execution_count": null,
   "id": "11aacd5e",
   "metadata": {},
   "outputs": [],
   "source": []
  }
 ],
 "metadata": {
  "kernelspec": {
   "display_name": "Python 3",
   "language": "python",
   "name": "python3"
  },
  "language_info": {
   "codemirror_mode": {
    "name": "ipython",
    "version": 3
   },
   "file_extension": ".py",
   "mimetype": "text/x-python",
   "name": "python",
   "nbconvert_exporter": "python",
   "pygments_lexer": "ipython3",
   "version": "3.7.10"
  }
 },
 "nbformat": 4,
 "nbformat_minor": 5
}

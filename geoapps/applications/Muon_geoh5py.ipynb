{
 "cells": [
  {
   "cell_type": "markdown",
   "metadata": {},
   "source": [
    "# Simulation and inversion of synthetic muon data,\n",
    "\n",
    "This notebook illustrates how to use geoh5py with a synthetic tomography problem.\n",
    "\n",
    "Runs using geoapps=0.4.0"
   ]
  },
  {
   "cell_type": "code",
   "execution_count": 17,
   "metadata": {},
   "outputs": [],
   "source": [
    "import numpy as np\n",
    "import matplotlib.pyplot as plt\n",
    "from geoh5py.workspace import Workspace\n",
    "from geoh5py.objects import Points, Curve\n",
    "from discretize.utils import meshutils\n",
    "from discretize import TreeMesh\n",
    "from geoapps.utils import treemesh_2_octree\n",
    "from geoapps.simpegPF import (\n",
    "    PF,\n",
    "    DataMisfit,\n",
    "    Directives,\n",
    "    Inversion,\n",
    "    InvProblem,\n",
    "    Maps,\n",
    "    Mesh,\n",
    "    Problem,\n",
    "    Props,\n",
    "    Optimization,\n",
    "    Regularization,\n",
    "    Survey,\n",
    "    Utils,\n",
    ")"
   ]
  },
  {
   "cell_type": "markdown",
   "metadata": {},
   "source": [
    "## Input"
   ]
  },
  {
   "cell_type": "code",
   "execution_count": 18,
   "metadata": {},
   "outputs": [],
   "source": [
    "# First connect to the demo geoh5\n",
    "ws = Workspace(h5file=\"../../assets/FlinFlon.geoh5\")\n",
    "\n",
    "# Grab the topography surface\n",
    "topo = ws.get_entity(\"Topography\")[0]\n",
    "\n",
    "# Create an array of receivers below ground\n",
    "center = np.mean(topo.vertices, axis=0)\n",
    "x_locs = np.linspace(center[0]-200, center[0]+200, 8)\n",
    "y_locs = np.linspace(center[1]-200, center[1]+200, 8)\n",
    "\n",
    "xgrid, ygrid = np.meshgrid(x_locs, y_locs)\n",
    "zgrid = np.ones_like(xgrid) * center[2] - 400\n",
    "receivers = np.c_[xgrid.flatten(), ygrid.flatten(), zgrid.flatten()]\n",
    "\n",
    "# Add those receivers to ANALYST\n",
    "pts = Points.create(ws, name='Muon Detectors', vertices=receivers)"
   ]
  },
  {
   "cell_type": "code",
   "execution_count": 19,
   "metadata": {},
   "outputs": [],
   "source": [
    "# For simplicity, use the nodes of topography\n",
    "# within some area as pierce points for the muons\n",
    "ind = (\n",
    "    (topo.vertices[:, 0] > center[0] - 400) & (topo.vertices[:, 0] < center[0] + 400) &\n",
    "    (topo.vertices[:, 1] > center[1] - 400) & (topo.vertices[:, 1] < center[1] + 400)\n",
    ")\n",
    "entries = topo.vertices[ind, :]"
   ]
  },
  {
   "cell_type": "code",
   "execution_count": 20,
   "metadata": {},
   "outputs": [
    {
     "data": {
      "text/plain": [
       "<matplotlib.collections.PathCollection at 0x1cd5bf04a08>"
      ]
     },
     "execution_count": 20,
     "metadata": {},
     "output_type": "execute_result"
    },
    {
     "data": {
      "image/png": "[encoded data removed]",
      "text/plain": [
       "<Figure size 432x288 with 1 Axes>"
      ]
     },
     "metadata": {
      "needs_background": "light"
     },
     "output_type": "display_data"
    }
   ],
   "source": [
    "# Quick plot, as seen from above\n",
    "plt.scatter(entries[:, 0], entries[:, 1])\n",
    "plt.scatter(receivers[:, 0], receivers[:, 1], c='r')"
   ]
  },
  {
   "cell_type": "code",
   "execution_count": 21,
   "metadata": {},
   "outputs": [],
   "source": [
    "# Create a random selection between receivers and entries\n",
    "n_data = 200\n",
    "rx_ind = np.random.randint(0, high=receivers.shape[0], size=n_data)\n",
    "in_ind = np.random.randint(0, high=entries.shape[0], size=n_data)\n",
    "\n",
    "pairs = np.unique(np.c_[rx_ind, in_ind], axis=1) # Could endup with less due to dupliactes\n",
    "pairs = pairs[np.argsort(pairs[:,0]), :]\n",
    "\n",
    "# Add the rays as a curve object to ANALYST\n",
    "cells = pairs.copy()\n",
    "cells[:, 1] += receivers.shape[0]\n",
    "rays = Curve.create(ws, name='Muon Rays', vertices=np.r_[receivers, entries], cells=cells.astype(\"uint32\"))"
   ]
  },
  {
   "cell_type": "markdown",
   "metadata": {},
   "source": [
    "## Create a 3D model space\n",
    "\n",
    "Here we can use some built-in functions to create an octree mesh from the topo and receivers"
   ]
  },
  {
   "cell_type": "code",
   "execution_count": 22,
   "metadata": {},
   "outputs": [
    {
     "data": {
      "text/plain": [
       "[<geoh5py.data.integer_data.IntegerData at 0x1cd5bfa99c8>,\n",
       " <geoh5py.data.float_data.FloatData at 0x1cd5bfac488>]"
      ]
     },
     "execution_count": 22,
     "metadata": {},
     "output_type": "execute_result"
    }
   ],
   "source": [
    "core_cell_size = [10, 10, 10]\n",
    "octree_levels_padding = [1,3]\n",
    "octree_levels_obs = [10,4]\n",
    "octree_levels_topo = [0,2] \n",
    "padding_distance = [[50, 50], [50, 50], [200, 50]]\n",
    "\n",
    "mesh = meshutils.mesh_builder_xyz(\n",
    "    rays.vertices, core_cell_size,\n",
    "    mesh_type='TREE',\n",
    ")\n",
    "\n",
    "mesh = meshutils.refine_tree_xyz(mesh, topo.vertices, octree_levels=[2,10,2], method='surface', finalize=False)\n",
    "mesh = meshutils.refine_tree_xyz(mesh, receivers, octree_levels=[1], method='surface', finalize=True)\n",
    "\n",
    "# Go from topo to actv cells\n",
    "actv = Utils.surface2ind_topo(mesh, topo.vertices, 'CC')\n",
    "active = np.zeros(mesh.nC, dtype='bool')\n",
    "active[actv] = True\n",
    "\n",
    "actv = Utils.surface2ind_topo(mesh, receivers, 'CC')\n",
    "active[actv] = False\n",
    "\n",
    "# Create a SurjectMap for export\n",
    "active_map = Maps.InjectActiveCells(\n",
    "        mesh, active, 0,\n",
    ")\n",
    "\n",
    "# Create a simple density block\n",
    "anom = np.c_[\n",
    "    center-50, center+50\n",
    "].T\n",
    "anom[:, 2] -= 200\n",
    "ind = Utils.ModelBuilder.getIndicesBlock(anom[0,:], anom[1,:], mesh.gridCC)\n",
    "model = active.copy().astype(float) * 0.1\n",
    "model[ind] = 0.5\n",
    "\n",
    "# Write the octree mesh to geoh5\n",
    "octree = treemesh_2_octree(ws, mesh)\n",
    "octree.add_data({\n",
    "    \"Active\": {\"values\": actv[mesh._ubc_order].astype(int)},\n",
    "    \"True\": {\"values\": model[mesh._ubc_order]}\n",
    "})"
   ]
  },
  {
   "cell_type": "markdown",
   "metadata": {},
   "source": [
    "## Generate data\n",
    "\n",
    "Now that we have receivers and a model, we can generate some data."
   ]
  },
  {
   "cell_type": "code",
   "execution_count": 23,
   "metadata": {},
   "outputs": [],
   "source": [
    "# This is a simple class for linear tomography problems\n",
    "class TomoProblem(Problem.LinearProblem):\n",
    "    \n",
    "    rho, rhoMap, rhoDeriv = Props.Invertible(\n",
    "        \"Density (g\\cc)\",\n",
    "        default=0.\n",
    "    )\n",
    "\n",
    "    def __init__(self, mesh, **kwargs):\n",
    "        self._active_cells = None\n",
    "        self.mesh = mesh\n",
    "        Problem.BaseProblem.__init__(self, mesh, **kwargs)\n",
    "        \n",
    "    @property\n",
    "    def mesh(self):\n",
    "        return self._mesh\n",
    "    \n",
    "    @mesh.setter\n",
    "    def mesh(self, mesh):\n",
    "        assert isinstance(mesh, TreeMesh), f\"Mesh must be of the {TreeMesh}\"\n",
    "        self._mesh = mesh\n",
    "        \n",
    "    @property\n",
    "    def active_cells(self):\n",
    "        \"\"\"\n",
    "        Active cell vector\n",
    "        \"\"\"\n",
    "        return self._active_cells\n",
    "    \n",
    "    @active_cells.setter\n",
    "    def active_cells(self, active_cells):\n",
    "        \n",
    "        assert active_cells.shape[0] == self.mesh.nC, f\"Active cells must be of length {mesh.nC}\"\n",
    "        assert active_cells.dtype == 'bool', f\"Active cells must be of type bool\"\n",
    "    \n",
    "        self._active_cells = active_cells\n",
    "        \n",
    "    @property\n",
    "    def G(self):\n",
    "        if not self.ispaired:\n",
    "            raise Exception('Need to pair!')\n",
    "\n",
    "        if getattr(self, '_G', None) is None:\n",
    "            self._G = self.lineIntegral()\n",
    "\n",
    "        return self._G\n",
    "    \n",
    "    def lineIntegral(self):\n",
    "        \n",
    "        # Assign value to F\n",
    "        F = np.zeros((\n",
    "            self.survey.nD, \n",
    "            int(self.active_cells.sum())\n",
    "        ))\n",
    "        \n",
    "        count = 0\n",
    "        for tx in self.survey.srcList:\n",
    "            \n",
    "            rxLocs = tx.rxList[0].locs.tolist()\n",
    "            for rx in rxLocs:\n",
    "                F[count, :] += self.cellPath(tx.loc.flatten(), rx)[self._active_cells]\n",
    "                \n",
    "                count += 1\n",
    "        \n",
    "        return F\n",
    "    \n",
    "    # Compute lengths\n",
    "    def cellPath(self, tx_locs, rx_locs):\n",
    "\n",
    "        r = tx_locs - rx_locs\n",
    "        r /= np.linalg.norm(r)\n",
    "\n",
    "        x_interceps = np.c_[\n",
    "            mesh.vectorNx,\n",
    "            (mesh.vectorNx - rx_locs[0]) / r[0] * r[1] + rx_locs[1],\n",
    "            (mesh.vectorNx - rx_locs[0]) / r[0] * r[2] + rx_locs[2]\n",
    "        ]\n",
    "\n",
    "        y_interceps = np.c_[\n",
    "            (mesh.vectorNy - rx_locs[1]) / r[1] * r[0] + rx_locs[0],\n",
    "            mesh.vectorNy,\n",
    "            (mesh.vectorNy - rx_locs[1]) / r[1] * r[2] + rx_locs[2]\n",
    "        ]\n",
    "\n",
    "        z_interceps = np.c_[\n",
    "            (mesh.vectorNz - rx_locs[2]) / r[2] * r[0] + rx_locs[0],\n",
    "            (mesh.vectorNz - rx_locs[2]) / r[2] * r[1] + rx_locs[1],\n",
    "            mesh.vectorNz,\n",
    "\n",
    "        ]\n",
    "\n",
    "        faces = np.r_[x_interceps, y_interceps, z_interceps]\n",
    "\n",
    "        z_sort = np.argsort(faces[:, 2])\n",
    "        faces = faces[z_sort, :]\n",
    "        midpoints = (faces[1:, :] + faces[:-1, :]) / 2\n",
    "        cells = mesh._get_containing_cell_indexes(midpoints).tolist()\n",
    "        dl = np.linalg.norm(faces[1:, :] - faces[:-1, :], axis=1)\n",
    "\n",
    "        integral = np.zeros(mesh.nC)\n",
    "        for ii, cell in enumerate(cells):\n",
    "            integral[cell] += dl[ii]\n",
    "\n",
    "        return integral\n",
    "    \n",
    "    @property\n",
    "    def modelMap(self):\n",
    "        \"\"\"\n",
    "            Call for general mapping of the problem\n",
    "        \"\"\"\n",
    "        return self.rhoMap\n",
    "    \n",
    "class LinearSurvey(Survey.BaseSurvey):\n",
    "    \"\"\"Base Magnetics Survey\"\"\"\n",
    "\n",
    "    rxLoc = None  #: receiver locations\n",
    "    rxType = None  #: receiver type\n",
    "    \n",
    "    def __init__(self, srcList, **kwargs):\n",
    "        self.srcList = srcList\n",
    "        Survey.BaseSurvey.__init__(self, **kwargs)\n",
    "        \n",
    "    def eval(self, u):\n",
    "        return u"
   ]
  },
  {
   "cell_type": "markdown",
   "metadata": {},
   "source": [
    "## Create a simulation and generate data"
   ]
  },
  {
   "cell_type": "code",
   "execution_count": 24,
   "metadata": {},
   "outputs": [],
   "source": [
    "# Create the problem\n",
    "prob = TomoProblem(mesh, active_cells = active, rhoMap = Maps.IdentityMap(nP=int(active.sum())))\n",
    "\n",
    "src = []\n",
    "midpoints = []\n",
    "# Create source and receivers\n",
    "for ii in np.unique(pairs[:, 0]):\n",
    "    ind = pairs[:, 0] == ii\n",
    "    \n",
    "    midpoints += [(receivers[ii, :] + entries[pairs[ind, 1], :])/2]\n",
    "    rec = [Survey.BaseRx(entries[pairs[ind, 1], :],'rx')]\n",
    "    src += [Survey.BaseSrc(rec, loc=receivers[ii, :])]\n",
    "survey = LinearSurvey(src)\n",
    "survey.pair(prob)\n",
    "\n",
    "# Generate some data with random noise\n",
    "error = 5.\n",
    "d = prob.fields(model[active])\n",
    "noise = error * np.random.randn(d.shape[0])\n",
    "survey.dobs = d + noise\n",
    "survey.std = np.ones_like(d) * error"
   ]
  },
  {
   "cell_type": "markdown",
   "metadata": {},
   "source": [
    "### Export the data as midpoints"
   ]
  },
  {
   "cell_type": "code",
   "execution_count": 25,
   "metadata": {},
   "outputs": [
    {
     "data": {
      "text/plain": [
       "<geoh5py.data.float_data.FloatData at 0x1cd5bf954c8>"
      ]
     },
     "execution_count": 25,
     "metadata": {},
     "output_type": "execute_result"
    }
   ],
   "source": [
    "sensitivities = (prob.G**2.).sum(axis=0)**0.5\n",
    "\n",
    "octree.add_data({  \n",
    "    \"sensitivities\": {\"values\": (active_map * sensitivities)[mesh._ubc_order]},\n",
    "})\n",
    "\n",
    "mid_points = Points.create(\n",
    "    ws, name=\"Muon_midpoints\", vertices=np.vstack(midpoints)\n",
    ")\n",
    "data_points = mid_points.add_data({\n",
    "    \"Data_cell\": {\"values\": d}\n",
    "})"
   ]
  },
  {
   "cell_type": "code",
   "execution_count": 27,
   "metadata": {},
   "outputs": [],
   "source": [
    "\n"
   ]
  },
  {
   "cell_type": "markdown",
   "metadata": {},
   "source": [
    "## Run the inversion"
   ]
  },
  {
   "cell_type": "code",
   "execution_count": 28,
   "metadata": {
    "scrolled": true
   },
   "outputs": [
    {
     "name": "stdout",
     "output_type": "stream",
     "text": [
      "=============================== Projected GNCG ===============================\n",
      "  #     beta     phi_d     phi_m       f      |proj(x-g)-x|  LS    Comment   \n",
      "-----------------------------------------------------------------------------\n",
      "x0 has any nan: 0\n",
      "   0  2.06e-01  1.39e+04  3.42e+06  7.17e+05    2.81e+03      0              \n",
      "   1  1.03e-01  4.40e+02  2.93e+02  4.70e+02    2.08e+02      0              \n",
      "   2  5.14e-02  3.53e+02  9.17e+02  4.00e+02    1.97e+02      0   Skip BFGS  \n",
      "   3  2.57e-02  2.44e+02  2.45e+03  3.07e+02    1.78e+02      0   Skip BFGS  \n",
      "   4  1.29e-02  1.39e+02  5.36e+03  2.08e+02    1.50e+02      0   Skip BFGS  \n",
      "Reached starting chifact with l2-norm regularization: Start IRLS steps...\n",
      "   5  6.43e-03  6.41e+01  6.41e+04  4.76e+02    6.72e+02      0   Skip BFGS  \n",
      "   6  4.82e-03  1.40e+02  4.51e+04  3.57e+02    4.54e+02      0              \n",
      "   7  3.62e-03  1.88e+02  4.17e+04  3.38e+02    2.91e+02      0              \n",
      "   8  2.71e-03  2.08e+02  4.52e+04  3.31e+02    1.96e+02      0   Skip BFGS  \n",
      "   9  2.03e-03  2.14e+02  5.18e+04  3.19e+02    1.33e+02      0   Skip BFGS  \n",
      "  10  1.53e-03  2.08e+02  6.07e+04  3.00e+02    8.42e+01      0   Skip BFGS  \n",
      "  11  1.14e-03  1.93e+02  7.13e+04  2.75e+02    5.53e+01      0              \n",
      "  12  8.58e-04  1.73e+02  8.28e+04  2.44e+02    5.70e+01      0              \n",
      "  13  6.44e-04  1.51e+02  9.40e+04  2.11e+02    6.96e+01      0              \n",
      "  14  4.97e-04  1.29e+02  1.19e+05  1.89e+02    5.44e+01      0   Skip BFGS  \n",
      "Reach maximum number of IRLS cycles: 10\n",
      "------------------------- STOP! -------------------------\n",
      "1 : |fc-fOld| = 0.0000e+00 <= tolF*(1+|f0|) = 7.1707e+04\n",
      "0 : |xc-x_last| = 3.6596e-01 <= tolX*(1+|x0|) = 1.0281e-01\n",
      "0 : |proj(x-g)-x|    = 5.4418e+01 <= tolG          = 1.0000e-01\n",
      "0 : |proj(x-g)-x|    = 5.4418e+01 <= 1e3*eps       = 1.0000e-02\n",
      "0 : maxIter   =     100    <= iter          =     15\n",
      "------------------------- DONE! -------------------------\n"
     ]
    },
    {
     "data": {
      "text/plain": [
       "array([0.1, 0.1, 0.1, ..., 0.1, 0.1, 0.1])"
      ]
     },
     "execution_count": 28,
     "metadata": {},
     "output_type": "execute_result"
    }
   ],
   "source": [
    "# Create reduced identity map\n",
    "nC = int(active.sum())\n",
    "idenMap = Maps.IdentityMap(nP=nC)\n",
    "\n",
    "# Create a regularization\n",
    "wr = 1./(sensitivities + sensitivities[sensitivities>0].min())\n",
    "wr /= wr.min()\n",
    "reg = Regularization.Sparse(mesh, indActive=active, mapping=idenMap, gradientType='component')\n",
    "# reg.cell_weights = wr\n",
    "reg.mref = np.ones(nC) * 0.1\n",
    "reg.norms = np.c_[1, 1, 1, 1]\n",
    "\n",
    "# Data misfit function\n",
    "dmis = DataMisfit.l2_DataMisfit(survey)\n",
    "dmis.W = 1./survey.std\n",
    "\n",
    "# Add directives to the inversion\n",
    "opt = Optimization.ProjectedGNCG(maxIter=100, lower=-10., upper=10.,\n",
    "                                 maxIterLS=20, maxIterCG=20, tolCG=1e-3)\n",
    "invProb = InvProblem.BaseInvProblem(dmis, reg, opt)\n",
    "betaest = Directives.BetaEstimate_ByEig(beta0_ratio=1e+2)\n",
    "\n",
    "# Here is where the norms are applied\n",
    "# Use pick a treshold parameter empirically based on the distribution of\n",
    "#  model parameters\n",
    "IRLS = Directives.Update_IRLS(f_min_change=1e-3, betaSearch=False, maxIRLSiter=10, chifact_target=1.)\n",
    "update_Jacobi = Directives.UpdatePreconditioner()\n",
    "inv = Inversion.BaseInversion(invProb,\n",
    "                              directiveList=[betaest, IRLS, update_Jacobi])\n",
    "\n",
    "# Run the inversion\n",
    "m0 = np.ones(nC)*1e-4  # Starting model\n",
    "inv.run(m0)\n"
   ]
  },
  {
   "cell_type": "markdown",
   "metadata": {},
   "source": [
    "### Output the final models and predicted"
   ]
  },
  {
   "cell_type": "code",
   "execution_count": 29,
   "metadata": {},
   "outputs": [
    {
     "data": {
      "text/plain": [
       "[<geoh5py.data.float_data.FloatData at 0x1cd5bfeb2c8>,\n",
       " <geoh5py.data.float_data.FloatData at 0x1cd5bfeb0c8>]"
      ]
     },
     "execution_count": 29,
     "metadata": {},
     "output_type": "execute_result"
    }
   ],
   "source": [
    "octree.add_data({  \n",
    "    \"smooth_model\": {\"values\": (active_map * invProb.l2model)[mesh._ubc_order]},\n",
    "    \"compact_model\": {\"values\": (active_map * invProb.model)[mesh._ubc_order]},\n",
    "})\n",
    "\n",
    "mid_points.add_data({\n",
    "    \"Predicted2\": {\"values\": invProb.dpred, \"entity_type\": data_points.entity_type},\n",
    "    \"Residual\": {\"values\": d-invProb.dpred}\n",
    "    \n",
    "})"
   ]
  }
 ],
 "metadata": {
  "kernelspec": {
   "display_name": "Python 3",
   "language": "python",
   "name": "python3"
  },
  "language_info": {
   "codemirror_mode": {
    "name": "ipython",
    "version": 3
   },
   "file_extension": ".py",
   "mimetype": "text/x-python",
   "name": "python",
   "nbconvert_exporter": "python",
   "pygments_lexer": "ipython3",
   "version": "3.7.10"
  },
  "widgets": {
   "state": {
    "4502a1319f8b4bb69df976e816cd4040": {
     "views": [
      {
       "cell_index": 6
      }
     ]
    }
   },
   "version": "1.2.0"
  }
 },
 "nbformat": 4,
 "nbformat_minor": 2
}

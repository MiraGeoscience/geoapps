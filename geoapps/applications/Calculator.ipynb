version https://git-lfs.github.com/spec/v1
oid sha256:2ba3115d3ea7197fbf36a7e3099e6e78d6dd43e6d964db9cc4feee6f74e4f7d6
size 1625

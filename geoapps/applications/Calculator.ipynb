version https://git-lfs.github.com/spec/v1
oid sha256:e6adb4af57c01fbc4f355382ced4e86dbf49a5e18a7fbd8a4325a11cc3b30880
size 1853

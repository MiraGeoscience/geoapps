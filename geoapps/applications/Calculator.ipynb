{
 "cells": [
  {
   "cell_type": "markdown",
   "metadata": {},
   "source": [
    "# Calculator\n",
    "\n",
    " \n",
    "This application lets users add and modify data stored on objects with a simplified Python scripting interface. The calculator leverages functions from the [Numpy](https://numpy.org/) package. \n",
    "\n",
    "  <img align=\"right\" width=\"50%\" src=\"./images/calculator_app.png\"> \n",
    "  \n",
    "  \n",
    "New user? Visit the [Getting Started](../installation.rst) page.\n",
    "\n",
    "*Click on the cell below and press **Shift+Enter** to run the application*\n"
   ]
  },
  {
   "cell_type": "code",
   "execution_count": 1,
   "metadata": {
    "scrolled": false
   },
   "outputs": [
    {
     "data": {
      "application/vnd.jupyter.widget-view+json": {
       "model_id": "e6ba0b6adc874bdeab83db48dde0c599",
       "version_major": 2,
       "version_minor": 0
      },
      "text/plain": [
       "VBox(children=(HBox(children=(Label(value='Workspace', style=DescriptionStyle(description_width='initial')), F…"
      ]
     },
     "metadata": {},
     "output_type": "display_data"
    }
   ],
   "source": [
    "from geoapps.processing import Calculator\n",
    "\n",
    "# Lets create a working copy\n",
    "app = Calculator()\n",
    "app.widget"
   ]
  },
  {
   "cell_type": "markdown",
   "metadata": {},
   "source": [
    "Need help? Contact us at support@mirageoscience.com\n"
   ]
  }
 ],
 "metadata": {
  "kernelspec": {
   "display_name": "Python 3",
   "language": "python",
   "name": "python3"
  },
  "language_info": {
   "codemirror_mode": {
    "name": "ipython",
    "version": 3
   },
   "file_extension": ".py",
   "mimetype": "text/x-python",
   "name": "python",
   "nbconvert_exporter": "python",
   "pygments_lexer": "ipython3",
   "version": "3.7.8"
  }
 },
 "nbformat": 4,
 "nbformat_minor": 4
}

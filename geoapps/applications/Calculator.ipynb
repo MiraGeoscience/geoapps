version https://git-lfs.github.com/spec/v1
oid sha256:35254bb6ce9549615cd2df4473e995b86498b9e8dead5a8b5459c1cf3b5371ed
size 1886

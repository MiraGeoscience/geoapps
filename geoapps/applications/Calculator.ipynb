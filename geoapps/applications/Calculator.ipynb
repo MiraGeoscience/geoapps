{
 "cells": [
  {
   "cell_type": "markdown",
   "metadata": {},
   "source": [
    "# Field calculator\n",
    "\n",
    "This application lets users create and change data associated with objects contained in the target Geoscience ANALYST project. The equation box can make use of any of the function supported by the [Numpy](https://numpy.org/doc/stable/reference/index.html) library as well as all core python operations.\n",
    "\n",
    " - [**Online Documentation**](https://geoapps.readthedocs.io/en/latest/content/applications.html) for instructions on how to use the application. \n",
    " \n",
    "  <img align=\"left\" width=\"30%\" src=\"./images/calculator_app.png\">\n",
    "\n",
    "*Click on the cell below and press **Shift+Enter** to run the application*\n"
   ]
  },
  {
   "cell_type": "code",
   "execution_count": null,
   "metadata": {
    "scrolled": false
   },
   "outputs": [],
   "source": [
    "from geoapps.processing import Calculator\n",
    "\n",
    "# Lets create a working copy\n",
    "app = Calculator()\n",
    "app.widget"
   ]
  },
  {
   "cell_type": "markdown",
   "metadata": {},
   "source": [
    "Need help? Contact us at support@mirageoscience.com\n"
   ]
  }
 ],
 "metadata": {
  "kernelspec": {
   "display_name": "Python 3",
   "language": "python",
   "name": "python3"
  },
  "language_info": {
   "codemirror_mode": {
    "name": "ipython",
    "version": 3
   },
   "file_extension": ".py",
   "mimetype": "text/x-python",
   "name": "python",
   "nbconvert_exporter": "python",
   "pygments_lexer": "ipython3",
   "version": "3.7.8"
  }
 },
 "nbformat": 4,
 "nbformat_minor": 4
}

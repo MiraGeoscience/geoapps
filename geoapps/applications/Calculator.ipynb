version https://git-lfs.github.com/spec/v1
oid sha256:5765811701022ae184c1e5ccc2ee862aa9f3d7b04f60972d3b4cb186cf49d3b6
size 1476

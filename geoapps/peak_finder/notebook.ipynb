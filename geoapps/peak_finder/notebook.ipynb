version https://git-lfs.github.com/spec/v1
oid sha256:9e5966d9d21f7156eb38369a8d8d4ac5173ef4961f566fcd84a624e3131dcc9c
size 2163

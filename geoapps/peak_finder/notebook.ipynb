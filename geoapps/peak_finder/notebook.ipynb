version https://git-lfs.github.com/spec/v1
oid sha256:87dbcc308b033f4bb3d88c1141f40711669c950ce35f8c4718338341a50734b0
size 2400

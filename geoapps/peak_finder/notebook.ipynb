version https://git-lfs.github.com/spec/v1
oid sha256:940195c33a2afebcfb6d9471b248ea55a685b581951b2035a25e56fc847bfd7e
size 1973

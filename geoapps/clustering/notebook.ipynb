version https://git-lfs.github.com/spec/v1
oid sha256:3289d3401645500f56eb27691ad02c0a5b5805b9e1eb2549e0f50571ecd72879
size 1972

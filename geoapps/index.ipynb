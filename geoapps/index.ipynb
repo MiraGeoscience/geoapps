version https://git-lfs.github.com/spec/v1
oid sha256:f33cd2e5cf45f1c4be0d3e05dbf255ad76c16a110880f38c731a0af2871e144d
size 4711

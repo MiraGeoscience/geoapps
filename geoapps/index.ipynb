version https://git-lfs.github.com/spec/v1
oid sha256:3786cc3157a40e004b1c24a420b4f52baedf43b74c265b06d2dd99a7b6a967fc
size 5262

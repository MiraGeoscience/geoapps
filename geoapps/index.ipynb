{
 "cells": [
  {
   "cell_type": "markdown",
   "metadata": {},
   "source": [
    "# Welcome to Geoapps\n",
    "\n",
    "Our collection of open-source applications for geosciences. \n",
    "\n",
    "See the [**Online Documentation**](https://geoapps.readthedocs.io/en/latest/content/applications.html) for details.\n",
    "\n",
    "Check for updates on the Release Page."
   ]
  },
  {
   "cell_type": "markdown",
   "metadata": {},
   "source": [
    "## Utilities"
   ]
  },
  {
   "cell_type": "markdown",
   "metadata": {},
   "source": [
    "| [<img align=\"left\" width=\"250px\" src=\"./images/object_selection_thumbnail.png\">](./calculator/notebook.ipynb) |  [<img align=\"left\" width=\"200px\" src=\"./images/contours_thumbnail.png\">](./contours/notebook.ipynb) | [<img align=\"left\" width=\"200px\" src=\"./images/coordinate_transform_thumbnail.png\">](./coordinate_transformation/notebook.ipynb)  |\n",
    "|:---:|:---:|:---:|\n",
    "|  [Calculator](./calculator/notebook.ipynb)  | [Contouring](./contours/notebook.ipynb)  | [Coordinate Transformation](coordinate_transformation/notebook.ipynb)  |\n",
    "\n",
    "| [<img align=\"left\" width=\"300px\" src=\"./images/data_interp_thumbnail.png\">](./interpolation/notebook.ipynb)  | [<img align=\"left\" width=\"300px\" src=\"./images/model_surface.png\">](./triangulated_surfaces/notebook.ipynb)  | [<img align=\"left\" width=\"300px\" src=\"./images/iso_surface.png\">](./iso_surfaces/notebook.ipynb)|\n",
    "|:---:|:---:|:---:|\n",
    "|  [Data Transfer](./interpolation/notebook.ipynb) | [Create 2.5D Surfaces](./triangulated_surfaces/notebook.ipynb) | [Create Isosurfaces](./iso_surfaces/notebook.ipynb)|\n",
    "\n",
    "|  [<img align=\"left\" width=\"200px\" src=\"./images/export_thumbnail.png\">](export/notebook.ipynb)|[<img align=\"center\" width=\"300px\" src=\"./images/scatter_thumbnail.png\">](./scatter_plot/notebook.ipynb)|[<img align=\"left\" width=\"200px\" src=\"./images/octree_mesh_creation.png\">](./octree_creation/notebook.ipynb)  |\n",
    "|:---:|:---:|:---:|\n",
    "|   [Export](./export/notebook.ipynb)| [Scatter Plots](./scatter_plot/notebook.ipynb) |[Octree Mesh Creation](./octree_creation/notebook.ipynb) |\n",
    "\n",
    "|  [<img align=\"left\" width=\"200px\" src=\"./images/block_model_and_object.png\">](block_model_creation/notebook.ipynb)|\n",
    "|:---:|\n",
    "|   [Create Block Model](./block_model_creation/notebook.ipynb)|"
   ]
  },
  {
   "cell_type": "markdown",
   "metadata": {},
   "source": [
    "## Machine Learning"
   ]
  },
  {
   "cell_type": "markdown",
   "metadata": {},
   "source": [
    "| [<img align=\"center\" width=\"250px\" src=\"./images/peak_finder_parameters.png\">](./peak_finder/notebook.ipynb)| [<img align=\"center\" width=\"250px\" src=\"./images/cluster_thumbnail.png\">](./clustering/notebook.ipynb)| [<img align=\"center\" width=\"250px\" src=\"./images/edge_detection_thumbnail.png\">](./edge_detection/notebook.ipynb)|\n",
    "|:---:|:---:|:---:|\n",
    "|[Peak Finder](./peak_finder/notebook.ipynb)|[Data Clustering](./clustering/notebook.ipynb)| [Edge Detection](./edge_detection/notebook.ipynb)|"
   ]
  },
  {
   "cell_type": "markdown",
   "metadata": {},
   "source": [
    "## Geophysical Inversion"
   ]
  },
  {
   "cell_type": "markdown",
   "metadata": {},
   "source": [
    "|[<img align=\"center\" width=\"250px\" src=\"./images/inversion_grav_mag_thumbnail.png\">](./inversion/potential_fields/notebook.ipynb)| [<img align=\"center\" width=\"250px\" src=\"./images/inversion_em1d_thumbnail.png\">](./inversion/airborne_electromagnetics/notebook.ipynb)|[<img align=\"center\" width=\"250px\" src=\"./images/inversion_dcip_thumbnail.png\">](./inversion/electricals/notebook.ipynb)| \n",
    "|:---:|:---:|:---:|\n",
    "|[Gravity and Magnetics](./inversion/potential_fields/notebook.ipynb)|[EM-1D (Time/Frequency)](./inversion/airborne_electromagnetics/notebook.ipynb)|[DC&IP 3D](./inversion/electricals/notebook.ipynb)|"
   ]
  },
  {
   "cell_type": "markdown",
   "metadata": {},
   "source": [
    "Need help? Contact us at support@mirageoscience.com"
   ]
  }
 ],
 "metadata": {
  "kernelspec": {
   "display_name": "Python 3 (ipykernel)",
   "language": "python",
   "name": "python3"
  },
  "language_info": {
   "codemirror_mode": {
    "name": "ipython",
    "version": 3
   },
   "file_extension": ".py",
   "mimetype": "text/x-python",
   "name": "python",
   "nbconvert_exporter": "python",
   "pygments_lexer": "ipython3",
   "version": "3.9.13"
  },
  "widgets": {
   "application/vnd.jupyter.widget-state+json": {
    "state": {},
    "version_major": 2,
    "version_minor": 0
   }
  }
 },
 "nbformat": 4,
 "nbformat_minor": 4
}

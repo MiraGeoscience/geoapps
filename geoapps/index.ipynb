version https://git-lfs.github.com/spec/v1
oid sha256:a4f61321aba1df593e6cefd60a8936262f0212ca72724ddf9c41db81dfa8bf79
size 4735

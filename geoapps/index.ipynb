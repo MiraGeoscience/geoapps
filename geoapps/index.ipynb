version https://git-lfs.github.com/spec/v1
oid sha256:2d7037643ddf1543b8cfc328f8e1db6b63f80eb3e97141dca6e3215f28d5bb07
size 5245

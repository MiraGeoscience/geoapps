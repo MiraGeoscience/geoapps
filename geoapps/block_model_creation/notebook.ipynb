version https://git-lfs.github.com/spec/v1
oid sha256:9a055e1ddecd841c528e37690ee892e54924b9d4779552b551de72a343fa3b45
size 2335

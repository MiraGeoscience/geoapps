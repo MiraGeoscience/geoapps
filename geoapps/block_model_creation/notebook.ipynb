version https://git-lfs.github.com/spec/v1
oid sha256:2a8f68c15d375decb216d55f1fc1b7df8590502e538bb1eb0e8ddc1f58dbf6ea
size 2474

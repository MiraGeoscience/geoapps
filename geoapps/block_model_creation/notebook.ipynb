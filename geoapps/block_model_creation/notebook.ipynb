version https://git-lfs.github.com/spec/v1
oid sha256:6c8a4c7cfede578f925c23a515fd7fe7628f2b8723df6b68b58da50e0cfe9aeb
size 2385

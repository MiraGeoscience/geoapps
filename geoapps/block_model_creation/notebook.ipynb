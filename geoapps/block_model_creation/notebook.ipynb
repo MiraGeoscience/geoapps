version https://git-lfs.github.com/spec/v1
oid sha256:c2028a907664018d4230f1600ef9744ab4bb2b60e825edeb668cc6aa74cb1ab4
size 2268

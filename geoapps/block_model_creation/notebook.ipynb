version https://git-lfs.github.com/spec/v1
oid sha256:bf62784ad35c2683410be336b872ea2d9cb9b2ad2e11b12ba6a9ea4e1f2169cd
size 2368

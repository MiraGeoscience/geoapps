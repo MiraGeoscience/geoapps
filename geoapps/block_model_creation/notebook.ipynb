version https://git-lfs.github.com/spec/v1
oid sha256:bd87cafe5f6de26f2d0b01d7e365c17802c6864f179f2e05784d3dfd77f499e7
size 2243

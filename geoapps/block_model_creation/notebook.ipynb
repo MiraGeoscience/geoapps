version https://git-lfs.github.com/spec/v1
oid sha256:e1f973531d9a9d1676875ba548624d412a69ee110bdf00857b300f721dcc5774
size 2520

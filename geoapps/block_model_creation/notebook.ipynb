version https://git-lfs.github.com/spec/v1
oid sha256:a0b5d2eae5601dd0cebc277e9b701a359170dcdc2b8b1c9020ccf5085b3cc4f8
size 2342

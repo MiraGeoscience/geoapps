version https://git-lfs.github.com/spec/v1
oid sha256:bd3614c9b71e4d2782a1dd762494f570fe93184eb7b507f68e85d5e1dd4f3ebf
size 2852

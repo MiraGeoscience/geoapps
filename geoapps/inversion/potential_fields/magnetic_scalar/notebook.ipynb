version https://git-lfs.github.com/spec/v1
oid sha256:1a3aaf0843d571f52c915a5bea4a54d07c956d04eafe47f6e5735fe4e3a7cd01
size 2752

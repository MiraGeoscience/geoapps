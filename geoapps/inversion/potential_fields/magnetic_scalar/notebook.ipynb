version https://git-lfs.github.com/spec/v1
oid sha256:570e4e6eda5e43eb0a78f49d387bb747487655e08ac71dd16003ccef9004d00c
size 2773

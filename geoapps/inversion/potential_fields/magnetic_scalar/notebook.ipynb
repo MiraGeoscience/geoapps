version https://git-lfs.github.com/spec/v1
oid sha256:d628bb3c40fd8e5a9fbcbfb52d1726d952c9fd2a07220921b77eaabc05696a89
size 2738

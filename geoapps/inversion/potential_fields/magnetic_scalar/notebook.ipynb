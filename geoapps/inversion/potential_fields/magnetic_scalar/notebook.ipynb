version https://git-lfs.github.com/spec/v1
oid sha256:c617611a5d7052daf94b6c3f36b10e11d7da9ed7dcb8cc3c169a346780fca49c
size 3151

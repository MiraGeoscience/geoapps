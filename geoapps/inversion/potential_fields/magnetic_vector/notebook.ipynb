version https://git-lfs.github.com/spec/v1
oid sha256:52d836397a1de4e270f36ae3223cb1cb860270cc90ab5bcf376b8f3f73c338f9
size 2862

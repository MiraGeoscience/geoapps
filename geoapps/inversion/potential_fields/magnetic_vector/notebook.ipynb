version https://git-lfs.github.com/spec/v1
oid sha256:bc0344588b33aa9b0a4ed55bbeffe92f61286a3ac2896aab548e72483419efcd
size 2816

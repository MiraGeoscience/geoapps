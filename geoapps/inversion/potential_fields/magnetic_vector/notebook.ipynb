version https://git-lfs.github.com/spec/v1
oid sha256:5571bcb3c81da47be93708d86bd943b71feba5e668999e7db3f39e6d35707df1
size 3194

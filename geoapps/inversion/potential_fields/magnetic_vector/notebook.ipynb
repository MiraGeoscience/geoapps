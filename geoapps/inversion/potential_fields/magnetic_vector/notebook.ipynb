version https://git-lfs.github.com/spec/v1
oid sha256:ddb1b6d046cc4b7b4345f602e849e876f583b217b4135f28da7f6390c59f9566
size 2781

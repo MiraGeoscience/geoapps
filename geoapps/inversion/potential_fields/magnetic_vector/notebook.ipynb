version https://git-lfs.github.com/spec/v1
oid sha256:2e0618e98c168f5ea2f4f92caef01f9900fcc3c1686021cc6ca9421461d7e4f6
size 2782

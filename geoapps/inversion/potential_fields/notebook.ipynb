version https://git-lfs.github.com/spec/v1
oid sha256:c1663649d4c14708dad16d97f0f2e6dc484153d209d42cbbbf73ec6bf6e2f9af
size 2626

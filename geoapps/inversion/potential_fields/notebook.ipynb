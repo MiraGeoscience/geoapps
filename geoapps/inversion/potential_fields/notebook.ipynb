version https://git-lfs.github.com/spec/v1
oid sha256:3e98bbd25d7f51fd29c8a19ca79f263f6bd9c764eeb025acb0f5ece227c5e9d2
size 3064

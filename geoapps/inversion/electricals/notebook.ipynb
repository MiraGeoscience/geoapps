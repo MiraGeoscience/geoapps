{
 "cells": [
  {
   "cell_type": "markdown",
   "metadata": {},
   "source": [
    "# SimPEG DC&IP 3D Inversion\n",
    "\n",
    "<img align=\"right\" width=\"300px\" src=\"../../images/inversion_dcip_thumbnail.png\">\n",
    "\n",
    "This application provides an interface to the open-source [SimPEG](https://simpeg.xyz/) package for the inversion of direct-current (DC) and induced polarization (IP) data using a Laterally Constrained 1D approach. \n",
    "\n",
    " - Direct-current (potential) data inversion for the recovery of conductivity (S/m).\n",
    " - Apparent chargeability (V/V) data for the recovery of chargeability (SI).\n",
    "\n",
    "All inversion are performed on a 3D octree mesh.\n",
    "\n",
    "New user? Visit the [**Getting Started**](https://geoapps.readthedocs.io/en/latest/content/installation.html) page.\n",
    "\n",
    "[**Online Documentation**](https://geoapps.readthedocs.io/en/latest/content/applications/dcip_inversion.html)\n",
    "\n",
    "*Click on the cell below and press **Shift+Enter** to run the application*"
   ]
  },
  {
   "cell_type": "code",
   "execution_count": 2,
   "metadata": {
    "scrolled": false
   },
   "outputs": [
    {
     "data": {
      "application/vnd.jupyter.widget-view+json": {
       "model_id": "e485a58b95c443fdbe7a2753b0712336",
       "version_major": 2,
       "version_minor": 0
      },
      "text/plain": [
       "VBox(children=(VBox(children=(Label(value='Workspace', style=DescriptionStyle(description_width='initial')), H…"
      ]
     },
     "metadata": {},
     "output_type": "display_data"
    },
    {
     "name": "stderr",
     "output_type": "stream",
     "text": [
      "C:\\Users\\dominiquef\\Documents\\GIT\\mira\\geoh5py\\geoh5py\\workspace\\workspace.py:1043: UserWarning: Workspace already opened in mode r.\n",
      "  warnings.warn(f\"Workspace already opened in mode {self._geoh5.mode}.\")\n",
      "C:\\Users\\dominiquef\\Documents\\GIT\\mira\\geoh5py\\geoh5py\\ui_json\\input_file.py:247: UserWarning: Setting all member of group: Data window to enabled: True.\n",
      "  warnings.warn(\n"
     ]
    }
   ],
   "source": [
    "from geoapps.inversion.electricals.application import InversionApp\n",
    "\n",
    "# Start the inversion widget\n",
    "app = InversionApp()\n",
    "app()"
   ]
  },
  {
   "cell_type": "markdown",
   "metadata": {},
   "source": [
    "## Plot convergence curve\n",
    "\n",
    "Display the misfit and regularization as a function of iterations by changing the path to inversion workspace (`*.geoh5`)"
   ]
  },
  {
   "cell_type": "code",
   "execution_count": null,
   "metadata": {
    "scrolled": true
   },
   "outputs": [],
   "source": [
    "from geoapps.utils.plotting import plot_convergence_curve\n",
    "out = plot_convergence_curve(r\"..\\..\\..\\assets\\Temp\\DCInversion.geoh5\")\n",
    "display(out)"
   ]
  },
  {
   "cell_type": "markdown",
   "metadata": {},
   "source": [
    "Need help? Contact us at support@mirageoscience.com"
   ]
  }
 ],
 "metadata": {
  "kernelspec": {
   "display_name": "Python 3 (ipykernel)",
   "language": "python",
   "name": "python3"
  },
  "language_info": {
   "codemirror_mode": {
    "name": "ipython",
    "version": 3
   },
   "file_extension": ".py",
   "mimetype": "text/x-python",
   "name": "python",
   "nbconvert_exporter": "python",
   "pygments_lexer": "ipython3",
   "version": "3.9.13"
  }
 },
 "nbformat": 4,
 "nbformat_minor": 2
}

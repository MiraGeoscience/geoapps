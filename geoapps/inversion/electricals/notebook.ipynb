version https://git-lfs.github.com/spec/v1
oid sha256:e9986965d63f83b76821b8a4880920ff5ced051f21a6fcbb8cb9a3312c1eecd1
size 2763

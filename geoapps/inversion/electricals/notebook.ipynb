version https://git-lfs.github.com/spec/v1
oid sha256:4723195ab58deaeaa3394e056627985840e2449a3acc5773ff92b15583c0a7bb
size 2524

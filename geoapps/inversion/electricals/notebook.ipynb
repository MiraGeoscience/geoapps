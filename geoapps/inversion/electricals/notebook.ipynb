version https://git-lfs.github.com/spec/v1
oid sha256:8d27f0fa77c012564894194176cd21c6deb23360788ed75f4fc725426c08d0ab
size 2717

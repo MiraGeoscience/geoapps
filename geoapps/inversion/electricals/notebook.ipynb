version https://git-lfs.github.com/spec/v1
oid sha256:df859a219dcc039536087bd6d3386e30195c670fd87fdd0cc2314f2ec08a2e07
size 3474

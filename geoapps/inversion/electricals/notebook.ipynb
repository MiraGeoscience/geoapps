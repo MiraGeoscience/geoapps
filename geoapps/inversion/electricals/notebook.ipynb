version https://git-lfs.github.com/spec/v1
oid sha256:c7f0b8cc6017118000dd3e3a3a223e9d7a13d119d0327d00440b0e08bc58c1fc
size 2531

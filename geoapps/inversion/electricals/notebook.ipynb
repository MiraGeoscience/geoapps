{
 "cells": [
  {
   "cell_type": "markdown",
   "metadata": {},
   "source": [
    "# SimPEG DC&IP 3D Inversion\n",
    "\n",
    "<img align=\"right\" width=\"300px\" src=\"../../images/inversion_dcip_thumbnail.png\">\n",
    "\n",
    "This application provides an interface to the open-source [SimPEG](https://simpeg.xyz/) package for the inversion of direct-current (DC) and induced polarization (IP) data using a Laterally Constrained 1D approach. \n",
    "\n",
    " - Direct-current (potential) data inversion for the recovery of conductivity (S/m).\n",
    " - Apparent chargeability (V/V) data for the recovery of chargeability (SI).\n",
    "\n",
    "All inversion are performed on a 3D octree mesh.\n",
    "\n",
    "New user? Visit the [**Getting Started**](https://geoapps.readthedocs.io/en/latest/content/installation.html) page.\n",
    "\n",
    "[**Online Documentation**](https://geoapps.readthedocs.io/en/latest/content/applications/dcip_inversion.html)\n",
    "\n",
    "*Click on the cell below and press **Shift+Enter** to run the application*"
   ]
  },
  {
   "cell_type": "code",
   "execution_count": null,
   "metadata": {
    "scrolled": false
   },
   "outputs": [],
   "source": [
    "from geoapps.inversion.electricals.application import InversionApp\n",
    "\n",
    "# Start the inversion widget\n",
    "app = InversionApp()\n",
    "app()"
   ]
  },
  {
   "cell_type": "markdown",
   "metadata": {},
   "source": [
    "## Plot convergence curve\n",
    "\n",
    "Display the misfit and regularization as a function of iterations by changing the path to inversion workspace (`*.geoh5`)"
   ]
  },
  {
   "cell_type": "code",
   "execution_count": null,
   "metadata": {
    "scrolled": true
   },
   "outputs": [],
   "source": [
    "from geoapps.utils.plotting import plot_convergence_curve\n",
    "out = plot_convergence_curve(\"../../../assets/Temp/SimPEG.out\")\n",
    "display(out)"
   ]
  },
  {
   "cell_type": "markdown",
   "metadata": {},
   "source": [
    "Need help? Contact us at support@mirageoscience.com"
   ]
  }
 ],
 "metadata": {
  "kernelspec": {
   "display_name": "Python 3 (ipykernel)",
   "language": "python",
   "name": "python3"
  },
  "language_info": {
   "codemirror_mode": {
    "name": "ipython",
    "version": 3
   },
   "file_extension": ".py",
   "mimetype": "text/x-python",
   "name": "python",
   "nbconvert_exporter": "python",
   "pygments_lexer": "ipython3",
   "version": "3.10.8"
  }
 },
 "nbformat": 4,
 "nbformat_minor": 2
}

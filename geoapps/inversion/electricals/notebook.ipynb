version https://git-lfs.github.com/spec/v1
oid sha256:d129b207e06d6fea7387f8bc7b64e253c74ef24ebcab4e3c0a5a61940459413a
size 2519

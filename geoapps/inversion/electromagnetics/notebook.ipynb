version https://git-lfs.github.com/spec/v1
oid sha256:892a7dc4c74b71b17e3429872c7899ce1e4b02015a95a451ce67064aef0448a6
size 2620

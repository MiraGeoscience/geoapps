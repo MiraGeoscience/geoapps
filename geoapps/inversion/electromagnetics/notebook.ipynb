version https://git-lfs.github.com/spec/v1
oid sha256:7c7c4f44201b80c7a75f06bc6aa622d9ec9054715f44d26b42a614153e5bdcca
size 3109

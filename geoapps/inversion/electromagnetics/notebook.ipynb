version https://git-lfs.github.com/spec/v1
oid sha256:c86d9ca0ae35a9d714bc7a1337d4fd032340a5c0d04997da0eeaf3bb45b40953
size 2666

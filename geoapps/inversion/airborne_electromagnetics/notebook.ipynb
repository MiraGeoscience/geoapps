{
 "cells": [
  {
   "cell_type": "markdown",
   "metadata": {},
   "source": [
    "# SimPEG EM1D Inversion\n",
    "\n",
    "<img align=\"right\" width=\"300px\" src=\"../../images/inversion_em1d_thumbnail.png\">\n",
    "\n",
    "This application provides an interface to the open-source [SimPEG](https://simpeg.xyz/) package for the inversion of electromagnetic (EM) data using a Laterally Constrained 1D approach. \n",
    "\n",
    "- The application supports several known EM systems, for both frequency and time-domain. \n",
    "- Conductivity models (S/m) are stored along vertically draped surfaces. \n",
    "\n",
    "New user? Visit the [**Getting Started**](https://geoapps.readthedocs.io/en/latest/content/installation.html) page.\n",
    "\n",
    "[**Online Documentation**](https://geoapps.readthedocs.io/en/latest/content/applications/em1d_inversion.html)\n",
    "\n",
    "*Click on the cell below and press **Shift+Enter** to run the application*"
   ]
  },
  {
   "cell_type": "code",
   "execution_count": null,
   "metadata": {
    "scrolled": false
   },
   "outputs": [],
   "source": [
    "from geoapps.inversion.airborne_electromagnetics.application import InversionApp\n",
    "\n",
    "# Start the inversion widget\n",
    "app = InversionApp()\n",
    "app()"
   ]
  },
  {
   "cell_type": "markdown",
   "metadata": {},
   "source": [
    "## Plot convergence curve\n",
    "\n",
    "Display the misfit and regularization as a function of iterations by changing the path to inversion workspace (`*.geoh5`)"
   ]
  },
  {
   "cell_type": "code",
   "execution_count": 12,
   "metadata": {
    "scrolled": false
   },
   "outputs": [
    {
     "data": {
      "application/vnd.jupyter.widget-view+json": {
       "model_id": "70501cba97634a70a331a80b6f7f6194",
       "version_major": 2,
       "version_minor": 0
      },
      "text/plain": [
       "interactive(children=(Dropdown(description='inversion Group:', options=('EM1DInversion_v1',), value='EM1DInver…"
      ]
     },
     "metadata": {},
     "output_type": "display_data"
    }
   ],
   "source": [
    "from geoapps.inversion.airborne_electromagnetics.application import plot_convergence_curve\n",
    "\n",
    "out = plot_convergence_curve(r\"..\\..\\..\\assets\\Temp\\EM1DInversion_v1.geoh5\")\n",
    "display(out)"
   ]
  },
  {
   "cell_type": "markdown",
   "metadata": {},
   "source": [
    "Need help? Contact us at support@mirageoscience.com"
   ]
  }
 ],
 "metadata": {
  "kernelspec": {
   "display_name": "Python 3 (ipykernel)",
   "language": "python",
   "name": "python3"
  },
  "language_info": {
   "codemirror_mode": {
    "name": "ipython",
    "version": 3
   },
   "file_extension": ".py",
   "mimetype": "text/x-python",
   "name": "python",
   "nbconvert_exporter": "python",
   "pygments_lexer": "ipython3",
   "version": "3.9.13"
  }
 },
 "nbformat": 4,
 "nbformat_minor": 2
}

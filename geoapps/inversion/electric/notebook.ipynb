version https://git-lfs.github.com/spec/v1
oid sha256:6362fc3aa7de8f5288c20e013537e053edf116e190fd2a894fe074f37f82cd8a
size 2515

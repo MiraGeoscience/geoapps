version https://git-lfs.github.com/spec/v1
oid sha256:0219b9556ca2ea1a021114a247dac2214e2db00050a6f5271b06637a219c976d
size 84576

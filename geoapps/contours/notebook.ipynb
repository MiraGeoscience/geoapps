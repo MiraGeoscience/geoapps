version https://git-lfs.github.com/spec/v1
oid sha256:5b1e66863a6a48df566a5254a34fa4f3527e9bc5e59ecacf296228dc0fb832e8
size 84530

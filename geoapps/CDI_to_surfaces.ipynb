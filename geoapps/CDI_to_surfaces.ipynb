version https://git-lfs.github.com/spec/v1
oid sha256:d57724392710e1f880e1316a7730cdc72af101374a3964045a0bbcfd6d0b0d3b
size 1437

version https://git-lfs.github.com/spec/v1
oid sha256:a8ab366be86ff7cc501ff2506d010f56faed6db6166f29cfd6d4beb272ce0e12
size 2146

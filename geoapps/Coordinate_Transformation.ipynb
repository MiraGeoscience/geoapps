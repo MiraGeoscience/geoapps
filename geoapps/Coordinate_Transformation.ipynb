{
 "cells": [
  {
   "cell_type": "markdown",
   "metadata": {},
   "source": [
    "# Tutorial 3: Coordinate transformation with fiona\n",
    "With this application users can change the coordinate system of Geoscience ANALYST objects based on EPSG codes.\n",
    "The application relies on the [Fiona](https://pypi.org/project/Fiona/) open-source package. \n",
    "\n",
    " - We demonstrate the application on surface objects representing the Flin Flon deposit.\n",
    " - See **User Notes** (below) for instructions on how to use the application. \n",
    " "
   ]
  },
  {
   "cell_type": "code",
   "execution_count": 1,
   "metadata": {
    "scrolled": false
   },
   "outputs": [
    {
     "data": {
      "application/vnd.jupyter.widget-view+json": {
       "model_id": "23cdf6c0da7a4683a50b81ac67ff5e02",
       "version_major": 2,
       "version_minor": 0
      },
      "text/plain": [
       "interactive(children=(SelectMultiple(description='Object:', options=('fault_splay1', 'fault_Cliff_Lake', 'faul…"
      ]
     },
     "metadata": {},
     "output_type": "display_data"
    }
   ],
   "source": [
    "%matplotlib inline\n",
    "from shutil import copyfile\n",
    "from functions.processing import coordinate_transformation_widget\n",
    "\n",
    "my_h5file = r\"assets\\FlinFlon.geoh5\"\n",
    "# Lets create a working copy\n",
    "new_file = my_h5file[:-6] + \"_work.geoh5\"\n",
    "copyfile(my_h5file, new_file)\n",
    "\n",
    "# A simple app to select multiple objects and reproject\n",
    "selection = coordinate_transformation_widget(\n",
    "    new_file, plot=True,\n",
    ")\n",
    "display(selection)"
   ]
  },
  {
   "cell_type": "markdown",
   "metadata": {},
   "source": [
    "Select and transform objects\n",
    "-------\n",
    "\n",
    "This simple app will let you select multiple objects to be reprojected using standard EPSG code.\n",
    "\n",
    "A quick online search should return your input and output EPSG code.\n",
    "\n",
    "For this example, we want to go from NAD27 to NAD83 UTM Zone 10:\n",
    "\n",
    "- `NAD83, UTM Zone 10 N` => `26910`\n",
    "- `NAD27, UTM Zone 10 N` => `26710`\n"
   ]
  },
  {
   "cell_type": "markdown",
   "metadata": {},
   "source": [
    "Congratulation\n",
    "---------\n",
    "\n",
    "You have completed this tutorial. You now know how to transform coordinate systems."
   ]
  }
 ],
 "metadata": {
  "kernelspec": {
   "display_name": "Python 3",
   "language": "python",
   "name": "python3"
  },
  "language_info": {
   "codemirror_mode": {
    "name": "ipython",
    "version": 3
   },
   "file_extension": ".py",
   "mimetype": "text/x-python",
   "name": "python",
   "nbconvert_exporter": "python",
   "pygments_lexer": "ipython3",
   "version": "3.7.7"
  }
 },
 "nbformat": 4,
 "nbformat_minor": 2
}

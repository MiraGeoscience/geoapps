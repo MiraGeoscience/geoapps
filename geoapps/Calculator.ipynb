version https://git-lfs.github.com/spec/v1
oid sha256:ead524017d980a329c14034a0536ae0e9b0d5717cd9465eb5c32caa019b7c98b
size 1763

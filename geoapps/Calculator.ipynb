{
 "cells": [
  {
   "cell_type": "markdown",
   "metadata": {},
   "source": [
    "# Field calculator\n",
    "\n",
    "This application lets users create and change data fields associated with any object contained in the target Geoscience ANALYST project. The equation box can make use of any of the function supported by the [Numpy](https://numpy.org/doc/stable/reference/index.html) library as well as core python operations."
   ]
  },
  {
   "cell_type": "code",
   "execution_count": 1,
   "metadata": {
    "scrolled": false
   },
   "outputs": [
    {
     "data": {
      "application/vnd.jupyter.widget-view+json": {
       "model_id": "0957784769a146b6b3442762ac67f7bf",
       "version_major": 2,
       "version_minor": 0
      },
      "text/plain": [
       "VBox(children=(Dropdown(description='Object:', options=('TMI',), value='TMI'), HBox(children=(ToggleButton(val…"
      ]
     },
     "metadata": {},
     "output_type": "display_data"
    },
    {
     "name": "stdout",
     "output_type": "stream",
     "text": [
      "[8054.33105469 7397.9876709  7139.20715332 ... 4166.49932861 4031.97601318\n",
      " 3903.62609863]\n"
     ]
    }
   ],
   "source": [
    "from functions.processing import calculator\n",
    "\n",
    "h5file = r\"assets/MtDore_TMI.geoh5\"\n",
    "calculator(h5file)"
   ]
  }
 ],
 "metadata": {
  "kernelspec": {
   "display_name": "Python 3",
   "language": "python",
   "name": "python3"
  },
  "language_info": {
   "codemirror_mode": {
    "name": "ipython",
    "version": 3
   },
   "file_extension": ".py",
   "mimetype": "text/x-python",
   "name": "python",
   "nbconvert_exporter": "python",
   "pygments_lexer": "ipython3",
   "version": "3.7.6"
  }
 },
 "nbformat": 4,
 "nbformat_minor": 4
}

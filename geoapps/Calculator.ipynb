version https://git-lfs.github.com/spec/v1
oid sha256:a8ffe4a518883d06fe294f89454348daae239d91b53171d03c887da3d28e5f57
size 1849

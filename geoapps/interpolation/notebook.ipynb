version https://git-lfs.github.com/spec/v1
oid sha256:31651010a8623e055c8176c34f764c673056bc30db129da5e5175ac1ad513a65
size 1505

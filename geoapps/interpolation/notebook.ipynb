version https://git-lfs.github.com/spec/v1
oid sha256:4834e98c46a2624681043f42116df3a97699b736ee59ddc74031e8f20083ca38
size 1727

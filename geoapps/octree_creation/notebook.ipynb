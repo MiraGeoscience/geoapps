{
 "cells": [
  {
   "cell_type": "markdown",
   "id": "f63e71f9",
   "metadata": {},
   "source": [
    "# Octree Mesh Creation\n",
    "\n",
    " <img align=\"right\" width=\"400px\" src=\"../images/octree_mesh_creation.png\">\n",
    " \n",
    "This application lets user create an `Octree` mesh object from scratch with local refinement based on `Objects` stored in a `geoh5` file.\n",
    "\n",
    "New user? Visit the [**Getting Started**](https://geoapps.readthedocs.io/en/latest/content/installation.html) page.\n",
    "\n",
    "[**Online Documentation**](https://geoapps.readthedocs.io/en/latest/content/applications/octree_creation.html)\n",
    "\n",
    "*Click on the cell below and press **Shift+Enter** to run the application*\n"
   ]
  },
  {
   "cell_type": "code",
   "execution_count": 1,
   "id": "a0afe1e3",
   "metadata": {
    "scrolled": false
   },
   "outputs": [
    {
     "data": {
      "application/vnd.jupyter.widget-view+json": {
       "model_id": "e6605abdf2894670962a0b206329a3a2",
       "version_major": 2,
       "version_minor": 0
      },
      "text/plain": [
       "VBox(children=(VBox(children=(VBox(children=(Label(value='Workspace', style=DescriptionStyle(description_width…"
      ]
     },
     "metadata": {},
     "output_type": "display_data"
    },
    {
     "name": "stdout",
     "output_type": "stream",
     "text": [
      "Setting the mesh extent\n",
      "Applying Refinement A on: Data_FEM_pseudo3D\n",
      "Applying Refinement B on: Topography\n",
      "Finalizing . . .\n"
     ]
    }
   ],
   "source": [
    "from geoapps.octree_creation.application import OctreeMesh\n",
    "app = OctreeMesh()\n",
    "app()"
   ]
  },
  {
   "cell_type": "markdown",
   "id": "ed27570e",
   "metadata": {},
   "source": [
    "Need help? Contact us at support@mirageoscience.com"
   ]
  }
 ],
 "metadata": {
  "kernelspec": {
   "display_name": "Python 3 (ipykernel)",
   "language": "python",
   "name": "python3"
  },
  "language_info": {
   "codemirror_mode": {
    "name": "ipython",
    "version": 3
   },
   "file_extension": ".py",
   "mimetype": "text/x-python",
   "name": "python",
   "nbconvert_exporter": "python",
   "pygments_lexer": "ipython3",
   "version": "3.9.13"
  }
 },
 "nbformat": 4,
 "nbformat_minor": 5
}
